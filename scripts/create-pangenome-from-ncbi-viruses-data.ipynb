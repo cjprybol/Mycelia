{
 "cells": [
  {
   "cell_type": "code",
   "execution_count": null,
   "id": "13ee64af-0976-4f02-8482-6300571e7284",
   "metadata": {},
   "outputs": [],
   "source": [
    "import Pkg\n",
    "Pkg.update()\n",
    "\n",
    "pkgs = [\n",
    "    \"Revise\",\n",
    "    \"MetaGraphs\",\n",
    "    \"Graphs\",\n",
    "    \"JSON\",\n",
    "    \"uCSV\",\n",
    "    \"DataFrames\",\n",
    "    \"Dates\",\n",
    "    \"Primes\",\n",
    "    \"Kmers\",\n",
    "    \"BioSequences\",\n",
    "    \"FASTX\",\n",
    "    \"ProgressMeter\",\n",
    "    \"Random\",\n",
    "    \"StatsBase\"\n",
    "]\n",
    "\n",
    "Pkg.add(pkgs)\n",
    "for pkg in pkgs\n",
    "    eval(Meta.parse(\"import $pkg\"))\n",
    "end\n",
    "\n",
    "# Pkg.develop(path=\"$(homedir())/workspace/Mycelia\")\n",
    "import Mycelia"
   ]
  },
  {
   "cell_type": "code",
   "execution_count": null,
   "id": "92f92e84-19ab-47c6-ba60-e28b374bf5b1",
   "metadata": {
    "tags": [
     "parameters"
    ]
   },
   "outputs": [],
   "source": [
    "#papermill parameters\n",
    "base_directory = \"$(homedir())/workspace/sars-cov2-pangenome-analysis/\"\n",
    "sequences_directory = \"$(base_directory)/data/sequences\"\n",
    "metadata_file = \"$(base_directory)/metadata/sequences.csv\"\n",
    "working_directory = \"$(homedir())/workspace/scratch/$(Dates.today())\"\n",
    "datetime = replace(string(Dates.now()), r\"[\\-:.a-zA-Z]\" => \"\")"
   ]
  },
  {
   "cell_type": "code",
   "execution_count": null,
   "id": "4c733a8e-7ca8-4422-a12e-18e6de20faf3",
   "metadata": {},
   "outputs": [],
   "source": [
    "neo4j_username = \"neo4j\"\n",
    "\n",
    "# remote_neo4j_address = ENV[\"NEO4J_URL\"]\n",
    "# remote_neo4j_password = ENV[\"NEO4J_PASSWORD\"]\n",
    "local_neo4j_bolt_address = \"bolt://localhost:7687\"\n",
    "local_neo4j_http_address = \"neo4j://localhost:7474\"\n",
    "# local_neo4j_password = \"neo4j\"\n",
    "# local_neo4j_password = Random.randstring(7)\n",
    "local_neo4j_password = \"ii0sRIc\"\n",
    "\n",
    "neo4j_local_import_directory = \"/home/jovyan/.local/neo4j-community-4.4.11/import\""
   ]
  },
  {
   "cell_type": "code",
   "execution_count": null,
   "id": "d79110da-f08a-431b-ac8c-f5fc32640493",
   "metadata": {},
   "outputs": [],
   "source": [
    "NEO4J_PATH=\"/home/jovyan/.local/neo4j-community-4.4.11\""
   ]
  },
  {
   "cell_type": "code",
   "execution_count": null,
   "id": "297e4b47-c272-4899-a091-6fd823d20832",
   "metadata": {},
   "outputs": [],
   "source": [
    "run(`$(NEO4J_PATH)/bin/neo4j stop`)\n",
    "run(`$(NEO4J_PATH)/bin/neo4j start`)\n",
    "sleep(5)\n",
    "run(`$(NEO4J_PATH)/bin/neo4j status`)"
   ]
  },
  {
   "cell_type": "code",
   "execution_count": null,
   "id": "325f1db6-2ad0-41ad-b407-2d7dea0662f4",
   "metadata": {},
   "outputs": [],
   "source": [
    "# # # update password - only need to do this on initial setup\n",
    "# cmd = \"ALTER CURRENT USER SET PASSWORD FROM 'neo4j' TO '$(local_neo4j_password)'\"\n",
    "# run(Mycelia.cypher(cmd, address=local_neo4j_bolt_address, password=\"neo4j\", username=\"neo4j\", database=\"system\"))"
   ]
  },
  {
   "cell_type": "code",
   "execution_count": null,
   "id": "bc31b34b-2228-4112-ac1f-c12c5a16e817",
   "metadata": {},
   "outputs": [],
   "source": [
    "mkpath(working_directory)\n",
    "cd(working_directory)"
   ]
  },
  {
   "cell_type": "code",
   "execution_count": null,
   "id": "b596c7c3-c38a-4fa2-b134-bd16aef01418",
   "metadata": {},
   "outputs": [],
   "source": [
    "total_n = countlines(metadata_file)\n",
    "# f = metadata_file\n",
    "# n = 10^1 # complete\n",
    "# n = 10^2 # complete\n",
    "n = 10^4\n",
    "# n = 10^4\n",
    "# n = 10^5\n",
    "# n = 10^6\n",
    "# n = total_n - 1\n",
    "f = open(`head -n $(n+1) $metadata_file`)\n",
    "@time sequence_metadata = DataFrames.DataFrame(uCSV.read(f, quotes='\"', header=1, typedetectrows=100)...)"
   ]
  },
  {
   "cell_type": "code",
   "execution_count": null,
   "id": "e927172f-f5bd-4797-bbae-3801e0a739e3",
   "metadata": {},
   "outputs": [],
   "source": [
    "fastx_files = map(x -> \"$(sequences_directory)/$(x).fna\", sequence_metadata[!, \"Accession\"])"
   ]
  },
  {
   "cell_type": "code",
   "execution_count": null,
   "id": "4c1458a2-ffb7-4da8-97ca-d166d4d75d94",
   "metadata": {},
   "outputs": [],
   "source": [
    "graph = Mycelia.initialize_graph()\n",
    "graph = Mycelia.add_fastx_to_graph!(graph, fastx_files)\n",
    "graph = Mycelia.add_metadata_from_table!(graph, sequence_metadata, identifier_column = \"Accession\")"
   ]
  },
  {
   "cell_type": "code",
   "execution_count": null,
   "id": "0946f9a4-7dc3-427e-b67a-4d577330dd4e",
   "metadata": {},
   "outputs": [],
   "source": [
    "# check memory usage"
   ]
  },
  {
   "cell_type": "code",
   "execution_count": null,
   "id": "b3f9145c-e26b-4669-b7e3-847828a8f5ac",
   "metadata": {},
   "outputs": [],
   "source": [
    "# min_k = max_k = Mycelia.assess_dnamer_saturation(fastx_files)\n",
    "# min_k = max_k = 11\n",
    "# max_k = 31\n",
    "# min_k=17\n",
    "# max_k=17\n",
    "# min_k=max_k=31\n",
    "# kmer_sizes = Primes.primes(min_k, max_k)\n",
    "kmer_size = 11"
   ]
  },
  {
   "cell_type": "code",
   "execution_count": null,
   "id": "287a9329-88ac-4eba-b231-65f8263ca935",
   "metadata": {},
   "outputs": [],
   "source": [
    "# for kmer_size in kmer_sizes\n",
    "    # @show kmer_size\n",
    "@time Mycelia.add_fasta_record_kmers_to_graph!(graph, kmer_size)\n",
    "# end"
   ]
  },
  {
   "cell_type": "code",
   "execution_count": null,
   "id": "f2c26570-b7dd-4be7-8c8b-bd87cb530041",
   "metadata": {},
   "outputs": [],
   "source": [
    "# for kmer_size in kmer_sizes\n",
    "    # @show kmer_size\n",
    "@time Mycelia.graph_to_gfa(graph, kmer_size)\n",
    "# end"
   ]
  },
  {
   "cell_type": "code",
   "execution_count": null,
   "id": "849e57c7-3180-410f-92b1-d29d484010f6",
   "metadata": {},
   "outputs": [],
   "source": [
    "for gfa in filter(x -> occursin(r\"\\.gfa$\", x), readdir(working_directory, join=true))\n",
    "    @show gfa\n",
    "    for nodewidth in [100, 500, 1000]\n",
    "        gfa_img = \"$(gfa).$(nodewidth).jpg\"\n",
    "        if !isfile(gfa_img)\n",
    "            run(`Bandage image $gfa $gfa_img --deppower 1 --depwidth 1 --nodewidth $(nodewidth)`)\n",
    "        end\n",
    "    end\n",
    "end"
   ]
  },
  {
   "cell_type": "code",
   "execution_count": null,
   "id": "0ecb8670-e510-40ab-971d-3a32595ca2a3",
   "metadata": {},
   "outputs": [],
   "source": [
    "run(`$(NEO4J_PATH)/bin/neo4j stop`)\n",
    "run(`$(NEO4J_PATH)/bin/neo4j start`)\n",
    "sleep(3)\n",
    "run(`$(NEO4J_PATH)/bin/neo4j status`)"
   ]
  },
  {
   "cell_type": "code",
   "execution_count": null,
   "id": "56c045dd-e653-409d-8008-fd2ab480edae",
   "metadata": {},
   "outputs": [],
   "source": [
    "# Mycelia.list_databases(address=local_neo4j_bolt_address, password=local_neo4j_password)"
   ]
  },
  {
   "cell_type": "code",
   "execution_count": null,
   "id": "331ab9c2-bcee-4b58-b2a7-84aea130e4b9",
   "metadata": {},
   "outputs": [],
   "source": [
    "Mycelia.create_node_constraints(graph, address=local_neo4j_bolt_address, password=local_neo4j_password)"
   ]
  },
  {
   "cell_type": "code",
   "execution_count": null,
   "id": "e9e53adb-b450-4836-9005-9cb3a9340ce5",
   "metadata": {},
   "outputs": [],
   "source": [
    "run(Mycelia.cypher(\"MATCH (n) DETACH DELETE n\", address=local_neo4j_bolt_address, password=local_neo4j_password))\n",
    "run(Mycelia.cypher(\"MATCH (n) RETURN count(n) as count\", address=local_neo4j_bolt_address, password=local_neo4j_password))\n",
    "# run(Mycelia.cypher(\"MATCH (n) DETACH DELETE n\", address=local_neo4j_bolt_address, password=local_neo4j_password))"
   ]
  },
  {
   "cell_type": "code",
   "execution_count": null,
   "id": "9e857790-f8c2-498b-af2d-e69a44f15788",
   "metadata": {},
   "outputs": [],
   "source": [
    "Mycelia.upload_nodes_to_neo4j(graph=graph, address=local_neo4j_bolt_address, password=local_neo4j_password, neo4j_import_directory=neo4j_local_import_directory)"
   ]
  },
  {
   "cell_type": "code",
   "execution_count": null,
   "id": "f171b9d4-a4b0-47f2-8f2e-51828ffb72c1",
   "metadata": {},
   "outputs": [],
   "source": [
    "run(Mycelia.cypher(\"MATCH (n) RETURN count(n) as count\", address=local_neo4j_bolt_address, password=local_neo4j_password))"
   ]
  },
  {
   "cell_type": "code",
   "execution_count": null,
   "id": "5d3f07ed-4057-406c-9494-2d217f0ac048",
   "metadata": {},
   "outputs": [],
   "source": [
    "Graphs.nv(graph)"
   ]
  },
  {
   "cell_type": "code",
   "execution_count": null,
   "id": "5c7c701a-fef8-4048-8864-13634b2f0df1",
   "metadata": {},
   "outputs": [],
   "source": [
    "function upload_edges_to_neo4j(;graph, address, username=\"neo4j\", password, format=\"auto\", database=\"neo4j\", neo4j_import_directory)\n",
    "    \n",
    "    edge_types = unique(MetaGraphs.props(graph, e)[:TYPE] for e in Graphs.edges(graph))\n",
    "    for edge_type in edge_types\n",
    "        @info \"uploading edge_type => $(Mycelia.type_to_string(edge_type))...\"\n",
    "        edge_type_table = edge_type_to_dataframe(edge_type=edge_type, graph=graph)\n",
    "        upload_edge_table(table=edge_type_table, address=address, password=password, neo4j_import_dir=neo4j_import_directory)\n",
    "    end\n",
    "    @info \"done!\"\n",
    "end\n",
    "\n",
    "function edge_type_to_dataframe(;edge_type, graph)\n",
    "    edges = filter(e -> MetaGraphs.props(graph, e)[:TYPE] == edge_type, collect(Graphs.edges(graph)))\n",
    "    edge_type_parameters = unique(reduce(vcat, map(e -> collect(keys(MetaGraphs.props(graph, e))), edges)))\n",
    "    edge_type_table = DataFrames.DataFrame(Dict(p => [] for p in edge_type_parameters))\n",
    "    edge_type_table[!, \"src\"] = String[]\n",
    "    edge_type_table[!, \"dst\"] = String[]\n",
    "    for edge in edges\n",
    "        edge_dict = copy(MetaGraphs.props(graph, edge))\n",
    "        edge_dict[:src] = string(MetaGraphs.props(graph, edge.src)[:identifier])\n",
    "        edge_dict[:dst] = string(MetaGraphs.props(graph, edge.dst)[:identifier])\n",
    "        push!(edge_type_table, edge_dict)\n",
    "    end\n",
    "    # normalize\n",
    "    edge_type_table[!, \"TYPE\"] = Mycelia.type_to_string.(edge_type_table[!, \"TYPE\"])\n",
    "    for column in names(edge_type_table)\n",
    "        T = Union{unique(typeof.(edge_type_table[!, column]))...}\n",
    "        if T <: AbstractDict\n",
    "            edge_type_table[!, column] = map(d -> JSON.json(string(JSON.json(d))), edge_type_table[!, column])\n",
    "        else\n",
    "            edge_type_table[!, column] = JSON.json.(string.(edge_type_table[!, column]))\n",
    "        end\n",
    "    end\n",
    "    return edge_type_table\n",
    "end\n",
    "\n",
    "function upload_edge_table(;table, window_size=1000, address, password, username=\"neo4j\", database=\"neo4j\", neo4j_import_dir)\n",
    "    nrows = DataFrames.nrow(table)\n",
    "    windows = (i:min(i+window_size-1,nrows) for i in 1:window_size:nrows)\n",
    "    \n",
    "    edge_types = unique(table[!, \"TYPE\"])\n",
    "    @assert length(edge_types) == 1\n",
    "    EDGE_TYPE = first(edge_types)\n",
    "    parameters = [\"$(n): row.$(n)\" for n in filter(x -> !(x in [\"TYPE\"]), names(table))]\n",
    "    parameters = \"{\" * join(parameters, \", \") * \"}\"\n",
    "\n",
    "    ProgressMeter.@showprogress for (i, window) in enumerate(windows)\n",
    "        df_sub = table[window, :]\n",
    "        f = \"edge$i.tsv\"\n",
    "        local_f_path = \"$(neo4j_import_dir)/$(f)\"\n",
    "        uCSV.write(local_f_path, df_sub, delim='\\t')\n",
    "        run(`chmod 777 $(local_f_path)`)\n",
    "        f_url = \"file:///$(f)\"\n",
    "        cmd =\n",
    "        \"\"\"\n",
    "        LOAD CSV WITH HEADERS FROM '$(f_url)' AS row FIELDTERMINATOR '\\t'\n",
    "        MATCH (src {identifier: row.src})\n",
    "        MATCH (dst {identifier: row.dst})\n",
    "        CREATE (src)-[p:`$(EDGE_TYPE)` $(parameters)]->(dst)\n",
    "        \"\"\"\n",
    "        # had been merge above!\n",
    "        # create Progress:   2%|▊                                        |  ETA: 1:04:39\n",
    "        # merge Progress:   3%|█▍                                       |  ETA: 1:25:12\n",
    "        cmd = rstrip(replace(cmd, '\\n' => ' '))\n",
    "        cypher_cmd = Mycelia.cypher(cmd, address = address, username = username, password = password, database = database)\n",
    "        run(cypher_cmd)\n",
    "        # rm(local_f_path)\n",
    "    end\n",
    "end"
   ]
  },
  {
   "cell_type": "code",
   "execution_count": null,
   "id": "fbec7d1d-a5bd-4b87-a4ed-337a5c94568c",
   "metadata": {},
   "outputs": [],
   "source": [
    "upload_edges_to_neo4j(graph=graph, address=local_neo4j_bolt_address, password=local_neo4j_password, neo4j_import_directory=neo4j_local_import_directory)"
   ]
  },
  {
   "cell_type": "code",
   "execution_count": null,
   "id": "294ecc71-2797-418c-9e73-cd224ff91c09",
   "metadata": {},
   "outputs": [],
   "source": [
    "run(Mycelia.cypher(\"MATCH (n1)-[r]->(n2) return count(r)\", address=local_neo4j_bolt_address, password=local_neo4j_password))"
   ]
  },
  {
   "cell_type": "code",
   "execution_count": null,
   "id": "1012a090-72a0-4467-b710-67848b197947",
   "metadata": {},
   "outputs": [],
   "source": [
    "run(Mycelia.cypher(\"MATCH (n1)-[r]->(n2) return r LIMIT 5\", address=local_neo4j_bolt_address, password=local_neo4j_password))"
   ]
  },
  {
   "cell_type": "code",
   "execution_count": null,
   "id": "6b5f15fa-978d-4d61-bba4-af3dc7dca2a3",
   "metadata": {},
   "outputs": [],
   "source": [
    "Graphs.ne(graph)"
   ]
  },
  {
   "cell_type": "code",
   "execution_count": null,
   "id": "c1f3a5c4-09ca-41f3-88f6-89e457cf8fda",
   "metadata": {},
   "outputs": [],
   "source": [
    "\n",
    "neo4j_dump = \"$(working_directory)/neo4j-covid-database-$(n)-$(datetime).dump\""
   ]
  },
  {
   "cell_type": "code",
   "execution_count": null,
   "id": "2af62c3c-6445-4ada-b766-31bbfa1d2cbc",
   "metadata": {},
   "outputs": [],
   "source": [
    "run(`$(NEO4J_PATH)/bin/neo4j stop`)\n",
    "run(`$(NEO4J_PATH)/bin/neo4j-admin dump --database=neo4j --to=$(neo4j_dump)`)\n",
    "run(`$(NEO4J_PATH)/bin/neo4j start`)"
   ]
  },
  {
   "cell_type": "code",
   "execution_count": null,
   "id": "22cc3400-e6f4-491a-bbe5-cb484fdfcb84",
   "metadata": {},
   "outputs": [],
   "source": [
    "println(\"scp $(neo4j_dump) cameron@odin.lcfta.com:/mnt/coldstorage/neo4j/import/$(basename(neo4j_dump))\")"
   ]
  },
  {
   "cell_type": "markdown",
   "id": "c86a2789-ddab-47f9-bfea-3de931531321",
   "metadata": {},
   "source": [
    "```\n",
    "scp /home/jovyan/workspace/scratch/2022-10-29/neo4j-covid-database-11-20221029211438544.dump cameron@odin.lcfta.com:/mnt/coldstorage/neo4j/import/neo4j-covid-database-11-20221029211438544.dump\n",
    "\n",
    "scp /home/jovyan/workspace/scratch/2022-10-29/neo4j-covid-database-101-20221030135057320.dump cameron@odin.lcfta.com:/mnt/coldstorage/neo4j/import/neo4j-covid-database-101-20221030135057320.dump\n",
    "\n",
    "scp /home/jovyan/workspace/scratch/2022-10-29/neo4j-covid-database-1000-20221203204005977.dump cameron@odin.lcfta.com:/mnt/coldstorage/neo4j/import/neo4j-covid-database-1000-20221203204005977.dump\n",
    "```\n",
    "\n",
    "to reload new database\n",
    "- `scp local/path/to/db.dump cameron@odin.lcfta.com:/mnt/coldstorage/neo4j/import/db.dump`\n",
    "- `ssh cameron@odin.lcfta.com`\n",
    "- `sudo docker stop neo4j && sudo docker rm neo4j`\n",
    "- `sudo docker stop neo4jloader && sudo docker rm neo4jloader`\n",
    "- `sudo chmod -R 777 /mnt/coldstorage/neo4j && sudo bash /mnt/coldstorage/git/docker-neo4j/loaddb.sh /var/lib/neo4j/import/neo4j-covid-database-1000-20221203204005977.dump`\n",
    "- `cd /mnt/coldstorage/git/docker-neo4j && sudo ./reinit.sh`\n",
    "- `cd /mnt/coldstorage/git/docker-neo4j && sudo ./run.sh`\n",
    "\n",
    "get container ID\n",
    "- `sudo docker container ls`"
   ]
  },
  {
   "cell_type": "code",
   "execution_count": null,
   "id": "4487f189-e435-4e61-8806-9c5a481c9317",
   "metadata": {},
   "outputs": [],
   "source": []
  }
 ],
 "metadata": {
  "kernelspec": {
   "display_name": "Julia 1.6.3",
   "language": "julia",
   "name": "julia-1.6"
  },
  "language_info": {
   "file_extension": ".jl",
   "mimetype": "application/julia",
   "name": "julia",
   "version": "1.6.3"
  }
 },
 "nbformat": 4,
 "nbformat_minor": 5
}
