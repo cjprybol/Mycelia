{
 "cells": [
  {
   "cell_type": "markdown",
   "metadata": {},
   "source": [
    "## Objective\n",
    "\n",
    "Download wgs data from the hmp project"
   ]
  },
  {
   "cell_type": "markdown",
   "metadata": {},
   "source": [
    "## Materials, Methods, and Functions"
   ]
  },
  {
   "cell_type": "code",
   "execution_count": 47,
   "metadata": {
    "tags": [
     "parameters"
    ]
   },
   "outputs": [
    {
     "name": "stderr",
     "output_type": "stream",
     "text": [
      "┌ Info: define_parameters\n",
      "└ @ Main /workspaces/Mycelia/notebooks/scripts/02.download-hmp-wgs-data.ipynb:2\n"
     ]
    },
    {
     "data": {
      "text/plain": [
       "\"../../data/fastqs\""
      ]
     },
     "metadata": {},
     "output_type": "display_data"
    }
   ],
   "source": [
    "# default parameters\n",
    "@info \"define_parameters\"\n",
    "metadata_directory = \"../../metadata/hmp_wgs_fastq\"\n",
    "data_dir = \"../../data/fastqs\""
   ]
  },
  {
   "cell_type": "code",
   "execution_count": 48,
   "metadata": {},
   "outputs": [
    {
     "name": "stderr",
     "output_type": "stream",
     "text": [
      "┌ Info: initialize\n",
      "└ @ Main /workspaces/Mycelia/notebooks/scripts/02.download-hmp-wgs-data.ipynb:1\n"
     ]
    },
    {
     "data": {
      "text/plain": [
       "\"../../data/fastqs\""
      ]
     },
     "metadata": {},
     "output_type": "display_data"
    }
   ],
   "source": [
    "@info \"initialize\"\n",
    "mkpath(data_dir)"
   ]
  },
  {
   "cell_type": "code",
   "execution_count": 49,
   "metadata": {},
   "outputs": [
    {
     "name": "stderr",
     "output_type": "stream",
     "text": [
      "┌ Info: import libraries\n",
      "└ @ Main /workspaces/Mycelia/notebooks/scripts/02.download-hmp-wgs-data.ipynb:1\n"
     ]
    }
   ],
   "source": [
    "@info \"import libraries\"\n",
    "import Mycelia\n",
    "import DataFrames\n",
    "import uCSV\n",
    "import ProgressMeter"
   ]
  },
  {
   "cell_type": "code",
   "execution_count": 62,
   "metadata": {},
   "outputs": [
    {
     "name": "stderr",
     "output_type": "stream",
     "text": [
      "┌ Info: define functions\n",
      "└ @ Main /workspaces/Mycelia/notebooks/scripts/02.download-hmp-wgs-data.ipynb:1\n"
     ]
    },
    {
     "data": {
      "text/plain": [
       "download_and_untar_hmp_data (generic function with 1 method)"
      ]
     },
     "metadata": {},
     "output_type": "display_data"
    }
   ],
   "source": [
    "@info \"define functions\"\n",
    "function download_and_untar_hmp_data(tar_url)\n",
    "    local_path = joinpath(data_dir, basename(tar_url))\n",
    "    if !isfile(local_path)\n",
    "        download(tar_url, local_path)\n",
    "    end\n",
    "    untarred_local_path = replace(local_path, \".tar.bz2\" => \"\")\n",
    "    if !isfile(untarred_local_path)\n",
    "        run(`tar -xf $local_path`)\n",
    "    end\n",
    "end"
   ]
  },
  {
   "cell_type": "code",
   "execution_count": 50,
   "metadata": {},
   "outputs": [
    {
     "name": "stdout",
     "output_type": "stream",
     "text": [
      "\u001b[1m6228×5 DataFrame\u001b[0m\n",
      "\u001b[1m  Row \u001b[0m│\u001b[1m file_id                          \u001b[0m\u001b[1m md5                              \u001b[0m\u001b[1m size        \u001b[0m\u001b[1m urls                              \u001b[0m\u001b[1m sample_id                        \u001b[0m\n",
      "\u001b[1m      \u001b[0m│\u001b[90m String                           \u001b[0m\u001b[90m String                           \u001b[0m\u001b[90m String      \u001b[0m\u001b[90m String                            \u001b[0m\u001b[90m String                           \u001b[0m\n",
      "──────┼──────────────────────────────────────────────────────────────────────────────────────────────────────────────────────────────────────────────────────\n",
      "    1 │ 54a24ca84a57a7d5b06687939f76371f  16cffb012e01bdb97dfe36f66e7af26d  3244481532   https://downloads.hmpdacc.org/da…  faab18e1a137731cffda88256053e2dd\n",
      "    2 │ 54a24ca84a57a7d5b06687939f767d56  744a078665e03eb9eb829aeefb155602  29075030     https://downloads.hmpdacc.org/da…  faab18e1a137731cffda882560e6abcc\n",
      "    3 │ 54a24ca84a57a7d5b06687939f765102  a5021b05a43d479be53ac9fb13c12b92  721587657    https://downloads.hmpdacc.org/da…  faab18e1a137731cffda88256091281f\n",
      "    4 │ 54a24ca84a57a7d5b06687939f766713  35dcdd907561b4ad302dec01cc0cf811  836992262    https://downloads.hmpdacc.org/da…  faab18e1a137731cffda882560b5c6b1\n",
      "    5 │ 54a24ca84a57a7d5b06687939f761e06  8a88fac23e545f4239e0408728254747  643446701    https://downloads.hmpdacc.org/da…  faab18e1a137731cffda88256022eaae\n",
      "    6 │ 54a24ca84a57a7d5b06687939f7650e4  8c80d433cb5585f05543a5ed4689f6a4  716724650    https://downloads.hmpdacc.org/da…  faab18e1a137731cffda8825607332e5\n",
      "    7 │ 54a24ca84a57a7d5b06687939f7636fa  6e15843077e1321e49a80bdcbf937b9b  671494485    https://downloads.hmpdacc.org/da…  faab18e1a137731cffda882560428c3f\n",
      "    8 │ 54a24ca84a57a7d5b06687939f765ef3  555a7ea28f183cc41e9371050ddbc7d2  653176067    https://downloads.hmpdacc.org/da…  faab18e1a137731cffda882560b3374c\n",
      "  ⋮   │                ⋮                                 ⋮                       ⋮                       ⋮                                 ⋮\n",
      " 6222 │ 91319e642fdd8a6e3b059cfb0580229f  a0b74b94716c69f10159723917fa6f2d  30142130     https://downloads.hmpdacc.org/da…  3674d95cd0d27e1de94ddf4d2e47211f\n",
      " 6223 │ 91319e642fdd8a6e3b059cfb059176ed  a99f0f850eefe550ea87cc5bbce1d489  18449254     https://downloads.hmpdacc.org/da…  3674d95cd0d27e1de94ddf4d2e47a313\n",
      " 6224 │ 91319e642fdd8a6e3b059cfb05a04c5c  3f6de7a51b1623e0c246e9edd58fa1aa  25152419     https://downloads.hmpdacc.org/da…  e2559e04fcd73935a7d7b917908e9690\n",
      " 6225 │ 91319e642fdd8a6e3b059cfb058c1be1  d19d8a731a7d3d2e46918af34c00da5d  19471670130  https://downloads.hmpdacc.org/da…  3674d95cd0d27e1de94ddf4d2e9d5703\n",
      " 6226 │ 91319e642fdd8a6e3b059cfb05aba66a  7e39f369f8dddc3c88ffda6e42e86157  11727780733  https://downloads.hmpdacc.org/da…  3674d95cd0d27e1de94ddf4d2e9d8644\n",
      " 6227 │ 91319e642fdd8a6e3b059cfb05a010cf  4e8897606255870a62fe0ad8c8a98f1c  26243818     https://downloads.hmpdacc.org/da…  e2559e04fcd73935a7d7b917908e8335\n",
      " 6228 │ 91319e642fdd8a6e3b059cfb059f1ad5  1aee156d503097256e5f5c0f0a155078  27088268     https://downloads.hmpdacc.org/da…  e2559e04fcd73935a7d7b917902f3b09\n",
      "\u001b[36m                                                                                                                                            6213 rows omitted\u001b[0m"
     ]
    }
   ],
   "source": [
    "manifest_file = first(filter(x -> occursin(\"hmp_manifest\", x) && !occursin(\"metadata\", x), readdir(metadata_directory)))\n",
    "manifest_table = DataFrames.DataFrame(uCSV.read(joinpath(metadata_directory, manifest_file), delim='\\t', header=1, typedetectrows=100)...)\n",
    "filtered_manifest_table = manifest_table[map(x -> !occursin(r\"private\"i, x), manifest_table[!, \"urls\"]), :]\n",
    "show(filtered_manifest_table, allcols=true)"
   ]
  },
  {
   "cell_type": "code",
   "execution_count": 51,
   "metadata": {},
   "outputs": [
    {
     "name": "stdout",
     "output_type": "stream",
     "text": [
      "\u001b[1m7355×9 DataFrame\u001b[0m\n",
      "\u001b[1m  Row \u001b[0m│\u001b[1m sample_id                        \u001b[0m\u001b[1m subject_id \u001b[0m\u001b[1m subject_uuid                     \u001b[0m\u001b[1m sample_body_site       \u001b[0m\u001b[1m visit_number \u001b[0m\u001b[1m subject_gender \u001b[0m\u001b[1m subject_race \u001b[0m\u001b[1m study_full_name                   \u001b[0m\u001b[1m project_name                      \u001b[0m\n",
      "\u001b[1m      \u001b[0m│\u001b[90m String                           \u001b[0m\u001b[90m String     \u001b[0m\u001b[90m String                           \u001b[0m\u001b[90m String                 \u001b[0m\u001b[90m Int64        \u001b[0m\u001b[90m String         \u001b[0m\u001b[90m String       \u001b[0m\u001b[90m String                            \u001b[0m\u001b[90m String                            \u001b[0m\n",
      "──────┼──────────────────────────────────────────────────────────────────────────────────────────────────────────────────────────────────────────────────────────────────────────────────────────────────────────────────────────\n",
      "    1 │ 634416dfd8b630dcc6bba6aec4ac19c7  ZK112BX     88af6472fb03642dd5eaf8cddc379db4  feces                             12  female          asian         prediabetes                        Integrative Human Microbiome Pro…\n",
      "    2 │ 634416dfd8b630dcc6bba6aec4a40bdd  ZWFDEY0     88af6472fb03642dd5eaf8cddc372711  feces                              2  female          asian         prediabetes                        Integrative Human Microbiome Pro…\n",
      "    3 │ 634416dfd8b630dcc6bba6aec4a3e4d4  ZNQOVZV     88af6472fb03642dd5eaf8cddc366f04  nasal cavity                       4  unknown         ethnic_other  prediabetes                        Integrative Human Microbiome Pro…\n",
      "    4 │ 634416dfd8b630dcc6bba6aec4a56059  ZK112BX     88af6472fb03642dd5eaf8cddc379db4  nasal cavity                      10  female          asian         prediabetes                        Integrative Human Microbiome Pro…\n",
      "    5 │ 634416dfd8b630dcc6bba6aec4a58c7c  ZK112BX     88af6472fb03642dd5eaf8cddc379db4  nasal cavity                      14  female          asian         prediabetes                        Integrative Human Microbiome Pro…\n",
      "    6 │ 76612bd9a41885add4f6b0b768b810f3  EP569649    76612bd9a41885add4f6b0b768426747  vagina                             3  female          None          momspi                             Integrative Human Microbiome Pro…\n",
      "    7 │ e50d0c183689e4053ccb35f8b2e10c14  EP196783    e50d0c183689e4053ccb35f8b29e2b95  vagina                             2  female          None          momspi                             Integrative Human Microbiome Pro…\n",
      "    8 │ 76612bd9a41885add4f6b0b768d11370  EP891541    76612bd9a41885add4f6b0b768434b5e  vagina                             1  female          None          momspi                             Integrative Human Microbiome Pro…\n",
      "  ⋮   │                ⋮                      ⋮                      ⋮                            ⋮                  ⋮              ⋮              ⋮                        ⋮                                  ⋮\n",
      " 7349 │ 3674d95cd0d27e1de94ddf4d2e47211f  9139        6788b769d0b62444378462474dba7389  nasopharynx                        1  female          unknown       The Human Virome in Children And…  Human Microbiome Project (HMP)\n",
      " 7350 │ 3674d95cd0d27e1de94ddf4d2e47a313  9085        6788b769d0b62444378462474dbb03d5  nasopharynx                        1  female          unknown       The Human Virome in Children And…  Human Microbiome Project (HMP)\n",
      " 7351 │ e2559e04fcd73935a7d7b917908e9690  9022        6788b769d0b62444378462474da6e294  blood cell                         1  female          unknown       The Human Virome in Children And…  Human Microbiome Project (HMP)\n",
      " 7352 │ 3674d95cd0d27e1de94ddf4d2e9d5703  134         6788b769d0b62444378462474d9f46c7  gastrointestinal tract             1  male            unknown       Foregut Microbiome in Developmen…  Human Microbiome Project (HMP)\n",
      " 7353 │ 3674d95cd0d27e1de94ddf4d2e9d8644  208         6788b769d0b62444378462474dc7be8b  gastrointestinal tract             1  female          unknown       Foregut Microbiome in Developmen…  Human Microbiome Project (HMP)\n",
      " 7354 │ e2559e04fcd73935a7d7b917908e8335  9094        6788b769d0b62444378462474dbb364c  nasopharynx                        1  male            unknown       The Human Virome in Children And…  Human Microbiome Project (HMP)\n",
      " 7355 │ e2559e04fcd73935a7d7b917902f3b09  9157        6788b769d0b62444378462474dafbb51  nasopharynx                        1  female          unknown       The Human Virome in Children And…  Human Microbiome Project (HMP)\n",
      "\u001b[36m                                                                                                                                                                                                                7340 rows omitted\u001b[0m"
     ]
    }
   ],
   "source": [
    "manifest_metadata_file = first(filter(x -> occursin(\"hmp_manifest_metadata\", x), readdir(metadata_directory)))\n",
    "manifest_metadata_table = DataFrames.DataFrame(uCSV.read(joinpath(metadata_directory, manifest_metadata_file), delim='\\t', header=1, typedetectrows=100)...)\n",
    "show(manifest_metadata_table, allcols=true)"
   ]
  },
  {
   "cell_type": "code",
   "execution_count": 52,
   "metadata": {},
   "outputs": [
    {
     "name": "stdout",
     "output_type": "stream",
     "text": [
      "\u001b[1m6228×13 DataFrame\u001b[0m\n",
      "\u001b[1m  Row \u001b[0m│\u001b[1m sample_id                        \u001b[0m\u001b[1m subject_id \u001b[0m\u001b[1m subject_uuid                     \u001b[0m\u001b[1m sample_body_site           \u001b[0m\u001b[1m visit_number \u001b[0m\u001b[1m subject_gender \u001b[0m\u001b[1m subject_race \u001b[0m\u001b[1m study_full_name                   \u001b[0m\u001b[1m project_name                   \u001b[0m\u001b[1m file_id                          \u001b[0m\u001b[1m md5                              \u001b[0m\u001b[1m size        \u001b[0m\u001b[1m urls                              \u001b[0m\n",
      "\u001b[1m      \u001b[0m│\u001b[90m String                           \u001b[0m\u001b[90m String     \u001b[0m\u001b[90m String                           \u001b[0m\u001b[90m String                     \u001b[0m\u001b[90m Int64        \u001b[0m\u001b[90m String         \u001b[0m\u001b[90m String       \u001b[0m\u001b[90m String                            \u001b[0m\u001b[90m String                         \u001b[0m\u001b[90m String                           \u001b[0m\u001b[90m String                           \u001b[0m\u001b[90m String      \u001b[0m\u001b[90m String                            \u001b[0m\n",
      "──────┼───────────────────────────────────────────────────────────────────────────────────────────────────────────────────────────────────────────────────────────────────────────────────────────────────────────────────────────────────────────────────────────────────────────────────────────────────────────────────────────────────────────────\n",
      "    1 │ faab18e1a137731cffda88256053e2dd  763961826   faab18e1a137731cffda882560070241  feces                                  2  male            None          Healthy Human Subjects             Human Microbiome Project (HMP)  54a24ca84a57a7d5b06687939f76371f  16cffb012e01bdb97dfe36f66e7af26d  3244481532   https://downloads.hmpdacc.org/da…\n",
      "    2 │ faab18e1a137731cffda88256053e2dd  763961826   faab18e1a137731cffda882560070241  feces                                  2  male            None          Healthy Human Subjects             Human Microbiome Project (HMP)  596fc2de57601ec08a01fdee59c4e5b7  1d01710f354e185b7045a866d1357378  2975326243   https://downloads.hmpdacc.org/da…\n",
      "    3 │ faab18e1a137731cffda88256053e2dd  763961826   faab18e1a137731cffda882560070241  feces                                  2  male            None          Healthy Human Subjects             Human Microbiome Project (HMP)  596fc2de57601ec08a01fdee59c4b880  4ddf43da50f22fe84131a9b05a42c6cc  5885270500   https://downloads.hmpdacc.org/da…\n",
      "    4 │ faab18e1a137731cffda88256053e2dd  763961826   faab18e1a137731cffda882560070241  feces                                  2  male            None          Healthy Human Subjects             Human Microbiome Project (HMP)  596fc2de57601ec08a01fdee59a65e12  4ddf43da50f22fe84131a9b05a42c6cc  32844167     https://downloads.hmpdacc.org/da…\n",
      "    5 │ faab18e1a137731cffda882560e6abcc  159227541   faab18e1a137731cffda882560013829  posterior fornix of vagina             3  female          None          Healthy Human Subjects             Human Microbiome Project (HMP)  54a24ca84a57a7d5b06687939f767d56  744a078665e03eb9eb829aeefb155602  29075030     https://downloads.hmpdacc.org/da…\n",
      "    6 │ faab18e1a137731cffda882560e6abcc  159227541   faab18e1a137731cffda882560013829  posterior fornix of vagina             3  female          None          Healthy Human Subjects             Human Microbiome Project (HMP)  596fc2de57601ec08a01fdee59e4e0f0  496cb175219f84ef531d1496e78d1b94  98967836     https://downloads.hmpdacc.org/da…\n",
      "    7 │ faab18e1a137731cffda882560e6abcc  159227541   faab18e1a137731cffda882560013829  posterior fornix of vagina             3  female          None          Healthy Human Subjects             Human Microbiome Project (HMP)  596fc2de57601ec08a01fdee59e4f80e  06f51d80bdc7a179ed9fed7d8349d7f8  381453010    https://downloads.hmpdacc.org/da…\n",
      "    8 │ faab18e1a137731cffda88256091281f  763820215   faab18e1a137731cffda88256006d6b3  feces                                  2  female          None          Healthy Human Subjects             Human Microbiome Project (HMP)  54a24ca84a57a7d5b06687939f765102  a5021b05a43d479be53ac9fb13c12b92  721587657    https://downloads.hmpdacc.org/da…\n",
      "  ⋮   │                ⋮                      ⋮                      ⋮                              ⋮                    ⋮              ⋮              ⋮                        ⋮                                ⋮                                ⋮                                 ⋮                       ⋮                       ⋮\n",
      " 6222 │ e2559e04fcd73935a7d7b917908e8bcd  9168        6788b769d0b62444378462474d9d1723  nasopharynx                            1  female          unknown       The Human Virome in Children And…  Human Microbiome Project (HMP)  91319e642fdd8a6e3b059cfb058b234f  71c68b32e425087cb527efb02aba972c  18411665     https://downloads.hmpdacc.org/da…\n",
      " 6223 │ 3674d95cd0d27e1de94ddf4d2e47211f  9139        6788b769d0b62444378462474dba7389  nasopharynx                            1  female          unknown       The Human Virome in Children And…  Human Microbiome Project (HMP)  91319e642fdd8a6e3b059cfb0580229f  a0b74b94716c69f10159723917fa6f2d  30142130     https://downloads.hmpdacc.org/da…\n",
      " 6224 │ 3674d95cd0d27e1de94ddf4d2e47a313  9085        6788b769d0b62444378462474dbb03d5  nasopharynx                            1  female          unknown       The Human Virome in Children And…  Human Microbiome Project (HMP)  91319e642fdd8a6e3b059cfb059176ed  a99f0f850eefe550ea87cc5bbce1d489  18449254     https://downloads.hmpdacc.org/da…\n",
      " 6225 │ e2559e04fcd73935a7d7b917908e9690  9022        6788b769d0b62444378462474da6e294  blood cell                             1  female          unknown       The Human Virome in Children And…  Human Microbiome Project (HMP)  91319e642fdd8a6e3b059cfb05a04c5c  3f6de7a51b1623e0c246e9edd58fa1aa  25152419     https://downloads.hmpdacc.org/da…\n",
      " 6226 │ 3674d95cd0d27e1de94ddf4d2e9d5703  134         6788b769d0b62444378462474d9f46c7  gastrointestinal tract                 1  male            unknown       Foregut Microbiome in Developmen…  Human Microbiome Project (HMP)  91319e642fdd8a6e3b059cfb058c1be1  d19d8a731a7d3d2e46918af34c00da5d  19471670130  https://downloads.hmpdacc.org/da…\n",
      " 6227 │ e2559e04fcd73935a7d7b917908e8335  9094        6788b769d0b62444378462474dbb364c  nasopharynx                            1  male            unknown       The Human Virome in Children And…  Human Microbiome Project (HMP)  91319e642fdd8a6e3b059cfb05a010cf  4e8897606255870a62fe0ad8c8a98f1c  26243818     https://downloads.hmpdacc.org/da…\n",
      " 6228 │ e2559e04fcd73935a7d7b917902f3b09  9157        6788b769d0b62444378462474dafbb51  nasopharynx                            1  female          unknown       The Human Virome in Children And…  Human Microbiome Project (HMP)  91319e642fdd8a6e3b059cfb059f1ad5  1aee156d503097256e5f5c0f0a155078  27088268     https://downloads.hmpdacc.org/da…\n",
      "\u001b[36m                                                                                                                                                                                                                                                                                                                                     6213 rows omitted\u001b[0m"
     ]
    }
   ],
   "source": [
    "joint_manifest_table = unique(DataFrames.innerjoin(manifest_metadata_table, filtered_manifest_table, on=\"sample_id\"))\n",
    "show(joint_manifest_table, allcols=true)"
   ]
  },
  {
   "cell_type": "code",
   "execution_count": 59,
   "metadata": {},
   "outputs": [
    {
     "data": {
      "text/plain": [
       "6228-element Vector{String}:\n",
       " \"https://downloads.hmpdacc.org/d\" ⋯ 43 bytes ⋯ \"sm/v1/454/SRS019030_454.tar.bz2\"\n",
       " \"https://downloads.hmpdacc.org/d\" ⋯ 36 bytes ⋯ \"is/hmwgsqc/v2/SRS019062.tar.bz2\"\n",
       " \"https://downloads.hmpdacc.org/d\" ⋯ 36 bytes ⋯ \"is/hmwgsqc/v2/SRS019030.tar.bz2\"\n",
       " \"https://downloads.hmpdacc.org/d\" ⋯ 36 bytes ⋯ \"is/hmwgsqc/v1/SRS019030.tar.bz2\"\n",
       " \"https://downloads.hmpdacc.org/d\" ⋯ 43 bytes ⋯ \"sm/v1/454/SRS078197_454.tar.bz2\"\n",
       " \"https://downloads.hmpdacc.org/d\" ⋯ 36 bytes ⋯ \"is/hmwgsqc/v2/SRS078197.tar.bz2\"\n",
       " \"https://downloads.hmpdacc.org/d\" ⋯ 36 bytes ⋯ \"is/hmwgsqc/v2/SRS078241.tar.bz2\"\n",
       " \"https://downloads.hmpdacc.org/d\" ⋯ 43 bytes ⋯ \"sm/v1/454/SRS058723_454.tar.bz2\"\n",
       " \"https://downloads.hmpdacc.org/d\" ⋯ 36 bytes ⋯ \"is/hmwgsqc/v2/SRS047069.tar.bz2\"\n",
       " \"https://downloads.hmpdacc.org/d\" ⋯ 36 bytes ⋯ \"is/hmwgsqc/v2/SRS058723.tar.bz2\"\n",
       " ⋮\n",
       " \"https://downloads.hmpdacc.org/d\" ⋯ 41 bytes ⋯ \"/not_affected/SRS072422.tar.bz2\"\n",
       " \"https://downloads.hmpdacc.org/d\" ⋯ 37 bytes ⋯ \"rynx/affected/SRS072355.tar.bz2\"\n",
       " \"https://downloads.hmpdacc.org/d\" ⋯ 41 bytes ⋯ \"/not_affected/SRS072365.tar.bz2\"\n",
       " \"https://downloads.hmpdacc.org/d\" ⋯ 37 bytes ⋯ \"rynx/affected/SRS072273.tar.bz2\"\n",
       " \"https://downloads.hmpdacc.org/d\" ⋯ 41 bytes ⋯ \"/not_affected/SRS072225.tar.bz2\"\n",
       " \"https://downloads.hmpdacc.org/d\" ⋯ 32 bytes ⋯ \"asma/affected/SRS072251.tar.bz2\"\n",
       " \"https://downloads.hmpdacc.org/d\" ⋯ 25 bytes ⋯ \"2468/affected/SRS260330.tar.bz2\"\n",
       " \"https://downloads.hmpdacc.org/d\" ⋯ 41 bytes ⋯ \"/not_affected/SRS072360.tar.bz2\"\n",
       " \"https://downloads.hmpdacc.org/d\" ⋯ 37 bytes ⋯ \"rynx/affected/SRS072186.tar.bz2\""
      ]
     },
     "metadata": {},
     "output_type": "display_data"
    }
   ],
   "source": [
    "tar_urls = string.(first.(split.(joint_manifest_table[!, \"urls\"], \",\")))"
   ]
  },
  {
   "cell_type": "code",
   "execution_count": 63,
   "metadata": {},
   "outputs": [],
   "source": [
    "for tar_url in tar_urls[1:10]\n",
    "    download_and_untar_hmp_data(tar_url)\n",
    "end"
   ]
  },
  {
   "cell_type": "code",
   "execution_count": 54,
   "metadata": {},
   "outputs": [
    {
     "data": {
      "text/plain": [
       "\"../../data/fastqs/SRS019030_454.tar.bz2\""
      ]
     },
     "metadata": {},
     "output_type": "display_data"
    }
   ],
   "source": []
  },
  {
   "cell_type": "code",
   "execution_count": null,
   "metadata": {},
   "outputs": [],
   "source": []
  },
  {
   "cell_type": "markdown",
   "metadata": {},
   "source": [
    "## Experimental/Simulated Observations\n",
    "\n",
    "N/A"
   ]
  },
  {
   "cell_type": "markdown",
   "metadata": {},
   "source": [
    "## Analysis, Statistics, and Visualizations\n",
    "\n",
    "N/A"
   ]
  },
  {
   "cell_type": "markdown",
   "metadata": {},
   "source": [
    "## Summary of Results\n",
    "\n",
    "N/A"
   ]
  },
  {
   "cell_type": "markdown",
   "metadata": {},
   "source": [
    "## Conclusions and Future Directions\n",
    "\n",
    "N/A"
   ]
  }
 ],
 "metadata": {
  "kernelspec": {
   "display_name": "Julia 1.6.3",
   "language": "julia",
   "name": "julia-1.6"
  },
  "language_info": {
   "file_extension": ".jl",
   "mimetype": "application/julia",
   "name": "julia",
   "version": "1.6.3"
  }
 },
 "nbformat": 4,
 "nbformat_minor": 4
}
