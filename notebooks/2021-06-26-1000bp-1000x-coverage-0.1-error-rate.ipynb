{
 "cells": [
  {
   "cell_type": "code",
   "execution_count": 1,
   "metadata": {},
   "outputs": [
    {
     "data": {
      "text/plain": [
       "\"/Users/cameronprybol/2021-06-26-1000bp-1000x-coverage-0.1-error-rate\""
      ]
     },
     "execution_count": 1,
     "metadata": {},
     "output_type": "execute_result"
    }
   ],
   "source": [
    "DATE = \"2021-06-26\"\n",
    "TASK = \"1000bp-1000x-coverage-0.1-error-rate\"\n",
    "DIR = \"$(DATE)-$(TASK)\"\n",
    "DIR = mkpath(\"$(homedir())/$(DIR)\")"
   ]
  },
  {
   "cell_type": "code",
   "execution_count": 2,
   "metadata": {},
   "outputs": [
    {
     "data": {
      "text/plain": [
       "plot_kmer_frequency_spectra (generic function with 1 method)"
      ]
     },
     "execution_count": 2,
     "metadata": {},
     "output_type": "execute_result"
    }
   ],
   "source": [
    "function plot_kmer_frequency_spectra(counts; log_scaled = true, kwargs...)\n",
    "    kmer_counts_hist = StatsBase.countmap(c for c in counts)\n",
    "    xs = collect(keys(kmer_counts_hist))\n",
    "    ys = collect(values(kmer_counts_hist))\n",
    "    if log_scaled\n",
    "        xs = log.(xs)\n",
    "        ys = log.(ys)\n",
    "    end\n",
    "    \n",
    "    StatsPlots.plot(\n",
    "        xs,\n",
    "        ys,\n",
    "        xlims = (0, maximum(xs) + max(1, ceil(0.1 * maximum(xs)))),\n",
    "        ylims = (0, maximum(ys) + max(1, ceil(0.1 * maximum(ys)))),\n",
    "        seriestype = :scatter,\n",
    "        legend = false,\n",
    "        xlabel = log_scaled ? \"log(observed frequency)\" : \"observed frequency\",\n",
    "        ylabel = log_scaled ? \"log(# of kmers)\" : \"observed frequency\",\n",
    "        ;kwargs...\n",
    "    )\n",
    "end"
   ]
  },
  {
   "cell_type": "code",
   "execution_count": 3,
   "metadata": {},
   "outputs": [
    {
     "name": "stdout",
     "output_type": "stream",
     "text": [
      "    \u001b[36m\u001b[1mFetching:\u001b[22m\u001b[39m [========================================>]  100.0 %36m\u001b[1mFetching:\u001b[22m\u001b[39m [=>                                       ]  0.7 %\u001b[36m\u001b[1mFetching:\u001b[22m\u001b[39m [=>                                       ]  1.3 %\u001b[36m\u001b[1mFetching:\u001b[22m\u001b[39m [=>                                       ]  1.9 %\u001b[36m\u001b[1mFetching:\u001b[22m\u001b[39m [==>                                      ]  2.5 %\u001b[36m\u001b[1mFetching:\u001b[22m\u001b[39m [==>                                      ]  3.1 %\u001b[36m\u001b[1mFetching:\u001b[22m\u001b[39m [==>                                      ]  3.7 %\u001b[36m\u001b[1mFetching:\u001b[22m\u001b[39m [==>                                      ]  4.3 %\u001b[36m\u001b[1mFetching:\u001b[22m\u001b[39m [==>                                      ]  4.9 %\u001b[36m\u001b[1mFetching:\u001b[22m\u001b[39m [===>                                     ]  5.3 %\u001b[36m\u001b[1mFetching:\u001b[22m\u001b[39m [===>                                     ]  5.9 %\u001b[36m\u001b[1mFetching:\u001b[22m\u001b[39m [===>                                     ]  6.5 %\u001b[36m\u001b[1mFetching:\u001b[22m\u001b[39m [===>                                     ]  6.7 %\u001b[36m\u001b[1mFetching:\u001b[22m\u001b[39m [===>                                     ]  6.9 %\u001b[36m\u001b[1mFetching:\u001b[22m\u001b[39m [===>                                     ]  7.1 %\u001b[36m\u001b[1mFetching:\u001b[22m\u001b[39m [===>                                     ]  7.3 %\u001b[36m\u001b[1mFetching:\u001b[22m\u001b[39m [====>                                    ]  7.5 %\u001b[36m\u001b[1mFetching:\u001b[22m\u001b[39m [====>                                    ]  7.7 %\u001b[36m\u001b[1mFetching:\u001b[22m\u001b[39m [====>                                    ]  7.9 %\u001b[36m\u001b[1mFetching:\u001b[22m\u001b[39m [====>                                    ]  8.1 %\u001b[36m\u001b[1mFetching:\u001b[22m\u001b[39m [====>                                    ]  8.9 %\u001b[36m\u001b[1mFetching:\u001b[22m\u001b[39m [====>                                    ]  9.5 %\u001b[36m\u001b[1mFetching:\u001b[22m\u001b[39m [=====>                                   ]  10.1 %\u001b[36m\u001b[1mFetching:\u001b[22m\u001b[39m [=====>                                   ]  10.7 %\u001b[36m\u001b[1mFetching:\u001b[22m\u001b[39m [=====>                                   ]  11.3 %\u001b[36m\u001b[1mFetching:\u001b[22m\u001b[39m [=====>                                   ]  11.9 %\u001b[36m\u001b[1mFetching:\u001b[22m\u001b[39m [======>                                  ]  12.5 %\u001b[36m\u001b[1mFetching:\u001b[22m\u001b[39m [======>                                  ]  13.1 % [======>                                  ]  13.4 %\u001b[36m\u001b[1mFetching:\u001b[22m\u001b[39m [======>                                  ]  14.5 %\u001b[36m\u001b[1mFetching:\u001b[22m\u001b[39m [=======>                                 ]  17.3 %\u001b[36m\u001b[1mFetching:\u001b[22m\u001b[39m [=========>                               ]  21.8 %\u001b[36m\u001b[1mFetching:\u001b[22m\u001b[39m [==========>                              ]  23.4 %\u001b[36m\u001b[1mFetching:\u001b[22m\u001b[39m [==========>                              ]  25.0 %\u001b[36m\u001b[1mFetching:\u001b[22m\u001b[39m [===========>                             ]  27.2 %\u001b[36m\u001b[1mFetching:\u001b[22m\u001b[39m [============>                            ]  28.6 %\u001b[36m\u001b[1mFetching:\u001b[22m\u001b[39m [=============>                           ]  30.2 %\u001b[36m\u001b[1mFetching:\u001b[22m\u001b[39m [=============>                           ]  31.0 %\u001b[36m\u001b[1mFetching:\u001b[22m\u001b[39m [=============>                           ]  31.6 %\u001b[36m\u001b[1mFetching:\u001b[22m\u001b[39m [==============>                          ]  33.0 %\u001b[36m\u001b[1mFetching:\u001b[22m\u001b[39m [==============>                          ]  34.0 %\u001b[36m\u001b[1mFetching:\u001b[22m\u001b[39m [================>                        ]  38.2 %\u001b[36m\u001b[1mFetching:\u001b[22m\u001b[39m [================>                        ]  39.4 %\u001b[36m\u001b[1mFetching:\u001b[22m\u001b[39m [=================>                       ]  40.8 %\u001b[36m\u001b[1mFetching:\u001b[22m\u001b[39m [==================>                      ]  44.8 %\u001b[36m\u001b[1mFetching:\u001b[22m\u001b[39m [===================>                     ]  46.6 %\u001b[36m\u001b[1mFetching:\u001b[22m\u001b[39m [====================>                    ]  47.6 %\u001b[36m\u001b[1mFetching:\u001b[22m\u001b[39m [====================>                    ]  48.0 %\u001b[36m\u001b[1mFetching:\u001b[22m\u001b[39m [====================>                    ]  49.8 %\u001b[36m\u001b[1mFetching:\u001b[22m\u001b[39m [=====================>                   ]  52.2 %\u001b[36m\u001b[1mFetching:\u001b[22m\u001b[39m [======================>                  ]  54.4 %\u001b[36m\u001b[1mFetching:\u001b[22m\u001b[39m [=======================>                 ]  55.4 %\u001b[36m\u001b[1mFetching:\u001b[22m\u001b[39m [=======================>                 ]  57.3 %\u001b[36m\u001b[1mFetching:\u001b[22m\u001b[39m [=========================>               ]  60.9 %\u001b[36m\u001b[1mFetching:\u001b[22m\u001b[39m [=========================>               ]  61.7 %\u001b[36m\u001b[1mFetching:\u001b[22m\u001b[39m [==========================>              ]  64.5 %\u001b[36m\u001b[1mFetching:\u001b[22m\u001b[39m [============================>            ]  69.9 %\u001b[36m\u001b[1mFetching:\u001b[22m\u001b[39m [===============================>         ]  75.3 %\u001b[36m\u001b[1mFetching:\u001b[22m\u001b[39m [===============================>         ]  77.1 %\u001b[36m\u001b[1mFetching:\u001b[22m\u001b[39m [================================>        ]  78.3 %\u001b[36m\u001b[1mFetching:\u001b[22m\u001b[39m [=================================>       ]  81.3 %\u001b[36m\u001b[1mFetching:\u001b[22m\u001b[39m [==================================>      ]  82.7 %\u001b[36m\u001b[1mFetching:\u001b[22m\u001b[39m [=====================================>   ]  90.7 %\u001b[36m\u001b[1mFetching:\u001b[22m\u001b[39m [========================================>]  97.9 %\u001b[36m\u001b[1mFetching:\u001b[22m\u001b[39m [========================================>]  98.0 %\u001b[36m\u001b[1mFetching:\u001b[22m\u001b[39m [========================================>]  98.1 %\u001b[36m\u001b[1mFetching:\u001b[22m\u001b[39m [========================================>]  98.2 %\u001b[36m\u001b[1mFetching:\u001b[22m\u001b[39m [========================================>]  98.3 %\u001b[36m\u001b[1mFetching:\u001b[22m\u001b[39m [========================================>]  98.5 %\u001b[36m\u001b[1mFetching:\u001b[22m\u001b[39m [========================================>]  98.6 %\u001b[36m\u001b[1mFetching:\u001b[22m\u001b[39m [========================================>]  98.7 %\u001b[36m\u001b[1mFetching:\u001b[22m\u001b[39m [========================================>]  98.8 %\u001b[36m\u001b[1mFetching:\u001b[22m\u001b[39m [========================================>]  98.9 %\u001b[36m\u001b[1mFetching:\u001b[22m\u001b[39m [========================================>]  99.0 %\u001b[36m\u001b[1mFetching:\u001b[22m\u001b[39m [========================================>]  99.1 %\u001b[36m\u001b[1mFetching:\u001b[22m\u001b[39m [========================================>]  99.2 %\u001b[36m\u001b[1mFetching:\u001b[22m\u001b[39m [========================================>]  99.3 %\u001b[36m\u001b[1mFetching:\u001b[22m\u001b[39m [========================================>]  99.4 %\u001b[36m\u001b[1mFetching:\u001b[22m\u001b[39m [========================================>]  99.6 %\u001b[36m\u001b[1mFetching:\u001b[22m\u001b[39m [========================================>]  99.8 %\u001b[36m\u001b[1mFetching:\u001b[22m\u001b[39m [========================================>]  99.9 %\r"
     ]
    }
   ],
   "source": [
    "pkgs = [\n",
    "\"LightGraphs\",\n",
    "\"MetaGraphs\",\n",
    "\"BioSequences\",\n",
    "\"Random\",\n",
    "\"ProgressMeter\",\n",
    "\"Revise\",\n",
    "\"FASTX\",\n",
    "\"StatsBase\",\n",
    "\"StatsPlots\"\n",
    "]\n",
    "\n",
    "import Pkg\n",
    "Pkg.add(pkgs)\n",
    "for pkg in pkgs\n",
    "    eval(Meta.parse(\"import $(basename(pkg))\"))\n",
    "end\n",
    "\n",
    "import Mycelia"
   ]
  },
  {
   "cell_type": "code",
   "execution_count": 9,
   "metadata": {},
   "outputs": [
    {
     "data": {
      "text/plain": [
       "visualize_gfa_file (generic function with 1 method)"
      ]
     },
     "execution_count": 9,
     "metadata": {},
     "output_type": "execute_result"
    }
   ],
   "source": [
    "function visualize_gfa_file(gfa_file)\n",
    "    run(`/Applications/Bandage.app/Contents/MacOS/Bandage image $(gfa_file) $(gfa_file).svg --depwidth 1 --deppower 1`)\n",
    "    # --nodewidth <float> Average node width (0.5 to 1000, default: 5)\n",
    "    # --depwidth <float>  Depth effect on width (0 to 1, default: 0.5)\n",
    "    # --deppower <float>  Power of depth effect on width (0 to 1, default: 0.5)\n",
    "    html_path_to_svg = \"./\" * repeat(\"../\", length(split(pwd(), '/')) - 3)\n",
    "    html_path_to_svg *= replace(\"$(gfa_file).svg\", \"$(homedir())/\" => \"\")\n",
    "    x = display(\"text/html\", \"<img src=$(html_path_to_svg)>\")\n",
    "end"
   ]
  },
  {
   "cell_type": "code",
   "execution_count": 4,
   "metadata": {},
   "outputs": [
    {
     "data": {
      "text/plain": [
       "1000"
      ]
     },
     "execution_count": 4,
     "metadata": {},
     "output_type": "execute_result"
    }
   ],
   "source": [
    "# parameters\n",
    "# set a random seed\n",
    "seed = Random.seed!(0)\n",
    "# randomly generate a dna sequence of 100bp\n",
    "genome = BioSequences.randdnaseq(seed, 1000)\n",
    "# define error rate\n",
    "error_rate = 0.1\n",
    "# generate 100x coverage fastq file\n",
    "# put accuracy rate into fastq file\n",
    "coverage = 1000"
   ]
  },
  {
   "cell_type": "code",
   "execution_count": 5,
   "metadata": {},
   "outputs": [],
   "source": [
    "fastq_file = \"$(DIR)/$(DATE)-$(TASK).fastq\"\n",
    "error_free_fastq_file = \"$(DIR)/$(DATE)-$(TASK).error-free.fastq\"\n",
    "\n",
    "fastq_io = FASTX.FASTQ.Writer(open(fastq_file, \"w\"))\n",
    "error_free_fastq_io = FASTX.FASTQ.Writer(open(error_free_fastq_file, \"w\"))\n",
    "for i in 1:coverage\n",
    "    true_sequence = Mycelia.observe(genome, error_rate=0.0)\n",
    "    quality_scores = fill(60, length(true_sequence))\n",
    "    error_free_fastq_record = FASTX.FASTQ.Record(\"$i\", true_sequence, quality_scores)\n",
    "    write(error_free_fastq_io, error_free_fastq_record)\n",
    "    \n",
    "    observed_sequence = Mycelia.observe(genome, error_rate=error_rate)\n",
    "    q = -10 * log10(error_rate)\n",
    "    quality_scores = fill(q, length(observed_sequence))\n",
    "    fastq_record = FASTX.FASTQ.Record(\"$i\", observed_sequence, quality_scores)\n",
    "    write(fastq_io, fastq_record)\n",
    "end\n",
    "close(fastq_io)\n",
    "close(error_free_fastq_io)"
   ]
  },
  {
   "cell_type": "code",
   "execution_count": 20,
   "metadata": {},
   "outputs": [
    {
     "data": {
      "text/plain": [
       "11"
      ]
     },
     "execution_count": 20,
     "metadata": {},
     "output_type": "execute_result"
    }
   ],
   "source": [
    "k = 11"
   ]
  },
  {
   "cell_type": "code",
   "execution_count": 21,
   "metadata": {},
   "outputs": [
    {
     "data": {
      "text/plain": [
       "BioSequences.BigDNAMer{11} (alias for BioSequences.BigMer{BioSequences.DNAAlphabet{2}, 11})"
      ]
     },
     "execution_count": 21,
     "metadata": {},
     "output_type": "execute_result"
    }
   ],
   "source": [
    "kmer_type = BioSequences.BigDNAMer{k}"
   ]
  },
  {
   "cell_type": "code",
   "execution_count": 22,
   "metadata": {},
   "outputs": [
    {
     "data": {
      "text/plain": [
       "OrderedCollections.OrderedDict{BioSequences.BigDNAMer{11}, Int64} with 270568 entries:\n",
       "  AAAAAAAAATT => 1\n",
       "  AAAAAAAATAT => 2\n",
       "  AAAAAAAATCA => 1\n",
       "  AAAAAAAATGC => 3\n",
       "  AAAAAAAATGG => 1\n",
       "  AAAAAAAATTA => 1\n",
       "  AAAAAAAATTT => 4\n",
       "  AAAAAAACCGC => 1\n",
       "  AAAAAAACGCC => 1\n",
       "  AAAAAAACTAT => 1\n",
       "  AAAAAAAGCAG => 1\n",
       "  AAAAAAAGCGC => 4\n",
       "  AAAAAAAGCGG => 1\n",
       "  AAAAAAAGGAC => 1\n",
       "  AAAAAAAGGCC => 1\n",
       "  AAAAAAAGGGA => 5\n",
       "  AAAAAAAGGGC => 1\n",
       "  AAAAAAAGGGT => 1\n",
       "  AAAAAAAGTTA => 1\n",
       "  AAAAAAATATC => 1\n",
       "  AAAAAAATATG => 1\n",
       "  AAAAAAATATT => 32\n",
       "  AAAAAAATCAC => 2\n",
       "  AAAAAAATCCG => 1\n",
       "  AAAAAAATGAA => 2\n",
       "  ⋮           => ⋮"
      ]
     },
     "execution_count": 22,
     "metadata": {},
     "output_type": "execute_result"
    }
   ],
   "source": [
    "kmer_counts = Mycelia.count_canonical_kmers(kmer_type, fastq_file)"
   ]
  },
  {
   "cell_type": "code",
   "execution_count": 23,
   "metadata": {},
   "outputs": [
    {
     "data": {
      "image/svg+xml": [
       "<?xml version=\"1.0\" encoding=\"utf-8\"?>\n",
       "<svg xmlns=\"http://www.w3.org/2000/svg\" xmlns:xlink=\"http://www.w3.org/1999/xlink\" width=\"600\" height=\"400\" viewBox=\"0 0 2400 1600\">\n",
       "<defs>\n",
       "  <clipPath id=\"clip760\">\n",
       "    <rect x=\"0\" y=\"0\" width=\"2400\" height=\"1600\"/>\n",
       "  </clipPath>\n",
       "</defs>\n",
       "<path clip-path=\"url(#clip760)\" d=\"\n",
       "M0 1600 L2400 1600 L2400 0 L0 0  Z\n",
       "  \" fill=\"#ffffff\" fill-rule=\"evenodd\" fill-opacity=\"1\"/>\n",
       "<defs>\n",
       "  <clipPath id=\"clip761\">\n",
       "    <rect x=\"480\" y=\"0\" width=\"1681\" height=\"1600\"/>\n",
       "  </clipPath>\n",
       "</defs>\n",
       "<path clip-path=\"url(#clip760)\" d=\"\n",
       "M247.459 1423.18 L2352.76 1423.18 L2352.76 47.2441 L247.459 47.2441  Z\n",
       "  \" fill=\"#ffffff\" fill-rule=\"evenodd\" fill-opacity=\"1\"/>\n",
       "<defs>\n",
       "  <clipPath id=\"clip762\">\n",
       "    <rect x=\"247\" y=\"47\" width=\"2106\" height=\"1377\"/>\n",
       "  </clipPath>\n",
       "</defs>\n",
       "<polyline clip-path=\"url(#clip762)\" style=\"stroke:#000000; stroke-linecap:butt; stroke-linejoin:round; stroke-width:2; stroke-opacity:0.1; fill:none\" points=\"\n",
       "  247.459,1423.18 247.459,47.2441 \n",
       "  \"/>\n",
       "<polyline clip-path=\"url(#clip762)\" style=\"stroke:#000000; stroke-linecap:butt; stroke-linejoin:round; stroke-width:2; stroke-opacity:0.1; fill:none\" points=\"\n",
       "  845.939,1423.18 845.939,47.2441 \n",
       "  \"/>\n",
       "<polyline clip-path=\"url(#clip762)\" style=\"stroke:#000000; stroke-linecap:butt; stroke-linejoin:round; stroke-width:2; stroke-opacity:0.1; fill:none\" points=\"\n",
       "  1444.42,1423.18 1444.42,47.2441 \n",
       "  \"/>\n",
       "<polyline clip-path=\"url(#clip762)\" style=\"stroke:#000000; stroke-linecap:butt; stroke-linejoin:round; stroke-width:2; stroke-opacity:0.1; fill:none\" points=\"\n",
       "  2042.9,1423.18 2042.9,47.2441 \n",
       "  \"/>\n",
       "<polyline clip-path=\"url(#clip760)\" style=\"stroke:#000000; stroke-linecap:butt; stroke-linejoin:round; stroke-width:4; stroke-opacity:1; fill:none\" points=\"\n",
       "  247.459,1423.18 2352.76,1423.18 \n",
       "  \"/>\n",
       "<polyline clip-path=\"url(#clip760)\" style=\"stroke:#000000; stroke-linecap:butt; stroke-linejoin:round; stroke-width:4; stroke-opacity:1; fill:none\" points=\"\n",
       "  247.459,1423.18 247.459,1406.67 \n",
       "  \"/>\n",
       "<polyline clip-path=\"url(#clip760)\" style=\"stroke:#000000; stroke-linecap:butt; stroke-linejoin:round; stroke-width:4; stroke-opacity:1; fill:none\" points=\"\n",
       "  845.939,1423.18 845.939,1406.67 \n",
       "  \"/>\n",
       "<polyline clip-path=\"url(#clip760)\" style=\"stroke:#000000; stroke-linecap:butt; stroke-linejoin:round; stroke-width:4; stroke-opacity:1; fill:none\" points=\"\n",
       "  1444.42,1423.18 1444.42,1406.67 \n",
       "  \"/>\n",
       "<polyline clip-path=\"url(#clip760)\" style=\"stroke:#000000; stroke-linecap:butt; stroke-linejoin:round; stroke-width:4; stroke-opacity:1; fill:none\" points=\"\n",
       "  2042.9,1423.18 2042.9,1406.67 \n",
       "  \"/>\n",
       "<path clip-path=\"url(#clip760)\" d=\"M247.459 1452.37 Q243.848 1452.37 242.019 1455.94 Q240.213 1459.48 240.213 1466.61 Q240.213 1473.71 242.019 1477.28 Q243.848 1480.82 247.459 1480.82 Q251.093 1480.82 252.898 1477.28 Q254.727 1473.71 254.727 1466.61 Q254.727 1459.48 252.898 1455.94 Q251.093 1452.37 247.459 1452.37 M247.459 1448.67 Q253.269 1448.67 256.324 1453.27 Q259.403 1457.86 259.403 1466.61 Q259.403 1475.33 256.324 1479.94 Q253.269 1484.52 247.459 1484.52 Q241.649 1484.52 238.57 1479.94 Q235.514 1475.33 235.514 1466.61 Q235.514 1457.86 238.57 1453.27 Q241.649 1448.67 247.459 1448.67 Z\" fill=\"#000000\" fill-rule=\"evenodd\" fill-opacity=\"1\" /><path clip-path=\"url(#clip760)\" d=\"M840.591 1479.92 L856.911 1479.92 L856.911 1483.85 L834.966 1483.85 L834.966 1479.92 Q837.628 1477.16 842.212 1472.53 Q846.818 1467.88 847.999 1466.54 Q850.244 1464.01 851.124 1462.28 Q852.027 1460.52 852.027 1458.83 Q852.027 1456.07 850.082 1454.34 Q848.161 1452.6 845.059 1452.6 Q842.86 1452.6 840.406 1453.37 Q837.976 1454.13 835.198 1455.68 L835.198 1450.96 Q838.022 1449.82 840.476 1449.25 Q842.929 1448.67 844.966 1448.67 Q850.337 1448.67 853.531 1451.35 Q856.726 1454.04 856.726 1458.53 Q856.726 1460.66 855.915 1462.58 Q855.128 1464.48 853.022 1467.07 Q852.443 1467.74 849.341 1470.96 Q846.24 1474.15 840.591 1479.92 Z\" fill=\"#000000\" fill-rule=\"evenodd\" fill-opacity=\"1\" /><path clip-path=\"url(#clip760)\" d=\"M1447.43 1453.37 L1435.62 1471.81 L1447.43 1471.81 L1447.43 1453.37 M1446.2 1449.29 L1452.08 1449.29 L1452.08 1471.81 L1457.01 1471.81 L1457.01 1475.7 L1452.08 1475.7 L1452.08 1483.85 L1447.43 1483.85 L1447.43 1475.7 L1431.83 1475.7 L1431.83 1471.19 L1446.2 1449.29 Z\" fill=\"#000000\" fill-rule=\"evenodd\" fill-opacity=\"1\" /><path clip-path=\"url(#clip760)\" d=\"M2043.3 1464.71 Q2040.16 1464.71 2038.3 1466.86 Q2036.47 1469.01 2036.47 1472.76 Q2036.47 1476.49 2038.3 1478.67 Q2040.16 1480.82 2043.3 1480.82 Q2046.45 1480.82 2048.28 1478.67 Q2050.13 1476.49 2050.13 1472.76 Q2050.13 1469.01 2048.28 1466.86 Q2046.45 1464.71 2043.3 1464.71 M2052.59 1450.06 L2052.59 1454.31 Q2050.83 1453.48 2049.02 1453.04 Q2047.24 1452.6 2045.48 1452.6 Q2040.85 1452.6 2038.4 1455.73 Q2035.97 1458.85 2035.62 1465.17 Q2036.98 1463.16 2039.04 1462.09 Q2041.1 1461 2043.58 1461 Q2048.79 1461 2051.8 1464.18 Q2054.83 1467.32 2054.83 1472.76 Q2054.83 1478.09 2051.68 1481.31 Q2048.54 1484.52 2043.3 1484.52 Q2037.31 1484.52 2034.14 1479.94 Q2030.97 1475.33 2030.97 1466.61 Q2030.97 1458.41 2034.85 1453.55 Q2038.74 1448.67 2045.29 1448.67 Q2047.05 1448.67 2048.84 1449.01 Q2050.64 1449.36 2052.59 1450.06 Z\" fill=\"#000000\" fill-rule=\"evenodd\" fill-opacity=\"1\" /><path clip-path=\"url(#clip760)\" d=\"M905.943 1518.52 L911.799 1518.52 L911.799 1568.04 L905.943 1568.04 L905.943 1518.52 Z\" fill=\"#000000\" fill-rule=\"evenodd\" fill-opacity=\"1\" /><path clip-path=\"url(#clip760)\" d=\"M937.867 1536.5 Q933.156 1536.5 930.419 1540.19 Q927.682 1543.85 927.682 1550.25 Q927.682 1556.65 930.387 1560.34 Q933.124 1564 937.867 1564 Q942.546 1564 945.283 1560.31 Q948.02 1556.62 948.02 1550.25 Q948.02 1543.92 945.283 1540.23 Q942.546 1536.5 937.867 1536.5 M937.867 1531.54 Q945.506 1531.54 949.866 1536.5 Q954.227 1541.47 954.227 1550.25 Q954.227 1559 949.866 1564 Q945.506 1568.97 937.867 1568.97 Q930.196 1568.97 925.836 1564 Q921.507 1559 921.507 1550.25 Q921.507 1541.47 925.836 1536.5 Q930.196 1531.54 937.867 1531.54 Z\" fill=\"#000000\" fill-rule=\"evenodd\" fill-opacity=\"1\" /><path clip-path=\"url(#clip760)\" d=\"M987.392 1549.81 Q987.392 1543.44 984.75 1539.94 Q982.14 1536.44 977.398 1536.44 Q972.687 1536.44 970.045 1539.94 Q967.435 1543.44 967.435 1549.81 Q967.435 1556.14 970.045 1559.64 Q972.687 1563.14 977.398 1563.14 Q982.14 1563.14 984.75 1559.64 Q987.392 1556.14 987.392 1549.81 M993.248 1563.62 Q993.248 1572.72 989.206 1577.15 Q985.164 1581.6 976.825 1581.6 Q973.738 1581.6 971 1581.13 Q968.263 1580.68 965.685 1579.72 L965.685 1574.03 Q968.263 1575.43 970.777 1576.1 Q973.292 1576.76 975.902 1576.76 Q981.663 1576.76 984.527 1573.74 Q987.392 1570.75 987.392 1564.67 L987.392 1561.77 Q985.578 1564.92 982.745 1566.48 Q979.912 1568.04 975.966 1568.04 Q969.409 1568.04 965.398 1563.05 Q961.388 1558.05 961.388 1549.81 Q961.388 1541.53 965.398 1536.53 Q969.409 1531.54 975.966 1531.54 Q979.912 1531.54 982.745 1533.1 Q985.578 1534.66 987.392 1537.81 L987.392 1532.4 L993.248 1532.4 L993.248 1563.62 Z\" fill=\"#000000\" fill-rule=\"evenodd\" fill-opacity=\"1\" /><path clip-path=\"url(#clip760)\" d=\"M1019.38 1518.58 Q1015.11 1525.9 1013.05 1533.06 Q1010.98 1540.23 1010.98 1547.58 Q1010.98 1554.93 1013.05 1562.16 Q1015.15 1569.35 1019.38 1576.64 L1014.29 1576.64 Q1009.51 1569.16 1007.13 1561.93 Q1004.77 1554.71 1004.77 1547.58 Q1004.77 1540.48 1007.13 1533.29 Q1009.48 1526.09 1014.29 1518.58 L1019.38 1518.58 Z\" fill=\"#000000\" fill-rule=\"evenodd\" fill-opacity=\"1\" /><path clip-path=\"url(#clip760)\" d=\"M1044.56 1536.5 Q1039.85 1536.5 1037.11 1540.19 Q1034.37 1543.85 1034.37 1550.25 Q1034.37 1556.65 1037.08 1560.34 Q1039.81 1564 1044.56 1564 Q1049.23 1564 1051.97 1560.31 Q1054.71 1556.62 1054.71 1550.25 Q1054.71 1543.92 1051.97 1540.23 Q1049.23 1536.5 1044.56 1536.5 M1044.56 1531.54 Q1052.19 1531.54 1056.56 1536.5 Q1060.92 1541.47 1060.92 1550.25 Q1060.92 1559 1056.56 1564 Q1052.19 1568.97 1044.56 1568.97 Q1036.89 1568.97 1032.52 1564 Q1028.2 1559 1028.2 1550.25 Q1028.2 1541.47 1032.52 1536.5 Q1036.89 1531.54 1044.56 1531.54 Z\" fill=\"#000000\" fill-rule=\"evenodd\" fill-opacity=\"1\" /><path clip-path=\"url(#clip760)\" d=\"M1096.21 1550.25 Q1096.21 1543.79 1093.54 1540.13 Q1090.9 1536.44 1086.25 1536.44 Q1081.6 1536.44 1078.93 1540.13 Q1076.29 1543.79 1076.29 1550.25 Q1076.29 1556.71 1078.93 1560.4 Q1081.6 1564.07 1086.25 1564.07 Q1090.9 1564.07 1093.54 1560.4 Q1096.21 1556.71 1096.21 1550.25 M1076.29 1537.81 Q1078.14 1534.62 1080.94 1533.1 Q1083.77 1531.54 1087.68 1531.54 Q1094.18 1531.54 1098.22 1536.69 Q1102.29 1541.85 1102.29 1550.25 Q1102.29 1558.65 1098.22 1563.81 Q1094.18 1568.97 1087.68 1568.97 Q1083.77 1568.97 1080.94 1567.44 Q1078.14 1565.88 1076.29 1562.7 L1076.29 1568.04 L1070.4 1568.04 L1070.4 1518.52 L1076.29 1518.52 L1076.29 1537.81 Z\" fill=\"#000000\" fill-rule=\"evenodd\" fill-opacity=\"1\" /><path clip-path=\"url(#clip760)\" d=\"M1134.73 1533.45 L1134.73 1538.98 Q1132.24 1537.71 1129.57 1537.07 Q1126.9 1536.44 1124.03 1536.44 Q1119.67 1536.44 1117.48 1537.77 Q1115.31 1539.11 1115.31 1541.79 Q1115.31 1543.82 1116.87 1545 Q1118.43 1546.15 1123.14 1547.2 L1125.15 1547.64 Q1131.38 1548.98 1133.99 1551.43 Q1136.64 1553.85 1136.64 1558.21 Q1136.64 1563.17 1132.69 1566.07 Q1128.77 1568.97 1121.9 1568.97 Q1119.03 1568.97 1115.92 1568.39 Q1112.83 1567.85 1109.39 1566.74 L1109.39 1560.69 Q1112.64 1562.38 1115.79 1563.24 Q1118.94 1564.07 1122.03 1564.07 Q1126.16 1564.07 1128.39 1562.66 Q1130.62 1561.23 1130.62 1558.65 Q1130.62 1556.27 1129 1554.99 Q1127.41 1553.72 1121.96 1552.54 L1119.93 1552.07 Q1114.48 1550.92 1112.06 1548.56 Q1109.65 1546.18 1109.65 1542.04 Q1109.65 1537.01 1113.21 1534.27 Q1116.77 1531.54 1123.33 1531.54 Q1126.58 1531.54 1129.44 1532.01 Q1132.31 1532.49 1134.73 1533.45 Z\" fill=\"#000000\" fill-rule=\"evenodd\" fill-opacity=\"1\" /><path clip-path=\"url(#clip760)\" d=\"M1176.45 1548.76 L1176.45 1551.62 L1149.53 1551.62 Q1149.91 1557.67 1153.15 1560.85 Q1156.43 1564 1162.26 1564 Q1165.63 1564 1168.78 1563.17 Q1171.97 1562.35 1175.08 1560.69 L1175.08 1566.23 Q1171.93 1567.57 1168.62 1568.27 Q1165.31 1568.97 1161.91 1568.97 Q1153.38 1568.97 1148.38 1564 Q1143.42 1559.04 1143.42 1550.57 Q1143.42 1541.82 1148.13 1536.69 Q1152.87 1531.54 1160.89 1531.54 Q1168.08 1531.54 1172.25 1536.18 Q1176.45 1540.8 1176.45 1548.76 M1170.6 1547.04 Q1170.53 1542.23 1167.89 1539.37 Q1165.28 1536.5 1160.95 1536.5 Q1156.05 1536.5 1153.09 1539.27 Q1150.16 1542.04 1149.72 1547.07 L1170.6 1547.04 Z\" fill=\"#000000\" fill-rule=\"evenodd\" fill-opacity=\"1\" /><path clip-path=\"url(#clip760)\" d=\"M1206.72 1537.87 Q1205.74 1537.3 1204.56 1537.04 Q1203.41 1536.76 1202.01 1536.76 Q1197.05 1536.76 1194.37 1540 Q1191.73 1543.22 1191.73 1549.27 L1191.73 1568.04 L1185.84 1568.04 L1185.84 1532.4 L1191.73 1532.4 L1191.73 1537.93 Q1193.58 1534.69 1196.54 1533.13 Q1199.5 1531.54 1203.73 1531.54 Q1204.34 1531.54 1205.07 1531.63 Q1205.8 1531.7 1206.69 1531.85 L1206.72 1537.87 Z\" fill=\"#000000\" fill-rule=\"evenodd\" fill-opacity=\"1\" /><path clip-path=\"url(#clip760)\" d=\"M1208.66 1532.4 L1214.87 1532.4 L1226.01 1562.31 L1237.15 1532.4 L1243.36 1532.4 L1229.99 1568.04 L1222.03 1568.04 L1208.66 1532.4 Z\" fill=\"#000000\" fill-rule=\"evenodd\" fill-opacity=\"1\" /><path clip-path=\"url(#clip760)\" d=\"M1281.93 1548.76 L1281.93 1551.62 L1255.01 1551.62 Q1255.39 1557.67 1258.63 1560.85 Q1261.91 1564 1267.74 1564 Q1271.11 1564 1274.26 1563.17 Q1277.45 1562.35 1280.56 1560.69 L1280.56 1566.23 Q1277.41 1567.57 1274.1 1568.27 Q1270.79 1568.97 1267.39 1568.97 Q1258.86 1568.97 1253.86 1564 Q1248.9 1559.04 1248.9 1550.57 Q1248.9 1541.82 1253.61 1536.69 Q1258.35 1531.54 1266.37 1531.54 Q1273.56 1531.54 1277.73 1536.18 Q1281.93 1540.8 1281.93 1548.76 M1276.08 1547.04 Q1276.01 1542.23 1273.37 1539.37 Q1270.76 1536.5 1266.43 1536.5 Q1261.53 1536.5 1258.57 1539.27 Q1255.64 1542.04 1255.2 1547.07 L1276.08 1547.04 Z\" fill=\"#000000\" fill-rule=\"evenodd\" fill-opacity=\"1\" /><path clip-path=\"url(#clip760)\" d=\"M1315 1537.81 L1315 1518.52 L1320.86 1518.52 L1320.86 1568.04 L1315 1568.04 L1315 1562.7 Q1313.16 1565.88 1310.32 1567.44 Q1307.52 1568.97 1303.58 1568.97 Q1297.12 1568.97 1293.04 1563.81 Q1289 1558.65 1289 1550.25 Q1289 1541.85 1293.04 1536.69 Q1297.12 1531.54 1303.58 1531.54 Q1307.52 1531.54 1310.32 1533.1 Q1313.16 1534.62 1315 1537.81 M1295.05 1550.25 Q1295.05 1556.71 1297.69 1560.4 Q1300.36 1564.07 1305.01 1564.07 Q1309.66 1564.07 1312.33 1560.4 Q1315 1556.71 1315 1550.25 Q1315 1543.79 1312.33 1540.13 Q1309.66 1536.44 1305.01 1536.44 Q1300.36 1536.44 1297.69 1540.13 Q1295.05 1543.79 1295.05 1550.25 Z\" fill=\"#000000\" fill-rule=\"evenodd\" fill-opacity=\"1\" /><path clip-path=\"url(#clip760)\" d=\"M1371.69 1518.52 L1371.69 1523.39 L1366.09 1523.39 Q1362.94 1523.39 1361.7 1524.66 Q1360.49 1525.93 1360.49 1529.24 L1360.49 1532.4 L1370.13 1532.4 L1370.13 1536.95 L1360.49 1536.95 L1360.49 1568.04 L1354.6 1568.04 L1354.6 1536.95 L1349 1536.95 L1349 1532.4 L1354.6 1532.4 L1354.6 1529.91 Q1354.6 1523.96 1357.37 1521.26 Q1360.14 1518.52 1366.15 1518.52 L1371.69 1518.52 Z\" fill=\"#000000\" fill-rule=\"evenodd\" fill-opacity=\"1\" /><path clip-path=\"url(#clip760)\" d=\"M1397.25 1537.87 Q1396.26 1537.3 1395.08 1537.04 Q1393.94 1536.76 1392.54 1536.76 Q1387.57 1536.76 1384.9 1540 Q1382.26 1543.22 1382.26 1549.27 L1382.26 1568.04 L1376.37 1568.04 L1376.37 1532.4 L1382.26 1532.4 L1382.26 1537.93 Q1384.1 1534.69 1387.06 1533.13 Q1390.02 1531.54 1394.26 1531.54 Q1394.86 1531.54 1395.59 1531.63 Q1396.32 1531.7 1397.22 1531.85 L1397.25 1537.87 Z\" fill=\"#000000\" fill-rule=\"evenodd\" fill-opacity=\"1\" /><path clip-path=\"url(#clip760)\" d=\"M1432.45 1548.76 L1432.45 1551.62 L1405.52 1551.62 Q1405.91 1557.67 1409.15 1560.85 Q1412.43 1564 1418.25 1564 Q1421.63 1564 1424.78 1563.17 Q1427.96 1562.35 1431.08 1560.69 L1431.08 1566.23 Q1427.93 1567.57 1424.62 1568.27 Q1421.31 1568.97 1417.9 1568.97 Q1409.37 1568.97 1404.38 1564 Q1399.41 1559.04 1399.41 1550.57 Q1399.41 1541.82 1404.12 1536.69 Q1408.87 1531.54 1416.89 1531.54 Q1424.08 1531.54 1428.25 1536.18 Q1432.45 1540.8 1432.45 1548.76 M1426.59 1547.04 Q1426.53 1542.23 1423.89 1539.37 Q1421.28 1536.5 1416.95 1536.5 Q1412.05 1536.5 1409.09 1539.27 Q1406.16 1542.04 1405.71 1547.07 L1426.59 1547.04 Z\" fill=\"#000000\" fill-rule=\"evenodd\" fill-opacity=\"1\" /><path clip-path=\"url(#clip760)\" d=\"M1445.56 1550.25 Q1445.56 1556.71 1448.21 1560.4 Q1450.88 1564.07 1455.53 1564.07 Q1460.17 1564.07 1462.85 1560.4 Q1465.52 1556.71 1465.52 1550.25 Q1465.52 1543.79 1462.85 1540.13 Q1460.17 1536.44 1455.53 1536.44 Q1450.88 1536.44 1448.21 1540.13 Q1445.56 1543.79 1445.56 1550.25 M1465.52 1562.7 Q1463.67 1565.88 1460.84 1567.44 Q1458.04 1568.97 1454.09 1568.97 Q1447.63 1568.97 1443.56 1563.81 Q1439.52 1558.65 1439.52 1550.25 Q1439.52 1541.85 1443.56 1536.69 Q1447.63 1531.54 1454.09 1531.54 Q1458.04 1531.54 1460.84 1533.1 Q1463.67 1534.62 1465.52 1537.81 L1465.52 1532.4 L1471.38 1532.4 L1471.38 1581.6 L1465.52 1581.6 L1465.52 1562.7 Z\" fill=\"#000000\" fill-rule=\"evenodd\" fill-opacity=\"1\" /><path clip-path=\"url(#clip760)\" d=\"M1482.83 1553.98 L1482.83 1532.4 L1488.69 1532.4 L1488.69 1553.75 Q1488.69 1558.81 1490.66 1561.36 Q1492.64 1563.87 1496.58 1563.87 Q1501.33 1563.87 1504.06 1560.85 Q1506.83 1557.83 1506.83 1552.61 L1506.83 1532.4 L1512.69 1532.4 L1512.69 1568.04 L1506.83 1568.04 L1506.83 1562.57 Q1504.7 1565.82 1501.87 1567.41 Q1499.07 1568.97 1495.34 1568.97 Q1489.2 1568.97 1486.02 1565.15 Q1482.83 1561.33 1482.83 1553.98 M1497.57 1531.54 L1497.57 1531.54 Z\" fill=\"#000000\" fill-rule=\"evenodd\" fill-opacity=\"1\" /><path clip-path=\"url(#clip760)\" d=\"M1555.24 1548.76 L1555.24 1551.62 L1528.32 1551.62 Q1528.7 1557.67 1531.95 1560.85 Q1535.22 1564 1541.05 1564 Q1544.42 1564 1547.57 1563.17 Q1550.76 1562.35 1553.88 1560.69 L1553.88 1566.23 Q1550.73 1567.57 1547.42 1568.27 Q1544.1 1568.97 1540.7 1568.97 Q1532.17 1568.97 1527.17 1564 Q1522.21 1559.04 1522.21 1550.57 Q1522.21 1541.82 1526.92 1536.69 Q1531.66 1531.54 1539.68 1531.54 Q1546.87 1531.54 1551.04 1536.18 Q1555.24 1540.8 1555.24 1548.76 M1549.39 1547.04 Q1549.32 1542.23 1546.68 1539.37 Q1544.07 1536.5 1539.74 1536.5 Q1534.84 1536.5 1531.88 1539.27 Q1528.95 1542.04 1528.51 1547.07 L1549.39 1547.04 Z\" fill=\"#000000\" fill-rule=\"evenodd\" fill-opacity=\"1\" /><path clip-path=\"url(#clip760)\" d=\"M1594.49 1546.53 L1594.49 1568.04 L1588.63 1568.04 L1588.63 1546.72 Q1588.63 1541.66 1586.66 1539.14 Q1584.69 1536.63 1580.74 1536.63 Q1576 1536.63 1573.26 1539.65 Q1570.52 1542.68 1570.52 1547.9 L1570.52 1568.04 L1564.63 1568.04 L1564.63 1532.4 L1570.52 1532.4 L1570.52 1537.93 Q1572.62 1534.72 1575.46 1533.13 Q1578.32 1531.54 1582.04 1531.54 Q1588.19 1531.54 1591.34 1535.36 Q1594.49 1539.14 1594.49 1546.53 Z\" fill=\"#000000\" fill-rule=\"evenodd\" fill-opacity=\"1\" /><path clip-path=\"url(#clip760)\" d=\"M1631.82 1533.76 L1631.82 1539.24 Q1629.34 1537.87 1626.83 1537.2 Q1624.34 1536.5 1621.8 1536.5 Q1616.1 1536.5 1612.95 1540.13 Q1609.8 1543.73 1609.8 1550.25 Q1609.8 1556.78 1612.95 1560.4 Q1616.1 1564 1621.8 1564 Q1624.34 1564 1626.83 1563.33 Q1629.34 1562.63 1631.82 1561.26 L1631.82 1566.68 Q1629.37 1567.82 1626.73 1568.39 Q1624.12 1568.97 1621.16 1568.97 Q1613.11 1568.97 1608.37 1563.91 Q1603.62 1558.85 1603.62 1550.25 Q1603.62 1541.53 1608.4 1536.53 Q1613.2 1531.54 1621.54 1531.54 Q1624.25 1531.54 1626.83 1532.11 Q1629.41 1532.65 1631.82 1533.76 Z\" fill=\"#000000\" fill-rule=\"evenodd\" fill-opacity=\"1\" /><path clip-path=\"url(#clip760)\" d=\"M1656.84 1571.35 Q1654.36 1577.72 1652 1579.66 Q1649.65 1581.6 1645.7 1581.6 L1641.02 1581.6 L1641.02 1576.7 L1644.46 1576.7 Q1646.88 1576.7 1648.22 1575.56 Q1649.55 1574.41 1651.18 1570.14 L1652.23 1567.47 L1637.81 1532.4 L1644.01 1532.4 L1655.15 1560.28 L1666.29 1532.4 L1672.5 1532.4 L1656.84 1571.35 Z\" fill=\"#000000\" fill-rule=\"evenodd\" fill-opacity=\"1\" /><path clip-path=\"url(#clip760)\" d=\"M1679.66 1518.58 L1684.76 1518.58 Q1689.53 1526.09 1691.88 1533.29 Q1694.27 1540.48 1694.27 1547.58 Q1694.27 1554.71 1691.88 1561.93 Q1689.53 1569.16 1684.76 1576.64 L1679.66 1576.64 Q1683.9 1569.35 1685.96 1562.16 Q1688.07 1554.93 1688.07 1547.58 Q1688.07 1540.23 1685.96 1533.06 Q1683.9 1525.9 1679.66 1518.58 Z\" fill=\"#000000\" fill-rule=\"evenodd\" fill-opacity=\"1\" /><polyline clip-path=\"url(#clip762)\" style=\"stroke:#000000; stroke-linecap:butt; stroke-linejoin:round; stroke-width:2; stroke-opacity:0.1; fill:none\" points=\"\n",
       "  247.459,1423.18 2352.76,1423.18 \n",
       "  \"/>\n",
       "<polyline clip-path=\"url(#clip762)\" style=\"stroke:#000000; stroke-linecap:butt; stroke-linejoin:round; stroke-width:2; stroke-opacity:0.1; fill:none\" points=\"\n",
       "  247.459,1179.57 2352.76,1179.57 \n",
       "  \"/>\n",
       "<polyline clip-path=\"url(#clip762)\" style=\"stroke:#000000; stroke-linecap:butt; stroke-linejoin:round; stroke-width:2; stroke-opacity:0.1; fill:none\" points=\"\n",
       "  247.459,935.967 2352.76,935.967 \n",
       "  \"/>\n",
       "<polyline clip-path=\"url(#clip762)\" style=\"stroke:#000000; stroke-linecap:butt; stroke-linejoin:round; stroke-width:2; stroke-opacity:0.1; fill:none\" points=\"\n",
       "  247.459,692.361 2352.76,692.361 \n",
       "  \"/>\n",
       "<polyline clip-path=\"url(#clip762)\" style=\"stroke:#000000; stroke-linecap:butt; stroke-linejoin:round; stroke-width:2; stroke-opacity:0.1; fill:none\" points=\"\n",
       "  247.459,448.755 2352.76,448.755 \n",
       "  \"/>\n",
       "<polyline clip-path=\"url(#clip762)\" style=\"stroke:#000000; stroke-linecap:butt; stroke-linejoin:round; stroke-width:2; stroke-opacity:0.1; fill:none\" points=\"\n",
       "  247.459,205.148 2352.76,205.148 \n",
       "  \"/>\n",
       "<polyline clip-path=\"url(#clip760)\" style=\"stroke:#000000; stroke-linecap:butt; stroke-linejoin:round; stroke-width:4; stroke-opacity:1; fill:none\" points=\"\n",
       "  247.459,1423.18 247.459,47.2441 \n",
       "  \"/>\n",
       "<polyline clip-path=\"url(#clip760)\" style=\"stroke:#000000; stroke-linecap:butt; stroke-linejoin:round; stroke-width:4; stroke-opacity:1; fill:none\" points=\"\n",
       "  247.459,1423.18 272.722,1423.18 \n",
       "  \"/>\n",
       "<polyline clip-path=\"url(#clip760)\" style=\"stroke:#000000; stroke-linecap:butt; stroke-linejoin:round; stroke-width:4; stroke-opacity:1; fill:none\" points=\"\n",
       "  247.459,1179.57 272.722,1179.57 \n",
       "  \"/>\n",
       "<polyline clip-path=\"url(#clip760)\" style=\"stroke:#000000; stroke-linecap:butt; stroke-linejoin:round; stroke-width:4; stroke-opacity:1; fill:none\" points=\"\n",
       "  247.459,935.967 272.722,935.967 \n",
       "  \"/>\n",
       "<polyline clip-path=\"url(#clip760)\" style=\"stroke:#000000; stroke-linecap:butt; stroke-linejoin:round; stroke-width:4; stroke-opacity:1; fill:none\" points=\"\n",
       "  247.459,692.361 272.722,692.361 \n",
       "  \"/>\n",
       "<polyline clip-path=\"url(#clip760)\" style=\"stroke:#000000; stroke-linecap:butt; stroke-linejoin:round; stroke-width:4; stroke-opacity:1; fill:none\" points=\"\n",
       "  247.459,448.755 272.722,448.755 \n",
       "  \"/>\n",
       "<polyline clip-path=\"url(#clip760)\" style=\"stroke:#000000; stroke-linecap:butt; stroke-linejoin:round; stroke-width:4; stroke-opacity:1; fill:none\" points=\"\n",
       "  247.459,205.148 272.722,205.148 \n",
       "  \"/>\n",
       "<path clip-path=\"url(#clip760)\" d=\"M154.283 1408.98 Q150.672 1408.98 148.843 1412.54 Q147.038 1416.08 147.038 1423.21 Q147.038 1430.32 148.843 1433.89 Q150.672 1437.43 154.283 1437.43 Q157.917 1437.43 159.723 1433.89 Q161.552 1430.32 161.552 1423.21 Q161.552 1416.08 159.723 1412.54 Q157.917 1408.98 154.283 1408.98 M154.283 1405.27 Q160.093 1405.27 163.149 1409.88 Q166.227 1414.46 166.227 1423.21 Q166.227 1431.94 163.149 1436.55 Q160.093 1441.13 154.283 1441.13 Q148.473 1441.13 145.394 1436.55 Q142.339 1431.94 142.339 1423.21 Q142.339 1414.46 145.394 1409.88 Q148.473 1405.27 154.283 1405.27 Z\" fill=\"#000000\" fill-rule=\"evenodd\" fill-opacity=\"1\" /><path clip-path=\"url(#clip760)\" d=\"M174.445 1434.58 L179.329 1434.58 L179.329 1440.46 L174.445 1440.46 L174.445 1434.58 Z\" fill=\"#000000\" fill-rule=\"evenodd\" fill-opacity=\"1\" /><path clip-path=\"url(#clip760)\" d=\"M199.514 1408.98 Q195.903 1408.98 194.075 1412.54 Q192.269 1416.08 192.269 1423.21 Q192.269 1430.32 194.075 1433.89 Q195.903 1437.43 199.514 1437.43 Q203.149 1437.43 204.954 1433.89 Q206.783 1430.32 206.783 1423.21 Q206.783 1416.08 204.954 1412.54 Q203.149 1408.98 199.514 1408.98 M199.514 1405.27 Q205.324 1405.27 208.38 1409.88 Q211.459 1414.46 211.459 1423.21 Q211.459 1431.94 208.38 1436.55 Q205.324 1441.13 199.514 1441.13 Q193.704 1441.13 190.625 1436.55 Q187.57 1431.94 187.57 1423.21 Q187.57 1414.46 190.625 1409.88 Q193.704 1405.27 199.514 1405.27 Z\" fill=\"#000000\" fill-rule=\"evenodd\" fill-opacity=\"1\" /><path clip-path=\"url(#clip760)\" d=\"M149.306 1192.92 L165.626 1192.92 L165.626 1196.85 L143.681 1196.85 L143.681 1192.92 Q146.343 1190.16 150.927 1185.53 Q155.533 1180.88 156.714 1179.54 Q158.959 1177.02 159.839 1175.28 Q160.741 1173.52 160.741 1171.83 Q160.741 1169.08 158.797 1167.34 Q156.876 1165.6 153.774 1165.6 Q151.575 1165.6 149.121 1166.37 Q146.691 1167.13 143.913 1168.68 L143.913 1163.96 Q146.737 1162.83 149.191 1162.25 Q151.644 1161.67 153.681 1161.67 Q159.052 1161.67 162.246 1164.35 Q165.44 1167.04 165.44 1171.53 Q165.44 1173.66 164.63 1175.58 Q163.843 1177.48 161.737 1180.07 Q161.158 1180.74 158.056 1183.96 Q154.954 1187.15 149.306 1192.92 Z\" fill=\"#000000\" fill-rule=\"evenodd\" fill-opacity=\"1\" /><path clip-path=\"url(#clip760)\" d=\"M175.44 1190.97 L180.325 1190.97 L180.325 1196.85 L175.44 1196.85 L175.44 1190.97 Z\" fill=\"#000000\" fill-rule=\"evenodd\" fill-opacity=\"1\" /><path clip-path=\"url(#clip760)\" d=\"M190.556 1162.29 L208.912 1162.29 L208.912 1166.23 L194.838 1166.23 L194.838 1174.7 Q195.857 1174.35 196.875 1174.19 Q197.894 1174.01 198.912 1174.01 Q204.699 1174.01 208.079 1177.18 Q211.459 1180.35 211.459 1185.77 Q211.459 1191.34 207.987 1194.45 Q204.514 1197.52 198.195 1197.52 Q196.019 1197.52 193.75 1197.15 Q191.505 1196.78 189.098 1196.04 L189.098 1191.34 Q191.181 1192.48 193.403 1193.03 Q195.625 1193.59 198.102 1193.59 Q202.107 1193.59 204.445 1191.48 Q206.783 1189.38 206.783 1185.77 Q206.783 1182.15 204.445 1180.05 Q202.107 1177.94 198.102 1177.94 Q196.227 1177.94 194.352 1178.36 Q192.5 1178.77 190.556 1179.65 L190.556 1162.29 Z\" fill=\"#000000\" fill-rule=\"evenodd\" fill-opacity=\"1\" /><path clip-path=\"url(#clip760)\" d=\"M144.329 918.687 L162.686 918.687 L162.686 922.622 L148.612 922.622 L148.612 931.095 Q149.63 930.747 150.649 930.585 Q151.667 930.4 152.686 930.4 Q158.473 930.4 161.852 933.571 Q165.232 936.743 165.232 942.159 Q165.232 947.738 161.76 950.84 Q158.288 953.919 151.968 953.919 Q149.792 953.919 147.524 953.548 Q145.279 953.178 142.871 952.437 L142.871 947.738 Q144.954 948.872 147.177 949.428 Q149.399 949.983 151.876 949.983 Q155.88 949.983 158.218 947.877 Q160.556 945.77 160.556 942.159 Q160.556 938.548 158.218 936.442 Q155.88 934.335 151.876 934.335 Q150.001 934.335 148.126 934.752 Q146.274 935.169 144.329 936.048 L144.329 918.687 Z\" fill=\"#000000\" fill-rule=\"evenodd\" fill-opacity=\"1\" /><path clip-path=\"url(#clip760)\" d=\"M174.445 947.368 L179.329 947.368 L179.329 953.247 L174.445 953.247 L174.445 947.368 Z\" fill=\"#000000\" fill-rule=\"evenodd\" fill-opacity=\"1\" /><path clip-path=\"url(#clip760)\" d=\"M199.514 921.766 Q195.903 921.766 194.075 925.331 Q192.269 928.872 192.269 936.002 Q192.269 943.108 194.075 946.673 Q195.903 950.215 199.514 950.215 Q203.149 950.215 204.954 946.673 Q206.783 943.108 206.783 936.002 Q206.783 928.872 204.954 925.331 Q203.149 921.766 199.514 921.766 M199.514 918.062 Q205.324 918.062 208.38 922.669 Q211.459 927.252 211.459 936.002 Q211.459 944.729 208.38 949.335 Q205.324 953.919 199.514 953.919 Q193.704 953.919 190.625 949.335 Q187.57 944.729 187.57 936.002 Q187.57 927.252 190.625 922.669 Q193.704 918.062 199.514 918.062 Z\" fill=\"#000000\" fill-rule=\"evenodd\" fill-opacity=\"1\" /><path clip-path=\"url(#clip760)\" d=\"M144.098 675.081 L166.32 675.081 L166.32 677.072 L153.774 709.641 L148.89 709.641 L160.695 679.016 L144.098 679.016 L144.098 675.081 Z\" fill=\"#000000\" fill-rule=\"evenodd\" fill-opacity=\"1\" /><path clip-path=\"url(#clip760)\" d=\"M175.44 703.761 L180.325 703.761 L180.325 709.641 L175.44 709.641 L175.44 703.761 Z\" fill=\"#000000\" fill-rule=\"evenodd\" fill-opacity=\"1\" /><path clip-path=\"url(#clip760)\" d=\"M190.556 675.081 L208.912 675.081 L208.912 679.016 L194.838 679.016 L194.838 687.488 Q195.857 687.141 196.875 686.979 Q197.894 686.794 198.912 686.794 Q204.699 686.794 208.079 689.965 Q211.459 693.136 211.459 698.553 Q211.459 704.132 207.987 707.234 Q204.514 710.312 198.195 710.312 Q196.019 710.312 193.75 709.942 Q191.505 709.572 189.098 708.831 L189.098 704.132 Q191.181 705.266 193.403 705.822 Q195.625 706.377 198.102 706.377 Q202.107 706.377 204.445 704.271 Q206.783 702.164 206.783 698.553 Q206.783 694.942 204.445 692.836 Q202.107 690.729 198.102 690.729 Q196.227 690.729 194.352 691.146 Q192.5 691.562 190.556 692.442 L190.556 675.081 Z\" fill=\"#000000\" fill-rule=\"evenodd\" fill-opacity=\"1\" /><path clip-path=\"url(#clip760)\" d=\"M114.931 462.1 L122.57 462.1 L122.57 435.734 L114.26 437.401 L114.26 433.141 L122.524 431.475 L127.2 431.475 L127.2 462.1 L134.839 462.1 L134.839 466.035 L114.931 466.035 L114.931 462.1 Z\" fill=\"#000000\" fill-rule=\"evenodd\" fill-opacity=\"1\" /><path clip-path=\"url(#clip760)\" d=\"M154.283 434.553 Q150.672 434.553 148.843 438.118 Q147.038 441.66 147.038 448.789 Q147.038 455.896 148.843 459.461 Q150.672 463.002 154.283 463.002 Q157.917 463.002 159.723 459.461 Q161.552 455.896 161.552 448.789 Q161.552 441.66 159.723 438.118 Q157.917 434.553 154.283 434.553 M154.283 430.85 Q160.093 430.85 163.149 435.456 Q166.227 440.04 166.227 448.789 Q166.227 457.516 163.149 462.123 Q160.093 466.706 154.283 466.706 Q148.473 466.706 145.394 462.123 Q142.339 457.516 142.339 448.789 Q142.339 440.04 145.394 435.456 Q148.473 430.85 154.283 430.85 Z\" fill=\"#000000\" fill-rule=\"evenodd\" fill-opacity=\"1\" /><path clip-path=\"url(#clip760)\" d=\"M174.445 460.155 L179.329 460.155 L179.329 466.035 L174.445 466.035 L174.445 460.155 Z\" fill=\"#000000\" fill-rule=\"evenodd\" fill-opacity=\"1\" /><path clip-path=\"url(#clip760)\" d=\"M199.514 434.553 Q195.903 434.553 194.075 438.118 Q192.269 441.66 192.269 448.789 Q192.269 455.896 194.075 459.461 Q195.903 463.002 199.514 463.002 Q203.149 463.002 204.954 459.461 Q206.783 455.896 206.783 448.789 Q206.783 441.66 204.954 438.118 Q203.149 434.553 199.514 434.553 M199.514 430.85 Q205.324 430.85 208.38 435.456 Q211.459 440.04 211.459 448.789 Q211.459 457.516 208.38 462.123 Q205.324 466.706 199.514 466.706 Q193.704 466.706 190.625 462.123 Q187.57 457.516 187.57 448.789 Q187.57 440.04 190.625 435.456 Q193.704 430.85 199.514 430.85 Z\" fill=\"#000000\" fill-rule=\"evenodd\" fill-opacity=\"1\" /><path clip-path=\"url(#clip760)\" d=\"M115.927 218.493 L123.566 218.493 L123.566 192.128 L115.256 193.794 L115.256 189.535 L123.519 187.868 L128.195 187.868 L128.195 218.493 L135.834 218.493 L135.834 222.428 L115.927 222.428 L115.927 218.493 Z\" fill=\"#000000\" fill-rule=\"evenodd\" fill-opacity=\"1\" /><path clip-path=\"url(#clip760)\" d=\"M149.306 218.493 L165.626 218.493 L165.626 222.428 L143.681 222.428 L143.681 218.493 Q146.343 215.739 150.927 211.109 Q155.533 206.456 156.714 205.114 Q158.959 202.591 159.839 200.855 Q160.741 199.095 160.741 197.405 Q160.741 194.651 158.797 192.915 Q156.876 191.179 153.774 191.179 Q151.575 191.179 149.121 191.943 Q146.691 192.706 143.913 194.257 L143.913 189.535 Q146.737 188.401 149.191 187.822 Q151.644 187.243 153.681 187.243 Q159.052 187.243 162.246 189.929 Q165.44 192.614 165.44 197.105 Q165.44 199.234 164.63 201.155 Q163.843 203.054 161.737 205.646 Q161.158 206.317 158.056 209.535 Q154.954 212.729 149.306 218.493 Z\" fill=\"#000000\" fill-rule=\"evenodd\" fill-opacity=\"1\" /><path clip-path=\"url(#clip760)\" d=\"M175.44 216.549 L180.325 216.549 L180.325 222.428 L175.44 222.428 L175.44 216.549 Z\" fill=\"#000000\" fill-rule=\"evenodd\" fill-opacity=\"1\" /><path clip-path=\"url(#clip760)\" d=\"M190.556 187.868 L208.912 187.868 L208.912 191.804 L194.838 191.804 L194.838 200.276 Q195.857 199.929 196.875 199.767 Q197.894 199.581 198.912 199.581 Q204.699 199.581 208.079 202.753 Q211.459 205.924 211.459 211.341 Q211.459 216.919 207.987 220.021 Q204.514 223.1 198.195 223.1 Q196.019 223.1 193.75 222.729 Q191.505 222.359 189.098 221.618 L189.098 216.919 Q191.181 218.053 193.403 218.609 Q195.625 219.165 198.102 219.165 Q202.107 219.165 204.445 217.058 Q206.783 214.952 206.783 211.341 Q206.783 207.729 204.445 205.623 Q202.107 203.517 198.102 203.517 Q196.227 203.517 194.352 203.933 Q192.5 204.35 190.556 205.229 L190.556 187.868 Z\" fill=\"#000000\" fill-rule=\"evenodd\" fill-opacity=\"1\" /><path clip-path=\"url(#clip760)\" d=\"M14.479 984.955 L14.479 979.098 L64.0042 979.098 L64.0042 984.955 L14.479 984.955 Z\" fill=\"#000000\" fill-rule=\"evenodd\" fill-opacity=\"1\" /><path clip-path=\"url(#clip760)\" d=\"M32.4621 953.031 Q32.4621 957.741 36.1542 960.478 Q39.8145 963.216 46.212 963.216 Q52.6095 963.216 56.3017 960.51 Q59.9619 957.773 59.9619 953.031 Q59.9619 948.352 56.2698 945.614 Q52.5777 942.877 46.212 942.877 Q39.8781 942.877 36.186 945.614 Q32.4621 948.352 32.4621 953.031 M27.4968 953.031 Q27.4968 945.392 32.4621 941.031 Q37.4273 936.671 46.212 936.671 Q54.9649 936.671 59.9619 941.031 Q64.9272 945.392 64.9272 953.031 Q64.9272 960.701 59.9619 965.062 Q54.9649 969.39 46.212 969.39 Q37.4273 969.39 32.4621 965.062 Q27.4968 960.701 27.4968 953.031 Z\" fill=\"#000000\" fill-rule=\"evenodd\" fill-opacity=\"1\" /><path clip-path=\"url(#clip760)\" d=\"M45.7664 903.505 Q39.4007 903.505 35.8996 906.147 Q32.3984 908.757 32.3984 913.499 Q32.3984 918.21 35.8996 920.852 Q39.4007 923.462 45.7664 923.462 Q52.1003 923.462 55.6014 920.852 Q59.1026 918.21 59.1026 913.499 Q59.1026 908.757 55.6014 906.147 Q52.1003 903.505 45.7664 903.505 M59.58 897.649 Q68.683 897.649 73.1071 901.691 Q77.5631 905.733 77.5631 914.072 Q77.5631 917.16 77.0857 919.897 Q76.6401 922.634 75.6852 925.212 L69.9879 925.212 Q71.3884 922.634 72.0568 920.12 Q72.7252 917.605 72.7252 914.995 Q72.7252 909.234 69.7015 906.37 Q66.7096 903.505 60.6303 903.505 L57.7339 903.505 Q60.885 905.32 62.4446 908.152 Q64.0042 910.985 64.0042 914.932 Q64.0042 921.488 59.0071 925.499 Q54.01 929.509 45.7664 929.509 Q37.491 929.509 32.4939 925.499 Q27.4968 921.488 27.4968 914.932 Q27.4968 910.985 29.0564 908.152 Q30.616 905.32 33.7671 903.505 L28.3562 903.505 L28.3562 897.649 L59.58 897.649 Z\" fill=\"#000000\" fill-rule=\"evenodd\" fill-opacity=\"1\" /><path clip-path=\"url(#clip760)\" d=\"M14.5426 871.518 Q21.8632 875.783 29.0246 877.852 Q36.186 879.92 43.5384 879.92 Q50.8908 879.92 58.1159 877.852 Q65.3091 875.751 72.5979 871.518 L72.5979 876.61 Q65.1182 881.385 57.8931 883.772 Q50.668 886.127 43.5384 886.127 Q36.4406 886.127 29.2474 883.772 Q22.0542 881.416 14.5426 876.61 L14.5426 871.518 Z\" fill=\"#000000\" fill-rule=\"evenodd\" fill-opacity=\"1\" /><path clip-path=\"url(#clip760)\" d=\"M35.3266 832.973 L35.3266 842.235 L45.9574 844.909 L45.9574 835.583 L35.3266 832.973 M17.2162 837.748 L30.4251 841.058 L30.4251 831.764 L17.2162 828.422 L17.2162 823.329 L30.4251 826.608 L30.4251 816.677 L35.3266 816.677 L35.3266 827.849 L45.9574 830.459 L45.9574 820.337 L50.8271 820.337 L50.8271 831.7 L64.0042 835.01 L64.0042 840.103 L50.8271 836.825 L50.8271 846.15 L64.0042 849.429 L64.0042 854.553 L50.8271 851.243 L50.8271 861.269 L45.9574 861.269 L45.9574 850.065 L35.3266 847.392 L35.3266 857.64 L30.4251 857.64 L30.4251 846.15 L17.2162 842.904 L17.2162 837.748 Z\" fill=\"#000000\" fill-rule=\"evenodd\" fill-opacity=\"1\" /><path clip-path=\"url(#clip760)\" d=\"M32.4621 771.003 Q32.4621 775.714 36.1542 778.451 Q39.8145 781.188 46.212 781.188 Q52.6095 781.188 56.3017 778.483 Q59.9619 775.746 59.9619 771.003 Q59.9619 766.324 56.2698 763.587 Q52.5777 760.85 46.212 760.85 Q39.8781 760.85 36.186 763.587 Q32.4621 766.324 32.4621 771.003 M27.4968 771.003 Q27.4968 763.364 32.4621 759.004 Q37.4273 754.643 46.212 754.643 Q54.9649 754.643 59.9619 759.004 Q64.9272 763.364 64.9272 771.003 Q64.9272 778.674 59.9619 783.034 Q54.9649 787.363 46.212 787.363 Q37.4273 787.363 32.4621 783.034 Q27.4968 778.674 27.4968 771.003 Z\" fill=\"#000000\" fill-rule=\"evenodd\" fill-opacity=\"1\" /><path clip-path=\"url(#clip760)\" d=\"M14.479 726.889 L19.3487 726.889 L19.3487 732.491 Q19.3487 735.642 20.6219 736.883 Q21.895 738.092 25.2052 738.092 L28.3562 738.092 L28.3562 728.448 L32.9077 728.448 L32.9077 738.092 L64.0042 738.092 L64.0042 743.981 L32.9077 743.981 L32.9077 749.583 L28.3562 749.583 L28.3562 743.981 L25.8736 743.981 Q19.9216 743.981 17.2162 741.212 Q14.479 738.443 14.479 732.427 L14.479 726.889 Z\" fill=\"#000000\" fill-rule=\"evenodd\" fill-opacity=\"1\" /><path clip-path=\"url(#clip760)\" d=\"M14.479 701.49 L14.479 695.601 L43.7294 695.601 L28.3562 678.127 L28.3562 670.648 L45.0344 689.554 L64.0042 669.852 L64.0042 677.491 L46.5939 695.601 L64.0042 695.601 L64.0042 701.49 L14.479 701.49 Z\" fill=\"#000000\" fill-rule=\"evenodd\" fill-opacity=\"1\" /><path clip-path=\"url(#clip760)\" d=\"M35.1993 635.764 Q31.2526 633.568 29.3747 630.512 Q27.4968 627.456 27.4968 623.319 Q27.4968 617.749 31.4117 614.725 Q35.2948 611.701 42.4881 611.701 L64.0042 611.701 L64.0042 617.59 L42.679 617.59 Q37.5546 617.59 35.072 619.404 Q32.5894 621.218 32.5894 624.942 Q32.5894 629.493 35.6131 632.135 Q38.6368 634.777 43.8567 634.777 L64.0042 634.777 L64.0042 640.665 L42.679 640.665 Q37.5228 640.665 35.072 642.48 Q32.5894 644.294 32.5894 648.081 Q32.5894 652.569 35.6449 655.211 Q38.6686 657.853 43.8567 657.853 L64.0042 657.853 L64.0042 663.741 L28.3562 663.741 L28.3562 657.853 L33.8944 657.853 Q30.616 655.848 29.0564 653.047 Q27.4968 650.246 27.4968 646.394 Q27.4968 642.511 29.4702 639.806 Q31.4436 637.069 35.1993 635.764 Z\" fill=\"#000000\" fill-rule=\"evenodd\" fill-opacity=\"1\" /><path clip-path=\"url(#clip760)\" d=\"M44.7161 569.529 L47.5806 569.529 L47.5806 596.455 Q53.6281 596.074 56.8109 592.827 Q59.9619 589.549 59.9619 583.724 Q59.9619 580.35 59.1344 577.199 Q58.3069 574.016 56.6518 570.897 L62.1899 570.897 Q63.5267 574.048 64.227 577.358 Q64.9272 580.669 64.9272 584.074 Q64.9272 592.604 59.9619 597.601 Q54.9967 602.567 46.5303 602.567 Q37.7774 602.567 32.6531 597.856 Q27.4968 593.113 27.4968 585.093 Q27.4968 577.899 32.1438 573.73 Q36.7589 569.529 44.7161 569.529 M42.9973 575.385 Q38.1912 575.449 35.3266 578.09 Q32.4621 580.7 32.4621 585.029 Q32.4621 589.931 35.2312 592.891 Q38.0002 595.819 43.0292 596.265 L42.9973 575.385 Z\" fill=\"#000000\" fill-rule=\"evenodd\" fill-opacity=\"1\" /><path clip-path=\"url(#clip760)\" d=\"M33.8307 539.26 Q33.2578 540.246 33.0032 541.424 Q32.7167 542.57 32.7167 543.97 Q32.7167 548.935 35.9632 551.609 Q39.1779 554.251 45.2253 554.251 L64.0042 554.251 L64.0042 560.139 L28.3562 560.139 L28.3562 554.251 L33.8944 554.251 Q30.6479 552.405 29.0883 549.445 Q27.4968 546.485 27.4968 542.251 Q27.4968 541.647 27.5923 540.915 Q27.656 540.183 27.8151 539.291 L33.8307 539.26 Z\" fill=\"#000000\" fill-rule=\"evenodd\" fill-opacity=\"1\" /><path clip-path=\"url(#clip760)\" d=\"M29.4065 510.391 L34.9447 510.391 Q33.6716 512.874 33.035 515.547 Q32.3984 518.221 32.3984 521.086 Q32.3984 525.446 33.7352 527.642 Q35.072 529.807 37.7456 529.807 Q39.7826 529.807 40.9603 528.247 Q42.1061 526.687 43.1565 521.977 L43.6021 519.972 Q44.9389 513.733 47.3897 511.123 Q49.8086 508.481 54.1691 508.481 Q59.1344 508.481 62.0308 512.428 Q64.9272 516.343 64.9272 523.218 Q64.9272 526.083 64.3543 529.202 Q63.8132 532.289 62.6992 535.727 L56.6518 535.727 Q58.3387 532.48 59.198 529.329 Q60.0256 526.178 60.0256 523.091 Q60.0256 518.953 58.6251 516.725 Q57.1929 514.497 54.6147 514.497 Q52.2276 514.497 50.9545 516.12 Q49.6813 517.712 48.5037 523.154 L48.0262 525.191 Q46.8804 530.634 44.5251 533.053 Q42.138 535.472 38.0002 535.472 Q32.9713 535.472 30.2341 531.907 Q27.4968 528.342 27.4968 521.786 Q27.4968 518.539 27.9743 515.675 Q28.4517 512.81 29.4065 510.391 Z\" fill=\"#000000\" fill-rule=\"evenodd\" fill-opacity=\"1\" /><path clip-path=\"url(#clip760)\" d=\"M14.5426 500.079 L14.5426 494.986 Q22.0542 490.212 29.2474 487.857 Q36.4406 485.469 43.5384 485.469 Q50.668 485.469 57.8931 487.857 Q65.1182 490.212 72.5979 494.986 L72.5979 500.079 Q65.3091 495.845 58.1159 493.777 Q50.8908 491.676 43.5384 491.676 Q36.186 491.676 29.0246 493.777 Q21.8632 495.845 14.5426 500.079 Z\" fill=\"#000000\" fill-rule=\"evenodd\" fill-opacity=\"1\" /><circle clip-path=\"url(#clip762)\" cx=\"1452\" cy=\"1355.64\" r=\"14\" fill=\"#009af9\" fill-rule=\"evenodd\" fill-opacity=\"1\" stroke=\"#000000\" stroke-opacity=\"1\" stroke-width=\"3.2\"/>\n",
       "<circle clip-path=\"url(#clip762)\" cx=\"1311.36\" cy=\"1050.11\" r=\"14\" fill=\"#009af9\" fill-rule=\"evenodd\" fill-opacity=\"1\" stroke=\"#000000\" stroke-opacity=\"1\" stroke-width=\"3.2\"/>\n",
       "<circle clip-path=\"url(#clip762)\" cx=\"1472.65\" cy=\"1355.64\" r=\"14\" fill=\"#009af9\" fill-rule=\"evenodd\" fill-opacity=\"1\" stroke=\"#000000\" stroke-opacity=\"1\" stroke-width=\"3.2\"/>\n",
       "<circle clip-path=\"url(#clip762)\" cx=\"1962.13\" cy=\"1423.18\" r=\"14\" fill=\"#009af9\" fill-rule=\"evenodd\" fill-opacity=\"1\" stroke=\"#000000\" stroke-opacity=\"1\" stroke-width=\"3.2\"/>\n",
       "<circle clip-path=\"url(#clip762)\" cx=\"1505.67\" cy=\"1423.18\" r=\"14\" fill=\"#009af9\" fill-rule=\"evenodd\" fill-opacity=\"1\" stroke=\"#000000\" stroke-opacity=\"1\" stroke-width=\"3.2\"/>\n",
       "<circle clip-path=\"url(#clip762)\" cx=\"1972.63\" cy=\"1355.64\" r=\"14\" fill=\"#009af9\" fill-rule=\"evenodd\" fill-opacity=\"1\" stroke=\"#000000\" stroke-opacity=\"1\" stroke-width=\"3.2\"/>\n",
       "<circle clip-path=\"url(#clip762)\" cx=\"1998.67\" cy=\"1153.01\" r=\"14\" fill=\"#009af9\" fill-rule=\"evenodd\" fill-opacity=\"1\" stroke=\"#000000\" stroke-opacity=\"1\" stroke-width=\"3.2\"/>\n",
       "<circle clip-path=\"url(#clip762)\" cx=\"2043.32\" cy=\"1355.64\" r=\"14\" fill=\"#009af9\" fill-rule=\"evenodd\" fill-opacity=\"1\" stroke=\"#000000\" stroke-opacity=\"1\" stroke-width=\"3.2\"/>\n",
       "<circle clip-path=\"url(#clip762)\" cx=\"2012.94\" cy=\"1198.81\" r=\"14\" fill=\"#009af9\" fill-rule=\"evenodd\" fill-opacity=\"1\" stroke=\"#000000\" stroke-opacity=\"1\" stroke-width=\"3.2\"/>\n",
       "<circle clip-path=\"url(#clip762)\" cx=\"1985.49\" cy=\"1147.1\" r=\"14\" fill=\"#009af9\" fill-rule=\"evenodd\" fill-opacity=\"1\" stroke=\"#000000\" stroke-opacity=\"1\" stroke-width=\"3.2\"/>\n",
       "<circle clip-path=\"url(#clip762)\" cx=\"2012.12\" cy=\"1141.53\" r=\"14\" fill=\"#009af9\" fill-rule=\"evenodd\" fill-opacity=\"1\" stroke=\"#000000\" stroke-opacity=\"1\" stroke-width=\"3.2\"/>\n",
       "<circle clip-path=\"url(#clip762)\" cx=\"2021.83\" cy=\"1288.1\" r=\"14\" fill=\"#009af9\" fill-rule=\"evenodd\" fill-opacity=\"1\" stroke=\"#000000\" stroke-opacity=\"1\" stroke-width=\"3.2\"/>\n",
       "<circle clip-path=\"url(#clip762)\" cx=\"991.042\" cy=\"734.356\" r=\"14\" fill=\"#009af9\" fill-rule=\"evenodd\" fill-opacity=\"1\" stroke=\"#000000\" stroke-opacity=\"1\" stroke-width=\"3.2\"/>\n",
       "<circle clip-path=\"url(#clip762)\" cx=\"1185.72\" cy=\"923.888\" r=\"14\" fill=\"#009af9\" fill-rule=\"evenodd\" fill-opacity=\"1\" stroke=\"#000000\" stroke-opacity=\"1\" stroke-width=\"3.2\"/>\n",
       "<circle clip-path=\"url(#clip762)\" cx=\"1358.71\" cy=\"1131.27\" r=\"14\" fill=\"#009af9\" fill-rule=\"evenodd\" fill-opacity=\"1\" stroke=\"#000000\" stroke-opacity=\"1\" stroke-width=\"3.2\"/>\n",
       "<circle clip-path=\"url(#clip762)\" cx=\"1510.1\" cy=\"1288.1\" r=\"14\" fill=\"#009af9\" fill-rule=\"evenodd\" fill-opacity=\"1\" stroke=\"#000000\" stroke-opacity=\"1\" stroke-width=\"3.2\"/>\n",
       "<circle clip-path=\"url(#clip762)\" cx=\"1547.3\" cy=\"1423.18\" r=\"14\" fill=\"#009af9\" fill-rule=\"evenodd\" fill-opacity=\"1\" stroke=\"#000000\" stroke-opacity=\"1\" stroke-width=\"3.2\"/>\n",
       "<circle clip-path=\"url(#clip762)\" cx=\"1990.83\" cy=\"1121.98\" r=\"14\" fill=\"#009af9\" fill-rule=\"evenodd\" fill-opacity=\"1\" stroke=\"#000000\" stroke-opacity=\"1\" stroke-width=\"3.2\"/>\n",
       "<circle clip-path=\"url(#clip762)\" cx=\"1523.02\" cy=\"1423.18\" r=\"14\" fill=\"#009af9\" fill-rule=\"evenodd\" fill-opacity=\"1\" stroke=\"#000000\" stroke-opacity=\"1\" stroke-width=\"3.2\"/>\n",
       "<circle clip-path=\"url(#clip762)\" cx=\"1501.17\" cy=\"1423.18\" r=\"14\" fill=\"#009af9\" fill-rule=\"evenodd\" fill-opacity=\"1\" stroke=\"#000000\" stroke-opacity=\"1\" stroke-width=\"3.2\"/>\n",
       "<circle clip-path=\"url(#clip762)\" cx=\"1467.62\" cy=\"1355.64\" r=\"14\" fill=\"#009af9\" fill-rule=\"evenodd\" fill-opacity=\"1\" stroke=\"#000000\" stroke-opacity=\"1\" stroke-width=\"3.2\"/>\n",
       "<circle clip-path=\"url(#clip762)\" cx=\"1988.17\" cy=\"1117.65\" r=\"14\" fill=\"#009af9\" fill-rule=\"evenodd\" fill-opacity=\"1\" stroke=\"#000000\" stroke-opacity=\"1\" stroke-width=\"3.2\"/>\n",
       "<circle clip-path=\"url(#clip762)\" cx=\"1222.41\" cy=\"943.056\" r=\"14\" fill=\"#009af9\" fill-rule=\"evenodd\" fill-opacity=\"1\" stroke=\"#000000\" stroke-opacity=\"1\" stroke-width=\"3.2\"/>\n",
       "<circle clip-path=\"url(#clip762)\" cx=\"2007.15\" cy=\"1126.51\" r=\"14\" fill=\"#009af9\" fill-rule=\"evenodd\" fill-opacity=\"1\" stroke=\"#000000\" stroke-opacity=\"1\" stroke-width=\"3.2\"/>\n",
       "<circle clip-path=\"url(#clip762)\" cx=\"2013.76\" cy=\"1248.59\" r=\"14\" fill=\"#009af9\" fill-rule=\"evenodd\" fill-opacity=\"1\" stroke=\"#000000\" stroke-opacity=\"1\" stroke-width=\"3.2\"/>\n",
       "<circle clip-path=\"url(#clip762)\" cx=\"1994.34\" cy=\"1117.65\" r=\"14\" fill=\"#009af9\" fill-rule=\"evenodd\" fill-opacity=\"1\" stroke=\"#000000\" stroke-opacity=\"1\" stroke-width=\"3.2\"/>\n",
       "<circle clip-path=\"url(#clip762)\" cx=\"2020.23\" cy=\"1233.57\" r=\"14\" fill=\"#009af9\" fill-rule=\"evenodd\" fill-opacity=\"1\" stroke=\"#000000\" stroke-opacity=\"1\" stroke-width=\"3.2\"/>\n",
       "<circle clip-path=\"url(#clip762)\" cx=\"2031.23\" cy=\"1316.13\" r=\"14\" fill=\"#009af9\" fill-rule=\"evenodd\" fill-opacity=\"1\" stroke=\"#000000\" stroke-opacity=\"1\" stroke-width=\"3.2\"/>\n",
       "<circle clip-path=\"url(#clip762)\" cx=\"2032\" cy=\"1355.64\" r=\"14\" fill=\"#009af9\" fill-rule=\"evenodd\" fill-opacity=\"1\" stroke=\"#000000\" stroke-opacity=\"1\" stroke-width=\"3.2\"/>\n",
       "<circle clip-path=\"url(#clip762)\" cx=\"1393.14\" cy=\"1153.01\" r=\"14\" fill=\"#009af9\" fill-rule=\"evenodd\" fill-opacity=\"1\" stroke=\"#000000\" stroke-opacity=\"1\" stroke-width=\"3.2\"/>\n",
       "<circle clip-path=\"url(#clip762)\" cx=\"1457.3\" cy=\"1355.64\" r=\"14\" fill=\"#009af9\" fill-rule=\"evenodd\" fill-opacity=\"1\" stroke=\"#000000\" stroke-opacity=\"1\" stroke-width=\"3.2\"/>\n",
       "<circle clip-path=\"url(#clip762)\" cx=\"2025.78\" cy=\"1266.35\" r=\"14\" fill=\"#009af9\" fill-rule=\"evenodd\" fill-opacity=\"1\" stroke=\"#000000\" stroke-opacity=\"1\" stroke-width=\"3.2\"/>\n",
       "<circle clip-path=\"url(#clip762)\" cx=\"2038.09\" cy=\"1423.18\" r=\"14\" fill=\"#009af9\" fill-rule=\"evenodd\" fill-opacity=\"1\" stroke=\"#000000\" stroke-opacity=\"1\" stroke-width=\"3.2\"/>\n",
       "<circle clip-path=\"url(#clip762)\" cx=\"1551.16\" cy=\"1423.18\" r=\"14\" fill=\"#009af9\" fill-rule=\"evenodd\" fill-opacity=\"1\" stroke=\"#000000\" stroke-opacity=\"1\" stroke-width=\"3.2\"/>\n",
       "<circle clip-path=\"url(#clip762)\" cx=\"1527.21\" cy=\"1355.64\" r=\"14\" fill=\"#009af9\" fill-rule=\"evenodd\" fill-opacity=\"1\" stroke=\"#000000\" stroke-opacity=\"1\" stroke-width=\"3.2\"/>\n",
       "<circle clip-path=\"url(#clip762)\" cx=\"247.459\" cy=\"242.129\" r=\"14\" fill=\"#009af9\" fill-rule=\"evenodd\" fill-opacity=\"1\" stroke=\"#000000\" stroke-opacity=\"1\" stroke-width=\"3.2\"/>\n",
       "<circle clip-path=\"url(#clip762)\" cx=\"1172.42\" cy=\"902.609\" r=\"14\" fill=\"#009af9\" fill-rule=\"evenodd\" fill-opacity=\"1\" stroke=\"#000000\" stroke-opacity=\"1\" stroke-width=\"3.2\"/>\n",
       "<circle clip-path=\"url(#clip762)\" cx=\"1966.95\" cy=\"1288.1\" r=\"14\" fill=\"#009af9\" fill-rule=\"evenodd\" fill-opacity=\"1\" stroke=\"#000000\" stroke-opacity=\"1\" stroke-width=\"3.2\"/>\n",
       "<circle clip-path=\"url(#clip762)\" cx=\"2033.53\" cy=\"1288.1\" r=\"14\" fill=\"#009af9\" fill-rule=\"evenodd\" fill-opacity=\"1\" stroke=\"#000000\" stroke-opacity=\"1\" stroke-width=\"3.2\"/>\n",
       "<circle clip-path=\"url(#clip762)\" cx=\"2003.79\" cy=\"1109.52\" r=\"14\" fill=\"#009af9\" fill-rule=\"evenodd\" fill-opacity=\"1\" stroke=\"#000000\" stroke-opacity=\"1\" stroke-width=\"3.2\"/>\n",
       "<circle clip-path=\"url(#clip762)\" cx=\"1293.75\" cy=\"1032.7\" r=\"14\" fill=\"#009af9\" fill-rule=\"evenodd\" fill-opacity=\"1\" stroke=\"#000000\" stroke-opacity=\"1\" stroke-width=\"3.2\"/>\n",
       "<circle clip-path=\"url(#clip762)\" cx=\"1996.08\" cy=\"1131.27\" r=\"14\" fill=\"#009af9\" fill-rule=\"evenodd\" fill-opacity=\"1\" stroke=\"#000000\" stroke-opacity=\"1\" stroke-width=\"3.2\"/>\n",
       "<circle clip-path=\"url(#clip762)\" cx=\"1351.32\" cy=\"1102.03\" r=\"14\" fill=\"#009af9\" fill-rule=\"evenodd\" fill-opacity=\"1\" stroke=\"#000000\" stroke-opacity=\"1\" stroke-width=\"3.2\"/>\n",
       "<circle clip-path=\"url(#clip762)\" cx=\"729.067\" cy=\"550.287\" r=\"14\" fill=\"#009af9\" fill-rule=\"evenodd\" fill-opacity=\"1\" stroke=\"#000000\" stroke-opacity=\"1\" stroke-width=\"3.2\"/>\n",
       "<circle clip-path=\"url(#clip762)\" cx=\"1446.61\" cy=\"1355.64\" r=\"14\" fill=\"#009af9\" fill-rule=\"evenodd\" fill-opacity=\"1\" stroke=\"#000000\" stroke-opacity=\"1\" stroke-width=\"3.2\"/>\n",
       "<circle clip-path=\"url(#clip762)\" cx=\"1978.21\" cy=\"1209.08\" r=\"14\" fill=\"#009af9\" fill-rule=\"evenodd\" fill-opacity=\"1\" stroke=\"#000000\" stroke-opacity=\"1\" stroke-width=\"3.2\"/>\n",
       "<circle clip-path=\"url(#clip762)\" cx=\"1386.56\" cy=\"1109.52\" r=\"14\" fill=\"#009af9\" fill-rule=\"evenodd\" fill-opacity=\"1\" stroke=\"#000000\" stroke-opacity=\"1\" stroke-width=\"3.2\"/>\n",
       "<circle clip-path=\"url(#clip762)\" cx=\"2053.52\" cy=\"1423.18\" r=\"14\" fill=\"#009af9\" fill-rule=\"evenodd\" fill-opacity=\"1\" stroke=\"#000000\" stroke-opacity=\"1\" stroke-width=\"3.2\"/>\n",
       "<circle clip-path=\"url(#clip762)\" cx=\"1989.06\" cy=\"1113.5\" r=\"14\" fill=\"#009af9\" fill-rule=\"evenodd\" fill-opacity=\"1\" stroke=\"#000000\" stroke-opacity=\"1\" stroke-width=\"3.2\"/>\n",
       "<circle clip-path=\"url(#clip762)\" cx=\"1993.47\" cy=\"1126.51\" r=\"14\" fill=\"#009af9\" fill-rule=\"evenodd\" fill-opacity=\"1\" stroke=\"#000000\" stroke-opacity=\"1\" stroke-width=\"3.2\"/>\n",
       "<circle clip-path=\"url(#clip762)\" cx=\"2011.3\" cy=\"1147.1\" r=\"14\" fill=\"#009af9\" fill-rule=\"evenodd\" fill-opacity=\"1\" stroke=\"#000000\" stroke-opacity=\"1\" stroke-width=\"3.2\"/>\n",
       "<circle clip-path=\"url(#clip762)\" cx=\"2023.42\" cy=\"1220.55\" r=\"14\" fill=\"#009af9\" fill-rule=\"evenodd\" fill-opacity=\"1\" stroke=\"#000000\" stroke-opacity=\"1\" stroke-width=\"3.2\"/>\n",
       "<circle clip-path=\"url(#clip762)\" cx=\"2001.24\" cy=\"1105.7\" r=\"14\" fill=\"#009af9\" fill-rule=\"evenodd\" fill-opacity=\"1\" stroke=\"#000000\" stroke-opacity=\"1\" stroke-width=\"3.2\"/>\n",
       "<circle clip-path=\"url(#clip762)\" cx=\"1244.59\" cy=\"960.822\" r=\"14\" fill=\"#009af9\" fill-rule=\"evenodd\" fill-opacity=\"1\" stroke=\"#000000\" stroke-opacity=\"1\" stroke-width=\"3.2\"/>\n",
       "<circle clip-path=\"url(#clip762)\" cx=\"1319.79\" cy=\"1058.97\" r=\"14\" fill=\"#009af9\" fill-rule=\"evenodd\" fill-opacity=\"1\" stroke=\"#000000\" stroke-opacity=\"1\" stroke-width=\"3.2\"/>\n",
       "<circle clip-path=\"url(#clip762)\" cx=\"1573.34\" cy=\"1423.18\" r=\"14\" fill=\"#009af9\" fill-rule=\"evenodd\" fill-opacity=\"1\" stroke=\"#000000\" stroke-opacity=\"1\" stroke-width=\"3.2\"/>\n",
       "<circle clip-path=\"url(#clip762)\" cx=\"829.753\" cy=\"603.466\" r=\"14\" fill=\"#009af9\" fill-rule=\"evenodd\" fill-opacity=\"1\" stroke=\"#000000\" stroke-opacity=\"1\" stroke-width=\"3.2\"/>\n",
       "<circle clip-path=\"url(#clip762)\" cx=\"1210.67\" cy=\"945.198\" r=\"14\" fill=\"#009af9\" fill-rule=\"evenodd\" fill-opacity=\"1\" stroke=\"#000000\" stroke-opacity=\"1\" stroke-width=\"3.2\"/>\n",
       "<circle clip-path=\"url(#clip762)\" cx=\"2002.94\" cy=\"1147.1\" r=\"14\" fill=\"#009af9\" fill-rule=\"evenodd\" fill-opacity=\"1\" stroke=\"#000000\" stroke-opacity=\"1\" stroke-width=\"3.2\"/>\n",
       "<circle clip-path=\"url(#clip762)\" cx=\"1112.37\" cy=\"860.191\" r=\"14\" fill=\"#009af9\" fill-rule=\"evenodd\" fill-opacity=\"1\" stroke=\"#000000\" stroke-opacity=\"1\" stroke-width=\"3.2\"/>\n",
       "<circle clip-path=\"url(#clip762)\" cx=\"1077.13\" cy=\"821.591\" r=\"14\" fill=\"#009af9\" fill-rule=\"evenodd\" fill-opacity=\"1\" stroke=\"#000000\" stroke-opacity=\"1\" stroke-width=\"3.2\"/>\n",
       "<circle clip-path=\"url(#clip762)\" cx=\"2034.3\" cy=\"1288.1\" r=\"14\" fill=\"#009af9\" fill-rule=\"evenodd\" fill-opacity=\"1\" stroke=\"#000000\" stroke-opacity=\"1\" stroke-width=\"3.2\"/>\n",
       "<circle clip-path=\"url(#clip762)\" cx=\"2017.02\" cy=\"1181.04\" r=\"14\" fill=\"#009af9\" fill-rule=\"evenodd\" fill-opacity=\"1\" stroke=\"#000000\" stroke-opacity=\"1\" stroke-width=\"3.2\"/>\n",
       "<circle clip-path=\"url(#clip762)\" cx=\"1992.59\" cy=\"1173.24\" r=\"14\" fill=\"#009af9\" fill-rule=\"evenodd\" fill-opacity=\"1\" stroke=\"#000000\" stroke-opacity=\"1\" stroke-width=\"3.2\"/>\n",
       "<circle clip-path=\"url(#clip762)\" cx=\"1999.53\" cy=\"1126.51\" r=\"14\" fill=\"#009af9\" fill-rule=\"evenodd\" fill-opacity=\"1\" stroke=\"#000000\" stroke-opacity=\"1\" stroke-width=\"3.2\"/>\n",
       "<circle clip-path=\"url(#clip762)\" cx=\"1128.55\" cy=\"866.742\" r=\"14\" fill=\"#009af9\" fill-rule=\"evenodd\" fill-opacity=\"1\" stroke=\"#000000\" stroke-opacity=\"1\" stroke-width=\"3.2\"/>\n",
       "<circle clip-path=\"url(#clip762)\" cx=\"1379.84\" cy=\"1141.53\" r=\"14\" fill=\"#009af9\" fill-rule=\"evenodd\" fill-opacity=\"1\" stroke=\"#000000\" stroke-opacity=\"1\" stroke-width=\"3.2\"/>\n",
       "<circle clip-path=\"url(#clip762)\" cx=\"2015.39\" cy=\"1233.57\" r=\"14\" fill=\"#009af9\" fill-rule=\"evenodd\" fill-opacity=\"1\" stroke=\"#000000\" stroke-opacity=\"1\" stroke-width=\"3.2\"/>\n",
       "<circle clip-path=\"url(#clip762)\" cx=\"1275.04\" cy=\"992.597\" r=\"14\" fill=\"#009af9\" fill-rule=\"evenodd\" fill-opacity=\"1\" stroke=\"#000000\" stroke-opacity=\"1\" stroke-width=\"3.2\"/>\n",
       "<circle clip-path=\"url(#clip762)\" cx=\"1535.41\" cy=\"1355.64\" r=\"14\" fill=\"#009af9\" fill-rule=\"evenodd\" fill-opacity=\"1\" stroke=\"#000000\" stroke-opacity=\"1\" stroke-width=\"3.2\"/>\n",
       "<circle clip-path=\"url(#clip762)\" cx=\"1477.6\" cy=\"1355.64\" r=\"14\" fill=\"#009af9\" fill-rule=\"evenodd\" fill-opacity=\"1\" stroke=\"#000000\" stroke-opacity=\"1\" stroke-width=\"3.2\"/>\n",
       "<circle clip-path=\"url(#clip762)\" cx=\"1255.09\" cy=\"978.418\" r=\"14\" fill=\"#009af9\" fill-rule=\"evenodd\" fill-opacity=\"1\" stroke=\"#000000\" stroke-opacity=\"1\" stroke-width=\"3.2\"/>\n",
       "<circle clip-path=\"url(#clip762)\" cx=\"2032.77\" cy=\"1316.13\" r=\"14\" fill=\"#009af9\" fill-rule=\"evenodd\" fill-opacity=\"1\" stroke=\"#000000\" stroke-opacity=\"1\" stroke-width=\"3.2\"/>\n",
       "<circle clip-path=\"url(#clip762)\" cx=\"2025\" cy=\"1316.13\" r=\"14\" fill=\"#009af9\" fill-rule=\"evenodd\" fill-opacity=\"1\" stroke=\"#000000\" stroke-opacity=\"1\" stroke-width=\"3.2\"/>\n",
       "<circle clip-path=\"url(#clip762)\" cx=\"1957.24\" cy=\"1355.64\" r=\"14\" fill=\"#009af9\" fill-rule=\"evenodd\" fill-opacity=\"1\" stroke=\"#000000\" stroke-opacity=\"1\" stroke-width=\"3.2\"/>\n",
       "<circle clip-path=\"url(#clip762)\" cx=\"2008.82\" cy=\"1153.01\" r=\"14\" fill=\"#009af9\" fill-rule=\"evenodd\" fill-opacity=\"1\" stroke=\"#000000\" stroke-opacity=\"1\" stroke-width=\"3.2\"/>\n",
       "<circle clip-path=\"url(#clip762)\" cx=\"2039.6\" cy=\"1423.18\" r=\"14\" fill=\"#009af9\" fill-rule=\"evenodd\" fill-opacity=\"1\" stroke=\"#000000\" stroke-opacity=\"1\" stroke-width=\"3.2\"/>\n",
       "<circle clip-path=\"url(#clip762)\" cx=\"1095.27\" cy=\"834.835\" r=\"14\" fill=\"#009af9\" fill-rule=\"evenodd\" fill-opacity=\"1\" stroke=\"#000000\" stroke-opacity=\"1\" stroke-width=\"3.2\"/>\n",
       "<circle clip-path=\"url(#clip762)\" cx=\"1987.28\" cy=\"1153.01\" r=\"14\" fill=\"#009af9\" fill-rule=\"evenodd\" fill-opacity=\"1\" stroke=\"#000000\" stroke-opacity=\"1\" stroke-width=\"3.2\"/>\n",
       "<circle clip-path=\"url(#clip762)\" cx=\"1983.68\" cy=\"1136.27\" r=\"14\" fill=\"#009af9\" fill-rule=\"evenodd\" fill-opacity=\"1\" stroke=\"#000000\" stroke-opacity=\"1\" stroke-width=\"3.2\"/>\n",
       "<circle clip-path=\"url(#clip762)\" cx=\"1424.02\" cy=\"1220.55\" r=\"14\" fill=\"#009af9\" fill-rule=\"evenodd\" fill-opacity=\"1\" stroke=\"#000000\" stroke-opacity=\"1\" stroke-width=\"3.2\"/>\n",
       "<circle clip-path=\"url(#clip762)\" cx=\"1405.88\" cy=\"1233.57\" r=\"14\" fill=\"#009af9\" fill-rule=\"evenodd\" fill-opacity=\"1\" stroke=\"#000000\" stroke-opacity=\"1\" stroke-width=\"3.2\"/>\n",
       "<circle clip-path=\"url(#clip762)\" cx=\"1057.82\" cy=\"796.181\" r=\"14\" fill=\"#009af9\" fill-rule=\"evenodd\" fill-opacity=\"1\" stroke=\"#000000\" stroke-opacity=\"1\" stroke-width=\"3.2\"/>\n",
       "<circle clip-path=\"url(#clip762)\" cx=\"1982.78\" cy=\"1248.59\" r=\"14\" fill=\"#009af9\" fill-rule=\"evenodd\" fill-opacity=\"1\" stroke=\"#000000\" stroke-opacity=\"1\" stroke-width=\"3.2\"/>\n",
       "<circle clip-path=\"url(#clip762)\" cx=\"2041.84\" cy=\"1355.64\" r=\"14\" fill=\"#009af9\" fill-rule=\"evenodd\" fill-opacity=\"1\" stroke=\"#000000\" stroke-opacity=\"1\" stroke-width=\"3.2\"/>\n",
       "<circle clip-path=\"url(#clip762)\" cx=\"1265.23\" cy=\"991.43\" r=\"14\" fill=\"#009af9\" fill-rule=\"evenodd\" fill-opacity=\"1\" stroke=\"#000000\" stroke-opacity=\"1\" stroke-width=\"3.2\"/>\n",
       "<circle clip-path=\"url(#clip762)\" cx=\"783.625\" cy=\"577.198\" r=\"14\" fill=\"#009af9\" fill-rule=\"evenodd\" fill-opacity=\"1\" stroke=\"#000000\" stroke-opacity=\"1\" stroke-width=\"3.2\"/>\n",
       "<circle clip-path=\"url(#clip762)\" cx=\"2014.58\" cy=\"1181.04\" r=\"14\" fill=\"#009af9\" fill-rule=\"evenodd\" fill-opacity=\"1\" stroke=\"#000000\" stroke-opacity=\"1\" stroke-width=\"3.2\"/>\n",
       "<circle clip-path=\"url(#clip762)\" cx=\"2035.82\" cy=\"1423.18\" r=\"14\" fill=\"#009af9\" fill-rule=\"evenodd\" fill-opacity=\"1\" stroke=\"#000000\" stroke-opacity=\"1\" stroke-width=\"3.2\"/>\n",
       "<circle clip-path=\"url(#clip762)\" cx=\"662.293\" cy=\"533.89\" r=\"14\" fill=\"#009af9\" fill-rule=\"evenodd\" fill-opacity=\"1\" stroke=\"#000000\" stroke-opacity=\"1\" stroke-width=\"3.2\"/>\n",
       "<circle clip-path=\"url(#clip762)\" cx=\"1014.99\" cy=\"751.742\" r=\"14\" fill=\"#009af9\" fill-rule=\"evenodd\" fill-opacity=\"1\" stroke=\"#000000\" stroke-opacity=\"1\" stroke-width=\"3.2\"/>\n",
       "<circle clip-path=\"url(#clip762)\" cx=\"2044.06\" cy=\"1355.64\" r=\"14\" fill=\"#009af9\" fill-rule=\"evenodd\" fill-opacity=\"1\" stroke=\"#000000\" stroke-opacity=\"1\" stroke-width=\"3.2\"/>\n",
       "<circle clip-path=\"url(#clip762)\" cx=\"2007.98\" cy=\"1153.01\" r=\"14\" fill=\"#009af9\" fill-rule=\"evenodd\" fill-opacity=\"1\" stroke=\"#000000\" stroke-opacity=\"1\" stroke-width=\"3.2\"/>\n",
       "<circle clip-path=\"url(#clip762)\" cx=\"1969.81\" cy=\"1355.64\" r=\"14\" fill=\"#009af9\" fill-rule=\"evenodd\" fill-opacity=\"1\" stroke=\"#000000\" stroke-opacity=\"1\" stroke-width=\"3.2\"/>\n",
       "<circle clip-path=\"url(#clip762)\" cx=\"1980.96\" cy=\"1173.24\" r=\"14\" fill=\"#009af9\" fill-rule=\"evenodd\" fill-opacity=\"1\" stroke=\"#000000\" stroke-opacity=\"1\" stroke-width=\"3.2\"/>\n",
       "<circle clip-path=\"url(#clip762)\" cx=\"1429.83\" cy=\"1288.1\" r=\"14\" fill=\"#009af9\" fill-rule=\"evenodd\" fill-opacity=\"1\" stroke=\"#000000\" stroke-opacity=\"1\" stroke-width=\"3.2\"/>\n",
       "<circle clip-path=\"url(#clip762)\" cx=\"2016.21\" cy=\"1233.57\" r=\"14\" fill=\"#009af9\" fill-rule=\"evenodd\" fill-opacity=\"1\" stroke=\"#000000\" stroke-opacity=\"1\" stroke-width=\"3.2\"/>\n",
       "<circle clip-path=\"url(#clip762)\" cx=\"2005.47\" cy=\"1105.7\" r=\"14\" fill=\"#009af9\" fill-rule=\"evenodd\" fill-opacity=\"1\" stroke=\"#000000\" stroke-opacity=\"1\" stroke-width=\"3.2\"/>\n",
       "<circle clip-path=\"url(#clip762)\" cx=\"1956.25\" cy=\"1423.18\" r=\"14\" fill=\"#009af9\" fill-rule=\"evenodd\" fill-opacity=\"1\" stroke=\"#000000\" stroke-opacity=\"1\" stroke-width=\"3.2\"/>\n",
       "<circle clip-path=\"url(#clip762)\" cx=\"1372.96\" cy=\"1121.98\" r=\"14\" fill=\"#009af9\" fill-rule=\"evenodd\" fill-opacity=\"1\" stroke=\"#000000\" stroke-opacity=\"1\" stroke-width=\"3.2\"/>\n",
       "<circle clip-path=\"url(#clip762)\" cx=\"965.005\" cy=\"709.399\" r=\"14\" fill=\"#009af9\" fill-rule=\"evenodd\" fill-opacity=\"1\" stroke=\"#000000\" stroke-opacity=\"1\" stroke-width=\"3.2\"/>\n",
       "<circle clip-path=\"url(#clip762)\" cx=\"1954.26\" cy=\"1423.18\" r=\"14\" fill=\"#009af9\" fill-rule=\"evenodd\" fill-opacity=\"1\" stroke=\"#000000\" stroke-opacity=\"1\" stroke-width=\"3.2\"/>\n",
       "<circle clip-path=\"url(#clip762)\" cx=\"1343.74\" cy=\"1082.47\" r=\"14\" fill=\"#009af9\" fill-rule=\"evenodd\" fill-opacity=\"1\" stroke=\"#000000\" stroke-opacity=\"1\" stroke-width=\"3.2\"/>\n",
       "<circle clip-path=\"url(#clip762)\" cx=\"2026.57\" cy=\"1266.35\" r=\"14\" fill=\"#009af9\" fill-rule=\"evenodd\" fill-opacity=\"1\" stroke=\"#000000\" stroke-opacity=\"1\" stroke-width=\"3.2\"/>\n",
       "<circle clip-path=\"url(#clip762)\" cx=\"454.876\" cy=\"418.507\" r=\"14\" fill=\"#009af9\" fill-rule=\"evenodd\" fill-opacity=\"1\" stroke=\"#000000\" stroke-opacity=\"1\" stroke-width=\"3.2\"/>\n",
       "<circle clip-path=\"url(#clip762)\" cx=\"936.484\" cy=\"688.299\" r=\"14\" fill=\"#009af9\" fill-rule=\"evenodd\" fill-opacity=\"1\" stroke=\"#000000\" stroke-opacity=\"1\" stroke-width=\"3.2\"/>\n",
       "<circle clip-path=\"url(#clip762)\" cx=\"1233.7\" cy=\"939.588\" r=\"14\" fill=\"#009af9\" fill-rule=\"evenodd\" fill-opacity=\"1\" stroke=\"#000000\" stroke-opacity=\"1\" stroke-width=\"3.2\"/>\n",
       "<circle clip-path=\"url(#clip762)\" cx=\"1961.16\" cy=\"1355.64\" r=\"14\" fill=\"#009af9\" fill-rule=\"evenodd\" fill-opacity=\"1\" stroke=\"#000000\" stroke-opacity=\"1\" stroke-width=\"3.2\"/>\n",
       "<circle clip-path=\"url(#clip762)\" cx=\"2002.09\" cy=\"1109.52\" r=\"14\" fill=\"#009af9\" fill-rule=\"evenodd\" fill-opacity=\"1\" stroke=\"#000000\" stroke-opacity=\"1\" stroke-width=\"3.2\"/>\n",
       "<circle clip-path=\"url(#clip762)\" cx=\"1143.9\" cy=\"872.387\" r=\"14\" fill=\"#009af9\" fill-rule=\"evenodd\" fill-opacity=\"1\" stroke=\"#000000\" stroke-opacity=\"1\" stroke-width=\"3.2\"/>\n",
       "<circle clip-path=\"url(#clip762)\" cx=\"1991.71\" cy=\"1136.27\" r=\"14\" fill=\"#009af9\" fill-rule=\"evenodd\" fill-opacity=\"1\" stroke=\"#000000\" stroke-opacity=\"1\" stroke-width=\"3.2\"/>\n",
       "<circle clip-path=\"url(#clip762)\" cx=\"2038.84\" cy=\"1355.64\" r=\"14\" fill=\"#009af9\" fill-rule=\"evenodd\" fill-opacity=\"1\" stroke=\"#000000\" stroke-opacity=\"1\" stroke-width=\"3.2\"/>\n",
       "<circle clip-path=\"url(#clip762)\" cx=\"1981.87\" cy=\"1189.52\" r=\"14\" fill=\"#009af9\" fill-rule=\"evenodd\" fill-opacity=\"1\" stroke=\"#000000\" stroke-opacity=\"1\" stroke-width=\"3.2\"/>\n",
       "<circle clip-path=\"url(#clip762)\" cx=\"904.956\" cy=\"667.438\" r=\"14\" fill=\"#009af9\" fill-rule=\"evenodd\" fill-opacity=\"1\" stroke=\"#000000\" stroke-opacity=\"1\" stroke-width=\"3.2\"/>\n",
       "<circle clip-path=\"url(#clip762)\" cx=\"1996.95\" cy=\"1102.03\" r=\"14\" fill=\"#009af9\" fill-rule=\"evenodd\" fill-opacity=\"1\" stroke=\"#000000\" stroke-opacity=\"1\" stroke-width=\"3.2\"/>\n",
       "<circle clip-path=\"url(#clip762)\" cx=\"1995.21\" cy=\"1153.01\" r=\"14\" fill=\"#009af9\" fill-rule=\"evenodd\" fill-opacity=\"1\" stroke=\"#000000\" stroke-opacity=\"1\" stroke-width=\"3.2\"/>\n",
       "<circle clip-path=\"url(#clip762)\" cx=\"2047\" cy=\"1423.18\" r=\"14\" fill=\"#009af9\" fill-rule=\"evenodd\" fill-opacity=\"1\" stroke=\"#000000\" stroke-opacity=\"1\" stroke-width=\"3.2\"/>\n",
       "<circle clip-path=\"url(#clip762)\" cx=\"2027.35\" cy=\"1355.64\" r=\"14\" fill=\"#009af9\" fill-rule=\"evenodd\" fill-opacity=\"1\" stroke=\"#000000\" stroke-opacity=\"1\" stroke-width=\"3.2\"/>\n",
       "<circle clip-path=\"url(#clip762)\" cx=\"2018.63\" cy=\"1166.02\" r=\"14\" fill=\"#009af9\" fill-rule=\"evenodd\" fill-opacity=\"1\" stroke=\"#000000\" stroke-opacity=\"1\" stroke-width=\"3.2\"/>\n",
       "<circle clip-path=\"url(#clip762)\" cx=\"1976.36\" cy=\"1233.57\" r=\"14\" fill=\"#009af9\" fill-rule=\"evenodd\" fill-opacity=\"1\" stroke=\"#000000\" stroke-opacity=\"1\" stroke-width=\"3.2\"/>\n",
       "<circle clip-path=\"url(#clip762)\" cx=\"1951.25\" cy=\"1355.64\" r=\"14\" fill=\"#009af9\" fill-rule=\"evenodd\" fill-opacity=\"1\" stroke=\"#000000\" stroke-opacity=\"1\" stroke-width=\"3.2\"/>\n",
       "<circle clip-path=\"url(#clip762)\" cx=\"1198.46\" cy=\"920.469\" r=\"14\" fill=\"#009af9\" fill-rule=\"evenodd\" fill-opacity=\"1\" stroke=\"#000000\" stroke-opacity=\"1\" stroke-width=\"3.2\"/>\n",
       "<circle clip-path=\"url(#clip762)\" cx=\"869.711\" cy=\"635.04\" r=\"14\" fill=\"#009af9\" fill-rule=\"evenodd\" fill-opacity=\"1\" stroke=\"#000000\" stroke-opacity=\"1\" stroke-width=\"3.2\"/>\n",
       "<circle clip-path=\"url(#clip762)\" cx=\"1327.99\" cy=\"1061.32\" r=\"14\" fill=\"#009af9\" fill-rule=\"evenodd\" fill-opacity=\"1\" stroke=\"#000000\" stroke-opacity=\"1\" stroke-width=\"3.2\"/>\n",
       "<circle clip-path=\"url(#clip762)\" cx=\"1037.17\" cy=\"775.286\" r=\"14\" fill=\"#009af9\" fill-rule=\"evenodd\" fill-opacity=\"1\" stroke=\"#000000\" stroke-opacity=\"1\" stroke-width=\"3.2\"/>\n",
       "<circle clip-path=\"url(#clip762)\" cx=\"2029.68\" cy=\"1423.18\" r=\"14\" fill=\"#009af9\" fill-rule=\"evenodd\" fill-opacity=\"1\" stroke=\"#000000\" stroke-opacity=\"1\" stroke-width=\"3.2\"/>\n",
       "<circle clip-path=\"url(#clip762)\" cx=\"1967.91\" cy=\"1266.35\" r=\"14\" fill=\"#009af9\" fill-rule=\"evenodd\" fill-opacity=\"1\" stroke=\"#000000\" stroke-opacity=\"1\" stroke-width=\"3.2\"/>\n",
       "<circle clip-path=\"url(#clip762)\" cx=\"2006.31\" cy=\"1166.02\" r=\"14\" fill=\"#009af9\" fill-rule=\"evenodd\" fill-opacity=\"1\" stroke=\"#000000\" stroke-opacity=\"1\" stroke-width=\"3.2\"/>\n",
       "<circle clip-path=\"url(#clip762)\" cx=\"1986.38\" cy=\"1141.53\" r=\"14\" fill=\"#009af9\" fill-rule=\"evenodd\" fill-opacity=\"1\" stroke=\"#000000\" stroke-opacity=\"1\" stroke-width=\"3.2\"/>\n",
       "<circle clip-path=\"url(#clip762)\" cx=\"2042.58\" cy=\"1423.18\" r=\"14\" fill=\"#009af9\" fill-rule=\"evenodd\" fill-opacity=\"1\" stroke=\"#000000\" stroke-opacity=\"1\" stroke-width=\"3.2\"/>\n",
       "<circle clip-path=\"url(#clip762)\" cx=\"1975.44\" cy=\"1189.52\" r=\"14\" fill=\"#009af9\" fill-rule=\"evenodd\" fill-opacity=\"1\" stroke=\"#000000\" stroke-opacity=\"1\" stroke-width=\"3.2\"/>\n",
       "<circle clip-path=\"url(#clip762)\" cx=\"1968.86\" cy=\"1316.13\" r=\"14\" fill=\"#009af9\" fill-rule=\"evenodd\" fill-opacity=\"1\" stroke=\"#000000\" stroke-opacity=\"1\" stroke-width=\"3.2\"/>\n",
       "<circle clip-path=\"url(#clip762)\" cx=\"1284.55\" cy=\"1030.94\" r=\"14\" fill=\"#009af9\" fill-rule=\"evenodd\" fill-opacity=\"1\" stroke=\"#000000\" stroke-opacity=\"1\" stroke-width=\"3.2\"/>\n",
       "<circle clip-path=\"url(#clip762)\" cx=\"1973.57\" cy=\"1248.59\" r=\"14\" fill=\"#009af9\" fill-rule=\"evenodd\" fill-opacity=\"1\" stroke=\"#000000\" stroke-opacity=\"1\" stroke-width=\"3.2\"/>\n",
       "<circle clip-path=\"url(#clip762)\" cx=\"1977.29\" cy=\"1233.57\" r=\"14\" fill=\"#009af9\" fill-rule=\"evenodd\" fill-opacity=\"1\" stroke=\"#000000\" stroke-opacity=\"1\" stroke-width=\"3.2\"/>\n",
       "<circle clip-path=\"url(#clip762)\" cx=\"1441.12\" cy=\"1266.35\" r=\"14\" fill=\"#009af9\" fill-rule=\"evenodd\" fill-opacity=\"1\" stroke=\"#000000\" stroke-opacity=\"1\" stroke-width=\"3.2\"/>\n",
       "<circle clip-path=\"url(#clip762)\" cx=\"1487.25\" cy=\"1316.13\" r=\"14\" fill=\"#009af9\" fill-rule=\"evenodd\" fill-opacity=\"1\" stroke=\"#000000\" stroke-opacity=\"1\" stroke-width=\"3.2\"/>\n",
       "<circle clip-path=\"url(#clip762)\" cx=\"1980.05\" cy=\"1198.81\" r=\"14\" fill=\"#009af9\" fill-rule=\"evenodd\" fill-opacity=\"1\" stroke=\"#000000\" stroke-opacity=\"1\" stroke-width=\"3.2\"/>\n",
       "<circle clip-path=\"url(#clip762)\" cx=\"1482.46\" cy=\"1355.64\" r=\"14\" fill=\"#009af9\" fill-rule=\"evenodd\" fill-opacity=\"1\" stroke=\"#000000\" stroke-opacity=\"1\" stroke-width=\"3.2\"/>\n",
       "<circle clip-path=\"url(#clip762)\" cx=\"1462.51\" cy=\"1316.13\" r=\"14\" fill=\"#009af9\" fill-rule=\"evenodd\" fill-opacity=\"1\" stroke=\"#000000\" stroke-opacity=\"1\" stroke-width=\"3.2\"/>\n",
       "<circle clip-path=\"url(#clip762)\" cx=\"2009.65\" cy=\"1141.53\" r=\"14\" fill=\"#009af9\" fill-rule=\"evenodd\" fill-opacity=\"1\" stroke=\"#000000\" stroke-opacity=\"1\" stroke-width=\"3.2\"/>\n",
       "<circle clip-path=\"url(#clip762)\" cx=\"2004.63\" cy=\"1136.27\" r=\"14\" fill=\"#009af9\" fill-rule=\"evenodd\" fill-opacity=\"1\" stroke=\"#000000\" stroke-opacity=\"1\" stroke-width=\"3.2\"/>\n",
       "<circle clip-path=\"url(#clip762)\" cx=\"2028.91\" cy=\"1316.13\" r=\"14\" fill=\"#009af9\" fill-rule=\"evenodd\" fill-opacity=\"1\" stroke=\"#000000\" stroke-opacity=\"1\" stroke-width=\"3.2\"/>\n",
       "<circle clip-path=\"url(#clip762)\" cx=\"2022.62\" cy=\"1248.59\" r=\"14\" fill=\"#009af9\" fill-rule=\"evenodd\" fill-opacity=\"1\" stroke=\"#000000\" stroke-opacity=\"1\" stroke-width=\"3.2\"/>\n",
       "<circle clip-path=\"url(#clip762)\" cx=\"2048.46\" cy=\"1355.64\" r=\"14\" fill=\"#009af9\" fill-rule=\"evenodd\" fill-opacity=\"1\" stroke=\"#000000\" stroke-opacity=\"1\" stroke-width=\"3.2\"/>\n",
       "<circle clip-path=\"url(#clip762)\" cx=\"2028.13\" cy=\"1316.13\" r=\"14\" fill=\"#009af9\" fill-rule=\"evenodd\" fill-opacity=\"1\" stroke=\"#000000\" stroke-opacity=\"1\" stroke-width=\"3.2\"/>\n",
       "<circle clip-path=\"url(#clip762)\" cx=\"1964.07\" cy=\"1266.35\" r=\"14\" fill=\"#009af9\" fill-rule=\"evenodd\" fill-opacity=\"1\" stroke=\"#000000\" stroke-opacity=\"1\" stroke-width=\"3.2\"/>\n",
       "<circle clip-path=\"url(#clip762)\" cx=\"2017.82\" cy=\"1220.55\" r=\"14\" fill=\"#009af9\" fill-rule=\"evenodd\" fill-opacity=\"1\" stroke=\"#000000\" stroke-opacity=\"1\" stroke-width=\"3.2\"/>\n",
       "<circle clip-path=\"url(#clip762)\" cx=\"1974.5\" cy=\"1198.81\" r=\"14\" fill=\"#009af9\" fill-rule=\"evenodd\" fill-opacity=\"1\" stroke=\"#000000\" stroke-opacity=\"1\" stroke-width=\"3.2\"/>\n",
       "<circle clip-path=\"url(#clip762)\" cx=\"1302.69\" cy=\"1038.16\" r=\"14\" fill=\"#009af9\" fill-rule=\"evenodd\" fill-opacity=\"1\" stroke=\"#000000\" stroke-opacity=\"1\" stroke-width=\"3.2\"/>\n",
       "<circle clip-path=\"url(#clip762)\" cx=\"1971.69\" cy=\"1220.55\" r=\"14\" fill=\"#009af9\" fill-rule=\"evenodd\" fill-opacity=\"1\" stroke=\"#000000\" stroke-opacity=\"1\" stroke-width=\"3.2\"/>\n",
       "<circle clip-path=\"url(#clip762)\" cx=\"1418.09\" cy=\"1209.08\" r=\"14\" fill=\"#009af9\" fill-rule=\"evenodd\" fill-opacity=\"1\" stroke=\"#000000\" stroke-opacity=\"1\" stroke-width=\"3.2\"/>\n",
       "<circle clip-path=\"url(#clip762)\" cx=\"1365.92\" cy=\"1126.51\" r=\"14\" fill=\"#009af9\" fill-rule=\"evenodd\" fill-opacity=\"1\" stroke=\"#000000\" stroke-opacity=\"1\" stroke-width=\"3.2\"/>\n",
       "<circle clip-path=\"url(#clip762)\" cx=\"1970.75\" cy=\"1288.1\" r=\"14\" fill=\"#009af9\" fill-rule=\"evenodd\" fill-opacity=\"1\" stroke=\"#000000\" stroke-opacity=\"1\" stroke-width=\"3.2\"/>\n",
       "<circle clip-path=\"url(#clip762)\" cx=\"1412.05\" cy=\"1220.55\" r=\"14\" fill=\"#009af9\" fill-rule=\"evenodd\" fill-opacity=\"1\" stroke=\"#000000\" stroke-opacity=\"1\" stroke-width=\"3.2\"/>\n",
       "<circle clip-path=\"url(#clip762)\" cx=\"1997.81\" cy=\"1109.52\" r=\"14\" fill=\"#009af9\" fill-rule=\"evenodd\" fill-opacity=\"1\" stroke=\"#000000\" stroke-opacity=\"1\" stroke-width=\"3.2\"/>\n",
       "<circle clip-path=\"url(#clip762)\" cx=\"2000.39\" cy=\"1141.53\" r=\"14\" fill=\"#009af9\" fill-rule=\"evenodd\" fill-opacity=\"1\" stroke=\"#000000\" stroke-opacity=\"1\" stroke-width=\"3.2\"/>\n",
       "<circle clip-path=\"url(#clip762)\" cx=\"2024.21\" cy=\"1248.59\" r=\"14\" fill=\"#009af9\" fill-rule=\"evenodd\" fill-opacity=\"1\" stroke=\"#000000\" stroke-opacity=\"1\" stroke-width=\"3.2\"/>\n",
       "<circle clip-path=\"url(#clip762)\" cx=\"2021.03\" cy=\"1288.1\" r=\"14\" fill=\"#009af9\" fill-rule=\"evenodd\" fill-opacity=\"1\" stroke=\"#000000\" stroke-opacity=\"1\" stroke-width=\"3.2\"/>\n",
       "<circle clip-path=\"url(#clip762)\" cx=\"1158.5\" cy=\"881.333\" r=\"14\" fill=\"#009af9\" fill-rule=\"evenodd\" fill-opacity=\"1\" stroke=\"#000000\" stroke-opacity=\"1\" stroke-width=\"3.2\"/>\n",
       "<circle clip-path=\"url(#clip762)\" cx=\"1984.59\" cy=\"1198.81\" r=\"14\" fill=\"#009af9\" fill-rule=\"evenodd\" fill-opacity=\"1\" stroke=\"#000000\" stroke-opacity=\"1\" stroke-width=\"3.2\"/>\n",
       "<circle clip-path=\"url(#clip762)\" cx=\"2037.34\" cy=\"1316.13\" r=\"14\" fill=\"#009af9\" fill-rule=\"evenodd\" fill-opacity=\"1\" stroke=\"#000000\" stroke-opacity=\"1\" stroke-width=\"3.2\"/>\n",
       "<circle clip-path=\"url(#clip762)\" cx=\"1335.97\" cy=\"1088.56\" r=\"14\" fill=\"#009af9\" fill-rule=\"evenodd\" fill-opacity=\"1\" stroke=\"#000000\" stroke-opacity=\"1\" stroke-width=\"3.2\"/>\n",
       "<circle clip-path=\"url(#clip762)\" cx=\"1979.13\" cy=\"1198.81\" r=\"14\" fill=\"#009af9\" fill-rule=\"evenodd\" fill-opacity=\"1\" stroke=\"#000000\" stroke-opacity=\"1\" stroke-width=\"3.2\"/>\n",
       "<circle clip-path=\"url(#clip762)\" cx=\"2019.43\" cy=\"1189.52\" r=\"14\" fill=\"#009af9\" fill-rule=\"evenodd\" fill-opacity=\"1\" stroke=\"#000000\" stroke-opacity=\"1\" stroke-width=\"3.2\"/>\n",
       "<circle clip-path=\"url(#clip762)\" cx=\"1435.53\" cy=\"1266.35\" r=\"14\" fill=\"#009af9\" fill-rule=\"evenodd\" fill-opacity=\"1\" stroke=\"#000000\" stroke-opacity=\"1\" stroke-width=\"3.2\"/>\n",
       "<circle clip-path=\"url(#clip762)\" cx=\"2010.47\" cy=\"1159.3\" r=\"14\" fill=\"#009af9\" fill-rule=\"evenodd\" fill-opacity=\"1\" stroke=\"#000000\" stroke-opacity=\"1\" stroke-width=\"3.2\"/>\n",
       "<circle clip-path=\"url(#clip762)\" cx=\"1399.58\" cy=\"1189.52\" r=\"14\" fill=\"#009af9\" fill-rule=\"evenodd\" fill-opacity=\"1\" stroke=\"#000000\" stroke-opacity=\"1\" stroke-width=\"3.2\"/>\n",
       "<circle clip-path=\"url(#clip762)\" cx=\"1989.95\" cy=\"1131.27\" r=\"14\" fill=\"#009af9\" fill-rule=\"evenodd\" fill-opacity=\"1\" stroke=\"#000000\" stroke-opacity=\"1\" stroke-width=\"3.2\"/>\n",
       "<circle clip-path=\"url(#clip762)\" cx=\"576.207\" cy=\"507.797\" r=\"14\" fill=\"#009af9\" fill-rule=\"evenodd\" fill-opacity=\"1\" stroke=\"#000000\" stroke-opacity=\"1\" stroke-width=\"3.2\"/>\n",
       "<circle clip-path=\"url(#clip762)\" cx=\"2030.46\" cy=\"1288.1\" r=\"14\" fill=\"#009af9\" fill-rule=\"evenodd\" fill-opacity=\"1\" stroke=\"#000000\" stroke-opacity=\"1\" stroke-width=\"3.2\"/>\n",
       "<circle clip-path=\"url(#clip762)\" cx=\"1960.18\" cy=\"1288.1\" r=\"14\" fill=\"#009af9\" fill-rule=\"evenodd\" fill-opacity=\"1\" stroke=\"#000000\" stroke-opacity=\"1\" stroke-width=\"3.2\"/>\n",
       "<circle clip-path=\"url(#clip762)\" cx=\"1496.6\" cy=\"1288.1\" r=\"14\" fill=\"#009af9\" fill-rule=\"evenodd\" fill-opacity=\"1\" stroke=\"#000000\" stroke-opacity=\"1\" stroke-width=\"3.2\"/>\n",
       "</svg>\n"
      ]
     },
     "execution_count": 23,
     "metadata": {},
     "output_type": "execute_result"
    }
   ],
   "source": [
    "plot_kmer_frequency_spectra(values(kmer_counts))"
   ]
  },
  {
   "cell_type": "code",
   "execution_count": 24,
   "metadata": {},
   "outputs": [
    {
     "name": "stderr",
     "output_type": "stream",
     "text": [
      "┌ Info: creating graph\n",
      "└ @ Mycelia /Users/cameronprybol/.julia/dev/Mycelia/src/Mycelia.jl:2958\n"
     ]
    },
    {
     "name": "stdout",
     "output_type": "stream",
     "text": [
      " 16.038840 seconds (52.35 M allocations: 5.289 GiB, 30.91% gc time)\n"
     ]
    },
    {
     "data": {
      "text/plain": [
       "{270568, 655054} directed Int64 metagraph with Float64 weights defined by :weight (default weight 1.0)"
      ]
     },
     "execution_count": 24,
     "metadata": {},
     "output_type": "execute_result"
    }
   ],
   "source": [
    "@time simple_kmer_graph = Mycelia.fastx_to_simple_kmer_graph(kmer_type, fastq_file)"
   ]
  },
  {
   "cell_type": "code",
   "execution_count": null,
   "metadata": {},
   "outputs": [],
   "source": [
    "# gfa_file = fastq_file * \".k-$k.gfa\"\n",
    "# Mycelia.graph_to_gfa(simple_kmer_graph, gfa_file)\n",
    "# visualize_gfa_file(gfa_file)"
   ]
  },
  {
   "cell_type": "code",
   "execution_count": 33,
   "metadata": {},
   "outputs": [
    {
     "data": {
      "text/plain": [
       "64"
      ]
     },
     "execution_count": 33,
     "metadata": {},
     "output_type": "execute_result"
    }
   ],
   "source": [
    "2^6"
   ]
  },
  {
   "cell_type": "code",
   "execution_count": 43,
   "metadata": {},
   "outputs": [
    {
     "data": {
      "text/plain": [
       "({1008, 2016} directed Int64 metagraph with Float64 weights defined by :weight (default weight 1.0), [130, 157, 484, 539, 783, 1182, 1523, 1814, 1957, 2032  …  267280, 267933, 268348, 268415, 269221, 269694, 269800, 270254, 270425, 270468])"
      ]
     },
     "execution_count": 43,
     "metadata": {},
     "output_type": "execute_result"
    }
   ],
   "source": [
    "solid_vertices = filter(v -> simple_kmer_graph.vprops[v][:weight] >= 64, LightGraphs.vertices(simple_kmer_graph))\n",
    "polished_simple_kmer_graph, vertex_map = LightGraphs.induced_subgraph(simple_kmer_graph, solid_vertices)"
   ]
  },
  {
   "cell_type": "code",
   "execution_count": 48,
   "metadata": {},
   "outputs": [
    {
     "data": {
      "text/plain": [
       "3.673213388131634"
      ]
     },
     "execution_count": 48,
     "metadata": {},
     "output_type": "execute_result"
    }
   ],
   "source": [
    "StatsBase.mean(values(kmer_counts))"
   ]
  },
  {
   "cell_type": "code",
   "execution_count": null,
   "metadata": {},
   "outputs": [],
   "source": [
    "polished_fastq_file = Mycelia.simple_polish_fastq(simple_kmer_graph, fastq_file, min_depth=)"
   ]
  },
  {
   "cell_type": "code",
   "execution_count": 45,
   "metadata": {},
   "outputs": [
    {
     "data": {
      "text/html": [
       "<img src=./../../../../2021-06-26-1000bp-1000x-coverage-0.1-error-rate/2021-06-26-1000bp-1000x-coverage-0.1-error-rate.fastq.polished.k-11.gfa.svg>"
      ]
     },
     "metadata": {},
     "output_type": "display_data"
    }
   ],
   "source": [
    "# @time polished_simple_kmer_graph = Mycelia.fastx_to_simple_kmer_graph(kmer_type, polished_fastq_file)\n",
    "# gfa_file = polished_fastq_file * \".k-$k.gfa\"\n",
    "gfa_file = fastq_file * \".polished.k-$k.gfa\"\n",
    "Mycelia.graph_to_gfa(polished_simple_kmer_graph, gfa_file)\n",
    "visualize_gfa_file(gfa_file)"
   ]
  },
  {
   "cell_type": "code",
   "execution_count": 41,
   "metadata": {},
   "outputs": [
    {
     "name": "stderr",
     "output_type": "stream",
     "text": [
      "┌ Info: creating graph\n",
      "└ @ Mycelia /Users/cameronprybol/.julia/dev/Mycelia/src/Mycelia.jl:2958\n"
     ]
    },
    {
     "data": {
      "text/html": [
       "<img src=./../../../../2021-06-26-1000bp-1000x-coverage-0.1-error-rate/2021-06-26-1000bp-1000x-coverage-0.1-error-rate.error-free.fastq.k-11.gfa.svg>"
      ]
     },
     "metadata": {},
     "output_type": "display_data"
    }
   ],
   "source": [
    "error_free_simple_kmer_graph = Mycelia.fastx_to_simple_kmer_graph(kmer_type, error_free_fastq_file)\n",
    "# visualize\n",
    "gfa_file = error_free_fastq_file * \".k-$k.gfa\"\n",
    "Mycelia.graph_to_gfa(error_free_simple_kmer_graph, gfa_file)\n",
    "visualize_gfa_file(gfa_file)"
   ]
  },
  {
   "cell_type": "code",
   "execution_count": 42,
   "metadata": {},
   "outputs": [
    {
     "data": {
      "text/plain": [
       "(kmer_distance = 0.0499040307101728, edge_distance = 0.05358851674641152)"
      ]
     },
     "execution_count": 42,
     "metadata": {},
     "output_type": "execute_result"
    }
   ],
   "source": [
    "Mycelia.kmer_graph_distances(error_free_simple_kmer_graph, polished_simple_kmer_graph)"
   ]
  },
  {
   "cell_type": "code",
   "execution_count": null,
   "metadata": {},
   "outputs": [],
   "source": [
    "Mycelia.kmer_graph_distances(error_free_simple_kmer_graph, simple_kmer_graph)"
   ]
  }
 ],
 "metadata": {
  "kernelspec": {
   "display_name": "Julia 1.6.1",
   "language": "julia",
   "name": "julia-1.6"
  },
  "language_info": {
   "file_extension": ".jl",
   "mimetype": "application/julia",
   "name": "julia",
   "version": "1.6.1"
  }
 },
 "nbformat": 4,
 "nbformat_minor": 4
}
