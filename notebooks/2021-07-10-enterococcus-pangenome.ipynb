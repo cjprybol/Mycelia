{
 "cells": [
  {
   "cell_type": "code",
   "execution_count": 1,
   "metadata": {},
   "outputs": [
    {
     "data": {
      "text/plain": [
       "\"/Users/cameronprybol/2021-07-10\""
      ]
     },
     "execution_count": 1,
     "metadata": {},
     "output_type": "execute_result"
    }
   ],
   "source": [
    "DATE = \"2021-07-10\"\n",
    "TASK = \"enterococcus-pangenome\"\n",
    "DIR = mkpath(\"$(homedir())/$(DATE)\")"
   ]
  },
  {
   "cell_type": "code",
   "execution_count": 2,
   "metadata": {},
   "outputs": [
    {
     "name": "stdout",
     "output_type": "stream",
     "text": [
      "    \u001b[36m\u001b[1mFetching:\u001b[22m\u001b[39m [========================================>]  99.9 %[36m\u001b[1mFetching:\u001b[22m\u001b[39m [=>                                       ]  0.3 %\u001b[36m\u001b[1mFetching:\u001b[22m\u001b[39m [=>                                       ]  0.9 %\u001b[36m\u001b[1mFetching:\u001b[22m\u001b[39m [=>                                       ]  1.5 %\u001b[36m\u001b[1mFetching:\u001b[22m\u001b[39m [=>                                       ]  1.7 %\u001b[36m\u001b[1mFetching:\u001b[22m\u001b[39m [==>                                      ]  2.9 %\u001b[36m\u001b[1mFetching:\u001b[22m\u001b[39m [==>                                      ]  3.1 %\u001b[36m\u001b[1mFetching:\u001b[22m\u001b[39m [==>                                      ]  3.3 %\u001b[36m\u001b[1mFetching:\u001b[22m\u001b[39m [===>                                     ]  6.9 %\u001b[36m\u001b[1mFetching:\u001b[22m\u001b[39m [====>                                    ]  7.5 %\u001b[36m\u001b[1mFetching:\u001b[22m\u001b[39m [====>                                    ]  8.1 %\u001b[36m\u001b[1mFetching:\u001b[22m\u001b[39m [====>                                    ]  8.7 %\u001b[36m\u001b[1mFetching:\u001b[22m\u001b[39m [====>                                    ]  9.3 %\u001b[36m\u001b[1mFetching:\u001b[22m\u001b[39m [====>                                    ]  9.9 %\u001b[36m\u001b[1mFetching:\u001b[22m\u001b[39m [=====>                                   ]  10.1 %\u001b[36m\u001b[1mFetching:\u001b[22m\u001b[39m [=====>                                   ]  10.5 %\u001b[36m\u001b[1mFetching:\u001b[22m\u001b[39m [=====>                                   ]  10.7 %\u001b[36m\u001b[1mFetching:\u001b[22m\u001b[39m [=====>                                   ]  10.9 %\u001b[36m\u001b[1mFetching:\u001b[22m\u001b[39m [=====>                                   ]  11.1 %\u001b[36m\u001b[1mFetching:\u001b[22m\u001b[39m [=====>                                   ]  11.3 %\u001b[36m\u001b[1mFetching:\u001b[22m\u001b[39m [=====>                                   ]  11.5 %\u001b[36m\u001b[1mFetching:\u001b[22m\u001b[39m [=====>                                   ]  11.7 %\u001b[36m\u001b[1mFetching:\u001b[22m\u001b[39m [=====>                                   ]  11.9 %\u001b[36m\u001b[1mFetching:\u001b[22m\u001b[39m [=====>                                   ]  12.1 %\u001b[36m\u001b[1mFetching:\u001b[22m\u001b[39m [=====>                                   ]  12.3 %\u001b[36m\u001b[1mFetching:\u001b[22m\u001b[39m [======>                                  ]  12.5 %\u001b[36m\u001b[1mFetching:\u001b[22m\u001b[39m [======>                                  ]  12.7 %\u001b[36m\u001b[1mFetching:\u001b[22m\u001b[39m [======>                                  ]  12.9 %\u001b[36m\u001b[1mFetching:\u001b[22m\u001b[39m [======>                                  ]  13.1 %\u001b[36m\u001b[1mFetching:\u001b[22m\u001b[39m [======>                                  ]  13.3 %\u001b[36m\u001b[1mFetching:\u001b[22m\u001b[39m [======>                                  ]  13.5 %\u001b[36m\u001b[1mFetching:\u001b[22m\u001b[39m [======>                                  ]  13.7 %\u001b[36m\u001b[1mFetching:\u001b[22m\u001b[39m [======>                                  ]  14.1 %\u001b[36m\u001b[1mFetching:\u001b[22m\u001b[39m [======>                                  ]  14.5 %\u001b[36m\u001b[1mFetching:\u001b[22m\u001b[39m [======>                                  ]  14.9 %16.7 %\u001b[36m\u001b[1mFetching:\u001b[22m\u001b[39m [========>                                ]  17.7 %\u001b[36m\u001b[1mFetching:\u001b[22m\u001b[39m [========>                                ]  19.7 %\u001b[36m\u001b[1mFetching:\u001b[22m\u001b[39m [=========>                               ]  21.9 %\u001b[36m\u001b[1mFetching:\u001b[22m\u001b[39m [==========>                              ]  24.1 %\u001b[36m\u001b[1mFetching:\u001b[22m\u001b[39m [===========>                             ]  27.0 %\u001b[36m\u001b[1mFetching:\u001b[22m\u001b[39m [=============>                           ]  31.6 %\u001b[36m\u001b[1mFetching:\u001b[22m\u001b[39m [=============>                           ]  32.0 %\u001b[36m\u001b[1mFetching:\u001b[22m\u001b[39m [==============>                          ]  33.2 %\u001b[36m\u001b[1mFetching:\u001b[22m\u001b[39m [==============>                          ]  34.6 %\u001b[36m\u001b[1mFetching:\u001b[22m\u001b[39m [===============>                         ]  36.2 %\u001b[36m\u001b[1mFetching:\u001b[22m\u001b[39m [===============>                         ]  36.8 %\u001b[36m\u001b[1mFetching:\u001b[22m\u001b[39m [================>                        ]  38.4 %\u001b[36m\u001b[1mFetching:\u001b[22m\u001b[39m [=================>                       ]  41.4 %\u001b[36m\u001b[1mFetching:\u001b[22m\u001b[39m [=================>                       ]  42.2 %\u001b[36m\u001b[1mFetching:\u001b[22m\u001b[39m [==================>                      ]  43.0 %\u001b[36m\u001b[1mFetching:\u001b[22m\u001b[39m [==================>                      ]  43.8 %\u001b[36m\u001b[1mFetching:\u001b[22m\u001b[39m [==================>                      ]  44.6 %\u001b[36m\u001b[1mFetching:\u001b[22m\u001b[39m [==================>                      ]  45.0 %\u001b[36m\u001b[1mFetching:\u001b[22m\u001b[39m [===================>                     ]  45.8 %\u001b[36m\u001b[1mFetching:\u001b[22m\u001b[39m [===================>                     ]  46.6 %\u001b[36m\u001b[1mFetching:\u001b[22m\u001b[39m [===================>                     ]  47.0 %\u001b[36m\u001b[1mFetching:\u001b[22m\u001b[39m [===================>                     ]  47.4 %\u001b[36m\u001b[1mFetching:\u001b[22m\u001b[39m [====================>                    ]  48.4 %\u001b[36m\u001b[1mFetching:\u001b[22m\u001b[39m [====================>                    ]  49.0 %\u001b[36m\u001b[1mFetching:\u001b[22m\u001b[39m [====================>                    ]  49.6 %\u001b[36m\u001b[1mFetching:\u001b[22m\u001b[39m [=====================>                   ]  50.2 %\u001b[36m\u001b[1mFetching:\u001b[22m\u001b[39m [=====================>                   ]  50.6 %\u001b[36m\u001b[1mFetching:\u001b[22m\u001b[39m [======================>                  ]  53.6 %\u001b[36m\u001b[1mFetching:\u001b[22m\u001b[39m [=======================>                 ]  56.6 %\u001b[36m\u001b[1mFetching:\u001b[22m\u001b[39m [========================>                ]  57.6 %\u001b[36m\u001b[1mFetching:\u001b[22m\u001b[39m [========================>                ]  58.2 %\u001b[36m\u001b[1mFetching:\u001b[22m\u001b[39m [========================>                ]  58.6 %\u001b[36m\u001b[1mFetching:\u001b[22m\u001b[39m [========================>                ]  58.8 %\u001b[36m\u001b[1mFetching:\u001b[22m\u001b[39m [========================>                ]  59.8 %=========================>               ]  60.4 %\u001b[36m\u001b[1mFetching:\u001b[22m\u001b[39m [=========================>               ]  61.8 %\u001b[36m\u001b[1mFetching:\u001b[22m\u001b[39m [==========================>              ]  63.6 %\u001b[36m\u001b[1mFetching:\u001b[22m\u001b[39m [===========================>             ]  65.2 %\u001b[36m\u001b[1mFetching:\u001b[22m\u001b[39m [===========================>             ]  65.8 %\u001b[36m\u001b[1mFetching:\u001b[22m\u001b[39m [===========================>             ]  66.6 %\u001b[36m\u001b[1mFetching:\u001b[22m\u001b[39m [============================>            ]  68.2 %\u001b[36m\u001b[1mFetching:\u001b[22m\u001b[39m [============================>            ]  69.8 %\u001b[36m\u001b[1mFetching:\u001b[22m\u001b[39m [=============================>           ]  71.2 %\u001b[36m\u001b[1mFetching:\u001b[22m\u001b[39m [==============================>          ]  73.6 %\u001b[36m\u001b[1mFetching:\u001b[22m\u001b[39m [==============================>          ]  74.6 %\u001b[36m\u001b[1mFetching:\u001b[22m\u001b[39m [===============================>         ]  75.0 %\u001b[36m\u001b[1mFetching:\u001b[22m\u001b[39m [===============================>         ]  75.6 %\u001b[36m\u001b[1mFetching:\u001b[22m\u001b[39m [===============================>         ]  76.0 %\u001b[36m\u001b[1mFetching:\u001b[22m\u001b[39m [===============================>         ]  76.4 %\u001b[36m\u001b[1mFetching:\u001b[22m\u001b[39m [===============================>         ]  76.8 %\u001b[36m\u001b[1mFetching:\u001b[22m\u001b[39m [================================>        ]  77.8 %\u001b[36m\u001b[1mFetching:\u001b[22m\u001b[39m [================================>        ]  78.4 %\u001b[36m\u001b[1mFetching:\u001b[22m\u001b[39m [================================>        ]  79.0 %\u001b[36m\u001b[1mFetching:\u001b[22m\u001b[39m [================================>        ]  79.4 %\u001b[36m\u001b[1mFetching:\u001b[22m\u001b[39m [=================================>       ]  81.1 %\u001b[36m\u001b[1mFetching:\u001b[22m\u001b[39m [=================================>       ]  81.7 %\u001b[36m\u001b[1mFetching:\u001b[22m\u001b[39m [=================================>       ]  82.1 %\u001b[36m\u001b[1mFetching:\u001b[22m\u001b[39m [=================================>       ]  82.5 %\u001b[36m\u001b[1mFetching:\u001b[22m\u001b[39m [==================================>      ]  82.9 %\u001b[36m\u001b[1mFetching:\u001b[22m\u001b[39m [===================================>     ]  85.7 %\u001b[36m\u001b[1mFetching:\u001b[22m\u001b[39m [===================================>     ]  86.3 %\u001b[36m\u001b[1mFetching:\u001b[22m\u001b[39m [===================================>     ]  86.9 %\u001b[36m\u001b[1mFetching:\u001b[22m\u001b[39m [=====================================>   ]  90.1 %\u001b[36m\u001b[1mFetching:\u001b[22m\u001b[39m [======================================>  ]  92.9 %\u001b[36m\u001b[1mFetching:\u001b[22m\u001b[39m [======================================>  ]  94.5 %\u001b[36m\u001b[1mFetching:\u001b[22m\u001b[39m [========================================>]  97.7 %\u001b[36m\u001b[1mFetching:\u001b[22m\u001b[39m [========================================>]  97.8 %\u001b[36m\u001b[1mFetching:\u001b[22m\u001b[39m [========================================>]  97.9 %\u001b[36m\u001b[1mFetching:\u001b[22m\u001b[39m [========================================>]  98.0 %\u001b[36m\u001b[1mFetching:\u001b[22m\u001b[39m [========================================>]  98.1 %\u001b[36m\u001b[1mFetching:\u001b[22m\u001b[39m [========================================>]  98.2 %\u001b[36m\u001b[1mFetching:\u001b[22m\u001b[39m [========================================>]  98.4 %\u001b[36m\u001b[1mFetching:\u001b[22m\u001b[39m [========================================>]  98.5 %\u001b[36m\u001b[1mFetching:\u001b[22m\u001b[39m [========================================>]  98.7 %\u001b[36m\u001b[1mFetching:\u001b[22m\u001b[39m [========================================>]  98.8 %\u001b[36m\u001b[1mFetching:\u001b[22m\u001b[39m [========================================>]  98.9 %\u001b[36m\u001b[1mFetching:\u001b[22m\u001b[39m [========================================>]  99.0 %\u001b[36m\u001b[1mFetching:\u001b[22m\u001b[39m [========================================>]  99.1 %\u001b[36m\u001b[1mFetching:\u001b[22m\u001b[39m [========================================>]  99.2 %\u001b[36m\u001b[1mFetching:\u001b[22m\u001b[39m [========================================>]  99.3 %\u001b[36m\u001b[1mFetching:\u001b[22m\u001b[39m [========================================>]  99.4 %\u001b[36m\u001b[1mFetching:\u001b[22m\u001b[39m [========================================>]  99.5 %\u001b[36m\u001b[1mFetching:\u001b[22m\u001b[39m [========================================>]  99.6 %\u001b[36m\u001b[1mFetching:\u001b[22m\u001b[39m [========================================>]  99.7 %\u001b[36m\u001b[1mFetching:\u001b[22m\u001b[39m [========================================>]  99.8 %\u001b[36m\u001b[1mFetching:\u001b[22m\u001b[39m [========================================>]  100.0 %\r"
     ]
    }
   ],
   "source": [
    "pkgs = [\n",
    "\"LightGraphs\",\n",
    "\"MetaGraphs\",\n",
    "\"BioSequences\",\n",
    "\"uCSV\",\n",
    "\"DataFrames\",\n",
    "\"FASTX\",\n",
    "\"HTTP\",\n",
    "\"CodecZlib\",\n",
    "\"DataStructures\",\n",
    "\"Revise\",\n",
    "\"ProgressMeter\",\n",
    "\"BenchmarkTools\",\n",
    "\"StatsBase\"\n",
    "]\n",
    "\n",
    "import Pkg\n",
    "Pkg.add(pkgs)\n",
    "for pkg in pkgs\n",
    "    eval(Meta.parse(\"import $(basename(pkg))\"))\n",
    "end\n",
    "\n",
    "import Mycelia"
   ]
  },
  {
   "cell_type": "code",
   "execution_count": 3,
   "metadata": {},
   "outputs": [],
   "source": [
    "refseq_summary_lines = readlines(IOBuffer(HTTP.get(\"https://ftp.ncbi.nih.gov/genomes/refseq/assembly_summary_refseq.txt\").body));"
   ]
  },
  {
   "cell_type": "code",
   "execution_count": 4,
   "metadata": {},
   "outputs": [],
   "source": [
    "# drop first line which is a comment\n",
    "refseq_summary_table = DataFrames.DataFrame(uCSV.read(IOBuffer(join(refseq_summary_lines[2:end], '\\n')), header=1, delim='\\t')...);"
   ]
  },
  {
   "cell_type": "code",
   "execution_count": 5,
   "metadata": {},
   "outputs": [],
   "source": [
    "# filter down to only included enterococcus records\n",
    "enterococcus_summary_table = refseq_summary_table[findall(n -> occursin(Regex(\"Enterococcus\", \"i\"), n), refseq_summary_table[!, \"organism_name\"]), :];"
   ]
  },
  {
   "cell_type": "code",
   "execution_count": 6,
   "metadata": {},
   "outputs": [],
   "source": [
    "# filter down to only include full genomes, rather than partial\n",
    "enterococcus_summary_table = enterococcus_summary_table[enterococcus_summary_table[!, \"genome_rep\"] .== \"Full\", :];"
   ]
  },
  {
   "cell_type": "code",
   "execution_count": 7,
   "metadata": {},
   "outputs": [
    {
     "data": {
      "text/plain": [
       "Dict{String, Int64} with 4 entries:\n",
       "  \"Scaffold\"        => 2213\n",
       "  \"Contig\"          => 2456\n",
       "  \"Chromosome\"      => 83\n",
       "  \"Complete Genome\" => 343"
      ]
     },
     "execution_count": 7,
     "metadata": {},
     "output_type": "execute_result"
    }
   ],
   "source": [
    "StatsBase.countmap(enterococcus_summary_table[!, \"assembly_level\"])"
   ]
  },
  {
   "cell_type": "code",
   "execution_count": null,
   "metadata": {},
   "outputs": [],
   "source": [
    "# pull genomes and look at the differences in fasta contents between Complete Genome & the rest\n",
    "# I'm worried that complete genome also contains plasmids\n",
    "# if they do, we'll want to filter those out"
   ]
  },
  {
   "cell_type": "code",
   "execution_count": 8,
   "metadata": {},
   "outputs": [
    {
     "data": {
      "text/plain": [
       "1"
      ]
     },
     "execution_count": 8,
     "metadata": {},
     "output_type": "execute_result"
    }
   ],
   "source": [
    "i = findfirst(assembly_level -> assembly_level == \"Complete Genome\", enterococcus_summary_table[!, \"assembly_level\"])"
   ]
  },
  {
   "cell_type": "code",
   "execution_count": 9,
   "metadata": {},
   "outputs": [
    {
     "name": "stdout",
     "output_type": "stream",
     "text": [
      "\u001b[1m1×23 DataFrame\u001b[0m\n",
      "\u001b[1m Row \u001b[0m│\u001b[1m # assembly_accession \u001b[0m\u001b[1m bioproject  \u001b[0m\u001b[1m biosample    \u001b[0m\u001b[1m wgs_master \u001b[0m\u001b[1m refseq_category \u001b[0m\u001b[1m taxid  \u001b[0m\u001b[1m species_taxid \u001b[0m\u001b[1m organism_name              \u001b[0m\u001b[1m infraspecific_name \u001b[0m\u001b[1m isolate \u001b[0m\u001b[1m version_status \u001b[0m\u001b[1m assembly_level  \u001b[0m\u001b[1m release_type \u001b[0m\u001b[1m genome_rep \u001b[0m\u001b[1m seq_rel_date \u001b[0m\u001b[1m asm_name \u001b[0m\u001b[1m submitter \u001b[0m\u001b[1m gbrs_paired_asm \u001b[0m\u001b[1m paired_asm_comp \u001b[0m\u001b[1m ftp_path                          \u001b[0m\u001b[1m excluded_from_refseq \u001b[0m\u001b[1m relation_to_type_material \u001b[0m\u001b[1m asm_not_live_date \u001b[0m\n",
      "\u001b[1m     \u001b[0m│\u001b[90m String               \u001b[0m\u001b[90m String      \u001b[0m\u001b[90m String       \u001b[0m\u001b[90m String     \u001b[0m\u001b[90m String          \u001b[0m\u001b[90m Int64  \u001b[0m\u001b[90m Int64         \u001b[0m\u001b[90m String                     \u001b[0m\u001b[90m String             \u001b[0m\u001b[90m String  \u001b[0m\u001b[90m String         \u001b[0m\u001b[90m String          \u001b[0m\u001b[90m String       \u001b[0m\u001b[90m String     \u001b[0m\u001b[90m String       \u001b[0m\u001b[90m String   \u001b[0m\u001b[90m String    \u001b[0m\u001b[90m String          \u001b[0m\u001b[90m String          \u001b[0m\u001b[90m String                            \u001b[0m\u001b[90m String               \u001b[0m\u001b[90m String                    \u001b[0m\u001b[90m String            \u001b[0m\n",
      "─────┼─────────────────────────────────────────────────────────────────────────────────────────────────────────────────────────────────────────────────────────────────────────────────────────────────────────────────────────────────────────────────────────────────────────────────────────────────────────────────────────────────────────────────────────────────────────────────────────────────────\n",
      "   1 │ GCF_000007785.1       PRJNA224116  SAMN02603978              na               226185           1351  Enterococcus faecalis V583  strain=V583                  latest          Complete Genome  Major         Full        2003/03/28    ASM778v1  TIGR       GCA_000007785.1  identical        ftp://ftp.ncbi.nlm.nih.gov/genom…                                                   na"
     ]
    }
   ],
   "source": [
    "show(enterococcus_summary_table[i:i, :], allcols=true)"
   ]
  },
  {
   "cell_type": "code",
   "execution_count": 10,
   "metadata": {},
   "outputs": [
    {
     "data": {
      "text/plain": [
       "\"https://ftp.ncbi.nlm.nih.gov/genomes/all/GCF/000/007/785/GCF_000007785.1_ASM778v1/GCF_000007785.1_ASM778v1_assembly_report.txt\""
      ]
     },
     "execution_count": 10,
     "metadata": {},
     "output_type": "execute_result"
    }
   ],
   "source": [
    "ftp_path = replace(enterococcus_summary_table[i, \"ftp_path\"], \"ftp://\" => \"https://\")\n",
    "assembly_report_path = ftp_path * \"/\" * basename(ftp_path) * \"_assembly_report.txt\""
   ]
  },
  {
   "cell_type": "code",
   "execution_count": 11,
   "metadata": {},
   "outputs": [
    {
     "data": {
      "text/plain": [
       "\"https://ftp.ncbi.nlm.nih.gov/genomes/all/GCF/000/007/785/GCF_000007785.1_ASM778v1/GCF_000007785.1_ASM778v1_genomic.fna.gz\""
      ]
     },
     "execution_count": 11,
     "metadata": {},
     "output_type": "execute_result"
    }
   ],
   "source": [
    "genome_path = ftp_path * \"/\" * basename(ftp_path) *  \"_genomic.fna.gz\""
   ]
  },
  {
   "cell_type": "code",
   "execution_count": 12,
   "metadata": {},
   "outputs": [
    {
     "data": {
      "text/plain": [
       "FASTX.FASTA.Reader{TranscodingStreams.TranscodingStream{CodecZlib.GzipDecompressor, IOBuffer}}(BioGenerics.Automa.State{TranscodingStreams.TranscodingStream{CodecZlib.GzipDecompressor, IOBuffer}}(TranscodingStreams.TranscodingStream{CodecZlib.GzipDecompressor, IOBuffer}(<mode=idle>), 1, 1, false), nothing)"
      ]
     },
     "execution_count": 12,
     "metadata": {},
     "output_type": "execute_result"
    }
   ],
   "source": [
    "Mycelia.get_sequence(ftp = genome_path)"
   ]
  },
  {
   "cell_type": "code",
   "execution_count": 13,
   "metadata": {},
   "outputs": [
    {
     "data": {
      "text/plain": [
       "4-element Vector{FASTX.FASTA.Record}:\n",
       " FASTX.FASTA.Record:\n",
       "   identifier: NC_004668.1\n",
       "  description: Enterococcus faecalis V583, complete sequence\n",
       "     sequence: TTTTAAGTTATCCACATTTTTTAGATAACCAAAATTTAA…\n",
       " FASTX.FASTA.Record:\n",
       "   identifier: NC_004669.1\n",
       "  description: Enterococcus faecalis V583 plasmid pTEF1, complete sequence\n",
       "     sequence: AATTGCTTTATTTTAAATAATGTTTTGGTATTCTTAAAA…\n",
       " FASTX.FASTA.Record:\n",
       "   identifier: NC_004671.1\n",
       "  description: Enterococcus faecalis V583 plasmid pTEF2, complete sequence\n",
       "     sequence: GATATAATAAGAAAGCAGGCAAATACTGTTATATCAGTA…\n",
       " FASTX.FASTA.Record:\n",
       "   identifier: NC_004670.1\n",
       "  description: Enterococcus faecalis V583 plasmid pTEF3, complete sequence\n",
       "     sequence: ATTATATTTCTTTTATACTTAACAGCTATATAATTTTTG…"
      ]
     },
     "execution_count": 13,
     "metadata": {},
     "output_type": "execute_result"
    }
   ],
   "source": [
    "fasta = collect(ans)"
   ]
  },
  {
   "cell_type": "code",
   "execution_count": null,
   "metadata": {},
   "outputs": [],
   "source": [
    "# initialize a metagraph with these fasta records"
   ]
  },
  {
   "cell_type": "code",
   "execution_count": 14,
   "metadata": {},
   "outputs": [
    {
     "data": {
      "text/plain": [
       "cypher (generic function with 1 method)"
      ]
     },
     "execution_count": 14,
     "metadata": {},
     "output_type": "execute_result"
    }
   ],
   "source": [
    "function cypher(cmd;\n",
    "    address=\"neo4j://localhost:7687\",\n",
    "    username=\"neo4j\",\n",
    "    password=\"password\",\n",
    "    format=\"auto\",\n",
    "    database=\"system\"\n",
    "    )\n",
    "    cmd = `cypher-shell --address $(address) --username $(username) --password $(password) --format $(format) --database $(database) $(cmd)`\n",
    "    return cmd\n",
    "end"
   ]
  },
  {
   "cell_type": "code",
   "execution_count": 15,
   "metadata": {},
   "outputs": [
    {
     "data": {
      "text/plain": [
       "Process(`\u001b[4mcypher-shell\u001b[24m \u001b[4m--address\u001b[24m \u001b[4mneo4j://localhost:7687\u001b[24m \u001b[4m--username\u001b[24m \u001b[4mneo4j\u001b[24m \u001b[4m--password\u001b[24m \u001b[4mpassword\u001b[24m \u001b[4m--format\u001b[24m \u001b[4mauto\u001b[24m \u001b[4m--database\u001b[24m \u001b[4msystem\u001b[24m \u001b[4m'drop database Enterococcus'\u001b[24m`, ProcessExited(0))"
      ]
     },
     "execution_count": 15,
     "metadata": {},
     "output_type": "execute_result"
    }
   ],
   "source": [
    "cmd = \"drop database Enterococcus\"\n",
    "run(cypher(database=\"system\", cmd))"
   ]
  },
  {
   "cell_type": "code",
   "execution_count": 16,
   "metadata": {},
   "outputs": [
    {
     "data": {
      "text/plain": [
       "Process(`\u001b[4mcypher-shell\u001b[24m \u001b[4m--address\u001b[24m \u001b[4mneo4j://localhost:7687\u001b[24m \u001b[4m--username\u001b[24m \u001b[4mneo4j\u001b[24m \u001b[4m--password\u001b[24m \u001b[4mpassword\u001b[24m \u001b[4m--format\u001b[24m \u001b[4mauto\u001b[24m \u001b[4m--database\u001b[24m \u001b[4msystem\u001b[24m \u001b[4m'create database Enterococcus'\u001b[24m`, ProcessExited(0))"
      ]
     },
     "execution_count": 16,
     "metadata": {},
     "output_type": "execute_result"
    }
   ],
   "source": [
    "cmd = \"create database Enterococcus\"\n",
    "run(cypher(database=\"system\", cmd))"
   ]
  },
  {
   "cell_type": "code",
   "execution_count": 17,
   "metadata": {},
   "outputs": [
    {
     "data": {
      "text/plain": [
       "{0, 0} directed Int64 metagraph with Float64 weights defined by :weight (default weight 1.0)"
      ]
     },
     "execution_count": 17,
     "metadata": {},
     "output_type": "execute_result"
    }
   ],
   "source": [
    "enterococcus_db = MetaGraphs.MetaDiGraph()"
   ]
  },
  {
   "cell_type": "markdown",
   "metadata": {},
   "source": [
    "# step 1 insert fasta record into julia database"
   ]
  },
  {
   "cell_type": "code",
   "execution_count": 19,
   "metadata": {},
   "outputs": [],
   "source": [
    "record = first(fasta)\n",
    "LightGraphs.add_vertex!(enterococcus_db)\n",
    "vi = LightGraphs.nv(enterococcus_db)\n",
    "MetaGraphs.set_prop!(enterococcus_db, vi, :type, \"FASTA\")\n",
    "MetaGraphs.set_prop!(enterococcus_db, vi, :identifier, FASTX.identifier(record))\n",
    "MetaGraphs.set_prop!(enterococcus_db, vi, :description, FASTX.description(record))\n",
    "MetaGraphs.set_prop!(enterococcus_db, vi, :sequence, FASTX.sequence(record))\n",
    "enterococcus_db.vprops[vi]"
   ]
  },
  {
   "cell_type": "markdown",
   "metadata": {},
   "source": [
    "# step 1.5, insert fasta record into neo database"
   ]
  },
  {
   "cell_type": "code",
   "execution_count": 30,
   "metadata": {},
   "outputs": [],
   "source": [
    "record_csv_file = DIR * \"/\" * FASTX.identifier(record) * \".tsv\"\n",
    "\n",
    "record_table = DataFrames.DataFrame(\n",
    "    :type => \"FASTA\",\n",
    "    :identifier => FASTX.identifier(record),\n",
    "    :description => FASTX.description(record),\n",
    "    :sequence => FASTX.sequence(record)\n",
    ");\n",
    "\n",
    "uCSV.write(record_csv_file, header = names(record_table), data = collect(DataFrames.eachcol(record_table)), delim='\\t')\n",
    "\n",
    "cmd = \n",
    "\"\"\"\n",
    "USING PERIODIC COMMIT\n",
    "LOAD CSV WITH HEADERS FROM\n",
    "'file://$(record_csv_file)' AS line\n",
    "FIELDTERMINATOR '\\t'\n",
    "with line\n",
    "CREATE (f:FASTA {identifier: line.`identifier`, description: line.`description`, sequence: line.`sequence`})\n",
    "\"\"\"\n",
    "\n",
    "run(cypher(database=\"Enterococcus\", cmd))"
   ]
  },
  {
   "cell_type": "markdown",
   "metadata": {},
   "source": [
    "# step 2 determine entity classification\n",
    "# either known or inferred by blasting"
   ]
  },
  {
   "cell_type": "markdown",
   "metadata": {},
   "source": [
    "# Add to Neo"
   ]
  },
  {
   "cell_type": "code",
   "execution_count": 45,
   "metadata": {},
   "outputs": [],
   "source": [
    "DataFrames.rename!(enterococcus_summary_table, \"# assembly_accession\" => \"assembly_accession\")\n",
    "# step 2 insert entity into database\n",
    "t = enterococcus_summary_table[i:i, :]\n",
    "# uCSV.write()\n",
    "# show(t, allcols=true)\n",
    "\n",
    "f = \"$(Mycelia.neo_import_dir)/enterococcus-entity-metadata.tsv\"\n",
    "uCSV.write(f, data=collect(DataFrames.eachcol(t)), header=names(t), delim='\\t')\n",
    "node_metadata_descriptors = join([\"$n: line.`$n`\" for n in names(t)], \", \")\n",
    "node_metadata = \"(n:ENTITY {$(node_metadata_descriptors)})\"\n",
    "normalized_f = replace(f, \" \" => \"%20\")\n",
    "\n",
    "cmd = \n",
    "\"\"\"\n",
    "USING PERIODIC COMMIT\n",
    "LOAD CSV WITH HEADERS FROM\n",
    "'file://$normalized_f' AS line\n",
    "FIELDTERMINATOR '\\t'\n",
    "with line\n",
    "CREATE $(node_metadata)\n",
    "\"\"\"\n",
    "\n",
    "run(cypher(database=\"Enterococcus\", cmd))\n",
    "\n",
    "cmd = \n",
    "\"\"\"\n",
    "MATCH (e:ENTITY) RETURN e\n",
    "\"\"\"\n",
    "run(cypher(database=\"Enterococcus\", cmd))"
   ]
  },
  {
   "cell_type": "markdown",
   "metadata": {},
   "source": [
    "# Add to julia db"
   ]
  },
  {
   "cell_type": "code",
   "execution_count": 82,
   "metadata": {},
   "outputs": [
    {
     "data": {
      "text/plain": [
       "2"
      ]
     },
     "execution_count": 82,
     "metadata": {},
     "output_type": "execute_result"
    }
   ],
   "source": [
    "# add new node\n",
    "LightGraphs.add_vertex!(enterococcus_db)\n",
    "vi = LightGraphs.nv(enterococcus_db)\n",
    "# MetaGraphs.set_prop!(enterococcus_db, vi, :type, \"FASTA\")\n",
    "# MetaGraphs.set_prop!(enterococcus_db, vi, :identifier, FASTX.identifier(record))\n",
    "# MetaGraphs.set_prop!(enterococcus_db, vi, :description, FASTX.description(record))\n",
    "# MetaGraphs.set_prop!(enterococcus_db, vi, :sequence, FASTX.sequence(record))\n",
    "# enterococcus_db.vprops[vi]"
   ]
  },
  {
   "cell_type": "code",
   "execution_count": 88,
   "metadata": {},
   "outputs": [
    {
     "data": {
      "text/plain": [
       "true"
      ]
     },
     "execution_count": 88,
     "metadata": {},
     "output_type": "execute_result"
    }
   ],
   "source": [
    "MetaGraphs.set_prop!(enterococcus_db, vi, :type, \"ENTITY\")"
   ]
  },
  {
   "cell_type": "code",
   "execution_count": null,
   "metadata": {},
   "outputs": [],
   "source": [
    "# for column in dataframe row, add metadata to node"
   ]
  },
  {
   "cell_type": "code",
   "execution_count": 86,
   "metadata": {},
   "outputs": [],
   "source": [
    "for n in names(t)\n",
    "#     @show t[i, n]\n",
    "    MetaGraphs.set_prop!(enterococcus_db, vi, Symbol(n), t[i, n])\n",
    "end"
   ]
  },
  {
   "cell_type": "code",
   "execution_count": 89,
   "metadata": {},
   "outputs": [
    {
     "data": {
      "text/plain": [
       "Dict{Symbol, Any} with 24 entries:\n",
       "  :relation_to_type_material => \"\"\n",
       "  :infraspecific_name        => \"strain=V583\"\n",
       "  :organism_name             => \"Enterococcus faecalis V583\"\n",
       "  :taxid                     => 226185\n",
       "  :asm_name                  => \"ASM778v1\"\n",
       "  :ftp_path                  => \"ftp://ftp.ncbi.nlm.nih.gov/genomes/all/GCF/000…\n",
       "  :asm_not_live_date         => \"na\"\n",
       "  :bioproject                => \"PRJNA224116\"\n",
       "  :release_type              => \"Major\"\n",
       "  :paired_asm_comp           => \"identical\"\n",
       "  :biosample                 => \"SAMN02603978\"\n",
       "  :species_taxid             => 1351\n",
       "  :assembly_level            => \"Complete Genome\"\n",
       "  :isolate                   => \"\"\n",
       "  :excluded_from_refseq      => \"\"\n",
       "  :seq_rel_date              => \"2003/03/28\"\n",
       "  :version_status            => \"latest\"\n",
       "  :wgs_master                => \"\"\n",
       "  :gbrs_paired_asm           => \"GCA_000007785.1\"\n",
       "  :submitter                 => \"TIGR\"\n",
       "  :type                      => \"ENTITY\"\n",
       "  :genome_rep                => \"Full\"\n",
       "  :assembly_accession        => \"GCF_000007785.1\"\n",
       "  :refseq_category           => \"na\""
      ]
     },
     "execution_count": 89,
     "metadata": {},
     "output_type": "execute_result"
    }
   ],
   "source": [
    "enterococcus_db.vprops[vi]"
   ]
  },
  {
   "cell_type": "code",
   "execution_count": null,
   "metadata": {},
   "outputs": [],
   "source": [
    "# step 3 add connections between fasta records and entity"
   ]
  },
  {
   "cell_type": "code",
   "execution_count": 90,
   "metadata": {},
   "outputs": [
    {
     "data": {
      "text/plain": [
       "true"
      ]
     },
     "execution_count": 90,
     "metadata": {},
     "output_type": "execute_result"
    }
   ],
   "source": [
    "# points from entity to fasta\n",
    "LightGraphs.add_edge!(enterococcus_db, 2, 1)"
   ]
  },
  {
   "cell_type": "code",
   "execution_count": 102,
   "metadata": {},
   "outputs": [
    {
     "name": "stdout",
     "output_type": "stream",
     "text": [
      "e.assembly_accession, f.identifier, ef\n",
      "\"GCF_000007785.1\", \"NC_004668.1\", [:HAS_SEQUENCE]\n"
     ]
    },
    {
     "data": {
      "text/plain": [
       "Process(`\u001b[4mcypher-shell\u001b[24m \u001b[4m--address\u001b[24m \u001b[4mneo4j://localhost:7687\u001b[24m \u001b[4m--username\u001b[24m \u001b[4mneo4j\u001b[24m \u001b[4m--password\u001b[24m \u001b[4mpassword\u001b[24m \u001b[4m--format\u001b[24m \u001b[4mauto\u001b[24m \u001b[4m--database\u001b[24m \u001b[4mEnterococcus\u001b[24m \u001b[4m\"MATCH (e:ENTITY {assembly_accession: 'GCF_000007785.1'})\u001b[24m\n",
       "\u001b[4mMATCH (f:FASTA {identifier: 'NC_004668.1'})\u001b[24m\n",
       "\u001b[4mMERGE (e)-[ef:HAS_SEQUENCE]->(f)\u001b[24m\n",
       "\u001b[4mreturn e.assembly_accession,f.identifier,ef\u001b[24m\n",
       "\u001b[4m\"\u001b[24m`, ProcessExited(0))"
      ]
     },
     "execution_count": 102,
     "metadata": {},
     "output_type": "execute_result"
    }
   ],
   "source": [
    "cmd =\n",
    "\"\"\"\n",
    "MATCH (e:ENTITY {assembly_accession: '$(t[1, \"assembly_accession\"])'})\n",
    "MATCH (f:FASTA {identifier: '$(FASTX.identifier(record))'})\n",
    "MERGE (e)-[ef:HAS_SEQUENCE]->(f)\n",
    "return e.assembly_accession,f.identifier,ef\n",
    "\"\"\"\n",
    "run(cypher(database=\"Enterococcus\", cmd))"
   ]
  },
  {
   "cell_type": "code",
   "execution_count": null,
   "metadata": {},
   "outputs": [],
   "source": [
    "# step 4, extract fasta files and generate a list of all canonical kmers"
   ]
  }
 ],
 "metadata": {
  "kernelspec": {
   "display_name": "Julia 1.6.1",
   "language": "julia",
   "name": "julia-1.6"
  },
  "language_info": {
   "file_extension": ".jl",
   "mimetype": "application/julia",
   "name": "julia",
   "version": "1.6.1"
  }
 },
 "nbformat": 4,
 "nbformat_minor": 4
}
