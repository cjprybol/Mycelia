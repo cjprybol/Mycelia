{
 "cells": [
  {
   "cell_type": "code",
   "execution_count": null,
   "metadata": {},
   "outputs": [],
   "source": [
    "TODAY=\"2021-11-13\"\n",
    "TASK = \"phylogenetic-determination\"\n",
    "DIR = \"$(homedir())/$(TODAY)-$(TASK)\"\n",
    "if !isdir(DIR)\n",
    "    mkdir(DIR)\n",
    "end\n",
    "cd(DIR)"
   ]
  },
  {
   "cell_type": "code",
   "execution_count": null,
   "metadata": {},
   "outputs": [],
   "source": [
    "import Pkg\n",
    "\n",
    "pkgs = [\n",
    "\"JSON\",\n",
    "\"HTTP\",\n",
    "\"Dates\",\n",
    "\"uCSV\",\n",
    "\"DelimitedFiles\",\n",
    "\"DataFrames\",\n",
    "\"ProgressMeter\",\n",
    "\"BioSequences\",\n",
    "\"FASTX\",\n",
    "\"Distances\",\n",
    "\"Plots\",\n",
    "\"StatsPlots\",\n",
    "\"StatsBase\",\n",
    "\"Statistics\",\n",
    "\"Mmap\",\n",
    "\"MultivariateStats\",\n",
    "\"PyCall\",\n",
    "\"Random\",\n",
    "\"Primes\",\n",
    "\"Revise\",\n",
    "\"SparseArrays\",\n",
    "\"SHA\",\n",
    "\"Mycelia\",\n",
    "\"GenomicAnnotations\",\n",
    "\"BioFetch\",\n",
    "\"Combinatorics\",\n",
    "\"StaticArrays\",\n",
    "\"BioSymbols\",\n",
    "\"RollingFunctions\",\n",
    "\"OrderedCollections\"\n",
    "]\n",
    "\n",
    "for pkg in pkgs\n",
    "    try\n",
    "        eval(Meta.parse(\"import $pkg\"))\n",
    "    catch\n",
    "        Pkg.add(pkg)\n",
    "        eval(Meta.parse(\"import $pkg\"))\n",
    "    end\n",
    "end"
   ]
  },
  {
   "cell_type": "code",
   "execution_count": null,
   "metadata": {},
   "outputs": [],
   "source": [
    "function generate_all_possible_kmers(k, alphabet)\n",
    "    kmer_iterator = Iterators.product([alphabet for i in 1:k]...)\n",
    "    kmer_vectors = collect.(vec(collect(kmer_iterator)))\n",
    "    if eltype(alphabet) == BioSymbols.AminoAcid\n",
    "        kmers = BioSequences.LongAminoAcidSeq.(kmer_vectors)\n",
    "    elseif eltype(alphabet) == BioSymbols.DNA\n",
    "        kmers = BioSequences.LongDNASeq.(kmer_vectors)\n",
    "    else\n",
    "        error()\n",
    "    end\n",
    "    return sort!(kmers)\n",
    "end\n",
    "\n",
    "function generate_all_possible_canonical_kmers(k, alphabet)\n",
    "    kmers = generate_all_possible_kmers(k, alphabet)\n",
    "    if eltype(alphabet) == BioSymbols.AminoAcid\n",
    "        return kmers\n",
    "    elseif eltype(alphabet) == BioSymbols.DNA\n",
    "        return BioSequences.DNAMer.(unique!(BioSequences.canonical.(kmers)))\n",
    "    else\n",
    "        error()\n",
    "    end\n",
    "end"
   ]
  },
  {
   "cell_type": "code",
   "execution_count": null,
   "metadata": {},
   "outputs": [],
   "source": [
    "function count_canonical_aamers(k, fasta_proteins)\n",
    "    aamer_counts = OrderedCollections.OrderedDict{BioSequences.LongAminoAcidSeq, Int64}()\n",
    "    for protein in fasta_proteins\n",
    "        s = FASTX.sequence(protein)\n",
    "        these_counts = sort(StatsBase.countmap([s[i:i+k-1] for i in 1:length(s)-k-1]))\n",
    "        merge!(+, aamer_counts, these_counts)\n",
    "    end\n",
    "    return sort(aamer_counts)\n",
    "end"
   ]
  },
  {
   "cell_type": "code",
   "execution_count": null,
   "metadata": {},
   "outputs": [],
   "source": [
    "function update_counts_matrix!(matrix, sample_index, countmap, sorted_kmers)\n",
    "    for (i, kmer) in enumerate(sorted_kmers)\n",
    "        matrix[i, sample_index] = get(countmap, kmer, 0)\n",
    "    end\n",
    "    return matrix\n",
    "end"
   ]
  },
  {
   "cell_type": "code",
   "execution_count": null,
   "metadata": {},
   "outputs": [],
   "source": [
    "function accession_list_to_aamer_counts_table(accession_list, k, AA_ALPHABET)\n",
    "    \n",
    "    canonical_aamers = generate_all_possible_canonical_kmers(k, AA_ALPHABET)\n",
    "    \n",
    "    aamer_counts_matrix = zeros(length(canonical_aamers), length(accession_list))\n",
    "    \n",
    "    ProgressMeter.@showprogress for (entity_index, accession) in enumerate(accession_list)\n",
    "        entity_genbank = BioFetch.fetchseq(accession, format = BioFetch.gb)\n",
    "        fasta_proteins = Vector{FASTX.FASTA.Record}()\n",
    "        for gene in GenomicAnnotations.@genes(entity_genbank, CDS)\n",
    "            try\n",
    "                dna_seq = GenomicAnnotations.sequence(gene)\n",
    "                # if seq isn't divisible by 3, cut final bases that can't be mapped to a codon\n",
    "                translateable_length = div(length(dna_seq), 3) * 3\n",
    "                truncated_dna_seq = dna_seq[1:translateable_length]\n",
    "                aa_seq = BioSequences.translate(truncated_dna_seq)\n",
    "                id = getproperty(gene, :protein_id)\n",
    "                product = getproperty(gene, :product)\n",
    "                record = FASTX.FASTA.Record(id, product, aa_seq)\n",
    "                push!(fasta_proteins, record)\n",
    "            catch\n",
    "#                 @error GenomicAnnotations.sequence(gene)\n",
    "#                 @error GenomicAnnotations.sequence(gene)\n",
    "                continue\n",
    "#                 error()\n",
    "            end\n",
    "\n",
    "        end\n",
    "        entity_aamer_counts = count_canonical_aamers(aa_k, fasta_proteins)\n",
    "        update_counts_matrix!(aamer_counts_matrix, entity_index, entity_aamer_counts, canonical_aamers)\n",
    "    end\n",
    "    return aamer_counts_matrix\n",
    "end"
   ]
  },
  {
   "cell_type": "code",
   "execution_count": null,
   "metadata": {},
   "outputs": [],
   "source": [
    "function accession_list_to_dnamer_counts_table(accession_list, k)\n",
    "    canonical_dnamers = generate_all_possible_canonical_kmers(k, DNA_ALPHABET)\n",
    "    dnamer_counts_matrix = zeros(length(canonical_dnamers), length(accession_list))\n",
    "\n",
    "    ProgressMeter.@showprogress for (entity_index, accession) in enumerate(accession_list)\n",
    "        entity_genbank = BioFetch.fetchseq(accession, format = BioFetch.gb)\n",
    "        fasta_dna_sequences = [\n",
    "            FASTX.FASTA.Record(chromosome.name, chromosome.sequence) \n",
    "                for chromosome in entity_genbank\n",
    "                              ]\n",
    "        entity_dnamer_counts = Mycelia.count_canonical_kmers(BioSequences.DNAMer{dna_k}, fasta_dna_sequences)\n",
    "        update_counts_matrix!(dnamer_counts_matrix, entity_index, entity_dnamer_counts, canonical_dnamers)\n",
    "    end\n",
    "    return dnamer_counts_matrix    \n",
    "end"
   ]
  },
  {
   "cell_type": "code",
   "execution_count": null,
   "metadata": {},
   "outputs": [],
   "source": [
    "function normalize_distance_matrix(distance_matrix)\n",
    "    max_non_nan_value = maximum(filter(x -> !isnan(x) && !isnothing(x) && !ismissing(x), vec(distance_matrix)))\n",
    "    return distance_matrix ./ max_non_nan_value\n",
    "end"
   ]
  },
  {
   "cell_type": "code",
   "execution_count": null,
   "metadata": {},
   "outputs": [],
   "source": [
    "function count_matrix_to_probability_matrix(counts_matrix)\n",
    "    probability_matrix = copy(counts_matrix)\n",
    "    for (i, col) in enumerate(eachcol(probability_matrix))\n",
    "        probability_matrix[:, i] .= col ./ sum(col)\n",
    "    end\n",
    "    return probability_matrix\n",
    "end"
   ]
  },
  {
   "cell_type": "code",
   "execution_count": null,
   "metadata": {},
   "outputs": [],
   "source": [
    "# MYCELIA_METADATA = joinpath(Pkg.dir(\"Mycelia\"), \"metadata\")\n",
    "MYCELIA_METADATA = joinpath(dirname(dirname(pathof(Mycelia))),  \"metadata\")"
   ]
  },
  {
   "cell_type": "code",
   "execution_count": null,
   "metadata": {},
   "outputs": [],
   "source": [
    "AA_ALPHABET = collect(filter(x -> x != BioSequences.AA_Term, Mycelia.AA_ALPHABET))\n",
    "DNA_ALPHABET = Mycelia.DNA_ALPHABET"
   ]
  },
  {
   "cell_type": "markdown",
   "metadata": {},
   "source": [
    "- Jaccard doesn't seem to differentiate sufficiently between sequences without getting into really large k sizes\n",
    "- Euclidean is consistently seperating within vs between @ 10 samples of family\n",
    "- JS and Cosine have some entities that are going the wrong way regarding distance is less between families"
   ]
  },
  {
   "cell_type": "code",
   "execution_count": null,
   "metadata": {},
   "outputs": [],
   "source": [
    "# n_samples = 10\n",
    "# n_samples = 100\n",
    "n_samples = 1000"
   ]
  },
  {
   "cell_type": "code",
   "execution_count": null,
   "metadata": {},
   "outputs": [],
   "source": [
    "# https://www.ncbi.nlm.nih.gov/labs/virus/vssi/#/virus?SeqType_s=Nucleotide&VirusLineage_ss=Bacteriophage,%20all%20taxids&Completeness_s=complete\n",
    "entity_metadata = DataFrames.DataFrame(uCSV.read(\"$(MYCELIA_METADATA)/2021-11-13-ncbi-complete-bacteriophage.csv\", header=1, quotes='\"')...)\n",
    "entity_metadata = entity_metadata[entity_metadata[!, \"Nuc_Completeness\"] .== \"complete\", :]\n",
    "entity_metadata = entity_metadata[entity_metadata[!, \"Sequence_Type\"] .== \"RefSeq\", :]\n",
    "sort!(entity_metadata, \"Accession\")\n",
    "Random.seed!(0)\n",
    "subset_indices = StatsBase.sample(1:size(entity_metadata, 1), n_samples, ordered=true, replace=false)\n",
    "entity_metadata = entity_metadata[subset_indices, :]"
   ]
  },
  {
   "cell_type": "code",
   "execution_count": null,
   "metadata": {},
   "outputs": [],
   "source": [
    "accession_list = entity_metadata[!, \"Accession\"]"
   ]
  },
  {
   "cell_type": "code",
   "execution_count": null,
   "metadata": {},
   "outputs": [],
   "source": [
    "# these are too small, all of the within vs between have some disagreement\n",
    "# dna_k = 5\n",
    "# aa_k = 2\n",
    "dna_k = 7\n",
    "aa_k = 3"
   ]
  },
  {
   "cell_type": "code",
   "execution_count": null,
   "metadata": {},
   "outputs": [],
   "source": [
    "# http://leb.snu.ac.kr/ezaai"
   ]
  },
  {
   "cell_type": "code",
   "execution_count": null,
   "metadata": {
    "jupyter": {
     "source_hidden": true
    }
   },
   "outputs": [],
   "source": [
    "# rep_origin      complement(16763)\n",
    "# variation       complement(2665)\n",
    "#      misc_feature    complement(3871)\n",
    "\n",
    "#      variation       complement(3939)\n",
    "#      variation       complement(20826)\n",
    "#      modified_base   complement(29281)\n",
    "#      modified_base   complement(29282)\n",
    "#      modified_base   complement(29295)\n",
    "#      modified_base   complement(31645)\n",
    "#      modified_base   complement(31646)\n",
    "#      modified_base   complement(31669)\n",
    "#      modified_base   complement(31671)\n",
    "#      modified_base   complement(31689)\n",
    "#      modified_base   complement(31691)\n",
    "#      modified_base   complement(31692)\n",
    "#      modified_base   complement(32533)\n",
    "#      modified_base   complement(32534)\n",
    "#      modified_base   complement(32542)\n",
    "#      modified_base   complement(32551)\n",
    "#      modified_base   complement(32568)\n",
    "#      modified_base   complement(33589)\n",
    "#      modified_base   complement(33599)\n",
    "#      modified_base   complement(33600)\n",
    "#      modified_base   complement(33973)\n",
    "#      modified_base   complement(33974)\n",
    "#      modified_base   complement(33982)\n",
    "#      modified_base   complement(33988)\n",
    "#      modified_base   complement(33991)\n",
    "#      modified_base   complement(34009)\n",
    "#      variation       complement(49332)\n",
    "#      variation       complement(50257)\n",
    "#      variation       complement(51626)\n",
    "#      variation       complement(92822)\n",
    "#      variation       complement(101898)\n",
    "#      variation       complement(102426)\n",
    "#      variation       complement(105008)\n",
    "#      variation       complement(107430)\n"
   ]
  },
  {
   "cell_type": "code",
   "execution_count": null,
   "metadata": {},
   "outputs": [],
   "source": [
    "aamer_counts_matrix = accession_list_to_aamer_counts_table(accession_list, aa_k, AA_ALPHABET)"
   ]
  },
  {
   "cell_type": "code",
   "execution_count": null,
   "metadata": {},
   "outputs": [],
   "source": [
    "dnamer_counts_matrix = accession_list_to_dnamer_counts_table(accession_list, dna_k)"
   ]
  },
  {
   "cell_type": "code",
   "execution_count": null,
   "metadata": {},
   "outputs": [],
   "source": [
    "unique_species = filter(!isempty, sort(unique(entity_metadata[!, \"Species\"])))\n",
    "unique_genera = filter(!isempty, sort(unique(entity_metadata[!, \"Genus\"])))\n",
    "unique_families = filter(!isempty, sort(unique(entity_metadata[!, \"Family\"])))"
   ]
  },
  {
   "cell_type": "code",
   "execution_count": null,
   "metadata": {},
   "outputs": [],
   "source": [
    "aamer_probability_matrix = count_matrix_to_probability_matrix(aamer_counts_matrix)\n",
    "dnamer_probility_matrix = count_matrix_to_probability_matrix(dnamer_counts_matrix)"
   ]
  },
  {
   "cell_type": "code",
   "execution_count": null,
   "metadata": {},
   "outputs": [],
   "source": [
    "matrix_metric_grammar_groups = [\n",
    "        (normalize_distance_matrix(Distances.pairwise(Distances.euclidean, aamer_counts_matrix, dims=2)), \"euclidean\", \"AA\"), # good\n",
    "        (normalize_distance_matrix(Distances.pairwise(Distances.euclidean, dnamer_counts_matrix, dims=2)), \"euclidean\", \"DNA\"), # good\n",
    "        (normalize_distance_matrix(Distances.pairwise(Distances.cityblock, aamer_counts_matrix, dims=2)), \"cityblock\", \"AA\"), # redundant with above\n",
    "        (normalize_distance_matrix(Distances.pairwise(Distances.cityblock, dnamer_counts_matrix, dims=2)), \"cityblock\", \"DNA\"), # redundant with above\n",
    "        \n",
    "        (normalize_distance_matrix(Distances.pairwise(Distances.corr_dist, aamer_counts_matrix, dims=2)), \"corr_dist\", \"AA\"), # meh\n",
    "        (normalize_distance_matrix(Distances.pairwise(Distances.corr_dist, dnamer_counts_matrix, dims=2)), \"corr_dist\", \"DNA\"), # meh\n",
    "        (normalize_distance_matrix(Distances.pairwise(Distances.cosine_dist, aamer_counts_matrix, dims=2)), \"cosine_dist\", \"AA\"), # meh\n",
    "        (normalize_distance_matrix(Distances.pairwise(Distances.cosine_dist, dnamer_counts_matrix, dims=2)), \"cosine_dist\", \"DNA\"), # very bad\n",
    "        \n",
    "        (normalize_distance_matrix(Distances.pairwise(Distances.totalvariation, aamer_probability_matrix, dims=2)), \"totalvariation\", \"AA\"), # good\n",
    "        (normalize_distance_matrix(Distances.pairwise(Distances.totalvariation, dnamer_probility_matrix, dims=2)), \"totalvariation\", \"DNA\"), # bad\n",
    "        (normalize_distance_matrix(Distances.pairwise(Distances.js_divergence, aamer_probability_matrix, dims=2)), \"js_divergence\", \"AA\"), # good\n",
    "        (normalize_distance_matrix(Distances.pairwise(Distances.js_divergence, dnamer_probility_matrix, dims=2)), \"js_divergence\", \"DNA\"), # bad\n",
    "        (normalize_distance_matrix(Distances.pairwise(Distances.bhattacharyya, aamer_probability_matrix, dims=2)), \"bhattacharyya\", \"AA\"), # good\n",
    "        (normalize_distance_matrix(Distances.pairwise(Distances.bhattacharyya, dnamer_probility_matrix, dims=2)), \"bhattacharyya\", \"DNA\"), # bad\n",
    "        (normalize_distance_matrix(Distances.pairwise(Distances.hellinger, aamer_probability_matrix, dims=2)), \"hellinger\", \"AA\"), # good\n",
    "        (normalize_distance_matrix(Distances.pairwise(Distances.hellinger, dnamer_probility_matrix, dims=2)), \"hellinger\", \"DNA\"), # bad\n",
    "    ]"
   ]
  },
  {
   "cell_type": "code",
   "execution_count": null,
   "metadata": {},
   "outputs": [],
   "source": [
    "for (distance_matrix, distance_metric, grammar) in matrix_metric_grammar_groups\n",
    "    \n",
    "        within_vs_between_distances = []\n",
    "        ProgressMeter.@showprogress for family in unique_families\n",
    "            family_indices = findall(entity_metadata[!, \"Family\"] .== family)\n",
    "            other_family_indices = setdiff(1:1:size(distance_matrix, 1), family_indices)\n",
    "            for index in family_indices\n",
    "                other_indices = filter(i -> i != index, family_indices)\n",
    "                avg_within_family_distance = Statistics.mean(vec(distance_matrix[index, other_indices]))\n",
    "                avg_between_family_distance = Statistics.mean(vec(distance_matrix[index, other_family_indices]))\n",
    "                push!(within_vs_between_distances, avg_within_family_distance => avg_between_family_distance)\n",
    "            end\n",
    "        end\n",
    "        within_vs_between_distances = filter(d -> !any(map(x1 -> isnan(x1), collect(d))), within_vs_between_distances)\n",
    "\n",
    "        ys = collect.(within_vs_between_distances)\n",
    "\n",
    "        xs = [[1, 2] for x in ys]\n",
    "    \n",
    "        if grammar == \"AA\"\n",
    "            k = aa_k\n",
    "        elseif grammar == \"DNA\"\n",
    "            k = dna_k\n",
    "        end\n",
    "    \n",
    "        n = size(distance_matrix, 1)\n",
    "\n",
    "        p = StatsPlots.plot(\n",
    "            xs,\n",
    "            ys,\n",
    "            xticks = ([1, 2], [\"within family\", \"between families\"]),\n",
    "            legend = false,\n",
    "            xlims = (0.75, 2.25),\n",
    "            alpha = 0.5,\n",
    "            title = \"$(distance_metric) distance @ k=$k & $grammar\\n(n=$(n))\",\n",
    "            ylabel = \"normalized distance\",\n",
    "            marker = :circle\n",
    "        )\n",
    "        StatsPlots.savefig(p, \"$DIR/$(distance_metric)-distance-family-k$k-$(grammar)-n$n.png\")\n",
    "        StatsPlots.savefig(p, \"$DIR/$(distance_metric)-distance-family-k$k-$(grammar)-n$n.svg\")\n",
    "        display(p)\n",
    "end"
   ]
  },
  {
   "cell_type": "code",
   "execution_count": null,
   "metadata": {},
   "outputs": [],
   "source": [
    "for (distance_matrix, distance_metric, grammar) in matrix_metric_grammar_groups\n",
    "        within_vs_between_distances = []\n",
    "        ProgressMeter.@showprogress for genus in unique_genera\n",
    "            within_indices = findall(entity_metadata[!, \"Genus\"] .== genus)\n",
    "            between_indices = setdiff(1:1:size(distance_matrix, 1), within_indices)\n",
    "            for index in within_indices\n",
    "                other_within_indices = filter(i -> i != index, within_indices)\n",
    "                avg_within_distance = Statistics.mean(vec(distance_matrix[index, other_within_indices]))\n",
    "                avg_between_distance = Statistics.mean(vec(distance_matrix[index, between_indices]))\n",
    "                push!(within_vs_between_distances, avg_within_distance => avg_between_distance)\n",
    "            end\n",
    "        end\n",
    "        within_vs_between_distances = filter(d -> !any(map(x1 -> isnan(x1), collect(d))), within_vs_between_distances)\n",
    "\n",
    "        ys = collect.(within_vs_between_distances)\n",
    "\n",
    "        xs = [[1, 2] for x in ys]\n",
    "    \n",
    "        if grammar == \"AA\"\n",
    "            k = aa_k\n",
    "        elseif grammar == \"DNA\"\n",
    "            k = dna_k\n",
    "        end\n",
    "    \n",
    "        n = size(distance_matrix, 1)\n",
    "\n",
    "        p = StatsPlots.plot(\n",
    "            xs,\n",
    "            ys,\n",
    "            xticks = ([1, 2], [\"within genus\", \"between genera\"]),\n",
    "            legend = false,\n",
    "            xlims = (0.75, 2.25),\n",
    "            alpha = 0.5,\n",
    "            title = \"$(distance_metric) distance @ k=$k & $grammar\\n(n=$(n))\",\n",
    "            ylabel = \"normalized distance\",\n",
    "            marker = :circle\n",
    "        )\n",
    "        StatsPlots.savefig(p, \"$DIR/$(distance_metric)-distance-genus-k$k-$(grammar)-n$n.png\")\n",
    "        StatsPlots.savefig(p, \"$DIR/$(distance_metric)-distance-genus-k$k-$(grammar)-n$n.svg\")\n",
    "        display(p)\n",
    "end"
   ]
  }
 ],
 "metadata": {
  "kernelspec": {
   "display_name": "Julia 1.6.3",
   "language": "julia",
   "name": "julia-1.6"
  },
  "language_info": {
   "file_extension": ".jl",
   "mimetype": "application/julia",
   "name": "julia",
   "version": "1.6.3"
  }
 },
 "nbformat": 4,
 "nbformat_minor": 4
}
