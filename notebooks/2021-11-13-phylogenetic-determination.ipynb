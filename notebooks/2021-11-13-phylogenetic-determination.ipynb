{
 "cells": [
  {
   "cell_type": "code",
   "execution_count": 1,
   "metadata": {},
   "outputs": [],
   "source": [
    "TODAY=\"2021-11-13\"\n",
    "TASK = \"phylogenetic-determination\"\n",
    "DIR = \"$(homedir())/$(TODAY)-$(TASK)\"\n",
    "if !isdir(DIR)\n",
    "    mkdir(DIR)\n",
    "end\n",
    "cd(DIR)"
   ]
  },
  {
   "cell_type": "code",
   "execution_count": 2,
   "metadata": {},
   "outputs": [
    {
     "name": "stderr",
     "output_type": "stream",
     "text": [
      "\u001b[32m\u001b[1m    Updating\u001b[22m\u001b[39m registry at `~/.julia/registries/General`\n",
      "\u001b[32m\u001b[1m   Resolving\u001b[22m\u001b[39m package versions...\n",
      "\u001b[32m\u001b[1m  No Changes\u001b[22m\u001b[39m to `~/.julia/environments/v1.6/Project.toml`\n",
      "\u001b[32m\u001b[1m  No Changes\u001b[22m\u001b[39m to `~/.julia/environments/v1.6/Manifest.toml`\n"
     ]
    }
   ],
   "source": [
    "import Pkg\n",
    "\n",
    "pkgs = [\n",
    "\"JSON\",\n",
    "\"HTTP\",\n",
    "\"Dates\",\n",
    "\"uCSV\",\n",
    "\"DelimitedFiles\",\n",
    "\"DataFrames\",\n",
    "\"ProgressMeter\",\n",
    "\"BioSequences\",\n",
    "\"FASTX\",\n",
    "\"Distances\",\n",
    "\"Plots\",\n",
    "\"StatsPlots\",\n",
    "\"StatsBase\",\n",
    "\"Statistics\",\n",
    "\"Mmap\",\n",
    "\"MultivariateStats\",\n",
    "\"PyCall\",\n",
    "\"Random\",\n",
    "\"Primes\",\n",
    "\"Revise\",\n",
    "\"SparseArrays\",\n",
    "\"SHA\"\n",
    "]\n",
    "Pkg.add(pkgs)\n",
    "for pkg in pkgs\n",
    "    eval(Meta.parse(\"import $pkg\"))\n",
    "end"
   ]
  },
  {
   "cell_type": "code",
   "execution_count": 3,
   "metadata": {},
   "outputs": [
    {
     "name": "stderr",
     "output_type": "stream",
     "text": [
      "┌ Warning: `Pkg.dir(pkgname, paths...)` is deprecated; instead, do `import Mycelia; joinpath(dirname(pathof(Mycelia)), \"..\", paths...)`.\n",
      "└ @ Pkg /buildworker/worker/package_linux64/build/usr/share/julia/stdlib/v1.6/Pkg/src/Pkg.jl:582\n"
     ]
    },
    {
     "data": {
      "text/plain": [
       "\"/root/.julia/dev/Mycelia/metadata\""
      ]
     },
     "execution_count": 3,
     "metadata": {},
     "output_type": "execute_result"
    }
   ],
   "source": [
    "MYCELIA_METADATA = joinpath(Pkg.dir(\"Mycelia\"), \"metadata\")"
   ]
  },
  {
   "cell_type": "code",
   "execution_count": null,
   "metadata": {},
   "outputs": [],
   "source": [
    "# https://www.ncbi.nlm.nih.gov/labs/virus/vssi/#/virus?SeqType_s=Nucleotide&VirusLineage_ss=Bacteriophage,%20all%20taxids&Completeness_s=complete\n",
    "entity_metadata = DataFrames.DataFrame(uCSV.read(\"$(MYCELIA_METADATA)/2021-11-13-ncbi-complete-bacteriophage.csv\", header=1, quotes='\"')...)\n",
    "show(entity_metadata)"
   ]
  },
  {
   "cell_type": "code",
   "execution_count": null,
   "metadata": {},
   "outputs": [],
   "source": [
    "entity_metadata = entity_metadata[entity_metadata[!, \"Nuc_Completeness\"] .== \"complete\", :]\n",
    "entity_metadata = entity_metadata[entity_metadata[!, \"Sequence_Type\"] .== \"RefSeq\", :]\n",
    "sort!(entity_metadata, \"Accession\")"
   ]
  },
  {
   "cell_type": "code",
   "execution_count": null,
   "metadata": {},
   "outputs": [],
   "source": [
    "Random.seed!(0)\n",
    "subset_indices = StatsBase.sample(1:size(entity_metadata, 1), 10, ordered=true, replace=false)\n",
    "entity_metadata = entity_metadata[subset_indices, :]"
   ]
  },
  {
   "cell_type": "code",
   "execution_count": null,
   "metadata": {},
   "outputs": [],
   "source": [
    "entity_metadata"
   ]
  },
  {
   "cell_type": "code",
   "execution_count": null,
   "metadata": {},
   "outputs": [],
   "source": [
    "# download genomic fasta files"
   ]
  },
  {
   "cell_type": "code",
   "execution_count": null,
   "metadata": {},
   "outputs": [],
   "source": [
    "# download protien fasta files"
   ]
  },
  {
   "cell_type": "code",
   "execution_count": null,
   "metadata": {},
   "outputs": [],
   "source": [
    "n_samples = size(reference_phage_metadata, 1)"
   ]
  },
  {
   "cell_type": "code",
   "execution_count": null,
   "metadata": {},
   "outputs": [],
   "source": [
    "# # determine optimal kmer-length\n",
    "\n",
    "# # optimal_kmer_length = Int(ceil(log(4, sum(reference_phage_metadata[!, \"Length\"]))))\n",
    "# # k = Primes.nextprime(optimal_kmer_length)\n",
    "# k = 5\n",
    "\n",
    "# kmer_counts_directory = \"$PANGENOMICS/ncbi-reference-viruses/kmer-counts/$k\"\n",
    "# # kmer_counts_directory = \"$DIR/kmer-counts/$k\"\n",
    "# if !isdir(kmer_counts_directory)\n",
    "#     mkpath(kmer_counts_directory)\n",
    "# end\n",
    "# ProgressMeter.@showprogress for accession in reference_phage_metadata[!, \"Accession\"]\n",
    "#     fasta_file =  \"$PANGENOMICS/ncbi-reference-viruses/fasta/$(accession).fasta\"\n",
    "#     @assert isfile(fasta_file)\n",
    "#     kmer_file = \"$kmer_counts_directory/$(accession).$(k).counts\"    \n",
    "#     if !isfile(kmer_file)\n",
    "#         LocusJulia.jellyfish_count(fasta=fasta_file, k=k, directory=\"$kmer_counts_directory\")\n",
    "#     end\n",
    "#     @assert isfile(kmer_file)\n",
    "# end"
   ]
  },
  {
   "cell_type": "code",
   "execution_count": null,
   "metadata": {},
   "outputs": [],
   "source": [
    "# all(replace.(basename.(kmer_count_files), \".5.counts\" => \"\") .== reference_phage_metadata[!, \"Accession\"])"
   ]
  },
  {
   "cell_type": "markdown",
   "metadata": {},
   "source": [
    "## Generate kmer counts"
   ]
  },
  {
   "cell_type": "code",
   "execution_count": null,
   "metadata": {},
   "outputs": [],
   "source": [
    "# kmer_count_files = [\"$kmer_counts_directory/$(accession).$(k).counts\" for accession in reference_phage_metadata[!, \"Accession\"]]"
   ]
  },
  {
   "cell_type": "code",
   "execution_count": null,
   "metadata": {},
   "outputs": [],
   "source": [
    "# kmer_count_files = filter(f -> occursin(\"$k.counts\", f), readdir(kmer_counts_directory, join=true))\n",
    "# kmer_count_files = filter(x -> occursin(Regex(\"\\\\.$k\\\\.counts\\$\"), x) && !occursin('-', basename(x)), readdir(\"$(DIR)/kmer-counts\", join=true))"
   ]
  },
  {
   "cell_type": "code",
   "execution_count": null,
   "metadata": {},
   "outputs": [],
   "source": [
    "# compute the sha-256 of all of the contents of all of the kmer counts and use that to tag the kmer list and the joint kmer count directory"
   ]
  },
  {
   "cell_type": "code",
   "execution_count": null,
   "metadata": {},
   "outputs": [],
   "source": [
    "# kmer_count_hash = hash(kmer_count_files)"
   ]
  },
  {
   "cell_type": "code",
   "execution_count": null,
   "metadata": {},
   "outputs": [],
   "source": [
    "# joint_kmer_count_file = \"$(DIR)/$k.$(kmer_count_hash).counts\"\n",
    "# joint_kmer_file = \"$(DIR)/$k.$(kmer_count_hash).kmers\""
   ]
  },
  {
   "cell_type": "code",
   "execution_count": null,
   "metadata": {},
   "outputs": [],
   "source": [
    "# if k <= 31\n",
    "#     KMER_TYPE = BioSequences.DNAMer{k}\n",
    "# else\n",
    "#     KMER_TYPE = BioSequences.BigDNAMer{k}\n",
    "# end"
   ]
  },
  {
   "cell_type": "code",
   "execution_count": null,
   "metadata": {},
   "outputs": [],
   "source": [
    "# if !isfile(joint_kmer_file)\n",
    "#     kmer_set = Set{KMER_TYPE}()\n",
    "#     ProgressMeter.@showprogress for kmer_count_file in kmer_count_files\n",
    "#         for line in eachline(kmer_count_file)\n",
    "#             kmer = KMER_TYPE(first(split(line)))\n",
    "#             push!(kmer_set, kmer)\n",
    "#         end\n",
    "#     end\n",
    "#     kmer_list = sort!(collect(kmer_set)); kmer_set = nothing;\n",
    "\n",
    "#     open(joint_kmer_file, \"w\") do io\n",
    "#         for kmer in kmer_list\n",
    "#             println(io, kmer)\n",
    "#         end\n",
    "#     end\n",
    "# else\n",
    "#     n_kmers = countlines(joint_kmer_file)\n",
    "#     kmer_list = Vector{KMER_TYPE}(undef, n_kmers)\n",
    "#     open(joint_kmer_file) do io\n",
    "#         for (i, line) in enumerate(eachline(io))\n",
    "#             kmer_list[i] = KMER_TYPE(line)\n",
    "#         end\n",
    "#     end\n",
    "# end"
   ]
  },
  {
   "cell_type": "code",
   "execution_count": null,
   "metadata": {},
   "outputs": [],
   "source": [
    "# n_kmers = length(kmer_list)"
   ]
  },
  {
   "cell_type": "code",
   "execution_count": null,
   "metadata": {},
   "outputs": [],
   "source": [
    "# table_size_in_gb = round(n_kmers * n_samples * 64 / (8e+9), digits=3)"
   ]
  },
  {
   "cell_type": "code",
   "execution_count": null,
   "metadata": {},
   "outputs": [],
   "source": [
    "# println(\"dense matrix would take up\\n$(table_size_in_gb) Gb\")"
   ]
  },
  {
   "cell_type": "code",
   "execution_count": null,
   "metadata": {},
   "outputs": [],
   "source": [
    "# # kmer_counts_matrix = SparseArrays.spzeros(n_kmers, n_samples)\n",
    "# kmer_counts_matrix = zeros(n_kmers, n_samples)"
   ]
  },
  {
   "cell_type": "code",
   "execution_count": null,
   "metadata": {},
   "outputs": [],
   "source": [
    "# # 33 minutes to build -> should write this out to save and store to minize re-load time\n",
    "# #  Progress: 100%|█████████████████████████████████████████| Time: 0:25:51\n",
    "# ProgressMeter.@showprogress for (file_index, kmer_count_file) in enumerate(kmer_count_files)\n",
    "#     for line in eachline(kmer_count_file)\n",
    "#         kmer, kmer_count = split(line)\n",
    "#         kmer_index = searchsortedfirst(kmer_list, KMER_TYPE(kmer))\n",
    "#         kmer_counts_matrix[kmer_index, file_index] = Float64(parse(Int, kmer_count))\n",
    "#     end\n",
    "# end"
   ]
  },
  {
   "cell_type": "code",
   "execution_count": null,
   "metadata": {},
   "outputs": [],
   "source": [
    "# kmer_counts_matrix"
   ]
  },
  {
   "cell_type": "code",
   "execution_count": null,
   "metadata": {},
   "outputs": [],
   "source": [
    "# kmer_probability_matrix = reduce(hcat, [col ./ sum(col) for col in eachcol(kmer_counts_matrix)])"
   ]
  },
  {
   "cell_type": "code",
   "execution_count": null,
   "metadata": {},
   "outputs": [],
   "source": [
    "# density = SparseArrays.nnz(kmer_counts_matrix) / reduce(*, size(kmer_counts_matrix))\n",
    "# sparsity = count(x -> x == 0, kmer_counts_matrix) / reduce(*, size(kmer_counts_matrix))\n",
    "# density = count(x -> x != 0, kmer_counts_matrix) / reduce(*, size(kmer_counts_matrix))"
   ]
  },
  {
   "cell_type": "code",
   "execution_count": null,
   "metadata": {},
   "outputs": [],
   "source": [
    "# required for sparse arrays, but awful for dense arrays\n",
    "# 1658.679602 seconds (4.44 G allocations: 82.863 GiB, 1.33% gc time)\n",
    "# Kernel PCA(indim = 512, outdim = 512)\n",
    "# @time pca_model = MultivariateStats.fit(MultivariateStats.KernelPCA, kmer_counts_matrix)"
   ]
  },
  {
   "cell_type": "code",
   "execution_count": null,
   "metadata": {},
   "outputs": [],
   "source": [
    "# # Progress: 100%|█████████████████████████████████████████| Time: 0:06:23\n",
    "# # Progress: 100%|█████████████████████████████████████████| Time: 0:07:19 for cosine\n",
    "# # distance_matrix_raw_kmer_counts_cosine = zeros(Float64, n_samples, n_samples)\n",
    "# # distance_matrix_raw_kmer_counts_euclidean = zeros(Float64, n_samples, n_samples)\n",
    "# distance_matrix_raw_kmer_probability_js_divergence = zeros(Float64, n_samples, n_samples)\n",
    "# ProgressMeter.@showprogress for i in 1:n_samples\n",
    "#     x_counts = view(kmer_counts_matrix, :, i)\n",
    "#     for j in i+1:n_samples\n",
    "#         y_counts = view(kmer_counts_matrix, :, j)\n",
    "#         distance_matrix_raw_kmer_probability_js_divergence[i, j] = distance_matrix_raw_kmer_probability_js_divergence[j, i] = Distances.js_divergence(x_counts, y_counts)\n",
    "# #         distance_matrix_raw_kmer_counts_cosine[i, j] = distance_matrix_raw_kmer_counts_cosine[j, i] = Distances.cosine_dist(x_counts, y_counts)\n",
    "# #         distance_matrix_raw_kmer_counts_euclidean[i, j] = distance_matrix_raw_kmer_counts_euclidean[j, i] = Distances.euclidean(x_counts, y_counts)\n",
    "#     end\n",
    "# end"
   ]
  },
  {
   "cell_type": "code",
   "execution_count": null,
   "metadata": {},
   "outputs": [],
   "source": [
    "# @time pca_model = MultivariateStats.fit(MultivariateStats.PCA, kmer_counts_matrix)"
   ]
  },
  {
   "cell_type": "code",
   "execution_count": null,
   "metadata": {},
   "outputs": [],
   "source": [
    "# transformed_kmer_counts_matrix = MultivariateStats.transform(pca_model, kmer_counts_matrix)"
   ]
  },
  {
   "cell_type": "code",
   "execution_count": null,
   "metadata": {},
   "outputs": [],
   "source": [
    "# distance_matrix_transformed_kmer_counts = zeros(Float64, n_samples, n_samples)\n",
    "# ProgressMeter.@showprogress for i in 1:n_samples\n",
    "#     x_counts = view(transformed_kmer_counts_matrix, :, i)\n",
    "#     for j in i+1:n_samples\n",
    "#         y_counts = view(transformed_kmer_counts_matrix, :, j)\n",
    "#         counts_distance = Distances.cosine_dist(x_counts, y_counts)\n",
    "#         distance_matrix_transformed_kmer_counts[i, j] = distance_matrix_transformed_kmer_counts[j, i] = counts_distance\n",
    "#     end\n",
    "# end"
   ]
  },
  {
   "cell_type": "code",
   "execution_count": null,
   "metadata": {},
   "outputs": [],
   "source": [
    "fasta_files = [\"$PANGENOMICS/ncbi-reference-viruses/fasta/$(accession).fasta\" for accession in reference_phage_metadata[!, \"Accession\"]]\n",
    "fasta_list_file = \"$(DIR)/fasta-list.txt\"\n",
    "open(fasta_list_file, \"w\") do io\n",
    "    for f in fasta_files\n",
    "        println(io, f)\n",
    "    end\n",
    "end\n",
    "fasta_list_hash = hash(read(fasta_list_file))\n",
    "mv(fasta_list_file, \"$(DIR)/fasta-list.$(fasta_list_hash).txt\")\n",
    "fasta_list_file = \"$(DIR)/fasta-list.$(fasta_list_hash).txt\""
   ]
  },
  {
   "cell_type": "code",
   "execution_count": null,
   "metadata": {},
   "outputs": [],
   "source": [
    "fasta_map_index = Dict(fasta_file => i for (i, fasta_file) in enumerate(fasta_files))"
   ]
  },
  {
   "cell_type": "markdown",
   "metadata": {},
   "source": [
    "# Mash distance matrix"
   ]
  },
  {
   "cell_type": "code",
   "execution_count": null,
   "metadata": {},
   "outputs": [],
   "source": [
    "# s = 1_000\n",
    "# # k = 5\n",
    "# # 1712.918182 seconds (203.63 k allocations: 10.841 MiB, 0.01% compilation time)\n",
    "# # 1244.423793 seconds (109.17 k allocations: 5.641 MiB, 0.01% compilation time)\n",
    "\n",
    "# # 9414.157635 seconds (330.58 k allocations: 9.674 MiB, 0.00% compilation time)\n",
    "# # k = 7\n",
    "# # k=9\n",
    "# # k = 13\n",
    "# k=17\n",
    "\n",
    "# # fasta_list_hash = hash(read(fasta_list_file))\n",
    "# # run(`conda install -c bioconda mash`)\n",
    "# mash_outfile = \"$(DIR)/k$(k).s$(s).$(fasta_list_hash)\"\n",
    "# if !isfile(\"$(mash_outfile).msh\")\n",
    "#     #  62.588383 seconds (2.04 k allocations: 55.750 KiB) single thread\n",
    "#     # 12.651958 seconds (18.48 k allocations: 1.131 MiB, 0.19% compilation time) 8 cores\n",
    "#     @time run(pipeline(`mash sketch -p $(Sys.CPU_THREADS) -k $(k) -s $(s) -o $(mash_outfile) -l $(fasta_list_file)`, stderr=\"$(mash_outfile).stderr\", stdout=\"$(mash_outfile).stdout\"))\n",
    "# end\n",
    "# distance_file = \"$(mash_outfile).dist\"\n",
    "# if !isfile(distance_file)\n",
    "#     # 1601.517323 seconds (108.43 k allocations: 4.811 MiB)\n",
    "#     # 20.337346 seconds (45.41 k allocations: 2.707 MiB, 0.33% compilation time) single thread\n",
    "#     # 8.109837 seconds (17.63 k allocations: 1.095 MiB, 0.26% compilation time) 8 cores\n",
    "#     @time run(pipeline(`mash dist -p $(Sys.CPU_THREADS) $(mash_outfile).msh $(mash_outfile).msh`, \"$(mash_outfile).dist\"))\n",
    "# end"
   ]
  },
  {
   "cell_type": "markdown",
   "metadata": {},
   "source": [
    "The mash dist file is very large, and I'm wondering whether there is any io write out limits.\n",
    "\n",
    "Could we be more efficient by just streaming the output directly into a distance matrix?\n",
    "\n",
    "We can definitely be more data storage efficient"
   ]
  },
  {
   "cell_type": "code",
   "execution_count": null,
   "metadata": {},
   "outputs": [],
   "source": [
    "# @assert issorted(fasta_files)"
   ]
  },
  {
   "cell_type": "code",
   "execution_count": null,
   "metadata": {},
   "outputs": [],
   "source": [
    "# mash_distance_matrix = zeros(length(fasta_files), length(fasta_files))"
   ]
  },
  {
   "cell_type": "code",
   "execution_count": null,
   "metadata": {},
   "outputs": [],
   "source": [
    "# # 2439.550913 seconds (10.00 G allocations: 556.675 GiB, 6.38% gc time, 0.00% compilation time)\n",
    "# @time for line in eachline(\"$(mash_outfile).dist\")\n",
    "#     fasta_1, fasta_2, distance_string, p_value_string, n_hits = split(line)\n",
    "#     distance = parse(Float64, distance_string)\n",
    "#     fasta_1_index = fasta_map_index[fasta_1]\n",
    "#     fasta_2_index = fasta_map_index[fasta_2]\n",
    "# #     fasta_1_index = searchsortedfirst(fasta_files, fasta_1)\n",
    "# #     fasta_2_index = searchsortedfirst(fasta_files, fasta_2)\n",
    "#     mash_distance_matrix[fasta_1_index, fasta_2_index] = distance\n",
    "# end"
   ]
  },
  {
   "cell_type": "code",
   "execution_count": null,
   "metadata": {},
   "outputs": [],
   "source": [
    "# mash_distance_matrix = nothing\n",
    "# GC.gc()"
   ]
  },
  {
   "cell_type": "markdown",
   "metadata": {},
   "source": [
    "# ANI distance matrix"
   ]
  },
  {
   "cell_type": "code",
   "execution_count": null,
   "metadata": {},
   "outputs": [],
   "source": [
    "# run(`conda create -n fastANI -c bioconda fastANI`)"
   ]
  },
  {
   "cell_type": "code",
   "execution_count": null,
   "metadata": {},
   "outputs": [],
   "source": [
    "# time output got truncated, but not too crazyy!\n",
    "# again output got truncated, should have this write stderr to a file to not overdue output\n",
    "\n",
    "# k = 16 is default\n",
    "# k = 13 # still not finding similarities between species, genera, families\n",
    "# k = 11\n",
    "\n",
    "# k size drives runtime more than min_fraction overlap\n",
    "\n",
    "# 620.518002 seconds (19.25 k allocations: 566.922 KiB)\n",
    "# k = 9\n",
    "\n",
    "# 18434.583602 seconds (434.14 k allocations: 14.115 MiB, 0.00% compilation time)\n",
    "k = 8\n",
    "\n",
    "# k = 7 # this ran for SOOOOO LONG. Too long\n",
    "\n",
    "# ~ 180 seconds per run\n",
    "# min fraction that must be shared to trust calculation\n",
    "# min_fraction = 0.2 # default\n",
    "# min_fraction = 0.5 # I think this made it worse\n",
    "# min_fraction = 0.1 # didn't really see a change\n",
    "# min_fraction = 0.05 # this is getting better!\n",
    "# still 178 seconds\n",
    "# min_fraction = 0.01\n",
    "\n",
    "min_fraction = 0.01 # this is getting better!\n",
    "\n",
    "fasta_ani_out = \"$(DIR)/fastANI.k$(k).min_fraction-$(min_fraction).$(fasta_list_hash).out\"\n",
    "if !isfile(fasta_ani_out)\n",
    "    @time run(pipeline(`fastANI -t $(Sys.CPU_THREADS) --minFraction $(min_fraction) --kmer $(k) --ql $(fasta_list_file) --rl $(fasta_list_file) -o $(fasta_ani_out)`, stderr=\"$(fasta_ani_out).stderr\", stdout=\"$(fasta_ani_out).stdout\"))\n",
    "end"
   ]
  },
  {
   "cell_type": "code",
   "execution_count": null,
   "metadata": {},
   "outputs": [],
   "source": [
    "# fastANI doesn't return values for any ANI ~< 80%, so we'll set all of those to distance 1 by default \n",
    "ani_distance_matrix = ones(n_samples, n_samples)\n",
    "\n",
    "# OUTPUT_FILE will contain tab delimited row(s) with:\n",
    "# - query genome\n",
    "# - reference genome\n",
    "# - ANI value\n",
    "# - count of bidirectional fragment mappings\n",
    "# - total query fragments\n",
    "for line in eachline(fasta_ani_out)\n",
    "    query_fasta, reference_fasta, average_nucleotide_identity, fragment_mapping_count, total_query_fragments = split(line)\n",
    "#     query_fasta_index = searchsortedfirst(fasta_files, query_fasta)\n",
    "    query_fasta_index = fasta_map_index[query_fasta]\n",
    "#     reference_fasta_index = searchsortedfirst(fasta_files, reference_fasta)\n",
    "    reference_fasta_index = fasta_map_index[reference_fasta]\n",
    "    ani = parse(Float64, average_nucleotide_identity)\n",
    "    distance = (100.0 - ani) / 100\n",
    "    ani_distance_matrix[query_fasta_index, reference_fasta_index] = distance\n",
    "end"
   ]
  },
  {
   "cell_type": "code",
   "execution_count": null,
   "metadata": {},
   "outputs": [],
   "source": [
    "ani_distance_matrix"
   ]
  },
  {
   "cell_type": "markdown",
   "metadata": {},
   "source": [
    "# Compare the following\n",
    "- same species vs different species\n",
    "- same genus vs different genus\n",
    "- same family vs different family\n",
    "\n",
    "for each of the following measures:\n",
    "- raw kmer counts\n",
    "- transformed kmer counts\n",
    "- ANI\n",
    "- mash distance"
   ]
  },
  {
   "cell_type": "code",
   "execution_count": null,
   "metadata": {},
   "outputs": [],
   "source": [
    "# Species - species doesn't seem useful at all\n",
    "# Genus - this is also heavily overlapping between inter and intra\n",
    "# Family - "
   ]
  },
  {
   "cell_type": "code",
   "execution_count": null,
   "metadata": {},
   "outputs": [],
   "source": [
    "# show(reference_phage_metadata[1:3, :], allcols=true)"
   ]
  },
  {
   "cell_type": "code",
   "execution_count": null,
   "metadata": {},
   "outputs": [],
   "source": [
    "unique_species = filter(!isempty, sort(unique(reference_phage_metadata[!, \"Species\"])))\n",
    "unique_genera = filter(!isempty, sort(unique(reference_phage_metadata[!, \"Genus\"])))\n",
    "unique_families = filter(!isempty, sort(unique(reference_phage_metadata[!, \"Family\"])))"
   ]
  },
  {
   "cell_type": "markdown",
   "metadata": {},
   "source": [
    "Euclidean seems better than cosine distance\n",
    "Is jensen shannon divergence better than euclidean\n",
    "mash with k=13 and s=1_000 was not good\n",
    "try smaller 9\n",
    "try larger s"
   ]
  },
  {
   "cell_type": "code",
   "execution_count": null,
   "metadata": {},
   "outputs": [],
   "source": [
    "# distance_matrix = distance_matrix_raw_kmer_counts_euclidean\n",
    "# distance_metric = \"euclidean\"\n",
    "\n",
    "# distance_matrix = distance_matrix_raw_kmer_counts_cosine\n",
    "# distance_metric = \"cosine\"\n",
    "\n",
    "# distance_matrix = distance_matrix_raw_kmer_probability_js_divergence\n",
    "# distance_metric = \"js_divergence\"\n",
    "\n",
    "# distance_matrix = mash_distance_matrix\n",
    "# distance_metric = \"mash\"\n",
    "\n",
    "distance_matrix = ani_distance_matrix\n",
    "distance_metric = \"ani\""
   ]
  },
  {
   "cell_type": "code",
   "execution_count": null,
   "metadata": {},
   "outputs": [],
   "source": [
    "intra_species_distances = Float64[]\n",
    "inter_species_distances = Float64[]\n",
    "ProgressMeter.@showprogress for species in unique_species\n",
    "    species_indices = findall(reference_phage_metadata[!, \"Species\"] .== species)\n",
    "    other_species_indices = setdiff(1:size(distance_matrix, 1), species_indices)\n",
    "    for index in species_indices\n",
    "        other_indices = filter(i -> i != index, species_indices)\n",
    "        append!(intra_species_distances, vec(distance_matrix[index, other_indices]))\n",
    "        append!(inter_species_distances, vec(distance_matrix[index, other_species_indices]))\n",
    "    end\n",
    "end"
   ]
  },
  {
   "cell_type": "code",
   "execution_count": null,
   "metadata": {},
   "outputs": [],
   "source": [
    "StatsBase.describe(StatsBase.sample(inter_species_distances, 10_000))"
   ]
  },
  {
   "cell_type": "code",
   "execution_count": null,
   "metadata": {},
   "outputs": [],
   "source": [
    "StatsBase.describe(StatsBase.sample(intra_species_distances, 10_000))"
   ]
  },
  {
   "cell_type": "code",
   "execution_count": null,
   "metadata": {},
   "outputs": [],
   "source": [
    "n_points = 1_000\n",
    "p = StatsPlots.scatter(\n",
    "    [\n",
    "        [rand(Bool) ? 1 + rand()/3 : 1 - rand()/3 for i in 1:n_points],\n",
    "        [rand(Bool) ? 2 + rand()/3 : 2 - rand()/3 for i in 1:n_points]\n",
    "    ],\n",
    "    [\n",
    "        StatsBase.sample(intra_species_distances, n_points),\n",
    "        StatsBase.sample(inter_species_distances, n_points)\n",
    "    ],\n",
    "    label = [\"within species\" \"between species\"],\n",
    "    legend = :outertopright,\n",
    "    alpha = 0.5,\n",
    "    title = \"$(distance_metric) distance @ k=$k\"\n",
    ")\n",
    "p = StatsPlots.hline(p,\n",
    "    [Statistics.mean(intra_species_distances) + 3*Statistics.std(intra_species_distances)],\n",
    "    label=\"mean + 3σ\"\n",
    ")\n",
    "StatsPlots.savefig(p, \"$DIR/$(distance_metric)-distance-species-k$k.png\")\n",
    "StatsPlots.savefig(p, \"$DIR/$(distance_metric)-distance-species-k$k.svg\")\n",
    "p"
   ]
  },
  {
   "cell_type": "code",
   "execution_count": null,
   "metadata": {},
   "outputs": [],
   "source": [
    "intra_genera_distances = Float64[]\n",
    "inter_genera_distances = Float64[]\n",
    "ProgressMeter.@showprogress for genus in unique_genera\n",
    "    genus_indices = findall(reference_phage_metadata[!, \"Genus\"] .== genus)\n",
    "    other_genera_indices = setdiff(1:1:size(distance_matrix, 1), genus_indices)\n",
    "    for index in genus_indices\n",
    "        other_indices = filter(i -> i != index, genus_indices)\n",
    "        append!(intra_genera_distances, vec(distance_matrix[index, other_indices]))\n",
    "        append!(inter_genera_distances, vec(distance_matrix[index, other_genera_indices]))\n",
    "    end\n",
    "end"
   ]
  },
  {
   "cell_type": "code",
   "execution_count": null,
   "metadata": {},
   "outputs": [],
   "source": [
    "StatsBase.describe(StatsBase.sample(inter_genera_distances, 10_000))"
   ]
  },
  {
   "cell_type": "code",
   "execution_count": null,
   "metadata": {},
   "outputs": [],
   "source": [
    "StatsBase.describe(StatsBase.sample(intra_genera_distances, 10_000))"
   ]
  },
  {
   "cell_type": "code",
   "execution_count": null,
   "metadata": {},
   "outputs": [],
   "source": [
    "n_points = 1_000\n",
    "p = StatsPlots.scatter(\n",
    "    [\n",
    "        [rand(Bool) ? 1 + rand()/3 : 1 - rand()/3 for i in 1:n_points],\n",
    "        [rand(Bool) ? 2 + rand()/3 : 2 - rand()/3 for i in 1:n_points]\n",
    "    ],\n",
    "    [\n",
    "        StatsBase.sample(intra_genera_distances, n_points),\n",
    "        StatsBase.sample(inter_genera_distances, n_points)\n",
    "    ],\n",
    "    label = [\"within genera\" \"between genera\"],\n",
    "    legend = :outertopright,\n",
    "    alpha = 0.5,\n",
    "    title = \"$(distance_metric) distance @ k=$k\"\n",
    ")\n",
    "p = StatsPlots.hline(p,\n",
    "    [Statistics.mean(intra_genera_distances) + 3*Statistics.std(intra_genera_distances)],\n",
    "    label=\"mean + 3σ\"\n",
    ")\n",
    "StatsPlots.savefig(p, \"$DIR/$(distance_metric)-distance-genus-k$k.png\")\n",
    "StatsPlots.savefig(p, \"$DIR/$(distance_metric)-distance-genus-k$k.svg\")\n",
    "p"
   ]
  },
  {
   "cell_type": "code",
   "execution_count": null,
   "metadata": {},
   "outputs": [],
   "source": [
    "intra_family_distances = Float64[]\n",
    "inter_family_distances = Float64[]\n",
    "ProgressMeter.@showprogress for family in unique_families\n",
    "    family_indices = findall(reference_phage_metadata[!, \"Family\"] .== family)\n",
    "    other_family_indices = setdiff(1:1:size(distance_matrix, 1), family_indices)\n",
    "    for index in family_indices\n",
    "        other_indices = filter(i -> i != index, family_indices)\n",
    "        append!(intra_family_distances, vec(distance_matrix[index, other_indices]))\n",
    "        append!(inter_family_distances, vec(distance_matrix[index, other_family_indices]))\n",
    "    end\n",
    "end"
   ]
  },
  {
   "cell_type": "code",
   "execution_count": null,
   "metadata": {},
   "outputs": [],
   "source": [
    "StatsBase.describe(StatsBase.sample(inter_family_distances, 10_000))"
   ]
  },
  {
   "cell_type": "code",
   "execution_count": null,
   "metadata": {},
   "outputs": [],
   "source": [
    "StatsBase.describe(StatsBase.sample(intra_family_distances, 10_000))"
   ]
  },
  {
   "cell_type": "code",
   "execution_count": null,
   "metadata": {},
   "outputs": [],
   "source": [
    "n_points = 1_000\n",
    "p = StatsPlots.scatter(\n",
    "    [\n",
    "        [rand(Bool) ? 1 + rand()/3 : 1 - rand()/3 for i in 1:n_points],\n",
    "        [rand(Bool) ? 2 + rand()/3 : 2 - rand()/3 for i in 1:n_points]\n",
    "    ],\n",
    "    [\n",
    "        StatsBase.sample(intra_family_distances, n_points),\n",
    "        StatsBase.sample(inter_family_distances, n_points)\n",
    "    ],\n",
    "    label = [\"within families\" \"between families\"],\n",
    "    legend = :outertopright,\n",
    "    alpha = 0.5,\n",
    "    title = \"$(distance_metric) distance @ k=$k\"\n",
    ")\n",
    "p = StatsPlots.hline(p,\n",
    "    [Statistics.mean(intra_family_distances) + 3*Statistics.std(intra_family_distances)],\n",
    "    label=\"mean + 3σ\"\n",
    ")\n",
    "StatsPlots.savefig(p, \"$DIR/$(distance_metric)-distance-family-k$k.png\")\n",
    "StatsPlots.savefig(p, \"$DIR/$(distance_metric)-distance-family-k$k.svg\")\n",
    "p"
   ]
  },
  {
   "cell_type": "code",
   "execution_count": null,
   "metadata": {},
   "outputs": [],
   "source": [
    "# kmer_counts_matrix = nothing\n",
    "# distance_matrix_raw_kmer_counts_cosine = nothing\n",
    "# distance_matrix_raw_kmer_counts_euclidean = nothing\n",
    "# GC.gc()"
   ]
  }
 ],
 "metadata": {
  "kernelspec": {
   "display_name": "Julia 1.6.2",
   "language": "julia",
   "name": "julia-1.6"
  },
  "language_info": {
   "file_extension": ".jl",
   "mimetype": "application/julia",
   "name": "julia",
   "version": "1.6.2"
  }
 },
 "nbformat": 4,
 "nbformat_minor": 4
}
