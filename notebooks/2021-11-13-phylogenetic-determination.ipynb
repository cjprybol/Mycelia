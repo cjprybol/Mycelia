{
 "cells": [
  {
   "cell_type": "code",
   "execution_count": 1,
   "metadata": {},
   "outputs": [],
   "source": [
    "TODAY=\"2021-11-13\"\n",
    "TASK = \"phylogenetic-determination\"\n",
    "DIR = \"$(homedir())/$(TODAY)-$(TASK)\"\n",
    "if !isdir(DIR)\n",
    "    mkdir(DIR)\n",
    "end\n",
    "cd(DIR)"
   ]
  },
  {
   "cell_type": "code",
   "execution_count": 2,
   "metadata": {},
   "outputs": [],
   "source": [
    "import Pkg\n",
    "\n",
    "pkgs = [\n",
    "\"JSON\",\n",
    "\"HTTP\",\n",
    "\"Dates\",\n",
    "\"uCSV\",\n",
    "\"DelimitedFiles\",\n",
    "\"DataFrames\",\n",
    "\"ProgressMeter\",\n",
    "\"BioSequences\",\n",
    "\"FASTX\",\n",
    "\"Distances\",\n",
    "\"Plots\",\n",
    "\"StatsPlots\",\n",
    "\"StatsBase\",\n",
    "\"Statistics\",\n",
    "\"Mmap\",\n",
    "\"MultivariateStats\",\n",
    "\"PyCall\",\n",
    "\"Random\",\n",
    "\"Primes\",\n",
    "\"Revise\",\n",
    "\"SparseArrays\",\n",
    "\"SHA\",\n",
    "\"Mycelia\",\n",
    "\"GenomicAnnotations\",\n",
    "\"BioFetch\",\n",
    "\"Combinatorics\",\n",
    "\"StaticArrays\",\n",
    "\"BioSymbols\",\n",
    "\"RollingFunctions\",\n",
    "\"OrderedCollections\"\n",
    "]\n",
    "\n",
    "for pkg in pkgs\n",
    "    try\n",
    "        eval(Meta.parse(\"import $pkg\"))\n",
    "    catch\n",
    "        Pkg.add(pkg)\n",
    "        eval(Meta.parse(\"import $pkg\"))\n",
    "    end\n",
    "end"
   ]
  },
  {
   "cell_type": "code",
   "execution_count": 3,
   "metadata": {},
   "outputs": [
    {
     "data": {
      "text/plain": [
       "generate_all_possible_canonical_kmers (generic function with 1 method)"
      ]
     },
     "execution_count": 3,
     "metadata": {},
     "output_type": "execute_result"
    }
   ],
   "source": [
    "function generate_all_possible_kmers(k, alphabet)\n",
    "    kmer_iterator = Iterators.product([alphabet for i in 1:k]...)\n",
    "    kmer_vectors = collect.(vec(collect(kmer_iterator)))\n",
    "    if eltype(alphabet) == BioSymbols.AminoAcid\n",
    "        kmers = BioSequences.LongAminoAcidSeq.(kmer_vectors)\n",
    "    elseif eltype(alphabet) == BioSymbols.DNA\n",
    "        kmers = BioSequences.LongDNASeq.(kmer_vectors)\n",
    "    else\n",
    "        error()\n",
    "    end\n",
    "    return sort!(kmers)\n",
    "end\n",
    "\n",
    "function generate_all_possible_canonical_kmers(k, alphabet)\n",
    "    kmers = generate_all_possible_kmers(k, alphabet)\n",
    "    if eltype(alphabet) == BioSymbols.AminoAcid\n",
    "        return kmers\n",
    "    elseif eltype(alphabet) == BioSymbols.DNA\n",
    "        return BioSequences.DNAMer.(unique!(BioSequences.canonical.(kmers)))\n",
    "    else\n",
    "        error()\n",
    "    end\n",
    "end"
   ]
  },
  {
   "cell_type": "code",
   "execution_count": 4,
   "metadata": {},
   "outputs": [
    {
     "data": {
      "text/plain": [
       "count_canonical_aamers (generic function with 1 method)"
      ]
     },
     "execution_count": 4,
     "metadata": {},
     "output_type": "execute_result"
    }
   ],
   "source": [
    "function count_canonical_aamers(k, fasta_proteins)\n",
    "    aamer_counts = OrderedCollections.OrderedDict{BioSequences.LongAminoAcidSeq, Int64}()\n",
    "    for protein in fasta_proteins\n",
    "        s = FASTX.sequence(protein)\n",
    "        these_counts = sort(StatsBase.countmap([s[i:i+k-1] for i in 1:length(s)-k-1]))\n",
    "        merge!(+, aamer_counts, these_counts)\n",
    "    end\n",
    "    return sort(aamer_counts)\n",
    "end"
   ]
  },
  {
   "cell_type": "code",
   "execution_count": 5,
   "metadata": {},
   "outputs": [
    {
     "data": {
      "text/plain": [
       "update_counts_matrix! (generic function with 1 method)"
      ]
     },
     "execution_count": 5,
     "metadata": {},
     "output_type": "execute_result"
    }
   ],
   "source": [
    "function update_counts_matrix!(matrix, sample_index, countmap, sorted_kmers)\n",
    "    for (i, kmer) in enumerate(sorted_kmers)\n",
    "        matrix[i, sample_index] = get(countmap, kmer, 0)\n",
    "    end\n",
    "    return matrix\n",
    "end"
   ]
  },
  {
   "cell_type": "code",
   "execution_count": 61,
   "metadata": {},
   "outputs": [
    {
     "data": {
      "text/latex": [
       "\\begin{verbatim}\n",
       "get_sequence(; db, accession, ftp) -> Union{Nothing, FASTX.FASTA.Reader}\n",
       "\n",
       "\\end{verbatim}\n",
       "Get dna (db = \"nuccore\") or protein (db = \"protein\") sequences from NCBI or get fasta directly from FTP site\n",
       "\n",
       "\\begin{verbatim}\n",
       "julia> 1 + 1\n",
       "2\n",
       "\\end{verbatim}\n"
      ],
      "text/markdown": [
       "```julia\n",
       "get_sequence(; db, accession, ftp) -> Union{Nothing, FASTX.FASTA.Reader}\n",
       "\n",
       "```\n",
       "\n",
       "Get dna (db = \"nuccore\") or protein (db = \"protein\") sequences from NCBI or get fasta directly from FTP site\n",
       "\n",
       "```jldoctest\n",
       "julia> 1 + 1\n",
       "2\n",
       "```\n"
      ],
      "text/plain": [
       "\u001b[36m  get_sequence(; db, accession, ftp) -> Union{Nothing, FASTX.FASTA.Reader}\u001b[39m\n",
       "\u001b[36m  \u001b[39m\n",
       "\n",
       "  Get dna (db = \"nuccore\") or protein (db = \"protein\") sequences from NCBI or\n",
       "  get fasta directly from FTP site\n",
       "\n",
       "\u001b[36m  julia> 1 + 1\u001b[39m\n",
       "\u001b[36m  2\u001b[39m"
      ]
     },
     "execution_count": 61,
     "metadata": {},
     "output_type": "execute_result"
    }
   ],
   "source": []
  },
  {
   "cell_type": "code",
   "execution_count": 83,
   "metadata": {},
   "outputs": [
    {
     "data": {
      "text/plain": [
       "accession_list_to_aamer_counts_table (generic function with 1 method)"
      ]
     },
     "execution_count": 83,
     "metadata": {},
     "output_type": "execute_result"
    }
   ],
   "source": [
    "function accession_list_to_aamer_counts_table(accession_list, k, AA_ALPHABET)\n",
    "    \n",
    "    canonical_aamers = generate_all_possible_canonical_kmers(k, AA_ALPHABET)\n",
    "    \n",
    "    aamer_counts_matrix = zeros(length(canonical_aamers), length(accession_list))\n",
    "    \n",
    "    ProgressMeter.@showprogress for (entity_index, accession) in enumerate(accession_list)\n",
    "#         entity_genbank = BioFetch.fetchseq(accession, format = BioFetch.gb)\n",
    "        open(\"$(accession).fna\", \"w\") do io\n",
    "            fastx_io = FASTX.FASTA.Writer(io)\n",
    "#             for chromosome in entity_genbank\n",
    "#                 write(fastx_io, FASTX.FASTA.Record(chromosome.name, chromosome.sequence))\n",
    "#             end\n",
    "            for record in Mycelia.get_sequence(db=\"nuccore\", accession = accession)\n",
    "                write(fastx_io, record)\n",
    "            end\n",
    "            close(fastx_io)\n",
    "        end\n",
    "#         run(`prodigal -i $(accession).fna -o $(accession).fna.genes -a $(accession).fna.faa -p meta`)\n",
    "        try\n",
    "            run(pipeline(`prodigal -i $(accession).fna -o $(accession).fna.genes -a $(accession).fna.faa -p meta`, stderr=\"$(accession).fna.prodigal.stderr\"))\n",
    "            entity_aamer_counts = count_canonical_aamers(aa_k, collect(FASTX.FASTA.Reader(open(\"$(accession).fna.faa\"))))\n",
    "#         fasta_proteins = Vector{FASTX.FASTA.Record}()\n",
    "#         for gene in GenomicAnnotations.@genes(entity_genbank, CDS)\n",
    "#             try\n",
    "#                 dna_seq = GenomicAnnotations.sequence(gene)\n",
    "#                 # if seq isn't divisible by 3, cut final bases that can't be mapped to a codon\n",
    "#                 translateable_length = div(length(dna_seq), 3) * 3\n",
    "#                 truncated_dna_seq = dna_seq[1:translateable_length]\n",
    "#                 aa_seq = BioSequences.translate(truncated_dna_seq)\n",
    "#                 id = getproperty(gene, :protein_id)\n",
    "#                 product = getproperty(gene, :product)\n",
    "#                 record = FASTX.FASTA.Record(id, product, aa_seq)\n",
    "#                 push!(fasta_proteins, record)\n",
    "#             catch\n",
    "# #                 @error GenomicAnnotations.sequence(gene)\n",
    "# #                 @error GenomicAnnotations.sequence(gene)\n",
    "#                 continue\n",
    "# #                 error()\n",
    "#             end\n",
    "#         end\n",
    "            update_counts_matrix!(aamer_counts_matrix, entity_index, entity_aamer_counts, canonical_aamers)\n",
    "        catch\n",
    "            println(\"problem with accession $accession\")\n",
    "            @show isempty.(FASTX.sequence.(fasta))\n",
    "            @show fasta\n",
    "        end\n",
    "    end\n",
    "    return aamer_counts_matrix\n",
    "end"
   ]
  },
  {
   "cell_type": "code",
   "execution_count": 70,
   "metadata": {},
   "outputs": [
    {
     "data": {
      "text/plain": [
       "accession_list_to_dnamer_counts_table (generic function with 1 method)"
      ]
     },
     "execution_count": 70,
     "metadata": {},
     "output_type": "execute_result"
    }
   ],
   "source": [
    "function accession_list_to_dnamer_counts_table(accession_list, k)\n",
    "    canonical_dnamers = generate_all_possible_canonical_kmers(k, DNA_ALPHABET)\n",
    "    dnamer_counts_matrix = zeros(length(canonical_dnamers), length(accession_list))\n",
    "\n",
    "    ProgressMeter.@showprogress for (entity_index, accession) in enumerate(accession_list)\n",
    "#         entity_genbank = BioFetch.fetchseq(accession, format = BioFetch.gb)\n",
    "        fasta_dna_sequences = collect(Mycelia.get_sequence(db=\"nuccore\", accession = accession))\n",
    "#         fasta_dna_sequences = [\n",
    "#             FASTX.FASTA.Record(chromosome.name, chromosome.sequence) \n",
    "#                 for chromosome in entity_genbank\n",
    "#                               ]\n",
    "        entity_dnamer_counts = Mycelia.count_canonical_kmers(BioSequences.DNAMer{dna_k}, fasta_dna_sequences)\n",
    "        update_counts_matrix!(dnamer_counts_matrix, entity_index, entity_dnamer_counts, canonical_dnamers)\n",
    "    end\n",
    "    return dnamer_counts_matrix    \n",
    "end"
   ]
  },
  {
   "cell_type": "code",
   "execution_count": 8,
   "metadata": {},
   "outputs": [
    {
     "data": {
      "text/plain": [
       "normalize_distance_matrix (generic function with 1 method)"
      ]
     },
     "execution_count": 8,
     "metadata": {},
     "output_type": "execute_result"
    }
   ],
   "source": [
    "function normalize_distance_matrix(distance_matrix)\n",
    "    max_non_nan_value = maximum(filter(x -> !isnan(x) && !isnothing(x) && !ismissing(x), vec(distance_matrix)))\n",
    "    return distance_matrix ./ max_non_nan_value\n",
    "end"
   ]
  },
  {
   "cell_type": "code",
   "execution_count": 9,
   "metadata": {},
   "outputs": [
    {
     "data": {
      "text/plain": [
       "count_matrix_to_probability_matrix (generic function with 1 method)"
      ]
     },
     "execution_count": 9,
     "metadata": {},
     "output_type": "execute_result"
    }
   ],
   "source": [
    "function count_matrix_to_probability_matrix(counts_matrix)\n",
    "    probability_matrix = copy(counts_matrix)\n",
    "    for (i, col) in enumerate(eachcol(probability_matrix))\n",
    "        probability_matrix[:, i] .= col ./ sum(col)\n",
    "    end\n",
    "    return probability_matrix\n",
    "end"
   ]
  },
  {
   "cell_type": "code",
   "execution_count": 10,
   "metadata": {},
   "outputs": [
    {
     "data": {
      "text/plain": [
       "\"/home/jupyter-cjprybol/.julia/dev/Mycelia/metadata\""
      ]
     },
     "execution_count": 10,
     "metadata": {},
     "output_type": "execute_result"
    }
   ],
   "source": [
    "# MYCELIA_METADATA = joinpath(Pkg.dir(\"Mycelia\"), \"metadata\")\n",
    "MYCELIA_METADATA = joinpath(dirname(dirname(pathof(Mycelia))),  \"metadata\")"
   ]
  },
  {
   "cell_type": "code",
   "execution_count": 11,
   "metadata": {},
   "outputs": [
    {
     "data": {
      "text/plain": [
       "(DNA_A, DNA_C, DNA_G, DNA_T)"
      ]
     },
     "execution_count": 11,
     "metadata": {},
     "output_type": "execute_result"
    }
   ],
   "source": [
    "AA_ALPHABET = collect(filter(x -> x != BioSequences.AA_Term, Mycelia.AA_ALPHABET))\n",
    "DNA_ALPHABET = Mycelia.DNA_ALPHABET"
   ]
  },
  {
   "cell_type": "markdown",
   "metadata": {},
   "source": [
    "- Jaccard doesn't seem to differentiate sufficiently between sequences without getting into really large k sizes\n",
    "- Euclidean is consistently seperating within vs between @ 10 samples of family\n",
    "- JS and Cosine have some entities that are going the wrong way regarding distance is less between families"
   ]
  },
  {
   "cell_type": "code",
   "execution_count": 46,
   "metadata": {},
   "outputs": [
    {
     "data": {
      "text/plain": [
       "100"
      ]
     },
     "execution_count": 46,
     "metadata": {},
     "output_type": "execute_result"
    }
   ],
   "source": [
    "# n_samples = 1\n",
    "# n_samples = 10\n",
    "n_samples = 100\n",
    "# n_samples = 1000"
   ]
  },
  {
   "cell_type": "code",
   "execution_count": 47,
   "metadata": {},
   "outputs": [
    {
     "data": {
      "text/html": [
       "<div class=\"data-frame\"><p>100 rows × 23 columns (omitted printing of 20 columns)</p><table class=\"data-frame\"><thead><tr><th></th><th>Accession</th><th>SRA_Accession</th><th>Submitters</th></tr><tr><th></th><th title=\"String\">String</th><th title=\"String\">String</th><th title=\"String\">String</th></tr></thead><tbody><tr><th>1</th><td>NC_000935.1</td><td></td><td>van der Wilk,F., Dullemans,A.M., Verbeek,M., van den Heuvel,J.F., van den Heuvel,J.F.J.M.</td></tr><tr><th>2</th><td>NC_001332.1</td><td></td><td>Stassen,A.P., Schoenmakers,E.F., Yu,M., Schoenmakers,J.G., Konings,R.N., Konings,R.N.H.</td></tr><tr><th>3</th><td>NC_003387.1</td><td></td><td>Ford,M.E., Stenstrom,C., Hendrix,R.W., Hatfull,G.F.</td></tr><tr><th>4</th><td>NC_005083.2</td><td></td><td>Miller,E.S., Heidelberg,J.F., Eisen,J.A., Nelson,W.C., Durkin,A.S., Ciecko,A., Feldblyum,T.V., White,O., Paulsen,I.T., Nierman,W.C., Lee,J., Szczypinski,B., Fraser,C.M., Miller,E., Heidelberg,J., Eisen,J., Nelson,W., Durkin,A., Feldblyum,T., Paulsen,I., Nierman,W., Fraser,C.</td></tr><tr><th>5</th><td>NC_007023.1</td><td></td><td>Petrov,V.M., Nolan,J.M., Chin,D., Krisch,H.M., Karam,J.D.</td></tr><tr><th>6</th><td>NC_008198.1</td><td></td><td>Hatfull,G.F., Pedulla,M.L., Jacobs-Sera,D., Cichon,P.M., Foley,A., Ford,M.E., Gonda,R.M., Houtz,J.M., Hryckowian,A.J., Kelchner,V.A., Namburi,S., Pajcini,K.V., Popovich,M.G., Schleicher,D.T., Simanek,B.Z., Smith,A.L., Zdanowicz,G.M., Kumar,V., Peebles,C.L., Jacobs,W.R. Jr., Lawrence,J.G., Hendrix,R.W.</td></tr><tr><th>7</th><td>NC_011107.1</td><td></td><td>Glonti,T., Lingohr,E.J., Kropinski,A.M., Chanishvili,N.</td></tr><tr><th>8</th><td>NC_014635.1</td><td></td><td>Kim,J.H., Son,J.S., Choi,Y.J., Choresca,C.H., Shin,S.P., Han,J.E., Jun,J.W., Park,S.C., Kim,K.S.</td></tr><tr><th>9</th><td>NC_015292.1</td><td></td><td>Muller,I., Kube,M., Reinhardt,R., Jelkmann,W., Geider,K., Mueller,I.</td></tr><tr><th>10</th><td>NC_015294.2</td><td></td><td>Henry,M., Lavigne,R., Debarbieux,L., Leduc,D., Maura,D., Morello,E., Criscuolo,A., Grossi,O., Balloy,V., Touqui,L.</td></tr><tr><th>11</th><td>NC_016071.1</td><td></td><td>Santos,S.B., Kropinski,A.M., Ceyssens,P.J., Ackermann,H.W., Villegas,A., Lavigne,R., Krylov,V.N., Carvalho,C.M., Ferreira,E.C., Azeredo,J., Kropinski,A., Krylov,V.</td></tr><tr><th>12</th><td>NC_016655.1</td><td></td><td>Petrovski,S., Seviour,R.J., Tillett,D.</td></tr><tr><th>13</th><td>NC_018285.1</td><td></td><td>Geng,J., Huang,S.C., Li,S., Hu,S., Chen,Y.Y., Huang,S.-C., Chen,Y.-Y.M.</td></tr><tr><th>14</th><td>NC_018834.1</td><td></td><td>Marinelli,L.J., Fitz-Gibbon,S., Hayes,C., Bowman,C., Inkeles,M., Loncaric,A., Russell,D.A., Jacobs-Sera,D., Cokus,S., Pellegrini,M., Kim,J., Miller,J.F., Hatfull,G.F., Modlin,R.L.</td></tr><tr><th>15</th><td>NC_019508.1</td><td></td><td>Oakley,B.B., Talundzic,E., Morales,C.A., Hiett,K.L., Siragusa,G.R., Volozhantsev,N.V., Seal,B.S.</td></tr><tr><th>16</th><td>NC_019527.1</td><td></td><td>Comeau,A.M., Tremblay,D., Moineau,S., Rattei,T., Kushkina,A.I., Tovkach,F.I., Krisch,H.M., Ackermann,H.W., Ackermann,H.-W.</td></tr><tr><th>17</th><td>NC_019716.1</td><td></td><td>Refardt,D., Gencoglu,M., Kunzli-Gontarczyk,M., Bruggmann,R., Kropinski,A.M.</td></tr><tr><th>18</th><td>NC_019723.1</td><td></td><td>Refardt,D., Gencoglu,M., Kunzli-Gontarczyk,M., Bruggmann,R., Kropinski,A.M.</td></tr><tr><th>19</th><td>NC_019725.1</td><td></td><td>Bhensdadia,D.V., Bhimani,H.D., Rawal,C.M., Kothari,V.V., Raval,V.H., Kothari,C.R., Patel,A.B., Bhatt,V.D., Parmar,N.R., Sajnani,M.R., Koringa,P.G., Joshi,C.G., Singh,S.P., Kothari,R.K., Bhensdadia,K.D.</td></tr><tr><th>20</th><td>NC_019914.1</td><td></td><td>Deghorain,M., Bobay,L.M., Smeesters,P.R., Bousbata,S., Vermeersch,M., Perez-Morga,D., Dreze,P.A., Rocha,E.P., Touchon,M., Van Melderen,L., Smeesters,P.</td></tr><tr><th>21</th><td>NC_020205.1</td><td></td><td>Ahmad,A.A., Ogawa,M., Kawasaki,T., Fujie,M., Yamada,T.</td></tr><tr><th>22</th><td>NC_021569.1</td><td></td><td>Petrova,M., Shcherbatova,N., Kurakov,A., Mindlin,S., Petrova,M.A.</td></tr><tr><th>23</th><td>NC_021867.1</td><td></td><td>Castillo,D., Espejo,R., Middelboe,M.</td></tr><tr><th>24</th><td>NC_022062.1</td><td></td><td>Borjon,A., Davis,K.R., Hagopian,G.V., Holz,N.A., Kasza,T.A., Mac,V., Nicholson,K.M., Rodrigue,L.R., Rubin,J.D., Ruby,J.A., Shepard,E.M., Straub,C.L., Yee,B.C., Donohue,J.-P., Valenzeula,L., Ares,M. Jr., Hartzog,G.A., Russell,D.A., Jacobs-Sera,D., Hatfull,G.F.</td></tr><tr><th>25</th><td>NC_023583.1</td><td></td><td>Krylov,V.N., Pleteneva,E.A., Burkaltseva,M.V., Shaburova,O.V., Akulenko,N.V., Kulakov,L.A., Kulakov,L.</td></tr><tr><th>26</th><td>NC_023719.1</td><td></td><td>Pope,W.H., Pedulla,M.L., Ford,M.E., Peebles,C.L., Hatfull,G.H., Hendrix,R.W.</td></tr><tr><th>27</th><td>NC_024791.1</td><td></td><td>Seed,K.D., Yen,M., Shapiro,B.J., Hilaire,I.J., Charles,R.C., Teng,J.E., Ivers,L.C., Boncy,J., Harris,J.B., Camilli,A.</td></tr><tr><th>28</th><td>NC_026594.1</td><td></td><td>Essoh,C., Latino,L., Blouin,Y., Loukou,G., Nguetta,S.M., Lathro,N.S., Cablanmian,A., Kra,A., Midoux,C., Vergnaud,G., Pourcel,C.</td></tr><tr><th>29</th><td>NC_026924.1</td><td></td><td>Gregory,A.C., LaButti,K., Copeland,A., Woyke,T., Sullivan,M.B.</td></tr><tr><th>30</th><td>NC_027397.1</td><td></td><td>Bhandare,S.G., Warry,A., Emes,R.D., Su,J., Barrow,P.A., Atterbury,R.J.</td></tr><tr><th>&vellip;</th><td>&vellip;</td><td>&vellip;</td><td>&vellip;</td></tr></tbody></table></div>"
      ],
      "text/latex": [
       "\\begin{tabular}{r|cccc}\n",
       "\t& Accession & SRA\\_Accession & Submitters & \\\\\n",
       "\t\\hline\n",
       "\t& String & String & String & \\\\\n",
       "\t\\hline\n",
       "\t1 & NC\\_000935.1 &  & van der Wilk,F., Dullemans,A.M., Verbeek,M., van den Heuvel,J.F., van den Heuvel,J.F.J.M. & $\\dots$ \\\\\n",
       "\t2 & NC\\_001332.1 &  & Stassen,A.P., Schoenmakers,E.F., Yu,M., Schoenmakers,J.G., Konings,R.N., Konings,R.N.H. & $\\dots$ \\\\\n",
       "\t3 & NC\\_003387.1 &  & Ford,M.E., Stenstrom,C., Hendrix,R.W., Hatfull,G.F. & $\\dots$ \\\\\n",
       "\t4 & NC\\_005083.2 &  & Miller,E.S., Heidelberg,J.F., Eisen,J.A., Nelson,W.C., Durkin,A.S., Ciecko,A., Feldblyum,T.V., White,O., Paulsen,I.T., Nierman,W.C., Lee,J., Szczypinski,B., Fraser,C.M., Miller,E., Heidelberg,J., Eisen,J., Nelson,W., Durkin,A., Feldblyum,T., Paulsen,I., Nierman,W., Fraser,C. & $\\dots$ \\\\\n",
       "\t5 & NC\\_007023.1 &  & Petrov,V.M., Nolan,J.M., Chin,D., Krisch,H.M., Karam,J.D. & $\\dots$ \\\\\n",
       "\t6 & NC\\_008198.1 &  & Hatfull,G.F., Pedulla,M.L., Jacobs-Sera,D., Cichon,P.M., Foley,A., Ford,M.E., Gonda,R.M., Houtz,J.M., Hryckowian,A.J., Kelchner,V.A., Namburi,S., Pajcini,K.V., Popovich,M.G., Schleicher,D.T., Simanek,B.Z., Smith,A.L., Zdanowicz,G.M., Kumar,V., Peebles,C.L., Jacobs,W.R. Jr., Lawrence,J.G., Hendrix,R.W. & $\\dots$ \\\\\n",
       "\t7 & NC\\_011107.1 &  & Glonti,T., Lingohr,E.J., Kropinski,A.M., Chanishvili,N. & $\\dots$ \\\\\n",
       "\t8 & NC\\_014635.1 &  & Kim,J.H., Son,J.S., Choi,Y.J., Choresca,C.H., Shin,S.P., Han,J.E., Jun,J.W., Park,S.C., Kim,K.S. & $\\dots$ \\\\\n",
       "\t9 & NC\\_015292.1 &  & Muller,I., Kube,M., Reinhardt,R., Jelkmann,W., Geider,K., Mueller,I. & $\\dots$ \\\\\n",
       "\t10 & NC\\_015294.2 &  & Henry,M., Lavigne,R., Debarbieux,L., Leduc,D., Maura,D., Morello,E., Criscuolo,A., Grossi,O., Balloy,V., Touqui,L. & $\\dots$ \\\\\n",
       "\t11 & NC\\_016071.1 &  & Santos,S.B., Kropinski,A.M., Ceyssens,P.J., Ackermann,H.W., Villegas,A., Lavigne,R., Krylov,V.N., Carvalho,C.M., Ferreira,E.C., Azeredo,J., Kropinski,A., Krylov,V. & $\\dots$ \\\\\n",
       "\t12 & NC\\_016655.1 &  & Petrovski,S., Seviour,R.J., Tillett,D. & $\\dots$ \\\\\n",
       "\t13 & NC\\_018285.1 &  & Geng,J., Huang,S.C., Li,S., Hu,S., Chen,Y.Y., Huang,S.-C., Chen,Y.-Y.M. & $\\dots$ \\\\\n",
       "\t14 & NC\\_018834.1 &  & Marinelli,L.J., Fitz-Gibbon,S., Hayes,C., Bowman,C., Inkeles,M., Loncaric,A., Russell,D.A., Jacobs-Sera,D., Cokus,S., Pellegrini,M., Kim,J., Miller,J.F., Hatfull,G.F., Modlin,R.L. & $\\dots$ \\\\\n",
       "\t15 & NC\\_019508.1 &  & Oakley,B.B., Talundzic,E., Morales,C.A., Hiett,K.L., Siragusa,G.R., Volozhantsev,N.V., Seal,B.S. & $\\dots$ \\\\\n",
       "\t16 & NC\\_019527.1 &  & Comeau,A.M., Tremblay,D., Moineau,S., Rattei,T., Kushkina,A.I., Tovkach,F.I., Krisch,H.M., Ackermann,H.W., Ackermann,H.-W. & $\\dots$ \\\\\n",
       "\t17 & NC\\_019716.1 &  & Refardt,D., Gencoglu,M., Kunzli-Gontarczyk,M., Bruggmann,R., Kropinski,A.M. & $\\dots$ \\\\\n",
       "\t18 & NC\\_019723.1 &  & Refardt,D., Gencoglu,M., Kunzli-Gontarczyk,M., Bruggmann,R., Kropinski,A.M. & $\\dots$ \\\\\n",
       "\t19 & NC\\_019725.1 &  & Bhensdadia,D.V., Bhimani,H.D., Rawal,C.M., Kothari,V.V., Raval,V.H., Kothari,C.R., Patel,A.B., Bhatt,V.D., Parmar,N.R., Sajnani,M.R., Koringa,P.G., Joshi,C.G., Singh,S.P., Kothari,R.K., Bhensdadia,K.D. & $\\dots$ \\\\\n",
       "\t20 & NC\\_019914.1 &  & Deghorain,M., Bobay,L.M., Smeesters,P.R., Bousbata,S., Vermeersch,M., Perez-Morga,D., Dreze,P.A., Rocha,E.P., Touchon,M., Van Melderen,L., Smeesters,P. & $\\dots$ \\\\\n",
       "\t21 & NC\\_020205.1 &  & Ahmad,A.A., Ogawa,M., Kawasaki,T., Fujie,M., Yamada,T. & $\\dots$ \\\\\n",
       "\t22 & NC\\_021569.1 &  & Petrova,M., Shcherbatova,N., Kurakov,A., Mindlin,S., Petrova,M.A. & $\\dots$ \\\\\n",
       "\t23 & NC\\_021867.1 &  & Castillo,D., Espejo,R., Middelboe,M. & $\\dots$ \\\\\n",
       "\t24 & NC\\_022062.1 &  & Borjon,A., Davis,K.R., Hagopian,G.V., Holz,N.A., Kasza,T.A., Mac,V., Nicholson,K.M., Rodrigue,L.R., Rubin,J.D., Ruby,J.A., Shepard,E.M., Straub,C.L., Yee,B.C., Donohue,J.-P., Valenzeula,L., Ares,M. Jr., Hartzog,G.A., Russell,D.A., Jacobs-Sera,D., Hatfull,G.F. & $\\dots$ \\\\\n",
       "\t25 & NC\\_023583.1 &  & Krylov,V.N., Pleteneva,E.A., Burkaltseva,M.V., Shaburova,O.V., Akulenko,N.V., Kulakov,L.A., Kulakov,L. & $\\dots$ \\\\\n",
       "\t26 & NC\\_023719.1 &  & Pope,W.H., Pedulla,M.L., Ford,M.E., Peebles,C.L., Hatfull,G.H., Hendrix,R.W. & $\\dots$ \\\\\n",
       "\t27 & NC\\_024791.1 &  & Seed,K.D., Yen,M., Shapiro,B.J., Hilaire,I.J., Charles,R.C., Teng,J.E., Ivers,L.C., Boncy,J., Harris,J.B., Camilli,A. & $\\dots$ \\\\\n",
       "\t28 & NC\\_026594.1 &  & Essoh,C., Latino,L., Blouin,Y., Loukou,G., Nguetta,S.M., Lathro,N.S., Cablanmian,A., Kra,A., Midoux,C., Vergnaud,G., Pourcel,C. & $\\dots$ \\\\\n",
       "\t29 & NC\\_026924.1 &  & Gregory,A.C., LaButti,K., Copeland,A., Woyke,T., Sullivan,M.B. & $\\dots$ \\\\\n",
       "\t30 & NC\\_027397.1 &  & Bhandare,S.G., Warry,A., Emes,R.D., Su,J., Barrow,P.A., Atterbury,R.J. & $\\dots$ \\\\\n",
       "\t$\\dots$ & $\\dots$ & $\\dots$ & $\\dots$ &  \\\\\n",
       "\\end{tabular}\n"
      ],
      "text/plain": [
       "\u001b[1m100×23 DataFrame\u001b[0m\n",
       "\u001b[1m Row \u001b[0m│\u001b[1m Accession   \u001b[0m\u001b[1m SRA_Accession \u001b[0m\u001b[1m Submitters                        \u001b[0m\u001b[1m Release_\u001b[0m ⋯\n",
       "\u001b[1m     \u001b[0m│\u001b[90m String      \u001b[0m\u001b[90m String        \u001b[0m\u001b[90m String                            \u001b[0m\u001b[90m String  \u001b[0m ⋯\n",
       "─────┼──────────────────────────────────────────────────────────────────────────\n",
       "   1 │ NC_000935.1                 van der Wilk,F., Dullemans,A.M.,…  1999-10- ⋯\n",
       "   2 │ NC_001332.1                 Stassen,A.P., Schoenmakers,E.F.,…  1990-02-\n",
       "   3 │ NC_003387.1                 Ford,M.E., Stenstrom,C., Hendrix…  1999-03-\n",
       "   4 │ NC_005083.2                 Miller,E.S., Heidelberg,J.F., Ei…  2003-09-\n",
       "   5 │ NC_007023.1                 Petrov,V.M., Nolan,J.M., Chin,D.…  2005-05- ⋯\n",
       "   6 │ NC_008198.1                 Hatfull,G.F., Pedulla,M.L., Jaco…  2006-06-\n",
       "   7 │ NC_011107.1                 Glonti,T., Lingohr,E.J., Kropins…  2008-08-\n",
       "   8 │ NC_014635.1                 Kim,J.H., Son,J.S., Choi,Y.J., C…  2010-10-\n",
       "   9 │ NC_015292.1                 Muller,I., Kube,M., Reinhardt,R.…  2011-03- ⋯\n",
       "  10 │ NC_015294.2                 Henry,M., Lavigne,R., Debarbieux…  2011-03-\n",
       "  11 │ NC_016071.1                 Santos,S.B., Kropinski,A.M., Cey…  2011-12-\n",
       "  ⋮  │      ⋮             ⋮                        ⋮                           ⋱\n",
       "  91 │ NC_053237.1                 Meiner,R.S., Sylvain,J.A., Morae…  2021-03-\n",
       "  92 │ NC_054777.1                 Lindberg,H.M., Deaver,S.E., Holl…  2021-05- ⋯\n",
       "  93 │ NC_054890.1                 Fijalek,A., Gizinski,R., Giermas…  2021-05-\n",
       "  94 │ NC_054940.1                 Kaczorowska,J., Casey,E., Neve,H…  2021-05-\n",
       "  95 │ NC_054942.1                 Hamdi,S., Rousseau,G.M., Labrie,…  2021-05-\n",
       "  96 │ NC_055031.1                 Chang,C.E., Leblanc,L., Cassin,E…  2021-05- ⋯\n",
       "  97 │ NC_055040.1                 Zhang,L., Hou,X., Wang,H., Wang,…  2021-05-\n",
       "  98 │ NC_055827.1                 Nicke,D.S., Risi,M., Mitchell,L.…  2021-06-\n",
       "  99 │ NC_055843.1                 Fleischacker,C.L., Nagle,A.M., L…  2021-06-\n",
       " 100 │ NC_055912.1                 Abbas,M., Al-Sayah,O.M., Anderse…  2021-06- ⋯\n",
       "\u001b[36m                                                  20 columns and 79 rows omitted\u001b[0m"
      ]
     },
     "execution_count": 47,
     "metadata": {},
     "output_type": "execute_result"
    }
   ],
   "source": [
    "# https://www.ncbi.nlm.nih.gov/labs/virus/vssi/#/virus?SeqType_s=Nucleotide&VirusLineage_ss=Bacteriophage,%20all%20taxids&Completeness_s=complete\n",
    "entity_metadata = DataFrames.DataFrame(uCSV.read(\"$(MYCELIA_METADATA)/2021-11-13-ncbi-complete-bacteriophage.csv\", header=1, quotes='\"')...)\n",
    "entity_metadata = entity_metadata[entity_metadata[!, \"Nuc_Completeness\"] .== \"complete\", :]\n",
    "entity_metadata = entity_metadata[entity_metadata[!, \"Sequence_Type\"] .== \"RefSeq\", :]\n",
    "sort!(entity_metadata, \"Accession\")\n",
    "Random.seed!(0)\n",
    "subset_indices = StatsBase.sample(1:size(entity_metadata, 1), n_samples, ordered=true, replace=false)\n",
    "entity_metadata = entity_metadata[subset_indices, :]"
   ]
  },
  {
   "cell_type": "code",
   "execution_count": 66,
   "metadata": {},
   "outputs": [
    {
     "data": {
      "text/plain": [
       "100-element Vector{String}:\n",
       " \"NC_000935.1\"\n",
       " \"NC_001332.1\"\n",
       " \"NC_003387.1\"\n",
       " \"NC_005083.2\"\n",
       " \"NC_007023.1\"\n",
       " \"NC_008198.1\"\n",
       " \"NC_011107.1\"\n",
       " \"NC_014635.1\"\n",
       " \"NC_015292.1\"\n",
       " \"NC_015294.2\"\n",
       " \"NC_016071.1\"\n",
       " \"NC_016655.1\"\n",
       " \"NC_018285.1\"\n",
       " ⋮\n",
       " \"NC_052661.1\"\n",
       " \"NC_052981.1\"\n",
       " \"NC_053237.1\"\n",
       " \"NC_054777.1\"\n",
       " \"NC_054890.1\"\n",
       " \"NC_054940.1\"\n",
       " \"NC_054942.1\"\n",
       " \"NC_055031.1\"\n",
       " \"NC_055040.1\"\n",
       " \"NC_055827.1\"\n",
       " \"NC_055843.1\"\n",
       " \"NC_055912.1\""
      ]
     },
     "execution_count": 66,
     "metadata": {},
     "output_type": "execute_result"
    }
   ],
   "source": [
    "accession_list = entity_metadata[!, \"Accession\"]"
   ]
  },
  {
   "cell_type": "code",
   "execution_count": 49,
   "metadata": {},
   "outputs": [
    {
     "data": {
      "text/plain": [
       "3"
      ]
     },
     "execution_count": 49,
     "metadata": {},
     "output_type": "execute_result"
    }
   ],
   "source": [
    "# these are too small, all of the within vs between have some disagreement\n",
    "# dna_k = 5\n",
    "# aa_k = 2\n",
    "dna_k = 7\n",
    "aa_k = 3"
   ]
  },
  {
   "cell_type": "code",
   "execution_count": 50,
   "metadata": {},
   "outputs": [],
   "source": [
    "# http://leb.snu.ac.kr/ezaai"
   ]
  },
  {
   "cell_type": "code",
   "execution_count": 51,
   "metadata": {
    "jupyter": {
     "source_hidden": true
    }
   },
   "outputs": [],
   "source": [
    "# rep_origin      complement(16763)\n",
    "# variation       complement(2665)\n",
    "#      misc_feature    complement(3871)\n",
    "\n",
    "#      variation       complement(3939)\n",
    "#      variation       complement(20826)\n",
    "#      modified_base   complement(29281)\n",
    "#      modified_base   complement(29282)\n",
    "#      modified_base   complement(29295)\n",
    "#      modified_base   complement(31645)\n",
    "#      modified_base   complement(31646)\n",
    "#      modified_base   complement(31669)\n",
    "#      modified_base   complement(31671)\n",
    "#      modified_base   complement(31689)\n",
    "#      modified_base   complement(31691)\n",
    "#      modified_base   complement(31692)\n",
    "#      modified_base   complement(32533)\n",
    "#      modified_base   complement(32534)\n",
    "#      modified_base   complement(32542)\n",
    "#      modified_base   complement(32551)\n",
    "#      modified_base   complement(32568)\n",
    "#      modified_base   complement(33589)\n",
    "#      modified_base   complement(33599)\n",
    "#      modified_base   complement(33600)\n",
    "#      modified_base   complement(33973)\n",
    "#      modified_base   complement(33974)\n",
    "#      modified_base   complement(33982)\n",
    "#      modified_base   complement(33988)\n",
    "#      modified_base   complement(33991)\n",
    "#      modified_base   complement(34009)\n",
    "#      variation       complement(49332)\n",
    "#      variation       complement(50257)\n",
    "#      variation       complement(51626)\n",
    "#      variation       complement(92822)\n",
    "#      variation       complement(101898)\n",
    "#      variation       complement(102426)\n",
    "#      variation       complement(105008)\n",
    "#      variation       complement(107430)\n"
   ]
  },
  {
   "cell_type": "code",
   "execution_count": 52,
   "metadata": {},
   "outputs": [],
   "source": [
    "# looking for columns that don't have any counts"
   ]
  },
  {
   "cell_type": "code",
   "execution_count": 53,
   "metadata": {},
   "outputs": [],
   "source": [
    "# run(`sudo conda install -c bioconda prodigal`)"
   ]
  },
  {
   "cell_type": "code",
   "execution_count": 84,
   "metadata": {},
   "outputs": [
    {
     "name": "stderr",
     "output_type": "stream",
     "text": [
      "\u001b[32mProgress: 100%|█████████████████████████████████████████| Time: 0:02:29\u001b[39m\n"
     ]
    },
    {
     "data": {
      "text/plain": [
       "10648×100 Matrix{Float64}:\n",
       " 9.0  2.0  56.0  32.0  19.0  24.0  24.0  …  11.0  10.0  1.0  22.0  53.0  44.0\n",
       " 6.0  0.0  24.0  21.0  10.0  18.0   7.0     12.0   7.0  1.0  13.0  21.0  34.0\n",
       " 4.0  0.0   2.0  13.0  18.0   5.0   5.0     11.0   3.0  0.0   6.0   9.0   6.0\n",
       " 4.0  1.0  18.0  18.0  14.0  15.0   6.0     11.0   7.0  3.0  14.0  12.0  15.0\n",
       " 1.0  0.0   1.0   4.0   1.0   2.0   1.0      2.0   2.0  1.0   3.0   3.0   2.0\n",
       " 6.0  0.0   9.0  20.0   5.0  16.0  11.0  …  23.0   3.0  3.0  16.0  14.0  17.0\n",
       " 4.0  1.0  26.0  27.0  14.0  13.0  11.0     21.0   9.0  2.0   8.0  19.0  14.0\n",
       " 8.0  0.0  15.0  29.0  18.0  18.0  19.0     18.0  12.0  4.0  26.0  42.0  31.0\n",
       " 2.0  0.0   5.0   6.0   3.0   2.0   4.0      2.0   0.0  1.0   3.0   5.0   8.0\n",
       " 4.0  1.0  23.0  34.0  22.0   6.0   5.0     21.0   7.0  3.0  10.0  16.0  10.0\n",
       " 7.0  1.0  25.0  38.0  24.0  14.0  22.0  …  20.0   9.0  3.0  23.0  28.0  27.0\n",
       " 7.0  1.0  17.0  28.0  17.0  10.0  11.0     25.0   9.0  6.0  19.0  12.0  11.0\n",
       " 3.0  0.0   7.0  13.0   7.0   8.0   4.0      6.0   2.0  0.0   2.0   5.0   6.0\n",
       " ⋮                            ⋮          ⋱         ⋮                     \n",
       " 0.0  0.0   0.0   0.0   0.0   0.0   0.0      0.0   0.0  0.0   0.0   0.0   0.0\n",
       " 0.0  0.0   0.0   0.0   0.0   0.0   0.0      0.0   0.0  0.0   0.0   0.0   0.0\n",
       " 0.0  0.0   0.0   0.0   0.0   0.0   0.0      0.0   0.0  0.0   0.0   0.0   0.0\n",
       " 0.0  0.0   0.0   0.0   0.0   0.0   0.0      0.0   0.0  0.0   0.0   0.0   0.0\n",
       " 0.0  0.0   0.0   0.0   0.0   0.0   0.0  …   0.0   0.0  0.0   0.0   0.0   0.0\n",
       " 0.0  0.0   0.0   0.0   0.0   0.0   0.0      0.0   0.0  0.0   0.0   0.0   0.0\n",
       " 0.0  0.0   0.0   0.0   0.0   0.0   0.0      0.0   0.0  0.0   0.0   0.0   0.0\n",
       " 0.0  0.0   0.0   0.0   0.0   0.0   0.0      0.0   0.0  0.0   0.0   0.0   0.0\n",
       " 0.0  0.0   0.0   0.0   0.0   0.0   0.0      0.0   0.0  0.0   0.0   0.0   0.0\n",
       " 0.0  0.0   0.0   0.0   0.0   0.0   0.0  …   0.0   0.0  0.0   0.0   0.0   0.0\n",
       " 0.0  0.0   0.0   0.0   0.0   0.0   0.0      0.0   0.0  0.0   0.0   0.0   0.0\n",
       " 0.0  0.0   0.0   0.0   0.0   0.0   0.0      0.0   0.0  0.0   0.0   0.0   0.0"
      ]
     },
     "execution_count": 84,
     "metadata": {},
     "output_type": "execute_result"
    }
   ],
   "source": [
    "aamer_counts_matrix = accession_list_to_aamer_counts_table(accession_list, aa_k, AA_ALPHABET)"
   ]
  },
  {
   "cell_type": "code",
   "execution_count": 77,
   "metadata": {},
   "outputs": [
    {
     "data": {
      "text/plain": [
       "4-element Vector{Int64}:\n",
       "  2\n",
       " 22\n",
       " 45\n",
       " 75"
      ]
     },
     "execution_count": 77,
     "metadata": {},
     "output_type": "execute_result"
    }
   ],
   "source": [
    "[i for (i, col) in enumerate(eachcol(aamer_counts_matrix)) if all(col .== 0)]"
   ]
  },
  {
   "cell_type": "code",
   "execution_count": 80,
   "metadata": {},
   "outputs": [
    {
     "data": {
      "text/plain": [
       "Int64[]"
      ]
     },
     "execution_count": 80,
     "metadata": {},
     "output_type": "execute_result"
    }
   ],
   "source": [
    "[i for (i, col) in enumerate(eachcol(dnamer_counts_matrix)) if all(col .== 0)]"
   ]
  },
  {
   "cell_type": "code",
   "execution_count": 79,
   "metadata": {},
   "outputs": [
    {
     "name": "stderr",
     "output_type": "stream",
     "text": [
      "\u001b[32mProgress: 100%|█████████████████████████████████████████| Time: 0:01:02\u001b[39m\n"
     ]
    },
    {
     "data": {
      "text/plain": [
       "8192×100 Matrix{Float64}:\n",
       " 20.0  6.0  0.0   26.0   6.0  0.0  0.0  …   11.0   2.0  43.0   0.0  0.0  2.0\n",
       " 15.0  4.0  1.0   40.0  53.0  0.0  0.0      22.0  16.0  27.0   3.0  0.0  0.0\n",
       " 17.0  6.0  0.0   93.0  55.0  1.0  0.0      44.0  20.0  52.0   3.0  0.0  0.0\n",
       " 29.0  0.0  1.0   38.0  50.0  0.0  0.0     105.0  11.0  69.0   1.0  0.0  2.0\n",
       " 13.0  4.0  3.0   69.0  69.0  2.0  0.0      47.0  18.0  40.0   7.0  0.0  0.0\n",
       " 13.0  6.0  1.0   28.0  40.0  0.0  3.0  …   27.0   7.0  13.0   3.0  2.0  1.0\n",
       " 10.0  2.0  2.0   69.0  66.0  1.0  0.0      48.0  22.0  14.0   3.0  1.0  1.0\n",
       "  9.0  2.0  4.0   68.0  64.0  3.0  0.0      81.0  13.0  31.0   2.0  0.0  0.0\n",
       " 22.0  3.0  1.0   73.0  81.0  2.0  0.0     123.0  33.0  49.0   8.0  0.0  1.0\n",
       " 22.0  2.0  2.0   92.0  64.0  2.0  1.0      64.0  15.0  36.0   5.0  0.0  0.0\n",
       " 18.0  3.0  1.0   61.0  43.0  1.0  0.0  …   65.0  16.0  32.0   9.0  1.0  0.0\n",
       " 11.0  2.0  1.0   66.0  53.0  0.0  0.0      79.0  16.0  26.0   5.0  0.0  1.0\n",
       " 31.0  5.0  0.0   44.0  62.0  0.0  0.0     149.0  14.0  70.0   0.0  0.0  0.0\n",
       "  ⋮                           ⋮         ⋱          ⋮                     \n",
       "  4.0  0.0  0.0   64.0  60.0  3.0  1.0  …   16.0   9.0  14.0   0.0  0.0  0.0\n",
       " 10.0  1.0  5.0   70.0  35.0  6.0  4.0      33.0  13.0   4.0  19.0  1.0  3.0\n",
       "  6.0  1.0  0.0   40.0  29.0  0.0  0.0     117.0   5.0  36.0   2.0  0.0  0.0\n",
       " 13.0  1.0  3.0  102.0  32.0  4.0  0.0      32.0   3.0  10.0  14.0  3.0  1.0\n",
       " 19.0  4.0  1.0  133.0  89.0  1.0  0.0     107.0   8.0  41.0   6.0  0.0  0.0\n",
       " 12.0  1.0  3.0   93.0  50.0  7.0  2.0  …   18.0   9.0   5.0   5.0  0.0  1.0\n",
       " 16.0  2.0  0.0   81.0  51.0  1.0  1.0      21.0  16.0  11.0   6.0  0.0  0.0\n",
       "  5.0  2.0  3.0   44.0  15.0  4.0  1.0      36.0   6.0  14.0   6.0  0.0  0.0\n",
       "  9.0  1.0  1.0   31.0  29.0  3.0  1.0      60.0   8.0  18.0   3.0  1.0  1.0\n",
       "  9.0  0.0  1.0   79.0  29.0  0.0  0.0      50.0   6.0  21.0   2.0  0.0  0.0\n",
       " 20.0  6.0  0.0   51.0  52.0  0.0  0.0  …  162.0  13.0  67.0   0.0  0.0  0.0\n",
       "  9.0  3.0  1.0  100.0  81.0  1.0  0.0      93.0   7.0  38.0   2.0  0.0  0.0"
      ]
     },
     "execution_count": 79,
     "metadata": {},
     "output_type": "execute_result"
    }
   ],
   "source": [
    "dnamer_counts_matrix = accession_list_to_dnamer_counts_table(accession_list, dna_k)"
   ]
  },
  {
   "cell_type": "code",
   "execution_count": 56,
   "metadata": {},
   "outputs": [
    {
     "data": {
      "text/plain": [
       "12-element Vector{String}:\n",
       " \"Ackermannviridae\"\n",
       " \"Autographiviridae\"\n",
       " \"Demerecviridae\"\n",
       " \"Drexlerviridae\"\n",
       " \"Herelleviridae\"\n",
       " \"Inoviridae\"\n",
       " \"Microviridae\"\n",
       " \"Myoviridae\"\n",
       " \"Podoviridae\"\n",
       " \"Salasmaviridae\"\n",
       " \"Siphoviridae\"\n",
       " \"Zobellviridae\""
      ]
     },
     "execution_count": 56,
     "metadata": {},
     "output_type": "execute_result"
    }
   ],
   "source": [
    "unique_species = filter(!isempty, sort(unique(entity_metadata[!, \"Species\"])))\n",
    "unique_genera = filter(!isempty, sort(unique(entity_metadata[!, \"Genus\"])))\n",
    "unique_families = filter(!isempty, sort(unique(entity_metadata[!, \"Family\"])))"
   ]
  },
  {
   "cell_type": "code",
   "execution_count": 57,
   "metadata": {},
   "outputs": [
    {
     "data": {
      "text/plain": [
       "8192×100 Matrix{Float64}:\n",
       " 0.000547675  0.000890472  0.0         …  0.0          0.0         3.69263e-5\n",
       " 0.000410756  0.000593648  1.89426e-5     4.41079e-5   0.0         0.0\n",
       " 0.000465524  0.000890472  0.0            4.41079e-5   0.0         0.0\n",
       " 0.000794129  0.0          1.89426e-5     1.47026e-5   0.0         3.69263e-5\n",
       " 0.000355989  0.000593648  5.68279e-5     0.000102918  0.0         0.0\n",
       " 0.000355989  0.000890472  1.89426e-5  …  4.41079e-5   3.42149e-5  1.84631e-5\n",
       " 0.000273838  0.000296824  3.78852e-5     4.41079e-5   1.71075e-5  1.84631e-5\n",
       " 0.000246454  0.000296824  7.57705e-5     2.94053e-5   0.0         0.0\n",
       " 0.000602443  0.000445236  1.89426e-5     0.000117621  0.0         1.84631e-5\n",
       " 0.000602443  0.000296824  3.78852e-5     7.35132e-5   0.0         0.0\n",
       " 0.000492908  0.000445236  1.89426e-5  …  0.000132324  1.71075e-5  0.0\n",
       " 0.000301221  0.000296824  1.89426e-5     7.35132e-5   0.0         1.84631e-5\n",
       " 0.000848896  0.00074206   0.0            0.0          0.0         0.0\n",
       " ⋮                                     ⋱                           \n",
       " 0.000109535  0.0          0.0         …  0.0          0.0         0.0\n",
       " 0.000273838  0.000148412  9.47131e-5     0.00027935   1.71075e-5  5.53894e-5\n",
       " 0.000164303  0.000148412  0.0            2.94053e-5   0.0         0.0\n",
       " 0.000355989  0.000148412  5.68279e-5     0.000205837  5.13224e-5  1.84631e-5\n",
       " 0.000520291  0.000593648  1.89426e-5     8.82158e-5   0.0         0.0\n",
       " 0.000328605  0.000148412  5.68279e-5  …  7.35132e-5   0.0         1.84631e-5\n",
       " 0.00043814   0.000296824  0.0            8.82158e-5   0.0         0.0\n",
       " 0.000136919  0.000296824  5.68279e-5     8.82158e-5   0.0         0.0\n",
       " 0.000246454  0.000148412  1.89426e-5     4.41079e-5   1.71075e-5  1.84631e-5\n",
       " 0.000246454  0.0          1.89426e-5     2.94053e-5   0.0         0.0\n",
       " 0.000547675  0.000890472  0.0         …  0.0          0.0         0.0\n",
       " 0.000246454  0.000445236  1.89426e-5     2.94053e-5   0.0         0.0"
      ]
     },
     "execution_count": 57,
     "metadata": {},
     "output_type": "execute_result"
    }
   ],
   "source": [
    "aamer_probability_matrix = count_matrix_to_probability_matrix(aamer_counts_matrix)\n",
    "dnamer_probility_matrix = count_matrix_to_probability_matrix(dnamer_counts_matrix)"
   ]
  },
  {
   "cell_type": "code",
   "execution_count": 58,
   "metadata": {},
   "outputs": [
    {
     "data": {
      "text/plain": [
       "16-element Vector{Tuple{Matrix{Float64}, String, String}}:\n",
       " ([0.0 0.16802446767241466 … 0.23938225052595452 0.1488040408149276; 0.16802446767241466 0.0 … 0.20231109853584742 0.1622283703100427; … ; 0.23938225052595452 0.20231109853584742 … 0.0 0.2545564354245891; 0.1488040408149276 0.1622283703100427 … 0.2545564354245891 0.0], \"euclidean\", \"AA\")\n",
       " ([0.0 0.046332018196880015 … 0.11416380539546334 0.10441996682963602; 0.046332018196880015 0.0 … 0.11777370866059689 0.10723184992881744; … ; 0.11416380539546334 0.11777370866059689 … 0.0 0.0378078291181241; 0.10441996682963602 0.10723184992881744 … 0.0378078291181241 0.0], \"euclidean\", \"DNA\")\n",
       " ([0.0 0.15148152442155124 … 0.20981499577653742 0.1294035808337612; 0.15148152442155124 0.0 … 0.17867731089653344 0.13944051542806035; … ; 0.20981499577653742 0.17867731089653344 … 0.0 0.2144028355168359; 0.1294035808337612 0.13944051542806035 … 0.2144028355168359 0.0], \"cityblock\", \"AA\")\n",
       " ([0.0 0.061452110812652845 … 0.12456400593352844 0.1152026620695185; 0.061452110812652845 0.0 … 0.11504630557671491 0.10603375696588221; … ; 0.12456400593352844 0.11504630557671491 … 0.0 0.040628633283887265; 0.1152026620695185 0.10603375696588221 … 0.040628633283887265 0.0], \"cityblock\", \"DNA\")\n",
       " ([0.0 0.7866488147284864 … 0.8492517079401519 0.762938687581845; 0.7866488147284864 0.0 … 0.5466967322627175 0.9011728292001159; … ; 0.8492517079401519 0.5466967322627175 … 0.0 0.951023342249439; 0.762938687581845 0.9011728292001159 … 0.951023342249439 0.0], \"corr_dist\", \"AA\")\n",
       " ([0.0 0.44673454694343384 … 0.8051665608814738 0.8052018376656225; 0.44673454694343384 0.0 … 0.7783265614051732 0.7777012476987348; … ; 0.8051665608814738 0.7783265614051732 … 0.0 0.04935534302653747; 0.8052018376656225 0.7777012476987348 … 0.04935534302653747 0.0], \"corr_dist\", \"DNA\")\n",
       " ([0.0 0.7328888381408246 … 0.7855029153096693 0.7380392390576103; 0.7328888381408246 0.0 … 0.5108579225986767 0.8776834468155866; … ; 0.7855029153096693 0.5108579225986767 … 0.0 0.9209880789222762; 0.7380392390576103 0.8776834468155866 … 0.9209880789222762 0.0], \"cosine_dist\", \"AA\")\n",
       " ([0.0 0.3743750966516754 … 0.6937483367156352 0.6862403441560992; 0.3743750966516754 0.0 … 0.7919470135179764 0.785335247547396; … ; 0.6937483367156352 0.7919470135179764 … 0.0 0.051948672204620905; 0.6862403441560992 0.785335247547396 … 0.051948672204620905 0.0], \"cosine_dist\", \"DNA\")\n",
       " ([0.0 0.7972051628302623 … 0.832828239228589 0.8424071823989623; 0.7972051628302623 0.0 … 0.6956211689052948 0.9410909494426425; … ; 0.832828239228589 0.6956211689052948 … 0.0 0.9597860471596913; 0.8424071823989623 0.9410909494426425 … 0.9597860471596913 0.0], \"totalvariation\", \"AA\")\n",
       " ([0.0 0.5508222269247134 … 0.713517785361977 0.6987209840270219; 0.5508222269247134 0.0 … 0.8446970595580265 0.8358545551017487; … ; 0.713517785361977 0.8446970595580265 … 0.0 0.20255559006309334; 0.6987209840270219 0.8358545551017487 … 0.20255559006309334 0.0], \"totalvariation\", \"DNA\")\n",
       " ([0.0 0.7156465427618731 … 0.7264552340588032 0.7972422958669885; 0.7156465427618731 0.0 … 0.5559619387874682 0.9231616743110489; … ; 0.7264552340588032 0.5559619387874682 … 0.0 0.9368574664192972; 0.7972422958669885 0.9231616743110489 … 0.9368574664192972 0.0], \"js_divergence\", \"AA\")\n",
       " ([0.0 0.3984655586474725 … 0.5481998673268033 0.5300669464010146; 0.3984655586474725 0.0 … 0.7777878581514586 0.7645982998365353; … ; 0.5481998673268033 0.7777878581514586 … 0.0 0.06679117118535628; 0.5300669464010146 0.7645982998365353 … 0.06679117118535628 0.0], \"js_divergence\", \"DNA\")\n",
       " ([0.0 0.6405740423293794 … 0.6429797883393903 0.7483223270914854; 0.6405740423293794 0.0 … 0.46964844357783747 0.9061657358231031; … ; 0.6429797883393903 0.46964844357783747 … 0.0 0.9098363863185718; 0.7483223270914854 0.9061657358231031 … 0.9098363863185718 0.0], \"bhattacharyya\", \"AA\")\n",
       " ([0.0 0.23885909893740473 … 0.33483325320088586 0.31831339293415634; 0.23885909893740473 0.0 … 0.6136600605016447 0.5940687101893014; … ; 0.33483325320088586 0.6136600605016447 … 0.0 0.030955207235906126; 0.31831339293415634 0.5940687101893014 … 0.030955207235906126 0.0], \"bhattacharyya\", \"DNA\")\n",
       " ([0.0 0.8385681155456162 … 0.8398743964431822 0.8936134152980523; 0.8385681155456162 0.0 … 0.7345625931782628 0.9634317833774605; … ; 0.8398743964431822 0.7345625931782628 … 0.0 0.9649254967372531; 0.8936134152980523 0.9634317833774605 … 0.9649254967372531 0.0], \"hellinger\", \"AA\")\n",
       " ([0.0 0.6154841701518212 … 0.7060088365948468 0.6920962899693971; 0.6154841701518212 0.0 … 0.8755384933074243 0.8665946789552438; … ; 0.7060088365948468 0.8755384933074243 … 0.0 0.23792414924957678; 0.6920962899693971 0.8665946789552438 … 0.23792414924957678 0.0], \"hellinger\", \"DNA\")"
      ]
     },
     "execution_count": 58,
     "metadata": {},
     "output_type": "execute_result"
    }
   ],
   "source": [
    "matrix_metric_grammar_groups = [\n",
    "        (normalize_distance_matrix(Distances.pairwise(Distances.euclidean, aamer_counts_matrix, dims=2)), \"euclidean\", \"AA\"), # good\n",
    "        (normalize_distance_matrix(Distances.pairwise(Distances.euclidean, dnamer_counts_matrix, dims=2)), \"euclidean\", \"DNA\"), # good\n",
    "        (normalize_distance_matrix(Distances.pairwise(Distances.cityblock, aamer_counts_matrix, dims=2)), \"cityblock\", \"AA\"), # redundant with above\n",
    "        (normalize_distance_matrix(Distances.pairwise(Distances.cityblock, dnamer_counts_matrix, dims=2)), \"cityblock\", \"DNA\"), # redundant with above\n",
    "        \n",
    "        (normalize_distance_matrix(Distances.pairwise(Distances.corr_dist, aamer_counts_matrix, dims=2)), \"corr_dist\", \"AA\"), # meh\n",
    "        (normalize_distance_matrix(Distances.pairwise(Distances.corr_dist, dnamer_counts_matrix, dims=2)), \"corr_dist\", \"DNA\"), # meh\n",
    "        (normalize_distance_matrix(Distances.pairwise(Distances.cosine_dist, aamer_counts_matrix, dims=2)), \"cosine_dist\", \"AA\"), # meh\n",
    "        (normalize_distance_matrix(Distances.pairwise(Distances.cosine_dist, dnamer_counts_matrix, dims=2)), \"cosine_dist\", \"DNA\"), # very bad\n",
    "        \n",
    "        (normalize_distance_matrix(Distances.pairwise(Distances.totalvariation, aamer_probability_matrix, dims=2)), \"totalvariation\", \"AA\"), # good\n",
    "        (normalize_distance_matrix(Distances.pairwise(Distances.totalvariation, dnamer_probility_matrix, dims=2)), \"totalvariation\", \"DNA\"), # bad\n",
    "        (normalize_distance_matrix(Distances.pairwise(Distances.js_divergence, aamer_probability_matrix, dims=2)), \"js_divergence\", \"AA\"), # good\n",
    "        (normalize_distance_matrix(Distances.pairwise(Distances.js_divergence, dnamer_probility_matrix, dims=2)), \"js_divergence\", \"DNA\"), # bad\n",
    "        (normalize_distance_matrix(Distances.pairwise(Distances.bhattacharyya, aamer_probability_matrix, dims=2)), \"bhattacharyya\", \"AA\"), # good\n",
    "        (normalize_distance_matrix(Distances.pairwise(Distances.bhattacharyya, dnamer_probility_matrix, dims=2)), \"bhattacharyya\", \"DNA\"), # bad\n",
    "        (normalize_distance_matrix(Distances.pairwise(Distances.hellinger, aamer_probability_matrix, dims=2)), \"hellinger\", \"AA\"), # good\n",
    "        (normalize_distance_matrix(Distances.pairwise(Distances.hellinger, dnamer_probility_matrix, dims=2)), \"hellinger\", \"DNA\"), # bad\n",
    "    ]"
   ]
  },
  {
   "cell_type": "code",
   "execution_count": 60,
   "metadata": {},
   "outputs": [
    {
     "ename": "LoadError",
     "evalue": "BoundsError: attempt to access 10×10 Matrix{Float64} at index [78, Int64[]]",
     "output_type": "error",
     "traceback": [
      "BoundsError: attempt to access 10×10 Matrix{Float64} at index [78, Int64[]]",
      "",
      "Stacktrace:",
      " [1] throw_boundserror(A::Matrix{Float64}, I::Tuple{Int64, Vector{Int64}})",
      "   @ Base ./abstractarray.jl:651",
      " [2] checkbounds",
      "   @ ./abstractarray.jl:616 [inlined]",
      " [3] _getindex",
      "   @ ./multidimensional.jl:831 [inlined]",
      " [4] getindex(::Matrix{Float64}, ::Int64, ::Vector{Int64})",
      "   @ Base ./abstractarray.jl:1170",
      " [5] macro expansion",
      "   @ In[60]:10 [inlined]",
      " [6] macro expansion",
      "   @ ~/.julia/packages/ProgressMeter/Vf8un/src/ProgressMeter.jl:940 [inlined]",
      " [7] top-level scope",
      "   @ In[60]:5",
      " [8] eval",
      "   @ ./boot.jl:360 [inlined]",
      " [9] include_string(mapexpr::typeof(REPL.softscope), mod::Module, code::String, filename::String)",
      "   @ Base ./loading.jl:1116"
     ]
    }
   ],
   "source": [
    "for (taxon_level, unique_taxa) in (\"Family\" => unique_families, \"Genus\" => unique_genera)\n",
    "    for (distance_matrix, distance_metric, grammar) in matrix_metric_grammar_groups\n",
    "\n",
    "            within_vs_between_distances = []\n",
    "            ProgressMeter.@showprogress for taxon in unique_taxa\n",
    "                taxa_indices = findall(entity_metadata[!, taxon_level] .== taxon)\n",
    "                other_taxa_indices = setdiff(1:1:size(distance_matrix, 1), taxa_indices)\n",
    "                for index in taxa_indices\n",
    "                    other_indices = filter(i -> i != index, taxa_indices)\n",
    "                    avg_within_taxa_distance = Statistics.mean(vec(distance_matrix[index, other_indices]))\n",
    "                    avg_between_taxa_distance = Statistics.mean(vec(distance_matrix[index, other_taxa_indices]))\n",
    "                    push!(within_vs_between_distances, avg_within_taxa_distance => avg_between_taxa_distance)\n",
    "                end\n",
    "            end\n",
    "#             @show within_vs_between_distances\n",
    "            within_vs_between_distances = filter(d -> !any(map(x1 -> isnan(x1), collect(d))), within_vs_between_distances)\n",
    "\n",
    "            ys = collect.(within_vs_between_distances)\n",
    "\n",
    "            xs = [[1, 2] for x in ys]\n",
    "\n",
    "            if grammar == \"AA\"\n",
    "                k = aa_k\n",
    "            elseif grammar == \"DNA\"\n",
    "                k = dna_k\n",
    "            end\n",
    "\n",
    "            n = size(distance_matrix, 1)\n",
    "\n",
    "            p = StatsPlots.plot(\n",
    "                xs,\n",
    "                ys,\n",
    "                xticks = ([1, 2], [\"within $(taxon_level)\", \"between $(taxon_level)\"]),\n",
    "                legend = false,\n",
    "                xlims = (0.75, 2.25),\n",
    "                alpha = 0.2,\n",
    "                title = \"$(distance_metric) distance @ k=$k & $grammar\\n(n=$(n))\",\n",
    "                ylabel = \"normalized distance\",\n",
    "                marker = :circle\n",
    "            )\n",
    "            StatsPlots.savefig(p, \"$DIR/$(distance_metric)-distance-$(taxon_level)-k$k-$(grammar)-n$n.png\")\n",
    "            StatsPlots.savefig(p, \"$DIR/$(distance_metric)-distance-$(taxon_level)-k$k-$(grammar)-n$n.svg\")\n",
    "            display(p)\n",
    "    end\n",
    "end"
   ]
  },
  {
   "cell_type": "code",
   "execution_count": null,
   "metadata": {},
   "outputs": [],
   "source": []
  }
 ],
 "metadata": {
  "kernelspec": {
   "display_name": "Julia 1.6.3",
   "language": "julia",
   "name": "julia-1.6"
  },
  "language_info": {
   "file_extension": ".jl",
   "mimetype": "application/julia",
   "name": "julia",
   "version": "1.6.3"
  }
 },
 "nbformat": 4,
 "nbformat_minor": 4
}
