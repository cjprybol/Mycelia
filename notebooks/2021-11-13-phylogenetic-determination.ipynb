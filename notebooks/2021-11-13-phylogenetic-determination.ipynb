{
 "cells": [
  {
   "cell_type": "code",
   "execution_count": 1,
   "metadata": {},
   "outputs": [],
   "source": [
    "TODAY=\"2021-11-13\"\n",
    "TASK = \"phylogenetic-determination\"\n",
    "DIR = \"$(homedir())/$(TODAY)-$(TASK)\"\n",
    "if !isdir(DIR)\n",
    "    mkdir(DIR)\n",
    "end\n",
    "cd(DIR)"
   ]
  },
  {
   "cell_type": "code",
   "execution_count": 24,
   "metadata": {},
   "outputs": [],
   "source": [
    "import Pkg\n",
    "\n",
    "pkgs = [\n",
    "\"JSON\",\n",
    "\"HTTP\",\n",
    "\"Dates\",\n",
    "\"uCSV\",\n",
    "\"DelimitedFiles\",\n",
    "\"DataFrames\",\n",
    "\"ProgressMeter\",\n",
    "\"BioSequences\",\n",
    "\"FASTX\",\n",
    "\"Distances\",\n",
    "\"Plots\",\n",
    "\"StatsPlots\",\n",
    "\"StatsBase\",\n",
    "\"Statistics\",\n",
    "\"Mmap\",\n",
    "\"MultivariateStats\",\n",
    "\"PyCall\",\n",
    "\"Random\",\n",
    "\"Primes\",\n",
    "\"Revise\",\n",
    "\"SparseArrays\",\n",
    "\"SHA\",\n",
    "\"Mycelia\",\n",
    "\"GenomicAnnotations\",\n",
    "\"BioFetch\",\n",
    "\"Combinatorics\",\n",
    "\"StaticArrays\",\n",
    "\"BioSymbols\"\n",
    "]\n",
    "\n",
    "for pkg in pkgs\n",
    "    try\n",
    "        eval(Meta.parse(\"import $pkg\"))\n",
    "    catch\n",
    "        Pkg.add(pkg)\n",
    "        eval(Meta.parse(\"import $pkg\"))\n",
    "    end\n",
    "end"
   ]
  },
  {
   "cell_type": "code",
   "execution_count": 25,
   "metadata": {},
   "outputs": [
    {
     "data": {
      "text/plain": [
       "\"/home/jupyter-cjprybol/.julia/dev/Mycelia/metadata\""
      ]
     },
     "execution_count": 25,
     "metadata": {},
     "output_type": "execute_result"
    }
   ],
   "source": [
    "# MYCELIA_METADATA = joinpath(Pkg.dir(\"Mycelia\"), \"metadata\")\n",
    "MYCELIA_METADATA = joinpath(dirname(dirname(pathof(Mycelia))),  \"metadata\")"
   ]
  },
  {
   "cell_type": "code",
   "execution_count": 26,
   "metadata": {},
   "outputs": [
    {
     "data": {
      "text/html": [
       "<div class=\"data-frame\"><p>4,569 rows × 23 columns (omitted printing of 20 columns)</p><table class=\"data-frame\"><thead><tr><th></th><th>Accession</th><th>SRA_Accession</th><th>Submitters</th></tr><tr><th></th><th title=\"String\">String</th><th title=\"String\">String</th><th title=\"String\">String</th></tr></thead><tbody><tr><th>1</th><td>NC_000866.4</td><td></td><td>Miller,E.S., Kutter,E., Mosig,G., Arisaka,F., Kunisawa,T., Ruger,W., Ho,C.K., Shuman,S., Shcherbakov,V., Granovsky,I., Plugina,L., Shcherbakova,T., Sizova,S., Pyatkov,K., Shlyapnikov,M., Shubina,O., Xu,W., Gauss,P., Shen,J., Dunn,C.A., Bessman,M.J., Truncaite,L., Zajanckauskaite,A., Nivinskas,R., Belle,A., Landthaler,M., Shub,D.A., Stehr,M., Schneider,G., Aslund,F., Holmgren,A., Lindqvist,Y., Ramanculov,E., Young,R., Vaiskunaite,R., Miller,A., Davenport,L., Colowick,N.E., Pietz,B.C., Franklin,J.L., Haseltine,D., Wang,F.J., Ripley,L.S., Paddison,P., Abedon,S.T., Dressman,H.K., Gailbreath,K., Tracy,J., Mosser,E., Neitzel,J., Guttman,B., Kim,B.C., Kim,K., Park,E.H., Lim,C.J., Kadyrov,F.A., Shlyapnikov,M.G., Kryukov,V.M., Malys,N., Carles-Kinch,K., George,J.W., Kreuzer,K.N., Kai,T., Selick,H.E., Yonesaki,T., Penner,M., Morad,I., Snyder,L., Kaufmann,G., Bova,R., Cascino,A., Cipollaro,M., Gargano,S., Grau,O., Micheli,M.R., Santoro,M., Scarlato,V., Storlazzi,A., Young,P., Ohman,M., Sjoberg,B.M., Koch,T., Bouet,J.Y., Woszczyk,J., Repoila,F., Francois,V., Louarn,J.M., Krisch,H.M., Stormo,G.D., Dyson,R.L., Alberts,B.M., Orsini,G., Ouhammouch,M., Le Caer,J.P., Brody,E.N., Hacker,K.J., Sanson,B., Uzan,M., Sharma,M., Ellis,R.L., Hinton,D.M., Raudonikiene,A., Viteniene,I., Gruidl,M.E., Chen,T.C., Efimov,V.P., Prilipov,A.G., Mesyanzhinov,V.V., Brody,E., Favre,R., Kaliman,A.V., Khasanova,M.A., Tanyashin,V.I., Bayev,A.A., Powell,D., Franklin,J., Daegelen,P., Frazier,M.W., Maley,G.F., Duceman,B.W., Wang,A.M., Martinez,J., Maley,F., Marusich,E.I., Lin,G.W., Fan,W.H., Hahn,S., Hilse,D., Lu,M.J., Henning,U., Lamm,N., Selivanov,N.A., Black,L.W., Nikolaeva,L.I., Tseng,M.J., Hilfinger,J.M., Walsh,A., Greenberg,G.R., Spicer,E.K., Rush,J., Fung,C., Reha-Krantz,L.J., Karam,J.D., Konigsberg,W.H., Ishimoto,L.K., Ishimoto,K.S., Eiserling,F.A., Nakako,T., Takahashi,H., Ishii,S., Wang,Y., Mathews,C.K., Ishimoto,L., Kassavetis,G., Kumazaki,T., Huang,W.M., Ao,S.Z., Casjens,S., Orlandi,R., Zeikus,R., Weiss,R., Winge,D., Fang,M., Montag,D., Degen,M., Riede,I., Eschbach,M.L., Tomaschewski,J., Hsu,T., Wei,R.X., Dawson,M., Gayle,M., Winter,R.B., Gold,L., Chu,F.K., Valerie,K., Stevens,J., Lynch,M., Henderson,E.E., de Riel,J.K., Hahne,S., Mathews,C.Z., Rand,K.N., Gait,M.J., West,D.K., Belfort,M., Keller,B., Bickle,T.A., Gram,H., Crabb,J.W., Fujisawa,H., Minagawa,T., Broida,J., Abelson,J., Midgley,C.A., Murray,N.E., Parker,M.L., Christensen,A.C., Boosman,A., Stockard,J., Young,E.T., Doermann,A.H., Macdonald,P.M., Sengstag,C., Kellenberger,E., Drivdahl,R., Rand,K., Trojanowska,M., Karam,J., Stormo,G., Purohit,S., Armstrong,J., Brown,R.S., Tsugita,A., Owen,J.E., Schultz,D.W., Taylor,A., Smith,G.R., Volker,T.A., Gafner,J., Showe,M.K., Allet,B., Oliver,D.B., Crowther,R.A., Pribnow,D., Sigurdson,D.C., Singer,B.S., Napoli,C., Brosius,J., Dull,T.J., Noller,H.F., Anderson,B., Zurabishvili,T., Marusich,E., Schneider,M., Mullins,T., Napuli,A., Mesyanzhinov,V., Drake,J.W., Nguyen,D., Dressman,H., Goldberg,E.B., Ueno,H., Otsuko,Y., Morimoto,W., Kreuzer,K., Stidham,T., Thomas,E., Mzhavia,N., Djavachishvili,T., Peterson,S., Eidemiller,J., Awaya,M., Canada,W., Dimitroff,B., Blattner,F., Nakanishi,M., Alberts,B., Yasuda,G., Parker,M., Doermann,G.</td></tr><tr><th>2</th><td>NC_000867.1</td><td></td><td>Kivela,H.M., Mannisto,R.H., Kalkkinen,N., Bamford,D.H., Paulin,L., Bamford,J.K., Bamford,J.K.H.</td></tr><tr><th>3</th><td>NC_000871.1</td><td></td><td>Desiere,F., Lucchini,S., Brussow,H.</td></tr><tr><th>4</th><td>NC_000872.1</td><td></td><td>Desiere,F., Lucchini,S., Brussow,H., Bruttin,A.</td></tr><tr><th>5</th><td>NC_000896.1</td><td></td><td>Altermann,E., Klein,J.R., Henrich,B., Engel,G., Klein,J., Binishofer,B., Blasi,U., Fremaux,C., De Antoni,G.L., Raya,R.R., Klaenhammer,T.R.</td></tr><tr><th>6</th><td>NC_000902.1</td><td></td><td>Miyamoto,H., Nakai,W., Yajima,N., Fujibayashi,A., Higuchi,T., Sato,K., Matsushiro,A.</td></tr><tr><th>7</th><td>NC_000924.1</td><td></td><td>Plunkett,G. III, Rose,D.J., Durfee,T.J., Blattner,F.R.</td></tr><tr><th>8</th><td>NC_000929.1</td><td></td><td>Morgan,G.J., Hatfull,G.F., Casjens,S., Hendrix,R.W., Morgan,G., Hatfull,G., Hendrix,R.</td></tr><tr><th>9</th><td>NC_000935.1</td><td></td><td>van der Wilk,F., Dullemans,A.M., Verbeek,M., van den Heuvel,J.F., van den Heuvel,J.F.J.M.</td></tr><tr><th>10</th><td>NC_001271.1</td><td></td><td>Pajunen,M.I., Kiljunen,S.J., Soderholm,M.E., Skurnik,M.</td></tr><tr><th>11</th><td>NC_001317.1</td><td></td><td>Portelli,R., Dodd,I.B., Xue,Q., Egan,J.B., Kalionis,B., Richardson,H., Puspurs,A.</td></tr><tr><th>12</th><td>NC_001330.1</td><td></td><td>Kodaira,K., Nakano,K., Okada,S., Taketo,A., Kodaira,K.I., Tadokoro,H., Suzuki,K., Oki,M., Manto,S.</td></tr><tr><th>13</th><td>NC_001331.1</td><td></td><td>Hill,D.F., Short,N.J., Perham,R.N., Petersen,G.B.</td></tr><tr><th>14</th><td>NC_001332.1</td><td></td><td>Stassen,A.P., Schoenmakers,E.F., Yu,M., Schoenmakers,J.G., Konings,R.N., Konings,R.N.H.</td></tr><tr><th>15</th><td>NC_001335.1</td><td></td><td>Donnelly-Wu,M.K., Jacobs,W.R. Jr., Hatfull,G.F., Sarkis,G.J.</td></tr><tr><th>16</th><td>NC_001396.1</td><td></td><td>Kuo,T.T., Tan,M.S., Su,M.T., Yang,M.K.</td></tr><tr><th>17</th><td>NC_001416.1</td><td></td><td>Chen,C.Y., Richardson,J.P., Peltz,S.W., Brown,A.L., Hasan,N., Podhajska,A.J., Szybalski,W., Coleclough,C., Erlitz,F.L., Place,N., Fien,K., Mahoney,M.E., Wulff,D.L., Ho,Y.S., Debouck,C., Rosenberg,M., Shih,M.C., Gussin,G.N., Frackman,S., Siegele,D.A., Feiss,M., Craig,N.L., Nash,H.A., Edlind,T.D., Cooley,T.E., Richards,S.H., Ihler,G.M., Warren,F., Das,A., Mahoney,M., Shatzman,A., Hohn,B., Taylor,A., Benedik,M., Campbell,A., Miwa,T., Matsubara,K., Mascarenhas,D., Luk,K.C., Kobayashi,I., Widner,W., Knight,D.M., Echols,H., Daniels,D.L., Schroeder,J.L., Sanger,F., Blattner,F.R., Coulson,A.R., Hong,G.F., Hill,D.F., Petersen,G.B., Kroger,M., Hobom,G., Landsmann,J., Lau,L.F., Roberts,J.W., Wu,R., Hawley,D.K., McClure,W.R., Moore,D.D., Hyman,H.C., Honigman,A., Kravchenko,V.V., Mikryukov,N.N., Drahos,D., Petrov,N.A., Karginov,V.A., Mikriukov,N.N., Serpinski,O.I., Remaut,E., Stanssens,P., Fiers,W., Ineichen,K., Shepherd,J.C., Bickle,T.A., Denniston,K.J., Horn,G.T., Wells,R.D., Abraham,J., Smith,G.R., Comb,M., Schultz,D.W., Miller,H.I., Court,D., Fischer,R., Galindo,J.M., Guarneros,G., Hernandez,T., Montanez,C., Schindler,D., Schmeissner,U., Sosa,L., Rosenvold,E.C., Calva,E., Burgess,R.R., Lieb,M., Rosen,E.D., Hartley,J.L., Matz,K., Nichols,B.P., Young,K.M., Donelson,J.E., Mizuuchi,M., Mizuuchi,K., Meyer,B.J., Maurer,R., Ptashne,M., Hsu,P.L., Ross,W., Landy,A., Hoess,R.H., Foeller,C., Bidwell,K., Davies,R.W., Brady,C., Behr,M., Izumi,S.U., Beher,M., Izumi,S., Beck,J., Shimatake,H., Crasemann,J.M., Pirrotta,V., Walz,A., Schwarz,E., Scherer,G., Kossel,H., Franklin,N.C., Bennett,G.N., Kikuchi,Y., Nash,H., Faulds,D.H., Sprague,K.U., Grosschedl,R., Lusky,M., Denniston-Thompson,K., Kruger,K.E., Furth,M.E., Williams,B.G., Sauer,R.T., Flashman,S.M., Schreier,P.H., Buchel,D.E., Adhya,S., Gottesman,M., Roberts,T.M., Humayun,Z., Jeffrey,A., Sklar,J.L., Backman,K., Humayun,M.Z., Meyer,B., Eisen,H., Reichardt,L., Hedgepeth,J., Dahlberg,J.E., Kleid,D.G., Agarwal,K.L., Khorana,H.G., Maniatis,T., Kield,D., Flashman,S., Sklar,J., Yot,P., Weissman,S.M., Weigel,P.H., Englund,P.T., Murray,K., Old,R.W., Imada,M., Tsugita,A., Lebowitz,P., Radding,C.M., Taylor,E.</td></tr><tr><th>18</th><td>NC_001417.2</td><td></td><td>de Smit,M.H., van Duin,J., Auerswald,E.A., Horlein,D., Reinhardt,G., Schroder,W., Schnabel,E., Beremand,M.N., Blumenthal,T., Schwartz,R.M., Dayhoff,M.O., Fiers,W., Contreras,R., Duerinck,F., Haegeman,G., Iserentant,D., Merregaert,J., Min Jou,W., Molemans,F., Raeymaekers,A., Van den Berghe,A., Volckaert,G., Ysebaert,M., Haegmean,G., Jou,W.M., Raeymakers,A., Van de Kerckhove,J., Nolf,F., Van Montagu,M., Vandenberghe,A., de Wachter,R.</td></tr><tr><th>19</th><td>NC_001418.1</td><td></td><td>Luiten,R.G., Putterman,D.G., Schoenmakers,J.G., Konings,R.N., Day,L.A.</td></tr><tr><th>20</th><td>NC_001420.2</td><td></td><td>Godson,G.N., Barrell,B.G., Staden,R., Fiddes,J.C.</td></tr><tr><th>21</th><td>NC_001421.2</td><td></td><td>Saren,A.M., Ravantti,J.J., Benson,S.D., Burnett,R.M., Paulin,L., Bamford,D.H., Bamford,J.K., Hanninen,A.L., Pakula,T.M., Ojala,P.M., Kalkkinen,N., Frilander,M., Saren,A.-M.</td></tr><tr><th>22</th><td>NC_001422.1</td><td></td><td>Air,G.M., Els,M.C., Brown,L.E., Laver,W.G., Webster,R.G., Merville,M.P., Piette,J., Lopez,M., Decuyper,J., van de Vorst,A., Ueda,K., Morita,J., Komano,T., Takeshita,M., Kappen,L.S., Grollman,A.P., Eisenberg,M., Goldberg,I.H., Heidekamp,F., Langeveld,S.A., Baas,P.D., Jansz,H.S., van Mansfeld,A.D., de Winter,J.M., Weisbeek,P.J., Coulson,A.R., Fiddes,J.C., Friedmann,T., Hutchison,C.A. III, Sanger,F., Slocombe,P.M., Smith,A.J., Barrell,B.G., Brown,N.L., Smith,M., Fiddes,C.A., Hutchison,C.A., Blackburn,E.H., Galibert,F., Sedat,J.W., Ziff,E.B., Sedat,J., Ziff,E., Mansfeld,A.D., Vereijken,J.M., Weith,H.L., Donelson,J.E., Robertson,H.D.</td></tr><tr><th>23</th><td>NC_001423.1</td><td></td><td>Paces,V., Vlcek,C., Urbanek,P., Hostomsky,Z.</td></tr><tr><th>24</th><td>NC_001426.1</td><td></td><td>Inokuchi,Y., Takahashi,R., Hirose,T., Inayama,S., Jacobson,A.B., Hirashima,A.</td></tr><tr><th>25</th><td>NC_001447.1</td><td></td><td>Maniloff,J., Kampo,G.J., Dascher,C.C., Poddar,S.K., Dybvig,K.</td></tr><tr><th>26</th><td>NC_001604.1</td><td></td><td>Cheng,X., Zhang,X., Pflugrath,J.W., Studier,F.W., Liu,Q., Richardson,C.C., Mendelman,L.V., Notarnicola,S.M., Rosenberg,A.H., Patel,S.S., Johnson,K.A., Lin,L., Condron,B.G., Atkins,J.F., Gesteland,R.F., Beck,P.J., Gonzalez,S., Ward,C.L., Molineux,I.J., Casjens,S., Eppler,K., Parr,R., Poteete,A.R., Schmitt,C.K., Condreay,J.P., Huber,H.E., Beauchamp,B.B., Moffatt,B.A., Prosen,D.E., Cech,C.L., Dunn,J.J.</td></tr><tr><th>27</th><td>NC_001609.1</td><td></td><td>Haggard-Liungquist,E., Jacobsen,E., Rishovd,S., Six,W.S., Nilssen,O., Sunshine,M.G., Lindqvist,B.H., Kim,K.J., Barreiro,V., Koonin,E.V., Calendar,R., Van Bokkelen,G.B., Dale,E.C., Halling,C., Christie,G.E., Deho,G., Finkel,S., Flensburg,J., Ghisotti,D., Kahn,M.L., Lane,K.B., Lin,C.S., Pierson,L.S., Six,E.W., Ziermann,R., Halling,C.H.</td></tr><tr><th>28</th><td>NC_001629.1</td><td></td><td>Schouler,C., Ehrlich,S.D., Chopin,M.C.</td></tr><tr><th>29</th><td>NC_001697.1</td><td></td><td>Esposito,D., Fitzmaurice,W.P., Benjamin,R.C., Goodman,S.D., Waldman,A.S., Scocca,J.J., Huang,P.C.</td></tr><tr><th>30</th><td>NC_001706.1</td><td></td><td>Lubbers,M.W., Waterfield,N.R., Beresford,T.P., Le Page,R.W., Jarvis,A.W., Ward,L.J., Jarvis,B.D.</td></tr><tr><th>&vellip;</th><td>&vellip;</td><td>&vellip;</td><td>&vellip;</td></tr></tbody></table></div>"
      ],
      "text/latex": [
       "\\begin{tabular}{r|cccc}\n",
       "\t& Accession & SRA\\_Accession & Submitters & \\\\\n",
       "\t\\hline\n",
       "\t& String & String & String & \\\\\n",
       "\t\\hline\n",
       "\t1 & NC\\_000866.4 &  & Miller,E.S., Kutter,E., Mosig,G., Arisaka,F., Kunisawa,T., Ruger,W., Ho,C.K., Shuman,S., Shcherbakov,V., Granovsky,I., Plugina,L., Shcherbakova,T., Sizova,S., Pyatkov,K., Shlyapnikov,M., Shubina,O., Xu,W., Gauss,P., Shen,J., Dunn,C.A., Bessman,M.J., Truncaite,L., Zajanckauskaite,A., Nivinskas,R., Belle,A., Landthaler,M., Shub,D.A., Stehr,M., Schneider,G., Aslund,F., Holmgren,A., Lindqvist,Y., Ramanculov,E., Young,R., Vaiskunaite,R., Miller,A., Davenport,L., Colowick,N.E., Pietz,B.C., Franklin,J.L., Haseltine,D., Wang,F.J., Ripley,L.S., Paddison,P., Abedon,S.T., Dressman,H.K., Gailbreath,K., Tracy,J., Mosser,E., Neitzel,J., Guttman,B., Kim,B.C., Kim,K., Park,E.H., Lim,C.J., Kadyrov,F.A., Shlyapnikov,M.G., Kryukov,V.M., Malys,N., Carles-Kinch,K., George,J.W., Kreuzer,K.N., Kai,T., Selick,H.E., Yonesaki,T., Penner,M., Morad,I., Snyder,L., Kaufmann,G., Bova,R., Cascino,A., Cipollaro,M., Gargano,S., Grau,O., Micheli,M.R., Santoro,M., Scarlato,V., Storlazzi,A., Young,P., Ohman,M., Sjoberg,B.M., Koch,T., Bouet,J.Y., Woszczyk,J., Repoila,F., Francois,V., Louarn,J.M., Krisch,H.M., Stormo,G.D., Dyson,R.L., Alberts,B.M., Orsini,G., Ouhammouch,M., Le Caer,J.P., Brody,E.N., Hacker,K.J., Sanson,B., Uzan,M., Sharma,M., Ellis,R.L., Hinton,D.M., Raudonikiene,A., Viteniene,I., Gruidl,M.E., Chen,T.C., Efimov,V.P., Prilipov,A.G., Mesyanzhinov,V.V., Brody,E., Favre,R., Kaliman,A.V., Khasanova,M.A., Tanyashin,V.I., Bayev,A.A., Powell,D., Franklin,J., Daegelen,P., Frazier,M.W., Maley,G.F., Duceman,B.W., Wang,A.M., Martinez,J., Maley,F., Marusich,E.I., Lin,G.W., Fan,W.H., Hahn,S., Hilse,D., Lu,M.J., Henning,U., Lamm,N., Selivanov,N.A., Black,L.W., Nikolaeva,L.I., Tseng,M.J., Hilfinger,J.M., Walsh,A., Greenberg,G.R., Spicer,E.K., Rush,J., Fung,C., Reha-Krantz,L.J., Karam,J.D., Konigsberg,W.H., Ishimoto,L.K., Ishimoto,K.S., Eiserling,F.A., Nakako,T., Takahashi,H., Ishii,S., Wang,Y., Mathews,C.K., Ishimoto,L., Kassavetis,G., Kumazaki,T., Huang,W.M., Ao,S.Z., Casjens,S., Orlandi,R., Zeikus,R., Weiss,R., Winge,D., Fang,M., Montag,D., Degen,M., Riede,I., Eschbach,M.L., Tomaschewski,J., Hsu,T., Wei,R.X., Dawson,M., Gayle,M., Winter,R.B., Gold,L., Chu,F.K., Valerie,K., Stevens,J., Lynch,M., Henderson,E.E., de Riel,J.K., Hahne,S., Mathews,C.Z., Rand,K.N., Gait,M.J., West,D.K., Belfort,M., Keller,B., Bickle,T.A., Gram,H., Crabb,J.W., Fujisawa,H., Minagawa,T., Broida,J., Abelson,J., Midgley,C.A., Murray,N.E., Parker,M.L., Christensen,A.C., Boosman,A., Stockard,J., Young,E.T., Doermann,A.H., Macdonald,P.M., Sengstag,C., Kellenberger,E., Drivdahl,R., Rand,K., Trojanowska,M., Karam,J., Stormo,G., Purohit,S., Armstrong,J., Brown,R.S., Tsugita,A., Owen,J.E., Schultz,D.W., Taylor,A., Smith,G.R., Volker,T.A., Gafner,J., Showe,M.K., Allet,B., Oliver,D.B., Crowther,R.A., Pribnow,D., Sigurdson,D.C., Singer,B.S., Napoli,C., Brosius,J., Dull,T.J., Noller,H.F., Anderson,B., Zurabishvili,T., Marusich,E., Schneider,M., Mullins,T., Napuli,A., Mesyanzhinov,V., Drake,J.W., Nguyen,D., Dressman,H., Goldberg,E.B., Ueno,H., Otsuko,Y., Morimoto,W., Kreuzer,K., Stidham,T., Thomas,E., Mzhavia,N., Djavachishvili,T., Peterson,S., Eidemiller,J., Awaya,M., Canada,W., Dimitroff,B., Blattner,F., Nakanishi,M., Alberts,B., Yasuda,G., Parker,M., Doermann,G. & $\\dots$ \\\\\n",
       "\t2 & NC\\_000867.1 &  & Kivela,H.M., Mannisto,R.H., Kalkkinen,N., Bamford,D.H., Paulin,L., Bamford,J.K., Bamford,J.K.H. & $\\dots$ \\\\\n",
       "\t3 & NC\\_000871.1 &  & Desiere,F., Lucchini,S., Brussow,H. & $\\dots$ \\\\\n",
       "\t4 & NC\\_000872.1 &  & Desiere,F., Lucchini,S., Brussow,H., Bruttin,A. & $\\dots$ \\\\\n",
       "\t5 & NC\\_000896.1 &  & Altermann,E., Klein,J.R., Henrich,B., Engel,G., Klein,J., Binishofer,B., Blasi,U., Fremaux,C., De Antoni,G.L., Raya,R.R., Klaenhammer,T.R. & $\\dots$ \\\\\n",
       "\t6 & NC\\_000902.1 &  & Miyamoto,H., Nakai,W., Yajima,N., Fujibayashi,A., Higuchi,T., Sato,K., Matsushiro,A. & $\\dots$ \\\\\n",
       "\t7 & NC\\_000924.1 &  & Plunkett,G. III, Rose,D.J., Durfee,T.J., Blattner,F.R. & $\\dots$ \\\\\n",
       "\t8 & NC\\_000929.1 &  & Morgan,G.J., Hatfull,G.F., Casjens,S., Hendrix,R.W., Morgan,G., Hatfull,G., Hendrix,R. & $\\dots$ \\\\\n",
       "\t9 & NC\\_000935.1 &  & van der Wilk,F., Dullemans,A.M., Verbeek,M., van den Heuvel,J.F., van den Heuvel,J.F.J.M. & $\\dots$ \\\\\n",
       "\t10 & NC\\_001271.1 &  & Pajunen,M.I., Kiljunen,S.J., Soderholm,M.E., Skurnik,M. & $\\dots$ \\\\\n",
       "\t11 & NC\\_001317.1 &  & Portelli,R., Dodd,I.B., Xue,Q., Egan,J.B., Kalionis,B., Richardson,H., Puspurs,A. & $\\dots$ \\\\\n",
       "\t12 & NC\\_001330.1 &  & Kodaira,K., Nakano,K., Okada,S., Taketo,A., Kodaira,K.I., Tadokoro,H., Suzuki,K., Oki,M., Manto,S. & $\\dots$ \\\\\n",
       "\t13 & NC\\_001331.1 &  & Hill,D.F., Short,N.J., Perham,R.N., Petersen,G.B. & $\\dots$ \\\\\n",
       "\t14 & NC\\_001332.1 &  & Stassen,A.P., Schoenmakers,E.F., Yu,M., Schoenmakers,J.G., Konings,R.N., Konings,R.N.H. & $\\dots$ \\\\\n",
       "\t15 & NC\\_001335.1 &  & Donnelly-Wu,M.K., Jacobs,W.R. Jr., Hatfull,G.F., Sarkis,G.J. & $\\dots$ \\\\\n",
       "\t16 & NC\\_001396.1 &  & Kuo,T.T., Tan,M.S., Su,M.T., Yang,M.K. & $\\dots$ \\\\\n",
       "\t17 & NC\\_001416.1 &  & Chen,C.Y., Richardson,J.P., Peltz,S.W., Brown,A.L., Hasan,N., Podhajska,A.J., Szybalski,W., Coleclough,C., Erlitz,F.L., Place,N., Fien,K., Mahoney,M.E., Wulff,D.L., Ho,Y.S., Debouck,C., Rosenberg,M., Shih,M.C., Gussin,G.N., Frackman,S., Siegele,D.A., Feiss,M., Craig,N.L., Nash,H.A., Edlind,T.D., Cooley,T.E., Richards,S.H., Ihler,G.M., Warren,F., Das,A., Mahoney,M., Shatzman,A., Hohn,B., Taylor,A., Benedik,M., Campbell,A., Miwa,T., Matsubara,K., Mascarenhas,D., Luk,K.C., Kobayashi,I., Widner,W., Knight,D.M., Echols,H., Daniels,D.L., Schroeder,J.L., Sanger,F., Blattner,F.R., Coulson,A.R., Hong,G.F., Hill,D.F., Petersen,G.B., Kroger,M., Hobom,G., Landsmann,J., Lau,L.F., Roberts,J.W., Wu,R., Hawley,D.K., McClure,W.R., Moore,D.D., Hyman,H.C., Honigman,A., Kravchenko,V.V., Mikryukov,N.N., Drahos,D., Petrov,N.A., Karginov,V.A., Mikriukov,N.N., Serpinski,O.I., Remaut,E., Stanssens,P., Fiers,W., Ineichen,K., Shepherd,J.C., Bickle,T.A., Denniston,K.J., Horn,G.T., Wells,R.D., Abraham,J., Smith,G.R., Comb,M., Schultz,D.W., Miller,H.I., Court,D., Fischer,R., Galindo,J.M., Guarneros,G., Hernandez,T., Montanez,C., Schindler,D., Schmeissner,U., Sosa,L., Rosenvold,E.C., Calva,E., Burgess,R.R., Lieb,M., Rosen,E.D., Hartley,J.L., Matz,K., Nichols,B.P., Young,K.M., Donelson,J.E., Mizuuchi,M., Mizuuchi,K., Meyer,B.J., Maurer,R., Ptashne,M., Hsu,P.L., Ross,W., Landy,A., Hoess,R.H., Foeller,C., Bidwell,K., Davies,R.W., Brady,C., Behr,M., Izumi,S.U., Beher,M., Izumi,S., Beck,J., Shimatake,H., Crasemann,J.M., Pirrotta,V., Walz,A., Schwarz,E., Scherer,G., Kossel,H., Franklin,N.C., Bennett,G.N., Kikuchi,Y., Nash,H., Faulds,D.H., Sprague,K.U., Grosschedl,R., Lusky,M., Denniston-Thompson,K., Kruger,K.E., Furth,M.E., Williams,B.G., Sauer,R.T., Flashman,S.M., Schreier,P.H., Buchel,D.E., Adhya,S., Gottesman,M., Roberts,T.M., Humayun,Z., Jeffrey,A., Sklar,J.L., Backman,K., Humayun,M.Z., Meyer,B., Eisen,H., Reichardt,L., Hedgepeth,J., Dahlberg,J.E., Kleid,D.G., Agarwal,K.L., Khorana,H.G., Maniatis,T., Kield,D., Flashman,S., Sklar,J., Yot,P., Weissman,S.M., Weigel,P.H., Englund,P.T., Murray,K., Old,R.W., Imada,M., Tsugita,A., Lebowitz,P., Radding,C.M., Taylor,E. & $\\dots$ \\\\\n",
       "\t18 & NC\\_001417.2 &  & de Smit,M.H., van Duin,J., Auerswald,E.A., Horlein,D., Reinhardt,G., Schroder,W., Schnabel,E., Beremand,M.N., Blumenthal,T., Schwartz,R.M., Dayhoff,M.O., Fiers,W., Contreras,R., Duerinck,F., Haegeman,G., Iserentant,D., Merregaert,J., Min Jou,W., Molemans,F., Raeymaekers,A., Van den Berghe,A., Volckaert,G., Ysebaert,M., Haegmean,G., Jou,W.M., Raeymakers,A., Van de Kerckhove,J., Nolf,F., Van Montagu,M., Vandenberghe,A., de Wachter,R. & $\\dots$ \\\\\n",
       "\t19 & NC\\_001418.1 &  & Luiten,R.G., Putterman,D.G., Schoenmakers,J.G., Konings,R.N., Day,L.A. & $\\dots$ \\\\\n",
       "\t20 & NC\\_001420.2 &  & Godson,G.N., Barrell,B.G., Staden,R., Fiddes,J.C. & $\\dots$ \\\\\n",
       "\t21 & NC\\_001421.2 &  & Saren,A.M., Ravantti,J.J., Benson,S.D., Burnett,R.M., Paulin,L., Bamford,D.H., Bamford,J.K., Hanninen,A.L., Pakula,T.M., Ojala,P.M., Kalkkinen,N., Frilander,M., Saren,A.-M. & $\\dots$ \\\\\n",
       "\t22 & NC\\_001422.1 &  & Air,G.M., Els,M.C., Brown,L.E., Laver,W.G., Webster,R.G., Merville,M.P., Piette,J., Lopez,M., Decuyper,J., van de Vorst,A., Ueda,K., Morita,J., Komano,T., Takeshita,M., Kappen,L.S., Grollman,A.P., Eisenberg,M., Goldberg,I.H., Heidekamp,F., Langeveld,S.A., Baas,P.D., Jansz,H.S., van Mansfeld,A.D., de Winter,J.M., Weisbeek,P.J., Coulson,A.R., Fiddes,J.C., Friedmann,T., Hutchison,C.A. III, Sanger,F., Slocombe,P.M., Smith,A.J., Barrell,B.G., Brown,N.L., Smith,M., Fiddes,C.A., Hutchison,C.A., Blackburn,E.H., Galibert,F., Sedat,J.W., Ziff,E.B., Sedat,J., Ziff,E., Mansfeld,A.D., Vereijken,J.M., Weith,H.L., Donelson,J.E., Robertson,H.D. & $\\dots$ \\\\\n",
       "\t23 & NC\\_001423.1 &  & Paces,V., Vlcek,C., Urbanek,P., Hostomsky,Z. & $\\dots$ \\\\\n",
       "\t24 & NC\\_001426.1 &  & Inokuchi,Y., Takahashi,R., Hirose,T., Inayama,S., Jacobson,A.B., Hirashima,A. & $\\dots$ \\\\\n",
       "\t25 & NC\\_001447.1 &  & Maniloff,J., Kampo,G.J., Dascher,C.C., Poddar,S.K., Dybvig,K. & $\\dots$ \\\\\n",
       "\t26 & NC\\_001604.1 &  & Cheng,X., Zhang,X., Pflugrath,J.W., Studier,F.W., Liu,Q., Richardson,C.C., Mendelman,L.V., Notarnicola,S.M., Rosenberg,A.H., Patel,S.S., Johnson,K.A., Lin,L., Condron,B.G., Atkins,J.F., Gesteland,R.F., Beck,P.J., Gonzalez,S., Ward,C.L., Molineux,I.J., Casjens,S., Eppler,K., Parr,R., Poteete,A.R., Schmitt,C.K., Condreay,J.P., Huber,H.E., Beauchamp,B.B., Moffatt,B.A., Prosen,D.E., Cech,C.L., Dunn,J.J. & $\\dots$ \\\\\n",
       "\t27 & NC\\_001609.1 &  & Haggard-Liungquist,E., Jacobsen,E., Rishovd,S., Six,W.S., Nilssen,O., Sunshine,M.G., Lindqvist,B.H., Kim,K.J., Barreiro,V., Koonin,E.V., Calendar,R., Van Bokkelen,G.B., Dale,E.C., Halling,C., Christie,G.E., Deho,G., Finkel,S., Flensburg,J., Ghisotti,D., Kahn,M.L., Lane,K.B., Lin,C.S., Pierson,L.S., Six,E.W., Ziermann,R., Halling,C.H. & $\\dots$ \\\\\n",
       "\t28 & NC\\_001629.1 &  & Schouler,C., Ehrlich,S.D., Chopin,M.C. & $\\dots$ \\\\\n",
       "\t29 & NC\\_001697.1 &  & Esposito,D., Fitzmaurice,W.P., Benjamin,R.C., Goodman,S.D., Waldman,A.S., Scocca,J.J., Huang,P.C. & $\\dots$ \\\\\n",
       "\t30 & NC\\_001706.1 &  & Lubbers,M.W., Waterfield,N.R., Beresford,T.P., Le Page,R.W., Jarvis,A.W., Ward,L.J., Jarvis,B.D. & $\\dots$ \\\\\n",
       "\t$\\dots$ & $\\dots$ & $\\dots$ & $\\dots$ &  \\\\\n",
       "\\end{tabular}\n"
      ],
      "text/plain": [
       "\u001b[1m4569×23 DataFrame\u001b[0m\n",
       "\u001b[1m  Row \u001b[0m│\u001b[1m Accession   \u001b[0m\u001b[1m SRA_Accession \u001b[0m\u001b[1m Submitters                        \u001b[0m\u001b[1m Release\u001b[0m ⋯\n",
       "\u001b[1m      \u001b[0m│\u001b[90m String      \u001b[0m\u001b[90m String        \u001b[0m\u001b[90m String                            \u001b[0m\u001b[90m String \u001b[0m ⋯\n",
       "──────┼─────────────────────────────────────────────────────────────────────────\n",
       "    1 │ NC_000866.4                 Miller,E.S., Kutter,E., Mosig,G.…  1999-07 ⋯\n",
       "    2 │ NC_000867.1                 Kivela,H.M., Mannisto,R.H., Kalk…  1999-07\n",
       "    3 │ NC_000871.1                 Desiere,F., Lucchini,S., Brussow…  1999-07\n",
       "    4 │ NC_000872.1                 Desiere,F., Lucchini,S., Brussow…  1999-07\n",
       "    5 │ NC_000896.1                 Altermann,E., Klein,J.R., Henric…  1999-08 ⋯\n",
       "    6 │ NC_000902.1                 Miyamoto,H., Nakai,W., Yajima,N.…  1999-09\n",
       "    7 │ NC_000924.1                 Plunkett,G. III, Rose,D.J., Durf…  1999-04\n",
       "    8 │ NC_000929.1                 Morgan,G.J., Hatfull,G.F., Casje…  1999-10\n",
       "    9 │ NC_000935.1                 van der Wilk,F., Dullemans,A.M.,…  1999-10 ⋯\n",
       "   10 │ NC_001271.1                 Pajunen,M.I., Kiljunen,S.J., Sod…  1999-12\n",
       "   11 │ NC_001317.1                 Portelli,R., Dodd,I.B., Xue,Q., …  1995-09\n",
       "  ⋮   │      ⋮             ⋮                        ⋮                          ⋱\n",
       " 4560 │ NC_055914.1                 Ismail,A., Veeramachaneni,S., Fr…  2021-06\n",
       " 4561 │ NC_055915.1                 Hoetzinger,M., Nilsson,E., Holmf…  2021-06 ⋯\n",
       " 4562 │ NC_055916.1                 Liu,A.A., Ma,F.F.                  2021-06\n",
       " 4563 │ NC_055917.1                 Brown,N.J., Benedetto,N.J., Temp…  2021-06\n",
       " 4564 │ NC_055918.1                 Adkins,J.M., Alame,N.W., Araujo,…  2021-06\n",
       " 4565 │ NC_055919.1                 Li,S., Lin,Y.                      2021-06 ⋯\n",
       " 4566 │ NC_055920.1                 Dennis,E.A., Alston,T.C., Buckle…  2021-06\n",
       " 4567 │ NC_055921.1                 Shang,Y.                           2021-06\n",
       " 4568 │ NC_055956.1                 Dunstan,R.A., Pickard,D., Lithgo…  2021-10\n",
       " 4569 │ NC_056724.1                 Mahanivong,C., Boyce,J.D., David…  2021-08 ⋯\n",
       "\u001b[36m                                                20 columns and 4548 rows omitted\u001b[0m"
      ]
     },
     "execution_count": 26,
     "metadata": {},
     "output_type": "execute_result"
    }
   ],
   "source": [
    "# https://www.ncbi.nlm.nih.gov/labs/virus/vssi/#/virus?SeqType_s=Nucleotide&VirusLineage_ss=Bacteriophage,%20all%20taxids&Completeness_s=complete\n",
    "entity_metadata = DataFrames.DataFrame(uCSV.read(\"$(MYCELIA_METADATA)/2021-11-13-ncbi-complete-bacteriophage.csv\", header=1, quotes='\"')...)\n",
    "entity_metadata = entity_metadata[entity_metadata[!, \"Nuc_Completeness\"] .== \"complete\", :]\n",
    "entity_metadata = entity_metadata[entity_metadata[!, \"Sequence_Type\"] .== \"RefSeq\", :]\n",
    "sort!(entity_metadata, \"Accession\")"
   ]
  },
  {
   "cell_type": "code",
   "execution_count": 27,
   "metadata": {},
   "outputs": [
    {
     "data": {
      "text/html": [
       "<div class=\"data-frame\"><p>10 rows × 23 columns (omitted printing of 20 columns)</p><table class=\"data-frame\"><thead><tr><th></th><th>Accession</th><th>SRA_Accession</th><th>Submitters</th></tr><tr><th></th><th title=\"String\">String</th><th title=\"String\">String</th><th title=\"String\">String</th></tr></thead><tbody><tr><th>1</th><td>NC_005355.1</td><td></td><td>Ventura,M., Canchaya,C., Pridmore,R.D., Brussow,H., Canchaya,C.A., Pridmore,D., Bruessow,H.</td></tr><tr><th>2</th><td>NC_020844.1</td><td></td><td>Henn,M.R., Dillon,J., Levin,J., Malboeuf,C., Casali,M., Russ,C., Lennon,N., Chapman,S.B., Erlich,R., Young,S.K., Yandava,C., Zeng,Q., Alvarado,L., Anderson,S., Berlin,A., Chen,Z., Freedman,E., Gellesch,M., Goldberg,J., Green,L., Griggs,A., Gujja,S., Heilman,E.R., Heiman,D., Hollinger,A., Howarth,C., Larson,L., Mehta,T., Pearson,M., Roberts,A., Ryan,E., Saif,S., Shea,T., Shenoy,N., Sisk,P., Stolte,C., Sykes,S., White,J., Haas,B., Nusbaum,C., Birren,B.</td></tr><tr><th>3</th><td>NC_022057.1</td><td></td><td>Farina,J., Richards,K., Hiller,J., Gannon,D., Reifsnyder,R., Vogel,A., Ganski,A., Massaley,M., Carzo,S., Brower,C., Semler,R., Smith,V., Friel,S., Flynn,L., Moran,D.J., Wodarski,D.M., Harrison,M.A., Dunbar,D.A., Wang,X., Crowell,R., Bostrom,M.A., Burke,M., Wright,G.M., Gregory,S.G., Colman,S.D., Bradley,K.W., Khaja,R., Lewis,M.F., Barker,L.P., Asai,D.J., Bowman,C.A., Russell,D.A., Pope,W.H., Jacobs-Sera,D., Hendrix,R.W., Hatfull,G.F.</td></tr><tr><th>4</th><td>NC_027365.1</td><td></td><td>Hatfull,G.F., Jamborcic,A., Chen,D., Mazahreh,R., Pirahanchi,Y., Mcburney-Lin,J., Beckham,A., Rich,B., Cidambi,V., Brooks,G., Jones,S., Ricci-Tam,C., Evangelista,N., Shi,E., Matinrad,H., Coker,J., Hill,R., Lam,D., Zhang,J., Dimopoulos,C., Khan,S., Wong,A., Chou,J., Hwang,V., Chen,A., Zhang,C., Wu,K., Nguyen,E., Magarian,J., Nonejuie,P., Pogliano,K., Pogliano,J., Lee,V., Hendricks,S.L., Voegtly,L.J., Wang,Y., Glascock,A.L., Anderson,J., Williamson,S.M., Walstead,R.N., Carvalho,M.R.C., Johnson,A., Buck,G.A., Bradley,K.W., Khaja,R., Lewis,M.F., Barker,L.P., Jordan,T.C., Russell,D.A., Pope,W.H., Jacobs-Sera,D., Hendrix,R.W.</td></tr><tr><th>5</th><td>NC_028667.1</td><td></td><td>Pourcel,C., Midoux,C., Bourkaltseva,M., Pleteneva,E., Krylov,V.</td></tr><tr><th>6</th><td>NC_028974.1</td><td></td><td>Djamen,P.Y., Nguyen,L., Gibbs,Z.A., Donegan-Quick,R., Visi,D.K., Allen,M.S., Hughes,L.E., Bradley,K.W., Asai,D.J., Bowman,C.A., Russell,D.A., Pope,W.H., Jacobs-Sera,D., Hendrix,R.W., Hatfull,G.F.</td></tr><tr><th>7</th><td>NC_031230.1</td><td></td><td>Bandyopadhyay,A., Carlton,M.L., Kane,M.T., Panchal,N.J., Pham,Y.C., Reynolds,Z.J., Sapienza,M.S., German,B.A., McDonnell,J.E., Schafer,C.E., Yu,V.J., Warner,M.H., Furbee,E.C., Grubb,S.R., Montgomery,M.T., Garlena,R.A., Russell,D.A., Pope,W.H., Jacobs-Sera,D., Hendrix,R.W., Hatfull,G.F.</td></tr><tr><th>8</th><td>NC_047712.1</td><td></td><td>Gregory,A.C., LaButti,K., Copeland,A., Woyke,T., Sullivan,M.B.</td></tr><tr><th>9</th><td>NC_051670.1</td><td></td><td>Alvarez,R.V., Connors,B., Jenkins,J., Bandura,A.J., Lazo,A.N., Lorang,A.C., Mazariego,B.E., Mendez,P.D., Myrthil,G.D., Wright,J., Gurney,S.M.R., Garlena,R.A., Russell,D.A., Pope,W.H., Jacobs-Sera,D., Hatfull,G.F.</td></tr><tr><th>10</th><td>NC_054986.1</td><td></td><td>Pujato,S.A., Guglielmotti,D.M., Martinez-Garcia,M., Quiberoni,A., Mojica,F.J.M., Mojica,F.J.</td></tr></tbody></table></div>"
      ],
      "text/latex": [
       "\\begin{tabular}{r|cccc}\n",
       "\t& Accession & SRA\\_Accession & Submitters & \\\\\n",
       "\t\\hline\n",
       "\t& String & String & String & \\\\\n",
       "\t\\hline\n",
       "\t1 & NC\\_005355.1 &  & Ventura,M., Canchaya,C., Pridmore,R.D., Brussow,H., Canchaya,C.A., Pridmore,D., Bruessow,H. & $\\dots$ \\\\\n",
       "\t2 & NC\\_020844.1 &  & Henn,M.R., Dillon,J., Levin,J., Malboeuf,C., Casali,M., Russ,C., Lennon,N., Chapman,S.B., Erlich,R., Young,S.K., Yandava,C., Zeng,Q., Alvarado,L., Anderson,S., Berlin,A., Chen,Z., Freedman,E., Gellesch,M., Goldberg,J., Green,L., Griggs,A., Gujja,S., Heilman,E.R., Heiman,D., Hollinger,A., Howarth,C., Larson,L., Mehta,T., Pearson,M., Roberts,A., Ryan,E., Saif,S., Shea,T., Shenoy,N., Sisk,P., Stolte,C., Sykes,S., White,J., Haas,B., Nusbaum,C., Birren,B. & $\\dots$ \\\\\n",
       "\t3 & NC\\_022057.1 &  & Farina,J., Richards,K., Hiller,J., Gannon,D., Reifsnyder,R., Vogel,A., Ganski,A., Massaley,M., Carzo,S., Brower,C., Semler,R., Smith,V., Friel,S., Flynn,L., Moran,D.J., Wodarski,D.M., Harrison,M.A., Dunbar,D.A., Wang,X., Crowell,R., Bostrom,M.A., Burke,M., Wright,G.M., Gregory,S.G., Colman,S.D., Bradley,K.W., Khaja,R., Lewis,M.F., Barker,L.P., Asai,D.J., Bowman,C.A., Russell,D.A., Pope,W.H., Jacobs-Sera,D., Hendrix,R.W., Hatfull,G.F. & $\\dots$ \\\\\n",
       "\t4 & NC\\_027365.1 &  & Hatfull,G.F., Jamborcic,A., Chen,D., Mazahreh,R., Pirahanchi,Y., Mcburney-Lin,J., Beckham,A., Rich,B., Cidambi,V., Brooks,G., Jones,S., Ricci-Tam,C., Evangelista,N., Shi,E., Matinrad,H., Coker,J., Hill,R., Lam,D., Zhang,J., Dimopoulos,C., Khan,S., Wong,A., Chou,J., Hwang,V., Chen,A., Zhang,C., Wu,K., Nguyen,E., Magarian,J., Nonejuie,P., Pogliano,K., Pogliano,J., Lee,V., Hendricks,S.L., Voegtly,L.J., Wang,Y., Glascock,A.L., Anderson,J., Williamson,S.M., Walstead,R.N., Carvalho,M.R.C., Johnson,A., Buck,G.A., Bradley,K.W., Khaja,R., Lewis,M.F., Barker,L.P., Jordan,T.C., Russell,D.A., Pope,W.H., Jacobs-Sera,D., Hendrix,R.W. & $\\dots$ \\\\\n",
       "\t5 & NC\\_028667.1 &  & Pourcel,C., Midoux,C., Bourkaltseva,M., Pleteneva,E., Krylov,V. & $\\dots$ \\\\\n",
       "\t6 & NC\\_028974.1 &  & Djamen,P.Y., Nguyen,L., Gibbs,Z.A., Donegan-Quick,R., Visi,D.K., Allen,M.S., Hughes,L.E., Bradley,K.W., Asai,D.J., Bowman,C.A., Russell,D.A., Pope,W.H., Jacobs-Sera,D., Hendrix,R.W., Hatfull,G.F. & $\\dots$ \\\\\n",
       "\t7 & NC\\_031230.1 &  & Bandyopadhyay,A., Carlton,M.L., Kane,M.T., Panchal,N.J., Pham,Y.C., Reynolds,Z.J., Sapienza,M.S., German,B.A., McDonnell,J.E., Schafer,C.E., Yu,V.J., Warner,M.H., Furbee,E.C., Grubb,S.R., Montgomery,M.T., Garlena,R.A., Russell,D.A., Pope,W.H., Jacobs-Sera,D., Hendrix,R.W., Hatfull,G.F. & $\\dots$ \\\\\n",
       "\t8 & NC\\_047712.1 &  & Gregory,A.C., LaButti,K., Copeland,A., Woyke,T., Sullivan,M.B. & $\\dots$ \\\\\n",
       "\t9 & NC\\_051670.1 &  & Alvarez,R.V., Connors,B., Jenkins,J., Bandura,A.J., Lazo,A.N., Lorang,A.C., Mazariego,B.E., Mendez,P.D., Myrthil,G.D., Wright,J., Gurney,S.M.R., Garlena,R.A., Russell,D.A., Pope,W.H., Jacobs-Sera,D., Hatfull,G.F. & $\\dots$ \\\\\n",
       "\t10 & NC\\_054986.1 &  & Pujato,S.A., Guglielmotti,D.M., Martinez-Garcia,M., Quiberoni,A., Mojica,F.J.M., Mojica,F.J. & $\\dots$ \\\\\n",
       "\\end{tabular}\n"
      ],
      "text/plain": [
       "\u001b[1m10×23 DataFrame\u001b[0m\n",
       "\u001b[1m Row \u001b[0m│\u001b[1m Accession   \u001b[0m\u001b[1m SRA_Accession \u001b[0m\u001b[1m Submitters                        \u001b[0m\u001b[1m Release_\u001b[0m ⋯\n",
       "\u001b[1m     \u001b[0m│\u001b[90m String      \u001b[0m\u001b[90m String        \u001b[0m\u001b[90m String                            \u001b[0m\u001b[90m String  \u001b[0m ⋯\n",
       "─────┼──────────────────────────────────────────────────────────────────────────\n",
       "   1 │ NC_005355.1                 Ventura,M., Canchaya,C., Pridmor…  2004-01- ⋯\n",
       "   2 │ NC_020844.1                 Henn,M.R., Dillon,J., Levin,J., …  2013-03-\n",
       "   3 │ NC_022057.1                 Farina,J., Richards,K., Hiller,J…  2013-08-\n",
       "   4 │ NC_027365.1                 Hatfull,G.F., Jamborcic,A., Chen…  2015-06-\n",
       "   5 │ NC_028667.1                 Pourcel,C., Midoux,C., Bourkalts…  2015-12- ⋯\n",
       "   6 │ NC_028974.1                 Djamen,P.Y., Nguyen,L., Gibbs,Z.…  2016-01-\n",
       "   7 │ NC_031230.1                 Bandyopadhyay,A., Carlton,M.L., …  2016-09-\n",
       "   8 │ NC_047712.1                 Gregory,A.C., LaButti,K., Copela…  2020-05-\n",
       "   9 │ NC_051670.1                 Alvarez,R.V., Connors,B., Jenkin…  2020-11- ⋯\n",
       "  10 │ NC_054986.1                 Pujato,S.A., Guglielmotti,D.M., …  2021-05-\n",
       "\u001b[36m                                                              20 columns omitted\u001b[0m"
      ]
     },
     "execution_count": 27,
     "metadata": {},
     "output_type": "execute_result"
    }
   ],
   "source": [
    "Random.seed!(0)\n",
    "n_samples = 10\n",
    "subset_indices = StatsBase.sample(1:size(entity_metadata, 1), n_samples, ordered=true, replace=false)\n",
    "entity_metadata = entity_metadata[subset_indices, :]\n",
    "# n_samples = size(entity_metadata, 1)"
   ]
  },
  {
   "cell_type": "code",
   "execution_count": 28,
   "metadata": {},
   "outputs": [
    {
     "name": "stdout",
     "output_type": "stream",
     "text": [
      "\u001b[1m10×23 DataFrame\u001b[0m\n",
      "\u001b[1m Row \u001b[0m│\u001b[1m Accession   \u001b[0m\u001b[1m SRA_Accession \u001b[0m\u001b[1m Submitters                        \u001b[0m\u001b[1m Release_Date         \u001b[0m\u001b[1m Isolate   \u001b[0m\u001b[1m Species                           \u001b[0m\u001b[1m Genus          \u001b[0m\u001b[1m Family       \u001b[0m\u001b[1m Molecule_type \u001b[0m\u001b[1m Length \u001b[0m\u001b[1m Sequence_Type \u001b[0m\u001b[1m Nuc_Completeness \u001b[0m\u001b[1m Genotype \u001b[0m\u001b[1m Segment \u001b[0m\u001b[1m Publications \u001b[0m\u001b[1m Geo_Location                     \u001b[0m\u001b[1m Country \u001b[0m\u001b[1m USA    \u001b[0m\u001b[1m Host                              \u001b[0m\u001b[1m Isolation_Source \u001b[0m\u001b[1m Collection_Date \u001b[0m\u001b[1m BioSample \u001b[0m\u001b[1m GenBank_Title                     \u001b[0m\n",
      "\u001b[1m     \u001b[0m│\u001b[90m String      \u001b[0m\u001b[90m String        \u001b[0m\u001b[90m String                            \u001b[0m\u001b[90m String               \u001b[0m\u001b[90m String    \u001b[0m\u001b[90m String                            \u001b[0m\u001b[90m String         \u001b[0m\u001b[90m String       \u001b[0m\u001b[90m String        \u001b[0m\u001b[90m Int64  \u001b[0m\u001b[90m String        \u001b[0m\u001b[90m String           \u001b[0m\u001b[90m String   \u001b[0m\u001b[90m String  \u001b[0m\u001b[90m String       \u001b[0m\u001b[90m String                           \u001b[0m\u001b[90m String  \u001b[0m\u001b[90m String \u001b[0m\u001b[90m String                            \u001b[0m\u001b[90m String           \u001b[0m\u001b[90m String          \u001b[0m\u001b[90m String    \u001b[0m\u001b[90m String                            \u001b[0m\n",
      "─────┼─────────────────────────────────────────────────────────────────────────────────────────────────────────────────────────────────────────────────────────────────────────────────────────────────────────────────────────────────────────────────────────────────────────────────────────────────────────────────────────────────────────────────────────────────────────────────────────────────────────────────────────────────\n",
      "   1 │ NC_005355.1                 Ventura,M., Canchaya,C., Pridmor…  2004-01-23T00:00:00Z             Lactobacillus prophage Lj965                       Siphoviridae  dsDNA           40190  RefSeq         complete                             1                                                                Lactobacillus johnsonii                                                          Lactobacillus prophage Lj965, co…\n",
      "   2 │ NC_020844.1                 Henn,M.R., Dillon,J., Levin,J., …  2013-03-30T00:00:00Z             Salicola phage CGphi29                             Siphoviridae  dsDNA           40695  RefSeq         complete                                           USA: Cargill Saltern, Newark, CA  USA      CA      Salicola                                             2008-01-25                  Salicola phage CGphi29 genomic s…\n",
      "   3 │ NC_022057.1                 Farina,J., Richards,K., Hiller,J…  2013-08-14T00:00:00Z             Mycobacterium phage Catdawg        Corndogvirus    Siphoviridae  dsDNA           72108  RefSeq         complete                                           USA: Radnor, PA                   USA      PA      Mycolicibacterium smegmatis MC2 …                    2011-10-01                  Mycobacterium phage Catdawg, com…\n",
      "   4 │ NC_027365.1                 Hatfull,G.F., Jamborcic,A., Chen…  2015-06-24T00:00:00Z             Mycobacterium virus Fionnbarth     Timquatrovirus  Siphoviridae  dsDNA           58076  RefSeq         complete                             1             USA: La Jolla, CA                 USA      CA      Mycolicibacterium smegmatis MC2 …                    2010-10-01                  Mycobacterium virus Fionnbarth, …\n",
      "   5 │ NC_028667.1                 Pourcel,C., Midoux,C., Bourkalts…  2015-12-17T00:00:00Z             Pseudomonas virus PM105            Beetrevirus     Siphoviridae  dsDNA           39593  RefSeq         complete                             1             Russia                            Russia           Pseudomonas aeruginosa                                                           Pseudomonas phage vB_PaeS_PM105\n",
      "   6 │ NC_028974.1                 Djamen,P.Y., Nguyen,L., Gibbs,Z.…  2016-01-05T00:00:00Z             Streptomyces virus YDN12           Woodruffvirus   Siphoviridae  dsDNA           56528  RefSeq         complete                                           USA: Richardson, TX               USA      TX      Streptomyces griseus                                 2012-06-10                  Streptomyces phage YDN12, comple…\n",
      "   7 │ NC_031230.1                 Bandyopadhyay,A., Carlton,M.L., …  2016-09-27T00:00:00Z             Gordonia virus Yvonnetastic        Yvonnevirus     Siphoviridae  dsDNA           98136  RefSeq         complete                                           USA: Pittsburgh, PA               USA      PA      Gordonia terrae                                      2015-10-01                  Gordonia phage Yvonnetastic, com…\n",
      "   8 │ NC_047712.1                 Gregory,A.C., LaButti,K., Copela…  2020-05-15T00:00:00Z  Syn7803C7  Synechococcus virus AC2014fSyn78…  Atlauavirus     Myoviridae    dsDNA          216628  RefSeq         complete                                                                                              Synechococcus                                                                    Synechococcus phage ACG-2014f is…\n",
      "   9 │ NC_051670.1                 Alvarez,R.V., Connors,B., Jenkin…  2020-11-29T00:00:00Z             Mycobacterium phage Juice456       Cheoctovirus    Siphoviridae  dsDNA           56726  RefSeq         complete                                           USA: Orangeburg, NY               USA      NY      Mycolicibacterium smegmatis                          2018-08-01                  Mycobacterium phage Juice456, co…\n",
      "  10 │ NC_054986.1                 Pujato,S.A., Guglielmotti,D.M., …  2021-05-27T00:00:00Z             Leuconostoc virus LDG              Limdunavirus    Siphoviridae  dsDNA           26559  RefSeq         complete                             1                                                                Leuconostoc pseudomesenteroides                                                  Leuconostoc phage LDG, complete …"
     ]
    }
   ],
   "source": [
    "# download genomic fasta files\n",
    "show(entity_metadata, allcols=true)"
   ]
  },
  {
   "cell_type": "code",
   "execution_count": 29,
   "metadata": {},
   "outputs": [
    {
     "data": {
      "text/plain": [
       "46-element Vector{FASTX.FASTA.Record}:\n",
       " FASTX.FASTA.Record:\n",
       "   identifier: NP_958556.1\n",
       "  description: site-specific integrase\n",
       "     sequence: MPKRKNTSIKDYKLKSGKKRYEFVISLGQNSNGDRVQVH…\n",
       " FASTX.FASTA.Record:\n",
       "   identifier: NP_958557.1\n",
       "  description: Ltp family lipoprotein\n",
       "     sequence: MSKKITGEDGKVYVEQKPFYKRAWFWIVVVVLVVVIGGA…\n",
       " FASTX.FASTA.Record:\n",
       "   identifier: NP_958558.1\n",
       "  description: hypothetical protein\n",
       "     sequence: MRVFLLEIYCMPLFIPKYFIVHNANDIKLKANHGGLKVN…\n",
       " FASTX.FASTA.Record:\n",
       "   identifier: NP_958559.1\n",
       "  description: DUF1828 domain-containing protein\n",
       "     sequence: MTLADKLLTDYVNWYKKEAKFKDLSQNVIRIEVPFLDSF…\n",
       " FASTX.FASTA.Record:\n",
       "   identifier: NP_958560.1\n",
       "  description: hypothetical protein\n",
       "     sequence: MDLEKLSDNEVDELIDEAKHFFESFTLNVPLGKFNEDHI…\n",
       " FASTX.FASTA.Record:\n",
       "   identifier: NP_958561.1\n",
       "  description: ImmA/IrrE family metallo-endopeptidase\n",
       "     sequence: MYQTPEQKTAARNQVIRWLMNYALDHQYGVTFSYAAEND…\n",
       " FASTX.FASTA.Record:\n",
       "   identifier: NP_958562.1\n",
       "  description: helix-turn-helix transcriptional regulator\n",
       "     sequence: MIDDRITLAKKIINLREDRNMSQIELSEKTGIERTALNK…\n",
       " FASTX.FASTA.Record:\n",
       "   identifier: NP_958563.1\n",
       "  description: helix-turn-helix transcriptional regulator\n",
       "     sequence: MTKAINLPLIKATRLRLGYTNEEMASALGLSGADKYYRR…\n",
       " FASTX.FASTA.Record:\n",
       "   identifier: NP_958564.1\n",
       "  description: antirepressor Ant\n",
       "     sequence: MKDLIQIKVENDQQLVSARDLHKALGFKKKFSGWWEQNQ…\n",
       " FASTX.FASTA.Record:\n",
       "   identifier: NP_958565.1\n",
       "  description: hypothetical protein\n",
       "     sequence: MKMKKDDLTIKAFIYTERNHNMSWQRVEEVLQIKNISLK…\n",
       " FASTX.FASTA.Record:\n",
       "   identifier: NP_958566.1\n",
       "  description: helix-turn-helix domain-containing protein\n",
       "     sequence: MQIAIPERVIERAIQQKYFNVTASANFLGVSPSTFRIWL…\n",
       " FASTX.FASTA.Record:\n",
       "   identifier: NP_958567.1\n",
       "  description: hypothetical protein\n",
       "     sequence: MSKWINHKINEFMGTDFTVRETEILALGTMCTALVALIF…\n",
       " FASTX.FASTA.Record:\n",
       "   identifier: NP_958568.1\n",
       "  description: hypothetical protein\n",
       "     sequence: MKEFDPRDLWKLQEVNGMVLRDIHGIDVAIGKGFEYKNI…\n",
       " ⋮\n",
       " FASTX.FASTA.Record:\n",
       "   identifier: NP_958590.1\n",
       "  description: tail protein\n",
       "     sequence: MNNVKFYSDLLTLDLQRFAVDSSEGLAGTGTTLERSVDG…\n",
       " FASTX.FASTA.Record:\n",
       "   identifier: NP_958591.1\n",
       "  description: DUF6096 family protein\n",
       "     sequence: MATTIKKATKTVQLGDLELNLKLGGREIFKIERRLGKSM…\n",
       " FASTX.FASTA.Record:\n",
       "   identifier: NP_958592.1\n",
       "  description: hypothetical protein\n",
       "     sequence: MDFGEIMTQISANEKRRLEDLRAKAYMDHRLSEMMAFAF…\n",
       " FASTX.FASTA.Record:\n",
       "   identifier: NP_958593.1\n",
       "  description: lytic transglycosylase\n",
       "     sequence: MDLEELELRFRANYGDVIQKIDELTNLIVQKTGDMQYKM…\n",
       " FASTX.FASTA.Record:\n",
       "   identifier: NP_958594.1\n",
       "  description: hypothetical protein\n",
       "     sequence: LYSLKISGTVVNPAPQTMQVTIQDIDAKATRDAQGLLHR…\n",
       " FASTX.FASTA.Record:\n",
       "   identifier: NP_958595.1\n",
       "  description: hypothetical protein\n",
       "     sequence: LLTQTKEVRDAWRASQRTLDIKVAVNGKTYTATDINSLK…\n",
       " FASTX.FASTA.Record:\n",
       "   identifier: NP_958596.1\n",
       "  description: hypothetical protein\n",
       "     sequence: MLKTSKSIAISGRSMVDDKQVATFNANIYEANASGGSDN…\n",
       " FASTX.FASTA.Record:\n",
       "   identifier: NP_958597.1\n",
       "  description: hypothetical protein\n",
       "     sequence: MNEIAKLWENIKQNPLHLIIGLMIFLSGSFLLLCDDFFL…\n",
       " FASTX.FASTA.Record:\n",
       "   identifier: NP_958598.1\n",
       "  description: hypothetical protein\n",
       "     sequence: VQEWIDFVQKIAFLISSIVGLLTIFNTLKQTDYSNAKEK…\n",
       " FASTX.FASTA.Record:\n",
       "   identifier: NP_958599.1\n",
       "  description: holin\n",
       "     sequence: MNNILVNVSAVIVALVLSYFVFWYRNHKIEIDKKRAKGD…\n",
       " FASTX.FASTA.Record:\n",
       "   identifier: NP_958600.1\n",
       "  description: SH3 domain-containing protein\n",
       "     sequence: MTKVEKRSYGVDISSFQGTDLLAMGRSGAKFAIVKTSEG…\n",
       " FASTX.FASTA.Record:\n",
       "   identifier: NP_958601.1\n",
       "  description: hypothetical protein\n",
       "     sequence: LKKASKLAELFKDFGYEAYWKEKHELDFRDEDLLAVIDL…"
      ]
     },
     "execution_count": 29,
     "metadata": {},
     "output_type": "execute_result"
    }
   ],
   "source": [
    "# entity_metadata[1, \"Species\"]\n",
    "# entity_metadata[1, \"Accession\"]\n",
    "\n",
    "entity_index = 1\n",
    "\n",
    "accession = entity_metadata[entity_index, \"Accession\"]\n",
    "entity_genbank = BioFetch.fetchseq(accession, format = BioFetch.gb)\n",
    "\n",
    "fasta_dna_sequences = [\n",
    "    FASTX.FASTA.Record(chromosome.name, chromosome.sequence) \n",
    "        for chromosome in entity_genbank]\n",
    "\n",
    "fasta_proteins = \n",
    "[\n",
    "    FASTX.FASTA.Record(\n",
    "            getproperty(gene, :protein_id),\n",
    "            getproperty(gene, :product),\n",
    "            GenomicAnnotations.sequence(gene; translate = true))\n",
    "    for gene in GenomicAnnotations.@genes(entity_genbank, CDS)\n",
    "    ]\n",
    "\n",
    "# fasta_proteins = \n",
    "# [\n",
    "#     [FASTX.FASTA.Record(\n",
    "#                 getproperty(gene, :protein_id),\n",
    "#                 getproperty(gene, :product),\n",
    "#                 GenomicAnnotations.sequence(gene; translate = true))\n",
    "#         for gene in GenomicAnnotations.@genes(chromosome, CDS)]\n",
    "#             for chromosome in entity_genbank\n",
    "#     ]"
   ]
  },
  {
   "cell_type": "code",
   "execution_count": 30,
   "metadata": {},
   "outputs": [
    {
     "data": {
      "text/plain": [
       "(DNA_A, DNA_C, DNA_G, DNA_T)"
      ]
     },
     "execution_count": 30,
     "metadata": {},
     "output_type": "execute_result"
    }
   ],
   "source": [
    "k = 5\n",
    "\n",
    "n_possible_kmers = Int(length(Mycelia.DNA_ALPHABET)^5//2)\n",
    "\n",
    "AA_ALPHABET = collect(filter(x -> x != BioSequences.AA_Term, Mycelia.AA_ALPHABET))\n",
    "DNA_ALPHABET = Mycelia.DNA_ALPHABET"
   ]
  },
  {
   "cell_type": "code",
   "execution_count": 38,
   "metadata": {},
   "outputs": [
    {
     "data": {
      "text/plain": [
       "generate_all_possible_canonical_kmers (generic function with 1 method)"
      ]
     },
     "execution_count": 38,
     "metadata": {},
     "output_type": "execute_result"
    }
   ],
   "source": [
    "function generate_all_possible_kmers(k, alphabet)\n",
    "    kmer_iterator = Iterators.product([alphabet for i in 1:k]...)\n",
    "    kmer_vectors = collect.(vec(collect(kmer_iterator)))\n",
    "    if eltype(alphabet) == BioSymbols.AminoAcid\n",
    "        kmers = BioSequences.LongAminoAcidSeq.(kmer_vectors)\n",
    "    elseif eltype(alphabet) == BioSymbols.DNA\n",
    "        kmers = BioSequences.LongDNASeq.(kmer_vectors)\n",
    "    else\n",
    "        error()\n",
    "    end\n",
    "    return sort!(kmers)\n",
    "end\n",
    "\n",
    "function generate_all_possible_canonical_kmers(k, alphabet)\n",
    "    kmers = generate_all_possible_kmers(k, alphabet)\n",
    "    if eltype(alphabet) == BioSymbols.AminoAcid\n",
    "        return kmers\n",
    "    elseif eltype(alphabet) == BioSymbols.DNA\n",
    "        return unique!(BioSequences.canonical.(kmers))\n",
    "    else\n",
    "        error()\n",
    "    end\n",
    "end"
   ]
  },
  {
   "cell_type": "code",
   "execution_count": 39,
   "metadata": {},
   "outputs": [
    {
     "data": {
      "text/plain": [
       "484-element Vector{BioSequences.LongAminoAcidSeq}:\n",
       " AA\n",
       " AR\n",
       " AN\n",
       " AD\n",
       " AC\n",
       " AQ\n",
       " AE\n",
       " AG\n",
       " AH\n",
       " AI\n",
       " AL\n",
       " AK\n",
       " AM\n",
       " ⋮\n",
       " UL\n",
       " UK\n",
       " UM\n",
       " UF\n",
       " UP\n",
       " US\n",
       " UT\n",
       " UW\n",
       " UY\n",
       " UV\n",
       " UO\n",
       " UU"
      ]
     },
     "execution_count": 39,
     "metadata": {},
     "output_type": "execute_result"
    }
   ],
   "source": [
    "canonical_kmers = generate_all_possible_canonical_kmers(2, AA_ALPHABET)\n",
    "# canonical_kmers = generate_all_possible_canonical_kmers(2, Mycelia.DNA_ALPHABET)"
   ]
  },
  {
   "cell_type": "code",
   "execution_count": 40,
   "metadata": {},
   "outputs": [
    {
     "data": {
      "text/plain": [
       "484-element Vector{BioSequences.LongAminoAcidSeq}:\n",
       " AA\n",
       " AR\n",
       " AN\n",
       " AD\n",
       " AC\n",
       " AQ\n",
       " AE\n",
       " AG\n",
       " AH\n",
       " AI\n",
       " AL\n",
       " AK\n",
       " AM\n",
       " ⋮\n",
       " UL\n",
       " UK\n",
       " UM\n",
       " UF\n",
       " UP\n",
       " US\n",
       " UT\n",
       " UW\n",
       " UY\n",
       " UV\n",
       " UO\n",
       " UU"
      ]
     },
     "execution_count": 40,
     "metadata": {},
     "output_type": "execute_result"
    }
   ],
   "source": [
    "canonical_kmers"
   ]
  },
  {
   "cell_type": "code",
   "execution_count": null,
   "metadata": {},
   "outputs": [],
   "source": [
    "@assert length(canonical_kmers) == n_possible_kmers"
   ]
  },
  {
   "cell_type": "code",
   "execution_count": null,
   "metadata": {},
   "outputs": [],
   "source": [
    "kmer_counts_matrix = zeros(n_possible_kmers, n_samples)"
   ]
  },
  {
   "cell_type": "code",
   "execution_count": null,
   "metadata": {},
   "outputs": [],
   "source": [
    "entity_kmer_counts = Mycelia.count_canonical_kmers(BioSequences.DNAMer{5}, fasta_dna_sequences)"
   ]
  },
  {
   "cell_type": "code",
   "execution_count": null,
   "metadata": {},
   "outputs": [],
   "source": [
    "entity_kmer_counts"
   ]
  },
  {
   "cell_type": "code",
   "execution_count": null,
   "metadata": {},
   "outputs": [],
   "source": [
    "entity_index = 1\n",
    "for (i, kmer) in enumerate(canonical_kmers)\n",
    "#     @show kmer\n",
    "#     @show entity_kmer_counts[kmer]\n",
    "#     @show\n",
    "    kmer_count = get(entity_kmer_counts, kmer, 0)\n",
    "    kmer_counts_matrix[i, entity_index] = kmer_count\n",
    "end"
   ]
  },
  {
   "cell_type": "code",
   "execution_count": null,
   "metadata": {},
   "outputs": [],
   "source": [
    "kmer_counts_matrix"
   ]
  },
  {
   "cell_type": "code",
   "execution_count": null,
   "metadata": {},
   "outputs": [],
   "source": [
    "for all samples, create a "
   ]
  },
  {
   "cell_type": "code",
   "execution_count": null,
   "metadata": {},
   "outputs": [],
   "source": [
    "# download protien fasta files"
   ]
  },
  {
   "cell_type": "code",
   "execution_count": null,
   "metadata": {},
   "outputs": [],
   "source": [
    "# # determine optimal kmer-length\n",
    "\n",
    "# # optimal_kmer_length = Int(ceil(log(4, sum(reference_phage_metadata[!, \"Length\"]))))\n",
    "# # k = Primes.nextprime(optimal_kmer_length)\n",
    "# k = 5\n",
    "\n",
    "# kmer_counts_directory = \"$PANGENOMICS/ncbi-reference-viruses/kmer-counts/$k\"\n",
    "# # kmer_counts_directory = \"$DIR/kmer-counts/$k\"\n",
    "# if !isdir(kmer_counts_directory)\n",
    "#     mkpath(kmer_counts_directory)\n",
    "# end\n",
    "# ProgressMeter.@showprogress for accession in reference_phage_metadata[!, \"Accession\"]\n",
    "#     fasta_file =  \"$PANGENOMICS/ncbi-reference-viruses/fasta/$(accession).fasta\"\n",
    "#     @assert isfile(fasta_file)\n",
    "#     kmer_file = \"$kmer_counts_directory/$(accession).$(k).counts\"    \n",
    "#     if !isfile(kmer_file)\n",
    "#         LocusJulia.jellyfish_count(fasta=fasta_file, k=k, directory=\"$kmer_counts_directory\")\n",
    "#     end\n",
    "#     @assert isfile(kmer_file)\n",
    "# end"
   ]
  },
  {
   "cell_type": "code",
   "execution_count": null,
   "metadata": {},
   "outputs": [],
   "source": [
    "# all(replace.(basename.(kmer_count_files), \".5.counts\" => \"\") .== reference_phage_metadata[!, \"Accession\"])"
   ]
  },
  {
   "cell_type": "markdown",
   "metadata": {},
   "source": [
    "## Generate kmer counts"
   ]
  },
  {
   "cell_type": "code",
   "execution_count": null,
   "metadata": {},
   "outputs": [],
   "source": [
    "# kmer_count_files = [\"$kmer_counts_directory/$(accession).$(k).counts\" for accession in reference_phage_metadata[!, \"Accession\"]]"
   ]
  },
  {
   "cell_type": "code",
   "execution_count": null,
   "metadata": {},
   "outputs": [],
   "source": [
    "# kmer_count_files = filter(f -> occursin(\"$k.counts\", f), readdir(kmer_counts_directory, join=true))\n",
    "# kmer_count_files = filter(x -> occursin(Regex(\"\\\\.$k\\\\.counts\\$\"), x) && !occursin('-', basename(x)), readdir(\"$(DIR)/kmer-counts\", join=true))"
   ]
  },
  {
   "cell_type": "code",
   "execution_count": null,
   "metadata": {},
   "outputs": [],
   "source": [
    "# compute the sha-256 of all of the contents of all of the kmer counts and use that to tag the kmer list and the joint kmer count directory"
   ]
  },
  {
   "cell_type": "code",
   "execution_count": null,
   "metadata": {},
   "outputs": [],
   "source": [
    "# kmer_count_hash = hash(kmer_count_files)"
   ]
  },
  {
   "cell_type": "code",
   "execution_count": null,
   "metadata": {},
   "outputs": [],
   "source": [
    "# joint_kmer_count_file = \"$(DIR)/$k.$(kmer_count_hash).counts\"\n",
    "# joint_kmer_file = \"$(DIR)/$k.$(kmer_count_hash).kmers\""
   ]
  },
  {
   "cell_type": "code",
   "execution_count": null,
   "metadata": {},
   "outputs": [],
   "source": [
    "# if k <= 31\n",
    "#     KMER_TYPE = BioSequences.DNAMer{k}\n",
    "# else\n",
    "#     KMER_TYPE = BioSequences.BigDNAMer{k}\n",
    "# end"
   ]
  },
  {
   "cell_type": "code",
   "execution_count": null,
   "metadata": {},
   "outputs": [],
   "source": [
    "# if !isfile(joint_kmer_file)\n",
    "#     kmer_set = Set{KMER_TYPE}()\n",
    "#     ProgressMeter.@showprogress for kmer_count_file in kmer_count_files\n",
    "#         for line in eachline(kmer_count_file)\n",
    "#             kmer = KMER_TYPE(first(split(line)))\n",
    "#             push!(kmer_set, kmer)\n",
    "#         end\n",
    "#     end\n",
    "#     kmer_list = sort!(collect(kmer_set)); kmer_set = nothing;\n",
    "\n",
    "#     open(joint_kmer_file, \"w\") do io\n",
    "#         for kmer in kmer_list\n",
    "#             println(io, kmer)\n",
    "#         end\n",
    "#     end\n",
    "# else\n",
    "#     n_kmers = countlines(joint_kmer_file)\n",
    "#     kmer_list = Vector{KMER_TYPE}(undef, n_kmers)\n",
    "#     open(joint_kmer_file) do io\n",
    "#         for (i, line) in enumerate(eachline(io))\n",
    "#             kmer_list[i] = KMER_TYPE(line)\n",
    "#         end\n",
    "#     end\n",
    "# end"
   ]
  },
  {
   "cell_type": "code",
   "execution_count": null,
   "metadata": {},
   "outputs": [],
   "source": [
    "# n_kmers = length(kmer_list)"
   ]
  },
  {
   "cell_type": "code",
   "execution_count": null,
   "metadata": {},
   "outputs": [],
   "source": [
    "# table_size_in_gb = round(n_kmers * n_samples * 64 / (8e+9), digits=3)"
   ]
  },
  {
   "cell_type": "code",
   "execution_count": null,
   "metadata": {},
   "outputs": [],
   "source": [
    "# println(\"dense matrix would take up\\n$(table_size_in_gb) Gb\")"
   ]
  },
  {
   "cell_type": "code",
   "execution_count": null,
   "metadata": {},
   "outputs": [],
   "source": [
    "# # kmer_counts_matrix = SparseArrays.spzeros(n_kmers, n_samples)\n",
    "# kmer_counts_matrix = zeros(n_kmers, n_samples)"
   ]
  },
  {
   "cell_type": "code",
   "execution_count": null,
   "metadata": {},
   "outputs": [],
   "source": [
    "# # 33 minutes to build -> should write this out to save and store to minize re-load time\n",
    "# #  Progress: 100%|█████████████████████████████████████████| Time: 0:25:51\n",
    "# ProgressMeter.@showprogress for (file_index, kmer_count_file) in enumerate(kmer_count_files)\n",
    "#     for line in eachline(kmer_count_file)\n",
    "#         kmer, kmer_count = split(line)\n",
    "#         kmer_index = searchsortedfirst(kmer_list, KMER_TYPE(kmer))\n",
    "#         kmer_counts_matrix[kmer_index, file_index] = Float64(parse(Int, kmer_count))\n",
    "#     end\n",
    "# end"
   ]
  },
  {
   "cell_type": "code",
   "execution_count": null,
   "metadata": {},
   "outputs": [],
   "source": [
    "# kmer_counts_matrix"
   ]
  },
  {
   "cell_type": "code",
   "execution_count": null,
   "metadata": {},
   "outputs": [],
   "source": [
    "# kmer_probability_matrix = reduce(hcat, [col ./ sum(col) for col in eachcol(kmer_counts_matrix)])"
   ]
  },
  {
   "cell_type": "code",
   "execution_count": null,
   "metadata": {},
   "outputs": [],
   "source": [
    "# density = SparseArrays.nnz(kmer_counts_matrix) / reduce(*, size(kmer_counts_matrix))\n",
    "# sparsity = count(x -> x == 0, kmer_counts_matrix) / reduce(*, size(kmer_counts_matrix))\n",
    "# density = count(x -> x != 0, kmer_counts_matrix) / reduce(*, size(kmer_counts_matrix))"
   ]
  },
  {
   "cell_type": "code",
   "execution_count": null,
   "metadata": {},
   "outputs": [],
   "source": [
    "# required for sparse arrays, but awful for dense arrays\n",
    "# 1658.679602 seconds (4.44 G allocations: 82.863 GiB, 1.33% gc time)\n",
    "# Kernel PCA(indim = 512, outdim = 512)\n",
    "# @time pca_model = MultivariateStats.fit(MultivariateStats.KernelPCA, kmer_counts_matrix)"
   ]
  },
  {
   "cell_type": "code",
   "execution_count": null,
   "metadata": {},
   "outputs": [],
   "source": [
    "# # Progress: 100%|█████████████████████████████████████████| Time: 0:06:23\n",
    "# # Progress: 100%|█████████████████████████████████████████| Time: 0:07:19 for cosine\n",
    "# # distance_matrix_raw_kmer_counts_cosine = zeros(Float64, n_samples, n_samples)\n",
    "# # distance_matrix_raw_kmer_counts_euclidean = zeros(Float64, n_samples, n_samples)\n",
    "# distance_matrix_raw_kmer_probability_js_divergence = zeros(Float64, n_samples, n_samples)\n",
    "# ProgressMeter.@showprogress for i in 1:n_samples\n",
    "#     x_counts = view(kmer_counts_matrix, :, i)\n",
    "#     for j in i+1:n_samples\n",
    "#         y_counts = view(kmer_counts_matrix, :, j)\n",
    "#         distance_matrix_raw_kmer_probability_js_divergence[i, j] = distance_matrix_raw_kmer_probability_js_divergence[j, i] = Distances.js_divergence(x_counts, y_counts)\n",
    "# #         distance_matrix_raw_kmer_counts_cosine[i, j] = distance_matrix_raw_kmer_counts_cosine[j, i] = Distances.cosine_dist(x_counts, y_counts)\n",
    "# #         distance_matrix_raw_kmer_counts_euclidean[i, j] = distance_matrix_raw_kmer_counts_euclidean[j, i] = Distances.euclidean(x_counts, y_counts)\n",
    "#     end\n",
    "# end"
   ]
  },
  {
   "cell_type": "code",
   "execution_count": null,
   "metadata": {},
   "outputs": [],
   "source": [
    "# @time pca_model = MultivariateStats.fit(MultivariateStats.PCA, kmer_counts_matrix)"
   ]
  },
  {
   "cell_type": "code",
   "execution_count": null,
   "metadata": {},
   "outputs": [],
   "source": [
    "# transformed_kmer_counts_matrix = MultivariateStats.transform(pca_model, kmer_counts_matrix)"
   ]
  },
  {
   "cell_type": "code",
   "execution_count": null,
   "metadata": {},
   "outputs": [],
   "source": [
    "# distance_matrix_transformed_kmer_counts = zeros(Float64, n_samples, n_samples)\n",
    "# ProgressMeter.@showprogress for i in 1:n_samples\n",
    "#     x_counts = view(transformed_kmer_counts_matrix, :, i)\n",
    "#     for j in i+1:n_samples\n",
    "#         y_counts = view(transformed_kmer_counts_matrix, :, j)\n",
    "#         counts_distance = Distances.cosine_dist(x_counts, y_counts)\n",
    "#         distance_matrix_transformed_kmer_counts[i, j] = distance_matrix_transformed_kmer_counts[j, i] = counts_distance\n",
    "#     end\n",
    "# end"
   ]
  },
  {
   "cell_type": "code",
   "execution_count": null,
   "metadata": {},
   "outputs": [],
   "source": [
    "fasta_files = [\"$PANGENOMICS/ncbi-reference-viruses/fasta/$(accession).fasta\" for accession in reference_phage_metadata[!, \"Accession\"]]\n",
    "fasta_list_file = \"$(DIR)/fasta-list.txt\"\n",
    "open(fasta_list_file, \"w\") do io\n",
    "    for f in fasta_files\n",
    "        println(io, f)\n",
    "    end\n",
    "end\n",
    "fasta_list_hash = hash(read(fasta_list_file))\n",
    "mv(fasta_list_file, \"$(DIR)/fasta-list.$(fasta_list_hash).txt\")\n",
    "fasta_list_file = \"$(DIR)/fasta-list.$(fasta_list_hash).txt\""
   ]
  },
  {
   "cell_type": "code",
   "execution_count": null,
   "metadata": {},
   "outputs": [],
   "source": [
    "fasta_map_index = Dict(fasta_file => i for (i, fasta_file) in enumerate(fasta_files))"
   ]
  },
  {
   "cell_type": "markdown",
   "metadata": {},
   "source": [
    "# Mash distance matrix"
   ]
  },
  {
   "cell_type": "code",
   "execution_count": null,
   "metadata": {},
   "outputs": [],
   "source": [
    "# s = 1_000\n",
    "# # k = 5\n",
    "# # 1712.918182 seconds (203.63 k allocations: 10.841 MiB, 0.01% compilation time)\n",
    "# # 1244.423793 seconds (109.17 k allocations: 5.641 MiB, 0.01% compilation time)\n",
    "\n",
    "# # 9414.157635 seconds (330.58 k allocations: 9.674 MiB, 0.00% compilation time)\n",
    "# # k = 7\n",
    "# # k=9\n",
    "# # k = 13\n",
    "# k=17\n",
    "\n",
    "# # fasta_list_hash = hash(read(fasta_list_file))\n",
    "# # run(`conda install -c bioconda mash`)\n",
    "# mash_outfile = \"$(DIR)/k$(k).s$(s).$(fasta_list_hash)\"\n",
    "# if !isfile(\"$(mash_outfile).msh\")\n",
    "#     #  62.588383 seconds (2.04 k allocations: 55.750 KiB) single thread\n",
    "#     # 12.651958 seconds (18.48 k allocations: 1.131 MiB, 0.19% compilation time) 8 cores\n",
    "#     @time run(pipeline(`mash sketch -p $(Sys.CPU_THREADS) -k $(k) -s $(s) -o $(mash_outfile) -l $(fasta_list_file)`, stderr=\"$(mash_outfile).stderr\", stdout=\"$(mash_outfile).stdout\"))\n",
    "# end\n",
    "# distance_file = \"$(mash_outfile).dist\"\n",
    "# if !isfile(distance_file)\n",
    "#     # 1601.517323 seconds (108.43 k allocations: 4.811 MiB)\n",
    "#     # 20.337346 seconds (45.41 k allocations: 2.707 MiB, 0.33% compilation time) single thread\n",
    "#     # 8.109837 seconds (17.63 k allocations: 1.095 MiB, 0.26% compilation time) 8 cores\n",
    "#     @time run(pipeline(`mash dist -p $(Sys.CPU_THREADS) $(mash_outfile).msh $(mash_outfile).msh`, \"$(mash_outfile).dist\"))\n",
    "# end"
   ]
  },
  {
   "cell_type": "markdown",
   "metadata": {},
   "source": [
    "The mash dist file is very large, and I'm wondering whether there is any io write out limits.\n",
    "\n",
    "Could we be more efficient by just streaming the output directly into a distance matrix?\n",
    "\n",
    "We can definitely be more data storage efficient"
   ]
  },
  {
   "cell_type": "code",
   "execution_count": null,
   "metadata": {},
   "outputs": [],
   "source": [
    "# @assert issorted(fasta_files)"
   ]
  },
  {
   "cell_type": "code",
   "execution_count": null,
   "metadata": {},
   "outputs": [],
   "source": [
    "# mash_distance_matrix = zeros(length(fasta_files), length(fasta_files))"
   ]
  },
  {
   "cell_type": "code",
   "execution_count": null,
   "metadata": {},
   "outputs": [],
   "source": [
    "# # 2439.550913 seconds (10.00 G allocations: 556.675 GiB, 6.38% gc time, 0.00% compilation time)\n",
    "# @time for line in eachline(\"$(mash_outfile).dist\")\n",
    "#     fasta_1, fasta_2, distance_string, p_value_string, n_hits = split(line)\n",
    "#     distance = parse(Float64, distance_string)\n",
    "#     fasta_1_index = fasta_map_index[fasta_1]\n",
    "#     fasta_2_index = fasta_map_index[fasta_2]\n",
    "# #     fasta_1_index = searchsortedfirst(fasta_files, fasta_1)\n",
    "# #     fasta_2_index = searchsortedfirst(fasta_files, fasta_2)\n",
    "#     mash_distance_matrix[fasta_1_index, fasta_2_index] = distance\n",
    "# end"
   ]
  },
  {
   "cell_type": "code",
   "execution_count": null,
   "metadata": {},
   "outputs": [],
   "source": [
    "# mash_distance_matrix = nothing\n",
    "# GC.gc()"
   ]
  },
  {
   "cell_type": "markdown",
   "metadata": {},
   "source": [
    "# ANI distance matrix"
   ]
  },
  {
   "cell_type": "code",
   "execution_count": null,
   "metadata": {},
   "outputs": [],
   "source": [
    "# run(`conda create -n fastANI -c bioconda fastANI`)"
   ]
  },
  {
   "cell_type": "code",
   "execution_count": null,
   "metadata": {},
   "outputs": [],
   "source": [
    "# time output got truncated, but not too crazyy!\n",
    "# again output got truncated, should have this write stderr to a file to not overdue output\n",
    "\n",
    "# k = 16 is default\n",
    "# k = 13 # still not finding similarities between species, genera, families\n",
    "# k = 11\n",
    "\n",
    "# k size drives runtime more than min_fraction overlap\n",
    "\n",
    "# 620.518002 seconds (19.25 k allocations: 566.922 KiB)\n",
    "# k = 9\n",
    "\n",
    "# 18434.583602 seconds (434.14 k allocations: 14.115 MiB, 0.00% compilation time)\n",
    "k = 8\n",
    "\n",
    "# k = 7 # this ran for SOOOOO LONG. Too long\n",
    "\n",
    "# ~ 180 seconds per run\n",
    "# min fraction that must be shared to trust calculation\n",
    "# min_fraction = 0.2 # default\n",
    "# min_fraction = 0.5 # I think this made it worse\n",
    "# min_fraction = 0.1 # didn't really see a change\n",
    "# min_fraction = 0.05 # this is getting better!\n",
    "# still 178 seconds\n",
    "# min_fraction = 0.01\n",
    "\n",
    "min_fraction = 0.01 # this is getting better!\n",
    "\n",
    "fasta_ani_out = \"$(DIR)/fastANI.k$(k).min_fraction-$(min_fraction).$(fasta_list_hash).out\"\n",
    "if !isfile(fasta_ani_out)\n",
    "    @time run(pipeline(`fastANI -t $(Sys.CPU_THREADS) --minFraction $(min_fraction) --kmer $(k) --ql $(fasta_list_file) --rl $(fasta_list_file) -o $(fasta_ani_out)`, stderr=\"$(fasta_ani_out).stderr\", stdout=\"$(fasta_ani_out).stdout\"))\n",
    "end"
   ]
  },
  {
   "cell_type": "code",
   "execution_count": null,
   "metadata": {},
   "outputs": [],
   "source": [
    "# fastANI doesn't return values for any ANI ~< 80%, so we'll set all of those to distance 1 by default \n",
    "ani_distance_matrix = ones(n_samples, n_samples)\n",
    "\n",
    "# OUTPUT_FILE will contain tab delimited row(s) with:\n",
    "# - query genome\n",
    "# - reference genome\n",
    "# - ANI value\n",
    "# - count of bidirectional fragment mappings\n",
    "# - total query fragments\n",
    "for line in eachline(fasta_ani_out)\n",
    "    query_fasta, reference_fasta, average_nucleotide_identity, fragment_mapping_count, total_query_fragments = split(line)\n",
    "#     query_fasta_index = searchsortedfirst(fasta_files, query_fasta)\n",
    "    query_fasta_index = fasta_map_index[query_fasta]\n",
    "#     reference_fasta_index = searchsortedfirst(fasta_files, reference_fasta)\n",
    "    reference_fasta_index = fasta_map_index[reference_fasta]\n",
    "    ani = parse(Float64, average_nucleotide_identity)\n",
    "    distance = (100.0 - ani) / 100\n",
    "    ani_distance_matrix[query_fasta_index, reference_fasta_index] = distance\n",
    "end"
   ]
  },
  {
   "cell_type": "code",
   "execution_count": null,
   "metadata": {},
   "outputs": [],
   "source": [
    "ani_distance_matrix"
   ]
  },
  {
   "cell_type": "markdown",
   "metadata": {},
   "source": [
    "# Compare the following\n",
    "- same species vs different species\n",
    "- same genus vs different genus\n",
    "- same family vs different family\n",
    "\n",
    "for each of the following measures:\n",
    "- raw kmer counts\n",
    "- transformed kmer counts\n",
    "- ANI\n",
    "- mash distance"
   ]
  },
  {
   "cell_type": "code",
   "execution_count": null,
   "metadata": {},
   "outputs": [],
   "source": [
    "# Species - species doesn't seem useful at all\n",
    "# Genus - this is also heavily overlapping between inter and intra\n",
    "# Family - "
   ]
  },
  {
   "cell_type": "code",
   "execution_count": null,
   "metadata": {},
   "outputs": [],
   "source": [
    "# show(reference_phage_metadata[1:3, :], allcols=true)"
   ]
  },
  {
   "cell_type": "code",
   "execution_count": null,
   "metadata": {},
   "outputs": [],
   "source": [
    "unique_species = filter(!isempty, sort(unique(reference_phage_metadata[!, \"Species\"])))\n",
    "unique_genera = filter(!isempty, sort(unique(reference_phage_metadata[!, \"Genus\"])))\n",
    "unique_families = filter(!isempty, sort(unique(reference_phage_metadata[!, \"Family\"])))"
   ]
  },
  {
   "cell_type": "markdown",
   "metadata": {},
   "source": [
    "Euclidean seems better than cosine distance\n",
    "Is jensen shannon divergence better than euclidean\n",
    "mash with k=13 and s=1_000 was not good\n",
    "try smaller 9\n",
    "try larger s"
   ]
  },
  {
   "cell_type": "code",
   "execution_count": null,
   "metadata": {},
   "outputs": [],
   "source": [
    "# distance_matrix = distance_matrix_raw_kmer_counts_euclidean\n",
    "# distance_metric = \"euclidean\"\n",
    "\n",
    "# distance_matrix = distance_matrix_raw_kmer_counts_cosine\n",
    "# distance_metric = \"cosine\"\n",
    "\n",
    "# distance_matrix = distance_matrix_raw_kmer_probability_js_divergence\n",
    "# distance_metric = \"js_divergence\"\n",
    "\n",
    "# distance_matrix = mash_distance_matrix\n",
    "# distance_metric = \"mash\"\n",
    "\n",
    "distance_matrix = ani_distance_matrix\n",
    "distance_metric = \"ani\""
   ]
  },
  {
   "cell_type": "code",
   "execution_count": null,
   "metadata": {},
   "outputs": [],
   "source": [
    "intra_species_distances = Float64[]\n",
    "inter_species_distances = Float64[]\n",
    "ProgressMeter.@showprogress for species in unique_species\n",
    "    species_indices = findall(reference_phage_metadata[!, \"Species\"] .== species)\n",
    "    other_species_indices = setdiff(1:size(distance_matrix, 1), species_indices)\n",
    "    for index in species_indices\n",
    "        other_indices = filter(i -> i != index, species_indices)\n",
    "        append!(intra_species_distances, vec(distance_matrix[index, other_indices]))\n",
    "        append!(inter_species_distances, vec(distance_matrix[index, other_species_indices]))\n",
    "    end\n",
    "end"
   ]
  },
  {
   "cell_type": "code",
   "execution_count": null,
   "metadata": {},
   "outputs": [],
   "source": [
    "StatsBase.describe(StatsBase.sample(inter_species_distances, 10_000))"
   ]
  },
  {
   "cell_type": "code",
   "execution_count": null,
   "metadata": {},
   "outputs": [],
   "source": [
    "StatsBase.describe(StatsBase.sample(intra_species_distances, 10_000))"
   ]
  },
  {
   "cell_type": "code",
   "execution_count": null,
   "metadata": {},
   "outputs": [],
   "source": [
    "n_points = 1_000\n",
    "p = StatsPlots.scatter(\n",
    "    [\n",
    "        [rand(Bool) ? 1 + rand()/3 : 1 - rand()/3 for i in 1:n_points],\n",
    "        [rand(Bool) ? 2 + rand()/3 : 2 - rand()/3 for i in 1:n_points]\n",
    "    ],\n",
    "    [\n",
    "        StatsBase.sample(intra_species_distances, n_points),\n",
    "        StatsBase.sample(inter_species_distances, n_points)\n",
    "    ],\n",
    "    label = [\"within species\" \"between species\"],\n",
    "    legend = :outertopright,\n",
    "    alpha = 0.5,\n",
    "    title = \"$(distance_metric) distance @ k=$k\"\n",
    ")\n",
    "p = StatsPlots.hline(p,\n",
    "    [Statistics.mean(intra_species_distances) + 3*Statistics.std(intra_species_distances)],\n",
    "    label=\"mean + 3σ\"\n",
    ")\n",
    "StatsPlots.savefig(p, \"$DIR/$(distance_metric)-distance-species-k$k.png\")\n",
    "StatsPlots.savefig(p, \"$DIR/$(distance_metric)-distance-species-k$k.svg\")\n",
    "p"
   ]
  },
  {
   "cell_type": "code",
   "execution_count": null,
   "metadata": {},
   "outputs": [],
   "source": [
    "intra_genera_distances = Float64[]\n",
    "inter_genera_distances = Float64[]\n",
    "ProgressMeter.@showprogress for genus in unique_genera\n",
    "    genus_indices = findall(reference_phage_metadata[!, \"Genus\"] .== genus)\n",
    "    other_genera_indices = setdiff(1:1:size(distance_matrix, 1), genus_indices)\n",
    "    for index in genus_indices\n",
    "        other_indices = filter(i -> i != index, genus_indices)\n",
    "        append!(intra_genera_distances, vec(distance_matrix[index, other_indices]))\n",
    "        append!(inter_genera_distances, vec(distance_matrix[index, other_genera_indices]))\n",
    "    end\n",
    "end"
   ]
  },
  {
   "cell_type": "code",
   "execution_count": null,
   "metadata": {},
   "outputs": [],
   "source": [
    "StatsBase.describe(StatsBase.sample(inter_genera_distances, 10_000))"
   ]
  },
  {
   "cell_type": "code",
   "execution_count": null,
   "metadata": {},
   "outputs": [],
   "source": [
    "StatsBase.describe(StatsBase.sample(intra_genera_distances, 10_000))"
   ]
  },
  {
   "cell_type": "code",
   "execution_count": null,
   "metadata": {},
   "outputs": [],
   "source": [
    "n_points = 1_000\n",
    "p = StatsPlots.scatter(\n",
    "    [\n",
    "        [rand(Bool) ? 1 + rand()/3 : 1 - rand()/3 for i in 1:n_points],\n",
    "        [rand(Bool) ? 2 + rand()/3 : 2 - rand()/3 for i in 1:n_points]\n",
    "    ],\n",
    "    [\n",
    "        StatsBase.sample(intra_genera_distances, n_points),\n",
    "        StatsBase.sample(inter_genera_distances, n_points)\n",
    "    ],\n",
    "    label = [\"within genera\" \"between genera\"],\n",
    "    legend = :outertopright,\n",
    "    alpha = 0.5,\n",
    "    title = \"$(distance_metric) distance @ k=$k\"\n",
    ")\n",
    "p = StatsPlots.hline(p,\n",
    "    [Statistics.mean(intra_genera_distances) + 3*Statistics.std(intra_genera_distances)],\n",
    "    label=\"mean + 3σ\"\n",
    ")\n",
    "StatsPlots.savefig(p, \"$DIR/$(distance_metric)-distance-genus-k$k.png\")\n",
    "StatsPlots.savefig(p, \"$DIR/$(distance_metric)-distance-genus-k$k.svg\")\n",
    "p"
   ]
  },
  {
   "cell_type": "code",
   "execution_count": null,
   "metadata": {},
   "outputs": [],
   "source": [
    "intra_family_distances = Float64[]\n",
    "inter_family_distances = Float64[]\n",
    "ProgressMeter.@showprogress for family in unique_families\n",
    "    family_indices = findall(reference_phage_metadata[!, \"Family\"] .== family)\n",
    "    other_family_indices = setdiff(1:1:size(distance_matrix, 1), family_indices)\n",
    "    for index in family_indices\n",
    "        other_indices = filter(i -> i != index, family_indices)\n",
    "        append!(intra_family_distances, vec(distance_matrix[index, other_indices]))\n",
    "        append!(inter_family_distances, vec(distance_matrix[index, other_family_indices]))\n",
    "    end\n",
    "end"
   ]
  },
  {
   "cell_type": "code",
   "execution_count": null,
   "metadata": {},
   "outputs": [],
   "source": [
    "StatsBase.describe(StatsBase.sample(inter_family_distances, 10_000))"
   ]
  },
  {
   "cell_type": "code",
   "execution_count": null,
   "metadata": {},
   "outputs": [],
   "source": [
    "StatsBase.describe(StatsBase.sample(intra_family_distances, 10_000))"
   ]
  },
  {
   "cell_type": "code",
   "execution_count": null,
   "metadata": {},
   "outputs": [],
   "source": [
    "n_points = 1_000\n",
    "p = StatsPlots.scatter(\n",
    "    [\n",
    "        [rand(Bool) ? 1 + rand()/3 : 1 - rand()/3 for i in 1:n_points],\n",
    "        [rand(Bool) ? 2 + rand()/3 : 2 - rand()/3 for i in 1:n_points]\n",
    "    ],\n",
    "    [\n",
    "        StatsBase.sample(intra_family_distances, n_points),\n",
    "        StatsBase.sample(inter_family_distances, n_points)\n",
    "    ],\n",
    "    label = [\"within families\" \"between families\"],\n",
    "    legend = :outertopright,\n",
    "    alpha = 0.5,\n",
    "    title = \"$(distance_metric) distance @ k=$k\"\n",
    ")\n",
    "p = StatsPlots.hline(p,\n",
    "    [Statistics.mean(intra_family_distances) + 3*Statistics.std(intra_family_distances)],\n",
    "    label=\"mean + 3σ\"\n",
    ")\n",
    "StatsPlots.savefig(p, \"$DIR/$(distance_metric)-distance-family-k$k.png\")\n",
    "StatsPlots.savefig(p, \"$DIR/$(distance_metric)-distance-family-k$k.svg\")\n",
    "p"
   ]
  },
  {
   "cell_type": "code",
   "execution_count": null,
   "metadata": {},
   "outputs": [],
   "source": [
    "# kmer_counts_matrix = nothing\n",
    "# distance_matrix_raw_kmer_counts_cosine = nothing\n",
    "# distance_matrix_raw_kmer_counts_euclidean = nothing\n",
    "# GC.gc()"
   ]
  }
 ],
 "metadata": {
  "kernelspec": {
   "display_name": "Julia 1.6.3",
   "language": "julia",
   "name": "julia-1.6"
  },
  "language_info": {
   "file_extension": ".jl",
   "mimetype": "application/julia",
   "name": "julia",
   "version": "1.6.3"
  }
 },
 "nbformat": 4,
 "nbformat_minor": 4
}
