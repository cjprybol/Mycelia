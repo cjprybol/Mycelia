{
 "cells": [
  {
   "cell_type": "code",
   "execution_count": 2,
   "metadata": {},
   "outputs": [],
   "source": [
    "TODAY=\"2021-11-13\"\n",
    "TASK = \"phylogenetic-determination\"\n",
    "DIR = \"$(homedir())/$(TODAY)-$(TASK)\"\n",
    "if !isdir(DIR)\n",
    "    mkdir(DIR)\n",
    "end\n",
    "cd(DIR)"
   ]
  },
  {
   "cell_type": "code",
   "execution_count": 3,
   "metadata": {},
   "outputs": [],
   "source": [
    "import Pkg\n",
    "\n",
    "pkgs = [\n",
    "\"JSON\",\n",
    "\"HTTP\",\n",
    "\"Dates\",\n",
    "\"uCSV\",\n",
    "\"DelimitedFiles\",\n",
    "\"DataFrames\",\n",
    "\"ProgressMeter\",\n",
    "\"BioSequences\",\n",
    "\"FASTX\",\n",
    "\"Distances\",\n",
    "\"Plots\",\n",
    "\"StatsPlots\",\n",
    "\"StatsBase\",\n",
    "\"Statistics\",\n",
    "\"Mmap\",\n",
    "\"MultivariateStats\",\n",
    "\"PyCall\",\n",
    "\"Random\",\n",
    "\"Primes\",\n",
    "\"Revise\",\n",
    "\"SparseArrays\",\n",
    "\"SHA\",\n",
    "\"Mycelia\",\n",
    "\"GenomicAnnotations\",\n",
    "\"BioFetch\",\n",
    "\"Combinatorics\",\n",
    "\"StaticArrays\",\n",
    "\"BioSymbols\",\n",
    "\"RollingFunctions\",\n",
    "\"OrderedCollections\"\n",
    "]\n",
    "\n",
    "for pkg in pkgs\n",
    "    try\n",
    "        eval(Meta.parse(\"import $pkg\"))\n",
    "    catch\n",
    "        Pkg.add(pkg)\n",
    "        eval(Meta.parse(\"import $pkg\"))\n",
    "    end\n",
    "end"
   ]
  },
  {
   "cell_type": "code",
   "execution_count": 27,
   "metadata": {},
   "outputs": [
    {
     "data": {
      "text/plain": [
       "generate_all_possible_canonical_kmers (generic function with 1 method)"
      ]
     },
     "execution_count": 27,
     "metadata": {},
     "output_type": "execute_result"
    }
   ],
   "source": [
    "function generate_all_possible_kmers(k, alphabet)\n",
    "    kmer_iterator = Iterators.product([alphabet for i in 1:k]...)\n",
    "    kmer_vectors = collect.(vec(collect(kmer_iterator)))\n",
    "    if eltype(alphabet) == BioSymbols.AminoAcid\n",
    "        kmers = BioSequences.LongAminoAcidSeq.(kmer_vectors)\n",
    "    elseif eltype(alphabet) == BioSymbols.DNA\n",
    "        kmers = BioSequences.LongDNASeq.(kmer_vectors)\n",
    "    else\n",
    "        error()\n",
    "    end\n",
    "    return sort!(kmers)\n",
    "end\n",
    "\n",
    "function generate_all_possible_canonical_kmers(k, alphabet)\n",
    "    kmers = generate_all_possible_kmers(k, alphabet)\n",
    "    if eltype(alphabet) == BioSymbols.AminoAcid\n",
    "        return kmers\n",
    "    elseif eltype(alphabet) == BioSymbols.DNA\n",
    "        return BioSequences.DNAMer.(unique!(BioSequences.canonical.(kmers)))\n",
    "    else\n",
    "        error()\n",
    "    end\n",
    "end"
   ]
  },
  {
   "cell_type": "code",
   "execution_count": 35,
   "metadata": {},
   "outputs": [
    {
     "data": {
      "text/plain": [
       "count_canonical_aamers (generic function with 1 method)"
      ]
     },
     "execution_count": 35,
     "metadata": {},
     "output_type": "execute_result"
    }
   ],
   "source": [
    "function count_canonical_aamers(k, fasta_proteins)\n",
    "    aamer_counts = OrderedCollections.OrderedDict{BioSequences.LongAminoAcidSeq, Int64}()\n",
    "    for protein in fasta_proteins\n",
    "        s = FASTX.sequence(protein)\n",
    "        these_counts = sort(StatsBase.countmap([s[i:i+k-1] for i in 1:length(s)-1]))\n",
    "        merge!(+, aamer_counts, these_counts)\n",
    "    end\n",
    "    return sort(aamer_counts)\n",
    "end"
   ]
  },
  {
   "cell_type": "code",
   "execution_count": 24,
   "metadata": {},
   "outputs": [
    {
     "data": {
      "text/plain": [
       "update_counts_matrix! (generic function with 1 method)"
      ]
     },
     "execution_count": 24,
     "metadata": {},
     "output_type": "execute_result"
    }
   ],
   "source": [
    "function update_counts_matrix!(matrix, sample_index, countmap, sorted_kmers)\n",
    "    for (i, kmer) in enumerate(sorted_kmers)\n",
    "        matrix[i, sample_index] = get(countmap, kmer, 0)\n",
    "    end\n",
    "    return matrix\n",
    "end"
   ]
  },
  {
   "cell_type": "code",
   "execution_count": 62,
   "metadata": {},
   "outputs": [
    {
     "data": {
      "text/plain": [
       "accession_list_to_aamer_counts_table (generic function with 2 methods)"
      ]
     },
     "execution_count": 62,
     "metadata": {},
     "output_type": "execute_result"
    }
   ],
   "source": [
    "function accession_list_to_aamer_counts_table(accession_list, k, AA_ALPHABET)\n",
    "    \n",
    "    canonical_aamers = generate_all_possible_canonical_kmers(k, AA_ALPHABET)\n",
    "    \n",
    "    aamer_counts_matrix = zeros(length(canonical_aamers), length(accession_list))\n",
    "    \n",
    "    ProgressMeter.@showprogress for (entity_index, accession) in enumerate(accession_list)\n",
    "        entity_genbank = BioFetch.fetchseq(accession, format = BioFetch.gb)\n",
    "        fasta_proteins = Vector{FASTX.FASTA.Record}()\n",
    "        for gene in GenomicAnnotations.@genes(entity_genbank, CDS)\n",
    "            try\n",
    "                dna_seq = GenomicAnnotations.sequence(gene)\n",
    "                # if seq isn't divisible by 3, cut final bases that can't be mapped to a codon\n",
    "                translateable_length = div(length(dna_seq), 3) * 3\n",
    "                truncated_dna_seq = dna_seq[1:translateable_length]\n",
    "                aa_seq = BioSequences.translate(truncated_dna_seq)\n",
    "                id = getproperty(gene, :protein_id)\n",
    "                product = getproperty(gene, :product)\n",
    "                record = FASTX.FASTA.Record(id, product, aa_seq)\n",
    "                push!(fasta_proteins, record)\n",
    "            catch\n",
    "                @error GenomicAnnotations.sequence(gene)\n",
    "                error()\n",
    "            end\n",
    "\n",
    "        end\n",
    "# #         fasta_proteins = \n",
    "# #             [\n",
    "# #                 [FASTX.FASTA.Record(getproperty(gene, :protein_id),\n",
    "# #                                     getproperty(gene, :product),\n",
    "# #                                     GenomicAnnotations.sequence(gene; translate = true)\n",
    "# #                                 )\n",
    "# #                     for gene in GenomicAnnotations.@genes(chromosome, CDS)\n",
    "# #                 ]\n",
    "# #                         for chromosome in entity_genbank\n",
    "# #             ]\n",
    "#         fasta_proteins =\n",
    "#                 [\n",
    "#                                     ,\n",
    "                                    \n",
    "#                                 )\n",
    "#                     for gene in \n",
    "#                 ]\n",
    "#         @show fasta_proteins\n",
    "        entity_aamer_counts = count_canonical_aamers(aa_k, fasta_proteins)\n",
    "        update_counts_matrix!(aamer_counts_matrix, entity_index, entity_aamer_counts, canonical_aamers)\n",
    "    end\n",
    "    return aamer_counts_matrix\n",
    "end"
   ]
  },
  {
   "cell_type": "code",
   "execution_count": 65,
   "metadata": {},
   "outputs": [
    {
     "data": {
      "text/plain": [
       "accession_list_to_dnamer_counts_table (generic function with 2 methods)"
      ]
     },
     "execution_count": 65,
     "metadata": {},
     "output_type": "execute_result"
    }
   ],
   "source": [
    "function accession_list_to_dnamer_counts_table(accession_list, k)\n",
    "    canonical_dnamers = generate_all_possible_canonical_kmers(k, DNA_ALPHABET)\n",
    "    dnamer_counts_matrix = zeros(length(canonical_dnamers), length(accession_list))\n",
    "\n",
    "    ProgressMeter.@showprogress for (entity_index, accession) in enumerate(accession_list)\n",
    "        entity_genbank = BioFetch.fetchseq(accession, format = BioFetch.gb)\n",
    "        fasta_dna_sequences = [\n",
    "            FASTX.FASTA.Record(chromosome.name, chromosome.sequence) \n",
    "                for chromosome in entity_genbank\n",
    "                              ]\n",
    "        entity_dnamer_counts = Mycelia.count_canonical_kmers(BioSequences.DNAMer{dna_k}, fasta_dna_sequences)\n",
    "        update_counts_matrix!(dnamer_counts_matrix, entity_index, entity_dnamer_counts, canonical_dnamers)\n",
    "    end\n",
    "    return dnamer_counts_matrix    \n",
    "end"
   ]
  },
  {
   "cell_type": "code",
   "execution_count": 89,
   "metadata": {},
   "outputs": [
    {
     "data": {
      "text/plain": [
       "normalize_distance_matrix (generic function with 1 method)"
      ]
     },
     "execution_count": 89,
     "metadata": {},
     "output_type": "execute_result"
    }
   ],
   "source": [
    "function normalize_distance_matrix(distance_matrix)\n",
    "    return distance_matrix ./ maximum(distance_matrix)\n",
    "end"
   ]
  },
  {
   "cell_type": "code",
   "execution_count": 74,
   "metadata": {},
   "outputs": [
    {
     "data": {
      "text/plain": [
       "counts_matrix_to_euclidean_distance_matrix (generic function with 1 method)"
      ]
     },
     "execution_count": 74,
     "metadata": {},
     "output_type": "execute_result"
    }
   ],
   "source": [
    "function counts_matrix_to_euclidean_distance_matrix(counts_matrix)\n",
    "    n_samples = size(counts_matrix, 2)\n",
    "    distance_matrix = zeros(n_samples, n_samples)\n",
    "    for x1 in 1:n_samples\n",
    "        x1_values = counts_matrix[:, x1]\n",
    "        for x2 in 2:n_samples\n",
    "            x2_values = counts_matrix[:, x2]\n",
    "            d = Distances.euclidean(x1_values, x2_values)\n",
    "            distance_matrix[x1, x2] = distance_matrix[x2, x1] = d\n",
    "        end\n",
    "    end\n",
    "    return distance_matrix\n",
    "end"
   ]
  },
  {
   "cell_type": "code",
   "execution_count": 75,
   "metadata": {},
   "outputs": [
    {
     "data": {
      "text/plain": [
       "counts_matrix_to_js_divergence_matrix (generic function with 1 method)"
      ]
     },
     "execution_count": 75,
     "metadata": {},
     "output_type": "execute_result"
    }
   ],
   "source": [
    "function counts_matrix_to_js_divergence_matrix(counts_matrix)\n",
    "    n_samples = size(counts_matrix, 2)\n",
    "    distance_matrix = zeros(n_samples, n_samples)\n",
    "    for x1 in 1:n_samples\n",
    "        x1_values = counts_matrix[:, x1] ./ sum(counts_matrix[:, x1])\n",
    "        for x2 in 2:n_samples\n",
    "            x2_values = counts_matrix[:, x2] ./ sum(counts_matrix[:, x2])\n",
    "            d = Distances.js_divergence(x1_values, x2_values)\n",
    "            distance_matrix[x1, x2] = distance_matrix[x2, x1] = d\n",
    "        end\n",
    "    end\n",
    "    return distance_matrix\n",
    "end"
   ]
  },
  {
   "cell_type": "code",
   "execution_count": 77,
   "metadata": {},
   "outputs": [
    {
     "data": {
      "text/plain": [
       "counts_matrix_to_jaccard_distance_matrix (generic function with 1 method)"
      ]
     },
     "execution_count": 77,
     "metadata": {},
     "output_type": "execute_result"
    }
   ],
   "source": [
    "function counts_matrix_to_jaccard_distance_matrix(counts_matrix)\n",
    "    n_samples = size(counts_matrix, 2)\n",
    "    distance_matrix = zeros(n_samples, n_samples)\n",
    "    for x1 in 1:n_samples\n",
    "        x1_values = counts_matrix[:, x1] .> 0\n",
    "        for x2 in 2:n_samples\n",
    "            x2_values = counts_matrix[:, x2] .> 0\n",
    "            d = Distances.jaccard(x1_values, x2_values)\n",
    "            distance_matrix[x1, x2] = distance_matrix[x2, x1] = d\n",
    "        end\n",
    "    end\n",
    "    return distance_matrix\n",
    "end"
   ]
  },
  {
   "cell_type": "code",
   "execution_count": 6,
   "metadata": {},
   "outputs": [
    {
     "data": {
      "text/plain": [
       "\"/home/jupyter-cjprybol/.julia/dev/Mycelia/metadata\""
      ]
     },
     "execution_count": 6,
     "metadata": {},
     "output_type": "execute_result"
    }
   ],
   "source": [
    "# MYCELIA_METADATA = joinpath(Pkg.dir(\"Mycelia\"), \"metadata\")\n",
    "MYCELIA_METADATA = joinpath(dirname(dirname(pathof(Mycelia))),  \"metadata\")"
   ]
  },
  {
   "cell_type": "code",
   "execution_count": 7,
   "metadata": {},
   "outputs": [
    {
     "data": {
      "text/html": [
       "<div class=\"data-frame\"><p>4,569 rows × 23 columns (omitted printing of 20 columns)</p><table class=\"data-frame\"><thead><tr><th></th><th>Accession</th><th>SRA_Accession</th><th>Submitters</th></tr><tr><th></th><th title=\"String\">String</th><th title=\"String\">String</th><th title=\"String\">String</th></tr></thead><tbody><tr><th>1</th><td>NC_000866.4</td><td></td><td>Miller,E.S., Kutter,E., Mosig,G., Arisaka,F., Kunisawa,T., Ruger,W., Ho,C.K., Shuman,S., Shcherbakov,V., Granovsky,I., Plugina,L., Shcherbakova,T., Sizova,S., Pyatkov,K., Shlyapnikov,M., Shubina,O., Xu,W., Gauss,P., Shen,J., Dunn,C.A., Bessman,M.J., Truncaite,L., Zajanckauskaite,A., Nivinskas,R., Belle,A., Landthaler,M., Shub,D.A., Stehr,M., Schneider,G., Aslund,F., Holmgren,A., Lindqvist,Y., Ramanculov,E., Young,R., Vaiskunaite,R., Miller,A., Davenport,L., Colowick,N.E., Pietz,B.C., Franklin,J.L., Haseltine,D., Wang,F.J., Ripley,L.S., Paddison,P., Abedon,S.T., Dressman,H.K., Gailbreath,K., Tracy,J., Mosser,E., Neitzel,J., Guttman,B., Kim,B.C., Kim,K., Park,E.H., Lim,C.J., Kadyrov,F.A., Shlyapnikov,M.G., Kryukov,V.M., Malys,N., Carles-Kinch,K., George,J.W., Kreuzer,K.N., Kai,T., Selick,H.E., Yonesaki,T., Penner,M., Morad,I., Snyder,L., Kaufmann,G., Bova,R., Cascino,A., Cipollaro,M., Gargano,S., Grau,O., Micheli,M.R., Santoro,M., Scarlato,V., Storlazzi,A., Young,P., Ohman,M., Sjoberg,B.M., Koch,T., Bouet,J.Y., Woszczyk,J., Repoila,F., Francois,V., Louarn,J.M., Krisch,H.M., Stormo,G.D., Dyson,R.L., Alberts,B.M., Orsini,G., Ouhammouch,M., Le Caer,J.P., Brody,E.N., Hacker,K.J., Sanson,B., Uzan,M., Sharma,M., Ellis,R.L., Hinton,D.M., Raudonikiene,A., Viteniene,I., Gruidl,M.E., Chen,T.C., Efimov,V.P., Prilipov,A.G., Mesyanzhinov,V.V., Brody,E., Favre,R., Kaliman,A.V., Khasanova,M.A., Tanyashin,V.I., Bayev,A.A., Powell,D., Franklin,J., Daegelen,P., Frazier,M.W., Maley,G.F., Duceman,B.W., Wang,A.M., Martinez,J., Maley,F., Marusich,E.I., Lin,G.W., Fan,W.H., Hahn,S., Hilse,D., Lu,M.J., Henning,U., Lamm,N., Selivanov,N.A., Black,L.W., Nikolaeva,L.I., Tseng,M.J., Hilfinger,J.M., Walsh,A., Greenberg,G.R., Spicer,E.K., Rush,J., Fung,C., Reha-Krantz,L.J., Karam,J.D., Konigsberg,W.H., Ishimoto,L.K., Ishimoto,K.S., Eiserling,F.A., Nakako,T., Takahashi,H., Ishii,S., Wang,Y., Mathews,C.K., Ishimoto,L., Kassavetis,G., Kumazaki,T., Huang,W.M., Ao,S.Z., Casjens,S., Orlandi,R., Zeikus,R., Weiss,R., Winge,D., Fang,M., Montag,D., Degen,M., Riede,I., Eschbach,M.L., Tomaschewski,J., Hsu,T., Wei,R.X., Dawson,M., Gayle,M., Winter,R.B., Gold,L., Chu,F.K., Valerie,K., Stevens,J., Lynch,M., Henderson,E.E., de Riel,J.K., Hahne,S., Mathews,C.Z., Rand,K.N., Gait,M.J., West,D.K., Belfort,M., Keller,B., Bickle,T.A., Gram,H., Crabb,J.W., Fujisawa,H., Minagawa,T., Broida,J., Abelson,J., Midgley,C.A., Murray,N.E., Parker,M.L., Christensen,A.C., Boosman,A., Stockard,J., Young,E.T., Doermann,A.H., Macdonald,P.M., Sengstag,C., Kellenberger,E., Drivdahl,R., Rand,K., Trojanowska,M., Karam,J., Stormo,G., Purohit,S., Armstrong,J., Brown,R.S., Tsugita,A., Owen,J.E., Schultz,D.W., Taylor,A., Smith,G.R., Volker,T.A., Gafner,J., Showe,M.K., Allet,B., Oliver,D.B., Crowther,R.A., Pribnow,D., Sigurdson,D.C., Singer,B.S., Napoli,C., Brosius,J., Dull,T.J., Noller,H.F., Anderson,B., Zurabishvili,T., Marusich,E., Schneider,M., Mullins,T., Napuli,A., Mesyanzhinov,V., Drake,J.W., Nguyen,D., Dressman,H., Goldberg,E.B., Ueno,H., Otsuko,Y., Morimoto,W., Kreuzer,K., Stidham,T., Thomas,E., Mzhavia,N., Djavachishvili,T., Peterson,S., Eidemiller,J., Awaya,M., Canada,W., Dimitroff,B., Blattner,F., Nakanishi,M., Alberts,B., Yasuda,G., Parker,M., Doermann,G.</td></tr><tr><th>2</th><td>NC_000867.1</td><td></td><td>Kivela,H.M., Mannisto,R.H., Kalkkinen,N., Bamford,D.H., Paulin,L., Bamford,J.K., Bamford,J.K.H.</td></tr><tr><th>3</th><td>NC_000871.1</td><td></td><td>Desiere,F., Lucchini,S., Brussow,H.</td></tr><tr><th>4</th><td>NC_000872.1</td><td></td><td>Desiere,F., Lucchini,S., Brussow,H., Bruttin,A.</td></tr><tr><th>5</th><td>NC_000896.1</td><td></td><td>Altermann,E., Klein,J.R., Henrich,B., Engel,G., Klein,J., Binishofer,B., Blasi,U., Fremaux,C., De Antoni,G.L., Raya,R.R., Klaenhammer,T.R.</td></tr><tr><th>6</th><td>NC_000902.1</td><td></td><td>Miyamoto,H., Nakai,W., Yajima,N., Fujibayashi,A., Higuchi,T., Sato,K., Matsushiro,A.</td></tr><tr><th>7</th><td>NC_000924.1</td><td></td><td>Plunkett,G. III, Rose,D.J., Durfee,T.J., Blattner,F.R.</td></tr><tr><th>8</th><td>NC_000929.1</td><td></td><td>Morgan,G.J., Hatfull,G.F., Casjens,S., Hendrix,R.W., Morgan,G., Hatfull,G., Hendrix,R.</td></tr><tr><th>9</th><td>NC_000935.1</td><td></td><td>van der Wilk,F., Dullemans,A.M., Verbeek,M., van den Heuvel,J.F., van den Heuvel,J.F.J.M.</td></tr><tr><th>10</th><td>NC_001271.1</td><td></td><td>Pajunen,M.I., Kiljunen,S.J., Soderholm,M.E., Skurnik,M.</td></tr><tr><th>11</th><td>NC_001317.1</td><td></td><td>Portelli,R., Dodd,I.B., Xue,Q., Egan,J.B., Kalionis,B., Richardson,H., Puspurs,A.</td></tr><tr><th>12</th><td>NC_001330.1</td><td></td><td>Kodaira,K., Nakano,K., Okada,S., Taketo,A., Kodaira,K.I., Tadokoro,H., Suzuki,K., Oki,M., Manto,S.</td></tr><tr><th>13</th><td>NC_001331.1</td><td></td><td>Hill,D.F., Short,N.J., Perham,R.N., Petersen,G.B.</td></tr><tr><th>14</th><td>NC_001332.1</td><td></td><td>Stassen,A.P., Schoenmakers,E.F., Yu,M., Schoenmakers,J.G., Konings,R.N., Konings,R.N.H.</td></tr><tr><th>15</th><td>NC_001335.1</td><td></td><td>Donnelly-Wu,M.K., Jacobs,W.R. Jr., Hatfull,G.F., Sarkis,G.J.</td></tr><tr><th>16</th><td>NC_001396.1</td><td></td><td>Kuo,T.T., Tan,M.S., Su,M.T., Yang,M.K.</td></tr><tr><th>17</th><td>NC_001416.1</td><td></td><td>Chen,C.Y., Richardson,J.P., Peltz,S.W., Brown,A.L., Hasan,N., Podhajska,A.J., Szybalski,W., Coleclough,C., Erlitz,F.L., Place,N., Fien,K., Mahoney,M.E., Wulff,D.L., Ho,Y.S., Debouck,C., Rosenberg,M., Shih,M.C., Gussin,G.N., Frackman,S., Siegele,D.A., Feiss,M., Craig,N.L., Nash,H.A., Edlind,T.D., Cooley,T.E., Richards,S.H., Ihler,G.M., Warren,F., Das,A., Mahoney,M., Shatzman,A., Hohn,B., Taylor,A., Benedik,M., Campbell,A., Miwa,T., Matsubara,K., Mascarenhas,D., Luk,K.C., Kobayashi,I., Widner,W., Knight,D.M., Echols,H., Daniels,D.L., Schroeder,J.L., Sanger,F., Blattner,F.R., Coulson,A.R., Hong,G.F., Hill,D.F., Petersen,G.B., Kroger,M., Hobom,G., Landsmann,J., Lau,L.F., Roberts,J.W., Wu,R., Hawley,D.K., McClure,W.R., Moore,D.D., Hyman,H.C., Honigman,A., Kravchenko,V.V., Mikryukov,N.N., Drahos,D., Petrov,N.A., Karginov,V.A., Mikriukov,N.N., Serpinski,O.I., Remaut,E., Stanssens,P., Fiers,W., Ineichen,K., Shepherd,J.C., Bickle,T.A., Denniston,K.J., Horn,G.T., Wells,R.D., Abraham,J., Smith,G.R., Comb,M., Schultz,D.W., Miller,H.I., Court,D., Fischer,R., Galindo,J.M., Guarneros,G., Hernandez,T., Montanez,C., Schindler,D., Schmeissner,U., Sosa,L., Rosenvold,E.C., Calva,E., Burgess,R.R., Lieb,M., Rosen,E.D., Hartley,J.L., Matz,K., Nichols,B.P., Young,K.M., Donelson,J.E., Mizuuchi,M., Mizuuchi,K., Meyer,B.J., Maurer,R., Ptashne,M., Hsu,P.L., Ross,W., Landy,A., Hoess,R.H., Foeller,C., Bidwell,K., Davies,R.W., Brady,C., Behr,M., Izumi,S.U., Beher,M., Izumi,S., Beck,J., Shimatake,H., Crasemann,J.M., Pirrotta,V., Walz,A., Schwarz,E., Scherer,G., Kossel,H., Franklin,N.C., Bennett,G.N., Kikuchi,Y., Nash,H., Faulds,D.H., Sprague,K.U., Grosschedl,R., Lusky,M., Denniston-Thompson,K., Kruger,K.E., Furth,M.E., Williams,B.G., Sauer,R.T., Flashman,S.M., Schreier,P.H., Buchel,D.E., Adhya,S., Gottesman,M., Roberts,T.M., Humayun,Z., Jeffrey,A., Sklar,J.L., Backman,K., Humayun,M.Z., Meyer,B., Eisen,H., Reichardt,L., Hedgepeth,J., Dahlberg,J.E., Kleid,D.G., Agarwal,K.L., Khorana,H.G., Maniatis,T., Kield,D., Flashman,S., Sklar,J., Yot,P., Weissman,S.M., Weigel,P.H., Englund,P.T., Murray,K., Old,R.W., Imada,M., Tsugita,A., Lebowitz,P., Radding,C.M., Taylor,E.</td></tr><tr><th>18</th><td>NC_001417.2</td><td></td><td>de Smit,M.H., van Duin,J., Auerswald,E.A., Horlein,D., Reinhardt,G., Schroder,W., Schnabel,E., Beremand,M.N., Blumenthal,T., Schwartz,R.M., Dayhoff,M.O., Fiers,W., Contreras,R., Duerinck,F., Haegeman,G., Iserentant,D., Merregaert,J., Min Jou,W., Molemans,F., Raeymaekers,A., Van den Berghe,A., Volckaert,G., Ysebaert,M., Haegmean,G., Jou,W.M., Raeymakers,A., Van de Kerckhove,J., Nolf,F., Van Montagu,M., Vandenberghe,A., de Wachter,R.</td></tr><tr><th>19</th><td>NC_001418.1</td><td></td><td>Luiten,R.G., Putterman,D.G., Schoenmakers,J.G., Konings,R.N., Day,L.A.</td></tr><tr><th>20</th><td>NC_001420.2</td><td></td><td>Godson,G.N., Barrell,B.G., Staden,R., Fiddes,J.C.</td></tr><tr><th>21</th><td>NC_001421.2</td><td></td><td>Saren,A.M., Ravantti,J.J., Benson,S.D., Burnett,R.M., Paulin,L., Bamford,D.H., Bamford,J.K., Hanninen,A.L., Pakula,T.M., Ojala,P.M., Kalkkinen,N., Frilander,M., Saren,A.-M.</td></tr><tr><th>22</th><td>NC_001422.1</td><td></td><td>Air,G.M., Els,M.C., Brown,L.E., Laver,W.G., Webster,R.G., Merville,M.P., Piette,J., Lopez,M., Decuyper,J., van de Vorst,A., Ueda,K., Morita,J., Komano,T., Takeshita,M., Kappen,L.S., Grollman,A.P., Eisenberg,M., Goldberg,I.H., Heidekamp,F., Langeveld,S.A., Baas,P.D., Jansz,H.S., van Mansfeld,A.D., de Winter,J.M., Weisbeek,P.J., Coulson,A.R., Fiddes,J.C., Friedmann,T., Hutchison,C.A. III, Sanger,F., Slocombe,P.M., Smith,A.J., Barrell,B.G., Brown,N.L., Smith,M., Fiddes,C.A., Hutchison,C.A., Blackburn,E.H., Galibert,F., Sedat,J.W., Ziff,E.B., Sedat,J., Ziff,E., Mansfeld,A.D., Vereijken,J.M., Weith,H.L., Donelson,J.E., Robertson,H.D.</td></tr><tr><th>23</th><td>NC_001423.1</td><td></td><td>Paces,V., Vlcek,C., Urbanek,P., Hostomsky,Z.</td></tr><tr><th>24</th><td>NC_001426.1</td><td></td><td>Inokuchi,Y., Takahashi,R., Hirose,T., Inayama,S., Jacobson,A.B., Hirashima,A.</td></tr><tr><th>25</th><td>NC_001447.1</td><td></td><td>Maniloff,J., Kampo,G.J., Dascher,C.C., Poddar,S.K., Dybvig,K.</td></tr><tr><th>26</th><td>NC_001604.1</td><td></td><td>Cheng,X., Zhang,X., Pflugrath,J.W., Studier,F.W., Liu,Q., Richardson,C.C., Mendelman,L.V., Notarnicola,S.M., Rosenberg,A.H., Patel,S.S., Johnson,K.A., Lin,L., Condron,B.G., Atkins,J.F., Gesteland,R.F., Beck,P.J., Gonzalez,S., Ward,C.L., Molineux,I.J., Casjens,S., Eppler,K., Parr,R., Poteete,A.R., Schmitt,C.K., Condreay,J.P., Huber,H.E., Beauchamp,B.B., Moffatt,B.A., Prosen,D.E., Cech,C.L., Dunn,J.J.</td></tr><tr><th>27</th><td>NC_001609.1</td><td></td><td>Haggard-Liungquist,E., Jacobsen,E., Rishovd,S., Six,W.S., Nilssen,O., Sunshine,M.G., Lindqvist,B.H., Kim,K.J., Barreiro,V., Koonin,E.V., Calendar,R., Van Bokkelen,G.B., Dale,E.C., Halling,C., Christie,G.E., Deho,G., Finkel,S., Flensburg,J., Ghisotti,D., Kahn,M.L., Lane,K.B., Lin,C.S., Pierson,L.S., Six,E.W., Ziermann,R., Halling,C.H.</td></tr><tr><th>28</th><td>NC_001629.1</td><td></td><td>Schouler,C., Ehrlich,S.D., Chopin,M.C.</td></tr><tr><th>29</th><td>NC_001697.1</td><td></td><td>Esposito,D., Fitzmaurice,W.P., Benjamin,R.C., Goodman,S.D., Waldman,A.S., Scocca,J.J., Huang,P.C.</td></tr><tr><th>30</th><td>NC_001706.1</td><td></td><td>Lubbers,M.W., Waterfield,N.R., Beresford,T.P., Le Page,R.W., Jarvis,A.W., Ward,L.J., Jarvis,B.D.</td></tr><tr><th>&vellip;</th><td>&vellip;</td><td>&vellip;</td><td>&vellip;</td></tr></tbody></table></div>"
      ],
      "text/latex": [
       "\\begin{tabular}{r|cccc}\n",
       "\t& Accession & SRA\\_Accession & Submitters & \\\\\n",
       "\t\\hline\n",
       "\t& String & String & String & \\\\\n",
       "\t\\hline\n",
       "\t1 & NC\\_000866.4 &  & Miller,E.S., Kutter,E., Mosig,G., Arisaka,F., Kunisawa,T., Ruger,W., Ho,C.K., Shuman,S., Shcherbakov,V., Granovsky,I., Plugina,L., Shcherbakova,T., Sizova,S., Pyatkov,K., Shlyapnikov,M., Shubina,O., Xu,W., Gauss,P., Shen,J., Dunn,C.A., Bessman,M.J., Truncaite,L., Zajanckauskaite,A., Nivinskas,R., Belle,A., Landthaler,M., Shub,D.A., Stehr,M., Schneider,G., Aslund,F., Holmgren,A., Lindqvist,Y., Ramanculov,E., Young,R., Vaiskunaite,R., Miller,A., Davenport,L., Colowick,N.E., Pietz,B.C., Franklin,J.L., Haseltine,D., Wang,F.J., Ripley,L.S., Paddison,P., Abedon,S.T., Dressman,H.K., Gailbreath,K., Tracy,J., Mosser,E., Neitzel,J., Guttman,B., Kim,B.C., Kim,K., Park,E.H., Lim,C.J., Kadyrov,F.A., Shlyapnikov,M.G., Kryukov,V.M., Malys,N., Carles-Kinch,K., George,J.W., Kreuzer,K.N., Kai,T., Selick,H.E., Yonesaki,T., Penner,M., Morad,I., Snyder,L., Kaufmann,G., Bova,R., Cascino,A., Cipollaro,M., Gargano,S., Grau,O., Micheli,M.R., Santoro,M., Scarlato,V., Storlazzi,A., Young,P., Ohman,M., Sjoberg,B.M., Koch,T., Bouet,J.Y., Woszczyk,J., Repoila,F., Francois,V., Louarn,J.M., Krisch,H.M., Stormo,G.D., Dyson,R.L., Alberts,B.M., Orsini,G., Ouhammouch,M., Le Caer,J.P., Brody,E.N., Hacker,K.J., Sanson,B., Uzan,M., Sharma,M., Ellis,R.L., Hinton,D.M., Raudonikiene,A., Viteniene,I., Gruidl,M.E., Chen,T.C., Efimov,V.P., Prilipov,A.G., Mesyanzhinov,V.V., Brody,E., Favre,R., Kaliman,A.V., Khasanova,M.A., Tanyashin,V.I., Bayev,A.A., Powell,D., Franklin,J., Daegelen,P., Frazier,M.W., Maley,G.F., Duceman,B.W., Wang,A.M., Martinez,J., Maley,F., Marusich,E.I., Lin,G.W., Fan,W.H., Hahn,S., Hilse,D., Lu,M.J., Henning,U., Lamm,N., Selivanov,N.A., Black,L.W., Nikolaeva,L.I., Tseng,M.J., Hilfinger,J.M., Walsh,A., Greenberg,G.R., Spicer,E.K., Rush,J., Fung,C., Reha-Krantz,L.J., Karam,J.D., Konigsberg,W.H., Ishimoto,L.K., Ishimoto,K.S., Eiserling,F.A., Nakako,T., Takahashi,H., Ishii,S., Wang,Y., Mathews,C.K., Ishimoto,L., Kassavetis,G., Kumazaki,T., Huang,W.M., Ao,S.Z., Casjens,S., Orlandi,R., Zeikus,R., Weiss,R., Winge,D., Fang,M., Montag,D., Degen,M., Riede,I., Eschbach,M.L., Tomaschewski,J., Hsu,T., Wei,R.X., Dawson,M., Gayle,M., Winter,R.B., Gold,L., Chu,F.K., Valerie,K., Stevens,J., Lynch,M., Henderson,E.E., de Riel,J.K., Hahne,S., Mathews,C.Z., Rand,K.N., Gait,M.J., West,D.K., Belfort,M., Keller,B., Bickle,T.A., Gram,H., Crabb,J.W., Fujisawa,H., Minagawa,T., Broida,J., Abelson,J., Midgley,C.A., Murray,N.E., Parker,M.L., Christensen,A.C., Boosman,A., Stockard,J., Young,E.T., Doermann,A.H., Macdonald,P.M., Sengstag,C., Kellenberger,E., Drivdahl,R., Rand,K., Trojanowska,M., Karam,J., Stormo,G., Purohit,S., Armstrong,J., Brown,R.S., Tsugita,A., Owen,J.E., Schultz,D.W., Taylor,A., Smith,G.R., Volker,T.A., Gafner,J., Showe,M.K., Allet,B., Oliver,D.B., Crowther,R.A., Pribnow,D., Sigurdson,D.C., Singer,B.S., Napoli,C., Brosius,J., Dull,T.J., Noller,H.F., Anderson,B., Zurabishvili,T., Marusich,E., Schneider,M., Mullins,T., Napuli,A., Mesyanzhinov,V., Drake,J.W., Nguyen,D., Dressman,H., Goldberg,E.B., Ueno,H., Otsuko,Y., Morimoto,W., Kreuzer,K., Stidham,T., Thomas,E., Mzhavia,N., Djavachishvili,T., Peterson,S., Eidemiller,J., Awaya,M., Canada,W., Dimitroff,B., Blattner,F., Nakanishi,M., Alberts,B., Yasuda,G., Parker,M., Doermann,G. & $\\dots$ \\\\\n",
       "\t2 & NC\\_000867.1 &  & Kivela,H.M., Mannisto,R.H., Kalkkinen,N., Bamford,D.H., Paulin,L., Bamford,J.K., Bamford,J.K.H. & $\\dots$ \\\\\n",
       "\t3 & NC\\_000871.1 &  & Desiere,F., Lucchini,S., Brussow,H. & $\\dots$ \\\\\n",
       "\t4 & NC\\_000872.1 &  & Desiere,F., Lucchini,S., Brussow,H., Bruttin,A. & $\\dots$ \\\\\n",
       "\t5 & NC\\_000896.1 &  & Altermann,E., Klein,J.R., Henrich,B., Engel,G., Klein,J., Binishofer,B., Blasi,U., Fremaux,C., De Antoni,G.L., Raya,R.R., Klaenhammer,T.R. & $\\dots$ \\\\\n",
       "\t6 & NC\\_000902.1 &  & Miyamoto,H., Nakai,W., Yajima,N., Fujibayashi,A., Higuchi,T., Sato,K., Matsushiro,A. & $\\dots$ \\\\\n",
       "\t7 & NC\\_000924.1 &  & Plunkett,G. III, Rose,D.J., Durfee,T.J., Blattner,F.R. & $\\dots$ \\\\\n",
       "\t8 & NC\\_000929.1 &  & Morgan,G.J., Hatfull,G.F., Casjens,S., Hendrix,R.W., Morgan,G., Hatfull,G., Hendrix,R. & $\\dots$ \\\\\n",
       "\t9 & NC\\_000935.1 &  & van der Wilk,F., Dullemans,A.M., Verbeek,M., van den Heuvel,J.F., van den Heuvel,J.F.J.M. & $\\dots$ \\\\\n",
       "\t10 & NC\\_001271.1 &  & Pajunen,M.I., Kiljunen,S.J., Soderholm,M.E., Skurnik,M. & $\\dots$ \\\\\n",
       "\t11 & NC\\_001317.1 &  & Portelli,R., Dodd,I.B., Xue,Q., Egan,J.B., Kalionis,B., Richardson,H., Puspurs,A. & $\\dots$ \\\\\n",
       "\t12 & NC\\_001330.1 &  & Kodaira,K., Nakano,K., Okada,S., Taketo,A., Kodaira,K.I., Tadokoro,H., Suzuki,K., Oki,M., Manto,S. & $\\dots$ \\\\\n",
       "\t13 & NC\\_001331.1 &  & Hill,D.F., Short,N.J., Perham,R.N., Petersen,G.B. & $\\dots$ \\\\\n",
       "\t14 & NC\\_001332.1 &  & Stassen,A.P., Schoenmakers,E.F., Yu,M., Schoenmakers,J.G., Konings,R.N., Konings,R.N.H. & $\\dots$ \\\\\n",
       "\t15 & NC\\_001335.1 &  & Donnelly-Wu,M.K., Jacobs,W.R. Jr., Hatfull,G.F., Sarkis,G.J. & $\\dots$ \\\\\n",
       "\t16 & NC\\_001396.1 &  & Kuo,T.T., Tan,M.S., Su,M.T., Yang,M.K. & $\\dots$ \\\\\n",
       "\t17 & NC\\_001416.1 &  & Chen,C.Y., Richardson,J.P., Peltz,S.W., Brown,A.L., Hasan,N., Podhajska,A.J., Szybalski,W., Coleclough,C., Erlitz,F.L., Place,N., Fien,K., Mahoney,M.E., Wulff,D.L., Ho,Y.S., Debouck,C., Rosenberg,M., Shih,M.C., Gussin,G.N., Frackman,S., Siegele,D.A., Feiss,M., Craig,N.L., Nash,H.A., Edlind,T.D., Cooley,T.E., Richards,S.H., Ihler,G.M., Warren,F., Das,A., Mahoney,M., Shatzman,A., Hohn,B., Taylor,A., Benedik,M., Campbell,A., Miwa,T., Matsubara,K., Mascarenhas,D., Luk,K.C., Kobayashi,I., Widner,W., Knight,D.M., Echols,H., Daniels,D.L., Schroeder,J.L., Sanger,F., Blattner,F.R., Coulson,A.R., Hong,G.F., Hill,D.F., Petersen,G.B., Kroger,M., Hobom,G., Landsmann,J., Lau,L.F., Roberts,J.W., Wu,R., Hawley,D.K., McClure,W.R., Moore,D.D., Hyman,H.C., Honigman,A., Kravchenko,V.V., Mikryukov,N.N., Drahos,D., Petrov,N.A., Karginov,V.A., Mikriukov,N.N., Serpinski,O.I., Remaut,E., Stanssens,P., Fiers,W., Ineichen,K., Shepherd,J.C., Bickle,T.A., Denniston,K.J., Horn,G.T., Wells,R.D., Abraham,J., Smith,G.R., Comb,M., Schultz,D.W., Miller,H.I., Court,D., Fischer,R., Galindo,J.M., Guarneros,G., Hernandez,T., Montanez,C., Schindler,D., Schmeissner,U., Sosa,L., Rosenvold,E.C., Calva,E., Burgess,R.R., Lieb,M., Rosen,E.D., Hartley,J.L., Matz,K., Nichols,B.P., Young,K.M., Donelson,J.E., Mizuuchi,M., Mizuuchi,K., Meyer,B.J., Maurer,R., Ptashne,M., Hsu,P.L., Ross,W., Landy,A., Hoess,R.H., Foeller,C., Bidwell,K., Davies,R.W., Brady,C., Behr,M., Izumi,S.U., Beher,M., Izumi,S., Beck,J., Shimatake,H., Crasemann,J.M., Pirrotta,V., Walz,A., Schwarz,E., Scherer,G., Kossel,H., Franklin,N.C., Bennett,G.N., Kikuchi,Y., Nash,H., Faulds,D.H., Sprague,K.U., Grosschedl,R., Lusky,M., Denniston-Thompson,K., Kruger,K.E., Furth,M.E., Williams,B.G., Sauer,R.T., Flashman,S.M., Schreier,P.H., Buchel,D.E., Adhya,S., Gottesman,M., Roberts,T.M., Humayun,Z., Jeffrey,A., Sklar,J.L., Backman,K., Humayun,M.Z., Meyer,B., Eisen,H., Reichardt,L., Hedgepeth,J., Dahlberg,J.E., Kleid,D.G., Agarwal,K.L., Khorana,H.G., Maniatis,T., Kield,D., Flashman,S., Sklar,J., Yot,P., Weissman,S.M., Weigel,P.H., Englund,P.T., Murray,K., Old,R.W., Imada,M., Tsugita,A., Lebowitz,P., Radding,C.M., Taylor,E. & $\\dots$ \\\\\n",
       "\t18 & NC\\_001417.2 &  & de Smit,M.H., van Duin,J., Auerswald,E.A., Horlein,D., Reinhardt,G., Schroder,W., Schnabel,E., Beremand,M.N., Blumenthal,T., Schwartz,R.M., Dayhoff,M.O., Fiers,W., Contreras,R., Duerinck,F., Haegeman,G., Iserentant,D., Merregaert,J., Min Jou,W., Molemans,F., Raeymaekers,A., Van den Berghe,A., Volckaert,G., Ysebaert,M., Haegmean,G., Jou,W.M., Raeymakers,A., Van de Kerckhove,J., Nolf,F., Van Montagu,M., Vandenberghe,A., de Wachter,R. & $\\dots$ \\\\\n",
       "\t19 & NC\\_001418.1 &  & Luiten,R.G., Putterman,D.G., Schoenmakers,J.G., Konings,R.N., Day,L.A. & $\\dots$ \\\\\n",
       "\t20 & NC\\_001420.2 &  & Godson,G.N., Barrell,B.G., Staden,R., Fiddes,J.C. & $\\dots$ \\\\\n",
       "\t21 & NC\\_001421.2 &  & Saren,A.M., Ravantti,J.J., Benson,S.D., Burnett,R.M., Paulin,L., Bamford,D.H., Bamford,J.K., Hanninen,A.L., Pakula,T.M., Ojala,P.M., Kalkkinen,N., Frilander,M., Saren,A.-M. & $\\dots$ \\\\\n",
       "\t22 & NC\\_001422.1 &  & Air,G.M., Els,M.C., Brown,L.E., Laver,W.G., Webster,R.G., Merville,M.P., Piette,J., Lopez,M., Decuyper,J., van de Vorst,A., Ueda,K., Morita,J., Komano,T., Takeshita,M., Kappen,L.S., Grollman,A.P., Eisenberg,M., Goldberg,I.H., Heidekamp,F., Langeveld,S.A., Baas,P.D., Jansz,H.S., van Mansfeld,A.D., de Winter,J.M., Weisbeek,P.J., Coulson,A.R., Fiddes,J.C., Friedmann,T., Hutchison,C.A. III, Sanger,F., Slocombe,P.M., Smith,A.J., Barrell,B.G., Brown,N.L., Smith,M., Fiddes,C.A., Hutchison,C.A., Blackburn,E.H., Galibert,F., Sedat,J.W., Ziff,E.B., Sedat,J., Ziff,E., Mansfeld,A.D., Vereijken,J.M., Weith,H.L., Donelson,J.E., Robertson,H.D. & $\\dots$ \\\\\n",
       "\t23 & NC\\_001423.1 &  & Paces,V., Vlcek,C., Urbanek,P., Hostomsky,Z. & $\\dots$ \\\\\n",
       "\t24 & NC\\_001426.1 &  & Inokuchi,Y., Takahashi,R., Hirose,T., Inayama,S., Jacobson,A.B., Hirashima,A. & $\\dots$ \\\\\n",
       "\t25 & NC\\_001447.1 &  & Maniloff,J., Kampo,G.J., Dascher,C.C., Poddar,S.K., Dybvig,K. & $\\dots$ \\\\\n",
       "\t26 & NC\\_001604.1 &  & Cheng,X., Zhang,X., Pflugrath,J.W., Studier,F.W., Liu,Q., Richardson,C.C., Mendelman,L.V., Notarnicola,S.M., Rosenberg,A.H., Patel,S.S., Johnson,K.A., Lin,L., Condron,B.G., Atkins,J.F., Gesteland,R.F., Beck,P.J., Gonzalez,S., Ward,C.L., Molineux,I.J., Casjens,S., Eppler,K., Parr,R., Poteete,A.R., Schmitt,C.K., Condreay,J.P., Huber,H.E., Beauchamp,B.B., Moffatt,B.A., Prosen,D.E., Cech,C.L., Dunn,J.J. & $\\dots$ \\\\\n",
       "\t27 & NC\\_001609.1 &  & Haggard-Liungquist,E., Jacobsen,E., Rishovd,S., Six,W.S., Nilssen,O., Sunshine,M.G., Lindqvist,B.H., Kim,K.J., Barreiro,V., Koonin,E.V., Calendar,R., Van Bokkelen,G.B., Dale,E.C., Halling,C., Christie,G.E., Deho,G., Finkel,S., Flensburg,J., Ghisotti,D., Kahn,M.L., Lane,K.B., Lin,C.S., Pierson,L.S., Six,E.W., Ziermann,R., Halling,C.H. & $\\dots$ \\\\\n",
       "\t28 & NC\\_001629.1 &  & Schouler,C., Ehrlich,S.D., Chopin,M.C. & $\\dots$ \\\\\n",
       "\t29 & NC\\_001697.1 &  & Esposito,D., Fitzmaurice,W.P., Benjamin,R.C., Goodman,S.D., Waldman,A.S., Scocca,J.J., Huang,P.C. & $\\dots$ \\\\\n",
       "\t30 & NC\\_001706.1 &  & Lubbers,M.W., Waterfield,N.R., Beresford,T.P., Le Page,R.W., Jarvis,A.W., Ward,L.J., Jarvis,B.D. & $\\dots$ \\\\\n",
       "\t$\\dots$ & $\\dots$ & $\\dots$ & $\\dots$ &  \\\\\n",
       "\\end{tabular}\n"
      ],
      "text/plain": [
       "\u001b[1m4569×23 DataFrame\u001b[0m\n",
       "\u001b[1m  Row \u001b[0m│\u001b[1m Accession   \u001b[0m\u001b[1m SRA_Accession \u001b[0m\u001b[1m Submitters                        \u001b[0m\u001b[1m Release\u001b[0m ⋯\n",
       "\u001b[1m      \u001b[0m│\u001b[90m String      \u001b[0m\u001b[90m String        \u001b[0m\u001b[90m String                            \u001b[0m\u001b[90m String \u001b[0m ⋯\n",
       "──────┼─────────────────────────────────────────────────────────────────────────\n",
       "    1 │ NC_000866.4                 Miller,E.S., Kutter,E., Mosig,G.…  1999-07 ⋯\n",
       "    2 │ NC_000867.1                 Kivela,H.M., Mannisto,R.H., Kalk…  1999-07\n",
       "    3 │ NC_000871.1                 Desiere,F., Lucchini,S., Brussow…  1999-07\n",
       "    4 │ NC_000872.1                 Desiere,F., Lucchini,S., Brussow…  1999-07\n",
       "    5 │ NC_000896.1                 Altermann,E., Klein,J.R., Henric…  1999-08 ⋯\n",
       "    6 │ NC_000902.1                 Miyamoto,H., Nakai,W., Yajima,N.…  1999-09\n",
       "    7 │ NC_000924.1                 Plunkett,G. III, Rose,D.J., Durf…  1999-04\n",
       "    8 │ NC_000929.1                 Morgan,G.J., Hatfull,G.F., Casje…  1999-10\n",
       "    9 │ NC_000935.1                 van der Wilk,F., Dullemans,A.M.,…  1999-10 ⋯\n",
       "   10 │ NC_001271.1                 Pajunen,M.I., Kiljunen,S.J., Sod…  1999-12\n",
       "   11 │ NC_001317.1                 Portelli,R., Dodd,I.B., Xue,Q., …  1995-09\n",
       "  ⋮   │      ⋮             ⋮                        ⋮                          ⋱\n",
       " 4560 │ NC_055914.1                 Ismail,A., Veeramachaneni,S., Fr…  2021-06\n",
       " 4561 │ NC_055915.1                 Hoetzinger,M., Nilsson,E., Holmf…  2021-06 ⋯\n",
       " 4562 │ NC_055916.1                 Liu,A.A., Ma,F.F.                  2021-06\n",
       " 4563 │ NC_055917.1                 Brown,N.J., Benedetto,N.J., Temp…  2021-06\n",
       " 4564 │ NC_055918.1                 Adkins,J.M., Alame,N.W., Araujo,…  2021-06\n",
       " 4565 │ NC_055919.1                 Li,S., Lin,Y.                      2021-06 ⋯\n",
       " 4566 │ NC_055920.1                 Dennis,E.A., Alston,T.C., Buckle…  2021-06\n",
       " 4567 │ NC_055921.1                 Shang,Y.                           2021-06\n",
       " 4568 │ NC_055956.1                 Dunstan,R.A., Pickard,D., Lithgo…  2021-10\n",
       " 4569 │ NC_056724.1                 Mahanivong,C., Boyce,J.D., David…  2021-08 ⋯\n",
       "\u001b[36m                                                20 columns and 4548 rows omitted\u001b[0m"
      ]
     },
     "execution_count": 7,
     "metadata": {},
     "output_type": "execute_result"
    }
   ],
   "source": [
    "# https://www.ncbi.nlm.nih.gov/labs/virus/vssi/#/virus?SeqType_s=Nucleotide&VirusLineage_ss=Bacteriophage,%20all%20taxids&Completeness_s=complete\n",
    "entity_metadata = DataFrames.DataFrame(uCSV.read(\"$(MYCELIA_METADATA)/2021-11-13-ncbi-complete-bacteriophage.csv\", header=1, quotes='\"')...)\n",
    "entity_metadata = entity_metadata[entity_metadata[!, \"Nuc_Completeness\"] .== \"complete\", :]\n",
    "entity_metadata = entity_metadata[entity_metadata[!, \"Sequence_Type\"] .== \"RefSeq\", :]\n",
    "sort!(entity_metadata, \"Accession\")"
   ]
  },
  {
   "cell_type": "code",
   "execution_count": 8,
   "metadata": {},
   "outputs": [
    {
     "data": {
      "text/html": [
       "<div class=\"data-frame\"><p>10 rows × 23 columns (omitted printing of 20 columns)</p><table class=\"data-frame\"><thead><tr><th></th><th>Accession</th><th>SRA_Accession</th><th>Submitters</th></tr><tr><th></th><th title=\"String\">String</th><th title=\"String\">String</th><th title=\"String\">String</th></tr></thead><tbody><tr><th>1</th><td>NC_005355.1</td><td></td><td>Ventura,M., Canchaya,C., Pridmore,R.D., Brussow,H., Canchaya,C.A., Pridmore,D., Bruessow,H.</td></tr><tr><th>2</th><td>NC_020844.1</td><td></td><td>Henn,M.R., Dillon,J., Levin,J., Malboeuf,C., Casali,M., Russ,C., Lennon,N., Chapman,S.B., Erlich,R., Young,S.K., Yandava,C., Zeng,Q., Alvarado,L., Anderson,S., Berlin,A., Chen,Z., Freedman,E., Gellesch,M., Goldberg,J., Green,L., Griggs,A., Gujja,S., Heilman,E.R., Heiman,D., Hollinger,A., Howarth,C., Larson,L., Mehta,T., Pearson,M., Roberts,A., Ryan,E., Saif,S., Shea,T., Shenoy,N., Sisk,P., Stolte,C., Sykes,S., White,J., Haas,B., Nusbaum,C., Birren,B.</td></tr><tr><th>3</th><td>NC_022057.1</td><td></td><td>Farina,J., Richards,K., Hiller,J., Gannon,D., Reifsnyder,R., Vogel,A., Ganski,A., Massaley,M., Carzo,S., Brower,C., Semler,R., Smith,V., Friel,S., Flynn,L., Moran,D.J., Wodarski,D.M., Harrison,M.A., Dunbar,D.A., Wang,X., Crowell,R., Bostrom,M.A., Burke,M., Wright,G.M., Gregory,S.G., Colman,S.D., Bradley,K.W., Khaja,R., Lewis,M.F., Barker,L.P., Asai,D.J., Bowman,C.A., Russell,D.A., Pope,W.H., Jacobs-Sera,D., Hendrix,R.W., Hatfull,G.F.</td></tr><tr><th>4</th><td>NC_027365.1</td><td></td><td>Hatfull,G.F., Jamborcic,A., Chen,D., Mazahreh,R., Pirahanchi,Y., Mcburney-Lin,J., Beckham,A., Rich,B., Cidambi,V., Brooks,G., Jones,S., Ricci-Tam,C., Evangelista,N., Shi,E., Matinrad,H., Coker,J., Hill,R., Lam,D., Zhang,J., Dimopoulos,C., Khan,S., Wong,A., Chou,J., Hwang,V., Chen,A., Zhang,C., Wu,K., Nguyen,E., Magarian,J., Nonejuie,P., Pogliano,K., Pogliano,J., Lee,V., Hendricks,S.L., Voegtly,L.J., Wang,Y., Glascock,A.L., Anderson,J., Williamson,S.M., Walstead,R.N., Carvalho,M.R.C., Johnson,A., Buck,G.A., Bradley,K.W., Khaja,R., Lewis,M.F., Barker,L.P., Jordan,T.C., Russell,D.A., Pope,W.H., Jacobs-Sera,D., Hendrix,R.W.</td></tr><tr><th>5</th><td>NC_028667.1</td><td></td><td>Pourcel,C., Midoux,C., Bourkaltseva,M., Pleteneva,E., Krylov,V.</td></tr><tr><th>6</th><td>NC_028974.1</td><td></td><td>Djamen,P.Y., Nguyen,L., Gibbs,Z.A., Donegan-Quick,R., Visi,D.K., Allen,M.S., Hughes,L.E., Bradley,K.W., Asai,D.J., Bowman,C.A., Russell,D.A., Pope,W.H., Jacobs-Sera,D., Hendrix,R.W., Hatfull,G.F.</td></tr><tr><th>7</th><td>NC_031230.1</td><td></td><td>Bandyopadhyay,A., Carlton,M.L., Kane,M.T., Panchal,N.J., Pham,Y.C., Reynolds,Z.J., Sapienza,M.S., German,B.A., McDonnell,J.E., Schafer,C.E., Yu,V.J., Warner,M.H., Furbee,E.C., Grubb,S.R., Montgomery,M.T., Garlena,R.A., Russell,D.A., Pope,W.H., Jacobs-Sera,D., Hendrix,R.W., Hatfull,G.F.</td></tr><tr><th>8</th><td>NC_047712.1</td><td></td><td>Gregory,A.C., LaButti,K., Copeland,A., Woyke,T., Sullivan,M.B.</td></tr><tr><th>9</th><td>NC_051670.1</td><td></td><td>Alvarez,R.V., Connors,B., Jenkins,J., Bandura,A.J., Lazo,A.N., Lorang,A.C., Mazariego,B.E., Mendez,P.D., Myrthil,G.D., Wright,J., Gurney,S.M.R., Garlena,R.A., Russell,D.A., Pope,W.H., Jacobs-Sera,D., Hatfull,G.F.</td></tr><tr><th>10</th><td>NC_054986.1</td><td></td><td>Pujato,S.A., Guglielmotti,D.M., Martinez-Garcia,M., Quiberoni,A., Mojica,F.J.M., Mojica,F.J.</td></tr></tbody></table></div>"
      ],
      "text/latex": [
       "\\begin{tabular}{r|cccc}\n",
       "\t& Accession & SRA\\_Accession & Submitters & \\\\\n",
       "\t\\hline\n",
       "\t& String & String & String & \\\\\n",
       "\t\\hline\n",
       "\t1 & NC\\_005355.1 &  & Ventura,M., Canchaya,C., Pridmore,R.D., Brussow,H., Canchaya,C.A., Pridmore,D., Bruessow,H. & $\\dots$ \\\\\n",
       "\t2 & NC\\_020844.1 &  & Henn,M.R., Dillon,J., Levin,J., Malboeuf,C., Casali,M., Russ,C., Lennon,N., Chapman,S.B., Erlich,R., Young,S.K., Yandava,C., Zeng,Q., Alvarado,L., Anderson,S., Berlin,A., Chen,Z., Freedman,E., Gellesch,M., Goldberg,J., Green,L., Griggs,A., Gujja,S., Heilman,E.R., Heiman,D., Hollinger,A., Howarth,C., Larson,L., Mehta,T., Pearson,M., Roberts,A., Ryan,E., Saif,S., Shea,T., Shenoy,N., Sisk,P., Stolte,C., Sykes,S., White,J., Haas,B., Nusbaum,C., Birren,B. & $\\dots$ \\\\\n",
       "\t3 & NC\\_022057.1 &  & Farina,J., Richards,K., Hiller,J., Gannon,D., Reifsnyder,R., Vogel,A., Ganski,A., Massaley,M., Carzo,S., Brower,C., Semler,R., Smith,V., Friel,S., Flynn,L., Moran,D.J., Wodarski,D.M., Harrison,M.A., Dunbar,D.A., Wang,X., Crowell,R., Bostrom,M.A., Burke,M., Wright,G.M., Gregory,S.G., Colman,S.D., Bradley,K.W., Khaja,R., Lewis,M.F., Barker,L.P., Asai,D.J., Bowman,C.A., Russell,D.A., Pope,W.H., Jacobs-Sera,D., Hendrix,R.W., Hatfull,G.F. & $\\dots$ \\\\\n",
       "\t4 & NC\\_027365.1 &  & Hatfull,G.F., Jamborcic,A., Chen,D., Mazahreh,R., Pirahanchi,Y., Mcburney-Lin,J., Beckham,A., Rich,B., Cidambi,V., Brooks,G., Jones,S., Ricci-Tam,C., Evangelista,N., Shi,E., Matinrad,H., Coker,J., Hill,R., Lam,D., Zhang,J., Dimopoulos,C., Khan,S., Wong,A., Chou,J., Hwang,V., Chen,A., Zhang,C., Wu,K., Nguyen,E., Magarian,J., Nonejuie,P., Pogliano,K., Pogliano,J., Lee,V., Hendricks,S.L., Voegtly,L.J., Wang,Y., Glascock,A.L., Anderson,J., Williamson,S.M., Walstead,R.N., Carvalho,M.R.C., Johnson,A., Buck,G.A., Bradley,K.W., Khaja,R., Lewis,M.F., Barker,L.P., Jordan,T.C., Russell,D.A., Pope,W.H., Jacobs-Sera,D., Hendrix,R.W. & $\\dots$ \\\\\n",
       "\t5 & NC\\_028667.1 &  & Pourcel,C., Midoux,C., Bourkaltseva,M., Pleteneva,E., Krylov,V. & $\\dots$ \\\\\n",
       "\t6 & NC\\_028974.1 &  & Djamen,P.Y., Nguyen,L., Gibbs,Z.A., Donegan-Quick,R., Visi,D.K., Allen,M.S., Hughes,L.E., Bradley,K.W., Asai,D.J., Bowman,C.A., Russell,D.A., Pope,W.H., Jacobs-Sera,D., Hendrix,R.W., Hatfull,G.F. & $\\dots$ \\\\\n",
       "\t7 & NC\\_031230.1 &  & Bandyopadhyay,A., Carlton,M.L., Kane,M.T., Panchal,N.J., Pham,Y.C., Reynolds,Z.J., Sapienza,M.S., German,B.A., McDonnell,J.E., Schafer,C.E., Yu,V.J., Warner,M.H., Furbee,E.C., Grubb,S.R., Montgomery,M.T., Garlena,R.A., Russell,D.A., Pope,W.H., Jacobs-Sera,D., Hendrix,R.W., Hatfull,G.F. & $\\dots$ \\\\\n",
       "\t8 & NC\\_047712.1 &  & Gregory,A.C., LaButti,K., Copeland,A., Woyke,T., Sullivan,M.B. & $\\dots$ \\\\\n",
       "\t9 & NC\\_051670.1 &  & Alvarez,R.V., Connors,B., Jenkins,J., Bandura,A.J., Lazo,A.N., Lorang,A.C., Mazariego,B.E., Mendez,P.D., Myrthil,G.D., Wright,J., Gurney,S.M.R., Garlena,R.A., Russell,D.A., Pope,W.H., Jacobs-Sera,D., Hatfull,G.F. & $\\dots$ \\\\\n",
       "\t10 & NC\\_054986.1 &  & Pujato,S.A., Guglielmotti,D.M., Martinez-Garcia,M., Quiberoni,A., Mojica,F.J.M., Mojica,F.J. & $\\dots$ \\\\\n",
       "\\end{tabular}\n"
      ],
      "text/plain": [
       "\u001b[1m10×23 DataFrame\u001b[0m\n",
       "\u001b[1m Row \u001b[0m│\u001b[1m Accession   \u001b[0m\u001b[1m SRA_Accession \u001b[0m\u001b[1m Submitters                        \u001b[0m\u001b[1m Release_\u001b[0m ⋯\n",
       "\u001b[1m     \u001b[0m│\u001b[90m String      \u001b[0m\u001b[90m String        \u001b[0m\u001b[90m String                            \u001b[0m\u001b[90m String  \u001b[0m ⋯\n",
       "─────┼──────────────────────────────────────────────────────────────────────────\n",
       "   1 │ NC_005355.1                 Ventura,M., Canchaya,C., Pridmor…  2004-01- ⋯\n",
       "   2 │ NC_020844.1                 Henn,M.R., Dillon,J., Levin,J., …  2013-03-\n",
       "   3 │ NC_022057.1                 Farina,J., Richards,K., Hiller,J…  2013-08-\n",
       "   4 │ NC_027365.1                 Hatfull,G.F., Jamborcic,A., Chen…  2015-06-\n",
       "   5 │ NC_028667.1                 Pourcel,C., Midoux,C., Bourkalts…  2015-12- ⋯\n",
       "   6 │ NC_028974.1                 Djamen,P.Y., Nguyen,L., Gibbs,Z.…  2016-01-\n",
       "   7 │ NC_031230.1                 Bandyopadhyay,A., Carlton,M.L., …  2016-09-\n",
       "   8 │ NC_047712.1                 Gregory,A.C., LaButti,K., Copela…  2020-05-\n",
       "   9 │ NC_051670.1                 Alvarez,R.V., Connors,B., Jenkin…  2020-11- ⋯\n",
       "  10 │ NC_054986.1                 Pujato,S.A., Guglielmotti,D.M., …  2021-05-\n",
       "\u001b[36m                                                              20 columns omitted\u001b[0m"
      ]
     },
     "execution_count": 8,
     "metadata": {},
     "output_type": "execute_result"
    }
   ],
   "source": [
    "Random.seed!(0)\n",
    "n_samples = 10\n",
    "subset_indices = StatsBase.sample(1:size(entity_metadata, 1), n_samples, ordered=true, replace=false)\n",
    "entity_metadata = entity_metadata[subset_indices, :]\n",
    "# n_samples = size(entity_metadata, 1)"
   ]
  },
  {
   "cell_type": "code",
   "execution_count": 9,
   "metadata": {},
   "outputs": [
    {
     "name": "stdout",
     "output_type": "stream",
     "text": [
      "\u001b[1m10×23 DataFrame\u001b[0m\n",
      "\u001b[1m Row \u001b[0m│\u001b[1m Accession   \u001b[0m\u001b[1m SRA_Accession \u001b[0m\u001b[1m Submitters                        \u001b[0m\u001b[1m Release_Date         \u001b[0m\u001b[1m Isolate   \u001b[0m\u001b[1m Species                           \u001b[0m\u001b[1m Genus          \u001b[0m\u001b[1m Family       \u001b[0m\u001b[1m Molecule_type \u001b[0m\u001b[1m Length \u001b[0m\u001b[1m Sequence_Type \u001b[0m\u001b[1m Nuc_Completeness \u001b[0m\u001b[1m Genotype \u001b[0m\u001b[1m Segment \u001b[0m\u001b[1m Publications \u001b[0m\u001b[1m Geo_Location                     \u001b[0m\u001b[1m Country \u001b[0m\u001b[1m USA    \u001b[0m\u001b[1m Host                              \u001b[0m\u001b[1m Isolation_Source \u001b[0m\u001b[1m Collection_Date \u001b[0m\u001b[1m BioSample \u001b[0m\u001b[1m GenBank_Title                     \u001b[0m\n",
      "\u001b[1m     \u001b[0m│\u001b[90m String      \u001b[0m\u001b[90m String        \u001b[0m\u001b[90m String                            \u001b[0m\u001b[90m String               \u001b[0m\u001b[90m String    \u001b[0m\u001b[90m String                            \u001b[0m\u001b[90m String         \u001b[0m\u001b[90m String       \u001b[0m\u001b[90m String        \u001b[0m\u001b[90m Int64  \u001b[0m\u001b[90m String        \u001b[0m\u001b[90m String           \u001b[0m\u001b[90m String   \u001b[0m\u001b[90m String  \u001b[0m\u001b[90m String       \u001b[0m\u001b[90m String                           \u001b[0m\u001b[90m String  \u001b[0m\u001b[90m String \u001b[0m\u001b[90m String                            \u001b[0m\u001b[90m String           \u001b[0m\u001b[90m String          \u001b[0m\u001b[90m String    \u001b[0m\u001b[90m String                            \u001b[0m\n",
      "─────┼─────────────────────────────────────────────────────────────────────────────────────────────────────────────────────────────────────────────────────────────────────────────────────────────────────────────────────────────────────────────────────────────────────────────────────────────────────────────────────────────────────────────────────────────────────────────────────────────────────────────────────────────────\n",
      "   1 │ NC_005355.1                 Ventura,M., Canchaya,C., Pridmor…  2004-01-23T00:00:00Z             Lactobacillus prophage Lj965                       Siphoviridae  dsDNA           40190  RefSeq         complete                             1                                                                Lactobacillus johnsonii                                                          Lactobacillus prophage Lj965, co…\n",
      "   2 │ NC_020844.1                 Henn,M.R., Dillon,J., Levin,J., …  2013-03-30T00:00:00Z             Salicola phage CGphi29                             Siphoviridae  dsDNA           40695  RefSeq         complete                                           USA: Cargill Saltern, Newark, CA  USA      CA      Salicola                                             2008-01-25                  Salicola phage CGphi29 genomic s…\n",
      "   3 │ NC_022057.1                 Farina,J., Richards,K., Hiller,J…  2013-08-14T00:00:00Z             Mycobacterium phage Catdawg        Corndogvirus    Siphoviridae  dsDNA           72108  RefSeq         complete                                           USA: Radnor, PA                   USA      PA      Mycolicibacterium smegmatis MC2 …                    2011-10-01                  Mycobacterium phage Catdawg, com…\n",
      "   4 │ NC_027365.1                 Hatfull,G.F., Jamborcic,A., Chen…  2015-06-24T00:00:00Z             Mycobacterium virus Fionnbarth     Timquatrovirus  Siphoviridae  dsDNA           58076  RefSeq         complete                             1             USA: La Jolla, CA                 USA      CA      Mycolicibacterium smegmatis MC2 …                    2010-10-01                  Mycobacterium virus Fionnbarth, …\n",
      "   5 │ NC_028667.1                 Pourcel,C., Midoux,C., Bourkalts…  2015-12-17T00:00:00Z             Pseudomonas virus PM105            Beetrevirus     Siphoviridae  dsDNA           39593  RefSeq         complete                             1             Russia                            Russia           Pseudomonas aeruginosa                                                           Pseudomonas phage vB_PaeS_PM105\n",
      "   6 │ NC_028974.1                 Djamen,P.Y., Nguyen,L., Gibbs,Z.…  2016-01-05T00:00:00Z             Streptomyces virus YDN12           Woodruffvirus   Siphoviridae  dsDNA           56528  RefSeq         complete                                           USA: Richardson, TX               USA      TX      Streptomyces griseus                                 2012-06-10                  Streptomyces phage YDN12, comple…\n",
      "   7 │ NC_031230.1                 Bandyopadhyay,A., Carlton,M.L., …  2016-09-27T00:00:00Z             Gordonia virus Yvonnetastic        Yvonnevirus     Siphoviridae  dsDNA           98136  RefSeq         complete                                           USA: Pittsburgh, PA               USA      PA      Gordonia terrae                                      2015-10-01                  Gordonia phage Yvonnetastic, com…\n",
      "   8 │ NC_047712.1                 Gregory,A.C., LaButti,K., Copela…  2020-05-15T00:00:00Z  Syn7803C7  Synechococcus virus AC2014fSyn78…  Atlauavirus     Myoviridae    dsDNA          216628  RefSeq         complete                                                                                              Synechococcus                                                                    Synechococcus phage ACG-2014f is…\n",
      "   9 │ NC_051670.1                 Alvarez,R.V., Connors,B., Jenkin…  2020-11-29T00:00:00Z             Mycobacterium phage Juice456       Cheoctovirus    Siphoviridae  dsDNA           56726  RefSeq         complete                                           USA: Orangeburg, NY               USA      NY      Mycolicibacterium smegmatis                          2018-08-01                  Mycobacterium phage Juice456, co…\n",
      "  10 │ NC_054986.1                 Pujato,S.A., Guglielmotti,D.M., …  2021-05-27T00:00:00Z             Leuconostoc virus LDG              Limdunavirus    Siphoviridae  dsDNA           26559  RefSeq         complete                             1                                                                Leuconostoc pseudomesenteroides                                                  Leuconostoc phage LDG, complete …"
     ]
    }
   ],
   "source": [
    "# download genomic fasta files\n",
    "show(entity_metadata, allcols=true)"
   ]
  },
  {
   "cell_type": "code",
   "execution_count": null,
   "metadata": {},
   "outputs": [],
   "source": [
    "dna_k = 5\n",
    "aa_k = 2\n",
    "\n",
    "AA_ALPHABET = collect(filter(x -> x != BioSequences.AA_Term, Mycelia.AA_ALPHABET))\n",
    "DNA_ALPHABET = Mycelia.DNA_ALPHABET"
   ]
  },
  {
   "cell_type": "code",
   "execution_count": 64,
   "metadata": {},
   "outputs": [
    {
     "name": "stderr",
     "output_type": "stream",
     "text": [
      "\u001b[32mProgress: 100%|█████████████████████████████████████████| Time: 0:00:08\u001b[39m\n"
     ]
    },
    {
     "data": {
      "text/plain": [
       "484×10 Matrix{Float64}:\n",
       "  48.0  119.0  329.0  374.0  223.0  385.0  270.0  289.0  260.0   6.0\n",
       "  27.0   79.0  166.0  175.0  102.0  152.0  191.0  172.0  133.0  13.0\n",
       "  56.0   48.0   57.0   62.0   42.0   55.0   82.0  220.0   50.0  42.0\n",
       "  38.0   88.0  128.0  147.0  100.0  136.0  180.0  218.0  124.0  36.0\n",
       "   3.0   11.0   36.0   20.0   13.0   19.0   28.0   34.0   24.0   0.0\n",
       "  44.0   55.0   79.0   99.0   77.0   87.0  103.0  151.0   66.0  26.0\n",
       "  61.0  108.0  192.0  208.0  125.0  174.0  194.0  246.0  136.0  16.0\n",
       "  52.0  104.0  193.0  196.0  125.0  202.0  197.0  318.0  177.0  44.0\n",
       "   8.0   17.0   43.0   43.0   27.0   43.0   62.0   62.0   46.0   2.0\n",
       "  68.0   50.0  118.0   98.0   80.0   62.0  143.0  246.0   77.0  50.0\n",
       "  72.0  108.0  201.0  189.0  135.0  163.0  238.0  313.0  149.0  40.0\n",
       " 103.0   51.0   91.0   68.0   51.0   64.0  120.0  256.0   76.0  28.0\n",
       "  17.0   26.0   50.0   40.0   39.0   44.0   52.0   88.0   28.0  11.0\n",
       "   ⋮                                  ⋮                         \n",
       "   0.0    0.0    0.0    0.0    0.0    0.0    0.0    0.0    0.0   0.0\n",
       "   0.0    0.0    0.0    0.0    0.0    0.0    0.0    0.0    0.0   0.0\n",
       "   0.0    0.0    0.0    0.0    0.0    0.0    0.0    0.0    0.0   0.0\n",
       "   0.0    0.0    0.0    0.0    0.0    0.0    0.0    0.0    0.0   0.0\n",
       "   0.0    0.0    0.0    0.0    0.0    0.0    0.0    0.0    0.0   0.0\n",
       "   0.0    0.0    0.0    0.0    0.0    0.0    0.0    0.0    0.0   0.0\n",
       "   0.0    0.0    0.0    0.0    0.0    0.0    0.0    0.0    0.0   0.0\n",
       "   0.0    0.0    0.0    0.0    0.0    0.0    0.0    0.0    0.0   0.0\n",
       "   0.0    0.0    0.0    0.0    0.0    0.0    0.0    0.0    0.0   0.0\n",
       "   0.0    0.0    0.0    0.0    0.0    0.0    0.0    0.0    0.0   0.0\n",
       "   0.0    0.0    0.0    0.0    0.0    0.0    0.0    0.0    0.0   0.0\n",
       "   0.0    0.0    0.0    0.0    0.0    0.0    0.0    0.0    0.0   0.0"
      ]
     },
     "execution_count": 64,
     "metadata": {},
     "output_type": "execute_result"
    }
   ],
   "source": [
    "accession_list = entity_metadata[!, \"Accession\"]\n",
    "aa_k = 2\n",
    "AA_ALPHABET\n",
    "aamer_counts_matrix = accession_list_to_aamer_counts_table(accession_list, aa_k, AA_ALPHABET)"
   ]
  },
  {
   "cell_type": "code",
   "execution_count": 67,
   "metadata": {},
   "outputs": [
    {
     "name": "stderr",
     "output_type": "stream",
     "text": [
      "\u001b[32mProgress: 100%|█████████████████████████████████████████| Time: 0:00:08\u001b[39m\n"
     ]
    },
    {
     "data": {
      "text/plain": [
       "512×10 Matrix{Float64}:\n",
       " 395.0  102.0   27.0   15.0   14.0    3.0   17.0  304.0   42.0  213.0\n",
       " 182.0   92.0   30.0   25.0   29.0   12.0   42.0  461.0   68.0  130.0\n",
       " 270.0  108.0   19.0   16.0   22.0    7.0   35.0  370.0   28.0  135.0\n",
       " 315.0   57.0   24.0    8.0    6.0    5.0   17.0  305.0   23.0  174.0\n",
       " 173.0   76.0   25.0   18.0   29.0    6.0   61.0  683.0   76.0  108.0\n",
       "  74.0   86.0   84.0   59.0   54.0   24.0  110.0  683.0  148.0   79.0\n",
       "  68.0   95.0   66.0   43.0   46.0   33.0   77.0  237.0   79.0   78.0\n",
       " 166.0   67.0   18.0   12.0   25.0    8.0   45.0  847.0   50.0   93.0\n",
       " 267.0   91.0   33.0   18.0   33.0   16.0   51.0  776.0   36.0   78.0\n",
       " 184.0  123.0   52.0   42.0   47.0    6.0   51.0  236.0   66.0   84.0\n",
       " 121.0   73.0   24.0   19.0   33.0   19.0   61.0  531.0   51.0   66.0\n",
       " 178.0   62.0   16.0   16.0   14.0   11.0   40.0  545.0   36.0   93.0\n",
       " 252.0   33.0    7.0    6.0    7.0    1.0   17.0  497.0   12.0  189.0\n",
       "   ⋮                                  ⋮                         \n",
       "  59.0   52.0  215.0  135.0   88.0  125.0  282.0  222.0  136.0   27.0\n",
       "  44.0   80.0  130.0   71.0   79.0   74.0  175.0  125.0  130.0   11.0\n",
       " 164.0   20.0   12.0    9.0    0.0    1.0   23.0  656.0   10.0   97.0\n",
       "  48.0   57.0   54.0   23.0   22.0   25.0  138.0  730.0   55.0   43.0\n",
       " 214.0   57.0   25.0   29.0   38.0    7.0   52.0  552.0   55.0  126.0\n",
       "  53.0   69.0   94.0   35.0   27.0   28.0  141.0  382.0   75.0   85.0\n",
       " 154.0   61.0   31.0   42.0   60.0   53.0   85.0  292.0   78.0   53.0\n",
       "  76.0  116.0  136.0   89.0  121.0  101.0  275.0  445.0  100.0   77.0\n",
       " 132.0   61.0   97.0   50.0   62.0  145.0  182.0  728.0   83.0   57.0\n",
       " 113.0   47.0   14.0    5.0   11.0    9.0   36.0  473.0   16.0  109.0\n",
       " 337.0   37.0    2.0    3.0    1.0    2.0    7.0  290.0    9.0  180.0\n",
       " 208.0   54.0   60.0   50.0   45.0   36.0  103.0  660.0   80.0  131.0"
      ]
     },
     "execution_count": 67,
     "metadata": {},
     "output_type": "execute_result"
    }
   ],
   "source": [
    "dna_k = 5\n",
    "dnamer_counts_matrix = accession_list_to_dnamer_counts_table(accession_list, dna_k)"
   ]
  },
  {
   "cell_type": "code",
   "execution_count": 87,
   "metadata": {},
   "outputs": [
    {
     "data": {
      "text/plain": [
       "10×10 Matrix{Float64}:\n",
       "    0.0     363.395   930.143   828.972  …  3426.15   676.033   292.828\n",
       "  363.395     0.0     740.48    616.57      3407.29   462.511   431.268\n",
       "  930.143   740.48      0.0     365.032     2883.35   401.759  1084.02\n",
       "  828.972   616.57    365.032     0.0       3126.63   323.5     946.88\n",
       "  481.347   291.405   681.845   508.162     3417.06   423.458   542.825\n",
       "  799.046   585.655   435.738   284.974  …  3184.68   324.302   897.018\n",
       " 1249.0    1114.11    547.489   790.581     2478.87   818.754  1436.61\n",
       " 3426.15   3407.29   2883.35   3126.63         0.0   3131.89   3626.07\n",
       "  676.033   462.511   401.759   323.5       3131.89     0.0     785.882\n",
       "  292.828   431.268  1084.02    946.88      3626.07   785.882     0.0"
      ]
     },
     "execution_count": 87,
     "metadata": {},
     "output_type": "execute_result"
    }
   ],
   "source": [
    "euclidean_distance_matrix = counts_matrix_to_euclidean_distance_matrix(aamer_counts_matrix)"
   ]
  },
  {
   "cell_type": "code",
   "execution_count": 88,
   "metadata": {},
   "outputs": [
    {
     "data": {
      "text/plain": [
       "10×10 Matrix{Float64}:\n",
       " 0.0        0.100217   0.256515  0.228614   …  0.944867  0.186437   0.0807562\n",
       " 0.100217   0.0        0.20421   0.170038      0.939666  0.127551   0.118935\n",
       " 0.256515   0.20421    0.0       0.100669      0.795172  0.110797   0.298952\n",
       " 0.228614   0.170038   0.100669  0.0           0.862263  0.0892149  0.261131\n",
       " 0.132746   0.0803639  0.18804   0.140141      0.942359  0.116782   0.149701\n",
       " 0.220361   0.161512   0.120168  0.0785902  …  0.878272  0.0894363  0.24738\n",
       " 0.34445    0.30725    0.150987  0.218027      0.683623  0.225796   0.39619\n",
       " 0.944867   0.939666   0.795172  0.862263      0.0       0.863715   1.0\n",
       " 0.186437   0.127551   0.110797  0.0892149     0.863715  0.0        0.216731\n",
       " 0.0807562  0.118935   0.298952  0.261131      1.0       0.216731   0.0"
      ]
     },
     "execution_count": 88,
     "metadata": {},
     "output_type": "execute_result"
    }
   ],
   "source": []
  },
  {
   "cell_type": "code",
   "execution_count": 86,
   "metadata": {},
   "outputs": [
    {
     "data": {
      "text/plain": [
       "10×10 Matrix{Float64}:\n",
       " 0.0        0.0075  0.0075  0.01       …  0.0075  0.0075  0.0075  0.0678392\n",
       " 0.0075     0.0     0.0     0.0025        0.0     0.0     0.0     0.07\n",
       " 0.0075     0.0     0.0     0.0025        0.0     0.0     0.0     0.07\n",
       " 0.01       0.0025  0.0025  0.0           0.0025  0.0025  0.0025  0.0676692\n",
       " 0.0125313  0.01    0.01    0.0125        0.01    0.01    0.01    0.0703518\n",
       " 0.0075     0.0     0.0     0.0025     …  0.0     0.0     0.0     0.07\n",
       " 0.0075     0.0     0.0     0.0025        0.0     0.0     0.0     0.07\n",
       " 0.0075     0.0     0.0     0.0025        0.0     0.0     0.0     0.07\n",
       " 0.0075     0.0     0.0     0.0025        0.0     0.0     0.0     0.07\n",
       " 0.0678392  0.07    0.07    0.0676692     0.07    0.07    0.07    0.0"
      ]
     },
     "execution_count": 86,
     "metadata": {},
     "output_type": "execute_result"
    }
   ],
   "source": [
    "jaccard_distance_matrix = counts_matrix_to_jaccard_distance_matrix(aamer_counts_matrix)"
   ]
  },
  {
   "cell_type": "code",
   "execution_count": 90,
   "metadata": {},
   "outputs": [
    {
     "data": {
      "text/plain": [
       "10×10 Matrix{Float64}:\n",
       " 0.0       0.106607   0.106607   0.142143   …  0.106607   0.106607   0.964286\n",
       " 0.106607  0.0        0.0        0.0355357     0.0        0.0        0.995\n",
       " 0.106607  0.0        0.0        0.0355357     0.0        0.0        0.995\n",
       " 0.142143  0.0355357  0.0355357  0.0           0.0355357  0.0355357  0.961869\n",
       " 0.178124  0.142143   0.142143   0.177679      0.142143   0.142143   1.0\n",
       " 0.106607  0.0        0.0        0.0355357  …  0.0        0.0        0.995\n",
       " 0.106607  0.0        0.0        0.0355357     0.0        0.0        0.995\n",
       " 0.106607  0.0        0.0        0.0355357     0.0        0.0        0.995\n",
       " 0.106607  0.0        0.0        0.0355357     0.0        0.0        0.995\n",
       " 0.964286  0.995      0.995      0.961869      0.995      0.995      0.0"
      ]
     },
     "execution_count": 90,
     "metadata": {},
     "output_type": "execute_result"
    }
   ],
   "source": [
    "normalized_jaccard_distance_matrix = normalize_distance_matrix(jaccard_distance_matrix)"
   ]
  },
  {
   "cell_type": "code",
   "execution_count": 91,
   "metadata": {},
   "outputs": [
    {
     "data": {
      "text/plain": [
       "10×10 Matrix{Float64}:\n",
       " 0.0       0.392346  0.577981   0.733273  …  0.198749  0.600575   0.20184\n",
       " 0.392346  0.0       0.150022   0.244279     0.279905  0.170571   0.570267\n",
       " 0.577981  0.150022  0.0        0.112222     0.373758  0.0740063  0.763536\n",
       " 0.733273  0.244279  0.112222   0.0          0.544724  0.113679   0.903351\n",
       " 0.59137   0.209471  0.170857   0.172598     0.504903  0.186445   0.752823\n",
       " 0.827008  0.302399  0.15205    0.128813  …  0.597838  0.151395   1.0\n",
       " 0.420278  0.11946   0.100075   0.2094       0.256556  0.121783   0.592963\n",
       " 0.198749  0.279905  0.373758   0.544724     0.0       0.378828   0.244621\n",
       " 0.600575  0.170571  0.0740063  0.113679     0.378828  0.0        0.757206\n",
       " 0.20184   0.570267  0.763536   0.903351     0.244621  0.757206   0.0"
      ]
     },
     "execution_count": 91,
     "metadata": {},
     "output_type": "execute_result"
    }
   ],
   "source": [
    "js_divergence_matrix = counts_matrix_to_js_divergence_matrix(aamer_counts_matrix)\n",
    "normalized_js_divergence_matrix = normalize_distance_matrix(js_divergence_matrix)"
   ]
  },
  {
   "cell_type": "code",
   "execution_count": null,
   "metadata": {},
   "outputs": [],
   "source": []
  },
  {
   "cell_type": "code",
   "execution_count": null,
   "metadata": {},
   "outputs": [],
   "source": [
    "unique_species = filter(!isempty, sort(unique(reference_phage_metadata[!, \"Species\"])))\n",
    "unique_genera = filter(!isempty, sort(unique(reference_phage_metadata[!, \"Genus\"])))\n",
    "unique_families = filter(!isempty, sort(unique(reference_phage_metadata[!, \"Family\"])))"
   ]
  },
  {
   "cell_type": "markdown",
   "metadata": {},
   "source": [
    "Euclidean seems better than cosine distance\n",
    "Is jensen shannon divergence better than euclidean\n",
    "mash with k=13 and s=1_000 was not good\n",
    "try smaller 9\n",
    "try larger s"
   ]
  },
  {
   "cell_type": "code",
   "execution_count": null,
   "metadata": {},
   "outputs": [],
   "source": [
    "# distance_matrix = distance_matrix_raw_kmer_counts_euclidean\n",
    "# distance_metric = \"euclidean\"\n",
    "\n",
    "# distance_matrix = distance_matrix_raw_kmer_counts_cosine\n",
    "# distance_metric = \"cosine\"\n",
    "\n",
    "# distance_matrix = distance_matrix_raw_kmer_probability_js_divergence\n",
    "# distance_metric = \"js_divergence\"\n",
    "\n",
    "# distance_matrix = mash_distance_matrix\n",
    "# distance_metric = \"mash\"\n",
    "\n",
    "distance_matrix = ani_distance_matrix\n",
    "distance_metric = \"ani\""
   ]
  },
  {
   "cell_type": "code",
   "execution_count": null,
   "metadata": {},
   "outputs": [],
   "source": [
    "intra_species_distances = Float64[]\n",
    "inter_species_distances = Float64[]\n",
    "ProgressMeter.@showprogress for species in unique_species\n",
    "    species_indices = findall(reference_phage_metadata[!, \"Species\"] .== species)\n",
    "    other_species_indices = setdiff(1:size(distance_matrix, 1), species_indices)\n",
    "    for index in species_indices\n",
    "        other_indices = filter(i -> i != index, species_indices)\n",
    "        append!(intra_species_distances, vec(distance_matrix[index, other_indices]))\n",
    "        append!(inter_species_distances, vec(distance_matrix[index, other_species_indices]))\n",
    "    end\n",
    "end"
   ]
  },
  {
   "cell_type": "code",
   "execution_count": null,
   "metadata": {},
   "outputs": [],
   "source": [
    "StatsBase.describe(StatsBase.sample(inter_species_distances, 10_000))"
   ]
  },
  {
   "cell_type": "code",
   "execution_count": null,
   "metadata": {},
   "outputs": [],
   "source": [
    "StatsBase.describe(StatsBase.sample(intra_species_distances, 10_000))"
   ]
  },
  {
   "cell_type": "code",
   "execution_count": null,
   "metadata": {},
   "outputs": [],
   "source": [
    "n_points = 1_000\n",
    "p = StatsPlots.scatter(\n",
    "    [\n",
    "        [rand(Bool) ? 1 + rand()/3 : 1 - rand()/3 for i in 1:n_points],\n",
    "        [rand(Bool) ? 2 + rand()/3 : 2 - rand()/3 for i in 1:n_points]\n",
    "    ],\n",
    "    [\n",
    "        StatsBase.sample(intra_species_distances, n_points),\n",
    "        StatsBase.sample(inter_species_distances, n_points)\n",
    "    ],\n",
    "    label = [\"within species\" \"between species\"],\n",
    "    legend = :outertopright,\n",
    "    alpha = 0.5,\n",
    "    title = \"$(distance_metric) distance @ k=$k\"\n",
    ")\n",
    "p = StatsPlots.hline(p,\n",
    "    [Statistics.mean(intra_species_distances) + 3*Statistics.std(intra_species_distances)],\n",
    "    label=\"mean + 3σ\"\n",
    ")\n",
    "StatsPlots.savefig(p, \"$DIR/$(distance_metric)-distance-species-k$k.png\")\n",
    "StatsPlots.savefig(p, \"$DIR/$(distance_metric)-distance-species-k$k.svg\")\n",
    "p"
   ]
  },
  {
   "cell_type": "code",
   "execution_count": null,
   "metadata": {},
   "outputs": [],
   "source": [
    "intra_genera_distances = Float64[]\n",
    "inter_genera_distances = Float64[]\n",
    "ProgressMeter.@showprogress for genus in unique_genera\n",
    "    genus_indices = findall(reference_phage_metadata[!, \"Genus\"] .== genus)\n",
    "    other_genera_indices = setdiff(1:1:size(distance_matrix, 1), genus_indices)\n",
    "    for index in genus_indices\n",
    "        other_indices = filter(i -> i != index, genus_indices)\n",
    "        append!(intra_genera_distances, vec(distance_matrix[index, other_indices]))\n",
    "        append!(inter_genera_distances, vec(distance_matrix[index, other_genera_indices]))\n",
    "    end\n",
    "end"
   ]
  },
  {
   "cell_type": "code",
   "execution_count": null,
   "metadata": {},
   "outputs": [],
   "source": [
    "StatsBase.describe(StatsBase.sample(inter_genera_distances, 10_000))"
   ]
  },
  {
   "cell_type": "code",
   "execution_count": null,
   "metadata": {},
   "outputs": [],
   "source": [
    "StatsBase.describe(StatsBase.sample(intra_genera_distances, 10_000))"
   ]
  },
  {
   "cell_type": "code",
   "execution_count": null,
   "metadata": {},
   "outputs": [],
   "source": [
    "n_points = 1_000\n",
    "p = StatsPlots.scatter(\n",
    "    [\n",
    "        [rand(Bool) ? 1 + rand()/3 : 1 - rand()/3 for i in 1:n_points],\n",
    "        [rand(Bool) ? 2 + rand()/3 : 2 - rand()/3 for i in 1:n_points]\n",
    "    ],\n",
    "    [\n",
    "        StatsBase.sample(intra_genera_distances, n_points),\n",
    "        StatsBase.sample(inter_genera_distances, n_points)\n",
    "    ],\n",
    "    label = [\"within genera\" \"between genera\"],\n",
    "    legend = :outertopright,\n",
    "    alpha = 0.5,\n",
    "    title = \"$(distance_metric) distance @ k=$k\"\n",
    ")\n",
    "p = StatsPlots.hline(p,\n",
    "    [Statistics.mean(intra_genera_distances) + 3*Statistics.std(intra_genera_distances)],\n",
    "    label=\"mean + 3σ\"\n",
    ")\n",
    "StatsPlots.savefig(p, \"$DIR/$(distance_metric)-distance-genus-k$k.png\")\n",
    "StatsPlots.savefig(p, \"$DIR/$(distance_metric)-distance-genus-k$k.svg\")\n",
    "p"
   ]
  },
  {
   "cell_type": "code",
   "execution_count": null,
   "metadata": {},
   "outputs": [],
   "source": [
    "intra_family_distances = Float64[]\n",
    "inter_family_distances = Float64[]\n",
    "ProgressMeter.@showprogress for family in unique_families\n",
    "    family_indices = findall(reference_phage_metadata[!, \"Family\"] .== family)\n",
    "    other_family_indices = setdiff(1:1:size(distance_matrix, 1), family_indices)\n",
    "    for index in family_indices\n",
    "        other_indices = filter(i -> i != index, family_indices)\n",
    "        append!(intra_family_distances, vec(distance_matrix[index, other_indices]))\n",
    "        append!(inter_family_distances, vec(distance_matrix[index, other_family_indices]))\n",
    "    end\n",
    "end"
   ]
  },
  {
   "cell_type": "code",
   "execution_count": null,
   "metadata": {},
   "outputs": [],
   "source": [
    "StatsBase.describe(StatsBase.sample(inter_family_distances, 10_000))"
   ]
  },
  {
   "cell_type": "code",
   "execution_count": null,
   "metadata": {},
   "outputs": [],
   "source": [
    "StatsBase.describe(StatsBase.sample(intra_family_distances, 10_000))"
   ]
  },
  {
   "cell_type": "code",
   "execution_count": null,
   "metadata": {},
   "outputs": [],
   "source": [
    "n_points = 1_000\n",
    "p = StatsPlots.scatter(\n",
    "    [\n",
    "        [rand(Bool) ? 1 + rand()/3 : 1 - rand()/3 for i in 1:n_points],\n",
    "        [rand(Bool) ? 2 + rand()/3 : 2 - rand()/3 for i in 1:n_points]\n",
    "    ],\n",
    "    [\n",
    "        StatsBase.sample(intra_family_distances, n_points),\n",
    "        StatsBase.sample(inter_family_distances, n_points)\n",
    "    ],\n",
    "    label = [\"within families\" \"between families\"],\n",
    "    legend = :outertopright,\n",
    "    alpha = 0.5,\n",
    "    title = \"$(distance_metric) distance @ k=$k\"\n",
    ")\n",
    "p = StatsPlots.hline(p,\n",
    "    [Statistics.mean(intra_family_distances) + 3*Statistics.std(intra_family_distances)],\n",
    "    label=\"mean + 3σ\"\n",
    ")\n",
    "StatsPlots.savefig(p, \"$DIR/$(distance_metric)-distance-family-k$k.png\")\n",
    "StatsPlots.savefig(p, \"$DIR/$(distance_metric)-distance-family-k$k.svg\")\n",
    "p"
   ]
  },
  {
   "cell_type": "code",
   "execution_count": null,
   "metadata": {},
   "outputs": [],
   "source": [
    "# kmer_counts_matrix = nothing\n",
    "# distance_matrix_raw_kmer_counts_cosine = nothing\n",
    "# distance_matrix_raw_kmer_counts_euclidean = nothing\n",
    "# GC.gc()"
   ]
  }
 ],
 "metadata": {
  "kernelspec": {
   "display_name": "Julia 1.6.3",
   "language": "julia",
   "name": "julia-1.6"
  },
  "language_info": {
   "file_extension": ".jl",
   "mimetype": "application/julia",
   "name": "julia",
   "version": "1.6.3"
  }
 },
 "nbformat": 4,
 "nbformat_minor": 4
}
