{
 "cells": [
  {
   "cell_type": "code",
   "execution_count": null,
   "metadata": {},
   "outputs": [],
   "source": [
    "TODAY=\"2021-11-13\"\n",
    "TASK = \"phylogenetic-determination\"\n",
    "DIR = \"$(homedir())/$(TODAY)-$(TASK)\"\n",
    "if !isdir(DIR)\n",
    "    mkdir(DIR)\n",
    "end\n",
    "cd(DIR)"
   ]
  },
  {
   "cell_type": "code",
   "execution_count": null,
   "metadata": {},
   "outputs": [],
   "source": [
    "# alternative workflow would be to utilize ezAAI http://leb.snu.ac.kr/ezaai\n",
    "# or recreate ezAAI with diamond\n",
    "\n",
    "# use the genus assignment of the phage, and then assume the family level assignment from the genus classification\n",
    "# require that scale dependent, correlation, and probability based genus is consisent, otherwise flag"
   ]
  },
  {
   "cell_type": "code",
   "execution_count": null,
   "metadata": {},
   "outputs": [],
   "source": [
    "import Pkg\n",
    "\n",
    "pkgs = [\n",
    "\"JSON\",\n",
    "\"HTTP\",\n",
    "\"Dates\",\n",
    "\"uCSV\",\n",
    "\"DelimitedFiles\",\n",
    "\"DataFrames\",\n",
    "\"ProgressMeter\",\n",
    "\"BioSequences\",\n",
    "\"FASTX\",\n",
    "\"Distances\",\n",
    "\"Plots\",\n",
    "\"StatsPlots\",\n",
    "\"StatsBase\",\n",
    "\"Statistics\",\n",
    "\"Mmap\",\n",
    "\"MultivariateStats\",\n",
    "\"PyCall\",\n",
    "\"Random\",\n",
    "\"Primes\",\n",
    "\"Revise\",\n",
    "\"SparseArrays\",\n",
    "\"SHA\",\n",
    "\"Mycelia\",\n",
    "\"GenomicAnnotations\",\n",
    "\"BioFetch\",\n",
    "\"Combinatorics\",\n",
    "\"StaticArrays\",\n",
    "\"BioSymbols\",\n",
    "\"RollingFunctions\",\n",
    "\"OrderedCollections\"\n",
    "]\n",
    "\n",
    "for pkg in pkgs\n",
    "    try\n",
    "        eval(Meta.parse(\"import $pkg\"))\n",
    "    catch\n",
    "        Pkg.add(pkg)\n",
    "        eval(Meta.parse(\"import $pkg\"))\n",
    "    end\n",
    "end"
   ]
  },
  {
   "cell_type": "code",
   "execution_count": null,
   "metadata": {},
   "outputs": [],
   "source": [
    "function generate_all_possible_kmers(k, alphabet)\n",
    "    kmer_iterator = Iterators.product([alphabet for i in 1:k]...)\n",
    "    kmer_vectors = collect.(vec(collect(kmer_iterator)))\n",
    "    if eltype(alphabet) == BioSymbols.AminoAcid\n",
    "        kmers = BioSequences.LongAminoAcidSeq.(kmer_vectors)\n",
    "    elseif eltype(alphabet) == BioSymbols.DNA\n",
    "        kmers = BioSequences.LongDNASeq.(kmer_vectors)\n",
    "    else\n",
    "        error()\n",
    "    end\n",
    "    return sort!(kmers)\n",
    "end\n",
    "\n",
    "function generate_all_possible_canonical_kmers(k, alphabet)\n",
    "    kmers = generate_all_possible_kmers(k, alphabet)\n",
    "    if eltype(alphabet) == BioSymbols.AminoAcid\n",
    "        return kmers\n",
    "    elseif eltype(alphabet) == BioSymbols.DNA\n",
    "        return BioSequences.DNAMer.(unique!(BioSequences.canonical.(kmers)))\n",
    "    else\n",
    "        error()\n",
    "    end\n",
    "end"
   ]
  },
  {
   "cell_type": "code",
   "execution_count": null,
   "metadata": {},
   "outputs": [],
   "source": [
    "function count_canonical_aamers(k, fasta_proteins)\n",
    "    aamer_counts = OrderedCollections.OrderedDict{BioSequences.LongAminoAcidSeq, Int64}()\n",
    "    for protein in fasta_proteins\n",
    "        s = FASTX.sequence(protein)\n",
    "        these_counts = sort(StatsBase.countmap([s[i:i+k-1] for i in 1:length(s)-k-1]))\n",
    "        merge!(+, aamer_counts, these_counts)\n",
    "    end\n",
    "    return sort(aamer_counts)\n",
    "end"
   ]
  },
  {
   "cell_type": "code",
   "execution_count": null,
   "metadata": {},
   "outputs": [],
   "source": [
    "function update_counts_matrix!(matrix, sample_index, countmap, sorted_kmers)\n",
    "    for (i, kmer) in enumerate(sorted_kmers)\n",
    "        matrix[i, sample_index] = get(countmap, kmer, 0)\n",
    "    end\n",
    "    return matrix\n",
    "end"
   ]
  },
  {
   "cell_type": "code",
   "execution_count": null,
   "metadata": {},
   "outputs": [],
   "source": [
    "function accession_list_to_aamer_counts_table(accession_list, k, AA_ALPHABET; outfile=\"\")\n",
    "    if isempty(outfile)\n",
    "        outfile = joinpath(pwd(), \"$(hash(accession_list)).AA.k$(k).bin\")\n",
    "    end\n",
    "    @show outfile\n",
    "    canonical_aamers = generate_all_possible_canonical_kmers(k, AA_ALPHABET)\n",
    "    if !isfile(outfile)\n",
    "        aamer_counts_matrix = Mmap.mmap(outfile, Array{Int, 2}, (length(canonical_aamers), length(accession_list)))\n",
    "        aamer_counts_matrix .= 0\n",
    "        ProgressMeter.@showprogress for (entity_index, accession) in enumerate(accession_list)\n",
    "            fna_file = \"$(accession).fna\"\n",
    "            if !isfile(fna_file)\n",
    "                open(FASTX.FASTA.Writer, fna_file) do fastx_io\n",
    "                    for record in Mycelia.get_sequence(db=\"nuccore\", accession = accession)\n",
    "                        write(fastx_io, record)\n",
    "                    end\n",
    "                end\n",
    "            end\n",
    "            faa_file = \"$(accession).fna.faa\"\n",
    "            if !isfile(faa_file)\n",
    "                run(pipeline(`prodigal -i $(fna_file) -o $(fna_file).genes -a $(faa_file) -p meta`, stderr=\"$(fna_file).prodigal.stderr\"))\n",
    "            end\n",
    "            entity_aamer_counts = count_canonical_aamers(aa_k, collect(FASTX.FASTA.Reader(open(faa_file))))\n",
    "            update_counts_matrix!(aamer_counts_matrix, entity_index, entity_aamer_counts, canonical_aamers)\n",
    "        end\n",
    "    else\n",
    "        aamer_counts_matrix = Mmap.mmap(outfile, Array{Int, 2}, (length(canonical_aamers), length(accession_list)))\n",
    "    end\n",
    "    return aamer_counts_matrix\n",
    "end"
   ]
  },
  {
   "cell_type": "code",
   "execution_count": null,
   "metadata": {},
   "outputs": [],
   "source": [
    "function accession_list_to_dnamer_counts_table(accession_list, k)\n",
    "    canonical_dnamers = generate_all_possible_canonical_kmers(k, DNA_ALPHABET)\n",
    "    dnamer_counts_matrix = zeros(length(canonical_dnamers), length(accession_list))\n",
    "\n",
    "    ProgressMeter.@showprogress for (entity_index, accession) in enumerate(accession_list)\n",
    "        fasta_dna_sequences = collect(Mycelia.get_sequence(db=\"nuccore\", accession = accession))\n",
    "        entity_dnamer_counts = Mycelia.count_canonical_kmers(BioSequences.DNAMer{dna_k}, fasta_dna_sequences)\n",
    "        update_counts_matrix!(dnamer_counts_matrix, entity_index, entity_dnamer_counts, canonical_dnamers)\n",
    "    end\n",
    "    return dnamer_counts_matrix    \n",
    "end"
   ]
  },
  {
   "cell_type": "code",
   "execution_count": null,
   "metadata": {},
   "outputs": [],
   "source": [
    "function normalize_distance_matrix(distance_matrix)\n",
    "    max_non_nan_value = maximum(filter(x -> !isnan(x) && !isnothing(x) && !ismissing(x), vec(distance_matrix)))\n",
    "    return distance_matrix ./ max_non_nan_value\n",
    "end"
   ]
  },
  {
   "cell_type": "code",
   "execution_count": null,
   "metadata": {},
   "outputs": [],
   "source": [
    "function count_matrix_to_probability_matrix(counts_matrix)\n",
    "    probability_matrix = copy(counts_matrix)\n",
    "    for (i, col) in enumerate(eachcol(probability_matrix))\n",
    "        probability_matrix[:, i] .= col ./ sum(col)\n",
    "    end\n",
    "    return probability_matrix\n",
    "end"
   ]
  },
  {
   "cell_type": "code",
   "execution_count": null,
   "metadata": {},
   "outputs": [],
   "source": [
    "# MYCELIA_METADATA = joinpath(Pkg.dir(\"Mycelia\"), \"metadata\")\n",
    "MYCELIA_METADATA = joinpath(dirname(dirname(pathof(Mycelia))),  \"metadata\")"
   ]
  },
  {
   "cell_type": "code",
   "execution_count": null,
   "metadata": {},
   "outputs": [],
   "source": [
    "# AA_ALPHABET = collect(filter(x -> x != BioSequences.AA_Term, Mycelia.AA_ALPHABET))\n",
    "AA_ALPHABET = Mycelia.AA_ALPHABET\n",
    "DNA_ALPHABET = Mycelia.DNA_ALPHABET"
   ]
  },
  {
   "cell_type": "code",
   "execution_count": null,
   "metadata": {},
   "outputs": [],
   "source": [
    "# https://www.ncbi.nlm.nih.gov/labs/virus/vssi/#/virus?SeqType_s=Nucleotide&VirusLineage_ss=Bacteriophage,%20all%20taxids&Completeness_s=complete\n",
    "entity_metadata = DataFrames.DataFrame(uCSV.read(\"$(MYCELIA_METADATA)/2021-11-13-ncbi-complete-bacteriophage.csv\", header=1, quotes='\"')...)\n",
    "sort!(entity_metadata, \"Accession\")\n",
    "entity_metadata = entity_metadata[entity_metadata[!, \"Nuc_Completeness\"] .== \"complete\", :]\n",
    "# filter down to only include labelled genera\n",
    "entity_metadata = entity_metadata[.!isempty.(entity_metadata[!, \"Genus\"]), :]\n",
    "# filter down to only include genera that are present at least once\n",
    "genera_counts = sort(collect(StatsBase.countmap(entity_metadata[!, \"Genus\"])), by=x->x[2], rev=true)\n",
    "min_threshold = 2\n",
    "repeat_genera = Set(first.(filter(x -> x[2] >= min_threshold, genera_counts)))\n",
    "entity_metadata = entity_metadata[map(genus -> genus in repeat_genera, entity_metadata[!, \"Genus\"]), :]"
   ]
  },
  {
   "cell_type": "code",
   "execution_count": null,
   "metadata": {},
   "outputs": [],
   "source": [
    "accession_list = entity_metadata[!, \"Accession\"]"
   ]
  },
  {
   "cell_type": "code",
   "execution_count": null,
   "metadata": {},
   "outputs": [],
   "source": [
    "# these are too small, all of the within vs between have some disagreement\n",
    "# dna_k = 5\n",
    "# aa_k = 2\n",
    "dna_k = 7\n",
    "aa_k = 3"
   ]
  },
  {
   "cell_type": "code",
   "execution_count": null,
   "metadata": {},
   "outputs": [],
   "source": [
    "# run(`sudo conda install -c bioconda prodigal`)"
   ]
  },
  {
   "cell_type": "code",
   "execution_count": null,
   "metadata": {},
   "outputs": [],
   "source": [
    "aamer_counts_matrix = accession_list_to_aamer_counts_table(accession_list, aa_k, AA_ALPHABET)"
   ]
  },
  {
   "cell_type": "code",
   "execution_count": null,
   "metadata": {},
   "outputs": [],
   "source": [
    "dnamer_counts_matrix = accession_list_to_dnamer_counts_table(accession_list, dna_k)"
   ]
  },
  {
   "cell_type": "code",
   "execution_count": null,
   "metadata": {},
   "outputs": [],
   "source": [
    "unique_genera = filter(!isempty, sort(unique(entity_metadata[!, \"Genus\"])))\n",
    "unique_families = filter(!isempty, sort(unique(entity_metadata[!, \"Family\"])))"
   ]
  },
  {
   "cell_type": "code",
   "execution_count": null,
   "metadata": {},
   "outputs": [],
   "source": [
    "aamer_probability_matrix = count_matrix_to_probability_matrix(aamer_counts_matrix)\n",
    "dnamer_probility_matrix = count_matrix_to_probability_matrix(dnamer_counts_matrix)"
   ]
  },
  {
   "cell_type": "code",
   "execution_count": null,
   "metadata": {},
   "outputs": [],
   "source": [
    "# Euclidean\n",
    "# Correlation\n",
    "# Total Variation\n",
    "# assign at the genus level according to best average match"
   ]
  },
  {
   "cell_type": "code",
   "execution_count": null,
   "metadata": {},
   "outputs": [],
   "source": [
    "matrix_metric_grammar_groups = [\n",
    "        (normalize_distance_matrix(Distances.pairwise(Distances.euclidean, aamer_counts_matrix, dims=2)), \"euclidean\", \"AA\"), # good\n",
    "        (normalize_distance_matrix(Distances.pairwise(Distances.euclidean, dnamer_counts_matrix, dims=2)), \"euclidean\", \"DNA\"), # good\n",
    "        (normalize_distance_matrix(Distances.pairwise(Distances.cityblock, aamer_counts_matrix, dims=2)), \"cityblock\", \"AA\"), # redundant with above\n",
    "        (normalize_distance_matrix(Distances.pairwise(Distances.cityblock, dnamer_counts_matrix, dims=2)), \"cityblock\", \"DNA\"), # redundant with above\n",
    "        \n",
    "        (normalize_distance_matrix(Distances.pairwise(Distances.corr_dist, aamer_counts_matrix, dims=2)), \"corr_dist\", \"AA\"), # meh\n",
    "        (normalize_distance_matrix(Distances.pairwise(Distances.corr_dist, dnamer_counts_matrix, dims=2)), \"corr_dist\", \"DNA\"), # meh\n",
    "        (normalize_distance_matrix(Distances.pairwise(Distances.cosine_dist, aamer_counts_matrix, dims=2)), \"cosine_dist\", \"AA\"), # meh\n",
    "        (normalize_distance_matrix(Distances.pairwise(Distances.cosine_dist, dnamer_counts_matrix, dims=2)), \"cosine_dist\", \"DNA\"), # very bad\n",
    "        \n",
    "        (normalize_distance_matrix(Distances.pairwise(Distances.totalvariation, aamer_probability_matrix, dims=2)), \"totalvariation\", \"AA\"), # good\n",
    "        (normalize_distance_matrix(Distances.pairwise(Distances.totalvariation, dnamer_probility_matrix, dims=2)), \"totalvariation\", \"DNA\"), # bad\n",
    "        (normalize_distance_matrix(Distances.pairwise(Distances.js_divergence, aamer_probability_matrix, dims=2)), \"js_divergence\", \"AA\"), # good\n",
    "        (normalize_distance_matrix(Distances.pairwise(Distances.js_divergence, dnamer_probility_matrix, dims=2)), \"js_divergence\", \"DNA\"), # bad\n",
    "        (normalize_distance_matrix(Distances.pairwise(Distances.bhattacharyya, aamer_probability_matrix, dims=2)), \"bhattacharyya\", \"AA\"), # good\n",
    "        (normalize_distance_matrix(Distances.pairwise(Distances.bhattacharyya, dnamer_probility_matrix, dims=2)), \"bhattacharyya\", \"DNA\"), # bad\n",
    "        (normalize_distance_matrix(Distances.pairwise(Distances.hellinger, aamer_probability_matrix, dims=2)), \"hellinger\", \"AA\"), # good\n",
    "        (normalize_distance_matrix(Distances.pairwise(Distances.hellinger, dnamer_probility_matrix, dims=2)), \"hellinger\", \"DNA\"), # bad\n",
    "    ]"
   ]
  },
  {
   "cell_type": "code",
   "execution_count": null,
   "metadata": {},
   "outputs": [],
   "source": [
    "# How accurate is the best hit?\n",
    "for (distance_matrix, distance_metric, grammar) in matrix_metric_grammar_groups\n",
    "\n",
    "    correct_species_hits = 0\n",
    "    correct_genus_hits = 0\n",
    "    correct_family_hits = 0\n",
    "\n",
    "    samples = 1:size(entity_metadata, 1)\n",
    "\n",
    "    ProgressMeter.@showprogress for i in samples\n",
    "        other_indices = setdiff(1:size(entity_metadata, 1), i)\n",
    "        value, index = findmin(distance_matrix[i, other_indices])\n",
    "        index = other_indices[index]\n",
    "        if entity_metadata[i, \"Species\"] == entity_metadata[index, \"Species\"]\n",
    "            correct_species_hits += 1\n",
    "        end\n",
    "        if entity_metadata[i, \"Genus\"] == entity_metadata[index, \"Genus\"]\n",
    "            correct_genus_hits += 1\n",
    "        end\n",
    "        if entity_metadata[i, \"Family\"] == entity_metadata[index, \"Family\"]\n",
    "            correct_family_hits += 1\n",
    "        end\n",
    "    end\n",
    "    @show distance_metric, grammar\n",
    "    @show correct_species_hits / length(samples)\n",
    "    @show correct_genus_hits / length(samples)\n",
    "    @show correct_family_hits / length(samples)\n",
    "end"
   ]
  },
  {
   "cell_type": "code",
   "execution_count": null,
   "metadata": {},
   "outputs": [],
   "source": [
    "10\tAA\tmeasure\tfamily\tvalue\n",
    "10\tAA\tmeasure\tgenus\tvalue\n",
    "10\tAA\tmeasure\tspecies\tvalue\n",
    "10\tDNA\tmeasure\tfamily\tvalue\n",
    "10\tDNA\tmeasure\tgenus\tvalue\n",
    "10\tDNA\tmeasure\tspecies\tvalue"
   ]
  },
  {
   "cell_type": "code",
   "execution_count": null,
   "metadata": {},
   "outputs": [],
   "source": [
    "# average = Statistics.median\n",
    "# average = Statistics.mean\n",
    "# for (taxon_level, unique_taxa) in (\"Family\" => unique_families, \"Genus\" => unique_genera, \"Species\" => unique_species)\n",
    "for (taxon_level, unique_taxa) in [\"Genus\" => unique_genera]\n",
    "    for (distance_matrix, distance_metric, grammar) in matrix_metric_grammar_groups\n",
    "#         for average in [Statistics.median, Statistics.mean]\n",
    "        for average in [Statistics.median]\n",
    "            within_vs_between_distances = []\n",
    "            ProgressMeter.@showprogress  for taxon in unique_taxa\n",
    "                taxa_indices = findall(entity_metadata[!, taxon_level] .== taxon)\n",
    "                other_taxa_indices = setdiff(1:1:size(distance_matrix, 1), taxa_indices)\n",
    "                if isempty(other_taxa_indices)\n",
    "                    continue\n",
    "                end\n",
    "                for index in taxa_indices\n",
    "                    other_indices = filter(i -> i != index, taxa_indices)\n",
    "                    if isempty(other_indices)\n",
    "                        continue\n",
    "                    end\n",
    "                    avg_within_taxa_distance = average(vec(distance_matrix[index, other_indices]))\n",
    "                    avg_between_taxa_distance = average(vec(distance_matrix[index, other_taxa_indices]))\n",
    "                    push!(within_vs_between_distances, avg_within_taxa_distance => avg_between_taxa_distance)\n",
    "#                     if avg_within_taxa_distance > avg_between_taxa_distance\n",
    "#                         @show index\n",
    "#                     end\n",
    "                end\n",
    "            end\n",
    "#             @show within_vs_between_distances\n",
    "            within_vs_between_distances = filter(d -> !any(map(x1 -> isnan(x1), collect(d))), within_vs_between_distances)\n",
    "\n",
    "            ys = collect.(within_vs_between_distances)\n",
    "        \n",
    "#             assess correlation\n",
    "#         assess average slope\n",
    "#             assess % wrong slope\n",
    "            confusion = round(count(x -> x[1] >= x[2], within_vs_between_distances) / length(within_vs_between_distances), digits=3)\n",
    "\n",
    "            xs = [[1, 2] for x in ys]\n",
    "\n",
    "            if grammar == \"AA\"\n",
    "                k = aa_k\n",
    "            elseif grammar == \"DNA\"\n",
    "                k = dna_k\n",
    "            end\n",
    "\n",
    "            n = size(distance_matrix, 1)\n",
    "\n",
    "            p = StatsPlots.plot(\n",
    "                xs,\n",
    "                ys,\n",
    "                xticks = ([1, 2], [\"within $(taxon_level)\", \"between $(taxon_level)\"]),\n",
    "                legend = false,\n",
    "                xlims = (0.75, 2.25),\n",
    "                alpha = 0.1,\n",
    "                title = \"$(distance_metric) @ $grammar k=$k $(average)\\n(n=$(n)) (misclassification rate = $(confusion))\",\n",
    "                ylabel = \"normalized distance\",\n",
    "                marker = :circle\n",
    "            )\n",
    "            StatsPlots.savefig(p, \"$DIR/$(distance_metric)-distance-$(taxon_level)-k$k-$(grammar)-n$n-avg-$(average).png\")\n",
    "            StatsPlots.savefig(p, \"$DIR/$(distance_metric)-distance-$(taxon_level)-k$k-$(grammar)-n$n-avg-$(average).svg\")\n",
    "            display(p)\n",
    "        end\n",
    "    end\n",
    "end"
   ]
  },
  {
   "cell_type": "code",
   "execution_count": null,
   "metadata": {},
   "outputs": [],
   "source": [
    "# Do I median all of the genera, and then compare the distance to that median?\n",
    "# Or do I compare distances to all of the phage, and then find the genus with the lowest median value?"
   ]
  },
  {
   "cell_type": "code",
   "execution_count": null,
   "metadata": {},
   "outputs": [],
   "source": [
    "output table format\n",
    "identifier/accession\n",
    "euclidean aa\n",
    "euclidean dna\n",
    "corr_dist aa\n",
    "corr_dist dna\n",
    "totalvariation dna\n",
    "totalvariation dna"
   ]
  },
  {
   "cell_type": "code",
   "execution_count": null,
   "metadata": {},
   "outputs": [],
   "source": [
    "# average = Statistics.median\n",
    "# for (distance_matrix, distance_metric, grammar) in matrix_metric_grammar_groups\n",
    "\n",
    "#     correct_species_hits = 0 \n",
    "#     correct_genus_hits = 0\n",
    "#     correct_family_hits = 0\n",
    "\n",
    "#     samples = 1:size(entity_metadata, 1)\n",
    "\n",
    "#     ProgressMeter.@showprogress for i in samples\n",
    "#         other_indices = setdiff(1:size(entity_metadata, 1), i)\n",
    "#         value, index = findmin(distance_matrix[i, other_indices])\n",
    "#         if entity_metadata[i, \"Species\"] == entity_metadata[index, \"Species\"]\n",
    "#             correct_species_hits += 1\n",
    "#         end\n",
    "#         if entity_metadata[i, \"Genus\"] == entity_metadata[index, \"Genus\"]\n",
    "#             correct_genus_hits += 1\n",
    "#         end\n",
    "#         if entity_metadata[i, \"Family\"] == entity_metadata[index, \"Family\"]\n",
    "#             correct_family_hits += 1\n",
    "#         end\n",
    "#     end\n",
    "#     @show distance_metric, grammar\n",
    "#     @show correct_species_hits / length(samples)\n",
    "#     @show correct_genus_hits / length(samples)\n",
    "#     @show correct_family_hits / length(samples)\n",
    "# end"
   ]
  },
  {
   "cell_type": "code",
   "execution_count": null,
   "metadata": {},
   "outputs": [],
   "source": [
    "entity_metadata[genera_indices[15], \"Genus\"]"
   ]
  },
  {
   "cell_type": "code",
   "execution_count": null,
   "metadata": {},
   "outputs": [],
   "source": [
    "genera_indices = [findall(entity_metadata[!, \"Genus\"] .== genus) for genus in unique_genera]"
   ]
  },
  {
   "cell_type": "code",
   "execution_count": null,
   "metadata": {},
   "outputs": [],
   "source": [
    "correct = 0\n",
    "# indices = 1:10\n",
    "indices = 1:size(entity_metadata, 1)\n",
    "ProgressMeter.@showprogress for (i, row) in enumerate(eachrow(entity_metadata[indices, :]))\n",
    "    if isempty(entity_metadata[i, \"Genus\"])\n",
    "        continue\n",
    "    end\n",
    "    votes = []\n",
    "    for (distance_matrix, distance_metric, grammar) in matrix_metric_grammar_groups\n",
    "        genus_medians = zeros(length(unique_genera))\n",
    "        for (i2, genus_indices) in enumerate(genera_indices)\n",
    "            if length(genus_indices) > 1\n",
    "                genus_indices = setdiff(genus_indices, i)\n",
    "            end\n",
    "            genus_medians[i2] = Statistics.median(distance_matrix[i, genus_indices])\n",
    "        end\n",
    "        min_value, min_value_index = findmin(genus_medians)\n",
    "        push!(votes, unique_genera[min_value_index])\n",
    "    end\n",
    "#     if first(first(sort(collect(StatsBase.countmap(votes)), by=x->x[2], rev=true))) == entity_metadata[i, \"Genus\"]\n",
    "#     @show votes\n",
    "#     @show entity_metadata[i, \"Genus\"]\n",
    "#     @show intersect(votes, entity_metadata[i, \"Genus\"])\n",
    "    if entity_metadata[i, \"Genus\"] in votes\n",
    "#     if !isempty(intersect(votes, entity_metadata[i, \"Genus\"]))\n",
    "        correct += 1\n",
    "    end\n",
    "end\n",
    "@show correct/length(indices)"
   ]
  },
  {
   "cell_type": "code",
   "execution_count": null,
   "metadata": {},
   "outputs": [],
   "source": [
    "# 0.8067410811993871 across all types\n",
    "# 0.807835412562924\n",
    "# 0.8108995403808273\n",
    "# 0.7695338148391333\n",
    "# 0.7743488728386956\n",
    "# 0.7680017509301816\n",
    "# 0.7861676515648939\n",
    "\n",
    "# 2, 4, 6\n",
    "# 0.7929525060188225\n",
    "\n",
    "# 0.8330050339242723 for any vote being correct"
   ]
  },
  {
   "cell_type": "code",
   "execution_count": null,
   "metadata": {},
   "outputs": [],
   "source": [
    "# add ANI + AAI"
   ]
  },
  {
   "cell_type": "code",
   "execution_count": null,
   "metadata": {},
   "outputs": [],
   "source": [
    "# ./minimap2 -a test/MT-human.fa test/MT-orang.fa > test.sam"
   ]
  },
  {
   "cell_type": "code",
   "execution_count": null,
   "metadata": {},
   "outputs": [],
   "source": [
    "# just do whole genome alignments???"
   ]
  },
  {
   "cell_type": "code",
   "execution_count": null,
   "metadata": {},
   "outputs": [],
   "source": [
    "# Try looking only at other phage that have the same host to see if that improves the calls"
   ]
  },
  {
   "cell_type": "code",
   "execution_count": null,
   "metadata": {},
   "outputs": [],
   "source": [
    "# sudo conda install -c bioconda comparem"
   ]
  },
  {
   "cell_type": "code",
   "execution_count": null,
   "metadata": {},
   "outputs": [],
   "source": [
    "#     Common workflows:\n",
    "#      aai_wf      -> Calculate AAI between all pairs of genomes\n",
    "#                     (runs call_genes => similarity => aai)\n",
    "#      classify_wf -> Identify similar genomes based on AAI values\n",
    "#                     (runs call_genes => similarity => classify)\n",
    "                     \n",
    "#     Gene homology and genome similarity:\n",
    "#      similarity -> Perform reciprocal sequence similarity search between proteins\n",
    "#      aai        -> Calculate AAI between all pairs of genomes\n",
    "#      classify   -> Identify similar genomes based on AAI value"
   ]
  },
  {
   "cell_type": "code",
   "execution_count": null,
   "metadata": {},
   "outputs": [],
   "source": [
    "# run(`comparem classify -h`)\n",
    "\n",
    "# usage: comparem classify_wf [-h] [-k NUM_TOP_TARGETS] [-t TAXONOMY_FILE]\n",
    "#                             [-e EVALUE] [-p PER_IDENTITY] [-a PER_ALN_LEN]\n",
    "#                             [-x FILE_EXT] [--proteins]\n",
    "#                             [--force_table FORCE_TABLE] [--blastp]\n",
    "#                             [--sensitive] [--keep_headers] [--keep_rbhs]\n",
    "#                             [--tmp_dir TMP_DIR] [-c CPUS] [--silent]\n",
    "#                             query_files target_files output_dir\n",
    "\n",
    "#   -k, --num_top_targets NUM_TOP_TARGETS\n",
    "#                         number of top scoring target genomes to report per\n",
    "#                         query genome (default: 1)\n",
    "\n",
    "#   -p, --per_identity PER_IDENTITY\n",
    "#                         percent identity for defining homology (default: 30.0)\n",
    "#   -a, --per_aln_len PER_ALN_LEN\n",
    "#                         percent alignment length of query sequence for\n",
    "#                         defining homology (default: 70.0)\n",
    "\n",
    "#   -c, --cpus CPUS       number of CPUs to use (default: 1)"
   ]
  },
  {
   "cell_type": "code",
   "execution_count": null,
   "metadata": {},
   "outputs": [],
   "source": [
    "# https://manual.microbial-genomes.org/part5/workflow"
   ]
  }
 ],
 "metadata": {
  "kernelspec": {
   "display_name": "Julia 1.6.3",
   "language": "julia",
   "name": "julia-1.6"
  },
  "language_info": {
   "file_extension": ".jl",
   "mimetype": "application/julia",
   "name": "julia",
   "version": "1.6.3"
  }
 },
 "nbformat": 4,
 "nbformat_minor": 4
}
