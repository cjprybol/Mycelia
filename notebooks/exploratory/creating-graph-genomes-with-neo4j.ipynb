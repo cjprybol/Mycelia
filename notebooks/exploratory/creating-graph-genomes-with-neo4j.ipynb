{
 "cells": [
  {
   "cell_type": "code",
   "execution_count": 1,
   "metadata": {},
   "outputs": [
    {
     "name": "stderr",
     "output_type": "stream",
     "text": [
      "\u001b[32m\u001b[1m   Updating\u001b[22m\u001b[39m registry at `~/.julia/registries/General`\n"
     ]
    },
    {
     "name": "stdout",
     "output_type": "stream",
     "text": [
      "\u001b[?25l    "
     ]
    },
    {
     "name": "stderr",
     "output_type": "stream",
     "text": [
      "\u001b[32m\u001b[1m   Updating\u001b[22m\u001b[39m git-repo `https://github.com/JuliaRegistries/General.git`\n"
     ]
    },
    {
     "name": "stdout",
     "output_type": "stream",
     "text": [
      "\u001b[2K\u001b[?25h[1mFetching:\u001b[22m\u001b[39m [========================================>]  100.0 %[36m\u001b[1mFetching:\u001b[22m\u001b[39m [=====>                                   ]  12.0 %\u001b[36m\u001b[1mFetching:\u001b[22m\u001b[39m [======>                                  ]  14.1 %\u001b[36m\u001b[1mFetching:\u001b[22m\u001b[39m [========>                                ]  17.9 %\u001b[36m\u001b[1mFetching:\u001b[22m\u001b[39m [===============>                         ]  35.7 %1 %\u001b[36m\u001b[1mFetching:\u001b[22m\u001b[39m [==========================>              ]  64.3 %\u001b[36m\u001b[1mFetching:\u001b[22m\u001b[39m [===========================>             ]  66.3 %\u001b[36m\u001b[1mFetching:\u001b[22m\u001b[39m [============================>            ]  69.2 %\u001b[36m\u001b[1mFetching:\u001b[22m\u001b[39m [=================================>       ]  80.1 %\u001b[36m\u001b[1mFetching:\u001b[22m\u001b[39m [==================================>      ]  82.8 %"
     ]
    },
    {
     "name": "stderr",
     "output_type": "stream",
     "text": [
      "\u001b[32m\u001b[1m  Resolving\u001b[22m\u001b[39m package versions...\n",
      "\u001b[32m\u001b[1m  Resolving\u001b[22m\u001b[39m package versions...\n",
      "\u001b[32m\u001b[1m  Installed\u001b[22m\u001b[39m Qt_jll ─ v5.15.2+3\n",
      "\u001b[32m\u001b[1mNo Changes\u001b[22m\u001b[39m to `~/.julia/environments/v1.5/Project.toml`\n",
      "\u001b[32m\u001b[1mUpdating\u001b[22m\u001b[39m `~/.julia/environments/v1.5/Manifest.toml`\n",
      " \u001b[90m [ede63266] \u001b[39m\u001b[93m↑ Qt_jll v5.15.2+2 ⇒ v5.15.2+3\u001b[39m\n",
      "\u001b[32m\u001b[1m  Resolving\u001b[22m\u001b[39m package versions...\n",
      "\u001b[32m\u001b[1mNo Changes\u001b[22m\u001b[39m to `~/.julia/environments/v1.5/Project.toml`\n",
      "\u001b[32m\u001b[1mNo Changes\u001b[22m\u001b[39m to `~/.julia/environments/v1.5/Manifest.toml`\n",
      "\u001b[32m\u001b[1m  Resolving\u001b[22m\u001b[39m package versions...\n",
      "\u001b[32m\u001b[1mNo Changes\u001b[22m\u001b[39m to `~/.julia/environments/v1.5/Project.toml`\n",
      "\u001b[32m\u001b[1mNo Changes\u001b[22m\u001b[39m to `~/.julia/environments/v1.5/Manifest.toml`\n",
      "\u001b[32m\u001b[1m  Resolving\u001b[22m\u001b[39m package versions...\n",
      "\u001b[32m\u001b[1mNo Changes\u001b[22m\u001b[39m to `~/.julia/environments/v1.5/Project.toml`\n",
      "\u001b[32m\u001b[1mNo Changes\u001b[22m\u001b[39m to `~/.julia/environments/v1.5/Manifest.toml`\n",
      "\u001b[32m\u001b[1m  Resolving\u001b[22m\u001b[39m package versions...\n",
      "\u001b[32m\u001b[1mNo Changes\u001b[22m\u001b[39m to `~/.julia/environments/v1.5/Project.toml`\n",
      "\u001b[32m\u001b[1mNo Changes\u001b[22m\u001b[39m to `~/.julia/environments/v1.5/Manifest.toml`\n",
      "\u001b[32m\u001b[1m  Resolving\u001b[22m\u001b[39m package versions...\n",
      "\u001b[32m\u001b[1mNo Changes\u001b[22m\u001b[39m to `~/.julia/environments/v1.5/Project.toml`\n",
      "\u001b[32m\u001b[1mNo Changes\u001b[22m\u001b[39m to `~/.julia/environments/v1.5/Manifest.toml`\n",
      "\u001b[32m\u001b[1m  Resolving\u001b[22m\u001b[39m package versions...\n",
      "\u001b[32m\u001b[1mNo Changes\u001b[22m\u001b[39m to `~/.julia/environments/v1.5/Project.toml`\n",
      "\u001b[32m\u001b[1mNo Changes\u001b[22m\u001b[39m to `~/.julia/environments/v1.5/Manifest.toml`\n",
      "\u001b[32m\u001b[1m  Resolving\u001b[22m\u001b[39m package versions...\n",
      "\u001b[32m\u001b[1mNo Changes\u001b[22m\u001b[39m to `~/.julia/environments/v1.5/Project.toml`\n",
      "\u001b[32m\u001b[1mNo Changes\u001b[22m\u001b[39m to `~/.julia/environments/v1.5/Manifest.toml`\n",
      "\u001b[32m\u001b[1m  Resolving\u001b[22m\u001b[39m package versions...\n",
      "\u001b[32m\u001b[1mNo Changes\u001b[22m\u001b[39m to `~/.julia/environments/v1.5/Project.toml`\n",
      "\u001b[32m\u001b[1mNo Changes\u001b[22m\u001b[39m to `~/.julia/environments/v1.5/Manifest.toml`\n",
      "\u001b[32m\u001b[1m  Resolving\u001b[22m\u001b[39m package versions...\n",
      "\u001b[32m\u001b[1mNo Changes\u001b[22m\u001b[39m to `~/.julia/environments/v1.5/Project.toml`\n",
      "\u001b[32m\u001b[1mNo Changes\u001b[22m\u001b[39m to `~/.julia/environments/v1.5/Manifest.toml`\n",
      "\u001b[32m\u001b[1m  Resolving\u001b[22m\u001b[39m package versions...\n",
      "\u001b[32m\u001b[1mNo Changes\u001b[22m\u001b[39m to `~/.julia/environments/v1.5/Project.toml`\n",
      "\u001b[32m\u001b[1mNo Changes\u001b[22m\u001b[39m to `~/.julia/environments/v1.5/Manifest.toml`\n",
      "\u001b[32m\u001b[1m  Resolving\u001b[22m\u001b[39m package versions...\n",
      "\u001b[32m\u001b[1mNo Changes\u001b[22m\u001b[39m to `~/.julia/environments/v1.5/Project.toml`\n",
      "\u001b[32m\u001b[1mNo Changes\u001b[22m\u001b[39m to `~/.julia/environments/v1.5/Manifest.toml`\n",
      "\u001b[32m\u001b[1m  Resolving\u001b[22m\u001b[39m package versions...\n",
      "\u001b[32m\u001b[1mNo Changes\u001b[22m\u001b[39m to `~/.julia/environments/v1.5/Project.toml`\n",
      "\u001b[32m\u001b[1mNo Changes\u001b[22m\u001b[39m to `~/.julia/environments/v1.5/Manifest.toml`\n",
      "\u001b[32m\u001b[1m  Resolving\u001b[22m\u001b[39m package versions...\n",
      "\u001b[32m\u001b[1mNo Changes\u001b[22m\u001b[39m to `~/.julia/environments/v1.5/Project.toml`\n",
      "\u001b[32m\u001b[1mNo Changes\u001b[22m\u001b[39m to `~/.julia/environments/v1.5/Manifest.toml`\n",
      "\u001b[32m\u001b[1m  Resolving\u001b[22m\u001b[39m package versions...\n",
      "\u001b[32m\u001b[1mNo Changes\u001b[22m\u001b[39m to `~/.julia/environments/v1.5/Project.toml`\n",
      "\u001b[32m\u001b[1mNo Changes\u001b[22m\u001b[39m to `~/.julia/environments/v1.5/Manifest.toml`\n",
      "\u001b[32m\u001b[1m  Resolving\u001b[22m\u001b[39m package versions...\n",
      "\u001b[32m\u001b[1mNo Changes\u001b[22m\u001b[39m to `~/.julia/environments/v1.5/Project.toml`\n",
      "\u001b[32m\u001b[1mNo Changes\u001b[22m\u001b[39m to `~/.julia/environments/v1.5/Manifest.toml`\n"
     ]
    }
   ],
   "source": [
    "import Pkg\n",
    "pkgs = [\n",
    "    \"Eisenia\",\n",
    "    \"Random\",\n",
    "    \"Revise\",\n",
    "    \"BioSequences\",\n",
    "    \"Test\",\n",
    "    \"LightGraphs\",\n",
    "    \"Primes\",\n",
    "    \"Statistics\",\n",
    "    \"Plots\",\n",
    "    \"uCSV\",\n",
    "    \"DataFrames\",\n",
    "    \"HTTP\",\n",
    "    \"CodecZlib\",\n",
    "    \"FASTX\",\n",
    "    \"ProgressMeter\",\n",
    "    \"MetaGraphs\",\n",
    "    \"BioSymbols\"\n",
    "]\n",
    "\n",
    "for pkg in pkgs\n",
    "    try\n",
    "        Pkg.add(pkg)\n",
    "    catch\n",
    "#         # tried to install an unregistered local package\n",
    "    end\n",
    "    eval(Meta.parse(\"import $pkg\"))\n",
    "end"
   ]
  },
  {
   "cell_type": "code",
   "execution_count": 2,
   "metadata": {},
   "outputs": [],
   "source": [
    "TASK = \"making-neo4j-graphs\"\n",
    "DATE = \"2021-03-18\"\n",
    "DIR = \"$(homedir())/$(DATE)-$(TASK)\"\n",
    "if !isdir(DIR)\n",
    "    mkdir(DIR)\n",
    "end\n",
    "cd(DIR)"
   ]
  },
  {
   "cell_type": "code",
   "execution_count": 3,
   "metadata": {},
   "outputs": [
    {
     "data": {
      "text/plain": [
       "\"/Users/cameronprybol/Software/cypher-shell:/Applications/Julia-1.5.app/Contents/Resources/julia/bin:/Applications/Julia-1.5.app/Contents/Resources/julia/bin:/Users/cameronprybol/miniconda/bin:/Users/cameronprybol/.gem/ruby/2.6.0/bin:/usr/local/bin:/usr/bin:/bin:/usr/sbin:/sbin\""
      ]
     },
     "execution_count": 3,
     "metadata": {},
     "output_type": "execute_result"
    }
   ],
   "source": [
    "if !occursin(\"cypher-shell\", ENV[\"PATH\"])\n",
    "    ENV[\"PATH\"] = \"/Users/cameronprybol/Software/cypher-shell:$(ENV[\"PATH\"])\"\n",
    "end"
   ]
  },
  {
   "cell_type": "code",
   "execution_count": 4,
   "metadata": {},
   "outputs": [
    {
     "data": {
      "text/plain": [
       "get_genome_from_ftp_directory (generic function with 1 method)"
      ]
     },
     "execution_count": 4,
     "metadata": {},
     "output_type": "execute_result"
    }
   ],
   "source": [
    "function get_genome_from_ftp_directory(ftp_path)\n",
    "    fasta_url = \"$(ftp_path)/$(basename(ftp_path))_genomic.fna.gz\"\n",
    "    fasta_buffer = CodecZlib.GzipDecompressorStream(IOBuffer(HTTP.get(fasta_url).body))\n",
    "    return collect(FASTX.FASTA.Reader(fasta_buffer))\n",
    "end"
   ]
  },
  {
   "cell_type": "code",
   "execution_count": 5,
   "metadata": {},
   "outputs": [
    {
     "data": {
      "text/plain": [
       "list_databases (generic function with 1 method)"
      ]
     },
     "execution_count": 5,
     "metadata": {},
     "output_type": "execute_result"
    }
   ],
   "source": [
    "function list_databases(;address=\"neo4j://localhost:7687\", username=\"neo4j\", password=\"password\")\n",
    "    io = open(`cypher-shell --address $(address) --username $(username) --password $(password) --database system --format auto \"show databases\"`)\n",
    "    return DataFrames.DataFrame(uCSV.read(io, header=1, quotes='\"', encodings=Dict(\"FALSE\" => false, \"TRUE\" => true))...)\n",
    "end"
   ]
  },
  {
   "cell_type": "code",
   "execution_count": 6,
   "metadata": {},
   "outputs": [
    {
     "data": {
      "text/plain": [
       "create_database (generic function with 1 method)"
      ]
     },
     "execution_count": 6,
     "metadata": {},
     "output_type": "execute_result"
    }
   ],
   "source": [
    "function create_database(database_id; address=\"neo4j://localhost:7687\", username=\"neo4j\", password=\"password\")\n",
    "    current_databases = list_databases(;address, username, password)\n",
    "    if database_id in current_databases[!, \"name\"]\n",
    "        return true\n",
    "    else\n",
    "        run(`cypher-shell --address $(address) --username $(username) --password $(password) --database system --format auto \"create database $(database_id)\"`)\n",
    "    end\n",
    "end"
   ]
  },
  {
   "cell_type": "code",
   "execution_count": 7,
   "metadata": {},
   "outputs": [
    {
     "data": {
      "text/plain": [
       "cypher (generic function with 1 method)"
      ]
     },
     "execution_count": 7,
     "metadata": {},
     "output_type": "execute_result"
    }
   ],
   "source": [
    "function cypher(database_id, cmd; address=\"neo4j://localhost:7687\", username=\"neo4j\", password=\"password\")\n",
    "    read(`cypher-shell --address $(address) --username $(username) --password $(password) --database $(database_id) --format auto $(cmd)`, String)\n",
    "end"
   ]
  },
  {
   "cell_type": "code",
   "execution_count": 8,
   "metadata": {},
   "outputs": [
    {
     "data": {
      "text/plain": [
       "reverse_edge (generic function with 1 method)"
      ]
     },
     "execution_count": 8,
     "metadata": {},
     "output_type": "execute_result"
    }
   ],
   "source": [
    "function reverse_edge(edge)\n",
    "    new_src = edge.dst.node\n",
    "    @assert new_src == BioSequences.canonical(new_src)\n",
    "    new_dst = edge.src.node\n",
    "    @assert new_dst == BioSequences.canonical(new_dst)\n",
    "    new_src_orientation = !edge.dst.orientation\n",
    "    new_dst_orientaion = !edge.src.orientation\n",
    "    new_edge = (src = (node = new_src, orientation = new_src_orientation),\n",
    "                dst = (node = new_dst, orientation = new_dst_orientaion))\n",
    "    return new_edge\n",
    "end"
   ]
  },
  {
   "cell_type": "code",
   "execution_count": 9,
   "metadata": {},
   "outputs": [
    {
     "data": {
      "text/plain": [
       "canonical (generic function with 1 method)"
      ]
     },
     "execution_count": 9,
     "metadata": {},
     "output_type": "execute_result"
    }
   ],
   "source": [
    "function canonical(edge)\n",
    "    if edge.src.node < edge.dst.node\n",
    "        return edge\n",
    "    else\n",
    "        return reverse_edge(edge)\n",
    "    end\n",
    "end"
   ]
  },
  {
   "cell_type": "code",
   "execution_count": 10,
   "metadata": {},
   "outputs": [
    {
     "data": {
      "text/plain": [
       "replace_ambiguous (generic function with 1 method)"
      ]
     },
     "execution_count": 10,
     "metadata": {},
     "output_type": "execute_result"
    }
   ],
   "source": [
    "# https://genomevolution.org/wiki/index.php/Ambiguous_nucleotide\n",
    "function replace_ambiguous(seq)\n",
    "    for (i, x) in enumerate(seq)\n",
    "        if x == BioSequences.DNA_N\n",
    "            seq[i] = rand([BioSequences.DNA_A, BioSequences.DNA_C, BioSequences.DNA_G, BioSequences.DNA_T])\n",
    "        elseif x == BioSequences.DNA_R\n",
    "            seq[i] = rand([BioSequences.DNA_A, BioSequences.DNA_G])\n",
    "        elseif x == BioSequences.DNA_Y\n",
    "            seq[i] = rand([BioSequences.DNA_T, BioSequences.DNA_C])\n",
    "        elseif x == BioSequences.DNA_K\n",
    "            seq[i] = rand([BioSequences.DNA_G, BioSequences.DNA_T])\n",
    "        elseif x == BioSequences.DNA_M\n",
    "            seq[i] = rand([BioSequences.DNA_A, BioSequences.DNA_C])\n",
    "        elseif x == BioSequences.DNA_S\n",
    "            seq[i] = rand([BioSequences.DNA_G, BioSequences.DNA_C])\n",
    "        elseif x == BioSequences.DNA_W\n",
    "            seq[i] = rand([BioSequences.DNA_A, BioSequences.DNA_T])\n",
    "        elseif x == BioSequences.DNA_B\n",
    "            seq[i] = rand([BioSequences.DNA_C, BioSequences.DNA_G, BioSequences.DNA_T])\n",
    "        elseif x == BioSequences.DNA_D\n",
    "            seq[i] = rand([BioSequences.DNA_A, BioSequences.DNA_G, BioSequences.DNA_T])\n",
    "        elseif x == BioSequences.DNA_H\n",
    "            seq[i] = rand([BioSequences.DNA_A, BioSequences.DNA_C, BioSequences.DNA_T])\n",
    "        elseif x == BioSequences.DNA_V\n",
    "            seq[i] = rand([BioSequences.DNA_A, BioSequences.DNA_C, BioSequences.DNA_G])\n",
    "        end\n",
    "    end\n",
    "    return seq\n",
    "end"
   ]
  },
  {
   "cell_type": "code",
   "execution_count": 11,
   "metadata": {},
   "outputs": [
    {
     "data": {
      "text/html": [
       "<table class=\"data-frame\"><thead><tr><th></th><th># assembly_accession</th><th>bioproject</th><th>biosample</th><th>wgs_master</th><th>refseq_category</th></tr><tr><th></th><th>String</th><th>String</th><th>String</th><th>String</th><th>String</th></tr></thead><tbody><p>969,109 rows × 22 columns (omitted printing of 17 columns)</p><tr><th>1</th><td>GCA_000001215.4</td><td>PRJNA13812</td><td>SAMN02803731</td><td></td><td>reference genome</td></tr><tr><th>2</th><td>GCA_000001405.28</td><td>PRJNA31257</td><td></td><td></td><td>reference genome</td></tr><tr><th>3</th><td>GCA_000001515.5</td><td>PRJNA13184</td><td>SAMN02981217</td><td>AACZ00000000.4</td><td>na</td></tr><tr><th>4</th><td>GCA_000001545.3</td><td>PRJNA20869</td><td>SAMN02981238</td><td>ABGA00000000.1</td><td>na</td></tr><tr><th>5</th><td>GCA_000001635.9</td><td>PRJNA20689</td><td></td><td></td><td>reference genome</td></tr><tr><th>6</th><td>GCA_000001735.2</td><td>PRJNA10719</td><td>SAMN03081427</td><td></td><td>reference genome</td></tr><tr><th>7</th><td>GCA_000001765.3</td><td>PRJNA10626</td><td>SAMN00779672</td><td>AADE00000000.2</td><td>na</td></tr><tr><th>8</th><td>GCA_000001895.4</td><td>PRJNA10629</td><td>SAMN02808228</td><td>AABR00000000.7</td><td>na</td></tr><tr><th>9</th><td>GCA_000001905.1</td><td>PRJNA12569</td><td>SAMN02953622</td><td>AAGU00000000.3</td><td>representative genome</td></tr><tr><th>10</th><td>GCA_000001985.1</td><td>PRJNA19555</td><td>SAMN02953685</td><td>ABAR00000000.1</td><td>representative genome</td></tr><tr><th>11</th><td>GCA_000002035.4</td><td>PRJNA11776</td><td>SAMN06930106</td><td></td><td>reference genome</td></tr><tr><th>12</th><td>GCA_000002075.2</td><td>PRJNA13635</td><td>SAMN02953658</td><td>AASC00000000.3</td><td>representative genome</td></tr><tr><th>13</th><td>GCA_000002115.2</td><td>PRJNA1431</td><td>SAMN02981219</td><td>AADD00000000.1</td><td>na</td></tr><tr><th>14</th><td>GCA_000002125.2</td><td>PRJNA19621</td><td>SAMN02981236</td><td>ABBA00000000.1</td><td>na</td></tr><tr><th>15</th><td>GCA_000002135.3</td><td>PRJNA10793</td><td></td><td></td><td>na</td></tr><tr><th>16</th><td>GCA_000002165.1</td><td>PRJNA11785</td><td>SAMN03004379</td><td>AAHY00000000.1</td><td>na</td></tr><tr><th>17</th><td>GCA_000002175.2</td><td>PRJNA16847</td><td>SAMD00067074</td><td></td><td>na</td></tr><tr><th>18</th><td>GCA_000002195.1</td><td>PRJNA10625</td><td>SAMN00002455</td><td>AADG00000000.6</td><td>na</td></tr><tr><th>19</th><td>GCA_000002235.4</td><td>PRJNA10736</td><td>SAMN00829422</td><td>AAGJ00000000.6</td><td>representative genome</td></tr><tr><th>20</th><td>GCA_000002255.2</td><td>PRJNA12537</td><td>SAMN02981228</td><td>AANU00000000.1</td><td>na</td></tr><tr><th>21</th><td>GCA_000002265.1</td><td>PRJNA13999</td><td>SAMN03000701</td><td>AAHX00000000.1</td><td>na</td></tr><tr><th>22</th><td>GCA_000002275.2</td><td>PRJNA12885</td><td>SAMN02953646</td><td>AAPN00000000.1</td><td>na</td></tr><tr><th>23</th><td>GCA_000002285.4</td><td>PRJNA13179</td><td>SAMN02953603</td><td>AAEX00000000.4</td><td>na</td></tr><tr><th>24</th><td>GCA_000002295.1</td><td>PRJNA12561</td><td>SAMN02953611</td><td>AAFR00000000.3</td><td>representative genome</td></tr><tr><th>25</th><td>GCA_000002305.1</td><td>PRJNA18661</td><td>SAMN02953672</td><td>AAWR00000000.2</td><td>na</td></tr><tr><th>26</th><td>GCA_000002315.5</td><td>PRJNA13342</td><td>SAMN02981218</td><td>AADN00000000.5</td><td>representative genome</td></tr><tr><th>27</th><td>GCA_000002325.2</td><td>PRJNA13660</td><td>SAMN02902141</td><td>AAZX00000000.1</td><td>na</td></tr><tr><th>28</th><td>GCA_000002335.3</td><td>PRJNA12540</td><td>SAMN02953634</td><td>AAJJ00000000.2</td><td>representative genome</td></tr><tr><th>29</th><td>GCA_000002415.2</td><td>PRJNA150</td><td>SAMN02953638</td><td>AAKM00000000.1</td><td>representative genome</td></tr><tr><th>30</th><td>GCA_000002425.2</td><td>PRJNA13064</td><td>SAMN00120126</td><td>ABEU00000000.2</td><td>representative genome</td></tr><tr><th>&vellip;</th><td>&vellip;</td><td>&vellip;</td><td>&vellip;</td><td>&vellip;</td><td>&vellip;</td></tr></tbody></table>"
      ],
      "text/latex": [
       "\\begin{tabular}{r|cccccc}\n",
       "\t& \\# assembly\\_accession & bioproject & biosample & wgs\\_master & refseq\\_category & \\\\\n",
       "\t\\hline\n",
       "\t& String & String & String & String & String & \\\\\n",
       "\t\\hline\n",
       "\t1 & GCA\\_000001215.4 & PRJNA13812 & SAMN02803731 &  & reference genome & $\\dots$ \\\\\n",
       "\t2 & GCA\\_000001405.28 & PRJNA31257 &  &  & reference genome & $\\dots$ \\\\\n",
       "\t3 & GCA\\_000001515.5 & PRJNA13184 & SAMN02981217 & AACZ00000000.4 & na & $\\dots$ \\\\\n",
       "\t4 & GCA\\_000001545.3 & PRJNA20869 & SAMN02981238 & ABGA00000000.1 & na & $\\dots$ \\\\\n",
       "\t5 & GCA\\_000001635.9 & PRJNA20689 &  &  & reference genome & $\\dots$ \\\\\n",
       "\t6 & GCA\\_000001735.2 & PRJNA10719 & SAMN03081427 &  & reference genome & $\\dots$ \\\\\n",
       "\t7 & GCA\\_000001765.3 & PRJNA10626 & SAMN00779672 & AADE00000000.2 & na & $\\dots$ \\\\\n",
       "\t8 & GCA\\_000001895.4 & PRJNA10629 & SAMN02808228 & AABR00000000.7 & na & $\\dots$ \\\\\n",
       "\t9 & GCA\\_000001905.1 & PRJNA12569 & SAMN02953622 & AAGU00000000.3 & representative genome & $\\dots$ \\\\\n",
       "\t10 & GCA\\_000001985.1 & PRJNA19555 & SAMN02953685 & ABAR00000000.1 & representative genome & $\\dots$ \\\\\n",
       "\t11 & GCA\\_000002035.4 & PRJNA11776 & SAMN06930106 &  & reference genome & $\\dots$ \\\\\n",
       "\t12 & GCA\\_000002075.2 & PRJNA13635 & SAMN02953658 & AASC00000000.3 & representative genome & $\\dots$ \\\\\n",
       "\t13 & GCA\\_000002115.2 & PRJNA1431 & SAMN02981219 & AADD00000000.1 & na & $\\dots$ \\\\\n",
       "\t14 & GCA\\_000002125.2 & PRJNA19621 & SAMN02981236 & ABBA00000000.1 & na & $\\dots$ \\\\\n",
       "\t15 & GCA\\_000002135.3 & PRJNA10793 &  &  & na & $\\dots$ \\\\\n",
       "\t16 & GCA\\_000002165.1 & PRJNA11785 & SAMN03004379 & AAHY00000000.1 & na & $\\dots$ \\\\\n",
       "\t17 & GCA\\_000002175.2 & PRJNA16847 & SAMD00067074 &  & na & $\\dots$ \\\\\n",
       "\t18 & GCA\\_000002195.1 & PRJNA10625 & SAMN00002455 & AADG00000000.6 & na & $\\dots$ \\\\\n",
       "\t19 & GCA\\_000002235.4 & PRJNA10736 & SAMN00829422 & AAGJ00000000.6 & representative genome & $\\dots$ \\\\\n",
       "\t20 & GCA\\_000002255.2 & PRJNA12537 & SAMN02981228 & AANU00000000.1 & na & $\\dots$ \\\\\n",
       "\t21 & GCA\\_000002265.1 & PRJNA13999 & SAMN03000701 & AAHX00000000.1 & na & $\\dots$ \\\\\n",
       "\t22 & GCA\\_000002275.2 & PRJNA12885 & SAMN02953646 & AAPN00000000.1 & na & $\\dots$ \\\\\n",
       "\t23 & GCA\\_000002285.4 & PRJNA13179 & SAMN02953603 & AAEX00000000.4 & na & $\\dots$ \\\\\n",
       "\t24 & GCA\\_000002295.1 & PRJNA12561 & SAMN02953611 & AAFR00000000.3 & representative genome & $\\dots$ \\\\\n",
       "\t25 & GCA\\_000002305.1 & PRJNA18661 & SAMN02953672 & AAWR00000000.2 & na & $\\dots$ \\\\\n",
       "\t26 & GCA\\_000002315.5 & PRJNA13342 & SAMN02981218 & AADN00000000.5 & representative genome & $\\dots$ \\\\\n",
       "\t27 & GCA\\_000002325.2 & PRJNA13660 & SAMN02902141 & AAZX00000000.1 & na & $\\dots$ \\\\\n",
       "\t28 & GCA\\_000002335.3 & PRJNA12540 & SAMN02953634 & AAJJ00000000.2 & representative genome & $\\dots$ \\\\\n",
       "\t29 & GCA\\_000002415.2 & PRJNA150 & SAMN02953638 & AAKM00000000.1 & representative genome & $\\dots$ \\\\\n",
       "\t30 & GCA\\_000002425.2 & PRJNA13064 & SAMN00120126 & ABEU00000000.2 & representative genome & $\\dots$ \\\\\n",
       "\t$\\dots$ & $\\dots$ & $\\dots$ & $\\dots$ & $\\dots$ & $\\dots$ &  \\\\\n",
       "\\end{tabular}\n"
      ],
      "text/plain": [
       "969109×22 DataFrame. Omitted printing of 19 columns\n",
       "│ Row    │ # assembly_accession │ bioproject │ biosample    │\n",
       "│        │ \u001b[90mString\u001b[39m               │ \u001b[90mString\u001b[39m     │ \u001b[90mString\u001b[39m       │\n",
       "├────────┼──────────────────────┼────────────┼──────────────┤\n",
       "│ 1      │ GCA_000001215.4      │ PRJNA13812 │ SAMN02803731 │\n",
       "│ 2      │ GCA_000001405.28     │ PRJNA31257 │              │\n",
       "│ 3      │ GCA_000001515.5      │ PRJNA13184 │ SAMN02981217 │\n",
       "│ 4      │ GCA_000001545.3      │ PRJNA20869 │ SAMN02981238 │\n",
       "│ 5      │ GCA_000001635.9      │ PRJNA20689 │              │\n",
       "│ 6      │ GCA_000001735.2      │ PRJNA10719 │ SAMN03081427 │\n",
       "│ 7      │ GCA_000001765.3      │ PRJNA10626 │ SAMN00779672 │\n",
       "│ 8      │ GCA_000001895.4      │ PRJNA10629 │ SAMN02808228 │\n",
       "│ 9      │ GCA_000001905.1      │ PRJNA12569 │ SAMN02953622 │\n",
       "│ 10     │ GCA_000001985.1      │ PRJNA19555 │ SAMN02953685 │\n",
       "⋮\n",
       "│ 969099 │ GCA_905232355.1      │ PRJEB42964 │ SAMEA7998005 │\n",
       "│ 969100 │ GCA_905232365.1      │ PRJEB42964 │ SAMEA7998006 │\n",
       "│ 969101 │ GCA_905236995.1      │ PRJEB28470 │ SAMEA7833113 │\n",
       "│ 969102 │ GCA_905237015.1      │ PRJEB28470 │ SAMEA7833114 │\n",
       "│ 969103 │ GCA_905237025.1      │ PRJEB28470 │ SAMEA7833116 │\n",
       "│ 969104 │ GCA_905237035.1      │ PRJEB28470 │ SAMEA7833115 │\n",
       "│ 969105 │ GCA_905237045.1      │ PRJEB28470 │ SAMEA7833117 │\n",
       "│ 969106 │ GCA_905237085.1      │ PRJEB33539 │ SAMEA5987284 │\n",
       "│ 969107 │ GCA_905237095.1      │ PRJEB33539 │ SAMEA5987285 │\n",
       "│ 969108 │ GCA_905332985.1      │ PRJEB43491 │ SAMEA7520521 │\n",
       "│ 969109 │ GCA_905333005.1      │ PRJEB43473 │ SAMEA7523293 │"
      ]
     },
     "execution_count": 11,
     "metadata": {},
     "output_type": "execute_result"
    }
   ],
   "source": [
    "db = \"genbank\"\n",
    "assembly_summary_url = \"https://ftp.ncbi.nlm.nih.gov/genomes/$(db)/assembly_summary_$(db).txt\"\n",
    "assembly_summary_file = \"$(DIR)/$(basename(assembly_summary_url))\"\n",
    "if !isfile(assembly_summary_file)\n",
    "    open(assembly_summary_file, \"w\") do io\n",
    "        assembly_summary_response = HTTP.get(assembly_summary_url)\n",
    "        write(io, assembly_summary_response.body)\n",
    "    end\n",
    "end\n",
    "assembly_summary_table = DataFrames.DataFrame(uCSV.read(assembly_summary_file, delim='\\t', header=2, skipmalformed=true)...)"
   ]
  },
  {
   "cell_type": "code",
   "execution_count": 12,
   "metadata": {},
   "outputs": [
    {
     "data": {
      "text/html": [
       "<table class=\"data-frame\"><thead><tr><th></th><th>#species_taxid</th><th>min_ungapped_length</th><th>max_ungapped_length</th><th>expected_ungapped_length</th></tr><tr><th></th><th>Int64</th><th>Int64</th><th>Int64</th><th>Int64</th></tr></thead><tbody><p>2,812 rows × 5 columns (omitted printing of 1 columns)</p><tr><th>1</th><td>9</td><td>318000</td><td>956000</td><td>636876</td></tr><tr><th>2</th><td>24</td><td>2950000</td><td>6050000</td><td>4500062</td></tr><tr><th>3</th><td>34</td><td>7405000</td><td>11109000</td><td>9257167</td></tr><tr><th>4</th><td>56</td><td>5994000</td><td>15000000</td><td>11989871</td></tr><tr><th>5</th><td>69</td><td>4891000</td><td>7337000</td><td>6113769</td></tr><tr><th>6</th><td>114</td><td>7212000</td><td>10820000</td><td>9015893</td></tr><tr><th>7</th><td>122</td><td>6222000</td><td>9334000</td><td>7777997</td></tr><tr><th>8</th><td>124</td><td>5461000</td><td>9315000</td><td>7387897</td></tr><tr><th>9</th><td>139</td><td>813000</td><td>1786000</td><td>1299537</td></tr><tr><th>10</th><td>140</td><td>688000</td><td>2067000</td><td>1377933</td></tr><tr><th>11</th><td>158</td><td>2253000</td><td>3380000</td><td>2816290</td></tr><tr><th>12</th><td>159</td><td>2436000</td><td>3655000</td><td>3045648</td></tr><tr><th>13</th><td>160</td><td>911000</td><td>1367000</td><td>1139090</td></tr><tr><th>14</th><td>162</td><td>2117000</td><td>4384000</td><td>3250767</td></tr><tr><th>15</th><td>164</td><td>1779000</td><td>2669000</td><td>2224027</td></tr><tr><th>16</th><td>172</td><td>3103000</td><td>4655000</td><td>3879078</td></tr><tr><th>17</th><td>173</td><td>3700000</td><td>5552000</td><td>4626069</td></tr><tr><th>18</th><td>174</td><td>3138000</td><td>4708000</td><td>3922817</td></tr><tr><th>19</th><td>192</td><td>5672000</td><td>8563000</td><td>7117205</td></tr><tr><th>20</th><td>193</td><td>5968000</td><td>9403000</td><td>7685216</td></tr><tr><th>21</th><td>195</td><td>1408000</td><td>2114000</td><td>1760935</td></tr><tr><th>22</th><td>196</td><td>1600000</td><td>2200000</td><td>1900000</td></tr><tr><th>23</th><td>197</td><td>1376000</td><td>2065000</td><td>1720192</td></tr><tr><th>24</th><td>198</td><td>1427000</td><td>2141000</td><td>1783989</td></tr><tr><th>25</th><td>199</td><td>1340000</td><td>2534000</td><td>1937433</td></tr><tr><th>26</th><td>200</td><td>1577000</td><td>2366000</td><td>1971264</td></tr><tr><th>27</th><td>201</td><td>1207000</td><td>1856000</td><td>1531213</td></tr><tr><th>28</th><td>202</td><td>1425000</td><td>2182000</td><td>1803524</td></tr><tr><th>29</th><td>204</td><td>1566000</td><td>2781000</td><td>2173965</td></tr><tr><th>30</th><td>206</td><td>1402000</td><td>2105000</td><td>1753386</td></tr><tr><th>&vellip;</th><td>&vellip;</td><td>&vellip;</td><td>&vellip;</td><td>&vellip;</td></tr></tbody></table>"
      ],
      "text/latex": [
       "\\begin{tabular}{r|ccccc}\n",
       "\t& \\#species\\_taxid & min\\_ungapped\\_length & max\\_ungapped\\_length & expected\\_ungapped\\_length & \\\\\n",
       "\t\\hline\n",
       "\t& Int64 & Int64 & Int64 & Int64 & \\\\\n",
       "\t\\hline\n",
       "\t1 & 9 & 318000 & 956000 & 636876 & $\\dots$ \\\\\n",
       "\t2 & 24 & 2950000 & 6050000 & 4500062 & $\\dots$ \\\\\n",
       "\t3 & 34 & 7405000 & 11109000 & 9257167 & $\\dots$ \\\\\n",
       "\t4 & 56 & 5994000 & 15000000 & 11989871 & $\\dots$ \\\\\n",
       "\t5 & 69 & 4891000 & 7337000 & 6113769 & $\\dots$ \\\\\n",
       "\t6 & 114 & 7212000 & 10820000 & 9015893 & $\\dots$ \\\\\n",
       "\t7 & 122 & 6222000 & 9334000 & 7777997 & $\\dots$ \\\\\n",
       "\t8 & 124 & 5461000 & 9315000 & 7387897 & $\\dots$ \\\\\n",
       "\t9 & 139 & 813000 & 1786000 & 1299537 & $\\dots$ \\\\\n",
       "\t10 & 140 & 688000 & 2067000 & 1377933 & $\\dots$ \\\\\n",
       "\t11 & 158 & 2253000 & 3380000 & 2816290 & $\\dots$ \\\\\n",
       "\t12 & 159 & 2436000 & 3655000 & 3045648 & $\\dots$ \\\\\n",
       "\t13 & 160 & 911000 & 1367000 & 1139090 & $\\dots$ \\\\\n",
       "\t14 & 162 & 2117000 & 4384000 & 3250767 & $\\dots$ \\\\\n",
       "\t15 & 164 & 1779000 & 2669000 & 2224027 & $\\dots$ \\\\\n",
       "\t16 & 172 & 3103000 & 4655000 & 3879078 & $\\dots$ \\\\\n",
       "\t17 & 173 & 3700000 & 5552000 & 4626069 & $\\dots$ \\\\\n",
       "\t18 & 174 & 3138000 & 4708000 & 3922817 & $\\dots$ \\\\\n",
       "\t19 & 192 & 5672000 & 8563000 & 7117205 & $\\dots$ \\\\\n",
       "\t20 & 193 & 5968000 & 9403000 & 7685216 & $\\dots$ \\\\\n",
       "\t21 & 195 & 1408000 & 2114000 & 1760935 & $\\dots$ \\\\\n",
       "\t22 & 196 & 1600000 & 2200000 & 1900000 & $\\dots$ \\\\\n",
       "\t23 & 197 & 1376000 & 2065000 & 1720192 & $\\dots$ \\\\\n",
       "\t24 & 198 & 1427000 & 2141000 & 1783989 & $\\dots$ \\\\\n",
       "\t25 & 199 & 1340000 & 2534000 & 1937433 & $\\dots$ \\\\\n",
       "\t26 & 200 & 1577000 & 2366000 & 1971264 & $\\dots$ \\\\\n",
       "\t27 & 201 & 1207000 & 1856000 & 1531213 & $\\dots$ \\\\\n",
       "\t28 & 202 & 1425000 & 2182000 & 1803524 & $\\dots$ \\\\\n",
       "\t29 & 204 & 1566000 & 2781000 & 2173965 & $\\dots$ \\\\\n",
       "\t30 & 206 & 1402000 & 2105000 & 1753386 & $\\dots$ \\\\\n",
       "\t$\\dots$ & $\\dots$ & $\\dots$ & $\\dots$ & $\\dots$ &  \\\\\n",
       "\\end{tabular}\n"
      ],
      "text/plain": [
       "2812×5 DataFrame. Omitted printing of 2 columns\n",
       "│ Row  │ #species_taxid │ min_ungapped_length │ max_ungapped_length │\n",
       "│      │ \u001b[90mInt64\u001b[39m          │ \u001b[90mInt64\u001b[39m               │ \u001b[90mInt64\u001b[39m               │\n",
       "├──────┼────────────────┼─────────────────────┼─────────────────────┤\n",
       "│ 1    │ 9              │ 318000              │ 956000              │\n",
       "│ 2    │ 24             │ 2950000             │ 6050000             │\n",
       "│ 3    │ 34             │ 7405000             │ 11109000            │\n",
       "│ 4    │ 56             │ 5994000             │ 15000000            │\n",
       "│ 5    │ 69             │ 4891000             │ 7337000             │\n",
       "│ 6    │ 114            │ 7212000             │ 10820000            │\n",
       "│ 7    │ 122            │ 6222000             │ 9334000             │\n",
       "│ 8    │ 124            │ 5461000             │ 9315000             │\n",
       "│ 9    │ 139            │ 813000              │ 1786000             │\n",
       "│ 10   │ 140            │ 688000              │ 2067000             │\n",
       "⋮\n",
       "│ 2802 │ 2723674        │ 17496000            │ 37645000            │\n",
       "│ 2803 │ 2741499        │ 4138000             │ 6209000             │\n",
       "│ 2804 │ 2742203        │ 2103000             │ 3156000             │\n",
       "│ 2805 │ 2754717        │ 850000              │ 2552000             │\n",
       "│ 2806 │ 2763006        │ 6549000             │ 10029000            │\n",
       "│ 2807 │ 2766470        │ 1325000             │ 2578000             │\n",
       "│ 2808 │ 2778550        │ 3291000             │ 5889000             │\n",
       "│ 2809 │ 2781243        │ 2321000             │ 3483000             │\n",
       "│ 2810 │ 2782701        │ 7171000             │ 10758000            │\n",
       "│ 2811 │ 2801451        │ 1594000             │ 4518000             │\n",
       "│ 2812 │ 2813651        │ 31916000            │ 47875000            │"
      ]
     },
     "execution_count": 12,
     "metadata": {},
     "output_type": "execute_result"
    }
   ],
   "source": [
    "genome_size_table_url = \"ftp://ftp.ncbi.nlm.nih.gov/genomes/ASSEMBLY_REPORTS/species_genome_size.txt.gz\"\n",
    "genome_size_table_file = \"$(DIR)/$(basename(genome_size_table_url))\"\n",
    "if !isfile(genome_size_table_file)\n",
    "    open(genome_size_table_file, \"w\") do io\n",
    "        genome_size_table_response = HTTP.get(genome_size_table_url)\n",
    "        write(io, genome_size_table_response.body)\n",
    "    end\n",
    "end\n",
    "genome_size_table_buffer = CodecZlib.GzipDecompressorStream(open(genome_size_table_file))\n",
    "genome_size_table = DataFrames.DataFrame(uCSV.read(genome_size_table_buffer, header=1, delim='\\t')...)"
   ]
  },
  {
   "cell_type": "code",
   "execution_count": 13,
   "metadata": {},
   "outputs": [
    {
     "data": {
      "text/html": [
       "<table class=\"data-frame\"><thead><tr><th></th><th># assembly_accession</th><th>bioproject</th><th>biosample</th><th>wgs_master</th><th>refseq_category</th><th>taxid</th></tr><tr><th></th><th>String</th><th>String</th><th>String</th><th>String</th><th>String</th><th>Int64</th></tr></thead><tbody><p>776,772 rows × 26 columns (omitted printing of 20 columns)</p><tr><th>1</th><td>GCA_002829805.1</td><td></td><td></td><td></td><td>na</td><td>230604</td></tr><tr><th>2</th><td>GCA_003972145.1</td><td></td><td></td><td></td><td>na</td><td>230604</td></tr><tr><th>3</th><td>GCA_003972165.1</td><td></td><td></td><td></td><td>na</td><td>230604</td></tr><tr><th>4</th><td>GCA_003972185.1</td><td></td><td></td><td></td><td>na</td><td>230604</td></tr><tr><th>5</th><td>GCA_003972205.1</td><td></td><td></td><td></td><td>na</td><td>230604</td></tr><tr><th>6</th><td>GCA_003972225.1</td><td></td><td></td><td></td><td>na</td><td>230604</td></tr><tr><th>7</th><td>GCA_003972245.1</td><td></td><td></td><td></td><td>na</td><td>230604</td></tr><tr><th>8</th><td>GCA_003972265.1</td><td></td><td></td><td></td><td>na</td><td>230604</td></tr><tr><th>9</th><td>GCA_000851485.1</td><td></td><td></td><td></td><td>reference genome</td><td>154834</td></tr><tr><th>10</th><td>GCA_000856565.1</td><td></td><td></td><td></td><td>na</td><td>12475</td></tr><tr><th>11</th><td>GCA_003033635.1</td><td></td><td></td><td></td><td>na</td><td>12475</td></tr><tr><th>12</th><td>GCA_003033645.1</td><td></td><td></td><td></td><td>na</td><td>12475</td></tr><tr><th>13</th><td>GCA_003047595.1</td><td></td><td></td><td></td><td>na</td><td>12475</td></tr><tr><th>14</th><td>GCA_003047615.1</td><td></td><td></td><td></td><td>na</td><td>12475</td></tr><tr><th>15</th><td>GCA_003047635.1</td><td></td><td></td><td></td><td>na</td><td>12475</td></tr><tr><th>16</th><td>GCA_003047655.1</td><td></td><td></td><td></td><td>na</td><td>12475</td></tr><tr><th>17</th><td>GCA_003047915.1</td><td></td><td></td><td></td><td>na</td><td>12475</td></tr><tr><th>18</th><td>GCA_003971865.1</td><td></td><td></td><td></td><td>na</td><td>12475</td></tr><tr><th>19</th><td>GCA_000919655.1</td><td></td><td></td><td></td><td>na</td><td>1234882</td></tr><tr><th>20</th><td>GCA_002819965.1</td><td></td><td></td><td></td><td>na</td><td>1234882</td></tr><tr><th>21</th><td>GCA_003985465.1</td><td></td><td></td><td></td><td>na</td><td>1072162</td></tr><tr><th>22</th><td>GCA_004369285.1</td><td></td><td></td><td></td><td>na</td><td>1072162</td></tr><tr><th>23</th><td>GCA_000918015.1</td><td></td><td></td><td></td><td>na</td><td>1475143</td></tr><tr><th>24</th><td>GCA_004046075.1</td><td></td><td></td><td></td><td>na</td><td>1475143</td></tr><tr><th>25</th><td>GCA_004046095.1</td><td></td><td></td><td></td><td>na</td><td>1475143</td></tr><tr><th>26</th><td>GCA_004046115.1</td><td></td><td></td><td></td><td>na</td><td>1475143</td></tr><tr><th>27</th><td>GCA_004046135.1</td><td></td><td></td><td></td><td>na</td><td>1475143</td></tr><tr><th>28</th><td>GCA_004046155.1</td><td></td><td></td><td></td><td>na</td><td>1475143</td></tr><tr><th>29</th><td>GCA_004046175.1</td><td></td><td></td><td></td><td>na</td><td>1475143</td></tr><tr><th>30</th><td>GCA_004051695.1</td><td></td><td></td><td></td><td>na</td><td>1475143</td></tr><tr><th>&vellip;</th><td>&vellip;</td><td>&vellip;</td><td>&vellip;</td><td>&vellip;</td><td>&vellip;</td><td>&vellip;</td></tr></tbody></table>"
      ],
      "text/latex": [
       "\\begin{tabular}{r|ccccccc}\n",
       "\t& \\# assembly\\_accession & bioproject & biosample & wgs\\_master & refseq\\_category & taxid & \\\\\n",
       "\t\\hline\n",
       "\t& String & String & String & String & String & Int64 & \\\\\n",
       "\t\\hline\n",
       "\t1 & GCA\\_002829805.1 &  &  &  & na & 230604 & $\\dots$ \\\\\n",
       "\t2 & GCA\\_003972145.1 &  &  &  & na & 230604 & $\\dots$ \\\\\n",
       "\t3 & GCA\\_003972165.1 &  &  &  & na & 230604 & $\\dots$ \\\\\n",
       "\t4 & GCA\\_003972185.1 &  &  &  & na & 230604 & $\\dots$ \\\\\n",
       "\t5 & GCA\\_003972205.1 &  &  &  & na & 230604 & $\\dots$ \\\\\n",
       "\t6 & GCA\\_003972225.1 &  &  &  & na & 230604 & $\\dots$ \\\\\n",
       "\t7 & GCA\\_003972245.1 &  &  &  & na & 230604 & $\\dots$ \\\\\n",
       "\t8 & GCA\\_003972265.1 &  &  &  & na & 230604 & $\\dots$ \\\\\n",
       "\t9 & GCA\\_000851485.1 &  &  &  & reference genome & 154834 & $\\dots$ \\\\\n",
       "\t10 & GCA\\_000856565.1 &  &  &  & na & 12475 & $\\dots$ \\\\\n",
       "\t11 & GCA\\_003033635.1 &  &  &  & na & 12475 & $\\dots$ \\\\\n",
       "\t12 & GCA\\_003033645.1 &  &  &  & na & 12475 & $\\dots$ \\\\\n",
       "\t13 & GCA\\_003047595.1 &  &  &  & na & 12475 & $\\dots$ \\\\\n",
       "\t14 & GCA\\_003047615.1 &  &  &  & na & 12475 & $\\dots$ \\\\\n",
       "\t15 & GCA\\_003047635.1 &  &  &  & na & 12475 & $\\dots$ \\\\\n",
       "\t16 & GCA\\_003047655.1 &  &  &  & na & 12475 & $\\dots$ \\\\\n",
       "\t17 & GCA\\_003047915.1 &  &  &  & na & 12475 & $\\dots$ \\\\\n",
       "\t18 & GCA\\_003971865.1 &  &  &  & na & 12475 & $\\dots$ \\\\\n",
       "\t19 & GCA\\_000919655.1 &  &  &  & na & 1234882 & $\\dots$ \\\\\n",
       "\t20 & GCA\\_002819965.1 &  &  &  & na & 1234882 & $\\dots$ \\\\\n",
       "\t21 & GCA\\_003985465.1 &  &  &  & na & 1072162 & $\\dots$ \\\\\n",
       "\t22 & GCA\\_004369285.1 &  &  &  & na & 1072162 & $\\dots$ \\\\\n",
       "\t23 & GCA\\_000918015.1 &  &  &  & na & 1475143 & $\\dots$ \\\\\n",
       "\t24 & GCA\\_004046075.1 &  &  &  & na & 1475143 & $\\dots$ \\\\\n",
       "\t25 & GCA\\_004046095.1 &  &  &  & na & 1475143 & $\\dots$ \\\\\n",
       "\t26 & GCA\\_004046115.1 &  &  &  & na & 1475143 & $\\dots$ \\\\\n",
       "\t27 & GCA\\_004046135.1 &  &  &  & na & 1475143 & $\\dots$ \\\\\n",
       "\t28 & GCA\\_004046155.1 &  &  &  & na & 1475143 & $\\dots$ \\\\\n",
       "\t29 & GCA\\_004046175.1 &  &  &  & na & 1475143 & $\\dots$ \\\\\n",
       "\t30 & GCA\\_004051695.1 &  &  &  & na & 1475143 & $\\dots$ \\\\\n",
       "\t$\\dots$ & $\\dots$ & $\\dots$ & $\\dots$ & $\\dots$ & $\\dots$ & $\\dots$ &  \\\\\n",
       "\\end{tabular}\n"
      ],
      "text/plain": [
       "776772×26 DataFrame. Omitted printing of 23 columns\n",
       "│ Row    │ # assembly_accession │ bioproject │ biosample    │\n",
       "│        │ \u001b[90mString\u001b[39m               │ \u001b[90mString\u001b[39m     │ \u001b[90mString\u001b[39m       │\n",
       "├────────┼──────────────────────┼────────────┼──────────────┤\n",
       "│ 1      │ GCA_002829805.1      │            │              │\n",
       "│ 2      │ GCA_003972145.1      │            │              │\n",
       "│ 3      │ GCA_003972165.1      │            │              │\n",
       "│ 4      │ GCA_003972185.1      │            │              │\n",
       "│ 5      │ GCA_003972205.1      │            │              │\n",
       "│ 6      │ GCA_003972225.1      │            │              │\n",
       "│ 7      │ GCA_003972245.1      │            │              │\n",
       "│ 8      │ GCA_003972265.1      │            │              │\n",
       "│ 9      │ GCA_000851485.1      │            │              │\n",
       "│ 10     │ GCA_000856565.1      │            │              │\n",
       "⋮\n",
       "│ 776762 │ GCA_902810675.1      │ PRJEB35709 │ SAMEA6374024 │\n",
       "│ 776763 │ GCA_902810685.1      │ PRJEB35709 │ SAMEA6374021 │\n",
       "│ 776764 │ GCA_903993795.1      │ PRJEB39553 │ SAMEA7089055 │\n",
       "│ 776765 │ GCA_903993975.1      │ PRJEB39555 │ SAMEA7089057 │\n",
       "│ 776766 │ GCA_903993985.1      │ PRJEB39552 │ SAMEA7089054 │\n",
       "│ 776767 │ GCA_903994155.1      │ PRJEB39560 │ SAMEA7089062 │\n",
       "│ 776768 │ GCA_903994175.1      │ PRJEB39557 │ SAMEA7089059 │\n",
       "│ 776769 │ GCA_903994185.1      │ PRJEB39558 │ SAMEA7089060 │\n",
       "│ 776770 │ GCA_903994195.1      │ PRJEB39554 │ SAMEA7089056 │\n",
       "│ 776771 │ GCA_903995565.1      │ PRJEB39556 │ SAMEA7089058 │\n",
       "│ 776772 │ GCA_904066035.1      │ PRJEB39982 │ SAMEA7202579 │"
      ]
     },
     "execution_count": 13,
     "metadata": {},
     "output_type": "execute_result"
    }
   ],
   "source": [
    "joint_table = DataFrames.innerjoin(assembly_summary_table, genome_size_table, on=[\"species_taxid\" => \"#species_taxid\"])\n",
    "sort!(joint_table, \"expected_ungapped_length\")"
   ]
  },
  {
   "cell_type": "code",
   "execution_count": null,
   "metadata": {},
   "outputs": [],
   "source": [
    "# 112903 on refseq\n",
    "# 795 on genbank!"
   ]
  },
  {
   "cell_type": "code",
   "execution_count": 14,
   "metadata": {},
   "outputs": [
    {
     "data": {
      "text/plain": [
       "230604"
      ]
     },
     "execution_count": 14,
     "metadata": {},
     "output_type": "execute_result"
    }
   ],
   "source": [
    "group = first(DataFrames.groupby(joint_table, \"taxid\"))\n",
    "\n",
    "tax_id = group[1, \"taxid\"]"
   ]
  },
  {
   "cell_type": "code",
   "execution_count": 15,
   "metadata": {},
   "outputs": [],
   "source": [
    "# cmd = \n",
    "# \"\"\"\n",
    "# MATCH (t:Taxonomy) WHERE\n",
    "# t.division_name = \"Phages\" AND t.rank = \"family\" AND t.scientific_name = \"Myoviridae <Myoviridae>\"\n",
    "# MATCH (x)-[*]->(t)\n",
    "# WHERE size(()-->(x)) = 0\n",
    "# return x.tax_id\n",
    "# \"\"\"\n",
    "\n",
    "# myoviridae_tax_ids = parse.(Int, DataFrames.DataFrame(uCSV.read(IOBuffer(cypher(\"ncbitaxonomy\", cmd)), header=1, quotes='\"')...)[\"x.tax_id\"])\n",
    "# group = joint_table[map(x -> x in myoviridae_tax_ids, joint_table[!, \"taxid\"]), :]"
   ]
  },
  {
   "cell_type": "code",
   "execution_count": 16,
   "metadata": {},
   "outputs": [
    {
     "name": "stdout",
     "output_type": "stream",
     "text": [
      "8×26 SubDataFrame\n",
      "│ Row │ # assembly_accession │ bioproject │ biosample │ wgs_master │\n",
      "│     │ \u001b[90mString\u001b[39m               │ \u001b[90mString\u001b[39m     │ \u001b[90mString\u001b[39m    │ \u001b[90mString\u001b[39m     │\n",
      "├─────┼──────────────────────┼────────────┼───────────┼────────────┤\n",
      "│ 1   │ GCA_002829805.1      │            │           │            │\n",
      "│ 2   │ GCA_003972145.1      │            │           │            │\n",
      "│ 3   │ GCA_003972165.1      │            │           │            │\n",
      "│ 4   │ GCA_003972185.1      │            │           │            │\n",
      "│ 5   │ GCA_003972205.1      │            │           │            │\n",
      "│ 6   │ GCA_003972225.1      │            │           │            │\n",
      "│ 7   │ GCA_003972245.1      │            │           │            │\n",
      "│ 8   │ GCA_003972265.1      │            │           │            │\n",
      "\n",
      "│ Row │ refseq_category │ taxid  │ species_taxid │ organism_name     │\n",
      "│     │ \u001b[90mString\u001b[39m          │ \u001b[90mInt64\u001b[39m  │ \u001b[90mInt64\u001b[39m         │ \u001b[90mString\u001b[39m            │\n",
      "├─────┼─────────────────┼────────┼───────────────┼───────────────────┤\n",
      "│ 1   │ na              │ 230604 │ 1922242       │ Extra small virus │\n",
      "│ 2   │ na              │ 230604 │ 1922242       │ Extra small virus │\n",
      "│ 3   │ na              │ 230604 │ 1922242       │ Extra small virus │\n",
      "│ 4   │ na              │ 230604 │ 1922242       │ Extra small virus │\n",
      "│ 5   │ na              │ 230604 │ 1922242       │ Extra small virus │\n",
      "│ 6   │ na              │ 230604 │ 1922242       │ Extra small virus │\n",
      "│ 7   │ na              │ 230604 │ 1922242       │ Extra small virus │\n",
      "│ 8   │ na              │ 230604 │ 1922242       │ Extra small virus │\n",
      "\n",
      "│ Row │ infraspecific_name │ isolate │ version_status │ assembly_level  │\n",
      "│     │ \u001b[90mString\u001b[39m             │ \u001b[90mString\u001b[39m  │ \u001b[90mString\u001b[39m         │ \u001b[90mString\u001b[39m          │\n",
      "├─────┼────────────────────┼─────────┼────────────────┼─────────────────┤\n",
      "│ 1   │                    │         │ latest         │ Chromosome      │\n",
      "│ 2   │                    │         │ latest         │ Complete Genome │\n",
      "│ 3   │                    │         │ latest         │ Complete Genome │\n",
      "│ 4   │                    │         │ latest         │ Chromosome      │\n",
      "│ 5   │                    │ M298    │ latest         │ Complete Genome │\n",
      "│ 6   │                    │ M299    │ latest         │ Complete Genome │\n",
      "│ 7   │                    │ M308    │ latest         │ Complete Genome │\n",
      "│ 8   │                    │ M23     │ latest         │ Complete Genome │\n",
      "\n",
      "│ Row │ release_type │ genome_rep │ seq_rel_date │ asm_name    │ submitter │\n",
      "│     │ \u001b[90mString\u001b[39m       │ \u001b[90mString\u001b[39m     │ \u001b[90mString\u001b[39m       │ \u001b[90mString\u001b[39m      │ \u001b[90mString\u001b[39m    │\n",
      "├─────┼──────────────┼────────────┼──────────────┼─────────────┼───────────┤\n",
      "│ 1   │ Major        │ Partial    │ 2004/03/01   │ ASM282980v1 │           │\n",
      "│ 2   │ Major        │ Full       │ 2005/09/11   │ ASM397214v1 │           │\n",
      "│ 3   │ Major        │ Full       │ 2006/06/20   │ ASM397216v1 │           │\n",
      "│ 4   │ Major        │ Partial    │ 2007/01/10   │ ASM397218v1 │           │\n",
      "│ 5   │ Major        │ Full       │ 2007/11/01   │ ASM397220v1 │           │\n",
      "│ 6   │ Major        │ Full       │ 2007/11/01   │ ASM397222v1 │           │\n",
      "│ 7   │ Major        │ Full       │ 2007/11/01   │ ASM397224v1 │           │\n",
      "│ 8   │ Major        │ Full       │ 2007/11/01   │ ASM397226v1 │           │\n",
      "\n",
      "│ Row │ gbrs_paired_asm │ paired_asm_comp │\n",
      "│     │ \u001b[90mString\u001b[39m          │ \u001b[90mString\u001b[39m          │\n",
      "├─────┼─────────────────┼─────────────────┤\n",
      "│ 1   │ GCF_002829805.1 │ identical       │\n",
      "│ 2   │ GCF_003972145.1 │ identical       │\n",
      "│ 3   │ GCF_003972165.1 │ identical       │\n",
      "│ 4   │ GCF_003972185.1 │ identical       │\n",
      "│ 5   │ GCF_003972205.1 │ identical       │\n",
      "│ 6   │ GCF_003972225.1 │ identical       │\n",
      "│ 7   │ GCF_003972245.1 │ identical       │\n",
      "│ 8   │ GCF_003972265.1 │ identical       │\n",
      "\n",
      "│ Row │ ftp_path                                                                           │\n",
      "│     │ \u001b[90mString\u001b[39m                                                                             │\n",
      "├─────┼────────────────────────────────────────────────────────────────────────────────────┤\n",
      "│ 1   │ ftp://ftp.ncbi.nlm.nih.gov/genomes/all/GCA/002/829/805/GCA_002829805.1_ASM282980v1 │\n",
      "│ 2   │ ftp://ftp.ncbi.nlm.nih.gov/genomes/all/GCA/003/972/145/GCA_003972145.1_ASM397214v1 │\n",
      "│ 3   │ ftp://ftp.ncbi.nlm.nih.gov/genomes/all/GCA/003/972/165/GCA_003972165.1_ASM397216v1 │\n",
      "│ 4   │ ftp://ftp.ncbi.nlm.nih.gov/genomes/all/GCA/003/972/185/GCA_003972185.1_ASM397218v1 │\n",
      "│ 5   │ ftp://ftp.ncbi.nlm.nih.gov/genomes/all/GCA/003/972/205/GCA_003972205.1_ASM397220v1 │\n",
      "│ 6   │ ftp://ftp.ncbi.nlm.nih.gov/genomes/all/GCA/003/972/225/GCA_003972225.1_ASM397222v1 │\n",
      "│ 7   │ ftp://ftp.ncbi.nlm.nih.gov/genomes/all/GCA/003/972/245/GCA_003972245.1_ASM397224v1 │\n",
      "│ 8   │ ftp://ftp.ncbi.nlm.nih.gov/genomes/all/GCA/003/972/265/GCA_003972265.1_ASM397226v1 │\n",
      "\n",
      "│ Row │ excluded_from_refseq │ relation_to_type_material │ min_ungapped_length │\n",
      "│     │ \u001b[90mString\u001b[39m               │ \u001b[90mString\u001b[39m                    │ \u001b[90mInt64\u001b[39m               │\n",
      "├─────┼──────────────────────┼───────────────────────────┼─────────────────────┤\n",
      "│ 1   │ partial              │ ICTV species exemplar     │ 636                 │\n",
      "│ 2   │                      │ ICTV additional isolate   │ 636                 │\n",
      "│ 3   │                      │ ICTV additional isolate   │ 636                 │\n",
      "│ 4   │ partial              │ ICTV additional isolate   │ 636                 │\n",
      "│ 5   │                      │ ICTV additional isolate   │ 636                 │\n",
      "│ 6   │                      │ ICTV additional isolate   │ 636                 │\n",
      "│ 7   │                      │ ICTV additional isolate   │ 636                 │\n",
      "│ 8   │                      │ ICTV additional isolate   │ 636                 │\n",
      "\n",
      "│ Row │ max_ungapped_length │ expected_ungapped_length │ number_of_genomes │\n",
      "│     │ \u001b[90mInt64\u001b[39m               │ \u001b[90mInt64\u001b[39m                    │ \u001b[90mInt64\u001b[39m             │\n",
      "├─────┼─────────────────────┼──────────────────────────┼───────────────────┤\n",
      "│ 1   │ 954                 │ 795                      │ 6                 │\n",
      "│ 2   │ 954                 │ 795                      │ 6                 │\n",
      "│ 3   │ 954                 │ 795                      │ 6                 │\n",
      "│ 4   │ 954                 │ 795                      │ 6                 │\n",
      "│ 5   │ 954                 │ 795                      │ 6                 │\n",
      "│ 6   │ 954                 │ 795                      │ 6                 │\n",
      "│ 7   │ 954                 │ 795                      │ 6                 │\n",
      "│ 8   │ 954                 │ 795                      │ 6                 │"
     ]
    }
   ],
   "source": [
    "show(group, allcols=true)"
   ]
  },
  {
   "cell_type": "code",
   "execution_count": null,
   "metadata": {},
   "outputs": [],
   "source": [
    "# database_id = \"taxid$(taxid)\""
   ]
  },
  {
   "cell_type": "code",
   "execution_count": null,
   "metadata": {},
   "outputs": [],
   "source": [
    "# # delete the database if it exists\n",
    "# cypher(\"system\", \"DROP DATABASE $(database_id)\")\n",
    "# # build it again\n",
    "# create_database(database_id)"
   ]
  },
  {
   "cell_type": "code",
   "execution_count": null,
   "metadata": {},
   "outputs": [],
   "source": [
    "# for (accession, ftp_path) in DataFrames.eachrow(group[!, [\"# assembly_accession\", \"ftp_path\"]])\n",
    "#     for fasta in get_genome_from_ftp_directory(ftp_path)\n",
    "#         identifier = FASTX.identifier(fasta)\n",
    "#         description = FASTX.description(fasta)\n",
    "#         sequence = FASTX.sequence(fasta)\n",
    "#         cypher_call = \"MERGE (g:GENOME {accession: '$(accession)'})<-[s:SOURCE]-(f:FASTA {identifier: '$(identifier)', description: '$(description)', sequence: '$(sequence)'}) RETURN *\"\n",
    "#         cypher(database_id, cypher_call)\n",
    "#     end\n",
    "# end"
   ]
  },
  {
   "cell_type": "code",
   "execution_count": null,
   "metadata": {},
   "outputs": [],
   "source": [
    "# graphs = []\n",
    "# for record in get_genome_from_ftp_directory(group[1, \"ftp_path\"])\n",
    "#     graph = Eisenia.KmerGraph(BioSequences.DNAMer{7}, record)\n",
    "#     push!(graphs, graph)\n",
    "# end\n",
    "# graphs"
   ]
  },
  {
   "cell_type": "code",
   "execution_count": null,
   "metadata": {},
   "outputs": [],
   "source": [
    "# genome_accession = group[1, \"# assembly_accession\"]\n",
    "# genome = get_genome_from_ftp_directory(group[1, \"ftp_path\"])"
   ]
  },
  {
   "cell_type": "code",
   "execution_count": 17,
   "metadata": {},
   "outputs": [
    {
     "data": {
      "text/plain": [
       "BioSequences.Mer{BioSequences.DNAAlphabet{2},13}"
      ]
     },
     "execution_count": 17,
     "metadata": {},
     "output_type": "execute_result"
    }
   ],
   "source": [
    "k = 13\n",
    "node_type = BioSequences.DNAMer{k}"
   ]
  },
  {
   "cell_type": "code",
   "execution_count": 18,
   "metadata": {},
   "outputs": [
    {
     "data": {
      "text/plain": [
       "NamedTuple{(:src, :dst),Tuple{NamedTuple{(:node, :orientation),Tuple{BioSequences.Mer{BioSequences.DNAAlphabet{2},13},Bool}},NamedTuple{(:node, :orientation),Tuple{BioSequences.Mer{BioSequences.DNAAlphabet{2},13},Bool}}}}"
      ]
     },
     "execution_count": 18,
     "metadata": {},
     "output_type": "execute_result"
    }
   ],
   "source": [
    "edge_type = typeof(\n",
    "    (src = (node = node_type(BioSequences.randdnaseq(k)), orientation = true),\n",
    "    dst = (node = node_type(BioSequences.randdnaseq(k)), orientation = true)))"
   ]
  },
  {
   "cell_type": "code",
   "execution_count": 19,
   "metadata": {},
   "outputs": [
    {
     "data": {
      "text/plain": [
       "NamedTuple{(:accession, :identifier, :index, :orientation),Tuple{String,String,Int64,Bool}}"
      ]
     },
     "execution_count": 19,
     "metadata": {},
     "output_type": "execute_result"
    }
   ],
   "source": [
    "# edge_type = Pair{Pair{node_type, Bool}, Pair{node_type, Bool}}\n",
    "evidence_type = typeof((accession = \"\", identifier = \"\", index = 1, orientation = true))"
   ]
  },
  {
   "cell_type": "code",
   "execution_count": 26,
   "metadata": {},
   "outputs": [
    {
     "name": "stderr",
     "output_type": "stream",
     "text": [
      "\u001b[32mProgress: 100%|█████████████████████████████████████████| Time: 0:00:02\u001b[39m\n"
     ]
    },
    {
     "data": {
      "text/plain": [
       "OrderedCollections.OrderedDict{BioSequences.Mer{BioSequences.DNAAlphabet{2},13},Set{NamedTuple{(:accession, :identifier, :index, :orientation),Tuple{String,String,Int64,Bool}}}} with 1237 entries:\n",
       "  AAAACAAGCAATG => Set(NamedTuple{(:accession, :identifier, :index, :orientatio…\n",
       "  AAAACAAGCCGAA => Set(NamedTuple{(:accession, :identifier, :index, :orientatio…\n",
       "  AAAACAAGCTTCG => Set(NamedTuple{(:accession, :identifier, :index, :orientatio…\n",
       "  AAAACATTTGTGC => Set(NamedTuple{(:accession, :identifier, :index, :orientatio…\n",
       "  AAAACCCTTACGG => Set(NamedTuple{(:accession, :identifier, :index, :orientatio…\n",
       "  AAAACCCTTATGG => Set(NamedTuple{(:accession, :identifier, :index, :orientatio…\n",
       "  AAAACGAGCCAAA => Set(NamedTuple{(:accession, :identifier, :index, :orientatio…\n",
       "  AAAACGAGCCACA => Set(NamedTuple{(:accession, :identifier, :index, :orientatio…\n",
       "  AAAACTACTTGGA => Set(NamedTuple{(:accession, :identifier, :index, :orientatio…\n",
       "  AAAACTGGCATAC => Set(NamedTuple{(:accession, :identifier, :index, :orientatio…\n",
       "  AAAACTGGTATAC => Set(NamedTuple{(:accession, :identifier, :index, :orientatio…\n",
       "  AAAATATCCAAAC => Set(NamedTuple{(:accession, :identifier, :index, :orientatio…\n",
       "  AAAATATTAATAC => Set(NamedTuple{(:accession, :identifier, :index, :orientatio…\n",
       "  AAAATATTTGTGC => Set(NamedTuple{(:accession, :identifier, :index, :orientatio…\n",
       "  AAACAAGCAATGA => Set(NamedTuple{(:accession, :identifier, :index, :orientatio…\n",
       "  AAACAAGCCGAAG => Set(NamedTuple{(:accession, :identifier, :index, :orientatio…\n",
       "  AAACAAGCTTCGG => Set(NamedTuple{(:accession, :identifier, :index, :orientatio…\n",
       "  AAACAATTAGTTC => Set(NamedTuple{(:accession, :identifier, :index, :orientatio…\n",
       "  AAACATTTGTGCA => Set(NamedTuple{(:accession, :identifier, :index, :orientatio…\n",
       "  AAACCCTTACGGC => Set(NamedTuple{(:accession, :identifier, :index, :orientatio…\n",
       "  AAACCCTTATGGC => Set(NamedTuple{(:accession, :identifier, :index, :orientatio…\n",
       "  AAACCTAACTTTA => Set(NamedTuple{(:accession, :identifier, :index, :orientatio…\n",
       "  AAACGAGCCAAAC => Set(NamedTuple{(:accession, :identifier, :index, :orientatio…\n",
       "  AAACGAGCCACAC => Set(NamedTuple{(:accession, :identifier, :index, :orientatio…\n",
       "  AAACTACTTGGAT => Set(NamedTuple{(:accession, :identifier, :index, :orientatio…\n",
       "  ⋮             => ⋮"
      ]
     },
     "execution_count": 26,
     "metadata": {},
     "output_type": "execute_result"
    }
   ],
   "source": [
    "graph = Dict{Symbol, Any}(\n",
    "    :nodes => Dict{node_type, Set{evidence_type}}(),\n",
    "    :edges => Dict{edge_type, Set{evidence_type}}())\n",
    "n = k+1\n",
    "ProgressMeter.@showprogress for (accession, ftp_path) in DataFrames.eachrow(group[!, [\"# assembly_accession\", \"ftp_path\"]])\n",
    "    genome = get_genome_from_ftp_directory(ftp_path)\n",
    "    for record in genome\n",
    "        seq = replace_ambiguous(FASTX.sequence(record))\n",
    "        for i in 1:length(seq)-n+1\n",
    "            slice = view(seq,i:i+n-1)\n",
    "            raw_src = node_type(slice[1:end-1])\n",
    "            canonical_src = BioSequences.canonical(raw_src)\n",
    "            src_orientation = canonical_src == raw_src\n",
    "            src_evidence = (\n",
    "                accession = accession,\n",
    "                identifier = FASTX.identifier(record),\n",
    "                index = i,\n",
    "                orientation = src_orientation)\n",
    "            graph[:nodes][canonical_src] = push!(get(graph[:nodes], canonical_src, Set{evidence_type}()), src_evidence)\n",
    "\n",
    "            raw_dst = node_type(slice[2:end])\n",
    "            canonical_dst = BioSequences.canonical(raw_dst)\n",
    "            dst_orientation = canonical_dst == raw_dst\n",
    "            dst_evidence = (\n",
    "                accession = accession,\n",
    "                identifier = FASTX.identifier(record),\n",
    "                index = i+1,\n",
    "                orientation = dst_orientation)\n",
    "            graph[:nodes][canonical_dst] = push!(get(graph[:nodes], canonical_dst, Set{evidence_type}()), dst_evidence)\n",
    "\n",
    "            edge = (src = (node = canonical_src, orientation = src_orientation),\n",
    "                    dst = (node = canonical_dst, orientation = dst_orientation))\n",
    "            canonical_edge = canonical(edge)\n",
    "\n",
    "            edge_orientation = canonical_edge == edge\n",
    "\n",
    "            edge_evidence = (\n",
    "                accession = accession,\n",
    "                identifier = FASTX.identifier(record),\n",
    "                index = i,\n",
    "                orientation = edge_orientation)\n",
    "\n",
    "            graph[:edges][canonical_edge] = push!(get(graph[:edges], canonical_edge, Set{evidence_type}()), edge_evidence)\n",
    "        end\n",
    "    end\n",
    "end\n",
    "graph[:nodes] = sort(graph[:nodes])"
   ]
  },
  {
   "cell_type": "code",
   "execution_count": null,
   "metadata": {},
   "outputs": [],
   "source": [
    "# canonical_edge = canonical(edge)\n",
    "# src_node = canonical_edge.src.orientation ? canonical_edge.src.node : BioSequences.reverse_complement(canonical_edge.src.node)\n",
    "# dst_node = canonical_edge.dst.orientation ? canonical_edge.dst.node : BioSequences.reverse_complement(canonical_edge.dst.node)\n",
    "# @assert BioSequences.LongSequence(src_node)[2:end] == BioSequences.LongSequence(dst_node)[1:end-1]"
   ]
  },
  {
   "cell_type": "code",
   "execution_count": null,
   "metadata": {},
   "outputs": [],
   "source": [
    "# seq = push!(BioSequences.LongSequence(src_node), last(dst_node))\n",
    "# slice == seq || slice == BioSequences.reverse_complement(seq)"
   ]
  },
  {
   "cell_type": "code",
   "execution_count": 27,
   "metadata": {},
   "outputs": [
    {
     "data": {
      "text/plain": [
       "Dict{Symbol,Any} with 2 entries:\n",
       "  :nodes => OrderedCollections.OrderedDict{BioSequences.Mer{BioSequences.DNAAlp…\n",
       "  :edges => Dict{NamedTuple{(:src, :dst),Tuple{NamedTuple{(:node, :orientation)…"
      ]
     },
     "execution_count": 27,
     "metadata": {},
     "output_type": "execute_result"
    }
   ],
   "source": [
    "graph"
   ]
  },
  {
   "cell_type": "code",
   "execution_count": 28,
   "metadata": {},
   "outputs": [
    {
     "name": "stderr",
     "output_type": "stream",
     "text": [
      "\u001b[32mProgress: 100%|█████████████████████████████████████████| Time: 0:00:01\u001b[39m\n",
      "\u001b[32mProgress: 100%|█████████████████████████████████████████| Time: 0:00:00\u001b[39m\n"
     ]
    },
    {
     "data": {
      "text/plain": [
       "{1237, 1267} directed Int64 metagraph with Float64 weights defined by :weight (default weight 1.0)"
      ]
     },
     "execution_count": 28,
     "metadata": {},
     "output_type": "execute_result"
    }
   ],
   "source": [
    "pan_meta_genome_graph = MetaGraphs.MetaDiGraph(length(graph[:nodes]))\n",
    "\n",
    "MetaGraphs.set_prop!(pan_meta_genome_graph, :k, k)\n",
    "\n",
    "kmers = collect(keys(graph[:nodes]))\n",
    "\n",
    "ProgressMeter.@showprogress for (i, (node, evidence)) in enumerate(graph[:nodes])\n",
    "    MetaGraphs.set_prop!(pan_meta_genome_graph, i, :sequence, node)\n",
    "    MetaGraphs.set_prop!(pan_meta_genome_graph, i, :evidence, evidence)\n",
    "end\n",
    "\n",
    "ProgressMeter.@showprogress for (edge, edge_evidence) in graph[:edges]\n",
    "    src_indices = searchsorted(kmers, edge.src.node)\n",
    "    dst_indices = searchsorted(kmers, edge.dst.node)\n",
    "    @assert length(src_indices) == length(dst_indices) == 1\n",
    "    src_index = first(src_indices)\n",
    "    dst_index = first(dst_indices)\n",
    "    LightGraphs.add_edge!(pan_meta_genome_graph, LightGraphs.Edge(src_index, dst_index))\n",
    "    MetaGraphs.set_prop!(\n",
    "        pan_meta_genome_graph,\n",
    "        LightGraphs.Edge(src_index, dst_index),\n",
    "        :orientation,\n",
    "        edge.src.orientation => edge.dst.orientation)\n",
    "    MetaGraphs.set_prop!(\n",
    "        pan_meta_genome_graph,\n",
    "        LightGraphs.Edge(src_index, dst_index),\n",
    "        :evidence,\n",
    "        edge_evidence)\n",
    "end\n",
    "pan_meta_genome_graph"
   ]
  },
  {
   "cell_type": "code",
   "execution_count": 29,
   "metadata": {},
   "outputs": [],
   "source": [
    "graph = nothing"
   ]
  },
  {
   "cell_type": "code",
   "execution_count": 30,
   "metadata": {},
   "outputs": [],
   "source": [
    "GC.gc()"
   ]
  },
  {
   "cell_type": "code",
   "execution_count": 31,
   "metadata": {},
   "outputs": [],
   "source": [
    "GFA_file = \"$(DIR)/$(tax_id).kmer-graph.gfa\"\n",
    "open(GFA_file, \"w\") do io\n",
    "    println(io, \"H\\tVN:Z:1.0\")\n",
    "    for vertex in LightGraphs.vertices(pan_meta_genome_graph)\n",
    "        kmer = MetaGraphs.get_prop(pan_meta_genome_graph, vertex, :sequence)\n",
    "        evidence = MetaGraphs.get_prop(pan_meta_genome_graph, vertex, :evidence)\n",
    "        depth_of_coverage = length(evidence)\n",
    "        fields = [\"S\", \"$vertex\", string(kmer), \"KC:i:$(depth_of_coverage)\"]\n",
    "        line = join(fields, '\\t')\n",
    "        println(io, line)\n",
    "    end\n",
    "    for edge in LightGraphs.edges(pan_meta_genome_graph)\n",
    "        orientations = MetaGraphs.get_prop(pan_meta_genome_graph, edge, :orientation)\n",
    "        overlap = MetaGraphs.get_prop(pan_meta_genome_graph, :k) - 1\n",
    "        link = [\"L\",\n",
    "                    edge.src,\n",
    "                    first(orientations) ? '+' : '-',\n",
    "                    edge.dst,\n",
    "                    last(orientations) ? '+' : '-',\n",
    "                    \"$(overlap)M\"]\n",
    "        line = join(link, '\\t')\n",
    "        println(io, line)\n",
    "    end\n",
    "end"
   ]
  },
  {
   "cell_type": "code",
   "execution_count": 236,
   "metadata": {},
   "outputs": [
    {
     "data": {
      "text/plain": [
       "1237-element BitArray{1}:\n",
       " 0\n",
       " 0\n",
       " 0\n",
       " 0\n",
       " 0\n",
       " 0\n",
       " 0\n",
       " 0\n",
       " 0\n",
       " 0\n",
       " 0\n",
       " 0\n",
       " 0\n",
       " ⋮\n",
       " 0\n",
       " 0\n",
       " 0\n",
       " 0\n",
       " 0\n",
       " 0\n",
       " 0\n",
       " 0\n",
       " 0\n",
       " 0\n",
       " 0\n",
       " 0"
      ]
     },
     "execution_count": 236,
     "metadata": {},
     "output_type": "execute_result"
    }
   ],
   "source": [
    "visited = falses(length(kmers))"
   ]
  },
  {
   "cell_type": "code",
   "execution_count": 237,
   "metadata": {},
   "outputs": [
    {
     "data": {
      "text/plain": [
       "Any[]"
      ]
     },
     "execution_count": 237,
     "metadata": {},
     "output_type": "execute_result"
    }
   ],
   "source": [
    "untigs = []"
   ]
  },
  {
   "cell_type": "code",
   "execution_count": null,
   "metadata": {},
   "outputs": [],
   "source": []
  },
  {
   "cell_type": "code",
   "execution_count": null,
   "metadata": {},
   "outputs": [],
   "source": []
  },
  {
   "cell_type": "code",
   "execution_count": null,
   "metadata": {},
   "outputs": [],
   "source": []
  },
  {
   "cell_type": "code",
   "execution_count": null,
   "metadata": {},
   "outputs": [],
   "source": []
  },
  {
   "cell_type": "code",
   "execution_count": 1839,
   "metadata": {},
   "outputs": [
    {
     "data": {
      "text/plain": [
       "100.0"
      ]
     },
     "execution_count": 1839,
     "metadata": {},
     "output_type": "execute_result"
    }
   ],
   "source": [
    "sum(visited)/length(visited)*100"
   ]
  },
  {
   "cell_type": "code",
   "execution_count": 1853,
   "metadata": {},
   "outputs": [
    {
     "data": {
      "text/plain": [
       "1053"
      ]
     },
     "execution_count": 1853,
     "metadata": {},
     "output_type": "execute_result"
    }
   ],
   "source": [
    "# figure out why these won't merge!\n",
    "# 1052 - 394,115,959,3,17,59,202,112,114,201,58,16,2,1140,849,1072 - 1053,875,303,977,353,1167,890\n",
    "\n",
    "# v = rand(findall(.!visited))\n",
    "v = 1053"
   ]
  },
  {
   "cell_type": "code",
   "execution_count": 1854,
   "metadata": {},
   "outputs": [
    {
     "data": {
      "text/plain": [
       "DNA 13-mer:\n",
       "GCTTGTTTTACAC"
      ]
     },
     "execution_count": 1854,
     "metadata": {},
     "output_type": "execute_result"
    }
   ],
   "source": [
    "forward_kmer = pan_meta_genome_graph.vprops[v][:sequence]"
   ]
  },
  {
   "cell_type": "code",
   "execution_count": 1855,
   "metadata": {},
   "outputs": [
    {
     "data": {
      "text/plain": [
       "1-element Array{BioSequences.Mer{BioSequences.DNAAlphabet{2},13},1}:\n",
       " GCTTGTTTTACAC"
      ]
     },
     "execution_count": 1855,
     "metadata": {},
     "output_type": "execute_result"
    }
   ],
   "source": [
    "forward_path = [forward_kmer]"
   ]
  },
  {
   "cell_type": "code",
   "execution_count": 1856,
   "metadata": {},
   "outputs": [
    {
     "data": {
      "text/plain": [
       "find_viable_neighbors (generic function with 1 method)"
      ]
     },
     "execution_count": 1856,
     "metadata": {},
     "output_type": "execute_result"
    }
   ],
   "source": [
    "function find_viable_neighbors(kmers, kmer)\n",
    "    viable_neighbors = typeof(kmer)[]\n",
    "    for neighbor in BioSequences.neighbors(kmer)\n",
    "        canonical_neighbor = BioSequences.canonical(neighbor)\n",
    "        neighbor_is_canonical = BioSequences.iscanonical(neighbor)\n",
    "        neighbor_indices = searchsorted(kmers, canonical_neighbor)\n",
    "        if !isempty(neighbor_indices)\n",
    "            push!(viable_neighbors, neighbor)\n",
    "        end\n",
    "    end\n",
    "    return viable_neighbors\n",
    "end"
   ]
  },
  {
   "cell_type": "code",
   "execution_count": 1857,
   "metadata": {},
   "outputs": [
    {
     "data": {
      "text/plain": [
       "1-element Array{BioSequences.Mer{BioSequences.DNAAlphabet{2},13},1}:\n",
       " GCTTGTTTTACAC"
      ]
     },
     "execution_count": 1857,
     "metadata": {},
     "output_type": "execute_result"
    }
   ],
   "source": [
    "this_path = forward_path"
   ]
  },
  {
   "cell_type": "code",
   "execution_count": 1858,
   "metadata": {},
   "outputs": [
    {
     "data": {
      "text/plain": [
       "7-element Array{BioSequences.Mer{BioSequences.DNAAlphabet{2},13},1}:\n",
       " GCTTGTTTTACAC\n",
       " CTTGTTTTACACG\n",
       " TTGTTTTACACGT\n",
       " TGTTTTACACGTC\n",
       " GTTTTACACGTCT\n",
       " TTTTACACGTCTA\n",
       " TTTACACGTCTAG"
      ]
     },
     "execution_count": 1858,
     "metadata": {},
     "output_type": "execute_result"
    }
   ],
   "source": [
    "done = false\n",
    "while !done\n",
    "    viable_neighbors = find_viable_neighbors(kmers, last(this_path))\n",
    "    if length(viable_neighbors) == 1\n",
    "        viable_neighbor = first(viable_neighbors)\n",
    "        reversed_neighbor = BioSequences.reverse_complement(viable_neighbor)\n",
    "        possible_backtracking_kmers = find_viable_neighbors(kmers, reversed_neighbor)\n",
    "        only_one_backtrack_option = length(possible_backtracking_kmers) == 1\n",
    "        backtrack_option_is_current_state = BioSequences.reverse_complement(first(possible_backtracking_kmers)) == last(this_path)\n",
    "        if only_one_backtrack_option && backtrack_option_is_current_state\n",
    "            push!(this_path, viable_neighbor)\n",
    "            viable_neighbors = find_viable_neighbors(kmers, last(this_path))\n",
    "        else\n",
    "            done = true\n",
    "        end\n",
    "    else\n",
    "        done = true\n",
    "    end\n",
    "end\n",
    "this_path"
   ]
  },
  {
   "cell_type": "code",
   "execution_count": 1859,
   "metadata": {},
   "outputs": [
    {
     "data": {
      "text/plain": [
       "1-element Array{BioSequences.Mer{BioSequences.DNAAlphabet{2},13},1}:\n",
       " GTGTAAAACAAGC"
      ]
     },
     "execution_count": 1859,
     "metadata": {},
     "output_type": "execute_result"
    }
   ],
   "source": [
    "reverse_path = [BioSequences.reverse_complement(forward_kmer)]"
   ]
  },
  {
   "cell_type": "code",
   "execution_count": 1860,
   "metadata": {},
   "outputs": [
    {
     "data": {
      "text/plain": [
       "1-element Array{BioSequences.Mer{BioSequences.DNAAlphabet{2},13},1}:\n",
       " GTGTAAAACAAGC"
      ]
     },
     "execution_count": 1860,
     "metadata": {},
     "output_type": "execute_result"
    }
   ],
   "source": [
    "this_path = reverse_path"
   ]
  },
  {
   "cell_type": "code",
   "execution_count": 1861,
   "metadata": {},
   "outputs": [
    {
     "data": {
      "text/plain": [
       "1-element Array{BioSequences.Mer{BioSequences.DNAAlphabet{2},13},1}:\n",
       " GTGTAAAACAAGC"
      ]
     },
     "execution_count": 1861,
     "metadata": {},
     "output_type": "execute_result"
    }
   ],
   "source": [
    "done = false\n",
    "while !done\n",
    "    viable_neighbors = find_viable_neighbors(kmers, last(this_path))\n",
    "    if length(viable_neighbors) == 1\n",
    "        viable_neighbor = first(viable_neighbors)\n",
    "        reversed_neighbor = BioSequences.reverse_complement(viable_neighbor)\n",
    "        possible_backtracking_kmers = find_viable_neighbors(kmers, reversed_neighbor)\n",
    "        only_one_backtrack_option = length(possible_backtracking_kmers) == 1\n",
    "        backtrack_option_is_current_state = BioSequences.reverse_complement(first(possible_backtracking_kmers)) == last(this_path)\n",
    "        if only_one_backtrack_option && backtrack_option_is_current_state\n",
    "            push!(this_path, viable_neighbor)\n",
    "            viable_neighbors = find_viable_neighbors(kmers, last(this_path))\n",
    "        else\n",
    "            done = true\n",
    "        end\n",
    "    else\n",
    "        done = true\n",
    "    end\n",
    "end\n",
    "this_path"
   ]
  },
  {
   "cell_type": "code",
   "execution_count": 1862,
   "metadata": {},
   "outputs": [
    {
     "data": {
      "text/plain": [
       "7-element Array{BioSequences.Mer{BioSequences.DNAAlphabet{2},13},1}:\n",
       " GCTTGTTTTACAC\n",
       " CTTGTTTTACACG\n",
       " TTGTTTTACACGT\n",
       " TGTTTTACACGTC\n",
       " GTTTTACACGTCT\n",
       " TTTTACACGTCTA\n",
       " TTTACACGTCTAG"
      ]
     },
     "execution_count": 1862,
     "metadata": {},
     "output_type": "execute_result"
    }
   ],
   "source": [
    "path = [BioSequences.reverse_complement.(reverse(reverse_path))..., forward_path[2:end]...]"
   ]
  },
  {
   "cell_type": "code",
   "execution_count": 1863,
   "metadata": {},
   "outputs": [
    {
     "data": {
      "text/plain": [
       "7-element Array{Tuple{Int64,Bool},1}:\n",
       " (1053, 1)\n",
       " (875, 0)\n",
       " (303, 0)\n",
       " (977, 0)\n",
       " (353, 0)\n",
       " (1167, 0)\n",
       " (890, 0)"
      ]
     },
     "execution_count": 1863,
     "metadata": {},
     "output_type": "execute_result"
    }
   ],
   "source": [
    "oriented_index_path = [\n",
    "    (searchsortedfirst(kmers, BioSequences.canonical(kmer)), BioSequences.iscanonical(kmer)) for kmer in path\n",
    "]"
   ]
  },
  {
   "cell_type": "code",
   "execution_count": 1864,
   "metadata": {},
   "outputs": [],
   "source": [
    "for (index, orientation) in oriented_index_path\n",
    "    visited[index] = true\n",
    "end"
   ]
  },
  {
   "cell_type": "code",
   "execution_count": 1865,
   "metadata": {},
   "outputs": [
    {
     "data": {
      "text/plain": [
       "19nt DNA Sequence:\n",
       "GCTTGTTTTACACGTCTAG"
      ]
     },
     "execution_count": 1865,
     "metadata": {},
     "output_type": "execute_result"
    }
   ],
   "source": [
    "sequence = BioSequences.LongSequence(path[1])\n",
    "for kmer in path[2:end]\n",
    "    push!(sequence, kmer[end])\n",
    "end\n",
    "sequence"
   ]
  },
  {
   "cell_type": "code",
   "execution_count": 1866,
   "metadata": {},
   "outputs": [
    {
     "data": {
      "text/plain": [
       "100-element Array{Any,1}:\n",
       " (sequence = GTGTAAATCCCGGACTCTTCACTTGAAAGATCAATGTCAATCCAAGTAGTTTTCCGAGGATTACCAGCAAAGTGCGATAC, oriented_kmer_path = BioSequences.Mer{BioSequences.DNAAlphabet{2},13}[AATACCGTAAAAC, ATACCGTAAAACA, TACCGTAAAACAT, ACCGTAAAACATT, CCGTAAAACATTT, CGTAAAACATTTG, GTAAAACATTTGT, TAAAACATTTGTG, AAAACATTTGTGC, AAACATTTGTGCA, AACATTTGTGCAG, ACATTTGTGCAGC, CATTTGTGCAGCA], oriented_index_path = Tuple{Int64,Bool}[(142, 1), (470, 1), (562, 0), (185, 0), (54, 0), (623, 0), (197, 0), (650, 0), (4, 1), (19, 1), (68, 1), (227, 1), (723, 1)])\n",
       " (sequence = GTGTAAATCCCGGACTCTTCACTTGAAAGATCAATGTCAATCCAAGTAGTTTTCCGAGGATTACCAGCAAAGTGCGATAC, oriented_kmer_path = BioSequences.Mer{BioSequences.DNAAlphabet{2},13}[ATGCGAGGATCAT, TGCGAGGATCATG, GCGAGGATCATGG, CGAGGATCATGGG, GAGGATCATGGGG, AGGATCATGGGGC, GGATCATGGGGCA, GATCATGGGGCAT, ATCATGGGGCATG, TCATGGGGCATGA  …  ATTTATACTCAGA, TTTATACTCAGAT, TTATACTCAGATG, TATACTCAGATGC, ATACTCAGATGCG, TACTCAGATGCGA, ACTCAGATGCGAG, CTCAGATGCGAGA, TCAGATGCGAGAG, CAGATGCGAGAGT], oriented_index_path = Tuple{Int64,Bool}[(537, 0), (704, 0), (762, 0), (770, 0), (773, 0), (399, 1), (1060, 1), (542, 0), (512, 1), (1193, 0)  …  (611, 1), (524, 0), (702, 0), (1019, 0), (481, 1), (1164, 1), (318, 1), (902, 1), (917, 0), (320, 0)])\n",
       " (sequence = GTGTAAATCCCGGACTCTTCACTTGAAAGATCAATGTCAATCCAAGTAGTTTTCCGAGGATTACCAGCAAAGTGCGATAC, oriented_kmer_path = BioSequences.Mer{BioSequences.DNAAlphabet{2},13}[TTGGTAACATATT, TGGTAACATATTG, GGTAACATATTGG, GTAACATATTGGG, TAACATATTGGGA, AACATATTGGGAC, ACATATTGGGACT, CATATTGGGACTC, ATATTGGGACTCC, TATTGGGACTCCG  …  AGCTCCGAACTAA, GCTCCGAACTAAA, CTCCGAACTAAAA, TCCGAACTAAAAC, CCGAACTAAAACG, CGAACTAAAACGA, GAACTAAAACGAG, AACTAAAACGAGC, ACTAAAACGAGCC, CTAAAACGAGCCA], oriented_index_path = Tuple{Int64,Bool}[(156, 0), (633, 0), (732, 0), (766, 0), (1149, 1), (66, 1), (222, 1), (697, 1), (499, 1), (845, 0)  …  (391, 1), (1046, 1), (910, 1), (1138, 0), (784, 1), (819, 1), (915, 0), (89, 1), (307, 1), (880, 1)])\n",
       " (sequence = GTGTAAATCCCGGACTCTTCACTTGAAAGATCAATGTCAATCCAAGTAGTTTTCCGAGGATTACCAGCAAAGTGCGATAC, oriented_kmer_path = BioSequences.Mer{BioSequences.DNAAlphabet{2},13}[TGATCCTCGCATT, GATCCTCGCATTG, ATCCTCGCATTGT, TCCTCGCATTGTA, CCTCGCATTGTAT, CTCGCATTGTATC, TCGCATTGTATCG, CGCATTGTATCGC, GCATTGTATCGCA, CATTGTATCGCAC, ATTGTATCGCACT, TTGTATCGCACTT, TGTATCGCACTTT], oriented_index_path = Tuple{Int64,Bool}[(179, 0), (639, 0), (205, 0), (1157, 0), (467, 0), (913, 1), (827, 0), (836, 1), (1022, 1), (717, 1), (437, 0), (129, 0), (39, 0)])\n",
       " (sequence = GTGTAAATCCCGGACTCTTCACTTGAAAGATCAATGTCAATCCAAGTAGTTTTCCGAGGATTACCAGCAAAGTGCGATAC, oriented_kmer_path = BioSequences.Mer{BioSequences.DNAAlphabet{2},13}[TCCCCTTGCCACG, CCCCTTGCCACGA, CCCTTGCCACGAT, CCTTGCCACGATT, CTTGCCACGATTG, TTGCCACGATTGG, TGCCACGATTGGC, GCCACGATTGGCC, CCACGATTGGCCG, CACGATTGGCCGT, ACGATTGGCCGTA, CGATTGGCCGTAA, GATTGGCCGTAAG], oriented_index_path = Tuple{Int64,Bool}[(872, 0), (776, 1), (520, 0), (168, 0), (634, 0), (733, 0), (1025, 0), (1031, 1), (747, 1), (282, 0), (275, 1), (831, 1), (938, 0)])\n",
       " (sequence = GTGTAAATCCCGGACTCTTCACTTGAAAGATCAATGTCAATCCAAGTAGTTTTCCGAGGATTACCAGCAAAGTGCGATAC, oriented_kmer_path = BioSequences.Mer{BioSequences.DNAAlphabet{2},13}[CATTGTCCTACCA, ATTGTCCTACCAC, TTGTCCTACCACG, TGTCCTACCACGT, GTCCTACCACGTC, TCCTACCACGTCC, CCTACCACGTCCC, CTACCACGTCCCC, TACCACGTCCCCT, ACCACGTCCCCTA], oriented_index_path = Tuple{Int64,Bool}[(718, 1), (603, 1), (874, 0), (302, 0), (976, 0), (1058, 0), (802, 1), (885, 1), (411, 0), (238, 1)])\n",
       " (sequence = GTGTAAATCCCGGACTCTTCACTTGAAAGATCAATGTCAATCCAAGTAGTTTTCCGAGGATTACCAGCAAAGTGCGATAC, oriented_kmer_path = BioSequences.Mer{BioSequences.DNAAlphabet{2},13}[ATTCATGTTGTTA, TTCATGTTGTTAA, TCATGTTGTTAAA, CATGTTGTTAAAA, ATGTTGTTAAAAT, TGTTGTTAAAATA, GTTGTTAAAATAT, TTGTTAAAATATT, TGTTAAAATATTA, GTTAAAATATTAA, TTAAAATATTAAT, TAAAATATTAATA, AAAATATTAATAC], oriented_index_path = Tuple{Int64,Bool}[(583, 1), (1229, 0), (1194, 1), (707, 1), (560, 1), (1186, 0), (504, 0), (160, 0), (1152, 0), (1128, 1), (565, 0), (1145, 1), (13, 1)])\n",
       " (sequence = GTGTAAATCCCGGACTCTTCACTTGAAAGATCAATGTCAATCCAAGTAGTTTTCCGAGGATTACCAGCAAAGTGCGATAC, oriented_kmer_path = BioSequences.Mer{BioSequences.DNAAlphabet{2},13}[TAGGGGACGTGGC, AGGGGACGTGGCA, GGGGACGTGGCAG, GGGACGTGGCAGG, GGACGTGGCAGGA, GACGTGGCAGGAC, ACGTGGCAGGACA, CGTGGCAGGACAA, GTGGCAGGACAAT, TGGCAGGACAATG, GGCAGGACAATGG, GCAGGACAATGGG, CAGGACAATGGGA], oriented_index_path = Tuple{Int64,Bool}[(1032, 0), (410, 1), (923, 0), (808, 0), (1057, 1), (975, 1), (301, 1), (873, 1), (605, 0), (720, 0), (764, 0), (772, 0), (678, 1)])\n",
       " (sequence = GTGTAAATCCCGGACTCTTCACTTGAAAGATCAATGTCAATCCAAGTAGTTTTCCGAGGATTACCAGCAAAGTGCGATAC, oriented_kmer_path = BioSequences.Mer{BioSequences.DNAAlphabet{2},13}[TCCCATTGTCCTA, CCCATTGTCCTAC, CCATTGTCCTACC], oriented_index_path = Tuple{Int64,Bool}[(1171, 0), (771, 1), (763, 1)])\n",
       " (sequence = GTGTAAATCCCGGACTCTTCACTTGAAAGATCAATGTCAATCCAAGTAGTTTTCCGAGGATTACCAGCAAAGTGCGATAC, oriented_kmer_path = BioSequences.Mer{BioSequences.DNAAlphabet{2},13}[GTAATCCTCGGAA, TAATCCTCGGAAA, AATCCTCGGAAAA, ATCCTCGGAAAAC, TCCTCGGAAAACT, CCTCGGAAAACTA, CTCGGAAAACTAC, TCGGAAAACTACT, CGGAAAACTACTT, GGAAAACTACTTG  …  GTGAAGAGTCCGG, TGAAGAGTCCGGG, GAAGAGTCCGGGA, AAGAGTCCGGGAT, AGAGTCCGGGATT, GAGTCCGGGATTT, AGTCCGGGATTTA, GTCCGGGATTTAC, TCCGGGATTTACA, CCGGGATTTACAC], oriented_index_path = Tuple{Int64,Bool}[(1102, 1), (1153, 1), (166, 1), (517, 1), (454, 0), (807, 1), (914, 1), (426, 0), (125, 0), (628, 0)  …  (791, 0), (779, 0), (957, 1), (106, 1), (164, 0), (51, 0), (431, 1), (1096, 0), (1202, 1), (793, 1)])\n",
       " (sequence = GTGTAAATCCCGGACTCTTCACTTGAAAGATCAATGTCAATCCAAGTAGTTTTCCGAGGATTACCAGCAAAGTGCGATAC, oriented_kmer_path = BioSequences.Mer{BioSequences.DNAAlphabet{2},13}[ATATGTTACCAAG, TATGTTACCAAGG, ATGTTACCAAGGC, TGTTACCAAGGCA, GTTACCAAGGCAC, TTACCAAGGCACG, TACCAAGGCACGA, ACCAAGGCACGAA, CCAAGGCACGAAC, CAAGGCACGAACC, AAGGCACGAACCA, AGGCACGAACCAC, GGCACGAACCACT], oriented_index_path = Tuple{Int64,Bool}[(497, 1), (815, 0), (559, 1), (1221, 0), (1121, 0), (869, 0), (1159, 1), (230, 1), (727, 1), (627, 1), (117, 1), (405, 1), (441, 0)])\n",
       " (sequence = GTGTAAATCCCGGACTCTTCACTTGAAAGATCAATGTCAATCCAAGTAGTTTTCCGAGGATTACCAGCAAAGTGCGATAC, oriented_kmer_path = BioSequences.Mer{BioSequences.DNAAlphabet{2},13}[TTGAGTGTGCCTG, TGAGTGTGCCTGT, GAGTGTGCCTGTT, AGTGTGCCTGTTG, GTGTGCCTGTTGC, TGTGCCTGTTGCT, GTGCCTGTTGCTG, TGCCTGTTGCTGA, GCCTGTTGCTGAA, CCTGTTGCTGAAA, CTGTTGCTGAAAT, TGTTGCTGAAATA, GTTGCTGAAATAC, TTGCTGAAATACC, TGCTGAAATACCG, GCTGAAATACCGT, CTGAAATACCGTA, TGAAATACCGTAA, GAAATACCGTAAA, AAATACCGTAAAA], oriented_index_path = Tuple{Int64,Bool}[(680, 0), (220, 0), (64, 0), (443, 1), (1000, 0), (369, 0), (668, 0), (1190, 0), (1037, 1), (811, 1), (613, 0), (1184, 0), (1106, 0), (1082, 0), (855, 0), (289, 0), (919, 1), (1213, 1), (951, 1), (44, 1)])\n",
       " (sequence = GTGTAAATCCCGGACTCTTCACTTGAAAGATCAATGTCAATCCAAGTAGTTTTCCGAGGATTACCAGCAAAGTGCGATAC, oriented_kmer_path = BioSequences.Mer{BioSequences.DNAAlphabet{2},13}[ATATTTCAACAAT, TATTTCAACAATA, ATTTCAACAATAT, TTTCAACAATATG, TTCAACAATATGA, TCAACAATATGAA, CAACAATATGAAT, AACAATATGAATA, ACAATATGAATAA, CAATATGAATAAG, AATATGAATAAGC, ATATGAATAAGCG, TATGAATAAGCGC], oriented_index_path = Tuple{Int64,Bool}[(502, 1), (1182, 0), (500, 0), (698, 0), (1192, 0), (1188, 1), (582, 0), (60, 1), (204, 1), (632, 1), (155, 1), (491, 1), (1039, 0)])\n",
       " ⋮\n",
       " (sequence = GTGTAAATCCCGGACTCTTCACTTGAAAGATCAATGTCAATCCAAGTAGTTTTCCGAGGATTACCAGCAAAGTGCGATAC, oriented_kmer_path = BioSequences.Mer{BioSequences.DNAAlphabet{2},13}[GTATCGCACTTTG, TATCGCACTTTGC, ATCGCACTTTGCT, TCGCACTTTGCTG, CGCACTTTGCTGG, GCACTTTGCTGGA, CACTTTGCTGGAG], oriented_index_path = Tuple{Int64,Bool}[(620, 0), (999, 0), (368, 0), (667, 0), (752, 0), (1006, 1), (665, 1)])\n",
       " (sequence = GTGTAAATCCCGGACTCTTCACTTGAAAGATCAATGTCAATCCAAGTAGTTTTCCGAGGATTACCAGCAAAGTGCGATAC, oriented_kmer_path = BioSequences.Mer{BioSequences.DNAAlphabet{2},13}[GCATATGCTGCAA, CATATGCTGCAAC, ATATGCTGCAACC], oriented_index_path = Tuple{Int64,Bool}[(1014, 1), (694, 1), (492, 1)])\n",
       " (sequence = GTGTAAATCCCGGACTCTTCACTTGAAAGATCAATGTCAATCCAAGTAGTTTTCCGAGGATTACCAGCAAAGTGCGATAC, oriented_kmer_path = BioSequences.Mer{BioSequences.DNAAlphabet{2},13}[ACGGCCAATTGTG, CGGCCAATTGTGG], oriented_index_path = Tuple{Int64,Bool}[(284, 1), (740, 0)])\n",
       " (sequence = GTGTAAATCCCGGACTCTTCACTTGAAAGATCAATGTCAATCCAAGTAGTTTTCCGAGGATTACCAGCAAAGTGCGATAC, oriented_kmer_path = BioSequences.Mer{BioSequences.DNAAlphabet{2},13}[ACAATTGGCCGTA, CAATTGGCCGTAA, AATTGGCCGTAAG], oriented_index_path = Tuple{Int64,Bool}[(209, 1), (646, 1), (189, 1)])\n",
       " (sequence = GTGTAAATCCCGGACTCTTCACTTGAAAGATCAATGTCAATCCAAGTAGTTTTCCGAGGATTACCAGCAAAGTGCGATAC, oriented_kmer_path = BioSequences.Mer{BioSequences.DNAAlphabet{2},13}[ATAGAGCCGCAGC, TAGAGCCGCAGCA], oriented_index_path = Tuple{Int64,Bool}[(483, 1), (1168, 1)])\n",
       " (sequence = GTGTAAATCCCGGACTCTTCACTTGAAAGATCAATGTCAATCCAAGTAGTTTTCCGAGGATTACCAGCAAAGTGCGATAC, oriented_kmer_path = BioSequences.Mer{BioSequences.DNAAlphabet{2},13}[CAATGTGTAAATC, AATGTGTAAATCC], oriented_index_path = Tuple{Int64,Bool}[(642, 1), (184, 1)])\n",
       " (sequence = GTGTAAATCCCGGACTCTTCACTTGAAAGATCAATGTCAATCCAAGTAGTTTTCCGAGGATTACCAGCAAAGTGCGATAC, oriented_kmer_path = BioSequences.Mer{BioSequences.DNAAlphabet{2},13}[CCACGTCCCCTAC, CACGTCCCCTACG, ACGTCCCCTACGT], oriented_index_path = Tuple{Int64,Bool}[(748, 1), (659, 1), (293, 0)])\n",
       " (sequence = GTGTAAATCCCGGACTCTTCACTTGAAAGATCAATGTCAATCCAAGTAGTTTTCCGAGGATTACCAGCAAAGTGCGATAC, oriented_kmer_path = BioSequences.Mer{BioSequences.DNAAlphabet{2},13}[GCTTGTTTTACAA], oriented_index_path = Tuple{Int64,Bool}[(1052, 1)])\n",
       " (sequence = GTGTAAATCCCGGACTCTTCACTTGAAAGATCAATGTCAATCCAAGTAGTTTTCCGAGGATTACCAGCAAAGTGCGATAC, oriented_kmer_path = BioSequences.Mer{BioSequences.DNAAlphabet{2},13}[GCAGCATATGCTG, CAGCATATGCTGC], oriented_index_path = Tuple{Int64,Bool}[(672, 0), (672, 1)])\n",
       " (sequence = GTGTAAATCCCGGACTCTTCACTTGAAAGATCAATGTCAATCCAAGTAGTTTTCCGAGGATTACCAGCAAAGTGCGATAC, oriented_kmer_path = BioSequences.Mer{BioSequences.DNAAlphabet{2},13}[AGGTATTCTTTAT, GGTATTCTTTATC], oriented_index_path = Tuple{Int64,Bool}[(414, 1), (992, 0)])\n",
       " (sequence = GTGTAAATCCCGGACTCTTCACTTGAAAGATCAATGTCAATCCAAGTAGTTTTCCGAGGATTACCAGCAAAGTGCGATAC, oriented_kmer_path = BioSequences.Mer{BioSequences.DNAAlphabet{2},13}[CAGCTAGACGTGG], oriented_index_path = Tuple{Int64,Bool}[(676, 1)])\n",
       " (sequence = GTGTAAATCCCGGACTCTTCACTTGAAAGATCAATGTCAATCCAAGTAGTTTTCCGAGGATTACCAGCAAAGTGCGATAC, oriented_kmer_path = BioSequences.Mer{BioSequences.DNAAlphabet{2},13}[GCTTGTTTTACAC, CTTGTTTTACACG, TTGTTTTACACGT, TGTTTTACACGTC, GTTTTACACGTCT, TTTTACACGTCTA, TTTACACGTCTAG], oriented_index_path = Tuple{Int64,Bool}[(1053, 1), (875, 0), (303, 0), (977, 0), (353, 0), (1167, 0), (890, 0)])"
      ]
     },
     "execution_count": 1866,
     "metadata": {},
     "output_type": "execute_result"
    }
   ],
   "source": [
    "push!(untigs, (sequence = x, oriented_kmer_path = path, oriented_index_path = oriented_index_path))"
   ]
  },
  {
   "cell_type": "code",
   "execution_count": 1867,
   "metadata": {},
   "outputs": [
    {
     "name": "stdout",
     "output_type": "stream",
     "text": [
      "1053,875,303,977,353,1167,890\n"
     ]
    }
   ],
   "source": [
    "println(join([index for (index, orientation) in oriented_index_path], ','))"
   ]
  },
  {
   "cell_type": "code",
   "execution_count": 1806,
   "metadata": {},
   "outputs": [],
   "source": [
    "# 394,115,959,3,17,59,202,112,114,201,58,16,2,1140,849,1072 - 1053\n",
    "\n",
    "# 1052 - 394\n",
    "\n",
    "# 672-672 self loop - should use a large enough k to avoid these"
   ]
  },
  {
   "cell_type": "code",
   "execution_count": null,
   "metadata": {},
   "outputs": [],
   "source": []
  },
  {
   "cell_type": "code",
   "execution_count": null,
   "metadata": {},
   "outputs": [],
   "source": []
  },
  {
   "cell_type": "code",
   "execution_count": null,
   "metadata": {},
   "outputs": [],
   "source": []
  },
  {
   "cell_type": "code",
   "execution_count": null,
   "metadata": {},
   "outputs": [],
   "source": []
  },
  {
   "cell_type": "code",
   "execution_count": null,
   "metadata": {},
   "outputs": [],
   "source": []
  },
  {
   "cell_type": "code",
   "execution_count": null,
   "metadata": {},
   "outputs": [],
   "source": []
  },
  {
   "cell_type": "code",
   "execution_count": null,
   "metadata": {},
   "outputs": [],
   "source": []
  },
  {
   "cell_type": "code",
   "execution_count": null,
   "metadata": {},
   "outputs": [],
   "source": []
  },
  {
   "cell_type": "code",
   "execution_count": null,
   "metadata": {},
   "outputs": [],
   "source": [
    "# # while length(inneighbors) == 1\n",
    "    \n",
    "# end"
   ]
  },
  {
   "cell_type": "code",
   "execution_count": 43,
   "metadata": {},
   "outputs": [
    {
     "data": {
      "text/plain": [
       "1-element Array{Int64,1}:\n",
       " 728"
      ]
     },
     "execution_count": 43,
     "metadata": {},
     "output_type": "execute_result"
    }
   ],
   "source": [
    "# LightGraphs.outneighbors(pan_meta_genome_graph, v)"
   ]
  },
  {
   "cell_type": "code",
   "execution_count": 38,
   "metadata": {},
   "outputs": [],
   "source": [
    "# for v in LightGraphs.vertices(pan_meta_genome_graph)\n",
    "#     indegree = LightGraphs.indegree(pan_meta_genome_graph, v)\n",
    "#     outdegree = LightGraphs.outdegree(pan_meta_genome_graph, v)\n",
    "#     if indegree + outdegree == 1\n",
    "# #         @show v, indegree, outdegree, \"ENDCAP\"\n",
    "#     elseif (indegree == 1) && (outdegree == 1)\n",
    "# #         @show v, indegree, outdegree, \"CONNECTIONPOINT\"\n",
    "# #     elseif (indegree + outdegree  3)\n",
    "#     end\n",
    "# #     @show LightGraphs.indegree(pan_meta_genome_graph, v)\n",
    "# #     @show LightGraphs.outdegree(pan_meta_genome_graph, v)\n",
    "# end"
   ]
  },
  {
   "cell_type": "code",
   "execution_count": null,
   "metadata": {},
   "outputs": [],
   "source": [
    "# function take_a_walk(graph, path)\n",
    "    \n",
    "# #     @show path\n",
    "#     if issorted(path)\n",
    "#         edge = LightGraphs.Edge(path...)\n",
    "# #         @show edge\n",
    "#         orientations = graph.eprops[edge][:orientation]\n",
    "# #         @show orientations\n",
    "#     else\n",
    "#         edge = LightGraphs.Edge(sort(path)...)\n",
    "#         orientations = graph.eprops[edge][:orientation]\n",
    "#         orientations = !orientations.second => !orientations.first\n",
    "# #         @show orientations\n",
    "#     end\n",
    "#     oriented_path = [\n",
    "#         (node = first(path), orientation = first(orientations)), \n",
    "#         (node = last(path), orientation = last(orientations))\n",
    "#         ]\n",
    "# #     @show oriented_path\n",
    "    \n",
    "#     neighbors = LightGraphs.all_neighbors(pan_meta_genome_graph, oriented_path[end].node)\n",
    "# #     @show neighbors\n",
    "    \n",
    "# #     novel_neighbors = filter(x -> !(x in map(x -> x.node, oriented_path)), neighbors)\n",
    "#     novel_neighbors = filter(x -> x != map(x -> x.node, oriented_path)[end-1], neighbors)\n",
    "# #     @show novel_neighbors\n",
    "    \n",
    "#     while length(novel_neighbors) == 1\n",
    "#         novel_neighbor = first(novel_neighbors)\n",
    "#         if novel_neighbor > oriented_path[end].node\n",
    "#             edge = LightGraphs.Edge(oriented_path[end].node, novel_neighbor)\n",
    "#             orientations = graph.eprops[edge][:orientation]\n",
    "#             if first(orientations) != last(oriented_path).orientation\n",
    "#                 break\n",
    "# #                 @error \"incompatible\"\n",
    "#             end\n",
    "#         else\n",
    "#             edge = LightGraphs.Edge(novel_neighbor, oriented_path[end].node)\n",
    "#             orientations = graph.eprops[edge][:orientation]\n",
    "#             orientations = !orientations.second => !orientations.first\n",
    "#             if first(orientations) != last(oriented_path).orientation\n",
    "# #                 @error \"incompatible\"\n",
    "#                 break\n",
    "#             end\n",
    "#         end        \n",
    "    \n",
    "#         push!(oriented_path, (node = novel_neighbor, orientation = last(orientations)))\n",
    "        \n",
    "# #         neighbors = LightGraphs.all_neighbors(pan_meta_genome_graph, path[end])\n",
    "#         neighbors = LightGraphs.all_neighbors(pan_meta_genome_graph, oriented_path[end].node)\n",
    "# #         @show neighbors\n",
    "        \n",
    "# #         novel_neighbors = filter(x -> !(x in map(x -> x.node, oriented_path)), neighbors)\n",
    "#         novel_neighbors = filter(x -> x != map(x -> x.node, oriented_path)[end-1], neighbors)\n",
    "# #         novel_neighbors = filter(x -> !(x in path), neighbors)\n",
    "# #         @show novel_neighbors\n",
    "#     end\n",
    "#     return oriented_path\n",
    "# end"
   ]
  },
  {
   "cell_type": "code",
   "execution_count": null,
   "metadata": {},
   "outputs": [],
   "source": [
    "# simplified_graph = MetaGraphs.MetaGraph()"
   ]
  },
  {
   "cell_type": "code",
   "execution_count": null,
   "metadata": {},
   "outputs": [],
   "source": [
    "# canonical_kmers = sort(collect(v[:sequence] for v in values(pan_meta_genome_graph.vprops)))"
   ]
  },
  {
   "cell_type": "code",
   "execution_count": null,
   "metadata": {},
   "outputs": [],
   "source": [
    "# function oriented_neighbors(graph, kmer, orientation)\n",
    "#     canonical_kmers = [graph.vprops[v][:sequence] for v in LightGraphs.vertices(graph)]\n",
    "# #     display(canonical_kmers)\n",
    "    \n",
    "#     oriented_kmer = orientation ? kmer : BioSequences.reverse_complement(kmer)\n",
    "# #     display(kmer)\n",
    "# #     display(oriented_kmer)\n",
    "    \n",
    "#     neighbors = collect(Iterators.filter(\n",
    "#         neighbor -> BioSequences.canonical(neighbor) in canonical_kmers,\n",
    "#         BioSequences.neighbors(oriented_kmer)))\n",
    "# end"
   ]
  },
  {
   "cell_type": "code",
   "execution_count": null,
   "metadata": {},
   "outputs": [],
   "source": [
    "# for v in LightGraphs.vertices(pan_meta_genome_graph)\n",
    "#     kmer = pan_meta_genome_graph.vprops[v][:sequence]\n",
    "#     forward_neighbors = oriented_neighbors(pan_meta_genome_graph, kmer, true)\n",
    "#     reverse_neighbors = oriented_neighbors(pan_meta_genome_graph, kmer, false)\n",
    "# end"
   ]
  },
  {
   "cell_type": "code",
   "execution_count": null,
   "metadata": {},
   "outputs": [],
   "source": [
    "# oriented_neighbors(pan_meta_genome_graph, pan_meta_genome_graph.vprops[1][:sequence], true)"
   ]
  },
  {
   "cell_type": "code",
   "execution_count": null,
   "metadata": {},
   "outputs": [],
   "source": [
    "# oriented_neighbors(pan_meta_genome_graph, pan_meta_genome_graph.vprops[1][:sequence], false)"
   ]
  },
  {
   "cell_type": "code",
   "execution_count": null,
   "metadata": {},
   "outputs": [],
   "source": [
    "# downstream_neighbors = collect(Iterators.filter(\n",
    "#     neighbor -> BioSequences.canonical(neighbor) in canonical_kmers,\n",
    "#     BioSequences.neighbors(pan_meta_genome_graph.vprops[1][:sequence])))"
   ]
  },
  {
   "cell_type": "code",
   "execution_count": null,
   "metadata": {},
   "outputs": [],
   "source": [
    "# upstream_neighbors = collect(Iterators.filter(\n",
    "#     neighbor -> BioSequences.canonical(neighbor) in canonical_kmers,\n",
    "#     BioSequences.neighbors(BioSequences.reverse_complement(pan_meta_genome_graph.vprops[1][:sequence]))))"
   ]
  },
  {
   "cell_type": "code",
   "execution_count": null,
   "metadata": {},
   "outputs": [],
   "source": [
    "# visited = falses(length(LightGraphs.vertices(pan_meta_genome_graph)));"
   ]
  },
  {
   "cell_type": "code",
   "execution_count": null,
   "metadata": {},
   "outputs": [],
   "source": [
    "# function non_branching_walk(graph, kmer, orientation)\n",
    "\n",
    "# #     canonical_kmers = sort(collect(v[:sequence] for v in values(graph.vprops)))\n",
    "    \n",
    "#     neighbors = oriented_neighbors(graph, kmer, orientation)\n",
    "# #     @show kmer, orientation, neighbors\n",
    "\n",
    "#     oriented_kmer = orientation ? kmer : BioSequences.reverse_complement(kmer)\n",
    "#     path = [oriented_kmer]\n",
    "\n",
    "# #     neighbors = collect(Iterators.filter(\n",
    "# #         neighbor -> BioSequences.canonical(neighbor) in canonical_kmers,\n",
    "# #         BioSequences.neighbors(last(path))))\n",
    "#     done = false\n",
    "#     while !done\n",
    "# #         @show \"here\"\n",
    "#         number_of_downstream_neighbors = length(neighbors)\n",
    "#         if number_of_downstream_neighbors != 1\n",
    "#             done = true\n",
    "#             break\n",
    "#         end\n",
    "#         downstream_neighbor = first(neighbors)\n",
    "#         downstream_neighbor_orientation = downstream_neighbor == BioSequences.canonical(downstream_neighbor)\n",
    "#         upstream_neighbors_of_downstream_neighbor = oriented_neighbors(graph, downstream_neighbor, !downstream_neighbor_orientation)\n",
    "#         if length(upstream_neighbors_of_downstream_neighbor) != 1\n",
    "#             done = true\n",
    "#             break\n",
    "#         end\n",
    "#         push!(path, downstream_neighbor)\n",
    "#         neighbors = oriented_neighbors(graph, BioSequences.canonical(downstream_neighbor), downstream_neighbor_orientation)\n",
    "#     end\n",
    "#     return path\n",
    "# end"
   ]
  },
  {
   "cell_type": "code",
   "execution_count": null,
   "metadata": {},
   "outputs": [],
   "source": [
    "# canonical_kmers = sort(collect(v[:sequence] for v in values(pan_meta_genome_graph.vprops)))"
   ]
  },
  {
   "cell_type": "code",
   "execution_count": null,
   "metadata": {},
   "outputs": [],
   "source": [
    "# visited = falses(length(LightGraphs.vertices(pan_meta_genome_graph)))\n",
    "# unbranched_paths = []\n",
    "# ProgressMeter.@showprogress for v in collect(LightGraphs.vertices(pan_meta_genome_graph))\n",
    "# #     @show v\n",
    "#     if !visited[v]\n",
    "#         forward_walk = non_branching_walk(pan_meta_genome_graph, pan_meta_genome_graph.vprops[v][:sequence], true)\n",
    "#         reverse_walk = non_branching_walk(pan_meta_genome_graph, pan_meta_genome_graph.vprops[v][:sequence], false)\n",
    "#         reversed_reverse_walk = BioSequences.reverse_complement.(reverse_walk[end:-1:1])\n",
    "#         @assert reversed_reverse_walk[end] == forward_walk[1]\n",
    "#         walk = [reversed_reverse_walk[1:end-1]..., forward_walk...]\n",
    "#         oriented_path = [(node = findfirst(x -> x == BioSequences.canonical(n), canonical_kmers), orientation = n == BioSequences.canonical(n)) for n in walk]\n",
    "#         push!(unbranched_paths, oriented_path)\n",
    "#         for n in oriented_path\n",
    "#             visited[n.node] = true\n",
    "#         end\n",
    "#     end\n",
    "# end\n",
    "# # unique!(unbranched_paths)\n",
    "# @assert all(visited)\n",
    "# # unbranched_paths"
   ]
  },
  {
   "cell_type": "code",
   "execution_count": null,
   "metadata": {},
   "outputs": [],
   "source": [
    "# unique(unbranched_paths)"
   ]
  },
  {
   "cell_type": "code",
   "execution_count": null,
   "metadata": {},
   "outputs": [],
   "source": [
    "# for (i, path) in enumerate(unbranched_paths)\n",
    "#     nodes = map(x -> x.node, path)\n",
    "#     @show i\n",
    "#     for (j, path2) in enumerate(unbranched_paths)\n",
    "#         if i != j\n",
    "#             nodes2 = map(x -> x.node, path2)\n",
    "#             if nodes2[1] == nodes[1]\n",
    "#                 @show nodes2 == nodes\n",
    "#                 @show nodes\n",
    "#                 @show nodes2\n",
    "#                 @show j\n",
    "# #                 @show \"hit\"\n",
    "#             elseif nodes2[1] == nodes[end]\n",
    "#                 @show nodes\n",
    "#                 @show nodes2\n",
    "# #                 @show \"hit\"\n",
    "#             elseif nodes2[end] == nodes[1]\n",
    "#                 @show nodes\n",
    "#                 @show nodes2\n",
    "# #                 @show \"hit\"\n",
    "#             elseif nodes2[end] == nodes[end]\n",
    "# #                 @show \"hit\"\n",
    "#                 @show nodes\n",
    "#                 @show nodes2\n",
    "#             end\n",
    "#         end\n",
    "#     end\n",
    "# end"
   ]
  },
  {
   "cell_type": "code",
   "execution_count": null,
   "metadata": {},
   "outputs": [],
   "source": []
  },
  {
   "cell_type": "code",
   "execution_count": null,
   "metadata": {},
   "outputs": [],
   "source": [
    "# for v in collect(LightGraphs.vertices(simplified_graph))[1:1]\n",
    "#     oriented_path = simplified_graph.vprops[v][:oriented_path]\n",
    "#     path_nodes = [x.node for x in oriented_path]\n",
    "# #     @show oriented_path\n",
    "#     @show path_nodes\n",
    "#     src = first(oriented_path)\n",
    "#     dst = last(oriented_path)\n",
    "# #     @show src, dst\n",
    "#     for v2 in filter(x -> x != v, LightGraphs.vertices(simplified_graph))\n",
    "#         v2_oriented_path = simplified_graph.vprops[v2][:oriented_path]\n",
    "#         v2_nodes = [x.node for x in v2_oriented_path]\n",
    "# #         @show v2_nodes\n",
    "# #         @show v2_oriented_path\n",
    "#         if (first(v2_nodes) == src.node)\n",
    "#             @show first(v2_oriented_path)\n",
    "#             @show src\n",
    "# #             @show \"hit!\"\n",
    "# #             @show v2_nodes\n",
    "# #             @show v2\n",
    "# #             LightGraphs.add_edge!(simplified_graph, v, v2)\n",
    "#         elseif last(v2_nodes) == src.node\n",
    "#             @show last(v2_oriented_path)\n",
    "#             @show src\n",
    "# #             @show v2\n",
    "# #             @show v2_nodes\n",
    "#         end\n",
    "#     end\n",
    "# #     downstream_neighbors = LightGraphs.all_neighbors(pan_meta_genome_graph, last(oriented_path).node)\n",
    "# #     @show downstream_neighbors\n",
    "# #     filter!(x -> !(x in path_nodes), downstream_neighbors)\n",
    "# #     @show downstream_neighbors\n",
    "# end\n",
    "# simplified_graph"
   ]
  },
  {
   "cell_type": "code",
   "execution_count": null,
   "metadata": {},
   "outputs": [],
   "source": [
    "# findall(unbranched_paths[6] .!= unbranched_paths[7])"
   ]
  },
  {
   "cell_type": "code",
   "execution_count": null,
   "metadata": {},
   "outputs": [],
   "source": [
    "# not_same = findall(unbranched_paths[6] .!= unbranched_paths[7])\n",
    "# unbranched_paths[6][83:97]"
   ]
  },
  {
   "cell_type": "code",
   "execution_count": null,
   "metadata": {},
   "outputs": [],
   "source": [
    "# unbranched_paths[7][83:97]"
   ]
  },
  {
   "cell_type": "code",
   "execution_count": null,
   "metadata": {},
   "outputs": [],
   "source": [
    "# for path in unbranched_paths\n",
    "#     x = map(x -> x.node, path)\n",
    "#     display((path[1].node => path[1].orientation, path[end].node => path[end].orientation))\n",
    "# #     @show path\n",
    "# end"
   ]
  },
  {
   "cell_type": "code",
   "execution_count": null,
   "metadata": {},
   "outputs": [],
   "source": [
    "# for v in collect(LightGraphs.vertices(simplified_graph))[1:1]\n",
    "#     oriented_path = simplified_graph.vprops[v][:oriented_path]\n",
    "#     path_nodes = [x.node for x in oriented_path]\n",
    "# #     @show oriented_path\n",
    "#     @show path_nodes\n",
    "#     src = first(oriented_path)\n",
    "#     dst = last(oriented_path)\n",
    "# #     @show src, dst\n",
    "#     for v2 in filter(x -> x != v, LightGraphs.vertices(simplified_graph))\n",
    "#         v2_oriented_path = simplified_graph.vprops[v2][:oriented_path]\n",
    "#         v2_nodes = [x.node for x in v2_oriented_path]\n",
    "# #         @show v2_nodes\n",
    "# #         @show v2_oriented_path\n",
    "#         if (first(v2_nodes) == src.node)\n",
    "#             @show first(v2_oriented_path)\n",
    "#             @show src\n",
    "# #             @show \"hit!\"\n",
    "# #             @show v2_nodes\n",
    "# #             @show v2\n",
    "# #             LightGraphs.add_edge!(simplified_graph, v, v2)\n",
    "#         elseif last(v2_nodes) == src.node\n",
    "#             @show last(v2_oriented_path)\n",
    "#             @show src\n",
    "# #             @show v2\n",
    "# #             @show v2_nodes\n",
    "#         end\n",
    "#     end\n",
    "# #     downstream_neighbors = LightGraphs.all_neighbors(pan_meta_genome_graph, last(oriented_path).node)\n",
    "# #     @show downstream_neighbors\n",
    "# #     filter!(x -> !(x in path_nodes), downstream_neighbors)\n",
    "# #     @show downstream_neighbors\n",
    "# end\n",
    "# simplified_graph"
   ]
  },
  {
   "cell_type": "code",
   "execution_count": null,
   "metadata": {},
   "outputs": [],
   "source": [
    "# visited = falses(length(LightGraphs.vertices(pan_meta_genome_graph)))\n",
    "# unbranched_paths = []\n",
    "# ProgressMeter.@showprogress for v in collect(LightGraphs.vertices(pan_meta_genome_graph))\n",
    "#     neighbors = LightGraphs.all_neighbors(pan_meta_genome_graph, v)\n",
    "#     walks = []\n",
    "#     if !visited[v]\n",
    "#         if length(neighbors) == 0\n",
    "# #             @show \"island\"\n",
    "#             walks = [[(node = v, orientation = true)]]\n",
    "#         elseif length(neighbors) == 1\n",
    "# #             @show \"tip\"\n",
    "#             walks = [take_a_walk(pan_meta_genome_graph, [v, first(neighbors)])]\n",
    "#         elseif length(neighbors) == 2\n",
    "# #             @show \"bridge\"\n",
    "#             forward_walk = take_a_walk(pan_meta_genome_graph, [v, first(neighbors)])\n",
    "#             reverse_walk = take_a_walk(pan_meta_genome_graph, [v, last(neighbors)])\n",
    "#             reverse_walk = [(node = v.node, orientation = !v.orientation) for v in reverse(reverse_walk)]\n",
    "#             @assert last(reverse_walk) == first(forward_walk)\n",
    "#             walks = [[reverse_walk[1:end-1]..., forward_walk...]]\n",
    "# #         elseif length(neighbors) > 2\n",
    "# # #             @show \"intersection\"\n",
    "# #             walks = []\n",
    "# #             for neighbor in neighbors\n",
    "# #                 push!(walks, take_a_walk(pan_meta_genome_graph, [v, neighbor]))\n",
    "# #             end\n",
    "#         end\n",
    "#         for walk in walks\n",
    "#             if walk[1].node == 156\n",
    "# #                 @show \"here!!, $v\"\n",
    "# #                 @show neighbors\n",
    "# #                 @show walks\n",
    "#             end\n",
    "#             push!(unbranched_paths, walk)\n",
    "#             for v in walk\n",
    "#                 visited[v.node] = true\n",
    "#             end\n",
    "#         end\n",
    "#     end\n",
    "# end\n",
    "# @assert all(visited)\n",
    "# unbranched_paths"
   ]
  },
  {
   "cell_type": "code",
   "execution_count": null,
   "metadata": {},
   "outputs": [],
   "source": [
    "# for unbranched_path in unbranched_paths\n",
    "#     reconstructed_sequence = BioSequences.LongDNASeq(pan_meta_genome_graph.vprops[first(unbranched_path).node][:sequence])\n",
    "#     if !first(unbranched_path).orientation\n",
    "#         reconstructed_sequence = BioSequences.reverse_complement(reconstructed_sequence)\n",
    "#     end\n",
    "#     for (v, orientation) in unbranched_path[2:end]\n",
    "#         v_kmer = pan_meta_genome_graph.vprops[v][:sequence]\n",
    "#         if !orientation\n",
    "#             v_kmer = BioSequences.reverse_complement(v_kmer)\n",
    "#         end\n",
    "#         k = length(v_kmer)\n",
    "#         indices = length(reconstructed_sequence)-k+2:length(reconstructed_sequence)\n",
    "#         @assert length(indices) == k-1\n",
    "#         existing_overlap = reconstructed_sequence[indices]\n",
    "#         kmer_overlap = BioSequences.LongDNASeq(v_kmer)[1:end-1]\n",
    "#         @assert existing_overlap == kmer_overlap\n",
    "#         push!(reconstructed_sequence, v_kmer[end])    \n",
    "#     end\n",
    "#     LightGraphs.add_vertex!(simplified_graph)\n",
    "#     index = length(LightGraphs.vertices(simplified_graph))\n",
    "#     MetaGraphs.set_prop!(simplified_graph, index, :sequence, reconstructed_sequence)\n",
    "#     MetaGraphs.set_prop!(simplified_graph, index, :oriented_path, unbranched_path)\n",
    "# end\n",
    "# simplified_graph"
   ]
  },
  {
   "cell_type": "code",
   "execution_count": null,
   "metadata": {},
   "outputs": [],
   "source": [
    "# for v in collect(LightGraphs.vertices(simplified_graph))[1:1]\n",
    "#     oriented_path = simplified_graph.vprops[v][:oriented_path]\n",
    "#     path_nodes = [x.node for x in oriented_path]\n",
    "# #     @show oriented_path\n",
    "#     @show path_nodes\n",
    "#     src = first(oriented_path)\n",
    "#     dst = last(oriented_path)\n",
    "# #     @show src, dst\n",
    "#     for v2 in filter(x -> x != v, LightGraphs.vertices(simplified_graph))\n",
    "#         v2_oriented_path = simplified_graph.vprops[v2][:oriented_path]\n",
    "#         v2_nodes = [x.node for x in v2_oriented_path]\n",
    "# #         @show v2_nodes\n",
    "# #         @show v2_oriented_path\n",
    "#         if (first(v2_nodes) == src.node)\n",
    "#             @show first(v2_oriented_path)\n",
    "#             @show src\n",
    "# #             @show \"hit!\"\n",
    "# #             @show v2_nodes\n",
    "# #             @show v2\n",
    "# #             LightGraphs.add_edge!(simplified_graph, v, v2)\n",
    "#         elseif last(v2_nodes) == src.node\n",
    "#             @show last(v2_oriented_path)\n",
    "#             @show src\n",
    "# #             @show v2\n",
    "# #             @show v2_nodes\n",
    "#         end\n",
    "#     end\n",
    "# #     downstream_neighbors = LightGraphs.all_neighbors(pan_meta_genome_graph, last(oriented_path).node)\n",
    "# #     @show downstream_neighbors\n",
    "# #     filter!(x -> !(x in path_nodes), downstream_neighbors)\n",
    "# #     @show downstream_neighbors\n",
    "# end\n",
    "# simplified_graph"
   ]
  },
  {
   "cell_type": "code",
   "execution_count": null,
   "metadata": {},
   "outputs": [],
   "source": [
    "# GFA_file = \"$(DIR)/$(tax_id).simplified-graph.gfa\"\n",
    "# open(GFA_file, \"w\") do io\n",
    "#     println(io, \"H\\tVN:Z:1.0\")\n",
    "#     for vertex in LightGraphs.vertices(simplified_graph)\n",
    "#         sequence = MetaGraphs.get_prop(simplified_graph, vertex, :sequence)\n",
    "# #         evidence = MetaGraphs.get_prop(simplified_graph, vertex, :evidence)\n",
    "# #         depth_of_coverage = length(evidence)\n",
    "#         depth_of_coverage = 1\n",
    "#         fields = [\"S\", \"$vertex\", sequence, \"KC:i:$(depth_of_coverage)\"]\n",
    "#         line = join(fields, '\\t')\n",
    "#         println(io, line)\n",
    "#     end\n",
    "#     for edge in LightGraphs.edges(simplified_graph)\n",
    "# #         orientations = MetaGraphs.get_prop(pan_meta_genome_graph, edge, :orientation)\n",
    "# #         overlap = MetaGraphs.get_prop(pan_meta_genome_graph, :k) - 1\n",
    "# #         link = [\"L\",\n",
    "# #                     edge.src,\n",
    "# #                     first(orientations) ? '+' : '-',\n",
    "# #                     edge.dst,\n",
    "# #                     last(orientations) ? '+' : '-',\n",
    "# #                     \"$(overlap)M\"]\n",
    "#         link = [\"L\",\n",
    "#                     edge.src,\n",
    "#                     '+',\n",
    "#                     edge.dst,\n",
    "#                     '+',\n",
    "#                     \"13M\"]\n",
    "#         line = join(link, '\\t')\n",
    "#         println(io, line)\n",
    "#     end\n",
    "# end"
   ]
  },
  {
   "cell_type": "code",
   "execution_count": null,
   "metadata": {},
   "outputs": [],
   "source": [
    "# visited = falses(length(LightGraphs.vertices(pan_meta_genome_graph)))\n",
    "# unbranched_paths = []\n",
    "# ProgressMeter.@showprogress for v in collect(LightGraphs.vertices(pan_meta_genome_graph))[1:1]\n",
    "#     neighbors = LightGraphs.all_neighbors(pan_meta_genome_graph, v)\n",
    "#     @show v, neighbors\n",
    "#     if !visited[v] && length(neighbors) == 2\n",
    "# #         @show \n",
    "#         a, b = LightGraphs.all_neighbors(pan_meta_genome_graph, v)\n",
    "#         forward_walk = [v, a]\n",
    "        \n",
    "#         forward_neighbors = LightGraphs.all_neighbors(pan_meta_genome_graph, forward_walk[end])\n",
    "#         novel_forward_neighbors = filter(x -> x != forward_walk[end-1], forward_neighbors)\n",
    "        \n",
    "#         while length(novel_forward_neighbors) == 1\n",
    "#             push!(forward_walk, first(novel_forward_neighbors))\n",
    "#             forward_neighbors = LightGraphs.all_neighbors(pan_meta_genome_graph, forward_walk[end])\n",
    "#             novel_forward_neighbors = filter(x -> x != forward_walk[end-1], forward_neighbors)            \n",
    "#         end\n",
    "#         reverse_walk = [v, b]\n",
    "        \n",
    "#         reverse_neighbors = LightGraphs.all_neighbors(pan_meta_genome_graph, reverse_walk[end])\n",
    "#         novel_reverse_neighbors = filter(x -> x != reverse_walk[end-1], reverse_neighbors)\n",
    "        \n",
    "#         while length(novel_reverse_neighbors) == 1\n",
    "#             push!(reverse_walk, first(novel_reverse_neighbors))\n",
    "#             reverse_neighbors = LightGraphs.all_neighbors(pan_meta_genome_graph, reverse_walk[end])\n",
    "#             novel_reverse_neighbors = filter(x -> x != reverse_walk[end-1], reverse_neighbors)         \n",
    "#         end\n",
    "#         walk = [reverse(reverse_walk)[1:end-1]..., forward_walk...]\n",
    "# #         @show walk\n",
    "#         push!(unbranched_paths, walk)\n",
    "#         for v in walk\n",
    "#             visited[v] = true\n",
    "#         end\n",
    "#     end\n",
    "# end"
   ]
  },
  {
   "cell_type": "code",
   "execution_count": null,
   "metadata": {},
   "outputs": [],
   "source": [
    "# simplified_graph = MetaGraphs.MetaDiGraph()"
   ]
  },
  {
   "cell_type": "code",
   "execution_count": null,
   "metadata": {},
   "outputs": [],
   "source": [
    "# simplify graph by reducing all non-branching paths"
   ]
  },
  {
   "cell_type": "code",
   "execution_count": null,
   "metadata": {},
   "outputs": [],
   "source": [
    "# visited = falses(length(LightGraphs.vertices(pan_meta_genome_graph)))\n",
    "# unbranched_paths = []\n",
    "# ProgressMeter.@showprogress for v in collect(LightGraphs.vertices(pan_meta_genome_graph))\n",
    "#     neighbors = LightGraphs.all_neighbors(pan_meta_genome_graph, v)\n",
    "#     if !visited[v] && length(neighbors) == 2\n",
    "# #         @show \n",
    "#         a, b = LightGraphs.all_neighbors(pan_meta_genome_graph, v)\n",
    "#         forward_walk = [v, a]\n",
    "        \n",
    "#         forward_neighbors = LightGraphs.all_neighbors(pan_meta_genome_graph, forward_walk[end])\n",
    "#         novel_forward_neighbors = filter(x -> x != forward_walk[end-1], forward_neighbors)\n",
    "        \n",
    "#         while length(novel_forward_neighbors) == 1\n",
    "#             push!(forward_walk, first(novel_forward_neighbors))\n",
    "#             forward_neighbors = LightGraphs.all_neighbors(pan_meta_genome_graph, forward_walk[end])\n",
    "#             novel_forward_neighbors = filter(x -> x != forward_walk[end-1], forward_neighbors)            \n",
    "#         end\n",
    "#         reverse_walk = [v, b]\n",
    "        \n",
    "#         reverse_neighbors = LightGraphs.all_neighbors(pan_meta_genome_graph, reverse_walk[end])\n",
    "#         novel_reverse_neighbors = filter(x -> x != reverse_walk[end-1], reverse_neighbors)\n",
    "        \n",
    "#         while length(novel_reverse_neighbors) == 1\n",
    "#             push!(reverse_walk, first(novel_reverse_neighbors))\n",
    "#             reverse_neighbors = LightGraphs.all_neighbors(pan_meta_genome_graph, reverse_walk[end])\n",
    "#             novel_reverse_neighbors = filter(x -> x != reverse_walk[end-1], reverse_neighbors)         \n",
    "#         end\n",
    "#         walk = [reverse(reverse_walk)[1:end-1]..., forward_walk...]\n",
    "# #         @show walk\n",
    "#         push!(unbranched_paths, walk)\n",
    "#         for v in walk\n",
    "#             visited[v] = true\n",
    "#         end\n",
    "#     end\n",
    "# end"
   ]
  },
  {
   "cell_type": "code",
   "execution_count": null,
   "metadata": {},
   "outputs": [],
   "source": [
    "# ProgressMeter.@showprogress for v in collect(LightGraphs.vertices(pan_meta_genome_graph))\n",
    "#     neighbors = LightGraphs.all_neighbors(pan_meta_genome_graph, v)\n",
    "#     if !visited[v] && length(neighbors) > 2\n",
    "#         for neighbor in neighbors\n",
    "#             walk = [v, neighbor]\n",
    "#             forward_neighbors = LightGraphs.all_neighbors(pan_meta_genome_graph, walk[end])\n",
    "#             novel_forward_neighbors = filter(x -> x != walk[end-1], forward_neighbors)            \n",
    "#             while length(novel_forward_neighbors) == 1\n",
    "#                 push!(walk, first(novel_forward_neighbors))\n",
    "#                 forward_neighbors = LightGraphs.all_neighbors(pan_meta_genome_graph, walk[end])\n",
    "#                 novel_forward_neighbors = filter(x -> x != walk[end-1], forward_neighbors)            \n",
    "#             end\n",
    "#             push!(unbranched_paths, walk)\n",
    "#             for v in walk\n",
    "#                 visited[v] = true\n",
    "#             end\n",
    "#         end\n",
    "#     end\n",
    "# end\n",
    "# @assert all(visited)"
   ]
  },
  {
   "cell_type": "code",
   "execution_count": null,
   "metadata": {},
   "outputs": [],
   "source": [
    "# unbranched_paths"
   ]
  },
  {
   "cell_type": "code",
   "execution_count": null,
   "metadata": {},
   "outputs": [],
   "source": [
    "# unbranched_paths"
   ]
  },
  {
   "cell_type": "code",
   "execution_count": null,
   "metadata": {},
   "outputs": [],
   "source": [
    "# for x in findall(.!visited)\n",
    "#     push!(unbranched_paths, [x])\n",
    "#     visited[x] = true\n",
    "# end"
   ]
  },
  {
   "cell_type": "code",
   "execution_count": null,
   "metadata": {},
   "outputs": [],
   "source": [
    "# count(.!visited)"
   ]
  },
  {
   "cell_type": "code",
   "execution_count": null,
   "metadata": {},
   "outputs": [],
   "source": [
    "# map(x -> LightGraphs.all_neighbors(pan_meta_genome_graph, x), findall(.!visited))"
   ]
  },
  {
   "cell_type": "code",
   "execution_count": null,
   "metadata": {},
   "outputs": [],
   "source": [
    "# cypher_command = join([\"MERGE (:DNAMer {sequence: \\\"$(kmer)\\\"})\" for kmer in graph.kmers], '\\n')\n",
    "# cypher(database_id, cypher_command)"
   ]
  },
  {
   "cell_type": "code",
   "execution_count": null,
   "metadata": {},
   "outputs": [],
   "source": [
    "# edge = {orientation: [true, true], evidence: [\"source-identifier_sequence-identifier_index_orientation\"]}\n",
    "# node = {sequence: \"\", evidence: [\"source-identifier_sequence-identifier_index_orientation\"]}"
   ]
  },
  {
   "cell_type": "code",
   "execution_count": null,
   "metadata": {},
   "outputs": [],
   "source": [
    "# # cyper_commands = []\n",
    "# ProgressMeter.@showprogress for edge_evidence in collect(graph.edge_evidence)\n",
    "#     edge = first(edge_evidence)\n",
    "#     evidence = last(edge_evidence)\n",
    "#     src_kmer = graph.kmers[edge.src]\n",
    "#     dst_kmer = graph.kmers[edge.dst]\n",
    "#     possible_orientations = map(bool -> Eisenia.assess_path_orientations([edge.src, edge.dst], graph.kmers, bool), [true, false])\n",
    "#     possible_orientations = filter!(x -> x != nothing, possible_orientations)\n",
    "#     orientations = first(possible_orientations)\n",
    "#     string_orienations = string(Int.(orientations))\n",
    "#     cypher_command = \n",
    "#     \"\"\"\n",
    "#     MATCH (src:DNAMer {sequence: \"$(src_kmer)\"})\n",
    "#     MATCH (dst:DNAMer {sequence: \"$(dst_kmer)\"})\n",
    "#     MERGE (src)-[edge:EDGE {orientations: $(string_orienations)}]->(dst)\n",
    "#     RETURN *\n",
    "#     \"\"\"\n",
    "# #     push!(cyper_commands, cypher_command)\n",
    "#     cypher(database_id, cypher_command)\n",
    "# end"
   ]
  },
  {
   "cell_type": "code",
   "execution_count": null,
   "metadata": {},
   "outputs": [],
   "source": [
    "# # cyper_commands = []\n",
    "# ProgressMeter.@showprogress for edge_evidence in collect(graph.edge_evidence)\n",
    "#     edge = first(edge_evidence)\n",
    "#     evidence = last(edge_evidence)\n",
    "#     src_kmer = graph.kmers[edge.src]\n",
    "#     dst_kmer = graph.kmers[edge.dst]\n",
    "#     unique_sources = unique(map(e -> e.record_identifier, evidence))\n",
    "#     for unique_source in unique_sources\n",
    "#         cypher_command = \n",
    "#         \"\"\"\n",
    "#         MATCH (src:DNAMer {sequence: \"$(src_kmer)\"})\n",
    "#         MATCH (dst:DNAMer {sequence: \"$(dst_kmer)\"})\n",
    "#         MATCH (f:FASTA) WHERE f.identifier = \"$(unique_source)\"\n",
    "#         MERGE (src)-[src_f:CONTAINED_IN]->(f)\n",
    "#         MERGE (dst)-[dst_f:CONTAINED_IN]->(f)\n",
    "#         RETURN *\n",
    "#         \"\"\"\n",
    "#         cypher(database_id, cypher_command)\n",
    "#     end\n",
    "# end"
   ]
  },
  {
   "cell_type": "code",
   "execution_count": null,
   "metadata": {},
   "outputs": [],
   "source": []
  },
  {
   "cell_type": "code",
   "execution_count": null,
   "metadata": {},
   "outputs": [],
   "source": []
  }
 ],
 "metadata": {
  "kernelspec": {
   "display_name": "Julia 1.5.3",
   "language": "julia",
   "name": "julia-1.5"
  },
  "language_info": {
   "file_extension": ".jl",
   "mimetype": "application/julia",
   "name": "julia",
   "version": "1.5.3"
  }
 },
 "nbformat": 4,
 "nbformat_minor": 4
}
