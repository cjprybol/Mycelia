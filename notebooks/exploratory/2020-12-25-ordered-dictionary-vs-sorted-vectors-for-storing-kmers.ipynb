{
 "cells": [
  {
   "cell_type": "markdown",
   "metadata": {},
   "source": [
    "---\n",
    "layout: post  \n",
    "---"
   ]
  },
  {
   "cell_type": "markdown",
   "metadata": {},
   "source": [
    "What are the memory/speed trade-offs of using an ordered dictionary to store kmers and their respective counts as opposed to using sorted vectors?"
   ]
  },
  {
   "cell_type": "markdown",
   "metadata": {},
   "source": [
    "Initially, I would expect that the ordered dictionary would have an additional memory overhead of storing the hash table (cost) in order to increase the rate of lookup (benefit)."
   ]
  },
  {
   "cell_type": "markdown",
   "metadata": {},
   "source": [
    "The flip side of this is that the sorted vector would have little to no memory overhead beyond the actual kmers themselves (benefit), but our best-case search time should be slower (cost) with an expected runtime proportional to $$log2(\\text{K}) \\text{ where K = # of kmers}$$"
   ]
  },
  {
   "cell_type": "markdown",
   "metadata": {},
   "source": [
    "Another potential benefit of using the sorted vectors is that they can be memory mapped onto disk, which would allow us to work with kmer datasets that are larger than the available RAM of the machine"
   ]
  },
  {
   "cell_type": "markdown",
   "metadata": {},
   "source": [
    "So.... let's benchmark them and see if using the extra memory overhead (and losing the easy disk backing) is worth it"
   ]
  },
  {
   "cell_type": "code",
   "execution_count": 2,
   "metadata": {},
   "outputs": [
    {
     "name": "stderr",
     "output_type": "stream",
     "text": [
      "\u001b[32m\u001b[1m   Updating\u001b[22m\u001b[39m registry at `~/.julia/registries/General`\n"
     ]
    },
    {
     "name": "stdout",
     "output_type": "stream",
     "text": [
      "\u001b[?25l    "
     ]
    },
    {
     "name": "stderr",
     "output_type": "stream",
     "text": [
      "\u001b[32m\u001b[1m   Updating\u001b[22m\u001b[39m git-repo `https://github.com/JuliaRegistries/General.git`\n"
     ]
    },
    {
     "name": "stdout",
     "output_type": "stream",
     "text": [
      "\u001b[2K\u001b[?25h[1mFetching:\u001b[22m\u001b[39m [========================================>]  100.0 %"
     ]
    },
    {
     "name": "stderr",
     "output_type": "stream",
     "text": [
      "\u001b[32m\u001b[1m  Resolving\u001b[22m\u001b[39m package versions...\n",
      "\u001b[32m\u001b[1mNo Changes\u001b[22m\u001b[39m to `~/.julia/environments/v1.5/Project.toml`\n",
      "\u001b[32m\u001b[1mNo Changes\u001b[22m\u001b[39m to `~/.julia/environments/v1.5/Manifest.toml`\n"
     ]
    }
   ],
   "source": [
    "import Pkg\n",
    "pkgs = [\n",
    "    \"BenchmarkTools\",\n",
    "    \"DataStructures\",\n",
    "    \"Random\",\n",
    "    \"BioSequences\",\n",
    "    \"Primes\",\n",
    "    \"StatsBase\",\n",
    "    \"Statistics\"\n",
    "]\n",
    "Pkg.add(pkgs)\n",
    "for pkg in pkgs\n",
    "    eval(Meta.parse(\"import $pkg\"))\n",
    "end"
   ]
  },
  {
   "cell_type": "code",
   "execution_count": 3,
   "metadata": {},
   "outputs": [
    {
     "data": {
      "text/plain": [
       "BioSequences.Mer{BioSequences.DNAAlphabet{2},3}"
      ]
     },
     "execution_count": 3,
     "metadata": {},
     "output_type": "execute_result"
    }
   ],
   "source": [
    "k = 3\n",
    "KMER_TYPE = BioSequences.DNAMer{k}"
   ]
  },
  {
   "cell_type": "code",
   "execution_count": 4,
   "metadata": {},
   "outputs": [
    {
     "data": {
      "text/plain": [
       "10nt DNA Sequence:\n",
       "TCGTCCCAGG"
      ]
     },
     "execution_count": 4,
     "metadata": {},
     "output_type": "execute_result"
    }
   ],
   "source": [
    "sequence = BioSequences.randdnaseq(Random.seed!(1), 10)"
   ]
  },
  {
   "cell_type": "markdown",
   "metadata": {},
   "source": [
    "We'll use a counting function available in StatsBase as a quick and dirty kmer counter"
   ]
  },
  {
   "cell_type": "code",
   "execution_count": 5,
   "metadata": {},
   "outputs": [
    {
     "data": {
      "text/plain": [
       "8-element Array{Pair{Any,Int64},1}:\n",
       " ACG => 1\n",
       " AGG => 1\n",
       " CAG => 1\n",
       " CCA => 1\n",
       " CCC => 1\n",
       " CGA => 1\n",
       " GAC => 1\n",
       " GGA => 1"
      ]
     },
     "execution_count": 5,
     "metadata": {},
     "output_type": "execute_result"
    }
   ],
   "source": [
    "kmer_counts = StatsBase.countmap(\n",
    "    BioSequences.canonical(kmer.fw)\n",
    "        for kmer in BioSequences.each(KMER_TYPE, sequence))\n",
    "\n",
    "sorted_kmer_counts = collect(sort(kmer_counts))"
   ]
  },
  {
   "cell_type": "markdown",
   "metadata": {},
   "source": [
    "Now create a sorted version that we can use for the dictionary"
   ]
  },
  {
   "cell_type": "code",
   "execution_count": 6,
   "metadata": {},
   "outputs": [
    {
     "data": {
      "text/plain": [
       "OrderedCollections.OrderedDict{BioSequences.Mer{BioSequences.DNAAlphabet{2},3},NamedTuple{(:index, :count),Tuple{Int64,Int64}}} with 8 entries:\n",
       "  ACG => (index = 1, count = 1)\n",
       "  AGG => (index = 2, count = 1)\n",
       "  CAG => (index = 3, count = 1)\n",
       "  CCA => (index = 4, count = 1)\n",
       "  CCC => (index = 5, count = 1)\n",
       "  CGA => (index = 6, count = 1)\n",
       "  GAC => (index = 7, count = 1)\n",
       "  GGA => (index = 8, count = 1)"
      ]
     },
     "execution_count": 6,
     "metadata": {},
     "output_type": "execute_result"
    }
   ],
   "source": [
    "kmer_counts_dict = \n",
    "    DataStructures.OrderedDict(\n",
    "        kmer => (index = i, count = c) for (i, (kmer, c)) in enumerate(sorted_kmer_counts)\n",
    ")"
   ]
  },
  {
   "cell_type": "markdown",
   "metadata": {},
   "source": [
    "Note here I am also including the index of the kmer"
   ]
  },
  {
   "cell_type": "markdown",
   "metadata": {},
   "source": [
    "If I'm going to have a quick kmer lookup function, I want to be able to quickly look up the index as well as the count"
   ]
  },
  {
   "cell_type": "markdown",
   "metadata": {},
   "source": [
    "The index is relevant because I intend to utilize the kmers as nodes in a graph, and the nodes are numbered numerically from i:N"
   ]
  },
  {
   "cell_type": "markdown",
   "metadata": {},
   "source": [
    "I also want the reverse to be true; Given an index, I want a rapid lookup of the kmer at that index. Because the OrderedDict datastructure stores the order of the keys, we're able to lookup kmers by their index which is not possible in a standard Dict"
   ]
  },
  {
   "cell_type": "code",
   "execution_count": 11,
   "metadata": {},
   "outputs": [
    {
     "data": {
      "text/plain": [
       "8-element Array{BioSequences.Mer{BioSequences.DNAAlphabet{2},3},1}:\n",
       " ACG\n",
       " AGG\n",
       " CAG\n",
       " CCA\n",
       " CCC\n",
       " CGA\n",
       " GAC\n",
       " GGA"
      ]
     },
     "execution_count": 11,
     "metadata": {},
     "output_type": "execute_result"
    }
   ],
   "source": [
    "kmer_counts_dict.keys"
   ]
  },
  {
   "cell_type": "markdown",
   "metadata": {},
   "source": [
    "When searching a vector for the kmers, we will be returning the index as the result of the search, eliminating the need to store it. That index can then be used to access the counts in another vector."
   ]
  },
  {
   "cell_type": "markdown",
   "metadata": {},
   "source": [
    "Below, we can see away that the dictionary data structure is ~2x larger to store. This additional memory compounds the issue that we can't disk-back the dictionary in the event that the data set is larger than our available RAM"
   ]
  },
  {
   "cell_type": "code",
   "execution_count": 9,
   "metadata": {},
   "outputs": [
    {
     "name": "stdout",
     "output_type": "stream",
     "text": [
      "Base.summarysize(kmer_counts_dict) = 416\n",
      "Base.summarysize(kmers) + Base.summarysize(counts) = 208\n"
     ]
    }
   ],
   "source": [
    "kmers = first.(sorted_kmer_counts)\n",
    "counts = last.(sorted_kmer_counts)\n",
    "\n",
    "@show Base.summarysize(kmer_counts_dict)\n",
    "@show Base.summarysize(kmers) + Base.summarysize(counts);"
   ]
  },
  {
   "cell_type": "code",
   "execution_count": 17,
   "metadata": {},
   "outputs": [
    {
     "data": {
      "text/plain": [
       "generate_kmer (generic function with 1 method)"
      ]
     },
     "execution_count": 17,
     "metadata": {},
     "output_type": "execute_result"
    }
   ],
   "source": [
    "function generate_kmer(k)\n",
    "    BioSequences.canonical(BioSequences.DNAMer(BioSequences.randdnaseq(k)))\n",
    "end"
   ]
  },
  {
   "cell_type": "markdown",
   "metadata": {},
   "source": [
    "In the following, we can see that the runtime on this very small test case is effectively equivalent. Neither function requires memory allocation during the lookup"
   ]
  },
  {
   "cell_type": "code",
   "execution_count": 18,
   "metadata": {},
   "outputs": [
    {
     "data": {
      "text/plain": [
       "BenchmarkTools.Trial: \n",
       "  memory estimate:  0 bytes\n",
       "  allocs estimate:  0\n",
       "  --------------\n",
       "  minimum time:     8.712 ns (0.00% GC)\n",
       "  median time:      8.980 ns (0.00% GC)\n",
       "  mean time:        9.540 ns (0.00% GC)\n",
       "  maximum time:     57.404 ns (0.00% GC)\n",
       "  --------------\n",
       "  samples:          10000\n",
       "  evals/sample:     999"
      ]
     },
     "execution_count": 18,
     "metadata": {},
     "output_type": "execute_result"
    }
   ],
   "source": [
    "# time to see if something is in the list\n",
    "BenchmarkTools.@benchmark get($kmer_counts_dict, $(generate_kmer(k)), $(index = 0, count = 0))"
   ]
  },
  {
   "cell_type": "code",
   "execution_count": 19,
   "metadata": {},
   "outputs": [
    {
     "data": {
      "text/plain": [
       "BenchmarkTools.Trial: \n",
       "  memory estimate:  0 bytes\n",
       "  allocs estimate:  0\n",
       "  --------------\n",
       "  minimum time:     8.963 ns (0.00% GC)\n",
       "  median time:      8.975 ns (0.00% GC)\n",
       "  mean time:        9.142 ns (0.00% GC)\n",
       "  maximum time:     52.988 ns (0.00% GC)\n",
       "  --------------\n",
       "  samples:          10000\n",
       "  evals/sample:     999"
      ]
     },
     "execution_count": 19,
     "metadata": {},
     "output_type": "execute_result"
    }
   ],
   "source": [
    "BenchmarkTools.@benchmark searchsorted($kmers, $(generate_kmer(k)))"
   ]
  },
  {
   "cell_type": "markdown",
   "metadata": {},
   "source": [
    "Now that we've setup our steps for how to assess runtime for a given sequence and kmer length, let's wrap the above code into a function that we can run across several combinations of sequence length and kmer size."
   ]
  },
  {
   "cell_type": "code",
   "execution_count": 25,
   "metadata": {},
   "outputs": [
    {
     "data": {
      "text/plain": [
       "assess_dict_vs_vectors (generic function with 1 method)"
      ]
     },
     "execution_count": 25,
     "metadata": {},
     "output_type": "execute_result"
    }
   ],
   "source": [
    "function assess_dict_vs_vectors(sequence, ::Type{KMER_TYPE}) where KMER_TYPE\n",
    "    kmer_counts = convert(Dict{KMER_TYPE, Int}, \n",
    "                    StatsBase.countmap(alg = :Dict, BioSequences.canonical(kmer.fw) for kmer in BioSequences.each(KMER_TYPE, sequence)))\n",
    "    sorted_kmer_counts = collect(sort(kmer_counts))\n",
    "    \n",
    "    kmer_counts_dict = \n",
    "        DataStructures.OrderedDict(\n",
    "            kmer => (index = i, count = c) for (i, (kmer, c)) in enumerate(sorted_kmer_counts)\n",
    "    )\n",
    "    \n",
    "    kmers = convert(Vector{KMER_TYPE}, first.(sorted_kmer_counts))\n",
    "    counts = convert(Vector{Int}, last.(sorted_kmer_counts))\n",
    "\n",
    "    println(\"\\t\\ttotal kmers = $(length(kmers))\\n\")\n",
    "\n",
    "    vector_size = Base.summarysize(kmers) + Base.summarysize(counts)\n",
    "\n",
    "    dict_size = Base.summarysize(kmer_counts_dict)\n",
    "\n",
    "    relative_size = dict_size / vector_size\n",
    "    println(\"\\t\\tDict size relative to vectors\\t\\t: \", round(dict_size / vector_size, digits=1))\n",
    "\n",
    "    vector_results = (BenchmarkTools.@benchmark searchsorted($kmers, $(generate_kmer(length(first(kmers))))))::BenchmarkTools.Trial\n",
    "    dict_results = (BenchmarkTools.@benchmark get($kmer_counts_dict, $(generate_kmer(length(first(kmers)))), $(index = 0, count = 0)))::BenchmarkTools.Trial\n",
    "\n",
    "    relative_performance = Statistics.median(vector_results).time / Statistics.median(dict_results).time\n",
    "    println(\"\\t\\tDict performance relative to vectors\\t: \", round(relative_performance, digits=1))\n",
    "    println(\"\\t\\tSize-normalized performance\\t\\t: \", round(relative_performance / relative_size, digits=1))\n",
    "end"
   ]
  },
  {
   "cell_type": "code",
   "execution_count": 22,
   "metadata": {},
   "outputs": [
    {
     "name": "stdout",
     "output_type": "stream",
     "text": [
      "sequence_length = 10 ^ 5 = 100000\n",
      "\tk = 3\n",
      "\t\ttotal kmers = 32\n",
      "\n",
      "\t\tDict size relative to vectors\t\t: 2.0\n",
      "\t\tDict performance relative to vectors\t: 1.3\n",
      "\t\tSize-normalized performance\t\t: 0.7\n",
      "\tk = 5\n",
      "\t\ttotal kmers = 512\n",
      "\n",
      "\t\tDict size relative to vectors\t\t: 2.0\n",
      "\t\tDict performance relative to vectors\t: 1.7\n",
      "\t\tSize-normalized performance\t\t: 0.8\n",
      "\tk = 7\n",
      "\t\ttotal kmers = 8192\n",
      "\n",
      "\t\tDict size relative to vectors\t\t: 2.0\n",
      "\t\tDict performance relative to vectors\t: 2.2\n",
      "\t\tSize-normalized performance\t\t: 1.1\n",
      "\tk = 11\n",
      "\t\ttotal kmers = 97510\n",
      "\n",
      "\t\tDict size relative to vectors\t\t: 2.2\n",
      "\t\tDict performance relative to vectors\t: 2.0\n",
      "\t\tSize-normalized performance\t\t: 0.9\n",
      "\tk = 13\n",
      "\t\ttotal kmers = 99848\n",
      "\n",
      "\t\tDict size relative to vectors\t\t: 2.2\n",
      "\t\tDict performance relative to vectors\t: 1.7\n",
      "\t\tSize-normalized performance\t\t: 0.8\n",
      "\tk = 17\n",
      "\t\ttotal kmers = 99982\n",
      "\n",
      "\t\tDict size relative to vectors\t\t: 2.2\n",
      "\t\tDict performance relative to vectors\t: 2.1\n",
      "\t\tSize-normalized performance\t\t: 1.0\n",
      "\tk = 19\n",
      "\t\ttotal kmers = 99981\n",
      "\n",
      "\t\tDict size relative to vectors\t\t: 2.2\n",
      "\t\tDict performance relative to vectors\t: 1.5\n",
      "\t\tSize-normalized performance\t\t: 0.7\n"
     ]
    }
   ],
   "source": [
    "@show sequence_length = 10^5\n",
    "sequence = BioSequences.randdnaseq(Random.seed!(sequence_length), sequence_length)\n",
    "for k in Primes.primes(3, 19)\n",
    "    println(\"\\tk = $k\")\n",
    "    KMER_TYPE = BioSequences.DNAMer{k}\n",
    "    assess_dict_vs_vectors(sequence, KMER_TYPE)\n",
    "end"
   ]
  },
  {
   "cell_type": "markdown",
   "metadata": {},
   "source": [
    "Here we can see that the performance of the dictionary lookup appears to be ~2x the performance of the sorted search on the vector.\n",
    "\n",
    "However, given the 2x storage size, when we normalize this performance gain against the memory increase, the costs and benefits neutralize one another.\n",
    "\n",
    "Let's see if it get's any better as we continue to increase the number of kmers via larger sequences and kmer lengths."
   ]
  },
  {
   "cell_type": "code",
   "execution_count": 23,
   "metadata": {},
   "outputs": [
    {
     "name": "stdout",
     "output_type": "stream",
     "text": [
      "sequence_length = 10 ^ 6 = 1000000\n",
      "\tk = 3\n",
      "\t\ttotal kmers = 32\n",
      "\n",
      "\t\tDict size relative to vectors\t\t: 2.0\n",
      "\t\tDict performance relative to vectors\t: 1.2\n",
      "\t\tSize-normalized performance\t\t: 0.6\n",
      "\tk = 5\n",
      "\t\ttotal kmers = 512\n",
      "\n",
      "\t\tDict size relative to vectors\t\t: 2.0\n",
      "\t\tDict performance relative to vectors\t: 1.7\n",
      "\t\tSize-normalized performance\t\t: 0.9\n",
      "\tk = 7\n",
      "\t\ttotal kmers = 8192\n",
      "\n",
      "\t\tDict size relative to vectors\t\t: 2.0\n",
      "\t\tDict performance relative to vectors\t: 1.8\n",
      "\t\tSize-normalized performance\t\t: 0.9\n",
      "\tk = 11\n",
      "\t\ttotal kmers = 795474\n",
      "\n",
      "\t\tDict size relative to vectors\t\t: 2.2\n",
      "\t\tDict performance relative to vectors\t: 2.3\n",
      "\t\tSize-normalized performance\t\t: 1.1\n",
      "\tk = 13\n",
      "\t\ttotal kmers = 985285\n",
      "\n",
      "\t\tDict size relative to vectors\t\t: 2.0\n",
      "\t\tDict performance relative to vectors\t: 2.4\n",
      "\t\tSize-normalized performance\t\t: 1.2\n",
      "\tk = 17\n",
      "\t\ttotal kmers = 999941\n",
      "\n",
      "\t\tDict size relative to vectors\t\t: 2.0\n",
      "\t\tDict performance relative to vectors\t: 2.3\n",
      "\t\tSize-normalized performance\t\t: 1.1\n",
      "\tk = 19\n",
      "\t\ttotal kmers = 999980\n",
      "\n",
      "\t\tDict size relative to vectors\t\t: 2.0\n",
      "\t\tDict performance relative to vectors\t: 2.0\n",
      "\t\tSize-normalized performance\t\t: 1.0\n"
     ]
    }
   ],
   "source": [
    "@show sequence_length = 10^6\n",
    "sequence = BioSequences.randdnaseq(Random.seed!(sequence_length), sequence_length)\n",
    "for k in Primes.primes(3, 19)\n",
    "    println(\"\\tk = $k\")\n",
    "    KMER_TYPE = BioSequences.DNAMer{k}\n",
    "    assess_dict_vs_vectors(sequence, KMER_TYPE)\n",
    "end"
   ]
  },
  {
   "cell_type": "code",
   "execution_count": 24,
   "metadata": {},
   "outputs": [
    {
     "name": "stdout",
     "output_type": "stream",
     "text": [
      "sequence_length = 10 ^ 7 = 10000000\n",
      "\tk = 3\n",
      "\t\ttotal kmers = 32\n",
      "\n",
      "\t\tDict size relative to vectors\t\t: 2.0\n",
      "\t\tDict performance relative to vectors\t: 1.5\n",
      "\t\tSize-normalized performance\t\t: 0.8\n",
      "\tk = 5\n",
      "\t\ttotal kmers = 512\n",
      "\n",
      "\t\tDict size relative to vectors\t\t: 2.0\n",
      "\t\tDict performance relative to vectors\t: 1.8\n",
      "\t\tSize-normalized performance\t\t: 0.9\n",
      "\tk = 7\n",
      "\t\ttotal kmers = 8192\n",
      "\n",
      "\t\tDict size relative to vectors\t\t: 2.0\n",
      "\t\tDict performance relative to vectors\t: 1.5\n",
      "\t\tSize-normalized performance\t\t: 0.7\n",
      "\tk = 11\n",
      "\t\ttotal kmers = 2079555\n",
      "\n",
      "\t\tDict size relative to vectors\t\t: 2.0\n",
      "\t\tDict performance relative to vectors\t: 3.0\n",
      "\t\tSize-normalized performance\t\t: 1.5\n",
      "\tk = 13\n",
      "\t\ttotal kmers = 8646404\n",
      "\n",
      "\t\tDict size relative to vectors\t\t: 2.0\n",
      "\t\tDict performance relative to vectors\t: 3.3\n",
      "\t\tSize-normalized performance\t\t: 1.7\n",
      "\tk = 17\n",
      "\t\ttotal kmers = 9994063\n",
      "\n",
      "\t\tDict size relative to vectors\t\t: 1.9\n",
      "\t\tDict performance relative to vectors\t: 2.6\n",
      "\t\tSize-normalized performance\t\t: 1.4\n",
      "\tk = 19\n",
      "\t\ttotal kmers = 9999601\n",
      "\n",
      "\t\tDict size relative to vectors\t\t: 1.9\n",
      "\t\tDict performance relative to vectors\t: 2.2\n",
      "\t\tSize-normalized performance\t\t: 1.1\n",
      "\tk = 23\n",
      "\t\ttotal kmers = 9999974\n",
      "\n",
      "\t\tDict size relative to vectors\t\t: 1.9\n",
      "\t\tDict performance relative to vectors\t: 2.5\n",
      "\t\tSize-normalized performance\t\t: 1.3\n",
      "\tk = 29\n",
      "\t\ttotal kmers = 9999972\n",
      "\n",
      "\t\tDict size relative to vectors\t\t: 1.9\n",
      "\t\tDict performance relative to vectors\t: 2.6\n",
      "\t\tSize-normalized performance\t\t: 1.4\n"
     ]
    }
   ],
   "source": [
    "@show sequence_length = 10^7\n",
    "sequence = BioSequences.randdnaseq(Random.seed!(sequence_length), sequence_length)\n",
    "for k in Primes.primes(3, 29)\n",
    "    println(\"\\tk = $k\")\n",
    "    KMER_TYPE = BioSequences.DNAMer{k}\n",
    "    assess_dict_vs_vectors(sequence, KMER_TYPE)\n",
    "end"
   ]
  },
  {
   "cell_type": "code",
   "execution_count": 26,
   "metadata": {},
   "outputs": [
    {
     "name": "stdout",
     "output_type": "stream",
     "text": [
      "sequence_length = 10 ^ 8 = 100000000\n",
      "\tk = 3\n",
      "\t\ttotal kmers = 32\n",
      "\n",
      "\t\tDict size relative to vectors\t\t: 2.0\n",
      "\t\tDict performance relative to vectors\t: 1.5\n",
      "\t\tSize-normalized performance\t\t: 0.8\n",
      "\tk = 5\n",
      "\t\ttotal kmers = 512\n",
      "\n",
      "\t\tDict size relative to vectors\t\t: 2.0\n",
      "\t\tDict performance relative to vectors\t: 1.7\n",
      "\t\tSize-normalized performance\t\t: 0.9\n",
      "\tk = 7\n",
      "\t\ttotal kmers = 8192\n",
      "\n",
      "\t\tDict size relative to vectors\t\t: 2.0\n",
      "\t\tDict performance relative to vectors\t: 2.0\n",
      "\t\tSize-normalized performance\t\t: 1.0\n",
      "\tk = 11\n",
      "\t\ttotal kmers = 2097152\n",
      "\n",
      "\t\tDict size relative to vectors\t\t: 2.0\n",
      "\t\tDict performance relative to vectors\t: 3.2\n",
      "\t\tSize-normalized performance\t\t: 1.6\n",
      "\tk = 13\n",
      "\t\ttotal kmers = 31849943\n",
      "\n",
      "\t\tDict size relative to vectors\t\t: 2.0\n",
      "\t\tDict performance relative to vectors\t: 3.5\n",
      "\t\tSize-normalized performance\t\t: 1.7\n",
      "\tk = 17\n",
      "\t\ttotal kmers = 99419602\n",
      "\n",
      "\t\tDict size relative to vectors\t\t: 2.2\n",
      "\t\tDict performance relative to vectors\t: 3.1\n",
      "\t\tSize-normalized performance\t\t: 1.4\n",
      "\tk = 19\n",
      "\t\ttotal kmers = 99963714\n",
      "\n",
      "\t\tDict size relative to vectors\t\t: 2.2\n",
      "\t\tDict performance relative to vectors\t: 3.3\n",
      "\t\tSize-normalized performance\t\t: 1.5\n",
      "\tk = 23\n",
      "\t\ttotal kmers = 99999836\n",
      "\n",
      "\t\tDict size relative to vectors\t\t: 2.2\n",
      "\t\tDict performance relative to vectors\t: 2.6\n",
      "\t\tSize-normalized performance\t\t: 1.2\n",
      "\tk = 29\n",
      "\t\ttotal kmers = 99999972\n",
      "\n",
      "\t\tDict size relative to vectors\t\t: 2.2\n",
      "\t\tDict performance relative to vectors\t: 2.6\n",
      "\t\tSize-normalized performance\t\t: 1.2\n",
      "\tk = 31\n",
      "\t\ttotal kmers = 99999970\n",
      "\n",
      "\t\tDict size relative to vectors\t\t: 2.2\n",
      "\t\tDict performance relative to vectors\t: 3.0\n",
      "\t\tSize-normalized performance\t\t: 1.4\n"
     ]
    }
   ],
   "source": [
    "@show sequence_length = 10^8\n",
    "sequence = BioSequences.randdnaseq(Random.seed!(sequence_length), sequence_length)\n",
    "for k in Primes.primes(3, 31)\n",
    "    println(\"\\tk = $k\")\n",
    "    KMER_TYPE = BioSequences.DNAMer{k}\n",
    "    assess_dict_vs_vectors(sequence, KMER_TYPE)\n",
    "end"
   ]
  },
  {
   "cell_type": "markdown",
   "metadata": {},
   "source": [
    "Here it seems like at best we get a 3x speed improvement for querying a specific kmer in a Dictionary as compared to searching for it in a sorted vector."
   ]
  },
  {
   "cell_type": "markdown",
   "metadata": {},
   "source": [
    "Normalizing that speed up relative to the size increase of using a dictionary, we're able to get a slight boost in overall performance (according to this subjective view of rating performance) that I ultimately don't think is worth it.\n",
    "\n",
    "I'll be utilizing sorted vectors for my kmer work going forward"
   ]
  }
 ],
 "metadata": {
  "kernelspec": {
   "display_name": "Julia 1.5.3",
   "language": "julia",
   "name": "julia-1.5"
  },
  "language_info": {
   "file_extension": ".jl",
   "mimetype": "application/julia",
   "name": "julia",
   "version": "1.5.3"
  }
 },
 "nbformat": 4,
 "nbformat_minor": 4
}
