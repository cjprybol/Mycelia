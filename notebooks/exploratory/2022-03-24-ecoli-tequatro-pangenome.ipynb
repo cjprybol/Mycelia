{
 "cells": [
  {
   "cell_type": "markdown",
   "metadata": {},
   "source": [
    "# Kmer Graph"
   ]
  },
  {
   "cell_type": "code",
   "execution_count": null,
   "metadata": {},
   "outputs": [],
   "source": [
    "# TODO\n",
    "# properly set types for parameters"
   ]
  },
  {
   "cell_type": "code",
   "execution_count": null,
   "metadata": {},
   "outputs": [],
   "source": [
    "DATE_TASK = \"2022-03-24-ecoli-tequatro-pangenome\"\n",
    "DIR = mkpath(\"$(homedir())/workspace/$DATE_TASK\")\n",
    "cd(DIR)\n",
    "DATE, TASK = match(r\"^(\\d{4}-\\d{2}-\\d{2})-(.*)$\", DATE_TASK).captures"
   ]
  },
  {
   "cell_type": "code",
   "execution_count": null,
   "metadata": {},
   "outputs": [],
   "source": [
    "import Pkg\n",
    "Pkg.update()\n",
    "pkgs = [\n",
    "\"JSON\",\n",
    "\"HTTP\",\n",
    "\"Dates\",\n",
    "\"uCSV\",\n",
    "\"DelimitedFiles\",\n",
    "\"DataFrames\",\n",
    "\"ProgressMeter\",\n",
    "\"BioSequences\",\n",
    "\"FASTX\",\n",
    "\"Distances\",\n",
    "\"StatsPlots\",\n",
    "\"StatsBase\",\n",
    "\"Statistics\",\n",
    "\"MultivariateStats\",\n",
    "\"Random\",\n",
    "\"Primes\",\n",
    "\"SparseArrays\",\n",
    "\"SHA\",\n",
    "\"GenomicAnnotations\",\n",
    "\"Combinatorics\",\n",
    "\"OrderedCollections\",\n",
    "\"Downloads\",\n",
    "\"Clustering\",\n",
    "\"Revise\",\n",
    "\"Mmap\",\n",
    "\"Graphs\",\n",
    "\"MetaGraphs\",\n",
    "\"FileIO\"\n",
    "]\n",
    "\n",
    "for pkg in pkgs\n",
    "    try\n",
    "        eval(Meta.parse(\"import $pkg\"))\n",
    "    catch\n",
    "        Pkg.add(pkg)\n",
    "        eval(Meta.parse(\"import $pkg\"))\n",
    "    end\n",
    "end\n",
    "\n",
    "# works but can't update locally, need to push and restart kernel to activate changes\n",
    "# \"https://github.com/cjprybol/Mycelia.git#master\",\n",
    "# didn't work\n",
    "# \"$(homedir())/git/Mycelia#master\",\n",
    "pkg_path = \"$(homedir())/git/Mycelia\"\n",
    "try\n",
    "    eval(Meta.parse(\"import $(basename(pkg_path))\"))\n",
    "catch\n",
    "    # Pkg.add(url=pkg)\n",
    "    Pkg.develop(path=pkg_path)\n",
    "    # pkg = replace(basename(pkg), \".git#master\" => \"\")\n",
    "    # pkg = replace(basename(pkg), \"#master\" => \"\")\n",
    "    eval(Meta.parse(\"import $(basename(pkg_path))\"))\n",
    "end"
   ]
  },
  {
   "cell_type": "code",
   "execution_count": null,
   "metadata": {},
   "outputs": [],
   "source": [
    "function assess_edgemer(edgemer)\n",
    "    k = length(edgemer)-1\n",
    "    kmer_type = BioSequences.BigDNAMer{k}\n",
    "    src = kmer_type(edgemer[i] for i in 1:k)\n",
    "    dst = kmer_type(edgemer[i] for i in 2:k+1)\n",
    "    canonical_src = BioSequences.canonical(src)\n",
    "    canonical_dst = BioSequences.canonical(dst)\n",
    "    src_is_canonical = src == canonical_src\n",
    "    dst_is_canonical = dst == canonical_dst\n",
    "    # @show edgemer\n",
    "    # @show src\n",
    "    # @show canonical_src\n",
    "    # @show src_is_canonical\n",
    "    # @show dst\n",
    "    # @show canonical_dst\n",
    "    # @show dst_is_canonical\n",
    "    return src, canonical_src, src_is_canonical, dst, canonical_dst, dst_is_canonical\n",
    "end"
   ]
  },
  {
   "cell_type": "code",
   "execution_count": null,
   "metadata": {},
   "outputs": [],
   "source": [
    "# TODO break me out into indivual steps of additon at each level\n",
    "function fastx_to_metagraph(k, entity_file_map)\n",
    "    @assert isodd(k) \"k must be odd to avoid the possibility of kmers being reverse complements of themselves\"\n",
    "    @assert 3 <= k <= 63 \"k must be at least 3 to allow for kmer overlaps and less than 64 to be compatible with type limits\"\n",
    "    kmer_type = BioSequences.BigDNAMer{k}\n",
    "    edgemer_type = BioSequences.BigDNAMer{k+1}\n",
    "    edge_orientations = Symbol.([\n",
    "        \"true_true\",\n",
    "        \"true_false\",\n",
    "        \"false_true\",\n",
    "        \"false_false\"\n",
    "    ])\n",
    "    canonical_kmers = Set{kmer_type}()\n",
    "    graph = MetaGraphs.MetaDiGraph()\n",
    "    MetaGraphs.set_indexing_prop!(graph, :identifier)\n",
    "    for entity in keys(entity_file_map)\n",
    "        # f_type = \"Genome\"\n",
    "        fastx = entity_file_map[entity][\"genome\"]\n",
    "        Graphs.add_vertex!(graph)\n",
    "        fasta_node = Graphs.nv(graph)\n",
    "        # node types are camel case\n",
    "        MetaGraphs.set_prop!(graph, fasta_node, :TYPE, \"Fasta\")\n",
    "        # node and edge properties are lowercase\n",
    "        # add entity identifier as a property that can be queried on\n",
    "        MetaGraphs.set_prop!(graph, fasta_node, :path, fastx)\n",
    "        MetaGraphs.set_prop!(graph, fasta_node, :identifier, entity)\n",
    "        for record in Mycelia.open_fastx(fastx)\n",
    "            Graphs.add_vertex!(graph)\n",
    "            record_node = Graphs.nv(graph)\n",
    "            \n",
    "            MetaGraphs.set_prop!(graph, record_node, :TYPE, \"FastaRecord\")\n",
    "            MetaGraphs.set_prop!(graph, record_node, :identifier, FASTX.identifier(record))\n",
    "            MetaGraphs.set_prop!(graph, record_node, :description, FASTX.description(record))\n",
    "            MetaGraphs.set_prop!(graph, record_node, :sequence, FASTX.sequence(record))\n",
    "            if typeof(FASTX.sequence(record)) == BioSequences.LongDNASeq\n",
    "                sequence_type = \"dna\"\n",
    "            elseif typeof(FASTX.sequence(record)) == BioSequences.LongAminoAcidSeq\n",
    "                sequence_type = \"aa\"\n",
    "            elseif typeof(FASTX.sequence(record)) == BioSequences.LongRNASeq\n",
    "                sequence_type = \"rna\"\n",
    "            end\n",
    "            MetaGraphs.set_prop!(graph, record_node, :sequence_type, sequence_type)\n",
    "            edge = Graphs.Edge(fasta_node, record_node)\n",
    "            Graphs.add_edge!(graph, edge)\n",
    "            # edge types are all caps\n",
    "            MetaGraphs.set_prop!(graph, edge, :TYPE, \"CONTAINS_RECORD\")\n",
    "            # for kmer in collect(BioSequences.each(kmer_type, FASTX.sequence(record)))[1:2^3]\n",
    "            for kmer in BioSequences.each(kmer_type, FASTX.sequence(record))\n",
    "                canonical_kmer = BioSequences.canonical(kmer)\n",
    "                if canonical_kmer in canonical_kmers\n",
    "                    kmer_node = graph[canonical_kmer, :identifier]\n",
    "                else\n",
    "                    push!(canonical_kmers, canonical_kmer)\n",
    "                    Graphs.add_vertex!(graph)\n",
    "                    kmer_node = Graphs.nv(graph)\n",
    "                    MetaGraphs.set_prop!(graph, kmer_node, :TYPE, \"Kmer\")\n",
    "                    MetaGraphs.set_prop!(graph, kmer_node, :identifier, BioSequences.canonical(kmer))\n",
    "                    MetaGraphs.set_prop!(graph, kmer_node, :sequence_type, sequence_type)\n",
    "                end\n",
    "                edge = Graphs.Edge(record_node, kmer_node)\n",
    "                if !Graphs.has_edge(graph, edge)\n",
    "                    Graphs.add_edge!(graph, edge)\n",
    "                    MetaGraphs.set_prop!(graph, edge, :TYPE, \"CONTAINS_KMER\")\n",
    "                    # can't use vectors as properties :(\n",
    "                    MetaGraphs.set_prop!(graph, edge, :count, 0)\n",
    "                    MetaGraphs.set_prop!(graph, edge, Symbol(true), 0)\n",
    "                    MetaGraphs.set_prop!(graph, edge, Symbol(false), 0)\n",
    "                end\n",
    "                is_canonical = Symbol(BioSequences.iscanonical(kmer.fw))\n",
    "                current_count = MetaGraphs.get_prop(graph, edge, is_canonical) + 1\n",
    "                MetaGraphs.set_prop!(graph, edge, is_canonical, current_count)\n",
    "\n",
    "                current_count = MetaGraphs.get_prop(graph, edge, Symbol(true)) + MetaGraphs.get_prop(graph, edge, Symbol(false))\n",
    "                MetaGraphs.set_prop!(graph, edge, :count, current_count)                \n",
    "            end\n",
    "            # for edgemer in collect(BioSequences.each(edgemer_type, FASTX.sequence(record)))[1:2^3-1]\n",
    "            for edgemer in BioSequences.each(edgemer_type, FASTX.sequence(record))\n",
    "                src, canonical_src, src_is_canonical, dst, canonical_dst, dst_is_canonical = assess_edgemer(edgemer.fw)\n",
    "                if canonical_dst < canonical_src\n",
    "                    src, canonical_src, src_is_canonical, dst, canonical_dst, dst_is_canonical = assess_edgemer(edgemer.bw)\n",
    "                end\n",
    "                src_index, dst_index = graph[canonical_src, :identifier], graph[canonical_dst, :identifier]\n",
    "                edge = Graphs.Edge(src_index, dst_index)\n",
    "                if !Graphs.has_edge(graph, edge)\n",
    "                    Graphs.add_edge!(graph, edge)\n",
    "                    MetaGraphs.set_prop!(graph, edge, :TYPE, \"CONNECTS_TO\")\n",
    "                    for o in edge_orientations\n",
    "                        MetaGraphs.set_prop!(graph, edge, o, 0)\n",
    "                    end\n",
    "                    MetaGraphs.set_prop!(graph, edge, :count, 0)\n",
    "                end\n",
    "                orientations = Symbol(\"$(src_is_canonical)_$(dst_is_canonical)\")\n",
    "                current_count = MetaGraphs.get_prop(graph, edge, orientations) + 1\n",
    "                MetaGraphs.set_prop!(graph, edge, orientations, current_count)\n",
    "                \n",
    "                current_count = sum(MetaGraphs.get_prop(graph, edge, o) for o in edge_orientations)\n",
    "                MetaGraphs.set_prop!(graph, edge, :count, current_count) \n",
    "            end\n",
    "        end\n",
    "    end\n",
    "    return graph\n",
    "end"
   ]
  },
  {
   "cell_type": "code",
   "execution_count": null,
   "metadata": {},
   "outputs": [],
   "source": [
    "function upload_node_type_over_url(node_type, graph, ADDRESS, USERNAME, PASSWORD, DATABASE, window_size=100)\n",
    "    node_type_params = Set{Symbol}()\n",
    "    vertices_of_type = [v for v in Graphs.vertices(graph) if (graph.vprops[v][:TYPE] == node_type)]\n",
    "    node_type_params = filter(param -> param != :TYPE, reduce(union, keys(graph.vprops[v]) for v in vertices_of_type))\n",
    "    \n",
    "    V = length(vertices_of_type)\n",
    "    windows = [i:min(i+window_size-1,V) for i in 1:window_size:V]\n",
    "    \n",
    "    ProgressMeter.@showprogress for window in windows\n",
    "        cmds = []\n",
    "        for (i, v) in enumerate(vertices_of_type[window])\n",
    "            params = [\"$(string(param)):'$(MetaGraphs.get_prop(graph, v, param))'\" for param in node_type_params]\n",
    "            joint_params = join(params, \", \")\n",
    "            cmd = \"MERGE (node$(i):$(node_type) {$(joint_params)})\"\n",
    "            push!(cmds, cmd)\n",
    "        end\n",
    "        cmd = join(cmds, ' ')\n",
    "        cypher_cmd = Mycelia.cypher(address = ADDRESS, username = USERNAME, password = PASSWORD, database = DATABASE, cmd = cmd)\n",
    "        run(cypher_cmd)\n",
    "    end    \n",
    "end"
   ]
  },
  {
   "cell_type": "code",
   "execution_count": null,
   "metadata": {},
   "outputs": [],
   "source": [
    "function upload_edge_type_over_url(src_type, dst_type, edge_type, graph, ADDRESS, USERNAME, PASSWORD, DATABASE; window_size=100)    \n",
    "    src_nodes = filter(v -> MetaGraphs.get_prop(graph, v, :TYPE) == src_type, Graphs.vertices(graph))\n",
    "    dst_nodes = filter(v -> MetaGraphs.get_prop(graph, v, :TYPE) == dst_type, Graphs.vertices(graph))\n",
    "    edges_to_upload = []\n",
    "    for src_node in src_nodes\n",
    "        outneighbors = Graphs.outneighbors(graph, src_node)\n",
    "        outneighbors = filter(outneighbor -> outneighbor in dst_nodes, outneighbors)\n",
    "        for outneighbor in outneighbors\n",
    "            this_edge = Graphs.Edge(src_node, outneighbor)\n",
    "            @assert MetaGraphs.get_prop(graph, this_edge, :TYPE) == edge_type\n",
    "            push!(edges_to_upload, this_edge)\n",
    "        end\n",
    "    end\n",
    "    edge_type_params = filter(param -> param != :TYPE, reduce(union, keys(graph.eprops[e]) for e in edges_to_upload))\n",
    "    \n",
    "    N = length(edges_to_upload)\n",
    "    windows = [i:min(i+window_size-1,N) for i in 1:window_size:N]\n",
    "    \n",
    "    ProgressMeter.@showprogress for window in windows\n",
    "        cmds = []\n",
    "        for (i, e) in enumerate(edges_to_upload[window])\n",
    "            params = [\"$(string(param)):'$(MetaGraphs.get_prop(graph, e, param))'\" for param in edge_type_params]\n",
    "            joint_params = join(params, \", \")\n",
    "            node_cmds = \n",
    "            \"\"\"\n",
    "            MERGE (src$(i):$(MetaGraphs.props(graph, e.src)[:TYPE]) {identifier: '$(MetaGraphs.props(graph, e.src)[:identifier])'})\n",
    "            MERGE (dst$(i):$(MetaGraphs.props(graph, e.dst)[:TYPE]) {identifier: '$(MetaGraphs.props(graph, e.dst)[:identifier])'})\n",
    "            \"\"\"\n",
    "            # match_cmds = \n",
    "            # \"\"\"\n",
    "            # MATCH \n",
    "            #     (src$(i):$(MetaGraphs.props(graph, e.src)[:TYPE]) {identifier: '$(MetaGraphs.props(graph, e.src)[:identifier])'}),\n",
    "            #     (dst$(i):$(MetaGraphs.props(graph, e.dst)[:TYPE]) {identifier: '$(MetaGraphs.props(graph, e.dst)[:identifier])'})\n",
    "            # \"\"\"\n",
    "            if !isempty(joint_params)\n",
    "                relationship_cmd = \"MERGE (src$(i))-[r$(i):$(MetaGraphs.props(graph, e)[:TYPE]) {$(joint_params)}]->(dst$(i))\"\n",
    "            else\n",
    "                relationship_cmd = \"MERGE (src$(i))-[r$(i):$(MetaGraphs.props(graph, e)[:TYPE])]->(dst$(i))\"\n",
    "            end\n",
    "            cmd = node_cmds * relationship_cmd\n",
    "            cmd = replace(cmd, '\\n' => ' ')\n",
    "            push!(cmds, cmd)\n",
    "        end\n",
    "        cmd = join(cmds, ' ')\n",
    "        cypher_cmd = Mycelia.cypher(address = ADDRESS, username = USERNAME, password = PASSWORD, database = DATABASE, cmd = cmd)\n",
    "        run(cypher_cmd)\n",
    "        # println(cypher_cmd)\n",
    "    end    \n",
    "end"
   ]
  },
  {
   "cell_type": "code",
   "execution_count": null,
   "metadata": {},
   "outputs": [],
   "source": [
    "# https://www.ncbi.nlm.nih.gov/Taxonomy/Browser/wwwtax.cgi?&id=$(tax_id)\n",
    "# https://www.ncbi.nlm.nih.gov/Taxonomy/Browser/wwwtax.cgi?lvl=0&amp;id=2733124\n",
    "# root_tax_id = 2733124\n",
    "\n",
    "root_tax_id = 10663\n",
    "host = \"Escherichia\"\n",
    "database_id = \"191a822b\""
   ]
  },
  {
   "cell_type": "code",
   "execution_count": null,
   "metadata": {},
   "outputs": [],
   "source": [
    "child_tax_ids = vcat(Mycelia.taxonomic_id_to_children(root_tax_id), root_tax_id)"
   ]
  },
  {
   "cell_type": "code",
   "execution_count": null,
   "metadata": {},
   "outputs": [],
   "source": [
    "# TODO\n",
    "# here is where we should apply a filter where host == Escherichia\n",
    "# need to load host information into neo4j taxonomy"
   ]
  },
  {
   "cell_type": "code",
   "execution_count": null,
   "metadata": {},
   "outputs": [],
   "source": [
    "# refseq_metadata = Mycelia.load_refseq_metadata()\n",
    "ncbi_metadata = Mycelia.load_genbank_metadata()"
   ]
  },
  {
   "cell_type": "code",
   "execution_count": null,
   "metadata": {},
   "outputs": [],
   "source": [
    "show(ncbi_metadata[1:1, :], allcols=true)"
   ]
  },
  {
   "cell_type": "code",
   "execution_count": null,
   "metadata": {},
   "outputs": [],
   "source": [
    "tax_id_filter = map(taxid -> taxid in child_tax_ids, ncbi_metadata[!, \"taxid\"])\n",
    "is_right_host = map(x -> occursin(Regex(host, \"i\"), x), ncbi_metadata[!, \"organism_name\"])\n",
    "not_excluded = ncbi_metadata[!, \"excluded_from_refseq\"] .== \"\"\n",
    "is_full = ncbi_metadata[!, \"genome_rep\"] .== \"Full\"\n",
    "# assembly_levels = [\"Complete Genome\"]\n",
    "assembly_levels = [\"Complete Genome\", \"Chromosome\"]\n",
    "# assembly_levels = [\"Complete Genome\", \"Chromosome\", \"Scaffold\"]\n",
    "# assembly_levels = [\"Complete Genome\", \"Chromosome\", \"Scaffold\", \"Contig\"]\n",
    "assembly_level_filter = map(x -> x in assembly_levels, ncbi_metadata[!, \"assembly_level\"])\n",
    "full_filter = is_full .& not_excluded .& assembly_level_filter .& tax_id_filter .& is_right_host\n",
    "count(full_filter)"
   ]
  },
  {
   "cell_type": "code",
   "execution_count": null,
   "metadata": {},
   "outputs": [],
   "source": [
    "# TODO\n",
    "# here is another place we could enforce host == escherichia\n",
    "# we'll use a manual filter as a temporary solution"
   ]
  },
  {
   "cell_type": "code",
   "execution_count": null,
   "metadata": {},
   "outputs": [],
   "source": [
    "ncbi_metadata_of_interest[!, \"ftp_path\"]"
   ]
  },
  {
   "cell_type": "code",
   "execution_count": null,
   "metadata": {},
   "outputs": [],
   "source": [
    "ncbi_metadata_of_interest = ncbi_metadata[full_filter, :]"
   ]
  },
  {
   "cell_type": "code",
   "execution_count": null,
   "metadata": {},
   "outputs": [],
   "source": [
    "# https://www.ncbi.nlm.nih.gov/sviewer/viewer.cgi?db=nuccore&report=genbank&id=GCA_021354775"
   ]
  },
  {
   "cell_type": "code",
   "execution_count": null,
   "metadata": {},
   "outputs": [],
   "source": [
    "# for col in names(ncbi_metadata_of_interest)\n",
    "#     @show col, ncbi_metadata_of_interest[1, col]\n",
    "# end"
   ]
  },
  {
   "cell_type": "code",
   "execution_count": null,
   "metadata": {},
   "outputs": [],
   "source": [
    "N_FASTAS = 2"
   ]
  },
  {
   "cell_type": "code",
   "execution_count": null,
   "metadata": {},
   "outputs": [],
   "source": [
    "entity_file_maps"
   ]
  },
  {
   "cell_type": "code",
   "execution_count": null,
   "metadata": {},
   "outputs": [],
   "source": [
    "entity_file_maps = Dict()\n",
    "ProgressMeter.@showprogress for row in DataFrames.eachrow(ncbi_metadata_of_interest[1:N_FASTAS, :])\n",
    "    entity_id = row[\"# assembly_accession\"]\n",
    "    entity_file_maps[entity_id] = Dict()\n",
    "    # generally will want genome + GFF || genbank\n",
    "    # everything else can be derived from these inputs\n",
    "    for (file_type, extension) in [\n",
    "            \"genome\" => \"genomic.fna.gz\",\n",
    "            \"annotations\" => \"genomic.gff.gz\",\n",
    "            \"genbank\" => \"genomic.gbff.gz\",\n",
    "            # \"proteins\" => \"protein.faa.gz\",\n",
    "        ]\n",
    "        outdir = mkpath(joinpath(DIR, extension))\n",
    "        url = Mycelia.ncbi_ftp_path_to_url(row[\"ftp_path\"], extension)\n",
    "        outfile = joinpath(outdir, basename(url))\n",
    "        if !isfile(outfile)\n",
    "            try\n",
    "                Downloads.download(url, outfile)\n",
    "            catch e\n",
    "                showerror(stdout, e)\n",
    "            end\n",
    "        end\n",
    "        if isfile(outfile)\n",
    "            entity_file_maps[entity_id][file_type] = outfile\n",
    "        end\n",
    "    end\n",
    "end\n",
    "entity_file_maps"
   ]
  },
  {
   "cell_type": "code",
   "execution_count": null,
   "metadata": {},
   "outputs": [],
   "source": [
    "# graph = Mycelia.fastx_to_kmer_graph(BioSequences.BigDNAMer{kmer_size}, fastx_files)"
   ]
  },
  {
   "cell_type": "code",
   "execution_count": null,
   "metadata": {},
   "outputs": [],
   "source": [
    "# use basename of files as identifiers"
   ]
  },
  {
   "cell_type": "code",
   "execution_count": null,
   "metadata": {},
   "outputs": [],
   "source": [
    "# kmer_size = Mycelia.assess_dnamer_saturation(fastx_files)\n",
    "kmer_size = 7"
   ]
  },
  {
   "cell_type": "code",
   "execution_count": null,
   "metadata": {},
   "outputs": [],
   "source": [
    "@time graph = fastx_to_metagraph(kmer_size, entity_file_maps)"
   ]
  },
  {
   "cell_type": "code",
   "execution_count": null,
   "metadata": {},
   "outputs": [],
   "source": [
    "graph_outfile = \"$DIR/root-tax-id_$(root_tax_id).k_$(kmer_size).genome-graph\"\n",
    "# Mycelia.save_graph(graph, graph_outfile)\n",
    "# Mycelia.graph_to_gfa(graph, graph_outfile * \".gfa\")\n",
    "# Mycelia.load_graph(graph_outfile)"
   ]
  },
  {
   "cell_type": "code",
   "execution_count": null,
   "metadata": {},
   "outputs": [],
   "source": [
    "NEO4J_BIN_DIR = \"/home/jupyter-cjprybol/software/neo4j-community-4.4.3/bin\"\n",
    "if !occursin(NEO4J_BIN_DIR, ENV[\"PATH\"])\n",
    "    ENV[\"PATH\"] = \"$(NEO4J_BIN_DIR):\" * ENV[\"PATH\"]\n",
    "end\n",
    "USERNAME=\"neo4j\"\n",
    "PASSWORD=readline(joinpath(homedir(), \".config\", \"neo4j\", \"$(database_id).pass\"));\n",
    "ADDRESS=\"neo4j+s://$(database_id).databases.neo4j.io:7687\"\n",
    "DATABASE = \"neo4j\""
   ]
  },
  {
   "cell_type": "code",
   "execution_count": null,
   "metadata": {},
   "outputs": [],
   "source": [
    "cmd = \"CREATE CONSTRAINT ON (k:Kmer) ASSERT k.identifier IS UNIQUE\"\n",
    "@time Mycelia.cypher(address = ADDRESS, username = USERNAME, password = PASSWORD, database = DATABASE, cmd = cmd);"
   ]
  },
  {
   "cell_type": "code",
   "execution_count": null,
   "metadata": {},
   "outputs": [],
   "source": [
    "node_types = unique(graph.vprops[v][:TYPE] for v in Graphs.vertices(graph))"
   ]
  },
  {
   "cell_type": "code",
   "execution_count": null,
   "metadata": {},
   "outputs": [],
   "source": [
    "# initialize graph"
   ]
  },
  {
   "cell_type": "code",
   "execution_count": null,
   "metadata": {},
   "outputs": [],
   "source": [
    "# add fasta records to graph"
   ]
  },
  {
   "cell_type": "code",
   "execution_count": null,
   "metadata": {},
   "outputs": [],
   "source": [
    "# add fasta records to Neo4J\n",
    "# add over URL"
   ]
  },
  {
   "cell_type": "code",
   "execution_count": null,
   "metadata": {},
   "outputs": [],
   "source": [
    "upload_node_type_over_url(\"Fasta\", graph, ADDRESS, USERNAME, PASSWORD, DATABASE)"
   ]
  },
  {
   "cell_type": "code",
   "execution_count": null,
   "metadata": {},
   "outputs": [],
   "source": [
    "# add fasta records to graph"
   ]
  },
  {
   "cell_type": "code",
   "execution_count": null,
   "metadata": {},
   "outputs": [],
   "source": [
    "# add fasta records to Neo4J\n",
    "# batch file upload"
   ]
  },
  {
   "cell_type": "code",
   "execution_count": null,
   "metadata": {},
   "outputs": [],
   "source": [
    "function upload_node_type_over_read_csv(node_type, graph, ADDRESS, USERNAME, PASSWORD, DATABASE, window_size=1)\n",
    "        \n",
    "    node_type_params = Set{Symbol}()\n",
    "    vertices_of_type = [v for v in Graphs.vertices(graph) if (graph.vprops[v][:TYPE] == node_type)]\n",
    "    node_type_params = filter(param -> param != :TYPE, reduce(union, keys(graph.vprops[v]) for v in vertices_of_type))\n",
    "    \n",
    "    V = length(vertices_of_type)\n",
    "    windows = [i:min(i+window_size-1,V) for i in 1:window_size:V]\n",
    "    \n",
    "    temp_upload_dir = mkpath(joinpath(DIR, \"temp_upload\"))\n",
    "    \n",
    "    ProgressMeter.@showprogress for window in windows\n",
    "        for (i, v) in enumerate(vertices_of_type[window])\n",
    "\n",
    "            f = \"node$v.tsv\"\n",
    "            local_f_path = \"$(temp_upload_dir)/$(f)\"\n",
    "            uCSV.write(local_f_path, DataFrames.DataFrame(MetaGraphs.props(graph, v)), delim='\\t')\n",
    "            \n",
    "            remote_f_path = \"gs://neo4j-upload/$(f)\"\n",
    "            run(`gsutil cp $(local_f_path) $(remote_f_path)`)\n",
    "            # gcloud iam service-accounts keys create ~/.config/gcloud/url-signer-key.json --iam-account=\"928365250020-compute@developer.gserviceaccount.com\"\n",
    "            signer_credential_path = \"$(homedir())/.config/gcloud/url-signer-key.json\"\n",
    "            sign_url_cmd = `gsutil signurl $(signer_credential_path) $(remote_f_path)`\n",
    "            signed_url_table = DataFrames.DataFrame(uCSV.read(open(sign_url_cmd), header=1, delim='\\t')...)\n",
    "            signed_url = signed_url_table[1, \"Signed URL\"]\n",
    "            parameters = [\"$(p): row.$(p)\" for p in filter(x -> x != :TYPE, keys(MetaGraphs.props(graph, v)))]\n",
    "            parameters = \"{\" * join(parameters, \", \") * \"}\"\n",
    "\n",
    "            cmd =\n",
    "            \"\"\"\n",
    "            LOAD CSV WITH HEADERS FROM '$(signed_url)' AS row FIELDTERMINATOR '\\t'\n",
    "            MERGE (node:$(node_type) $(parameters))\n",
    "            \"\"\"\n",
    "\n",
    "            cmd = rstrip(replace(cmd, '\\n' => ' '))\n",
    "            cypher_cmd = Mycelia.cypher(address = ADDRESS, username = USERNAME, password = PASSWORD, database = DATABASE, cmd = cmd)\n",
    "            run(cypher_cmd)            \n",
    "        end\n",
    "    end    \n",
    "end"
   ]
  },
  {
   "cell_type": "code",
   "execution_count": null,
   "metadata": {},
   "outputs": [],
   "source": [
    "upload_node_type_over_read_csv(\"FastaRecord\", graph, ADDRESS, USERNAME, PASSWORD, DATABASE)"
   ]
  },
  {
   "cell_type": "code",
   "execution_count": null,
   "metadata": {},
   "outputs": [],
   "source": [
    "src_type = \"Fasta\"\n",
    "dst_type = \"FastaRecord\"\n",
    "edge_type = \"CONTAINS_RECORD\""
   ]
  },
  {
   "cell_type": "code",
   "execution_count": null,
   "metadata": {},
   "outputs": [],
   "source": [
    "upload_edge_type_over_url(src_type, dst_type, edge_type, graph, ADDRESS, USERNAME, PASSWORD, DATABASE, window_size=10)"
   ]
  },
  {
   "cell_type": "code",
   "execution_count": null,
   "metadata": {},
   "outputs": [],
   "source": [
    "# add kmers to graph"
   ]
  },
  {
   "cell_type": "code",
   "execution_count": null,
   "metadata": {},
   "outputs": [],
   "source": [
    "# add kmers to Neo4J\n",
    "# add over URL"
   ]
  },
  {
   "cell_type": "code",
   "execution_count": null,
   "metadata": {},
   "outputs": [],
   "source": [
    "upload_node_type_over_url(\"Kmer\", graph, ADDRESS, USERNAME, PASSWORD, DATABASE)"
   ]
  },
  {
   "cell_type": "code",
   "execution_count": null,
   "metadata": {},
   "outputs": [],
   "source": [
    "# add edges from records to kmers"
   ]
  },
  {
   "cell_type": "code",
   "execution_count": null,
   "metadata": {},
   "outputs": [],
   "source": [
    "src_type = \"FastaRecord\"\n",
    "dst_type = \"Kmer\"\n",
    "edge_type = \"CONTAINS_KMER\"\n",
    "upload_edge_type_over_url(src_type, dst_type, edge_type, graph, ADDRESS, USERNAME, PASSWORD, DATABASE)"
   ]
  },
  {
   "cell_type": "code",
   "execution_count": null,
   "metadata": {},
   "outputs": [],
   "source": [
    "# upload to Neo4j"
   ]
  },
  {
   "cell_type": "code",
   "execution_count": null,
   "metadata": {},
   "outputs": [],
   "source": [
    "# Kmer to Kmer connections"
   ]
  },
  {
   "cell_type": "code",
   "execution_count": null,
   "metadata": {},
   "outputs": [],
   "source": [
    "# on merge with these Kmer to Kmer connections we'll need to increment the counts!\n",
    "# any time we increase the number of genomes, the values will become out of date\n",
    "src_type = \"Kmer\"\n",
    "dst_type = \"Kmer\"\n",
    "edge_type = \"CONNECTS_TO\"\n",
    "upload_edge_type_over_url(src_type, dst_type, edge_type, graph, ADDRESS, USERNAME, PASSWORD, DATABASE)"
   ]
  },
  {
   "cell_type": "code",
   "execution_count": null,
   "metadata": {},
   "outputs": [],
   "source": [
    "# get the full list of kmers under the fasta of interest"
   ]
  },
  {
   "cell_type": "code",
   "execution_count": null,
   "metadata": {},
   "outputs": [],
   "source": [
    "# for each kmer, count the number of incoming \"CONTAINS_KMER\" edges"
   ]
  },
  {
   "cell_type": "code",
   "execution_count": null,
   "metadata": {},
   "outputs": [],
   "source": [
    "# divide by max count"
   ]
  },
  {
   "cell_type": "code",
   "execution_count": null,
   "metadata": {},
   "outputs": [],
   "source": [
    "# pull in annotations!!!"
   ]
  },
  {
   "cell_type": "code",
   "execution_count": null,
   "metadata": {},
   "outputs": [],
   "source": [
    "ncbi_metadata_of_interest"
   ]
  },
  {
   "cell_type": "code",
   "execution_count": null,
   "metadata": {},
   "outputs": [],
   "source": [
    "entity_metadata_table = ncbi_metadata_of_interest"
   ]
  },
  {
   "cell_type": "code",
   "execution_count": null,
   "metadata": {},
   "outputs": [],
   "source": [
    "entity_metadata_table = DataFrames.rename(entity_metadata_table, \"# assembly_accession\" => \"identifier\")"
   ]
  },
  {
   "cell_type": "code",
   "execution_count": null,
   "metadata": {},
   "outputs": [],
   "source": [
    "entity_metadata_table[!, \"TYPE\"] .= \"Entity\""
   ]
  },
  {
   "cell_type": "code",
   "execution_count": null,
   "metadata": {},
   "outputs": [],
   "source": [
    "entity_metadata_table"
   ]
  },
  {
   "cell_type": "code",
   "execution_count": null,
   "metadata": {},
   "outputs": [],
   "source": [
    "show(entity_metadata_table[1:1, :], allcols=true)"
   ]
  },
  {
   "cell_type": "code",
   "execution_count": null,
   "metadata": {},
   "outputs": [],
   "source": [
    "graph.indices"
   ]
  },
  {
   "cell_type": "code",
   "execution_count": null,
   "metadata": {},
   "outputs": [],
   "source": [
    "keys(graph.metaindex[:identifier])"
   ]
  },
  {
   "cell_type": "code",
   "execution_count": null,
   "metadata": {},
   "outputs": [],
   "source": [
    "function has_identifier(graph, identifier)\n",
    "    return identifier in keys(graph.metaindex[:identifier])\n",
    "end"
   ]
  },
  {
   "cell_type": "code",
   "execution_count": null,
   "metadata": {},
   "outputs": [],
   "source": [
    "for row in DataFrames.eachrow(entity_metadata_table)\n",
    "    identifier = row[\"identifier\"]\n",
    "    @show has_identifier(graph, identifier)\n",
    "    if !has_identifier(graph, identifier)\n",
    "        Graphs.add_vertex!(graph)\n",
    "        vertex = Graphs.nv(graph)\n",
    "    else\n",
    "        vertex = graph[]\n",
    "    end\n",
    "    @show vertex\n",
    "    for col in names(row)\n",
    "        if !MetaGraphs.has_prop(graph, vertex, Symbol(col))\n",
    "            MetaGraphs.set_prop!(graph, vertex, Symbol(col), row[col])\n",
    "        else\n",
    "            current_value = MetaGraphs.get_prop(graph, vertex, Symbol(col))\n",
    "            if current_value != row[col]\n",
    "                @warn \"property $(col)'s current value $(current_value) != this value $(row[col])\"\n",
    "            end\n",
    "        end\n",
    "    end\n",
    "    @show MetaGraphs.props(graph, vertex)\n",
    "end"
   ]
  },
  {
   "cell_type": "code",
   "execution_count": null,
   "metadata": {
    "tags": []
   },
   "outputs": [],
   "source": [
    "\n",
    "    for entity in keys(entity_file_map)\n",
    "        # f_type = \"Genome\"\n",
    "        fastx = entity_file_map[entity][\"genome\"]\n",
    "        Graphs.add_vertex!(graph)\n",
    "        fasta_node = Graphs.nv(graph)\n",
    "        # node types are camel case\n",
    "        MetaGraphs.set_prop!(graph, fasta_node, :TYPE, \"Fasta\")\n",
    "        # node and edge properties are lowercase\n",
    "        # add entity identifier as a property that can be queried on\n",
    "        MetaGraphs.set_prop!(graph, fasta_node, :path, fastx)\n",
    "        MetaGraphs.set_prop!(graph, fasta_node, :identifier, entity)\n",
    "        for record in Mycelia.open_fastx(fastx)\n",
    "            Graphs.add_vertex!(graph)\n",
    "            record_node = Graphs.nv(graph)\n",
    "            \n",
    "            MetaGraphs.set_prop!(graph, record_node, :TYPE, \"FastaRecord\")\n",
    "            MetaGraphs.set_prop!(graph, record_node, :identifier, FASTX.identifier(record))\n",
    "            MetaGraphs.set_prop!(graph, record_node, :description, FASTX.description(record))\n",
    "            MetaGraphs.set_prop!(graph, record_node, :sequence, FASTX.sequence(record))\n",
    "            if typeof(FASTX.sequence(record)) == BioSequences.LongDNASeq\n",
    "                sequence_type = \"dna\"\n",
    "            elseif typeof(FASTX.sequence(record)) == BioSequences.LongAminoAcidSeq\n",
    "                sequence_type = \"aa\"\n",
    "            elseif typeof(FASTX.sequence(record)) == BioSequences.LongRNASeq\n",
    "                sequence_type = \"rna\"\n",
    "            end\n",
    "            MetaGraphs.set_prop!(graph, record_node, :sequence_type, sequence_type)\n",
    "            edge = Graphs.Edge(fasta_node, record_node)\n",
    "            Graphs.add_edge!(graph, edge)\n",
    "            # edge types are all caps\n",
    "            MetaGraphs.set_prop!(graph, edge, :TYPE, \"CONTAINS_RECORD\")\n",
    "            # for kmer in collect(BioSequences.each(kmer_type, FASTX.sequence(record)))[1:2^3]\n",
    "            for kmer in BioSequences.each(kmer_type, FASTX.sequence(record))\n",
    "                canonical_kmer = BioSequences.canonical(kmer)\n",
    "                if canonical_kmer in canonical_kmers\n",
    "                    kmer_node = graph[canonical_kmer, :identifier]\n",
    "                else\n",
    "                    push!(canonical_kmers, canonical_kmer)\n",
    "                    Graphs.add_vertex!(graph)\n",
    "                    kmer_node = Graphs.nv(graph)\n",
    "                    MetaGraphs.set_prop!(graph, kmer_node, :TYPE, \"Kmer\")\n",
    "                    MetaGraphs.set_prop!(graph, kmer_node, :identifier, BioSequences.canonical(kmer))\n",
    "                    MetaGraphs.set_prop!(graph, kmer_node, :sequence_type, sequence_type)\n",
    "                end\n",
    "                edge = Graphs.Edge(record_node, kmer_node)\n",
    "                if !Graphs.has_edge(graph, edge)\n",
    "                    Graphs.add_edge!(graph, edge)\n",
    "                    MetaGraphs.set_prop!(graph, edge, :TYPE, \"CONTAINS_KMER\")\n",
    "                    # can't use vectors as properties :(\n",
    "                    MetaGraphs.set_prop!(graph, edge, :count, 0)\n",
    "                    MetaGraphs.set_prop!(graph, edge, Symbol(true), 0)\n",
    "                    MetaGraphs.set_prop!(graph, edge, Symbol(false), 0)\n",
    "                end\n",
    "                is_canonical = Symbol(BioSequences.iscanonical(kmer.fw))\n",
    "                current_count = MetaGraphs.get_prop(graph, edge, is_canonical) + 1\n",
    "                MetaGraphs.set_prop!(graph, edge, is_canonical, current_count)\n",
    "\n",
    "                current_count = MetaGraphs.get_prop(graph, edge, Symbol(true)) + MetaGraphs.get_prop(graph, edge, Symbol(false))\n",
    "                MetaGraphs.set_prop!(graph, edge, :count, current_count)                \n",
    "            end\n",
    "            # for edgemer in collect(BioSequences.each(edgemer_type, FASTX.sequence(record)))[1:2^3-1]\n",
    "            for edgemer in BioSequences.each(edgemer_type, FASTX.sequence(record))\n",
    "                src, canonical_src, src_is_canonical, dst, canonical_dst, dst_is_canonical = assess_edgemer(edgemer.fw)\n",
    "                if canonical_dst < canonical_src\n",
    "                    src, canonical_src, src_is_canonical, dst, canonical_dst, dst_is_canonical = assess_edgemer(edgemer.bw)\n",
    "                end\n",
    "                src_index, dst_index = graph[canonical_src, :identifier], graph[canonical_dst, :identifier]\n",
    "                edge = Graphs.Edge(src_index, dst_index)\n",
    "                if !Graphs.has_edge(graph, edge)\n",
    "                    Graphs.add_edge!(graph, edge)\n",
    "                    MetaGraphs.set_prop!(graph, edge, :TYPE, \"CONNECTS_TO\")\n",
    "                    for o in edge_orientations\n",
    "                        MetaGraphs.set_prop!(graph, edge, o, 0)\n",
    "                    end\n",
    "                    MetaGraphs.set_prop!(graph, edge, :count, 0)\n",
    "                end\n",
    "                orientations = Symbol(\"$(src_is_canonical)_$(dst_is_canonical)\")\n",
    "                current_count = MetaGraphs.get_prop(graph, edge, orientations) + 1\n",
    "                MetaGraphs.set_prop!(graph, edge, orientations, current_count)\n",
    "                \n",
    "                current_count = sum(MetaGraphs.get_prop(graph, edge, o) for o in edge_orientations)\n",
    "                MetaGraphs.set_prop!(graph, edge, :count, current_count) \n",
    "            end\n",
    "        end\n",
    "    end\n",
    "    return graph\n",
    "end"
   ]
  }
 ],
 "metadata": {
  "kernelspec": {
   "display_name": "Julia 1.6.3",
   "language": "julia",
   "name": "julia-1.6"
  },
  "language_info": {
   "file_extension": ".jl",
   "mimetype": "application/julia",
   "name": "julia",
   "version": "1.6.3"
  }
 },
 "nbformat": 4,
 "nbformat_minor": 4
}
