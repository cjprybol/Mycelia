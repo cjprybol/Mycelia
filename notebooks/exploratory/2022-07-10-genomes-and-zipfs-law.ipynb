{
 "cells": [
  {
   "cell_type": "markdown",
   "metadata": {},
   "source": [
    "---\n",
    "layout: post  \n",
    "\n",
    "---"
   ]
  },
  {
   "cell_type": "markdown",
   "metadata": {},
   "source": [
    "In the [previous post](/norwalk-virus-kmer-distributions.html) we looked at the kmer distribution profile of a single genome and how the relative frequency of kmers and the number of kmers at each frequency follows a log-log linear pattern. In the paper [Mantegna, R. N., Buldyrev, S. V., Goldberger, A. L., Havlin, S., Peng, C. K., Simons, M., & Stanley, H. E. (1994). Linguistic Features of Noncoding DNA Sequences. Physical Review Letters, 73(23), 3169–3172. doi:10.1103/physrevlett.73.3169 ](https://sci-hub.tw/10.1103/PhysRevLett.73.3169) it was shown that genomes, and specifically the non-coding regions of genomes, follow another log-log frequency distribution known as zipf's law that is common to most (all?) human languages with grammatical structure.\n",
    "\n",
    "![](https://upload.wikimedia.org/wikipedia/commons/thumb/a/ac/Zipf_30wiki_en_labels.png/2560px-Zipf_30wiki_en_labels.png).\n",
    "\n",
    "The compelling idea here is that even though we don't currently understand what most non-coding DNA elements in genomes are doing in any sort of predictable or understandable way, there may yet be a predictable, rule based grammar that we can discover and begin to understand."
   ]
  },
  {
   "cell_type": "markdown",
   "metadata": {},
   "source": [
    "# do this with other big genomes"
   ]
  },
  {
   "cell_type": "markdown",
   "metadata": {},
   "source": [
    "```bash\n",
    "FASTA=GCF_000868425.1_ViralProj17577_genomic.fna\n",
    "K_RANGE=\"3 5 7\"\n",
    "parallel Eisenia\\ stream-kmers\\ --k\\ \\{1\\}\\ --fasta\\ $FASTA.gz\\ \\|\\ LC_ALL=C\\ sort\\ --temporary-directory\\ \\.\\ --compress-program\\ gzip \\|\\ uniq\\ --count\\ \\| gzip\\ \\>\\ $FASTA.K\\{1\\}.counts.gz ::: $K_RANGE\n",
    "parallel Eisenia\\ plot\\ rank-frequency\\ --kmer-counts\\ $FASTA.K\\{1\\}.counts.gz ::: $K_RANGE\n",
    "mv $FASTA.K*.counts.png ../../assets/images/\n",
    "```\n",
    "![](../assets/images/GCF_000868425.1_ViralProj17577_genomic.fna.K3.counts.png)\n",
    "![](../assets/images/GCF_000868425.1_ViralProj17577_genomic.fna.K5.counts.png)\n",
    "![](../assets/images/GCF_000868425.1_ViralProj17577_genomic.fna.K7.counts.png)"
   ]
  }
 ],
 "metadata": {
  "kernelspec": {
   "display_name": "Julia 1.5.3",
   "language": "julia",
   "name": "julia-1.5"
  },
  "language_info": {
   "file_extension": ".jl",
   "mimetype": "application/julia",
   "name": "julia",
   "version": "1.5.3"
  }
 },
 "nbformat": 4,
 "nbformat_minor": 4
}
