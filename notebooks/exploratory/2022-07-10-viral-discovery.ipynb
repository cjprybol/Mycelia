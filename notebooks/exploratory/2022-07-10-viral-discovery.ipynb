{
 "cells": [
  {
   "cell_type": "markdown",
   "id": "a0c1775c",
   "metadata": {},
   "source": [
    "---\n",
    "layout: post  \n",
    "---"
   ]
  },
  {
   "cell_type": "markdown",
   "id": "47d299ad",
   "metadata": {},
   "source": [
    "# Title\n",
    "\n",
    "\"What is this paper called and who wrote it? – the first page of the paper; this includes the name of the paper, a “running head”, authors, and institutional affiliation of the authors.  The institutional affiliation is usually listed in an Author Note that is placed towards the bottom of the title page.  In some cases, the Author Note also contains an acknowledgment of any funding support and of any individuals that assisted with the research project.\" - [APA Guide](https://psychology.ucsd.edu/undergraduate-program/undergraduate-resources/academic-writing-resources/writing-research-papers/research-paper-structure.html)"
   ]
  },
  {
   "cell_type": "markdown",
   "id": "29c756ba-3b81-46f1-b11e-bec2737289e2",
   "metadata": {},
   "source": [
    "## Abstract\n",
    "\n",
    "\"One-paragraph summary of the entire study – typically no more than 250 words in length (and in many cases it is well shorter than that), the Abstract provides an overview of the study.\" - [APA Guide](https://psychology.ucsd.edu/undergraduate-program/undergraduate-resources/academic-writing-resources/writing-research-papers/research-paper-structure.html)"
   ]
  },
  {
   "cell_type": "markdown",
   "id": "1856d68d-2d43-4614-a1c9-a5c4074dd54d",
   "metadata": {},
   "source": [
    "## Introduction\n",
    "\n",
    "\"What is the topic and why is it worth studying? – the first major section of text in the paper, the Introduction commonly describes the topic under investigation, summarizes or discusses relevant prior research (for related details, please see the Writing Literature Reviews section of this website), identifies unresolved issues that the current research will address, and provides an overview of the research that is to be described in greater detail in the sections to follow.\" - [APA Guide](https://psychology.ucsd.edu/undergraduate-program/undergraduate-resources/academic-writing-resources/writing-research-papers/research-paper-structure.html)"
   ]
  },
  {
   "cell_type": "markdown",
   "id": "d745973b-948a-40cc-be25-0699c8a8ccf0",
   "metadata": {},
   "source": [
    "## Methods\n",
    "\n",
    "\"What did you do? – a section which details how the research was performed.  It typically features a description of the participants/subjects that were involved, the study design, the materials that were used, and the study procedure.  If there were multiple experiments, then each experiment may require a separate Methods section.  A rule of thumb is that the Methods section should be sufficiently detailed for another researcher to duplicate your research.\" - [APA Guide](https://psychology.ucsd.edu/undergraduate-program/undergraduate-resources/academic-writing-resources/writing-research-papers/research-paper-structure.html)"
   ]
  },
  {
   "cell_type": "markdown",
   "id": "e092cb4e-a0ab-4866-a1c1-f31ae8e9e308",
   "metadata": {},
   "source": [
    "## Results\n",
    "\n",
    "\"What did you find? – a section which describes the data that was collected and the results of any statistical tests that were performed.  It may also be prefaced by a description of the analysis procedure that was used. If there were multiple experiments, then each experiment may require a separate Results section.\" - [APA Guide](https://psychology.ucsd.edu/undergraduate-program/undergraduate-resources/academic-writing-resources/writing-research-papers/research-paper-structure.html)"
   ]
  },
  {
   "cell_type": "markdown",
   "id": "8c78f15b-acb8-4312-9788-1198b27b9b7c",
   "metadata": {},
   "source": [
    "## Discussion\n",
    "\n",
    "\"What is the significance of your results? – the final major section of text in the paper.  The Discussion commonly features a summary of the results that were obtained in the study, describes how those results address the topic under investigation and/or the issues that the research was designed to address, and may expand upon the implications of those findings.  Limitations and directions for future research are also commonly addressed.\" - [APA Guide](https://psychology.ucsd.edu/undergraduate-program/undergraduate-resources/academic-writing-resources/writing-research-papers/research-paper-structure.html)"
   ]
  },
  {
   "cell_type": "markdown",
   "id": "eb3723e3",
   "metadata": {},
   "source": [
    "## References\n",
    "\n",
    "\"List of articles and any books cited – an alphabetized list of the sources that are cited in the paper (by last name of the first author of each source).  Each reference should follow specific APA guidelines regarding author names, dates, article titles, journal titles, journal volume numbers, page numbers, book publishers, publisher locations, websites, and so on (for more information, please see the Citing References in APA Style page of this website).\" - [APA Guide](https://psychology.ucsd.edu/undergraduate-program/undergraduate-resources/academic-writing-resources/writing-research-papers/research-paper-structure.html)"
   ]
  },
  {
   "cell_type": "markdown",
   "id": "77969d35",
   "metadata": {},
   "source": [
    "## Supplementary Data and Figures"
   ]
  }
 ],
 "metadata": {
  "kernelspec": {
   "display_name": "Julia 1.7.3",
   "language": "julia",
   "name": "julia-1.7"
  },
  "language_info": {
   "name": ""
  }
 },
 "nbformat": 4,
 "nbformat_minor": 5
}
