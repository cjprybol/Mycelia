{
 "cells": [
  {
   "cell_type": "markdown",
   "metadata": {},
   "source": [
    "---\n",
    "layout: post  \n",
    "---"
   ]
  },
  {
   "cell_type": "markdown",
   "metadata": {},
   "source": [
    "When performing kmer-based analyses, the choice of k is a critical."
   ]
  },
  {
   "cell_type": "markdown",
   "metadata": {},
   "source": [
    "When setting the lower k-limit, the key parameter that I'm interested in is the error rate."
   ]
  },
  {
   "cell_type": "markdown",
   "metadata": {},
   "source": [
    "If the accuracy of a sequencer is 90%, then we expect to see an error for every 1 in 10 bases."
   ]
  },
  {
   "cell_type": "markdown",
   "metadata": {},
   "source": [
    "While the actual error process is a [Poisson distribution](https://en.wikipedia.org/wiki/Poisson_distribution), if we assume the simplest possible scenario that errors are evenly spaced and thus a 90% accuracy guarantees that an error occurs every 10th base, we would expect that every intervening 9 base-pairs would be correct."
   ]
  },
  {
   "cell_type": "markdown",
   "metadata": {},
   "source": [
    "We can use these accurate 9mers as our kmers."
   ]
  },
  {
   "cell_type": "markdown",
   "metadata": {},
   "source": [
    "If we sequence deeply enough to ensure that we have high redundancy of sample coverage, we can use the count information of the kmers to infer which kmers are likely to be correct[^1] and which are likely to erroneous[^2]\n",
    "\n",
    "[^1]: Those that appear most frequently\n",
    "[^2]: Those that appear least frequently, potentially only once"
   ]
  },
  {
   "cell_type": "markdown",
   "metadata": {},
   "source": [
    "If we know our sequencing platform is no better than random, and makes an error 50% of the time, then we would expect that every other, or every 2nd, observed base is a mistake."
   ]
  },
  {
   "cell_type": "markdown",
   "metadata": {},
   "source": [
    "Choosing a k-length of 1 would result in 50% of your data being reliable, whereas if we went with the next odd k-length of 3, it's possible that we wouldn't observe any instances of the true original sequence."
   ]
  },
  {
   "cell_type": "markdown",
   "metadata": {},
   "source": [
    "$$ \\text{lower_bound_k} = 1/\\text{error rate} - 1 $$\n",
    "\n",
    "$$ (\\text{lower_bound_k} + 1) * \\text{error rate} = 1 $$\n",
    "\n",
    "$$ \\text{error rate} = 1/(\\text{lower_bound_k} + 1) $$"
   ]
  },
  {
   "cell_type": "code",
   "execution_count": 16,
   "metadata": {},
   "outputs": [
    {
     "name": "stdout",
     "output_type": "stream",
     "text": [
      "k: 3     error_rate = 0.25\n",
      "k: 5     error_rate = 0.17\n",
      "k: 7     error_rate = 0.12\n",
      "k: 11    error_rate = 0.08\n",
      "k: 13    error_rate = 0.07\n",
      "k: 17    error_rate = 0.06\n",
      "k: 19    error_rate = 0.05\n",
      "k: 23    error_rate = 0.04\n",
      "k: 29    error_rate = 0.03\n",
      "k: 31    error_rate = 0.03\n",
      "k: 37    error_rate = 0.03\n",
      "k: 41    error_rate = 0.02\n",
      "k: 43    error_rate = 0.02\n",
      "k: 47    error_rate = 0.02\n",
      "k: 53    error_rate = 0.02\n",
      "k: 59    error_rate = 0.02\n",
      "k: 61    error_rate = 0.02\n",
      "k: 67    error_rate = 0.01\n",
      "k: 71    error_rate = 0.01\n",
      "k: 73    error_rate = 0.01\n",
      "k: 79    error_rate = 0.01\n",
      "k: 83    error_rate = 0.01\n",
      "k: 89    error_rate = 0.01\n",
      "k: 97    error_rate = 0.01\n",
      "k: 101   error_rate = 0.01\n"
     ]
    }
   ],
   "source": [
    "import Primes\n",
    "for lower_bound_k in Primes.primes(3, 101)\n",
    "    error_rate = round(1/(lower_bound_k + 1), digits=2)\n",
    "    println(\"k: \" * rpad(\"$(lower_bound_k)\", 3) * lpad(\"error_rate = $(error_rate)\", 20))\n",
    "end"
   ]
  },
  {
   "cell_type": "markdown",
   "metadata": {},
   "source": [
    "In order to determine a suitable upper limit for k, let's work under these assumptions:\n",
    "1. Every species has a genome equal in size to the largest currently known genome\n",
    "    - 150-680 gigabases [^3]\n",
    "1. We accept that there are as many species as whatever the largest estimate in the literature exists\n",
    "    - 1 trillion species [^4]\n",
    "   \n",
    "    \n",
    "[^3]: https://blogs.biomedcentral.com/on-biology/2014/03/20/worlds-largest-sequenced-genome-unlocking-the-loblolly-pine/\n",
    "[^4]: https://www.pnas.org/content/113/21/5970"
   ]
  },
  {
   "cell_type": "code",
   "execution_count": 17,
   "metadata": {},
   "outputs": [
    {
     "data": {
      "text/plain": [
       "680000000000"
      ]
     },
     "execution_count": 17,
     "metadata": {},
     "output_type": "execute_result"
    }
   ],
   "source": [
    "largest_known_genome = 680_000_000_000"
   ]
  },
  {
   "cell_type": "code",
   "execution_count": 18,
   "metadata": {},
   "outputs": [
    {
     "data": {
      "text/plain": [
       "1000000000000"
      ]
     },
     "execution_count": 18,
     "metadata": {},
     "output_type": "execute_result"
    }
   ],
   "source": [
    "# round up to the next power\n",
    "largest_known_genome = nextpow(10, largest_known_genome)"
   ]
  },
  {
   "cell_type": "code",
   "execution_count": 19,
   "metadata": {},
   "outputs": [
    {
     "data": {
      "text/plain": [
       "1000000000000"
      ]
     },
     "execution_count": 19,
     "metadata": {},
     "output_type": "execute_result"
    }
   ],
   "source": [
    "highest_diversity_estimate = 1_000_000_000_000"
   ]
  },
  {
   "cell_type": "code",
   "execution_count": 22,
   "metadata": {},
   "outputs": [
    {
     "data": {
      "text/plain": [
       "1000000000000000000000000"
      ]
     },
     "execution_count": 22,
     "metadata": {},
     "output_type": "execute_result"
    }
   ],
   "source": [
    "unique_base_potential = \n",
    "    BigInt(largest_known_genome) * \n",
    "    BigInt(highest_diversity_estimate)"
   ]
  },
  {
   "cell_type": "markdown",
   "metadata": {},
   "source": [
    "If our sequences have 4 unique bases that can occur anywhere in the genome, we can take a logarithm to the 4th power to estimate what k-length we would need to never have a kmer repeat if the genome did not have repetitive elements."
   ]
  },
  {
   "cell_type": "code",
   "execution_count": 37,
   "metadata": {},
   "outputs": [
    {
     "data": {
      "text/plain": [
       "40.0"
      ]
     },
     "execution_count": 37,
     "metadata": {},
     "output_type": "execute_result"
    }
   ],
   "source": [
    "round(log(4, unique_base_potential))"
   ]
  },
  {
   "cell_type": "markdown",
   "metadata": {},
   "source": [
    "According to these worst case estimates (that don't account for genomic repeats), $$k > 40$$ should be have sufficient precision to identify sub-sequences unique to each organism"
   ]
  },
  {
   "cell_type": "markdown",
   "metadata": {},
   "source": [
    "Let's assume that most of our working conditions will not be that worst-case scenario, and use a kmer of length 31."
   ]
  },
  {
   "cell_type": "markdown",
   "metadata": {},
   "source": [
    "kmers of length 31 are still precise enough to cover a very large number of very large genomes"
   ]
  },
  {
   "cell_type": "code",
   "execution_count": 41,
   "metadata": {},
   "outputs": [
    {
     "data": {
      "text/plain": [
       "4611686018427387904"
      ]
     },
     "execution_count": 41,
     "metadata": {},
     "output_type": "execute_result"
    }
   ],
   "source": [
    "4^31"
   ]
  },
  {
   "cell_type": "markdown",
   "metadata": {},
   "source": [
    "Using kmers of length 31 also coincides nicely with the fact that if we encode kmers as vectors of 2 bits, where the 2 bits can represent:\n",
    "- `00 => A`\n",
    "- `01 => C`\n",
    "- `10 => G`\n",
    "- `11 => T`\n",
    "\n",
    "and as such we can chain up to 32 set of 2 bits into an unsigned 64 bit integer."
   ]
  },
  {
   "cell_type": "markdown",
   "metadata": {},
   "source": [
    "The 64 bit integer coincides nicely with the current 64bit CPU architecture that works with 64 bit integers as the native datatype"
   ]
  },
  {
   "cell_type": "markdown",
   "metadata": {},
   "source": [
    "If we take these two pieces together:\n",
    "1. the lower bound\n",
    "    - depends on accuracy of the sequencing instrument\n",
    "2. upper uniqueness bound\n",
    "    - depends on the total genetic diversity in our global pool of consideration\n",
    "    \n",
    "Then we arrive at a lower k-length baseline that we can use to begin iterative rounds of correction and k-extension until we reach our upper bound of k=31. BioSequences also provides `BigMer`s based on UInt128 that can handle kmers up to 63bp."
   ]
  },
  {
   "cell_type": "markdown",
   "metadata": {},
   "source": [
    "After reaching our upper bound, it is likely that we can resolve the remaining structure of the graph by tracing long-read data through the graph. I'll explain the read threading as a path disambiguation strategy in a future post"
   ]
  }
 ],
 "metadata": {
  "kernelspec": {
   "display_name": "Julia 1.5.3",
   "language": "julia",
   "name": "julia-1.5"
  },
  "language_info": {
   "file_extension": ".jl",
   "mimetype": "application/julia",
   "name": "julia",
   "version": "1.5.3"
  }
 },
 "nbformat": 4,
 "nbformat_minor": 4
}
