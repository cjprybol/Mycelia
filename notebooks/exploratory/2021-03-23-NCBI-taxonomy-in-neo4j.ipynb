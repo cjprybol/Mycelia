{
 "cells": [
  {
   "cell_type": "markdown",
   "metadata": {},
   "source": [
    "---\n",
    "layout: post  \n",
    "---"
   ]
  },
  {
   "cell_type": "markdown",
   "metadata": {},
   "source": [
    "The goal of this post is to re-create the NCBI taxonomy database in Neo4J. The overall end-goal is to build a pan-genome database in Neo4J that allows for rapid (re) generation of various pan-genomes"
   ]
  },
  {
   "cell_type": "markdown",
   "metadata": {},
   "source": [
    "First we'll make sure that the cypher-shell command is in my path to enable scripted interaction with my local neo4j database"
   ]
  },
  {
   "cell_type": "code",
   "execution_count": 109,
   "metadata": {},
   "outputs": [
    {
     "data": {
      "text/plain": [
       "\"/Users/cameronprybol/Software/cypher-shell:/Applications/Julia-1.5.app/Contents/Resources/julia/bin:/Applications/Julia-1.5.app/Contents/Resources/julia/bin:/Users/cameronprybol/miniconda/bin:/Users/cameronprybol/.gem/ruby/2.6.0/bin:/usr/local/bin:/usr/bin:/bin:/usr/sbin:/sbin\""
      ]
     },
     "execution_count": 109,
     "metadata": {},
     "output_type": "execute_result"
    }
   ],
   "source": [
    "if !occursin(\"cypher-shell\", ENV[\"PATH\"])\n",
    "    ENV[\"PATH\"] = \"/Users/cameronprybol/Software/cypher-shell:$(ENV[\"PATH\"])\"\n",
    "end"
   ]
  },
  {
   "cell_type": "markdown",
   "metadata": {},
   "source": [
    "Next we'll import some helpful packages"
   ]
  },
  {
   "cell_type": "code",
   "execution_count": 242,
   "metadata": {},
   "outputs": [
    {
     "name": "stderr",
     "output_type": "stream",
     "text": [
      "\u001b[32m\u001b[1m  Resolving\u001b[22m\u001b[39m package versions...\n",
      "\u001b[32m\u001b[1mNo Changes\u001b[22m\u001b[39m to `~/.julia/environments/v1.5/Project.toml`\n",
      "\u001b[32m\u001b[1mNo Changes\u001b[22m\u001b[39m to `~/.julia/environments/v1.5/Manifest.toml`\n",
      "\u001b[32m\u001b[1m  Resolving\u001b[22m\u001b[39m package versions...\n",
      "\u001b[32m\u001b[1mNo Changes\u001b[22m\u001b[39m to `~/.julia/environments/v1.5/Project.toml`\n",
      "\u001b[32m\u001b[1mNo Changes\u001b[22m\u001b[39m to `~/.julia/environments/v1.5/Manifest.toml`\n",
      "\u001b[32m\u001b[1m  Resolving\u001b[22m\u001b[39m package versions...\n",
      "\u001b[32m\u001b[1mNo Changes\u001b[22m\u001b[39m to `~/.julia/environments/v1.5/Project.toml`\n",
      "\u001b[32m\u001b[1mNo Changes\u001b[22m\u001b[39m to `~/.julia/environments/v1.5/Manifest.toml`\n",
      "\u001b[32m\u001b[1m  Resolving\u001b[22m\u001b[39m package versions...\n",
      "\u001b[32m\u001b[1mNo Changes\u001b[22m\u001b[39m to `~/.julia/environments/v1.5/Project.toml`\n",
      "\u001b[32m\u001b[1mNo Changes\u001b[22m\u001b[39m to `~/.julia/environments/v1.5/Manifest.toml`\n",
      "\u001b[32m\u001b[1m  Resolving\u001b[22m\u001b[39m package versions...\n",
      "\u001b[32m\u001b[1mNo Changes\u001b[22m\u001b[39m to `~/.julia/environments/v1.5/Project.toml`\n",
      "\u001b[32m\u001b[1mNo Changes\u001b[22m\u001b[39m to `~/.julia/environments/v1.5/Manifest.toml`\n"
     ]
    }
   ],
   "source": [
    "import Pkg\n",
    "pkgs = [\n",
    "    \"DataFrames\",\n",
    "    \"ProgressMeter\",\n",
    "    \"LightGraphs\",\n",
    "    \"MetaGraphs\",\n",
    "    \"uCSV\"\n",
    "]\n",
    "\n",
    "for pkg in pkgs\n",
    "    try\n",
    "        Pkg.add(pkg)\n",
    "    catch\n",
    "#         # tried to install an unregistered local package\n",
    "    end\n",
    "    eval(Meta.parse(\"import $pkg\"))\n",
    "end"
   ]
  },
  {
   "cell_type": "markdown",
   "metadata": {},
   "source": [
    "Here we'll create a local folder to hold the NCBI taxonomy information that we'll download"
   ]
  },
  {
   "cell_type": "code",
   "execution_count": 3,
   "metadata": {},
   "outputs": [],
   "source": [
    "TASK = \"ncbi-taxonomy\"\n",
    "DATE = \"2021-03-21\"\n",
    "DIR = \"$(homedir())/$(DATE)-$(TASK)\"\n",
    "if !isdir(DIR)\n",
    "    mkdir(DIR)\n",
    "end\n",
    "cd(DIR)"
   ]
  },
  {
   "cell_type": "markdown",
   "metadata": {},
   "source": [
    "In this next set of steps we will download the NCBI taxonomy .tar.gz archive and expand out the contents"
   ]
  },
  {
   "cell_type": "code",
   "execution_count": 4,
   "metadata": {},
   "outputs": [
    {
     "data": {
      "text/plain": [
       "\"https://ftp.ncbi.nih.gov/pub/taxonomy/taxdump.tar.gz\""
      ]
     },
     "execution_count": 4,
     "metadata": {},
     "output_type": "execute_result"
    }
   ],
   "source": [
    "taxdump_url = \"https://ftp.ncbi.nih.gov/pub/taxonomy/taxdump.tar.gz\""
   ]
  },
  {
   "cell_type": "code",
   "execution_count": 5,
   "metadata": {},
   "outputs": [
    {
     "data": {
      "text/plain": [
       "\"/Users/cameronprybol/2021-03-21-ncbi-taxonomy/taxdump.tar.gz\""
      ]
     },
     "execution_count": 5,
     "metadata": {},
     "output_type": "execute_result"
    }
   ],
   "source": [
    "taxdump_local_tarball = \"$(DIR)/$(basename(taxdump_url))\""
   ]
  },
  {
   "cell_type": "code",
   "execution_count": 6,
   "metadata": {},
   "outputs": [],
   "source": [
    "if !isfile(taxdump_local_tarball)\n",
    "    download(taxdump_url, taxdump_local_tarball)\n",
    "end"
   ]
  },
  {
   "cell_type": "code",
   "execution_count": 8,
   "metadata": {},
   "outputs": [],
   "source": [
    "taxdump_out = replace(taxdump_local_tarball, \".tar.gz\" => \"\")\n",
    "if !isdir(taxdump_out)\n",
    "    mkpath(taxdump_out)\n",
    "    run(`tar -xvzf $(taxdump_local_tarball) -C $(taxdump_out)`)\n",
    "end"
   ]
  },
  {
   "cell_type": "code",
   "execution_count": 9,
   "metadata": {},
   "outputs": [
    {
     "data": {
      "text/plain": [
       "10-element Array{String,1}:\n",
       " \".ipynb_checkpoints\"\n",
       " \"citations.dmp\"\n",
       " \"delnodes.dmp\"\n",
       " \"division.dmp\"\n",
       " \"gc.prt\"\n",
       " \"gencode.dmp\"\n",
       " \"merged.dmp\"\n",
       " \"names.dmp\"\n",
       " \"nodes.dmp\"\n",
       " \"readme.txt\""
      ]
     },
     "execution_count": 9,
     "metadata": {},
     "output_type": "execute_result"
    }
   ],
   "source": [
    "readdir(taxdump_out)"
   ]
  },
  {
   "cell_type": "markdown",
   "metadata": {},
   "source": [
    "Here we will create an in-memory dataframe to capture the contents of the names.dmp file"
   ]
  },
  {
   "cell_type": "code",
   "execution_count": 10,
   "metadata": {},
   "outputs": [
    {
     "name": "stderr",
     "output_type": "stream",
     "text": [
      "\u001b[32mProgress: 100%|█████████████████████████████████████████| Time: 0:00:16\u001b[39m39m\n"
     ]
    },
    {
     "data": {
      "text/html": [
       "<table class=\"data-frame\"><thead><tr><th></th><th>tax_id</th><th>name_txt</th></tr><tr><th></th><th>Int64</th><th>String</th></tr></thead><tbody><p>3,389,140 rows × 4 columns (omitted printing of 2 columns)</p><tr><th>1</th><td>1</td><td>all</td></tr><tr><th>2</th><td>1</td><td>root</td></tr><tr><th>3</th><td>2</td><td>Bacteria</td></tr><tr><th>4</th><td>2</td><td>bacteria</td></tr><tr><th>5</th><td>2</td><td>eubacteria</td></tr><tr><th>6</th><td>2</td><td>Monera</td></tr><tr><th>7</th><td>2</td><td>Procaryotae</td></tr><tr><th>8</th><td>2</td><td>Prokaryotae</td></tr><tr><th>9</th><td>2</td><td>Prokaryota</td></tr><tr><th>10</th><td>2</td><td>prokaryote</td></tr><tr><th>11</th><td>2</td><td>prokaryotes</td></tr><tr><th>12</th><td>6</td><td>Azorhizobium Dreyfus et al. 1988 emend. Lang et al. 2013</td></tr><tr><th>13</th><td>6</td><td>Azorhizobium</td></tr><tr><th>14</th><td>7</td><td>ATCC 43989</td></tr><tr><th>15</th><td>7</td><td>Azorhizobium caulinodans Dreyfus et al. 1988</td></tr><tr><th>16</th><td>7</td><td>Azorhizobium caulinodans</td></tr><tr><th>17</th><td>7</td><td>Azotirhizobium caulinodans</td></tr><tr><th>18</th><td>7</td><td>CCUG 26647</td></tr><tr><th>19</th><td>7</td><td>DSM 5975</td></tr><tr><th>20</th><td>7</td><td>IFO 14845</td></tr><tr><th>21</th><td>7</td><td>JCM 20966</td></tr><tr><th>22</th><td>7</td><td>LMG 6465</td></tr><tr><th>23</th><td>7</td><td>LMG:6465</td></tr><tr><th>24</th><td>7</td><td>NBRC 14845</td></tr><tr><th>25</th><td>7</td><td>ORS 571</td></tr><tr><th>26</th><td>9</td><td>Acyrthosiphon pisum symbiont P</td></tr><tr><th>27</th><td>9</td><td>Buchnera aphidicola Munson et al. 1991</td></tr><tr><th>28</th><td>9</td><td>Buchnera aphidicola</td></tr><tr><th>29</th><td>9</td><td>primary endosymbiont of Schizaphis graminum</td></tr><tr><th>30</th><td>10</td><td>Cellvibrio (ex Winogradsky 1929) Blackall et al. 1986 emend. Humphry et al. 2003</td></tr><tr><th>&vellip;</th><td>&vellip;</td><td>&vellip;</td></tr></tbody></table>"
      ],
      "text/latex": [
       "\\begin{tabular}{r|ccc}\n",
       "\t& tax\\_id & name\\_txt & \\\\\n",
       "\t\\hline\n",
       "\t& Int64 & String & \\\\\n",
       "\t\\hline\n",
       "\t1 & 1 & all & $\\dots$ \\\\\n",
       "\t2 & 1 & root & $\\dots$ \\\\\n",
       "\t3 & 2 & Bacteria & $\\dots$ \\\\\n",
       "\t4 & 2 & bacteria & $\\dots$ \\\\\n",
       "\t5 & 2 & eubacteria & $\\dots$ \\\\\n",
       "\t6 & 2 & Monera & $\\dots$ \\\\\n",
       "\t7 & 2 & Procaryotae & $\\dots$ \\\\\n",
       "\t8 & 2 & Prokaryotae & $\\dots$ \\\\\n",
       "\t9 & 2 & Prokaryota & $\\dots$ \\\\\n",
       "\t10 & 2 & prokaryote & $\\dots$ \\\\\n",
       "\t11 & 2 & prokaryotes & $\\dots$ \\\\\n",
       "\t12 & 6 & Azorhizobium Dreyfus et al. 1988 emend. Lang et al. 2013 & $\\dots$ \\\\\n",
       "\t13 & 6 & Azorhizobium & $\\dots$ \\\\\n",
       "\t14 & 7 & ATCC 43989 & $\\dots$ \\\\\n",
       "\t15 & 7 & Azorhizobium caulinodans Dreyfus et al. 1988 & $\\dots$ \\\\\n",
       "\t16 & 7 & Azorhizobium caulinodans & $\\dots$ \\\\\n",
       "\t17 & 7 & Azotirhizobium caulinodans & $\\dots$ \\\\\n",
       "\t18 & 7 & CCUG 26647 & $\\dots$ \\\\\n",
       "\t19 & 7 & DSM 5975 & $\\dots$ \\\\\n",
       "\t20 & 7 & IFO 14845 & $\\dots$ \\\\\n",
       "\t21 & 7 & JCM 20966 & $\\dots$ \\\\\n",
       "\t22 & 7 & LMG 6465 & $\\dots$ \\\\\n",
       "\t23 & 7 & LMG:6465 & $\\dots$ \\\\\n",
       "\t24 & 7 & NBRC 14845 & $\\dots$ \\\\\n",
       "\t25 & 7 & ORS 571 & $\\dots$ \\\\\n",
       "\t26 & 9 & Acyrthosiphon pisum symbiont P & $\\dots$ \\\\\n",
       "\t27 & 9 & Buchnera aphidicola Munson et al. 1991 & $\\dots$ \\\\\n",
       "\t28 & 9 & Buchnera aphidicola & $\\dots$ \\\\\n",
       "\t29 & 9 & primary endosymbiont of Schizaphis graminum & $\\dots$ \\\\\n",
       "\t30 & 10 & Cellvibrio (ex Winogradsky 1929) Blackall et al. 1986 emend. Humphry et al. 2003 & $\\dots$ \\\\\n",
       "\t$\\dots$ & $\\dots$ & $\\dots$ &  \\\\\n",
       "\\end{tabular}\n"
      ],
      "text/plain": [
       "3389140×4 DataFrame. Omitted printing of 2 columns\n",
       "│ Row     │ tax_id  │ name_txt                                   │\n",
       "│         │ \u001b[90mInt64\u001b[39m   │ \u001b[90mString\u001b[39m                                     │\n",
       "├─────────┼─────────┼────────────────────────────────────────────┤\n",
       "│ 1       │ 1       │ all                                        │\n",
       "│ 2       │ 1       │ root                                       │\n",
       "│ 3       │ 2       │ Bacteria                                   │\n",
       "│ 4       │ 2       │ bacteria                                   │\n",
       "│ 5       │ 2       │ eubacteria                                 │\n",
       "│ 6       │ 2       │ Monera                                     │\n",
       "│ 7       │ 2       │ Procaryotae                                │\n",
       "│ 8       │ 2       │ Prokaryotae                                │\n",
       "│ 9       │ 2       │ Prokaryota                                 │\n",
       "│ 10      │ 2       │ prokaryote                                 │\n",
       "⋮\n",
       "│ 3389130 │ 2820189 │ Frailea castanea                           │\n",
       "│ 3389131 │ 2820209 │ Hebe barkeri                               │\n",
       "│ 3389132 │ 2820209 │ Veronica barkeri Cockayne, 1899            │\n",
       "│ 3389133 │ 2820209 │ Veronica barkerii                          │\n",
       "│ 3389134 │ 2820209 │ Veronica barkeri                           │\n",
       "│ 3389135 │ 2820263 │ Capillibacterium                           │\n",
       "│ 3389136 │ 2820263 │ Capillibacterium Ungkulpasvich et al. 2021 │\n",
       "│ 3389137 │ 2820280 │ Sphingosinicellaceae Hordt et al. 2020     │\n",
       "│ 3389138 │ 2820280 │ Sphingosinicellaceae                       │\n",
       "│ 3389139 │ 2820281 │ \"Thermaurantiacus\" Ming et al. 2021        │\n",
       "│ 3389140 │ 2820281 │ Thermaurantiacus                           │"
      ]
     },
     "execution_count": 10,
     "metadata": {},
     "output_type": "execute_result"
    }
   ],
   "source": [
    "# Taxonomy names file (names.dmp):\n",
    "# \ttax_id\t\t\t\t\t-- the id of node associated with this name\n",
    "# \tname_txt\t\t\t\t-- name itself\n",
    "# \tunique name\t\t\t\t-- the unique variant of this name if name not unique\n",
    "# \tname class\t\t\t\t-- (synonym, common name, ...)\n",
    "\n",
    "names_dmp = DataFrames.DataFrame(\n",
    "    tax_id = Int[],\n",
    "    name_txt = String[],\n",
    "    unique_name = String[],\n",
    "    name_class = String[]\n",
    ")\n",
    "ProgressMeter.@showprogress for line in split(read(open(\"$(taxdump_out)/names.dmp\"), String), \"\\t|\\n\")\n",
    "    if isempty(line)\n",
    "        continue\n",
    "    else\n",
    "        (tax_id_string, name_txt, unique_name, name_class) = split(line, \"\\t|\\t\")\n",
    "        tax_id = parse(Int, tax_id_string)\n",
    "        row = (;tax_id, name_txt, unique_name, name_class)\n",
    "        push!(names_dmp, row)\n",
    "    end\n",
    "end\n",
    "names_dmp"
   ]
  },
  {
   "cell_type": "markdown",
   "metadata": {},
   "source": [
    "We can see that there are sometimes multiple entries for each tax_id, the unique identifier that we will be using"
   ]
  },
  {
   "cell_type": "code",
   "execution_count": 11,
   "metadata": {},
   "outputs": [
    {
     "data": {
      "text/plain": [
       "2317173-element Array{Int64,1}:\n",
       "       1\n",
       "       2\n",
       "       6\n",
       "       7\n",
       "       9\n",
       "      10\n",
       "      11\n",
       "      13\n",
       "      14\n",
       "      16\n",
       "      17\n",
       "      18\n",
       "      19\n",
       "       ⋮\n",
       " 2820007\n",
       " 2820021\n",
       " 2820040\n",
       " 2820056\n",
       " 2820085\n",
       " 2820136\n",
       " 2820147\n",
       " 2820189\n",
       " 2820209\n",
       " 2820263\n",
       " 2820280\n",
       " 2820281"
      ]
     },
     "execution_count": 11,
     "metadata": {},
     "output_type": "execute_result"
    }
   ],
   "source": [
    "unique_tax_ids = unique(names_dmp[!, \"tax_id\"])"
   ]
  },
  {
   "cell_type": "markdown",
   "metadata": {},
   "source": [
    "Here we will group the names.dmp data by tax_id, create a node in the graph for each tax_id, and sanitize and merge information appropriately"
   ]
  },
  {
   "cell_type": "code",
   "execution_count": 177,
   "metadata": {},
   "outputs": [
    {
     "name": "stderr",
     "output_type": "stream",
     "text": [
      "\u001b[32mProgress: 100%|█████████████████████████████████████████| Time: 0:04:04\u001b[39m\n",
      "\u001b[32mProgress: 100%|█████████████████████████████████████████| Time: 0:01:49\u001b[39m\n"
     ]
    }
   ],
   "source": [
    "ncbi_taxonomy = MetaGraphs.MetaDiGraph(length(unique_tax_ids))\n",
    "ProgressMeter.@showprogress for (index, group) in enumerate(collect(DataFrames.groupby(names_dmp, \"tax_id\")))\n",
    "    MetaGraphs.set_prop!(ncbi_taxonomy, index, :tax_id, group[1, \"tax_id\"])\n",
    "    for row in DataFrames.eachrow(group)\n",
    "        unique_name = isempty(row[\"unique_name\"]) ? row[\"name_txt\"] : row[\"unique_name\"]\n",
    "        # remove quotes since neo4j doesn't like them\n",
    "        unique_name = replace(unique_name, '\"' => \"\")\n",
    "        # replace spaces and dashes with underscores\n",
    "        name_class = Symbol(replace(replace(row[\"name_class\"], r\"\\s+\" => \"-\"), \"-\" => \"_\"))\n",
    "#         name_class = Symbol(row[\"name_class\"])\n",
    "        if haskey(MetaGraphs.props(ncbi_taxonomy, index), name_class)\n",
    "            current_value = MetaGraphs.get_prop(ncbi_taxonomy, index, name_class)\n",
    "            if (current_value isa Array) && !(unique_name in current_value)\n",
    "                new_value = [current_value..., unique_name]\n",
    "                MetaGraphs.set_prop!(ncbi_taxonomy, index, name_class, new_value)\n",
    "            elseif !(current_value isa Array) && (current_value != unique_name)\n",
    "                new_value = [current_value, unique_name]\n",
    "                MetaGraphs.set_prop!(ncbi_taxonomy, index, name_class, new_value)\n",
    "            else\n",
    "                continue\n",
    "            end\n",
    "        else\n",
    "            MetaGraphs.set_prop!(ncbi_taxonomy, index, name_class, unique_name)\n",
    "        end\n",
    "    end\n",
    "end"
   ]
  },
  {
   "cell_type": "markdown",
   "metadata": {},
   "source": [
    "Here we can see that there are divisions projected onto the tree that will allow easy grouping by taxonomic \"group\"s such as primates, viruses, phages, etc."
   ]
  },
  {
   "cell_type": "code",
   "execution_count": 244,
   "metadata": {},
   "outputs": [
    {
     "data": {
      "text/plain": [
       "Dict{Any,Any} with 12 entries:\n",
       "  2  => Dict{Symbol,SubString{String}}(:division_name=>\"Mammals\",:division_cde=…\n",
       "  11 => Dict{Symbol,SubString{String}}(:division_name=>\"Environmental samples\",…\n",
       "  0  => Dict{Symbol,SubString{String}}(:division_name=>\"Bacteria\",:division_cde…\n",
       "  7  => Dict{Symbol,SubString{String}}(:division_name=>\"Synthetic and Chimeric\"…\n",
       "  9  => Dict{Symbol,SubString{String}}(:division_name=>\"Viruses\",:division_cde=…\n",
       "  10 => Dict{Symbol,SubString{String}}(:division_name=>\"Vertebrates\",:division_…\n",
       "  8  => Dict{Symbol,SubString{String}}(:division_name=>\"Unassigned\",:division_c…\n",
       "  6  => Dict{Symbol,SubString{String}}(:division_name=>\"Rodents\",:division_cde=…\n",
       "  4  => Dict{Symbol,SubString{String}}(:division_name=>\"Plants and Fungi\",:divi…\n",
       "  3  => Dict{Symbol,SubString{String}}(:division_name=>\"Phages\",:division_cde=>…\n",
       "  5  => Dict{Symbol,SubString{String}}(:division_name=>\"Primates\",:division_cde…\n",
       "  1  => Dict{Symbol,SubString{String}}(:division_name=>\"Invertebrates\",:divisio…"
      ]
     },
     "execution_count": 244,
     "metadata": {},
     "output_type": "execute_result"
    }
   ],
   "source": [
    "divisions = Dict()\n",
    "for line in split(read(open(\"$(taxdump_out)/division.dmp\"), String), \"\\t|\\n\")\n",
    "    if !isempty(line)\n",
    "        (id_string, shorthand, full_name, notes) = split(line, \"\\t|\\t\")\n",
    "        id = parse(Int, id_string)\n",
    "        divisions[id] = Dict(:division_cde => shorthand, :division_name => full_name)\n",
    "    end\n",
    "end\n",
    "divisions"
   ]
  },
  {
   "cell_type": "markdown",
   "metadata": {},
   "source": [
    "And finally for the data import, here we will read in the nodes.dmp file which contains lots of other metadata about each node in the NCBI taxonomic tree. We will cross-reference the division information above to add the rest of the division information. It could be helpful to make divisions their own nodes and then create relationships between taxonomic nodes and division nodes, but we'll go with the metadata in the taxonomic nodes for now"
   ]
  },
  {
   "cell_type": "code",
   "execution_count": null,
   "metadata": {},
   "outputs": [],
   "source": [
    "node_2_taxid_map = map(index -> ncbi_taxonomy.vprops[index][:tax_id], LightGraphs.vertices(ncbi_taxonomy))\n",
    "ProgressMeter.@showprogress for line in split(read(open(\"$(taxdump_out)/nodes.dmp\"), String), \"\\t|\\n\")\n",
    "    if isempty(line)\n",
    "        continue\n",
    "    else\n",
    "        (tax_id_string, parent_tax_id_string, rank, embl_code, division_id_string) = split(line, \"\\t|\\t\")\n",
    "        \n",
    "        \n",
    "        division_id = parse(Int, division_id_string)\n",
    "        \n",
    "        tax_id = parse(Int, tax_id_string)\n",
    "        lightgraphs_tax_ids = searchsorted(node_2_taxid_map, tax_id)\n",
    "        @assert length(lightgraphs_tax_ids) == 1\n",
    "        lightgraphs_tax_id = first(lightgraphs_tax_ids)\n",
    "        \n",
    "        parent_tax_id = parse(Int, parent_tax_id_string)\n",
    "        lightgraphs_parent_tax_ids = searchsorted(node_2_taxid_map, parent_tax_id)\n",
    "        @assert length(lightgraphs_parent_tax_ids) == 1\n",
    "        lightgraphs_parent_tax_id = first(lightgraphs_parent_tax_ids)\n",
    "        \n",
    "        LightGraphs.add_edge!(ncbi_taxonomy, lightgraphs_tax_id, lightgraphs_parent_tax_id)\n",
    "        MetaGraphs.set_prop!(ncbi_taxonomy, lightgraphs_tax_id, :rank, rank)\n",
    "        # these should probably be broken out as independent nodes!\n",
    "        MetaGraphs.set_prop!(ncbi_taxonomy, lightgraphs_tax_id, :division_id, division_id)\n",
    "        MetaGraphs.set_prop!(ncbi_taxonomy, lightgraphs_tax_id, :division_cde, divisions[division_id][:division_cde])\n",
    "        MetaGraphs.set_prop!(ncbi_taxonomy, lightgraphs_tax_id, :division_name, divisions[division_id][:division_name])\n",
    "    end\n",
    "end"
   ]
  },
  {
   "cell_type": "markdown",
   "metadata": {},
   "source": [
    "Here we can see that there are an equal number of edges as their are nodes"
   ]
  },
  {
   "cell_type": "code",
   "execution_count": 178,
   "metadata": {},
   "outputs": [
    {
     "data": {
      "text/plain": [
       "2317173-element Array{LightGraphs.SimpleGraphs.SimpleEdge{Int64},1}:\n",
       " Edge 1 => 1\n",
       " Edge 2 => 100805\n",
       " Edge 3 => 280007\n",
       " Edge 4 => 3\n",
       " Edge 5 => 14946\n",
       " Edge 6 => 1384594\n",
       " Edge 7 => 1338\n",
       " Edge 8 => 165190\n",
       " Edge 9 => 8\n",
       " Edge 10 => 14787\n",
       " Edge 11 => 10\n",
       " Edge 12 => 174307\n",
       " Edge 13 => 2314073\n",
       " ⋮\n",
       " Edge 2317162 => 2184961\n",
       " Edge 2317163 => 76865\n",
       " Edge 2317164 => 41358\n",
       " Edge 2317165 => 1334851\n",
       " Edge 2317166 => 1480\n",
       " Edge 2317167 => 598527\n",
       " Edge 2317168 => 145805\n",
       " Edge 2317169 => 120969\n",
       " Edge 2317170 => 48151\n",
       " Edge 2317171 => 16034\n",
       " Edge 2317172 => 166094\n",
       " Edge 2317173 => 2317172"
      ]
     },
     "execution_count": 178,
     "metadata": {},
     "output_type": "execute_result"
    }
   ],
   "source": [
    "collect(LightGraphs.edges(ncbi_taxonomy))"
   ]
  },
  {
   "cell_type": "markdown",
   "metadata": {},
   "source": [
    "Here we'll produce a list of all of the metadata fields that are associated with our taxonomic nodes. Not every node will have all of these values, but this will allow us to write our in-memory graph to .tsv files for importing into neo4j"
   ]
  },
  {
   "cell_type": "code",
   "execution_count": 181,
   "metadata": {},
   "outputs": [
    {
     "data": {
      "text/plain": [
       "18-element Array{Symbol,1}:\n",
       " :acronym\n",
       " :authority\n",
       " :blast_name\n",
       " :common_name\n",
       " :division_cde\n",
       " :division_id\n",
       " :division_name\n",
       " :equivalent_name\n",
       " :genbank_acronym\n",
       " :genbank_common_name\n",
       " :genbank_synonym\n",
       " :in_part\n",
       " :includes\n",
       " :rank\n",
       " :scientific_name\n",
       " :synonym\n",
       " :tax_id\n",
       " :type_material"
      ]
     },
     "execution_count": 181,
     "metadata": {},
     "output_type": "execute_result"
    }
   ],
   "source": [
    "column_names = Set(k for vertex in LightGraphs.vertices(ncbi_taxonomy) for k in keys(ncbi_taxonomy.vprops[vertex]))\n",
    "column_names = sort(collect(column_names))\n",
    "# column_names = filter(x -> string(x) != \"in-part\", column_names)"
   ]
  },
  {
   "cell_type": "markdown",
   "metadata": {},
   "source": [
    "Here in the next 2 steps we write out .tsv files for our nodes + metadata and our edges"
   ]
  },
  {
   "cell_type": "code",
   "execution_count": 182,
   "metadata": {},
   "outputs": [],
   "source": [
    "open(\"$(DIR)/ncbi_taxonomy.nodes.tsv\", \"w\") do io\n",
    "    header = [\"node\", string.(column_names)...]\n",
    "    println(io, join(header, '\\t'))\n",
    "    for vertex in collect(LightGraphs.vertices(ncbi_taxonomy))\n",
    "        fields = String[]\n",
    "        for k in column_names\n",
    "            field = get(ncbi_taxonomy.vprops[vertex], k, \"\")\n",
    "            field = string.(field)\n",
    "            if field isa Array\n",
    "                field = join(field, ';')\n",
    "            end\n",
    "            push!(fields, field)\n",
    "        end\n",
    "        row = [\"$(vertex)\", fields...]\n",
    "        println(io, join(row, '\\t'))\n",
    "    end\n",
    "end"
   ]
  },
  {
   "cell_type": "code",
   "execution_count": 238,
   "metadata": {},
   "outputs": [],
   "source": [
    "open(\"$(DIR)/ncbi_taxonomy.edges.tsv\", \"w\") do io\n",
    "    header = [\"src\", \"dst\"]\n",
    "    println(io, join(header, '\\t'))\n",
    "    for edge in collect(LightGraphs.edges(ncbi_taxonomy))\n",
    "        src_tax_id = ncbi_taxonomy.vprops[edge.src][:tax_id]\n",
    "        dst_tax_id = ncbi_taxonomy.vprops[edge.dst][:tax_id]\n",
    "        println(io, join(string.([src_tax_id, dst_tax_id]), \"\\t\"))\n",
    "    end\n",
    "end"
   ]
  },
  {
   "cell_type": "code",
   "execution_count": 110,
   "metadata": {},
   "outputs": [
    {
     "data": {
      "text/plain": [
       "list_databases (generic function with 1 method)"
      ]
     },
     "execution_count": 110,
     "metadata": {},
     "output_type": "execute_result"
    }
   ],
   "source": [
    "function list_databases()\n",
    "    io = open(`cypher-shell --address neo4j://localhost:7687 --username neo4j --password password --database system --format auto \"show databases\"`)\n",
    "    return DataFrames.DataFrame(uCSV.read(io, header=1, quotes='\"', encodings=Dict(\"FALSE\" => false, \"TRUE\" => true))...)\n",
    "end"
   ]
  },
  {
   "cell_type": "code",
   "execution_count": 111,
   "metadata": {},
   "outputs": [
    {
     "data": {
      "text/plain": [
       "create_database (generic function with 1 method)"
      ]
     },
     "execution_count": 111,
     "metadata": {},
     "output_type": "execute_result"
    }
   ],
   "source": [
    "function create_database(database_id)\n",
    "    current_databases = list_databases()\n",
    "    if database_id in current_databases[!, \"name\"]\n",
    "        return\n",
    "    else\n",
    "        run(`cypher-shell --address neo4j://localhost:7687 --username neo4j --password password --database system --format auto \"create database $(database_id)\"`)\n",
    "    end\n",
    "end"
   ]
  },
  {
   "cell_type": "code",
   "execution_count": 112,
   "metadata": {},
   "outputs": [
    {
     "data": {
      "text/plain": [
       "cypher (generic function with 1 method)"
      ]
     },
     "execution_count": 112,
     "metadata": {},
     "output_type": "execute_result"
    }
   ],
   "source": [
    "function cypher(database_id, cmd)\n",
    "    run(`cypher-shell --address neo4j://localhost:7687 --username neo4j --password password --database $(database_id) --format auto $(cmd)`)\n",
    "end"
   ]
  },
  {
   "cell_type": "markdown",
   "metadata": {},
   "source": [
    "Here we can see a list of databases that we already have"
   ]
  },
  {
   "cell_type": "code",
   "execution_count": 245,
   "metadata": {},
   "outputs": [
    {
     "data": {
      "text/html": [
       "<table class=\"data-frame\"><thead><tr><th></th><th>name</th><th> address</th><th> role</th><th> requestedStatus</th><th> currentStatus</th><th> error</th></tr><tr><th></th><th>String</th><th>String</th><th>String</th><th>String</th><th>String</th><th>String</th></tr></thead><tbody><p>7 rows × 7 columns (omitted printing of 1 columns)</p><tr><th>1</th><td>dataset</td><td>localhost:7687</td><td>standalone</td><td>online</td><td>online</td><td></td></tr><tr><th>2</th><td>ncbitaxonomy</td><td>localhost:7687</td><td>standalone</td><td>online</td><td>online</td><td></td></tr><tr><th>3</th><td>neo4j</td><td>localhost:7687</td><td>standalone</td><td>online</td><td>online</td><td></td></tr><tr><th>4</th><td>panmetagenome</td><td>localhost:7687</td><td>standalone</td><td>online</td><td>online</td><td></td></tr><tr><th>5</th><td>system</td><td>localhost:7687</td><td>standalone</td><td>online</td><td>online</td><td></td></tr><tr><th>6</th><td>taxid230604</td><td>localhost:7687</td><td>standalone</td><td>online</td><td>online</td><td></td></tr><tr><th>7</th><td>test</td><td>localhost:7687</td><td>standalone</td><td>online</td><td>online</td><td></td></tr></tbody></table>"
      ],
      "text/latex": [
       "\\begin{tabular}{r|ccccccc}\n",
       "\t& name &  address &  role &  requestedStatus &  currentStatus &  error & \\\\\n",
       "\t\\hline\n",
       "\t& String & String & String & String & String & String & \\\\\n",
       "\t\\hline\n",
       "\t1 & dataset & localhost:7687 & standalone & online & online &  & $\\dots$ \\\\\n",
       "\t2 & ncbitaxonomy & localhost:7687 & standalone & online & online &  & $\\dots$ \\\\\n",
       "\t3 & neo4j & localhost:7687 & standalone & online & online &  & $\\dots$ \\\\\n",
       "\t4 & panmetagenome & localhost:7687 & standalone & online & online &  & $\\dots$ \\\\\n",
       "\t5 & system & localhost:7687 & standalone & online & online &  & $\\dots$ \\\\\n",
       "\t6 & taxid230604 & localhost:7687 & standalone & online & online &  & $\\dots$ \\\\\n",
       "\t7 & test & localhost:7687 & standalone & online & online &  & $\\dots$ \\\\\n",
       "\\end{tabular}\n"
      ],
      "text/plain": [
       "7×7 DataFrame. Omitted printing of 3 columns\n",
       "│ Row │ name          │  address       │  role      │  requestedStatus │\n",
       "│     │ \u001b[90mString\u001b[39m        │ \u001b[90mString\u001b[39m         │ \u001b[90mString\u001b[39m     │ \u001b[90mString\u001b[39m           │\n",
       "├─────┼───────────────┼────────────────┼────────────┼──────────────────┤\n",
       "│ 1   │ dataset       │ localhost:7687 │ standalone │ online           │\n",
       "│ 2   │ ncbitaxonomy  │ localhost:7687 │ standalone │ online           │\n",
       "│ 3   │ neo4j         │ localhost:7687 │ standalone │ online           │\n",
       "│ 4   │ panmetagenome │ localhost:7687 │ standalone │ online           │\n",
       "│ 5   │ system        │ localhost:7687 │ standalone │ online           │\n",
       "│ 6   │ taxid230604   │ localhost:7687 │ standalone │ online           │\n",
       "│ 7   │ test          │ localhost:7687 │ standalone │ online           │"
      ]
     },
     "execution_count": 245,
     "metadata": {},
     "output_type": "execute_result"
    }
   ],
   "source": [
    "list_databases()"
   ]
  },
  {
   "cell_type": "markdown",
   "metadata": {},
   "source": [
    "The neo4j database name that we will use for this ncbi taxonomic tree is:"
   ]
  },
  {
   "cell_type": "code",
   "execution_count": 207,
   "metadata": {},
   "outputs": [
    {
     "data": {
      "text/plain": [
       "\"ncbitaxonomy\""
      ]
     },
     "execution_count": 207,
     "metadata": {},
     "output_type": "execute_result"
    }
   ],
   "source": [
    "database_id = \"ncbitaxonomy\""
   ]
  },
  {
   "cell_type": "markdown",
   "metadata": {},
   "source": [
    "Here we will create the database if it doesn't exist"
   ]
  },
  {
   "cell_type": "code",
   "execution_count": 209,
   "metadata": {},
   "outputs": [
    {
     "data": {
      "text/plain": [
       "Process(`\u001b[4mcypher-shell\u001b[24m \u001b[4m--address\u001b[24m \u001b[4mneo4j://localhost:7687\u001b[24m \u001b[4m--username\u001b[24m \u001b[4mneo4j\u001b[24m \u001b[4m--password\u001b[24m \u001b[4mpassword\u001b[24m \u001b[4m--database\u001b[24m \u001b[4msystem\u001b[24m \u001b[4m--format\u001b[24m \u001b[4mauto\u001b[24m \u001b[4m'create database ncbitaxonomy'\u001b[24m`, ProcessExited(0))"
      ]
     },
     "execution_count": 209,
     "metadata": {},
     "output_type": "execute_result"
    }
   ],
   "source": [
    "create_database(database_id)"
   ]
  },
  {
   "cell_type": "markdown",
   "metadata": {},
   "source": [
    "Here we will set constrains that no two nodes have the same taxonomic id and no two nodes have the same scientific name"
   ]
  },
  {
   "cell_type": "code",
   "execution_count": 210,
   "metadata": {},
   "outputs": [
    {
     "name": "stdout",
     "output_type": "stream",
     "text": [
      "  1.245018 seconds (134 allocations: 7.984 KiB)\n",
      "  1.235412 seconds (251 allocations: 17.656 KiB)\n"
     ]
    },
    {
     "data": {
      "text/plain": [
       "Process(`\u001b[4mcypher-shell\u001b[24m \u001b[4m--address\u001b[24m \u001b[4mneo4j://localhost:7687\u001b[24m \u001b[4m--username\u001b[24m \u001b[4mneo4j\u001b[24m \u001b[4m--password\u001b[24m \u001b[4mpassword\u001b[24m \u001b[4m--database\u001b[24m \u001b[4mncbitaxonomy\u001b[24m \u001b[4m--format\u001b[24m \u001b[4mauto\u001b[24m \u001b[4m'CREATE CONSTRAINT ON (t:Taxonomy) ASSERT t.\\`scientific name\\` IS UNIQUE'\u001b[24m`, ProcessExited(0))"
      ]
     },
     "execution_count": 210,
     "metadata": {},
     "output_type": "execute_result"
    }
   ],
   "source": [
    "@time cypher(database_id, \"CREATE CONSTRAINT ON (t:Taxonomy) ASSERT t.tax_id IS UNIQUE\")\n",
    "@time cypher(database_id, \"CREATE CONSTRAINT ON (t:Taxonomy) ASSERT t.`scientific name` IS UNIQUE\")"
   ]
  },
  {
   "cell_type": "markdown",
   "metadata": {},
   "source": [
    "Here we will create the nodes"
   ]
  },
  {
   "cell_type": "code",
   "execution_count": 213,
   "metadata": {},
   "outputs": [
    {
     "name": "stdout",
     "output_type": "stream",
     "text": [
      " 70.661302 seconds (2.24 k allocations: 69.344 KiB)\n"
     ]
    },
    {
     "data": {
      "text/plain": [
       "Process(`\u001b[4mcypher-shell\u001b[24m \u001b[4m--address\u001b[24m \u001b[4mneo4j://localhost:7687\u001b[24m \u001b[4m--username\u001b[24m \u001b[4mneo4j\u001b[24m \u001b[4m--password\u001b[24m \u001b[4mpassword\u001b[24m \u001b[4m--database\u001b[24m \u001b[4mncbitaxonomy\u001b[24m \u001b[4m--format\u001b[24m \u001b[4mauto\u001b[24m \u001b[4m\"USING PERIODIC COMMIT\u001b[24m\n",
       "\u001b[4mLOAD CSV WITH HEADERS FROM\u001b[24m\n",
       "\u001b[4m'file:///Users/cameronprybol/2021-03-21-ncbi-taxonomy/ncbi_taxonomy.nodes.tsv' AS row\u001b[24m\n",
       "\u001b[4mFIELDTERMINATOR '\t'\u001b[24m\n",
       "\u001b[4mWITH row WHERE row.tax_id IS NOT NULL\u001b[24m\n",
       "\u001b[4mMERGE (t:Taxonomy {tax_id: row.tax_id})\u001b[24m\n",
       "\u001b[4m\"\u001b[24m`, ProcessExited(0))"
      ]
     },
     "execution_count": 213,
     "metadata": {},
     "output_type": "execute_result"
    }
   ],
   "source": [
    "cmd = \n",
    "\"\"\"\n",
    "USING PERIODIC COMMIT\n",
    "LOAD CSV WITH HEADERS FROM\n",
    "'file://$(\"$(DIR)/ncbi_taxonomy.nodes.tsv\")' AS row\n",
    "FIELDTERMINATOR '\\t'\n",
    "MERGE (t:Taxonomy {tax_id: row.tax_id})\n",
    "\"\"\"\n",
    "@time cypher(database_id, cmd)"
   ]
  },
  {
   "cell_type": "markdown",
   "metadata": {},
   "source": [
    "In the following commands, we will add metadata to the nodes in a piece-meal (column by column) fashion that will allow us to skip over null fields. Storing null pointers in Neo4j is discouraged (impossible?) and we will get errors if we try and set metadata properties to null values.\n",
    "\n",
    "I tried to do this all in one command on the initial import by handling all of the nulls using the technique in [this post](https://markhneedham.com/blog/2014/08/22/neo4j-load-csv-handling-empty-columns/) but I kept getting Java errors"
   ]
  },
  {
   "cell_type": "code",
   "execution_count": 217,
   "metadata": {},
   "outputs": [
    {
     "name": "stdout",
     "output_type": "stream",
     "text": [
      " 50.739977 seconds (1.63 k allocations: 51.844 KiB)\n"
     ]
    },
    {
     "data": {
      "text/plain": [
       "Process(`\u001b[4mcypher-shell\u001b[24m \u001b[4m--address\u001b[24m \u001b[4mneo4j://localhost:7687\u001b[24m \u001b[4m--username\u001b[24m \u001b[4mneo4j\u001b[24m \u001b[4m--password\u001b[24m \u001b[4mpassword\u001b[24m \u001b[4m--database\u001b[24m \u001b[4mncbitaxonomy\u001b[24m \u001b[4m--format\u001b[24m \u001b[4mauto\u001b[24m \u001b[4m\"USING PERIODIC COMMIT\u001b[24m\n",
       "\u001b[4mLOAD CSV WITH HEADERS FROM\u001b[24m\n",
       "\u001b[4m'file:///Users/cameronprybol/2021-03-21-ncbi-taxonomy/ncbi_taxonomy.nodes.tsv' AS row\u001b[24m\n",
       "\u001b[4mFIELDTERMINATOR '\t'\u001b[24m\n",
       "\u001b[4mWITH row WHERE row.scientific_name IS NOT NULL\u001b[24m\n",
       "\u001b[4mMATCH (t:Taxonomy {tax_id: row.tax_id})\u001b[24m\n",
       "\u001b[4mSET t.scientific_name = row.scientific_name\u001b[24m\n",
       "\u001b[4m\"\u001b[24m`, ProcessExited(0))"
      ]
     },
     "execution_count": 217,
     "metadata": {},
     "output_type": "execute_result"
    }
   ],
   "source": [
    "cmd = \n",
    "\"\"\"\n",
    "USING PERIODIC COMMIT\n",
    "LOAD CSV WITH HEADERS FROM\n",
    "'file://$(\"$(DIR)/ncbi_taxonomy.nodes.tsv\")' AS row\n",
    "FIELDTERMINATOR '\\t'\n",
    "WITH row WHERE row.scientific_name IS NOT NULL\n",
    "MATCH (t:Taxonomy {tax_id: row.tax_id})\n",
    "SET t.scientific_name = row.scientific_name\n",
    "\"\"\"\n",
    "@time cypher(database_id, cmd)"
   ]
  },
  {
   "cell_type": "code",
   "execution_count": 218,
   "metadata": {},
   "outputs": [
    {
     "name": "stdout",
     "output_type": "stream",
     "text": [
      " 47.722319 seconds (1.54 k allocations: 49.016 KiB)\n"
     ]
    },
    {
     "data": {
      "text/plain": [
       "Process(`\u001b[4mcypher-shell\u001b[24m \u001b[4m--address\u001b[24m \u001b[4mneo4j://localhost:7687\u001b[24m \u001b[4m--username\u001b[24m \u001b[4mneo4j\u001b[24m \u001b[4m--password\u001b[24m \u001b[4mpassword\u001b[24m \u001b[4m--database\u001b[24m \u001b[4mncbitaxonomy\u001b[24m \u001b[4m--format\u001b[24m \u001b[4mauto\u001b[24m \u001b[4m\"USING PERIODIC COMMIT\u001b[24m\n",
       "\u001b[4mLOAD CSV WITH HEADERS FROM\u001b[24m\n",
       "\u001b[4m'file:///Users/cameronprybol/2021-03-21-ncbi-taxonomy/ncbi_taxonomy.nodes.tsv' AS row\u001b[24m\n",
       "\u001b[4mFIELDTERMINATOR '\t'\u001b[24m\n",
       "\u001b[4mWITH row WHERE row.division_cde IS NOT NULL\u001b[24m\n",
       "\u001b[4mMATCH (t:Taxonomy {tax_id: row.tax_id})\u001b[24m\n",
       "\u001b[4mSET t.division_cde = row.division_cde\u001b[24m\n",
       "\u001b[4m\"\u001b[24m`, ProcessExited(0))"
      ]
     },
     "execution_count": 218,
     "metadata": {},
     "output_type": "execute_result"
    }
   ],
   "source": [
    "cmd = \n",
    "\"\"\"\n",
    "USING PERIODIC COMMIT\n",
    "LOAD CSV WITH HEADERS FROM\n",
    "'file://$(\"$(DIR)/ncbi_taxonomy.nodes.tsv\")' AS row\n",
    "FIELDTERMINATOR '\\t'\n",
    "WITH row WHERE row.division_cde IS NOT NULL\n",
    "MATCH (t:Taxonomy {tax_id: row.tax_id})\n",
    "SET t.division_cde = row.division_cde\n",
    "\"\"\"\n",
    "@time cypher(database_id, cmd)"
   ]
  },
  {
   "cell_type": "code",
   "execution_count": 219,
   "metadata": {},
   "outputs": [
    {
     "name": "stdout",
     "output_type": "stream",
     "text": [
      " 48.413401 seconds (1.57 k allocations: 49.812 KiB)\n"
     ]
    },
    {
     "data": {
      "text/plain": [
       "Process(`\u001b[4mcypher-shell\u001b[24m \u001b[4m--address\u001b[24m \u001b[4mneo4j://localhost:7687\u001b[24m \u001b[4m--username\u001b[24m \u001b[4mneo4j\u001b[24m \u001b[4m--password\u001b[24m \u001b[4mpassword\u001b[24m \u001b[4m--database\u001b[24m \u001b[4mncbitaxonomy\u001b[24m \u001b[4m--format\u001b[24m \u001b[4mauto\u001b[24m \u001b[4m\"USING PERIODIC COMMIT\u001b[24m\n",
       "\u001b[4mLOAD CSV WITH HEADERS FROM\u001b[24m\n",
       "\u001b[4m'file:///Users/cameronprybol/2021-03-21-ncbi-taxonomy/ncbi_taxonomy.nodes.tsv' AS row\u001b[24m\n",
       "\u001b[4mFIELDTERMINATOR '\t'\u001b[24m\n",
       "\u001b[4mWITH row WHERE row.division_id IS NOT NULL\u001b[24m\n",
       "\u001b[4mMATCH (t:Taxonomy {tax_id: row.tax_id})\u001b[24m\n",
       "\u001b[4mSET t.division_id = row.division_id\u001b[24m\n",
       "\u001b[4m\"\u001b[24m`, ProcessExited(0))"
      ]
     },
     "execution_count": 219,
     "metadata": {},
     "output_type": "execute_result"
    }
   ],
   "source": [
    "cmd = \n",
    "\"\"\"\n",
    "USING PERIODIC COMMIT\n",
    "LOAD CSV WITH HEADERS FROM\n",
    "'file://$(\"$(DIR)/ncbi_taxonomy.nodes.tsv\")' AS row\n",
    "FIELDTERMINATOR '\\t'\n",
    "WITH row WHERE row.division_id IS NOT NULL\n",
    "MATCH (t:Taxonomy {tax_id: row.tax_id})\n",
    "SET t.division_id = row.division_id\n",
    "\"\"\"\n",
    "@time cypher(database_id, cmd)"
   ]
  },
  {
   "cell_type": "code",
   "execution_count": 220,
   "metadata": {},
   "outputs": [
    {
     "name": "stdout",
     "output_type": "stream",
     "text": [
      " 50.492626 seconds (1.63 k allocations: 51.359 KiB)\n"
     ]
    },
    {
     "data": {
      "text/plain": [
       "Process(`\u001b[4mcypher-shell\u001b[24m \u001b[4m--address\u001b[24m \u001b[4mneo4j://localhost:7687\u001b[24m \u001b[4m--username\u001b[24m \u001b[4mneo4j\u001b[24m \u001b[4m--password\u001b[24m \u001b[4mpassword\u001b[24m \u001b[4m--database\u001b[24m \u001b[4mncbitaxonomy\u001b[24m \u001b[4m--format\u001b[24m \u001b[4mauto\u001b[24m \u001b[4m\"USING PERIODIC COMMIT\u001b[24m\n",
       "\u001b[4mLOAD CSV WITH HEADERS FROM\u001b[24m\n",
       "\u001b[4m'file:///Users/cameronprybol/2021-03-21-ncbi-taxonomy/ncbi_taxonomy.nodes.tsv' AS row\u001b[24m\n",
       "\u001b[4mFIELDTERMINATOR '\t'\u001b[24m\n",
       "\u001b[4mWITH row WHERE row.division_name IS NOT NULL\u001b[24m\n",
       "\u001b[4mMATCH (t:Taxonomy {tax_id: row.tax_id})\u001b[24m\n",
       "\u001b[4mSET t.division_name = row.division_name\u001b[24m\n",
       "\u001b[4m\"\u001b[24m`, ProcessExited(0))"
      ]
     },
     "execution_count": 220,
     "metadata": {},
     "output_type": "execute_result"
    }
   ],
   "source": [
    "cmd = \n",
    "\"\"\"\n",
    "USING PERIODIC COMMIT\n",
    "LOAD CSV WITH HEADERS FROM\n",
    "'file://$(\"$(DIR)/ncbi_taxonomy.nodes.tsv\")' AS row\n",
    "FIELDTERMINATOR '\\t'\n",
    "WITH row WHERE row.division_name IS NOT NULL\n",
    "MATCH (t:Taxonomy {tax_id: row.tax_id})\n",
    "SET t.division_name = row.division_name\n",
    "\"\"\"\n",
    "@time cypher(database_id, cmd)"
   ]
  },
  {
   "cell_type": "code",
   "execution_count": 221,
   "metadata": {},
   "outputs": [
    {
     "name": "stdout",
     "output_type": "stream",
     "text": [
      " 49.657106 seconds (1.60 k allocations: 50.828 KiB)\n"
     ]
    },
    {
     "data": {
      "text/plain": [
       "Process(`\u001b[4mcypher-shell\u001b[24m \u001b[4m--address\u001b[24m \u001b[4mneo4j://localhost:7687\u001b[24m \u001b[4m--username\u001b[24m \u001b[4mneo4j\u001b[24m \u001b[4m--password\u001b[24m \u001b[4mpassword\u001b[24m \u001b[4m--database\u001b[24m \u001b[4mncbitaxonomy\u001b[24m \u001b[4m--format\u001b[24m \u001b[4mauto\u001b[24m \u001b[4m\"USING PERIODIC COMMIT\u001b[24m\n",
       "\u001b[4mLOAD CSV WITH HEADERS FROM\u001b[24m\n",
       "\u001b[4m'file:///Users/cameronprybol/2021-03-21-ncbi-taxonomy/ncbi_taxonomy.nodes.tsv' AS row\u001b[24m\n",
       "\u001b[4mFIELDTERMINATOR '\t'\u001b[24m\n",
       "\u001b[4mWITH row WHERE row.rank IS NOT NULL\u001b[24m\n",
       "\u001b[4mMATCH (t:Taxonomy {tax_id: row.tax_id})\u001b[24m\n",
       "\u001b[4mSET t.rank = row.rank\u001b[24m\n",
       "\u001b[4m\"\u001b[24m`, ProcessExited(0))"
      ]
     },
     "execution_count": 221,
     "metadata": {},
     "output_type": "execute_result"
    }
   ],
   "source": [
    "cmd = \n",
    "\"\"\"\n",
    "USING PERIODIC COMMIT\n",
    "LOAD CSV WITH HEADERS FROM\n",
    "'file://$(\"$(DIR)/ncbi_taxonomy.nodes.tsv\")' AS row\n",
    "FIELDTERMINATOR '\\t'\n",
    "WITH row WHERE row.rank IS NOT NULL\n",
    "MATCH (t:Taxonomy {tax_id: row.tax_id})\n",
    "SET t.rank = row.rank\n",
    "\"\"\"\n",
    "@time cypher(database_id, cmd)"
   ]
  },
  {
   "cell_type": "code",
   "execution_count": 222,
   "metadata": {},
   "outputs": [
    {
     "name": "stdout",
     "output_type": "stream",
     "text": [
      " 24.969174 seconds (852 allocations: 28.781 KiB)\n"
     ]
    },
    {
     "data": {
      "text/plain": [
       "Process(`\u001b[4mcypher-shell\u001b[24m \u001b[4m--address\u001b[24m \u001b[4mneo4j://localhost:7687\u001b[24m \u001b[4m--username\u001b[24m \u001b[4mneo4j\u001b[24m \u001b[4m--password\u001b[24m \u001b[4mpassword\u001b[24m \u001b[4m--database\u001b[24m \u001b[4mncbitaxonomy\u001b[24m \u001b[4m--format\u001b[24m \u001b[4mauto\u001b[24m \u001b[4m\"USING PERIODIC COMMIT\u001b[24m\n",
       "\u001b[4mLOAD CSV WITH HEADERS FROM\u001b[24m\n",
       "\u001b[4m'file:///Users/cameronprybol/2021-03-21-ncbi-taxonomy/ncbi_taxonomy.nodes.tsv' AS row\u001b[24m\n",
       "\u001b[4mFIELDTERMINATOR '\t'\u001b[24m\n",
       "\u001b[4mWITH row WHERE row.acronym IS NOT NULL\u001b[24m\n",
       "\u001b[4mMATCH (t:Taxonomy {tax_id: row.tax_id})\u001b[24m\n",
       "\u001b[4mSET t.acronym = row.acronym\u001b[24m\n",
       "\u001b[4m\"\u001b[24m`, ProcessExited(0))"
      ]
     },
     "execution_count": 222,
     "metadata": {},
     "output_type": "execute_result"
    }
   ],
   "source": [
    "cmd = \n",
    "\"\"\"\n",
    "USING PERIODIC COMMIT\n",
    "LOAD CSV WITH HEADERS FROM\n",
    "'file://$(\"$(DIR)/ncbi_taxonomy.nodes.tsv\")' AS row\n",
    "FIELDTERMINATOR '\\t'\n",
    "WITH row WHERE row.acronym IS NOT NULL\n",
    "MATCH (t:Taxonomy {tax_id: row.tax_id})\n",
    "SET t.acronym = row.acronym\n",
    "\"\"\"\n",
    "@time cypher(database_id, cmd)"
   ]
  },
  {
   "cell_type": "code",
   "execution_count": 223,
   "metadata": {},
   "outputs": [
    {
     "name": "stdout",
     "output_type": "stream",
     "text": [
      " 22.704195 seconds (783 allocations: 27.047 KiB)\n"
     ]
    },
    {
     "data": {
      "text/plain": [
       "Process(`\u001b[4mcypher-shell\u001b[24m \u001b[4m--address\u001b[24m \u001b[4mneo4j://localhost:7687\u001b[24m \u001b[4m--username\u001b[24m \u001b[4mneo4j\u001b[24m \u001b[4m--password\u001b[24m \u001b[4mpassword\u001b[24m \u001b[4m--database\u001b[24m \u001b[4mncbitaxonomy\u001b[24m \u001b[4m--format\u001b[24m \u001b[4mauto\u001b[24m \u001b[4m\"USING PERIODIC COMMIT\u001b[24m\n",
       "\u001b[4mLOAD CSV WITH HEADERS FROM\u001b[24m\n",
       "\u001b[4m'file:///Users/cameronprybol/2021-03-21-ncbi-taxonomy/ncbi_taxonomy.nodes.tsv' AS row\u001b[24m\n",
       "\u001b[4mFIELDTERMINATOR '\t'\u001b[24m\n",
       "\u001b[4mWITH row WHERE row.in_part IS NOT NULL\u001b[24m\n",
       "\u001b[4mMATCH (t:Taxonomy {tax_id: row.tax_id})\u001b[24m\n",
       "\u001b[4mSET t.in_part = row.in_part\u001b[24m\n",
       "\u001b[4m\"\u001b[24m`, ProcessExited(0))"
      ]
     },
     "execution_count": 223,
     "metadata": {},
     "output_type": "execute_result"
    }
   ],
   "source": [
    "cmd = \n",
    "\"\"\"\n",
    "USING PERIODIC COMMIT\n",
    "LOAD CSV WITH HEADERS FROM\n",
    "'file://$(\"$(DIR)/ncbi_taxonomy.nodes.tsv\")' AS row\n",
    "FIELDTERMINATOR '\\t'\n",
    "WITH row WHERE row.in_part IS NOT NULL\n",
    "MATCH (t:Taxonomy {tax_id: row.tax_id})\n",
    "SET t.in_part = row.in_part\n",
    "\"\"\"\n",
    "@time cypher(database_id, cmd)"
   ]
  },
  {
   "cell_type": "code",
   "execution_count": 224,
   "metadata": {},
   "outputs": [
    {
     "name": "stdout",
     "output_type": "stream",
     "text": [
      " 41.095390 seconds (1.34 k allocations: 42.953 KiB)\n"
     ]
    },
    {
     "data": {
      "text/plain": [
       "Process(`\u001b[4mcypher-shell\u001b[24m \u001b[4m--address\u001b[24m \u001b[4mneo4j://localhost:7687\u001b[24m \u001b[4m--username\u001b[24m \u001b[4mneo4j\u001b[24m \u001b[4m--password\u001b[24m \u001b[4mpassword\u001b[24m \u001b[4m--database\u001b[24m \u001b[4mncbitaxonomy\u001b[24m \u001b[4m--format\u001b[24m \u001b[4mauto\u001b[24m \u001b[4m\"USING PERIODIC COMMIT\u001b[24m\n",
       "\u001b[4mLOAD CSV WITH HEADERS FROM\u001b[24m\n",
       "\u001b[4m'file:///Users/cameronprybol/2021-03-21-ncbi-taxonomy/ncbi_taxonomy.nodes.tsv' AS row\u001b[24m\n",
       "\u001b[4mFIELDTERMINATOR '\t'\u001b[24m\n",
       "\u001b[4mWITH row WHERE row.includes IS NOT NULL\u001b[24m\n",
       "\u001b[4mMATCH (t:Taxonomy {tax_id: row.tax_id})\u001b[24m\n",
       "\u001b[4mSET t.includes = row.includes\u001b[24m\n",
       "\u001b[4m\"\u001b[24m`, ProcessExited(0))"
      ]
     },
     "execution_count": 224,
     "metadata": {},
     "output_type": "execute_result"
    }
   ],
   "source": [
    "cmd = \n",
    "\"\"\"\n",
    "USING PERIODIC COMMIT\n",
    "LOAD CSV WITH HEADERS FROM\n",
    "'file://$(\"$(DIR)/ncbi_taxonomy.nodes.tsv\")' AS row\n",
    "FIELDTERMINATOR '\\t'\n",
    "WITH row WHERE row.includes IS NOT NULL\n",
    "MATCH (t:Taxonomy {tax_id: row.tax_id})\n",
    "SET t.includes = row.includes\n",
    "\"\"\"\n",
    "@time cypher(database_id, cmd)"
   ]
  },
  {
   "cell_type": "code",
   "execution_count": 225,
   "metadata": {},
   "outputs": [
    {
     "name": "stdout",
     "output_type": "stream",
     "text": [
      " 32.695385 seconds (1.09 k allocations: 35.859 KiB)\n"
     ]
    },
    {
     "data": {
      "text/plain": [
       "Process(`\u001b[4mcypher-shell\u001b[24m \u001b[4m--address\u001b[24m \u001b[4mneo4j://localhost:7687\u001b[24m \u001b[4m--username\u001b[24m \u001b[4mneo4j\u001b[24m \u001b[4m--password\u001b[24m \u001b[4mpassword\u001b[24m \u001b[4m--database\u001b[24m \u001b[4mncbitaxonomy\u001b[24m \u001b[4m--format\u001b[24m \u001b[4mauto\u001b[24m \u001b[4m\"USING PERIODIC COMMIT\u001b[24m\n",
       "\u001b[4mLOAD CSV WITH HEADERS FROM\u001b[24m\n",
       "\u001b[4m'file:///Users/cameronprybol/2021-03-21-ncbi-taxonomy/ncbi_taxonomy.nodes.tsv' AS row\u001b[24m\n",
       "\u001b[4mFIELDTERMINATOR '\t'\u001b[24m\n",
       "\u001b[4mWITH row WHERE row.common_name IS NOT NULL\u001b[24m\n",
       "\u001b[4mMATCH (t:Taxonomy {tax_id: row.tax_id})\u001b[24m\n",
       "\u001b[4mSET t.common_name = row.common_name\u001b[24m\n",
       "\u001b[4m\"\u001b[24m`, ProcessExited(0))"
      ]
     },
     "execution_count": 225,
     "metadata": {},
     "output_type": "execute_result"
    }
   ],
   "source": [
    "cmd = \n",
    "\"\"\"\n",
    "USING PERIODIC COMMIT\n",
    "LOAD CSV WITH HEADERS FROM\n",
    "'file://$(\"$(DIR)/ncbi_taxonomy.nodes.tsv\")' AS row\n",
    "FIELDTERMINATOR '\\t'\n",
    "WITH row WHERE row.common_name IS NOT NULL\n",
    "MATCH (t:Taxonomy {tax_id: row.tax_id})\n",
    "SET t.common_name = row.common_name\n",
    "\"\"\"\n",
    "@time cypher(database_id, cmd)"
   ]
  },
  {
   "cell_type": "code",
   "execution_count": 226,
   "metadata": {},
   "outputs": [
    {
     "name": "stdout",
     "output_type": "stream",
     "text": [
      " 39.209667 seconds (1.28 k allocations: 41.469 KiB)\n"
     ]
    },
    {
     "data": {
      "text/plain": [
       "Process(`\u001b[4mcypher-shell\u001b[24m \u001b[4m--address\u001b[24m \u001b[4mneo4j://localhost:7687\u001b[24m \u001b[4m--username\u001b[24m \u001b[4mneo4j\u001b[24m \u001b[4m--password\u001b[24m \u001b[4mpassword\u001b[24m \u001b[4m--database\u001b[24m \u001b[4mncbitaxonomy\u001b[24m \u001b[4m--format\u001b[24m \u001b[4mauto\u001b[24m \u001b[4m\"USING PERIODIC COMMIT\u001b[24m\n",
       "\u001b[4mLOAD CSV WITH HEADERS FROM\u001b[24m\n",
       "\u001b[4m'file:///Users/cameronprybol/2021-03-21-ncbi-taxonomy/ncbi_taxonomy.nodes.tsv' AS row\u001b[24m\n",
       "\u001b[4mFIELDTERMINATOR '\t'\u001b[24m\n",
       "\u001b[4mWITH row WHERE row.genbank_common_name IS NOT NULL\u001b[24m\n",
       "\u001b[4mMATCH (t:Taxonomy {tax_id: row.tax_id})\u001b[24m\n",
       "\u001b[4mSET t.genbank_common_name = row.genbank_common_name\u001b[24m\n",
       "\u001b[4m\"\u001b[24m`, ProcessExited(0))"
      ]
     },
     "execution_count": 226,
     "metadata": {},
     "output_type": "execute_result"
    }
   ],
   "source": [
    "cmd = \n",
    "\"\"\"\n",
    "USING PERIODIC COMMIT\n",
    "LOAD CSV WITH HEADERS FROM\n",
    "'file://$(\"$(DIR)/ncbi_taxonomy.nodes.tsv\")' AS row\n",
    "FIELDTERMINATOR '\\t'\n",
    "WITH row WHERE row.genbank_common_name IS NOT NULL\n",
    "MATCH (t:Taxonomy {tax_id: row.tax_id})\n",
    "SET t.genbank_common_name = row.genbank_common_name\n",
    "\"\"\"\n",
    "@time cypher(database_id, cmd)"
   ]
  },
  {
   "cell_type": "code",
   "execution_count": 227,
   "metadata": {},
   "outputs": [
    {
     "name": "stdout",
     "output_type": "stream",
     "text": [
      " 20.754020 seconds (726 allocations: 25.234 KiB)\n"
     ]
    },
    {
     "data": {
      "text/plain": [
       "Process(`\u001b[4mcypher-shell\u001b[24m \u001b[4m--address\u001b[24m \u001b[4mneo4j://localhost:7687\u001b[24m \u001b[4m--username\u001b[24m \u001b[4mneo4j\u001b[24m \u001b[4m--password\u001b[24m \u001b[4mpassword\u001b[24m \u001b[4m--database\u001b[24m \u001b[4mncbitaxonomy\u001b[24m \u001b[4m--format\u001b[24m \u001b[4mauto\u001b[24m \u001b[4m\"USING PERIODIC COMMIT\u001b[24m\n",
       "\u001b[4mLOAD CSV WITH HEADERS FROM\u001b[24m\n",
       "\u001b[4m'file:///Users/cameronprybol/2021-03-21-ncbi-taxonomy/ncbi_taxonomy.nodes.tsv' AS row\u001b[24m\n",
       "\u001b[4mFIELDTERMINATOR '\t'\u001b[24m\n",
       "\u001b[4mWITH row WHERE row.blast_name IS NOT NULL\u001b[24m\n",
       "\u001b[4mMATCH (t:Taxonomy {tax_id: row.tax_id})\u001b[24m\n",
       "\u001b[4mSET t.blast_name = row.blast_name\u001b[24m\n",
       "\u001b[4m\"\u001b[24m`, ProcessExited(0))"
      ]
     },
     "execution_count": 227,
     "metadata": {},
     "output_type": "execute_result"
    }
   ],
   "source": [
    "cmd = \n",
    "\"\"\"\n",
    "USING PERIODIC COMMIT\n",
    "LOAD CSV WITH HEADERS FROM\n",
    "'file://$(\"$(DIR)/ncbi_taxonomy.nodes.tsv\")' AS row\n",
    "FIELDTERMINATOR '\\t'\n",
    "WITH row WHERE row.blast_name IS NOT NULL\n",
    "MATCH (t:Taxonomy {tax_id: row.tax_id})\n",
    "SET t.blast_name = row.blast_name\n",
    "\"\"\"\n",
    "@time cypher(database_id, cmd)"
   ]
  },
  {
   "cell_type": "code",
   "execution_count": 228,
   "metadata": {},
   "outputs": [
    {
     "name": "stdout",
     "output_type": "stream",
     "text": [
      " 42.617695 seconds (1.39 k allocations: 44.516 KiB)\n"
     ]
    },
    {
     "data": {
      "text/plain": [
       "Process(`\u001b[4mcypher-shell\u001b[24m \u001b[4m--address\u001b[24m \u001b[4mneo4j://localhost:7687\u001b[24m \u001b[4m--username\u001b[24m \u001b[4mneo4j\u001b[24m \u001b[4m--password\u001b[24m \u001b[4mpassword\u001b[24m \u001b[4m--database\u001b[24m \u001b[4mncbitaxonomy\u001b[24m \u001b[4m--format\u001b[24m \u001b[4mauto\u001b[24m \u001b[4m\"USING PERIODIC COMMIT\u001b[24m\n",
       "\u001b[4mLOAD CSV WITH HEADERS FROM\u001b[24m\n",
       "\u001b[4m'file:///Users/cameronprybol/2021-03-21-ncbi-taxonomy/ncbi_taxonomy.nodes.tsv' AS row\u001b[24m\n",
       "\u001b[4mFIELDTERMINATOR '\t'\u001b[24m\n",
       "\u001b[4mWITH row WHERE row.synonym IS NOT NULL\u001b[24m\n",
       "\u001b[4mMATCH (t:Taxonomy {tax_id: row.tax_id})\u001b[24m\n",
       "\u001b[4mSET t.synonym = row.synonym\u001b[24m\n",
       "\u001b[4m\"\u001b[24m`, ProcessExited(0))"
      ]
     },
     "execution_count": 228,
     "metadata": {},
     "output_type": "execute_result"
    }
   ],
   "source": [
    "cmd = \n",
    "\"\"\"\n",
    "USING PERIODIC COMMIT\n",
    "LOAD CSV WITH HEADERS FROM\n",
    "'file://$(\"$(DIR)/ncbi_taxonomy.nodes.tsv\")' AS row\n",
    "FIELDTERMINATOR '\\t'\n",
    "WITH row WHERE row.synonym IS NOT NULL\n",
    "MATCH (t:Taxonomy {tax_id: row.tax_id})\n",
    "SET t.synonym = row.synonym\n",
    "\"\"\"\n",
    "@time cypher(database_id, cmd)"
   ]
  },
  {
   "cell_type": "code",
   "execution_count": 229,
   "metadata": {},
   "outputs": [
    {
     "name": "stdout",
     "output_type": "stream",
     "text": [
      " 24.485144 seconds (837 allocations: 28.469 KiB)\n"
     ]
    },
    {
     "data": {
      "text/plain": [
       "Process(`\u001b[4mcypher-shell\u001b[24m \u001b[4m--address\u001b[24m \u001b[4mneo4j://localhost:7687\u001b[24m \u001b[4m--username\u001b[24m \u001b[4mneo4j\u001b[24m \u001b[4m--password\u001b[24m \u001b[4mpassword\u001b[24m \u001b[4m--database\u001b[24m \u001b[4mncbitaxonomy\u001b[24m \u001b[4m--format\u001b[24m \u001b[4mauto\u001b[24m \u001b[4m\"USING PERIODIC COMMIT\u001b[24m\n",
       "\u001b[4mLOAD CSV WITH HEADERS FROM\u001b[24m\n",
       "\u001b[4m'file:///Users/cameronprybol/2021-03-21-ncbi-taxonomy/ncbi_taxonomy.nodes.tsv' AS row\u001b[24m\n",
       "\u001b[4mFIELDTERMINATOR '\t'\u001b[24m\n",
       "\u001b[4mWITH row WHERE row.genbank_synonym IS NOT NULL\u001b[24m\n",
       "\u001b[4mMATCH (t:Taxonomy {tax_id: row.tax_id})\u001b[24m\n",
       "\u001b[4mSET t.genbank_synonym = row.genbank_synonym\u001b[24m\n",
       "\u001b[4m\"\u001b[24m`, ProcessExited(0))"
      ]
     },
     "execution_count": 229,
     "metadata": {},
     "output_type": "execute_result"
    }
   ],
   "source": [
    "cmd = \n",
    "\"\"\"\n",
    "USING PERIODIC COMMIT\n",
    "LOAD CSV WITH HEADERS FROM\n",
    "'file://$(\"$(DIR)/ncbi_taxonomy.nodes.tsv\")' AS row\n",
    "FIELDTERMINATOR '\\t'\n",
    "WITH row WHERE row.genbank_synonym IS NOT NULL\n",
    "MATCH (t:Taxonomy {tax_id: row.tax_id})\n",
    "SET t.genbank_synonym = row.genbank_synonym\n",
    "\"\"\"\n",
    "@time cypher(database_id, cmd)"
   ]
  },
  {
   "cell_type": "code",
   "execution_count": 230,
   "metadata": {},
   "outputs": [
    {
     "name": "stdout",
     "output_type": "stream",
     "text": [
      " 41.317321 seconds (1.35 k allocations: 43.406 KiB)\n"
     ]
    },
    {
     "data": {
      "text/plain": [
       "Process(`\u001b[4mcypher-shell\u001b[24m \u001b[4m--address\u001b[24m \u001b[4mneo4j://localhost:7687\u001b[24m \u001b[4m--username\u001b[24m \u001b[4mneo4j\u001b[24m \u001b[4m--password\u001b[24m \u001b[4mpassword\u001b[24m \u001b[4m--database\u001b[24m \u001b[4mncbitaxonomy\u001b[24m \u001b[4m--format\u001b[24m \u001b[4mauto\u001b[24m \u001b[4m\"USING PERIODIC COMMIT\u001b[24m\n",
       "\u001b[4mLOAD CSV WITH HEADERS FROM\u001b[24m\n",
       "\u001b[4m'file:///Users/cameronprybol/2021-03-21-ncbi-taxonomy/ncbi_taxonomy.nodes.tsv' AS row\u001b[24m\n",
       "\u001b[4mFIELDTERMINATOR '\t'\u001b[24m\n",
       "\u001b[4mWITH row WHERE row.type_material IS NOT NULL\u001b[24m\n",
       "\u001b[4mMATCH (t:Taxonomy {tax_id: row.tax_id})\u001b[24m\n",
       "\u001b[4mSET t.type_material = row.type_material\u001b[24m\n",
       "\u001b[4m\"\u001b[24m`, ProcessExited(0))"
      ]
     },
     "execution_count": 230,
     "metadata": {},
     "output_type": "execute_result"
    }
   ],
   "source": [
    "cmd = \n",
    "\"\"\"\n",
    "USING PERIODIC COMMIT\n",
    "LOAD CSV WITH HEADERS FROM\n",
    "'file://$(\"$(DIR)/ncbi_taxonomy.nodes.tsv\")' AS row\n",
    "FIELDTERMINATOR '\\t'\n",
    "WITH row WHERE row.type_material IS NOT NULL\n",
    "MATCH (t:Taxonomy {tax_id: row.tax_id})\n",
    "SET t.type_material = row.type_material\n",
    "\"\"\"\n",
    "@time cypher(database_id, cmd)"
   ]
  },
  {
   "cell_type": "code",
   "execution_count": 231,
   "metadata": {},
   "outputs": [
    {
     "name": "stdout",
     "output_type": "stream",
     "text": [
      " 44.953062 seconds (1.46 k allocations: 46.312 KiB)\n"
     ]
    },
    {
     "data": {
      "text/plain": [
       "Process(`\u001b[4mcypher-shell\u001b[24m \u001b[4m--address\u001b[24m \u001b[4mneo4j://localhost:7687\u001b[24m \u001b[4m--username\u001b[24m \u001b[4mneo4j\u001b[24m \u001b[4m--password\u001b[24m \u001b[4mpassword\u001b[24m \u001b[4m--database\u001b[24m \u001b[4mncbitaxonomy\u001b[24m \u001b[4m--format\u001b[24m \u001b[4mauto\u001b[24m \u001b[4m\"USING PERIODIC COMMIT\u001b[24m\n",
       "\u001b[4mLOAD CSV WITH HEADERS FROM\u001b[24m\n",
       "\u001b[4m'file:///Users/cameronprybol/2021-03-21-ncbi-taxonomy/ncbi_taxonomy.nodes.tsv' AS row\u001b[24m\n",
       "\u001b[4mFIELDTERMINATOR '\t'\u001b[24m\n",
       "\u001b[4mWITH row WHERE row.authority IS NOT NULL\u001b[24m\n",
       "\u001b[4mMATCH (t:Taxonomy {tax_id: row.tax_id})\u001b[24m\n",
       "\u001b[4mSET t.authority = row.authority\u001b[24m\n",
       "\u001b[4m\"\u001b[24m`, ProcessExited(0))"
      ]
     },
     "execution_count": 231,
     "metadata": {},
     "output_type": "execute_result"
    }
   ],
   "source": [
    "cmd = \n",
    "\"\"\"\n",
    "USING PERIODIC COMMIT\n",
    "LOAD CSV WITH HEADERS FROM\n",
    "'file://$(\"$(DIR)/ncbi_taxonomy.nodes.tsv\")' AS row\n",
    "FIELDTERMINATOR '\\t'\n",
    "WITH row WHERE row.authority IS NOT NULL\n",
    "MATCH (t:Taxonomy {tax_id: row.tax_id})\n",
    "SET t.authority = row.authority\n",
    "\"\"\"\n",
    "@time cypher(database_id, cmd)"
   ]
  },
  {
   "cell_type": "code",
   "execution_count": 232,
   "metadata": {},
   "outputs": [
    {
     "name": "stdout",
     "output_type": "stream",
     "text": [
      " 22.311734 seconds (774 allocations: 26.859 KiB)\n"
     ]
    },
    {
     "data": {
      "text/plain": [
       "Process(`\u001b[4mcypher-shell\u001b[24m \u001b[4m--address\u001b[24m \u001b[4mneo4j://localhost:7687\u001b[24m \u001b[4m--username\u001b[24m \u001b[4mneo4j\u001b[24m \u001b[4m--password\u001b[24m \u001b[4mpassword\u001b[24m \u001b[4m--database\u001b[24m \u001b[4mncbitaxonomy\u001b[24m \u001b[4m--format\u001b[24m \u001b[4mauto\u001b[24m \u001b[4m\"USING PERIODIC COMMIT\u001b[24m\n",
       "\u001b[4mLOAD CSV WITH HEADERS FROM\u001b[24m\n",
       "\u001b[4m'file:///Users/cameronprybol/2021-03-21-ncbi-taxonomy/ncbi_taxonomy.nodes.tsv' AS row\u001b[24m\n",
       "\u001b[4mFIELDTERMINATOR '\t'\u001b[24m\n",
       "\u001b[4mWITH row WHERE row.genbank_acronym IS NOT NULL\u001b[24m\n",
       "\u001b[4mMATCH (t:Taxonomy {tax_id: row.tax_id})\u001b[24m\n",
       "\u001b[4mSET t.genbank_acronym = row.genbank_acronym\u001b[24m\n",
       "\u001b[4m\"\u001b[24m`, ProcessExited(0))"
      ]
     },
     "execution_count": 232,
     "metadata": {},
     "output_type": "execute_result"
    }
   ],
   "source": [
    "cmd = \n",
    "\"\"\"\n",
    "USING PERIODIC COMMIT\n",
    "LOAD CSV WITH HEADERS FROM\n",
    "'file://$(\"$(DIR)/ncbi_taxonomy.nodes.tsv\")' AS row\n",
    "FIELDTERMINATOR '\\t'\n",
    "WITH row WHERE row.genbank_acronym IS NOT NULL\n",
    "MATCH (t:Taxonomy {tax_id: row.tax_id})\n",
    "SET t.genbank_acronym = row.genbank_acronym\n",
    "\"\"\"\n",
    "@time cypher(database_id, cmd)"
   ]
  },
  {
   "cell_type": "code",
   "execution_count": 233,
   "metadata": {},
   "outputs": [
    {
     "name": "stdout",
     "output_type": "stream",
     "text": [
      " 39.837954 seconds (1.31 k allocations: 41.938 KiB)\n"
     ]
    },
    {
     "data": {
      "text/plain": [
       "Process(`\u001b[4mcypher-shell\u001b[24m \u001b[4m--address\u001b[24m \u001b[4mneo4j://localhost:7687\u001b[24m \u001b[4m--username\u001b[24m \u001b[4mneo4j\u001b[24m \u001b[4m--password\u001b[24m \u001b[4mpassword\u001b[24m \u001b[4m--database\u001b[24m \u001b[4mncbitaxonomy\u001b[24m \u001b[4m--format\u001b[24m \u001b[4mauto\u001b[24m \u001b[4m\"USING PERIODIC COMMIT\u001b[24m\n",
       "\u001b[4mLOAD CSV WITH HEADERS FROM\u001b[24m\n",
       "\u001b[4m'file:///Users/cameronprybol/2021-03-21-ncbi-taxonomy/ncbi_taxonomy.nodes.tsv' AS row\u001b[24m\n",
       "\u001b[4mFIELDTERMINATOR '\t'\u001b[24m\n",
       "\u001b[4mWITH row WHERE row.equivalent_name IS NOT NULL\u001b[24m\n",
       "\u001b[4mMATCH (t:Taxonomy {tax_id: row.tax_id})\u001b[24m\n",
       "\u001b[4mSET t.equivalent_name = row.equivalent_name\u001b[24m\n",
       "\u001b[4m\"\u001b[24m`, ProcessExited(0))"
      ]
     },
     "execution_count": 233,
     "metadata": {},
     "output_type": "execute_result"
    }
   ],
   "source": [
    "cmd = \n",
    "\"\"\"\n",
    "USING PERIODIC COMMIT\n",
    "LOAD CSV WITH HEADERS FROM\n",
    "'file://$(\"$(DIR)/ncbi_taxonomy.nodes.tsv\")' AS row\n",
    "FIELDTERMINATOR '\\t'\n",
    "WITH row WHERE row.equivalent_name IS NOT NULL\n",
    "MATCH (t:Taxonomy {tax_id: row.tax_id})\n",
    "SET t.equivalent_name = row.equivalent_name\n",
    "\"\"\"\n",
    "@time cypher(database_id, cmd)"
   ]
  },
  {
   "cell_type": "markdown",
   "metadata": {},
   "source": [
    "And here in the final step we create the relationships between taxa and their parent nodes"
   ]
  },
  {
   "cell_type": "code",
   "execution_count": 241,
   "metadata": {},
   "outputs": [
    {
     "name": "stdout",
     "output_type": "stream",
     "text": [
      " 95.787084 seconds (2.99 k allocations: 91.219 KiB)\n"
     ]
    },
    {
     "data": {
      "text/plain": [
       "Process(`\u001b[4mcypher-shell\u001b[24m \u001b[4m--address\u001b[24m \u001b[4mneo4j://localhost:7687\u001b[24m \u001b[4m--username\u001b[24m \u001b[4mneo4j\u001b[24m \u001b[4m--password\u001b[24m \u001b[4mpassword\u001b[24m \u001b[4m--database\u001b[24m \u001b[4mncbitaxonomy\u001b[24m \u001b[4m--format\u001b[24m \u001b[4mauto\u001b[24m \u001b[4m\"USING PERIODIC COMMIT\u001b[24m\n",
       "\u001b[4mLOAD CSV WITH HEADERS FROM\u001b[24m\n",
       "\u001b[4m'file:///Users/cameronprybol/2021-03-21-ncbi-taxonomy/ncbi_taxonomy.edges.tsv' AS row\u001b[24m\n",
       "\u001b[4mFIELDTERMINATOR '\t'\u001b[24m\n",
       "\u001b[4mMATCH (src:Taxonomy {tax_id: row.src})\u001b[24m\n",
       "\u001b[4mMATCH (dst:Taxonomy {tax_id: row.dst})\u001b[24m\n",
       "\u001b[4mMERGE (src)-[p:PARENT]->(dst)\u001b[24m\n",
       "\u001b[4m\"\u001b[24m`, ProcessExited(0))"
      ]
     },
     "execution_count": 241,
     "metadata": {},
     "output_type": "execute_result"
    }
   ],
   "source": [
    "cmd = \n",
    "\"\"\"\n",
    "USING PERIODIC COMMIT\n",
    "LOAD CSV WITH HEADERS FROM\n",
    "'file://$(\"$(DIR)/ncbi_taxonomy.edges.tsv\")' AS row\n",
    "FIELDTERMINATOR '\\t'\n",
    "MATCH (src:Taxonomy {tax_id: row.src})\n",
    "MATCH (dst:Taxonomy {tax_id: row.dst})\n",
    "MERGE (src)-[p:PARENT]->(dst)\n",
    "\"\"\"\n",
    "@time cypher(database_id, cmd)"
   ]
  },
  {
   "cell_type": "markdown",
   "metadata": {},
   "source": [
    "And that is it! We've just rebuilt the NCBI taxonomy in neo4j to allow us to do downstream work in a taxonomy-aware way"
   ]
  }
 ],
 "metadata": {
  "kernelspec": {
   "display_name": "Julia 1.5.3",
   "language": "julia",
   "name": "julia-1.5"
  },
  "language_info": {
   "file_extension": ".jl",
   "mimetype": "application/julia",
   "name": "julia",
   "version": "1.5.3"
  }
 },
 "nbformat": 4,
 "nbformat_minor": 4
}
