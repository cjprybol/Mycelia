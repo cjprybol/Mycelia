{
 "cells": [
  {
   "cell_type": "code",
   "execution_count": null,
   "metadata": {
    "tags": []
   },
   "outputs": [],
   "source": [
    "# don't try and install plotting libraries without this\n",
    "# can set in ~/.local/share/jupyter/kernels/\n",
    "# @assert ENV[\"LD_LIBRARY_PATH\"] == \"\"\n",
    "import Pkg\n",
    "pkgs = [\n",
    "    \"Revise\",\n",
    "    \"DataFrames\",\n",
    "    \"uCSV\",\n",
    "    \"StatsBase\",\n",
    "    \"Conda\",\n",
    "    \"ProgressMeter\",\n",
    "    \"Statistics\",\n",
    "    \"FASTX\",\n",
    "    \"JSON\"\n",
    "]\n",
    "Pkg.add(pkgs)\n",
    "for pkg in pkgs\n",
    "    eval(Meta.parse(\"import $pkg\"))\n",
    "end\n",
    "import Mycelia"
   ]
  },
  {
   "cell_type": "code",
   "execution_count": null,
   "metadata": {
    "tags": []
   },
   "outputs": [],
   "source": [
    "# https://www.ncbi.nlm.nih.gov/Taxonomy/Browser/wwwtax.cgi?mode=Info&id=694009&lvl=3&lin=f&keep=1&srchmode=1&unlock\n",
    "# Severe acute respiratory syndrome-related coronavirus\n",
    "root_tax_id = 694009"
   ]
  },
  {
   "cell_type": "code",
   "execution_count": null,
   "metadata": {
    "tags": []
   },
   "outputs": [],
   "source": [
    "# # --as-json-lines\n",
    "# json_summary = JSON.parse(open(`mamba run --live-stream -n ncbi-datasets-cli datasets summary virus genome taxon $(root_tax_id)`))"
   ]
  },
  {
   "cell_type": "code",
   "execution_count": null,
   "metadata": {},
   "outputs": [],
   "source": [
    "# json_lines_summary = [JSON.parse(line) for line in eachline(open(``))]\n",
    "\n",
    "\n",
    "# -n ncbi-datasets-cli\n",
    "# \n",
    "# conda --no-plugins create --channel conda-forge --channel bioconda --channel defaults --strict-channel-priority -n ncbi-datasets-cli \n",
    "\n",
    "\n",
    "\n",
    "\n",
    "conda create --channel conda-forge --channel bioconda --channel defaults --strict-channel-priority --prefix $HOME/conda-envs/ncbi-datasets-cli ncbi-datasets-cli\n",
    "\n",
    "\n",
    "# time mamba run --live-stream -n ncbi-datasets-cli datasets summary virus genome taxon 694009 --as-json-lines > 694009.summary.jsonl\n",
    "# time mamba run --live-stream -n ncbi-datasets-cli datasets summary virus genome taxon 694009 > 694009.summary.json"
   ]
  },
  {
   "cell_type": "code",
   "execution_count": null,
   "metadata": {
    "tags": []
   },
   "outputs": [],
   "source": [
    "json_lines_summary = [JSON.parse(line) for line in eachline(open(`mamba run --live-stream -n ncbi-datasets-cli datasets summary virus genome taxon $(root_tax_id) --as-json-lines`))]"
   ]
  },
  {
   "cell_type": "code",
   "execution_count": null,
   "metadata": {
    "tags": []
   },
   "outputs": [],
   "source": [
    "# ncbi_metadata = Mycelia.load_ncbi_metadata(\"genbank\")\n",
    "\n",
    "# ncbi_metadata[!, \"taxid\"] = parse.(Int, ncbi_metadata[!, \"taxid\"])\n",
    "\n",
    "# # Conda.\n",
    "# # Conda.add(\"taxonkit\", :taxonkit, channel=\"bioconda\")\n",
    "# # Conda.runconda(`run --live-stream --no-capture-output taxonkit help`, :taxonkit)\n",
    "# # run(`mamba create --channel conda-forge --channel bioconda --channel defaults --strict-channel-priority -n taxonkit taxonkit`)\n",
    "# child_tax_ids = Set(Mycelia.list_subtaxa(root_tax_id))"
   ]
  },
  {
   "cell_type": "code",
   "execution_count": null,
   "metadata": {
    "tags": []
   },
   "outputs": [],
   "source": [
    "# filtered_ncbi_metadata = ncbi_metadata[map(taxid -> taxid in child_tax_ids, ncbi_metadata[!, \"taxid\"]), :]"
   ]
  },
  {
   "cell_type": "code",
   "execution_count": null,
   "metadata": {
    "tags": []
   },
   "outputs": [],
   "source": [
    "# conda install -c conda-forge ncbi-datasets-cli\n",
    "# run(`mamba create --channel conda-forge --channel bioconda --channel defaults --strict-channel-priority -n ncbi-datasets-cli ncbi-datasets-cli`)\n",
    "\n"
   ]
  },
  {
   "cell_type": "code",
   "execution_count": null,
   "metadata": {},
   "outputs": [],
   "source": [
    "mamba run --live-stream -n ncbi-datasets-cli datasets summary virus genome taxon 694009"
   ]
  },
  {
   "cell_type": "code",
   "execution_count": null,
   "metadata": {},
   "outputs": [],
   "source": [
    "# mamba run --live-stream -n ncbi-datasets-cli datasets download genome taxon 694009 --dehydrated --filename covid-test-dehydrated.zip"
   ]
  },
  {
   "cell_type": "code",
   "execution_count": null,
   "metadata": {},
   "outputs": [],
   "source": [
    "# run(`mamba run --live-stream -n ncbi-datasets-cli datasets download genome taxon $(root_tax_id) --dehydrated --filename covid-test-dehydrated.zip`)"
   ]
  },
  {
   "cell_type": "code",
   "execution_count": null,
   "metadata": {
    "tags": []
   },
   "outputs": [],
   "source": [
    "# run(`mamba run --live-stream -n ncbi-datasets-cli datasets download virus genome taxon $(root_tax_id) --filename covid-test.zip`)"
   ]
  },
  {
   "cell_type": "code",
   "execution_count": null,
   "metadata": {},
   "outputs": [],
   "source": [
    "datasets download virus genome taxon sars-cov-2\n",
    "\n",
    "694009\n",
    "\n",
    "--dehydrated --filename human_GRCh38_dataset.zip\n",
    "\n",
    "unzip human_GRCh38_dataset.zip -d my_human_dataset\n",
    "\n",
    "datasets rehydrate --directory my_human_dataset/\n",
    "\n",
    "datasets download genome taxon human --filename human_dataset.zip"
   ]
  },
  {
   "cell_type": "code",
   "execution_count": null,
   "metadata": {
    "tags": []
   },
   "outputs": [],
   "source": [
    "# StatsBase.countmap(ncbi_metadata[!, \"assembly_level\"])"
   ]
  },
  {
   "cell_type": "code",
   "execution_count": null,
   "metadata": {},
   "outputs": [],
   "source": [
    "# # not_excluded = ncbi_metadata[!, \"excluded_from_refseq\"] .== \"\"\n",
    "# # is_full = ncbi_metadata[!, \"genome_rep\"] .== \"Full\"\n",
    "# # assembly_levels = [\"Complete Genome\"]\n",
    "# # assembly_levels = [\"Complete Genome\", \"Chromosome\"]\n",
    "# # assembly_levels = [\"Complete Genome\", \"Chromosome\", \"Scaffold\"]\n",
    "# # assembly_levels = [\"Complete Genome\", \"Chromosome\", \"Scaffold\", \"Contig\"]\n",
    "# assembly_level_filter = map(x -> x in assembly_levels, ncbi_metadata[!, \"assembly_level\"])\n",
    "# full_filter = is_full .& not_excluded .& assembly_level_filter .& tax_id_filter\n",
    "# @show count(full_filter)\n",
    "\n",
    "# # 11403 for refseq\n",
    "# # 43440 for genbank"
   ]
  },
  {
   "cell_type": "code",
   "execution_count": null,
   "metadata": {},
   "outputs": [],
   "source": [
    "# indices = findall(full_filter)\n",
    "# subset_n=0\n",
    "# if subset_n != 0\n",
    "#     indices = StatsBase.sample(indices, subset_n)\n",
    "# end\n",
    "\n",
    "# ncbi_metadata_of_interest = ncbi_metadata[indices, :]"
   ]
  },
  {
   "cell_type": "markdown",
   "metadata": {},
   "source": [
    "## Acquire pangenome input files"
   ]
  },
  {
   "cell_type": "code",
   "execution_count": null,
   "metadata": {},
   "outputs": [],
   "source": [
    "# # for extension in [\"genomic.fna.gz\", \"protein.faa.gz\", \"genomic.gbff.gz\"]\n",
    "# for extension in [\"genomic.fna.gz\"]\n",
    "#     outdir = mkpath(joinpath(DIR, extension))\n",
    "#     ProgressMeter.@showprogress for row in DataFrames.eachrow(ncbi_metadata_of_interest)\n",
    "#         url = Mycelia.ncbi_ftp_path_to_url(row[\"ftp_path\"], extension)\n",
    "#         outfile = joinpath(outdir, basename(url))\n",
    "#         if !isfile(outfile)\n",
    "#             try\n",
    "#                 Downloads.download(url, outfile)\n",
    "#             catch e\n",
    "#                 showerror(stdout, e)\n",
    "#             end\n",
    "#         end\n",
    "#     end\n",
    "# end"
   ]
  },
  {
   "cell_type": "code",
   "execution_count": null,
   "metadata": {},
   "outputs": [],
   "source": []
  }
 ],
 "metadata": {
  "kernelspec": {
   "display_name": "Julia 1.7.3",
   "language": "julia",
   "name": "julia-1.7"
  },
  "language_info": {
   "file_extension": ".jl",
   "mimetype": "application/julia",
   "name": "julia",
   "version": "1.7.3"
  }
 },
 "nbformat": 4,
 "nbformat_minor": 4
}
