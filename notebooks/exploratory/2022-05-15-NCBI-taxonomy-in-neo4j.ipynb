{
 "cells": [
  {
   "cell_type": "code",
   "execution_count": 1,
   "metadata": {},
   "outputs": [
    {
     "data": {
      "text/plain": [
       "2-element Vector{Union{Nothing, SubString{String}}}:\n",
       " \"2022-05-15\"\n",
       " \"NCBI-taxonomy-in-neo4j\""
      ]
     },
     "execution_count": 1,
     "metadata": {},
     "output_type": "execute_result"
    }
   ],
   "source": [
    "# grab entire notebook name without the extension\n",
    "DATE_TASK = \"2022-05-15-NCBI-taxonomy-in-neo4j\"\n",
    "DIR = mkpath(\"$(homedir())/workspace/$DATE_TASK\")\n",
    "cd(DIR)\n",
    "DATE, TASK = match(r\"^(\\d{4}-\\d{2}-\\d{2})-(.*)$\", DATE_TASK).captures"
   ]
  },
  {
   "cell_type": "code",
   "execution_count": 2,
   "metadata": {},
   "outputs": [],
   "source": [
    "# NEO4J_BIN_DIR = \"/home/jupyter-cjprybol/software/neo4j-community-4.4.3/bin\"\n",
    "# if !occursin(NEO4J_BIN_DIR, ENV[\"PATH\"])\n",
    "#     ENV[\"PATH\"] = \"$(NEO4J_BIN_DIR):\" * ENV[\"PATH\"]\n",
    "# end"
   ]
  },
  {
   "cell_type": "code",
   "execution_count": 3,
   "metadata": {},
   "outputs": [
    {
     "data": {
      "text/plain": [
       "\"neo4j\""
      ]
     },
     "execution_count": 3,
     "metadata": {},
     "output_type": "execute_result"
    }
   ],
   "source": [
    "database_id = \"41a45c7d\"\n",
    "# DOMAIN = \"41a45c7d.databases.neo4j.io\"\n",
    "NODES_FILE = \"$(DIR)/ncbi_taxonomy.nodes.tsv\"\n",
    "EDGES_FILE = \"$(DIR)/ncbi_taxonomy.edges.tsv\"\n",
    "USERNAME=\"neo4j\"\n",
    "# PASSWORD=readline(joinpath(homedir(), \".config\", \"neo4j\", \"ncbi-taxonomy.password.txt\"));\n",
    "PASSWORD = \"PtvnGnnS58elLLVsGwfeovOLi5xdfPe0hTMrwa_WtbM\"\n",
    "ADDRESS=\"neo4j+s://$(database_id).databases.neo4j.io:7687\"\n",
    "# ADDRESS=\"neo4j+s://$(DOMAIN):7687\"\n",
    "NEO4J_IMPORT_DIRECTORY=\"/var/lib/neo4j/import\"\n",
    "DATABASE = \"neo4j\""
   ]
  },
  {
   "cell_type": "code",
   "execution_count": 4,
   "metadata": {},
   "outputs": [
    {
     "data": {
      "text/plain": [
       "cypher (generic function with 1 method)"
      ]
     },
     "execution_count": 4,
     "metadata": {},
     "output_type": "execute_result"
    }
   ],
   "source": [
    "function cypher(;address, username, password, database, cmd)\n",
    "    return `cypher-shell --address $address --username $username --password $password --database $(database) --format auto $(cmd)`\n",
    "end"
   ]
  },
  {
   "cell_type": "code",
   "execution_count": 5,
   "metadata": {},
   "outputs": [
    {
     "name": "stderr",
     "output_type": "stream",
     "text": [
      "\u001b[32m\u001b[1m    Updating\u001b[22m\u001b[39m registry at `~/.julia/registries/General`\n",
      "\u001b[32m\u001b[1m   Resolving\u001b[22m\u001b[39m package versions...\n",
      "\u001b[32m\u001b[1m  No Changes\u001b[22m\u001b[39m to `~/git/Mycelia/docs/Project.toml`\n",
      "\u001b[32m\u001b[1m  No Changes\u001b[22m\u001b[39m to `~/git/Mycelia/docs/Manifest.toml`\n",
      "\u001b[32m\u001b[1m   Resolving\u001b[22m\u001b[39m package versions...\n",
      "\u001b[32m\u001b[1m  No Changes\u001b[22m\u001b[39m to `~/git/Mycelia/docs/Project.toml`\n",
      "\u001b[32m\u001b[1m  No Changes\u001b[22m\u001b[39m to `~/git/Mycelia/docs/Manifest.toml`\n",
      "\u001b[32m\u001b[1m   Resolving\u001b[22m\u001b[39m package versions...\n",
      "\u001b[32m\u001b[1m  No Changes\u001b[22m\u001b[39m to `~/git/Mycelia/docs/Project.toml`\n",
      "\u001b[32m\u001b[1m  No Changes\u001b[22m\u001b[39m to `~/git/Mycelia/docs/Manifest.toml`\n",
      "\u001b[32m\u001b[1m   Resolving\u001b[22m\u001b[39m package versions...\n",
      "\u001b[32m\u001b[1m  No Changes\u001b[22m\u001b[39m to `~/git/Mycelia/docs/Project.toml`\n",
      "\u001b[32m\u001b[1m  No Changes\u001b[22m\u001b[39m to `~/git/Mycelia/docs/Manifest.toml`\n",
      "\u001b[32m\u001b[1m   Resolving\u001b[22m\u001b[39m package versions...\n",
      "\u001b[32m\u001b[1m  No Changes\u001b[22m\u001b[39m to `~/git/Mycelia/docs/Project.toml`\n",
      "\u001b[32m\u001b[1m  No Changes\u001b[22m\u001b[39m to `~/git/Mycelia/docs/Manifest.toml`\n"
     ]
    }
   ],
   "source": [
    "import Pkg\n",
    "pkgs = [\n",
    "    \"DataFrames\",\n",
    "    \"ProgressMeter\",\n",
    "    \"Graphs\",\n",
    "    \"MetaGraphs\",\n",
    "    \"uCSV\"\n",
    "]\n",
    "\n",
    "for pkg in pkgs\n",
    "    try\n",
    "        Pkg.add(pkg)\n",
    "    catch\n",
    "#         # tried to install an unregistered local package\n",
    "    end\n",
    "    eval(Meta.parse(\"import $pkg\"))\n",
    "end"
   ]
  },
  {
   "cell_type": "code",
   "execution_count": 6,
   "metadata": {},
   "outputs": [],
   "source": [
    "# sudo apt-get remove neo4j\n",
    "# sudo rm -rf /var/lib/neo4j\n",
    "# sudo rm -rf /etc/neo4j\n",
    "# sudo rm -rf /var/log/neo4j\n",
    "# sudo rm -rf /var/lib/neo4j\n",
    "# sudo apt-get install neo4j"
   ]
  },
  {
   "cell_type": "code",
   "execution_count": 17,
   "metadata": {},
   "outputs": [
    {
     "data": {
      "text/plain": [
       "list_databases (generic function with 1 method)"
      ]
     },
     "execution_count": 17,
     "metadata": {},
     "output_type": "execute_result"
    }
   ],
   "source": [
    "function list_databases(;address=\"neo4j://localhost:7687\", username=\"neo4j\", password=\"password\")\n",
    "    @show password\n",
    "    cmd = `cypher-shell --address $(address) --username $(username) --password $(password) --database system --format auto \"show databases\"`\n",
    "    @show cmd\n",
    "    io = open(cmd)\n",
    "    return DataFrames.DataFrame(uCSV.read(io, header=1, quotes='\"', encodings=Dict(\"FALSE\" => false, \"TRUE\" => true))...)\n",
    "end"
   ]
  },
  {
   "cell_type": "code",
   "execution_count": 18,
   "metadata": {},
   "outputs": [],
   "source": [
    "# # run(`sudo neo4j stop`)\n",
    "# # run(`sudo neo4j status`)\n"
   ]
  },
  {
   "cell_type": "code",
   "execution_count": 31,
   "metadata": {},
   "outputs": [
    {
     "name": "stdout",
     "output_type": "stream",
     "text": [
      "Directories in use:\n",
      "home:         /var/lib/neo4j\n",
      "config:       /etc/neo4j\n",
      "logs:         /var/lib/neo4j/logs\n",
      "plugins:      /var/lib/neo4j/plugins\n",
      "import:       /var/lib/neo4j\n",
      "data:         /var/lib/neo4j/data\n",
      "certificates: /var/lib/neo4j/certificates\n",
      "licenses:     /var/lib/neo4j/licenses\n",
      "run:          /var/lib/neo4j/run\n",
      "Starting Neo4j.\n",
      "Started neo4j (pid:30359). It is available at http://localhost:7474\n",
      "There may be a short delay until the server is ready.\n"
     ]
    },
    {
     "name": "stderr",
     "output_type": "stream",
     "text": [
      "WARNING: Max 4096 open files allowed, minimum of 40000 recommended. See the Neo4j manual.\n"
     ]
    },
    {
     "data": {
      "text/plain": [
       "Process(`\u001b[4msudo\u001b[24m \u001b[4mneo4j\u001b[24m \u001b[4mstart\u001b[24m`, ProcessExited(0))"
      ]
     },
     "execution_count": 31,
     "metadata": {},
     "output_type": "execute_result"
    }
   ],
   "source": [
    "run(`sudo neo4j start`)"
   ]
  },
  {
   "cell_type": "code",
   "execution_count": 35,
   "metadata": {},
   "outputs": [
    {
     "name": "stdout",
     "output_type": "stream",
     "text": [
      "Neo4j is running at pid 30668\n"
     ]
    },
    {
     "data": {
      "text/plain": [
       "Process(`\u001b[4mneo4j\u001b[24m \u001b[4mstatus\u001b[24m`, ProcessExited(0))"
      ]
     },
     "execution_count": 35,
     "metadata": {},
     "output_type": "execute_result"
    }
   ],
   "source": [
    "run(`neo4j status`)"
   ]
  },
  {
   "cell_type": "markdown",
   "metadata": {},
   "source": [
    "```\n",
    "Permission denied.\n",
    "\n",
    "The credentials you provided were valid, but must be changed before you can use this instance. If this is the first time you are using Neo4j, this is to ensure you are not using the default credentials in production. If you are not using default credentials, you are getting this message because an administrator requires a password change\n",
    "```"
   ]
  },
  {
   "cell_type": "code",
   "execution_count": 39,
   "metadata": {},
   "outputs": [
    {
     "name": "stderr",
     "output_type": "stream",
     "text": [
      "Selecting JVM - Version:11.0.15+10-Ubuntu-0ubuntu0.18.04.1, Name:OpenJDK 64-Bit Server VM, Vendor:Private Build\n"
     ]
    },
    {
     "name": "stdout",
     "output_type": "stream",
     "text": [
      "Changed password for user 'neo4j'.\n"
     ]
    },
    {
     "data": {
      "text/plain": [
       "Process(`\u001b[4msudo\u001b[24m \u001b[4mneo4j-admin\u001b[24m \u001b[4mset-initial-password\u001b[24m \u001b[4mtestpass\u001b[24m`, ProcessExited(0))"
      ]
     },
     "execution_count": 39,
     "metadata": {},
     "output_type": "execute_result"
    }
   ],
   "source": [
    "# run(`sudo neo4j-admin set-initial-password testpass`)"
   ]
  },
  {
   "cell_type": "code",
   "execution_count": 42,
   "metadata": {},
   "outputs": [],
   "source": [
    "# had to stop and restart to get the password change to take effect\n",
    "# run(`sudo neo4j stop`)\n",
    "# run(`sudo neo4j start`)"
   ]
  },
  {
   "cell_type": "code",
   "execution_count": 77,
   "metadata": {},
   "outputs": [
    {
     "name": "stdout",
     "output_type": "stream",
     "text": [
      "password = \"testpass\"\n",
      "cmd = `cypher-shell --address neo4j://localhost:7687 --username neo4j --password testpass --database system --format auto 'show databases'`\n"
     ]
    },
    {
     "data": {
      "text/html": [
       "<div class=\"data-frame\"><p>2 rows × 10 columns (omitted printing of 3 columns)</p><table class=\"data-frame\"><thead><tr><th></th><th>name</th><th> aliases</th><th> access</th><th> address</th><th> role</th><th> requestedStatus</th><th> currentStatus</th></tr><tr><th></th><th title=\"String\">String</th><th title=\"String\">String</th><th title=\"String\">String</th><th title=\"String\">String</th><th title=\"String\">String</th><th title=\"String\">String</th><th title=\"String\">String</th></tr></thead><tbody><tr><th>1</th><td>neo4j</td><td> []</td><td>read-write</td><td>localhost:7687</td><td>standalone</td><td>online</td><td>online</td></tr><tr><th>2</th><td>system</td><td> []</td><td>read-write</td><td>localhost:7687</td><td>standalone</td><td>online</td><td>online</td></tr></tbody></table></div>"
      ],
      "text/latex": [
       "\\begin{tabular}{r|cccccccc}\n",
       "\t& name &  aliases &  access &  address &  role &  requestedStatus &  currentStatus & \\\\\n",
       "\t\\hline\n",
       "\t& String & String & String & String & String & String & String & \\\\\n",
       "\t\\hline\n",
       "\t1 & neo4j &  [] & read-write & localhost:7687 & standalone & online & online & $\\dots$ \\\\\n",
       "\t2 & system &  [] & read-write & localhost:7687 & standalone & online & online & $\\dots$ \\\\\n",
       "\\end{tabular}\n"
      ],
      "text/plain": [
       "\u001b[1m2×10 DataFrame\u001b[0m\n",
       "\u001b[1m Row \u001b[0m│\u001b[1m name   \u001b[0m\u001b[1m  aliases \u001b[0m\u001b[1m  access    \u001b[0m\u001b[1m  address       \u001b[0m\u001b[1m  role      \u001b[0m\u001b[1m  requestedSta\u001b[0m ⋯\n",
       "\u001b[1m     \u001b[0m│\u001b[90m String \u001b[0m\u001b[90m String   \u001b[0m\u001b[90m String     \u001b[0m\u001b[90m String         \u001b[0m\u001b[90m String     \u001b[0m\u001b[90m String       \u001b[0m ⋯\n",
       "─────┼──────────────────────────────────────────────────────────────────────────\n",
       "   1 │ neo4j    []       read-write  localhost:7687  standalone  online        ⋯\n",
       "   2 │ system   []       read-write  localhost:7687  standalone  online\n",
       "\u001b[36m                                                               5 columns omitted\u001b[0m"
      ]
     },
     "execution_count": 77,
     "metadata": {},
     "output_type": "execute_result"
    }
   ],
   "source": [
    "# p = \"neo4j\"\n",
    "local_password = \"testpass\"\n",
    "# p = \"7^9\\$qMv\"\n",
    "list_databases(password=local_password)"
   ]
  },
  {
   "cell_type": "code",
   "execution_count": 49,
   "metadata": {},
   "outputs": [
    {
     "data": {
      "text/plain": [
       "Process(`\u001b[4mcypher-shell\u001b[24m \u001b[4m--address\u001b[24m \u001b[4mneo4j://localhost:7687\u001b[24m \u001b[4m--username\u001b[24m \u001b[4mneo4j\u001b[24m \u001b[4m--password\u001b[24m \u001b[4mtestpass\u001b[24m \u001b[4m--database\u001b[24m \u001b[4mneo4j\u001b[24m \u001b[4m--format\u001b[24m \u001b[4mauto\u001b[24m \u001b[4m'MATCH (n) RETURN n LIMIT 10'\u001b[24m`, ProcessExited(0))"
      ]
     },
     "execution_count": 49,
     "metadata": {},
     "output_type": "execute_result"
    }
   ],
   "source": [
    "cmd=\"MATCH (n) RETURN n LIMIT 10\"\n",
    "run(cypher(address=local_address, username=USERNAME, password=local_password, database=DATABASE, cmd=cmd))"
   ]
  },
  {
   "cell_type": "code",
   "execution_count": 44,
   "metadata": {},
   "outputs": [
    {
     "data": {
      "text/plain": [
       "\"neo4j://localhost:7687\""
      ]
     },
     "execution_count": 44,
     "metadata": {},
     "output_type": "execute_result"
    }
   ],
   "source": [
    "local_address=\"neo4j://localhost:7687\""
   ]
  },
  {
   "cell_type": "code",
   "execution_count": 48,
   "metadata": {},
   "outputs": [
    {
     "data": {
      "text/plain": [
       "Process(`\u001b[4mcypher-shell\u001b[24m \u001b[4m--address\u001b[24m \u001b[4mneo4j://localhost:7687\u001b[24m \u001b[4m--username\u001b[24m \u001b[4mneo4j\u001b[24m \u001b[4m--password\u001b[24m \u001b[4mtestpass\u001b[24m \u001b[4m--database\u001b[24m \u001b[4mneo4j\u001b[24m \u001b[4m--format\u001b[24m \u001b[4mauto\u001b[24m \u001b[4m'MATCH (n) DETACH DELETE n'\u001b[24m`, ProcessExited(0))"
      ]
     },
     "execution_count": 48,
     "metadata": {},
     "output_type": "execute_result"
    }
   ],
   "source": [
    "cmd=\"MATCH (n) DETACH DELETE n\"\n",
    "run(cypher(address=local_address, username=USERNAME, password=local_password, database=DATABASE, cmd=cmd))"
   ]
  },
  {
   "cell_type": "code",
   "execution_count": 50,
   "metadata": {},
   "outputs": [
    {
     "data": {
      "text/plain": [
       "Process(`\u001b[4mcypher-shell\u001b[24m \u001b[4m--address\u001b[24m \u001b[4mneo4j://localhost:7687\u001b[24m \u001b[4m--username\u001b[24m \u001b[4mneo4j\u001b[24m \u001b[4m--password\u001b[24m \u001b[4mtestpass\u001b[24m \u001b[4m--database\u001b[24m \u001b[4mneo4j\u001b[24m \u001b[4m--format\u001b[24m \u001b[4mauto\u001b[24m \u001b[4m'MATCH (n) RETURN n LIMIT 10'\u001b[24m`, ProcessExited(0))"
      ]
     },
     "execution_count": 50,
     "metadata": {},
     "output_type": "execute_result"
    }
   ],
   "source": [
    "cmd=\"MATCH (n) RETURN n LIMIT 10\"\n",
    "run(cypher(address=local_address, username=USERNAME, password=local_password, database=DATABASE, cmd=cmd))"
   ]
  },
  {
   "cell_type": "code",
   "execution_count": 51,
   "metadata": {},
   "outputs": [],
   "source": [
    "# works but can't update locally, need to push and restart kernel to activate changes\n",
    "# \"https://github.com/cjprybol/Mycelia.git#master\",\n",
    "# didn't work\n",
    "# \"$(homedir())/git/Mycelia#master\",\n",
    "pkg_path = \"$(homedir())/git/Mycelia\"\n",
    "try\n",
    "    eval(Meta.parse(\"import $(basename(pkg_path))\"))\n",
    "catch\n",
    "    # Pkg.add(url=pkg)\n",
    "    Pkg.develop(path=pkg_path)\n",
    "    # pkg = replace(basename(pkg), \".git#master\" => \"\")\n",
    "    # pkg = replace(basename(pkg), \"#master\" => \"\")\n",
    "    eval(Meta.parse(\"import $(basename(pkg_path))\"))\n",
    "end"
   ]
  },
  {
   "cell_type": "markdown",
   "metadata": {},
   "source": [
    "## obtain NCBI taxonomy"
   ]
  },
  {
   "cell_type": "code",
   "execution_count": 52,
   "metadata": {},
   "outputs": [
    {
     "data": {
      "text/plain": [
       "9-element Vector{String}:\n",
       " \"citations.dmp\"\n",
       " \"delnodes.dmp\"\n",
       " \"division.dmp\"\n",
       " \"gc.prt\"\n",
       " \"gencode.dmp\"\n",
       " \"merged.dmp\"\n",
       " \"names.dmp\"\n",
       " \"nodes.dmp\"\n",
       " \"readme.txt\""
      ]
     },
     "execution_count": 52,
     "metadata": {},
     "output_type": "execute_result"
    }
   ],
   "source": [
    "taxdump_url = \"https://ftp.ncbi.nih.gov/pub/taxonomy/taxdump.tar.gz\"\n",
    "taxdump_local_tarball = \"$(DIR)/$(basename(taxdump_url))\"\n",
    "\n",
    "if !isfile(taxdump_local_tarball)\n",
    "    download(taxdump_url, taxdump_local_tarball)\n",
    "end\n",
    "\n",
    "taxdump_out = replace(taxdump_local_tarball, \".tar.gz\" => \"\")\n",
    "if !isdir(taxdump_out)\n",
    "    mkpath(taxdump_out)\n",
    "    run(`tar -xvzf $(taxdump_local_tarball) -C $(taxdump_out)`)\n",
    "end\n",
    "\n",
    "readdir(taxdump_out)"
   ]
  },
  {
   "cell_type": "code",
   "execution_count": 53,
   "metadata": {},
   "outputs": [
    {
     "name": "stderr",
     "output_type": "stream",
     "text": [
      "\u001b[32mProgress: 100%|█████████████████████████████████████████| Time: 0:00:23\u001b[39m39m\n"
     ]
    },
    {
     "data": {
      "text/html": [
       "<div class=\"data-frame\"><p>3,615,723 rows × 4 columns (omitted printing of 2 columns)</p><table class=\"data-frame\"><thead><tr><th></th><th>tax_id</th><th>name_txt</th></tr><tr><th></th><th title=\"String\">String</th><th title=\"String\">String</th></tr></thead><tbody><tr><th>1</th><td>1</td><td>all</td></tr><tr><th>2</th><td>1</td><td>root</td></tr><tr><th>3</th><td>2</td><td>Bacteria</td></tr><tr><th>4</th><td>2</td><td>bacteria</td></tr><tr><th>5</th><td>2</td><td>eubacteria</td></tr><tr><th>6</th><td>2</td><td>Monera</td></tr><tr><th>7</th><td>2</td><td>Procaryotae</td></tr><tr><th>8</th><td>2</td><td>Prokaryotae</td></tr><tr><th>9</th><td>2</td><td>Prokaryota</td></tr><tr><th>10</th><td>2</td><td>prokaryote</td></tr><tr><th>11</th><td>2</td><td>prokaryotes</td></tr><tr><th>12</th><td>6</td><td>Azorhizobium Dreyfus et al. 1988 emend. Lang et al. 2013</td></tr><tr><th>13</th><td>6</td><td>Azorhizobium</td></tr><tr><th>14</th><td>7</td><td>ATCC 43989</td></tr><tr><th>15</th><td>7</td><td>Azorhizobium caulinodans Dreyfus et al. 1988</td></tr><tr><th>16</th><td>7</td><td>Azorhizobium caulinodans</td></tr><tr><th>17</th><td>7</td><td>Azotirhizobium caulinodans</td></tr><tr><th>18</th><td>7</td><td>CCUG 26647</td></tr><tr><th>19</th><td>7</td><td>DSM 5975</td></tr><tr><th>20</th><td>7</td><td>IFO 14845</td></tr><tr><th>21</th><td>7</td><td>JCM 20966</td></tr><tr><th>22</th><td>7</td><td>LMG 6465</td></tr><tr><th>23</th><td>7</td><td>LMG:6465</td></tr><tr><th>24</th><td>7</td><td>NBRC 14845</td></tr><tr><th>25</th><td>7</td><td>ORS 571</td></tr><tr><th>26</th><td>9</td><td>Acyrthosiphon pisum symbiont P</td></tr><tr><th>27</th><td>9</td><td>Buchnera aphidicola Munson et al. 1991</td></tr><tr><th>28</th><td>9</td><td>Buchnera aphidicola</td></tr><tr><th>29</th><td>9</td><td>primary endosymbiont of Schizaphis graminum</td></tr><tr><th>30</th><td>10</td><td>Cellvibrio (ex Winogradsky 1929) Blackall et al. 1986 emend. Humphry et al. 2003</td></tr><tr><th>&vellip;</th><td>&vellip;</td><td>&vellip;</td></tr></tbody></table></div>"
      ],
      "text/latex": [
       "\\begin{tabular}{r|ccc}\n",
       "\t& tax\\_id & name\\_txt & \\\\\n",
       "\t\\hline\n",
       "\t& String & String & \\\\\n",
       "\t\\hline\n",
       "\t1 & 1 & all & $\\dots$ \\\\\n",
       "\t2 & 1 & root & $\\dots$ \\\\\n",
       "\t3 & 2 & Bacteria & $\\dots$ \\\\\n",
       "\t4 & 2 & bacteria & $\\dots$ \\\\\n",
       "\t5 & 2 & eubacteria & $\\dots$ \\\\\n",
       "\t6 & 2 & Monera & $\\dots$ \\\\\n",
       "\t7 & 2 & Procaryotae & $\\dots$ \\\\\n",
       "\t8 & 2 & Prokaryotae & $\\dots$ \\\\\n",
       "\t9 & 2 & Prokaryota & $\\dots$ \\\\\n",
       "\t10 & 2 & prokaryote & $\\dots$ \\\\\n",
       "\t11 & 2 & prokaryotes & $\\dots$ \\\\\n",
       "\t12 & 6 & Azorhizobium Dreyfus et al. 1988 emend. Lang et al. 2013 & $\\dots$ \\\\\n",
       "\t13 & 6 & Azorhizobium & $\\dots$ \\\\\n",
       "\t14 & 7 & ATCC 43989 & $\\dots$ \\\\\n",
       "\t15 & 7 & Azorhizobium caulinodans Dreyfus et al. 1988 & $\\dots$ \\\\\n",
       "\t16 & 7 & Azorhizobium caulinodans & $\\dots$ \\\\\n",
       "\t17 & 7 & Azotirhizobium caulinodans & $\\dots$ \\\\\n",
       "\t18 & 7 & CCUG 26647 & $\\dots$ \\\\\n",
       "\t19 & 7 & DSM 5975 & $\\dots$ \\\\\n",
       "\t20 & 7 & IFO 14845 & $\\dots$ \\\\\n",
       "\t21 & 7 & JCM 20966 & $\\dots$ \\\\\n",
       "\t22 & 7 & LMG 6465 & $\\dots$ \\\\\n",
       "\t23 & 7 & LMG:6465 & $\\dots$ \\\\\n",
       "\t24 & 7 & NBRC 14845 & $\\dots$ \\\\\n",
       "\t25 & 7 & ORS 571 & $\\dots$ \\\\\n",
       "\t26 & 9 & Acyrthosiphon pisum symbiont P & $\\dots$ \\\\\n",
       "\t27 & 9 & Buchnera aphidicola Munson et al. 1991 & $\\dots$ \\\\\n",
       "\t28 & 9 & Buchnera aphidicola & $\\dots$ \\\\\n",
       "\t29 & 9 & primary endosymbiont of Schizaphis graminum & $\\dots$ \\\\\n",
       "\t30 & 10 & Cellvibrio (ex Winogradsky 1929) Blackall et al. 1986 emend. Humphry et al. 2003 & $\\dots$ \\\\\n",
       "\t$\\dots$ & $\\dots$ & $\\dots$ &  \\\\\n",
       "\\end{tabular}\n"
      ],
      "text/plain": [
       "\u001b[1m3615723×4 DataFrame\u001b[0m\n",
       "\u001b[1m     Row \u001b[0m│\u001b[1m tax_id  \u001b[0m\u001b[1m name_txt                          \u001b[0m\u001b[1m unique_name            \u001b[0m ⋯\n",
       "\u001b[1m         \u001b[0m│\u001b[90m String  \u001b[0m\u001b[90m String                            \u001b[0m\u001b[90m String                 \u001b[0m ⋯\n",
       "─────────┼──────────────────────────────────────────────────────────────────────\n",
       "       1 │ 1        all                                                        ⋯\n",
       "       2 │ 1        root\n",
       "       3 │ 2        Bacteria                           Bacteria <bacteria>\n",
       "       4 │ 2        bacteria\n",
       "       5 │ 2        eubacteria                                                 ⋯\n",
       "       6 │ 2        Monera                             Monera <bacteria>\n",
       "       7 │ 2        Procaryotae                        Procaryotae <bacteria>\n",
       "       8 │ 2        Prokaryotae                        Prokaryotae <bacteria>\n",
       "       9 │ 2        Prokaryota                         Prokaryota <bacteria>   ⋯\n",
       "      10 │ 2        prokaryote                         prokaryote <bacteria>\n",
       "      11 │ 2        prokaryotes                        prokaryotes <bacteria>\n",
       "    ⋮    │    ⋮                     ⋮                             ⋮            ⋱\n",
       " 3615714 │ 2943987  Coleus articulatus (I.M.Johnst.)…\n",
       " 3615715 │ 2943987  Coleus articulatus                                         ⋯\n",
       " 3615716 │ 2943987  Holostylon katangense (De Wild.)…\n",
       " 3615717 │ 2943987  Holostylon katangense\n",
       " 3615718 │ 2943987  Plectranthus katangensis De Wild…\n",
       " 3615719 │ 2943987  Plectranthus katangensis                                   ⋯\n",
       " 3615720 │ 2943987  Symphostemon articulatus I.M.Joh…\n",
       " 3615721 │ 2943987  Symphostemon articulatus\n",
       " 3615722 │ 2943991  Velutininae\n",
       " 3615723 │ 2943994  Lamellaria latens complex                                  ⋯\n",
       "\u001b[36m                                              2 columns and 3615702 rows omitted\u001b[0m"
      ]
     },
     "execution_count": 53,
     "metadata": {},
     "output_type": "execute_result"
    }
   ],
   "source": [
    "#     Here we will create an in-memory dataframe to capture the contents of the names.dmp file\n",
    "\n",
    "# Taxonomy names file (names.dmp):\n",
    "# \ttax_id\t\t\t\t\t-- the id of node associated with this name\n",
    "# \tname_txt\t\t\t\t-- name itself\n",
    "# \tunique name\t\t\t\t-- the unique variant of this name if name not unique\n",
    "# \tname class\t\t\t\t-- (synonym, common name, ...)\n",
    "\n",
    "names_dmp = DataFrames.DataFrame(\n",
    "    tax_id = String[],\n",
    "    name_txt = String[],\n",
    "    unique_name = String[],\n",
    "    name_class = String[]\n",
    ")\n",
    "ProgressMeter.@showprogress for line in split(read(open(\"$(taxdump_out)/names.dmp\"), String), \"\\t|\\n\")\n",
    "    if isempty(line)\n",
    "        continue\n",
    "    else\n",
    "        (tax_id, name_txt, unique_name, name_class) = split(line, \"\\t|\\t\")\n",
    "        # tax_id = parse(Int, tax_id_string)\n",
    "        row = (;tax_id, name_txt, unique_name, name_class)\n",
    "        push!(names_dmp, row)\n",
    "    end\n",
    "end\n",
    "names_dmp\n",
    "# all are unique\n",
    "# unique!(names_dmp)"
   ]
  },
  {
   "cell_type": "code",
   "execution_count": 54,
   "metadata": {},
   "outputs": [
    {
     "name": "stderr",
     "output_type": "stream",
     "text": [
      "\u001b[32mProgress: 100%|█████████████████████████████████████████| Time: 0:06:00\u001b[39mm31\u001b[39mm\n"
     ]
    },
    {
     "data": {
      "text/html": [
       "<div class=\"data-frame\"><p>2,420,860 rows × 13 columns (omitted printing of 11 columns)</p><table class=\"data-frame\"><thead><tr><th></th><th>acronym</th><th>authority</th></tr><tr><th></th><th title=\"Union{Missing, String}\">String?</th><th title=\"Union{Missing, String}\">String?</th></tr></thead><tbody><tr><th>1</th><td><em>missing</em></td><td><em>missing</em></td></tr><tr><th>2</th><td><em>missing</em></td><td><em>missing</em></td></tr><tr><th>3</th><td><em>missing</em></td><td>Azorhizobium Dreyfus et al. 1988 emend. Lang et al. 2013</td></tr><tr><th>4</th><td><em>missing</em></td><td>Azorhizobium caulinodans Dreyfus et al. 1988</td></tr><tr><th>5</th><td><em>missing</em></td><td>Buchnera aphidicola Munson et al. 1991</td></tr><tr><th>6</th><td><em>missing</em></td><td>Cellvibrio (ex Winogradsky 1929) Blackall et al. 1986 emend. Humphry et al. 2003;;;Cellvibrio (ex Winogradsky 1929) Blackall et al. 1986 emend. Suarez et al. 2014;;;&quot;Cellvibrio&quot; Winogradsky 1929</td></tr><tr><th>7</th><td><em>missing</em></td><td>&quot;Cellulomonas gilvus&quot; (Hulcher and King 1958) Christopherson et al. 2013;;;&quot;Cellvibrio gilvus&quot; Hulcher and King 1958</td></tr><tr><th>8</th><td><em>missing</em></td><td>Dictyoglomus Saiki et al. 1985</td></tr><tr><th>9</th><td><em>missing</em></td><td>Dictyoglomus thermophilum Saiki et al. 1985</td></tr><tr><th>10</th><td><em>missing</em></td><td>Methylophilus Jenkins et al. 1987</td></tr><tr><th>11</th><td><em>missing</em></td><td>Methylophilus methylotrophus Jenkins et al. 1987</td></tr><tr><th>12</th><td><em>missing</em></td><td>Pelobacter Schink and Pfennig 1983</td></tr><tr><th>13</th><td><em>missing</em></td><td>Pelobacter carbinolicus Schink 1984;;;Syntrophotalea carbinolica (Schink 1984) Waite et al. 2020</td></tr><tr><th>14</th><td><em>missing</em></td><td>Phenylobacterium Lingens et al. 1985 emend. Abraham et al. 2008;;;Phenylobacterium Lingens et al. 1985 emend. Kanso and Patel 2004;;;Phenylobacterium Lingens et al. 1985 emend. Oh and Roh 2012;;;Phenylobacterium Lingens et al. 1985 emend. Tiago et al. 2005</td></tr><tr><th>15</th><td><em>missing</em></td><td>Phenylobacterium immobile Lingens et al. 1985</td></tr><tr><th>16</th><td><em>missing</em></td><td>Shewanella MacDonell and Colwell 1986</td></tr><tr><th>17</th><td><em>missing</em></td><td>Alteromonas colwelliana Weiner et al. 1988;;;Shewanella affinis Ivanova et al. 2004;;;Shewanella colwelliana (Weiner et al. 1988) Coyne et al. 1990 emend. Thorell et al. 2019</td></tr><tr><th>18</th><td><em>missing</em></td><td>Alteromonas putrefaciens (ex Derby and Hammer) Lee et al. 1981;;;&quot;Pseudomonas putrefaciens&quot; (Derby and Hammer) Long and Hammer 1941;;;Shewanella putrefaciens (Lee et al. 1981) MacDonell and Colwell 1986 emend. Thorell et al. 2019</td></tr><tr><th>19</th><td><em>missing</em></td><td>Alteromonas hanedai Jensen et al. 1981;;;Shewanella hanedai (Jensen et al. 1981) MacDonell and Colwell 1986;;;Shewanella hanedai (Jensen et al. 1981) MacDonell and Colwell 1986 emend. Cao et al. 2021</td></tr><tr><th>20</th><td><em>missing</em></td><td><em>missing</em></td></tr><tr><th>21</th><td><em>missing</em></td><td><em>missing</em></td></tr><tr><th>22</th><td><em>missing</em></td><td>Myxococcales Tchan et al. 1948</td></tr><tr><th>23</th><td><em>missing</em></td><td>Myxococcaceae Jahn et al. 1924 (Approved Lists 1980) emend. Lang et al. 2015</td></tr><tr><th>24</th><td><em>missing</em></td><td>Myxococcus Thaxter 1892 emend. Lang and Stackebrandt 2009</td></tr><tr><th>25</th><td><em>missing</em></td><td>&quot;Micrococcus fulvus&quot; Cohn 1875;;;Myxococcus fulvus (Cohn 1875) Jahn 1911</td></tr><tr><th>26</th><td><em>missing</em></td><td>Myxococcus xanthus Beebe 1941</td></tr><tr><th>27</th><td><em>missing</em></td><td>&quot;Chondrococcus macrosporus&quot; Krzemieniewska and Krzemieniewski 1926;;;Corallococcus macrosporus Reichenbach 2007;;;Myxococcus macrosporus (Krzemieniewska and Krzemieniewski 1926) Zahler and McCurdy 1974 (Approved Lists 1980)</td></tr><tr><th>28</th><td><em>missing</em></td><td>Angiococcus disciformis (Thaxter 1904) Hook et al. 1980;;;&quot;Angiococcus disciformis&quot; (Thaxter 1904) Jahn 1924;;;Archangium disciforme (Thaxter 1904) Lang et al. 2015;;;&quot;Cystobacter disciformis&quot; (Thaxter 1904) Brockman and McCurdy 1989;;;Myxococcus disciformis Thaxter 1904 (Approved Lists 1980)</td></tr><tr><th>29</th><td><em>missing</em></td><td>Archangiaceae Jahn et al. 1924 (Approved Lists 1980) emend. Lang et al. 2015;;;Cystobacteraceae McCurdy 1970 (Approved Lists 1980) emend. Awal et al. 2017</td></tr><tr><th>30</th><td><em>missing</em></td><td>Stigmatella Berkeley and Curtis 1875</td></tr><tr><th>&vellip;</th><td>&vellip;</td><td>&vellip;</td></tr></tbody></table></div>"
      ],
      "text/latex": [
       "\\begin{tabular}{r|ccc}\n",
       "\t& acronym & authority & \\\\\n",
       "\t\\hline\n",
       "\t& String? & String? & \\\\\n",
       "\t\\hline\n",
       "\t1 & \\emph{missing} & \\emph{missing} & $\\dots$ \\\\\n",
       "\t2 & \\emph{missing} & \\emph{missing} & $\\dots$ \\\\\n",
       "\t3 & \\emph{missing} & Azorhizobium Dreyfus et al. 1988 emend. Lang et al. 2013 & $\\dots$ \\\\\n",
       "\t4 & \\emph{missing} & Azorhizobium caulinodans Dreyfus et al. 1988 & $\\dots$ \\\\\n",
       "\t5 & \\emph{missing} & Buchnera aphidicola Munson et al. 1991 & $\\dots$ \\\\\n",
       "\t6 & \\emph{missing} & Cellvibrio (ex Winogradsky 1929) Blackall et al. 1986 emend. Humphry et al. 2003;;;Cellvibrio (ex Winogradsky 1929) Blackall et al. 1986 emend. Suarez et al. 2014;;;\"Cellvibrio\" Winogradsky 1929 & $\\dots$ \\\\\n",
       "\t7 & \\emph{missing} & \"Cellulomonas gilvus\" (Hulcher and King 1958) Christopherson et al. 2013;;;\"Cellvibrio gilvus\" Hulcher and King 1958 & $\\dots$ \\\\\n",
       "\t8 & \\emph{missing} & Dictyoglomus Saiki et al. 1985 & $\\dots$ \\\\\n",
       "\t9 & \\emph{missing} & Dictyoglomus thermophilum Saiki et al. 1985 & $\\dots$ \\\\\n",
       "\t10 & \\emph{missing} & Methylophilus Jenkins et al. 1987 & $\\dots$ \\\\\n",
       "\t11 & \\emph{missing} & Methylophilus methylotrophus Jenkins et al. 1987 & $\\dots$ \\\\\n",
       "\t12 & \\emph{missing} & Pelobacter Schink and Pfennig 1983 & $\\dots$ \\\\\n",
       "\t13 & \\emph{missing} & Pelobacter carbinolicus Schink 1984;;;Syntrophotalea carbinolica (Schink 1984) Waite et al. 2020 & $\\dots$ \\\\\n",
       "\t14 & \\emph{missing} & Phenylobacterium Lingens et al. 1985 emend. Abraham et al. 2008;;;Phenylobacterium Lingens et al. 1985 emend. Kanso and Patel 2004;;;Phenylobacterium Lingens et al. 1985 emend. Oh and Roh 2012;;;Phenylobacterium Lingens et al. 1985 emend. Tiago et al. 2005 & $\\dots$ \\\\\n",
       "\t15 & \\emph{missing} & Phenylobacterium immobile Lingens et al. 1985 & $\\dots$ \\\\\n",
       "\t16 & \\emph{missing} & Shewanella MacDonell and Colwell 1986 & $\\dots$ \\\\\n",
       "\t17 & \\emph{missing} & Alteromonas colwelliana Weiner et al. 1988;;;Shewanella affinis Ivanova et al. 2004;;;Shewanella colwelliana (Weiner et al. 1988) Coyne et al. 1990 emend. Thorell et al. 2019 & $\\dots$ \\\\\n",
       "\t18 & \\emph{missing} & Alteromonas putrefaciens (ex Derby and Hammer) Lee et al. 1981;;;\"Pseudomonas putrefaciens\" (Derby and Hammer) Long and Hammer 1941;;;Shewanella putrefaciens (Lee et al. 1981) MacDonell and Colwell 1986 emend. Thorell et al. 2019 & $\\dots$ \\\\\n",
       "\t19 & \\emph{missing} & Alteromonas hanedai Jensen et al. 1981;;;Shewanella hanedai (Jensen et al. 1981) MacDonell and Colwell 1986;;;Shewanella hanedai (Jensen et al. 1981) MacDonell and Colwell 1986 emend. Cao et al. 2021 & $\\dots$ \\\\\n",
       "\t20 & \\emph{missing} & \\emph{missing} & $\\dots$ \\\\\n",
       "\t21 & \\emph{missing} & \\emph{missing} & $\\dots$ \\\\\n",
       "\t22 & \\emph{missing} & Myxococcales Tchan et al. 1948 & $\\dots$ \\\\\n",
       "\t23 & \\emph{missing} & Myxococcaceae Jahn et al. 1924 (Approved Lists 1980) emend. Lang et al. 2015 & $\\dots$ \\\\\n",
       "\t24 & \\emph{missing} & Myxococcus Thaxter 1892 emend. Lang and Stackebrandt 2009 & $\\dots$ \\\\\n",
       "\t25 & \\emph{missing} & \"Micrococcus fulvus\" Cohn 1875;;;Myxococcus fulvus (Cohn 1875) Jahn 1911 & $\\dots$ \\\\\n",
       "\t26 & \\emph{missing} & Myxococcus xanthus Beebe 1941 & $\\dots$ \\\\\n",
       "\t27 & \\emph{missing} & \"Chondrococcus macrosporus\" Krzemieniewska and Krzemieniewski 1926;;;Corallococcus macrosporus Reichenbach 2007;;;Myxococcus macrosporus (Krzemieniewska and Krzemieniewski 1926) Zahler and McCurdy 1974 (Approved Lists 1980) & $\\dots$ \\\\\n",
       "\t28 & \\emph{missing} & Angiococcus disciformis (Thaxter 1904) Hook et al. 1980;;;\"Angiococcus disciformis\" (Thaxter 1904) Jahn 1924;;;Archangium disciforme (Thaxter 1904) Lang et al. 2015;;;\"Cystobacter disciformis\" (Thaxter 1904) Brockman and McCurdy 1989;;;Myxococcus disciformis Thaxter 1904 (Approved Lists 1980) & $\\dots$ \\\\\n",
       "\t29 & \\emph{missing} & Archangiaceae Jahn et al. 1924 (Approved Lists 1980) emend. Lang et al. 2015;;;Cystobacteraceae McCurdy 1970 (Approved Lists 1980) emend. Awal et al. 2017 & $\\dots$ \\\\\n",
       "\t30 & \\emph{missing} & Stigmatella Berkeley and Curtis 1875 & $\\dots$ \\\\\n",
       "\t$\\dots$ & $\\dots$ & $\\dots$ &  \\\\\n",
       "\\end{tabular}\n"
      ],
      "text/plain": [
       "\u001b[1m2420860×13 DataFrame\u001b[0m\n",
       "\u001b[1m     Row \u001b[0m│\u001b[1m acronym \u001b[0m\u001b[1m authority                         \u001b[0m\u001b[1m blast name \u001b[0m\u001b[1m common name\u001b[0m ⋯\n",
       "\u001b[1m         \u001b[0m│\u001b[90m String? \u001b[0m\u001b[90m String?                           \u001b[0m\u001b[90m String?    \u001b[0m\u001b[90m String?    \u001b[0m ⋯\n",
       "─────────┼──────────────────────────────────────────────────────────────────────\n",
       "       1 │\u001b[90m missing \u001b[0m\u001b[90m missing                           \u001b[0m\u001b[90m missing    \u001b[0m\u001b[90m missing    \u001b[0m ⋯\n",
       "       2 │\u001b[90m missing \u001b[0m\u001b[90m missing                           \u001b[0m bacteria   \u001b[90m missing\u001b[0m\n",
       "       3 │\u001b[90m missing \u001b[0m Azorhizobium Dreyfus et al. 1988… \u001b[90m missing    \u001b[0m\u001b[90m missing\u001b[0m\n",
       "       4 │\u001b[90m missing \u001b[0m Azorhizobium caulinodans Dreyfus… \u001b[90m missing    \u001b[0m\u001b[90m missing\u001b[0m\n",
       "       5 │\u001b[90m missing \u001b[0m Buchnera aphidicola Munson et al… \u001b[90m missing    \u001b[0m\u001b[90m missing    \u001b[0m ⋯\n",
       "       6 │\u001b[90m missing \u001b[0m Cellvibrio (ex Winogradsky 1929)… \u001b[90m missing    \u001b[0m\u001b[90m missing\u001b[0m\n",
       "       7 │\u001b[90m missing \u001b[0m \"Cellulomonas gilvus\" (Hulcher a… \u001b[90m missing    \u001b[0m\u001b[90m missing\u001b[0m\n",
       "       8 │\u001b[90m missing \u001b[0m Dictyoglomus Saiki et al. 1985    \u001b[90m missing    \u001b[0m\u001b[90m missing\u001b[0m\n",
       "       9 │\u001b[90m missing \u001b[0m Dictyoglomus thermophilum Saiki … \u001b[90m missing    \u001b[0m\u001b[90m missing    \u001b[0m ⋯\n",
       "      10 │\u001b[90m missing \u001b[0m Methylophilus Jenkins et al. 1987 \u001b[90m missing    \u001b[0m\u001b[90m missing\u001b[0m\n",
       "      11 │\u001b[90m missing \u001b[0m Methylophilus methylotrophus Jen… \u001b[90m missing    \u001b[0m\u001b[90m missing\u001b[0m\n",
       "    ⋮    │    ⋮                     ⋮                      ⋮            ⋮      ⋱\n",
       " 2420851 │\u001b[90m missing \u001b[0m\u001b[90m missing                           \u001b[0m\u001b[90m missing    \u001b[0m\u001b[90m missing\u001b[0m\n",
       " 2420852 │\u001b[90m missing \u001b[0m\u001b[90m missing                           \u001b[0m\u001b[90m missing    \u001b[0m\u001b[90m missing    \u001b[0m ⋯\n",
       " 2420853 │\u001b[90m missing \u001b[0m\u001b[90m missing                           \u001b[0m\u001b[90m missing    \u001b[0m\u001b[90m missing\u001b[0m\n",
       " 2420854 │\u001b[90m missing \u001b[0m Pleurothallis dirhamphis Luer, 1… \u001b[90m missing    \u001b[0m\u001b[90m missing\u001b[0m\n",
       " 2420855 │\u001b[90m missing \u001b[0m Thermocarpiscus X. Wei Wang & Ho… \u001b[90m missing    \u001b[0m\u001b[90m missing\u001b[0m\n",
       " 2420856 │\u001b[90m missing \u001b[0m Achaetomiella Arx, 1970           \u001b[90m missing    \u001b[0m\u001b[90m missing    \u001b[0m ⋯\n",
       " 2420857 │\u001b[90m missing \u001b[0m Anisochilus carnosus (L.f.) Wall… \u001b[90m missing    \u001b[0m\u001b[90m missing\u001b[0m\n",
       " 2420858 │\u001b[90m missing \u001b[0m Coleus articulatus (I.M.Johnst.)… \u001b[90m missing    \u001b[0m\u001b[90m missing\u001b[0m\n",
       " 2420859 │\u001b[90m missing \u001b[0m\u001b[90m missing                           \u001b[0m\u001b[90m missing    \u001b[0m\u001b[90m missing\u001b[0m\n",
       " 2420860 │\u001b[90m missing \u001b[0m\u001b[90m missing                           \u001b[0m\u001b[90m missing    \u001b[0m\u001b[90m missing    \u001b[0m ⋯\n",
       "\u001b[36m                                              9 columns and 2420839 rows omitted\u001b[0m"
      ]
     },
     "execution_count": 54,
     "metadata": {},
     "output_type": "execute_result"
    }
   ],
   "source": [
    "names_dmp_transformed = DataFrames.DataFrame(\n",
    "    Dict(\n",
    "    [nc => Union{Missing, String}[] for nc in unique(names_dmp[!, \"name_class\"])]...,\n",
    "    \"tax_id\" => String[]\n",
    "    )\n",
    ")\n",
    "\n",
    "ProgressMeter.@showprogress for identifier_group in DataFrames.groupby(names_dmp, \"tax_id\")\n",
    "    fields = Dict{String, Union{String, Missing}}(n => missing for n in names(names_dmp_transformed))\n",
    "    for name_class in DataFrames.groupby(identifier_group, \"name_class\")\n",
    "        nc = name_class[1, \"name_class\"]\n",
    "        all_names = unique(filter(n -> !isempty(n), (name_class[!, \"name_txt\"]...,name_class[!, \"unique_name\"]...)))\n",
    "        fields[nc] = join(all_names, \";;;\")\n",
    "    end\n",
    "    fields[\"tax_id\"] = identifier_group[1, \"tax_id\"]\n",
    "    # @show fields\n",
    "    push!(names_dmp_transformed, fields)\n",
    "end\n",
    "names_dmp_transformed"
   ]
  },
  {
   "cell_type": "code",
   "execution_count": 55,
   "metadata": {},
   "outputs": [
    {
     "data": {
      "text/html": [
       "<div class=\"data-frame\"><p>12 rows × 4 columns</p><table class=\"data-frame\"><thead><tr><th></th><th>division_id</th><th>division_name</th><th>division_cde</th><th>notes</th></tr><tr><th></th><th title=\"String\">String</th><th title=\"String\">String</th><th title=\"String\">String</th><th title=\"String\">String</th></tr></thead><tbody><tr><th>1</th><td>0</td><td>Bacteria</td><td>BCT</td><td> </td></tr><tr><th>2</th><td>1</td><td>Invertebrates</td><td>INV</td><td> </td></tr><tr><th>3</th><td>2</td><td>Mammals</td><td>MAM</td><td> </td></tr><tr><th>4</th><td>3</td><td>Phages</td><td>PHG</td><td> </td></tr><tr><th>5</th><td>4</td><td>Plants and Fungi</td><td>PLN</td><td> </td></tr><tr><th>6</th><td>5</td><td>Primates</td><td>PRI</td><td> </td></tr><tr><th>7</th><td>6</td><td>Rodents</td><td>ROD</td><td> </td></tr><tr><th>8</th><td>7</td><td>Synthetic and Chimeric</td><td>SYN</td><td> </td></tr><tr><th>9</th><td>8</td><td>Unassigned</td><td>UNA</td><td>No species nodes should inherit this division assignment</td></tr><tr><th>10</th><td>9</td><td>Viruses</td><td>VRL</td><td> </td></tr><tr><th>11</th><td>10</td><td>Vertebrates</td><td>VRT</td><td> </td></tr><tr><th>12</th><td>11</td><td>Environmental samples</td><td>ENV</td><td>Anonymous sequences cloned directly from the environment</td></tr></tbody></table></div>"
      ],
      "text/latex": [
       "\\begin{tabular}{r|cccc}\n",
       "\t& division\\_id & division\\_name & division\\_cde & notes\\\\\n",
       "\t\\hline\n",
       "\t& String & String & String & String\\\\\n",
       "\t\\hline\n",
       "\t1 & 0 & Bacteria & BCT &   \\\\\n",
       "\t2 & 1 & Invertebrates & INV &   \\\\\n",
       "\t3 & 2 & Mammals & MAM &   \\\\\n",
       "\t4 & 3 & Phages & PHG &   \\\\\n",
       "\t5 & 4 & Plants and Fungi & PLN &   \\\\\n",
       "\t6 & 5 & Primates & PRI &   \\\\\n",
       "\t7 & 6 & Rodents & ROD &   \\\\\n",
       "\t8 & 7 & Synthetic and Chimeric & SYN &   \\\\\n",
       "\t9 & 8 & Unassigned & UNA & No species nodes should inherit this division assignment \\\\\n",
       "\t10 & 9 & Viruses & VRL &   \\\\\n",
       "\t11 & 10 & Vertebrates & VRT &   \\\\\n",
       "\t12 & 11 & Environmental samples & ENV & Anonymous sequences cloned directly from the environment \\\\\n",
       "\\end{tabular}\n"
      ],
      "text/plain": [
       "\u001b[1m12×4 DataFrame\u001b[0m\n",
       "\u001b[1m Row \u001b[0m│\u001b[1m division_id \u001b[0m\u001b[1m division_name          \u001b[0m\u001b[1m division_cde \u001b[0m\u001b[1m notes               \u001b[0m ⋯\n",
       "\u001b[1m     \u001b[0m│\u001b[90m String      \u001b[0m\u001b[90m String                 \u001b[0m\u001b[90m String       \u001b[0m\u001b[90m String              \u001b[0m ⋯\n",
       "─────┼──────────────────────────────────────────────────────────────────────────\n",
       "   1 │ 0            Bacteria                BCT                                ⋯\n",
       "   2 │ 1            Invertebrates           INV\n",
       "   3 │ 2            Mammals                 MAM\n",
       "   4 │ 3            Phages                  PHG\n",
       "   5 │ 4            Plants and Fungi        PLN                                ⋯\n",
       "   6 │ 5            Primates                PRI\n",
       "   7 │ 6            Rodents                 ROD\n",
       "   8 │ 7            Synthetic and Chimeric  SYN\n",
       "   9 │ 8            Unassigned              UNA           No species nodes sho ⋯\n",
       "  10 │ 9            Viruses                 VRL\n",
       "  11 │ 10           Vertebrates             VRT\n",
       "  12 │ 11           Environmental samples   ENV           Anonymous sequences\n",
       "\u001b[36m                                                                1 column omitted\u001b[0m"
      ]
     },
     "execution_count": 55,
     "metadata": {},
     "output_type": "execute_result"
    }
   ],
   "source": [
    "#     Here we can see that there are divisions projected onto the tree that will allow easy grouping by taxonomic \"group\"s such as primates, viruses, phages, etc.\n",
    "\n",
    "division_table = DataFrames.DataFrame(\n",
    "    division_id = String[],\n",
    "    division_name = String[],\n",
    "    division_cde = String[],\n",
    "    notes = String[]\n",
    ")\n",
    "for line in split(read(open(\"$(taxdump_out)/division.dmp\"), String), \"\\t|\\n\")\n",
    "    if !isempty(line)\n",
    "        (division_id, division_cde, division_name, notes) = split(line, \"\\t|\\t\")\n",
    "        row = (;division_id, division_cde, division_name, notes)\n",
    "        push!(division_table, row)\n",
    "    end\n",
    "end\n",
    "division_table"
   ]
  },
  {
   "cell_type": "code",
   "execution_count": 56,
   "metadata": {},
   "outputs": [
    {
     "name": "stderr",
     "output_type": "stream",
     "text": [
      "\u001b[32mProgress: 100%|█████████████████████████████████████████| Time: 0:00:28\u001b[39m6:45\u001b[39m\n"
     ]
    },
    {
     "data": {
      "text/html": [
       "<div class=\"data-frame\"><p>2,420,860 rows × 5 columns</p><table class=\"data-frame\"><thead><tr><th></th><th>tax_id</th><th>parent_tax_id</th><th>rank</th><th>embl_code</th><th>division_id</th></tr><tr><th></th><th title=\"String\">String</th><th title=\"String\">String</th><th title=\"String\">String</th><th title=\"String\">String</th><th title=\"String\">String</th></tr></thead><tbody><tr><th>1</th><td>1</td><td>1</td><td>no rank</td><td></td><td>8</td></tr><tr><th>2</th><td>2</td><td>131567</td><td>superkingdom</td><td></td><td>0</td></tr><tr><th>3</th><td>6</td><td>335928</td><td>genus</td><td></td><td>0</td></tr><tr><th>4</th><td>7</td><td>6</td><td>species</td><td>AC</td><td>0</td></tr><tr><th>5</th><td>9</td><td>32199</td><td>species</td><td>BA</td><td>0</td></tr><tr><th>6</th><td>10</td><td>1706371</td><td>genus</td><td></td><td>0</td></tr><tr><th>7</th><td>11</td><td>1707</td><td>species</td><td>CG</td><td>0</td></tr><tr><th>8</th><td>13</td><td>203488</td><td>genus</td><td></td><td>0</td></tr><tr><th>9</th><td>14</td><td>13</td><td>species</td><td>DT</td><td>0</td></tr><tr><th>10</th><td>16</td><td>32011</td><td>genus</td><td></td><td>0</td></tr><tr><th>11</th><td>17</td><td>16</td><td>species</td><td>MM</td><td>0</td></tr><tr><th>12</th><td>18</td><td>213421</td><td>genus</td><td></td><td>0</td></tr><tr><th>13</th><td>19</td><td>2812025</td><td>species</td><td>SC</td><td>0</td></tr><tr><th>14</th><td>20</td><td>76892</td><td>genus</td><td></td><td>0</td></tr><tr><th>15</th><td>21</td><td>20</td><td>species</td><td>PI</td><td>0</td></tr><tr><th>16</th><td>22</td><td>267890</td><td>genus</td><td></td><td>0</td></tr><tr><th>17</th><td>23</td><td>22</td><td>species</td><td>SC</td><td>0</td></tr><tr><th>18</th><td>24</td><td>22</td><td>species</td><td>SP</td><td>0</td></tr><tr><th>19</th><td>25</td><td>22</td><td>species</td><td>SH</td><td>0</td></tr><tr><th>20</th><td>27</td><td>49928</td><td>species</td><td>HE</td><td>0</td></tr><tr><th>21</th><td>28</td><td>49928</td><td>species</td><td>HE</td><td>0</td></tr><tr><th>22</th><td>29</td><td>28221</td><td>order</td><td></td><td>0</td></tr><tr><th>23</th><td>31</td><td>80811</td><td>family</td><td></td><td>0</td></tr><tr><th>24</th><td>32</td><td>31</td><td>genus</td><td></td><td>0</td></tr><tr><th>25</th><td>33</td><td>32</td><td>species</td><td>MF</td><td>0</td></tr><tr><th>26</th><td>34</td><td>32</td><td>species</td><td>MX</td><td>0</td></tr><tr><th>27</th><td>35</td><td>83461</td><td>species</td><td>CM</td><td>0</td></tr><tr><th>28</th><td>38</td><td>47</td><td>species</td><td>AD</td><td>0</td></tr><tr><th>29</th><td>39</td><td>80811</td><td>family</td><td></td><td>0</td></tr><tr><th>30</th><td>40</td><td>39</td><td>genus</td><td></td><td>0</td></tr><tr><th>&vellip;</th><td>&vellip;</td><td>&vellip;</td><td>&vellip;</td><td>&vellip;</td><td>&vellip;</td></tr></tbody></table></div>"
      ],
      "text/latex": [
       "\\begin{tabular}{r|ccccc}\n",
       "\t& tax\\_id & parent\\_tax\\_id & rank & embl\\_code & division\\_id\\\\\n",
       "\t\\hline\n",
       "\t& String & String & String & String & String\\\\\n",
       "\t\\hline\n",
       "\t1 & 1 & 1 & no rank &  & 8 \\\\\n",
       "\t2 & 2 & 131567 & superkingdom &  & 0 \\\\\n",
       "\t3 & 6 & 335928 & genus &  & 0 \\\\\n",
       "\t4 & 7 & 6 & species & AC & 0 \\\\\n",
       "\t5 & 9 & 32199 & species & BA & 0 \\\\\n",
       "\t6 & 10 & 1706371 & genus &  & 0 \\\\\n",
       "\t7 & 11 & 1707 & species & CG & 0 \\\\\n",
       "\t8 & 13 & 203488 & genus &  & 0 \\\\\n",
       "\t9 & 14 & 13 & species & DT & 0 \\\\\n",
       "\t10 & 16 & 32011 & genus &  & 0 \\\\\n",
       "\t11 & 17 & 16 & species & MM & 0 \\\\\n",
       "\t12 & 18 & 213421 & genus &  & 0 \\\\\n",
       "\t13 & 19 & 2812025 & species & SC & 0 \\\\\n",
       "\t14 & 20 & 76892 & genus &  & 0 \\\\\n",
       "\t15 & 21 & 20 & species & PI & 0 \\\\\n",
       "\t16 & 22 & 267890 & genus &  & 0 \\\\\n",
       "\t17 & 23 & 22 & species & SC & 0 \\\\\n",
       "\t18 & 24 & 22 & species & SP & 0 \\\\\n",
       "\t19 & 25 & 22 & species & SH & 0 \\\\\n",
       "\t20 & 27 & 49928 & species & HE & 0 \\\\\n",
       "\t21 & 28 & 49928 & species & HE & 0 \\\\\n",
       "\t22 & 29 & 28221 & order &  & 0 \\\\\n",
       "\t23 & 31 & 80811 & family &  & 0 \\\\\n",
       "\t24 & 32 & 31 & genus &  & 0 \\\\\n",
       "\t25 & 33 & 32 & species & MF & 0 \\\\\n",
       "\t26 & 34 & 32 & species & MX & 0 \\\\\n",
       "\t27 & 35 & 83461 & species & CM & 0 \\\\\n",
       "\t28 & 38 & 47 & species & AD & 0 \\\\\n",
       "\t29 & 39 & 80811 & family &  & 0 \\\\\n",
       "\t30 & 40 & 39 & genus &  & 0 \\\\\n",
       "\t$\\dots$ & $\\dots$ & $\\dots$ & $\\dots$ & $\\dots$ & $\\dots$ \\\\\n",
       "\\end{tabular}\n"
      ],
      "text/plain": [
       "\u001b[1m2420860×5 DataFrame\u001b[0m\n",
       "\u001b[1m     Row \u001b[0m│\u001b[1m tax_id  \u001b[0m\u001b[1m parent_tax_id \u001b[0m\u001b[1m rank         \u001b[0m\u001b[1m embl_code \u001b[0m\u001b[1m division_id \u001b[0m\n",
       "\u001b[1m         \u001b[0m│\u001b[90m String  \u001b[0m\u001b[90m String        \u001b[0m\u001b[90m String       \u001b[0m\u001b[90m String    \u001b[0m\u001b[90m String      \u001b[0m\n",
       "─────────┼──────────────────────────────────────────────────────────────\n",
       "       1 │ 1        1              no rank                  8\n",
       "       2 │ 2        131567         superkingdom             0\n",
       "       3 │ 6        335928         genus                    0\n",
       "       4 │ 7        6              species       AC         0\n",
       "       5 │ 9        32199          species       BA         0\n",
       "       6 │ 10       1706371        genus                    0\n",
       "       7 │ 11       1707           species       CG         0\n",
       "       8 │ 13       203488         genus                    0\n",
       "       9 │ 14       13             species       DT         0\n",
       "      10 │ 16       32011          genus                    0\n",
       "      11 │ 17       16             species       MM         0\n",
       "    ⋮    │    ⋮           ⋮             ⋮            ⋮           ⋮\n",
       " 2420851 │ 2943664  2608935        species       ES         0\n",
       " 2420852 │ 2943665  2608935        species       ES         0\n",
       " 2420853 │ 2943705  2637762        species       NS         0\n",
       " 2420854 │ 2943798  125553         species       TD         4\n",
       " 2420855 │ 2943938  35718          genus                    4\n",
       " 2420856 │ 2943944  35718          genus                    4\n",
       " 2420857 │ 2943985  587658         species       CS         4\n",
       " 2420858 │ 2943987  587658         species       CA         4\n",
       " 2420859 │ 2943991  217735         subfamily                1\n",
       " 2420860 │ 2943994  217738         no rank                  1\n",
       "\u001b[36m                                                    2420839 rows omitted\u001b[0m"
      ]
     },
     "execution_count": 56,
     "metadata": {},
     "output_type": "execute_result"
    }
   ],
   "source": [
    "node_table = DataFrames.DataFrame(\n",
    "    tax_id = String[],\n",
    "    parent_tax_id = String[],\n",
    "    rank = String[],\n",
    "    embl_code = String[],\n",
    "    division_id = String[]\n",
    ")\n",
    "ProgressMeter.@showprogress for line in split(read(open(\"$(taxdump_out)/nodes.dmp\"), String), \"\\t|\\n\")\n",
    "    if isempty(line)\n",
    "        continue\n",
    "    else\n",
    "        (tax_id, parent_tax_id, rank, embl_code, division_id) = split(line, \"\\t|\\t\")\n",
    "        row = (;tax_id, parent_tax_id, rank, embl_code, division_id)\n",
    "        push!(node_table, row)\n",
    "    end\n",
    "end\n",
    "node_table"
   ]
  },
  {
   "cell_type": "code",
   "execution_count": 57,
   "metadata": {},
   "outputs": [
    {
     "data": {
      "text/html": [
       "<div class=\"data-frame\"><p>2,420,860 rows × 20 columns (omitted printing of 18 columns)</p><table class=\"data-frame\"><thead><tr><th></th><th>acronym</th><th>authority</th></tr><tr><th></th><th title=\"Union{Missing, String}\">String?</th><th title=\"Union{Missing, String}\">String?</th></tr></thead><tbody><tr><th>1</th><td><em>missing</em></td><td><em>missing</em></td></tr><tr><th>2</th><td><em>missing</em></td><td><em>missing</em></td></tr><tr><th>3</th><td><em>missing</em></td><td>Azorhizobium Dreyfus et al. 1988 emend. Lang et al. 2013</td></tr><tr><th>4</th><td><em>missing</em></td><td>Azorhizobium caulinodans Dreyfus et al. 1988</td></tr><tr><th>5</th><td><em>missing</em></td><td>Buchnera aphidicola Munson et al. 1991</td></tr><tr><th>6</th><td><em>missing</em></td><td>Cellvibrio (ex Winogradsky 1929) Blackall et al. 1986 emend. Humphry et al. 2003;;;Cellvibrio (ex Winogradsky 1929) Blackall et al. 1986 emend. Suarez et al. 2014;;;&quot;Cellvibrio&quot; Winogradsky 1929</td></tr><tr><th>7</th><td><em>missing</em></td><td>&quot;Cellulomonas gilvus&quot; (Hulcher and King 1958) Christopherson et al. 2013;;;&quot;Cellvibrio gilvus&quot; Hulcher and King 1958</td></tr><tr><th>8</th><td><em>missing</em></td><td>Dictyoglomus Saiki et al. 1985</td></tr><tr><th>9</th><td><em>missing</em></td><td>Dictyoglomus thermophilum Saiki et al. 1985</td></tr><tr><th>10</th><td><em>missing</em></td><td>Methylophilus Jenkins et al. 1987</td></tr><tr><th>11</th><td><em>missing</em></td><td>Methylophilus methylotrophus Jenkins et al. 1987</td></tr><tr><th>12</th><td><em>missing</em></td><td>Pelobacter Schink and Pfennig 1983</td></tr><tr><th>13</th><td><em>missing</em></td><td>Pelobacter carbinolicus Schink 1984;;;Syntrophotalea carbinolica (Schink 1984) Waite et al. 2020</td></tr><tr><th>14</th><td><em>missing</em></td><td>Phenylobacterium Lingens et al. 1985 emend. Abraham et al. 2008;;;Phenylobacterium Lingens et al. 1985 emend. Kanso and Patel 2004;;;Phenylobacterium Lingens et al. 1985 emend. Oh and Roh 2012;;;Phenylobacterium Lingens et al. 1985 emend. Tiago et al. 2005</td></tr><tr><th>15</th><td><em>missing</em></td><td>Phenylobacterium immobile Lingens et al. 1985</td></tr><tr><th>16</th><td><em>missing</em></td><td>Shewanella MacDonell and Colwell 1986</td></tr><tr><th>17</th><td><em>missing</em></td><td>Alteromonas colwelliana Weiner et al. 1988;;;Shewanella affinis Ivanova et al. 2004;;;Shewanella colwelliana (Weiner et al. 1988) Coyne et al. 1990 emend. Thorell et al. 2019</td></tr><tr><th>18</th><td><em>missing</em></td><td>Alteromonas putrefaciens (ex Derby and Hammer) Lee et al. 1981;;;&quot;Pseudomonas putrefaciens&quot; (Derby and Hammer) Long and Hammer 1941;;;Shewanella putrefaciens (Lee et al. 1981) MacDonell and Colwell 1986 emend. Thorell et al. 2019</td></tr><tr><th>19</th><td><em>missing</em></td><td>Alteromonas hanedai Jensen et al. 1981;;;Shewanella hanedai (Jensen et al. 1981) MacDonell and Colwell 1986;;;Shewanella hanedai (Jensen et al. 1981) MacDonell and Colwell 1986 emend. Cao et al. 2021</td></tr><tr><th>20</th><td><em>missing</em></td><td><em>missing</em></td></tr><tr><th>21</th><td><em>missing</em></td><td><em>missing</em></td></tr><tr><th>22</th><td><em>missing</em></td><td>Myxococcales Tchan et al. 1948</td></tr><tr><th>23</th><td><em>missing</em></td><td>Myxococcaceae Jahn et al. 1924 (Approved Lists 1980) emend. Lang et al. 2015</td></tr><tr><th>24</th><td><em>missing</em></td><td>Myxococcus Thaxter 1892 emend. Lang and Stackebrandt 2009</td></tr><tr><th>25</th><td><em>missing</em></td><td>&quot;Micrococcus fulvus&quot; Cohn 1875;;;Myxococcus fulvus (Cohn 1875) Jahn 1911</td></tr><tr><th>26</th><td><em>missing</em></td><td>Myxococcus xanthus Beebe 1941</td></tr><tr><th>27</th><td><em>missing</em></td><td>&quot;Chondrococcus macrosporus&quot; Krzemieniewska and Krzemieniewski 1926;;;Corallococcus macrosporus Reichenbach 2007;;;Myxococcus macrosporus (Krzemieniewska and Krzemieniewski 1926) Zahler and McCurdy 1974 (Approved Lists 1980)</td></tr><tr><th>28</th><td><em>missing</em></td><td>Angiococcus disciformis (Thaxter 1904) Hook et al. 1980;;;&quot;Angiococcus disciformis&quot; (Thaxter 1904) Jahn 1924;;;Archangium disciforme (Thaxter 1904) Lang et al. 2015;;;&quot;Cystobacter disciformis&quot; (Thaxter 1904) Brockman and McCurdy 1989;;;Myxococcus disciformis Thaxter 1904 (Approved Lists 1980)</td></tr><tr><th>29</th><td><em>missing</em></td><td>Archangiaceae Jahn et al. 1924 (Approved Lists 1980) emend. Lang et al. 2015;;;Cystobacteraceae McCurdy 1970 (Approved Lists 1980) emend. Awal et al. 2017</td></tr><tr><th>30</th><td><em>missing</em></td><td>Stigmatella Berkeley and Curtis 1875</td></tr><tr><th>&vellip;</th><td>&vellip;</td><td>&vellip;</td></tr></tbody></table></div>"
      ],
      "text/latex": [
       "\\begin{tabular}{r|ccc}\n",
       "\t& acronym & authority & \\\\\n",
       "\t\\hline\n",
       "\t& String? & String? & \\\\\n",
       "\t\\hline\n",
       "\t1 & \\emph{missing} & \\emph{missing} & $\\dots$ \\\\\n",
       "\t2 & \\emph{missing} & \\emph{missing} & $\\dots$ \\\\\n",
       "\t3 & \\emph{missing} & Azorhizobium Dreyfus et al. 1988 emend. Lang et al. 2013 & $\\dots$ \\\\\n",
       "\t4 & \\emph{missing} & Azorhizobium caulinodans Dreyfus et al. 1988 & $\\dots$ \\\\\n",
       "\t5 & \\emph{missing} & Buchnera aphidicola Munson et al. 1991 & $\\dots$ \\\\\n",
       "\t6 & \\emph{missing} & Cellvibrio (ex Winogradsky 1929) Blackall et al. 1986 emend. Humphry et al. 2003;;;Cellvibrio (ex Winogradsky 1929) Blackall et al. 1986 emend. Suarez et al. 2014;;;\"Cellvibrio\" Winogradsky 1929 & $\\dots$ \\\\\n",
       "\t7 & \\emph{missing} & \"Cellulomonas gilvus\" (Hulcher and King 1958) Christopherson et al. 2013;;;\"Cellvibrio gilvus\" Hulcher and King 1958 & $\\dots$ \\\\\n",
       "\t8 & \\emph{missing} & Dictyoglomus Saiki et al. 1985 & $\\dots$ \\\\\n",
       "\t9 & \\emph{missing} & Dictyoglomus thermophilum Saiki et al. 1985 & $\\dots$ \\\\\n",
       "\t10 & \\emph{missing} & Methylophilus Jenkins et al. 1987 & $\\dots$ \\\\\n",
       "\t11 & \\emph{missing} & Methylophilus methylotrophus Jenkins et al. 1987 & $\\dots$ \\\\\n",
       "\t12 & \\emph{missing} & Pelobacter Schink and Pfennig 1983 & $\\dots$ \\\\\n",
       "\t13 & \\emph{missing} & Pelobacter carbinolicus Schink 1984;;;Syntrophotalea carbinolica (Schink 1984) Waite et al. 2020 & $\\dots$ \\\\\n",
       "\t14 & \\emph{missing} & Phenylobacterium Lingens et al. 1985 emend. Abraham et al. 2008;;;Phenylobacterium Lingens et al. 1985 emend. Kanso and Patel 2004;;;Phenylobacterium Lingens et al. 1985 emend. Oh and Roh 2012;;;Phenylobacterium Lingens et al. 1985 emend. Tiago et al. 2005 & $\\dots$ \\\\\n",
       "\t15 & \\emph{missing} & Phenylobacterium immobile Lingens et al. 1985 & $\\dots$ \\\\\n",
       "\t16 & \\emph{missing} & Shewanella MacDonell and Colwell 1986 & $\\dots$ \\\\\n",
       "\t17 & \\emph{missing} & Alteromonas colwelliana Weiner et al. 1988;;;Shewanella affinis Ivanova et al. 2004;;;Shewanella colwelliana (Weiner et al. 1988) Coyne et al. 1990 emend. Thorell et al. 2019 & $\\dots$ \\\\\n",
       "\t18 & \\emph{missing} & Alteromonas putrefaciens (ex Derby and Hammer) Lee et al. 1981;;;\"Pseudomonas putrefaciens\" (Derby and Hammer) Long and Hammer 1941;;;Shewanella putrefaciens (Lee et al. 1981) MacDonell and Colwell 1986 emend. Thorell et al. 2019 & $\\dots$ \\\\\n",
       "\t19 & \\emph{missing} & Alteromonas hanedai Jensen et al. 1981;;;Shewanella hanedai (Jensen et al. 1981) MacDonell and Colwell 1986;;;Shewanella hanedai (Jensen et al. 1981) MacDonell and Colwell 1986 emend. Cao et al. 2021 & $\\dots$ \\\\\n",
       "\t20 & \\emph{missing} & \\emph{missing} & $\\dots$ \\\\\n",
       "\t21 & \\emph{missing} & \\emph{missing} & $\\dots$ \\\\\n",
       "\t22 & \\emph{missing} & Myxococcales Tchan et al. 1948 & $\\dots$ \\\\\n",
       "\t23 & \\emph{missing} & Myxococcaceae Jahn et al. 1924 (Approved Lists 1980) emend. Lang et al. 2015 & $\\dots$ \\\\\n",
       "\t24 & \\emph{missing} & Myxococcus Thaxter 1892 emend. Lang and Stackebrandt 2009 & $\\dots$ \\\\\n",
       "\t25 & \\emph{missing} & \"Micrococcus fulvus\" Cohn 1875;;;Myxococcus fulvus (Cohn 1875) Jahn 1911 & $\\dots$ \\\\\n",
       "\t26 & \\emph{missing} & Myxococcus xanthus Beebe 1941 & $\\dots$ \\\\\n",
       "\t27 & \\emph{missing} & \"Chondrococcus macrosporus\" Krzemieniewska and Krzemieniewski 1926;;;Corallococcus macrosporus Reichenbach 2007;;;Myxococcus macrosporus (Krzemieniewska and Krzemieniewski 1926) Zahler and McCurdy 1974 (Approved Lists 1980) & $\\dots$ \\\\\n",
       "\t28 & \\emph{missing} & Angiococcus disciformis (Thaxter 1904) Hook et al. 1980;;;\"Angiococcus disciformis\" (Thaxter 1904) Jahn 1924;;;Archangium disciforme (Thaxter 1904) Lang et al. 2015;;;\"Cystobacter disciformis\" (Thaxter 1904) Brockman and McCurdy 1989;;;Myxococcus disciformis Thaxter 1904 (Approved Lists 1980) & $\\dots$ \\\\\n",
       "\t29 & \\emph{missing} & Archangiaceae Jahn et al. 1924 (Approved Lists 1980) emend. Lang et al. 2015;;;Cystobacteraceae McCurdy 1970 (Approved Lists 1980) emend. Awal et al. 2017 & $\\dots$ \\\\\n",
       "\t30 & \\emph{missing} & Stigmatella Berkeley and Curtis 1875 & $\\dots$ \\\\\n",
       "\t$\\dots$ & $\\dots$ & $\\dots$ &  \\\\\n",
       "\\end{tabular}\n"
      ],
      "text/plain": [
       "\u001b[1m2420860×20 DataFrame\u001b[0m\n",
       "\u001b[1m     Row \u001b[0m│\u001b[1m acronym \u001b[0m\u001b[1m authority                         \u001b[0m\u001b[1m blast name \u001b[0m\u001b[1m common name\u001b[0m ⋯\n",
       "\u001b[1m         \u001b[0m│\u001b[90m String? \u001b[0m\u001b[90m String?                           \u001b[0m\u001b[90m String?    \u001b[0m\u001b[90m String?    \u001b[0m ⋯\n",
       "─────────┼──────────────────────────────────────────────────────────────────────\n",
       "       1 │\u001b[90m missing \u001b[0m\u001b[90m missing                           \u001b[0m\u001b[90m missing    \u001b[0m\u001b[90m missing    \u001b[0m ⋯\n",
       "       2 │\u001b[90m missing \u001b[0m\u001b[90m missing                           \u001b[0m bacteria   \u001b[90m missing\u001b[0m\n",
       "       3 │\u001b[90m missing \u001b[0m Azorhizobium Dreyfus et al. 1988… \u001b[90m missing    \u001b[0m\u001b[90m missing\u001b[0m\n",
       "       4 │\u001b[90m missing \u001b[0m Azorhizobium caulinodans Dreyfus… \u001b[90m missing    \u001b[0m\u001b[90m missing\u001b[0m\n",
       "       5 │\u001b[90m missing \u001b[0m Buchnera aphidicola Munson et al… \u001b[90m missing    \u001b[0m\u001b[90m missing    \u001b[0m ⋯\n",
       "       6 │\u001b[90m missing \u001b[0m Cellvibrio (ex Winogradsky 1929)… \u001b[90m missing    \u001b[0m\u001b[90m missing\u001b[0m\n",
       "       7 │\u001b[90m missing \u001b[0m \"Cellulomonas gilvus\" (Hulcher a… \u001b[90m missing    \u001b[0m\u001b[90m missing\u001b[0m\n",
       "       8 │\u001b[90m missing \u001b[0m Dictyoglomus Saiki et al. 1985    \u001b[90m missing    \u001b[0m\u001b[90m missing\u001b[0m\n",
       "       9 │\u001b[90m missing \u001b[0m Dictyoglomus thermophilum Saiki … \u001b[90m missing    \u001b[0m\u001b[90m missing    \u001b[0m ⋯\n",
       "      10 │\u001b[90m missing \u001b[0m Methylophilus Jenkins et al. 1987 \u001b[90m missing    \u001b[0m\u001b[90m missing\u001b[0m\n",
       "      11 │\u001b[90m missing \u001b[0m Methylophilus methylotrophus Jen… \u001b[90m missing    \u001b[0m\u001b[90m missing\u001b[0m\n",
       "    ⋮    │    ⋮                     ⋮                      ⋮            ⋮      ⋱\n",
       " 2420851 │\u001b[90m missing \u001b[0m\u001b[90m missing                           \u001b[0m\u001b[90m missing    \u001b[0m\u001b[90m missing\u001b[0m\n",
       " 2420852 │\u001b[90m missing \u001b[0m\u001b[90m missing                           \u001b[0m\u001b[90m missing    \u001b[0m\u001b[90m missing    \u001b[0m ⋯\n",
       " 2420853 │\u001b[90m missing \u001b[0m\u001b[90m missing                           \u001b[0m\u001b[90m missing    \u001b[0m\u001b[90m missing\u001b[0m\n",
       " 2420854 │\u001b[90m missing \u001b[0m Pleurothallis dirhamphis Luer, 1… \u001b[90m missing    \u001b[0m\u001b[90m missing\u001b[0m\n",
       " 2420855 │\u001b[90m missing \u001b[0m Thermocarpiscus X. Wei Wang & Ho… \u001b[90m missing    \u001b[0m\u001b[90m missing\u001b[0m\n",
       " 2420856 │\u001b[90m missing \u001b[0m Achaetomiella Arx, 1970           \u001b[90m missing    \u001b[0m\u001b[90m missing    \u001b[0m ⋯\n",
       " 2420857 │\u001b[90m missing \u001b[0m Anisochilus carnosus (L.f.) Wall… \u001b[90m missing    \u001b[0m\u001b[90m missing\u001b[0m\n",
       " 2420858 │\u001b[90m missing \u001b[0m Coleus articulatus (I.M.Johnst.)… \u001b[90m missing    \u001b[0m\u001b[90m missing\u001b[0m\n",
       " 2420859 │\u001b[90m missing \u001b[0m\u001b[90m missing                           \u001b[0m\u001b[90m missing    \u001b[0m\u001b[90m missing\u001b[0m\n",
       " 2420860 │\u001b[90m missing \u001b[0m\u001b[90m missing                           \u001b[0m\u001b[90m missing    \u001b[0m\u001b[90m missing    \u001b[0m ⋯\n",
       "\u001b[36m                                             16 columns and 2420839 rows omitted\u001b[0m"
      ]
     },
     "execution_count": 57,
     "metadata": {},
     "output_type": "execute_result"
    }
   ],
   "source": [
    "joint_node_metadata = \n",
    "DataFrames.outerjoin(\n",
    "    names_dmp_transformed, \n",
    "    DataFrames.outerjoin(node_table, division_table, on=\"division_id\"),\n",
    "    on=\"tax_id\"\n",
    ")"
   ]
  },
  {
   "cell_type": "code",
   "execution_count": 58,
   "metadata": {},
   "outputs": [
    {
     "data": {
      "text/plain": [
       "2420860-element Vector{String}:\n",
       " \"1\"\n",
       " \"2\"\n",
       " \"6\"\n",
       " \"7\"\n",
       " \"9\"\n",
       " \"10\"\n",
       " \"11\"\n",
       " \"13\"\n",
       " \"14\"\n",
       " \"16\"\n",
       " \"17\"\n",
       " \"18\"\n",
       " \"19\"\n",
       " ⋮\n",
       " \"2943662\"\n",
       " \"2943663\"\n",
       " \"2943664\"\n",
       " \"2943665\"\n",
       " \"2943705\"\n",
       " \"2943798\"\n",
       " \"2943938\"\n",
       " \"2943944\"\n",
       " \"2943985\"\n",
       " \"2943987\"\n",
       " \"2943991\"\n",
       " \"2943994\""
      ]
     },
     "execution_count": 58,
     "metadata": {},
     "output_type": "execute_result"
    }
   ],
   "source": [
    "# joint_node_metadata[!, \"identifier\"] .= map(id -> \"tax_id_$(id)\", joint_node_metadata[!, \"tax_id\"])\n",
    "joint_node_metadata[!, \"identifier\"] .= joint_node_metadata[!, \"tax_id\"]"
   ]
  },
  {
   "cell_type": "code",
   "execution_count": 59,
   "metadata": {},
   "outputs": [
    {
     "data": {
      "text/plain": [
       "2420860-element Vector{String}:\n",
       " \"Taxonomy\"\n",
       " \"Taxonomy\"\n",
       " \"Taxonomy\"\n",
       " \"Taxonomy\"\n",
       " \"Taxonomy\"\n",
       " \"Taxonomy\"\n",
       " \"Taxonomy\"\n",
       " \"Taxonomy\"\n",
       " \"Taxonomy\"\n",
       " \"Taxonomy\"\n",
       " \"Taxonomy\"\n",
       " \"Taxonomy\"\n",
       " \"Taxonomy\"\n",
       " ⋮\n",
       " \"Taxonomy\"\n",
       " \"Taxonomy\"\n",
       " \"Taxonomy\"\n",
       " \"Taxonomy\"\n",
       " \"Taxonomy\"\n",
       " \"Taxonomy\"\n",
       " \"Taxonomy\"\n",
       " \"Taxonomy\"\n",
       " \"Taxonomy\"\n",
       " \"Taxonomy\"\n",
       " \"Taxonomy\"\n",
       " \"Taxonomy\""
      ]
     },
     "execution_count": 59,
     "metadata": {},
     "output_type": "execute_result"
    }
   ],
   "source": [
    "joint_node_metadata[!, \"TYPE\"] .= \"Taxonomy\""
   ]
  },
  {
   "cell_type": "code",
   "execution_count": 60,
   "metadata": {},
   "outputs": [
    {
     "data": {
      "text/html": [
       "<div class=\"data-frame\"><p>2,420,860 rows × 21 columns (omitted printing of 20 columns)</p><table class=\"data-frame\"><thead><tr><th></th><th>authority</th></tr><tr><th></th><th title=\"Union{Missing, String}\">String?</th></tr></thead><tbody><tr><th>1</th><td><em>missing</em></td></tr><tr><th>2</th><td><em>missing</em></td></tr><tr><th>3</th><td>Azorhizobium Dreyfus et al. 1988 emend. Lang et al. 2013</td></tr><tr><th>4</th><td>Azorhizobium caulinodans Dreyfus et al. 1988</td></tr><tr><th>5</th><td>Buchnera aphidicola Munson et al. 1991</td></tr><tr><th>6</th><td>Cellvibrio (ex Winogradsky 1929) Blackall et al. 1986 emend. Humphry et al. 2003;;;Cellvibrio (ex Winogradsky 1929) Blackall et al. 1986 emend. Suarez et al. 2014;;;&quot;Cellvibrio&quot; Winogradsky 1929</td></tr><tr><th>7</th><td>&quot;Cellulomonas gilvus&quot; (Hulcher and King 1958) Christopherson et al. 2013;;;&quot;Cellvibrio gilvus&quot; Hulcher and King 1958</td></tr><tr><th>8</th><td>Dictyoglomus Saiki et al. 1985</td></tr><tr><th>9</th><td>Dictyoglomus thermophilum Saiki et al. 1985</td></tr><tr><th>10</th><td>Methylophilus Jenkins et al. 1987</td></tr><tr><th>11</th><td>Methylophilus methylotrophus Jenkins et al. 1987</td></tr><tr><th>12</th><td>Pelobacter Schink and Pfennig 1983</td></tr><tr><th>13</th><td>Pelobacter carbinolicus Schink 1984;;;Syntrophotalea carbinolica (Schink 1984) Waite et al. 2020</td></tr><tr><th>14</th><td>Phenylobacterium Lingens et al. 1985 emend. Abraham et al. 2008;;;Phenylobacterium Lingens et al. 1985 emend. Kanso and Patel 2004;;;Phenylobacterium Lingens et al. 1985 emend. Oh and Roh 2012;;;Phenylobacterium Lingens et al. 1985 emend. Tiago et al. 2005</td></tr><tr><th>15</th><td>Phenylobacterium immobile Lingens et al. 1985</td></tr><tr><th>16</th><td>Shewanella MacDonell and Colwell 1986</td></tr><tr><th>17</th><td>Alteromonas colwelliana Weiner et al. 1988;;;Shewanella affinis Ivanova et al. 2004;;;Shewanella colwelliana (Weiner et al. 1988) Coyne et al. 1990 emend. Thorell et al. 2019</td></tr><tr><th>18</th><td>Alteromonas putrefaciens (ex Derby and Hammer) Lee et al. 1981;;;&quot;Pseudomonas putrefaciens&quot; (Derby and Hammer) Long and Hammer 1941;;;Shewanella putrefaciens (Lee et al. 1981) MacDonell and Colwell 1986 emend. Thorell et al. 2019</td></tr><tr><th>19</th><td>Alteromonas hanedai Jensen et al. 1981;;;Shewanella hanedai (Jensen et al. 1981) MacDonell and Colwell 1986;;;Shewanella hanedai (Jensen et al. 1981) MacDonell and Colwell 1986 emend. Cao et al. 2021</td></tr><tr><th>20</th><td><em>missing</em></td></tr><tr><th>21</th><td><em>missing</em></td></tr><tr><th>22</th><td>Myxococcales Tchan et al. 1948</td></tr><tr><th>23</th><td>Myxococcaceae Jahn et al. 1924 (Approved Lists 1980) emend. Lang et al. 2015</td></tr><tr><th>24</th><td>Myxococcus Thaxter 1892 emend. Lang and Stackebrandt 2009</td></tr><tr><th>25</th><td>&quot;Micrococcus fulvus&quot; Cohn 1875;;;Myxococcus fulvus (Cohn 1875) Jahn 1911</td></tr><tr><th>26</th><td>Myxococcus xanthus Beebe 1941</td></tr><tr><th>27</th><td>&quot;Chondrococcus macrosporus&quot; Krzemieniewska and Krzemieniewski 1926;;;Corallococcus macrosporus Reichenbach 2007;;;Myxococcus macrosporus (Krzemieniewska and Krzemieniewski 1926) Zahler and McCurdy 1974 (Approved Lists 1980)</td></tr><tr><th>28</th><td>Angiococcus disciformis (Thaxter 1904) Hook et al. 1980;;;&quot;Angiococcus disciformis&quot; (Thaxter 1904) Jahn 1924;;;Archangium disciforme (Thaxter 1904) Lang et al. 2015;;;&quot;Cystobacter disciformis&quot; (Thaxter 1904) Brockman and McCurdy 1989;;;Myxococcus disciformis Thaxter 1904 (Approved Lists 1980)</td></tr><tr><th>29</th><td>Archangiaceae Jahn et al. 1924 (Approved Lists 1980) emend. Lang et al. 2015;;;Cystobacteraceae McCurdy 1970 (Approved Lists 1980) emend. Awal et al. 2017</td></tr><tr><th>30</th><td>Stigmatella Berkeley and Curtis 1875</td></tr><tr><th>&vellip;</th><td>&vellip;</td></tr></tbody></table></div>"
      ],
      "text/latex": [
       "\\begin{tabular}{r|cc}\n",
       "\t& authority & \\\\\n",
       "\t\\hline\n",
       "\t& String? & \\\\\n",
       "\t\\hline\n",
       "\t1 & \\emph{missing} & $\\dots$ \\\\\n",
       "\t2 & \\emph{missing} & $\\dots$ \\\\\n",
       "\t3 & Azorhizobium Dreyfus et al. 1988 emend. Lang et al. 2013 & $\\dots$ \\\\\n",
       "\t4 & Azorhizobium caulinodans Dreyfus et al. 1988 & $\\dots$ \\\\\n",
       "\t5 & Buchnera aphidicola Munson et al. 1991 & $\\dots$ \\\\\n",
       "\t6 & Cellvibrio (ex Winogradsky 1929) Blackall et al. 1986 emend. Humphry et al. 2003;;;Cellvibrio (ex Winogradsky 1929) Blackall et al. 1986 emend. Suarez et al. 2014;;;\"Cellvibrio\" Winogradsky 1929 & $\\dots$ \\\\\n",
       "\t7 & \"Cellulomonas gilvus\" (Hulcher and King 1958) Christopherson et al. 2013;;;\"Cellvibrio gilvus\" Hulcher and King 1958 & $\\dots$ \\\\\n",
       "\t8 & Dictyoglomus Saiki et al. 1985 & $\\dots$ \\\\\n",
       "\t9 & Dictyoglomus thermophilum Saiki et al. 1985 & $\\dots$ \\\\\n",
       "\t10 & Methylophilus Jenkins et al. 1987 & $\\dots$ \\\\\n",
       "\t11 & Methylophilus methylotrophus Jenkins et al. 1987 & $\\dots$ \\\\\n",
       "\t12 & Pelobacter Schink and Pfennig 1983 & $\\dots$ \\\\\n",
       "\t13 & Pelobacter carbinolicus Schink 1984;;;Syntrophotalea carbinolica (Schink 1984) Waite et al. 2020 & $\\dots$ \\\\\n",
       "\t14 & Phenylobacterium Lingens et al. 1985 emend. Abraham et al. 2008;;;Phenylobacterium Lingens et al. 1985 emend. Kanso and Patel 2004;;;Phenylobacterium Lingens et al. 1985 emend. Oh and Roh 2012;;;Phenylobacterium Lingens et al. 1985 emend. Tiago et al. 2005 & $\\dots$ \\\\\n",
       "\t15 & Phenylobacterium immobile Lingens et al. 1985 & $\\dots$ \\\\\n",
       "\t16 & Shewanella MacDonell and Colwell 1986 & $\\dots$ \\\\\n",
       "\t17 & Alteromonas colwelliana Weiner et al. 1988;;;Shewanella affinis Ivanova et al. 2004;;;Shewanella colwelliana (Weiner et al. 1988) Coyne et al. 1990 emend. Thorell et al. 2019 & $\\dots$ \\\\\n",
       "\t18 & Alteromonas putrefaciens (ex Derby and Hammer) Lee et al. 1981;;;\"Pseudomonas putrefaciens\" (Derby and Hammer) Long and Hammer 1941;;;Shewanella putrefaciens (Lee et al. 1981) MacDonell and Colwell 1986 emend. Thorell et al. 2019 & $\\dots$ \\\\\n",
       "\t19 & Alteromonas hanedai Jensen et al. 1981;;;Shewanella hanedai (Jensen et al. 1981) MacDonell and Colwell 1986;;;Shewanella hanedai (Jensen et al. 1981) MacDonell and Colwell 1986 emend. Cao et al. 2021 & $\\dots$ \\\\\n",
       "\t20 & \\emph{missing} & $\\dots$ \\\\\n",
       "\t21 & \\emph{missing} & $\\dots$ \\\\\n",
       "\t22 & Myxococcales Tchan et al. 1948 & $\\dots$ \\\\\n",
       "\t23 & Myxococcaceae Jahn et al. 1924 (Approved Lists 1980) emend. Lang et al. 2015 & $\\dots$ \\\\\n",
       "\t24 & Myxococcus Thaxter 1892 emend. Lang and Stackebrandt 2009 & $\\dots$ \\\\\n",
       "\t25 & \"Micrococcus fulvus\" Cohn 1875;;;Myxococcus fulvus (Cohn 1875) Jahn 1911 & $\\dots$ \\\\\n",
       "\t26 & Myxococcus xanthus Beebe 1941 & $\\dots$ \\\\\n",
       "\t27 & \"Chondrococcus macrosporus\" Krzemieniewska and Krzemieniewski 1926;;;Corallococcus macrosporus Reichenbach 2007;;;Myxococcus macrosporus (Krzemieniewska and Krzemieniewski 1926) Zahler and McCurdy 1974 (Approved Lists 1980) & $\\dots$ \\\\\n",
       "\t28 & Angiococcus disciformis (Thaxter 1904) Hook et al. 1980;;;\"Angiococcus disciformis\" (Thaxter 1904) Jahn 1924;;;Archangium disciforme (Thaxter 1904) Lang et al. 2015;;;\"Cystobacter disciformis\" (Thaxter 1904) Brockman and McCurdy 1989;;;Myxococcus disciformis Thaxter 1904 (Approved Lists 1980) & $\\dots$ \\\\\n",
       "\t29 & Archangiaceae Jahn et al. 1924 (Approved Lists 1980) emend. Lang et al. 2015;;;Cystobacteraceae McCurdy 1970 (Approved Lists 1980) emend. Awal et al. 2017 & $\\dots$ \\\\\n",
       "\t30 & Stigmatella Berkeley and Curtis 1875 & $\\dots$ \\\\\n",
       "\t$\\dots$ & $\\dots$ &  \\\\\n",
       "\\end{tabular}\n"
      ],
      "text/plain": [
       "\u001b[1m2420860×21 DataFrame\u001b[0m\n",
       "\u001b[1m     Row \u001b[0m│\u001b[1m authority                         \u001b[0m\u001b[1m blast name \u001b[0m\u001b[1m common name \u001b[0m\u001b[1m equival\u001b[0m ⋯\n",
       "\u001b[1m         \u001b[0m│\u001b[90m String?                           \u001b[0m\u001b[90m String?    \u001b[0m\u001b[90m String?     \u001b[0m\u001b[90m String?\u001b[0m ⋯\n",
       "─────────┼──────────────────────────────────────────────────────────────────────\n",
       "       1 │\u001b[90m missing                           \u001b[0m\u001b[90m missing    \u001b[0m\u001b[90m missing     \u001b[0m\u001b[90m missing\u001b[0m ⋯\n",
       "       2 │\u001b[90m missing                           \u001b[0m bacteria   \u001b[90m missing     \u001b[0m\u001b[90m missing\u001b[0m\n",
       "       3 │ Azorhizobium Dreyfus et al. 1988… \u001b[90m missing    \u001b[0m\u001b[90m missing     \u001b[0m\u001b[90m missing\u001b[0m\n",
       "       4 │ Azorhizobium caulinodans Dreyfus… \u001b[90m missing    \u001b[0m\u001b[90m missing     \u001b[0m Azotirh\n",
       "       5 │ Buchnera aphidicola Munson et al… \u001b[90m missing    \u001b[0m\u001b[90m missing     \u001b[0m\u001b[90m missing\u001b[0m ⋯\n",
       "       6 │ Cellvibrio (ex Winogradsky 1929)… \u001b[90m missing    \u001b[0m\u001b[90m missing     \u001b[0m\u001b[90m missing\u001b[0m\n",
       "       7 │ \"Cellulomonas gilvus\" (Hulcher a… \u001b[90m missing    \u001b[0m\u001b[90m missing     \u001b[0m\u001b[90m missing\u001b[0m\n",
       "       8 │ Dictyoglomus Saiki et al. 1985    \u001b[90m missing    \u001b[0m\u001b[90m missing     \u001b[0m\u001b[90m missing\u001b[0m\n",
       "       9 │ Dictyoglomus thermophilum Saiki … \u001b[90m missing    \u001b[0m\u001b[90m missing     \u001b[0m\u001b[90m missing\u001b[0m ⋯\n",
       "      10 │ Methylophilus Jenkins et al. 1987 \u001b[90m missing    \u001b[0m\u001b[90m missing     \u001b[0m Methyli\n",
       "      11 │ Methylophilus methylotrophus Jen… \u001b[90m missing    \u001b[0m\u001b[90m missing     \u001b[0m Methyli\n",
       "    ⋮    │                 ⋮                      ⋮            ⋮               ⋱\n",
       " 2420851 │\u001b[90m missing                           \u001b[0m\u001b[90m missing    \u001b[0m\u001b[90m missing     \u001b[0m\u001b[90m missing\u001b[0m\n",
       " 2420852 │\u001b[90m missing                           \u001b[0m\u001b[90m missing    \u001b[0m\u001b[90m missing     \u001b[0m\u001b[90m missing\u001b[0m ⋯\n",
       " 2420853 │\u001b[90m missing                           \u001b[0m\u001b[90m missing    \u001b[0m\u001b[90m missing     \u001b[0m\u001b[90m missing\u001b[0m\n",
       " 2420854 │ Pleurothallis dirhamphis Luer, 1… \u001b[90m missing    \u001b[0m\u001b[90m missing     \u001b[0m\u001b[90m missing\u001b[0m\n",
       " 2420855 │ Thermocarpiscus X. Wei Wang & Ho… \u001b[90m missing    \u001b[0m\u001b[90m missing     \u001b[0m\u001b[90m missing\u001b[0m\n",
       " 2420856 │ Achaetomiella Arx, 1970           \u001b[90m missing    \u001b[0m\u001b[90m missing     \u001b[0m\u001b[90m missing\u001b[0m ⋯\n",
       " 2420857 │ Anisochilus carnosus (L.f.) Wall… \u001b[90m missing    \u001b[0m\u001b[90m missing     \u001b[0m\u001b[90m missing\u001b[0m\n",
       " 2420858 │ Coleus articulatus (I.M.Johnst.)… \u001b[90m missing    \u001b[0m\u001b[90m missing     \u001b[0m\u001b[90m missing\u001b[0m\n",
       " 2420859 │\u001b[90m missing                           \u001b[0m\u001b[90m missing    \u001b[0m\u001b[90m missing     \u001b[0m\u001b[90m missing\u001b[0m\n",
       " 2420860 │\u001b[90m missing                           \u001b[0m\u001b[90m missing    \u001b[0m\u001b[90m missing     \u001b[0m\u001b[90m missing\u001b[0m ⋯\n",
       "\u001b[36m                                             18 columns and 2420839 rows omitted\u001b[0m"
      ]
     },
     "execution_count": 60,
     "metadata": {},
     "output_type": "execute_result"
    }
   ],
   "source": [
    "joint_node_metadata = joint_node_metadata[!, DataFrames.Not(\"acronym\")]"
   ]
  },
  {
   "cell_type": "code",
   "execution_count": 61,
   "metadata": {},
   "outputs": [
    {
     "name": "stdout",
     "output_type": "stream",
     "text": [
      "rename_map = \"blast name\" => \"blast_name\"\n",
      "rename_map = \"common name\" => \"common_name\"\n",
      "rename_map = \"equivalent name\" => \"equivalent_name\"\n",
      "rename_map = \"genbank acronym\" => \"genbank_acronym\"\n",
      "rename_map = \"genbank common name\" => \"genbank_common_name\"\n",
      "rename_map = \"scientific name\" => \"scientific_name\"\n",
      "rename_map = \"type material\" => \"type_material\"\n",
      "rename_map = \"in-part\" => \"in_part\"\n"
     ]
    }
   ],
   "source": [
    "node_table = joint_node_metadata\n",
    "for re in (r\"\\s+\", r\"-\")\n",
    "    for col in filter(n -> occursin(re, n), names(node_table))\n",
    "        rename_map = col => replace(col, re => \"_\")\n",
    "        @show rename_map\n",
    "        DataFrames.rename!(node_table, rename_map)\n",
    "    end\n",
    "end"
   ]
  },
  {
   "cell_type": "code",
   "execution_count": 62,
   "metadata": {},
   "outputs": [
    {
     "name": "stderr",
     "output_type": "stream",
     "text": [
      "\u001b[32mProgress: 100%|█████████████████████████████████████████| Time: 0:00:08\u001b[39m\n"
     ]
    }
   ],
   "source": [
    "ProgressMeter.@showprogress for col in names(node_table)\n",
    "    # strip away single-quotes\n",
    "    node_table[!, col] .= map(x -> x isa AbstractString ? replace(x, \"'\" => \"\") : x, node_table[!, col])\n",
    "    # and double quotes\n",
    "    node_table[!, col] .= map(x -> x isa AbstractString ? replace(x, '\"' => \"\") : x, node_table[!, col])\n",
    "end"
   ]
  },
  {
   "cell_type": "code",
   "execution_count": 63,
   "metadata": {},
   "outputs": [
    {
     "data": {
      "text/html": [
       "<div class=\"data-frame\"><p>2,420,860 rows × 3 columns</p><table class=\"data-frame\"><thead><tr><th></th><th>dst</th><th>src</th><th>TYPE</th></tr><tr><th></th><th title=\"String\">String</th><th title=\"String\">String</th><th title=\"String\">String</th></tr></thead><tbody><tr><th>1</th><td>1</td><td>1</td><td>IS_PARENT_OF</td></tr><tr><th>2</th><td>131567</td><td>2</td><td>IS_PARENT_OF</td></tr><tr><th>3</th><td>335928</td><td>6</td><td>IS_PARENT_OF</td></tr><tr><th>4</th><td>6</td><td>7</td><td>IS_PARENT_OF</td></tr><tr><th>5</th><td>32199</td><td>9</td><td>IS_PARENT_OF</td></tr><tr><th>6</th><td>1706371</td><td>10</td><td>IS_PARENT_OF</td></tr><tr><th>7</th><td>1707</td><td>11</td><td>IS_PARENT_OF</td></tr><tr><th>8</th><td>203488</td><td>13</td><td>IS_PARENT_OF</td></tr><tr><th>9</th><td>13</td><td>14</td><td>IS_PARENT_OF</td></tr><tr><th>10</th><td>32011</td><td>16</td><td>IS_PARENT_OF</td></tr><tr><th>11</th><td>16</td><td>17</td><td>IS_PARENT_OF</td></tr><tr><th>12</th><td>213421</td><td>18</td><td>IS_PARENT_OF</td></tr><tr><th>13</th><td>2812025</td><td>19</td><td>IS_PARENT_OF</td></tr><tr><th>14</th><td>76892</td><td>20</td><td>IS_PARENT_OF</td></tr><tr><th>15</th><td>20</td><td>21</td><td>IS_PARENT_OF</td></tr><tr><th>16</th><td>267890</td><td>22</td><td>IS_PARENT_OF</td></tr><tr><th>17</th><td>22</td><td>23</td><td>IS_PARENT_OF</td></tr><tr><th>18</th><td>22</td><td>24</td><td>IS_PARENT_OF</td></tr><tr><th>19</th><td>22</td><td>25</td><td>IS_PARENT_OF</td></tr><tr><th>20</th><td>49928</td><td>27</td><td>IS_PARENT_OF</td></tr><tr><th>21</th><td>49928</td><td>28</td><td>IS_PARENT_OF</td></tr><tr><th>22</th><td>28221</td><td>29</td><td>IS_PARENT_OF</td></tr><tr><th>23</th><td>80811</td><td>31</td><td>IS_PARENT_OF</td></tr><tr><th>24</th><td>31</td><td>32</td><td>IS_PARENT_OF</td></tr><tr><th>25</th><td>32</td><td>33</td><td>IS_PARENT_OF</td></tr><tr><th>26</th><td>32</td><td>34</td><td>IS_PARENT_OF</td></tr><tr><th>27</th><td>83461</td><td>35</td><td>IS_PARENT_OF</td></tr><tr><th>28</th><td>47</td><td>38</td><td>IS_PARENT_OF</td></tr><tr><th>29</th><td>80811</td><td>39</td><td>IS_PARENT_OF</td></tr><tr><th>30</th><td>39</td><td>40</td><td>IS_PARENT_OF</td></tr><tr><th>&vellip;</th><td>&vellip;</td><td>&vellip;</td><td>&vellip;</td></tr></tbody></table></div>"
      ],
      "text/latex": [
       "\\begin{tabular}{r|ccc}\n",
       "\t& dst & src & TYPE\\\\\n",
       "\t\\hline\n",
       "\t& String & String & String\\\\\n",
       "\t\\hline\n",
       "\t1 & 1 & 1 & IS\\_PARENT\\_OF \\\\\n",
       "\t2 & 131567 & 2 & IS\\_PARENT\\_OF \\\\\n",
       "\t3 & 335928 & 6 & IS\\_PARENT\\_OF \\\\\n",
       "\t4 & 6 & 7 & IS\\_PARENT\\_OF \\\\\n",
       "\t5 & 32199 & 9 & IS\\_PARENT\\_OF \\\\\n",
       "\t6 & 1706371 & 10 & IS\\_PARENT\\_OF \\\\\n",
       "\t7 & 1707 & 11 & IS\\_PARENT\\_OF \\\\\n",
       "\t8 & 203488 & 13 & IS\\_PARENT\\_OF \\\\\n",
       "\t9 & 13 & 14 & IS\\_PARENT\\_OF \\\\\n",
       "\t10 & 32011 & 16 & IS\\_PARENT\\_OF \\\\\n",
       "\t11 & 16 & 17 & IS\\_PARENT\\_OF \\\\\n",
       "\t12 & 213421 & 18 & IS\\_PARENT\\_OF \\\\\n",
       "\t13 & 2812025 & 19 & IS\\_PARENT\\_OF \\\\\n",
       "\t14 & 76892 & 20 & IS\\_PARENT\\_OF \\\\\n",
       "\t15 & 20 & 21 & IS\\_PARENT\\_OF \\\\\n",
       "\t16 & 267890 & 22 & IS\\_PARENT\\_OF \\\\\n",
       "\t17 & 22 & 23 & IS\\_PARENT\\_OF \\\\\n",
       "\t18 & 22 & 24 & IS\\_PARENT\\_OF \\\\\n",
       "\t19 & 22 & 25 & IS\\_PARENT\\_OF \\\\\n",
       "\t20 & 49928 & 27 & IS\\_PARENT\\_OF \\\\\n",
       "\t21 & 49928 & 28 & IS\\_PARENT\\_OF \\\\\n",
       "\t22 & 28221 & 29 & IS\\_PARENT\\_OF \\\\\n",
       "\t23 & 80811 & 31 & IS\\_PARENT\\_OF \\\\\n",
       "\t24 & 31 & 32 & IS\\_PARENT\\_OF \\\\\n",
       "\t25 & 32 & 33 & IS\\_PARENT\\_OF \\\\\n",
       "\t26 & 32 & 34 & IS\\_PARENT\\_OF \\\\\n",
       "\t27 & 83461 & 35 & IS\\_PARENT\\_OF \\\\\n",
       "\t28 & 47 & 38 & IS\\_PARENT\\_OF \\\\\n",
       "\t29 & 80811 & 39 & IS\\_PARENT\\_OF \\\\\n",
       "\t30 & 39 & 40 & IS\\_PARENT\\_OF \\\\\n",
       "\t$\\dots$ & $\\dots$ & $\\dots$ & $\\dots$ \\\\\n",
       "\\end{tabular}\n"
      ],
      "text/plain": [
       "\u001b[1m2420860×3 DataFrame\u001b[0m\n",
       "\u001b[1m     Row \u001b[0m│\u001b[1m dst     \u001b[0m\u001b[1m src     \u001b[0m\u001b[1m TYPE         \u001b[0m\n",
       "\u001b[1m         \u001b[0m│\u001b[90m String  \u001b[0m\u001b[90m String  \u001b[0m\u001b[90m String       \u001b[0m\n",
       "─────────┼────────────────────────────────\n",
       "       1 │ 1        1        IS_PARENT_OF\n",
       "       2 │ 131567   2        IS_PARENT_OF\n",
       "       3 │ 335928   6        IS_PARENT_OF\n",
       "       4 │ 6        7        IS_PARENT_OF\n",
       "       5 │ 32199    9        IS_PARENT_OF\n",
       "       6 │ 1706371  10       IS_PARENT_OF\n",
       "       7 │ 1707     11       IS_PARENT_OF\n",
       "       8 │ 203488   13       IS_PARENT_OF\n",
       "       9 │ 13       14       IS_PARENT_OF\n",
       "      10 │ 32011    16       IS_PARENT_OF\n",
       "      11 │ 16       17       IS_PARENT_OF\n",
       "    ⋮    │    ⋮        ⋮          ⋮\n",
       " 2420851 │ 2608935  2943664  IS_PARENT_OF\n",
       " 2420852 │ 2608935  2943665  IS_PARENT_OF\n",
       " 2420853 │ 2637762  2943705  IS_PARENT_OF\n",
       " 2420854 │ 125553   2943798  IS_PARENT_OF\n",
       " 2420855 │ 35718    2943938  IS_PARENT_OF\n",
       " 2420856 │ 35718    2943944  IS_PARENT_OF\n",
       " 2420857 │ 587658   2943985  IS_PARENT_OF\n",
       " 2420858 │ 587658   2943987  IS_PARENT_OF\n",
       " 2420859 │ 217735   2943991  IS_PARENT_OF\n",
       " 2420860 │ 217738   2943994  IS_PARENT_OF\n",
       "\u001b[36m                      2420839 rows omitted\u001b[0m"
      ]
     },
     "execution_count": 63,
     "metadata": {},
     "output_type": "execute_result"
    }
   ],
   "source": [
    "edge_table = DataFrames.rename(joint_node_metadata[!, [\"parent_tax_id\", \"identifier\"]], [\"identifier\" => \"src\", \"parent_tax_id\" => \"dst\"])\n",
    "edge_table[!, \"TYPE\"] .= \"IS_PARENT_OF\"\n",
    "edge_table"
   ]
  },
  {
   "cell_type": "code",
   "execution_count": 64,
   "metadata": {},
   "outputs": [
    {
     "data": {
      "text/plain": [
       "\"neo4j\""
      ]
     },
     "execution_count": 64,
     "metadata": {},
     "output_type": "execute_result"
    }
   ],
   "source": [
    "local_address=\"neo4j://localhost:7687\"\n",
    "# local_password=\"7^9\\$qMv\"\n",
    "# local_password=\"neo4j\""
   ]
  },
  {
   "cell_type": "code",
   "execution_count": 70,
   "metadata": {},
   "outputs": [
    {
     "data": {
      "text/plain": [
       "\"/var/lib/neo4j\""
      ]
     },
     "execution_count": 70,
     "metadata": {},
     "output_type": "execute_result"
    }
   ],
   "source": [
    "neo4j_import = \"/var/lib/neo4j\"\n",
    "run(`sudo chmod 777 $(neo4j_import)`)\n",
    "temp_upload_dir = mkpath(neo4j_import)"
   ]
  },
  {
   "cell_type": "code",
   "execution_count": 71,
   "metadata": {},
   "outputs": [
    {
     "data": {
      "text/plain": [
       "\"Taxonomy\""
      ]
     },
     "execution_count": 71,
     "metadata": {},
     "output_type": "execute_result"
    }
   ],
   "source": [
    "NODE_TYPE = node_table[1, \"TYPE\"]"
   ]
  },
  {
   "cell_type": "code",
   "execution_count": 72,
   "metadata": {},
   "outputs": [
    {
     "data": {
      "text/plain": [
       "\"{authority: row.authority, blast_name: row.blast_name, common_name: row.common_name, equivalent_name: row.equivalent_name, genbank_acronym: row.genbank_acronym, genbank_common_name: row.genbank_common_name, in_part: row.in_part, includes: row.includes, scientific_name: row.scientific_name, synonym: row.synonym, tax_id: row.tax_id, type_material: row.type_material, parent_tax_id: row.parent_tax_id, rank: row.rank, embl_code: row.embl_code, division_id: row.division_id, division_name: row.division_name, division_cde: row.division_cde, notes: row.notes, identifier: row.identifier}\""
      ]
     },
     "execution_count": 72,
     "metadata": {},
     "output_type": "execute_result"
    }
   ],
   "source": [
    "parameters = [\"$(n): row.$(n)\" for n in filter(x -> x != \"TYPE\", names(node_table))]\n",
    "parameters = \"{\" * join(parameters, \", \") * \"}\""
   ]
  },
  {
   "cell_type": "code",
   "execution_count": 73,
   "metadata": {},
   "outputs": [],
   "source": [
    "# THIS IS SO IMPORTANT FOR MAKING THINGS GO FAST\n",
    "# AUTO SETS AN INDEX ON THESE PROPERTIES"
   ]
  },
  {
   "cell_type": "code",
   "execution_count": 79,
   "metadata": {},
   "outputs": [
    {
     "data": {
      "text/plain": [
       "\"testpass\""
      ]
     },
     "execution_count": 79,
     "metadata": {},
     "output_type": "execute_result"
    }
   ],
   "source": [
    "local_password"
   ]
  },
  {
   "cell_type": "code",
   "execution_count": 80,
   "metadata": {},
   "outputs": [
    {
     "name": "stdout",
     "output_type": "stream",
     "text": [
      "  1.339495 seconds (135 allocations: 7.453 KiB)\n",
      "  1.175489 seconds (238 allocations: 16.469 KiB)\n",
      "  1.174746 seconds (238 allocations: 16.469 KiB)\n"
     ]
    },
    {
     "data": {
      "text/plain": [
       "Process(`\u001b[4mcypher-shell\u001b[24m \u001b[4m--address\u001b[24m \u001b[4mneo4j://localhost:7687\u001b[24m \u001b[4m--username\u001b[24m \u001b[4mneo4j\u001b[24m \u001b[4m--password\u001b[24m \u001b[4mtestpass\u001b[24m \u001b[4m--database\u001b[24m \u001b[4mneo4j\u001b[24m \u001b[4m--format\u001b[24m \u001b[4mauto\u001b[24m \u001b[4m'CREATE CONSTRAINT ON (t:Taxonomy) ASSERT t.identifier IS UNIQUE'\u001b[24m`, ProcessExited(0))"
      ]
     },
     "execution_count": 80,
     "metadata": {},
     "output_type": "execute_result"
    }
   ],
   "source": [
    "cmd = \"CREATE CONSTRAINT ON (t:Taxonomy) ASSERT t.tax_id IS UNIQUE\"\n",
    "@time run(cypher(address = local_address, username = USERNAME, password = local_password, database = DATABASE, cmd = cmd))\n",
    "\n",
    "cmd = \"CREATE CONSTRAINT ON (t:Taxonomy) ASSERT t.`scientific name` IS UNIQUE\"\n",
    "@time run(cypher(address = local_address, username = USERNAME, password = local_password, database = DATABASE, cmd = cmd))\n",
    "\n",
    "cmd = \"CREATE CONSTRAINT ON (t:Taxonomy) ASSERT t.identifier IS UNIQUE\"\n",
    "@time run(cypher(address = local_address, username = USERNAME, password = local_password, database = DATABASE, cmd = cmd))"
   ]
  },
  {
   "cell_type": "code",
   "execution_count": 81,
   "metadata": {},
   "outputs": [
    {
     "data": {
      "text/plain": [
       "243-element Vector{UnitRange{Int64}}:\n",
       " 1:10000\n",
       " 10001:20000\n",
       " 20001:30000\n",
       " 30001:40000\n",
       " 40001:50000\n",
       " 50001:60000\n",
       " 60001:70000\n",
       " 70001:80000\n",
       " 80001:90000\n",
       " 90001:100000\n",
       " 100001:110000\n",
       " 110001:120000\n",
       " 120001:130000\n",
       " ⋮\n",
       " 2310001:2320000\n",
       " 2320001:2330000\n",
       " 2330001:2340000\n",
       " 2340001:2350000\n",
       " 2350001:2360000\n",
       " 2360001:2370000\n",
       " 2370001:2380000\n",
       " 2380001:2390000\n",
       " 2390001:2400000\n",
       " 2400001:2410000\n",
       " 2410001:2420000\n",
       " 2420001:2420860"
      ]
     },
     "execution_count": 81,
     "metadata": {},
     "output_type": "execute_result"
    }
   ],
   "source": [
    "window_size = 10000\n",
    "V = DataFrames.nrow(node_table)\n",
    "windows = [i:min(i+window_size-1,V) for i in 1:window_size:V]"
   ]
  },
  {
   "cell_type": "code",
   "execution_count": 82,
   "metadata": {},
   "outputs": [],
   "source": [
    "# add the nodes to it"
   ]
  },
  {
   "cell_type": "code",
   "execution_count": 85,
   "metadata": {},
   "outputs": [
    {
     "name": "stderr",
     "output_type": "stream",
     "text": [
      "\u001b[32mProgress: 100%|█████████████████████████████████████████| Time: 0:09:09\u001b[39m\n"
     ]
    }
   ],
   "source": [
    "ProgressMeter.@showprogress for (i, w) in enumerate(windows)\n",
    "    df_sub = node_table[w, :]\n",
    "    f = \"node$i.tsv\"\n",
    "    local_f_path = \"$(temp_upload_dir)/$(f)\"\n",
    "    uCSV.write(local_f_path, df_sub, delim='\\t')\n",
    "    run(`chmod 777 $(local_f_path)`)\n",
    "    f_url = \"file:///$(local_f_path)\"\n",
    "    cmd =\n",
    "    \"\"\"\n",
    "    LOAD CSV WITH HEADERS FROM '$(f_url)' AS row FIELDTERMINATOR '\\t'\n",
    "    CREATE (node:$(NODE_TYPE) $(parameters))\n",
    "    \"\"\"\n",
    "    cmd = rstrip(replace(cmd, '\\n' => ' '))\n",
    "    cypher_cmd = Mycelia.cypher(address = local_address, username = USERNAME, password = local_password, database = DATABASE, cmd = cmd)\n",
    "    run(cypher_cmd) \n",
    "end"
   ]
  },
  {
   "cell_type": "code",
   "execution_count": 86,
   "metadata": {},
   "outputs": [],
   "source": [
    "# add the edges to it"
   ]
  },
  {
   "cell_type": "code",
   "execution_count": 87,
   "metadata": {},
   "outputs": [
    {
     "data": {
      "text/plain": [
       "\"IS_PARENT_OF\""
      ]
     },
     "execution_count": 87,
     "metadata": {},
     "output_type": "execute_result"
    }
   ],
   "source": [
    "src_type = dst_type = \"Taxonomy\"\n",
    "edge_type = \"IS_PARENT_OF\"\n",
    "# upload_edge_type_over_url(src_type, dst_type, edge_type, graph, ADDRESS, USERNAME, PASSWORD, DATABASE)"
   ]
  },
  {
   "cell_type": "code",
   "execution_count": 88,
   "metadata": {},
   "outputs": [
    {
     "data": {
      "text/plain": [
       "243-element Vector{UnitRange{Int64}}:\n",
       " 1:10000\n",
       " 10001:20000\n",
       " 20001:30000\n",
       " 30001:40000\n",
       " 40001:50000\n",
       " 50001:60000\n",
       " 60001:70000\n",
       " 70001:80000\n",
       " 80001:90000\n",
       " 90001:100000\n",
       " 100001:110000\n",
       " 110001:120000\n",
       " 120001:130000\n",
       " ⋮\n",
       " 2310001:2320000\n",
       " 2320001:2330000\n",
       " 2330001:2340000\n",
       " 2340001:2350000\n",
       " 2350001:2360000\n",
       " 2360001:2370000\n",
       " 2370001:2380000\n",
       " 2380001:2390000\n",
       " 2390001:2400000\n",
       " 2400001:2410000\n",
       " 2410001:2420000\n",
       " 2420001:2420860"
      ]
     },
     "execution_count": 88,
     "metadata": {},
     "output_type": "execute_result"
    }
   ],
   "source": [
    "window_size = 10000\n",
    "V = DataFrames.nrow(edge_table)\n",
    "windows = [i:min(i+window_size-1,V) for i in 1:window_size:V]"
   ]
  },
  {
   "cell_type": "code",
   "execution_count": 90,
   "metadata": {},
   "outputs": [
    {
     "name": "stderr",
     "output_type": "stream",
     "text": [
      "\u001b[32mProgress: 100%|█████████████████████████████████████████| Time: 0:06:18\u001b[39m\n"
     ]
    }
   ],
   "source": [
    "ProgressMeter.@showprogress for (i, w) in enumerate(windows)\n",
    "    df_sub = edge_table[w, :]\n",
    "    f = \"edge$i.tsv\"\n",
    "    local_f_path = \"$(temp_upload_dir)/$(f)\"\n",
    "    uCSV.write(local_f_path, df_sub, delim='\\t')\n",
    "    run(`chmod 777 $(local_f_path)`)\n",
    "    f_url = \"file:///$(local_f_path)\"\n",
    "    cmd = \n",
    "    \"\"\"\n",
    "    LOAD CSV WITH HEADERS FROM '$(f_url)' AS row FIELDTERMINATOR '\\t'\n",
    "    MATCH (src:$(src_type) {identifier: row.src})\n",
    "    MATCH (dst:$(dst_type) {identifier: row.dst})\n",
    "    MERGE (src)-[p:$(edge_type)]->(dst)\n",
    "    \"\"\"\n",
    "    cmd = rstrip(replace(cmd, '\\n' => ' '))\n",
    "    cypher_cmd = Mycelia.cypher(address = local_address, username = USERNAME, password = local_password, database = DATABASE, cmd = cmd)\n",
    "    run(cypher_cmd) \n",
    "end"
   ]
  },
  {
   "cell_type": "code",
   "execution_count": 91,
   "metadata": {},
   "outputs": [],
   "source": [
    "# ADDRESS\n",
    "# a = \"neo4j+s://41a45c7d.databases.neo4j.io\""
   ]
  },
  {
   "cell_type": "code",
   "execution_count": 94,
   "metadata": {},
   "outputs": [
    {
     "data": {
      "text/plain": [
       "\"neo4j+s://41a45c7d.databases.neo4j.io\""
      ]
     },
     "execution_count": 94,
     "metadata": {},
     "output_type": "execute_result"
    }
   ],
   "source": [
    "a = replace(ADDRESS, \":7687\" => \"\")"
   ]
  },
  {
   "cell_type": "code",
   "execution_count": 97,
   "metadata": {},
   "outputs": [
    {
     "name": "stdout",
     "output_type": "stream",
     "text": [
      "Stopping Neo4j....... stopped.\n"
     ]
    },
    {
     "data": {
      "text/plain": [
       "Process(`\u001b[4msudo\u001b[24m \u001b[4mneo4j\u001b[24m \u001b[4mstop\u001b[24m`, ProcessExited(0))"
      ]
     },
     "execution_count": 97,
     "metadata": {},
     "output_type": "execute_result"
    }
   ],
   "source": [
    "# run(`sudo touch /etc/neo4j/neo4j.conf`)\n",
    "run(`sudo neo4j stop`)"
   ]
  },
  {
   "cell_type": "code",
   "execution_count": 100,
   "metadata": {},
   "outputs": [
    {
     "name": "stderr",
     "output_type": "stream",
     "text": [
      "Selecting JVM - Version:11.0.15+10-Ubuntu-0ubuntu0.18.04.1, Name:OpenJDK 64-Bit Server VM, Vendor:Private Build\n"
     ]
    },
    {
     "name": "stdout",
     "output_type": "stream",
     "text": [
      "Executing command line: /usr/lib/jvm/java-11-openjdk-amd64/bin/java -cp /etc/neo4j/*:/usr/share/neo4j/lib/commons-beanutils-1.9.4.jar:/usr/share/neo4j/lib/stax-ex-1.8.1.jar:/usr/share/neo4j/lib/jakarta.annotation-api-1.3.5.jar:/usr/share/neo4j/lib/neo4j-cypher-ast-factory-4.4.6.jar:/usr/share/neo4j/lib/shiro-core-1.8.0.jar:/usr/share/neo4j/lib/neo4j-procedure-4.4.6.jar:/usr/share/neo4j/lib/javax.ws.rs-api-2.1.1.jar:/usr/share/neo4j/lib/neo4j-resource-4.4.6.jar:/usr/share/neo4j/lib/FastInfoset-1.2.16.jar:/usr/share/neo4j/lib/jakarta.validation-api-2.0.2.jar:/usr/share/neo4j/lib/neo4j-data-collector-4.4.6.jar:/usr/share/neo4j/lib/jctools-core-3.3.0.jar:/usr/share/neo4j/lib/commons-logging-1.2.jar:/usr/share/neo4j/lib/javassist-3.25.0-GA.jar:/usr/share/neo4j/lib/neo4j-lucene-index-4.4.6.jar:/usr/share/neo4j/lib/eclipse-collections-api-10.4.0.jar:/usr/share/neo4j/lib/netty-transport-4.1.75.Final.jar:/usr/share/neo4j/lib/netty-buffer-4.1.75.Final.jar:/usr/share/neo4j/lib/neo4j-storage-engine-api-4.4.6.jar:/usr/share/neo4j/lib/zstd-jni-1.5.0-4.jar:/usr/share/neo4j/lib/neo4j-cypher-interpreted-runtime-4.4.6.jar:/usr/share/neo4j/lib/parboiled-scala_2.12-1.2.0.jar:/usr/share/neo4j/lib/neo4j-cypher-macros-4.4.6.jar:/usr/share/neo4j/lib/txw2-2.3.2.jar:/usr/share/neo4j/lib/shiro-config-ogdl-1.8.0.jar:/usr/share/neo4j/lib/jetty-util-9.4.43.v20210629.jar:/usr/share/neo4j/lib/jna-5.9.0.jar:/usr/share/neo4j/lib/jackson-databind-2.13.2.2.jar:/usr/share/neo4j/lib/neo4j-cypher-logical-plans-4.4.6.jar:/usr/share/neo4j/lib/commons-collections-3.2.2.jar:/usr/share/neo4j/lib/neo4j-graph-algo-4.4.6.jar:/usr/share/neo4j/lib/jetty-servlet-9.4.43.v20210629.jar:/usr/share/neo4j/lib/reactive-streams-1.0.3.jar:/usr/share/neo4j/lib/jersey-container-servlet-2.34.jar:/usr/share/neo4j/lib/neo4j-fulltext-index-4.4.6.jar:/usr/share/neo4j/lib/neo4j-index-4.4.6.jar:/usr/share/neo4j/lib/jersey-hk2-2.34.jar:/usr/share/neo4j/lib/jetty-webapp-9.4.43.v20210629.jar:/usr/share/neo4j/lib/neo4j-procedure-api-4.4.6.jar:/usr/share/neo4j/lib/shiro-crypto-hash-1.8.0.jar:/usr/share/neo4j/lib/neo4j-spatial-index-4.4.6.jar:/usr/share/neo4j/lib/netty-transport-native-unix-common-4.1.75.Final.jar:/usr/share/neo4j/lib/eclipse-collections-10.4.0.jar:/usr/share/neo4j/lib/shiro-event-1.8.0.jar:/usr/share/neo4j/lib/jaxb-api-2.3.0.jar:/usr/share/neo4j/lib/neo4j-logging-4.4.6.jar:/usr/share/neo4j/lib/neo4j-cypher-planner-spi-4.4.6.jar:/usr/share/neo4j/lib/bcutil-jdk15on-1.69.jar:/usr/share/neo4j/lib/neo4j-push-to-cloud-4.4.6.jar:/usr/share/neo4j/lib/neo4j-security-4.4.6.jar:/usr/share/neo4j/lib/neo4j-expressions-4.4.6.jar:/usr/share/neo4j/lib/parboiled-core-1.2.0.jar:/usr/share/neo4j/lib/neo4j-layout-4.4.6.jar:/usr/share/neo4j/lib/neo4j-cypher-planner-4.4.6.jar:/usr/share/neo4j/lib/hk2-api-2.6.1.jar:/usr/share/neo4j/lib/jersey-container-servlet-core-2.34.jar:/usr/share/neo4j/lib/lucene-backward-codecs-8.9.0.jar:/usr/share/neo4j/lib/commons-text-1.9.jar:/usr/share/neo4j/lib/caffeine-3.0.3.jar:/usr/share/neo4j/lib/slf4j-api-1.7.30.jar:/usr/share/neo4j/lib/neo4j-capabilities-4.4.6.jar:/usr/share/neo4j/lib/javax.servlet-api-3.1.0.jar:/usr/share/neo4j/lib/netty-common-4.1.75.Final.jar:/usr/share/neo4j/lib/jakarta.activation-api-1.2.1.jar:/usr/share/neo4j/lib/server-api-4.4.6.jar:/usr/share/neo4j/lib/neo4j-ssl-4.4.6.jar:/usr/share/neo4j/lib/neo4j-storage-engine-util-4.4.6.jar:/usr/share/neo4j/lib/neo4j-import-util-4.4.6.jar:/usr/share/neo4j/lib/jetty-server-9.4.43.v20210629.jar:/usr/share/neo4j/lib/jetty-security-9.4.43.v20210629.jar:/usr/share/neo4j/lib/neo4j-cypher-runtime-util-4.4.6.jar:/usr/share/neo4j/lib/cypher-ast-factory-4.4.6.jar:/usr/share/neo4j/lib/bcprov-jdk15on-1.69.jar:/usr/share/neo4j/lib/neo4j-exceptions-4.4.6.jar:/usr/share/neo4j/lib/annotations-4.4.6.jar:/usr/share/neo4j/lib/neo4j-csv-4.4.6.jar:/usr/share/neo4j/lib/hk2-locator-2.6.1.jar:/usr/share/neo4j/lib/neo4j-browser-4.4.4.jar:/usr/share/neo4j/lib/neo4j-ast-4.4.6.jar:/usr/share/neo4j/lib/neo4j-native-4.4.6.jar:/usr/share/neo4j/lib/neo4j-collections-4.4.6.jar:/usr/share/neo4j/lib/neo4j-configuration-4.4.6.jar:/usr/share/neo4j/lib/jProcesses-1.6.5.jar:/usr/share/neo4j/lib/commons-io-2.11.0.jar:/usr/share/neo4j/lib/jaxb-runtime-2.3.2.jar:/usr/share/neo4j/lib/commons-compress-1.21.jar:/usr/share/neo4j/lib/neo4j-diagnostics-4.4.6.jar:/usr/share/neo4j/lib/lucene-core-8.9.0.jar:/usr/share/neo4j/lib/shiro-lang-1.8.0.jar:/usr/share/neo4j/lib/reactor-core-3.4.15.jar:/usr/share/neo4j/lib/neo4j-cypher-javacc-parser-4.4.6.jar:/usr/share/neo4j/lib/jackson-module-jaxb-annotations-2.13.2.jar:/usr/share/neo4j/lib/ipaddress-5.3.3.jar:/usr/share/neo4j/lib/scala-reflect-2.12.13.jar:/usr/share/neo4j/lib/netty-handler-4.1.75.Final.jar:/usr/share/neo4j/lib/shiro-crypto-cipher-1.8.0.jar:/usr/share/neo4j/lib/jetty-http-9.4.43.v20210629.jar:/usr/share/neo4j/lib/neo4j-schema-4.4.6.jar:/usr/share/neo4j/lib/jPowerShell-3.0.jar:/usr/share/neo4j/lib/neo4j-command-line-4.4.6.jar:/usr/share/neo4j/lib/neo4j-unsafe-4.4.6.jar:/usr/share/neo4j/lib/neo4j-dbms-4.4.6.jar:/usr/share/neo4j/lib/netty-transport-native-epoll-4.1.75.Final-linux-x86_64.jar:/usr/share/neo4j/lib/neo4j-values-4.4.6.jar:/usr/share/neo4j/lib/jakarta.ws.rs-api-2.1.6.jar:/usr/share/neo4j/lib/jersey-common-2.34.jar:/usr/share/neo4j/lib/jamm-0.3.3.jar:/usr/share/neo4j/lib/netty-codec-http-4.1.75.Final.jar:/usr/share/neo4j/lib/magnolia_2.12-0.17.0.jar:/usr/share/neo4j/lib/neo4j-id-generator-4.4.6.jar:/usr/share/neo4j/lib/neo4j-monitoring-4.4.6.jar:/usr/share/neo4j/lib/neo4j-token-api-4.4.6.jar:/usr/share/neo4j/lib/hk2-utils-2.6.1.jar:/usr/share/neo4j/lib/neo4j-util-4.4.6.jar:/usr/share/neo4j/lib/neo4j-buffers-4.4.6.jar:/usr/share/neo4j/lib/scala-library-2.12.13.jar:/usr/share/neo4j/lib/shiro-config-core-1.8.0.jar:/usr/share/neo4j/lib/neo4j-fabric-4.4.6.jar:/usr/share/neo4j/lib/jetty-io-9.4.43.v20210629.jar:/usr/share/neo4j/lib/jetty-xml-9.4.43.v20210629.jar:/usr/share/neo4j/lib/neo4j-consistency-check-4.4.6.jar:/usr/share/neo4j/lib/neo4j-cypher-config-4.4.6.jar:/usr/share/neo4j/lib/neo4j-kernel-api-4.4.6.jar:/usr/share/neo4j/lib/neo4j-bolt-4.4.6.jar:/usr/share/neo4j/lib/jackson-jaxrs-base-2.13.2.jar:/usr/share/neo4j/lib/netty-resolver-4.1.75.Final.jar:/usr/share/neo4j/lib/lucene-analyzers-common-8.9.0.jar:/usr/share/neo4j/lib/neo4j-graphdb-api-4.4.6.jar:/usr/share/neo4j/lib/shiro-cache-1.8.0.jar:/usr/share/neo4j/lib/slf4j-nop-1.7.30.jar:/usr/share/neo4j/lib/neo4j-4.4.6.jar:/usr/share/neo4j/lib/jackson-jaxrs-json-provider-2.13.2.jar:/usr/share/neo4j/lib/neo4j-record-storage-engine-4.4.6.jar:/usr/share/neo4j/lib/neo4j-cypher-4.4.6.jar:/usr/share/neo4j/lib/zstd-proxy-4.4.6.jar:/usr/share/neo4j/lib/netty-transport-classes-epoll-4.1.75.Final.jar:/usr/share/neo4j/lib/neo4j-lock-4.4.6.jar:/usr/share/neo4j/lib/jersey-server-2.34.jar:/usr/share/neo4j/lib/neo4j-common-4.4.6.jar:/usr/share/neo4j/lib/WMI4Java-1.6.3.jar:/usr/share/neo4j/lib/lucene-queryparser-8.9.0.jar:/usr/share/neo4j/lib/istack-commons-runtime-3.0.8.jar:/usr/share/neo4j/lib/neo4j-front-end-4.4.6.jar:/usr/share/neo4j/lib/neo4j-concurrent-4.4.6.jar:/usr/share/neo4j/lib/jettison-1.4.1.jar:/usr/share/neo4j/lib/neo4j-cypher-ir-4.4.6.jar:/usr/share/neo4j/lib/jackson-annotations-2.13.2.jar:/usr/share/neo4j/lib/neo4j-import-tool-4.4.6.jar:/usr/share/neo4j/lib/neo4j-server-4.4.6.jar:/usr/share/neo4j/lib/picocli-4.6.1.jar:/usr/share/neo4j/lib/neo4j-kernel-4.4.6.jar:/usr/share/neo4j/lib/shiro-crypto-core-1.8.0.jar:/usr/share/neo4j/lib/commons-lang3-3.12.0.jar:/usr/share/neo4j/lib/mercator_2.12-0.2.1.jar:/usr/share/neo4j/lib/bcpkix-jdk15on-1.69.jar:/usr/share/neo4j/lib/neo4j-codegen-4.4.6.jar:/usr/share/neo4j/lib/jakarta.inject-2.6.1.jar:/usr/share/neo4j/lib/netty-codec-4.1.75.Final.jar:/usr/share/neo4j/lib/neo4j-io-4.4.6.jar:/usr/share/neo4j/lib/neo4j-rewriting-4.4.6.jar:/usr/share/neo4j/lib/neo4j-cypher-expression-evaluator-4.4.6.jar:/usr/share/neo4j/lib/neo4j-parser-4.4.6.jar:/usr/share/neo4j/lib/jackson-core-2.13.2.jar:/usr/share/neo4j/lib/neo4j-batch-insert-4.4.6.jar:/usr/share/neo4j/lib/netty-transport-native-epoll-4.1.75.Final-linux-aarch_64.jar:/usr/share/neo4j/lib/jersey-client-2.34.jar:/usr/share/neo4j/lib/neo4j-wal-4.4.6.jar:/usr/share/neo4j/etc:/usr/share/neo4j/repo/* -XX:+UseParallelGC -Dfile.encoding=UTF-8 org.neo4j.cli.AdminTool push-to-cloud --overwrite --bolt-uri=neo4j+s://41a45c7d.databases.neo4j.io --username=neo4j --password=PtvnGnnS58elLLVsGwfeovOLi5xdfPe0hTMrwa_WtbM --verbose\n",
      "neo4j 4.4.6\n",
      "VM Name: OpenJDK 64-Bit Server VM\n",
      "VM Vendor: Private Build\n",
      "VM Version: 11.0.15+10-Ubuntu-0ubuntu0.18.04.1\n",
      "JIT compiler: HotSpot 64-Bit Tiered Compilers\n",
      "VM Arguments: [-XX:+UseParallelGC, -Dfile.encoding=UTF-8]\n",
      "Determined FullSize=4249343070 bytes from storeFileSize=1514045440 + txLogSize=2735297630 in database 'neo4j'\n",
      "Checking database size 4.0 GB fits at https://console.neo4j.io/v1/databases/41a45c7d\n"
     ]
    },
    {
     "name": "stderr",
     "output_type": "stream",
     "text": [
      "\n",
      "Files: 1/51, data:  0.0%\n",
      "Files: 1/51, data:  0.0%\n",
      "Files: 2/51, data:  0.0%\n",
      "Files: 3/51, data:  0.0%\n",
      "Files: 4/51, data:  0.6%\n",
      "Files: 4/51, data:  1.6%\n",
      "Files: 4/51, data:  2.0%\n",
      "Files: 5/51, data:  2.0%\n",
      "Files: 6/51, data:  2.7%\n",
      "Files: 6/51, data:  3.9%\n",
      "Files: 6/51, data:  4.1%\n",
      "Files: 7/51, data:  4.1%\n",
      "Files: 8/51, data:  5.2%\n",
      "Files: 8/51, data:  6.0%\n",
      "Files: 8/51, data:  6.1%\n",
      "Files: 9/51, data:  7.2%\n",
      "Files: 9/51, data:  8.3%\n",
      "Files: 9/51, data:  9.6%\n",
      "Files: 9/51, data: 10.9%\n",
      "Files: 9/51, data: 12.2%\n",
      "Files: 9/51, data: 13.5%\n",
      "Files: 9/51, data: 14.5%\n",
      "Files: 9/51, data: 15.7%\n",
      "Files: 9/51, data: 16.9%\n",
      "Files: 9/51, data: 18.2%\n",
      "Files: 9/51, data: 19.5%\n",
      "Files: 9/51, data: 20.6%\n",
      "Files: 9/51, data: 22.0%\n",
      "Files: 9/51, data: 23.1%\n",
      "Files: 9/51, data: 24.1%\n",
      "Files: 9/51, data: 25.1%\n",
      "Files: 9/51, data: 25.7%\n",
      "Files: 10/51, data: 25.7%\n",
      "Files: 11/51, data: 25.7%\n",
      "Files: 12/51, data: 25.7%\n",
      "Files: 13/51, data: 25.7%\n",
      "Files: 14/51, data: 25.7%\n",
      "Files: 15/51, data: 25.7%\n",
      "Files: 16/51, data: 25.7%\n",
      "Files: 17/51, data: 25.7%\n",
      "Files: 18/51, data: 25.7%\n",
      "Files: 19/51, data: 25.7%\n",
      "Files: 20/51, data: 25.7%\n",
      "Files: 21/51, data: 25.7%\n",
      "Files: 22/51, data: 25.7%\n",
      "Files: 23/51, data: 26.6%\n",
      "Files: 23/51, data: 27.1%\n",
      "Files: 24/51, data: 27.1%\n",
      "Files: 25/51, data: 27.1%\n",
      "Files: 26/51, data: 27.1%\n",
      "Files: 27/51, data: 27.1%\n",
      "Files: 28/51, data: 27.1%\n",
      "Files: 29/51, data: 27.1%\n",
      "Files: 30/51, data: 27.1%\n",
      "Files: 31/51, data: 27.4%\n",
      "Files: 31/51, data: 28.6%\n",
      "Files: 31/51, data: 30.0%\n",
      "Files: 31/51, data: 30.5%\n",
      "Files: 32/51, data: 30.5%\n",
      "Files: 33/51, data: 30.5%\n",
      "Files: 34/51, data: 30.5%\n",
      "Files: 35/51, data: 30.5%\n",
      "Files: 36/51, data: 30.5%\n",
      "Files: 37/51, data: 30.5%\n",
      "Files: 38/51, data: 31.3%\n",
      "Files: 38/51, data: 32.5%\n",
      "Files: 38/51, data: 33.7%\n",
      "Files: 38/51, data: 35.0%\n",
      "Files: 38/51, data: 35.8%\n",
      "Files: 39/51, data: 36.2%\n",
      "Files: 39/51, data: 37.4%\n",
      "Files: 39/51, data: 38.7%\n",
      "Files: 39/51, data: 40.0%\n",
      "Files: 39/51, data: 41.3%\n",
      "Files: 39/51, data: 41.3%\n",
      "Files: 40/51, data: 42.6%\n",
      "Files: 40/51, data: 43.9%\n",
      "Files: 40/51, data: 45.2%\n",
      "Files: 40/51, data: 46.3%\n",
      "Files: 40/51, data: 46.6%\n",
      "Files: 41/51, data: 47.6%\n",
      "Files: 41/51, data: 48.9%\n",
      "Files: 41/51, data: 50.2%\n",
      "Files: 41/51, data: 51.4%\n",
      "Files: 41/51, data: 51.9%\n",
      "Files: 42/51, data: 52.7%\n",
      "Files: 42/51, data: 54.0%\n",
      "Files: 42/51, data: 55.3%\n",
      "Files: 42/51, data: 56.7%\n",
      "Files: 42/51, data: 57.4%\n",
      "Files: 43/51, data: 58.0%\n",
      "Files: 43/51, data: 59.2%\n",
      "Files: 43/51, data: 60.4%\n",
      "Files: 43/51, data: 61.8%\n",
      "Files: 43/51, data: 62.8%\n",
      "Files: 44/51, data: 63.1%\n",
      "Files: 44/51, data: 64.3%\n",
      "Files: 44/51, data: 65.8%\n",
      "Files: 44/51, data: 67.2%\n",
      "Files: 44/51, data: 68.1%\n",
      "Files: 45/51, data: 68.4%\n",
      "Files: 45/51, data: 69.7%\n",
      "Files: 45/51, data: 71.0%\n",
      "Files: 45/51, data: 72.3%\n",
      "Files: 45/51, data: 73.3%\n",
      "Files: 45/51, data: 73.4%\n",
      "Files: 46/51, data: 73.4%\n",
      "Files: 46/51, data: 73.5%\n",
      "Files: 46/51, data: 73.9%\n",
      "Files: 46/51, data: 74.2%\n",
      "Files: 46/51, data: 74.7%\n",
      "Files: 46/51, data: 75.5%\n",
      "Files: 46/51, data: 76.2%\n",
      "Files: 46/51, data: 77.0%\n",
      "Files: 46/51, data: 77.8%\n",
      "Files: 46/51, data: 78.5%\n",
      "Files: 46/51, data: 78.6%\n",
      "Files: 47/51, data: 79.8%\n",
      "Files: 47/51, data: 81.0%\n",
      "Files: 47/51, data: 82.3%\n",
      "Files: 47/51, data: 83.6%\n",
      "Files: 47/51, data: 84.0%\n",
      "Files: 48/51, data: 84.8%\n",
      "Files: 48/51, data: 86.0%\n",
      "Files: 48/51, data: 87.2%\n",
      "Files: 48/51, data: 88.4%\n",
      "Files: 48/51, data: 89.3%\n",
      "Files: 49/51, data: 89.7%\n",
      "Files: 49/51, data: 90.9%\n",
      "Files: 49/51, data: 92.3%\n",
      "Files: 49/51, data: 93.7%\n",
      "Files: 49/51, data: 94.6%\n",
      "Files: 50/51, data: 95.2%\n",
      "Files: 50/51, data: 96.5%\n",
      "Files: 50/51, data: 97.9%\n",
      "Files: 50/51, data: 99.4%\n",
      "Files: 50/51, data: 100.0%\n",
      "Files: 51/51, data: 100.0%\n",
      "Done: 51 files, 4.624GiB processed.\n"
     ]
    },
    {
     "name": "stdout",
     "output_type": "stream",
     "text": [
      "Dumped contents of database 'neo4j' into '/var/lib/neo4j/dump-of-neo4j-1652640983971'\n",
      "Determined DumpSize=4965334842 bytes from dump at /var/lib/neo4j/dump-of-neo4j-1652640983971\n",
      "Validating sizes: fromDump=4965334842, fromDatabase=4249343070Warning: unexpectedly large difference between size in dump, and original size: 4965334842 != 4249343070Uploading data of 4.6 GB to https://console.neo4j.io/v1/databases/41a45c7d\n",
      "Got json '{\"SignedURI\":\"https://storage.googleapis.com/data-import-uploads-production/41a45c7d-3512359765.dump?GoogleAccessId=admin-worker@neo4j-cloud.iam.gserviceaccount.com&Expires=1655232998&Signature=taZ9UgCRrwTx9cDOLpxPgE1NMv9UzFLfHUOKcssjgPeOAfg1ju27lLFd7jjou5%2FK2v5O9t%2FY2Ap6Qz71Es%2BDoE1ZvI%2F2EFe23%2B322ZvSfA0YK0Gdxamdzd%2FwcLn6vSCP36s8gKbhorpvZuVTGUhm%2BhxG64Px0zI2mEdYyT43cP3Zl8s%2B3DeAhmDXZT0ULOsUm3UL8cdNTxFZ5JCDGG%2Bl2j%2BKKbsdEd3cEG83vQL%2BuQBnIByJQkl3oLj7FqYhwPyMvpC%2FA%2FjwI0FCtWB9FMBGuOMN0pWb75C5DZKhth7vMAMpxxnVvOq%2B5n8bRXkgHilPBz8PyzFn9G%2BG2JApZ18m0w%3D%3D\"}\n",
      "' back expecting to contain the signed URL\n",
      "Upload\n",
      "....................  10%\n",
      "....................  20%\n",
      "....................  30%\n",
      "....................  40%\n",
      "....................  50%\n",
      "....................  60%\n",
      "....................  70%\n",
      "....................  80%\n",
      "....................  90%\n",
      ".................... 100%\n",
      "We have received your export and it is currently being loaded into your Aura instance.\n",
      "You can wait here, or abort this command and head over to the console to be notified of when your database is running.\n",
      "Rough guess for how long dump file import will take: 7 minutes; file size is 0.6 GB (614115781 bytes)\n",
      "Import progress (estimated)\n",
      "....................  10%\n",
      "....................  20%\n",
      "....................  30%\n",
      "....................  40%\n",
      "....................  50%\n",
      "....................  60%\n",
      "....................  70%\n",
      "....................  80%\n",
      "....................  90%\n",
      ".................... 100%\n",
      "Your data was successfully pushed to Aura and is now running.\n",
      "Import took about 5 minutes to complete excluding upload (318742 ms)\n"
     ]
    },
    {
     "data": {
      "text/plain": [
       "Process(`\u001b[4msudo\u001b[24m \u001b[4mneo4j-admin\u001b[24m \u001b[4mpush-to-cloud\u001b[24m \u001b[4m--overwrite\u001b[24m \u001b[4m--verbose\u001b[24m \u001b[4m--bolt-uri=neo4j+s://41a45c7d.databases.neo4j.io\u001b[24m \u001b[4m--username=neo4j\u001b[24m \u001b[4m--password=PtvnGnnS58elLLVsGwfeovOLi5xdfPe0hTMrwa_WtbM\u001b[24m`, ProcessExited(0))"
      ]
     },
     "execution_count": 100,
     "metadata": {},
     "output_type": "execute_result"
    }
   ],
   "source": [
    "# remote database needs to be running\n",
    "# needs to be big enough\n",
    "# leave off port from address\n",
    "\n",
    "# run(`neo4j-admin push-to-cloud --overwrite --verbose --bolt-uri=$(ADDRESS) --username=$(USERNAME) --password=$(PASSWORD)`)\n",
    "# run(`sudo neo4j-admin push-to-cloud --overwrite --verbose --dump-to \"$(DIR)/test.db.dump\" --bolt-uri=$(a) --username=$(USERNAME) --password=$(PASSWORD)`)\n",
    "run(`sudo neo4j-admin push-to-cloud --overwrite --verbose --bolt-uri=$(a) --username=$(USERNAME) --password=$(PASSWORD)`)"
   ]
  },
  {
   "cell_type": "code",
   "execution_count": null,
   "metadata": {},
   "outputs": [],
   "source": []
  }
 ],
 "metadata": {
  "kernelspec": {
   "display_name": "Julia 1.6.5",
   "language": "julia",
   "name": "julia-1.6"
  },
  "language_info": {
   "file_extension": ".jl",
   "mimetype": "application/julia",
   "name": "julia",
   "version": "1.6.5"
  }
 },
 "nbformat": 4,
 "nbformat_minor": 4
}
