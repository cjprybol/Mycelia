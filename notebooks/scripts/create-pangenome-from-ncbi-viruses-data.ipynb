{
 "cells": [
  {
   "cell_type": "code",
   "execution_count": null,
   "id": "13ee64af-0976-4f02-8482-6300571e7284",
   "metadata": {},
   "outputs": [],
   "source": [
    "import Pkg\n",
    "Pkg.update()\n",
    "\n",
    "pkgs = [\n",
    "    \"Revise\",\n",
    "    \"MetaGraphs\",\n",
    "    \"Graphs\",\n",
    "    \"JSON\",\n",
    "    \"uCSV\",\n",
    "    \"DataFrames\",\n",
    "    \"Dates\",\n",
    "    \"Primes\",\n",
    "    \"Kmers\",\n",
    "    \"BioSequences\",\n",
    "    \"FASTX\",\n",
    "    \"ProgressMeter\",\n",
    "    \"Random\"\n",
    "]\n",
    "\n",
    "Pkg.add(pkgs)\n",
    "for pkg in pkgs\n",
    "    eval(Meta.parse(\"import $pkg\"))\n",
    "end\n",
    "\n",
    "# Pkg.develop(path=\"$(homedir())/workspace/Mycelia\")\n",
    "import Mycelia"
   ]
  },
  {
   "cell_type": "code",
   "execution_count": null,
   "id": "92f92e84-19ab-47c6-ba60-e28b374bf5b1",
   "metadata": {
    "tags": [
     "parameters"
    ]
   },
   "outputs": [],
   "source": [
    "#papermill parameters\n",
    "base_directory = \"$(homedir())/workspace/sars-cov2-pangenome-analysis/\"\n",
    "sequences_directory = \"$(base_directory)/data/sequences\"\n",
    "metadata_file = \"$(base_directory)/metadata/sequences.csv\"\n",
    "working_directory = \"$(homedir())/workspace/scratch/$(Dates.today())\""
   ]
  },
  {
   "cell_type": "code",
   "execution_count": null,
   "id": "4c733a8e-7ca8-4422-a12e-18e6de20faf3",
   "metadata": {},
   "outputs": [],
   "source": [
    "neo4j_username = \"neo4j\"\n",
    "\n",
    "# remote_neo4j_address = ENV[\"NEO4J_URL\"]\n",
    "# remote_neo4j_password = ENV[\"NEO4J_PASSWORD\"]\n",
    "local_neo4j_bolt_address = \"bolt://localhost:7687\"\n",
    "local_neo4j_http_address = \"neo4j://localhost:7474\"\n",
    "# local_neo4j_password = \"neo4j\"\n",
    "# local_neo4j_password = Random.randstring(7)\n",
    "local_neo4j_password = \"ii0sRIc\"\n",
    "\n",
    "neo4j_local_import_directory = \"/home/jovyan/.local/neo4j-community-4.4.11/import\"\n",
    "# run(`/home/jovyan/.local/neo4j-community-4.4.11/bin/neo4j stop`)\n",
    "# run(`/home/jovyan/.local/neo4j-community-4.4.11/bin/neo4j start`)\n",
    "# run(`/home/jovyan/.local/neo4j-community-4.4.11/bin/neo4j status`)"
   ]
  },
  {
   "cell_type": "code",
   "execution_count": null,
   "id": "325f1db6-2ad0-41ad-b407-2d7dea0662f4",
   "metadata": {},
   "outputs": [],
   "source": [
    "# # # update password - only need to do this on initial setup\n",
    "# cmd = \"ALTER CURRENT USER SET PASSWORD FROM 'neo4j' TO '$(local_neo4j_password)'\"\n",
    "# run(Mycelia.cypher(cmd, address=local_neo4j_bolt_address, password=\"neo4j\", username=\"neo4j\", database=\"system\"))"
   ]
  },
  {
   "cell_type": "code",
   "execution_count": null,
   "id": "bc31b34b-2228-4112-ac1f-c12c5a16e817",
   "metadata": {},
   "outputs": [],
   "source": [
    "mkpath(working_directory)\n",
    "cd(working_directory)"
   ]
  },
  {
   "cell_type": "code",
   "execution_count": null,
   "id": "b596c7c3-c38a-4fa2-b134-bd16aef01418",
   "metadata": {},
   "outputs": [],
   "source": [
    "# f = metadata_file\n",
    "n = 10^1\n",
    "# n = 10^2\n",
    "# n = 10^3\n",
    "# n = 10^4\n",
    "# n = 10^5\n",
    "# n = 10^6\n",
    "# n = countlines(metadata_file)\n",
    "f = open(`head -n $(n) $metadata_file`)\n",
    "@time sequence_metadata = DataFrames.DataFrame(uCSV.read(f, quotes='\"', header=1, typedetectrows=100)...)"
   ]
  },
  {
   "cell_type": "code",
   "execution_count": null,
   "id": "e927172f-f5bd-4797-bbae-3801e0a739e3",
   "metadata": {},
   "outputs": [],
   "source": [
    "fastx_files = map(x -> \"$(sequences_directory)/$(x).fna\", sequence_metadata[!, \"Accession\"])"
   ]
  },
  {
   "cell_type": "code",
   "execution_count": null,
   "id": "4c1458a2-ffb7-4da8-97ca-d166d4d75d94",
   "metadata": {},
   "outputs": [],
   "source": [
    "graph = Mycelia.initialize_graph()\n",
    "graph = Mycelia.add_fastx_to_graph!(graph, fastx_files)\n",
    "graph = Mycelia.add_metadata_from_table!(graph, sequence_metadata, identifier_column = \"Accession\")"
   ]
  },
  {
   "cell_type": "code",
   "execution_count": null,
   "id": "b3f9145c-e26b-4669-b7e3-847828a8f5ac",
   "metadata": {},
   "outputs": [],
   "source": [
    "# max_k = Mycelia.assess_dnamer_saturation(fastx_files)\n",
    "# max_k = 31\n",
    "# min_k=17\n",
    "# max_k=17\n",
    "min_k=max_k=31\n",
    "kmer_sizes = Primes.primes(min_k, max_k)"
   ]
  },
  {
   "cell_type": "code",
   "execution_count": null,
   "id": "287a9329-88ac-4eba-b231-65f8263ca935",
   "metadata": {},
   "outputs": [],
   "source": [
    "for kmer_size in kmer_sizes\n",
    "    @show kmer_size\n",
    "    @time Mycelia.add_fasta_record_kmers_to_graph!(graph, kmer_size)\n",
    "end"
   ]
  },
  {
   "cell_type": "code",
   "execution_count": null,
   "id": "f2c26570-b7dd-4be7-8c8b-bd87cb530041",
   "metadata": {},
   "outputs": [],
   "source": [
    "for kmer_size in kmer_sizes\n",
    "    @show kmer_size\n",
    "    @time Mycelia.graph_to_gfa(graph, kmer_size)\n",
    "end"
   ]
  },
  {
   "cell_type": "code",
   "execution_count": null,
   "id": "849e57c7-3180-410f-92b1-d29d484010f6",
   "metadata": {},
   "outputs": [],
   "source": [
    "for gfa in filter(x -> occursin(r\"\\.gfa$\", x), readdir(working_directory, join=true))\n",
    "    @show gfa\n",
    "    for nodewidth in [100, 500, 1000]\n",
    "        gfa_img = \"$(gfa).$(nodewidth).jpg\"\n",
    "        if !isfile(gfa_img)\n",
    "            run(`Bandage image $gfa $gfa_img --deppower 1 --depwidth 1 --nodewidth $(nodewidth)`)\n",
    "        end\n",
    "    end\n",
    "end"
   ]
  },
  {
   "cell_type": "code",
   "execution_count": null,
   "id": "0ecb8670-e510-40ab-971d-3a32595ca2a3",
   "metadata": {},
   "outputs": [],
   "source": [
    "run(`/home/jovyan/.local/neo4j-community-4.4.11/bin/neo4j stop`)\n",
    "run(`/home/jovyan/.local/neo4j-community-4.4.11/bin/neo4j start`)\n",
    "run(`/home/jovyan/.local/neo4j-community-4.4.11/bin/neo4j status`)"
   ]
  },
  {
   "cell_type": "code",
   "execution_count": null,
   "id": "56c045dd-e653-409d-8008-fd2ab480edae",
   "metadata": {},
   "outputs": [],
   "source": [
    "Mycelia.list_databases(address=local_neo4j_bolt_address, password=local_neo4j_password)"
   ]
  },
  {
   "cell_type": "code",
   "execution_count": null,
   "id": "331ab9c2-bcee-4b58-b2a7-84aea130e4b9",
   "metadata": {},
   "outputs": [],
   "source": [
    "Mycelia.create_node_constraints(graph, address=local_neo4j_bolt_address, password=local_neo4j_password)"
   ]
  },
  {
   "cell_type": "code",
   "execution_count": null,
   "id": "e9e53adb-b450-4836-9005-9cb3a9340ce5",
   "metadata": {},
   "outputs": [],
   "source": [
    "# run(Mycelia.cypher(\"MATCH (n) DETACH DELETE n\", address=local_neo4j_bolt_address, password=local_neo4j_password))\n",
    "# run(Mycelia.cypher(\"MATCH (n) RETURN count(n) as count\", address=local_neo4j_bolt_address, password=local_neo4j_password))\n",
    "# run(Mycelia.cypher(\"MATCH (n) DETACH DELETE n\", address=local_neo4j_bolt_address, password=local_neo4j_password))"
   ]
  },
  {
   "cell_type": "code",
   "execution_count": null,
   "id": "9e857790-f8c2-498b-af2d-e69a44f15788",
   "metadata": {},
   "outputs": [],
   "source": [
    "Mycelia.upload_nodes_to_neo4j(graph=graph, address=local_neo4j_bolt_address, password=local_neo4j_password, neo4j_import_directory=neo4j_local_import_directory)"
   ]
  },
  {
   "cell_type": "code",
   "execution_count": null,
   "id": "f171b9d4-a4b0-47f2-8f2e-51828ffb72c1",
   "metadata": {},
   "outputs": [],
   "source": [
    "run(Mycelia.cypher(\"MATCH (n) RETURN count(n) as count\", address=local_neo4j_bolt_address, password=local_neo4j_password))"
   ]
  },
  {
   "cell_type": "code",
   "execution_count": null,
   "id": "e9147864-f6a5-4b07-aec7-a084ca1dd098",
   "metadata": {},
   "outputs": [],
   "source": [
    "edge_types = unique(MetaGraphs.props(graph, e)[:TYPE] for e in Graphs.edges(graph))\n",
    "edge_type_strings = Mycelia.type_to_string.(edge_types)"
   ]
  },
  {
   "cell_type": "code",
   "execution_count": null,
   "id": "9d35f750-a101-4ccc-8c5f-45962cc0166e",
   "metadata": {},
   "outputs": [],
   "source": [
    "function upload_edges_to_neo4j(;graph, address, username=\"neo4j\", password, format=\"auto\", database=\"neo4j\", neo4j_import_directory)\n",
    "    \n",
    "    edge_types = unique(MetaGraphs.props(graph, e)[:TYPE] for e in Graphs.edges(graph))\n",
    "    \n",
    "    for edge_type in edge_types\n",
    "        @info \"uploading edge_type => $(Mycelia.type_to_string(edge_type))...\"\n",
    "        edge_type_table = edge_type_to_dataframe(edge_type=edge_type, graph=graph)\n",
    "        try\n",
    "            # upload_edge_table(table=edge_type_table, address=address, password=password, neo4j_import_dir=neo4j_import_directory)\n",
    "        catch e\n",
    "            showerror(stdout, e)\n",
    "        end\n",
    "    end\n",
    "    \n",
    "    @info \"done!\"\n",
    "end"
   ]
  },
  {
   "cell_type": "code",
   "execution_count": null,
   "id": "0194ad3c-b4eb-4b7b-b423-12e2d2f2068e",
   "metadata": {},
   "outputs": [],
   "source": [
    "function edge_type_to_dataframe(;edge_type, graph)\n",
    "    edge_type_indices = filter(e -> MetaGraphs.props(graph, e)[:TYPE] == edge_type, collect(Graphs.edges(graph)))\n",
    "    # @show edge_type_indices\n",
    "    edge_type_parameters = unique(reduce(vcat, map(e -> collect(keys(MetaGraphs.props(graph, e))), edge_type_indices)))\n",
    "    edge_type_table = DataFrames.DataFrame(Dict(p => [] for p in edge_type_parameters))\n",
    "    for edge_index in edge_type_indices\n",
    "        push!(edge_type_table, MetaGraphs.props(graph, edge_index))\n",
    "    end\n",
    "    return edge_type_table\n",
    "end"
   ]
  },
  {
   "cell_type": "code",
   "execution_count": null,
   "id": "fbec7d1d-a5bd-4b87-a4ed-337a5c94568c",
   "metadata": {},
   "outputs": [],
   "source": [
    "upload_edges_to_neo4j(graph=graph, address=local_neo4j_bolt_address, password=local_neo4j_password, neo4j_import_directory=neo4j_local_import_directory)"
   ]
  },
  {
   "cell_type": "code",
   "execution_count": null,
   "id": "fc245665-af57-4b2c-8079-a1fef390f885",
   "metadata": {},
   "outputs": [],
   "source": [
    "\n",
    "\n",
    "# function upload_node_table(;table, window_size=1000, address, password, username=\"neo4j\", database=\"neo4j\", neo4j_import_dir)\n",
    "#     nrows = DataFrames.nrow(table)\n",
    "#     windows = (i:min(i+window_size-1,nrows) for i in 1:window_size:nrows)\n",
    "    \n",
    "#     node_types = unique(table[!, \"TYPE\"])\n",
    "#     @assert length(node_types) == 1\n",
    "#     NODE_TYPE = Mycelia.type_to_string(first(node_types))\n",
    "#     parameters = [\"$(n): row.$(n)\" for n in filter(x -> !(x in [\"TYPE\"]), names(table))]\n",
    "#     parameters = \"{\" * join(parameters, \", \") * \"}\"\n",
    "\n",
    "#     ProgressMeter.@showprogress for (i, window) in enumerate(windows)\n",
    "#         df_sub = table[window, :]\n",
    "#         f = \"node$i.tsv\"\n",
    "#         local_f_path = \"$(neo4j_import_dir)/$(f)\"\n",
    "#         uCSV.write(local_f_path, df_sub, delim='\\t')\n",
    "#         run(`chmod 777 $(local_f_path)`)\n",
    "#         f_url = \"file:///$(f)\"\n",
    "#         cmd =\n",
    "#         \"\"\"\n",
    "#         LOAD CSV WITH HEADERS FROM '$(f_url)' AS row FIELDTERMINATOR '\\t'\n",
    "#         CREATE (:`$(NODE_TYPE)` $(parameters))\n",
    "#         \"\"\"\n",
    "#         cmd = rstrip(replace(cmd, '\\n' => ' '))\n",
    "#         cypher_cmd = Mycelia.cypher(cmd, address = address, username = username, password = password, database = database)\n",
    "#         run(cypher_cmd) \n",
    "#     end\n",
    "# end"
   ]
  },
  {
   "cell_type": "code",
   "execution_count": null,
   "id": "218ee885-efd0-42c1-91f6-0ee859bcfb1f",
   "metadata": {},
   "outputs": [],
   "source": [
    "function edge_type_to_dataframe(;edge_type, graph)\n",
    "    \n",
    "end"
   ]
  },
  {
   "cell_type": "code",
   "execution_count": null,
   "id": "2b0a9e95-0f38-4a67-8f08-7047231b9a17",
   "metadata": {},
   "outputs": [],
   "source": [
    "# for node in \n",
    "    \n",
    "#     function upload_node_over_api(graph, v; ADDRESS, USERNAME=\"neo4j\", PASSWORD, DATABASE=\"neo4j\")\n",
    "#     node_type = MetaGraphs.props(graph, v)[:TYPE]\n",
    "#     node_identifier = MetaGraphs.props(graph, v)[:identifier]\n",
    "#     node_parameters = filter(x -> \n",
    "#             !(x[1] in (:TYPE, :identifier)) && \n",
    "#             !(ismissing(x[2]) || isempty(x[2])), \n",
    "#         MetaGraphs.props(graph, v))\n",
    "#     params_string = join([\"$(string(key)): \\\"$(string(value))\\\"\" for (key, value) in node_parameters], \", \")\n",
    "#     node_type_string = Mycelia.type_to_string(node_type)\n",
    "#     node_identifier_string = string(node_identifier)\n",
    "#     cmd = \n",
    "#     \"\"\"\n",
    "#     MERGE (`$(node_identifier_string)`:`$(node_type_string)` {$(params_string)})\n",
    "#     \"\"\"\n",
    "#     cmd = strip(cmd)\n",
    "#     cypher_cmd = Mycelia.cypher(cmd, address = ADDRESS, username = USERNAME, password = PASSWORD, database = DATABASE)\n",
    "#     run(cypher_cmd)\n",
    "# end"
   ]
  },
  {
   "cell_type": "code",
   "execution_count": null,
   "id": "7d7f9d33-f556-41e4-b62c-9f65049c9245",
   "metadata": {},
   "outputs": [],
   "source": [
    "# window_size = 10000\n",
    "# V = DataFrames.nrow(node_table)\n",
    "# windows = [i:min(i+window_size-1,V) for i in 1:window_size:V]\n",
    "\n",
    "# parameters = [\"$(n): row.$(n)\" for n in filter(x -> x != \"TYPE\", names(node_table))]\n",
    "# parameters = \"{\" * join(parameters, \", \") * \"}\"\n",
    "\n",
    "# ProgressMeter.@showprogress for (i, w) in enumerate(windows)\n",
    "#     df_sub = node_table[w, :]\n",
    "#     f = \"node$i.tsv\"\n",
    "#     local_f_path = \"$(temp_upload_dir)/$(f)\"\n",
    "#     uCSV.write(local_f_path, df_sub, delim='\\t')\n",
    "#     run(`chmod 777 $(local_f_path)`)\n",
    "#     f_url = \"file:///$(local_f_path)\"\n",
    "#     cmd =\n",
    "#     \"\"\"\n",
    "#     LOAD CSV WITH HEADERS FROM '$(f_url)' AS row FIELDTERMINATOR '\\t'\n",
    "#     CREATE (node:$(NODE_TYPE) $(parameters))\n",
    "#     \"\"\"\n",
    "#     cmd = rstrip(replace(cmd, '\\n' => ' '))\n",
    "#     cypher_cmd = Mycelia.cypher(address = local_address, username = USERNAME, password = local_password, database = DATABASE, cmd = cmd)\n",
    "#     run(cypher_cmd) \n",
    "# end\n",
    "\n",
    "# add the edges to it\n",
    "\n",
    "# src_type = dst_type = \"Taxonomy\"\n",
    "# edge_type = \"IS_PARENT_OF\"\n",
    "# # upload_edge_type_over_url(src_type, dst_type, edge_type, graph, ADDRESS, USERNAME, PASSWORD, DATABASE)\n",
    "\n",
    "# window_size = 10000\n",
    "# V = DataFrames.nrow(edge_table)\n",
    "# windows = [i:min(i+window_size-1,V) for i in 1:window_size:V]\n",
    "\n",
    "# ProgressMeter.@showprogress for (i, w) in enumerate(windows)\n",
    "#     df_sub = edge_table[w, :]\n",
    "#     f = \"edge$i.tsv\"\n",
    "#     local_f_path = \"$(temp_upload_dir)/$(f)\"\n",
    "#     uCSV.write(local_f_path, df_sub, delim='\\t')\n",
    "#     run(`chmod 777 $(local_f_path)`)\n",
    "#     f_url = \"file:///$(local_f_path)\"\n",
    "#     cmd = \n",
    "#     \"\"\"\n",
    "#     LOAD CSV WITH HEADERS FROM '$(f_url)' AS row FIELDTERMINATOR '\\t'\n",
    "#     MATCH (src:$(src_type) {identifier: row.src})\n",
    "#     MATCH (dst:$(dst_type) {identifier: row.dst})\n",
    "#     MERGE (src)-[p:$(edge_type)]->(dst)\n",
    "#     \"\"\"\n",
    "#     cmd = rstrip(replace(cmd, '\\n' => ' '))\n",
    "#     cypher_cmd = Mycelia.cypher(address = local_address, username = USERNAME, password = local_password, database = DATABASE, cmd = cmd)\n",
    "#     run(cypher_cmd) \n",
    "# end\n",
    "\n",
    "# # run(`sudo touch /etc/neo4j/neo4j.conf`)\n",
    "# run(`sudo neo4j stop`)\n",
    "\n",
    "# remote database needs to be running\n",
    "# needs to be big enough\n",
    "# leave off port from address\n",
    "\n",
    "# run(`neo4j-admin push-to-cloud --overwrite --verbose --bolt-uri=$(ADDRESS) --username=$(USERNAME) --password=$(PASSWORD)`)\n",
    "# run(`sudo neo4j-admin push-to-cloud --overwrite --verbose --dump-to \"$(DIR)/test.db.dump\" --bolt-uri=$(a) --username=$(USERNAME) --password=$(PASSWORD)`)\n",
    "# run(`sudo neo4j-admin push-to-cloud --overwrite --verbose --bolt-uri=$(a) --username=$(USERNAME) --password=$(PASSWORD)`)\n",
    "\n",
    "# https://github.com/cjprybol/Mycelia/blob/master/docs/_src/4.Reference/neo4j-notes.ipynb"
   ]
  },
  {
   "cell_type": "code",
   "execution_count": null,
   "id": "22cc3400-e6f4-491a-bbe5-cb484fdfcb84",
   "metadata": {},
   "outputs": [],
   "source": []
  }
 ],
 "metadata": {
  "kernelspec": {
   "display_name": "Julia 1.6.3",
   "language": "julia",
   "name": "julia-1.6"
  },
  "language_info": {
   "file_extension": ".jl",
   "mimetype": "application/julia",
   "name": "julia",
   "version": "1.6.3"
  }
 },
 "nbformat": 4,
 "nbformat_minor": 5
}
