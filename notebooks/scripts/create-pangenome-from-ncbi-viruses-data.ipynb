{
 "cells": [
  {
   "cell_type": "code",
   "execution_count": 1,
   "id": "13ee64af-0976-4f02-8482-6300571e7284",
   "metadata": {},
   "outputs": [
    {
     "name": "stderr",
     "output_type": "stream",
     "text": [
      "\u001b[32m\u001b[1m    Updating\u001b[22m\u001b[39m registry at `/opt/julia/registries/General`\n",
      "\u001b[32m\u001b[1m   Installed\u001b[22m\u001b[39m RecipesPipeline ─ v0.6.6\n",
      "\u001b[32m\u001b[1m  No Changes\u001b[22m\u001b[39m to `~/work/Mycelia/Project.toml`\n",
      "\u001b[32m\u001b[1m    Updating\u001b[22m\u001b[39m `~/work/Mycelia/Manifest.toml`\n",
      " \u001b[90m [01d81517] \u001b[39m\u001b[93m↑ RecipesPipeline v0.6.5 ⇒ v0.6.6\u001b[39m\n",
      "\u001b[32m\u001b[1mPrecompiling\u001b[22m\u001b[39m project...\n",
      "\u001b[32m  ✓ \u001b[39m\u001b[90mRecipesPipeline\u001b[39m\n",
      "\u001b[32m  ✓ \u001b[39mPlots\n",
      "\u001b[32m  ✓ \u001b[39mStatsPlots\n",
      "\u001b[32m  ✓ \u001b[39mMycelia\n",
      "  4 dependencies successfully precompiled in 79 seconds (234 already precompiled)\n",
      "\u001b[32m\u001b[1m   Resolving\u001b[22m\u001b[39m package versions...\n",
      "\u001b[32m\u001b[1m  No Changes\u001b[22m\u001b[39m to `~/work/Mycelia/Project.toml`\n",
      "\u001b[32m\u001b[1m  No Changes\u001b[22m\u001b[39m to `~/work/Mycelia/Manifest.toml`\n"
     ]
    }
   ],
   "source": [
    "import Pkg\n",
    "Pkg.update()\n",
    "\n",
    "pkgs = [\n",
    "    \"Revise\",\n",
    "    \"MetaGraphs\",\n",
    "    \"Graphs\",\n",
    "    \"JSON\",\n",
    "    \"uCSV\",\n",
    "    \"DataFrames\",\n",
    "    \"Dates\",\n",
    "    \"Primes\",\n",
    "    \"Kmers\",\n",
    "    \"BioSequences\",\n",
    "    \"FASTX\",\n",
    "    \"ProgressMeter\",\n",
    "    \"Random\"\n",
    "]\n",
    "\n",
    "Pkg.add(pkgs)\n",
    "for pkg in pkgs\n",
    "    eval(Meta.parse(\"import $pkg\"))\n",
    "end\n",
    "\n",
    "# Pkg.develop(path=\"$(homedir())/workspace/Mycelia\")\n",
    "import Mycelia"
   ]
  },
  {
   "cell_type": "code",
   "execution_count": 2,
   "id": "92f92e84-19ab-47c6-ba60-e28b374bf5b1",
   "metadata": {
    "tags": [
     "parameters"
    ]
   },
   "outputs": [
    {
     "data": {
      "text/plain": [
       "\"/home/jovyan/workspace/scratch/2022-10-01\""
      ]
     },
     "execution_count": 2,
     "metadata": {},
     "output_type": "execute_result"
    }
   ],
   "source": [
    "#papermill parameters\n",
    "base_directory = \"$(homedir())/workspace/sars-cov2-pangenome-analysis/\"\n",
    "sequences_directory = \"$(base_directory)/data/sequences\"\n",
    "metadata_file = \"$(base_directory)/metadata/sequences.csv\"\n",
    "working_directory = \"$(homedir())/workspace/scratch/$(Dates.today())\""
   ]
  },
  {
   "cell_type": "code",
   "execution_count": 3,
   "id": "4c733a8e-7ca8-4422-a12e-18e6de20faf3",
   "metadata": {},
   "outputs": [
    {
     "data": {
      "text/plain": [
       "\"/home/jovyan/.local/neo4j-community-4.4.11/import\""
      ]
     },
     "execution_count": 3,
     "metadata": {},
     "output_type": "execute_result"
    }
   ],
   "source": [
    "neo4j_username = \"neo4j\"\n",
    "\n",
    "# remote_neo4j_address = ENV[\"NEO4J_URL\"]\n",
    "# remote_neo4j_password = ENV[\"NEO4J_PASSWORD\"]\n",
    "local_neo4j_bolt_address = \"bolt://localhost:7687\"\n",
    "local_neo4j_http_address = \"neo4j://localhost:7474\"\n",
    "# local_neo4j_password = \"neo4j\"\n",
    "# local_neo4j_password = Random.randstring(7)\n",
    "local_neo4j_password = \"ii0sRIc\"\n",
    "\n",
    "neo4j_local_import_directory = \"/home/jovyan/.local/neo4j-community-4.4.11/import\""
   ]
  },
  {
   "cell_type": "code",
   "execution_count": 36,
   "id": "d79110da-f08a-431b-ac8c-f5fc32640493",
   "metadata": {},
   "outputs": [
    {
     "data": {
      "text/plain": [
       "\"/home/jovyan/.local/neo4j-community-4.4.11\""
      ]
     },
     "execution_count": 36,
     "metadata": {},
     "output_type": "execute_result"
    }
   ],
   "source": [
    "NEO4J_PATH=\"/home/jovyan/.local/neo4j-community-4.4.11\""
   ]
  },
  {
   "cell_type": "code",
   "execution_count": 23,
   "id": "297e4b47-c272-4899-a091-6fd823d20832",
   "metadata": {},
   "outputs": [
    {
     "name": "stdout",
     "output_type": "stream",
     "text": [
      "Neo4j is not running.\n",
      "Directories in use:\n",
      "home:         /home/jovyan/.local/neo4j-community-4.4.11\n",
      "config:       /home/jovyan/.local/neo4j-community-4.4.11/conf\n",
      "logs:         /home/jovyan/.local/neo4j-community-4.4.11/logs\n",
      "plugins:      /home/jovyan/.local/neo4j-community-4.4.11/plugins\n",
      "import:       /home/jovyan/.local/neo4j-community-4.4.11/import\n",
      "data:         /home/jovyan/.local/neo4j-community-4.4.11/data\n",
      "certificates: /home/jovyan/.local/neo4j-community-4.4.11/certificates\n",
      "licenses:     /home/jovyan/.local/neo4j-community-4.4.11/licenses\n",
      "run:          /home/jovyan/.local/neo4j-community-4.4.11/run\n",
      "Starting Neo4j.\n",
      "Started neo4j (pid:40596). It is available at http://localhost:7474\n",
      "There may be a short delay until the server is ready.\n",
      "Neo4j is running at pid 40596\n"
     ]
    },
    {
     "data": {
      "text/plain": [
       "Process(`\u001b[4m/home/jovyan/.local/neo4j-community-4.4.11/bin/neo4j\u001b[24m \u001b[4mstatus\u001b[24m`, ProcessExited(0))"
      ]
     },
     "execution_count": 23,
     "metadata": {},
     "output_type": "execute_result"
    }
   ],
   "source": [
    "run(`$(NEO4J_PATH)/bin/neo4j stop`)\n",
    "run(`$(NEO4J_PATH)/bin/neo4j start`)\n",
    "run(`$(NEO4J_PATH)/bin/neo4j status`)"
   ]
  },
  {
   "cell_type": "code",
   "execution_count": 4,
   "id": "325f1db6-2ad0-41ad-b407-2d7dea0662f4",
   "metadata": {},
   "outputs": [],
   "source": [
    "# # # update password - only need to do this on initial setup\n",
    "# cmd = \"ALTER CURRENT USER SET PASSWORD FROM 'neo4j' TO '$(local_neo4j_password)'\"\n",
    "# run(Mycelia.cypher(cmd, address=local_neo4j_bolt_address, password=\"neo4j\", username=\"neo4j\", database=\"system\"))"
   ]
  },
  {
   "cell_type": "code",
   "execution_count": 5,
   "id": "bc31b34b-2228-4112-ac1f-c12c5a16e817",
   "metadata": {},
   "outputs": [],
   "source": [
    "mkpath(working_directory)\n",
    "cd(working_directory)"
   ]
  },
  {
   "cell_type": "code",
   "execution_count": 6,
   "id": "b596c7c3-c38a-4fa2-b134-bd16aef01418",
   "metadata": {},
   "outputs": [
    {
     "name": "stdout",
     "output_type": "stream",
     "text": [
      "  3.891805 seconds (8.09 M allocations: 490.847 MiB, 3.75% gc time, 77.00% compilation time)\n"
     ]
    },
    {
     "data": {
      "text/html": [
       "<div class=\"data-frame\"><p>9 rows × 26 columns (omitted printing of 23 columns)</p><table class=\"data-frame\"><thead><tr><th></th><th>Accession</th><th>SRA_Accession</th><th>Submitters</th></tr><tr><th></th><th title=\"String\">String</th><th title=\"String\">String</th><th title=\"String\">String</th></tr></thead><tbody><tr><th>1</th><td>NC_045512.2</td><td></td><td>Wu,F., Zhao,S., Yu,B., Chen,Y.M., Wang,W., Song,Z.G., Hu,Y., Tao,Z.W., Tian,J.H., Pei,Y.Y., Yuan,M.L., Zhang,Y.L., Dai,F.H., Liu,Y., Wang,Q.M., Zheng,J.J., Xu,L., Holmes,E.C., Zhang,Y.Z., Baranov,P.V., Henderson,C.M., Anderson,C.B., Gesteland,R.F., Atkins,J.F., Howard,M.T., Robertson,M.P., Igel,H., Baertsch,R., Haussler,D., Ares,M. Jr., Scott,W.G., Williams,G.D., Chang,R.Y., Brian,D.A., Chen,Y.-M., Song,Z.-G., Tao,Z.-W., Tian,J.-H., Pei,Y.-Y., Zhang,Y.-L., Dai,F.-H., Wang,Q.-M., Zheng,J.-J., Zhang,Y.-Z.</td></tr><tr><th>2</th><td>OP164776.1</td><td></td><td>Afrad Moon,M.H., Qadri,F.</td></tr><tr><th>3</th><td>OP164777.1</td><td></td><td>Afrad Moon,M.H., Qadri,F.</td></tr><tr><th>4</th><td>OP164778.1</td><td></td><td>Afrad Moon,M.H., Qadri,F.</td></tr><tr><th>5</th><td>OP164779.1</td><td></td><td>Afrad Moon,M.H., Qadri,F.</td></tr><tr><th>6</th><td>OP164780.1</td><td></td><td>Afrad Moon,M.H., Qadri,F.</td></tr><tr><th>7</th><td>OP164781.1</td><td></td><td>Afrad Moon,M.H., Qadri,F.</td></tr><tr><th>8</th><td>OP164782.1</td><td></td><td>Afrad Moon,M.H., Qadri,F.</td></tr><tr><th>9</th><td>OP164783.1</td><td></td><td>Afrad Moon,M.H., Qadri,F.</td></tr></tbody></table></div>"
      ],
      "text/latex": [
       "\\begin{tabular}{r|cccc}\n",
       "\t& Accession & SRA\\_Accession & Submitters & \\\\\n",
       "\t\\hline\n",
       "\t& String & String & String & \\\\\n",
       "\t\\hline\n",
       "\t1 & NC\\_045512.2 &  & Wu,F., Zhao,S., Yu,B., Chen,Y.M., Wang,W., Song,Z.G., Hu,Y., Tao,Z.W., Tian,J.H., Pei,Y.Y., Yuan,M.L., Zhang,Y.L., Dai,F.H., Liu,Y., Wang,Q.M., Zheng,J.J., Xu,L., Holmes,E.C., Zhang,Y.Z., Baranov,P.V., Henderson,C.M., Anderson,C.B., Gesteland,R.F., Atkins,J.F., Howard,M.T., Robertson,M.P., Igel,H., Baertsch,R., Haussler,D., Ares,M. Jr., Scott,W.G., Williams,G.D., Chang,R.Y., Brian,D.A., Chen,Y.-M., Song,Z.-G., Tao,Z.-W., Tian,J.-H., Pei,Y.-Y., Zhang,Y.-L., Dai,F.-H., Wang,Q.-M., Zheng,J.-J., Zhang,Y.-Z. & $\\dots$ \\\\\n",
       "\t2 & OP164776.1 &  & Afrad Moon,M.H., Qadri,F. & $\\dots$ \\\\\n",
       "\t3 & OP164777.1 &  & Afrad Moon,M.H., Qadri,F. & $\\dots$ \\\\\n",
       "\t4 & OP164778.1 &  & Afrad Moon,M.H., Qadri,F. & $\\dots$ \\\\\n",
       "\t5 & OP164779.1 &  & Afrad Moon,M.H., Qadri,F. & $\\dots$ \\\\\n",
       "\t6 & OP164780.1 &  & Afrad Moon,M.H., Qadri,F. & $\\dots$ \\\\\n",
       "\t7 & OP164781.1 &  & Afrad Moon,M.H., Qadri,F. & $\\dots$ \\\\\n",
       "\t8 & OP164782.1 &  & Afrad Moon,M.H., Qadri,F. & $\\dots$ \\\\\n",
       "\t9 & OP164783.1 &  & Afrad Moon,M.H., Qadri,F. & $\\dots$ \\\\\n",
       "\\end{tabular}\n"
      ],
      "text/plain": [
       "\u001b[1m9×26 DataFrame\u001b[0m\n",
       "\u001b[1m Row \u001b[0m│\u001b[1m Accession   \u001b[0m\u001b[1m SRA_Accession \u001b[0m\u001b[1m Submitters                        \u001b[0m\u001b[1m Release_\u001b[0m ⋯\n",
       "\u001b[1m     \u001b[0m│\u001b[90m String      \u001b[0m\u001b[90m String        \u001b[0m\u001b[90m String                            \u001b[0m\u001b[90m String  \u001b[0m ⋯\n",
       "─────┼──────────────────────────────────────────────────────────────────────────\n",
       "   1 │ NC_045512.2                 Wu,F., Zhao,S., Yu,B., Chen,Y.M.…  2020-01- ⋯\n",
       "   2 │ OP164776.1                  Afrad Moon,M.H., Qadri,F.          2022-08-\n",
       "   3 │ OP164777.1                  Afrad Moon,M.H., Qadri,F.          2022-08-\n",
       "   4 │ OP164778.1                  Afrad Moon,M.H., Qadri,F.          2022-08-\n",
       "   5 │ OP164779.1                  Afrad Moon,M.H., Qadri,F.          2022-08- ⋯\n",
       "   6 │ OP164780.1                  Afrad Moon,M.H., Qadri,F.          2022-08-\n",
       "   7 │ OP164781.1                  Afrad Moon,M.H., Qadri,F.          2022-08-\n",
       "   8 │ OP164782.1                  Afrad Moon,M.H., Qadri,F.          2022-08-\n",
       "   9 │ OP164783.1                  Afrad Moon,M.H., Qadri,F.          2022-08- ⋯\n",
       "\u001b[36m                                                              23 columns omitted\u001b[0m"
      ]
     },
     "execution_count": 6,
     "metadata": {},
     "output_type": "execute_result"
    }
   ],
   "source": [
    "# f = metadata_file\n",
    "n = 10^1\n",
    "# n = 10^2\n",
    "# n = 10^3\n",
    "# n = 10^4\n",
    "# n = 10^5\n",
    "# n = 10^6\n",
    "# n = countlines(metadata_file)\n",
    "f = open(`head -n $(n) $metadata_file`)\n",
    "@time sequence_metadata = DataFrames.DataFrame(uCSV.read(f, quotes='\"', header=1, typedetectrows=100)...)"
   ]
  },
  {
   "cell_type": "code",
   "execution_count": 7,
   "id": "e927172f-f5bd-4797-bbae-3801e0a739e3",
   "metadata": {},
   "outputs": [
    {
     "data": {
      "text/plain": [
       "9-element Vector{String}:\n",
       " \"/home/jovyan/workspace/sars-cov2-pangenome-analysis//data/sequences/NC_045512.2.fna\"\n",
       " \"/home/jovyan/workspace/sars-cov2-pangenome-analysis//data/sequences/OP164776.1.fna\"\n",
       " \"/home/jovyan/workspace/sars-cov2-pangenome-analysis//data/sequences/OP164777.1.fna\"\n",
       " \"/home/jovyan/workspace/sars-cov2-pangenome-analysis//data/sequences/OP164778.1.fna\"\n",
       " \"/home/jovyan/workspace/sars-cov2-pangenome-analysis//data/sequences/OP164779.1.fna\"\n",
       " \"/home/jovyan/workspace/sars-cov2-pangenome-analysis//data/sequences/OP164780.1.fna\"\n",
       " \"/home/jovyan/workspace/sars-cov2-pangenome-analysis//data/sequences/OP164781.1.fna\"\n",
       " \"/home/jovyan/workspace/sars-cov2-pangenome-analysis//data/sequences/OP164782.1.fna\"\n",
       " \"/home/jovyan/workspace/sars-cov2-pangenome-analysis//data/sequences/OP164783.1.fna\""
      ]
     },
     "execution_count": 7,
     "metadata": {},
     "output_type": "execute_result"
    }
   ],
   "source": [
    "fastx_files = map(x -> \"$(sequences_directory)/$(x).fna\", sequence_metadata[!, \"Accession\"])"
   ]
  },
  {
   "cell_type": "code",
   "execution_count": 8,
   "id": "4c1458a2-ffb7-4da8-97ca-d166d4d75d94",
   "metadata": {},
   "outputs": [
    {
     "data": {
      "text/plain": [
       "{9, 0} directed Int64 metagraph with Float64 weights defined by :weight (default weight 1.0)"
      ]
     },
     "execution_count": 8,
     "metadata": {},
     "output_type": "execute_result"
    }
   ],
   "source": [
    "graph = Mycelia.initialize_graph()\n",
    "graph = Mycelia.add_fastx_to_graph!(graph, fastx_files)\n",
    "graph = Mycelia.add_metadata_from_table!(graph, sequence_metadata, identifier_column = \"Accession\")"
   ]
  },
  {
   "cell_type": "code",
   "execution_count": 9,
   "id": "b3f9145c-e26b-4669-b7e3-847828a8f5ac",
   "metadata": {},
   "outputs": [
    {
     "data": {
      "text/plain": [
       "1-element Vector{Int64}:\n",
       " 31"
      ]
     },
     "execution_count": 9,
     "metadata": {},
     "output_type": "execute_result"
    }
   ],
   "source": [
    "# max_k = Mycelia.assess_dnamer_saturation(fastx_files)\n",
    "# max_k = 31\n",
    "# min_k=17\n",
    "# max_k=17\n",
    "min_k=max_k=31\n",
    "kmer_sizes = Primes.primes(min_k, max_k)"
   ]
  },
  {
   "cell_type": "code",
   "execution_count": 10,
   "id": "287a9329-88ac-4eba-b231-65f8263ca935",
   "metadata": {},
   "outputs": [
    {
     "name": "stdout",
     "output_type": "stream",
     "text": [
      "kmer_size = 31\n",
      "  6.182926 seconds (22.09 M allocations: 1.759 GiB, 17.67% gc time)\n"
     ]
    }
   ],
   "source": [
    "for kmer_size in kmer_sizes\n",
    "    @show kmer_size\n",
    "    @time Mycelia.add_fasta_record_kmers_to_graph!(graph, kmer_size)\n",
    "end"
   ]
  },
  {
   "cell_type": "code",
   "execution_count": 11,
   "id": "f2c26570-b7dd-4be7-8c8b-bd87cb530041",
   "metadata": {},
   "outputs": [
    {
     "name": "stdout",
     "output_type": "stream",
     "text": [
      "kmer_size = 31\n",
      "  1.210143 seconds (3.24 M allocations: 179.708 MiB, 14.70% gc time, 49.28% compilation time)\n"
     ]
    }
   ],
   "source": [
    "for kmer_size in kmer_sizes\n",
    "    @show kmer_size\n",
    "    @time Mycelia.graph_to_gfa(graph, kmer_size)\n",
    "end"
   ]
  },
  {
   "cell_type": "code",
   "execution_count": 12,
   "id": "849e57c7-3180-410f-92b1-d29d484010f6",
   "metadata": {},
   "outputs": [
    {
     "name": "stdout",
     "output_type": "stream",
     "text": [
      "gfa = \"/home/jovyan/workspace/scratch/2022-10-01/31.gfa\"\n"
     ]
    }
   ],
   "source": [
    "for gfa in filter(x -> occursin(r\"\\.gfa$\", x), readdir(working_directory, join=true))\n",
    "    @show gfa\n",
    "    for nodewidth in [100, 500, 1000]\n",
    "        gfa_img = \"$(gfa).$(nodewidth).jpg\"\n",
    "        if !isfile(gfa_img)\n",
    "            run(`Bandage image $gfa $gfa_img --deppower 1 --depwidth 1 --nodewidth $(nodewidth)`)\n",
    "        end\n",
    "    end\n",
    "end"
   ]
  },
  {
   "cell_type": "code",
   "execution_count": 13,
   "id": "0ecb8670-e510-40ab-971d-3a32595ca2a3",
   "metadata": {},
   "outputs": [
    {
     "name": "stdout",
     "output_type": "stream",
     "text": [
      "Neo4j is not running.\n",
      "Directories in use:\n",
      "home:         /home/jovyan/.local/neo4j-community-4.4.11\n",
      "config:       /home/jovyan/.local/neo4j-community-4.4.11/conf\n",
      "logs:         /home/jovyan/.local/neo4j-community-4.4.11/logs\n",
      "plugins:      /home/jovyan/.local/neo4j-community-4.4.11/plugins\n",
      "import:       /home/jovyan/.local/neo4j-community-4.4.11/import\n",
      "data:         /home/jovyan/.local/neo4j-community-4.4.11/data\n",
      "certificates: /home/jovyan/.local/neo4j-community-4.4.11/certificates\n",
      "licenses:     /home/jovyan/.local/neo4j-community-4.4.11/licenses\n",
      "run:          /home/jovyan/.local/neo4j-community-4.4.11/run\n",
      "Starting Neo4j.\n",
      "Started neo4j (pid:22040). It is available at http://localhost:7474\n",
      "There may be a short delay until the server is ready.\n",
      "Neo4j is running at pid 22040\n"
     ]
    },
    {
     "data": {
      "text/plain": [
       "Process(`\u001b[4m/home/jovyan/.local/neo4j-community-4.4.11/bin/neo4j\u001b[24m \u001b[4mstatus\u001b[24m`, ProcessExited(0))"
      ]
     },
     "execution_count": 13,
     "metadata": {},
     "output_type": "execute_result"
    }
   ],
   "source": [
    "run(`$(NEO4J_PATH)/bin/neo4j stop`)\n",
    "run(`$(NEO4J_PATH)/bin/neo4j start`)\n",
    "run(`$(NEO4J_PATH)/bin/neo4j status`)"
   ]
  },
  {
   "cell_type": "code",
   "execution_count": 14,
   "id": "56c045dd-e653-409d-8008-fd2ab480edae",
   "metadata": {},
   "outputs": [],
   "source": [
    "# Mycelia.list_databases(address=local_neo4j_bolt_address, password=local_neo4j_password)"
   ]
  },
  {
   "cell_type": "code",
   "execution_count": 15,
   "id": "331ab9c2-bcee-4b58-b2a7-84aea130e4b9",
   "metadata": {},
   "outputs": [
    {
     "name": "stdout",
     "output_type": "stream",
     "text": [
      "cypher = `/home/jovyan/.local/cypher-shell/cypher-shell --address bolt://localhost:7687 --username neo4j --password ii0sRIc --format auto --database neo4j 'CREATE CONSTRAINT ON (t:\\`FASTX.FASTA.Record\\`) ASSERT t.identifier IS UNIQUE'`\n",
      "cypher = `/home/jovyan/.local/cypher-shell/cypher-shell --address bolt://localhost:7687 --username neo4j --password ii0sRIc --format auto --database neo4j 'CREATE CONSTRAINT ON (t:\\`Kmers.DNAKmer{31}\\`) ASSERT t.identifier IS UNIQUE'`\n"
     ]
    },
    {
     "name": "stderr",
     "output_type": "stream",
     "text": [
      "Unable to connect to localhost:7687, ensure the database is running and that there is a working network connection to it.\n",
      "An equivalent constraint already exists, 'Constraint( id=6, name='constraint_e07b72f7', type='UNIQUENESS', schema=(:Kmers.DNAKmer{31} {identifier}), ownedIndex=5 )'.\n"
     ]
    }
   ],
   "source": [
    "Mycelia.create_node_constraints(graph, address=local_neo4j_bolt_address, password=local_neo4j_password)"
   ]
  },
  {
   "cell_type": "code",
   "execution_count": 16,
   "id": "e9e53adb-b450-4836-9005-9cb3a9340ce5",
   "metadata": {},
   "outputs": [
    {
     "name": "stdout",
     "output_type": "stream",
     "text": [
      "count\n",
      "0\n"
     ]
    },
    {
     "data": {
      "text/plain": [
       "Process(`\u001b[4m/home/jovyan/.local/cypher-shell/cypher-shell\u001b[24m \u001b[4m--address\u001b[24m \u001b[4mbolt://localhost:7687\u001b[24m \u001b[4m--username\u001b[24m \u001b[4mneo4j\u001b[24m \u001b[4m--password\u001b[24m \u001b[4mii0sRIc\u001b[24m \u001b[4m--format\u001b[24m \u001b[4mauto\u001b[24m \u001b[4m--database\u001b[24m \u001b[4mneo4j\u001b[24m \u001b[4m'MATCH (n) RETURN count(n) as count'\u001b[24m`, ProcessExited(0))"
      ]
     },
     "execution_count": 16,
     "metadata": {},
     "output_type": "execute_result"
    }
   ],
   "source": [
    "run(Mycelia.cypher(\"MATCH (n) DETACH DELETE n\", address=local_neo4j_bolt_address, password=local_neo4j_password))\n",
    "run(Mycelia.cypher(\"MATCH (n) RETURN count(n) as count\", address=local_neo4j_bolt_address, password=local_neo4j_password))\n",
    "# run(Mycelia.cypher(\"MATCH (n) DETACH DELETE n\", address=local_neo4j_bolt_address, password=local_neo4j_password))"
   ]
  },
  {
   "cell_type": "code",
   "execution_count": 17,
   "id": "9e857790-f8c2-498b-af2d-e69a44f15788",
   "metadata": {},
   "outputs": [
    {
     "name": "stderr",
     "output_type": "stream",
     "text": [
      "┌ Info: uploading node_type => FASTX.FASTA.Record...\n",
      "└ @ Mycelia /home/jovyan/work/Mycelia/src/database-interaction.jl:79\n",
      "┌ Info: uploading node_type => Kmers.DNAKmer{31}...\n",
      "└ @ Mycelia /home/jovyan/work/Mycelia/src/database-interaction.jl:79\n",
      "\u001b[32mProgress: 100%|█████████████████████████████████████████| Time: 0:00:33\u001b[39m\n",
      "┌ Info: done!\n",
      "└ @ Mycelia /home/jovyan/work/Mycelia/src/database-interaction.jl:88\n"
     ]
    }
   ],
   "source": [
    "Mycelia.upload_nodes_to_neo4j(graph=graph, address=local_neo4j_bolt_address, password=local_neo4j_password, neo4j_import_directory=neo4j_local_import_directory)"
   ]
  },
  {
   "cell_type": "code",
   "execution_count": 18,
   "id": "f171b9d4-a4b0-47f2-8f2e-51828ffb72c1",
   "metadata": {},
   "outputs": [
    {
     "name": "stdout",
     "output_type": "stream",
     "text": [
      "count\n",
      "32147\n"
     ]
    },
    {
     "data": {
      "text/plain": [
       "Process(`\u001b[4m/home/jovyan/.local/cypher-shell/cypher-shell\u001b[24m \u001b[4m--address\u001b[24m \u001b[4mbolt://localhost:7687\u001b[24m \u001b[4m--username\u001b[24m \u001b[4mneo4j\u001b[24m \u001b[4m--password\u001b[24m \u001b[4mii0sRIc\u001b[24m \u001b[4m--format\u001b[24m \u001b[4mauto\u001b[24m \u001b[4m--database\u001b[24m \u001b[4mneo4j\u001b[24m \u001b[4m'MATCH (n) RETURN count(n) as count'\u001b[24m`, ProcessExited(0))"
      ]
     },
     "execution_count": 18,
     "metadata": {},
     "output_type": "execute_result"
    }
   ],
   "source": [
    "run(Mycelia.cypher(\"MATCH (n) RETURN count(n) as count\", address=local_neo4j_bolt_address, password=local_neo4j_password))"
   ]
  },
  {
   "cell_type": "code",
   "execution_count": null,
   "id": "e9147864-f6a5-4b07-aec7-a084ca1dd098",
   "metadata": {},
   "outputs": [],
   "source": [
    "# edge_types = unique(MetaGraphs.props(graph, e)[:TYPE] for e in Graphs.edges(graph))\n",
    "# edge_type_strings = Mycelia.type_to_string.(edge_types)"
   ]
  },
  {
   "cell_type": "code",
   "execution_count": 24,
   "id": "5c7c701a-fef8-4048-8864-13634b2f0df1",
   "metadata": {},
   "outputs": [
    {
     "data": {
      "text/plain": [
       "upload_edge_table (generic function with 1 method)"
      ]
     },
     "execution_count": 24,
     "metadata": {},
     "output_type": "execute_result"
    }
   ],
   "source": [
    "function upload_edges_to_neo4j(;graph, address, username=\"neo4j\", password, format=\"auto\", database=\"neo4j\", neo4j_import_directory)\n",
    "    \n",
    "    edge_types = unique(MetaGraphs.props(graph, e)[:TYPE] for e in Graphs.edges(graph))\n",
    "    \n",
    "    # FIX ME!!\n",
    "    # for edge_type in edge_types\n",
    "    for edge_type in edge_types[2:2]\n",
    "        @info \"uploading edge_type => $(Mycelia.type_to_string(edge_type))...\"\n",
    "        edge_type_table = edge_type_to_dataframe(edge_type=edge_type, graph=graph)\n",
    "        try\n",
    "            upload_edge_table(table=edge_type_table, address=address, password=password, neo4j_import_dir=neo4j_import_directory)\n",
    "        catch e\n",
    "            showerror(stdout, e)\n",
    "        end\n",
    "    end\n",
    "    \n",
    "    @info \"done!\"\n",
    "end\n",
    "\n",
    "function edge_type_to_dataframe(;edge_type, graph)\n",
    "    edge_type_indices = filter(e -> MetaGraphs.props(graph, e)[:TYPE] == edge_type, collect(Graphs.edges(graph)))\n",
    "    # @show edge_type_indices\n",
    "    edge_type_parameters = unique(reduce(vcat, map(e -> collect(keys(MetaGraphs.props(graph, e))), edge_type_indices)))\n",
    "    edge_type_table = DataFrames.DataFrame(Dict(p => [] for p in edge_type_parameters))\n",
    "    for edge_index in edge_type_indices\n",
    "        push!(edge_type_table, MetaGraphs.props(graph, edge_index))\n",
    "    end\n",
    "    return edge_type_table\n",
    "end\n",
    "\n",
    "function upload_edge_table(;table, window_size=1000, address, password, username=\"neo4j\", database=\"neo4j\", neo4j_import_dir)\n",
    "    nrows = DataFrames.nrow(table)\n",
    "    windows = (i:min(i+window_size-1,nrows) for i in 1:window_size:nrows)\n",
    "    \n",
    "    edge_types = unique(table[!, \"TYPE\"])\n",
    "    @assert length(edge_types) == 1\n",
    "    EDGE_TYPE = Mycelia.type_to_string(first(edge_types))\n",
    "    parameters = [\"$(n): row.$(n)\" for n in filter(x -> !(x in [\"TYPE\"]), names(table))]\n",
    "    parameters = \"{\" * join(parameters, \", \") * \"}\"\n",
    "\n",
    "    ProgressMeter.@showprogress for (i, window) in enumerate(windows)\n",
    "        df_sub = table[window, :]\n",
    "        f = \"edge$i.tsv\"\n",
    "        local_f_path = \"$(neo4j_import_dir)/$(f)\"\n",
    "        uCSV.write(local_f_path, df_sub, delim='\\t')\n",
    "        run(`chmod 777 $(local_f_path)`)\n",
    "        f_url = \"file:///$(f)\"\n",
    "        cmd =\n",
    "        \"\"\"\n",
    "        LOAD CSV WITH HEADERS FROM '$(f_url)' AS row FIELDTERMINATOR '\\t'\n",
    "        MATCH (src {identifier: row.src})\n",
    "        MATCH (dst {identifier: row.dst})\n",
    "        MERGE (src)-[p:`$(EDGE_TYPE)` $(parameters)]->(dst)\n",
    "        \"\"\"\n",
    "        # had been merge above!\n",
    "        # create Progress:   2%|▊                                        |  ETA: 1:04:39\n",
    "        # merge Progress:   3%|█▍                                       |  ETA: 1:25:12\n",
    "        # Progress:  12%|█████                                    |  ETA: 0:07:11\n",
    "        cmd = rstrip(replace(cmd, '\\n' => ' '))\n",
    "        cypher_cmd = Mycelia.cypher(cmd, address = address, username = username, password = password, database = database)\n",
    "        run(cypher_cmd) \n",
    "    end\n",
    "end"
   ]
  },
  {
   "cell_type": "code",
   "execution_count": 25,
   "id": "fbec7d1d-a5bd-4b87-a4ed-337a5c94568c",
   "metadata": {},
   "outputs": [
    {
     "name": "stderr",
     "output_type": "stream",
     "text": [
      "┌ Info: uploading edge_type => Kmers.DNAKmer{32}...\n",
      "└ @ Main In[24]:8\n",
      "\u001b[32mProgress: 100%|█████████████████████████████████████████| Time: 0:07:37\u001b[39m\n",
      "┌ Info: done!\n",
      "└ @ Main In[24]:17\n"
     ]
    }
   ],
   "source": [
    "upload_edges_to_neo4j(graph=graph, address=local_neo4j_bolt_address, password=local_neo4j_password, neo4j_import_directory=neo4j_local_import_directory)"
   ]
  },
  {
   "cell_type": "code",
   "execution_count": 39,
   "id": "c1f3a5c4-09ca-41f3-88f6-89e457cf8fda",
   "metadata": {},
   "outputs": [
    {
     "data": {
      "text/plain": [
       "\"/home/jovyan/workspace/scratch/2022-10-01/neo4j-covid-database-10-20221001235948609.dump\""
      ]
     },
     "execution_count": 39,
     "metadata": {},
     "output_type": "execute_result"
    }
   ],
   "source": [
    "# datetime = replace(string(Dates.now()), r\"[\\-:.a-zA-Z]\" => \"\")\n",
    "neo4j_dump = \"$(working_directory)/neo4j-covid-database-$(n)-$(datetime).dump\""
   ]
  },
  {
   "cell_type": "code",
   "execution_count": 58,
   "id": "a2b793a6-d74f-4d01-9783-726ea0a3cb85",
   "metadata": {},
   "outputs": [
    {
     "name": "stdout",
     "output_type": "stream",
     "text": [
      "/home/jovyan/.local/neo4j-community-4.4.11/bin/neo4j stop\n"
     ]
    }
   ],
   "source": [
    "println(\"$(NEO4J_PATH)/bin/neo4j stop\")"
   ]
  },
  {
   "cell_type": "code",
   "execution_count": 38,
   "id": "2af62c3c-6445-4ada-b766-31bbfa1d2cbc",
   "metadata": {},
   "outputs": [
    {
     "name": "stdout",
     "output_type": "stream",
     "text": [
      "Stopping Neo4j....... stopped.\n"
     ]
    },
    {
     "name": "stderr",
     "output_type": "stream",
     "text": [
      "Selecting JVM - Version:11.0.11+9-Ubuntu-0ubuntu2.20.04, Name:OpenJDK 64-Bit Server VM, Vendor:Ubuntu\n",
      "\n",
      "Files: 1/38, data:  0.0%\n",
      "Files: 1/38, data:  0.0%\n",
      "Files: 2/38, data:  0.0%\n",
      "Files: 3/38, data:  0.0%\n",
      "Files: 4/38, data:  0.0%\n",
      "Files: 5/38, data:  0.0%\n",
      "Files: 6/38, data:  0.1%\n",
      "Files: 7/38, data:  0.1%\n",
      "Files: 8/38, data:  0.1%\n",
      "Files: 9/38, data:  0.1%\n",
      "Files: 10/38, data:  0.9%\n",
      "Files: 11/38, data:  0.9%\n",
      "Files: 12/38, data:  0.9%\n",
      "Files: 13/38, data:  0.9%\n",
      "Files: 14/38, data:  0.9%\n",
      "Files: 15/38, data:  3.9%\n",
      "Files: 16/38, data:  4.0%\n",
      "Files: 17/38, data:  4.0%\n",
      "Files: 18/38, data:  4.0%\n",
      "Files: 19/38, data:  4.0%\n",
      "Files: 20/38, data:  4.0%\n",
      "Files: 21/38, data:  4.0%\n",
      "Files: 22/38, data:  4.0%\n",
      "Files: 23/38, data:  4.0%\n",
      "Files: 24/38, data:  4.3%\n",
      "Files: 25/38, data:  4.4%\n",
      "Files: 26/38, data:  4.4%\n",
      "Files: 27/38, data:  4.4%\n",
      "Files: 28/38, data:  4.4%\n",
      "Files: 29/38, data:  4.5%\n",
      "Files: 30/38, data:  4.5%\n",
      "Files: 31/38, data:  5.9%\n",
      "Files: 32/38, data:  6.0%\n",
      "Files: 33/38, data:  6.0%\n",
      "Files: 34/38, data:  6.0%\n",
      "Files: 35/38, data:  6.0%\n",
      "Files: 36/38, data:  6.0%\n",
      "Files: 37/38, data:  6.0%\n",
      "Files: 38/38, data: 17.1%\n",
      "Files: 38/38, data: 46.7%\n",
      "Files: 38/38, data: 81.3%\n",
      "Files: 38/38, data: 100.0%\n",
      "Done: 38 files, 266.0MiB processed.\n"
     ]
    },
    {
     "data": {
      "text/plain": [
       "Process(`\u001b[4m/home/jovyan/.local/neo4j-community-4.4.11/bin/neo4j-admin\u001b[24m \u001b[4mdump\u001b[24m \u001b[4m--database=neo4j\u001b[24m \u001b[4m--to=/home/jovyan/workspace/scratch/2022-10-01/neo4j-covid-database-10-20221001235948609.dump\u001b[24m`, ProcessExited(0))"
      ]
     },
     "execution_count": 38,
     "metadata": {},
     "output_type": "execute_result"
    }
   ],
   "source": [
    "run(`$(NEO4J_PATH)/bin/neo4j stop`)\n",
    "run(`$(NEO4J_PATH)/bin/neo4j-admin dump --database=neo4j --to=$(neo4j_dump)`)"
   ]
  },
  {
   "cell_type": "code",
   "execution_count": 42,
   "id": "22cc3400-e6f4-491a-bbe5-cb484fdfcb84",
   "metadata": {},
   "outputs": [
    {
     "name": "stdout",
     "output_type": "stream",
     "text": [
      "run me in the shell\n",
      "scp /home/jovyan/workspace/scratch/2022-10-01/neo4j-covid-database-10-20221001235948609.dump cameron@odin.lcfta.com:/mnt/coldstorage/neo4j/import/neo4j-covid-database-10-20221001235948609.dump\n"
     ]
    }
   ],
   "source": [
    "# bin/neo4j-admin load --from=/dumps/neo4j/neo4j-<timestamp>.dump --database=neo4j --force\n",
    "\n",
    "# ssh cameron@odin.lcfta.com\n",
    "\n",
    "println(\"run me in the shell\")\n",
    "println(\"scp $(neo4j_dump) cameron@odin.lcfta.com:/mnt/coldstorage/neo4j/import/$(basename(neo4j_dump))\")"
   ]
  },
  {
   "cell_type": "code",
   "execution_count": 43,
   "id": "f96836c6-f925-4b77-a510-2ed9033c11f5",
   "metadata": {},
   "outputs": [
    {
     "name": "stdout",
     "output_type": "stream",
     "text": [
      "ssh cameron@odin.lcfta.com\n"
     ]
    }
   ],
   "source": [
    "println(\"ssh cameron@odin.lcfta.com\")"
   ]
  },
  {
   "cell_type": "code",
   "execution_count": null,
   "id": "9f1b09f9-b379-44f4-bd89-8c225601b39b",
   "metadata": {},
   "outputs": [],
   "source": [
    "# println(\"sudo docker exec -it neo4j bash\")"
   ]
  },
  {
   "cell_type": "code",
   "execution_count": 49,
   "id": "85e25728-e5e8-46c0-a1ca-a3840b11c0bf",
   "metadata": {},
   "outputs": [
    {
     "name": "stdout",
     "output_type": "stream",
     "text": [
      "sudo docker exec -it neo4j /var/lib/neo4j/bin/neo4j-admin load --from=/var/lib/neo4j/import/neo4j-covid-database-10-20221001235948609.dump --database=neo4j --force\n"
     ]
    }
   ],
   "source": [
    "println(\"sudo docker exec -it neo4j /var/lib/neo4j/bin/neo4j-admin load --from=/var/lib/neo4j/import/$(basename(neo4j_dump)) --database=neo4j --force\")"
   ]
  },
  {
   "cell_type": "code",
   "execution_count": 55,
   "id": "03c09152-c018-4b81-b170-e820344769fa",
   "metadata": {},
   "outputs": [
    {
     "name": "stdout",
     "output_type": "stream",
     "text": [
      "/var/lib/neo4j/bin/neo4j stop\n"
     ]
    }
   ],
   "source": [
    "println(\"/var/lib/neo4j/bin/neo4j stop\")"
   ]
  },
  {
   "cell_type": "code",
   "execution_count": 57,
   "id": "2205e09c-2719-4c99-935e-1c416c7a5468",
   "metadata": {},
   "outputs": [
    {
     "name": "stdout",
     "output_type": "stream",
     "text": [
      "/var/lib/neo4j/bin/neo4j-admin load --from=/var/lib/neo4j/import/neo4j-covid-database-10-20221001235948609.dump --database=neo4j --force\n"
     ]
    }
   ],
   "source": [
    "println(\"/var/lib/neo4j/bin/neo4j-admin load --from=/var/lib/neo4j/import/$(basename(neo4j_dump)) --database=neo4j --force\")"
   ]
  },
  {
   "cell_type": "code",
   "execution_count": 61,
   "id": "dbae4834-31ee-4957-adbb-5ff77fcbe66a",
   "metadata": {},
   "outputs": [
    {
     "name": "stdout",
     "output_type": "stream",
     "text": [
      "/home/jovyan/.local/neo4j-community-4.4.11/bin/neo4j-admin load --from=/home/jovyan/workspace/scratch/2022-10-01/neo4j-covid-database-10-20221001235948609.dump --database=neo4j --force\n"
     ]
    }
   ],
   "source": [
    "println(\"$(NEO4J_PATH)/bin/neo4j-admin load --from=$(neo4j_dump) --database=neo4j --force\")"
   ]
  },
  {
   "cell_type": "code",
   "execution_count": 56,
   "id": "a56554cc-65c1-4bbb-88a5-970f71117765",
   "metadata": {},
   "outputs": [
    {
     "name": "stdout",
     "output_type": "stream",
     "text": [
      "sudo docker exec --interactive --tty 6844ac0dcadf bash\n"
     ]
    },
    {
     "ename": "LoadError",
     "evalue": "UndefVarError: neo4j not defined",
     "output_type": "error",
     "traceback": [
      "UndefVarError: neo4j not defined",
      "",
      "Stacktrace:",
      " [1] top-level scope",
      "   @ In[56]:7",
      " [2] eval",
      "   @ ./boot.jl:360 [inlined]",
      " [3] include_string(mapexpr::typeof(REPL.softscope), mod::Module, code::String, filename::String)",
      "   @ Base ./loading.jl:1116"
     ]
    }
   ],
   "source": [
    "# get container ID\n",
    "# sudo docker container ls\n",
    "\n",
    "# can call by the name - you can't\n",
    "\n",
    "# println(\"sudo docker exec --interactive --tty 6844ac0dcadf neo4j-admin load --from=/var/lib/neo4j/import/neo4j-covid-database-10-20221001235948609.dump --database=neo4j --force\")\n",
    "println(\"sudo docker exec --interactive --tty neo4j bash\")"
   ]
  },
  {
   "cell_type": "code",
   "execution_count": null,
   "id": "5da7fb03-4da4-4322-a0e7-6139ee5eaf98",
   "metadata": {},
   "outputs": [],
   "source": [
    "# [cameron@hermod:/mnt/coldstorage/git/docker-neo4j]$ sudo docker rm neo4jloader\n",
    "# neo4jloader\n",
    "\n",
    "# [cameron@hermod:/mnt/coldstorage/git/docker-neo4j]$ sudo ./loaddb.sh \n",
    "# Selecting JVM - Version:11.0.16.1+1, Name:OpenJDK 64-Bit Server VM, Vendor:Eclipse Adoptium\n",
    "# Done: 38 files, 266.0MiB processed.\n",
    "\n",
    "# -d\n",
    "\n",
    "\n",
    "-d\n",
    "\n",
    "# sudo docker restart neo4j"
   ]
  },
  {
   "cell_type": "code",
   "execution_count": null,
   "id": "3b6cf2fd-38e5-4a8d-8e02-a1079f88da61",
   "metadata": {},
   "outputs": [],
   "source": [
    "# sudo docker stop neo4j\n",
    "# /mnt/coldstorage/git/docker-neo4j]"
   ]
  }
 ],
 "metadata": {
  "kernelspec": {
   "display_name": "Julia 1.6.3",
   "language": "julia",
   "name": "julia-1.6"
  },
  "language_info": {
   "file_extension": ".jl",
   "mimetype": "application/julia",
   "name": "julia",
   "version": "1.6.3"
  }
 },
 "nbformat": 4,
 "nbformat_minor": 5
}
