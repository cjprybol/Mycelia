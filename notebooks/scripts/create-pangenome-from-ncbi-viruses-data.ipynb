{
 "cells": [
  {
   "cell_type": "code",
   "execution_count": 1,
   "id": "92f92e84-19ab-47c6-ba60-e28b374bf5b1",
   "metadata": {
    "tags": [
     "parameters"
    ]
   },
   "outputs": [
    {
     "data": {
      "text/plain": [
       "\"/home/jovyan/workspace/sars-cov2-pangenome-analysis//metadata/sequences.csv\""
      ]
     },
     "execution_count": 1,
     "metadata": {},
     "output_type": "execute_result"
    }
   ],
   "source": [
    "#papermill parameters\n",
    "base_directory = \"$(homedir())/workspace/sars-cov2-pangenome-analysis/\"\n",
    "sequences_directory = \"$(base_directory)/data/sequences\"\n",
    "metadata_file = \"$(base_directory)/metadata/sequences.csv\""
   ]
  },
  {
   "cell_type": "code",
   "execution_count": null,
   "id": "dca7872b-5642-4f2b-a503-8cc9b6c407f2",
   "metadata": {
    "tags": []
   },
   "outputs": [
    {
     "name": "stderr",
     "output_type": "stream",
     "text": [
      "\u001b[32m\u001b[1m    Updating\u001b[22m\u001b[39m registry at `/opt/julia/registries/General`\n",
      "\u001b[32m\u001b[1m   Resolving\u001b[22m\u001b[39m package versions...\n",
      "\u001b[32m\u001b[1m    Updating\u001b[22m\u001b[39m `~/work/Mycelia/Project.toml`\n",
      " \u001b[90m [295af30f] \u001b[39m\u001b[92m+ Revise v3.4.0\u001b[39m\n",
      "\u001b[32m\u001b[1m    Updating\u001b[22m\u001b[39m `~/work/Mycelia/Manifest.toml`\n",
      " \u001b[90m [da1fd8a2] \u001b[39m\u001b[92m+ CodeTracking v1.1.0\u001b[39m\n",
      " \u001b[90m [aa1ae85d] \u001b[39m\u001b[92m+ JuliaInterpreter v0.9.15\u001b[39m\n",
      " \u001b[90m [6f1432cf] \u001b[39m\u001b[92m+ LoweredCodeUtils v2.2.2\u001b[39m\n",
      " \u001b[90m [295af30f] \u001b[39m\u001b[92m+ Revise v3.4.0\u001b[39m\n",
      " \u001b[90m [7b1f6079] \u001b[39m\u001b[92m+ FileWatching\u001b[39m\n",
      "\u001b[32m\u001b[1mPrecompiling\u001b[22m\u001b[39m project...\n",
      "\u001b[91m  ✗ \u001b[39mMycelia\n",
      "  0 dependencies successfully precompiled in 7 seconds (228 already precompiled)\n",
      "  \u001b[91m1\u001b[39m dependency errored. To see a full report either run `import Pkg; Pkg.precompile()` or load the package\n",
      "┌ Info: Precompiling Mycelia [453d265d-8292-4a7b-a57c-dce3f9ae6acd]\n",
      "└ @ Base loading.jl:1342\n"
     ]
    }
   ],
   "source": [
    "import Pkg\n",
    "\n",
    "pkgs = [\n",
    "    \"Revise\",\n",
    "    \"MetaGraphs\",\n",
    "    \"Graphs\",\n",
    "    \"JSON\",\n",
    "    \"uCSV\",\n",
    "    \"DataFrames\"\n",
    "]\n",
    "\n",
    "Pkg.add(pkgs)\n",
    "for pkg in pkgs\n",
    "    eval(Meta.parse(\"import $pkg\"))\n",
    "end\n",
    "\n",
    "# Pkg.add(url=\"https://github.com/cjprybol/Mycelia.git\", rev=\"master\")\n",
    "# Pkg.develop(path=\"$(homedir())/workspace/Mycelia\")\n",
    "import Mycelia"
   ]
  },
  {
   "cell_type": "code",
   "execution_count": null,
   "id": "b596c7c3-c38a-4fa2-b134-bd16aef01418",
   "metadata": {},
   "outputs": [],
   "source": [
    "sequence_metadata = DataFrames.DataFrame(uCSV.read(metadata_file, quotes='\"', header=1, typedetectrows=100)...)"
   ]
  },
  {
   "cell_type": "code",
   "execution_count": null,
   "id": "f36ca5e1-a304-4521-a3a8-f7a21fc7c8a5",
   "metadata": {},
   "outputs": [],
   "source": [
    "run(`head $(metadata_file)`)"
   ]
  },
  {
   "cell_type": "code",
   "execution_count": null,
   "id": "816f9533-a549-48e9-a22a-9149a0be1108",
   "metadata": {
    "tags": []
   },
   "outputs": [],
   "source": [
    "readdir(sequences_directory, join=true)\n",
    "# fastx_files = filter(x -> occursin(\"genomic.fna\", x), "
   ]
  },
  {
   "cell_type": "code",
   "execution_count": null,
   "id": "7c098655-62b4-4e0b-8b52-d7154e6e8765",
   "metadata": {},
   "outputs": [],
   "source": [
    "# import BioSequences\n",
    "# import FASTX\n",
    "# import Kmers"
   ]
  },
  {
   "cell_type": "code",
   "execution_count": null,
   "id": "4c1458a2-ffb7-4da8-97ca-d166d4d75d94",
   "metadata": {},
   "outputs": [],
   "source": [
    "graph = Mycelia.initialize_graph()\n",
    "graph = Mycelia.add_fastx_to_graph!(graph, fastx_files)"
   ]
  },
  {
   "cell_type": "code",
   "execution_count": null,
   "id": "f1845efe-bfae-4454-afc4-e4b94b075267",
   "metadata": {},
   "outputs": [],
   "source": [
    "# add fastx metadata to graphs"
   ]
  },
  {
   "cell_type": "code",
   "execution_count": null,
   "id": "54e42d5c-c7d9-4a4e-bb21-4b3d6b11dd8c",
   "metadata": {},
   "outputs": [],
   "source": [
    "data_report_json_file = joinpath(data_directory, \"data_report.jsonl\")\n",
    "data_report_json = JSON.parse(open(data_report_json_file))\n",
    "identifier_to_data_report = Dict(data_report_json[\"accession\"] => data_report_json)\n",
    "Mycelia.add_metadata_to_graph!(graph, identifier_to_data_report)"
   ]
  },
  {
   "cell_type": "code",
   "execution_count": null,
   "id": "bf3aa923-de41-4afb-9c13-5e2643230f22",
   "metadata": {},
   "outputs": [],
   "source": [
    "# for (key, value) in graph.vprops[1]\n",
    "#     println(key)\n",
    "#     println(value)\n",
    "#     println()\n",
    "# end"
   ]
  },
  {
   "cell_type": "code",
   "execution_count": null,
   "id": "46251e0c-ee47-4d50-9ab1-35296b66c4ea",
   "metadata": {},
   "outputs": [],
   "source": [
    "function add_biosample_to_graph!(graph, biosample_json)\n",
    "    try\n",
    "        graph[biosample_json[\"identifier\"], :identifier]\n",
    "        @info \"node $(biosample_json[\"identifier\"]) already present\"\n",
    "    catch\n",
    "        Graphs.add_vertex!(graph)\n",
    "        vertex_id = Graphs.nv(graph)\n",
    "\n",
    "        MetaGraphs.set_prop!(graph, vertex_id, :TYPE, \"BIOSAMPLE\")\n",
    "        for (key, value) in biosample_json\n",
    "            MetaGraphs.set_prop!(graph, vertex_id, Symbol(key), value)\n",
    "        end\n",
    "    end\n",
    "    return graph\n",
    "end\n",
    "\n",
    "function add_biosamples_to_graph!(graph, biosample_json_file)\n",
    "    open(biosample_json_file) do io\n",
    "        # for i in 1:1\n",
    "            # line = readline(io)\n",
    "        for line in eachline(io)\n",
    "            jsonl = JSON.parse(line)\n",
    "            jsonl[\"attributes\"] = Dict(attribute[\"name\"] => attribute[\"value\"] for attribute in jsonl[\"attributes\"])\n",
    "            jsonl[\"identifier\"] = jsonl[\"accession\"]\n",
    "            add_biosample_to_graph!(graph, jsonl)\n",
    "        end\n",
    "    end\n",
    "end"
   ]
  },
  {
   "cell_type": "code",
   "execution_count": null,
   "id": "9e2f247c-1d61-40f0-90cd-3d39064781dd",
   "metadata": {},
   "outputs": [],
   "source": [
    "biosample_json_file = joinpath(data_directory, \"biosample.jsonl\")\n",
    "add_biosamples_to_graph!(graph, biosample_json_file)\n",
    "# @time biosample_json = JSON.parse(open(biosample_json_file))"
   ]
  },
  {
   "cell_type": "code",
   "execution_count": null,
   "id": "45fbcf3b-626f-49ba-b7cc-4a249cd28bda",
   "metadata": {},
   "outputs": [],
   "source": [
    "# kmer_size = Mycelia.assess_dnamer_saturation(fastx_files)"
   ]
  }
 ],
 "metadata": {
  "kernelspec": {
   "display_name": "Julia 1.6.3",
   "language": "julia",
   "name": "julia-1.6"
  },
  "language_info": {
   "file_extension": ".jl",
   "mimetype": "application/julia",
   "name": "julia",
   "version": "1.6.3"
  }
 },
 "nbformat": 4,
 "nbformat_minor": 5
}
