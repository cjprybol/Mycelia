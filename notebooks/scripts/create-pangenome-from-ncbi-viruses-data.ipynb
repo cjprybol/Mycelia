{
 "cells": [
  {
   "cell_type": "code",
   "execution_count": 1,
   "id": "13ee64af-0976-4f02-8482-6300571e7284",
   "metadata": {},
   "outputs": [
    {
     "name": "stderr",
     "output_type": "stream",
     "text": [
      "\u001b[32m\u001b[1m    Updating\u001b[22m\u001b[39m registry at `/opt/julia/registries/General`\n",
      "\u001b[32m\u001b[1m  No Changes\u001b[22m\u001b[39m to `~/work/Mycelia/Project.toml`\n",
      "\u001b[32m\u001b[1m  No Changes\u001b[22m\u001b[39m to `~/work/Mycelia/Manifest.toml`\n",
      "\u001b[32m\u001b[1mPrecompiling\u001b[22m\u001b[39m project...\n",
      "\u001b[32m  ✓ \u001b[39mMycelia\n",
      "  1 dependency successfully precompiled in 20 seconds (232 already precompiled)\n",
      "\u001b[32m\u001b[1m   Resolving\u001b[22m\u001b[39m package versions...\n",
      "\u001b[32m\u001b[1m  No Changes\u001b[22m\u001b[39m to `~/work/Mycelia/Project.toml`\n",
      "\u001b[32m\u001b[1m  No Changes\u001b[22m\u001b[39m to `~/work/Mycelia/Manifest.toml`\n"
     ]
    }
   ],
   "source": [
    "import Pkg\n",
    "Pkg.update()\n",
    "\n",
    "pkgs = [\n",
    "    \"Revise\",\n",
    "    \"MetaGraphs\",\n",
    "    \"Graphs\",\n",
    "    \"JSON\",\n",
    "    \"uCSV\",\n",
    "    \"DataFrames\",\n",
    "    \"Dates\",\n",
    "    \"Primes\",\n",
    "    \"Kmers\",\n",
    "    \"BioSequences\",\n",
    "    \"FASTX\"\n",
    "]\n",
    "\n",
    "Pkg.add(pkgs)\n",
    "for pkg in pkgs\n",
    "    eval(Meta.parse(\"import $pkg\"))\n",
    "end\n",
    "\n",
    "# Pkg.add(url=\"https://github.com/cjprybol/Mycelia.git\", rev=\"master\")\n",
    "# Pkg.develop(path=\"$(homedir())/workspace/Mycelia\")\n",
    "import Mycelia"
   ]
  },
  {
   "cell_type": "code",
   "execution_count": 2,
   "id": "92f92e84-19ab-47c6-ba60-e28b374bf5b1",
   "metadata": {
    "tags": [
     "parameters"
    ]
   },
   "outputs": [
    {
     "data": {
      "text/plain": [
       "\"/home/jovyan/workspace/scratch/2022-09-11\""
      ]
     },
     "execution_count": 2,
     "metadata": {},
     "output_type": "execute_result"
    }
   ],
   "source": [
    "#papermill parameters\n",
    "base_directory = \"$(homedir())/workspace/sars-cov2-pangenome-analysis/\"\n",
    "sequences_directory = \"$(base_directory)/data/sequences\"\n",
    "metadata_file = \"$(base_directory)/metadata/sequences.csv\"\n",
    "working_directory = \"$(homedir())/workspace/scratch/$(Dates.today())\""
   ]
  },
  {
   "cell_type": "code",
   "execution_count": 3,
   "id": "bc31b34b-2228-4112-ac1f-c12c5a16e817",
   "metadata": {},
   "outputs": [],
   "source": [
    "mkpath(working_directory)\n",
    "cd(working_directory)"
   ]
  },
  {
   "cell_type": "code",
   "execution_count": 4,
   "id": "b596c7c3-c38a-4fa2-b134-bd16aef01418",
   "metadata": {},
   "outputs": [
    {
     "name": "stdout",
     "output_type": "stream",
     "text": [
      "  3.718736 seconds (7.92 M allocations: 481.020 MiB, 3.33% gc time, 76.04% compilation time)\n"
     ]
    },
    {
     "data": {
      "text/html": [
       "<div class=\"data-frame\"><p>9 rows × 26 columns (omitted printing of 23 columns)</p><table class=\"data-frame\"><thead><tr><th></th><th>Accession</th><th>SRA_Accession</th><th>Submitters</th></tr><tr><th></th><th title=\"String\">String</th><th title=\"String\">String</th><th title=\"String\">String</th></tr></thead><tbody><tr><th>1</th><td>NC_045512.2</td><td></td><td>Wu,F., Zhao,S., Yu,B., Chen,Y.M., Wang,W., Song,Z.G., Hu,Y., Tao,Z.W., Tian,J.H., Pei,Y.Y., Yuan,M.L., Zhang,Y.L., Dai,F.H., Liu,Y., Wang,Q.M., Zheng,J.J., Xu,L., Holmes,E.C., Zhang,Y.Z., Baranov,P.V., Henderson,C.M., Anderson,C.B., Gesteland,R.F., Atkins,J.F., Howard,M.T., Robertson,M.P., Igel,H., Baertsch,R., Haussler,D., Ares,M. Jr., Scott,W.G., Williams,G.D., Chang,R.Y., Brian,D.A., Chen,Y.-M., Song,Z.-G., Tao,Z.-W., Tian,J.-H., Pei,Y.-Y., Zhang,Y.-L., Dai,F.-H., Wang,Q.-M., Zheng,J.-J., Zhang,Y.-Z.</td></tr><tr><th>2</th><td>OP164776.1</td><td></td><td>Afrad Moon,M.H., Qadri,F.</td></tr><tr><th>3</th><td>OP164777.1</td><td></td><td>Afrad Moon,M.H., Qadri,F.</td></tr><tr><th>4</th><td>OP164778.1</td><td></td><td>Afrad Moon,M.H., Qadri,F.</td></tr><tr><th>5</th><td>OP164779.1</td><td></td><td>Afrad Moon,M.H., Qadri,F.</td></tr><tr><th>6</th><td>OP164780.1</td><td></td><td>Afrad Moon,M.H., Qadri,F.</td></tr><tr><th>7</th><td>OP164781.1</td><td></td><td>Afrad Moon,M.H., Qadri,F.</td></tr><tr><th>8</th><td>OP164782.1</td><td></td><td>Afrad Moon,M.H., Qadri,F.</td></tr><tr><th>9</th><td>OP164783.1</td><td></td><td>Afrad Moon,M.H., Qadri,F.</td></tr></tbody></table></div>"
      ],
      "text/latex": [
       "\\begin{tabular}{r|cccc}\n",
       "\t& Accession & SRA\\_Accession & Submitters & \\\\\n",
       "\t\\hline\n",
       "\t& String & String & String & \\\\\n",
       "\t\\hline\n",
       "\t1 & NC\\_045512.2 &  & Wu,F., Zhao,S., Yu,B., Chen,Y.M., Wang,W., Song,Z.G., Hu,Y., Tao,Z.W., Tian,J.H., Pei,Y.Y., Yuan,M.L., Zhang,Y.L., Dai,F.H., Liu,Y., Wang,Q.M., Zheng,J.J., Xu,L., Holmes,E.C., Zhang,Y.Z., Baranov,P.V., Henderson,C.M., Anderson,C.B., Gesteland,R.F., Atkins,J.F., Howard,M.T., Robertson,M.P., Igel,H., Baertsch,R., Haussler,D., Ares,M. Jr., Scott,W.G., Williams,G.D., Chang,R.Y., Brian,D.A., Chen,Y.-M., Song,Z.-G., Tao,Z.-W., Tian,J.-H., Pei,Y.-Y., Zhang,Y.-L., Dai,F.-H., Wang,Q.-M., Zheng,J.-J., Zhang,Y.-Z. & $\\dots$ \\\\\n",
       "\t2 & OP164776.1 &  & Afrad Moon,M.H., Qadri,F. & $\\dots$ \\\\\n",
       "\t3 & OP164777.1 &  & Afrad Moon,M.H., Qadri,F. & $\\dots$ \\\\\n",
       "\t4 & OP164778.1 &  & Afrad Moon,M.H., Qadri,F. & $\\dots$ \\\\\n",
       "\t5 & OP164779.1 &  & Afrad Moon,M.H., Qadri,F. & $\\dots$ \\\\\n",
       "\t6 & OP164780.1 &  & Afrad Moon,M.H., Qadri,F. & $\\dots$ \\\\\n",
       "\t7 & OP164781.1 &  & Afrad Moon,M.H., Qadri,F. & $\\dots$ \\\\\n",
       "\t8 & OP164782.1 &  & Afrad Moon,M.H., Qadri,F. & $\\dots$ \\\\\n",
       "\t9 & OP164783.1 &  & Afrad Moon,M.H., Qadri,F. & $\\dots$ \\\\\n",
       "\\end{tabular}\n"
      ],
      "text/plain": [
       "\u001b[1m9×26 DataFrame\u001b[0m\n",
       "\u001b[1m Row \u001b[0m│\u001b[1m Accession   \u001b[0m\u001b[1m SRA_Accession \u001b[0m\u001b[1m Submitters                        \u001b[0m\u001b[1m Release_\u001b[0m ⋯\n",
       "\u001b[1m     \u001b[0m│\u001b[90m String      \u001b[0m\u001b[90m String        \u001b[0m\u001b[90m String                            \u001b[0m\u001b[90m String  \u001b[0m ⋯\n",
       "─────┼──────────────────────────────────────────────────────────────────────────\n",
       "   1 │ NC_045512.2                 Wu,F., Zhao,S., Yu,B., Chen,Y.M.…  2020-01- ⋯\n",
       "   2 │ OP164776.1                  Afrad Moon,M.H., Qadri,F.          2022-08-\n",
       "   3 │ OP164777.1                  Afrad Moon,M.H., Qadri,F.          2022-08-\n",
       "   4 │ OP164778.1                  Afrad Moon,M.H., Qadri,F.          2022-08-\n",
       "   5 │ OP164779.1                  Afrad Moon,M.H., Qadri,F.          2022-08- ⋯\n",
       "   6 │ OP164780.1                  Afrad Moon,M.H., Qadri,F.          2022-08-\n",
       "   7 │ OP164781.1                  Afrad Moon,M.H., Qadri,F.          2022-08-\n",
       "   8 │ OP164782.1                  Afrad Moon,M.H., Qadri,F.          2022-08-\n",
       "   9 │ OP164783.1                  Afrad Moon,M.H., Qadri,F.          2022-08- ⋯\n",
       "\u001b[36m                                                              23 columns omitted\u001b[0m"
      ]
     },
     "execution_count": 4,
     "metadata": {},
     "output_type": "execute_result"
    }
   ],
   "source": [
    "# f = metadata_file\n",
    "f = open(`head $metadata_file`)\n",
    "@time sequence_metadata = DataFrames.DataFrame(uCSV.read(f, quotes='\"', header=1, typedetectrows=100)...)"
   ]
  },
  {
   "cell_type": "code",
   "execution_count": 5,
   "id": "e927172f-f5bd-4797-bbae-3801e0a739e3",
   "metadata": {},
   "outputs": [
    {
     "data": {
      "text/plain": [
       "9-element Vector{String}:\n",
       " \"/home/jovyan/workspace/sars-cov2-pangenome-analysis//data/sequences/NC_045512.2.fna\"\n",
       " \"/home/jovyan/workspace/sars-cov2-pangenome-analysis//data/sequences/OP164776.1.fna\"\n",
       " \"/home/jovyan/workspace/sars-cov2-pangenome-analysis//data/sequences/OP164777.1.fna\"\n",
       " \"/home/jovyan/workspace/sars-cov2-pangenome-analysis//data/sequences/OP164778.1.fna\"\n",
       " \"/home/jovyan/workspace/sars-cov2-pangenome-analysis//data/sequences/OP164779.1.fna\"\n",
       " \"/home/jovyan/workspace/sars-cov2-pangenome-analysis//data/sequences/OP164780.1.fna\"\n",
       " \"/home/jovyan/workspace/sars-cov2-pangenome-analysis//data/sequences/OP164781.1.fna\"\n",
       " \"/home/jovyan/workspace/sars-cov2-pangenome-analysis//data/sequences/OP164782.1.fna\"\n",
       " \"/home/jovyan/workspace/sars-cov2-pangenome-analysis//data/sequences/OP164783.1.fna\""
      ]
     },
     "execution_count": 5,
     "metadata": {},
     "output_type": "execute_result"
    }
   ],
   "source": [
    "fastx_files = map(x -> \"$(sequences_directory)/$(x).fna\", sequence_metadata[!, \"Accession\"])"
   ]
  },
  {
   "cell_type": "code",
   "execution_count": 39,
   "id": "e0d5dfd1-badd-4bf4-965e-6d0209650ece",
   "metadata": {},
   "outputs": [
    {
     "data": {
      "text/plain": [
       "17"
      ]
     },
     "execution_count": 39,
     "metadata": {},
     "output_type": "execute_result"
    }
   ],
   "source": [
    "# kmer_size = Mycelia.assess_dnamer_saturation(fastx_files)\n",
    "# kmer_size = 11\n",
    "kmer_size = 17"
   ]
  },
  {
   "cell_type": "code",
   "execution_count": 40,
   "id": "7c098655-62b4-4e0b-8b52-d7154e6e8765",
   "metadata": {},
   "outputs": [],
   "source": [
    "# import BioSequences\n",
    "# import FASTX\n",
    "# import Kmers"
   ]
  },
  {
   "cell_type": "code",
   "execution_count": 41,
   "id": "4c1458a2-ffb7-4da8-97ca-d166d4d75d94",
   "metadata": {},
   "outputs": [
    {
     "data": {
      "text/plain": [
       "{9, 0} directed Int64 metagraph with Float64 weights defined by :weight (default weight 1.0)"
      ]
     },
     "execution_count": 41,
     "metadata": {},
     "output_type": "execute_result"
    }
   ],
   "source": [
    "graph = Mycelia.initialize_graph()\n",
    "graph = Mycelia.add_fastx_to_graph!(graph, fastx_files)"
   ]
  },
  {
   "cell_type": "code",
   "execution_count": 42,
   "id": "a572939e-7fd9-484e-9425-48eb20eeb6e5",
   "metadata": {},
   "outputs": [
    {
     "data": {
      "text/plain": [
       "{9, 0} directed Int64 metagraph with Float64 weights defined by :weight (default weight 1.0)"
      ]
     },
     "execution_count": 42,
     "metadata": {},
     "output_type": "execute_result"
    }
   ],
   "source": [
    "# add fastx metadata to graphs\n",
    "\n",
    "# for each fastx in the graph, add the metadata\n",
    "Mycelia.add_metadata_from_table!(graph, sequence_metadata, identifier_column = \"Accession\")"
   ]
  },
  {
   "cell_type": "code",
   "execution_count": 43,
   "id": "70991e01-2962-4d53-b3cd-1deded00fe7e",
   "metadata": {},
   "outputs": [
    {
     "data": {
      "text/plain": [
       "add_fasta_record_kmers_to_graph! (generic function with 1 method)"
      ]
     },
     "execution_count": 43,
     "metadata": {},
     "output_type": "execute_result"
    }
   ],
   "source": [
    "# for kmer_size in kmer_sizes\n",
    "function add_fasta_record_kmers_to_graph!(graph, kmer_size)\n",
    "    record_vertices = collect(MetaGraphs.filter_vertices(graph, :TYPE, FASTX.FASTA.Record))\n",
    "    for vertex in record_vertices\n",
    "        record_identifier = graph.vprops[vertex][:identifier]\n",
    "        record_sequence = graph.vprops[vertex][:sequence]\n",
    "        kmer_counts = Mycelia.count_canonical_kmers(Kmers.DNAKmer{kmer_size}, record_sequence)\n",
    "        Mycelia.add_kmers_to_graph!(graph, keys(kmer_counts))\n",
    "        Mycelia.add_record_kmer_counts_to_graph!(graph, kmer_counts, record_identifier)\n",
    "        Mycelia.add_record_edgemers_to_graph!(graph, record_identifier, kmer_size)\n",
    "    end\n",
    "    return graph\n",
    "end"
   ]
  },
  {
   "cell_type": "code",
   "execution_count": 44,
   "id": "25664b0f-5584-4a0f-bd78-b8b0e394e6d3",
   "metadata": {},
   "outputs": [],
   "source": [
    "# link kmer_counts to record"
   ]
  },
  {
   "cell_type": "code",
   "execution_count": 45,
   "id": "e7146afc-85bf-4aa9-9dd1-1f6192fe82a8",
   "metadata": {},
   "outputs": [
    {
     "data": {
      "text/plain": [
       "{31169, 293711} directed Int64 metagraph with Float64 weights defined by :weight (default weight 1.0)"
      ]
     },
     "execution_count": 45,
     "metadata": {},
     "output_type": "execute_result"
    }
   ],
   "source": [
    "# {30145, 288695} directed Int64 metagraph with Float64 weights defined by :weight (default weight 1.0)\n",
    "add_fasta_record_kmers_to_graph!(graph, kmer_size)"
   ]
  },
  {
   "cell_type": "code",
   "execution_count": 46,
   "id": "bbf56aa3-d09f-4472-8c99-190dc8667d50",
   "metadata": {},
   "outputs": [
    {
     "data": {
      "text/plain": [
       "\"/home/jovyan/workspace/scratch/2022-09-11/17.gfa\""
      ]
     },
     "execution_count": 46,
     "metadata": {},
     "output_type": "execute_result"
    }
   ],
   "source": [
    "outfile = joinpath(working_directory, \"$(kmer_size).gfa\")"
   ]
  },
  {
   "cell_type": "code",
   "execution_count": 47,
   "id": "44692514-249f-426e-9e4d-12d0d7df5a42",
   "metadata": {},
   "outputs": [],
   "source": [
    "open(outfile, \"w\") do io\n",
    "    println(io, \"H\\tVN:Z:1.0\")\n",
    "    kmer_vertices = collect(MetaGraphs.filter_vertices(graph, :TYPE, Kmers.kmertype(Kmers.DNAKmer{kmer_size})))\n",
    "    record_vertices = collect(MetaGraphs.filter_vertices(graph, :TYPE, FASTX.FASTA.Record))\n",
    "    for vertex in kmer_vertices\n",
    "        if haskey(graph.vprops[vertex], :kmer)\n",
    "            sequence = graph.vprops[vertex][:kmer]\n",
    "        else\n",
    "            sequence = graph.vprops[vertex][:sequence]\n",
    "        end\n",
    "        # depth = graph.vprops[vertex][:count]\n",
    "        # depth = length(graph.vprops[vertex][:evidence])\n",
    "        total_count = 0\n",
    "        vertex_outneighbors = Graphs.outneighbors(graph, vertex)\n",
    "        for connected_record in intersect(vertex_outneighbors, record_vertices)\n",
    "            edge = Graphs.Edge(vertex, connected_record)\n",
    "            total_count += MetaGraphs.get_prop(graph, edge, :count)\n",
    "        end\n",
    "        \n",
    "        fields = [\"S\", \"$vertex\", sequence, \"DP:f:$(total_count)\"]\n",
    "        line = join(fields, '\\t')\n",
    "        println(io, line)\n",
    "    end\n",
    "    edgemer_edges = collect(MetaGraphs.filter_edges(graph, :TYPE, Kmers.kmertype(Kmers.DNAKmer{kmer_size+1})))\n",
    "    overlap = kmer_size - 1\n",
    "    for edgemer_edge in edgemer_edges\n",
    "        source_kmer, dest_kmer = Mycelia.edgemer_to_vertex_kmers(MetaGraphs.get_prop(graph, edgemer_edge, :sequence))\n",
    "        link = [\"L\",\n",
    "                    edgemer_edge.src,\n",
    "                    BioSequences.iscanonical(source_kmer) ? '+' : '-',\n",
    "                    edgemer_edge.dst,\n",
    "                    BioSequences.iscanonical(dest_kmer) ? '+' : '-',\n",
    "                    \"$(overlap)M\"]\n",
    "        line = join(link, '\\t')\n",
    "        println(io, line)\n",
    "    end\n",
    "end"
   ]
  },
  {
   "cell_type": "code",
   "execution_count": null,
   "id": "604a9d51-69ae-411a-afb2-44413a4c2ee9",
   "metadata": {},
   "outputs": [],
   "source": [
    "# defunct bcalm usage\n",
    "# run(`conda install -c bioconda bcalm`)\n",
    "\n",
    "# fasta_file_list = joinpath(working_directory, repr(hash(fastx_files)) * \".fasta_list.txt\")\n",
    "# open(fasta_file_list, \"w\") do io\n",
    "#     for f in fastx_files\n",
    "#         @show f\n",
    "#         println(io, f)\n",
    "#     end\n",
    "# end\n",
    "\n",
    "# k = 3\n",
    "# outfile = fasta_file_list * \".bcalm.$(k).fna\"\n",
    "# cmd = `bcalm -in $(fastx_files[1]) -abundance-min 1 -kmer-size 11 -all-abundance-counts -out $(outfile)`\n",
    "# run(cmd)\n",
    "\n",
    "# cmds = [\n",
    "#     `bcalm`,\n",
    "#     `-in $(fasta_list_file)`,\n",
    "#     `-abundance-min 1`,\n",
    "#     `-kmer-size 3`,\n",
    "#     `-all-abundance-counts`,\n",
    "#     `-abundance-max $(typemax(UInt64))`\n",
    "# ]\n",
    "# run(cmds)\n",
    "\n",
    "# ls -1 *.fastq > list_reads\n",
    "# ./bcalm -in list_reads [..]\n",
    "# ./bcalm -in [reads.fa] -kmer-size [kmer_size] -abundance-min [abundance_threshold]\n",
    "\n",
    "# scripts/convertToGFA.py"
   ]
  },
  {
   "cell_type": "code",
   "execution_count": null,
   "id": "9e011d6a-0fec-46bd-9c1b-c450953b7b0f",
   "metadata": {},
   "outputs": [],
   "source": [
    "# for (index, metadata) in graph.vprops\n",
    "#     @show index\n",
    "#     for (key, value) in metadata\n",
    "#         @show key, value\n",
    "#     end\n",
    "# end"
   ]
  }
 ],
 "metadata": {
  "kernelspec": {
   "display_name": "Julia 1.6.3",
   "language": "julia",
   "name": "julia-1.6"
  },
  "language_info": {
   "file_extension": ".jl",
   "mimetype": "application/julia",
   "name": "julia",
   "version": "1.6.3"
  }
 },
 "nbformat": 4,
 "nbformat_minor": 5
}
