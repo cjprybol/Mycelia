{
 "cells": [
  {
   "cell_type": "code",
   "execution_count": 1,
   "id": "13ee64af-0976-4f02-8482-6300571e7284",
   "metadata": {},
   "outputs": [
    {
     "name": "stderr",
     "output_type": "stream",
     "text": [
      "\u001b[32m\u001b[1m    Updating\u001b[22m\u001b[39m registry at `/opt/julia/registries/General`\n",
      "\u001b[32m\u001b[1m  No Changes\u001b[22m\u001b[39m to `~/work/Mycelia/Project.toml`\n",
      "\u001b[32m\u001b[1m  No Changes\u001b[22m\u001b[39m to `~/work/Mycelia/Manifest.toml`\n",
      "\u001b[32m\u001b[1mPrecompiling\u001b[22m\u001b[39m project...\n",
      "\u001b[32m  ✓ \u001b[39mPlots\n",
      "\u001b[32m  ✓ \u001b[39mStatsPlots\n",
      "\u001b[32m  ✓ \u001b[39mMycelia\n",
      "  3 dependencies successfully precompiled in 77 seconds (236 already precompiled)\n",
      "\u001b[32m\u001b[1m   Resolving\u001b[22m\u001b[39m package versions...\n",
      "\u001b[32m\u001b[1m  No Changes\u001b[22m\u001b[39m to `~/work/Mycelia/Project.toml`\n",
      "\u001b[32m\u001b[1m  No Changes\u001b[22m\u001b[39m to `~/work/Mycelia/Manifest.toml`\n"
     ]
    }
   ],
   "source": [
    "import Pkg\n",
    "Pkg.update()\n",
    "\n",
    "pkgs = [\n",
    "    \"Revise\",\n",
    "    \"MetaGraphs\",\n",
    "    \"Graphs\",\n",
    "    \"JSON\",\n",
    "    \"uCSV\",\n",
    "    \"DataFrames\",\n",
    "    \"Dates\",\n",
    "    \"Primes\",\n",
    "    \"Kmers\",\n",
    "    \"BioSequences\",\n",
    "    \"FASTX\",\n",
    "    \"ProgressMeter\",\n",
    "    \"Random\",\n",
    "    \"StatsBase\"\n",
    "]\n",
    "\n",
    "Pkg.add(pkgs)\n",
    "for pkg in pkgs\n",
    "    eval(Meta.parse(\"import $pkg\"))\n",
    "end\n",
    "\n",
    "# Pkg.develop(path=\"$(homedir())/workspace/Mycelia\")\n",
    "import Mycelia"
   ]
  },
  {
   "cell_type": "code",
   "execution_count": 2,
   "id": "92f92e84-19ab-47c6-ba60-e28b374bf5b1",
   "metadata": {
    "tags": [
     "parameters"
    ]
   },
   "outputs": [
    {
     "data": {
      "text/plain": [
       "\"/home/jovyan/workspace/scratch/2022-10-29\""
      ]
     },
     "execution_count": 2,
     "metadata": {},
     "output_type": "execute_result"
    }
   ],
   "source": [
    "#papermill parameters\n",
    "base_directory = \"$(homedir())/workspace/sars-cov2-pangenome-analysis/\"\n",
    "sequences_directory = \"$(base_directory)/data/sequences\"\n",
    "metadata_file = \"$(base_directory)/metadata/sequences.csv\"\n",
    "working_directory = \"$(homedir())/workspace/scratch/$(Dates.today())\""
   ]
  },
  {
   "cell_type": "code",
   "execution_count": 3,
   "id": "4c733a8e-7ca8-4422-a12e-18e6de20faf3",
   "metadata": {},
   "outputs": [
    {
     "data": {
      "text/plain": [
       "\"/home/jovyan/.local/neo4j-community-4.4.11/import\""
      ]
     },
     "execution_count": 3,
     "metadata": {},
     "output_type": "execute_result"
    }
   ],
   "source": [
    "neo4j_username = \"neo4j\"\n",
    "\n",
    "# remote_neo4j_address = ENV[\"NEO4J_URL\"]\n",
    "# remote_neo4j_password = ENV[\"NEO4J_PASSWORD\"]\n",
    "local_neo4j_bolt_address = \"bolt://localhost:7687\"\n",
    "local_neo4j_http_address = \"neo4j://localhost:7474\"\n",
    "# local_neo4j_password = \"neo4j\"\n",
    "# local_neo4j_password = Random.randstring(7)\n",
    "local_neo4j_password = \"ii0sRIc\"\n",
    "\n",
    "neo4j_local_import_directory = \"/home/jovyan/.local/neo4j-community-4.4.11/import\""
   ]
  },
  {
   "cell_type": "code",
   "execution_count": 4,
   "id": "d79110da-f08a-431b-ac8c-f5fc32640493",
   "metadata": {},
   "outputs": [
    {
     "data": {
      "text/plain": [
       "\"/home/jovyan/.local/neo4j-community-4.4.11\""
      ]
     },
     "execution_count": 4,
     "metadata": {},
     "output_type": "execute_result"
    }
   ],
   "source": [
    "NEO4J_PATH=\"/home/jovyan/.local/neo4j-community-4.4.11\""
   ]
  },
  {
   "cell_type": "code",
   "execution_count": 5,
   "id": "297e4b47-c272-4899-a091-6fd823d20832",
   "metadata": {},
   "outputs": [
    {
     "name": "stdout",
     "output_type": "stream",
     "text": [
      "Neo4j is not running.\n",
      "Directories in use:\n",
      "home:         /home/jovyan/.local/neo4j-community-4.4.11\n",
      "config:       /home/jovyan/.local/neo4j-community-4.4.11/conf\n",
      "logs:         /home/jovyan/.local/neo4j-community-4.4.11/logs\n",
      "plugins:      /home/jovyan/.local/neo4j-community-4.4.11/plugins\n",
      "import:       /home/jovyan/.local/neo4j-community-4.4.11/import\n",
      "data:         /home/jovyan/.local/neo4j-community-4.4.11/data\n",
      "certificates: /home/jovyan/.local/neo4j-community-4.4.11/certificates\n",
      "licenses:     /home/jovyan/.local/neo4j-community-4.4.11/licenses\n",
      "run:          /home/jovyan/.local/neo4j-community-4.4.11/run\n",
      "Starting Neo4j.\n",
      "Started neo4j (pid:67771). It is available at http://localhost:7474\n",
      "There may be a short delay until the server is ready.\n",
      "Neo4j is running at pid 67771\n"
     ]
    },
    {
     "data": {
      "text/plain": [
       "Process(`\u001b[4m/home/jovyan/.local/neo4j-community-4.4.11/bin/neo4j\u001b[24m \u001b[4mstatus\u001b[24m`, ProcessExited(0))"
      ]
     },
     "execution_count": 5,
     "metadata": {},
     "output_type": "execute_result"
    }
   ],
   "source": [
    "run(`$(NEO4J_PATH)/bin/neo4j stop`)\n",
    "run(`$(NEO4J_PATH)/bin/neo4j start`)\n",
    "run(`$(NEO4J_PATH)/bin/neo4j status`)"
   ]
  },
  {
   "cell_type": "code",
   "execution_count": null,
   "id": "325f1db6-2ad0-41ad-b407-2d7dea0662f4",
   "metadata": {},
   "outputs": [],
   "source": [
    "# # # update password - only need to do this on initial setup\n",
    "# cmd = \"ALTER CURRENT USER SET PASSWORD FROM 'neo4j' TO '$(local_neo4j_password)'\"\n",
    "# run(Mycelia.cypher(cmd, address=local_neo4j_bolt_address, password=\"neo4j\", username=\"neo4j\", database=\"system\"))"
   ]
  },
  {
   "cell_type": "code",
   "execution_count": 6,
   "id": "bc31b34b-2228-4112-ac1f-c12c5a16e817",
   "metadata": {},
   "outputs": [],
   "source": [
    "mkpath(working_directory)\n",
    "cd(working_directory)"
   ]
  },
  {
   "cell_type": "code",
   "execution_count": 10,
   "id": "b596c7c3-c38a-4fa2-b134-bd16aef01418",
   "metadata": {},
   "outputs": [
    {
     "name": "stdout",
     "output_type": "stream",
     "text": [
      "  0.000918 seconds (1.88 k allocations: 258.312 KiB)\n"
     ]
    },
    {
     "data": {
      "text/html": [
       "<div><div style = \"float: left;\"><span>10×26 DataFrame</span></div><div style = \"clear: both;\"></div></div><div class = \"data-frame\" style = \"overflow-x: scroll;\"><table class = \"data-frame\" style = \"margin-bottom: 6px;\"><thead><tr class = \"header\"><th class = \"rowNumber\" style = \"font-weight: bold; text-align: right;\">Row</th><th style = \"text-align: left;\">Accession</th><th style = \"text-align: left;\">SRA_Accession</th><th style = \"text-align: left;\">Submitters</th><th style = \"text-align: left;\">Release_Date</th><th style = \"text-align: left;\">Pangolin</th><th style = \"text-align: left;\">PangoVersions</th><th style = \"text-align: left;\">Random_Sampling</th><th style = \"text-align: left;\">Isolate</th><th style = \"text-align: left;\">Species</th><th style = \"text-align: left;\">Genus</th><th style = \"text-align: left;\">Family</th><th style = \"text-align: left;\">Molecule_type</th><th style = \"text-align: left;\">Length</th><th style = \"text-align: left;\">Sequence_Type</th><th style = \"text-align: left;\">Nuc_Completeness</th><th style = \"text-align: left;\">Genotype</th><th style = \"text-align: left;\">Segment</th><th style = \"text-align: left;\">Publications</th><th style = \"text-align: left;\">Geo_Location</th><th style = \"text-align: left;\">Country</th><th style = \"text-align: left;\">USA</th><th style = \"text-align: left;\">Host</th><th style = \"text-align: left;\">Isolation_Source</th><th style = \"text-align: left;\">Collection_Date</th><th style = \"text-align: left;\">BioSample</th><th style = \"text-align: left;\">GenBank_Title</th></tr><tr class = \"subheader headerLastRow\"><th class = \"rowNumber\" style = \"font-weight: bold; text-align: right;\"></th><th title = \"String\" style = \"text-align: left;\">String</th><th title = \"String\" style = \"text-align: left;\">String</th><th title = \"String\" style = \"text-align: left;\">String</th><th title = \"String\" style = \"text-align: left;\">String</th><th title = \"String\" style = \"text-align: left;\">String</th><th title = \"String\" style = \"text-align: left;\">String</th><th title = \"String\" style = \"text-align: left;\">String</th><th title = \"String\" style = \"text-align: left;\">String</th><th title = \"String\" style = \"text-align: left;\">String</th><th title = \"String\" style = \"text-align: left;\">String</th><th title = \"String\" style = \"text-align: left;\">String</th><th title = \"String\" style = \"text-align: left;\">String</th><th title = \"Int64\" style = \"text-align: left;\">Int64</th><th title = \"String\" style = \"text-align: left;\">String</th><th title = \"String\" style = \"text-align: left;\">String</th><th title = \"String\" style = \"text-align: left;\">String</th><th title = \"String\" style = \"text-align: left;\">String</th><th title = \"String\" style = \"text-align: left;\">String</th><th title = \"String\" style = \"text-align: left;\">String</th><th title = \"String\" style = \"text-align: left;\">String</th><th title = \"String\" style = \"text-align: left;\">String</th><th title = \"String\" style = \"text-align: left;\">String</th><th title = \"String\" style = \"text-align: left;\">String</th><th title = \"String\" style = \"text-align: left;\">String</th><th title = \"String\" style = \"text-align: left;\">String</th><th title = \"String\" style = \"text-align: left;\">String</th></tr></thead><tbody><tr><td class = \"rowNumber\" style = \"font-weight: bold; text-align: right;\">1</td><td style = \"text-align: left;\">NC_045512.2</td><td style = \"text-align: left;\"></td><td style = \"text-align: left;\">Wu,F., Zhao,S., Yu,B., Chen,Y.M., Wang,W., Song,Z.G., Hu,Y., Tao,Z.W., Tian,J.H., Pei,Y.Y., Yuan,M.L., Zhang,Y.L., Dai,F.H., Liu,Y., Wang,Q.M., Zheng,J.J., Xu,L., Holmes,E.C., Zhang,Y.Z., Baranov,P.V., Henderson,C.M., Anderson,C.B., Gesteland,R.F., Atkins,J.F., Howard,M.T., Robertson,M.P., Igel,H., Baertsch,R., Haussler,D., Ares,M. Jr., Scott,W.G., Williams,G.D., Chang,R.Y., Brian,D.A., Chen,Y.-M., Song,Z.-G., Tao,Z.-W., Tian,J.-H., Pei,Y.-Y., Zhang,Y.-L., Dai,F.-H., Wang,Q.-M., Zheng,J.-J., Zhang,Y.-Z.</td><td style = \"text-align: left;\">2020-01-13T00:00:00Z</td><td style = \"text-align: left;\">B</td><td style = \"text-align: left;\">4.1.2/1.12/v0.1.10/0.3.17</td><td style = \"text-align: left;\"></td><td style = \"text-align: left;\">Wuhan-Hu-1</td><td style = \"text-align: left;\">Severe acute respiratory syndrome-related coronavirus</td><td style = \"text-align: left;\">Betacoronavirus</td><td style = \"text-align: left;\">Coronaviridae</td><td style = \"text-align: left;\">ssRNA(+)</td><td style = \"text-align: right;\">29903</td><td style = \"text-align: left;\">RefSeq</td><td style = \"text-align: left;\">complete</td><td style = \"text-align: left;\"></td><td style = \"text-align: left;\"></td><td style = \"text-align: left;\">4</td><td style = \"text-align: left;\">China</td><td style = \"text-align: left;\">China</td><td style = \"text-align: left;\"></td><td style = \"text-align: left;\">Homo sapiens</td><td style = \"text-align: left;\"></td><td style = \"text-align: left;\">2019-12</td><td style = \"text-align: left;\"></td><td style = \"text-align: left;\">Severe acute respiratory syndrome coronavirus 2 isolate Wuhan-Hu-1, complete genome</td></tr><tr><td class = \"rowNumber\" style = \"font-weight: bold; text-align: right;\">2</td><td style = \"text-align: left;\">OP164776.1</td><td style = \"text-align: left;\"></td><td style = \"text-align: left;\">Afrad Moon,M.H., Qadri,F.</td><td style = \"text-align: left;\">2022-08-07T00:00:00Z</td><td style = \"text-align: left;\"></td><td style = \"text-align: left;\">4.1.2/1.12/v0.1.10/0.3.17</td><td style = \"text-align: left;\"></td><td style = \"text-align: left;\">icddrb-TND-07-1525</td><td style = \"text-align: left;\">Severe acute respiratory syndrome-related coronavirus</td><td style = \"text-align: left;\">Betacoronavirus</td><td style = \"text-align: left;\">Coronaviridae</td><td style = \"text-align: left;\">ssRNA(+)</td><td style = \"text-align: right;\">29723</td><td style = \"text-align: left;\">GenBank</td><td style = \"text-align: left;\">partial</td><td style = \"text-align: left;\"></td><td style = \"text-align: left;\"></td><td style = \"text-align: left;\"></td><td style = \"text-align: left;\">Bangladesh</td><td style = \"text-align: left;\">Bangladesh</td><td style = \"text-align: left;\"></td><td style = \"text-align: left;\">Homo sapiens</td><td style = \"text-align: left;\"></td><td style = \"text-align: left;\">2022-06-14</td><td style = \"text-align: left;\"></td><td style = \"text-align: left;\">Severe acute respiratory syndrome coronavirus 2 isolate SARS-CoV-2/human/BGD/icddrb-TND-07-1525/2022 ORF1ab polyprotein (ORF1ab), ORF1a polyprotein (ORF1ab), surface glycoprotein (S), ORF3a protein (ORF3a), envelope protein (E), membrane glycoprotein (M), ORF6 protein (ORF6), and ORF7a protein (ORF7a) genes, complete cds; ORF7b (ORF7b) and ORF8 protein (ORF8) genes, partial cds; and nucleocapsid phosphoprotein (N) and ORF10 protein (ORF10) genes, complete cds</td></tr><tr><td class = \"rowNumber\" style = \"font-weight: bold; text-align: right;\">3</td><td style = \"text-align: left;\">OP164777.1</td><td style = \"text-align: left;\"></td><td style = \"text-align: left;\">Afrad Moon,M.H., Qadri,F.</td><td style = \"text-align: left;\">2022-08-07T00:00:00Z</td><td style = \"text-align: left;\"></td><td style = \"text-align: left;\">4.1.2/1.12/v0.1.10/0.3.17</td><td style = \"text-align: left;\"></td><td style = \"text-align: left;\">ideSHi-IR-2986</td><td style = \"text-align: left;\">Severe acute respiratory syndrome-related coronavirus</td><td style = \"text-align: left;\">Betacoronavirus</td><td style = \"text-align: left;\">Coronaviridae</td><td style = \"text-align: left;\">ssRNA(+)</td><td style = \"text-align: right;\">29723</td><td style = \"text-align: left;\">GenBank</td><td style = \"text-align: left;\">partial</td><td style = \"text-align: left;\"></td><td style = \"text-align: left;\"></td><td style = \"text-align: left;\"></td><td style = \"text-align: left;\">Bangladesh</td><td style = \"text-align: left;\">Bangladesh</td><td style = \"text-align: left;\"></td><td style = \"text-align: left;\">Homo sapiens</td><td style = \"text-align: left;\"></td><td style = \"text-align: left;\">2022-06-13</td><td style = \"text-align: left;\"></td><td style = \"text-align: left;\">Severe acute respiratory syndrome coronavirus 2 isolate SARS-CoV-2/human/BGD/ideSHi-IR-2986/2022 ORF1ab polyprotein (ORF1ab), ORF1a polyprotein (ORF1ab), surface glycoprotein (S), ORF3a protein (ORF3a), envelope protein (E), membrane glycoprotein (M), ORF6 protein (ORF6), and ORF7a protein (ORF7a) genes, complete cds; ORF7b (ORF7b) and ORF8 protein (ORF8) genes, partial cds; and nucleocapsid phosphoprotein (N) and ORF10 protein (ORF10) genes, complete cds</td></tr><tr><td class = \"rowNumber\" style = \"font-weight: bold; text-align: right;\">4</td><td style = \"text-align: left;\">OP164778.1</td><td style = \"text-align: left;\"></td><td style = \"text-align: left;\">Afrad Moon,M.H., Qadri,F.</td><td style = \"text-align: left;\">2022-08-07T00:00:00Z</td><td style = \"text-align: left;\"></td><td style = \"text-align: left;\">4.1.2/1.12/v0.1.10/0.3.17</td><td style = \"text-align: left;\"></td><td style = \"text-align: left;\">ideSHi-IR-2989</td><td style = \"text-align: left;\">Severe acute respiratory syndrome-related coronavirus</td><td style = \"text-align: left;\">Betacoronavirus</td><td style = \"text-align: left;\">Coronaviridae</td><td style = \"text-align: left;\">ssRNA(+)</td><td style = \"text-align: right;\">29723</td><td style = \"text-align: left;\">GenBank</td><td style = \"text-align: left;\">partial</td><td style = \"text-align: left;\"></td><td style = \"text-align: left;\"></td><td style = \"text-align: left;\"></td><td style = \"text-align: left;\">Bangladesh</td><td style = \"text-align: left;\">Bangladesh</td><td style = \"text-align: left;\"></td><td style = \"text-align: left;\">Homo sapiens</td><td style = \"text-align: left;\"></td><td style = \"text-align: left;\">2022-06-13</td><td style = \"text-align: left;\"></td><td style = \"text-align: left;\">Severe acute respiratory syndrome coronavirus 2 isolate SARS-CoV-2/human/BGD/ideSHi-IR-2989/2022 ORF1ab polyprotein (ORF1ab), ORF1a polyprotein (ORF1ab), surface glycoprotein (S), ORF3a protein (ORF3a), envelope protein (E), membrane glycoprotein (M), ORF6 protein (ORF6), and ORF7a protein (ORF7a) genes, complete cds; ORF7b (ORF7b) and ORF8 protein (ORF8) genes, partial cds; and nucleocapsid phosphoprotein (N) and ORF10 protein (ORF10) genes, complete cds</td></tr><tr><td class = \"rowNumber\" style = \"font-weight: bold; text-align: right;\">5</td><td style = \"text-align: left;\">OP164779.1</td><td style = \"text-align: left;\"></td><td style = \"text-align: left;\">Afrad Moon,M.H., Qadri,F.</td><td style = \"text-align: left;\">2022-08-07T00:00:00Z</td><td style = \"text-align: left;\"></td><td style = \"text-align: left;\">4.1.2/1.12/v0.1.10/0.3.17</td><td style = \"text-align: left;\"></td><td style = \"text-align: left;\">ideSHi-IR-2991</td><td style = \"text-align: left;\">Severe acute respiratory syndrome-related coronavirus</td><td style = \"text-align: left;\">Betacoronavirus</td><td style = \"text-align: left;\">Coronaviridae</td><td style = \"text-align: left;\">ssRNA(+)</td><td style = \"text-align: right;\">29723</td><td style = \"text-align: left;\">GenBank</td><td style = \"text-align: left;\">partial</td><td style = \"text-align: left;\"></td><td style = \"text-align: left;\"></td><td style = \"text-align: left;\"></td><td style = \"text-align: left;\">Bangladesh</td><td style = \"text-align: left;\">Bangladesh</td><td style = \"text-align: left;\"></td><td style = \"text-align: left;\">Homo sapiens</td><td style = \"text-align: left;\"></td><td style = \"text-align: left;\">2022-06-14</td><td style = \"text-align: left;\"></td><td style = \"text-align: left;\">Severe acute respiratory syndrome coronavirus 2 isolate SARS-CoV-2/human/BGD/ideSHi-IR-2991/2022 ORF1ab polyprotein (ORF1ab), ORF1a polyprotein (ORF1ab), surface glycoprotein (S), ORF3a protein (ORF3a), envelope protein (E), membrane glycoprotein (M), ORF6 protein (ORF6), and ORF7a protein (ORF7a) genes, complete cds; ORF7b (ORF7b) and ORF8 protein (ORF8) genes, partial cds; and nucleocapsid phosphoprotein (N) and ORF10 protein (ORF10) genes, complete cds</td></tr><tr><td class = \"rowNumber\" style = \"font-weight: bold; text-align: right;\">6</td><td style = \"text-align: left;\">OP164780.1</td><td style = \"text-align: left;\"></td><td style = \"text-align: left;\">Afrad Moon,M.H., Qadri,F.</td><td style = \"text-align: left;\">2022-08-07T00:00:00Z</td><td style = \"text-align: left;\"></td><td style = \"text-align: left;\">4.1.2/1.12/v0.1.10/0.3.17</td><td style = \"text-align: left;\"></td><td style = \"text-align: left;\">ideSHi-IR-2993</td><td style = \"text-align: left;\">Severe acute respiratory syndrome-related coronavirus</td><td style = \"text-align: left;\">Betacoronavirus</td><td style = \"text-align: left;\">Coronaviridae</td><td style = \"text-align: left;\">ssRNA(+)</td><td style = \"text-align: right;\">29723</td><td style = \"text-align: left;\">GenBank</td><td style = \"text-align: left;\">partial</td><td style = \"text-align: left;\"></td><td style = \"text-align: left;\"></td><td style = \"text-align: left;\"></td><td style = \"text-align: left;\">Bangladesh</td><td style = \"text-align: left;\">Bangladesh</td><td style = \"text-align: left;\"></td><td style = \"text-align: left;\">Homo sapiens</td><td style = \"text-align: left;\"></td><td style = \"text-align: left;\">2022-06-15</td><td style = \"text-align: left;\"></td><td style = \"text-align: left;\">Severe acute respiratory syndrome coronavirus 2 isolate SARS-CoV-2/human/BGD/ideSHi-IR-2993/2022 ORF1ab polyprotein (ORF1ab), ORF1a polyprotein (ORF1ab), surface glycoprotein (S), ORF3a protein (ORF3a), envelope protein (E), membrane glycoprotein (M), ORF6 protein (ORF6), and ORF7a protein (ORF7a) genes, complete cds; ORF7b (ORF7b) and ORF8 protein (ORF8) genes, partial cds; and nucleocapsid phosphoprotein (N) and ORF10 protein (ORF10) genes, complete cds</td></tr><tr><td class = \"rowNumber\" style = \"font-weight: bold; text-align: right;\">7</td><td style = \"text-align: left;\">OP164781.1</td><td style = \"text-align: left;\"></td><td style = \"text-align: left;\">Afrad Moon,M.H., Qadri,F.</td><td style = \"text-align: left;\">2022-08-07T00:00:00Z</td><td style = \"text-align: left;\"></td><td style = \"text-align: left;\">4.1.2/1.12/v0.1.10/0.3.17</td><td style = \"text-align: left;\"></td><td style = \"text-align: left;\">ideSHi-IR-2995</td><td style = \"text-align: left;\">Severe acute respiratory syndrome-related coronavirus</td><td style = \"text-align: left;\">Betacoronavirus</td><td style = \"text-align: left;\">Coronaviridae</td><td style = \"text-align: left;\">ssRNA(+)</td><td style = \"text-align: right;\">29723</td><td style = \"text-align: left;\">GenBank</td><td style = \"text-align: left;\">partial</td><td style = \"text-align: left;\"></td><td style = \"text-align: left;\"></td><td style = \"text-align: left;\"></td><td style = \"text-align: left;\">Bangladesh</td><td style = \"text-align: left;\">Bangladesh</td><td style = \"text-align: left;\"></td><td style = \"text-align: left;\">Homo sapiens</td><td style = \"text-align: left;\"></td><td style = \"text-align: left;\">2022-06-17</td><td style = \"text-align: left;\"></td><td style = \"text-align: left;\">Severe acute respiratory syndrome coronavirus 2 isolate SARS-CoV-2/human/BGD/ideSHi-IR-2995/2022 ORF1ab polyprotein (ORF1ab), ORF1a polyprotein (ORF1ab), surface glycoprotein (S), ORF3a protein (ORF3a), envelope protein (E), membrane glycoprotein (M), ORF6 protein (ORF6), and ORF7a protein (ORF7a) genes, complete cds; ORF7b (ORF7b) and ORF8 protein (ORF8) genes, partial cds; and nucleocapsid phosphoprotein (N) and ORF10 protein (ORF10) genes, complete cds</td></tr><tr><td class = \"rowNumber\" style = \"font-weight: bold; text-align: right;\">8</td><td style = \"text-align: left;\">OP164782.1</td><td style = \"text-align: left;\"></td><td style = \"text-align: left;\">Afrad Moon,M.H., Qadri,F.</td><td style = \"text-align: left;\">2022-08-07T00:00:00Z</td><td style = \"text-align: left;\"></td><td style = \"text-align: left;\">4.1.2/1.12/v0.1.10/0.3.17</td><td style = \"text-align: left;\"></td><td style = \"text-align: left;\">ideSHi-IR-2998</td><td style = \"text-align: left;\">Severe acute respiratory syndrome-related coronavirus</td><td style = \"text-align: left;\">Betacoronavirus</td><td style = \"text-align: left;\">Coronaviridae</td><td style = \"text-align: left;\">ssRNA(+)</td><td style = \"text-align: right;\">29723</td><td style = \"text-align: left;\">GenBank</td><td style = \"text-align: left;\">partial</td><td style = \"text-align: left;\"></td><td style = \"text-align: left;\"></td><td style = \"text-align: left;\"></td><td style = \"text-align: left;\">Bangladesh</td><td style = \"text-align: left;\">Bangladesh</td><td style = \"text-align: left;\"></td><td style = \"text-align: left;\">Homo sapiens</td><td style = \"text-align: left;\"></td><td style = \"text-align: left;\">2022-06-18</td><td style = \"text-align: left;\"></td><td style = \"text-align: left;\">Severe acute respiratory syndrome coronavirus 2 isolate SARS-CoV-2/human/BGD/ideSHi-IR-2998/2022 ORF1ab polyprotein (ORF1ab), ORF1a polyprotein (ORF1ab), surface glycoprotein (S), ORF3a protein (ORF3a), envelope protein (E), membrane glycoprotein (M), ORF6 protein (ORF6), and ORF7a protein (ORF7a) genes, complete cds; ORF7b (ORF7b) and ORF8 protein (ORF8) genes, partial cds; and nucleocapsid phosphoprotein (N) and ORF10 protein (ORF10) genes, complete cds</td></tr><tr><td class = \"rowNumber\" style = \"font-weight: bold; text-align: right;\">9</td><td style = \"text-align: left;\">OP164783.1</td><td style = \"text-align: left;\"></td><td style = \"text-align: left;\">Afrad Moon,M.H., Qadri,F.</td><td style = \"text-align: left;\">2022-08-07T00:00:00Z</td><td style = \"text-align: left;\"></td><td style = \"text-align: left;\">4.1.2/1.12/v0.1.10/0.3.17</td><td style = \"text-align: left;\"></td><td style = \"text-align: left;\">icddrb-TND-04-1538</td><td style = \"text-align: left;\">Severe acute respiratory syndrome-related coronavirus</td><td style = \"text-align: left;\">Betacoronavirus</td><td style = \"text-align: left;\">Coronaviridae</td><td style = \"text-align: left;\">ssRNA(+)</td><td style = \"text-align: right;\">29722</td><td style = \"text-align: left;\">GenBank</td><td style = \"text-align: left;\">partial</td><td style = \"text-align: left;\"></td><td style = \"text-align: left;\"></td><td style = \"text-align: left;\"></td><td style = \"text-align: left;\">Bangladesh</td><td style = \"text-align: left;\">Bangladesh</td><td style = \"text-align: left;\"></td><td style = \"text-align: left;\">Homo sapiens</td><td style = \"text-align: left;\"></td><td style = \"text-align: left;\">2022-05-29</td><td style = \"text-align: left;\"></td><td style = \"text-align: left;\">Severe acute respiratory syndrome coronavirus 2 isolate SARS-CoV-2/human/BGD/icddrb-TND-04-1538/2022 ORF1ab polyprotein (ORF1ab), ORF1a polyprotein (ORF1ab), surface glycoprotein (S), ORF3a protein (ORF3a), envelope protein (E), membrane glycoprotein (M), ORF6 protein (ORF6), and ORF7a protein (ORF7a) genes, complete cds; ORF7b (ORF7b) gene, partial cds; ORF8 gene, partial sequence; and nucleocapsid phosphoprotein (N) and ORF10 protein (ORF10) genes, complete cds</td></tr><tr><td class = \"rowNumber\" style = \"font-weight: bold; text-align: right;\">10</td><td style = \"text-align: left;\">OP164784.1</td><td style = \"text-align: left;\"></td><td style = \"text-align: left;\">Afrad Moon,M.H., Qadri,F.</td><td style = \"text-align: left;\">2022-08-07T00:00:00Z</td><td style = \"text-align: left;\"></td><td style = \"text-align: left;\">4.1.2/1.12/v0.1.10/0.3.17</td><td style = \"text-align: left;\"></td><td style = \"text-align: left;\">icddrb-TND-04-1566</td><td style = \"text-align: left;\">Severe acute respiratory syndrome-related coronavirus</td><td style = \"text-align: left;\">Betacoronavirus</td><td style = \"text-align: left;\">Coronaviridae</td><td style = \"text-align: left;\">ssRNA(+)</td><td style = \"text-align: right;\">29722</td><td style = \"text-align: left;\">GenBank</td><td style = \"text-align: left;\">partial</td><td style = \"text-align: left;\"></td><td style = \"text-align: left;\"></td><td style = \"text-align: left;\"></td><td style = \"text-align: left;\">Bangladesh</td><td style = \"text-align: left;\">Bangladesh</td><td style = \"text-align: left;\"></td><td style = \"text-align: left;\">Homo sapiens</td><td style = \"text-align: left;\"></td><td style = \"text-align: left;\">2022-06-04</td><td style = \"text-align: left;\"></td><td style = \"text-align: left;\">Severe acute respiratory syndrome coronavirus 2 isolate SARS-CoV-2/human/BGD/icddrb-TND-04-1566/2022 ORF1ab polyprotein (ORF1ab), ORF1a polyprotein (ORF1ab), surface glycoprotein (S), ORF3a protein (ORF3a), envelope protein (E), membrane glycoprotein (M), ORF6 protein (ORF6), and ORF7a protein (ORF7a) genes, complete cds; ORF7b (ORF7b) gene, partial cds; ORF8 gene, partial sequence; and nucleocapsid phosphoprotein (N) and ORF10 protein (ORF10) genes, complete cds</td></tr></tbody></table></div>"
      ],
      "text/latex": [
       "\\begin{tabular}{r|cccc}\n",
       "\t& Accession & SRA\\_Accession & Submitters & \\\\\n",
       "\t\\hline\n",
       "\t& String & String & String & \\\\\n",
       "\t\\hline\n",
       "\t1 & NC\\_045512.2 &  & Wu,F., Zhao,S., Yu,B., Chen,Y.M., Wang,W., Song,Z.G., Hu,Y., Tao,Z.W., Tian,J.H., Pei,Y.Y., Yuan,M.L., Zhang,Y.L., Dai,F.H., Liu,Y., Wang,Q.M., Zheng,J.J., Xu,L., Holmes,E.C., Zhang,Y.Z., Baranov,P.V., Henderson,C.M., Anderson,C.B., Gesteland,R.F., Atkins,J.F., Howard,M.T., Robertson,M.P., Igel,H., Baertsch,R., Haussler,D., Ares,M. Jr., Scott,W.G., Williams,G.D., Chang,R.Y., Brian,D.A., Chen,Y.-M., Song,Z.-G., Tao,Z.-W., Tian,J.-H., Pei,Y.-Y., Zhang,Y.-L., Dai,F.-H., Wang,Q.-M., Zheng,J.-J., Zhang,Y.-Z. & $\\dots$ \\\\\n",
       "\t2 & OP164776.1 &  & Afrad Moon,M.H., Qadri,F. & $\\dots$ \\\\\n",
       "\t3 & OP164777.1 &  & Afrad Moon,M.H., Qadri,F. & $\\dots$ \\\\\n",
       "\t4 & OP164778.1 &  & Afrad Moon,M.H., Qadri,F. & $\\dots$ \\\\\n",
       "\t5 & OP164779.1 &  & Afrad Moon,M.H., Qadri,F. & $\\dots$ \\\\\n",
       "\t6 & OP164780.1 &  & Afrad Moon,M.H., Qadri,F. & $\\dots$ \\\\\n",
       "\t7 & OP164781.1 &  & Afrad Moon,M.H., Qadri,F. & $\\dots$ \\\\\n",
       "\t8 & OP164782.1 &  & Afrad Moon,M.H., Qadri,F. & $\\dots$ \\\\\n",
       "\t9 & OP164783.1 &  & Afrad Moon,M.H., Qadri,F. & $\\dots$ \\\\\n",
       "\t10 & OP164784.1 &  & Afrad Moon,M.H., Qadri,F. & $\\dots$ \\\\\n",
       "\\end{tabular}\n"
      ],
      "text/plain": [
       "\u001b[1m10×26 DataFrame\u001b[0m\n",
       "\u001b[1m Row \u001b[0m│\u001b[1m Accession   \u001b[0m\u001b[1m SRA_Accession \u001b[0m\u001b[1m Submitters                        \u001b[0m\u001b[1m Release_\u001b[0m ⋯\n",
       "     │\u001b[90m String      \u001b[0m\u001b[90m String        \u001b[0m\u001b[90m String                            \u001b[0m\u001b[90m String  \u001b[0m ⋯\n",
       "─────┼──────────────────────────────────────────────────────────────────────────\n",
       "   1 │ NC_045512.2                 Wu,F., Zhao,S., Yu,B., Chen,Y.M.…  2020-01- ⋯\n",
       "   2 │ OP164776.1                  Afrad Moon,M.H., Qadri,F.          2022-08-\n",
       "   3 │ OP164777.1                  Afrad Moon,M.H., Qadri,F.          2022-08-\n",
       "   4 │ OP164778.1                  Afrad Moon,M.H., Qadri,F.          2022-08-\n",
       "   5 │ OP164779.1                  Afrad Moon,M.H., Qadri,F.          2022-08- ⋯\n",
       "   6 │ OP164780.1                  Afrad Moon,M.H., Qadri,F.          2022-08-\n",
       "   7 │ OP164781.1                  Afrad Moon,M.H., Qadri,F.          2022-08-\n",
       "   8 │ OP164782.1                  Afrad Moon,M.H., Qadri,F.          2022-08-\n",
       "   9 │ OP164783.1                  Afrad Moon,M.H., Qadri,F.          2022-08- ⋯\n",
       "  10 │ OP164784.1                  Afrad Moon,M.H., Qadri,F.          2022-08-\n",
       "\u001b[36m                                                              23 columns omitted\u001b[0m"
      ]
     },
     "execution_count": 10,
     "metadata": {},
     "output_type": "execute_result"
    }
   ],
   "source": [
    "# f = metadata_file\n",
    "n = 10^1+1 # complete\n",
    "# n = 10^2+1\n",
    "# n = 10^3+1\n",
    "# n = 10^4+1\n",
    "# n = 10^5+1\n",
    "# n = 10^6+1\n",
    "# n = countlines(metadata_file)\n",
    "f = open(`head -n $(n) $metadata_file`)\n",
    "@time sequence_metadata = DataFrames.DataFrame(uCSV.read(f, quotes='\"', header=1, typedetectrows=100)...)"
   ]
  },
  {
   "cell_type": "code",
   "execution_count": 11,
   "id": "e927172f-f5bd-4797-bbae-3801e0a739e3",
   "metadata": {},
   "outputs": [
    {
     "data": {
      "text/plain": [
       "10-element Vector{String}:\n",
       " \"/home/jovyan/workspace/sars-cov2-pangenome-analysis//data/sequences/NC_045512.2.fna\"\n",
       " \"/home/jovyan/workspace/sars-cov2-pangenome-analysis//data/sequences/OP164776.1.fna\"\n",
       " \"/home/jovyan/workspace/sars-cov2-pangenome-analysis//data/sequences/OP164777.1.fna\"\n",
       " \"/home/jovyan/workspace/sars-cov2-pangenome-analysis//data/sequences/OP164778.1.fna\"\n",
       " \"/home/jovyan/workspace/sars-cov2-pangenome-analysis//data/sequences/OP164779.1.fna\"\n",
       " \"/home/jovyan/workspace/sars-cov2-pangenome-analysis//data/sequences/OP164780.1.fna\"\n",
       " \"/home/jovyan/workspace/sars-cov2-pangenome-analysis//data/sequences/OP164781.1.fna\"\n",
       " \"/home/jovyan/workspace/sars-cov2-pangenome-analysis//data/sequences/OP164782.1.fna\"\n",
       " \"/home/jovyan/workspace/sars-cov2-pangenome-analysis//data/sequences/OP164783.1.fna\"\n",
       " \"/home/jovyan/workspace/sars-cov2-pangenome-analysis//data/sequences/OP164784.1.fna\""
      ]
     },
     "execution_count": 11,
     "metadata": {},
     "output_type": "execute_result"
    }
   ],
   "source": [
    "fastx_files = map(x -> \"$(sequences_directory)/$(x).fna\", sequence_metadata[!, \"Accession\"])"
   ]
  },
  {
   "cell_type": "code",
   "execution_count": 12,
   "id": "4c1458a2-ffb7-4da8-97ca-d166d4d75d94",
   "metadata": {},
   "outputs": [
    {
     "data": {
      "text/plain": [
       "{10, 0} directed Int64 metagraph with Float64 weights defined by :weight (default weight 1.0)"
      ]
     },
     "execution_count": 12,
     "metadata": {},
     "output_type": "execute_result"
    }
   ],
   "source": [
    "graph = Mycelia.initialize_graph()\n",
    "graph = Mycelia.add_fastx_to_graph!(graph, fastx_files)\n",
    "graph = Mycelia.add_metadata_from_table!(graph, sequence_metadata, identifier_column = \"Accession\")"
   ]
  },
  {
   "cell_type": "code",
   "execution_count": 13,
   "id": "b3f9145c-e26b-4669-b7e3-847828a8f5ac",
   "metadata": {},
   "outputs": [
    {
     "data": {
      "text/plain": [
       "1-element Vector{Int64}:\n",
       " 31"
      ]
     },
     "execution_count": 13,
     "metadata": {},
     "output_type": "execute_result"
    }
   ],
   "source": [
    "# max_k = Mycelia.assess_dnamer_saturation(fastx_files)\n",
    "# max_k = 31\n",
    "# min_k=17\n",
    "# max_k=17\n",
    "min_k=max_k=31\n",
    "kmer_sizes = Primes.primes(min_k, max_k)"
   ]
  },
  {
   "cell_type": "code",
   "execution_count": 14,
   "id": "287a9329-88ac-4eba-b231-65f8263ca935",
   "metadata": {},
   "outputs": [
    {
     "name": "stdout",
     "output_type": "stream",
     "text": [
      "kmer_size = 31\n",
      "  6.483784 seconds (23.62 M allocations: 1.884 GiB, 19.10% gc time)\n"
     ]
    }
   ],
   "source": [
    "for kmer_size in kmer_sizes\n",
    "    @show kmer_size\n",
    "    @time Mycelia.add_fasta_record_kmers_to_graph!(graph, kmer_size)\n",
    "end"
   ]
  },
  {
   "cell_type": "code",
   "execution_count": 15,
   "id": "f2c26570-b7dd-4be7-8c8b-bd87cb530041",
   "metadata": {},
   "outputs": [
    {
     "name": "stdout",
     "output_type": "stream",
     "text": [
      "kmer_size = 31\n",
      "  1.639356 seconds (3.32 M allocations: 188.443 MiB, 28.76% gc time, 24.27% compilation time)\n"
     ]
    }
   ],
   "source": [
    "for kmer_size in kmer_sizes\n",
    "    @show kmer_size\n",
    "    @time Mycelia.graph_to_gfa(graph, kmer_size)\n",
    "end"
   ]
  },
  {
   "cell_type": "code",
   "execution_count": 16,
   "id": "849e57c7-3180-410f-92b1-d29d484010f6",
   "metadata": {},
   "outputs": [
    {
     "name": "stdout",
     "output_type": "stream",
     "text": [
      "gfa = \"/home/jovyan/workspace/scratch/2022-10-29/31.gfa\"\n"
     ]
    },
    {
     "name": "stderr",
     "output_type": "stream",
     "text": [
      "QStandardPaths: XDG_RUNTIME_DIR not set, defaulting to '/tmp/runtime-jovyan'\n",
      "QStandardPaths: XDG_RUNTIME_DIR not set, defaulting to '/tmp/runtime-jovyan'\n",
      "QStandardPaths: XDG_RUNTIME_DIR not set, defaulting to '/tmp/runtime-jovyan'\n"
     ]
    }
   ],
   "source": [
    "for gfa in filter(x -> occursin(r\"\\.gfa$\", x), readdir(working_directory, join=true))\n",
    "    @show gfa\n",
    "    for nodewidth in [100, 500, 1000]\n",
    "        gfa_img = \"$(gfa).$(nodewidth).jpg\"\n",
    "        if !isfile(gfa_img)\n",
    "            run(`Bandage image $gfa $gfa_img --deppower 1 --depwidth 1 --nodewidth $(nodewidth)`)\n",
    "        end\n",
    "    end\n",
    "end"
   ]
  },
  {
   "cell_type": "code",
   "execution_count": 17,
   "id": "0ecb8670-e510-40ab-971d-3a32595ca2a3",
   "metadata": {},
   "outputs": [
    {
     "name": "stdout",
     "output_type": "stream",
     "text": [
      "Stopping Neo4j....... stopped.\n",
      "Directories in use:\n",
      "home:         /home/jovyan/.local/neo4j-community-4.4.11\n",
      "config:       /home/jovyan/.local/neo4j-community-4.4.11/conf\n",
      "logs:         /home/jovyan/.local/neo4j-community-4.4.11/logs\n",
      "plugins:      /home/jovyan/.local/neo4j-community-4.4.11/plugins\n",
      "import:       /home/jovyan/.local/neo4j-community-4.4.11/import\n",
      "data:         /home/jovyan/.local/neo4j-community-4.4.11/data\n",
      "certificates: /home/jovyan/.local/neo4j-community-4.4.11/certificates\n",
      "licenses:     /home/jovyan/.local/neo4j-community-4.4.11/licenses\n",
      "run:          /home/jovyan/.local/neo4j-community-4.4.11/run\n",
      "Starting Neo4j.\n",
      "Started neo4j (pid:68097). It is available at http://localhost:7474\n",
      "There may be a short delay until the server is ready.\n",
      "Neo4j is running at pid 68097\n"
     ]
    },
    {
     "data": {
      "text/plain": [
       "Process(`\u001b[4m/home/jovyan/.local/neo4j-community-4.4.11/bin/neo4j\u001b[24m \u001b[4mstatus\u001b[24m`, ProcessExited(0))"
      ]
     },
     "execution_count": 17,
     "metadata": {},
     "output_type": "execute_result"
    }
   ],
   "source": [
    "run(`$(NEO4J_PATH)/bin/neo4j stop`)\n",
    "run(`$(NEO4J_PATH)/bin/neo4j start`)\n",
    "sleep(3)\n",
    "run(`$(NEO4J_PATH)/bin/neo4j status`)"
   ]
  },
  {
   "cell_type": "code",
   "execution_count": null,
   "id": "56c045dd-e653-409d-8008-fd2ab480edae",
   "metadata": {},
   "outputs": [],
   "source": [
    "# Mycelia.list_databases(address=local_neo4j_bolt_address, password=local_neo4j_password)"
   ]
  },
  {
   "cell_type": "code",
   "execution_count": 20,
   "id": "331ab9c2-bcee-4b58-b2a7-84aea130e4b9",
   "metadata": {},
   "outputs": [
    {
     "name": "stdout",
     "output_type": "stream",
     "text": [
      "cypher = `/home/jovyan/.local/cypher-shell/cypher-shell --address bolt://localhost:7687 --username neo4j --password ii0sRIc --format auto --database neo4j 'CREATE CONSTRAINT ON (t:\\`FASTX.FASTA.Record\\`) ASSERT t.identifier IS UNIQUE'`\n"
     ]
    },
    {
     "name": "stderr",
     "output_type": "stream",
     "text": [
      "An equivalent constraint already exists, 'Constraint( id=4, name='constraint_a0af4ea1', type='UNIQUENESS', schema=(:FASTX.FASTA.Record {identifier}), ownedIndex=3 )'.\n"
     ]
    },
    {
     "name": "stdout",
     "output_type": "stream",
     "text": [
      "cypher = `/home/jovyan/.local/cypher-shell/cypher-shell --address bolt://localhost:7687 --username neo4j --password ii0sRIc --format auto --database neo4j 'CREATE CONSTRAINT ON (t:\\`Kmers.DNAKmer{31}\\`) ASSERT t.identifier IS UNIQUE'`\n"
     ]
    },
    {
     "name": "stderr",
     "output_type": "stream",
     "text": [
      "An equivalent constraint already exists, 'Constraint( id=6, name='constraint_e07b72f7', type='UNIQUENESS', schema=(:Kmers.DNAKmer{31} {identifier}), ownedIndex=5 )'.\n"
     ]
    }
   ],
   "source": [
    "Mycelia.create_node_constraints(graph, address=local_neo4j_bolt_address, password=local_neo4j_password)"
   ]
  },
  {
   "cell_type": "code",
   "execution_count": 21,
   "id": "e9e53adb-b450-4836-9005-9cb3a9340ce5",
   "metadata": {},
   "outputs": [
    {
     "name": "stdout",
     "output_type": "stream",
     "text": [
      "count\n",
      "0\n"
     ]
    },
    {
     "data": {
      "text/plain": [
       "Process(`\u001b[4m/home/jovyan/.local/cypher-shell/cypher-shell\u001b[24m \u001b[4m--address\u001b[24m \u001b[4mbolt://localhost:7687\u001b[24m \u001b[4m--username\u001b[24m \u001b[4mneo4j\u001b[24m \u001b[4m--password\u001b[24m \u001b[4mii0sRIc\u001b[24m \u001b[4m--format\u001b[24m \u001b[4mauto\u001b[24m \u001b[4m--database\u001b[24m \u001b[4mneo4j\u001b[24m \u001b[4m'MATCH (n) RETURN count(n) as count'\u001b[24m`, ProcessExited(0))"
      ]
     },
     "execution_count": 21,
     "metadata": {},
     "output_type": "execute_result"
    }
   ],
   "source": [
    "run(Mycelia.cypher(\"MATCH (n) DETACH DELETE n\", address=local_neo4j_bolt_address, password=local_neo4j_password))\n",
    "run(Mycelia.cypher(\"MATCH (n) RETURN count(n) as count\", address=local_neo4j_bolt_address, password=local_neo4j_password))\n",
    "# run(Mycelia.cypher(\"MATCH (n) DETACH DELETE n\", address=local_neo4j_bolt_address, password=local_neo4j_password))"
   ]
  },
  {
   "cell_type": "code",
   "execution_count": 22,
   "id": "9e857790-f8c2-498b-af2d-e69a44f15788",
   "metadata": {},
   "outputs": [
    {
     "name": "stderr",
     "output_type": "stream",
     "text": [
      "┌ Info: uploading node_type => FASTX.FASTA.Record...\n",
      "└ @ Mycelia /home/jovyan/work/Mycelia/src/database-interaction.jl:79\n"
     ]
    },
    {
     "ename": "LoadError",
     "evalue": "UndefVarError: JSON not defined",
     "output_type": "error",
     "traceback": [
      "UndefVarError: JSON not defined",
      "",
      "Stacktrace:",
      " [1] node_type_to_dataframe(; node_type::Type, graph::MetaGraphs.MetaDiGraph{Int64, Float64})",
      "   @ Mycelia ~/work/Mycelia/src/database-interaction.jl:105",
      " [2] upload_nodes_to_neo4j(; graph::MetaGraphs.MetaDiGraph{Int64, Float64}, address::String, username::String, password::String, format::String, database::String, neo4j_import_directory::String)",
      "   @ Mycelia ~/work/Mycelia/src/database-interaction.jl:80",
      " [3] top-level scope",
      "   @ In[22]:1",
      " [4] eval",
      "   @ ./boot.jl:360 [inlined]",
      " [5] include_string(mapexpr::typeof(REPL.softscope), mod::Module, code::String, filename::String)",
      "   @ Base ./loading.jl:1116"
     ]
    }
   ],
   "source": [
    "Mycelia.upload_nodes_to_neo4j(graph=graph, address=local_neo4j_bolt_address, password=local_neo4j_password, neo4j_import_directory=neo4j_local_import_directory)"
   ]
  },
  {
   "cell_type": "code",
   "execution_count": 23,
   "id": "f171b9d4-a4b0-47f2-8f2e-51828ffb72c1",
   "metadata": {},
   "outputs": [
    {
     "name": "stdout",
     "output_type": "stream",
     "text": [
      "count\n",
      "0\n"
     ]
    },
    {
     "data": {
      "text/plain": [
       "Process(`\u001b[4m/home/jovyan/.local/cypher-shell/cypher-shell\u001b[24m \u001b[4m--address\u001b[24m \u001b[4mbolt://localhost:7687\u001b[24m \u001b[4m--username\u001b[24m \u001b[4mneo4j\u001b[24m \u001b[4m--password\u001b[24m \u001b[4mii0sRIc\u001b[24m \u001b[4m--format\u001b[24m \u001b[4mauto\u001b[24m \u001b[4m--database\u001b[24m \u001b[4mneo4j\u001b[24m \u001b[4m'MATCH (n) RETURN count(n) as count'\u001b[24m`, ProcessExited(0))"
      ]
     },
     "execution_count": 23,
     "metadata": {},
     "output_type": "execute_result"
    }
   ],
   "source": [
    "run(Mycelia.cypher(\"MATCH (n) RETURN count(n) as count\", address=local_neo4j_bolt_address, password=local_neo4j_password))"
   ]
  },
  {
   "cell_type": "code",
   "execution_count": null,
   "id": "5d3f07ed-4057-406c-9494-2d217f0ac048",
   "metadata": {},
   "outputs": [],
   "source": [
    "Graphs.nv(graph)"
   ]
  },
  {
   "cell_type": "code",
   "execution_count": null,
   "id": "5c7c701a-fef8-4048-8864-13634b2f0df1",
   "metadata": {},
   "outputs": [],
   "source": [
    "function upload_edges_to_neo4j(;graph, address, username=\"neo4j\", password, format=\"auto\", database=\"neo4j\", neo4j_import_directory)\n",
    "    \n",
    "    edge_types = unique(MetaGraphs.props(graph, e)[:TYPE] for e in Graphs.edges(graph))\n",
    "    for edge_type in edge_types\n",
    "        @info \"uploading edge_type => $(Mycelia.type_to_string(edge_type))...\"\n",
    "        edge_type_table = edge_type_to_dataframe(edge_type=edge_type, graph=graph)\n",
    "        upload_edge_table(table=edge_type_table, address=address, password=password, neo4j_import_dir=neo4j_import_directory)\n",
    "    end\n",
    "    @info \"done!\"\n",
    "end\n",
    "\n",
    "function edge_type_to_dataframe(;edge_type, graph)\n",
    "    edges = filter(e -> MetaGraphs.props(graph, e)[:TYPE] == edge_type, collect(Graphs.edges(graph)))\n",
    "    edge_type_parameters = unique(reduce(vcat, map(e -> collect(keys(MetaGraphs.props(graph, e))), edges)))\n",
    "    edge_type_table = DataFrames.DataFrame(Dict(p => [] for p in edge_type_parameters))\n",
    "    edge_type_table[!, \"src\"] = String[]\n",
    "    edge_type_table[!, \"dst\"] = String[]\n",
    "    for edge in edges\n",
    "        edge_dict = copy(MetaGraphs.props(graph, edge))\n",
    "        edge_dict[:src] = string(MetaGraphs.props(graph, edge.src)[:identifier])\n",
    "        edge_dict[:dst] = string(MetaGraphs.props(graph, edge.dst)[:identifier])\n",
    "        push!(edge_type_table, edge_dict)\n",
    "    end\n",
    "    # normalize\n",
    "    edge_type_table[!, \"TYPE\"] = Mycelia.type_to_string.(edge_type_table[!, \"TYPE\"])\n",
    "    for column in names(edge_type_table)\n",
    "        T = Union{unique(typeof.(edge_type_table[!, column]))...}\n",
    "        if T <: AbstractDict\n",
    "            edge_type_table[!, column] = map(d -> JSON.json(string(JSON.json(d))), edge_type_table[!, column])\n",
    "        else\n",
    "            edge_type_table[!, column] = JSON.json.(string.(edge_type_table[!, column]))\n",
    "        end\n",
    "    end\n",
    "    return edge_type_table\n",
    "end\n",
    "\n",
    "function upload_edge_table(;table, window_size=1000, address, password, username=\"neo4j\", database=\"neo4j\", neo4j_import_dir)\n",
    "    nrows = DataFrames.nrow(table)\n",
    "    windows = (i:min(i+window_size-1,nrows) for i in 1:window_size:nrows)\n",
    "    \n",
    "    edge_types = unique(table[!, \"TYPE\"])\n",
    "    @assert length(edge_types) == 1\n",
    "    EDGE_TYPE = first(edge_types)\n",
    "    parameters = [\"$(n): row.$(n)\" for n in filter(x -> !(x in [\"TYPE\"]), names(table))]\n",
    "    parameters = \"{\" * join(parameters, \", \") * \"}\"\n",
    "\n",
    "    ProgressMeter.@showprogress for (i, window) in enumerate(windows)\n",
    "        df_sub = table[window, :]\n",
    "        f = \"edge$i.tsv\"\n",
    "        local_f_path = \"$(neo4j_import_dir)/$(f)\"\n",
    "        uCSV.write(local_f_path, df_sub, delim='\\t')\n",
    "        run(`chmod 777 $(local_f_path)`)\n",
    "        f_url = \"file:///$(f)\"\n",
    "        cmd =\n",
    "        \"\"\"\n",
    "        LOAD CSV WITH HEADERS FROM '$(f_url)' AS row FIELDTERMINATOR '\\t'\n",
    "        MATCH (src {identifier: row.src})\n",
    "        MATCH (dst {identifier: row.dst})\n",
    "        MERGE (src)-[p:`$(EDGE_TYPE)` $(parameters)]->(dst)\n",
    "        \"\"\"\n",
    "        # had been merge above!\n",
    "        # create Progress:   2%|▊                                        |  ETA: 1:04:39\n",
    "        # merge Progress:   3%|█▍                                       |  ETA: 1:25:12\n",
    "        cmd = rstrip(replace(cmd, '\\n' => ' '))\n",
    "        cypher_cmd = Mycelia.cypher(cmd, address = address, username = username, password = password, database = database)\n",
    "        run(cypher_cmd)\n",
    "        # rm(local_f_path)\n",
    "    end\n",
    "end"
   ]
  },
  {
   "cell_type": "code",
   "execution_count": null,
   "id": "fbec7d1d-a5bd-4b87-a4ed-337a5c94568c",
   "metadata": {},
   "outputs": [],
   "source": [
    "upload_edges_to_neo4j(graph=graph, address=local_neo4j_bolt_address, password=local_neo4j_password, neo4j_import_directory=neo4j_local_import_directory)"
   ]
  },
  {
   "cell_type": "code",
   "execution_count": null,
   "id": "294ecc71-2797-418c-9e73-cd224ff91c09",
   "metadata": {},
   "outputs": [],
   "source": [
    "run(Mycelia.cypher(\"MATCH (n1)-[r]->(n2) return count(r)\", address=local_neo4j_bolt_address, password=local_neo4j_password))"
   ]
  },
  {
   "cell_type": "code",
   "execution_count": null,
   "id": "1012a090-72a0-4467-b710-67848b197947",
   "metadata": {},
   "outputs": [],
   "source": [
    "run(Mycelia.cypher(\"MATCH (n1)-[r]->(n2) return r LIMIT 25\", address=local_neo4j_bolt_address, password=local_neo4j_password))"
   ]
  },
  {
   "cell_type": "code",
   "execution_count": null,
   "id": "6b5f15fa-978d-4d61-bba4-af3dc7dca2a3",
   "metadata": {},
   "outputs": [],
   "source": [
    "Graphs.ne(graph)"
   ]
  },
  {
   "cell_type": "code",
   "execution_count": null,
   "id": "c1f3a5c4-09ca-41f3-88f6-89e457cf8fda",
   "metadata": {},
   "outputs": [],
   "source": [
    "datetime = replace(string(Dates.now()), r\"[\\-:.a-zA-Z]\" => \"\")\n",
    "neo4j_dump = \"$(working_directory)/neo4j-covid-database-$(n)-$(datetime).dump\""
   ]
  },
  {
   "cell_type": "code",
   "execution_count": null,
   "id": "2af62c3c-6445-4ada-b766-31bbfa1d2cbc",
   "metadata": {},
   "outputs": [],
   "source": [
    "run(`$(NEO4J_PATH)/bin/neo4j stop`)\n",
    "run(`$(NEO4J_PATH)/bin/neo4j-admin dump --database=neo4j --to=$(neo4j_dump)`)\n",
    "run(`$(NEO4J_PATH)/bin/neo4j start`)"
   ]
  },
  {
   "cell_type": "code",
   "execution_count": null,
   "id": "22cc3400-e6f4-491a-bbe5-cb484fdfcb84",
   "metadata": {},
   "outputs": [],
   "source": [
    "println(\"scp $(neo4j_dump) cameron@odin.lcfta.com:/mnt/coldstorage/neo4j/import/$(basename(neo4j_dump))\")"
   ]
  },
  {
   "cell_type": "markdown",
   "id": "c86a2789-ddab-47f9-bfea-3de931531321",
   "metadata": {},
   "source": [
    "to reload new database\n",
    "- `scp local/path/to/db.dump cameron@odin.lcfta.com:/mnt/coldstorage/neo4j/import/db.dump`\n",
    "- `ssh cameron@odin.lcfta.com`\n",
    "- `sudo docker stop neo4j && sudo docker rm neo4j`\n",
    "- `sudo docker stop neo4jloader && sudo docker rm neo4jloader`\n",
    "- `sudo chmod -R 777 /mnt/coldstorage/neo4j && sudo bash /mnt/coldstorage/git/docker-neo4j/loaddb.sh /var/lib/neo4j/import/neo4j-covid-database-10-20221014181634424.dump`\n",
    "    - the above now contains `/var/lib/neo4j/bin/neo4j-admin load --from=/var/lib/neo4j/import/neo4j-covid-database-10-20221001235948609.dump --database=neo4j --force\"`\n",
    "- `cd /mnt/coldstorage/git/docker-neo4j && sudo ./reinit.sh`\n",
    "\n",
    "get container ID\n",
    "- `sudo docker container ls`"
   ]
  },
  {
   "cell_type": "code",
   "execution_count": null,
   "id": "b355de87-bbb0-4b54-a5f3-4774d2f4f6b7",
   "metadata": {},
   "outputs": [],
   "source": []
  }
 ],
 "metadata": {
  "kernelspec": {
   "display_name": "Julia 1.6.3",
   "language": "julia",
   "name": "julia-1.6"
  },
  "language_info": {
   "file_extension": ".jl",
   "mimetype": "application/julia",
   "name": "julia",
   "version": "1.6.3"
  }
 },
 "nbformat": 4,
 "nbformat_minor": 5
}
