{
 "cells": [
  {
   "cell_type": "code",
   "execution_count": 1,
   "id": "13ee64af-0976-4f02-8482-6300571e7284",
   "metadata": {},
   "outputs": [
    {
     "name": "stderr",
     "output_type": "stream",
     "text": [
      "\u001b[32m\u001b[1m    Updating\u001b[22m\u001b[39m registry at `/opt/julia/registries/General`\n",
      "\u001b[32m\u001b[1m  No Changes\u001b[22m\u001b[39m to `~/work/Mycelia/Project.toml`\n",
      "\u001b[32m\u001b[1m  No Changes\u001b[22m\u001b[39m to `~/work/Mycelia/Manifest.toml`\n",
      "\u001b[32m\u001b[1mPrecompiling\u001b[22m\u001b[39m project...\n",
      "\u001b[32m  ✓ \u001b[39mMycelia\n",
      "  1 dependency successfully precompiled in 20 seconds (232 already precompiled)\n",
      "\u001b[32m\u001b[1m   Resolving\u001b[22m\u001b[39m package versions...\n",
      "\u001b[32m\u001b[1m  No Changes\u001b[22m\u001b[39m to `~/work/Mycelia/Project.toml`\n",
      "\u001b[32m\u001b[1m  No Changes\u001b[22m\u001b[39m to `~/work/Mycelia/Manifest.toml`\n"
     ]
    }
   ],
   "source": [
    "import Pkg\n",
    "Pkg.update()\n",
    "\n",
    "pkgs = [\n",
    "    \"Revise\",\n",
    "    \"MetaGraphs\",\n",
    "    \"Graphs\",\n",
    "    \"JSON\",\n",
    "    \"uCSV\",\n",
    "    \"DataFrames\",\n",
    "    \"Dates\",\n",
    "    \"Primes\",\n",
    "    \"Kmers\",\n",
    "    \"BioSequences\",\n",
    "    \"FASTX\"\n",
    "]\n",
    "\n",
    "Pkg.add(pkgs)\n",
    "for pkg in pkgs\n",
    "    eval(Meta.parse(\"import $pkg\"))\n",
    "end\n",
    "\n",
    "# Pkg.add(url=\"https://github.com/cjprybol/Mycelia.git\", rev=\"master\")\n",
    "# Pkg.develop(path=\"$(homedir())/workspace/Mycelia\")\n",
    "import Mycelia"
   ]
  },
  {
   "cell_type": "code",
   "execution_count": 2,
   "id": "92f92e84-19ab-47c6-ba60-e28b374bf5b1",
   "metadata": {
    "tags": [
     "parameters"
    ]
   },
   "outputs": [
    {
     "data": {
      "text/plain": [
       "\"/home/jovyan/workspace/scratch/2022-09-11\""
      ]
     },
     "execution_count": 2,
     "metadata": {},
     "output_type": "execute_result"
    }
   ],
   "source": [
    "#papermill parameters\n",
    "base_directory = \"$(homedir())/workspace/sars-cov2-pangenome-analysis/\"\n",
    "sequences_directory = \"$(base_directory)/data/sequences\"\n",
    "metadata_file = \"$(base_directory)/metadata/sequences.csv\"\n",
    "working_directory = \"$(homedir())/workspace/scratch/$(Dates.today())\""
   ]
  },
  {
   "cell_type": "code",
   "execution_count": 3,
   "id": "bc31b34b-2228-4112-ac1f-c12c5a16e817",
   "metadata": {},
   "outputs": [],
   "source": [
    "mkpath(working_directory)\n",
    "cd(working_directory)"
   ]
  },
  {
   "cell_type": "code",
   "execution_count": 4,
   "id": "b596c7c3-c38a-4fa2-b134-bd16aef01418",
   "metadata": {},
   "outputs": [
    {
     "name": "stdout",
     "output_type": "stream",
     "text": [
      "  3.718736 seconds (7.92 M allocations: 481.020 MiB, 3.33% gc time, 76.04% compilation time)\n"
     ]
    },
    {
     "data": {
      "text/html": [
       "<div class=\"data-frame\"><p>9 rows × 26 columns (omitted printing of 23 columns)</p><table class=\"data-frame\"><thead><tr><th></th><th>Accession</th><th>SRA_Accession</th><th>Submitters</th></tr><tr><th></th><th title=\"String\">String</th><th title=\"String\">String</th><th title=\"String\">String</th></tr></thead><tbody><tr><th>1</th><td>NC_045512.2</td><td></td><td>Wu,F., Zhao,S., Yu,B., Chen,Y.M., Wang,W., Song,Z.G., Hu,Y., Tao,Z.W., Tian,J.H., Pei,Y.Y., Yuan,M.L., Zhang,Y.L., Dai,F.H., Liu,Y., Wang,Q.M., Zheng,J.J., Xu,L., Holmes,E.C., Zhang,Y.Z., Baranov,P.V., Henderson,C.M., Anderson,C.B., Gesteland,R.F., Atkins,J.F., Howard,M.T., Robertson,M.P., Igel,H., Baertsch,R., Haussler,D., Ares,M. Jr., Scott,W.G., Williams,G.D., Chang,R.Y., Brian,D.A., Chen,Y.-M., Song,Z.-G., Tao,Z.-W., Tian,J.-H., Pei,Y.-Y., Zhang,Y.-L., Dai,F.-H., Wang,Q.-M., Zheng,J.-J., Zhang,Y.-Z.</td></tr><tr><th>2</th><td>OP164776.1</td><td></td><td>Afrad Moon,M.H., Qadri,F.</td></tr><tr><th>3</th><td>OP164777.1</td><td></td><td>Afrad Moon,M.H., Qadri,F.</td></tr><tr><th>4</th><td>OP164778.1</td><td></td><td>Afrad Moon,M.H., Qadri,F.</td></tr><tr><th>5</th><td>OP164779.1</td><td></td><td>Afrad Moon,M.H., Qadri,F.</td></tr><tr><th>6</th><td>OP164780.1</td><td></td><td>Afrad Moon,M.H., Qadri,F.</td></tr><tr><th>7</th><td>OP164781.1</td><td></td><td>Afrad Moon,M.H., Qadri,F.</td></tr><tr><th>8</th><td>OP164782.1</td><td></td><td>Afrad Moon,M.H., Qadri,F.</td></tr><tr><th>9</th><td>OP164783.1</td><td></td><td>Afrad Moon,M.H., Qadri,F.</td></tr></tbody></table></div>"
      ],
      "text/latex": [
       "\\begin{tabular}{r|cccc}\n",
       "\t& Accession & SRA\\_Accession & Submitters & \\\\\n",
       "\t\\hline\n",
       "\t& String & String & String & \\\\\n",
       "\t\\hline\n",
       "\t1 & NC\\_045512.2 &  & Wu,F., Zhao,S., Yu,B., Chen,Y.M., Wang,W., Song,Z.G., Hu,Y., Tao,Z.W., Tian,J.H., Pei,Y.Y., Yuan,M.L., Zhang,Y.L., Dai,F.H., Liu,Y., Wang,Q.M., Zheng,J.J., Xu,L., Holmes,E.C., Zhang,Y.Z., Baranov,P.V., Henderson,C.M., Anderson,C.B., Gesteland,R.F., Atkins,J.F., Howard,M.T., Robertson,M.P., Igel,H., Baertsch,R., Haussler,D., Ares,M. Jr., Scott,W.G., Williams,G.D., Chang,R.Y., Brian,D.A., Chen,Y.-M., Song,Z.-G., Tao,Z.-W., Tian,J.-H., Pei,Y.-Y., Zhang,Y.-L., Dai,F.-H., Wang,Q.-M., Zheng,J.-J., Zhang,Y.-Z. & $\\dots$ \\\\\n",
       "\t2 & OP164776.1 &  & Afrad Moon,M.H., Qadri,F. & $\\dots$ \\\\\n",
       "\t3 & OP164777.1 &  & Afrad Moon,M.H., Qadri,F. & $\\dots$ \\\\\n",
       "\t4 & OP164778.1 &  & Afrad Moon,M.H., Qadri,F. & $\\dots$ \\\\\n",
       "\t5 & OP164779.1 &  & Afrad Moon,M.H., Qadri,F. & $\\dots$ \\\\\n",
       "\t6 & OP164780.1 &  & Afrad Moon,M.H., Qadri,F. & $\\dots$ \\\\\n",
       "\t7 & OP164781.1 &  & Afrad Moon,M.H., Qadri,F. & $\\dots$ \\\\\n",
       "\t8 & OP164782.1 &  & Afrad Moon,M.H., Qadri,F. & $\\dots$ \\\\\n",
       "\t9 & OP164783.1 &  & Afrad Moon,M.H., Qadri,F. & $\\dots$ \\\\\n",
       "\\end{tabular}\n"
      ],
      "text/plain": [
       "\u001b[1m9×26 DataFrame\u001b[0m\n",
       "\u001b[1m Row \u001b[0m│\u001b[1m Accession   \u001b[0m\u001b[1m SRA_Accession \u001b[0m\u001b[1m Submitters                        \u001b[0m\u001b[1m Release_\u001b[0m ⋯\n",
       "\u001b[1m     \u001b[0m│\u001b[90m String      \u001b[0m\u001b[90m String        \u001b[0m\u001b[90m String                            \u001b[0m\u001b[90m String  \u001b[0m ⋯\n",
       "─────┼──────────────────────────────────────────────────────────────────────────\n",
       "   1 │ NC_045512.2                 Wu,F., Zhao,S., Yu,B., Chen,Y.M.…  2020-01- ⋯\n",
       "   2 │ OP164776.1                  Afrad Moon,M.H., Qadri,F.          2022-08-\n",
       "   3 │ OP164777.1                  Afrad Moon,M.H., Qadri,F.          2022-08-\n",
       "   4 │ OP164778.1                  Afrad Moon,M.H., Qadri,F.          2022-08-\n",
       "   5 │ OP164779.1                  Afrad Moon,M.H., Qadri,F.          2022-08- ⋯\n",
       "   6 │ OP164780.1                  Afrad Moon,M.H., Qadri,F.          2022-08-\n",
       "   7 │ OP164781.1                  Afrad Moon,M.H., Qadri,F.          2022-08-\n",
       "   8 │ OP164782.1                  Afrad Moon,M.H., Qadri,F.          2022-08-\n",
       "   9 │ OP164783.1                  Afrad Moon,M.H., Qadri,F.          2022-08- ⋯\n",
       "\u001b[36m                                                              23 columns omitted\u001b[0m"
      ]
     },
     "execution_count": 4,
     "metadata": {},
     "output_type": "execute_result"
    }
   ],
   "source": [
    "# f = metadata_file\n",
    "f = open(`head $metadata_file`)\n",
    "@time sequence_metadata = DataFrames.DataFrame(uCSV.read(f, quotes='\"', header=1, typedetectrows=100)...)"
   ]
  },
  {
   "cell_type": "code",
   "execution_count": 5,
   "id": "e927172f-f5bd-4797-bbae-3801e0a739e3",
   "metadata": {},
   "outputs": [
    {
     "data": {
      "text/plain": [
       "9-element Vector{String}:\n",
       " \"/home/jovyan/workspace/sars-cov2-pangenome-analysis//data/sequences/NC_045512.2.fna\"\n",
       " \"/home/jovyan/workspace/sars-cov2-pangenome-analysis//data/sequences/OP164776.1.fna\"\n",
       " \"/home/jovyan/workspace/sars-cov2-pangenome-analysis//data/sequences/OP164777.1.fna\"\n",
       " \"/home/jovyan/workspace/sars-cov2-pangenome-analysis//data/sequences/OP164778.1.fna\"\n",
       " \"/home/jovyan/workspace/sars-cov2-pangenome-analysis//data/sequences/OP164779.1.fna\"\n",
       " \"/home/jovyan/workspace/sars-cov2-pangenome-analysis//data/sequences/OP164780.1.fna\"\n",
       " \"/home/jovyan/workspace/sars-cov2-pangenome-analysis//data/sequences/OP164781.1.fna\"\n",
       " \"/home/jovyan/workspace/sars-cov2-pangenome-analysis//data/sequences/OP164782.1.fna\"\n",
       " \"/home/jovyan/workspace/sars-cov2-pangenome-analysis//data/sequences/OP164783.1.fna\""
      ]
     },
     "execution_count": 5,
     "metadata": {},
     "output_type": "execute_result"
    }
   ],
   "source": [
    "fastx_files = map(x -> \"$(sequences_directory)/$(x).fna\", sequence_metadata[!, \"Accession\"])"
   ]
  },
  {
   "cell_type": "code",
   "execution_count": 52,
   "id": "4c1458a2-ffb7-4da8-97ca-d166d4d75d94",
   "metadata": {},
   "outputs": [
    {
     "data": {
      "text/plain": [
       "{9, 0} directed Int64 metagraph with Float64 weights defined by :weight (default weight 1.0)"
      ]
     },
     "execution_count": 52,
     "metadata": {},
     "output_type": "execute_result"
    }
   ],
   "source": [
    "graph = Mycelia.initialize_graph()\n",
    "graph = Mycelia.add_fastx_to_graph!(graph, fastx_files)\n",
    "Mycelia.add_metadata_from_table!(graph, sequence_metadata, identifier_column = \"Accession\")"
   ]
  },
  {
   "cell_type": "code",
   "execution_count": 55,
   "id": "b3f9145c-e26b-4669-b7e3-847828a8f5ac",
   "metadata": {},
   "outputs": [
    {
     "data": {
      "text/plain": [
       "{99284, 963771} directed Int64 metagraph with Float64 weights defined by :weight (default weight 1.0)"
      ]
     },
     "execution_count": 55,
     "metadata": {},
     "output_type": "execute_result"
    }
   ],
   "source": [
    "# max_k = Mycelia.assess_dnamer_saturation(fastx_files)\n",
    "max_k = 17\n",
    "kmer_sizes = Primes.primes(3, max_k)"
   ]
  },
  {
   "cell_type": "code",
   "execution_count": null,
   "id": "287a9329-88ac-4eba-b231-65f8263ca935",
   "metadata": {},
   "outputs": [],
   "source": [
    "for kmer_size in kmer_sizes\n",
    "    @show kmer_size\n",
    "    @time Mycelia.add_fasta_record_kmers_to_graph!(graph, kmer_size)\n",
    "end"
   ]
  },
  {
   "cell_type": "code",
   "execution_count": null,
   "id": "f2c26570-b7dd-4be7-8c8b-bd87cb530041",
   "metadata": {},
   "outputs": [],
   "source": [
    "for kmer_size in kmer_sizes\n",
    "    @show kmer_size\n",
    "    @time Mycelia.graph_to_gfa(graph, kmer_size)\n",
    "end"
   ]
  }
 ],
 "metadata": {
  "kernelspec": {
   "display_name": "Julia 1.6.3",
   "language": "julia",
   "name": "julia-1.6"
  },
  "language_info": {
   "file_extension": ".jl",
   "mimetype": "application/julia",
   "name": "julia",
   "version": "1.6.3"
  }
 },
 "nbformat": 4,
 "nbformat_minor": 5
}
