{
 "cells": [
  {
   "cell_type": "code",
   "execution_count": 43,
   "id": "13ee64af-0976-4f02-8482-6300571e7284",
   "metadata": {},
   "outputs": [
    {
     "name": "stderr",
     "output_type": "stream",
     "text": [
      "\u001b[32m\u001b[1m    Updating\u001b[22m\u001b[39m registry at `/opt/julia/registries/General`\n",
      "\u001b[32m\u001b[1m  No Changes\u001b[22m\u001b[39m to `~/work/Mycelia/Project.toml`\n",
      "\u001b[32m\u001b[1m  No Changes\u001b[22m\u001b[39m to `~/work/Mycelia/Manifest.toml`\n",
      "\u001b[32m\u001b[1mPrecompiling\u001b[22m\u001b[39m project...\n",
      "\u001b[33m  ✓ \u001b[39mMycelia\n",
      "  1 dependency successfully precompiled in 20 seconds (232 already precompiled)\n",
      "  \u001b[33m1\u001b[39m dependency precompiled but a different version is currently loaded. Restart julia to access the new version\n",
      "\u001b[32m\u001b[1m   Resolving\u001b[22m\u001b[39m package versions...\n",
      "\u001b[32m\u001b[1m  No Changes\u001b[22m\u001b[39m to `~/work/Mycelia/Project.toml`\n",
      "\u001b[32m\u001b[1m  No Changes\u001b[22m\u001b[39m to `~/work/Mycelia/Manifest.toml`\n"
     ]
    }
   ],
   "source": [
    "import Pkg\n",
    "Pkg.update()\n",
    "\n",
    "pkgs = [\n",
    "    \"Revise\",\n",
    "    \"MetaGraphs\",\n",
    "    \"Graphs\",\n",
    "    \"JSON\",\n",
    "    \"uCSV\",\n",
    "    \"DataFrames\",\n",
    "    \"Dates\",\n",
    "    \"Primes\",\n",
    "    \"Kmers\",\n",
    "    \"BioSequences\",\n",
    "    \"FASTX\",\n",
    "    \"ProgressMeter\",\n",
    "    \"Random\"\n",
    "]\n",
    "\n",
    "Pkg.add(pkgs)\n",
    "for pkg in pkgs\n",
    "    eval(Meta.parse(\"import $pkg\"))\n",
    "end\n",
    "\n",
    "# Pkg.add(url=\"https://github.com/cjprybol/Mycelia.git\", rev=\"master\")\n",
    "# Pkg.develop(path=\"$(homedir())/workspace/Mycelia\")\n",
    "import Mycelia"
   ]
  },
  {
   "cell_type": "code",
   "execution_count": 2,
   "id": "92f92e84-19ab-47c6-ba60-e28b374bf5b1",
   "metadata": {
    "tags": [
     "parameters"
    ]
   },
   "outputs": [
    {
     "data": {
      "text/plain": [
       "\"/home/jovyan/workspace/scratch/2022-09-18\""
      ]
     },
     "execution_count": 2,
     "metadata": {},
     "output_type": "execute_result"
    }
   ],
   "source": [
    "#papermill parameters\n",
    "base_directory = \"$(homedir())/workspace/sars-cov2-pangenome-analysis/\"\n",
    "sequences_directory = \"$(base_directory)/data/sequences\"\n",
    "metadata_file = \"$(base_directory)/metadata/sequences.csv\"\n",
    "working_directory = \"$(homedir())/workspace/scratch/$(Dates.today())\""
   ]
  },
  {
   "cell_type": "code",
   "execution_count": 105,
   "id": "4c733a8e-7ca8-4422-a12e-18e6de20faf3",
   "metadata": {},
   "outputs": [
    {
     "data": {
      "text/plain": [
       "\"ii0sRIc\""
      ]
     },
     "execution_count": 105,
     "metadata": {},
     "output_type": "execute_result"
    }
   ],
   "source": [
    "remote_neo4j_address = ENV[\"NEO4J_URL\"]\n",
    "remote_neo4j_password = ENV[\"NEO4J_PASSWORD\"]\n",
    "local_neo4j_bolt_address = \"bolt://localhost:7687\"\n",
    "local_neo4j_http_address = \"neo4j://localhost:7474\"\n",
    "local_neo4j_username = \"neo4j\"\n",
    "# local_neo4j_password = \"neo4j\"\n",
    "# local_neo4j_password = Random.randstring(7)\n",
    "local_neo4j_password = \"ii0sRIc\""
   ]
  },
  {
   "cell_type": "code",
   "execution_count": 117,
   "id": "325f1db6-2ad0-41ad-b407-2d7dea0662f4",
   "metadata": {},
   "outputs": [
    {
     "data": {
      "text/plain": [
       "Process(`\u001b[4m/home/jovyan/.local/cypher-shell/cypher-shell\u001b[24m \u001b[4m--address\u001b[24m \u001b[4mbolt://localhost:7687\u001b[24m \u001b[4m--username\u001b[24m \u001b[4mneo4j\u001b[24m \u001b[4m--password\u001b[24m \u001b[4mneo4j\u001b[24m \u001b[4m--format\u001b[24m \u001b[4mauto\u001b[24m \u001b[4m--database\u001b[24m \u001b[4msystem\u001b[24m \u001b[4m\"ALTER CURRENT USER SET PASSWORD FROM 'neo4j' TO 'ii0sRIc'\"\u001b[24m`, ProcessExited(0))"
      ]
     },
     "execution_count": 117,
     "metadata": {},
     "output_type": "execute_result"
    }
   ],
   "source": [
    "# # update password - only need to do this on initial setup\n",
    "cmd = \"ALTER CURRENT USER SET PASSWORD FROM 'neo4j' TO '$(local_neo4j_password)'\"\n",
    "run(Mycelia.cypher(cmd, address=local_neo4j_bolt_address, password=\"neo4j\", username=\"neo4j\", database=\"system\"))"
   ]
  },
  {
   "cell_type": "code",
   "execution_count": 3,
   "id": "bc31b34b-2228-4112-ac1f-c12c5a16e817",
   "metadata": {},
   "outputs": [],
   "source": [
    "mkpath(working_directory)\n",
    "cd(working_directory)"
   ]
  },
  {
   "cell_type": "code",
   "execution_count": 4,
   "id": "b596c7c3-c38a-4fa2-b134-bd16aef01418",
   "metadata": {},
   "outputs": [
    {
     "name": "stdout",
     "output_type": "stream",
     "text": [
      "  4.512879 seconds (8.11 M allocations: 492.936 MiB, 4.09% gc time, 77.36% compilation time)\n"
     ]
    },
    {
     "data": {
      "text/html": [
       "<div class=\"data-frame\"><p>9 rows × 26 columns (omitted printing of 23 columns)</p><table class=\"data-frame\"><thead><tr><th></th><th>Accession</th><th>SRA_Accession</th><th>Submitters</th></tr><tr><th></th><th title=\"String\">String</th><th title=\"String\">String</th><th title=\"String\">String</th></tr></thead><tbody><tr><th>1</th><td>NC_045512.2</td><td></td><td>Wu,F., Zhao,S., Yu,B., Chen,Y.M., Wang,W., Song,Z.G., Hu,Y., Tao,Z.W., Tian,J.H., Pei,Y.Y., Yuan,M.L., Zhang,Y.L., Dai,F.H., Liu,Y., Wang,Q.M., Zheng,J.J., Xu,L., Holmes,E.C., Zhang,Y.Z., Baranov,P.V., Henderson,C.M., Anderson,C.B., Gesteland,R.F., Atkins,J.F., Howard,M.T., Robertson,M.P., Igel,H., Baertsch,R., Haussler,D., Ares,M. Jr., Scott,W.G., Williams,G.D., Chang,R.Y., Brian,D.A., Chen,Y.-M., Song,Z.-G., Tao,Z.-W., Tian,J.-H., Pei,Y.-Y., Zhang,Y.-L., Dai,F.-H., Wang,Q.-M., Zheng,J.-J., Zhang,Y.-Z.</td></tr><tr><th>2</th><td>OP164776.1</td><td></td><td>Afrad Moon,M.H., Qadri,F.</td></tr><tr><th>3</th><td>OP164777.1</td><td></td><td>Afrad Moon,M.H., Qadri,F.</td></tr><tr><th>4</th><td>OP164778.1</td><td></td><td>Afrad Moon,M.H., Qadri,F.</td></tr><tr><th>5</th><td>OP164779.1</td><td></td><td>Afrad Moon,M.H., Qadri,F.</td></tr><tr><th>6</th><td>OP164780.1</td><td></td><td>Afrad Moon,M.H., Qadri,F.</td></tr><tr><th>7</th><td>OP164781.1</td><td></td><td>Afrad Moon,M.H., Qadri,F.</td></tr><tr><th>8</th><td>OP164782.1</td><td></td><td>Afrad Moon,M.H., Qadri,F.</td></tr><tr><th>9</th><td>OP164783.1</td><td></td><td>Afrad Moon,M.H., Qadri,F.</td></tr></tbody></table></div>"
      ],
      "text/latex": [
       "\\begin{tabular}{r|cccc}\n",
       "\t& Accession & SRA\\_Accession & Submitters & \\\\\n",
       "\t\\hline\n",
       "\t& String & String & String & \\\\\n",
       "\t\\hline\n",
       "\t1 & NC\\_045512.2 &  & Wu,F., Zhao,S., Yu,B., Chen,Y.M., Wang,W., Song,Z.G., Hu,Y., Tao,Z.W., Tian,J.H., Pei,Y.Y., Yuan,M.L., Zhang,Y.L., Dai,F.H., Liu,Y., Wang,Q.M., Zheng,J.J., Xu,L., Holmes,E.C., Zhang,Y.Z., Baranov,P.V., Henderson,C.M., Anderson,C.B., Gesteland,R.F., Atkins,J.F., Howard,M.T., Robertson,M.P., Igel,H., Baertsch,R., Haussler,D., Ares,M. Jr., Scott,W.G., Williams,G.D., Chang,R.Y., Brian,D.A., Chen,Y.-M., Song,Z.-G., Tao,Z.-W., Tian,J.-H., Pei,Y.-Y., Zhang,Y.-L., Dai,F.-H., Wang,Q.-M., Zheng,J.-J., Zhang,Y.-Z. & $\\dots$ \\\\\n",
       "\t2 & OP164776.1 &  & Afrad Moon,M.H., Qadri,F. & $\\dots$ \\\\\n",
       "\t3 & OP164777.1 &  & Afrad Moon,M.H., Qadri,F. & $\\dots$ \\\\\n",
       "\t4 & OP164778.1 &  & Afrad Moon,M.H., Qadri,F. & $\\dots$ \\\\\n",
       "\t5 & OP164779.1 &  & Afrad Moon,M.H., Qadri,F. & $\\dots$ \\\\\n",
       "\t6 & OP164780.1 &  & Afrad Moon,M.H., Qadri,F. & $\\dots$ \\\\\n",
       "\t7 & OP164781.1 &  & Afrad Moon,M.H., Qadri,F. & $\\dots$ \\\\\n",
       "\t8 & OP164782.1 &  & Afrad Moon,M.H., Qadri,F. & $\\dots$ \\\\\n",
       "\t9 & OP164783.1 &  & Afrad Moon,M.H., Qadri,F. & $\\dots$ \\\\\n",
       "\\end{tabular}\n"
      ],
      "text/plain": [
       "\u001b[1m9×26 DataFrame\u001b[0m\n",
       "\u001b[1m Row \u001b[0m│\u001b[1m Accession   \u001b[0m\u001b[1m SRA_Accession \u001b[0m\u001b[1m Submitters                        \u001b[0m\u001b[1m Release_\u001b[0m ⋯\n",
       "\u001b[1m     \u001b[0m│\u001b[90m String      \u001b[0m\u001b[90m String        \u001b[0m\u001b[90m String                            \u001b[0m\u001b[90m String  \u001b[0m ⋯\n",
       "─────┼──────────────────────────────────────────────────────────────────────────\n",
       "   1 │ NC_045512.2                 Wu,F., Zhao,S., Yu,B., Chen,Y.M.…  2020-01- ⋯\n",
       "   2 │ OP164776.1                  Afrad Moon,M.H., Qadri,F.          2022-08-\n",
       "   3 │ OP164777.1                  Afrad Moon,M.H., Qadri,F.          2022-08-\n",
       "   4 │ OP164778.1                  Afrad Moon,M.H., Qadri,F.          2022-08-\n",
       "   5 │ OP164779.1                  Afrad Moon,M.H., Qadri,F.          2022-08- ⋯\n",
       "   6 │ OP164780.1                  Afrad Moon,M.H., Qadri,F.          2022-08-\n",
       "   7 │ OP164781.1                  Afrad Moon,M.H., Qadri,F.          2022-08-\n",
       "   8 │ OP164782.1                  Afrad Moon,M.H., Qadri,F.          2022-08-\n",
       "   9 │ OP164783.1                  Afrad Moon,M.H., Qadri,F.          2022-08- ⋯\n",
       "\u001b[36m                                                              23 columns omitted\u001b[0m"
      ]
     },
     "execution_count": 4,
     "metadata": {},
     "output_type": "execute_result"
    }
   ],
   "source": [
    "# f = metadata_file\n",
    "f = open(`head $metadata_file`)\n",
    "@time sequence_metadata = DataFrames.DataFrame(uCSV.read(f, quotes='\"', header=1, typedetectrows=100)...)"
   ]
  },
  {
   "cell_type": "code",
   "execution_count": 5,
   "id": "e927172f-f5bd-4797-bbae-3801e0a739e3",
   "metadata": {},
   "outputs": [
    {
     "data": {
      "text/plain": [
       "9-element Vector{String}:\n",
       " \"/home/jovyan/workspace/sars-cov2-pangenome-analysis//data/sequences/NC_045512.2.fna\"\n",
       " \"/home/jovyan/workspace/sars-cov2-pangenome-analysis//data/sequences/OP164776.1.fna\"\n",
       " \"/home/jovyan/workspace/sars-cov2-pangenome-analysis//data/sequences/OP164777.1.fna\"\n",
       " \"/home/jovyan/workspace/sars-cov2-pangenome-analysis//data/sequences/OP164778.1.fna\"\n",
       " \"/home/jovyan/workspace/sars-cov2-pangenome-analysis//data/sequences/OP164779.1.fna\"\n",
       " \"/home/jovyan/workspace/sars-cov2-pangenome-analysis//data/sequences/OP164780.1.fna\"\n",
       " \"/home/jovyan/workspace/sars-cov2-pangenome-analysis//data/sequences/OP164781.1.fna\"\n",
       " \"/home/jovyan/workspace/sars-cov2-pangenome-analysis//data/sequences/OP164782.1.fna\"\n",
       " \"/home/jovyan/workspace/sars-cov2-pangenome-analysis//data/sequences/OP164783.1.fna\""
      ]
     },
     "execution_count": 5,
     "metadata": {},
     "output_type": "execute_result"
    }
   ],
   "source": [
    "fastx_files = map(x -> \"$(sequences_directory)/$(x).fna\", sequence_metadata[!, \"Accession\"])"
   ]
  },
  {
   "cell_type": "code",
   "execution_count": 6,
   "id": "4c1458a2-ffb7-4da8-97ca-d166d4d75d94",
   "metadata": {},
   "outputs": [
    {
     "data": {
      "text/plain": [
       "{9, 0} directed Int64 metagraph with Float64 weights defined by :weight (default weight 1.0)"
      ]
     },
     "execution_count": 6,
     "metadata": {},
     "output_type": "execute_result"
    }
   ],
   "source": [
    "graph = Mycelia.initialize_graph()\n",
    "graph = Mycelia.add_fastx_to_graph!(graph, fastx_files)\n",
    "Mycelia.add_metadata_from_table!(graph, sequence_metadata, identifier_column = \"Accession\")"
   ]
  },
  {
   "cell_type": "code",
   "execution_count": 8,
   "id": "b3f9145c-e26b-4669-b7e3-847828a8f5ac",
   "metadata": {},
   "outputs": [
    {
     "data": {
      "text/plain": [
       "1-element Vector{Int64}:\n",
       " 31"
      ]
     },
     "execution_count": 8,
     "metadata": {},
     "output_type": "execute_result"
    }
   ],
   "source": [
    "# max_k = Mycelia.assess_dnamer_saturation(fastx_files)\n",
    "# max_k = 31\n",
    "# min_k=17\n",
    "# max_k=17\n",
    "min_k=max_k=31\n",
    "kmer_sizes = Primes.primes(min_k, max_k)"
   ]
  },
  {
   "cell_type": "code",
   "execution_count": 9,
   "id": "287a9329-88ac-4eba-b231-65f8263ca935",
   "metadata": {},
   "outputs": [
    {
     "name": "stdout",
     "output_type": "stream",
     "text": [
      "kmer_size = 31\n",
      "  7.696067 seconds (21.09 M allocations: 1.614 GiB, 20.85% gc time)\n"
     ]
    }
   ],
   "source": [
    "for kmer_size in kmer_sizes\n",
    "    @show kmer_size\n",
    "    @time Mycelia.add_fasta_record_kmers_to_graph!(graph, kmer_size)\n",
    "end"
   ]
  },
  {
   "cell_type": "code",
   "execution_count": 11,
   "id": "f2c26570-b7dd-4be7-8c8b-bd87cb530041",
   "metadata": {},
   "outputs": [
    {
     "name": "stdout",
     "output_type": "stream",
     "text": [
      "kmer_size = 31\n",
      "  0.810414 seconds (2.73 M allocations: 149.551 MiB)\n"
     ]
    }
   ],
   "source": [
    "for kmer_size in kmer_sizes\n",
    "    @show kmer_size\n",
    "    @time Mycelia.graph_to_gfa(graph, kmer_size)\n",
    "end"
   ]
  },
  {
   "cell_type": "code",
   "execution_count": 12,
   "id": "849e57c7-3180-410f-92b1-d29d484010f6",
   "metadata": {},
   "outputs": [
    {
     "name": "stdout",
     "output_type": "stream",
     "text": [
      "gfa = \"/home/jovyan/workspace/scratch/2022-09-18/31.gfa\"\n"
     ]
    },
    {
     "name": "stderr",
     "output_type": "stream",
     "text": [
      "QStandardPaths: XDG_RUNTIME_DIR not set, defaulting to '/tmp/runtime-jovyan'\n",
      "QStandardPaths: XDG_RUNTIME_DIR not set, defaulting to '/tmp/runtime-jovyan'\n",
      "QStandardPaths: XDG_RUNTIME_DIR not set, defaulting to '/tmp/runtime-jovyan'\n"
     ]
    }
   ],
   "source": [
    "for gfa in filter(x -> occursin(r\"\\.gfa$\", x), readdir(working_directory, join=true))\n",
    "    @show gfa\n",
    "    for nodewidth in [100, 500, 1000]\n",
    "        gfa_img = \"$(gfa).$(nodewidth).jpg\"\n",
    "        if !isfile(gfa_img)\n",
    "            run(`Bandage image $gfa $gfa_img --deppower 1 --depwidth 1 --nodewidth $(nodewidth)`)\n",
    "        end\n",
    "    end\n",
    "end"
   ]
  },
  {
   "cell_type": "code",
   "execution_count": 37,
   "id": "56c045dd-e653-409d-8008-fd2ab480edae",
   "metadata": {},
   "outputs": [
    {
     "data": {
      "text/html": [
       "<div class=\"data-frame\"><p>2 rows × 8 columns (omitted printing of 2 columns)</p><table class=\"data-frame\"><thead><tr><th></th><th>name</th><th> address</th><th> role</th><th> requestedStatus</th><th> currentStatus</th><th> error</th></tr><tr><th></th><th title=\"String\">String</th><th title=\"String\">String</th><th title=\"String\">String</th><th title=\"String\">String</th><th title=\"String\">String</th><th title=\"String\">String</th></tr></thead><tbody><tr><th>1</th><td>neo4j</td><td>bolt.lcfta.com:7687</td><td>standalone</td><td>online</td><td>online</td><td></td></tr><tr><th>2</th><td>system</td><td>bolt.lcfta.com:7687</td><td>standalone</td><td>online</td><td>online</td><td></td></tr></tbody></table></div>"
      ],
      "text/latex": [
       "\\begin{tabular}{r|ccccccc}\n",
       "\t& name &  address &  role &  requestedStatus &  currentStatus &  error & \\\\\n",
       "\t\\hline\n",
       "\t& String & String & String & String & String & String & \\\\\n",
       "\t\\hline\n",
       "\t1 & neo4j & bolt.lcfta.com:7687 & standalone & online & online &  & $\\dots$ \\\\\n",
       "\t2 & system & bolt.lcfta.com:7687 & standalone & online & online &  & $\\dots$ \\\\\n",
       "\\end{tabular}\n"
      ],
      "text/plain": [
       "\u001b[1m2×8 DataFrame\u001b[0m\n",
       "\u001b[1m Row \u001b[0m│\u001b[1m name   \u001b[0m\u001b[1m  address            \u001b[0m\u001b[1m  role      \u001b[0m\u001b[1m  requestedStatus \u001b[0m\u001b[1m  currentStat\u001b[0m ⋯\n",
       "\u001b[1m     \u001b[0m│\u001b[90m String \u001b[0m\u001b[90m String              \u001b[0m\u001b[90m String     \u001b[0m\u001b[90m String           \u001b[0m\u001b[90m String      \u001b[0m ⋯\n",
       "─────┼──────────────────────────────────────────────────────────────────────────\n",
       "   1 │ neo4j   bolt.lcfta.com:7687  standalone  online            online       ⋯\n",
       "   2 │ system  bolt.lcfta.com:7687  standalone  online            online\n",
       "\u001b[36m                                                               4 columns omitted\u001b[0m"
      ]
     },
     "execution_count": 37,
     "metadata": {},
     "output_type": "execute_result"
    }
   ],
   "source": [
    "Mycelia.list_databases(address=remote_neo4j_address, username=\"neo4j\", password=remote_neo4j_password)"
   ]
  },
  {
   "cell_type": "code",
   "execution_count": 57,
   "id": "cc7f34fa-826a-428a-8208-c9801a5da94b",
   "metadata": {},
   "outputs": [
    {
     "data": {
      "text/plain": [
       "create_node_constraints (generic function with 1 method)"
      ]
     },
     "execution_count": 57,
     "metadata": {},
     "output_type": "execute_result"
    }
   ],
   "source": [
    "function create_node_constraints(graph; address, username=\"neo4j\", password, database=\"neo4j\")\n",
    "    node_types = unique(MetaGraphs.props(graph, v)[:TYPE] for v in Graphs.vertices(graph))\n",
    "    node_type_strings = map(t -> Mycelia.type_to_string(t), node_types)\n",
    "    for t in node_type_strings\n",
    "        cmd = \"CREATE CONSTRAINT ON (t:`$(t)`) ASSERT t.identifier IS UNIQUE\"\n",
    "        try\n",
    "            cypher = Mycelia.cypher(cmd, address = address, username = username, password = password, database = database)\n",
    "            @show cypher\n",
    "            @time run(cypher)\n",
    "        catch\n",
    "            continue\n",
    "        end\n",
    "    end\n",
    "end"
   ]
  },
  {
   "cell_type": "code",
   "execution_count": 122,
   "id": "e9e53adb-b450-4836-9005-9cb3a9340ce5",
   "metadata": {},
   "outputs": [
    {
     "name": "stdout",
     "output_type": "stream",
     "text": [
      "cypher = `/home/jovyan/.local/cypher-shell/cypher-shell --address neo4j+s://bolt.lcfta.com:7687 --username neo4j --password G3nom3sRu13 --format auto --database neo4j 'CREATE CONSTRAINT ON (t:\\`FASTX.FASTA.Record\\`) ASSERT t.identifier IS UNIQUE'`\n",
      "cypher = `/home/jovyan/.local/cypher-shell/cypher-shell --address neo4j+s://bolt.lcfta.com:7687 --username neo4j --password G3nom3sRu13 --format auto --database neo4j 'CREATE CONSTRAINT ON (t:\\`Kmers.DNAKmer{31}\\`) ASSERT t.identifier IS UNIQUE'`\n"
     ]
    },
    {
     "name": "stderr",
     "output_type": "stream",
     "text": [
      "An equivalent constraint already exists, 'Constraint( id=4, name='constraint_a8f8f2de', type='UNIQUENESS', schema=(:FASTX.FASTA.Record {identifier}), ownedIndex=3 )'.\n",
      "An equivalent constraint already exists, 'Constraint( id=26, name='constraint_f6f7a729', type='UNIQUENESS', schema=(:Kmers.DNAKmer{31} {identifier}), ownedIndex=25 )'.\n"
     ]
    }
   ],
   "source": [
    "create_node_constraints(graph, address=remote_neo4j_address, password=remote_neo4j_password)"
   ]
  },
  {
   "cell_type": "code",
   "execution_count": 113,
   "id": "0ecb8670-e510-40ab-971d-3a32595ca2a3",
   "metadata": {},
   "outputs": [
    {
     "name": "stdout",
     "output_type": "stream",
     "text": [
      "Neo4j is running at pid 88320\n"
     ]
    },
    {
     "data": {
      "text/plain": [
       "Process(`\u001b[4m/home/jovyan/.local/neo4j-community-4.4.11/bin/neo4j\u001b[24m \u001b[4mstatus\u001b[24m`, ProcessExited(0))"
      ]
     },
     "execution_count": 113,
     "metadata": {},
     "output_type": "execute_result"
    }
   ],
   "source": [
    "# run(`/home/jovyan/.local/neo4j-community-4.4.11/bin/neo4j stop`)\n",
    "# run(`/home/jovyan/.local/neo4j-community-4.4.11/bin/neo4j start`)\n",
    "# run(`/home/jovyan/.local/neo4j-community-4.4.11/bin/neo4j status`)"
   ]
  },
  {
   "cell_type": "code",
   "execution_count": null,
   "id": "7d7f9d33-f556-41e4-b62c-9f65049c9245",
   "metadata": {},
   "outputs": [],
   "source": [
    "#### This is all for uploading files\n",
    "\n",
    "# database_id = \"41a45c7d\"\n",
    "# DOMAIN = \"41a45c7d.databases.neo4j.io\"\n",
    "# NODES_FILE = \"$(DIR)/ncbi_taxonomy.nodes.tsv\"\n",
    "# EDGES_FILE = \"$(DIR)/ncbi_taxonomy.edges.tsv\"\n",
    "# USERNAME=\"neo4j\"\n",
    "# PASSWORD=readline(joinpath(homedir(), \".config\", \"neo4j\", \"ncbi-taxonomy.password.txt\"));\n",
    "# ADDRESS=\"neo4j+s://$(database_id).databases.neo4j.io:7687\"\n",
    "# ADDRESS=\"neo4j+s://$(DOMAIN):7687\"\n",
    "# NEO4J_IMPORT_DIRECTORY=\"/var/lib/neo4j/import\"\n",
    "# DATABASE = \"neo4j\"\n",
    "# run(`sudo neo4j start`)\n",
    "# run(`neo4j status`)\n",
    "# run(`sudo neo4j-admin set-initial-password testpass`)\n",
    "\n",
    "# had to stop and restart to get the password change to take effect\n",
    "# run(`sudo neo4j stop`)\n",
    "# run(`sudo neo4j start`)\n",
    "\n",
    "# # need to cleanup identifiers to make them valid in Neo4j\n",
    "# node_table = joint_node_metadata\n",
    "# for re in (r\"\\s+\", r\"-\")\n",
    "#     for col in filter(n -> occursin(re, n), names(node_table))\n",
    "#         rename_map = col => replace(col, re => \"_\")\n",
    "#         @show rename_map\n",
    "#         DataFrames.rename!(node_table, rename_map)\n",
    "#     end\n",
    "# end\n",
    "\n",
    "# # cleanup quotes\n",
    "# ProgressMeter.@showprogress for col in names(node_table)\n",
    "#     # strip away single-quotes\n",
    "#     node_table[!, col] .= map(x -> x isa AbstractString ? replace(x, \"'\" => \"\") : x, node_table[!, col])\n",
    "#     # and double quotes\n",
    "#     node_table[!, col] .= map(x -> x isa AbstractString ? replace(x, '\"' => \"\") : x, node_table[!, col])\n",
    "# end\n",
    "\n",
    "# # THIS IS SO IMPORTANT FOR MAKING THINGS GO FAST\n",
    "# # AUTO SETS AN INDEX ON THESE PROPERTIES\n",
    "# cmd = \"CREATE CONSTRAINT ON (t:Taxonomy) ASSERT t.tax_id IS UNIQUE\"\n",
    "# @time run(cypher(address = local_address, username = USERNAME, password = local_password, database = DATABASE, cmd = cmd))\n",
    "\n",
    "# cmd = \"CREATE CONSTRAINT ON (t:Taxonomy) ASSERT t.`scientific name` IS UNIQUE\"\n",
    "# @time run(cypher(address = local_address, username = USERNAME, password = local_password, database = DATABASE, cmd = cmd))\n",
    "\n",
    "# cmd = \"CREATE CONSTRAINT ON (t:Taxonomy) ASSERT t.identifier IS UNIQUE\"\n",
    "# @time run(cypher(address = local_address, username = USERNAME, password = local_password, database = DATABASE, cmd = cmd))\n",
    "\n",
    "# window_size = 10000\n",
    "# V = DataFrames.nrow(node_table)\n",
    "# windows = [i:min(i+window_size-1,V) for i in 1:window_size:V]\n",
    "\n",
    "# parameters = [\"$(n): row.$(n)\" for n in filter(x -> x != \"TYPE\", names(node_table))]\n",
    "# parameters = \"{\" * join(parameters, \", \") * \"}\"\n",
    "\n",
    "# ProgressMeter.@showprogress for (i, w) in enumerate(windows)\n",
    "#     df_sub = node_table[w, :]\n",
    "#     f = \"node$i.tsv\"\n",
    "#     local_f_path = \"$(temp_upload_dir)/$(f)\"\n",
    "#     uCSV.write(local_f_path, df_sub, delim='\\t')\n",
    "#     run(`chmod 777 $(local_f_path)`)\n",
    "#     f_url = \"file:///$(local_f_path)\"\n",
    "#     cmd =\n",
    "#     \"\"\"\n",
    "#     LOAD CSV WITH HEADERS FROM '$(f_url)' AS row FIELDTERMINATOR '\\t'\n",
    "#     CREATE (node:$(NODE_TYPE) $(parameters))\n",
    "#     \"\"\"\n",
    "#     cmd = rstrip(replace(cmd, '\\n' => ' '))\n",
    "#     cypher_cmd = Mycelia.cypher(address = local_address, username = USERNAME, password = local_password, database = DATABASE, cmd = cmd)\n",
    "#     run(cypher_cmd) \n",
    "# end\n",
    "\n",
    "# add the edges to it\n",
    "\n",
    "# src_type = dst_type = \"Taxonomy\"\n",
    "# edge_type = \"IS_PARENT_OF\"\n",
    "# # upload_edge_type_over_url(src_type, dst_type, edge_type, graph, ADDRESS, USERNAME, PASSWORD, DATABASE)\n",
    "\n",
    "# window_size = 10000\n",
    "# V = DataFrames.nrow(edge_table)\n",
    "# windows = [i:min(i+window_size-1,V) for i in 1:window_size:V]\n",
    "\n",
    "# ProgressMeter.@showprogress for (i, w) in enumerate(windows)\n",
    "#     df_sub = edge_table[w, :]\n",
    "#     f = \"edge$i.tsv\"\n",
    "#     local_f_path = \"$(temp_upload_dir)/$(f)\"\n",
    "#     uCSV.write(local_f_path, df_sub, delim='\\t')\n",
    "#     run(`chmod 777 $(local_f_path)`)\n",
    "#     f_url = \"file:///$(local_f_path)\"\n",
    "#     cmd = \n",
    "#     \"\"\"\n",
    "#     LOAD CSV WITH HEADERS FROM '$(f_url)' AS row FIELDTERMINATOR '\\t'\n",
    "#     MATCH (src:$(src_type) {identifier: row.src})\n",
    "#     MATCH (dst:$(dst_type) {identifier: row.dst})\n",
    "#     MERGE (src)-[p:$(edge_type)]->(dst)\n",
    "#     \"\"\"\n",
    "#     cmd = rstrip(replace(cmd, '\\n' => ' '))\n",
    "#     cypher_cmd = Mycelia.cypher(address = local_address, username = USERNAME, password = local_password, database = DATABASE, cmd = cmd)\n",
    "#     run(cypher_cmd) \n",
    "# end\n",
    "\n",
    "# # run(`sudo touch /etc/neo4j/neo4j.conf`)\n",
    "# run(`sudo neo4j stop`)\n",
    "\n",
    "# remote database needs to be running\n",
    "# needs to be big enough\n",
    "# leave off port from address\n",
    "\n",
    "# run(`neo4j-admin push-to-cloud --overwrite --verbose --bolt-uri=$(ADDRESS) --username=$(USERNAME) --password=$(PASSWORD)`)\n",
    "# run(`sudo neo4j-admin push-to-cloud --overwrite --verbose --dump-to \"$(DIR)/test.db.dump\" --bolt-uri=$(a) --username=$(USERNAME) --password=$(PASSWORD)`)\n",
    "# run(`sudo neo4j-admin push-to-cloud --overwrite --verbose --bolt-uri=$(a) --username=$(USERNAME) --password=$(PASSWORD)`)\n",
    "\n",
    "# https://github.com/cjprybol/Mycelia/blob/master/docs/_src/4.Reference/neo4j-notes.ipynb"
   ]
  },
  {
   "cell_type": "code",
   "execution_count": null,
   "id": "22cc3400-e6f4-491a-bbe5-cb484fdfcb84",
   "metadata": {},
   "outputs": [],
   "source": [
    "# for t in node_type_strings\n",
    "#     cmd = \"CREATE CONSTRAINT ON (t:`$(t)`) ASSERT t.identifier IS UNIQUE\"\n",
    "#     @time run(Mycelia.cypher(cmd, address = ENV[\"NEO4J_URL\"], username = \"neo4j\", password = ENV[\"NEO4J_PASSWORD\"], database = \"neo4j\"))\n",
    "# end"
   ]
  },
  {
   "cell_type": "code",
   "execution_count": 119,
   "id": "65e24360-f064-4251-b505-644e6a90b8d3",
   "metadata": {},
   "outputs": [
    {
     "data": {
      "text/plain": [
       "upload_nodes_over_api (generic function with 1 method)"
      ]
     },
     "execution_count": 119,
     "metadata": {},
     "output_type": "execute_result"
    }
   ],
   "source": [
    "function upload_node_over_api(graph, v; ADDRESS, USERNAME=\"neo4j\", PASSWORD, DATABASE=\"neo4j\")\n",
    "    node_type = MetaGraphs.props(graph, v)[:TYPE]\n",
    "    node_identifier = MetaGraphs.props(graph, v)[:identifier]\n",
    "    node_parameters = filter(x -> \n",
    "            !(x[1] in (:TYPE, :identifier)) && \n",
    "            !(ismissing(x[2]) || isempty(x[2])), \n",
    "        MetaGraphs.props(graph, v))\n",
    "    params_string = join([\"$(string(key)): \\\"$(string(value))\\\"\" for (key, value) in node_parameters], \", \")\n",
    "    node_type_string = Mycelia.type_to_string(node_type)\n",
    "    node_identifier_string = string(node_identifier)\n",
    "    cmd = \n",
    "    \"\"\"\n",
    "    MERGE (`$(node_identifier_string)`:`$(node_type_string)` {$(params_string)})\n",
    "    \"\"\"\n",
    "    cmd = strip(cmd)\n",
    "    cypher_cmd = Mycelia.cypher(cmd, address = ADDRESS, username = USERNAME, password = PASSWORD, database = DATABASE)\n",
    "    run(cypher_cmd)\n",
    "end\n",
    "\n",
    "function upload_nodes_over_api(graph; ADDRESS, USERNAME=\"neo4j\", PASSWORD, DATABASE=\"neo4j\")\n",
    "    ProgressMeter.@showprogress for v in Graphs.vertices(graph)\n",
    "        upload_node_over_api(graph, v, ADDRESS=ADDRESS, USERNAME=USERNAME, PASSWORD=PASSWORD, DATABASE=DATABASE)\n",
    "    end    \n",
    "end"
   ]
  },
  {
   "cell_type": "code",
   "execution_count": null,
   "id": "75d7ad4b-6d2d-40e5-9b3e-295e06e2ea5b",
   "metadata": {},
   "outputs": [
    {
     "name": "stderr",
     "output_type": "stream",
     "text": [
      "\u001b[32mProgress:   1%|▎                                        |  ETA: 11:35:43\u001b[39m"
     ]
    }
   ],
   "source": [
    "# Progress:   0%|▏                                        |  ETA: 8:13:39\n",
    "# upload_nodes_over_api(graph, ADDRESS=local_neo4j_bolt_address, PASSWORD=local_neo4j_password)\n",
    "# Progress:   0%|                                         |  ETA: 11:38:25\n",
    "upload_nodes_over_api(graph, ADDRESS=remote_neo4j_address, PASSWORD=remote_neo4j_password)"
   ]
  },
  {
   "cell_type": "code",
   "execution_count": null,
   "id": "ba5a6a9d-967a-4823-bfa8-cbf1af713be6",
   "metadata": {},
   "outputs": [],
   "source": [
    "upload_edges_over_api(graph, ADDRESS, PASSWORD)"
   ]
  },
  {
   "cell_type": "code",
   "execution_count": null,
   "id": "2f630df8-134c-438f-ad0c-964ffe62e7d1",
   "metadata": {},
   "outputs": [],
   "source": [
    "Mycelia.upload_edge_type_over_url_from_graph(src_type, dst_type, edge_type, graph, ADDRESS, USERNAME, PASSWORD, DATABASE; window_size=100)\n",
    "\n",
    "# ProgressMeter.@showprogress for (i, w) in enumerate(windows)\n",
    "#     df_sub = edge_table[w, :]\n",
    "#     f = \"edge$i.tsv\"\n",
    "#     local_f_path = \"$(temp_upload_dir)/$(f)\"\n",
    "#     uCSV.write(local_f_path, df_sub, delim='\\t')\n",
    "#     run(`chmod 777 $(local_f_path)`)\n",
    "#     f_url = \"file:///$(local_f_path)\"\n",
    "#     cmd = \n",
    "#     \"\"\"\n",
    "#     LOAD CSV WITH HEADERS FROM '$(f_url)' AS row FIELDTERMINATOR '\\t'\n",
    "#     MATCH (src:$(src_type) {identifier: row.src})\n",
    "#     MATCH (dst:$(dst_type) {identifier: row.dst})\n",
    "#     MERGE (src)-[p:$(edge_type)]->(dst)\n",
    "#     \"\"\"\n",
    "#     cmd = rstrip(replace(cmd, '\\n' => ' '))\n",
    "#     cypher_cmd = Mycelia.cypher(address = local_address, username = USERNAME, password = local_password, database = DATABASE, cmd = cmd)\n",
    "#     run(cypher_cmd) \n",
    "# end"
   ]
  }
 ],
 "metadata": {
  "kernelspec": {
   "display_name": "Julia 1.6.3",
   "language": "julia",
   "name": "julia-1.6"
  },
  "language_info": {
   "file_extension": ".jl",
   "mimetype": "application/julia",
   "name": "julia",
   "version": "1.6.3"
  }
 },
 "nbformat": 4,
 "nbformat_minor": 5
}
