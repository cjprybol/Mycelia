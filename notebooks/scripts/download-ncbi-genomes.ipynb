{
 "cells": [
  {
   "cell_type": "markdown",
   "metadata": {},
   "source": [
    "## Objective\n",
    "\n",
    "download all genomes in NCBI refseq or genbank at or below a specified taxon_id"
   ]
  },
  {
   "cell_type": "markdown",
   "metadata": {},
   "source": [
    "## Materials, Methods, and Functions"
   ]
  },
  {
   "cell_type": "code",
   "execution_count": null,
   "metadata": {
    "tags": [
     "parameters"
    ]
   },
   "outputs": [],
   "source": [
    "# default parameters\n",
    "@info \"define_parameters\"\n",
    "taxon_id = 10239\n",
    "data_dir = \"../../data\"\n",
    "# database = refseq or genbank\n",
    "ncbi_database = \"refseq\""
   ]
  },
  {
   "cell_type": "code",
   "execution_count": null,
   "metadata": {},
   "outputs": [],
   "source": [
    "@info \"define functions\"\n",
    "\n",
    "# # normally, mkpath shouldn't error if it already exists, but something funny is going on with the fact that this is mounted with rclone\n",
    "# function my_mkpath(dir)\n",
    "#     if !isdir(dir)\n",
    "#         mkpath(dir)\n",
    "#     end\n",
    "#     return dir\n",
    "# end\n",
    "\n",
    "function filetype_to_ncbi_extension(filetype)\n",
    "    d = Dict(\n",
    "        \"fasta\" => \"genomic.fna.gz\",\n",
    "        \"gff\" => \"genomic.gff.gz\"\n",
    "    )\n",
    "    try\n",
    "        return d[filetype]\n",
    "    catch\n",
    "        key_options = join(keys(d), '\\n')\n",
    "        error(\"please choose one of the following\\n$key_options\")\n",
    "    end\n",
    "end\n",
    "\n",
    "function download_filetype_from_ncbi_ftp_path(outdir, ftp_path, filetype)\n",
    "    filename = basename(ftp_path) * \"_\" * filetype_to_ncbi_extension(filetype)\n",
    "    full_ftp_path = joinpath(ftp_path, filename)\n",
    "    full_local_path = joinpath(outdir, filename)\n",
    "    if !isfile(full_local_path)\n",
    "        download(full_ftp_path, full_local_path)\n",
    "    end\n",
    "    return full_local_path\n",
    "end"
   ]
  },
  {
   "cell_type": "code",
   "execution_count": null,
   "metadata": {},
   "outputs": [],
   "source": [
    "function bgzip_recompress(infile, outfile=replace(infile, r\"\\.gz$\" => \".bgz\"))\n",
    "    @assert occursin(r\"\\.gz$\", infile) \"file does not end with .gz, skipping...\"\n",
    "    @assert isfile(file) \"file $infile not found, skipping...\"\n",
    "    p = pipeline(pipeline(`gzip -dc $file`, `bgzip`), outfile)\n",
    "    run(p)\n",
    "    return outfile\n",
    "end"
   ]
  },
  {
   "cell_type": "code",
   "execution_count": null,
   "metadata": {},
   "outputs": [],
   "source": [
    "@info \"initializing genomes directory\"\n",
    "genome_directory = mkpath(\"$data_dir/genomes\")"
   ]
  },
  {
   "cell_type": "code",
   "execution_count": null,
   "metadata": {},
   "outputs": [],
   "source": [
    "@info \"initializing joint fastas directory\"\n",
    "joint_fastas_directory = mkpath(\"$data_dir/joint-fastas\")"
   ]
  },
  {
   "cell_type": "code",
   "execution_count": null,
   "metadata": {},
   "outputs": [],
   "source": [
    "# import Pkg\n",
    "# Pkg.build(\"Mycelia\")"
   ]
  },
  {
   "cell_type": "code",
   "execution_count": null,
   "metadata": {},
   "outputs": [],
   "source": [
    "@info \"import libraries\"\n",
    "import Pkg\n",
    "pkgs = [\n",
    "\"DataFrames\",\n",
    "\"ProgressMeter\",\n",
    "]\n",
    "Pkg.add(pkgs)\n",
    "for pkg in pkgs\n",
    "    eval(Meta.parse(\"import $pkg\"))\n",
    "end\n",
    "\n",
    "import Mycelia"
   ]
  },
  {
   "cell_type": "code",
   "execution_count": null,
   "metadata": {},
   "outputs": [],
   "source": [
    "@info \"download ncbi metadata\"\n",
    "ncbi_metadata = Mycelia.load_ncbi_metadata(ncbi_database)"
   ]
  },
  {
   "cell_type": "code",
   "execution_count": null,
   "metadata": {},
   "outputs": [],
   "source": [
    "@info \"get child taxon_ids\"\n",
    "child_taxon_ids = Set([parse(Int, line) for line in eachline(open(`taxonkit list --ids $(taxon_id) --indent \"\"`)) if !isempty(line)])\n",
    "@assert taxon_id in child_taxon_ids"
   ]
  },
  {
   "cell_type": "code",
   "execution_count": null,
   "metadata": {},
   "outputs": [],
   "source": [
    "@info \"filter ncbi metadata down to child taxon ids\"\n",
    "is_right_taxa = map(taxid -> taxid in child_taxon_ids, ncbi_metadata[!, \"taxid\"])\n",
    "is_right_taxa .|= map(taxid -> taxid in child_taxon_ids, ncbi_metadata[!, \"species_taxid\"])\n",
    "filtered_ncbi_metadata = ncbi_metadata[is_right_taxa, :]"
   ]
  },
  {
   "cell_type": "code",
   "execution_count": null,
   "metadata": {},
   "outputs": [],
   "source": [
    "ftp_list = filtered_ncbi_metadata[!, \"ftp_path\"]\n",
    "# ftp_list = filtered_ncbi_metadata[1:10, \"ftp_path\"]"
   ]
  },
  {
   "cell_type": "code",
   "execution_count": 10,
   "metadata": {},
   "outputs": [],
   "source": [
    "@info \"download genomes\"\n",
    "ProgressMeter.@showprogress for ftp_path in ftp_list\n",
    "    outfile = download_filetype_from_ncbi_ftp_path(genome_directory, ftp_path, \"fasta\")\n",
    "end"
   ]
  },
  {
   "cell_type": "code",
   "execution_count": null,
   "metadata": {},
   "outputs": [],
   "source": [
    "@info \"merge genomes into pangenome fasta\"\n",
    "joint_fasta = \"$joint_fastas_directory/$taxon_id.fasta\"\n",
    "write_io = open(joint_fasta, \"w\")\n",
    "ProgressMeter.@showprogress for ftp_path in ftp_list\n",
    "    outfile = download_filetype_from_ncbi_ftp_path(genome_directory, ftp_path, \"fasta\")\n",
    "    write(write_io, read(outfile))\n",
    "end\n",
    "close(write_io)"
   ]
  },
  {
   "cell_type": "markdown",
   "metadata": {},
   "source": [
    "## Experimental/Simulated Observations\n",
    "\n",
    "N/A"
   ]
  },
  {
   "cell_type": "markdown",
   "metadata": {},
   "source": [
    "## Analysis, Statistics, and Visualizations\n",
    "\n",
    "N/A"
   ]
  },
  {
   "cell_type": "markdown",
   "metadata": {},
   "source": [
    "## Summary of Results\n",
    "\n",
    "N/A"
   ]
  },
  {
   "cell_type": "markdown",
   "metadata": {},
   "source": [
    "## Conclusions and Future Directions\n",
    "\n",
    "N/A"
   ]
  }
 ],
 "metadata": {
  "kernelspec": {
   "display_name": "Julia 1.7.3",
   "language": "julia",
   "name": "julia-1.7"
  },
  "language_info": {
   "file_extension": ".jl",
   "mimetype": "application/julia",
   "name": "julia",
   "version": "1.7.3"
  }
 },
 "nbformat": 4,
 "nbformat_minor": 4
}
