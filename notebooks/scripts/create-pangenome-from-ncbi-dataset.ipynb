{
 "cells": [
  {
   "cell_type": "code",
   "execution_count": 4,
   "id": "92f92e84-19ab-47c6-ba60-e28b374bf5b1",
   "metadata": {
    "execution": {
     "iopub.execute_input": "2022-08-25T00:58:18.584000Z",
     "iopub.status.busy": "2022-08-25T00:58:18.584000Z",
     "iopub.status.idle": "2022-08-25T00:58:18.616000Z",
     "shell.execute_reply": "2022-08-25T00:58:18.616000Z"
    },
    "tags": [
     "parameters"
    ]
   },
   "outputs": [
    {
     "data": {
      "text/plain": [
       "\"/home/jovyan/workspace/sars-cov2-pangenome-analysis/data/sars-cov-2.annotated.complete.refseq\""
      ]
     },
     "execution_count": 4,
     "metadata": {},
     "output_type": "execute_result"
    }
   ],
   "source": [
    "#parameters\n",
    "\n",
    "dataset_directory = \"$(homedir())/workspace/sars-cov2-pangenome-analysis/data/sars-cov-2.annotated.complete.refseq\""
   ]
  },
  {
   "cell_type": "code",
   "execution_count": 2,
   "id": "dca7872b-5642-4f2b-a503-8cc9b6c407f2",
   "metadata": {
    "execution": {
     "iopub.execute_input": "2022-08-25T00:52:55.067000Z",
     "iopub.status.busy": "2022-08-25T00:52:55.067000Z",
     "iopub.status.idle": "2022-08-25T00:54:32.254000Z",
     "shell.execute_reply": "2022-08-25T00:54:32.253000Z"
    },
    "tags": []
   },
   "outputs": [
    {
     "name": "stderr",
     "output_type": "stream",
     "text": [
      "\u001b[32m\u001b[1m    Updating\u001b[22m\u001b[39m registry at `/srv/julia/registries/General.toml`\n",
      "\u001b[32m\u001b[1m  No Changes\u001b[22m\u001b[39m to `~/workspace/Mycelia/Project.toml`\n",
      "\u001b[32m\u001b[1m  No Changes\u001b[22m\u001b[39m to `~/workspace/Mycelia/Manifest.toml`\n",
      "┌ Info: Precompiling Mycelia [453d265d-8292-4a7b-a57c-dce3f9ae6acd]\n",
      "└ @ Base loading.jl:1423\n",
      "WARNING: Method definition observe(R) where {R<:Union{FASTX.FASTA.Record, FASTX.FASTQ.Record}} in module Mycelia at /home/jovyan/workspace/Mycelia/src/sequence-analysis.jl:327 overwritten at /home/jovyan/workspace/Mycelia/src/sequence-analysis.jl:336.\n",
      "  ** incremental compilation may be fatally broken for this module **\n",
      "\n",
      "WARNING: Method definition observe##kw(Any, typeof(Mycelia.observe), R) where {R<:Union{FASTX.FASTA.Record, FASTX.FASTQ.Record}} in module Mycelia at /home/jovyan/workspace/Mycelia/src/sequence-analysis.jl:327 overwritten at /home/jovyan/workspace/Mycelia/src/sequence-analysis.jl:336.\n",
      "  ** incremental compilation may be fatally broken for this module **\n",
      "\n"
     ]
    }
   ],
   "source": [
    "import Pkg\n",
    "Pkg.update()\n",
    "# Pkg.add(url=\"https://github.com/cjprybol/Mycelia.git\", rev=\"master\")\n",
    "import Mycelia\n",
    "\n",
    "pkgs = [\n",
    "]\n",
    "\n",
    "for pkg in pkgs\n",
    "    try\n",
    "        eval(Meta.parse(\"import $pkg\"))\n",
    "    catch\n",
    "        Pkg.add(pkg)\n",
    "        eval(Meta.parse(\"import $pkg\"))\n",
    "    end\n",
    "end"
   ]
  },
  {
   "cell_type": "code",
   "execution_count": 5,
   "id": "310280e2-b263-4ece-9150-0435c8cda779",
   "metadata": {
    "execution": {
     "iopub.execute_input": "2022-08-25T00:58:23.215000Z",
     "iopub.status.busy": "2022-08-25T00:58:23.215000Z",
     "iopub.status.idle": "2022-08-25T00:58:24.970000Z",
     "shell.execute_reply": "2022-08-25T00:58:24.970000Z"
    },
    "tags": []
   },
   "outputs": [
    {
     "data": {
      "text/plain": [
       "3-element Vector{String}:\n",
       " \".ipynb_checkpoints\"\n",
       " \"README.md\"\n",
       " \"ncbi_dataset\""
      ]
     },
     "execution_count": 5,
     "metadata": {},
     "output_type": "execute_result"
    }
   ],
   "source": [
    "readdir(dataset_directory)"
   ]
  },
  {
   "cell_type": "code",
   "execution_count": 9,
   "id": "b13beaba-0e8c-418e-bbae-e7e0f7c993af",
   "metadata": {
    "execution": {
     "iopub.execute_input": "2022-08-25T00:59:34.513000Z",
     "iopub.status.busy": "2022-08-25T00:59:34.513000Z",
     "iopub.status.idle": "2022-08-25T00:59:34.514000Z",
     "shell.execute_reply": "2022-08-25T00:59:34.514000Z"
    }
   },
   "outputs": [
    {
     "data": {
      "text/plain": [
       "\"/home/jovyan/workspace/sars-cov2-pangenome-analysis/data/sars-cov-2.annotated.complete.refseq/ncbi_dataset/data\""
      ]
     },
     "execution_count": 9,
     "metadata": {},
     "output_type": "execute_result"
    }
   ],
   "source": [
    "data_directory = joinpath(dataset_directory, \"ncbi_dataset\", \"data\")"
   ]
  },
  {
   "cell_type": "code",
   "execution_count": 17,
   "id": "816f9533-a549-48e9-a22a-9149a0be1108",
   "metadata": {
    "execution": {
     "iopub.execute_input": "2022-08-25T01:02:33.789000Z",
     "iopub.status.busy": "2022-08-25T01:02:33.788000Z",
     "iopub.status.idle": "2022-08-25T01:02:33.811000Z",
     "shell.execute_reply": "2022-08-25T01:02:33.811000Z"
    },
    "tags": []
   },
   "outputs": [
    {
     "data": {
      "text/plain": [
       "\"/home/jovyan/workspace/sars-cov2-pangenome-analysis/data/sars-cov-2.annotated.complete.refseq/ncbi_dataset/data/genomic.fna\""
      ]
     },
     "execution_count": 17,
     "metadata": {},
     "output_type": "execute_result"
    }
   ],
   "source": [
    "fastx_file = first(filter(x -> occursin(\"genomic.fna\", x), readdir(data_directory, join=true)))"
   ]
  },
  {
   "cell_type": "code",
   "execution_count": 18,
   "id": "85df2edc-14d0-4c14-8095-0367dc4ccdb7",
   "metadata": {
    "execution": {
     "iopub.execute_input": "2022-08-25T01:02:39.329000Z",
     "iopub.status.busy": "2022-08-25T01:02:39.329000Z",
     "iopub.status.idle": "2022-08-25T01:02:41.358000Z",
     "shell.execute_reply": "2022-08-25T01:02:41.358000Z"
    },
    "tags": []
   },
   "outputs": [
    {
     "data": {
      "text/plain": [
       "1-element Vector{FASTX.FASTA.Record}:\n",
       " FASTX.FASTA.Record:\n",
       "  description: \"NC_045512.2 Severe acute respiratory syndrome coronavirus 2 isolate Wuhan-Hu-1, complete genome\"\n",
       "     sequence: \"ATTAAAGGTTTATACCTTCCCAGGTAACAAACCAACCAA…\""
      ]
     },
     "execution_count": 18,
     "metadata": {},
     "output_type": "execute_result"
    }
   ],
   "source": [
    "fastx_records = collect(Mycelia.open_fastx(fastx_file))"
   ]
  },
  {
   "cell_type": "code",
   "execution_count": 19,
   "id": "7b363c38-4264-4a38-b8df-39faf1f570c4",
   "metadata": {
    "execution": {
     "iopub.execute_input": "2022-08-25T01:03:11.501000Z",
     "iopub.status.busy": "2022-08-25T01:03:11.500000Z",
     "iopub.status.idle": "2022-08-25T01:03:11.637000Z",
     "shell.execute_reply": "2022-08-25T01:03:11.637000Z"
    }
   },
   "outputs": [
    {
     "ename": "LoadError",
     "evalue": "UndefVarError: BigDNAMer not defined",
     "output_type": "error",
     "traceback": [
      "UndefVarError: BigDNAMer not defined",
      "",
      "Stacktrace:",
      " [1] assess_dnamer_saturation(fastxs::Vector{FASTX.FASTA.Record}; outdir::String, min_k::Int64, max_k::Int64, threshold::Float64)",
      "   @ Mycelia ~/workspace/Mycelia/src/dna-analysis.jl:75",
      " [2] assess_dnamer_saturation(fastxs::Vector{FASTX.FASTA.Record})",
      "   @ Mycelia ~/workspace/Mycelia/src/dna-analysis.jl:66",
      " [3] top-level scope",
      "   @ In[19]:1",
      " [4] eval",
      "   @ ./boot.jl:373 [inlined]",
      " [5] include_string(mapexpr::typeof(REPL.softscope), mod::Module, code::String, filename::String)",
      "   @ Base ./loading.jl:1196"
     ]
    }
   ],
   "source": [
    "kmer_size = Mycelia.assess_dnamer_saturation(fastx_records)"
   ]
  },
  {
   "cell_type": "code",
   "execution_count": null,
   "id": "aea72e37-d229-4e74-b77f-cb8e21c2f6ab",
   "metadata": {},
   "outputs": [],
   "source": []
  }
 ],
 "metadata": {
  "kernelspec": {
   "display_name": "Julia 1.7.2",
   "language": "julia",
   "name": "julia-1.7"
  },
  "language_info": {
   "file_extension": ".jl",
   "mimetype": "application/julia",
   "name": "julia",
   "version": "1.7.2"
  }
 },
 "nbformat": 4,
 "nbformat_minor": 5
}
