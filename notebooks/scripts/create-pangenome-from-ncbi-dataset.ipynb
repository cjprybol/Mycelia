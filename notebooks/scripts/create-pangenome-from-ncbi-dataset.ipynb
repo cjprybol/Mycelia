{
 "cells": [
  {
   "cell_type": "code",
   "execution_count": 1,
   "id": "92f92e84-19ab-47c6-ba60-e28b374bf5b1",
   "metadata": {
    "tags": [
     "parameters"
    ]
   },
   "outputs": [
    {
     "data": {
      "text/plain": [
       "\"/home/jovyan/work/sars-cov2-pangenome-analysis/data/sars-cov-2.annotated.complete.refseq\""
      ]
     },
     "execution_count": 1,
     "metadata": {},
     "output_type": "execute_result"
    }
   ],
   "source": [
    "#papermill parameters\n",
    "saturn_base=\"$(homedir())/workspace\"\n",
    "lcfta_base=\"$(homedir())/work\"\n",
    "base=lcfta_base\n",
    "\n",
    "dataset_directory = \"$(base)/sars-cov2-pangenome-analysis/data/sars-cov-2.annotated.complete.refseq\"\n",
    "# dataset_directory = \"$(base)/sars-cov2-pangenome-analysis/data/sars-cov-2.annotated.complete\"\n",
    "# dataset_directory = \"$(base)/sars-cov2-pangenome-analysis/data/sars-cov-2\""
   ]
  },
  {
   "cell_type": "code",
   "execution_count": 2,
   "id": "dca7872b-5642-4f2b-a503-8cc9b6c407f2",
   "metadata": {
    "tags": []
   },
   "outputs": [
    {
     "name": "stderr",
     "output_type": "stream",
     "text": [
      "\u001b[32m\u001b[1m    Updating\u001b[22m\u001b[39m registry at `/opt/julia/registries/General`\n",
      "\u001b[32m\u001b[1m  No Changes\u001b[22m\u001b[39m to `~/work/Mycelia/Project.toml`\n",
      "\u001b[32m\u001b[1m  No Changes\u001b[22m\u001b[39m to `~/work/Mycelia/Manifest.toml`\n",
      "\u001b[32m\u001b[1mPrecompiling\u001b[22m\u001b[39m project...\n",
      "\u001b[32m  ✓ \u001b[39mMycelia\n",
      "  1 dependency successfully precompiled in 19 seconds (254 already precompiled)\n"
     ]
    }
   ],
   "source": [
    "import Pkg\n",
    "Pkg.update()\n",
    "\n",
    "pkgs = [\n",
    "    \"Revise\",\n",
    "    \"MetaGraphs\",\n",
    "    \"Graphs\"\n",
    "]\n",
    "\n",
    "for pkg in pkgs\n",
    "    try\n",
    "        eval(Meta.parse(\"import $pkg\"))\n",
    "    catch\n",
    "        Pkg.add(pkg)\n",
    "        eval(Meta.parse(\"import $pkg\"))\n",
    "    end\n",
    "end\n",
    "\n",
    "# Pkg.add(url=\"https://github.com/cjprybol/Mycelia.git\", rev=\"master\")\n",
    "import Mycelia"
   ]
  },
  {
   "cell_type": "code",
   "execution_count": 3,
   "id": "b13beaba-0e8c-418e-bbae-e7e0f7c993af",
   "metadata": {},
   "outputs": [
    {
     "data": {
      "text/plain": [
       "\"/home/jovyan/work/sars-cov2-pangenome-analysis/data/sars-cov-2.annotated.complete.refseq/ncbi_dataset/data\""
      ]
     },
     "execution_count": 3,
     "metadata": {},
     "output_type": "execute_result"
    }
   ],
   "source": [
    "data_directory = joinpath(dataset_directory, \"ncbi_dataset\", \"data\")"
   ]
  },
  {
   "cell_type": "code",
   "execution_count": 4,
   "id": "816f9533-a549-48e9-a22a-9149a0be1108",
   "metadata": {
    "tags": []
   },
   "outputs": [
    {
     "data": {
      "text/plain": [
       "1-element Vector{String}:\n",
       " \"/home/jovyan/work/sars-cov2-pangenome-analysis/data/sars-cov-2.annotated.complete.refseq/ncbi_dataset/data/genomic.fna\""
      ]
     },
     "execution_count": 4,
     "metadata": {},
     "output_type": "execute_result"
    }
   ],
   "source": [
    "fastx_files = filter(x -> occursin(\"genomic.fna\", x), readdir(data_directory, join=true))"
   ]
  },
  {
   "cell_type": "code",
   "execution_count": null,
   "id": "7c098655-62b4-4e0b-8b52-d7154e6e8765",
   "metadata": {},
   "outputs": [],
   "source": [
    "# import BioSequences\n",
    "# import FASTX\n",
    "# import Kmers"
   ]
  },
  {
   "cell_type": "code",
   "execution_count": 6,
   "id": "4c1458a2-ffb7-4da8-97ca-d166d4d75d94",
   "metadata": {},
   "outputs": [
    {
     "data": {
      "text/plain": [
       "{1, 0} directed Int64 metagraph with Float64 weights defined by :weight (default weight 1.0)"
      ]
     },
     "execution_count": 6,
     "metadata": {},
     "output_type": "execute_result"
    }
   ],
   "source": [
    "graph = MetaGraphs.MetaDiGraph()\n",
    "graph = Mycelia.add_fastx_to_graph!(graph, fastx_files)"
   ]
  },
  {
   "cell_type": "code",
   "execution_count": null,
   "id": "f1845efe-bfae-4454-afc4-e4b94b075267",
   "metadata": {},
   "outputs": [],
   "source": [
    "# add fastx metadata to graphs"
   ]
  },
  {
   "cell_type": "code",
   "execution_count": null,
   "id": "552219e4-fc8e-4e4f-8f24-0e7daa6a6b09",
   "metadata": {},
   "outputs": [],
   "source": [
    "function add_metadata_to_graph!(graph, metadata_table)\n",
    "end"
   ]
  },
  {
   "cell_type": "code",
   "execution_count": null,
   "id": "45fbcf3b-626f-49ba-b7cc-4a249cd28bda",
   "metadata": {},
   "outputs": [],
   "source": [
    "kmer_size = Mycelia.assess_dnamer_saturation(fastx_files)"
   ]
  }
 ],
 "metadata": {
  "kernelspec": {
   "display_name": "Julia 1.6.3",
   "language": "julia",
   "name": "julia-1.6"
  },
  "language_info": {
   "file_extension": ".jl",
   "mimetype": "application/julia",
   "name": "julia",
   "version": "1.6.3"
  }
 },
 "nbformat": 4,
 "nbformat_minor": 5
}
