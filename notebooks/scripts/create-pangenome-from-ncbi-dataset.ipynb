{
 "cells": [
  {
   "cell_type": "code",
   "execution_count": 1,
   "id": "92f92e84-19ab-47c6-ba60-e28b374bf5b1",
   "metadata": {
    "execution": {
     "iopub.execute_input": "2022-08-25T09:14:24.588000Z",
     "iopub.status.busy": "2022-08-25T09:14:24.096000Z",
     "iopub.status.idle": "2022-08-25T09:14:25.719000Z",
     "shell.execute_reply": "2022-08-25T09:14:25.682000Z"
    },
    "tags": [
     "parameters"
    ]
   },
   "outputs": [
    {
     "data": {
      "text/plain": [
       "\"/home/jovyan/workspace/sars-cov2-pangenome-analysis/data/sars-cov-2.annotated.complete.refseq\""
      ]
     },
     "execution_count": 1,
     "metadata": {},
     "output_type": "execute_result"
    }
   ],
   "source": [
    "#parameters\n",
    "dataset_directory = \"$(homedir())/workspace/sars-cov2-pangenome-analysis/data/sars-cov-2.annotated.complete.refseq\""
   ]
  },
  {
   "cell_type": "code",
   "execution_count": 2,
   "id": "9ed62af0-e929-4776-8147-8913d78881a8",
   "metadata": {
    "execution": {
     "iopub.execute_input": "2022-08-25T09:14:25.719000Z",
     "iopub.status.busy": "2022-08-25T09:14:25.719000Z",
     "iopub.status.idle": "2022-08-25T09:14:55.487000Z",
     "shell.execute_reply": "2022-08-25T09:14:55.487000Z"
    }
   },
   "outputs": [
    {
     "name": "stderr",
     "output_type": "stream",
     "text": [
      "\u001b[32m\u001b[1m    Updating\u001b[22m\u001b[39m registry at `/srv/julia/registries/General.toml`\n",
      "\u001b[32m\u001b[1m  No Changes\u001b[22m\u001b[39m to `~/workspace/Mycelia/Project.toml`\n",
      "\u001b[32m\u001b[1m  No Changes\u001b[22m\u001b[39m to `~/workspace/Mycelia/Manifest.toml`\n",
      "\u001b[32m\u001b[1mPrecompiling\u001b[22m\u001b[39m project...\n",
      "\u001b[91m  ✗ \u001b[39mMycelia\n",
      "  0 dependencies successfully precompiled in 18 seconds (255 already precompiled)\n",
      "  \u001b[91m1\u001b[39m dependency errored. To see a full report either run `import Pkg; Pkg.precompile()` or load the package\n"
     ]
    }
   ],
   "source": [
    "import Pkg\n",
    "Pkg.update()"
   ]
  },
  {
   "cell_type": "code",
   "execution_count": 2,
   "id": "dca7872b-5642-4f2b-a503-8cc9b6c407f2",
   "metadata": {
    "execution": {
     "iopub.execute_input": "2022-08-27T12:50:19.690000Z",
     "iopub.status.busy": "2022-08-27T12:50:12.907000Z",
     "iopub.status.idle": "2022-08-27T12:50:33.330000Z",
     "shell.execute_reply": "2022-08-27T12:50:33.330000Z"
    },
    "tags": []
   },
   "outputs": [
    {
     "name": "stderr",
     "output_type": "stream",
     "text": [
      "\u001b[32m\u001b[1m    Updating\u001b[22m\u001b[39m registry at `/srv/julia/registries/General.toml`\n",
      "\u001b[32m\u001b[1m  No Changes\u001b[22m\u001b[39m to `~/workspace/Mycelia/Project.toml`\n",
      "\u001b[32m\u001b[1m  No Changes\u001b[22m\u001b[39m to `~/workspace/Mycelia/Manifest.toml`\n"
     ]
    }
   ],
   "source": [
    "import Pkg\n",
    "Pkg.update()\n",
    "\n",
    "pkgs = [\n",
    "    \"Revise\",\n",
    "]\n",
    "\n",
    "for pkg in pkgs\n",
    "    try\n",
    "        eval(Meta.parse(\"import $pkg\"))\n",
    "    catch\n",
    "        Pkg.add(pkg)\n",
    "        eval(Meta.parse(\"import $pkg\"))\n",
    "    end\n",
    "end\n",
    "\n",
    "# Pkg.add(url=\"https://github.com/cjprybol/Mycelia.git\", rev=\"master\")\n",
    "import Mycelia"
   ]
  },
  {
   "cell_type": "code",
   "execution_count": 4,
   "id": "310280e2-b263-4ece-9150-0435c8cda779",
   "metadata": {
    "execution": {
     "iopub.execute_input": "2022-08-25T09:15:32.672000Z",
     "iopub.status.busy": "2022-08-25T09:15:32.672000Z",
     "iopub.status.idle": "2022-08-25T09:15:34.296000Z",
     "shell.execute_reply": "2022-08-25T09:15:34.295000Z"
    },
    "tags": []
   },
   "outputs": [
    {
     "data": {
      "text/plain": [
       "3-element Vector{String}:\n",
       " \".ipynb_checkpoints\"\n",
       " \"README.md\"\n",
       " \"ncbi_dataset\""
      ]
     },
     "execution_count": 4,
     "metadata": {},
     "output_type": "execute_result"
    }
   ],
   "source": [
    "readdir(dataset_directory)"
   ]
  },
  {
   "cell_type": "code",
   "execution_count": 5,
   "id": "b13beaba-0e8c-418e-bbae-e7e0f7c993af",
   "metadata": {
    "execution": {
     "iopub.execute_input": "2022-08-25T09:15:34.296000Z",
     "iopub.status.busy": "2022-08-25T09:15:34.296000Z",
     "iopub.status.idle": "2022-08-25T09:15:34.308000Z",
     "shell.execute_reply": "2022-08-25T09:15:34.308000Z"
    }
   },
   "outputs": [
    {
     "data": {
      "text/plain": [
       "\"/home/jovyan/workspace/sars-cov2-pangenome-analysis/data/sars-cov-2.annotated.complete.refseq/ncbi_dataset/data\""
      ]
     },
     "execution_count": 5,
     "metadata": {},
     "output_type": "execute_result"
    }
   ],
   "source": [
    "data_directory = joinpath(dataset_directory, \"ncbi_dataset\", \"data\")"
   ]
  },
  {
   "cell_type": "code",
   "execution_count": 6,
   "id": "816f9533-a549-48e9-a22a-9149a0be1108",
   "metadata": {
    "execution": {
     "iopub.execute_input": "2022-08-25T09:15:34.308000Z",
     "iopub.status.busy": "2022-08-25T09:15:34.308000Z",
     "iopub.status.idle": "2022-08-25T09:15:34.346000Z",
     "shell.execute_reply": "2022-08-25T09:15:34.346000Z"
    },
    "tags": []
   },
   "outputs": [
    {
     "data": {
      "text/plain": [
       "\"/home/jovyan/workspace/sars-cov2-pangenome-analysis/data/sars-cov-2.annotated.complete.refseq/ncbi_dataset/data/genomic.fna\""
      ]
     },
     "execution_count": 6,
     "metadata": {},
     "output_type": "execute_result"
    }
   ],
   "source": [
    "fastx_file = first(filter(x -> occursin(\"genomic.fna\", x), readdir(data_directory, join=true)))"
   ]
  },
  {
   "cell_type": "code",
   "execution_count": 7,
   "id": "85df2edc-14d0-4c14-8095-0367dc4ccdb7",
   "metadata": {
    "execution": {
     "iopub.execute_input": "2022-08-25T09:15:34.346000Z",
     "iopub.status.busy": "2022-08-25T09:15:34.346000Z",
     "iopub.status.idle": "2022-08-25T09:15:34.448000Z",
     "shell.execute_reply": "2022-08-25T09:15:34.448000Z"
    },
    "tags": []
   },
   "outputs": [
    {
     "ename": "LoadError",
     "evalue": "UndefVarError: Mycelia not defined",
     "output_type": "error",
     "traceback": [
      "UndefVarError: Mycelia not defined",
      "",
      "Stacktrace:",
      " [1] top-level scope",
      "   @ In[7]:1",
      " [2] eval",
      "   @ ./boot.jl:373 [inlined]",
      " [3] include_string(mapexpr::typeof(REPL.softscope), mod::Module, code::String, filename::String)",
      "   @ Base ./loading.jl:1196"
     ]
    }
   ],
   "source": [
    "fastx_records = collect(Mycelia.open_fastx(fastx_file))"
   ]
  },
  {
   "cell_type": "code",
   "execution_count": 8,
   "id": "7b363c38-4264-4a38-b8df-39faf1f570c4",
   "metadata": {
    "execution": {
     "iopub.execute_input": "2022-08-25T09:15:34.449000Z",
     "iopub.status.busy": "2022-08-25T09:15:34.449000Z",
     "iopub.status.idle": "2022-08-25T09:15:34.468000Z",
     "shell.execute_reply": "2022-08-25T09:15:34.468000Z"
    },
    "tags": []
   },
   "outputs": [
    {
     "ename": "LoadError",
     "evalue": "UndefVarError: Mycelia not defined",
     "output_type": "error",
     "traceback": [
      "UndefVarError: Mycelia not defined",
      "",
      "Stacktrace:",
      " [1] top-level scope",
      "   @ In[8]:1",
      " [2] eval",
      "   @ ./boot.jl:373 [inlined]",
      " [3] include_string(mapexpr::typeof(REPL.softscope), mod::Module, code::String, filename::String)",
      "   @ Base ./loading.jl:1196"
     ]
    }
   ],
   "source": [
    "kmer_size = Mycelia.assess_dnamer_saturation(fastx_file)"
   ]
  },
  {
   "cell_type": "code",
   "execution_count": null,
   "id": "c0c94fad-21c0-46ce-b4f5-2c88639d6f4e",
   "metadata": {},
   "outputs": [],
   "source": []
  }
 ],
 "metadata": {
  "kernelspec": {
   "display_name": "Julia 1.7.2",
   "language": "julia",
   "name": "julia-1.7"
  },
  "language_info": {
   "file_extension": ".jl",
   "mimetype": "application/julia",
   "name": "julia",
   "version": "1.7.2"
  }
 },
 "nbformat": 4,
 "nbformat_minor": 5
}
