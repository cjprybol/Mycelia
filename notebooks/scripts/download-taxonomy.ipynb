{
 "cells": [
  {
   "cell_type": "code",
   "execution_count": 1,
   "id": "2a66c9fc-7c6e-434d-b169-c44a3c337690",
   "metadata": {
    "execution": {
     "iopub.execute_input": "2022-08-24T00:04:56.369000Z",
     "iopub.status.busy": "2022-08-24T00:04:55.874000Z",
     "iopub.status.idle": "2022-08-24T00:04:57.531000Z",
     "shell.execute_reply": "2022-08-24T00:04:57.504000Z"
    },
    "tags": [
     "parameters"
    ]
   },
   "outputs": [
    {
     "data": {
      "text/plain": [
       "\"/home/jovyan/workspace/sars-cov2-pangenome-analysis\""
      ]
     },
     "execution_count": 1,
     "metadata": {},
     "output_type": "execute_result"
    }
   ],
   "source": [
    "# parameters\n",
    "OUTDIR = pwd()"
   ]
  },
  {
   "cell_type": "code",
   "execution_count": null,
   "id": "056bb024-3197-4111-9f27-2fbbb25a6f83",
   "metadata": {},
   "outputs": [],
   "source": [
    "taxdump_url = \"https://ftp.ncbi.nih.gov/pub/taxonomy/taxdump.tar.gz\"\n",
    "taxdump_local_tarball = \"$(OUTDIR)/$(basename(taxdump_url))\"\n",
    "\n",
    "if !isfile(taxdump_local_tarball)\n",
    "    download(taxdump_url, taxdump_local_tarball)\n",
    "end\n",
    "\n",
    "taxdump_out = replace(taxdump_local_tarball, \".tar.gz\" => \"\")\n",
    "if !isdir(taxdump_out)\n",
    "    mkpath(taxdump_out)\n",
    "    run(`tar -xvzf $(taxdump_local_tarball) -C $(taxdump_out)`)\n",
    "end\n",
    "\n",
    "return taxdump_out"
   ]
  }
 ],
 "metadata": {
  "kernelspec": {
   "display_name": "Julia 1.7.2",
   "language": "julia",
   "name": "julia-1.7"
  },
  "language_info": {
   "file_extension": ".jl",
   "mimetype": "application/julia",
   "name": "julia",
   "version": "1.7.2"
  }
 },
 "nbformat": 4,
 "nbformat_minor": 5
}
