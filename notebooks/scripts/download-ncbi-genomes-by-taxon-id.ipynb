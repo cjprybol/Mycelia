{
 "cells": [
  {
   "cell_type": "markdown",
   "metadata": {},
   "source": [
    "## Objective\n",
    "\n",
    "download all genomes in NCBI refseq or genbank at or below a specified taxon_id"
   ]
  },
  {
   "cell_type": "markdown",
   "metadata": {},
   "source": [
    "## Materials, Methods, and Functions"
   ]
  },
  {
   "cell_type": "code",
   "execution_count": 1,
   "metadata": {},
   "outputs": [
    {
     "name": "stderr",
     "output_type": "stream",
     "text": [
      "┌ Info: Precompiling Mycelia [453d265d-8292-4a7b-a57c-dce3f9ae6acd]\n",
      "└ @ Base loading.jl:1342\n"
     ]
    }
   ],
   "source": [
    "# import Mycelia"
   ]
  },
  {
   "cell_type": "code",
   "execution_count": 3,
   "metadata": {},
   "outputs": [
    {
     "data": {
      "text/plain": [
       "FASTX.FASTA.Reader{TranscodingStreams.NoopStream{IOBuffer}}(TranscodingStreams.NoopStream{IOBuffer}(<mode=idle>), 1, 1, nothing, FASTX.FASTA.Record:\n",
       "  description: \"\"\n",
       "     sequence: \"\", true)"
      ]
     },
     "execution_count": 3,
     "metadata": {},
     "output_type": "execute_result"
    }
   ],
   "source": [
    "# Mycelia.get_sequence(db=\"nuccore\", accession=\"OP164776.1\")"
   ]
  },
  {
   "cell_type": "code",
   "execution_count": 4,
   "metadata": {},
   "outputs": [
    {
     "data": {
      "text/plain": [
       "1-element Vector{FASTX.FASTA.Record}:\n",
       " FASTX.FASTA.Record:\n",
       "  description: \"OP164776.1 Severe acute respiratory syndrome coronavirus 2 isolate SARS-CoV-2/human/BGD/icddrb-TND-07-1525/2022 ORF1ab polyprotein (ORF1ab), ORF1a polyprotein (ORF1ab), surface glycoprotein (S), ORF3a protein (ORF3a), envelope protein (E), membrane glycoprotein (M), ORF6 protein (ORF6), and ORF7a protein (ORF7a) genes, complete cds; ORF7b (ORF7b) and ORF8 protein (ORF8) genes, partial cds; and nucleocapsid phosphoprotein (N) and ORF10 protein (ORF10) genes, complete cds\"\n",
       "     sequence: \"AGATCTGTTCTCTAAACGAACTTTAAAATCTGTGTGGCT…\""
      ]
     },
     "execution_count": 4,
     "metadata": {},
     "output_type": "execute_result"
    }
   ],
   "source": [
    "# collect(ans)"
   ]
  },
  {
   "cell_type": "code",
   "execution_count": null,
   "metadata": {},
   "outputs": [],
   "source": [
    "# TODO\n",
    "# just have me call NCBI datasets CLI with taxon id\n",
    "# so much simpler"
   ]
  },
  {
   "cell_type": "code",
   "execution_count": null,
   "metadata": {
    "tags": [
     "parameters"
    ]
   },
   "outputs": [],
   "source": [
    "# default parameters\n",
    "@info \"define_parameters\"\n",
    "taxon_id = 10239\n",
    "data_dir = \"../../data\"\n",
    "# database = refseq or genbank\n",
    "ncbi_database = \"refseq\""
   ]
  },
  {
   "cell_type": "code",
   "execution_count": null,
   "metadata": {},
   "outputs": [],
   "source": [
    "@info \"initializing genomes directory\"\n",
    "genome_directory = mkpath(\"$data_dir/genomes\")"
   ]
  },
  {
   "cell_type": "code",
   "execution_count": null,
   "metadata": {},
   "outputs": [],
   "source": [
    "@info \"initializing joint fastas directory\"\n",
    "joint_fastas_directory = mkpath(\"$data_dir/joint-fastas\")"
   ]
  },
  {
   "cell_type": "code",
   "execution_count": null,
   "metadata": {},
   "outputs": [],
   "source": [
    "# import Pkg\n",
    "# Pkg.build(\"Mycelia\")"
   ]
  },
  {
   "cell_type": "code",
   "execution_count": null,
   "metadata": {},
   "outputs": [],
   "source": [
    "@info \"import libraries\"\n",
    "import Pkg\n",
    "pkgs = [\n",
    "\"DataFrames\",\n",
    "\"ProgressMeter\",\n",
    "]\n",
    "Pkg.add(pkgs)\n",
    "for pkg in pkgs\n",
    "    eval(Meta.parse(\"import $pkg\"))\n",
    "end\n",
    "\n",
    "import Mycelia"
   ]
  },
  {
   "cell_type": "code",
   "execution_count": null,
   "metadata": {},
   "outputs": [],
   "source": [
    "@info \"download ncbi metadata\"\n",
    "ncbi_metadata = Mycelia.load_ncbi_metadata(ncbi_database)"
   ]
  },
  {
   "cell_type": "code",
   "execution_count": null,
   "metadata": {},
   "outputs": [],
   "source": [
    "@info \"get child taxon_ids\"\n",
    "child_taxon_ids = Set([parse(Int, line) for line in eachline(open(`taxonkit list --ids $(taxon_id) --indent \"\"`)) if !isempty(line)])\n",
    "@assert taxon_id in child_taxon_ids"
   ]
  },
  {
   "cell_type": "code",
   "execution_count": null,
   "metadata": {},
   "outputs": [],
   "source": [
    "@info \"filter ncbi metadata down to child taxon ids\"\n",
    "is_right_taxa = map(taxid -> taxid in child_taxon_ids, ncbi_metadata[!, \"taxid\"])\n",
    "is_right_taxa .|= map(taxid -> taxid in child_taxon_ids, ncbi_metadata[!, \"species_taxid\"])\n",
    "filtered_ncbi_metadata = ncbi_metadata[is_right_taxa, :]"
   ]
  },
  {
   "cell_type": "code",
   "execution_count": null,
   "metadata": {},
   "outputs": [],
   "source": [
    "@info \"define functions\"\n",
    "\n",
    "# # normally, mkpath shouldn't error if it already exists, but something funny is going on with the fact that this is mounted with rclone\n",
    "# function my_mkpath(dir)\n",
    "#     if !isdir(dir)\n",
    "#         mkpath(dir)\n",
    "#     end\n",
    "#     return dir\n",
    "# end\n",
    "\n",
    "function filetype_to_ncbi_extension(filetype)\n",
    "    d = Dict(\n",
    "        \"fasta\" => \"genomic.fna.gz\",\n",
    "        \"gff\" => \"genomic.gff.gz\"\n",
    "    )\n",
    "    try\n",
    "        return d[filetype]\n",
    "    catch\n",
    "        key_options = join(keys(d), '\\n')\n",
    "        error(\"please choose one of the following\\n$key_options\")\n",
    "    end\n",
    "end\n",
    "\n",
    "function bgzip_recompress(infile)\n",
    "    @assert occursin(r\"\\.gz$\", infile) \"file does not end with .gz, skipping...\"\n",
    "    @assert isfile(infile) \"file $infile not found, skipping...\"\n",
    "    bgzip_index = infile * \".gzi\"\n",
    "    if isfile(bgzip_index)\n",
    "        # @info \"$bgzip_index already exists, skipping...\"\n",
    "        # continue\n",
    "    else\n",
    "        outfile = infile * \".bgz\"\n",
    "        p = pipeline(pipeline(`gzip -dc $infile`, `bgzip`), infile * \".bgz\")\n",
    "        run(p)\n",
    "        mv(outfile, infile, force=true)\n",
    "        run(`bgzip -r $infile`)\n",
    "    end\n",
    "    return infile\n",
    "end\n",
    "\n",
    "function download_filetype_from_ncbi_ftp_path(outdir, ftp_path, filetype; recompress_with_bgzip=false)\n",
    "    filename = basename(ftp_path) * \"_\" * filetype_to_ncbi_extension(filetype)\n",
    "    full_ftp_path = joinpath(ftp_path, filename)\n",
    "    full_local_path = joinpath(outdir, filename)\n",
    "    if !isfile(full_local_path)\n",
    "        download(full_ftp_path, full_local_path)\n",
    "    end\n",
    "    if recompress_with_bgzip\n",
    "        bgzip_recompress(full_local_path)\n",
    "    end\n",
    "    return full_local_path\n",
    "end"
   ]
  },
  {
   "cell_type": "code",
   "execution_count": null,
   "metadata": {},
   "outputs": [],
   "source": [
    "ftp_list = filtered_ncbi_metadata[!, \"ftp_path\"]\n",
    "# ftp_list = filtered_ncbi_metadata[1:10, \"ftp_path\"]"
   ]
  },
  {
   "cell_type": "code",
   "execution_count": null,
   "metadata": {},
   "outputs": [],
   "source": [
    "@info \"download genomes\"\n",
    "ProgressMeter.@showprogress for ftp_path in ftp_list\n",
    "    download_filetype_from_ncbi_ftp_path(genome_directory, ftp_path, \"fasta\", recompress_with_bgzip=true)\n",
    "end"
   ]
  },
  {
   "cell_type": "code",
   "execution_count": null,
   "metadata": {},
   "outputs": [],
   "source": [
    "@info \"merge genomes into pangenome fasta\"\n",
    "joint_fasta = \"$joint_fastas_directory/$taxon_id.fna.gz\"\n",
    "write_io = open(joint_fasta, \"w\")\n",
    "ProgressMeter.@showprogress for ftp_path in ftp_list\n",
    "    outfile = download_filetype_from_ncbi_ftp_path(genome_directory, ftp_path, \"fasta\")\n",
    "    write(write_io, read(outfile))\n",
    "end\n",
    "run(`bgzip -r $joint_fasta`)\n",
    "close(write_io)"
   ]
  },
  {
   "cell_type": "markdown",
   "metadata": {},
   "source": [
    "## Experimental/Simulated Observations\n",
    "\n",
    "N/A"
   ]
  },
  {
   "cell_type": "markdown",
   "metadata": {},
   "source": [
    "## Analysis, Statistics, and Visualizations\n",
    "\n",
    "N/A"
   ]
  },
  {
   "cell_type": "markdown",
   "metadata": {},
   "source": [
    "## Summary of Results\n",
    "\n",
    "N/A"
   ]
  },
  {
   "cell_type": "markdown",
   "metadata": {},
   "source": [
    "## Conclusions and Future Directions\n",
    "\n",
    "N/A"
   ]
  }
 ],
 "metadata": {
  "kernelspec": {
   "display_name": "Julia 1.6.3",
   "language": "julia",
   "name": "julia-1.6"
  },
  "language_info": {
   "file_extension": ".jl",
   "mimetype": "application/julia",
   "name": "julia",
   "version": "1.6.3"
  }
 },
 "nbformat": 4,
 "nbformat_minor": 4
}
