{
 "cells": [
  {
   "cell_type": "markdown",
   "metadata": {},
   "source": [
    "## Objective\n",
    "\n",
    "download all genomes in an NCBI accession list table\n",
    "e.g. [this table](https://www.ncbi.nlm.nih.gov/labs/virus/vssi/#/virus?SeqType_s=Nucleotide&VirusLineage_ss=SARS-CoV-2,%20taxid:2697049)"
   ]
  },
  {
   "cell_type": "code",
   "execution_count": 1,
   "metadata": {},
   "outputs": [
    {
     "data": {
      "text/plain": [
       "\"/home/jovyan/workspace/sars-cov2-pangenome-analysis/data/sequences\""
      ]
     },
     "execution_count": 1,
     "metadata": {},
     "output_type": "execute_result"
    }
   ],
   "source": [
    "# papermill parameters\n",
    "base=\"$(homedir())/workspace\"\n",
    "project=\"sars-cov2-pangenome-analysis\"\n",
    "\n",
    "accession_table_file = \"$(base)/$(project)/metadata/sequences.csv\"\n",
    "output_directory = \"$(base)/$(project)/data/sequences\""
   ]
  },
  {
   "cell_type": "markdown",
   "metadata": {},
   "source": [
    "## Materials, Methods, and Functions"
   ]
  },
  {
   "cell_type": "code",
   "execution_count": 2,
   "metadata": {},
   "outputs": [
    {
     "data": {
      "text/plain": [
       "\"/home/jovyan/workspace/sars-cov2-pangenome-analysis/data/sequences\""
      ]
     },
     "execution_count": 2,
     "metadata": {},
     "output_type": "execute_result"
    }
   ],
   "source": [
    "mkpath(output_directory)"
   ]
  },
  {
   "cell_type": "code",
   "execution_count": 3,
   "metadata": {},
   "outputs": [
    {
     "name": "stderr",
     "output_type": "stream",
     "text": [
      "\u001b[32m\u001b[1m    Updating\u001b[22m\u001b[39m registry at `/opt/julia/registries/General`\n",
      "\u001b[32m\u001b[1m  No Changes\u001b[22m\u001b[39m to `~/work/Mycelia/Project.toml`\n",
      "\u001b[32m\u001b[1m  No Changes\u001b[22m\u001b[39m to `~/work/Mycelia/Manifest.toml`\n"
     ]
    }
   ],
   "source": [
    "import Pkg\n",
    "Pkg.update()\n",
    "\n",
    "pkgs = [\n",
    "    \"Revise\",\n",
    "    \"DataFrames\",\n",
    "    \"uCSV\",\n",
    "    \"ProgressMeter\",\n",
    "    \"FASTX\",\n",
    "    \"Revise\"\n",
    "]\n",
    "\n",
    "for pkg in pkgs\n",
    "    try\n",
    "        eval(Meta.parse(\"import $pkg\"))\n",
    "    catch\n",
    "        Pkg.add(pkg)\n",
    "        eval(Meta.parse(\"import $pkg\"))\n",
    "    end\n",
    "end\n",
    "\n",
    "# Pkg.add(url=\"https://github.com/cjprybol/Mycelia.git\", rev=\"master\")\n",
    "import Mycelia"
   ]
  },
  {
   "cell_type": "code",
   "execution_count": 4,
   "metadata": {},
   "outputs": [],
   "source": [
    "# @time accession_table = DataFrames.DataFrame(uCSV.read(accession_table_file, typedetectrows=100, header=1, quotes='\"')...)"
   ]
  },
  {
   "cell_type": "code",
   "execution_count": null,
   "metadata": {},
   "outputs": [
    {
     "name": "stderr",
     "output_type": "stream",
     "text": [
      "\u001b[32mProgress:   4%|█▋                                       |  ETA: 4:05:00\u001b[39m39m"
     ]
    }
   ],
   "source": [
    "# sort files by reverse size\n",
    "# this is helpful to track down incomplete sequences\n",
    "# can also determine the size of each genome\n",
    "# then determine if there is a good cutoff at which to just remove the incomplete ones\n",
    "# ls -lShr\n",
    "\n",
    "p = ProgressMeter.Progress(countlines(accession_table_file))\n",
    "table_io = open(accession_table_file)\n",
    "header = readline(table_io)\n",
    "# ProgressMeter.@showprogress for accession in accession_table[!, \"Accession\"]\n",
    "for line in eachline(table_io)\n",
    "    accession = split(line, ',')[1]\n",
    "    outfile = joinpath(output_directory, \"$(accession).fna\")\n",
    "    if !(outfile) || (filesize(outfile) == 0)\n",
    "        fasta_records = collect(Mycelia.get_sequence(db=\"nuccore\", accession=accession))\n",
    "        open(outfile, \"w\") do io\n",
    "            fastx_io = FASTX.FASTA.Writer(io)\n",
    "            for record in fasta_records\n",
    "                write(fastx_io, record)\n",
    "            end\n",
    "            close(fastx_io)\n",
    "        end\n",
    "    end\n",
    "    ProgressMeter.next!(p)\n",
    "end\n",
    "table_io"
   ]
  }
 ],
 "metadata": {
  "kernelspec": {
   "display_name": "Julia 1.6.3",
   "language": "julia",
   "name": "julia-1.6"
  },
  "language_info": {
   "file_extension": ".jl",
   "mimetype": "application/julia",
   "name": "julia",
   "version": "1.6.3"
  }
 },
 "nbformat": 4,
 "nbformat_minor": 4
}
