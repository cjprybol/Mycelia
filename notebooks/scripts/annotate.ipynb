{
 "cells": [
  {
   "cell_type": "code",
   "execution_count": null,
   "id": "071f311a-aa17-4c81-a665-417874a821d2",
   "metadata": {
    "tags": []
   },
   "outputs": [],
   "source": [
    "import Pkg\n",
    "Pkg.activate(\".\")\n",
    "\n",
    "# not for the faint of heart!\n",
    "# Pkg.update()\n",
    "\n",
    "pkgs = [\n",
    "\"ArgParse\",\n",
    "\"Base64\",\n",
    "\"BioSequences\",\n",
    "\"DataFrames\",\n",
    "\"Dates\",\n",
    "\"DelimitedFiles\",\n",
    "\"FASTX\",\n",
    "\"GLM\",\n",
    "\"HTTP\",\n",
    "\"JSON\",\n",
    "\"Graphs\",\n",
    "\"MetaGraphs\",\n",
    "\"MD5\",\n",
    "\"Statistics\",\n",
    "\"StatsPlots\",\n",
    "\"uCSV\",\n",
    "\"CodecZlib\",\n",
    "\"YAML\",\n",
    "\"Revise\",\n",
    "\"Kmers\",\n",
    "\"StatsBase\"\n",
    "]\n",
    "Pkg.add(pkgs)\n",
    "for pkg in pkgs\n",
    "    eval(Meta.parse(\"import $pkg\"))\n",
    "end\n",
    "\n",
    "# point me to remote upon deployment\n",
    "Pkg.develop(path=\"$(homedir())/workspace/Mycelia\")\n",
    "# can point to a specific git commit\n",
    "# Pkg.add(url=\"https://github.com/cjprybol/Mycelia\", rev=\"master\")\n",
    "import Mycelia"
   ]
  },
  {
   "cell_type": "code",
   "execution_count": null,
   "id": "897ceee5-a568-40dd-bed0-e5bcaf19c362",
   "metadata": {
    "tags": []
   },
   "outputs": [],
   "source": [
    "config = YAML.load_file(\"config.yaml\")"
   ]
  },
  {
   "cell_type": "code",
   "execution_count": null,
   "id": "2662be82-dc59-45c9-89e3-71a135a918c5",
   "metadata": {
    "tags": []
   },
   "outputs": [],
   "source": [
    "config[\"start time\"] = \"20230215T175842538\"\n",
    "# config[\"start time\"] = replace(Dates.format(Dates.now(), Dates.ISODateTimeFormat), r\"[^\\w]\" => \"\")"
   ]
  },
  {
   "cell_type": "code",
   "execution_count": null,
   "id": "3036a10d-a5f9-4d12-80ac-1d9c9f129d53",
   "metadata": {
    "tags": []
   },
   "outputs": [],
   "source": [
    "config[\"githash\"] = \"3bd2daa8\"\n",
    "# config[\"githash\"] = rstrip(read(`git rev-parse HEAD`, String))[1:8]"
   ]
  },
  {
   "cell_type": "code",
   "execution_count": null,
   "id": "2113b7b4-c8d3-41fb-abaf-20c6472a783c",
   "metadata": {},
   "outputs": [],
   "source": [
    "config[\"annotation run identifier\"] = join((config[\"assembly run identifier\"], config[\"start time\"], config[\"githash\"]), \"__\")"
   ]
  },
  {
   "cell_type": "code",
   "execution_count": null,
   "id": "f82493d8-6e60-4644-8472-3ef01a6ce6dc",
   "metadata": {},
   "outputs": [],
   "source": [
    "OUT_DIR = mkpath(config[\"annotation run identifier\"])"
   ]
  },
  {
   "cell_type": "code",
   "execution_count": null,
   "id": "e4245672-f03a-4d17-b4fc-aabfe0a25771",
   "metadata": {
    "tags": []
   },
   "outputs": [],
   "source": [
    "# pull tarchive\n",
    "sequencing_run_identifier, sample_identifier, assembly_start_time, assembly_hash = split(config[\"assembly run identifier\"], \"__\")\n",
    "remote_assembly_tarball = \"$(config[\"remote\"])/Assemblies/$(sequencing_run_identifier)/$(sample_identifier)/$(config[\"assembly run identifier\"]).tar.gz\"\n",
    "local_assembly_tarball = basename(remote_assembly_tarball)\n",
    "local_assembly_folder = replace(local_assembly_tarball, \".tar.gz\" => \"\")\n",
    "if !isfile(local_assembly_tarball)\n",
    "    run(`rclone copy $(remote_assembly_tarball) .`)\n",
    "    run(`tar -xf $(local_assembly_tarball)`)\n",
    "end"
   ]
  },
  {
   "cell_type": "code",
   "execution_count": null,
   "id": "6d396495-7017-4b9c-b859-25c4431ff2c6",
   "metadata": {},
   "outputs": [],
   "source": [
    "# consider using GFA to review topology of each contig and then annotating circular vs linear contigs in seperate prodigal batches"
   ]
  },
  {
   "cell_type": "code",
   "execution_count": null,
   "id": "6501c772-5ee7-4860-ab03-d05852a7a1da",
   "metadata": {
    "tags": []
   },
   "outputs": [],
   "source": [
    "assembled_fasta = joinpath(local_assembly_folder, config[\"assembly run identifier\"] * \".final.contigs.fastg.gfa.fna\")"
   ]
  },
  {
   "cell_type": "code",
   "execution_count": null,
   "id": "460fd918-0c6d-4e13-966b-827d17b94147",
   "metadata": {},
   "outputs": [],
   "source": [
    "# @info \"normalizing fasta file\"\n",
    "# normalized_fasta_file = normalize_fasta(\"$OUT_DIR/raw_fasta/$ID.fasta\", OUT_DIR)"
   ]
  },
  {
   "cell_type": "markdown",
   "id": "1901e336-c8aa-4590-b39c-357a8f2ac0f3",
   "metadata": {},
   "source": [
    "# ORF calling"
   ]
  },
  {
   "cell_type": "code",
   "execution_count": null,
   "id": "58de256f-028e-4b76-98ed-36d17ceed070",
   "metadata": {
    "tags": []
   },
   "outputs": [],
   "source": [
    "# @info \"running prodigal\"\n",
    "prodigal_directory = Mycelia.run_prodigal(out_dir=OUT_DIR, fasta_file=assembled_fasta)\n",
    "nucleic_acid_fasta = joinpath(prodigal_directory, config[\"annotation run identifier\"] * \".prodigal.fna\")\n",
    "amino_acid_fasta = joinpath(prodigal_directory, config[\"annotation run identifier\"] * \".prodigal.faa\")\n",
    "gff = joinpath(prodigal_directory, config[\"annotation run identifier\"] * \".prodigal.gff\")"
   ]
  },
  {
   "cell_type": "markdown",
   "id": "c6932edc-3332-4b70-be58-a9a506737b4f",
   "metadata": {},
   "source": [
    "# General Annotation"
   ]
  },
  {
   "cell_type": "code",
   "execution_count": null,
   "id": "d0c47e62-6679-4de7-8822-75c4a6d09987",
   "metadata": {
    "tags": []
   },
   "outputs": [],
   "source": [
    "# refseq_protein -> blastp\n",
    "# https://blast.ncbi.nlm.nih.gov/Blast.cgi\n",
    "@info \"running blastp\"\n",
    "blastdb_dir = \"$(homedir())/blastdb\"\n",
    "blast_db = \"refseq_protein\"\n",
    "if isdir(blastdb_dir)\n",
    "    if !isempty(filter(x -> occursin(blast_db, x), readdir(blastdb_dir)))\n",
    "        @info \"blast db detected, using existing\"\n",
    "    elseif isempty(filter(x -> occursin(blast_db, x), readdir(blastdb_dir)))\n",
    "        @info \"blast db not detected but folder found, using NCBI download to add to existing database\"\n",
    "        # ~ 1.5hours to download from ncbi\n",
    "        Mycelia.download_blast_db(db=blast_db, outdir=blastdb_dir, source=\"ncbi\")\n",
    "    end\n",
    "else\n",
    "    # we're probably on a cloud build\n",
    "    Mycelia.download_blast_db(db=blast_db, outdir=blastdb_dir, source=\"gcp\")\n",
    "end\n",
    "# 14332.578486 seconds (435.48 k allocations: 13.843 MiB)\n",
    "# 233 minutes = 3.8 hours\n",
    "blast_dir = Mycelia.run_blast(out_dir=OUT_DIR, fasta=amino_acid_fasta, blast_db=\"$(blastdb_dir)/$(blast_db)\", blast_command=\"blastp\")"
   ]
  },
  {
   "cell_type": "code",
   "execution_count": null,
   "id": "cd06ffea-681f-41aa-9c09-9cba1c3eae61",
   "metadata": {},
   "outputs": [],
   "source": [
    "# consider exporting refseq protein to diamond and then running diamond to save runtime\n",
    "\n",
    "# ./diamond prepdb -d nr\n",
    "\n",
    "# wget ftp://ftp.ncbi.nlm.nih.gov/pub/taxonomy/accession2taxid/prot.accession2taxid.FULL.gz\n",
    "# blastdbcmd -db refseq_protein -entry all | diamond makedb --db refseq_protein.diamond --taxonmap prot.accession2taxid.FULL.gz\n",
    "\n",
    "\n",
    "# ./diamond blastp -d nr -q queries.fasta -o matches.tsv\n",
    "\n",
    "config[\"annotation run identifier\"]\n",
    "\n",
    "diamond_db = joinpath(blastdb_dir, \"refseq_protein.diamond\")\n",
    "\n",
    "Mycelia.run_diamond(\n",
    "        identifier=config[\"annotation run identifier\"],\n",
    "        out_dir=OUT_DIR,\n",
    "        protein_fasta=amino_acid_fasta,\n",
    "        diamond_db=diamond_db,\n",
    "    )"
   ]
  },
  {
   "cell_type": "code",
   "execution_count": null,
   "id": "4c5316c6-d6c9-46f5-931c-cb94e8426f55",
   "metadata": {
    "tags": []
   },
   "outputs": [],
   "source": [
    "# Mmseqs +\n",
    "# https://github.com/soedinglab/MMseqs2\n",
    "# run(`mamba install -c bioconda mmseqs2`)"
   ]
  },
  {
   "cell_type": "code",
   "execution_count": null,
   "id": "21d272fc-f75e-4464-9821-ecddd6f57715",
   "metadata": {},
   "outputs": [],
   "source": [
    "# Mycelia.download_mmseqs_db(db=\"NR\")\n",
    "# Mycelia.download_mmseqs_db(db=\"NT\")"
   ]
  },
  {
   "cell_type": "code",
   "execution_count": null,
   "id": "999c710b-f426-41cf-b9c9-bbf55a3b35df",
   "metadata": {
    "tags": []
   },
   "outputs": [],
   "source": [
    "# amino acid\n",
    "# ~ 5 hour download time may not be tolerable?\n",
    "# processing\n",
    "# 7930.350543 seconds (710.71 k allocations: 40.309 MiB, 0.00% gc time, 0.00% compilation time)\n",
    "# 2 hours 12m\n",
    "# 1.5 hours for iterative search with varying sensitivity\n",
    "Mycelia.download_mmseqs_db(db=\"UniRef100\")\n",
    "# mmseqs databases --compressed 1 --remove-tmp-files 1 --force-reuse 1 UniRef100 $HOME/mmseqs/UniRef100 $HOME/mmseqs/tmp\n",
    "\n",
    "Mycelia.run_mmseqs_easy_search(out_dir=OUT_DIR, query_fasta=amino_acid_fasta, target_database=\"$(homedir())/mmseqs/UniRef100\", outfile=config[\"annotation run identifier\"])\n",
    "# add taxonomic information to uniref classifications above!"
   ]
  },
  {
   "cell_type": "code",
   "execution_count": null,
   "id": "82b21a73-e3ef-47dd-b3a0-5a271d99ec55",
   "metadata": {
    "tags": []
   },
   "outputs": [],
   "source": [
    "# 42.0M\n",
    "# done\n",
    "Mycelia.download_mmseqs_db(db=\"PDB\")\n",
    "# mmseqs databases --compressed 1 --remove-tmp-files 1 PDB $HOME/mmseqs/PDB $HOME/mmseqs/tmp\n",
    "\n",
    "# good names!\n",
    "Mycelia.run_mmseqs_easy_search(out_dir=OUT_DIR, query_fasta=amino_acid_fasta, target_database=\"$(homedir())/mmseqs/PDB\", outfile=config[\"annotation run identifier\"], force=true)"
   ]
  },
  {
   "cell_type": "code",
   "execution_count": null,
   "id": "eac4a812-a97f-4472-9347-00418806e657",
   "metadata": {
    "tags": []
   },
   "outputs": [],
   "source": [
    "# 334M\n",
    "# done\n",
    "Mycelia.download_mmseqs_db(db=\"CDD\")\n",
    "# mmseqs databases --compressed 1 --remove-tmp-files 1 CDD $HOME/mmseqs/CDD $HOME/mmseqs/tmp\n",
    "\n",
    "# not useful names\n",
    "Mycelia.run_mmseqs_easy_search(out_dir=OUT_DIR, query_fasta=amino_acid_fasta, target_database=\"$(homedir())/mmseqs/CDD\", outfile=config[\"annotation run identifier\"])\n",
    "\n",
    "# wget https://ftp.ncbi.nih.gov/pub/mmdb/cdd/cddid_all.tbl.gz\n",
    "# gzip -d cddid_all.tbl.gz\n",
    "# \n",
    "\n",
    "# ===============================================================================\n",
    "# cddid_all.tbl.gz\n",
    "# =============================================================================== \n",
    "\n",
    "# \"cddid_all.tbl.gz\" contains summary information about all CD models in\n",
    "# this distribution. This is a tab-delimited text file, with a single row per CD \n",
    "# model and the following columns:\n",
    "\n",
    "#  PSSM-Id (unique numerical identifier)\n",
    "#  CD accession (starting with 'cd', 'pfam', 'smart', 'COG', 'PRK', 'CHL', 'KOG',\n",
    "#                or 'LOAD')\n",
    "#  CD \"short name\"\n",
    "#  CD description\n",
    "#  PSSM-Length (number of columns, the size of the search model)\n",
    "\n",
    "#         (Scope A: this file includes data from ALL CD models; \n",
    "#         see section on \"SCOPE OF DATA in FTP FILES\" for details)"
   ]
  }
 ],
 "metadata": {
  "kernelspec": {
   "display_name": "Julia 1.6.7",
   "language": "julia",
   "name": "julia-1.6"
  },
  "language_info": {
   "file_extension": ".jl",
   "mimetype": "application/julia",
   "name": "julia",
   "version": "1.6.7"
  }
 },
 "nbformat": 4,
 "nbformat_minor": 5
}
