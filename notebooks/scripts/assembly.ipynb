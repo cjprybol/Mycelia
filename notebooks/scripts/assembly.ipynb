{
 "cells": [
  {
   "cell_type": "code",
   "execution_count": null,
   "id": "d0594e70-4ab7-40f1-9b74-dd2897562648",
   "metadata": {
    "tags": []
   },
   "outputs": [],
   "source": [
    "import Pkg\n",
    "Pkg.activate(\".\")\n",
    "\n",
    "# not for the faint of heart!\n",
    "# Pkg.update()\n",
    "\n",
    "pkgs = [\n",
    "\"ArgParse\",\n",
    "\"Base64\",\n",
    "\"BioSequences\",\n",
    "\"DataFrames\",\n",
    "\"Dates\",\n",
    "\"DelimitedFiles\",\n",
    "\"FASTX\",\n",
    "\"GLM\",\n",
    "\"HTTP\",\n",
    "\"JSON\",\n",
    "\"Graphs\",\n",
    "\"MetaGraphs\",\n",
    "\"MD5\",\n",
    "\"Statistics\",\n",
    "\"StatsPlots\",\n",
    "\"uCSV\",\n",
    "\"CodecZlib\",\n",
    "\"YAML\",\n",
    "\"Revise\",\n",
    "\"Kmers\",\n",
    "\"StatsBase\"\n",
    "]\n",
    "Pkg.add(pkgs)\n",
    "for pkg in pkgs\n",
    "    eval(Meta.parse(\"import $pkg\"))\n",
    "end\n",
    "\n",
    "import Mycelia"
   ]
  },
  {
   "cell_type": "code",
   "execution_count": null,
   "id": "78fc362a-869a-40ac-879f-6a5117997d6c",
   "metadata": {
    "tags": []
   },
   "outputs": [],
   "source": [
    "config = YAML.load_file(\"config.yaml\")"
   ]
  },
  {
   "cell_type": "code",
   "execution_count": null,
   "id": "2662be82-dc59-45c9-89e3-71a135a918c5",
   "metadata": {
    "tags": []
   },
   "outputs": [],
   "source": [
    "# config[\"start time\"] = \"20230206T171658393\"\n",
    "config[\"start time\"] = replace(Dates.format(Dates.now(), Dates.ISODateTimeFormat), r\"[^\\w]\" => \"\")"
   ]
  },
  {
   "cell_type": "code",
   "execution_count": null,
   "id": "3036a10d-a5f9-4d12-80ac-1d9c9f129d53",
   "metadata": {
    "tags": []
   },
   "outputs": [],
   "source": [
    "# config[\"githash\"] = \"de06764d\"\n",
    "config[\"githash\"] = rstrip(read(`git rev-parse HEAD`, String))[1:8]"
   ]
  },
  {
   "cell_type": "code",
   "execution_count": null,
   "id": "599b4c01-d34b-44da-83fd-49ea7db25f26",
   "metadata": {
    "tags": []
   },
   "outputs": [],
   "source": [
    "config[\"assembly run identifier\"] = join((config[\"sequencing run identifier\"], config[\"sample identifier\"], config[\"start time\"], config[\"githash\"]), \"__\")"
   ]
  },
  {
   "cell_type": "code",
   "execution_count": null,
   "id": "d729ea46-c3ff-4b09-b9b5-04da3ee8f65b",
   "metadata": {
    "tags": []
   },
   "outputs": [],
   "source": [
    "OUT_DIR = mkpath(config[\"assembly run identifier\"])"
   ]
  },
  {
   "cell_type": "code",
   "execution_count": null,
   "id": "dd0368ef-9f8a-4efb-9268-475ce0179d70",
   "metadata": {
    "tags": []
   },
   "outputs": [],
   "source": [
    "remote_fastq_tar = joinpath(config[\"remote\"], config[\"sequencing run identifier\"], config[\"sample identifier\"] * \".tar.gz\")\n",
    "local_fastq_tar = basename(remote_fastq_tar)"
   ]
  },
  {
   "cell_type": "code",
   "execution_count": null,
   "id": "6efbd6b6-25b7-41ab-b21e-2a363bf707d4",
   "metadata": {
    "tags": []
   },
   "outputs": [],
   "source": [
    "# we will put all of the key results into this json dict\n",
    "results = Dict()"
   ]
  },
  {
   "cell_type": "code",
   "execution_count": null,
   "id": "3a6c1468-74f3-4839-aba8-946ff1a54b93",
   "metadata": {
    "tags": []
   },
   "outputs": [],
   "source": [
    "TRIMMED_FORWARD = joinpath(config[\"sample identifier\"], config[\"sample identifier\"] * \"_L001_R1_001_val_1.fq.gz\")\n",
    "TRIMMED_REVERSE = joinpath(config[\"sample identifier\"], config[\"sample identifier\"] * \"_L001_R2_001_val_2.fq.gz\")"
   ]
  },
  {
   "cell_type": "code",
   "execution_count": null,
   "id": "1c2fd020-e557-4f9f-8d29-09a3808ee653",
   "metadata": {
    "tags": []
   },
   "outputs": [],
   "source": [
    "if !isfile(TRIMMED_FORWARD) && !isfile(TRIMMED_REVERSE)\n",
    "    run(`rclone --retries 5 copy $(remote_fastq_tar) .`)\n",
    "    extracted_tar_directory = replace(local_fastq_tar, \".tar.gz\" => \"\")\n",
    "    # run(`tar vzxf $(local_fastq_tar) $(TRIMMED_FORWARD) $(TRIMMED_REVERSE)`)\n",
    "    run(`tar vzxf $(local_fastq_tar)`)\n",
    "end"
   ]
  },
  {
   "cell_type": "code",
   "execution_count": null,
   "id": "e3be87b5-4e78-4cb6-adcf-45deffa920f3",
   "metadata": {
    "tags": []
   },
   "outputs": [],
   "source": [
    "median_read_length = Statistics.median(vcat(Mycelia.determine_read_lengths(TRIMMED_FORWARD), Mycelia.determine_read_lengths(TRIMMED_REVERSE)))\n",
    "results[\"median read length\"] = Int(floor(median_read_length))"
   ]
  },
  {
   "cell_type": "code",
   "execution_count": null,
   "id": "756ee2a0-704d-464c-a1fa-1dd5c2adf6d3",
   "metadata": {
    "tags": []
   },
   "outputs": [],
   "source": [
    "kmer_spectra_dir = mkpath(\"$OUT_DIR/kmer-spectra\")\n",
    "\n",
    "downsample_file = joinpath(kmer_spectra_dir, \"downsampling-rate.txt\")\n",
    "kmer_spectra_png = joinpath(kmer_spectra_dir, \"peak-detected.png\")\n",
    "kmer_spectra_svg = joinpath(kmer_spectra_dir, \"peak-detected.svg\")\n",
    "\n",
    "if !isfile(downsample_file) || !isfile(kmer_spectra_png) || !isfile(kmer_spectra_svg)\n",
    "    Mycelia.analyze_kmer_spectra(\n",
    "        out_directory = \"$OUT_DIR/kmer-spectra\",\n",
    "        forward_reads = TRIMMED_FORWARD,\n",
    "        reverse_reads = TRIMMED_REVERSE,\n",
    "        k=17,\n",
    "        target_coverage=300)\n",
    "end\n",
    "\n",
    "results[\"downsampling rate\"] = readline(downsample_file)"
   ]
  },
  {
   "cell_type": "code",
   "execution_count": null,
   "id": "75fed8b5-7215-4e51-b153-7608d796d6af",
   "metadata": {
    "tags": []
   },
   "outputs": [],
   "source": [
    "mkpath(\"$OUT_DIR/downsampled\")\n",
    "DOWNSAMPLED_FORWARD = \"$OUT_DIR/downsampled/forward.downsampled.fastq.gz\"\n",
    "DOWNSAMPLED_REVERSE = \"$OUT_DIR/downsampled/reverse.downsampled.fastq.gz\"\n",
    "if !isfile(DOWNSAMPLED_FORWARD) || !isfile(DOWNSAMPLED_REVERSE)\n",
    "    if results[\"downsampling rate\"] == \"1.0\"\n",
    "        # coverage too low to justify downsampling\n",
    "        cp(TRIMMED_FORWARD, DOWNSAMPLED_FORWARD)\n",
    "        cp(TRIMMED_REVERSE, DOWNSAMPLED_REVERSE)\n",
    "    else\n",
    "        # should actually downsample\n",
    "        run(pipeline(`gzip -dc $(TRIMMED_FORWARD)`, \"$OUT_DIR/downsampled/forward.fastq\"))\n",
    "        run(pipeline(\n",
    "            `seqtk sample $OUT_DIR/downsampled/forward.fastq $(results[\"downsampling rate\"])`,\n",
    "            `gzip`,\n",
    "            \"$OUT_DIR/downsampled/forward.downsampled.fastq.gz\"\n",
    "        ))\n",
    "        rm(\"$OUT_DIR/downsampled/forward.fastq\")\n",
    "\n",
    "        run(pipeline(`gzip -dc $(TRIMMED_REVERSE)`, \"$OUT_DIR/downsampled/reverse.fastq\"))\n",
    "        run(pipeline(\n",
    "            `seqtk sample $OUT_DIR/downsampled/reverse.fastq $(results[\"downsampling rate\"])`,\n",
    "            `gzip`,\n",
    "            \"$OUT_DIR/downsampled/reverse.downsampled.fastq.gz\"\n",
    "        ))\n",
    "        rm(\"$OUT_DIR/downsampled/reverse.fastq\")\n",
    "    end\n",
    "end"
   ]
  },
  {
   "cell_type": "code",
   "execution_count": null,
   "id": "f91a9807-d079-41da-ab62-c51c475c2664",
   "metadata": {
    "tags": []
   },
   "outputs": [],
   "source": [
    "# megahit: MEGAHIT v1.2.9\n",
    "\n",
    "# contact: Dinghua Li <voutcn@gmail.com>\n",
    "\n",
    "# Usage:\n",
    "#   megahit [options] {-1 <pe1> -2 <pe2> | --12 <pe12> | -r <se>} [-o <out_dir>]\n",
    "\n",
    "#   Input options that can be specified for multiple times (supporting plain text and gz/bz2 extensions)\n",
    "#     -1                       <pe1>          comma-separated list of fasta/q paired-end #1 files, paired with files in <pe2>\n",
    "#     -2                       <pe2>          comma-separated list of fasta/q paired-end #2 files, paired with files in <pe1>\n",
    "#     --12                     <pe12>         comma-separated list of interleaved fasta/q paired-end files\n",
    "#     -r/--read                <se>           comma-separated list of fasta/q single-end files\n",
    "\n",
    "# Optional Arguments:\n",
    "#   Basic assembly options:\n",
    "#     --min-count              <int>          minimum multiplicity for filtering (k_min+1)-mers [2]\n",
    "#     --k-list                 <int,int,..>   comma-separated list of kmer size\n",
    "#                                             all must be odd, in the range 15-255, increment <= 28)\n",
    "#                                             [21,29,39,59,79,99,119,141]\n",
    "\n",
    "#   Another way to set --k-list (overrides --k-list if one of them set):\n",
    "#     --k-min                  <int>          minimum kmer size (<= 255), must be odd number [21]\n",
    "#     --k-max                  <int>          maximum kmer size (<= 255), must be odd number [141]\n",
    "#     --k-step                 <int>          increment of kmer size of each iteration (<= 28), must be even number [12]\n",
    "\n",
    "#   Advanced assembly options:\n",
    "#     --no-mercy                              do not add mercy kmers\n",
    "#     --bubble-level           <int>          intensity of bubble merging (0-2), 0 to disable [2]\n",
    "#     --merge-level            <l,s>          merge complex bubbles of length <= l*kmer_size and similarity >= s [20,0.95]\n",
    "#     --prune-level            <int>          strength of low depth pruning (0-3) [2]\n",
    "#     --prune-depth            <int>          remove unitigs with avg kmer depth less than this value [2]\n",
    "#     --disconnect-ratio       <float>        disconnect unitigs if its depth is less than this ratio times \n",
    "#                                             the total depth of itself and its siblings [0.1]  \n",
    "#     --low-local-ratio        <float>        remove unitigs if its depth is less than this ratio times\n",
    "#                                             the average depth of the neighborhoods [0.2]\n",
    "#     --max-tip-len            <int>          remove tips less than this value [2*k]\n",
    "#     --cleaning-rounds        <int>          number of rounds for graph cleanning [5]\n",
    "#     --no-local                              disable local assembly\n",
    "#     --kmin-1pass                            use 1pass mode to build SdBG of k_min\n",
    "\n",
    "#   Presets parameters:\n",
    "#     --presets                <str>          override a group of parameters; possible values:\n",
    "#                                             meta-sensitive: '--min-count 1 --k-list 21,29,39,49,...,129,141'\n",
    "#                                             meta-large: '--k-min 27 --k-max 127 --k-step 10'\n",
    "#                                             (large & complex metagenomes, like soil)\n",
    "\n",
    "#   Hardware options:\n",
    "#     -t/--num-cpu-threads     <int>          number of CPU threads [# of logical processors]\n",
    "\n",
    "#   Output options:\n",
    "#     -o/--out-dir             <string>       output directory [./megahit_out]\n",
    "#     --out-prefix             <string>       output prefix (the contig file will be OUT_DIR/OUT_PREFIX.contigs.fa)\n",
    "#     --min-contig-len         <int>          minimum length of contigs to output [200]\n",
    "\n",
    "# k_lengths = [i for i in [21,29,39,59,79,99,119,141] if i < joint_median_read_length]\n",
    "# k_lengths_string = join(string.(k_lengths), ',')\n",
    "\n",
    "results[\"assembly method\"] = \"megahit\"\n",
    "\n",
    "assembly_dir = \"$OUT_DIR/megahit\"\n",
    "initial_assembled_fasta = \"$(assembly_dir)/final.contigs.fa\"\n",
    "assembled_fastg = replace(initial_assembled_fasta, \".fa\" => \".fastg\")\n",
    "\n",
    "if !isfile(initial_assembled_fasta)\n",
    "    run(`megahit -1 $DOWNSAMPLED_FORWARD -2 $DOWNSAMPLED_REVERSE -o $(assembly_dir)`)\n",
    "end\n",
    "\n",
    "# read in the assembled fasta file and parse contig identifiers to get final k length\n",
    "final_k_lengths = unique([replace(first(split(FASTX.identifier(record), '_')), r\"^k\" => \"\") for record in Mycelia.open_fastx(initial_assembled_fasta)])\n",
    "@assert length(final_k_lengths) == 1\n",
    "final_k_length = parse(Int, first(final_k_lengths))\n",
    "if !isfile(assembled_fastg)\n",
    "    run(pipeline(`megahit_toolkit contig2fastg $(final_k_length) $(initial_assembled_fasta)`, assembled_fastg))\n",
    "end\n",
    "    \n",
    "assembled_gfa = \"$(assembled_fastg).gfa\"\n",
    "if !isfile(assembled_gfa)\n",
    "    run(`Bandage reduce $(assembled_fastg) $(assembled_gfa)`)\n",
    "end\n",
    "\n",
    "assembled_fasta = assembled_gfa * \".fna\"\n",
    "open(assembled_fasta, \"w\") do io\n",
    "    fastx_io = FASTX.FASTA.Writer(io)\n",
    "    gfa_graph = Mycelia.parse_gfa(assembled_gfa)\n",
    "    for v in Graphs.vertices(gfa_graph)\n",
    "        record = FASTX.FASTA.Record(gfa_graph.vprops[v][:identifier], gfa_graph.vprops[v][:sequence])\n",
    "        write(fastx_io, record)\n",
    "    end\n",
    "    close(fastx_io)\n",
    "end"
   ]
  },
  {
   "cell_type": "code",
   "execution_count": null,
   "id": "af92d258-1607-4151-8f32-8425eb17013b",
   "metadata": {
    "tags": []
   },
   "outputs": [],
   "source": [
    "# generate a bandage plot of the assembly graph\n",
    "bandage_outfile = \"$(assembled_gfa).bandage.jpg\"\n",
    "if !isfile(bandage_outfile)\n",
    "    run(`Bandage image $(assembled_gfa) $bandage_outfile`)\n",
    "end"
   ]
  },
  {
   "cell_type": "code",
   "execution_count": null,
   "id": "b182eadb-d7a8-4e91-886d-a65462f27718",
   "metadata": {
    "tags": []
   },
   "outputs": [],
   "source": [
    "# map reads to the assembly and run qualimap QC\n",
    "bwt_index = \"$(assembled_fasta).bwt\"\n",
    "if !isfile(bwt_index)\n",
    "    run(`bwa index $(assembled_fasta)`)\n",
    "end\n",
    "\n",
    "mapped_reads_bam = \"$(assembled_fasta).bwa.bam\"\n",
    "if !isfile(mapped_reads_bam)\n",
    "    run(pipeline(\n",
    "        `bwa mem -R \"@RG\\tID:$(config[\"sample identifier\"])\\tSM:bar\" -t $(Sys.CPU_THREADS) $(assembled_fasta) $(TRIMMED_FORWARD) $(TRIMMED_REVERSE)`,\n",
    "        `samtools collate -O - -`,\n",
    "        `samtools fixmate -m - -`,\n",
    "        `samtools sort`,\n",
    "        `samtools markdup - -`,\n",
    "        `samtools view -buh`,\n",
    "        mapped_reads_bam))\n",
    "end\n",
    "\n",
    "if !isfile(\"$(mapped_reads_bam).bai\")\n",
    "    run(`samtools index $(mapped_reads_bam)`)\n",
    "end\n",
    "\n",
    "qualimap_report_pdf = \"$(assembly_dir)/qualimap/report.pdf\"\n",
    "qualimap_report_txt = \"$(assembly_dir)/qualimap/genome_results.txt\"\n",
    "\n",
    "if !isfile(qualimap_report_pdf) || !isfile(qualimap_report_txt)\n",
    "    run(`\n",
    "        qualimap bamqc\n",
    "        -nt $(Sys.CPU_THREADS)\n",
    "        -bam $(mapped_reads_bam)\n",
    "        -outdir $(assembly_dir)/qualimap\n",
    "        -outformat PDF:HTML\n",
    "        --output-genome-coverage $(mapped_reads_bam).genome_coverage.txt\n",
    "        `)\n",
    "end\n",
    "\n",
    "qualimap_contig_coverage_table = Mycelia.parse_qualimap_contig_coverage(qualimap_report_txt)\n",
    "qualimap_contig_coverage_table[!, \"% Mapped bases\"] = round.(qualimap_contig_coverage_table[!, \"Mapped bases\"] ./ sum(qualimap_contig_coverage_table[!, \"Mapped bases\"]) .* 100, digits=3);"
   ]
  },
  {
   "cell_type": "code",
   "execution_count": null,
   "id": "2c354cba-17a9-490c-af49-954e22447f00",
   "metadata": {
    "tags": []
   },
   "outputs": [],
   "source": [
    "blastdb_dir = \"$(homedir())/blastdb\"\n",
    "blast_db = \"nt\"\n",
    "if isdir(blastdb_dir) && !isempty(readdir(blastdb_dir))\n",
    "    @info \"blast db detected, using existing\"\n",
    "    # Mycelia.download_blast_db(db=blast_db, outdir=blastdb_dir, source=\"ncbi\")\n",
    "    # Mycelia.download_blast_db(db=blast_db, outdir=blastdb_dir)\n",
    "else\n",
    "    # we're probably on a cloud build\n",
    "    Mycelia.download_blast_db(db=blast_db, outdir=blastdb_dir, source=\"gcp\")\n",
    "end\n",
    "\n",
    "db_path = joinpath(blastdb_dir, blast_db)\n",
    "# blast contigs against NCBI\n",
    "ncbi_blast_outfile = \"$(assembled_fasta).blastn.$(blast_db).txt\"\n",
    "\n",
    "# >= 1-2 hours to run remotely\n",
    "# 1679.701928 seconds\n",
    "# 3497.275545\n",
    " # 28m 0.44s\n",
    "if !isfile(ncbi_blast_outfile)\n",
    "    @time run(\n",
    "    `blastn\n",
    "        -num_threads $(Sys.CPU_THREADS)\n",
    "        -db $(db_path)\n",
    "        -outfmt '7 qseqid qtitle sseqid sacc saccver stitle qlen slen qstart qend sstart send evalue bitscore length pident nident mismatch staxid'\n",
    "        -query $(assembled_fasta)\n",
    "        -out $(ncbi_blast_outfile)`)\n",
    "end"
   ]
  },
  {
   "cell_type": "code",
   "execution_count": null,
   "id": "1ba94134-134f-4abf-8e4b-7bacd4489d69",
   "metadata": {
    "tags": []
   },
   "outputs": [],
   "source": [
    "# join the blast results to generate the contig info file\n",
    "ncbi_blast_results = Mycelia.parse_blast_report(ncbi_blast_outfile)\n",
    "\n",
    "if !isfile(\"taxdump.tar.gz\")\n",
    "    run(`wget https://ftp.ncbi.nih.gov/pub/taxonomy/taxdump.tar.gz`)\n",
    "end\n",
    "if !isdir(\"taxdump\")\n",
    "    mkdir(\"taxdump\")\n",
    "    run(`tar -xvzf taxdump.tar.gz --directory taxdump`)\n",
    "end\n",
    "\n",
    "detected_tax_id_file = \"$(OUT_DIR)/$(config[\"assembly run identifier\"]).detected_tax_ids.txt\"\n",
    "open(detected_tax_id_file, \"w\") do io\n",
    "    for taxid in unique(filter(!ismissing, ncbi_blast_results[!, \"subject tax id\"]))\n",
    "        println(io, taxid)\n",
    "    end\n",
    "end\n",
    "\n",
    "taxid_to_lineage_map = Dict(parse(Int, split_line[1]) => split_line[2] for split_line in split.(readlines(`taxonkit lineage --data-dir taxdump $(detected_tax_id_file)`), '\\t'))\n",
    "\n",
    "ncbi_blast_results[!, \"lineage\"] = map(x -> get(taxid_to_lineage_map, x, \"\"), ncbi_blast_results[!, \"subject tax id\"])\n",
    "\n",
    "ncbi_blast_results[!, \"% of subject length\"] = round.(ncbi_blast_results[!, \"query length\"] ./ ncbi_blast_results[!, \"subject length\"] * 100, digits=3)\n",
    "contig_info_table = DataFrames.leftjoin(qualimap_contig_coverage_table, ncbi_blast_results, on=\"Contig\" => \"query id\")\n",
    "\n",
    "# # get top 10 hits for each contig\n",
    "# contig_info_table_top_hits = \n",
    "# DataFrames.combine(DataFrames.groupby(contig_info_table, \"Contig\")) do gdf\n",
    "#    first(sort(gdf, \"bit score\", rev=true), 10)\n",
    "# end\n",
    "\n",
    "# re-order columns based on utility\n",
    "reordered_columns = [\n",
    "    \"Contig\",\n",
    "    \"Length\",\n",
    "    \"Mapped bases\",\n",
    "    \"Mean coverage\",\n",
    "    \"Standard Deviation\",\n",
    "    \"% Mapped bases\",\n",
    "    \"subject id\",\n",
    "    \"subject acc.\",\n",
    "    \"subject title\",\n",
    "    \"subject tax id\",\n",
    "    \"lineage\",\n",
    "    \"% identity\",\n",
    "    \"% of subject length\",\n",
    "    \"evalue\",\n",
    "    \"bit score\",\n",
    "    \"query length\",\n",
    "    \"subject length\",\n",
    "    \"alignment length\",\n",
    "    \"q. start\",\n",
    "    \"q. end\",\n",
    "    \"s. start\",\n",
    "    \"s. end\",\n",
    "    \"identical\",\n",
    "    \"mismatches\"\n",
    "]\n",
    "contig_info_table_top_hits = contig_info_table_top_hits[!, reordered_columns]\n",
    "sort!(contig_info_table_top_hits, [\"% Mapped bases\", \"bit score\"], rev=true)\n",
    "\n",
    "contig_info_csv = \"$(OUT_DIR)/$(config[\"assembly run identifier\"]).config_info.csv\"\n",
    "contig_info_tsv = \"$(OUT_DIR)/$(config[\"assembly run identifier\"]).config_info.tsv\"\n",
    "uCSV.write(contig_info_csv, contig_info_table_top_hits, quotes='\"')\n",
    "uCSV.write(contig_info_tsv, contig_info_table_top_hits)\n",
    "results[\"contig info\"] = contig_info_csv"
   ]
  }
 ],
 "metadata": {
  "kernelspec": {
   "display_name": "Julia 1.6.7",
   "language": "julia",
   "name": "julia-1.6"
  },
  "language_info": {
   "file_extension": ".jl",
   "mimetype": "application/julia",
   "name": "julia",
   "version": "1.6.7"
  }
 },
 "nbformat": 4,
 "nbformat_minor": 5
}
