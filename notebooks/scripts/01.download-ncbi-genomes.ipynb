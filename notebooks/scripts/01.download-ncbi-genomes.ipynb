{
 "cells": [
  {
   "cell_type": "markdown",
   "metadata": {},
   "source": [
    "## Objective\n",
    "\n",
    "download all genomes in NCBI refseq or genbank at or below a specified taxon_id"
   ]
  },
  {
   "cell_type": "markdown",
   "metadata": {},
   "source": [
    "## Materials, Methods, and Functions"
   ]
  },
  {
   "cell_type": "code",
   "execution_count": null,
   "id": "cccbe3bf-bc62-4ddc-bf81-6df99a11317c",
   "metadata": {
    "tags": [
     "parameters"
    ]
   },
   "outputs": [],
   "source": [
    "# default parameters\n",
    "@info \"define_parameters\"\n",
    "taxon_id = 10239\n",
    "data_dir = \"../../data/genomes\"\n",
    "# database = refseq or genbank\n",
    "ncbi_database = \"refseq\""
   ]
  },
  {
   "cell_type": "code",
   "execution_count": null,
   "metadata": {},
   "outputs": [],
   "source": [
    "@info \"initialize\"\n",
    "mkpath(data_dir)"
   ]
  },
  {
   "cell_type": "code",
   "execution_count": null,
   "metadata": {},
   "outputs": [],
   "source": [
    "@info \"import libraries\"\n",
    "import Mycelia\n",
    "import DataFrames\n",
    "import ProgressMeter"
   ]
  },
  {
   "cell_type": "code",
   "execution_count": null,
   "metadata": {},
   "outputs": [],
   "source": [
    "@info \"define functions\"\n",
    "function download_genome_from_ncbi_ftp_path(ftp_path)\n",
    "    # https://ftp.ncbi.nlm.nih.gov/genomes/all/GCF/000/819/615/GCF_000819615.1_ViralProj14015/GCF_000819615.1_ViralProj14015_genomic.fna.gz\n",
    "    fasta_filename = basename(ftp_path) * \"_genomic.fna.gz\"\n",
    "    full_ftp_path = joinpath(ftp_path, fasta_filename)\n",
    "    full_local_path = joinpath(data_dir, fasta_filename)\n",
    "    uncompressed_local_path = replace(full_local_path, \".gz\" => \"\")\n",
    "    if !isfile(uncompressed_local_path)\n",
    "        if !isfile(full_local_path)\n",
    "            download(full_ftp_path, full_local_path)\n",
    "        end\n",
    "        run(`gzip -d $full_local_path`)\n",
    "    end\n",
    "end"
   ]
  },
  {
   "cell_type": "code",
   "execution_count": null,
   "metadata": {},
   "outputs": [],
   "source": [
    "@info \"download ncbi metadata\"\n",
    "ncbi_metadata = Mycelia.load_ncbi_metadata(ncbi_database)"
   ]
  },
  {
   "cell_type": "code",
   "execution_count": null,
   "metadata": {},
   "outputs": [],
   "source": [
    "@info \"get child taxon_ids\"\n",
    "child_taxon_ids = Set([parse(Int, line) for line in eachline(open(`taxonkit list --ids $(taxon_id) --indent \"\"`)) if !isempty(line)])\n",
    "@assert taxon_id in child_taxon_ids"
   ]
  },
  {
   "cell_type": "code",
   "execution_count": null,
   "metadata": {},
   "outputs": [],
   "source": [
    "@info \"filter ncbi metadata down to child taxon ids\"\n",
    "is_right_taxa = map(taxid -> taxid in child_taxon_ids, ncbi_metadata[!, \"taxid\"])\n",
    "is_right_taxa .|= map(taxid -> taxid in child_taxon_ids, ncbi_metadata[!, \"species_taxid\"])\n",
    "filtered_ncbi_metadata = ncbi_metadata[is_right_taxa, :]"
   ]
  },
  {
   "cell_type": "code",
   "execution_count": null,
   "metadata": {},
   "outputs": [],
   "source": [
    "@info \"download genomes\"\n",
    "# ProgressMeter.@showprogress for ftp_path in filtered_ncbi_metadata[!, \"ftp_path\"]\n",
    "ProgressMeter.@showprogress for ftp_path in filtered_ncbi_metadata[1:10, \"ftp_path\"]\n",
    "    download_genome_from_ncbi_ftp_path(ftp_path)\n",
    "end"
   ]
  },
  {
   "cell_type": "markdown",
   "metadata": {},
   "source": [
    "## Experimental/Simulated Observations\n",
    "\n",
    "N/A"
   ]
  },
  {
   "cell_type": "markdown",
   "metadata": {},
   "source": [
    "## Analysis, Statistics, and Visualizations\n",
    "\n",
    "N/A"
   ]
  },
  {
   "cell_type": "markdown",
   "metadata": {},
   "source": [
    "## Summary of Results\n",
    "\n",
    "N/A"
   ]
  },
  {
   "cell_type": "markdown",
   "metadata": {},
   "source": [
    "## Conclusions and Future Directions\n",
    "\n",
    "N/A"
   ]
  }
 ],
 "metadata": {
  "kernelspec": {
   "display_name": "Julia 1.7.3",
   "language": "julia",
   "name": "julia-1.7"
  },
  "language_info": {
   "file_extension": ".jl",
   "mimetype": "application/julia",
   "name": "julia",
   "version": "1.7.3"
  }
 },
 "nbformat": 4,
 "nbformat_minor": 4
}
