{
 "cells": [
  {
   "cell_type": "code",
   "execution_count": 1,
   "id": "6ac73c46-51c9-4fea-845f-fb17ce8d83a2",
   "metadata": {},
   "outputs": [
    {
     "data": {
      "text/plain": [
       "\"/home/jovyan/2021-08-24-assess-convergence\""
      ]
     },
     "execution_count": 1,
     "metadata": {},
     "output_type": "execute_result"
    }
   ],
   "source": [
    "DATE = \"2021-08-24\"\n",
    "TASK = \"assess-convergence\"\n",
    "DIR = mkpath(\"$(homedir())/$(DATE)-$(TASK)\")"
   ]
  },
  {
   "cell_type": "code",
   "execution_count": 2,
   "id": "38cb383f-3696-4b4b-a732-9a2059e0681a",
   "metadata": {},
   "outputs": [],
   "source": [
    "import Pkg\n",
    "pkgs = [\n",
    "#     \"BioAlignments\",\n",
    "    \"BioSequences\",\n",
    "#     \"Clustering\",\n",
    "#     \"CodecZlib\",\n",
    "#     \"Colors\",\n",
    "#     \"Combinatorics\",\n",
    "#     \"DataFrames\",\n",
    "#     \"DataStructures\",\n",
    "    \"Dates\",\n",
    "#     \"DelimitedFiles\",\n",
    "#     \"Distances\",\n",
    "#     \"EzXML\",\n",
    "    \"FASTX\",\n",
    "#     \"GFF3\",\n",
    "#     \"HTTP\",\n",
    "#     \"Impute\",\n",
    "#     \"JSON\",\n",
    "    \"LightGraphs\",\n",
    "    \"LSHFunctions\",\n",
    "#     \"Measures\",\n",
    "    \"MetaGraphs\",\n",
    "    \"https://github.com/cjprybol/Mycelia.git\",\n",
    "#     \"NumericIO\",\n",
    "#     \"PlotlyJS\",\n",
    "#     \"Plots\",\n",
    "    \"Primes\",\n",
    "#     \"Printf\",\n",
    "    \"ProgressMeter\",\n",
    "    \"Random\",\n",
    "    \"Revise\",\n",
    "    \"SparseArrays\",\n",
    "    \"Statistics\",\n",
    "    \"StatsBase\",\n",
    "#     \"StatsPlots\",\n",
    "#     \"StringDistances\",\n",
    "#     \"uCSV\",\n",
    "#     \"XLSX\",\n",
    "]\n",
    "\n",
    "unregistered_packages = filter(pkg -> occursin(r\"(^https|git$)\", pkg), pkgs)\n",
    "registered_packages = setdiff(pkgs, unregistered_packages)\n",
    "\n",
    "for pkg in registered_packages\n",
    "    try\n",
    "        eval(Meta.parse(\"import $(pkg)\"))\n",
    "    catch\n",
    "        Pkg.add(pkg)\n",
    "        Pkg.build(pkg)\n",
    "        eval(Meta.parse(\"import $(pkg)\"))\n",
    "    end\n",
    "end\n",
    "\n",
    "for pkg_url in unregistered_packages\n",
    "    pkg_name = replace(basename(pkg_url), \".git\" => \"\")\n",
    "    try\n",
    "        eval(Meta.parse(\"import $(pkg_name)\"))\n",
    "    catch\n",
    "        Pkg.develop(url=pkg_url)\n",
    "        Pkg.build(pkg_name)\n",
    "        eval(Meta.parse(\"import $(pkg_name)\"))\n",
    "    end\n",
    "end"
   ]
  },
  {
   "cell_type": "code",
   "execution_count": 3,
   "id": "9f9307c7-1b35-4283-b1cb-adc87dc05f20",
   "metadata": {},
   "outputs": [
    {
     "data": {
      "text/plain": [
       "\"Bandage\""
      ]
     },
     "execution_count": 3,
     "metadata": {},
     "output_type": "execute_result"
    }
   ],
   "source": [
    "if Sys.isapple()\n",
    "    BANDAGE = \"/Applications/Bandage.app/Contents/MacOS/Bandage\"\n",
    "else\n",
    "    BANDAGE = \"Bandage\"\n",
    "end"
   ]
  },
  {
   "cell_type": "code",
   "execution_count": 4,
   "id": "8824e5f4-fcd5-4d3d-b77c-9d1086788677",
   "metadata": {},
   "outputs": [
    {
     "data": {
      "text/plain": [
       "assess_kmer_sparsity_in_reads (generic function with 1 method)"
      ]
     },
     "execution_count": 4,
     "metadata": {},
     "output_type": "execute_result"
    }
   ],
   "source": [
    "function assess_kmer_sparsity_in_reads(k, observations)\n",
    "#     @show k, observations\n",
    "    canonical_kmer_counts = Mycelia.count_canonical_kmers(BioSequences.DNAMer{k}, observations)\n",
    "#     canonical_kmer_counts = Mycelia.count_canonical_kmers(BioSequences.DNAMer{k}, first(observations))\n",
    "# #     @show canonical_kmer_counts\n",
    "#     for i in 2:length(observations)\n",
    "#         canonical_kmer_counts_ = Mycelia.count_canonical_kmers(BioSequences.DNAMer{k}, observations[i])\n",
    "#         canonical_kmer_counts = merge!(+, canonical_kmer_counts, canonical_kmer_counts_)\n",
    "#     end\n",
    "#     canonical_kmer_counts = map(o -> Mycelia.count_canonical_kmers(BioSequences.DNAMer{k}, o), observations)...)\n",
    "    total_observed_canonical_kmers = length(keys(canonical_kmer_counts))\n",
    "    total_possible_canonical_kmers = (4^k)/2\n",
    "    sparsity = round(total_observed_canonical_kmers/total_possible_canonical_kmers*100, sigdigits=3)\n",
    "    @show sparsity\n",
    "    return sparsity\n",
    "end"
   ]
  },
  {
   "cell_type": "code",
   "execution_count": 5,
   "id": "148b6939-0508-487c-91d1-94da6aa1409e",
   "metadata": {},
   "outputs": [
    {
     "data": {
      "text/plain": [
       "sequence_to_canonical_kmers (generic function with 1 method)"
      ]
     },
     "execution_count": 5,
     "metadata": {},
     "output_type": "execute_result"
    }
   ],
   "source": [
    "function sequence_to_canonical_kmers(kmer_type, sequence)\n",
    "    return (BioSequences.canonical(kmer.fw) for kmer in BioSequences.each(kmer_type, sequence))\n",
    "end"
   ]
  },
  {
   "cell_type": "code",
   "execution_count": 6,
   "id": "02e895c2-a0a6-40c6-841c-ebbf274c0a47",
   "metadata": {},
   "outputs": [
    {
     "data": {
      "text/plain": [
       "determine_edge_weights (generic function with 1 method)"
      ]
     },
     "execution_count": 6,
     "metadata": {},
     "output_type": "execute_result"
    }
   ],
   "source": [
    "function determine_edge_weights(graph)\n",
    "    outgoing_edge_probabilities = determine_edge_weights(graph, true)\n",
    "    incoming_edge_probabilities = determine_edge_weights(graph, false)\n",
    "    return Dict(true => outgoing_edge_probabilities, false => incoming_edge_probabilities)\n",
    "end"
   ]
  },
  {
   "cell_type": "code",
   "execution_count": 7,
   "id": "6212dc49-005c-40f9-8922-b80b3971c004",
   "metadata": {},
   "outputs": [
    {
     "data": {
      "text/plain": [
       "determine_edge_weights (generic function with 2 methods)"
      ]
     },
     "execution_count": 7,
     "metadata": {},
     "output_type": "execute_result"
    }
   ],
   "source": [
    "function determine_edge_weights(graph, strand)\n",
    "    kmers = [graph.vprops[v][:kmer] for v in LightGraphs.vertices(graph)]\n",
    "    outgoing_edge_weights = SparseArrays.spzeros(length(kmers), length(kmers))\n",
    "    \n",
    "    for (kmer_index, kmer) in enumerate(kmers)\n",
    "        if !strand\n",
    "            kmer = BioSequences.reverse_complement(kmer)\n",
    "        end\n",
    "        \n",
    "        downstream_neighbors = []\n",
    "        downstream_neighbor_weights = []\n",
    "        for neighbor in BioSequences.neighbors(kmer)\n",
    "            canonical_neighbor = BioSequences.canonical(neighbor)\n",
    "            neighbor_orientation = neighbor == canonical_neighbor\n",
    "            \n",
    "            neighbor_index_range = searchsorted(kmers, canonical_neighbor)\n",
    "            if !isempty(neighbor_index_range)\n",
    "                @assert length(neighbor_index_range) == 1\n",
    "                neighbor_index = first(neighbor_index_range)\n",
    "                if LightGraphs.has_edge(graph, LightGraphs.Edge(kmer_index, neighbor_index))\n",
    "                    edge_orientations = graph.eprops[LightGraphs.Edge(kmer_index, neighbor_index)][:orientations]\n",
    "                    this_edge_orientation = (source_orientation = strand, destination_orientation = neighbor_orientation)\n",
    "                    if this_edge_orientation in edge_orientations\n",
    "                        edge_weight = graph.eprops[LightGraphs.Edge(kmer_index, neighbor_index)][:weight]\n",
    "                        outgoing_edge_weights[kmer_index, neighbor_index] = edge_weight\n",
    "                    end\n",
    "                end\n",
    "            end\n",
    "        end\n",
    "    end\n",
    "    return outgoing_edge_weights\n",
    "end"
   ]
  },
  {
   "cell_type": "code",
   "execution_count": 8,
   "id": "33ffd192-f852-43e8-8eb1-3c19f5fe6141",
   "metadata": {},
   "outputs": [
    {
     "data": {
      "text/plain": [
       "determine_edge_probabilities (generic function with 1 method)"
      ]
     },
     "execution_count": 8,
     "metadata": {},
     "output_type": "execute_result"
    }
   ],
   "source": [
    "function determine_edge_probabilities(edge_weights)\n",
    "    edge_probabilities = deepcopy(edge_weights)\n",
    "    for orientation in [true, false]\n",
    "        for row in 1:size(edge_probabilities[orientation], 1)\n",
    "            edge_weights = edge_probabilities[orientation][row, :]\n",
    "            edge_total = sum(edge_weights)\n",
    "            for (col, edge_weight) in enumerate(edge_weights)\n",
    "                if edge_total > 0\n",
    "                    edge_probabilities[orientation][row, col] = edge_weight/edge_total\n",
    "                else\n",
    "                    edge_probabilities[orientation][row, col] = 0.0\n",
    "                end\n",
    "            end\n",
    "        end\n",
    "    end\n",
    "    return edge_probabilities\n",
    "end"
   ]
  },
  {
   "cell_type": "code",
   "execution_count": 9,
   "id": "94750a47-abaa-48ac-9c0e-e7422260ec26",
   "metadata": {},
   "outputs": [
    {
     "data": {
      "text/plain": [
       "random_step (generic function with 1 method)"
      ]
     },
     "execution_count": 9,
     "metadata": {},
     "output_type": "execute_result"
    }
   ],
   "source": [
    "function random_step(current_vertex, current_orientation, step_probabilities)\n",
    "    outgoing_edge_likelihoods = step_probabilities[initial_orientation][current_vertex, :]\n",
    "    chosen_step = StatsBase.sample(outgoing_edge_likelihoods.nzind, StatsBase.weights(outgoing_edge_likelihoods.nzval))\n",
    "    possible_orientations = observation_graph.eprops[LightGraphs.Edge(current_vertex, chosen_step)][:orientations]\n",
    "    possible_orientations = filter(o -> o.source_orientation == current_orientation, possible_orientations)\n",
    "    chosen_orientation = rand(possible_orientations).destination_orientation\n",
    "    chosen_oriented_step = (vertex = chosen_step, orientation = chosen_orientation)\n",
    "    return chosen_oriented_step\n",
    "end"
   ]
  },
  {
   "cell_type": "code",
   "execution_count": 10,
   "id": "1ed368e8-bbee-4634-ac66-af3203e5fb11",
   "metadata": {},
   "outputs": [
    {
     "data": {
      "text/plain": [
       "random_walk (generic function with 1 method)"
      ]
     },
     "execution_count": 10,
     "metadata": {},
     "output_type": "execute_result"
    }
   ],
   "source": [
    "function random_walk(observation_graph, initial_vertex, initial_orientation, step_probabilities; n_steps=size(step_probabilities[true], 1))\n",
    "    step_count = 0\n",
    "    outgoing_edge_likelihoods = step_probabilities[initial_orientation][initial_vertex, :]\n",
    "    walk = Vector{NamedTuple{(:vertex, :orientation), Tuple{Int64, Bool}}}()\n",
    "    done = (step_count > n_steps) || (sum(outgoing_edge_likelihoods) == 0)\n",
    "    current_vertex = initial_vertex\n",
    "    current_orientation = initial_orientation\n",
    "    while !done\n",
    "#         @show \"choosing\"\n",
    "        chosen_step = StatsBase.sample(outgoing_edge_likelihoods.nzind, StatsBase.weights(outgoing_edge_likelihoods.nzval))\n",
    "        chosen_step\n",
    "        possible_orientations = observation_graph.eprops[LightGraphs.Edge(current_vertex, chosen_step)][:orientations]\n",
    "        possible_orientations\n",
    "        current_orientation\n",
    "        possible_orientations = filter(o -> o.source_orientation == current_orientation, possible_orientations)\n",
    "        possible_orientations\n",
    "        chosen_orientation = rand(possible_orientations).destination_orientation\n",
    "        chosen_oriented_step = (vertex = chosen_step, orientation = chosen_orientation)\n",
    "        push!(walk, chosen_oriented_step)\n",
    "        current_vertex = chosen_step\n",
    "        current_orientation = chosen_orientation\n",
    "        outgoing_edge_likelihoods = step_probabilities[last(walk).orientation][last(walk).vertex, :]\n",
    "        step_count += 1\n",
    "#         @show outgoing_edge_likelihoods\n",
    "        done = (step_count > n_steps) || (sum(outgoing_edge_likelihoods) == 0)\n",
    "    end\n",
    "    return walk\n",
    "end"
   ]
  },
  {
   "cell_type": "code",
   "execution_count": 11,
   "id": "03bc3ce0-24b7-4f8b-a90a-050b61c211e5",
   "metadata": {},
   "outputs": [
    {
     "data": {
      "text/plain": [
       "FASTX.FASTA.Record:\n",
       "   identifier: 3905072901333009698\n",
       "  description: <missing>\n",
       "     sequence: GGCGCGTGCTAGCGGTGTGGTTCTACATTGTATTGTATT…"
      ]
     },
     "execution_count": 11,
     "metadata": {},
     "output_type": "execute_result"
    }
   ],
   "source": [
    "# generate a genome\n",
    "sequence_length = 1000\n",
    "sequence = BioSequences.randdnaseq(Random.seed!(sequence_length), sequence_length)\n",
    "sequence_id = string(hash(sequence))\n",
    "fasta_record = FASTX.FASTA.Record(sequence_id, sequence)"
   ]
  },
  {
   "cell_type": "code",
   "execution_count": 12,
   "id": "6b67def7-76e6-4227-a0de-f34d6d3173f5",
   "metadata": {},
   "outputs": [],
   "source": [
    "reference_fasta_file = \"$(DIR)/LENGTH-$(sequence_length).fasta\"\n",
    "open(reference_fasta_file, \"w\") do io\n",
    "    fastx_io = FASTX.FASTA.Writer(io)\n",
    "    write(fastx_io, fasta_record)\n",
    "    close(fastx_io)\n",
    "end"
   ]
  },
  {
   "cell_type": "code",
   "execution_count": 13,
   "id": "4ad0d8c4-641b-4872-8c16-57fc2ce80cde",
   "metadata": {},
   "outputs": [],
   "source": [
    "# randomly sample reads with errors from the genome\n",
    "# 1%\n",
    "error_rate = 0.01\n",
    "n_reads = 100\n",
    "\n",
    "# observations = [Mycelia.observe(FASTX.sequence(record), error_rate = error_rate) for i in 1:n_reads]\n",
    "observations = [Mycelia.observe(fasta_record, error_rate = error_rate) for i in 1:n_reads];"
   ]
  },
  {
   "cell_type": "code",
   "execution_count": 14,
   "id": "d0d65fbf-8343-4a15-9266-6acbd0690d57",
   "metadata": {},
   "outputs": [],
   "source": [
    "# determine distribution of read lengths"
   ]
  },
  {
   "cell_type": "code",
   "execution_count": 15,
   "id": "9f6b1ac0-bf9d-4916-940a-2148ea361442",
   "metadata": {},
   "outputs": [
    {
     "data": {
      "text/plain": [
       "990"
      ]
     },
     "execution_count": 15,
     "metadata": {},
     "output_type": "execute_result"
    }
   ],
   "source": [
    "median_read_length = Statistics.median(length.(FASTX.sequence.(observations)))\n",
    "std_deviation_read_length = Statistics.std(length.(FASTX.sequence.(observations)))\n",
    "captures_99_percent_of_reads = Int(floor(median_read_length - 4*std_deviation_read_length))"
   ]
  },
  {
   "cell_type": "code",
   "execution_count": 16,
   "id": "a4085a37-0a1b-4a8c-9115-9baf8882b5e0",
   "metadata": {},
   "outputs": [
    {
     "name": "stdout",
     "output_type": "stream",
     "text": [
      "sparsity = 50.8\n",
      "sparsity = 0.433\n",
      "sparsity = 0.0318\n",
      "sparsity = 0.00016\n",
      "k = 17\n"
     ]
    },
    {
     "data": {
      "text/plain": [
       "17"
      ]
     },
     "execution_count": 16,
     "metadata": {},
     "output_type": "execute_result"
    }
   ],
   "source": [
    "# determine optimal k\n",
    "min_k = min(7, captures_99_percent_of_reads)\n",
    "max_k = min(61, captures_99_percent_of_reads)\n",
    "k_options = Primes.primes(min_k, max_k)\n",
    "k_index = findfirst(k -> assess_kmer_sparsity_in_reads(k, observations) < .01, k_options)\n",
    "k = k_options[k_index]\n",
    "@show k"
   ]
  },
  {
   "cell_type": "code",
   "execution_count": 17,
   "id": "14964bd9-c1b2-469c-92cc-c467b631358b",
   "metadata": {},
   "outputs": [],
   "source": [
    "observations_file = \"$(DIR)/LENGTH-$(sequence_length)-DEPTH-$(n_reads).fastq\"\n",
    "open(observations_file, \"w\") do io\n",
    "    fastq_io = FASTX.FASTQ.Writer(io)\n",
    "    for record in observations\n",
    "        write(fastq_io, record)\n",
    "    end\n",
    "    close(fastq_io)\n",
    "end"
   ]
  },
  {
   "cell_type": "markdown",
   "id": "5884b85a-bc25-44a0-b6f4-fe938758f824",
   "metadata": {},
   "source": [
    "# Begin graph resolving of observation graph"
   ]
  },
  {
   "cell_type": "code",
   "execution_count": 18,
   "id": "72c66702-1c18-4541-a642-64f1c69ad4cb",
   "metadata": {},
   "outputs": [
    {
     "name": "stderr",
     "output_type": "stream",
     "text": [
      "┌ Info: creating graph\n",
      "└ @ Mycelia /home/jovyan/git/Mycelia/src/Mycelia.jl:3014\n"
     ]
    },
    {
     "data": {
      "text/plain": [
       "{13709, 28906} directed Int64 metagraph with Float64 weights defined by :weight (default weight 1.0)"
      ]
     },
     "execution_count": 18,
     "metadata": {},
     "output_type": "execute_result"
    }
   ],
   "source": [
    "observation_graph = Mycelia.fastx_to_simple_kmer_graph(BioSequences.DNAMer{k}, observations_file)"
   ]
  },
  {
   "cell_type": "code",
   "execution_count": 19,
   "id": "886eef7b-62fd-45af-8644-3b6c5647c470",
   "metadata": {},
   "outputs": [
    {
     "data": {
      "text/html": [
       "<img src=./../../../2021-08-24-assess-convergence/LENGTH-1000-DEPTH-100.fastq.k-17.gfa.svg>"
      ]
     },
     "metadata": {},
     "output_type": "display_data"
    }
   ],
   "source": [
    "# visualize\n",
    "gfa_file = observations_file * \".k-$k.gfa\"\n",
    "Mycelia.graph_to_gfa(observation_graph, gfa_file)\n",
    "\n",
    "run(`$(BANDAGE) image $(gfa_file) $(gfa_file).svg --depwidth .9 --deppower .9`)\n",
    "# --nodewidth <float> Average node width (0.5 to 1000, default: 5)\n",
    "# --depwidth <float>  Depth effect on width (0 to 1, default: 0.5)\n",
    "# --deppower <float>  Power of depth effect on width (0 to 1, default: 0.5)\n",
    "\n",
    "html_path_to_svg = \"./\" * repeat(\"../\", length(split(pwd(), '/')) - 3)\n",
    "html_path_to_svg *= replace(\"$(gfa_file).svg\", \"$(homedir())/\" => \"\")\n",
    "\n",
    "x = \"<img src=$(html_path_to_svg)>\"\n",
    "display(\"text/html\", x)\n",
    "# display(\"image/svg+xml\", read(\"$(gfa_file).svg\", String))"
   ]
  },
  {
   "cell_type": "code",
   "execution_count": 20,
   "id": "f9b79057-1175-4165-82dd-0fde3c385af0",
   "metadata": {},
   "outputs": [
    {
     "data": {
      "image/svg+xml": [
       "<?xml version=\"1.0\" encoding=\"utf-8\"?>\n",
       "<svg xmlns=\"http://www.w3.org/2000/svg\" xmlns:xlink=\"http://www.w3.org/1999/xlink\" width=\"500\" height=\"250\" viewBox=\"0 0 2000 1000\">\n",
       "<defs>\n",
       "  <clipPath id=\"clip420\">\n",
       "    <rect x=\"0\" y=\"0\" width=\"2000\" height=\"1000\"/>\n",
       "  </clipPath>\n",
       "</defs>\n",
       "<path clip-path=\"url(#clip420)\" d=\"\n",
       "M0 1000 L2000 1000 L2000 0 L0 0  Z\n",
       "  \" fill=\"#ffffff\" fill-rule=\"evenodd\" fill-opacity=\"1\"/>\n",
       "<defs>\n",
       "  <clipPath id=\"clip421\">\n",
       "    <rect x=\"400\" y=\"0\" width=\"1401\" height=\"1000\"/>\n",
       "  </clipPath>\n",
       "</defs>\n",
       "<path clip-path=\"url(#clip420)\" d=\"\n",
       "M231.579 849.7 L1952.76 849.7 L1952.76 108.352 L231.579 108.352  Z\n",
       "  \" fill=\"#ffffff\" fill-rule=\"evenodd\" fill-opacity=\"1\"/>\n",
       "<defs>\n",
       "  <clipPath id=\"clip422\">\n",
       "    <rect x=\"231\" y=\"108\" width=\"1722\" height=\"742\"/>\n",
       "  </clipPath>\n",
       "</defs>\n",
       "<polyline clip-path=\"url(#clip422)\" style=\"stroke:#000000; stroke-linecap:butt; stroke-linejoin:round; stroke-width:2; stroke-opacity:0.1; fill:none\" points=\"\n",
       "  231.579,849.7 231.579,108.352 \n",
       "  \"/>\n",
       "<polyline clip-path=\"url(#clip422)\" style=\"stroke:#000000; stroke-linecap:butt; stroke-linejoin:round; stroke-width:2; stroke-opacity:0.1; fill:none\" points=\"\n",
       "  542.076,849.7 542.076,108.352 \n",
       "  \"/>\n",
       "<polyline clip-path=\"url(#clip422)\" style=\"stroke:#000000; stroke-linecap:butt; stroke-linejoin:round; stroke-width:2; stroke-opacity:0.1; fill:none\" points=\"\n",
       "  852.573,849.7 852.573,108.352 \n",
       "  \"/>\n",
       "<polyline clip-path=\"url(#clip422)\" style=\"stroke:#000000; stroke-linecap:butt; stroke-linejoin:round; stroke-width:2; stroke-opacity:0.1; fill:none\" points=\"\n",
       "  1163.07,849.7 1163.07,108.352 \n",
       "  \"/>\n",
       "<polyline clip-path=\"url(#clip422)\" style=\"stroke:#000000; stroke-linecap:butt; stroke-linejoin:round; stroke-width:2; stroke-opacity:0.1; fill:none\" points=\"\n",
       "  1473.57,849.7 1473.57,108.352 \n",
       "  \"/>\n",
       "<polyline clip-path=\"url(#clip422)\" style=\"stroke:#000000; stroke-linecap:butt; stroke-linejoin:round; stroke-width:2; stroke-opacity:0.1; fill:none\" points=\"\n",
       "  1784.06,849.7 1784.06,108.352 \n",
       "  \"/>\n",
       "<polyline clip-path=\"url(#clip420)\" style=\"stroke:#000000; stroke-linecap:butt; stroke-linejoin:round; stroke-width:4; stroke-opacity:1; fill:none\" points=\"\n",
       "  231.579,849.7 1952.76,849.7 \n",
       "  \"/>\n",
       "<polyline clip-path=\"url(#clip420)\" style=\"stroke:#000000; stroke-linecap:butt; stroke-linejoin:round; stroke-width:4; stroke-opacity:1; fill:none\" points=\"\n",
       "  231.579,849.7 231.579,830.802 \n",
       "  \"/>\n",
       "<polyline clip-path=\"url(#clip420)\" style=\"stroke:#000000; stroke-linecap:butt; stroke-linejoin:round; stroke-width:4; stroke-opacity:1; fill:none\" points=\"\n",
       "  542.076,849.7 542.076,830.802 \n",
       "  \"/>\n",
       "<polyline clip-path=\"url(#clip420)\" style=\"stroke:#000000; stroke-linecap:butt; stroke-linejoin:round; stroke-width:4; stroke-opacity:1; fill:none\" points=\"\n",
       "  852.573,849.7 852.573,830.802 \n",
       "  \"/>\n",
       "<polyline clip-path=\"url(#clip420)\" style=\"stroke:#000000; stroke-linecap:butt; stroke-linejoin:round; stroke-width:4; stroke-opacity:1; fill:none\" points=\"\n",
       "  1163.07,849.7 1163.07,830.802 \n",
       "  \"/>\n",
       "<polyline clip-path=\"url(#clip420)\" style=\"stroke:#000000; stroke-linecap:butt; stroke-linejoin:round; stroke-width:4; stroke-opacity:1; fill:none\" points=\"\n",
       "  1473.57,849.7 1473.57,830.802 \n",
       "  \"/>\n",
       "<polyline clip-path=\"url(#clip420)\" style=\"stroke:#000000; stroke-linecap:butt; stroke-linejoin:round; stroke-width:4; stroke-opacity:1; fill:none\" points=\"\n",
       "  1784.06,849.7 1784.06,830.802 \n",
       "  \"/>\n",
       "<path clip-path=\"url(#clip420)\" d=\"M231.579 875.691 Q227.968 875.691 226.139 879.255 Q224.333 882.797 224.333 889.927 Q224.333 897.033 226.139 900.598 Q227.968 904.139 231.579 904.139 Q235.213 904.139 237.018 900.598 Q238.847 897.033 238.847 889.927 Q238.847 882.797 237.018 879.255 Q235.213 875.691 231.579 875.691 M231.579 871.987 Q237.389 871.987 240.444 876.593 Q243.523 881.177 243.523 889.927 Q243.523 898.653 240.444 903.26 Q237.389 907.843 231.579 907.843 Q225.769 907.843 222.69 903.26 Q219.634 898.653 219.634 889.927 Q219.634 881.177 222.69 876.593 Q225.769 871.987 231.579 871.987 Z\" fill=\"#000000\" fill-rule=\"evenodd\" fill-opacity=\"1\" /><path clip-path=\"url(#clip420)\" d=\"M532.458 903.237 L540.097 903.237 L540.097 876.871 L531.787 878.538 L531.787 874.279 L540.05 872.612 L544.726 872.612 L544.726 903.237 L552.365 903.237 L552.365 907.172 L532.458 907.172 L532.458 903.237 Z\" fill=\"#000000\" fill-rule=\"evenodd\" fill-opacity=\"1\" /><path clip-path=\"url(#clip420)\" d=\"M847.226 903.237 L863.545 903.237 L863.545 907.172 L841.601 907.172 L841.601 903.237 Q844.263 900.482 848.846 895.852 Q853.453 891.2 854.633 889.857 Q856.879 887.334 857.758 885.598 Q858.661 883.839 858.661 882.149 Q858.661 879.394 856.716 877.658 Q854.795 875.922 851.693 875.922 Q849.494 875.922 847.041 876.686 Q844.61 877.45 841.832 879.001 L841.832 874.279 Q844.656 873.144 847.11 872.566 Q849.564 871.987 851.601 871.987 Q856.971 871.987 860.166 874.672 Q863.36 877.357 863.36 881.848 Q863.36 883.978 862.55 885.899 Q861.763 887.797 859.656 890.39 Q859.078 891.061 855.976 894.278 Q852.874 897.473 847.226 903.237 Z\" fill=\"#000000\" fill-rule=\"evenodd\" fill-opacity=\"1\" /><path clip-path=\"url(#clip420)\" d=\"M1167.32 888.538 Q1170.67 889.255 1172.55 891.524 Q1174.45 893.792 1174.45 897.126 Q1174.45 902.241 1170.93 905.042 Q1167.41 907.843 1160.93 907.843 Q1158.75 907.843 1156.44 907.403 Q1154.15 906.987 1151.69 906.13 L1151.69 901.616 Q1153.64 902.751 1155.95 903.329 Q1158.27 903.908 1160.79 903.908 Q1165.19 903.908 1167.48 902.172 Q1169.79 900.436 1169.79 897.126 Q1169.79 894.07 1167.64 892.357 Q1165.51 890.621 1161.69 890.621 L1157.67 890.621 L1157.67 886.778 L1161.88 886.778 Q1165.33 886.778 1167.16 885.413 Q1168.98 884.024 1168.98 881.431 Q1168.98 878.769 1167.09 877.357 Q1165.21 875.922 1161.69 875.922 Q1159.77 875.922 1157.57 876.339 Q1155.37 876.755 1152.73 877.635 L1152.73 873.468 Q1155.4 872.728 1157.71 872.357 Q1160.05 871.987 1162.11 871.987 Q1167.43 871.987 1170.54 874.417 Q1173.64 876.825 1173.64 880.945 Q1173.64 883.815 1171.99 885.806 Q1170.35 887.774 1167.32 888.538 Z\" fill=\"#000000\" fill-rule=\"evenodd\" fill-opacity=\"1\" /><path clip-path=\"url(#clip420)\" d=\"M1476.58 876.686 L1464.77 895.135 L1476.58 895.135 L1476.58 876.686 M1475.35 872.612 L1481.23 872.612 L1481.23 895.135 L1486.16 895.135 L1486.16 899.024 L1481.23 899.024 L1481.23 907.172 L1476.58 907.172 L1476.58 899.024 L1460.97 899.024 L1460.97 894.51 L1475.35 872.612 Z\" fill=\"#000000\" fill-rule=\"evenodd\" fill-opacity=\"1\" /><path clip-path=\"url(#clip420)\" d=\"M1774.34 872.612 L1792.7 872.612 L1792.7 876.547 L1778.62 876.547 L1778.62 885.019 Q1779.64 884.672 1780.66 884.51 Q1781.68 884.325 1782.7 884.325 Q1788.49 884.325 1791.87 887.496 Q1795.24 890.667 1795.24 896.084 Q1795.24 901.663 1791.77 904.764 Q1788.3 907.843 1781.98 907.843 Q1779.81 907.843 1777.54 907.473 Q1775.29 907.102 1772.88 906.362 L1772.88 901.663 Q1774.97 902.797 1777.19 903.352 Q1779.41 903.908 1781.89 903.908 Q1785.89 903.908 1788.23 901.802 Q1790.57 899.695 1790.57 896.084 Q1790.57 892.473 1788.23 890.366 Q1785.89 888.26 1781.89 888.26 Q1780.01 888.26 1778.14 888.677 Q1776.29 889.093 1774.34 889.973 L1774.34 872.612 Z\" fill=\"#000000\" fill-rule=\"evenodd\" fill-opacity=\"1\" /><path clip-path=\"url(#clip420)\" d=\"M698.003 939.039 L703.859 939.039 L703.859 988.564 L698.003 988.564 L698.003 939.039 Z\" fill=\"#000000\" fill-rule=\"evenodd\" fill-opacity=\"1\" /><path clip-path=\"url(#clip420)\" d=\"M729.927 957.022 Q725.216 957.022 722.479 960.714 Q719.742 964.374 719.742 970.772 Q719.742 977.169 722.447 980.861 Q725.184 984.522 729.927 984.522 Q734.606 984.522 737.343 980.83 Q740.08 977.137 740.08 970.772 Q740.08 964.438 737.343 960.746 Q734.606 957.022 729.927 957.022 M729.927 952.057 Q737.566 952.057 741.926 957.022 Q746.287 961.987 746.287 970.772 Q746.287 979.525 741.926 984.522 Q737.566 989.487 729.927 989.487 Q722.256 989.487 717.896 984.522 Q713.567 979.525 713.567 970.772 Q713.567 961.987 717.896 957.022 Q722.256 952.057 729.927 952.057 Z\" fill=\"#000000\" fill-rule=\"evenodd\" fill-opacity=\"1\" /><path clip-path=\"url(#clip420)\" d=\"M779.452 970.326 Q779.452 963.96 776.81 960.459 Q774.2 956.958 769.458 956.958 Q764.747 956.958 762.105 960.459 Q759.495 963.96 759.495 970.326 Q759.495 976.66 762.105 980.161 Q764.747 983.662 769.458 983.662 Q774.2 983.662 776.81 980.161 Q779.452 976.66 779.452 970.326 M785.308 984.14 Q785.308 993.243 781.266 997.667 Q777.224 1002.12 768.885 1002.12 Q765.798 1002.12 763.06 1001.65 Q760.323 1001.2 757.745 1000.24 L757.745 994.548 Q760.323 995.948 762.837 996.616 Q765.352 997.285 767.962 997.285 Q773.723 997.285 776.587 994.261 Q779.452 991.269 779.452 985.19 L779.452 982.294 Q777.638 985.445 774.805 987.004 Q771.972 988.564 768.026 988.564 Q761.469 988.564 757.458 983.567 Q753.448 978.57 753.448 970.326 Q753.448 962.051 757.458 957.054 Q761.469 952.057 768.026 952.057 Q771.972 952.057 774.805 953.616 Q777.638 955.176 779.452 958.327 L779.452 952.916 L785.308 952.916 L785.308 984.14 Z\" fill=\"#000000\" fill-rule=\"evenodd\" fill-opacity=\"1\" /><path clip-path=\"url(#clip420)\" d=\"M811.44 939.102 Q807.175 946.423 805.106 953.584 Q803.037 960.746 803.037 968.098 Q803.037 975.45 805.106 982.676 Q807.206 989.869 811.44 997.158 L806.347 997.158 Q801.573 989.678 799.186 982.453 Q796.83 975.228 796.83 968.098 Q796.83 961 799.186 953.807 Q801.541 946.614 806.347 939.102 L811.44 939.102 Z\" fill=\"#000000\" fill-rule=\"evenodd\" fill-opacity=\"1\" /><path clip-path=\"url(#clip420)\" d=\"M836.616 957.022 Q831.905 957.022 829.168 960.714 Q826.431 964.374 826.431 970.772 Q826.431 977.169 829.136 980.861 Q831.874 984.522 836.616 984.522 Q841.295 984.522 844.032 980.83 Q846.769 977.137 846.769 970.772 Q846.769 964.438 844.032 960.746 Q841.295 957.022 836.616 957.022 M836.616 952.057 Q844.255 952.057 848.615 957.022 Q852.976 961.987 852.976 970.772 Q852.976 979.525 848.615 984.522 Q844.255 989.487 836.616 989.487 Q828.945 989.487 824.585 984.522 Q820.256 979.525 820.256 970.772 Q820.256 961.987 824.585 957.022 Q828.945 952.057 836.616 952.057 Z\" fill=\"#000000\" fill-rule=\"evenodd\" fill-opacity=\"1\" /><path clip-path=\"url(#clip420)\" d=\"M888.274 970.772 Q888.274 964.311 885.6 960.65 Q882.958 956.958 878.311 956.958 Q873.664 956.958 870.991 960.65 Q868.349 964.311 868.349 970.772 Q868.349 977.233 870.991 980.925 Q873.664 984.585 878.311 984.585 Q882.958 984.585 885.6 980.925 Q888.274 977.233 888.274 970.772 M868.349 958.327 Q870.195 955.144 872.996 953.616 Q875.829 952.057 879.744 952.057 Q886.237 952.057 890.279 957.213 Q894.353 962.369 894.353 970.772 Q894.353 979.174 890.279 984.331 Q886.237 989.487 879.744 989.487 Q875.829 989.487 872.996 987.959 Q870.195 986.4 868.349 983.217 L868.349 988.564 L862.461 988.564 L862.461 939.039 L868.349 939.039 L868.349 958.327 Z\" fill=\"#000000\" fill-rule=\"evenodd\" fill-opacity=\"1\" /><path clip-path=\"url(#clip420)\" d=\"M926.786 953.966 L926.786 959.504 Q924.304 958.231 921.63 957.595 Q918.956 956.958 916.092 956.958 Q911.731 956.958 909.535 958.295 Q907.371 959.632 907.371 962.305 Q907.371 964.342 908.93 965.52 Q910.49 966.666 915.201 967.716 L917.206 968.162 Q923.444 969.499 926.054 971.949 Q928.696 974.368 928.696 978.729 Q928.696 983.694 924.749 986.59 Q920.834 989.487 913.959 989.487 Q911.095 989.487 907.976 988.914 Q904.888 988.373 901.451 987.259 L901.451 981.211 Q904.697 982.898 907.848 983.758 Q910.999 984.585 914.087 984.585 Q918.224 984.585 920.452 983.185 Q922.68 981.753 922.68 979.174 Q922.68 976.787 921.057 975.514 Q919.466 974.241 914.023 973.063 L911.986 972.586 Q906.543 971.44 904.124 969.085 Q901.705 966.698 901.705 962.56 Q901.705 957.531 905.27 954.794 Q908.835 952.057 915.392 952.057 Q918.638 952.057 921.503 952.534 Q924.367 953.011 926.786 953.966 Z\" fill=\"#000000\" fill-rule=\"evenodd\" fill-opacity=\"1\" /><path clip-path=\"url(#clip420)\" d=\"M968.513 969.276 L968.513 972.14 L941.587 972.14 Q941.968 978.188 945.215 981.371 Q948.493 984.522 954.318 984.522 Q957.692 984.522 960.843 983.694 Q964.026 982.867 967.145 981.211 L967.145 986.75 Q963.994 988.086 960.684 988.787 Q957.373 989.487 953.968 989.487 Q945.438 989.487 940.441 984.522 Q935.475 979.556 935.475 971.09 Q935.475 962.337 940.186 957.213 Q944.929 952.057 952.949 952.057 Q960.143 952.057 964.312 956.703 Q968.513 961.319 968.513 969.276 M962.657 967.557 Q962.593 962.751 959.952 959.886 Q957.342 957.022 953.013 957.022 Q948.111 957.022 945.151 959.791 Q942.223 962.56 941.777 967.589 L962.657 967.557 Z\" fill=\"#000000\" fill-rule=\"evenodd\" fill-opacity=\"1\" /><path clip-path=\"url(#clip420)\" d=\"M998.782 958.39 Q997.796 957.817 996.618 957.563 Q995.472 957.276 994.072 957.276 Q989.107 957.276 986.433 960.523 Q983.791 963.738 983.791 969.785 L983.791 988.564 L977.903 988.564 L977.903 952.916 L983.791 952.916 L983.791 958.454 Q985.637 955.208 988.597 953.648 Q991.557 952.057 995.791 952.057 Q996.395 952.057 997.127 952.152 Q997.859 952.216 998.751 952.375 L998.782 958.39 Z\" fill=\"#000000\" fill-rule=\"evenodd\" fill-opacity=\"1\" /><path clip-path=\"url(#clip420)\" d=\"M1000.72 952.916 L1006.93 952.916 L1018.07 982.835 L1029.21 952.916 L1035.42 952.916 L1022.05 988.564 L1014.09 988.564 L1000.72 952.916 Z\" fill=\"#000000\" fill-rule=\"evenodd\" fill-opacity=\"1\" /><path clip-path=\"url(#clip420)\" d=\"M1073.99 969.276 L1073.99 972.14 L1047.07 972.14 Q1047.45 978.188 1050.69 981.371 Q1053.97 984.522 1059.8 984.522 Q1063.17 984.522 1066.32 983.694 Q1069.51 982.867 1072.62 981.211 L1072.62 986.75 Q1069.47 988.086 1066.16 988.787 Q1062.85 989.487 1059.45 989.487 Q1050.92 989.487 1045.92 984.522 Q1040.96 979.556 1040.96 971.09 Q1040.96 962.337 1045.67 957.213 Q1050.41 952.057 1058.43 952.057 Q1065.62 952.057 1069.79 956.703 Q1073.99 961.319 1073.99 969.276 M1068.14 967.557 Q1068.07 962.751 1065.43 959.886 Q1062.82 957.022 1058.49 957.022 Q1053.59 957.022 1050.63 959.791 Q1047.7 962.56 1047.26 967.589 L1068.14 967.557 Z\" fill=\"#000000\" fill-rule=\"evenodd\" fill-opacity=\"1\" /><path clip-path=\"url(#clip420)\" d=\"M1107.06 958.327 L1107.06 939.039 L1112.92 939.039 L1112.92 988.564 L1107.06 988.564 L1107.06 983.217 Q1105.22 986.4 1102.38 987.959 Q1099.58 989.487 1095.64 989.487 Q1089.18 989.487 1085.1 984.331 Q1081.06 979.174 1081.06 970.772 Q1081.06 962.369 1085.1 957.213 Q1089.18 952.057 1095.64 952.057 Q1099.58 952.057 1102.38 953.616 Q1105.22 955.144 1107.06 958.327 M1087.11 970.772 Q1087.11 977.233 1089.75 980.925 Q1092.42 984.585 1097.07 984.585 Q1101.72 984.585 1104.39 980.925 Q1107.06 977.233 1107.06 970.772 Q1107.06 964.311 1104.39 960.65 Q1101.72 956.958 1097.07 956.958 Q1092.42 956.958 1089.75 960.65 Q1087.11 964.311 1087.11 970.772 Z\" fill=\"#000000\" fill-rule=\"evenodd\" fill-opacity=\"1\" /><path clip-path=\"url(#clip420)\" d=\"M1163.75 939.039 L1163.75 943.908 L1158.15 943.908 Q1155 943.908 1153.76 945.182 Q1152.55 946.455 1152.55 949.765 L1152.55 952.916 L1162.19 952.916 L1162.19 957.467 L1152.55 957.467 L1152.55 988.564 L1146.66 988.564 L1146.66 957.467 L1141.06 957.467 L1141.06 952.916 L1146.66 952.916 L1146.66 950.433 Q1146.66 944.481 1149.43 941.776 Q1152.2 939.039 1158.21 939.039 L1163.75 939.039 Z\" fill=\"#000000\" fill-rule=\"evenodd\" fill-opacity=\"1\" /><path clip-path=\"url(#clip420)\" d=\"M1189.31 958.39 Q1188.32 957.817 1187.14 957.563 Q1186 957.276 1184.6 957.276 Q1179.63 957.276 1176.96 960.523 Q1174.32 963.738 1174.32 969.785 L1174.32 988.564 L1168.43 988.564 L1168.43 952.916 L1174.32 952.916 L1174.32 958.454 Q1176.16 955.208 1179.12 953.648 Q1182.08 952.057 1186.32 952.057 Q1186.92 952.057 1187.65 952.152 Q1188.38 952.216 1189.28 952.375 L1189.31 958.39 Z\" fill=\"#000000\" fill-rule=\"evenodd\" fill-opacity=\"1\" /><path clip-path=\"url(#clip420)\" d=\"M1224.51 969.276 L1224.51 972.14 L1197.58 972.14 Q1197.97 978.188 1201.21 981.371 Q1204.49 984.522 1210.31 984.522 Q1213.69 984.522 1216.84 983.694 Q1220.02 982.867 1223.14 981.211 L1223.14 986.75 Q1219.99 988.086 1216.68 988.787 Q1213.37 989.487 1209.96 989.487 Q1201.43 989.487 1196.44 984.522 Q1191.47 979.556 1191.47 971.09 Q1191.47 962.337 1196.18 957.213 Q1200.93 952.057 1208.95 952.057 Q1216.14 952.057 1220.31 956.703 Q1224.51 961.319 1224.51 969.276 M1218.65 967.557 Q1218.59 962.751 1215.95 959.886 Q1213.34 957.022 1209.01 957.022 Q1204.11 957.022 1201.15 959.791 Q1198.22 962.56 1197.77 967.589 L1218.65 967.557 Z\" fill=\"#000000\" fill-rule=\"evenodd\" fill-opacity=\"1\" /><path clip-path=\"url(#clip420)\" d=\"M1237.62 970.772 Q1237.62 977.233 1240.27 980.925 Q1242.94 984.585 1247.59 984.585 Q1252.23 984.585 1254.91 980.925 Q1257.58 977.233 1257.58 970.772 Q1257.58 964.311 1254.91 960.65 Q1252.23 956.958 1247.59 956.958 Q1242.94 956.958 1240.27 960.65 Q1237.62 964.311 1237.62 970.772 M1257.58 983.217 Q1255.73 986.4 1252.9 987.959 Q1250.1 989.487 1246.15 989.487 Q1239.69 989.487 1235.62 984.331 Q1231.58 979.174 1231.58 970.772 Q1231.58 962.369 1235.62 957.213 Q1239.69 952.057 1246.15 952.057 Q1250.1 952.057 1252.9 953.616 Q1255.73 955.144 1257.58 958.327 L1257.58 952.916 L1263.44 952.916 L1263.44 1002.12 L1257.58 1002.12 L1257.58 983.217 Z\" fill=\"#000000\" fill-rule=\"evenodd\" fill-opacity=\"1\" /><path clip-path=\"url(#clip420)\" d=\"M1274.89 974.496 L1274.89 952.916 L1280.75 952.916 L1280.75 974.273 Q1280.75 979.334 1282.72 981.88 Q1284.7 984.394 1288.64 984.394 Q1293.39 984.394 1296.12 981.371 Q1298.89 978.347 1298.89 973.127 L1298.89 952.916 L1304.75 952.916 L1304.75 988.564 L1298.89 988.564 L1298.89 983.089 Q1296.76 986.336 1293.93 987.927 Q1291.13 989.487 1287.4 989.487 Q1281.26 989.487 1278.08 985.667 Q1274.89 981.848 1274.89 974.496 M1289.63 952.057 L1289.63 952.057 Z\" fill=\"#000000\" fill-rule=\"evenodd\" fill-opacity=\"1\" /><path clip-path=\"url(#clip420)\" d=\"M1347.3 969.276 L1347.3 972.14 L1320.38 972.14 Q1320.76 978.188 1324.01 981.371 Q1327.28 984.522 1333.11 984.522 Q1336.48 984.522 1339.63 983.694 Q1342.82 982.867 1345.94 981.211 L1345.94 986.75 Q1342.79 988.086 1339.48 988.787 Q1336.16 989.487 1332.76 989.487 Q1324.23 989.487 1319.23 984.522 Q1314.27 979.556 1314.27 971.09 Q1314.27 962.337 1318.98 957.213 Q1323.72 952.057 1331.74 952.057 Q1338.93 952.057 1343.1 956.703 Q1347.3 961.319 1347.3 969.276 M1341.45 967.557 Q1341.38 962.751 1338.74 959.886 Q1336.13 957.022 1331.8 957.022 Q1326.9 957.022 1323.94 959.791 Q1321.01 962.56 1320.57 967.589 L1341.45 967.557 Z\" fill=\"#000000\" fill-rule=\"evenodd\" fill-opacity=\"1\" /><path clip-path=\"url(#clip420)\" d=\"M1386.55 967.048 L1386.55 988.564 L1380.69 988.564 L1380.69 967.239 Q1380.69 962.178 1378.72 959.664 Q1376.75 957.149 1372.8 957.149 Q1368.06 957.149 1365.32 960.173 Q1362.58 963.197 1362.58 968.416 L1362.58 988.564 L1356.69 988.564 L1356.69 952.916 L1362.58 952.916 L1362.58 958.454 Q1364.68 955.239 1367.52 953.648 Q1370.38 952.057 1374.1 952.057 Q1380.25 952.057 1383.4 955.876 Q1386.55 959.664 1386.55 967.048 Z\" fill=\"#000000\" fill-rule=\"evenodd\" fill-opacity=\"1\" /><path clip-path=\"url(#clip420)\" d=\"M1423.88 954.285 L1423.88 959.759 Q1421.4 958.39 1418.89 957.722 Q1416.4 957.022 1413.86 957.022 Q1408.16 957.022 1405.01 960.65 Q1401.86 964.247 1401.86 970.772 Q1401.86 977.297 1405.01 980.925 Q1408.16 984.522 1413.86 984.522 Q1416.4 984.522 1418.89 983.853 Q1421.4 983.153 1423.88 981.784 L1423.88 987.195 Q1421.43 988.341 1418.79 988.914 Q1416.18 989.487 1413.22 989.487 Q1405.17 989.487 1400.43 984.426 Q1395.68 979.365 1395.68 970.772 Q1395.68 962.051 1400.46 957.054 Q1405.26 952.057 1413.6 952.057 Q1416.31 952.057 1418.89 952.629 Q1421.47 953.171 1423.88 954.285 Z\" fill=\"#000000\" fill-rule=\"evenodd\" fill-opacity=\"1\" /><path clip-path=\"url(#clip420)\" d=\"M1448.9 991.874 Q1446.42 998.24 1444.06 1000.18 Q1441.71 1002.12 1437.76 1002.12 L1433.08 1002.12 L1433.08 997.221 L1436.52 997.221 Q1438.94 997.221 1440.28 996.075 Q1441.61 994.93 1443.24 990.665 L1444.29 987.991 L1429.87 952.916 L1436.07 952.916 L1447.21 980.798 L1458.35 952.916 L1464.56 952.916 L1448.9 991.874 Z\" fill=\"#000000\" fill-rule=\"evenodd\" fill-opacity=\"1\" /><path clip-path=\"url(#clip420)\" d=\"M1471.72 939.102 L1476.82 939.102 Q1481.59 946.614 1483.94 953.807 Q1486.33 961 1486.33 968.098 Q1486.33 975.228 1483.94 982.453 Q1481.59 989.678 1476.82 997.158 L1471.72 997.158 Q1475.96 989.869 1478.02 982.676 Q1480.13 975.45 1480.13 968.098 Q1480.13 960.746 1478.02 953.584 Q1475.96 946.423 1471.72 939.102 Z\" fill=\"#000000\" fill-rule=\"evenodd\" fill-opacity=\"1\" /><polyline clip-path=\"url(#clip422)\" style=\"stroke:#000000; stroke-linecap:butt; stroke-linejoin:round; stroke-width:2; stroke-opacity:0.1; fill:none\" points=\"\n",
       "  231.579,849.7 1952.76,849.7 \n",
       "  \"/>\n",
       "<polyline clip-path=\"url(#clip422)\" style=\"stroke:#000000; stroke-linecap:butt; stroke-linejoin:round; stroke-width:2; stroke-opacity:0.1; fill:none\" points=\"\n",
       "  231.579,670.743 1952.76,670.743 \n",
       "  \"/>\n",
       "<polyline clip-path=\"url(#clip422)\" style=\"stroke:#000000; stroke-linecap:butt; stroke-linejoin:round; stroke-width:2; stroke-opacity:0.1; fill:none\" points=\"\n",
       "  231.579,491.786 1952.76,491.786 \n",
       "  \"/>\n",
       "<polyline clip-path=\"url(#clip422)\" style=\"stroke:#000000; stroke-linecap:butt; stroke-linejoin:round; stroke-width:2; stroke-opacity:0.1; fill:none\" points=\"\n",
       "  231.579,312.829 1952.76,312.829 \n",
       "  \"/>\n",
       "<polyline clip-path=\"url(#clip422)\" style=\"stroke:#000000; stroke-linecap:butt; stroke-linejoin:round; stroke-width:2; stroke-opacity:0.1; fill:none\" points=\"\n",
       "  231.579,133.873 1952.76,133.873 \n",
       "  \"/>\n",
       "<polyline clip-path=\"url(#clip420)\" style=\"stroke:#000000; stroke-linecap:butt; stroke-linejoin:round; stroke-width:4; stroke-opacity:1; fill:none\" points=\"\n",
       "  231.579,849.7 231.579,108.352 \n",
       "  \"/>\n",
       "<polyline clip-path=\"url(#clip420)\" style=\"stroke:#000000; stroke-linecap:butt; stroke-linejoin:round; stroke-width:4; stroke-opacity:1; fill:none\" points=\"\n",
       "  231.579,849.7 250.476,849.7 \n",
       "  \"/>\n",
       "<polyline clip-path=\"url(#clip420)\" style=\"stroke:#000000; stroke-linecap:butt; stroke-linejoin:round; stroke-width:4; stroke-opacity:1; fill:none\" points=\"\n",
       "  231.579,670.743 250.476,670.743 \n",
       "  \"/>\n",
       "<polyline clip-path=\"url(#clip420)\" style=\"stroke:#000000; stroke-linecap:butt; stroke-linejoin:round; stroke-width:4; stroke-opacity:1; fill:none\" points=\"\n",
       "  231.579,491.786 250.476,491.786 \n",
       "  \"/>\n",
       "<polyline clip-path=\"url(#clip420)\" style=\"stroke:#000000; stroke-linecap:butt; stroke-linejoin:round; stroke-width:4; stroke-opacity:1; fill:none\" points=\"\n",
       "  231.579,312.829 250.476,312.829 \n",
       "  \"/>\n",
       "<polyline clip-path=\"url(#clip420)\" style=\"stroke:#000000; stroke-linecap:butt; stroke-linejoin:round; stroke-width:4; stroke-opacity:1; fill:none\" points=\"\n",
       "  231.579,133.873 250.476,133.873 \n",
       "  \"/>\n",
       "<path clip-path=\"url(#clip420)\" d=\"M144.403 835.499 Q140.792 835.499 138.963 839.063 Q137.158 842.605 137.158 849.735 Q137.158 856.841 138.963 860.406 Q140.792 863.947 144.403 863.947 Q148.037 863.947 149.843 860.406 Q151.672 856.841 151.672 849.735 Q151.672 842.605 149.843 839.063 Q148.037 835.499 144.403 835.499 M144.403 831.795 Q150.213 831.795 153.269 836.401 Q156.347 840.985 156.347 849.735 Q156.347 858.461 153.269 863.068 Q150.213 867.651 144.403 867.651 Q138.593 867.651 135.514 863.068 Q132.459 858.461 132.459 849.735 Q132.459 840.985 135.514 836.401 Q138.593 831.795 144.403 831.795 Z\" fill=\"#000000\" fill-rule=\"evenodd\" fill-opacity=\"1\" /><path clip-path=\"url(#clip420)\" d=\"M164.565 861.1 L169.449 861.1 L169.449 866.98 L164.565 866.98 L164.565 861.1 Z\" fill=\"#000000\" fill-rule=\"evenodd\" fill-opacity=\"1\" /><path clip-path=\"url(#clip420)\" d=\"M189.634 835.499 Q186.023 835.499 184.195 839.063 Q182.389 842.605 182.389 849.735 Q182.389 856.841 184.195 860.406 Q186.023 863.947 189.634 863.947 Q193.269 863.947 195.074 860.406 Q196.903 856.841 196.903 849.735 Q196.903 842.605 195.074 839.063 Q193.269 835.499 189.634 835.499 M189.634 831.795 Q195.444 831.795 198.5 836.401 Q201.579 840.985 201.579 849.735 Q201.579 858.461 198.5 863.068 Q195.444 867.651 189.634 867.651 Q183.824 867.651 180.745 863.068 Q177.69 858.461 177.69 849.735 Q177.69 840.985 180.745 836.401 Q183.824 831.795 189.634 831.795 Z\" fill=\"#000000\" fill-rule=\"evenodd\" fill-opacity=\"1\" /><path clip-path=\"url(#clip420)\" d=\"M139.426 684.088 L155.746 684.088 L155.746 688.023 L133.801 688.023 L133.801 684.088 Q136.463 681.333 141.047 676.704 Q145.653 672.051 146.834 670.708 Q149.079 668.185 149.959 666.449 Q150.861 664.69 150.861 663 Q150.861 660.245 148.917 658.509 Q146.996 656.773 143.894 656.773 Q141.695 656.773 139.241 657.537 Q136.811 658.301 134.033 659.852 L134.033 655.13 Q136.857 653.995 139.311 653.417 Q141.764 652.838 143.801 652.838 Q149.172 652.838 152.366 655.523 Q155.56 658.208 155.56 662.699 Q155.56 664.829 154.75 666.75 Q153.963 668.648 151.857 671.241 Q151.278 671.912 148.176 675.13 Q145.074 678.324 139.426 684.088 Z\" fill=\"#000000\" fill-rule=\"evenodd\" fill-opacity=\"1\" /><path clip-path=\"url(#clip420)\" d=\"M165.56 682.143 L170.445 682.143 L170.445 688.023 L165.56 688.023 L165.56 682.143 Z\" fill=\"#000000\" fill-rule=\"evenodd\" fill-opacity=\"1\" /><path clip-path=\"url(#clip420)\" d=\"M180.676 653.463 L199.032 653.463 L199.032 657.398 L184.958 657.398 L184.958 665.87 Q185.977 665.523 186.995 665.361 Q188.014 665.176 189.032 665.176 Q194.819 665.176 198.199 668.347 Q201.579 671.518 201.579 676.935 Q201.579 682.514 198.107 685.616 Q194.634 688.694 188.315 688.694 Q186.139 688.694 183.87 688.324 Q181.625 687.954 179.218 687.213 L179.218 682.514 Q181.301 683.648 183.523 684.204 Q185.745 684.759 188.222 684.759 Q192.227 684.759 194.565 682.653 Q196.903 680.546 196.903 676.935 Q196.903 673.324 194.565 671.218 Q192.227 669.111 188.222 669.111 Q186.347 669.111 184.472 669.528 Q182.62 669.944 180.676 670.824 L180.676 653.463 Z\" fill=\"#000000\" fill-rule=\"evenodd\" fill-opacity=\"1\" /><path clip-path=\"url(#clip420)\" d=\"M134.449 474.506 L152.806 474.506 L152.806 478.441 L138.732 478.441 L138.732 486.914 Q139.75 486.566 140.769 486.404 Q141.787 486.219 142.806 486.219 Q148.593 486.219 151.972 489.39 Q155.352 492.562 155.352 497.978 Q155.352 503.557 151.88 506.659 Q148.408 509.737 142.088 509.737 Q139.912 509.737 137.644 509.367 Q135.399 508.997 132.991 508.256 L132.991 503.557 Q135.074 504.691 137.297 505.247 Q139.519 505.802 141.996 505.802 Q146 505.802 148.338 503.696 Q150.676 501.589 150.676 497.978 Q150.676 494.367 148.338 492.261 Q146 490.154 141.996 490.154 Q140.121 490.154 138.246 490.571 Q136.394 490.988 134.449 491.867 L134.449 474.506 Z\" fill=\"#000000\" fill-rule=\"evenodd\" fill-opacity=\"1\" /><path clip-path=\"url(#clip420)\" d=\"M164.565 503.187 L169.449 503.187 L169.449 509.066 L164.565 509.066 L164.565 503.187 Z\" fill=\"#000000\" fill-rule=\"evenodd\" fill-opacity=\"1\" /><path clip-path=\"url(#clip420)\" d=\"M189.634 477.585 Q186.023 477.585 184.195 481.15 Q182.389 484.691 182.389 491.821 Q182.389 498.927 184.195 502.492 Q186.023 506.034 189.634 506.034 Q193.269 506.034 195.074 502.492 Q196.903 498.927 196.903 491.821 Q196.903 484.691 195.074 481.15 Q193.269 477.585 189.634 477.585 M189.634 473.881 Q195.444 473.881 198.5 478.488 Q201.579 483.071 201.579 491.821 Q201.579 500.548 198.5 505.154 Q195.444 509.737 189.634 509.737 Q183.824 509.737 180.745 505.154 Q177.69 500.548 177.69 491.821 Q177.69 483.071 180.745 478.488 Q183.824 473.881 189.634 473.881 Z\" fill=\"#000000\" fill-rule=\"evenodd\" fill-opacity=\"1\" /><path clip-path=\"url(#clip420)\" d=\"M134.218 295.549 L156.44 295.549 L156.44 297.54 L143.894 330.109 L139.01 330.109 L150.815 299.485 L134.218 299.485 L134.218 295.549 Z\" fill=\"#000000\" fill-rule=\"evenodd\" fill-opacity=\"1\" /><path clip-path=\"url(#clip420)\" d=\"M165.56 324.23 L170.445 324.23 L170.445 330.109 L165.56 330.109 L165.56 324.23 Z\" fill=\"#000000\" fill-rule=\"evenodd\" fill-opacity=\"1\" /><path clip-path=\"url(#clip420)\" d=\"M180.676 295.549 L199.032 295.549 L199.032 299.485 L184.958 299.485 L184.958 307.957 Q185.977 307.609 186.995 307.447 Q188.014 307.262 189.032 307.262 Q194.819 307.262 198.199 310.434 Q201.579 313.605 201.579 319.021 Q201.579 324.6 198.107 327.702 Q194.634 330.781 188.315 330.781 Q186.139 330.781 183.87 330.41 Q181.625 330.04 179.218 329.299 L179.218 324.6 Q181.301 325.734 183.523 326.29 Q185.745 326.846 188.222 326.846 Q192.227 326.846 194.565 324.739 Q196.903 322.633 196.903 319.021 Q196.903 315.41 194.565 313.304 Q192.227 311.197 188.222 311.197 Q186.347 311.197 184.472 311.614 Q182.62 312.031 180.676 312.91 L180.676 295.549 Z\" fill=\"#000000\" fill-rule=\"evenodd\" fill-opacity=\"1\" /><path clip-path=\"url(#clip420)\" d=\"M105.051 147.217 L112.69 147.217 L112.69 120.852 L104.38 122.518 L104.38 118.259 L112.644 116.593 L117.32 116.593 L117.32 147.217 L124.959 147.217 L124.959 151.153 L105.051 151.153 L105.051 147.217 Z\" fill=\"#000000\" fill-rule=\"evenodd\" fill-opacity=\"1\" /><path clip-path=\"url(#clip420)\" d=\"M144.403 119.671 Q140.792 119.671 138.963 123.236 Q137.158 126.778 137.158 133.907 Q137.158 141.014 138.963 144.579 Q140.792 148.12 144.403 148.12 Q148.037 148.12 149.843 144.579 Q151.672 141.014 151.672 133.907 Q151.672 126.778 149.843 123.236 Q148.037 119.671 144.403 119.671 M144.403 115.968 Q150.213 115.968 153.269 120.574 Q156.347 125.157 156.347 133.907 Q156.347 142.634 153.269 147.241 Q150.213 151.824 144.403 151.824 Q138.593 151.824 135.514 147.241 Q132.459 142.634 132.459 133.907 Q132.459 125.157 135.514 120.574 Q138.593 115.968 144.403 115.968 Z\" fill=\"#000000\" fill-rule=\"evenodd\" fill-opacity=\"1\" /><path clip-path=\"url(#clip420)\" d=\"M164.565 145.273 L169.449 145.273 L169.449 151.153 L164.565 151.153 L164.565 145.273 Z\" fill=\"#000000\" fill-rule=\"evenodd\" fill-opacity=\"1\" /><path clip-path=\"url(#clip420)\" d=\"M189.634 119.671 Q186.023 119.671 184.195 123.236 Q182.389 126.778 182.389 133.907 Q182.389 141.014 184.195 144.579 Q186.023 148.12 189.634 148.12 Q193.269 148.12 195.074 144.579 Q196.903 141.014 196.903 133.907 Q196.903 126.778 195.074 123.236 Q193.269 119.671 189.634 119.671 M189.634 115.968 Q195.444 115.968 198.5 120.574 Q201.579 125.157 201.579 133.907 Q201.579 142.634 198.5 147.241 Q195.444 151.824 189.634 151.824 Q183.824 151.824 180.745 147.241 Q177.69 142.634 177.69 133.907 Q177.69 125.157 180.745 120.574 Q183.824 115.968 189.634 115.968 Z\" fill=\"#000000\" fill-rule=\"evenodd\" fill-opacity=\"1\" /><path clip-path=\"url(#clip420)\" d=\"M10.599 728.769 L10.599 722.912 L60.1242 722.912 L60.1242 728.769 L10.599 728.769 Z\" fill=\"#000000\" fill-rule=\"evenodd\" fill-opacity=\"1\" /><path clip-path=\"url(#clip420)\" d=\"M28.5821 696.845 Q28.5821 701.555 32.2742 704.292 Q35.9345 707.03 42.332 707.03 Q48.7295 707.03 52.4217 704.324 Q56.0819 701.587 56.0819 696.845 Q56.0819 692.166 52.3898 689.429 Q48.6977 686.691 42.332 686.691 Q35.9981 686.691 32.306 689.429 Q28.5821 692.166 28.5821 696.845 M23.6168 696.845 Q23.6168 689.206 28.5821 684.845 Q33.5473 680.485 42.332 680.485 Q51.0849 680.485 56.0819 684.845 Q61.0472 689.206 61.0472 696.845 Q61.0472 704.515 56.0819 708.876 Q51.0849 713.204 42.332 713.204 Q33.5473 713.204 28.5821 708.876 Q23.6168 704.515 23.6168 696.845 Z\" fill=\"#000000\" fill-rule=\"evenodd\" fill-opacity=\"1\" /><path clip-path=\"url(#clip420)\" d=\"M41.8864 647.319 Q35.5207 647.319 32.0196 649.961 Q28.5184 652.571 28.5184 657.314 Q28.5184 662.024 32.0196 664.666 Q35.5207 667.276 41.8864 667.276 Q48.2203 667.276 51.7214 664.666 Q55.2226 662.024 55.2226 657.314 Q55.2226 652.571 51.7214 649.961 Q48.2203 647.319 41.8864 647.319 M55.7 641.463 Q64.803 641.463 69.2271 645.505 Q73.6831 649.547 73.6831 657.886 Q73.6831 660.974 73.2057 663.711 Q72.7601 666.448 71.8052 669.026 L66.1079 669.026 Q67.5084 666.448 68.1768 663.934 Q68.8452 661.419 68.8452 658.809 Q68.8452 653.048 65.8215 650.184 Q62.8296 647.319 56.7503 647.319 L53.8539 647.319 Q57.005 649.134 58.5646 651.966 Q60.1242 654.799 60.1242 658.746 Q60.1242 665.302 55.1271 669.313 Q50.13 673.323 41.8864 673.323 Q33.611 673.323 28.6139 669.313 Q23.6168 665.302 23.6168 658.746 Q23.6168 654.799 25.1764 651.966 Q26.736 649.134 29.8871 647.319 L24.4762 647.319 L24.4762 641.463 L55.7 641.463 Z\" fill=\"#000000\" fill-rule=\"evenodd\" fill-opacity=\"1\" /><path clip-path=\"url(#clip420)\" d=\"M10.6626 615.332 Q17.9832 619.597 25.1446 621.666 Q32.306 623.734 39.6584 623.734 Q47.0108 623.734 54.2359 621.666 Q61.4291 619.565 68.7179 615.332 L68.7179 620.424 Q61.2382 625.199 54.0131 627.586 Q46.788 629.941 39.6584 629.941 Q32.5606 629.941 25.3674 627.586 Q18.1742 625.23 10.6626 620.424 L10.6626 615.332 Z\" fill=\"#000000\" fill-rule=\"evenodd\" fill-opacity=\"1\" /><path clip-path=\"url(#clip420)\" d=\"M31.4466 576.787 L31.4466 586.049 L42.0774 588.723 L42.0774 579.397 L31.4466 576.787 M13.3362 581.562 L26.5451 584.872 L26.5451 575.578 L13.3362 572.236 L13.3362 567.143 L26.5451 570.422 L26.5451 560.491 L31.4466 560.491 L31.4466 571.663 L42.0774 574.273 L42.0774 564.151 L46.9471 564.151 L46.9471 575.514 L60.1242 578.824 L60.1242 583.917 L46.9471 580.639 L46.9471 589.964 L60.1242 593.243 L60.1242 598.367 L46.9471 595.057 L46.9471 605.083 L42.0774 605.083 L42.0774 593.879 L31.4466 591.206 L31.4466 601.454 L26.5451 601.454 L26.5451 589.964 L13.3362 586.718 L13.3362 581.562 Z\" fill=\"#000000\" fill-rule=\"evenodd\" fill-opacity=\"1\" /><path clip-path=\"url(#clip420)\" d=\"M28.5821 514.817 Q28.5821 519.528 32.2742 522.265 Q35.9345 525.002 42.332 525.002 Q48.7295 525.002 52.4217 522.297 Q56.0819 519.56 56.0819 514.817 Q56.0819 510.138 52.3898 507.401 Q48.6977 504.664 42.332 504.664 Q35.9981 504.664 32.306 507.401 Q28.5821 510.138 28.5821 514.817 M23.6168 514.817 Q23.6168 507.178 28.5821 502.818 Q33.5473 498.457 42.332 498.457 Q51.0849 498.457 56.0819 502.818 Q61.0472 507.178 61.0472 514.817 Q61.0472 522.488 56.0819 526.848 Q51.0849 531.177 42.332 531.177 Q33.5473 531.177 28.5821 526.848 Q23.6168 522.488 23.6168 514.817 Z\" fill=\"#000000\" fill-rule=\"evenodd\" fill-opacity=\"1\" /><path clip-path=\"url(#clip420)\" d=\"M10.599 470.703 L15.4687 470.703 L15.4687 476.305 Q15.4687 479.456 16.7419 480.697 Q18.015 481.906 21.3252 481.906 L24.4762 481.906 L24.4762 472.262 L29.0277 472.262 L29.0277 481.906 L60.1242 481.906 L60.1242 487.795 L29.0277 487.795 L29.0277 493.397 L24.4762 493.397 L24.4762 487.795 L21.9936 487.795 Q16.0416 487.795 13.3362 485.026 Q10.599 482.257 10.599 476.241 L10.599 470.703 Z\" fill=\"#000000\" fill-rule=\"evenodd\" fill-opacity=\"1\" /><path clip-path=\"url(#clip420)\" d=\"M10.599 445.304 L10.599 439.415 L39.8494 439.415 L24.4762 421.942 L24.4762 414.462 L41.1544 433.368 L60.1242 413.666 L60.1242 421.305 L42.7139 439.415 L60.1242 439.415 L60.1242 445.304 L10.599 445.304 Z\" fill=\"#000000\" fill-rule=\"evenodd\" fill-opacity=\"1\" /><path clip-path=\"url(#clip420)\" d=\"M31.3193 379.578 Q27.3726 377.382 25.4947 374.326 Q23.6168 371.27 23.6168 367.133 Q23.6168 361.563 27.5317 358.539 Q31.4148 355.515 38.6081 355.515 L60.1242 355.515 L60.1242 361.404 L38.799 361.404 Q33.6746 361.404 31.192 363.218 Q28.7094 365.032 28.7094 368.756 Q28.7094 373.308 31.7331 375.949 Q34.7568 378.591 39.9767 378.591 L60.1242 378.591 L60.1242 384.479 L38.799 384.479 Q33.6428 384.479 31.192 386.294 Q28.7094 388.108 28.7094 391.895 Q28.7094 396.383 31.7649 399.025 Q34.7886 401.667 39.9767 401.667 L60.1242 401.667 L60.1242 407.555 L24.4762 407.555 L24.4762 401.667 L30.0144 401.667 Q26.736 399.662 25.1764 396.861 Q23.6168 394.06 23.6168 390.208 Q23.6168 386.325 25.5902 383.62 Q27.5636 380.883 31.3193 379.578 Z\" fill=\"#000000\" fill-rule=\"evenodd\" fill-opacity=\"1\" /><path clip-path=\"url(#clip420)\" d=\"M40.8361 313.343 L43.7006 313.343 L43.7006 340.269 Q49.7481 339.888 52.9309 336.641 Q56.0819 333.363 56.0819 327.538 Q56.0819 324.164 55.2544 321.013 Q54.4269 317.83 52.7718 314.711 L58.3099 314.711 Q59.6467 317.862 60.347 321.172 Q61.0472 324.483 61.0472 327.888 Q61.0472 336.418 56.0819 341.415 Q51.1167 346.381 42.6503 346.381 Q33.8974 346.381 28.7731 341.67 Q23.6168 336.927 23.6168 328.907 Q23.6168 321.713 28.2638 317.544 Q32.8789 313.343 40.8361 313.343 M39.1173 319.199 Q34.3112 319.263 31.4466 321.904 Q28.5821 324.514 28.5821 328.843 Q28.5821 333.745 31.3512 336.705 Q34.1202 339.633 39.1492 340.079 L39.1173 319.199 Z\" fill=\"#000000\" fill-rule=\"evenodd\" fill-opacity=\"1\" /><path clip-path=\"url(#clip420)\" d=\"M29.9507 283.074 Q29.3778 284.06 29.1232 285.238 Q28.8367 286.384 28.8367 287.784 Q28.8367 292.749 32.0832 295.423 Q35.2979 298.065 41.3453 298.065 L60.1242 298.065 L60.1242 303.953 L24.4762 303.953 L24.4762 298.065 L30.0144 298.065 Q26.7679 296.219 25.2083 293.259 Q23.6168 290.299 23.6168 286.066 Q23.6168 285.461 23.7123 284.729 Q23.776 283.997 23.9351 283.105 L29.9507 283.074 Z\" fill=\"#000000\" fill-rule=\"evenodd\" fill-opacity=\"1\" /><path clip-path=\"url(#clip420)\" d=\"M25.5265 254.205 L31.0647 254.205 Q29.7916 256.688 29.155 259.361 Q28.5184 262.035 28.5184 264.9 Q28.5184 269.26 29.8552 271.456 Q31.192 273.621 33.8656 273.621 Q35.9026 273.621 37.0803 272.061 Q38.2261 270.501 39.2765 265.791 L39.7221 263.786 Q41.0589 257.547 43.5097 254.937 Q45.9286 252.295 50.2891 252.295 Q55.2544 252.295 58.1508 256.242 Q61.0472 260.157 61.0472 267.032 Q61.0472 269.897 60.4743 273.016 Q59.9332 276.103 58.8192 279.541 L52.7718 279.541 Q54.4587 276.294 55.318 273.143 Q56.1456 269.992 56.1456 266.905 Q56.1456 262.767 54.7451 260.539 Q53.3129 258.311 50.7347 258.311 Q48.3476 258.311 47.0745 259.934 Q45.8013 261.526 44.6237 266.968 L44.1462 269.005 Q43.0004 274.448 40.6451 276.867 Q38.258 279.286 34.1202 279.286 Q29.0913 279.286 26.3541 275.721 Q23.6168 272.156 23.6168 265.6 Q23.6168 262.353 24.0943 259.489 Q24.5717 256.624 25.5265 254.205 Z\" fill=\"#000000\" fill-rule=\"evenodd\" fill-opacity=\"1\" /><path clip-path=\"url(#clip420)\" d=\"M10.6626 243.893 L10.6626 238.8 Q18.1742 234.026 25.3674 231.671 Q32.5606 229.283 39.6584 229.283 Q46.788 229.283 54.0131 231.671 Q61.2382 234.026 68.7179 238.8 L68.7179 243.893 Q61.4291 239.66 54.2359 237.591 Q47.0108 235.49 39.6584 235.49 Q32.306 235.49 25.1446 237.591 Q17.9832 239.66 10.6626 243.893 Z\" fill=\"#000000\" fill-rule=\"evenodd\" fill-opacity=\"1\" /><path clip-path=\"url(#clip420)\" d=\"M735.607 9.54393 L743.101 9.54393 L743.101 46.7717 L765.34 27.2059 L774.86 27.2059 L750.798 48.4326 L775.873 72.576 L766.151 72.576 L743.101 50.4176 L743.101 72.576 L735.607 72.576 L735.607 9.54393 Z\" fill=\"#000000\" fill-rule=\"evenodd\" fill-opacity=\"1\" /><path clip-path=\"url(#clip420)\" d=\"M819.258 35.9153 Q822.053 30.8922 825.942 28.5022 Q829.831 26.1121 835.097 26.1121 Q842.186 26.1121 846.034 31.0947 Q849.883 36.0368 849.883 45.1919 L849.883 72.576 L842.389 72.576 L842.389 45.4349 Q842.389 38.913 840.08 35.7533 Q837.771 32.5936 833.031 32.5936 Q827.238 32.5936 823.876 36.4419 Q820.514 40.2903 820.514 46.9338 L820.514 72.576 L813.019 72.576 L813.019 45.4349 Q813.019 38.8725 810.71 35.7533 Q808.401 32.5936 803.581 32.5936 Q797.869 32.5936 794.507 36.4824 Q791.145 40.3308 791.145 46.9338 L791.145 72.576 L783.65 72.576 L783.65 27.2059 L791.145 27.2059 L791.145 34.2544 Q793.697 30.082 797.261 28.0971 Q800.826 26.1121 805.728 26.1121 Q810.67 26.1121 814.113 28.6237 Q817.597 31.1352 819.258 35.9153 Z\" fill=\"#000000\" fill-rule=\"evenodd\" fill-opacity=\"1\" /><path clip-path=\"url(#clip420)\" d=\"M903.557 48.0275 L903.557 51.6733 L869.287 51.6733 Q869.773 59.3701 873.905 63.421 Q878.077 67.4314 885.49 67.4314 Q889.784 67.4314 893.795 66.3781 Q897.845 65.3249 901.815 63.2184 L901.815 70.267 Q897.805 71.9684 893.592 72.8596 Q889.379 73.7508 885.045 73.7508 Q874.188 73.7508 867.828 67.4314 Q861.509 61.1119 861.509 50.3365 Q861.509 39.1965 867.504 32.6746 Q873.54 26.1121 883.748 26.1121 Q892.903 26.1121 898.21 32.0264 Q903.557 37.9003 903.557 48.0275 M896.104 45.84 Q896.023 39.7232 892.66 36.0774 Q889.339 32.4315 883.829 32.4315 Q877.591 32.4315 873.824 35.9558 Q870.097 39.4801 869.53 45.8805 L896.104 45.84 Z\" fill=\"#000000\" fill-rule=\"evenodd\" fill-opacity=\"1\" /><path clip-path=\"url(#clip420)\" d=\"M942.081 34.1734 Q940.826 33.4443 939.327 33.1202 Q937.868 32.7556 936.086 32.7556 Q929.767 32.7556 926.364 36.8875 Q923.002 40.9789 923.002 48.6757 L923.002 72.576 L915.507 72.576 L915.507 27.2059 L923.002 27.2059 L923.002 34.2544 Q925.351 30.1225 929.118 28.1376 Q932.886 26.1121 938.273 26.1121 Q939.043 26.1121 939.975 26.2337 Q940.907 26.3147 942.041 26.5172 L942.081 34.1734 Z\" fill=\"#000000\" fill-rule=\"evenodd\" fill-opacity=\"1\" /><path clip-path=\"url(#clip420)\" d=\"M999.24 9.54393 L999.24 15.7418 L992.11 15.7418 Q988.1 15.7418 986.52 17.3622 Q984.98 18.9825 984.98 23.1955 L984.98 27.2059 L997.255 27.2059 L997.255 32.9987 L984.98 32.9987 L984.98 72.576 L977.486 72.576 L977.486 32.9987 L970.357 32.9987 L970.357 27.2059 L977.486 27.2059 L977.486 24.0462 Q977.486 16.471 981.01 13.0277 Q984.535 9.54393 992.191 9.54393 L999.24 9.54393 Z\" fill=\"#000000\" fill-rule=\"evenodd\" fill-opacity=\"1\" /><path clip-path=\"url(#clip420)\" d=\"M1031.77 34.1734 Q1030.51 33.4443 1029.01 33.1202 Q1027.56 32.7556 1025.77 32.7556 Q1019.45 32.7556 1016.05 36.8875 Q1012.69 40.9789 1012.69 48.6757 L1012.69 72.576 L1005.19 72.576 L1005.19 27.2059 L1012.69 27.2059 L1012.69 34.2544 Q1015.04 30.1225 1018.81 28.1376 Q1022.57 26.1121 1027.96 26.1121 Q1028.73 26.1121 1029.66 26.2337 Q1030.59 26.3147 1031.73 26.5172 L1031.77 34.1734 Z\" fill=\"#000000\" fill-rule=\"evenodd\" fill-opacity=\"1\" /><path clip-path=\"url(#clip420)\" d=\"M1076.57 48.0275 L1076.57 51.6733 L1042.3 51.6733 Q1042.79 59.3701 1046.92 63.421 Q1051.09 67.4314 1058.5 67.4314 Q1062.8 67.4314 1066.81 66.3781 Q1070.86 65.3249 1074.83 63.2184 L1074.83 70.267 Q1070.82 71.9684 1066.61 72.8596 Q1062.39 73.7508 1058.06 73.7508 Q1047.2 73.7508 1040.84 67.4314 Q1034.52 61.1119 1034.52 50.3365 Q1034.52 39.1965 1040.52 32.6746 Q1046.55 26.1121 1056.76 26.1121 Q1065.92 26.1121 1071.22 32.0264 Q1076.57 37.9003 1076.57 48.0275 M1069.12 45.84 Q1069.04 39.7232 1065.67 36.0774 Q1062.35 32.4315 1056.84 32.4315 Q1050.61 32.4315 1046.84 35.9558 Q1043.11 39.4801 1042.54 45.8805 L1069.12 45.84 Z\" fill=\"#000000\" fill-rule=\"evenodd\" fill-opacity=\"1\" /><path clip-path=\"url(#clip420)\" d=\"M1093.26 49.9314 Q1093.26 58.1548 1096.62 62.8538 Q1100.03 67.5124 1105.94 67.5124 Q1111.85 67.5124 1115.26 62.8538 Q1118.66 58.1548 1118.66 49.9314 Q1118.66 41.7081 1115.26 37.0496 Q1111.85 32.3505 1105.94 32.3505 Q1100.03 32.3505 1096.62 37.0496 Q1093.26 41.7081 1093.26 49.9314 M1118.66 65.7705 Q1116.31 69.8214 1112.71 71.8063 Q1109.14 73.7508 1104.12 73.7508 Q1095.89 73.7508 1090.71 67.1883 Q1085.56 60.6258 1085.56 49.9314 Q1085.56 39.2371 1090.71 32.6746 Q1095.89 26.1121 1104.12 26.1121 Q1109.14 26.1121 1112.71 28.0971 Q1116.31 30.0415 1118.66 34.0924 L1118.66 27.2059 L1126.11 27.2059 L1126.11 89.8329 L1118.66 89.8329 L1118.66 65.7705 Z\" fill=\"#000000\" fill-rule=\"evenodd\" fill-opacity=\"1\" /><path clip-path=\"url(#clip420)\" d=\"M1140.7 54.671 L1140.7 27.2059 L1148.15 27.2059 L1148.15 54.3874 Q1148.15 60.8284 1150.66 64.0691 Q1153.17 67.2693 1158.2 67.2693 Q1164.23 67.2693 1167.72 63.421 Q1171.24 59.5726 1171.24 52.9291 L1171.24 27.2059 L1178.69 27.2059 L1178.69 72.576 L1171.24 72.576 L1171.24 65.6084 Q1168.53 69.7404 1164.92 71.7658 Q1161.36 73.7508 1156.62 73.7508 Q1148.8 73.7508 1144.75 68.8897 Q1140.7 64.0286 1140.7 54.671 M1159.45 26.1121 L1159.45 26.1121 Z\" fill=\"#000000\" fill-rule=\"evenodd\" fill-opacity=\"1\" /><path clip-path=\"url(#clip420)\" d=\"M1232.86 48.0275 L1232.86 51.6733 L1198.58 51.6733 Q1199.07 59.3701 1203.2 63.421 Q1207.38 67.4314 1214.79 67.4314 Q1219.08 67.4314 1223.09 66.3781 Q1227.14 65.3249 1231.11 63.2184 L1231.11 70.267 Q1227.1 71.9684 1222.89 72.8596 Q1218.68 73.7508 1214.34 73.7508 Q1203.49 73.7508 1197.13 67.4314 Q1190.81 61.1119 1190.81 50.3365 Q1190.81 39.1965 1196.8 32.6746 Q1202.84 26.1121 1213.05 26.1121 Q1222.2 26.1121 1227.51 32.0264 Q1232.86 37.9003 1232.86 48.0275 M1225.4 45.84 Q1225.32 39.7232 1221.96 36.0774 Q1218.64 32.4315 1213.13 32.4315 Q1206.89 32.4315 1203.12 35.9558 Q1199.39 39.4801 1198.83 45.8805 L1225.4 45.84 Z\" fill=\"#000000\" fill-rule=\"evenodd\" fill-opacity=\"1\" /><path clip-path=\"url(#clip420)\" d=\"M1282.8 45.1919 L1282.8 72.576 L1275.35 72.576 L1275.35 45.4349 Q1275.35 38.994 1272.84 35.7938 Q1270.33 32.5936 1265.3 32.5936 Q1259.27 32.5936 1255.78 36.4419 Q1252.3 40.2903 1252.3 46.9338 L1252.3 72.576 L1244.81 72.576 L1244.81 27.2059 L1252.3 27.2059 L1252.3 34.2544 Q1254.97 30.163 1258.58 28.1376 Q1262.22 26.1121 1266.96 26.1121 Q1274.78 26.1121 1278.79 30.9732 Q1282.8 35.7938 1282.8 45.1919 Z\" fill=\"#000000\" fill-rule=\"evenodd\" fill-opacity=\"1\" /><path clip-path=\"url(#clip420)\" d=\"M1330.32 28.9478 L1330.32 35.9153 Q1327.16 34.1734 1323.96 33.3227 Q1320.8 32.4315 1317.56 32.4315 Q1310.31 32.4315 1306.3 37.0496 Q1302.29 41.6271 1302.29 49.9314 Q1302.29 58.2358 1306.3 62.8538 Q1310.31 67.4314 1317.56 67.4314 Q1320.8 67.4314 1323.96 66.5807 Q1327.16 65.6895 1330.32 63.9476 L1330.32 70.8341 Q1327.2 72.2924 1323.84 73.0216 Q1320.52 73.7508 1316.75 73.7508 Q1306.5 73.7508 1300.46 67.3098 Q1294.43 60.8689 1294.43 49.9314 Q1294.43 38.832 1300.51 32.472 Q1306.62 26.1121 1317.24 26.1121 Q1320.68 26.1121 1323.96 26.8413 Q1327.24 27.5299 1330.32 28.9478 Z\" fill=\"#000000\" fill-rule=\"evenodd\" fill-opacity=\"1\" /><path clip-path=\"url(#clip420)\" d=\"M1343.28 27.2059 L1350.74 27.2059 L1350.74 72.576 L1343.28 72.576 L1343.28 27.2059 M1343.28 9.54393 L1350.74 9.54393 L1350.74 18.9825 L1343.28 18.9825 L1343.28 9.54393 Z\" fill=\"#000000\" fill-rule=\"evenodd\" fill-opacity=\"1\" /><path clip-path=\"url(#clip420)\" d=\"M1405.14 48.0275 L1405.14 51.6733 L1370.87 51.6733 Q1371.36 59.3701 1375.49 63.421 Q1379.66 67.4314 1387.07 67.4314 Q1391.37 67.4314 1395.38 66.3781 Q1399.43 65.3249 1403.4 63.2184 L1403.4 70.267 Q1399.39 71.9684 1395.17 72.8596 Q1390.96 73.7508 1386.63 73.7508 Q1375.77 73.7508 1369.41 67.4314 Q1363.09 61.1119 1363.09 50.3365 Q1363.09 39.1965 1369.09 32.6746 Q1375.12 26.1121 1385.33 26.1121 Q1394.49 26.1121 1399.79 32.0264 Q1405.14 37.9003 1405.14 48.0275 M1397.69 45.84 Q1397.61 39.7232 1394.24 36.0774 Q1390.92 32.4315 1385.41 32.4315 Q1379.17 32.4315 1375.41 35.9558 Q1371.68 39.4801 1371.11 45.8805 L1397.69 45.84 Z\" fill=\"#000000\" fill-rule=\"evenodd\" fill-opacity=\"1\" /><path clip-path=\"url(#clip420)\" d=\"M1446.3 28.5427 L1446.3 35.5912 Q1443.14 33.9709 1439.73 33.1607 Q1436.33 32.3505 1432.69 32.3505 Q1427.14 32.3505 1424.34 34.0519 Q1421.59 35.7533 1421.59 39.156 Q1421.59 41.7486 1423.57 43.2475 Q1425.56 44.7058 1431.55 46.0426 L1434.1 46.6097 Q1442.04 48.3111 1445.37 51.4303 Q1448.73 54.509 1448.73 60.0587 Q1448.73 66.3781 1443.7 70.0644 Q1438.72 73.7508 1429.97 73.7508 Q1426.33 73.7508 1422.36 73.0216 Q1418.43 72.3329 1414.05 70.9151 L1414.05 63.2184 Q1418.18 65.3654 1422.19 66.4591 Q1426.2 67.5124 1430.13 67.5124 Q1435.4 67.5124 1438.24 65.73 Q1441.07 63.9071 1441.07 60.6258 Q1441.07 57.5877 1439.01 55.9673 Q1436.98 54.3469 1430.05 52.8481 L1427.46 52.2405 Q1420.53 50.7821 1417.45 47.7845 Q1414.38 44.7463 1414.38 39.4801 Q1414.38 33.0797 1418.91 29.5959 Q1423.45 26.1121 1431.8 26.1121 Q1435.93 26.1121 1439.57 26.7198 Q1443.22 27.3274 1446.3 28.5427 Z\" fill=\"#000000\" fill-rule=\"evenodd\" fill-opacity=\"1\" /><circle clip-path=\"url(#clip422)\" cx=\"1584.32\" cy=\"638.929\" r=\"14\" fill=\"#009af9\" fill-rule=\"evenodd\" fill-opacity=\"1\" stroke=\"#000000\" stroke-opacity=\"1\" stroke-width=\"2\"/>\n",
       "<circle clip-path=\"url(#clip422)\" cx=\"1588.28\" cy=\"638.929\" r=\"14\" fill=\"#009af9\" fill-rule=\"evenodd\" fill-opacity=\"1\" stroke=\"#000000\" stroke-opacity=\"1\" stroke-width=\"2\"/>\n",
       "<circle clip-path=\"url(#clip422)\" cx=\"731.305\" cy=\"671.823\" r=\"14\" fill=\"#009af9\" fill-rule=\"evenodd\" fill-opacity=\"1\" stroke=\"#000000\" stroke-opacity=\"1\" stroke-width=\"2\"/>\n",
       "<circle clip-path=\"url(#clip422)\" cx=\"1596.04\" cy=\"580.463\" r=\"14\" fill=\"#009af9\" fill-rule=\"evenodd\" fill-opacity=\"1\" stroke=\"#000000\" stroke-opacity=\"1\" stroke-width=\"2\"/>\n",
       "<circle clip-path=\"url(#clip422)\" cx=\"1572.15\" cy=\"800.082\" r=\"14\" fill=\"#009af9\" fill-rule=\"evenodd\" fill-opacity=\"1\" stroke=\"#000000\" stroke-opacity=\"1\" stroke-width=\"2\"/>\n",
       "<circle clip-path=\"url(#clip422)\" cx=\"231.579\" cy=\"179.935\" r=\"14\" fill=\"#009af9\" fill-rule=\"evenodd\" fill-opacity=\"1\" stroke=\"#000000\" stroke-opacity=\"1\" stroke-width=\"2\"/>\n",
       "<circle clip-path=\"url(#clip422)\" cx=\"1603.62\" cy=\"544.566\" r=\"14\" fill=\"#009af9\" fill-rule=\"evenodd\" fill-opacity=\"1\" stroke=\"#000000\" stroke-opacity=\"1\" stroke-width=\"2\"/>\n",
       "<circle clip-path=\"url(#clip422)\" cx=\"1635.58\" cy=\"616.476\" r=\"14\" fill=\"#009af9\" fill-rule=\"evenodd\" fill-opacity=\"1\" stroke=\"#000000\" stroke-opacity=\"1\" stroke-width=\"2\"/>\n",
       "<circle clip-path=\"url(#clip422)\" cx=\"1611.01\" cy=\"523.721\" r=\"14\" fill=\"#009af9\" fill-rule=\"evenodd\" fill-opacity=\"1\" stroke=\"#000000\" stroke-opacity=\"1\" stroke-width=\"2\"/>\n",
       "<circle clip-path=\"url(#clip422)\" cx=\"1625.29\" cy=\"525.244\" r=\"14\" fill=\"#009af9\" fill-rule=\"evenodd\" fill-opacity=\"1\" stroke=\"#000000\" stroke-opacity=\"1\" stroke-width=\"2\"/>\n",
       "<circle clip-path=\"url(#clip422)\" cx=\"1599.85\" cy=\"577.209\" r=\"14\" fill=\"#009af9\" fill-rule=\"evenodd\" fill-opacity=\"1\" stroke=\"#000000\" stroke-opacity=\"1\" stroke-width=\"2\"/>\n",
       "<circle clip-path=\"url(#clip422)\" cx=\"572.695\" cy=\"508.201\" r=\"14\" fill=\"#009af9\" fill-rule=\"evenodd\" fill-opacity=\"1\" stroke=\"#000000\" stroke-opacity=\"1\" stroke-width=\"2\"/>\n",
       "<circle clip-path=\"url(#clip422)\" cx=\"1592.19\" cy=\"608.66\" r=\"14\" fill=\"#009af9\" fill-rule=\"evenodd\" fill-opacity=\"1\" stroke=\"#000000\" stroke-opacity=\"1\" stroke-width=\"2\"/>\n",
       "<circle clip-path=\"url(#clip422)\" cx=\"1607.33\" cy=\"526.018\" r=\"14\" fill=\"#009af9\" fill-rule=\"evenodd\" fill-opacity=\"1\" stroke=\"#000000\" stroke-opacity=\"1\" stroke-width=\"2\"/>\n",
       "<circle clip-path=\"url(#clip422)\" cx=\"1580.32\" cy=\"651.23\" r=\"14\" fill=\"#009af9\" fill-rule=\"evenodd\" fill-opacity=\"1\" stroke=\"#000000\" stroke-opacity=\"1\" stroke-width=\"2\"/>\n",
       "<circle clip-path=\"url(#clip422)\" cx=\"1642.26\" cy=\"750.465\" r=\"14\" fill=\"#009af9\" fill-rule=\"evenodd\" fill-opacity=\"1\" stroke=\"#000000\" stroke-opacity=\"1\" stroke-width=\"2\"/>\n",
       "<circle clip-path=\"url(#clip422)\" cx=\"1628.76\" cy=\"548.716\" r=\"14\" fill=\"#009af9\" fill-rule=\"evenodd\" fill-opacity=\"1\" stroke=\"#000000\" stroke-opacity=\"1\" stroke-width=\"2\"/>\n",
       "<circle clip-path=\"url(#clip422)\" cx=\"1576.26\" cy=\"734.492\" r=\"14\" fill=\"#009af9\" fill-rule=\"evenodd\" fill-opacity=\"1\" stroke=\"#000000\" stroke-opacity=\"1\" stroke-width=\"2\"/>\n",
       "<circle clip-path=\"url(#clip422)\" cx=\"1638.94\" cy=\"671.823\" r=\"14\" fill=\"#009af9\" fill-rule=\"evenodd\" fill-opacity=\"1\" stroke=\"#000000\" stroke-opacity=\"1\" stroke-width=\"2\"/>\n",
       "<circle clip-path=\"url(#clip422)\" cx=\"662.019\" cy=\"800.082\" r=\"14\" fill=\"#009af9\" fill-rule=\"evenodd\" fill-opacity=\"1\" stroke=\"#000000\" stroke-opacity=\"1\" stroke-width=\"2\"/>\n",
       "<circle clip-path=\"url(#clip422)\" cx=\"1614.64\" cy=\"518.632\" r=\"14\" fill=\"#009af9\" fill-rule=\"evenodd\" fill-opacity=\"1\" stroke=\"#000000\" stroke-opacity=\"1\" stroke-width=\"2\"/>\n",
       "<circle clip-path=\"url(#clip422)\" cx=\"446.799\" cy=\"353.877\" r=\"14\" fill=\"#009af9\" fill-rule=\"evenodd\" fill-opacity=\"1\" stroke=\"#000000\" stroke-opacity=\"1\" stroke-width=\"2\"/>\n",
       "<circle clip-path=\"url(#clip422)\" cx=\"1621.78\" cy=\"535.133\" r=\"14\" fill=\"#009af9\" fill-rule=\"evenodd\" fill-opacity=\"1\" stroke=\"#000000\" stroke-opacity=\"1\" stroke-width=\"2\"/>\n",
       "<circle clip-path=\"url(#clip422)\" cx=\"1632.19\" cy=\"572.589\" r=\"14\" fill=\"#009af9\" fill-rule=\"evenodd\" fill-opacity=\"1\" stroke=\"#000000\" stroke-opacity=\"1\" stroke-width=\"2\"/>\n",
       "<circle clip-path=\"url(#clip422)\" cx=\"1618.23\" cy=\"510.045\" r=\"14\" fill=\"#009af9\" fill-rule=\"evenodd\" fill-opacity=\"1\" stroke=\"#000000\" stroke-opacity=\"1\" stroke-width=\"2\"/>\n",
       "</svg>\n"
      ]
     },
     "execution_count": 20,
     "metadata": {},
     "output_type": "execute_result"
    }
   ],
   "source": [
    "kmer_counts = Dict(observation_graph.vprops[v][:kmer] => observation_graph.vprops[v][:weight] for v in LightGraphs.vertices(observation_graph))\n",
    "total_observed_kmers = sum(values(kmer_counts))\n",
    "kmer_probabilities = Dict(k => v/total_observed_kmers for (k,v) in kmer_counts)\n",
    "scale = 250\n",
    "Mycelia.plot_kmer_frequency_spectra(values(kmer_counts), size=(2scale,scale), title=\"kmer frequencies\")"
   ]
  },
  {
   "cell_type": "code",
   "execution_count": 21,
   "id": "fd15af69-a35c-45cf-8399-70bc287d11d7",
   "metadata": {},
   "outputs": [
    {
     "data": {
      "text/plain": [
       "0.9282223356918813"
      ]
     },
     "execution_count": 21,
     "metadata": {},
     "output_type": "execute_result"
    }
   ],
   "source": [
    "reference_kmers = keys(Mycelia.count_canonical_kmers(BioSequences.DNAMer{k}, reference_fasta_file))\n",
    "distance_to_reference_graph = 1 - LSHFunctions.jaccard(Set(reference_kmers), Set(keys(kmer_counts)))"
   ]
  },
  {
   "cell_type": "code",
   "execution_count": 22,
   "id": "b92d72a6-4129-4d75-8d98-7af0335cd46f",
   "metadata": {},
   "outputs": [],
   "source": [
    "# step 1, hard-filter singletons"
   ]
  },
  {
   "cell_type": "code",
   "execution_count": 23,
   "id": "eb04fd64-d13e-42b4-a519-d306eeb1cab2",
   "metadata": {},
   "outputs": [
    {
     "data": {
      "text/plain": [
       "996-element Vector{Int64}:\n",
       "    13\n",
       "    25\n",
       "    44\n",
       "    59\n",
       "    74\n",
       "    89\n",
       "    99\n",
       "   110\n",
       "   122\n",
       "   145\n",
       "   163\n",
       "   174\n",
       "   188\n",
       "     ⋮\n",
       " 13542\n",
       " 13559\n",
       " 13585\n",
       " 13590\n",
       " 13599\n",
       " 13622\n",
       " 13635\n",
       " 13644\n",
       " 13645\n",
       " 13650\n",
       " 13663\n",
       " 13689"
      ]
     },
     "execution_count": 23,
     "metadata": {},
     "output_type": "execute_result"
    }
   ],
   "source": [
    "filtered_vertices = findall(v -> observation_graph.vprops[v][:weight] >= 5, LightGraphs.vertices(observation_graph))"
   ]
  },
  {
   "cell_type": "code",
   "execution_count": 24,
   "id": "0709502f-3ef2-4596-814b-7419217b1ecc",
   "metadata": {},
   "outputs": [
    {
     "data": {
      "text/plain": [
       "({996, 1990} directed Int64 metagraph with Float64 weights defined by :weight (default weight 1.0), [13, 25, 44, 59, 74, 89, 99, 110, 122, 145  …  13585, 13590, 13599, 13622, 13635, 13644, 13645, 13650, 13663, 13689])"
      ]
     },
     "execution_count": 24,
     "metadata": {},
     "output_type": "execute_result"
    }
   ],
   "source": [
    "filtered_observation_graph, vertex_map = LightGraphs.induced_subgraph(observation_graph, filtered_vertices)"
   ]
  },
  {
   "cell_type": "code",
   "execution_count": 25,
   "id": "ed22ec40-e72e-445f-a0fe-b38b3de73aae",
   "metadata": {},
   "outputs": [
    {
     "data": {
      "text/html": [
       "<img src=./../../../2021-08-24-assess-convergence/LENGTH-1000-DEPTH-100.fastq.k-17.filtered.gfa.svg>"
      ]
     },
     "metadata": {},
     "output_type": "display_data"
    }
   ],
   "source": [
    "# visualize\n",
    "gfa_file = observations_file * \".k-$k.filtered.gfa\"\n",
    "Mycelia.graph_to_gfa(filtered_observation_graph, gfa_file)\n",
    "\n",
    "run(`$(BANDAGE) image $(gfa_file) $(gfa_file).svg --depwidth .9 --deppower .9`)\n",
    "# --nodewidth <float> Average node width (0.5 to 1000, default: 5)\n",
    "# --depwidth <float>  Depth effect on width (0 to 1, default: 0.5)\n",
    "# --deppower <float>  Power of depth effect on width (0 to 1, default: 0.5)\n",
    "\n",
    "html_path_to_svg = \"./\" * repeat(\"../\", length(split(pwd(), '/')) - 3)\n",
    "html_path_to_svg *= replace(\"$(gfa_file).svg\", \"$(homedir())/\" => \"\")\n",
    "\n",
    "x = \"<img src=$(html_path_to_svg)>\"\n",
    "display(\"text/html\", x)\n",
    "# display(\"image/svg+xml\", read(\"$(gfa_file).svg\", String))"
   ]
  },
  {
   "cell_type": "code",
   "execution_count": 26,
   "id": "68b9c85f-981e-49dd-8711-8cdfbba9c9db",
   "metadata": {},
   "outputs": [
    {
     "data": {
      "image/svg+xml": [
       "<?xml version=\"1.0\" encoding=\"utf-8\"?>\n",
       "<svg xmlns=\"http://www.w3.org/2000/svg\" xmlns:xlink=\"http://www.w3.org/1999/xlink\" width=\"500\" height=\"250\" viewBox=\"0 0 2000 1000\">\n",
       "<defs>\n",
       "  <clipPath id=\"clip460\">\n",
       "    <rect x=\"0\" y=\"0\" width=\"2000\" height=\"1000\"/>\n",
       "  </clipPath>\n",
       "</defs>\n",
       "<path clip-path=\"url(#clip460)\" d=\"\n",
       "M0 1000 L2000 1000 L2000 0 L0 0  Z\n",
       "  \" fill=\"#ffffff\" fill-rule=\"evenodd\" fill-opacity=\"1\"/>\n",
       "<defs>\n",
       "  <clipPath id=\"clip461\">\n",
       "    <rect x=\"400\" y=\"0\" width=\"1401\" height=\"1000\"/>\n",
       "  </clipPath>\n",
       "</defs>\n",
       "<path clip-path=\"url(#clip460)\" d=\"\n",
       "M159.565 849.7 L1952.76 849.7 L1952.76 108.352 L159.565 108.352  Z\n",
       "  \" fill=\"#ffffff\" fill-rule=\"evenodd\" fill-opacity=\"1\"/>\n",
       "<defs>\n",
       "  <clipPath id=\"clip462\">\n",
       "    <rect x=\"159\" y=\"108\" width=\"1794\" height=\"742\"/>\n",
       "  </clipPath>\n",
       "</defs>\n",
       "<polyline clip-path=\"url(#clip462)\" style=\"stroke:#000000; stroke-linecap:butt; stroke-linejoin:round; stroke-width:2; stroke-opacity:0.1; fill:none\" points=\"\n",
       "  159.565,849.7 159.565,108.352 \n",
       "  \"/>\n",
       "<polyline clip-path=\"url(#clip462)\" style=\"stroke:#000000; stroke-linecap:butt; stroke-linejoin:round; stroke-width:2; stroke-opacity:0.1; fill:none\" points=\"\n",
       "  483.053,849.7 483.053,108.352 \n",
       "  \"/>\n",
       "<polyline clip-path=\"url(#clip462)\" style=\"stroke:#000000; stroke-linecap:butt; stroke-linejoin:round; stroke-width:2; stroke-opacity:0.1; fill:none\" points=\"\n",
       "  806.542,849.7 806.542,108.352 \n",
       "  \"/>\n",
       "<polyline clip-path=\"url(#clip462)\" style=\"stroke:#000000; stroke-linecap:butt; stroke-linejoin:round; stroke-width:2; stroke-opacity:0.1; fill:none\" points=\"\n",
       "  1130.03,849.7 1130.03,108.352 \n",
       "  \"/>\n",
       "<polyline clip-path=\"url(#clip462)\" style=\"stroke:#000000; stroke-linecap:butt; stroke-linejoin:round; stroke-width:2; stroke-opacity:0.1; fill:none\" points=\"\n",
       "  1453.52,849.7 1453.52,108.352 \n",
       "  \"/>\n",
       "<polyline clip-path=\"url(#clip462)\" style=\"stroke:#000000; stroke-linecap:butt; stroke-linejoin:round; stroke-width:2; stroke-opacity:0.1; fill:none\" points=\"\n",
       "  1777.01,849.7 1777.01,108.352 \n",
       "  \"/>\n",
       "<polyline clip-path=\"url(#clip460)\" style=\"stroke:#000000; stroke-linecap:butt; stroke-linejoin:round; stroke-width:4; stroke-opacity:1; fill:none\" points=\"\n",
       "  159.565,849.7 1952.76,849.7 \n",
       "  \"/>\n",
       "<polyline clip-path=\"url(#clip460)\" style=\"stroke:#000000; stroke-linecap:butt; stroke-linejoin:round; stroke-width:4; stroke-opacity:1; fill:none\" points=\"\n",
       "  159.565,849.7 159.565,830.802 \n",
       "  \"/>\n",
       "<polyline clip-path=\"url(#clip460)\" style=\"stroke:#000000; stroke-linecap:butt; stroke-linejoin:round; stroke-width:4; stroke-opacity:1; fill:none\" points=\"\n",
       "  483.053,849.7 483.053,830.802 \n",
       "  \"/>\n",
       "<polyline clip-path=\"url(#clip460)\" style=\"stroke:#000000; stroke-linecap:butt; stroke-linejoin:round; stroke-width:4; stroke-opacity:1; fill:none\" points=\"\n",
       "  806.542,849.7 806.542,830.802 \n",
       "  \"/>\n",
       "<polyline clip-path=\"url(#clip460)\" style=\"stroke:#000000; stroke-linecap:butt; stroke-linejoin:round; stroke-width:4; stroke-opacity:1; fill:none\" points=\"\n",
       "  1130.03,849.7 1130.03,830.802 \n",
       "  \"/>\n",
       "<polyline clip-path=\"url(#clip460)\" style=\"stroke:#000000; stroke-linecap:butt; stroke-linejoin:round; stroke-width:4; stroke-opacity:1; fill:none\" points=\"\n",
       "  1453.52,849.7 1453.52,830.802 \n",
       "  \"/>\n",
       "<polyline clip-path=\"url(#clip460)\" style=\"stroke:#000000; stroke-linecap:butt; stroke-linejoin:round; stroke-width:4; stroke-opacity:1; fill:none\" points=\"\n",
       "  1777.01,849.7 1777.01,830.802 \n",
       "  \"/>\n",
       "<path clip-path=\"url(#clip460)\" d=\"M159.565 875.691 Q155.954 875.691 154.125 879.255 Q152.32 882.797 152.32 889.927 Q152.32 897.033 154.125 900.598 Q155.954 904.139 159.565 904.139 Q163.199 904.139 165.005 900.598 Q166.834 897.033 166.834 889.927 Q166.834 882.797 165.005 879.255 Q163.199 875.691 159.565 875.691 M159.565 871.987 Q165.375 871.987 168.431 876.593 Q171.51 881.177 171.51 889.927 Q171.51 898.653 168.431 903.26 Q165.375 907.843 159.565 907.843 Q153.755 907.843 150.676 903.26 Q147.621 898.653 147.621 889.927 Q147.621 881.177 150.676 876.593 Q153.755 871.987 159.565 871.987 Z\" fill=\"#000000\" fill-rule=\"evenodd\" fill-opacity=\"1\" /><path clip-path=\"url(#clip460)\" d=\"M473.435 903.237 L481.074 903.237 L481.074 876.871 L472.764 878.538 L472.764 874.279 L481.028 872.612 L485.704 872.612 L485.704 903.237 L493.343 903.237 L493.343 907.172 L473.435 907.172 L473.435 903.237 Z\" fill=\"#000000\" fill-rule=\"evenodd\" fill-opacity=\"1\" /><path clip-path=\"url(#clip460)\" d=\"M801.195 903.237 L817.514 903.237 L817.514 907.172 L795.57 907.172 L795.57 903.237 Q798.232 900.482 802.815 895.852 Q807.421 891.2 808.602 889.857 Q810.847 887.334 811.727 885.598 Q812.63 883.839 812.63 882.149 Q812.63 879.394 810.685 877.658 Q808.764 875.922 805.662 875.922 Q803.463 875.922 801.009 876.686 Q798.579 877.45 795.801 879.001 L795.801 874.279 Q798.625 873.144 801.079 872.566 Q803.532 871.987 805.569 871.987 Q810.94 871.987 814.134 874.672 Q817.329 877.357 817.329 881.848 Q817.329 883.978 816.518 885.899 Q815.731 887.797 813.625 890.39 Q813.046 891.061 809.944 894.278 Q806.843 897.473 801.195 903.237 Z\" fill=\"#000000\" fill-rule=\"evenodd\" fill-opacity=\"1\" /><path clip-path=\"url(#clip460)\" d=\"M1134.28 888.538 Q1137.63 889.255 1139.51 891.524 Q1141.41 893.792 1141.41 897.126 Q1141.41 902.241 1137.89 905.042 Q1134.37 907.843 1127.89 907.843 Q1125.71 907.843 1123.4 907.403 Q1121.11 906.987 1118.65 906.13 L1118.65 901.616 Q1120.6 902.751 1122.91 903.329 Q1125.23 903.908 1127.75 903.908 Q1132.15 903.908 1134.44 902.172 Q1136.75 900.436 1136.75 897.126 Q1136.75 894.07 1134.6 892.357 Q1132.47 890.621 1128.65 890.621 L1124.62 890.621 L1124.62 886.778 L1128.84 886.778 Q1132.29 886.778 1134.12 885.413 Q1135.94 884.024 1135.94 881.431 Q1135.94 878.769 1134.05 877.357 Q1132.17 875.922 1128.65 875.922 Q1126.73 875.922 1124.53 876.339 Q1122.33 876.755 1119.69 877.635 L1119.69 873.468 Q1122.36 872.728 1124.67 872.357 Q1127.01 871.987 1129.07 871.987 Q1134.39 871.987 1137.5 874.417 Q1140.6 876.825 1140.6 880.945 Q1140.6 883.815 1138.95 885.806 Q1137.31 887.774 1134.28 888.538 Z\" fill=\"#000000\" fill-rule=\"evenodd\" fill-opacity=\"1\" /><path clip-path=\"url(#clip460)\" d=\"M1456.53 876.686 L1444.72 895.135 L1456.53 895.135 L1456.53 876.686 M1455.3 872.612 L1461.18 872.612 L1461.18 895.135 L1466.11 895.135 L1466.11 899.024 L1461.18 899.024 L1461.18 907.172 L1456.53 907.172 L1456.53 899.024 L1440.93 899.024 L1440.93 894.51 L1455.3 872.612 Z\" fill=\"#000000\" fill-rule=\"evenodd\" fill-opacity=\"1\" /><path clip-path=\"url(#clip460)\" d=\"M1767.28 872.612 L1785.64 872.612 L1785.64 876.547 L1771.57 876.547 L1771.57 885.019 Q1772.59 884.672 1773.6 884.51 Q1774.62 884.325 1775.64 884.325 Q1781.43 884.325 1784.81 887.496 Q1788.19 890.667 1788.19 896.084 Q1788.19 901.663 1784.71 904.764 Q1781.24 907.843 1774.92 907.843 Q1772.75 907.843 1770.48 907.473 Q1768.23 907.102 1765.83 906.362 L1765.83 901.663 Q1767.91 902.797 1770.13 903.352 Q1772.35 903.908 1774.83 903.908 Q1778.84 903.908 1781.17 901.802 Q1783.51 899.695 1783.51 896.084 Q1783.51 892.473 1781.17 890.366 Q1778.84 888.26 1774.83 888.26 Q1772.96 888.26 1771.08 888.677 Q1769.23 889.093 1767.28 889.973 L1767.28 872.612 Z\" fill=\"#000000\" fill-rule=\"evenodd\" fill-opacity=\"1\" /><path clip-path=\"url(#clip460)\" d=\"M661.996 939.039 L667.852 939.039 L667.852 988.564 L661.996 988.564 L661.996 939.039 Z\" fill=\"#000000\" fill-rule=\"evenodd\" fill-opacity=\"1\" /><path clip-path=\"url(#clip460)\" d=\"M693.92 957.022 Q689.209 957.022 686.472 960.714 Q683.735 964.374 683.735 970.772 Q683.735 977.169 686.44 980.861 Q689.178 984.522 693.92 984.522 Q698.599 984.522 701.336 980.83 Q704.073 977.137 704.073 970.772 Q704.073 964.438 701.336 960.746 Q698.599 957.022 693.92 957.022 M693.92 952.057 Q701.559 952.057 705.919 957.022 Q710.28 961.987 710.28 970.772 Q710.28 979.525 705.919 984.522 Q701.559 989.487 693.92 989.487 Q686.249 989.487 681.889 984.522 Q677.56 979.525 677.56 970.772 Q677.56 961.987 681.889 957.022 Q686.249 952.057 693.92 952.057 Z\" fill=\"#000000\" fill-rule=\"evenodd\" fill-opacity=\"1\" /><path clip-path=\"url(#clip460)\" d=\"M743.445 970.326 Q743.445 963.96 740.803 960.459 Q738.194 956.958 733.451 956.958 Q728.74 956.958 726.099 960.459 Q723.489 963.96 723.489 970.326 Q723.489 976.66 726.099 980.161 Q728.74 983.662 733.451 983.662 Q738.194 983.662 740.803 980.161 Q743.445 976.66 743.445 970.326 M749.302 984.14 Q749.302 993.243 745.259 997.667 Q741.217 1002.12 732.878 1002.12 Q729.791 1002.12 727.054 1001.65 Q724.316 1001.2 721.738 1000.24 L721.738 994.548 Q724.316 995.948 726.831 996.616 Q729.345 997.285 731.955 997.285 Q737.716 997.285 740.581 994.261 Q743.445 991.269 743.445 985.19 L743.445 982.294 Q741.631 985.445 738.798 987.004 Q735.966 988.564 732.019 988.564 Q725.462 988.564 721.452 983.567 Q717.441 978.57 717.441 970.326 Q717.441 962.051 721.452 957.054 Q725.462 952.057 732.019 952.057 Q735.966 952.057 738.798 953.616 Q741.631 955.176 743.445 958.327 L743.445 952.916 L749.302 952.916 L749.302 984.14 Z\" fill=\"#000000\" fill-rule=\"evenodd\" fill-opacity=\"1\" /><path clip-path=\"url(#clip460)\" d=\"M775.433 939.102 Q771.168 946.423 769.099 953.584 Q767.03 960.746 767.03 968.098 Q767.03 975.45 769.099 982.676 Q771.2 989.869 775.433 997.158 L770.34 997.158 Q765.566 989.678 763.179 982.453 Q760.824 975.228 760.824 968.098 Q760.824 961 763.179 953.807 Q765.534 946.614 770.34 939.102 L775.433 939.102 Z\" fill=\"#000000\" fill-rule=\"evenodd\" fill-opacity=\"1\" /><path clip-path=\"url(#clip460)\" d=\"M800.609 957.022 Q795.899 957.022 793.161 960.714 Q790.424 964.374 790.424 970.772 Q790.424 977.169 793.13 980.861 Q795.867 984.522 800.609 984.522 Q805.288 984.522 808.025 980.83 Q810.763 977.137 810.763 970.772 Q810.763 964.438 808.025 960.746 Q805.288 957.022 800.609 957.022 M800.609 952.057 Q808.248 952.057 812.609 957.022 Q816.969 961.987 816.969 970.772 Q816.969 979.525 812.609 984.522 Q808.248 989.487 800.609 989.487 Q792.939 989.487 788.578 984.522 Q784.249 979.525 784.249 970.772 Q784.249 961.987 788.578 957.022 Q792.939 952.057 800.609 952.057 Z\" fill=\"#000000\" fill-rule=\"evenodd\" fill-opacity=\"1\" /><path clip-path=\"url(#clip460)\" d=\"M852.267 970.772 Q852.267 964.311 849.593 960.65 Q846.952 956.958 842.305 956.958 Q837.658 956.958 834.984 960.65 Q832.342 964.311 832.342 970.772 Q832.342 977.233 834.984 980.925 Q837.658 984.585 842.305 984.585 Q846.952 984.585 849.593 980.925 Q852.267 977.233 852.267 970.772 M832.342 958.327 Q834.188 955.144 836.989 953.616 Q839.822 952.057 843.737 952.057 Q850.23 952.057 854.272 957.213 Q858.346 962.369 858.346 970.772 Q858.346 979.174 854.272 984.331 Q850.23 989.487 843.737 989.487 Q839.822 989.487 836.989 987.959 Q834.188 986.4 832.342 983.217 L832.342 988.564 L826.454 988.564 L826.454 939.039 L832.342 939.039 L832.342 958.327 Z\" fill=\"#000000\" fill-rule=\"evenodd\" fill-opacity=\"1\" /><path clip-path=\"url(#clip460)\" d=\"M890.779 953.966 L890.779 959.504 Q888.297 958.231 885.623 957.595 Q882.95 956.958 880.085 956.958 Q875.725 956.958 873.528 958.295 Q871.364 959.632 871.364 962.305 Q871.364 964.342 872.924 965.52 Q874.483 966.666 879.194 967.716 L881.199 968.162 Q887.438 969.499 890.047 971.949 Q892.689 974.368 892.689 978.729 Q892.689 983.694 888.742 986.59 Q884.828 989.487 877.953 989.487 Q875.088 989.487 871.969 988.914 Q868.881 988.373 865.444 987.259 L865.444 981.211 Q868.69 982.898 871.842 983.758 Q874.993 984.585 878.08 984.585 Q882.218 984.585 884.446 983.185 Q886.674 981.753 886.674 979.174 Q886.674 976.787 885.05 975.514 Q883.459 974.241 878.016 973.063 L875.979 972.586 Q870.537 971.44 868.118 969.085 Q865.699 966.698 865.699 962.56 Q865.699 957.531 869.263 954.794 Q872.828 952.057 879.385 952.057 Q882.631 952.057 885.496 952.534 Q888.361 953.011 890.779 953.966 Z\" fill=\"#000000\" fill-rule=\"evenodd\" fill-opacity=\"1\" /><path clip-path=\"url(#clip460)\" d=\"M932.507 969.276 L932.507 972.14 L905.58 972.14 Q905.962 978.188 909.208 981.371 Q912.487 984.522 918.311 984.522 Q921.685 984.522 924.836 983.694 Q928.019 982.867 931.138 981.211 L931.138 986.75 Q927.987 988.086 924.677 988.787 Q921.367 989.487 917.961 989.487 Q909.431 989.487 904.434 984.522 Q899.469 979.556 899.469 971.09 Q899.469 962.337 904.179 957.213 Q908.922 952.057 916.943 952.057 Q924.136 952.057 928.305 956.703 Q932.507 961.319 932.507 969.276 M926.65 967.557 Q926.587 962.751 923.945 959.886 Q921.335 957.022 917.006 957.022 Q912.105 957.022 909.145 959.791 Q906.216 962.56 905.771 967.589 L926.65 967.557 Z\" fill=\"#000000\" fill-rule=\"evenodd\" fill-opacity=\"1\" /><path clip-path=\"url(#clip460)\" d=\"M962.776 958.39 Q961.789 957.817 960.611 957.563 Q959.465 957.276 958.065 957.276 Q953.1 957.276 950.426 960.523 Q947.784 963.738 947.784 969.785 L947.784 988.564 L941.896 988.564 L941.896 952.916 L947.784 952.916 L947.784 958.454 Q949.63 955.208 952.591 953.648 Q955.551 952.057 959.784 952.057 Q960.389 952.057 961.121 952.152 Q961.853 952.216 962.744 952.375 L962.776 958.39 Z\" fill=\"#000000\" fill-rule=\"evenodd\" fill-opacity=\"1\" /><path clip-path=\"url(#clip460)\" d=\"M964.717 952.916 L970.924 952.916 L982.064 982.835 L993.204 952.916 L999.41 952.916 L986.042 988.564 L978.085 988.564 L964.717 952.916 Z\" fill=\"#000000\" fill-rule=\"evenodd\" fill-opacity=\"1\" /><path clip-path=\"url(#clip460)\" d=\"M1037.99 969.276 L1037.99 972.14 L1011.06 972.14 Q1011.44 978.188 1014.69 981.371 Q1017.97 984.522 1023.79 984.522 Q1027.16 984.522 1030.32 983.694 Q1033.5 982.867 1036.62 981.211 L1036.62 986.75 Q1033.47 988.086 1030.16 988.787 Q1026.85 989.487 1023.44 989.487 Q1014.91 989.487 1009.91 984.522 Q1004.95 979.556 1004.95 971.09 Q1004.95 962.337 1009.66 957.213 Q1014.4 952.057 1022.42 952.057 Q1029.62 952.057 1033.79 956.703 Q1037.99 961.319 1037.99 969.276 M1032.13 967.557 Q1032.07 962.751 1029.42 959.886 Q1026.81 957.022 1022.49 957.022 Q1017.58 957.022 1014.62 959.791 Q1011.7 962.56 1011.25 967.589 L1032.13 967.557 Z\" fill=\"#000000\" fill-rule=\"evenodd\" fill-opacity=\"1\" /><path clip-path=\"url(#clip460)\" d=\"M1071.06 958.327 L1071.06 939.039 L1076.91 939.039 L1076.91 988.564 L1071.06 988.564 L1071.06 983.217 Q1069.21 986.4 1066.38 987.959 Q1063.58 989.487 1059.63 989.487 Q1053.17 989.487 1049.09 984.331 Q1045.05 979.174 1045.05 970.772 Q1045.05 962.369 1049.09 957.213 Q1053.17 952.057 1059.63 952.057 Q1063.58 952.057 1066.38 953.616 Q1069.21 955.144 1071.06 958.327 M1051.1 970.772 Q1051.1 977.233 1053.74 980.925 Q1056.42 984.585 1061.06 984.585 Q1065.71 984.585 1068.38 980.925 Q1071.06 977.233 1071.06 970.772 Q1071.06 964.311 1068.38 960.65 Q1065.71 956.958 1061.06 956.958 Q1056.42 956.958 1053.74 960.65 Q1051.1 964.311 1051.1 970.772 Z\" fill=\"#000000\" fill-rule=\"evenodd\" fill-opacity=\"1\" /><path clip-path=\"url(#clip460)\" d=\"M1127.74 939.039 L1127.74 943.908 L1122.14 943.908 Q1118.99 943.908 1117.75 945.182 Q1116.54 946.455 1116.54 949.765 L1116.54 952.916 L1126.18 952.916 L1126.18 957.467 L1116.54 957.467 L1116.54 988.564 L1110.65 988.564 L1110.65 957.467 L1105.05 957.467 L1105.05 952.916 L1110.65 952.916 L1110.65 950.433 Q1110.65 944.481 1113.42 941.776 Q1116.19 939.039 1122.2 939.039 L1127.74 939.039 Z\" fill=\"#000000\" fill-rule=\"evenodd\" fill-opacity=\"1\" /><path clip-path=\"url(#clip460)\" d=\"M1153.3 958.39 Q1152.31 957.817 1151.14 957.563 Q1149.99 957.276 1148.59 957.276 Q1143.63 957.276 1140.95 960.523 Q1138.31 963.738 1138.31 969.785 L1138.31 988.564 L1132.42 988.564 L1132.42 952.916 L1138.31 952.916 L1138.31 958.454 Q1140.16 955.208 1143.12 953.648 Q1146.08 952.057 1150.31 952.057 Q1150.91 952.057 1151.65 952.152 Q1152.38 952.216 1153.27 952.375 L1153.3 958.39 Z\" fill=\"#000000\" fill-rule=\"evenodd\" fill-opacity=\"1\" /><path clip-path=\"url(#clip460)\" d=\"M1188.5 969.276 L1188.5 972.14 L1161.58 972.14 Q1161.96 978.188 1165.21 981.371 Q1168.48 984.522 1174.31 984.522 Q1177.68 984.522 1180.83 983.694 Q1184.02 982.867 1187.13 981.211 L1187.13 986.75 Q1183.98 988.086 1180.67 988.787 Q1177.36 989.487 1173.96 989.487 Q1165.43 989.487 1160.43 984.522 Q1155.47 979.556 1155.47 971.09 Q1155.47 962.337 1160.18 957.213 Q1164.92 952.057 1172.94 952.057 Q1180.13 952.057 1184.3 956.703 Q1188.5 961.319 1188.5 969.276 M1182.65 967.557 Q1182.58 962.751 1179.94 959.886 Q1177.33 957.022 1173 957.022 Q1168.1 957.022 1165.14 959.791 Q1162.21 962.56 1161.77 967.589 L1182.65 967.557 Z\" fill=\"#000000\" fill-rule=\"evenodd\" fill-opacity=\"1\" /><path clip-path=\"url(#clip460)\" d=\"M1201.62 970.772 Q1201.62 977.233 1204.26 980.925 Q1206.93 984.585 1211.58 984.585 Q1216.23 984.585 1218.9 980.925 Q1221.57 977.233 1221.57 970.772 Q1221.57 964.311 1218.9 960.65 Q1216.23 956.958 1211.58 956.958 Q1206.93 956.958 1204.26 960.65 Q1201.62 964.311 1201.62 970.772 M1221.57 983.217 Q1219.73 986.4 1216.89 987.959 Q1214.09 989.487 1210.15 989.487 Q1203.69 989.487 1199.61 984.331 Q1195.57 979.174 1195.57 970.772 Q1195.57 962.369 1199.61 957.213 Q1203.69 952.057 1210.15 952.057 Q1214.09 952.057 1216.89 953.616 Q1219.73 955.144 1221.57 958.327 L1221.57 952.916 L1227.43 952.916 L1227.43 1002.12 L1221.57 1002.12 L1221.57 983.217 Z\" fill=\"#000000\" fill-rule=\"evenodd\" fill-opacity=\"1\" /><path clip-path=\"url(#clip460)\" d=\"M1238.89 974.496 L1238.89 952.916 L1244.74 952.916 L1244.74 974.273 Q1244.74 979.334 1246.72 981.88 Q1248.69 984.394 1252.64 984.394 Q1257.38 984.394 1260.12 981.371 Q1262.89 978.347 1262.89 973.127 L1262.89 952.916 L1268.74 952.916 L1268.74 988.564 L1262.89 988.564 L1262.89 983.089 Q1260.75 986.336 1257.92 987.927 Q1255.12 989.487 1251.4 989.487 Q1245.25 989.487 1242.07 985.667 Q1238.89 981.848 1238.89 974.496 M1253.62 952.057 L1253.62 952.057 Z\" fill=\"#000000\" fill-rule=\"evenodd\" fill-opacity=\"1\" /><path clip-path=\"url(#clip460)\" d=\"M1311.3 969.276 L1311.3 972.14 L1284.37 972.14 Q1284.75 978.188 1288 981.371 Q1291.28 984.522 1297.1 984.522 Q1300.48 984.522 1303.63 983.694 Q1306.81 982.867 1309.93 981.211 L1309.93 986.75 Q1306.78 988.086 1303.47 988.787 Q1300.16 989.487 1296.75 989.487 Q1288.22 989.487 1283.23 984.522 Q1278.26 979.556 1278.26 971.09 Q1278.26 962.337 1282.97 957.213 Q1287.71 952.057 1295.73 952.057 Q1302.93 952.057 1307.1 956.703 Q1311.3 961.319 1311.3 969.276 M1305.44 967.557 Q1305.38 962.751 1302.74 959.886 Q1300.13 957.022 1295.8 957.022 Q1290.9 957.022 1287.94 959.791 Q1285.01 962.56 1284.56 967.589 L1305.44 967.557 Z\" fill=\"#000000\" fill-rule=\"evenodd\" fill-opacity=\"1\" /><path clip-path=\"url(#clip460)\" d=\"M1350.54 967.048 L1350.54 988.564 L1344.69 988.564 L1344.69 967.239 Q1344.69 962.178 1342.71 959.664 Q1340.74 957.149 1336.79 957.149 Q1332.05 957.149 1329.31 960.173 Q1326.58 963.197 1326.58 968.416 L1326.58 988.564 L1320.69 988.564 L1320.69 952.916 L1326.58 952.916 L1326.58 958.454 Q1328.68 955.239 1331.51 953.648 Q1334.37 952.057 1338.1 952.057 Q1344.24 952.057 1347.39 955.876 Q1350.54 959.664 1350.54 967.048 Z\" fill=\"#000000\" fill-rule=\"evenodd\" fill-opacity=\"1\" /><path clip-path=\"url(#clip460)\" d=\"M1387.88 954.285 L1387.88 959.759 Q1385.39 958.39 1382.88 957.722 Q1380.4 957.022 1377.85 957.022 Q1372.15 957.022 1369 960.65 Q1365.85 964.247 1365.85 970.772 Q1365.85 977.297 1369 980.925 Q1372.15 984.522 1377.85 984.522 Q1380.4 984.522 1382.88 983.853 Q1385.39 983.153 1387.88 981.784 L1387.88 987.195 Q1385.43 988.341 1382.78 988.914 Q1380.18 989.487 1377.21 989.487 Q1369.16 989.487 1364.42 984.426 Q1359.68 979.365 1359.68 970.772 Q1359.68 962.051 1364.45 957.054 Q1369.26 952.057 1377.6 952.057 Q1380.3 952.057 1382.88 952.629 Q1385.46 953.171 1387.88 954.285 Z\" fill=\"#000000\" fill-rule=\"evenodd\" fill-opacity=\"1\" /><path clip-path=\"url(#clip460)\" d=\"M1412.89 991.874 Q1410.41 998.24 1408.06 1000.18 Q1405.7 1002.12 1401.75 1002.12 L1397.08 1002.12 L1397.08 997.221 L1400.51 997.221 Q1402.93 997.221 1404.27 996.075 Q1405.61 994.93 1407.23 990.665 L1408.28 987.991 L1393.86 952.916 L1400.07 952.916 L1411.21 980.798 L1422.35 952.916 L1428.55 952.916 L1412.89 991.874 Z\" fill=\"#000000\" fill-rule=\"evenodd\" fill-opacity=\"1\" /><path clip-path=\"url(#clip460)\" d=\"M1435.72 939.102 L1440.81 939.102 Q1445.58 946.614 1447.94 953.807 Q1450.33 961 1450.33 968.098 Q1450.33 975.228 1447.94 982.453 Q1445.58 989.678 1440.81 997.158 L1435.72 997.158 Q1439.95 989.869 1442.02 982.676 Q1444.12 975.45 1444.12 968.098 Q1444.12 960.746 1442.02 953.584 Q1439.95 946.423 1435.72 939.102 Z\" fill=\"#000000\" fill-rule=\"evenodd\" fill-opacity=\"1\" /><polyline clip-path=\"url(#clip462)\" style=\"stroke:#000000; stroke-linecap:butt; stroke-linejoin:round; stroke-width:2; stroke-opacity:0.1; fill:none\" points=\"\n",
       "  159.565,849.7 1952.76,849.7 \n",
       "  \"/>\n",
       "<polyline clip-path=\"url(#clip462)\" style=\"stroke:#000000; stroke-linecap:butt; stroke-linejoin:round; stroke-width:2; stroke-opacity:0.1; fill:none\" points=\"\n",
       "  159.565,720.656 1952.76,720.656 \n",
       "  \"/>\n",
       "<polyline clip-path=\"url(#clip462)\" style=\"stroke:#000000; stroke-linecap:butt; stroke-linejoin:round; stroke-width:2; stroke-opacity:0.1; fill:none\" points=\"\n",
       "  159.565,591.612 1952.76,591.612 \n",
       "  \"/>\n",
       "<polyline clip-path=\"url(#clip462)\" style=\"stroke:#000000; stroke-linecap:butt; stroke-linejoin:round; stroke-width:2; stroke-opacity:0.1; fill:none\" points=\"\n",
       "  159.565,462.569 1952.76,462.569 \n",
       "  \"/>\n",
       "<polyline clip-path=\"url(#clip462)\" style=\"stroke:#000000; stroke-linecap:butt; stroke-linejoin:round; stroke-width:2; stroke-opacity:0.1; fill:none\" points=\"\n",
       "  159.565,333.525 1952.76,333.525 \n",
       "  \"/>\n",
       "<polyline clip-path=\"url(#clip462)\" style=\"stroke:#000000; stroke-linecap:butt; stroke-linejoin:round; stroke-width:2; stroke-opacity:0.1; fill:none\" points=\"\n",
       "  159.565,204.481 1952.76,204.481 \n",
       "  \"/>\n",
       "<polyline clip-path=\"url(#clip460)\" style=\"stroke:#000000; stroke-linecap:butt; stroke-linejoin:round; stroke-width:4; stroke-opacity:1; fill:none\" points=\"\n",
       "  159.565,849.7 159.565,108.352 \n",
       "  \"/>\n",
       "<polyline clip-path=\"url(#clip460)\" style=\"stroke:#000000; stroke-linecap:butt; stroke-linejoin:round; stroke-width:4; stroke-opacity:1; fill:none\" points=\"\n",
       "  159.565,849.7 178.463,849.7 \n",
       "  \"/>\n",
       "<polyline clip-path=\"url(#clip460)\" style=\"stroke:#000000; stroke-linecap:butt; stroke-linejoin:round; stroke-width:4; stroke-opacity:1; fill:none\" points=\"\n",
       "  159.565,720.656 178.463,720.656 \n",
       "  \"/>\n",
       "<polyline clip-path=\"url(#clip460)\" style=\"stroke:#000000; stroke-linecap:butt; stroke-linejoin:round; stroke-width:4; stroke-opacity:1; fill:none\" points=\"\n",
       "  159.565,591.612 178.463,591.612 \n",
       "  \"/>\n",
       "<polyline clip-path=\"url(#clip460)\" style=\"stroke:#000000; stroke-linecap:butt; stroke-linejoin:round; stroke-width:4; stroke-opacity:1; fill:none\" points=\"\n",
       "  159.565,462.569 178.463,462.569 \n",
       "  \"/>\n",
       "<polyline clip-path=\"url(#clip460)\" style=\"stroke:#000000; stroke-linecap:butt; stroke-linejoin:round; stroke-width:4; stroke-opacity:1; fill:none\" points=\"\n",
       "  159.565,333.525 178.463,333.525 \n",
       "  \"/>\n",
       "<polyline clip-path=\"url(#clip460)\" style=\"stroke:#000000; stroke-linecap:butt; stroke-linejoin:round; stroke-width:4; stroke-opacity:1; fill:none\" points=\"\n",
       "  159.565,204.481 178.463,204.481 \n",
       "  \"/>\n",
       "<path clip-path=\"url(#clip460)\" d=\"M117.621 835.499 Q114.01 835.499 112.181 839.063 Q110.375 842.605 110.375 849.735 Q110.375 856.841 112.181 860.406 Q114.01 863.947 117.621 863.947 Q121.255 863.947 123.061 860.406 Q124.889 856.841 124.889 849.735 Q124.889 842.605 123.061 839.063 Q121.255 835.499 117.621 835.499 M117.621 831.795 Q123.431 831.795 126.487 836.401 Q129.565 840.985 129.565 849.735 Q129.565 858.461 126.487 863.068 Q123.431 867.651 117.621 867.651 Q111.811 867.651 108.732 863.068 Q105.676 858.461 105.676 849.735 Q105.676 840.985 108.732 836.401 Q111.811 831.795 117.621 831.795 Z\" fill=\"#000000\" fill-rule=\"evenodd\" fill-opacity=\"1\" /><path clip-path=\"url(#clip460)\" d=\"M109.658 734.001 L117.297 734.001 L117.297 707.635 L108.987 709.302 L108.987 705.043 L117.25 703.376 L121.926 703.376 L121.926 734.001 L129.565 734.001 L129.565 737.936 L109.658 737.936 L109.658 734.001 Z\" fill=\"#000000\" fill-rule=\"evenodd\" fill-opacity=\"1\" /><path clip-path=\"url(#clip460)\" d=\"M113.246 604.957 L129.565 604.957 L129.565 608.892 L107.621 608.892 L107.621 604.957 Q110.283 602.203 114.866 597.573 Q119.473 592.92 120.653 591.578 Q122.899 589.054 123.778 587.318 Q124.681 585.559 124.681 583.869 Q124.681 581.115 122.737 579.379 Q120.815 577.642 117.713 577.642 Q115.514 577.642 113.061 578.406 Q110.63 579.17 107.852 580.721 L107.852 575.999 Q110.676 574.865 113.13 574.286 Q115.584 573.707 117.621 573.707 Q122.991 573.707 126.186 576.392 Q129.38 579.078 129.38 583.568 Q129.38 585.698 128.57 587.619 Q127.783 589.517 125.676 592.11 Q125.098 592.781 121.996 595.999 Q118.894 599.193 113.246 604.957 Z\" fill=\"#000000\" fill-rule=\"evenodd\" fill-opacity=\"1\" /><path clip-path=\"url(#clip460)\" d=\"M122.436 461.214 Q125.792 461.932 127.667 464.2 Q129.565 466.469 129.565 469.802 Q129.565 474.918 126.047 477.719 Q122.528 480.52 116.047 480.52 Q113.871 480.52 111.556 480.08 Q109.264 479.663 106.811 478.807 L106.811 474.293 Q108.755 475.427 111.07 476.006 Q113.385 476.585 115.908 476.585 Q120.306 476.585 122.598 474.849 Q124.912 473.112 124.912 469.802 Q124.912 466.747 122.76 465.034 Q120.63 463.298 116.811 463.298 L112.783 463.298 L112.783 459.455 L116.996 459.455 Q120.445 459.455 122.274 458.089 Q124.102 456.7 124.102 454.108 Q124.102 451.446 122.204 450.034 Q120.329 448.599 116.811 448.599 Q114.889 448.599 112.69 449.015 Q110.491 449.432 107.852 450.312 L107.852 446.145 Q110.514 445.404 112.829 445.034 Q115.167 444.664 117.227 444.664 Q122.551 444.664 125.653 447.094 Q128.755 449.501 128.755 453.622 Q128.755 456.492 127.112 458.483 Q125.468 460.45 122.436 461.214 Z\" fill=\"#000000\" fill-rule=\"evenodd\" fill-opacity=\"1\" /><path clip-path=\"url(#clip460)\" d=\"M119.982 320.319 L108.176 338.768 L119.982 338.768 L119.982 320.319 M118.755 316.245 L124.635 316.245 L124.635 338.768 L129.565 338.768 L129.565 342.657 L124.635 342.657 L124.635 350.805 L119.982 350.805 L119.982 342.657 L104.38 342.657 L104.38 338.143 L118.755 316.245 Z\" fill=\"#000000\" fill-rule=\"evenodd\" fill-opacity=\"1\" /><path clip-path=\"url(#clip460)\" d=\"M108.663 187.201 L127.019 187.201 L127.019 191.136 L112.945 191.136 L112.945 199.608 Q113.963 199.261 114.982 199.099 Q116 198.914 117.019 198.914 Q122.806 198.914 126.186 202.085 Q129.565 205.256 129.565 210.673 Q129.565 216.252 126.093 219.354 Q122.621 222.432 116.301 222.432 Q114.125 222.432 111.857 222.062 Q109.612 221.692 107.204 220.951 L107.204 216.252 Q109.288 217.386 111.51 217.942 Q113.732 218.497 116.209 218.497 Q120.213 218.497 122.551 216.391 Q124.889 214.284 124.889 210.673 Q124.889 207.062 122.551 204.956 Q120.213 202.849 116.209 202.849 Q114.334 202.849 112.459 203.266 Q110.607 203.682 108.663 204.562 L108.663 187.201 Z\" fill=\"#000000\" fill-rule=\"evenodd\" fill-opacity=\"1\" /><path clip-path=\"url(#clip460)\" d=\"M10.599 728.769 L10.599 722.912 L60.1242 722.912 L60.1242 728.769 L10.599 728.769 Z\" fill=\"#000000\" fill-rule=\"evenodd\" fill-opacity=\"1\" /><path clip-path=\"url(#clip460)\" d=\"M28.5821 696.845 Q28.5821 701.555 32.2742 704.292 Q35.9345 707.03 42.332 707.03 Q48.7295 707.03 52.4217 704.324 Q56.0819 701.587 56.0819 696.845 Q56.0819 692.166 52.3898 689.429 Q48.6977 686.691 42.332 686.691 Q35.9981 686.691 32.306 689.429 Q28.5821 692.166 28.5821 696.845 M23.6168 696.845 Q23.6168 689.206 28.5821 684.845 Q33.5473 680.485 42.332 680.485 Q51.0849 680.485 56.0819 684.845 Q61.0472 689.206 61.0472 696.845 Q61.0472 704.515 56.0819 708.876 Q51.0849 713.204 42.332 713.204 Q33.5473 713.204 28.5821 708.876 Q23.6168 704.515 23.6168 696.845 Z\" fill=\"#000000\" fill-rule=\"evenodd\" fill-opacity=\"1\" /><path clip-path=\"url(#clip460)\" d=\"M41.8864 647.319 Q35.5207 647.319 32.0196 649.961 Q28.5184 652.571 28.5184 657.314 Q28.5184 662.024 32.0196 664.666 Q35.5207 667.276 41.8864 667.276 Q48.2203 667.276 51.7214 664.666 Q55.2226 662.024 55.2226 657.314 Q55.2226 652.571 51.7214 649.961 Q48.2203 647.319 41.8864 647.319 M55.7 641.463 Q64.803 641.463 69.2271 645.505 Q73.6831 649.547 73.6831 657.886 Q73.6831 660.974 73.2057 663.711 Q72.7601 666.448 71.8052 669.026 L66.1079 669.026 Q67.5084 666.448 68.1768 663.934 Q68.8452 661.419 68.8452 658.809 Q68.8452 653.048 65.8215 650.184 Q62.8296 647.319 56.7503 647.319 L53.8539 647.319 Q57.005 649.134 58.5646 651.966 Q60.1242 654.799 60.1242 658.746 Q60.1242 665.302 55.1271 669.313 Q50.13 673.323 41.8864 673.323 Q33.611 673.323 28.6139 669.313 Q23.6168 665.302 23.6168 658.746 Q23.6168 654.799 25.1764 651.966 Q26.736 649.134 29.8871 647.319 L24.4762 647.319 L24.4762 641.463 L55.7 641.463 Z\" fill=\"#000000\" fill-rule=\"evenodd\" fill-opacity=\"1\" /><path clip-path=\"url(#clip460)\" d=\"M10.6626 615.332 Q17.9832 619.597 25.1446 621.666 Q32.306 623.734 39.6584 623.734 Q47.0108 623.734 54.2359 621.666 Q61.4291 619.565 68.7179 615.332 L68.7179 620.424 Q61.2382 625.199 54.0131 627.586 Q46.788 629.941 39.6584 629.941 Q32.5606 629.941 25.3674 627.586 Q18.1742 625.23 10.6626 620.424 L10.6626 615.332 Z\" fill=\"#000000\" fill-rule=\"evenodd\" fill-opacity=\"1\" /><path clip-path=\"url(#clip460)\" d=\"M31.4466 576.787 L31.4466 586.049 L42.0774 588.723 L42.0774 579.397 L31.4466 576.787 M13.3362 581.562 L26.5451 584.872 L26.5451 575.578 L13.3362 572.236 L13.3362 567.143 L26.5451 570.422 L26.5451 560.491 L31.4466 560.491 L31.4466 571.663 L42.0774 574.273 L42.0774 564.151 L46.9471 564.151 L46.9471 575.514 L60.1242 578.824 L60.1242 583.917 L46.9471 580.639 L46.9471 589.964 L60.1242 593.243 L60.1242 598.367 L46.9471 595.057 L46.9471 605.083 L42.0774 605.083 L42.0774 593.879 L31.4466 591.206 L31.4466 601.454 L26.5451 601.454 L26.5451 589.964 L13.3362 586.718 L13.3362 581.562 Z\" fill=\"#000000\" fill-rule=\"evenodd\" fill-opacity=\"1\" /><path clip-path=\"url(#clip460)\" d=\"M28.5821 514.817 Q28.5821 519.528 32.2742 522.265 Q35.9345 525.002 42.332 525.002 Q48.7295 525.002 52.4217 522.297 Q56.0819 519.56 56.0819 514.817 Q56.0819 510.138 52.3898 507.401 Q48.6977 504.664 42.332 504.664 Q35.9981 504.664 32.306 507.401 Q28.5821 510.138 28.5821 514.817 M23.6168 514.817 Q23.6168 507.178 28.5821 502.818 Q33.5473 498.457 42.332 498.457 Q51.0849 498.457 56.0819 502.818 Q61.0472 507.178 61.0472 514.817 Q61.0472 522.488 56.0819 526.848 Q51.0849 531.177 42.332 531.177 Q33.5473 531.177 28.5821 526.848 Q23.6168 522.488 23.6168 514.817 Z\" fill=\"#000000\" fill-rule=\"evenodd\" fill-opacity=\"1\" /><path clip-path=\"url(#clip460)\" d=\"M10.599 470.703 L15.4687 470.703 L15.4687 476.305 Q15.4687 479.456 16.7419 480.697 Q18.015 481.906 21.3252 481.906 L24.4762 481.906 L24.4762 472.262 L29.0277 472.262 L29.0277 481.906 L60.1242 481.906 L60.1242 487.795 L29.0277 487.795 L29.0277 493.397 L24.4762 493.397 L24.4762 487.795 L21.9936 487.795 Q16.0416 487.795 13.3362 485.026 Q10.599 482.257 10.599 476.241 L10.599 470.703 Z\" fill=\"#000000\" fill-rule=\"evenodd\" fill-opacity=\"1\" /><path clip-path=\"url(#clip460)\" d=\"M10.599 445.304 L10.599 439.415 L39.8494 439.415 L24.4762 421.942 L24.4762 414.462 L41.1544 433.368 L60.1242 413.666 L60.1242 421.305 L42.7139 439.415 L60.1242 439.415 L60.1242 445.304 L10.599 445.304 Z\" fill=\"#000000\" fill-rule=\"evenodd\" fill-opacity=\"1\" /><path clip-path=\"url(#clip460)\" d=\"M31.3193 379.578 Q27.3726 377.382 25.4947 374.326 Q23.6168 371.27 23.6168 367.133 Q23.6168 361.563 27.5317 358.539 Q31.4148 355.515 38.6081 355.515 L60.1242 355.515 L60.1242 361.404 L38.799 361.404 Q33.6746 361.404 31.192 363.218 Q28.7094 365.032 28.7094 368.756 Q28.7094 373.308 31.7331 375.949 Q34.7568 378.591 39.9767 378.591 L60.1242 378.591 L60.1242 384.479 L38.799 384.479 Q33.6428 384.479 31.192 386.294 Q28.7094 388.108 28.7094 391.895 Q28.7094 396.383 31.7649 399.025 Q34.7886 401.667 39.9767 401.667 L60.1242 401.667 L60.1242 407.555 L24.4762 407.555 L24.4762 401.667 L30.0144 401.667 Q26.736 399.662 25.1764 396.861 Q23.6168 394.06 23.6168 390.208 Q23.6168 386.325 25.5902 383.62 Q27.5636 380.883 31.3193 379.578 Z\" fill=\"#000000\" fill-rule=\"evenodd\" fill-opacity=\"1\" /><path clip-path=\"url(#clip460)\" d=\"M40.8361 313.343 L43.7006 313.343 L43.7006 340.269 Q49.7481 339.888 52.9309 336.641 Q56.0819 333.363 56.0819 327.538 Q56.0819 324.164 55.2544 321.013 Q54.4269 317.83 52.7718 314.711 L58.3099 314.711 Q59.6467 317.862 60.347 321.172 Q61.0472 324.483 61.0472 327.888 Q61.0472 336.418 56.0819 341.415 Q51.1167 346.381 42.6503 346.381 Q33.8974 346.381 28.7731 341.67 Q23.6168 336.927 23.6168 328.907 Q23.6168 321.713 28.2638 317.544 Q32.8789 313.343 40.8361 313.343 M39.1173 319.199 Q34.3112 319.263 31.4466 321.904 Q28.5821 324.514 28.5821 328.843 Q28.5821 333.745 31.3512 336.705 Q34.1202 339.633 39.1492 340.079 L39.1173 319.199 Z\" fill=\"#000000\" fill-rule=\"evenodd\" fill-opacity=\"1\" /><path clip-path=\"url(#clip460)\" d=\"M29.9507 283.074 Q29.3778 284.06 29.1232 285.238 Q28.8367 286.384 28.8367 287.784 Q28.8367 292.749 32.0832 295.423 Q35.2979 298.065 41.3453 298.065 L60.1242 298.065 L60.1242 303.953 L24.4762 303.953 L24.4762 298.065 L30.0144 298.065 Q26.7679 296.219 25.2083 293.259 Q23.6168 290.299 23.6168 286.066 Q23.6168 285.461 23.7123 284.729 Q23.776 283.997 23.9351 283.105 L29.9507 283.074 Z\" fill=\"#000000\" fill-rule=\"evenodd\" fill-opacity=\"1\" /><path clip-path=\"url(#clip460)\" d=\"M25.5265 254.205 L31.0647 254.205 Q29.7916 256.688 29.155 259.361 Q28.5184 262.035 28.5184 264.9 Q28.5184 269.26 29.8552 271.456 Q31.192 273.621 33.8656 273.621 Q35.9026 273.621 37.0803 272.061 Q38.2261 270.501 39.2765 265.791 L39.7221 263.786 Q41.0589 257.547 43.5097 254.937 Q45.9286 252.295 50.2891 252.295 Q55.2544 252.295 58.1508 256.242 Q61.0472 260.157 61.0472 267.032 Q61.0472 269.897 60.4743 273.016 Q59.9332 276.103 58.8192 279.541 L52.7718 279.541 Q54.4587 276.294 55.318 273.143 Q56.1456 269.992 56.1456 266.905 Q56.1456 262.767 54.7451 260.539 Q53.3129 258.311 50.7347 258.311 Q48.3476 258.311 47.0745 259.934 Q45.8013 261.526 44.6237 266.968 L44.1462 269.005 Q43.0004 274.448 40.6451 276.867 Q38.258 279.286 34.1202 279.286 Q29.0913 279.286 26.3541 275.721 Q23.6168 272.156 23.6168 265.6 Q23.6168 262.353 24.0943 259.489 Q24.5717 256.624 25.5265 254.205 Z\" fill=\"#000000\" fill-rule=\"evenodd\" fill-opacity=\"1\" /><path clip-path=\"url(#clip460)\" d=\"M10.6626 243.893 L10.6626 238.8 Q18.1742 234.026 25.3674 231.671 Q32.5606 229.283 39.6584 229.283 Q46.788 229.283 54.0131 231.671 Q61.2382 234.026 68.7179 238.8 L68.7179 243.893 Q61.4291 239.66 54.2359 237.591 Q47.0108 235.49 39.6584 235.49 Q32.306 235.49 25.1446 237.591 Q17.9832 239.66 10.6626 243.893 Z\" fill=\"#000000\" fill-rule=\"evenodd\" fill-opacity=\"1\" /><path clip-path=\"url(#clip460)\" d=\"M699.6 9.54393 L707.094 9.54393 L707.094 46.7717 L729.334 27.2059 L738.853 27.2059 L714.791 48.4326 L739.866 72.576 L730.144 72.576 L707.094 50.4176 L707.094 72.576 L699.6 72.576 L699.6 9.54393 Z\" fill=\"#000000\" fill-rule=\"evenodd\" fill-opacity=\"1\" /><path clip-path=\"url(#clip460)\" d=\"M783.251 35.9153 Q786.046 30.8922 789.935 28.5022 Q793.824 26.1121 799.09 26.1121 Q806.179 26.1121 810.028 31.0947 Q813.876 36.0368 813.876 45.1919 L813.876 72.576 L806.382 72.576 L806.382 45.4349 Q806.382 38.913 804.073 35.7533 Q801.764 32.5936 797.024 32.5936 Q791.231 32.5936 787.869 36.4419 Q784.507 40.2903 784.507 46.9338 L784.507 72.576 L777.013 72.576 L777.013 45.4349 Q777.013 38.8725 774.704 35.7533 Q772.395 32.5936 767.574 32.5936 Q761.862 32.5936 758.5 36.4824 Q755.138 40.3308 755.138 46.9338 L755.138 72.576 L747.644 72.576 L747.644 27.2059 L755.138 27.2059 L755.138 34.2544 Q757.69 30.082 761.255 28.0971 Q764.82 26.1121 769.721 26.1121 Q774.663 26.1121 778.106 28.6237 Q781.59 31.1352 783.251 35.9153 Z\" fill=\"#000000\" fill-rule=\"evenodd\" fill-opacity=\"1\" /><path clip-path=\"url(#clip460)\" d=\"M867.55 48.0275 L867.55 51.6733 L833.28 51.6733 Q833.766 59.3701 837.898 63.421 Q842.07 67.4314 849.483 67.4314 Q853.777 67.4314 857.788 66.3781 Q861.839 65.3249 865.809 63.2184 L865.809 70.267 Q861.798 71.9684 857.585 72.8596 Q853.372 73.7508 849.038 73.7508 Q838.181 73.7508 831.821 67.4314 Q825.502 61.1119 825.502 50.3365 Q825.502 39.1965 831.497 32.6746 Q837.533 26.1121 847.742 26.1121 Q856.897 26.1121 862.203 32.0264 Q867.55 37.9003 867.55 48.0275 M860.097 45.84 Q860.016 39.7232 856.654 36.0774 Q853.332 32.4315 847.823 32.4315 Q841.584 32.4315 837.817 35.9558 Q834.09 39.4801 833.523 45.8805 L860.097 45.84 Z\" fill=\"#000000\" fill-rule=\"evenodd\" fill-opacity=\"1\" /><path clip-path=\"url(#clip460)\" d=\"M906.075 34.1734 Q904.819 33.4443 903.32 33.1202 Q901.862 32.7556 900.079 32.7556 Q893.76 32.7556 890.357 36.8875 Q886.995 40.9789 886.995 48.6757 L886.995 72.576 L879.501 72.576 L879.501 27.2059 L886.995 27.2059 L886.995 34.2544 Q889.344 30.1225 893.112 28.1376 Q896.879 26.1121 902.267 26.1121 Q903.036 26.1121 903.968 26.2337 Q904.9 26.3147 906.034 26.5172 L906.075 34.1734 Z\" fill=\"#000000\" fill-rule=\"evenodd\" fill-opacity=\"1\" /><path clip-path=\"url(#clip460)\" d=\"M963.233 9.54393 L963.233 15.7418 L956.103 15.7418 Q952.093 15.7418 950.513 17.3622 Q948.974 18.9825 948.974 23.1955 L948.974 27.2059 L961.248 27.2059 L961.248 32.9987 L948.974 32.9987 L948.974 72.576 L941.479 72.576 L941.479 32.9987 L934.35 32.9987 L934.35 27.2059 L941.479 27.2059 L941.479 24.0462 Q941.479 16.471 945.004 13.0277 Q948.528 9.54393 956.184 9.54393 L963.233 9.54393 Z\" fill=\"#000000\" fill-rule=\"evenodd\" fill-opacity=\"1\" /><path clip-path=\"url(#clip460)\" d=\"M995.762 34.1734 Q994.506 33.4443 993.007 33.1202 Q991.549 32.7556 989.766 32.7556 Q983.447 32.7556 980.044 36.8875 Q976.682 40.9789 976.682 48.6757 L976.682 72.576 L969.188 72.576 L969.188 27.2059 L976.682 27.2059 L976.682 34.2544 Q979.031 30.1225 982.799 28.1376 Q986.566 26.1121 991.954 26.1121 Q992.723 26.1121 993.655 26.2337 Q994.587 26.3147 995.721 26.5172 L995.762 34.1734 Z\" fill=\"#000000\" fill-rule=\"evenodd\" fill-opacity=\"1\" /><path clip-path=\"url(#clip460)\" d=\"M1040.56 48.0275 L1040.56 51.6733 L1006.29 51.6733 Q1006.78 59.3701 1010.91 63.421 Q1015.08 67.4314 1022.5 67.4314 Q1026.79 67.4314 1030.8 66.3781 Q1034.85 65.3249 1038.82 63.2184 L1038.82 70.267 Q1034.81 71.9684 1030.6 72.8596 Q1026.39 73.7508 1022.05 73.7508 Q1011.2 73.7508 1004.84 67.4314 Q998.516 61.1119 998.516 50.3365 Q998.516 39.1965 1004.51 32.6746 Q1010.55 26.1121 1020.76 26.1121 Q1029.91 26.1121 1035.22 32.0264 Q1040.56 37.9003 1040.56 48.0275 M1033.11 45.84 Q1033.03 39.7232 1029.67 36.0774 Q1026.35 32.4315 1020.84 32.4315 Q1014.6 32.4315 1010.83 35.9558 Q1007.1 39.4801 1006.54 45.8805 L1033.11 45.84 Z\" fill=\"#000000\" fill-rule=\"evenodd\" fill-opacity=\"1\" /><path clip-path=\"url(#clip460)\" d=\"M1057.25 49.9314 Q1057.25 58.1548 1060.62 62.8538 Q1064.02 67.5124 1069.93 67.5124 Q1075.85 67.5124 1079.25 62.8538 Q1082.65 58.1548 1082.65 49.9314 Q1082.65 41.7081 1079.25 37.0496 Q1075.85 32.3505 1069.93 32.3505 Q1064.02 32.3505 1060.62 37.0496 Q1057.25 41.7081 1057.25 49.9314 M1082.65 65.7705 Q1080.3 69.8214 1076.7 71.8063 Q1073.13 73.7508 1068.11 73.7508 Q1059.89 73.7508 1054.7 67.1883 Q1049.56 60.6258 1049.56 49.9314 Q1049.56 39.2371 1054.7 32.6746 Q1059.89 26.1121 1068.11 26.1121 Q1073.13 26.1121 1076.7 28.0971 Q1080.3 30.0415 1082.65 34.0924 L1082.65 27.2059 L1090.11 27.2059 L1090.11 89.8329 L1082.65 89.8329 L1082.65 65.7705 Z\" fill=\"#000000\" fill-rule=\"evenodd\" fill-opacity=\"1\" /><path clip-path=\"url(#clip460)\" d=\"M1104.69 54.671 L1104.69 27.2059 L1112.14 27.2059 L1112.14 54.3874 Q1112.14 60.8284 1114.66 64.0691 Q1117.17 67.2693 1122.19 67.2693 Q1128.23 67.2693 1131.71 63.421 Q1135.23 59.5726 1135.23 52.9291 L1135.23 27.2059 L1142.69 27.2059 L1142.69 72.576 L1135.23 72.576 L1135.23 65.6084 Q1132.52 69.7404 1128.91 71.7658 Q1125.35 73.7508 1120.61 73.7508 Q1112.79 73.7508 1108.74 68.8897 Q1104.69 64.0286 1104.69 54.671 M1123.45 26.1121 L1123.45 26.1121 Z\" fill=\"#000000\" fill-rule=\"evenodd\" fill-opacity=\"1\" /><path clip-path=\"url(#clip460)\" d=\"M1196.85 48.0275 L1196.85 51.6733 L1162.58 51.6733 Q1163.06 59.3701 1167.2 63.421 Q1171.37 67.4314 1178.78 67.4314 Q1183.08 67.4314 1187.09 66.3781 Q1191.14 65.3249 1195.11 63.2184 L1195.11 70.267 Q1191.1 71.9684 1186.88 72.8596 Q1182.67 73.7508 1178.34 73.7508 Q1167.48 73.7508 1161.12 67.4314 Q1154.8 61.1119 1154.8 50.3365 Q1154.8 39.1965 1160.8 32.6746 Q1166.83 26.1121 1177.04 26.1121 Q1186.19 26.1121 1191.5 32.0264 Q1196.85 37.9003 1196.85 48.0275 M1189.39 45.84 Q1189.31 39.7232 1185.95 36.0774 Q1182.63 32.4315 1177.12 32.4315 Q1170.88 32.4315 1167.11 35.9558 Q1163.39 39.4801 1162.82 45.8805 L1189.39 45.84 Z\" fill=\"#000000\" fill-rule=\"evenodd\" fill-opacity=\"1\" /><path clip-path=\"url(#clip460)\" d=\"M1246.8 45.1919 L1246.8 72.576 L1239.34 72.576 L1239.34 45.4349 Q1239.34 38.994 1236.83 35.7938 Q1234.32 32.5936 1229.3 32.5936 Q1223.26 32.5936 1219.78 36.4419 Q1216.29 40.2903 1216.29 46.9338 L1216.29 72.576 L1208.8 72.576 L1208.8 27.2059 L1216.29 27.2059 L1216.29 34.2544 Q1218.97 30.163 1222.57 28.1376 Q1226.22 26.1121 1230.96 26.1121 Q1238.78 26.1121 1242.79 30.9732 Q1246.8 35.7938 1246.8 45.1919 Z\" fill=\"#000000\" fill-rule=\"evenodd\" fill-opacity=\"1\" /><path clip-path=\"url(#clip460)\" d=\"M1294.31 28.9478 L1294.31 35.9153 Q1291.15 34.1734 1287.95 33.3227 Q1284.79 32.4315 1281.55 32.4315 Q1274.3 32.4315 1270.29 37.0496 Q1266.28 41.6271 1266.28 49.9314 Q1266.28 58.2358 1270.29 62.8538 Q1274.3 67.4314 1281.55 67.4314 Q1284.79 67.4314 1287.95 66.5807 Q1291.15 65.6895 1294.31 63.9476 L1294.31 70.8341 Q1291.19 72.2924 1287.83 73.0216 Q1284.51 73.7508 1280.74 73.7508 Q1270.49 73.7508 1264.46 67.3098 Q1258.42 60.8689 1258.42 49.9314 Q1258.42 38.832 1264.5 32.472 Q1270.62 26.1121 1281.23 26.1121 Q1284.67 26.1121 1287.95 26.8413 Q1291.23 27.5299 1294.31 28.9478 Z\" fill=\"#000000\" fill-rule=\"evenodd\" fill-opacity=\"1\" /><path clip-path=\"url(#clip460)\" d=\"M1307.28 27.2059 L1314.73 27.2059 L1314.73 72.576 L1307.28 72.576 L1307.28 27.2059 M1307.28 9.54393 L1314.73 9.54393 L1314.73 18.9825 L1307.28 18.9825 L1307.28 9.54393 Z\" fill=\"#000000\" fill-rule=\"evenodd\" fill-opacity=\"1\" /><path clip-path=\"url(#clip460)\" d=\"M1369.13 48.0275 L1369.13 51.6733 L1334.86 51.6733 Q1335.35 59.3701 1339.48 63.421 Q1343.65 67.4314 1351.07 67.4314 Q1355.36 67.4314 1359.37 66.3781 Q1363.42 65.3249 1367.39 63.2184 L1367.39 70.267 Q1363.38 71.9684 1359.17 72.8596 Q1354.96 73.7508 1350.62 73.7508 Q1339.76 73.7508 1333.4 67.4314 Q1327.09 61.1119 1327.09 50.3365 Q1327.09 39.1965 1333.08 32.6746 Q1339.12 26.1121 1349.32 26.1121 Q1358.48 26.1121 1363.79 32.0264 Q1369.13 37.9003 1369.13 48.0275 M1361.68 45.84 Q1361.6 39.7232 1358.24 36.0774 Q1354.91 32.4315 1349.41 32.4315 Q1343.17 32.4315 1339.4 35.9558 Q1335.67 39.4801 1335.11 45.8805 L1361.68 45.84 Z\" fill=\"#000000\" fill-rule=\"evenodd\" fill-opacity=\"1\" /><path clip-path=\"url(#clip460)\" d=\"M1410.29 28.5427 L1410.29 35.5912 Q1407.13 33.9709 1403.73 33.1607 Q1400.33 32.3505 1396.68 32.3505 Q1391.13 32.3505 1388.33 34.0519 Q1385.58 35.7533 1385.58 39.156 Q1385.58 41.7486 1387.57 43.2475 Q1389.55 44.7058 1395.55 46.0426 L1398.1 46.6097 Q1406.04 48.3111 1409.36 51.4303 Q1412.72 54.509 1412.72 60.0587 Q1412.72 66.3781 1407.7 70.0644 Q1402.72 73.7508 1393.97 73.7508 Q1390.32 73.7508 1386.35 73.0216 Q1382.42 72.3329 1378.05 70.9151 L1378.05 63.2184 Q1382.18 65.3654 1386.19 66.4591 Q1390.2 67.5124 1394.13 67.5124 Q1399.39 67.5124 1402.23 65.73 Q1405.06 63.9071 1405.06 60.6258 Q1405.06 57.5877 1403 55.9673 Q1400.97 54.3469 1394.05 52.8481 L1391.45 52.2405 Q1384.53 50.7821 1381.45 47.7845 Q1378.37 44.7463 1378.37 39.4801 Q1378.37 33.0797 1382.91 29.5959 Q1387.44 26.1121 1395.79 26.1121 Q1399.92 26.1121 1403.57 26.7198 Q1407.21 27.3274 1410.29 28.5427 Z\" fill=\"#000000\" fill-rule=\"evenodd\" fill-opacity=\"1\" /><circle clip-path=\"url(#clip462)\" cx=\"1568.91\" cy=\"469.738\" r=\"14\" fill=\"#009af9\" fill-rule=\"evenodd\" fill-opacity=\"1\" stroke=\"#000000\" stroke-opacity=\"1\" stroke-width=\"2\"/>\n",
       "<circle clip-path=\"url(#clip462)\" cx=\"1573.03\" cy=\"469.738\" r=\"14\" fill=\"#009af9\" fill-rule=\"evenodd\" fill-opacity=\"1\" stroke=\"#000000\" stroke-opacity=\"1\" stroke-width=\"2\"/>\n",
       "<circle clip-path=\"url(#clip462)\" cx=\"680.199\" cy=\"529.038\" r=\"14\" fill=\"#009af9\" fill-rule=\"evenodd\" fill-opacity=\"1\" stroke=\"#000000\" stroke-opacity=\"1\" stroke-width=\"2\"/>\n",
       "<circle clip-path=\"url(#clip462)\" cx=\"1581.12\" cy=\"364.34\" r=\"14\" fill=\"#009af9\" fill-rule=\"evenodd\" fill-opacity=\"1\" stroke=\"#000000\" stroke-opacity=\"1\" stroke-width=\"2\"/>\n",
       "<circle clip-path=\"url(#clip462)\" cx=\"1556.22\" cy=\"760.254\" r=\"14\" fill=\"#009af9\" fill-rule=\"evenodd\" fill-opacity=\"1\" stroke=\"#000000\" stroke-opacity=\"1\" stroke-width=\"2\"/>\n",
       "<circle clip-path=\"url(#clip462)\" cx=\"1589.01\" cy=\"299.628\" r=\"14\" fill=\"#009af9\" fill-rule=\"evenodd\" fill-opacity=\"1\" stroke=\"#000000\" stroke-opacity=\"1\" stroke-width=\"2\"/>\n",
       "<circle clip-path=\"url(#clip462)\" cx=\"1622.31\" cy=\"429.263\" r=\"14\" fill=\"#009af9\" fill-rule=\"evenodd\" fill-opacity=\"1\" stroke=\"#000000\" stroke-opacity=\"1\" stroke-width=\"2\"/>\n",
       "<circle clip-path=\"url(#clip462)\" cx=\"1596.71\" cy=\"262.05\" r=\"14\" fill=\"#009af9\" fill-rule=\"evenodd\" fill-opacity=\"1\" stroke=\"#000000\" stroke-opacity=\"1\" stroke-width=\"2\"/>\n",
       "<circle clip-path=\"url(#clip462)\" cx=\"1611.59\" cy=\"264.796\" r=\"14\" fill=\"#009af9\" fill-rule=\"evenodd\" fill-opacity=\"1\" stroke=\"#000000\" stroke-opacity=\"1\" stroke-width=\"2\"/>\n",
       "<circle clip-path=\"url(#clip462)\" cx=\"1585.09\" cy=\"358.474\" r=\"14\" fill=\"#009af9\" fill-rule=\"evenodd\" fill-opacity=\"1\" stroke=\"#000000\" stroke-opacity=\"1\" stroke-width=\"2\"/>\n",
       "<circle clip-path=\"url(#clip462)\" cx=\"1577.1\" cy=\"415.171\" r=\"14\" fill=\"#009af9\" fill-rule=\"evenodd\" fill-opacity=\"1\" stroke=\"#000000\" stroke-opacity=\"1\" stroke-width=\"2\"/>\n",
       "<circle clip-path=\"url(#clip462)\" cx=\"1592.88\" cy=\"266.191\" r=\"14\" fill=\"#009af9\" fill-rule=\"evenodd\" fill-opacity=\"1\" stroke=\"#000000\" stroke-opacity=\"1\" stroke-width=\"2\"/>\n",
       "<circle clip-path=\"url(#clip462)\" cx=\"1564.74\" cy=\"491.915\" r=\"14\" fill=\"#009af9\" fill-rule=\"evenodd\" fill-opacity=\"1\" stroke=\"#000000\" stroke-opacity=\"1\" stroke-width=\"2\"/>\n",
       "<circle clip-path=\"url(#clip462)\" cx=\"1629.27\" cy=\"670.807\" r=\"14\" fill=\"#009af9\" fill-rule=\"evenodd\" fill-opacity=\"1\" stroke=\"#000000\" stroke-opacity=\"1\" stroke-width=\"2\"/>\n",
       "<circle clip-path=\"url(#clip462)\" cx=\"1615.2\" cy=\"307.11\" r=\"14\" fill=\"#009af9\" fill-rule=\"evenodd\" fill-opacity=\"1\" stroke=\"#000000\" stroke-opacity=\"1\" stroke-width=\"2\"/>\n",
       "<circle clip-path=\"url(#clip462)\" cx=\"1560.51\" cy=\"642.012\" r=\"14\" fill=\"#009af9\" fill-rule=\"evenodd\" fill-opacity=\"1\" stroke=\"#000000\" stroke-opacity=\"1\" stroke-width=\"2\"/>\n",
       "<circle clip-path=\"url(#clip462)\" cx=\"1625.81\" cy=\"529.038\" r=\"14\" fill=\"#009af9\" fill-rule=\"evenodd\" fill-opacity=\"1\" stroke=\"#000000\" stroke-opacity=\"1\" stroke-width=\"2\"/>\n",
       "<circle clip-path=\"url(#clip462)\" cx=\"1600.49\" cy=\"252.876\" r=\"14\" fill=\"#009af9\" fill-rule=\"evenodd\" fill-opacity=\"1\" stroke=\"#000000\" stroke-opacity=\"1\" stroke-width=\"2\"/>\n",
       "<circle clip-path=\"url(#clip462)\" cx=\"1607.93\" cy=\"282.624\" r=\"14\" fill=\"#009af9\" fill-rule=\"evenodd\" fill-opacity=\"1\" stroke=\"#000000\" stroke-opacity=\"1\" stroke-width=\"2\"/>\n",
       "<circle clip-path=\"url(#clip462)\" cx=\"1618.78\" cy=\"350.145\" r=\"14\" fill=\"#009af9\" fill-rule=\"evenodd\" fill-opacity=\"1\" stroke=\"#000000\" stroke-opacity=\"1\" stroke-width=\"2\"/>\n",
       "<circle clip-path=\"url(#clip462)\" cx=\"1604.23\" cy=\"237.396\" r=\"14\" fill=\"#009af9\" fill-rule=\"evenodd\" fill-opacity=\"1\" stroke=\"#000000\" stroke-opacity=\"1\" stroke-width=\"2\"/>\n",
       "</svg>\n"
      ]
     },
     "execution_count": 26,
     "metadata": {},
     "output_type": "execute_result"
    }
   ],
   "source": [
    "kmer_counts = Dict(filtered_observation_graph.vprops[v][:kmer] => filtered_observation_graph.vprops[v][:weight] for v in LightGraphs.vertices(filtered_observation_graph))\n",
    "total_observed_kmers = sum(values(kmer_counts))\n",
    "kmer_probabilities = Dict(k => v/total_observed_kmers for (k,v) in kmer_counts)\n",
    "scale = 250\n",
    "Mycelia.plot_kmer_frequency_spectra(values(kmer_counts), size=(2scale,scale), title=\"kmer frequencies\")"
   ]
  },
  {
   "cell_type": "code",
   "execution_count": 27,
   "id": "9c6edde3-c459-4e81-8c2e-413142044be6",
   "metadata": {},
   "outputs": [
    {
     "data": {
      "text/plain": [
       "0.012048192771084376"
      ]
     },
     "execution_count": 27,
     "metadata": {},
     "output_type": "execute_result"
    }
   ],
   "source": [
    "distance_to_reference_graph = 1 - LSHFunctions.jaccard(Set(reference_kmers), Set(keys(kmer_counts)))"
   ]
  },
  {
   "cell_type": "code",
   "execution_count": 28,
   "id": "681f12c3-4736-4065-8bfb-3d3be29cc8dc",
   "metadata": {},
   "outputs": [],
   "source": [
    "# step 2, re-simulate reads as a means of error correction"
   ]
  },
  {
   "cell_type": "code",
   "execution_count": 29,
   "id": "adcfaf65-de18-4a92-8355-5c8b190007c9",
   "metadata": {},
   "outputs": [
    {
     "data": {
      "text/plain": [
       "996-element Vector{Float64}:\n",
       " 0.0009827369816950437\n",
       " 0.0010300978000899856\n",
       " 0.0010064173908925147\n",
       " 0.0009945771862937792\n",
       " 0.0009708967770963083\n",
       " 0.0010537782092874565\n",
       " 0.0010774586184849274\n",
       " 0.0009590565724975728\n",
       " 0.0010182575954912501\n",
       " 0.001041938004688721\n",
       " 0.0010182575954912501\n",
       " 0.0009827369816950437\n",
       " 0.0009235359587013664\n",
       " ⋮\n",
       " 0.0010064173908925147\n",
       " 0.0009945771862937792\n",
       " 0.0009945771862937792\n",
       " 0.0010774586184849274\n",
       " 0.0009708967770963083\n",
       " 0.0009590565724975728\n",
       " 0.0009945771862937792\n",
       " 0.0010064173908925147\n",
       " 0.0010300978000899856\n",
       " 0.0010064173908925147\n",
       " 0.0008998555495038955\n",
       " 0.0010774586184849274"
      ]
     },
     "execution_count": 29,
     "metadata": {},
     "output_type": "execute_result"
    }
   ],
   "source": [
    "kmers = [filtered_observation_graph.vprops[v][:kmer] for v in LightGraphs.vertices(filtered_observation_graph)]\n",
    "kmer_weights = [filtered_observation_graph.vprops[v][:weight] for v in LightGraphs.vertices(filtered_observation_graph)]\n",
    "kmer_probabilities = kmer_weights ./ sum(kmer_weights)"
   ]
  },
  {
   "cell_type": "code",
   "execution_count": 30,
   "id": "b31d13b0-f2e7-4381-9f55-e310b1ab7c9e",
   "metadata": {},
   "outputs": [
    {
     "data": {
      "text/plain": [
       "Dict{Bool, SparseArrays.SparseMatrixCSC{Float64, Int64}} with 2 entries:\n",
       "  0 => …\n",
       "  1 => …"
      ]
     },
     "execution_count": 30,
     "metadata": {},
     "output_type": "execute_result"
    }
   ],
   "source": [
    "edge_weights = determine_edge_weights(filtered_observation_graph)"
   ]
  },
  {
   "cell_type": "code",
   "execution_count": 31,
   "id": "7d10d99f-7db2-4044-a1db-362b37e01266",
   "metadata": {},
   "outputs": [
    {
     "data": {
      "text/plain": [
       "996×996 SparseArrays.SparseMatrixCSC{Float64, Int64} with 995 stored entries:\n",
       "⠉⠓⠒⠦⢤⣀⣀⠀⠀⠀⠀⠀⠀⠀⠀⠀⠀⠀⠀⠀⠀⠀⠀⠀⠀⠀⠀⠀⠀⠀⠀⠀⠀⠀⠀⠀⠀⠀⠀⠀\n",
       "⠀⠀⠄⠁⡀⠀⠈⠉⠑⠒⡦⠤⣀⣀⡀⠀⠀⠀⠀⠀⠀⠀⠀⠀⠀⠀⠀⠀⠀⠀⠀⠀⠀⠀⠀⠀⠀⠀⠀⠀\n",
       "⠀⠀⠀⠈⡀⡬⢀⠁⠀⠀⠁⠄⠀⠐⠨⠉⠑⠖⠦⣄⡀⠀⠀⠀⠀⠀⠀⠀⠀⠀⠀⠀⠀⠀⠀⠀⠀⠀⠀⠀\n",
       "⠀⠀⠀⠀⠄⠐⠀⠀⠀⠈⠐⠀⡢⠀⠂⠂⠂⠄⠀⢁⠉⠉⠲⢤⣀⠀⠀⠀⠀⠀⠀⠀⠀⠀⠀⠀⠀⠀⠀⠀\n",
       "⠀⠀⠀⠀⠀⠀⡀⠀⠎⠁⠠⠠⠀⠈⠀⠅⠢⢣⠀⢀⠁⠀⠀⠂⠁⠉⠓⢰⣤⡀⠀⠀⠀⠀⠀⠀⠀⠀⠀⠀\n",
       "⠀⠀⠀⠈⠁⠄⠐⠀⠀⡂⠀⠀⠀⠥⠀⠂⢀⠄⠀⠀⡈⠄⠁⡀⠀⠀⠄⢀⠠⠘⠉⠳⠦⣄⠀⠀⠀⠀⠀⠀\n",
       "⠀⠀⠀⠀⢀⠀⠈⠊⡀⠀⠄⡄⠐⠀⢀⠢⡀⠀⠀⠀⠀⠄⠀⠀⠘⠁⠈⠉⠁⠀⠀⠐⠆⠄⠙⡖⣦⣀⠀⠀\n",
       "⠀⠀⠀⠀⠀⠂⠨⠀⠄⠄⠠⠀⠠⡐⠀⡠⠄⠂⠀⠀⠀⠠⠅⠹⠀⠀⠈⠂⠀⠊⠀⠀⢡⠠⢎⣐⣁⠊⠓⡀\n",
       "⠀⠀⠀⠀⢀⠄⠈⠄⠬⣂⠀⠔⠀⠈⠠⠁⠀⠀⠀⠀⠀⠀⠀⡆⡰⠀⠄⢁⢧⠁⠀⠀⠙⠁⠀⡂⠈⡃⢰⢣\n",
       "⠀⠉⠀⠉⠙⠒⠖⢤⠠⢤⢠⣀⠀⠀⠀⠀⠀⠀⠀⠀⠀⠀⠀⠀⠀⠀⠀⠀⠀⠀⠀⠀⠀⠀⠀⠀⠀⠀⠀⠁\n",
       "⠀⠀⠀⠀⠀⠀⠀⠀⠁⠀⠂⠌⠉⠍⠓⡲⠄⠤⢠⣀⠀⠀⠀⠀⠀⠀⠀⠀⠀⠀⠀⠀⠀⠀⠀⠀⠀⠀⠀⠀\n",
       "⠀⠀⠀⠀⠀⠀⠀⠀⠠⠀⠁⠠⠀⠀⣅⡁⠠⠤⠀⠀⠉⠉⠙⠒⠲⢤⣀⣀⠀⠀⠀⠀⠀⠀⠀⠀⠀⠀⠀⠀\n",
       "⠀⠀⠀⠀⠀⠀⠀⠀⠁⠀⠀⠀⠖⠀⠀⠀⠐⠊⠀⠀⠀⠀⠀⠀⠀⠀⠁⢈⢙⠒⠢⠤⣄⡀⠀⠀⠀⠀⠀⠀\n",
       "⠀⠀⠀⠀⠀⠀⠀⠀⠈⢀⠀⢁⡆⠀⠢⠀⠄⢁⠀⠀⠀⠀⠀⠀⡁⢀⠄⠁⠅⠠⠀⠀⠀⠟⠝⠶⠄⣀⠀⠀\n",
       "⡀⠀⠀⠀⠀⠀⠀⠀⠀⠘⢀⠂⠁⠀⡠⠀⠍⠓⠀⠀⠀⠀⠀⠀⠀⠐⠁⡁⠠⡢⠀⠀⠀⠐⢠⠠⡱⠎⠁⣆\n",
       "⠁⠉⠀⠉⠁⠙⠒⠒⠂⠤⠤⣤⣀⣀⣀⣀⠀⠀⠀⠀⠀⠀⠀⠀⠀⠀⠀⠀⠀⠀⠀⠀⠀⠀⠀⠀⠀⠀⠀⠀\n",
       "⠀⠀⠀⠀⠀⠀⠀⠀⠀⠀⠀⠀⠈⠅⠁⡚⠟⠀⠉⠃⠂⠂⠂⠂⠰⠤⣤⠤⢄⣀⡀⠀⠀⠀⠀⠀⠀⠀⠀⠀\n",
       "⠀⠀⠀⠀⠀⠀⠀⠀⠀⠀⠀⠀⠀⠤⢊⢱⠠⠠⠀⠀⠀⠀⠀⠀⠀⠀⠰⡅⠀⡒⠉⠁⠉⠉⠒⡢⣄⡀⠀⠀\n",
       "⠤⠤⠠⢀⣀⣀⠀⣀⡀⠀⠀⠀⠀⠘⠡⠘⠦⠠⠀⠀⠀⠀⠀⠀⠀⠀⠀⠀⠱⠎⠀⠀⠀⠀⠀⠹⠠⠋⠑⠐\n",
       "⠀⠀⠀⠀⠀⠀⠀⠀⠉⠁⠁⠉⠉⠁⠘⠐⠰⢒⠄⠐⠒⠀⠒⠀⠀⠀⠤⠄⠤⢤⠄⠀⠀⠀⠠⠀⢀⠀⠀⠀"
      ]
     },
     "execution_count": 31,
     "metadata": {},
     "output_type": "execute_result"
    }
   ],
   "source": [
    "edge_weights[true]"
   ]
  },
  {
   "cell_type": "code",
   "execution_count": 32,
   "id": "6355ddd5-0103-4927-850b-b0f5c42c7ff9",
   "metadata": {},
   "outputs": [
    {
     "data": {
      "text/plain": [
       "Dict{Bool, SparseArrays.SparseMatrixCSC{Float64, Int64}} with 2 entries:\n",
       "  0 => …\n",
       "  1 => …"
      ]
     },
     "execution_count": 32,
     "metadata": {},
     "output_type": "execute_result"
    }
   ],
   "source": [
    "edge_weights = determine_edge_weights(filtered_observation_graph)\n",
    "edge_probabilities = determine_edge_probabilities(edge_weights)"
   ]
  },
  {
   "cell_type": "code",
   "execution_count": 33,
   "id": "35780516-bfc9-4b9e-aaf8-869e14d4c5e7",
   "metadata": {},
   "outputs": [],
   "source": [
    "kmers = [filtered_observation_graph.vprops[v][:kmer] for v in LightGraphs.vertices(filtered_observation_graph)]\n",
    "kmer_weights = [filtered_observation_graph.vprops[v][:weight] for v in LightGraphs.vertices(filtered_observation_graph)]\n",
    "kmer_probabilities = kmer_weights ./ sum(kmer_weights)\n",
    "\n",
    "edge_weights = determine_edge_weights(filtered_observation_graph)\n",
    "edge_probabilities = determine_edge_probabilities(edge_weights)\n",
    "\n",
    "step_probabilities = deepcopy(edge_probabilities)\n",
    "\n",
    "for orientation in [true, false]\n",
    "#     @show orientation\n",
    "    oriented_step_probabilities = step_probabilities[orientation] \n",
    "    for row in 1:size(step_probabilities[orientation], 1)\n",
    "        step_probabilities_ = step_probabilities[orientation][row, :] .* kmer_probabilities\n",
    "        if sum(step_probabilities_) > 0\n",
    "            step_probabilities[orientation][row, :] .= step_probabilities_ ./ sum(step_probabilities_)\n",
    "        end\n",
    "    end\n",
    "end"
   ]
  },
  {
   "cell_type": "code",
   "execution_count": 34,
   "id": "f2ecfeeb-0030-4acc-86e1-9c367e76fb1e",
   "metadata": {},
   "outputs": [
    {
     "name": "stderr",
     "output_type": "stream",
     "text": [
      "\u001b[32mProgress: 100%|█████████████████████████████████████████| Time: 0:00:03\u001b[39m\n"
     ]
    }
   ],
   "source": [
    "new_records = FASTX.FASTQ.Record[]\n",
    "ProgressMeter.@showprogress for observation in observations\n",
    "    read_length = length(FASTX.sequence(observation))\n",
    "    max_steps = read_length - filtered_observation_graph.gprops[:k]\n",
    "    # apply a squaring penalty to kmer_weights?\n",
    "    initial_vertex = StatsBase.sample(1:length(kmers), StatsBase.weights(kmer_weights.^2))\n",
    "#     @show \"choosing initial vertex $initial_vertex with probability $(kmer_weights[initial_vertex])\"\n",
    "    initial_orientation = rand(Bool)\n",
    "    forward_walk = random_walk(filtered_observation_graph, initial_vertex, initial_orientation, step_probabilities, n_steps=max_steps)\n",
    "    remaining_steps = max_steps - length(forward_walk)\n",
    "    reverse_walk = random_walk(filtered_observation_graph, initial_vertex, !initial_orientation, step_probabilities, n_steps = remaining_steps)\n",
    "    full_walk = [[(vertex=x.vertex, orientation=!x.orientation) for x in reverse(reverse_walk)]..., [(vertex = initial_vertex, orientation = initial_orientation)]..., forward_walk...]\n",
    "    oriented_path = [(x.vertex, x.orientation) for x in full_walk]\n",
    "    new_seq = Mycelia.oriented_path_to_sequence(filtered_observation_graph, oriented_path)\n",
    "    new_record = FASTX.FASTQ.Record(\n",
    "        FASTX.identifier(observation)*\"-k$k\",\n",
    "        FASTX.identifier(observation),\n",
    "        new_seq,\n",
    "        StatsBase.sample(FASTX.quality(observation), length(new_seq))\n",
    "    )\n",
    "#     @show \"here\"\n",
    "    push!(new_records, new_record)\n",
    "end\n",
    "new_records;"
   ]
  },
  {
   "cell_type": "code",
   "execution_count": 35,
   "id": "61bf8c37-0b33-4e58-b1db-ba24d7bb3b4a",
   "metadata": {},
   "outputs": [],
   "source": [
    "corrected_fastq_file = replace(observations_file, r\"\\.fastq\" => \".k$k.fastq\")\n",
    "open(corrected_fastq_file, \"w\") do io\n",
    "    fastq_writer = FASTX.FASTQ.Writer(io)\n",
    "    for record in new_records\n",
    "        write(fastq_writer, record)\n",
    "    end\n",
    "    close(fastq_writer)\n",
    "end"
   ]
  },
  {
   "cell_type": "code",
   "execution_count": 36,
   "id": "9f72e026-ce76-4e1c-a4da-231f4225a358",
   "metadata": {},
   "outputs": [
    {
     "name": "stderr",
     "output_type": "stream",
     "text": [
      "┌ Info: assessing kmers\n",
      "└ @ Mycelia /home/jovyan/git/Mycelia/src/Mycelia.jl:1932\n",
      "┌ Info: creating graph\n",
      "└ @ Mycelia /home/jovyan/git/Mycelia/src/Mycelia.jl:1948\n"
     ]
    },
    {
     "data": {
      "text/plain": [
       "{984, 1966} directed Int64 metagraph with Float64 weights defined by :weight (default weight 1.0)"
      ]
     },
     "execution_count": 36,
     "metadata": {},
     "output_type": "execute_result"
    }
   ],
   "source": [
    "corrected_observation_graph = Mycelia.fastx_to_kmer_graph(BioSequences.DNAMer{k}, corrected_fastq_file)"
   ]
  },
  {
   "cell_type": "code",
   "execution_count": 37,
   "id": "7dcb49eb-7261-4120-b488-52b3a3739416",
   "metadata": {},
   "outputs": [
    {
     "data": {
      "text/html": [
       "<img src=./../../../2021-08-24-assess-convergence/LENGTH-1000-DEPTH-100.k17.fastq.k-17.gfa.svg>"
      ]
     },
     "metadata": {},
     "output_type": "display_data"
    }
   ],
   "source": [
    "# visualize\n",
    "gfa_file = corrected_fastq_file * \".k-$k.gfa\"\n",
    "Mycelia.graph_to_gfa(corrected_observation_graph, gfa_file)\n",
    "\n",
    "run(`$(BANDAGE) image $(gfa_file) $(gfa_file).svg --depwidth .9 --deppower .9`)\n",
    "# --nodewidth <float> Average node width (0.5 to 1000, default: 5)\n",
    "# --depwidth <float>  Depth effect on width (0 to 1, default: 0.5)\n",
    "# --deppower <float>  Power of depth effect on width (0 to 1, default: 0.5)\n",
    "\n",
    "html_path_to_svg = \"./\" * repeat(\"../\", length(split(pwd(), '/')) - 3)\n",
    "html_path_to_svg *= replace(\"$(gfa_file).svg\", \"$(homedir())/\" => \"\")\n",
    "\n",
    "x = \"<img src=$(html_path_to_svg)>\"\n",
    "display(\"text/html\", x)\n",
    "# display(\"image/svg+xml\", read(\"$(gfa_file).svg\", String))"
   ]
  },
  {
   "cell_type": "code",
   "execution_count": 38,
   "id": "1babc5ba-11c2-4557-8a93-b97abe8364a6",
   "metadata": {},
   "outputs": [
    {
     "data": {
      "image/svg+xml": [
       "<?xml version=\"1.0\" encoding=\"utf-8\"?>\n",
       "<svg xmlns=\"http://www.w3.org/2000/svg\" xmlns:xlink=\"http://www.w3.org/1999/xlink\" width=\"500\" height=\"250\" viewBox=\"0 0 2000 1000\">\n",
       "<defs>\n",
       "  <clipPath id=\"clip500\">\n",
       "    <rect x=\"0\" y=\"0\" width=\"2000\" height=\"1000\"/>\n",
       "  </clipPath>\n",
       "</defs>\n",
       "<path clip-path=\"url(#clip500)\" d=\"\n",
       "M0 1000 L2000 1000 L2000 0 L0 0  Z\n",
       "  \" fill=\"#ffffff\" fill-rule=\"evenodd\" fill-opacity=\"1\"/>\n",
       "<defs>\n",
       "  <clipPath id=\"clip501\">\n",
       "    <rect x=\"400\" y=\"0\" width=\"1401\" height=\"1000\"/>\n",
       "  </clipPath>\n",
       "</defs>\n",
       "<path clip-path=\"url(#clip500)\" d=\"\n",
       "M159.565 849.7 L1952.76 849.7 L1952.76 108.352 L159.565 108.352  Z\n",
       "  \" fill=\"#ffffff\" fill-rule=\"evenodd\" fill-opacity=\"1\"/>\n",
       "<defs>\n",
       "  <clipPath id=\"clip502\">\n",
       "    <rect x=\"159\" y=\"108\" width=\"1794\" height=\"742\"/>\n",
       "  </clipPath>\n",
       "</defs>\n",
       "<polyline clip-path=\"url(#clip502)\" style=\"stroke:#000000; stroke-linecap:butt; stroke-linejoin:round; stroke-width:2; stroke-opacity:0.1; fill:none\" points=\"\n",
       "  159.565,849.7 159.565,108.352 \n",
       "  \"/>\n",
       "<polyline clip-path=\"url(#clip502)\" style=\"stroke:#000000; stroke-linecap:butt; stroke-linejoin:round; stroke-width:2; stroke-opacity:0.1; fill:none\" points=\"\n",
       "  479.482,849.7 479.482,108.352 \n",
       "  \"/>\n",
       "<polyline clip-path=\"url(#clip502)\" style=\"stroke:#000000; stroke-linecap:butt; stroke-linejoin:round; stroke-width:2; stroke-opacity:0.1; fill:none\" points=\"\n",
       "  799.4,849.7 799.4,108.352 \n",
       "  \"/>\n",
       "<polyline clip-path=\"url(#clip502)\" style=\"stroke:#000000; stroke-linecap:butt; stroke-linejoin:round; stroke-width:2; stroke-opacity:0.1; fill:none\" points=\"\n",
       "  1119.32,849.7 1119.32,108.352 \n",
       "  \"/>\n",
       "<polyline clip-path=\"url(#clip502)\" style=\"stroke:#000000; stroke-linecap:butt; stroke-linejoin:round; stroke-width:2; stroke-opacity:0.1; fill:none\" points=\"\n",
       "  1439.23,849.7 1439.23,108.352 \n",
       "  \"/>\n",
       "<polyline clip-path=\"url(#clip502)\" style=\"stroke:#000000; stroke-linecap:butt; stroke-linejoin:round; stroke-width:2; stroke-opacity:0.1; fill:none\" points=\"\n",
       "  1759.15,849.7 1759.15,108.352 \n",
       "  \"/>\n",
       "<polyline clip-path=\"url(#clip500)\" style=\"stroke:#000000; stroke-linecap:butt; stroke-linejoin:round; stroke-width:4; stroke-opacity:1; fill:none\" points=\"\n",
       "  159.565,849.7 1952.76,849.7 \n",
       "  \"/>\n",
       "<polyline clip-path=\"url(#clip500)\" style=\"stroke:#000000; stroke-linecap:butt; stroke-linejoin:round; stroke-width:4; stroke-opacity:1; fill:none\" points=\"\n",
       "  159.565,849.7 159.565,830.802 \n",
       "  \"/>\n",
       "<polyline clip-path=\"url(#clip500)\" style=\"stroke:#000000; stroke-linecap:butt; stroke-linejoin:round; stroke-width:4; stroke-opacity:1; fill:none\" points=\"\n",
       "  479.482,849.7 479.482,830.802 \n",
       "  \"/>\n",
       "<polyline clip-path=\"url(#clip500)\" style=\"stroke:#000000; stroke-linecap:butt; stroke-linejoin:round; stroke-width:4; stroke-opacity:1; fill:none\" points=\"\n",
       "  799.4,849.7 799.4,830.802 \n",
       "  \"/>\n",
       "<polyline clip-path=\"url(#clip500)\" style=\"stroke:#000000; stroke-linecap:butt; stroke-linejoin:round; stroke-width:4; stroke-opacity:1; fill:none\" points=\"\n",
       "  1119.32,849.7 1119.32,830.802 \n",
       "  \"/>\n",
       "<polyline clip-path=\"url(#clip500)\" style=\"stroke:#000000; stroke-linecap:butt; stroke-linejoin:round; stroke-width:4; stroke-opacity:1; fill:none\" points=\"\n",
       "  1439.23,849.7 1439.23,830.802 \n",
       "  \"/>\n",
       "<polyline clip-path=\"url(#clip500)\" style=\"stroke:#000000; stroke-linecap:butt; stroke-linejoin:round; stroke-width:4; stroke-opacity:1; fill:none\" points=\"\n",
       "  1759.15,849.7 1759.15,830.802 \n",
       "  \"/>\n",
       "<path clip-path=\"url(#clip500)\" d=\"M159.565 875.691 Q155.954 875.691 154.125 879.255 Q152.32 882.797 152.32 889.927 Q152.32 897.033 154.125 900.598 Q155.954 904.139 159.565 904.139 Q163.199 904.139 165.005 900.598 Q166.834 897.033 166.834 889.927 Q166.834 882.797 165.005 879.255 Q163.199 875.691 159.565 875.691 M159.565 871.987 Q165.375 871.987 168.431 876.593 Q171.51 881.177 171.51 889.927 Q171.51 898.653 168.431 903.26 Q165.375 907.843 159.565 907.843 Q153.755 907.843 150.676 903.26 Q147.621 898.653 147.621 889.927 Q147.621 881.177 150.676 876.593 Q153.755 871.987 159.565 871.987 Z\" fill=\"#000000\" fill-rule=\"evenodd\" fill-opacity=\"1\" /><path clip-path=\"url(#clip500)\" d=\"M469.864 903.237 L477.503 903.237 L477.503 876.871 L469.193 878.538 L469.193 874.279 L477.457 872.612 L482.133 872.612 L482.133 903.237 L489.772 903.237 L489.772 907.172 L469.864 907.172 L469.864 903.237 Z\" fill=\"#000000\" fill-rule=\"evenodd\" fill-opacity=\"1\" /><path clip-path=\"url(#clip500)\" d=\"M794.053 903.237 L810.372 903.237 L810.372 907.172 L788.428 907.172 L788.428 903.237 Q791.09 900.482 795.673 895.852 Q800.279 891.2 801.46 889.857 Q803.705 887.334 804.585 885.598 Q805.488 883.839 805.488 882.149 Q805.488 879.394 803.543 877.658 Q801.622 875.922 798.52 875.922 Q796.321 875.922 793.867 876.686 Q791.437 877.45 788.659 879.001 L788.659 874.279 Q791.483 873.144 793.937 872.566 Q796.39 871.987 798.428 871.987 Q803.798 871.987 806.992 874.672 Q810.187 877.357 810.187 881.848 Q810.187 883.978 809.377 885.899 Q808.589 887.797 806.483 890.39 Q805.904 891.061 802.802 894.278 Q799.701 897.473 794.053 903.237 Z\" fill=\"#000000\" fill-rule=\"evenodd\" fill-opacity=\"1\" /><path clip-path=\"url(#clip500)\" d=\"M1123.56 888.538 Q1126.92 889.255 1128.8 891.524 Q1130.69 893.792 1130.69 897.126 Q1130.69 902.241 1127.18 905.042 Q1123.66 907.843 1117.18 907.843 Q1115 907.843 1112.69 907.403 Q1110.39 906.987 1107.94 906.13 L1107.94 901.616 Q1109.88 902.751 1112.2 903.329 Q1114.51 903.908 1117.04 903.908 Q1121.44 903.908 1123.73 902.172 Q1126.04 900.436 1126.04 897.126 Q1126.04 894.07 1123.89 892.357 Q1121.76 890.621 1117.94 890.621 L1113.91 890.621 L1113.91 886.778 L1118.12 886.778 Q1121.57 886.778 1123.4 885.413 Q1125.23 884.024 1125.23 881.431 Q1125.23 878.769 1123.33 877.357 Q1121.46 875.922 1117.94 875.922 Q1116.02 875.922 1113.82 876.339 Q1111.62 876.755 1108.98 877.635 L1108.98 873.468 Q1111.64 872.728 1113.96 872.357 Q1116.3 871.987 1118.36 871.987 Q1123.68 871.987 1126.78 874.417 Q1129.88 876.825 1129.88 880.945 Q1129.88 883.815 1128.24 885.806 Q1126.6 887.774 1123.56 888.538 Z\" fill=\"#000000\" fill-rule=\"evenodd\" fill-opacity=\"1\" /><path clip-path=\"url(#clip500)\" d=\"M1442.24 876.686 L1430.44 895.135 L1442.24 895.135 L1442.24 876.686 M1441.02 872.612 L1446.9 872.612 L1446.9 895.135 L1451.83 895.135 L1451.83 899.024 L1446.9 899.024 L1446.9 907.172 L1442.24 907.172 L1442.24 899.024 L1426.64 899.024 L1426.64 894.51 L1441.02 872.612 Z\" fill=\"#000000\" fill-rule=\"evenodd\" fill-opacity=\"1\" /><path clip-path=\"url(#clip500)\" d=\"M1749.43 872.612 L1767.79 872.612 L1767.79 876.547 L1753.71 876.547 L1753.71 885.019 Q1754.73 884.672 1755.75 884.51 Q1756.77 884.325 1757.79 884.325 Q1763.57 884.325 1766.95 887.496 Q1770.33 890.667 1770.33 896.084 Q1770.33 901.663 1766.86 904.764 Q1763.39 907.843 1757.07 907.843 Q1754.89 907.843 1752.62 907.473 Q1750.38 907.102 1747.97 906.362 L1747.97 901.663 Q1750.05 902.797 1752.28 903.352 Q1754.5 903.908 1756.98 903.908 Q1760.98 903.908 1763.32 901.802 Q1765.66 899.695 1765.66 896.084 Q1765.66 892.473 1763.32 890.366 Q1760.98 888.26 1756.98 888.26 Q1755.1 888.26 1753.23 888.677 Q1751.37 889.093 1749.43 889.973 L1749.43 872.612 Z\" fill=\"#000000\" fill-rule=\"evenodd\" fill-opacity=\"1\" /><path clip-path=\"url(#clip500)\" d=\"M661.996 939.039 L667.852 939.039 L667.852 988.564 L661.996 988.564 L661.996 939.039 Z\" fill=\"#000000\" fill-rule=\"evenodd\" fill-opacity=\"1\" /><path clip-path=\"url(#clip500)\" d=\"M693.92 957.022 Q689.209 957.022 686.472 960.714 Q683.735 964.374 683.735 970.772 Q683.735 977.169 686.44 980.861 Q689.178 984.522 693.92 984.522 Q698.599 984.522 701.336 980.83 Q704.073 977.137 704.073 970.772 Q704.073 964.438 701.336 960.746 Q698.599 957.022 693.92 957.022 M693.92 952.057 Q701.559 952.057 705.919 957.022 Q710.28 961.987 710.28 970.772 Q710.28 979.525 705.919 984.522 Q701.559 989.487 693.92 989.487 Q686.249 989.487 681.889 984.522 Q677.56 979.525 677.56 970.772 Q677.56 961.987 681.889 957.022 Q686.249 952.057 693.92 952.057 Z\" fill=\"#000000\" fill-rule=\"evenodd\" fill-opacity=\"1\" /><path clip-path=\"url(#clip500)\" d=\"M743.445 970.326 Q743.445 963.96 740.803 960.459 Q738.194 956.958 733.451 956.958 Q728.74 956.958 726.099 960.459 Q723.489 963.96 723.489 970.326 Q723.489 976.66 726.099 980.161 Q728.74 983.662 733.451 983.662 Q738.194 983.662 740.803 980.161 Q743.445 976.66 743.445 970.326 M749.302 984.14 Q749.302 993.243 745.259 997.667 Q741.217 1002.12 732.878 1002.12 Q729.791 1002.12 727.054 1001.65 Q724.316 1001.2 721.738 1000.24 L721.738 994.548 Q724.316 995.948 726.831 996.616 Q729.345 997.285 731.955 997.285 Q737.716 997.285 740.581 994.261 Q743.445 991.269 743.445 985.19 L743.445 982.294 Q741.631 985.445 738.798 987.004 Q735.966 988.564 732.019 988.564 Q725.462 988.564 721.452 983.567 Q717.441 978.57 717.441 970.326 Q717.441 962.051 721.452 957.054 Q725.462 952.057 732.019 952.057 Q735.966 952.057 738.798 953.616 Q741.631 955.176 743.445 958.327 L743.445 952.916 L749.302 952.916 L749.302 984.14 Z\" fill=\"#000000\" fill-rule=\"evenodd\" fill-opacity=\"1\" /><path clip-path=\"url(#clip500)\" d=\"M775.433 939.102 Q771.168 946.423 769.099 953.584 Q767.03 960.746 767.03 968.098 Q767.03 975.45 769.099 982.676 Q771.2 989.869 775.433 997.158 L770.34 997.158 Q765.566 989.678 763.179 982.453 Q760.824 975.228 760.824 968.098 Q760.824 961 763.179 953.807 Q765.534 946.614 770.34 939.102 L775.433 939.102 Z\" fill=\"#000000\" fill-rule=\"evenodd\" fill-opacity=\"1\" /><path clip-path=\"url(#clip500)\" d=\"M800.609 957.022 Q795.899 957.022 793.161 960.714 Q790.424 964.374 790.424 970.772 Q790.424 977.169 793.13 980.861 Q795.867 984.522 800.609 984.522 Q805.288 984.522 808.025 980.83 Q810.763 977.137 810.763 970.772 Q810.763 964.438 808.025 960.746 Q805.288 957.022 800.609 957.022 M800.609 952.057 Q808.248 952.057 812.609 957.022 Q816.969 961.987 816.969 970.772 Q816.969 979.525 812.609 984.522 Q808.248 989.487 800.609 989.487 Q792.939 989.487 788.578 984.522 Q784.249 979.525 784.249 970.772 Q784.249 961.987 788.578 957.022 Q792.939 952.057 800.609 952.057 Z\" fill=\"#000000\" fill-rule=\"evenodd\" fill-opacity=\"1\" /><path clip-path=\"url(#clip500)\" d=\"M852.267 970.772 Q852.267 964.311 849.593 960.65 Q846.952 956.958 842.305 956.958 Q837.658 956.958 834.984 960.65 Q832.342 964.311 832.342 970.772 Q832.342 977.233 834.984 980.925 Q837.658 984.585 842.305 984.585 Q846.952 984.585 849.593 980.925 Q852.267 977.233 852.267 970.772 M832.342 958.327 Q834.188 955.144 836.989 953.616 Q839.822 952.057 843.737 952.057 Q850.23 952.057 854.272 957.213 Q858.346 962.369 858.346 970.772 Q858.346 979.174 854.272 984.331 Q850.23 989.487 843.737 989.487 Q839.822 989.487 836.989 987.959 Q834.188 986.4 832.342 983.217 L832.342 988.564 L826.454 988.564 L826.454 939.039 L832.342 939.039 L832.342 958.327 Z\" fill=\"#000000\" fill-rule=\"evenodd\" fill-opacity=\"1\" /><path clip-path=\"url(#clip500)\" d=\"M890.779 953.966 L890.779 959.504 Q888.297 958.231 885.623 957.595 Q882.95 956.958 880.085 956.958 Q875.725 956.958 873.528 958.295 Q871.364 959.632 871.364 962.305 Q871.364 964.342 872.924 965.52 Q874.483 966.666 879.194 967.716 L881.199 968.162 Q887.438 969.499 890.047 971.949 Q892.689 974.368 892.689 978.729 Q892.689 983.694 888.742 986.59 Q884.828 989.487 877.953 989.487 Q875.088 989.487 871.969 988.914 Q868.881 988.373 865.444 987.259 L865.444 981.211 Q868.69 982.898 871.842 983.758 Q874.993 984.585 878.08 984.585 Q882.218 984.585 884.446 983.185 Q886.674 981.753 886.674 979.174 Q886.674 976.787 885.05 975.514 Q883.459 974.241 878.016 973.063 L875.979 972.586 Q870.537 971.44 868.118 969.085 Q865.699 966.698 865.699 962.56 Q865.699 957.531 869.263 954.794 Q872.828 952.057 879.385 952.057 Q882.631 952.057 885.496 952.534 Q888.361 953.011 890.779 953.966 Z\" fill=\"#000000\" fill-rule=\"evenodd\" fill-opacity=\"1\" /><path clip-path=\"url(#clip500)\" d=\"M932.507 969.276 L932.507 972.14 L905.58 972.14 Q905.962 978.188 909.208 981.371 Q912.487 984.522 918.311 984.522 Q921.685 984.522 924.836 983.694 Q928.019 982.867 931.138 981.211 L931.138 986.75 Q927.987 988.086 924.677 988.787 Q921.367 989.487 917.961 989.487 Q909.431 989.487 904.434 984.522 Q899.469 979.556 899.469 971.09 Q899.469 962.337 904.179 957.213 Q908.922 952.057 916.943 952.057 Q924.136 952.057 928.305 956.703 Q932.507 961.319 932.507 969.276 M926.65 967.557 Q926.587 962.751 923.945 959.886 Q921.335 957.022 917.006 957.022 Q912.105 957.022 909.145 959.791 Q906.216 962.56 905.771 967.589 L926.65 967.557 Z\" fill=\"#000000\" fill-rule=\"evenodd\" fill-opacity=\"1\" /><path clip-path=\"url(#clip500)\" d=\"M962.776 958.39 Q961.789 957.817 960.611 957.563 Q959.465 957.276 958.065 957.276 Q953.1 957.276 950.426 960.523 Q947.784 963.738 947.784 969.785 L947.784 988.564 L941.896 988.564 L941.896 952.916 L947.784 952.916 L947.784 958.454 Q949.63 955.208 952.591 953.648 Q955.551 952.057 959.784 952.057 Q960.389 952.057 961.121 952.152 Q961.853 952.216 962.744 952.375 L962.776 958.39 Z\" fill=\"#000000\" fill-rule=\"evenodd\" fill-opacity=\"1\" /><path clip-path=\"url(#clip500)\" d=\"M964.717 952.916 L970.924 952.916 L982.064 982.835 L993.204 952.916 L999.41 952.916 L986.042 988.564 L978.085 988.564 L964.717 952.916 Z\" fill=\"#000000\" fill-rule=\"evenodd\" fill-opacity=\"1\" /><path clip-path=\"url(#clip500)\" d=\"M1037.99 969.276 L1037.99 972.14 L1011.06 972.14 Q1011.44 978.188 1014.69 981.371 Q1017.97 984.522 1023.79 984.522 Q1027.16 984.522 1030.32 983.694 Q1033.5 982.867 1036.62 981.211 L1036.62 986.75 Q1033.47 988.086 1030.16 988.787 Q1026.85 989.487 1023.44 989.487 Q1014.91 989.487 1009.91 984.522 Q1004.95 979.556 1004.95 971.09 Q1004.95 962.337 1009.66 957.213 Q1014.4 952.057 1022.42 952.057 Q1029.62 952.057 1033.79 956.703 Q1037.99 961.319 1037.99 969.276 M1032.13 967.557 Q1032.07 962.751 1029.42 959.886 Q1026.81 957.022 1022.49 957.022 Q1017.58 957.022 1014.62 959.791 Q1011.7 962.56 1011.25 967.589 L1032.13 967.557 Z\" fill=\"#000000\" fill-rule=\"evenodd\" fill-opacity=\"1\" /><path clip-path=\"url(#clip500)\" d=\"M1071.06 958.327 L1071.06 939.039 L1076.91 939.039 L1076.91 988.564 L1071.06 988.564 L1071.06 983.217 Q1069.21 986.4 1066.38 987.959 Q1063.58 989.487 1059.63 989.487 Q1053.17 989.487 1049.09 984.331 Q1045.05 979.174 1045.05 970.772 Q1045.05 962.369 1049.09 957.213 Q1053.17 952.057 1059.63 952.057 Q1063.58 952.057 1066.38 953.616 Q1069.21 955.144 1071.06 958.327 M1051.1 970.772 Q1051.1 977.233 1053.74 980.925 Q1056.42 984.585 1061.06 984.585 Q1065.71 984.585 1068.38 980.925 Q1071.06 977.233 1071.06 970.772 Q1071.06 964.311 1068.38 960.65 Q1065.71 956.958 1061.06 956.958 Q1056.42 956.958 1053.74 960.65 Q1051.1 964.311 1051.1 970.772 Z\" fill=\"#000000\" fill-rule=\"evenodd\" fill-opacity=\"1\" /><path clip-path=\"url(#clip500)\" d=\"M1127.74 939.039 L1127.74 943.908 L1122.14 943.908 Q1118.99 943.908 1117.75 945.182 Q1116.54 946.455 1116.54 949.765 L1116.54 952.916 L1126.18 952.916 L1126.18 957.467 L1116.54 957.467 L1116.54 988.564 L1110.65 988.564 L1110.65 957.467 L1105.05 957.467 L1105.05 952.916 L1110.65 952.916 L1110.65 950.433 Q1110.65 944.481 1113.42 941.776 Q1116.19 939.039 1122.2 939.039 L1127.74 939.039 Z\" fill=\"#000000\" fill-rule=\"evenodd\" fill-opacity=\"1\" /><path clip-path=\"url(#clip500)\" d=\"M1153.3 958.39 Q1152.31 957.817 1151.14 957.563 Q1149.99 957.276 1148.59 957.276 Q1143.63 957.276 1140.95 960.523 Q1138.31 963.738 1138.31 969.785 L1138.31 988.564 L1132.42 988.564 L1132.42 952.916 L1138.31 952.916 L1138.31 958.454 Q1140.16 955.208 1143.12 953.648 Q1146.08 952.057 1150.31 952.057 Q1150.91 952.057 1151.65 952.152 Q1152.38 952.216 1153.27 952.375 L1153.3 958.39 Z\" fill=\"#000000\" fill-rule=\"evenodd\" fill-opacity=\"1\" /><path clip-path=\"url(#clip500)\" d=\"M1188.5 969.276 L1188.5 972.14 L1161.58 972.14 Q1161.96 978.188 1165.21 981.371 Q1168.48 984.522 1174.31 984.522 Q1177.68 984.522 1180.83 983.694 Q1184.02 982.867 1187.13 981.211 L1187.13 986.75 Q1183.98 988.086 1180.67 988.787 Q1177.36 989.487 1173.96 989.487 Q1165.43 989.487 1160.43 984.522 Q1155.47 979.556 1155.47 971.09 Q1155.47 962.337 1160.18 957.213 Q1164.92 952.057 1172.94 952.057 Q1180.13 952.057 1184.3 956.703 Q1188.5 961.319 1188.5 969.276 M1182.65 967.557 Q1182.58 962.751 1179.94 959.886 Q1177.33 957.022 1173 957.022 Q1168.1 957.022 1165.14 959.791 Q1162.21 962.56 1161.77 967.589 L1182.65 967.557 Z\" fill=\"#000000\" fill-rule=\"evenodd\" fill-opacity=\"1\" /><path clip-path=\"url(#clip500)\" d=\"M1201.62 970.772 Q1201.62 977.233 1204.26 980.925 Q1206.93 984.585 1211.58 984.585 Q1216.23 984.585 1218.9 980.925 Q1221.57 977.233 1221.57 970.772 Q1221.57 964.311 1218.9 960.65 Q1216.23 956.958 1211.58 956.958 Q1206.93 956.958 1204.26 960.65 Q1201.62 964.311 1201.62 970.772 M1221.57 983.217 Q1219.73 986.4 1216.89 987.959 Q1214.09 989.487 1210.15 989.487 Q1203.69 989.487 1199.61 984.331 Q1195.57 979.174 1195.57 970.772 Q1195.57 962.369 1199.61 957.213 Q1203.69 952.057 1210.15 952.057 Q1214.09 952.057 1216.89 953.616 Q1219.73 955.144 1221.57 958.327 L1221.57 952.916 L1227.43 952.916 L1227.43 1002.12 L1221.57 1002.12 L1221.57 983.217 Z\" fill=\"#000000\" fill-rule=\"evenodd\" fill-opacity=\"1\" /><path clip-path=\"url(#clip500)\" d=\"M1238.89 974.496 L1238.89 952.916 L1244.74 952.916 L1244.74 974.273 Q1244.74 979.334 1246.72 981.88 Q1248.69 984.394 1252.64 984.394 Q1257.38 984.394 1260.12 981.371 Q1262.89 978.347 1262.89 973.127 L1262.89 952.916 L1268.74 952.916 L1268.74 988.564 L1262.89 988.564 L1262.89 983.089 Q1260.75 986.336 1257.92 987.927 Q1255.12 989.487 1251.4 989.487 Q1245.25 989.487 1242.07 985.667 Q1238.89 981.848 1238.89 974.496 M1253.62 952.057 L1253.62 952.057 Z\" fill=\"#000000\" fill-rule=\"evenodd\" fill-opacity=\"1\" /><path clip-path=\"url(#clip500)\" d=\"M1311.3 969.276 L1311.3 972.14 L1284.37 972.14 Q1284.75 978.188 1288 981.371 Q1291.28 984.522 1297.1 984.522 Q1300.48 984.522 1303.63 983.694 Q1306.81 982.867 1309.93 981.211 L1309.93 986.75 Q1306.78 988.086 1303.47 988.787 Q1300.16 989.487 1296.75 989.487 Q1288.22 989.487 1283.23 984.522 Q1278.26 979.556 1278.26 971.09 Q1278.26 962.337 1282.97 957.213 Q1287.71 952.057 1295.73 952.057 Q1302.93 952.057 1307.1 956.703 Q1311.3 961.319 1311.3 969.276 M1305.44 967.557 Q1305.38 962.751 1302.74 959.886 Q1300.13 957.022 1295.8 957.022 Q1290.9 957.022 1287.94 959.791 Q1285.01 962.56 1284.56 967.589 L1305.44 967.557 Z\" fill=\"#000000\" fill-rule=\"evenodd\" fill-opacity=\"1\" /><path clip-path=\"url(#clip500)\" d=\"M1350.54 967.048 L1350.54 988.564 L1344.69 988.564 L1344.69 967.239 Q1344.69 962.178 1342.71 959.664 Q1340.74 957.149 1336.79 957.149 Q1332.05 957.149 1329.31 960.173 Q1326.58 963.197 1326.58 968.416 L1326.58 988.564 L1320.69 988.564 L1320.69 952.916 L1326.58 952.916 L1326.58 958.454 Q1328.68 955.239 1331.51 953.648 Q1334.37 952.057 1338.1 952.057 Q1344.24 952.057 1347.39 955.876 Q1350.54 959.664 1350.54 967.048 Z\" fill=\"#000000\" fill-rule=\"evenodd\" fill-opacity=\"1\" /><path clip-path=\"url(#clip500)\" d=\"M1387.88 954.285 L1387.88 959.759 Q1385.39 958.39 1382.88 957.722 Q1380.4 957.022 1377.85 957.022 Q1372.15 957.022 1369 960.65 Q1365.85 964.247 1365.85 970.772 Q1365.85 977.297 1369 980.925 Q1372.15 984.522 1377.85 984.522 Q1380.4 984.522 1382.88 983.853 Q1385.39 983.153 1387.88 981.784 L1387.88 987.195 Q1385.43 988.341 1382.78 988.914 Q1380.18 989.487 1377.21 989.487 Q1369.16 989.487 1364.42 984.426 Q1359.68 979.365 1359.68 970.772 Q1359.68 962.051 1364.45 957.054 Q1369.26 952.057 1377.6 952.057 Q1380.3 952.057 1382.88 952.629 Q1385.46 953.171 1387.88 954.285 Z\" fill=\"#000000\" fill-rule=\"evenodd\" fill-opacity=\"1\" /><path clip-path=\"url(#clip500)\" d=\"M1412.89 991.874 Q1410.41 998.24 1408.06 1000.18 Q1405.7 1002.12 1401.75 1002.12 L1397.08 1002.12 L1397.08 997.221 L1400.51 997.221 Q1402.93 997.221 1404.27 996.075 Q1405.61 994.93 1407.23 990.665 L1408.28 987.991 L1393.86 952.916 L1400.07 952.916 L1411.21 980.798 L1422.35 952.916 L1428.55 952.916 L1412.89 991.874 Z\" fill=\"#000000\" fill-rule=\"evenodd\" fill-opacity=\"1\" /><path clip-path=\"url(#clip500)\" d=\"M1435.72 939.102 L1440.81 939.102 Q1445.58 946.614 1447.94 953.807 Q1450.33 961 1450.33 968.098 Q1450.33 975.228 1447.94 982.453 Q1445.58 989.678 1440.81 997.158 L1435.72 997.158 Q1439.95 989.869 1442.02 982.676 Q1444.12 975.45 1444.12 968.098 Q1444.12 960.746 1442.02 953.584 Q1439.95 946.423 1435.72 939.102 Z\" fill=\"#000000\" fill-rule=\"evenodd\" fill-opacity=\"1\" /><polyline clip-path=\"url(#clip502)\" style=\"stroke:#000000; stroke-linecap:butt; stroke-linejoin:round; stroke-width:2; stroke-opacity:0.1; fill:none\" points=\"\n",
       "  159.565,849.7 1952.76,849.7 \n",
       "  \"/>\n",
       "<polyline clip-path=\"url(#clip502)\" style=\"stroke:#000000; stroke-linecap:butt; stroke-linejoin:round; stroke-width:2; stroke-opacity:0.1; fill:none\" points=\"\n",
       "  159.565,661.599 1952.76,661.599 \n",
       "  \"/>\n",
       "<polyline clip-path=\"url(#clip502)\" style=\"stroke:#000000; stroke-linecap:butt; stroke-linejoin:round; stroke-width:2; stroke-opacity:0.1; fill:none\" points=\"\n",
       "  159.565,473.498 1952.76,473.498 \n",
       "  \"/>\n",
       "<polyline clip-path=\"url(#clip502)\" style=\"stroke:#000000; stroke-linecap:butt; stroke-linejoin:round; stroke-width:2; stroke-opacity:0.1; fill:none\" points=\"\n",
       "  159.565,285.396 1952.76,285.396 \n",
       "  \"/>\n",
       "<polyline clip-path=\"url(#clip500)\" style=\"stroke:#000000; stroke-linecap:butt; stroke-linejoin:round; stroke-width:4; stroke-opacity:1; fill:none\" points=\"\n",
       "  159.565,849.7 159.565,108.352 \n",
       "  \"/>\n",
       "<polyline clip-path=\"url(#clip500)\" style=\"stroke:#000000; stroke-linecap:butt; stroke-linejoin:round; stroke-width:4; stroke-opacity:1; fill:none\" points=\"\n",
       "  159.565,849.7 178.463,849.7 \n",
       "  \"/>\n",
       "<polyline clip-path=\"url(#clip500)\" style=\"stroke:#000000; stroke-linecap:butt; stroke-linejoin:round; stroke-width:4; stroke-opacity:1; fill:none\" points=\"\n",
       "  159.565,661.599 178.463,661.599 \n",
       "  \"/>\n",
       "<polyline clip-path=\"url(#clip500)\" style=\"stroke:#000000; stroke-linecap:butt; stroke-linejoin:round; stroke-width:4; stroke-opacity:1; fill:none\" points=\"\n",
       "  159.565,473.498 178.463,473.498 \n",
       "  \"/>\n",
       "<polyline clip-path=\"url(#clip500)\" style=\"stroke:#000000; stroke-linecap:butt; stroke-linejoin:round; stroke-width:4; stroke-opacity:1; fill:none\" points=\"\n",
       "  159.565,285.396 178.463,285.396 \n",
       "  \"/>\n",
       "<path clip-path=\"url(#clip500)\" d=\"M117.621 835.499 Q114.01 835.499 112.181 839.063 Q110.375 842.605 110.375 849.735 Q110.375 856.841 112.181 860.406 Q114.01 863.947 117.621 863.947 Q121.255 863.947 123.061 860.406 Q124.889 856.841 124.889 849.735 Q124.889 842.605 123.061 839.063 Q121.255 835.499 117.621 835.499 M117.621 831.795 Q123.431 831.795 126.487 836.401 Q129.565 840.985 129.565 849.735 Q129.565 858.461 126.487 863.068 Q123.431 867.651 117.621 867.651 Q111.811 867.651 108.732 863.068 Q105.676 858.461 105.676 849.735 Q105.676 840.985 108.732 836.401 Q111.811 831.795 117.621 831.795 Z\" fill=\"#000000\" fill-rule=\"evenodd\" fill-opacity=\"1\" /><path clip-path=\"url(#clip500)\" d=\"M113.246 674.944 L129.565 674.944 L129.565 678.879 L107.621 678.879 L107.621 674.944 Q110.283 672.189 114.866 667.559 Q119.473 662.907 120.653 661.564 Q122.899 659.041 123.778 657.305 Q124.681 655.545 124.681 653.856 Q124.681 651.101 122.737 649.365 Q120.815 647.629 117.713 647.629 Q115.514 647.629 113.061 648.393 Q110.63 649.157 107.852 650.708 L107.852 645.985 Q110.676 644.851 113.13 644.272 Q115.584 643.694 117.621 643.694 Q122.991 643.694 126.186 646.379 Q129.38 649.064 129.38 653.555 Q129.38 655.684 128.57 657.606 Q127.783 659.504 125.676 662.096 Q125.098 662.768 121.996 665.985 Q118.894 669.18 113.246 674.944 Z\" fill=\"#000000\" fill-rule=\"evenodd\" fill-opacity=\"1\" /><path clip-path=\"url(#clip500)\" d=\"M119.982 460.292 L108.176 478.741 L119.982 478.741 L119.982 460.292 M118.755 456.218 L124.635 456.218 L124.635 478.741 L129.565 478.741 L129.565 482.629 L124.635 482.629 L124.635 490.778 L119.982 490.778 L119.982 482.629 L104.38 482.629 L104.38 478.116 L118.755 456.218 Z\" fill=\"#000000\" fill-rule=\"evenodd\" fill-opacity=\"1\" /><path clip-path=\"url(#clip500)\" d=\"M118.037 283.533 Q114.889 283.533 113.038 285.686 Q111.209 287.839 111.209 291.589 Q111.209 295.315 113.038 297.491 Q114.889 299.644 118.037 299.644 Q121.186 299.644 123.014 297.491 Q124.866 295.315 124.866 291.589 Q124.866 287.839 123.014 285.686 Q121.186 283.533 118.037 283.533 M127.32 268.88 L127.32 273.14 Q125.561 272.306 123.755 271.866 Q121.973 271.427 120.213 271.427 Q115.584 271.427 113.13 274.552 Q110.7 277.677 110.352 283.996 Q111.718 281.982 113.778 280.917 Q115.838 279.829 118.315 279.829 Q123.524 279.829 126.533 283.001 Q129.565 286.149 129.565 291.589 Q129.565 296.913 126.417 300.13 Q123.269 303.348 118.037 303.348 Q112.042 303.348 108.871 298.764 Q105.7 294.158 105.7 285.431 Q105.7 277.237 109.588 272.376 Q113.477 267.491 120.028 267.491 Q121.787 267.491 123.57 267.839 Q125.375 268.186 127.32 268.88 Z\" fill=\"#000000\" fill-rule=\"evenodd\" fill-opacity=\"1\" /><path clip-path=\"url(#clip500)\" d=\"M10.599 728.769 L10.599 722.912 L60.1242 722.912 L60.1242 728.769 L10.599 728.769 Z\" fill=\"#000000\" fill-rule=\"evenodd\" fill-opacity=\"1\" /><path clip-path=\"url(#clip500)\" d=\"M28.5821 696.845 Q28.5821 701.555 32.2742 704.292 Q35.9345 707.03 42.332 707.03 Q48.7295 707.03 52.4217 704.324 Q56.0819 701.587 56.0819 696.845 Q56.0819 692.166 52.3898 689.429 Q48.6977 686.691 42.332 686.691 Q35.9981 686.691 32.306 689.429 Q28.5821 692.166 28.5821 696.845 M23.6168 696.845 Q23.6168 689.206 28.5821 684.845 Q33.5473 680.485 42.332 680.485 Q51.0849 680.485 56.0819 684.845 Q61.0472 689.206 61.0472 696.845 Q61.0472 704.515 56.0819 708.876 Q51.0849 713.204 42.332 713.204 Q33.5473 713.204 28.5821 708.876 Q23.6168 704.515 23.6168 696.845 Z\" fill=\"#000000\" fill-rule=\"evenodd\" fill-opacity=\"1\" /><path clip-path=\"url(#clip500)\" d=\"M41.8864 647.319 Q35.5207 647.319 32.0196 649.961 Q28.5184 652.571 28.5184 657.314 Q28.5184 662.024 32.0196 664.666 Q35.5207 667.276 41.8864 667.276 Q48.2203 667.276 51.7214 664.666 Q55.2226 662.024 55.2226 657.314 Q55.2226 652.571 51.7214 649.961 Q48.2203 647.319 41.8864 647.319 M55.7 641.463 Q64.803 641.463 69.2271 645.505 Q73.6831 649.547 73.6831 657.886 Q73.6831 660.974 73.2057 663.711 Q72.7601 666.448 71.8052 669.026 L66.1079 669.026 Q67.5084 666.448 68.1768 663.934 Q68.8452 661.419 68.8452 658.809 Q68.8452 653.048 65.8215 650.184 Q62.8296 647.319 56.7503 647.319 L53.8539 647.319 Q57.005 649.134 58.5646 651.966 Q60.1242 654.799 60.1242 658.746 Q60.1242 665.302 55.1271 669.313 Q50.13 673.323 41.8864 673.323 Q33.611 673.323 28.6139 669.313 Q23.6168 665.302 23.6168 658.746 Q23.6168 654.799 25.1764 651.966 Q26.736 649.134 29.8871 647.319 L24.4762 647.319 L24.4762 641.463 L55.7 641.463 Z\" fill=\"#000000\" fill-rule=\"evenodd\" fill-opacity=\"1\" /><path clip-path=\"url(#clip500)\" d=\"M10.6626 615.332 Q17.9832 619.597 25.1446 621.666 Q32.306 623.734 39.6584 623.734 Q47.0108 623.734 54.2359 621.666 Q61.4291 619.565 68.7179 615.332 L68.7179 620.424 Q61.2382 625.199 54.0131 627.586 Q46.788 629.941 39.6584 629.941 Q32.5606 629.941 25.3674 627.586 Q18.1742 625.23 10.6626 620.424 L10.6626 615.332 Z\" fill=\"#000000\" fill-rule=\"evenodd\" fill-opacity=\"1\" /><path clip-path=\"url(#clip500)\" d=\"M31.4466 576.787 L31.4466 586.049 L42.0774 588.723 L42.0774 579.397 L31.4466 576.787 M13.3362 581.562 L26.5451 584.872 L26.5451 575.578 L13.3362 572.236 L13.3362 567.143 L26.5451 570.422 L26.5451 560.491 L31.4466 560.491 L31.4466 571.663 L42.0774 574.273 L42.0774 564.151 L46.9471 564.151 L46.9471 575.514 L60.1242 578.824 L60.1242 583.917 L46.9471 580.639 L46.9471 589.964 L60.1242 593.243 L60.1242 598.367 L46.9471 595.057 L46.9471 605.083 L42.0774 605.083 L42.0774 593.879 L31.4466 591.206 L31.4466 601.454 L26.5451 601.454 L26.5451 589.964 L13.3362 586.718 L13.3362 581.562 Z\" fill=\"#000000\" fill-rule=\"evenodd\" fill-opacity=\"1\" /><path clip-path=\"url(#clip500)\" d=\"M28.5821 514.817 Q28.5821 519.528 32.2742 522.265 Q35.9345 525.002 42.332 525.002 Q48.7295 525.002 52.4217 522.297 Q56.0819 519.56 56.0819 514.817 Q56.0819 510.138 52.3898 507.401 Q48.6977 504.664 42.332 504.664 Q35.9981 504.664 32.306 507.401 Q28.5821 510.138 28.5821 514.817 M23.6168 514.817 Q23.6168 507.178 28.5821 502.818 Q33.5473 498.457 42.332 498.457 Q51.0849 498.457 56.0819 502.818 Q61.0472 507.178 61.0472 514.817 Q61.0472 522.488 56.0819 526.848 Q51.0849 531.177 42.332 531.177 Q33.5473 531.177 28.5821 526.848 Q23.6168 522.488 23.6168 514.817 Z\" fill=\"#000000\" fill-rule=\"evenodd\" fill-opacity=\"1\" /><path clip-path=\"url(#clip500)\" d=\"M10.599 470.703 L15.4687 470.703 L15.4687 476.305 Q15.4687 479.456 16.7419 480.697 Q18.015 481.906 21.3252 481.906 L24.4762 481.906 L24.4762 472.262 L29.0277 472.262 L29.0277 481.906 L60.1242 481.906 L60.1242 487.795 L29.0277 487.795 L29.0277 493.397 L24.4762 493.397 L24.4762 487.795 L21.9936 487.795 Q16.0416 487.795 13.3362 485.026 Q10.599 482.257 10.599 476.241 L10.599 470.703 Z\" fill=\"#000000\" fill-rule=\"evenodd\" fill-opacity=\"1\" /><path clip-path=\"url(#clip500)\" d=\"M10.599 445.304 L10.599 439.415 L39.8494 439.415 L24.4762 421.942 L24.4762 414.462 L41.1544 433.368 L60.1242 413.666 L60.1242 421.305 L42.7139 439.415 L60.1242 439.415 L60.1242 445.304 L10.599 445.304 Z\" fill=\"#000000\" fill-rule=\"evenodd\" fill-opacity=\"1\" /><path clip-path=\"url(#clip500)\" d=\"M31.3193 379.578 Q27.3726 377.382 25.4947 374.326 Q23.6168 371.27 23.6168 367.133 Q23.6168 361.563 27.5317 358.539 Q31.4148 355.515 38.6081 355.515 L60.1242 355.515 L60.1242 361.404 L38.799 361.404 Q33.6746 361.404 31.192 363.218 Q28.7094 365.032 28.7094 368.756 Q28.7094 373.308 31.7331 375.949 Q34.7568 378.591 39.9767 378.591 L60.1242 378.591 L60.1242 384.479 L38.799 384.479 Q33.6428 384.479 31.192 386.294 Q28.7094 388.108 28.7094 391.895 Q28.7094 396.383 31.7649 399.025 Q34.7886 401.667 39.9767 401.667 L60.1242 401.667 L60.1242 407.555 L24.4762 407.555 L24.4762 401.667 L30.0144 401.667 Q26.736 399.662 25.1764 396.861 Q23.6168 394.06 23.6168 390.208 Q23.6168 386.325 25.5902 383.62 Q27.5636 380.883 31.3193 379.578 Z\" fill=\"#000000\" fill-rule=\"evenodd\" fill-opacity=\"1\" /><path clip-path=\"url(#clip500)\" d=\"M40.8361 313.343 L43.7006 313.343 L43.7006 340.269 Q49.7481 339.888 52.9309 336.641 Q56.0819 333.363 56.0819 327.538 Q56.0819 324.164 55.2544 321.013 Q54.4269 317.83 52.7718 314.711 L58.3099 314.711 Q59.6467 317.862 60.347 321.172 Q61.0472 324.483 61.0472 327.888 Q61.0472 336.418 56.0819 341.415 Q51.1167 346.381 42.6503 346.381 Q33.8974 346.381 28.7731 341.67 Q23.6168 336.927 23.6168 328.907 Q23.6168 321.713 28.2638 317.544 Q32.8789 313.343 40.8361 313.343 M39.1173 319.199 Q34.3112 319.263 31.4466 321.904 Q28.5821 324.514 28.5821 328.843 Q28.5821 333.745 31.3512 336.705 Q34.1202 339.633 39.1492 340.079 L39.1173 319.199 Z\" fill=\"#000000\" fill-rule=\"evenodd\" fill-opacity=\"1\" /><path clip-path=\"url(#clip500)\" d=\"M29.9507 283.074 Q29.3778 284.06 29.1232 285.238 Q28.8367 286.384 28.8367 287.784 Q28.8367 292.749 32.0832 295.423 Q35.2979 298.065 41.3453 298.065 L60.1242 298.065 L60.1242 303.953 L24.4762 303.953 L24.4762 298.065 L30.0144 298.065 Q26.7679 296.219 25.2083 293.259 Q23.6168 290.299 23.6168 286.066 Q23.6168 285.461 23.7123 284.729 Q23.776 283.997 23.9351 283.105 L29.9507 283.074 Z\" fill=\"#000000\" fill-rule=\"evenodd\" fill-opacity=\"1\" /><path clip-path=\"url(#clip500)\" d=\"M25.5265 254.205 L31.0647 254.205 Q29.7916 256.688 29.155 259.361 Q28.5184 262.035 28.5184 264.9 Q28.5184 269.26 29.8552 271.456 Q31.192 273.621 33.8656 273.621 Q35.9026 273.621 37.0803 272.061 Q38.2261 270.501 39.2765 265.791 L39.7221 263.786 Q41.0589 257.547 43.5097 254.937 Q45.9286 252.295 50.2891 252.295 Q55.2544 252.295 58.1508 256.242 Q61.0472 260.157 61.0472 267.032 Q61.0472 269.897 60.4743 273.016 Q59.9332 276.103 58.8192 279.541 L52.7718 279.541 Q54.4587 276.294 55.318 273.143 Q56.1456 269.992 56.1456 266.905 Q56.1456 262.767 54.7451 260.539 Q53.3129 258.311 50.7347 258.311 Q48.3476 258.311 47.0745 259.934 Q45.8013 261.526 44.6237 266.968 L44.1462 269.005 Q43.0004 274.448 40.6451 276.867 Q38.258 279.286 34.1202 279.286 Q29.0913 279.286 26.3541 275.721 Q23.6168 272.156 23.6168 265.6 Q23.6168 262.353 24.0943 259.489 Q24.5717 256.624 25.5265 254.205 Z\" fill=\"#000000\" fill-rule=\"evenodd\" fill-opacity=\"1\" /><path clip-path=\"url(#clip500)\" d=\"M10.6626 243.893 L10.6626 238.8 Q18.1742 234.026 25.3674 231.671 Q32.5606 229.283 39.6584 229.283 Q46.788 229.283 54.0131 231.671 Q61.2382 234.026 68.7179 238.8 L68.7179 243.893 Q61.4291 239.66 54.2359 237.591 Q47.0108 235.49 39.6584 235.49 Q32.306 235.49 25.1446 237.591 Q17.9832 239.66 10.6626 243.893 Z\" fill=\"#000000\" fill-rule=\"evenodd\" fill-opacity=\"1\" /><path clip-path=\"url(#clip500)\" d=\"M699.6 9.54393 L707.094 9.54393 L707.094 46.7717 L729.334 27.2059 L738.853 27.2059 L714.791 48.4326 L739.866 72.576 L730.144 72.576 L707.094 50.4176 L707.094 72.576 L699.6 72.576 L699.6 9.54393 Z\" fill=\"#000000\" fill-rule=\"evenodd\" fill-opacity=\"1\" /><path clip-path=\"url(#clip500)\" d=\"M783.251 35.9153 Q786.046 30.8922 789.935 28.5022 Q793.824 26.1121 799.09 26.1121 Q806.179 26.1121 810.028 31.0947 Q813.876 36.0368 813.876 45.1919 L813.876 72.576 L806.382 72.576 L806.382 45.4349 Q806.382 38.913 804.073 35.7533 Q801.764 32.5936 797.024 32.5936 Q791.231 32.5936 787.869 36.4419 Q784.507 40.2903 784.507 46.9338 L784.507 72.576 L777.013 72.576 L777.013 45.4349 Q777.013 38.8725 774.704 35.7533 Q772.395 32.5936 767.574 32.5936 Q761.862 32.5936 758.5 36.4824 Q755.138 40.3308 755.138 46.9338 L755.138 72.576 L747.644 72.576 L747.644 27.2059 L755.138 27.2059 L755.138 34.2544 Q757.69 30.082 761.255 28.0971 Q764.82 26.1121 769.721 26.1121 Q774.663 26.1121 778.106 28.6237 Q781.59 31.1352 783.251 35.9153 Z\" fill=\"#000000\" fill-rule=\"evenodd\" fill-opacity=\"1\" /><path clip-path=\"url(#clip500)\" d=\"M867.55 48.0275 L867.55 51.6733 L833.28 51.6733 Q833.766 59.3701 837.898 63.421 Q842.07 67.4314 849.483 67.4314 Q853.777 67.4314 857.788 66.3781 Q861.839 65.3249 865.809 63.2184 L865.809 70.267 Q861.798 71.9684 857.585 72.8596 Q853.372 73.7508 849.038 73.7508 Q838.181 73.7508 831.821 67.4314 Q825.502 61.1119 825.502 50.3365 Q825.502 39.1965 831.497 32.6746 Q837.533 26.1121 847.742 26.1121 Q856.897 26.1121 862.203 32.0264 Q867.55 37.9003 867.55 48.0275 M860.097 45.84 Q860.016 39.7232 856.654 36.0774 Q853.332 32.4315 847.823 32.4315 Q841.584 32.4315 837.817 35.9558 Q834.09 39.4801 833.523 45.8805 L860.097 45.84 Z\" fill=\"#000000\" fill-rule=\"evenodd\" fill-opacity=\"1\" /><path clip-path=\"url(#clip500)\" d=\"M906.075 34.1734 Q904.819 33.4443 903.32 33.1202 Q901.862 32.7556 900.079 32.7556 Q893.76 32.7556 890.357 36.8875 Q886.995 40.9789 886.995 48.6757 L886.995 72.576 L879.501 72.576 L879.501 27.2059 L886.995 27.2059 L886.995 34.2544 Q889.344 30.1225 893.112 28.1376 Q896.879 26.1121 902.267 26.1121 Q903.036 26.1121 903.968 26.2337 Q904.9 26.3147 906.034 26.5172 L906.075 34.1734 Z\" fill=\"#000000\" fill-rule=\"evenodd\" fill-opacity=\"1\" /><path clip-path=\"url(#clip500)\" d=\"M963.233 9.54393 L963.233 15.7418 L956.103 15.7418 Q952.093 15.7418 950.513 17.3622 Q948.974 18.9825 948.974 23.1955 L948.974 27.2059 L961.248 27.2059 L961.248 32.9987 L948.974 32.9987 L948.974 72.576 L941.479 72.576 L941.479 32.9987 L934.35 32.9987 L934.35 27.2059 L941.479 27.2059 L941.479 24.0462 Q941.479 16.471 945.004 13.0277 Q948.528 9.54393 956.184 9.54393 L963.233 9.54393 Z\" fill=\"#000000\" fill-rule=\"evenodd\" fill-opacity=\"1\" /><path clip-path=\"url(#clip500)\" d=\"M995.762 34.1734 Q994.506 33.4443 993.007 33.1202 Q991.549 32.7556 989.766 32.7556 Q983.447 32.7556 980.044 36.8875 Q976.682 40.9789 976.682 48.6757 L976.682 72.576 L969.188 72.576 L969.188 27.2059 L976.682 27.2059 L976.682 34.2544 Q979.031 30.1225 982.799 28.1376 Q986.566 26.1121 991.954 26.1121 Q992.723 26.1121 993.655 26.2337 Q994.587 26.3147 995.721 26.5172 L995.762 34.1734 Z\" fill=\"#000000\" fill-rule=\"evenodd\" fill-opacity=\"1\" /><path clip-path=\"url(#clip500)\" d=\"M1040.56 48.0275 L1040.56 51.6733 L1006.29 51.6733 Q1006.78 59.3701 1010.91 63.421 Q1015.08 67.4314 1022.5 67.4314 Q1026.79 67.4314 1030.8 66.3781 Q1034.85 65.3249 1038.82 63.2184 L1038.82 70.267 Q1034.81 71.9684 1030.6 72.8596 Q1026.39 73.7508 1022.05 73.7508 Q1011.2 73.7508 1004.84 67.4314 Q998.516 61.1119 998.516 50.3365 Q998.516 39.1965 1004.51 32.6746 Q1010.55 26.1121 1020.76 26.1121 Q1029.91 26.1121 1035.22 32.0264 Q1040.56 37.9003 1040.56 48.0275 M1033.11 45.84 Q1033.03 39.7232 1029.67 36.0774 Q1026.35 32.4315 1020.84 32.4315 Q1014.6 32.4315 1010.83 35.9558 Q1007.1 39.4801 1006.54 45.8805 L1033.11 45.84 Z\" fill=\"#000000\" fill-rule=\"evenodd\" fill-opacity=\"1\" /><path clip-path=\"url(#clip500)\" d=\"M1057.25 49.9314 Q1057.25 58.1548 1060.62 62.8538 Q1064.02 67.5124 1069.93 67.5124 Q1075.85 67.5124 1079.25 62.8538 Q1082.65 58.1548 1082.65 49.9314 Q1082.65 41.7081 1079.25 37.0496 Q1075.85 32.3505 1069.93 32.3505 Q1064.02 32.3505 1060.62 37.0496 Q1057.25 41.7081 1057.25 49.9314 M1082.65 65.7705 Q1080.3 69.8214 1076.7 71.8063 Q1073.13 73.7508 1068.11 73.7508 Q1059.89 73.7508 1054.7 67.1883 Q1049.56 60.6258 1049.56 49.9314 Q1049.56 39.2371 1054.7 32.6746 Q1059.89 26.1121 1068.11 26.1121 Q1073.13 26.1121 1076.7 28.0971 Q1080.3 30.0415 1082.65 34.0924 L1082.65 27.2059 L1090.11 27.2059 L1090.11 89.8329 L1082.65 89.8329 L1082.65 65.7705 Z\" fill=\"#000000\" fill-rule=\"evenodd\" fill-opacity=\"1\" /><path clip-path=\"url(#clip500)\" d=\"M1104.69 54.671 L1104.69 27.2059 L1112.14 27.2059 L1112.14 54.3874 Q1112.14 60.8284 1114.66 64.0691 Q1117.17 67.2693 1122.19 67.2693 Q1128.23 67.2693 1131.71 63.421 Q1135.23 59.5726 1135.23 52.9291 L1135.23 27.2059 L1142.69 27.2059 L1142.69 72.576 L1135.23 72.576 L1135.23 65.6084 Q1132.52 69.7404 1128.91 71.7658 Q1125.35 73.7508 1120.61 73.7508 Q1112.79 73.7508 1108.74 68.8897 Q1104.69 64.0286 1104.69 54.671 M1123.45 26.1121 L1123.45 26.1121 Z\" fill=\"#000000\" fill-rule=\"evenodd\" fill-opacity=\"1\" /><path clip-path=\"url(#clip500)\" d=\"M1196.85 48.0275 L1196.85 51.6733 L1162.58 51.6733 Q1163.06 59.3701 1167.2 63.421 Q1171.37 67.4314 1178.78 67.4314 Q1183.08 67.4314 1187.09 66.3781 Q1191.14 65.3249 1195.11 63.2184 L1195.11 70.267 Q1191.1 71.9684 1186.88 72.8596 Q1182.67 73.7508 1178.34 73.7508 Q1167.48 73.7508 1161.12 67.4314 Q1154.8 61.1119 1154.8 50.3365 Q1154.8 39.1965 1160.8 32.6746 Q1166.83 26.1121 1177.04 26.1121 Q1186.19 26.1121 1191.5 32.0264 Q1196.85 37.9003 1196.85 48.0275 M1189.39 45.84 Q1189.31 39.7232 1185.95 36.0774 Q1182.63 32.4315 1177.12 32.4315 Q1170.88 32.4315 1167.11 35.9558 Q1163.39 39.4801 1162.82 45.8805 L1189.39 45.84 Z\" fill=\"#000000\" fill-rule=\"evenodd\" fill-opacity=\"1\" /><path clip-path=\"url(#clip500)\" d=\"M1246.8 45.1919 L1246.8 72.576 L1239.34 72.576 L1239.34 45.4349 Q1239.34 38.994 1236.83 35.7938 Q1234.32 32.5936 1229.3 32.5936 Q1223.26 32.5936 1219.78 36.4419 Q1216.29 40.2903 1216.29 46.9338 L1216.29 72.576 L1208.8 72.576 L1208.8 27.2059 L1216.29 27.2059 L1216.29 34.2544 Q1218.97 30.163 1222.57 28.1376 Q1226.22 26.1121 1230.96 26.1121 Q1238.78 26.1121 1242.79 30.9732 Q1246.8 35.7938 1246.8 45.1919 Z\" fill=\"#000000\" fill-rule=\"evenodd\" fill-opacity=\"1\" /><path clip-path=\"url(#clip500)\" d=\"M1294.31 28.9478 L1294.31 35.9153 Q1291.15 34.1734 1287.95 33.3227 Q1284.79 32.4315 1281.55 32.4315 Q1274.3 32.4315 1270.29 37.0496 Q1266.28 41.6271 1266.28 49.9314 Q1266.28 58.2358 1270.29 62.8538 Q1274.3 67.4314 1281.55 67.4314 Q1284.79 67.4314 1287.95 66.5807 Q1291.15 65.6895 1294.31 63.9476 L1294.31 70.8341 Q1291.19 72.2924 1287.83 73.0216 Q1284.51 73.7508 1280.74 73.7508 Q1270.49 73.7508 1264.46 67.3098 Q1258.42 60.8689 1258.42 49.9314 Q1258.42 38.832 1264.5 32.472 Q1270.62 26.1121 1281.23 26.1121 Q1284.67 26.1121 1287.95 26.8413 Q1291.23 27.5299 1294.31 28.9478 Z\" fill=\"#000000\" fill-rule=\"evenodd\" fill-opacity=\"1\" /><path clip-path=\"url(#clip500)\" d=\"M1307.28 27.2059 L1314.73 27.2059 L1314.73 72.576 L1307.28 72.576 L1307.28 27.2059 M1307.28 9.54393 L1314.73 9.54393 L1314.73 18.9825 L1307.28 18.9825 L1307.28 9.54393 Z\" fill=\"#000000\" fill-rule=\"evenodd\" fill-opacity=\"1\" /><path clip-path=\"url(#clip500)\" d=\"M1369.13 48.0275 L1369.13 51.6733 L1334.86 51.6733 Q1335.35 59.3701 1339.48 63.421 Q1343.65 67.4314 1351.07 67.4314 Q1355.36 67.4314 1359.37 66.3781 Q1363.42 65.3249 1367.39 63.2184 L1367.39 70.267 Q1363.38 71.9684 1359.17 72.8596 Q1354.96 73.7508 1350.62 73.7508 Q1339.76 73.7508 1333.4 67.4314 Q1327.09 61.1119 1327.09 50.3365 Q1327.09 39.1965 1333.08 32.6746 Q1339.12 26.1121 1349.32 26.1121 Q1358.48 26.1121 1363.79 32.0264 Q1369.13 37.9003 1369.13 48.0275 M1361.68 45.84 Q1361.6 39.7232 1358.24 36.0774 Q1354.91 32.4315 1349.41 32.4315 Q1343.17 32.4315 1339.4 35.9558 Q1335.67 39.4801 1335.11 45.8805 L1361.68 45.84 Z\" fill=\"#000000\" fill-rule=\"evenodd\" fill-opacity=\"1\" /><path clip-path=\"url(#clip500)\" d=\"M1410.29 28.5427 L1410.29 35.5912 Q1407.13 33.9709 1403.73 33.1607 Q1400.33 32.3505 1396.68 32.3505 Q1391.13 32.3505 1388.33 34.0519 Q1385.58 35.7533 1385.58 39.156 Q1385.58 41.7486 1387.57 43.2475 Q1389.55 44.7058 1395.55 46.0426 L1398.1 46.6097 Q1406.04 48.3111 1409.36 51.4303 Q1412.72 54.509 1412.72 60.0587 Q1412.72 66.3781 1407.7 70.0644 Q1402.72 73.7508 1393.97 73.7508 Q1390.32 73.7508 1386.35 73.0216 Q1382.42 72.3329 1378.05 70.9151 L1378.05 63.2184 Q1382.18 65.3654 1386.19 66.4591 Q1390.2 67.5124 1394.13 67.5124 Q1399.39 67.5124 1402.23 65.73 Q1405.06 63.9071 1405.06 60.6258 Q1405.06 57.5877 1403 55.9673 Q1400.97 54.3469 1394.05 52.8481 L1391.45 52.2405 Q1384.53 50.7821 1381.45 47.7845 Q1378.37 44.7463 1378.37 39.4801 Q1378.37 33.0797 1382.91 29.5959 Q1387.44 26.1121 1395.79 26.1121 Q1399.92 26.1121 1403.57 26.7198 Q1407.21 27.3274 1410.29 28.5427 Z\" fill=\"#000000\" fill-rule=\"evenodd\" fill-opacity=\"1\" /><circle clip-path=\"url(#clip502)\" cx=\"1606.16\" cy=\"849.7\" r=\"14\" fill=\"#009af9\" fill-rule=\"evenodd\" fill-opacity=\"1\" stroke=\"#000000\" stroke-opacity=\"1\" stroke-width=\"2\"/>\n",
       "<circle clip-path=\"url(#clip502)\" cx=\"1613.04\" cy=\"849.7\" r=\"14\" fill=\"#009af9\" fill-rule=\"evenodd\" fill-opacity=\"1\" stroke=\"#000000\" stroke-opacity=\"1\" stroke-width=\"2\"/>\n",
       "<circle clip-path=\"url(#clip502)\" cx=\"1584.59\" cy=\"849.7\" r=\"14\" fill=\"#009af9\" fill-rule=\"evenodd\" fill-opacity=\"1\" stroke=\"#000000\" stroke-opacity=\"1\" stroke-width=\"2\"/>\n",
       "<circle clip-path=\"url(#clip502)\" cx=\"1623.09\" cy=\"784.509\" r=\"14\" fill=\"#009af9\" fill-rule=\"evenodd\" fill-opacity=\"1\" stroke=\"#000000\" stroke-opacity=\"1\" stroke-width=\"2\"/>\n",
       "<circle clip-path=\"url(#clip502)\" cx=\"1629.62\" cy=\"849.7\" r=\"14\" fill=\"#009af9\" fill-rule=\"evenodd\" fill-opacity=\"1\" stroke=\"#000000\" stroke-opacity=\"1\" stroke-width=\"2\"/>\n",
       "<circle clip-path=\"url(#clip502)\" cx=\"1626.38\" cy=\"849.7\" r=\"14\" fill=\"#009af9\" fill-rule=\"evenodd\" fill-opacity=\"1\" stroke=\"#000000\" stroke-opacity=\"1\" stroke-width=\"2\"/>\n",
       "<circle clip-path=\"url(#clip502)\" cx=\"1602.67\" cy=\"849.7\" r=\"14\" fill=\"#009af9\" fill-rule=\"evenodd\" fill-opacity=\"1\" stroke=\"#000000\" stroke-opacity=\"1\" stroke-width=\"2\"/>\n",
       "<circle clip-path=\"url(#clip502)\" cx=\"1632.84\" cy=\"202.403\" r=\"14\" fill=\"#009af9\" fill-rule=\"evenodd\" fill-opacity=\"1\" stroke=\"#000000\" stroke-opacity=\"1\" stroke-width=\"2\"/>\n",
       "<circle clip-path=\"url(#clip502)\" cx=\"1619.78\" cy=\"849.7\" r=\"14\" fill=\"#009af9\" fill-rule=\"evenodd\" fill-opacity=\"1\" stroke=\"#000000\" stroke-opacity=\"1\" stroke-width=\"2\"/>\n",
       "</svg>\n"
      ]
     },
     "execution_count": 38,
     "metadata": {},
     "output_type": "execute_result"
    }
   ],
   "source": [
    "kmer_counts = Dict(corrected_observation_graph.vprops[v][:kmer] => corrected_observation_graph.vprops[v][:weight] for v in LightGraphs.vertices(corrected_observation_graph))\n",
    "total_observed_kmers = sum(values(kmer_counts))\n",
    "kmer_probabilities = Dict(k => v/total_observed_kmers for (k,v) in kmer_counts)\n",
    "scale = 250\n",
    "Mycelia.plot_kmer_frequency_spectra(values(kmer_counts), size=(2scale,scale), title=\"kmer frequencies\")"
   ]
  },
  {
   "cell_type": "code",
   "execution_count": 39,
   "id": "2b4354c8-d03e-49d6-b3ed-7f2375f43602",
   "metadata": {},
   "outputs": [],
   "source": [
    "# compare the new graph to the error-free graph to the error-corrected graph"
   ]
  },
  {
   "cell_type": "code",
   "execution_count": 40,
   "id": "5543d4f5-6bb9-4368-8149-9db0267d5aa5",
   "metadata": {},
   "outputs": [
    {
     "data": {
      "text/plain": [
       "0.0"
      ]
     },
     "execution_count": 40,
     "metadata": {},
     "output_type": "execute_result"
    }
   ],
   "source": [
    "reference_kmers = keys(Mycelia.count_canonical_kmers(BioSequences.DNAMer{k}, reference_fasta_file))\n",
    "distance_to_reference_graph = 1 - LSHFunctions.jaccard(Set(reference_kmers), Set(keys(kmer_counts)))"
   ]
  },
  {
   "cell_type": "markdown",
   "id": "999e7966-6ffc-43dd-8b24-9fdea86fd435",
   "metadata": {},
   "source": [
    "# Final polish and reduction"
   ]
  },
  {
   "cell_type": "code",
   "execution_count": 41,
   "id": "83ee093f-2f2d-48cd-a6d6-e0000fa44a67",
   "metadata": {},
   "outputs": [
    {
     "data": {
      "text/plain": [
       "984-element Vector{Int64}:\n",
       "   1\n",
       "   2\n",
       "   3\n",
       "   4\n",
       "   5\n",
       "   6\n",
       "   7\n",
       "   8\n",
       "   9\n",
       "  10\n",
       "  11\n",
       "  12\n",
       "  13\n",
       "   ⋮\n",
       " 973\n",
       " 974\n",
       " 975\n",
       " 976\n",
       " 977\n",
       " 978\n",
       " 979\n",
       " 980\n",
       " 981\n",
       " 982\n",
       " 983\n",
       " 984"
      ]
     },
     "execution_count": 41,
     "metadata": {},
     "output_type": "execute_result"
    }
   ],
   "source": [
    "# to_filter = Int[]\n",
    "connected_component = first(LightGraphs.connected_components(corrected_observation_graph))"
   ]
  },
  {
   "cell_type": "code",
   "execution_count": 42,
   "id": "b556f37f-4b7c-4260-9fa7-75b3fc5db9db",
   "metadata": {},
   "outputs": [
    {
     "data": {
      "text/plain": [
       "2-element Vector{Int64}:\n",
       " 469\n",
       " 532"
      ]
     },
     "execution_count": 42,
     "metadata": {},
     "output_type": "execute_result"
    }
   ],
   "source": [
    "tip_vertices = filter(v -> LightGraphs.degree(corrected_observation_graph, v) == 2, LightGraphs.vertices(corrected_observation_graph))"
   ]
  },
  {
   "cell_type": "code",
   "execution_count": 47,
   "id": "82b104bc-979a-4dac-888e-f406140fd0bd",
   "metadata": {},
   "outputs": [
    {
     "name": "stderr",
     "output_type": "stream",
     "text": [
      "┌ Info: simplifying kmer graph\n",
      "└ @ Mycelia /home/jovyan/git/Mycelia/src/Mycelia.jl:2260\n",
      "┌ Info: resolving untigs...\n",
      "└ @ Mycelia /home/jovyan/git/Mycelia/src/Mycelia.jl:2261\n"
     ]
    },
    {
     "name": "stdout",
     "output_type": "stream",
     "text": [
      "  0.461541 seconds (408.90 k allocations: 24.854 MiB, 9.24% gc time, 97.22% compilation time)\n"
     ]
    },
    {
     "name": "stderr",
     "output_type": "stream",
     "text": [
      "┌ Info: determining untig orientations...\n",
      "└ @ Mycelia /home/jovyan/git/Mycelia/src/Mycelia.jl:2264\n"
     ]
    },
    {
     "name": "stdout",
     "output_type": "stream",
     "text": [
      "  0.335142 seconds (464.49 k allocations: 25.522 MiB, 97.88% compilation time)\n"
     ]
    },
    {
     "name": "stderr",
     "output_type": "stream",
     "text": [
      "┌ Info: initializing graph node metadata\n",
      "└ @ Mycelia /home/jovyan/git/Mycelia/src/Mycelia.jl:2269\n",
      "┌ Info: creating simplified unitgs to help resolve connections\n",
      "└ @ Mycelia /home/jovyan/git/Mycelia/src/Mycelia.jl:2279\n"
     ]
    },
    {
     "data": {
      "text/plain": [
       "{1, 0} directed Int64 metagraph with Float64 weights defined by :weight (default weight 1.0)"
      ]
     },
     "execution_count": 47,
     "metadata": {},
     "output_type": "execute_result"
    }
   ],
   "source": [
    "if length(tip_vertices) > 2\n",
    "    component_weights = map(v -> corrected_observation_graph.vprops[v][:weight], connected_component)\n",
    "    component_median = Statistics.median(component_weights)\n",
    "    component_standard_deviation = Statistics.std(component_weights)\n",
    "    tips_to_drop = filter(tip -> corrected_observation_graph.vprops[tip][:weight] < component_median - 2*component_standard_deviation, tip_vertices) \n",
    "    polished_graph, vertex_map = LightGraphs.induced_subgraph(corrected_observation_graph, setdiff(LightGraphs.vertices(corrected_observation_graph), tips_to_drop))\n",
    "    simplified_graph = Mycelia.simplify_kmer_graph(polished_graph)\n",
    "else\n",
    "    simplified_graph = Mycelia.simplify_kmer_graph(corrected_observation_graph)\n",
    "end"
   ]
  },
  {
   "cell_type": "code",
   "execution_count": 48,
   "id": "6885134a-a5a7-40c6-b515-f103e16b9584",
   "metadata": {},
   "outputs": [
    {
     "data": {
      "text/html": [
       "<img src=./../../../2021-08-24-assess-convergence/LENGTH-1000-DEPTH-100.k17.fastq.k-17.simplified.gfa.svg>"
      ]
     },
     "metadata": {},
     "output_type": "display_data"
    }
   ],
   "source": [
    "# write simplified graph to gfa\n",
    "# visualize\n",
    "gfa_file = corrected_fastq_file * \".k-$k.simplified.gfa\"\n",
    "Mycelia.graph_to_gfa(simplified_graph, gfa_file)\n",
    "\n",
    "run(`$(BANDAGE) image $(gfa_file) $(gfa_file).svg --depwidth .9 --deppower .9`)\n",
    "# --nodewidth <float> Average node width (0.5 to 1000, default: 5)\n",
    "# --depwidth <float>  Depth effect on width (0 to 1, default: 0.5)\n",
    "# --deppower <float>  Power of depth effect on width (0 to 1, default: 0.5)\n",
    "\n",
    "html_path_to_svg = \"./\" * repeat(\"../\", length(split(pwd(), '/')) - 3)\n",
    "html_path_to_svg *= replace(\"$(gfa_file).svg\", \"$(homedir())/\" => \"\")\n",
    "\n",
    "x = \"<img src=$(html_path_to_svg)>\"\n",
    "display(\"text/html\", x)\n",
    "# display(\"image/svg+xml\", read(\"$(gfa_file).svg\", String))"
   ]
  },
  {
   "cell_type": "code",
   "execution_count": 49,
   "id": "cc55c0d8-875e-42e9-98fb-11aa9e8b0f1b",
   "metadata": {},
   "outputs": [
    {
     "data": {
      "text/plain": [
       "100.0"
      ]
     },
     "execution_count": 49,
     "metadata": {},
     "output_type": "execute_result"
    }
   ],
   "source": [
    "simplified_graph.vprops[1][:weight]"
   ]
  },
  {
   "cell_type": "code",
   "execution_count": 52,
   "id": "f0075333-9c05-43e7-ac86-236183f79d8f",
   "metadata": {},
   "outputs": [
    {
     "data": {
      "text/plain": [
       "true"
      ]
     },
     "execution_count": 52,
     "metadata": {},
     "output_type": "execute_result"
    }
   ],
   "source": [
    "Mycelia.is_equivalent(FASTX.sequence(fasta_record), simplified_graph.vprops[1][:sequence])"
   ]
  },
  {
   "cell_type": "markdown",
   "id": "2f2636d1-2a3c-4dd6-94a4-f7a262b57755",
   "metadata": {},
   "source": [
    "# THE SAME!!!"
   ]
  },
  {
   "cell_type": "code",
   "execution_count": 53,
   "id": "e76e948b-161d-40d1-b5db-ad1b88b26d9a",
   "metadata": {},
   "outputs": [
    {
     "name": "stdout",
     "output_type": "stream",
     "text": [
      "record = FASTX.FASTA.Record:\n",
      "   identifier: 7865558533970300004-2021-08-24T00:42:51.550\n",
      "  description: 100.0\n",
      "     sequence: CCACCATCATCGTCGGATCTAATACCCGTGGGTGGATAC…\n"
     ]
    }
   ],
   "source": [
    "# write contigs to fasta\n",
    "final_fasta_file = corrected_fastq_file * \".k-$k.simplified.fasta\"\n",
    "open(final_fasta_file, \"w\") do io\n",
    "    fasta_io = FASTX.FASTA.Writer(io)\n",
    "    for vertex in LightGraphs.vertices(simplified_graph)\n",
    "        seq = simplified_graph.vprops[vertex][:sequence]\n",
    "        description = string(simplified_graph.vprops[vertex][:weight])\n",
    "        id = string(hash(seq)) * '-' * string(Dates.now())\n",
    "        record = FASTX.FASTA.Record(id, description, seq)\n",
    "        @show record\n",
    "        write(fasta_io, record)\n",
    "    end\n",
    "    close(fasta_io)\n",
    "end"
   ]
  }
 ],
 "metadata": {
  "kernelspec": {
   "display_name": "Julia 1.6.1",
   "language": "julia",
   "name": "julia-1.6"
  },
  "language_info": {
   "file_extension": ".jl",
   "mimetype": "application/julia",
   "name": "julia",
   "version": "1.6.1"
  }
 },
 "nbformat": 4,
 "nbformat_minor": 5
}
