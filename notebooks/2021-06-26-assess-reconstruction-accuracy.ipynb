{
 "cells": [
  {
   "cell_type": "code",
   "execution_count": 1,
   "metadata": {},
   "outputs": [
    {
     "data": {
      "text/plain": [
       "\"/Users/cameronprybol/2021-06-26-assess-reconstruction-accuracy\""
      ]
     },
     "execution_count": 1,
     "metadata": {},
     "output_type": "execute_result"
    }
   ],
   "source": [
    "DATE = \"2021-06-26\"\n",
    "TASK = \"assess-reconstruction-accuracy\"\n",
    "DIR = \"$(DATE)-$(TASK)\"\n",
    "DIR = mkpath(\"$(homedir())/$(DIR)\")"
   ]
  },
  {
   "cell_type": "code",
   "execution_count": 57,
   "metadata": {},
   "outputs": [
    {
     "name": "stderr",
     "output_type": "stream",
     "text": [
      "┌ Info: Precompiling LSHFunctions [5134c85a-a9db-11e9-340f-8514dff59a31]\n",
      "└ @ Base loading.jl:1317\n",
      "\u001b[33m\u001b[1m┌ \u001b[22m\u001b[39m\u001b[33m\u001b[1mWarning: \u001b[22m\u001b[39mModule Distributions with build ID 119686055762208 is missing from the cache.\n",
      "\u001b[33m\u001b[1m│ \u001b[22m\u001b[39mThis may mean Distributions [31c24e10-a181-5473-b8eb-7969acd0382f] does not support precompilation but is imported by a module that does.\n",
      "\u001b[33m\u001b[1m└ \u001b[22m\u001b[39m\u001b[90m@ Base loading.jl:1008\u001b[39m\n",
      "┌ Info: Skipping precompilation since __precompile__(false). Importing LSHFunctions [5134c85a-a9db-11e9-340f-8514dff59a31].\n",
      "└ @ Base loading.jl:1025\n"
     ]
    }
   ],
   "source": [
    "pkgs = [\n",
    "\"Graphs\",\n",
    "\"MetaGraphs\",\n",
    "\"BioSequences\",\n",
    "\"uCSV\",\n",
    "\"DataFrames\",\n",
    "\"FASTX\",\n",
    "\"Random\",\n",
    "\"ProgressMeter\",\n",
    "\"Revise\",\n",
    "\"StatsBase\",\n",
    "\"BioAlignments\",\n",
    "\"Statistics\",\n",
    "\"Distances\",\n",
    "\"LSHFunctions\"\n",
    "]\n",
    "\n",
    "import Pkg\n",
    "Pkg.add(pkgs)\n",
    "for pkg in pkgs\n",
    "    eval(Meta.parse(\"import $(basename(pkg))\"))\n",
    "end\n",
    "\n",
    "import Mycelia"
   ]
  },
  {
   "cell_type": "code",
   "execution_count": 72,
   "metadata": {},
   "outputs": [
    {
     "data": {
      "text/plain": [
       "graph_to_kmers (generic function with 1 method)"
      ]
     },
     "execution_count": 72,
     "metadata": {},
     "output_type": "execute_result"
    }
   ],
   "source": [
    "function graph_to_kmers(g)\n",
    "    kmers = [g.vprops[v][:kmer] for v in Graphs.vertices(g)]\n",
    "    return kmers\n",
    "end"
   ]
  },
  {
   "cell_type": "code",
   "execution_count": 75,
   "metadata": {},
   "outputs": [
    {
     "data": {
      "text/plain": [
       "graph_to_edge_sequences (generic function with 1 method)"
      ]
     },
     "execution_count": 75,
     "metadata": {},
     "output_type": "execute_result"
    }
   ],
   "source": [
    "function graph_to_edge_sequences(g)\n",
    "    edges = Set{BioSequences.BigDNAMer{g.gprops[:k]+1}}()\n",
    "    for edge in Graphs.edges(g)\n",
    "        src_kmer = g.vprops[edge.src][:kmer]\n",
    "        dst_kmer = g.vprops[edge.dst][:kmer]\n",
    "        for orientation in g.eprops[edge][:orientations]\n",
    "            if orientation.source_orientation\n",
    "                oriented_src_kmer = src_kmer\n",
    "            else\n",
    "                oriented_src_kmer = BioSequences.reverse_complement(src_kmer)\n",
    "            end\n",
    "            if orientation.destination_orientation\n",
    "                oriented_dst_kmer = dst_kmer\n",
    "            else\n",
    "                oriented_dst_kmer = BioSequences.reverse_complement(dst_kmer)\n",
    "            end\n",
    "            for i in 1:g.gprops[:k]-1\n",
    "                @assert oriented_src_kmer[i+1] == oriented_dst_kmer[i]\n",
    "            end\n",
    "            edge_mer = BioSequences.BigDNAMer((nuc for nuc in oriented_src_kmer)..., last(oriented_dst_kmer))\n",
    "            push!(edges, BioSequences.canonical(edge_mer))\n",
    "        end\n",
    "    end\n",
    "    return edges\n",
    "end"
   ]
  },
  {
   "cell_type": "code",
   "execution_count": 73,
   "metadata": {},
   "outputs": [
    {
     "data": {
      "text/plain": [
       "kmer_graph_distances (generic function with 1 method)"
      ]
     },
     "execution_count": 73,
     "metadata": {},
     "output_type": "execute_result"
    }
   ],
   "source": [
    "function kmer_graph_distances(g1, g2)\n",
    "    g1_kmers = Set(graph_to_kmers(g1))\n",
    "    g1_edges = graph_to_edge_sequences(g1)\n",
    "    \n",
    "    g2_kmers = Set(graph_to_kmers(g2))\n",
    "    g2_edges = graph_to_edge_sequences(g2)\n",
    "    \n",
    "    kmer_distance = 1 - LSHFunctions.jaccard(g1_kmers, g2_kmers)\n",
    "    edge_distance = 1 - LSHFunctions.jaccard(g1_edges, g2_edges)\n",
    "    \n",
    "    result = (\n",
    "        kmer_distance = kmer_distance,\n",
    "        edge_distance = edge_distance\n",
    "    )\n",
    "end"
   ]
  },
  {
   "cell_type": "code",
   "execution_count": 3,
   "metadata": {},
   "outputs": [
    {
     "data": {
      "text/plain": [
       "MersenneTwister(0)"
      ]
     },
     "execution_count": 3,
     "metadata": {},
     "output_type": "execute_result"
    }
   ],
   "source": [
    "# set a random seed\n",
    "seed = Random.seed!(0)"
   ]
  },
  {
   "cell_type": "code",
   "execution_count": 4,
   "metadata": {},
   "outputs": [
    {
     "data": {
      "text/plain": [
       "100nt DNA Sequence:\n",
       "AAGGGTGCGGTCTAGGTGCACTGCTTATGGTCCCCGACA…TCTACCTCTTTGTTGAAACGTATTCTTCTCTTAACACCT"
      ]
     },
     "execution_count": 4,
     "metadata": {},
     "output_type": "execute_result"
    }
   ],
   "source": [
    "# randomly generate a dna sequence of 100bp\n",
    "genome = BioSequences.randdnaseq(seed, 100)"
   ]
  },
  {
   "cell_type": "code",
   "execution_count": 29,
   "metadata": {},
   "outputs": [
    {
     "data": {
      "text/plain": [
       "0.01"
      ]
     },
     "execution_count": 29,
     "metadata": {},
     "output_type": "execute_result"
    }
   ],
   "source": [
    "# define error rate\n",
    "error_rate = 0.01"
   ]
  },
  {
   "cell_type": "code",
   "execution_count": 30,
   "metadata": {},
   "outputs": [],
   "source": [
    "# generate 100x coverage fastq file\n",
    "# put accuracy rate into fastq file\n",
    "coverage = 10\n",
    "fastq_file = \"$(DIR)/$(DATE)-$(TASK).fastq\"\n",
    "error_free_fastq_file = \"$(DIR)/$(DATE)-$(TASK).error-free.fastq\"\n",
    "\n",
    "fastq_io = FASTX.FASTQ.Writer(open(fastq_file, \"w\"))\n",
    "error_free_fastq_io = FASTX.FASTQ.Writer(open(error_free_fastq_file, \"w\"))\n",
    "for i in 1:coverage\n",
    "    true_sequence = Mycelia.observe(genome, error_rate=0.0)\n",
    "    quality_scores = fill(60, length(true_sequence))\n",
    "    error_free_fastq_record = FASTX.FASTQ.Record(\"i\", true_sequence, quality_scores)\n",
    "    write(error_free_fastq_io, error_free_fastq_record)\n",
    "    \n",
    "    observed_sequence = Mycelia.observe(genome, error_rate=error_rate)\n",
    "    q = -10 * log10(error_rate)\n",
    "    quality_scores = fill(q, length(observed_sequence))\n",
    "    fastq_record = FASTX.FASTQ.Record(\"i\", observed_sequence, quality_scores)\n",
    "    write(fastq_io, fastq_record)\n",
    "end\n",
    "close(fastq_io)\n",
    "close(error_free_fastq_io)"
   ]
  },
  {
   "cell_type": "code",
   "execution_count": 31,
   "metadata": {},
   "outputs": [
    {
     "data": {
      "text/plain": [
       "11"
      ]
     },
     "execution_count": 31,
     "metadata": {},
     "output_type": "execute_result"
    }
   ],
   "source": [
    "k = 11"
   ]
  },
  {
   "cell_type": "code",
   "execution_count": 32,
   "metadata": {},
   "outputs": [
    {
     "data": {
      "text/plain": [
       "BioSequences.BigDNAMer{11} (alias for BioSequences.BigMer{BioSequences.DNAAlphabet{2}, 11})"
      ]
     },
     "execution_count": 32,
     "metadata": {},
     "output_type": "execute_result"
    }
   ],
   "source": [
    "kmer_type = BioSequences.BigDNAMer{k}"
   ]
  },
  {
   "cell_type": "code",
   "execution_count": 33,
   "metadata": {},
   "outputs": [
    {
     "name": "stderr",
     "output_type": "stream",
     "text": [
      "┌ Info: creating graph\n",
      "└ @ Mycelia /Users/cameronprybol/.julia/dev/Mycelia/src/Mycelia.jl:2957\n"
     ]
    },
    {
     "data": {
      "text/plain": [
       "{182, 376} directed Int64 metagraph with Float64 weights defined by :weight (default weight 1.0)"
      ]
     },
     "execution_count": 33,
     "metadata": {},
     "output_type": "execute_result"
    }
   ],
   "source": [
    "simple_kmer_graph = Mycelia.fastx_to_simple_kmer_graph(kmer_type, fastq_file)"
   ]
  },
  {
   "cell_type": "code",
   "execution_count": 34,
   "metadata": {},
   "outputs": [
    {
     "data": {
      "text/plain": [
       "\"/Users/cameronprybol/2021-06-26-assess-reconstruction-accuracy/2021-06-26-assess-reconstruction-accuracy.fastq.k-11.gfa\""
      ]
     },
     "execution_count": 34,
     "metadata": {},
     "output_type": "execute_result"
    }
   ],
   "source": [
    "# visualize\n",
    "gfa_file = fastq_file * \".k-$k.gfa\"\n",
    "Mycelia.graph_to_gfa(simple_kmer_graph, gfa_file)"
   ]
  },
  {
   "cell_type": "code",
   "execution_count": 35,
   "metadata": {},
   "outputs": [
    {
     "data": {
      "text/plain": [
       "Process(`\u001b[4m/Applications/Bandage.app/Contents/MacOS/Bandage\u001b[24m \u001b[4mimage\u001b[24m \u001b[4m/Users/cameronprybol/2021-06-26-assess-reconstruction-accuracy/2021-06-26-assess-reconstruction-accuracy.fastq.k-11.gfa\u001b[24m \u001b[4m/Users/cameronprybol/2021-06-26-assess-reconstruction-accuracy/2021-06-26-assess-reconstruction-accuracy.fastq.k-11.gfa.svg\u001b[24m \u001b[4m--depwidth\u001b[24m \u001b[4m1\u001b[24m \u001b[4m--deppower\u001b[24m \u001b[4m1\u001b[24m`, ProcessExited(0))"
      ]
     },
     "execution_count": 35,
     "metadata": {},
     "output_type": "execute_result"
    }
   ],
   "source": [
    "run(`/Applications/Bandage.app/Contents/MacOS/Bandage image $(gfa_file) $(gfa_file).svg --depwidth 1 --deppower 1`)\n",
    "# --nodewidth <float> Average node width (0.5 to 1000, default: 5)\n",
    "# --depwidth <float>  Depth effect on width (0 to 1, default: 0.5)\n",
    "# --deppower <float>  Power of depth effect on width (0 to 1, default: 0.5)"
   ]
  },
  {
   "cell_type": "code",
   "execution_count": 36,
   "metadata": {},
   "outputs": [
    {
     "data": {
      "text/plain": [
       "\"./../../../../2021-06-26-assess-reconstruction-accuracy/2021-06-26-assess-reconstruction-accuracy.fastq.k-11.gfa.svg\""
      ]
     },
     "execution_count": 36,
     "metadata": {},
     "output_type": "execute_result"
    }
   ],
   "source": [
    "html_path_to_svg = \"./\" * repeat(\"../\", length(split(pwd(), '/')) - 3)\n",
    "html_path_to_svg *= replace(\"$(gfa_file).svg\", \"$(homedir())/\" => \"\")"
   ]
  },
  {
   "cell_type": "code",
   "execution_count": 37,
   "metadata": {},
   "outputs": [
    {
     "data": {
      "text/html": [
       "<img src=./../../../../2021-06-26-assess-reconstruction-accuracy/2021-06-26-assess-reconstruction-accuracy.fastq.k-11.gfa.svg>"
      ]
     },
     "metadata": {},
     "output_type": "display_data"
    }
   ],
   "source": [
    "x = display(\"text/html\", \"<img src=$(html_path_to_svg)>\")"
   ]
  },
  {
   "cell_type": "code",
   "execution_count": 38,
   "metadata": {},
   "outputs": [
    {
     "name": "stdout",
     "output_type": "stream",
     "text": [
      "  0.018819 seconds (66.59 k allocations: 6.934 MiB)\n"
     ]
    },
    {
     "data": {
      "text/plain": [
       "\"/Users/cameronprybol/2021-06-26-assess-reconstruction-accuracy/2021-06-26-assess-reconstruction-accuracy.k11.d3.fastq\""
      ]
     },
     "execution_count": 38,
     "metadata": {},
     "output_type": "execute_result"
    }
   ],
   "source": [
    "@time polished_fastq_file = Mycelia.simple_polish_fastq(simple_kmer_graph, fastq_file)"
   ]
  },
  {
   "cell_type": "code",
   "execution_count": 39,
   "metadata": {},
   "outputs": [
    {
     "name": "stderr",
     "output_type": "stream",
     "text": [
      "┌ Info: creating graph\n",
      "└ @ Mycelia /Users/cameronprybol/.julia/dev/Mycelia/src/Mycelia.jl:2957\n"
     ]
    },
    {
     "data": {
      "text/plain": [
       "{90, 178} directed Int64 metagraph with Float64 weights defined by :weight (default weight 1.0)"
      ]
     },
     "execution_count": 39,
     "metadata": {},
     "output_type": "execute_result"
    }
   ],
   "source": [
    "polished_simple_kmer_graph = Mycelia.fastx_to_simple_kmer_graph(kmer_type, polished_fastq_file)"
   ]
  },
  {
   "cell_type": "code",
   "execution_count": 40,
   "metadata": {},
   "outputs": [
    {
     "data": {
      "text/plain": [
       "\"/Users/cameronprybol/2021-06-26-assess-reconstruction-accuracy/2021-06-26-assess-reconstruction-accuracy.k11.d3.fastq.k-11.gfa\""
      ]
     },
     "execution_count": 40,
     "metadata": {},
     "output_type": "execute_result"
    }
   ],
   "source": [
    "# visualize\n",
    "polished_gfa_file = polished_fastq_file * \".k-$k.gfa\"\n",
    "Mycelia.graph_to_gfa(polished_simple_kmer_graph, polished_gfa_file)"
   ]
  },
  {
   "cell_type": "code",
   "execution_count": 41,
   "metadata": {},
   "outputs": [
    {
     "data": {
      "text/plain": [
       "Process(`\u001b[4m/Applications/Bandage.app/Contents/MacOS/Bandage\u001b[24m \u001b[4mimage\u001b[24m \u001b[4m/Users/cameronprybol/2021-06-26-assess-reconstruction-accuracy/2021-06-26-assess-reconstruction-accuracy.k11.d3.fastq.k-11.gfa\u001b[24m \u001b[4m/Users/cameronprybol/2021-06-26-assess-reconstruction-accuracy/2021-06-26-assess-reconstruction-accuracy.k11.d3.fastq.k-11.gfa.svg\u001b[24m \u001b[4m--depwidth\u001b[24m \u001b[4m1\u001b[24m \u001b[4m--deppower\u001b[24m \u001b[4m1\u001b[24m`, ProcessExited(0))"
      ]
     },
     "execution_count": 41,
     "metadata": {},
     "output_type": "execute_result"
    }
   ],
   "source": [
    "run(`/Applications/Bandage.app/Contents/MacOS/Bandage image $(polished_gfa_file) $(polished_gfa_file).svg --depwidth 1 --deppower 1`)\n",
    "# --nodewidth <float> Average node width (0.5 to 1000, default: 5)\n",
    "# --depwidth <float>  Depth effect on width (0 to 1, default: 0.5)\n",
    "# --deppower <float>  Power of depth effect on width (0 to 1, default: 0.5)"
   ]
  },
  {
   "cell_type": "code",
   "execution_count": 42,
   "metadata": {},
   "outputs": [
    {
     "data": {
      "text/plain": [
       "\"./../../../../2021-06-26-assess-reconstruction-accuracy/2021-06-26-assess-reconstruction-accuracy.k11.d3.fastq.k-11.gfa.svg\""
      ]
     },
     "execution_count": 42,
     "metadata": {},
     "output_type": "execute_result"
    }
   ],
   "source": [
    "html_path_to_svg = \"./\" * repeat(\"../\", length(split(pwd(), '/')) - 3)\n",
    "html_path_to_svg *= replace(\"$(polished_gfa_file).svg\", \"$(homedir())/\" => \"\")"
   ]
  },
  {
   "cell_type": "code",
   "execution_count": 43,
   "metadata": {},
   "outputs": [
    {
     "data": {
      "text/html": [
       "<img src=./../../../../2021-06-26-assess-reconstruction-accuracy/2021-06-26-assess-reconstruction-accuracy.k11.d3.fastq.k-11.gfa.svg>"
      ]
     },
     "metadata": {},
     "output_type": "display_data"
    }
   ],
   "source": [
    "x = display(\"text/html\", \"<img src=$(html_path_to_svg)>\")"
   ]
  },
  {
   "cell_type": "code",
   "execution_count": 44,
   "metadata": {},
   "outputs": [
    {
     "name": "stderr",
     "output_type": "stream",
     "text": [
      "┌ Info: creating graph\n",
      "└ @ Mycelia /Users/cameronprybol/.julia/dev/Mycelia/src/Mycelia.jl:2957\n"
     ]
    },
    {
     "data": {
      "text/plain": [
       "{90, 178} directed Int64 metagraph with Float64 weights defined by :weight (default weight 1.0)"
      ]
     },
     "execution_count": 44,
     "metadata": {},
     "output_type": "execute_result"
    }
   ],
   "source": [
    "error_free_simple_kmer_graph = Mycelia.fastx_to_simple_kmer_graph(kmer_type, error_free_fastq_file)"
   ]
  },
  {
   "cell_type": "code",
   "execution_count": 76,
   "metadata": {},
   "outputs": [
    {
     "data": {
      "text/plain": [
       "(kmer_distance = 0.5054945054945055, edge_distance = 0.5265957446808511)"
      ]
     },
     "execution_count": 76,
     "metadata": {},
     "output_type": "execute_result"
    }
   ],
   "source": [
    "kmer_graph_distances(error_free_simple_kmer_graph, simple_kmer_graph)"
   ]
  },
  {
   "cell_type": "code",
   "execution_count": 77,
   "metadata": {},
   "outputs": [
    {
     "data": {
      "text/plain": [
       "(kmer_distance = 0.0, edge_distance = 0.0)"
      ]
     },
     "execution_count": 77,
     "metadata": {},
     "output_type": "execute_result"
    }
   ],
   "source": [
    "kmer_graph_distances(error_free_simple_kmer_graph, polished_simple_kmer_graph)"
   ]
  }
 ],
 "metadata": {
  "kernelspec": {
   "display_name": "Julia 1.6.1",
   "language": "julia",
   "name": "julia-1.6"
  },
  "language_info": {
   "file_extension": ".jl",
   "mimetype": "application/julia",
   "name": "julia",
   "version": "1.6.1"
  }
 },
 "nbformat": 4,
 "nbformat_minor": 4
}
