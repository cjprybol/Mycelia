{
 "cells": [
  {
   "cell_type": "code",
   "execution_count": 1,
   "id": "6ac73c46-51c9-4fea-845f-fb17ce8d83a2",
   "metadata": {},
   "outputs": [
    {
     "data": {
      "text/plain": [
       "\"/home/jovyan/2021-08-25-annealing-correction\""
      ]
     },
     "execution_count": 1,
     "metadata": {},
     "output_type": "execute_result"
    }
   ],
   "source": [
    "DATE = \"2021-08-25\"\n",
    "TASK = \"annealing-correction\"\n",
    "DIR = mkpath(\"$(homedir())/$(DATE)-$(TASK)\")"
   ]
  },
  {
   "cell_type": "code",
   "execution_count": 2,
   "id": "38cb383f-3696-4b4b-a732-9a2059e0681a",
   "metadata": {},
   "outputs": [],
   "source": [
    "import Pkg\n",
    "pkgs = [\n",
    "#     \"BioAlignments\",\n",
    "    \"BioSequences\",\n",
    "    \"Clustering\",\n",
    "#     \"CodecZlib\",\n",
    "#     \"Colors\",\n",
    "#     \"Combinatorics\",\n",
    "    \"DataFrames\",\n",
    "    \"DataStructures\",\n",
    "    \"Dates\",\n",
    "#     \"DelimitedFiles\",\n",
    "    \"Distances\",\n",
    "#     \"EzXML\",\n",
    "    \"FASTX\",\n",
    "#     \"GFF3\",\n",
    "#     \"HTTP\",\n",
    "#     \"Impute\",\n",
    "#     \"JSON\",\n",
    "    \"Graphs\",\n",
    "    \"LSHFunctions\",\n",
    "#     \"Measures\",\n",
    "    \"MetaGraphs\",\n",
    "    \"https://github.com/cjprybol/Mycelia.git\",\n",
    "#     \"NumericIO\",\n",
    "#     \"PlotlyJS\",\n",
    "#     \"Plots\",\n",
    "    \"Primes\",\n",
    "#     \"Printf\",\n",
    "    \"ProgressMeter\",\n",
    "    \"Random\",\n",
    "    \"Revise\",\n",
    "    \"SparseArrays\",\n",
    "    \"Statistics\",\n",
    "    \"StatsBase\",\n",
    "    \"StatsPlots\",\n",
    "#     \"StringDistances\",\n",
    "    \"uCSV\",\n",
    "#     \"XLSX\",\n",
    "]\n",
    "\n",
    "unregistered_packages = filter(pkg -> occursin(r\"(^https|git$)\", pkg), pkgs)\n",
    "registered_packages = setdiff(pkgs, unregistered_packages)\n",
    "\n",
    "for pkg in registered_packages\n",
    "    try\n",
    "        eval(Meta.parse(\"import $(pkg)\"))\n",
    "    catch\n",
    "        Pkg.add(pkg)\n",
    "        Pkg.build(pkg)\n",
    "        eval(Meta.parse(\"import $(pkg)\"))\n",
    "    end\n",
    "end\n",
    "\n",
    "for pkg_url in unregistered_packages\n",
    "    pkg_name = replace(basename(pkg_url), \".git\" => \"\")\n",
    "    try\n",
    "        eval(Meta.parse(\"import $(pkg_name)\"))\n",
    "    catch\n",
    "        Pkg.develop(url=pkg_url)\n",
    "        Pkg.build(pkg_name)\n",
    "        eval(Meta.parse(\"import $(pkg_name)\"))\n",
    "    end\n",
    "end"
   ]
  },
  {
   "cell_type": "code",
   "execution_count": 3,
   "id": "9f9307c7-1b35-4283-b1cb-adc87dc05f20",
   "metadata": {},
   "outputs": [
    {
     "data": {
      "text/plain": [
       "\"Bandage\""
      ]
     },
     "execution_count": 3,
     "metadata": {},
     "output_type": "execute_result"
    }
   ],
   "source": [
    "if Sys.isapple()\n",
    "    BANDAGE = \"/Applications/Bandage.app/Contents/MacOS/Bandage\"\n",
    "else\n",
    "    BANDAGE = \"Bandage\"\n",
    "end"
   ]
  },
  {
   "cell_type": "code",
   "execution_count": 4,
   "id": "8824e5f4-fcd5-4d3d-b77c-9d1086788677",
   "metadata": {},
   "outputs": [
    {
     "data": {
      "text/plain": [
       "assess_kmer_sparsity_in_reads (generic function with 1 method)"
      ]
     },
     "execution_count": 4,
     "metadata": {},
     "output_type": "execute_result"
    }
   ],
   "source": [
    "function assess_kmer_sparsity_in_reads(k, observations)\n",
    "    canonical_kmer_counts = Mycelia.count_canonical_kmers(BioSequences.DNAMer{k}, observations)\n",
    "    total_observed_canonical_kmers = length(keys(canonical_kmer_counts))\n",
    "    total_possible_canonical_kmers = (4^k)/2\n",
    "    sparsity = round(total_observed_canonical_kmers/total_possible_canonical_kmers*100, sigdigits=3)\n",
    "    return sparsity\n",
    "end"
   ]
  },
  {
   "cell_type": "code",
   "execution_count": 5,
   "id": "148b6939-0508-487c-91d1-94da6aa1409e",
   "metadata": {},
   "outputs": [
    {
     "data": {
      "text/plain": [
       "sequence_to_canonical_kmers (generic function with 1 method)"
      ]
     },
     "execution_count": 5,
     "metadata": {},
     "output_type": "execute_result"
    }
   ],
   "source": [
    "function sequence_to_canonical_kmers(kmer_type, sequence)\n",
    "    return (BioSequences.canonical(kmer.fw) for kmer in BioSequences.each(kmer_type, sequence))\n",
    "end"
   ]
  },
  {
   "cell_type": "code",
   "execution_count": 6,
   "id": "02e895c2-a0a6-40c6-841c-ebbf274c0a47",
   "metadata": {},
   "outputs": [
    {
     "data": {
      "text/plain": [
       "determine_edge_weights (generic function with 1 method)"
      ]
     },
     "execution_count": 6,
     "metadata": {},
     "output_type": "execute_result"
    }
   ],
   "source": [
    "function determine_edge_weights(graph)\n",
    "    outgoing_edge_probabilities = determine_edge_weights(graph, true)\n",
    "    incoming_edge_probabilities = determine_edge_weights(graph, false)\n",
    "    return Dict(true => outgoing_edge_probabilities, false => incoming_edge_probabilities)\n",
    "end"
   ]
  },
  {
   "cell_type": "code",
   "execution_count": 7,
   "id": "6212dc49-005c-40f9-8922-b80b3971c004",
   "metadata": {},
   "outputs": [
    {
     "data": {
      "text/plain": [
       "determine_edge_weights (generic function with 2 methods)"
      ]
     },
     "execution_count": 7,
     "metadata": {},
     "output_type": "execute_result"
    }
   ],
   "source": [
    "function determine_edge_weights(graph, strand)\n",
    "    kmers = [graph.vprops[v][:kmer] for v in Graphs.vertices(graph)]\n",
    "    outgoing_edge_weights = SparseArrays.spzeros(length(kmers), length(kmers))\n",
    "    \n",
    "    for (kmer_index, kmer) in enumerate(kmers)\n",
    "        if !strand\n",
    "            kmer = BioSequences.reverse_complement(kmer)\n",
    "        end\n",
    "        \n",
    "        downstream_neighbors = []\n",
    "        downstream_neighbor_weights = []\n",
    "        for neighbor in BioSequences.neighbors(kmer)\n",
    "            canonical_neighbor = BioSequences.canonical(neighbor)\n",
    "            neighbor_orientation = neighbor == canonical_neighbor\n",
    "            \n",
    "            neighbor_index_range = searchsorted(kmers, canonical_neighbor)\n",
    "            if !isempty(neighbor_index_range)\n",
    "                @assert length(neighbor_index_range) == 1\n",
    "                neighbor_index = first(neighbor_index_range)\n",
    "                if Graphs.has_edge(graph, Graphs.Edge(kmer_index, neighbor_index))\n",
    "                    edge_orientations = graph.eprops[Graphs.Edge(kmer_index, neighbor_index)][:orientations]\n",
    "                    this_edge_orientation = (source_orientation = strand, destination_orientation = neighbor_orientation)\n",
    "                    if this_edge_orientation in edge_orientations\n",
    "                        edge_weight = graph.eprops[Graphs.Edge(kmer_index, neighbor_index)][:weight]\n",
    "                        outgoing_edge_weights[kmer_index, neighbor_index] = edge_weight\n",
    "                    end\n",
    "                end\n",
    "            end\n",
    "        end\n",
    "    end\n",
    "    return outgoing_edge_weights\n",
    "end"
   ]
  },
  {
   "cell_type": "code",
   "execution_count": 8,
   "id": "33ffd192-f852-43e8-8eb1-3c19f5fe6141",
   "metadata": {},
   "outputs": [
    {
     "data": {
      "text/plain": [
       "determine_edge_probabilities (generic function with 1 method)"
      ]
     },
     "execution_count": 8,
     "metadata": {},
     "output_type": "execute_result"
    }
   ],
   "source": [
    "function determine_edge_probabilities(edge_weights)\n",
    "    edge_probabilities = deepcopy(edge_weights)\n",
    "    for orientation in [true, false]\n",
    "        for row in 1:size(edge_probabilities[orientation], 1)\n",
    "            edge_weights = edge_probabilities[orientation][row, :]\n",
    "            edge_total = sum(edge_weights)\n",
    "            for (col, edge_weight) in enumerate(edge_weights)\n",
    "                if edge_total > 0\n",
    "                    edge_probabilities[orientation][row, col] = edge_weight/edge_total\n",
    "                else\n",
    "                    edge_probabilities[orientation][row, col] = 0.0\n",
    "                end\n",
    "            end\n",
    "        end\n",
    "    end\n",
    "    return edge_probabilities\n",
    "end"
   ]
  },
  {
   "cell_type": "code",
   "execution_count": 9,
   "id": "94750a47-abaa-48ac-9c0e-e7422260ec26",
   "metadata": {},
   "outputs": [
    {
     "data": {
      "text/plain": [
       "random_step (generic function with 1 method)"
      ]
     },
     "execution_count": 9,
     "metadata": {},
     "output_type": "execute_result"
    }
   ],
   "source": [
    "function random_step(current_vertex, current_orientation, step_probabilities)\n",
    "    outgoing_edge_likelihoods = step_probabilities[initial_orientation][current_vertex, :]\n",
    "    chosen_step = StatsBase.sample(outgoing_edge_likelihoods.nzind, StatsBase.weights(outgoing_edge_likelihoods.nzval))\n",
    "    possible_orientations = observation_graph.eprops[Graphs.Edge(current_vertex, chosen_step)][:orientations]\n",
    "    possible_orientations = filter(o -> o.source_orientation == current_orientation, possible_orientations)\n",
    "    chosen_orientation = rand(possible_orientations).destination_orientation\n",
    "    chosen_oriented_step = (vertex = chosen_step, orientation = chosen_orientation)\n",
    "    return chosen_oriented_step\n",
    "end"
   ]
  },
  {
   "cell_type": "code",
   "execution_count": 10,
   "id": "1ed368e8-bbee-4634-ac66-af3203e5fb11",
   "metadata": {},
   "outputs": [
    {
     "data": {
      "text/plain": [
       "random_walk (generic function with 1 method)"
      ]
     },
     "execution_count": 10,
     "metadata": {},
     "output_type": "execute_result"
    }
   ],
   "source": [
    "function random_walk(observation_graph, initial_vertex, initial_orientation, step_probabilities; n_steps=size(step_probabilities[true], 1))\n",
    "    step_count = 0\n",
    "    outgoing_edge_likelihoods = step_probabilities[initial_orientation][initial_vertex, :]\n",
    "    walk = Vector{NamedTuple{(:vertex, :orientation), Tuple{Int64, Bool}}}()\n",
    "    done = (step_count >= n_steps) || (sum(outgoing_edge_likelihoods) == 0)\n",
    "    current_vertex = initial_vertex\n",
    "    current_orientation = initial_orientation\n",
    "    while !done\n",
    "#         @show \"choosing\"\n",
    "        chosen_step = StatsBase.sample(outgoing_edge_likelihoods.nzind, StatsBase.weights(outgoing_edge_likelihoods.nzval))\n",
    "        chosen_step\n",
    "        possible_orientations = observation_graph.eprops[Graphs.Edge(current_vertex, chosen_step)][:orientations]\n",
    "        possible_orientations\n",
    "        current_orientation\n",
    "        possible_orientations = filter(o -> o.source_orientation == current_orientation, possible_orientations)\n",
    "        possible_orientations\n",
    "        chosen_orientation = rand(possible_orientations).destination_orientation\n",
    "        chosen_oriented_step = (vertex = chosen_step, orientation = chosen_orientation)\n",
    "        push!(walk, chosen_oriented_step)\n",
    "        current_vertex = chosen_step\n",
    "        current_orientation = chosen_orientation\n",
    "        outgoing_edge_likelihoods = step_probabilities[last(walk).orientation][last(walk).vertex, :]\n",
    "        step_count += 1\n",
    "#         @show outgoing_edge_likelihoods\n",
    "        done = (step_count >= n_steps) || (sum(outgoing_edge_likelihoods) == 0)\n",
    "    end\n",
    "    return walk\n",
    "end"
   ]
  },
  {
   "cell_type": "code",
   "execution_count": 11,
   "id": "dcc17389-87ef-4620-bf35-7a7a17ac25b2",
   "metadata": {},
   "outputs": [
    {
     "data": {
      "text/plain": [
       "mer_to_vertex_and_orientation (generic function with 1 method)"
      ]
     },
     "execution_count": 11,
     "metadata": {},
     "output_type": "execute_result"
    }
   ],
   "source": [
    "function mer_to_vertex_and_orientation(kmers, mer)\n",
    "    canonical_mer = min(mer.fw, mer.bw)\n",
    "    orientation = canonical_mer == mer.fw\n",
    "    canonical_mer_index_range = searchsorted(kmers, canonical_mer)\n",
    "    @assert length(canonical_mer_index_range) == 1\n",
    "    canonical_mer_index = first(canonical_mer_index_range)\n",
    "    return (vertex = canonical_mer_index, orientation = orientation)\n",
    "end"
   ]
  },
  {
   "cell_type": "code",
   "execution_count": 204,
   "id": "8625f9e3-c5f7-4db3-910a-1cf6087d4f33",
   "metadata": {},
   "outputs": [
    {
     "data": {
      "text/plain": [
       "take_a_step (generic function with 1 method)"
      ]
     },
     "execution_count": 204,
     "metadata": {},
     "output_type": "execute_result"
    }
   ],
   "source": [
    "function take_a_step(current_mer, step)\n",
    "    vertex = step.dst\n",
    "    possible_orientations = filter(o -> o.source_orientation == current_mer.orientation, observation_graph.eprops[step][:orientations])\n",
    "    if length(possible_orientations) > 1\n",
    "        @warn \"multiple possible orientations\"\n",
    "    end\n",
    "    orientation = first(possible_orientations).destination_orientation\n",
    "    current_mer = (vertex = vertex, orientation = orientation)\n",
    "    return current_mer\n",
    "end"
   ]
  },
  {
   "cell_type": "code",
   "execution_count": 216,
   "id": "d54736c9-822b-428d-b6e1-c84c33ea2fd3",
   "metadata": {},
   "outputs": [],
   "source": [
    "# km = vmax/2 = optimal number of reads\n",
    "# slope is less than 10%?"
   ]
  },
  {
   "cell_type": "code",
   "execution_count": 217,
   "id": "03bc3ce0-24b7-4f8b-a90a-050b61c211e5",
   "metadata": {},
   "outputs": [],
   "source": [
    "# generate genomes\n",
    "fasta_records = []\n",
    "sequence_lengths = [100]\n",
    "weights = [1]\n",
    "for (sequence_length, depth) in zip(sequence_lengths, weights)\n",
    "    sequence = BioSequences.randdnaseq(Random.seed!(sequence_length), sequence_length)\n",
    "    sequence_id = string(hash(sequence))\n",
    "    description = string(depth)\n",
    "    fasta_record = FASTX.FASTA.Record(sequence_id, description, sequence)\n",
    "    push!(fasta_records, fasta_record)\n",
    "end"
   ]
  },
  {
   "cell_type": "code",
   "execution_count": 218,
   "id": "6b67def7-76e6-4227-a0de-f34d6d3173f5",
   "metadata": {},
   "outputs": [],
   "source": [
    "file_basename = join([\"L-$(length(FASTX.sequence(record)))\" for record in fasta_records], '_')\n",
    "reference_fasta_file = \"$(DIR)/$(file_basename).fasta\"\n",
    "open(reference_fasta_file, \"w\") do io\n",
    "    fastx_io = FASTX.FASTA.Writer(io)\n",
    "    for fasta_record in fasta_records\n",
    "        write(fastx_io, fasta_record)\n",
    "    end\n",
    "    close(fastx_io)\n",
    "end"
   ]
  },
  {
   "cell_type": "code",
   "execution_count": 219,
   "id": "4ad0d8c4-641b-4872-8c16-57fc2ce80cde",
   "metadata": {},
   "outputs": [
    {
     "data": {
      "text/plain": [
       "10000"
      ]
     },
     "execution_count": 219,
     "metadata": {},
     "output_type": "execute_result"
    }
   ],
   "source": [
    "# randomly sample reads with errors from the genome\n",
    "error_rate = 0.01\n",
    "n_reads = 10_000"
   ]
  },
  {
   "cell_type": "code",
   "execution_count": 220,
   "id": "12866bef-c905-47b4-8451-3014aa5291b3",
   "metadata": {},
   "outputs": [],
   "source": [
    "observations = [Mycelia.observe(StatsBase.sample(fasta_records, StatsBase.Weights(weights)), error_rate = error_rate) for i in 1:n_reads];"
   ]
  },
  {
   "cell_type": "code",
   "execution_count": 221,
   "id": "d0d65fbf-8343-4a15-9266-6acbd0690d57",
   "metadata": {},
   "outputs": [],
   "source": [
    "# determine distribution of read lengths"
   ]
  },
  {
   "cell_type": "code",
   "execution_count": 222,
   "id": "65ede45b-ac03-4b73-89a9-10bee08d1731",
   "metadata": {},
   "outputs": [
    {
     "data": {
      "text/plain": [
       "10000-element Vector{Int64}:\n",
       "  95\n",
       "  96\n",
       "  97\n",
       "  97\n",
       "  97\n",
       "  97\n",
       "  97\n",
       "  97\n",
       "  97\n",
       "  97\n",
       "  97\n",
       "  97\n",
       "  97\n",
       "   ⋮\n",
       " 103\n",
       " 103\n",
       " 103\n",
       " 103\n",
       " 103\n",
       " 103\n",
       " 104\n",
       " 104\n",
       " 104\n",
       " 104\n",
       " 104\n",
       " 104"
      ]
     },
     "execution_count": 222,
     "metadata": {},
     "output_type": "execute_result"
    }
   ],
   "source": [
    "sorted_read_lengths = sort(length.(FASTX.sequence.(observations)))"
   ]
  },
  {
   "cell_type": "code",
   "execution_count": 223,
   "id": "02faac4d-0f76-46cc-8d83-1a9a2e5499cc",
   "metadata": {},
   "outputs": [
    {
     "data": {
      "text/plain": [
       "98"
      ]
     },
     "execution_count": 223,
     "metadata": {},
     "output_type": "execute_result"
    }
   ],
   "source": [
    "first_percentile_read_length = sorted_read_lengths[Int(round(length(sorted_read_lengths) * .01))]"
   ]
  },
  {
   "cell_type": "code",
   "execution_count": 224,
   "id": "a4085a37-0a1b-4a8c-9115-9baf8882b5e0",
   "metadata": {},
   "outputs": [
    {
     "name": "stdout",
     "output_type": "stream",
     "text": [
      "(k, sparsity) = (5, 99.8)\n",
      "(k, sparsity) = (7, 45.4)\n",
      "(k, sparsity) = (11, 0.451)\n",
      "k = 11\n"
     ]
    },
    {
     "data": {
      "text/plain": [
       "11"
      ]
     },
     "execution_count": 224,
     "metadata": {},
     "output_type": "execute_result"
    }
   ],
   "source": [
    "# determine optimal k\n",
    "min_k = min(5, first_percentile_read_length)\n",
    "max_k = min(61, first_percentile_read_length)\n",
    "k_options = Primes.primes(min_k, max_k)\n",
    "# sparsity_threshold = 0.01\n",
    "# sparsity_threshold = 0.1\n",
    "# sparsity_threshold = 1\n",
    "sparsity_threshold = 10\n",
    "# sparsity_threshold = 50\n",
    "k_index = nothing\n",
    "for (i, k) in enumerate(k_options)\n",
    "    sparsity = assess_kmer_sparsity_in_reads(k, observations)\n",
    "    @show k, sparsity\n",
    "    if sparsity < sparsity_threshold\n",
    "        k_index = i\n",
    "        break\n",
    "    end\n",
    "end\n",
    "# k_index = findfirst(k -> assess_kmer_sparsity_in_reads(k, observations) <= sparsity_threshold, k_options)\n",
    "if k_index == nothing\n",
    "    k = k_options[end]\n",
    "else\n",
    "    k = k_options[k_index]\n",
    "end\n",
    "@show k"
   ]
  },
  {
   "cell_type": "code",
   "execution_count": 225,
   "id": "14964bd9-c1b2-469c-92cc-c467b631358b",
   "metadata": {},
   "outputs": [],
   "source": [
    "observations_file = \"$(DIR)/$(file_basename)-DEPTH-$(n_reads).fastq\"\n",
    "open(observations_file, \"w\") do io\n",
    "    fastq_io = FASTX.FASTQ.Writer(io)\n",
    "    for record in observations\n",
    "        write(fastq_io, record)\n",
    "    end\n",
    "    close(fastq_io)\n",
    "end"
   ]
  },
  {
   "cell_type": "markdown",
   "id": "5884b85a-bc25-44a0-b6f4-fe938758f824",
   "metadata": {},
   "source": [
    "# Begin graph resolving of observation graph"
   ]
  },
  {
   "cell_type": "code",
   "execution_count": 226,
   "id": "351d47d9-a8c9-4a7a-8d47-9b604bdb7f41",
   "metadata": {},
   "outputs": [],
   "source": [
    "# assess kmer counts"
   ]
  },
  {
   "cell_type": "code",
   "execution_count": 227,
   "id": "d4c4ee10-d428-4aa4-a71e-9c610339ff28",
   "metadata": {},
   "outputs": [],
   "source": [
    "# fit linear trendline to kmer counts"
   ]
  },
  {
   "cell_type": "code",
   "execution_count": 228,
   "id": "41e1f331-25ba-4ac5-a282-07894c5c8bd4",
   "metadata": {},
   "outputs": [],
   "source": [
    "# apply thresholding when constructing kmer graph at the trendline"
   ]
  },
  {
   "cell_type": "code",
   "execution_count": 229,
   "id": "7764dfed-7461-42d0-b4bc-ec7de4f173c9",
   "metadata": {},
   "outputs": [],
   "source": [
    "kmer_counts = Mycelia.count_canonical_kmers(BioSequences.DNAMer{k}, observations_file);"
   ]
  },
  {
   "cell_type": "code",
   "execution_count": 230,
   "id": "f9bed7a0-5849-45bf-8ecc-ca64c09dcdf2",
   "metadata": {},
   "outputs": [],
   "source": [
    "kmer_counts_histogram = sort(collect(StatsBase.countmap(values(kmer_counts))), by=x->x[1]);"
   ]
  },
  {
   "cell_type": "markdown",
   "id": "2f78056b-503a-4bcf-895f-32376b0958bc",
   "metadata": {},
   "source": [
    "# Fit error cluster"
   ]
  },
  {
   "cell_type": "code",
   "execution_count": 231,
   "id": "7820b30b-d290-4f69-82db-358b01df0a97",
   "metadata": {},
   "outputs": [],
   "source": [
    "kmer_depth_of_coverage_bins = log2.(first.(kmer_counts_histogram));"
   ]
  },
  {
   "cell_type": "code",
   "execution_count": 232,
   "id": "1013438f-d6d3-4627-aa5a-606623a4ae48",
   "metadata": {},
   "outputs": [],
   "source": [
    "distance_matrix = zeros((length(kmer_depth_of_coverage_bins), length(kmer_depth_of_coverage_bins)))\n",
    "for (row, depth_of_coverage_bin_1) in enumerate(kmer_depth_of_coverage_bins)\n",
    "    for (col, depth_of_coverage_bin_2) in enumerate(kmer_depth_of_coverage_bins)\n",
    "        distance = abs(depth_of_coverage_bin_1 - depth_of_coverage_bin_2)\n",
    "        distance_matrix[row, col] = distance\n",
    "    end\n",
    "end\n",
    "distance_matrix;"
   ]
  },
  {
   "cell_type": "code",
   "execution_count": 233,
   "id": "d1fc1ca1-c020-4ce3-9779-341c1ad3ca07",
   "metadata": {},
   "outputs": [],
   "source": [
    "ks = Primes.primes(2, 17)\n",
    "ys = map(k ->\n",
    "            Statistics.mean(Statistics.mean(Clustering.silhouettes(Clustering.kmedoids(distance_matrix, k), distance_matrix)) for i in 1:100),\n",
    "            ks);"
   ]
  },
  {
   "cell_type": "code",
   "execution_count": 234,
   "id": "3228add3-90e3-4081-bddc-92ab31d14682",
   "metadata": {},
   "outputs": [
    {
     "data": {
      "image/svg+xml": [
       "<?xml version=\"1.0\" encoding=\"utf-8\"?>\n",
       "<svg xmlns=\"http://www.w3.org/2000/svg\" xmlns:xlink=\"http://www.w3.org/1999/xlink\" width=\"600\" height=\"400\" viewBox=\"0 0 2400 1600\">\n",
       "<defs>\n",
       "  <clipPath id=\"clip770\">\n",
       "    <rect x=\"0\" y=\"0\" width=\"2400\" height=\"1600\"/>\n",
       "  </clipPath>\n",
       "</defs>\n",
       "<path clip-path=\"url(#clip770)\" d=\"\n",
       "M0 1600 L2400 1600 L2400 0 L0 0  Z\n",
       "  \" fill=\"#ffffff\" fill-rule=\"evenodd\" fill-opacity=\"1\"/>\n",
       "<defs>\n",
       "  <clipPath id=\"clip771\">\n",
       "    <rect x=\"480\" y=\"0\" width=\"1681\" height=\"1600\"/>\n",
       "  </clipPath>\n",
       "</defs>\n",
       "<path clip-path=\"url(#clip770)\" d=\"\n",
       "M249.542 1423.18 L2352.76 1423.18 L2352.76 47.2441 L249.542 47.2441  Z\n",
       "  \" fill=\"#ffffff\" fill-rule=\"evenodd\" fill-opacity=\"1\"/>\n",
       "<defs>\n",
       "  <clipPath id=\"clip772\">\n",
       "    <rect x=\"249\" y=\"47\" width=\"2104\" height=\"1377\"/>\n",
       "  </clipPath>\n",
       "</defs>\n",
       "<polyline clip-path=\"url(#clip772)\" style=\"stroke:#000000; stroke-linecap:butt; stroke-linejoin:round; stroke-width:2; stroke-opacity:0.1; fill:none\" points=\"\n",
       "  441.345,1423.18 441.345,47.2441 \n",
       "  \"/>\n",
       "<polyline clip-path=\"url(#clip772)\" style=\"stroke:#000000; stroke-linecap:butt; stroke-linejoin:round; stroke-width:2; stroke-opacity:0.1; fill:none\" points=\"\n",
       "  838.177,1423.18 838.177,47.2441 \n",
       "  \"/>\n",
       "<polyline clip-path=\"url(#clip772)\" style=\"stroke:#000000; stroke-linecap:butt; stroke-linejoin:round; stroke-width:2; stroke-opacity:0.1; fill:none\" points=\"\n",
       "  1235.01,1423.18 1235.01,47.2441 \n",
       "  \"/>\n",
       "<polyline clip-path=\"url(#clip772)\" style=\"stroke:#000000; stroke-linecap:butt; stroke-linejoin:round; stroke-width:2; stroke-opacity:0.1; fill:none\" points=\"\n",
       "  1631.84,1423.18 1631.84,47.2441 \n",
       "  \"/>\n",
       "<polyline clip-path=\"url(#clip772)\" style=\"stroke:#000000; stroke-linecap:butt; stroke-linejoin:round; stroke-width:2; stroke-opacity:0.1; fill:none\" points=\"\n",
       "  2028.68,1423.18 2028.68,47.2441 \n",
       "  \"/>\n",
       "<polyline clip-path=\"url(#clip770)\" style=\"stroke:#000000; stroke-linecap:butt; stroke-linejoin:round; stroke-width:4; stroke-opacity:1; fill:none\" points=\"\n",
       "  249.542,1423.18 2352.76,1423.18 \n",
       "  \"/>\n",
       "<polyline clip-path=\"url(#clip770)\" style=\"stroke:#000000; stroke-linecap:butt; stroke-linejoin:round; stroke-width:4; stroke-opacity:1; fill:none\" points=\"\n",
       "  441.345,1423.18 441.345,1404.28 \n",
       "  \"/>\n",
       "<polyline clip-path=\"url(#clip770)\" style=\"stroke:#000000; stroke-linecap:butt; stroke-linejoin:round; stroke-width:4; stroke-opacity:1; fill:none\" points=\"\n",
       "  838.177,1423.18 838.177,1404.28 \n",
       "  \"/>\n",
       "<polyline clip-path=\"url(#clip770)\" style=\"stroke:#000000; stroke-linecap:butt; stroke-linejoin:round; stroke-width:4; stroke-opacity:1; fill:none\" points=\"\n",
       "  1235.01,1423.18 1235.01,1404.28 \n",
       "  \"/>\n",
       "<polyline clip-path=\"url(#clip770)\" style=\"stroke:#000000; stroke-linecap:butt; stroke-linejoin:round; stroke-width:4; stroke-opacity:1; fill:none\" points=\"\n",
       "  1631.84,1423.18 1631.84,1404.28 \n",
       "  \"/>\n",
       "<polyline clip-path=\"url(#clip770)\" style=\"stroke:#000000; stroke-linecap:butt; stroke-linejoin:round; stroke-width:4; stroke-opacity:1; fill:none\" points=\"\n",
       "  2028.68,1423.18 2028.68,1404.28 \n",
       "  \"/>\n",
       "<path clip-path=\"url(#clip770)\" d=\"M445.592 1465.22 Q448.949 1465.94 450.824 1468.2 Q452.722 1470.47 452.722 1473.81 Q452.722 1478.92 449.203 1481.72 Q445.685 1484.52 439.203 1484.52 Q437.027 1484.52 434.713 1484.08 Q432.421 1483.67 429.967 1482.81 L429.967 1478.3 Q431.912 1479.43 434.227 1480.01 Q436.541 1480.59 439.064 1480.59 Q443.463 1480.59 445.754 1478.85 Q448.069 1477.12 448.069 1473.81 Q448.069 1470.75 445.916 1469.04 Q443.787 1467.3 439.967 1467.3 L435.939 1467.3 L435.939 1463.46 L440.152 1463.46 Q443.601 1463.46 445.43 1462.09 Q447.259 1460.7 447.259 1458.11 Q447.259 1455.45 445.361 1454.04 Q443.486 1452.6 439.967 1452.6 Q438.046 1452.6 435.847 1453.02 Q433.648 1453.44 431.009 1454.31 L431.009 1450.15 Q433.671 1449.41 435.986 1449.04 Q438.324 1448.67 440.384 1448.67 Q445.708 1448.67 448.81 1451.1 Q451.912 1453.5 451.912 1457.63 Q451.912 1460.5 450.268 1462.49 Q448.625 1464.45 445.592 1465.22 Z\" fill=\"#000000\" fill-rule=\"evenodd\" fill-opacity=\"1\" /><path clip-path=\"url(#clip770)\" d=\"M838.582 1464.71 Q835.434 1464.71 833.582 1466.86 Q831.754 1469.01 831.754 1472.76 Q831.754 1476.49 833.582 1478.67 Q835.434 1480.82 838.582 1480.82 Q841.731 1480.82 843.559 1478.67 Q845.411 1476.49 845.411 1472.76 Q845.411 1469.01 843.559 1466.86 Q841.731 1464.71 838.582 1464.71 M847.865 1450.06 L847.865 1454.31 Q846.106 1453.48 844.3 1453.04 Q842.518 1452.6 840.758 1452.6 Q836.129 1452.6 833.675 1455.73 Q831.245 1458.85 830.897 1465.17 Q832.263 1463.16 834.323 1462.09 Q836.383 1461 838.86 1461 Q844.069 1461 847.078 1464.18 Q850.11 1467.32 850.11 1472.76 Q850.11 1478.09 846.962 1481.31 Q843.814 1484.52 838.582 1484.52 Q832.587 1484.52 829.416 1479.94 Q826.245 1475.33 826.245 1466.61 Q826.245 1458.41 830.133 1453.55 Q834.022 1448.67 840.573 1448.67 Q842.332 1448.67 844.115 1449.01 Q845.92 1449.36 847.865 1450.06 Z\" fill=\"#000000\" fill-rule=\"evenodd\" fill-opacity=\"1\" /><path clip-path=\"url(#clip770)\" d=\"M1225.31 1483.13 L1225.31 1478.88 Q1227.07 1479.71 1228.88 1480.15 Q1230.68 1480.59 1232.42 1480.59 Q1237.05 1480.59 1239.48 1477.49 Q1241.93 1474.36 1242.28 1468.02 Q1240.94 1470.01 1238.88 1471.07 Q1236.82 1472.14 1234.32 1472.14 Q1229.13 1472.14 1226.1 1469.01 Q1223.09 1465.87 1223.09 1460.43 Q1223.09 1455.1 1226.24 1451.88 Q1229.39 1448.67 1234.62 1448.67 Q1240.61 1448.67 1243.76 1453.27 Q1246.93 1457.86 1246.93 1466.61 Q1246.93 1474.78 1243.04 1479.66 Q1239.18 1484.52 1232.63 1484.52 Q1230.87 1484.52 1229.06 1484.18 Q1227.26 1483.83 1225.31 1483.13 M1234.62 1468.48 Q1237.76 1468.48 1239.59 1466.33 Q1241.45 1464.18 1241.45 1460.43 Q1241.45 1456.7 1239.59 1454.55 Q1237.76 1452.37 1234.62 1452.37 Q1231.47 1452.37 1229.62 1454.55 Q1227.79 1456.7 1227.79 1460.43 Q1227.79 1464.18 1229.62 1466.33 Q1231.47 1468.48 1234.62 1468.48 Z\" fill=\"#000000\" fill-rule=\"evenodd\" fill-opacity=\"1\" /><path clip-path=\"url(#clip770)\" d=\"M1607.33 1479.92 L1614.97 1479.92 L1614.97 1453.55 L1606.66 1455.22 L1606.66 1450.96 L1614.92 1449.29 L1619.6 1449.29 L1619.6 1479.92 L1627.24 1479.92 L1627.24 1483.85 L1607.33 1483.85 L1607.33 1479.92 Z\" fill=\"#000000\" fill-rule=\"evenodd\" fill-opacity=\"1\" /><path clip-path=\"url(#clip770)\" d=\"M1640.71 1479.92 L1657.03 1479.92 L1657.03 1483.85 L1635.08 1483.85 L1635.08 1479.92 Q1637.75 1477.16 1642.33 1472.53 Q1646.94 1467.88 1648.12 1466.54 Q1650.36 1464.01 1651.24 1462.28 Q1652.14 1460.52 1652.14 1458.83 Q1652.14 1456.07 1650.2 1454.34 Q1648.28 1452.6 1645.18 1452.6 Q1642.98 1452.6 1640.52 1453.37 Q1638.09 1454.13 1635.32 1455.68 L1635.32 1450.96 Q1638.14 1449.82 1640.59 1449.25 Q1643.05 1448.67 1645.08 1448.67 Q1650.45 1448.67 1653.65 1451.35 Q1656.84 1454.04 1656.84 1458.53 Q1656.84 1460.66 1656.03 1462.58 Q1655.25 1464.48 1653.14 1467.07 Q1652.56 1467.74 1649.46 1470.96 Q1646.36 1474.15 1640.71 1479.92 Z\" fill=\"#000000\" fill-rule=\"evenodd\" fill-opacity=\"1\" /><path clip-path=\"url(#clip770)\" d=\"M2003.86 1479.92 L2011.5 1479.92 L2011.5 1453.55 L2003.19 1455.22 L2003.19 1450.96 L2011.45 1449.29 L2016.13 1449.29 L2016.13 1479.92 L2023.77 1479.92 L2023.77 1483.85 L2003.86 1483.85 L2003.86 1479.92 Z\" fill=\"#000000\" fill-rule=\"evenodd\" fill-opacity=\"1\" /><path clip-path=\"url(#clip770)\" d=\"M2033.26 1449.29 L2051.62 1449.29 L2051.62 1453.23 L2037.54 1453.23 L2037.54 1461.7 Q2038.56 1461.35 2039.58 1461.19 Q2040.6 1461 2041.62 1461 Q2047.4 1461 2050.78 1464.18 Q2054.16 1467.35 2054.16 1472.76 Q2054.16 1478.34 2050.69 1481.44 Q2047.22 1484.52 2040.9 1484.52 Q2038.72 1484.52 2036.45 1484.15 Q2034.21 1483.78 2031.8 1483.04 L2031.8 1478.34 Q2033.88 1479.48 2036.11 1480.03 Q2038.33 1480.59 2040.81 1480.59 Q2044.81 1480.59 2047.15 1478.48 Q2049.49 1476.38 2049.49 1472.76 Q2049.49 1469.15 2047.15 1467.05 Q2044.81 1464.94 2040.81 1464.94 Q2038.93 1464.94 2037.06 1465.36 Q2035.2 1465.77 2033.26 1466.65 L2033.26 1449.29 Z\" fill=\"#000000\" fill-rule=\"evenodd\" fill-opacity=\"1\" /><path clip-path=\"url(#clip770)\" d=\"M1028.39 1546.53 L1028.39 1568.04 L1022.54 1568.04 L1022.54 1546.72 Q1022.54 1541.66 1020.56 1539.14 Q1018.59 1536.63 1014.64 1536.63 Q1009.9 1536.63 1007.16 1539.65 Q1004.43 1542.68 1004.43 1547.9 L1004.43 1568.04 L998.539 1568.04 L998.539 1532.4 L1004.43 1532.4 L1004.43 1537.93 Q1006.53 1534.72 1009.36 1533.13 Q1012.23 1531.54 1015.95 1531.54 Q1022.09 1531.54 1025.24 1535.36 Q1028.39 1539.14 1028.39 1546.53 Z\" fill=\"#000000\" fill-rule=\"evenodd\" fill-opacity=\"1\" /><path clip-path=\"url(#clip770)\" d=\"M1039.47 1553.98 L1039.47 1532.4 L1045.33 1532.4 L1045.33 1553.75 Q1045.33 1558.81 1047.3 1561.36 Q1049.27 1563.87 1053.22 1563.87 Q1057.96 1563.87 1060.7 1560.85 Q1063.47 1557.83 1063.47 1552.61 L1063.47 1532.4 L1069.33 1532.4 L1069.33 1568.04 L1063.47 1568.04 L1063.47 1562.57 Q1061.34 1565.82 1058.5 1567.41 Q1055.7 1568.97 1051.98 1568.97 Q1045.84 1568.97 1042.65 1565.15 Q1039.47 1561.33 1039.47 1553.98 M1054.21 1531.54 L1054.21 1531.54 Z\" fill=\"#000000\" fill-rule=\"evenodd\" fill-opacity=\"1\" /><path clip-path=\"url(#clip770)\" d=\"M1109.14 1539.24 Q1111.34 1535.29 1114.4 1533.41 Q1117.45 1531.54 1121.59 1531.54 Q1127.16 1531.54 1130.18 1535.45 Q1133.21 1539.33 1133.21 1546.53 L1133.21 1568.04 L1127.32 1568.04 L1127.32 1546.72 Q1127.32 1541.59 1125.5 1539.11 Q1123.69 1536.63 1119.97 1536.63 Q1115.41 1536.63 1112.77 1539.65 Q1110.13 1542.68 1110.13 1547.9 L1110.13 1568.04 L1104.24 1568.04 L1104.24 1546.72 Q1104.24 1541.56 1102.43 1539.11 Q1100.61 1536.63 1096.83 1536.63 Q1092.34 1536.63 1089.7 1539.68 Q1087.05 1542.71 1087.05 1547.9 L1087.05 1568.04 L1081.17 1568.04 L1081.17 1532.4 L1087.05 1532.4 L1087.05 1537.93 Q1089.06 1534.66 1091.86 1533.1 Q1094.66 1531.54 1098.51 1531.54 Q1102.4 1531.54 1105.1 1533.51 Q1107.84 1535.48 1109.14 1539.24 Z\" fill=\"#000000\" fill-rule=\"evenodd\" fill-opacity=\"1\" /><path clip-path=\"url(#clip770)\" d=\"M1170.48 1550.25 Q1170.48 1543.79 1167.8 1540.13 Q1165.16 1536.44 1160.51 1536.44 Q1155.87 1536.44 1153.19 1540.13 Q1150.55 1543.79 1150.55 1550.25 Q1150.55 1556.71 1153.19 1560.4 Q1155.87 1564.07 1160.51 1564.07 Q1165.16 1564.07 1167.8 1560.4 Q1170.48 1556.71 1170.48 1550.25 M1150.55 1537.81 Q1152.4 1534.62 1155.2 1533.1 Q1158.03 1531.54 1161.95 1531.54 Q1168.44 1531.54 1172.48 1536.69 Q1176.56 1541.85 1176.56 1550.25 Q1176.56 1558.65 1172.48 1563.81 Q1168.44 1568.97 1161.95 1568.97 Q1158.03 1568.97 1155.2 1567.44 Q1152.4 1565.88 1150.55 1562.7 L1150.55 1568.04 L1144.66 1568.04 L1144.66 1518.52 L1150.55 1518.52 L1150.55 1537.81 Z\" fill=\"#000000\" fill-rule=\"evenodd\" fill-opacity=\"1\" /><path clip-path=\"url(#clip770)\" d=\"M1216.76 1548.76 L1216.76 1551.62 L1189.83 1551.62 Q1190.21 1557.67 1193.46 1560.85 Q1196.74 1564 1202.56 1564 Q1205.93 1564 1209.08 1563.17 Q1212.27 1562.35 1215.39 1560.69 L1215.39 1566.23 Q1212.24 1567.57 1208.93 1568.27 Q1205.62 1568.97 1202.21 1568.97 Q1193.68 1568.97 1188.68 1564 Q1183.72 1559.04 1183.72 1550.57 Q1183.72 1541.82 1188.43 1536.69 Q1193.17 1531.54 1201.19 1531.54 Q1208.38 1531.54 1212.55 1536.18 Q1216.76 1540.8 1216.76 1548.76 M1210.9 1547.04 Q1210.84 1542.23 1208.19 1539.37 Q1205.58 1536.5 1201.26 1536.5 Q1196.35 1536.5 1193.39 1539.27 Q1190.47 1542.04 1190.02 1547.07 L1210.9 1547.04 Z\" fill=\"#000000\" fill-rule=\"evenodd\" fill-opacity=\"1\" /><path clip-path=\"url(#clip770)\" d=\"M1247.02 1537.87 Q1246.04 1537.3 1244.86 1537.04 Q1243.71 1536.76 1242.31 1536.76 Q1237.35 1536.76 1234.68 1540 Q1232.03 1543.22 1232.03 1549.27 L1232.03 1568.04 L1226.15 1568.04 L1226.15 1532.4 L1232.03 1532.4 L1232.03 1537.93 Q1233.88 1534.69 1236.84 1533.13 Q1239.8 1531.54 1244.03 1531.54 Q1244.64 1531.54 1245.37 1531.63 Q1246.1 1531.7 1246.99 1531.85 L1247.02 1537.87 Z\" fill=\"#000000\" fill-rule=\"evenodd\" fill-opacity=\"1\" /><path clip-path=\"url(#clip770)\" d=\"M1287.7 1536.5 Q1282.99 1536.5 1280.25 1540.19 Q1277.52 1543.85 1277.52 1550.25 Q1277.52 1556.65 1280.22 1560.34 Q1282.96 1564 1287.7 1564 Q1292.38 1564 1295.12 1560.31 Q1297.85 1556.62 1297.85 1550.25 Q1297.85 1543.92 1295.12 1540.23 Q1292.38 1536.5 1287.7 1536.5 M1287.7 1531.54 Q1295.34 1531.54 1299.7 1536.5 Q1304.06 1541.47 1304.06 1550.25 Q1304.06 1559 1299.7 1564 Q1295.34 1568.97 1287.7 1568.97 Q1280.03 1568.97 1275.67 1564 Q1271.34 1559 1271.34 1550.25 Q1271.34 1541.47 1275.67 1536.5 Q1280.03 1531.54 1287.7 1531.54 Z\" fill=\"#000000\" fill-rule=\"evenodd\" fill-opacity=\"1\" /><path clip-path=\"url(#clip770)\" d=\"M1331.82 1518.52 L1331.82 1523.39 L1326.21 1523.39 Q1323.06 1523.39 1321.82 1524.66 Q1320.61 1525.93 1320.61 1529.24 L1320.61 1532.4 L1330.26 1532.4 L1330.26 1536.95 L1320.61 1536.95 L1320.61 1568.04 L1314.72 1568.04 L1314.72 1536.95 L1309.12 1536.95 L1309.12 1532.4 L1314.72 1532.4 L1314.72 1529.91 Q1314.72 1523.96 1317.49 1521.26 Q1320.26 1518.52 1326.28 1518.52 L1331.82 1518.52 Z\" fill=\"#000000\" fill-rule=\"evenodd\" fill-opacity=\"1\" /><path clip-path=\"url(#clip770)\" d=\"M1383.09 1533.76 L1383.09 1539.24 Q1380.61 1537.87 1378.09 1537.2 Q1375.61 1536.5 1373.07 1536.5 Q1367.37 1536.5 1364.22 1540.13 Q1361.07 1543.73 1361.07 1550.25 Q1361.07 1556.78 1364.22 1560.4 Q1367.37 1564 1373.07 1564 Q1375.61 1564 1378.09 1563.33 Q1380.61 1562.63 1383.09 1561.26 L1383.09 1566.68 Q1380.64 1567.82 1378 1568.39 Q1375.39 1568.97 1372.43 1568.97 Q1364.38 1568.97 1359.63 1563.91 Q1354.89 1558.85 1354.89 1550.25 Q1354.89 1541.53 1359.67 1536.53 Q1364.47 1531.54 1372.81 1531.54 Q1375.52 1531.54 1378.09 1532.11 Q1380.67 1532.65 1383.09 1533.76 Z\" fill=\"#000000\" fill-rule=\"evenodd\" fill-opacity=\"1\" /><path clip-path=\"url(#clip770)\" d=\"M1393.28 1518.52 L1399.13 1518.52 L1399.13 1568.04 L1393.28 1568.04 L1393.28 1518.52 Z\" fill=\"#000000\" fill-rule=\"evenodd\" fill-opacity=\"1\" /><path clip-path=\"url(#clip770)\" d=\"M1410.78 1553.98 L1410.78 1532.4 L1416.64 1532.4 L1416.64 1553.75 Q1416.64 1558.81 1418.61 1561.36 Q1420.59 1563.87 1424.53 1563.87 Q1429.27 1563.87 1432.01 1560.85 Q1434.78 1557.83 1434.78 1552.61 L1434.78 1532.4 L1440.64 1532.4 L1440.64 1568.04 L1434.78 1568.04 L1434.78 1562.57 Q1432.65 1565.82 1429.82 1567.41 Q1427.01 1568.97 1423.29 1568.97 Q1417.15 1568.97 1413.97 1565.15 Q1410.78 1561.33 1410.78 1553.98 M1425.52 1531.54 L1425.52 1531.54 Z\" fill=\"#000000\" fill-rule=\"evenodd\" fill-opacity=\"1\" /><path clip-path=\"url(#clip770)\" d=\"M1475.43 1533.45 L1475.43 1538.98 Q1472.94 1537.71 1470.27 1537.07 Q1467.6 1536.44 1464.73 1536.44 Q1460.37 1536.44 1458.18 1537.77 Q1456.01 1539.11 1456.01 1541.79 Q1456.01 1543.82 1457.57 1545 Q1459.13 1546.15 1463.84 1547.2 L1465.85 1547.64 Q1472.08 1548.98 1474.69 1551.43 Q1477.34 1553.85 1477.34 1558.21 Q1477.34 1563.17 1473.39 1566.07 Q1469.47 1568.97 1462.6 1568.97 Q1459.73 1568.97 1456.62 1568.39 Q1453.53 1567.85 1450.09 1566.74 L1450.09 1560.69 Q1453.34 1562.38 1456.49 1563.24 Q1459.64 1564.07 1462.73 1564.07 Q1466.86 1564.07 1469.09 1562.66 Q1471.32 1561.23 1471.32 1558.65 Q1471.32 1556.27 1469.7 1554.99 Q1468.11 1553.72 1462.66 1552.54 L1460.63 1552.07 Q1455.18 1550.92 1452.76 1548.56 Q1450.35 1546.18 1450.35 1542.04 Q1450.35 1537.01 1453.91 1534.27 Q1457.47 1531.54 1464.03 1531.54 Q1467.28 1531.54 1470.14 1532.01 Q1473.01 1532.49 1475.43 1533.45 Z\" fill=\"#000000\" fill-rule=\"evenodd\" fill-opacity=\"1\" /><path clip-path=\"url(#clip770)\" d=\"M1492.45 1522.27 L1492.45 1532.4 L1504.52 1532.4 L1504.52 1536.95 L1492.45 1536.95 L1492.45 1556.3 Q1492.45 1560.66 1493.63 1561.9 Q1494.84 1563.14 1498.5 1563.14 L1504.52 1563.14 L1504.52 1568.04 L1498.5 1568.04 Q1491.72 1568.04 1489.14 1565.53 Q1486.57 1562.98 1486.57 1556.3 L1486.57 1536.95 L1482.27 1536.95 L1482.27 1532.4 L1486.57 1532.4 L1486.57 1522.27 L1492.45 1522.27 Z\" fill=\"#000000\" fill-rule=\"evenodd\" fill-opacity=\"1\" /><path clip-path=\"url(#clip770)\" d=\"M1542.71 1548.76 L1542.71 1551.62 L1515.78 1551.62 Q1516.17 1557.67 1519.41 1560.85 Q1522.69 1564 1528.52 1564 Q1531.89 1564 1535.04 1563.17 Q1538.22 1562.35 1541.34 1560.69 L1541.34 1566.23 Q1538.19 1567.57 1534.88 1568.27 Q1531.57 1568.97 1528.17 1568.97 Q1519.64 1568.97 1514.64 1564 Q1509.67 1559.04 1509.67 1550.57 Q1509.67 1541.82 1514.38 1536.69 Q1519.13 1531.54 1527.15 1531.54 Q1534.34 1531.54 1538.51 1536.18 Q1542.71 1540.8 1542.71 1548.76 M1536.86 1547.04 Q1536.79 1542.23 1534.15 1539.37 Q1531.54 1536.5 1527.21 1536.5 Q1522.31 1536.5 1519.35 1539.27 Q1516.42 1542.04 1515.98 1547.07 L1536.86 1547.04 Z\" fill=\"#000000\" fill-rule=\"evenodd\" fill-opacity=\"1\" /><path clip-path=\"url(#clip770)\" d=\"M1572.98 1537.87 Q1571.99 1537.3 1570.82 1537.04 Q1569.67 1536.76 1568.27 1536.76 Q1563.3 1536.76 1560.63 1540 Q1557.99 1543.22 1557.99 1549.27 L1557.99 1568.04 L1552.1 1568.04 L1552.1 1532.4 L1557.99 1532.4 L1557.99 1537.93 Q1559.84 1534.69 1562.8 1533.13 Q1565.76 1531.54 1569.99 1531.54 Q1570.59 1531.54 1571.33 1531.63 Q1572.06 1531.7 1572.95 1531.85 L1572.98 1537.87 Z\" fill=\"#000000\" fill-rule=\"evenodd\" fill-opacity=\"1\" /><path clip-path=\"url(#clip770)\" d=\"M1601.85 1533.45 L1601.85 1538.98 Q1599.37 1537.71 1596.69 1537.07 Q1594.02 1536.44 1591.15 1536.44 Q1586.79 1536.44 1584.6 1537.77 Q1582.43 1539.11 1582.43 1541.79 Q1582.43 1543.82 1583.99 1545 Q1585.55 1546.15 1590.26 1547.2 L1592.27 1547.64 Q1598.51 1548.98 1601.12 1551.43 Q1603.76 1553.85 1603.76 1558.21 Q1603.76 1563.17 1599.81 1566.07 Q1595.9 1568.97 1589.02 1568.97 Q1586.16 1568.97 1583.04 1568.39 Q1579.95 1567.85 1576.51 1566.74 L1576.51 1560.69 Q1579.76 1562.38 1582.91 1563.24 Q1586.06 1564.07 1589.15 1564.07 Q1593.29 1564.07 1595.52 1562.66 Q1597.74 1561.23 1597.74 1558.65 Q1597.74 1556.27 1596.12 1554.99 Q1594.53 1553.72 1589.09 1552.54 L1587.05 1552.07 Q1581.61 1550.92 1579.19 1548.56 Q1576.77 1546.18 1576.77 1542.04 Q1576.77 1537.01 1580.33 1534.27 Q1583.9 1531.54 1590.45 1531.54 Q1593.7 1531.54 1596.57 1532.01 Q1599.43 1532.49 1601.85 1533.45 Z\" fill=\"#000000\" fill-rule=\"evenodd\" fill-opacity=\"1\" /><polyline clip-path=\"url(#clip772)\" style=\"stroke:#000000; stroke-linecap:butt; stroke-linejoin:round; stroke-width:2; stroke-opacity:0.1; fill:none\" points=\"\n",
       "  249.542,1283.28 2352.76,1283.28 \n",
       "  \"/>\n",
       "<polyline clip-path=\"url(#clip772)\" style=\"stroke:#000000; stroke-linecap:butt; stroke-linejoin:round; stroke-width:2; stroke-opacity:0.1; fill:none\" points=\"\n",
       "  249.542,1034.49 2352.76,1034.49 \n",
       "  \"/>\n",
       "<polyline clip-path=\"url(#clip772)\" style=\"stroke:#000000; stroke-linecap:butt; stroke-linejoin:round; stroke-width:2; stroke-opacity:0.1; fill:none\" points=\"\n",
       "  249.542,785.713 2352.76,785.713 \n",
       "  \"/>\n",
       "<polyline clip-path=\"url(#clip772)\" style=\"stroke:#000000; stroke-linecap:butt; stroke-linejoin:round; stroke-width:2; stroke-opacity:0.1; fill:none\" points=\"\n",
       "  249.542,536.931 2352.76,536.931 \n",
       "  \"/>\n",
       "<polyline clip-path=\"url(#clip772)\" style=\"stroke:#000000; stroke-linecap:butt; stroke-linejoin:round; stroke-width:2; stroke-opacity:0.1; fill:none\" points=\"\n",
       "  249.542,288.149 2352.76,288.149 \n",
       "  \"/>\n",
       "<polyline clip-path=\"url(#clip770)\" style=\"stroke:#000000; stroke-linecap:butt; stroke-linejoin:round; stroke-width:4; stroke-opacity:1; fill:none\" points=\"\n",
       "  249.542,1423.18 249.542,47.2441 \n",
       "  \"/>\n",
       "<polyline clip-path=\"url(#clip770)\" style=\"stroke:#000000; stroke-linecap:butt; stroke-linejoin:round; stroke-width:4; stroke-opacity:1; fill:none\" points=\"\n",
       "  249.542,1283.28 268.44,1283.28 \n",
       "  \"/>\n",
       "<polyline clip-path=\"url(#clip770)\" style=\"stroke:#000000; stroke-linecap:butt; stroke-linejoin:round; stroke-width:4; stroke-opacity:1; fill:none\" points=\"\n",
       "  249.542,1034.49 268.44,1034.49 \n",
       "  \"/>\n",
       "<polyline clip-path=\"url(#clip770)\" style=\"stroke:#000000; stroke-linecap:butt; stroke-linejoin:round; stroke-width:4; stroke-opacity:1; fill:none\" points=\"\n",
       "  249.542,785.713 268.44,785.713 \n",
       "  \"/>\n",
       "<polyline clip-path=\"url(#clip770)\" style=\"stroke:#000000; stroke-linecap:butt; stroke-linejoin:round; stroke-width:4; stroke-opacity:1; fill:none\" points=\"\n",
       "  249.542,536.931 268.44,536.931 \n",
       "  \"/>\n",
       "<polyline clip-path=\"url(#clip770)\" style=\"stroke:#000000; stroke-linecap:butt; stroke-linejoin:round; stroke-width:4; stroke-opacity:1; fill:none\" points=\"\n",
       "  249.542,288.149 268.44,288.149 \n",
       "  \"/>\n",
       "<path clip-path=\"url(#clip770)\" d=\"M127.2 1269.08 Q123.589 1269.08 121.76 1272.64 Q119.955 1276.18 119.955 1283.31 Q119.955 1290.42 121.76 1293.98 Q123.589 1297.52 127.2 1297.52 Q130.834 1297.52 132.64 1293.98 Q134.468 1290.42 134.468 1283.31 Q134.468 1276.18 132.64 1272.64 Q130.834 1269.08 127.2 1269.08 M127.2 1265.37 Q133.01 1265.37 136.066 1269.98 Q139.144 1274.56 139.144 1283.31 Q139.144 1292.04 136.066 1296.64 Q133.01 1301.23 127.2 1301.23 Q121.39 1301.23 118.311 1296.64 Q115.256 1292.04 115.256 1283.31 Q115.256 1274.56 118.311 1269.98 Q121.39 1265.37 127.2 1265.37 Z\" fill=\"#000000\" fill-rule=\"evenodd\" fill-opacity=\"1\" /><path clip-path=\"url(#clip770)\" d=\"M147.362 1294.68 L152.246 1294.68 L152.246 1300.56 L147.362 1300.56 L147.362 1294.68 Z\" fill=\"#000000\" fill-rule=\"evenodd\" fill-opacity=\"1\" /><path clip-path=\"url(#clip770)\" d=\"M173.01 1281.41 Q169.862 1281.41 168.01 1283.57 Q166.181 1285.72 166.181 1289.47 Q166.181 1293.2 168.01 1295.37 Q169.862 1297.52 173.01 1297.52 Q176.158 1297.52 177.987 1295.37 Q179.839 1293.2 179.839 1289.47 Q179.839 1285.72 177.987 1283.57 Q176.158 1281.41 173.01 1281.41 M182.292 1266.76 L182.292 1271.02 Q180.533 1270.19 178.727 1269.75 Q176.945 1269.31 175.186 1269.31 Q170.556 1269.31 168.102 1272.43 Q165.672 1275.56 165.325 1281.88 Q166.69 1279.86 168.751 1278.8 Q170.811 1277.71 173.288 1277.71 Q178.496 1277.71 181.505 1280.88 Q184.538 1284.03 184.538 1289.47 Q184.538 1294.79 181.389 1298.01 Q178.241 1301.23 173.01 1301.23 Q167.015 1301.23 163.843 1296.64 Q160.672 1292.04 160.672 1283.31 Q160.672 1275.12 164.561 1270.26 Q168.45 1265.37 175.001 1265.37 Q176.76 1265.37 178.542 1265.72 Q180.348 1266.07 182.292 1266.76 Z\" fill=\"#000000\" fill-rule=\"evenodd\" fill-opacity=\"1\" /><path clip-path=\"url(#clip770)\" d=\"M192.639 1266 L210.996 1266 L210.996 1269.93 L196.922 1269.93 L196.922 1278.4 Q197.94 1278.06 198.959 1277.89 Q199.977 1277.71 200.996 1277.71 Q206.783 1277.71 210.162 1280.88 Q213.542 1284.05 213.542 1289.47 Q213.542 1295.05 210.07 1298.15 Q206.598 1301.23 200.278 1301.23 Q198.102 1301.23 195.834 1300.86 Q193.588 1300.49 191.181 1299.75 L191.181 1295.05 Q193.264 1296.18 195.487 1296.74 Q197.709 1297.29 200.186 1297.29 Q204.19 1297.29 206.528 1295.19 Q208.866 1293.08 208.866 1289.47 Q208.866 1285.86 206.528 1283.75 Q204.19 1281.64 200.186 1281.64 Q198.311 1281.64 196.436 1282.06 Q194.584 1282.48 192.639 1283.36 L192.639 1266 Z\" fill=\"#000000\" fill-rule=\"evenodd\" fill-opacity=\"1\" /><path clip-path=\"url(#clip770)\" d=\"M126.205 1020.29 Q122.593 1020.29 120.765 1023.86 Q118.959 1027.4 118.959 1034.53 Q118.959 1041.64 120.765 1045.2 Q122.593 1048.74 126.205 1048.74 Q129.839 1048.74 131.644 1045.2 Q133.473 1041.64 133.473 1034.53 Q133.473 1027.4 131.644 1023.86 Q129.839 1020.29 126.205 1020.29 M126.205 1016.59 Q132.015 1016.59 135.07 1021.2 Q138.149 1025.78 138.149 1034.53 Q138.149 1043.26 135.07 1047.86 Q132.015 1052.45 126.205 1052.45 Q120.394 1052.45 117.316 1047.86 Q114.26 1043.26 114.26 1034.53 Q114.26 1025.78 117.316 1021.2 Q120.394 1016.59 126.205 1016.59 Z\" fill=\"#000000\" fill-rule=\"evenodd\" fill-opacity=\"1\" /><path clip-path=\"url(#clip770)\" d=\"M146.366 1045.9 L151.251 1045.9 L151.251 1051.77 L146.366 1051.77 L146.366 1045.9 Z\" fill=\"#000000\" fill-rule=\"evenodd\" fill-opacity=\"1\" /><path clip-path=\"url(#clip770)\" d=\"M160.255 1017.21 L182.477 1017.21 L182.477 1019.21 L169.931 1051.77 L165.047 1051.77 L176.852 1021.15 L160.255 1021.15 L160.255 1017.21 Z\" fill=\"#000000\" fill-rule=\"evenodd\" fill-opacity=\"1\" /><path clip-path=\"url(#clip770)\" d=\"M201.598 1020.29 Q197.987 1020.29 196.158 1023.86 Q194.352 1027.4 194.352 1034.53 Q194.352 1041.64 196.158 1045.2 Q197.987 1048.74 201.598 1048.74 Q205.232 1048.74 207.037 1045.2 Q208.866 1041.64 208.866 1034.53 Q208.866 1027.4 207.037 1023.86 Q205.232 1020.29 201.598 1020.29 M201.598 1016.59 Q207.408 1016.59 210.463 1021.2 Q213.542 1025.78 213.542 1034.53 Q213.542 1043.26 210.463 1047.86 Q207.408 1052.45 201.598 1052.45 Q195.787 1052.45 192.709 1047.86 Q189.653 1043.26 189.653 1034.53 Q189.653 1025.78 192.709 1021.2 Q195.787 1016.59 201.598 1016.59 Z\" fill=\"#000000\" fill-rule=\"evenodd\" fill-opacity=\"1\" /><path clip-path=\"url(#clip770)\" d=\"M127.2 771.512 Q123.589 771.512 121.76 775.076 Q119.955 778.618 119.955 785.748 Q119.955 792.854 121.76 796.419 Q123.589 799.961 127.2 799.961 Q130.834 799.961 132.64 796.419 Q134.468 792.854 134.468 785.748 Q134.468 778.618 132.64 775.076 Q130.834 771.512 127.2 771.512 M127.2 767.808 Q133.01 767.808 136.066 772.414 Q139.144 776.998 139.144 785.748 Q139.144 794.475 136.066 799.081 Q133.01 803.664 127.2 803.664 Q121.39 803.664 118.311 799.081 Q115.256 794.475 115.256 785.748 Q115.256 776.998 118.311 772.414 Q121.39 767.808 127.2 767.808 Z\" fill=\"#000000\" fill-rule=\"evenodd\" fill-opacity=\"1\" /><path clip-path=\"url(#clip770)\" d=\"M147.362 797.113 L152.246 797.113 L152.246 802.993 L147.362 802.993 L147.362 797.113 Z\" fill=\"#000000\" fill-rule=\"evenodd\" fill-opacity=\"1\" /><path clip-path=\"url(#clip770)\" d=\"M161.251 768.433 L183.473 768.433 L183.473 770.424 L170.927 802.993 L166.042 802.993 L177.848 772.368 L161.251 772.368 L161.251 768.433 Z\" fill=\"#000000\" fill-rule=\"evenodd\" fill-opacity=\"1\" /><path clip-path=\"url(#clip770)\" d=\"M192.639 768.433 L210.996 768.433 L210.996 772.368 L196.922 772.368 L196.922 780.84 Q197.94 780.493 198.959 780.331 Q199.977 780.146 200.996 780.146 Q206.783 780.146 210.162 783.317 Q213.542 786.488 213.542 791.905 Q213.542 797.484 210.07 800.586 Q206.598 803.664 200.278 803.664 Q198.102 803.664 195.834 803.294 Q193.588 802.924 191.181 802.183 L191.181 797.484 Q193.264 798.618 195.487 799.174 Q197.709 799.729 200.186 799.729 Q204.19 799.729 206.528 797.623 Q208.866 795.516 208.866 791.905 Q208.866 788.294 206.528 786.188 Q204.19 784.081 200.186 784.081 Q198.311 784.081 196.436 784.498 Q194.584 784.914 192.639 785.794 L192.639 768.433 Z\" fill=\"#000000\" fill-rule=\"evenodd\" fill-opacity=\"1\" /><path clip-path=\"url(#clip770)\" d=\"M126.205 522.73 Q122.593 522.73 120.765 526.295 Q118.959 529.836 118.959 536.966 Q118.959 544.072 120.765 547.637 Q122.593 551.179 126.205 551.179 Q129.839 551.179 131.644 547.637 Q133.473 544.072 133.473 536.966 Q133.473 529.836 131.644 526.295 Q129.839 522.73 126.205 522.73 M126.205 519.026 Q132.015 519.026 135.07 523.633 Q138.149 528.216 138.149 536.966 Q138.149 545.693 135.07 550.299 Q132.015 554.882 126.205 554.882 Q120.394 554.882 117.316 550.299 Q114.26 545.693 114.26 536.966 Q114.26 528.216 117.316 523.633 Q120.394 519.026 126.205 519.026 Z\" fill=\"#000000\" fill-rule=\"evenodd\" fill-opacity=\"1\" /><path clip-path=\"url(#clip770)\" d=\"M146.366 548.332 L151.251 548.332 L151.251 554.211 L146.366 554.211 L146.366 548.332 Z\" fill=\"#000000\" fill-rule=\"evenodd\" fill-opacity=\"1\" /><path clip-path=\"url(#clip770)\" d=\"M171.436 537.799 Q168.102 537.799 166.181 539.582 Q164.283 541.364 164.283 544.489 Q164.283 547.614 166.181 549.396 Q168.102 551.179 171.436 551.179 Q174.769 551.179 176.69 549.396 Q178.612 547.591 178.612 544.489 Q178.612 541.364 176.69 539.582 Q174.792 537.799 171.436 537.799 M166.76 535.809 Q163.751 535.068 162.061 533.008 Q160.394 530.947 160.394 527.984 Q160.394 523.841 163.334 521.434 Q166.297 519.026 171.436 519.026 Q176.598 519.026 179.538 521.434 Q182.477 523.841 182.477 527.984 Q182.477 530.947 180.788 533.008 Q179.121 535.068 176.135 535.809 Q179.514 536.596 181.389 538.887 Q183.288 541.179 183.288 544.489 Q183.288 549.512 180.209 552.197 Q177.153 554.882 171.436 554.882 Q165.718 554.882 162.64 552.197 Q159.584 549.512 159.584 544.489 Q159.584 541.179 161.482 538.887 Q163.38 536.596 166.76 535.809 M165.047 528.424 Q165.047 531.109 166.714 532.614 Q168.403 534.119 171.436 534.119 Q174.445 534.119 176.135 532.614 Q177.848 531.109 177.848 528.424 Q177.848 525.739 176.135 524.235 Q174.445 522.73 171.436 522.73 Q168.403 522.73 166.714 524.235 Q165.047 525.739 165.047 528.424 Z\" fill=\"#000000\" fill-rule=\"evenodd\" fill-opacity=\"1\" /><path clip-path=\"url(#clip770)\" d=\"M201.598 522.73 Q197.987 522.73 196.158 526.295 Q194.352 529.836 194.352 536.966 Q194.352 544.072 196.158 547.637 Q197.987 551.179 201.598 551.179 Q205.232 551.179 207.037 547.637 Q208.866 544.072 208.866 536.966 Q208.866 529.836 207.037 526.295 Q205.232 522.73 201.598 522.73 M201.598 519.026 Q207.408 519.026 210.463 523.633 Q213.542 528.216 213.542 536.966 Q213.542 545.693 210.463 550.299 Q207.408 554.882 201.598 554.882 Q195.787 554.882 192.709 550.299 Q189.653 545.693 189.653 536.966 Q189.653 528.216 192.709 523.633 Q195.787 519.026 201.598 519.026 Z\" fill=\"#000000\" fill-rule=\"evenodd\" fill-opacity=\"1\" /><path clip-path=\"url(#clip770)\" d=\"M127.2 273.948 Q123.589 273.948 121.76 277.513 Q119.955 281.055 119.955 288.184 Q119.955 295.291 121.76 298.855 Q123.589 302.397 127.2 302.397 Q130.834 302.397 132.64 298.855 Q134.468 295.291 134.468 288.184 Q134.468 281.055 132.64 277.513 Q130.834 273.948 127.2 273.948 M127.2 270.244 Q133.01 270.244 136.066 274.851 Q139.144 279.434 139.144 288.184 Q139.144 296.911 136.066 301.517 Q133.01 306.101 127.2 306.101 Q121.39 306.101 118.311 301.517 Q115.256 296.911 115.256 288.184 Q115.256 279.434 118.311 274.851 Q121.39 270.244 127.2 270.244 Z\" fill=\"#000000\" fill-rule=\"evenodd\" fill-opacity=\"1\" /><path clip-path=\"url(#clip770)\" d=\"M147.362 299.55 L152.246 299.55 L152.246 305.429 L147.362 305.429 L147.362 299.55 Z\" fill=\"#000000\" fill-rule=\"evenodd\" fill-opacity=\"1\" /><path clip-path=\"url(#clip770)\" d=\"M172.431 289.017 Q169.098 289.017 167.177 290.8 Q165.278 292.582 165.278 295.707 Q165.278 298.832 167.177 300.615 Q169.098 302.397 172.431 302.397 Q175.764 302.397 177.686 300.615 Q179.607 298.809 179.607 295.707 Q179.607 292.582 177.686 290.8 Q175.788 289.017 172.431 289.017 M167.755 287.027 Q164.746 286.286 163.056 284.226 Q161.39 282.166 161.39 279.203 Q161.39 275.059 164.329 272.652 Q167.292 270.244 172.431 270.244 Q177.593 270.244 180.533 272.652 Q183.473 275.059 183.473 279.203 Q183.473 282.166 181.783 284.226 Q180.116 286.286 177.13 287.027 Q180.51 287.814 182.385 290.105 Q184.283 292.397 184.283 295.707 Q184.283 300.73 181.204 303.416 Q178.149 306.101 172.431 306.101 Q166.714 306.101 163.635 303.416 Q160.579 300.73 160.579 295.707 Q160.579 292.397 162.477 290.105 Q164.376 287.814 167.755 287.027 M166.042 279.642 Q166.042 282.328 167.709 283.832 Q169.399 285.337 172.431 285.337 Q175.44 285.337 177.13 283.832 Q178.843 282.328 178.843 279.642 Q178.843 276.957 177.13 275.453 Q175.44 273.948 172.431 273.948 Q169.399 273.948 167.709 275.453 Q166.042 276.957 166.042 279.642 Z\" fill=\"#000000\" fill-rule=\"evenodd\" fill-opacity=\"1\" /><path clip-path=\"url(#clip770)\" d=\"M192.639 270.869 L210.996 270.869 L210.996 274.805 L196.922 274.805 L196.922 283.277 Q197.94 282.93 198.959 282.767 Q199.977 282.582 200.996 282.582 Q206.783 282.582 210.162 285.754 Q213.542 288.925 213.542 294.341 Q213.542 299.92 210.07 303.022 Q206.598 306.101 200.278 306.101 Q198.102 306.101 195.834 305.73 Q193.588 305.36 191.181 304.619 L191.181 299.92 Q193.264 301.054 195.487 301.61 Q197.709 302.166 200.186 302.166 Q204.19 302.166 206.528 300.059 Q208.866 297.953 208.866 294.341 Q208.866 290.73 206.528 288.624 Q204.19 286.517 200.186 286.517 Q198.311 286.517 196.436 286.934 Q194.584 287.351 192.639 288.23 L192.639 270.869 Z\" fill=\"#000000\" fill-rule=\"evenodd\" fill-opacity=\"1\" /><path clip-path=\"url(#clip770)\" d=\"M29.4065 966.319 L34.9447 966.319 Q33.6716 968.802 33.035 971.475 Q32.3984 974.149 32.3984 977.013 Q32.3984 981.374 33.7352 983.57 Q35.072 985.734 37.7456 985.734 Q39.7826 985.734 40.9603 984.175 Q42.1061 982.615 43.1565 977.905 L43.6021 975.899 Q44.9389 969.661 47.3897 967.051 Q49.8086 964.409 54.1691 964.409 Q59.1344 964.409 62.0308 968.356 Q64.9272 972.271 64.9272 979.146 Q64.9272 982.01 64.3543 985.13 Q63.8132 988.217 62.6992 991.654 L56.6518 991.654 Q58.3387 988.408 59.198 985.257 Q60.0256 982.106 60.0256 979.019 Q60.0256 974.881 58.6251 972.653 Q57.1929 970.425 54.6147 970.425 Q52.2276 970.425 50.9545 972.048 Q49.6813 973.64 48.5037 979.082 L48.0262 981.119 Q46.8804 986.562 44.5251 988.981 Q42.138 991.4 38.0002 991.4 Q32.9713 991.4 30.2341 987.835 Q27.4968 984.27 27.4968 977.714 Q27.4968 974.467 27.9743 971.602 Q28.4517 968.738 29.4065 966.319 Z\" fill=\"#000000\" fill-rule=\"evenodd\" fill-opacity=\"1\" /><path clip-path=\"url(#clip770)\" d=\"M28.3562 955.083 L28.3562 949.227 L64.0042 949.227 L64.0042 955.083 L28.3562 955.083 M14.479 955.083 L14.479 949.227 L21.895 949.227 L21.895 955.083 L14.479 955.083 Z\" fill=\"#000000\" fill-rule=\"evenodd\" fill-opacity=\"1\" /><path clip-path=\"url(#clip770)\" d=\"M14.479 936.973 L14.479 931.117 L64.0042 931.117 L64.0042 936.973 L14.479 936.973 Z\" fill=\"#000000\" fill-rule=\"evenodd\" fill-opacity=\"1\" /><path clip-path=\"url(#clip770)\" d=\"M42.4881 889.23 L64.0042 889.23 L64.0042 895.087 L42.679 895.087 Q37.6183 895.087 35.1038 897.06 Q32.5894 899.033 32.5894 902.98 Q32.5894 907.723 35.6131 910.46 Q38.6368 913.197 43.8567 913.197 L64.0042 913.197 L64.0042 919.085 L14.479 919.085 L14.479 913.197 L33.8944 913.197 Q30.6797 911.096 29.0883 908.264 Q27.4968 905.399 27.4968 901.675 Q27.4968 895.532 31.3163 892.381 Q35.1038 889.23 42.4881 889.23 Z\" fill=\"#000000\" fill-rule=\"evenodd\" fill-opacity=\"1\" /><path clip-path=\"url(#clip770)\" d=\"M32.4621 863.736 Q32.4621 868.446 36.1542 871.183 Q39.8145 873.921 46.212 873.921 Q52.6095 873.921 56.3017 871.215 Q59.9619 868.478 59.9619 863.736 Q59.9619 859.057 56.2698 856.32 Q52.5777 853.582 46.212 853.582 Q39.8781 853.582 36.186 856.32 Q32.4621 859.057 32.4621 863.736 M27.4968 863.736 Q27.4968 856.097 32.4621 851.736 Q37.4273 847.376 46.212 847.376 Q54.9649 847.376 59.9619 851.736 Q64.9272 856.097 64.9272 863.736 Q64.9272 871.406 59.9619 875.767 Q54.9649 880.095 46.212 880.095 Q37.4273 880.095 32.4621 875.767 Q27.4968 871.406 27.4968 863.736 Z\" fill=\"#000000\" fill-rule=\"evenodd\" fill-opacity=\"1\" /><path clip-path=\"url(#clip770)\" d=\"M49.9359 838.273 L28.3562 838.273 L28.3562 832.416 L49.7131 832.416 Q54.7739 832.416 57.3202 830.443 Q59.8346 828.47 59.8346 824.523 Q59.8346 819.78 56.8109 817.043 Q53.7872 814.274 48.5673 814.274 L28.3562 814.274 L28.3562 808.418 L64.0042 808.418 L64.0042 814.274 L58.5296 814.274 Q61.7762 816.407 63.3676 819.239 Q64.9272 822.04 64.9272 825.764 Q64.9272 831.907 61.1078 835.09 Q57.2883 838.273 49.9359 838.273 M27.4968 823.536 L27.4968 823.536 Z\" fill=\"#000000\" fill-rule=\"evenodd\" fill-opacity=\"1\" /><path clip-path=\"url(#clip770)\" d=\"M44.7161 765.863 L47.5806 765.863 L47.5806 792.79 Q53.6281 792.408 56.8109 789.161 Q59.9619 785.883 59.9619 780.058 Q59.9619 776.685 59.1344 773.534 Q58.3069 770.351 56.6518 767.231 L62.1899 767.231 Q63.5267 770.382 64.227 773.693 Q64.9272 777.003 64.9272 780.408 Q64.9272 788.939 59.9619 793.936 Q54.9967 798.901 46.5303 798.901 Q37.7774 798.901 32.6531 794.19 Q27.4968 789.448 27.4968 781.427 Q27.4968 774.234 32.1438 770.064 Q36.7589 765.863 44.7161 765.863 M42.9973 771.719 Q38.1912 771.783 35.3266 774.425 Q32.4621 777.035 32.4621 781.363 Q32.4621 786.265 35.2312 789.225 Q38.0002 792.153 43.0292 792.599 L42.9973 771.719 Z\" fill=\"#000000\" fill-rule=\"evenodd\" fill-opacity=\"1\" /><path clip-path=\"url(#clip770)\" d=\"M18.2347 750.458 L28.3562 750.458 L28.3562 738.395 L32.9077 738.395 L32.9077 750.458 L52.2594 750.458 Q56.6199 750.458 57.8613 749.28 Q59.1026 748.071 59.1026 744.41 L59.1026 738.395 L64.0042 738.395 L64.0042 744.41 Q64.0042 751.19 61.4897 753.768 Q58.9434 756.346 52.2594 756.346 L32.9077 756.346 L32.9077 760.643 L28.3562 760.643 L28.3562 756.346 L18.2347 756.346 L18.2347 750.458 Z\" fill=\"#000000\" fill-rule=\"evenodd\" fill-opacity=\"1\" /><path clip-path=\"url(#clip770)\" d=\"M18.2347 724.9 L28.3562 724.9 L28.3562 712.837 L32.9077 712.837 L32.9077 724.9 L52.2594 724.9 Q56.6199 724.9 57.8613 723.722 Q59.1026 722.512 59.1026 718.852 L59.1026 712.837 L64.0042 712.837 L64.0042 718.852 Q64.0042 725.632 61.4897 728.21 Q58.9434 730.788 52.2594 730.788 L32.9077 730.788 L32.9077 735.085 L28.3562 735.085 L28.3562 730.788 L18.2347 730.788 L18.2347 724.9 Z\" fill=\"#000000\" fill-rule=\"evenodd\" fill-opacity=\"1\" /><path clip-path=\"url(#clip770)\" d=\"M44.7161 674.642 L47.5806 674.642 L47.5806 701.569 Q53.6281 701.187 56.8109 697.941 Q59.9619 694.662 59.9619 688.838 Q59.9619 685.464 59.1344 682.313 Q58.3069 679.13 56.6518 676.011 L62.1899 676.011 Q63.5267 679.162 64.227 682.472 Q64.9272 685.782 64.9272 689.188 Q64.9272 697.718 59.9619 702.715 Q54.9967 707.68 46.5303 707.68 Q37.7774 707.68 32.6531 702.97 Q27.4968 698.227 27.4968 690.206 Q27.4968 683.013 32.1438 678.844 Q36.7589 674.642 44.7161 674.642 M42.9973 680.499 Q38.1912 680.562 35.3266 683.204 Q32.4621 685.814 32.4621 690.143 Q32.4621 695.044 35.2312 698.004 Q38.0002 700.933 43.0292 701.378 L42.9973 680.499 Z\" fill=\"#000000\" fill-rule=\"evenodd\" fill-opacity=\"1\" /><path clip-path=\"url(#clip770)\" d=\"M29.4065 621.584 L34.9447 621.584 Q33.6716 624.067 33.035 626.74 Q32.3984 629.414 32.3984 632.278 Q32.3984 636.639 33.7352 638.835 Q35.072 641 37.7456 641 Q39.7826 641 40.9603 639.44 Q42.1061 637.88 43.1565 633.17 L43.6021 631.164 Q44.9389 624.926 47.3897 622.316 Q49.8086 619.674 54.1691 619.674 Q59.1344 619.674 62.0308 623.621 Q64.9272 627.536 64.9272 634.411 Q64.9272 637.276 64.3543 640.395 Q63.8132 643.482 62.6992 646.92 L56.6518 646.92 Q58.3387 643.673 59.198 640.522 Q60.0256 637.371 60.0256 634.284 Q60.0256 630.146 58.6251 627.918 Q57.1929 625.69 54.6147 625.69 Q52.2276 625.69 50.9545 627.313 Q49.6813 628.905 48.5037 634.347 L48.0262 636.384 Q46.8804 641.827 44.5251 644.246 Q42.138 646.665 38.0002 646.665 Q32.9713 646.665 30.2341 643.1 Q27.4968 639.535 27.4968 632.979 Q27.4968 629.732 27.9743 626.868 Q28.4517 624.003 29.4065 621.584 Z\" fill=\"#000000\" fill-rule=\"evenodd\" fill-opacity=\"1\" /><path clip-path=\"url(#clip770)\" d=\"M29.7248 584.695 L35.1993 584.695 Q33.8307 587.177 33.1623 589.692 Q32.4621 592.175 32.4621 594.721 Q32.4621 600.418 36.0905 603.569 Q39.6872 606.72 46.212 606.72 Q52.7369 606.72 56.3653 603.569 Q59.9619 600.418 59.9619 594.721 Q59.9619 592.175 59.2935 589.692 Q58.5933 587.177 57.2247 584.695 L62.6355 584.695 Q63.7814 587.146 64.3543 589.787 Q64.9272 592.397 64.9272 595.357 Q64.9272 603.41 59.8664 608.152 Q54.8057 612.895 46.212 612.895 Q37.491 612.895 32.4939 608.121 Q27.4968 603.315 27.4968 594.975 Q27.4968 592.27 28.0697 589.692 Q28.6108 587.114 29.7248 584.695 Z\" fill=\"#000000\" fill-rule=\"evenodd\" fill-opacity=\"1\" /><path clip-path=\"url(#clip770)\" d=\"M32.4621 560.696 Q32.4621 565.407 36.1542 568.144 Q39.8145 570.881 46.212 570.881 Q52.6095 570.881 56.3017 568.176 Q59.9619 565.439 59.9619 560.696 Q59.9619 556.017 56.2698 553.28 Q52.5777 550.543 46.212 550.543 Q39.8781 550.543 36.186 553.28 Q32.4621 556.017 32.4621 560.696 M27.4968 560.696 Q27.4968 553.057 32.4621 548.697 Q37.4273 544.336 46.212 544.336 Q54.9649 544.336 59.9619 548.697 Q64.9272 553.057 64.9272 560.696 Q64.9272 568.367 59.9619 572.727 Q54.9649 577.056 46.212 577.056 Q37.4273 577.056 32.4621 572.727 Q27.4968 568.367 27.4968 560.696 Z\" fill=\"#000000\" fill-rule=\"evenodd\" fill-opacity=\"1\" /><path clip-path=\"url(#clip770)\" d=\"M33.8307 513.972 Q33.2578 514.959 33.0032 516.136 Q32.7167 517.282 32.7167 518.682 Q32.7167 523.648 35.9632 526.321 Q39.1779 528.963 45.2253 528.963 L64.0042 528.963 L64.0042 534.851 L28.3562 534.851 L28.3562 528.963 L33.8944 528.963 Q30.6479 527.117 29.0883 524.157 Q27.4968 521.197 27.4968 516.964 Q27.4968 516.359 27.5923 515.627 Q27.656 514.895 27.8151 514.004 L33.8307 513.972 Z\" fill=\"#000000\" fill-rule=\"evenodd\" fill-opacity=\"1\" /><path clip-path=\"url(#clip770)\" d=\"M44.7161 478.769 L47.5806 478.769 L47.5806 505.696 Q53.6281 505.314 56.8109 502.068 Q59.9619 498.79 59.9619 492.965 Q59.9619 489.591 59.1344 486.44 Q58.3069 483.257 56.6518 480.138 L62.1899 480.138 Q63.5267 483.289 64.227 486.599 Q64.9272 489.909 64.9272 493.315 Q64.9272 501.845 59.9619 506.842 Q54.9967 511.807 46.5303 511.807 Q37.7774 511.807 32.6531 507.097 Q27.4968 502.354 27.4968 494.334 Q27.4968 487.14 32.1438 482.971 Q36.7589 478.769 44.7161 478.769 M42.9973 484.626 Q38.1912 484.69 35.3266 487.331 Q32.4621 489.941 32.4621 494.27 Q32.4621 499.172 35.2312 502.132 Q38.0002 505.06 43.0292 505.505 L42.9973 484.626 Z\" fill=\"#000000\" fill-rule=\"evenodd\" fill-opacity=\"1\" /><polyline clip-path=\"url(#clip772)\" style=\"stroke:#009af9; stroke-linecap:butt; stroke-linejoin:round; stroke-width:4; stroke-opacity:1; fill:none\" points=\"\n",
       "  309.067,86.1857 441.345,753.324 705.9,1001.71 970.455,1107.18 1499.57,1238.48 1764.12,1228 2293.23,1384.24 \n",
       "  \"/>\n",
       "<path clip-path=\"url(#clip770)\" d=\"\n",
       "M1675.95 196.789 L2282.65 196.789 L2282.65 93.1086 L1675.95 93.1086  Z\n",
       "  \" fill=\"#ffffff\" fill-rule=\"evenodd\" fill-opacity=\"1\"/>\n",
       "<polyline clip-path=\"url(#clip770)\" style=\"stroke:#000000; stroke-linecap:butt; stroke-linejoin:round; stroke-width:4; stroke-opacity:1; fill:none\" points=\"\n",
       "  1675.95,196.789 2282.65,196.789 2282.65,93.1086 1675.95,93.1086 1675.95,196.789 \n",
       "  \"/>\n",
       "<polyline clip-path=\"url(#clip770)\" style=\"stroke:#009af9; stroke-linecap:butt; stroke-linejoin:round; stroke-width:4; stroke-opacity:1; fill:none\" points=\"\n",
       "  1699.32,144.949 1839.53,144.949 \n",
       "  \"/>\n",
       "<path clip-path=\"url(#clip770)\" d=\"M1881.33 137.067 L1881.33 141.094 Q1879.52 140.169 1877.58 139.706 Q1875.63 139.243 1873.55 139.243 Q1870.38 139.243 1868.78 140.215 Q1867.21 141.187 1867.21 143.131 Q1867.21 144.613 1868.34 145.469 Q1869.48 146.303 1872.9 147.067 L1874.36 147.391 Q1878.9 148.363 1880.8 150.145 Q1882.72 151.905 1882.72 155.076 Q1882.72 158.687 1879.85 160.793 Q1877 162.9 1872 162.9 Q1869.92 162.9 1867.65 162.483 Q1865.4 162.09 1862.9 161.28 L1862.9 156.881 Q1865.26 158.108 1867.56 158.733 Q1869.85 159.335 1872.09 159.335 Q1875.1 159.335 1876.72 158.317 Q1878.34 157.275 1878.34 155.4 Q1878.34 153.664 1877.16 152.738 Q1876.01 151.812 1872.05 150.956 L1870.57 150.608 Q1866.61 149.775 1864.85 148.062 Q1863.09 146.326 1863.09 143.317 Q1863.09 139.659 1865.68 137.669 Q1868.27 135.678 1873.04 135.678 Q1875.4 135.678 1877.49 136.025 Q1879.57 136.372 1881.33 137.067 Z\" fill=\"#000000\" fill-rule=\"evenodd\" fill-opacity=\"1\" /><path clip-path=\"url(#clip770)\" d=\"M1889.5 136.303 L1893.76 136.303 L1893.76 162.229 L1889.5 162.229 L1889.5 136.303 M1889.5 126.21 L1893.76 126.21 L1893.76 131.604 L1889.5 131.604 L1889.5 126.21 Z\" fill=\"#000000\" fill-rule=\"evenodd\" fill-opacity=\"1\" /><path clip-path=\"url(#clip770)\" d=\"M1902.67 126.21 L1906.93 126.21 L1906.93 162.229 L1902.67 162.229 L1902.67 126.21 Z\" fill=\"#000000\" fill-rule=\"evenodd\" fill-opacity=\"1\" /><path clip-path=\"url(#clip770)\" d=\"M1937.39 146.581 L1937.39 162.229 L1933.13 162.229 L1933.13 146.719 Q1933.13 143.039 1931.7 141.21 Q1930.26 139.382 1927.39 139.382 Q1923.94 139.382 1921.95 141.581 Q1919.96 143.78 1919.96 147.576 L1919.96 162.229 L1915.68 162.229 L1915.68 126.21 L1919.96 126.21 L1919.96 140.331 Q1921.49 137.993 1923.55 136.835 Q1925.63 135.678 1928.34 135.678 Q1932.81 135.678 1935.1 138.456 Q1937.39 141.21 1937.39 146.581 Z\" fill=\"#000000\" fill-rule=\"evenodd\" fill-opacity=\"1\" /><path clip-path=\"url(#clip770)\" d=\"M1955.94 139.289 Q1952.51 139.289 1950.52 141.974 Q1948.53 144.636 1948.53 149.289 Q1948.53 153.942 1950.5 156.627 Q1952.49 159.289 1955.94 159.289 Q1959.34 159.289 1961.33 156.604 Q1963.32 153.918 1963.32 149.289 Q1963.32 144.682 1961.33 141.997 Q1959.34 139.289 1955.94 139.289 M1955.94 135.678 Q1961.49 135.678 1964.66 139.289 Q1967.83 142.9 1967.83 149.289 Q1967.83 155.655 1964.66 159.289 Q1961.49 162.9 1955.94 162.9 Q1950.36 162.9 1947.19 159.289 Q1944.04 155.655 1944.04 149.289 Q1944.04 142.9 1947.19 139.289 Q1950.36 135.678 1955.94 135.678 Z\" fill=\"#000000\" fill-rule=\"evenodd\" fill-opacity=\"1\" /><path clip-path=\"url(#clip770)\" d=\"M1974.45 151.997 L1974.45 136.303 L1978.71 136.303 L1978.71 151.835 Q1978.71 155.516 1980.15 157.368 Q1981.58 159.196 1984.45 159.196 Q1987.9 159.196 1989.89 156.997 Q1991.91 154.798 1991.91 151.002 L1991.91 136.303 L1996.17 136.303 L1996.17 162.229 L1991.91 162.229 L1991.91 158.247 Q1990.36 160.608 1988.3 161.766 Q1986.26 162.9 1983.55 162.9 Q1979.08 162.9 1976.77 160.122 Q1974.45 157.344 1974.45 151.997 M1985.17 135.678 L1985.17 135.678 Z\" fill=\"#000000\" fill-rule=\"evenodd\" fill-opacity=\"1\" /><path clip-path=\"url(#clip770)\" d=\"M2027.12 148.201 L2027.12 150.284 L2007.53 150.284 Q2007.81 154.682 2010.17 156.997 Q2012.56 159.289 2016.79 159.289 Q2019.25 159.289 2021.54 158.687 Q2023.85 158.085 2026.12 156.881 L2026.12 160.909 Q2023.83 161.881 2021.42 162.391 Q2019.01 162.9 2016.54 162.9 Q2010.33 162.9 2006.7 159.289 Q2003.09 155.678 2003.09 149.52 Q2003.09 143.155 2006.51 139.428 Q2009.96 135.678 2015.8 135.678 Q2021.03 135.678 2024.06 139.057 Q2027.12 142.414 2027.12 148.201 M2022.86 146.951 Q2022.81 143.456 2020.89 141.372 Q2018.99 139.289 2015.84 139.289 Q2012.28 139.289 2010.12 141.303 Q2008 143.317 2007.67 146.974 L2022.86 146.951 Z\" fill=\"#000000\" fill-rule=\"evenodd\" fill-opacity=\"1\" /><path clip-path=\"url(#clip770)\" d=\"M2038.32 128.942 L2038.32 136.303 L2047.09 136.303 L2047.09 139.613 L2038.32 139.613 L2038.32 153.687 Q2038.32 156.858 2039.18 157.761 Q2040.06 158.664 2042.72 158.664 L2047.09 158.664 L2047.09 162.229 L2042.72 162.229 Q2037.79 162.229 2035.91 160.4 Q2034.04 158.548 2034.04 153.687 L2034.04 139.613 L2030.91 139.613 L2030.91 136.303 L2034.04 136.303 L2034.04 128.942 L2038.32 128.942 Z\" fill=\"#000000\" fill-rule=\"evenodd\" fill-opacity=\"1\" /><path clip-path=\"url(#clip770)\" d=\"M2056.91 128.942 L2056.91 136.303 L2065.68 136.303 L2065.68 139.613 L2056.91 139.613 L2056.91 153.687 Q2056.91 156.858 2057.76 157.761 Q2058.64 158.664 2061.31 158.664 L2065.68 158.664 L2065.68 162.229 L2061.31 162.229 Q2056.37 162.229 2054.5 160.4 Q2052.62 158.548 2052.62 153.687 L2052.62 139.613 L2049.5 139.613 L2049.5 136.303 L2052.62 136.303 L2052.62 128.942 L2056.91 128.942 Z\" fill=\"#000000\" fill-rule=\"evenodd\" fill-opacity=\"1\" /><path clip-path=\"url(#clip770)\" d=\"M2093.46 148.201 L2093.46 150.284 L2073.87 150.284 Q2074.15 154.682 2076.51 156.997 Q2078.9 159.289 2083.13 159.289 Q2085.59 159.289 2087.88 158.687 Q2090.19 158.085 2092.46 156.881 L2092.46 160.909 Q2090.17 161.881 2087.76 162.391 Q2085.36 162.9 2082.88 162.9 Q2076.68 162.9 2073.04 159.289 Q2069.43 155.678 2069.43 149.52 Q2069.43 143.155 2072.86 139.428 Q2076.31 135.678 2082.14 135.678 Q2087.37 135.678 2090.4 139.057 Q2093.46 142.414 2093.46 148.201 M2089.2 146.951 Q2089.15 143.456 2087.23 141.372 Q2085.33 139.289 2082.18 139.289 Q2078.62 139.289 2076.47 141.303 Q2074.34 143.317 2074.01 146.974 L2089.2 146.951 Z\" fill=\"#000000\" fill-rule=\"evenodd\" fill-opacity=\"1\" /><path clip-path=\"url(#clip770)\" d=\"M2132.05 137.067 L2132.05 141.094 Q2130.24 140.169 2128.3 139.706 Q2126.35 139.243 2124.27 139.243 Q2121.1 139.243 2119.5 140.215 Q2117.93 141.187 2117.93 143.131 Q2117.93 144.613 2119.06 145.469 Q2120.19 146.303 2123.62 147.067 L2125.08 147.391 Q2129.61 148.363 2131.51 150.145 Q2133.43 151.905 2133.43 155.076 Q2133.43 158.687 2130.56 160.793 Q2127.72 162.9 2122.72 162.9 Q2120.63 162.9 2118.37 162.483 Q2116.12 162.09 2113.62 161.28 L2113.62 156.881 Q2115.98 158.108 2118.27 158.733 Q2120.56 159.335 2122.81 159.335 Q2125.82 159.335 2127.44 158.317 Q2129.06 157.275 2129.06 155.4 Q2129.06 153.664 2127.88 152.738 Q2126.72 151.812 2122.76 150.956 L2121.28 150.608 Q2117.32 149.775 2115.56 148.062 Q2113.8 146.326 2113.8 143.317 Q2113.8 139.659 2116.4 137.669 Q2118.99 135.678 2123.76 135.678 Q2126.12 135.678 2128.2 136.025 Q2130.29 136.372 2132.05 137.067 Z\" fill=\"#000000\" fill-rule=\"evenodd\" fill-opacity=\"1\" /><path clip-path=\"url(#clip770)\" d=\"M2158.87 137.298 L2158.87 141.28 Q2157.07 140.284 2155.24 139.798 Q2153.43 139.289 2151.58 139.289 Q2147.44 139.289 2145.15 141.928 Q2142.86 144.544 2142.86 149.289 Q2142.86 154.034 2145.15 156.673 Q2147.44 159.289 2151.58 159.289 Q2153.43 159.289 2155.24 158.803 Q2157.07 158.293 2158.87 157.298 L2158.87 161.233 Q2157.09 162.067 2155.17 162.483 Q2153.27 162.9 2151.12 162.9 Q2145.26 162.9 2141.81 159.219 Q2138.36 155.539 2138.36 149.289 Q2138.36 142.946 2141.84 139.312 Q2145.33 135.678 2151.4 135.678 Q2153.36 135.678 2155.24 136.095 Q2157.11 136.488 2158.87 137.298 Z\" fill=\"#000000\" fill-rule=\"evenodd\" fill-opacity=\"1\" /><path clip-path=\"url(#clip770)\" d=\"M2176.33 139.289 Q2172.9 139.289 2170.91 141.974 Q2168.92 144.636 2168.92 149.289 Q2168.92 153.942 2170.89 156.627 Q2172.88 159.289 2176.33 159.289 Q2179.73 159.289 2181.72 156.604 Q2183.71 153.918 2183.71 149.289 Q2183.71 144.682 2181.72 141.997 Q2179.73 139.289 2176.33 139.289 M2176.33 135.678 Q2181.88 135.678 2185.05 139.289 Q2188.23 142.9 2188.23 149.289 Q2188.23 155.655 2185.05 159.289 Q2181.88 162.9 2176.33 162.9 Q2170.75 162.9 2167.58 159.289 Q2164.43 155.655 2164.43 149.289 Q2164.43 142.9 2167.58 139.289 Q2170.75 135.678 2176.33 135.678 Z\" fill=\"#000000\" fill-rule=\"evenodd\" fill-opacity=\"1\" /><path clip-path=\"url(#clip770)\" d=\"M2210.31 140.284 Q2209.59 139.868 2208.73 139.682 Q2207.9 139.474 2206.88 139.474 Q2203.27 139.474 2201.33 141.835 Q2199.41 144.173 2199.41 148.571 L2199.41 162.229 L2195.12 162.229 L2195.12 136.303 L2199.41 136.303 L2199.41 140.331 Q2200.75 137.969 2202.9 136.835 Q2205.05 135.678 2208.13 135.678 Q2208.57 135.678 2209.11 135.747 Q2209.64 135.794 2210.29 135.909 L2210.31 140.284 Z\" fill=\"#000000\" fill-rule=\"evenodd\" fill-opacity=\"1\" /><path clip-path=\"url(#clip770)\" d=\"M2235.91 148.201 L2235.91 150.284 L2216.33 150.284 Q2216.61 154.682 2218.97 156.997 Q2221.35 159.289 2225.59 159.289 Q2228.04 159.289 2230.33 158.687 Q2232.65 158.085 2234.92 156.881 L2234.92 160.909 Q2232.62 161.881 2230.22 162.391 Q2227.81 162.9 2225.33 162.9 Q2219.13 162.9 2215.49 159.289 Q2211.88 155.678 2211.88 149.52 Q2211.88 143.155 2215.31 139.428 Q2218.76 135.678 2224.59 135.678 Q2229.82 135.678 2232.86 139.057 Q2235.91 142.414 2235.91 148.201 M2231.65 146.951 Q2231.61 143.456 2229.68 141.372 Q2227.79 139.289 2224.64 139.289 Q2221.07 139.289 2218.92 141.303 Q2216.79 143.317 2216.47 146.974 L2231.65 146.951 Z\" fill=\"#000000\" fill-rule=\"evenodd\" fill-opacity=\"1\" /></svg>\n"
      ]
     },
     "execution_count": 234,
     "metadata": {},
     "output_type": "execute_result"
    }
   ],
   "source": [
    "StatsPlots.plot(ks, ys, label=\"silhouette score\", ylabel = \"silhouette score\", xlabel = \"number of clusters\")"
   ]
  },
  {
   "cell_type": "code",
   "execution_count": 235,
   "id": "7a62ab6d-a365-4f11-beae-70f173ded297",
   "metadata": {},
   "outputs": [],
   "source": [
    "ymax, ymax_index = findmax(ys);"
   ]
  },
  {
   "cell_type": "code",
   "execution_count": 236,
   "id": "4390c1f5-1474-4330-832a-f2f30cd52bc3",
   "metadata": {},
   "outputs": [],
   "source": [
    "optimal_k = ks[ymax_index];"
   ]
  },
  {
   "cell_type": "code",
   "execution_count": 237,
   "id": "ef2167b3-2adb-4cc4-bfa2-2f350c0440d0",
   "metadata": {},
   "outputs": [],
   "source": [
    "clusterings = [Clustering.kmedoids(distance_matrix, optimal_k) for i in 1:10]\n",
    "max_value, max_value_index = findmax(clustering -> Statistics.mean(Clustering.silhouettes(clustering, distance_matrix)), clusterings);"
   ]
  },
  {
   "cell_type": "code",
   "execution_count": 238,
   "id": "e7829cf9-b2d8-400f-b0b9-223151bd09ad",
   "metadata": {},
   "outputs": [
    {
     "data": {
      "text/plain": [
       "Clustering.KmedoidsResult{Float64}([124, 48], [2, 2, 2, 2, 2, 2, 2, 2, 2, 2  …  1, 1, 1, 1, 1, 1, 1, 1, 1, 1], [5.584962500721156, 4.584962500721156, 4.0, 3.584962500721156, 3.263034405833794, 3.0, 2.777607578663552, 2.584962500721156, 2.415037499278844, 2.263034405833794  …  0.004471495847075957, 0.0049497637251150195, 0.005587207694786045, 0.006383616790854418, 0.007497851445039672, 0.008134170802973628, 0.008611226208000033, 0.009882603281591074, 0.010200272564144797, 0.012263419665828224], [58, 95], 93.82451364485556, 1, true)"
      ]
     },
     "execution_count": 238,
     "metadata": {},
     "output_type": "execute_result"
    }
   ],
   "source": [
    "optimal_clustering = clusterings[max_value_index]"
   ]
  },
  {
   "cell_type": "code",
   "execution_count": 239,
   "id": "718a1f70-24a0-4e5d-8a43-0d9f210b1bb5",
   "metadata": {},
   "outputs": [
    {
     "data": {
      "text/plain": [
       "(48, 2)"
      ]
     },
     "execution_count": 239,
     "metadata": {},
     "output_type": "execute_result"
    }
   ],
   "source": [
    "min_medoid_value, min_medoid_index = findmin(optimal_clustering.medoids)"
   ]
  },
  {
   "cell_type": "code",
   "execution_count": 240,
   "id": "f9bab4fd-d788-4f81-ab0d-4d2eb92773d6",
   "metadata": {},
   "outputs": [],
   "source": [
    "indices_to_include = map(assignment -> assignment .!= min_medoid_index, optimal_clustering.assignments);"
   ]
  },
  {
   "cell_type": "code",
   "execution_count": 241,
   "id": "4cefce06-dfee-4685-9577-cafa5cb28ca2",
   "metadata": {},
   "outputs": [
    {
     "data": {
      "text/plain": [
       "119"
      ]
     },
     "execution_count": 241,
     "metadata": {},
     "output_type": "execute_result"
    }
   ],
   "source": [
    "threshold = Int(ceil(2^maximum(kmer_depth_of_coverage_bins[.!indices_to_include]))) + 1"
   ]
  },
  {
   "cell_type": "code",
   "execution_count": 242,
   "id": "1f625070-3a83-460d-8a93-e1e8db61c3e2",
   "metadata": {},
   "outputs": [
    {
     "data": {
      "image/svg+xml": [
       "<?xml version=\"1.0\" encoding=\"utf-8\"?>\n",
       "<svg xmlns=\"http://www.w3.org/2000/svg\" xmlns:xlink=\"http://www.w3.org/1999/xlink\" width=\"500\" height=\"250\" viewBox=\"0 0 2000 1000\">\n",
       "<defs>\n",
       "  <clipPath id=\"clip810\">\n",
       "    <rect x=\"0\" y=\"0\" width=\"2000\" height=\"1000\"/>\n",
       "  </clipPath>\n",
       "</defs>\n",
       "<path clip-path=\"url(#clip810)\" d=\"\n",
       "M0 1000 L2000 1000 L2000 0 L0 0  Z\n",
       "  \" fill=\"#ffffff\" fill-rule=\"evenodd\" fill-opacity=\"1\"/>\n",
       "<defs>\n",
       "  <clipPath id=\"clip811\">\n",
       "    <rect x=\"400\" y=\"0\" width=\"1401\" height=\"1000\"/>\n",
       "  </clipPath>\n",
       "</defs>\n",
       "<path clip-path=\"url(#clip810)\" d=\"\n",
       "M186.347 849.7 L1952.76 849.7 L1952.76 108.352 L186.347 108.352  Z\n",
       "  \" fill=\"#ffffff\" fill-rule=\"evenodd\" fill-opacity=\"1\"/>\n",
       "<defs>\n",
       "  <clipPath id=\"clip812\">\n",
       "    <rect x=\"186\" y=\"108\" width=\"1767\" height=\"742\"/>\n",
       "  </clipPath>\n",
       "</defs>\n",
       "<polyline clip-path=\"url(#clip812)\" style=\"stroke:#000000; stroke-linecap:butt; stroke-linejoin:round; stroke-width:2; stroke-opacity:0.1; fill:none\" points=\"\n",
       "  186.347,849.7 186.347,108.352 \n",
       "  \"/>\n",
       "<polyline clip-path=\"url(#clip812)\" style=\"stroke:#000000; stroke-linecap:butt; stroke-linejoin:round; stroke-width:2; stroke-opacity:0.1; fill:none\" points=\"\n",
       "  769.275,849.7 769.275,108.352 \n",
       "  \"/>\n",
       "<polyline clip-path=\"url(#clip812)\" style=\"stroke:#000000; stroke-linecap:butt; stroke-linejoin:round; stroke-width:2; stroke-opacity:0.1; fill:none\" points=\"\n",
       "  1352.2,849.7 1352.2,108.352 \n",
       "  \"/>\n",
       "<polyline clip-path=\"url(#clip812)\" style=\"stroke:#000000; stroke-linecap:butt; stroke-linejoin:round; stroke-width:2; stroke-opacity:0.1; fill:none\" points=\"\n",
       "  1935.13,849.7 1935.13,108.352 \n",
       "  \"/>\n",
       "<polyline clip-path=\"url(#clip810)\" style=\"stroke:#000000; stroke-linecap:butt; stroke-linejoin:round; stroke-width:4; stroke-opacity:1; fill:none\" points=\"\n",
       "  186.347,849.7 1952.76,849.7 \n",
       "  \"/>\n",
       "<polyline clip-path=\"url(#clip810)\" style=\"stroke:#000000; stroke-linecap:butt; stroke-linejoin:round; stroke-width:4; stroke-opacity:1; fill:none\" points=\"\n",
       "  186.347,849.7 186.347,830.802 \n",
       "  \"/>\n",
       "<polyline clip-path=\"url(#clip810)\" style=\"stroke:#000000; stroke-linecap:butt; stroke-linejoin:round; stroke-width:4; stroke-opacity:1; fill:none\" points=\"\n",
       "  769.275,849.7 769.275,830.802 \n",
       "  \"/>\n",
       "<polyline clip-path=\"url(#clip810)\" style=\"stroke:#000000; stroke-linecap:butt; stroke-linejoin:round; stroke-width:4; stroke-opacity:1; fill:none\" points=\"\n",
       "  1352.2,849.7 1352.2,830.802 \n",
       "  \"/>\n",
       "<polyline clip-path=\"url(#clip810)\" style=\"stroke:#000000; stroke-linecap:butt; stroke-linejoin:round; stroke-width:4; stroke-opacity:1; fill:none\" points=\"\n",
       "  1935.13,849.7 1935.13,830.802 \n",
       "  \"/>\n",
       "<path clip-path=\"url(#clip810)\" d=\"M186.347 875.691 Q182.736 875.691 180.908 879.255 Q179.102 882.797 179.102 889.927 Q179.102 897.033 180.908 900.598 Q182.736 904.139 186.347 904.139 Q189.982 904.139 191.787 900.598 Q193.616 897.033 193.616 889.927 Q193.616 882.797 191.787 879.255 Q189.982 875.691 186.347 875.691 M186.347 871.987 Q192.158 871.987 195.213 876.593 Q198.292 881.177 198.292 889.927 Q198.292 898.653 195.213 903.26 Q192.158 907.843 186.347 907.843 Q180.537 907.843 177.459 903.26 Q174.403 898.653 174.403 889.927 Q174.403 881.177 177.459 876.593 Q180.537 871.987 186.347 871.987 Z\" fill=\"#000000\" fill-rule=\"evenodd\" fill-opacity=\"1\" /><path clip-path=\"url(#clip810)\" d=\"M759.553 872.612 L777.91 872.612 L777.91 876.547 L763.836 876.547 L763.836 885.019 Q764.854 884.672 765.873 884.51 Q766.891 884.325 767.91 884.325 Q773.697 884.325 777.076 887.496 Q780.456 890.667 780.456 896.084 Q780.456 901.663 776.984 904.764 Q773.511 907.843 767.192 907.843 Q765.016 907.843 762.748 907.473 Q760.502 907.102 758.095 906.362 L758.095 901.663 Q760.178 902.797 762.4 903.352 Q764.623 903.908 767.099 903.908 Q771.104 903.908 773.442 901.802 Q775.78 899.695 775.78 896.084 Q775.78 892.473 773.442 890.366 Q771.104 888.26 767.099 888.26 Q765.224 888.26 763.349 888.677 Q761.498 889.093 759.553 889.973 L759.553 872.612 Z\" fill=\"#000000\" fill-rule=\"evenodd\" fill-opacity=\"1\" /><path clip-path=\"url(#clip810)\" d=\"M1326.89 903.237 L1334.53 903.237 L1334.53 876.871 L1326.22 878.538 L1326.22 874.279 L1334.48 872.612 L1339.16 872.612 L1339.16 903.237 L1346.8 903.237 L1346.8 907.172 L1326.89 907.172 L1326.89 903.237 Z\" fill=\"#000000\" fill-rule=\"evenodd\" fill-opacity=\"1\" /><path clip-path=\"url(#clip810)\" d=\"M1366.24 875.691 Q1362.63 875.691 1360.8 879.255 Q1359 882.797 1359 889.927 Q1359 897.033 1360.8 900.598 Q1362.63 904.139 1366.24 904.139 Q1369.88 904.139 1371.68 900.598 Q1373.51 897.033 1373.51 889.927 Q1373.51 882.797 1371.68 879.255 Q1369.88 875.691 1366.24 875.691 M1366.24 871.987 Q1372.05 871.987 1375.11 876.593 Q1378.19 881.177 1378.19 889.927 Q1378.19 898.653 1375.11 903.26 Q1372.05 907.843 1366.24 907.843 Q1360.43 907.843 1357.35 903.26 Q1354.3 898.653 1354.3 889.927 Q1354.3 881.177 1357.35 876.593 Q1360.43 871.987 1366.24 871.987 Z\" fill=\"#000000\" fill-rule=\"evenodd\" fill-opacity=\"1\" /><path clip-path=\"url(#clip810)\" d=\"M1910.32 903.237 L1917.96 903.237 L1917.96 876.871 L1909.65 878.538 L1909.65 874.279 L1917.91 872.612 L1922.58 872.612 L1922.58 903.237 L1930.22 903.237 L1930.22 907.172 L1910.32 907.172 L1910.32 903.237 Z\" fill=\"#000000\" fill-rule=\"evenodd\" fill-opacity=\"1\" /><path clip-path=\"url(#clip810)\" d=\"M1939.71 872.612 L1958.07 872.612 L1958.07 876.547 L1944 876.547 L1944 885.019 Q1945.02 884.672 1946.03 884.51 Q1947.05 884.325 1948.07 884.325 Q1953.86 884.325 1957.24 887.496 Q1960.62 890.667 1960.62 896.084 Q1960.62 901.663 1957.14 904.764 Q1953.67 907.843 1947.35 907.843 Q1945.18 907.843 1942.91 907.473 Q1940.66 907.102 1938.26 906.362 L1938.26 901.663 Q1940.34 902.797 1942.56 903.352 Q1944.78 903.908 1947.26 903.908 Q1951.27 903.908 1953.6 901.802 Q1955.94 899.695 1955.94 896.084 Q1955.94 892.473 1953.6 890.366 Q1951.27 888.26 1947.26 888.26 Q1945.39 888.26 1943.51 888.677 Q1941.66 889.093 1939.71 889.973 L1939.71 872.612 Z\" fill=\"#000000\" fill-rule=\"evenodd\" fill-opacity=\"1\" /><path clip-path=\"url(#clip810)\" d=\"M654.651 939.039 L660.507 939.039 L660.507 988.564 L654.651 988.564 L654.651 939.039 Z\" fill=\"#000000\" fill-rule=\"evenodd\" fill-opacity=\"1\" /><path clip-path=\"url(#clip810)\" d=\"M686.575 957.022 Q681.864 957.022 679.127 960.714 Q676.39 964.374 676.39 970.772 Q676.39 977.169 679.095 980.861 Q681.832 984.522 686.575 984.522 Q691.254 984.522 693.991 980.83 Q696.728 977.137 696.728 970.772 Q696.728 964.438 693.991 960.746 Q691.254 957.022 686.575 957.022 M686.575 952.057 Q694.214 952.057 698.574 957.022 Q702.935 961.987 702.935 970.772 Q702.935 979.525 698.574 984.522 Q694.214 989.487 686.575 989.487 Q678.904 989.487 674.544 984.522 Q670.215 979.525 670.215 970.772 Q670.215 961.987 674.544 957.022 Q678.904 952.057 686.575 952.057 Z\" fill=\"#000000\" fill-rule=\"evenodd\" fill-opacity=\"1\" /><path clip-path=\"url(#clip810)\" d=\"M736.1 970.326 Q736.1 963.96 733.458 960.459 Q730.848 956.958 726.106 956.958 Q721.395 956.958 718.754 960.459 Q716.144 963.96 716.144 970.326 Q716.144 976.66 718.754 980.161 Q721.395 983.662 726.106 983.662 Q730.848 983.662 733.458 980.161 Q736.1 976.66 736.1 970.326 M741.957 984.14 Q741.957 993.243 737.914 997.667 Q733.872 1002.12 725.533 1002.12 Q722.446 1002.12 719.708 1001.65 Q716.971 1001.2 714.393 1000.24 L714.393 994.548 Q716.971 995.948 719.486 996.616 Q722 997.285 724.61 997.285 Q730.371 997.285 733.235 994.261 Q736.1 991.269 736.1 985.19 L736.1 982.294 Q734.286 985.445 731.453 987.004 Q728.62 988.564 724.674 988.564 Q718.117 988.564 714.107 983.567 Q710.096 978.57 710.096 970.326 Q710.096 962.051 714.107 957.054 Q718.117 952.057 724.674 952.057 Q728.62 952.057 731.453 953.616 Q734.286 955.176 736.1 958.327 L736.1 952.916 L741.957 952.916 L741.957 984.14 Z\" fill=\"#000000\" fill-rule=\"evenodd\" fill-opacity=\"1\" /><path clip-path=\"url(#clip810)\" d=\"M760.385 983.153 L782.824 983.153 L782.824 988.564 L752.651 988.564 L752.651 983.153 Q756.311 979.365 762.613 973 Q768.947 966.602 770.57 964.756 Q773.658 961.287 774.867 958.9 Q776.109 956.481 776.109 954.157 Q776.109 950.37 773.435 947.982 Q770.793 945.595 766.528 945.595 Q763.504 945.595 760.131 946.646 Q756.789 947.696 752.969 949.829 L752.969 943.335 Q756.852 941.776 760.226 940.98 Q763.6 940.184 766.401 940.184 Q773.785 940.184 778.177 943.877 Q782.57 947.569 782.57 953.743 Q782.57 956.672 781.456 959.313 Q780.374 961.923 777.477 965.488 Q776.681 966.411 772.416 970.835 Q768.151 975.228 760.385 983.153 Z\" fill=\"#000000\" fill-rule=\"evenodd\" fill-opacity=\"1\" /><path clip-path=\"url(#clip810)\" d=\"M809.56 939.102 Q805.295 946.423 803.226 953.584 Q801.158 960.746 801.158 968.098 Q801.158 975.45 803.226 982.676 Q805.327 989.869 809.56 997.158 L804.468 997.158 Q799.693 989.678 797.306 982.453 Q794.951 975.228 794.951 968.098 Q794.951 961 797.306 953.807 Q799.662 946.614 804.468 939.102 L809.56 939.102 Z\" fill=\"#000000\" fill-rule=\"evenodd\" fill-opacity=\"1\" /><path clip-path=\"url(#clip810)\" d=\"M834.737 957.022 Q830.026 957.022 827.289 960.714 Q824.552 964.374 824.552 970.772 Q824.552 977.169 827.257 980.861 Q829.994 984.522 834.737 984.522 Q839.415 984.522 842.153 980.83 Q844.89 977.137 844.89 970.772 Q844.89 964.438 842.153 960.746 Q839.415 957.022 834.737 957.022 M834.737 952.057 Q842.376 952.057 846.736 957.022 Q851.097 961.987 851.097 970.772 Q851.097 979.525 846.736 984.522 Q842.376 989.487 834.737 989.487 Q827.066 989.487 822.705 984.522 Q818.377 979.525 818.377 970.772 Q818.377 961.987 822.705 957.022 Q827.066 952.057 834.737 952.057 Z\" fill=\"#000000\" fill-rule=\"evenodd\" fill-opacity=\"1\" /><path clip-path=\"url(#clip810)\" d=\"M886.394 970.772 Q886.394 964.311 883.721 960.65 Q881.079 956.958 876.432 956.958 Q871.785 956.958 869.112 960.65 Q866.47 964.311 866.47 970.772 Q866.47 977.233 869.112 980.925 Q871.785 984.585 876.432 984.585 Q881.079 984.585 883.721 980.925 Q886.394 977.233 886.394 970.772 M866.47 958.327 Q868.316 955.144 871.117 953.616 Q873.949 952.057 877.864 952.057 Q884.357 952.057 888.4 957.213 Q892.474 962.369 892.474 970.772 Q892.474 979.174 888.4 984.331 Q884.357 989.487 877.864 989.487 Q873.949 989.487 871.117 987.959 Q868.316 986.4 866.47 983.217 L866.47 988.564 L860.581 988.564 L860.581 939.039 L866.47 939.039 L866.47 958.327 Z\" fill=\"#000000\" fill-rule=\"evenodd\" fill-opacity=\"1\" /><path clip-path=\"url(#clip810)\" d=\"M924.907 953.966 L924.907 959.504 Q922.424 958.231 919.751 957.595 Q917.077 956.958 914.213 956.958 Q909.852 956.958 907.656 958.295 Q905.492 959.632 905.492 962.305 Q905.492 964.342 907.051 965.52 Q908.611 966.666 913.321 967.716 L915.327 968.162 Q921.565 969.499 924.175 971.949 Q926.817 974.368 926.817 978.729 Q926.817 983.694 922.87 986.59 Q918.955 989.487 912.08 989.487 Q909.215 989.487 906.096 988.914 Q903.009 988.373 899.571 987.259 L899.571 981.211 Q902.818 982.898 905.969 983.758 Q909.12 984.585 912.207 984.585 Q916.345 984.585 918.573 983.185 Q920.801 981.753 920.801 979.174 Q920.801 976.787 919.178 975.514 Q917.586 974.241 912.144 973.063 L910.107 972.586 Q904.664 971.44 902.245 969.085 Q899.826 966.698 899.826 962.56 Q899.826 957.531 903.391 954.794 Q906.956 952.057 913.512 952.057 Q916.759 952.057 919.623 952.534 Q922.488 953.011 924.907 953.966 Z\" fill=\"#000000\" fill-rule=\"evenodd\" fill-opacity=\"1\" /><path clip-path=\"url(#clip810)\" d=\"M966.634 969.276 L966.634 972.14 L939.707 972.14 Q940.089 978.188 943.336 981.371 Q946.614 984.522 952.439 984.522 Q955.812 984.522 958.963 983.694 Q962.146 982.867 965.265 981.211 L965.265 986.75 Q962.114 988.086 958.804 988.787 Q955.494 989.487 952.088 989.487 Q943.558 989.487 938.561 984.522 Q933.596 979.556 933.596 971.09 Q933.596 962.337 938.307 957.213 Q943.049 952.057 951.07 952.057 Q958.263 952.057 962.433 956.703 Q966.634 961.319 966.634 969.276 M960.778 967.557 Q960.714 962.751 958.072 959.886 Q955.462 957.022 951.134 957.022 Q946.232 957.022 943.272 959.791 Q940.344 962.56 939.898 967.589 L960.778 967.557 Z\" fill=\"#000000\" fill-rule=\"evenodd\" fill-opacity=\"1\" /><path clip-path=\"url(#clip810)\" d=\"M996.903 958.39 Q995.916 957.817 994.739 957.563 Q993.593 957.276 992.192 957.276 Q987.227 957.276 984.554 960.523 Q981.912 963.738 981.912 969.785 L981.912 988.564 L976.024 988.564 L976.024 952.916 L981.912 952.916 L981.912 958.454 Q983.758 955.208 986.718 953.648 Q989.678 952.057 993.911 952.057 Q994.516 952.057 995.248 952.152 Q995.98 952.216 996.871 952.375 L996.903 958.39 Z\" fill=\"#000000\" fill-rule=\"evenodd\" fill-opacity=\"1\" /><path clip-path=\"url(#clip810)\" d=\"M998.845 952.916 L1005.05 952.916 L1016.19 982.835 L1027.33 952.916 L1033.54 952.916 L1020.17 988.564 L1012.21 988.564 L998.845 952.916 Z\" fill=\"#000000\" fill-rule=\"evenodd\" fill-opacity=\"1\" /><path clip-path=\"url(#clip810)\" d=\"M1072.11 969.276 L1072.11 972.14 L1045.19 972.14 Q1045.57 978.188 1048.82 981.371 Q1052.09 984.522 1057.92 984.522 Q1061.29 984.522 1064.44 983.694 Q1067.63 982.867 1070.75 981.211 L1070.75 986.75 Q1067.59 988.086 1064.28 988.787 Q1060.97 989.487 1057.57 989.487 Q1049.04 989.487 1044.04 984.522 Q1039.08 979.556 1039.08 971.09 Q1039.08 962.337 1043.79 957.213 Q1048.53 952.057 1056.55 952.057 Q1063.74 952.057 1067.91 956.703 Q1072.11 961.319 1072.11 969.276 M1066.26 967.557 Q1066.19 962.751 1063.55 959.886 Q1060.94 957.022 1056.61 957.022 Q1051.71 957.022 1048.75 959.791 Q1045.82 962.56 1045.38 967.589 L1066.26 967.557 Z\" fill=\"#000000\" fill-rule=\"evenodd\" fill-opacity=\"1\" /><path clip-path=\"url(#clip810)\" d=\"M1105.18 958.327 L1105.18 939.039 L1111.04 939.039 L1111.04 988.564 L1105.18 988.564 L1105.18 983.217 Q1103.34 986.4 1100.5 987.959 Q1097.7 989.487 1093.76 989.487 Q1087.3 989.487 1083.22 984.331 Q1079.18 979.174 1079.18 970.772 Q1079.18 962.369 1083.22 957.213 Q1087.3 952.057 1093.76 952.057 Q1097.7 952.057 1100.5 953.616 Q1103.34 955.144 1105.18 958.327 M1085.23 970.772 Q1085.23 977.233 1087.87 980.925 Q1090.54 984.585 1095.19 984.585 Q1099.84 984.585 1102.51 980.925 Q1105.18 977.233 1105.18 970.772 Q1105.18 964.311 1102.51 960.65 Q1099.84 956.958 1095.19 956.958 Q1090.54 956.958 1087.87 960.65 Q1085.23 964.311 1085.23 970.772 Z\" fill=\"#000000\" fill-rule=\"evenodd\" fill-opacity=\"1\" /><path clip-path=\"url(#clip810)\" d=\"M1161.87 939.039 L1161.87 943.908 L1156.27 943.908 Q1153.12 943.908 1151.88 945.182 Q1150.67 946.455 1150.67 949.765 L1150.67 952.916 L1160.31 952.916 L1160.31 957.467 L1150.67 957.467 L1150.67 988.564 L1144.78 988.564 L1144.78 957.467 L1139.18 957.467 L1139.18 952.916 L1144.78 952.916 L1144.78 950.433 Q1144.78 944.481 1147.55 941.776 Q1150.32 939.039 1156.33 939.039 L1161.87 939.039 Z\" fill=\"#000000\" fill-rule=\"evenodd\" fill-opacity=\"1\" /><path clip-path=\"url(#clip810)\" d=\"M1187.43 958.39 Q1186.44 957.817 1185.26 957.563 Q1184.12 957.276 1182.72 957.276 Q1177.75 957.276 1175.08 960.523 Q1172.44 963.738 1172.44 969.785 L1172.44 988.564 L1166.55 988.564 L1166.55 952.916 L1172.44 952.916 L1172.44 958.454 Q1174.28 955.208 1177.24 953.648 Q1180.2 952.057 1184.44 952.057 Q1185.04 952.057 1185.77 952.152 Q1186.51 952.216 1187.4 952.375 L1187.43 958.39 Z\" fill=\"#000000\" fill-rule=\"evenodd\" fill-opacity=\"1\" /><path clip-path=\"url(#clip810)\" d=\"M1222.63 969.276 L1222.63 972.14 L1195.7 972.14 Q1196.09 978.188 1199.33 981.371 Q1202.61 984.522 1208.44 984.522 Q1211.81 984.522 1214.96 983.694 Q1218.14 982.867 1221.26 981.211 L1221.26 986.75 Q1218.11 988.086 1214.8 988.787 Q1211.49 989.487 1208.09 989.487 Q1199.56 989.487 1194.56 984.522 Q1189.59 979.556 1189.59 971.09 Q1189.59 962.337 1194.3 957.213 Q1199.05 952.057 1207.07 952.057 Q1214.26 952.057 1218.43 956.703 Q1222.63 961.319 1222.63 969.276 M1216.77 967.557 Q1216.71 962.751 1214.07 959.886 Q1211.46 957.022 1207.13 957.022 Q1202.23 957.022 1199.27 959.791 Q1196.34 962.56 1195.9 967.589 L1216.77 967.557 Z\" fill=\"#000000\" fill-rule=\"evenodd\" fill-opacity=\"1\" /><path clip-path=\"url(#clip810)\" d=\"M1235.74 970.772 Q1235.74 977.233 1238.39 980.925 Q1241.06 984.585 1245.71 984.585 Q1250.35 984.585 1253.03 980.925 Q1255.7 977.233 1255.7 970.772 Q1255.7 964.311 1253.03 960.65 Q1250.35 956.958 1245.71 956.958 Q1241.06 956.958 1238.39 960.65 Q1235.74 964.311 1235.74 970.772 M1255.7 983.217 Q1253.85 986.4 1251.02 987.959 Q1248.22 989.487 1244.27 989.487 Q1237.81 989.487 1233.74 984.331 Q1229.7 979.174 1229.7 970.772 Q1229.7 962.369 1233.74 957.213 Q1237.81 952.057 1244.27 952.057 Q1248.22 952.057 1251.02 953.616 Q1253.85 955.144 1255.7 958.327 L1255.7 952.916 L1261.56 952.916 L1261.56 1002.12 L1255.7 1002.12 L1255.7 983.217 Z\" fill=\"#000000\" fill-rule=\"evenodd\" fill-opacity=\"1\" /><path clip-path=\"url(#clip810)\" d=\"M1273.02 974.496 L1273.02 952.916 L1278.87 952.916 L1278.87 974.273 Q1278.87 979.334 1280.85 981.88 Q1282.82 984.394 1286.77 984.394 Q1291.51 984.394 1294.25 981.371 Q1297.01 978.347 1297.01 973.127 L1297.01 952.916 L1302.87 952.916 L1302.87 988.564 L1297.01 988.564 L1297.01 983.089 Q1294.88 986.336 1292.05 987.927 Q1289.25 989.487 1285.52 989.487 Q1279.38 989.487 1276.2 985.667 Q1273.02 981.848 1273.02 974.496 M1287.75 952.057 L1287.75 952.057 Z\" fill=\"#000000\" fill-rule=\"evenodd\" fill-opacity=\"1\" /><path clip-path=\"url(#clip810)\" d=\"M1345.43 969.276 L1345.43 972.14 L1318.5 972.14 Q1318.88 978.188 1322.13 981.371 Q1325.41 984.522 1331.23 984.522 Q1334.6 984.522 1337.75 983.694 Q1340.94 982.867 1344.06 981.211 L1344.06 986.75 Q1340.91 988.086 1337.6 988.787 Q1334.29 989.487 1330.88 989.487 Q1322.35 989.487 1317.35 984.522 Q1312.39 979.556 1312.39 971.09 Q1312.39 962.337 1317.1 957.213 Q1321.84 952.057 1329.86 952.057 Q1337.05 952.057 1341.22 956.703 Q1345.43 961.319 1345.43 969.276 M1339.57 967.557 Q1339.51 962.751 1336.86 959.886 Q1334.25 957.022 1329.93 957.022 Q1325.02 957.022 1322.06 959.791 Q1319.14 962.56 1318.69 967.589 L1339.57 967.557 Z\" fill=\"#000000\" fill-rule=\"evenodd\" fill-opacity=\"1\" /><path clip-path=\"url(#clip810)\" d=\"M1384.67 967.048 L1384.67 988.564 L1378.81 988.564 L1378.81 967.239 Q1378.81 962.178 1376.84 959.664 Q1374.87 957.149 1370.92 957.149 Q1366.18 957.149 1363.44 960.173 Q1360.7 963.197 1360.7 968.416 L1360.7 988.564 L1354.81 988.564 L1354.81 952.916 L1360.7 952.916 L1360.7 958.454 Q1362.8 955.239 1365.64 953.648 Q1368.5 952.057 1372.23 952.057 Q1378.37 952.057 1381.52 955.876 Q1384.67 959.664 1384.67 967.048 Z\" fill=\"#000000\" fill-rule=\"evenodd\" fill-opacity=\"1\" /><path clip-path=\"url(#clip810)\" d=\"M1422 954.285 L1422 959.759 Q1419.52 958.39 1417.01 957.722 Q1414.53 957.022 1411.98 957.022 Q1406.28 957.022 1403.13 960.65 Q1399.98 964.247 1399.98 970.772 Q1399.98 977.297 1403.13 980.925 Q1406.28 984.522 1411.98 984.522 Q1414.53 984.522 1417.01 983.853 Q1419.52 983.153 1422 981.784 L1422 987.195 Q1419.55 988.341 1416.91 988.914 Q1414.3 989.487 1411.34 989.487 Q1403.29 989.487 1398.55 984.426 Q1393.8 979.365 1393.8 970.772 Q1393.8 962.051 1398.58 957.054 Q1403.39 952.057 1411.72 952.057 Q1414.43 952.057 1417.01 952.629 Q1419.59 953.171 1422 954.285 Z\" fill=\"#000000\" fill-rule=\"evenodd\" fill-opacity=\"1\" /><path clip-path=\"url(#clip810)\" d=\"M1447.02 991.874 Q1444.54 998.24 1442.18 1000.18 Q1439.83 1002.12 1435.88 1002.12 L1431.2 1002.12 L1431.2 997.221 L1434.64 997.221 Q1437.06 997.221 1438.4 996.075 Q1439.73 994.93 1441.36 990.665 L1442.41 987.991 L1427.99 952.916 L1434.2 952.916 L1445.34 980.798 L1456.48 952.916 L1462.68 952.916 L1447.02 991.874 Z\" fill=\"#000000\" fill-rule=\"evenodd\" fill-opacity=\"1\" /><path clip-path=\"url(#clip810)\" d=\"M1469.84 939.102 L1474.94 939.102 Q1479.71 946.614 1482.07 953.807 Q1484.45 961 1484.45 968.098 Q1484.45 975.228 1482.07 982.453 Q1479.71 989.678 1474.94 997.158 L1469.84 997.158 Q1474.08 989.869 1476.15 982.676 Q1478.25 975.45 1478.25 968.098 Q1478.25 960.746 1476.15 953.584 Q1474.08 946.423 1469.84 939.102 Z\" fill=\"#000000\" fill-rule=\"evenodd\" fill-opacity=\"1\" /><polyline clip-path=\"url(#clip812)\" style=\"stroke:#000000; stroke-linecap:butt; stroke-linejoin:round; stroke-width:2; stroke-opacity:0.1; fill:none\" points=\"\n",
       "  186.347,849.7 1952.76,849.7 \n",
       "  \"/>\n",
       "<polyline clip-path=\"url(#clip812)\" style=\"stroke:#000000; stroke-linecap:butt; stroke-linejoin:round; stroke-width:2; stroke-opacity:0.1; fill:none\" points=\"\n",
       "  186.347,742.325 1952.76,742.325 \n",
       "  \"/>\n",
       "<polyline clip-path=\"url(#clip812)\" style=\"stroke:#000000; stroke-linecap:butt; stroke-linejoin:round; stroke-width:2; stroke-opacity:0.1; fill:none\" points=\"\n",
       "  186.347,634.95 1952.76,634.95 \n",
       "  \"/>\n",
       "<polyline clip-path=\"url(#clip812)\" style=\"stroke:#000000; stroke-linecap:butt; stroke-linejoin:round; stroke-width:2; stroke-opacity:0.1; fill:none\" points=\"\n",
       "  186.347,527.575 1952.76,527.575 \n",
       "  \"/>\n",
       "<polyline clip-path=\"url(#clip812)\" style=\"stroke:#000000; stroke-linecap:butt; stroke-linejoin:round; stroke-width:2; stroke-opacity:0.1; fill:none\" points=\"\n",
       "  186.347,420.2 1952.76,420.2 \n",
       "  \"/>\n",
       "<polyline clip-path=\"url(#clip812)\" style=\"stroke:#000000; stroke-linecap:butt; stroke-linejoin:round; stroke-width:2; stroke-opacity:0.1; fill:none\" points=\"\n",
       "  186.347,312.824 1952.76,312.824 \n",
       "  \"/>\n",
       "<polyline clip-path=\"url(#clip812)\" style=\"stroke:#000000; stroke-linecap:butt; stroke-linejoin:round; stroke-width:2; stroke-opacity:0.1; fill:none\" points=\"\n",
       "  186.347,205.449 1952.76,205.449 \n",
       "  \"/>\n",
       "<polyline clip-path=\"url(#clip810)\" style=\"stroke:#000000; stroke-linecap:butt; stroke-linejoin:round; stroke-width:4; stroke-opacity:1; fill:none\" points=\"\n",
       "  186.347,849.7 186.347,108.352 \n",
       "  \"/>\n",
       "<polyline clip-path=\"url(#clip810)\" style=\"stroke:#000000; stroke-linecap:butt; stroke-linejoin:round; stroke-width:4; stroke-opacity:1; fill:none\" points=\"\n",
       "  186.347,849.7 205.245,849.7 \n",
       "  \"/>\n",
       "<polyline clip-path=\"url(#clip810)\" style=\"stroke:#000000; stroke-linecap:butt; stroke-linejoin:round; stroke-width:4; stroke-opacity:1; fill:none\" points=\"\n",
       "  186.347,742.325 205.245,742.325 \n",
       "  \"/>\n",
       "<polyline clip-path=\"url(#clip810)\" style=\"stroke:#000000; stroke-linecap:butt; stroke-linejoin:round; stroke-width:4; stroke-opacity:1; fill:none\" points=\"\n",
       "  186.347,634.95 205.245,634.95 \n",
       "  \"/>\n",
       "<polyline clip-path=\"url(#clip810)\" style=\"stroke:#000000; stroke-linecap:butt; stroke-linejoin:round; stroke-width:4; stroke-opacity:1; fill:none\" points=\"\n",
       "  186.347,527.575 205.245,527.575 \n",
       "  \"/>\n",
       "<polyline clip-path=\"url(#clip810)\" style=\"stroke:#000000; stroke-linecap:butt; stroke-linejoin:round; stroke-width:4; stroke-opacity:1; fill:none\" points=\"\n",
       "  186.347,420.2 205.245,420.2 \n",
       "  \"/>\n",
       "<polyline clip-path=\"url(#clip810)\" style=\"stroke:#000000; stroke-linecap:butt; stroke-linejoin:round; stroke-width:4; stroke-opacity:1; fill:none\" points=\"\n",
       "  186.347,312.824 205.245,312.824 \n",
       "  \"/>\n",
       "<polyline clip-path=\"url(#clip810)\" style=\"stroke:#000000; stroke-linecap:butt; stroke-linejoin:round; stroke-width:4; stroke-opacity:1; fill:none\" points=\"\n",
       "  186.347,205.449 205.245,205.449 \n",
       "  \"/>\n",
       "<path clip-path=\"url(#clip810)\" d=\"M144.403 835.499 Q140.792 835.499 138.963 839.063 Q137.158 842.605 137.158 849.735 Q137.158 856.841 138.963 860.406 Q140.792 863.947 144.403 863.947 Q148.037 863.947 149.843 860.406 Q151.672 856.841 151.672 849.735 Q151.672 842.605 149.843 839.063 Q148.037 835.499 144.403 835.499 M144.403 831.795 Q150.213 831.795 153.269 836.401 Q156.347 840.985 156.347 849.735 Q156.347 858.461 153.269 863.068 Q150.213 867.651 144.403 867.651 Q138.593 867.651 135.514 863.068 Q132.459 858.461 132.459 849.735 Q132.459 840.985 135.514 836.401 Q138.593 831.795 144.403 831.795 Z\" fill=\"#000000\" fill-rule=\"evenodd\" fill-opacity=\"1\" /><path clip-path=\"url(#clip810)\" d=\"M140.028 755.67 L156.347 755.67 L156.347 759.605 L134.403 759.605 L134.403 755.67 Q137.065 752.915 141.648 748.285 Q146.255 743.633 147.435 742.29 Q149.681 739.767 150.56 738.031 Q151.463 736.272 151.463 734.582 Q151.463 731.827 149.519 730.091 Q147.598 728.355 144.496 728.355 Q142.297 728.355 139.843 729.119 Q137.412 729.883 134.635 731.434 L134.635 726.711 Q137.459 725.577 139.912 724.998 Q142.366 724.42 144.403 724.42 Q149.773 724.42 152.968 727.105 Q156.162 729.79 156.162 734.281 Q156.162 736.41 155.352 738.332 Q154.565 740.23 152.459 742.822 Q151.88 743.494 148.778 746.711 Q145.676 749.906 140.028 755.67 Z\" fill=\"#000000\" fill-rule=\"evenodd\" fill-opacity=\"1\" /><path clip-path=\"url(#clip810)\" d=\"M146.764 621.744 L134.959 640.193 L146.764 640.193 L146.764 621.744 M145.537 617.67 L151.417 617.67 L151.417 640.193 L156.347 640.193 L156.347 644.082 L151.417 644.082 L151.417 652.23 L146.764 652.23 L146.764 644.082 L131.162 644.082 L131.162 639.568 L145.537 617.67 Z\" fill=\"#000000\" fill-rule=\"evenodd\" fill-opacity=\"1\" /><path clip-path=\"url(#clip810)\" d=\"M144.82 525.711 Q141.672 525.711 139.82 527.864 Q137.991 530.017 137.991 533.767 Q137.991 537.494 139.82 539.669 Q141.672 541.822 144.82 541.822 Q147.968 541.822 149.797 539.669 Q151.648 537.494 151.648 533.767 Q151.648 530.017 149.797 527.864 Q147.968 525.711 144.82 525.711 M154.102 511.058 L154.102 515.318 Q152.343 514.484 150.537 514.045 Q148.755 513.605 146.996 513.605 Q142.366 513.605 139.912 516.73 Q137.482 519.855 137.135 526.174 Q138.5 524.16 140.561 523.095 Q142.621 522.008 145.098 522.008 Q150.306 522.008 153.315 525.179 Q156.347 528.327 156.347 533.767 Q156.347 539.091 153.199 542.308 Q150.051 545.526 144.82 545.526 Q138.824 545.526 135.653 540.943 Q132.482 536.336 132.482 527.609 Q132.482 519.415 136.371 514.554 Q140.26 509.67 146.81 509.67 Q148.57 509.67 150.352 510.017 Q152.158 510.364 154.102 511.058 Z\" fill=\"#000000\" fill-rule=\"evenodd\" fill-opacity=\"1\" /><path clip-path=\"url(#clip810)\" d=\"M144.496 421.068 Q141.162 421.068 139.241 422.85 Q137.343 424.632 137.343 427.757 Q137.343 430.882 139.241 432.665 Q141.162 434.447 144.496 434.447 Q147.829 434.447 149.75 432.665 Q151.672 430.859 151.672 427.757 Q151.672 424.632 149.75 422.85 Q147.852 421.068 144.496 421.068 M139.82 419.077 Q136.811 418.336 135.121 416.276 Q133.454 414.216 133.454 411.253 Q133.454 407.109 136.394 404.702 Q139.357 402.295 144.496 402.295 Q149.658 402.295 152.597 404.702 Q155.537 407.109 155.537 411.253 Q155.537 414.216 153.847 416.276 Q152.181 418.336 149.195 419.077 Q152.574 419.864 154.449 422.156 Q156.347 424.447 156.347 427.757 Q156.347 432.78 153.269 435.466 Q150.213 438.151 144.496 438.151 Q138.778 438.151 135.699 435.466 Q132.644 432.78 132.644 427.757 Q132.644 424.447 134.542 422.156 Q136.44 419.864 139.82 419.077 M138.107 411.693 Q138.107 414.378 139.773 415.882 Q141.463 417.387 144.496 417.387 Q147.505 417.387 149.195 415.882 Q150.908 414.378 150.908 411.693 Q150.908 409.007 149.195 407.503 Q147.505 405.998 144.496 405.998 Q141.463 405.998 139.773 407.503 Q138.107 409.007 138.107 411.693 Z\" fill=\"#000000\" fill-rule=\"evenodd\" fill-opacity=\"1\" /><path clip-path=\"url(#clip810)\" d=\"M105.051 326.169 L112.69 326.169 L112.69 299.804 L104.38 301.47 L104.38 297.211 L112.644 295.544 L117.32 295.544 L117.32 326.169 L124.959 326.169 L124.959 330.104 L105.051 330.104 L105.051 326.169 Z\" fill=\"#000000\" fill-rule=\"evenodd\" fill-opacity=\"1\" /><path clip-path=\"url(#clip810)\" d=\"M144.403 298.623 Q140.792 298.623 138.963 302.188 Q137.158 305.73 137.158 312.859 Q137.158 319.966 138.963 323.53 Q140.792 327.072 144.403 327.072 Q148.037 327.072 149.843 323.53 Q151.672 319.966 151.672 312.859 Q151.672 305.73 149.843 302.188 Q148.037 298.623 144.403 298.623 M144.403 294.919 Q150.213 294.919 153.269 299.526 Q156.347 304.109 156.347 312.859 Q156.347 321.586 153.269 326.192 Q150.213 330.776 144.403 330.776 Q138.593 330.776 135.514 326.192 Q132.459 321.586 132.459 312.859 Q132.459 304.109 135.514 299.526 Q138.593 294.919 144.403 294.919 Z\" fill=\"#000000\" fill-rule=\"evenodd\" fill-opacity=\"1\" /><path clip-path=\"url(#clip810)\" d=\"M106.649 218.794 L114.288 218.794 L114.288 192.429 L105.977 194.095 L105.977 189.836 L114.241 188.169 L118.917 188.169 L118.917 218.794 L126.556 218.794 L126.556 222.729 L106.649 222.729 L106.649 218.794 Z\" fill=\"#000000\" fill-rule=\"evenodd\" fill-opacity=\"1\" /><path clip-path=\"url(#clip810)\" d=\"M140.028 218.794 L156.347 218.794 L156.347 222.729 L134.403 222.729 L134.403 218.794 Q137.065 216.04 141.648 211.41 Q146.255 206.757 147.435 205.415 Q149.681 202.892 150.56 201.155 Q151.463 199.396 151.463 197.706 Q151.463 194.952 149.519 193.216 Q147.598 191.48 144.496 191.48 Q142.297 191.48 139.843 192.243 Q137.412 193.007 134.635 194.558 L134.635 189.836 Q137.459 188.702 139.912 188.123 Q142.366 187.544 144.403 187.544 Q149.773 187.544 152.968 190.23 Q156.162 192.915 156.162 197.405 Q156.162 199.535 155.352 201.456 Q154.565 203.354 152.459 205.947 Q151.88 206.618 148.778 209.836 Q145.676 213.03 140.028 218.794 Z\" fill=\"#000000\" fill-rule=\"evenodd\" fill-opacity=\"1\" /><path clip-path=\"url(#clip810)\" d=\"M10.599 749.505 L10.599 743.648 L60.1242 743.648 L60.1242 749.505 L10.599 749.505 Z\" fill=\"#000000\" fill-rule=\"evenodd\" fill-opacity=\"1\" /><path clip-path=\"url(#clip810)\" d=\"M28.5821 717.581 Q28.5821 722.291 32.2742 725.029 Q35.9345 727.766 42.332 727.766 Q48.7295 727.766 52.4217 725.061 Q56.0819 722.323 56.0819 717.581 Q56.0819 712.902 52.3898 710.165 Q48.6977 707.428 42.332 707.428 Q35.9981 707.428 32.306 710.165 Q28.5821 712.902 28.5821 717.581 M23.6168 717.581 Q23.6168 709.942 28.5821 705.581 Q33.5473 701.221 42.332 701.221 Q51.0849 701.221 56.0819 705.581 Q61.0472 709.942 61.0472 717.581 Q61.0472 725.252 56.0819 729.612 Q51.0849 733.941 42.332 733.941 Q33.5473 733.941 28.5821 729.612 Q23.6168 725.252 23.6168 717.581 Z\" fill=\"#000000\" fill-rule=\"evenodd\" fill-opacity=\"1\" /><path clip-path=\"url(#clip810)\" d=\"M41.8864 668.056 Q35.5207 668.056 32.0196 670.697 Q28.5184 673.307 28.5184 678.05 Q28.5184 682.76 32.0196 685.402 Q35.5207 688.012 41.8864 688.012 Q48.2203 688.012 51.7214 685.402 Q55.2226 682.76 55.2226 678.05 Q55.2226 673.307 51.7214 670.697 Q48.2203 668.056 41.8864 668.056 M55.7 662.199 Q64.803 662.199 69.2271 666.241 Q73.6831 670.284 73.6831 678.623 Q73.6831 681.71 73.2057 684.447 Q72.7601 687.185 71.8052 689.763 L66.1079 689.763 Q67.5084 687.185 68.1768 684.67 Q68.8452 682.156 68.8452 679.546 Q68.8452 673.785 65.8215 670.92 Q62.8296 668.056 56.7503 668.056 L53.8539 668.056 Q57.005 669.87 58.5646 672.703 Q60.1242 675.535 60.1242 679.482 Q60.1242 686.039 55.1271 690.049 Q50.13 694.06 41.8864 694.06 Q33.611 694.06 28.6139 690.049 Q23.6168 686.039 23.6168 679.482 Q23.6168 675.535 25.1764 672.703 Q26.736 669.87 29.8871 668.056 L24.4762 668.056 L24.4762 662.199 L55.7 662.199 Z\" fill=\"#000000\" fill-rule=\"evenodd\" fill-opacity=\"1\" /><path clip-path=\"url(#clip810)\" d=\"M54.7133 643.77 L54.7133 621.331 L60.1242 621.331 L60.1242 651.505 L54.7133 651.505 Q50.9257 647.845 44.56 641.542 Q38.1625 635.209 36.3164 633.585 Q32.8471 630.498 30.46 629.288 Q28.041 628.047 25.7175 628.047 Q21.9299 628.047 19.5428 630.721 Q17.1556 633.363 17.1556 637.628 Q17.1556 640.651 18.206 644.025 Q19.2563 647.367 21.3888 651.187 L14.8958 651.187 Q13.3362 647.303 12.5405 643.93 Q11.7448 640.556 11.7448 637.755 Q11.7448 630.371 15.4369 625.978 Q19.129 621.586 25.3037 621.586 Q28.232 621.586 30.8737 622.7 Q33.4837 623.782 37.0485 626.679 Q37.9715 627.474 42.3957 631.739 Q46.788 636.004 54.7133 643.77 Z\" fill=\"#000000\" fill-rule=\"evenodd\" fill-opacity=\"1\" /><path clip-path=\"url(#clip810)\" d=\"M10.6626 594.595 Q17.9832 598.86 25.1446 600.929 Q32.306 602.998 39.6584 602.998 Q47.0108 602.998 54.2359 600.929 Q61.4291 598.829 68.7179 594.595 L68.7179 599.688 Q61.2382 604.462 54.0131 606.849 Q46.788 609.205 39.6584 609.205 Q32.5606 609.205 25.3674 606.849 Q18.1742 604.494 10.6626 599.688 L10.6626 594.595 Z\" fill=\"#000000\" fill-rule=\"evenodd\" fill-opacity=\"1\" /><path clip-path=\"url(#clip810)\" d=\"M31.4466 556.051 L31.4466 565.313 L42.0774 567.987 L42.0774 558.661 L31.4466 556.051 M13.3362 560.825 L26.5451 564.135 L26.5451 554.842 L13.3362 551.5 L13.3362 546.407 L26.5451 549.685 L26.5451 539.755 L31.4466 539.755 L31.4466 550.927 L42.0774 553.537 L42.0774 543.415 L46.9471 543.415 L46.9471 554.778 L60.1242 558.088 L60.1242 563.181 L46.9471 559.902 L46.9471 569.228 L60.1242 572.506 L60.1242 577.631 L46.9471 574.321 L46.9471 584.347 L42.0774 584.347 L42.0774 573.143 L31.4466 570.469 L31.4466 580.718 L26.5451 580.718 L26.5451 569.228 L13.3362 565.982 L13.3362 560.825 Z\" fill=\"#000000\" fill-rule=\"evenodd\" fill-opacity=\"1\" /><path clip-path=\"url(#clip810)\" d=\"M28.5821 494.081 Q28.5821 498.792 32.2742 501.529 Q35.9345 504.266 42.332 504.266 Q48.7295 504.266 52.4217 501.561 Q56.0819 498.823 56.0819 494.081 Q56.0819 489.402 52.3898 486.665 Q48.6977 483.928 42.332 483.928 Q35.9981 483.928 32.306 486.665 Q28.5821 489.402 28.5821 494.081 M23.6168 494.081 Q23.6168 486.442 28.5821 482.082 Q33.5473 477.721 42.332 477.721 Q51.0849 477.721 56.0819 482.082 Q61.0472 486.442 61.0472 494.081 Q61.0472 501.752 56.0819 506.112 Q51.0849 510.441 42.332 510.441 Q33.5473 510.441 28.5821 506.112 Q23.6168 501.752 23.6168 494.081 Z\" fill=\"#000000\" fill-rule=\"evenodd\" fill-opacity=\"1\" /><path clip-path=\"url(#clip810)\" d=\"M10.599 449.967 L15.4687 449.967 L15.4687 455.568 Q15.4687 458.719 16.7419 459.961 Q18.015 461.17 21.3252 461.17 L24.4762 461.17 L24.4762 451.526 L29.0277 451.526 L29.0277 461.17 L60.1242 461.17 L60.1242 467.058 L29.0277 467.058 L29.0277 472.66 L24.4762 472.66 L24.4762 467.058 L21.9936 467.058 Q16.0416 467.058 13.3362 464.289 Q10.599 461.52 10.599 455.505 L10.599 449.967 Z\" fill=\"#000000\" fill-rule=\"evenodd\" fill-opacity=\"1\" /><path clip-path=\"url(#clip810)\" d=\"M10.599 424.567 L10.599 418.679 L39.8494 418.679 L24.4762 401.205 L24.4762 393.726 L41.1544 412.632 L60.1242 392.93 L60.1242 400.569 L42.7139 418.679 L60.1242 418.679 L60.1242 424.567 L10.599 424.567 Z\" fill=\"#000000\" fill-rule=\"evenodd\" fill-opacity=\"1\" /><path clip-path=\"url(#clip810)\" d=\"M31.3193 358.841 Q27.3726 356.645 25.4947 353.59 Q23.6168 350.534 23.6168 346.396 Q23.6168 340.826 27.5317 337.803 Q31.4148 334.779 38.6081 334.779 L60.1242 334.779 L60.1242 340.667 L38.799 340.667 Q33.6746 340.667 31.192 342.482 Q28.7094 344.296 28.7094 348.02 Q28.7094 352.571 31.7331 355.213 Q34.7568 357.855 39.9767 357.855 L60.1242 357.855 L60.1242 363.743 L38.799 363.743 Q33.6428 363.743 31.192 365.557 Q28.7094 367.371 28.7094 371.159 Q28.7094 375.647 31.7649 378.289 Q34.7886 380.93 39.9767 380.93 L60.1242 380.93 L60.1242 386.819 L24.4762 386.819 L24.4762 380.93 L30.0144 380.93 Q26.736 378.925 25.1764 376.124 Q23.6168 373.323 23.6168 369.472 Q23.6168 365.589 25.5902 362.884 Q27.5636 360.146 31.3193 358.841 Z\" fill=\"#000000\" fill-rule=\"evenodd\" fill-opacity=\"1\" /><path clip-path=\"url(#clip810)\" d=\"M40.8361 292.606 L43.7006 292.606 L43.7006 319.533 Q49.7481 319.151 52.9309 315.905 Q56.0819 312.626 56.0819 306.802 Q56.0819 303.428 55.2544 300.277 Q54.4269 297.094 52.7718 293.975 L58.3099 293.975 Q59.6467 297.126 60.347 300.436 Q61.0472 303.746 61.0472 307.152 Q61.0472 315.682 56.0819 320.679 Q51.1167 325.644 42.6503 325.644 Q33.8974 325.644 28.7731 320.934 Q23.6168 316.191 23.6168 308.17 Q23.6168 300.977 28.2638 296.808 Q32.8789 292.606 40.8361 292.606 M39.1173 298.463 Q34.3112 298.526 31.4466 301.168 Q28.5821 303.778 28.5821 308.107 Q28.5821 313.008 31.3512 315.968 Q34.1202 318.897 39.1492 319.342 L39.1173 298.463 Z\" fill=\"#000000\" fill-rule=\"evenodd\" fill-opacity=\"1\" /><path clip-path=\"url(#clip810)\" d=\"M29.9507 262.337 Q29.3778 263.324 29.1232 264.502 Q28.8367 265.647 28.8367 267.048 Q28.8367 272.013 32.0832 274.687 Q35.2979 277.329 41.3453 277.329 L60.1242 277.329 L60.1242 283.217 L24.4762 283.217 L24.4762 277.329 L30.0144 277.329 Q26.7679 275.483 25.2083 272.522 Q23.6168 269.562 23.6168 265.329 Q23.6168 264.724 23.7123 263.992 Q23.776 263.26 23.9351 262.369 L29.9507 262.337 Z\" fill=\"#000000\" fill-rule=\"evenodd\" fill-opacity=\"1\" /><path clip-path=\"url(#clip810)\" d=\"M25.5265 233.469 L31.0647 233.469 Q29.7916 235.951 29.155 238.625 Q28.5184 241.299 28.5184 244.163 Q28.5184 248.524 29.8552 250.72 Q31.192 252.884 33.8656 252.884 Q35.9026 252.884 37.0803 251.325 Q38.2261 249.765 39.2765 245.054 L39.7221 243.049 Q41.0589 236.811 43.5097 234.201 Q45.9286 231.559 50.2891 231.559 Q55.2544 231.559 58.1508 235.506 Q61.0472 239.421 61.0472 246.296 Q61.0472 249.16 60.4743 252.28 Q59.9332 255.367 58.8192 258.804 L52.7718 258.804 Q54.4587 255.558 55.318 252.407 Q56.1456 249.256 56.1456 246.168 Q56.1456 242.031 54.7451 239.803 Q53.3129 237.575 50.7347 237.575 Q48.3476 237.575 47.0745 239.198 Q45.8013 240.789 44.6237 246.232 L44.1462 248.269 Q43.0004 253.712 40.6451 256.131 Q38.258 258.55 34.1202 258.55 Q29.0913 258.55 26.3541 254.985 Q23.6168 251.42 23.6168 244.863 Q23.6168 241.617 24.0943 238.752 Q24.5717 235.888 25.5265 233.469 Z\" fill=\"#000000\" fill-rule=\"evenodd\" fill-opacity=\"1\" /><path clip-path=\"url(#clip810)\" d=\"M10.6626 223.156 L10.6626 218.064 Q18.1742 213.29 25.3674 210.934 Q32.5606 208.547 39.6584 208.547 Q46.788 208.547 54.0131 210.934 Q61.2382 213.29 68.7179 218.064 L68.7179 223.156 Q61.4291 218.923 54.2359 216.854 Q47.0108 214.754 39.6584 214.754 Q32.306 214.754 25.1446 216.854 Q17.9832 218.923 10.6626 223.156 Z\" fill=\"#000000\" fill-rule=\"evenodd\" fill-opacity=\"1\" /><path clip-path=\"url(#clip810)\" d=\"M712.991 9.54393 L720.485 9.54393 L720.485 46.7717 L742.725 27.2059 L752.244 27.2059 L728.182 48.4326 L753.257 72.576 L743.535 72.576 L720.485 50.4176 L720.485 72.576 L712.991 72.576 L712.991 9.54393 Z\" fill=\"#000000\" fill-rule=\"evenodd\" fill-opacity=\"1\" /><path clip-path=\"url(#clip810)\" d=\"M796.642 35.9153 Q799.437 30.8922 803.326 28.5022 Q807.215 26.1121 812.481 26.1121 Q819.57 26.1121 823.419 31.0947 Q827.267 36.0368 827.267 45.1919 L827.267 72.576 L819.773 72.576 L819.773 45.4349 Q819.773 38.913 817.464 35.7533 Q815.155 32.5936 810.415 32.5936 Q804.623 32.5936 801.26 36.4419 Q797.898 40.2903 797.898 46.9338 L797.898 72.576 L790.404 72.576 L790.404 45.4349 Q790.404 38.8725 788.095 35.7533 Q785.786 32.5936 780.965 32.5936 Q775.253 32.5936 771.891 36.4824 Q768.529 40.3308 768.529 46.9338 L768.529 72.576 L761.035 72.576 L761.035 27.2059 L768.529 27.2059 L768.529 34.2544 Q771.081 30.082 774.646 28.0971 Q778.211 26.1121 783.112 26.1121 Q788.054 26.1121 791.498 28.6237 Q794.981 31.1352 796.642 35.9153 Z\" fill=\"#000000\" fill-rule=\"evenodd\" fill-opacity=\"1\" /><path clip-path=\"url(#clip810)\" d=\"M880.942 48.0275 L880.942 51.6733 L846.671 51.6733 Q847.157 59.3701 851.289 63.421 Q855.461 67.4314 862.875 67.4314 Q867.169 67.4314 871.179 66.3781 Q875.23 65.3249 879.2 63.2184 L879.2 70.267 Q875.189 71.9684 870.976 72.8596 Q866.763 73.7508 862.429 73.7508 Q851.573 73.7508 845.213 67.4314 Q838.893 61.1119 838.893 50.3365 Q838.893 39.1965 844.889 32.6746 Q850.924 26.1121 861.133 26.1121 Q870.288 26.1121 875.594 32.0264 Q880.942 37.9003 880.942 48.0275 M873.488 45.84 Q873.407 39.7232 870.045 36.0774 Q866.723 32.4315 861.214 32.4315 Q854.975 32.4315 851.208 35.9558 Q847.481 39.4801 846.914 45.8805 L873.488 45.84 Z\" fill=\"#000000\" fill-rule=\"evenodd\" fill-opacity=\"1\" /><path clip-path=\"url(#clip810)\" d=\"M919.466 34.1734 Q918.21 33.4443 916.711 33.1202 Q915.253 32.7556 913.47 32.7556 Q907.151 32.7556 903.748 36.8875 Q900.386 40.9789 900.386 48.6757 L900.386 72.576 L892.892 72.576 L892.892 27.2059 L900.386 27.2059 L900.386 34.2544 Q902.735 30.1225 906.503 28.1376 Q910.27 26.1121 915.658 26.1121 Q916.428 26.1121 917.359 26.2337 Q918.291 26.3147 919.425 26.5172 L919.466 34.1734 Z\" fill=\"#000000\" fill-rule=\"evenodd\" fill-opacity=\"1\" /><path clip-path=\"url(#clip810)\" d=\"M976.624 9.54393 L976.624 15.7418 L969.494 15.7418 Q965.484 15.7418 963.904 17.3622 Q962.365 18.9825 962.365 23.1955 L962.365 27.2059 L974.639 27.2059 L974.639 32.9987 L962.365 32.9987 L962.365 72.576 L954.871 72.576 L954.871 32.9987 L947.741 32.9987 L947.741 27.2059 L954.871 27.2059 L954.871 24.0462 Q954.871 16.471 958.395 13.0277 Q961.919 9.54393 969.575 9.54393 L976.624 9.54393 Z\" fill=\"#000000\" fill-rule=\"evenodd\" fill-opacity=\"1\" /><path clip-path=\"url(#clip810)\" d=\"M1009.15 34.1734 Q1007.9 33.4443 1006.4 33.1202 Q1004.94 32.7556 1003.16 32.7556 Q996.838 32.7556 993.435 36.8875 Q990.073 40.9789 990.073 48.6757 L990.073 72.576 L982.579 72.576 L982.579 27.2059 L990.073 27.2059 L990.073 34.2544 Q992.422 30.1225 996.19 28.1376 Q999.957 26.1121 1005.34 26.1121 Q1006.11 26.1121 1007.05 26.2337 Q1007.98 26.3147 1009.11 26.5172 L1009.15 34.1734 Z\" fill=\"#000000\" fill-rule=\"evenodd\" fill-opacity=\"1\" /><path clip-path=\"url(#clip810)\" d=\"M1053.96 48.0275 L1053.96 51.6733 L1019.69 51.6733 Q1020.17 59.3701 1024.3 63.421 Q1028.48 67.4314 1035.89 67.4314 Q1040.18 67.4314 1044.19 66.3781 Q1048.24 65.3249 1052.21 63.2184 L1052.21 70.267 Q1048.2 71.9684 1043.99 72.8596 Q1039.78 73.7508 1035.44 73.7508 Q1024.59 73.7508 1018.23 67.4314 Q1011.91 61.1119 1011.91 50.3365 Q1011.91 39.1965 1017.9 32.6746 Q1023.94 26.1121 1034.15 26.1121 Q1043.3 26.1121 1048.61 32.0264 Q1053.96 37.9003 1053.96 48.0275 M1046.5 45.84 Q1046.42 39.7232 1043.06 36.0774 Q1039.74 32.4315 1034.23 32.4315 Q1027.99 32.4315 1024.22 35.9558 Q1020.5 39.4801 1019.93 45.8805 L1046.5 45.84 Z\" fill=\"#000000\" fill-rule=\"evenodd\" fill-opacity=\"1\" /><path clip-path=\"url(#clip810)\" d=\"M1070.65 49.9314 Q1070.65 58.1548 1074.01 62.8538 Q1077.41 67.5124 1083.32 67.5124 Q1089.24 67.5124 1092.64 62.8538 Q1096.04 58.1548 1096.04 49.9314 Q1096.04 41.7081 1092.64 37.0496 Q1089.24 32.3505 1083.32 32.3505 Q1077.41 32.3505 1074.01 37.0496 Q1070.65 41.7081 1070.65 49.9314 M1096.04 65.7705 Q1093.7 69.8214 1090.09 71.8063 Q1086.52 73.7508 1081.5 73.7508 Q1073.28 73.7508 1068.09 67.1883 Q1062.95 60.6258 1062.95 49.9314 Q1062.95 39.2371 1068.09 32.6746 Q1073.28 26.1121 1081.5 26.1121 Q1086.52 26.1121 1090.09 28.0971 Q1093.7 30.0415 1096.04 34.0924 L1096.04 27.2059 L1103.5 27.2059 L1103.5 89.8329 L1096.04 89.8329 L1096.04 65.7705 Z\" fill=\"#000000\" fill-rule=\"evenodd\" fill-opacity=\"1\" /><path clip-path=\"url(#clip810)\" d=\"M1118.08 54.671 L1118.08 27.2059 L1125.54 27.2059 L1125.54 54.3874 Q1125.54 60.8284 1128.05 64.0691 Q1130.56 67.2693 1135.58 67.2693 Q1141.62 67.2693 1145.1 63.421 Q1148.63 59.5726 1148.63 52.9291 L1148.63 27.2059 L1156.08 27.2059 L1156.08 72.576 L1148.63 72.576 L1148.63 65.6084 Q1145.91 69.7404 1142.31 71.7658 Q1138.74 73.7508 1134 73.7508 Q1126.18 73.7508 1122.13 68.8897 Q1118.08 64.0286 1118.08 54.671 M1136.84 26.1121 L1136.84 26.1121 Z\" fill=\"#000000\" fill-rule=\"evenodd\" fill-opacity=\"1\" /><path clip-path=\"url(#clip810)\" d=\"M1210.24 48.0275 L1210.24 51.6733 L1175.97 51.6733 Q1176.46 59.3701 1180.59 63.421 Q1184.76 67.4314 1192.17 67.4314 Q1196.47 67.4314 1200.48 66.3781 Q1204.53 65.3249 1208.5 63.2184 L1208.5 70.267 Q1204.49 71.9684 1200.27 72.8596 Q1196.06 73.7508 1191.73 73.7508 Q1180.87 73.7508 1174.51 67.4314 Q1168.19 61.1119 1168.19 50.3365 Q1168.19 39.1965 1174.19 32.6746 Q1180.22 26.1121 1190.43 26.1121 Q1199.59 26.1121 1204.89 32.0264 Q1210.24 37.9003 1210.24 48.0275 M1202.79 45.84 Q1202.7 39.7232 1199.34 36.0774 Q1196.02 32.4315 1190.51 32.4315 Q1184.27 32.4315 1180.51 35.9558 Q1176.78 39.4801 1176.21 45.8805 L1202.79 45.84 Z\" fill=\"#000000\" fill-rule=\"evenodd\" fill-opacity=\"1\" /><path clip-path=\"url(#clip810)\" d=\"M1260.19 45.1919 L1260.19 72.576 L1252.73 72.576 L1252.73 45.4349 Q1252.73 38.994 1250.22 35.7938 Q1247.71 32.5936 1242.69 32.5936 Q1236.65 32.5936 1233.17 36.4419 Q1229.68 40.2903 1229.68 46.9338 L1229.68 72.576 L1222.19 72.576 L1222.19 27.2059 L1229.68 27.2059 L1229.68 34.2544 Q1232.36 30.163 1235.96 28.1376 Q1239.61 26.1121 1244.35 26.1121 Q1252.17 26.1121 1256.18 30.9732 Q1260.19 35.7938 1260.19 45.1919 Z\" fill=\"#000000\" fill-rule=\"evenodd\" fill-opacity=\"1\" /><path clip-path=\"url(#clip810)\" d=\"M1307.7 28.9478 L1307.7 35.9153 Q1304.54 34.1734 1301.34 33.3227 Q1298.18 32.4315 1294.94 32.4315 Q1287.69 32.4315 1283.68 37.0496 Q1279.67 41.6271 1279.67 49.9314 Q1279.67 58.2358 1283.68 62.8538 Q1287.69 67.4314 1294.94 67.4314 Q1298.18 67.4314 1301.34 66.5807 Q1304.54 65.6895 1307.7 63.9476 L1307.7 70.8341 Q1304.59 72.2924 1301.22 73.0216 Q1297.9 73.7508 1294.13 73.7508 Q1283.89 73.7508 1277.85 67.3098 Q1271.81 60.8689 1271.81 49.9314 Q1271.81 38.832 1277.89 32.472 Q1284.01 26.1121 1294.62 26.1121 Q1298.06 26.1121 1301.34 26.8413 Q1304.63 27.5299 1307.7 28.9478 Z\" fill=\"#000000\" fill-rule=\"evenodd\" fill-opacity=\"1\" /><path clip-path=\"url(#clip810)\" d=\"M1320.67 27.2059 L1328.12 27.2059 L1328.12 72.576 L1320.67 72.576 L1320.67 27.2059 M1320.67 9.54393 L1328.12 9.54393 L1328.12 18.9825 L1320.67 18.9825 L1320.67 9.54393 Z\" fill=\"#000000\" fill-rule=\"evenodd\" fill-opacity=\"1\" /><path clip-path=\"url(#clip810)\" d=\"M1382.52 48.0275 L1382.52 51.6733 L1348.25 51.6733 Q1348.74 59.3701 1352.87 63.421 Q1357.04 67.4314 1364.46 67.4314 Q1368.75 67.4314 1372.76 66.3781 Q1376.81 65.3249 1380.78 63.2184 L1380.78 70.267 Q1376.77 71.9684 1372.56 72.8596 Q1368.35 73.7508 1364.01 73.7508 Q1353.16 73.7508 1346.8 67.4314 Q1340.48 61.1119 1340.48 50.3365 Q1340.48 39.1965 1346.47 32.6746 Q1352.51 26.1121 1362.72 26.1121 Q1371.87 26.1121 1377.18 32.0264 Q1382.52 37.9003 1382.52 48.0275 M1375.07 45.84 Q1374.99 39.7232 1371.63 36.0774 Q1368.31 32.4315 1362.8 32.4315 Q1356.56 32.4315 1352.79 35.9558 Q1349.06 39.4801 1348.5 45.8805 L1375.07 45.84 Z\" fill=\"#000000\" fill-rule=\"evenodd\" fill-opacity=\"1\" /><path clip-path=\"url(#clip810)\" d=\"M1423.68 28.5427 L1423.68 35.5912 Q1420.52 33.9709 1417.12 33.1607 Q1413.72 32.3505 1410.07 32.3505 Q1404.52 32.3505 1401.73 34.0519 Q1398.97 35.7533 1398.97 39.156 Q1398.97 41.7486 1400.96 43.2475 Q1402.94 44.7058 1408.94 46.0426 L1411.49 46.6097 Q1419.43 48.3111 1422.75 51.4303 Q1426.11 54.509 1426.11 60.0587 Q1426.11 66.3781 1421.09 70.0644 Q1416.11 73.7508 1407.36 73.7508 Q1403.71 73.7508 1399.74 73.0216 Q1395.81 72.3329 1391.44 70.9151 L1391.44 63.2184 Q1395.57 65.3654 1399.58 66.4591 Q1403.59 67.5124 1407.52 67.5124 Q1412.78 67.5124 1415.62 65.73 Q1418.46 63.9071 1418.46 60.6258 Q1418.46 57.5877 1416.39 55.9673 Q1414.36 54.3469 1407.44 52.8481 L1404.85 52.2405 Q1397.92 50.7821 1394.84 47.7845 Q1391.76 44.7463 1391.76 39.4801 Q1391.76 33.0797 1396.3 29.5959 Q1400.83 26.1121 1409.18 26.1121 Q1413.31 26.1121 1416.96 26.7198 Q1420.6 27.3274 1423.68 28.5427 Z\" fill=\"#000000\" fill-rule=\"evenodd\" fill-opacity=\"1\" /><circle clip-path=\"url(#clip812)\" cx=\"457.051\" cy=\"444.941\" r=\"14\" fill=\"#009af9\" fill-rule=\"evenodd\" fill-opacity=\"1\" stroke=\"#000000\" stroke-opacity=\"1\" stroke-width=\"2\"/>\n",
       "<circle clip-path=\"url(#clip812)\" cx=\"1718.08\" cy=\"796.012\" r=\"14\" fill=\"#009af9\" fill-rule=\"evenodd\" fill-opacity=\"1\" stroke=\"#000000\" stroke-opacity=\"1\" stroke-width=\"2\"/>\n",
       "<circle clip-path=\"url(#clip812)\" cx=\"784.348\" cy=\"586.261\" r=\"14\" fill=\"#009af9\" fill-rule=\"evenodd\" fill-opacity=\"1\" stroke=\"#000000\" stroke-opacity=\"1\" stroke-width=\"2\"/>\n",
       "<circle clip-path=\"url(#clip812)\" cx=\"860.371\" cy=\"639.949\" r=\"14\" fill=\"#009af9\" fill-rule=\"evenodd\" fill-opacity=\"1\" stroke=\"#000000\" stroke-opacity=\"1\" stroke-width=\"2\"/>\n",
       "<circle clip-path=\"url(#clip812)\" cx=\"863.401\" cy=\"698.98\" r=\"14\" fill=\"#009af9\" fill-rule=\"evenodd\" fill-opacity=\"1\" stroke=\"#000000\" stroke-opacity=\"1\" stroke-width=\"2\"/>\n",
       "<circle clip-path=\"url(#clip812)\" cx=\"982.964\" cy=\"849.7\" r=\"14\" fill=\"#009af9\" fill-rule=\"evenodd\" fill-opacity=\"1\" stroke=\"#000000\" stroke-opacity=\"1\" stroke-width=\"2\"/>\n",
       "<circle clip-path=\"url(#clip812)\" cx=\"875.006\" cy=\"657.232\" r=\"14\" fill=\"#009af9\" fill-rule=\"evenodd\" fill-opacity=\"1\" stroke=\"#000000\" stroke-opacity=\"1\" stroke-width=\"2\"/>\n",
       "<circle clip-path=\"url(#clip812)\" cx=\"1716.75\" cy=\"849.7\" r=\"14\" fill=\"#009af9\" fill-rule=\"evenodd\" fill-opacity=\"1\" stroke=\"#000000\" stroke-opacity=\"1\" stroke-width=\"2\"/>\n",
       "<circle clip-path=\"url(#clip812)\" cx=\"758.42\" cy=\"578.879\" r=\"14\" fill=\"#009af9\" fill-rule=\"evenodd\" fill-opacity=\"1\" stroke=\"#000000\" stroke-opacity=\"1\" stroke-width=\"2\"/>\n",
       "<circle clip-path=\"url(#clip812)\" cx=\"769.275\" cy=\"613.887\" r=\"14\" fill=\"#009af9\" fill-rule=\"evenodd\" fill-opacity=\"1\" stroke=\"#000000\" stroke-opacity=\"1\" stroke-width=\"2\"/>\n",
       "<circle clip-path=\"url(#clip812)\" cx=\"487.717\" cy=\"379.314\" r=\"14\" fill=\"#009af9\" fill-rule=\"evenodd\" fill-opacity=\"1\" stroke=\"#000000\" stroke-opacity=\"1\" stroke-width=\"2\"/>\n",
       "<circle clip-path=\"url(#clip812)\" cx=\"1717.82\" cy=\"742.325\" r=\"14\" fill=\"#009af9\" fill-rule=\"evenodd\" fill-opacity=\"1\" stroke=\"#000000\" stroke-opacity=\"1\" stroke-width=\"2\"/>\n",
       "<circle clip-path=\"url(#clip812)\" cx=\"826.618\" cy=\"663.971\" r=\"14\" fill=\"#009af9\" fill-rule=\"evenodd\" fill-opacity=\"1\" stroke=\"#000000\" stroke-opacity=\"1\" stroke-width=\"2\"/>\n",
       "<circle clip-path=\"url(#clip812)\" cx=\"987.333\" cy=\"849.7\" r=\"14\" fill=\"#009af9\" fill-rule=\"evenodd\" fill-opacity=\"1\" stroke=\"#000000\" stroke-opacity=\"1\" stroke-width=\"2\"/>\n",
       "<circle clip-path=\"url(#clip812)\" cx=\"893.566\" cy=\"796.012\" r=\"14\" fill=\"#009af9\" fill-rule=\"evenodd\" fill-opacity=\"1\" stroke=\"#000000\" stroke-opacity=\"1\" stroke-width=\"2\"/>\n",
       "<circle clip-path=\"url(#clip812)\" cx=\"1719.58\" cy=\"849.7\" r=\"14\" fill=\"#009af9\" fill-rule=\"evenodd\" fill-opacity=\"1\" stroke=\"#000000\" stroke-opacity=\"1\" stroke-width=\"2\"/>\n",
       "<circle clip-path=\"url(#clip812)\" cx=\"907.992\" cy=\"796.012\" r=\"14\" fill=\"#009af9\" fill-rule=\"evenodd\" fill-opacity=\"1\" stroke=\"#000000\" stroke-opacity=\"1\" stroke-width=\"2\"/>\n",
       "<circle clip-path=\"url(#clip812)\" cx=\"1718.12\" cy=\"849.7\" r=\"14\" fill=\"#009af9\" fill-rule=\"evenodd\" fill-opacity=\"1\" stroke=\"#000000\" stroke-opacity=\"1\" stroke-width=\"2\"/>\n",
       "<circle clip-path=\"url(#clip812)\" cx=\"885.861\" cy=\"742.325\" r=\"14\" fill=\"#009af9\" fill-rule=\"evenodd\" fill-opacity=\"1\" stroke=\"#000000\" stroke-opacity=\"1\" stroke-width=\"2\"/>\n",
       "<circle clip-path=\"url(#clip812)\" cx=\"1717.16\" cy=\"796.012\" r=\"14\" fill=\"#009af9\" fill-rule=\"evenodd\" fill-opacity=\"1\" stroke=\"#000000\" stroke-opacity=\"1\" stroke-width=\"2\"/>\n",
       "<circle clip-path=\"url(#clip812)\" cx=\"1718.19\" cy=\"796.012\" r=\"14\" fill=\"#009af9\" fill-rule=\"evenodd\" fill-opacity=\"1\" stroke=\"#000000\" stroke-opacity=\"1\" stroke-width=\"2\"/>\n",
       "<circle clip-path=\"url(#clip812)\" cx=\"1718.51\" cy=\"849.7\" r=\"14\" fill=\"#009af9\" fill-rule=\"evenodd\" fill-opacity=\"1\" stroke=\"#000000\" stroke-opacity=\"1\" stroke-width=\"2\"/>\n",
       "<circle clip-path=\"url(#clip812)\" cx=\"617.765\" cy=\"432.645\" r=\"14\" fill=\"#009af9\" fill-rule=\"evenodd\" fill-opacity=\"1\" stroke=\"#000000\" stroke-opacity=\"1\" stroke-width=\"2\"/>\n",
       "<circle clip-path=\"url(#clip812)\" cx=\"419.519\" cy=\"462.12\" r=\"14\" fill=\"#009af9\" fill-rule=\"evenodd\" fill-opacity=\"1\" stroke=\"#000000\" stroke-opacity=\"1\" stroke-width=\"2\"/>\n",
       "<circle clip-path=\"url(#clip812)\" cx=\"883.212\" cy=\"725.041\" r=\"14\" fill=\"#009af9\" fill-rule=\"evenodd\" fill-opacity=\"1\" stroke=\"#000000\" stroke-opacity=\"1\" stroke-width=\"2\"/>\n",
       "<circle clip-path=\"url(#clip812)\" cx=\"1718.58\" cy=\"796.012\" r=\"14\" fill=\"#009af9\" fill-rule=\"evenodd\" fill-opacity=\"1\" stroke=\"#000000\" stroke-opacity=\"1\" stroke-width=\"2\"/>\n",
       "<circle clip-path=\"url(#clip812)\" cx=\"1717.54\" cy=\"849.7\" r=\"14\" fill=\"#009af9\" fill-rule=\"evenodd\" fill-opacity=\"1\" stroke=\"#000000\" stroke-opacity=\"1\" stroke-width=\"2\"/>\n",
       "<circle clip-path=\"url(#clip812)\" cx=\"1717.52\" cy=\"796.012\" r=\"14\" fill=\"#009af9\" fill-rule=\"evenodd\" fill-opacity=\"1\" stroke=\"#000000\" stroke-opacity=\"1\" stroke-width=\"2\"/>\n",
       "<circle clip-path=\"url(#clip812)\" cx=\"1718.53\" cy=\"796.012\" r=\"14\" fill=\"#009af9\" fill-rule=\"evenodd\" fill-opacity=\"1\" stroke=\"#000000\" stroke-opacity=\"1\" stroke-width=\"2\"/>\n",
       "<circle clip-path=\"url(#clip812)\" cx=\"857.284\" cy=\"657.232\" r=\"14\" fill=\"#009af9\" fill-rule=\"evenodd\" fill-opacity=\"1\" stroke=\"#000000\" stroke-opacity=\"1\" stroke-width=\"2\"/>\n",
       "<circle clip-path=\"url(#clip812)\" cx=\"1718.68\" cy=\"849.7\" r=\"14\" fill=\"#009af9\" fill-rule=\"evenodd\" fill-opacity=\"1\" stroke=\"#000000\" stroke-opacity=\"1\" stroke-width=\"2\"/>\n",
       "<circle clip-path=\"url(#clip812)\" cx=\"880.521\" cy=\"710.92\" r=\"14\" fill=\"#009af9\" fill-rule=\"evenodd\" fill-opacity=\"1\" stroke=\"#000000\" stroke-opacity=\"1\" stroke-width=\"2\"/>\n",
       "<circle clip-path=\"url(#clip812)\" cx=\"1718.81\" cy=\"849.7\" r=\"14\" fill=\"#009af9\" fill-rule=\"evenodd\" fill-opacity=\"1\" stroke=\"#000000\" stroke-opacity=\"1\" stroke-width=\"2\"/>\n",
       "<circle clip-path=\"url(#clip812)\" cx=\"967.522\" cy=\"849.7\" r=\"14\" fill=\"#009af9\" fill-rule=\"evenodd\" fill-opacity=\"1\" stroke=\"#000000\" stroke-opacity=\"1\" stroke-width=\"2\"/>\n",
       "<circle clip-path=\"url(#clip812)\" cx=\"869.304\" cy=\"671.354\" r=\"14\" fill=\"#009af9\" fill-rule=\"evenodd\" fill-opacity=\"1\" stroke=\"#000000\" stroke-opacity=\"1\" stroke-width=\"2\"/>\n",
       "<circle clip-path=\"url(#clip812)\" cx=\"850.937\" cy=\"663.971\" r=\"14\" fill=\"#009af9\" fill-rule=\"evenodd\" fill-opacity=\"1\" stroke=\"#000000\" stroke-opacity=\"1\" stroke-width=\"2\"/>\n",
       "<circle clip-path=\"url(#clip812)\" cx=\"604.302\" cy=\"405.625\" r=\"14\" fill=\"#009af9\" fill-rule=\"evenodd\" fill-opacity=\"1\" stroke=\"#000000\" stroke-opacity=\"1\" stroke-width=\"2\"/>\n",
       "<circle clip-path=\"url(#clip812)\" cx=\"1719.31\" cy=\"796.012\" r=\"14\" fill=\"#009af9\" fill-rule=\"evenodd\" fill-opacity=\"1\" stroke=\"#000000\" stroke-opacity=\"1\" stroke-width=\"2\"/>\n",
       "<circle clip-path=\"url(#clip812)\" cx=\"746.816\" cy=\"558.377\" r=\"14\" fill=\"#009af9\" fill-rule=\"evenodd\" fill-opacity=\"1\" stroke=\"#000000\" stroke-opacity=\"1\" stroke-width=\"2\"/>\n",
       "<circle clip-path=\"url(#clip812)\" cx=\"912.538\" cy=\"725.041\" r=\"14\" fill=\"#009af9\" fill-rule=\"evenodd\" fill-opacity=\"1\" stroke=\"#000000\" stroke-opacity=\"1\" stroke-width=\"2\"/>\n",
       "<circle clip-path=\"url(#clip812)\" cx=\"1719.03\" cy=\"849.7\" r=\"14\" fill=\"#009af9\" fill-rule=\"evenodd\" fill-opacity=\"1\" stroke=\"#000000\" stroke-opacity=\"1\" stroke-width=\"2\"/>\n",
       "<circle clip-path=\"url(#clip812)\" cx=\"1717.58\" cy=\"849.7\" r=\"14\" fill=\"#009af9\" fill-rule=\"evenodd\" fill-opacity=\"1\" stroke=\"#000000\" stroke-opacity=\"1\" stroke-width=\"2\"/>\n",
       "<circle clip-path=\"url(#clip812)\" cx=\"713.73\" cy=\"543.657\" r=\"14\" fill=\"#009af9\" fill-rule=\"evenodd\" fill-opacity=\"1\" stroke=\"#000000\" stroke-opacity=\"1\" stroke-width=\"2\"/>\n",
       "<circle clip-path=\"url(#clip812)\" cx=\"946.901\" cy=\"764.607\" r=\"14\" fill=\"#009af9\" fill-rule=\"evenodd\" fill-opacity=\"1\" stroke=\"#000000\" stroke-opacity=\"1\" stroke-width=\"2\"/>\n",
       "<circle clip-path=\"url(#clip812)\" cx=\"810.961\" cy=\"679.514\" r=\"14\" fill=\"#009af9\" fill-rule=\"evenodd\" fill-opacity=\"1\" stroke=\"#000000\" stroke-opacity=\"1\" stroke-width=\"2\"/>\n",
       "<circle clip-path=\"url(#clip812)\" cx=\"818.972\" cy=\"617.666\" r=\"14\" fill=\"#009af9\" fill-rule=\"evenodd\" fill-opacity=\"1\" stroke=\"#000000\" stroke-opacity=\"1\" stroke-width=\"2\"/>\n",
       "<circle clip-path=\"url(#clip812)\" cx=\"589.667\" cy=\"377.549\" r=\"14\" fill=\"#009af9\" fill-rule=\"evenodd\" fill-opacity=\"1\" stroke=\"#000000\" stroke-opacity=\"1\" stroke-width=\"2\"/>\n",
       "<circle clip-path=\"url(#clip812)\" cx=\"896.058\" cy=\"849.7\" r=\"14\" fill=\"#009af9\" fill-rule=\"evenodd\" fill-opacity=\"1\" stroke=\"#000000\" stroke-opacity=\"1\" stroke-width=\"2\"/>\n",
       "<circle clip-path=\"url(#clip812)\" cx=\"789.086\" cy=\"562.066\" r=\"14\" fill=\"#009af9\" fill-rule=\"evenodd\" fill-opacity=\"1\" stroke=\"#000000\" stroke-opacity=\"1\" stroke-width=\"2\"/>\n",
       "<circle clip-path=\"url(#clip812)\" cx=\"898.513\" cy=\"698.98\" r=\"14\" fill=\"#009af9\" fill-rule=\"evenodd\" fill-opacity=\"1\" stroke=\"#000000\" stroke-opacity=\"1\" stroke-width=\"2\"/>\n",
       "<circle clip-path=\"url(#clip812)\" cx=\"1718.9\" cy=\"796.012\" r=\"14\" fill=\"#009af9\" fill-rule=\"evenodd\" fill-opacity=\"1\" stroke=\"#000000\" stroke-opacity=\"1\" stroke-width=\"2\"/>\n",
       "<circle clip-path=\"url(#clip812)\" cx=\"933.59\" cy=\"796.012\" r=\"14\" fill=\"#009af9\" fill-rule=\"evenodd\" fill-opacity=\"1\" stroke=\"#000000\" stroke-opacity=\"1\" stroke-width=\"2\"/>\n",
       "<circle clip-path=\"url(#clip812)\" cx=\"927.546\" cy=\"849.7\" r=\"14\" fill=\"#009af9\" fill-rule=\"evenodd\" fill-opacity=\"1\" stroke=\"#000000\" stroke-opacity=\"1\" stroke-width=\"2\"/>\n",
       "<circle clip-path=\"url(#clip812)\" cx=\"1718.27\" cy=\"849.7\" r=\"14\" fill=\"#009af9\" fill-rule=\"evenodd\" fill-opacity=\"1\" stroke=\"#000000\" stroke-opacity=\"1\" stroke-width=\"2\"/>\n",
       "<circle clip-path=\"url(#clip812)\" cx=\"1717.84\" cy=\"849.7\" r=\"14\" fill=\"#009af9\" fill-rule=\"evenodd\" fill-opacity=\"1\" stroke=\"#000000\" stroke-opacity=\"1\" stroke-width=\"2\"/>\n",
       "<circle clip-path=\"url(#clip812)\" cx=\"1718.36\" cy=\"796.012\" r=\"14\" fill=\"#009af9\" fill-rule=\"evenodd\" fill-opacity=\"1\" stroke=\"#000000\" stroke-opacity=\"1\" stroke-width=\"2\"/>\n",
       "<circle clip-path=\"url(#clip812)\" cx=\"1717.78\" cy=\"849.7\" r=\"14\" fill=\"#009af9\" fill-rule=\"evenodd\" fill-opacity=\"1\" stroke=\"#000000\" stroke-opacity=\"1\" stroke-width=\"2\"/>\n",
       "<circle clip-path=\"url(#clip812)\" cx=\"802.549\" cy=\"617.666\" r=\"14\" fill=\"#009af9\" fill-rule=\"evenodd\" fill-opacity=\"1\" stroke=\"#000000\" stroke-opacity=\"1\" stroke-width=\"2\"/>\n",
       "<circle clip-path=\"url(#clip812)\" cx=\"931.599\" cy=\"849.7\" r=\"14\" fill=\"#009af9\" fill-rule=\"evenodd\" fill-opacity=\"1\" stroke=\"#000000\" stroke-opacity=\"1\" stroke-width=\"2\"/>\n",
       "<circle clip-path=\"url(#clip812)\" cx=\"1717.73\" cy=\"796.012\" r=\"14\" fill=\"#009af9\" fill-rule=\"evenodd\" fill-opacity=\"1\" stroke=\"#000000\" stroke-opacity=\"1\" stroke-width=\"2\"/>\n",
       "<circle clip-path=\"url(#clip812)\" cx=\"513.645\" cy=\"377.375\" r=\"14\" fill=\"#009af9\" fill-rule=\"evenodd\" fill-opacity=\"1\" stroke=\"#000000\" stroke-opacity=\"1\" stroke-width=\"2\"/>\n",
       "<circle clip-path=\"url(#clip812)\" cx=\"727.754\" cy=\"558.377\" r=\"14\" fill=\"#009af9\" fill-rule=\"evenodd\" fill-opacity=\"1\" stroke=\"#000000\" stroke-opacity=\"1\" stroke-width=\"2\"/>\n",
       "<circle clip-path=\"url(#clip812)\" cx=\"1718.62\" cy=\"796.012\" r=\"14\" fill=\"#009af9\" fill-rule=\"evenodd\" fill-opacity=\"1\" stroke=\"#000000\" stroke-opacity=\"1\" stroke-width=\"2\"/>\n",
       "<circle clip-path=\"url(#clip812)\" cx=\"916.964\" cy=\"796.012\" r=\"14\" fill=\"#009af9\" fill-rule=\"evenodd\" fill-opacity=\"1\" stroke=\"#000000\" stroke-opacity=\"1\" stroke-width=\"2\"/>\n",
       "<circle clip-path=\"url(#clip812)\" cx=\"903.319\" cy=\"710.92\" r=\"14\" fill=\"#009af9\" fill-rule=\"evenodd\" fill-opacity=\"1\" stroke=\"#000000\" stroke-opacity=\"1\" stroke-width=\"2\"/>\n",
       "<circle clip-path=\"url(#clip812)\" cx=\"891.037\" cy=\"764.607\" r=\"14\" fill=\"#009af9\" fill-rule=\"evenodd\" fill-opacity=\"1\" stroke=\"#000000\" stroke-opacity=\"1\" stroke-width=\"2\"/>\n",
       "<circle clip-path=\"url(#clip812)\" cx=\"914.766\" cy=\"764.607\" r=\"14\" fill=\"#009af9\" fill-rule=\"evenodd\" fill-opacity=\"1\" stroke=\"#000000\" stroke-opacity=\"1\" stroke-width=\"2\"/>\n",
       "<circle clip-path=\"url(#clip812)\" cx=\"1717.74\" cy=\"849.7\" r=\"14\" fill=\"#009af9\" fill-rule=\"evenodd\" fill-opacity=\"1\" stroke=\"#000000\" stroke-opacity=\"1\" stroke-width=\"2\"/>\n",
       "<circle clip-path=\"url(#clip812)\" cx=\"779.472\" cy=\"597.345\" r=\"14\" fill=\"#009af9\" fill-rule=\"evenodd\" fill-opacity=\"1\" stroke=\"#000000\" stroke-opacity=\"1\" stroke-width=\"2\"/>\n",
       "<circle clip-path=\"url(#clip812)\" cx=\"872.179\" cy=\"657.232\" r=\"14\" fill=\"#009af9\" fill-rule=\"evenodd\" fill-opacity=\"1\" stroke=\"#000000\" stroke-opacity=\"1\" stroke-width=\"2\"/>\n",
       "<circle clip-path=\"url(#clip812)\" cx=\"844.34\" cy=\"663.971\" r=\"14\" fill=\"#009af9\" fill-rule=\"evenodd\" fill-opacity=\"1\" stroke=\"#000000\" stroke-opacity=\"1\" stroke-width=\"2\"/>\n",
       "<circle clip-path=\"url(#clip812)\" cx=\"1718.17\" cy=\"796.012\" r=\"14\" fill=\"#009af9\" fill-rule=\"evenodd\" fill-opacity=\"1\" stroke=\"#000000\" stroke-opacity=\"1\" stroke-width=\"2\"/>\n",
       "<circle clip-path=\"url(#clip812)\" cx=\"302.933\" cy=\"468.061\" r=\"14\" fill=\"#009af9\" fill-rule=\"evenodd\" fill-opacity=\"1\" stroke=\"#000000\" stroke-opacity=\"1\" stroke-width=\"2\"/>\n",
       "<circle clip-path=\"url(#clip812)\" cx=\"573.636\" cy=\"369.284\" r=\"14\" fill=\"#009af9\" fill-rule=\"evenodd\" fill-opacity=\"1\" stroke=\"#000000\" stroke-opacity=\"1\" stroke-width=\"2\"/>\n",
       "<circle clip-path=\"url(#clip812)\" cx=\"740.699\" cy=\"546.695\" r=\"14\" fill=\"#009af9\" fill-rule=\"evenodd\" fill-opacity=\"1\" stroke=\"#000000\" stroke-opacity=\"1\" stroke-width=\"2\"/>\n",
       "<circle clip-path=\"url(#clip812)\" cx=\"672.501\" cy=\"501.168\" r=\"14\" fill=\"#009af9\" fill-rule=\"evenodd\" fill-opacity=\"1\" stroke=\"#000000\" stroke-opacity=\"1\" stroke-width=\"2\"/>\n",
       "<circle clip-path=\"url(#clip812)\" cx=\"734.351\" cy=\"536.546\" r=\"14\" fill=\"#009af9\" fill-rule=\"evenodd\" fill-opacity=\"1\" stroke=\"#000000\" stroke-opacity=\"1\" stroke-width=\"2\"/>\n",
       "<circle clip-path=\"url(#clip812)\" cx=\"815.014\" cy=\"639.949\" r=\"14\" fill=\"#009af9\" fill-rule=\"evenodd\" fill-opacity=\"1\" stroke=\"#000000\" stroke-opacity=\"1\" stroke-width=\"2\"/>\n",
       "<circle clip-path=\"url(#clip812)\" cx=\"937.502\" cy=\"849.7\" r=\"14\" fill=\"#009af9\" fill-rule=\"evenodd\" fill-opacity=\"1\" stroke=\"#000000\" stroke-opacity=\"1\" stroke-width=\"2\"/>\n",
       "<circle clip-path=\"url(#clip812)\" cx=\"1717.65\" cy=\"849.7\" r=\"14\" fill=\"#009af9\" fill-rule=\"evenodd\" fill-opacity=\"1\" stroke=\"#000000\" stroke-opacity=\"1\" stroke-width=\"2\"/>\n",
       "<circle clip-path=\"url(#clip812)\" cx=\"1718.16\" cy=\"796.012\" r=\"14\" fill=\"#009af9\" fill-rule=\"evenodd\" fill-opacity=\"1\" stroke=\"#000000\" stroke-opacity=\"1\" stroke-width=\"2\"/>\n",
       "<circle clip-path=\"url(#clip812)\" cx=\"960.925\" cy=\"849.7\" r=\"14\" fill=\"#009af9\" fill-rule=\"evenodd\" fill-opacity=\"1\" stroke=\"#000000\" stroke-opacity=\"1\" stroke-width=\"2\"/>\n",
       "<circle clip-path=\"url(#clip812)\" cx=\"921.277\" cy=\"796.012\" r=\"14\" fill=\"#009af9\" fill-rule=\"evenodd\" fill-opacity=\"1\" stroke=\"#000000\" stroke-opacity=\"1\" stroke-width=\"2\"/>\n",
       "<circle clip-path=\"url(#clip812)\" cx=\"652.69\" cy=\"475.107\" r=\"14\" fill=\"#009af9\" fill-rule=\"evenodd\" fill-opacity=\"1\" stroke=\"#000000\" stroke-opacity=\"1\" stroke-width=\"2\"/>\n",
       "<circle clip-path=\"url(#clip812)\" cx=\"690.222\" cy=\"521.748\" r=\"14\" fill=\"#009af9\" fill-rule=\"evenodd\" fill-opacity=\"1\" stroke=\"#000000\" stroke-opacity=\"1\" stroke-width=\"2\"/>\n",
       "<circle clip-path=\"url(#clip812)\" cx=\"925.483\" cy=\"796.012\" r=\"14\" fill=\"#009af9\" fill-rule=\"evenodd\" fill-opacity=\"1\" stroke=\"#000000\" stroke-opacity=\"1\" stroke-width=\"2\"/>\n",
       "<circle clip-path=\"url(#clip812)\" cx=\"1718.01\" cy=\"849.7\" r=\"14\" fill=\"#009af9\" fill-rule=\"evenodd\" fill-opacity=\"1\" stroke=\"#000000\" stroke-opacity=\"1\" stroke-width=\"2\"/>\n",
       "<circle clip-path=\"url(#clip812)\" cx=\"1718.38\" cy=\"796.012\" r=\"14\" fill=\"#009af9\" fill-rule=\"evenodd\" fill-opacity=\"1\" stroke=\"#000000\" stroke-opacity=\"1\" stroke-width=\"2\"/>\n",
       "<circle clip-path=\"url(#clip812)\" cx=\"1717.67\" cy=\"849.7\" r=\"14\" fill=\"#009af9\" fill-rule=\"evenodd\" fill-opacity=\"1\" stroke=\"#000000\" stroke-opacity=\"1\" stroke-width=\"2\"/>\n",
       "<circle clip-path=\"url(#clip812)\" cx=\"681.595\" cy=\"512.252\" r=\"14\" fill=\"#009af9\" fill-rule=\"evenodd\" fill-opacity=\"1\" stroke=\"#000000\" stroke-opacity=\"1\" stroke-width=\"2\"/>\n",
       "<circle clip-path=\"url(#clip812)\" cx=\"840.942\" cy=\"688.637\" r=\"14\" fill=\"#009af9\" fill-rule=\"evenodd\" fill-opacity=\"1\" stroke=\"#000000\" stroke-opacity=\"1\" stroke-width=\"2\"/>\n",
       "<circle clip-path=\"url(#clip812)\" cx=\"822.838\" cy=\"742.325\" r=\"14\" fill=\"#009af9\" fill-rule=\"evenodd\" fill-opacity=\"1\" stroke=\"#000000\" stroke-opacity=\"1\" stroke-width=\"2\"/>\n",
       "<circle clip-path=\"url(#clip812)\" cx=\"1718.73\" cy=\"849.7\" r=\"14\" fill=\"#009af9\" fill-rule=\"evenodd\" fill-opacity=\"1\" stroke=\"#000000\" stroke-opacity=\"1\" stroke-width=\"2\"/>\n",
       "<circle clip-path=\"url(#clip812)\" cx=\"555.915\" cy=\"378.074\" r=\"14\" fill=\"#009af9\" fill-rule=\"evenodd\" fill-opacity=\"1\" stroke=\"#000000\" stroke-opacity=\"1\" stroke-width=\"2\"/>\n",
       "<circle clip-path=\"url(#clip812)\" cx=\"763.935\" cy=\"606.841\" r=\"14\" fill=\"#009af9\" fill-rule=\"evenodd\" fill-opacity=\"1\" stroke=\"#000000\" stroke-opacity=\"1\" stroke-width=\"2\"/>\n",
       "<circle clip-path=\"url(#clip812)\" cx=\"910.28\" cy=\"796.012\" r=\"14\" fill=\"#009af9\" fill-rule=\"evenodd\" fill-opacity=\"1\" stroke=\"#000000\" stroke-opacity=\"1\" stroke-width=\"2\"/>\n",
       "<circle clip-path=\"url(#clip812)\" cx=\"1718.14\" cy=\"849.7\" r=\"14\" fill=\"#009af9\" fill-rule=\"evenodd\" fill-opacity=\"1\" stroke=\"#000000\" stroke-opacity=\"1\" stroke-width=\"2\"/>\n",
       "<circle clip-path=\"url(#clip812)\" cx=\"1717.88\" cy=\"764.607\" r=\"14\" fill=\"#009af9\" fill-rule=\"evenodd\" fill-opacity=\"1\" stroke=\"#000000\" stroke-opacity=\"1\" stroke-width=\"2\"/>\n",
       "<circle clip-path=\"url(#clip812)\" cx=\"877.786\" cy=\"698.98\" r=\"14\" fill=\"#009af9\" fill-rule=\"evenodd\" fill-opacity=\"1\" stroke=\"#000000\" stroke-opacity=\"1\" stroke-width=\"2\"/>\n",
       "<circle clip-path=\"url(#clip812)\" cx=\"752.718\" cy=\"597.345\" r=\"14\" fill=\"#009af9\" fill-rule=\"evenodd\" fill-opacity=\"1\" stroke=\"#000000\" stroke-opacity=\"1\" stroke-width=\"2\"/>\n",
       "<circle clip-path=\"url(#clip812)\" cx=\"1719.1\" cy=\"849.7\" r=\"14\" fill=\"#009af9\" fill-rule=\"evenodd\" fill-opacity=\"1\" stroke=\"#000000\" stroke-opacity=\"1\" stroke-width=\"2\"/>\n",
       "<circle clip-path=\"url(#clip812)\" cx=\"950.518\" cy=\"742.325\" r=\"14\" fill=\"#009af9\" fill-rule=\"evenodd\" fill-opacity=\"1\" stroke=\"#000000\" stroke-opacity=\"1\" stroke-width=\"2\"/>\n",
       "<circle clip-path=\"url(#clip812)\" cx=\"1718.43\" cy=\"796.012\" r=\"14\" fill=\"#009af9\" fill-rule=\"evenodd\" fill-opacity=\"1\" stroke=\"#000000\" stroke-opacity=\"1\" stroke-width=\"2\"/>\n",
       "<circle clip-path=\"url(#clip812)\" cx=\"830.315\" cy=\"698.98\" r=\"14\" fill=\"#009af9\" fill-rule=\"evenodd\" fill-opacity=\"1\" stroke=\"#000000\" stroke-opacity=\"1\" stroke-width=\"2\"/>\n",
       "<circle clip-path=\"url(#clip812)\" cx=\"1719.16\" cy=\"796.012\" r=\"14\" fill=\"#009af9\" fill-rule=\"evenodd\" fill-opacity=\"1\" stroke=\"#000000\" stroke-opacity=\"1\" stroke-width=\"2\"/>\n",
       "<circle clip-path=\"url(#clip812)\" cx=\"866.378\" cy=\"710.92\" r=\"14\" fill=\"#009af9\" fill-rule=\"evenodd\" fill-opacity=\"1\" stroke=\"#000000\" stroke-opacity=\"1\" stroke-width=\"2\"/>\n",
       "<circle clip-path=\"url(#clip812)\" cx=\"1717.97\" cy=\"796.012\" r=\"14\" fill=\"#009af9\" fill-rule=\"evenodd\" fill-opacity=\"1\" stroke=\"#000000\" stroke-opacity=\"1\" stroke-width=\"2\"/>\n",
       "<circle clip-path=\"url(#clip812)\" cx=\"900.933\" cy=\"725.041\" r=\"14\" fill=\"#009af9\" fill-rule=\"evenodd\" fill-opacity=\"1\" stroke=\"#000000\" stroke-opacity=\"1\" stroke-width=\"2\"/>\n",
       "<circle clip-path=\"url(#clip812)\" cx=\"1718.47\" cy=\"796.012\" r=\"14\" fill=\"#009af9\" fill-rule=\"evenodd\" fill-opacity=\"1\" stroke=\"#000000\" stroke-opacity=\"1\" stroke-width=\"2\"/>\n",
       "<circle clip-path=\"url(#clip812)\" cx=\"698.428\" cy=\"531.293\" r=\"14\" fill=\"#009af9\" fill-rule=\"evenodd\" fill-opacity=\"1\" stroke=\"#000000\" stroke-opacity=\"1\" stroke-width=\"2\"/>\n",
       "<circle clip-path=\"url(#clip812)\" cx=\"1719.34\" cy=\"849.7\" r=\"14\" fill=\"#009af9\" fill-rule=\"evenodd\" fill-opacity=\"1\" stroke=\"#000000\" stroke-opacity=\"1\" stroke-width=\"2\"/>\n",
       "<circle clip-path=\"url(#clip812)\" cx=\"1718.02\" cy=\"849.7\" r=\"14\" fill=\"#009af9\" fill-rule=\"evenodd\" fill-opacity=\"1\" stroke=\"#000000\" stroke-opacity=\"1\" stroke-width=\"2\"/>\n",
       "<circle clip-path=\"url(#clip812)\" cx=\"798.18\" cy=\"606.841\" r=\"14\" fill=\"#009af9\" fill-rule=\"evenodd\" fill-opacity=\"1\" stroke=\"#000000\" stroke-opacity=\"1\" stroke-width=\"2\"/>\n",
       "<circle clip-path=\"url(#clip812)\" cx=\"1718.23\" cy=\"849.7\" r=\"14\" fill=\"#009af9\" fill-rule=\"evenodd\" fill-opacity=\"1\" stroke=\"#000000\" stroke-opacity=\"1\" stroke-width=\"2\"/>\n",
       "<circle clip-path=\"url(#clip812)\" cx=\"1717.28\" cy=\"849.7\" r=\"14\" fill=\"#009af9\" fill-rule=\"evenodd\" fill-opacity=\"1\" stroke=\"#000000\" stroke-opacity=\"1\" stroke-width=\"2\"/>\n",
       "<circle clip-path=\"url(#clip812)\" cx=\"1718.25\" cy=\"849.7\" r=\"14\" fill=\"#009af9\" fill-rule=\"evenodd\" fill-opacity=\"1\" stroke=\"#000000\" stroke-opacity=\"1\" stroke-width=\"2\"/>\n",
       "<circle clip-path=\"url(#clip812)\" cx=\"962.599\" cy=\"796.012\" r=\"14\" fill=\"#009af9\" fill-rule=\"evenodd\" fill-opacity=\"1\" stroke=\"#000000\" stroke-opacity=\"1\" stroke-width=\"2\"/>\n",
       "<circle clip-path=\"url(#clip812)\" cx=\"919.135\" cy=\"764.607\" r=\"14\" fill=\"#009af9\" fill-rule=\"evenodd\" fill-opacity=\"1\" stroke=\"#000000\" stroke-opacity=\"1\" stroke-width=\"2\"/>\n",
       "<circle clip-path=\"url(#clip812)\" cx=\"1718.45\" cy=\"849.7\" r=\"14\" fill=\"#009af9\" fill-rule=\"evenodd\" fill-opacity=\"1\" stroke=\"#000000\" stroke-opacity=\"1\" stroke-width=\"2\"/>\n",
       "<circle clip-path=\"url(#clip812)\" cx=\"1718.56\" cy=\"849.7\" r=\"14\" fill=\"#009af9\" fill-rule=\"evenodd\" fill-opacity=\"1\" stroke=\"#000000\" stroke-opacity=\"1\" stroke-width=\"2\"/>\n",
       "<circle clip-path=\"url(#clip812)\" cx=\"720.888\" cy=\"560.2\" r=\"14\" fill=\"#009af9\" fill-rule=\"evenodd\" fill-opacity=\"1\" stroke=\"#000000\" stroke-opacity=\"1\" stroke-width=\"2\"/>\n",
       "<circle clip-path=\"url(#clip812)\" cx=\"536.104\" cy=\"360.545\" r=\"14\" fill=\"#009af9\" fill-rule=\"evenodd\" fill-opacity=\"1\" stroke=\"#000000\" stroke-opacity=\"1\" stroke-width=\"2\"/>\n",
       "<circle clip-path=\"url(#clip812)\" cx=\"662.887\" cy=\"493.786\" r=\"14\" fill=\"#009af9\" fill-rule=\"evenodd\" fill-opacity=\"1\" stroke=\"#000000\" stroke-opacity=\"1\" stroke-width=\"2\"/>\n",
       "<circle clip-path=\"url(#clip812)\" cx=\"793.695\" cy=\"671.354\" r=\"14\" fill=\"#009af9\" fill-rule=\"evenodd\" fill-opacity=\"1\" stroke=\"#000000\" stroke-opacity=\"1\" stroke-width=\"2\"/>\n",
       "<circle clip-path=\"url(#clip812)\" cx=\"186.347\" cy=\"215.727\" r=\"14\" fill=\"#009af9\" fill-rule=\"evenodd\" fill-opacity=\"1\" stroke=\"#000000\" stroke-opacity=\"1\" stroke-width=\"2\"/>\n",
       "<circle clip-path=\"url(#clip812)\" cx=\"854.14\" cy=\"710.92\" r=\"14\" fill=\"#009af9\" fill-rule=\"evenodd\" fill-opacity=\"1\" stroke=\"#000000\" stroke-opacity=\"1\" stroke-width=\"2\"/>\n",
       "<circle clip-path=\"url(#clip812)\" cx=\"706.253\" cy=\"513.251\" r=\"14\" fill=\"#009af9\" fill-rule=\"evenodd\" fill-opacity=\"1\" stroke=\"#000000\" stroke-opacity=\"1\" stroke-width=\"2\"/>\n",
       "<circle clip-path=\"url(#clip812)\" cx=\"833.932\" cy=\"710.92\" r=\"14\" fill=\"#009af9\" fill-rule=\"evenodd\" fill-opacity=\"1\" stroke=\"#000000\" stroke-opacity=\"1\" stroke-width=\"2\"/>\n",
       "<circle clip-path=\"url(#clip812)\" cx=\"1717.71\" cy=\"849.7\" r=\"14\" fill=\"#009af9\" fill-rule=\"evenodd\" fill-opacity=\"1\" stroke=\"#000000\" stroke-opacity=\"1\" stroke-width=\"2\"/>\n",
       "<circle clip-path=\"url(#clip812)\" cx=\"1717.61\" cy=\"849.7\" r=\"14\" fill=\"#009af9\" fill-rule=\"evenodd\" fill-opacity=\"1\" stroke=\"#000000\" stroke-opacity=\"1\" stroke-width=\"2\"/>\n",
       "<circle clip-path=\"url(#clip812)\" cx=\"959.235\" cy=\"764.607\" r=\"14\" fill=\"#009af9\" fill-rule=\"evenodd\" fill-opacity=\"1\" stroke=\"#000000\" stroke-opacity=\"1\" stroke-width=\"2\"/>\n",
       "<circle clip-path=\"url(#clip812)\" cx=\"1718.32\" cy=\"796.012\" r=\"14\" fill=\"#009af9\" fill-rule=\"evenodd\" fill-opacity=\"1\" stroke=\"#000000\" stroke-opacity=\"1\" stroke-width=\"2\"/>\n",
       "<circle clip-path=\"url(#clip812)\" cx=\"941.325\" cy=\"796.012\" r=\"14\" fill=\"#009af9\" fill-rule=\"evenodd\" fill-opacity=\"1\" stroke=\"#000000\" stroke-opacity=\"1\" stroke-width=\"2\"/>\n",
       "<circle clip-path=\"url(#clip812)\" cx=\"630.23\" cy=\"425.847\" r=\"14\" fill=\"#009af9\" fill-rule=\"evenodd\" fill-opacity=\"1\" stroke=\"#000000\" stroke-opacity=\"1\" stroke-width=\"2\"/>\n",
       "<circle clip-path=\"url(#clip812)\" cx=\"1717.89\" cy=\"764.607\" r=\"14\" fill=\"#009af9\" fill-rule=\"evenodd\" fill-opacity=\"1\" stroke=\"#000000\" stroke-opacity=\"1\" stroke-width=\"2\"/>\n",
       "<circle clip-path=\"url(#clip812)\" cx=\"371.131\" cy=\"499.466\" r=\"14\" fill=\"#009af9\" fill-rule=\"evenodd\" fill-opacity=\"1\" stroke=\"#000000\" stroke-opacity=\"1\" stroke-width=\"2\"/>\n",
       "<circle clip-path=\"url(#clip812)\" cx=\"1718.1\" cy=\"725.041\" r=\"14\" fill=\"#009af9\" fill-rule=\"evenodd\" fill-opacity=\"1\" stroke=\"#000000\" stroke-opacity=\"1\" stroke-width=\"2\"/>\n",
       "<circle clip-path=\"url(#clip812)\" cx=\"923.393\" cy=\"796.012\" r=\"14\" fill=\"#009af9\" fill-rule=\"evenodd\" fill-opacity=\"1\" stroke=\"#000000\" stroke-opacity=\"1\" stroke-width=\"2\"/>\n",
       "<circle clip-path=\"url(#clip812)\" cx=\"847.67\" cy=\"679.514\" r=\"14\" fill=\"#009af9\" fill-rule=\"evenodd\" fill-opacity=\"1\" stroke=\"#000000\" stroke-opacity=\"1\" stroke-width=\"2\"/>\n",
       "<circle clip-path=\"url(#clip812)\" cx=\"1716.94\" cy=\"849.7\" r=\"14\" fill=\"#009af9\" fill-rule=\"evenodd\" fill-opacity=\"1\" stroke=\"#000000\" stroke-opacity=\"1\" stroke-width=\"2\"/>\n",
       "<circle clip-path=\"url(#clip812)\" cx=\"774.451\" cy=\"583.721\" r=\"14\" fill=\"#009af9\" fill-rule=\"evenodd\" fill-opacity=\"1\" stroke=\"#000000\" stroke-opacity=\"1\" stroke-width=\"2\"/>\n",
       "<circle clip-path=\"url(#clip812)\" cx=\"806.808\" cy=\"657.232\" r=\"14\" fill=\"#009af9\" fill-rule=\"evenodd\" fill-opacity=\"1\" stroke=\"#000000\" stroke-opacity=\"1\" stroke-width=\"2\"/>\n",
       "<circle clip-path=\"url(#clip812)\" cx=\"837.474\" cy=\"671.354\" r=\"14\" fill=\"#009af9\" fill-rule=\"evenodd\" fill-opacity=\"1\" stroke=\"#000000\" stroke-opacity=\"1\" stroke-width=\"2\"/>\n",
       "<circle clip-path=\"url(#clip812)\" cx=\"981.482\" cy=\"849.7\" r=\"14\" fill=\"#009af9\" fill-rule=\"evenodd\" fill-opacity=\"1\" stroke=\"#000000\" stroke-opacity=\"1\" stroke-width=\"2\"/>\n",
       "<circle clip-path=\"url(#clip812)\" cx=\"641.835\" cy=\"464.228\" r=\"14\" fill=\"#009af9\" fill-rule=\"evenodd\" fill-opacity=\"1\" stroke=\"#000000\" stroke-opacity=\"1\" stroke-width=\"2\"/>\n",
       "<circle clip-path=\"url(#clip812)\" cx=\"888.469\" cy=\"679.514\" r=\"14\" fill=\"#009af9\" fill-rule=\"evenodd\" fill-opacity=\"1\" stroke=\"#000000\" stroke-opacity=\"1\" stroke-width=\"2\"/>\n",
       "<circle clip-path=\"url(#clip812)\" cx=\"1717.8\" cy=\"849.7\" r=\"14\" fill=\"#009af9\" fill-rule=\"evenodd\" fill-opacity=\"1\" stroke=\"#000000\" stroke-opacity=\"1\" stroke-width=\"2\"/>\n",
       "<circle clip-path=\"url(#clip812)\" cx=\"955.802\" cy=\"849.7\" r=\"14\" fill=\"#009af9\" fill-rule=\"evenodd\" fill-opacity=\"1\" stroke=\"#000000\" stroke-opacity=\"1\" stroke-width=\"2\"/>\n",
       "<circle clip-path=\"url(#clip812)\" cx=\"1718.34\" cy=\"849.7\" r=\"14\" fill=\"#009af9\" fill-rule=\"evenodd\" fill-opacity=\"1\" stroke=\"#000000\" stroke-opacity=\"1\" stroke-width=\"2\"/>\n",
       "<circle clip-path=\"url(#clip812)\" cx=\"1717.63\" cy=\"796.012\" r=\"14\" fill=\"#009af9\" fill-rule=\"evenodd\" fill-opacity=\"1\" stroke=\"#000000\" stroke-opacity=\"1\" stroke-width=\"2\"/>\n",
       "<circle clip-path=\"url(#clip812)\" cx=\"1717.22\" cy=\"796.012\" r=\"14\" fill=\"#009af9\" fill-rule=\"evenodd\" fill-opacity=\"1\" stroke=\"#000000\" stroke-opacity=\"1\" stroke-width=\"2\"/>\n",
       "<circle clip-path=\"url(#clip812)\" cx=\"1718.29\" cy=\"849.7\" r=\"14\" fill=\"#009af9\" fill-rule=\"evenodd\" fill-opacity=\"1\" stroke=\"#000000\" stroke-opacity=\"1\" stroke-width=\"2\"/>\n",
       "<circle clip-path=\"url(#clip812)\" cx=\"1718.6\" cy=\"849.7\" r=\"14\" fill=\"#009af9\" fill-rule=\"evenodd\" fill-opacity=\"1\" stroke=\"#000000\" stroke-opacity=\"1\" stroke-width=\"2\"/>\n",
       "<polyline clip-path=\"url(#clip812)\" style=\"stroke:#e26f46; stroke-linecap:butt; stroke-linejoin:round; stroke-width:4; stroke-opacity:1; fill:none\" points=\"\n",
       "  990.184,1591.05 990.184,-632.996 \n",
       "  \"/>\n",
       "</svg>\n"
      ]
     },
     "execution_count": 242,
     "metadata": {},
     "output_type": "execute_result"
    }
   ],
   "source": [
    "scale = 250\n",
    "p = Mycelia.plot_kmer_frequency_spectra(values(kmer_counts), log_scale = log2, size=(2scale,scale), title=\"kmer frequencies\")\n",
    "StatsPlots.vline!(p, log2.([threshold]))"
   ]
  },
  {
   "cell_type": "code",
   "execution_count": 243,
   "id": "f031de2d-5d17-423c-bb09-29b6b7f3433a",
   "metadata": {},
   "outputs": [
    {
     "data": {
      "image/svg+xml": [
       "<?xml version=\"1.0\" encoding=\"utf-8\"?>\n",
       "<svg xmlns=\"http://www.w3.org/2000/svg\" xmlns:xlink=\"http://www.w3.org/1999/xlink\" width=\"600\" height=\"400\" viewBox=\"0 0 2400 1600\">\n",
       "<defs>\n",
       "  <clipPath id=\"clip850\">\n",
       "    <rect x=\"0\" y=\"0\" width=\"2400\" height=\"1600\"/>\n",
       "  </clipPath>\n",
       "</defs>\n",
       "<path clip-path=\"url(#clip850)\" d=\"\n",
       "M0 1600 L2400 1600 L2400 0 L0 0  Z\n",
       "  \" fill=\"#ffffff\" fill-rule=\"evenodd\" fill-opacity=\"1\"/>\n",
       "<defs>\n",
       "  <clipPath id=\"clip851\">\n",
       "    <rect x=\"480\" y=\"0\" width=\"1681\" height=\"1600\"/>\n",
       "  </clipPath>\n",
       "</defs>\n",
       "<path clip-path=\"url(#clip850)\" d=\"\n",
       "M202.227 1423.18 L2352.76 1423.18 L2352.76 47.2441 L202.227 47.2441  Z\n",
       "  \" fill=\"#ffffff\" fill-rule=\"evenodd\" fill-opacity=\"1\"/>\n",
       "<defs>\n",
       "  <clipPath id=\"clip852\">\n",
       "    <rect x=\"202\" y=\"47\" width=\"2152\" height=\"1377\"/>\n",
       "  </clipPath>\n",
       "</defs>\n",
       "<polyline clip-path=\"url(#clip852)\" style=\"stroke:#000000; stroke-linecap:butt; stroke-linejoin:round; stroke-width:2; stroke-opacity:0.1; fill:none\" points=\"\n",
       "  249.744,1423.18 249.744,47.2441 \n",
       "  \"/>\n",
       "<polyline clip-path=\"url(#clip852)\" style=\"stroke:#000000; stroke-linecap:butt; stroke-linejoin:round; stroke-width:2; stroke-opacity:0.1; fill:none\" points=\"\n",
       "  917.113,1423.18 917.113,47.2441 \n",
       "  \"/>\n",
       "<polyline clip-path=\"url(#clip852)\" style=\"stroke:#000000; stroke-linecap:butt; stroke-linejoin:round; stroke-width:2; stroke-opacity:0.1; fill:none\" points=\"\n",
       "  1584.48,1423.18 1584.48,47.2441 \n",
       "  \"/>\n",
       "<polyline clip-path=\"url(#clip852)\" style=\"stroke:#000000; stroke-linecap:butt; stroke-linejoin:round; stroke-width:2; stroke-opacity:0.1; fill:none\" points=\"\n",
       "  2251.85,1423.18 2251.85,47.2441 \n",
       "  \"/>\n",
       "<polyline clip-path=\"url(#clip850)\" style=\"stroke:#000000; stroke-linecap:butt; stroke-linejoin:round; stroke-width:4; stroke-opacity:1; fill:none\" points=\"\n",
       "  202.227,1423.18 2352.76,1423.18 \n",
       "  \"/>\n",
       "<polyline clip-path=\"url(#clip850)\" style=\"stroke:#000000; stroke-linecap:butt; stroke-linejoin:round; stroke-width:4; stroke-opacity:1; fill:none\" points=\"\n",
       "  249.744,1423.18 249.744,1404.28 \n",
       "  \"/>\n",
       "<polyline clip-path=\"url(#clip850)\" style=\"stroke:#000000; stroke-linecap:butt; stroke-linejoin:round; stroke-width:4; stroke-opacity:1; fill:none\" points=\"\n",
       "  917.113,1423.18 917.113,1404.28 \n",
       "  \"/>\n",
       "<polyline clip-path=\"url(#clip850)\" style=\"stroke:#000000; stroke-linecap:butt; stroke-linejoin:round; stroke-width:4; stroke-opacity:1; fill:none\" points=\"\n",
       "  1584.48,1423.18 1584.48,1404.28 \n",
       "  \"/>\n",
       "<polyline clip-path=\"url(#clip850)\" style=\"stroke:#000000; stroke-linecap:butt; stroke-linejoin:round; stroke-width:4; stroke-opacity:1; fill:none\" points=\"\n",
       "  2251.85,1423.18 2251.85,1404.28 \n",
       "  \"/>\n",
       "<path clip-path=\"url(#clip850)\" d=\"M249.744 1452.37 Q246.133 1452.37 244.304 1455.94 Q242.499 1459.48 242.499 1466.61 Q242.499 1473.71 244.304 1477.28 Q246.133 1480.82 249.744 1480.82 Q253.378 1480.82 255.184 1477.28 Q257.013 1473.71 257.013 1466.61 Q257.013 1459.48 255.184 1455.94 Q253.378 1452.37 249.744 1452.37 M249.744 1448.67 Q255.554 1448.67 258.61 1453.27 Q261.688 1457.86 261.688 1466.61 Q261.688 1475.33 258.61 1479.94 Q255.554 1484.52 249.744 1484.52 Q243.934 1484.52 240.855 1479.94 Q237.8 1475.33 237.8 1466.61 Q237.8 1457.86 240.855 1453.27 Q243.934 1448.67 249.744 1448.67 Z\" fill=\"#000000\" fill-rule=\"evenodd\" fill-opacity=\"1\" /><path clip-path=\"url(#clip850)\" d=\"M891.812 1449.29 L910.168 1449.29 L910.168 1453.23 L896.094 1453.23 L896.094 1461.7 Q897.113 1461.35 898.131 1461.19 Q899.15 1461 900.168 1461 Q905.955 1461 909.335 1464.18 Q912.715 1467.35 912.715 1472.76 Q912.715 1478.34 909.242 1481.44 Q905.77 1484.52 899.451 1484.52 Q897.275 1484.52 895.006 1484.15 Q892.761 1483.78 890.354 1483.04 L890.354 1478.34 Q892.437 1479.48 894.659 1480.03 Q896.881 1480.59 899.358 1480.59 Q903.363 1480.59 905.701 1478.48 Q908.039 1476.38 908.039 1472.76 Q908.039 1469.15 905.701 1467.05 Q903.363 1464.94 899.358 1464.94 Q897.483 1464.94 895.608 1465.36 Q893.756 1465.77 891.812 1466.65 L891.812 1449.29 Z\" fill=\"#000000\" fill-rule=\"evenodd\" fill-opacity=\"1\" /><path clip-path=\"url(#clip850)\" d=\"M931.927 1452.37 Q928.316 1452.37 926.488 1455.94 Q924.682 1459.48 924.682 1466.61 Q924.682 1473.71 926.488 1477.28 Q928.316 1480.82 931.927 1480.82 Q935.562 1480.82 937.367 1477.28 Q939.196 1473.71 939.196 1466.61 Q939.196 1459.48 937.367 1455.94 Q935.562 1452.37 931.927 1452.37 M931.927 1448.67 Q937.738 1448.67 940.793 1453.27 Q943.872 1457.86 943.872 1466.61 Q943.872 1475.33 940.793 1479.94 Q937.738 1484.52 931.927 1484.52 Q926.117 1484.52 923.039 1479.94 Q919.983 1475.33 919.983 1466.61 Q919.983 1457.86 923.039 1453.27 Q926.117 1448.67 931.927 1448.67 Z\" fill=\"#000000\" fill-rule=\"evenodd\" fill-opacity=\"1\" /><path clip-path=\"url(#clip850)\" d=\"M1544.09 1479.92 L1551.73 1479.92 L1551.73 1453.55 L1543.42 1455.22 L1543.42 1450.96 L1551.68 1449.29 L1556.36 1449.29 L1556.36 1479.92 L1564 1479.92 L1564 1483.85 L1544.09 1483.85 L1544.09 1479.92 Z\" fill=\"#000000\" fill-rule=\"evenodd\" fill-opacity=\"1\" /><path clip-path=\"url(#clip850)\" d=\"M1583.44 1452.37 Q1579.83 1452.37 1578 1455.94 Q1576.19 1459.48 1576.19 1466.61 Q1576.19 1473.71 1578 1477.28 Q1579.83 1480.82 1583.44 1480.82 Q1587.07 1480.82 1588.88 1477.28 Q1590.71 1473.71 1590.71 1466.61 Q1590.71 1459.48 1588.88 1455.94 Q1587.07 1452.37 1583.44 1452.37 M1583.44 1448.67 Q1589.25 1448.67 1592.31 1453.27 Q1595.38 1457.86 1595.38 1466.61 Q1595.38 1475.33 1592.31 1479.94 Q1589.25 1484.52 1583.44 1484.52 Q1577.63 1484.52 1574.55 1479.94 Q1571.5 1475.33 1571.5 1466.61 Q1571.5 1457.86 1574.55 1453.27 Q1577.63 1448.67 1583.44 1448.67 Z\" fill=\"#000000\" fill-rule=\"evenodd\" fill-opacity=\"1\" /><path clip-path=\"url(#clip850)\" d=\"M1613.6 1452.37 Q1609.99 1452.37 1608.16 1455.94 Q1606.36 1459.48 1606.36 1466.61 Q1606.36 1473.71 1608.16 1477.28 Q1609.99 1480.82 1613.6 1480.82 Q1617.24 1480.82 1619.04 1477.28 Q1620.87 1473.71 1620.87 1466.61 Q1620.87 1459.48 1619.04 1455.94 Q1617.24 1452.37 1613.6 1452.37 M1613.6 1448.67 Q1619.41 1448.67 1622.47 1453.27 Q1625.55 1457.86 1625.55 1466.61 Q1625.55 1475.33 1622.47 1479.94 Q1619.41 1484.52 1613.6 1484.52 Q1607.79 1484.52 1604.71 1479.94 Q1601.66 1475.33 1601.66 1466.61 Q1601.66 1457.86 1604.71 1453.27 Q1607.79 1448.67 1613.6 1448.67 Z\" fill=\"#000000\" fill-rule=\"evenodd\" fill-opacity=\"1\" /><path clip-path=\"url(#clip850)\" d=\"M2211.46 1479.92 L2219.1 1479.92 L2219.1 1453.55 L2210.79 1455.22 L2210.79 1450.96 L2219.05 1449.29 L2223.72 1449.29 L2223.72 1479.92 L2231.36 1479.92 L2231.36 1483.85 L2211.46 1483.85 L2211.46 1479.92 Z\" fill=\"#000000\" fill-rule=\"evenodd\" fill-opacity=\"1\" /><path clip-path=\"url(#clip850)\" d=\"M2240.85 1449.29 L2259.21 1449.29 L2259.21 1453.23 L2245.14 1453.23 L2245.14 1461.7 Q2246.16 1461.35 2247.17 1461.19 Q2248.19 1461 2249.21 1461 Q2255 1461 2258.38 1464.18 Q2261.76 1467.35 2261.76 1472.76 Q2261.76 1478.34 2258.28 1481.44 Q2254.81 1484.52 2248.49 1484.52 Q2246.32 1484.52 2244.05 1484.15 Q2241.8 1483.78 2239.4 1483.04 L2239.4 1478.34 Q2241.48 1479.48 2243.7 1480.03 Q2245.92 1480.59 2248.4 1480.59 Q2252.41 1480.59 2254.74 1478.48 Q2257.08 1476.38 2257.08 1472.76 Q2257.08 1469.15 2254.74 1467.05 Q2252.41 1464.94 2248.4 1464.94 Q2246.53 1464.94 2244.65 1465.36 Q2242.8 1465.77 2240.85 1466.65 L2240.85 1449.29 Z\" fill=\"#000000\" fill-rule=\"evenodd\" fill-opacity=\"1\" /><path clip-path=\"url(#clip850)\" d=\"M2280.97 1452.37 Q2277.36 1452.37 2275.53 1455.94 Q2273.72 1459.48 2273.72 1466.61 Q2273.72 1473.71 2275.53 1477.28 Q2277.36 1480.82 2280.97 1480.82 Q2284.6 1480.82 2286.41 1477.28 Q2288.24 1473.71 2288.24 1466.61 Q2288.24 1459.48 2286.41 1455.94 Q2284.6 1452.37 2280.97 1452.37 M2280.97 1448.67 Q2286.78 1448.67 2289.84 1453.27 Q2292.91 1457.86 2292.91 1466.61 Q2292.91 1475.33 2289.84 1479.94 Q2286.78 1484.52 2280.97 1484.52 Q2275.16 1484.52 2272.08 1479.94 Q2269.03 1475.33 2269.03 1466.61 Q2269.03 1457.86 2272.08 1453.27 Q2275.16 1448.67 2280.97 1448.67 Z\" fill=\"#000000\" fill-rule=\"evenodd\" fill-opacity=\"1\" /><path clip-path=\"url(#clip850)\" d=\"M1102.29 1533.45 L1102.29 1538.98 Q1099.81 1537.71 1097.14 1537.07 Q1094.46 1536.44 1091.6 1536.44 Q1087.24 1536.44 1085.04 1537.77 Q1082.88 1539.11 1082.88 1541.79 Q1082.88 1543.82 1084.44 1545 Q1086 1546.15 1090.71 1547.2 L1092.71 1547.64 Q1098.95 1548.98 1101.56 1551.43 Q1104.2 1553.85 1104.2 1558.21 Q1104.2 1563.17 1100.25 1566.07 Q1096.34 1568.97 1089.46 1568.97 Q1086.6 1568.97 1083.48 1568.39 Q1080.39 1567.85 1076.96 1566.74 L1076.96 1560.69 Q1080.2 1562.38 1083.35 1563.24 Q1086.5 1564.07 1089.59 1564.07 Q1093.73 1564.07 1095.96 1562.66 Q1098.19 1561.23 1098.19 1558.65 Q1098.19 1556.27 1096.56 1554.99 Q1094.97 1553.72 1089.53 1552.54 L1087.49 1552.07 Q1082.05 1550.92 1079.63 1548.56 Q1077.21 1546.18 1077.21 1542.04 Q1077.21 1537.01 1080.78 1534.27 Q1084.34 1531.54 1090.9 1531.54 Q1094.14 1531.54 1097.01 1532.01 Q1099.87 1532.49 1102.29 1533.45 Z\" fill=\"#000000\" fill-rule=\"evenodd\" fill-opacity=\"1\" /><path clip-path=\"url(#clip850)\" d=\"M1127.34 1536.5 Q1122.63 1536.5 1119.89 1540.19 Q1117.16 1543.85 1117.16 1550.25 Q1117.16 1556.65 1119.86 1560.34 Q1122.6 1564 1127.34 1564 Q1132.02 1564 1134.76 1560.31 Q1137.49 1556.62 1137.49 1550.25 Q1137.49 1543.92 1134.76 1540.23 Q1132.02 1536.5 1127.34 1536.5 M1127.34 1531.54 Q1134.98 1531.54 1139.34 1536.5 Q1143.7 1541.47 1143.7 1550.25 Q1143.7 1559 1139.34 1564 Q1134.98 1568.97 1127.34 1568.97 Q1119.67 1568.97 1115.31 1564 Q1110.98 1559 1110.98 1550.25 Q1110.98 1541.47 1115.31 1536.5 Q1119.67 1531.54 1127.34 1531.54 Z\" fill=\"#000000\" fill-rule=\"evenodd\" fill-opacity=\"1\" /><path clip-path=\"url(#clip850)\" d=\"M1174.06 1537.87 Q1173.08 1537.3 1171.9 1537.04 Q1170.75 1536.76 1169.35 1536.76 Q1164.39 1536.76 1161.72 1540 Q1159.07 1543.22 1159.07 1549.27 L1159.07 1568.04 L1153.19 1568.04 L1153.19 1532.4 L1159.07 1532.4 L1159.07 1537.93 Q1160.92 1534.69 1163.88 1533.13 Q1166.84 1531.54 1171.07 1531.54 Q1171.68 1531.54 1172.41 1531.63 Q1173.14 1531.7 1174.03 1531.85 L1174.06 1537.87 Z\" fill=\"#000000\" fill-rule=\"evenodd\" fill-opacity=\"1\" /><path clip-path=\"url(#clip850)\" d=\"M1186 1522.27 L1186 1532.4 L1198.06 1532.4 L1198.06 1536.95 L1186 1536.95 L1186 1556.3 Q1186 1560.66 1187.18 1561.9 Q1188.39 1563.14 1192.05 1563.14 L1198.06 1563.14 L1198.06 1568.04 L1192.05 1568.04 Q1185.27 1568.04 1182.69 1565.53 Q1180.11 1562.98 1180.11 1556.3 L1180.11 1536.95 L1175.82 1536.95 L1175.82 1532.4 L1180.11 1532.4 L1180.11 1522.27 L1186 1522.27 Z\" fill=\"#000000\" fill-rule=\"evenodd\" fill-opacity=\"1\" /><path clip-path=\"url(#clip850)\" d=\"M1236.26 1548.76 L1236.26 1551.62 L1209.33 1551.62 Q1209.71 1557.67 1212.96 1560.85 Q1216.24 1564 1222.06 1564 Q1225.44 1564 1228.59 1563.17 Q1231.77 1562.35 1234.89 1560.69 L1234.89 1566.23 Q1231.74 1567.57 1228.43 1568.27 Q1225.12 1568.97 1221.71 1568.97 Q1213.18 1568.97 1208.19 1564 Q1203.22 1559.04 1203.22 1550.57 Q1203.22 1541.82 1207.93 1536.69 Q1212.67 1531.54 1220.69 1531.54 Q1227.89 1531.54 1232.06 1536.18 Q1236.26 1540.8 1236.26 1548.76 M1230.4 1547.04 Q1230.34 1542.23 1227.7 1539.37 Q1225.09 1536.5 1220.76 1536.5 Q1215.86 1536.5 1212.9 1539.27 Q1209.97 1542.04 1209.52 1547.07 L1230.4 1547.04 Z\" fill=\"#000000\" fill-rule=\"evenodd\" fill-opacity=\"1\" /><path clip-path=\"url(#clip850)\" d=\"M1269.33 1537.81 L1269.33 1518.52 L1275.18 1518.52 L1275.18 1568.04 L1269.33 1568.04 L1269.33 1562.7 Q1267.48 1565.88 1264.65 1567.44 Q1261.85 1568.97 1257.9 1568.97 Q1251.44 1568.97 1247.37 1563.81 Q1243.32 1558.65 1243.32 1550.25 Q1243.32 1541.85 1247.37 1536.69 Q1251.44 1531.54 1257.9 1531.54 Q1261.85 1531.54 1264.65 1533.1 Q1267.48 1534.62 1269.33 1537.81 M1249.37 1550.25 Q1249.37 1556.71 1252.01 1560.4 Q1254.69 1564.07 1259.33 1564.07 Q1263.98 1564.07 1266.65 1560.4 Q1269.33 1556.71 1269.33 1550.25 Q1269.33 1543.79 1266.65 1540.13 Q1263.98 1536.44 1259.33 1536.44 Q1254.69 1536.44 1252.01 1540.13 Q1249.37 1543.79 1249.37 1550.25 Z\" fill=\"#000000\" fill-rule=\"evenodd\" fill-opacity=\"1\" /><path clip-path=\"url(#clip850)\" d=\"M1307.97 1532.4 L1313.82 1532.4 L1313.82 1568.04 L1307.97 1568.04 L1307.97 1532.4 M1307.97 1518.52 L1313.82 1518.52 L1313.82 1525.93 L1307.97 1525.93 L1307.97 1518.52 Z\" fill=\"#000000\" fill-rule=\"evenodd\" fill-opacity=\"1\" /><path clip-path=\"url(#clip850)\" d=\"M1355.71 1546.53 L1355.71 1568.04 L1349.85 1568.04 L1349.85 1546.72 Q1349.85 1541.66 1347.88 1539.14 Q1345.91 1536.63 1341.96 1536.63 Q1337.22 1536.63 1334.48 1539.65 Q1331.74 1542.68 1331.74 1547.9 L1331.74 1568.04 L1325.86 1568.04 L1325.86 1532.4 L1331.74 1532.4 L1331.74 1537.93 Q1333.84 1534.72 1336.68 1533.13 Q1339.54 1531.54 1343.27 1531.54 Q1349.41 1531.54 1352.56 1535.36 Q1355.71 1539.14 1355.71 1546.53 Z\" fill=\"#000000\" fill-rule=\"evenodd\" fill-opacity=\"1\" /><path clip-path=\"url(#clip850)\" d=\"M1390.85 1537.81 L1390.85 1518.52 L1396.71 1518.52 L1396.71 1568.04 L1390.85 1568.04 L1390.85 1562.7 Q1389 1565.88 1386.17 1567.44 Q1383.37 1568.97 1379.42 1568.97 Q1372.96 1568.97 1368.89 1563.81 Q1364.85 1558.65 1364.85 1550.25 Q1364.85 1541.85 1368.89 1536.69 Q1372.96 1531.54 1379.42 1531.54 Q1383.37 1531.54 1386.17 1533.1 Q1389 1534.62 1390.85 1537.81 M1370.89 1550.25 Q1370.89 1556.71 1373.53 1560.4 Q1376.21 1564.07 1380.85 1564.07 Q1385.5 1564.07 1388.18 1560.4 Q1390.85 1556.71 1390.85 1550.25 Q1390.85 1543.79 1388.18 1540.13 Q1385.5 1536.44 1380.85 1536.44 Q1376.21 1536.44 1373.53 1540.13 Q1370.89 1543.79 1370.89 1550.25 Z\" fill=\"#000000\" fill-rule=\"evenodd\" fill-opacity=\"1\" /><path clip-path=\"url(#clip850)\" d=\"M1439.26 1548.76 L1439.26 1551.62 L1412.33 1551.62 Q1412.72 1557.67 1415.96 1560.85 Q1419.24 1564 1425.06 1564 Q1428.44 1564 1431.59 1563.17 Q1434.77 1562.35 1437.89 1560.69 L1437.89 1566.23 Q1434.74 1567.57 1431.43 1568.27 Q1428.12 1568.97 1424.71 1568.97 Q1416.18 1568.97 1411.19 1564 Q1406.22 1559.04 1406.22 1550.57 Q1406.22 1541.82 1410.93 1536.69 Q1415.68 1531.54 1423.7 1531.54 Q1430.89 1531.54 1435.06 1536.18 Q1439.26 1540.8 1439.26 1548.76 M1433.4 1547.04 Q1433.34 1542.23 1430.7 1539.37 Q1428.09 1536.5 1423.76 1536.5 Q1418.86 1536.5 1415.9 1539.27 Q1412.97 1542.04 1412.52 1547.07 L1433.4 1547.04 Z\" fill=\"#000000\" fill-rule=\"evenodd\" fill-opacity=\"1\" /><path clip-path=\"url(#clip850)\" d=\"M1477.36 1532.4 L1464.47 1549.74 L1478.03 1568.04 L1471.12 1568.04 L1460.74 1554.04 L1450.37 1568.04 L1443.46 1568.04 L1457.31 1549.39 L1444.64 1532.4 L1451.55 1532.4 L1461 1545.1 L1470.45 1532.4 L1477.36 1532.4 Z\" fill=\"#000000\" fill-rule=\"evenodd\" fill-opacity=\"1\" /><polyline clip-path=\"url(#clip852)\" style=\"stroke:#000000; stroke-linecap:butt; stroke-linejoin:round; stroke-width:2; stroke-opacity:0.1; fill:none\" points=\"\n",
       "  202.227,1384.24 2352.76,1384.24 \n",
       "  \"/>\n",
       "<polyline clip-path=\"url(#clip852)\" style=\"stroke:#000000; stroke-linecap:butt; stroke-linejoin:round; stroke-width:2; stroke-opacity:0.1; fill:none\" points=\"\n",
       "  202.227,1186.83 2352.76,1186.83 \n",
       "  \"/>\n",
       "<polyline clip-path=\"url(#clip852)\" style=\"stroke:#000000; stroke-linecap:butt; stroke-linejoin:round; stroke-width:2; stroke-opacity:0.1; fill:none\" points=\"\n",
       "  202.227,989.429 2352.76,989.429 \n",
       "  \"/>\n",
       "<polyline clip-path=\"url(#clip852)\" style=\"stroke:#000000; stroke-linecap:butt; stroke-linejoin:round; stroke-width:2; stroke-opacity:0.1; fill:none\" points=\"\n",
       "  202.227,792.024 2352.76,792.024 \n",
       "  \"/>\n",
       "<polyline clip-path=\"url(#clip852)\" style=\"stroke:#000000; stroke-linecap:butt; stroke-linejoin:round; stroke-width:2; stroke-opacity:0.1; fill:none\" points=\"\n",
       "  202.227,594.619 2352.76,594.619 \n",
       "  \"/>\n",
       "<polyline clip-path=\"url(#clip852)\" style=\"stroke:#000000; stroke-linecap:butt; stroke-linejoin:round; stroke-width:2; stroke-opacity:0.1; fill:none\" points=\"\n",
       "  202.227,397.214 2352.76,397.214 \n",
       "  \"/>\n",
       "<polyline clip-path=\"url(#clip852)\" style=\"stroke:#000000; stroke-linecap:butt; stroke-linejoin:round; stroke-width:2; stroke-opacity:0.1; fill:none\" points=\"\n",
       "  202.227,199.809 2352.76,199.809 \n",
       "  \"/>\n",
       "<polyline clip-path=\"url(#clip850)\" style=\"stroke:#000000; stroke-linecap:butt; stroke-linejoin:round; stroke-width:4; stroke-opacity:1; fill:none\" points=\"\n",
       "  202.227,1423.18 202.227,47.2441 \n",
       "  \"/>\n",
       "<polyline clip-path=\"url(#clip850)\" style=\"stroke:#000000; stroke-linecap:butt; stroke-linejoin:round; stroke-width:4; stroke-opacity:1; fill:none\" points=\"\n",
       "  202.227,1384.24 221.125,1384.24 \n",
       "  \"/>\n",
       "<polyline clip-path=\"url(#clip850)\" style=\"stroke:#000000; stroke-linecap:butt; stroke-linejoin:round; stroke-width:4; stroke-opacity:1; fill:none\" points=\"\n",
       "  202.227,1186.83 221.125,1186.83 \n",
       "  \"/>\n",
       "<polyline clip-path=\"url(#clip850)\" style=\"stroke:#000000; stroke-linecap:butt; stroke-linejoin:round; stroke-width:4; stroke-opacity:1; fill:none\" points=\"\n",
       "  202.227,989.429 221.125,989.429 \n",
       "  \"/>\n",
       "<polyline clip-path=\"url(#clip850)\" style=\"stroke:#000000; stroke-linecap:butt; stroke-linejoin:round; stroke-width:4; stroke-opacity:1; fill:none\" points=\"\n",
       "  202.227,792.024 221.125,792.024 \n",
       "  \"/>\n",
       "<polyline clip-path=\"url(#clip850)\" style=\"stroke:#000000; stroke-linecap:butt; stroke-linejoin:round; stroke-width:4; stroke-opacity:1; fill:none\" points=\"\n",
       "  202.227,594.619 221.125,594.619 \n",
       "  \"/>\n",
       "<polyline clip-path=\"url(#clip850)\" style=\"stroke:#000000; stroke-linecap:butt; stroke-linejoin:round; stroke-width:4; stroke-opacity:1; fill:none\" points=\"\n",
       "  202.227,397.214 221.125,397.214 \n",
       "  \"/>\n",
       "<polyline clip-path=\"url(#clip850)\" style=\"stroke:#000000; stroke-linecap:butt; stroke-linejoin:round; stroke-width:4; stroke-opacity:1; fill:none\" points=\"\n",
       "  202.227,199.809 221.125,199.809 \n",
       "  \"/>\n",
       "<path clip-path=\"url(#clip850)\" d=\"M154.283 1370.04 Q150.672 1370.04 148.843 1373.6 Q147.038 1377.14 147.038 1384.27 Q147.038 1391.38 148.843 1394.94 Q150.672 1398.49 154.283 1398.49 Q157.917 1398.49 159.723 1394.94 Q161.552 1391.38 161.552 1384.27 Q161.552 1377.14 159.723 1373.6 Q157.917 1370.04 154.283 1370.04 M154.283 1366.33 Q160.093 1366.33 163.149 1370.94 Q166.227 1375.52 166.227 1384.27 Q166.227 1393 163.149 1397.61 Q160.093 1402.19 154.283 1402.19 Q148.473 1402.19 145.394 1397.61 Q142.339 1393 142.339 1384.27 Q142.339 1375.52 145.394 1370.94 Q148.473 1366.33 154.283 1366.33 Z\" fill=\"#000000\" fill-rule=\"evenodd\" fill-opacity=\"1\" /><path clip-path=\"url(#clip850)\" d=\"M149.908 1200.18 L166.227 1200.18 L166.227 1204.11 L144.283 1204.11 L144.283 1200.18 Q146.945 1197.42 151.528 1192.79 Q156.135 1188.14 157.315 1186.8 Q159.561 1184.28 160.44 1182.54 Q161.343 1180.78 161.343 1179.09 Q161.343 1176.34 159.399 1174.6 Q157.478 1172.86 154.376 1172.86 Q152.177 1172.86 149.723 1173.63 Q147.292 1174.39 144.515 1175.94 L144.515 1171.22 Q147.339 1170.09 149.792 1169.51 Q152.246 1168.93 154.283 1168.93 Q159.653 1168.93 162.848 1171.61 Q166.042 1174.3 166.042 1178.79 Q166.042 1180.92 165.232 1182.84 Q164.445 1184.74 162.339 1187.33 Q161.76 1188 158.658 1191.22 Q155.556 1194.41 149.908 1200.18 Z\" fill=\"#000000\" fill-rule=\"evenodd\" fill-opacity=\"1\" /><path clip-path=\"url(#clip850)\" d=\"M156.644 976.223 L144.839 994.672 L156.644 994.672 L156.644 976.223 M155.417 972.149 L161.297 972.149 L161.297 994.672 L166.227 994.672 L166.227 998.561 L161.297 998.561 L161.297 1006.71 L156.644 1006.71 L156.644 998.561 L141.042 998.561 L141.042 994.047 L155.417 972.149 Z\" fill=\"#000000\" fill-rule=\"evenodd\" fill-opacity=\"1\" /><path clip-path=\"url(#clip850)\" d=\"M154.7 790.16 Q151.552 790.16 149.7 792.313 Q147.871 794.466 147.871 798.216 Q147.871 801.943 149.7 804.119 Q151.552 806.271 154.7 806.271 Q157.848 806.271 159.677 804.119 Q161.528 801.943 161.528 798.216 Q161.528 794.466 159.677 792.313 Q157.848 790.16 154.7 790.16 M163.982 775.508 L163.982 779.767 Q162.223 778.934 160.417 778.494 Q158.635 778.054 156.876 778.054 Q152.246 778.054 149.792 781.179 Q147.362 784.304 147.015 790.623 Q148.38 788.61 150.441 787.545 Q152.501 786.457 154.978 786.457 Q160.186 786.457 163.195 789.628 Q166.227 792.776 166.227 798.216 Q166.227 803.54 163.079 806.758 Q159.931 809.975 154.7 809.975 Q148.704 809.975 145.533 805.392 Q142.362 800.785 142.362 792.059 Q142.362 783.864 146.251 779.003 Q150.14 774.119 156.69 774.119 Q158.45 774.119 160.232 774.466 Q162.038 774.813 163.982 775.508 Z\" fill=\"#000000\" fill-rule=\"evenodd\" fill-opacity=\"1\" /><path clip-path=\"url(#clip850)\" d=\"M154.376 595.487 Q151.042 595.487 149.121 597.269 Q147.223 599.052 147.223 602.177 Q147.223 605.302 149.121 607.084 Q151.042 608.867 154.376 608.867 Q157.709 608.867 159.63 607.084 Q161.552 605.279 161.552 602.177 Q161.552 599.052 159.63 597.269 Q157.732 595.487 154.376 595.487 M149.7 593.496 Q146.691 592.756 145.001 590.695 Q143.334 588.635 143.334 585.672 Q143.334 581.529 146.274 579.121 Q149.237 576.714 154.376 576.714 Q159.538 576.714 162.477 579.121 Q165.417 581.529 165.417 585.672 Q165.417 588.635 163.727 590.695 Q162.061 592.756 159.075 593.496 Q162.454 594.283 164.329 596.575 Q166.227 598.867 166.227 602.177 Q166.227 607.2 163.149 609.885 Q160.093 612.57 154.376 612.57 Q148.658 612.57 145.579 609.885 Q142.524 607.2 142.524 602.177 Q142.524 598.867 144.422 596.575 Q146.32 594.283 149.7 593.496 M147.987 586.112 Q147.987 588.797 149.653 590.302 Q151.343 591.807 154.376 591.807 Q157.385 591.807 159.075 590.302 Q160.788 588.797 160.788 586.112 Q160.788 583.427 159.075 581.922 Q157.385 580.418 154.376 580.418 Q151.343 580.418 149.653 581.922 Q147.987 583.427 147.987 586.112 Z\" fill=\"#000000\" fill-rule=\"evenodd\" fill-opacity=\"1\" /><path clip-path=\"url(#clip850)\" d=\"M114.931 410.559 L122.57 410.559 L122.57 384.193 L114.26 385.86 L114.26 381.601 L122.524 379.934 L127.2 379.934 L127.2 410.559 L134.839 410.559 L134.839 414.494 L114.931 414.494 L114.931 410.559 Z\" fill=\"#000000\" fill-rule=\"evenodd\" fill-opacity=\"1\" /><path clip-path=\"url(#clip850)\" d=\"M154.283 383.013 Q150.672 383.013 148.843 386.578 Q147.038 390.119 147.038 397.249 Q147.038 404.355 148.843 407.92 Q150.672 411.462 154.283 411.462 Q157.917 411.462 159.723 407.92 Q161.552 404.355 161.552 397.249 Q161.552 390.119 159.723 386.578 Q157.917 383.013 154.283 383.013 M154.283 379.309 Q160.093 379.309 163.149 383.916 Q166.227 388.499 166.227 397.249 Q166.227 405.976 163.149 410.582 Q160.093 415.166 154.283 415.166 Q148.473 415.166 145.394 410.582 Q142.339 405.976 142.339 397.249 Q142.339 388.499 145.394 383.916 Q148.473 379.309 154.283 379.309 Z\" fill=\"#000000\" fill-rule=\"evenodd\" fill-opacity=\"1\" /><path clip-path=\"url(#clip850)\" d=\"M116.529 213.154 L124.168 213.154 L124.168 186.789 L115.857 188.455 L115.857 184.196 L124.121 182.529 L128.797 182.529 L128.797 213.154 L136.436 213.154 L136.436 217.089 L116.529 217.089 L116.529 213.154 Z\" fill=\"#000000\" fill-rule=\"evenodd\" fill-opacity=\"1\" /><path clip-path=\"url(#clip850)\" d=\"M149.908 213.154 L166.227 213.154 L166.227 217.089 L144.283 217.089 L144.283 213.154 Q146.945 210.4 151.528 205.77 Q156.135 201.117 157.315 199.775 Q159.561 197.252 160.44 195.515 Q161.343 193.756 161.343 192.066 Q161.343 189.312 159.399 187.576 Q157.478 185.84 154.376 185.84 Q152.177 185.84 149.723 186.603 Q147.292 187.367 144.515 188.918 L144.515 184.196 Q147.339 183.062 149.792 182.483 Q152.246 181.904 154.283 181.904 Q159.653 181.904 162.848 184.59 Q166.042 187.275 166.042 191.765 Q166.042 193.895 165.232 195.816 Q164.445 197.715 162.339 200.307 Q161.76 200.978 158.658 204.196 Q155.556 207.39 149.908 213.154 Z\" fill=\"#000000\" fill-rule=\"evenodd\" fill-opacity=\"1\" /><path clip-path=\"url(#clip850)\" d=\"M14.479 1150.11 L14.479 1144.26 L64.0042 1144.26 L64.0042 1150.11 L14.479 1150.11 Z\" fill=\"#000000\" fill-rule=\"evenodd\" fill-opacity=\"1\" /><path clip-path=\"url(#clip850)\" d=\"M32.4621 1118.19 Q32.4621 1122.9 36.1542 1125.64 Q39.8145 1128.37 46.212 1128.37 Q52.6095 1128.37 56.3017 1125.67 Q59.9619 1122.93 59.9619 1118.19 Q59.9619 1113.51 56.2698 1110.77 Q52.5777 1108.04 46.212 1108.04 Q39.8781 1108.04 36.186 1110.77 Q32.4621 1113.51 32.4621 1118.19 M27.4968 1118.19 Q27.4968 1110.55 32.4621 1106.19 Q37.4273 1101.83 46.212 1101.83 Q54.9649 1101.83 59.9619 1106.19 Q64.9272 1110.55 64.9272 1118.19 Q64.9272 1125.86 59.9619 1130.22 Q54.9649 1134.55 46.212 1134.55 Q37.4273 1134.55 32.4621 1130.22 Q27.4968 1125.86 27.4968 1118.19 Z\" fill=\"#000000\" fill-rule=\"evenodd\" fill-opacity=\"1\" /><path clip-path=\"url(#clip850)\" d=\"M45.7664 1068.66 Q39.4007 1068.66 35.8996 1071.31 Q32.3984 1073.92 32.3984 1078.66 Q32.3984 1083.37 35.8996 1086.01 Q39.4007 1088.62 45.7664 1088.62 Q52.1003 1088.62 55.6014 1086.01 Q59.1026 1083.37 59.1026 1078.66 Q59.1026 1073.92 55.6014 1071.31 Q52.1003 1068.66 45.7664 1068.66 M59.58 1062.81 Q68.683 1062.81 73.1071 1066.85 Q77.5631 1070.89 77.5631 1079.23 Q77.5631 1082.32 77.0857 1085.06 Q76.6401 1087.79 75.6852 1090.37 L69.9879 1090.37 Q71.3884 1087.79 72.0568 1085.28 Q72.7252 1082.76 72.7252 1080.15 Q72.7252 1074.39 69.7015 1071.53 Q66.7096 1068.66 60.6303 1068.66 L57.7339 1068.66 Q60.885 1070.48 62.4446 1073.31 Q64.0042 1076.14 64.0042 1080.09 Q64.0042 1086.65 59.0071 1090.66 Q54.01 1094.67 45.7664 1094.67 Q37.491 1094.67 32.4939 1090.66 Q27.4968 1086.65 27.4968 1080.09 Q27.4968 1076.14 29.0564 1073.31 Q30.616 1070.48 33.7671 1068.66 L28.3562 1068.66 L28.3562 1062.81 L59.58 1062.81 Z\" fill=\"#000000\" fill-rule=\"evenodd\" fill-opacity=\"1\" /><path clip-path=\"url(#clip850)\" d=\"M58.5933 1044.38 L58.5933 1021.94 L64.0042 1021.94 L64.0042 1052.11 L58.5933 1052.11 Q54.8057 1048.45 48.44 1042.15 Q42.0425 1035.82 40.1964 1034.19 Q36.7271 1031.11 34.34 1029.9 Q31.921 1028.66 29.5975 1028.66 Q25.8099 1028.66 23.4228 1031.33 Q21.0356 1033.97 21.0356 1038.24 Q21.0356 1041.26 22.086 1044.63 Q23.1363 1047.98 25.2688 1051.79 L18.7758 1051.79 Q17.2162 1047.91 16.4205 1044.54 Q15.6248 1041.16 15.6248 1038.36 Q15.6248 1030.98 19.3169 1026.59 Q23.009 1022.19 29.1837 1022.19 Q32.112 1022.19 34.7537 1023.31 Q37.3637 1024.39 40.9285 1027.29 Q41.8515 1028.08 46.2757 1032.35 Q50.668 1036.61 58.5933 1044.38 Z\" fill=\"#000000\" fill-rule=\"evenodd\" fill-opacity=\"1\" /><path clip-path=\"url(#clip850)\" d=\"M14.5426 995.203 Q21.8632 999.468 29.0246 1001.54 Q36.186 1003.61 43.5384 1003.61 Q50.8908 1003.61 58.1159 1001.54 Q65.3091 999.437 72.5979 995.203 L72.5979 1000.3 Q65.1182 1005.07 57.8931 1007.46 Q50.668 1009.81 43.5384 1009.81 Q36.4406 1009.81 29.2474 1007.46 Q22.0542 1005.1 14.5426 1000.3 L14.5426 995.203 Z\" fill=\"#000000\" fill-rule=\"evenodd\" fill-opacity=\"1\" /><path clip-path=\"url(#clip850)\" d=\"M32.4621 970.027 Q32.4621 974.738 36.1542 977.475 Q39.8145 980.212 46.212 980.212 Q52.6095 980.212 56.3017 977.507 Q59.9619 974.769 59.9619 970.027 Q59.9619 965.348 56.2698 962.611 Q52.5777 959.874 46.212 959.874 Q39.8781 959.874 36.186 962.611 Q32.4621 965.348 32.4621 970.027 M27.4968 970.027 Q27.4968 962.388 32.4621 958.028 Q37.4273 953.667 46.212 953.667 Q54.9649 953.667 59.9619 958.028 Q64.9272 962.388 64.9272 970.027 Q64.9272 977.698 59.9619 982.058 Q54.9649 986.387 46.212 986.387 Q37.4273 986.387 32.4621 982.058 Q27.4968 977.698 27.4968 970.027 Z\" fill=\"#000000\" fill-rule=\"evenodd\" fill-opacity=\"1\" /><path clip-path=\"url(#clip850)\" d=\"M46.212 918.369 Q39.7508 918.369 36.0905 921.043 Q32.3984 923.685 32.3984 928.332 Q32.3984 932.979 36.0905 935.652 Q39.7508 938.294 46.212 938.294 Q52.6732 938.294 56.3653 935.652 Q60.0256 932.979 60.0256 928.332 Q60.0256 923.685 56.3653 921.043 Q52.6732 918.369 46.212 918.369 M33.7671 938.294 Q30.5842 936.448 29.0564 933.647 Q27.4968 930.814 27.4968 926.899 Q27.4968 920.406 32.6531 916.364 Q37.8093 912.29 46.212 912.29 Q54.6147 912.29 59.771 916.364 Q64.9272 920.406 64.9272 926.899 Q64.9272 930.814 63.3994 933.647 Q61.8398 936.448 58.657 938.294 L64.0042 938.294 L64.0042 944.182 L14.479 944.182 L14.479 938.294 L33.7671 938.294 Z\" fill=\"#000000\" fill-rule=\"evenodd\" fill-opacity=\"1\" /><path clip-path=\"url(#clip850)\" d=\"M29.4065 879.857 L34.9447 879.857 Q33.6716 882.339 33.035 885.013 Q32.3984 887.687 32.3984 890.551 Q32.3984 894.912 33.7352 897.108 Q35.072 899.272 37.7456 899.272 Q39.7826 899.272 40.9603 897.713 Q42.1061 896.153 43.1565 891.442 L43.6021 889.437 Q44.9389 883.199 47.3897 880.589 Q49.8086 877.947 54.1691 877.947 Q59.1344 877.947 62.0308 881.894 Q64.9272 885.809 64.9272 892.684 Q64.9272 895.548 64.3543 898.667 Q63.8132 901.755 62.6992 905.192 L56.6518 905.192 Q58.3387 901.946 59.198 898.795 Q60.0256 895.644 60.0256 892.556 Q60.0256 888.419 58.6251 886.191 Q57.1929 883.963 54.6147 883.963 Q52.2276 883.963 50.9545 885.586 Q49.6813 887.177 48.5037 892.62 L48.0262 894.657 Q46.8804 900.1 44.5251 902.519 Q42.138 904.938 38.0002 904.938 Q32.9713 904.938 30.2341 901.373 Q27.4968 897.808 27.4968 891.251 Q27.4968 888.005 27.9743 885.14 Q28.4517 882.276 29.4065 879.857 Z\" fill=\"#000000\" fill-rule=\"evenodd\" fill-opacity=\"1\" /><path clip-path=\"url(#clip850)\" d=\"M44.7161 838.13 L47.5806 838.13 L47.5806 865.056 Q53.6281 864.675 56.8109 861.428 Q59.9619 858.15 59.9619 852.325 Q59.9619 848.951 59.1344 845.8 Q58.3069 842.617 56.6518 839.498 L62.1899 839.498 Q63.5267 842.649 64.227 845.959 Q64.9272 849.27 64.9272 852.675 Q64.9272 861.205 59.9619 866.202 Q54.9967 871.168 46.5303 871.168 Q37.7774 871.168 32.6531 866.457 Q27.4968 861.714 27.4968 853.694 Q27.4968 846.5 32.1438 842.331 Q36.7589 838.13 44.7161 838.13 M42.9973 843.986 Q38.1912 844.05 35.3266 846.691 Q32.4621 849.301 32.4621 853.63 Q32.4621 858.532 35.2312 861.492 Q38.0002 864.42 43.0292 864.865 L42.9973 843.986 Z\" fill=\"#000000\" fill-rule=\"evenodd\" fill-opacity=\"1\" /><path clip-path=\"url(#clip850)\" d=\"M33.8307 807.861 Q33.2578 808.847 33.0032 810.025 Q32.7167 811.171 32.7167 812.571 Q32.7167 817.536 35.9632 820.21 Q39.1779 822.852 45.2253 822.852 L64.0042 822.852 L64.0042 828.74 L28.3562 828.74 L28.3562 822.852 L33.8944 822.852 Q30.6479 821.006 29.0883 818.046 Q27.4968 815.086 27.4968 810.852 Q27.4968 810.248 27.5923 809.516 Q27.656 808.784 27.8151 807.892 L33.8307 807.861 Z\" fill=\"#000000\" fill-rule=\"evenodd\" fill-opacity=\"1\" /><path clip-path=\"url(#clip850)\" d=\"M28.3562 805.919 L28.3562 799.712 L58.275 788.573 L28.3562 777.433 L28.3562 771.226 L64.0042 784.594 L64.0042 792.551 L28.3562 805.919 Z\" fill=\"#000000\" fill-rule=\"evenodd\" fill-opacity=\"1\" /><path clip-path=\"url(#clip850)\" d=\"M44.7161 732.65 L47.5806 732.65 L47.5806 759.577 Q53.6281 759.195 56.8109 755.948 Q59.9619 752.67 59.9619 746.845 Q59.9619 743.471 59.1344 740.32 Q58.3069 737.138 56.6518 734.018 L62.1899 734.018 Q63.5267 737.169 64.227 740.48 Q64.9272 743.79 64.9272 747.195 Q64.9272 755.725 59.9619 760.723 Q54.9967 765.688 46.5303 765.688 Q37.7774 765.688 32.6531 760.977 Q27.4968 756.235 27.4968 748.214 Q27.4968 741.021 32.1438 736.851 Q36.7589 732.65 44.7161 732.65 M42.9973 738.506 Q38.1912 738.57 35.3266 741.212 Q32.4621 743.822 32.4621 748.15 Q32.4621 753.052 35.2312 756.012 Q38.0002 758.94 43.0292 759.386 L42.9973 738.506 Z\" fill=\"#000000\" fill-rule=\"evenodd\" fill-opacity=\"1\" /><path clip-path=\"url(#clip850)\" d=\"M33.7671 699.58 L14.479 699.58 L14.479 693.723 L64.0042 693.723 L64.0042 699.58 L58.657 699.58 Q61.8398 701.426 63.3994 704.259 Q64.9272 707.06 64.9272 711.006 Q64.9272 717.468 59.771 721.542 Q54.6147 725.584 46.212 725.584 Q37.8093 725.584 32.6531 721.542 Q27.4968 717.468 27.4968 711.006 Q27.4968 707.06 29.0564 704.259 Q30.5842 701.426 33.7671 699.58 M46.212 719.536 Q52.6732 719.536 56.3653 716.895 Q60.0256 714.221 60.0256 709.574 Q60.0256 704.927 56.3653 702.254 Q52.6732 699.58 46.212 699.58 Q39.7508 699.58 36.0905 702.254 Q32.3984 704.927 32.3984 709.574 Q32.3984 714.221 36.0905 716.895 Q39.7508 719.536 46.212 719.536 Z\" fill=\"#000000\" fill-rule=\"evenodd\" fill-opacity=\"1\" /><path clip-path=\"url(#clip850)\" d=\"M14.479 642.893 L19.3487 642.893 L19.3487 648.495 Q19.3487 651.646 20.6219 652.887 Q21.895 654.097 25.2052 654.097 L28.3562 654.097 L28.3562 644.453 L32.9077 644.453 L32.9077 654.097 L64.0042 654.097 L64.0042 659.985 L32.9077 659.985 L32.9077 665.587 L28.3562 665.587 L28.3562 659.985 L25.8736 659.985 Q19.9216 659.985 17.2162 657.216 Q14.479 654.447 14.479 648.431 L14.479 642.893 Z\" fill=\"#000000\" fill-rule=\"evenodd\" fill-opacity=\"1\" /><path clip-path=\"url(#clip850)\" d=\"M33.8307 617.335 Q33.2578 618.322 33.0032 619.499 Q32.7167 620.645 32.7167 622.046 Q32.7167 627.011 35.9632 629.684 Q39.1779 632.326 45.2253 632.326 L64.0042 632.326 L64.0042 638.215 L28.3562 638.215 L28.3562 632.326 L33.8944 632.326 Q30.6479 630.48 29.0883 627.52 Q27.4968 624.56 27.4968 620.327 Q27.4968 619.722 27.5923 618.99 Q27.656 618.258 27.8151 617.367 L33.8307 617.335 Z\" fill=\"#000000\" fill-rule=\"evenodd\" fill-opacity=\"1\" /><path clip-path=\"url(#clip850)\" d=\"M44.7161 582.133 L47.5806 582.133 L47.5806 609.06 Q53.6281 608.678 56.8109 605.431 Q59.9619 602.153 59.9619 596.328 Q59.9619 592.954 59.1344 589.803 Q58.3069 586.62 56.6518 583.501 L62.1899 583.501 Q63.5267 586.652 64.227 589.962 Q64.9272 593.273 64.9272 596.678 Q64.9272 605.208 59.9619 610.205 Q54.9967 615.171 46.5303 615.171 Q37.7774 615.171 32.6531 610.46 Q27.4968 605.718 27.4968 597.697 Q27.4968 590.504 32.1438 586.334 Q36.7589 582.133 44.7161 582.133 M42.9973 587.989 Q38.1912 588.053 35.3266 590.695 Q32.4621 593.304 32.4621 597.633 Q32.4621 602.535 35.2312 605.495 Q38.0002 608.423 43.0292 608.869 L42.9973 587.989 Z\" fill=\"#000000\" fill-rule=\"evenodd\" fill-opacity=\"1\" /><path clip-path=\"url(#clip850)\" d=\"M46.212 569.019 Q52.6732 569.019 56.3653 566.378 Q60.0256 563.704 60.0256 559.057 Q60.0256 554.41 56.3653 551.736 Q52.6732 549.063 46.212 549.063 Q39.7508 549.063 36.0905 551.736 Q32.3984 554.41 32.3984 559.057 Q32.3984 563.704 36.0905 566.378 Q39.7508 569.019 46.212 569.019 M58.657 549.063 Q61.8398 550.909 63.3994 553.742 Q64.9272 556.542 64.9272 560.489 Q64.9272 566.95 59.771 571.024 Q54.6147 575.067 46.212 575.067 Q37.8093 575.067 32.6531 571.024 Q27.4968 566.95 27.4968 560.489 Q27.4968 556.542 29.0564 553.742 Q30.5842 550.909 33.7671 549.063 L28.3562 549.063 L28.3562 543.206 L77.5631 543.206 L77.5631 549.063 L58.657 549.063 Z\" fill=\"#000000\" fill-rule=\"evenodd\" fill-opacity=\"1\" /><path clip-path=\"url(#clip850)\" d=\"M49.9359 531.748 L28.3562 531.748 L28.3562 525.892 L49.7131 525.892 Q54.7739 525.892 57.3202 523.918 Q59.8346 521.945 59.8346 517.998 Q59.8346 513.256 56.8109 510.518 Q53.7872 507.749 48.5673 507.749 L28.3562 507.749 L28.3562 501.893 L64.0042 501.893 L64.0042 507.749 L58.5296 507.749 Q61.7762 509.882 63.3676 512.715 Q64.9272 515.516 64.9272 519.239 Q64.9272 525.382 61.1078 528.565 Q57.2883 531.748 49.9359 531.748 M27.4968 517.011 L27.4968 517.011 Z\" fill=\"#000000\" fill-rule=\"evenodd\" fill-opacity=\"1\" /><path clip-path=\"url(#clip850)\" d=\"M44.7161 459.338 L47.5806 459.338 L47.5806 486.265 Q53.6281 485.883 56.8109 482.637 Q59.9619 479.358 59.9619 473.534 Q59.9619 470.16 59.1344 467.009 Q58.3069 463.826 56.6518 460.707 L62.1899 460.707 Q63.5267 463.858 64.227 467.168 Q64.9272 470.478 64.9272 473.884 Q64.9272 482.414 59.9619 487.411 Q54.9967 492.376 46.5303 492.376 Q37.7774 492.376 32.6531 487.666 Q27.4968 482.923 27.4968 474.902 Q27.4968 467.709 32.1438 463.54 Q36.7589 459.338 44.7161 459.338 M42.9973 465.195 Q38.1912 465.258 35.3266 467.9 Q32.4621 470.51 32.4621 474.839 Q32.4621 479.74 35.2312 482.7 Q38.0002 485.629 43.0292 486.074 L42.9973 465.195 Z\" fill=\"#000000\" fill-rule=\"evenodd\" fill-opacity=\"1\" /><path clip-path=\"url(#clip850)\" d=\"M42.4881 420.094 L64.0042 420.094 L64.0042 425.95 L42.679 425.95 Q37.6183 425.95 35.1038 427.923 Q32.5894 429.897 32.5894 433.844 Q32.5894 438.586 35.6131 441.323 Q38.6368 444.06 43.8567 444.06 L64.0042 444.06 L64.0042 449.949 L28.3562 449.949 L28.3562 444.06 L33.8944 444.06 Q30.6797 441.96 29.0883 439.127 Q27.4968 436.262 27.4968 432.539 Q27.4968 426.396 31.3163 423.245 Q35.1038 420.094 42.4881 420.094 Z\" fill=\"#000000\" fill-rule=\"evenodd\" fill-opacity=\"1\" /><path clip-path=\"url(#clip850)\" d=\"M29.7248 382.759 L35.1993 382.759 Q33.8307 385.241 33.1623 387.756 Q32.4621 390.238 32.4621 392.785 Q32.4621 398.482 36.0905 401.633 Q39.6872 404.784 46.212 404.784 Q52.7369 404.784 56.3653 401.633 Q59.9619 398.482 59.9619 392.785 Q59.9619 390.238 59.2935 387.756 Q58.5933 385.241 57.2247 382.759 L62.6355 382.759 Q63.7814 385.21 64.3543 387.851 Q64.9272 390.461 64.9272 393.421 Q64.9272 401.474 59.8664 406.216 Q54.8057 410.959 46.212 410.959 Q37.491 410.959 32.4939 406.185 Q27.4968 401.378 27.4968 393.039 Q27.4968 390.334 28.0697 387.756 Q28.6108 385.178 29.7248 382.759 Z\" fill=\"#000000\" fill-rule=\"evenodd\" fill-opacity=\"1\" /><path clip-path=\"url(#clip850)\" d=\"M67.3143 357.741 Q73.68 360.224 75.6216 362.579 Q77.5631 364.935 77.5631 368.881 L77.5631 373.56 L72.6615 373.56 L72.6615 370.123 Q72.6615 367.704 71.5157 366.367 Q70.3699 365.03 66.1048 363.407 L63.4312 362.357 L28.3562 376.775 L28.3562 370.568 L56.238 359.428 L28.3562 348.288 L28.3562 342.082 L67.3143 357.741 Z\" fill=\"#000000\" fill-rule=\"evenodd\" fill-opacity=\"1\" /><path clip-path=\"url(#clip850)\" d=\"M14.5426 334.92 L14.5426 329.828 Q22.0542 325.054 29.2474 322.698 Q36.4406 320.311 43.5384 320.311 Q50.668 320.311 57.8931 322.698 Q65.1182 325.054 72.5979 329.828 L72.5979 334.92 Q65.3091 330.687 58.1159 328.618 Q50.8908 326.518 43.5384 326.518 Q36.186 326.518 29.0246 328.618 Q21.8632 330.687 14.5426 334.92 Z\" fill=\"#000000\" fill-rule=\"evenodd\" fill-opacity=\"1\" /><circle clip-path=\"url(#clip852)\" cx=\"263.091\" cy=\"1384.24\" r=\"14\" fill=\"#009af9\" fill-rule=\"evenodd\" fill-opacity=\"1\" stroke=\"#000000\" stroke-opacity=\"1\" stroke-width=\"3.2\"/>\n",
       "<circle clip-path=\"url(#clip852)\" cx=\"276.439\" cy=\"1285.54\" r=\"14\" fill=\"#009af9\" fill-rule=\"evenodd\" fill-opacity=\"1\" stroke=\"#000000\" stroke-opacity=\"1\" stroke-width=\"3.2\"/>\n",
       "<circle clip-path=\"url(#clip852)\" cx=\"289.786\" cy=\"1227.8\" r=\"14\" fill=\"#009af9\" fill-rule=\"evenodd\" fill-opacity=\"1\" stroke=\"#000000\" stroke-opacity=\"1\" stroke-width=\"3.2\"/>\n",
       "<circle clip-path=\"url(#clip852)\" cx=\"303.134\" cy=\"1186.83\" r=\"14\" fill=\"#009af9\" fill-rule=\"evenodd\" fill-opacity=\"1\" stroke=\"#000000\" stroke-opacity=\"1\" stroke-width=\"3.2\"/>\n",
       "<circle clip-path=\"url(#clip852)\" cx=\"316.481\" cy=\"1155.06\" r=\"14\" fill=\"#009af9\" fill-rule=\"evenodd\" fill-opacity=\"1\" stroke=\"#000000\" stroke-opacity=\"1\" stroke-width=\"3.2\"/>\n",
       "<circle clip-path=\"url(#clip852)\" cx=\"329.828\" cy=\"1129.1\" r=\"14\" fill=\"#009af9\" fill-rule=\"evenodd\" fill-opacity=\"1\" stroke=\"#000000\" stroke-opacity=\"1\" stroke-width=\"3.2\"/>\n",
       "<circle clip-path=\"url(#clip852)\" cx=\"343.176\" cy=\"1107.15\" r=\"14\" fill=\"#009af9\" fill-rule=\"evenodd\" fill-opacity=\"1\" stroke=\"#000000\" stroke-opacity=\"1\" stroke-width=\"3.2\"/>\n",
       "<circle clip-path=\"url(#clip852)\" cx=\"356.523\" cy=\"1088.13\" r=\"14\" fill=\"#009af9\" fill-rule=\"evenodd\" fill-opacity=\"1\" stroke=\"#000000\" stroke-opacity=\"1\" stroke-width=\"3.2\"/>\n",
       "<circle clip-path=\"url(#clip852)\" cx=\"369.87\" cy=\"1071.36\" r=\"14\" fill=\"#009af9\" fill-rule=\"evenodd\" fill-opacity=\"1\" stroke=\"#000000\" stroke-opacity=\"1\" stroke-width=\"3.2\"/>\n",
       "<circle clip-path=\"url(#clip852)\" cx=\"383.218\" cy=\"1056.36\" r=\"14\" fill=\"#009af9\" fill-rule=\"evenodd\" fill-opacity=\"1\" stroke=\"#000000\" stroke-opacity=\"1\" stroke-width=\"3.2\"/>\n",
       "<circle clip-path=\"url(#clip852)\" cx=\"396.565\" cy=\"1042.78\" r=\"14\" fill=\"#009af9\" fill-rule=\"evenodd\" fill-opacity=\"1\" stroke=\"#000000\" stroke-opacity=\"1\" stroke-width=\"3.2\"/>\n",
       "<circle clip-path=\"url(#clip852)\" cx=\"409.913\" cy=\"1030.39\" r=\"14\" fill=\"#009af9\" fill-rule=\"evenodd\" fill-opacity=\"1\" stroke=\"#000000\" stroke-opacity=\"1\" stroke-width=\"3.2\"/>\n",
       "<circle clip-path=\"url(#clip852)\" cx=\"423.26\" cy=\"1019\" r=\"14\" fill=\"#009af9\" fill-rule=\"evenodd\" fill-opacity=\"1\" stroke=\"#000000\" stroke-opacity=\"1\" stroke-width=\"3.2\"/>\n",
       "<circle clip-path=\"url(#clip852)\" cx=\"436.607\" cy=\"1008.44\" r=\"14\" fill=\"#009af9\" fill-rule=\"evenodd\" fill-opacity=\"1\" stroke=\"#000000\" stroke-opacity=\"1\" stroke-width=\"3.2\"/>\n",
       "<circle clip-path=\"url(#clip852)\" cx=\"449.955\" cy=\"998.619\" r=\"14\" fill=\"#009af9\" fill-rule=\"evenodd\" fill-opacity=\"1\" stroke=\"#000000\" stroke-opacity=\"1\" stroke-width=\"3.2\"/>\n",
       "<circle clip-path=\"url(#clip852)\" cx=\"463.302\" cy=\"989.429\" r=\"14\" fill=\"#009af9\" fill-rule=\"evenodd\" fill-opacity=\"1\" stroke=\"#000000\" stroke-opacity=\"1\" stroke-width=\"3.2\"/>\n",
       "<circle clip-path=\"url(#clip852)\" cx=\"476.649\" cy=\"980.796\" r=\"14\" fill=\"#009af9\" fill-rule=\"evenodd\" fill-opacity=\"1\" stroke=\"#000000\" stroke-opacity=\"1\" stroke-width=\"3.2\"/>\n",
       "<circle clip-path=\"url(#clip852)\" cx=\"489.997\" cy=\"972.657\" r=\"14\" fill=\"#009af9\" fill-rule=\"evenodd\" fill-opacity=\"1\" stroke=\"#000000\" stroke-opacity=\"1\" stroke-width=\"3.2\"/>\n",
       "<circle clip-path=\"url(#clip852)\" cx=\"503.344\" cy=\"964.958\" r=\"14\" fill=\"#009af9\" fill-rule=\"evenodd\" fill-opacity=\"1\" stroke=\"#000000\" stroke-opacity=\"1\" stroke-width=\"3.2\"/>\n",
       "<circle clip-path=\"url(#clip852)\" cx=\"516.692\" cy=\"957.654\" r=\"14\" fill=\"#009af9\" fill-rule=\"evenodd\" fill-opacity=\"1\" stroke=\"#000000\" stroke-opacity=\"1\" stroke-width=\"3.2\"/>\n",
       "<circle clip-path=\"url(#clip852)\" cx=\"530.039\" cy=\"950.706\" r=\"14\" fill=\"#009af9\" fill-rule=\"evenodd\" fill-opacity=\"1\" stroke=\"#000000\" stroke-opacity=\"1\" stroke-width=\"3.2\"/>\n",
       "<circle clip-path=\"url(#clip852)\" cx=\"543.386\" cy=\"944.082\" r=\"14\" fill=\"#009af9\" fill-rule=\"evenodd\" fill-opacity=\"1\" stroke=\"#000000\" stroke-opacity=\"1\" stroke-width=\"3.2\"/>\n",
       "<circle clip-path=\"url(#clip852)\" cx=\"556.734\" cy=\"937.752\" r=\"14\" fill=\"#009af9\" fill-rule=\"evenodd\" fill-opacity=\"1\" stroke=\"#000000\" stroke-opacity=\"1\" stroke-width=\"3.2\"/>\n",
       "<circle clip-path=\"url(#clip852)\" cx=\"570.081\" cy=\"931.691\" r=\"14\" fill=\"#009af9\" fill-rule=\"evenodd\" fill-opacity=\"1\" stroke=\"#000000\" stroke-opacity=\"1\" stroke-width=\"3.2\"/>\n",
       "<circle clip-path=\"url(#clip852)\" cx=\"583.428\" cy=\"925.878\" r=\"14\" fill=\"#009af9\" fill-rule=\"evenodd\" fill-opacity=\"1\" stroke=\"#000000\" stroke-opacity=\"1\" stroke-width=\"3.2\"/>\n",
       "<circle clip-path=\"url(#clip852)\" cx=\"596.776\" cy=\"920.294\" r=\"14\" fill=\"#009af9\" fill-rule=\"evenodd\" fill-opacity=\"1\" stroke=\"#000000\" stroke-opacity=\"1\" stroke-width=\"3.2\"/>\n",
       "<circle clip-path=\"url(#clip852)\" cx=\"610.123\" cy=\"914.919\" r=\"14\" fill=\"#009af9\" fill-rule=\"evenodd\" fill-opacity=\"1\" stroke=\"#000000\" stroke-opacity=\"1\" stroke-width=\"3.2\"/>\n",
       "<circle clip-path=\"url(#clip852)\" cx=\"623.471\" cy=\"909.741\" r=\"14\" fill=\"#009af9\" fill-rule=\"evenodd\" fill-opacity=\"1\" stroke=\"#000000\" stroke-opacity=\"1\" stroke-width=\"3.2\"/>\n",
       "<circle clip-path=\"url(#clip852)\" cx=\"636.818\" cy=\"904.744\" r=\"14\" fill=\"#009af9\" fill-rule=\"evenodd\" fill-opacity=\"1\" stroke=\"#000000\" stroke-opacity=\"1\" stroke-width=\"3.2\"/>\n",
       "<circle clip-path=\"url(#clip852)\" cx=\"650.165\" cy=\"899.916\" r=\"14\" fill=\"#009af9\" fill-rule=\"evenodd\" fill-opacity=\"1\" stroke=\"#000000\" stroke-opacity=\"1\" stroke-width=\"3.2\"/>\n",
       "<circle clip-path=\"url(#clip852)\" cx=\"663.513\" cy=\"895.247\" r=\"14\" fill=\"#009af9\" fill-rule=\"evenodd\" fill-opacity=\"1\" stroke=\"#000000\" stroke-opacity=\"1\" stroke-width=\"3.2\"/>\n",
       "<circle clip-path=\"url(#clip852)\" cx=\"676.86\" cy=\"890.726\" r=\"14\" fill=\"#009af9\" fill-rule=\"evenodd\" fill-opacity=\"1\" stroke=\"#000000\" stroke-opacity=\"1\" stroke-width=\"3.2\"/>\n",
       "<circle clip-path=\"url(#clip852)\" cx=\"690.207\" cy=\"886.344\" r=\"14\" fill=\"#009af9\" fill-rule=\"evenodd\" fill-opacity=\"1\" stroke=\"#000000\" stroke-opacity=\"1\" stroke-width=\"3.2\"/>\n",
       "<circle clip-path=\"url(#clip852)\" cx=\"703.555\" cy=\"882.093\" r=\"14\" fill=\"#009af9\" fill-rule=\"evenodd\" fill-opacity=\"1\" stroke=\"#000000\" stroke-opacity=\"1\" stroke-width=\"3.2\"/>\n",
       "<circle clip-path=\"url(#clip852)\" cx=\"716.902\" cy=\"877.966\" r=\"14\" fill=\"#009af9\" fill-rule=\"evenodd\" fill-opacity=\"1\" stroke=\"#000000\" stroke-opacity=\"1\" stroke-width=\"3.2\"/>\n",
       "<circle clip-path=\"url(#clip852)\" cx=\"730.249\" cy=\"873.954\" r=\"14\" fill=\"#009af9\" fill-rule=\"evenodd\" fill-opacity=\"1\" stroke=\"#000000\" stroke-opacity=\"1\" stroke-width=\"3.2\"/>\n",
       "<circle clip-path=\"url(#clip852)\" cx=\"743.597\" cy=\"870.053\" r=\"14\" fill=\"#009af9\" fill-rule=\"evenodd\" fill-opacity=\"1\" stroke=\"#000000\" stroke-opacity=\"1\" stroke-width=\"3.2\"/>\n",
       "<circle clip-path=\"url(#clip852)\" cx=\"756.944\" cy=\"866.255\" r=\"14\" fill=\"#009af9\" fill-rule=\"evenodd\" fill-opacity=\"1\" stroke=\"#000000\" stroke-opacity=\"1\" stroke-width=\"3.2\"/>\n",
       "<circle clip-path=\"url(#clip852)\" cx=\"770.292\" cy=\"862.556\" r=\"14\" fill=\"#009af9\" fill-rule=\"evenodd\" fill-opacity=\"1\" stroke=\"#000000\" stroke-opacity=\"1\" stroke-width=\"3.2\"/>\n",
       "<circle clip-path=\"url(#clip852)\" cx=\"783.639\" cy=\"858.951\" r=\"14\" fill=\"#009af9\" fill-rule=\"evenodd\" fill-opacity=\"1\" stroke=\"#000000\" stroke-opacity=\"1\" stroke-width=\"3.2\"/>\n",
       "<circle clip-path=\"url(#clip852)\" cx=\"796.986\" cy=\"855.435\" r=\"14\" fill=\"#009af9\" fill-rule=\"evenodd\" fill-opacity=\"1\" stroke=\"#000000\" stroke-opacity=\"1\" stroke-width=\"3.2\"/>\n",
       "<circle clip-path=\"url(#clip852)\" cx=\"810.334\" cy=\"852.004\" r=\"14\" fill=\"#009af9\" fill-rule=\"evenodd\" fill-opacity=\"1\" stroke=\"#000000\" stroke-opacity=\"1\" stroke-width=\"3.2\"/>\n",
       "<circle clip-path=\"url(#clip852)\" cx=\"823.681\" cy=\"848.653\" r=\"14\" fill=\"#009af9\" fill-rule=\"evenodd\" fill-opacity=\"1\" stroke=\"#000000\" stroke-opacity=\"1\" stroke-width=\"3.2\"/>\n",
       "<circle clip-path=\"url(#clip852)\" cx=\"837.028\" cy=\"845.379\" r=\"14\" fill=\"#009af9\" fill-rule=\"evenodd\" fill-opacity=\"1\" stroke=\"#000000\" stroke-opacity=\"1\" stroke-width=\"3.2\"/>\n",
       "<circle clip-path=\"url(#clip852)\" cx=\"850.376\" cy=\"842.179\" r=\"14\" fill=\"#009af9\" fill-rule=\"evenodd\" fill-opacity=\"1\" stroke=\"#000000\" stroke-opacity=\"1\" stroke-width=\"3.2\"/>\n",
       "<circle clip-path=\"url(#clip852)\" cx=\"863.723\" cy=\"839.049\" r=\"14\" fill=\"#009af9\" fill-rule=\"evenodd\" fill-opacity=\"1\" stroke=\"#000000\" stroke-opacity=\"1\" stroke-width=\"3.2\"/>\n",
       "<circle clip-path=\"url(#clip852)\" cx=\"877.071\" cy=\"835.987\" r=\"14\" fill=\"#009af9\" fill-rule=\"evenodd\" fill-opacity=\"1\" stroke=\"#000000\" stroke-opacity=\"1\" stroke-width=\"3.2\"/>\n",
       "<circle clip-path=\"url(#clip852)\" cx=\"890.418\" cy=\"832.989\" r=\"14\" fill=\"#009af9\" fill-rule=\"evenodd\" fill-opacity=\"1\" stroke=\"#000000\" stroke-opacity=\"1\" stroke-width=\"3.2\"/>\n",
       "<circle clip-path=\"url(#clip852)\" cx=\"903.765\" cy=\"830.053\" r=\"14\" fill=\"#009af9\" fill-rule=\"evenodd\" fill-opacity=\"1\" stroke=\"#000000\" stroke-opacity=\"1\" stroke-width=\"3.2\"/>\n",
       "<circle clip-path=\"url(#clip852)\" cx=\"917.113\" cy=\"827.176\" r=\"14\" fill=\"#009af9\" fill-rule=\"evenodd\" fill-opacity=\"1\" stroke=\"#000000\" stroke-opacity=\"1\" stroke-width=\"3.2\"/>\n",
       "<circle clip-path=\"url(#clip852)\" cx=\"930.46\" cy=\"824.356\" r=\"14\" fill=\"#009af9\" fill-rule=\"evenodd\" fill-opacity=\"1\" stroke=\"#000000\" stroke-opacity=\"1\" stroke-width=\"3.2\"/>\n",
       "<circle clip-path=\"url(#clip852)\" cx=\"943.807\" cy=\"821.591\" r=\"14\" fill=\"#009af9\" fill-rule=\"evenodd\" fill-opacity=\"1\" stroke=\"#000000\" stroke-opacity=\"1\" stroke-width=\"3.2\"/>\n",
       "<circle clip-path=\"url(#clip852)\" cx=\"957.155\" cy=\"818.879\" r=\"14\" fill=\"#009af9\" fill-rule=\"evenodd\" fill-opacity=\"1\" stroke=\"#000000\" stroke-opacity=\"1\" stroke-width=\"3.2\"/>\n",
       "<circle clip-path=\"url(#clip852)\" cx=\"970.502\" cy=\"816.217\" r=\"14\" fill=\"#009af9\" fill-rule=\"evenodd\" fill-opacity=\"1\" stroke=\"#000000\" stroke-opacity=\"1\" stroke-width=\"3.2\"/>\n",
       "<circle clip-path=\"url(#clip852)\" cx=\"983.85\" cy=\"813.604\" r=\"14\" fill=\"#009af9\" fill-rule=\"evenodd\" fill-opacity=\"1\" stroke=\"#000000\" stroke-opacity=\"1\" stroke-width=\"3.2\"/>\n",
       "<circle clip-path=\"url(#clip852)\" cx=\"997.197\" cy=\"811.038\" r=\"14\" fill=\"#009af9\" fill-rule=\"evenodd\" fill-opacity=\"1\" stroke=\"#000000\" stroke-opacity=\"1\" stroke-width=\"3.2\"/>\n",
       "<circle clip-path=\"url(#clip852)\" cx=\"1010.54\" cy=\"808.518\" r=\"14\" fill=\"#009af9\" fill-rule=\"evenodd\" fill-opacity=\"1\" stroke=\"#000000\" stroke-opacity=\"1\" stroke-width=\"3.2\"/>\n",
       "<circle clip-path=\"url(#clip852)\" cx=\"1023.89\" cy=\"806.041\" r=\"14\" fill=\"#009af9\" fill-rule=\"evenodd\" fill-opacity=\"1\" stroke=\"#000000\" stroke-opacity=\"1\" stroke-width=\"3.2\"/>\n",
       "<circle clip-path=\"url(#clip852)\" cx=\"1037.24\" cy=\"803.607\" r=\"14\" fill=\"#009af9\" fill-rule=\"evenodd\" fill-opacity=\"1\" stroke=\"#000000\" stroke-opacity=\"1\" stroke-width=\"3.2\"/>\n",
       "<circle clip-path=\"url(#clip852)\" cx=\"1050.59\" cy=\"801.214\" r=\"14\" fill=\"#009af9\" fill-rule=\"evenodd\" fill-opacity=\"1\" stroke=\"#000000\" stroke-opacity=\"1\" stroke-width=\"3.2\"/>\n",
       "<circle clip-path=\"url(#clip852)\" cx=\"1063.93\" cy=\"798.86\" r=\"14\" fill=\"#009af9\" fill-rule=\"evenodd\" fill-opacity=\"1\" stroke=\"#000000\" stroke-opacity=\"1\" stroke-width=\"3.2\"/>\n",
       "<circle clip-path=\"url(#clip852)\" cx=\"1077.28\" cy=\"796.545\" r=\"14\" fill=\"#009af9\" fill-rule=\"evenodd\" fill-opacity=\"1\" stroke=\"#000000\" stroke-opacity=\"1\" stroke-width=\"3.2\"/>\n",
       "<circle clip-path=\"url(#clip852)\" cx=\"1090.63\" cy=\"794.266\" r=\"14\" fill=\"#009af9\" fill-rule=\"evenodd\" fill-opacity=\"1\" stroke=\"#000000\" stroke-opacity=\"1\" stroke-width=\"3.2\"/>\n",
       "<circle clip-path=\"url(#clip852)\" cx=\"1103.98\" cy=\"792.024\" r=\"14\" fill=\"#009af9\" fill-rule=\"evenodd\" fill-opacity=\"1\" stroke=\"#000000\" stroke-opacity=\"1\" stroke-width=\"3.2\"/>\n",
       "<circle clip-path=\"url(#clip852)\" cx=\"1117.32\" cy=\"789.816\" r=\"14\" fill=\"#009af9\" fill-rule=\"evenodd\" fill-opacity=\"1\" stroke=\"#000000\" stroke-opacity=\"1\" stroke-width=\"3.2\"/>\n",
       "<circle clip-path=\"url(#clip852)\" cx=\"1130.67\" cy=\"787.642\" r=\"14\" fill=\"#009af9\" fill-rule=\"evenodd\" fill-opacity=\"1\" stroke=\"#000000\" stroke-opacity=\"1\" stroke-width=\"3.2\"/>\n",
       "<circle clip-path=\"url(#clip852)\" cx=\"1144.02\" cy=\"785.501\" r=\"14\" fill=\"#009af9\" fill-rule=\"evenodd\" fill-opacity=\"1\" stroke=\"#000000\" stroke-opacity=\"1\" stroke-width=\"3.2\"/>\n",
       "<circle clip-path=\"url(#clip852)\" cx=\"1157.37\" cy=\"783.391\" r=\"14\" fill=\"#009af9\" fill-rule=\"evenodd\" fill-opacity=\"1\" stroke=\"#000000\" stroke-opacity=\"1\" stroke-width=\"3.2\"/>\n",
       "<circle clip-path=\"url(#clip852)\" cx=\"1170.71\" cy=\"781.312\" r=\"14\" fill=\"#009af9\" fill-rule=\"evenodd\" fill-opacity=\"1\" stroke=\"#000000\" stroke-opacity=\"1\" stroke-width=\"3.2\"/>\n",
       "<circle clip-path=\"url(#clip852)\" cx=\"1184.06\" cy=\"779.263\" r=\"14\" fill=\"#009af9\" fill-rule=\"evenodd\" fill-opacity=\"1\" stroke=\"#000000\" stroke-opacity=\"1\" stroke-width=\"3.2\"/>\n",
       "<circle clip-path=\"url(#clip852)\" cx=\"1197.41\" cy=\"777.243\" r=\"14\" fill=\"#009af9\" fill-rule=\"evenodd\" fill-opacity=\"1\" stroke=\"#000000\" stroke-opacity=\"1\" stroke-width=\"3.2\"/>\n",
       "<circle clip-path=\"url(#clip852)\" cx=\"1210.75\" cy=\"773.288\" r=\"14\" fill=\"#009af9\" fill-rule=\"evenodd\" fill-opacity=\"1\" stroke=\"#000000\" stroke-opacity=\"1\" stroke-width=\"3.2\"/>\n",
       "<circle clip-path=\"url(#clip852)\" cx=\"1224.1\" cy=\"771.35\" r=\"14\" fill=\"#009af9\" fill-rule=\"evenodd\" fill-opacity=\"1\" stroke=\"#000000\" stroke-opacity=\"1\" stroke-width=\"3.2\"/>\n",
       "<circle clip-path=\"url(#clip852)\" cx=\"1237.45\" cy=\"769.439\" r=\"14\" fill=\"#009af9\" fill-rule=\"evenodd\" fill-opacity=\"1\" stroke=\"#000000\" stroke-opacity=\"1\" stroke-width=\"3.2\"/>\n",
       "<circle clip-path=\"url(#clip852)\" cx=\"1250.8\" cy=\"767.553\" r=\"14\" fill=\"#009af9\" fill-rule=\"evenodd\" fill-opacity=\"1\" stroke=\"#000000\" stroke-opacity=\"1\" stroke-width=\"3.2\"/>\n",
       "<circle clip-path=\"url(#clip852)\" cx=\"1264.14\" cy=\"765.691\" r=\"14\" fill=\"#009af9\" fill-rule=\"evenodd\" fill-opacity=\"1\" stroke=\"#000000\" stroke-opacity=\"1\" stroke-width=\"3.2\"/>\n",
       "<circle clip-path=\"url(#clip852)\" cx=\"1277.49\" cy=\"763.854\" r=\"14\" fill=\"#009af9\" fill-rule=\"evenodd\" fill-opacity=\"1\" stroke=\"#000000\" stroke-opacity=\"1\" stroke-width=\"3.2\"/>\n",
       "<circle clip-path=\"url(#clip852)\" cx=\"1290.84\" cy=\"762.04\" r=\"14\" fill=\"#009af9\" fill-rule=\"evenodd\" fill-opacity=\"1\" stroke=\"#000000\" stroke-opacity=\"1\" stroke-width=\"3.2\"/>\n",
       "<circle clip-path=\"url(#clip852)\" cx=\"1304.19\" cy=\"760.249\" r=\"14\" fill=\"#009af9\" fill-rule=\"evenodd\" fill-opacity=\"1\" stroke=\"#000000\" stroke-opacity=\"1\" stroke-width=\"3.2\"/>\n",
       "<circle clip-path=\"url(#clip852)\" cx=\"1317.53\" cy=\"758.48\" r=\"14\" fill=\"#009af9\" fill-rule=\"evenodd\" fill-opacity=\"1\" stroke=\"#000000\" stroke-opacity=\"1\" stroke-width=\"3.2\"/>\n",
       "<circle clip-path=\"url(#clip852)\" cx=\"1330.88\" cy=\"756.733\" r=\"14\" fill=\"#009af9\" fill-rule=\"evenodd\" fill-opacity=\"1\" stroke=\"#000000\" stroke-opacity=\"1\" stroke-width=\"3.2\"/>\n",
       "<circle clip-path=\"url(#clip852)\" cx=\"1344.23\" cy=\"753.301\" r=\"14\" fill=\"#009af9\" fill-rule=\"evenodd\" fill-opacity=\"1\" stroke=\"#000000\" stroke-opacity=\"1\" stroke-width=\"3.2\"/>\n",
       "<circle clip-path=\"url(#clip852)\" cx=\"1357.58\" cy=\"751.616\" r=\"14\" fill=\"#009af9\" fill-rule=\"evenodd\" fill-opacity=\"1\" stroke=\"#000000\" stroke-opacity=\"1\" stroke-width=\"3.2\"/>\n",
       "<circle clip-path=\"url(#clip852)\" cx=\"1370.92\" cy=\"748.304\" r=\"14\" fill=\"#009af9\" fill-rule=\"evenodd\" fill-opacity=\"1\" stroke=\"#000000\" stroke-opacity=\"1\" stroke-width=\"3.2\"/>\n",
       "<circle clip-path=\"url(#clip852)\" cx=\"1384.27\" cy=\"745.068\" r=\"14\" fill=\"#009af9\" fill-rule=\"evenodd\" fill-opacity=\"1\" stroke=\"#000000\" stroke-opacity=\"1\" stroke-width=\"3.2\"/>\n",
       "<circle clip-path=\"url(#clip852)\" cx=\"1397.62\" cy=\"740.347\" r=\"14\" fill=\"#009af9\" fill-rule=\"evenodd\" fill-opacity=\"1\" stroke=\"#000000\" stroke-opacity=\"1\" stroke-width=\"3.2\"/>\n",
       "<circle clip-path=\"url(#clip852)\" cx=\"1410.97\" cy=\"737.285\" r=\"14\" fill=\"#009af9\" fill-rule=\"evenodd\" fill-opacity=\"1\" stroke=\"#000000\" stroke-opacity=\"1\" stroke-width=\"3.2\"/>\n",
       "<circle clip-path=\"url(#clip852)\" cx=\"1424.31\" cy=\"732.811\" r=\"14\" fill=\"#009af9\" fill-rule=\"evenodd\" fill-opacity=\"1\" stroke=\"#000000\" stroke-opacity=\"1\" stroke-width=\"3.2\"/>\n",
       "<circle clip-path=\"url(#clip852)\" cx=\"1437.66\" cy=\"729.905\" r=\"14\" fill=\"#009af9\" fill-rule=\"evenodd\" fill-opacity=\"1\" stroke=\"#000000\" stroke-opacity=\"1\" stroke-width=\"3.2\"/>\n",
       "<circle clip-path=\"url(#clip852)\" cx=\"1451.01\" cy=\"728.474\" r=\"14\" fill=\"#009af9\" fill-rule=\"evenodd\" fill-opacity=\"1\" stroke=\"#000000\" stroke-opacity=\"1\" stroke-width=\"3.2\"/>\n",
       "<circle clip-path=\"url(#clip852)\" cx=\"1464.35\" cy=\"727.057\" r=\"14\" fill=\"#009af9\" fill-rule=\"evenodd\" fill-opacity=\"1\" stroke=\"#000000\" stroke-opacity=\"1\" stroke-width=\"3.2\"/>\n",
       "<circle clip-path=\"url(#clip852)\" cx=\"1477.7\" cy=\"722.889\" r=\"14\" fill=\"#009af9\" fill-rule=\"evenodd\" fill-opacity=\"1\" stroke=\"#000000\" stroke-opacity=\"1\" stroke-width=\"3.2\"/>\n",
       "<circle clip-path=\"url(#clip852)\" cx=\"1491.05\" cy=\"711.07\" r=\"14\" fill=\"#009af9\" fill-rule=\"evenodd\" fill-opacity=\"1\" stroke=\"#000000\" stroke-opacity=\"1\" stroke-width=\"3.2\"/>\n",
       "<circle clip-path=\"url(#clip852)\" cx=\"1504.4\" cy=\"709.816\" r=\"14\" fill=\"#009af9\" fill-rule=\"evenodd\" fill-opacity=\"1\" stroke=\"#000000\" stroke-opacity=\"1\" stroke-width=\"3.2\"/>\n",
       "<circle clip-path=\"url(#clip852)\" cx=\"1517.74\" cy=\"706.117\" r=\"14\" fill=\"#009af9\" fill-rule=\"evenodd\" fill-opacity=\"1\" stroke=\"#000000\" stroke-opacity=\"1\" stroke-width=\"3.2\"/>\n",
       "<circle clip-path=\"url(#clip852)\" cx=\"1531.09\" cy=\"88.5851\" r=\"14\" fill=\"#009af9\" fill-rule=\"evenodd\" fill-opacity=\"1\" stroke=\"#000000\" stroke-opacity=\"1\" stroke-width=\"3.2\"/>\n",
       "<circle clip-path=\"url(#clip852)\" cx=\"1544.44\" cy=\"88.426\" r=\"14\" fill=\"#009af9\" fill-rule=\"evenodd\" fill-opacity=\"1\" stroke=\"#000000\" stroke-opacity=\"1\" stroke-width=\"3.2\"/>\n",
       "<circle clip-path=\"url(#clip852)\" cx=\"1557.79\" cy=\"88.2353\" r=\"14\" fill=\"#009af9\" fill-rule=\"evenodd\" fill-opacity=\"1\" stroke=\"#000000\" stroke-opacity=\"1\" stroke-width=\"3.2\"/>\n",
       "<circle clip-path=\"url(#clip852)\" cx=\"1571.13\" cy=\"88.1876\" r=\"14\" fill=\"#009af9\" fill-rule=\"evenodd\" fill-opacity=\"1\" stroke=\"#000000\" stroke-opacity=\"1\" stroke-width=\"3.2\"/>\n",
       "<circle clip-path=\"url(#clip852)\" cx=\"1584.48\" cy=\"88.14\" r=\"14\" fill=\"#009af9\" fill-rule=\"evenodd\" fill-opacity=\"1\" stroke=\"#000000\" stroke-opacity=\"1\" stroke-width=\"3.2\"/>\n",
       "<circle clip-path=\"url(#clip852)\" cx=\"1597.83\" cy=\"87.9339\" r=\"14\" fill=\"#009af9\" fill-rule=\"evenodd\" fill-opacity=\"1\" stroke=\"#000000\" stroke-opacity=\"1\" stroke-width=\"3.2\"/>\n",
       "<circle clip-path=\"url(#clip852)\" cx=\"1611.18\" cy=\"87.918\" r=\"14\" fill=\"#009af9\" fill-rule=\"evenodd\" fill-opacity=\"1\" stroke=\"#000000\" stroke-opacity=\"1\" stroke-width=\"3.2\"/>\n",
       "<circle clip-path=\"url(#clip852)\" cx=\"1624.52\" cy=\"87.8863\" r=\"14\" fill=\"#009af9\" fill-rule=\"evenodd\" fill-opacity=\"1\" stroke=\"#000000\" stroke-opacity=\"1\" stroke-width=\"3.2\"/>\n",
       "<circle clip-path=\"url(#clip852)\" cx=\"1637.87\" cy=\"87.8547\" r=\"14\" fill=\"#009af9\" fill-rule=\"evenodd\" fill-opacity=\"1\" stroke=\"#000000\" stroke-opacity=\"1\" stroke-width=\"3.2\"/>\n",
       "<circle clip-path=\"url(#clip852)\" cx=\"1651.22\" cy=\"87.8388\" r=\"14\" fill=\"#009af9\" fill-rule=\"evenodd\" fill-opacity=\"1\" stroke=\"#000000\" stroke-opacity=\"1\" stroke-width=\"3.2\"/>\n",
       "<circle clip-path=\"url(#clip852)\" cx=\"1664.57\" cy=\"87.823\" r=\"14\" fill=\"#009af9\" fill-rule=\"evenodd\" fill-opacity=\"1\" stroke=\"#000000\" stroke-opacity=\"1\" stroke-width=\"3.2\"/>\n",
       "<circle clip-path=\"url(#clip852)\" cx=\"1677.91\" cy=\"87.8072\" r=\"14\" fill=\"#009af9\" fill-rule=\"evenodd\" fill-opacity=\"1\" stroke=\"#000000\" stroke-opacity=\"1\" stroke-width=\"3.2\"/>\n",
       "<circle clip-path=\"url(#clip852)\" cx=\"1691.26\" cy=\"87.7755\" r=\"14\" fill=\"#009af9\" fill-rule=\"evenodd\" fill-opacity=\"1\" stroke=\"#000000\" stroke-opacity=\"1\" stroke-width=\"3.2\"/>\n",
       "<circle clip-path=\"url(#clip852)\" cx=\"1704.61\" cy=\"87.7597\" r=\"14\" fill=\"#009af9\" fill-rule=\"evenodd\" fill-opacity=\"1\" stroke=\"#000000\" stroke-opacity=\"1\" stroke-width=\"3.2\"/>\n",
       "<circle clip-path=\"url(#clip852)\" cx=\"1717.95\" cy=\"87.7438\" r=\"14\" fill=\"#009af9\" fill-rule=\"evenodd\" fill-opacity=\"1\" stroke=\"#000000\" stroke-opacity=\"1\" stroke-width=\"3.2\"/>\n",
       "<circle clip-path=\"url(#clip852)\" cx=\"1731.3\" cy=\"87.7122\" r=\"14\" fill=\"#009af9\" fill-rule=\"evenodd\" fill-opacity=\"1\" stroke=\"#000000\" stroke-opacity=\"1\" stroke-width=\"3.2\"/>\n",
       "<circle clip-path=\"url(#clip852)\" cx=\"1744.65\" cy=\"87.6964\" r=\"14\" fill=\"#009af9\" fill-rule=\"evenodd\" fill-opacity=\"1\" stroke=\"#000000\" stroke-opacity=\"1\" stroke-width=\"3.2\"/>\n",
       "<circle clip-path=\"url(#clip852)\" cx=\"1758\" cy=\"87.6805\" r=\"14\" fill=\"#009af9\" fill-rule=\"evenodd\" fill-opacity=\"1\" stroke=\"#000000\" stroke-opacity=\"1\" stroke-width=\"3.2\"/>\n",
       "<circle clip-path=\"url(#clip852)\" cx=\"1771.34\" cy=\"87.6647\" r=\"14\" fill=\"#009af9\" fill-rule=\"evenodd\" fill-opacity=\"1\" stroke=\"#000000\" stroke-opacity=\"1\" stroke-width=\"3.2\"/>\n",
       "<circle clip-path=\"url(#clip852)\" cx=\"1784.69\" cy=\"87.6331\" r=\"14\" fill=\"#009af9\" fill-rule=\"evenodd\" fill-opacity=\"1\" stroke=\"#000000\" stroke-opacity=\"1\" stroke-width=\"3.2\"/>\n",
       "<circle clip-path=\"url(#clip852)\" cx=\"1798.04\" cy=\"87.6173\" r=\"14\" fill=\"#009af9\" fill-rule=\"evenodd\" fill-opacity=\"1\" stroke=\"#000000\" stroke-opacity=\"1\" stroke-width=\"3.2\"/>\n",
       "<circle clip-path=\"url(#clip852)\" cx=\"1811.39\" cy=\"87.5541\" r=\"14\" fill=\"#009af9\" fill-rule=\"evenodd\" fill-opacity=\"1\" stroke=\"#000000\" stroke-opacity=\"1\" stroke-width=\"3.2\"/>\n",
       "<circle clip-path=\"url(#clip852)\" cx=\"1824.73\" cy=\"87.5225\" r=\"14\" fill=\"#009af9\" fill-rule=\"evenodd\" fill-opacity=\"1\" stroke=\"#000000\" stroke-opacity=\"1\" stroke-width=\"3.2\"/>\n",
       "<circle clip-path=\"url(#clip852)\" cx=\"1838.08\" cy=\"87.5067\" r=\"14\" fill=\"#009af9\" fill-rule=\"evenodd\" fill-opacity=\"1\" stroke=\"#000000\" stroke-opacity=\"1\" stroke-width=\"3.2\"/>\n",
       "<circle clip-path=\"url(#clip852)\" cx=\"1851.43\" cy=\"87.4593\" r=\"14\" fill=\"#009af9\" fill-rule=\"evenodd\" fill-opacity=\"1\" stroke=\"#000000\" stroke-opacity=\"1\" stroke-width=\"3.2\"/>\n",
       "<circle clip-path=\"url(#clip852)\" cx=\"1864.78\" cy=\"87.4435\" r=\"14\" fill=\"#009af9\" fill-rule=\"evenodd\" fill-opacity=\"1\" stroke=\"#000000\" stroke-opacity=\"1\" stroke-width=\"3.2\"/>\n",
       "<circle clip-path=\"url(#clip852)\" cx=\"1878.12\" cy=\"87.4277\" r=\"14\" fill=\"#009af9\" fill-rule=\"evenodd\" fill-opacity=\"1\" stroke=\"#000000\" stroke-opacity=\"1\" stroke-width=\"3.2\"/>\n",
       "<circle clip-path=\"url(#clip852)\" cx=\"1891.47\" cy=\"87.4119\" r=\"14\" fill=\"#009af9\" fill-rule=\"evenodd\" fill-opacity=\"1\" stroke=\"#000000\" stroke-opacity=\"1\" stroke-width=\"3.2\"/>\n",
       "<circle clip-path=\"url(#clip852)\" cx=\"1904.82\" cy=\"87.3961\" r=\"14\" fill=\"#009af9\" fill-rule=\"evenodd\" fill-opacity=\"1\" stroke=\"#000000\" stroke-opacity=\"1\" stroke-width=\"3.2\"/>\n",
       "<circle clip-path=\"url(#clip852)\" cx=\"1918.17\" cy=\"87.3803\" r=\"14\" fill=\"#009af9\" fill-rule=\"evenodd\" fill-opacity=\"1\" stroke=\"#000000\" stroke-opacity=\"1\" stroke-width=\"3.2\"/>\n",
       "<circle clip-path=\"url(#clip852)\" cx=\"1931.51\" cy=\"87.3645\" r=\"14\" fill=\"#009af9\" fill-rule=\"evenodd\" fill-opacity=\"1\" stroke=\"#000000\" stroke-opacity=\"1\" stroke-width=\"3.2\"/>\n",
       "<circle clip-path=\"url(#clip852)\" cx=\"1944.86\" cy=\"87.333\" r=\"14\" fill=\"#009af9\" fill-rule=\"evenodd\" fill-opacity=\"1\" stroke=\"#000000\" stroke-opacity=\"1\" stroke-width=\"3.2\"/>\n",
       "<circle clip-path=\"url(#clip852)\" cx=\"1958.21\" cy=\"87.3172\" r=\"14\" fill=\"#009af9\" fill-rule=\"evenodd\" fill-opacity=\"1\" stroke=\"#000000\" stroke-opacity=\"1\" stroke-width=\"3.2\"/>\n",
       "<circle clip-path=\"url(#clip852)\" cx=\"1971.55\" cy=\"87.3014\" r=\"14\" fill=\"#009af9\" fill-rule=\"evenodd\" fill-opacity=\"1\" stroke=\"#000000\" stroke-opacity=\"1\" stroke-width=\"3.2\"/>\n",
       "<circle clip-path=\"url(#clip852)\" cx=\"1984.9\" cy=\"87.2856\" r=\"14\" fill=\"#009af9\" fill-rule=\"evenodd\" fill-opacity=\"1\" stroke=\"#000000\" stroke-opacity=\"1\" stroke-width=\"3.2\"/>\n",
       "<circle clip-path=\"url(#clip852)\" cx=\"1998.25\" cy=\"87.2541\" r=\"14\" fill=\"#009af9\" fill-rule=\"evenodd\" fill-opacity=\"1\" stroke=\"#000000\" stroke-opacity=\"1\" stroke-width=\"3.2\"/>\n",
       "<circle clip-path=\"url(#clip852)\" cx=\"2011.6\" cy=\"87.2383\" r=\"14\" fill=\"#009af9\" fill-rule=\"evenodd\" fill-opacity=\"1\" stroke=\"#000000\" stroke-opacity=\"1\" stroke-width=\"3.2\"/>\n",
       "<circle clip-path=\"url(#clip852)\" cx=\"2024.94\" cy=\"87.2226\" r=\"14\" fill=\"#009af9\" fill-rule=\"evenodd\" fill-opacity=\"1\" stroke=\"#000000\" stroke-opacity=\"1\" stroke-width=\"3.2\"/>\n",
       "<circle clip-path=\"url(#clip852)\" cx=\"2038.29\" cy=\"87.2068\" r=\"14\" fill=\"#009af9\" fill-rule=\"evenodd\" fill-opacity=\"1\" stroke=\"#000000\" stroke-opacity=\"1\" stroke-width=\"3.2\"/>\n",
       "<circle clip-path=\"url(#clip852)\" cx=\"2051.64\" cy=\"87.1595\" r=\"14\" fill=\"#009af9\" fill-rule=\"evenodd\" fill-opacity=\"1\" stroke=\"#000000\" stroke-opacity=\"1\" stroke-width=\"3.2\"/>\n",
       "<circle clip-path=\"url(#clip852)\" cx=\"2064.99\" cy=\"87.1437\" r=\"14\" fill=\"#009af9\" fill-rule=\"evenodd\" fill-opacity=\"1\" stroke=\"#000000\" stroke-opacity=\"1\" stroke-width=\"3.2\"/>\n",
       "<circle clip-path=\"url(#clip852)\" cx=\"2078.33\" cy=\"87.128\" r=\"14\" fill=\"#009af9\" fill-rule=\"evenodd\" fill-opacity=\"1\" stroke=\"#000000\" stroke-opacity=\"1\" stroke-width=\"3.2\"/>\n",
       "<circle clip-path=\"url(#clip852)\" cx=\"2091.68\" cy=\"87.0965\" r=\"14\" fill=\"#009af9\" fill-rule=\"evenodd\" fill-opacity=\"1\" stroke=\"#000000\" stroke-opacity=\"1\" stroke-width=\"3.2\"/>\n",
       "<circle clip-path=\"url(#clip852)\" cx=\"2105.03\" cy=\"87.0807\" r=\"14\" fill=\"#009af9\" fill-rule=\"evenodd\" fill-opacity=\"1\" stroke=\"#000000\" stroke-opacity=\"1\" stroke-width=\"3.2\"/>\n",
       "<circle clip-path=\"url(#clip852)\" cx=\"2118.38\" cy=\"87.0492\" r=\"14\" fill=\"#009af9\" fill-rule=\"evenodd\" fill-opacity=\"1\" stroke=\"#000000\" stroke-opacity=\"1\" stroke-width=\"3.2\"/>\n",
       "<circle clip-path=\"url(#clip852)\" cx=\"2131.72\" cy=\"87.0335\" r=\"14\" fill=\"#009af9\" fill-rule=\"evenodd\" fill-opacity=\"1\" stroke=\"#000000\" stroke-opacity=\"1\" stroke-width=\"3.2\"/>\n",
       "<circle clip-path=\"url(#clip852)\" cx=\"2145.07\" cy=\"87.0177\" r=\"14\" fill=\"#009af9\" fill-rule=\"evenodd\" fill-opacity=\"1\" stroke=\"#000000\" stroke-opacity=\"1\" stroke-width=\"3.2\"/>\n",
       "<circle clip-path=\"url(#clip852)\" cx=\"2158.42\" cy=\"87.002\" r=\"14\" fill=\"#009af9\" fill-rule=\"evenodd\" fill-opacity=\"1\" stroke=\"#000000\" stroke-opacity=\"1\" stroke-width=\"3.2\"/>\n",
       "<circle clip-path=\"url(#clip852)\" cx=\"2171.77\" cy=\"86.9548\" r=\"14\" fill=\"#009af9\" fill-rule=\"evenodd\" fill-opacity=\"1\" stroke=\"#000000\" stroke-opacity=\"1\" stroke-width=\"3.2\"/>\n",
       "<circle clip-path=\"url(#clip852)\" cx=\"2185.11\" cy=\"86.9075\" r=\"14\" fill=\"#009af9\" fill-rule=\"evenodd\" fill-opacity=\"1\" stroke=\"#000000\" stroke-opacity=\"1\" stroke-width=\"3.2\"/>\n",
       "<circle clip-path=\"url(#clip852)\" cx=\"2198.46\" cy=\"86.8446\" r=\"14\" fill=\"#009af9\" fill-rule=\"evenodd\" fill-opacity=\"1\" stroke=\"#000000\" stroke-opacity=\"1\" stroke-width=\"3.2\"/>\n",
       "<circle clip-path=\"url(#clip852)\" cx=\"2211.81\" cy=\"86.766\" r=\"14\" fill=\"#009af9\" fill-rule=\"evenodd\" fill-opacity=\"1\" stroke=\"#000000\" stroke-opacity=\"1\" stroke-width=\"3.2\"/>\n",
       "<circle clip-path=\"url(#clip852)\" cx=\"2225.16\" cy=\"86.656\" r=\"14\" fill=\"#009af9\" fill-rule=\"evenodd\" fill-opacity=\"1\" stroke=\"#000000\" stroke-opacity=\"1\" stroke-width=\"3.2\"/>\n",
       "<circle clip-path=\"url(#clip852)\" cx=\"2238.5\" cy=\"86.5932\" r=\"14\" fill=\"#009af9\" fill-rule=\"evenodd\" fill-opacity=\"1\" stroke=\"#000000\" stroke-opacity=\"1\" stroke-width=\"3.2\"/>\n",
       "<circle clip-path=\"url(#clip852)\" cx=\"2251.85\" cy=\"86.5462\" r=\"14\" fill=\"#009af9\" fill-rule=\"evenodd\" fill-opacity=\"1\" stroke=\"#000000\" stroke-opacity=\"1\" stroke-width=\"3.2\"/>\n",
       "<circle clip-path=\"url(#clip852)\" cx=\"2265.2\" cy=\"86.4207\" r=\"14\" fill=\"#009af9\" fill-rule=\"evenodd\" fill-opacity=\"1\" stroke=\"#000000\" stroke-opacity=\"1\" stroke-width=\"3.2\"/>\n",
       "<circle clip-path=\"url(#clip852)\" cx=\"2278.54\" cy=\"86.3893\" r=\"14\" fill=\"#009af9\" fill-rule=\"evenodd\" fill-opacity=\"1\" stroke=\"#000000\" stroke-opacity=\"1\" stroke-width=\"3.2\"/>\n",
       "<circle clip-path=\"url(#clip852)\" cx=\"2291.89\" cy=\"86.1857\" r=\"14\" fill=\"#009af9\" fill-rule=\"evenodd\" fill-opacity=\"1\" stroke=\"#000000\" stroke-opacity=\"1\" stroke-width=\"3.2\"/>\n",
       "<polyline clip-path=\"url(#clip852)\" style=\"stroke:#e26f46; stroke-linecap:butt; stroke-linejoin:round; stroke-width:4; stroke-opacity:1; fill:none\" points=\"\n",
       "  -1948.3,703.703 4503.28,703.703 \n",
       "  \"/>\n",
       "</svg>\n"
      ]
     },
     "execution_count": 243,
     "metadata": {},
     "output_type": "execute_result"
    }
   ],
   "source": [
    "p = StatsPlots.scatter(log2.(first.(kmer_counts_histogram)), legend=false, xlabel = \"sorted index\", ylabel=\"log2(observed frequency)\")\n",
    "StatsPlots.hline!(p, log2.([threshold]))"
   ]
  },
  {
   "cell_type": "code",
   "execution_count": 244,
   "id": "72c66702-1c18-4541-a642-64f1c69ad4cb",
   "metadata": {},
   "outputs": [
    {
     "name": "stderr",
     "output_type": "stream",
     "text": [
      "┌ Info: counting kmers\n",
      "└ @ Mycelia /home/jovyan/git/Mycelia/src/Mycelia.jl:2999\n",
      "┌ Info: setting metadata on vertices\n",
      "└ @ Mycelia /home/jovyan/git/Mycelia/src/Mycelia.jl:3009\n",
      "┌ Info: loading fastx files into graph\n",
      "└ @ Mycelia /home/jovyan/git/Mycelia/src/Mycelia.jl:3018\n",
      "\u001b[32mProgress: 100%|█████████████████████████████████████████| Time: 0:00:04\u001b[39m\n"
     ]
    },
    {
     "name": "stdout",
     "output_type": "stream",
     "text": [
      "  4.677011 seconds (21.89 M allocations: 2.167 GiB, 20.67% gc time)\n"
     ]
    },
    {
     "data": {
      "text/plain": [
       "{90, 178} directed Int64 metagraph with Float64 weights defined by :weight (default weight 1.0)"
      ]
     },
     "execution_count": 244,
     "metadata": {},
     "output_type": "execute_result"
    }
   ],
   "source": [
    "# make me faster by counting edges ahead of time\n",
    "@time observation_graph = Mycelia.fastx_to_simple_kmer_graph(BioSequences.DNAMer{k}, observations_file, minimum_coverage=threshold)"
   ]
  },
  {
   "cell_type": "code",
   "execution_count": 245,
   "id": "f9b79057-1175-4165-82dd-0fde3c385af0",
   "metadata": {},
   "outputs": [
    {
     "data": {
      "image/svg+xml": [
       "<?xml version=\"1.0\" encoding=\"utf-8\"?>\n",
       "<svg xmlns=\"http://www.w3.org/2000/svg\" xmlns:xlink=\"http://www.w3.org/1999/xlink\" width=\"500\" height=\"250\" viewBox=\"0 0 2000 1000\">\n",
       "<defs>\n",
       "  <clipPath id=\"clip890\">\n",
       "    <rect x=\"0\" y=\"0\" width=\"2000\" height=\"1000\"/>\n",
       "  </clipPath>\n",
       "</defs>\n",
       "<path clip-path=\"url(#clip890)\" d=\"\n",
       "M0 1000 L2000 1000 L2000 0 L0 0  Z\n",
       "  \" fill=\"#ffffff\" fill-rule=\"evenodd\" fill-opacity=\"1\"/>\n",
       "<defs>\n",
       "  <clipPath id=\"clip891\">\n",
       "    <rect x=\"400\" y=\"0\" width=\"1401\" height=\"1000\"/>\n",
       "  </clipPath>\n",
       "</defs>\n",
       "<path clip-path=\"url(#clip890)\" d=\"\n",
       "M203.5 849.7 L1952.76 849.7 L1952.76 108.352 L203.5 108.352  Z\n",
       "  \" fill=\"#ffffff\" fill-rule=\"evenodd\" fill-opacity=\"1\"/>\n",
       "<defs>\n",
       "  <clipPath id=\"clip892\">\n",
       "    <rect x=\"203\" y=\"108\" width=\"1750\" height=\"742\"/>\n",
       "  </clipPath>\n",
       "</defs>\n",
       "<polyline clip-path=\"url(#clip892)\" style=\"stroke:#000000; stroke-linecap:butt; stroke-linejoin:round; stroke-width:2; stroke-opacity:0.1; fill:none\" points=\"\n",
       "  203.5,849.7 203.5,108.352 \n",
       "  \"/>\n",
       "<polyline clip-path=\"url(#clip892)\" style=\"stroke:#000000; stroke-linecap:butt; stroke-linejoin:round; stroke-width:2; stroke-opacity:0.1; fill:none\" points=\"\n",
       "  635.812,849.7 635.812,108.352 \n",
       "  \"/>\n",
       "<polyline clip-path=\"url(#clip892)\" style=\"stroke:#000000; stroke-linecap:butt; stroke-linejoin:round; stroke-width:2; stroke-opacity:0.1; fill:none\" points=\"\n",
       "  1068.12,849.7 1068.12,108.352 \n",
       "  \"/>\n",
       "<polyline clip-path=\"url(#clip892)\" style=\"stroke:#000000; stroke-linecap:butt; stroke-linejoin:round; stroke-width:2; stroke-opacity:0.1; fill:none\" points=\"\n",
       "  1500.44,849.7 1500.44,108.352 \n",
       "  \"/>\n",
       "<polyline clip-path=\"url(#clip892)\" style=\"stroke:#000000; stroke-linecap:butt; stroke-linejoin:round; stroke-width:2; stroke-opacity:0.1; fill:none\" points=\"\n",
       "  1932.75,849.7 1932.75,108.352 \n",
       "  \"/>\n",
       "<polyline clip-path=\"url(#clip890)\" style=\"stroke:#000000; stroke-linecap:butt; stroke-linejoin:round; stroke-width:4; stroke-opacity:1; fill:none\" points=\"\n",
       "  203.5,849.7 1952.76,849.7 \n",
       "  \"/>\n",
       "<polyline clip-path=\"url(#clip890)\" style=\"stroke:#000000; stroke-linecap:butt; stroke-linejoin:round; stroke-width:4; stroke-opacity:1; fill:none\" points=\"\n",
       "  203.5,849.7 203.5,830.802 \n",
       "  \"/>\n",
       "<polyline clip-path=\"url(#clip890)\" style=\"stroke:#000000; stroke-linecap:butt; stroke-linejoin:round; stroke-width:4; stroke-opacity:1; fill:none\" points=\"\n",
       "  635.812,849.7 635.812,830.802 \n",
       "  \"/>\n",
       "<polyline clip-path=\"url(#clip890)\" style=\"stroke:#000000; stroke-linecap:butt; stroke-linejoin:round; stroke-width:4; stroke-opacity:1; fill:none\" points=\"\n",
       "  1068.12,849.7 1068.12,830.802 \n",
       "  \"/>\n",
       "<polyline clip-path=\"url(#clip890)\" style=\"stroke:#000000; stroke-linecap:butt; stroke-linejoin:round; stroke-width:4; stroke-opacity:1; fill:none\" points=\"\n",
       "  1500.44,849.7 1500.44,830.802 \n",
       "  \"/>\n",
       "<polyline clip-path=\"url(#clip890)\" style=\"stroke:#000000; stroke-linecap:butt; stroke-linejoin:round; stroke-width:4; stroke-opacity:1; fill:none\" points=\"\n",
       "  1932.75,849.7 1932.75,830.802 \n",
       "  \"/>\n",
       "<path clip-path=\"url(#clip890)\" d=\"M180.885 875.691 Q177.273 875.691 175.445 879.255 Q173.639 882.797 173.639 889.927 Q173.639 897.033 175.445 900.598 Q177.273 904.139 180.885 904.139 Q184.519 904.139 186.324 900.598 Q188.153 897.033 188.153 889.927 Q188.153 882.797 186.324 879.255 Q184.519 875.691 180.885 875.691 M180.885 871.987 Q186.695 871.987 189.75 876.593 Q192.829 881.177 192.829 889.927 Q192.829 898.653 189.75 903.26 Q186.695 907.843 180.885 907.843 Q175.074 907.843 171.996 903.26 Q168.94 898.653 168.94 889.927 Q168.94 881.177 171.996 876.593 Q175.074 871.987 180.885 871.987 Z\" fill=\"#000000\" fill-rule=\"evenodd\" fill-opacity=\"1\" /><path clip-path=\"url(#clip890)\" d=\"M201.046 901.292 L205.931 901.292 L205.931 907.172 L201.046 907.172 L201.046 901.292 Z\" fill=\"#000000\" fill-rule=\"evenodd\" fill-opacity=\"1\" /><path clip-path=\"url(#clip890)\" d=\"M226.116 875.691 Q222.505 875.691 220.676 879.255 Q218.87 882.797 218.87 889.927 Q218.87 897.033 220.676 900.598 Q222.505 904.139 226.116 904.139 Q229.75 904.139 231.556 900.598 Q233.384 897.033 233.384 889.927 Q233.384 882.797 231.556 879.255 Q229.75 875.691 226.116 875.691 M226.116 871.987 Q231.926 871.987 234.981 876.593 Q238.06 881.177 238.06 889.927 Q238.06 898.653 234.981 903.26 Q231.926 907.843 226.116 907.843 Q220.306 907.843 217.227 903.26 Q214.171 898.653 214.171 889.927 Q214.171 881.177 217.227 876.593 Q220.306 871.987 226.116 871.987 Z\" fill=\"#000000\" fill-rule=\"evenodd\" fill-opacity=\"1\" /><path clip-path=\"url(#clip890)\" d=\"M607.549 903.237 L623.868 903.237 L623.868 907.172 L601.924 907.172 L601.924 903.237 Q604.586 900.482 609.169 895.852 Q613.775 891.2 614.956 889.857 Q617.201 887.334 618.081 885.598 Q618.984 883.839 618.984 882.149 Q618.984 879.394 617.039 877.658 Q615.118 875.922 612.016 875.922 Q609.817 875.922 607.363 876.686 Q604.933 877.45 602.155 879.001 L602.155 874.279 Q604.979 873.144 607.433 872.566 Q609.886 871.987 611.923 871.987 Q617.294 871.987 620.488 874.672 Q623.683 877.357 623.683 881.848 Q623.683 883.978 622.872 885.899 Q622.085 887.797 619.979 890.39 Q619.4 891.061 616.298 894.278 Q613.197 897.473 607.549 903.237 Z\" fill=\"#000000\" fill-rule=\"evenodd\" fill-opacity=\"1\" /><path clip-path=\"url(#clip890)\" d=\"M633.683 901.292 L638.567 901.292 L638.567 907.172 L633.683 907.172 L633.683 901.292 Z\" fill=\"#000000\" fill-rule=\"evenodd\" fill-opacity=\"1\" /><path clip-path=\"url(#clip890)\" d=\"M648.798 872.612 L667.155 872.612 L667.155 876.547 L653.081 876.547 L653.081 885.019 Q654.099 884.672 655.118 884.51 Q656.136 884.325 657.155 884.325 Q662.942 884.325 666.321 887.496 Q669.701 890.667 669.701 896.084 Q669.701 901.663 666.229 904.764 Q662.757 907.843 656.437 907.843 Q654.261 907.843 651.993 907.473 Q649.747 907.102 647.34 906.362 L647.34 901.663 Q649.423 902.797 651.645 903.352 Q653.868 903.908 656.345 903.908 Q660.349 903.908 662.687 901.802 Q665.025 899.695 665.025 896.084 Q665.025 892.473 662.687 890.366 Q660.349 888.26 656.345 888.26 Q654.47 888.26 652.595 888.677 Q650.743 889.093 648.798 889.973 L648.798 872.612 Z\" fill=\"#000000\" fill-rule=\"evenodd\" fill-opacity=\"1\" /><path clip-path=\"url(#clip890)\" d=\"M1035.29 872.612 L1053.65 872.612 L1053.65 876.547 L1039.57 876.547 L1039.57 885.019 Q1040.59 884.672 1041.61 884.51 Q1042.63 884.325 1043.65 884.325 Q1049.43 884.325 1052.81 887.496 Q1056.19 890.667 1056.19 896.084 Q1056.19 901.663 1052.72 904.764 Q1049.25 907.843 1042.93 907.843 Q1040.75 907.843 1038.48 907.473 Q1036.24 907.102 1033.83 906.362 L1033.83 901.663 Q1035.91 902.797 1038.14 903.352 Q1040.36 903.908 1042.84 903.908 Q1046.84 903.908 1049.18 901.802 Q1051.52 899.695 1051.52 896.084 Q1051.52 892.473 1049.18 890.366 Q1046.84 888.26 1042.84 888.26 Q1040.96 888.26 1039.09 888.677 Q1037.23 889.093 1035.29 889.973 L1035.29 872.612 Z\" fill=\"#000000\" fill-rule=\"evenodd\" fill-opacity=\"1\" /><path clip-path=\"url(#clip890)\" d=\"M1065.4 901.292 L1070.29 901.292 L1070.29 907.172 L1065.4 907.172 L1065.4 901.292 Z\" fill=\"#000000\" fill-rule=\"evenodd\" fill-opacity=\"1\" /><path clip-path=\"url(#clip890)\" d=\"M1090.47 875.691 Q1086.86 875.691 1085.03 879.255 Q1083.23 882.797 1083.23 889.927 Q1083.23 897.033 1085.03 900.598 Q1086.86 904.139 1090.47 904.139 Q1094.11 904.139 1095.91 900.598 Q1097.74 897.033 1097.74 889.927 Q1097.74 882.797 1095.91 879.255 Q1094.11 875.691 1090.47 875.691 M1090.47 871.987 Q1096.28 871.987 1099.34 876.593 Q1102.42 881.177 1102.42 889.927 Q1102.42 898.653 1099.34 903.26 Q1096.28 907.843 1090.47 907.843 Q1084.66 907.843 1081.58 903.26 Q1078.53 898.653 1078.53 889.927 Q1078.53 881.177 1081.58 876.593 Q1084.66 871.987 1090.47 871.987 Z\" fill=\"#000000\" fill-rule=\"evenodd\" fill-opacity=\"1\" /><path clip-path=\"url(#clip890)\" d=\"M1466.76 872.612 L1488.98 872.612 L1488.98 874.603 L1476.43 907.172 L1471.55 907.172 L1483.35 876.547 L1466.76 876.547 L1466.76 872.612 Z\" fill=\"#000000\" fill-rule=\"evenodd\" fill-opacity=\"1\" /><path clip-path=\"url(#clip890)\" d=\"M1498.1 901.292 L1502.98 901.292 L1502.98 907.172 L1498.1 907.172 L1498.1 901.292 Z\" fill=\"#000000\" fill-rule=\"evenodd\" fill-opacity=\"1\" /><path clip-path=\"url(#clip890)\" d=\"M1513.21 872.612 L1531.57 872.612 L1531.57 876.547 L1517.5 876.547 L1517.5 885.019 Q1518.52 884.672 1519.53 884.51 Q1520.55 884.325 1521.57 884.325 Q1527.36 884.325 1530.74 887.496 Q1534.12 890.667 1534.12 896.084 Q1534.12 901.663 1530.64 904.764 Q1527.17 907.843 1520.85 907.843 Q1518.68 907.843 1516.41 907.473 Q1514.16 907.102 1511.76 906.362 L1511.76 901.663 Q1513.84 902.797 1516.06 903.352 Q1518.28 903.908 1520.76 903.908 Q1524.76 903.908 1527.1 901.802 Q1529.44 899.695 1529.44 896.084 Q1529.44 892.473 1527.1 890.366 Q1524.76 888.26 1520.76 888.26 Q1518.89 888.26 1517.01 888.677 Q1515.16 889.093 1513.21 889.973 L1513.21 872.612 Z\" fill=\"#000000\" fill-rule=\"evenodd\" fill-opacity=\"1\" /><path clip-path=\"url(#clip890)\" d=\"M1884.82 903.237 L1892.46 903.237 L1892.46 876.871 L1884.15 878.538 L1884.15 874.279 L1892.41 872.612 L1897.09 872.612 L1897.09 903.237 L1904.73 903.237 L1904.73 907.172 L1884.82 907.172 L1884.82 903.237 Z\" fill=\"#000000\" fill-rule=\"evenodd\" fill-opacity=\"1\" /><path clip-path=\"url(#clip890)\" d=\"M1924.17 875.691 Q1920.56 875.691 1918.73 879.255 Q1916.93 882.797 1916.93 889.927 Q1916.93 897.033 1918.73 900.598 Q1920.56 904.139 1924.17 904.139 Q1927.81 904.139 1929.61 900.598 Q1931.44 897.033 1931.44 889.927 Q1931.44 882.797 1929.61 879.255 Q1927.81 875.691 1924.17 875.691 M1924.17 871.987 Q1929.98 871.987 1933.04 876.593 Q1936.12 881.177 1936.12 889.927 Q1936.12 898.653 1933.04 903.26 Q1929.98 907.843 1924.17 907.843 Q1918.36 907.843 1915.28 903.26 Q1912.23 898.653 1912.23 889.927 Q1912.23 881.177 1915.28 876.593 Q1918.36 871.987 1924.17 871.987 Z\" fill=\"#000000\" fill-rule=\"evenodd\" fill-opacity=\"1\" /><path clip-path=\"url(#clip890)\" d=\"M1944.33 901.292 L1949.22 901.292 L1949.22 907.172 L1944.33 907.172 L1944.33 901.292 Z\" fill=\"#000000\" fill-rule=\"evenodd\" fill-opacity=\"1\" /><path clip-path=\"url(#clip890)\" d=\"M1969.4 875.691 Q1965.79 875.691 1963.96 879.255 Q1962.16 882.797 1962.16 889.927 Q1962.16 897.033 1963.96 900.598 Q1965.79 904.139 1969.4 904.139 Q1973.04 904.139 1974.84 900.598 Q1976.67 897.033 1976.67 889.927 Q1976.67 882.797 1974.84 879.255 Q1973.04 875.691 1969.4 875.691 M1969.4 871.987 Q1975.21 871.987 1978.27 876.593 Q1981.35 881.177 1981.35 889.927 Q1981.35 898.653 1978.27 903.26 Q1975.21 907.843 1969.4 907.843 Q1963.59 907.843 1960.51 903.26 Q1957.46 898.653 1957.46 889.927 Q1957.46 881.177 1960.51 876.593 Q1963.59 871.987 1969.4 871.987 Z\" fill=\"#000000\" fill-rule=\"evenodd\" fill-opacity=\"1\" /><path clip-path=\"url(#clip890)\" d=\"M683.963 939.039 L689.82 939.039 L689.82 988.564 L683.963 988.564 L683.963 939.039 Z\" fill=\"#000000\" fill-rule=\"evenodd\" fill-opacity=\"1\" /><path clip-path=\"url(#clip890)\" d=\"M715.887 957.022 Q711.177 957.022 708.44 960.714 Q705.702 964.374 705.702 970.772 Q705.702 977.169 708.408 980.861 Q711.145 984.522 715.887 984.522 Q720.566 984.522 723.304 980.83 Q726.041 977.137 726.041 970.772 Q726.041 964.438 723.304 960.746 Q720.566 957.022 715.887 957.022 M715.887 952.057 Q723.526 952.057 727.887 957.022 Q732.247 961.987 732.247 970.772 Q732.247 979.525 727.887 984.522 Q723.526 989.487 715.887 989.487 Q708.217 989.487 703.856 984.522 Q699.528 979.525 699.528 970.772 Q699.528 961.987 703.856 957.022 Q708.217 952.057 715.887 952.057 Z\" fill=\"#000000\" fill-rule=\"evenodd\" fill-opacity=\"1\" /><path clip-path=\"url(#clip890)\" d=\"M765.413 970.326 Q765.413 963.96 762.771 960.459 Q760.161 956.958 755.419 956.958 Q750.708 956.958 748.066 960.459 Q745.456 963.96 745.456 970.326 Q745.456 976.66 748.066 980.161 Q750.708 983.662 755.419 983.662 Q760.161 983.662 762.771 980.161 Q765.413 976.66 765.413 970.326 M771.269 984.14 Q771.269 993.243 767.227 997.667 Q763.185 1002.12 754.846 1002.12 Q751.758 1002.12 749.021 1001.65 Q746.284 1001.2 743.706 1000.24 L743.706 994.548 Q746.284 995.948 748.798 996.616 Q751.313 997.285 753.923 997.285 Q759.684 997.285 762.548 994.261 Q765.413 991.269 765.413 985.19 L765.413 982.294 Q763.598 985.445 760.766 987.004 Q757.933 988.564 753.986 988.564 Q747.43 988.564 743.419 983.567 Q739.409 978.57 739.409 970.326 Q739.409 962.051 743.419 957.054 Q747.43 952.057 753.986 952.057 Q757.933 952.057 760.766 953.616 Q763.598 955.176 765.413 958.327 L765.413 952.916 L771.269 952.916 L771.269 984.14 Z\" fill=\"#000000\" fill-rule=\"evenodd\" fill-opacity=\"1\" /><path clip-path=\"url(#clip890)\" d=\"M797.4 939.102 Q793.135 946.423 791.066 953.584 Q788.998 960.746 788.998 968.098 Q788.998 975.45 791.066 982.676 Q793.167 989.869 797.4 997.158 L792.308 997.158 Q787.534 989.678 785.146 982.453 Q782.791 975.228 782.791 968.098 Q782.791 961 785.146 953.807 Q787.502 946.614 792.308 939.102 L797.4 939.102 Z\" fill=\"#000000\" fill-rule=\"evenodd\" fill-opacity=\"1\" /><path clip-path=\"url(#clip890)\" d=\"M822.577 957.022 Q817.866 957.022 815.129 960.714 Q812.392 964.374 812.392 970.772 Q812.392 977.169 815.097 980.861 Q817.834 984.522 822.577 984.522 Q827.256 984.522 829.993 980.83 Q832.73 977.137 832.73 970.772 Q832.73 964.438 829.993 960.746 Q827.256 957.022 822.577 957.022 M822.577 952.057 Q830.216 952.057 834.576 957.022 Q838.937 961.987 838.937 970.772 Q838.937 979.525 834.576 984.522 Q830.216 989.487 822.577 989.487 Q814.906 989.487 810.546 984.522 Q806.217 979.525 806.217 970.772 Q806.217 961.987 810.546 957.022 Q814.906 952.057 822.577 952.057 Z\" fill=\"#000000\" fill-rule=\"evenodd\" fill-opacity=\"1\" /><path clip-path=\"url(#clip890)\" d=\"M874.234 970.772 Q874.234 964.311 871.561 960.65 Q868.919 956.958 864.272 956.958 Q859.625 956.958 856.952 960.65 Q854.31 964.311 854.31 970.772 Q854.31 977.233 856.952 980.925 Q859.625 984.585 864.272 984.585 Q868.919 984.585 871.561 980.925 Q874.234 977.233 874.234 970.772 M854.31 958.327 Q856.156 955.144 858.957 953.616 Q861.789 952.057 865.704 952.057 Q872.197 952.057 876.24 957.213 Q880.314 962.369 880.314 970.772 Q880.314 979.174 876.24 984.331 Q872.197 989.487 865.704 989.487 Q861.789 989.487 858.957 987.959 Q856.156 986.4 854.31 983.217 L854.31 988.564 L848.422 988.564 L848.422 939.039 L854.31 939.039 L854.31 958.327 Z\" fill=\"#000000\" fill-rule=\"evenodd\" fill-opacity=\"1\" /><path clip-path=\"url(#clip890)\" d=\"M912.747 953.966 L912.747 959.504 Q910.264 958.231 907.591 957.595 Q904.917 956.958 902.053 956.958 Q897.692 956.958 895.496 958.295 Q893.332 959.632 893.332 962.305 Q893.332 964.342 894.891 965.52 Q896.451 966.666 901.161 967.716 L903.167 968.162 Q909.405 969.499 912.015 971.949 Q914.657 974.368 914.657 978.729 Q914.657 983.694 910.71 986.59 Q906.795 989.487 899.92 989.487 Q897.056 989.487 893.936 988.914 Q890.849 988.373 887.411 987.259 L887.411 981.211 Q890.658 982.898 893.809 983.758 Q896.96 984.585 900.047 984.585 Q904.185 984.585 906.413 983.185 Q908.641 981.753 908.641 979.174 Q908.641 976.787 907.018 975.514 Q905.426 974.241 899.984 973.063 L897.947 972.586 Q892.504 971.44 890.085 969.085 Q887.666 966.698 887.666 962.56 Q887.666 957.531 891.231 954.794 Q894.796 952.057 901.352 952.057 Q904.599 952.057 907.463 952.534 Q910.328 953.011 912.747 953.966 Z\" fill=\"#000000\" fill-rule=\"evenodd\" fill-opacity=\"1\" /><path clip-path=\"url(#clip890)\" d=\"M954.474 969.276 L954.474 972.14 L927.547 972.14 Q927.929 978.188 931.176 981.371 Q934.454 984.522 940.279 984.522 Q943.652 984.522 946.804 983.694 Q949.986 982.867 953.106 981.211 L953.106 986.75 Q949.955 988.086 946.644 988.787 Q943.334 989.487 939.929 989.487 Q931.398 989.487 926.401 984.522 Q921.436 979.556 921.436 971.09 Q921.436 962.337 926.147 957.213 Q930.889 952.057 938.91 952.057 Q946.103 952.057 950.273 956.703 Q954.474 961.319 954.474 969.276 M948.618 967.557 Q948.554 962.751 945.912 959.886 Q943.302 957.022 938.974 957.022 Q934.072 957.022 931.112 959.791 Q928.184 962.56 927.738 967.589 L948.618 967.557 Z\" fill=\"#000000\" fill-rule=\"evenodd\" fill-opacity=\"1\" /><path clip-path=\"url(#clip890)\" d=\"M984.743 958.39 Q983.756 957.817 982.579 957.563 Q981.433 957.276 980.032 957.276 Q975.067 957.276 972.394 960.523 Q969.752 963.738 969.752 969.785 L969.752 988.564 L963.864 988.564 L963.864 952.916 L969.752 952.916 L969.752 958.454 Q971.598 955.208 974.558 953.648 Q977.518 952.057 981.751 952.057 Q982.356 952.057 983.088 952.152 Q983.82 952.216 984.711 952.375 L984.743 958.39 Z\" fill=\"#000000\" fill-rule=\"evenodd\" fill-opacity=\"1\" /><path clip-path=\"url(#clip890)\" d=\"M986.685 952.916 L992.891 952.916 L1004.03 982.835 L1015.17 952.916 L1021.38 952.916 L1008.01 988.564 L1000.05 988.564 L986.685 952.916 Z\" fill=\"#000000\" fill-rule=\"evenodd\" fill-opacity=\"1\" /><path clip-path=\"url(#clip890)\" d=\"M1059.95 969.276 L1059.95 972.14 L1033.03 972.14 Q1033.41 978.188 1036.66 981.371 Q1039.93 984.522 1045.76 984.522 Q1049.13 984.522 1052.28 983.694 Q1055.47 982.867 1058.59 981.211 L1058.59 986.75 Q1055.43 988.086 1052.12 988.787 Q1048.81 989.487 1045.41 989.487 Q1036.88 989.487 1031.88 984.522 Q1026.92 979.556 1026.92 971.09 Q1026.92 962.337 1031.63 957.213 Q1036.37 952.057 1044.39 952.057 Q1051.58 952.057 1055.75 956.703 Q1059.95 961.319 1059.95 969.276 M1054.1 967.557 Q1054.03 962.751 1051.39 959.886 Q1048.78 957.022 1044.45 957.022 Q1039.55 957.022 1036.59 959.791 Q1033.66 962.56 1033.22 967.589 L1054.1 967.557 Z\" fill=\"#000000\" fill-rule=\"evenodd\" fill-opacity=\"1\" /><path clip-path=\"url(#clip890)\" d=\"M1093.02 958.327 L1093.02 939.039 L1098.88 939.039 L1098.88 988.564 L1093.02 988.564 L1093.02 983.217 Q1091.18 986.4 1088.34 987.959 Q1085.54 989.487 1081.6 989.487 Q1075.14 989.487 1071.06 984.331 Q1067.02 979.174 1067.02 970.772 Q1067.02 962.369 1071.06 957.213 Q1075.14 952.057 1081.6 952.057 Q1085.54 952.057 1088.34 953.616 Q1091.18 955.144 1093.02 958.327 M1073.07 970.772 Q1073.07 977.233 1075.71 980.925 Q1078.38 984.585 1083.03 984.585 Q1087.68 984.585 1090.35 980.925 Q1093.02 977.233 1093.02 970.772 Q1093.02 964.311 1090.35 960.65 Q1087.68 956.958 1083.03 956.958 Q1078.38 956.958 1075.71 960.65 Q1073.07 964.311 1073.07 970.772 Z\" fill=\"#000000\" fill-rule=\"evenodd\" fill-opacity=\"1\" /><path clip-path=\"url(#clip890)\" d=\"M1149.71 939.039 L1149.71 943.908 L1144.11 943.908 Q1140.96 943.908 1139.72 945.182 Q1138.51 946.455 1138.51 949.765 L1138.51 952.916 L1148.15 952.916 L1148.15 957.467 L1138.51 957.467 L1138.51 988.564 L1132.62 988.564 L1132.62 957.467 L1127.02 957.467 L1127.02 952.916 L1132.62 952.916 L1132.62 950.433 Q1132.62 944.481 1135.39 941.776 Q1138.16 939.039 1144.17 939.039 L1149.71 939.039 Z\" fill=\"#000000\" fill-rule=\"evenodd\" fill-opacity=\"1\" /><path clip-path=\"url(#clip890)\" d=\"M1175.27 958.39 Q1174.28 957.817 1173.1 957.563 Q1171.96 957.276 1170.56 957.276 Q1165.59 957.276 1162.92 960.523 Q1160.28 963.738 1160.28 969.785 L1160.28 988.564 L1154.39 988.564 L1154.39 952.916 L1160.28 952.916 L1160.28 958.454 Q1162.12 955.208 1165.08 953.648 Q1168.04 952.057 1172.28 952.057 Q1172.88 952.057 1173.61 952.152 Q1174.35 952.216 1175.24 952.375 L1175.27 958.39 Z\" fill=\"#000000\" fill-rule=\"evenodd\" fill-opacity=\"1\" /><path clip-path=\"url(#clip890)\" d=\"M1210.47 969.276 L1210.47 972.14 L1183.54 972.14 Q1183.93 978.188 1187.17 981.371 Q1190.45 984.522 1196.28 984.522 Q1199.65 984.522 1202.8 983.694 Q1205.98 982.867 1209.1 981.211 L1209.1 986.75 Q1205.95 988.086 1202.64 988.787 Q1199.33 989.487 1195.93 989.487 Q1187.4 989.487 1182.4 984.522 Q1177.43 979.556 1177.43 971.09 Q1177.43 962.337 1182.14 957.213 Q1186.89 952.057 1194.91 952.057 Q1202.1 952.057 1206.27 956.703 Q1210.47 961.319 1210.47 969.276 M1204.61 967.557 Q1204.55 962.751 1201.91 959.886 Q1199.3 957.022 1194.97 957.022 Q1190.07 957.022 1187.11 959.791 Q1184.18 962.56 1183.74 967.589 L1204.61 967.557 Z\" fill=\"#000000\" fill-rule=\"evenodd\" fill-opacity=\"1\" /><path clip-path=\"url(#clip890)\" d=\"M1223.58 970.772 Q1223.58 977.233 1226.23 980.925 Q1228.9 984.585 1233.55 984.585 Q1238.19 984.585 1240.87 980.925 Q1243.54 977.233 1243.54 970.772 Q1243.54 964.311 1240.87 960.65 Q1238.19 956.958 1233.55 956.958 Q1228.9 956.958 1226.23 960.65 Q1223.58 964.311 1223.58 970.772 M1243.54 983.217 Q1241.69 986.4 1238.86 987.959 Q1236.06 989.487 1232.11 989.487 Q1225.65 989.487 1221.58 984.331 Q1217.54 979.174 1217.54 970.772 Q1217.54 962.369 1221.58 957.213 Q1225.65 952.057 1232.11 952.057 Q1236.06 952.057 1238.86 953.616 Q1241.69 955.144 1243.54 958.327 L1243.54 952.916 L1249.4 952.916 L1249.4 1002.12 L1243.54 1002.12 L1243.54 983.217 Z\" fill=\"#000000\" fill-rule=\"evenodd\" fill-opacity=\"1\" /><path clip-path=\"url(#clip890)\" d=\"M1260.86 974.496 L1260.86 952.916 L1266.71 952.916 L1266.71 974.273 Q1266.71 979.334 1268.69 981.88 Q1270.66 984.394 1274.61 984.394 Q1279.35 984.394 1282.09 981.371 Q1284.85 978.347 1284.85 973.127 L1284.85 952.916 L1290.71 952.916 L1290.71 988.564 L1284.85 988.564 L1284.85 983.089 Q1282.72 986.336 1279.89 987.927 Q1277.09 989.487 1273.36 989.487 Q1267.22 989.487 1264.04 985.667 Q1260.86 981.848 1260.86 974.496 M1275.59 952.057 L1275.59 952.057 Z\" fill=\"#000000\" fill-rule=\"evenodd\" fill-opacity=\"1\" /><path clip-path=\"url(#clip890)\" d=\"M1333.27 969.276 L1333.27 972.14 L1306.34 972.14 Q1306.72 978.188 1309.97 981.371 Q1313.25 984.522 1319.07 984.522 Q1322.44 984.522 1325.59 983.694 Q1328.78 982.867 1331.9 981.211 L1331.9 986.75 Q1328.75 988.086 1325.44 988.787 Q1322.13 989.487 1318.72 989.487 Q1310.19 989.487 1305.19 984.522 Q1300.23 979.556 1300.23 971.09 Q1300.23 962.337 1304.94 957.213 Q1309.68 952.057 1317.7 952.057 Q1324.89 952.057 1329.06 956.703 Q1333.27 961.319 1333.27 969.276 M1327.41 967.557 Q1327.35 962.751 1324.7 959.886 Q1322.09 957.022 1317.77 957.022 Q1312.86 957.022 1309.9 959.791 Q1306.98 962.56 1306.53 967.589 L1327.41 967.557 Z\" fill=\"#000000\" fill-rule=\"evenodd\" fill-opacity=\"1\" /><path clip-path=\"url(#clip890)\" d=\"M1372.51 967.048 L1372.51 988.564 L1366.65 988.564 L1366.65 967.239 Q1366.65 962.178 1364.68 959.664 Q1362.71 957.149 1358.76 957.149 Q1354.02 957.149 1351.28 960.173 Q1348.54 963.197 1348.54 968.416 L1348.54 988.564 L1342.65 988.564 L1342.65 952.916 L1348.54 952.916 L1348.54 958.454 Q1350.64 955.239 1353.48 953.648 Q1356.34 952.057 1360.07 952.057 Q1366.21 952.057 1369.36 955.876 Q1372.51 959.664 1372.51 967.048 Z\" fill=\"#000000\" fill-rule=\"evenodd\" fill-opacity=\"1\" /><path clip-path=\"url(#clip890)\" d=\"M1409.85 954.285 L1409.85 959.759 Q1407.36 958.39 1404.85 957.722 Q1402.37 957.022 1399.82 957.022 Q1394.12 957.022 1390.97 960.65 Q1387.82 964.247 1387.82 970.772 Q1387.82 977.297 1390.97 980.925 Q1394.12 984.522 1399.82 984.522 Q1402.37 984.522 1404.85 983.853 Q1407.36 983.153 1409.85 981.784 L1409.85 987.195 Q1407.39 988.341 1404.75 988.914 Q1402.14 989.487 1399.18 989.487 Q1391.13 989.487 1386.39 984.426 Q1381.64 979.365 1381.64 970.772 Q1381.64 962.051 1386.42 957.054 Q1391.23 952.057 1399.56 952.057 Q1402.27 952.057 1404.85 952.629 Q1407.43 953.171 1409.85 954.285 Z\" fill=\"#000000\" fill-rule=\"evenodd\" fill-opacity=\"1\" /><path clip-path=\"url(#clip890)\" d=\"M1434.86 991.874 Q1432.38 998.24 1430.02 1000.18 Q1427.67 1002.12 1423.72 1002.12 L1419.04 1002.12 L1419.04 997.221 L1422.48 997.221 Q1424.9 997.221 1426.24 996.075 Q1427.57 994.93 1429.2 990.665 L1430.25 987.991 L1415.83 952.916 L1422.04 952.916 L1433.18 980.798 L1444.32 952.916 L1450.52 952.916 L1434.86 991.874 Z\" fill=\"#000000\" fill-rule=\"evenodd\" fill-opacity=\"1\" /><path clip-path=\"url(#clip890)\" d=\"M1457.68 939.102 L1462.78 939.102 Q1467.55 946.614 1469.91 953.807 Q1472.29 961 1472.29 968.098 Q1472.29 975.228 1469.91 982.453 Q1467.55 989.678 1462.78 997.158 L1457.68 997.158 Q1461.92 989.869 1463.99 982.676 Q1466.09 975.45 1466.09 968.098 Q1466.09 960.746 1463.99 953.584 Q1461.92 946.423 1457.68 939.102 Z\" fill=\"#000000\" fill-rule=\"evenodd\" fill-opacity=\"1\" /><polyline clip-path=\"url(#clip892)\" style=\"stroke:#000000; stroke-linecap:butt; stroke-linejoin:round; stroke-width:2; stroke-opacity:0.1; fill:none\" points=\"\n",
       "  203.5,849.7 1952.76,849.7 \n",
       "  \"/>\n",
       "<polyline clip-path=\"url(#clip892)\" style=\"stroke:#000000; stroke-linecap:butt; stroke-linejoin:round; stroke-width:2; stroke-opacity:0.1; fill:none\" points=\"\n",
       "  203.5,707.649 1952.76,707.649 \n",
       "  \"/>\n",
       "<polyline clip-path=\"url(#clip892)\" style=\"stroke:#000000; stroke-linecap:butt; stroke-linejoin:round; stroke-width:2; stroke-opacity:0.1; fill:none\" points=\"\n",
       "  203.5,565.597 1952.76,565.597 \n",
       "  \"/>\n",
       "<polyline clip-path=\"url(#clip892)\" style=\"stroke:#000000; stroke-linecap:butt; stroke-linejoin:round; stroke-width:2; stroke-opacity:0.1; fill:none\" points=\"\n",
       "  203.5,423.546 1952.76,423.546 \n",
       "  \"/>\n",
       "<polyline clip-path=\"url(#clip892)\" style=\"stroke:#000000; stroke-linecap:butt; stroke-linejoin:round; stroke-width:2; stroke-opacity:0.1; fill:none\" points=\"\n",
       "  203.5,281.495 1952.76,281.495 \n",
       "  \"/>\n",
       "<polyline clip-path=\"url(#clip892)\" style=\"stroke:#000000; stroke-linecap:butt; stroke-linejoin:round; stroke-width:2; stroke-opacity:0.1; fill:none\" points=\"\n",
       "  203.5,139.444 1952.76,139.444 \n",
       "  \"/>\n",
       "<polyline clip-path=\"url(#clip890)\" style=\"stroke:#000000; stroke-linecap:butt; stroke-linejoin:round; stroke-width:4; stroke-opacity:1; fill:none\" points=\"\n",
       "  203.5,849.7 203.5,108.352 \n",
       "  \"/>\n",
       "<polyline clip-path=\"url(#clip890)\" style=\"stroke:#000000; stroke-linecap:butt; stroke-linejoin:round; stroke-width:4; stroke-opacity:1; fill:none\" points=\"\n",
       "  203.5,849.7 222.398,849.7 \n",
       "  \"/>\n",
       "<polyline clip-path=\"url(#clip890)\" style=\"stroke:#000000; stroke-linecap:butt; stroke-linejoin:round; stroke-width:4; stroke-opacity:1; fill:none\" points=\"\n",
       "  203.5,707.649 222.398,707.649 \n",
       "  \"/>\n",
       "<polyline clip-path=\"url(#clip890)\" style=\"stroke:#000000; stroke-linecap:butt; stroke-linejoin:round; stroke-width:4; stroke-opacity:1; fill:none\" points=\"\n",
       "  203.5,565.597 222.398,565.597 \n",
       "  \"/>\n",
       "<polyline clip-path=\"url(#clip890)\" style=\"stroke:#000000; stroke-linecap:butt; stroke-linejoin:round; stroke-width:4; stroke-opacity:1; fill:none\" points=\"\n",
       "  203.5,423.546 222.398,423.546 \n",
       "  \"/>\n",
       "<polyline clip-path=\"url(#clip890)\" style=\"stroke:#000000; stroke-linecap:butt; stroke-linejoin:round; stroke-width:4; stroke-opacity:1; fill:none\" points=\"\n",
       "  203.5,281.495 222.398,281.495 \n",
       "  \"/>\n",
       "<polyline clip-path=\"url(#clip890)\" style=\"stroke:#000000; stroke-linecap:butt; stroke-linejoin:round; stroke-width:4; stroke-opacity:1; fill:none\" points=\"\n",
       "  203.5,139.444 222.398,139.444 \n",
       "  \"/>\n",
       "<path clip-path=\"url(#clip890)\" d=\"M116.325 835.499 Q112.713 835.499 110.885 839.063 Q109.079 842.605 109.079 849.735 Q109.079 856.841 110.885 860.406 Q112.713 863.947 116.325 863.947 Q119.959 863.947 121.764 860.406 Q123.593 856.841 123.593 849.735 Q123.593 842.605 121.764 839.063 Q119.959 835.499 116.325 835.499 M116.325 831.795 Q122.135 831.795 125.19 836.401 Q128.269 840.985 128.269 849.735 Q128.269 858.461 125.19 863.068 Q122.135 867.651 116.325 867.651 Q110.514 867.651 107.436 863.068 Q104.38 858.461 104.38 849.735 Q104.38 840.985 107.436 836.401 Q110.514 831.795 116.325 831.795 Z\" fill=\"#000000\" fill-rule=\"evenodd\" fill-opacity=\"1\" /><path clip-path=\"url(#clip890)\" d=\"M136.486 861.1 L141.371 861.1 L141.371 866.98 L136.486 866.98 L136.486 861.1 Z\" fill=\"#000000\" fill-rule=\"evenodd\" fill-opacity=\"1\" /><path clip-path=\"url(#clip890)\" d=\"M161.556 835.499 Q157.945 835.499 156.116 839.063 Q154.31 842.605 154.31 849.735 Q154.31 856.841 156.116 860.406 Q157.945 863.947 161.556 863.947 Q165.19 863.947 166.996 860.406 Q168.824 856.841 168.824 849.735 Q168.824 842.605 166.996 839.063 Q165.19 835.499 161.556 835.499 M161.556 831.795 Q167.366 831.795 170.421 836.401 Q173.5 840.985 173.5 849.735 Q173.5 858.461 170.421 863.068 Q167.366 867.651 161.556 867.651 Q155.746 867.651 152.667 863.068 Q149.611 858.461 149.611 849.735 Q149.611 840.985 152.667 836.401 Q155.746 831.795 161.556 831.795 Z\" fill=\"#000000\" fill-rule=\"evenodd\" fill-opacity=\"1\" /><path clip-path=\"url(#clip890)\" d=\"M117.32 693.447 Q113.709 693.447 111.88 697.012 Q110.075 700.554 110.075 707.683 Q110.075 714.79 111.88 718.355 Q113.709 721.896 117.32 721.896 Q120.954 721.896 122.76 718.355 Q124.588 714.79 124.588 707.683 Q124.588 700.554 122.76 697.012 Q120.954 693.447 117.32 693.447 M117.32 689.744 Q123.13 689.744 126.186 694.35 Q129.264 698.933 129.264 707.683 Q129.264 716.41 126.186 721.017 Q123.13 725.6 117.32 725.6 Q111.51 725.6 108.431 721.017 Q105.376 716.41 105.376 707.683 Q105.376 698.933 108.431 694.35 Q111.51 689.744 117.32 689.744 Z\" fill=\"#000000\" fill-rule=\"evenodd\" fill-opacity=\"1\" /><path clip-path=\"url(#clip890)\" d=\"M137.482 719.049 L142.366 719.049 L142.366 724.929 L137.482 724.929 L137.482 719.049 Z\" fill=\"#000000\" fill-rule=\"evenodd\" fill-opacity=\"1\" /><path clip-path=\"url(#clip890)\" d=\"M152.597 690.369 L170.954 690.369 L170.954 694.304 L156.88 694.304 L156.88 702.776 Q157.898 702.429 158.917 702.267 Q159.935 702.082 160.954 702.082 Q166.741 702.082 170.121 705.253 Q173.5 708.424 173.5 713.841 Q173.5 719.419 170.028 722.521 Q166.556 725.6 160.236 725.6 Q158.06 725.6 155.792 725.23 Q153.547 724.859 151.139 724.118 L151.139 719.419 Q153.222 720.554 155.445 721.109 Q157.667 721.665 160.144 721.665 Q164.148 721.665 166.486 719.558 Q168.824 717.452 168.824 713.841 Q168.824 710.23 166.486 708.123 Q164.148 706.017 160.144 706.017 Q158.269 706.017 156.394 706.433 Q154.542 706.85 152.597 707.73 L152.597 690.369 Z\" fill=\"#000000\" fill-rule=\"evenodd\" fill-opacity=\"1\" /><path clip-path=\"url(#clip890)\" d=\"M107.135 578.942 L114.774 578.942 L114.774 552.577 L106.463 554.243 L106.463 549.984 L114.727 548.317 L119.403 548.317 L119.403 578.942 L127.042 578.942 L127.042 582.877 L107.135 582.877 L107.135 578.942 Z\" fill=\"#000000\" fill-rule=\"evenodd\" fill-opacity=\"1\" /><path clip-path=\"url(#clip890)\" d=\"M136.486 576.998 L141.371 576.998 L141.371 582.877 L136.486 582.877 L136.486 576.998 Z\" fill=\"#000000\" fill-rule=\"evenodd\" fill-opacity=\"1\" /><path clip-path=\"url(#clip890)\" d=\"M161.556 551.396 Q157.945 551.396 156.116 554.961 Q154.31 558.503 154.31 565.632 Q154.31 572.739 156.116 576.303 Q157.945 579.845 161.556 579.845 Q165.19 579.845 166.996 576.303 Q168.824 572.739 168.824 565.632 Q168.824 558.503 166.996 554.961 Q165.19 551.396 161.556 551.396 M161.556 547.692 Q167.366 547.692 170.421 552.299 Q173.5 556.882 173.5 565.632 Q173.5 574.359 170.421 578.965 Q167.366 583.549 161.556 583.549 Q155.746 583.549 152.667 578.965 Q149.611 574.359 149.611 565.632 Q149.611 556.882 152.667 552.299 Q155.746 547.692 161.556 547.692 Z\" fill=\"#000000\" fill-rule=\"evenodd\" fill-opacity=\"1\" /><path clip-path=\"url(#clip890)\" d=\"M108.13 436.891 L115.769 436.891 L115.769 410.525 L107.459 412.192 L107.459 407.933 L115.723 406.266 L120.399 406.266 L120.399 436.891 L128.037 436.891 L128.037 440.826 L108.13 440.826 L108.13 436.891 Z\" fill=\"#000000\" fill-rule=\"evenodd\" fill-opacity=\"1\" /><path clip-path=\"url(#clip890)\" d=\"M137.482 434.947 L142.366 434.947 L142.366 440.826 L137.482 440.826 L137.482 434.947 Z\" fill=\"#000000\" fill-rule=\"evenodd\" fill-opacity=\"1\" /><path clip-path=\"url(#clip890)\" d=\"M152.597 406.266 L170.954 406.266 L170.954 410.201 L156.88 410.201 L156.88 418.674 Q157.898 418.326 158.917 418.164 Q159.935 417.979 160.954 417.979 Q166.741 417.979 170.121 421.15 Q173.5 424.322 173.5 429.738 Q173.5 435.317 170.028 438.419 Q166.556 441.497 160.236 441.497 Q158.06 441.497 155.792 441.127 Q153.547 440.757 151.139 440.016 L151.139 435.317 Q153.222 436.451 155.445 437.007 Q157.667 437.562 160.144 437.562 Q164.148 437.562 166.486 435.456 Q168.824 433.349 168.824 429.738 Q168.824 426.127 166.486 424.021 Q164.148 421.914 160.144 421.914 Q158.269 421.914 156.394 422.331 Q154.542 422.748 152.597 423.627 L152.597 406.266 Z\" fill=\"#000000\" fill-rule=\"evenodd\" fill-opacity=\"1\" /><path clip-path=\"url(#clip890)\" d=\"M110.352 294.84 L126.672 294.84 L126.672 298.775 L104.727 298.775 L104.727 294.84 Q107.389 292.085 111.973 287.456 Q116.579 282.803 117.76 281.46 Q120.005 278.937 120.885 277.201 Q121.787 275.442 121.787 273.752 Q121.787 270.997 119.843 269.261 Q117.922 267.525 114.82 267.525 Q112.621 267.525 110.167 268.289 Q107.737 269.053 104.959 270.604 L104.959 265.882 Q107.783 264.747 110.237 264.169 Q112.69 263.59 114.727 263.59 Q120.098 263.59 123.292 266.275 Q126.487 268.96 126.487 273.451 Q126.487 275.581 125.676 277.502 Q124.889 279.4 122.783 281.993 Q122.204 282.664 119.102 285.881 Q116 289.076 110.352 294.84 Z\" fill=\"#000000\" fill-rule=\"evenodd\" fill-opacity=\"1\" /><path clip-path=\"url(#clip890)\" d=\"M136.486 292.895 L141.371 292.895 L141.371 298.775 L136.486 298.775 L136.486 292.895 Z\" fill=\"#000000\" fill-rule=\"evenodd\" fill-opacity=\"1\" /><path clip-path=\"url(#clip890)\" d=\"M161.556 267.294 Q157.945 267.294 156.116 270.858 Q154.31 274.4 154.31 281.53 Q154.31 288.636 156.116 292.201 Q157.945 295.743 161.556 295.743 Q165.19 295.743 166.996 292.201 Q168.824 288.636 168.824 281.53 Q168.824 274.4 166.996 270.858 Q165.19 267.294 161.556 267.294 M161.556 263.59 Q167.366 263.59 170.421 268.196 Q173.5 272.78 173.5 281.53 Q173.5 290.256 170.421 294.863 Q167.366 299.446 161.556 299.446 Q155.746 299.446 152.667 294.863 Q149.611 290.256 149.611 281.53 Q149.611 272.78 152.667 268.196 Q155.746 263.59 161.556 263.59 Z\" fill=\"#000000\" fill-rule=\"evenodd\" fill-opacity=\"1\" /><path clip-path=\"url(#clip890)\" d=\"M111.348 152.789 L127.667 152.789 L127.667 156.724 L105.723 156.724 L105.723 152.789 Q108.385 150.034 112.968 145.404 Q117.575 140.752 118.755 139.409 Q121 136.886 121.88 135.15 Q122.783 133.39 122.783 131.701 Q122.783 128.946 120.838 127.21 Q118.917 125.474 115.815 125.474 Q113.616 125.474 111.163 126.238 Q108.732 127.002 105.954 128.553 L105.954 123.83 Q108.778 122.696 111.232 122.117 Q113.686 121.539 115.723 121.539 Q121.093 121.539 124.287 124.224 Q127.482 126.909 127.482 131.4 Q127.482 133.529 126.672 135.451 Q125.885 137.349 123.778 139.941 Q123.2 140.613 120.098 143.83 Q116.996 147.025 111.348 152.789 Z\" fill=\"#000000\" fill-rule=\"evenodd\" fill-opacity=\"1\" /><path clip-path=\"url(#clip890)\" d=\"M137.482 150.844 L142.366 150.844 L142.366 156.724 L137.482 156.724 L137.482 150.844 Z\" fill=\"#000000\" fill-rule=\"evenodd\" fill-opacity=\"1\" /><path clip-path=\"url(#clip890)\" d=\"M152.597 122.164 L170.954 122.164 L170.954 126.099 L156.88 126.099 L156.88 134.571 Q157.898 134.224 158.917 134.062 Q159.935 133.877 160.954 133.877 Q166.741 133.877 170.121 137.048 Q173.5 140.219 173.5 145.636 Q173.5 151.214 170.028 154.316 Q166.556 157.395 160.236 157.395 Q158.06 157.395 155.792 157.025 Q153.547 156.654 151.139 155.914 L151.139 151.214 Q153.222 152.349 155.445 152.904 Q157.667 153.46 160.144 153.46 Q164.148 153.46 166.486 151.353 Q168.824 149.247 168.824 145.636 Q168.824 142.025 166.486 139.918 Q164.148 137.812 160.144 137.812 Q158.269 137.812 156.394 138.228 Q154.542 138.645 152.597 139.525 L152.597 122.164 Z\" fill=\"#000000\" fill-rule=\"evenodd\" fill-opacity=\"1\" /><path clip-path=\"url(#clip890)\" d=\"M10.599 728.769 L10.599 722.912 L60.1242 722.912 L60.1242 728.769 L10.599 728.769 Z\" fill=\"#000000\" fill-rule=\"evenodd\" fill-opacity=\"1\" /><path clip-path=\"url(#clip890)\" d=\"M28.5821 696.845 Q28.5821 701.555 32.2742 704.292 Q35.9345 707.03 42.332 707.03 Q48.7295 707.03 52.4217 704.324 Q56.0819 701.587 56.0819 696.845 Q56.0819 692.166 52.3898 689.429 Q48.6977 686.691 42.332 686.691 Q35.9981 686.691 32.306 689.429 Q28.5821 692.166 28.5821 696.845 M23.6168 696.845 Q23.6168 689.206 28.5821 684.845 Q33.5473 680.485 42.332 680.485 Q51.0849 680.485 56.0819 684.845 Q61.0472 689.206 61.0472 696.845 Q61.0472 704.515 56.0819 708.876 Q51.0849 713.204 42.332 713.204 Q33.5473 713.204 28.5821 708.876 Q23.6168 704.515 23.6168 696.845 Z\" fill=\"#000000\" fill-rule=\"evenodd\" fill-opacity=\"1\" /><path clip-path=\"url(#clip890)\" d=\"M41.8864 647.319 Q35.5207 647.319 32.0196 649.961 Q28.5184 652.571 28.5184 657.314 Q28.5184 662.024 32.0196 664.666 Q35.5207 667.276 41.8864 667.276 Q48.2203 667.276 51.7214 664.666 Q55.2226 662.024 55.2226 657.314 Q55.2226 652.571 51.7214 649.961 Q48.2203 647.319 41.8864 647.319 M55.7 641.463 Q64.803 641.463 69.2271 645.505 Q73.6831 649.547 73.6831 657.886 Q73.6831 660.974 73.2057 663.711 Q72.7601 666.448 71.8052 669.026 L66.1079 669.026 Q67.5084 666.448 68.1768 663.934 Q68.8452 661.419 68.8452 658.809 Q68.8452 653.048 65.8215 650.184 Q62.8296 647.319 56.7503 647.319 L53.8539 647.319 Q57.005 649.134 58.5646 651.966 Q60.1242 654.799 60.1242 658.746 Q60.1242 665.302 55.1271 669.313 Q50.13 673.323 41.8864 673.323 Q33.611 673.323 28.6139 669.313 Q23.6168 665.302 23.6168 658.746 Q23.6168 654.799 25.1764 651.966 Q26.736 649.134 29.8871 647.319 L24.4762 647.319 L24.4762 641.463 L55.7 641.463 Z\" fill=\"#000000\" fill-rule=\"evenodd\" fill-opacity=\"1\" /><path clip-path=\"url(#clip890)\" d=\"M10.6626 615.332 Q17.9832 619.597 25.1446 621.666 Q32.306 623.734 39.6584 623.734 Q47.0108 623.734 54.2359 621.666 Q61.4291 619.565 68.7179 615.332 L68.7179 620.424 Q61.2382 625.199 54.0131 627.586 Q46.788 629.941 39.6584 629.941 Q32.5606 629.941 25.3674 627.586 Q18.1742 625.23 10.6626 620.424 L10.6626 615.332 Z\" fill=\"#000000\" fill-rule=\"evenodd\" fill-opacity=\"1\" /><path clip-path=\"url(#clip890)\" d=\"M31.4466 576.787 L31.4466 586.049 L42.0774 588.723 L42.0774 579.397 L31.4466 576.787 M13.3362 581.562 L26.5451 584.872 L26.5451 575.578 L13.3362 572.236 L13.3362 567.143 L26.5451 570.422 L26.5451 560.491 L31.4466 560.491 L31.4466 571.663 L42.0774 574.273 L42.0774 564.151 L46.9471 564.151 L46.9471 575.514 L60.1242 578.824 L60.1242 583.917 L46.9471 580.639 L46.9471 589.964 L60.1242 593.243 L60.1242 598.367 L46.9471 595.057 L46.9471 605.083 L42.0774 605.083 L42.0774 593.879 L31.4466 591.206 L31.4466 601.454 L26.5451 601.454 L26.5451 589.964 L13.3362 586.718 L13.3362 581.562 Z\" fill=\"#000000\" fill-rule=\"evenodd\" fill-opacity=\"1\" /><path clip-path=\"url(#clip890)\" d=\"M28.5821 514.817 Q28.5821 519.528 32.2742 522.265 Q35.9345 525.002 42.332 525.002 Q48.7295 525.002 52.4217 522.297 Q56.0819 519.56 56.0819 514.817 Q56.0819 510.138 52.3898 507.401 Q48.6977 504.664 42.332 504.664 Q35.9981 504.664 32.306 507.401 Q28.5821 510.138 28.5821 514.817 M23.6168 514.817 Q23.6168 507.178 28.5821 502.818 Q33.5473 498.457 42.332 498.457 Q51.0849 498.457 56.0819 502.818 Q61.0472 507.178 61.0472 514.817 Q61.0472 522.488 56.0819 526.848 Q51.0849 531.177 42.332 531.177 Q33.5473 531.177 28.5821 526.848 Q23.6168 522.488 23.6168 514.817 Z\" fill=\"#000000\" fill-rule=\"evenodd\" fill-opacity=\"1\" /><path clip-path=\"url(#clip890)\" d=\"M10.599 470.703 L15.4687 470.703 L15.4687 476.305 Q15.4687 479.456 16.7419 480.697 Q18.015 481.906 21.3252 481.906 L24.4762 481.906 L24.4762 472.262 L29.0277 472.262 L29.0277 481.906 L60.1242 481.906 L60.1242 487.795 L29.0277 487.795 L29.0277 493.397 L24.4762 493.397 L24.4762 487.795 L21.9936 487.795 Q16.0416 487.795 13.3362 485.026 Q10.599 482.257 10.599 476.241 L10.599 470.703 Z\" fill=\"#000000\" fill-rule=\"evenodd\" fill-opacity=\"1\" /><path clip-path=\"url(#clip890)\" d=\"M10.599 445.304 L10.599 439.415 L39.8494 439.415 L24.4762 421.942 L24.4762 414.462 L41.1544 433.368 L60.1242 413.666 L60.1242 421.305 L42.7139 439.415 L60.1242 439.415 L60.1242 445.304 L10.599 445.304 Z\" fill=\"#000000\" fill-rule=\"evenodd\" fill-opacity=\"1\" /><path clip-path=\"url(#clip890)\" d=\"M31.3193 379.578 Q27.3726 377.382 25.4947 374.326 Q23.6168 371.27 23.6168 367.133 Q23.6168 361.563 27.5317 358.539 Q31.4148 355.515 38.6081 355.515 L60.1242 355.515 L60.1242 361.404 L38.799 361.404 Q33.6746 361.404 31.192 363.218 Q28.7094 365.032 28.7094 368.756 Q28.7094 373.308 31.7331 375.949 Q34.7568 378.591 39.9767 378.591 L60.1242 378.591 L60.1242 384.479 L38.799 384.479 Q33.6428 384.479 31.192 386.294 Q28.7094 388.108 28.7094 391.895 Q28.7094 396.383 31.7649 399.025 Q34.7886 401.667 39.9767 401.667 L60.1242 401.667 L60.1242 407.555 L24.4762 407.555 L24.4762 401.667 L30.0144 401.667 Q26.736 399.662 25.1764 396.861 Q23.6168 394.06 23.6168 390.208 Q23.6168 386.325 25.5902 383.62 Q27.5636 380.883 31.3193 379.578 Z\" fill=\"#000000\" fill-rule=\"evenodd\" fill-opacity=\"1\" /><path clip-path=\"url(#clip890)\" d=\"M40.8361 313.343 L43.7006 313.343 L43.7006 340.269 Q49.7481 339.888 52.9309 336.641 Q56.0819 333.363 56.0819 327.538 Q56.0819 324.164 55.2544 321.013 Q54.4269 317.83 52.7718 314.711 L58.3099 314.711 Q59.6467 317.862 60.347 321.172 Q61.0472 324.483 61.0472 327.888 Q61.0472 336.418 56.0819 341.415 Q51.1167 346.381 42.6503 346.381 Q33.8974 346.381 28.7731 341.67 Q23.6168 336.927 23.6168 328.907 Q23.6168 321.713 28.2638 317.544 Q32.8789 313.343 40.8361 313.343 M39.1173 319.199 Q34.3112 319.263 31.4466 321.904 Q28.5821 324.514 28.5821 328.843 Q28.5821 333.745 31.3512 336.705 Q34.1202 339.633 39.1492 340.079 L39.1173 319.199 Z\" fill=\"#000000\" fill-rule=\"evenodd\" fill-opacity=\"1\" /><path clip-path=\"url(#clip890)\" d=\"M29.9507 283.074 Q29.3778 284.06 29.1232 285.238 Q28.8367 286.384 28.8367 287.784 Q28.8367 292.749 32.0832 295.423 Q35.2979 298.065 41.3453 298.065 L60.1242 298.065 L60.1242 303.953 L24.4762 303.953 L24.4762 298.065 L30.0144 298.065 Q26.7679 296.219 25.2083 293.259 Q23.6168 290.299 23.6168 286.066 Q23.6168 285.461 23.7123 284.729 Q23.776 283.997 23.9351 283.105 L29.9507 283.074 Z\" fill=\"#000000\" fill-rule=\"evenodd\" fill-opacity=\"1\" /><path clip-path=\"url(#clip890)\" d=\"M25.5265 254.205 L31.0647 254.205 Q29.7916 256.688 29.155 259.361 Q28.5184 262.035 28.5184 264.9 Q28.5184 269.26 29.8552 271.456 Q31.192 273.621 33.8656 273.621 Q35.9026 273.621 37.0803 272.061 Q38.2261 270.501 39.2765 265.791 L39.7221 263.786 Q41.0589 257.547 43.5097 254.937 Q45.9286 252.295 50.2891 252.295 Q55.2544 252.295 58.1508 256.242 Q61.0472 260.157 61.0472 267.032 Q61.0472 269.897 60.4743 273.016 Q59.9332 276.103 58.8192 279.541 L52.7718 279.541 Q54.4587 276.294 55.318 273.143 Q56.1456 269.992 56.1456 266.905 Q56.1456 262.767 54.7451 260.539 Q53.3129 258.311 50.7347 258.311 Q48.3476 258.311 47.0745 259.934 Q45.8013 261.526 44.6237 266.968 L44.1462 269.005 Q43.0004 274.448 40.6451 276.867 Q38.258 279.286 34.1202 279.286 Q29.0913 279.286 26.3541 275.721 Q23.6168 272.156 23.6168 265.6 Q23.6168 262.353 24.0943 259.489 Q24.5717 256.624 25.5265 254.205 Z\" fill=\"#000000\" fill-rule=\"evenodd\" fill-opacity=\"1\" /><path clip-path=\"url(#clip890)\" d=\"M10.6626 243.893 L10.6626 238.8 Q18.1742 234.026 25.3674 231.671 Q32.5606 229.283 39.6584 229.283 Q46.788 229.283 54.0131 231.671 Q61.2382 234.026 68.7179 238.8 L68.7179 243.893 Q61.4291 239.66 54.2359 237.591 Q47.0108 235.49 39.6584 235.49 Q32.306 235.49 25.1446 237.591 Q17.9832 239.66 10.6626 243.893 Z\" fill=\"#000000\" fill-rule=\"evenodd\" fill-opacity=\"1\" /><path clip-path=\"url(#clip890)\" d=\"M721.567 9.54393 L729.062 9.54393 L729.062 46.7717 L751.301 27.2059 L760.821 27.2059 L736.758 48.4326 L761.833 72.576 L752.111 72.576 L729.062 50.4176 L729.062 72.576 L721.567 72.576 L721.567 9.54393 Z\" fill=\"#000000\" fill-rule=\"evenodd\" fill-opacity=\"1\" /><path clip-path=\"url(#clip890)\" d=\"M805.219 35.9153 Q808.014 30.8922 811.903 28.5022 Q815.791 26.1121 821.058 26.1121 Q828.147 26.1121 831.995 31.0947 Q835.843 36.0368 835.843 45.1919 L835.843 72.576 L828.349 72.576 L828.349 45.4349 Q828.349 38.913 826.04 35.7533 Q823.731 32.5936 818.992 32.5936 Q813.199 32.5936 809.837 36.4419 Q806.474 40.2903 806.474 46.9338 L806.474 72.576 L798.98 72.576 L798.98 45.4349 Q798.98 38.8725 796.671 35.7533 Q794.362 32.5936 789.542 32.5936 Q783.83 32.5936 780.468 36.4824 Q777.105 40.3308 777.105 46.9338 L777.105 72.576 L769.611 72.576 L769.611 27.2059 L777.105 27.2059 L777.105 34.2544 Q779.657 30.082 783.222 28.0971 Q786.787 26.1121 791.689 26.1121 Q796.631 26.1121 800.074 28.6237 Q803.558 31.1352 805.219 35.9153 Z\" fill=\"#000000\" fill-rule=\"evenodd\" fill-opacity=\"1\" /><path clip-path=\"url(#clip890)\" d=\"M889.518 48.0275 L889.518 51.6733 L855.247 51.6733 Q855.733 59.3701 859.865 63.421 Q864.038 67.4314 871.451 67.4314 Q875.745 67.4314 879.755 66.3781 Q883.806 65.3249 887.776 63.2184 L887.776 70.267 Q883.766 71.9684 879.553 72.8596 Q875.34 73.7508 871.005 73.7508 Q860.149 73.7508 853.789 67.4314 Q847.47 61.1119 847.47 50.3365 Q847.47 39.1965 853.465 32.6746 Q859.501 26.1121 869.709 26.1121 Q878.864 26.1121 884.171 32.0264 Q889.518 37.9003 889.518 48.0275 M882.064 45.84 Q881.983 39.7232 878.621 36.0774 Q875.299 32.4315 869.79 32.4315 Q863.552 32.4315 859.784 35.9558 Q856.057 39.4801 855.49 45.8805 L882.064 45.84 Z\" fill=\"#000000\" fill-rule=\"evenodd\" fill-opacity=\"1\" /><path clip-path=\"url(#clip890)\" d=\"M928.042 34.1734 Q926.786 33.4443 925.287 33.1202 Q923.829 32.7556 922.047 32.7556 Q915.727 32.7556 912.325 36.8875 Q908.962 40.9789 908.962 48.6757 L908.962 72.576 L901.468 72.576 L901.468 27.2059 L908.962 27.2059 L908.962 34.2544 Q911.312 30.1225 915.079 28.1376 Q918.846 26.1121 924.234 26.1121 Q925.004 26.1121 925.936 26.2337 Q926.867 26.3147 928.002 26.5172 L928.042 34.1734 Z\" fill=\"#000000\" fill-rule=\"evenodd\" fill-opacity=\"1\" /><path clip-path=\"url(#clip890)\" d=\"M985.2 9.54393 L985.2 15.7418 L978.071 15.7418 Q974.06 15.7418 972.48 17.3622 Q970.941 18.9825 970.941 23.1955 L970.941 27.2059 L983.215 27.2059 L983.215 32.9987 L970.941 32.9987 L970.941 72.576 L963.447 72.576 L963.447 32.9987 L956.317 32.9987 L956.317 27.2059 L963.447 27.2059 L963.447 24.0462 Q963.447 16.471 966.971 13.0277 Q970.496 9.54393 978.152 9.54393 L985.2 9.54393 Z\" fill=\"#000000\" fill-rule=\"evenodd\" fill-opacity=\"1\" /><path clip-path=\"url(#clip890)\" d=\"M1017.73 34.1734 Q1016.47 33.4443 1014.97 33.1202 Q1013.52 32.7556 1011.73 32.7556 Q1005.41 32.7556 1002.01 36.8875 Q998.649 40.9789 998.649 48.6757 L998.649 72.576 L991.155 72.576 L991.155 27.2059 L998.649 27.2059 L998.649 34.2544 Q1001 30.1225 1004.77 28.1376 Q1008.53 26.1121 1013.92 26.1121 Q1014.69 26.1121 1015.62 26.2337 Q1016.55 26.3147 1017.69 26.5172 L1017.73 34.1734 Z\" fill=\"#000000\" fill-rule=\"evenodd\" fill-opacity=\"1\" /><path clip-path=\"url(#clip890)\" d=\"M1062.53 48.0275 L1062.53 51.6733 L1028.26 51.6733 Q1028.75 59.3701 1032.88 63.421 Q1037.05 67.4314 1044.47 67.4314 Q1048.76 67.4314 1052.77 66.3781 Q1056.82 65.3249 1060.79 63.2184 L1060.79 70.267 Q1056.78 71.9684 1052.57 72.8596 Q1048.35 73.7508 1044.02 73.7508 Q1033.16 73.7508 1026.8 67.4314 Q1020.48 61.1119 1020.48 50.3365 Q1020.48 39.1965 1026.48 32.6746 Q1032.51 26.1121 1042.72 26.1121 Q1051.88 26.1121 1057.18 32.0264 Q1062.53 37.9003 1062.53 48.0275 M1055.08 45.84 Q1055 39.7232 1051.64 36.0774 Q1048.31 32.4315 1042.8 32.4315 Q1036.57 32.4315 1032.8 35.9558 Q1029.07 39.4801 1028.5 45.8805 L1055.08 45.84 Z\" fill=\"#000000\" fill-rule=\"evenodd\" fill-opacity=\"1\" /><path clip-path=\"url(#clip890)\" d=\"M1079.22 49.9314 Q1079.22 58.1548 1082.58 62.8538 Q1085.99 67.5124 1091.9 67.5124 Q1097.82 67.5124 1101.22 62.8538 Q1104.62 58.1548 1104.62 49.9314 Q1104.62 41.7081 1101.22 37.0496 Q1097.82 32.3505 1091.9 32.3505 Q1085.99 32.3505 1082.58 37.0496 Q1079.22 41.7081 1079.22 49.9314 M1104.62 65.7705 Q1102.27 69.8214 1098.67 71.8063 Q1095.1 73.7508 1090.08 73.7508 Q1081.85 73.7508 1076.67 67.1883 Q1071.53 60.6258 1071.53 49.9314 Q1071.53 39.2371 1076.67 32.6746 Q1081.85 26.1121 1090.08 26.1121 Q1095.1 26.1121 1098.67 28.0971 Q1102.27 30.0415 1104.62 34.0924 L1104.62 27.2059 L1112.07 27.2059 L1112.07 89.8329 L1104.62 89.8329 L1104.62 65.7705 Z\" fill=\"#000000\" fill-rule=\"evenodd\" fill-opacity=\"1\" /><path clip-path=\"url(#clip890)\" d=\"M1126.66 54.671 L1126.66 27.2059 L1134.11 27.2059 L1134.11 54.3874 Q1134.11 60.8284 1136.62 64.0691 Q1139.13 67.2693 1144.16 67.2693 Q1150.19 67.2693 1153.68 63.421 Q1157.2 59.5726 1157.2 52.9291 L1157.2 27.2059 L1164.66 27.2059 L1164.66 72.576 L1157.2 72.576 L1157.2 65.6084 Q1154.49 69.7404 1150.88 71.7658 Q1147.32 73.7508 1142.58 73.7508 Q1134.76 73.7508 1130.71 68.8897 Q1126.66 64.0286 1126.66 54.671 M1145.41 26.1121 L1145.41 26.1121 Z\" fill=\"#000000\" fill-rule=\"evenodd\" fill-opacity=\"1\" /><path clip-path=\"url(#clip890)\" d=\"M1218.82 48.0275 L1218.82 51.6733 L1184.55 51.6733 Q1185.03 59.3701 1189.16 63.421 Q1193.34 67.4314 1200.75 67.4314 Q1205.04 67.4314 1209.05 66.3781 Q1213.1 65.3249 1217.07 63.2184 L1217.07 70.267 Q1213.06 71.9684 1208.85 72.8596 Q1204.64 73.7508 1200.3 73.7508 Q1189.45 73.7508 1183.09 67.4314 Q1176.77 61.1119 1176.77 50.3365 Q1176.77 39.1965 1182.76 32.6746 Q1188.8 26.1121 1199.01 26.1121 Q1208.16 26.1121 1213.47 32.0264 Q1218.82 37.9003 1218.82 48.0275 M1211.36 45.84 Q1211.28 39.7232 1207.92 36.0774 Q1204.6 32.4315 1199.09 32.4315 Q1192.85 32.4315 1189.08 35.9558 Q1185.36 39.4801 1184.79 45.8805 L1211.36 45.84 Z\" fill=\"#000000\" fill-rule=\"evenodd\" fill-opacity=\"1\" /><path clip-path=\"url(#clip890)\" d=\"M1268.76 45.1919 L1268.76 72.576 L1261.31 72.576 L1261.31 45.4349 Q1261.31 38.994 1258.8 35.7938 Q1256.29 32.5936 1251.26 32.5936 Q1245.23 32.5936 1241.74 36.4419 Q1238.26 40.2903 1238.26 46.9338 L1238.26 72.576 L1230.77 72.576 L1230.77 27.2059 L1238.26 27.2059 L1238.26 34.2544 Q1240.93 30.163 1244.54 28.1376 Q1248.18 26.1121 1252.92 26.1121 Q1260.74 26.1121 1264.75 30.9732 Q1268.76 35.7938 1268.76 45.1919 Z\" fill=\"#000000\" fill-rule=\"evenodd\" fill-opacity=\"1\" /><path clip-path=\"url(#clip890)\" d=\"M1316.28 28.9478 L1316.28 35.9153 Q1313.12 34.1734 1309.92 33.3227 Q1306.76 32.4315 1303.52 32.4315 Q1296.27 32.4315 1292.26 37.0496 Q1288.25 41.6271 1288.25 49.9314 Q1288.25 58.2358 1292.26 62.8538 Q1296.27 67.4314 1303.52 67.4314 Q1306.76 67.4314 1309.92 66.5807 Q1313.12 65.6895 1316.28 63.9476 L1316.28 70.8341 Q1313.16 72.2924 1309.8 73.0216 Q1306.48 73.7508 1302.71 73.7508 Q1292.46 73.7508 1286.43 67.3098 Q1280.39 60.8689 1280.39 49.9314 Q1280.39 38.832 1286.47 32.472 Q1292.58 26.1121 1303.2 26.1121 Q1306.64 26.1121 1309.92 26.8413 Q1313.2 27.5299 1316.28 28.9478 Z\" fill=\"#000000\" fill-rule=\"evenodd\" fill-opacity=\"1\" /><path clip-path=\"url(#clip890)\" d=\"M1329.24 27.2059 L1336.7 27.2059 L1336.7 72.576 L1329.24 72.576 L1329.24 27.2059 M1329.24 9.54393 L1336.7 9.54393 L1336.7 18.9825 L1329.24 18.9825 L1329.24 9.54393 Z\" fill=\"#000000\" fill-rule=\"evenodd\" fill-opacity=\"1\" /><path clip-path=\"url(#clip890)\" d=\"M1391.1 48.0275 L1391.1 51.6733 L1356.83 51.6733 Q1357.32 59.3701 1361.45 63.421 Q1365.62 67.4314 1373.03 67.4314 Q1377.33 67.4314 1381.34 66.3781 Q1385.39 65.3249 1389.36 63.2184 L1389.36 70.267 Q1385.35 71.9684 1381.14 72.8596 Q1376.92 73.7508 1372.59 73.7508 Q1361.73 73.7508 1355.37 67.4314 Q1349.05 61.1119 1349.05 50.3365 Q1349.05 39.1965 1355.05 32.6746 Q1361.08 26.1121 1371.29 26.1121 Q1380.45 26.1121 1385.75 32.0264 Q1391.1 37.9003 1391.1 48.0275 M1383.65 45.84 Q1383.57 39.7232 1380.2 36.0774 Q1376.88 32.4315 1371.37 32.4315 Q1365.13 32.4315 1361.37 35.9558 Q1357.64 39.4801 1357.07 45.8805 L1383.65 45.84 Z\" fill=\"#000000\" fill-rule=\"evenodd\" fill-opacity=\"1\" /><path clip-path=\"url(#clip890)\" d=\"M1432.26 28.5427 L1432.26 35.5912 Q1429.1 33.9709 1425.7 33.1607 Q1422.29 32.3505 1418.65 32.3505 Q1413.1 32.3505 1410.3 34.0519 Q1407.55 35.7533 1407.55 39.156 Q1407.55 41.7486 1409.53 43.2475 Q1411.52 44.7058 1417.51 46.0426 L1420.06 46.6097 Q1428 48.3111 1431.33 51.4303 Q1434.69 54.509 1434.69 60.0587 Q1434.69 66.3781 1429.67 70.0644 Q1424.68 73.7508 1415.93 73.7508 Q1412.29 73.7508 1408.32 73.0216 Q1404.39 72.3329 1400.01 70.9151 L1400.01 63.2184 Q1404.14 65.3654 1408.16 66.4591 Q1412.17 67.5124 1416.09 67.5124 Q1421.36 67.5124 1424.2 65.73 Q1427.03 63.9071 1427.03 60.6258 Q1427.03 57.5877 1424.97 55.9673 Q1422.94 54.3469 1416.01 52.8481 L1413.42 52.2405 Q1406.49 50.7821 1403.42 47.7845 Q1400.34 44.7463 1400.34 39.4801 Q1400.34 33.0797 1404.87 29.5959 Q1409.41 26.1121 1417.76 26.1121 Q1421.89 26.1121 1425.53 26.7198 Q1429.18 27.3274 1432.26 28.5427 Z\" fill=\"#000000\" fill-rule=\"evenodd\" fill-opacity=\"1\" /><circle clip-path=\"url(#clip892)\" cx=\"1778.28\" cy=\"652.775\" r=\"14\" fill=\"#009af9\" fill-rule=\"evenodd\" fill-opacity=\"1\" stroke=\"#000000\" stroke-opacity=\"1\" stroke-width=\"2\"/>\n",
       "<circle clip-path=\"url(#clip892)\" cx=\"1776.92\" cy=\"849.7\" r=\"14\" fill=\"#009af9\" fill-rule=\"evenodd\" fill-opacity=\"1\" stroke=\"#000000\" stroke-opacity=\"1\" stroke-width=\"2\"/>\n",
       "<circle clip-path=\"url(#clip892)\" cx=\"1778.02\" cy=\"455.85\" r=\"14\" fill=\"#009af9\" fill-rule=\"evenodd\" fill-opacity=\"1\" stroke=\"#000000\" stroke-opacity=\"1\" stroke-width=\"2\"/>\n",
       "<circle clip-path=\"url(#clip892)\" cx=\"1779.83\" cy=\"849.7\" r=\"14\" fill=\"#009af9\" fill-rule=\"evenodd\" fill-opacity=\"1\" stroke=\"#000000\" stroke-opacity=\"1\" stroke-width=\"2\"/>\n",
       "<circle clip-path=\"url(#clip892)\" cx=\"1778.32\" cy=\"849.7\" r=\"14\" fill=\"#009af9\" fill-rule=\"evenodd\" fill-opacity=\"1\" stroke=\"#000000\" stroke-opacity=\"1\" stroke-width=\"2\"/>\n",
       "<circle clip-path=\"url(#clip892)\" cx=\"1777.34\" cy=\"652.775\" r=\"14\" fill=\"#009af9\" fill-rule=\"evenodd\" fill-opacity=\"1\" stroke=\"#000000\" stroke-opacity=\"1\" stroke-width=\"2\"/>\n",
       "<circle clip-path=\"url(#clip892)\" cx=\"1778.4\" cy=\"652.775\" r=\"14\" fill=\"#009af9\" fill-rule=\"evenodd\" fill-opacity=\"1\" stroke=\"#000000\" stroke-opacity=\"1\" stroke-width=\"2\"/>\n",
       "<circle clip-path=\"url(#clip892)\" cx=\"1778.73\" cy=\"849.7\" r=\"14\" fill=\"#009af9\" fill-rule=\"evenodd\" fill-opacity=\"1\" stroke=\"#000000\" stroke-opacity=\"1\" stroke-width=\"2\"/>\n",
       "<circle clip-path=\"url(#clip892)\" cx=\"1778.8\" cy=\"652.775\" r=\"14\" fill=\"#009af9\" fill-rule=\"evenodd\" fill-opacity=\"1\" stroke=\"#000000\" stroke-opacity=\"1\" stroke-width=\"2\"/>\n",
       "<circle clip-path=\"url(#clip892)\" cx=\"1777.73\" cy=\"849.7\" r=\"14\" fill=\"#009af9\" fill-rule=\"evenodd\" fill-opacity=\"1\" stroke=\"#000000\" stroke-opacity=\"1\" stroke-width=\"2\"/>\n",
       "<circle clip-path=\"url(#clip892)\" cx=\"1777.71\" cy=\"652.775\" r=\"14\" fill=\"#009af9\" fill-rule=\"evenodd\" fill-opacity=\"1\" stroke=\"#000000\" stroke-opacity=\"1\" stroke-width=\"2\"/>\n",
       "<circle clip-path=\"url(#clip892)\" cx=\"1778.74\" cy=\"652.775\" r=\"14\" fill=\"#009af9\" fill-rule=\"evenodd\" fill-opacity=\"1\" stroke=\"#000000\" stroke-opacity=\"1\" stroke-width=\"2\"/>\n",
       "<circle clip-path=\"url(#clip892)\" cx=\"1779.03\" cy=\"849.7\" r=\"14\" fill=\"#009af9\" fill-rule=\"evenodd\" fill-opacity=\"1\" stroke=\"#000000\" stroke-opacity=\"1\" stroke-width=\"2\"/>\n",
       "<circle clip-path=\"url(#clip892)\" cx=\"1778.9\" cy=\"849.7\" r=\"14\" fill=\"#009af9\" fill-rule=\"evenodd\" fill-opacity=\"1\" stroke=\"#000000\" stroke-opacity=\"1\" stroke-width=\"2\"/>\n",
       "<circle clip-path=\"url(#clip892)\" cx=\"1779.55\" cy=\"652.775\" r=\"14\" fill=\"#009af9\" fill-rule=\"evenodd\" fill-opacity=\"1\" stroke=\"#000000\" stroke-opacity=\"1\" stroke-width=\"2\"/>\n",
       "<circle clip-path=\"url(#clip892)\" cx=\"1777.77\" cy=\"849.7\" r=\"14\" fill=\"#009af9\" fill-rule=\"evenodd\" fill-opacity=\"1\" stroke=\"#000000\" stroke-opacity=\"1\" stroke-width=\"2\"/>\n",
       "<circle clip-path=\"url(#clip892)\" cx=\"1779.26\" cy=\"849.7\" r=\"14\" fill=\"#009af9\" fill-rule=\"evenodd\" fill-opacity=\"1\" stroke=\"#000000\" stroke-opacity=\"1\" stroke-width=\"2\"/>\n",
       "<circle clip-path=\"url(#clip892)\" cx=\"1779.13\" cy=\"652.775\" r=\"14\" fill=\"#009af9\" fill-rule=\"evenodd\" fill-opacity=\"1\" stroke=\"#000000\" stroke-opacity=\"1\" stroke-width=\"2\"/>\n",
       "<circle clip-path=\"url(#clip892)\" cx=\"1778.48\" cy=\"849.7\" r=\"14\" fill=\"#009af9\" fill-rule=\"evenodd\" fill-opacity=\"1\" stroke=\"#000000\" stroke-opacity=\"1\" stroke-width=\"2\"/>\n",
       "<circle clip-path=\"url(#clip892)\" cx=\"1778.03\" cy=\"849.7\" r=\"14\" fill=\"#009af9\" fill-rule=\"evenodd\" fill-opacity=\"1\" stroke=\"#000000\" stroke-opacity=\"1\" stroke-width=\"2\"/>\n",
       "<circle clip-path=\"url(#clip892)\" cx=\"1778.57\" cy=\"652.775\" r=\"14\" fill=\"#009af9\" fill-rule=\"evenodd\" fill-opacity=\"1\" stroke=\"#000000\" stroke-opacity=\"1\" stroke-width=\"2\"/>\n",
       "<circle clip-path=\"url(#clip892)\" cx=\"1777.98\" cy=\"849.7\" r=\"14\" fill=\"#009af9\" fill-rule=\"evenodd\" fill-opacity=\"1\" stroke=\"#000000\" stroke-opacity=\"1\" stroke-width=\"2\"/>\n",
       "<circle clip-path=\"url(#clip892)\" cx=\"1777.92\" cy=\"652.775\" r=\"14\" fill=\"#009af9\" fill-rule=\"evenodd\" fill-opacity=\"1\" stroke=\"#000000\" stroke-opacity=\"1\" stroke-width=\"2\"/>\n",
       "<circle clip-path=\"url(#clip892)\" cx=\"1778.84\" cy=\"652.775\" r=\"14\" fill=\"#009af9\" fill-rule=\"evenodd\" fill-opacity=\"1\" stroke=\"#000000\" stroke-opacity=\"1\" stroke-width=\"2\"/>\n",
       "<circle clip-path=\"url(#clip892)\" cx=\"1777.94\" cy=\"849.7\" r=\"14\" fill=\"#009af9\" fill-rule=\"evenodd\" fill-opacity=\"1\" stroke=\"#000000\" stroke-opacity=\"1\" stroke-width=\"2\"/>\n",
       "<circle clip-path=\"url(#clip892)\" cx=\"1778.38\" cy=\"652.775\" r=\"14\" fill=\"#009af9\" fill-rule=\"evenodd\" fill-opacity=\"1\" stroke=\"#000000\" stroke-opacity=\"1\" stroke-width=\"2\"/>\n",
       "<circle clip-path=\"url(#clip892)\" cx=\"1777.84\" cy=\"849.7\" r=\"14\" fill=\"#009af9\" fill-rule=\"evenodd\" fill-opacity=\"1\" stroke=\"#000000\" stroke-opacity=\"1\" stroke-width=\"2\"/>\n",
       "<circle clip-path=\"url(#clip892)\" cx=\"1778.36\" cy=\"652.775\" r=\"14\" fill=\"#009af9\" fill-rule=\"evenodd\" fill-opacity=\"1\" stroke=\"#000000\" stroke-opacity=\"1\" stroke-width=\"2\"/>\n",
       "<circle clip-path=\"url(#clip892)\" cx=\"1778.21\" cy=\"849.7\" r=\"14\" fill=\"#009af9\" fill-rule=\"evenodd\" fill-opacity=\"1\" stroke=\"#000000\" stroke-opacity=\"1\" stroke-width=\"2\"/>\n",
       "<circle clip-path=\"url(#clip892)\" cx=\"1778.59\" cy=\"652.775\" r=\"14\" fill=\"#009af9\" fill-rule=\"evenodd\" fill-opacity=\"1\" stroke=\"#000000\" stroke-opacity=\"1\" stroke-width=\"2\"/>\n",
       "<circle clip-path=\"url(#clip892)\" cx=\"1777.86\" cy=\"849.7\" r=\"14\" fill=\"#009af9\" fill-rule=\"evenodd\" fill-opacity=\"1\" stroke=\"#000000\" stroke-opacity=\"1\" stroke-width=\"2\"/>\n",
       "<circle clip-path=\"url(#clip892)\" cx=\"1778.95\" cy=\"849.7\" r=\"14\" fill=\"#009af9\" fill-rule=\"evenodd\" fill-opacity=\"1\" stroke=\"#000000\" stroke-opacity=\"1\" stroke-width=\"2\"/>\n",
       "<circle clip-path=\"url(#clip892)\" cx=\"1778.34\" cy=\"849.7\" r=\"14\" fill=\"#009af9\" fill-rule=\"evenodd\" fill-opacity=\"1\" stroke=\"#000000\" stroke-opacity=\"1\" stroke-width=\"2\"/>\n",
       "<circle clip-path=\"url(#clip892)\" cx=\"1778.07\" cy=\"537.581\" r=\"14\" fill=\"#009af9\" fill-rule=\"evenodd\" fill-opacity=\"1\" stroke=\"#000000\" stroke-opacity=\"1\" stroke-width=\"2\"/>\n",
       "<circle clip-path=\"url(#clip892)\" cx=\"1778.65\" cy=\"652.775\" r=\"14\" fill=\"#009af9\" fill-rule=\"evenodd\" fill-opacity=\"1\" stroke=\"#000000\" stroke-opacity=\"1\" stroke-width=\"2\"/>\n",
       "<circle clip-path=\"url(#clip892)\" cx=\"1779.34\" cy=\"849.7\" r=\"14\" fill=\"#009af9\" fill-rule=\"evenodd\" fill-opacity=\"1\" stroke=\"#000000\" stroke-opacity=\"1\" stroke-width=\"2\"/>\n",
       "<circle clip-path=\"url(#clip892)\" cx=\"1779.39\" cy=\"652.775\" r=\"14\" fill=\"#009af9\" fill-rule=\"evenodd\" fill-opacity=\"1\" stroke=\"#000000\" stroke-opacity=\"1\" stroke-width=\"2\"/>\n",
       "<circle clip-path=\"url(#clip892)\" cx=\"1778.17\" cy=\"652.775\" r=\"14\" fill=\"#009af9\" fill-rule=\"evenodd\" fill-opacity=\"1\" stroke=\"#000000\" stroke-opacity=\"1\" stroke-width=\"2\"/>\n",
       "<circle clip-path=\"url(#clip892)\" cx=\"1778.69\" cy=\"652.775\" r=\"14\" fill=\"#009af9\" fill-rule=\"evenodd\" fill-opacity=\"1\" stroke=\"#000000\" stroke-opacity=\"1\" stroke-width=\"2\"/>\n",
       "<circle clip-path=\"url(#clip892)\" cx=\"1778.23\" cy=\"849.7\" r=\"14\" fill=\"#009af9\" fill-rule=\"evenodd\" fill-opacity=\"1\" stroke=\"#000000\" stroke-opacity=\"1\" stroke-width=\"2\"/>\n",
       "<circle clip-path=\"url(#clip892)\" cx=\"1779.58\" cy=\"849.7\" r=\"14\" fill=\"#009af9\" fill-rule=\"evenodd\" fill-opacity=\"1\" stroke=\"#000000\" stroke-opacity=\"1\" stroke-width=\"2\"/>\n",
       "<circle clip-path=\"url(#clip892)\" cx=\"1777.46\" cy=\"849.7\" r=\"14\" fill=\"#009af9\" fill-rule=\"evenodd\" fill-opacity=\"1\" stroke=\"#000000\" stroke-opacity=\"1\" stroke-width=\"2\"/>\n",
       "<circle clip-path=\"url(#clip892)\" cx=\"1778.44\" cy=\"849.7\" r=\"14\" fill=\"#009af9\" fill-rule=\"evenodd\" fill-opacity=\"1\" stroke=\"#000000\" stroke-opacity=\"1\" stroke-width=\"2\"/>\n",
       "<circle clip-path=\"url(#clip892)\" cx=\"1778.46\" cy=\"849.7\" r=\"14\" fill=\"#009af9\" fill-rule=\"evenodd\" fill-opacity=\"1\" stroke=\"#000000\" stroke-opacity=\"1\" stroke-width=\"2\"/>\n",
       "<circle clip-path=\"url(#clip892)\" cx=\"1778.67\" cy=\"849.7\" r=\"14\" fill=\"#009af9\" fill-rule=\"evenodd\" fill-opacity=\"1\" stroke=\"#000000\" stroke-opacity=\"1\" stroke-width=\"2\"/>\n",
       "<circle clip-path=\"url(#clip892)\" cx=\"1778.78\" cy=\"849.7\" r=\"14\" fill=\"#009af9\" fill-rule=\"evenodd\" fill-opacity=\"1\" stroke=\"#000000\" stroke-opacity=\"1\" stroke-width=\"2\"/>\n",
       "<circle clip-path=\"url(#clip892)\" cx=\"1777.9\" cy=\"849.7\" r=\"14\" fill=\"#009af9\" fill-rule=\"evenodd\" fill-opacity=\"1\" stroke=\"#000000\" stroke-opacity=\"1\" stroke-width=\"2\"/>\n",
       "<circle clip-path=\"url(#clip892)\" cx=\"1777.8\" cy=\"849.7\" r=\"14\" fill=\"#009af9\" fill-rule=\"evenodd\" fill-opacity=\"1\" stroke=\"#000000\" stroke-opacity=\"1\" stroke-width=\"2\"/>\n",
       "<circle clip-path=\"url(#clip892)\" cx=\"1778.53\" cy=\"652.775\" r=\"14\" fill=\"#009af9\" fill-rule=\"evenodd\" fill-opacity=\"1\" stroke=\"#000000\" stroke-opacity=\"1\" stroke-width=\"2\"/>\n",
       "<circle clip-path=\"url(#clip892)\" cx=\"1778.09\" cy=\"537.581\" r=\"14\" fill=\"#009af9\" fill-rule=\"evenodd\" fill-opacity=\"1\" stroke=\"#000000\" stroke-opacity=\"1\" stroke-width=\"2\"/>\n",
       "<circle clip-path=\"url(#clip892)\" cx=\"1778.3\" cy=\"392.455\" r=\"14\" fill=\"#009af9\" fill-rule=\"evenodd\" fill-opacity=\"1\" stroke=\"#000000\" stroke-opacity=\"1\" stroke-width=\"2\"/>\n",
       "<circle clip-path=\"url(#clip892)\" cx=\"1777.11\" cy=\"849.7\" r=\"14\" fill=\"#009af9\" fill-rule=\"evenodd\" fill-opacity=\"1\" stroke=\"#000000\" stroke-opacity=\"1\" stroke-width=\"2\"/>\n",
       "<circle clip-path=\"url(#clip892)\" cx=\"1778\" cy=\"849.7\" r=\"14\" fill=\"#009af9\" fill-rule=\"evenodd\" fill-opacity=\"1\" stroke=\"#000000\" stroke-opacity=\"1\" stroke-width=\"2\"/>\n",
       "<circle clip-path=\"url(#clip892)\" cx=\"1778.55\" cy=\"849.7\" r=\"14\" fill=\"#009af9\" fill-rule=\"evenodd\" fill-opacity=\"1\" stroke=\"#000000\" stroke-opacity=\"1\" stroke-width=\"2\"/>\n",
       "<circle clip-path=\"url(#clip892)\" cx=\"1777.82\" cy=\"652.775\" r=\"14\" fill=\"#009af9\" fill-rule=\"evenodd\" fill-opacity=\"1\" stroke=\"#000000\" stroke-opacity=\"1\" stroke-width=\"2\"/>\n",
       "<circle clip-path=\"url(#clip892)\" cx=\"1777.4\" cy=\"652.775\" r=\"14\" fill=\"#009af9\" fill-rule=\"evenodd\" fill-opacity=\"1\" stroke=\"#000000\" stroke-opacity=\"1\" stroke-width=\"2\"/>\n",
       "<circle clip-path=\"url(#clip892)\" cx=\"1778.5\" cy=\"849.7\" r=\"14\" fill=\"#009af9\" fill-rule=\"evenodd\" fill-opacity=\"1\" stroke=\"#000000\" stroke-opacity=\"1\" stroke-width=\"2\"/>\n",
       "<circle clip-path=\"url(#clip892)\" cx=\"1778.82\" cy=\"849.7\" r=\"14\" fill=\"#009af9\" fill-rule=\"evenodd\" fill-opacity=\"1\" stroke=\"#000000\" stroke-opacity=\"1\" stroke-width=\"2\"/>\n",
       "</svg>\n"
      ]
     },
     "execution_count": 245,
     "metadata": {},
     "output_type": "execute_result"
    }
   ],
   "source": [
    "kmer_counts = DataStructures.SortedDict(observation_graph.vprops[v][:kmer] => observation_graph.vprops[v][:weight] for v in Graphs.vertices(observation_graph))\n",
    "total_observed_kmers = sum(values(kmer_counts))\n",
    "kmer_probabilities = Dict(k => v/total_observed_kmers for (k,v) in kmer_counts)\n",
    "scale = 250\n",
    "Mycelia.plot_kmer_frequency_spectra(values(kmer_counts), size=(2scale,scale), title=\"kmer frequencies\")"
   ]
  },
  {
   "cell_type": "code",
   "execution_count": 246,
   "id": "fd15af69-a35c-45cf-8399-70bc287d11d7",
   "metadata": {},
   "outputs": [
    {
     "data": {
      "text/plain": [
       "0.0"
      ]
     },
     "execution_count": 246,
     "metadata": {},
     "output_type": "execute_result"
    }
   ],
   "source": [
    "reference_kmers = keys(Mycelia.count_canonical_kmers(BioSequences.DNAMer{k}, reference_fasta_file))\n",
    "distance_to_reference_graph = 1 - LSHFunctions.jaccard(Set(reference_kmers), Set(keys(kmer_counts)))"
   ]
  },
  {
   "cell_type": "code",
   "execution_count": 247,
   "id": "8aa68dd2-82f2-48e9-984a-092df381a39d",
   "metadata": {},
   "outputs": [
    {
     "data": {
      "text/plain": [
       "58-element Vector{Pair{Any, Int64}}:\n",
       " 8945 => 1\n",
       " 8955 => 1\n",
       " 8967 => 2\n",
       " 8970 => 2\n",
       " 8973 => 1\n",
       " 8986 => 2\n",
       " 8987 => 1\n",
       " 8989 => 1\n",
       " 8991 => 1\n",
       " 8992 => 2\n",
       " 8993 => 1\n",
       " 8994 => 1\n",
       " 8996 => 1\n",
       "      ⋮\n",
       " 9044 => 1\n",
       " 9045 => 2\n",
       " 9048 => 1\n",
       " 9051 => 1\n",
       " 9055 => 1\n",
       " 9060 => 2\n",
       " 9067 => 1\n",
       " 9071 => 1\n",
       " 9074 => 2\n",
       " 9082 => 2\n",
       " 9084 => 1\n",
       " 9097 => 1"
      ]
     },
     "execution_count": 247,
     "metadata": {},
     "output_type": "execute_result"
    }
   ],
   "source": [
    "kmer_counts_histogram = sort(collect(StatsBase.countmap(collect(values(kmer_counts)))), by=x->x[1])"
   ]
  },
  {
   "cell_type": "code",
   "execution_count": 248,
   "id": "ed22ec40-e72e-445f-a0fe-b38b3de73aae",
   "metadata": {},
   "outputs": [
    {
     "data": {
      "text/html": [
       "<img src=./../../../2021-08-25-annealing-correction/L-100-DEPTH-10000.fastq.k-11.gfa.svg>"
      ]
     },
     "metadata": {},
     "output_type": "display_data"
    }
   ],
   "source": [
    "# visualize\n",
    "gfa_file = observations_file * \".k-$k.gfa\"\n",
    "Mycelia.graph_to_gfa(observation_graph, gfa_file)\n",
    "\n",
    "run(`$(BANDAGE) image $(gfa_file) $(gfa_file).svg --depwidth .9 --deppower .9`)\n",
    "# --nodewidth <float> Average node width (0.5 to 1000, default: 5)\n",
    "# --depwidth <float>  Depth effect on width (0 to 1, default: 0.5)\n",
    "# --deppower <float>  Power of depth effect on width (0 to 1, default: 0.5)\n",
    "\n",
    "html_path_to_svg = \"./\" * repeat(\"../\", length(split(pwd(), '/')) - 3)\n",
    "html_path_to_svg *= replace(\"$(gfa_file).svg\", \"$(homedir())/\" => \"\")\n",
    "\n",
    "x = \"<img src=$(html_path_to_svg)>\"\n",
    "display(\"text/html\", x)\n",
    "# display(\"image/svg+xml\", read(\"$(gfa_file).svg\", String))"
   ]
  },
  {
   "cell_type": "markdown",
   "id": "900184d3-7d9b-4ad9-8526-543cc9cd7f60",
   "metadata": {},
   "source": [
    "# take in a read"
   ]
  },
  {
   "cell_type": "code",
   "execution_count": 249,
   "id": "06148a27-7ee7-4c7e-b4cf-8248acdf5aa1",
   "metadata": {},
   "outputs": [
    {
     "data": {
      "text/plain": [
       "FASTX.FASTQ.Record:\n",
       "   identifier: 17931635951973638355-oJe5GcXKGh0053VCqlyPeX3Ose23eP48\n",
       "  description: 3157291459485254640\n",
       "     sequence: TTATACCGGCCGACGGGTGGTATTCGAGAAGATAGTACAATCTTATGTTGAGCTGCGGTCCACTTGTAGGTGAGGCTCTGGTCTGAGGCGCTTTGCAGTGAG\n",
       "      quality: UInt8[0x3c, 0x3c, 0x3c, 0x3c, 0x3c, 0x3c, 0x3c, 0x3c, 0x3c, 0x3c  …  0x3c, 0x3c, 0x3c, 0x3c, 0x3c, 0x3c, 0x3c, 0x3c, 0x3c, 0x3c]"
      ]
     },
     "execution_count": 249,
     "metadata": {},
     "output_type": "execute_result"
    }
   ],
   "source": [
    "observation = first(observations)"
   ]
  },
  {
   "cell_type": "markdown",
   "id": "d1cecb77-f693-4331-b364-f6dad65902a2",
   "metadata": {},
   "source": [
    "# convert it to mers"
   ]
  },
  {
   "cell_type": "code",
   "execution_count": 250,
   "id": "9970a9db-b565-4d27-990e-52db95516d42",
   "metadata": {},
   "outputs": [
    {
     "data": {
      "text/plain": [
       "BioSequences.EveryMerIterator{BioSequences.BigDNAMer{11}, BioSequences.LongDNASeq}(TTATACCGGCCGACGGGTGGTATTCGAGAAGATAGTACA…TTGTAGGTGAGGCTCTGGTCTGAGGCGCTTTGCAGTGAG, 1, 102)"
      ]
     },
     "execution_count": 250,
     "metadata": {},
     "output_type": "execute_result"
    }
   ],
   "source": [
    "sequence_mer_iterator = BioSequences.each(BioSequences.BigDNAMer{k}, FASTX.sequence(observation))"
   ]
  },
  {
   "cell_type": "markdown",
   "id": "db63245a-1ee0-478c-8f90-49578acef496",
   "metadata": {},
   "source": [
    "# find all solid kmers in the read"
   ]
  },
  {
   "cell_type": "code",
   "execution_count": 251,
   "id": "00ca8b1e-56f9-4933-8cc2-053c03ded830",
   "metadata": {},
   "outputs": [
    {
     "data": {
      "text/plain": [
       "0.6521739130434783"
      ]
     },
     "execution_count": 251,
     "metadata": {},
     "output_type": "execute_result"
    }
   ],
   "source": [
    "kmers = collect(keys(kmer_counts))\n",
    "@assert issorted(kmers)\n",
    "mer_is_solid = map(mer -> !isempty(searchsorted(kmers, BioSequences.canonical(mer.fw))), sequence_mer_iterator)\n",
    "count(mer_is_solid)/length(mer_is_solid)"
   ]
  },
  {
   "cell_type": "markdown",
   "id": "668ad771-469c-43bd-9dff-f36ece0bf7be",
   "metadata": {},
   "source": [
    "# fill in the gaps"
   ]
  },
  {
   "cell_type": "code",
   "execution_count": 257,
   "id": "a6a4f47b-6c06-48ca-9d03-9b4bf3cb284b",
   "metadata": {},
   "outputs": [
    {
     "data": {
      "text/plain": [
       "92-element Vector{BioSequences.MerIterResult{BioSequences.BigDNAMer{11}}}:\n",
       " BioSequences.MerIterResult{BioSequences.BigDNAMer{11}}(1, TTATACCGGCC, GGCCGGTATAA)\n",
       " BioSequences.MerIterResult{BioSequences.BigDNAMer{11}}(2, TATACCGGCCG, CGGCCGGTATA)\n",
       " BioSequences.MerIterResult{BioSequences.BigDNAMer{11}}(3, ATACCGGCCGA, TCGGCCGGTAT)\n",
       " BioSequences.MerIterResult{BioSequences.BigDNAMer{11}}(4, TACCGGCCGAC, GTCGGCCGGTA)\n",
       " BioSequences.MerIterResult{BioSequences.BigDNAMer{11}}(5, ACCGGCCGACG, CGTCGGCCGGT)\n",
       " BioSequences.MerIterResult{BioSequences.BigDNAMer{11}}(6, CCGGCCGACGG, CCGTCGGCCGG)\n",
       " BioSequences.MerIterResult{BioSequences.BigDNAMer{11}}(7, CGGCCGACGGG, CCCGTCGGCCG)\n",
       " BioSequences.MerIterResult{BioSequences.BigDNAMer{11}}(8, GGCCGACGGGT, ACCCGTCGGCC)\n",
       " BioSequences.MerIterResult{BioSequences.BigDNAMer{11}}(9, GCCGACGGGTG, CACCCGTCGGC)\n",
       " BioSequences.MerIterResult{BioSequences.BigDNAMer{11}}(10, CCGACGGGTGG, CCACCCGTCGG)\n",
       " BioSequences.MerIterResult{BioSequences.BigDNAMer{11}}(11, CGACGGGTGGT, ACCACCCGTCG)\n",
       " BioSequences.MerIterResult{BioSequences.BigDNAMer{11}}(12, GACGGGTGGTA, TACCACCCGTC)\n",
       " BioSequences.MerIterResult{BioSequences.BigDNAMer{11}}(13, ACGGGTGGTAT, ATACCACCCGT)\n",
       " ⋮\n",
       " BioSequences.MerIterResult{BioSequences.BigDNAMer{11}}(81, GTCTGAGGCGC, GCGCCTCAGAC)\n",
       " BioSequences.MerIterResult{BioSequences.BigDNAMer{11}}(82, TCTGAGGCGCT, AGCGCCTCAGA)\n",
       " BioSequences.MerIterResult{BioSequences.BigDNAMer{11}}(83, CTGAGGCGCTT, AAGCGCCTCAG)\n",
       " BioSequences.MerIterResult{BioSequences.BigDNAMer{11}}(84, TGAGGCGCTTT, AAAGCGCCTCA)\n",
       " BioSequences.MerIterResult{BioSequences.BigDNAMer{11}}(85, GAGGCGCTTTG, CAAAGCGCCTC)\n",
       " BioSequences.MerIterResult{BioSequences.BigDNAMer{11}}(86, AGGCGCTTTGC, GCAAAGCGCCT)\n",
       " BioSequences.MerIterResult{BioSequences.BigDNAMer{11}}(87, GGCGCTTTGCA, TGCAAAGCGCC)\n",
       " BioSequences.MerIterResult{BioSequences.BigDNAMer{11}}(88, GCGCTTTGCAG, CTGCAAAGCGC)\n",
       " BioSequences.MerIterResult{BioSequences.BigDNAMer{11}}(89, CGCTTTGCAGT, ACTGCAAAGCG)\n",
       " BioSequences.MerIterResult{BioSequences.BigDNAMer{11}}(90, GCTTTGCAGTG, CACTGCAAAGC)\n",
       " BioSequences.MerIterResult{BioSequences.BigDNAMer{11}}(91, CTTTGCAGTGA, TCACTGCAAAG)\n",
       " BioSequences.MerIterResult{BioSequences.BigDNAMer{11}}(92, TTTGCAGTGAG, CTCACTGCAAA)"
      ]
     },
     "execution_count": 257,
     "metadata": {},
     "output_type": "execute_result"
    }
   ],
   "source": [
    "mers = collect(sequence_mer_iterator)"
   ]
  },
  {
   "cell_type": "code",
   "execution_count": 258,
   "id": "53f675e5-8961-4f3a-a26d-cfe7a9f4465e",
   "metadata": {},
   "outputs": [
    {
     "data": {
      "text/plain": [
       "5-element Vector{NamedTuple{(:vertex, :orientation), Tuple{Int64, Bool}}}:\n",
       " (vertex = 84, orientation = 0)\n",
       " (vertex = 61, orientation = 0)\n",
       " (vertex = 33, orientation = 1)\n",
       " (vertex = 89, orientation = 0)\n",
       " (vertex = 13, orientation = 1)"
      ]
     },
     "execution_count": 258,
     "metadata": {},
     "output_type": "execute_result"
    }
   ],
   "source": [
    "starting_node = findnext(.!mer_is_solid, 1) - 1\n",
    "if starting_node <= 1\n",
    "    @error \"need to implement random backward walk\"\n",
    "else\n",
    "    current_sequence = map(mer -> mer_to_vertex_and_orientation(kmers, mer), mers[1:starting_node-1])\n",
    "end"
   ]
  },
  {
   "cell_type": "code",
   "execution_count": 259,
   "id": "ec689628-25ff-4d02-bcab-379ee78d99d7",
   "metadata": {},
   "outputs": [
    {
     "data": {
      "text/plain": [
       "18"
      ]
     },
     "execution_count": 259,
     "metadata": {},
     "output_type": "execute_result"
    }
   ],
   "source": [
    "ending_node = findnext(mer_is_solid, starting_node + 2)"
   ]
  },
  {
   "cell_type": "code",
   "execution_count": 263,
   "id": "95a1c303-0b05-42a4-a31a-307e81e50bdd",
   "metadata": {},
   "outputs": [
    {
     "data": {
      "text/plain": [
       "walk_the_nodes (generic function with 1 method)"
      ]
     },
     "execution_count": 263,
     "metadata": {},
     "output_type": "execute_result"
    }
   ],
   "source": [
    "function walk_the_nodes(graph, a, b)\n",
    "    kmers = collect(graph.vprops[v][:kmer] for v in Graphs.vertices(graph))\n",
    "    start_mer = mer_to_vertex_and_orientation(kmers, mers[a])\n",
    "    stop_mer = mer_to_vertex_and_orientation(kmers, mers[b])\n",
    "#     shortest_path = Graphs.a_star(observation_graph, start_mer.vertex, stop_mer.vertex)\n",
    "    V = Graphs.nv(observation_graph)\n",
    "    return shortest_paths = Graphs.yen_k_shortest_paths(observation_graph, start_mer.vertex, stop_mer.vertex, ones(V, V), 5)\n",
    "    @show shortest_paths\n",
    "    shortest_path = first(shortest_paths)\n",
    "    mer_walk = [start_mer]\n",
    "    for step in shortest_path\n",
    "        push!(mer_walk, take_a_step(last(mer_walk), step))\n",
    "    end\n",
    "    @assert last(mer_walk) == stop_mer\n",
    "    return mer_walk\n",
    "end"
   ]
  },
  {
   "cell_type": "code",
   "execution_count": 264,
   "id": "7a0708c3-f13e-4f37-be07-56e609516bd2",
   "metadata": {},
   "outputs": [
    {
     "data": {
      "text/plain": [
       "Graphs.YenState{Float64, Int64}([12.0], [[54, 60, 24, 46, 51, 11, 78, 15, 6, 76, 56, 70, 67]])"
      ]
     },
     "execution_count": 264,
     "metadata": {},
     "output_type": "execute_result"
    }
   ],
   "source": [
    "(starting_node == nothing) || (ending_node == nothing) && @error \"all done\"\n",
    "mer_walk = walk_the_nodes(observation_graph, starting_node, ending_node)\n",
    "# append!(current_sequence, mer_walk)\n",
    "# starting_node = findnext(.!mer_is_solid, length(current_sequence))\n",
    "# if starting_node != nothing\n",
    "#     starting_node -= 1\n",
    "#     solid_stretch = map(mer -> mer_to_vertex_and_orientation(kmers, mer), mers[length(current_sequence):starting_node-1])\n",
    "#     append!(current_sequence, solid_stretch)\n",
    "#     ending_node = findnext(mer_is_solid, starting_node + 2)\n",
    "# end\n",
    "# if (starting_node == nothing) || (ending_node == nothing)\n",
    "#     println(\"break!!\")\n",
    "# end"
   ]
  },
  {
   "cell_type": "code",
   "execution_count": 268,
   "id": "bb948ed9-a48a-44bb-9c68-f9a7ae6596cf",
   "metadata": {},
   "outputs": [
    {
     "data": {
      "text/plain": [
       "(vertex = 54, orientation = true)"
      ]
     },
     "execution_count": 268,
     "metadata": {},
     "output_type": "execute_result"
    }
   ],
   "source": [
    "mer_to_vertex_and_orientation(kmers, mers[starting_node])"
   ]
  },
  {
   "cell_type": "code",
   "execution_count": 269,
   "id": "4cd9eda3-976c-4d37-99c0-1c12c5afb563",
   "metadata": {},
   "outputs": [
    {
     "data": {
      "text/plain": [
       "(vertex = 67, orientation = false)"
      ]
     },
     "execution_count": 269,
     "metadata": {},
     "output_type": "execute_result"
    }
   ],
   "source": [
    "mer_to_vertex_and_orientation(kmers, mers[ending_node])"
   ]
  },
  {
   "cell_type": "code",
   "execution_count": 270,
   "id": "b7a78bf8-a3f6-4127-89f1-01ab0e9aa894",
   "metadata": {},
   "outputs": [
    {
     "data": {
      "text/plain": [
       "1-element Vector{Vector{Int64}}:\n",
       " [54, 60, 24, 46, 51, 11, 78, 15, 6, 76, 56, 70, 67]"
      ]
     },
     "execution_count": 270,
     "metadata": {},
     "output_type": "execute_result"
    }
   ],
   "source": [
    "mer_walk.paths"
   ]
  },
  {
   "cell_type": "code",
   "execution_count": 208,
   "id": "a9d5582a-902d-41c8-a32c-8875089100c2",
   "metadata": {},
   "outputs": [],
   "source": [
    "(starting_node == nothing) || (ending_node == nothing) && @error \"all done\"\n",
    "mer_walk = walk_the_nodes(observation_graph, starting_node, ending_node)\n",
    "append!(current_sequence, mer_walk)\n",
    "starting_node = findnext(.!mer_is_solid, length(current_sequence))\n",
    "if starting_node != nothing\n",
    "    starting_node -= 1\n",
    "    solid_stretch = map(mer -> mer_to_vertex_and_orientation(kmers, mer), mers[length(current_sequence):starting_node-1])\n",
    "    append!(current_sequence, solid_stretch)\n",
    "    ending_node = findnext(mer_is_solid, starting_node + 2)\n",
    "end\n",
    "if (starting_node == nothing) || (ending_node == nothing)\n",
    "    println(\"break!!\")\n",
    "end"
   ]
  },
  {
   "cell_type": "code",
   "execution_count": 209,
   "id": "5e4a6bae-a6ec-4c20-97c6-1b0c935756d9",
   "metadata": {},
   "outputs": [
    {
     "name": "stdout",
     "output_type": "stream",
     "text": [
      "break!!\n"
     ]
    }
   ],
   "source": [
    "(starting_node == nothing) || (ending_node == nothing) && @error \"all done\"\n",
    "mer_walk = walk_the_nodes(observation_graph, starting_node, ending_node)\n",
    "append!(current_sequence, mer_walk)\n",
    "starting_node = findnext(.!mer_is_solid, length(current_sequence))\n",
    "if starting_node != nothing\n",
    "    starting_node -= 1\n",
    "    solid_stretch = map(mer -> mer_to_vertex_and_orientation(kmers, mer), mers[length(current_sequence):starting_node-1])\n",
    "    append!(current_sequence, solid_stretch)\n",
    "    ending_node = findnext(mer_is_solid, starting_node + 2)\n",
    "end\n",
    "if (starting_node == nothing) || (ending_node == nothing)\n",
    "    println(\"break!!\")\n",
    "end"
   ]
  },
  {
   "cell_type": "code",
   "execution_count": 210,
   "id": "f502c537-d500-4db5-9490-9674978d77d2",
   "metadata": {},
   "outputs": [
    {
     "data": {
      "text/plain": [
       "92-element Vector{Union{Nothing, NamedTuple{(:vertex, :orientation), Tuple{Int64, Bool}}}}:\n",
       " (vertex = 84, orientation = false)\n",
       " (vertex = 61, orientation = false)\n",
       " (vertex = 33, orientation = true)\n",
       " (vertex = 89, orientation = false)\n",
       " (vertex = 13, orientation = true)\n",
       " (vertex = 54, orientation = true)\n",
       " nothing\n",
       " nothing\n",
       " nothing\n",
       " nothing\n",
       " nothing\n",
       " nothing\n",
       " nothing\n",
       " ⋮\n",
       " nothing\n",
       " nothing\n",
       " nothing\n",
       " nothing\n",
       " nothing\n",
       " nothing\n",
       " (vertex = 85, orientation = true)\n",
       " (vertex = 68, orientation = false)\n",
       " (vertex = 17, orientation = false)\n",
       " (vertex = 43, orientation = false)\n",
       " (vertex = 74, orientation = true)\n",
       " (vertex = 66, orientation = false)"
      ]
     },
     "execution_count": 210,
     "metadata": {},
     "output_type": "execute_result"
    }
   ],
   "source": [
    "observed_oriented_vertices = map(mer -> try mer_to_vertex_and_orientation(kmers, mer) catch nothing end, mers)"
   ]
  },
  {
   "cell_type": "code",
   "execution_count": 211,
   "id": "f5cc5d3e-7737-49ae-a1b4-c0f10fa015eb",
   "metadata": {},
   "outputs": [
    {
     "data": {
      "text/plain": [
       "92-element Vector{NamedTuple{(:vertex, :orientation), Tuple{Int64, Bool}}}:\n",
       " (vertex = 84, orientation = 0)\n",
       " (vertex = 61, orientation = 0)\n",
       " (vertex = 33, orientation = 1)\n",
       " (vertex = 89, orientation = 0)\n",
       " (vertex = 13, orientation = 1)\n",
       " (vertex = 54, orientation = 1)\n",
       " (vertex = 60, orientation = 1)\n",
       " (vertex = 24, orientation = 0)\n",
       " (vertex = 46, orientation = 0)\n",
       " (vertex = 51, orientation = 0)\n",
       " (vertex = 11, orientation = 0)\n",
       " (vertex = 78, orientation = 1)\n",
       " (vertex = 15, orientation = 1)\n",
       " ⋮\n",
       " (vertex = 82, orientation = 0)\n",
       " (vertex = 26, orientation = 0)\n",
       " (vertex = 4, orientation = 0)\n",
       " (vertex = 1, orientation = 0)\n",
       " (vertex = 41, orientation = 0)\n",
       " (vertex = 79, orientation = 0)\n",
       " (vertex = 85, orientation = 1)\n",
       " (vertex = 68, orientation = 0)\n",
       " (vertex = 17, orientation = 0)\n",
       " (vertex = 43, orientation = 0)\n",
       " (vertex = 74, orientation = 1)\n",
       " (vertex = 66, orientation = 0)"
      ]
     },
     "execution_count": 211,
     "metadata": {},
     "output_type": "execute_result"
    }
   ],
   "source": [
    "append!(current_sequence, observed_oriented_vertices[ending_node+1:end])"
   ]
  },
  {
   "cell_type": "code",
   "execution_count": 212,
   "id": "06db5df5-1f2d-41c6-9690-f55338180c05",
   "metadata": {},
   "outputs": [
    {
     "data": {
      "text/plain": [
       "92-element Vector{Any}:\n",
       " TTATACCGGCC\n",
       " TATACCGGCCG\n",
       " ATACCGGCCGA\n",
       " TACCGGCCGAC\n",
       " ACCGGCCGACG\n",
       " CCGGCCGACGG\n",
       " CGGCCGACGGC\n",
       " GGCCGACGGCT\n",
       " GCCGACGGCTG\n",
       " CCGACGGCTGG\n",
       " CGACGGCTGGT\n",
       " GACGGCTGGTA\n",
       " ACGGCTGGTAT\n",
       " ⋮\n",
       " GGTCTGGGCGC\n",
       " GTCTGGGCGCT\n",
       " TCTGGGCGCTT\n",
       " CTGGGCGCTTT\n",
       " TGGGCGCTTTG\n",
       " GGGCGCTTTGC\n",
       " GGCGCTTTGCA\n",
       " GCGCTTTGCAG\n",
       " CGCTTTGCAGT\n",
       " GCTTTGCAGTG\n",
       " CTTTGCAGTGA\n",
       " TTTGCAGTGAG"
      ]
     },
     "execution_count": 212,
     "metadata": {},
     "output_type": "execute_result"
    }
   ],
   "source": [
    "oriented_mers = []\n",
    "for oriented_vertex in current_sequence\n",
    "    kmer = observation_graph.vprops[oriented_vertex.vertex][:kmer]\n",
    "    if !oriented_vertex.orientation\n",
    "        kmer = BioSequences.reverse_complement(kmer)\n",
    "    end\n",
    "    push!(oriented_mers, kmer)\n",
    "end\n",
    "oriented_mers"
   ]
  },
  {
   "cell_type": "code",
   "execution_count": 213,
   "id": "538fa736-d115-4874-96d4-687a2a476d92",
   "metadata": {},
   "outputs": [
    {
     "data": {
      "text/plain": [
       "11nt DNA Sequence:\n",
       "TTATACCGGCC"
      ]
     },
     "execution_count": 213,
     "metadata": {},
     "output_type": "execute_result"
    }
   ],
   "source": [
    "seq = BioSequences.LongDNASeq(first(oriented_mers))"
   ]
  },
  {
   "cell_type": "code",
   "execution_count": 214,
   "id": "c36c929f-9387-4486-822d-c70f4247da9b",
   "metadata": {},
   "outputs": [
    {
     "name": "stdout",
     "output_type": "stream",
     "text": [
      "seq_tip = TATACCGGCC\n",
      "dst_tip = TTATACCGGC\n",
      "seq_tip = ATACCGGCCC\n",
      "dst_tip = TATACCGGCC\n",
      "seq_tip = TACCGGCCCG\n",
      "dst_tip = ATACCGGCCG\n",
      "seq_tip = ACCGGCCCGA\n",
      "dst_tip = TACCGGCCGA\n",
      "seq_tip = CCGGCCCGAC\n",
      "dst_tip = ACCGGCCGAC\n",
      "seq_tip = CGGCCCGACG\n",
      "dst_tip = CCGGCCGACG\n",
      "seq_tip = GGCCCGACGG\n",
      "dst_tip = CGGCCGACGG\n",
      "seq_tip = GCCCGACGGC\n",
      "dst_tip = GGCCGACGGC\n",
      "seq_tip = CCCGACGGCT\n",
      "dst_tip = GCCGACGGCT\n",
      "seq_tip = GGTATTCGAG\n",
      "dst_tip = TGGTATTCGA\n",
      "seq_tip = GTATTCGAGG\n",
      "dst_tip = GGTATTCGAG\n",
      "seq_tip = TATTCGAGGA\n",
      "dst_tip = GTATTCGAGA\n",
      "seq_tip = ATTCGAGGAA\n",
      "dst_tip = TATTCGAGAA\n",
      "seq_tip = TTCGAGGAAG\n",
      "dst_tip = ATTCGAGAAG\n",
      "seq_tip = TCGAGGAAGA\n",
      "dst_tip = TTCGAGAAGA\n",
      "seq_tip = CGAGGAAGAT\n",
      "dst_tip = TCGAGAAGAT\n",
      "seq_tip = GAGGAAGATA\n",
      "dst_tip = CGAGAAGATA\n",
      "seq_tip = AGGAAGATAG\n",
      "dst_tip = GAGAAGATAG\n",
      "seq_tip = GGAAGATAGT\n",
      "dst_tip = AGAAGATAGT\n",
      "seq_tip = ATGTTGAGCT\n",
      "dst_tip = TATGTTGAGC\n",
      "seq_tip = TGTTGAGCTT\n",
      "dst_tip = ATGTTGAGCT\n",
      "seq_tip = GTTGAGCTTG\n",
      "dst_tip = TGTTGAGCTG\n",
      "seq_tip = TTGAGCTTGC\n",
      "dst_tip = GTTGAGCTGC\n",
      "seq_tip = TGAGCTTGCG\n",
      "dst_tip = TTGAGCTGCG\n",
      "seq_tip = GAGCTTGCGG\n",
      "dst_tip = TGAGCTGCGG\n",
      "seq_tip = AGCTTGCGGT\n",
      "dst_tip = GAGCTGCGGT\n",
      "seq_tip = GCTTGCGGTC\n",
      "dst_tip = AGCTGCGGTC\n",
      "seq_tip = CTTGCGGTCC\n",
      "dst_tip = GCTGCGGTCC\n",
      "seq_tip = TTGCGGTCCA\n",
      "dst_tip = CTGCGGTCCA\n",
      "seq = TTATACCGGCCCGACGGCTGGTATTCGAGGAAGATAGTA…CTTGTAGGTGAGGCTCTGGTCTGGGCGCTTTGCAGTGAG\n"
     ]
    },
    {
     "name": "stderr",
     "output_type": "stream",
     "text": [
      "┌ Warning: seq_tip != dst_tip\n",
      "└ @ Main In[214]:8\n",
      "┌ Warning: seq_tip != dst_tip\n",
      "└ @ Main In[214]:8\n",
      "┌ Warning: seq_tip != dst_tip\n",
      "└ @ Main In[214]:8\n",
      "┌ Warning: seq_tip != dst_tip\n",
      "└ @ Main In[214]:8\n",
      "┌ Warning: seq_tip != dst_tip\n",
      "└ @ Main In[214]:8\n",
      "┌ Warning: seq_tip != dst_tip\n",
      "└ @ Main In[214]:8\n",
      "┌ Warning: seq_tip != dst_tip\n",
      "└ @ Main In[214]:8\n",
      "┌ Warning: seq_tip != dst_tip\n",
      "└ @ Main In[214]:8\n",
      "┌ Warning: seq_tip != dst_tip\n",
      "└ @ Main In[214]:8\n",
      "┌ Warning: seq_tip != dst_tip\n",
      "└ @ Main In[214]:8\n",
      "┌ Warning: seq_tip != dst_tip\n",
      "└ @ Main In[214]:8\n",
      "┌ Warning: seq_tip != dst_tip\n",
      "└ @ Main In[214]:8\n",
      "┌ Warning: seq_tip != dst_tip\n",
      "└ @ Main In[214]:8\n",
      "┌ Warning: seq_tip != dst_tip\n",
      "└ @ Main In[214]:8\n",
      "┌ Warning: seq_tip != dst_tip\n",
      "└ @ Main In[214]:8\n",
      "┌ Warning: seq_tip != dst_tip\n",
      "└ @ Main In[214]:8\n",
      "┌ Warning: seq_tip != dst_tip\n",
      "└ @ Main In[214]:8\n",
      "┌ Warning: seq_tip != dst_tip\n",
      "└ @ Main In[214]:8\n",
      "┌ Warning: seq_tip != dst_tip\n",
      "└ @ Main In[214]:8\n",
      "┌ Warning: seq_tip != dst_tip\n",
      "└ @ Main In[214]:8\n",
      "┌ Warning: seq_tip != dst_tip\n",
      "└ @ Main In[214]:8\n",
      "┌ Warning: seq_tip != dst_tip\n",
      "└ @ Main In[214]:8\n",
      "┌ Warning: seq_tip != dst_tip\n",
      "└ @ Main In[214]:8\n",
      "┌ Warning: seq_tip != dst_tip\n",
      "└ @ Main In[214]:8\n",
      "┌ Warning: seq_tip != dst_tip\n",
      "└ @ Main In[214]:8\n",
      "┌ Warning: seq_tip != dst_tip\n",
      "└ @ Main In[214]:8\n",
      "┌ Warning: seq_tip != dst_tip\n",
      "└ @ Main In[214]:8\n",
      "┌ Warning: seq_tip != dst_tip\n",
      "└ @ Main In[214]:8\n",
      "┌ Warning: seq_tip != dst_tip\n",
      "└ @ Main In[214]:8\n"
     ]
    },
    {
     "data": {
      "text/plain": [
       "103nt DNA Sequence:\n",
       "TTATACCGGCCCGACGGCTGGTATTCGAGGAAGATAGTA…CTTGTAGGTGAGGCTCTGGTCTGGGCGCTTTGCAGTGAG"
      ]
     },
     "execution_count": 214,
     "metadata": {},
     "output_type": "execute_result"
    }
   ],
   "source": [
    "seq = BioSequences.LongDNASeq(first(oriented_mers))\n",
    "for dst in oriented_mers\n",
    "#     @show seq\n",
    "#     @show dst\n",
    "    seq_tip = seq[end-length(dst)+2:end]\n",
    "    dst_tip = BioSequences.LongDNASeq(dst)[1:end-1]\n",
    "    if seq_tip != dst_tip\n",
    "        @warn \"seq_tip != dst_tip\"\n",
    "        @show seq_tip\n",
    "        @show dst_tip\n",
    "    end\n",
    "    push!(seq, dst[end])\n",
    "end\n",
    "@show seq"
   ]
  },
  {
   "cell_type": "code",
   "execution_count": null,
   "id": "52e1b7b7-fdf1-4914-9d7a-97e101ecdfb7",
   "metadata": {},
   "outputs": [],
   "source": [
    "Mycelia.oriented_path_to_sequence(observation_graph, current_sequence)"
   ]
  },
  {
   "cell_type": "code",
   "execution_count": null,
   "id": "58293876-770b-4713-bbd1-238a34b3716f",
   "metadata": {},
   "outputs": [],
   "source": []
  }
 ],
 "metadata": {
  "kernelspec": {
   "display_name": "Julia 1.6.1",
   "language": "julia",
   "name": "julia-1.6"
  },
  "language_info": {
   "file_extension": ".jl",
   "mimetype": "application/julia",
   "name": "julia",
   "version": "1.6.1"
  }
 },
 "nbformat": 4,
 "nbformat_minor": 5
}
