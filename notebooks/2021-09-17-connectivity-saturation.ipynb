{
 "cells": [
  {
   "cell_type": "code",
   "execution_count": 1,
   "id": "6ac73c46-51c9-4fea-845f-fb17ce8d83a2",
   "metadata": {},
   "outputs": [
    {
     "data": {
      "text/plain": [
       "\"/home/jovyan/2021-09-17-connectivity-saturation\""
      ]
     },
     "execution_count": 1,
     "metadata": {},
     "output_type": "execute_result"
    }
   ],
   "source": [
    "DATE = \"2021-09-17\"\n",
    "TASK = \"connectivity-saturation\"\n",
    "DIR = mkpath(\"$(homedir())/$(DATE)-$(TASK)\")"
   ]
  },
  {
   "cell_type": "code",
   "execution_count": 2,
   "id": "38cb383f-3696-4b4b-a732-9a2059e0681a",
   "metadata": {},
   "outputs": [],
   "source": [
    "import Pkg\n",
    "pkgs = [\n",
    "    \"BioAlignments\",\n",
    "    \"BioSequences\",\n",
    "    \"Clustering\",\n",
    "    \"CodecZlib\",\n",
    "#     \"Colors\",\n",
    "#     \"Combinatorics\",\n",
    "    \"DataFrames\",\n",
    "    \"DataStructures\",\n",
    "    \"Dates\",\n",
    "#     \"DelimitedFiles\",\n",
    "    \"Distances\",\n",
    "#     \"Distributions\",\n",
    "#     \"EzXML\",\n",
    "    \"FASTX\",\n",
    "#     \"GFF3\",\n",
    "    \"GLM\",\n",
    "    \"GraphPlot\",\n",
    "#     \"HTTP\",\n",
    "#     \"Impute\",\n",
    "#     \"JSON\",\n",
    "    \"Graphs\",\n",
    "    \"LsqFit\",\n",
    "#     \"LSHFunctions\",\n",
    "#     \"Measures\",\n",
    "    \"MetaGraphs\",\n",
    "    \"https://github.com/cjprybol/Mycelia.git\",\n",
    "#     \"NumericIO\",\n",
    "    \"OnlineStats\",\n",
    "#     \"PlotlyJS\",\n",
    "#     \"Plots\",\n",
    "    \"Primes\",\n",
    "#     \"Printf\",\n",
    "    \"ProgressMeter\",\n",
    "    \"Random\",\n",
    "    \"Revise\",\n",
    "    \"SparseArrays\",\n",
    "    \"Statistics\",\n",
    "    \"StatsBase\",\n",
    "    \"StatsPlots\",\n",
    "#     \"StringDistances\",\n",
    "    \"uCSV\",\n",
    "#     \"XLSX\",\n",
    "]\n",
    "\n",
    "unregistered_packages = filter(pkg -> occursin(r\"(^https|git$)\", pkg), pkgs)\n",
    "registered_packages = setdiff(pkgs, unregistered_packages)\n",
    "\n",
    "for pkg in registered_packages\n",
    "    try\n",
    "        eval(Meta.parse(\"import $(pkg)\"))\n",
    "    catch\n",
    "        Pkg.add(pkg)\n",
    "        Pkg.build(pkg)\n",
    "        eval(Meta.parse(\"import $(pkg)\"))\n",
    "    end\n",
    "end\n",
    "\n",
    "for pkg_url in unregistered_packages\n",
    "    pkg_name = replace(basename(pkg_url), \".git\" => \"\")\n",
    "    try\n",
    "        eval(Meta.parse(\"import $(pkg_name)\"))\n",
    "    catch\n",
    "        Pkg.develop(url=pkg_url)\n",
    "        Pkg.build(pkg_name)\n",
    "        eval(Meta.parse(\"import $(pkg_name)\"))\n",
    "    end\n",
    "end"
   ]
  },
  {
   "cell_type": "code",
   "execution_count": 3,
   "id": "ea19d6bc-8d84-4d8a-8e0c-bd00614d6dfb",
   "metadata": {},
   "outputs": [
    {
     "data": {
      "text/plain": [
       "kmer_index_and_orientation_to_kmer (generic function with 1 method)"
      ]
     },
     "execution_count": 3,
     "metadata": {},
     "output_type": "execute_result"
    }
   ],
   "source": [
    "function kmer_index_and_orientation_to_kmer(graph, kmer_index, orientation)\n",
    "    kmer = graph.vprops[kmer_index][:kmer]\n",
    "    if !orientation\n",
    "        kmer = BioSequences.reverse_complement(kmer)\n",
    "    end\n",
    "    return kmer\n",
    "end"
   ]
  },
  {
   "cell_type": "code",
   "execution_count": 4,
   "id": "ab79def6-1e00-4b75-b86f-e16c4aefb35c",
   "metadata": {},
   "outputs": [
    {
     "data": {
      "text/plain": [
       "determine_edge_probabilities (generic function with 1 method)"
      ]
     },
     "execution_count": 4,
     "metadata": {},
     "output_type": "execute_result"
    }
   ],
   "source": [
    "function determine_edge_probabilities(graph)\n",
    "    nv = Graphs.nv(graph)\n",
    "    edge_probabilities = SparseArrays.spzeros(nv, nv)\n",
    "    for v in 1:nv\n",
    "        neighbors = Graphs.neighbors(graph, v)\n",
    "        @assert issorted(neighbors)\n",
    "        likelihoods = zeros(length(neighbors))\n",
    "        for (i, neighbor) in enumerate(neighbors)\n",
    "            if v <= neighbor\n",
    "                edge = Graphs.Edge(v, neighbor)\n",
    "            else\n",
    "                edge = Graphs.Edge(neighbor, v)\n",
    "            end\n",
    "            @assert Graphs.has_edge(graph, edge)\n",
    "            likelihoods[i] = graph.eprops[edge][:count]     \n",
    "        end\n",
    "        likelihoods = likelihoods ./ sum(likelihoods)\n",
    "#         @show likelihoods\n",
    "#         @show neighbors\n",
    "        for (neighbor, likelihood) in zip(neighbors, likelihoods)\n",
    "            edge_probabilities[v, neighbor] = likelihood\n",
    "        end\n",
    "    end\n",
    "    \n",
    "    for source in 1:size(edge_probabilities, 1)\n",
    "        destinations = findall(edge_probabilities[source, :] .> 0)\n",
    "        destination_counts = [graph.vprops[dest][:count] for dest in destinations]\n",
    "        destination_likelihoods = destination_counts ./ sum(destination_counts)\n",
    "        for (dest, likelihood) in zip(destinations, destination_likelihoods)\n",
    "            edge_probabilities[source, dest] *= likelihood\n",
    "        end\n",
    "        edge_probabilities[source, :] ./= sum(edge_probabilities[source, :])\n",
    "        @assert abs(1-sum(edge_probabilities[source, :])) <= eps(Float64)\n",
    "    end\n",
    "    \n",
    "    return edge_probabilities\n",
    "end"
   ]
  },
  {
   "cell_type": "code",
   "execution_count": 5,
   "id": "a5e1ffd6-44f8-4dee-b381-f0ca479cf91d",
   "metadata": {},
   "outputs": [
    {
     "data": {
      "text/plain": [
       "orient_path (generic function with 1 method)"
      ]
     },
     "execution_count": 5,
     "metadata": {},
     "output_type": "execute_result"
    }
   ],
   "source": [
    "function orient_path(graph, kmers, path, opening_orientation, opening_kmer, closing_orientation)\n",
    "    vertices = path\n",
    "    path_orientations = [opening_orientation]\n",
    "    path_kmers = [opening_kmer]\n",
    "    @show opening_orientation\n",
    "    for (i, vertex) in enumerate(vertices[2:end])\n",
    "        @show i, vertex, last(path_orientations)\n",
    "        viable_neighbors = typeof(opening_kmer)[]\n",
    "        viable_neighbor = nothing\n",
    "        viable_orientations = Bool[]\n",
    "        viable_orientation = nothing\n",
    "        for neighbor in BioSequences.neighbors(last(path_kmers))\n",
    "            @show \"considering going from $(last(path_kmers)) to $(neighbor)\"\n",
    "#             @show \"considering going from $(last(path_kmers)) to $(neighbor)\"\n",
    "            canonical_neighbor = BioSequences.canonical(neighbor)\n",
    "            canonical_neighbor_index_range = searchsorted(kmers, canonical_neighbor)\n",
    "#             @show canonical_neighbor_index_range\n",
    "            if length(canonical_neighbor_index_range) == 1\n",
    "                @show canonical_neighbor_index = first(canonical_neighbor_index_range)\n",
    "                if canonical_neighbor_index == vertex\n",
    "                    @show \"hit, selecting $neighbor\"\n",
    "                    viable_neighbor = neighbor\n",
    "                    viable_orientation = neighbor == canonical_neighbor\n",
    "                end\n",
    "            end\n",
    "        end\n",
    "        if (viable_neighbor != nothing) && (viable_orientation != nothing)\n",
    "            push!(path_kmers, viable_neighbor)\n",
    "            push!(path_orientations, viable_orientation)\n",
    "        else\n",
    "            return nothing\n",
    "            # not a viable path, need to look towards the next miss\n",
    "        end\n",
    "    end\n",
    "    return vertices, path_orientations, path_kmers\n",
    "end"
   ]
  },
  {
   "cell_type": "code",
   "execution_count": 6,
   "id": "8b96ea5a-e81b-445a-abb9-ab3c28e494e3",
   "metadata": {},
   "outputs": [
    {
     "data": {
      "text/plain": [
       "take_a_walk (generic function with 1 method)"
      ]
     },
     "execution_count": 6,
     "metadata": {},
     "output_type": "execute_result"
    }
   ],
   "source": [
    "function take_a_walk(graph, edge_likelihoods, kmers, kmer, walk_length)\n",
    "    walk = [kmer]\n",
    "    current_kmer_indices = searchsorted(kmers, BioSequences.canonical(last(walk)))\n",
    "    @assert length(current_kmer_indices) == 1\n",
    "    current_kmer_index = first(current_kmer_indices)\n",
    "    while length(walk) < walk_length\n",
    "        viable_neighbors = Tuple{Int, Bool}[]\n",
    "        for neighbor in BioSequences.neighbors(kmer)\n",
    "            canonical_neighbor = BioSequences.canonical(neighbor)\n",
    "            neighbor_is_canonical = neighbor == canonical_neighbor\n",
    "            neighbor_vertex_range = searchsorted(kmers, canonical_neighbor)\n",
    "            if !isempty(neighbor_vertex_range)\n",
    "                neighbor_vertex = first(neighbor_vertex_range)\n",
    "                if Graphs.has_edge(graph, current_kmer_index, neighbor_vertex)\n",
    "                    push!(viable_neighbors, (neighbor_vertex, neighbor_is_canonical))\n",
    "                end\n",
    "            end\n",
    "        end\n",
    "        if isempty(viable_neighbors)\n",
    "            return walk\n",
    "        elseif length(viable_neighbors) == 1\n",
    "            chosen_neighbor = first(viable_neighbors)\n",
    "        else\n",
    "            viable_neighbor_indices = first.(viable_neighbors)\n",
    "            step_likelihoods = StatsBase.weights(edge_likelihoods[current_kmer_index, viable_neighbor_indices])\n",
    "            chosen_neighbor = StatsBase.sample(viable_neighbors, step_likelihoods)\n",
    "        end\n",
    "        kmer = kmer_index_and_orientation_to_kmer(graph, chosen_neighbor...)\n",
    "        push!(walk, kmer)\n",
    "        current_kmer_indices = searchsorted(kmers, BioSequences.canonical(last(walk)))\n",
    "        @assert length(current_kmer_indices) == 1\n",
    "        current_kmer_index = first(current_kmer_indices)\n",
    "    end\n",
    "    return walk\n",
    "end"
   ]
  },
  {
   "cell_type": "code",
   "execution_count": 7,
   "id": "2904784d-e5ae-4755-8007-72481227fa40",
   "metadata": {},
   "outputs": [
    {
     "data": {
      "text/plain": [
       "sort_fastq"
      ]
     },
     "execution_count": 7,
     "metadata": {},
     "output_type": "execute_result"
    }
   ],
   "source": [
    "\"\"\"\n",
    "    sort_fastq(input_fastq, output_fastq)\n",
    "\n",
    "This turns a 4-line FASTQ entry into a single tab separated line,\n",
    "adds a column with the length of each read, passes it to Unix sort,\n",
    "removes the length column, and converts it back into a FASTQ file.\n",
    "\n",
    "sorts longest to shortest!!\n",
    "\n",
    "http://thegenomefactory.blogspot.com/2012/11/sorting-fastq-files-by-sequence-length.html\n",
    "\"\"\"\n",
    "function sort_fastq(input_fastq, output_fastq=\"\")\n",
    "    \n",
    "    if endswith(input_fastq, \".gz\")\n",
    "        p = pipeline(\n",
    "                `gzip -dc $input_fastq`,\n",
    "                `paste - - - -`,\n",
    "                `perl -ne '@x=split m/\\t/; unshift @x, length($x[1]); print join \"\\t\",@x;'`,\n",
    "                `sort -nr`,\n",
    "                `cut -f2-`,\n",
    "                `tr \"\\t\" \"\\n\"`,\n",
    "                `gzip`\n",
    "                )\n",
    "    else\n",
    "        p = pipeline(\n",
    "                `cat $input_fastq`,\n",
    "                `paste - - - -`,\n",
    "                `perl -ne '@x=split m/\\t/; unshift @x, length($x[1]); print join \"\\t\",@x;'`,\n",
    "                `sort -nr`,\n",
    "                `cut -f2-`,\n",
    "                `tr \"\\t\" \"\\n\"`\n",
    "                )\n",
    "    end\n",
    "    run(pipeline(p, output_fastq))\n",
    "    return output_fastq\n",
    "end"
   ]
  },
  {
   "cell_type": "code",
   "execution_count": 8,
   "id": "3c64bb5f-0012-42f8-83a8-231f5aadcde3",
   "metadata": {},
   "outputs": [
    {
     "data": {
      "text/plain": [
       "count_reads (generic function with 1 method)"
      ]
     },
     "execution_count": 8,
     "metadata": {},
     "output_type": "execute_result"
    }
   ],
   "source": [
    "function count_reads(fastq_file)\n",
    "    @info \"determing # of reads in fastq file\"\n",
    "    n_reads = 0\n",
    "    for record in Mycelia.open_fastx(fastq_file)\n",
    "        n_reads += 1\n",
    "    end\n",
    "    @show n_reads\n",
    "    return n_reads\n",
    "end"
   ]
  },
  {
   "cell_type": "code",
   "execution_count": 9,
   "id": "37345f79-0ed2-44cc-ad7d-c5bea554af04",
   "metadata": {},
   "outputs": [
    {
     "data": {
      "text/plain": [
       "determine_read_lengths (generic function with 1 method)"
      ]
     },
     "execution_count": 9,
     "metadata": {},
     "output_type": "execute_result"
    }
   ],
   "source": [
    "function determine_read_lengths(fastq_file; total_reads = Inf)\n",
    "    if total_reads == Inf\n",
    "        total_reads = count_reads(fastq_file)\n",
    "    end\n",
    "    read_lengths = zeros(Int, total_reads)\n",
    "    @info \"determining read lengths\"\n",
    "    p = ProgressMeter.Progress(total_reads, 1)\n",
    "    for (i, record) in enumerate(Mycelia.open_fastx(fastq_file))\n",
    "#         push!(read_lengths, length(FASTX.sequence(record)))\n",
    "        read_lengths[i] = length(FASTX.sequence(record))\n",
    "        ProgressMeter.next!(p)\n",
    "    end\n",
    "    return read_lengths\n",
    "end"
   ]
  },
  {
   "cell_type": "code",
   "execution_count": 10,
   "id": "67f8f745-914f-4c94-a5be-86c39628e2bc",
   "metadata": {},
   "outputs": [
    {
     "data": {
      "text/plain": [
       "max_canonical_kmers (generic function with 1 method)"
      ]
     },
     "execution_count": 10,
     "metadata": {},
     "output_type": "execute_result"
    }
   ],
   "source": [
    "function max_canonical_kmers(kmer_type)\n",
    "    k_size = last(kmer_type.parameters)\n",
    "    # we only consider canonical kmers so cut in 1/2\n",
    "    max_canonical_kmers = Int(4^k_size / 2)\n",
    "    return max_canonical_kmers\n",
    "end"
   ]
  },
  {
   "cell_type": "code",
   "execution_count": 37,
   "id": "0e116b34-4490-4846-97c5-04e473d47f5e",
   "metadata": {},
   "outputs": [
    {
     "data": {
      "text/plain": [
       "assess_kmer_saturation (generic function with 1 method)"
      ]
     },
     "execution_count": 37,
     "metadata": {},
     "output_type": "execute_result"
    }
   ],
   "source": [
    "function assess_kmer_saturation(fastq_file, kmer_type; kmers_to_assess=Inf, power=10)\n",
    "    canonical_kmers = Set{kmer_type}()\n",
    "    \n",
    "    max_possible_kmers = max_canonical_kmers(kmer_type)\n",
    "    \n",
    "    if kmers_to_assess == Inf\n",
    "        kmers_to_assess = max_possible_kmers\n",
    "    end\n",
    "    \n",
    "    sampling_points = Int[0]\n",
    "    i = 0\n",
    "    while power^i <= kmers_to_assess\n",
    "        push!(sampling_points, power^i)\n",
    "        i += 1\n",
    "    end\n",
    "    \n",
    "    unique_kmer_counts = zeros(Int, length(sampling_points))\n",
    "    \n",
    "    if length(sampling_points) < 3\n",
    "        @info \"increase the # of reads analyzed or decrease the power to acquire more data points\"\n",
    "        return (;sampling_points, unique_kmer_counts)\n",
    "    end\n",
    "    \n",
    "    p = ProgressMeter.Progress(kmers_to_assess, 1)\n",
    "    \n",
    "    kmers_assessed = 0\n",
    "    for record in Mycelia.open_fastx(fastq_file)\n",
    "        for kmer in BioSequences.each(kmer_type, FASTX.sequence(record))\n",
    "            unique_kmers_count = length(canonical_kmers)\n",
    "            if (kmers_assessed == kmers_to_assess) || (unique_kmers_count == max_possible_kmers)\n",
    "                sampling_points = vcat(filter(s -> s < kmers_assessed, sampling_points), [kmers_assessed])\n",
    "                unique_kmer_counts = vcat(unique_kmer_counts[1:length(sampling_points)-1], [unique_kmers_count])\n",
    "                return (\n",
    "                    sampling_points = sampling_points,\n",
    "                    unique_kmer_counts = unique_kmer_counts,\n",
    "                    read_entire_file = false)\n",
    "            elseif rem(log(power, kmers_assessed), 1) == 0.0\n",
    "                i = findfirst(sampling_points .== kmers_assessed)\n",
    "                unique_kmer_counts[i] = unique_kmers_count\n",
    "                percent_saturation = round(unique_kmers_count/max_possible_kmers, sigdigits=5) * 100\n",
    "            end\n",
    "            canonical_kmer = kmer.fw < kmer.bw ? kmer.fw : kmer.bw\n",
    "            push!(canonical_kmers, canonical_kmer)\n",
    "            kmers_assessed += 1\n",
    "            ProgressMeter.next!(p)\n",
    "        end\n",
    "    end\n",
    "    sampling_points = vcat(filter(s -> s < kmers_assessed, sampling_points), [kmers_assessed])\n",
    "    unique_kmer_counts = vcat(unique_kmer_counts[1:length(sampling_points)-1], [length(canonical_kmers)])\n",
    "    return (\n",
    "        sampling_points = sampling_points,\n",
    "        unique_kmer_counts = unique_kmer_counts,\n",
    "        read_entire_file = true)\n",
    "end"
   ]
  },
  {
   "cell_type": "code",
   "execution_count": 12,
   "id": "e4dfd6a1-19bf-440c-bc8b-40cb126c3e53",
   "metadata": {},
   "outputs": [
    {
     "data": {
      "text/plain": [
       "add_edge_to_graph (generic function with 1 method)"
      ]
     },
     "execution_count": 12,
     "metadata": {},
     "output_type": "execute_result"
    }
   ],
   "source": [
    "function add_edge_to_graph(graph, edge_mer, kmers)\n",
    "    edge = BioSequences.LongDNASeq(edge_mer.fw)\n",
    "#     canonical_src = BioSequences.DNAMer{k}(BioSequences.canonical!(edge[1:end-1]))\n",
    "#     canonical_dst = BioSequences.DNAMer{k}(BioSequences.canonical!(edge[2:end]))\n",
    "\n",
    "    canonical_src = BioSequences.canonical(BioSequences.DNAMer{k}(edge[1:end-1]))\n",
    "    \n",
    "    src_index_range = searchsorted(kmers, canonical_src)\n",
    "    if isempty(src_index_range)\n",
    "        return\n",
    "    else\n",
    "        @assert length(src_index_range) == 1\n",
    "    end\n",
    "    src_index = first(src_index_range)\n",
    "\n",
    "    canonical_dst = BioSequences.canonical(BioSequences.DNAMer{k}(edge[2:end]))\n",
    "    dst_index_range = searchsorted(kmers, canonical_dst)\n",
    "    if isempty(dst_index_range)\n",
    "        return\n",
    "    else\n",
    "        @assert length(dst_index_range) == 1\n",
    "    end\n",
    "    dst_index = first(dst_index_range)\n",
    "    graph_edge = Graphs.Edge(src_index, dst_index)\n",
    "    Graphs.add_edge!(graph, graph_edge)\n",
    "end"
   ]
  },
  {
   "cell_type": "code",
   "execution_count": 13,
   "id": "33baf966-db08-4635-85ec-6abce8051b18",
   "metadata": {},
   "outputs": [
    {
     "data": {
      "text/plain": [
       "calculate_v (generic function with 1 method)"
      ]
     },
     "execution_count": 13,
     "metadata": {},
     "output_type": "execute_result"
    }
   ],
   "source": [
    "# Michaelis–Menten\n",
    "function calculate_v(s,p)\n",
    "    vmax = p[1]\n",
    "    km = p[2]\n",
    "    v = (vmax .* s) ./ (km .+ s)\n",
    "    return v\n",
    "end"
   ]
  },
  {
   "cell_type": "code",
   "execution_count": 14,
   "id": "b8d05dd2-004d-4f51-9686-57462fa97f57",
   "metadata": {},
   "outputs": [],
   "source": [
    "# read in reads from pacbio run"
   ]
  },
  {
   "cell_type": "code",
   "execution_count": 43,
   "id": "c6d75091-3110-4d84-aefb-c2b0810c3452",
   "metadata": {},
   "outputs": [
    {
     "data": {
      "text/plain": [
       "\"/home/jovyan/2021-09-17-connectivity-saturation/reads.fastq\""
      ]
     },
     "execution_count": 43,
     "metadata": {},
     "output_type": "execute_result"
    }
   ],
   "source": [
    "# fastq_directory = \"$(homedir())/pacbio-test-data\"\n",
    "# fastq_file = first(readdir(fastq_directory, join=true))\n",
    "# fastq_file = \"$(homedir())/pacbio-test-data/b002225.subreads.fastq.gz\"\n",
    "fastq_file = \"$(DIR)/reads.fastq\""
   ]
  },
  {
   "cell_type": "code",
   "execution_count": 44,
   "id": "118a0ea7-4d59-4808-82c5-cd5f5a6e52b0",
   "metadata": {},
   "outputs": [],
   "source": [
    "# sort fastq file from shortest to longest reads"
   ]
  },
  {
   "cell_type": "code",
   "execution_count": 45,
   "id": "834133f6-9bcc-45ef-96c4-6f6abf6cf484",
   "metadata": {},
   "outputs": [],
   "source": [
    "L = 10_000\n",
    "C = 300\n",
    "Random.seed!(L*C)\n",
    "genome = BioSequences.randdnaseq(L)\n",
    "open(\"$(DIR)/reads.fastq\", \"w\") do io\n",
    "    fastx_io = FASTX.FASTQ.Writer(io)\n",
    "    for i in 1:C\n",
    "        observation = Mycelia.observe(genome, error_rate = .1)\n",
    "        record = FASTX.FASTQ.Record(\n",
    "            Random.randstring(64),\n",
    "            string(hash(observation)),\n",
    "            observation,\n",
    "            fill(UInt8(30), length(observation))\n",
    "            )\n",
    "        write(fastx_io, record)\n",
    "    end\n",
    "end"
   ]
  },
  {
   "cell_type": "code",
   "execution_count": 22,
   "id": "cfc2bfc8-642d-4663-ab14-9b2943bd2392",
   "metadata": {},
   "outputs": [
    {
     "data": {
      "text/plain": [
       "2"
      ]
     },
     "execution_count": 22,
     "metadata": {},
     "output_type": "execute_result"
    }
   ],
   "source": [
    "power = 2"
   ]
  },
  {
   "cell_type": "code",
   "execution_count": 38,
   "id": "9b6e29f2-117a-49a4-9df6-c7df45e299e7",
   "metadata": {},
   "outputs": [
    {
     "name": "stderr",
     "output_type": "stream",
     "text": [
      "\u001b[32mProgress:  25%|██████████▍                              |  ETA: 0:00:06\u001b[39m"
     ]
    },
    {
     "data": {
      "image/svg+xml": [
       "<?xml version=\"1.0\" encoding=\"utf-8\"?>\n",
       "<svg xmlns=\"http://www.w3.org/2000/svg\" xmlns:xlink=\"http://www.w3.org/1999/xlink\" width=\"800\" height=\"400\" viewBox=\"0 0 3200 1600\">\n",
       "<defs>\n",
       "  <clipPath id=\"clip550\">\n",
       "    <rect x=\"0\" y=\"0\" width=\"3200\" height=\"1600\"/>\n",
       "  </clipPath>\n",
       "</defs>\n",
       "<path clip-path=\"url(#clip550)\" d=\"\n",
       "M0 1600 L3200 1600 L3200 0 L0 0  Z\n",
       "  \" fill=\"#ffffff\" fill-rule=\"evenodd\" fill-opacity=\"1\"/>\n",
       "<defs>\n",
       "  <clipPath id=\"clip551\">\n",
       "    <rect x=\"640\" y=\"0\" width=\"2241\" height=\"1600\"/>\n",
       "  </clipPath>\n",
       "</defs>\n",
       "<path clip-path=\"url(#clip550)\" d=\"\n",
       "M364.751 1434.49 L2224.33 1434.49 L2224.33 108.352 L364.751 108.352  Z\n",
       "  \" fill=\"#ffffff\" fill-rule=\"evenodd\" fill-opacity=\"1\"/>\n",
       "<defs>\n",
       "  <clipPath id=\"clip552\">\n",
       "    <rect x=\"364\" y=\"108\" width=\"1861\" height=\"1327\"/>\n",
       "  </clipPath>\n",
       "</defs>\n",
       "<polyline clip-path=\"url(#clip552)\" style=\"stroke:#000000; stroke-linecap:butt; stroke-linejoin:round; stroke-width:2; stroke-opacity:0.1; fill:none\" points=\"\n",
       "  417.381,1434.49 417.381,108.352 \n",
       "  \"/>\n",
       "<polyline clip-path=\"url(#clip552)\" style=\"stroke:#000000; stroke-linecap:butt; stroke-linejoin:round; stroke-width:2; stroke-opacity:0.1; fill:none\" points=\"\n",
       "  1000.61,1434.49 1000.61,108.352 \n",
       "  \"/>\n",
       "<polyline clip-path=\"url(#clip552)\" style=\"stroke:#000000; stroke-linecap:butt; stroke-linejoin:round; stroke-width:2; stroke-opacity:0.1; fill:none\" points=\"\n",
       "  1583.83,1434.49 1583.83,108.352 \n",
       "  \"/>\n",
       "<polyline clip-path=\"url(#clip552)\" style=\"stroke:#000000; stroke-linecap:butt; stroke-linejoin:round; stroke-width:2; stroke-opacity:0.1; fill:none\" points=\"\n",
       "  2167.05,1434.49 2167.05,108.352 \n",
       "  \"/>\n",
       "<polyline clip-path=\"url(#clip550)\" style=\"stroke:#000000; stroke-linecap:butt; stroke-linejoin:round; stroke-width:4; stroke-opacity:1; fill:none\" points=\"\n",
       "  364.751,1434.49 2224.33,1434.49 \n",
       "  \"/>\n",
       "<polyline clip-path=\"url(#clip550)\" style=\"stroke:#000000; stroke-linecap:butt; stroke-linejoin:round; stroke-width:4; stroke-opacity:1; fill:none\" points=\"\n",
       "  417.381,1434.49 417.381,1415.59 \n",
       "  \"/>\n",
       "<polyline clip-path=\"url(#clip550)\" style=\"stroke:#000000; stroke-linecap:butt; stroke-linejoin:round; stroke-width:4; stroke-opacity:1; fill:none\" points=\"\n",
       "  1000.61,1434.49 1000.61,1415.59 \n",
       "  \"/>\n",
       "<polyline clip-path=\"url(#clip550)\" style=\"stroke:#000000; stroke-linecap:butt; stroke-linejoin:round; stroke-width:4; stroke-opacity:1; fill:none\" points=\"\n",
       "  1583.83,1434.49 1583.83,1415.59 \n",
       "  \"/>\n",
       "<polyline clip-path=\"url(#clip550)\" style=\"stroke:#000000; stroke-linecap:butt; stroke-linejoin:round; stroke-width:4; stroke-opacity:1; fill:none\" points=\"\n",
       "  2167.05,1434.49 2167.05,1415.59 \n",
       "  \"/>\n",
       "<path clip-path=\"url(#clip550)\" d=\"M417.381 1470.08 Q413.77 1470.08 411.941 1473.64 Q410.136 1477.18 410.136 1484.31 Q410.136 1491.42 411.941 1494.99 Q413.77 1498.53 417.381 1498.53 Q421.015 1498.53 422.821 1494.99 Q424.649 1491.42 424.649 1484.31 Q424.649 1477.18 422.821 1473.64 Q421.015 1470.08 417.381 1470.08 M417.381 1466.37 Q423.191 1466.37 426.247 1470.98 Q429.325 1475.56 429.325 1484.31 Q429.325 1493.04 426.247 1497.65 Q423.191 1502.23 417.381 1502.23 Q411.571 1502.23 408.492 1497.65 Q405.437 1493.04 405.437 1484.31 Q405.437 1475.56 408.492 1470.98 Q411.571 1466.37 417.381 1466.37 Z\" fill=\"#000000\" fill-rule=\"evenodd\" fill-opacity=\"1\" /><path clip-path=\"url(#clip550)\" d=\"M908.04 1519.16 L915.679 1519.16 L915.679 1492.79 L907.369 1494.46 L907.369 1490.2 L915.632 1488.53 L920.308 1488.53 L920.308 1519.16 L927.947 1519.16 L927.947 1523.09 L908.04 1523.09 L908.04 1519.16 Z\" fill=\"#000000\" fill-rule=\"evenodd\" fill-opacity=\"1\" /><path clip-path=\"url(#clip550)\" d=\"M937.392 1517.22 L942.276 1517.22 L942.276 1523.09 L937.392 1523.09 L937.392 1517.22 Z\" fill=\"#000000\" fill-rule=\"evenodd\" fill-opacity=\"1\" /><path clip-path=\"url(#clip550)\" d=\"M962.461 1491.61 Q958.85 1491.61 957.021 1495.18 Q955.216 1498.72 955.216 1505.85 Q955.216 1512.96 957.021 1516.52 Q958.85 1520.06 962.461 1520.06 Q966.095 1520.06 967.901 1516.52 Q969.729 1512.96 969.729 1505.85 Q969.729 1498.72 967.901 1495.18 Q966.095 1491.61 962.461 1491.61 M962.461 1487.91 Q968.271 1487.91 971.327 1492.52 Q974.405 1497.1 974.405 1505.85 Q974.405 1514.58 971.327 1519.18 Q968.271 1523.77 962.461 1523.77 Q956.651 1523.77 953.572 1519.18 Q950.517 1514.58 950.517 1505.85 Q950.517 1497.1 953.572 1492.52 Q956.651 1487.91 962.461 1487.91 Z\" fill=\"#000000\" fill-rule=\"evenodd\" fill-opacity=\"1\" /><path clip-path=\"url(#clip550)\" d=\"M1010.79 1497.63 L1000.22 1508.26 L1010.79 1518.84 L1008.04 1521.64 L997.414 1511.01 L986.789 1521.64 L984.058 1518.84 L994.614 1508.26 L984.058 1497.63 L986.789 1494.83 L997.414 1505.46 L1008.04 1494.83 L1010.79 1497.63 Z\" fill=\"#000000\" fill-rule=\"evenodd\" fill-opacity=\"1\" /><path clip-path=\"url(#clip550)\" d=\"M1023.16 1519.16 L1030.79 1519.16 L1030.79 1492.79 L1022.48 1494.46 L1022.48 1490.2 L1030.75 1488.53 L1035.42 1488.53 L1035.42 1519.16 L1043.06 1519.16 L1043.06 1523.09 L1023.16 1523.09 L1023.16 1519.16 Z\" fill=\"#000000\" fill-rule=\"evenodd\" fill-opacity=\"1\" /><path clip-path=\"url(#clip550)\" d=\"M1062.51 1491.61 Q1058.9 1491.61 1057.07 1495.18 Q1055.26 1498.72 1055.26 1505.85 Q1055.26 1512.96 1057.07 1516.52 Q1058.9 1520.06 1062.51 1520.06 Q1066.14 1520.06 1067.95 1516.52 Q1069.78 1512.96 1069.78 1505.85 Q1069.78 1498.72 1067.95 1495.18 Q1066.14 1491.61 1062.51 1491.61 M1062.51 1487.91 Q1068.32 1487.91 1071.37 1492.52 Q1074.45 1497.1 1074.45 1505.85 Q1074.45 1514.58 1071.37 1519.18 Q1068.32 1523.77 1062.51 1523.77 Q1056.7 1523.77 1053.62 1519.18 Q1050.56 1514.58 1050.56 1505.85 Q1050.56 1497.1 1053.62 1492.52 Q1056.7 1487.91 1062.51 1487.91 Z\" fill=\"#000000\" fill-rule=\"evenodd\" fill-opacity=\"1\" /><path clip-path=\"url(#clip550)\" d=\"M1084.48 1480.13 Q1081.92 1480.13 1080.41 1481.88 Q1078.93 1483.63 1078.93 1486.68 Q1078.93 1489.7 1080.41 1491.47 Q1081.92 1493.22 1084.48 1493.22 Q1087.03 1493.22 1088.52 1491.47 Q1090.02 1489.7 1090.02 1486.68 Q1090.02 1483.63 1088.52 1481.88 Q1087.03 1480.13 1084.48 1480.13 M1092.02 1468.22 L1092.02 1471.69 Q1090.59 1471.01 1089.12 1470.65 Q1087.67 1470.29 1086.24 1470.29 Q1082.48 1470.29 1080.49 1472.83 Q1078.51 1475.37 1078.23 1480.51 Q1079.34 1478.87 1081.01 1478 Q1082.69 1477.12 1084.7 1477.12 Q1088.93 1477.12 1091.38 1479.7 Q1093.84 1482.26 1093.84 1486.68 Q1093.84 1491 1091.28 1493.62 Q1088.73 1496.23 1084.48 1496.23 Q1079.6 1496.23 1077.03 1492.51 Q1074.45 1488.76 1074.45 1481.67 Q1074.45 1475.01 1077.61 1471.06 Q1080.77 1467.1 1086.09 1467.1 Q1087.52 1467.1 1088.97 1467.38 Q1090.44 1467.66 1092.02 1468.22 Z\" fill=\"#000000\" fill-rule=\"evenodd\" fill-opacity=\"1\" /><path clip-path=\"url(#clip550)\" d=\"M1495.35 1519.16 L1511.67 1519.16 L1511.67 1523.09 L1489.72 1523.09 L1489.72 1519.16 Q1492.39 1516.4 1496.97 1511.78 Q1501.58 1507.12 1502.76 1505.78 Q1505 1503.26 1505.88 1501.52 Q1506.78 1499.76 1506.78 1498.07 Q1506.78 1495.32 1504.84 1493.58 Q1502.92 1491.84 1499.82 1491.84 Q1497.62 1491.84 1495.16 1492.61 Q1492.73 1493.37 1489.96 1494.92 L1489.96 1490.2 Q1492.78 1489.07 1495.23 1488.49 Q1497.69 1487.91 1499.72 1487.91 Q1505.1 1487.91 1508.29 1490.59 Q1511.48 1493.28 1511.48 1497.77 Q1511.48 1499.9 1510.67 1501.82 Q1509.89 1503.72 1507.78 1506.31 Q1507.2 1506.98 1504.1 1510.2 Q1501 1513.4 1495.35 1519.16 Z\" fill=\"#000000\" fill-rule=\"evenodd\" fill-opacity=\"1\" /><path clip-path=\"url(#clip550)\" d=\"M1521.48 1517.22 L1526.37 1517.22 L1526.37 1523.09 L1521.48 1523.09 L1521.48 1517.22 Z\" fill=\"#000000\" fill-rule=\"evenodd\" fill-opacity=\"1\" /><path clip-path=\"url(#clip550)\" d=\"M1546.55 1491.61 Q1542.94 1491.61 1541.11 1495.18 Q1539.31 1498.72 1539.31 1505.85 Q1539.31 1512.96 1541.11 1516.52 Q1542.94 1520.06 1546.55 1520.06 Q1550.19 1520.06 1551.99 1516.52 Q1553.82 1512.96 1553.82 1505.85 Q1553.82 1498.72 1551.99 1495.18 Q1550.19 1491.61 1546.55 1491.61 M1546.55 1487.91 Q1552.36 1487.91 1555.42 1492.52 Q1558.5 1497.1 1558.5 1505.85 Q1558.5 1514.58 1555.42 1519.18 Q1552.36 1523.77 1546.55 1523.77 Q1540.74 1523.77 1537.66 1519.18 Q1534.61 1514.58 1534.61 1505.85 Q1534.61 1497.1 1537.66 1492.52 Q1540.74 1487.91 1546.55 1487.91 Z\" fill=\"#000000\" fill-rule=\"evenodd\" fill-opacity=\"1\" /><path clip-path=\"url(#clip550)\" d=\"M1594.89 1497.63 L1584.31 1508.26 L1594.89 1518.84 L1592.13 1521.64 L1581.51 1511.01 L1570.88 1521.64 L1568.15 1518.84 L1578.71 1508.26 L1568.15 1497.63 L1570.88 1494.83 L1581.51 1505.46 L1592.13 1494.83 L1594.89 1497.63 Z\" fill=\"#000000\" fill-rule=\"evenodd\" fill-opacity=\"1\" /><path clip-path=\"url(#clip550)\" d=\"M1607.25 1519.16 L1614.89 1519.16 L1614.89 1492.79 L1606.58 1494.46 L1606.58 1490.2 L1614.84 1488.53 L1619.52 1488.53 L1619.52 1519.16 L1627.15 1519.16 L1627.15 1523.09 L1607.25 1523.09 L1607.25 1519.16 Z\" fill=\"#000000\" fill-rule=\"evenodd\" fill-opacity=\"1\" /><path clip-path=\"url(#clip550)\" d=\"M1646.6 1491.61 Q1642.99 1491.61 1641.16 1495.18 Q1639.35 1498.72 1639.35 1505.85 Q1639.35 1512.96 1641.16 1516.52 Q1642.99 1520.06 1646.6 1520.06 Q1650.23 1520.06 1652.04 1516.52 Q1653.87 1512.96 1653.87 1505.85 Q1653.87 1498.72 1652.04 1495.18 Q1650.23 1491.61 1646.6 1491.61 M1646.6 1487.91 Q1652.41 1487.91 1655.46 1492.52 Q1658.54 1497.1 1658.54 1505.85 Q1658.54 1514.58 1655.46 1519.18 Q1652.41 1523.77 1646.6 1523.77 Q1640.79 1523.77 1637.71 1519.18 Q1634.65 1514.58 1634.65 1505.85 Q1634.65 1497.1 1637.71 1492.52 Q1640.79 1487.91 1646.6 1487.91 Z\" fill=\"#000000\" fill-rule=\"evenodd\" fill-opacity=\"1\" /><path clip-path=\"url(#clip550)\" d=\"M1668.57 1480.13 Q1666.01 1480.13 1664.51 1481.88 Q1663.02 1483.63 1663.02 1486.68 Q1663.02 1489.7 1664.51 1491.47 Q1666.01 1493.22 1668.57 1493.22 Q1671.13 1493.22 1672.61 1491.47 Q1674.12 1489.7 1674.12 1486.68 Q1674.12 1483.63 1672.61 1481.88 Q1671.13 1480.13 1668.57 1480.13 M1676.11 1468.22 L1676.11 1471.69 Q1674.68 1471.01 1673.21 1470.65 Q1671.77 1470.29 1670.34 1470.29 Q1666.57 1470.29 1664.58 1472.83 Q1662.61 1475.37 1662.32 1480.51 Q1663.43 1478.87 1665.11 1478 Q1666.78 1477.12 1668.79 1477.12 Q1673.03 1477.12 1675.47 1479.7 Q1677.93 1482.26 1677.93 1486.68 Q1677.93 1491 1675.38 1493.62 Q1672.82 1496.23 1668.57 1496.23 Q1663.7 1496.23 1661.12 1492.51 Q1658.54 1488.76 1658.54 1481.67 Q1658.54 1475.01 1661.7 1471.06 Q1664.86 1467.1 1670.19 1467.1 Q1671.61 1467.1 1673.06 1467.38 Q1674.53 1467.66 1676.11 1468.22 Z\" fill=\"#000000\" fill-rule=\"evenodd\" fill-opacity=\"1\" /><path clip-path=\"url(#clip550)\" d=\"M2088.64 1504.46 Q2092 1505.18 2093.87 1507.45 Q2095.77 1509.72 2095.77 1513.05 Q2095.77 1518.16 2092.25 1520.97 Q2088.74 1523.77 2082.25 1523.77 Q2080.08 1523.77 2077.76 1523.33 Q2075.47 1522.91 2073.02 1522.05 L2073.02 1517.54 Q2074.96 1518.67 2077.28 1519.25 Q2079.59 1519.83 2082.12 1519.83 Q2086.51 1519.83 2088.81 1518.09 Q2091.12 1516.36 2091.12 1513.05 Q2091.12 1509.99 2088.97 1508.28 Q2086.84 1506.54 2083.02 1506.54 L2078.99 1506.54 L2078.99 1502.7 L2083.2 1502.7 Q2086.65 1502.7 2088.48 1501.34 Q2090.31 1499.95 2090.31 1497.35 Q2090.31 1494.69 2088.41 1493.28 Q2086.54 1491.84 2083.02 1491.84 Q2081.1 1491.84 2078.9 1492.26 Q2076.7 1492.68 2074.06 1493.56 L2074.06 1489.39 Q2076.72 1488.65 2079.04 1488.28 Q2081.38 1487.91 2083.44 1487.91 Q2088.76 1487.91 2091.86 1490.34 Q2094.96 1492.75 2094.96 1496.87 Q2094.96 1499.74 2093.32 1501.73 Q2091.68 1503.7 2088.64 1504.46 Z\" fill=\"#000000\" fill-rule=\"evenodd\" fill-opacity=\"1\" /><path clip-path=\"url(#clip550)\" d=\"M2104.64 1517.22 L2109.52 1517.22 L2109.52 1523.09 L2104.64 1523.09 L2104.64 1517.22 Z\" fill=\"#000000\" fill-rule=\"evenodd\" fill-opacity=\"1\" /><path clip-path=\"url(#clip550)\" d=\"M2129.71 1491.61 Q2126.1 1491.61 2124.27 1495.18 Q2122.46 1498.72 2122.46 1505.85 Q2122.46 1512.96 2124.27 1516.52 Q2126.1 1520.06 2129.71 1520.06 Q2133.34 1520.06 2135.15 1516.52 Q2136.98 1512.96 2136.98 1505.85 Q2136.98 1498.72 2135.15 1495.18 Q2133.34 1491.61 2129.71 1491.61 M2129.71 1487.91 Q2135.52 1487.91 2138.57 1492.52 Q2141.65 1497.1 2141.65 1505.85 Q2141.65 1514.58 2138.57 1519.18 Q2135.52 1523.77 2129.71 1523.77 Q2123.9 1523.77 2120.82 1519.18 Q2117.76 1514.58 2117.76 1505.85 Q2117.76 1497.1 2120.82 1492.52 Q2123.9 1487.91 2129.71 1487.91 Z\" fill=\"#000000\" fill-rule=\"evenodd\" fill-opacity=\"1\" /><path clip-path=\"url(#clip550)\" d=\"M2178.04 1497.63 L2167.46 1508.26 L2178.04 1518.84 L2175.29 1521.64 L2164.66 1511.01 L2154.04 1521.64 L2151.31 1518.84 L2161.86 1508.26 L2151.31 1497.63 L2154.04 1494.83 L2164.66 1505.46 L2175.29 1494.83 L2178.04 1497.63 Z\" fill=\"#000000\" fill-rule=\"evenodd\" fill-opacity=\"1\" /><path clip-path=\"url(#clip550)\" d=\"M2190.4 1519.16 L2198.04 1519.16 L2198.04 1492.79 L2189.73 1494.46 L2189.73 1490.2 L2197.99 1488.53 L2202.67 1488.53 L2202.67 1519.16 L2210.31 1519.16 L2210.31 1523.09 L2190.4 1523.09 L2190.4 1519.16 Z\" fill=\"#000000\" fill-rule=\"evenodd\" fill-opacity=\"1\" /><path clip-path=\"url(#clip550)\" d=\"M2229.75 1491.61 Q2226.14 1491.61 2224.31 1495.18 Q2222.51 1498.72 2222.51 1505.85 Q2222.51 1512.96 2224.31 1516.52 Q2226.14 1520.06 2229.75 1520.06 Q2233.39 1520.06 2235.19 1516.52 Q2237.02 1512.96 2237.02 1505.85 Q2237.02 1498.72 2235.19 1495.18 Q2233.39 1491.61 2229.75 1491.61 M2229.75 1487.91 Q2235.56 1487.91 2238.62 1492.52 Q2241.7 1497.1 2241.7 1505.85 Q2241.7 1514.58 2238.62 1519.18 Q2235.56 1523.77 2229.75 1523.77 Q2223.94 1523.77 2220.87 1519.18 Q2217.81 1514.58 2217.81 1505.85 Q2217.81 1497.1 2220.87 1492.52 Q2223.94 1487.91 2229.75 1487.91 Z\" fill=\"#000000\" fill-rule=\"evenodd\" fill-opacity=\"1\" /><path clip-path=\"url(#clip550)\" d=\"M2251.72 1480.13 Q2249.16 1480.13 2247.66 1481.88 Q2246.17 1483.63 2246.17 1486.68 Q2246.17 1489.7 2247.66 1491.47 Q2249.16 1493.22 2251.72 1493.22 Q2254.28 1493.22 2255.77 1491.47 Q2257.27 1489.7 2257.27 1486.68 Q2257.27 1483.63 2255.77 1481.88 Q2254.28 1480.13 2251.72 1480.13 M2259.26 1468.22 L2259.26 1471.69 Q2257.84 1471.01 2256.37 1470.65 Q2254.92 1470.29 2253.49 1470.29 Q2249.73 1470.29 2247.74 1472.83 Q2245.76 1475.37 2245.48 1480.51 Q2246.59 1478.87 2248.26 1478 Q2249.94 1477.12 2251.95 1477.12 Q2256.18 1477.12 2258.63 1479.7 Q2261.09 1482.26 2261.09 1486.68 Q2261.09 1491 2258.53 1493.62 Q2255.97 1496.23 2251.72 1496.23 Q2246.85 1496.23 2244.27 1492.51 Q2241.7 1488.76 2241.7 1481.67 Q2241.7 1475.01 2244.86 1471.06 Q2248.02 1467.1 2253.34 1467.1 Q2254.77 1467.1 2256.22 1467.38 Q2257.68 1467.66 2259.26 1468.22 Z\" fill=\"#000000\" fill-rule=\"evenodd\" fill-opacity=\"1\" /><path clip-path=\"url(#clip550)\" d=\"M1030.54 1581.1 L1021.28 1581.1 L1018.6 1591.73 L1027.93 1591.73 L1030.54 1581.1 M1025.76 1562.99 L1022.45 1576.2 L1031.75 1576.2 L1035.09 1562.99 L1040.18 1562.99 L1036.9 1576.2 L1046.83 1576.2 L1046.83 1581.1 L1035.66 1581.1 L1033.05 1591.73 L1043.17 1591.73 L1043.17 1596.6 L1031.81 1596.6 L1028.5 1609.78 L1023.41 1609.78 L1026.69 1596.6 L1017.36 1596.6 L1014.08 1609.78 L1008.96 1609.78 L1012.27 1596.6 L1002.24 1596.6 L1002.24 1591.73 L1013.45 1591.73 L1016.12 1581.1 L1005.87 1581.1 L1005.87 1576.2 L1017.36 1576.2 L1020.61 1562.99 L1025.76 1562.99 Z\" fill=\"#000000\" fill-rule=\"evenodd\" fill-opacity=\"1\" /><path clip-path=\"url(#clip550)\" d=\"M1078.47 1560.25 L1084.36 1560.25 L1084.36 1589.5 L1101.83 1574.13 L1109.31 1574.13 L1090.41 1590.81 L1110.11 1609.78 L1102.47 1609.78 L1084.36 1592.37 L1084.36 1609.78 L1078.47 1609.78 L1078.47 1560.25 Z\" fill=\"#000000\" fill-rule=\"evenodd\" fill-opacity=\"1\" /><path clip-path=\"url(#clip550)\" d=\"M1144.2 1580.97 Q1146.39 1577.02 1149.45 1575.15 Q1152.51 1573.27 1156.64 1573.27 Q1162.21 1573.27 1165.24 1577.18 Q1168.26 1581.07 1168.26 1588.26 L1168.26 1609.78 L1162.37 1609.78 L1162.37 1588.45 Q1162.37 1583.33 1160.56 1580.84 Q1158.74 1578.36 1155.02 1578.36 Q1150.47 1578.36 1147.83 1581.39 Q1145.18 1584.41 1145.18 1589.63 L1145.18 1609.78 L1139.3 1609.78 L1139.3 1588.45 Q1139.3 1583.29 1137.48 1580.84 Q1135.67 1578.36 1131.88 1578.36 Q1127.39 1578.36 1124.75 1581.42 Q1122.11 1584.44 1122.11 1589.63 L1122.11 1609.78 L1116.22 1609.78 L1116.22 1574.13 L1122.11 1574.13 L1122.11 1579.67 Q1124.11 1576.39 1126.92 1574.83 Q1129.72 1573.27 1133.57 1573.27 Q1137.45 1573.27 1140.16 1575.24 Q1142.89 1577.22 1144.2 1580.97 Z\" fill=\"#000000\" fill-rule=\"evenodd\" fill-opacity=\"1\" /><path clip-path=\"url(#clip550)\" d=\"M1210.43 1590.49 L1210.43 1593.35 L1183.51 1593.35 Q1183.89 1599.4 1187.13 1602.58 Q1190.41 1605.73 1196.24 1605.73 Q1199.61 1605.73 1202.76 1604.91 Q1205.95 1604.08 1209.06 1602.42 L1209.06 1607.96 Q1205.91 1609.3 1202.6 1610 Q1199.29 1610.7 1195.89 1610.7 Q1187.36 1610.7 1182.36 1605.73 Q1177.4 1600.77 1177.4 1592.3 Q1177.4 1583.55 1182.11 1578.43 Q1186.85 1573.27 1194.87 1573.27 Q1202.06 1573.27 1206.23 1577.92 Q1210.43 1582.53 1210.43 1590.49 M1204.58 1588.77 Q1204.51 1583.96 1201.87 1581.1 Q1199.26 1578.23 1194.93 1578.23 Q1190.03 1578.23 1187.07 1581 Q1184.14 1583.77 1183.7 1588.8 L1204.58 1588.77 Z\" fill=\"#000000\" fill-rule=\"evenodd\" fill-opacity=\"1\" /><path clip-path=\"url(#clip550)\" d=\"M1240.7 1579.6 Q1239.72 1579.03 1238.54 1578.78 Q1237.39 1578.49 1235.99 1578.49 Q1231.03 1578.49 1228.35 1581.74 Q1225.71 1584.95 1225.71 1591 L1225.71 1609.78 L1219.82 1609.78 L1219.82 1574.13 L1225.71 1574.13 L1225.71 1579.67 Q1227.56 1576.42 1230.52 1574.86 Q1233.48 1573.27 1237.71 1573.27 Q1238.32 1573.27 1239.05 1573.36 Q1239.78 1573.43 1240.67 1573.59 L1240.7 1579.6 Z\" fill=\"#000000\" fill-rule=\"evenodd\" fill-opacity=\"1\" /><path clip-path=\"url(#clip550)\" d=\"M1269.57 1575.18 L1269.57 1580.72 Q1267.09 1579.44 1264.41 1578.81 Q1261.74 1578.17 1258.88 1578.17 Q1254.52 1578.17 1252.32 1579.51 Q1250.16 1580.84 1250.16 1583.52 Q1250.16 1585.55 1251.72 1586.73 Q1253.27 1587.88 1257.99 1588.93 L1259.99 1589.37 Q1266.23 1590.71 1268.84 1593.16 Q1271.48 1595.58 1271.48 1599.94 Q1271.48 1604.91 1267.53 1607.8 Q1263.62 1610.7 1256.74 1610.7 Q1253.88 1610.7 1250.76 1610.13 Q1247.67 1609.59 1244.24 1608.47 L1244.24 1602.42 Q1247.48 1604.11 1250.63 1604.97 Q1253.78 1605.8 1256.87 1605.8 Q1261.01 1605.8 1263.24 1604.4 Q1265.47 1602.96 1265.47 1600.39 Q1265.47 1598 1263.84 1596.73 Q1262.25 1595.45 1256.81 1594.28 L1254.77 1593.8 Q1249.33 1592.65 1246.91 1590.3 Q1244.49 1587.91 1244.49 1583.77 Q1244.49 1578.74 1248.05 1576.01 Q1251.62 1573.27 1258.18 1573.27 Q1261.42 1573.27 1264.29 1573.75 Q1267.15 1574.22 1269.57 1575.18 Z\" fill=\"#000000\" fill-rule=\"evenodd\" fill-opacity=\"1\" /><path clip-path=\"url(#clip550)\" d=\"M1317.73 1591.86 Q1310.63 1591.86 1307.89 1593.48 Q1305.16 1595.1 1305.16 1599.02 Q1305.16 1602.14 1307.19 1603.98 Q1309.26 1605.8 1312.79 1605.8 Q1317.66 1605.8 1320.59 1602.36 Q1323.55 1598.89 1323.55 1593.16 L1323.55 1591.86 L1317.73 1591.86 M1329.41 1589.44 L1329.41 1609.78 L1323.55 1609.78 L1323.55 1604.37 Q1321.55 1607.61 1318.56 1609.17 Q1315.56 1610.7 1311.23 1610.7 Q1305.76 1610.7 1302.51 1607.64 Q1299.3 1604.56 1299.3 1599.4 Q1299.3 1593.38 1303.31 1590.33 Q1307.35 1587.27 1315.34 1587.27 L1323.55 1587.27 L1323.55 1586.7 Q1323.55 1582.66 1320.88 1580.46 Q1318.24 1578.23 1313.43 1578.23 Q1310.38 1578.23 1307.48 1578.97 Q1304.58 1579.7 1301.91 1581.16 L1301.91 1575.75 Q1305.12 1574.51 1308.15 1573.91 Q1311.17 1573.27 1314.04 1573.27 Q1321.77 1573.27 1325.59 1577.28 Q1329.41 1581.29 1329.41 1589.44 Z\" fill=\"#000000\" fill-rule=\"evenodd\" fill-opacity=\"1\" /><path clip-path=\"url(#clip550)\" d=\"M1364.2 1575.18 L1364.2 1580.72 Q1361.71 1579.44 1359.04 1578.81 Q1356.37 1578.17 1353.5 1578.17 Q1349.14 1578.17 1346.95 1579.51 Q1344.78 1580.84 1344.78 1583.52 Q1344.78 1585.55 1346.34 1586.73 Q1347.9 1587.88 1352.61 1588.93 L1354.62 1589.37 Q1360.86 1590.71 1363.47 1593.16 Q1366.11 1595.58 1366.11 1599.94 Q1366.11 1604.91 1362.16 1607.8 Q1358.25 1610.7 1351.37 1610.7 Q1348.51 1610.7 1345.39 1610.13 Q1342.3 1609.59 1338.86 1608.47 L1338.86 1602.42 Q1342.11 1604.11 1345.26 1604.97 Q1348.41 1605.8 1351.5 1605.8 Q1355.64 1605.8 1357.86 1604.4 Q1360.09 1602.96 1360.09 1600.39 Q1360.09 1598 1358.47 1596.73 Q1356.88 1595.45 1351.43 1594.28 L1349.4 1593.8 Q1343.95 1592.65 1341.54 1590.3 Q1339.12 1587.91 1339.12 1583.77 Q1339.12 1578.74 1342.68 1576.01 Q1346.25 1573.27 1352.8 1573.27 Q1356.05 1573.27 1358.91 1573.75 Q1361.78 1574.22 1364.2 1575.18 Z\" fill=\"#000000\" fill-rule=\"evenodd\" fill-opacity=\"1\" /><path clip-path=\"url(#clip550)\" d=\"M1398.16 1575.18 L1398.16 1580.72 Q1395.68 1579.44 1393 1578.81 Q1390.33 1578.17 1387.46 1578.17 Q1383.1 1578.17 1380.91 1579.51 Q1378.74 1580.84 1378.74 1583.52 Q1378.74 1585.55 1380.3 1586.73 Q1381.86 1587.88 1386.57 1588.93 L1388.58 1589.37 Q1394.82 1590.71 1397.43 1593.16 Q1400.07 1595.58 1400.07 1599.94 Q1400.07 1604.91 1396.12 1607.8 Q1392.21 1610.7 1385.33 1610.7 Q1382.47 1610.7 1379.35 1610.13 Q1376.26 1609.59 1372.82 1608.47 L1372.82 1602.42 Q1376.07 1604.11 1379.22 1604.97 Q1382.37 1605.8 1385.46 1605.8 Q1389.6 1605.8 1391.82 1604.4 Q1394.05 1602.96 1394.05 1600.39 Q1394.05 1598 1392.43 1596.73 Q1390.84 1595.45 1385.39 1594.28 L1383.36 1593.8 Q1377.92 1592.65 1375.5 1590.3 Q1373.08 1587.91 1373.08 1583.77 Q1373.08 1578.74 1376.64 1576.01 Q1380.21 1573.27 1386.76 1573.27 Q1390.01 1573.27 1392.87 1573.75 Q1395.74 1574.22 1398.16 1575.18 Z\" fill=\"#000000\" fill-rule=\"evenodd\" fill-opacity=\"1\" /><path clip-path=\"url(#clip550)\" d=\"M1439.89 1590.49 L1439.89 1593.35 L1412.96 1593.35 Q1413.34 1599.4 1416.59 1602.58 Q1419.87 1605.73 1425.69 1605.73 Q1429.06 1605.73 1432.21 1604.91 Q1435.4 1604.08 1438.52 1602.42 L1438.52 1607.96 Q1435.37 1609.3 1432.06 1610 Q1428.75 1610.7 1425.34 1610.7 Q1416.81 1610.7 1411.81 1605.73 Q1406.85 1600.77 1406.85 1592.3 Q1406.85 1583.55 1411.56 1578.43 Q1416.3 1573.27 1424.32 1573.27 Q1431.51 1573.27 1435.68 1577.92 Q1439.89 1582.53 1439.89 1590.49 M1434.03 1588.77 Q1433.97 1583.96 1431.32 1581.1 Q1428.71 1578.23 1424.38 1578.23 Q1419.48 1578.23 1416.52 1581 Q1413.6 1583.77 1413.15 1588.8 L1434.03 1588.77 Z\" fill=\"#000000\" fill-rule=\"evenodd\" fill-opacity=\"1\" /><path clip-path=\"url(#clip550)\" d=\"M1472.22 1575.18 L1472.22 1580.72 Q1469.74 1579.44 1467.07 1578.81 Q1464.39 1578.17 1461.53 1578.17 Q1457.17 1578.17 1454.97 1579.51 Q1452.81 1580.84 1452.81 1583.52 Q1452.81 1585.55 1454.37 1586.73 Q1455.93 1587.88 1460.64 1588.93 L1462.64 1589.37 Q1468.88 1590.71 1471.49 1593.16 Q1474.13 1595.58 1474.13 1599.94 Q1474.13 1604.91 1470.19 1607.8 Q1466.27 1610.7 1459.4 1610.7 Q1456.53 1610.7 1453.41 1610.13 Q1450.33 1609.59 1446.89 1608.47 L1446.89 1602.42 Q1450.13 1604.11 1453.29 1604.97 Q1456.44 1605.8 1459.52 1605.8 Q1463.66 1605.8 1465.89 1604.4 Q1468.12 1602.96 1468.12 1600.39 Q1468.12 1598 1466.49 1596.73 Q1464.9 1595.45 1459.46 1594.28 L1457.42 1593.8 Q1451.98 1592.65 1449.56 1590.3 Q1447.14 1587.91 1447.14 1583.77 Q1447.14 1578.74 1450.71 1576.01 Q1454.27 1573.27 1460.83 1573.27 Q1464.08 1573.27 1466.94 1573.75 Q1469.8 1574.22 1472.22 1575.18 Z\" fill=\"#000000\" fill-rule=\"evenodd\" fill-opacity=\"1\" /><path clip-path=\"url(#clip550)\" d=\"M1506.18 1575.18 L1506.18 1580.72 Q1503.7 1579.44 1501.03 1578.81 Q1498.35 1578.17 1495.49 1578.17 Q1491.13 1578.17 1488.93 1579.51 Q1486.77 1580.84 1486.77 1583.52 Q1486.77 1585.55 1488.33 1586.73 Q1489.89 1587.88 1494.6 1588.93 L1496.6 1589.37 Q1502.84 1590.71 1505.45 1593.16 Q1508.09 1595.58 1508.09 1599.94 Q1508.09 1604.91 1504.15 1607.8 Q1500.23 1610.7 1493.36 1610.7 Q1490.49 1610.7 1487.37 1610.13 Q1484.29 1609.59 1480.85 1608.47 L1480.85 1602.42 Q1484.1 1604.11 1487.25 1604.97 Q1490.4 1605.8 1493.48 1605.8 Q1497.62 1605.8 1499.85 1604.4 Q1502.08 1602.96 1502.08 1600.39 Q1502.08 1598 1500.46 1596.73 Q1498.86 1595.45 1493.42 1594.28 L1491.38 1593.8 Q1485.94 1592.65 1483.52 1590.3 Q1481.1 1587.91 1481.1 1583.77 Q1481.1 1578.74 1484.67 1576.01 Q1488.23 1573.27 1494.79 1573.27 Q1498.04 1573.27 1500.9 1573.75 Q1503.77 1574.22 1506.18 1575.18 Z\" fill=\"#000000\" fill-rule=\"evenodd\" fill-opacity=\"1\" /><path clip-path=\"url(#clip550)\" d=\"M1547.91 1590.49 L1547.91 1593.35 L1520.98 1593.35 Q1521.37 1599.4 1524.61 1602.58 Q1527.89 1605.73 1533.72 1605.73 Q1537.09 1605.73 1540.24 1604.91 Q1543.42 1604.08 1546.54 1602.42 L1546.54 1607.96 Q1543.39 1609.3 1540.08 1610 Q1536.77 1610.7 1533.37 1610.7 Q1524.84 1610.7 1519.84 1605.73 Q1514.87 1600.77 1514.87 1592.3 Q1514.87 1583.55 1519.58 1578.43 Q1524.33 1573.27 1532.35 1573.27 Q1539.54 1573.27 1543.71 1577.92 Q1547.91 1582.53 1547.91 1590.49 M1542.05 1588.77 Q1541.99 1583.96 1539.35 1581.1 Q1536.74 1578.23 1532.41 1578.23 Q1527.51 1578.23 1524.55 1581 Q1521.62 1583.77 1521.18 1588.8 L1542.05 1588.77 Z\" fill=\"#000000\" fill-rule=\"evenodd\" fill-opacity=\"1\" /><path clip-path=\"url(#clip550)\" d=\"M1580.98 1579.54 L1580.98 1560.25 L1586.84 1560.25 L1586.84 1609.78 L1580.98 1609.78 L1580.98 1604.43 Q1579.14 1607.61 1576.3 1609.17 Q1573.5 1610.7 1569.55 1610.7 Q1563.09 1610.7 1559.02 1605.54 Q1554.98 1600.39 1554.98 1591.98 Q1554.98 1583.58 1559.02 1578.43 Q1563.09 1573.27 1569.55 1573.27 Q1573.5 1573.27 1576.3 1574.83 Q1579.14 1576.36 1580.98 1579.54 M1561.02 1591.98 Q1561.02 1598.45 1563.67 1602.14 Q1566.34 1605.8 1570.99 1605.8 Q1575.63 1605.8 1578.31 1602.14 Q1580.98 1598.45 1580.98 1591.98 Q1580.98 1585.52 1578.31 1581.86 Q1575.63 1578.17 1570.99 1578.17 Q1566.34 1578.17 1563.67 1581.86 Q1561.02 1585.52 1561.02 1591.98 Z\" fill=\"#000000\" fill-rule=\"evenodd\" fill-opacity=\"1\" /><polyline clip-path=\"url(#clip552)\" style=\"stroke:#000000; stroke-linecap:butt; stroke-linejoin:round; stroke-width:2; stroke-opacity:0.1; fill:none\" points=\"\n",
       "  364.751,1396.96 2224.33,1396.96 \n",
       "  \"/>\n",
       "<polyline clip-path=\"url(#clip552)\" style=\"stroke:#000000; stroke-linecap:butt; stroke-linejoin:round; stroke-width:2; stroke-opacity:0.1; fill:none\" points=\"\n",
       "  364.751,1098.68 2224.33,1098.68 \n",
       "  \"/>\n",
       "<polyline clip-path=\"url(#clip552)\" style=\"stroke:#000000; stroke-linecap:butt; stroke-linejoin:round; stroke-width:2; stroke-opacity:0.1; fill:none\" points=\"\n",
       "  364.751,800.398 2224.33,800.398 \n",
       "  \"/>\n",
       "<polyline clip-path=\"url(#clip552)\" style=\"stroke:#000000; stroke-linecap:butt; stroke-linejoin:round; stroke-width:2; stroke-opacity:0.1; fill:none\" points=\"\n",
       "  364.751,502.12 2224.33,502.12 \n",
       "  \"/>\n",
       "<polyline clip-path=\"url(#clip552)\" style=\"stroke:#000000; stroke-linecap:butt; stroke-linejoin:round; stroke-width:2; stroke-opacity:0.1; fill:none\" points=\"\n",
       "  364.751,203.841 2224.33,203.841 \n",
       "  \"/>\n",
       "<polyline clip-path=\"url(#clip550)\" style=\"stroke:#000000; stroke-linecap:butt; stroke-linejoin:round; stroke-width:4; stroke-opacity:1; fill:none\" points=\"\n",
       "  364.751,1434.49 364.751,108.352 \n",
       "  \"/>\n",
       "<polyline clip-path=\"url(#clip550)\" style=\"stroke:#000000; stroke-linecap:butt; stroke-linejoin:round; stroke-width:4; stroke-opacity:1; fill:none\" points=\"\n",
       "  364.751,1396.96 377.356,1396.96 \n",
       "  \"/>\n",
       "<polyline clip-path=\"url(#clip550)\" style=\"stroke:#000000; stroke-linecap:butt; stroke-linejoin:round; stroke-width:4; stroke-opacity:1; fill:none\" points=\"\n",
       "  364.751,1098.68 377.356,1098.68 \n",
       "  \"/>\n",
       "<polyline clip-path=\"url(#clip550)\" style=\"stroke:#000000; stroke-linecap:butt; stroke-linejoin:round; stroke-width:4; stroke-opacity:1; fill:none\" points=\"\n",
       "  364.751,800.398 377.356,800.398 \n",
       "  \"/>\n",
       "<polyline clip-path=\"url(#clip550)\" style=\"stroke:#000000; stroke-linecap:butt; stroke-linejoin:round; stroke-width:4; stroke-opacity:1; fill:none\" points=\"\n",
       "  364.751,502.12 377.356,502.12 \n",
       "  \"/>\n",
       "<polyline clip-path=\"url(#clip550)\" style=\"stroke:#000000; stroke-linecap:butt; stroke-linejoin:round; stroke-width:4; stroke-opacity:1; fill:none\" points=\"\n",
       "  364.751,203.841 377.356,203.841 \n",
       "  \"/>\n",
       "<path clip-path=\"url(#clip550)\" d=\"M304.807 1382.75 Q301.196 1382.75 299.367 1386.32 Q297.562 1389.86 297.562 1396.99 Q297.562 1404.1 299.367 1407.66 Q301.196 1411.2 304.807 1411.2 Q308.441 1411.2 310.247 1407.66 Q312.075 1404.1 312.075 1396.99 Q312.075 1389.86 310.247 1386.32 Q308.441 1382.75 304.807 1382.75 M304.807 1379.05 Q310.617 1379.05 313.673 1383.66 Q316.751 1388.24 316.751 1396.99 Q316.751 1405.72 313.673 1410.32 Q310.617 1414.91 304.807 1414.91 Q298.997 1414.91 295.918 1410.32 Q292.863 1405.72 292.863 1396.99 Q292.863 1388.24 295.918 1383.66 Q298.997 1379.05 304.807 1379.05 Z\" fill=\"#000000\" fill-rule=\"evenodd\" fill-opacity=\"1\" /><path clip-path=\"url(#clip550)\" d=\"M101.246 1087.84 L119.603 1087.84 L119.603 1091.78 L105.529 1091.78 L105.529 1100.25 Q106.547 1099.9 107.566 1099.74 Q108.584 1099.56 109.603 1099.56 Q115.39 1099.56 118.769 1102.73 Q122.149 1105.9 122.149 1111.32 Q122.149 1116.9 118.677 1120 Q115.204 1123.08 108.885 1123.08 Q106.709 1123.08 104.441 1122.71 Q102.195 1122.33 99.7878 1121.59 L99.7878 1116.9 Q101.871 1118.03 104.093 1118.58 Q106.316 1119.14 108.792 1119.14 Q112.797 1119.14 115.135 1117.03 Q117.473 1114.93 117.473 1111.32 Q117.473 1107.71 115.135 1105.6 Q112.797 1103.49 108.792 1103.49 Q106.917 1103.49 105.042 1103.91 Q103.191 1104.33 101.246 1105.21 L101.246 1087.84 Z\" fill=\"#000000\" fill-rule=\"evenodd\" fill-opacity=\"1\" /><path clip-path=\"url(#clip550)\" d=\"M131.362 1116.52 L136.246 1116.52 L136.246 1122.4 L131.362 1122.4 L131.362 1116.52 Z\" fill=\"#000000\" fill-rule=\"evenodd\" fill-opacity=\"1\" /><path clip-path=\"url(#clip550)\" d=\"M156.431 1090.92 Q152.82 1090.92 150.991 1094.49 Q149.186 1098.03 149.186 1105.16 Q149.186 1112.27 150.991 1115.83 Q152.82 1119.37 156.431 1119.37 Q160.065 1119.37 161.871 1115.83 Q163.7 1112.27 163.7 1105.16 Q163.7 1098.03 161.871 1094.49 Q160.065 1090.92 156.431 1090.92 M156.431 1087.22 Q162.241 1087.22 165.297 1091.83 Q168.375 1096.41 168.375 1105.16 Q168.375 1113.89 165.297 1118.49 Q162.241 1123.08 156.431 1123.08 Q150.621 1123.08 147.542 1118.49 Q144.487 1113.89 144.487 1105.16 Q144.487 1096.41 147.542 1091.83 Q150.621 1087.22 156.431 1087.22 Z\" fill=\"#000000\" fill-rule=\"evenodd\" fill-opacity=\"1\" /><path clip-path=\"url(#clip550)\" d=\"M186.593 1090.92 Q182.982 1090.92 181.153 1094.49 Q179.348 1098.03 179.348 1105.16 Q179.348 1112.27 181.153 1115.83 Q182.982 1119.37 186.593 1119.37 Q190.227 1119.37 192.033 1115.83 Q193.861 1112.27 193.861 1105.16 Q193.861 1098.03 192.033 1094.49 Q190.227 1090.92 186.593 1090.92 M186.593 1087.22 Q192.403 1087.22 195.459 1091.83 Q198.537 1096.41 198.537 1105.16 Q198.537 1113.89 195.459 1118.49 Q192.403 1123.08 186.593 1123.08 Q180.783 1123.08 177.704 1118.49 Q174.649 1113.89 174.649 1105.16 Q174.649 1096.41 177.704 1091.83 Q180.783 1087.22 186.593 1087.22 Z\" fill=\"#000000\" fill-rule=\"evenodd\" fill-opacity=\"1\" /><path clip-path=\"url(#clip550)\" d=\"M234.926 1096.94 L224.347 1107.57 L234.926 1118.15 L232.171 1120.95 L221.546 1110.32 L210.922 1120.95 L208.19 1118.15 L218.746 1107.57 L208.19 1096.94 L210.922 1094.14 L221.546 1104.77 L232.171 1094.14 L234.926 1096.94 Z\" fill=\"#000000\" fill-rule=\"evenodd\" fill-opacity=\"1\" /><path clip-path=\"url(#clip550)\" d=\"M247.287 1118.47 L254.926 1118.47 L254.926 1092.1 L246.616 1093.77 L246.616 1089.51 L254.88 1087.84 L259.556 1087.84 L259.556 1118.47 L267.194 1118.47 L267.194 1122.4 L247.287 1122.4 L247.287 1118.47 Z\" fill=\"#000000\" fill-rule=\"evenodd\" fill-opacity=\"1\" /><path clip-path=\"url(#clip550)\" d=\"M286.639 1090.92 Q283.028 1090.92 281.199 1094.49 Q279.393 1098.03 279.393 1105.16 Q279.393 1112.27 281.199 1115.83 Q283.028 1119.37 286.639 1119.37 Q290.273 1119.37 292.078 1115.83 Q293.907 1112.27 293.907 1105.16 Q293.907 1098.03 292.078 1094.49 Q290.273 1090.92 286.639 1090.92 M286.639 1087.22 Q292.449 1087.22 295.504 1091.83 Q298.583 1096.41 298.583 1105.16 Q298.583 1113.89 295.504 1118.49 Q292.449 1123.08 286.639 1123.08 Q280.829 1123.08 277.75 1118.49 Q274.694 1113.89 274.694 1105.16 Q274.694 1096.41 277.75 1091.83 Q280.829 1087.22 286.639 1087.22 Z\" fill=\"#000000\" fill-rule=\"evenodd\" fill-opacity=\"1\" /><path clip-path=\"url(#clip550)\" d=\"M299.768 1066.91 L314.683 1066.91 L314.683 1070.11 L303.247 1070.11 L303.247 1076.99 Q304.075 1076.71 304.902 1076.58 Q305.73 1076.43 306.558 1076.43 Q311.26 1076.43 314.005 1079.01 Q316.751 1081.58 316.751 1085.99 Q316.751 1090.52 313.93 1093.04 Q311.109 1095.54 305.975 1095.54 Q304.207 1095.54 302.363 1095.24 Q300.539 1094.94 298.583 1094.34 L298.583 1090.52 Q300.276 1091.44 302.081 1091.89 Q303.887 1092.34 305.899 1092.34 Q309.153 1092.34 311.053 1090.63 Q312.952 1088.92 312.952 1085.99 Q312.952 1083.05 311.053 1081.34 Q309.153 1079.63 305.899 1079.63 Q304.376 1079.63 302.852 1079.97 Q301.348 1080.31 299.768 1081.02 L299.768 1066.91 Z\" fill=\"#000000\" fill-rule=\"evenodd\" fill-opacity=\"1\" /><path clip-path=\"url(#clip550)\" d=\"M100.788 820.191 L108.426 820.191 L108.426 793.825 L100.116 795.492 L100.116 791.232 L108.38 789.566 L113.056 789.566 L113.056 820.191 L120.695 820.191 L120.695 824.126 L100.788 824.126 L100.788 820.191 Z\" fill=\"#000000\" fill-rule=\"evenodd\" fill-opacity=\"1\" /><path clip-path=\"url(#clip550)\" d=\"M130.139 818.246 L135.023 818.246 L135.023 824.126 L130.139 824.126 L130.139 818.246 Z\" fill=\"#000000\" fill-rule=\"evenodd\" fill-opacity=\"1\" /><path clip-path=\"url(#clip550)\" d=\"M155.209 792.644 Q151.597 792.644 149.769 796.209 Q147.963 799.751 147.963 806.88 Q147.963 813.987 149.769 817.552 Q151.597 821.093 155.209 821.093 Q158.843 821.093 160.648 817.552 Q162.477 813.987 162.477 806.88 Q162.477 799.751 160.648 796.209 Q158.843 792.644 155.209 792.644 M155.209 788.941 Q161.019 788.941 164.074 793.547 Q167.153 798.131 167.153 806.88 Q167.153 815.607 164.074 820.214 Q161.019 824.797 155.209 824.797 Q149.398 824.797 146.32 820.214 Q143.264 815.607 143.264 806.88 Q143.264 798.131 146.32 793.547 Q149.398 788.941 155.209 788.941 Z\" fill=\"#000000\" fill-rule=\"evenodd\" fill-opacity=\"1\" /><path clip-path=\"url(#clip550)\" d=\"M185.37 792.644 Q181.759 792.644 179.931 796.209 Q178.125 799.751 178.125 806.88 Q178.125 813.987 179.931 817.552 Q181.759 821.093 185.37 821.093 Q189.005 821.093 190.81 817.552 Q192.639 813.987 192.639 806.88 Q192.639 799.751 190.81 796.209 Q189.005 792.644 185.37 792.644 M185.37 788.941 Q191.181 788.941 194.236 793.547 Q197.315 798.131 197.315 806.88 Q197.315 815.607 194.236 820.214 Q191.181 824.797 185.37 824.797 Q179.56 824.797 176.482 820.214 Q173.426 815.607 173.426 806.88 Q173.426 798.131 176.482 793.547 Q179.56 788.941 185.37 788.941 Z\" fill=\"#000000\" fill-rule=\"evenodd\" fill-opacity=\"1\" /><path clip-path=\"url(#clip550)\" d=\"M233.704 798.663 L223.125 809.288 L233.704 819.867 L230.949 822.667 L220.324 812.042 L209.699 822.667 L206.968 819.867 L217.523 809.288 L206.968 798.663 L209.699 795.862 L220.324 806.487 L230.949 795.862 L233.704 798.663 Z\" fill=\"#000000\" fill-rule=\"evenodd\" fill-opacity=\"1\" /><path clip-path=\"url(#clip550)\" d=\"M246.065 820.191 L253.703 820.191 L253.703 793.825 L245.393 795.492 L245.393 791.232 L253.657 789.566 L258.333 789.566 L258.333 820.191 L265.972 820.191 L265.972 824.126 L246.065 824.126 L246.065 820.191 Z\" fill=\"#000000\" fill-rule=\"evenodd\" fill-opacity=\"1\" /><path clip-path=\"url(#clip550)\" d=\"M285.416 792.644 Q281.805 792.644 279.976 796.209 Q278.171 799.751 278.171 806.88 Q278.171 813.987 279.976 817.552 Q281.805 821.093 285.416 821.093 Q289.05 821.093 290.856 817.552 Q292.685 813.987 292.685 806.88 Q292.685 799.751 290.856 796.209 Q289.05 792.644 285.416 792.644 M285.416 788.941 Q291.226 788.941 294.282 793.547 Q297.361 798.131 297.361 806.88 Q297.361 815.607 294.282 820.214 Q291.226 824.797 285.416 824.797 Q279.606 824.797 276.527 820.214 Q273.472 815.607 273.472 806.88 Q273.472 798.131 276.527 793.547 Q279.606 788.941 285.416 788.941 Z\" fill=\"#000000\" fill-rule=\"evenodd\" fill-opacity=\"1\" /><path clip-path=\"url(#clip550)\" d=\"M307.385 781.161 Q304.827 781.161 303.323 782.91 Q301.837 784.66 301.837 787.706 Q301.837 790.734 303.323 792.502 Q304.827 794.252 307.385 794.252 Q309.943 794.252 311.429 792.502 Q312.933 790.734 312.933 787.706 Q312.933 784.66 311.429 782.91 Q309.943 781.161 307.385 781.161 M314.927 769.256 L314.927 772.717 Q313.498 772.04 312.031 771.682 Q310.582 771.325 309.153 771.325 Q305.391 771.325 303.398 773.864 Q301.423 776.403 301.141 781.537 Q302.251 779.901 303.924 779.036 Q305.598 778.152 307.611 778.152 Q311.843 778.152 314.288 780.729 Q316.751 783.287 316.751 787.706 Q316.751 792.032 314.194 794.646 Q311.636 797.261 307.385 797.261 Q302.514 797.261 299.937 793.537 Q297.361 789.794 297.361 782.704 Q297.361 776.046 300.52 772.096 Q303.68 768.128 309.003 768.128 Q310.432 768.128 311.88 768.41 Q313.347 768.692 314.927 769.256 Z\" fill=\"#000000\" fill-rule=\"evenodd\" fill-opacity=\"1\" /><path clip-path=\"url(#clip550)\" d=\"M100.788 521.912 L108.426 521.912 L108.426 495.546 L100.116 497.213 L100.116 492.954 L108.38 491.287 L113.056 491.287 L113.056 521.912 L120.695 521.912 L120.695 525.847 L100.788 525.847 L100.788 521.912 Z\" fill=\"#000000\" fill-rule=\"evenodd\" fill-opacity=\"1\" /><path clip-path=\"url(#clip550)\" d=\"M130.139 519.968 L135.023 519.968 L135.023 525.847 L130.139 525.847 L130.139 519.968 Z\" fill=\"#000000\" fill-rule=\"evenodd\" fill-opacity=\"1\" /><path clip-path=\"url(#clip550)\" d=\"M145.255 491.287 L163.611 491.287 L163.611 495.222 L149.537 495.222 L149.537 503.695 Q150.556 503.347 151.574 503.185 Q152.593 503 153.611 503 Q159.398 503 162.778 506.171 Q166.158 509.343 166.158 514.759 Q166.158 520.338 162.685 523.44 Q159.213 526.518 152.894 526.518 Q150.718 526.518 148.449 526.148 Q146.204 525.778 143.797 525.037 L143.797 520.338 Q145.88 521.472 148.102 522.028 Q150.324 522.583 152.801 522.583 Q156.806 522.583 159.144 520.477 Q161.482 518.37 161.482 514.759 Q161.482 511.148 159.144 509.042 Q156.806 506.935 152.801 506.935 Q150.926 506.935 149.051 507.352 Q147.199 507.769 145.255 508.648 L145.255 491.287 Z\" fill=\"#000000\" fill-rule=\"evenodd\" fill-opacity=\"1\" /><path clip-path=\"url(#clip550)\" d=\"M185.37 494.366 Q181.759 494.366 179.931 497.931 Q178.125 501.472 178.125 508.602 Q178.125 515.708 179.931 519.273 Q181.759 522.815 185.37 522.815 Q189.005 522.815 190.81 519.273 Q192.639 515.708 192.639 508.602 Q192.639 501.472 190.81 497.931 Q189.005 494.366 185.37 494.366 M185.37 490.662 Q191.181 490.662 194.236 495.269 Q197.315 499.852 197.315 508.602 Q197.315 517.329 194.236 521.935 Q191.181 526.518 185.37 526.518 Q179.56 526.518 176.482 521.935 Q173.426 517.329 173.426 508.602 Q173.426 499.852 176.482 495.269 Q179.56 490.662 185.37 490.662 Z\" fill=\"#000000\" fill-rule=\"evenodd\" fill-opacity=\"1\" /><path clip-path=\"url(#clip550)\" d=\"M233.704 500.384 L223.125 511.009 L233.704 521.588 L230.949 524.389 L220.324 513.764 L209.699 524.389 L206.968 521.588 L217.523 511.009 L206.968 500.384 L209.699 497.583 L220.324 508.208 L230.949 497.583 L233.704 500.384 Z\" fill=\"#000000\" fill-rule=\"evenodd\" fill-opacity=\"1\" /><path clip-path=\"url(#clip550)\" d=\"M246.065 521.912 L253.703 521.912 L253.703 495.546 L245.393 497.213 L245.393 492.954 L253.657 491.287 L258.333 491.287 L258.333 521.912 L265.972 521.912 L265.972 525.847 L246.065 525.847 L246.065 521.912 Z\" fill=\"#000000\" fill-rule=\"evenodd\" fill-opacity=\"1\" /><path clip-path=\"url(#clip550)\" d=\"M285.416 494.366 Q281.805 494.366 279.976 497.931 Q278.171 501.472 278.171 508.602 Q278.171 515.708 279.976 519.273 Q281.805 522.815 285.416 522.815 Q289.05 522.815 290.856 519.273 Q292.685 515.708 292.685 508.602 Q292.685 501.472 290.856 497.931 Q289.05 494.366 285.416 494.366 M285.416 490.662 Q291.226 490.662 294.282 495.269 Q297.361 499.852 297.361 508.602 Q297.361 517.329 294.282 521.935 Q291.226 526.518 285.416 526.518 Q279.606 526.518 276.527 521.935 Q273.472 517.329 273.472 508.602 Q273.472 499.852 276.527 495.269 Q279.606 490.662 285.416 490.662 Z\" fill=\"#000000\" fill-rule=\"evenodd\" fill-opacity=\"1\" /><path clip-path=\"url(#clip550)\" d=\"M307.385 482.883 Q304.827 482.883 303.323 484.632 Q301.837 486.381 301.837 489.428 Q301.837 492.456 303.323 494.224 Q304.827 495.973 307.385 495.973 Q309.943 495.973 311.429 494.224 Q312.933 492.456 312.933 489.428 Q312.933 486.381 311.429 484.632 Q309.943 482.883 307.385 482.883 M314.927 470.977 L314.927 474.438 Q313.498 473.761 312.031 473.404 Q310.582 473.046 309.153 473.046 Q305.391 473.046 303.398 475.585 Q301.423 478.124 301.141 483.259 Q302.251 481.623 303.924 480.757 Q305.598 479.873 307.611 479.873 Q311.843 479.873 314.288 482.45 Q316.751 485.008 316.751 489.428 Q316.751 493.754 314.194 496.368 Q311.636 498.982 307.385 498.982 Q302.514 498.982 299.937 495.258 Q297.361 491.516 297.361 484.425 Q297.361 477.767 300.52 473.817 Q303.68 469.849 309.003 469.849 Q310.432 469.849 311.88 470.131 Q313.347 470.413 314.927 470.977 Z\" fill=\"#000000\" fill-rule=\"evenodd\" fill-opacity=\"1\" /><path clip-path=\"url(#clip550)\" d=\"M104.005 223.633 L120.324 223.633 L120.324 227.569 L98.3802 227.569 L98.3802 223.633 Q101.042 220.879 105.625 216.249 Q110.232 211.596 111.412 210.254 Q113.658 207.731 114.537 205.995 Q115.44 204.235 115.44 202.546 Q115.44 199.791 113.496 198.055 Q111.575 196.319 108.473 196.319 Q106.274 196.319 103.82 197.083 Q101.389 197.847 98.6116 199.397 L98.6116 194.675 Q101.436 193.541 103.889 192.962 Q106.343 192.384 108.38 192.384 Q113.75 192.384 116.945 195.069 Q120.139 197.754 120.139 202.245 Q120.139 204.374 119.329 206.296 Q118.542 208.194 116.436 210.786 Q115.857 211.458 112.755 214.675 Q109.653 217.87 104.005 223.633 Z\" fill=\"#000000\" fill-rule=\"evenodd\" fill-opacity=\"1\" /><path clip-path=\"url(#clip550)\" d=\"M130.139 221.689 L135.023 221.689 L135.023 227.569 L130.139 227.569 L130.139 221.689 Z\" fill=\"#000000\" fill-rule=\"evenodd\" fill-opacity=\"1\" /><path clip-path=\"url(#clip550)\" d=\"M155.209 196.087 Q151.597 196.087 149.769 199.652 Q147.963 203.194 147.963 210.323 Q147.963 217.43 149.769 220.995 Q151.597 224.536 155.209 224.536 Q158.843 224.536 160.648 220.995 Q162.477 217.43 162.477 210.323 Q162.477 203.194 160.648 199.652 Q158.843 196.087 155.209 196.087 M155.209 192.384 Q161.019 192.384 164.074 196.99 Q167.153 201.573 167.153 210.323 Q167.153 219.05 164.074 223.657 Q161.019 228.24 155.209 228.24 Q149.398 228.24 146.32 223.657 Q143.264 219.05 143.264 210.323 Q143.264 201.573 146.32 196.99 Q149.398 192.384 155.209 192.384 Z\" fill=\"#000000\" fill-rule=\"evenodd\" fill-opacity=\"1\" /><path clip-path=\"url(#clip550)\" d=\"M185.37 196.087 Q181.759 196.087 179.931 199.652 Q178.125 203.194 178.125 210.323 Q178.125 217.43 179.931 220.995 Q181.759 224.536 185.37 224.536 Q189.005 224.536 190.81 220.995 Q192.639 217.43 192.639 210.323 Q192.639 203.194 190.81 199.652 Q189.005 196.087 185.37 196.087 M185.37 192.384 Q191.181 192.384 194.236 196.99 Q197.315 201.573 197.315 210.323 Q197.315 219.05 194.236 223.657 Q191.181 228.24 185.37 228.24 Q179.56 228.24 176.482 223.657 Q173.426 219.05 173.426 210.323 Q173.426 201.573 176.482 196.99 Q179.56 192.384 185.37 192.384 Z\" fill=\"#000000\" fill-rule=\"evenodd\" fill-opacity=\"1\" /><path clip-path=\"url(#clip550)\" d=\"M233.704 202.106 L223.125 212.731 L233.704 223.309 L230.949 226.11 L220.324 215.485 L209.699 226.11 L206.968 223.309 L217.523 212.731 L206.968 202.106 L209.699 199.305 L220.324 209.93 L230.949 199.305 L233.704 202.106 Z\" fill=\"#000000\" fill-rule=\"evenodd\" fill-opacity=\"1\" /><path clip-path=\"url(#clip550)\" d=\"M246.065 223.633 L253.703 223.633 L253.703 197.268 L245.393 198.934 L245.393 194.675 L253.657 193.009 L258.333 193.009 L258.333 223.633 L265.972 223.633 L265.972 227.569 L246.065 227.569 L246.065 223.633 Z\" fill=\"#000000\" fill-rule=\"evenodd\" fill-opacity=\"1\" /><path clip-path=\"url(#clip550)\" d=\"M285.416 196.087 Q281.805 196.087 279.976 199.652 Q278.171 203.194 278.171 210.323 Q278.171 217.43 279.976 220.995 Q281.805 224.536 285.416 224.536 Q289.05 224.536 290.856 220.995 Q292.685 217.43 292.685 210.323 Q292.685 203.194 290.856 199.652 Q289.05 196.087 285.416 196.087 M285.416 192.384 Q291.226 192.384 294.282 196.99 Q297.361 201.573 297.361 210.323 Q297.361 219.05 294.282 223.657 Q291.226 228.24 285.416 228.24 Q279.606 228.24 276.527 223.657 Q273.472 219.05 273.472 210.323 Q273.472 201.573 276.527 196.99 Q279.606 192.384 285.416 192.384 Z\" fill=\"#000000\" fill-rule=\"evenodd\" fill-opacity=\"1\" /><path clip-path=\"url(#clip550)\" d=\"M307.385 184.604 Q304.827 184.604 303.323 186.353 Q301.837 188.102 301.837 191.149 Q301.837 194.177 303.323 195.945 Q304.827 197.694 307.385 197.694 Q309.943 197.694 311.429 195.945 Q312.933 194.177 312.933 191.149 Q312.933 188.102 311.429 186.353 Q309.943 184.604 307.385 184.604 M314.927 172.699 L314.927 176.159 Q313.498 175.482 312.031 175.125 Q310.582 174.768 309.153 174.768 Q305.391 174.768 303.398 177.307 Q301.423 179.846 301.141 184.98 Q302.251 183.344 303.924 182.479 Q305.598 181.595 307.611 181.595 Q311.843 181.595 314.288 184.172 Q316.751 186.729 316.751 191.149 Q316.751 195.475 314.194 198.089 Q311.636 200.704 307.385 200.704 Q302.514 200.704 299.937 196.98 Q297.361 193.237 297.361 186.146 Q297.361 179.488 300.52 175.539 Q303.68 171.57 309.003 171.57 Q310.432 171.57 311.88 171.852 Q313.347 172.135 314.927 172.699 Z\" fill=\"#000000\" fill-rule=\"evenodd\" fill-opacity=\"1\" /><path clip-path=\"url(#clip550)\" d=\"M7.44665 999.869 L7.44665 1009.13 L18.0774 1011.8 L18.0774 1002.48 L7.44665 999.869 M-10.6638 1004.64 L2.54506 1007.95 L2.54506 998.66 L-10.6638 995.318 L-10.6638 990.225 L2.54506 993.503 L2.54506 983.573 L7.44665 983.573 L7.44665 994.745 L18.0774 997.355 L18.0774 987.233 L22.9471 987.233 L22.9471 998.596 L36.1242 1001.91 L36.1242 1007 L22.9471 1003.72 L22.9471 1013.05 L36.1242 1016.32 L36.1242 1021.45 L22.9471 1018.14 L22.9471 1028.16 L18.0774 1028.16 L18.0774 1016.96 L7.44665 1014.29 L7.44665 1024.54 L2.54506 1024.54 L2.54506 1013.05 L-10.6638 1009.8 L-10.6638 1004.64 Z\" fill=\"#000000\" fill-rule=\"evenodd\" fill-opacity=\"1\" /><path clip-path=\"url(#clip550)\" d=\"M22.0559 952.317 L0.4762 952.317 L0.4762 946.461 L21.8331 946.461 Q26.8939 946.461 29.4402 944.487 Q31.9546 942.514 31.9546 938.567 Q31.9546 933.825 28.9309 931.088 Q25.9072 928.319 20.6873 928.319 L0.4762 928.319 L0.4762 922.462 L36.1242 922.462 L36.1242 928.319 L30.6496 928.319 Q33.8962 930.451 35.4876 933.284 Q37.0472 936.085 37.0472 939.809 Q37.0472 945.952 33.2278 949.134 Q29.4083 952.317 22.0559 952.317 M-0.38317 937.581 L-0.38317 937.581 Z\" fill=\"#000000\" fill-rule=\"evenodd\" fill-opacity=\"1\" /><path clip-path=\"url(#clip550)\" d=\"M14.6081 880.767 L36.1242 880.767 L36.1242 886.623 L14.799 886.623 Q9.7383 886.623 7.22385 888.597 Q4.7094 890.57 4.7094 894.517 Q4.7094 899.259 7.73311 901.996 Q10.7568 904.734 15.9767 904.734 L36.1242 904.734 L36.1242 910.622 L0.4762 910.622 L0.4762 904.734 L6.01437 904.734 Q2.79968 902.633 1.20826 899.8 Q-0.38317 896.936 -0.38317 893.212 Q-0.38317 887.069 3.43625 883.918 Q7.22385 880.767 14.6081 880.767 Z\" fill=\"#000000\" fill-rule=\"evenodd\" fill-opacity=\"1\" /><path clip-path=\"url(#clip550)\" d=\"M0.4762 869.086 L0.4762 863.229 L36.1242 863.229 L36.1242 869.086 L0.4762 869.086 M-13.401 869.086 L-13.401 863.229 L-5.98499 863.229 L-5.98499 869.086 L-13.401 869.086 Z\" fill=\"#000000\" fill-rule=\"evenodd\" fill-opacity=\"1\" /><path clip-path=\"url(#clip550)\" d=\"M18.332 847.474 Q24.7932 847.474 28.4853 844.832 Q32.1456 842.159 32.1456 837.512 Q32.1456 832.865 28.4853 830.191 Q24.7932 827.518 18.332 827.518 Q11.8708 827.518 8.21053 830.191 Q4.51842 832.865 4.51842 837.512 Q4.51842 842.159 8.21053 844.832 Q11.8708 847.474 18.332 847.474 M30.777 827.518 Q33.9598 829.364 35.5194 832.196 Q37.0472 834.997 37.0472 838.944 Q37.0472 845.405 31.891 849.479 Q26.7347 853.521 18.332 853.521 Q9.92927 853.521 4.77305 849.479 Q-0.38317 845.405 -0.38317 838.944 Q-0.38317 834.997 1.17643 832.196 Q2.7042 829.364 5.88705 827.518 L0.4762 827.518 L0.4762 821.661 L49.6831 821.661 L49.6831 827.518 L30.777 827.518 Z\" fill=\"#000000\" fill-rule=\"evenodd\" fill-opacity=\"1\" /><path clip-path=\"url(#clip550)\" d=\"M22.0559 810.203 L0.4762 810.203 L0.4762 804.346 L21.8331 804.346 Q26.8939 804.346 29.4402 802.373 Q31.9546 800.4 31.9546 796.453 Q31.9546 791.71 28.9309 788.973 Q25.9072 786.204 20.6873 786.204 L0.4762 786.204 L0.4762 780.348 L36.1242 780.348 L36.1242 786.204 L30.6496 786.204 Q33.8962 788.337 35.4876 791.169 Q37.0472 793.97 37.0472 797.694 Q37.0472 803.837 33.2278 807.02 Q29.4083 810.203 22.0559 810.203 M-0.38317 795.466 L-0.38317 795.466 Z\" fill=\"#000000\" fill-rule=\"evenodd\" fill-opacity=\"1\" /><path clip-path=\"url(#clip550)\" d=\"M16.8361 737.793 L19.7006 737.793 L19.7006 764.72 Q25.7481 764.338 28.9309 761.091 Q32.0819 757.813 32.0819 751.988 Q32.0819 748.615 31.2544 745.464 Q30.4269 742.281 28.7718 739.162 L34.3099 739.162 Q35.6467 742.313 36.347 745.623 Q37.0472 748.933 37.0472 752.339 Q37.0472 760.869 32.0819 765.866 Q27.1167 770.831 18.6503 770.831 Q9.89745 770.831 4.77305 766.12 Q-0.38317 761.378 -0.38317 753.357 Q-0.38317 746.164 4.2638 741.994 Q8.87893 737.793 16.8361 737.793 M15.1173 743.649 Q10.3112 743.713 7.44665 746.355 Q4.58208 748.965 4.58208 753.293 Q4.58208 758.195 7.35116 761.155 Q10.1202 764.083 15.1492 764.529 L15.1173 743.649 Z\" fill=\"#000000\" fill-rule=\"evenodd\" fill-opacity=\"1\" /><path clip-path=\"url(#clip550)\" d=\"M-13.401 707.683 L-13.401 701.795 L15.8494 701.795 L0.4762 684.321 L0.4762 676.841 L17.1544 695.747 L36.1242 676.046 L36.1242 683.684 L18.7139 701.795 L36.1242 701.795 L36.1242 707.683 L-13.401 707.683 Z\" fill=\"#000000\" fill-rule=\"evenodd\" fill-opacity=\"1\" /><path clip-path=\"url(#clip550)\" d=\"M7.31933 641.957 Q3.3726 639.761 1.49471 636.706 Q-0.38317 633.65 -0.38317 629.512 Q-0.38317 623.942 3.53174 620.919 Q7.41482 617.895 14.6081 617.895 L36.1242 617.895 L36.1242 623.783 L14.799 623.783 Q9.67465 623.783 7.19202 625.597 Q4.7094 627.412 4.7094 631.136 Q4.7094 635.687 7.73311 638.329 Q10.7568 640.971 15.9767 640.971 L36.1242 640.971 L36.1242 646.859 L14.799 646.859 Q9.64282 646.859 7.19202 648.673 Q4.7094 650.487 4.7094 654.275 Q4.7094 658.763 7.76493 661.404 Q10.7886 664.046 15.9767 664.046 L36.1242 664.046 L36.1242 669.935 L0.4762 669.935 L0.4762 664.046 L6.01437 664.046 Q2.73603 662.041 1.17643 659.24 Q-0.38317 656.439 -0.38317 652.588 Q-0.38317 648.705 1.5902 645.999 Q3.56357 643.262 7.31933 641.957 Z\" fill=\"#000000\" fill-rule=\"evenodd\" fill-opacity=\"1\" /><path clip-path=\"url(#clip550)\" d=\"M16.8361 575.722 L19.7006 575.722 L19.7006 602.649 Q25.7481 602.267 28.9309 599.021 Q32.0819 595.742 32.0819 589.918 Q32.0819 586.544 31.2544 583.393 Q30.4269 580.21 28.7718 577.091 L34.3099 577.091 Q35.6467 580.242 36.347 583.552 Q37.0472 586.862 37.0472 590.268 Q37.0472 598.798 32.0819 603.795 Q27.1167 608.76 18.6503 608.76 Q9.89745 608.76 4.77305 604.049 Q-0.38317 599.307 -0.38317 591.286 Q-0.38317 584.093 4.2638 579.923 Q8.87893 575.722 16.8361 575.722 M15.1173 581.578 Q10.3112 581.642 7.44665 584.284 Q4.58208 586.894 4.58208 591.223 Q4.58208 596.124 7.35116 599.084 Q10.1202 602.012 15.1492 602.458 L15.1173 581.578 Z\" fill=\"#000000\" fill-rule=\"evenodd\" fill-opacity=\"1\" /><path clip-path=\"url(#clip550)\" d=\"M5.95071 545.453 Q5.37779 546.44 5.12317 547.617 Q4.83671 548.763 4.83671 550.164 Q4.83671 555.129 8.08322 557.803 Q11.2979 560.444 17.3453 560.444 L36.1242 560.444 L36.1242 566.333 L0.4762 566.333 L0.4762 560.444 L6.01437 560.444 Q2.76785 558.598 1.20826 555.638 Q-0.38317 552.678 -0.38317 548.445 Q-0.38317 547.84 -0.287684 547.108 Q-0.224027 546.376 -0.0648847 545.485 L5.95071 545.453 Z\" fill=\"#000000\" fill-rule=\"evenodd\" fill-opacity=\"1\" /><path clip-path=\"url(#clip550)\" d=\"M1.52654 516.585 L7.06471 516.585 Q5.79157 519.067 5.15499 521.741 Q4.51842 524.414 4.51842 527.279 Q4.51842 531.64 5.85522 533.836 Q7.19202 536 9.86562 536 Q11.9026 536 13.0803 534.44 Q14.2261 532.881 15.2765 528.17 L15.7221 526.165 Q17.0589 519.927 19.5097 517.317 Q21.9286 514.675 26.2891 514.675 Q31.2544 514.675 34.1508 518.622 Q37.0472 522.537 37.0472 529.412 Q37.0472 532.276 36.4743 535.395 Q35.9332 538.483 34.8192 541.92 L28.7718 541.92 Q30.4587 538.674 31.318 535.523 Q32.1456 532.372 32.1456 529.284 Q32.1456 525.147 30.7451 522.919 Q29.3129 520.691 26.7347 520.691 Q24.3476 520.691 23.0745 522.314 Q21.8013 523.905 20.6237 529.348 L20.1462 531.385 Q19.0004 536.828 16.6451 539.247 Q14.258 541.666 10.1202 541.666 Q5.09134 541.666 2.35408 538.101 Q-0.38317 534.536 -0.38317 527.979 Q-0.38317 524.733 0.0942579 521.868 Q0.571686 519.004 1.52654 516.585 Z\" fill=\"#000000\" fill-rule=\"evenodd\" fill-opacity=\"1\" /><path clip-path=\"url(#clip550)\" d=\"M663.855 28.5427 L663.855 35.5912 Q660.695 33.9709 657.293 33.1607 Q653.89 32.3505 650.244 32.3505 Q644.694 32.3505 641.899 34.0519 Q639.145 35.7533 639.145 39.156 Q639.145 41.7486 641.13 43.2475 Q643.114 44.7058 649.11 46.0426 L651.662 46.6097 Q659.602 48.3111 662.923 51.4303 Q666.286 54.509 666.286 60.0587 Q666.286 66.3781 661.263 70.0644 Q656.28 73.7508 647.53 73.7508 Q643.884 73.7508 639.914 73.0216 Q635.985 72.3329 631.61 70.9151 L631.61 63.2184 Q635.742 65.3654 639.752 66.4591 Q643.763 67.5124 647.692 67.5124 Q652.958 67.5124 655.794 65.73 Q658.629 63.9071 658.629 60.6258 Q658.629 57.5877 656.563 55.9673 Q654.538 54.3469 647.611 52.8481 L645.018 52.2405 Q638.091 50.7821 635.013 47.7845 Q631.934 44.7463 631.934 39.4801 Q631.934 33.0797 636.471 29.5959 Q641.008 26.1121 649.353 26.1121 Q653.485 26.1121 657.131 26.7198 Q660.776 27.3274 663.855 28.5427 Z\" fill=\"#000000\" fill-rule=\"evenodd\" fill-opacity=\"1\" /><path clip-path=\"url(#clip550)\" d=\"M716.962 48.0275 L716.962 51.6733 L682.692 51.6733 Q683.178 59.3701 687.31 63.421 Q691.482 67.4314 698.895 67.4314 Q703.189 67.4314 707.2 66.3781 Q711.251 65.3249 715.221 63.2184 L715.221 70.267 Q711.21 71.9684 706.997 72.8596 Q702.784 73.7508 698.45 73.7508 Q687.593 73.7508 681.233 67.4314 Q674.914 61.1119 674.914 50.3365 Q674.914 39.1965 680.909 32.6746 Q686.945 26.1121 697.154 26.1121 Q706.309 26.1121 711.615 32.0264 Q716.962 37.9003 716.962 48.0275 M709.509 45.84 Q709.428 39.7232 706.066 36.0774 Q702.744 32.4315 697.235 32.4315 Q690.996 32.4315 687.229 35.9558 Q683.502 39.4801 682.935 45.8805 L709.509 45.84 Z\" fill=\"#000000\" fill-rule=\"evenodd\" fill-opacity=\"1\" /><path clip-path=\"url(#clip550)\" d=\"M733.652 49.9314 Q733.652 58.1548 737.014 62.8538 Q740.417 67.5124 746.332 67.5124 Q752.246 67.5124 755.649 62.8538 Q759.051 58.1548 759.051 49.9314 Q759.051 41.7081 755.649 37.0496 Q752.246 32.3505 746.332 32.3505 Q740.417 32.3505 737.014 37.0496 Q733.652 41.7081 733.652 49.9314 M759.051 65.7705 Q756.702 69.8214 753.097 71.8063 Q749.532 73.7508 744.509 73.7508 Q736.285 73.7508 731.1 67.1883 Q725.955 60.6258 725.955 49.9314 Q725.955 39.2371 731.1 32.6746 Q736.285 26.1121 744.509 26.1121 Q749.532 26.1121 753.097 28.0971 Q756.702 30.0415 759.051 34.0924 L759.051 27.2059 L766.505 27.2059 L766.505 89.8329 L759.051 89.8329 L759.051 65.7705 Z\" fill=\"#000000\" fill-rule=\"evenodd\" fill-opacity=\"1\" /><path clip-path=\"url(#clip550)\" d=\"M781.088 54.671 L781.088 27.2059 L788.542 27.2059 L788.542 54.3874 Q788.542 60.8284 791.053 64.0691 Q793.565 67.2693 798.588 67.2693 Q804.624 67.2693 808.108 63.421 Q811.632 59.5726 811.632 52.9291 L811.632 27.2059 L819.086 27.2059 L819.086 72.576 L811.632 72.576 L811.632 65.6084 Q808.918 69.7404 805.313 71.7658 Q801.748 73.7508 797.008 73.7508 Q789.19 73.7508 785.139 68.8897 Q781.088 64.0286 781.088 54.671 M799.844 26.1121 L799.844 26.1121 Z\" fill=\"#000000\" fill-rule=\"evenodd\" fill-opacity=\"1\" /><path clip-path=\"url(#clip550)\" d=\"M873.246 48.0275 L873.246 51.6733 L838.976 51.6733 Q839.462 59.3701 843.594 63.421 Q847.766 67.4314 855.179 67.4314 Q859.473 67.4314 863.484 66.3781 Q867.535 65.3249 871.504 63.2184 L871.504 70.267 Q867.494 71.9684 863.281 72.8596 Q859.068 73.7508 854.734 73.7508 Q843.877 73.7508 837.517 67.4314 Q831.198 61.1119 831.198 50.3365 Q831.198 39.1965 837.193 32.6746 Q843.229 26.1121 853.437 26.1121 Q862.592 26.1121 867.899 32.0264 Q873.246 37.9003 873.246 48.0275 M865.793 45.84 Q865.712 39.7232 862.349 36.0774 Q859.028 32.4315 853.518 32.4315 Q847.28 32.4315 843.513 35.9558 Q839.786 39.4801 839.219 45.8805 L865.793 45.84 Z\" fill=\"#000000\" fill-rule=\"evenodd\" fill-opacity=\"1\" /><path clip-path=\"url(#clip550)\" d=\"M923.194 45.1919 L923.194 72.576 L915.74 72.576 L915.74 45.4349 Q915.74 38.994 913.229 35.7938 Q910.717 32.5936 905.694 32.5936 Q899.658 32.5936 896.174 36.4419 Q892.691 40.2903 892.691 46.9338 L892.691 72.576 L885.197 72.576 L885.197 27.2059 L892.691 27.2059 L892.691 34.2544 Q895.364 30.163 898.97 28.1376 Q902.615 26.1121 907.355 26.1121 Q915.173 26.1121 919.184 30.9732 Q923.194 35.7938 923.194 45.1919 Z\" fill=\"#000000\" fill-rule=\"evenodd\" fill-opacity=\"1\" /><path clip-path=\"url(#clip550)\" d=\"M970.711 28.9478 L970.711 35.9153 Q967.551 34.1734 964.351 33.3227 Q961.191 32.4315 957.951 32.4315 Q950.7 32.4315 946.689 37.0496 Q942.679 41.6271 942.679 49.9314 Q942.679 58.2358 946.689 62.8538 Q950.7 67.4314 957.951 67.4314 Q961.191 67.4314 964.351 66.5807 Q967.551 65.6895 970.711 63.9476 L970.711 70.8341 Q967.592 72.2924 964.23 73.0216 Q960.908 73.7508 957.141 73.7508 Q946.892 73.7508 940.856 67.3098 Q934.82 60.8689 934.82 49.9314 Q934.82 38.832 940.896 32.472 Q947.013 26.1121 957.627 26.1121 Q961.07 26.1121 964.351 26.8413 Q967.632 27.5299 970.711 28.9478 Z\" fill=\"#000000\" fill-rule=\"evenodd\" fill-opacity=\"1\" /><path clip-path=\"url(#clip550)\" d=\"M983.674 27.2059 L991.128 27.2059 L991.128 72.576 L983.674 72.576 L983.674 27.2059 M983.674 9.54393 L991.128 9.54393 L991.128 18.9825 L983.674 18.9825 L983.674 9.54393 Z\" fill=\"#000000\" fill-rule=\"evenodd\" fill-opacity=\"1\" /><path clip-path=\"url(#clip550)\" d=\"M1044.44 45.1919 L1044.44 72.576 L1036.98 72.576 L1036.98 45.4349 Q1036.98 38.994 1034.47 35.7938 Q1031.96 32.5936 1026.94 32.5936 Q1020.9 32.5936 1017.42 36.4419 Q1013.93 40.2903 1013.93 46.9338 L1013.93 72.576 L1006.44 72.576 L1006.44 27.2059 L1013.93 27.2059 L1013.93 34.2544 Q1016.61 30.163 1020.21 28.1376 Q1023.86 26.1121 1028.6 26.1121 Q1036.42 26.1121 1040.43 30.9732 Q1044.44 35.7938 1044.44 45.1919 Z\" fill=\"#000000\" fill-rule=\"evenodd\" fill-opacity=\"1\" /><path clip-path=\"url(#clip550)\" d=\"M1089.16 49.3643 Q1089.16 41.2625 1085.8 36.8065 Q1082.48 32.3505 1076.44 32.3505 Q1070.44 32.3505 1067.08 36.8065 Q1063.76 41.2625 1063.76 49.3643 Q1063.76 57.4256 1067.08 61.8816 Q1070.44 66.3376 1076.44 66.3376 Q1082.48 66.3376 1085.8 61.8816 Q1089.16 57.4256 1089.16 49.3643 M1096.61 66.9452 Q1096.61 78.5308 1091.47 84.1616 Q1086.32 89.8329 1075.71 89.8329 Q1071.78 89.8329 1068.3 89.2252 Q1064.81 88.6581 1061.53 87.4428 L1061.53 80.1917 Q1064.81 81.9741 1068.01 82.8248 Q1071.21 83.6755 1074.54 83.6755 Q1081.87 83.6755 1085.51 79.8271 Q1089.16 76.0193 1089.16 68.282 L1089.16 64.5957 Q1086.85 68.6061 1083.25 70.5911 Q1079.64 72.576 1074.62 72.576 Q1066.27 72.576 1061.17 66.2161 Q1056.06 59.8562 1056.06 49.3643 Q1056.06 38.832 1061.17 32.472 Q1066.27 26.1121 1074.62 26.1121 Q1079.64 26.1121 1083.25 28.0971 Q1086.85 30.082 1089.16 34.0924 L1089.16 27.2059 L1096.61 27.2059 L1096.61 66.9452 Z\" fill=\"#000000\" fill-rule=\"evenodd\" fill-opacity=\"1\" /><path clip-path=\"url(#clip550)\" d=\"M1167.26 28.5427 L1167.26 35.5912 Q1164.1 33.9709 1160.7 33.1607 Q1157.3 32.3505 1153.65 32.3505 Q1148.1 32.3505 1145.31 34.0519 Q1142.55 35.7533 1142.55 39.156 Q1142.55 41.7486 1144.54 43.2475 Q1146.52 44.7058 1152.52 46.0426 L1155.07 46.6097 Q1163.01 48.3111 1166.33 51.4303 Q1169.69 54.509 1169.69 60.0587 Q1169.69 66.3781 1164.67 70.0644 Q1159.69 73.7508 1150.94 73.7508 Q1147.29 73.7508 1143.32 73.0216 Q1139.39 72.3329 1135.02 70.9151 L1135.02 63.2184 Q1139.15 65.3654 1143.16 66.4591 Q1147.17 67.5124 1151.1 67.5124 Q1156.36 67.5124 1159.2 65.73 Q1162.04 63.9071 1162.04 60.6258 Q1162.04 57.5877 1159.97 55.9673 Q1157.94 54.3469 1151.02 52.8481 L1148.42 52.2405 Q1141.5 50.7821 1138.42 47.7845 Q1135.34 44.7463 1135.34 39.4801 Q1135.34 33.0797 1139.88 29.5959 Q1144.41 26.1121 1152.76 26.1121 Q1156.89 26.1121 1160.54 26.7198 Q1164.18 27.3274 1167.26 28.5427 Z\" fill=\"#000000\" fill-rule=\"evenodd\" fill-opacity=\"1\" /><path clip-path=\"url(#clip550)\" d=\"M1202.18 49.7694 Q1193.15 49.7694 1189.66 51.8354 Q1186.18 53.9013 1186.18 58.8839 Q1186.18 62.8538 1188.77 65.2034 Q1191.4 67.5124 1195.9 67.5124 Q1202.1 67.5124 1205.83 63.1374 Q1209.59 58.7219 1209.59 51.4303 L1209.59 49.7694 L1202.18 49.7694 M1217.05 46.6907 L1217.05 72.576 L1209.59 72.576 L1209.59 65.6895 Q1207.04 69.8214 1203.23 71.8063 Q1199.43 73.7508 1193.92 73.7508 Q1186.95 73.7508 1182.82 69.8619 Q1178.73 65.9325 1178.73 59.3701 Q1178.73 51.7138 1183.83 47.825 Q1188.97 43.9361 1199.14 43.9361 L1209.59 43.9361 L1209.59 43.2069 Q1209.59 38.0623 1206.19 35.2672 Q1202.83 32.4315 1196.71 32.4315 Q1192.82 32.4315 1189.14 33.3632 Q1185.45 34.295 1182.05 36.1584 L1182.05 29.2718 Q1186.14 27.692 1189.99 26.9223 Q1193.83 26.1121 1197.48 26.1121 Q1207.32 26.1121 1212.19 31.2163 Q1217.05 36.3204 1217.05 46.6907 Z\" fill=\"#000000\" fill-rule=\"evenodd\" fill-opacity=\"1\" /><path clip-path=\"url(#clip550)\" d=\"M1239.77 14.324 L1239.77 27.2059 L1255.13 27.2059 L1255.13 32.9987 L1239.77 32.9987 L1239.77 57.6282 Q1239.77 63.1779 1241.27 64.7578 Q1242.81 66.3376 1247.47 66.3376 L1255.13 66.3376 L1255.13 72.576 L1247.47 72.576 Q1238.84 72.576 1235.56 69.3758 Q1232.28 66.1351 1232.28 57.6282 L1232.28 32.9987 L1226.81 32.9987 L1226.81 27.2059 L1232.28 27.2059 L1232.28 14.324 L1239.77 14.324 Z\" fill=\"#000000\" fill-rule=\"evenodd\" fill-opacity=\"1\" /><path clip-path=\"url(#clip550)\" d=\"M1264.16 54.671 L1264.16 27.2059 L1271.61 27.2059 L1271.61 54.3874 Q1271.61 60.8284 1274.12 64.0691 Q1276.64 67.2693 1281.66 67.2693 Q1287.69 67.2693 1291.18 63.421 Q1294.7 59.5726 1294.7 52.9291 L1294.7 27.2059 L1302.16 27.2059 L1302.16 72.576 L1294.7 72.576 L1294.7 65.6084 Q1291.99 69.7404 1288.38 71.7658 Q1284.82 73.7508 1280.08 73.7508 Q1272.26 73.7508 1268.21 68.8897 Q1264.16 64.0286 1264.16 54.671 M1282.91 26.1121 L1282.91 26.1121 Z\" fill=\"#000000\" fill-rule=\"evenodd\" fill-opacity=\"1\" /><path clip-path=\"url(#clip550)\" d=\"M1343.8 34.1734 Q1342.54 33.4443 1341.04 33.1202 Q1339.59 32.7556 1337.8 32.7556 Q1331.48 32.7556 1328.08 36.8875 Q1324.72 40.9789 1324.72 48.6757 L1324.72 72.576 L1317.23 72.576 L1317.23 27.2059 L1324.72 27.2059 L1324.72 34.2544 Q1327.07 30.1225 1330.84 28.1376 Q1334.6 26.1121 1339.99 26.1121 Q1340.76 26.1121 1341.69 26.2337 Q1342.62 26.3147 1343.76 26.5172 L1343.8 34.1734 Z\" fill=\"#000000\" fill-rule=\"evenodd\" fill-opacity=\"1\" /><path clip-path=\"url(#clip550)\" d=\"M1372.24 49.7694 Q1363.2 49.7694 1359.72 51.8354 Q1356.24 53.9013 1356.24 58.8839 Q1356.24 62.8538 1358.83 65.2034 Q1361.46 67.5124 1365.96 67.5124 Q1372.16 67.5124 1375.88 63.1374 Q1379.65 58.7219 1379.65 51.4303 L1379.65 49.7694 L1372.24 49.7694 M1387.1 46.6907 L1387.1 72.576 L1379.65 72.576 L1379.65 65.6895 Q1377.1 69.8214 1373.29 71.8063 Q1369.48 73.7508 1363.97 73.7508 Q1357.01 73.7508 1352.87 69.8619 Q1348.78 65.9325 1348.78 59.3701 Q1348.78 51.7138 1353.89 47.825 Q1359.03 43.9361 1369.2 43.9361 L1379.65 43.9361 L1379.65 43.2069 Q1379.65 38.0623 1376.25 35.2672 Q1372.88 32.4315 1366.77 32.4315 Q1362.88 32.4315 1359.19 33.3632 Q1355.51 34.295 1352.1 36.1584 L1352.1 29.2718 Q1356.2 27.692 1360.04 26.9223 Q1363.89 26.1121 1367.54 26.1121 Q1377.38 26.1121 1382.24 31.2163 Q1387.1 36.3204 1387.1 46.6907 Z\" fill=\"#000000\" fill-rule=\"evenodd\" fill-opacity=\"1\" /><path clip-path=\"url(#clip550)\" d=\"M1409.83 14.324 L1409.83 27.2059 L1425.18 27.2059 L1425.18 32.9987 L1409.83 32.9987 L1409.83 57.6282 Q1409.83 63.1779 1411.33 64.7578 Q1412.87 66.3376 1417.53 66.3376 L1425.18 66.3376 L1425.18 72.576 L1417.53 72.576 Q1408.9 72.576 1405.62 69.3758 Q1402.33 66.1351 1402.33 57.6282 L1402.33 32.9987 L1396.87 32.9987 L1396.87 27.2059 L1402.33 27.2059 L1402.33 14.324 L1409.83 14.324 Z\" fill=\"#000000\" fill-rule=\"evenodd\" fill-opacity=\"1\" /><path clip-path=\"url(#clip550)\" d=\"M1434.99 27.2059 L1442.44 27.2059 L1442.44 72.576 L1434.99 72.576 L1434.99 27.2059 M1434.99 9.54393 L1442.44 9.54393 L1442.44 18.9825 L1434.99 18.9825 L1434.99 9.54393 Z\" fill=\"#000000\" fill-rule=\"evenodd\" fill-opacity=\"1\" /><path clip-path=\"url(#clip550)\" d=\"M1475.62 32.4315 Q1469.62 32.4315 1466.14 37.1306 Q1462.65 41.7891 1462.65 49.9314 Q1462.65 58.0738 1466.1 62.7728 Q1469.58 67.4314 1475.62 67.4314 Q1481.57 67.4314 1485.05 62.7323 Q1488.54 58.0333 1488.54 49.9314 Q1488.54 41.8701 1485.05 37.1711 Q1481.57 32.4315 1475.62 32.4315 M1475.62 26.1121 Q1485.34 26.1121 1490.89 32.4315 Q1496.44 38.7509 1496.44 49.9314 Q1496.44 61.0714 1490.89 67.4314 Q1485.34 73.7508 1475.62 73.7508 Q1465.85 73.7508 1460.3 67.4314 Q1454.79 61.0714 1454.79 49.9314 Q1454.79 38.7509 1460.3 32.4315 Q1465.85 26.1121 1475.62 26.1121 Z\" fill=\"#000000\" fill-rule=\"evenodd\" fill-opacity=\"1\" /><path clip-path=\"url(#clip550)\" d=\"M1546.51 45.1919 L1546.51 72.576 L1539.05 72.576 L1539.05 45.4349 Q1539.05 38.994 1536.54 35.7938 Q1534.03 32.5936 1529.01 32.5936 Q1522.97 32.5936 1519.49 36.4419 Q1516 40.2903 1516 46.9338 L1516 72.576 L1508.51 72.576 L1508.51 27.2059 L1516 27.2059 L1516 34.2544 Q1518.68 30.163 1522.28 28.1376 Q1525.93 26.1121 1530.67 26.1121 Q1538.49 26.1121 1542.5 30.9732 Q1546.51 35.7938 1546.51 45.1919 Z\" fill=\"#000000\" fill-rule=\"evenodd\" fill-opacity=\"1\" /><path clip-path=\"url(#clip550)\" d=\"M1610.79 50.8226 Q1610.79 56.6154 1613.67 59.9372 Q1616.55 63.2184 1621.57 63.2184 Q1626.55 63.2184 1629.39 59.8967 Q1632.26 56.5749 1632.26 50.8226 Q1632.26 45.1514 1629.35 41.8296 Q1626.43 38.4674 1621.49 38.4674 Q1616.59 38.4674 1613.67 41.7891 Q1610.79 45.1109 1610.79 50.8226 M1632.87 62.9348 Q1630.44 66.054 1627.28 67.5529 Q1624.16 69.0112 1619.99 69.0112 Q1613.02 69.0112 1608.65 63.9881 Q1604.31 58.9245 1604.31 50.8226 Q1604.31 42.7208 1608.69 37.6572 Q1613.06 32.5936 1619.99 32.5936 Q1624.16 32.5936 1627.32 34.1329 Q1630.48 35.6318 1632.87 38.7104 L1632.87 33.4038 L1638.66 33.4038 L1638.66 63.2184 Q1644.58 62.3272 1647.9 57.8307 Q1651.26 53.2937 1651.26 46.1236 Q1651.26 41.7891 1649.97 37.9813 Q1648.71 34.1734 1646.12 30.9327 Q1641.91 25.626 1635.83 22.8309 Q1629.79 19.9953 1622.66 19.9953 Q1617.68 19.9953 1613.1 21.3321 Q1608.53 22.6284 1604.64 25.2209 Q1598.28 29.3529 1594.67 36.0774 Q1591.11 42.7613 1591.11 50.5796 Q1591.11 57.0205 1593.42 62.6513 Q1595.77 68.282 1600.18 72.576 Q1604.43 76.7889 1610.02 78.9764 Q1615.62 81.2044 1621.97 81.2044 Q1627.2 81.2044 1632.22 79.422 Q1637.29 77.6801 1641.5 74.3989 L1645.15 78.8954 Q1640.08 82.8248 1634.09 84.8907 Q1628.13 86.9972 1621.97 86.9972 Q1614.48 86.9972 1607.84 84.3236 Q1601.19 81.6905 1596.01 76.6269 Q1590.82 71.5633 1588.11 64.9198 Q1585.4 58.2358 1585.4 50.5796 Q1585.4 43.2069 1588.15 36.523 Q1590.9 29.839 1596.01 24.7753 Q1601.23 19.6307 1608.08 16.9166 Q1614.93 14.162 1622.58 14.162 Q1631.17 14.162 1638.5 17.6862 Q1645.88 21.2105 1650.86 27.692 Q1653.9 31.6619 1655.48 36.3204 Q1657.1 40.9789 1657.1 45.9616 Q1657.1 56.6154 1650.66 62.7728 Q1644.21 68.9302 1632.87 69.1732 L1632.87 62.9348 Z\" fill=\"#000000\" fill-rule=\"evenodd\" fill-opacity=\"1\" /><path clip-path=\"url(#clip550)\" d=\"M1696.8 9.54393 L1704.29 9.54393 L1704.29 46.7717 L1726.53 27.2059 L1736.05 27.2059 L1711.99 48.4326 L1737.06 72.576 L1727.34 72.576 L1704.29 50.4176 L1704.29 72.576 L1696.8 72.576 L1696.8 9.54393 Z\" fill=\"#000000\" fill-rule=\"evenodd\" fill-opacity=\"1\" /><path clip-path=\"url(#clip550)\" d=\"M1772.47 34.9026 L1824.4 34.9026 L1824.4 41.7081 L1772.47 41.7081 L1772.47 34.9026 M1772.47 51.4303 L1824.4 51.4303 L1824.4 58.3168 L1772.47 58.3168 L1772.47 51.4303 Z\" fill=\"#000000\" fill-rule=\"evenodd\" fill-opacity=\"1\" /><path clip-path=\"url(#clip550)\" d=\"M1869.85 65.6895 L1883.22 65.6895 L1883.22 19.5497 L1868.68 22.4663 L1868.68 15.0127 L1883.14 12.096 L1891.32 12.096 L1891.32 65.6895 L1904.69 65.6895 L1904.69 72.576 L1869.85 72.576 L1869.85 65.6895 Z\" fill=\"#000000\" fill-rule=\"evenodd\" fill-opacity=\"1\" /><path clip-path=\"url(#clip550)\" d=\"M1922.63 65.6895 L1936 65.6895 L1936 19.5497 L1921.46 22.4663 L1921.46 15.0127 L1935.92 12.096 L1944.1 12.096 L1944.1 65.6895 L1957.47 65.6895 L1957.47 72.576 L1922.63 72.576 L1922.63 65.6895 Z\" fill=\"#000000\" fill-rule=\"evenodd\" fill-opacity=\"1\" /><circle clip-path=\"url(#clip552)\" cx=\"417.381\" cy=\"1396.96\" r=\"14\" fill=\"#009af9\" fill-rule=\"evenodd\" fill-opacity=\"1\" stroke=\"#000000\" stroke-opacity=\"1\" stroke-width=\"3.2\"/>\n",
       "<circle clip-path=\"url(#clip552)\" cx=\"417.382\" cy=\"1396.95\" r=\"14\" fill=\"#009af9\" fill-rule=\"evenodd\" fill-opacity=\"1\" stroke=\"#000000\" stroke-opacity=\"1\" stroke-width=\"3.2\"/>\n",
       "<circle clip-path=\"url(#clip552)\" cx=\"417.382\" cy=\"1396.95\" r=\"14\" fill=\"#009af9\" fill-rule=\"evenodd\" fill-opacity=\"1\" stroke=\"#000000\" stroke-opacity=\"1\" stroke-width=\"3.2\"/>\n",
       "<circle clip-path=\"url(#clip552)\" cx=\"417.383\" cy=\"1396.95\" r=\"14\" fill=\"#009af9\" fill-rule=\"evenodd\" fill-opacity=\"1\" stroke=\"#000000\" stroke-opacity=\"1\" stroke-width=\"3.2\"/>\n",
       "<circle clip-path=\"url(#clip552)\" cx=\"417.386\" cy=\"1396.95\" r=\"14\" fill=\"#009af9\" fill-rule=\"evenodd\" fill-opacity=\"1\" stroke=\"#000000\" stroke-opacity=\"1\" stroke-width=\"3.2\"/>\n",
       "<circle clip-path=\"url(#clip552)\" cx=\"417.39\" cy=\"1396.95\" r=\"14\" fill=\"#009af9\" fill-rule=\"evenodd\" fill-opacity=\"1\" stroke=\"#000000\" stroke-opacity=\"1\" stroke-width=\"3.2\"/>\n",
       "<circle clip-path=\"url(#clip552)\" cx=\"417.4\" cy=\"1396.94\" r=\"14\" fill=\"#009af9\" fill-rule=\"evenodd\" fill-opacity=\"1\" stroke=\"#000000\" stroke-opacity=\"1\" stroke-width=\"3.2\"/>\n",
       "<circle clip-path=\"url(#clip552)\" cx=\"417.418\" cy=\"1396.92\" r=\"14\" fill=\"#009af9\" fill-rule=\"evenodd\" fill-opacity=\"1\" stroke=\"#000000\" stroke-opacity=\"1\" stroke-width=\"3.2\"/>\n",
       "<circle clip-path=\"url(#clip552)\" cx=\"417.456\" cy=\"1396.88\" r=\"14\" fill=\"#009af9\" fill-rule=\"evenodd\" fill-opacity=\"1\" stroke=\"#000000\" stroke-opacity=\"1\" stroke-width=\"3.2\"/>\n",
       "<circle clip-path=\"url(#clip552)\" cx=\"417.53\" cy=\"1396.8\" r=\"14\" fill=\"#009af9\" fill-rule=\"evenodd\" fill-opacity=\"1\" stroke=\"#000000\" stroke-opacity=\"1\" stroke-width=\"3.2\"/>\n",
       "<circle clip-path=\"url(#clip552)\" cx=\"417.68\" cy=\"1396.65\" r=\"14\" fill=\"#009af9\" fill-rule=\"evenodd\" fill-opacity=\"1\" stroke=\"#000000\" stroke-opacity=\"1\" stroke-width=\"3.2\"/>\n",
       "<circle clip-path=\"url(#clip552)\" cx=\"417.978\" cy=\"1396.34\" r=\"14\" fill=\"#009af9\" fill-rule=\"evenodd\" fill-opacity=\"1\" stroke=\"#000000\" stroke-opacity=\"1\" stroke-width=\"3.2\"/>\n",
       "<circle clip-path=\"url(#clip552)\" cx=\"418.575\" cy=\"1395.73\" r=\"14\" fill=\"#009af9\" fill-rule=\"evenodd\" fill-opacity=\"1\" stroke=\"#000000\" stroke-opacity=\"1\" stroke-width=\"3.2\"/>\n",
       "<circle clip-path=\"url(#clip552)\" cx=\"419.77\" cy=\"1394.52\" r=\"14\" fill=\"#009af9\" fill-rule=\"evenodd\" fill-opacity=\"1\" stroke=\"#000000\" stroke-opacity=\"1\" stroke-width=\"3.2\"/>\n",
       "<circle clip-path=\"url(#clip552)\" cx=\"422.159\" cy=\"1392.08\" r=\"14\" fill=\"#009af9\" fill-rule=\"evenodd\" fill-opacity=\"1\" stroke=\"#000000\" stroke-opacity=\"1\" stroke-width=\"3.2\"/>\n",
       "<circle clip-path=\"url(#clip552)\" cx=\"426.936\" cy=\"1387.69\" r=\"14\" fill=\"#009af9\" fill-rule=\"evenodd\" fill-opacity=\"1\" stroke=\"#000000\" stroke-opacity=\"1\" stroke-width=\"3.2\"/>\n",
       "<circle clip-path=\"url(#clip552)\" cx=\"436.492\" cy=\"1379.81\" r=\"14\" fill=\"#009af9\" fill-rule=\"evenodd\" fill-opacity=\"1\" stroke=\"#000000\" stroke-opacity=\"1\" stroke-width=\"3.2\"/>\n",
       "<circle clip-path=\"url(#clip552)\" cx=\"455.603\" cy=\"1366.58\" r=\"14\" fill=\"#009af9\" fill-rule=\"evenodd\" fill-opacity=\"1\" stroke=\"#000000\" stroke-opacity=\"1\" stroke-width=\"3.2\"/>\n",
       "<circle clip-path=\"url(#clip552)\" cx=\"493.825\" cy=\"1342.67\" r=\"14\" fill=\"#009af9\" fill-rule=\"evenodd\" fill-opacity=\"1\" stroke=\"#000000\" stroke-opacity=\"1\" stroke-width=\"3.2\"/>\n",
       "<circle clip-path=\"url(#clip552)\" cx=\"570.27\" cy=\"1299.27\" r=\"14\" fill=\"#009af9\" fill-rule=\"evenodd\" fill-opacity=\"1\" stroke=\"#000000\" stroke-opacity=\"1\" stroke-width=\"3.2\"/>\n",
       "<circle clip-path=\"url(#clip552)\" cx=\"723.158\" cy=\"1225.23\" r=\"14\" fill=\"#009af9\" fill-rule=\"evenodd\" fill-opacity=\"1\" stroke=\"#000000\" stroke-opacity=\"1\" stroke-width=\"3.2\"/>\n",
       "<circle clip-path=\"url(#clip552)\" cx=\"1028.94\" cy=\"1106.95\" r=\"14\" fill=\"#009af9\" fill-rule=\"evenodd\" fill-opacity=\"1\" stroke=\"#000000\" stroke-opacity=\"1\" stroke-width=\"3.2\"/>\n",
       "<circle clip-path=\"url(#clip552)\" cx=\"1640.49\" cy=\"940.399\" r=\"14\" fill=\"#009af9\" fill-rule=\"evenodd\" fill-opacity=\"1\" stroke=\"#000000\" stroke-opacity=\"1\" stroke-width=\"3.2\"/>\n",
       "<circle clip-path=\"url(#clip552)\" cx=\"2171.7\" cy=\"837.565\" r=\"14\" fill=\"#009af9\" fill-rule=\"evenodd\" fill-opacity=\"1\" stroke=\"#000000\" stroke-opacity=\"1\" stroke-width=\"3.2\"/>\n",
       "<polyline clip-path=\"url(#clip552)\" style=\"stroke:#e26f46; stroke-linecap:butt; stroke-linejoin:round; stroke-width:4; stroke-opacity:1; fill:none\" points=\"\n",
       "  -1494.83,145.884 4083.91,145.884 \n",
       "  \"/>\n",
       "<polyline clip-path=\"url(#clip552)\" style=\"stroke:#3da44d; stroke-linecap:butt; stroke-linejoin:round; stroke-width:4; stroke-opacity:1; fill:none\" points=\"\n",
       "  -1494.83,338.419 4083.91,338.419 \n",
       "  \"/>\n",
       "<polyline clip-path=\"url(#clip552)\" style=\"stroke:#c271d2; stroke-linecap:butt; stroke-linejoin:round; stroke-width:4; stroke-opacity:1; fill:none\" points=\"\n",
       "  2005.12,2760.62 2005.12,-1217.78 \n",
       "  \"/>\n",
       "<polyline clip-path=\"url(#clip552)\" style=\"stroke:#ac8d18; stroke-linecap:butt; stroke-linejoin:round; stroke-width:4; stroke-opacity:1; fill:none\" points=\"\n",
       "  417.381,1396.96 417.382,1396.95 417.382,1396.95 417.383,1396.95 417.386,1396.95 417.39,1396.95 417.4,1396.94 417.418,1396.93 417.456,1396.91 417.53,1396.86 \n",
       "  417.68,1396.76 417.978,1396.56 418.575,1396.16 419.77,1395.37 422.159,1393.78 426.936,1390.62 436.492,1384.37 455.603,1372.07 493.825,1348.33 570.27,1303.98 \n",
       "  723.158,1226.02 1028.94,1102.61 1640.49,936.344 2005.12,867.687 2171.7,841.306 \n",
       "  \"/>\n",
       "<path clip-path=\"url(#clip550)\" d=\"\n",
       "M2317.26 463.597 L3152.76 463.597 L3152.76 152.557 L2317.26 152.557  Z\n",
       "  \" fill=\"#ffffff\" fill-rule=\"evenodd\" fill-opacity=\"1\"/>\n",
       "<polyline clip-path=\"url(#clip550)\" style=\"stroke:#000000; stroke-linecap:butt; stroke-linejoin:round; stroke-width:4; stroke-opacity:1; fill:none\" points=\"\n",
       "  2317.26,463.597 3152.76,463.597 3152.76,152.557 2317.26,152.557 2317.26,463.597 \n",
       "  \"/>\n",
       "<circle clip-path=\"url(#clip550)\" cx=\"2441.17\" cy=\"204.397\" r=\"23\" fill=\"#009af9\" fill-rule=\"evenodd\" fill-opacity=\"1\" stroke=\"#000000\" stroke-opacity=\"1\" stroke-width=\"5.12\"/>\n",
       "<path clip-path=\"url(#clip550)\" d=\"M2576.98 198.737 Q2573.56 198.737 2571.57 201.422 Q2569.58 204.084 2569.58 208.737 Q2569.58 213.39 2571.54 216.075 Q2573.53 218.737 2576.98 218.737 Q2580.39 218.737 2582.38 216.052 Q2584.37 213.366 2584.37 208.737 Q2584.37 204.13 2582.38 201.445 Q2580.39 198.737 2576.98 198.737 M2576.98 195.126 Q2582.54 195.126 2585.71 198.737 Q2588.88 202.348 2588.88 208.737 Q2588.88 215.103 2585.71 218.737 Q2582.54 222.348 2576.98 222.348 Q2571.4 222.348 2568.23 218.737 Q2565.09 215.103 2565.09 208.737 Q2565.09 202.348 2568.23 198.737 Q2571.4 195.126 2576.98 195.126 Z\" fill=\"#000000\" fill-rule=\"evenodd\" fill-opacity=\"1\" /><path clip-path=\"url(#clip550)\" d=\"M2614.55 208.737 Q2614.55 204.038 2612.61 201.376 Q2610.69 198.691 2607.31 198.691 Q2603.93 198.691 2601.98 201.376 Q2600.06 204.038 2600.06 208.737 Q2600.06 213.436 2601.98 216.121 Q2603.93 218.783 2607.31 218.783 Q2610.69 218.783 2612.61 216.121 Q2614.55 213.436 2614.55 208.737 M2600.06 199.686 Q2601.4 197.371 2603.44 196.26 Q2605.5 195.126 2608.35 195.126 Q2613.07 195.126 2616.01 198.876 Q2618.97 202.626 2618.97 208.737 Q2618.97 214.848 2616.01 218.598 Q2613.07 222.348 2608.35 222.348 Q2605.5 222.348 2603.44 221.237 Q2601.4 220.103 2600.06 217.788 L2600.06 221.677 L2595.78 221.677 L2595.78 185.658 L2600.06 185.658 L2600.06 199.686 Z\" fill=\"#000000\" fill-rule=\"evenodd\" fill-opacity=\"1\" /><path clip-path=\"url(#clip550)\" d=\"M2642.56 196.515 L2642.56 200.542 Q2640.76 199.617 2638.81 199.154 Q2636.87 198.691 2634.78 198.691 Q2631.61 198.691 2630.02 199.663 Q2628.44 200.635 2628.44 202.58 Q2628.44 204.061 2629.58 204.917 Q2630.71 205.751 2634.14 206.515 L2635.59 206.839 Q2640.13 207.811 2642.03 209.593 Q2643.95 211.353 2643.95 214.524 Q2643.95 218.135 2641.08 220.241 Q2638.23 222.348 2633.23 222.348 Q2631.15 222.348 2628.88 221.931 Q2626.64 221.538 2624.14 220.728 L2624.14 216.329 Q2626.5 217.556 2628.79 218.181 Q2631.08 218.783 2633.33 218.783 Q2636.34 218.783 2637.96 217.765 Q2639.58 216.723 2639.58 214.848 Q2639.58 213.112 2638.4 212.186 Q2637.24 211.26 2633.28 210.404 L2631.8 210.056 Q2627.84 209.223 2626.08 207.51 Q2624.32 205.774 2624.32 202.765 Q2624.32 199.107 2626.91 197.117 Q2629.51 195.126 2634.27 195.126 Q2636.64 195.126 2638.72 195.473 Q2640.8 195.82 2642.56 196.515 Z\" fill=\"#000000\" fill-rule=\"evenodd\" fill-opacity=\"1\" /><path clip-path=\"url(#clip550)\" d=\"M2672.91 207.649 L2672.91 209.732 L2653.33 209.732 Q2653.6 214.13 2655.96 216.445 Q2658.35 218.737 2662.58 218.737 Q2665.04 218.737 2667.33 218.135 Q2669.65 217.533 2671.91 216.329 L2671.91 220.357 Q2669.62 221.329 2667.21 221.839 Q2664.81 222.348 2662.33 222.348 Q2656.13 222.348 2652.49 218.737 Q2648.88 215.126 2648.88 208.968 Q2648.88 202.603 2652.31 198.876 Q2655.76 195.126 2661.59 195.126 Q2666.82 195.126 2669.85 198.505 Q2672.91 201.862 2672.91 207.649 M2668.65 206.399 Q2668.6 202.904 2666.68 200.82 Q2664.78 198.737 2661.64 198.737 Q2658.07 198.737 2655.92 200.751 Q2653.79 202.765 2653.46 206.422 L2668.65 206.399 Z\" fill=\"#000000\" fill-rule=\"evenodd\" fill-opacity=\"1\" /><path clip-path=\"url(#clip550)\" d=\"M2694.92 199.732 Q2694.21 199.316 2693.35 199.13 Q2692.52 198.922 2691.5 198.922 Q2687.89 198.922 2685.94 201.283 Q2684.02 203.621 2684.02 208.019 L2684.02 221.677 L2679.74 221.677 L2679.74 195.751 L2684.02 195.751 L2684.02 199.779 Q2685.36 197.418 2687.52 196.283 Q2689.67 195.126 2692.75 195.126 Q2693.19 195.126 2693.72 195.195 Q2694.25 195.242 2694.9 195.357 L2694.92 199.732 Z\" fill=\"#000000\" fill-rule=\"evenodd\" fill-opacity=\"1\" /><path clip-path=\"url(#clip550)\" d=\"M2696.33 195.751 L2700.85 195.751 L2708.95 217.51 L2717.05 195.751 L2721.57 195.751 L2711.84 221.677 L2706.06 221.677 L2696.33 195.751 Z\" fill=\"#000000\" fill-rule=\"evenodd\" fill-opacity=\"1\" /><path clip-path=\"url(#clip550)\" d=\"M2749.62 207.649 L2749.62 209.732 L2730.04 209.732 Q2730.32 214.13 2732.68 216.445 Q2735.06 218.737 2739.3 218.737 Q2741.75 218.737 2744.04 218.135 Q2746.36 217.533 2748.63 216.329 L2748.63 220.357 Q2746.33 221.329 2743.93 221.839 Q2741.52 222.348 2739.04 222.348 Q2732.84 222.348 2729.2 218.737 Q2725.59 215.126 2725.59 208.968 Q2725.59 202.603 2729.02 198.876 Q2732.47 195.126 2738.3 195.126 Q2743.53 195.126 2746.57 198.505 Q2749.62 201.862 2749.62 207.649 M2745.36 206.399 Q2745.32 202.904 2743.39 200.82 Q2741.5 198.737 2738.35 198.737 Q2734.78 198.737 2732.63 200.751 Q2730.5 202.765 2730.18 206.422 L2745.36 206.399 Z\" fill=\"#000000\" fill-rule=\"evenodd\" fill-opacity=\"1\" /><path clip-path=\"url(#clip550)\" d=\"M2773.67 199.686 L2773.67 185.658 L2777.93 185.658 L2777.93 221.677 L2773.67 221.677 L2773.67 217.788 Q2772.33 220.103 2770.27 221.237 Q2768.23 222.348 2765.36 222.348 Q2760.66 222.348 2757.7 218.598 Q2754.76 214.848 2754.76 208.737 Q2754.76 202.626 2757.7 198.876 Q2760.66 195.126 2765.36 195.126 Q2768.23 195.126 2770.27 196.26 Q2772.33 197.371 2773.67 199.686 M2759.16 208.737 Q2759.16 213.436 2761.08 216.121 Q2763.02 218.783 2766.4 218.783 Q2769.78 218.783 2771.73 216.121 Q2773.67 213.436 2773.67 208.737 Q2773.67 204.038 2771.73 201.376 Q2769.78 198.691 2766.4 198.691 Q2763.02 198.691 2761.08 201.376 Q2759.16 204.038 2759.16 208.737 Z\" fill=\"#000000\" fill-rule=\"evenodd\" fill-opacity=\"1\" /><path clip-path=\"url(#clip550)\" d=\"M2801.61 185.658 L2805.89 185.658 L2805.89 206.931 L2818.6 195.751 L2824.04 195.751 L2810.29 207.88 L2824.62 221.677 L2819.07 221.677 L2805.89 209.015 L2805.89 221.677 L2801.61 221.677 L2801.61 185.658 Z\" fill=\"#000000\" fill-rule=\"evenodd\" fill-opacity=\"1\" /><path clip-path=\"url(#clip550)\" d=\"M2849.41 200.728 Q2851.01 197.857 2853.23 196.492 Q2855.45 195.126 2858.46 195.126 Q2862.51 195.126 2864.71 197.973 Q2866.91 200.797 2866.91 206.029 L2866.91 221.677 L2862.63 221.677 L2862.63 206.167 Q2862.63 202.441 2861.31 200.635 Q2859.99 198.83 2857.28 198.83 Q2853.97 198.83 2852.05 201.029 Q2850.13 203.228 2850.13 207.024 L2850.13 221.677 L2845.85 221.677 L2845.85 206.167 Q2845.85 202.417 2844.53 200.635 Q2843.21 198.83 2840.45 198.83 Q2837.19 198.83 2835.27 201.052 Q2833.35 203.251 2833.35 207.024 L2833.35 221.677 L2829.07 221.677 L2829.07 195.751 L2833.35 195.751 L2833.35 199.779 Q2834.81 197.394 2836.84 196.26 Q2838.88 195.126 2841.68 195.126 Q2844.51 195.126 2846.47 196.561 Q2848.46 197.996 2849.41 200.728 Z\" fill=\"#000000\" fill-rule=\"evenodd\" fill-opacity=\"1\" /><path clip-path=\"url(#clip550)\" d=\"M2897.58 207.649 L2897.58 209.732 L2878 209.732 Q2878.28 214.13 2880.64 216.445 Q2883.02 218.737 2887.26 218.737 Q2889.71 218.737 2892.01 218.135 Q2894.32 217.533 2896.59 216.329 L2896.59 220.357 Q2894.3 221.329 2891.89 221.839 Q2889.48 222.348 2887.01 222.348 Q2880.8 222.348 2877.17 218.737 Q2873.56 215.126 2873.56 208.968 Q2873.56 202.603 2876.98 198.876 Q2880.43 195.126 2886.26 195.126 Q2891.5 195.126 2894.53 198.505 Q2897.58 201.862 2897.58 207.649 M2893.32 206.399 Q2893.28 202.904 2891.36 200.82 Q2889.46 198.737 2886.31 198.737 Q2882.75 198.737 2880.59 200.751 Q2878.46 202.765 2878.14 206.422 L2893.32 206.399 Z\" fill=\"#000000\" fill-rule=\"evenodd\" fill-opacity=\"1\" /><path clip-path=\"url(#clip550)\" d=\"M2919.6 199.732 Q2918.88 199.316 2918.02 199.13 Q2917.19 198.922 2916.17 198.922 Q2912.56 198.922 2910.62 201.283 Q2908.69 203.621 2908.69 208.019 L2908.69 221.677 L2904.41 221.677 L2904.41 195.751 L2908.69 195.751 L2908.69 199.779 Q2910.04 197.418 2912.19 196.283 Q2914.34 195.126 2917.42 195.126 Q2917.86 195.126 2918.39 195.195 Q2918.93 195.242 2919.57 195.357 L2919.6 199.732 Z\" fill=\"#000000\" fill-rule=\"evenodd\" fill-opacity=\"1\" /><path clip-path=\"url(#clip550)\" d=\"M2957.79 196.746 L2957.79 200.728 Q2955.99 199.732 2954.16 199.246 Q2952.35 198.737 2950.5 198.737 Q2946.36 198.737 2944.06 201.376 Q2941.77 203.992 2941.77 208.737 Q2941.77 213.482 2944.06 216.121 Q2946.36 218.737 2950.5 218.737 Q2952.35 218.737 2954.16 218.251 Q2955.99 217.741 2957.79 216.746 L2957.79 220.681 Q2956.01 221.515 2954.09 221.931 Q2952.19 222.348 2950.04 222.348 Q2944.18 222.348 2940.73 218.667 Q2937.28 214.987 2937.28 208.737 Q2937.28 202.394 2940.75 198.76 Q2944.25 195.126 2950.31 195.126 Q2952.28 195.126 2954.16 195.543 Q2956.03 195.936 2957.79 196.746 Z\" fill=\"#000000\" fill-rule=\"evenodd\" fill-opacity=\"1\" /><path clip-path=\"url(#clip550)\" d=\"M2975.25 198.737 Q2971.82 198.737 2969.83 201.422 Q2967.84 204.084 2967.84 208.737 Q2967.84 213.39 2969.81 216.075 Q2971.8 218.737 2975.25 218.737 Q2978.65 218.737 2980.64 216.052 Q2982.63 213.366 2982.63 208.737 Q2982.63 204.13 2980.64 201.445 Q2978.65 198.737 2975.25 198.737 M2975.25 195.126 Q2980.8 195.126 2983.97 198.737 Q2987.14 202.348 2987.14 208.737 Q2987.14 215.103 2983.97 218.737 Q2980.8 222.348 2975.25 222.348 Q2969.67 222.348 2966.5 218.737 Q2963.35 215.103 2963.35 208.737 Q2963.35 202.348 2966.5 198.737 Q2969.67 195.126 2975.25 195.126 Z\" fill=\"#000000\" fill-rule=\"evenodd\" fill-opacity=\"1\" /><path clip-path=\"url(#clip550)\" d=\"M2993.76 211.445 L2993.76 195.751 L2998.02 195.751 L2998.02 211.283 Q2998.02 214.964 2999.46 216.816 Q3000.89 218.644 3003.76 218.644 Q3007.21 218.644 3009.2 216.445 Q3011.22 214.246 3011.22 210.45 L3011.22 195.751 L3015.48 195.751 L3015.48 221.677 L3011.22 221.677 L3011.22 217.695 Q3009.67 220.056 3007.61 221.214 Q3005.57 222.348 3002.86 222.348 Q2998.39 222.348 2996.08 219.57 Q2993.76 216.792 2993.76 211.445 M3004.48 195.126 L3004.48 195.126 Z\" fill=\"#000000\" fill-rule=\"evenodd\" fill-opacity=\"1\" /><path clip-path=\"url(#clip550)\" d=\"M3045.8 206.029 L3045.8 221.677 L3041.54 221.677 L3041.54 206.167 Q3041.54 202.487 3040.11 200.658 Q3038.67 198.83 3035.8 198.83 Q3032.35 198.83 3030.36 201.029 Q3028.37 203.228 3028.37 207.024 L3028.37 221.677 L3024.09 221.677 L3024.09 195.751 L3028.37 195.751 L3028.37 199.779 Q3029.9 197.441 3031.96 196.283 Q3034.04 195.126 3036.75 195.126 Q3041.22 195.126 3043.51 197.904 Q3045.8 200.658 3045.8 206.029 Z\" fill=\"#000000\" fill-rule=\"evenodd\" fill-opacity=\"1\" /><path clip-path=\"url(#clip550)\" d=\"M3058.51 188.39 L3058.51 195.751 L3067.28 195.751 L3067.28 199.061 L3058.51 199.061 L3058.51 213.135 Q3058.51 216.306 3059.37 217.209 Q3060.24 218.112 3062.91 218.112 L3067.28 218.112 L3067.28 221.677 L3062.91 221.677 Q3057.98 221.677 3056.1 219.848 Q3054.23 217.996 3054.23 213.135 L3054.23 199.061 L3051.1 199.061 L3051.1 195.751 L3054.23 195.751 L3054.23 188.39 L3058.51 188.39 Z\" fill=\"#000000\" fill-rule=\"evenodd\" fill-opacity=\"1\" /><path clip-path=\"url(#clip550)\" d=\"M3089.41 196.515 L3089.41 200.542 Q3087.61 199.617 3085.66 199.154 Q3083.72 198.691 3081.63 198.691 Q3078.46 198.691 3076.87 199.663 Q3075.29 200.635 3075.29 202.58 Q3075.29 204.061 3076.43 204.917 Q3077.56 205.751 3080.99 206.515 L3082.44 206.839 Q3086.98 207.811 3088.88 209.593 Q3090.8 211.353 3090.8 214.524 Q3090.8 218.135 3087.93 220.241 Q3085.08 222.348 3080.08 222.348 Q3078 222.348 3075.73 221.931 Q3073.49 221.538 3070.99 220.728 L3070.99 216.329 Q3073.35 217.556 3075.64 218.181 Q3077.93 218.783 3080.18 218.783 Q3083.18 218.783 3084.8 217.765 Q3086.43 216.723 3086.43 214.848 Q3086.43 213.112 3085.24 212.186 Q3084.09 211.26 3080.13 210.404 L3078.65 210.056 Q3074.69 209.223 3072.93 207.51 Q3071.17 205.774 3071.17 202.765 Q3071.17 199.107 3073.76 197.117 Q3076.36 195.126 3081.12 195.126 Q3083.49 195.126 3085.57 195.473 Q3087.65 195.82 3089.41 196.515 Z\" fill=\"#000000\" fill-rule=\"evenodd\" fill-opacity=\"1\" /><polyline clip-path=\"url(#clip550)\" style=\"stroke:#e26f46; stroke-linecap:butt; stroke-linejoin:round; stroke-width:4; stroke-opacity:1; fill:none\" points=\"\n",
       "  2348.24,256.237 2534.11,256.237 \n",
       "  \"/>\n",
       "<path clip-path=\"url(#clip550)\" d=\"M2578.49 260.484 Q2573.33 260.484 2571.34 261.665 Q2569.34 262.845 2569.34 265.693 Q2569.34 267.961 2570.83 269.304 Q2572.33 270.623 2574.9 270.623 Q2578.44 270.623 2580.57 268.123 Q2582.72 265.6 2582.72 261.433 L2582.72 260.484 L2578.49 260.484 M2586.98 258.725 L2586.98 273.517 L2582.72 273.517 L2582.72 269.581 Q2581.27 271.943 2579.09 273.077 Q2576.91 274.188 2573.77 274.188 Q2569.78 274.188 2567.42 271.966 Q2565.09 269.72 2565.09 265.97 Q2565.09 261.595 2568 259.373 Q2570.94 257.151 2576.75 257.151 L2582.72 257.151 L2582.72 256.734 Q2582.72 253.795 2580.78 252.197 Q2578.86 250.577 2575.36 250.577 Q2573.14 250.577 2571.03 251.109 Q2568.93 251.642 2566.98 252.707 L2566.98 248.771 Q2569.32 247.869 2571.52 247.429 Q2573.72 246.966 2575.8 246.966 Q2581.43 246.966 2584.21 249.883 Q2586.98 252.799 2586.98 258.725 Z\" fill=\"#000000\" fill-rule=\"evenodd\" fill-opacity=\"1\" /><path clip-path=\"url(#clip550)\" d=\"M2614.37 260.577 Q2614.37 255.878 2612.42 253.216 Q2610.5 250.531 2607.12 250.531 Q2603.74 250.531 2601.8 253.216 Q2599.88 255.878 2599.88 260.577 Q2599.88 265.276 2601.8 267.961 Q2603.74 270.623 2607.12 270.623 Q2610.5 270.623 2612.42 267.961 Q2614.37 265.276 2614.37 260.577 M2599.88 251.526 Q2601.22 249.211 2603.26 248.1 Q2605.32 246.966 2608.16 246.966 Q2612.89 246.966 2615.83 250.716 Q2618.79 254.466 2618.79 260.577 Q2618.79 266.688 2615.83 270.438 Q2612.89 274.188 2608.16 274.188 Q2605.32 274.188 2603.26 273.077 Q2601.22 271.943 2599.88 269.628 L2599.88 273.517 L2595.59 273.517 L2595.59 237.498 L2599.88 237.498 L2599.88 251.526 Z\" fill=\"#000000\" fill-rule=\"evenodd\" fill-opacity=\"1\" /><path clip-path=\"url(#clip550)\" d=\"M2642.38 248.355 L2642.38 252.382 Q2640.57 251.457 2638.63 250.994 Q2636.68 250.531 2634.6 250.531 Q2631.43 250.531 2629.83 251.503 Q2628.26 252.475 2628.26 254.42 Q2628.26 255.901 2629.39 256.757 Q2630.52 257.591 2633.95 258.355 L2635.41 258.679 Q2639.95 259.651 2641.84 261.433 Q2643.77 263.193 2643.77 266.364 Q2643.77 269.975 2640.9 272.081 Q2638.05 274.188 2633.05 274.188 Q2630.96 274.188 2628.7 273.771 Q2626.45 273.378 2623.95 272.568 L2623.95 268.169 Q2626.31 269.396 2628.6 270.021 Q2630.9 270.623 2633.14 270.623 Q2636.15 270.623 2637.77 269.605 Q2639.39 268.563 2639.39 266.688 Q2639.39 264.952 2638.21 264.026 Q2637.05 263.1 2633.09 262.244 L2631.61 261.896 Q2627.65 261.063 2625.9 259.35 Q2624.14 257.614 2624.14 254.605 Q2624.14 250.947 2626.73 248.957 Q2629.32 246.966 2634.09 246.966 Q2636.45 246.966 2638.53 247.313 Q2640.62 247.66 2642.38 248.355 Z\" fill=\"#000000\" fill-rule=\"evenodd\" fill-opacity=\"1\" /><path clip-path=\"url(#clip550)\" d=\"M2660.59 250.577 Q2657.17 250.577 2655.18 253.262 Q2653.19 255.924 2653.19 260.577 Q2653.19 265.23 2655.15 267.915 Q2657.15 270.577 2660.59 270.577 Q2664 270.577 2665.99 267.892 Q2667.98 265.206 2667.98 260.577 Q2667.98 255.97 2665.99 253.285 Q2664 250.577 2660.59 250.577 M2660.59 246.966 Q2666.15 246.966 2669.32 250.577 Q2672.49 254.188 2672.49 260.577 Q2672.49 266.943 2669.32 270.577 Q2666.15 274.188 2660.59 274.188 Q2655.02 274.188 2651.84 270.577 Q2648.7 266.943 2648.7 260.577 Q2648.7 254.188 2651.84 250.577 Q2655.02 246.966 2660.59 246.966 Z\" fill=\"#000000\" fill-rule=\"evenodd\" fill-opacity=\"1\" /><path clip-path=\"url(#clip550)\" d=\"M2679.55 237.498 L2683.81 237.498 L2683.81 273.517 L2679.55 273.517 L2679.55 237.498 Z\" fill=\"#000000\" fill-rule=\"evenodd\" fill-opacity=\"1\" /><path clip-path=\"url(#clip550)\" d=\"M2692.28 263.285 L2692.28 247.591 L2696.54 247.591 L2696.54 263.123 Q2696.54 266.804 2697.98 268.656 Q2699.41 270.484 2702.28 270.484 Q2705.73 270.484 2707.72 268.285 Q2709.74 266.086 2709.74 262.29 L2709.74 247.591 L2714 247.591 L2714 273.517 L2709.74 273.517 L2709.74 269.535 Q2708.19 271.896 2706.13 273.054 Q2704.09 274.188 2701.38 274.188 Q2696.91 274.188 2694.6 271.41 Q2692.28 268.632 2692.28 263.285 M2703 246.966 L2703 246.966 Z\" fill=\"#000000\" fill-rule=\"evenodd\" fill-opacity=\"1\" /><path clip-path=\"url(#clip550)\" d=\"M2726.98 240.23 L2726.98 247.591 L2735.76 247.591 L2735.76 250.901 L2726.98 250.901 L2726.98 264.975 Q2726.98 268.146 2727.84 269.049 Q2728.72 269.952 2731.38 269.952 L2735.76 269.952 L2735.76 273.517 L2731.38 273.517 Q2726.45 273.517 2724.58 271.688 Q2722.7 269.836 2722.7 264.975 L2722.7 250.901 L2719.58 250.901 L2719.58 247.591 L2722.7 247.591 L2722.7 240.23 L2726.98 240.23 Z\" fill=\"#000000\" fill-rule=\"evenodd\" fill-opacity=\"1\" /><path clip-path=\"url(#clip550)\" d=\"M2763.53 259.489 L2763.53 261.572 L2743.95 261.572 Q2744.23 265.97 2746.59 268.285 Q2748.97 270.577 2753.21 270.577 Q2755.66 270.577 2757.95 269.975 Q2760.27 269.373 2762.54 268.169 L2762.54 272.197 Q2760.25 273.169 2757.84 273.679 Q2755.43 274.188 2752.95 274.188 Q2746.75 274.188 2743.12 270.577 Q2739.51 266.966 2739.51 260.808 Q2739.51 254.443 2742.93 250.716 Q2746.38 246.966 2752.21 246.966 Q2757.45 246.966 2760.48 250.345 Q2763.53 253.702 2763.53 259.489 M2759.27 258.239 Q2759.23 254.744 2757.31 252.66 Q2755.41 250.577 2752.26 250.577 Q2748.7 250.577 2746.54 252.591 Q2744.41 254.605 2744.09 258.262 L2759.27 258.239 Z\" fill=\"#000000\" fill-rule=\"evenodd\" fill-opacity=\"1\" /><path clip-path=\"url(#clip550)\" d=\"M2805.78 252.568 Q2807.38 249.697 2809.6 248.332 Q2811.82 246.966 2814.83 246.966 Q2818.88 246.966 2821.08 249.813 Q2823.28 252.637 2823.28 257.869 L2823.28 273.517 L2819 273.517 L2819 258.007 Q2819 254.281 2817.68 252.475 Q2816.36 250.67 2813.65 250.67 Q2810.34 250.67 2808.42 252.869 Q2806.5 255.068 2806.5 258.864 L2806.5 273.517 L2802.21 273.517 L2802.21 258.007 Q2802.21 254.257 2800.89 252.475 Q2799.57 250.67 2796.82 250.67 Q2793.56 250.67 2791.64 252.892 Q2789.71 255.091 2789.71 258.864 L2789.71 273.517 L2785.43 273.517 L2785.43 247.591 L2789.71 247.591 L2789.71 251.619 Q2791.17 249.234 2793.21 248.1 Q2795.25 246.966 2798.05 246.966 Q2800.87 246.966 2802.84 248.401 Q2804.83 249.836 2805.78 252.568 Z\" fill=\"#000000\" fill-rule=\"evenodd\" fill-opacity=\"1\" /><path clip-path=\"url(#clip550)\" d=\"M2843.56 260.484 Q2838.39 260.484 2836.4 261.665 Q2834.41 262.845 2834.41 265.693 Q2834.41 267.961 2835.89 269.304 Q2837.4 270.623 2839.97 270.623 Q2843.51 270.623 2845.64 268.123 Q2847.79 265.6 2847.79 261.433 L2847.79 260.484 L2843.56 260.484 M2852.05 258.725 L2852.05 273.517 L2847.79 273.517 L2847.79 269.581 Q2846.33 271.943 2844.16 273.077 Q2841.98 274.188 2838.83 274.188 Q2834.85 274.188 2832.49 271.966 Q2830.15 269.72 2830.15 265.97 Q2830.15 261.595 2833.07 259.373 Q2836.01 257.151 2841.82 257.151 L2847.79 257.151 L2847.79 256.734 Q2847.79 253.795 2845.85 252.197 Q2843.93 250.577 2840.43 250.577 Q2838.21 250.577 2836.1 251.109 Q2834 251.642 2832.05 252.707 L2832.05 248.771 Q2834.39 247.869 2836.59 247.429 Q2838.79 246.966 2840.87 246.966 Q2846.5 246.966 2849.27 249.883 Q2852.05 252.799 2852.05 258.725 Z\" fill=\"#000000\" fill-rule=\"evenodd\" fill-opacity=\"1\" /><path clip-path=\"url(#clip550)\" d=\"M2882.38 247.591 L2873 260.207 L2882.86 273.517 L2877.84 273.517 L2870.29 263.332 L2862.75 273.517 L2857.72 273.517 L2867.79 259.952 L2858.58 247.591 L2863.6 247.591 L2870.48 256.827 L2877.35 247.591 L2882.38 247.591 Z\" fill=\"#000000\" fill-rule=\"evenodd\" fill-opacity=\"1\" /><path clip-path=\"url(#clip550)\" d=\"M2888.88 247.591 L2893.14 247.591 L2893.14 273.517 L2888.88 273.517 L2888.88 247.591 M2888.88 237.498 L2893.14 237.498 L2893.14 242.892 L2888.88 242.892 L2888.88 237.498 Z\" fill=\"#000000\" fill-rule=\"evenodd\" fill-opacity=\"1\" /><path clip-path=\"url(#clip550)\" d=\"M2922.24 252.568 Q2923.83 249.697 2926.06 248.332 Q2928.28 246.966 2931.29 246.966 Q2935.34 246.966 2937.54 249.813 Q2939.74 252.637 2939.74 257.869 L2939.74 273.517 L2935.45 273.517 L2935.45 258.007 Q2935.45 254.281 2934.13 252.475 Q2932.81 250.67 2930.11 250.67 Q2926.8 250.67 2924.88 252.869 Q2922.95 255.068 2922.95 258.864 L2922.95 273.517 L2918.67 273.517 L2918.67 258.007 Q2918.67 254.257 2917.35 252.475 Q2916.03 250.67 2913.28 250.67 Q2910.01 250.67 2908.09 252.892 Q2906.17 255.091 2906.17 258.864 L2906.17 273.517 L2901.89 273.517 L2901.89 247.591 L2906.17 247.591 L2906.17 251.619 Q2907.63 249.234 2909.67 248.1 Q2911.7 246.966 2914.5 246.966 Q2917.33 246.966 2919.3 248.401 Q2921.29 249.836 2922.24 252.568 Z\" fill=\"#000000\" fill-rule=\"evenodd\" fill-opacity=\"1\" /><path clip-path=\"url(#clip550)\" d=\"M2947.79 263.285 L2947.79 247.591 L2952.05 247.591 L2952.05 263.123 Q2952.05 266.804 2953.49 268.656 Q2954.92 270.484 2957.79 270.484 Q2961.24 270.484 2963.23 268.285 Q2965.25 266.086 2965.25 262.29 L2965.25 247.591 L2969.5 247.591 L2969.5 273.517 L2965.25 273.517 L2965.25 269.535 Q2963.69 271.896 2961.63 273.054 Q2959.6 274.188 2956.89 274.188 Q2952.42 274.188 2950.11 271.41 Q2947.79 268.632 2947.79 263.285 M2958.51 246.966 L2958.51 246.966 Z\" fill=\"#000000\" fill-rule=\"evenodd\" fill-opacity=\"1\" /><path clip-path=\"url(#clip550)\" d=\"M2998.46 252.568 Q3000.06 249.697 3002.28 248.332 Q3004.5 246.966 3007.51 246.966 Q3011.56 246.966 3013.76 249.813 Q3015.96 252.637 3015.96 257.869 L3015.96 273.517 L3011.68 273.517 L3011.68 258.007 Q3011.68 254.281 3010.36 252.475 Q3009.04 250.67 3006.33 250.67 Q3003.02 250.67 3001.1 252.869 Q2999.18 255.068 2999.18 258.864 L2999.18 273.517 L2994.9 273.517 L2994.9 258.007 Q2994.9 254.257 2993.58 252.475 Q2992.26 250.67 2989.5 250.67 Q2986.24 250.67 2984.32 252.892 Q2982.4 255.091 2982.4 258.864 L2982.4 273.517 L2978.12 273.517 L2978.12 247.591 L2982.4 247.591 L2982.4 251.619 Q2983.86 249.234 2985.89 248.1 Q2987.93 246.966 2990.73 246.966 Q2993.56 246.966 2995.52 248.401 Q2997.51 249.836 2998.46 252.568 Z\" fill=\"#000000\" fill-rule=\"evenodd\" fill-opacity=\"1\" /><polyline clip-path=\"url(#clip550)\" style=\"stroke:#3da44d; stroke-linecap:butt; stroke-linejoin:round; stroke-width:4; stroke-opacity:1; fill:none\" points=\"\n",
       "  2348.24,308.077 2534.11,308.077 \n",
       "  \"/>\n",
       "<path clip-path=\"url(#clip550)\" d=\"M2565.09 299.431 L2569.34 299.431 L2569.34 325.357 L2565.09 325.357 L2565.09 299.431 M2565.09 289.338 L2569.34 289.338 L2569.34 294.732 L2565.09 294.732 L2565.09 289.338 Z\" fill=\"#000000\" fill-rule=\"evenodd\" fill-opacity=\"1\" /><path clip-path=\"url(#clip550)\" d=\"M2599.81 309.709 L2599.81 325.357 L2595.55 325.357 L2595.55 309.847 Q2595.55 306.167 2594.11 304.338 Q2592.68 302.51 2589.81 302.51 Q2586.36 302.51 2584.37 304.709 Q2582.38 306.908 2582.38 310.704 L2582.38 325.357 L2578.09 325.357 L2578.09 299.431 L2582.38 299.431 L2582.38 303.459 Q2583.9 301.121 2585.96 299.963 Q2588.05 298.806 2590.76 298.806 Q2595.22 298.806 2597.52 301.584 Q2599.81 304.338 2599.81 309.709 Z\" fill=\"#000000\" fill-rule=\"evenodd\" fill-opacity=\"1\" /><path clip-path=\"url(#clip550)\" d=\"M2621.43 289.338 L2621.43 292.88 L2617.35 292.88 Q2615.06 292.88 2614.16 293.806 Q2613.28 294.732 2613.28 297.139 L2613.28 299.431 L2620.29 299.431 L2620.29 302.741 L2613.28 302.741 L2613.28 325.357 L2609 325.357 L2609 302.741 L2604.92 302.741 L2604.92 299.431 L2609 299.431 L2609 297.625 Q2609 293.297 2611.01 291.329 Q2613.03 289.338 2617.4 289.338 L2621.43 289.338 Z\" fill=\"#000000\" fill-rule=\"evenodd\" fill-opacity=\"1\" /><path clip-path=\"url(#clip550)\" d=\"M2647.17 311.329 L2647.17 313.412 L2627.59 313.412 Q2627.86 317.81 2630.22 320.125 Q2632.61 322.417 2636.84 322.417 Q2639.3 322.417 2641.59 321.815 Q2643.9 321.213 2646.17 320.009 L2646.17 324.037 Q2643.88 325.009 2641.47 325.519 Q2639.07 326.028 2636.59 326.028 Q2630.39 326.028 2626.75 322.417 Q2623.14 318.806 2623.14 312.648 Q2623.14 306.283 2626.57 302.556 Q2630.02 298.806 2635.85 298.806 Q2641.08 298.806 2644.11 302.185 Q2647.17 305.542 2647.17 311.329 M2642.91 310.079 Q2642.86 306.584 2640.94 304.5 Q2639.04 302.417 2635.9 302.417 Q2632.33 302.417 2630.18 304.431 Q2628.05 306.445 2627.72 310.102 L2642.91 310.079 Z\" fill=\"#000000\" fill-rule=\"evenodd\" fill-opacity=\"1\" /><path clip-path=\"url(#clip550)\" d=\"M2669.18 303.412 Q2668.46 302.996 2667.61 302.81 Q2666.77 302.602 2665.76 302.602 Q2662.15 302.602 2660.2 304.963 Q2658.28 307.301 2658.28 311.699 L2658.28 325.357 L2654 325.357 L2654 299.431 L2658.28 299.431 L2658.28 303.459 Q2659.62 301.098 2661.77 299.963 Q2663.93 298.806 2667.01 298.806 Q2667.45 298.806 2667.98 298.875 Q2668.51 298.922 2669.16 299.037 L2669.18 303.412 Z\" fill=\"#000000\" fill-rule=\"evenodd\" fill-opacity=\"1\" /><path clip-path=\"url(#clip550)\" d=\"M2687.84 303.412 Q2687.12 302.996 2686.27 302.81 Q2685.43 302.602 2684.41 302.602 Q2680.8 302.602 2678.86 304.963 Q2676.94 307.301 2676.94 311.699 L2676.94 325.357 L2672.65 325.357 L2672.65 299.431 L2676.94 299.431 L2676.94 303.459 Q2678.28 301.098 2680.43 299.963 Q2682.58 298.806 2685.66 298.806 Q2686.1 298.806 2686.64 298.875 Q2687.17 298.922 2687.82 299.037 L2687.84 303.412 Z\" fill=\"#000000\" fill-rule=\"evenodd\" fill-opacity=\"1\" /><path clip-path=\"url(#clip550)\" d=\"M2713.44 311.329 L2713.44 313.412 L2693.86 313.412 Q2694.14 317.81 2696.5 320.125 Q2698.88 322.417 2703.12 322.417 Q2705.57 322.417 2707.86 321.815 Q2710.18 321.213 2712.45 320.009 L2712.45 324.037 Q2710.15 325.009 2707.75 325.519 Q2705.34 326.028 2702.86 326.028 Q2696.66 326.028 2693.02 322.417 Q2689.41 318.806 2689.41 312.648 Q2689.41 306.283 2692.84 302.556 Q2696.29 298.806 2702.12 298.806 Q2707.35 298.806 2710.39 302.185 Q2713.44 305.542 2713.44 311.329 M2709.18 310.079 Q2709.14 306.584 2707.21 304.5 Q2705.32 302.417 2702.17 302.417 Q2698.6 302.417 2696.45 304.431 Q2694.32 306.445 2694 310.102 L2709.18 310.079 Z\" fill=\"#000000\" fill-rule=\"evenodd\" fill-opacity=\"1\" /><path clip-path=\"url(#clip550)\" d=\"M2737.49 303.366 L2737.49 289.338 L2741.75 289.338 L2741.75 325.357 L2737.49 325.357 L2737.49 321.468 Q2736.15 323.783 2734.09 324.917 Q2732.05 326.028 2729.18 326.028 Q2724.48 326.028 2721.52 322.278 Q2718.58 318.528 2718.58 312.417 Q2718.58 306.306 2721.52 302.556 Q2724.48 298.806 2729.18 298.806 Q2732.05 298.806 2734.09 299.94 Q2736.15 301.051 2737.49 303.366 M2722.98 312.417 Q2722.98 317.116 2724.9 319.801 Q2726.84 322.463 2730.22 322.463 Q2733.6 322.463 2735.55 319.801 Q2737.49 317.116 2737.49 312.417 Q2737.49 307.718 2735.55 305.056 Q2733.6 302.371 2730.22 302.371 Q2726.84 302.371 2724.9 305.056 Q2722.98 307.718 2722.98 312.417 Z\" fill=\"#000000\" fill-rule=\"evenodd\" fill-opacity=\"1\" /><path clip-path=\"url(#clip550)\" d=\"M2785.78 304.408 Q2787.38 301.537 2789.6 300.172 Q2791.82 298.806 2794.83 298.806 Q2798.88 298.806 2801.08 301.653 Q2803.28 304.477 2803.28 309.709 L2803.28 325.357 L2799 325.357 L2799 309.847 Q2799 306.121 2797.68 304.315 Q2796.36 302.51 2793.65 302.51 Q2790.34 302.51 2788.42 304.709 Q2786.5 306.908 2786.5 310.704 L2786.5 325.357 L2782.21 325.357 L2782.21 309.847 Q2782.21 306.097 2780.89 304.315 Q2779.58 302.51 2776.82 302.51 Q2773.56 302.51 2771.64 304.732 Q2769.71 306.931 2769.71 310.704 L2769.71 325.357 L2765.43 325.357 L2765.43 299.431 L2769.71 299.431 L2769.71 303.459 Q2771.17 301.074 2773.21 299.94 Q2775.25 298.806 2778.05 298.806 Q2780.87 298.806 2782.84 300.241 Q2784.83 301.676 2785.78 304.408 Z\" fill=\"#000000\" fill-rule=\"evenodd\" fill-opacity=\"1\" /><path clip-path=\"url(#clip550)\" d=\"M2823.56 312.324 Q2818.39 312.324 2816.4 313.505 Q2814.41 314.685 2814.41 317.533 Q2814.41 319.801 2815.89 321.144 Q2817.4 322.463 2819.97 322.463 Q2823.51 322.463 2825.64 319.963 Q2827.79 317.44 2827.79 313.273 L2827.79 312.324 L2823.56 312.324 M2832.05 310.565 L2832.05 325.357 L2827.79 325.357 L2827.79 321.421 Q2826.33 323.783 2824.16 324.917 Q2821.98 326.028 2818.83 326.028 Q2814.85 326.028 2812.49 323.806 Q2810.15 321.56 2810.15 317.81 Q2810.15 313.435 2813.07 311.213 Q2816.01 308.991 2821.82 308.991 L2827.79 308.991 L2827.79 308.574 Q2827.79 305.635 2825.85 304.037 Q2823.93 302.417 2820.43 302.417 Q2818.21 302.417 2816.1 302.949 Q2814 303.482 2812.05 304.547 L2812.05 300.611 Q2814.39 299.709 2816.59 299.269 Q2818.79 298.806 2820.87 298.806 Q2826.5 298.806 2829.27 301.723 Q2832.05 304.639 2832.05 310.565 Z\" fill=\"#000000\" fill-rule=\"evenodd\" fill-opacity=\"1\" /><path clip-path=\"url(#clip550)\" d=\"M2862.38 299.431 L2853 312.047 L2862.86 325.357 L2857.84 325.357 L2850.29 315.172 L2842.75 325.357 L2837.72 325.357 L2847.79 311.792 L2838.58 299.431 L2843.6 299.431 L2850.48 308.667 L2857.35 299.431 L2862.38 299.431 Z\" fill=\"#000000\" fill-rule=\"evenodd\" fill-opacity=\"1\" /><path clip-path=\"url(#clip550)\" d=\"M2868.88 299.431 L2873.14 299.431 L2873.14 325.357 L2868.88 325.357 L2868.88 299.431 M2868.88 289.338 L2873.14 289.338 L2873.14 294.732 L2868.88 294.732 L2868.88 289.338 Z\" fill=\"#000000\" fill-rule=\"evenodd\" fill-opacity=\"1\" /><path clip-path=\"url(#clip550)\" d=\"M2902.24 304.408 Q2903.83 301.537 2906.06 300.172 Q2908.28 298.806 2911.29 298.806 Q2915.34 298.806 2917.54 301.653 Q2919.74 304.477 2919.74 309.709 L2919.74 325.357 L2915.45 325.357 L2915.45 309.847 Q2915.45 306.121 2914.13 304.315 Q2912.82 302.51 2910.11 302.51 Q2906.8 302.51 2904.88 304.709 Q2902.95 306.908 2902.95 310.704 L2902.95 325.357 L2898.67 325.357 L2898.67 309.847 Q2898.67 306.097 2897.35 304.315 Q2896.03 302.51 2893.28 302.51 Q2890.01 302.51 2888.09 304.732 Q2886.17 306.931 2886.17 310.704 L2886.17 325.357 L2881.89 325.357 L2881.89 299.431 L2886.17 299.431 L2886.17 303.459 Q2887.63 301.074 2889.67 299.94 Q2891.7 298.806 2894.51 298.806 Q2897.33 298.806 2899.3 300.241 Q2901.29 301.676 2902.24 304.408 Z\" fill=\"#000000\" fill-rule=\"evenodd\" fill-opacity=\"1\" /><path clip-path=\"url(#clip550)\" d=\"M2927.79 315.125 L2927.79 299.431 L2932.05 299.431 L2932.05 314.963 Q2932.05 318.644 2933.49 320.496 Q2934.92 322.324 2937.79 322.324 Q2941.24 322.324 2943.23 320.125 Q2945.25 317.926 2945.25 314.13 L2945.25 299.431 L2949.5 299.431 L2949.5 325.357 L2945.25 325.357 L2945.25 321.375 Q2943.69 323.736 2941.63 324.894 Q2939.6 326.028 2936.89 326.028 Q2932.42 326.028 2930.11 323.25 Q2927.79 320.472 2927.79 315.125 M2938.51 298.806 L2938.51 298.806 Z\" fill=\"#000000\" fill-rule=\"evenodd\" fill-opacity=\"1\" /><path clip-path=\"url(#clip550)\" d=\"M2978.46 304.408 Q2980.06 301.537 2982.28 300.172 Q2984.5 298.806 2987.51 298.806 Q2991.56 298.806 2993.76 301.653 Q2995.96 304.477 2995.96 309.709 L2995.96 325.357 L2991.68 325.357 L2991.68 309.847 Q2991.68 306.121 2990.36 304.315 Q2989.04 302.51 2986.33 302.51 Q2983.02 302.51 2981.1 304.709 Q2979.18 306.908 2979.18 310.704 L2979.18 325.357 L2974.9 325.357 L2974.9 309.847 Q2974.9 306.097 2973.58 304.315 Q2972.26 302.51 2969.5 302.51 Q2966.24 302.51 2964.32 304.732 Q2962.4 306.931 2962.4 310.704 L2962.4 325.357 L2958.12 325.357 L2958.12 299.431 L2962.4 299.431 L2962.4 303.459 Q2963.86 301.074 2965.89 299.94 Q2967.93 298.806 2970.73 298.806 Q2973.56 298.806 2975.52 300.241 Q2977.51 301.676 2978.46 304.408 Z\" fill=\"#000000\" fill-rule=\"evenodd\" fill-opacity=\"1\" /><polyline clip-path=\"url(#clip550)\" style=\"stroke:#c271d2; stroke-linecap:butt; stroke-linejoin:round; stroke-width:4; stroke-opacity:1; fill:none\" points=\"\n",
       "  2348.24,359.917 2534.11,359.917 \n",
       "  \"/>\n",
       "<path clip-path=\"url(#clip550)\" d=\"M2565.09 351.271 L2569.34 351.271 L2569.34 377.197 L2565.09 377.197 L2565.09 351.271 M2565.09 341.178 L2569.34 341.178 L2569.34 346.572 L2565.09 346.572 L2565.09 341.178 Z\" fill=\"#000000\" fill-rule=\"evenodd\" fill-opacity=\"1\" /><path clip-path=\"url(#clip550)\" d=\"M2599.81 361.549 L2599.81 377.197 L2595.55 377.197 L2595.55 361.687 Q2595.55 358.007 2594.11 356.178 Q2592.68 354.35 2589.81 354.35 Q2586.36 354.35 2584.37 356.549 Q2582.38 358.748 2582.38 362.544 L2582.38 377.197 L2578.09 377.197 L2578.09 351.271 L2582.38 351.271 L2582.38 355.299 Q2583.9 352.961 2585.96 351.803 Q2588.05 350.646 2590.76 350.646 Q2595.22 350.646 2597.52 353.424 Q2599.81 356.178 2599.81 361.549 Z\" fill=\"#000000\" fill-rule=\"evenodd\" fill-opacity=\"1\" /><path clip-path=\"url(#clip550)\" d=\"M2621.43 341.178 L2621.43 344.72 L2617.35 344.72 Q2615.06 344.72 2614.16 345.646 Q2613.28 346.572 2613.28 348.979 L2613.28 351.271 L2620.29 351.271 L2620.29 354.581 L2613.28 354.581 L2613.28 377.197 L2609 377.197 L2609 354.581 L2604.92 354.581 L2604.92 351.271 L2609 351.271 L2609 349.465 Q2609 345.137 2611.01 343.169 Q2613.03 341.178 2617.4 341.178 L2621.43 341.178 Z\" fill=\"#000000\" fill-rule=\"evenodd\" fill-opacity=\"1\" /><path clip-path=\"url(#clip550)\" d=\"M2647.17 363.169 L2647.17 365.252 L2627.59 365.252 Q2627.86 369.65 2630.22 371.965 Q2632.61 374.257 2636.84 374.257 Q2639.3 374.257 2641.59 373.655 Q2643.9 373.053 2646.17 371.849 L2646.17 375.877 Q2643.88 376.849 2641.47 377.359 Q2639.07 377.868 2636.59 377.868 Q2630.39 377.868 2626.75 374.257 Q2623.14 370.646 2623.14 364.488 Q2623.14 358.123 2626.57 354.396 Q2630.02 350.646 2635.85 350.646 Q2641.08 350.646 2644.11 354.025 Q2647.17 357.382 2647.17 363.169 M2642.91 361.919 Q2642.86 358.424 2640.94 356.34 Q2639.04 354.257 2635.9 354.257 Q2632.33 354.257 2630.18 356.271 Q2628.05 358.285 2627.72 361.942 L2642.91 361.919 Z\" fill=\"#000000\" fill-rule=\"evenodd\" fill-opacity=\"1\" /><path clip-path=\"url(#clip550)\" d=\"M2669.18 355.252 Q2668.46 354.836 2667.61 354.65 Q2666.77 354.442 2665.76 354.442 Q2662.15 354.442 2660.2 356.803 Q2658.28 359.141 2658.28 363.539 L2658.28 377.197 L2654 377.197 L2654 351.271 L2658.28 351.271 L2658.28 355.299 Q2659.62 352.938 2661.77 351.803 Q2663.93 350.646 2667.01 350.646 Q2667.45 350.646 2667.98 350.715 Q2668.51 350.762 2669.16 350.877 L2669.18 355.252 Z\" fill=\"#000000\" fill-rule=\"evenodd\" fill-opacity=\"1\" /><path clip-path=\"url(#clip550)\" d=\"M2687.84 355.252 Q2687.12 354.836 2686.27 354.65 Q2685.43 354.442 2684.41 354.442 Q2680.8 354.442 2678.86 356.803 Q2676.94 359.141 2676.94 363.539 L2676.94 377.197 L2672.65 377.197 L2672.65 351.271 L2676.94 351.271 L2676.94 355.299 Q2678.28 352.938 2680.43 351.803 Q2682.58 350.646 2685.66 350.646 Q2686.1 350.646 2686.64 350.715 Q2687.17 350.762 2687.82 350.877 L2687.84 355.252 Z\" fill=\"#000000\" fill-rule=\"evenodd\" fill-opacity=\"1\" /><path clip-path=\"url(#clip550)\" d=\"M2713.44 363.169 L2713.44 365.252 L2693.86 365.252 Q2694.14 369.65 2696.5 371.965 Q2698.88 374.257 2703.12 374.257 Q2705.57 374.257 2707.86 373.655 Q2710.18 373.053 2712.45 371.849 L2712.45 375.877 Q2710.15 376.849 2707.75 377.359 Q2705.34 377.868 2702.86 377.868 Q2696.66 377.868 2693.02 374.257 Q2689.41 370.646 2689.41 364.488 Q2689.41 358.123 2692.84 354.396 Q2696.29 350.646 2702.12 350.646 Q2707.35 350.646 2710.39 354.025 Q2713.44 357.382 2713.44 363.169 M2709.18 361.919 Q2709.14 358.424 2707.21 356.34 Q2705.32 354.257 2702.17 354.257 Q2698.6 354.257 2696.45 356.271 Q2694.32 358.285 2694 361.942 L2709.18 361.919 Z\" fill=\"#000000\" fill-rule=\"evenodd\" fill-opacity=\"1\" /><path clip-path=\"url(#clip550)\" d=\"M2737.49 355.206 L2737.49 341.178 L2741.75 341.178 L2741.75 377.197 L2737.49 377.197 L2737.49 373.308 Q2736.15 375.623 2734.09 376.757 Q2732.05 377.868 2729.18 377.868 Q2724.48 377.868 2721.52 374.118 Q2718.58 370.368 2718.58 364.257 Q2718.58 358.146 2721.52 354.396 Q2724.48 350.646 2729.18 350.646 Q2732.05 350.646 2734.09 351.78 Q2736.15 352.891 2737.49 355.206 M2722.98 364.257 Q2722.98 368.956 2724.9 371.641 Q2726.84 374.303 2730.22 374.303 Q2733.6 374.303 2735.55 371.641 Q2737.49 368.956 2737.49 364.257 Q2737.49 359.558 2735.55 356.896 Q2733.6 354.211 2730.22 354.211 Q2726.84 354.211 2724.9 356.896 Q2722.98 359.558 2722.98 364.257 Z\" fill=\"#000000\" fill-rule=\"evenodd\" fill-opacity=\"1\" /><path clip-path=\"url(#clip550)\" d=\"M2785.78 356.248 Q2787.38 353.377 2789.6 352.012 Q2791.82 350.646 2794.83 350.646 Q2798.88 350.646 2801.08 353.493 Q2803.28 356.317 2803.28 361.549 L2803.28 377.197 L2799 377.197 L2799 361.687 Q2799 357.961 2797.68 356.155 Q2796.36 354.35 2793.65 354.35 Q2790.34 354.35 2788.42 356.549 Q2786.5 358.748 2786.5 362.544 L2786.5 377.197 L2782.21 377.197 L2782.21 361.687 Q2782.21 357.937 2780.89 356.155 Q2779.58 354.35 2776.82 354.35 Q2773.56 354.35 2771.64 356.572 Q2769.71 358.771 2769.71 362.544 L2769.71 377.197 L2765.43 377.197 L2765.43 351.271 L2769.71 351.271 L2769.71 355.299 Q2771.17 352.914 2773.21 351.78 Q2775.25 350.646 2778.05 350.646 Q2780.87 350.646 2782.84 352.081 Q2784.83 353.516 2785.78 356.248 Z\" fill=\"#000000\" fill-rule=\"evenodd\" fill-opacity=\"1\" /><path clip-path=\"url(#clip550)\" d=\"M2811.77 351.271 L2816.03 351.271 L2816.03 377.197 L2811.77 377.197 L2811.77 351.271 M2811.77 341.178 L2816.03 341.178 L2816.03 346.572 L2811.77 346.572 L2811.77 341.178 Z\" fill=\"#000000\" fill-rule=\"evenodd\" fill-opacity=\"1\" /><path clip-path=\"url(#clip550)\" d=\"M2842.01 355.206 L2842.01 341.178 L2846.26 341.178 L2846.26 377.197 L2842.01 377.197 L2842.01 373.308 Q2840.66 375.623 2838.6 376.757 Q2836.57 377.868 2833.7 377.868 Q2829 377.868 2826.03 374.118 Q2823.09 370.368 2823.09 364.257 Q2823.09 358.146 2826.03 354.396 Q2829 350.646 2833.7 350.646 Q2836.57 350.646 2838.6 351.78 Q2840.66 352.891 2842.01 355.206 M2827.49 364.257 Q2827.49 368.956 2829.41 371.641 Q2831.36 374.303 2834.74 374.303 Q2838.12 374.303 2840.06 371.641 Q2842.01 368.956 2842.01 364.257 Q2842.01 359.558 2840.06 356.896 Q2838.12 354.211 2834.74 354.211 Q2831.36 354.211 2829.41 356.896 Q2827.49 359.558 2827.49 364.257 Z\" fill=\"#000000\" fill-rule=\"evenodd\" fill-opacity=\"1\" /><path clip-path=\"url(#clip550)\" d=\"M2859.16 373.308 L2859.16 387.058 L2854.88 387.058 L2854.88 351.271 L2859.16 351.271 L2859.16 355.206 Q2860.5 352.891 2862.54 351.78 Q2864.6 350.646 2867.44 350.646 Q2872.17 350.646 2875.11 354.396 Q2878.07 358.146 2878.07 364.257 Q2878.07 370.368 2875.11 374.118 Q2872.17 377.868 2867.44 377.868 Q2864.6 377.868 2862.54 376.757 Q2860.5 375.623 2859.16 373.308 M2873.65 364.257 Q2873.65 359.558 2871.7 356.896 Q2869.78 354.211 2866.4 354.211 Q2863.02 354.211 2861.08 356.896 Q2859.16 359.558 2859.16 364.257 Q2859.16 368.956 2861.08 371.641 Q2863.02 374.303 2866.4 374.303 Q2869.78 374.303 2871.7 371.641 Q2873.65 368.956 2873.65 364.257 Z\" fill=\"#000000\" fill-rule=\"evenodd\" fill-opacity=\"1\" /><path clip-path=\"url(#clip550)\" d=\"M2895.18 354.257 Q2891.75 354.257 2889.76 356.942 Q2887.77 359.604 2887.77 364.257 Q2887.77 368.91 2889.74 371.595 Q2891.73 374.257 2895.18 374.257 Q2898.58 374.257 2900.57 371.572 Q2902.56 368.886 2902.56 364.257 Q2902.56 359.65 2900.57 356.965 Q2898.58 354.257 2895.18 354.257 M2895.18 350.646 Q2900.73 350.646 2903.9 354.257 Q2907.07 357.868 2907.07 364.257 Q2907.07 370.623 2903.9 374.257 Q2900.73 377.868 2895.18 377.868 Q2889.6 377.868 2886.43 374.257 Q2883.28 370.623 2883.28 364.257 Q2883.28 357.868 2886.43 354.257 Q2889.6 350.646 2895.18 350.646 Z\" fill=\"#000000\" fill-rule=\"evenodd\" fill-opacity=\"1\" /><path clip-path=\"url(#clip550)\" d=\"M2914.13 351.271 L2918.39 351.271 L2918.39 377.197 L2914.13 377.197 L2914.13 351.271 M2914.13 341.178 L2918.39 341.178 L2918.39 346.572 L2914.13 346.572 L2914.13 341.178 Z\" fill=\"#000000\" fill-rule=\"evenodd\" fill-opacity=\"1\" /><path clip-path=\"url(#clip550)\" d=\"M2948.86 361.549 L2948.86 377.197 L2944.6 377.197 L2944.6 361.687 Q2944.6 358.007 2943.16 356.178 Q2941.73 354.35 2938.86 354.35 Q2935.41 354.35 2933.42 356.549 Q2931.43 358.748 2931.43 362.544 L2931.43 377.197 L2927.14 377.197 L2927.14 351.271 L2931.43 351.271 L2931.43 355.299 Q2932.95 352.961 2935.01 351.803 Q2937.1 350.646 2939.81 350.646 Q2944.27 350.646 2946.56 353.424 Q2948.86 356.178 2948.86 361.549 Z\" fill=\"#000000\" fill-rule=\"evenodd\" fill-opacity=\"1\" /><path clip-path=\"url(#clip550)\" d=\"M2961.56 343.91 L2961.56 351.271 L2970.34 351.271 L2970.34 354.581 L2961.56 354.581 L2961.56 368.655 Q2961.56 371.826 2962.42 372.729 Q2963.3 373.632 2965.96 373.632 L2970.34 373.632 L2970.34 377.197 L2965.96 377.197 Q2961.03 377.197 2959.16 375.368 Q2957.28 373.516 2957.28 368.655 L2957.28 354.581 L2954.16 354.581 L2954.16 351.271 L2957.28 351.271 L2957.28 343.91 L2961.56 343.91 Z\" fill=\"#000000\" fill-rule=\"evenodd\" fill-opacity=\"1\" /><polyline clip-path=\"url(#clip550)\" style=\"stroke:#ac8d18; stroke-linecap:butt; stroke-linejoin:round; stroke-width:4; stroke-opacity:1; fill:none\" points=\"\n",
       "  2348.24,411.757 2534.11,411.757 \n",
       "  \"/>\n",
       "<path clip-path=\"url(#clip550)\" d=\"M2581.59 393.018 L2581.59 396.56 L2577.52 396.56 Q2575.22 396.56 2574.32 397.486 Q2573.44 398.412 2573.44 400.819 L2573.44 403.111 L2580.46 403.111 L2580.46 406.421 L2573.44 406.421 L2573.44 429.037 L2569.16 429.037 L2569.16 406.421 L2565.09 406.421 L2565.09 403.111 L2569.16 403.111 L2569.16 401.305 Q2569.16 396.977 2571.17 395.009 Q2573.19 393.018 2577.56 393.018 L2581.59 393.018 Z\" fill=\"#000000\" fill-rule=\"evenodd\" fill-opacity=\"1\" /><path clip-path=\"url(#clip550)\" d=\"M2585.15 403.111 L2589.41 403.111 L2589.41 429.037 L2585.15 429.037 L2585.15 403.111 M2585.15 393.018 L2589.41 393.018 L2589.41 398.412 L2585.15 398.412 L2585.15 393.018 Z\" fill=\"#000000\" fill-rule=\"evenodd\" fill-opacity=\"1\" /><path clip-path=\"url(#clip550)\" d=\"M2602.54 395.75 L2602.54 403.111 L2611.31 403.111 L2611.31 406.421 L2602.54 406.421 L2602.54 420.495 Q2602.54 423.666 2603.4 424.569 Q2604.28 425.472 2606.94 425.472 L2611.31 425.472 L2611.31 429.037 L2606.94 429.037 Q2602.01 429.037 2600.13 427.208 Q2598.26 425.356 2598.26 420.495 L2598.26 406.421 L2595.13 406.421 L2595.13 403.111 L2598.26 403.111 L2598.26 395.75 L2602.54 395.75 Z\" fill=\"#000000\" fill-rule=\"evenodd\" fill-opacity=\"1\" /><path clip-path=\"url(#clip550)\" d=\"M2636.2 395.75 L2636.2 403.111 L2644.97 403.111 L2644.97 406.421 L2636.2 406.421 L2636.2 420.495 Q2636.2 423.666 2637.05 424.569 Q2637.93 425.472 2640.59 425.472 L2644.97 425.472 L2644.97 429.037 L2640.59 429.037 Q2635.66 429.037 2633.79 427.208 Q2631.91 425.356 2631.91 420.495 L2631.91 406.421 L2628.79 406.421 L2628.79 403.111 L2631.91 403.111 L2631.91 395.75 L2636.2 395.75 Z\" fill=\"#000000\" fill-rule=\"evenodd\" fill-opacity=\"1\" /><path clip-path=\"url(#clip550)\" d=\"M2665.59 407.092 Q2664.88 406.676 2664.02 406.49 Q2663.19 406.282 2662.17 406.282 Q2658.56 406.282 2656.61 408.643 Q2654.69 410.981 2654.69 415.379 L2654.69 429.037 L2650.41 429.037 L2650.41 403.111 L2654.69 403.111 L2654.69 407.139 Q2656.03 404.778 2658.19 403.643 Q2660.34 402.486 2663.42 402.486 Q2663.86 402.486 2664.39 402.555 Q2664.92 402.602 2665.57 402.717 L2665.59 407.092 Z\" fill=\"#000000\" fill-rule=\"evenodd\" fill-opacity=\"1\" /><path clip-path=\"url(#clip550)\" d=\"M2691.2 415.009 L2691.2 417.092 L2671.61 417.092 Q2671.89 421.49 2674.25 423.805 Q2676.64 426.097 2680.87 426.097 Q2683.33 426.097 2685.62 425.495 Q2687.93 424.893 2690.2 423.689 L2690.2 427.717 Q2687.91 428.689 2685.5 429.199 Q2683.09 429.708 2680.62 429.708 Q2674.41 429.708 2670.78 426.097 Q2667.17 422.486 2667.17 416.328 Q2667.17 409.963 2670.59 406.236 Q2674.04 402.486 2679.88 402.486 Q2685.11 402.486 2688.14 405.865 Q2691.2 409.222 2691.2 415.009 M2686.94 413.759 Q2686.89 410.264 2684.97 408.18 Q2683.07 406.097 2679.92 406.097 Q2676.36 406.097 2674.21 408.111 Q2672.08 410.125 2671.75 413.782 L2686.94 413.759 Z\" fill=\"#000000\" fill-rule=\"evenodd\" fill-opacity=\"1\" /><path clip-path=\"url(#clip550)\" d=\"M2719.74 413.389 L2719.74 429.037 L2715.48 429.037 L2715.48 413.527 Q2715.48 409.847 2714.04 408.018 Q2712.61 406.19 2709.74 406.19 Q2706.29 406.19 2704.3 408.389 Q2702.31 410.588 2702.31 414.384 L2702.31 429.037 L2698.02 429.037 L2698.02 403.111 L2702.31 403.111 L2702.31 407.139 Q2703.83 404.801 2705.89 403.643 Q2707.98 402.486 2710.69 402.486 Q2715.15 402.486 2717.45 405.264 Q2719.74 408.018 2719.74 413.389 Z\" fill=\"#000000\" fill-rule=\"evenodd\" fill-opacity=\"1\" /><path clip-path=\"url(#clip550)\" d=\"M2745.29 407.046 L2745.29 393.018 L2749.55 393.018 L2749.55 429.037 L2745.29 429.037 L2745.29 425.148 Q2743.95 427.463 2741.89 428.597 Q2739.85 429.708 2736.98 429.708 Q2732.28 429.708 2729.32 425.958 Q2726.38 422.208 2726.38 416.097 Q2726.38 409.986 2729.32 406.236 Q2732.28 402.486 2736.98 402.486 Q2739.85 402.486 2741.89 403.62 Q2743.95 404.731 2745.29 407.046 M2730.78 416.097 Q2730.78 420.796 2732.7 423.481 Q2734.64 426.143 2738.02 426.143 Q2741.4 426.143 2743.35 423.481 Q2745.29 420.796 2745.29 416.097 Q2745.29 411.398 2743.35 408.736 Q2741.4 406.051 2738.02 406.051 Q2734.64 406.051 2732.7 408.736 Q2730.78 411.398 2730.78 416.097 Z\" fill=\"#000000\" fill-rule=\"evenodd\" fill-opacity=\"1\" /><path clip-path=\"url(#clip550)\" d=\"M2758.33 393.018 L2762.58 393.018 L2762.58 429.037 L2758.33 429.037 L2758.33 393.018 Z\" fill=\"#000000\" fill-rule=\"evenodd\" fill-opacity=\"1\" /><path clip-path=\"url(#clip550)\" d=\"M2771.5 403.111 L2775.76 403.111 L2775.76 429.037 L2771.5 429.037 L2771.5 403.111 M2771.5 393.018 L2775.76 393.018 L2775.76 398.412 L2771.5 398.412 L2771.5 393.018 Z\" fill=\"#000000\" fill-rule=\"evenodd\" fill-opacity=\"1\" /><path clip-path=\"url(#clip550)\" d=\"M2806.22 413.389 L2806.22 429.037 L2801.96 429.037 L2801.96 413.527 Q2801.96 409.847 2800.52 408.018 Q2799.09 406.19 2796.22 406.19 Q2792.77 406.19 2790.78 408.389 Q2788.79 410.588 2788.79 414.384 L2788.79 429.037 L2784.51 429.037 L2784.51 403.111 L2788.79 403.111 L2788.79 407.139 Q2790.32 404.801 2792.38 403.643 Q2794.46 402.486 2797.17 402.486 Q2801.64 402.486 2803.93 405.264 Q2806.22 408.018 2806.22 413.389 Z\" fill=\"#000000\" fill-rule=\"evenodd\" fill-opacity=\"1\" /><path clip-path=\"url(#clip550)\" d=\"M2836.89 415.009 L2836.89 417.092 L2817.31 417.092 Q2817.58 421.49 2819.95 423.805 Q2822.33 426.097 2826.57 426.097 Q2829.02 426.097 2831.31 425.495 Q2833.63 424.893 2835.89 423.689 L2835.89 427.717 Q2833.6 428.689 2831.2 429.199 Q2828.79 429.708 2826.31 429.708 Q2820.11 429.708 2816.47 426.097 Q2812.86 422.486 2812.86 416.328 Q2812.86 409.963 2816.29 406.236 Q2819.74 402.486 2825.57 402.486 Q2830.8 402.486 2833.83 405.865 Q2836.89 409.222 2836.89 415.009 M2832.63 413.759 Q2832.58 410.264 2830.66 408.18 Q2828.76 406.097 2825.62 406.097 Q2822.05 406.097 2819.9 408.111 Q2817.77 410.125 2817.45 413.782 L2832.63 413.759 Z\" fill=\"#000000\" fill-rule=\"evenodd\" fill-opacity=\"1\" /></svg>\n"
      ]
     },
     "metadata": {},
     "output_type": "display_data"
    },
    {
     "name": "stdout",
     "output_type": "stream",
     "text": [
      "  0.000201 seconds (283 allocations: 50.031 KiB)\n",
      "(k, predicted_saturation) = (11, 0.4471292495727539)\n"
     ]
    },
    {
     "name": "stderr",
     "output_type": "stream",
     "text": [
      "\u001b[32mProgress:  24%|█████████▊                               |  ETA: 0:00:07\u001b[39m"
     ]
    },
    {
     "data": {
      "image/svg+xml": [
       "<?xml version=\"1.0\" encoding=\"utf-8\"?>\n",
       "<svg xmlns=\"http://www.w3.org/2000/svg\" xmlns:xlink=\"http://www.w3.org/1999/xlink\" width=\"800\" height=\"400\" viewBox=\"0 0 3200 1600\">\n",
       "<defs>\n",
       "  <clipPath id=\"clip590\">\n",
       "    <rect x=\"0\" y=\"0\" width=\"3200\" height=\"1600\"/>\n",
       "  </clipPath>\n",
       "</defs>\n",
       "<path clip-path=\"url(#clip590)\" d=\"\n",
       "M0 1600 L3200 1600 L3200 0 L0 0  Z\n",
       "  \" fill=\"#ffffff\" fill-rule=\"evenodd\" fill-opacity=\"1\"/>\n",
       "<defs>\n",
       "  <clipPath id=\"clip591\">\n",
       "    <rect x=\"640\" y=\"0\" width=\"2241\" height=\"1600\"/>\n",
       "  </clipPath>\n",
       "</defs>\n",
       "<path clip-path=\"url(#clip590)\" d=\"\n",
       "M333.254 1434.49 L2219.78 1434.49 L2219.78 108.352 L333.254 108.352  Z\n",
       "  \" fill=\"#ffffff\" fill-rule=\"evenodd\" fill-opacity=\"1\"/>\n",
       "<defs>\n",
       "  <clipPath id=\"clip592\">\n",
       "    <rect x=\"333\" y=\"108\" width=\"1888\" height=\"1327\"/>\n",
       "  </clipPath>\n",
       "</defs>\n",
       "<polyline clip-path=\"url(#clip592)\" style=\"stroke:#000000; stroke-linecap:butt; stroke-linejoin:round; stroke-width:2; stroke-opacity:0.1; fill:none\" points=\"\n",
       "  386.646,1434.49 386.646,108.352 \n",
       "  \"/>\n",
       "<polyline clip-path=\"url(#clip592)\" style=\"stroke:#000000; stroke-linecap:butt; stroke-linejoin:round; stroke-width:2; stroke-opacity:0.1; fill:none\" points=\"\n",
       "  893.332,1434.49 893.332,108.352 \n",
       "  \"/>\n",
       "<polyline clip-path=\"url(#clip592)\" style=\"stroke:#000000; stroke-linecap:butt; stroke-linejoin:round; stroke-width:2; stroke-opacity:0.1; fill:none\" points=\"\n",
       "  1400.02,1434.49 1400.02,108.352 \n",
       "  \"/>\n",
       "<polyline clip-path=\"url(#clip592)\" style=\"stroke:#000000; stroke-linecap:butt; stroke-linejoin:round; stroke-width:2; stroke-opacity:0.1; fill:none\" points=\"\n",
       "  1906.7,1434.49 1906.7,108.352 \n",
       "  \"/>\n",
       "<polyline clip-path=\"url(#clip590)\" style=\"stroke:#000000; stroke-linecap:butt; stroke-linejoin:round; stroke-width:4; stroke-opacity:1; fill:none\" points=\"\n",
       "  333.254,1434.49 2219.78,1434.49 \n",
       "  \"/>\n",
       "<polyline clip-path=\"url(#clip590)\" style=\"stroke:#000000; stroke-linecap:butt; stroke-linejoin:round; stroke-width:4; stroke-opacity:1; fill:none\" points=\"\n",
       "  386.646,1434.49 386.646,1415.59 \n",
       "  \"/>\n",
       "<polyline clip-path=\"url(#clip590)\" style=\"stroke:#000000; stroke-linecap:butt; stroke-linejoin:round; stroke-width:4; stroke-opacity:1; fill:none\" points=\"\n",
       "  893.332,1434.49 893.332,1415.59 \n",
       "  \"/>\n",
       "<polyline clip-path=\"url(#clip590)\" style=\"stroke:#000000; stroke-linecap:butt; stroke-linejoin:round; stroke-width:4; stroke-opacity:1; fill:none\" points=\"\n",
       "  1400.02,1434.49 1400.02,1415.59 \n",
       "  \"/>\n",
       "<polyline clip-path=\"url(#clip590)\" style=\"stroke:#000000; stroke-linecap:butt; stroke-linejoin:round; stroke-width:4; stroke-opacity:1; fill:none\" points=\"\n",
       "  1906.7,1434.49 1906.7,1415.59 \n",
       "  \"/>\n",
       "<path clip-path=\"url(#clip590)\" d=\"M386.646 1470.08 Q383.035 1470.08 381.207 1473.64 Q379.401 1477.18 379.401 1484.31 Q379.401 1491.42 381.207 1494.99 Q383.035 1498.53 386.646 1498.53 Q390.281 1498.53 392.086 1494.99 Q393.915 1491.42 393.915 1484.31 Q393.915 1477.18 392.086 1473.64 Q390.281 1470.08 386.646 1470.08 M386.646 1466.37 Q392.457 1466.37 395.512 1470.98 Q398.591 1475.56 398.591 1484.31 Q398.591 1493.04 395.512 1497.65 Q392.457 1502.23 386.646 1502.23 Q380.836 1502.23 377.758 1497.65 Q374.702 1493.04 374.702 1484.31 Q374.702 1475.56 377.758 1470.98 Q380.836 1466.37 386.646 1466.37 Z\" fill=\"#000000\" fill-rule=\"evenodd\" fill-opacity=\"1\" /><path clip-path=\"url(#clip590)\" d=\"M804.853 1519.16 L821.172 1519.16 L821.172 1523.09 L799.228 1523.09 L799.228 1519.16 Q801.89 1516.4 806.473 1511.78 Q811.079 1507.12 812.26 1505.78 Q814.505 1503.26 815.385 1501.52 Q816.288 1499.76 816.288 1498.07 Q816.288 1495.32 814.343 1493.58 Q812.422 1491.84 809.32 1491.84 Q807.121 1491.84 804.667 1492.61 Q802.237 1493.37 799.459 1494.92 L799.459 1490.2 Q802.283 1489.07 804.737 1488.49 Q807.19 1487.91 809.228 1487.91 Q814.598 1487.91 817.792 1490.59 Q820.987 1493.28 820.987 1497.77 Q820.987 1499.9 820.177 1501.82 Q819.389 1503.72 817.283 1506.31 Q816.704 1506.98 813.602 1510.2 Q810.501 1513.4 804.853 1519.16 Z\" fill=\"#000000\" fill-rule=\"evenodd\" fill-opacity=\"1\" /><path clip-path=\"url(#clip590)\" d=\"M830.987 1517.22 L835.871 1517.22 L835.871 1523.09 L830.987 1523.09 L830.987 1517.22 Z\" fill=\"#000000\" fill-rule=\"evenodd\" fill-opacity=\"1\" /><path clip-path=\"url(#clip590)\" d=\"M856.056 1491.61 Q852.445 1491.61 850.616 1495.18 Q848.811 1498.72 848.811 1505.85 Q848.811 1512.96 850.616 1516.52 Q852.445 1520.06 856.056 1520.06 Q859.69 1520.06 861.496 1516.52 Q863.324 1512.96 863.324 1505.85 Q863.324 1498.72 861.496 1495.18 Q859.69 1491.61 856.056 1491.61 M856.056 1487.91 Q861.866 1487.91 864.922 1492.52 Q868 1497.1 868 1505.85 Q868 1514.58 864.922 1519.18 Q861.866 1523.77 856.056 1523.77 Q850.246 1523.77 847.167 1519.18 Q844.112 1514.58 844.112 1505.85 Q844.112 1497.1 847.167 1492.52 Q850.246 1487.91 856.056 1487.91 Z\" fill=\"#000000\" fill-rule=\"evenodd\" fill-opacity=\"1\" /><path clip-path=\"url(#clip590)\" d=\"M904.389 1497.63 L893.81 1508.26 L904.389 1518.84 L901.634 1521.64 L891.009 1511.01 L880.385 1521.64 L877.653 1518.84 L888.209 1508.26 L877.653 1497.63 L880.385 1494.83 L891.009 1505.46 L901.634 1494.83 L904.389 1497.63 Z\" fill=\"#000000\" fill-rule=\"evenodd\" fill-opacity=\"1\" /><path clip-path=\"url(#clip590)\" d=\"M916.75 1519.16 L924.389 1519.16 L924.389 1492.79 L916.079 1494.46 L916.079 1490.2 L924.343 1488.53 L929.019 1488.53 L929.019 1519.16 L936.657 1519.16 L936.657 1523.09 L916.75 1523.09 L916.75 1519.16 Z\" fill=\"#000000\" fill-rule=\"evenodd\" fill-opacity=\"1\" /><path clip-path=\"url(#clip590)\" d=\"M956.102 1491.61 Q952.491 1491.61 950.662 1495.18 Q948.856 1498.72 948.856 1505.85 Q948.856 1512.96 950.662 1516.52 Q952.491 1520.06 956.102 1520.06 Q959.736 1520.06 961.542 1516.52 Q963.37 1512.96 963.37 1505.85 Q963.37 1498.72 961.542 1495.18 Q959.736 1491.61 956.102 1491.61 M956.102 1487.91 Q961.912 1487.91 964.967 1492.52 Q968.046 1497.1 968.046 1505.85 Q968.046 1514.58 964.967 1519.18 Q961.912 1523.77 956.102 1523.77 Q950.292 1523.77 947.213 1519.18 Q944.157 1514.58 944.157 1505.85 Q944.157 1497.1 947.213 1492.52 Q950.292 1487.91 956.102 1487.91 Z\" fill=\"#000000\" fill-rule=\"evenodd\" fill-opacity=\"1\" /><path clip-path=\"url(#clip590)\" d=\"M978.071 1480.13 Q975.513 1480.13 974.008 1481.88 Q972.522 1483.63 972.522 1486.68 Q972.522 1489.7 974.008 1491.47 Q975.513 1493.22 978.071 1493.22 Q980.629 1493.22 982.114 1491.47 Q983.619 1489.7 983.619 1486.68 Q983.619 1483.63 982.114 1481.88 Q980.629 1480.13 978.071 1480.13 M985.613 1468.22 L985.613 1471.69 Q984.183 1471.01 982.716 1470.65 Q981.268 1470.29 979.839 1470.29 Q976.077 1470.29 974.083 1472.83 Q972.109 1475.37 971.826 1480.51 Q972.936 1478.87 974.61 1478 Q976.284 1477.12 978.296 1477.12 Q982.528 1477.12 984.973 1479.7 Q987.437 1482.26 987.437 1486.68 Q987.437 1491 984.879 1493.62 Q982.321 1496.23 978.071 1496.23 Q973.199 1496.23 970.623 1492.51 Q968.046 1488.76 968.046 1481.67 Q968.046 1475.01 971.206 1471.06 Q974.366 1467.1 979.688 1467.1 Q981.118 1467.1 982.566 1467.38 Q984.033 1467.66 985.613 1468.22 Z\" fill=\"#000000\" fill-rule=\"evenodd\" fill-opacity=\"1\" /><path clip-path=\"url(#clip590)\" d=\"M1320.94 1492.61 L1309.13 1511.06 L1320.94 1511.06 L1320.94 1492.61 M1319.71 1488.53 L1325.59 1488.53 L1325.59 1511.06 L1330.52 1511.06 L1330.52 1514.95 L1325.59 1514.95 L1325.59 1523.09 L1320.94 1523.09 L1320.94 1514.95 L1305.33 1514.95 L1305.33 1510.43 L1319.71 1488.53 Z\" fill=\"#000000\" fill-rule=\"evenodd\" fill-opacity=\"1\" /><path clip-path=\"url(#clip590)\" d=\"M1338.25 1517.22 L1343.14 1517.22 L1343.14 1523.09 L1338.25 1523.09 L1338.25 1517.22 Z\" fill=\"#000000\" fill-rule=\"evenodd\" fill-opacity=\"1\" /><path clip-path=\"url(#clip590)\" d=\"M1363.32 1491.61 Q1359.71 1491.61 1357.88 1495.18 Q1356.08 1498.72 1356.08 1505.85 Q1356.08 1512.96 1357.88 1516.52 Q1359.71 1520.06 1363.32 1520.06 Q1366.95 1520.06 1368.76 1516.52 Q1370.59 1512.96 1370.59 1505.85 Q1370.59 1498.72 1368.76 1495.18 Q1366.95 1491.61 1363.32 1491.61 M1363.32 1487.91 Q1369.13 1487.91 1372.19 1492.52 Q1375.26 1497.1 1375.26 1505.85 Q1375.26 1514.58 1372.19 1519.18 Q1369.13 1523.77 1363.32 1523.77 Q1357.51 1523.77 1354.43 1519.18 Q1351.38 1514.58 1351.38 1505.85 Q1351.38 1497.1 1354.43 1492.52 Q1357.51 1487.91 1363.32 1487.91 Z\" fill=\"#000000\" fill-rule=\"evenodd\" fill-opacity=\"1\" /><path clip-path=\"url(#clip590)\" d=\"M1411.65 1497.63 L1401.07 1508.26 L1411.65 1518.84 L1408.9 1521.64 L1398.27 1511.01 L1387.65 1521.64 L1384.92 1518.84 L1395.47 1508.26 L1384.92 1497.63 L1387.65 1494.83 L1398.27 1505.46 L1408.9 1494.83 L1411.65 1497.63 Z\" fill=\"#000000\" fill-rule=\"evenodd\" fill-opacity=\"1\" /><path clip-path=\"url(#clip590)\" d=\"M1424.01 1519.16 L1431.65 1519.16 L1431.65 1492.79 L1423.34 1494.46 L1423.34 1490.2 L1431.61 1488.53 L1436.28 1488.53 L1436.28 1519.16 L1443.92 1519.16 L1443.92 1523.09 L1424.01 1523.09 L1424.01 1519.16 Z\" fill=\"#000000\" fill-rule=\"evenodd\" fill-opacity=\"1\" /><path clip-path=\"url(#clip590)\" d=\"M1463.37 1491.61 Q1459.76 1491.61 1457.93 1495.18 Q1456.12 1498.72 1456.12 1505.85 Q1456.12 1512.96 1457.93 1516.52 Q1459.76 1520.06 1463.37 1520.06 Q1467 1520.06 1468.81 1516.52 Q1470.63 1512.96 1470.63 1505.85 Q1470.63 1498.72 1468.81 1495.18 Q1467 1491.61 1463.37 1491.61 M1463.37 1487.91 Q1469.18 1487.91 1472.23 1492.52 Q1475.31 1497.1 1475.31 1505.85 Q1475.31 1514.58 1472.23 1519.18 Q1469.18 1523.77 1463.37 1523.77 Q1457.56 1523.77 1454.48 1519.18 Q1451.42 1514.58 1451.42 1505.85 Q1451.42 1497.1 1454.48 1492.52 Q1457.56 1487.91 1463.37 1487.91 Z\" fill=\"#000000\" fill-rule=\"evenodd\" fill-opacity=\"1\" /><path clip-path=\"url(#clip590)\" d=\"M1485.34 1480.13 Q1482.78 1480.13 1481.27 1481.88 Q1479.79 1483.63 1479.79 1486.68 Q1479.79 1489.7 1481.27 1491.47 Q1482.78 1493.22 1485.34 1493.22 Q1487.89 1493.22 1489.38 1491.47 Q1490.88 1489.7 1490.88 1486.68 Q1490.88 1483.63 1489.38 1481.88 Q1487.89 1480.13 1485.34 1480.13 M1492.88 1468.22 L1492.88 1471.69 Q1491.45 1471.01 1489.98 1470.65 Q1488.53 1470.29 1487.1 1470.29 Q1483.34 1470.29 1481.35 1472.83 Q1479.37 1475.37 1479.09 1480.51 Q1480.2 1478.87 1481.87 1478 Q1483.55 1477.12 1485.56 1477.12 Q1489.79 1477.12 1492.24 1479.7 Q1494.7 1482.26 1494.7 1486.68 Q1494.7 1491 1492.14 1493.62 Q1489.59 1496.23 1485.34 1496.23 Q1480.46 1496.23 1477.89 1492.51 Q1475.31 1488.76 1475.31 1481.67 Q1475.31 1475.01 1478.47 1471.06 Q1481.63 1467.1 1486.95 1467.1 Q1488.38 1467.1 1489.83 1467.38 Q1491.3 1467.66 1492.88 1468.22 Z\" fill=\"#000000\" fill-rule=\"evenodd\" fill-opacity=\"1\" /><path clip-path=\"url(#clip590)\" d=\"M1824.86 1503.95 Q1821.71 1503.95 1819.86 1506.1 Q1818.03 1508.26 1818.03 1512.01 Q1818.03 1515.73 1819.86 1517.91 Q1821.71 1520.06 1824.86 1520.06 Q1828 1520.06 1829.83 1517.91 Q1831.68 1515.73 1831.68 1512.01 Q1831.68 1508.26 1829.83 1506.1 Q1828 1503.95 1824.86 1503.95 M1834.14 1489.3 L1834.14 1493.56 Q1832.38 1492.72 1830.57 1492.28 Q1828.79 1491.84 1827.03 1491.84 Q1822.4 1491.84 1819.95 1494.97 Q1817.52 1498.09 1817.17 1504.41 Q1818.54 1502.4 1820.6 1501.34 Q1822.66 1500.25 1825.13 1500.25 Q1830.34 1500.25 1833.35 1503.42 Q1836.38 1506.57 1836.38 1512.01 Q1836.38 1517.33 1833.24 1520.55 Q1830.09 1523.77 1824.86 1523.77 Q1818.86 1523.77 1815.69 1519.18 Q1812.52 1514.58 1812.52 1505.85 Q1812.52 1497.65 1816.41 1492.79 Q1820.3 1487.91 1826.85 1487.91 Q1828.61 1487.91 1830.39 1488.26 Q1832.19 1488.6 1834.14 1489.3 Z\" fill=\"#000000\" fill-rule=\"evenodd\" fill-opacity=\"1\" /><path clip-path=\"url(#clip590)\" d=\"M1844.44 1517.22 L1849.32 1517.22 L1849.32 1523.09 L1844.44 1523.09 L1844.44 1517.22 Z\" fill=\"#000000\" fill-rule=\"evenodd\" fill-opacity=\"1\" /><path clip-path=\"url(#clip590)\" d=\"M1869.51 1491.61 Q1865.9 1491.61 1864.07 1495.18 Q1862.26 1498.72 1862.26 1505.85 Q1862.26 1512.96 1864.07 1516.52 Q1865.9 1520.06 1869.51 1520.06 Q1873.14 1520.06 1874.95 1516.52 Q1876.78 1512.96 1876.78 1505.85 Q1876.78 1498.72 1874.95 1495.18 Q1873.14 1491.61 1869.51 1491.61 M1869.51 1487.91 Q1875.32 1487.91 1878.37 1492.52 Q1881.45 1497.1 1881.45 1505.85 Q1881.45 1514.58 1878.37 1519.18 Q1875.32 1523.77 1869.51 1523.77 Q1863.7 1523.77 1860.62 1519.18 Q1857.56 1514.58 1857.56 1505.85 Q1857.56 1497.1 1860.62 1492.52 Q1863.7 1487.91 1869.51 1487.91 Z\" fill=\"#000000\" fill-rule=\"evenodd\" fill-opacity=\"1\" /><path clip-path=\"url(#clip590)\" d=\"M1917.84 1497.63 L1907.26 1508.26 L1917.84 1518.84 L1915.09 1521.64 L1904.46 1511.01 L1893.84 1521.64 L1891.11 1518.84 L1901.66 1508.26 L1891.11 1497.63 L1893.84 1494.83 L1904.46 1505.46 L1915.09 1494.83 L1917.84 1497.63 Z\" fill=\"#000000\" fill-rule=\"evenodd\" fill-opacity=\"1\" /><path clip-path=\"url(#clip590)\" d=\"M1930.2 1519.16 L1937.84 1519.16 L1937.84 1492.79 L1929.53 1494.46 L1929.53 1490.2 L1937.8 1488.53 L1942.47 1488.53 L1942.47 1519.16 L1950.11 1519.16 L1950.11 1523.09 L1930.2 1523.09 L1930.2 1519.16 Z\" fill=\"#000000\" fill-rule=\"evenodd\" fill-opacity=\"1\" /><path clip-path=\"url(#clip590)\" d=\"M1969.55 1491.61 Q1965.94 1491.61 1964.11 1495.18 Q1962.31 1498.72 1962.31 1505.85 Q1962.31 1512.96 1964.11 1516.52 Q1965.94 1520.06 1969.55 1520.06 Q1973.19 1520.06 1974.99 1516.52 Q1976.82 1512.96 1976.82 1505.85 Q1976.82 1498.72 1974.99 1495.18 Q1973.19 1491.61 1969.55 1491.61 M1969.55 1487.91 Q1975.36 1487.91 1978.42 1492.52 Q1981.5 1497.1 1981.5 1505.85 Q1981.5 1514.58 1978.42 1519.18 Q1975.36 1523.77 1969.55 1523.77 Q1963.74 1523.77 1960.67 1519.18 Q1957.61 1514.58 1957.61 1505.85 Q1957.61 1497.1 1960.67 1492.52 Q1963.74 1487.91 1969.55 1487.91 Z\" fill=\"#000000\" fill-rule=\"evenodd\" fill-opacity=\"1\" /><path clip-path=\"url(#clip590)\" d=\"M1991.52 1480.13 Q1988.97 1480.13 1987.46 1481.88 Q1985.98 1483.63 1985.98 1486.68 Q1985.98 1489.7 1987.46 1491.47 Q1988.97 1493.22 1991.52 1493.22 Q1994.08 1493.22 1995.57 1491.47 Q1997.07 1489.7 1997.07 1486.68 Q1997.07 1483.63 1995.57 1481.88 Q1994.08 1480.13 1991.52 1480.13 M1999.07 1468.22 L1999.07 1471.69 Q1997.64 1471.01 1996.17 1470.65 Q1994.72 1470.29 1993.29 1470.29 Q1989.53 1470.29 1987.54 1472.83 Q1985.56 1475.37 1985.28 1480.51 Q1986.39 1478.87 1988.06 1478 Q1989.74 1477.12 1991.75 1477.12 Q1995.98 1477.12 1998.43 1479.7 Q2000.89 1482.26 2000.89 1486.68 Q2000.89 1491 1998.33 1493.62 Q1995.77 1496.23 1991.52 1496.23 Q1986.65 1496.23 1984.08 1492.51 Q1981.5 1488.76 1981.5 1481.67 Q1981.5 1475.01 1984.66 1471.06 Q1987.82 1467.1 1993.14 1467.1 Q1994.57 1467.1 1996.02 1467.38 Q1997.49 1467.66 1999.07 1468.22 Z\" fill=\"#000000\" fill-rule=\"evenodd\" fill-opacity=\"1\" /><path clip-path=\"url(#clip590)\" d=\"M1012.52 1581.1 L1003.25 1581.1 L1000.58 1591.73 L1009.91 1591.73 L1012.52 1581.1 M1007.74 1562.99 L1004.43 1576.2 L1013.72 1576.2 L1017.07 1562.99 L1022.16 1562.99 L1018.88 1576.2 L1028.81 1576.2 L1028.81 1581.1 L1017.64 1581.1 L1015.03 1591.73 L1025.15 1591.73 L1025.15 1596.6 L1013.79 1596.6 L1010.48 1609.78 L1005.39 1609.78 L1008.66 1596.6 L999.338 1596.6 L996.06 1609.78 L990.935 1609.78 L994.246 1596.6 L984.22 1596.6 L984.22 1591.73 L995.423 1591.73 L998.097 1581.1 L987.848 1581.1 L987.848 1576.2 L999.338 1576.2 L1002.58 1562.99 L1007.74 1562.99 Z\" fill=\"#000000\" fill-rule=\"evenodd\" fill-opacity=\"1\" /><path clip-path=\"url(#clip590)\" d=\"M1060.45 1560.25 L1066.34 1560.25 L1066.34 1589.5 L1083.81 1574.13 L1091.29 1574.13 L1072.38 1590.81 L1092.09 1609.78 L1084.45 1609.78 L1066.34 1592.37 L1066.34 1609.78 L1060.45 1609.78 L1060.45 1560.25 Z\" fill=\"#000000\" fill-rule=\"evenodd\" fill-opacity=\"1\" /><path clip-path=\"url(#clip590)\" d=\"M1126.17 1580.97 Q1128.37 1577.02 1131.43 1575.15 Q1134.48 1573.27 1138.62 1573.27 Q1144.19 1573.27 1147.21 1577.18 Q1150.24 1581.07 1150.24 1588.26 L1150.24 1609.78 L1144.35 1609.78 L1144.35 1588.45 Q1144.35 1583.33 1142.53 1580.84 Q1140.72 1578.36 1137 1578.36 Q1132.45 1578.36 1129.8 1581.39 Q1127.16 1584.41 1127.16 1589.63 L1127.16 1609.78 L1121.27 1609.78 L1121.27 1588.45 Q1121.27 1583.29 1119.46 1580.84 Q1117.64 1578.36 1113.86 1578.36 Q1109.37 1578.36 1106.73 1581.42 Q1104.09 1584.44 1104.09 1589.63 L1104.09 1609.78 L1098.2 1609.78 L1098.2 1574.13 L1104.09 1574.13 L1104.09 1579.67 Q1106.09 1576.39 1108.89 1574.83 Q1111.69 1573.27 1115.54 1573.27 Q1119.43 1573.27 1122.13 1575.24 Q1124.87 1577.22 1126.17 1580.97 Z\" fill=\"#000000\" fill-rule=\"evenodd\" fill-opacity=\"1\" /><path clip-path=\"url(#clip590)\" d=\"M1192.41 1590.49 L1192.41 1593.35 L1165.48 1593.35 Q1165.87 1599.4 1169.11 1602.58 Q1172.39 1605.73 1178.21 1605.73 Q1181.59 1605.73 1184.74 1604.91 Q1187.92 1604.08 1191.04 1602.42 L1191.04 1607.96 Q1187.89 1609.3 1184.58 1610 Q1181.27 1610.7 1177.86 1610.7 Q1169.33 1610.7 1164.34 1605.73 Q1159.37 1600.77 1159.37 1592.3 Q1159.37 1583.55 1164.08 1578.43 Q1168.83 1573.27 1176.85 1573.27 Q1184.04 1573.27 1188.21 1577.92 Q1192.41 1582.53 1192.41 1590.49 M1186.55 1588.77 Q1186.49 1583.96 1183.85 1581.1 Q1181.24 1578.23 1176.91 1578.23 Q1172.01 1578.23 1169.05 1581 Q1166.12 1583.77 1165.67 1588.8 L1186.55 1588.77 Z\" fill=\"#000000\" fill-rule=\"evenodd\" fill-opacity=\"1\" /><path clip-path=\"url(#clip590)\" d=\"M1222.68 1579.6 Q1221.69 1579.03 1220.51 1578.78 Q1219.37 1578.49 1217.97 1578.49 Q1213 1578.49 1210.33 1581.74 Q1207.69 1584.95 1207.69 1591 L1207.69 1609.78 L1201.8 1609.78 L1201.8 1574.13 L1207.69 1574.13 L1207.69 1579.67 Q1209.53 1576.42 1212.49 1574.86 Q1215.45 1573.27 1219.69 1573.27 Q1220.29 1573.27 1221.02 1573.36 Q1221.76 1573.43 1222.65 1573.59 L1222.68 1579.6 Z\" fill=\"#000000\" fill-rule=\"evenodd\" fill-opacity=\"1\" /><path clip-path=\"url(#clip590)\" d=\"M1251.55 1575.18 L1251.55 1580.72 Q1249.06 1579.44 1246.39 1578.81 Q1243.72 1578.17 1240.85 1578.17 Q1236.49 1578.17 1234.3 1579.51 Q1232.13 1580.84 1232.13 1583.52 Q1232.13 1585.55 1233.69 1586.73 Q1235.25 1587.88 1239.96 1588.93 L1241.97 1589.37 Q1248.21 1590.71 1250.82 1593.16 Q1253.46 1595.58 1253.46 1599.94 Q1253.46 1604.91 1249.51 1607.8 Q1245.6 1610.7 1238.72 1610.7 Q1235.86 1610.7 1232.74 1610.13 Q1229.65 1609.59 1226.21 1608.47 L1226.21 1602.42 Q1229.46 1604.11 1232.61 1604.97 Q1235.76 1605.8 1238.85 1605.8 Q1242.99 1605.8 1245.21 1604.4 Q1247.44 1602.96 1247.44 1600.39 Q1247.44 1598 1245.82 1596.73 Q1244.23 1595.45 1238.78 1594.28 L1236.75 1593.8 Q1231.3 1592.65 1228.89 1590.3 Q1226.47 1587.91 1226.47 1583.77 Q1226.47 1578.74 1230.03 1576.01 Q1233.6 1573.27 1240.15 1573.27 Q1243.4 1573.27 1246.26 1573.75 Q1249.13 1574.22 1251.55 1575.18 Z\" fill=\"#000000\" fill-rule=\"evenodd\" fill-opacity=\"1\" /><path clip-path=\"url(#clip590)\" d=\"M1299.7 1591.86 Q1292.61 1591.86 1289.87 1593.48 Q1287.13 1595.1 1287.13 1599.02 Q1287.13 1602.14 1289.17 1603.98 Q1291.24 1605.8 1294.77 1605.8 Q1299.64 1605.8 1302.57 1602.36 Q1305.53 1598.89 1305.53 1593.16 L1305.53 1591.86 L1299.7 1591.86 M1311.39 1589.44 L1311.39 1609.78 L1305.53 1609.78 L1305.53 1604.37 Q1303.52 1607.61 1300.53 1609.17 Q1297.54 1610.7 1293.21 1610.7 Q1287.74 1610.7 1284.49 1607.64 Q1281.28 1604.56 1281.28 1599.4 Q1281.28 1593.38 1285.29 1590.33 Q1289.33 1587.27 1297.32 1587.27 L1305.53 1587.27 L1305.53 1586.7 Q1305.53 1582.66 1302.86 1580.46 Q1300.21 1578.23 1295.41 1578.23 Q1292.35 1578.23 1289.46 1578.97 Q1286.56 1579.7 1283.89 1581.16 L1283.89 1575.75 Q1287.1 1574.51 1290.12 1573.91 Q1293.15 1573.27 1296.01 1573.27 Q1303.75 1573.27 1307.57 1577.28 Q1311.39 1581.29 1311.39 1589.44 Z\" fill=\"#000000\" fill-rule=\"evenodd\" fill-opacity=\"1\" /><path clip-path=\"url(#clip590)\" d=\"M1346.17 1575.18 L1346.17 1580.72 Q1343.69 1579.44 1341.02 1578.81 Q1338.34 1578.17 1335.48 1578.17 Q1331.12 1578.17 1328.92 1579.51 Q1326.76 1580.84 1326.76 1583.52 Q1326.76 1585.55 1328.32 1586.73 Q1329.88 1587.88 1334.59 1588.93 L1336.59 1589.37 Q1342.83 1590.71 1345.44 1593.16 Q1348.08 1595.58 1348.08 1599.94 Q1348.08 1604.91 1344.14 1607.8 Q1340.22 1610.7 1333.35 1610.7 Q1330.48 1610.7 1327.36 1610.13 Q1324.28 1609.59 1320.84 1608.47 L1320.84 1602.42 Q1324.08 1604.11 1327.24 1604.97 Q1330.39 1605.8 1333.47 1605.8 Q1337.61 1605.8 1339.84 1604.4 Q1342.07 1602.96 1342.07 1600.39 Q1342.07 1598 1340.44 1596.73 Q1338.85 1595.45 1333.41 1594.28 L1331.37 1593.8 Q1325.93 1592.65 1323.51 1590.3 Q1321.09 1587.91 1321.09 1583.77 Q1321.09 1578.74 1324.66 1576.01 Q1328.22 1573.27 1334.78 1573.27 Q1338.03 1573.27 1340.89 1573.75 Q1343.75 1574.22 1346.17 1575.18 Z\" fill=\"#000000\" fill-rule=\"evenodd\" fill-opacity=\"1\" /><path clip-path=\"url(#clip590)\" d=\"M1380.13 1575.18 L1380.13 1580.72 Q1377.65 1579.44 1374.98 1578.81 Q1372.3 1578.17 1369.44 1578.17 Q1365.08 1578.17 1362.88 1579.51 Q1360.72 1580.84 1360.72 1583.52 Q1360.72 1585.55 1362.28 1586.73 Q1363.84 1587.88 1368.55 1588.93 L1370.55 1589.37 Q1376.79 1590.71 1379.4 1593.16 Q1382.04 1595.58 1382.04 1599.94 Q1382.04 1604.91 1378.1 1607.8 Q1374.18 1610.7 1367.31 1610.7 Q1364.44 1610.7 1361.32 1610.13 Q1358.24 1609.59 1354.8 1608.47 L1354.8 1602.42 Q1358.05 1604.11 1361.2 1604.97 Q1364.35 1605.8 1367.44 1605.8 Q1371.57 1605.8 1373.8 1604.4 Q1376.03 1602.96 1376.03 1600.39 Q1376.03 1598 1374.41 1596.73 Q1372.81 1595.45 1367.37 1594.28 L1365.33 1593.8 Q1359.89 1592.65 1357.47 1590.3 Q1355.05 1587.91 1355.05 1583.77 Q1355.05 1578.74 1358.62 1576.01 Q1362.18 1573.27 1368.74 1573.27 Q1371.99 1573.27 1374.85 1573.75 Q1377.72 1574.22 1380.13 1575.18 Z\" fill=\"#000000\" fill-rule=\"evenodd\" fill-opacity=\"1\" /><path clip-path=\"url(#clip590)\" d=\"M1421.86 1590.49 L1421.86 1593.35 L1394.94 1593.35 Q1395.32 1599.4 1398.56 1602.58 Q1401.84 1605.73 1407.67 1605.73 Q1411.04 1605.73 1414.19 1604.91 Q1417.37 1604.08 1420.49 1602.42 L1420.49 1607.96 Q1417.34 1609.3 1414.03 1610 Q1410.72 1610.7 1407.32 1610.7 Q1398.79 1610.7 1393.79 1605.73 Q1388.82 1600.77 1388.82 1592.3 Q1388.82 1583.55 1393.53 1578.43 Q1398.28 1573.27 1406.3 1573.27 Q1413.49 1573.27 1417.66 1577.92 Q1421.86 1582.53 1421.86 1590.49 M1416.01 1588.77 Q1415.94 1583.96 1413.3 1581.1 Q1410.69 1578.23 1406.36 1578.23 Q1401.46 1578.23 1398.5 1581 Q1395.57 1583.77 1395.13 1588.8 L1416.01 1588.77 Z\" fill=\"#000000\" fill-rule=\"evenodd\" fill-opacity=\"1\" /><path clip-path=\"url(#clip590)\" d=\"M1454.2 1575.18 L1454.2 1580.72 Q1451.72 1579.44 1449.04 1578.81 Q1446.37 1578.17 1443.51 1578.17 Q1439.14 1578.17 1436.95 1579.51 Q1434.78 1580.84 1434.78 1583.52 Q1434.78 1585.55 1436.34 1586.73 Q1437.9 1587.88 1442.61 1588.93 L1444.62 1589.37 Q1450.86 1590.71 1453.47 1593.16 Q1456.11 1595.58 1456.11 1599.94 Q1456.11 1604.91 1452.16 1607.8 Q1448.25 1610.7 1441.37 1610.7 Q1438.51 1610.7 1435.39 1610.13 Q1432.3 1609.59 1428.86 1608.47 L1428.86 1602.42 Q1432.11 1604.11 1435.26 1604.97 Q1438.41 1605.8 1441.5 1605.8 Q1445.64 1605.8 1447.87 1604.4 Q1450.09 1602.96 1450.09 1600.39 Q1450.09 1598 1448.47 1596.73 Q1446.88 1595.45 1441.44 1594.28 L1439.4 1593.8 Q1433.96 1592.65 1431.54 1590.3 Q1429.12 1587.91 1429.12 1583.77 Q1429.12 1578.74 1432.68 1576.01 Q1436.25 1573.27 1442.81 1573.27 Q1446.05 1573.27 1448.92 1573.75 Q1451.78 1574.22 1454.2 1575.18 Z\" fill=\"#000000\" fill-rule=\"evenodd\" fill-opacity=\"1\" /><path clip-path=\"url(#clip590)\" d=\"M1488.16 1575.18 L1488.16 1580.72 Q1485.68 1579.44 1483 1578.81 Q1480.33 1578.17 1477.47 1578.17 Q1473.11 1578.17 1470.91 1579.51 Q1468.75 1580.84 1468.75 1583.52 Q1468.75 1585.55 1470.3 1586.73 Q1471.86 1587.88 1476.58 1588.93 L1478.58 1589.37 Q1484.82 1590.71 1487.43 1593.16 Q1490.07 1595.58 1490.07 1599.94 Q1490.07 1604.91 1486.12 1607.8 Q1482.21 1610.7 1475.33 1610.7 Q1472.47 1610.7 1469.35 1610.13 Q1466.26 1609.59 1462.83 1608.47 L1462.83 1602.42 Q1466.07 1604.11 1469.22 1604.97 Q1472.37 1605.8 1475.46 1605.8 Q1479.6 1605.8 1481.83 1604.4 Q1484.05 1602.96 1484.05 1600.39 Q1484.05 1598 1482.43 1596.73 Q1480.84 1595.45 1475.4 1594.28 L1473.36 1593.8 Q1467.92 1592.65 1465.5 1590.3 Q1463.08 1587.91 1463.08 1583.77 Q1463.08 1578.74 1466.64 1576.01 Q1470.21 1573.27 1476.77 1573.27 Q1480.01 1573.27 1482.88 1573.75 Q1485.74 1574.22 1488.16 1575.18 Z\" fill=\"#000000\" fill-rule=\"evenodd\" fill-opacity=\"1\" /><path clip-path=\"url(#clip590)\" d=\"M1529.89 1590.49 L1529.89 1593.35 L1502.96 1593.35 Q1503.34 1599.4 1506.59 1602.58 Q1509.87 1605.73 1515.69 1605.73 Q1519.07 1605.73 1522.22 1604.91 Q1525.4 1604.08 1528.52 1602.42 L1528.52 1607.96 Q1525.37 1609.3 1522.06 1610 Q1518.75 1610.7 1515.34 1610.7 Q1506.81 1610.7 1501.82 1605.73 Q1496.85 1600.77 1496.85 1592.3 Q1496.85 1583.55 1501.56 1578.43 Q1506.3 1573.27 1514.32 1573.27 Q1521.52 1573.27 1525.69 1577.92 Q1529.89 1582.53 1529.89 1590.49 M1524.03 1588.77 Q1523.97 1583.96 1521.33 1581.1 Q1518.72 1578.23 1514.39 1578.23 Q1509.49 1578.23 1506.53 1581 Q1503.6 1583.77 1503.15 1588.8 L1524.03 1588.77 Z\" fill=\"#000000\" fill-rule=\"evenodd\" fill-opacity=\"1\" /><path clip-path=\"url(#clip590)\" d=\"M1562.96 1579.54 L1562.96 1560.25 L1568.81 1560.25 L1568.81 1609.78 L1562.96 1609.78 L1562.96 1604.43 Q1561.11 1607.61 1558.28 1609.17 Q1555.48 1610.7 1551.53 1610.7 Q1545.07 1610.7 1541 1605.54 Q1536.95 1600.39 1536.95 1591.98 Q1536.95 1583.58 1541 1578.43 Q1545.07 1573.27 1551.53 1573.27 Q1555.48 1573.27 1558.28 1574.83 Q1561.11 1576.36 1562.96 1579.54 M1543 1591.98 Q1543 1598.45 1545.64 1602.14 Q1548.32 1605.8 1552.96 1605.8 Q1557.61 1605.8 1560.28 1602.14 Q1562.96 1598.45 1562.96 1591.98 Q1562.96 1585.52 1560.28 1581.86 Q1557.61 1578.17 1552.96 1578.17 Q1548.32 1578.17 1545.64 1581.86 Q1543 1585.52 1543 1591.98 Z\" fill=\"#000000\" fill-rule=\"evenodd\" fill-opacity=\"1\" /><polyline clip-path=\"url(#clip592)\" style=\"stroke:#000000; stroke-linecap:butt; stroke-linejoin:round; stroke-width:2; stroke-opacity:0.1; fill:none\" points=\"\n",
       "  333.254,1396.96 2219.78,1396.96 \n",
       "  \"/>\n",
       "<polyline clip-path=\"url(#clip592)\" style=\"stroke:#000000; stroke-linecap:butt; stroke-linejoin:round; stroke-width:2; stroke-opacity:0.1; fill:none\" points=\"\n",
       "  333.254,1024.11 2219.78,1024.11 \n",
       "  \"/>\n",
       "<polyline clip-path=\"url(#clip592)\" style=\"stroke:#000000; stroke-linecap:butt; stroke-linejoin:round; stroke-width:2; stroke-opacity:0.1; fill:none\" points=\"\n",
       "  333.254,651.259 2219.78,651.259 \n",
       "  \"/>\n",
       "<polyline clip-path=\"url(#clip592)\" style=\"stroke:#000000; stroke-linecap:butt; stroke-linejoin:round; stroke-width:2; stroke-opacity:0.1; fill:none\" points=\"\n",
       "  333.254,278.411 2219.78,278.411 \n",
       "  \"/>\n",
       "<polyline clip-path=\"url(#clip590)\" style=\"stroke:#000000; stroke-linecap:butt; stroke-linejoin:round; stroke-width:4; stroke-opacity:1; fill:none\" points=\"\n",
       "  333.254,1434.49 333.254,108.352 \n",
       "  \"/>\n",
       "<polyline clip-path=\"url(#clip590)\" style=\"stroke:#000000; stroke-linecap:butt; stroke-linejoin:round; stroke-width:4; stroke-opacity:1; fill:none\" points=\"\n",
       "  333.254,1396.96 345.899,1396.96 \n",
       "  \"/>\n",
       "<polyline clip-path=\"url(#clip590)\" style=\"stroke:#000000; stroke-linecap:butt; stroke-linejoin:round; stroke-width:4; stroke-opacity:1; fill:none\" points=\"\n",
       "  333.254,1024.11 345.899,1024.11 \n",
       "  \"/>\n",
       "<polyline clip-path=\"url(#clip590)\" style=\"stroke:#000000; stroke-linecap:butt; stroke-linejoin:round; stroke-width:4; stroke-opacity:1; fill:none\" points=\"\n",
       "  333.254,651.259 345.899,651.259 \n",
       "  \"/>\n",
       "<polyline clip-path=\"url(#clip590)\" style=\"stroke:#000000; stroke-linecap:butt; stroke-linejoin:round; stroke-width:4; stroke-opacity:1; fill:none\" points=\"\n",
       "  333.254,278.411 345.899,278.411 \n",
       "  \"/>\n",
       "<path clip-path=\"url(#clip590)\" d=\"M273.31 1382.75 Q269.699 1382.75 267.87 1386.32 Q266.064 1389.86 266.064 1396.99 Q266.064 1404.1 267.87 1407.66 Q269.699 1411.2 273.31 1411.2 Q276.944 1411.2 278.75 1407.66 Q280.578 1404.1 280.578 1396.99 Q280.578 1389.86 278.75 1386.32 Q276.944 1382.75 273.31 1382.75 M273.31 1379.05 Q279.12 1379.05 282.175 1383.66 Q285.254 1388.24 285.254 1396.99 Q285.254 1405.72 282.175 1410.32 Q279.12 1414.91 273.31 1414.91 Q267.5 1414.91 264.421 1410.32 Q261.365 1405.72 261.365 1396.99 Q261.365 1388.24 264.421 1383.66 Q267.5 1379.05 273.31 1379.05 Z\" fill=\"#000000\" fill-rule=\"evenodd\" fill-opacity=\"1\" /><path clip-path=\"url(#clip590)\" d=\"M100.788 1043.9 L108.426 1043.9 L108.426 1017.53 L100.116 1019.2 L100.116 1014.94 L108.38 1013.27 L113.056 1013.27 L113.056 1043.9 L120.695 1043.9 L120.695 1047.83 L100.788 1047.83 L100.788 1043.9 Z\" fill=\"#000000\" fill-rule=\"evenodd\" fill-opacity=\"1\" /><path clip-path=\"url(#clip590)\" d=\"M130.139 1041.96 L135.023 1041.96 L135.023 1047.83 L130.139 1047.83 L130.139 1041.96 Z\" fill=\"#000000\" fill-rule=\"evenodd\" fill-opacity=\"1\" /><path clip-path=\"url(#clip590)\" d=\"M155.209 1016.35 Q151.597 1016.35 149.769 1019.92 Q147.963 1023.46 147.963 1030.59 Q147.963 1037.7 149.769 1041.26 Q151.597 1044.8 155.209 1044.8 Q158.843 1044.8 160.648 1041.26 Q162.477 1037.7 162.477 1030.59 Q162.477 1023.46 160.648 1019.92 Q158.843 1016.35 155.209 1016.35 M155.209 1012.65 Q161.019 1012.65 164.074 1017.26 Q167.153 1021.84 167.153 1030.59 Q167.153 1039.32 164.074 1043.92 Q161.019 1048.51 155.209 1048.51 Q149.398 1048.51 146.32 1043.92 Q143.264 1039.32 143.264 1030.59 Q143.264 1021.84 146.32 1017.26 Q149.398 1012.65 155.209 1012.65 Z\" fill=\"#000000\" fill-rule=\"evenodd\" fill-opacity=\"1\" /><path clip-path=\"url(#clip590)\" d=\"M203.542 1022.37 L192.963 1033 L203.542 1043.58 L200.787 1046.38 L190.162 1035.75 L179.537 1046.38 L176.806 1043.58 L187.361 1033 L176.806 1022.37 L179.537 1019.57 L190.162 1030.2 L200.787 1019.57 L203.542 1022.37 Z\" fill=\"#000000\" fill-rule=\"evenodd\" fill-opacity=\"1\" /><path clip-path=\"url(#clip590)\" d=\"M215.903 1043.9 L223.542 1043.9 L223.542 1017.53 L215.231 1019.2 L215.231 1014.94 L223.495 1013.27 L228.171 1013.27 L228.171 1043.9 L235.81 1043.9 L235.81 1047.83 L215.903 1047.83 L215.903 1043.9 Z\" fill=\"#000000\" fill-rule=\"evenodd\" fill-opacity=\"1\" /><path clip-path=\"url(#clip590)\" d=\"M255.254 1016.35 Q251.643 1016.35 249.815 1019.92 Q248.009 1023.46 248.009 1030.59 Q248.009 1037.7 249.815 1041.26 Q251.643 1044.8 255.254 1044.8 Q258.889 1044.8 260.694 1041.26 Q262.523 1037.7 262.523 1030.59 Q262.523 1023.46 260.694 1019.92 Q258.889 1016.35 255.254 1016.35 M255.254 1012.65 Q261.064 1012.65 264.12 1017.26 Q267.199 1021.84 267.199 1030.59 Q267.199 1039.32 264.12 1043.92 Q261.064 1048.51 255.254 1048.51 Q249.444 1048.51 246.365 1043.92 Q243.31 1039.32 243.31 1030.59 Q243.31 1021.84 246.365 1017.26 Q249.444 1012.65 255.254 1012.65 Z\" fill=\"#000000\" fill-rule=\"evenodd\" fill-opacity=\"1\" /><path clip-path=\"url(#clip590)\" d=\"M267.199 992.344 L285.254 992.344 L285.254 993.962 L275.06 1020.42 L271.092 1020.42 L280.684 995.542 L267.199 995.542 L267.199 992.344 Z\" fill=\"#000000\" fill-rule=\"evenodd\" fill-opacity=\"1\" /><path clip-path=\"url(#clip590)\" d=\"M104.005 671.051 L120.324 671.051 L120.324 674.986 L98.3802 674.986 L98.3802 671.051 Q101.042 668.297 105.625 663.667 Q110.232 659.014 111.412 657.672 Q113.658 655.149 114.537 653.412 Q115.44 651.653 115.44 649.963 Q115.44 647.209 113.496 645.473 Q111.575 643.737 108.473 643.737 Q106.274 643.737 103.82 644.501 Q101.389 645.264 98.6116 646.815 L98.6116 642.093 Q101.436 640.959 103.889 640.38 Q106.343 639.801 108.38 639.801 Q113.75 639.801 116.945 642.487 Q120.139 645.172 120.139 649.663 Q120.139 651.792 119.329 653.713 Q118.542 655.612 116.436 658.204 Q115.857 658.875 112.755 662.093 Q109.653 665.287 104.005 671.051 Z\" fill=\"#000000\" fill-rule=\"evenodd\" fill-opacity=\"1\" /><path clip-path=\"url(#clip590)\" d=\"M130.139 669.107 L135.023 669.107 L135.023 674.986 L130.139 674.986 L130.139 669.107 Z\" fill=\"#000000\" fill-rule=\"evenodd\" fill-opacity=\"1\" /><path clip-path=\"url(#clip590)\" d=\"M155.209 643.505 Q151.597 643.505 149.769 647.07 Q147.963 650.612 147.963 657.741 Q147.963 664.848 149.769 668.412 Q151.597 671.954 155.209 671.954 Q158.843 671.954 160.648 668.412 Q162.477 664.848 162.477 657.741 Q162.477 650.612 160.648 647.07 Q158.843 643.505 155.209 643.505 M155.209 639.801 Q161.019 639.801 164.074 644.408 Q167.153 648.991 167.153 657.741 Q167.153 666.468 164.074 671.074 Q161.019 675.658 155.209 675.658 Q149.398 675.658 146.32 671.074 Q143.264 666.468 143.264 657.741 Q143.264 648.991 146.32 644.408 Q149.398 639.801 155.209 639.801 Z\" fill=\"#000000\" fill-rule=\"evenodd\" fill-opacity=\"1\" /><path clip-path=\"url(#clip590)\" d=\"M203.542 649.524 L192.963 660.149 L203.542 670.727 L200.787 673.528 L190.162 662.903 L179.537 673.528 L176.806 670.727 L187.361 660.149 L176.806 649.524 L179.537 646.723 L190.162 657.348 L200.787 646.723 L203.542 649.524 Z\" fill=\"#000000\" fill-rule=\"evenodd\" fill-opacity=\"1\" /><path clip-path=\"url(#clip590)\" d=\"M215.903 671.051 L223.542 671.051 L223.542 644.686 L215.231 646.352 L215.231 642.093 L223.495 640.426 L228.171 640.426 L228.171 671.051 L235.81 671.051 L235.81 674.986 L215.903 674.986 L215.903 671.051 Z\" fill=\"#000000\" fill-rule=\"evenodd\" fill-opacity=\"1\" /><path clip-path=\"url(#clip590)\" d=\"M255.254 643.505 Q251.643 643.505 249.815 647.07 Q248.009 650.612 248.009 657.741 Q248.009 664.848 249.815 668.412 Q251.643 671.954 255.254 671.954 Q258.889 671.954 260.694 668.412 Q262.523 664.848 262.523 657.741 Q262.523 650.612 260.694 647.07 Q258.889 643.505 255.254 643.505 M255.254 639.801 Q261.064 639.801 264.12 644.408 Q267.199 648.991 267.199 657.741 Q267.199 666.468 264.12 671.074 Q261.064 675.658 255.254 675.658 Q249.444 675.658 246.365 671.074 Q243.31 666.468 243.31 657.741 Q243.31 648.991 246.365 644.408 Q249.444 639.801 255.254 639.801 Z\" fill=\"#000000\" fill-rule=\"evenodd\" fill-opacity=\"1\" /><path clip-path=\"url(#clip590)\" d=\"M267.199 619.496 L285.254 619.496 L285.254 621.114 L275.06 647.576 L271.092 647.576 L280.684 622.693 L267.199 622.693 L267.199 619.496 Z\" fill=\"#000000\" fill-rule=\"evenodd\" fill-opacity=\"1\" /><path clip-path=\"url(#clip590)\" d=\"M114.144 283.504 Q117.5 284.222 119.375 286.49 Q121.274 288.759 121.274 292.092 Q121.274 297.208 117.755 300.009 Q114.237 302.81 107.755 302.81 Q105.579 302.81 103.264 302.37 Q100.973 301.953 98.519 301.097 L98.519 296.583 Q100.463 297.717 102.778 298.296 Q105.093 298.874 107.616 298.874 Q112.014 298.874 114.306 297.138 Q116.621 295.402 116.621 292.092 Q116.621 289.036 114.468 287.323 Q112.338 285.587 108.519 285.587 L104.491 285.587 L104.491 281.745 L108.704 281.745 Q112.153 281.745 113.982 280.379 Q115.811 278.99 115.811 276.398 Q115.811 273.736 113.912 272.324 Q112.037 270.888 108.519 270.888 Q106.598 270.888 104.399 271.305 Q102.2 271.722 99.5607 272.601 L99.5607 268.435 Q102.223 267.694 104.538 267.324 Q106.875 266.953 108.936 266.953 Q114.26 266.953 117.362 269.384 Q120.463 271.791 120.463 275.912 Q120.463 278.782 118.82 280.773 Q117.176 282.74 114.144 283.504 Z\" fill=\"#000000\" fill-rule=\"evenodd\" fill-opacity=\"1\" /><path clip-path=\"url(#clip590)\" d=\"M130.139 296.259 L135.023 296.259 L135.023 302.138 L130.139 302.138 L130.139 296.259 Z\" fill=\"#000000\" fill-rule=\"evenodd\" fill-opacity=\"1\" /><path clip-path=\"url(#clip590)\" d=\"M155.209 270.657 Q151.597 270.657 149.769 274.222 Q147.963 277.763 147.963 284.893 Q147.963 291.999 149.769 295.564 Q151.597 299.106 155.209 299.106 Q158.843 299.106 160.648 295.564 Q162.477 291.999 162.477 284.893 Q162.477 277.763 160.648 274.222 Q158.843 270.657 155.209 270.657 M155.209 266.953 Q161.019 266.953 164.074 271.56 Q167.153 276.143 167.153 284.893 Q167.153 293.62 164.074 298.226 Q161.019 302.81 155.209 302.81 Q149.398 302.81 146.32 298.226 Q143.264 293.62 143.264 284.893 Q143.264 276.143 146.32 271.56 Q149.398 266.953 155.209 266.953 Z\" fill=\"#000000\" fill-rule=\"evenodd\" fill-opacity=\"1\" /><path clip-path=\"url(#clip590)\" d=\"M203.542 276.675 L192.963 287.3 L203.542 297.879 L200.787 300.68 L190.162 290.055 L179.537 300.68 L176.806 297.879 L187.361 287.3 L176.806 276.675 L179.537 273.874 L190.162 284.499 L200.787 273.874 L203.542 276.675 Z\" fill=\"#000000\" fill-rule=\"evenodd\" fill-opacity=\"1\" /><path clip-path=\"url(#clip590)\" d=\"M215.903 298.203 L223.542 298.203 L223.542 271.837 L215.231 273.504 L215.231 269.245 L223.495 267.578 L228.171 267.578 L228.171 298.203 L235.81 298.203 L235.81 302.138 L215.903 302.138 L215.903 298.203 Z\" fill=\"#000000\" fill-rule=\"evenodd\" fill-opacity=\"1\" /><path clip-path=\"url(#clip590)\" d=\"M255.254 270.657 Q251.643 270.657 249.815 274.222 Q248.009 277.763 248.009 284.893 Q248.009 291.999 249.815 295.564 Q251.643 299.106 255.254 299.106 Q258.889 299.106 260.694 295.564 Q262.523 291.999 262.523 284.893 Q262.523 277.763 260.694 274.222 Q258.889 270.657 255.254 270.657 M255.254 266.953 Q261.064 266.953 264.12 271.56 Q267.199 276.143 267.199 284.893 Q267.199 293.62 264.12 298.226 Q261.064 302.81 255.254 302.81 Q249.444 302.81 246.365 298.226 Q243.31 293.62 243.31 284.893 Q243.31 276.143 246.365 271.56 Q249.444 266.953 255.254 266.953 Z\" fill=\"#000000\" fill-rule=\"evenodd\" fill-opacity=\"1\" /><path clip-path=\"url(#clip590)\" d=\"M267.199 246.648 L285.254 246.648 L285.254 248.265 L275.06 274.728 L271.092 274.728 L280.684 249.845 L267.199 249.845 L267.199 246.648 Z\" fill=\"#000000\" fill-rule=\"evenodd\" fill-opacity=\"1\" /><path clip-path=\"url(#clip590)\" d=\"M7.44665 999.869 L7.44665 1009.13 L18.0774 1011.8 L18.0774 1002.48 L7.44665 999.869 M-10.6638 1004.64 L2.54506 1007.95 L2.54506 998.66 L-10.6638 995.318 L-10.6638 990.225 L2.54506 993.503 L2.54506 983.573 L7.44665 983.573 L7.44665 994.745 L18.0774 997.355 L18.0774 987.233 L22.9471 987.233 L22.9471 998.596 L36.1242 1001.91 L36.1242 1007 L22.9471 1003.72 L22.9471 1013.05 L36.1242 1016.32 L36.1242 1021.45 L22.9471 1018.14 L22.9471 1028.16 L18.0774 1028.16 L18.0774 1016.96 L7.44665 1014.29 L7.44665 1024.54 L2.54506 1024.54 L2.54506 1013.05 L-10.6638 1009.8 L-10.6638 1004.64 Z\" fill=\"#000000\" fill-rule=\"evenodd\" fill-opacity=\"1\" /><path clip-path=\"url(#clip590)\" d=\"M22.0559 952.317 L0.4762 952.317 L0.4762 946.461 L21.8331 946.461 Q26.8939 946.461 29.4402 944.487 Q31.9546 942.514 31.9546 938.567 Q31.9546 933.825 28.9309 931.088 Q25.9072 928.319 20.6873 928.319 L0.4762 928.319 L0.4762 922.462 L36.1242 922.462 L36.1242 928.319 L30.6496 928.319 Q33.8962 930.451 35.4876 933.284 Q37.0472 936.085 37.0472 939.809 Q37.0472 945.952 33.2278 949.134 Q29.4083 952.317 22.0559 952.317 M-0.38317 937.581 L-0.38317 937.581 Z\" fill=\"#000000\" fill-rule=\"evenodd\" fill-opacity=\"1\" /><path clip-path=\"url(#clip590)\" d=\"M14.6081 880.767 L36.1242 880.767 L36.1242 886.623 L14.799 886.623 Q9.7383 886.623 7.22385 888.597 Q4.7094 890.57 4.7094 894.517 Q4.7094 899.259 7.73311 901.996 Q10.7568 904.734 15.9767 904.734 L36.1242 904.734 L36.1242 910.622 L0.4762 910.622 L0.4762 904.734 L6.01437 904.734 Q2.79968 902.633 1.20826 899.8 Q-0.38317 896.936 -0.38317 893.212 Q-0.38317 887.069 3.43625 883.918 Q7.22385 880.767 14.6081 880.767 Z\" fill=\"#000000\" fill-rule=\"evenodd\" fill-opacity=\"1\" /><path clip-path=\"url(#clip590)\" d=\"M0.4762 869.086 L0.4762 863.229 L36.1242 863.229 L36.1242 869.086 L0.4762 869.086 M-13.401 869.086 L-13.401 863.229 L-5.98499 863.229 L-5.98499 869.086 L-13.401 869.086 Z\" fill=\"#000000\" fill-rule=\"evenodd\" fill-opacity=\"1\" /><path clip-path=\"url(#clip590)\" d=\"M18.332 847.474 Q24.7932 847.474 28.4853 844.832 Q32.1456 842.159 32.1456 837.512 Q32.1456 832.865 28.4853 830.191 Q24.7932 827.518 18.332 827.518 Q11.8708 827.518 8.21053 830.191 Q4.51842 832.865 4.51842 837.512 Q4.51842 842.159 8.21053 844.832 Q11.8708 847.474 18.332 847.474 M30.777 827.518 Q33.9598 829.364 35.5194 832.196 Q37.0472 834.997 37.0472 838.944 Q37.0472 845.405 31.891 849.479 Q26.7347 853.521 18.332 853.521 Q9.92927 853.521 4.77305 849.479 Q-0.38317 845.405 -0.38317 838.944 Q-0.38317 834.997 1.17643 832.196 Q2.7042 829.364 5.88705 827.518 L0.4762 827.518 L0.4762 821.661 L49.6831 821.661 L49.6831 827.518 L30.777 827.518 Z\" fill=\"#000000\" fill-rule=\"evenodd\" fill-opacity=\"1\" /><path clip-path=\"url(#clip590)\" d=\"M22.0559 810.203 L0.4762 810.203 L0.4762 804.346 L21.8331 804.346 Q26.8939 804.346 29.4402 802.373 Q31.9546 800.4 31.9546 796.453 Q31.9546 791.71 28.9309 788.973 Q25.9072 786.204 20.6873 786.204 L0.4762 786.204 L0.4762 780.348 L36.1242 780.348 L36.1242 786.204 L30.6496 786.204 Q33.8962 788.337 35.4876 791.169 Q37.0472 793.97 37.0472 797.694 Q37.0472 803.837 33.2278 807.02 Q29.4083 810.203 22.0559 810.203 M-0.38317 795.466 L-0.38317 795.466 Z\" fill=\"#000000\" fill-rule=\"evenodd\" fill-opacity=\"1\" /><path clip-path=\"url(#clip590)\" d=\"M16.8361 737.793 L19.7006 737.793 L19.7006 764.72 Q25.7481 764.338 28.9309 761.091 Q32.0819 757.813 32.0819 751.988 Q32.0819 748.615 31.2544 745.464 Q30.4269 742.281 28.7718 739.162 L34.3099 739.162 Q35.6467 742.313 36.347 745.623 Q37.0472 748.933 37.0472 752.339 Q37.0472 760.869 32.0819 765.866 Q27.1167 770.831 18.6503 770.831 Q9.89745 770.831 4.77305 766.12 Q-0.38317 761.378 -0.38317 753.357 Q-0.38317 746.164 4.2638 741.994 Q8.87893 737.793 16.8361 737.793 M15.1173 743.649 Q10.3112 743.713 7.44665 746.355 Q4.58208 748.965 4.58208 753.293 Q4.58208 758.195 7.35116 761.155 Q10.1202 764.083 15.1492 764.529 L15.1173 743.649 Z\" fill=\"#000000\" fill-rule=\"evenodd\" fill-opacity=\"1\" /><path clip-path=\"url(#clip590)\" d=\"M-13.401 707.683 L-13.401 701.795 L15.8494 701.795 L0.4762 684.321 L0.4762 676.841 L17.1544 695.747 L36.1242 676.046 L36.1242 683.684 L18.7139 701.795 L36.1242 701.795 L36.1242 707.683 L-13.401 707.683 Z\" fill=\"#000000\" fill-rule=\"evenodd\" fill-opacity=\"1\" /><path clip-path=\"url(#clip590)\" d=\"M7.31933 641.957 Q3.3726 639.761 1.49471 636.706 Q-0.38317 633.65 -0.38317 629.512 Q-0.38317 623.942 3.53174 620.919 Q7.41482 617.895 14.6081 617.895 L36.1242 617.895 L36.1242 623.783 L14.799 623.783 Q9.67465 623.783 7.19202 625.597 Q4.7094 627.412 4.7094 631.136 Q4.7094 635.687 7.73311 638.329 Q10.7568 640.971 15.9767 640.971 L36.1242 640.971 L36.1242 646.859 L14.799 646.859 Q9.64282 646.859 7.19202 648.673 Q4.7094 650.487 4.7094 654.275 Q4.7094 658.763 7.76493 661.404 Q10.7886 664.046 15.9767 664.046 L36.1242 664.046 L36.1242 669.935 L0.4762 669.935 L0.4762 664.046 L6.01437 664.046 Q2.73603 662.041 1.17643 659.24 Q-0.38317 656.439 -0.38317 652.588 Q-0.38317 648.705 1.5902 645.999 Q3.56357 643.262 7.31933 641.957 Z\" fill=\"#000000\" fill-rule=\"evenodd\" fill-opacity=\"1\" /><path clip-path=\"url(#clip590)\" d=\"M16.8361 575.722 L19.7006 575.722 L19.7006 602.649 Q25.7481 602.267 28.9309 599.021 Q32.0819 595.742 32.0819 589.918 Q32.0819 586.544 31.2544 583.393 Q30.4269 580.21 28.7718 577.091 L34.3099 577.091 Q35.6467 580.242 36.347 583.552 Q37.0472 586.862 37.0472 590.268 Q37.0472 598.798 32.0819 603.795 Q27.1167 608.76 18.6503 608.76 Q9.89745 608.76 4.77305 604.049 Q-0.38317 599.307 -0.38317 591.286 Q-0.38317 584.093 4.2638 579.923 Q8.87893 575.722 16.8361 575.722 M15.1173 581.578 Q10.3112 581.642 7.44665 584.284 Q4.58208 586.894 4.58208 591.223 Q4.58208 596.124 7.35116 599.084 Q10.1202 602.012 15.1492 602.458 L15.1173 581.578 Z\" fill=\"#000000\" fill-rule=\"evenodd\" fill-opacity=\"1\" /><path clip-path=\"url(#clip590)\" d=\"M5.95071 545.453 Q5.37779 546.44 5.12317 547.617 Q4.83671 548.763 4.83671 550.164 Q4.83671 555.129 8.08322 557.803 Q11.2979 560.444 17.3453 560.444 L36.1242 560.444 L36.1242 566.333 L0.4762 566.333 L0.4762 560.444 L6.01437 560.444 Q2.76785 558.598 1.20826 555.638 Q-0.38317 552.678 -0.38317 548.445 Q-0.38317 547.84 -0.287684 547.108 Q-0.224027 546.376 -0.0648847 545.485 L5.95071 545.453 Z\" fill=\"#000000\" fill-rule=\"evenodd\" fill-opacity=\"1\" /><path clip-path=\"url(#clip590)\" d=\"M1.52654 516.585 L7.06471 516.585 Q5.79157 519.067 5.15499 521.741 Q4.51842 524.414 4.51842 527.279 Q4.51842 531.64 5.85522 533.836 Q7.19202 536 9.86562 536 Q11.9026 536 13.0803 534.44 Q14.2261 532.881 15.2765 528.17 L15.7221 526.165 Q17.0589 519.927 19.5097 517.317 Q21.9286 514.675 26.2891 514.675 Q31.2544 514.675 34.1508 518.622 Q37.0472 522.537 37.0472 529.412 Q37.0472 532.276 36.4743 535.395 Q35.9332 538.483 34.8192 541.92 L28.7718 541.92 Q30.4587 538.674 31.318 535.523 Q32.1456 532.372 32.1456 529.284 Q32.1456 525.147 30.7451 522.919 Q29.3129 520.691 26.7347 520.691 Q24.3476 520.691 23.0745 522.314 Q21.8013 523.905 20.6237 529.348 L20.1462 531.385 Q19.0004 536.828 16.6451 539.247 Q14.258 541.666 10.1202 541.666 Q5.09134 541.666 2.35408 538.101 Q-0.38317 534.536 -0.38317 527.979 Q-0.38317 524.733 0.0942579 521.868 Q0.571686 519.004 1.52654 516.585 Z\" fill=\"#000000\" fill-rule=\"evenodd\" fill-opacity=\"1\" /><path clip-path=\"url(#clip590)\" d=\"M645.325 28.5427 L645.325 35.5912 Q642.166 33.9709 638.763 33.1607 Q635.36 32.3505 631.714 32.3505 Q626.165 32.3505 623.369 34.0519 Q620.615 35.7533 620.615 39.156 Q620.615 41.7486 622.6 43.2475 Q624.585 44.7058 630.58 46.0426 L633.132 46.6097 Q641.072 48.3111 644.394 51.4303 Q647.756 54.509 647.756 60.0587 Q647.756 66.3781 642.733 70.0644 Q637.75 73.7508 629 73.7508 Q625.354 73.7508 621.384 73.0216 Q617.455 72.3329 613.08 70.9151 L613.08 63.2184 Q617.212 65.3654 621.222 66.4591 Q625.233 67.5124 629.162 67.5124 Q634.428 67.5124 637.264 65.73 Q640.1 63.9071 640.1 60.6258 Q640.1 57.5877 638.034 55.9673 Q636.008 54.3469 629.081 52.8481 L626.489 52.2405 Q619.562 50.7821 616.483 47.7845 Q613.404 44.7463 613.404 39.4801 Q613.404 33.0797 617.941 29.5959 Q622.478 26.1121 630.823 26.1121 Q634.955 26.1121 638.601 26.7198 Q642.247 27.3274 645.325 28.5427 Z\" fill=\"#000000\" fill-rule=\"evenodd\" fill-opacity=\"1\" /><path clip-path=\"url(#clip590)\" d=\"M698.433 48.0275 L698.433 51.6733 L664.162 51.6733 Q664.648 59.3701 668.78 63.421 Q672.952 67.4314 680.366 67.4314 Q684.66 67.4314 688.67 66.3781 Q692.721 65.3249 696.691 63.2184 L696.691 70.267 Q692.68 71.9684 688.467 72.8596 Q684.255 73.7508 679.92 73.7508 Q669.064 73.7508 662.704 67.4314 Q656.384 61.1119 656.384 50.3365 Q656.384 39.1965 662.38 32.6746 Q668.415 26.1121 678.624 26.1121 Q687.779 26.1121 693.085 32.0264 Q698.433 37.9003 698.433 48.0275 M690.979 45.84 Q690.898 39.7232 687.536 36.0774 Q684.214 32.4315 678.705 32.4315 Q672.466 32.4315 668.699 35.9558 Q664.972 39.4801 664.405 45.8805 L690.979 45.84 Z\" fill=\"#000000\" fill-rule=\"evenodd\" fill-opacity=\"1\" /><path clip-path=\"url(#clip590)\" d=\"M715.122 49.9314 Q715.122 58.1548 718.485 62.8538 Q721.887 67.5124 727.802 67.5124 Q733.716 67.5124 737.119 62.8538 Q740.522 58.1548 740.522 49.9314 Q740.522 41.7081 737.119 37.0496 Q733.716 32.3505 727.802 32.3505 Q721.887 32.3505 718.485 37.0496 Q715.122 41.7081 715.122 49.9314 M740.522 65.7705 Q738.172 69.8214 734.567 71.8063 Q731.002 73.7508 725.979 73.7508 Q717.755 73.7508 712.57 67.1883 Q707.426 60.6258 707.426 49.9314 Q707.426 39.2371 712.57 32.6746 Q717.755 26.1121 725.979 26.1121 Q731.002 26.1121 734.567 28.0971 Q738.172 30.0415 740.522 34.0924 L740.522 27.2059 L747.975 27.2059 L747.975 89.8329 L740.522 89.8329 L740.522 65.7705 Z\" fill=\"#000000\" fill-rule=\"evenodd\" fill-opacity=\"1\" /><path clip-path=\"url(#clip590)\" d=\"M762.558 54.671 L762.558 27.2059 L770.012 27.2059 L770.012 54.3874 Q770.012 60.8284 772.524 64.0691 Q775.035 67.2693 780.058 67.2693 Q786.094 67.2693 789.578 63.421 Q793.102 59.5726 793.102 52.9291 L793.102 27.2059 L800.556 27.2059 L800.556 72.576 L793.102 72.576 L793.102 65.6084 Q790.388 69.7404 786.783 71.7658 Q783.218 73.7508 778.479 73.7508 Q770.66 73.7508 766.609 68.8897 Q762.558 64.0286 762.558 54.671 M781.314 26.1121 L781.314 26.1121 Z\" fill=\"#000000\" fill-rule=\"evenodd\" fill-opacity=\"1\" /><path clip-path=\"url(#clip590)\" d=\"M854.717 48.0275 L854.717 51.6733 L820.446 51.6733 Q820.932 59.3701 825.064 63.421 Q829.236 67.4314 836.65 67.4314 Q840.943 67.4314 844.954 66.3781 Q849.005 65.3249 852.975 63.2184 L852.975 70.267 Q848.964 71.9684 844.751 72.8596 Q840.538 73.7508 836.204 73.7508 Q825.348 73.7508 818.988 67.4314 Q812.668 61.1119 812.668 50.3365 Q812.668 39.1965 818.664 32.6746 Q824.699 26.1121 834.908 26.1121 Q844.063 26.1121 849.369 32.0264 Q854.717 37.9003 854.717 48.0275 M847.263 45.84 Q847.182 39.7232 843.82 36.0774 Q840.498 32.4315 834.989 32.4315 Q828.75 32.4315 824.983 35.9558 Q821.256 39.4801 820.689 45.8805 L847.263 45.84 Z\" fill=\"#000000\" fill-rule=\"evenodd\" fill-opacity=\"1\" /><path clip-path=\"url(#clip590)\" d=\"M904.664 45.1919 L904.664 72.576 L897.211 72.576 L897.211 45.4349 Q897.211 38.994 894.699 35.7938 Q892.187 32.5936 887.164 32.5936 Q881.128 32.5936 877.645 36.4419 Q874.161 40.2903 874.161 46.9338 L874.161 72.576 L866.667 72.576 L866.667 27.2059 L874.161 27.2059 L874.161 34.2544 Q876.834 30.163 880.44 28.1376 Q884.086 26.1121 888.825 26.1121 Q896.643 26.1121 900.654 30.9732 Q904.664 35.7938 904.664 45.1919 Z\" fill=\"#000000\" fill-rule=\"evenodd\" fill-opacity=\"1\" /><path clip-path=\"url(#clip590)\" d=\"M952.181 28.9478 L952.181 35.9153 Q949.022 34.1734 945.821 33.3227 Q942.662 32.4315 939.421 32.4315 Q932.17 32.4315 928.159 37.0496 Q924.149 41.6271 924.149 49.9314 Q924.149 58.2358 928.159 62.8538 Q932.17 67.4314 939.421 67.4314 Q942.662 67.4314 945.821 66.5807 Q949.022 65.6895 952.181 63.9476 L952.181 70.8341 Q949.062 72.2924 945.7 73.0216 Q942.378 73.7508 938.611 73.7508 Q928.362 73.7508 922.326 67.3098 Q916.29 60.8689 916.29 49.9314 Q916.29 38.832 922.367 32.472 Q928.484 26.1121 939.097 26.1121 Q942.54 26.1121 945.821 26.8413 Q949.103 27.5299 952.181 28.9478 Z\" fill=\"#000000\" fill-rule=\"evenodd\" fill-opacity=\"1\" /><path clip-path=\"url(#clip590)\" d=\"M965.144 27.2059 L972.598 27.2059 L972.598 72.576 L965.144 72.576 L965.144 27.2059 M965.144 9.54393 L972.598 9.54393 L972.598 18.9825 L965.144 18.9825 L965.144 9.54393 Z\" fill=\"#000000\" fill-rule=\"evenodd\" fill-opacity=\"1\" /><path clip-path=\"url(#clip590)\" d=\"M1025.91 45.1919 L1025.91 72.576 L1018.45 72.576 L1018.45 45.4349 Q1018.45 38.994 1015.94 35.7938 Q1013.43 32.5936 1008.41 32.5936 Q1002.37 32.5936 998.888 36.4419 Q995.404 40.2903 995.404 46.9338 L995.404 72.576 L987.91 72.576 L987.91 27.2059 L995.404 27.2059 L995.404 34.2544 Q998.078 30.163 1001.68 28.1376 Q1005.33 26.1121 1010.07 26.1121 Q1017.89 26.1121 1021.9 30.9732 Q1025.91 35.7938 1025.91 45.1919 Z\" fill=\"#000000\" fill-rule=\"evenodd\" fill-opacity=\"1\" /><path clip-path=\"url(#clip590)\" d=\"M1070.63 49.3643 Q1070.63 41.2625 1067.27 36.8065 Q1063.95 32.3505 1057.91 32.3505 Q1051.91 32.3505 1048.55 36.8065 Q1045.23 41.2625 1045.23 49.3643 Q1045.23 57.4256 1048.55 61.8816 Q1051.91 66.3376 1057.91 66.3376 Q1063.95 66.3376 1067.27 61.8816 Q1070.63 57.4256 1070.63 49.3643 M1078.08 66.9452 Q1078.08 78.5308 1072.94 84.1616 Q1067.79 89.8329 1057.18 89.8329 Q1053.25 89.8329 1049.77 89.2252 Q1046.28 88.6581 1043 87.4428 L1043 80.1917 Q1046.28 81.9741 1049.48 82.8248 Q1052.68 83.6755 1056.01 83.6755 Q1063.34 83.6755 1066.98 79.8271 Q1070.63 76.0193 1070.63 68.282 L1070.63 64.5957 Q1068.32 68.6061 1064.72 70.5911 Q1061.11 72.576 1056.09 72.576 Q1047.74 72.576 1042.64 66.2161 Q1037.53 59.8562 1037.53 49.3643 Q1037.53 38.832 1042.64 32.472 Q1047.74 26.1121 1056.09 26.1121 Q1061.11 26.1121 1064.72 28.0971 Q1068.32 30.082 1070.63 34.0924 L1070.63 27.2059 L1078.08 27.2059 L1078.08 66.9452 Z\" fill=\"#000000\" fill-rule=\"evenodd\" fill-opacity=\"1\" /><path clip-path=\"url(#clip590)\" d=\"M1148.73 28.5427 L1148.73 35.5912 Q1145.57 33.9709 1142.17 33.1607 Q1138.77 32.3505 1135.12 32.3505 Q1129.57 32.3505 1126.78 34.0519 Q1124.02 35.7533 1124.02 39.156 Q1124.02 41.7486 1126.01 43.2475 Q1127.99 44.7058 1133.99 46.0426 L1136.54 46.6097 Q1144.48 48.3111 1147.8 51.4303 Q1151.16 54.509 1151.16 60.0587 Q1151.16 66.3781 1146.14 70.0644 Q1141.16 73.7508 1132.41 73.7508 Q1128.76 73.7508 1124.79 73.0216 Q1120.86 72.3329 1116.49 70.9151 L1116.49 63.2184 Q1120.62 65.3654 1124.63 66.4591 Q1128.64 67.5124 1132.57 67.5124 Q1137.83 67.5124 1140.67 65.73 Q1143.51 63.9071 1143.51 60.6258 Q1143.51 57.5877 1141.44 55.9673 Q1139.41 54.3469 1132.49 52.8481 L1129.89 52.2405 Q1122.97 50.7821 1119.89 47.7845 Q1116.81 44.7463 1116.81 39.4801 Q1116.81 33.0797 1121.35 29.5959 Q1125.88 26.1121 1134.23 26.1121 Q1138.36 26.1121 1142.01 26.7198 Q1145.65 27.3274 1148.73 28.5427 Z\" fill=\"#000000\" fill-rule=\"evenodd\" fill-opacity=\"1\" /><path clip-path=\"url(#clip590)\" d=\"M1183.65 49.7694 Q1174.62 49.7694 1171.13 51.8354 Q1167.65 53.9013 1167.65 58.8839 Q1167.65 62.8538 1170.24 65.2034 Q1172.87 67.5124 1177.37 67.5124 Q1183.57 67.5124 1187.3 63.1374 Q1191.06 58.7219 1191.06 51.4303 L1191.06 49.7694 L1183.65 49.7694 M1198.52 46.6907 L1198.52 72.576 L1191.06 72.576 L1191.06 65.6895 Q1188.51 69.8214 1184.7 71.8063 Q1180.9 73.7508 1175.39 73.7508 Q1168.42 73.7508 1164.29 69.8619 Q1160.2 65.9325 1160.2 59.3701 Q1160.2 51.7138 1165.3 47.825 Q1170.44 43.9361 1180.61 43.9361 L1191.06 43.9361 L1191.06 43.2069 Q1191.06 38.0623 1187.66 35.2672 Q1184.3 32.4315 1178.18 32.4315 Q1174.29 32.4315 1170.61 33.3632 Q1166.92 34.295 1163.52 36.1584 L1163.52 29.2718 Q1167.61 27.692 1171.46 26.9223 Q1175.31 26.1121 1178.95 26.1121 Q1188.79 26.1121 1193.66 31.2163 Q1198.52 36.3204 1198.52 46.6907 Z\" fill=\"#000000\" fill-rule=\"evenodd\" fill-opacity=\"1\" /><path clip-path=\"url(#clip590)\" d=\"M1221.24 14.324 L1221.24 27.2059 L1236.6 27.2059 L1236.6 32.9987 L1221.24 32.9987 L1221.24 57.6282 Q1221.24 63.1779 1222.74 64.7578 Q1224.28 66.3376 1228.94 66.3376 L1236.6 66.3376 L1236.6 72.576 L1228.94 72.576 Q1220.31 72.576 1217.03 69.3758 Q1213.75 66.1351 1213.75 57.6282 L1213.75 32.9987 L1208.28 32.9987 L1208.28 27.2059 L1213.75 27.2059 L1213.75 14.324 L1221.24 14.324 Z\" fill=\"#000000\" fill-rule=\"evenodd\" fill-opacity=\"1\" /><path clip-path=\"url(#clip590)\" d=\"M1245.63 54.671 L1245.63 27.2059 L1253.08 27.2059 L1253.08 54.3874 Q1253.08 60.8284 1255.59 64.0691 Q1258.11 67.2693 1263.13 67.2693 Q1269.16 67.2693 1272.65 63.421 Q1276.17 59.5726 1276.17 52.9291 L1276.17 27.2059 L1283.63 27.2059 L1283.63 72.576 L1276.17 72.576 L1276.17 65.6084 Q1273.46 69.7404 1269.85 71.7658 Q1266.29 73.7508 1261.55 73.7508 Q1253.73 73.7508 1249.68 68.8897 Q1245.63 64.0286 1245.63 54.671 M1264.38 26.1121 L1264.38 26.1121 Z\" fill=\"#000000\" fill-rule=\"evenodd\" fill-opacity=\"1\" /><path clip-path=\"url(#clip590)\" d=\"M1325.27 34.1734 Q1324.01 33.4443 1322.51 33.1202 Q1321.06 32.7556 1319.27 32.7556 Q1312.95 32.7556 1309.55 36.8875 Q1306.19 40.9789 1306.19 48.6757 L1306.19 72.576 L1298.7 72.576 L1298.7 27.2059 L1306.19 27.2059 L1306.19 34.2544 Q1308.54 30.1225 1312.31 28.1376 Q1316.07 26.1121 1321.46 26.1121 Q1322.23 26.1121 1323.16 26.2337 Q1324.09 26.3147 1325.23 26.5172 L1325.27 34.1734 Z\" fill=\"#000000\" fill-rule=\"evenodd\" fill-opacity=\"1\" /><path clip-path=\"url(#clip590)\" d=\"M1353.71 49.7694 Q1344.67 49.7694 1341.19 51.8354 Q1337.71 53.9013 1337.71 58.8839 Q1337.71 62.8538 1340.3 65.2034 Q1342.93 67.5124 1347.43 67.5124 Q1353.63 67.5124 1357.35 63.1374 Q1361.12 58.7219 1361.12 51.4303 L1361.12 49.7694 L1353.71 49.7694 M1368.57 46.6907 L1368.57 72.576 L1361.12 72.576 L1361.12 65.6895 Q1358.57 69.8214 1354.76 71.8063 Q1350.95 73.7508 1345.44 73.7508 Q1338.48 73.7508 1334.34 69.8619 Q1330.25 65.9325 1330.25 59.3701 Q1330.25 51.7138 1335.36 47.825 Q1340.5 43.9361 1350.67 43.9361 L1361.12 43.9361 L1361.12 43.2069 Q1361.12 38.0623 1357.72 35.2672 Q1354.36 32.4315 1348.24 32.4315 Q1344.35 32.4315 1340.66 33.3632 Q1336.98 34.295 1333.57 36.1584 L1333.57 29.2718 Q1337.67 27.692 1341.51 26.9223 Q1345.36 26.1121 1349.01 26.1121 Q1358.85 26.1121 1363.71 31.2163 Q1368.57 36.3204 1368.57 46.6907 Z\" fill=\"#000000\" fill-rule=\"evenodd\" fill-opacity=\"1\" /><path clip-path=\"url(#clip590)\" d=\"M1391.3 14.324 L1391.3 27.2059 L1406.65 27.2059 L1406.65 32.9987 L1391.3 32.9987 L1391.3 57.6282 Q1391.3 63.1779 1392.8 64.7578 Q1394.34 66.3376 1399 66.3376 L1406.65 66.3376 L1406.65 72.576 L1399 72.576 Q1390.37 72.576 1387.09 69.3758 Q1383.81 66.1351 1383.81 57.6282 L1383.81 32.9987 L1378.34 32.9987 L1378.34 27.2059 L1383.81 27.2059 L1383.81 14.324 L1391.3 14.324 Z\" fill=\"#000000\" fill-rule=\"evenodd\" fill-opacity=\"1\" /><path clip-path=\"url(#clip590)\" d=\"M1416.46 27.2059 L1423.91 27.2059 L1423.91 72.576 L1416.46 72.576 L1416.46 27.2059 M1416.46 9.54393 L1423.91 9.54393 L1423.91 18.9825 L1416.46 18.9825 L1416.46 9.54393 Z\" fill=\"#000000\" fill-rule=\"evenodd\" fill-opacity=\"1\" /><path clip-path=\"url(#clip590)\" d=\"M1457.09 32.4315 Q1451.09 32.4315 1447.61 37.1306 Q1444.12 41.7891 1444.12 49.9314 Q1444.12 58.0738 1447.57 62.7728 Q1451.05 67.4314 1457.09 67.4314 Q1463.04 67.4314 1466.52 62.7323 Q1470.01 58.0333 1470.01 49.9314 Q1470.01 41.8701 1466.52 37.1711 Q1463.04 32.4315 1457.09 32.4315 M1457.09 26.1121 Q1466.81 26.1121 1472.36 32.4315 Q1477.91 38.7509 1477.91 49.9314 Q1477.91 61.0714 1472.36 67.4314 Q1466.81 73.7508 1457.09 73.7508 Q1447.32 73.7508 1441.77 67.4314 Q1436.26 61.0714 1436.26 49.9314 Q1436.26 38.7509 1441.77 32.4315 Q1447.32 26.1121 1457.09 26.1121 Z\" fill=\"#000000\" fill-rule=\"evenodd\" fill-opacity=\"1\" /><path clip-path=\"url(#clip590)\" d=\"M1527.98 45.1919 L1527.98 72.576 L1520.52 72.576 L1520.52 45.4349 Q1520.52 38.994 1518.01 35.7938 Q1515.5 32.5936 1510.48 32.5936 Q1504.44 32.5936 1500.96 36.4419 Q1497.47 40.2903 1497.47 46.9338 L1497.47 72.576 L1489.98 72.576 L1489.98 27.2059 L1497.47 27.2059 L1497.47 34.2544 Q1500.15 30.163 1503.75 28.1376 Q1507.4 26.1121 1512.14 26.1121 Q1519.96 26.1121 1523.97 30.9732 Q1527.98 35.7938 1527.98 45.1919 Z\" fill=\"#000000\" fill-rule=\"evenodd\" fill-opacity=\"1\" /><path clip-path=\"url(#clip590)\" d=\"M1592.26 50.8226 Q1592.26 56.6154 1595.14 59.9372 Q1598.02 63.2184 1603.04 63.2184 Q1608.02 63.2184 1610.86 59.8967 Q1613.73 56.5749 1613.73 50.8226 Q1613.73 45.1514 1610.82 41.8296 Q1607.9 38.4674 1602.96 38.4674 Q1598.06 38.4674 1595.14 41.7891 Q1592.26 45.1109 1592.26 50.8226 M1614.34 62.9348 Q1611.91 66.054 1608.75 67.5529 Q1605.63 69.0112 1601.46 69.0112 Q1594.49 69.0112 1590.12 63.9881 Q1585.78 58.9245 1585.78 50.8226 Q1585.78 42.7208 1590.16 37.6572 Q1594.53 32.5936 1601.46 32.5936 Q1605.63 32.5936 1608.79 34.1329 Q1611.95 35.6318 1614.34 38.7104 L1614.34 33.4038 L1620.13 33.4038 L1620.13 63.2184 Q1626.05 62.3272 1629.37 57.8307 Q1632.73 53.2937 1632.73 46.1236 Q1632.73 41.7891 1631.44 37.9813 Q1630.18 34.1734 1627.59 30.9327 Q1623.38 25.626 1617.3 22.8309 Q1611.26 19.9953 1604.13 19.9953 Q1599.15 19.9953 1594.57 21.3321 Q1590 22.6284 1586.11 25.2209 Q1579.75 29.3529 1576.14 36.0774 Q1572.58 42.7613 1572.58 50.5796 Q1572.58 57.0205 1574.89 62.6513 Q1577.24 68.282 1581.65 72.576 Q1585.9 76.7889 1591.5 78.9764 Q1597.09 81.2044 1603.45 81.2044 Q1608.67 81.2044 1613.69 79.422 Q1618.76 77.6801 1622.97 74.3989 L1626.62 78.8954 Q1621.55 82.8248 1615.56 84.8907 Q1609.6 86.9972 1603.45 86.9972 Q1595.95 86.9972 1589.31 84.3236 Q1582.66 81.6905 1577.48 76.6269 Q1572.29 71.5633 1569.58 64.9198 Q1566.87 58.2358 1566.87 50.5796 Q1566.87 43.2069 1569.62 36.523 Q1572.37 29.839 1577.48 24.7753 Q1582.7 19.6307 1589.55 16.9166 Q1596.4 14.162 1604.05 14.162 Q1612.64 14.162 1619.97 17.6862 Q1627.35 21.2105 1632.33 27.692 Q1635.37 31.6619 1636.95 36.3204 Q1638.57 40.9789 1638.57 45.9616 Q1638.57 56.6154 1632.13 62.7728 Q1625.68 68.9302 1614.34 69.1732 L1614.34 62.9348 Z\" fill=\"#000000\" fill-rule=\"evenodd\" fill-opacity=\"1\" /><path clip-path=\"url(#clip590)\" d=\"M1678.27 9.54393 L1685.76 9.54393 L1685.76 46.7717 L1708 27.2059 L1717.52 27.2059 L1693.46 48.4326 L1718.53 72.576 L1708.81 72.576 L1685.76 50.4176 L1685.76 72.576 L1678.27 72.576 L1678.27 9.54393 Z\" fill=\"#000000\" fill-rule=\"evenodd\" fill-opacity=\"1\" /><path clip-path=\"url(#clip590)\" d=\"M1753.94 34.9026 L1805.87 34.9026 L1805.87 41.7081 L1753.94 41.7081 L1753.94 34.9026 M1753.94 51.4303 L1805.87 51.4303 L1805.87 58.3168 L1753.94 58.3168 L1753.94 51.4303 Z\" fill=\"#000000\" fill-rule=\"evenodd\" fill-opacity=\"1\" /><path clip-path=\"url(#clip590)\" d=\"M1851.32 65.6895 L1864.69 65.6895 L1864.69 19.5497 L1850.15 22.4663 L1850.15 15.0127 L1864.61 12.096 L1872.79 12.096 L1872.79 65.6895 L1886.16 65.6895 L1886.16 72.576 L1851.32 72.576 L1851.32 65.6895 Z\" fill=\"#000000\" fill-rule=\"evenodd\" fill-opacity=\"1\" /><path clip-path=\"url(#clip590)\" d=\"M1927.48 39.9662 Q1933.35 41.222 1936.63 45.1919 Q1939.95 49.1618 1939.95 54.9951 Q1939.95 63.9476 1933.8 68.8492 Q1927.64 73.7508 1916.3 73.7508 Q1912.49 73.7508 1908.44 72.9811 Q1904.43 72.2519 1900.13 70.7531 L1900.13 62.8538 Q1903.54 64.8388 1907.59 65.8515 Q1911.64 66.8642 1916.05 66.8642 Q1923.75 66.8642 1927.76 63.826 Q1931.81 60.7879 1931.81 54.9951 Q1931.81 49.6479 1928.04 46.6502 Q1924.32 43.612 1917.63 43.612 L1910.58 43.612 L1910.58 36.8875 L1917.96 36.8875 Q1923.99 36.8875 1927.19 34.4975 Q1930.39 32.067 1930.39 27.5299 Q1930.39 22.8714 1927.07 20.4004 Q1923.79 17.8888 1917.63 17.8888 Q1914.27 17.8888 1910.42 18.618 Q1906.57 19.3471 1901.96 20.8865 L1901.96 13.5948 Q1906.61 12.2985 1910.67 11.6504 Q1914.76 11.0023 1918.36 11.0023 Q1927.68 11.0023 1933.11 15.2557 Q1938.54 19.4686 1938.54 26.6793 Q1938.54 31.7024 1935.66 35.1862 Q1932.78 38.6294 1927.48 39.9662 Z\" fill=\"#000000\" fill-rule=\"evenodd\" fill-opacity=\"1\" /><circle clip-path=\"url(#clip592)\" cx=\"386.646\" cy=\"1396.96\" r=\"14\" fill=\"#009af9\" fill-rule=\"evenodd\" fill-opacity=\"1\" stroke=\"#000000\" stroke-opacity=\"1\" stroke-width=\"3.2\"/>\n",
       "<circle clip-path=\"url(#clip592)\" cx=\"386.647\" cy=\"1396.96\" r=\"14\" fill=\"#009af9\" fill-rule=\"evenodd\" fill-opacity=\"1\" stroke=\"#000000\" stroke-opacity=\"1\" stroke-width=\"3.2\"/>\n",
       "<circle clip-path=\"url(#clip592)\" cx=\"386.647\" cy=\"1396.96\" r=\"14\" fill=\"#009af9\" fill-rule=\"evenodd\" fill-opacity=\"1\" stroke=\"#000000\" stroke-opacity=\"1\" stroke-width=\"3.2\"/>\n",
       "<circle clip-path=\"url(#clip592)\" cx=\"386.647\" cy=\"1396.96\" r=\"14\" fill=\"#009af9\" fill-rule=\"evenodd\" fill-opacity=\"1\" stroke=\"#000000\" stroke-opacity=\"1\" stroke-width=\"3.2\"/>\n",
       "<circle clip-path=\"url(#clip592)\" cx=\"386.648\" cy=\"1396.96\" r=\"14\" fill=\"#009af9\" fill-rule=\"evenodd\" fill-opacity=\"1\" stroke=\"#000000\" stroke-opacity=\"1\" stroke-width=\"3.2\"/>\n",
       "<circle clip-path=\"url(#clip592)\" cx=\"386.65\" cy=\"1396.95\" r=\"14\" fill=\"#009af9\" fill-rule=\"evenodd\" fill-opacity=\"1\" stroke=\"#000000\" stroke-opacity=\"1\" stroke-width=\"3.2\"/>\n",
       "<circle clip-path=\"url(#clip592)\" cx=\"386.654\" cy=\"1396.95\" r=\"14\" fill=\"#009af9\" fill-rule=\"evenodd\" fill-opacity=\"1\" stroke=\"#000000\" stroke-opacity=\"1\" stroke-width=\"3.2\"/>\n",
       "<circle clip-path=\"url(#clip592)\" cx=\"386.663\" cy=\"1396.95\" r=\"14\" fill=\"#009af9\" fill-rule=\"evenodd\" fill-opacity=\"1\" stroke=\"#000000\" stroke-opacity=\"1\" stroke-width=\"3.2\"/>\n",
       "<circle clip-path=\"url(#clip592)\" cx=\"386.679\" cy=\"1396.95\" r=\"14\" fill=\"#009af9\" fill-rule=\"evenodd\" fill-opacity=\"1\" stroke=\"#000000\" stroke-opacity=\"1\" stroke-width=\"3.2\"/>\n",
       "<circle clip-path=\"url(#clip592)\" cx=\"386.711\" cy=\"1396.95\" r=\"14\" fill=\"#009af9\" fill-rule=\"evenodd\" fill-opacity=\"1\" stroke=\"#000000\" stroke-opacity=\"1\" stroke-width=\"3.2\"/>\n",
       "<circle clip-path=\"url(#clip592)\" cx=\"386.776\" cy=\"1396.94\" r=\"14\" fill=\"#009af9\" fill-rule=\"evenodd\" fill-opacity=\"1\" stroke=\"#000000\" stroke-opacity=\"1\" stroke-width=\"3.2\"/>\n",
       "<circle clip-path=\"url(#clip592)\" cx=\"386.906\" cy=\"1396.92\" r=\"14\" fill=\"#009af9\" fill-rule=\"evenodd\" fill-opacity=\"1\" stroke=\"#000000\" stroke-opacity=\"1\" stroke-width=\"3.2\"/>\n",
       "<circle clip-path=\"url(#clip592)\" cx=\"387.165\" cy=\"1396.88\" r=\"14\" fill=\"#009af9\" fill-rule=\"evenodd\" fill-opacity=\"1\" stroke=\"#000000\" stroke-opacity=\"1\" stroke-width=\"3.2\"/>\n",
       "<circle clip-path=\"url(#clip592)\" cx=\"387.684\" cy=\"1396.8\" r=\"14\" fill=\"#009af9\" fill-rule=\"evenodd\" fill-opacity=\"1\" stroke=\"#000000\" stroke-opacity=\"1\" stroke-width=\"3.2\"/>\n",
       "<circle clip-path=\"url(#clip592)\" cx=\"388.722\" cy=\"1396.65\" r=\"14\" fill=\"#009af9\" fill-rule=\"evenodd\" fill-opacity=\"1\" stroke=\"#000000\" stroke-opacity=\"1\" stroke-width=\"3.2\"/>\n",
       "<circle clip-path=\"url(#clip592)\" cx=\"390.797\" cy=\"1396.36\" r=\"14\" fill=\"#009af9\" fill-rule=\"evenodd\" fill-opacity=\"1\" stroke=\"#000000\" stroke-opacity=\"1\" stroke-width=\"3.2\"/>\n",
       "<circle clip-path=\"url(#clip592)\" cx=\"394.948\" cy=\"1395.83\" r=\"14\" fill=\"#009af9\" fill-rule=\"evenodd\" fill-opacity=\"1\" stroke=\"#000000\" stroke-opacity=\"1\" stroke-width=\"3.2\"/>\n",
       "<circle clip-path=\"url(#clip592)\" cx=\"403.249\" cy=\"1394.89\" r=\"14\" fill=\"#009af9\" fill-rule=\"evenodd\" fill-opacity=\"1\" stroke=\"#000000\" stroke-opacity=\"1\" stroke-width=\"3.2\"/>\n",
       "<circle clip-path=\"url(#clip592)\" cx=\"419.853\" cy=\"1393.15\" r=\"14\" fill=\"#009af9\" fill-rule=\"evenodd\" fill-opacity=\"1\" stroke=\"#000000\" stroke-opacity=\"1\" stroke-width=\"3.2\"/>\n",
       "<circle clip-path=\"url(#clip592)\" cx=\"453.059\" cy=\"1389.88\" r=\"14\" fill=\"#009af9\" fill-rule=\"evenodd\" fill-opacity=\"1\" stroke=\"#000000\" stroke-opacity=\"1\" stroke-width=\"3.2\"/>\n",
       "<circle clip-path=\"url(#clip592)\" cx=\"519.471\" cy=\"1383.89\" r=\"14\" fill=\"#009af9\" fill-rule=\"evenodd\" fill-opacity=\"1\" stroke=\"#000000\" stroke-opacity=\"1\" stroke-width=\"3.2\"/>\n",
       "<circle clip-path=\"url(#clip592)\" cx=\"652.296\" cy=\"1373.08\" r=\"14\" fill=\"#009af9\" fill-rule=\"evenodd\" fill-opacity=\"1\" stroke=\"#000000\" stroke-opacity=\"1\" stroke-width=\"3.2\"/>\n",
       "<circle clip-path=\"url(#clip592)\" cx=\"917.945\" cy=\"1354.81\" r=\"14\" fill=\"#009af9\" fill-rule=\"evenodd\" fill-opacity=\"1\" stroke=\"#000000\" stroke-opacity=\"1\" stroke-width=\"3.2\"/>\n",
       "<circle clip-path=\"url(#clip592)\" cx=\"1148.54\" cy=\"1341.17\" r=\"14\" fill=\"#009af9\" fill-rule=\"evenodd\" fill-opacity=\"1\" stroke=\"#000000\" stroke-opacity=\"1\" stroke-width=\"3.2\"/>\n",
       "<polyline clip-path=\"url(#clip592)\" style=\"stroke:#e26f46; stroke-linecap:butt; stroke-linejoin:round; stroke-width:4; stroke-opacity:1; fill:none\" points=\"\n",
       "  -1553.27,145.884 4106.31,145.884 \n",
       "  \"/>\n",
       "<polyline clip-path=\"url(#clip592)\" style=\"stroke:#3da44d; stroke-linecap:butt; stroke-linejoin:round; stroke-width:4; stroke-opacity:1; fill:none\" points=\"\n",
       "  -1553.27,1211.75 4106.31,1211.75 \n",
       "  \"/>\n",
       "<polyline clip-path=\"url(#clip592)\" style=\"stroke:#c271d2; stroke-linecap:butt; stroke-linejoin:round; stroke-width:4; stroke-opacity:1; fill:none\" points=\"\n",
       "  2166.39,2760.62 2166.39,-1217.78 \n",
       "  \"/>\n",
       "<polyline clip-path=\"url(#clip592)\" style=\"stroke:#ac8d18; stroke-linecap:butt; stroke-linejoin:round; stroke-width:4; stroke-opacity:1; fill:none\" points=\"\n",
       "  386.646,1396.96 386.647,1396.96 386.647,1396.96 386.647,1396.96 386.648,1396.96 386.65,1396.95 386.654,1396.95 386.663,1396.95 386.679,1396.95 386.711,1396.95 \n",
       "  386.776,1396.94 386.906,1396.93 387.165,1396.9 387.684,1396.85 388.722,1396.74 390.797,1396.52 394.948,1396.1 403.249,1395.24 419.853,1393.56 453.059,1390.29 \n",
       "  519.471,1384.09 652.296,1372.9 917.945,1354.38 1148.54,1341.44 2166.39,1304.35 \n",
       "  \"/>\n",
       "<path clip-path=\"url(#clip590)\" d=\"\n",
       "M2313.76 463.597 L3152.76 463.597 L3152.76 152.557 L2313.76 152.557  Z\n",
       "  \" fill=\"#ffffff\" fill-rule=\"evenodd\" fill-opacity=\"1\"/>\n",
       "<polyline clip-path=\"url(#clip590)\" style=\"stroke:#000000; stroke-linecap:butt; stroke-linejoin:round; stroke-width:4; stroke-opacity:1; fill:none\" points=\"\n",
       "  2313.76,463.597 3152.76,463.597 3152.76,152.557 2313.76,152.557 2313.76,463.597 \n",
       "  \"/>\n",
       "<circle clip-path=\"url(#clip590)\" cx=\"2439.07\" cy=\"204.397\" r=\"23\" fill=\"#009af9\" fill-rule=\"evenodd\" fill-opacity=\"1\" stroke=\"#000000\" stroke-opacity=\"1\" stroke-width=\"5.12\"/>\n",
       "<path clip-path=\"url(#clip590)\" d=\"M2576.28 198.737 Q2572.86 198.737 2570.87 201.422 Q2568.88 204.084 2568.88 208.737 Q2568.88 213.39 2570.84 216.075 Q2572.83 218.737 2576.28 218.737 Q2579.69 218.737 2581.68 216.052 Q2583.67 213.366 2583.67 208.737 Q2583.67 204.13 2581.68 201.445 Q2579.69 198.737 2576.28 198.737 M2576.28 195.126 Q2581.84 195.126 2585.01 198.737 Q2588.18 202.348 2588.18 208.737 Q2588.18 215.103 2585.01 218.737 Q2581.84 222.348 2576.28 222.348 Q2570.7 222.348 2567.53 218.737 Q2564.39 215.103 2564.39 208.737 Q2564.39 202.348 2567.53 198.737 Q2570.7 195.126 2576.28 195.126 Z\" fill=\"#000000\" fill-rule=\"evenodd\" fill-opacity=\"1\" /><path clip-path=\"url(#clip590)\" d=\"M2613.85 208.737 Q2613.85 204.038 2611.91 201.376 Q2609.99 198.691 2606.61 198.691 Q2603.23 198.691 2601.28 201.376 Q2599.36 204.038 2599.36 208.737 Q2599.36 213.436 2601.28 216.121 Q2603.23 218.783 2606.61 218.783 Q2609.99 218.783 2611.91 216.121 Q2613.85 213.436 2613.85 208.737 M2599.36 199.686 Q2600.7 197.371 2602.74 196.26 Q2604.8 195.126 2607.65 195.126 Q2612.37 195.126 2615.31 198.876 Q2618.27 202.626 2618.27 208.737 Q2618.27 214.848 2615.31 218.598 Q2612.37 222.348 2607.65 222.348 Q2604.8 222.348 2602.74 221.237 Q2600.7 220.103 2599.36 217.788 L2599.36 221.677 L2595.08 221.677 L2595.08 185.658 L2599.36 185.658 L2599.36 199.686 Z\" fill=\"#000000\" fill-rule=\"evenodd\" fill-opacity=\"1\" /><path clip-path=\"url(#clip590)\" d=\"M2641.86 196.515 L2641.86 200.542 Q2640.06 199.617 2638.11 199.154 Q2636.17 198.691 2634.08 198.691 Q2630.91 198.691 2629.32 199.663 Q2627.74 200.635 2627.74 202.58 Q2627.74 204.061 2628.88 204.917 Q2630.01 205.751 2633.44 206.515 L2634.89 206.839 Q2639.43 207.811 2641.33 209.593 Q2643.25 211.353 2643.25 214.524 Q2643.25 218.135 2640.38 220.241 Q2637.53 222.348 2632.53 222.348 Q2630.45 222.348 2628.18 221.931 Q2625.94 221.538 2623.44 220.728 L2623.44 216.329 Q2625.8 217.556 2628.09 218.181 Q2630.38 218.783 2632.63 218.783 Q2635.64 218.783 2637.26 217.765 Q2638.88 216.723 2638.88 214.848 Q2638.88 213.112 2637.7 212.186 Q2636.54 211.26 2632.58 210.404 L2631.1 210.056 Q2627.14 209.223 2625.38 207.51 Q2623.62 205.774 2623.62 202.765 Q2623.62 199.107 2626.21 197.117 Q2628.81 195.126 2633.57 195.126 Q2635.94 195.126 2638.02 195.473 Q2640.1 195.82 2641.86 196.515 Z\" fill=\"#000000\" fill-rule=\"evenodd\" fill-opacity=\"1\" /><path clip-path=\"url(#clip590)\" d=\"M2672.21 207.649 L2672.21 209.732 L2652.63 209.732 Q2652.9 214.13 2655.26 216.445 Q2657.65 218.737 2661.89 218.737 Q2664.34 218.737 2666.63 218.135 Q2668.95 217.533 2671.21 216.329 L2671.21 220.357 Q2668.92 221.329 2666.51 221.839 Q2664.11 222.348 2661.63 222.348 Q2655.43 222.348 2651.79 218.737 Q2648.18 215.126 2648.18 208.968 Q2648.18 202.603 2651.61 198.876 Q2655.06 195.126 2660.89 195.126 Q2666.12 195.126 2669.15 198.505 Q2672.21 201.862 2672.21 207.649 M2667.95 206.399 Q2667.9 202.904 2665.98 200.82 Q2664.08 198.737 2660.94 198.737 Q2657.37 198.737 2655.22 200.751 Q2653.09 202.765 2652.76 206.422 L2667.95 206.399 Z\" fill=\"#000000\" fill-rule=\"evenodd\" fill-opacity=\"1\" /><path clip-path=\"url(#clip590)\" d=\"M2694.22 199.732 Q2693.51 199.316 2692.65 199.13 Q2691.82 198.922 2690.8 198.922 Q2687.19 198.922 2685.24 201.283 Q2683.32 203.621 2683.32 208.019 L2683.32 221.677 L2679.04 221.677 L2679.04 195.751 L2683.32 195.751 L2683.32 199.779 Q2684.66 197.418 2686.82 196.283 Q2688.97 195.126 2692.05 195.126 Q2692.49 195.126 2693.02 195.195 Q2693.55 195.242 2694.2 195.357 L2694.22 199.732 Z\" fill=\"#000000\" fill-rule=\"evenodd\" fill-opacity=\"1\" /><path clip-path=\"url(#clip590)\" d=\"M2695.63 195.751 L2700.15 195.751 L2708.25 217.51 L2716.35 195.751 L2720.87 195.751 L2711.14 221.677 L2705.36 221.677 L2695.63 195.751 Z\" fill=\"#000000\" fill-rule=\"evenodd\" fill-opacity=\"1\" /><path clip-path=\"url(#clip590)\" d=\"M2748.92 207.649 L2748.92 209.732 L2729.34 209.732 Q2729.62 214.13 2731.98 216.445 Q2734.36 218.737 2738.6 218.737 Q2741.05 218.737 2743.34 218.135 Q2745.66 217.533 2747.93 216.329 L2747.93 220.357 Q2745.63 221.329 2743.23 221.839 Q2740.82 222.348 2738.34 222.348 Q2732.14 222.348 2728.51 218.737 Q2724.89 215.126 2724.89 208.968 Q2724.89 202.603 2728.32 198.876 Q2731.77 195.126 2737.6 195.126 Q2742.83 195.126 2745.87 198.505 Q2748.92 201.862 2748.92 207.649 M2744.66 206.399 Q2744.62 202.904 2742.69 200.82 Q2740.8 198.737 2737.65 198.737 Q2734.08 198.737 2731.93 200.751 Q2729.8 202.765 2729.48 206.422 L2744.66 206.399 Z\" fill=\"#000000\" fill-rule=\"evenodd\" fill-opacity=\"1\" /><path clip-path=\"url(#clip590)\" d=\"M2772.97 199.686 L2772.97 185.658 L2777.23 185.658 L2777.23 221.677 L2772.97 221.677 L2772.97 217.788 Q2771.63 220.103 2769.57 221.237 Q2767.53 222.348 2764.66 222.348 Q2759.96 222.348 2757 218.598 Q2754.06 214.848 2754.06 208.737 Q2754.06 202.626 2757 198.876 Q2759.96 195.126 2764.66 195.126 Q2767.53 195.126 2769.57 196.26 Q2771.63 197.371 2772.97 199.686 M2758.46 208.737 Q2758.46 213.436 2760.38 216.121 Q2762.32 218.783 2765.7 218.783 Q2769.08 218.783 2771.03 216.121 Q2772.97 213.436 2772.97 208.737 Q2772.97 204.038 2771.03 201.376 Q2769.08 198.691 2765.7 198.691 Q2762.32 198.691 2760.38 201.376 Q2758.46 204.038 2758.46 208.737 Z\" fill=\"#000000\" fill-rule=\"evenodd\" fill-opacity=\"1\" /><path clip-path=\"url(#clip590)\" d=\"M2800.91 185.658 L2805.19 185.658 L2805.19 206.931 L2817.9 195.751 L2823.34 195.751 L2809.59 207.88 L2823.92 221.677 L2818.37 221.677 L2805.19 209.015 L2805.19 221.677 L2800.91 221.677 L2800.91 185.658 Z\" fill=\"#000000\" fill-rule=\"evenodd\" fill-opacity=\"1\" /><path clip-path=\"url(#clip590)\" d=\"M2848.71 200.728 Q2850.31 197.857 2852.53 196.492 Q2854.75 195.126 2857.76 195.126 Q2861.81 195.126 2864.01 197.973 Q2866.21 200.797 2866.21 206.029 L2866.21 221.677 L2861.93 221.677 L2861.93 206.167 Q2861.93 202.441 2860.61 200.635 Q2859.29 198.83 2856.58 198.83 Q2853.27 198.83 2851.35 201.029 Q2849.43 203.228 2849.43 207.024 L2849.43 221.677 L2845.15 221.677 L2845.15 206.167 Q2845.15 202.417 2843.83 200.635 Q2842.51 198.83 2839.75 198.83 Q2836.49 198.83 2834.57 201.052 Q2832.65 203.251 2832.65 207.024 L2832.65 221.677 L2828.37 221.677 L2828.37 195.751 L2832.65 195.751 L2832.65 199.779 Q2834.11 197.394 2836.14 196.26 Q2838.18 195.126 2840.98 195.126 Q2843.81 195.126 2845.77 196.561 Q2847.76 197.996 2848.71 200.728 Z\" fill=\"#000000\" fill-rule=\"evenodd\" fill-opacity=\"1\" /><path clip-path=\"url(#clip590)\" d=\"M2896.88 207.649 L2896.88 209.732 L2877.3 209.732 Q2877.58 214.13 2879.94 216.445 Q2882.32 218.737 2886.56 218.737 Q2889.01 218.737 2891.31 218.135 Q2893.62 217.533 2895.89 216.329 L2895.89 220.357 Q2893.6 221.329 2891.19 221.839 Q2888.78 222.348 2886.31 222.348 Q2880.1 222.348 2876.47 218.737 Q2872.86 215.126 2872.86 208.968 Q2872.86 202.603 2876.28 198.876 Q2879.73 195.126 2885.56 195.126 Q2890.8 195.126 2893.83 198.505 Q2896.88 201.862 2896.88 207.649 M2892.62 206.399 Q2892.58 202.904 2890.66 200.82 Q2888.76 198.737 2885.61 198.737 Q2882.05 198.737 2879.89 200.751 Q2877.76 202.765 2877.44 206.422 L2892.62 206.399 Z\" fill=\"#000000\" fill-rule=\"evenodd\" fill-opacity=\"1\" /><path clip-path=\"url(#clip590)\" d=\"M2918.9 199.732 Q2918.18 199.316 2917.32 199.13 Q2916.49 198.922 2915.47 198.922 Q2911.86 198.922 2909.92 201.283 Q2907.99 203.621 2907.99 208.019 L2907.99 221.677 L2903.71 221.677 L2903.71 195.751 L2907.99 195.751 L2907.99 199.779 Q2909.34 197.418 2911.49 196.283 Q2913.64 195.126 2916.72 195.126 Q2917.16 195.126 2917.69 195.195 Q2918.23 195.242 2918.87 195.357 L2918.9 199.732 Z\" fill=\"#000000\" fill-rule=\"evenodd\" fill-opacity=\"1\" /><path clip-path=\"url(#clip590)\" d=\"M2957.09 196.746 L2957.09 200.728 Q2955.29 199.732 2953.46 199.246 Q2951.65 198.737 2949.8 198.737 Q2945.66 198.737 2943.36 201.376 Q2941.07 203.992 2941.07 208.737 Q2941.07 213.482 2943.36 216.121 Q2945.66 218.737 2949.8 218.737 Q2951.65 218.737 2953.46 218.251 Q2955.29 217.741 2957.09 216.746 L2957.09 220.681 Q2955.31 221.515 2953.39 221.931 Q2951.49 222.348 2949.34 222.348 Q2943.48 222.348 2940.03 218.667 Q2936.58 214.987 2936.58 208.737 Q2936.58 202.394 2940.05 198.76 Q2943.55 195.126 2949.61 195.126 Q2951.58 195.126 2953.46 195.543 Q2955.33 195.936 2957.09 196.746 Z\" fill=\"#000000\" fill-rule=\"evenodd\" fill-opacity=\"1\" /><path clip-path=\"url(#clip590)\" d=\"M2974.55 198.737 Q2971.12 198.737 2969.13 201.422 Q2967.14 204.084 2967.14 208.737 Q2967.14 213.39 2969.11 216.075 Q2971.1 218.737 2974.55 218.737 Q2977.95 218.737 2979.94 216.052 Q2981.93 213.366 2981.93 208.737 Q2981.93 204.13 2979.94 201.445 Q2977.95 198.737 2974.55 198.737 M2974.55 195.126 Q2980.1 195.126 2983.27 198.737 Q2986.44 202.348 2986.44 208.737 Q2986.44 215.103 2983.27 218.737 Q2980.1 222.348 2974.55 222.348 Q2968.97 222.348 2965.8 218.737 Q2962.65 215.103 2962.65 208.737 Q2962.65 202.348 2965.8 198.737 Q2968.97 195.126 2974.55 195.126 Z\" fill=\"#000000\" fill-rule=\"evenodd\" fill-opacity=\"1\" /><path clip-path=\"url(#clip590)\" d=\"M2993.06 211.445 L2993.06 195.751 L2997.32 195.751 L2997.32 211.283 Q2997.32 214.964 2998.76 216.816 Q3000.19 218.644 3003.06 218.644 Q3006.51 218.644 3008.5 216.445 Q3010.52 214.246 3010.52 210.45 L3010.52 195.751 L3014.78 195.751 L3014.78 221.677 L3010.52 221.677 L3010.52 217.695 Q3008.97 220.056 3006.91 221.214 Q3004.87 222.348 3002.16 222.348 Q2997.69 222.348 2995.38 219.57 Q2993.06 216.792 2993.06 211.445 M3003.78 195.126 L3003.78 195.126 Z\" fill=\"#000000\" fill-rule=\"evenodd\" fill-opacity=\"1\" /><path clip-path=\"url(#clip590)\" d=\"M3045.1 206.029 L3045.1 221.677 L3040.84 221.677 L3040.84 206.167 Q3040.84 202.487 3039.41 200.658 Q3037.97 198.83 3035.1 198.83 Q3031.65 198.83 3029.66 201.029 Q3027.67 203.228 3027.67 207.024 L3027.67 221.677 L3023.39 221.677 L3023.39 195.751 L3027.67 195.751 L3027.67 199.779 Q3029.2 197.441 3031.26 196.283 Q3033.34 195.126 3036.05 195.126 Q3040.52 195.126 3042.81 197.904 Q3045.1 200.658 3045.1 206.029 Z\" fill=\"#000000\" fill-rule=\"evenodd\" fill-opacity=\"1\" /><path clip-path=\"url(#clip590)\" d=\"M3057.81 188.39 L3057.81 195.751 L3066.58 195.751 L3066.58 199.061 L3057.81 199.061 L3057.81 213.135 Q3057.81 216.306 3058.67 217.209 Q3059.54 218.112 3062.21 218.112 L3066.58 218.112 L3066.58 221.677 L3062.21 221.677 Q3057.28 221.677 3055.4 219.848 Q3053.53 217.996 3053.53 213.135 L3053.53 199.061 L3050.4 199.061 L3050.4 195.751 L3053.53 195.751 L3053.53 188.39 L3057.81 188.39 Z\" fill=\"#000000\" fill-rule=\"evenodd\" fill-opacity=\"1\" /><path clip-path=\"url(#clip590)\" d=\"M3088.71 196.515 L3088.71 200.542 Q3086.91 199.617 3084.96 199.154 Q3083.02 198.691 3080.93 198.691 Q3077.76 198.691 3076.17 199.663 Q3074.59 200.635 3074.59 202.58 Q3074.59 204.061 3075.73 204.917 Q3076.86 205.751 3080.29 206.515 L3081.74 206.839 Q3086.28 207.811 3088.18 209.593 Q3090.1 211.353 3090.1 214.524 Q3090.1 218.135 3087.23 220.241 Q3084.38 222.348 3079.38 222.348 Q3077.3 222.348 3075.03 221.931 Q3072.79 221.538 3070.29 220.728 L3070.29 216.329 Q3072.65 217.556 3074.94 218.181 Q3077.23 218.783 3079.48 218.783 Q3082.48 218.783 3084.1 217.765 Q3085.73 216.723 3085.73 214.848 Q3085.73 213.112 3084.54 212.186 Q3083.39 211.26 3079.43 210.404 L3077.95 210.056 Q3073.99 209.223 3072.23 207.51 Q3070.47 205.774 3070.47 202.765 Q3070.47 199.107 3073.06 197.117 Q3075.66 195.126 3080.42 195.126 Q3082.79 195.126 3084.87 195.473 Q3086.95 195.82 3088.71 196.515 Z\" fill=\"#000000\" fill-rule=\"evenodd\" fill-opacity=\"1\" /><polyline clip-path=\"url(#clip590)\" style=\"stroke:#e26f46; stroke-linecap:butt; stroke-linejoin:round; stroke-width:4; stroke-opacity:1; fill:none\" points=\"\n",
       "  2345.09,256.237 2533.06,256.237 \n",
       "  \"/>\n",
       "<path clip-path=\"url(#clip590)\" d=\"M2577.79 260.484 Q2572.63 260.484 2570.64 261.665 Q2568.64 262.845 2568.64 265.693 Q2568.64 267.961 2570.13 269.304 Q2571.63 270.623 2574.2 270.623 Q2577.74 270.623 2579.87 268.123 Q2582.02 265.6 2582.02 261.433 L2582.02 260.484 L2577.79 260.484 M2586.28 258.725 L2586.28 273.517 L2582.02 273.517 L2582.02 269.581 Q2580.57 271.943 2578.39 273.077 Q2576.21 274.188 2573.07 274.188 Q2569.08 274.188 2566.72 271.966 Q2564.39 269.72 2564.39 265.97 Q2564.39 261.595 2567.3 259.373 Q2570.24 257.151 2576.05 257.151 L2582.02 257.151 L2582.02 256.734 Q2582.02 253.795 2580.08 252.197 Q2578.16 250.577 2574.66 250.577 Q2572.44 250.577 2570.33 251.109 Q2568.23 251.642 2566.28 252.707 L2566.28 248.771 Q2568.62 247.869 2570.82 247.429 Q2573.02 246.966 2575.1 246.966 Q2580.73 246.966 2583.51 249.883 Q2586.28 252.799 2586.28 258.725 Z\" fill=\"#000000\" fill-rule=\"evenodd\" fill-opacity=\"1\" /><path clip-path=\"url(#clip590)\" d=\"M2613.67 260.577 Q2613.67 255.878 2611.72 253.216 Q2609.8 250.531 2606.42 250.531 Q2603.04 250.531 2601.1 253.216 Q2599.18 255.878 2599.18 260.577 Q2599.18 265.276 2601.1 267.961 Q2603.04 270.623 2606.42 270.623 Q2609.8 270.623 2611.72 267.961 Q2613.67 265.276 2613.67 260.577 M2599.18 251.526 Q2600.52 249.211 2602.56 248.1 Q2604.62 246.966 2607.46 246.966 Q2612.19 246.966 2615.13 250.716 Q2618.09 254.466 2618.09 260.577 Q2618.09 266.688 2615.13 270.438 Q2612.19 274.188 2607.46 274.188 Q2604.62 274.188 2602.56 273.077 Q2600.52 271.943 2599.18 269.628 L2599.18 273.517 L2594.89 273.517 L2594.89 237.498 L2599.18 237.498 L2599.18 251.526 Z\" fill=\"#000000\" fill-rule=\"evenodd\" fill-opacity=\"1\" /><path clip-path=\"url(#clip590)\" d=\"M2641.68 248.355 L2641.68 252.382 Q2639.87 251.457 2637.93 250.994 Q2635.98 250.531 2633.9 250.531 Q2630.73 250.531 2629.13 251.503 Q2627.56 252.475 2627.56 254.42 Q2627.56 255.901 2628.69 256.757 Q2629.82 257.591 2633.25 258.355 L2634.71 258.679 Q2639.25 259.651 2641.14 261.433 Q2643.07 263.193 2643.07 266.364 Q2643.07 269.975 2640.2 272.081 Q2637.35 274.188 2632.35 274.188 Q2630.26 274.188 2628 273.771 Q2625.75 273.378 2623.25 272.568 L2623.25 268.169 Q2625.61 269.396 2627.9 270.021 Q2630.2 270.623 2632.44 270.623 Q2635.45 270.623 2637.07 269.605 Q2638.69 268.563 2638.69 266.688 Q2638.69 264.952 2637.51 264.026 Q2636.35 263.1 2632.39 262.244 L2630.91 261.896 Q2626.95 261.063 2625.2 259.35 Q2623.44 257.614 2623.44 254.605 Q2623.44 250.947 2626.03 248.957 Q2628.62 246.966 2633.39 246.966 Q2635.75 246.966 2637.83 247.313 Q2639.92 247.66 2641.68 248.355 Z\" fill=\"#000000\" fill-rule=\"evenodd\" fill-opacity=\"1\" /><path clip-path=\"url(#clip590)\" d=\"M2659.89 250.577 Q2656.47 250.577 2654.48 253.262 Q2652.49 255.924 2652.49 260.577 Q2652.49 265.23 2654.45 267.915 Q2656.45 270.577 2659.89 270.577 Q2663.3 270.577 2665.29 267.892 Q2667.28 265.206 2667.28 260.577 Q2667.28 255.97 2665.29 253.285 Q2663.3 250.577 2659.89 250.577 M2659.89 246.966 Q2665.45 246.966 2668.62 250.577 Q2671.79 254.188 2671.79 260.577 Q2671.79 266.943 2668.62 270.577 Q2665.45 274.188 2659.89 274.188 Q2654.32 274.188 2651.14 270.577 Q2648 266.943 2648 260.577 Q2648 254.188 2651.14 250.577 Q2654.32 246.966 2659.89 246.966 Z\" fill=\"#000000\" fill-rule=\"evenodd\" fill-opacity=\"1\" /><path clip-path=\"url(#clip590)\" d=\"M2678.85 237.498 L2683.11 237.498 L2683.11 273.517 L2678.85 273.517 L2678.85 237.498 Z\" fill=\"#000000\" fill-rule=\"evenodd\" fill-opacity=\"1\" /><path clip-path=\"url(#clip590)\" d=\"M2691.58 263.285 L2691.58 247.591 L2695.84 247.591 L2695.84 263.123 Q2695.84 266.804 2697.28 268.656 Q2698.71 270.484 2701.58 270.484 Q2705.03 270.484 2707.02 268.285 Q2709.04 266.086 2709.04 262.29 L2709.04 247.591 L2713.3 247.591 L2713.3 273.517 L2709.04 273.517 L2709.04 269.535 Q2707.49 271.896 2705.43 273.054 Q2703.39 274.188 2700.68 274.188 Q2696.21 274.188 2693.9 271.41 Q2691.58 268.632 2691.58 263.285 M2702.3 246.966 L2702.3 246.966 Z\" fill=\"#000000\" fill-rule=\"evenodd\" fill-opacity=\"1\" /><path clip-path=\"url(#clip590)\" d=\"M2726.28 240.23 L2726.28 247.591 L2735.06 247.591 L2735.06 250.901 L2726.28 250.901 L2726.28 264.975 Q2726.28 268.146 2727.14 269.049 Q2728.02 269.952 2730.68 269.952 L2735.06 269.952 L2735.06 273.517 L2730.68 273.517 Q2725.75 273.517 2723.88 271.688 Q2722 269.836 2722 264.975 L2722 250.901 L2718.88 250.901 L2718.88 247.591 L2722 247.591 L2722 240.23 L2726.28 240.23 Z\" fill=\"#000000\" fill-rule=\"evenodd\" fill-opacity=\"1\" /><path clip-path=\"url(#clip590)\" d=\"M2762.83 259.489 L2762.83 261.572 L2743.25 261.572 Q2743.53 265.97 2745.89 268.285 Q2748.27 270.577 2752.51 270.577 Q2754.96 270.577 2757.25 269.975 Q2759.57 269.373 2761.84 268.169 L2761.84 272.197 Q2759.55 273.169 2757.14 273.679 Q2754.73 274.188 2752.25 274.188 Q2746.05 274.188 2742.42 270.577 Q2738.81 266.966 2738.81 260.808 Q2738.81 254.443 2742.23 250.716 Q2745.68 246.966 2751.51 246.966 Q2756.75 246.966 2759.78 250.345 Q2762.83 253.702 2762.83 259.489 M2758.57 258.239 Q2758.53 254.744 2756.61 252.66 Q2754.71 250.577 2751.56 250.577 Q2748 250.577 2745.84 252.591 Q2743.71 254.605 2743.39 258.262 L2758.57 258.239 Z\" fill=\"#000000\" fill-rule=\"evenodd\" fill-opacity=\"1\" /><path clip-path=\"url(#clip590)\" d=\"M2805.08 252.568 Q2806.68 249.697 2808.9 248.332 Q2811.12 246.966 2814.13 246.966 Q2818.18 246.966 2820.38 249.813 Q2822.58 252.637 2822.58 257.869 L2822.58 273.517 L2818.3 273.517 L2818.3 258.007 Q2818.3 254.281 2816.98 252.475 Q2815.66 250.67 2812.95 250.67 Q2809.64 250.67 2807.72 252.869 Q2805.8 255.068 2805.8 258.864 L2805.8 273.517 L2801.51 273.517 L2801.51 258.007 Q2801.51 254.257 2800.19 252.475 Q2798.88 250.67 2796.12 250.67 Q2792.86 250.67 2790.94 252.892 Q2789.01 255.091 2789.01 258.864 L2789.01 273.517 L2784.73 273.517 L2784.73 247.591 L2789.01 247.591 L2789.01 251.619 Q2790.47 249.234 2792.51 248.1 Q2794.55 246.966 2797.35 246.966 Q2800.17 246.966 2802.14 248.401 Q2804.13 249.836 2805.08 252.568 Z\" fill=\"#000000\" fill-rule=\"evenodd\" fill-opacity=\"1\" /><path clip-path=\"url(#clip590)\" d=\"M2842.86 260.484 Q2837.69 260.484 2835.7 261.665 Q2833.71 262.845 2833.71 265.693 Q2833.71 267.961 2835.19 269.304 Q2836.7 270.623 2839.27 270.623 Q2842.81 270.623 2844.94 268.123 Q2847.09 265.6 2847.09 261.433 L2847.09 260.484 L2842.86 260.484 M2851.35 258.725 L2851.35 273.517 L2847.09 273.517 L2847.09 269.581 Q2845.63 271.943 2843.46 273.077 Q2841.28 274.188 2838.13 274.188 Q2834.15 274.188 2831.79 271.966 Q2829.45 269.72 2829.45 265.97 Q2829.45 261.595 2832.37 259.373 Q2835.31 257.151 2841.12 257.151 L2847.09 257.151 L2847.09 256.734 Q2847.09 253.795 2845.15 252.197 Q2843.23 250.577 2839.73 250.577 Q2837.51 250.577 2835.4 251.109 Q2833.3 251.642 2831.35 252.707 L2831.35 248.771 Q2833.69 247.869 2835.89 247.429 Q2838.09 246.966 2840.17 246.966 Q2845.8 246.966 2848.57 249.883 Q2851.35 252.799 2851.35 258.725 Z\" fill=\"#000000\" fill-rule=\"evenodd\" fill-opacity=\"1\" /><path clip-path=\"url(#clip590)\" d=\"M2881.68 247.591 L2872.3 260.207 L2882.16 273.517 L2877.14 273.517 L2869.59 263.332 L2862.05 273.517 L2857.02 273.517 L2867.09 259.952 L2857.88 247.591 L2862.9 247.591 L2869.78 256.827 L2876.65 247.591 L2881.68 247.591 Z\" fill=\"#000000\" fill-rule=\"evenodd\" fill-opacity=\"1\" /><path clip-path=\"url(#clip590)\" d=\"M2888.18 247.591 L2892.44 247.591 L2892.44 273.517 L2888.18 273.517 L2888.18 247.591 M2888.18 237.498 L2892.44 237.498 L2892.44 242.892 L2888.18 242.892 L2888.18 237.498 Z\" fill=\"#000000\" fill-rule=\"evenodd\" fill-opacity=\"1\" /><path clip-path=\"url(#clip590)\" d=\"M2921.54 252.568 Q2923.13 249.697 2925.36 248.332 Q2927.58 246.966 2930.59 246.966 Q2934.64 246.966 2936.84 249.813 Q2939.04 252.637 2939.04 257.869 L2939.04 273.517 L2934.75 273.517 L2934.75 258.007 Q2934.75 254.281 2933.43 252.475 Q2932.12 250.67 2929.41 250.67 Q2926.1 250.67 2924.18 252.869 Q2922.25 255.068 2922.25 258.864 L2922.25 273.517 L2917.97 273.517 L2917.97 258.007 Q2917.97 254.257 2916.65 252.475 Q2915.33 250.67 2912.58 250.67 Q2909.31 250.67 2907.39 252.892 Q2905.47 255.091 2905.47 258.864 L2905.47 273.517 L2901.19 273.517 L2901.19 247.591 L2905.47 247.591 L2905.47 251.619 Q2906.93 249.234 2908.97 248.1 Q2911 246.966 2913.8 246.966 Q2916.63 246.966 2918.6 248.401 Q2920.59 249.836 2921.54 252.568 Z\" fill=\"#000000\" fill-rule=\"evenodd\" fill-opacity=\"1\" /><path clip-path=\"url(#clip590)\" d=\"M2947.09 263.285 L2947.09 247.591 L2951.35 247.591 L2951.35 263.123 Q2951.35 266.804 2952.79 268.656 Q2954.22 270.484 2957.09 270.484 Q2960.54 270.484 2962.53 268.285 Q2964.55 266.086 2964.55 262.29 L2964.55 247.591 L2968.8 247.591 L2968.8 273.517 L2964.55 273.517 L2964.55 269.535 Q2962.99 271.896 2960.93 273.054 Q2958.9 274.188 2956.19 274.188 Q2951.72 274.188 2949.41 271.41 Q2947.09 268.632 2947.09 263.285 M2957.81 246.966 L2957.81 246.966 Z\" fill=\"#000000\" fill-rule=\"evenodd\" fill-opacity=\"1\" /><path clip-path=\"url(#clip590)\" d=\"M2997.76 252.568 Q2999.36 249.697 3001.58 248.332 Q3003.8 246.966 3006.81 246.966 Q3010.86 246.966 3013.06 249.813 Q3015.26 252.637 3015.26 257.869 L3015.26 273.517 L3010.98 273.517 L3010.98 258.007 Q3010.98 254.281 3009.66 252.475 Q3008.34 250.67 3005.63 250.67 Q3002.32 250.67 3000.4 252.869 Q2998.48 255.068 2998.48 258.864 L2998.48 273.517 L2994.2 273.517 L2994.2 258.007 Q2994.2 254.257 2992.88 252.475 Q2991.56 250.67 2988.8 250.67 Q2985.54 250.67 2983.62 252.892 Q2981.7 255.091 2981.7 258.864 L2981.7 273.517 L2977.42 273.517 L2977.42 247.591 L2981.7 247.591 L2981.7 251.619 Q2983.16 249.234 2985.19 248.1 Q2987.23 246.966 2990.03 246.966 Q2992.86 246.966 2994.82 248.401 Q2996.81 249.836 2997.76 252.568 Z\" fill=\"#000000\" fill-rule=\"evenodd\" fill-opacity=\"1\" /><polyline clip-path=\"url(#clip590)\" style=\"stroke:#3da44d; stroke-linecap:butt; stroke-linejoin:round; stroke-width:4; stroke-opacity:1; fill:none\" points=\"\n",
       "  2345.09,308.077 2533.06,308.077 \n",
       "  \"/>\n",
       "<path clip-path=\"url(#clip590)\" d=\"M2564.39 299.431 L2568.64 299.431 L2568.64 325.357 L2564.39 325.357 L2564.39 299.431 M2564.39 289.338 L2568.64 289.338 L2568.64 294.732 L2564.39 294.732 L2564.39 289.338 Z\" fill=\"#000000\" fill-rule=\"evenodd\" fill-opacity=\"1\" /><path clip-path=\"url(#clip590)\" d=\"M2599.11 309.709 L2599.11 325.357 L2594.85 325.357 L2594.85 309.847 Q2594.85 306.167 2593.41 304.338 Q2591.98 302.51 2589.11 302.51 Q2585.66 302.51 2583.67 304.709 Q2581.68 306.908 2581.68 310.704 L2581.68 325.357 L2577.39 325.357 L2577.39 299.431 L2581.68 299.431 L2581.68 303.459 Q2583.2 301.121 2585.27 299.963 Q2587.35 298.806 2590.06 298.806 Q2594.52 298.806 2596.82 301.584 Q2599.11 304.338 2599.11 309.709 Z\" fill=\"#000000\" fill-rule=\"evenodd\" fill-opacity=\"1\" /><path clip-path=\"url(#clip590)\" d=\"M2620.73 289.338 L2620.73 292.88 L2616.65 292.88 Q2614.36 292.88 2613.46 293.806 Q2612.58 294.732 2612.58 297.139 L2612.58 299.431 L2619.59 299.431 L2619.59 302.741 L2612.58 302.741 L2612.58 325.357 L2608.3 325.357 L2608.3 302.741 L2604.22 302.741 L2604.22 299.431 L2608.3 299.431 L2608.3 297.625 Q2608.3 293.297 2610.31 291.329 Q2612.33 289.338 2616.7 289.338 L2620.73 289.338 Z\" fill=\"#000000\" fill-rule=\"evenodd\" fill-opacity=\"1\" /><path clip-path=\"url(#clip590)\" d=\"M2646.47 311.329 L2646.47 313.412 L2626.89 313.412 Q2627.16 317.81 2629.52 320.125 Q2631.91 322.417 2636.14 322.417 Q2638.6 322.417 2640.89 321.815 Q2643.2 321.213 2645.47 320.009 L2645.47 324.037 Q2643.18 325.009 2640.77 325.519 Q2638.37 326.028 2635.89 326.028 Q2629.69 326.028 2626.05 322.417 Q2622.44 318.806 2622.44 312.648 Q2622.44 306.283 2625.87 302.556 Q2629.32 298.806 2635.15 298.806 Q2640.38 298.806 2643.41 302.185 Q2646.47 305.542 2646.47 311.329 M2642.21 310.079 Q2642.16 306.584 2640.24 304.5 Q2638.34 302.417 2635.2 302.417 Q2631.63 302.417 2629.48 304.431 Q2627.35 306.445 2627.02 310.102 L2642.21 310.079 Z\" fill=\"#000000\" fill-rule=\"evenodd\" fill-opacity=\"1\" /><path clip-path=\"url(#clip590)\" d=\"M2668.48 303.412 Q2667.76 302.996 2666.91 302.81 Q2666.07 302.602 2665.06 302.602 Q2661.45 302.602 2659.5 304.963 Q2657.58 307.301 2657.58 311.699 L2657.58 325.357 L2653.3 325.357 L2653.3 299.431 L2657.58 299.431 L2657.58 303.459 Q2658.92 301.098 2661.07 299.963 Q2663.23 298.806 2666.31 298.806 Q2666.75 298.806 2667.28 298.875 Q2667.81 298.922 2668.46 299.037 L2668.48 303.412 Z\" fill=\"#000000\" fill-rule=\"evenodd\" fill-opacity=\"1\" /><path clip-path=\"url(#clip590)\" d=\"M2687.14 303.412 Q2686.42 302.996 2685.57 302.81 Q2684.73 302.602 2683.71 302.602 Q2680.1 302.602 2678.16 304.963 Q2676.24 307.301 2676.24 311.699 L2676.24 325.357 L2671.95 325.357 L2671.95 299.431 L2676.24 299.431 L2676.24 303.459 Q2677.58 301.098 2679.73 299.963 Q2681.88 298.806 2684.96 298.806 Q2685.4 298.806 2685.94 298.875 Q2686.47 298.922 2687.12 299.037 L2687.14 303.412 Z\" fill=\"#000000\" fill-rule=\"evenodd\" fill-opacity=\"1\" /><path clip-path=\"url(#clip590)\" d=\"M2712.74 311.329 L2712.74 313.412 L2693.16 313.412 Q2693.44 317.81 2695.8 320.125 Q2698.18 322.417 2702.42 322.417 Q2704.87 322.417 2707.16 321.815 Q2709.48 321.213 2711.75 320.009 L2711.75 324.037 Q2709.45 325.009 2707.05 325.519 Q2704.64 326.028 2702.16 326.028 Q2695.96 326.028 2692.32 322.417 Q2688.71 318.806 2688.71 312.648 Q2688.71 306.283 2692.14 302.556 Q2695.59 298.806 2701.42 298.806 Q2706.65 298.806 2709.69 302.185 Q2712.74 305.542 2712.74 311.329 M2708.48 310.079 Q2708.44 306.584 2706.51 304.5 Q2704.62 302.417 2701.47 302.417 Q2697.9 302.417 2695.75 304.431 Q2693.62 306.445 2693.3 310.102 L2708.48 310.079 Z\" fill=\"#000000\" fill-rule=\"evenodd\" fill-opacity=\"1\" /><path clip-path=\"url(#clip590)\" d=\"M2736.79 303.366 L2736.79 289.338 L2741.05 289.338 L2741.05 325.357 L2736.79 325.357 L2736.79 321.468 Q2735.45 323.783 2733.39 324.917 Q2731.35 326.028 2728.48 326.028 Q2723.78 326.028 2720.82 322.278 Q2717.88 318.528 2717.88 312.417 Q2717.88 306.306 2720.82 302.556 Q2723.78 298.806 2728.48 298.806 Q2731.35 298.806 2733.39 299.94 Q2735.45 301.051 2736.79 303.366 M2722.28 312.417 Q2722.28 317.116 2724.2 319.801 Q2726.14 322.463 2729.52 322.463 Q2732.9 322.463 2734.85 319.801 Q2736.79 317.116 2736.79 312.417 Q2736.79 307.718 2734.85 305.056 Q2732.9 302.371 2729.52 302.371 Q2726.14 302.371 2724.2 305.056 Q2722.28 307.718 2722.28 312.417 Z\" fill=\"#000000\" fill-rule=\"evenodd\" fill-opacity=\"1\" /><path clip-path=\"url(#clip590)\" d=\"M2785.08 304.408 Q2786.68 301.537 2788.9 300.172 Q2791.12 298.806 2794.13 298.806 Q2798.18 298.806 2800.38 301.653 Q2802.58 304.477 2802.58 309.709 L2802.58 325.357 L2798.3 325.357 L2798.3 309.847 Q2798.3 306.121 2796.98 304.315 Q2795.66 302.51 2792.95 302.51 Q2789.64 302.51 2787.72 304.709 Q2785.8 306.908 2785.8 310.704 L2785.8 325.357 L2781.51 325.357 L2781.51 309.847 Q2781.51 306.097 2780.19 304.315 Q2778.88 302.51 2776.12 302.51 Q2772.86 302.51 2770.94 304.732 Q2769.01 306.931 2769.01 310.704 L2769.01 325.357 L2764.73 325.357 L2764.73 299.431 L2769.01 299.431 L2769.01 303.459 Q2770.47 301.074 2772.51 299.94 Q2774.55 298.806 2777.35 298.806 Q2780.17 298.806 2782.14 300.241 Q2784.13 301.676 2785.08 304.408 Z\" fill=\"#000000\" fill-rule=\"evenodd\" fill-opacity=\"1\" /><path clip-path=\"url(#clip590)\" d=\"M2822.86 312.324 Q2817.69 312.324 2815.7 313.505 Q2813.71 314.685 2813.71 317.533 Q2813.71 319.801 2815.19 321.144 Q2816.7 322.463 2819.27 322.463 Q2822.81 322.463 2824.94 319.963 Q2827.09 317.44 2827.09 313.273 L2827.09 312.324 L2822.86 312.324 M2831.35 310.565 L2831.35 325.357 L2827.09 325.357 L2827.09 321.421 Q2825.63 323.783 2823.46 324.917 Q2821.28 326.028 2818.13 326.028 Q2814.15 326.028 2811.79 323.806 Q2809.45 321.56 2809.45 317.81 Q2809.45 313.435 2812.37 311.213 Q2815.31 308.991 2821.12 308.991 L2827.09 308.991 L2827.09 308.574 Q2827.09 305.635 2825.15 304.037 Q2823.23 302.417 2819.73 302.417 Q2817.51 302.417 2815.4 302.949 Q2813.3 303.482 2811.35 304.547 L2811.35 300.611 Q2813.69 299.709 2815.89 299.269 Q2818.09 298.806 2820.17 298.806 Q2825.8 298.806 2828.57 301.723 Q2831.35 304.639 2831.35 310.565 Z\" fill=\"#000000\" fill-rule=\"evenodd\" fill-opacity=\"1\" /><path clip-path=\"url(#clip590)\" d=\"M2861.68 299.431 L2852.3 312.047 L2862.16 325.357 L2857.14 325.357 L2849.59 315.172 L2842.05 325.357 L2837.02 325.357 L2847.09 311.792 L2837.88 299.431 L2842.9 299.431 L2849.78 308.667 L2856.65 299.431 L2861.68 299.431 Z\" fill=\"#000000\" fill-rule=\"evenodd\" fill-opacity=\"1\" /><path clip-path=\"url(#clip590)\" d=\"M2868.18 299.431 L2872.44 299.431 L2872.44 325.357 L2868.18 325.357 L2868.18 299.431 M2868.18 289.338 L2872.44 289.338 L2872.44 294.732 L2868.18 294.732 L2868.18 289.338 Z\" fill=\"#000000\" fill-rule=\"evenodd\" fill-opacity=\"1\" /><path clip-path=\"url(#clip590)\" d=\"M2901.54 304.408 Q2903.13 301.537 2905.36 300.172 Q2907.58 298.806 2910.59 298.806 Q2914.64 298.806 2916.84 301.653 Q2919.04 304.477 2919.04 309.709 L2919.04 325.357 L2914.75 325.357 L2914.75 309.847 Q2914.75 306.121 2913.43 304.315 Q2912.12 302.51 2909.41 302.51 Q2906.1 302.51 2904.18 304.709 Q2902.25 306.908 2902.25 310.704 L2902.25 325.357 L2897.97 325.357 L2897.97 309.847 Q2897.97 306.097 2896.65 304.315 Q2895.33 302.51 2892.58 302.51 Q2889.31 302.51 2887.39 304.732 Q2885.47 306.931 2885.47 310.704 L2885.47 325.357 L2881.19 325.357 L2881.19 299.431 L2885.47 299.431 L2885.47 303.459 Q2886.93 301.074 2888.97 299.94 Q2891 298.806 2893.81 298.806 Q2896.63 298.806 2898.6 300.241 Q2900.59 301.676 2901.54 304.408 Z\" fill=\"#000000\" fill-rule=\"evenodd\" fill-opacity=\"1\" /><path clip-path=\"url(#clip590)\" d=\"M2927.09 315.125 L2927.09 299.431 L2931.35 299.431 L2931.35 314.963 Q2931.35 318.644 2932.79 320.496 Q2934.22 322.324 2937.09 322.324 Q2940.54 322.324 2942.53 320.125 Q2944.55 317.926 2944.55 314.13 L2944.55 299.431 L2948.8 299.431 L2948.8 325.357 L2944.55 325.357 L2944.55 321.375 Q2942.99 323.736 2940.93 324.894 Q2938.9 326.028 2936.19 326.028 Q2931.72 326.028 2929.41 323.25 Q2927.09 320.472 2927.09 315.125 M2937.81 298.806 L2937.81 298.806 Z\" fill=\"#000000\" fill-rule=\"evenodd\" fill-opacity=\"1\" /><path clip-path=\"url(#clip590)\" d=\"M2977.76 304.408 Q2979.36 301.537 2981.58 300.172 Q2983.8 298.806 2986.81 298.806 Q2990.86 298.806 2993.06 301.653 Q2995.26 304.477 2995.26 309.709 L2995.26 325.357 L2990.98 325.357 L2990.98 309.847 Q2990.98 306.121 2989.66 304.315 Q2988.34 302.51 2985.63 302.51 Q2982.32 302.51 2980.4 304.709 Q2978.48 306.908 2978.48 310.704 L2978.48 325.357 L2974.2 325.357 L2974.2 309.847 Q2974.2 306.097 2972.88 304.315 Q2971.56 302.51 2968.8 302.51 Q2965.54 302.51 2963.62 304.732 Q2961.7 306.931 2961.7 310.704 L2961.7 325.357 L2957.42 325.357 L2957.42 299.431 L2961.7 299.431 L2961.7 303.459 Q2963.16 301.074 2965.19 299.94 Q2967.23 298.806 2970.03 298.806 Q2972.86 298.806 2974.82 300.241 Q2976.81 301.676 2977.76 304.408 Z\" fill=\"#000000\" fill-rule=\"evenodd\" fill-opacity=\"1\" /><polyline clip-path=\"url(#clip590)\" style=\"stroke:#c271d2; stroke-linecap:butt; stroke-linejoin:round; stroke-width:4; stroke-opacity:1; fill:none\" points=\"\n",
       "  2345.09,359.917 2533.06,359.917 \n",
       "  \"/>\n",
       "<path clip-path=\"url(#clip590)\" d=\"M2564.39 351.271 L2568.64 351.271 L2568.64 377.197 L2564.39 377.197 L2564.39 351.271 M2564.39 341.178 L2568.64 341.178 L2568.64 346.572 L2564.39 346.572 L2564.39 341.178 Z\" fill=\"#000000\" fill-rule=\"evenodd\" fill-opacity=\"1\" /><path clip-path=\"url(#clip590)\" d=\"M2599.11 361.549 L2599.11 377.197 L2594.85 377.197 L2594.85 361.687 Q2594.85 358.007 2593.41 356.178 Q2591.98 354.35 2589.11 354.35 Q2585.66 354.35 2583.67 356.549 Q2581.68 358.748 2581.68 362.544 L2581.68 377.197 L2577.39 377.197 L2577.39 351.271 L2581.68 351.271 L2581.68 355.299 Q2583.2 352.961 2585.27 351.803 Q2587.35 350.646 2590.06 350.646 Q2594.52 350.646 2596.82 353.424 Q2599.11 356.178 2599.11 361.549 Z\" fill=\"#000000\" fill-rule=\"evenodd\" fill-opacity=\"1\" /><path clip-path=\"url(#clip590)\" d=\"M2620.73 341.178 L2620.73 344.72 L2616.65 344.72 Q2614.36 344.72 2613.46 345.646 Q2612.58 346.572 2612.58 348.979 L2612.58 351.271 L2619.59 351.271 L2619.59 354.581 L2612.58 354.581 L2612.58 377.197 L2608.3 377.197 L2608.3 354.581 L2604.22 354.581 L2604.22 351.271 L2608.3 351.271 L2608.3 349.465 Q2608.3 345.137 2610.31 343.169 Q2612.33 341.178 2616.7 341.178 L2620.73 341.178 Z\" fill=\"#000000\" fill-rule=\"evenodd\" fill-opacity=\"1\" /><path clip-path=\"url(#clip590)\" d=\"M2646.47 363.169 L2646.47 365.252 L2626.89 365.252 Q2627.16 369.65 2629.52 371.965 Q2631.91 374.257 2636.14 374.257 Q2638.6 374.257 2640.89 373.655 Q2643.2 373.053 2645.47 371.849 L2645.47 375.877 Q2643.18 376.849 2640.77 377.359 Q2638.37 377.868 2635.89 377.868 Q2629.69 377.868 2626.05 374.257 Q2622.44 370.646 2622.44 364.488 Q2622.44 358.123 2625.87 354.396 Q2629.32 350.646 2635.15 350.646 Q2640.38 350.646 2643.41 354.025 Q2646.47 357.382 2646.47 363.169 M2642.21 361.919 Q2642.16 358.424 2640.24 356.34 Q2638.34 354.257 2635.2 354.257 Q2631.63 354.257 2629.48 356.271 Q2627.35 358.285 2627.02 361.942 L2642.21 361.919 Z\" fill=\"#000000\" fill-rule=\"evenodd\" fill-opacity=\"1\" /><path clip-path=\"url(#clip590)\" d=\"M2668.48 355.252 Q2667.76 354.836 2666.91 354.65 Q2666.07 354.442 2665.06 354.442 Q2661.45 354.442 2659.5 356.803 Q2657.58 359.141 2657.58 363.539 L2657.58 377.197 L2653.3 377.197 L2653.3 351.271 L2657.58 351.271 L2657.58 355.299 Q2658.92 352.938 2661.07 351.803 Q2663.23 350.646 2666.31 350.646 Q2666.75 350.646 2667.28 350.715 Q2667.81 350.762 2668.46 350.877 L2668.48 355.252 Z\" fill=\"#000000\" fill-rule=\"evenodd\" fill-opacity=\"1\" /><path clip-path=\"url(#clip590)\" d=\"M2687.14 355.252 Q2686.42 354.836 2685.57 354.65 Q2684.73 354.442 2683.71 354.442 Q2680.1 354.442 2678.16 356.803 Q2676.24 359.141 2676.24 363.539 L2676.24 377.197 L2671.95 377.197 L2671.95 351.271 L2676.24 351.271 L2676.24 355.299 Q2677.58 352.938 2679.73 351.803 Q2681.88 350.646 2684.96 350.646 Q2685.4 350.646 2685.94 350.715 Q2686.47 350.762 2687.12 350.877 L2687.14 355.252 Z\" fill=\"#000000\" fill-rule=\"evenodd\" fill-opacity=\"1\" /><path clip-path=\"url(#clip590)\" d=\"M2712.74 363.169 L2712.74 365.252 L2693.16 365.252 Q2693.44 369.65 2695.8 371.965 Q2698.18 374.257 2702.42 374.257 Q2704.87 374.257 2707.16 373.655 Q2709.48 373.053 2711.75 371.849 L2711.75 375.877 Q2709.45 376.849 2707.05 377.359 Q2704.64 377.868 2702.16 377.868 Q2695.96 377.868 2692.32 374.257 Q2688.71 370.646 2688.71 364.488 Q2688.71 358.123 2692.14 354.396 Q2695.59 350.646 2701.42 350.646 Q2706.65 350.646 2709.69 354.025 Q2712.74 357.382 2712.74 363.169 M2708.48 361.919 Q2708.44 358.424 2706.51 356.34 Q2704.62 354.257 2701.47 354.257 Q2697.9 354.257 2695.75 356.271 Q2693.62 358.285 2693.3 361.942 L2708.48 361.919 Z\" fill=\"#000000\" fill-rule=\"evenodd\" fill-opacity=\"1\" /><path clip-path=\"url(#clip590)\" d=\"M2736.79 355.206 L2736.79 341.178 L2741.05 341.178 L2741.05 377.197 L2736.79 377.197 L2736.79 373.308 Q2735.45 375.623 2733.39 376.757 Q2731.35 377.868 2728.48 377.868 Q2723.78 377.868 2720.82 374.118 Q2717.88 370.368 2717.88 364.257 Q2717.88 358.146 2720.82 354.396 Q2723.78 350.646 2728.48 350.646 Q2731.35 350.646 2733.39 351.78 Q2735.45 352.891 2736.79 355.206 M2722.28 364.257 Q2722.28 368.956 2724.2 371.641 Q2726.14 374.303 2729.52 374.303 Q2732.9 374.303 2734.85 371.641 Q2736.79 368.956 2736.79 364.257 Q2736.79 359.558 2734.85 356.896 Q2732.9 354.211 2729.52 354.211 Q2726.14 354.211 2724.2 356.896 Q2722.28 359.558 2722.28 364.257 Z\" fill=\"#000000\" fill-rule=\"evenodd\" fill-opacity=\"1\" /><path clip-path=\"url(#clip590)\" d=\"M2785.08 356.248 Q2786.68 353.377 2788.9 352.012 Q2791.12 350.646 2794.13 350.646 Q2798.18 350.646 2800.38 353.493 Q2802.58 356.317 2802.58 361.549 L2802.58 377.197 L2798.3 377.197 L2798.3 361.687 Q2798.3 357.961 2796.98 356.155 Q2795.66 354.35 2792.95 354.35 Q2789.64 354.35 2787.72 356.549 Q2785.8 358.748 2785.8 362.544 L2785.8 377.197 L2781.51 377.197 L2781.51 361.687 Q2781.51 357.937 2780.19 356.155 Q2778.88 354.35 2776.12 354.35 Q2772.86 354.35 2770.94 356.572 Q2769.01 358.771 2769.01 362.544 L2769.01 377.197 L2764.73 377.197 L2764.73 351.271 L2769.01 351.271 L2769.01 355.299 Q2770.47 352.914 2772.51 351.78 Q2774.55 350.646 2777.35 350.646 Q2780.17 350.646 2782.14 352.081 Q2784.13 353.516 2785.08 356.248 Z\" fill=\"#000000\" fill-rule=\"evenodd\" fill-opacity=\"1\" /><path clip-path=\"url(#clip590)\" d=\"M2811.07 351.271 L2815.33 351.271 L2815.33 377.197 L2811.07 377.197 L2811.07 351.271 M2811.07 341.178 L2815.33 341.178 L2815.33 346.572 L2811.07 346.572 L2811.07 341.178 Z\" fill=\"#000000\" fill-rule=\"evenodd\" fill-opacity=\"1\" /><path clip-path=\"url(#clip590)\" d=\"M2841.31 355.206 L2841.31 341.178 L2845.56 341.178 L2845.56 377.197 L2841.31 377.197 L2841.31 373.308 Q2839.96 375.623 2837.9 376.757 Q2835.87 377.868 2833 377.868 Q2828.3 377.868 2825.33 374.118 Q2822.39 370.368 2822.39 364.257 Q2822.39 358.146 2825.33 354.396 Q2828.3 350.646 2833 350.646 Q2835.87 350.646 2837.9 351.78 Q2839.96 352.891 2841.31 355.206 M2826.79 364.257 Q2826.79 368.956 2828.71 371.641 Q2830.66 374.303 2834.04 374.303 Q2837.42 374.303 2839.36 371.641 Q2841.31 368.956 2841.31 364.257 Q2841.31 359.558 2839.36 356.896 Q2837.42 354.211 2834.04 354.211 Q2830.66 354.211 2828.71 356.896 Q2826.79 359.558 2826.79 364.257 Z\" fill=\"#000000\" fill-rule=\"evenodd\" fill-opacity=\"1\" /><path clip-path=\"url(#clip590)\" d=\"M2858.46 373.308 L2858.46 387.058 L2854.18 387.058 L2854.18 351.271 L2858.46 351.271 L2858.46 355.206 Q2859.8 352.891 2861.84 351.78 Q2863.9 350.646 2866.75 350.646 Q2871.47 350.646 2874.41 354.396 Q2877.37 358.146 2877.37 364.257 Q2877.37 370.368 2874.41 374.118 Q2871.47 377.868 2866.75 377.868 Q2863.9 377.868 2861.84 376.757 Q2859.8 375.623 2858.46 373.308 M2872.95 364.257 Q2872.95 359.558 2871 356.896 Q2869.08 354.211 2865.7 354.211 Q2862.32 354.211 2860.38 356.896 Q2858.46 359.558 2858.46 364.257 Q2858.46 368.956 2860.38 371.641 Q2862.32 374.303 2865.7 374.303 Q2869.08 374.303 2871 371.641 Q2872.95 368.956 2872.95 364.257 Z\" fill=\"#000000\" fill-rule=\"evenodd\" fill-opacity=\"1\" /><path clip-path=\"url(#clip590)\" d=\"M2894.48 354.257 Q2891.05 354.257 2889.06 356.942 Q2887.07 359.604 2887.07 364.257 Q2887.07 368.91 2889.04 371.595 Q2891.03 374.257 2894.48 374.257 Q2897.88 374.257 2899.87 371.572 Q2901.86 368.886 2901.86 364.257 Q2901.86 359.65 2899.87 356.965 Q2897.88 354.257 2894.48 354.257 M2894.48 350.646 Q2900.03 350.646 2903.2 354.257 Q2906.37 357.868 2906.37 364.257 Q2906.37 370.623 2903.2 374.257 Q2900.03 377.868 2894.48 377.868 Q2888.9 377.868 2885.73 374.257 Q2882.58 370.623 2882.58 364.257 Q2882.58 357.868 2885.73 354.257 Q2888.9 350.646 2894.48 350.646 Z\" fill=\"#000000\" fill-rule=\"evenodd\" fill-opacity=\"1\" /><path clip-path=\"url(#clip590)\" d=\"M2913.43 351.271 L2917.69 351.271 L2917.69 377.197 L2913.43 377.197 L2913.43 351.271 M2913.43 341.178 L2917.69 341.178 L2917.69 346.572 L2913.43 346.572 L2913.43 341.178 Z\" fill=\"#000000\" fill-rule=\"evenodd\" fill-opacity=\"1\" /><path clip-path=\"url(#clip590)\" d=\"M2948.16 361.549 L2948.16 377.197 L2943.9 377.197 L2943.9 361.687 Q2943.9 358.007 2942.46 356.178 Q2941.03 354.35 2938.16 354.35 Q2934.71 354.35 2932.72 356.549 Q2930.73 358.748 2930.73 362.544 L2930.73 377.197 L2926.44 377.197 L2926.44 351.271 L2930.73 351.271 L2930.73 355.299 Q2932.25 352.961 2934.31 351.803 Q2936.4 350.646 2939.11 350.646 Q2943.57 350.646 2945.86 353.424 Q2948.16 356.178 2948.16 361.549 Z\" fill=\"#000000\" fill-rule=\"evenodd\" fill-opacity=\"1\" /><path clip-path=\"url(#clip590)\" d=\"M2960.86 343.91 L2960.86 351.271 L2969.64 351.271 L2969.64 354.581 L2960.86 354.581 L2960.86 368.655 Q2960.86 371.826 2961.72 372.729 Q2962.6 373.632 2965.26 373.632 L2969.64 373.632 L2969.64 377.197 L2965.26 377.197 Q2960.33 377.197 2958.46 375.368 Q2956.58 373.516 2956.58 368.655 L2956.58 354.581 L2953.46 354.581 L2953.46 351.271 L2956.58 351.271 L2956.58 343.91 L2960.86 343.91 Z\" fill=\"#000000\" fill-rule=\"evenodd\" fill-opacity=\"1\" /><polyline clip-path=\"url(#clip590)\" style=\"stroke:#ac8d18; stroke-linecap:butt; stroke-linejoin:round; stroke-width:4; stroke-opacity:1; fill:none\" points=\"\n",
       "  2345.09,411.757 2533.06,411.757 \n",
       "  \"/>\n",
       "<path clip-path=\"url(#clip590)\" d=\"M2580.89 393.018 L2580.89 396.56 L2576.82 396.56 Q2574.52 396.56 2573.62 397.486 Q2572.74 398.412 2572.74 400.819 L2572.74 403.111 L2579.76 403.111 L2579.76 406.421 L2572.74 406.421 L2572.74 429.037 L2568.46 429.037 L2568.46 406.421 L2564.39 406.421 L2564.39 403.111 L2568.46 403.111 L2568.46 401.305 Q2568.46 396.977 2570.47 395.009 Q2572.49 393.018 2576.86 393.018 L2580.89 393.018 Z\" fill=\"#000000\" fill-rule=\"evenodd\" fill-opacity=\"1\" /><path clip-path=\"url(#clip590)\" d=\"M2584.45 403.111 L2588.71 403.111 L2588.71 429.037 L2584.45 429.037 L2584.45 403.111 M2584.45 393.018 L2588.71 393.018 L2588.71 398.412 L2584.45 398.412 L2584.45 393.018 Z\" fill=\"#000000\" fill-rule=\"evenodd\" fill-opacity=\"1\" /><path clip-path=\"url(#clip590)\" d=\"M2601.84 395.75 L2601.84 403.111 L2610.61 403.111 L2610.61 406.421 L2601.84 406.421 L2601.84 420.495 Q2601.84 423.666 2602.7 424.569 Q2603.58 425.472 2606.24 425.472 L2610.61 425.472 L2610.61 429.037 L2606.24 429.037 Q2601.31 429.037 2599.43 427.208 Q2597.56 425.356 2597.56 420.495 L2597.56 406.421 L2594.43 406.421 L2594.43 403.111 L2597.56 403.111 L2597.56 395.75 L2601.84 395.75 Z\" fill=\"#000000\" fill-rule=\"evenodd\" fill-opacity=\"1\" /><path clip-path=\"url(#clip590)\" d=\"M2635.5 395.75 L2635.5 403.111 L2644.27 403.111 L2644.27 406.421 L2635.5 406.421 L2635.5 420.495 Q2635.5 423.666 2636.35 424.569 Q2637.23 425.472 2639.89 425.472 L2644.27 425.472 L2644.27 429.037 L2639.89 429.037 Q2634.96 429.037 2633.09 427.208 Q2631.21 425.356 2631.21 420.495 L2631.21 406.421 L2628.09 406.421 L2628.09 403.111 L2631.21 403.111 L2631.21 395.75 L2635.5 395.75 Z\" fill=\"#000000\" fill-rule=\"evenodd\" fill-opacity=\"1\" /><path clip-path=\"url(#clip590)\" d=\"M2664.89 407.092 Q2664.18 406.676 2663.32 406.49 Q2662.49 406.282 2661.47 406.282 Q2657.86 406.282 2655.91 408.643 Q2653.99 410.981 2653.99 415.379 L2653.99 429.037 L2649.71 429.037 L2649.71 403.111 L2653.99 403.111 L2653.99 407.139 Q2655.33 404.778 2657.49 403.643 Q2659.64 402.486 2662.72 402.486 Q2663.16 402.486 2663.69 402.555 Q2664.22 402.602 2664.87 402.717 L2664.89 407.092 Z\" fill=\"#000000\" fill-rule=\"evenodd\" fill-opacity=\"1\" /><path clip-path=\"url(#clip590)\" d=\"M2690.5 415.009 L2690.5 417.092 L2670.91 417.092 Q2671.19 421.49 2673.55 423.805 Q2675.94 426.097 2680.17 426.097 Q2682.63 426.097 2684.92 425.495 Q2687.23 424.893 2689.5 423.689 L2689.5 427.717 Q2687.21 428.689 2684.8 429.199 Q2682.39 429.708 2679.92 429.708 Q2673.71 429.708 2670.08 426.097 Q2666.47 422.486 2666.47 416.328 Q2666.47 409.963 2669.89 406.236 Q2673.34 402.486 2679.18 402.486 Q2684.41 402.486 2687.44 405.865 Q2690.5 409.222 2690.5 415.009 M2686.24 413.759 Q2686.19 410.264 2684.27 408.18 Q2682.37 406.097 2679.22 406.097 Q2675.66 406.097 2673.51 408.111 Q2671.38 410.125 2671.05 413.782 L2686.24 413.759 Z\" fill=\"#000000\" fill-rule=\"evenodd\" fill-opacity=\"1\" /><path clip-path=\"url(#clip590)\" d=\"M2719.04 413.389 L2719.04 429.037 L2714.78 429.037 L2714.78 413.527 Q2714.78 409.847 2713.34 408.018 Q2711.91 406.19 2709.04 406.19 Q2705.59 406.19 2703.6 408.389 Q2701.61 410.588 2701.61 414.384 L2701.61 429.037 L2697.32 429.037 L2697.32 403.111 L2701.61 403.111 L2701.61 407.139 Q2703.13 404.801 2705.19 403.643 Q2707.28 402.486 2709.99 402.486 Q2714.45 402.486 2716.75 405.264 Q2719.04 408.018 2719.04 413.389 Z\" fill=\"#000000\" fill-rule=\"evenodd\" fill-opacity=\"1\" /><path clip-path=\"url(#clip590)\" d=\"M2744.59 407.046 L2744.59 393.018 L2748.85 393.018 L2748.85 429.037 L2744.59 429.037 L2744.59 425.148 Q2743.25 427.463 2741.19 428.597 Q2739.15 429.708 2736.28 429.708 Q2731.58 429.708 2728.62 425.958 Q2725.68 422.208 2725.68 416.097 Q2725.68 409.986 2728.62 406.236 Q2731.58 402.486 2736.28 402.486 Q2739.15 402.486 2741.19 403.62 Q2743.25 404.731 2744.59 407.046 M2730.08 416.097 Q2730.08 420.796 2732 423.481 Q2733.94 426.143 2737.32 426.143 Q2740.7 426.143 2742.65 423.481 Q2744.59 420.796 2744.59 416.097 Q2744.59 411.398 2742.65 408.736 Q2740.7 406.051 2737.32 406.051 Q2733.94 406.051 2732 408.736 Q2730.08 411.398 2730.08 416.097 Z\" fill=\"#000000\" fill-rule=\"evenodd\" fill-opacity=\"1\" /><path clip-path=\"url(#clip590)\" d=\"M2757.63 393.018 L2761.88 393.018 L2761.88 429.037 L2757.63 429.037 L2757.63 393.018 Z\" fill=\"#000000\" fill-rule=\"evenodd\" fill-opacity=\"1\" /><path clip-path=\"url(#clip590)\" d=\"M2770.8 403.111 L2775.06 403.111 L2775.06 429.037 L2770.8 429.037 L2770.8 403.111 M2770.8 393.018 L2775.06 393.018 L2775.06 398.412 L2770.8 398.412 L2770.8 393.018 Z\" fill=\"#000000\" fill-rule=\"evenodd\" fill-opacity=\"1\" /><path clip-path=\"url(#clip590)\" d=\"M2805.52 413.389 L2805.52 429.037 L2801.26 429.037 L2801.26 413.527 Q2801.26 409.847 2799.82 408.018 Q2798.39 406.19 2795.52 406.19 Q2792.07 406.19 2790.08 408.389 Q2788.09 410.588 2788.09 414.384 L2788.09 429.037 L2783.81 429.037 L2783.81 403.111 L2788.09 403.111 L2788.09 407.139 Q2789.62 404.801 2791.68 403.643 Q2793.76 402.486 2796.47 402.486 Q2800.94 402.486 2803.23 405.264 Q2805.52 408.018 2805.52 413.389 Z\" fill=\"#000000\" fill-rule=\"evenodd\" fill-opacity=\"1\" /><path clip-path=\"url(#clip590)\" d=\"M2836.19 415.009 L2836.19 417.092 L2816.61 417.092 Q2816.88 421.49 2819.25 423.805 Q2821.63 426.097 2825.87 426.097 Q2828.32 426.097 2830.61 425.495 Q2832.93 424.893 2835.19 423.689 L2835.19 427.717 Q2832.9 428.689 2830.5 429.199 Q2828.09 429.708 2825.61 429.708 Q2819.41 429.708 2815.77 426.097 Q2812.16 422.486 2812.16 416.328 Q2812.16 409.963 2815.59 406.236 Q2819.04 402.486 2824.87 402.486 Q2830.1 402.486 2833.13 405.865 Q2836.19 409.222 2836.19 415.009 M2831.93 413.759 Q2831.88 410.264 2829.96 408.18 Q2828.06 406.097 2824.92 406.097 Q2821.35 406.097 2819.2 408.111 Q2817.07 410.125 2816.75 413.782 L2831.93 413.759 Z\" fill=\"#000000\" fill-rule=\"evenodd\" fill-opacity=\"1\" /></svg>\n"
      ]
     },
     "metadata": {},
     "output_type": "display_data"
    },
    {
     "name": "stdout",
     "output_type": "stream",
     "text": [
      "  0.000117 seconds (318 allocations: 57.094 KiB)\n",
      "(k, predicted_saturation) = (13, 0.0445900559425354)\n"
     ]
    }
   ],
   "source": [
    "# ks = Primes.primes(3, 31)\n",
    "ks = Primes.primes(11, 31)\n",
    "minimum_k = first(ks)\n",
    "minimum_saturation = Inf\n",
    "midpoint = Inf\n",
    "for k in ks\n",
    "    kmer_type = BioSequences.DNAMer{k}\n",
    "    kmers_to_assess = 10_000_000\n",
    "    sampling_points, kmer_counts, read_entire_file = assess_kmer_saturation(fastq_file, kmer_type, kmers_to_assess=kmers_to_assess, power=power)\n",
    "    observed_midpoint_index = findfirst(i -> kmer_counts[i] > last(kmer_counts)/2, 1:length(sampling_points))\n",
    "    observed_midpoint = sampling_points[observed_midpoint_index]\n",
    "    initial_parameters = Float64[maximum(kmer_counts), observed_midpoint]\n",
    "    @time fit = LsqFit.curve_fit(calculate_v, sampling_points, kmer_counts, initial_parameters)\n",
    "    inferred_kmer_count = Int(ceil(fit.param[1]))\n",
    "    inferred_midpoint = Int(ceil(fit.param[2]))\n",
    "    predicted_saturation = inferred_kmer_count / max_canonical_kmers(kmer_type)\n",
    "    \n",
    "    if read_entire_file\n",
    "        predicted_saturation = last(kmer_counts)/max_canonical_kmers(kmer_type)\n",
    "    end\n",
    "    \n",
    "    @show k, predicted_saturation\n",
    "    \n",
    "    p = StatsPlots.scatter(\n",
    "        sampling_points,\n",
    "        kmer_counts,\n",
    "        label=\"observed kmer counts\",\n",
    "        ylabel=\"# unique kmers\",\n",
    "        xlabel=\"# kmers assessed\",\n",
    "        title = \"sequencing saturation @ k = $k\",\n",
    "        legend=:outertopright,\n",
    "        size=(800, 400)\n",
    "        )\n",
    "    StatsPlots.hline!(p, [max_canonical_kmers(kmer_type)], label=\"absolute maximum\")\n",
    "    StatsPlots.hline!(p, [inferred_kmer_count], label=\"inferred maximum\")\n",
    "    StatsPlots.vline!(p, [inferred_midpoint], label=\"inferred midpoint\")\n",
    "    xs = sort([sampling_points..., inferred_midpoint])\n",
    "    ys = calculate_v(xs, fit.param)\n",
    "    StatsPlots.plot!(\n",
    "        p,\n",
    "        xs,\n",
    "        ys,\n",
    "        label=\"fit trendline\")\n",
    "    display(p)\n",
    "    \n",
    "    if predicted_saturation < minimum_saturation\n",
    "        minimum_saturation = predicted_saturation\n",
    "        minimum_k = k\n",
    "        midpoint = inferred_midpoint \n",
    "    end\n",
    "    if predicted_saturation < 0.1\n",
    "        break\n",
    "    end\n",
    "end"
   ]
  },
  {
   "cell_type": "code",
   "execution_count": 39,
   "id": "10bf4b2e-df28-4106-96b0-8e231624976d",
   "metadata": {},
   "outputs": [
    {
     "data": {
      "text/plain": [
       "7025028"
      ]
     },
     "execution_count": 39,
     "metadata": {},
     "output_type": "execute_result"
    }
   ],
   "source": [
    "kmers_to_write = midpoint"
   ]
  },
  {
   "cell_type": "code",
   "execution_count": 40,
   "id": "01ddc0f5-7df5-4382-8247-d68d9506ee7a",
   "metadata": {},
   "outputs": [
    {
     "data": {
      "text/plain": [
       "13"
      ]
     },
     "execution_count": 40,
     "metadata": {},
     "output_type": "execute_result"
    }
   ],
   "source": [
    "k = minimum_k"
   ]
  },
  {
   "cell_type": "code",
   "execution_count": 41,
   "id": "687a2e49-9c95-4f4d-859f-ff9f3db23654",
   "metadata": {},
   "outputs": [
    {
     "data": {
      "text/plain": [
       "BioSequences.DNAMer{13} (alias for BioSequences.Mer{BioSequences.DNAAlphabet{2}, 13})"
      ]
     },
     "execution_count": 41,
     "metadata": {},
     "output_type": "execute_result"
    }
   ],
   "source": [
    "kmer_type = BioSequences.DNAMer{k}\n",
    "# kmers_per_read = read_lengths .- k .+ 1\n",
    "# total_kmers = sum(kmers_per_read)"
   ]
  },
  {
   "cell_type": "code",
   "execution_count": null,
   "id": "18c7f4c0-d8d9-41b7-b6ad-a95706594c6b",
   "metadata": {},
   "outputs": [],
   "source": [
    "# n_kmers = 0\n",
    "# reads_to_write = 0\n",
    "# for (i, kmers_in_read) in enumerate(kmers_per_read)\n",
    "#     n_kmers += kmers_in_read\n",
    "# #     if n_kmers > (midpoint * 2)\n",
    "#     if n_kmers > (midpoint)\n",
    "#         @show reads_to_write = i\n",
    "#         break\n",
    "#     end\n",
    "# end"
   ]
  },
  {
   "cell_type": "code",
   "execution_count": null,
   "id": "fe7848fd-706a-4fda-acfc-82a40ada357f",
   "metadata": {},
   "outputs": [],
   "source": [
    "# downsample reads to desired depth"
   ]
  },
  {
   "cell_type": "code",
   "execution_count": null,
   "id": "48178680-e1a3-4ba5-8a7b-87c8ac7b360d",
   "metadata": {},
   "outputs": [],
   "source": [
    "# subset_fastq_file = replace(sorted_fastq_file, \".sorted.fastq.gz\" => \".sorted.subset.fastq.gz\")\n",
    "# @time sort_fastq(fastq_file, sorted_fastq_file)\n",
    "# 62 minutes!"
   ]
  },
  {
   "cell_type": "code",
   "execution_count": 42,
   "id": "73a90c45-ff84-4b5d-bfc0-ad012f72b94e",
   "metadata": {},
   "outputs": [],
   "source": [
    "# io = CodecZlib.GzipCompressorStream(open(fastq_file, \"w\"))\n",
    "# fastx_io = FASTX.FASTQ.Writer(io)\n",
    "# kmers_written = 0\n",
    "# for (i, record) in enumerate(Mycelia.open_fastx(fastq_file))\n",
    "#     for kmer in BioSequences.each(kmer_type, FASTX.sequence(record))\n",
    "#         kmers_written += 1\n",
    "#     end\n",
    "#     write(fastx_io, record)\n",
    "#     if kmers_written >= kmers_to_write\n",
    "#         @info \"$i records written\"\n",
    "#         break\n",
    "#     end\n",
    "# end\n",
    "# close(fastx_io)\n",
    "# close(io)"
   ]
  },
  {
   "cell_type": "code",
   "execution_count": null,
   "id": "bef9b2b8-5686-4e32-ac35-9df990d9f699",
   "metadata": {},
   "outputs": [],
   "source": [
    "# determine_read_lengths(subset_fastq_file)"
   ]
  },
  {
   "cell_type": "code",
   "execution_count": null,
   "id": "ba6c0e02-1711-444d-8d8f-5df37613199a",
   "metadata": {},
   "outputs": [],
   "source": [
    "# plot kmer spectra frequency"
   ]
  },
  {
   "cell_type": "code",
   "execution_count": 46,
   "id": "1582e3f7-ff45-43a2-a623-c79e2b488878",
   "metadata": {},
   "outputs": [
    {
     "name": "stdout",
     "output_type": "stream",
     "text": [
      "  1.952205 seconds (759.46 k allocations: 340.748 MiB, 2.69% gc time, 20.85% compilation time)\n"
     ]
    },
    {
     "data": {
      "text/plain": [
       "OrderedCollections.OrderedDict{BioSequences.DNAMer{13}, Int64} with 1495980 entries:\n",
       "  AAAAAAAAAAGTC => 1\n",
       "  AAAAAAAAACTAT => 1\n",
       "  AAAAAAAAAGTCT => 1\n",
       "  AAAAAAAACGTAT => 1\n",
       "  AAAAAAAACTATC => 1\n",
       "  AAAAAAAACTTAT => 1\n",
       "  AAAAAAAACTTGA => 1\n",
       "  AAAAAAAAGATTA => 1\n",
       "  AAAAAAAAGCAGG => 2\n",
       "  AAAAAAAAGTCTC => 1\n",
       "  AAAAAAACAGATA => 1\n",
       "  AAAAAAACAGATT => 4\n",
       "  AAAAAAACAGTTG => 1\n",
       "  AAAAAAACATTCC => 1\n",
       "  AAAAAAACATTGT => 1\n",
       "  AAAAAAACCGAGT => 1\n",
       "  AAAAAAACCGTAT => 1\n",
       "  AAAAAAACCTGTA => 1\n",
       "  AAAAAAACGTAAG => 1\n",
       "  AAAAAAACGTATA => 1\n",
       "  AAAAAAACGTATC => 2\n",
       "  AAAAAAACTAGAT => 1\n",
       "  AAAAAAACTATCA => 1\n",
       "  AAAAAAACTCGTA => 1\n",
       "  AAAAAAACTCTGG => 1\n",
       "  ⋮             => ⋮"
      ]
     },
     "execution_count": 46,
     "metadata": {},
     "output_type": "execute_result"
    }
   ],
   "source": [
    "# 691.364224 seconds\n",
    "@time kmer_counts = Mycelia.count_canonical_kmers(kmer_type, fastq_file)"
   ]
  },
  {
   "cell_type": "code",
   "execution_count": 47,
   "id": "e26a234e-4a7a-49fc-9f9b-3724bda7d4f6",
   "metadata": {},
   "outputs": [
    {
     "data": {
      "image/svg+xml": [
       "<?xml version=\"1.0\" encoding=\"utf-8\"?>\n",
       "<svg xmlns=\"http://www.w3.org/2000/svg\" xmlns:xlink=\"http://www.w3.org/1999/xlink\" width=\"600\" height=\"400\" viewBox=\"0 0 2400 1600\">\n",
       "<defs>\n",
       "  <clipPath id=\"clip630\">\n",
       "    <rect x=\"0\" y=\"0\" width=\"2400\" height=\"1600\"/>\n",
       "  </clipPath>\n",
       "</defs>\n",
       "<path clip-path=\"url(#clip630)\" d=\"\n",
       "M0 1600 L2400 1600 L2400 0 L0 0  Z\n",
       "  \" fill=\"#ffffff\" fill-rule=\"evenodd\" fill-opacity=\"1\"/>\n",
       "<defs>\n",
       "  <clipPath id=\"clip631\">\n",
       "    <rect x=\"480\" y=\"0\" width=\"1681\" height=\"1600\"/>\n",
       "  </clipPath>\n",
       "</defs>\n",
       "<path clip-path=\"url(#clip630)\" d=\"\n",
       "M202.227 1423.18 L2352.76 1423.18 L2352.76 47.2441 L202.227 47.2441  Z\n",
       "  \" fill=\"#ffffff\" fill-rule=\"evenodd\" fill-opacity=\"1\"/>\n",
       "<defs>\n",
       "  <clipPath id=\"clip632\">\n",
       "    <rect x=\"202\" y=\"47\" width=\"2152\" height=\"1377\"/>\n",
       "  </clipPath>\n",
       "</defs>\n",
       "<polyline clip-path=\"url(#clip632)\" style=\"stroke:#000000; stroke-linecap:butt; stroke-linejoin:round; stroke-width:2; stroke-opacity:0.1; fill:none\" points=\"\n",
       "  202.227,1423.18 202.227,47.2441 \n",
       "  \"/>\n",
       "<polyline clip-path=\"url(#clip632)\" style=\"stroke:#000000; stroke-linecap:butt; stroke-linejoin:round; stroke-width:2; stroke-opacity:0.1; fill:none\" points=\"\n",
       "  543.134,1423.18 543.134,47.2441 \n",
       "  \"/>\n",
       "<polyline clip-path=\"url(#clip632)\" style=\"stroke:#000000; stroke-linecap:butt; stroke-linejoin:round; stroke-width:2; stroke-opacity:0.1; fill:none\" points=\"\n",
       "  884.04,1423.18 884.04,47.2441 \n",
       "  \"/>\n",
       "<polyline clip-path=\"url(#clip632)\" style=\"stroke:#000000; stroke-linecap:butt; stroke-linejoin:round; stroke-width:2; stroke-opacity:0.1; fill:none\" points=\"\n",
       "  1224.95,1423.18 1224.95,47.2441 \n",
       "  \"/>\n",
       "<polyline clip-path=\"url(#clip632)\" style=\"stroke:#000000; stroke-linecap:butt; stroke-linejoin:round; stroke-width:2; stroke-opacity:0.1; fill:none\" points=\"\n",
       "  1565.85,1423.18 1565.85,47.2441 \n",
       "  \"/>\n",
       "<polyline clip-path=\"url(#clip632)\" style=\"stroke:#000000; stroke-linecap:butt; stroke-linejoin:round; stroke-width:2; stroke-opacity:0.1; fill:none\" points=\"\n",
       "  1906.76,1423.18 1906.76,47.2441 \n",
       "  \"/>\n",
       "<polyline clip-path=\"url(#clip632)\" style=\"stroke:#000000; stroke-linecap:butt; stroke-linejoin:round; stroke-width:2; stroke-opacity:0.1; fill:none\" points=\"\n",
       "  2247.67,1423.18 2247.67,47.2441 \n",
       "  \"/>\n",
       "<polyline clip-path=\"url(#clip630)\" style=\"stroke:#000000; stroke-linecap:butt; stroke-linejoin:round; stroke-width:4; stroke-opacity:1; fill:none\" points=\"\n",
       "  202.227,1423.18 2352.76,1423.18 \n",
       "  \"/>\n",
       "<polyline clip-path=\"url(#clip630)\" style=\"stroke:#000000; stroke-linecap:butt; stroke-linejoin:round; stroke-width:4; stroke-opacity:1; fill:none\" points=\"\n",
       "  202.227,1423.18 202.227,1404.28 \n",
       "  \"/>\n",
       "<polyline clip-path=\"url(#clip630)\" style=\"stroke:#000000; stroke-linecap:butt; stroke-linejoin:round; stroke-width:4; stroke-opacity:1; fill:none\" points=\"\n",
       "  543.134,1423.18 543.134,1404.28 \n",
       "  \"/>\n",
       "<polyline clip-path=\"url(#clip630)\" style=\"stroke:#000000; stroke-linecap:butt; stroke-linejoin:round; stroke-width:4; stroke-opacity:1; fill:none\" points=\"\n",
       "  884.04,1423.18 884.04,1404.28 \n",
       "  \"/>\n",
       "<polyline clip-path=\"url(#clip630)\" style=\"stroke:#000000; stroke-linecap:butt; stroke-linejoin:round; stroke-width:4; stroke-opacity:1; fill:none\" points=\"\n",
       "  1224.95,1423.18 1224.95,1404.28 \n",
       "  \"/>\n",
       "<polyline clip-path=\"url(#clip630)\" style=\"stroke:#000000; stroke-linecap:butt; stroke-linejoin:round; stroke-width:4; stroke-opacity:1; fill:none\" points=\"\n",
       "  1565.85,1423.18 1565.85,1404.28 \n",
       "  \"/>\n",
       "<polyline clip-path=\"url(#clip630)\" style=\"stroke:#000000; stroke-linecap:butt; stroke-linejoin:round; stroke-width:4; stroke-opacity:1; fill:none\" points=\"\n",
       "  1906.76,1423.18 1906.76,1404.28 \n",
       "  \"/>\n",
       "<polyline clip-path=\"url(#clip630)\" style=\"stroke:#000000; stroke-linecap:butt; stroke-linejoin:round; stroke-width:4; stroke-opacity:1; fill:none\" points=\"\n",
       "  2247.67,1423.18 2247.67,1404.28 \n",
       "  \"/>\n",
       "<path clip-path=\"url(#clip630)\" d=\"M202.227 1452.37 Q198.616 1452.37 196.788 1455.94 Q194.982 1459.48 194.982 1466.61 Q194.982 1473.71 196.788 1477.28 Q198.616 1480.82 202.227 1480.82 Q205.862 1480.82 207.667 1477.28 Q209.496 1473.71 209.496 1466.61 Q209.496 1459.48 207.667 1455.94 Q205.862 1452.37 202.227 1452.37 M202.227 1448.67 Q208.038 1448.67 211.093 1453.27 Q214.172 1457.86 214.172 1466.61 Q214.172 1475.33 211.093 1479.94 Q208.038 1484.52 202.227 1484.52 Q196.417 1484.52 193.339 1479.94 Q190.283 1475.33 190.283 1466.61 Q190.283 1457.86 193.339 1453.27 Q196.417 1448.67 202.227 1448.67 Z\" fill=\"#000000\" fill-rule=\"evenodd\" fill-opacity=\"1\" /><path clip-path=\"url(#clip630)\" d=\"M533.516 1479.92 L541.155 1479.92 L541.155 1453.55 L532.845 1455.22 L532.845 1450.96 L541.108 1449.29 L545.784 1449.29 L545.784 1479.92 L553.423 1479.92 L553.423 1483.85 L533.516 1483.85 L533.516 1479.92 Z\" fill=\"#000000\" fill-rule=\"evenodd\" fill-opacity=\"1\" /><path clip-path=\"url(#clip630)\" d=\"M878.693 1479.92 L895.012 1479.92 L895.012 1483.85 L873.068 1483.85 L873.068 1479.92 Q875.73 1477.16 880.313 1472.53 Q884.92 1467.88 886.1 1466.54 Q888.346 1464.01 889.225 1462.28 Q890.128 1460.52 890.128 1458.83 Q890.128 1456.07 888.184 1454.34 Q886.262 1452.6 883.161 1452.6 Q880.961 1452.6 878.508 1453.37 Q876.077 1454.13 873.299 1455.68 L873.299 1450.96 Q876.124 1449.82 878.577 1449.25 Q881.031 1448.67 883.068 1448.67 Q888.438 1448.67 891.633 1451.35 Q894.827 1454.04 894.827 1458.53 Q894.827 1460.66 894.017 1462.58 Q893.23 1464.48 891.123 1467.07 Q890.545 1467.74 887.443 1470.96 Q884.341 1474.15 878.693 1479.92 Z\" fill=\"#000000\" fill-rule=\"evenodd\" fill-opacity=\"1\" /><path clip-path=\"url(#clip630)\" d=\"M1229.19 1465.22 Q1232.55 1465.94 1234.43 1468.2 Q1236.32 1470.47 1236.32 1473.81 Q1236.32 1478.92 1232.81 1481.72 Q1229.29 1484.52 1222.81 1484.52 Q1220.63 1484.52 1218.31 1484.08 Q1216.02 1483.67 1213.57 1482.81 L1213.57 1478.3 Q1215.51 1479.43 1217.83 1480.01 Q1220.14 1480.59 1222.67 1480.59 Q1227.06 1480.59 1229.36 1478.85 Q1231.67 1477.12 1231.67 1473.81 Q1231.67 1470.75 1229.52 1469.04 Q1227.39 1467.3 1223.57 1467.3 L1219.54 1467.3 L1219.54 1463.46 L1223.75 1463.46 Q1227.2 1463.46 1229.03 1462.09 Q1230.86 1460.7 1230.86 1458.11 Q1230.86 1455.45 1228.96 1454.04 Q1227.09 1452.6 1223.57 1452.6 Q1221.65 1452.6 1219.45 1453.02 Q1217.25 1453.44 1214.61 1454.31 L1214.61 1450.15 Q1217.27 1449.41 1219.59 1449.04 Q1221.93 1448.67 1223.99 1448.67 Q1229.31 1448.67 1232.41 1451.1 Q1235.51 1453.5 1235.51 1457.63 Q1235.51 1460.5 1233.87 1462.49 Q1232.23 1464.45 1229.19 1465.22 Z\" fill=\"#000000\" fill-rule=\"evenodd\" fill-opacity=\"1\" /><path clip-path=\"url(#clip630)\" d=\"M1568.86 1453.37 L1557.06 1471.81 L1568.86 1471.81 L1568.86 1453.37 M1567.64 1449.29 L1573.51 1449.29 L1573.51 1471.81 L1578.45 1471.81 L1578.45 1475.7 L1573.51 1475.7 L1573.51 1483.85 L1568.86 1483.85 L1568.86 1475.7 L1553.26 1475.7 L1553.26 1471.19 L1567.64 1449.29 Z\" fill=\"#000000\" fill-rule=\"evenodd\" fill-opacity=\"1\" /><path clip-path=\"url(#clip630)\" d=\"M1897.04 1449.29 L1915.39 1449.29 L1915.39 1453.23 L1901.32 1453.23 L1901.32 1461.7 Q1902.34 1461.35 1903.36 1461.19 Q1904.37 1461 1905.39 1461 Q1911.18 1461 1914.56 1464.18 Q1917.94 1467.35 1917.94 1472.76 Q1917.94 1478.34 1914.47 1481.44 Q1911 1484.52 1904.68 1484.52 Q1902.5 1484.52 1900.23 1484.15 Q1897.99 1483.78 1895.58 1483.04 L1895.58 1478.34 Q1897.66 1479.48 1899.88 1480.03 Q1902.11 1480.59 1904.58 1480.59 Q1908.59 1480.59 1910.93 1478.48 Q1913.26 1476.38 1913.26 1472.76 Q1913.26 1469.15 1910.93 1467.05 Q1908.59 1464.94 1904.58 1464.94 Q1902.71 1464.94 1900.83 1465.36 Q1898.98 1465.77 1897.04 1466.65 L1897.04 1449.29 Z\" fill=\"#000000\" fill-rule=\"evenodd\" fill-opacity=\"1\" /><path clip-path=\"url(#clip630)\" d=\"M2248.07 1464.71 Q2244.92 1464.71 2243.07 1466.86 Q2241.24 1469.01 2241.24 1472.76 Q2241.24 1476.49 2243.07 1478.67 Q2244.92 1480.82 2248.07 1480.82 Q2251.22 1480.82 2253.05 1478.67 Q2254.9 1476.49 2254.9 1472.76 Q2254.9 1469.01 2253.05 1466.86 Q2251.22 1464.71 2248.07 1464.71 M2257.35 1450.06 L2257.35 1454.31 Q2255.59 1453.48 2253.79 1453.04 Q2252.01 1452.6 2250.25 1452.6 Q2245.62 1452.6 2243.16 1455.73 Q2240.73 1458.85 2240.39 1465.17 Q2241.75 1463.16 2243.81 1462.09 Q2245.87 1461 2248.35 1461 Q2253.56 1461 2256.57 1464.18 Q2259.6 1467.32 2259.6 1472.76 Q2259.6 1478.09 2256.45 1481.31 Q2253.3 1484.52 2248.07 1484.52 Q2242.08 1484.52 2238.9 1479.94 Q2235.73 1475.33 2235.73 1466.61 Q2235.73 1458.41 2239.62 1453.55 Q2243.51 1448.67 2250.06 1448.67 Q2251.82 1448.67 2253.6 1449.01 Q2255.41 1449.36 2257.35 1450.06 Z\" fill=\"#000000\" fill-rule=\"evenodd\" fill-opacity=\"1\" /><path clip-path=\"url(#clip630)\" d=\"M883.327 1518.52 L889.184 1518.52 L889.184 1568.04 L883.327 1568.04 L883.327 1518.52 Z\" fill=\"#000000\" fill-rule=\"evenodd\" fill-opacity=\"1\" /><path clip-path=\"url(#clip630)\" d=\"M915.251 1536.5 Q910.541 1536.5 907.803 1540.19 Q905.066 1543.85 905.066 1550.25 Q905.066 1556.65 907.771 1560.34 Q910.509 1564 915.251 1564 Q919.93 1564 922.667 1560.31 Q925.404 1556.62 925.404 1550.25 Q925.404 1543.92 922.667 1540.23 Q919.93 1536.5 915.251 1536.5 M915.251 1531.54 Q922.89 1531.54 927.251 1536.5 Q931.611 1541.47 931.611 1550.25 Q931.611 1559 927.251 1564 Q922.89 1568.97 915.251 1568.97 Q907.58 1568.97 903.22 1564 Q898.891 1559 898.891 1550.25 Q898.891 1541.47 903.22 1536.5 Q907.58 1531.54 915.251 1531.54 Z\" fill=\"#000000\" fill-rule=\"evenodd\" fill-opacity=\"1\" /><path clip-path=\"url(#clip630)\" d=\"M964.776 1549.81 Q964.776 1543.44 962.135 1539.94 Q959.525 1536.44 954.782 1536.44 Q950.072 1536.44 947.43 1539.94 Q944.82 1543.44 944.82 1549.81 Q944.82 1556.14 947.43 1559.64 Q950.072 1563.14 954.782 1563.14 Q959.525 1563.14 962.135 1559.64 Q964.776 1556.14 964.776 1549.81 M970.633 1563.62 Q970.633 1572.72 966.591 1577.15 Q962.548 1581.6 954.209 1581.6 Q951.122 1581.6 948.385 1581.13 Q945.647 1580.68 943.069 1579.72 L943.069 1574.03 Q945.647 1575.43 948.162 1576.1 Q950.676 1576.76 953.286 1576.76 Q959.047 1576.76 961.912 1573.74 Q964.776 1570.75 964.776 1564.67 L964.776 1561.77 Q962.962 1564.92 960.129 1566.48 Q957.297 1568.04 953.35 1568.04 Q946.793 1568.04 942.783 1563.05 Q938.772 1558.05 938.772 1549.81 Q938.772 1541.53 942.783 1536.53 Q946.793 1531.54 953.35 1531.54 Q957.297 1531.54 960.129 1533.1 Q962.962 1534.66 964.776 1537.81 L964.776 1532.4 L970.633 1532.4 L970.633 1563.62 Z\" fill=\"#000000\" fill-rule=\"evenodd\" fill-opacity=\"1\" /><path clip-path=\"url(#clip630)\" d=\"M996.764 1518.58 Q992.499 1525.9 990.43 1533.06 Q988.361 1540.23 988.361 1547.58 Q988.361 1554.93 990.43 1562.16 Q992.531 1569.35 996.764 1576.64 L991.671 1576.64 Q986.897 1569.16 984.51 1561.93 Q982.155 1554.71 982.155 1547.58 Q982.155 1540.48 984.51 1533.29 Q986.865 1526.09 991.671 1518.58 L996.764 1518.58 Z\" fill=\"#000000\" fill-rule=\"evenodd\" fill-opacity=\"1\" /><path clip-path=\"url(#clip630)\" d=\"M1021.94 1536.5 Q1017.23 1536.5 1014.49 1540.19 Q1011.76 1543.85 1011.76 1550.25 Q1011.76 1556.65 1014.46 1560.34 Q1017.2 1564 1021.94 1564 Q1026.62 1564 1029.36 1560.31 Q1032.09 1556.62 1032.09 1550.25 Q1032.09 1543.92 1029.36 1540.23 Q1026.62 1536.5 1021.94 1536.5 M1021.94 1531.54 Q1029.58 1531.54 1033.94 1536.5 Q1038.3 1541.47 1038.3 1550.25 Q1038.3 1559 1033.94 1564 Q1029.58 1568.97 1021.94 1568.97 Q1014.27 1568.97 1009.91 1564 Q1005.58 1559 1005.58 1550.25 Q1005.58 1541.47 1009.91 1536.5 Q1014.27 1531.54 1021.94 1531.54 Z\" fill=\"#000000\" fill-rule=\"evenodd\" fill-opacity=\"1\" /><path clip-path=\"url(#clip630)\" d=\"M1073.6 1550.25 Q1073.6 1543.79 1070.92 1540.13 Q1068.28 1536.44 1063.64 1536.44 Q1058.99 1536.44 1056.32 1540.13 Q1053.67 1543.79 1053.67 1550.25 Q1053.67 1556.71 1056.32 1560.4 Q1058.99 1564.07 1063.64 1564.07 Q1068.28 1564.07 1070.92 1560.4 Q1073.6 1556.71 1073.6 1550.25 M1053.67 1537.81 Q1055.52 1534.62 1058.32 1533.1 Q1061.15 1531.54 1065.07 1531.54 Q1071.56 1531.54 1075.6 1536.69 Q1079.68 1541.85 1079.68 1550.25 Q1079.68 1558.65 1075.6 1563.81 Q1071.56 1568.97 1065.07 1568.97 Q1061.15 1568.97 1058.32 1567.44 Q1055.52 1565.88 1053.67 1562.7 L1053.67 1568.04 L1047.79 1568.04 L1047.79 1518.52 L1053.67 1518.52 L1053.67 1537.81 Z\" fill=\"#000000\" fill-rule=\"evenodd\" fill-opacity=\"1\" /><path clip-path=\"url(#clip630)\" d=\"M1112.11 1533.45 L1112.11 1538.98 Q1109.63 1537.71 1106.95 1537.07 Q1104.28 1536.44 1101.42 1536.44 Q1097.06 1536.44 1094.86 1537.77 Q1092.7 1539.11 1092.7 1541.79 Q1092.7 1543.82 1094.25 1545 Q1095.81 1546.15 1100.53 1547.2 L1102.53 1547.64 Q1108.77 1548.98 1111.38 1551.43 Q1114.02 1553.85 1114.02 1558.21 Q1114.02 1563.17 1110.07 1566.07 Q1106.16 1568.97 1099.28 1568.97 Q1096.42 1568.97 1093.3 1568.39 Q1090.21 1567.85 1086.78 1566.74 L1086.78 1560.69 Q1090.02 1562.38 1093.17 1563.24 Q1096.32 1564.07 1099.41 1564.07 Q1103.55 1564.07 1105.78 1562.66 Q1108 1561.23 1108 1558.65 Q1108 1556.27 1106.38 1554.99 Q1104.79 1553.72 1099.35 1552.54 L1097.31 1552.07 Q1091.87 1550.92 1089.45 1548.56 Q1087.03 1546.18 1087.03 1542.04 Q1087.03 1537.01 1090.59 1534.27 Q1094.16 1531.54 1100.72 1531.54 Q1103.96 1531.54 1106.83 1532.01 Q1109.69 1532.49 1112.11 1533.45 Z\" fill=\"#000000\" fill-rule=\"evenodd\" fill-opacity=\"1\" /><path clip-path=\"url(#clip630)\" d=\"M1153.84 1548.76 L1153.84 1551.62 L1126.91 1551.62 Q1127.29 1557.67 1130.54 1560.85 Q1133.82 1564 1139.64 1564 Q1143.02 1564 1146.17 1563.17 Q1149.35 1562.35 1152.47 1560.69 L1152.47 1566.23 Q1149.32 1567.57 1146.01 1568.27 Q1142.7 1568.97 1139.29 1568.97 Q1130.76 1568.97 1125.77 1564 Q1120.8 1559.04 1120.8 1550.57 Q1120.8 1541.82 1125.51 1536.69 Q1130.25 1531.54 1138.27 1531.54 Q1145.47 1531.54 1149.64 1536.18 Q1153.84 1540.8 1153.84 1548.76 M1147.98 1547.04 Q1147.92 1542.23 1145.28 1539.37 Q1142.67 1536.5 1138.34 1536.5 Q1133.44 1536.5 1130.48 1539.27 Q1127.55 1542.04 1127.1 1547.07 L1147.98 1547.04 Z\" fill=\"#000000\" fill-rule=\"evenodd\" fill-opacity=\"1\" /><path clip-path=\"url(#clip630)\" d=\"M1184.11 1537.87 Q1183.12 1537.3 1181.94 1537.04 Q1180.8 1536.76 1179.4 1536.76 Q1174.43 1536.76 1171.76 1540 Q1169.12 1543.22 1169.12 1549.27 L1169.12 1568.04 L1163.23 1568.04 L1163.23 1532.4 L1169.12 1532.4 L1169.12 1537.93 Q1170.96 1534.69 1173.92 1533.13 Q1176.88 1531.54 1181.11 1531.54 Q1181.72 1531.54 1182.45 1531.63 Q1183.18 1531.7 1184.07 1531.85 L1184.11 1537.87 Z\" fill=\"#000000\" fill-rule=\"evenodd\" fill-opacity=\"1\" /><path clip-path=\"url(#clip630)\" d=\"M1186.05 1532.4 L1192.25 1532.4 L1203.39 1562.31 L1214.53 1532.4 L1220.74 1532.4 L1207.37 1568.04 L1199.42 1568.04 L1186.05 1532.4 Z\" fill=\"#000000\" fill-rule=\"evenodd\" fill-opacity=\"1\" /><path clip-path=\"url(#clip630)\" d=\"M1259.32 1548.76 L1259.32 1551.62 L1232.39 1551.62 Q1232.77 1557.67 1236.02 1560.85 Q1239.3 1564 1245.12 1564 Q1248.5 1564 1251.65 1563.17 Q1254.83 1562.35 1257.95 1560.69 L1257.95 1566.23 Q1254.8 1567.57 1251.49 1568.27 Q1248.18 1568.97 1244.77 1568.97 Q1236.24 1568.97 1231.24 1564 Q1226.28 1559.04 1226.28 1550.57 Q1226.28 1541.82 1230.99 1536.69 Q1235.73 1531.54 1243.75 1531.54 Q1250.95 1531.54 1255.12 1536.18 Q1259.32 1540.8 1259.32 1548.76 M1253.46 1547.04 Q1253.4 1542.23 1250.76 1539.37 Q1248.15 1536.5 1243.82 1536.5 Q1238.92 1536.5 1235.96 1539.27 Q1233.03 1542.04 1232.58 1547.07 L1253.46 1547.04 Z\" fill=\"#000000\" fill-rule=\"evenodd\" fill-opacity=\"1\" /><path clip-path=\"url(#clip630)\" d=\"M1292.39 1537.81 L1292.39 1518.52 L1298.24 1518.52 L1298.24 1568.04 L1292.39 1568.04 L1292.39 1562.7 Q1290.54 1565.88 1287.71 1567.44 Q1284.91 1568.97 1280.96 1568.97 Q1274.5 1568.97 1270.43 1563.81 Q1266.38 1558.65 1266.38 1550.25 Q1266.38 1541.85 1270.43 1536.69 Q1274.5 1531.54 1280.96 1531.54 Q1284.91 1531.54 1287.71 1533.1 Q1290.54 1534.62 1292.39 1537.81 M1272.43 1550.25 Q1272.43 1556.71 1275.07 1560.4 Q1277.75 1564.07 1282.39 1564.07 Q1287.04 1564.07 1289.71 1560.4 Q1292.39 1556.71 1292.39 1550.25 Q1292.39 1543.79 1289.71 1540.13 Q1287.04 1536.44 1282.39 1536.44 Q1277.75 1536.44 1275.07 1540.13 Q1272.43 1543.79 1272.43 1550.25 Z\" fill=\"#000000\" fill-rule=\"evenodd\" fill-opacity=\"1\" /><path clip-path=\"url(#clip630)\" d=\"M1349.07 1518.52 L1349.07 1523.39 L1343.47 1523.39 Q1340.32 1523.39 1339.08 1524.66 Q1337.87 1525.93 1337.87 1529.24 L1337.87 1532.4 L1347.51 1532.4 L1347.51 1536.95 L1337.87 1536.95 L1337.87 1568.04 L1331.98 1568.04 L1331.98 1536.95 L1326.38 1536.95 L1326.38 1532.4 L1331.98 1532.4 L1331.98 1529.91 Q1331.98 1523.96 1334.75 1521.26 Q1337.52 1518.52 1343.54 1518.52 L1349.07 1518.52 Z\" fill=\"#000000\" fill-rule=\"evenodd\" fill-opacity=\"1\" /><path clip-path=\"url(#clip630)\" d=\"M1374.63 1537.87 Q1373.65 1537.3 1372.47 1537.04 Q1371.32 1536.76 1369.92 1536.76 Q1364.96 1536.76 1362.28 1540 Q1359.64 1543.22 1359.64 1549.27 L1359.64 1568.04 L1353.75 1568.04 L1353.75 1532.4 L1359.64 1532.4 L1359.64 1537.93 Q1361.49 1534.69 1364.45 1533.13 Q1367.41 1531.54 1371.64 1531.54 Q1372.25 1531.54 1372.98 1531.63 Q1373.71 1531.7 1374.6 1531.85 L1374.63 1537.87 Z\" fill=\"#000000\" fill-rule=\"evenodd\" fill-opacity=\"1\" /><path clip-path=\"url(#clip630)\" d=\"M1409.83 1548.76 L1409.83 1551.62 L1382.91 1551.62 Q1383.29 1557.67 1386.54 1560.85 Q1389.81 1564 1395.64 1564 Q1399.01 1564 1402.16 1563.17 Q1405.35 1562.35 1408.47 1560.69 L1408.47 1566.23 Q1405.32 1567.57 1402 1568.27 Q1398.69 1568.97 1395.29 1568.97 Q1386.76 1568.97 1381.76 1564 Q1376.8 1559.04 1376.8 1550.57 Q1376.8 1541.82 1381.51 1536.69 Q1386.25 1531.54 1394.27 1531.54 Q1401.46 1531.54 1405.63 1536.18 Q1409.83 1540.8 1409.83 1548.76 M1403.98 1547.04 Q1403.91 1542.23 1401.27 1539.37 Q1398.66 1536.5 1394.33 1536.5 Q1389.43 1536.5 1386.47 1539.27 Q1383.54 1542.04 1383.1 1547.07 L1403.98 1547.04 Z\" fill=\"#000000\" fill-rule=\"evenodd\" fill-opacity=\"1\" /><path clip-path=\"url(#clip630)\" d=\"M1422.95 1550.25 Q1422.95 1556.71 1425.59 1560.4 Q1428.26 1564.07 1432.91 1564.07 Q1437.56 1564.07 1440.23 1560.4 Q1442.9 1556.71 1442.9 1550.25 Q1442.9 1543.79 1440.23 1540.13 Q1437.56 1536.44 1432.91 1536.44 Q1428.26 1536.44 1425.59 1540.13 Q1422.95 1543.79 1422.95 1550.25 M1442.9 1562.7 Q1441.06 1565.88 1438.23 1567.44 Q1435.42 1568.97 1431.48 1568.97 Q1425.02 1568.97 1420.94 1563.81 Q1416.9 1558.65 1416.9 1550.25 Q1416.9 1541.85 1420.94 1536.69 Q1425.02 1531.54 1431.48 1531.54 Q1435.42 1531.54 1438.23 1533.1 Q1441.06 1534.62 1442.9 1537.81 L1442.9 1532.4 L1448.76 1532.4 L1448.76 1581.6 L1442.9 1581.6 L1442.9 1562.7 Z\" fill=\"#000000\" fill-rule=\"evenodd\" fill-opacity=\"1\" /><path clip-path=\"url(#clip630)\" d=\"M1460.22 1553.98 L1460.22 1532.4 L1466.08 1532.4 L1466.08 1553.75 Q1466.08 1558.81 1468.05 1561.36 Q1470.02 1563.87 1473.97 1563.87 Q1478.71 1563.87 1481.45 1560.85 Q1484.22 1557.83 1484.22 1552.61 L1484.22 1532.4 L1490.07 1532.4 L1490.07 1568.04 L1484.22 1568.04 L1484.22 1562.57 Q1482.09 1565.82 1479.25 1567.41 Q1476.45 1568.97 1472.73 1568.97 Q1466.59 1568.97 1463.4 1565.15 Q1460.22 1561.33 1460.22 1553.98 M1474.96 1531.54 L1474.96 1531.54 Z\" fill=\"#000000\" fill-rule=\"evenodd\" fill-opacity=\"1\" /><path clip-path=\"url(#clip630)\" d=\"M1532.63 1548.76 L1532.63 1551.62 L1505.7 1551.62 Q1506.08 1557.67 1509.33 1560.85 Q1512.61 1564 1518.43 1564 Q1521.81 1564 1524.96 1563.17 Q1528.14 1562.35 1531.26 1560.69 L1531.26 1566.23 Q1528.11 1567.57 1524.8 1568.27 Q1521.49 1568.97 1518.08 1568.97 Q1509.55 1568.97 1504.56 1564 Q1499.59 1559.04 1499.59 1550.57 Q1499.59 1541.82 1504.3 1536.69 Q1509.04 1531.54 1517.07 1531.54 Q1524.26 1531.54 1528.43 1536.18 Q1532.63 1540.8 1532.63 1548.76 M1526.77 1547.04 Q1526.71 1542.23 1524.07 1539.37 Q1521.46 1536.5 1517.13 1536.5 Q1512.23 1536.5 1509.27 1539.27 Q1506.34 1542.04 1505.89 1547.07 L1526.77 1547.04 Z\" fill=\"#000000\" fill-rule=\"evenodd\" fill-opacity=\"1\" /><path clip-path=\"url(#clip630)\" d=\"M1571.87 1546.53 L1571.87 1568.04 L1566.02 1568.04 L1566.02 1546.72 Q1566.02 1541.66 1564.04 1539.14 Q1562.07 1536.63 1558.12 1536.63 Q1553.38 1536.63 1550.64 1539.65 Q1547.91 1542.68 1547.91 1547.9 L1547.91 1568.04 L1542.02 1568.04 L1542.02 1532.4 L1547.91 1532.4 L1547.91 1537.93 Q1550.01 1534.72 1552.84 1533.13 Q1555.7 1531.54 1559.43 1531.54 Q1565.57 1531.54 1568.72 1535.36 Q1571.87 1539.14 1571.87 1546.53 Z\" fill=\"#000000\" fill-rule=\"evenodd\" fill-opacity=\"1\" /><path clip-path=\"url(#clip630)\" d=\"M1609.21 1533.76 L1609.21 1539.24 Q1606.73 1537.87 1604.21 1537.2 Q1601.73 1536.5 1599.18 1536.5 Q1593.49 1536.5 1590.33 1540.13 Q1587.18 1543.73 1587.18 1550.25 Q1587.18 1556.78 1590.33 1560.4 Q1593.49 1564 1599.18 1564 Q1601.73 1564 1604.21 1563.33 Q1606.73 1562.63 1609.21 1561.26 L1609.21 1566.68 Q1606.76 1567.82 1604.12 1568.39 Q1601.51 1568.97 1598.55 1568.97 Q1590.49 1568.97 1585.75 1563.91 Q1581.01 1558.85 1581.01 1550.25 Q1581.01 1541.53 1585.78 1536.53 Q1590.59 1531.54 1598.93 1531.54 Q1601.63 1531.54 1604.21 1532.11 Q1606.79 1532.65 1609.21 1533.76 Z\" fill=\"#000000\" fill-rule=\"evenodd\" fill-opacity=\"1\" /><path clip-path=\"url(#clip630)\" d=\"M1634.23 1571.35 Q1631.74 1577.72 1629.39 1579.66 Q1627.03 1581.6 1623.09 1581.6 L1618.41 1581.6 L1618.41 1576.7 L1621.84 1576.7 Q1624.26 1576.7 1625.6 1575.56 Q1626.94 1574.41 1628.56 1570.14 L1629.61 1567.47 L1615.19 1532.4 L1621.4 1532.4 L1632.54 1560.28 L1643.68 1532.4 L1649.89 1532.4 L1634.23 1571.35 Z\" fill=\"#000000\" fill-rule=\"evenodd\" fill-opacity=\"1\" /><path clip-path=\"url(#clip630)\" d=\"M1657.05 1518.58 L1662.14 1518.58 Q1666.91 1526.09 1669.27 1533.29 Q1671.66 1540.48 1671.66 1547.58 Q1671.66 1554.71 1669.27 1561.93 Q1666.91 1569.16 1662.14 1576.64 L1657.05 1576.64 Q1661.28 1569.35 1663.35 1562.16 Q1665.45 1554.93 1665.45 1547.58 Q1665.45 1540.23 1663.35 1533.06 Q1661.28 1525.9 1657.05 1518.58 Z\" fill=\"#000000\" fill-rule=\"evenodd\" fill-opacity=\"1\" /><polyline clip-path=\"url(#clip632)\" style=\"stroke:#000000; stroke-linecap:butt; stroke-linejoin:round; stroke-width:2; stroke-opacity:0.1; fill:none\" points=\"\n",
       "  202.227,1423.18 2352.76,1423.18 \n",
       "  \"/>\n",
       "<polyline clip-path=\"url(#clip632)\" style=\"stroke:#000000; stroke-linecap:butt; stroke-linejoin:round; stroke-width:2; stroke-opacity:0.1; fill:none\" points=\"\n",
       "  202.227,992.038 2352.76,992.038 \n",
       "  \"/>\n",
       "<polyline clip-path=\"url(#clip632)\" style=\"stroke:#000000; stroke-linecap:butt; stroke-linejoin:round; stroke-width:2; stroke-opacity:0.1; fill:none\" points=\"\n",
       "  202.227,560.896 2352.76,560.896 \n",
       "  \"/>\n",
       "<polyline clip-path=\"url(#clip632)\" style=\"stroke:#000000; stroke-linecap:butt; stroke-linejoin:round; stroke-width:2; stroke-opacity:0.1; fill:none\" points=\"\n",
       "  202.227,129.755 2352.76,129.755 \n",
       "  \"/>\n",
       "<polyline clip-path=\"url(#clip630)\" style=\"stroke:#000000; stroke-linecap:butt; stroke-linejoin:round; stroke-width:4; stroke-opacity:1; fill:none\" points=\"\n",
       "  202.227,1423.18 202.227,47.2441 \n",
       "  \"/>\n",
       "<polyline clip-path=\"url(#clip630)\" style=\"stroke:#000000; stroke-linecap:butt; stroke-linejoin:round; stroke-width:4; stroke-opacity:1; fill:none\" points=\"\n",
       "  202.227,1423.18 221.125,1423.18 \n",
       "  \"/>\n",
       "<polyline clip-path=\"url(#clip630)\" style=\"stroke:#000000; stroke-linecap:butt; stroke-linejoin:round; stroke-width:4; stroke-opacity:1; fill:none\" points=\"\n",
       "  202.227,992.038 221.125,992.038 \n",
       "  \"/>\n",
       "<polyline clip-path=\"url(#clip630)\" style=\"stroke:#000000; stroke-linecap:butt; stroke-linejoin:round; stroke-width:4; stroke-opacity:1; fill:none\" points=\"\n",
       "  202.227,560.896 221.125,560.896 \n",
       "  \"/>\n",
       "<polyline clip-path=\"url(#clip630)\" style=\"stroke:#000000; stroke-linecap:butt; stroke-linejoin:round; stroke-width:4; stroke-opacity:1; fill:none\" points=\"\n",
       "  202.227,129.755 221.125,129.755 \n",
       "  \"/>\n",
       "<path clip-path=\"url(#clip630)\" d=\"M154.283 1408.98 Q150.672 1408.98 148.843 1412.54 Q147.038 1416.08 147.038 1423.21 Q147.038 1430.32 148.843 1433.89 Q150.672 1437.43 154.283 1437.43 Q157.917 1437.43 159.723 1433.89 Q161.552 1430.32 161.552 1423.21 Q161.552 1416.08 159.723 1412.54 Q157.917 1408.98 154.283 1408.98 M154.283 1405.27 Q160.093 1405.27 163.149 1409.88 Q166.227 1414.46 166.227 1423.21 Q166.227 1431.94 163.149 1436.55 Q160.093 1441.13 154.283 1441.13 Q148.473 1441.13 145.394 1436.55 Q142.339 1431.94 142.339 1423.21 Q142.339 1414.46 145.394 1409.88 Q148.473 1405.27 154.283 1405.27 Z\" fill=\"#000000\" fill-rule=\"evenodd\" fill-opacity=\"1\" /><path clip-path=\"url(#clip630)\" d=\"M145.325 974.758 L163.681 974.758 L163.681 978.693 L149.607 978.693 L149.607 987.165 Q150.626 986.818 151.644 986.656 Q152.663 986.471 153.681 986.471 Q159.468 986.471 162.848 989.642 Q166.227 992.814 166.227 998.23 Q166.227 1003.81 162.755 1006.91 Q159.283 1009.99 152.964 1009.99 Q150.788 1009.99 148.519 1009.62 Q146.274 1009.25 143.866 1008.51 L143.866 1003.81 Q145.95 1004.94 148.172 1005.5 Q150.394 1006.05 152.871 1006.05 Q156.876 1006.05 159.214 1003.95 Q161.552 1001.84 161.552 998.23 Q161.552 994.619 159.214 992.513 Q156.876 990.406 152.871 990.406 Q150.996 990.406 149.121 990.823 Q147.269 991.239 145.325 992.119 L145.325 974.758 Z\" fill=\"#000000\" fill-rule=\"evenodd\" fill-opacity=\"1\" /><path clip-path=\"url(#clip630)\" d=\"M114.931 574.241 L122.57 574.241 L122.57 547.876 L114.26 549.542 L114.26 545.283 L122.524 543.616 L127.2 543.616 L127.2 574.241 L134.839 574.241 L134.839 578.176 L114.931 578.176 L114.931 574.241 Z\" fill=\"#000000\" fill-rule=\"evenodd\" fill-opacity=\"1\" /><path clip-path=\"url(#clip630)\" d=\"M154.283 546.695 Q150.672 546.695 148.843 550.26 Q147.038 553.801 147.038 560.931 Q147.038 568.037 148.843 571.602 Q150.672 575.144 154.283 575.144 Q157.917 575.144 159.723 571.602 Q161.552 568.037 161.552 560.931 Q161.552 553.801 159.723 550.26 Q157.917 546.695 154.283 546.695 M154.283 542.991 Q160.093 542.991 163.149 547.598 Q166.227 552.181 166.227 560.931 Q166.227 569.658 163.149 574.264 Q160.093 578.848 154.283 578.848 Q148.473 578.848 145.394 574.264 Q142.339 569.658 142.339 560.931 Q142.339 552.181 145.394 547.598 Q148.473 542.991 154.283 542.991 Z\" fill=\"#000000\" fill-rule=\"evenodd\" fill-opacity=\"1\" /><path clip-path=\"url(#clip630)\" d=\"M115.927 143.099 L123.566 143.099 L123.566 116.734 L115.256 118.4 L115.256 114.141 L123.519 112.475 L128.195 112.475 L128.195 143.099 L135.834 143.099 L135.834 147.035 L115.927 147.035 L115.927 143.099 Z\" fill=\"#000000\" fill-rule=\"evenodd\" fill-opacity=\"1\" /><path clip-path=\"url(#clip630)\" d=\"M145.325 112.475 L163.681 112.475 L163.681 116.41 L149.607 116.41 L149.607 124.882 Q150.626 124.535 151.644 124.373 Q152.663 124.187 153.681 124.187 Q159.468 124.187 162.848 127.359 Q166.227 130.53 166.227 135.947 Q166.227 141.525 162.755 144.627 Q159.283 147.706 152.964 147.706 Q150.788 147.706 148.519 147.335 Q146.274 146.965 143.866 146.224 L143.866 141.525 Q145.95 142.66 148.172 143.215 Q150.394 143.771 152.871 143.771 Q156.876 143.771 159.214 141.664 Q161.552 139.558 161.552 135.947 Q161.552 132.336 159.214 130.229 Q156.876 128.123 152.871 128.123 Q150.996 128.123 149.121 128.539 Q147.269 128.956 145.325 129.836 L145.325 112.475 Z\" fill=\"#000000\" fill-rule=\"evenodd\" fill-opacity=\"1\" /><path clip-path=\"url(#clip630)\" d=\"M14.479 984.955 L14.479 979.098 L64.0042 979.098 L64.0042 984.955 L14.479 984.955 Z\" fill=\"#000000\" fill-rule=\"evenodd\" fill-opacity=\"1\" /><path clip-path=\"url(#clip630)\" d=\"M32.4621 953.031 Q32.4621 957.741 36.1542 960.478 Q39.8145 963.216 46.212 963.216 Q52.6095 963.216 56.3017 960.51 Q59.9619 957.773 59.9619 953.031 Q59.9619 948.352 56.2698 945.614 Q52.5777 942.877 46.212 942.877 Q39.8781 942.877 36.186 945.614 Q32.4621 948.352 32.4621 953.031 M27.4968 953.031 Q27.4968 945.392 32.4621 941.031 Q37.4273 936.671 46.212 936.671 Q54.9649 936.671 59.9619 941.031 Q64.9272 945.392 64.9272 953.031 Q64.9272 960.701 59.9619 965.062 Q54.9649 969.39 46.212 969.39 Q37.4273 969.39 32.4621 965.062 Q27.4968 960.701 27.4968 953.031 Z\" fill=\"#000000\" fill-rule=\"evenodd\" fill-opacity=\"1\" /><path clip-path=\"url(#clip630)\" d=\"M45.7664 903.505 Q39.4007 903.505 35.8996 906.147 Q32.3984 908.757 32.3984 913.499 Q32.3984 918.21 35.8996 920.852 Q39.4007 923.462 45.7664 923.462 Q52.1003 923.462 55.6014 920.852 Q59.1026 918.21 59.1026 913.499 Q59.1026 908.757 55.6014 906.147 Q52.1003 903.505 45.7664 903.505 M59.58 897.649 Q68.683 897.649 73.1071 901.691 Q77.5631 905.733 77.5631 914.072 Q77.5631 917.16 77.0857 919.897 Q76.6401 922.634 75.6852 925.212 L69.9879 925.212 Q71.3884 922.634 72.0568 920.12 Q72.7252 917.605 72.7252 914.995 Q72.7252 909.234 69.7015 906.37 Q66.7096 903.505 60.6303 903.505 L57.7339 903.505 Q60.885 905.32 62.4446 908.152 Q64.0042 910.985 64.0042 914.932 Q64.0042 921.488 59.0071 925.499 Q54.01 929.509 45.7664 929.509 Q37.491 929.509 32.4939 925.499 Q27.4968 921.488 27.4968 914.932 Q27.4968 910.985 29.0564 908.152 Q30.616 905.32 33.7671 903.505 L28.3562 903.505 L28.3562 897.649 L59.58 897.649 Z\" fill=\"#000000\" fill-rule=\"evenodd\" fill-opacity=\"1\" /><path clip-path=\"url(#clip630)\" d=\"M14.5426 871.518 Q21.8632 875.783 29.0246 877.852 Q36.186 879.92 43.5384 879.92 Q50.8908 879.92 58.1159 877.852 Q65.3091 875.751 72.5979 871.518 L72.5979 876.61 Q65.1182 881.385 57.8931 883.772 Q50.668 886.127 43.5384 886.127 Q36.4406 886.127 29.2474 883.772 Q22.0542 881.416 14.5426 876.61 L14.5426 871.518 Z\" fill=\"#000000\" fill-rule=\"evenodd\" fill-opacity=\"1\" /><path clip-path=\"url(#clip630)\" d=\"M35.3266 832.973 L35.3266 842.235 L45.9574 844.909 L45.9574 835.583 L35.3266 832.973 M17.2162 837.748 L30.4251 841.058 L30.4251 831.764 L17.2162 828.422 L17.2162 823.329 L30.4251 826.608 L30.4251 816.677 L35.3266 816.677 L35.3266 827.849 L45.9574 830.459 L45.9574 820.337 L50.8271 820.337 L50.8271 831.7 L64.0042 835.01 L64.0042 840.103 L50.8271 836.825 L50.8271 846.15 L64.0042 849.429 L64.0042 854.553 L50.8271 851.243 L50.8271 861.269 L45.9574 861.269 L45.9574 850.065 L35.3266 847.392 L35.3266 857.64 L30.4251 857.64 L30.4251 846.15 L17.2162 842.904 L17.2162 837.748 Z\" fill=\"#000000\" fill-rule=\"evenodd\" fill-opacity=\"1\" /><path clip-path=\"url(#clip630)\" d=\"M32.4621 771.003 Q32.4621 775.714 36.1542 778.451 Q39.8145 781.188 46.212 781.188 Q52.6095 781.188 56.3017 778.483 Q59.9619 775.746 59.9619 771.003 Q59.9619 766.324 56.2698 763.587 Q52.5777 760.85 46.212 760.85 Q39.8781 760.85 36.186 763.587 Q32.4621 766.324 32.4621 771.003 M27.4968 771.003 Q27.4968 763.364 32.4621 759.004 Q37.4273 754.643 46.212 754.643 Q54.9649 754.643 59.9619 759.004 Q64.9272 763.364 64.9272 771.003 Q64.9272 778.674 59.9619 783.034 Q54.9649 787.363 46.212 787.363 Q37.4273 787.363 32.4621 783.034 Q27.4968 778.674 27.4968 771.003 Z\" fill=\"#000000\" fill-rule=\"evenodd\" fill-opacity=\"1\" /><path clip-path=\"url(#clip630)\" d=\"M14.479 726.889 L19.3487 726.889 L19.3487 732.491 Q19.3487 735.642 20.6219 736.883 Q21.895 738.092 25.2052 738.092 L28.3562 738.092 L28.3562 728.448 L32.9077 728.448 L32.9077 738.092 L64.0042 738.092 L64.0042 743.981 L32.9077 743.981 L32.9077 749.583 L28.3562 749.583 L28.3562 743.981 L25.8736 743.981 Q19.9216 743.981 17.2162 741.212 Q14.479 738.443 14.479 732.427 L14.479 726.889 Z\" fill=\"#000000\" fill-rule=\"evenodd\" fill-opacity=\"1\" /><path clip-path=\"url(#clip630)\" d=\"M14.479 701.49 L14.479 695.601 L43.7294 695.601 L28.3562 678.127 L28.3562 670.648 L45.0344 689.554 L64.0042 669.852 L64.0042 677.491 L46.5939 695.601 L64.0042 695.601 L64.0042 701.49 L14.479 701.49 Z\" fill=\"#000000\" fill-rule=\"evenodd\" fill-opacity=\"1\" /><path clip-path=\"url(#clip630)\" d=\"M35.1993 635.764 Q31.2526 633.568 29.3747 630.512 Q27.4968 627.456 27.4968 623.319 Q27.4968 617.749 31.4117 614.725 Q35.2948 611.701 42.4881 611.701 L64.0042 611.701 L64.0042 617.59 L42.679 617.59 Q37.5546 617.59 35.072 619.404 Q32.5894 621.218 32.5894 624.942 Q32.5894 629.493 35.6131 632.135 Q38.6368 634.777 43.8567 634.777 L64.0042 634.777 L64.0042 640.665 L42.679 640.665 Q37.5228 640.665 35.072 642.48 Q32.5894 644.294 32.5894 648.081 Q32.5894 652.569 35.6449 655.211 Q38.6686 657.853 43.8567 657.853 L64.0042 657.853 L64.0042 663.741 L28.3562 663.741 L28.3562 657.853 L33.8944 657.853 Q30.616 655.848 29.0564 653.047 Q27.4968 650.246 27.4968 646.394 Q27.4968 642.511 29.4702 639.806 Q31.4436 637.069 35.1993 635.764 Z\" fill=\"#000000\" fill-rule=\"evenodd\" fill-opacity=\"1\" /><path clip-path=\"url(#clip630)\" d=\"M44.7161 569.529 L47.5806 569.529 L47.5806 596.455 Q53.6281 596.074 56.8109 592.827 Q59.9619 589.549 59.9619 583.724 Q59.9619 580.35 59.1344 577.199 Q58.3069 574.016 56.6518 570.897 L62.1899 570.897 Q63.5267 574.048 64.227 577.358 Q64.9272 580.669 64.9272 584.074 Q64.9272 592.604 59.9619 597.601 Q54.9967 602.567 46.5303 602.567 Q37.7774 602.567 32.6531 597.856 Q27.4968 593.113 27.4968 585.093 Q27.4968 577.899 32.1438 573.73 Q36.7589 569.529 44.7161 569.529 M42.9973 575.385 Q38.1912 575.449 35.3266 578.09 Q32.4621 580.7 32.4621 585.029 Q32.4621 589.931 35.2312 592.891 Q38.0002 595.819 43.0292 596.265 L42.9973 575.385 Z\" fill=\"#000000\" fill-rule=\"evenodd\" fill-opacity=\"1\" /><path clip-path=\"url(#clip630)\" d=\"M33.8307 539.26 Q33.2578 540.246 33.0032 541.424 Q32.7167 542.57 32.7167 543.97 Q32.7167 548.935 35.9632 551.609 Q39.1779 554.251 45.2253 554.251 L64.0042 554.251 L64.0042 560.139 L28.3562 560.139 L28.3562 554.251 L33.8944 554.251 Q30.6479 552.405 29.0883 549.445 Q27.4968 546.485 27.4968 542.251 Q27.4968 541.647 27.5923 540.915 Q27.656 540.183 27.8151 539.291 L33.8307 539.26 Z\" fill=\"#000000\" fill-rule=\"evenodd\" fill-opacity=\"1\" /><path clip-path=\"url(#clip630)\" d=\"M29.4065 510.391 L34.9447 510.391 Q33.6716 512.874 33.035 515.547 Q32.3984 518.221 32.3984 521.086 Q32.3984 525.446 33.7352 527.642 Q35.072 529.807 37.7456 529.807 Q39.7826 529.807 40.9603 528.247 Q42.1061 526.687 43.1565 521.977 L43.6021 519.972 Q44.9389 513.733 47.3897 511.123 Q49.8086 508.481 54.1691 508.481 Q59.1344 508.481 62.0308 512.428 Q64.9272 516.343 64.9272 523.218 Q64.9272 526.083 64.3543 529.202 Q63.8132 532.289 62.6992 535.727 L56.6518 535.727 Q58.3387 532.48 59.198 529.329 Q60.0256 526.178 60.0256 523.091 Q60.0256 518.953 58.6251 516.725 Q57.1929 514.497 54.6147 514.497 Q52.2276 514.497 50.9545 516.12 Q49.6813 517.712 48.5037 523.154 L48.0262 525.191 Q46.8804 530.634 44.5251 533.053 Q42.138 535.472 38.0002 535.472 Q32.9713 535.472 30.2341 531.907 Q27.4968 528.342 27.4968 521.786 Q27.4968 518.539 27.9743 515.675 Q28.4517 512.81 29.4065 510.391 Z\" fill=\"#000000\" fill-rule=\"evenodd\" fill-opacity=\"1\" /><path clip-path=\"url(#clip630)\" d=\"M14.5426 500.079 L14.5426 494.986 Q22.0542 490.212 29.2474 487.857 Q36.4406 485.469 43.5384 485.469 Q50.668 485.469 57.8931 487.857 Q65.1182 490.212 72.5979 494.986 L72.5979 500.079 Q65.3091 495.845 58.1159 493.777 Q50.8908 491.676 43.5384 491.676 Q36.186 491.676 29.0246 493.777 Q21.8632 495.845 14.5426 500.079 Z\" fill=\"#000000\" fill-rule=\"evenodd\" fill-opacity=\"1\" /><circle clip-path=\"url(#clip632)\" cx=\"750.895\" cy=\"579.962\" r=\"14\" fill=\"#009af9\" fill-rule=\"evenodd\" fill-opacity=\"1\" stroke=\"#000000\" stroke-opacity=\"1\" stroke-width=\"3.2\"/>\n",
       "<circle clip-path=\"url(#clip632)\" cx=\"1574.5\" cy=\"1423.18\" r=\"14\" fill=\"#009af9\" fill-rule=\"evenodd\" fill-opacity=\"1\" stroke=\"#000000\" stroke-opacity=\"1\" stroke-width=\"3.2\"/>\n",
       "<circle clip-path=\"url(#clip632)\" cx=\"1816.83\" cy=\"1363.41\" r=\"14\" fill=\"#009af9\" fill-rule=\"evenodd\" fill-opacity=\"1\" stroke=\"#000000\" stroke-opacity=\"1\" stroke-width=\"3.2\"/>\n",
       "<circle clip-path=\"url(#clip632)\" cx=\"1842.73\" cy=\"1423.18\" r=\"14\" fill=\"#009af9\" fill-rule=\"evenodd\" fill-opacity=\"1\" stroke=\"#000000\" stroke-opacity=\"1\" stroke-width=\"3.2\"/>\n",
       "<circle clip-path=\"url(#clip632)\" cx=\"1804.65\" cy=\"1255.39\" r=\"14\" fill=\"#009af9\" fill-rule=\"evenodd\" fill-opacity=\"1\" stroke=\"#000000\" stroke-opacity=\"1\" stroke-width=\"3.2\"/>\n",
       "<circle clip-path=\"url(#clip632)\" cx=\"1598.02\" cy=\"1328.45\" r=\"14\" fill=\"#009af9\" fill-rule=\"evenodd\" fill-opacity=\"1\" stroke=\"#000000\" stroke-opacity=\"1\" stroke-width=\"3.2\"/>\n",
       "<circle clip-path=\"url(#clip632)\" cx=\"813.05\" cy=\"628.867\" r=\"14\" fill=\"#009af9\" fill-rule=\"evenodd\" fill-opacity=\"1\" stroke=\"#000000\" stroke-opacity=\"1\" stroke-width=\"3.2\"/>\n",
       "<circle clip-path=\"url(#clip632)\" cx=\"1635.63\" cy=\"1049.75\" r=\"14\" fill=\"#009af9\" fill-rule=\"evenodd\" fill-opacity=\"1\" stroke=\"#000000\" stroke-opacity=\"1\" stroke-width=\"3.2\"/>\n",
       "<circle clip-path=\"url(#clip632)\" cx=\"1825.68\" cy=\"1423.18\" r=\"14\" fill=\"#009af9\" fill-rule=\"evenodd\" fill-opacity=\"1\" stroke=\"#000000\" stroke-opacity=\"1\" stroke-width=\"3.2\"/>\n",
       "<circle clip-path=\"url(#clip632)\" cx=\"1664.87\" cy=\"949.878\" r=\"14\" fill=\"#009af9\" fill-rule=\"evenodd\" fill-opacity=\"1\" stroke=\"#000000\" stroke-opacity=\"1\" stroke-width=\"3.2\"/>\n",
       "<circle clip-path=\"url(#clip632)\" cx=\"1810.79\" cy=\"1363.41\" r=\"14\" fill=\"#009af9\" fill-rule=\"evenodd\" fill-opacity=\"1\" stroke=\"#000000\" stroke-opacity=\"1\" stroke-width=\"3.2\"/>\n",
       "<circle clip-path=\"url(#clip632)\" cx=\"1620.02\" cy=\"1156.64\" r=\"14\" fill=\"#009af9\" fill-rule=\"evenodd\" fill-opacity=\"1\" stroke=\"#000000\" stroke-opacity=\"1\" stroke-width=\"3.2\"/>\n",
       "<circle clip-path=\"url(#clip632)\" cx=\"1736.24\" cy=\"913.736\" r=\"14\" fill=\"#009af9\" fill-rule=\"evenodd\" fill-opacity=\"1\" stroke=\"#000000\" stroke-opacity=\"1\" stroke-width=\"3.2\"/>\n",
       "<circle clip-path=\"url(#clip632)\" cx=\"674.824\" cy=\"520.323\" r=\"14\" fill=\"#009af9\" fill-rule=\"evenodd\" fill-opacity=\"1\" stroke=\"#000000\" stroke-opacity=\"1\" stroke-width=\"3.2\"/>\n",
       "<circle clip-path=\"url(#clip632)\" cx=\"1076.63\" cy=\"901.521\" r=\"14\" fill=\"#009af9\" fill-rule=\"evenodd\" fill-opacity=\"1\" stroke=\"#000000\" stroke-opacity=\"1\" stroke-width=\"3.2\"/>\n",
       "<circle clip-path=\"url(#clip632)\" cx=\"1720.74\" cy=\"896.581\" r=\"14\" fill=\"#009af9\" fill-rule=\"evenodd\" fill-opacity=\"1\" stroke=\"#000000\" stroke-opacity=\"1\" stroke-width=\"3.2\"/>\n",
       "<circle clip-path=\"url(#clip632)\" cx=\"1949.02\" cy=\"1423.18\" r=\"14\" fill=\"#009af9\" fill-rule=\"evenodd\" fill-opacity=\"1\" stroke=\"#000000\" stroke-opacity=\"1\" stroke-width=\"3.2\"/>\n",
       "<circle clip-path=\"url(#clip632)\" cx=\"1614.65\" cy=\"1202.01\" r=\"14\" fill=\"#009af9\" fill-rule=\"evenodd\" fill-opacity=\"1\" stroke=\"#000000\" stroke-opacity=\"1\" stroke-width=\"3.2\"/>\n",
       "<circle clip-path=\"url(#clip632)\" cx=\"1785.53\" cy=\"1114.18\" r=\"14\" fill=\"#009af9\" fill-rule=\"evenodd\" fill-opacity=\"1\" stroke=\"#000000\" stroke-opacity=\"1\" stroke-width=\"3.2\"/>\n",
       "<circle clip-path=\"url(#clip632)\" cx=\"1740.01\" cy=\"929.083\" r=\"14\" fill=\"#009af9\" fill-rule=\"evenodd\" fill-opacity=\"1\" stroke=\"#000000\" stroke-opacity=\"1\" stroke-width=\"3.2\"/>\n",
       "<circle clip-path=\"url(#clip632)\" cx=\"1609.19\" cy=\"1268.68\" r=\"14\" fill=\"#009af9\" fill-rule=\"evenodd\" fill-opacity=\"1\" stroke=\"#000000\" stroke-opacity=\"1\" stroke-width=\"3.2\"/>\n",
       "<circle clip-path=\"url(#clip632)\" cx=\"1586.46\" cy=\"1423.18\" r=\"14\" fill=\"#009af9\" fill-rule=\"evenodd\" fill-opacity=\"1\" stroke=\"#000000\" stroke-opacity=\"1\" stroke-width=\"3.2\"/>\n",
       "<circle clip-path=\"url(#clip632)\" cx=\"2006.75\" cy=\"1423.18\" r=\"14\" fill=\"#009af9\" fill-rule=\"evenodd\" fill-opacity=\"1\" stroke=\"#000000\" stroke-opacity=\"1\" stroke-width=\"3.2\"/>\n",
       "<circle clip-path=\"url(#clip632)\" cx=\"1049.35\" cy=\"864.152\" r=\"14\" fill=\"#009af9\" fill-rule=\"evenodd\" fill-opacity=\"1\" stroke=\"#000000\" stroke-opacity=\"1\" stroke-width=\"3.2\"/>\n",
       "<circle clip-path=\"url(#clip632)\" cx=\"1674.09\" cy=\"939.801\" r=\"14\" fill=\"#009af9\" fill-rule=\"evenodd\" fill-opacity=\"1\" stroke=\"#000000\" stroke-opacity=\"1\" stroke-width=\"3.2\"/>\n",
       "<circle clip-path=\"url(#clip632)\" cx=\"1807.74\" cy=\"1303.64\" r=\"14\" fill=\"#009af9\" fill-rule=\"evenodd\" fill-opacity=\"1\" stroke=\"#000000\" stroke-opacity=\"1\" stroke-width=\"3.2\"/>\n",
       "<circle clip-path=\"url(#clip632)\" cx=\"1271.14\" cy=\"1363.41\" r=\"14\" fill=\"#009af9\" fill-rule=\"evenodd\" fill-opacity=\"1\" stroke=\"#000000\" stroke-opacity=\"1\" stroke-width=\"3.2\"/>\n",
       "<circle clip-path=\"url(#clip632)\" cx=\"1987.36\" cy=\"1423.18\" r=\"14\" fill=\"#009af9\" fill-rule=\"evenodd\" fill-opacity=\"1\" stroke=\"#000000\" stroke-opacity=\"1\" stroke-width=\"3.2\"/>\n",
       "<circle clip-path=\"url(#clip632)\" cx=\"1743.73\" cy=\"934.573\" r=\"14\" fill=\"#009af9\" fill-rule=\"evenodd\" fill-opacity=\"1\" stroke=\"#000000\" stroke-opacity=\"1\" stroke-width=\"3.2\"/>\n",
       "<circle clip-path=\"url(#clip632)\" cx=\"1019.69\" cy=\"828.926\" r=\"14\" fill=\"#009af9\" fill-rule=\"evenodd\" fill-opacity=\"1\" stroke=\"#000000\" stroke-opacity=\"1\" stroke-width=\"3.2\"/>\n",
       "<circle clip-path=\"url(#clip632)\" cx=\"1640.68\" cy=\"1044.25\" r=\"14\" fill=\"#009af9\" fill-rule=\"evenodd\" fill-opacity=\"1\" stroke=\"#000000\" stroke-opacity=\"1\" stroke-width=\"3.2\"/>\n",
       "<circle clip-path=\"url(#clip632)\" cx=\"1645.66\" cy=\"1014.79\" r=\"14\" fill=\"#009af9\" fill-rule=\"evenodd\" fill-opacity=\"1\" stroke=\"#000000\" stroke-opacity=\"1\" stroke-width=\"3.2\"/>\n",
       "<circle clip-path=\"url(#clip632)\" cx=\"1765.27\" cy=\"1027.83\" r=\"14\" fill=\"#009af9\" fill-rule=\"evenodd\" fill-opacity=\"1\" stroke=\"#000000\" stroke-opacity=\"1\" stroke-width=\"3.2\"/>\n",
       "<circle clip-path=\"url(#clip632)\" cx=\"1716.76\" cy=\"890.824\" r=\"14\" fill=\"#009af9\" fill-rule=\"evenodd\" fill-opacity=\"1\" stroke=\"#000000\" stroke-opacity=\"1\" stroke-width=\"3.2\"/>\n",
       "<circle clip-path=\"url(#clip632)\" cx=\"1704.51\" cy=\"894.307\" r=\"14\" fill=\"#009af9\" fill-rule=\"evenodd\" fill-opacity=\"1\" stroke=\"#000000\" stroke-opacity=\"1\" stroke-width=\"3.2\"/>\n",
       "<circle clip-path=\"url(#clip632)\" cx=\"1712.72\" cy=\"897.936\" r=\"14\" fill=\"#009af9\" fill-rule=\"evenodd\" fill-opacity=\"1\" stroke=\"#000000\" stroke-opacity=\"1\" stroke-width=\"3.2\"/>\n",
       "<circle clip-path=\"url(#clip632)\" cx=\"1683.06\" cy=\"917.08\" r=\"14\" fill=\"#009af9\" fill-rule=\"evenodd\" fill-opacity=\"1\" stroke=\"#000000\" stroke-opacity=\"1\" stroke-width=\"3.2\"/>\n",
       "<circle clip-path=\"url(#clip632)\" cx=\"865.601\" cy=\"671.737\" r=\"14\" fill=\"#009af9\" fill-rule=\"evenodd\" fill-opacity=\"1\" stroke=\"#000000\" stroke-opacity=\"1\" stroke-width=\"3.2\"/>\n",
       "<circle clip-path=\"url(#clip632)\" cx=\"1754.67\" cy=\"971.65\" r=\"14\" fill=\"#009af9\" fill-rule=\"evenodd\" fill-opacity=\"1\" stroke=\"#000000\" stroke-opacity=\"1\" stroke-width=\"3.2\"/>\n",
       "<circle clip-path=\"url(#clip632)\" cx=\"1299.56\" cy=\"1328.45\" r=\"14\" fill=\"#009af9\" fill-rule=\"evenodd\" fill-opacity=\"1\" stroke=\"#000000\" stroke-opacity=\"1\" stroke-width=\"3.2\"/>\n",
       "<circle clip-path=\"url(#clip632)\" cx=\"1798.4\" cy=\"1243.87\" r=\"14\" fill=\"#009af9\" fill-rule=\"evenodd\" fill-opacity=\"1\" stroke=\"#000000\" stroke-opacity=\"1\" stroke-width=\"3.2\"/>\n",
       "<circle clip-path=\"url(#clip632)\" cx=\"1655.4\" cy=\"982.903\" r=\"14\" fill=\"#009af9\" fill-rule=\"evenodd\" fill-opacity=\"1\" stroke=\"#000000\" stroke-opacity=\"1\" stroke-width=\"3.2\"/>\n",
       "<circle clip-path=\"url(#clip632)\" cx=\"1630.51\" cy=\"1082.47\" r=\"14\" fill=\"#009af9\" fill-rule=\"evenodd\" fill-opacity=\"1\" stroke=\"#000000\" stroke-opacity=\"1\" stroke-width=\"3.2\"/>\n",
       "<circle clip-path=\"url(#clip632)\" cx=\"1782.24\" cy=\"1093.04\" r=\"14\" fill=\"#009af9\" fill-rule=\"evenodd\" fill-opacity=\"1\" stroke=\"#000000\" stroke-opacity=\"1\" stroke-width=\"3.2\"/>\n",
       "<circle clip-path=\"url(#clip632)\" cx=\"1678.6\" cy=\"928.525\" r=\"14\" fill=\"#009af9\" fill-rule=\"evenodd\" fill-opacity=\"1\" stroke=\"#000000\" stroke-opacity=\"1\" stroke-width=\"3.2\"/>\n",
       "<circle clip-path=\"url(#clip632)\" cx=\"1923.76\" cy=\"1423.18\" r=\"14\" fill=\"#009af9\" fill-rule=\"evenodd\" fill-opacity=\"1\" stroke=\"#000000\" stroke-opacity=\"1\" stroke-width=\"3.2\"/>\n",
       "<circle clip-path=\"url(#clip632)\" cx=\"1747.42\" cy=\"955.016\" r=\"14\" fill=\"#009af9\" fill-rule=\"evenodd\" fill-opacity=\"1\" stroke=\"#000000\" stroke-opacity=\"1\" stroke-width=\"3.2\"/>\n",
       "<circle clip-path=\"url(#clip632)\" cx=\"438.526\" cy=\"379.369\" r=\"14\" fill=\"#009af9\" fill-rule=\"evenodd\" fill-opacity=\"1\" stroke=\"#000000\" stroke-opacity=\"1\" stroke-width=\"3.2\"/>\n",
       "<circle clip-path=\"url(#clip632)\" cx=\"987.193\" cy=\"789.025\" r=\"14\" fill=\"#009af9\" fill-rule=\"evenodd\" fill-opacity=\"1\" stroke=\"#000000\" stroke-opacity=\"1\" stroke-width=\"3.2\"/>\n",
       "<circle clip-path=\"url(#clip632)\" cx=\"1187.57\" cy=\"1102.96\" r=\"14\" fill=\"#009af9\" fill-rule=\"evenodd\" fill-opacity=\"1\" stroke=\"#000000\" stroke-opacity=\"1\" stroke-width=\"3.2\"/>\n",
       "<circle clip-path=\"url(#clip632)\" cx=\"1724.68\" cy=\"902.544\" r=\"14\" fill=\"#009af9\" fill-rule=\"evenodd\" fill-opacity=\"1\" stroke=\"#000000\" stroke-opacity=\"1\" stroke-width=\"3.2\"/>\n",
       "<circle clip-path=\"url(#clip632)\" cx=\"1853.64\" cy=\"1423.18\" r=\"14\" fill=\"#009af9\" fill-rule=\"evenodd\" fill-opacity=\"1\" stroke=\"#000000\" stroke-opacity=\"1\" stroke-width=\"3.2\"/>\n",
       "<circle clip-path=\"url(#clip632)\" cx=\"1772.16\" cy=\"1059.34\" r=\"14\" fill=\"#009af9\" fill-rule=\"evenodd\" fill-opacity=\"1\" stroke=\"#000000\" stroke-opacity=\"1\" stroke-width=\"3.2\"/>\n",
       "<circle clip-path=\"url(#clip632)\" cx=\"2011.85\" cy=\"1423.18\" r=\"14\" fill=\"#009af9\" fill-rule=\"evenodd\" fill-opacity=\"1\" stroke=\"#000000\" stroke-opacity=\"1\" stroke-width=\"3.2\"/>\n",
       "<circle clip-path=\"url(#clip632)\" cx=\"1691.8\" cy=\"910.066\" r=\"14\" fill=\"#009af9\" fill-rule=\"evenodd\" fill-opacity=\"1\" stroke=\"#000000\" stroke-opacity=\"1\" stroke-width=\"3.2\"/>\n",
       "<circle clip-path=\"url(#clip632)\" cx=\"1147.42\" cy=\"1025.23\" r=\"14\" fill=\"#009af9\" fill-rule=\"evenodd\" fill-opacity=\"1\" stroke=\"#000000\" stroke-opacity=\"1\" stroke-width=\"3.2\"/>\n",
       "<circle clip-path=\"url(#clip632)\" cx=\"1223.49\" cy=\"1208.91\" r=\"14\" fill=\"#009af9\" fill-rule=\"evenodd\" fill-opacity=\"1\" stroke=\"#000000\" stroke-opacity=\"1\" stroke-width=\"3.2\"/>\n",
       "<circle clip-path=\"url(#clip632)\" cx=\"1700.32\" cy=\"898.917\" r=\"14\" fill=\"#009af9\" fill-rule=\"evenodd\" fill-opacity=\"1\" stroke=\"#000000\" stroke-opacity=\"1\" stroke-width=\"3.2\"/>\n",
       "<circle clip-path=\"url(#clip632)\" cx=\"1206.01\" cy=\"1124.34\" r=\"14\" fill=\"#009af9\" fill-rule=\"evenodd\" fill-opacity=\"1\" stroke=\"#000000\" stroke-opacity=\"1\" stroke-width=\"3.2\"/>\n",
       "<circle clip-path=\"url(#clip632)\" cx=\"951.275\" cy=\"750.655\" r=\"14\" fill=\"#009af9\" fill-rule=\"evenodd\" fill-opacity=\"1\" stroke=\"#000000\" stroke-opacity=\"1\" stroke-width=\"3.2\"/>\n",
       "<circle clip-path=\"url(#clip632)\" cx=\"1669.51\" cy=\"944.357\" r=\"14\" fill=\"#009af9\" fill-rule=\"evenodd\" fill-opacity=\"1\" stroke=\"#000000\" stroke-opacity=\"1\" stroke-width=\"3.2\"/>\n",
       "<circle clip-path=\"url(#clip632)\" cx=\"1792.02\" cy=\"1208.91\" r=\"14\" fill=\"#009af9\" fill-rule=\"evenodd\" fill-opacity=\"1\" stroke=\"#000000\" stroke-opacity=\"1\" stroke-width=\"3.2\"/>\n",
       "<circle clip-path=\"url(#clip632)\" cx=\"1801.54\" cy=\"1233.72\" r=\"14\" fill=\"#009af9\" fill-rule=\"evenodd\" fill-opacity=\"1\" stroke=\"#000000\" stroke-opacity=\"1\" stroke-width=\"3.2\"/>\n",
       "<circle clip-path=\"url(#clip632)\" cx=\"1603.65\" cy=\"1303.64\" r=\"14\" fill=\"#009af9\" fill-rule=\"evenodd\" fill-opacity=\"1\" stroke=\"#000000\" stroke-opacity=\"1\" stroke-width=\"3.2\"/>\n",
       "<circle clip-path=\"url(#clip632)\" cx=\"1751.07\" cy=\"966.747\" r=\"14\" fill=\"#009af9\" fill-rule=\"evenodd\" fill-opacity=\"1\" stroke=\"#000000\" stroke-opacity=\"1\" stroke-width=\"3.2\"/>\n",
       "<circle clip-path=\"url(#clip632)\" cx=\"1795.22\" cy=\"1173.95\" r=\"14\" fill=\"#009af9\" fill-rule=\"evenodd\" fill-opacity=\"1\" stroke=\"#000000\" stroke-opacity=\"1\" stroke-width=\"3.2\"/>\n",
       "<circle clip-path=\"url(#clip632)\" cx=\"1778.91\" cy=\"1091.19\" r=\"14\" fill=\"#009af9\" fill-rule=\"evenodd\" fill-opacity=\"1\" stroke=\"#000000\" stroke-opacity=\"1\" stroke-width=\"3.2\"/>\n",
       "<circle clip-path=\"url(#clip632)\" cx=\"1580.53\" cy=\"1423.18\" r=\"14\" fill=\"#009af9\" fill-rule=\"evenodd\" fill-opacity=\"1\" stroke=\"#000000\" stroke-opacity=\"1\" stroke-width=\"3.2\"/>\n",
       "<circle clip-path=\"url(#clip632)\" cx=\"1650.57\" cy=\"998.938\" r=\"14\" fill=\"#009af9\" fill-rule=\"evenodd\" fill-opacity=\"1\" stroke=\"#000000\" stroke-opacity=\"1\" stroke-width=\"3.2\"/>\n",
       "<circle clip-path=\"url(#clip632)\" cx=\"1240.12\" cy=\"1195.62\" r=\"14\" fill=\"#009af9\" fill-rule=\"evenodd\" fill-opacity=\"1\" stroke=\"#000000\" stroke-opacity=\"1\" stroke-width=\"3.2\"/>\n",
       "<circle clip-path=\"url(#clip632)\" cx=\"1953.05\" cy=\"1423.18\" r=\"14\" fill=\"#009af9\" fill-rule=\"evenodd\" fill-opacity=\"1\" stroke=\"#000000\" stroke-opacity=\"1\" stroke-width=\"3.2\"/>\n",
       "<circle clip-path=\"url(#clip632)\" cx=\"1728.58\" cy=\"902.544\" r=\"14\" fill=\"#009af9\" fill-rule=\"evenodd\" fill-opacity=\"1\" stroke=\"#000000\" stroke-opacity=\"1\" stroke-width=\"3.2\"/>\n",
       "<circle clip-path=\"url(#clip632)\" cx=\"1834.31\" cy=\"1423.18\" r=\"14\" fill=\"#009af9\" fill-rule=\"evenodd\" fill-opacity=\"1\" stroke=\"#000000\" stroke-opacity=\"1\" stroke-width=\"3.2\"/>\n",
       "<circle clip-path=\"url(#clip632)\" cx=\"1775.55\" cy=\"1084.14\" r=\"14\" fill=\"#009af9\" fill-rule=\"evenodd\" fill-opacity=\"1\" stroke=\"#000000\" stroke-opacity=\"1\" stroke-width=\"3.2\"/>\n",
       "<circle clip-path=\"url(#clip632)\" cx=\"1687.46\" cy=\"903.371\" r=\"14\" fill=\"#009af9\" fill-rule=\"evenodd\" fill-opacity=\"1\" stroke=\"#000000\" stroke-opacity=\"1\" stroke-width=\"3.2\"/>\n",
       "<circle clip-path=\"url(#clip632)\" cx=\"1788.79\" cy=\"1149.14\" r=\"14\" fill=\"#009af9\" fill-rule=\"evenodd\" fill-opacity=\"1\" stroke=\"#000000\" stroke-opacity=\"1\" stroke-width=\"3.2\"/>\n",
       "<circle clip-path=\"url(#clip632)\" cx=\"1660.17\" cy=\"969.835\" r=\"14\" fill=\"#009af9\" fill-rule=\"evenodd\" fill-opacity=\"1\" stroke=\"#000000\" stroke-opacity=\"1\" stroke-width=\"3.2\"/>\n",
       "<circle clip-path=\"url(#clip632)\" cx=\"1285.65\" cy=\"1363.41\" r=\"14\" fill=\"#009af9\" fill-rule=\"evenodd\" fill-opacity=\"1\" stroke=\"#000000\" stroke-opacity=\"1\" stroke-width=\"3.2\"/>\n",
       "<circle clip-path=\"url(#clip632)\" cx=\"911.122\" cy=\"709.718\" r=\"14\" fill=\"#009af9\" fill-rule=\"evenodd\" fill-opacity=\"1\" stroke=\"#000000\" stroke-opacity=\"1\" stroke-width=\"3.2\"/>\n",
       "<circle clip-path=\"url(#clip632)\" cx=\"1168.09\" cy=\"1054.41\" r=\"14\" fill=\"#009af9\" fill-rule=\"evenodd\" fill-opacity=\"1\" stroke=\"#000000\" stroke-opacity=\"1\" stroke-width=\"3.2\"/>\n",
       "<circle clip-path=\"url(#clip632)\" cx=\"202.227\" cy=\"219.701\" r=\"14\" fill=\"#009af9\" fill-rule=\"evenodd\" fill-opacity=\"1\" stroke=\"#000000\" stroke-opacity=\"1\" stroke-width=\"3.2\"/>\n",
       "<circle clip-path=\"url(#clip632)\" cx=\"1708.64\" cy=\"891.365\" r=\"14\" fill=\"#009af9\" fill-rule=\"evenodd\" fill-opacity=\"1\" stroke=\"#000000\" stroke-opacity=\"1\" stroke-width=\"3.2\"/>\n",
       "<circle clip-path=\"url(#clip632)\" cx=\"1255.98\" cy=\"1184.1\" r=\"14\" fill=\"#009af9\" fill-rule=\"evenodd\" fill-opacity=\"1\" stroke=\"#000000\" stroke-opacity=\"1\" stroke-width=\"3.2\"/>\n",
       "<circle clip-path=\"url(#clip632)\" cx=\"1768.73\" cy=\"1033.27\" r=\"14\" fill=\"#009af9\" fill-rule=\"evenodd\" fill-opacity=\"1\" stroke=\"#000000\" stroke-opacity=\"1\" stroke-width=\"3.2\"/>\n",
       "<circle clip-path=\"url(#clip632)\" cx=\"1732.43\" cy=\"915.871\" r=\"14\" fill=\"#009af9\" fill-rule=\"evenodd\" fill-opacity=\"1\" stroke=\"#000000\" stroke-opacity=\"1\" stroke-width=\"3.2\"/>\n",
       "<circle clip-path=\"url(#clip632)\" cx=\"1101.9\" cy=\"938.542\" r=\"14\" fill=\"#009af9\" fill-rule=\"evenodd\" fill-opacity=\"1\" stroke=\"#000000\" stroke-opacity=\"1\" stroke-width=\"3.2\"/>\n",
       "<circle clip-path=\"url(#clip632)\" cx=\"576.751\" cy=\"456.86\" r=\"14\" fill=\"#009af9\" fill-rule=\"evenodd\" fill-opacity=\"1\" stroke=\"#000000\" stroke-opacity=\"1\" stroke-width=\"3.2\"/>\n",
       "<circle clip-path=\"url(#clip632)\" cx=\"1696.09\" cy=\"894.307\" r=\"14\" fill=\"#009af9\" fill-rule=\"evenodd\" fill-opacity=\"1\" stroke=\"#000000\" stroke-opacity=\"1\" stroke-width=\"3.2\"/>\n",
       "<circle clip-path=\"url(#clip632)\" cx=\"1758.24\" cy=\"983.954\" r=\"14\" fill=\"#009af9\" fill-rule=\"evenodd\" fill-opacity=\"1\" stroke=\"#000000\" stroke-opacity=\"1\" stroke-width=\"3.2\"/>\n",
       "<circle clip-path=\"url(#clip632)\" cx=\"1813.82\" cy=\"1363.41\" r=\"14\" fill=\"#009af9\" fill-rule=\"evenodd\" fill-opacity=\"1\" stroke=\"#000000\" stroke-opacity=\"1\" stroke-width=\"3.2\"/>\n",
       "<circle clip-path=\"url(#clip632)\" cx=\"1125.42\" cy=\"992.278\" r=\"14\" fill=\"#009af9\" fill-rule=\"evenodd\" fill-opacity=\"1\" stroke=\"#000000\" stroke-opacity=\"1\" stroke-width=\"3.2\"/>\n",
       "<circle clip-path=\"url(#clip632)\" cx=\"1625.3\" cy=\"1129.9\" r=\"14\" fill=\"#009af9\" fill-rule=\"evenodd\" fill-opacity=\"1\" stroke=\"#000000\" stroke-opacity=\"1\" stroke-width=\"3.2\"/>\n",
       "<circle clip-path=\"url(#clip632)\" cx=\"1761.78\" cy=\"982.382\" r=\"14\" fill=\"#009af9\" fill-rule=\"evenodd\" fill-opacity=\"1\" stroke=\"#000000\" stroke-opacity=\"1\" stroke-width=\"3.2\"/>\n",
       "</svg>\n"
      ]
     },
     "execution_count": 47,
     "metadata": {},
     "output_type": "execute_result"
    }
   ],
   "source": [
    "Mycelia.plot_kmer_frequency_spectra(values(kmer_counts))"
   ]
  },
  {
   "cell_type": "code",
   "execution_count": 48,
   "id": "2f04b952-9c96-4626-b1c1-3d33939eae55",
   "metadata": {},
   "outputs": [
    {
     "data": {
      "text/plain": [
       "Dict{Int64, Int64} with 93 entries:\n",
       "  5   => 17657\n",
       "  56  => 1\n",
       "  114 => 2\n",
       "  123 => 1\n",
       "  110 => 7\n",
       "  60  => 3\n",
       "  6   => 10014\n",
       "  67  => 76\n",
       "  117 => 1\n",
       "  73  => 242\n",
       "  112 => 2\n",
       "  64  => 22\n",
       "  90  => 368\n",
       "  4   => 35261\n",
       "  13  => 424\n",
       "  63  => 13\n",
       "  86  => 449\n",
       "  168 => 1\n",
       "  104 => 36\n",
       "  91  => 308\n",
       "  62  => 6\n",
       "  58  => 1\n",
       "  199 => 1\n",
       "  12  => 654\n",
       "  75  => 272\n",
       "  ⋮   => ⋮"
      ]
     },
     "execution_count": 48,
     "metadata": {},
     "output_type": "execute_result"
    }
   ],
   "source": [
    "kmer_counts_histogram = StatsBase.countmap(values(kmer_counts))"
   ]
  },
  {
   "cell_type": "code",
   "execution_count": 190,
   "id": "664abfc3-c9ce-4bb0-b829-6f440da3edba",
   "metadata": {},
   "outputs": [
    {
     "data": {
      "text/plain": [
       "14"
      ]
     },
     "execution_count": 190,
     "metadata": {},
     "output_type": "execute_result"
    }
   ],
   "source": [
    "# n_partitions = 7\n",
    "# partition_size = Int(ceil(length(sorted_kmer_count_bins) / n_partitions))"
   ]
  },
  {
   "cell_type": "code",
   "execution_count": 192,
   "id": "a86dd851-628a-4f53-9736-1c8f75afb63a",
   "metadata": {},
   "outputs": [],
   "source": [
    "# for partition in Base.Iterators.partition(sorted_kmer_count_bins, partition_size)\n",
    "# #     partition\n",
    "#     @show partition\n",
    "#     min_value, index = findmin(v -> kmer_counts_histogram[v], partition)\n",
    "#     threshold = partition[index]\n",
    "#     @show min_value, threshold\n",
    "# end"
   ]
  },
  {
   "cell_type": "code",
   "execution_count": 94,
   "id": "ba01c519-1bf4-4f88-abb7-6fef106b3f29",
   "metadata": {},
   "outputs": [
    {
     "data": {
      "text/plain": [
       "2"
      ]
     },
     "execution_count": 94,
     "metadata": {},
     "output_type": "execute_result"
    }
   ],
   "source": [
    "base = 2"
   ]
  },
  {
   "cell_type": "code",
   "execution_count": 95,
   "id": "d69ffee4-fa11-4e09-82c6-c789c34e9db2",
   "metadata": {},
   "outputs": [
    {
     "data": {
      "text/plain": [
       "202"
      ]
     },
     "execution_count": 95,
     "metadata": {},
     "output_type": "execute_result"
    }
   ],
   "source": [
    "maximum_kmer_count = maximum(values(kmer_counts))"
   ]
  },
  {
   "cell_type": "code",
   "execution_count": 96,
   "id": "4ad97bd4-bb1f-489f-8e31-7d1ba582a4d3",
   "metadata": {},
   "outputs": [
    {
     "data": {
      "text/plain": [
       "7"
      ]
     },
     "execution_count": 96,
     "metadata": {},
     "output_type": "execute_result"
    }
   ],
   "source": [
    "maximum_power = Int(floor(log(base, maximum_kmer_count)))"
   ]
  },
  {
   "cell_type": "code",
   "execution_count": 97,
   "id": "9fae3859-992c-4748-86c5-29b376ec8fa2",
   "metadata": {},
   "outputs": [
    {
     "data": {
      "text/plain": [
       "8-element Vector{Int64}:\n",
       " 128\n",
       "  64\n",
       "  32\n",
       "  16\n",
       "   8\n",
       "   4\n",
       "   2\n",
       "   1"
      ]
     },
     "execution_count": 97,
     "metadata": {},
     "output_type": "execute_result"
    }
   ],
   "source": [
    "assembly_thresholds = [base^i for i in maximum_power:-1:0]"
   ]
  },
  {
   "cell_type": "code",
   "execution_count": 117,
   "id": "aec4af96-4a22-4f75-b41b-a5caf9e79794",
   "metadata": {},
   "outputs": [
    {
     "data": {
      "text/plain": [
       "32"
      ]
     },
     "execution_count": 117,
     "metadata": {},
     "output_type": "execute_result"
    }
   ],
   "source": [
    "# assembly_threshold = assembly_thresholds[11]\n",
    "assembly_threshold = assembly_thresholds[3]"
   ]
  },
  {
   "cell_type": "code",
   "execution_count": 118,
   "id": "450a6a9e-e50d-4689-a366-56c0f7901de3",
   "metadata": {},
   "outputs": [
    {
     "data": {
      "text/plain": [
       "OrderedCollections.OrderedDict{BioSequences.DNAMer{13}, Int64} with 9982 entries:\n",
       "  AAAAAACTTATCA => 92\n",
       "  AAAAAACTTGAGC => 83\n",
       "  AAAAAATCGTATC => 72\n",
       "  AAAAACAGATTAC => 89\n",
       "  AAAAACTACTGGG => 86\n",
       "  AAAAACTTATCAC => 108\n",
       "  AAAAACTTGAGCA => 91\n",
       "  AAAAAGCTACCGT => 85\n",
       "  AAAAAGGCGAATC => 86\n",
       "  AAAAAGTCTCAAA => 91\n",
       "  AAAAAGTTTGCCT => 85\n",
       "  AAAAATATTCAAA => 114\n",
       "  AAAAATCGTATCA => 84\n",
       "  AAAACACAATATT => 91\n",
       "  AAAACAGATTACG => 92\n",
       "  AAAACATAGGGGT => 89\n",
       "  AAAACCAATCTCG => 83\n",
       "  AAAACCCCTACTT => 95\n",
       "  AAAACCGAGTTGT => 83\n",
       "  AAAACCGGTTGTT => 84\n",
       "  AAAACCTTTATTC => 85\n",
       "  AAAACGACCAATC => 73\n",
       "  AAAACGCGGGGTC => 93\n",
       "  AAAACGGTTCCCC => 84\n",
       "  AAAACGTACGGCG => 90\n",
       "  ⋮             => ⋮"
      ]
     },
     "execution_count": 118,
     "metadata": {},
     "output_type": "execute_result"
    }
   ],
   "source": [
    "filtered_kmer_counts = filter(x -> x[2] >= assembly_threshold, kmer_counts)"
   ]
  },
  {
   "cell_type": "code",
   "execution_count": 119,
   "id": "b48acbb5-9bd2-45c3-b518-1d0096a6f29d",
   "metadata": {},
   "outputs": [
    {
     "data": {
      "text/plain": [
       "9982"
      ]
     },
     "execution_count": 119,
     "metadata": {},
     "output_type": "execute_result"
    }
   ],
   "source": [
    "K = length(keys(filtered_kmer_counts))"
   ]
  },
  {
   "cell_type": "code",
   "execution_count": 120,
   "id": "3ad5ecaa-1566-43ef-9716-09d2bb71142f",
   "metadata": {},
   "outputs": [],
   "source": [
    "# create an undirected kmer graph from the sequence"
   ]
  },
  {
   "cell_type": "code",
   "execution_count": 121,
   "id": "eea8a51d-6f61-4409-91f2-c9206c94e578",
   "metadata": {},
   "outputs": [
    {
     "data": {
      "text/plain": [
       "{9982, 0} undirected Int64 metagraph with Float64 weights defined by :weight (default weight 1.0)"
      ]
     },
     "execution_count": 121,
     "metadata": {},
     "output_type": "execute_result"
    }
   ],
   "source": [
    "graph = MetaGraphs.MetaGraph(K)\n",
    "# graph = Graphs.SimpleGraph(K)"
   ]
  },
  {
   "cell_type": "code",
   "execution_count": 122,
   "id": "9550366b-c8d0-4eee-8742-c5b52d3d1f19",
   "metadata": {},
   "outputs": [],
   "source": [
    "ProgressMeter.@showprogress for (i, (kmer, count)) in enumerate(filtered_kmer_counts)\n",
    "#     @show i, kmer, count\n",
    "    MetaGraphs.set_prop!(graph, i, :kmer, kmer)\n",
    "    MetaGraphs.set_prop!(graph, i, :count, count)\n",
    "end"
   ]
  },
  {
   "cell_type": "code",
   "execution_count": 123,
   "id": "08821979-313e-4fbf-a33f-3400e514170f",
   "metadata": {},
   "outputs": [
    {
     "data": {
      "text/plain": [
       "9982-element Vector{BioSequences.DNAMer{13}}:\n",
       " AAAAAACTTATCA\n",
       " AAAAAACTTGAGC\n",
       " AAAAAATCGTATC\n",
       " AAAAACAGATTAC\n",
       " AAAAACTACTGGG\n",
       " AAAAACTTATCAC\n",
       " AAAAACTTGAGCA\n",
       " AAAAAGCTACCGT\n",
       " AAAAAGGCGAATC\n",
       " AAAAAGTCTCAAA\n",
       " AAAAAGTTTGCCT\n",
       " AAAAATATTCAAA\n",
       " AAAAATCGTATCA\n",
       " ⋮\n",
       " TTCTGTCCGTAAA\n",
       " TTGAAGCGTGCAA\n",
       " TTGACGAACCCAA\n",
       " TTGAGACTGCCAA\n",
       " TTGCTCTCAAAAA\n",
       " TTGGCAATGTAAA\n",
       " TTGGGTCGTTAAA\n",
       " TTGTCTCGCAAAA\n",
       " TTGTTTGAGAAAA\n",
       " TTTATCGCGAAAA\n",
       " TTTCCGAGCCAAA\n",
       " TTTCTCAAACAAA"
      ]
     },
     "execution_count": 123,
     "metadata": {},
     "output_type": "execute_result"
    }
   ],
   "source": [
    "kmers = collect(keys(filtered_kmer_counts))"
   ]
  },
  {
   "cell_type": "code",
   "execution_count": 124,
   "id": "9a072b72-bbf6-4d95-b2f2-928f01b04aae",
   "metadata": {},
   "outputs": [],
   "source": [
    "# p = ProgressMeter.Progress(8452, 1)\n",
    "# 50 minutes\n",
    "# 40 minutes\n",
    "# 0:09:51!\n",
    "for record in Mycelia.open_fastx(fastq_file)\n",
    "    for edge_mer in BioSequences.each(BioSequences.DNAMer{k+1}, FASTX.sequence(record))\n",
    "        add_edge_to_graph(graph, edge_mer, kmers)\n",
    "    end\n",
    "#     ProgressMeter.next!(p)\n",
    "end"
   ]
  },
  {
   "cell_type": "code",
   "execution_count": 125,
   "id": "5c2cb579-000d-48a2-8d80-d230c1f32139",
   "metadata": {},
   "outputs": [
    {
     "name": "stdout",
     "output_type": "stream",
     "text": [
      "connected_components = 1\n",
      "fit_mean = Mean: n=9982 | value=2.00331\n"
     ]
    },
    {
     "data": {
      "text/plain": [
       "Mean: n=9982 | value=2.00331"
      ]
     },
     "execution_count": 125,
     "metadata": {},
     "output_type": "execute_result"
    }
   ],
   "source": [
    "# how many connected components?\n",
    "connected_components = length(Graphs.connected_components(graph))\n",
    "@show connected_components\n",
    "# @show push!(number_of_connected_components, connected_components)\n",
    "\n",
    "# average connectedness\n",
    "fit_mean = OnlineStats.fit!(OnlineStats.Mean(), length(Graphs.neighbors(graph, v)) for v in Graphs.vertices(graph))\n",
    "@show fit_mean\n",
    "# @show push!(mean_connectivity_values, fit_mean)"
   ]
  },
  {
   "cell_type": "code",
   "execution_count": 93,
   "id": "0dac44fb-5a2f-4417-9d07-9f14d748bbb0",
   "metadata": {},
   "outputs": [],
   "source": [
    "# average connectedness"
   ]
  },
  {
   "cell_type": "code",
   "execution_count": 126,
   "id": "7ba84695-4a28-4573-bccc-0c620fca4b5b",
   "metadata": {},
   "outputs": [
    {
     "name": "stdout",
     "output_type": "stream",
     "text": [
      "K = 6\n",
      "connected_components = 4\n",
      "push!(number_of_connected_components, connected_components) = Any[4]\n",
      "fit_mean = Mean: n=6 | value=0.833333\n",
      "push!(mean_connectivity_values, fit_mean) = Any[Mean: n=6 | value=0.833333]\n",
      "K = 9953\n",
      "connected_components = 17\n",
      "push!(number_of_connected_components, connected_components) = Any[4, 17]\n",
      "fit_mean = Mean: n=9953 | value=1.99829\n",
      "push!(mean_connectivity_values, fit_mean) = Any[Mean: n=6 | value=0.833333, Mean: n=9953 | value=1.99829]\n",
      "K = 9982\n",
      "connected_components = 1\n",
      "push!(number_of_connected_components, connected_components) = Any[4, 17, 1]\n",
      "fit_mean = Mean: n=9982 | value=2.00331\n",
      "push!(mean_connectivity_values, fit_mean) = Any[Mean: n=6 | value=0.833333, Mean: n=9953 | value=1.99829, Mean: n=9982 | value=2.00331]\n",
      "K = 10277\n",
      "connected_components = 30\n",
      "push!(number_of_connected_components, connected_components) = Any[4, 17, 1, 30]\n",
      "fit_mean = Mean: n=10277 | value=1.99971\n",
      "push!(mean_connectivity_values, fit_mean) = Any[Mean: n=6 | value=0.833333, Mean: n=9953 | value=1.99829, Mean: n=9982 | value=2.00331, Mean: n=10277 | value=1.99971]\n",
      "K = 20686\n",
      "connected_components = 805\n",
      "push!(number_of_connected_components, connected_components) = Any[4, 17, 1, 30, 805]\n",
      "fit_mean = Mean: n=20686 | value=1.98313\n",
      "push!(mean_connectivity_values, fit_mean) = Any[Mean: n=6 | value=0.833333, Mean: n=9953 | value=1.99829, Mean: n=9982 | value=2.00331, Mean: n=10277 | value=1.99971, Mean: n=20686 | value=1.98313]\n",
      "K = 89709\n",
      "connected_components = 5723\n",
      "push!(number_of_connected_components, connected_components) = Any[4, 17, 1, 30, 805, 5723]\n",
      "fit_mean = Mean: n=89709 | value=2.01055\n",
      "push!(mean_connectivity_values, fit_mean) = Any[Mean: n=6 | value=0.833333, Mean: n=9953 | value=1.99829, Mean: n=9982 | value=2.00331, Mean: n=10277 | value=1.99971, Mean: n=20686 | value=1.98313, Mean: n=89709 | value=2.01055]\n",
      "K = 344126\n",
      "connected_components = 18280\n",
      "push!(number_of_connected_components, connected_components) = Any[4, 17, 1, 30, 805, 5723, 18280]\n",
      "fit_mean = Mean: n=344126 | value=2.03962\n",
      "push!(mean_connectivity_values, fit_mean) = Any[Mean: n=6 | value=0.833333, Mean: n=9953 | value=1.99829, Mean: n=9982 | value=2.00331, Mean: n=10277 | value=1.99971, Mean: n=20686 | value=1.98313, Mean: n=89709 | value=2.01055, Mean: n=344126 | value=2.03962]\n",
      "K = 1495980\n",
      "connected_components = 1\n",
      "push!(number_of_connected_components, connected_components) = Any[4, 17, 1, 30, 805, 5723, 18280, 1]\n",
      "fit_mean = Mean: n=1495980 | value=2.21088\n",
      "push!(mean_connectivity_values, fit_mean) = Any[Mean: n=6 | value=0.833333, Mean: n=9953 | value=1.99829, Mean: n=9982 | value=2.00331, Mean: n=10277 | value=1.99971, Mean: n=20686 | value=1.98313, Mean: n=89709 | value=2.01055, Mean: n=344126 | value=2.03962, Mean: n=1495980 | value=2.21088]\n"
     ]
    }
   ],
   "source": [
    "number_of_connected_components = []\n",
    "mean_connectivity_values = Any[]\n",
    "for (i, assembly_threshold) in enumerate(assembly_thresholds)\n",
    "#     assembly_threshold = assembly_thresholds[i]\n",
    "    \n",
    "    filtered_kmer_counts = filter(x -> x[2] >= assembly_threshold, kmer_counts)\n",
    "    K = length(keys(filtered_kmer_counts))\n",
    "    @show K\n",
    "    graph = MetaGraphs.MetaGraph(K)\n",
    "    for (i, (kmer, count)) in enumerate(filtered_kmer_counts)\n",
    "        MetaGraphs.set_prop!(graph, i, :kmer, kmer)\n",
    "        MetaGraphs.set_prop!(graph, i, :count, count)\n",
    "    end\n",
    "\n",
    "    kmers = collect(keys(filtered_kmer_counts))\n",
    "\n",
    "    for record in Mycelia.open_fastx(fastq_file)\n",
    "        for edge_mer in BioSequences.each(BioSequences.DNAMer{k+1}, FASTX.sequence(record))\n",
    "            add_edge_to_graph(graph, edge_mer, kmers)\n",
    "        end\n",
    "    end\n",
    "\n",
    "    # how many connected components?\n",
    "    connected_components = length(Graphs.connected_components(graph))\n",
    "    @show connected_components\n",
    "    @show push!(number_of_connected_components, connected_components)\n",
    "\n",
    "    # average connectedness\n",
    "    fit_mean = OnlineStats.fit!(OnlineStats.Mean(), length(Graphs.neighbors(graph, v)) for v in Graphs.vertices(graph))\n",
    "    @show fit_mean\n",
    "    @show push!(mean_connectivity_values, fit_mean)\n",
    "end"
   ]
  },
  {
   "cell_type": "code",
   "execution_count": null,
   "id": "85a4461e-369a-4498-b14f-1e65f452400f",
   "metadata": {},
   "outputs": [],
   "source": [
    "number_of_connected_components"
   ]
  },
  {
   "cell_type": "code",
   "execution_count": null,
   "id": "d830d26d-f7f9-4692-ba3f-d6333f57509e",
   "metadata": {},
   "outputs": [],
   "source": [
    "mean_connectivity_values"
   ]
  },
  {
   "cell_type": "code",
   "execution_count": 127,
   "id": "4960e370-4d34-490e-8f4b-f7da78bec955",
   "metadata": {},
   "outputs": [
    {
     "data": {
      "text/plain": [
       "8-element Vector{Float64}:\n",
       " 7.0\n",
       " 6.0\n",
       " 5.0\n",
       " 4.0\n",
       " 3.0\n",
       " 2.0\n",
       " 1.0\n",
       " 0.0"
      ]
     },
     "execution_count": 127,
     "metadata": {},
     "output_type": "execute_result"
    }
   ],
   "source": [
    "xs = log2.(assembly_thresholds)"
   ]
  },
  {
   "cell_type": "code",
   "execution_count": 132,
   "id": "8d2ad600-01dd-493f-85fa-0c23a5446bbf",
   "metadata": {},
   "outputs": [
    {
     "data": {
      "text/plain": [
       "8-element Vector{Float64}:\n",
       " 0.8333333333333333\n",
       " 1.9982919722696668\n",
       " 2.00330595071128\n",
       " 1.9997080860173198\n",
       " 1.9831286860678738\n",
       " 2.0105452072813357\n",
       " 2.0396221151554608\n",
       " 2.2108764823057983"
      ]
     },
     "execution_count": 132,
     "metadata": {},
     "output_type": "execute_result"
    }
   ],
   "source": []
  },
  {
   "cell_type": "code",
   "execution_count": 143,
   "id": "6e43862c-a1eb-499b-ab52-40d792de2757",
   "metadata": {},
   "outputs": [
    {
     "data": {
      "image/svg+xml": [
       "<?xml version=\"1.0\" encoding=\"utf-8\"?>\n",
       "<svg xmlns=\"http://www.w3.org/2000/svg\" xmlns:xlink=\"http://www.w3.org/1999/xlink\" width=\"600\" height=\"400\" viewBox=\"0 0 2400 1600\">\n",
       "<defs>\n",
       "  <clipPath id=\"clip030\">\n",
       "    <rect x=\"0\" y=\"0\" width=\"2400\" height=\"1600\"/>\n",
       "  </clipPath>\n",
       "</defs>\n",
       "<path clip-path=\"url(#clip030)\" d=\"\n",
       "M0 1600 L2400 1600 L2400 0 L0 0  Z\n",
       "  \" fill=\"#ffffff\" fill-rule=\"evenodd\" fill-opacity=\"1\"/>\n",
       "<defs>\n",
       "  <clipPath id=\"clip031\">\n",
       "    <rect x=\"480\" y=\"0\" width=\"1681\" height=\"1600\"/>\n",
       "  </clipPath>\n",
       "</defs>\n",
       "<path clip-path=\"url(#clip030)\" d=\"\n",
       "M200.63 1423.18 L2352.76 1423.18 L2352.76 47.2441 L200.63 47.2441  Z\n",
       "  \" fill=\"#ffffff\" fill-rule=\"evenodd\" fill-opacity=\"1\"/>\n",
       "<defs>\n",
       "  <clipPath id=\"clip032\">\n",
       "    <rect x=\"200\" y=\"47\" width=\"2153\" height=\"1377\"/>\n",
       "  </clipPath>\n",
       "</defs>\n",
       "<polyline clip-path=\"url(#clip032)\" style=\"stroke:#000000; stroke-linecap:butt; stroke-linejoin:round; stroke-width:2; stroke-opacity:0.1; fill:none\" points=\"\n",
       "  261.539,1423.18 261.539,47.2441 \n",
       "  \"/>\n",
       "<polyline clip-path=\"url(#clip032)\" style=\"stroke:#000000; stroke-linecap:butt; stroke-linejoin:round; stroke-width:2; stroke-opacity:0.1; fill:none\" points=\"\n",
       "  841.627,1423.18 841.627,47.2441 \n",
       "  \"/>\n",
       "<polyline clip-path=\"url(#clip032)\" style=\"stroke:#000000; stroke-linecap:butt; stroke-linejoin:round; stroke-width:2; stroke-opacity:0.1; fill:none\" points=\"\n",
       "  1421.72,1423.18 1421.72,47.2441 \n",
       "  \"/>\n",
       "<polyline clip-path=\"url(#clip032)\" style=\"stroke:#000000; stroke-linecap:butt; stroke-linejoin:round; stroke-width:2; stroke-opacity:0.1; fill:none\" points=\"\n",
       "  2001.8,1423.18 2001.8,47.2441 \n",
       "  \"/>\n",
       "<polyline clip-path=\"url(#clip030)\" style=\"stroke:#000000; stroke-linecap:butt; stroke-linejoin:round; stroke-width:4; stroke-opacity:1; fill:none\" points=\"\n",
       "  200.63,1423.18 2352.76,1423.18 \n",
       "  \"/>\n",
       "<polyline clip-path=\"url(#clip030)\" style=\"stroke:#000000; stroke-linecap:butt; stroke-linejoin:round; stroke-width:4; stroke-opacity:1; fill:none\" points=\"\n",
       "  261.539,1423.18 261.539,1404.28 \n",
       "  \"/>\n",
       "<polyline clip-path=\"url(#clip030)\" style=\"stroke:#000000; stroke-linecap:butt; stroke-linejoin:round; stroke-width:4; stroke-opacity:1; fill:none\" points=\"\n",
       "  841.627,1423.18 841.627,1404.28 \n",
       "  \"/>\n",
       "<polyline clip-path=\"url(#clip030)\" style=\"stroke:#000000; stroke-linecap:butt; stroke-linejoin:round; stroke-width:4; stroke-opacity:1; fill:none\" points=\"\n",
       "  1421.72,1423.18 1421.72,1404.28 \n",
       "  \"/>\n",
       "<polyline clip-path=\"url(#clip030)\" style=\"stroke:#000000; stroke-linecap:butt; stroke-linejoin:round; stroke-width:4; stroke-opacity:1; fill:none\" points=\"\n",
       "  2001.8,1423.18 2001.8,1404.28 \n",
       "  \"/>\n",
       "<path clip-path=\"url(#clip030)\" d=\"M261.539 1452.37 Q257.928 1452.37 256.1 1455.94 Q254.294 1459.48 254.294 1466.61 Q254.294 1473.71 256.1 1477.28 Q257.928 1480.82 261.539 1480.82 Q265.174 1480.82 266.979 1477.28 Q268.808 1473.71 268.808 1466.61 Q268.808 1459.48 266.979 1455.94 Q265.174 1452.37 261.539 1452.37 M261.539 1448.67 Q267.35 1448.67 270.405 1453.27 Q273.484 1457.86 273.484 1466.61 Q273.484 1475.33 270.405 1479.94 Q267.35 1484.52 261.539 1484.52 Q255.729 1484.52 252.651 1479.94 Q249.595 1475.33 249.595 1466.61 Q249.595 1457.86 252.651 1453.27 Q255.729 1448.67 261.539 1448.67 Z\" fill=\"#000000\" fill-rule=\"evenodd\" fill-opacity=\"1\" /><path clip-path=\"url(#clip030)\" d=\"M836.28 1479.92 L852.599 1479.92 L852.599 1483.85 L830.655 1483.85 L830.655 1479.92 Q833.317 1477.16 837.9 1472.53 Q842.507 1467.88 843.687 1466.54 Q845.933 1464.01 846.812 1462.28 Q847.715 1460.52 847.715 1458.83 Q847.715 1456.07 845.771 1454.34 Q843.849 1452.6 840.748 1452.6 Q838.549 1452.6 836.095 1453.37 Q833.664 1454.13 830.887 1455.68 L830.887 1450.96 Q833.711 1449.82 836.164 1449.25 Q838.618 1448.67 840.655 1448.67 Q846.025 1448.67 849.22 1451.35 Q852.414 1454.04 852.414 1458.53 Q852.414 1460.66 851.604 1462.58 Q850.817 1464.48 848.711 1467.07 Q848.132 1467.74 845.03 1470.96 Q841.928 1474.15 836.28 1479.92 Z\" fill=\"#000000\" fill-rule=\"evenodd\" fill-opacity=\"1\" /><path clip-path=\"url(#clip030)\" d=\"M1424.72 1453.37 L1412.92 1471.81 L1424.72 1471.81 L1424.72 1453.37 M1423.5 1449.29 L1429.38 1449.29 L1429.38 1471.81 L1434.31 1471.81 L1434.31 1475.7 L1429.38 1475.7 L1429.38 1483.85 L1424.72 1483.85 L1424.72 1475.7 L1409.12 1475.7 L1409.12 1471.19 L1423.5 1449.29 Z\" fill=\"#000000\" fill-rule=\"evenodd\" fill-opacity=\"1\" /><path clip-path=\"url(#clip030)\" d=\"M2002.21 1464.71 Q1999.06 1464.71 1997.21 1466.86 Q1995.38 1469.01 1995.38 1472.76 Q1995.38 1476.49 1997.21 1478.67 Q1999.06 1480.82 2002.21 1480.82 Q2005.36 1480.82 2007.18 1478.67 Q2009.04 1476.49 2009.04 1472.76 Q2009.04 1469.01 2007.18 1466.86 Q2005.36 1464.71 2002.21 1464.71 M2011.49 1450.06 L2011.49 1454.31 Q2009.73 1453.48 2007.93 1453.04 Q2006.14 1452.6 2004.38 1452.6 Q1999.75 1452.6 1997.3 1455.73 Q1994.87 1458.85 1994.52 1465.17 Q1995.89 1463.16 1997.95 1462.09 Q2000.01 1461 2002.49 1461 Q2007.69 1461 2010.7 1464.18 Q2013.74 1467.32 2013.74 1472.76 Q2013.74 1478.09 2010.59 1481.31 Q2007.44 1484.52 2002.21 1484.52 Q1996.21 1484.52 1993.04 1479.94 Q1989.87 1475.33 1989.87 1466.61 Q1989.87 1458.41 1993.76 1453.55 Q1997.65 1448.67 2004.2 1448.67 Q2005.96 1448.67 2007.74 1449.01 Q2009.55 1449.36 2011.49 1450.06 Z\" fill=\"#000000\" fill-rule=\"evenodd\" fill-opacity=\"1\" /><path clip-path=\"url(#clip030)\" d=\"M764.954 1518.52 L770.81 1518.52 L770.81 1568.04 L764.954 1568.04 L764.954 1518.52 Z\" fill=\"#000000\" fill-rule=\"evenodd\" fill-opacity=\"1\" /><path clip-path=\"url(#clip030)\" d=\"M796.878 1536.5 Q792.167 1536.5 789.43 1540.19 Q786.693 1543.85 786.693 1550.25 Q786.693 1556.65 789.398 1560.34 Q792.135 1564 796.878 1564 Q801.557 1564 804.294 1560.31 Q807.031 1556.62 807.031 1550.25 Q807.031 1543.92 804.294 1540.23 Q801.557 1536.5 796.878 1536.5 M796.878 1531.54 Q804.517 1531.54 808.877 1536.5 Q813.238 1541.47 813.238 1550.25 Q813.238 1559 808.877 1564 Q804.517 1568.97 796.878 1568.97 Q789.207 1568.97 784.847 1564 Q780.518 1559 780.518 1550.25 Q780.518 1541.47 784.847 1536.5 Q789.207 1531.54 796.878 1531.54 Z\" fill=\"#000000\" fill-rule=\"evenodd\" fill-opacity=\"1\" /><path clip-path=\"url(#clip030)\" d=\"M846.403 1549.81 Q846.403 1543.44 843.761 1539.94 Q841.151 1536.44 836.409 1536.44 Q831.698 1536.44 829.057 1539.94 Q826.447 1543.44 826.447 1549.81 Q826.447 1556.14 829.057 1559.64 Q831.698 1563.14 836.409 1563.14 Q841.151 1563.14 843.761 1559.64 Q846.403 1556.14 846.403 1549.81 M852.26 1563.62 Q852.26 1572.72 848.217 1577.15 Q844.175 1581.6 835.836 1581.6 Q832.749 1581.6 830.011 1581.13 Q827.274 1580.68 824.696 1579.72 L824.696 1574.03 Q827.274 1575.43 829.789 1576.1 Q832.303 1576.76 834.913 1576.76 Q840.674 1576.76 843.539 1573.74 Q846.403 1570.75 846.403 1564.67 L846.403 1561.77 Q844.589 1564.92 841.756 1566.48 Q838.923 1568.04 834.977 1568.04 Q828.42 1568.04 824.41 1563.05 Q820.399 1558.05 820.399 1549.81 Q820.399 1541.53 824.41 1536.53 Q828.42 1531.54 834.977 1531.54 Q838.923 1531.54 841.756 1533.1 Q844.589 1534.66 846.403 1537.81 L846.403 1532.4 L852.26 1532.4 L852.26 1563.62 Z\" fill=\"#000000\" fill-rule=\"evenodd\" fill-opacity=\"1\" /><path clip-path=\"url(#clip030)\" d=\"M870.688 1562.63 L893.127 1562.63 L893.127 1568.04 L862.954 1568.04 L862.954 1562.63 Q866.614 1558.85 872.916 1552.48 Q879.25 1546.08 880.873 1544.24 Q883.961 1540.77 885.17 1538.38 Q886.412 1535.96 886.412 1533.64 Q886.412 1529.85 883.738 1527.46 Q881.096 1525.08 876.831 1525.08 Q873.808 1525.08 870.434 1526.13 Q867.092 1527.18 863.272 1529.31 L863.272 1522.82 Q867.155 1521.26 870.529 1520.46 Q873.903 1519.66 876.704 1519.66 Q884.088 1519.66 888.48 1523.36 Q892.873 1527.05 892.873 1533.22 Q892.873 1536.15 891.759 1538.79 Q890.677 1541.4 887.78 1544.97 Q886.985 1545.89 882.719 1550.32 Q878.454 1554.71 870.688 1562.63 Z\" fill=\"#000000\" fill-rule=\"evenodd\" fill-opacity=\"1\" /><path clip-path=\"url(#clip030)\" d=\"M919.863 1518.58 Q915.598 1525.9 913.53 1533.06 Q911.461 1540.23 911.461 1547.58 Q911.461 1554.93 913.53 1562.16 Q915.63 1569.35 919.863 1576.64 L914.771 1576.64 Q909.997 1569.16 907.609 1561.93 Q905.254 1554.71 905.254 1547.58 Q905.254 1540.48 907.609 1533.29 Q909.965 1526.09 914.771 1518.58 L919.863 1518.58 Z\" fill=\"#000000\" fill-rule=\"evenodd\" fill-opacity=\"1\" /><path clip-path=\"url(#clip030)\" d=\"M931.003 1518.52 L936.892 1518.52 L936.892 1547.77 L954.366 1532.4 L961.845 1532.4 L942.939 1549.07 L962.641 1568.04 L955.002 1568.04 L936.892 1550.63 L936.892 1568.04 L931.003 1568.04 L931.003 1518.52 Z\" fill=\"#000000\" fill-rule=\"evenodd\" fill-opacity=\"1\" /><path clip-path=\"url(#clip030)\" d=\"M996.729 1539.24 Q998.925 1535.29 1001.98 1533.41 Q1005.04 1531.54 1009.17 1531.54 Q1014.74 1531.54 1017.77 1535.45 Q1020.79 1539.33 1020.79 1546.53 L1020.79 1568.04 L1014.9 1568.04 L1014.9 1546.72 Q1014.9 1541.59 1013.09 1539.11 Q1011.27 1536.63 1007.55 1536.63 Q1003 1536.63 1000.36 1539.65 Q997.716 1542.68 997.716 1547.9 L997.716 1568.04 L991.828 1568.04 L991.828 1546.72 Q991.828 1541.56 990.013 1539.11 Q988.199 1536.63 984.412 1536.63 Q979.924 1536.63 977.282 1539.68 Q974.64 1542.71 974.64 1547.9 L974.64 1568.04 L968.752 1568.04 L968.752 1532.4 L974.64 1532.4 L974.64 1537.93 Q976.645 1534.66 979.446 1533.1 Q982.247 1531.54 986.099 1531.54 Q989.982 1531.54 992.687 1533.51 Q995.424 1535.48 996.729 1539.24 Z\" fill=\"#000000\" fill-rule=\"evenodd\" fill-opacity=\"1\" /><path clip-path=\"url(#clip030)\" d=\"M1062.96 1548.76 L1062.96 1551.62 L1036.04 1551.62 Q1036.42 1557.67 1039.67 1560.85 Q1042.94 1564 1048.77 1564 Q1052.14 1564 1055.29 1563.17 Q1058.48 1562.35 1061.6 1560.69 L1061.6 1566.23 Q1058.44 1567.57 1055.13 1568.27 Q1051.82 1568.97 1048.42 1568.97 Q1039.89 1568.97 1034.89 1564 Q1029.93 1559.04 1029.93 1550.57 Q1029.93 1541.82 1034.64 1536.69 Q1039.38 1531.54 1047.4 1531.54 Q1054.59 1531.54 1058.76 1536.18 Q1062.96 1540.8 1062.96 1548.76 M1057.11 1547.04 Q1057.04 1542.23 1054.4 1539.37 Q1051.79 1536.5 1047.46 1536.5 Q1042.56 1536.5 1039.6 1539.27 Q1036.67 1542.04 1036.23 1547.07 L1057.11 1547.04 Z\" fill=\"#000000\" fill-rule=\"evenodd\" fill-opacity=\"1\" /><path clip-path=\"url(#clip030)\" d=\"M1093.23 1537.87 Q1092.25 1537.3 1091.07 1537.04 Q1089.92 1536.76 1088.52 1536.76 Q1083.56 1536.76 1080.88 1540 Q1078.24 1543.22 1078.24 1549.27 L1078.24 1568.04 L1072.35 1568.04 L1072.35 1532.4 L1078.24 1532.4 L1078.24 1537.93 Q1080.09 1534.69 1083.05 1533.13 Q1086.01 1531.54 1090.24 1531.54 Q1090.85 1531.54 1091.58 1531.63 Q1092.31 1531.7 1093.2 1531.85 L1093.23 1537.87 Z\" fill=\"#000000\" fill-rule=\"evenodd\" fill-opacity=\"1\" /><path clip-path=\"url(#clip030)\" d=\"M1138.14 1518.52 L1138.14 1523.39 L1132.54 1523.39 Q1129.39 1523.39 1128.15 1524.66 Q1126.94 1525.93 1126.94 1529.24 L1126.94 1532.4 L1136.58 1532.4 L1136.58 1536.95 L1126.94 1536.95 L1126.94 1568.04 L1121.05 1568.04 L1121.05 1536.95 L1115.45 1536.95 L1115.45 1532.4 L1121.05 1532.4 L1121.05 1529.91 Q1121.05 1523.96 1123.82 1521.26 Q1126.59 1518.52 1132.61 1518.52 L1138.14 1518.52 Z\" fill=\"#000000\" fill-rule=\"evenodd\" fill-opacity=\"1\" /><path clip-path=\"url(#clip030)\" d=\"M1163.7 1537.87 Q1162.72 1537.3 1161.54 1537.04 Q1160.39 1536.76 1158.99 1536.76 Q1154.03 1536.76 1151.35 1540 Q1148.71 1543.22 1148.71 1549.27 L1148.71 1568.04 L1142.82 1568.04 L1142.82 1532.4 L1148.71 1532.4 L1148.71 1537.93 Q1150.56 1534.69 1153.52 1533.13 Q1156.48 1531.54 1160.71 1531.54 Q1161.31 1531.54 1162.05 1531.63 Q1162.78 1531.7 1163.67 1531.85 L1163.7 1537.87 Z\" fill=\"#000000\" fill-rule=\"evenodd\" fill-opacity=\"1\" /><path clip-path=\"url(#clip030)\" d=\"M1198.9 1548.76 L1198.9 1551.62 L1171.98 1551.62 Q1172.36 1557.67 1175.61 1560.85 Q1178.88 1564 1184.71 1564 Q1188.08 1564 1191.23 1563.17 Q1194.42 1562.35 1197.54 1560.69 L1197.54 1566.23 Q1194.38 1567.57 1191.07 1568.27 Q1187.76 1568.97 1184.36 1568.97 Q1175.83 1568.97 1170.83 1564 Q1165.87 1559.04 1165.87 1550.57 Q1165.87 1541.82 1170.58 1536.69 Q1175.32 1531.54 1183.34 1531.54 Q1190.53 1531.54 1194.7 1536.18 Q1198.9 1540.8 1198.9 1548.76 M1193.05 1547.04 Q1192.98 1542.23 1190.34 1539.37 Q1187.73 1536.5 1183.4 1536.5 Q1178.5 1536.5 1175.54 1539.27 Q1172.61 1542.04 1172.17 1547.07 L1193.05 1547.04 Z\" fill=\"#000000\" fill-rule=\"evenodd\" fill-opacity=\"1\" /><path clip-path=\"url(#clip030)\" d=\"M1212.02 1550.25 Q1212.02 1556.71 1214.66 1560.4 Q1217.33 1564.07 1221.98 1564.07 Q1226.63 1564.07 1229.3 1560.4 Q1231.97 1556.71 1231.97 1550.25 Q1231.97 1543.79 1229.3 1540.13 Q1226.63 1536.44 1221.98 1536.44 Q1217.33 1536.44 1214.66 1540.13 Q1212.02 1543.79 1212.02 1550.25 M1231.97 1562.7 Q1230.13 1565.88 1227.3 1567.44 Q1224.49 1568.97 1220.55 1568.97 Q1214.09 1568.97 1210.01 1563.81 Q1205.97 1558.65 1205.97 1550.25 Q1205.97 1541.85 1210.01 1536.69 Q1214.09 1531.54 1220.55 1531.54 Q1224.49 1531.54 1227.3 1533.1 Q1230.13 1534.62 1231.97 1537.81 L1231.97 1532.4 L1237.83 1532.4 L1237.83 1581.6 L1231.97 1581.6 L1231.97 1562.7 Z\" fill=\"#000000\" fill-rule=\"evenodd\" fill-opacity=\"1\" /><path clip-path=\"url(#clip030)\" d=\"M1249.29 1553.98 L1249.29 1532.4 L1255.15 1532.4 L1255.15 1553.75 Q1255.15 1558.81 1257.12 1561.36 Q1259.09 1563.87 1263.04 1563.87 Q1267.78 1563.87 1270.52 1560.85 Q1273.29 1557.83 1273.29 1552.61 L1273.29 1532.4 L1279.14 1532.4 L1279.14 1568.04 L1273.29 1568.04 L1273.29 1562.57 Q1271.15 1565.82 1268.32 1567.41 Q1265.52 1568.97 1261.8 1568.97 Q1255.65 1568.97 1252.47 1565.15 Q1249.29 1561.33 1249.29 1553.98 M1264.03 1531.54 L1264.03 1531.54 Z\" fill=\"#000000\" fill-rule=\"evenodd\" fill-opacity=\"1\" /><path clip-path=\"url(#clip030)\" d=\"M1321.7 1548.76 L1321.7 1551.62 L1294.77 1551.62 Q1295.15 1557.67 1298.4 1560.85 Q1301.68 1564 1307.5 1564 Q1310.88 1564 1314.03 1563.17 Q1317.21 1562.35 1320.33 1560.69 L1320.33 1566.23 Q1317.18 1567.57 1313.87 1568.27 Q1310.56 1568.97 1307.15 1568.97 Q1298.62 1568.97 1293.63 1564 Q1288.66 1559.04 1288.66 1550.57 Q1288.66 1541.82 1293.37 1536.69 Q1298.11 1531.54 1306.13 1531.54 Q1313.33 1531.54 1317.5 1536.18 Q1321.7 1540.8 1321.7 1548.76 M1315.84 1547.04 Q1315.78 1542.23 1313.14 1539.37 Q1310.53 1536.5 1306.2 1536.5 Q1301.3 1536.5 1298.34 1539.27 Q1295.41 1542.04 1294.96 1547.07 L1315.84 1547.04 Z\" fill=\"#000000\" fill-rule=\"evenodd\" fill-opacity=\"1\" /><path clip-path=\"url(#clip030)\" d=\"M1360.94 1546.53 L1360.94 1568.04 L1355.09 1568.04 L1355.09 1546.72 Q1355.09 1541.66 1353.11 1539.14 Q1351.14 1536.63 1347.19 1536.63 Q1342.45 1536.63 1339.71 1539.65 Q1336.98 1542.68 1336.98 1547.9 L1336.98 1568.04 L1331.09 1568.04 L1331.09 1532.4 L1336.98 1532.4 L1336.98 1537.93 Q1339.08 1534.72 1341.91 1533.13 Q1344.77 1531.54 1348.5 1531.54 Q1354.64 1531.54 1357.79 1535.36 Q1360.94 1539.14 1360.94 1546.53 Z\" fill=\"#000000\" fill-rule=\"evenodd\" fill-opacity=\"1\" /><path clip-path=\"url(#clip030)\" d=\"M1398.28 1533.76 L1398.28 1539.24 Q1395.8 1537.87 1393.28 1537.2 Q1390.8 1536.5 1388.25 1536.5 Q1382.55 1536.5 1379.4 1540.13 Q1376.25 1543.73 1376.25 1550.25 Q1376.25 1556.78 1379.4 1560.4 Q1382.55 1564 1388.25 1564 Q1390.8 1564 1393.28 1563.33 Q1395.8 1562.63 1398.28 1561.26 L1398.28 1566.68 Q1395.83 1567.82 1393.19 1568.39 Q1390.58 1568.97 1387.62 1568.97 Q1379.56 1568.97 1374.82 1563.91 Q1370.08 1558.85 1370.08 1550.25 Q1370.08 1541.53 1374.85 1536.53 Q1379.66 1531.54 1388 1531.54 Q1390.7 1531.54 1393.28 1532.11 Q1395.86 1532.65 1398.28 1533.76 Z\" fill=\"#000000\" fill-rule=\"evenodd\" fill-opacity=\"1\" /><path clip-path=\"url(#clip030)\" d=\"M1423.3 1571.35 Q1420.81 1577.72 1418.46 1579.66 Q1416.1 1581.6 1412.16 1581.6 L1407.48 1581.6 L1407.48 1576.7 L1410.91 1576.7 Q1413.33 1576.7 1414.67 1575.56 Q1416.01 1574.41 1417.63 1570.14 L1418.68 1567.47 L1404.26 1532.4 L1410.47 1532.4 L1421.61 1560.28 L1432.75 1532.4 L1438.95 1532.4 L1423.3 1571.35 Z\" fill=\"#000000\" fill-rule=\"evenodd\" fill-opacity=\"1\" /><path clip-path=\"url(#clip030)\" d=\"M1473.55 1522.27 L1473.55 1532.4 L1485.62 1532.4 L1485.62 1536.95 L1473.55 1536.95 L1473.55 1556.3 Q1473.55 1560.66 1474.73 1561.9 Q1475.94 1563.14 1479.6 1563.14 L1485.62 1563.14 L1485.62 1568.04 L1479.6 1568.04 Q1472.82 1568.04 1470.24 1565.53 Q1467.66 1562.98 1467.66 1556.3 L1467.66 1536.95 L1463.37 1536.95 L1463.37 1532.4 L1467.66 1532.4 L1467.66 1522.27 L1473.55 1522.27 Z\" fill=\"#000000\" fill-rule=\"evenodd\" fill-opacity=\"1\" /><path clip-path=\"url(#clip030)\" d=\"M1522.95 1546.53 L1522.95 1568.04 L1517.09 1568.04 L1517.09 1546.72 Q1517.09 1541.66 1515.12 1539.14 Q1513.15 1536.63 1509.2 1536.63 Q1504.46 1536.63 1501.72 1539.65 Q1498.98 1542.68 1498.98 1547.9 L1498.98 1568.04 L1493.1 1568.04 L1493.1 1518.52 L1498.98 1518.52 L1498.98 1537.93 Q1501.08 1534.72 1503.92 1533.13 Q1506.78 1531.54 1510.51 1531.54 Q1516.65 1531.54 1519.8 1535.36 Q1522.95 1539.14 1522.95 1546.53 Z\" fill=\"#000000\" fill-rule=\"evenodd\" fill-opacity=\"1\" /><path clip-path=\"url(#clip030)\" d=\"M1555.29 1537.87 Q1554.3 1537.3 1553.12 1537.04 Q1551.98 1536.76 1550.58 1536.76 Q1545.61 1536.76 1542.94 1540 Q1540.3 1543.22 1540.3 1549.27 L1540.3 1568.04 L1534.41 1568.04 L1534.41 1532.4 L1540.3 1532.4 L1540.3 1537.93 Q1542.14 1534.69 1545.1 1533.13 Q1548.06 1531.54 1552.3 1531.54 Q1552.9 1531.54 1553.63 1531.63 Q1554.37 1531.7 1555.26 1531.85 L1555.29 1537.87 Z\" fill=\"#000000\" fill-rule=\"evenodd\" fill-opacity=\"1\" /><path clip-path=\"url(#clip030)\" d=\"M1590.49 1548.76 L1590.49 1551.62 L1563.56 1551.62 Q1563.95 1557.67 1567.19 1560.85 Q1570.47 1564 1576.3 1564 Q1579.67 1564 1582.82 1563.17 Q1586 1562.35 1589.12 1560.69 L1589.12 1566.23 Q1585.97 1567.57 1582.66 1568.27 Q1579.35 1568.97 1575.94 1568.97 Q1567.41 1568.97 1562.42 1564 Q1557.45 1559.04 1557.45 1550.57 Q1557.45 1541.82 1562.16 1536.69 Q1566.91 1531.54 1574.93 1531.54 Q1582.12 1531.54 1586.29 1536.18 Q1590.49 1540.8 1590.49 1548.76 M1584.63 1547.04 Q1584.57 1542.23 1581.93 1539.37 Q1579.32 1536.5 1574.99 1536.5 Q1570.09 1536.5 1567.13 1539.27 Q1564.2 1542.04 1563.75 1547.07 L1584.63 1547.04 Z\" fill=\"#000000\" fill-rule=\"evenodd\" fill-opacity=\"1\" /><path clip-path=\"url(#clip030)\" d=\"M1622.83 1533.45 L1622.83 1538.98 Q1620.35 1537.71 1617.67 1537.07 Q1615 1536.44 1612.13 1536.44 Q1607.77 1536.44 1605.58 1537.77 Q1603.41 1539.11 1603.41 1541.79 Q1603.41 1543.82 1604.97 1545 Q1606.53 1546.15 1611.24 1547.2 L1613.25 1547.64 Q1619.49 1548.98 1622.1 1551.43 Q1624.74 1553.85 1624.74 1558.21 Q1624.74 1563.17 1620.79 1566.07 Q1616.88 1568.97 1610 1568.97 Q1607.14 1568.97 1604.02 1568.39 Q1600.93 1567.85 1597.49 1566.74 L1597.49 1560.69 Q1600.74 1562.38 1603.89 1563.24 Q1607.04 1564.07 1610.13 1564.07 Q1614.27 1564.07 1616.49 1562.66 Q1618.72 1561.23 1618.72 1558.65 Q1618.72 1556.27 1617.1 1554.99 Q1615.51 1553.72 1610.07 1552.54 L1608.03 1552.07 Q1602.59 1550.92 1600.17 1548.56 Q1597.75 1546.18 1597.75 1542.04 Q1597.75 1537.01 1601.31 1534.27 Q1604.88 1531.54 1611.43 1531.54 Q1614.68 1531.54 1617.54 1532.01 Q1620.41 1532.49 1622.83 1533.45 Z\" fill=\"#000000\" fill-rule=\"evenodd\" fill-opacity=\"1\" /><path clip-path=\"url(#clip030)\" d=\"M1663.7 1546.53 L1663.7 1568.04 L1657.84 1568.04 L1657.84 1546.72 Q1657.84 1541.66 1655.87 1539.14 Q1653.89 1536.63 1649.95 1536.63 Q1645.2 1536.63 1642.47 1539.65 Q1639.73 1542.68 1639.73 1547.9 L1639.73 1568.04 L1633.84 1568.04 L1633.84 1518.52 L1639.73 1518.52 L1639.73 1537.93 Q1641.83 1534.72 1644.66 1533.13 Q1647.53 1531.54 1651.25 1531.54 Q1657.39 1531.54 1660.55 1535.36 Q1663.7 1539.14 1663.7 1546.53 Z\" fill=\"#000000\" fill-rule=\"evenodd\" fill-opacity=\"1\" /><path clip-path=\"url(#clip030)\" d=\"M1689.19 1536.5 Q1684.48 1536.5 1681.74 1540.19 Q1679.01 1543.85 1679.01 1550.25 Q1679.01 1556.65 1681.71 1560.34 Q1684.45 1564 1689.19 1564 Q1693.87 1564 1696.61 1560.31 Q1699.34 1556.62 1699.34 1550.25 Q1699.34 1543.92 1696.61 1540.23 Q1693.87 1536.5 1689.19 1536.5 M1689.19 1531.54 Q1696.83 1531.54 1701.19 1536.5 Q1705.55 1541.47 1705.55 1550.25 Q1705.55 1559 1701.19 1564 Q1696.83 1568.97 1689.19 1568.97 Q1681.52 1568.97 1677.16 1564 Q1672.83 1559 1672.83 1550.25 Q1672.83 1541.47 1677.16 1536.5 Q1681.52 1531.54 1689.19 1531.54 Z\" fill=\"#000000\" fill-rule=\"evenodd\" fill-opacity=\"1\" /><path clip-path=\"url(#clip030)\" d=\"M1715.26 1518.52 L1721.11 1518.52 L1721.11 1568.04 L1715.26 1568.04 L1715.26 1518.52 Z\" fill=\"#000000\" fill-rule=\"evenodd\" fill-opacity=\"1\" /><path clip-path=\"url(#clip030)\" d=\"M1756.83 1537.81 L1756.83 1518.52 L1762.68 1518.52 L1762.68 1568.04 L1756.83 1568.04 L1756.83 1562.7 Q1754.98 1565.88 1752.15 1567.44 Q1749.35 1568.97 1745.4 1568.97 Q1738.94 1568.97 1734.86 1563.81 Q1730.82 1558.65 1730.82 1550.25 Q1730.82 1541.85 1734.86 1536.69 Q1738.94 1531.54 1745.4 1531.54 Q1749.35 1531.54 1752.15 1533.1 Q1754.98 1534.62 1756.83 1537.81 M1736.87 1550.25 Q1736.87 1556.71 1739.51 1560.4 Q1742.19 1564.07 1746.83 1564.07 Q1751.48 1564.07 1754.15 1560.4 Q1756.83 1556.71 1756.83 1550.25 Q1756.83 1543.79 1754.15 1540.13 Q1751.48 1536.44 1746.83 1536.44 Q1742.19 1536.44 1739.51 1540.13 Q1736.87 1543.79 1736.87 1550.25 Z\" fill=\"#000000\" fill-rule=\"evenodd\" fill-opacity=\"1\" /><path clip-path=\"url(#clip030)\" d=\"M1773.82 1518.58 L1778.92 1518.58 Q1783.69 1526.09 1786.05 1533.29 Q1788.43 1540.48 1788.43 1547.58 Q1788.43 1554.71 1786.05 1561.93 Q1783.69 1569.16 1778.92 1576.64 L1773.82 1576.64 Q1778.06 1569.35 1780.12 1562.16 Q1782.23 1554.93 1782.23 1547.58 Q1782.23 1540.23 1780.12 1533.06 Q1778.06 1525.9 1773.82 1518.58 Z\" fill=\"#000000\" fill-rule=\"evenodd\" fill-opacity=\"1\" /><polyline clip-path=\"url(#clip032)\" style=\"stroke:#000000; stroke-linecap:butt; stroke-linejoin:round; stroke-width:2; stroke-opacity:0.1; fill:none\" points=\"\n",
       "  200.63,1384.24 2352.76,1384.24 \n",
       "  \"/>\n",
       "<polyline clip-path=\"url(#clip032)\" style=\"stroke:#000000; stroke-linecap:butt; stroke-linejoin:round; stroke-width:2; stroke-opacity:0.1; fill:none\" points=\"\n",
       "  200.63,1109.19 2352.76,1109.19 \n",
       "  \"/>\n",
       "<polyline clip-path=\"url(#clip032)\" style=\"stroke:#000000; stroke-linecap:butt; stroke-linejoin:round; stroke-width:2; stroke-opacity:0.1; fill:none\" points=\"\n",
       "  200.63,834.137 2352.76,834.137 \n",
       "  \"/>\n",
       "<polyline clip-path=\"url(#clip032)\" style=\"stroke:#000000; stroke-linecap:butt; stroke-linejoin:round; stroke-width:2; stroke-opacity:0.1; fill:none\" points=\"\n",
       "  200.63,559.087 2352.76,559.087 \n",
       "  \"/>\n",
       "<polyline clip-path=\"url(#clip032)\" style=\"stroke:#000000; stroke-linecap:butt; stroke-linejoin:round; stroke-width:2; stroke-opacity:0.1; fill:none\" points=\"\n",
       "  200.63,284.037 2352.76,284.037 \n",
       "  \"/>\n",
       "<polyline clip-path=\"url(#clip030)\" style=\"stroke:#000000; stroke-linecap:butt; stroke-linejoin:round; stroke-width:4; stroke-opacity:1; fill:none\" points=\"\n",
       "  200.63,1423.18 200.63,47.2441 \n",
       "  \"/>\n",
       "<polyline clip-path=\"url(#clip030)\" style=\"stroke:#000000; stroke-linecap:butt; stroke-linejoin:round; stroke-width:4; stroke-opacity:1; fill:none\" points=\"\n",
       "  200.63,1384.24 219.528,1384.24 \n",
       "  \"/>\n",
       "<polyline clip-path=\"url(#clip030)\" style=\"stroke:#000000; stroke-linecap:butt; stroke-linejoin:round; stroke-width:4; stroke-opacity:1; fill:none\" points=\"\n",
       "  200.63,1109.19 219.528,1109.19 \n",
       "  \"/>\n",
       "<polyline clip-path=\"url(#clip030)\" style=\"stroke:#000000; stroke-linecap:butt; stroke-linejoin:round; stroke-width:4; stroke-opacity:1; fill:none\" points=\"\n",
       "  200.63,834.137 219.528,834.137 \n",
       "  \"/>\n",
       "<polyline clip-path=\"url(#clip030)\" style=\"stroke:#000000; stroke-linecap:butt; stroke-linejoin:round; stroke-width:4; stroke-opacity:1; fill:none\" points=\"\n",
       "  200.63,559.087 219.528,559.087 \n",
       "  \"/>\n",
       "<polyline clip-path=\"url(#clip030)\" style=\"stroke:#000000; stroke-linecap:butt; stroke-linejoin:round; stroke-width:4; stroke-opacity:1; fill:none\" points=\"\n",
       "  200.63,284.037 219.528,284.037 \n",
       "  \"/>\n",
       "<path clip-path=\"url(#clip030)\" d=\"M152.686 1370.04 Q149.075 1370.04 147.246 1373.6 Q145.441 1377.14 145.441 1384.27 Q145.441 1391.38 147.246 1394.94 Q149.075 1398.49 152.686 1398.49 Q156.32 1398.49 158.126 1394.94 Q159.954 1391.38 159.954 1384.27 Q159.954 1377.14 158.126 1373.6 Q156.32 1370.04 152.686 1370.04 M152.686 1366.33 Q158.496 1366.33 161.552 1370.94 Q164.63 1375.52 164.63 1384.27 Q164.63 1393 161.552 1397.61 Q158.496 1402.19 152.686 1402.19 Q146.876 1402.19 143.797 1397.61 Q140.741 1393 140.741 1384.27 Q140.741 1375.52 143.797 1370.94 Q146.876 1366.33 152.686 1366.33 Z\" fill=\"#000000\" fill-rule=\"evenodd\" fill-opacity=\"1\" /><path clip-path=\"url(#clip030)\" d=\"M157.501 1107.83 Q160.857 1108.55 162.732 1110.82 Q164.63 1113.09 164.63 1116.42 Q164.63 1121.54 161.112 1124.34 Q157.593 1127.14 151.112 1127.14 Q148.936 1127.14 146.621 1126.7 Q144.329 1126.28 141.876 1125.43 L141.876 1120.91 Q143.82 1122.05 146.135 1122.63 Q148.45 1123.2 150.973 1123.2 Q155.371 1123.2 157.663 1121.47 Q159.978 1119.73 159.978 1116.42 Q159.978 1113.37 157.825 1111.65 Q155.695 1109.92 151.876 1109.92 L147.848 1109.92 L147.848 1106.07 L152.061 1106.07 Q155.51 1106.07 157.339 1104.71 Q159.167 1103.32 159.167 1100.73 Q159.167 1098.07 157.269 1096.65 Q155.394 1095.22 151.876 1095.22 Q149.954 1095.22 147.755 1095.63 Q145.556 1096.05 142.917 1096.93 L142.917 1092.76 Q145.579 1092.02 147.894 1091.65 Q150.232 1091.28 152.292 1091.28 Q157.616 1091.28 160.718 1093.71 Q163.82 1096.12 163.82 1100.24 Q163.82 1103.11 162.177 1105.1 Q160.533 1107.07 157.501 1107.83 Z\" fill=\"#000000\" fill-rule=\"evenodd\" fill-opacity=\"1\" /><path clip-path=\"url(#clip030)\" d=\"M153.103 832.274 Q149.954 832.274 148.103 834.427 Q146.274 836.58 146.274 840.33 Q146.274 844.056 148.103 846.232 Q149.954 848.385 153.103 848.385 Q156.251 848.385 158.079 846.232 Q159.931 844.056 159.931 840.33 Q159.931 836.58 158.079 834.427 Q156.251 832.274 153.103 832.274 M162.385 817.621 L162.385 821.881 Q160.626 821.047 158.82 820.607 Q157.038 820.168 155.278 820.168 Q150.649 820.168 148.195 823.293 Q145.765 826.418 145.417 832.737 Q146.783 830.723 148.843 829.658 Q150.903 828.57 153.38 828.57 Q158.589 828.57 161.598 831.742 Q164.63 834.89 164.63 840.33 Q164.63 845.654 161.482 848.871 Q158.334 852.089 153.103 852.089 Q147.107 852.089 143.936 847.505 Q140.765 842.899 140.765 834.172 Q140.765 825.978 144.654 821.117 Q148.542 816.232 155.093 816.232 Q156.853 816.232 158.635 816.58 Q160.44 816.927 162.385 817.621 Z\" fill=\"#000000\" fill-rule=\"evenodd\" fill-opacity=\"1\" /><path clip-path=\"url(#clip030)\" d=\"M143.01 575.649 L143.01 571.39 Q144.769 572.224 146.575 572.663 Q148.38 573.103 150.116 573.103 Q154.746 573.103 157.177 570.001 Q159.63 566.876 159.978 560.534 Q158.635 562.525 156.575 563.589 Q154.515 564.654 152.015 564.654 Q146.829 564.654 143.797 561.529 Q140.788 558.381 140.788 552.941 Q140.788 547.617 143.936 544.4 Q147.084 541.182 152.316 541.182 Q158.311 541.182 161.459 545.788 Q164.63 550.372 164.63 559.122 Q164.63 567.293 160.741 572.177 Q156.876 577.038 150.325 577.038 Q148.566 577.038 146.76 576.691 Q144.954 576.344 143.01 575.649 M152.316 560.997 Q155.464 560.997 157.292 558.844 Q159.144 556.691 159.144 552.941 Q159.144 549.214 157.292 547.062 Q155.464 544.886 152.316 544.886 Q149.167 544.886 147.316 547.062 Q145.487 549.214 145.487 552.941 Q145.487 556.691 147.316 558.844 Q149.167 560.997 152.316 560.997 Z\" fill=\"#000000\" fill-rule=\"evenodd\" fill-opacity=\"1\" /><path clip-path=\"url(#clip030)\" d=\"M114.931 297.381 L122.57 297.381 L122.57 271.016 L114.26 272.683 L114.26 268.423 L122.524 266.757 L127.2 266.757 L127.2 297.381 L134.839 297.381 L134.839 301.317 L114.931 301.317 L114.931 297.381 Z\" fill=\"#000000\" fill-rule=\"evenodd\" fill-opacity=\"1\" /><path clip-path=\"url(#clip030)\" d=\"M148.311 297.381 L164.63 297.381 L164.63 301.317 L142.686 301.317 L142.686 297.381 Q145.348 294.627 149.931 289.997 Q154.538 285.344 155.718 284.002 Q157.964 281.479 158.843 279.743 Q159.746 277.983 159.746 276.294 Q159.746 273.539 157.802 271.803 Q155.88 270.067 152.778 270.067 Q150.579 270.067 148.126 270.831 Q145.695 271.595 142.917 273.145 L142.917 268.423 Q145.741 267.289 148.195 266.71 Q150.649 266.132 152.686 266.132 Q158.056 266.132 161.251 268.817 Q164.445 271.502 164.445 275.993 Q164.445 278.122 163.635 280.044 Q162.848 281.942 160.741 284.534 Q160.163 285.206 157.061 288.423 Q153.959 291.618 148.311 297.381 Z\" fill=\"#000000\" fill-rule=\"evenodd\" fill-opacity=\"1\" /><path clip-path=\"url(#clip030)\" d=\"M14.479 1287.02 L14.479 1281.17 L64.0042 1281.17 L64.0042 1287.02 L14.479 1287.02 Z\" fill=\"#000000\" fill-rule=\"evenodd\" fill-opacity=\"1\" /><path clip-path=\"url(#clip030)\" d=\"M32.4621 1255.1 Q32.4621 1259.81 36.1542 1262.55 Q39.8145 1265.28 46.212 1265.28 Q52.6095 1265.28 56.3017 1262.58 Q59.9619 1259.84 59.9619 1255.1 Q59.9619 1250.42 56.2698 1247.68 Q52.5777 1244.95 46.212 1244.95 Q39.8781 1244.95 36.186 1247.68 Q32.4621 1250.42 32.4621 1255.1 M27.4968 1255.1 Q27.4968 1247.46 32.4621 1243.1 Q37.4273 1238.74 46.212 1238.74 Q54.9649 1238.74 59.9619 1243.1 Q64.9272 1247.46 64.9272 1255.1 Q64.9272 1262.77 59.9619 1267.13 Q54.9649 1271.46 46.212 1271.46 Q37.4273 1271.46 32.4621 1267.13 Q27.4968 1262.77 27.4968 1255.1 Z\" fill=\"#000000\" fill-rule=\"evenodd\" fill-opacity=\"1\" /><path clip-path=\"url(#clip030)\" d=\"M45.7664 1205.57 Q39.4007 1205.57 35.8996 1208.22 Q32.3984 1210.83 32.3984 1215.57 Q32.3984 1220.28 35.8996 1222.92 Q39.4007 1225.53 45.7664 1225.53 Q52.1003 1225.53 55.6014 1222.92 Q59.1026 1220.28 59.1026 1215.57 Q59.1026 1210.83 55.6014 1208.22 Q52.1003 1205.57 45.7664 1205.57 M59.58 1199.72 Q68.683 1199.72 73.1071 1203.76 Q77.5631 1207.8 77.5631 1216.14 Q77.5631 1219.23 77.0857 1221.97 Q76.6401 1224.7 75.6852 1227.28 L69.9879 1227.28 Q71.3884 1224.7 72.0568 1222.19 Q72.7252 1219.67 72.7252 1217.06 Q72.7252 1211.3 69.7015 1208.44 Q66.7096 1205.57 60.6303 1205.57 L57.7339 1205.57 Q60.885 1207.39 62.4446 1210.22 Q64.0042 1213.05 64.0042 1217 Q64.0042 1223.56 59.0071 1227.57 Q54.01 1231.58 45.7664 1231.58 Q37.491 1231.58 32.4939 1227.57 Q27.4968 1223.56 27.4968 1217 Q27.4968 1213.05 29.0564 1210.22 Q30.616 1207.39 33.7671 1205.57 L28.3562 1205.57 L28.3562 1199.72 L59.58 1199.72 Z\" fill=\"#000000\" fill-rule=\"evenodd\" fill-opacity=\"1\" /><path clip-path=\"url(#clip030)\" d=\"M58.5933 1181.29 L58.5933 1158.85 L64.0042 1158.85 L64.0042 1189.02 L58.5933 1189.02 Q54.8057 1185.36 48.44 1179.06 Q42.0425 1172.73 40.1964 1171.1 Q36.7271 1168.02 34.34 1166.81 Q31.921 1165.57 29.5975 1165.57 Q25.8099 1165.57 23.4228 1168.24 Q21.0356 1170.88 21.0356 1175.15 Q21.0356 1178.17 22.086 1181.54 Q23.1363 1184.89 25.2688 1188.7 L18.7758 1188.7 Q17.2162 1184.82 16.4205 1181.45 Q15.6248 1178.07 15.6248 1175.27 Q15.6248 1167.89 19.3169 1163.5 Q23.009 1159.1 29.1837 1159.1 Q32.112 1159.1 34.7537 1160.22 Q37.3637 1161.3 40.9285 1164.2 Q41.8515 1164.99 46.2757 1169.26 Q50.668 1173.52 58.5933 1181.29 Z\" fill=\"#000000\" fill-rule=\"evenodd\" fill-opacity=\"1\" /><path clip-path=\"url(#clip030)\" d=\"M14.5426 1132.11 Q21.8632 1136.38 29.0246 1138.45 Q36.186 1140.52 43.5384 1140.52 Q50.8908 1140.52 58.1159 1138.45 Q65.3091 1136.35 72.5979 1132.11 L72.5979 1137.21 Q65.1182 1141.98 57.8931 1144.37 Q50.668 1146.72 43.5384 1146.72 Q36.4406 1146.72 29.2474 1144.37 Q22.0542 1142.01 14.5426 1137.21 L14.5426 1132.11 Z\" fill=\"#000000\" fill-rule=\"evenodd\" fill-opacity=\"1\" /><path clip-path=\"url(#clip030)\" d=\"M35.3266 1093.57 L35.3266 1102.83 L45.9574 1105.51 L45.9574 1096.18 L35.3266 1093.57 M17.2162 1098.34 L30.4251 1101.65 L30.4251 1092.36 L17.2162 1089.02 L17.2162 1083.93 L30.4251 1087.2 L30.4251 1077.27 L35.3266 1077.27 L35.3266 1088.45 L45.9574 1091.05 L45.9574 1080.93 L50.8271 1080.93 L50.8271 1092.3 L64.0042 1095.61 L64.0042 1100.7 L50.8271 1097.42 L50.8271 1106.75 L64.0042 1110.02 L64.0042 1115.15 L50.8271 1111.84 L50.8271 1121.86 L45.9574 1121.86 L45.9574 1110.66 L35.3266 1107.99 L35.3266 1118.24 L30.4251 1118.24 L30.4251 1106.75 L17.2162 1103.5 L17.2162 1098.34 Z\" fill=\"#000000\" fill-rule=\"evenodd\" fill-opacity=\"1\" /><path clip-path=\"url(#clip030)\" d=\"M32.4621 1031.6 Q32.4621 1036.31 36.1542 1039.05 Q39.8145 1041.78 46.212 1041.78 Q52.6095 1041.78 56.3017 1039.08 Q59.9619 1036.34 59.9619 1031.6 Q59.9619 1026.92 56.2698 1024.18 Q52.5777 1021.45 46.212 1021.45 Q39.8781 1021.45 36.186 1024.18 Q32.4621 1026.92 32.4621 1031.6 M27.4968 1031.6 Q27.4968 1023.96 32.4621 1019.6 Q37.4273 1015.24 46.212 1015.24 Q54.9649 1015.24 59.9619 1019.6 Q64.9272 1023.96 64.9272 1031.6 Q64.9272 1039.27 59.9619 1043.63 Q54.9649 1047.96 46.212 1047.96 Q37.4273 1047.96 32.4621 1043.63 Q27.4968 1039.27 27.4968 1031.6 Z\" fill=\"#000000\" fill-rule=\"evenodd\" fill-opacity=\"1\" /><path clip-path=\"url(#clip030)\" d=\"M14.479 987.485 L19.3487 987.485 L19.3487 993.087 Q19.3487 996.238 20.6219 997.479 Q21.895 998.689 25.2052 998.689 L28.3562 998.689 L28.3562 989.045 L32.9077 989.045 L32.9077 998.689 L64.0042 998.689 L64.0042 1004.58 L32.9077 1004.58 L32.9077 1010.18 L28.3562 1010.18 L28.3562 1004.58 L25.8736 1004.58 Q19.9216 1004.58 17.2162 1001.81 Q14.479 999.039 14.479 993.023 L14.479 987.485 Z\" fill=\"#000000\" fill-rule=\"evenodd\" fill-opacity=\"1\" /><path clip-path=\"url(#clip030)\" d=\"M29.7248 936.209 L35.1993 936.209 Q33.8307 938.692 33.1623 941.206 Q32.4621 943.689 32.4621 946.235 Q32.4621 951.932 36.0905 955.083 Q39.6872 958.235 46.212 958.235 Q52.7369 958.235 56.3653 955.083 Q59.9619 951.932 59.9619 946.235 Q59.9619 943.689 59.2935 941.206 Q58.5933 938.692 57.2247 936.209 L62.6355 936.209 Q63.7814 938.66 64.3543 941.302 Q64.9272 943.912 64.9272 946.872 Q64.9272 954.924 59.8664 959.667 Q54.8057 964.409 46.212 964.409 Q37.491 964.409 32.4939 959.635 Q27.4968 954.829 27.4968 946.49 Q27.4968 943.784 28.0697 941.206 Q28.6108 938.628 29.7248 936.209 Z\" fill=\"#000000\" fill-rule=\"evenodd\" fill-opacity=\"1\" /><path clip-path=\"url(#clip030)\" d=\"M32.4621 912.21 Q32.4621 916.921 36.1542 919.658 Q39.8145 922.396 46.212 922.396 Q52.6095 922.396 56.3017 919.69 Q59.9619 916.953 59.9619 912.21 Q59.9619 907.532 56.2698 904.794 Q52.5777 902.057 46.212 902.057 Q39.8781 902.057 36.186 904.794 Q32.4621 907.532 32.4621 912.21 M27.4968 912.21 Q27.4968 904.572 32.4621 900.211 Q37.4273 895.851 46.212 895.851 Q54.9649 895.851 59.9619 900.211 Q64.9272 904.572 64.9272 912.21 Q64.9272 919.881 59.9619 924.242 Q54.9649 928.57 46.212 928.57 Q37.4273 928.57 32.4621 924.242 Q27.4968 919.881 27.4968 912.21 Z\" fill=\"#000000\" fill-rule=\"evenodd\" fill-opacity=\"1\" /><path clip-path=\"url(#clip030)\" d=\"M42.4881 856.511 L64.0042 856.511 L64.0042 862.367 L42.679 862.367 Q37.6183 862.367 35.1038 864.34 Q32.5894 866.314 32.5894 870.26 Q32.5894 875.003 35.6131 877.74 Q38.6368 880.477 43.8567 880.477 L64.0042 880.477 L64.0042 886.366 L28.3562 886.366 L28.3562 880.477 L33.8944 880.477 Q30.6797 878.377 29.0883 875.544 Q27.4968 872.679 27.4968 868.955 Q27.4968 862.813 31.3163 859.662 Q35.1038 856.511 42.4881 856.511 Z\" fill=\"#000000\" fill-rule=\"evenodd\" fill-opacity=\"1\" /><path clip-path=\"url(#clip030)\" d=\"M42.4881 815.197 L64.0042 815.197 L64.0042 821.054 L42.679 821.054 Q37.6183 821.054 35.1038 823.027 Q32.5894 825 32.5894 828.947 Q32.5894 833.689 35.6131 836.427 Q38.6368 839.164 43.8567 839.164 L64.0042 839.164 L64.0042 845.052 L28.3562 845.052 L28.3562 839.164 L33.8944 839.164 Q30.6797 837.063 29.0883 834.231 Q27.4968 831.366 27.4968 827.642 Q27.4968 821.499 31.3163 818.348 Q35.1038 815.197 42.4881 815.197 Z\" fill=\"#000000\" fill-rule=\"evenodd\" fill-opacity=\"1\" /><path clip-path=\"url(#clip030)\" d=\"M44.7161 773.024 L47.5806 773.024 L47.5806 799.951 Q53.6281 799.569 56.8109 796.323 Q59.9619 793.044 59.9619 787.22 Q59.9619 783.846 59.1344 780.695 Q58.3069 777.512 56.6518 774.393 L62.1899 774.393 Q63.5267 777.544 64.227 780.854 Q64.9272 784.164 64.9272 787.57 Q64.9272 796.1 59.9619 801.097 Q54.9967 806.062 46.5303 806.062 Q37.7774 806.062 32.6531 801.352 Q27.4968 796.609 27.4968 788.588 Q27.4968 781.395 32.1438 777.226 Q36.7589 773.024 44.7161 773.024 M42.9973 778.881 Q38.1912 778.944 35.3266 781.586 Q32.4621 784.196 32.4621 788.525 Q32.4621 793.426 35.2312 796.386 Q38.0002 799.315 43.0292 799.76 L42.9973 778.881 Z\" fill=\"#000000\" fill-rule=\"evenodd\" fill-opacity=\"1\" /><path clip-path=\"url(#clip030)\" d=\"M29.7248 737.758 L35.1993 737.758 Q33.8307 740.241 33.1623 742.755 Q32.4621 745.238 32.4621 747.784 Q32.4621 753.482 36.0905 756.633 Q39.6872 759.784 46.212 759.784 Q52.7369 759.784 56.3653 756.633 Q59.9619 753.482 59.9619 747.784 Q59.9619 745.238 59.2935 742.755 Q58.5933 740.241 57.2247 737.758 L62.6355 737.758 Q63.7814 740.209 64.3543 742.851 Q64.9272 745.461 64.9272 748.421 Q64.9272 756.473 59.8664 761.216 Q54.8057 765.958 46.212 765.958 Q37.491 765.958 32.4939 761.184 Q27.4968 756.378 27.4968 748.039 Q27.4968 745.333 28.0697 742.755 Q28.6108 740.177 29.7248 737.758 Z\" fill=\"#000000\" fill-rule=\"evenodd\" fill-opacity=\"1\" /><path clip-path=\"url(#clip030)\" d=\"M18.2347 721.78 L28.3562 721.78 L28.3562 709.717 L32.9077 709.717 L32.9077 721.78 L52.2594 721.78 Q56.6199 721.78 57.8613 720.603 Q59.1026 719.393 59.1026 715.733 L59.1026 709.717 L64.0042 709.717 L64.0042 715.733 Q64.0042 722.512 61.4897 725.09 Q58.9434 727.669 52.2594 727.669 L32.9077 727.669 L32.9077 731.965 L28.3562 731.965 L28.3562 727.669 L18.2347 727.669 L18.2347 721.78 Z\" fill=\"#000000\" fill-rule=\"evenodd\" fill-opacity=\"1\" /><path clip-path=\"url(#clip030)\" d=\"M44.7161 671.523 L47.5806 671.523 L47.5806 698.45 Q53.6281 698.068 56.8109 694.822 Q59.9619 691.543 59.9619 685.719 Q59.9619 682.345 59.1344 679.194 Q58.3069 676.011 56.6518 672.892 L62.1899 672.892 Q63.5267 676.043 64.227 679.353 Q64.9272 682.663 64.9272 686.069 Q64.9272 694.599 59.9619 699.596 Q54.9967 704.561 46.5303 704.561 Q37.7774 704.561 32.6531 699.85 Q27.4968 695.108 27.4968 687.087 Q27.4968 679.894 32.1438 675.724 Q36.7589 671.523 44.7161 671.523 M42.9973 677.38 Q38.1912 677.443 35.3266 680.085 Q32.4621 682.695 32.4621 687.024 Q32.4621 691.925 35.2312 694.885 Q38.0002 697.813 43.0292 698.259 L42.9973 677.38 Z\" fill=\"#000000\" fill-rule=\"evenodd\" fill-opacity=\"1\" /><path clip-path=\"url(#clip030)\" d=\"M33.7671 638.453 L14.479 638.453 L14.479 632.597 L64.0042 632.597 L64.0042 638.453 L58.657 638.453 Q61.8398 640.299 63.3994 643.132 Q64.9272 645.933 64.9272 649.88 Q64.9272 656.341 59.771 660.415 Q54.6147 664.457 46.212 664.457 Q37.8093 664.457 32.6531 660.415 Q27.4968 656.341 27.4968 649.88 Q27.4968 645.933 29.0564 643.132 Q30.5842 640.299 33.7671 638.453 M46.212 658.41 Q52.6732 658.41 56.3653 655.768 Q60.0256 653.094 60.0256 648.447 Q60.0256 643.8 56.3653 641.127 Q52.6732 638.453 46.212 638.453 Q39.7508 638.453 36.0905 641.127 Q32.3984 643.8 32.3984 648.447 Q32.3984 653.094 36.0905 655.768 Q39.7508 658.41 46.212 658.41 Z\" fill=\"#000000\" fill-rule=\"evenodd\" fill-opacity=\"1\" /><path clip-path=\"url(#clip030)\" d=\"M29.7248 574.16 L35.1993 574.16 Q33.8307 576.642 33.1623 579.157 Q32.4621 581.639 32.4621 584.186 Q32.4621 589.883 36.0905 593.034 Q39.6872 596.185 46.212 596.185 Q52.7369 596.185 56.3653 593.034 Q59.9619 589.883 59.9619 584.186 Q59.9619 581.639 59.2935 579.157 Q58.5933 576.642 57.2247 574.16 L62.6355 574.16 Q63.7814 576.61 64.3543 579.252 Q64.9272 581.862 64.9272 584.822 Q64.9272 592.875 59.8664 597.617 Q54.8057 602.36 46.212 602.36 Q37.491 602.36 32.4939 597.585 Q27.4968 592.779 27.4968 584.44 Q27.4968 581.735 28.0697 579.157 Q28.6108 576.579 29.7248 574.16 Z\" fill=\"#000000\" fill-rule=\"evenodd\" fill-opacity=\"1\" /><path clip-path=\"url(#clip030)\" d=\"M32.4621 550.161 Q32.4621 554.871 36.1542 557.609 Q39.8145 560.346 46.212 560.346 Q52.6095 560.346 56.3017 557.641 Q59.9619 554.903 59.9619 550.161 Q59.9619 545.482 56.2698 542.745 Q52.5777 540.008 46.212 540.008 Q39.8781 540.008 36.186 542.745 Q32.4621 545.482 32.4621 550.161 M27.4968 550.161 Q27.4968 542.522 32.4621 538.162 Q37.4273 533.801 46.212 533.801 Q54.9649 533.801 59.9619 538.162 Q64.9272 542.522 64.9272 550.161 Q64.9272 557.832 59.9619 562.192 Q54.9649 566.521 46.212 566.521 Q37.4273 566.521 32.4621 562.192 Q27.4968 557.832 27.4968 550.161 Z\" fill=\"#000000\" fill-rule=\"evenodd\" fill-opacity=\"1\" /><path clip-path=\"url(#clip030)\" d=\"M35.1993 496.339 Q31.2526 494.143 29.3747 491.087 Q27.4968 488.032 27.4968 483.894 Q27.4968 478.324 31.4117 475.3 Q35.2948 472.276 42.4881 472.276 L64.0042 472.276 L64.0042 478.165 L42.679 478.165 Q37.5546 478.165 35.072 479.979 Q32.5894 481.793 32.5894 485.517 Q32.5894 490.069 35.6131 492.71 Q38.6368 495.352 43.8567 495.352 L64.0042 495.352 L64.0042 501.24 L42.679 501.24 Q37.5228 501.24 35.072 503.055 Q32.5894 504.869 32.5894 508.656 Q32.5894 513.144 35.6449 515.786 Q38.6686 518.428 43.8567 518.428 L64.0042 518.428 L64.0042 524.316 L28.3562 524.316 L28.3562 518.428 L33.8944 518.428 Q30.616 516.423 29.0564 513.622 Q27.4968 510.821 27.4968 506.97 Q27.4968 503.086 29.4702 500.381 Q31.4436 497.644 35.1993 496.339 Z\" fill=\"#000000\" fill-rule=\"evenodd\" fill-opacity=\"1\" /><path clip-path=\"url(#clip030)\" d=\"M58.657 454.93 L77.5631 454.93 L77.5631 460.818 L28.3562 460.818 L28.3562 454.93 L33.7671 454.93 Q30.5842 453.084 29.0564 450.283 Q27.4968 447.45 27.4968 443.535 Q27.4968 437.042 32.6531 433 Q37.8093 428.926 46.212 428.926 Q54.6147 428.926 59.771 433 Q64.9272 437.042 64.9272 443.535 Q64.9272 447.45 63.3994 450.283 Q61.8398 453.084 58.657 454.93 M46.212 435.005 Q39.7508 435.005 36.0905 437.679 Q32.3984 440.321 32.3984 444.968 Q32.3984 449.615 36.0905 452.288 Q39.7508 454.93 46.212 454.93 Q52.6732 454.93 56.3653 452.288 Q60.0256 449.615 60.0256 444.968 Q60.0256 440.321 56.3653 437.679 Q52.6732 435.005 46.212 435.005 Z\" fill=\"#000000\" fill-rule=\"evenodd\" fill-opacity=\"1\" /><path clip-path=\"url(#clip030)\" d=\"M32.4621 405.405 Q32.4621 410.115 36.1542 412.853 Q39.8145 415.59 46.212 415.59 Q52.6095 415.59 56.3017 412.884 Q59.9619 410.147 59.9619 405.405 Q59.9619 400.726 56.2698 397.989 Q52.5777 395.251 46.212 395.251 Q39.8781 395.251 36.186 397.989 Q32.4621 400.726 32.4621 405.405 M27.4968 405.405 Q27.4968 397.766 32.4621 393.405 Q37.4273 389.045 46.212 389.045 Q54.9649 389.045 59.9619 393.405 Q64.9272 397.766 64.9272 405.405 Q64.9272 413.075 59.9619 417.436 Q54.9649 421.765 46.212 421.765 Q37.4273 421.765 32.4621 417.436 Q27.4968 413.075 27.4968 405.405 Z\" fill=\"#000000\" fill-rule=\"evenodd\" fill-opacity=\"1\" /><path clip-path=\"url(#clip030)\" d=\"M42.4881 349.705 L64.0042 349.705 L64.0042 355.561 L42.679 355.561 Q37.6183 355.561 35.1038 357.535 Q32.5894 359.508 32.5894 363.455 Q32.5894 368.197 35.6131 370.934 Q38.6368 373.672 43.8567 373.672 L64.0042 373.672 L64.0042 379.56 L28.3562 379.56 L28.3562 373.672 L33.8944 373.672 Q30.6797 371.571 29.0883 368.738 Q27.4968 365.874 27.4968 362.15 Q27.4968 356.007 31.3163 352.856 Q35.1038 349.705 42.4881 349.705 Z\" fill=\"#000000\" fill-rule=\"evenodd\" fill-opacity=\"1\" /><path clip-path=\"url(#clip030)\" d=\"M44.7161 307.532 L47.5806 307.532 L47.5806 334.459 Q53.6281 334.077 56.8109 330.83 Q59.9619 327.552 59.9619 321.727 Q59.9619 318.354 59.1344 315.203 Q58.3069 312.02 56.6518 308.901 L62.1899 308.901 Q63.5267 312.052 64.227 315.362 Q64.9272 318.672 64.9272 322.078 Q64.9272 330.608 59.9619 335.605 Q54.9967 340.57 46.5303 340.57 Q37.7774 340.57 32.6531 335.859 Q27.4968 331.117 27.4968 323.096 Q27.4968 315.903 32.1438 311.733 Q36.7589 307.532 44.7161 307.532 M42.9973 313.388 Q38.1912 313.452 35.3266 316.094 Q32.4621 318.704 32.4621 323.032 Q32.4621 327.934 35.2312 330.894 Q38.0002 333.822 43.0292 334.268 L42.9973 313.388 Z\" fill=\"#000000\" fill-rule=\"evenodd\" fill-opacity=\"1\" /><path clip-path=\"url(#clip030)\" d=\"M42.4881 268.287 L64.0042 268.287 L64.0042 274.144 L42.679 274.144 Q37.6183 274.144 35.1038 276.117 Q32.5894 278.091 32.5894 282.037 Q32.5894 286.78 35.6131 289.517 Q38.6368 292.254 43.8567 292.254 L64.0042 292.254 L64.0042 298.143 L28.3562 298.143 L28.3562 292.254 L33.8944 292.254 Q30.6797 290.154 29.0883 287.321 Q27.4968 284.456 27.4968 280.732 Q27.4968 274.589 31.3163 271.438 Q35.1038 268.287 42.4881 268.287 Z\" fill=\"#000000\" fill-rule=\"evenodd\" fill-opacity=\"1\" /><path clip-path=\"url(#clip030)\" d=\"M18.2347 250.814 L28.3562 250.814 L28.3562 238.751 L32.9077 238.751 L32.9077 250.814 L52.2594 250.814 Q56.6199 250.814 57.8613 249.636 Q59.1026 248.426 59.1026 244.766 L59.1026 238.751 L64.0042 238.751 L64.0042 244.766 Q64.0042 251.546 61.4897 254.124 Q58.9434 256.702 52.2594 256.702 L32.9077 256.702 L32.9077 260.999 L28.3562 260.999 L28.3562 256.702 L18.2347 256.702 L18.2347 250.814 Z\" fill=\"#000000\" fill-rule=\"evenodd\" fill-opacity=\"1\" /><path clip-path=\"url(#clip030)\" d=\"M29.4065 208.322 L34.9447 208.322 Q33.6716 210.805 33.035 213.479 Q32.3984 216.152 32.3984 219.017 Q32.3984 223.377 33.7352 225.573 Q35.072 227.738 37.7456 227.738 Q39.7826 227.738 40.9603 226.178 Q42.1061 224.619 43.1565 219.908 L43.6021 217.903 Q44.9389 211.664 47.3897 209.054 Q49.8086 206.413 54.1691 206.413 Q59.1344 206.413 62.0308 210.359 Q64.9272 214.274 64.9272 221.149 Q64.9272 224.014 64.3543 227.133 Q63.8132 230.22 62.6992 233.658 L56.6518 233.658 Q58.3387 230.411 59.198 227.26 Q60.0256 224.109 60.0256 221.022 Q60.0256 216.884 58.6251 214.656 Q57.1929 212.428 54.6147 212.428 Q52.2276 212.428 50.9545 214.052 Q49.6813 215.643 48.5037 221.086 L48.0262 223.123 Q46.8804 228.565 44.5251 230.984 Q42.138 233.403 38.0002 233.403 Q32.9713 233.403 30.2341 229.839 Q27.4968 226.274 27.4968 219.717 Q27.4968 216.471 27.9743 213.606 Q28.4517 210.741 29.4065 208.322 Z\" fill=\"#000000\" fill-rule=\"evenodd\" fill-opacity=\"1\" /><path clip-path=\"url(#clip030)\" d=\"M14.5426 198.01 L14.5426 192.917 Q22.0542 188.143 29.2474 185.788 Q36.4406 183.401 43.5384 183.401 Q50.668 183.401 57.8931 185.788 Q65.1182 188.143 72.5979 192.917 L72.5979 198.01 Q65.3091 193.777 58.1159 191.708 Q50.8908 189.607 43.5384 189.607 Q36.186 189.607 29.0246 191.708 Q21.8632 193.777 14.5426 198.01 Z\" fill=\"#000000\" fill-rule=\"evenodd\" fill-opacity=\"1\" /><circle clip-path=\"url(#clip032)\" cx=\"2291.85\" cy=\"1200.87\" r=\"14\" fill=\"#009af9\" fill-rule=\"evenodd\" fill-opacity=\"1\" stroke=\"#000000\" stroke-opacity=\"1\" stroke-width=\"3.2\"/>\n",
       "<circle clip-path=\"url(#clip032)\" cx=\"2001.8\" cy=\"1009.49\" r=\"14\" fill=\"#009af9\" fill-rule=\"evenodd\" fill-opacity=\"1\" stroke=\"#000000\" stroke-opacity=\"1\" stroke-width=\"3.2\"/>\n",
       "<circle clip-path=\"url(#clip032)\" cx=\"1711.76\" cy=\"1384.24\" r=\"14\" fill=\"#009af9\" fill-rule=\"evenodd\" fill-opacity=\"1\" stroke=\"#000000\" stroke-opacity=\"1\" stroke-width=\"3.2\"/>\n",
       "<circle clip-path=\"url(#clip032)\" cx=\"1421.72\" cy=\"934.358\" r=\"14\" fill=\"#009af9\" fill-rule=\"evenodd\" fill-opacity=\"1\" stroke=\"#000000\" stroke-opacity=\"1\" stroke-width=\"3.2\"/>\n",
       "<circle clip-path=\"url(#clip032)\" cx=\"1131.67\" cy=\"499.232\" r=\"14\" fill=\"#009af9\" fill-rule=\"evenodd\" fill-opacity=\"1\" stroke=\"#000000\" stroke-opacity=\"1\" stroke-width=\"3.2\"/>\n",
       "<circle clip-path=\"url(#clip032)\" cx=\"841.627\" cy=\"239.794\" r=\"14\" fill=\"#009af9\" fill-rule=\"evenodd\" fill-opacity=\"1\" stroke=\"#000000\" stroke-opacity=\"1\" stroke-width=\"3.2\"/>\n",
       "<circle clip-path=\"url(#clip032)\" cx=\"551.583\" cy=\"86.1857\" r=\"14\" fill=\"#009af9\" fill-rule=\"evenodd\" fill-opacity=\"1\" stroke=\"#000000\" stroke-opacity=\"1\" stroke-width=\"3.2\"/>\n",
       "<circle clip-path=\"url(#clip032)\" cx=\"261.539\" cy=\"1384.24\" r=\"14\" fill=\"#009af9\" fill-rule=\"evenodd\" fill-opacity=\"1\" stroke=\"#000000\" stroke-opacity=\"1\" stroke-width=\"3.2\"/>\n",
       "<polyline clip-path=\"url(#clip032)\" style=\"stroke:#e26f46; stroke-linecap:butt; stroke-linejoin:round; stroke-width:4; stroke-opacity:1; fill:none\" points=\"\n",
       "  2291.85,1200.87 2001.8,1009.49 1711.76,1384.24 1421.72,934.358 1131.67,499.232 841.627,239.794 551.583,86.1857 261.539,1384.24 \n",
       "  \"/>\n",
       "</svg>\n"
      ]
     },
     "execution_count": 143,
     "metadata": {},
     "output_type": "execute_result"
    }
   ],
   "source": [
    "p = StatsPlots.scatter(xs, log2.(number_of_connected_components), ylabel=\"log2(# of connected components)\", legend=false, xlabel=\"log2(kmer frequency threshold)\")\n",
    "StatsPlots.plot(p, xs, log2.(number_of_connected_components))"
   ]
  },
  {
   "cell_type": "code",
   "execution_count": 159,
   "id": "876e6117-ab26-424b-a98b-3a1286ffd10b",
   "metadata": {},
   "outputs": [
    {
     "data": {
      "image/svg+xml": [
       "<?xml version=\"1.0\" encoding=\"utf-8\"?>\n",
       "<svg xmlns=\"http://www.w3.org/2000/svg\" xmlns:xlink=\"http://www.w3.org/1999/xlink\" width=\"600\" height=\"400\" viewBox=\"0 0 2400 1600\">\n",
       "<defs>\n",
       "  <clipPath id=\"clip190\">\n",
       "    <rect x=\"0\" y=\"0\" width=\"2400\" height=\"1600\"/>\n",
       "  </clipPath>\n",
       "</defs>\n",
       "<path clip-path=\"url(#clip190)\" d=\"\n",
       "M0 1600 L2400 1600 L2400 0 L0 0  Z\n",
       "  \" fill=\"#ffffff\" fill-rule=\"evenodd\" fill-opacity=\"1\"/>\n",
       "<defs>\n",
       "  <clipPath id=\"clip191\">\n",
       "    <rect x=\"480\" y=\"0\" width=\"1681\" height=\"1600\"/>\n",
       "  </clipPath>\n",
       "</defs>\n",
       "<path clip-path=\"url(#clip190)\" d=\"\n",
       "M249.195 1423.18 L2352.76 1423.18 L2352.76 47.2441 L249.195 47.2441  Z\n",
       "  \" fill=\"#ffffff\" fill-rule=\"evenodd\" fill-opacity=\"1\"/>\n",
       "<defs>\n",
       "  <clipPath id=\"clip192\">\n",
       "    <rect x=\"249\" y=\"47\" width=\"2105\" height=\"1377\"/>\n",
       "  </clipPath>\n",
       "</defs>\n",
       "<polyline clip-path=\"url(#clip192)\" style=\"stroke:#000000; stroke-linecap:butt; stroke-linejoin:round; stroke-width:2; stroke-opacity:0.1; fill:none\" points=\"\n",
       "  308.73,1423.18 308.73,47.2441 \n",
       "  \"/>\n",
       "<polyline clip-path=\"url(#clip192)\" style=\"stroke:#000000; stroke-linecap:butt; stroke-linejoin:round; stroke-width:2; stroke-opacity:0.1; fill:none\" points=\"\n",
       "  875.727,1423.18 875.727,47.2441 \n",
       "  \"/>\n",
       "<polyline clip-path=\"url(#clip192)\" style=\"stroke:#000000; stroke-linecap:butt; stroke-linejoin:round; stroke-width:2; stroke-opacity:0.1; fill:none\" points=\"\n",
       "  1442.72,1423.18 1442.72,47.2441 \n",
       "  \"/>\n",
       "<polyline clip-path=\"url(#clip192)\" style=\"stroke:#000000; stroke-linecap:butt; stroke-linejoin:round; stroke-width:2; stroke-opacity:0.1; fill:none\" points=\"\n",
       "  2009.72,1423.18 2009.72,47.2441 \n",
       "  \"/>\n",
       "<polyline clip-path=\"url(#clip190)\" style=\"stroke:#000000; stroke-linecap:butt; stroke-linejoin:round; stroke-width:4; stroke-opacity:1; fill:none\" points=\"\n",
       "  249.195,1423.18 2352.76,1423.18 \n",
       "  \"/>\n",
       "<polyline clip-path=\"url(#clip190)\" style=\"stroke:#000000; stroke-linecap:butt; stroke-linejoin:round; stroke-width:4; stroke-opacity:1; fill:none\" points=\"\n",
       "  308.73,1423.18 308.73,1404.28 \n",
       "  \"/>\n",
       "<polyline clip-path=\"url(#clip190)\" style=\"stroke:#000000; stroke-linecap:butt; stroke-linejoin:round; stroke-width:4; stroke-opacity:1; fill:none\" points=\"\n",
       "  875.727,1423.18 875.727,1404.28 \n",
       "  \"/>\n",
       "<polyline clip-path=\"url(#clip190)\" style=\"stroke:#000000; stroke-linecap:butt; stroke-linejoin:round; stroke-width:4; stroke-opacity:1; fill:none\" points=\"\n",
       "  1442.72,1423.18 1442.72,1404.28 \n",
       "  \"/>\n",
       "<polyline clip-path=\"url(#clip190)\" style=\"stroke:#000000; stroke-linecap:butt; stroke-linejoin:round; stroke-width:4; stroke-opacity:1; fill:none\" points=\"\n",
       "  2009.72,1423.18 2009.72,1404.28 \n",
       "  \"/>\n",
       "<path clip-path=\"url(#clip190)\" d=\"M308.73 1452.37 Q305.118 1452.37 303.29 1455.94 Q301.484 1459.48 301.484 1466.61 Q301.484 1473.71 303.29 1477.28 Q305.118 1480.82 308.73 1480.82 Q312.364 1480.82 314.169 1477.28 Q315.998 1473.71 315.998 1466.61 Q315.998 1459.48 314.169 1455.94 Q312.364 1452.37 308.73 1452.37 M308.73 1448.67 Q314.54 1448.67 317.595 1453.27 Q320.674 1457.86 320.674 1466.61 Q320.674 1475.33 317.595 1479.94 Q314.54 1484.52 308.73 1484.52 Q302.919 1484.52 299.841 1479.94 Q296.785 1475.33 296.785 1466.61 Q296.785 1457.86 299.841 1453.27 Q302.919 1448.67 308.73 1448.67 Z\" fill=\"#000000\" fill-rule=\"evenodd\" fill-opacity=\"1\" /><path clip-path=\"url(#clip190)\" d=\"M870.38 1479.92 L886.699 1479.92 L886.699 1483.85 L864.755 1483.85 L864.755 1479.92 Q867.417 1477.16 872 1472.53 Q876.607 1467.88 877.787 1466.54 Q880.033 1464.01 880.912 1462.28 Q881.815 1460.52 881.815 1458.83 Q881.815 1456.07 879.871 1454.34 Q877.949 1452.6 874.848 1452.6 Q872.648 1452.6 870.195 1453.37 Q867.764 1454.13 864.986 1455.68 L864.986 1450.96 Q867.811 1449.82 870.264 1449.25 Q872.718 1448.67 874.755 1448.67 Q880.125 1448.67 883.32 1451.35 Q886.514 1454.04 886.514 1458.53 Q886.514 1460.66 885.704 1462.58 Q884.917 1464.48 882.81 1467.07 Q882.232 1467.74 879.13 1470.96 Q876.028 1474.15 870.38 1479.92 Z\" fill=\"#000000\" fill-rule=\"evenodd\" fill-opacity=\"1\" /><path clip-path=\"url(#clip190)\" d=\"M1445.73 1453.37 L1433.93 1471.81 L1445.73 1471.81 L1445.73 1453.37 M1444.51 1449.29 L1450.39 1449.29 L1450.39 1471.81 L1455.32 1471.81 L1455.32 1475.7 L1450.39 1475.7 L1450.39 1483.85 L1445.73 1483.85 L1445.73 1475.7 L1430.13 1475.7 L1430.13 1471.19 L1444.51 1449.29 Z\" fill=\"#000000\" fill-rule=\"evenodd\" fill-opacity=\"1\" /><path clip-path=\"url(#clip190)\" d=\"M2010.13 1464.71 Q2006.98 1464.71 2005.13 1466.86 Q2003.3 1469.01 2003.3 1472.76 Q2003.3 1476.49 2005.13 1478.67 Q2006.98 1480.82 2010.13 1480.82 Q2013.28 1480.82 2015.1 1478.67 Q2016.96 1476.49 2016.96 1472.76 Q2016.96 1469.01 2015.1 1466.86 Q2013.28 1464.71 2010.13 1464.71 M2019.41 1450.06 L2019.41 1454.31 Q2017.65 1453.48 2015.85 1453.04 Q2014.06 1452.6 2012.3 1452.6 Q2007.67 1452.6 2005.22 1455.73 Q2002.79 1458.85 2002.44 1465.17 Q2003.81 1463.16 2005.87 1462.09 Q2007.93 1461 2010.41 1461 Q2015.61 1461 2018.62 1464.18 Q2021.66 1467.32 2021.66 1472.76 Q2021.66 1478.09 2018.51 1481.31 Q2015.36 1484.52 2010.13 1484.52 Q2004.13 1484.52 2000.96 1479.94 Q1997.79 1475.33 1997.79 1466.61 Q1997.79 1458.41 2001.68 1453.55 Q2005.57 1448.67 2012.12 1448.67 Q2013.88 1448.67 2015.66 1449.01 Q2017.47 1449.36 2019.41 1450.06 Z\" fill=\"#000000\" fill-rule=\"evenodd\" fill-opacity=\"1\" /><path clip-path=\"url(#clip190)\" d=\"M789.236 1518.52 L795.093 1518.52 L795.093 1568.04 L789.236 1568.04 L789.236 1518.52 Z\" fill=\"#000000\" fill-rule=\"evenodd\" fill-opacity=\"1\" /><path clip-path=\"url(#clip190)\" d=\"M821.16 1536.5 Q816.45 1536.5 813.712 1540.19 Q810.975 1543.85 810.975 1550.25 Q810.975 1556.65 813.681 1560.34 Q816.418 1564 821.16 1564 Q825.839 1564 828.576 1560.31 Q831.314 1556.62 831.314 1550.25 Q831.314 1543.92 828.576 1540.23 Q825.839 1536.5 821.16 1536.5 M821.16 1531.54 Q828.799 1531.54 833.16 1536.5 Q837.52 1541.47 837.52 1550.25 Q837.52 1559 833.16 1564 Q828.799 1568.97 821.16 1568.97 Q813.49 1568.97 809.129 1564 Q804.8 1559 804.8 1550.25 Q804.8 1541.47 809.129 1536.5 Q813.49 1531.54 821.16 1531.54 Z\" fill=\"#000000\" fill-rule=\"evenodd\" fill-opacity=\"1\" /><path clip-path=\"url(#clip190)\" d=\"M870.685 1549.81 Q870.685 1543.44 868.044 1539.94 Q865.434 1536.44 860.691 1536.44 Q855.981 1536.44 853.339 1539.94 Q850.729 1543.44 850.729 1549.81 Q850.729 1556.14 853.339 1559.64 Q855.981 1563.14 860.691 1563.14 Q865.434 1563.14 868.044 1559.64 Q870.685 1556.14 870.685 1549.81 M876.542 1563.62 Q876.542 1572.72 872.5 1577.15 Q868.457 1581.6 860.118 1581.6 Q857.031 1581.6 854.294 1581.13 Q851.556 1580.68 848.978 1579.72 L848.978 1574.03 Q851.556 1575.43 854.071 1576.1 Q856.585 1576.76 859.195 1576.76 Q864.956 1576.76 867.821 1573.74 Q870.685 1570.75 870.685 1564.67 L870.685 1561.77 Q868.871 1564.92 866.038 1566.48 Q863.206 1568.04 859.259 1568.04 Q852.702 1568.04 848.692 1563.05 Q844.682 1558.05 844.682 1549.81 Q844.682 1541.53 848.692 1536.53 Q852.702 1531.54 859.259 1531.54 Q863.206 1531.54 866.038 1533.1 Q868.871 1534.66 870.685 1537.81 L870.685 1532.4 L876.542 1532.4 L876.542 1563.62 Z\" fill=\"#000000\" fill-rule=\"evenodd\" fill-opacity=\"1\" /><path clip-path=\"url(#clip190)\" d=\"M894.971 1562.63 L917.41 1562.63 L917.41 1568.04 L887.236 1568.04 L887.236 1562.63 Q890.897 1558.85 897.199 1552.48 Q903.532 1546.08 905.156 1544.24 Q908.243 1540.77 909.453 1538.38 Q910.694 1535.96 910.694 1533.64 Q910.694 1529.85 908.02 1527.46 Q905.379 1525.08 901.113 1525.08 Q898.09 1525.08 894.716 1526.13 Q891.374 1527.18 887.555 1529.31 L887.555 1522.82 Q891.438 1521.26 894.811 1520.46 Q898.185 1519.66 900.986 1519.66 Q908.37 1519.66 912.763 1523.36 Q917.155 1527.05 917.155 1533.22 Q917.155 1536.15 916.041 1538.79 Q914.959 1541.4 912.063 1544.97 Q911.267 1545.89 907.002 1550.32 Q902.737 1554.71 894.971 1562.63 Z\" fill=\"#000000\" fill-rule=\"evenodd\" fill-opacity=\"1\" /><path clip-path=\"url(#clip190)\" d=\"M944.146 1518.58 Q939.881 1525.9 937.812 1533.06 Q935.743 1540.23 935.743 1547.58 Q935.743 1554.93 937.812 1562.16 Q939.912 1569.35 944.146 1576.64 L939.053 1576.64 Q934.279 1569.16 931.892 1561.93 Q929.536 1554.71 929.536 1547.58 Q929.536 1540.48 931.892 1533.29 Q934.247 1526.09 939.053 1518.58 L944.146 1518.58 Z\" fill=\"#000000\" fill-rule=\"evenodd\" fill-opacity=\"1\" /><path clip-path=\"url(#clip190)\" d=\"M955.286 1518.52 L961.174 1518.52 L961.174 1547.77 L978.648 1532.4 L986.128 1532.4 L967.221 1549.07 L986.923 1568.04 L979.284 1568.04 L961.174 1550.63 L961.174 1568.04 L955.286 1568.04 L955.286 1518.52 Z\" fill=\"#000000\" fill-rule=\"evenodd\" fill-opacity=\"1\" /><path clip-path=\"url(#clip190)\" d=\"M1021.01 1539.24 Q1023.21 1535.29 1026.26 1533.41 Q1029.32 1531.54 1033.46 1531.54 Q1039.03 1531.54 1042.05 1535.45 Q1045.07 1539.33 1045.07 1546.53 L1045.07 1568.04 L1039.19 1568.04 L1039.19 1546.72 Q1039.19 1541.59 1037.37 1539.11 Q1035.56 1536.63 1031.83 1536.63 Q1027.28 1536.63 1024.64 1539.65 Q1022 1542.68 1022 1547.9 L1022 1568.04 L1016.11 1568.04 L1016.11 1546.72 Q1016.11 1541.56 1014.3 1539.11 Q1012.48 1536.63 1008.69 1536.63 Q1004.21 1536.63 1001.56 1539.68 Q998.923 1542.71 998.923 1547.9 L998.923 1568.04 L993.034 1568.04 L993.034 1532.4 L998.923 1532.4 L998.923 1537.93 Q1000.93 1534.66 1003.73 1533.1 Q1006.53 1531.54 1010.38 1531.54 Q1014.26 1531.54 1016.97 1533.51 Q1019.71 1535.48 1021.01 1539.24 Z\" fill=\"#000000\" fill-rule=\"evenodd\" fill-opacity=\"1\" /><path clip-path=\"url(#clip190)\" d=\"M1087.25 1548.76 L1087.25 1551.62 L1060.32 1551.62 Q1060.7 1557.67 1063.95 1560.85 Q1067.23 1564 1073.05 1564 Q1076.43 1564 1079.58 1563.17 Q1082.76 1562.35 1085.88 1560.69 L1085.88 1566.23 Q1082.73 1567.57 1079.42 1568.27 Q1076.11 1568.97 1072.7 1568.97 Q1064.17 1568.97 1059.17 1564 Q1054.21 1559.04 1054.21 1550.57 Q1054.21 1541.82 1058.92 1536.69 Q1063.66 1531.54 1071.68 1531.54 Q1078.88 1531.54 1083.05 1536.18 Q1087.25 1540.8 1087.25 1548.76 M1081.39 1547.04 Q1081.33 1542.23 1078.68 1539.37 Q1076.07 1536.5 1071.75 1536.5 Q1066.84 1536.5 1063.88 1539.27 Q1060.96 1542.04 1060.51 1547.07 L1081.39 1547.04 Z\" fill=\"#000000\" fill-rule=\"evenodd\" fill-opacity=\"1\" /><path clip-path=\"url(#clip190)\" d=\"M1117.52 1537.87 Q1116.53 1537.3 1115.35 1537.04 Q1114.21 1536.76 1112.81 1536.76 Q1107.84 1536.76 1105.17 1540 Q1102.52 1543.22 1102.52 1549.27 L1102.52 1568.04 L1096.64 1568.04 L1096.64 1532.4 L1102.52 1532.4 L1102.52 1537.93 Q1104.37 1534.69 1107.33 1533.13 Q1110.29 1531.54 1114.52 1531.54 Q1115.13 1531.54 1115.86 1531.63 Q1116.59 1531.7 1117.48 1531.85 L1117.52 1537.87 Z\" fill=\"#000000\" fill-rule=\"evenodd\" fill-opacity=\"1\" /><path clip-path=\"url(#clip190)\" d=\"M1162.43 1518.52 L1162.43 1523.39 L1156.82 1523.39 Q1153.67 1523.39 1152.43 1524.66 Q1151.22 1525.93 1151.22 1529.24 L1151.22 1532.4 L1160.87 1532.4 L1160.87 1536.95 L1151.22 1536.95 L1151.22 1568.04 L1145.33 1568.04 L1145.33 1536.95 L1139.73 1536.95 L1139.73 1532.4 L1145.33 1532.4 L1145.33 1529.91 Q1145.33 1523.96 1148.1 1521.26 Q1150.87 1518.52 1156.89 1518.52 L1162.43 1518.52 Z\" fill=\"#000000\" fill-rule=\"evenodd\" fill-opacity=\"1\" /><path clip-path=\"url(#clip190)\" d=\"M1187.98 1537.87 Q1187 1537.3 1185.82 1537.04 Q1184.67 1536.76 1183.27 1536.76 Q1178.31 1536.76 1175.63 1540 Q1172.99 1543.22 1172.99 1549.27 L1172.99 1568.04 L1167.1 1568.04 L1167.1 1532.4 L1172.99 1532.4 L1172.99 1537.93 Q1174.84 1534.69 1177.8 1533.13 Q1180.76 1531.54 1184.99 1531.54 Q1185.6 1531.54 1186.33 1531.63 Q1187.06 1531.7 1187.95 1531.85 L1187.98 1537.87 Z\" fill=\"#000000\" fill-rule=\"evenodd\" fill-opacity=\"1\" /><path clip-path=\"url(#clip190)\" d=\"M1223.19 1548.76 L1223.19 1551.62 L1196.26 1551.62 Q1196.64 1557.67 1199.89 1560.85 Q1203.17 1564 1208.99 1564 Q1212.36 1564 1215.52 1563.17 Q1218.7 1562.35 1221.82 1560.69 L1221.82 1566.23 Q1218.67 1567.57 1215.36 1568.27 Q1212.05 1568.97 1208.64 1568.97 Q1200.11 1568.97 1195.11 1564 Q1190.15 1559.04 1190.15 1550.57 Q1190.15 1541.82 1194.86 1536.69 Q1199.6 1531.54 1207.62 1531.54 Q1214.82 1531.54 1218.99 1536.18 Q1223.19 1540.8 1223.19 1548.76 M1217.33 1547.04 Q1217.27 1542.23 1214.62 1539.37 Q1212.01 1536.5 1207.69 1536.5 Q1202.78 1536.5 1199.82 1539.27 Q1196.9 1542.04 1196.45 1547.07 L1217.33 1547.04 Z\" fill=\"#000000\" fill-rule=\"evenodd\" fill-opacity=\"1\" /><path clip-path=\"url(#clip190)\" d=\"M1236.3 1550.25 Q1236.3 1556.71 1238.94 1560.4 Q1241.62 1564.07 1246.26 1564.07 Q1250.91 1564.07 1253.58 1560.4 Q1256.26 1556.71 1256.26 1550.25 Q1256.26 1543.79 1253.58 1540.13 Q1250.91 1536.44 1246.26 1536.44 Q1241.62 1536.44 1238.94 1540.13 Q1236.3 1543.79 1236.3 1550.25 M1256.26 1562.7 Q1254.41 1565.88 1251.58 1567.44 Q1248.78 1568.97 1244.83 1568.97 Q1238.37 1568.97 1234.29 1563.81 Q1230.25 1558.65 1230.25 1550.25 Q1230.25 1541.85 1234.29 1536.69 Q1238.37 1531.54 1244.83 1531.54 Q1248.78 1531.54 1251.58 1533.1 Q1254.41 1534.62 1256.26 1537.81 L1256.26 1532.4 L1262.11 1532.4 L1262.11 1581.6 L1256.26 1581.6 L1256.26 1562.7 Z\" fill=\"#000000\" fill-rule=\"evenodd\" fill-opacity=\"1\" /><path clip-path=\"url(#clip190)\" d=\"M1273.57 1553.98 L1273.57 1532.4 L1279.43 1532.4 L1279.43 1553.75 Q1279.43 1558.81 1281.4 1561.36 Q1283.37 1563.87 1287.32 1563.87 Q1292.06 1563.87 1294.8 1560.85 Q1297.57 1557.83 1297.57 1552.61 L1297.57 1532.4 L1303.43 1532.4 L1303.43 1568.04 L1297.57 1568.04 L1297.57 1562.57 Q1295.44 1565.82 1292.6 1567.41 Q1289.8 1568.97 1286.08 1568.97 Q1279.94 1568.97 1276.75 1565.15 Q1273.57 1561.33 1273.57 1553.98 M1288.31 1531.54 L1288.31 1531.54 Z\" fill=\"#000000\" fill-rule=\"evenodd\" fill-opacity=\"1\" /><path clip-path=\"url(#clip190)\" d=\"M1345.98 1548.76 L1345.98 1551.62 L1319.05 1551.62 Q1319.44 1557.67 1322.68 1560.85 Q1325.96 1564 1331.79 1564 Q1335.16 1564 1338.31 1563.17 Q1341.49 1562.35 1344.61 1560.69 L1344.61 1566.23 Q1341.46 1567.57 1338.15 1568.27 Q1334.84 1568.97 1331.44 1568.97 Q1322.91 1568.97 1317.91 1564 Q1312.94 1559.04 1312.94 1550.57 Q1312.94 1541.82 1317.65 1536.69 Q1322.4 1531.54 1330.42 1531.54 Q1337.61 1531.54 1341.78 1536.18 Q1345.98 1540.8 1345.98 1548.76 M1340.12 1547.04 Q1340.06 1542.23 1337.42 1539.37 Q1334.81 1536.5 1330.48 1536.5 Q1325.58 1536.5 1322.62 1539.27 Q1319.69 1542.04 1319.24 1547.07 L1340.12 1547.04 Z\" fill=\"#000000\" fill-rule=\"evenodd\" fill-opacity=\"1\" /><path clip-path=\"url(#clip190)\" d=\"M1385.23 1546.53 L1385.23 1568.04 L1379.37 1568.04 L1379.37 1546.72 Q1379.37 1541.66 1377.4 1539.14 Q1375.42 1536.63 1371.48 1536.63 Q1366.73 1536.63 1364 1539.65 Q1361.26 1542.68 1361.26 1547.9 L1361.26 1568.04 L1355.37 1568.04 L1355.37 1532.4 L1361.26 1532.4 L1361.26 1537.93 Q1363.36 1534.72 1366.19 1533.13 Q1369.06 1531.54 1372.78 1531.54 Q1378.92 1531.54 1382.07 1535.36 Q1385.23 1539.14 1385.23 1546.53 Z\" fill=\"#000000\" fill-rule=\"evenodd\" fill-opacity=\"1\" /><path clip-path=\"url(#clip190)\" d=\"M1422.56 1533.76 L1422.56 1539.24 Q1420.08 1537.87 1417.56 1537.2 Q1415.08 1536.5 1412.53 1536.5 Q1406.84 1536.5 1403.69 1540.13 Q1400.54 1543.73 1400.54 1550.25 Q1400.54 1556.78 1403.69 1560.4 Q1406.84 1564 1412.53 1564 Q1415.08 1564 1417.56 1563.33 Q1420.08 1562.63 1422.56 1561.26 L1422.56 1566.68 Q1420.11 1567.82 1417.47 1568.39 Q1414.86 1568.97 1411.9 1568.97 Q1403.85 1568.97 1399.1 1563.91 Q1394.36 1558.85 1394.36 1550.25 Q1394.36 1541.53 1399.13 1536.53 Q1403.94 1531.54 1412.28 1531.54 Q1414.99 1531.54 1417.56 1532.11 Q1420.14 1532.65 1422.56 1533.76 Z\" fill=\"#000000\" fill-rule=\"evenodd\" fill-opacity=\"1\" /><path clip-path=\"url(#clip190)\" d=\"M1447.58 1571.35 Q1445.09 1577.72 1442.74 1579.66 Q1440.38 1581.6 1436.44 1581.6 L1431.76 1581.6 L1431.76 1576.7 L1435.2 1576.7 Q1437.62 1576.7 1438.95 1575.56 Q1440.29 1574.41 1441.91 1570.14 L1442.96 1567.47 L1428.54 1532.4 L1434.75 1532.4 L1445.89 1560.28 L1457.03 1532.4 L1463.24 1532.4 L1447.58 1571.35 Z\" fill=\"#000000\" fill-rule=\"evenodd\" fill-opacity=\"1\" /><path clip-path=\"url(#clip190)\" d=\"M1497.83 1522.27 L1497.83 1532.4 L1509.9 1532.4 L1509.9 1536.95 L1497.83 1536.95 L1497.83 1556.3 Q1497.83 1560.66 1499.01 1561.9 Q1500.22 1563.14 1503.88 1563.14 L1509.9 1563.14 L1509.9 1568.04 L1503.88 1568.04 Q1497.1 1568.04 1494.52 1565.53 Q1491.95 1562.98 1491.95 1556.3 L1491.95 1536.95 L1487.65 1536.95 L1487.65 1532.4 L1491.95 1532.4 L1491.95 1522.27 L1497.83 1522.27 Z\" fill=\"#000000\" fill-rule=\"evenodd\" fill-opacity=\"1\" /><path clip-path=\"url(#clip190)\" d=\"M1547.23 1546.53 L1547.23 1568.04 L1541.38 1568.04 L1541.38 1546.72 Q1541.38 1541.66 1539.4 1539.14 Q1537.43 1536.63 1533.48 1536.63 Q1528.74 1536.63 1526 1539.65 Q1523.27 1542.68 1523.27 1547.9 L1523.27 1568.04 L1517.38 1568.04 L1517.38 1518.52 L1523.27 1518.52 L1523.27 1537.93 Q1525.37 1534.72 1528.2 1533.13 Q1531.06 1531.54 1534.79 1531.54 Q1540.93 1531.54 1544.08 1535.36 Q1547.23 1539.14 1547.23 1546.53 Z\" fill=\"#000000\" fill-rule=\"evenodd\" fill-opacity=\"1\" /><path clip-path=\"url(#clip190)\" d=\"M1579.57 1537.87 Q1578.58 1537.3 1577.41 1537.04 Q1576.26 1536.76 1574.86 1536.76 Q1569.89 1536.76 1567.22 1540 Q1564.58 1543.22 1564.58 1549.27 L1564.58 1568.04 L1558.69 1568.04 L1558.69 1532.4 L1564.58 1532.4 L1564.58 1537.93 Q1566.43 1534.69 1569.39 1533.13 Q1572.35 1531.54 1576.58 1531.54 Q1577.18 1531.54 1577.92 1531.63 Q1578.65 1531.7 1579.54 1531.85 L1579.57 1537.87 Z\" fill=\"#000000\" fill-rule=\"evenodd\" fill-opacity=\"1\" /><path clip-path=\"url(#clip190)\" d=\"M1614.77 1548.76 L1614.77 1551.62 L1587.85 1551.62 Q1588.23 1557.67 1591.47 1560.85 Q1594.75 1564 1600.58 1564 Q1603.95 1564 1607.1 1563.17 Q1610.29 1562.35 1613.4 1560.69 L1613.4 1566.23 Q1610.25 1567.57 1606.94 1568.27 Q1603.63 1568.97 1600.23 1568.97 Q1591.7 1568.97 1586.7 1564 Q1581.73 1559.04 1581.73 1550.57 Q1581.73 1541.82 1586.45 1536.69 Q1591.19 1531.54 1599.21 1531.54 Q1606.4 1531.54 1610.57 1536.18 Q1614.77 1540.8 1614.77 1548.76 M1608.92 1547.04 Q1608.85 1542.23 1606.21 1539.37 Q1603.6 1536.5 1599.27 1536.5 Q1594.37 1536.5 1591.41 1539.27 Q1588.48 1542.04 1588.04 1547.07 L1608.92 1547.04 Z\" fill=\"#000000\" fill-rule=\"evenodd\" fill-opacity=\"1\" /><path clip-path=\"url(#clip190)\" d=\"M1647.11 1533.45 L1647.11 1538.98 Q1644.63 1537.71 1641.95 1537.07 Q1639.28 1536.44 1636.42 1536.44 Q1632.06 1536.44 1629.86 1537.77 Q1627.7 1539.11 1627.7 1541.79 Q1627.7 1543.82 1629.25 1545 Q1630.81 1546.15 1635.53 1547.2 L1637.53 1547.64 Q1643.77 1548.98 1646.38 1551.43 Q1649.02 1553.85 1649.02 1558.21 Q1649.02 1563.17 1645.07 1566.07 Q1641.16 1568.97 1634.28 1568.97 Q1631.42 1568.97 1628.3 1568.39 Q1625.21 1567.85 1621.78 1566.74 L1621.78 1560.69 Q1625.02 1562.38 1628.17 1563.24 Q1631.32 1564.07 1634.41 1564.07 Q1638.55 1564.07 1640.78 1562.66 Q1643 1561.23 1643 1558.65 Q1643 1556.27 1641.38 1554.99 Q1639.79 1553.72 1634.35 1552.54 L1632.31 1552.07 Q1626.87 1550.92 1624.45 1548.56 Q1622.03 1546.18 1622.03 1542.04 Q1622.03 1537.01 1625.59 1534.27 Q1629.16 1531.54 1635.72 1531.54 Q1638.96 1531.54 1641.83 1532.01 Q1644.69 1532.49 1647.11 1533.45 Z\" fill=\"#000000\" fill-rule=\"evenodd\" fill-opacity=\"1\" /><path clip-path=\"url(#clip190)\" d=\"M1687.98 1546.53 L1687.98 1568.04 L1682.12 1568.04 L1682.12 1546.72 Q1682.12 1541.66 1680.15 1539.14 Q1678.18 1536.63 1674.23 1536.63 Q1669.49 1536.63 1666.75 1539.65 Q1664.01 1542.68 1664.01 1547.9 L1664.01 1568.04 L1658.12 1568.04 L1658.12 1518.52 L1664.01 1518.52 L1664.01 1537.93 Q1666.11 1534.72 1668.95 1533.13 Q1671.81 1531.54 1675.53 1531.54 Q1681.68 1531.54 1684.83 1535.36 Q1687.98 1539.14 1687.98 1546.53 Z\" fill=\"#000000\" fill-rule=\"evenodd\" fill-opacity=\"1\" /><path clip-path=\"url(#clip190)\" d=\"M1713.47 1536.5 Q1708.76 1536.5 1706.03 1540.19 Q1703.29 1543.85 1703.29 1550.25 Q1703.29 1556.65 1705.99 1560.34 Q1708.73 1564 1713.47 1564 Q1718.15 1564 1720.89 1560.31 Q1723.63 1556.62 1723.63 1550.25 Q1723.63 1543.92 1720.89 1540.23 Q1718.15 1536.5 1713.47 1536.5 M1713.47 1531.54 Q1721.11 1531.54 1725.47 1536.5 Q1729.83 1541.47 1729.83 1550.25 Q1729.83 1559 1725.47 1564 Q1721.11 1568.97 1713.47 1568.97 Q1705.8 1568.97 1701.44 1564 Q1697.11 1559 1697.11 1550.25 Q1697.11 1541.47 1701.44 1536.5 Q1705.8 1531.54 1713.47 1531.54 Z\" fill=\"#000000\" fill-rule=\"evenodd\" fill-opacity=\"1\" /><path clip-path=\"url(#clip190)\" d=\"M1739.54 1518.52 L1745.4 1518.52 L1745.4 1568.04 L1739.54 1568.04 L1739.54 1518.52 Z\" fill=\"#000000\" fill-rule=\"evenodd\" fill-opacity=\"1\" /><path clip-path=\"url(#clip190)\" d=\"M1781.11 1537.81 L1781.11 1518.52 L1786.97 1518.52 L1786.97 1568.04 L1781.11 1568.04 L1781.11 1562.7 Q1779.26 1565.88 1776.43 1567.44 Q1773.63 1568.97 1769.68 1568.97 Q1763.22 1568.97 1759.15 1563.81 Q1755.1 1558.65 1755.1 1550.25 Q1755.1 1541.85 1759.15 1536.69 Q1763.22 1531.54 1769.68 1531.54 Q1773.63 1531.54 1776.43 1533.1 Q1779.26 1534.62 1781.11 1537.81 M1761.15 1550.25 Q1761.15 1556.71 1763.79 1560.4 Q1766.47 1564.07 1771.11 1564.07 Q1775.76 1564.07 1778.44 1560.4 Q1781.11 1556.71 1781.11 1550.25 Q1781.11 1543.79 1778.44 1540.13 Q1775.76 1536.44 1771.11 1536.44 Q1766.47 1536.44 1763.79 1540.13 Q1761.15 1543.79 1761.15 1550.25 Z\" fill=\"#000000\" fill-rule=\"evenodd\" fill-opacity=\"1\" /><path clip-path=\"url(#clip190)\" d=\"M1798.11 1518.58 L1803.2 1518.58 Q1807.97 1526.09 1810.33 1533.29 Q1812.71 1540.48 1812.71 1547.58 Q1812.71 1554.71 1810.33 1561.93 Q1807.97 1569.16 1803.2 1576.64 L1798.11 1576.64 Q1802.34 1569.35 1804.41 1562.16 Q1806.51 1554.93 1806.51 1547.58 Q1806.51 1540.23 1804.41 1533.06 Q1802.34 1525.9 1798.11 1518.58 Z\" fill=\"#000000\" fill-rule=\"evenodd\" fill-opacity=\"1\" /><polyline clip-path=\"url(#clip192)\" style=\"stroke:#000000; stroke-linecap:butt; stroke-linejoin:round; stroke-width:2; stroke-opacity:0.1; fill:none\" points=\"\n",
       "  249.195,1227.19 2352.76,1227.19 \n",
       "  \"/>\n",
       "<polyline clip-path=\"url(#clip192)\" style=\"stroke:#000000; stroke-linecap:butt; stroke-linejoin:round; stroke-width:2; stroke-opacity:0.1; fill:none\" points=\"\n",
       "  249.195,991.615 2352.76,991.615 \n",
       "  \"/>\n",
       "<polyline clip-path=\"url(#clip192)\" style=\"stroke:#000000; stroke-linecap:butt; stroke-linejoin:round; stroke-width:2; stroke-opacity:0.1; fill:none\" points=\"\n",
       "  249.195,756.041 2352.76,756.041 \n",
       "  \"/>\n",
       "<polyline clip-path=\"url(#clip192)\" style=\"stroke:#000000; stroke-linecap:butt; stroke-linejoin:round; stroke-width:2; stroke-opacity:0.1; fill:none\" points=\"\n",
       "  249.195,520.467 2352.76,520.467 \n",
       "  \"/>\n",
       "<polyline clip-path=\"url(#clip192)\" style=\"stroke:#000000; stroke-linecap:butt; stroke-linejoin:round; stroke-width:2; stroke-opacity:0.1; fill:none\" points=\"\n",
       "  249.195,284.894 2352.76,284.894 \n",
       "  \"/>\n",
       "<polyline clip-path=\"url(#clip192)\" style=\"stroke:#000000; stroke-linecap:butt; stroke-linejoin:round; stroke-width:2; stroke-opacity:0.1; fill:none\" points=\"\n",
       "  249.195,49.3198 2352.76,49.3198 \n",
       "  \"/>\n",
       "<polyline clip-path=\"url(#clip190)\" style=\"stroke:#000000; stroke-linecap:butt; stroke-linejoin:round; stroke-width:4; stroke-opacity:1; fill:none\" points=\"\n",
       "  249.195,1423.18 249.195,47.2441 \n",
       "  \"/>\n",
       "<polyline clip-path=\"url(#clip190)\" style=\"stroke:#000000; stroke-linecap:butt; stroke-linejoin:round; stroke-width:4; stroke-opacity:1; fill:none\" points=\"\n",
       "  249.195,1227.19 268.092,1227.19 \n",
       "  \"/>\n",
       "<polyline clip-path=\"url(#clip190)\" style=\"stroke:#000000; stroke-linecap:butt; stroke-linejoin:round; stroke-width:4; stroke-opacity:1; fill:none\" points=\"\n",
       "  249.195,991.615 268.092,991.615 \n",
       "  \"/>\n",
       "<polyline clip-path=\"url(#clip190)\" style=\"stroke:#000000; stroke-linecap:butt; stroke-linejoin:round; stroke-width:4; stroke-opacity:1; fill:none\" points=\"\n",
       "  249.195,756.041 268.092,756.041 \n",
       "  \"/>\n",
       "<polyline clip-path=\"url(#clip190)\" style=\"stroke:#000000; stroke-linecap:butt; stroke-linejoin:round; stroke-width:4; stroke-opacity:1; fill:none\" points=\"\n",
       "  249.195,520.467 268.092,520.467 \n",
       "  \"/>\n",
       "<polyline clip-path=\"url(#clip190)\" style=\"stroke:#000000; stroke-linecap:butt; stroke-linejoin:round; stroke-width:4; stroke-opacity:1; fill:none\" points=\"\n",
       "  249.195,284.894 268.092,284.894 \n",
       "  \"/>\n",
       "<polyline clip-path=\"url(#clip190)\" style=\"stroke:#000000; stroke-linecap:butt; stroke-linejoin:round; stroke-width:4; stroke-opacity:1; fill:none\" points=\"\n",
       "  249.195,49.3198 268.092,49.3198 \n",
       "  \"/>\n",
       "<path clip-path=\"url(#clip190)\" d=\"M116.668 1240.53 L124.306 1240.53 L124.306 1214.17 L115.996 1215.83 L115.996 1211.58 L124.26 1209.91 L128.936 1209.91 L128.936 1240.53 L136.575 1240.53 L136.575 1244.47 L116.668 1244.47 L116.668 1240.53 Z\" fill=\"#000000\" fill-rule=\"evenodd\" fill-opacity=\"1\" /><path clip-path=\"url(#clip190)\" d=\"M146.019 1238.59 L150.903 1238.59 L150.903 1244.47 L146.019 1244.47 L146.019 1238.59 Z\" fill=\"#000000\" fill-rule=\"evenodd\" fill-opacity=\"1\" /><path clip-path=\"url(#clip190)\" d=\"M171.089 1212.99 Q167.477 1212.99 165.649 1216.55 Q163.843 1220.09 163.843 1227.22 Q163.843 1234.33 165.649 1237.89 Q167.477 1241.44 171.089 1241.44 Q174.723 1241.44 176.528 1237.89 Q178.357 1234.33 178.357 1227.22 Q178.357 1220.09 176.528 1216.55 Q174.723 1212.99 171.089 1212.99 M171.089 1209.28 Q176.899 1209.28 179.954 1213.89 Q183.033 1218.47 183.033 1227.22 Q183.033 1235.95 179.954 1240.56 Q176.899 1245.14 171.089 1245.14 Q165.278 1245.14 162.2 1240.56 Q159.144 1235.95 159.144 1227.22 Q159.144 1218.47 162.2 1213.89 Q165.278 1209.28 171.089 1209.28 Z\" fill=\"#000000\" fill-rule=\"evenodd\" fill-opacity=\"1\" /><path clip-path=\"url(#clip190)\" d=\"M201.25 1212.99 Q197.639 1212.99 195.811 1216.55 Q194.005 1220.09 194.005 1227.22 Q194.005 1234.33 195.811 1237.89 Q197.639 1241.44 201.25 1241.44 Q204.885 1241.44 206.69 1237.89 Q208.519 1234.33 208.519 1227.22 Q208.519 1220.09 206.69 1216.55 Q204.885 1212.99 201.25 1212.99 M201.25 1209.28 Q207.061 1209.28 210.116 1213.89 Q213.195 1218.47 213.195 1227.22 Q213.195 1235.95 210.116 1240.56 Q207.061 1245.14 201.25 1245.14 Q195.44 1245.14 192.362 1240.56 Q189.306 1235.95 189.306 1227.22 Q189.306 1218.47 192.362 1213.89 Q195.44 1209.28 201.25 1209.28 Z\" fill=\"#000000\" fill-rule=\"evenodd\" fill-opacity=\"1\" /><path clip-path=\"url(#clip190)\" d=\"M117.663 1004.96 L125.302 1004.96 L125.302 978.594 L116.992 980.261 L116.992 976.002 L125.255 974.335 L129.931 974.335 L129.931 1004.96 L137.57 1004.96 L137.57 1008.9 L117.663 1008.9 L117.663 1004.96 Z\" fill=\"#000000\" fill-rule=\"evenodd\" fill-opacity=\"1\" /><path clip-path=\"url(#clip190)\" d=\"M147.015 1003.02 L151.899 1003.02 L151.899 1008.9 L147.015 1008.9 L147.015 1003.02 Z\" fill=\"#000000\" fill-rule=\"evenodd\" fill-opacity=\"1\" /><path clip-path=\"url(#clip190)\" d=\"M166.112 1004.96 L182.431 1004.96 L182.431 1008.9 L160.487 1008.9 L160.487 1004.96 Q163.149 1002.21 167.732 997.576 Q172.339 992.923 173.519 991.58 Q175.764 989.057 176.644 987.321 Q177.547 985.562 177.547 983.872 Q177.547 981.118 175.602 979.381 Q173.681 977.645 170.579 977.645 Q168.38 977.645 165.927 978.409 Q163.496 979.173 160.718 980.724 L160.718 976.002 Q163.542 974.868 165.996 974.289 Q168.45 973.71 170.487 973.71 Q175.857 973.71 179.051 976.395 Q182.246 979.081 182.246 983.571 Q182.246 985.701 181.436 987.622 Q180.649 989.52 178.542 992.113 Q177.964 992.784 174.862 996.002 Q171.76 999.196 166.112 1004.96 Z\" fill=\"#000000\" fill-rule=\"evenodd\" fill-opacity=\"1\" /><path clip-path=\"url(#clip190)\" d=\"M192.292 974.335 L210.649 974.335 L210.649 978.27 L196.575 978.27 L196.575 986.743 Q197.593 986.395 198.612 986.233 Q199.63 986.048 200.649 986.048 Q206.436 986.048 209.815 989.219 Q213.195 992.391 213.195 997.807 Q213.195 1003.39 209.723 1006.49 Q206.25 1009.57 199.931 1009.57 Q197.755 1009.57 195.487 1009.2 Q193.241 1008.83 190.834 1008.08 L190.834 1003.39 Q192.917 1004.52 195.139 1005.08 Q197.362 1005.63 199.838 1005.63 Q203.843 1005.63 206.181 1003.52 Q208.519 1001.42 208.519 997.807 Q208.519 994.196 206.181 992.09 Q203.843 989.983 199.838 989.983 Q197.963 989.983 196.088 990.4 Q194.237 990.817 192.292 991.696 L192.292 974.335 Z\" fill=\"#000000\" fill-rule=\"evenodd\" fill-opacity=\"1\" /><path clip-path=\"url(#clip190)\" d=\"M116.668 769.386 L124.306 769.386 L124.306 743.021 L115.996 744.687 L115.996 740.428 L124.26 738.761 L128.936 738.761 L128.936 769.386 L136.575 769.386 L136.575 773.321 L116.668 773.321 L116.668 769.386 Z\" fill=\"#000000\" fill-rule=\"evenodd\" fill-opacity=\"1\" /><path clip-path=\"url(#clip190)\" d=\"M146.019 767.442 L150.903 767.442 L150.903 773.321 L146.019 773.321 L146.019 767.442 Z\" fill=\"#000000\" fill-rule=\"evenodd\" fill-opacity=\"1\" /><path clip-path=\"url(#clip190)\" d=\"M161.135 738.761 L179.491 738.761 L179.491 742.696 L165.417 742.696 L165.417 751.169 Q166.436 750.821 167.454 750.659 Q168.473 750.474 169.491 750.474 Q175.278 750.474 178.658 753.646 Q182.038 756.817 182.038 762.233 Q182.038 767.812 178.565 770.914 Q175.093 773.993 168.774 773.993 Q166.598 773.993 164.329 773.622 Q162.084 773.252 159.677 772.511 L159.677 767.812 Q161.76 768.946 163.982 769.502 Q166.204 770.057 168.681 770.057 Q172.686 770.057 175.024 767.951 Q177.362 765.845 177.362 762.233 Q177.362 758.622 175.024 756.516 Q172.686 754.409 168.681 754.409 Q166.806 754.409 164.931 754.826 Q163.079 755.243 161.135 756.122 L161.135 738.761 Z\" fill=\"#000000\" fill-rule=\"evenodd\" fill-opacity=\"1\" /><path clip-path=\"url(#clip190)\" d=\"M201.25 741.84 Q197.639 741.84 195.811 745.405 Q194.005 748.946 194.005 756.076 Q194.005 763.182 195.811 766.747 Q197.639 770.289 201.25 770.289 Q204.885 770.289 206.69 766.747 Q208.519 763.182 208.519 756.076 Q208.519 748.946 206.69 745.405 Q204.885 741.84 201.25 741.84 M201.25 738.136 Q207.061 738.136 210.116 742.743 Q213.195 747.326 213.195 756.076 Q213.195 764.803 210.116 769.409 Q207.061 773.993 201.25 773.993 Q195.44 773.993 192.362 769.409 Q189.306 764.803 189.306 756.076 Q189.306 747.326 192.362 742.743 Q195.44 738.136 201.25 738.136 Z\" fill=\"#000000\" fill-rule=\"evenodd\" fill-opacity=\"1\" /><path clip-path=\"url(#clip190)\" d=\"M117.663 533.812 L125.302 533.812 L125.302 507.447 L116.992 509.113 L116.992 504.854 L125.255 503.187 L129.931 503.187 L129.931 533.812 L137.57 533.812 L137.57 537.747 L117.663 537.747 L117.663 533.812 Z\" fill=\"#000000\" fill-rule=\"evenodd\" fill-opacity=\"1\" /><path clip-path=\"url(#clip190)\" d=\"M147.015 531.868 L151.899 531.868 L151.899 537.747 L147.015 537.747 L147.015 531.868 Z\" fill=\"#000000\" fill-rule=\"evenodd\" fill-opacity=\"1\" /><path clip-path=\"url(#clip190)\" d=\"M160.903 503.187 L183.126 503.187 L183.126 505.178 L170.579 537.747 L165.695 537.747 L177.501 507.123 L160.903 507.123 L160.903 503.187 Z\" fill=\"#000000\" fill-rule=\"evenodd\" fill-opacity=\"1\" /><path clip-path=\"url(#clip190)\" d=\"M192.292 503.187 L210.649 503.187 L210.649 507.123 L196.575 507.123 L196.575 515.595 Q197.593 515.248 198.612 515.086 Q199.63 514.9 200.649 514.9 Q206.436 514.9 209.815 518.072 Q213.195 521.243 213.195 526.66 Q213.195 532.238 209.723 535.34 Q206.25 538.419 199.931 538.419 Q197.755 538.419 195.487 538.048 Q193.241 537.678 190.834 536.937 L190.834 532.238 Q192.917 533.372 195.139 533.928 Q197.362 534.484 199.838 534.484 Q203.843 534.484 206.181 532.377 Q208.519 530.271 208.519 526.66 Q208.519 523.048 206.181 520.942 Q203.843 518.836 199.838 518.836 Q197.963 518.836 196.088 519.252 Q194.237 519.669 192.292 520.548 L192.292 503.187 Z\" fill=\"#000000\" fill-rule=\"evenodd\" fill-opacity=\"1\" /><path clip-path=\"url(#clip190)\" d=\"M119.885 298.238 L136.204 298.238 L136.204 302.174 L114.26 302.174 L114.26 298.238 Q116.922 295.484 121.505 290.854 Q126.112 286.201 127.292 284.859 Q129.538 282.336 130.417 280.6 Q131.32 278.84 131.32 277.151 Q131.32 274.396 129.376 272.66 Q127.455 270.924 124.353 270.924 Q122.154 270.924 119.7 271.688 Q117.269 272.452 114.492 274.002 L114.492 269.28 Q117.316 268.146 119.769 267.567 Q122.223 266.989 124.26 266.989 Q129.63 266.989 132.825 269.674 Q136.019 272.359 136.019 276.85 Q136.019 278.979 135.209 280.901 Q134.422 282.799 132.316 285.391 Q131.737 286.063 128.635 289.28 Q125.533 292.475 119.885 298.238 Z\" fill=\"#000000\" fill-rule=\"evenodd\" fill-opacity=\"1\" /><path clip-path=\"url(#clip190)\" d=\"M146.019 296.294 L150.903 296.294 L150.903 302.174 L146.019 302.174 L146.019 296.294 Z\" fill=\"#000000\" fill-rule=\"evenodd\" fill-opacity=\"1\" /><path clip-path=\"url(#clip190)\" d=\"M171.089 270.692 Q167.477 270.692 165.649 274.257 Q163.843 277.799 163.843 284.928 Q163.843 292.035 165.649 295.6 Q167.477 299.141 171.089 299.141 Q174.723 299.141 176.528 295.6 Q178.357 292.035 178.357 284.928 Q178.357 277.799 176.528 274.257 Q174.723 270.692 171.089 270.692 M171.089 266.989 Q176.899 266.989 179.954 271.595 Q183.033 276.178 183.033 284.928 Q183.033 293.655 179.954 298.262 Q176.899 302.845 171.089 302.845 Q165.278 302.845 162.2 298.262 Q159.144 293.655 159.144 284.928 Q159.144 276.178 162.2 271.595 Q165.278 266.989 171.089 266.989 Z\" fill=\"#000000\" fill-rule=\"evenodd\" fill-opacity=\"1\" /><path clip-path=\"url(#clip190)\" d=\"M201.25 270.692 Q197.639 270.692 195.811 274.257 Q194.005 277.799 194.005 284.928 Q194.005 292.035 195.811 295.6 Q197.639 299.141 201.25 299.141 Q204.885 299.141 206.69 295.6 Q208.519 292.035 208.519 284.928 Q208.519 277.799 206.69 274.257 Q204.885 270.692 201.25 270.692 M201.25 266.989 Q207.061 266.989 210.116 271.595 Q213.195 276.178 213.195 284.928 Q213.195 293.655 210.116 298.262 Q207.061 302.845 201.25 302.845 Q195.44 302.845 192.362 298.262 Q189.306 293.655 189.306 284.928 Q189.306 276.178 192.362 271.595 Q195.44 266.989 201.25 266.989 Z\" fill=\"#000000\" fill-rule=\"evenodd\" fill-opacity=\"1\" /><path clip-path=\"url(#clip190)\" d=\"M120.88 62.6646 L137.2 62.6646 L137.2 66.5998 L115.256 66.5998 L115.256 62.6646 Q117.918 59.91 122.501 55.2804 Q127.107 50.6276 128.288 49.285 Q130.533 46.7619 131.413 45.0258 Q132.316 43.2666 132.316 41.5767 Q132.316 38.8221 130.371 37.086 Q128.45 35.3499 125.348 35.3499 Q123.149 35.3499 120.695 36.1138 Q118.265 36.8777 115.487 38.4286 L115.487 33.7064 Q118.311 32.5722 120.765 31.9935 Q123.218 31.4148 125.255 31.4148 Q130.626 31.4148 133.82 34.0999 Q137.015 36.7851 137.015 41.2758 Q137.015 43.4054 136.204 45.3267 Q135.417 47.2249 133.311 49.8174 Q132.732 50.4887 129.63 53.7063 Q126.529 56.9007 120.88 62.6646 Z\" fill=\"#000000\" fill-rule=\"evenodd\" fill-opacity=\"1\" /><path clip-path=\"url(#clip190)\" d=\"M147.015 60.7202 L151.899 60.7202 L151.899 66.5998 L147.015 66.5998 L147.015 60.7202 Z\" fill=\"#000000\" fill-rule=\"evenodd\" fill-opacity=\"1\" /><path clip-path=\"url(#clip190)\" d=\"M166.112 62.6646 L182.431 62.6646 L182.431 66.5998 L160.487 66.5998 L160.487 62.6646 Q163.149 59.91 167.732 55.2804 Q172.339 50.6276 173.519 49.285 Q175.764 46.7619 176.644 45.0258 Q177.547 43.2666 177.547 41.5767 Q177.547 38.8221 175.602 37.086 Q173.681 35.3499 170.579 35.3499 Q168.38 35.3499 165.927 36.1138 Q163.496 36.8777 160.718 38.4286 L160.718 33.7064 Q163.542 32.5722 165.996 31.9935 Q168.45 31.4148 170.487 31.4148 Q175.857 31.4148 179.051 34.0999 Q182.246 36.7851 182.246 41.2758 Q182.246 43.4054 181.436 45.3267 Q180.649 47.2249 178.542 49.8174 Q177.964 50.4887 174.862 53.7063 Q171.76 56.9007 166.112 62.6646 Z\" fill=\"#000000\" fill-rule=\"evenodd\" fill-opacity=\"1\" /><path clip-path=\"url(#clip190)\" d=\"M192.292 32.0398 L210.649 32.0398 L210.649 35.9749 L196.575 35.9749 L196.575 44.4471 Q197.593 44.0999 198.612 43.9378 Q199.63 43.7527 200.649 43.7527 Q206.436 43.7527 209.815 46.9239 Q213.195 50.0952 213.195 55.5119 Q213.195 61.0905 209.723 64.1924 Q206.25 67.2711 199.931 67.2711 Q197.755 67.2711 195.487 66.9007 Q193.241 66.5303 190.834 65.7896 L190.834 61.0905 Q192.917 62.2248 195.139 62.7803 Q197.362 63.3359 199.838 63.3359 Q203.843 63.3359 206.181 61.2294 Q208.519 59.1229 208.519 55.5119 Q208.519 51.9008 206.181 49.7943 Q203.843 47.6878 199.838 47.6878 Q197.963 47.6878 196.088 48.1045 Q194.237 48.5212 192.292 49.4008 L192.292 32.0398 Z\" fill=\"#000000\" fill-rule=\"evenodd\" fill-opacity=\"1\" /><path clip-path=\"url(#clip190)\" d=\"M46.0847 1057.03 Q46.0847 1064.13 47.7079 1066.87 Q49.3312 1069.6 53.2461 1069.6 Q56.3653 1069.6 58.2114 1067.57 Q60.0256 1065.5 60.0256 1061.96 Q60.0256 1057.09 56.5881 1054.17 Q53.1188 1051.21 47.3897 1051.21 L46.0847 1051.21 L46.0847 1057.03 M43.6657 1045.35 L64.0042 1045.35 L64.0042 1051.21 L58.5933 1051.21 Q61.8398 1053.21 63.3994 1056.2 Q64.9272 1059.19 64.9272 1063.52 Q64.9272 1069 61.8716 1072.24 Q58.7843 1075.46 53.6281 1075.46 Q47.6125 1075.46 44.5569 1071.45 Q41.5014 1067.41 41.5014 1059.42 L41.5014 1051.21 L40.9285 1051.21 Q36.8862 1051.21 34.6901 1053.88 Q32.4621 1056.52 32.4621 1061.33 Q32.4621 1064.38 33.1941 1067.28 Q33.9262 1070.18 35.3903 1072.85 L29.9795 1072.85 Q28.7381 1069.63 28.1334 1066.61 Q27.4968 1063.59 27.4968 1060.72 Q27.4968 1052.99 31.5072 1049.17 Q35.5176 1045.35 43.6657 1045.35 Z\" fill=\"#000000\" fill-rule=\"evenodd\" fill-opacity=\"1\" /><path clip-path=\"url(#clip190)\" d=\"M28.3562 1037.49 L28.3562 1031.28 L58.275 1020.14 L28.3562 1009 L28.3562 1002.79 L64.0042 1016.16 L64.0042 1024.12 L28.3562 1037.49 Z\" fill=\"#000000\" fill-rule=\"evenodd\" fill-opacity=\"1\" /><path clip-path=\"url(#clip190)\" d=\"M44.7161 964.218 L47.5806 964.218 L47.5806 991.145 Q53.6281 990.763 56.8109 987.517 Q59.9619 984.238 59.9619 978.414 Q59.9619 975.04 59.1344 971.889 Q58.3069 968.706 56.6518 965.587 L62.1899 965.587 Q63.5267 968.738 64.227 972.048 Q64.9272 975.358 64.9272 978.764 Q64.9272 987.294 59.9619 992.291 Q54.9967 997.256 46.5303 997.256 Q37.7774 997.256 32.6531 992.546 Q27.4968 987.803 27.4968 979.782 Q27.4968 972.589 32.1438 968.42 Q36.7589 964.218 44.7161 964.218 M42.9973 970.075 Q38.1912 970.138 35.3266 972.78 Q32.4621 975.39 32.4621 979.719 Q32.4621 984.62 35.2312 987.58 Q38.0002 990.509 43.0292 990.954 L42.9973 970.075 Z\" fill=\"#000000\" fill-rule=\"evenodd\" fill-opacity=\"1\" /><path clip-path=\"url(#clip190)\" d=\"M33.8307 933.949 Q33.2578 934.936 33.0032 936.114 Q32.7167 937.259 32.7167 938.66 Q32.7167 943.625 35.9632 946.299 Q39.1779 948.941 45.2253 948.941 L64.0042 948.941 L64.0042 954.829 L28.3562 954.829 L28.3562 948.941 L33.8944 948.941 Q30.6479 947.095 29.0883 944.134 Q27.4968 941.174 27.4968 936.941 Q27.4968 936.336 27.5923 935.604 Q27.656 934.872 27.8151 933.981 L33.8307 933.949 Z\" fill=\"#000000\" fill-rule=\"evenodd\" fill-opacity=\"1\" /><path clip-path=\"url(#clip190)\" d=\"M46.0847 911.606 Q46.0847 918.703 47.7079 921.441 Q49.3312 924.178 53.2461 924.178 Q56.3653 924.178 58.2114 922.141 Q60.0256 920.072 60.0256 916.539 Q60.0256 911.669 56.5881 908.741 Q53.1188 905.781 47.3897 905.781 L46.0847 905.781 L46.0847 911.606 M43.6657 899.925 L64.0042 899.925 L64.0042 905.781 L58.5933 905.781 Q61.8398 907.786 63.3994 910.778 Q64.9272 913.77 64.9272 918.099 Q64.9272 923.573 61.8716 926.82 Q58.7843 930.034 53.6281 930.034 Q47.6125 930.034 44.5569 926.024 Q41.5014 921.982 41.5014 913.993 L41.5014 905.781 L40.9285 905.781 Q36.8862 905.781 34.6901 908.455 Q32.4621 911.096 32.4621 915.903 Q32.4621 918.958 33.1941 921.854 Q33.9262 924.751 35.3903 927.424 L29.9795 927.424 Q28.7381 924.21 28.1334 921.186 Q27.4968 918.162 27.4968 915.298 Q27.4968 907.563 31.5072 903.744 Q35.5176 899.925 43.6657 899.925 Z\" fill=\"#000000\" fill-rule=\"evenodd\" fill-opacity=\"1\" /><path clip-path=\"url(#clip190)\" d=\"M45.7664 864.404 Q39.4007 864.404 35.8996 867.046 Q32.3984 869.656 32.3984 874.398 Q32.3984 879.109 35.8996 881.751 Q39.4007 884.36 45.7664 884.36 Q52.1003 884.36 55.6014 881.751 Q59.1026 879.109 59.1026 874.398 Q59.1026 869.656 55.6014 867.046 Q52.1003 864.404 45.7664 864.404 M59.58 858.548 Q68.683 858.548 73.1071 862.59 Q77.5631 866.632 77.5631 874.971 Q77.5631 878.058 77.0857 880.796 Q76.6401 883.533 75.6852 886.111 L69.9879 886.111 Q71.3884 883.533 72.0568 881.018 Q72.7252 878.504 72.7252 875.894 Q72.7252 870.133 69.7015 867.269 Q66.7096 864.404 60.6303 864.404 L57.7339 864.404 Q60.885 866.218 62.4446 869.051 Q64.0042 871.884 64.0042 875.83 Q64.0042 882.387 59.0071 886.398 Q54.01 890.408 45.7664 890.408 Q37.491 890.408 32.4939 886.398 Q27.4968 882.387 27.4968 875.83 Q27.4968 871.884 29.0564 869.051 Q30.616 866.218 33.7671 864.404 L28.3562 864.404 L28.3562 858.548 L59.58 858.548 Z\" fill=\"#000000\" fill-rule=\"evenodd\" fill-opacity=\"1\" /><path clip-path=\"url(#clip190)\" d=\"M44.7161 815.993 L47.5806 815.993 L47.5806 842.92 Q53.6281 842.538 56.8109 839.291 Q59.9619 836.013 59.9619 830.188 Q59.9619 826.814 59.1344 823.663 Q58.3069 820.481 56.6518 817.361 L62.1899 817.361 Q63.5267 820.512 64.227 823.823 Q64.9272 827.133 64.9272 830.538 Q64.9272 839.068 59.9619 844.066 Q54.9967 849.031 46.5303 849.031 Q37.7774 849.031 32.6531 844.32 Q27.4968 839.578 27.4968 831.557 Q27.4968 824.364 32.1438 820.194 Q36.7589 815.993 44.7161 815.993 M42.9973 821.849 Q38.1912 821.913 35.3266 824.555 Q32.4621 827.165 32.4621 831.493 Q32.4621 836.395 35.2312 839.355 Q38.0002 842.283 43.0292 842.729 L42.9973 821.849 Z\" fill=\"#000000\" fill-rule=\"evenodd\" fill-opacity=\"1\" /><path clip-path=\"url(#clip190)\" d=\"M29.7248 760.006 L35.1993 760.006 Q33.8307 762.489 33.1623 765.003 Q32.4621 767.486 32.4621 770.032 Q32.4621 775.73 36.0905 778.881 Q39.6872 782.032 46.212 782.032 Q52.7369 782.032 56.3653 778.881 Q59.9619 775.73 59.9619 770.032 Q59.9619 767.486 59.2935 765.003 Q58.5933 762.489 57.2247 760.006 L62.6355 760.006 Q63.7814 762.457 64.3543 765.099 Q64.9272 767.709 64.9272 770.669 Q64.9272 778.722 59.8664 783.464 Q54.8057 788.206 46.212 788.206 Q37.491 788.206 32.4939 783.432 Q27.4968 778.626 27.4968 770.287 Q27.4968 767.582 28.0697 765.003 Q28.6108 762.425 29.7248 760.006 Z\" fill=\"#000000\" fill-rule=\"evenodd\" fill-opacity=\"1\" /><path clip-path=\"url(#clip190)\" d=\"M32.4621 736.008 Q32.4621 740.718 36.1542 743.456 Q39.8145 746.193 46.212 746.193 Q52.6095 746.193 56.3017 743.487 Q59.9619 740.75 59.9619 736.008 Q59.9619 731.329 56.2698 728.592 Q52.5777 725.854 46.212 725.854 Q39.8781 725.854 36.186 728.592 Q32.4621 731.329 32.4621 736.008 M27.4968 736.008 Q27.4968 728.369 32.4621 724.008 Q37.4273 719.648 46.212 719.648 Q54.9649 719.648 59.9619 724.008 Q64.9272 728.369 64.9272 736.008 Q64.9272 743.678 59.9619 748.039 Q54.9649 752.368 46.212 752.368 Q37.4273 752.368 32.4621 748.039 Q27.4968 743.678 27.4968 736.008 Z\" fill=\"#000000\" fill-rule=\"evenodd\" fill-opacity=\"1\" /><path clip-path=\"url(#clip190)\" d=\"M42.4881 680.308 L64.0042 680.308 L64.0042 686.164 L42.679 686.164 Q37.6183 686.164 35.1038 688.138 Q32.5894 690.111 32.5894 694.058 Q32.5894 698.8 35.6131 701.537 Q38.6368 704.275 43.8567 704.275 L64.0042 704.275 L64.0042 710.163 L28.3562 710.163 L28.3562 704.275 L33.8944 704.275 Q30.6797 702.174 29.0883 699.341 Q27.4968 696.477 27.4968 692.753 Q27.4968 686.61 31.3163 683.459 Q35.1038 680.308 42.4881 680.308 Z\" fill=\"#000000\" fill-rule=\"evenodd\" fill-opacity=\"1\" /><path clip-path=\"url(#clip190)\" d=\"M42.4881 638.994 L64.0042 638.994 L64.0042 644.851 L42.679 644.851 Q37.6183 644.851 35.1038 646.824 Q32.5894 648.798 32.5894 652.744 Q32.5894 657.487 35.6131 660.224 Q38.6368 662.961 43.8567 662.961 L64.0042 662.961 L64.0042 668.849 L28.3562 668.849 L28.3562 662.961 L33.8944 662.961 Q30.6797 660.861 29.0883 658.028 Q27.4968 655.163 27.4968 651.439 Q27.4968 645.296 31.3163 642.145 Q35.1038 638.994 42.4881 638.994 Z\" fill=\"#000000\" fill-rule=\"evenodd\" fill-opacity=\"1\" /><path clip-path=\"url(#clip190)\" d=\"M44.7161 596.822 L47.5806 596.822 L47.5806 623.748 Q53.6281 623.367 56.8109 620.12 Q59.9619 616.842 59.9619 611.017 Q59.9619 607.643 59.1344 604.492 Q58.3069 601.309 56.6518 598.19 L62.1899 598.19 Q63.5267 601.341 64.227 604.651 Q64.9272 607.961 64.9272 611.367 Q64.9272 619.897 59.9619 624.894 Q54.9967 629.86 46.5303 629.86 Q37.7774 629.86 32.6531 625.149 Q27.4968 620.406 27.4968 612.386 Q27.4968 605.192 32.1438 601.023 Q36.7589 596.822 44.7161 596.822 M42.9973 602.678 Q38.1912 602.742 35.3266 605.383 Q32.4621 607.993 32.4621 612.322 Q32.4621 617.224 35.2312 620.184 Q38.0002 623.112 43.0292 623.557 L42.9973 602.678 Z\" fill=\"#000000\" fill-rule=\"evenodd\" fill-opacity=\"1\" /><path clip-path=\"url(#clip190)\" d=\"M29.7248 561.555 L35.1993 561.555 Q33.8307 564.038 33.1623 566.553 Q32.4621 569.035 32.4621 571.581 Q32.4621 577.279 36.0905 580.43 Q39.6872 583.581 46.212 583.581 Q52.7369 583.581 56.3653 580.43 Q59.9619 577.279 59.9619 571.581 Q59.9619 569.035 59.2935 566.553 Q58.5933 564.038 57.2247 561.555 L62.6355 561.555 Q63.7814 564.006 64.3543 566.648 Q64.9272 569.258 64.9272 572.218 Q64.9272 580.271 59.8664 585.013 Q54.8057 589.756 46.212 589.756 Q37.491 589.756 32.4939 584.981 Q27.4968 580.175 27.4968 571.836 Q27.4968 569.131 28.0697 566.553 Q28.6108 563.974 29.7248 561.555 Z\" fill=\"#000000\" fill-rule=\"evenodd\" fill-opacity=\"1\" /><path clip-path=\"url(#clip190)\" d=\"M18.2347 545.578 L28.3562 545.578 L28.3562 533.515 L32.9077 533.515 L32.9077 545.578 L52.2594 545.578 Q56.6199 545.578 57.8613 544.4 Q59.1026 543.19 59.1026 539.53 L59.1026 533.515 L64.0042 533.515 L64.0042 539.53 Q64.0042 546.31 61.4897 548.888 Q58.9434 551.466 52.2594 551.466 L32.9077 551.466 L32.9077 555.763 L28.3562 555.763 L28.3562 551.466 L18.2347 551.466 L18.2347 545.578 Z\" fill=\"#000000\" fill-rule=\"evenodd\" fill-opacity=\"1\" /><path clip-path=\"url(#clip190)\" d=\"M28.3562 525.812 L28.3562 519.956 L64.0042 519.956 L64.0042 525.812 L28.3562 525.812 M14.479 525.812 L14.479 519.956 L21.895 519.956 L21.895 525.812 L14.479 525.812 Z\" fill=\"#000000\" fill-rule=\"evenodd\" fill-opacity=\"1\" /><path clip-path=\"url(#clip190)\" d=\"M28.3562 511.903 L28.3562 505.696 L58.275 494.556 L28.3562 483.416 L28.3562 477.21 L64.0042 490.578 L64.0042 498.535 L28.3562 511.903 Z\" fill=\"#000000\" fill-rule=\"evenodd\" fill-opacity=\"1\" /><path clip-path=\"url(#clip190)\" d=\"M28.3562 469.125 L28.3562 463.269 L64.0042 463.269 L64.0042 469.125 L28.3562 469.125 M14.479 469.125 L14.479 463.269 L21.895 463.269 L21.895 469.125 L14.479 469.125 Z\" fill=\"#000000\" fill-rule=\"evenodd\" fill-opacity=\"1\" /><path clip-path=\"url(#clip190)\" d=\"M18.2347 445.222 L28.3562 445.222 L28.3562 433.159 L32.9077 433.159 L32.9077 445.222 L52.2594 445.222 Q56.6199 445.222 57.8613 444.045 Q59.1026 442.835 59.1026 439.175 L59.1026 433.159 L64.0042 433.159 L64.0042 439.175 Q64.0042 445.954 61.4897 448.532 Q58.9434 451.11 52.2594 451.11 L32.9077 451.11 L32.9077 455.407 L28.3562 455.407 L28.3562 451.11 L18.2347 451.11 L18.2347 445.222 Z\" fill=\"#000000\" fill-rule=\"evenodd\" fill-opacity=\"1\" /><path clip-path=\"url(#clip190)\" d=\"M67.3143 410.625 Q73.68 413.107 75.6216 415.463 Q77.5631 417.818 77.5631 421.765 L77.5631 426.443 L72.6615 426.443 L72.6615 423.006 Q72.6615 420.587 71.5157 419.25 Q70.3699 417.913 66.1048 416.29 L63.4312 415.24 L28.3562 429.658 L28.3562 423.451 L56.238 412.311 L28.3562 401.172 L28.3562 394.965 L67.3143 410.625 Z\" fill=\"#000000\" fill-rule=\"evenodd\" fill-opacity=\"1\" /><circle clip-path=\"url(#clip192)\" cx=\"2293.22\" cy=\"1384.24\" r=\"14\" fill=\"#009af9\" fill-rule=\"evenodd\" fill-opacity=\"1\" stroke=\"#000000\" stroke-opacity=\"1\" stroke-width=\"3.2\"/>\n",
       "<circle clip-path=\"url(#clip192)\" cx=\"2009.72\" cy=\"286.503\" r=\"14\" fill=\"#009af9\" fill-rule=\"evenodd\" fill-opacity=\"1\" stroke=\"#000000\" stroke-opacity=\"1\" stroke-width=\"3.2\"/>\n",
       "<circle clip-path=\"url(#clip192)\" cx=\"1726.22\" cy=\"281.778\" r=\"14\" fill=\"#009af9\" fill-rule=\"evenodd\" fill-opacity=\"1\" stroke=\"#000000\" stroke-opacity=\"1\" stroke-width=\"3.2\"/>\n",
       "<circle clip-path=\"url(#clip192)\" cx=\"1442.72\" cy=\"285.169\" r=\"14\" fill=\"#009af9\" fill-rule=\"evenodd\" fill-opacity=\"1\" stroke=\"#000000\" stroke-opacity=\"1\" stroke-width=\"3.2\"/>\n",
       "<circle clip-path=\"url(#clip192)\" cx=\"1159.23\" cy=\"300.791\" r=\"14\" fill=\"#009af9\" fill-rule=\"evenodd\" fill-opacity=\"1\" stroke=\"#000000\" stroke-opacity=\"1\" stroke-width=\"3.2\"/>\n",
       "<circle clip-path=\"url(#clip192)\" cx=\"875.727\" cy=\"274.957\" r=\"14\" fill=\"#009af9\" fill-rule=\"evenodd\" fill-opacity=\"1\" stroke=\"#000000\" stroke-opacity=\"1\" stroke-width=\"3.2\"/>\n",
       "<circle clip-path=\"url(#clip192)\" cx=\"592.228\" cy=\"247.558\" r=\"14\" fill=\"#009af9\" fill-rule=\"evenodd\" fill-opacity=\"1\" stroke=\"#000000\" stroke-opacity=\"1\" stroke-width=\"3.2\"/>\n",
       "<circle clip-path=\"url(#clip192)\" cx=\"308.73\" cy=\"86.1857\" r=\"14\" fill=\"#009af9\" fill-rule=\"evenodd\" fill-opacity=\"1\" stroke=\"#000000\" stroke-opacity=\"1\" stroke-width=\"3.2\"/>\n",
       "<polyline clip-path=\"url(#clip192)\" style=\"stroke:#e26f46; stroke-linecap:butt; stroke-linejoin:round; stroke-width:4; stroke-opacity:1; fill:none\" points=\"\n",
       "  2293.22,1384.24 2009.72,286.503 1726.22,281.778 1442.72,285.169 1159.23,300.791 875.727,274.957 592.228,247.558 308.73,86.1857 \n",
       "  \"/>\n",
       "<polyline clip-path=\"url(#clip192)\" style=\"stroke:#3da44d; stroke-linecap:butt; stroke-linejoin:round; stroke-width:4; stroke-opacity:1; fill:none\" points=\"\n",
       "  -1854.37,284.894 4456.32,284.894 \n",
       "  \"/>\n",
       "<polyline clip-path=\"url(#clip192)\" style=\"stroke:#c271d2; stroke-linecap:butt; stroke-linejoin:round; stroke-width:4; stroke-opacity:1; fill:none\" points=\"\n",
       "  1442.72,2799.12 1442.72,-1328.69 \n",
       "  \"/>\n",
       "<path clip-path=\"url(#clip190)\" d=\"\n",
       "M1340 248.629 L2282.64 248.629 L2282.64 93.1086 L1340 93.1086  Z\n",
       "  \" fill=\"#ffffff\" fill-rule=\"evenodd\" fill-opacity=\"1\"/>\n",
       "<polyline clip-path=\"url(#clip190)\" style=\"stroke:#000000; stroke-linecap:butt; stroke-linejoin:round; stroke-width:4; stroke-opacity:1; fill:none\" points=\"\n",
       "  1340,248.629 2282.64,248.629 2282.64,93.1086 1340,93.1086 1340,248.629 \n",
       "  \"/>\n",
       "<polyline clip-path=\"url(#clip190)\" style=\"stroke:#3da44d; stroke-linecap:butt; stroke-linejoin:round; stroke-width:4; stroke-opacity:1; fill:none\" points=\"\n",
       "  1363.37,144.949 1503.61,144.949 \n",
       "  \"/>\n",
       "<path clip-path=\"url(#clip190)\" d=\"M1531.27 158.34 L1531.27 172.09 L1526.98 172.09 L1526.98 136.303 L1531.27 136.303 L1531.27 140.238 Q1532.61 137.923 1534.65 136.812 Q1536.71 135.678 1539.55 135.678 Q1544.27 135.678 1547.21 139.428 Q1550.18 143.178 1550.18 149.289 Q1550.18 155.4 1547.21 159.15 Q1544.27 162.9 1539.55 162.9 Q1536.71 162.9 1534.65 161.789 Q1532.61 160.655 1531.27 158.34 M1545.76 149.289 Q1545.76 144.59 1543.81 141.928 Q1541.89 139.243 1538.51 139.243 Q1535.13 139.243 1533.19 141.928 Q1531.27 144.59 1531.27 149.289 Q1531.27 153.988 1533.19 156.673 Q1535.13 159.335 1538.51 159.335 Q1541.89 159.335 1543.81 156.673 Q1545.76 153.988 1545.76 149.289 Z\" fill=\"#000000\" fill-rule=\"evenodd\" fill-opacity=\"1\" /><path clip-path=\"url(#clip190)\" d=\"M1567.28 139.289 Q1563.86 139.289 1561.87 141.974 Q1559.88 144.636 1559.88 149.289 Q1559.88 153.942 1561.84 156.627 Q1563.83 159.289 1567.28 159.289 Q1570.69 159.289 1572.68 156.604 Q1574.67 153.918 1574.67 149.289 Q1574.67 144.682 1572.68 141.997 Q1570.69 139.289 1567.28 139.289 M1567.28 135.678 Q1572.84 135.678 1576.01 139.289 Q1579.18 142.9 1579.18 149.289 Q1579.18 155.655 1576.01 159.289 Q1572.84 162.9 1567.28 162.9 Q1561.71 162.9 1558.53 159.289 Q1555.39 155.655 1555.39 149.289 Q1555.39 142.9 1558.53 139.289 Q1561.71 135.678 1567.28 135.678 Z\" fill=\"#000000\" fill-rule=\"evenodd\" fill-opacity=\"1\" /><path clip-path=\"url(#clip190)\" d=\"M1586.24 136.303 L1590.5 136.303 L1590.5 162.229 L1586.24 162.229 L1586.24 136.303 M1586.24 126.21 L1590.5 126.21 L1590.5 131.604 L1586.24 131.604 L1586.24 126.21 Z\" fill=\"#000000\" fill-rule=\"evenodd\" fill-opacity=\"1\" /><path clip-path=\"url(#clip190)\" d=\"M1620.96 146.581 L1620.96 162.229 L1616.7 162.229 L1616.7 146.719 Q1616.7 143.039 1615.27 141.21 Q1613.83 139.382 1610.96 139.382 Q1607.52 139.382 1605.52 141.581 Q1603.53 143.78 1603.53 147.576 L1603.53 162.229 L1599.25 162.229 L1599.25 136.303 L1603.53 136.303 L1603.53 140.331 Q1605.06 137.993 1607.12 136.835 Q1609.2 135.678 1611.91 135.678 Q1616.38 135.678 1618.67 138.456 Q1620.96 141.21 1620.96 146.581 Z\" fill=\"#000000\" fill-rule=\"evenodd\" fill-opacity=\"1\" /><path clip-path=\"url(#clip190)\" d=\"M1633.67 128.942 L1633.67 136.303 L1642.45 136.303 L1642.45 139.613 L1633.67 139.613 L1633.67 153.687 Q1633.67 156.858 1634.53 157.761 Q1635.41 158.664 1638.07 158.664 L1642.45 158.664 L1642.45 162.229 L1638.07 162.229 Q1633.14 162.229 1631.27 160.4 Q1629.39 158.548 1629.39 153.687 L1629.39 139.613 L1626.27 139.613 L1626.27 136.303 L1629.39 136.303 L1629.39 128.942 L1633.67 128.942 Z\" fill=\"#000000\" fill-rule=\"evenodd\" fill-opacity=\"1\" /><path clip-path=\"url(#clip190)\" d=\"M1673.16 139.289 Q1669.74 139.289 1667.75 141.974 Q1665.76 144.636 1665.76 149.289 Q1665.76 153.942 1667.72 156.627 Q1669.71 159.289 1673.16 159.289 Q1676.57 159.289 1678.56 156.604 Q1680.55 153.918 1680.55 149.289 Q1680.55 144.682 1678.56 141.997 Q1676.57 139.289 1673.16 139.289 M1673.16 135.678 Q1678.72 135.678 1681.89 139.289 Q1685.06 142.9 1685.06 149.289 Q1685.06 155.655 1681.89 159.289 Q1678.72 162.9 1673.16 162.9 Q1667.58 162.9 1664.41 159.289 Q1661.26 155.655 1661.26 149.289 Q1661.26 142.9 1664.41 139.289 Q1667.58 135.678 1673.16 135.678 Z\" fill=\"#000000\" fill-rule=\"evenodd\" fill-opacity=\"1\" /><path clip-path=\"url(#clip190)\" d=\"M1705.25 126.21 L1705.25 129.752 L1701.17 129.752 Q1698.88 129.752 1697.98 130.678 Q1697.1 131.604 1697.1 134.011 L1697.1 136.303 L1704.11 136.303 L1704.11 139.613 L1697.1 139.613 L1697.1 162.229 L1692.82 162.229 L1692.82 139.613 L1688.74 139.613 L1688.74 136.303 L1692.82 136.303 L1692.82 134.497 Q1692.82 130.169 1694.83 128.201 Q1696.84 126.21 1701.22 126.21 L1705.25 126.21 Z\" fill=\"#000000\" fill-rule=\"evenodd\" fill-opacity=\"1\" /><path clip-path=\"url(#clip190)\" d=\"M1744.07 141.28 Q1745.66 138.409 1747.88 137.044 Q1750.11 135.678 1753.12 135.678 Q1757.17 135.678 1759.37 138.525 Q1761.57 141.349 1761.57 146.581 L1761.57 162.229 L1757.28 162.229 L1757.28 146.719 Q1757.28 142.993 1755.96 141.187 Q1754.64 139.382 1751.94 139.382 Q1748.63 139.382 1746.7 141.581 Q1744.78 143.78 1744.78 147.576 L1744.78 162.229 L1740.5 162.229 L1740.5 146.719 Q1740.5 142.969 1739.18 141.187 Q1737.86 139.382 1735.11 139.382 Q1731.84 139.382 1729.92 141.604 Q1728 143.803 1728 147.576 L1728 162.229 L1723.72 162.229 L1723.72 136.303 L1728 136.303 L1728 140.331 Q1729.46 137.946 1731.5 136.812 Q1733.53 135.678 1736.33 135.678 Q1739.16 135.678 1741.13 137.113 Q1743.12 138.548 1744.07 141.28 Z\" fill=\"#000000\" fill-rule=\"evenodd\" fill-opacity=\"1\" /><path clip-path=\"url(#clip190)\" d=\"M1781.84 149.196 Q1776.68 149.196 1774.69 150.377 Q1772.7 151.557 1772.7 154.405 Q1772.7 156.673 1774.18 158.016 Q1775.69 159.335 1778.25 159.335 Q1781.8 159.335 1783.93 156.835 Q1786.08 154.312 1786.08 150.145 L1786.08 149.196 L1781.84 149.196 M1790.34 147.437 L1790.34 162.229 L1786.08 162.229 L1786.08 158.293 Q1784.62 160.655 1782.44 161.789 Q1780.27 162.9 1777.12 162.9 Q1773.14 162.9 1770.78 160.678 Q1768.44 158.432 1768.44 154.682 Q1768.44 150.307 1771.36 148.085 Q1774.3 145.863 1780.11 145.863 L1786.08 145.863 L1786.08 145.446 Q1786.08 142.507 1784.13 140.909 Q1782.21 139.289 1778.72 139.289 Q1776.5 139.289 1774.39 139.821 Q1772.28 140.354 1770.34 141.419 L1770.34 137.483 Q1772.68 136.581 1774.88 136.141 Q1777.07 135.678 1779.16 135.678 Q1784.78 135.678 1787.56 138.594 Q1790.34 141.511 1790.34 147.437 Z\" fill=\"#000000\" fill-rule=\"evenodd\" fill-opacity=\"1\" /><path clip-path=\"url(#clip190)\" d=\"M1820.66 136.303 L1811.29 148.919 L1821.15 162.229 L1816.13 162.229 L1808.58 152.043 L1801.03 162.229 L1796.01 162.229 L1806.08 148.664 L1796.87 136.303 L1801.89 136.303 L1808.76 145.539 L1815.64 136.303 L1820.66 136.303 Z\" fill=\"#000000\" fill-rule=\"evenodd\" fill-opacity=\"1\" /><path clip-path=\"url(#clip190)\" d=\"M1827.17 136.303 L1831.43 136.303 L1831.43 162.229 L1827.17 162.229 L1827.17 136.303 M1827.17 126.21 L1831.43 126.21 L1831.43 131.604 L1827.17 131.604 L1827.17 126.21 Z\" fill=\"#000000\" fill-rule=\"evenodd\" fill-opacity=\"1\" /><path clip-path=\"url(#clip190)\" d=\"M1860.52 141.28 Q1862.12 138.409 1864.34 137.044 Q1866.56 135.678 1869.57 135.678 Q1873.62 135.678 1875.82 138.525 Q1878.02 141.349 1878.02 146.581 L1878.02 162.229 L1873.74 162.229 L1873.74 146.719 Q1873.74 142.993 1872.42 141.187 Q1871.1 139.382 1868.39 139.382 Q1865.08 139.382 1863.16 141.581 Q1861.24 143.78 1861.24 147.576 L1861.24 162.229 L1856.96 162.229 L1856.96 146.719 Q1856.96 142.969 1855.64 141.187 Q1854.32 139.382 1851.56 139.382 Q1848.3 139.382 1846.38 141.604 Q1844.46 143.803 1844.46 147.576 L1844.46 162.229 L1840.18 162.229 L1840.18 136.303 L1844.46 136.303 L1844.46 140.331 Q1845.92 137.946 1847.95 136.812 Q1849.99 135.678 1852.79 135.678 Q1855.62 135.678 1857.58 137.113 Q1859.57 138.548 1860.52 141.28 Z\" fill=\"#000000\" fill-rule=\"evenodd\" fill-opacity=\"1\" /><path clip-path=\"url(#clip190)\" d=\"M1898.3 149.196 Q1893.14 149.196 1891.15 150.377 Q1889.16 151.557 1889.16 154.405 Q1889.16 156.673 1890.64 158.016 Q1892.14 159.335 1894.71 159.335 Q1898.25 159.335 1900.38 156.835 Q1902.54 154.312 1902.54 150.145 L1902.54 149.196 L1898.3 149.196 M1906.8 147.437 L1906.8 162.229 L1902.54 162.229 L1902.54 158.293 Q1901.08 160.655 1898.9 161.789 Q1896.73 162.9 1893.58 162.9 Q1889.6 162.9 1887.24 160.678 Q1884.9 158.432 1884.9 154.682 Q1884.9 150.307 1887.81 148.085 Q1890.75 145.863 1896.56 145.863 L1902.54 145.863 L1902.54 145.446 Q1902.54 142.507 1900.59 140.909 Q1898.67 139.289 1895.18 139.289 Q1892.95 139.289 1890.85 139.821 Q1888.74 140.354 1886.8 141.419 L1886.8 137.483 Q1889.13 136.581 1891.33 136.141 Q1893.53 135.678 1895.62 135.678 Q1901.24 135.678 1904.02 138.594 Q1906.8 141.511 1906.8 147.437 Z\" fill=\"#000000\" fill-rule=\"evenodd\" fill-opacity=\"1\" /><path clip-path=\"url(#clip190)\" d=\"M1915.57 126.21 L1919.83 126.21 L1919.83 162.229 L1915.57 162.229 L1915.57 126.21 Z\" fill=\"#000000\" fill-rule=\"evenodd\" fill-opacity=\"1\" /><path clip-path=\"url(#clip190)\" d=\"M1962.47 137.298 L1962.47 141.28 Q1960.66 140.284 1958.83 139.798 Q1957.03 139.289 1955.18 139.289 Q1951.03 139.289 1948.74 141.928 Q1946.45 144.544 1946.45 149.289 Q1946.45 154.034 1948.74 156.673 Q1951.03 159.289 1955.18 159.289 Q1957.03 159.289 1958.83 158.803 Q1960.66 158.293 1962.47 157.298 L1962.47 161.233 Q1960.68 162.067 1958.76 162.483 Q1956.87 162.9 1954.71 162.9 Q1948.86 162.9 1945.41 159.219 Q1941.96 155.539 1941.96 149.289 Q1941.96 142.946 1945.43 139.312 Q1948.93 135.678 1954.99 135.678 Q1956.96 135.678 1958.83 136.095 Q1960.71 136.488 1962.47 137.298 Z\" fill=\"#000000\" fill-rule=\"evenodd\" fill-opacity=\"1\" /><path clip-path=\"url(#clip190)\" d=\"M1979.92 139.289 Q1976.49 139.289 1974.5 141.974 Q1972.51 144.636 1972.51 149.289 Q1972.51 153.942 1974.48 156.627 Q1976.47 159.289 1979.92 159.289 Q1983.32 159.289 1985.31 156.604 Q1987.3 153.918 1987.3 149.289 Q1987.3 144.682 1985.31 141.997 Q1983.32 139.289 1979.92 139.289 M1979.92 135.678 Q1985.48 135.678 1988.65 139.289 Q1991.82 142.9 1991.82 149.289 Q1991.82 155.655 1988.65 159.289 Q1985.48 162.9 1979.92 162.9 Q1974.34 162.9 1971.17 159.289 Q1968.02 155.655 1968.02 149.289 Q1968.02 142.9 1971.17 139.289 Q1974.34 135.678 1979.92 135.678 Z\" fill=\"#000000\" fill-rule=\"evenodd\" fill-opacity=\"1\" /><path clip-path=\"url(#clip190)\" d=\"M2019.06 141.28 Q2020.66 138.409 2022.88 137.044 Q2025.11 135.678 2028.11 135.678 Q2032.17 135.678 2034.36 138.525 Q2036.56 141.349 2036.56 146.581 L2036.56 162.229 L2032.28 162.229 L2032.28 146.719 Q2032.28 142.993 2030.96 141.187 Q2029.64 139.382 2026.93 139.382 Q2023.62 139.382 2021.7 141.581 Q2019.78 143.78 2019.78 147.576 L2019.78 162.229 L2015.5 162.229 L2015.5 146.719 Q2015.5 142.969 2014.18 141.187 Q2012.86 139.382 2010.11 139.382 Q2006.84 139.382 2004.92 141.604 Q2003 143.803 2003 147.576 L2003 162.229 L1998.72 162.229 L1998.72 136.303 L2003 136.303 L2003 140.331 Q2004.46 137.946 2006.49 136.812 Q2008.53 135.678 2011.33 135.678 Q2014.16 135.678 2016.12 137.113 Q2018.11 138.548 2019.06 141.28 Z\" fill=\"#000000\" fill-rule=\"evenodd\" fill-opacity=\"1\" /><path clip-path=\"url(#clip190)\" d=\"M2049.18 158.34 L2049.18 172.09 L2044.9 172.09 L2044.9 136.303 L2049.18 136.303 L2049.18 140.238 Q2050.52 137.923 2052.56 136.812 Q2054.62 135.678 2057.47 135.678 Q2062.19 135.678 2065.13 139.428 Q2068.09 143.178 2068.09 149.289 Q2068.09 155.4 2065.13 159.15 Q2062.19 162.9 2057.47 162.9 Q2054.62 162.9 2052.56 161.789 Q2050.52 160.655 2049.18 158.34 M2063.67 149.289 Q2063.67 144.59 2061.73 141.928 Q2059.8 139.243 2056.42 139.243 Q2053.05 139.243 2051.1 141.928 Q2049.18 144.59 2049.18 149.289 Q2049.18 153.988 2051.1 156.673 Q2053.05 159.335 2056.42 159.335 Q2059.8 159.335 2061.73 156.673 Q2063.67 153.988 2063.67 149.289 Z\" fill=\"#000000\" fill-rule=\"evenodd\" fill-opacity=\"1\" /><path clip-path=\"url(#clip190)\" d=\"M2090.17 140.284 Q2089.46 139.868 2088.6 139.682 Q2087.77 139.474 2086.75 139.474 Q2083.14 139.474 2081.19 141.835 Q2079.27 144.173 2079.27 148.571 L2079.27 162.229 L2074.99 162.229 L2074.99 136.303 L2079.27 136.303 L2079.27 140.331 Q2080.61 137.969 2082.77 136.835 Q2084.92 135.678 2088 135.678 Q2088.44 135.678 2088.97 135.747 Q2089.5 135.794 2090.15 135.909 L2090.17 140.284 Z\" fill=\"#000000\" fill-rule=\"evenodd\" fill-opacity=\"1\" /><path clip-path=\"url(#clip190)\" d=\"M2115.78 148.201 L2115.78 150.284 L2096.19 150.284 Q2096.47 154.682 2098.83 156.997 Q2101.22 159.289 2105.45 159.289 Q2107.91 159.289 2110.2 158.687 Q2112.51 158.085 2114.78 156.881 L2114.78 160.909 Q2112.49 161.881 2110.08 162.391 Q2107.67 162.9 2105.2 162.9 Q2098.99 162.9 2095.36 159.289 Q2091.75 155.678 2091.75 149.52 Q2091.75 143.155 2095.17 139.428 Q2098.62 135.678 2104.46 135.678 Q2109.69 135.678 2112.72 139.057 Q2115.78 142.414 2115.78 148.201 M2111.52 146.951 Q2111.47 143.456 2109.55 141.372 Q2107.65 139.289 2104.5 139.289 Q2100.94 139.289 2098.79 141.303 Q2096.66 143.317 2096.33 146.974 L2111.52 146.951 Z\" fill=\"#000000\" fill-rule=\"evenodd\" fill-opacity=\"1\" /><path clip-path=\"url(#clip190)\" d=\"M2139.29 137.067 L2139.29 141.094 Q2137.49 140.169 2135.54 139.706 Q2133.6 139.243 2131.52 139.243 Q2128.35 139.243 2126.75 140.215 Q2125.17 141.187 2125.17 143.131 Q2125.17 144.613 2126.31 145.469 Q2127.44 146.303 2130.87 147.067 L2132.33 147.391 Q2136.86 148.363 2138.76 150.145 Q2140.68 151.905 2140.68 155.076 Q2140.68 158.687 2137.81 160.793 Q2134.97 162.9 2129.97 162.9 Q2127.88 162.9 2125.61 162.483 Q2123.37 162.09 2120.87 161.28 L2120.87 156.881 Q2123.23 158.108 2125.52 158.733 Q2127.81 159.335 2130.06 159.335 Q2133.07 159.335 2134.69 158.317 Q2136.31 157.275 2136.31 155.4 Q2136.31 153.664 2135.13 152.738 Q2133.97 151.812 2130.01 150.956 L2128.53 150.608 Q2124.57 149.775 2122.81 148.062 Q2121.05 146.326 2121.05 143.317 Q2121.05 139.659 2123.65 137.669 Q2126.24 135.678 2131.01 135.678 Q2133.37 135.678 2135.45 136.025 Q2137.54 136.372 2139.29 137.067 Z\" fill=\"#000000\" fill-rule=\"evenodd\" fill-opacity=\"1\" /><path clip-path=\"url(#clip190)\" d=\"M2163.99 137.067 L2163.99 141.094 Q2162.19 140.169 2160.24 139.706 Q2158.3 139.243 2156.22 139.243 Q2153.04 139.243 2151.45 140.215 Q2149.87 141.187 2149.87 143.131 Q2149.87 144.613 2151.01 145.469 Q2152.14 146.303 2155.57 147.067 L2157.03 147.391 Q2161.56 148.363 2163.46 150.145 Q2165.38 151.905 2165.38 155.076 Q2165.38 158.687 2162.51 160.793 Q2159.66 162.9 2154.66 162.9 Q2152.58 162.9 2150.31 162.483 Q2148.07 162.09 2145.57 161.28 L2145.57 156.881 Q2147.93 158.108 2150.22 158.733 Q2152.51 159.335 2154.76 159.335 Q2157.77 159.335 2159.39 158.317 Q2161.01 157.275 2161.01 155.4 Q2161.01 153.664 2159.83 152.738 Q2158.67 151.812 2154.71 150.956 L2153.23 150.608 Q2149.27 149.775 2147.51 148.062 Q2145.75 146.326 2145.75 143.317 Q2145.75 139.659 2148.35 137.669 Q2150.94 135.678 2155.71 135.678 Q2158.07 135.678 2160.15 136.025 Q2162.23 136.372 2163.99 137.067 Z\" fill=\"#000000\" fill-rule=\"evenodd\" fill-opacity=\"1\" /><path clip-path=\"url(#clip190)\" d=\"M2172.16 136.303 L2176.42 136.303 L2176.42 162.229 L2172.16 162.229 L2172.16 136.303 M2172.16 126.21 L2176.42 126.21 L2176.42 131.604 L2172.16 131.604 L2172.16 126.21 Z\" fill=\"#000000\" fill-rule=\"evenodd\" fill-opacity=\"1\" /><path clip-path=\"url(#clip190)\" d=\"M2195.38 139.289 Q2191.96 139.289 2189.97 141.974 Q2187.97 144.636 2187.97 149.289 Q2187.97 153.942 2189.94 156.627 Q2191.93 159.289 2195.38 159.289 Q2198.79 159.289 2200.78 156.604 Q2202.77 153.918 2202.77 149.289 Q2202.77 144.682 2200.78 141.997 Q2198.79 139.289 2195.38 139.289 M2195.38 135.678 Q2200.94 135.678 2204.11 139.289 Q2207.28 142.9 2207.28 149.289 Q2207.28 155.655 2204.11 159.289 Q2200.94 162.9 2195.38 162.9 Q2189.8 162.9 2186.63 159.289 Q2183.48 155.655 2183.48 149.289 Q2183.48 142.9 2186.63 139.289 Q2189.8 135.678 2195.38 135.678 Z\" fill=\"#000000\" fill-rule=\"evenodd\" fill-opacity=\"1\" /><path clip-path=\"url(#clip190)\" d=\"M2235.89 146.581 L2235.89 162.229 L2231.63 162.229 L2231.63 146.719 Q2231.63 143.039 2230.2 141.21 Q2228.76 139.382 2225.89 139.382 Q2222.44 139.382 2220.45 141.581 Q2218.46 143.78 2218.46 147.576 L2218.46 162.229 L2214.18 162.229 L2214.18 136.303 L2218.46 136.303 L2218.46 140.331 Q2219.99 137.993 2222.05 136.835 Q2224.13 135.678 2226.84 135.678 Q2231.31 135.678 2233.6 138.456 Q2235.89 141.21 2235.89 146.581 Z\" fill=\"#000000\" fill-rule=\"evenodd\" fill-opacity=\"1\" /><polyline clip-path=\"url(#clip190)\" style=\"stroke:#c271d2; stroke-linecap:butt; stroke-linejoin:round; stroke-width:4; stroke-opacity:1; fill:none\" points=\"\n",
       "  1363.37,196.789 1503.61,196.789 \n",
       "  \"/>\n",
       "<path clip-path=\"url(#clip190)\" d=\"M1538.88 191.129 Q1535.46 191.129 1533.46 193.814 Q1531.47 196.476 1531.47 201.129 Q1531.47 205.782 1533.44 208.467 Q1535.43 211.129 1538.88 211.129 Q1542.28 211.129 1544.27 208.444 Q1546.27 205.758 1546.27 201.129 Q1546.27 196.522 1544.27 193.837 Q1542.28 191.129 1538.88 191.129 M1538.88 187.518 Q1544.44 187.518 1547.61 191.129 Q1550.78 194.74 1550.78 201.129 Q1550.78 207.495 1547.61 211.129 Q1544.44 214.74 1538.88 214.74 Q1533.3 214.74 1530.13 211.129 Q1526.98 207.495 1526.98 201.129 Q1526.98 194.74 1530.13 191.129 Q1533.3 187.518 1538.88 187.518 Z\" fill=\"#000000\" fill-rule=\"evenodd\" fill-opacity=\"1\" /><path clip-path=\"url(#clip190)\" d=\"M1561.96 210.18 L1561.96 223.93 L1557.68 223.93 L1557.68 188.143 L1561.96 188.143 L1561.96 192.078 Q1563.3 189.763 1565.34 188.652 Q1567.4 187.518 1570.25 187.518 Q1574.97 187.518 1577.91 191.268 Q1580.87 195.018 1580.87 201.129 Q1580.87 207.24 1577.91 210.99 Q1574.97 214.74 1570.25 214.74 Q1567.4 214.74 1565.34 213.629 Q1563.3 212.495 1561.96 210.18 M1576.45 201.129 Q1576.45 196.43 1574.51 193.768 Q1572.58 191.083 1569.21 191.083 Q1565.83 191.083 1563.88 193.768 Q1561.96 196.43 1561.96 201.129 Q1561.96 205.828 1563.88 208.513 Q1565.83 211.175 1569.21 211.175 Q1572.58 211.175 1574.51 208.513 Q1576.45 205.828 1576.45 201.129 Z\" fill=\"#000000\" fill-rule=\"evenodd\" fill-opacity=\"1\" /><path clip-path=\"url(#clip190)\" d=\"M1592.14 180.782 L1592.14 188.143 L1600.92 188.143 L1600.92 191.453 L1592.14 191.453 L1592.14 205.527 Q1592.14 208.698 1593 209.601 Q1593.88 210.504 1596.54 210.504 L1600.92 210.504 L1600.92 214.069 L1596.54 214.069 Q1591.61 214.069 1589.74 212.24 Q1587.86 210.388 1587.86 205.527 L1587.86 191.453 L1584.74 191.453 L1584.74 188.143 L1587.86 188.143 L1587.86 180.782 L1592.14 180.782 Z\" fill=\"#000000\" fill-rule=\"evenodd\" fill-opacity=\"1\" /><path clip-path=\"url(#clip190)\" d=\"M1606.52 188.143 L1610.78 188.143 L1610.78 214.069 L1606.52 214.069 L1606.52 188.143 M1606.52 178.05 L1610.78 178.05 L1610.78 183.444 L1606.52 183.444 L1606.52 178.05 Z\" fill=\"#000000\" fill-rule=\"evenodd\" fill-opacity=\"1\" /><path clip-path=\"url(#clip190)\" d=\"M1639.88 193.12 Q1641.47 190.249 1643.7 188.884 Q1645.92 187.518 1648.93 187.518 Q1652.98 187.518 1655.18 190.365 Q1657.38 193.189 1657.38 198.421 L1657.38 214.069 L1653.09 214.069 L1653.09 198.559 Q1653.09 194.833 1651.77 193.027 Q1650.45 191.222 1647.75 191.222 Q1644.44 191.222 1642.51 193.421 Q1640.59 195.62 1640.59 199.416 L1640.59 214.069 L1636.31 214.069 L1636.31 198.559 Q1636.31 194.809 1634.99 193.027 Q1633.67 191.222 1630.92 191.222 Q1627.65 191.222 1625.73 193.444 Q1623.81 195.643 1623.81 199.416 L1623.81 214.069 L1619.53 214.069 L1619.53 188.143 L1623.81 188.143 L1623.81 192.171 Q1625.27 189.786 1627.31 188.652 Q1629.34 187.518 1632.14 187.518 Q1634.97 187.518 1636.94 188.953 Q1638.93 190.388 1639.88 193.12 Z\" fill=\"#000000\" fill-rule=\"evenodd\" fill-opacity=\"1\" /><path clip-path=\"url(#clip190)\" d=\"M1677.65 201.036 Q1672.49 201.036 1670.5 202.217 Q1668.51 203.397 1668.51 206.245 Q1668.51 208.513 1669.99 209.856 Q1671.5 211.175 1674.07 211.175 Q1677.61 211.175 1679.74 208.675 Q1681.89 206.152 1681.89 201.985 L1681.89 201.036 L1677.65 201.036 M1686.15 199.277 L1686.15 214.069 L1681.89 214.069 L1681.89 210.133 Q1680.43 212.495 1678.26 213.629 Q1676.08 214.74 1672.93 214.74 Q1668.95 214.74 1666.59 212.518 Q1664.25 210.272 1664.25 206.522 Q1664.25 202.147 1667.17 199.925 Q1670.11 197.703 1675.92 197.703 L1681.89 197.703 L1681.89 197.286 Q1681.89 194.347 1679.95 192.749 Q1678.02 191.129 1674.53 191.129 Q1672.31 191.129 1670.2 191.661 Q1668.09 192.194 1666.15 193.259 L1666.15 189.323 Q1668.49 188.421 1670.69 187.981 Q1672.89 187.518 1674.97 187.518 Q1680.59 187.518 1683.37 190.434 Q1686.15 193.351 1686.15 199.277 Z\" fill=\"#000000\" fill-rule=\"evenodd\" fill-opacity=\"1\" /></svg>\n"
      ]
     },
     "execution_count": 159,
     "metadata": {},
     "output_type": "execute_result"
    }
   ],
   "source": [
    "ys = [v.μ for v in mean_connectivity_values]\n",
    "p = StatsPlots.scatter(xs, ys, ylabel=\"average connectivity\", xlabel=\"log2(kmer frequency threshold)\", label=nothing)\n",
    "StatsPlots.plot!(p, xs, ys, label=nothing)\n",
    "StatsPlots.hline!(p, [2], label=\"point of maximal compression\")\n",
    "StatsPlots.vline!(p, [xs[last(findmin(abs.(ys .- 2)))]], label=\"optima\")"
   ]
  },
  {
   "cell_type": "code",
   "execution_count": 163,
   "id": "45157510-4047-4fb9-910e-01e0c7a22ff0",
   "metadata": {},
   "outputs": [
    {
     "data": {
      "text/plain": [
       "3"
      ]
     },
     "execution_count": 163,
     "metadata": {},
     "output_type": "execute_result"
    }
   ],
   "source": [
    "last(findmin(number_of_connected_components .* abs.(ys .- 2)))"
   ]
  },
  {
   "cell_type": "code",
   "execution_count": null,
   "id": "05a5699e-e6a8-4576-ad17-3de6bc8d44ed",
   "metadata": {},
   "outputs": [],
   "source": []
  },
  {
   "cell_type": "code",
   "execution_count": null,
   "id": "7d8168eb-65f8-455c-8c43-9c4830502695",
   "metadata": {},
   "outputs": [],
   "source": [
    "alignment = BioAlignments.pairalign(BioAlignments.LevenshteinDistance(), observation, genome)"
   ]
  },
  {
   "cell_type": "code",
   "execution_count": null,
   "id": "57510fd3-5848-4471-bc29-f119ad4986c1",
   "metadata": {},
   "outputs": [],
   "source": [
    "reverse_alignment = BioAlignments.pairalign(BioAlignments.LevenshteinDistance(), BioSequences.reverse_complement(observation), genome)"
   ]
  },
  {
   "cell_type": "code",
   "execution_count": null,
   "id": "ffdd8d70-c134-47e4-94b4-7ffa58f6f70d",
   "metadata": {},
   "outputs": [],
   "source": [
    "if reverse_alignment.value < alignment.value\n",
    "    observation = BioSequences.reverse_complement(observation)\n",
    "    alignment = reverse_alignment\n",
    "    @show \"flipping\"\n",
    "end"
   ]
  },
  {
   "cell_type": "code",
   "execution_count": null,
   "id": "c9191717-8c33-4f22-85d5-e42d434fb25d",
   "metadata": {},
   "outputs": [],
   "source": [
    "# convert genome into stranded path"
   ]
  },
  {
   "cell_type": "code",
   "execution_count": null,
   "id": "c162ae04-c3ad-4658-8142-c5fa3ad7a543",
   "metadata": {},
   "outputs": [],
   "source": [
    "# function sequence_to_\n",
    "observation_as_oriented_kmers = []\n",
    "observation_kmers = collect(BioSequences.each(BioSequences.BigDNAMer{k}, observation))"
   ]
  },
  {
   "cell_type": "code",
   "execution_count": null,
   "id": "d3b63e69-1c33-4f4b-8c3e-c358089557f8",
   "metadata": {},
   "outputs": [],
   "source": [
    "genome_kmers"
   ]
  },
  {
   "cell_type": "code",
   "execution_count": null,
   "id": "e7fd3359-2116-42b9-a4df-48df59e2deb5",
   "metadata": {},
   "outputs": [],
   "source": [
    "is_canonical = falses(length(observation_kmers))\n",
    "kmer_index = zeros(Int, length(observation_kmers))\n",
    "for (i, kmer) in enumerate(observation_kmers)\n",
    "#     is_canonical[i] = kmer.fw <= kmer.bw\n",
    "    canonical_kmer = BioSequences.canonical(kmer.fw)\n",
    "    is_canonical[i] = kmer.fw == canonical_kmer\n",
    "    kmer_index_range = searchsorted(kmers, canonical_kmer)\n",
    "    if length(kmer_index_range) > 1\n",
    "        @error \"bad\"\n",
    "    elseif isempty(kmer_index_range)\n",
    "        # do nothing, index is 0 to indicate not found\n",
    "    else\n",
    "        kmer_index[i] = first(kmer_index_range)\n",
    "    end\n",
    "end"
   ]
  },
  {
   "cell_type": "code",
   "execution_count": null,
   "id": "e9c7e7b3-7d18-463f-a74b-47a2bd28307a",
   "metadata": {},
   "outputs": [],
   "source": [
    "is_canonical"
   ]
  },
  {
   "cell_type": "code",
   "execution_count": null,
   "id": "95d066fe-c611-4e94-bc74-e00afe1eea0b",
   "metadata": {},
   "outputs": [],
   "source": [
    "kmer_index"
   ]
  },
  {
   "cell_type": "code",
   "execution_count": null,
   "id": "572e131f-7063-47c9-a5bf-617cde17b07c",
   "metadata": {},
   "outputs": [],
   "source": [
    "proposed_path = BioSequences.BigDNAMer{k}[]\n",
    "opening_missing_kmer_path_index = findfirst(x -> x == 0, kmer_index)\n",
    "\n",
    "# read is solid!\n",
    "if opening_missing_kmer_path_index == nothing\n",
    "#     proposed_seq = observation\n",
    "    proposed_path = [kmer.fw for kmer in observation_kmers]\n",
    "    @show \"perfect read\"\n",
    "elseif all(index -> index == 0, kmer_index)\n",
    "    @show \"read is trash\"\n",
    "    # generate a new read from the assembly to replace this one\n",
    "\n",
    "    observation_path_length = length(observation_kmers)\n",
    "    proposed_path = nothing\n",
    "    proposed_path_size_discrepancy = Inf\n",
    "    starting_kmer_indices = StatsBase.sample(1:Graphs.nv(graph), min(10, Graphs.nv(graph)), replace=false)\n",
    "    for starting_kmer_index in starting_kmer_indices\n",
    "        starting_kmer_index = rand(1:Graphs.nv(graph))\n",
    "        @show starting_kmer_index\n",
    "        starting_kmer = graph.vprops[starting_kmer_index][:kmer]\n",
    "        if rand(Bool)\n",
    "            starting_kmer = BioSequences.reverse_complement(starting_kmer)\n",
    "        end\n",
    "        candidate_path = take_a_walk(graph, edge_likelihoods, kmers, starting_kmer, observation_path_length)\n",
    "        discrepancy = abs(length(candidate_path) - observation_path_length)\n",
    "        @show discrepancy\n",
    "        if discrepancy < proposed_path_size_discrepancy\n",
    "            proposed_path = candidate_path\n",
    "            proposed_path_size_discrepancy = discrepancy\n",
    "            if proposed_path_size_discrepancy == 0\n",
    "                break\n",
    "            end\n",
    "        end\n",
    "    end\n",
    "else\n",
    "    if opening_missing_kmer_path_index == 1\n",
    "        opening_solid_kmer = nothing\n",
    "    #     closing_solid_kmer_path_index = findnext(map(x -> x != 0, kmer_index), opening_missing_kmer_path_index+1)\n",
    "    elseif opening_missing_kmer_path_index != nothing\n",
    "        opening_solid_kmer_path_index = opening_missing_kmer_path_index - 1\n",
    "        opening_solid_kmer = observation_kmers[opening_solid_kmer_path_index].fw\n",
    "    end\n",
    "\n",
    "    if opening_missing_kmer_path_index == nothing\n",
    "        closing_solid_kmer_path_index = findnext(map(x -> x != 0, kmer_index), 1)\n",
    "    else\n",
    "        closing_solid_kmer_path_index = findnext(map(x -> x != 0, kmer_index), opening_missing_kmer_path_index+1)\n",
    "    end\n",
    "    if closing_solid_kmer_path_index == nothing\n",
    "        @show \"end is open\"\n",
    "        closing_solid_kmer = nothing\n",
    "    else\n",
    "        closing_solid_kmer = observation_kmers[closing_solid_kmer_path_index].fw\n",
    "    end\n",
    "\n",
    "\n",
    "    extensions = 0\n",
    "    while (opening_missing_kmer_path_index != nothing) && (extensions < 5)\n",
    "        extensions += 1\n",
    "        @show extensions\n",
    "\n",
    "        if (opening_solid_kmer == nothing) && (closing_solid_kmer != nothing)\n",
    "            @show \"missing opening\"\n",
    "            @show closing_solid_kmer\n",
    "            inverted_closing_solid_kmer = BioSequences.reverse_complement(closing_solid_kmer)\n",
    "            @show inverted_closing_solid_kmer\n",
    "            walk_length = closing_solid_kmer_path_index\n",
    "            chosen_walk = take_a_walk(graph, edge_likelihoods, kmers, inverted_closing_solid_kmer, walk_length)\n",
    "            chosen_walk = reverse(BioSequences.reverse_complement.(chosen_walk))\n",
    "            @show chosen_walk\n",
    "            @show closing_solid_kmer_path_index\n",
    "            @assert observation_kmers[closing_solid_kmer_path_index].fw == last(chosen_walk)\n",
    "            proposed_path = chosen_walk\n",
    "            opening_missing_kmer_path_index = findnext(map(x -> x == 0, kmer_index), closing_solid_kmer_path_index+1)\n",
    "\n",
    "            if opening_missing_kmer_path_index == 1\n",
    "                opening_solid_kmer = nothing\n",
    "            elseif opening_missing_kmer_path_index != nothing\n",
    "                need_to_add = getproperty.(observation_kmers[closing_solid_kmer_path_index+1:opening_missing_kmer_path_index-1], :fw)\n",
    "                append!(proposed_path, need_to_add)\n",
    "                opening_solid_kmer_path_index = opening_missing_kmer_path_index - 1\n",
    "                opening_solid_kmer = observation_kmers[opening_solid_kmer_path_index].fw\n",
    "                closing_solid_kmer_path_index = findnext(map(x -> x != 0, kmer_index), opening_missing_kmer_path_index+1)\n",
    "                if closing_solid_kmer_path_index == nothing\n",
    "                    closing_solid_kmer = nothing\n",
    "                else\n",
    "                    closing_solid_kmer = observation_kmers[closing_solid_kmer_path_index].fw\n",
    "                end\n",
    "            end\n",
    "        end\n",
    "\n",
    "        if (opening_solid_kmer != nothing) && (closing_solid_kmer == nothing)\n",
    "            @show \"missing closing\"\n",
    "            walk_length = length(observation_kmers) - opening_solid_kmer_path_index+1\n",
    "            chosen_walk = take_a_walk(graph, edge_likelihoods, kmers, opening_solid_kmer, walk_length)\n",
    "            @show chosen_walk\n",
    "            @assert observation_kmers[opening_solid_kmer_path_index].fw == first(chosen_walk)\n",
    "            if isempty(proposed_path)\n",
    "                proposed_path = getproperty.(observation_kmers[1:opening_solid_kmer_path_index], :fw)\n",
    "            end\n",
    "            append!(proposed_path, chosen_walk[2:end])\n",
    "            opening_missing_kmer_path_index = nothing\n",
    "        end\n",
    "\n",
    "        while (opening_solid_kmer != nothing) && (closing_solid_kmer != nothing)\n",
    "            @show \"bubble!\"\n",
    "            opening_solid_kmer_index = kmer_index[opening_solid_kmer_path_index]\n",
    "            closing_solid_kmer_index = kmer_index[closing_solid_kmer_path_index]\n",
    "\n",
    "            @show opening_solid_kmer, opening_solid_kmer_path_index\n",
    "            @show closing_solid_kmer, closing_solid_kmer_path_index\n",
    "            @show length(proposed_path)\n",
    "            \n",
    "            #####################################################################################\n",
    "            # DETERMINE PATH LENGTH\n",
    "            #####################################################################################\n",
    "            # by default, we're assuming that we want to walk the same distance as our bubble + 1\n",
    "            bubble_path_length = closing_solid_kmer_path_index - opening_solid_kmer_path_index + 1\n",
    "\n",
    "            if opening_solid_kmer_index != closing_solid_kmer_index\n",
    "                path = Graphs.a_star(graph, opening_solid_kmer_index, closing_solid_kmer_index)\n",
    "                normalized_path = Int[path[1].src, [edge.dst for edge in path]...]\n",
    "                shortest_paths = [normalized_path]\n",
    "            else\n",
    "                neighbors = Graphs.neighbors(graph, opening_solid_kmer_index)\n",
    "                shortest_paths = Vector{Vector{Int}}()\n",
    "                for neighbor in neighbors\n",
    "                    path = Graphs.a_star(graph, neighbor, closing_solid_kmer_index)\n",
    "                    normalized_path = Int[path[1].src, [edge.dst for edge in path]...]\n",
    "                    push!(shortest_paths, normalized_path)\n",
    "                end\n",
    "            end\n",
    "            # but if our bubble is a deletion, then walking that length may not get us across to the other side\n",
    "            # so we also determine the longest, shortest path\n",
    "            longest_shortest_walk_length = maximum(length.(shortest_paths))\n",
    "\n",
    "\n",
    "            longest_walk_length = max(bubble_path_length, longest_shortest_walk_length)\n",
    "            walk_length = Int(ceil(longest_walk_length * 1.1))\n",
    "\n",
    "            walks = Vector{Int}[]\n",
    "            for i in 1:3\n",
    "                println(\"round $i\")\n",
    "                walks = [take_a_walk(graph, edge_likelihoods, kmers, opening_solid_kmer, walk_length)]\n",
    "                while allunique(walks)\n",
    "                    push!(walks, take_a_walk(graph, edge_likelihoods, kmers, opening_solid_kmer, walk_length))\n",
    "                end\n",
    "\n",
    "                walks = filter(path -> closing_solid_kmer in path, walks)\n",
    "\n",
    "                if isempty(walks)\n",
    "                    walk_length = Int(ceil(walk_length * 1.1))\n",
    "                else\n",
    "                    # done!\n",
    "                    break\n",
    "                end\n",
    "            end\n",
    "\n",
    "            if !isempty(walks)\n",
    "                candidate_paths = sort(collect(StatsBase.countmap(walks)), by=x->x[2], rev=true)\n",
    "                selected_path = first(first(candidate_paths))\n",
    "                selected_path_closing_solid_kmer_intersects = findall(kmer -> kmer == closing_solid_kmer, selected_path)\n",
    "                if length(selected_path_closing_solid_kmer_intersects) > 1\n",
    "                    @show \"here\"\n",
    "                    selected_path_closing_solid_kmer_intersect = 0\n",
    "                    d = Inf\n",
    "                    for i in selected_path_closing_solid_kmer_intersects\n",
    "                        candidate_distance = abs(i - walk_length)\n",
    "                        if candidate_distance < d\n",
    "                            d = candidate_distance\n",
    "                            selected_path_closing_solid_kmer_intersect = i\n",
    "                        end\n",
    "                    end\n",
    "                else\n",
    "                    selected_path_closing_solid_kmer_intersect = first(selected_path_closing_solid_kmer_intersects)\n",
    "                end\n",
    "                selected_path = selected_path[1:selected_path_closing_solid_kmer_intersect]\n",
    "                if isempty(proposed_path)\n",
    "                    proposed_path = getproperty.(observation_kmers[1:opening_solid_kmer_path_index], :fw)\n",
    "                end\n",
    "                append!(proposed_path, selected_path[2:end])\n",
    "                opening_missing_kmer_path_index = findnext(map(x -> x == 0, kmer_index), closing_solid_kmer_path_index+1)\n",
    "                if opening_missing_kmer_path_index == nothing\n",
    "                    #done\n",
    "                    opening_solid_kmer = nothing\n",
    "                elseif opening_missing_kmer_path_index == 1\n",
    "                    # also done?\n",
    "                    opening_solid_kmer = nothing\n",
    "                elseif opening_missing_kmer_path_index != nothing\n",
    "                    need_to_add = getproperty.(observation_kmers[closing_solid_kmer_path_index+1:opening_missing_kmer_path_index-1], :fw)\n",
    "                    append!(proposed_path, need_to_add)\n",
    "                    opening_solid_kmer_path_index = opening_missing_kmer_path_index - 1\n",
    "                    opening_solid_kmer = observation_kmers[opening_solid_kmer_path_index].fw\n",
    "                    closing_solid_kmer_path_index = findnext(map(x -> x != 0, kmer_index), opening_missing_kmer_path_index+1)\n",
    "                    if closing_solid_kmer_path_index == nothing\n",
    "                        closing_solid_kmer = nothing\n",
    "                    else\n",
    "                        closing_solid_kmer = observation_kmers[closing_solid_kmer_path_index].fw\n",
    "                    end\n",
    "                end\n",
    "            else\n",
    "                @show \"need to bump out\"\n",
    "                if opening_missing_kmer_path_index >= 2\n",
    "                    opening_missing_kmer_path_index -= 1\n",
    "                    opening_solid_kmer = nothing\n",
    "                    # this should now break out to larger while loop\n",
    "                end\n",
    "                # push out closing node and try again\n",
    "                closing_solid_kmer_path_index = findnext(map(x -> x != 0, kmer_index), closing_solid_kmer_path_index+1)\n",
    "\n",
    "                if closing_solid_kmer_path_index == nothing\n",
    "                    @show \"end is open\"\n",
    "                    closing_solid_kmer = nothing\n",
    "                else\n",
    "                    closing_solid_kmer = observation_kmers[closing_solid_kmer_path_index].fw\n",
    "                end\n",
    "            end\n",
    "        end\n",
    "    end\n",
    "    if closing_solid_kmer_path_index != nothing\n",
    "        append!(proposed_path, getproperty.(observation_kmers[closing_solid_kmer_path_index+1:end], :fw))\n",
    "    end\n",
    "end"
   ]
  },
  {
   "cell_type": "code",
   "execution_count": null,
   "id": "9d0f8ba9-7391-4d13-b053-ffa218931590",
   "metadata": {},
   "outputs": [],
   "source": [
    "proposed_path"
   ]
  },
  {
   "cell_type": "code",
   "execution_count": null,
   "id": "ebc0509b-4227-4dbb-9b30-e30f885d3942",
   "metadata": {},
   "outputs": [],
   "source": [
    "proposed_seq = BioSequences.LongDNASeq(first(proposed_path))\n",
    "for kmer in proposed_path[2:end]\n",
    "    push!(proposed_seq, last(kmer))\n",
    "end\n",
    "proposed_seq"
   ]
  },
  {
   "cell_type": "code",
   "execution_count": null,
   "id": "46006c09-daf3-4628-8585-7946328c975f",
   "metadata": {},
   "outputs": [],
   "source": [
    "new_alignment = BioAlignments.pairalign(BioAlignments.LevenshteinDistance(), proposed_seq, genome)"
   ]
  },
  {
   "cell_type": "code",
   "execution_count": null,
   "id": "7dddb7f3-7466-4852-bd9a-ec365d56c3a2",
   "metadata": {},
   "outputs": [],
   "source": [
    "reverse_new_alignment = BioAlignments.pairalign(BioAlignments.LevenshteinDistance(), BioSequences.reverse_complement(proposed_seq), genome)"
   ]
  },
  {
   "cell_type": "code",
   "execution_count": null,
   "id": "0bcb9396-faf4-4c0d-bc85-8f13c9016229",
   "metadata": {},
   "outputs": [],
   "source": [
    "if reverse_new_alignment.value < new_alignment.value\n",
    "#     observation = BioSequences.reverse_complement!(observation)\n",
    "    new_alignment = reverse_new_alignment\n",
    "    @show \"flipping\"\n",
    "end"
   ]
  },
  {
   "cell_type": "code",
   "execution_count": null,
   "id": "697153c4-416f-4308-80c9-216df5c4e893",
   "metadata": {},
   "outputs": [],
   "source": [
    "if new_alignment.value <= alignment.value\n",
    "    @show \"newer is equivalent or better\"\n",
    "    @show new_alignment.value, alignment.value\n",
    "else\n",
    "    @show \"newer is worse, keep original\"\n",
    "    @show new_alignment.value, alignment.value\n",
    "end"
   ]
  }
 ],
 "metadata": {
  "kernelspec": {
   "display_name": "Julia 1.6.1",
   "language": "julia",
   "name": "julia-1.6"
  },
  "language_info": {
   "file_extension": ".jl",
   "mimetype": "application/julia",
   "name": "julia",
   "version": "1.6.1"
  }
 },
 "nbformat": 4,
 "nbformat_minor": 5
}
