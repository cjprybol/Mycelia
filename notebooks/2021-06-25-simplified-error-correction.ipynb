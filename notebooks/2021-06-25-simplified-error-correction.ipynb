{
 "cells": [
  {
   "cell_type": "code",
   "execution_count": 1,
   "metadata": {},
   "outputs": [
    {
     "data": {
      "text/plain": [
       "\"/Users/cameronprybol/2021-06-25-simplified-error-correction\""
      ]
     },
     "execution_count": 1,
     "metadata": {},
     "output_type": "execute_result"
    }
   ],
   "source": [
    "DATE = \"2021-06-25\"\n",
    "TASK = \"simplified-error-correction\"\n",
    "DIR = \"$(DATE)-$(TASK)\"\n",
    "DIR = mkpath(\"$(homedir())/$(DIR)\")"
   ]
  },
  {
   "cell_type": "code",
   "execution_count": 90,
   "metadata": {},
   "outputs": [],
   "source": [
    "pkgs = [\n",
    "\"LightGraphs\",\n",
    "\"MetaGraphs\",\n",
    "\"BioSequences\",\n",
    "\"uCSV\",\n",
    "\"DataFrames\",\n",
    "\"FASTX\",\n",
    "\"Random\",\n",
    "\"ProgressMeter\",\n",
    "\"Revise\",\n",
    "\"StatsBase\"\n",
    "]\n",
    "\n",
    "import Pkg\n",
    "Pkg.add(pkgs)\n",
    "for pkg in pkgs\n",
    "    eval(Meta.parse(\"import $(basename(pkg))\"))\n",
    "end\n",
    "\n",
    "import Mycelia"
   ]
  },
  {
   "cell_type": "code",
   "execution_count": 3,
   "metadata": {},
   "outputs": [
    {
     "data": {
      "text/plain": [
       "MersenneTwister(0)"
      ]
     },
     "execution_count": 3,
     "metadata": {},
     "output_type": "execute_result"
    }
   ],
   "source": [
    "# set a random seed\n",
    "seed = Random.seed!(0)"
   ]
  },
  {
   "cell_type": "code",
   "execution_count": 4,
   "metadata": {},
   "outputs": [
    {
     "data": {
      "text/plain": [
       "100nt DNA Sequence:\n",
       "AAGGGTGCGGTCTAGGTGCACTGCTTATGGTCCCCGACA…TCTACCTCTTTGTTGAAACGTATTCTTCTCTTAACACCT"
      ]
     },
     "execution_count": 4,
     "metadata": {},
     "output_type": "execute_result"
    }
   ],
   "source": [
    "# randomly generate a dna sequence of 100bp\n",
    "genome = BioSequences.randdnaseq(seed, 100)"
   ]
  },
  {
   "cell_type": "code",
   "execution_count": 5,
   "metadata": {},
   "outputs": [
    {
     "data": {
      "text/plain": [
       "0.01"
      ]
     },
     "execution_count": 5,
     "metadata": {},
     "output_type": "execute_result"
    }
   ],
   "source": [
    "# define error rate\n",
    "error_rate = 0.01"
   ]
  },
  {
   "cell_type": "code",
   "execution_count": 6,
   "metadata": {},
   "outputs": [],
   "source": [
    "# generate 100x coverage fastq file\n",
    "# put accuracy rate into fastq file\n",
    "coverage = 10\n",
    "fastq_file = \"$(DIR)/$(DATE)-$(TASK).fastq\"\n",
    "open(fastq_file, \"w\") do io\n",
    "    fastq_writer = FASTX.FASTQ.Writer(io)\n",
    "    for i in 1:coverage\n",
    "        observed_sequence = Mycelia.observe(genome, error_rate=error_rate)\n",
    "        q = -10 * log10(error_rate)\n",
    "        quality_scores = fill(q, length(observed_sequence))\n",
    "        fastq_record = FASTX.FASTQ.Record(\"i\", observed_sequence, quality_scores)\n",
    "        write(fastq_writer, fastq_record)\n",
    "    end\n",
    "end"
   ]
  },
  {
   "cell_type": "code",
   "execution_count": 7,
   "metadata": {},
   "outputs": [
    {
     "data": {
      "text/plain": [
       "11"
      ]
     },
     "execution_count": 7,
     "metadata": {},
     "output_type": "execute_result"
    }
   ],
   "source": [
    "k = 11"
   ]
  },
  {
   "cell_type": "code",
   "execution_count": 8,
   "metadata": {},
   "outputs": [
    {
     "data": {
      "text/plain": [
       "BioSequences.BigDNAMer{11} (alias for BioSequences.BigMer{BioSequences.DNAAlphabet{2}, 11})"
      ]
     },
     "execution_count": 8,
     "metadata": {},
     "output_type": "execute_result"
    }
   ],
   "source": [
    "kmer_type = BioSequences.BigDNAMer{k}"
   ]
  },
  {
   "cell_type": "code",
   "execution_count": 9,
   "metadata": {},
   "outputs": [
    {
     "name": "stderr",
     "output_type": "stream",
     "text": [
      "┌ Info: creating graph\n",
      "└ @ Mycelia /Users/cameronprybol/.julia/dev/Mycelia/src/Mycelia.jl:2957\n"
     ]
    },
    {
     "data": {
      "text/plain": [
       "{120, 240} directed Int64 metagraph with Float64 weights defined by :weight (default weight 1.0)"
      ]
     },
     "execution_count": 9,
     "metadata": {},
     "output_type": "execute_result"
    }
   ],
   "source": [
    "simple_kmer_graph = Mycelia.fastx_to_simple_kmer_graph(kmer_type, fastq_file)"
   ]
  },
  {
   "cell_type": "code",
   "execution_count": 10,
   "metadata": {},
   "outputs": [
    {
     "data": {
      "text/plain": [
       "\"/Users/cameronprybol/2021-06-25-simplified-error-correction/2021-06-25-simplified-error-correction.fastq.k-11.gfa\""
      ]
     },
     "execution_count": 10,
     "metadata": {},
     "output_type": "execute_result"
    }
   ],
   "source": [
    "# visualize\n",
    "gfa_file = fastq_file * \".k-$k.gfa\"\n",
    "Mycelia.graph_to_gfa(simple_kmer_graph, gfa_file)"
   ]
  },
  {
   "cell_type": "code",
   "execution_count": 11,
   "metadata": {},
   "outputs": [
    {
     "data": {
      "text/plain": [
       "Process(`\u001b[4m/Applications/Bandage.app/Contents/MacOS/Bandage\u001b[24m \u001b[4mimage\u001b[24m \u001b[4m/Users/cameronprybol/2021-06-25-simplified-error-correction/2021-06-25-simplified-error-correction.fastq.k-11.gfa\u001b[24m \u001b[4m/Users/cameronprybol/2021-06-25-simplified-error-correction/2021-06-25-simplified-error-correction.fastq.k-11.gfa.svg\u001b[24m \u001b[4m--depwidth\u001b[24m \u001b[4m1\u001b[24m \u001b[4m--deppower\u001b[24m \u001b[4m1\u001b[24m`, ProcessExited(0))"
      ]
     },
     "execution_count": 11,
     "metadata": {},
     "output_type": "execute_result"
    }
   ],
   "source": [
    "run(`/Applications/Bandage.app/Contents/MacOS/Bandage image $(gfa_file) $(gfa_file).svg --depwidth 1 --deppower 1`)\n",
    "# --nodewidth <float> Average node width (0.5 to 1000, default: 5)\n",
    "# --depwidth <float>  Depth effect on width (0 to 1, default: 0.5)\n",
    "# --deppower <float>  Power of depth effect on width (0 to 1, default: 0.5)"
   ]
  },
  {
   "cell_type": "code",
   "execution_count": 12,
   "metadata": {},
   "outputs": [
    {
     "data": {
      "text/plain": [
       "\"./../../../../2021-06-25-simplified-error-correction/2021-06-25-simplified-error-correction.fastq.k-11.gfa.svg\""
      ]
     },
     "execution_count": 12,
     "metadata": {},
     "output_type": "execute_result"
    }
   ],
   "source": [
    "html_path_to_svg = \"./\" * repeat(\"../\", length(split(pwd(), '/')) - 3)\n",
    "html_path_to_svg *= replace(\"$(gfa_file).svg\", \"$(homedir())/\" => \"\")"
   ]
  },
  {
   "cell_type": "code",
   "execution_count": 13,
   "metadata": {},
   "outputs": [
    {
     "data": {
      "text/html": [
       "<img src=./../../../../2021-06-25-simplified-error-correction/2021-06-25-simplified-error-correction.fastq.k-11.gfa.svg>"
      ]
     },
     "metadata": {},
     "output_type": "display_data"
    }
   ],
   "source": [
    "x = display(\"text/html\", \"<img src=$(html_path_to_svg)>\")"
   ]
  },
  {
   "cell_type": "code",
   "execution_count": 21,
   "metadata": {},
   "outputs": [
    {
     "data": {
      "text/plain": [
       "90-element Vector{Int64}:\n",
       "   1\n",
       "   2\n",
       "   3\n",
       "   4\n",
       "   5\n",
       "   6\n",
       "   7\n",
       "   8\n",
       "  11\n",
       "  12\n",
       "  14\n",
       "  16\n",
       "  17\n",
       "   ⋮\n",
       " 105\n",
       " 106\n",
       " 108\n",
       " 109\n",
       " 110\n",
       " 111\n",
       " 113\n",
       " 114\n",
       " 115\n",
       " 117\n",
       " 118\n",
       " 119"
      ]
     },
     "execution_count": 21,
     "metadata": {},
     "output_type": "execute_result"
    }
   ],
   "source": [
    "solid_vertices = filter(v -> simple_kmer_graph.vprops[v][:weight] > 1, LightGraphs.vertices(simple_kmer_graph))"
   ]
  },
  {
   "cell_type": "code",
   "execution_count": 24,
   "metadata": {},
   "outputs": [
    {
     "data": {
      "text/plain": [
       "({90, 178} directed Int64 metagraph with Float64 weights defined by :weight (default weight 1.0), [1, 2, 3, 4, 5, 6, 7, 8, 11, 12  …  108, 109, 110, 111, 113, 114, 115, 117, 118, 119])"
      ]
     },
     "execution_count": 24,
     "metadata": {},
     "output_type": "execute_result"
    }
   ],
   "source": [
    "filtered_simple_kmer_graph, vertex_map = LightGraphs.induced_subgraph(simple_kmer_graph, solid_vertices)"
   ]
  },
  {
   "cell_type": "code",
   "execution_count": 26,
   "metadata": {},
   "outputs": [
    {
     "data": {
      "text/plain": [
       "90-element Vector{BioSequences.BigDNAMer{11}}:\n",
       " AAACGTATTCT\n",
       " AAAGAGGTAGA\n",
       " AACAAAGAGGT\n",
       " AACGTATTCTT\n",
       " AAGAGAAGAAT\n",
       " AAGAGGTAGAT\n",
       " AAGCAGTGCAC\n",
       " AAGGGTGCGGT\n",
       " AATACGTTTCA\n",
       " AATCACCGCAC\n",
       " ACAAAGAGGTA\n",
       " ACAGGACCGTG\n",
       " ACCATAAGCAG\n",
       " ⋮\n",
       " GTGCACCTAGA\n",
       " GTGTTAAGAGA\n",
       " GTTGAAACGTA\n",
       " GTTTCAACAAA\n",
       " TAAGAGAAGAA\n",
       " TAAGCAGTGCA\n",
       " TAATCACCGCA\n",
       " TAGATCAGATA\n",
       " TCAGATAATCA\n",
       " TCTTCTCTTAA\n",
       " TCTTTGTTGAA\n",
       " TGTTAAGAGAA"
      ]
     },
     "execution_count": 26,
     "metadata": {},
     "output_type": "execute_result"
    }
   ],
   "source": [
    "kmers = [filtered_simple_kmer_graph.vprops[v][:kmer] for v in LightGraphs.vertices(filtered_simple_kmer_graph)]"
   ]
  },
  {
   "cell_type": "code",
   "execution_count": 14,
   "metadata": {},
   "outputs": [
    {
     "data": {
      "text/plain": [
       "10-element Vector{FASTX.FASTQ.Record}:\n",
       " FASTX.FASTQ.Record:\n",
       "   identifier: i\n",
       "  description: <missing>\n",
       "     sequence: AAGGGTGCGGTCTAGGTGCACTGCTTATGGTCCCCGACAGGACCGTGCGGTGATTATCTGATCTACCTCTTTGTTGAAACGTATTCTTCTCTTAACACCT\n",
       "      quality: UInt8[0x14, 0x14, 0x14, 0x14, 0x14, 0x14, 0x14, 0x14, 0x14, 0x14  …  0x14, 0x14, 0x14, 0x14, 0x14, 0x14, 0x14, 0x14, 0x14, 0x14]\n",
       " FASTX.FASTQ.Record:\n",
       "   identifier: i\n",
       "  description: <missing>\n",
       "     sequence: AAGGGTGCGTCTAGGTGCACTGCTTATGGTCCCCGACAGGACCGTGCGGTGATTATCTGATCTACCTCTTTGTTGAAACGTATTCTTCTCTTAACACCT\n",
       "      quality: UInt8[0x14, 0x14, 0x14, 0x14, 0x14, 0x14, 0x14, 0x14, 0x14, 0x14  …  0x14, 0x14, 0x14, 0x14, 0x14, 0x14, 0x14, 0x14, 0x14, 0x14]\n",
       " FASTX.FASTQ.Record:\n",
       "   identifier: i\n",
       "  description: <missing>\n",
       "     sequence: AAGGGTGCGGTCTAGGTGCACTGCTTATGGTCCCCGACAGGACCGTGCGGTGATTATCTGATCTACCTCTTTGTTGAAACGTATTCTTCTCTTAACACCT\n",
       "      quality: UInt8[0x14, 0x14, 0x14, 0x14, 0x14, 0x14, 0x14, 0x14, 0x14, 0x14  …  0x14, 0x14, 0x14, 0x14, 0x14, 0x14, 0x14, 0x14, 0x14, 0x14]\n",
       " FASTX.FASTQ.Record:\n",
       "   identifier: i\n",
       "  description: <missing>\n",
       "     sequence: AAGGGTGCGGTCTAGGTGCACTGCTTATGGTCCCCGACAGGACCGTGCGGTGATTATCTGATCTACCTCTTTGTTGAAACGTATTCTTCTCTTAACACCT\n",
       "      quality: UInt8[0x14, 0x14, 0x14, 0x14, 0x14, 0x14, 0x14, 0x14, 0x14, 0x14  …  0x14, 0x14, 0x14, 0x14, 0x14, 0x14, 0x14, 0x14, 0x14, 0x14]\n",
       " FASTX.FASTQ.Record:\n",
       "   identifier: i\n",
       "  description: <missing>\n",
       "     sequence: AGGTGTTAAGAGAAGAATACGTTTCAACAAAGAGGTAGATCAGATAATCACCGCGCGGTCCTGTCGGGGACCATAAGCAGTGCACCTAGACCGCACCCTT\n",
       "      quality: UInt8[0x14, 0x14, 0x14, 0x14, 0x14, 0x14, 0x14, 0x14, 0x14, 0x14  …  0x14, 0x14, 0x14, 0x14, 0x14, 0x14, 0x14, 0x14, 0x14, 0x14]\n",
       " FASTX.FASTQ.Record:\n",
       "   identifier: i\n",
       "  description: <missing>\n",
       "     sequence: AAGGGTGCGGTCTAGGTGCACTGCTTATGGTCCCCGACAGGACCGTGCGGTGATTATCTGATCTACCTCTTTGTTGAAACGTATTCTTCTCTTAACACCT\n",
       "      quality: UInt8[0x14, 0x14, 0x14, 0x14, 0x14, 0x14, 0x14, 0x14, 0x14, 0x14  …  0x14, 0x14, 0x14, 0x14, 0x14, 0x14, 0x14, 0x14, 0x14, 0x14]\n",
       " FASTX.FASTQ.Record:\n",
       "   identifier: i\n",
       "  description: <missing>\n",
       "     sequence: AGGTGTTAAGAGAAGAATACGTTTCAACAAAGAGGTAGATCAGATAATCACCGCACGGTCCTGTCGGGGACCATAAGCAGTGCACCTAGACCGCACCCTT\n",
       "      quality: UInt8[0x14, 0x14, 0x14, 0x14, 0x14, 0x14, 0x14, 0x14, 0x14, 0x14  …  0x14, 0x14, 0x14, 0x14, 0x14, 0x14, 0x14, 0x14, 0x14, 0x14]\n",
       " FASTX.FASTQ.Record:\n",
       "   identifier: i\n",
       "  description: <missing>\n",
       "     sequence: AGGTGTTAAGTGAAGAATACGTTTCAACAAAGAGGTAGATCAGATAATCACCGCACGGTCCTGTCGGGGACCATAAGCAGTGCACCTAGACCGCACCCTT\n",
       "      quality: UInt8[0x14, 0x14, 0x14, 0x14, 0x14, 0x14, 0x14, 0x14, 0x14, 0x14  …  0x14, 0x14, 0x14, 0x14, 0x14, 0x14, 0x14, 0x14, 0x14, 0x14]\n",
       " FASTX.FASTQ.Record:\n",
       "   identifier: i\n",
       "  description: <missing>\n",
       "     sequence: AAGGGTGCGGTCTAGGTGCACTGCTTATGGTCCCCGACAGGACCGTGCGGTGATTATCTGATCTACCTCTTTGTTGAAACGTATTCTTCTCTTAACACCT\n",
       "      quality: UInt8[0x14, 0x14, 0x14, 0x14, 0x14, 0x14, 0x14, 0x14, 0x14, 0x14  …  0x14, 0x14, 0x14, 0x14, 0x14, 0x14, 0x14, 0x14, 0x14, 0x14]\n",
       " FASTX.FASTQ.Record:\n",
       "   identifier: i\n",
       "  description: <missing>\n",
       "     sequence: AAGGGTGCGGTCTAGGTGCACTGCTTATGGTCCCCGACAGGACCGTGCGGTGATTATCTGATCTACCTCTTTGTTGAAACGTATTCTTCTCTTAACACCT\n",
       "      quality: UInt8[0x14, 0x14, 0x14, 0x14, 0x14, 0x14, 0x14, 0x14, 0x14, 0x14  …  0x14, 0x14, 0x14, 0x14, 0x14, 0x14, 0x14, 0x14, 0x14, 0x14]"
      ]
     },
     "execution_count": 14,
     "metadata": {},
     "output_type": "execute_result"
    }
   ],
   "source": [
    "fastx_records = collect(FASTX.FASTQ.Reader(open(fastq_file)))"
   ]
  },
  {
   "cell_type": "code",
   "execution_count": 41,
   "metadata": {},
   "outputs": [
    {
     "data": {
      "text/plain": [
       "FASTX.FASTQ.Record:\n",
       "   identifier: i\n",
       "  description: <missing>\n",
       "     sequence: AGGTGTTAAGAGAAGAATACGTTTCAACAAAGAGGTAGATCAGATAATCACCGCGCGGTCCTGTCGGGGACCATAAGCAGTGCACCTAGACCGCACCCTT\n",
       "      quality: UInt8[0x14, 0x14, 0x14, 0x14, 0x14, 0x14, 0x14, 0x14, 0x14, 0x14  …  0x14, 0x14, 0x14, 0x14, 0x14, 0x14, 0x14, 0x14, 0x14, 0x14]"
      ]
     },
     "execution_count": 41,
     "metadata": {},
     "output_type": "execute_result"
    }
   ],
   "source": [
    "record = fastx_records[5]"
   ]
  },
  {
   "cell_type": "code",
   "execution_count": 94,
   "metadata": {},
   "outputs": [
    {
     "name": "stdout",
     "output_type": "stream",
     "text": [
      "kmer_is_solid = true\n",
      "kmer_index = 32\n",
      "\"solid stretch\" = \"solid stretch\"\n",
      "kmer_is_solid = true\n",
      "kmer_index = 61\n",
      "\"solid stretch\" = \"solid stretch\"\n",
      "kmer_is_solid = true\n",
      "kmer_index = 80\n",
      "\"solid stretch\" = \"solid stretch\"\n",
      "kmer_is_solid = true\n",
      "kmer_index = 90\n",
      "\"solid stretch\" = \"solid stretch\"\n",
      "kmer_is_solid = true\n",
      "kmer_index = 65\n",
      "\"solid stretch\" = \"solid stretch\"\n",
      "kmer_is_solid = true\n",
      "kmer_index = 88\n",
      "\"solid stretch\" = \"solid stretch\"\n",
      "kmer_is_solid = true\n",
      "kmer_index = 83\n",
      "\"solid stretch\" = \"solid stretch\"\n",
      "kmer_is_solid = true\n",
      "kmer_index = 5\n",
      "\"solid stretch\" = \"solid stretch\"\n",
      "kmer_is_solid = true\n",
      "kmer_index = 23\n",
      "\"solid stretch\" = \"solid stretch\"\n",
      "kmer_is_solid = true\n",
      "kmer_index = 69\n",
      "\"solid stretch\" = \"solid stretch\"\n",
      "kmer_is_solid = true\n",
      "kmer_index = 21\n",
      "\"solid stretch\" = \"solid stretch\"\n",
      "kmer_is_solid = true\n",
      "kmer_index = 18\n",
      "\"solid stretch\" = \"solid stretch\"\n",
      "kmer_is_solid = true\n",
      "kmer_index = 4\n",
      "\"solid stretch\" = \"solid stretch\"\n",
      "kmer_is_solid = true\n",
      "kmer_index = 1\n",
      "\"solid stretch\" = \"solid stretch\"\n",
      "kmer_is_solid = true\n",
      "kmer_index = 67\n",
      "\"solid stretch\" = \"solid stretch\"\n",
      "kmer_is_solid = true\n",
      "kmer_index = 9\n",
      "\"solid stretch\" = \"solid stretch\"\n",
      "kmer_is_solid = true\n",
      "kmer_index = 36\n",
      "\"solid stretch\" = \"solid stretch\"\n",
      "kmer_is_solid = true\n",
      "kmer_index = 81\n",
      "\"solid stretch\" = \"solid stretch\"\n",
      "kmer_is_solid = true\n",
      "kmer_index = 19\n",
      "\"solid stretch\" = \"solid stretch\"\n",
      "kmer_is_solid = true\n",
      "kmer_index = 59\n",
      "\"solid stretch\" = \"solid stretch\"\n",
      "kmer_is_solid = true\n",
      "kmer_index = 82\n",
      "\"solid stretch\" = \"solid stretch\"\n",
      "kmer_is_solid = true\n",
      "kmer_index = 66\n",
      "\"solid stretch\" = \"solid stretch\"\n",
      "kmer_is_solid = true\n",
      "kmer_index = 89\n",
      "\"solid stretch\" = \"solid stretch\"\n",
      "kmer_is_solid = true\n",
      "kmer_index = 62\n",
      "\"solid stretch\" = \"solid stretch\"\n",
      "kmer_is_solid = true\n",
      "kmer_index = 43\n",
      "\"solid stretch\" = \"solid stretch\"\n",
      "kmer_is_solid = true\n",
      "kmer_index = 3\n",
      "\"solid stretch\" = \"solid stretch\"\n",
      "kmer_is_solid = true\n",
      "kmer_index = 11\n",
      "\"solid stretch\" = \"solid stretch\"\n",
      "kmer_is_solid = true\n",
      "kmer_index = 42\n",
      "\"solid stretch\" = \"solid stretch\"\n",
      "kmer_is_solid = true\n",
      "kmer_index = 2\n",
      "\"solid stretch\" = \"solid stretch\"\n",
      "kmer_is_solid = true\n",
      "kmer_index = 6\n",
      "\"solid stretch\" = \"solid stretch\"\n",
      "kmer_is_solid = true\n",
      "kmer_index = 24\n",
      "\"solid stretch\" = \"solid stretch\"\n",
      "kmer_is_solid = true\n",
      "kmer_index = 70\n",
      "\"solid stretch\" = \"solid stretch\"\n",
      "kmer_is_solid = true\n",
      "kmer_index = 30\n",
      "\"solid stretch\" = \"solid stretch\"\n",
      "kmer_is_solid = true\n",
      "kmer_index = 74\n",
      "\"solid stretch\" = \"solid stretch\"\n",
      "kmer_is_solid = true\n",
      "kmer_index = 39\n",
      "\"solid stretch\" = \"solid stretch\"\n",
      "kmer_is_solid = true\n",
      "kmer_index = 86\n",
      "\"solid stretch\" = \"solid stretch\"\n",
      "kmer_is_solid = true\n",
      "kmer_index = 26\n",
      "\"solid stretch\" = \"solid stretch\"\n",
      "kmer_is_solid = true\n",
      "kmer_index = 41\n",
      "\"solid stretch\" = \"solid stretch\"\n",
      "kmer_is_solid = true\n",
      "kmer_index = 38\n",
      "\"solid stretch\" = \"solid stretch\"\n",
      "kmer_is_solid = true\n",
      "kmer_index = 87\n",
      "\"solid stretch\" = \"solid stretch\"\n",
      "kmer_is_solid = true\n",
      "kmer_index = 46\n",
      "\"solid stretch\" = \"solid stretch\"\n",
      "kmer_is_solid = true\n",
      "kmer_index = 25\n",
      "\"solid stretch\" = \"solid stretch\"\n",
      "kmer_is_solid = true\n",
      "kmer_index = 58\n",
      "\"solid stretch\" = \"solid stretch\"\n",
      "kmer_is_solid = true\n",
      "kmer_index = 35\n",
      "\"solid stretch\" = \"solid stretch\"\n",
      "kmer_is_solid = false\n",
      "kmer_index = 0\n",
      "\"beginning of bubble!\" = \"beginning of bubble!\"\n",
      "kmer_is_solid = false\n",
      "kmer_index = 0\n",
      "\"continuation of bubble!\" = \"continuation of bubble!\"\n",
      "kmer_is_solid = false\n",
      "kmer_index = 0\n",
      "\"continuation of bubble!\" = \"continuation of bubble!\"\n",
      "kmer_is_solid = false\n",
      "kmer_index = 0\n",
      "\"continuation of bubble!\" = \"continuation of bubble!\"\n",
      "kmer_is_solid = false\n",
      "kmer_index = 0\n",
      "\"continuation of bubble!\" = \"continuation of bubble!\"\n",
      "kmer_is_solid = false\n",
      "kmer_index = 0\n",
      "\"continuation of bubble!\" = \"continuation of bubble!\"\n",
      "kmer_is_solid = false\n",
      "kmer_index = 0\n",
      "\"continuation of bubble!\" = \"continuation of bubble!\"\n",
      "kmer_is_solid = false\n",
      "kmer_index = 0\n",
      "\"continuation of bubble!\" = \"continuation of bubble!\"\n",
      "kmer_is_solid = false\n",
      "kmer_index = 0\n",
      "\"continuation of bubble!\" = \"continuation of bubble!\"\n",
      "kmer_is_solid = false\n",
      "kmer_index = 0\n",
      "\"continuation of bubble!\" = \"continuation of bubble!\"\n",
      "kmer_is_solid = false\n",
      "kmer_index = 0\n",
      "\"continuation of bubble!\" = \"continuation of bubble!\"\n",
      "kmer_is_solid = true\n",
      "kmer_index = 56\n",
      "\"end of bubble!!\" = \"end of bubble!!\"\n",
      "\"check for shortest paths\" = \"check for shortest paths\"\n",
      "(source_vertex, source_orientation) = (35, true)\n",
      "(destination_vertex, destination_orientation) = (56, false)\n",
      "kmer_is_solid = true\n",
      "kmer_index = 51\n",
      "\"solid stretch\" = \"solid stretch\"\n",
      "kmer_is_solid = true\n",
      "kmer_index = 50\n",
      "\"solid stretch\" = \"solid stretch\"\n",
      "kmer_is_solid = true\n",
      "kmer_index = 49\n",
      "\"solid stretch\" = \"solid stretch\"\n",
      "kmer_is_solid = true\n",
      "kmer_index = 55\n",
      "\"solid stretch\" = \"solid stretch\"\n",
      "kmer_is_solid = true\n",
      "kmer_index = 63\n",
      "\"solid stretch\" = \"solid stretch\"\n",
      "kmer_is_solid = true\n",
      "kmer_index = 75\n",
      "\"solid stretch\" = \"solid stretch\"\n",
      "kmer_is_solid = true\n",
      "kmer_index = 77\n",
      "\"solid stretch\" = \"solid stretch\"\n",
      "kmer_is_solid = true\n",
      "kmer_index = 40\n",
      "\"solid stretch\" = \"solid stretch\"\n",
      "kmer_is_solid = true\n",
      "kmer_index = 57\n",
      "\"solid stretch\" = \"solid stretch\"\n",
      "kmer_is_solid = true\n",
      "kmer_index = 73\n",
      "\"solid stretch\" = \"solid stretch\"\n",
      "kmer_is_solid = true\n",
      "kmer_index = 64\n",
      "\"solid stretch\" = \"solid stretch\"\n",
      "kmer_is_solid = true\n",
      "kmer_index = 72\n",
      "\"solid stretch\" = \"solid stretch\"\n",
      "kmer_is_solid = true\n",
      "kmer_index = 68\n",
      "\"solid stretch\" = \"solid stretch\"\n",
      "kmer_is_solid = true\n",
      "kmer_index = 13\n",
      "\"solid stretch\" = \"solid stretch\"\n",
      "kmer_is_solid = true\n",
      "kmer_index = 20\n",
      "\"solid stretch\" = \"solid stretch\"\n",
      "kmer_is_solid = true\n",
      "kmer_index = 45\n",
      "\"solid stretch\" = \"solid stretch\"\n",
      "kmer_is_solid = true\n",
      "kmer_index = 34\n",
      "\"solid stretch\" = \"solid stretch\"\n",
      "kmer_is_solid = true\n",
      "kmer_index = 84\n",
      "\"solid stretch\" = \"solid stretch\"\n",
      "kmer_is_solid = true\n",
      "kmer_index = 7\n",
      "\"solid stretch\" = \"solid stretch\"\n",
      "kmer_is_solid = true\n",
      "kmer_index = 27\n",
      "\"solid stretch\" = \"solid stretch\"\n",
      "kmer_is_solid = true\n",
      "kmer_index = 31\n",
      "\"solid stretch\" = \"solid stretch\"\n",
      "kmer_is_solid = true\n",
      "kmer_index = 48\n",
      "\"solid stretch\" = \"solid stretch\"\n",
      "kmer_is_solid = true\n",
      "kmer_index = 33\n",
      "\"solid stretch\" = \"solid stretch\"\n",
      "kmer_is_solid = true\n",
      "kmer_index = 79\n",
      "\"solid stretch\" = \"solid stretch\"\n",
      "kmer_is_solid = true\n",
      "kmer_index = 78\n",
      "\"solid stretch\" = \"solid stretch\"\n",
      "kmer_is_solid = true\n",
      "kmer_index = 71\n",
      "\"solid stretch\" = \"solid stretch\"\n",
      "kmer_is_solid = true\n",
      "kmer_index = 44\n",
      "\"solid stretch\" = \"solid stretch\"\n",
      "kmer_is_solid = true\n",
      "kmer_index = 16\n",
      "\"solid stretch\" = \"solid stretch\"\n",
      "kmer_is_solid = true\n",
      "kmer_index = 54\n",
      "\"solid stretch\" = \"solid stretch\"\n",
      "kmer_is_solid = true\n",
      "kmer_index = 60\n",
      "\"solid stretch\" = \"solid stretch\"\n",
      "kmer_is_solid = true\n",
      "kmer_index = 76\n",
      "\"solid stretch\" = \"solid stretch\"\n",
      "kmer_is_solid = true\n",
      "kmer_index = 22\n",
      "\"solid stretch\" = \"solid stretch\"\n",
      "kmer_is_solid = true\n",
      "kmer_index = 29\n",
      "\"solid stretch\" = \"solid stretch\"\n",
      "kmer_is_solid = true\n",
      "kmer_index = 8\n",
      "\"solid stretch\" = \"solid stretch\"\n"
     ]
    }
   ],
   "source": [
    "kmer_iterator = collect(BioSequences.each(kmer_type, FASTX.sequence(record)))\n",
    "bubble_start = 0\n",
    "\n",
    "# iterate through the read, asking whether the\n",
    "\n",
    "updated_path = Vector{Pair{Int, Bool}}()\n",
    "\n",
    "for (i, kmer) in enumerate(kmer_iterator)\n",
    "    canonical_kmer = min(kmer.fw, kmer.bw)\n",
    "    orientation = canonical_kmer == kmer.fw\n",
    "    kmer_index_range = searchsorted(kmers, canonical_kmer)\n",
    "    kmer_is_solid = !isempty(kmer_index_range)\n",
    "    @show kmer_is_solid\n",
    "    if kmer_is_solid\n",
    "        kmer_index = first(kmer_index_range)\n",
    "    else\n",
    "        kmer_index = 0\n",
    "    end\n",
    "    @show kmer_index\n",
    "    \n",
    "    bubble_has_started = bubble_start > 0\n",
    "    \n",
    "    if kmer_is_solid\n",
    "        if !bubble_has_started\n",
    "            @show \"solid stretch\"\n",
    "            push!(updated_path, kmer_index => orientation)\n",
    "        else\n",
    "            @show \"end of bubble!!\"\n",
    "            if bubble_start > 1\n",
    "                @show \"check for shortest paths\"\n",
    "                \n",
    "                source_vertex, source_orientation = last(updated_path)\n",
    "                destination_vertex, destination_orientation = kmer_index, orientation\n",
    "                \n",
    "                @show source_vertex, source_orientation\n",
    "                @show destination_vertex, destination_orientation\n",
    "                \n",
    "                shortest_paths = LightGraphs.yen_k_shortest_paths(\n",
    "                    filtered_simple_kmer_graph,\n",
    "                    source_vertex,\n",
    "                    destination_vertex,\n",
    "                    LightGraphs.weights(filtered_simple_kmer_graph),\n",
    "                    3).paths\n",
    "                \n",
    "                if isempty(shortest_paths)\n",
    "                    error(\"no valid alternate paths found\")\n",
    "                end\n",
    "                candidate_path_probabilities = ones(length(shortest_paths))\n",
    "                oriented_candidate_paths = [\n",
    "                    [last(updated_path)] for i in 1:length(shortest_paths)\n",
    "                ]\n",
    "\n",
    "                for (i, candidate_path) in enumerate(shortest_paths)\n",
    "                    for dest_vertex in candidate_path[2:end]\n",
    "                        source_vertex, source_orientation = last(oriented_candidate_paths[i])\n",
    "                        candidate_path_probabilities[i] *= transition_probabilities[source_orientation][source_vertex, dest_vertex]\n",
    "                        candidate_path_probabilities[i] *= state_likelihoods[dest_vertex]\n",
    "                        if candidate_path_probabilities[i] > 0\n",
    "                            edge = LightGraphs.Edge(source_vertex, dest_vertex)\n",
    "                            destination_orientation = \n",
    "                            first(\n",
    "                                filter(o -> o.source_orientation == source_orientation,\n",
    "                                    filtered_simple_kmer_graph.eprops[edge][:orientations])).destination_orientation\n",
    "                            push!(oriented_candidate_paths[i], (dest_vertex => destination_orientation))\n",
    "                        else\n",
    "                            break # this path is no good, evaluate the next\n",
    "                        end\n",
    "                    end\n",
    "                end\n",
    "\n",
    "                if !any(p -> p > 0, candidate_path_probabilities)\n",
    "                    error(\"no valid alternate path probabilities\")\n",
    "                end\n",
    "                chosen_replacement = StatsBase.sample(oriented_candidate_paths, StatsBase.weights(candidate_path_probabilities))\n",
    "                \n",
    "                for i in 2:length(chosen_replacement)\n",
    "                    oriented_state = chosen_replacement[i]\n",
    "                    push!(updated_path, oriented_state)\n",
    "                end\n",
    "            else\n",
    "                @show \"beginning of read is loose, clipping\"\n",
    "            end\n",
    "            bubble_start = 0\n",
    "        end\n",
    "    else\n",
    "        if !bubble_has_started\n",
    "            @show \"beginning of bubble!\"\n",
    "            bubble_start = i\n",
    "        else\n",
    "            @show \"continuation of bubble!\"\n",
    "        end\n",
    "    end\n",
    "end"
   ]
  },
  {
   "cell_type": "code",
   "execution_count": 74,
   "metadata": {},
   "outputs": [
    {
     "data": {
      "text/plain": [
       "Dict{Bool, SparseArrays.SparseMatrixCSC{Float64, Int64}} with 2 entries:\n",
       "  0 => …\n",
       "  1 => …"
      ]
     },
     "execution_count": 74,
     "metadata": {},
     "output_type": "execute_result"
    }
   ],
   "source": [
    "transition_probabilities = Mycelia.initialize_transition_probabilities(filtered_simple_kmer_graph)"
   ]
  },
  {
   "cell_type": "code",
   "execution_count": 77,
   "metadata": {},
   "outputs": [
    {
     "data": {
      "text/plain": [
       "90-element Vector{Float64}:\n",
       " 0.011507479861910242\n",
       " 0.011507479861910242\n",
       " 0.011507479861910242\n",
       " 0.011507479861910242\n",
       " 0.010356731875719217\n",
       " 0.011507479861910242\n",
       " 0.011507479861910242\n",
       " 0.010356731875719217\n",
       " 0.011507479861910242\n",
       " 0.010356731875719217\n",
       " 0.011507479861910242\n",
       " 0.010356731875719217\n",
       " 0.011507479861910242\n",
       " ⋮\n",
       " 0.011507479861910242\n",
       " 0.010356731875719217\n",
       " 0.011507479861910242\n",
       " 0.011507479861910242\n",
       " 0.010356731875719217\n",
       " 0.011507479861910242\n",
       " 0.010356731875719217\n",
       " 0.011507479861910242\n",
       " 0.011507479861910242\n",
       " 0.010356731875719217\n",
       " 0.011507479861910242\n",
       " 0.010356731875719217"
      ]
     },
     "execution_count": 77,
     "metadata": {},
     "output_type": "execute_result"
    }
   ],
   "source": [
    "state_likelihoods = [Float64(filtered_simple_kmer_graph.vprops[v][:weight]) for v in LightGraphs.vertices(filtered_simple_kmer_graph)]\n",
    "state_likelihoods ./= sum(state_likelihoods)"
   ]
  },
  {
   "cell_type": "code",
   "execution_count": 95,
   "metadata": {},
   "outputs": [
    {
     "data": {
      "text/plain": [
       "100nt DNA Sequence:\n",
       "AGGTGTTAAGAGAAGAATACGTTTCAACAAAGAGGTAGA…TGTCGGGGACCATAAGCAGTGCACCTAGACCGCACCCTT"
      ]
     },
     "execution_count": 95,
     "metadata": {},
     "output_type": "execute_result"
    }
   ],
   "source": [
    "Mycelia.oriented_path_to_sequence(filtered_simple_kmer_graph, updated_path)"
   ]
  },
  {
   "cell_type": "code",
   "execution_count": null,
   "metadata": {},
   "outputs": [],
   "source": [
    "output_fastq_file = Mycelia.polish_fastq(simple_kmer_graph, fastq_file)"
   ]
  },
  {
   "cell_type": "code",
   "execution_count": null,
   "metadata": {},
   "outputs": [],
   "source": [
    "simple_kmer_graph = Mycelia.fastx_to_simple_kmer_graph(kmer_type, output_fastq_file)"
   ]
  },
  {
   "cell_type": "code",
   "execution_count": null,
   "metadata": {},
   "outputs": [],
   "source": [
    "# visualize\n",
    "gfa_file = output_fastq_file * \".k-$k.gfa\"\n",
    "Mycelia.graph_to_gfa(simple_kmer_graph, gfa_file)"
   ]
  },
  {
   "cell_type": "code",
   "execution_count": null,
   "metadata": {},
   "outputs": [],
   "source": [
    "run(`/Applications/Bandage.app/Contents/MacOS/Bandage image $(gfa_file) $(gfa_file).svg --depwidth 1 --deppower 1`)\n",
    "# --nodewidth <float> Average node width (0.5 to 1000, default: 5)\n",
    "# --depwidth <float>  Depth effect on width (0 to 1, default: 0.5)\n",
    "# --deppower <float>  Power of depth effect on width (0 to 1, default: 0.5)"
   ]
  },
  {
   "cell_type": "code",
   "execution_count": null,
   "metadata": {},
   "outputs": [],
   "source": [
    "html_path_to_svg = \"./\" * repeat(\"../\", length(split(pwd(), '/')) - 3)\n",
    "html_path_to_svg *= replace(\"$(gfa_file).svg\", \"$(homedir())/\" => \"\")"
   ]
  },
  {
   "cell_type": "code",
   "execution_count": null,
   "metadata": {},
   "outputs": [],
   "source": [
    "x = display(\"text/html\", \"<img src=$(html_path_to_svg)>\")"
   ]
  }
 ],
 "metadata": {
  "kernelspec": {
   "display_name": "Julia 1.6.1",
   "language": "julia",
   "name": "julia-1.6"
  },
  "language_info": {
   "file_extension": ".jl",
   "mimetype": "application/julia",
   "name": "julia",
   "version": "1.6.1"
  }
 },
 "nbformat": 4,
 "nbformat_minor": 4
}
