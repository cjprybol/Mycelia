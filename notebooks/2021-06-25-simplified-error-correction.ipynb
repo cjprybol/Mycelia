{
 "cells": [
  {
   "cell_type": "code",
   "execution_count": 1,
   "metadata": {},
   "outputs": [
    {
     "data": {
      "text/plain": [
       "\"/Users/cameronprybol/2021-06-25-simplified-error-correction\""
      ]
     },
     "execution_count": 1,
     "metadata": {},
     "output_type": "execute_result"
    }
   ],
   "source": [
    "DATE = \"2021-06-25\"\n",
    "TASK = \"simplified-error-correction\"\n",
    "DIR = \"$(DATE)-$(TASK)\"\n",
    "DIR = mkpath(\"$(homedir())/$(DIR)\")"
   ]
  },
  {
   "cell_type": "code",
   "execution_count": 42,
   "metadata": {},
   "outputs": [],
   "source": [
    "pkgs = [\n",
    "\"Graphs\",\n",
    "\"MetaGraphs\",\n",
    "\"BioSequences\",\n",
    "\"uCSV\",\n",
    "\"DataFrames\",\n",
    "\"FASTX\",\n",
    "\"Random\",\n",
    "\"ProgressMeter\",\n",
    "\"Revise\",\n",
    "\"StatsBase\",\n",
    "\"BioAlignments\",\n",
    "\"Statistics\"\n",
    "]\n",
    "\n",
    "import Pkg\n",
    "Pkg.add(pkgs)\n",
    "for pkg in pkgs\n",
    "    eval(Meta.parse(\"import $(basename(pkg))\"))\n",
    "end\n",
    "\n",
    "import Mycelia"
   ]
  },
  {
   "cell_type": "code",
   "execution_count": 3,
   "metadata": {},
   "outputs": [
    {
     "data": {
      "text/plain": [
       "MersenneTwister(0)"
      ]
     },
     "execution_count": 3,
     "metadata": {},
     "output_type": "execute_result"
    }
   ],
   "source": [
    "# set a random seed\n",
    "seed = Random.seed!(0)"
   ]
  },
  {
   "cell_type": "code",
   "execution_count": 4,
   "metadata": {},
   "outputs": [
    {
     "data": {
      "text/plain": [
       "100nt DNA Sequence:\n",
       "AAGGGTGCGGTCTAGGTGCACTGCTTATGGTCCCCGACA…TCTACCTCTTTGTTGAAACGTATTCTTCTCTTAACACCT"
      ]
     },
     "execution_count": 4,
     "metadata": {},
     "output_type": "execute_result"
    }
   ],
   "source": [
    "# randomly generate a dna sequence of 100bp\n",
    "genome = BioSequences.randdnaseq(seed, 100)"
   ]
  },
  {
   "cell_type": "code",
   "execution_count": 5,
   "metadata": {},
   "outputs": [
    {
     "data": {
      "text/plain": [
       "0.01"
      ]
     },
     "execution_count": 5,
     "metadata": {},
     "output_type": "execute_result"
    }
   ],
   "source": [
    "# define error rate\n",
    "error_rate = 0.01"
   ]
  },
  {
   "cell_type": "code",
   "execution_count": 6,
   "metadata": {},
   "outputs": [],
   "source": [
    "# generate 100x coverage fastq file\n",
    "# put accuracy rate into fastq file\n",
    "coverage = 10\n",
    "fastq_file = \"$(DIR)/$(DATE)-$(TASK).fastq\"\n",
    "open(fastq_file, \"w\") do io\n",
    "    fastq_writer = FASTX.FASTQ.Writer(io)\n",
    "    for i in 1:coverage\n",
    "        observed_sequence = Mycelia.observe(genome, error_rate=error_rate)\n",
    "        q = -10 * log10(error_rate)\n",
    "        quality_scores = fill(q, length(observed_sequence))\n",
    "        fastq_record = FASTX.FASTQ.Record(\"i\", observed_sequence, quality_scores)\n",
    "        write(fastq_writer, fastq_record)\n",
    "    end\n",
    "end"
   ]
  },
  {
   "cell_type": "code",
   "execution_count": 7,
   "metadata": {},
   "outputs": [
    {
     "data": {
      "text/plain": [
       "11"
      ]
     },
     "execution_count": 7,
     "metadata": {},
     "output_type": "execute_result"
    }
   ],
   "source": [
    "k = 11"
   ]
  },
  {
   "cell_type": "code",
   "execution_count": 8,
   "metadata": {},
   "outputs": [
    {
     "data": {
      "text/plain": [
       "BioSequences.BigDNAMer{11} (alias for BioSequences.BigMer{BioSequences.DNAAlphabet{2}, 11})"
      ]
     },
     "execution_count": 8,
     "metadata": {},
     "output_type": "execute_result"
    }
   ],
   "source": [
    "kmer_type = BioSequences.BigDNAMer{k}"
   ]
  },
  {
   "cell_type": "code",
   "execution_count": 9,
   "metadata": {},
   "outputs": [
    {
     "name": "stderr",
     "output_type": "stream",
     "text": [
      "┌ Info: creating graph\n",
      "└ @ Mycelia /Users/cameronprybol/.julia/dev/Mycelia/src/Mycelia.jl:2957\n"
     ]
    },
    {
     "data": {
      "text/plain": [
       "{120, 240} directed Int64 metagraph with Float64 weights defined by :weight (default weight 1.0)"
      ]
     },
     "execution_count": 9,
     "metadata": {},
     "output_type": "execute_result"
    }
   ],
   "source": [
    "simple_kmer_graph = Mycelia.fastx_to_simple_kmer_graph(kmer_type, fastq_file)"
   ]
  },
  {
   "cell_type": "code",
   "execution_count": 10,
   "metadata": {},
   "outputs": [
    {
     "data": {
      "text/plain": [
       "\"/Users/cameronprybol/2021-06-25-simplified-error-correction/2021-06-25-simplified-error-correction.fastq.k-11.gfa\""
      ]
     },
     "execution_count": 10,
     "metadata": {},
     "output_type": "execute_result"
    }
   ],
   "source": [
    "# visualize\n",
    "gfa_file = fastq_file * \".k-$k.gfa\"\n",
    "Mycelia.graph_to_gfa(simple_kmer_graph, gfa_file)"
   ]
  },
  {
   "cell_type": "code",
   "execution_count": 11,
   "metadata": {},
   "outputs": [
    {
     "data": {
      "text/plain": [
       "Process(`\u001b[4m/Applications/Bandage.app/Contents/MacOS/Bandage\u001b[24m \u001b[4mimage\u001b[24m \u001b[4m/Users/cameronprybol/2021-06-25-simplified-error-correction/2021-06-25-simplified-error-correction.fastq.k-11.gfa\u001b[24m \u001b[4m/Users/cameronprybol/2021-06-25-simplified-error-correction/2021-06-25-simplified-error-correction.fastq.k-11.gfa.svg\u001b[24m \u001b[4m--depwidth\u001b[24m \u001b[4m1\u001b[24m \u001b[4m--deppower\u001b[24m \u001b[4m1\u001b[24m`, ProcessExited(0))"
      ]
     },
     "execution_count": 11,
     "metadata": {},
     "output_type": "execute_result"
    }
   ],
   "source": [
    "run(`/Applications/Bandage.app/Contents/MacOS/Bandage image $(gfa_file) $(gfa_file).svg --depwidth 1 --deppower 1`)\n",
    "# --nodewidth <float> Average node width (0.5 to 1000, default: 5)\n",
    "# --depwidth <float>  Depth effect on width (0 to 1, default: 0.5)\n",
    "# --deppower <float>  Power of depth effect on width (0 to 1, default: 0.5)"
   ]
  },
  {
   "cell_type": "code",
   "execution_count": 12,
   "metadata": {},
   "outputs": [
    {
     "data": {
      "text/plain": [
       "\"./../../../../2021-06-25-simplified-error-correction/2021-06-25-simplified-error-correction.fastq.k-11.gfa.svg\""
      ]
     },
     "execution_count": 12,
     "metadata": {},
     "output_type": "execute_result"
    }
   ],
   "source": [
    "html_path_to_svg = \"./\" * repeat(\"../\", length(split(pwd(), '/')) - 3)\n",
    "html_path_to_svg *= replace(\"$(gfa_file).svg\", \"$(homedir())/\" => \"\")"
   ]
  },
  {
   "cell_type": "code",
   "execution_count": 13,
   "metadata": {},
   "outputs": [
    {
     "data": {
      "text/html": [
       "<img src=./../../../../2021-06-25-simplified-error-correction/2021-06-25-simplified-error-correction.fastq.k-11.gfa.svg>"
      ]
     },
     "metadata": {},
     "output_type": "display_data"
    }
   ],
   "source": [
    "x = display(\"text/html\", \"<img src=$(html_path_to_svg)>\")"
   ]
  },
  {
   "cell_type": "code",
   "execution_count": 43,
   "metadata": {},
   "outputs": [
    {
     "name": "stdout",
     "output_type": "stream",
     "text": [
      "alignment_result = BioAlignments.PairwiseAlignmentResult{Int64, BioSequences.LongDNASeq, BioSequences.LongDNASeq}:\n",
      "  distance: 8\n",
      "  seq:  0 --------GTCTAGGTGCACTGCTTATGGTCCCCGACAGGACCGTGCGGTGATTATCTGA 52\n",
      "                  ||||||||||||||||||||||||||||||||||||||||||||||||||||\n",
      "  ref:  1 AAGGGTGCGTCTAGGTGCACTGCTTATGGTCCCCGACAGGACCGTGCGGTGATTATCTGA 60\n",
      "\n",
      "  seq: 53 TCTACCTCTTTGTTGAAACGTATTCTTCTCTTAACACCT 91\n",
      "          |||||||||||||||||||||||||||||||||||||||\n",
      "  ref: 61 TCTACCTCTTTGTTGAAACGTATTCTTCTCTTAACACCT 99\n",
      "\n",
      "alignment_result = BioAlignments.PairwiseAlignmentResult{Int64, BioSequences.LongDNASeq, BioSequences.LongDNASeq}:\n",
      "  distance: 1\n",
      "  seq: 1 A 1\n",
      "          \n",
      "  ref: 1 G 1\n",
      "\n",
      "alignment_result = BioAlignments.PairwiseAlignmentResult{Int64, BioSequences.LongDNASeq, BioSequences.LongDNASeq}:\n",
      "  distance: 1\n",
      "  seq:   1 AGGTGTTAAGAGAAGAATACGTTTCAACAAAGAGGTAGATCAGATAATCACCGCACGGTC  60\n",
      "           |||||||||||||||||||||||||||||||||||||||||||||||||||||| |||||\n",
      "  ref:   1 AGGTGTTAAGAGAAGAATACGTTTCAACAAAGAGGTAGATCAGATAATCACCGCGCGGTC  60\n",
      "\n",
      "  seq:  61 CTGTCGGGGACCATAAGCAGTGCACCTAGACCGCACCCTT 100\n",
      "           ||||||||||||||||||||||||||||||||||||||||\n",
      "  ref:  61 CTGTCGGGGACCATAAGCAGTGCACCTAGACCGCACCCTT 100\n",
      "\n",
      "alignment_result = BioAlignments.PairwiseAlignmentResult{Int64, BioSequences.LongDNASeq, BioSequences.LongDNASeq}:\n",
      "  distance: 11\n",
      "  seq:   0 -----------GAAGAATACGTTTCAACAAAGAGGTAGATCAGATAATCACCGCACGGTC  49\n",
      "                      |||||||||||||||||||||||||||||||||||||||||||||||||\n",
      "  ref:   1 AGGTGTTAAGTGAAGAATACGTTTCAACAAAGAGGTAGATCAGATAATCACCGCACGGTC  60\n",
      "\n",
      "  seq:  50 CTGTCGGGGACCATAAGCAGTGCACCTAGACCGCACCCTT  89\n",
      "           ||||||||||||||||||||||||||||||||||||||||\n",
      "  ref:  61 CTGTCGGGGACCATAAGCAGTGCACCTAGACCGCACCCTT 100\n",
      "\n"
     ]
    }
   ],
   "source": [
    "min_depth = 3\n",
    "solid_vertices = filter(v -> simple_kmer_graph.vprops[v][:weight] >= min_depth, Graphs.vertices(simple_kmer_graph))\n",
    "filtered_simple_kmer_graph, vertex_map = Graphs.induced_subgraph(simple_kmer_graph, solid_vertices)\n",
    "kmers = [filtered_simple_kmer_graph.vprops[v][:kmer] for v in Graphs.vertices(filtered_simple_kmer_graph)]\n",
    "k = filtered_simple_kmer_graph.gprops[:k]\n",
    "\n",
    "polished_fastq_file = replace(fastq_file, \".fastq\" => \".k$k.d$(min_depth).fastq\")\n",
    "\n",
    "transition_probabilities = Mycelia.initialize_transition_probabilities(filtered_simple_kmer_graph)\n",
    "state_likelihoods = [Float64(filtered_simple_kmer_graph.vprops[v][:weight]) for v in Graphs.vertices(filtered_simple_kmer_graph)]\n",
    "state_likelihoods ./= sum(state_likelihoods)\n",
    "\n",
    "fastq_reader = FASTX.FASTQ.Reader(open(fastq_file))\n",
    "\n",
    "\n",
    "fastq_writer = FASTX.FASTQ.Writer(open(polished_fastq_file, \"w\"))\n",
    "\n",
    "for fastx_record in fastq_reader\n",
    "    bubble_start = 0\n",
    "    updated_path = Vector{Pair{Int, Bool}}()\n",
    "#     @show FASTX.sequence(fastx_record)\n",
    "    for (i, kmer) in enumerate(BioSequences.each(kmer_type, FASTX.sequence(fastx_record)))\n",
    "        canonical_kmer = min(kmer.fw, kmer.bw)\n",
    "        orientation = canonical_kmer == kmer.fw\n",
    "        kmer_index_range = searchsorted(kmers, canonical_kmer)\n",
    "        kmer_is_solid = !isempty(kmer_index_range)\n",
    "#         @show kmer_is_solid\n",
    "        if kmer_is_solid\n",
    "            kmer_index = first(kmer_index_range)\n",
    "        else\n",
    "            kmer_index = 0\n",
    "        end\n",
    "\n",
    "        in_bubble = bubble_start > 0\n",
    "\n",
    "        if !kmer_is_solid\n",
    "            if !in_bubble\n",
    "#                 @show \"starting a bubble\"\n",
    "                bubble_start = i\n",
    "            else\n",
    "#                 @show \"continuing in a bubble\"\n",
    "            end\n",
    "        else\n",
    "            if !in_bubble\n",
    "#                 @show \"pushing solid kmer to updated path\"\n",
    "                push!(updated_path, kmer_index => orientation)\n",
    "            else\n",
    "                if bubble_start == 1\n",
    "#                     @show \"ending an opening bubble\"\n",
    "                    # we're in a bubble that began at the beginning of the read\n",
    "                    # we'll do nothing and just remove this\n",
    "                    # equivalent to tip clipping\n",
    "#                     @show \"pushing solid kmer to updated path\"\n",
    "                    push!(updated_path, kmer_index => orientation)\n",
    "                    bubble_start = 0\n",
    "                else\n",
    "#                     @show \"found end of an anchored bubble -- correcting\"\n",
    "                    source_vertex, source_orientation = last(updated_path)\n",
    "                    destination_vertex, destination_orientation = kmer_index, orientation                \n",
    "\n",
    "                    shortest_paths = Graphs.yen_k_shortest_paths(\n",
    "                        filtered_simple_kmer_graph,\n",
    "                        source_vertex,\n",
    "                        destination_vertex,\n",
    "                        Graphs.weights(filtered_simple_kmer_graph),\n",
    "                        3).paths\n",
    "\n",
    "                    if isempty(shortest_paths)\n",
    "                        error(\"no valid alternate paths found\")\n",
    "                    end\n",
    "                    candidate_path_probabilities = ones(length(shortest_paths))\n",
    "                    oriented_candidate_paths = [\n",
    "                        [last(updated_path)] for i in 1:length(shortest_paths)\n",
    "                    ]\n",
    "\n",
    "                    for (i, candidate_path) in enumerate(shortest_paths)\n",
    "                        for dest_vertex in candidate_path[2:end]\n",
    "                            source_vertex, source_orientation = last(oriented_candidate_paths[i])\n",
    "                            candidate_path_probabilities[i] *= transition_probabilities[source_orientation][source_vertex, dest_vertex]\n",
    "                            candidate_path_probabilities[i] *= state_likelihoods[dest_vertex]\n",
    "                            if candidate_path_probabilities[i] > 0\n",
    "                                edge = Graphs.Edge(source_vertex, dest_vertex)\n",
    "                                destination_orientation = \n",
    "                                first(\n",
    "                                    filter(o -> o.source_orientation == source_orientation,\n",
    "                                        filtered_simple_kmer_graph.eprops[edge][:orientations])).destination_orientation\n",
    "                                push!(oriented_candidate_paths[i], (dest_vertex => destination_orientation))\n",
    "                            else\n",
    "                                break # this path is no good, evaluate the next\n",
    "                            end\n",
    "                        end\n",
    "                    end\n",
    "                    non_zero_indices = findall(p -> p > 0, candidate_path_probabilities)\n",
    "                    if isempty(non_zero_indices)\n",
    "                        error(\"no valid alternate path probabilities\")\n",
    "                    end\n",
    "                    \n",
    "                    candidate_path_probabilities = candidate_path_probabilities[non_zero_indices]\n",
    "                    oriented_candidate_paths = oriented_candidate_paths[non_zero_indices]\n",
    "\n",
    "                    # offset is for debugging\n",
    "                    # make sure that anchors on both sides are the same\n",
    "                    offset = 0\n",
    "                    observed_sequence = FASTX.sequence(fastx_record)[bubble_start+k-1-offset:i-1+offset]                    \n",
    "                    for (i, oriented_candidate_path) in enumerate(oriented_candidate_paths)\n",
    "                        candidate_sequence = Mycelia.oriented_path_to_sequence(\n",
    "                            filtered_simple_kmer_graph, \n",
    "                            oriented_candidate_path)\n",
    "                        candidate_sequence = candidate_sequence[k+1-offset:end-k+offset]\n",
    "                        alignment_result = BioAlignments.pairalign(\n",
    "                            BioAlignments.LevenshteinDistance(),\n",
    "                            candidate_sequence,\n",
    "                            observed_sequence)\n",
    "                        @show alignment_result\n",
    "#                         @show alignment_result\n",
    "                        average_error_rate = Statistics.mean(Mycelia.q_value_to_error_rate.(FASTX.quality(fastx_record)))\n",
    "                        for error in 1:alignment_result.value\n",
    "                            candidate_path_probabilities[i] *= average_error_rate\n",
    "                        end\n",
    "                        for match in 1:BioAlignments.count_matches(alignment_result.aln)\n",
    "                            candidate_path_probabilities[i] *= (1 - average_error_rate)\n",
    "                        end\n",
    "                    end\n",
    "                    \n",
    "                    chosen_replacement = StatsBase.sample(oriented_candidate_paths, StatsBase.weights(candidate_path_probabilities))\n",
    "                    \n",
    "                    for i in 2:length(chosen_replacement)\n",
    "                        oriented_state = chosen_replacement[i]\n",
    "                        push!(updated_path, oriented_state)\n",
    "                    end\n",
    "                    bubble_start = 0\n",
    "                end\n",
    "            end\n",
    "        end\n",
    "    end\n",
    "#     @show updated_path\n",
    "    sequence = Mycelia.oriented_path_to_sequence(filtered_simple_kmer_graph, updated_path)\n",
    "    alignment_result = BioAlignments.pairalign(\n",
    "        BioAlignments.LevenshteinDistance(),\n",
    "        sequence,\n",
    "        FASTX.sequence(fastx_record))\n",
    "    if alignment_result.value > 0\n",
    "        @show alignment_result\n",
    "    end\n",
    "    quality = StatsBase.sample(FASTX.quality(fastx_record), length(sequence), replace=true, ordered=true)\n",
    "    description =  join(filter(!isempty, (FASTX.description(fastx_record), \"k$k.d$(min_depth)\")), '.')\n",
    "    identifier = FASTX.identifier(fastx_record)\n",
    "    new_record = FASTX.FASTQ.Record(identifier, description, sequence, quality)\n",
    "    write(fastq_writer, new_record)\n",
    "end\n",
    "close(fastq_reader)\n",
    "close(fastq_writer)"
   ]
  },
  {
   "cell_type": "code",
   "execution_count": 45,
   "metadata": {},
   "outputs": [
    {
     "name": "stderr",
     "output_type": "stream",
     "text": [
      "┌ Info: creating graph\n",
      "└ @ Mycelia /Users/cameronprybol/.julia/dev/Mycelia/src/Mycelia.jl:2957\n"
     ]
    },
    {
     "data": {
      "text/plain": [
       "{90, 178} directed Int64 metagraph with Float64 weights defined by :weight (default weight 1.0)"
      ]
     },
     "execution_count": 45,
     "metadata": {},
     "output_type": "execute_result"
    }
   ],
   "source": [
    "simple_kmer_graph = Mycelia.fastx_to_simple_kmer_graph(kmer_type, polished_fastq_file)"
   ]
  },
  {
   "cell_type": "code",
   "execution_count": 46,
   "metadata": {},
   "outputs": [
    {
     "data": {
      "text/plain": [
       "\"/Users/cameronprybol/2021-06-25-simplified-error-correction/2021-06-25-simplified-error-correction.k11.d3.fastq.k-11.gfa\""
      ]
     },
     "execution_count": 46,
     "metadata": {},
     "output_type": "execute_result"
    }
   ],
   "source": [
    "# visualize\n",
    "gfa_file = polished_fastq_file * \".k-$k.gfa\"\n",
    "Mycelia.graph_to_gfa(simple_kmer_graph, gfa_file)"
   ]
  },
  {
   "cell_type": "code",
   "execution_count": 47,
   "metadata": {},
   "outputs": [
    {
     "data": {
      "text/plain": [
       "Process(`\u001b[4m/Applications/Bandage.app/Contents/MacOS/Bandage\u001b[24m \u001b[4mimage\u001b[24m \u001b[4m/Users/cameronprybol/2021-06-25-simplified-error-correction/2021-06-25-simplified-error-correction.k11.d3.fastq.k-11.gfa\u001b[24m \u001b[4m/Users/cameronprybol/2021-06-25-simplified-error-correction/2021-06-25-simplified-error-correction.k11.d3.fastq.k-11.gfa.svg\u001b[24m \u001b[4m--depwidth\u001b[24m \u001b[4m1\u001b[24m \u001b[4m--deppower\u001b[24m \u001b[4m1\u001b[24m`, ProcessExited(0))"
      ]
     },
     "execution_count": 47,
     "metadata": {},
     "output_type": "execute_result"
    }
   ],
   "source": [
    "run(`/Applications/Bandage.app/Contents/MacOS/Bandage image $(gfa_file) $(gfa_file).svg --depwidth 1 --deppower 1`)\n",
    "# --nodewidth <float> Average node width (0.5 to 1000, default: 5)\n",
    "# --depwidth <float>  Depth effect on width (0 to 1, default: 0.5)\n",
    "# --deppower <float>  Power of depth effect on width (0 to 1, default: 0.5)"
   ]
  },
  {
   "cell_type": "code",
   "execution_count": 48,
   "metadata": {},
   "outputs": [
    {
     "data": {
      "text/plain": [
       "\"./../../../../2021-06-25-simplified-error-correction/2021-06-25-simplified-error-correction.k11.d3.fastq.k-11.gfa.svg\""
      ]
     },
     "execution_count": 48,
     "metadata": {},
     "output_type": "execute_result"
    }
   ],
   "source": [
    "html_path_to_svg = \"./\" * repeat(\"../\", length(split(pwd(), '/')) - 3)\n",
    "html_path_to_svg *= replace(\"$(gfa_file).svg\", \"$(homedir())/\" => \"\")"
   ]
  },
  {
   "cell_type": "code",
   "execution_count": 49,
   "metadata": {},
   "outputs": [
    {
     "data": {
      "text/html": [
       "<img src=./../../../../2021-06-25-simplified-error-correction/2021-06-25-simplified-error-correction.k11.d3.fastq.k-11.gfa.svg>"
      ]
     },
     "metadata": {},
     "output_type": "display_data"
    }
   ],
   "source": [
    "x = display(\"text/html\", \"<img src=$(html_path_to_svg)>\")"
   ]
  }
 ],
 "metadata": {
  "kernelspec": {
   "display_name": "Julia 1.6.1",
   "language": "julia",
   "name": "julia-1.6"
  },
  "language_info": {
   "file_extension": ".jl",
   "mimetype": "application/julia",
   "name": "julia",
   "version": "1.6.1"
  }
 },
 "nbformat": 4,
 "nbformat_minor": 4
}
