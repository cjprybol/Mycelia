{
 "cells": [
  {
   "cell_type": "code",
   "execution_count": 1,
   "metadata": {},
   "outputs": [
    {
     "data": {
      "text/plain": [
       "\"/Users/cameronprybol/2021-06-26-1000bp-100x-coverage-0.01-error-rate\""
      ]
     },
     "execution_count": 1,
     "metadata": {},
     "output_type": "execute_result"
    }
   ],
   "source": [
    "DATE = \"2021-06-26\"\n",
    "TASK = \"1000bp-100x-coverage-0.01-error-rate\"\n",
    "DIR = \"$(DATE)-$(TASK)\"\n",
    "DIR = mkpath(\"$(homedir())/$(DIR)\")"
   ]
  },
  {
   "cell_type": "code",
   "execution_count": 2,
   "metadata": {},
   "outputs": [],
   "source": [
    "pkgs = [\n",
    "\"LightGraphs\",\n",
    "\"MetaGraphs\",\n",
    "\"BioSequences\",\n",
    "\"Random\",\n",
    "\"ProgressMeter\",\n",
    "\"Revise\",\n",
    "\"FASTX\"\n",
    "]\n",
    "\n",
    "import Pkg\n",
    "Pkg.add(pkgs)\n",
    "for pkg in pkgs\n",
    "    eval(Meta.parse(\"import $(basename(pkg))\"))\n",
    "end\n",
    "\n",
    "import Mycelia"
   ]
  },
  {
   "cell_type": "code",
   "execution_count": 3,
   "metadata": {},
   "outputs": [
    {
     "data": {
      "text/plain": [
       "MersenneTwister(0)"
      ]
     },
     "execution_count": 3,
     "metadata": {},
     "output_type": "execute_result"
    }
   ],
   "source": [
    "# set a random seed\n",
    "seed = Random.seed!(0)"
   ]
  },
  {
   "cell_type": "code",
   "execution_count": 4,
   "metadata": {},
   "outputs": [
    {
     "data": {
      "text/plain": [
       "1000nt DNA Sequence:\n",
       "AGCATTGCGTAGTGAAGTTTACGGACATTCAACCGATCG…CGCCCGCACCAACCGAACAAGCCCCGATGTCACCTTAGT"
      ]
     },
     "execution_count": 4,
     "metadata": {},
     "output_type": "execute_result"
    }
   ],
   "source": [
    "# randomly generate a dna sequence of 100bp\n",
    "genome = BioSequences.randdnaseq(seed, 1000)"
   ]
  },
  {
   "cell_type": "code",
   "execution_count": 5,
   "metadata": {},
   "outputs": [
    {
     "data": {
      "text/plain": [
       "0.01"
      ]
     },
     "execution_count": 5,
     "metadata": {},
     "output_type": "execute_result"
    }
   ],
   "source": [
    "# define error rate\n",
    "error_rate = 0.01"
   ]
  },
  {
   "cell_type": "code",
   "execution_count": 6,
   "metadata": {},
   "outputs": [],
   "source": [
    "# generate 100x coverage fastq file\n",
    "# put accuracy rate into fastq file\n",
    "coverage = 100\n",
    "fastq_file = \"$(DIR)/$(DATE)-$(TASK).fastq\"\n",
    "error_free_fastq_file = \"$(DIR)/$(DATE)-$(TASK).error-free.fastq\"\n",
    "\n",
    "fastq_io = FASTX.FASTQ.Writer(open(fastq_file, \"w\"))\n",
    "error_free_fastq_io = FASTX.FASTQ.Writer(open(error_free_fastq_file, \"w\"))\n",
    "for i in 1:coverage\n",
    "    true_sequence = Mycelia.observe(genome, error_rate=0.0)\n",
    "    quality_scores = fill(60, length(true_sequence))\n",
    "    error_free_fastq_record = FASTX.FASTQ.Record(\"$i\", true_sequence, quality_scores)\n",
    "    write(error_free_fastq_io, error_free_fastq_record)\n",
    "    \n",
    "    observed_sequence = Mycelia.observe(genome, error_rate=error_rate)\n",
    "    q = -10 * log10(error_rate)\n",
    "    quality_scores = fill(q, length(observed_sequence))\n",
    "    fastq_record = FASTX.FASTQ.Record(\"$i\", observed_sequence, quality_scores)\n",
    "    write(fastq_io, fastq_record)\n",
    "end\n",
    "close(fastq_io)\n",
    "close(error_free_fastq_io)"
   ]
  },
  {
   "cell_type": "code",
   "execution_count": 7,
   "metadata": {},
   "outputs": [
    {
     "data": {
      "text/plain": [
       "13"
      ]
     },
     "execution_count": 7,
     "metadata": {},
     "output_type": "execute_result"
    }
   ],
   "source": [
    "k = 13"
   ]
  },
  {
   "cell_type": "code",
   "execution_count": 8,
   "metadata": {},
   "outputs": [
    {
     "data": {
      "text/plain": [
       "BioSequences.BigDNAMer{13} (alias for BioSequences.BigMer{BioSequences.DNAAlphabet{2}, 13})"
      ]
     },
     "execution_count": 8,
     "metadata": {},
     "output_type": "execute_result"
    }
   ],
   "source": [
    "kmer_type = BioSequences.BigDNAMer{k}"
   ]
  },
  {
   "cell_type": "code",
   "execution_count": 9,
   "metadata": {},
   "outputs": [
    {
     "data": {
      "text/plain": [
       "visualize_gfa_file (generic function with 1 method)"
      ]
     },
     "execution_count": 9,
     "metadata": {},
     "output_type": "execute_result"
    }
   ],
   "source": [
    "function visualize_gfa_file(gfa_file)\n",
    "    run(`/Applications/Bandage.app/Contents/MacOS/Bandage image $(gfa_file) $(gfa_file).svg --depwidth 1 --deppower 1`)\n",
    "    # --nodewidth <float> Average node width (0.5 to 1000, default: 5)\n",
    "    # --depwidth <float>  Depth effect on width (0 to 1, default: 0.5)\n",
    "    # --deppower <float>  Power of depth effect on width (0 to 1, default: 0.5)\n",
    "    html_path_to_svg = \"./\" * repeat(\"../\", length(split(pwd(), '/')) - 3)\n",
    "    html_path_to_svg *= replace(\"$(gfa_file).svg\", \"$(homedir())/\" => \"\")\n",
    "    x = display(\"text/html\", \"<img src=$(html_path_to_svg)>\")\n",
    "end"
   ]
  },
  {
   "cell_type": "code",
   "execution_count": 10,
   "metadata": {},
   "outputs": [
    {
     "name": "stderr",
     "output_type": "stream",
     "text": [
      "┌ Info: creating graph\n",
      "└ @ Mycelia /Users/cameronprybol/.julia/dev/Mycelia/src/Mycelia.jl:2958\n"
     ]
    },
    {
     "data": {
      "text/html": [
       "<img src=./../../../../2021-06-26-1000bp-100x-coverage-0.01-error-rate/2021-06-26-1000bp-100x-coverage-0.01-error-rate.error-free.fastq.k-13.gfa.svg>"
      ]
     },
     "metadata": {},
     "output_type": "display_data"
    }
   ],
   "source": [
    "error_free_simple_kmer_graph = Mycelia.fastx_to_simple_kmer_graph(kmer_type, error_free_fastq_file)\n",
    "# visualize\n",
    "gfa_file = error_free_fastq_file * \".k-$k.gfa\"\n",
    "Mycelia.graph_to_gfa(error_free_simple_kmer_graph, gfa_file)\n",
    "visualize_gfa_file(gfa_file)"
   ]
  },
  {
   "cell_type": "code",
   "execution_count": 11,
   "metadata": {},
   "outputs": [
    {
     "name": "stderr",
     "output_type": "stream",
     "text": [
      "┌ Info: creating graph\n",
      "└ @ Mycelia /Users/cameronprybol/.julia/dev/Mycelia/src/Mycelia.jl:2958\n"
     ]
    },
    {
     "data": {
      "text/html": [
       "<img src=./../../../../2021-06-26-1000bp-100x-coverage-0.01-error-rate/2021-06-26-1000bp-100x-coverage-0.01-error-rate.fastq.k-13.gfa.svg>"
      ]
     },
     "metadata": {},
     "output_type": "display_data"
    }
   ],
   "source": [
    "simple_kmer_graph = Mycelia.fastx_to_simple_kmer_graph(kmer_type, fastq_file)\n",
    "gfa_file = fastq_file * \".k-$k.gfa\"\n",
    "Mycelia.graph_to_gfa(simple_kmer_graph, gfa_file)\n",
    "visualize_gfa_file(gfa_file)"
   ]
  },
  {
   "cell_type": "code",
   "execution_count": 13,
   "metadata": {},
   "outputs": [
    {
     "name": "stdout",
     "output_type": "stream",
     "text": [
      " 22.524870 seconds (57.39 M allocations: 17.002 GiB, 17.43% gc time)\n"
     ]
    },
    {
     "data": {
      "text/plain": [
       "\"/Users/cameronprybol/2021-06-26-1000bp-100x-coverage-0.01-error-rate/2021-06-26-1000bp-100x-coverage-0.01-error-rate.k13.d7.fastq\""
      ]
     },
     "execution_count": 13,
     "metadata": {},
     "output_type": "execute_result"
    }
   ],
   "source": [
    "@time polished_fastq_file = Mycelia.simple_polish_fastq(simple_kmer_graph, fastq_file, min_depth=7)"
   ]
  },
  {
   "cell_type": "code",
   "execution_count": 14,
   "metadata": {},
   "outputs": [
    {
     "name": "stderr",
     "output_type": "stream",
     "text": [
      "┌ Info: creating graph\n",
      "└ @ Mycelia /Users/cameronprybol/.julia/dev/Mycelia/src/Mycelia.jl:2958\n"
     ]
    },
    {
     "data": {
      "text/html": [
       "<img src=./../../../../2021-06-26-1000bp-100x-coverage-0.01-error-rate/2021-06-26-1000bp-100x-coverage-0.01-error-rate.k13.d7.fastq.k-13.gfa.svg>"
      ]
     },
     "metadata": {},
     "output_type": "display_data"
    }
   ],
   "source": [
    "polished_simple_kmer_graph = Mycelia.fastx_to_simple_kmer_graph(kmer_type, polished_fastq_file)\n",
    "gfa_file = polished_fastq_file * \".k-$k.gfa\"\n",
    "Mycelia.graph_to_gfa(polished_simple_kmer_graph, gfa_file)\n",
    "visualize_gfa_file(gfa_file)"
   ]
  },
  {
   "cell_type": "code",
   "execution_count": 15,
   "metadata": {},
   "outputs": [
    {
     "data": {
      "text/plain": [
       "(kmer_distance = 0.9096065873741994, edge_distance = 0.9157418473621308)"
      ]
     },
     "execution_count": 15,
     "metadata": {},
     "output_type": "execute_result"
    }
   ],
   "source": [
    "Mycelia.kmer_graph_distances(error_free_simple_kmer_graph, simple_kmer_graph)"
   ]
  },
  {
   "cell_type": "code",
   "execution_count": 16,
   "metadata": {},
   "outputs": [
    {
     "data": {
      "text/plain": [
       "(kmer_distance = 0.0, edge_distance = 0.0)"
      ]
     },
     "execution_count": 16,
     "metadata": {},
     "output_type": "execute_result"
    }
   ],
   "source": [
    "Mycelia.kmer_graph_distances(error_free_simple_kmer_graph, polished_simple_kmer_graph)"
   ]
  }
 ],
 "metadata": {
  "kernelspec": {
   "display_name": "Julia 1.6.1",
   "language": "julia",
   "name": "julia-1.6"
  },
  "language_info": {
   "file_extension": ".jl",
   "mimetype": "application/julia",
   "name": "julia",
   "version": "1.6.1"
  }
 },
 "nbformat": 4,
 "nbformat_minor": 4
}
