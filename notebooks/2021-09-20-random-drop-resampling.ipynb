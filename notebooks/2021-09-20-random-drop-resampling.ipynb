{
 "cells": [
  {
   "cell_type": "code",
   "execution_count": 1,
   "id": "6ac73c46-51c9-4fea-845f-fb17ce8d83a2",
   "metadata": {},
   "outputs": [
    {
     "data": {
      "text/plain": [
       "\"/home/jovyan/2021-09-20-random-drop-resampling\""
      ]
     },
     "execution_count": 1,
     "metadata": {},
     "output_type": "execute_result"
    }
   ],
   "source": [
    "DATE = \"2021-09-20\"\n",
    "TASK = \"random-drop-resampling\"\n",
    "DIR = mkpath(\"$(homedir())/$(DATE)-$(TASK)\")"
   ]
  },
  {
   "cell_type": "code",
   "execution_count": 2,
   "id": "38cb383f-3696-4b4b-a732-9a2059e0681a",
   "metadata": {},
   "outputs": [],
   "source": [
    "import Pkg\n",
    "pkgs = [\n",
    "    \"BioAlignments\",\n",
    "    \"BioSequences\",\n",
    "    \"Clustering\",\n",
    "    \"CodecZlib\",\n",
    "#     \"Colors\",\n",
    "#     \"Combinatorics\",\n",
    "    \"DataFrames\",\n",
    "    \"DataStructures\",\n",
    "    \"Dates\",\n",
    "#     \"DelimitedFiles\",\n",
    "    \"Distances\",\n",
    "#     \"Distributions\",\n",
    "#     \"EzXML\",\n",
    "    \"FASTX\",\n",
    "#     \"GFF3\",\n",
    "    \"GLM\",\n",
    "    \"GraphPlot\",\n",
    "#     \"HTTP\",\n",
    "#     \"Impute\",\n",
    "#     \"JSON\",\n",
    "    \"LightGraphs\",\n",
    "    \"LsqFit\",\n",
    "#     \"LSHFunctions\",\n",
    "#     \"Measures\",\n",
    "    \"MetaGraphs\",\n",
    "    \"https://github.com/cjprybol/Mycelia.git\",\n",
    "#     \"NumericIO\",\n",
    "    \"OnlineStats\",\n",
    "#     \"PlotlyJS\",\n",
    "#     \"Plots\",\n",
    "    \"Primes\",\n",
    "#     \"Printf\",\n",
    "    \"ProgressMeter\",\n",
    "    \"Random\",\n",
    "    \"Revise\",\n",
    "    \"SparseArrays\",\n",
    "    \"Statistics\",\n",
    "    \"StatsBase\",\n",
    "    \"StatsPlots\",\n",
    "#     \"StringDistances\",\n",
    "    \"uCSV\",\n",
    "#     \"XLSX\",\n",
    "]\n",
    "\n",
    "unregistered_packages = filter(pkg -> occursin(r\"(^https|git$)\", pkg), pkgs)\n",
    "registered_packages = setdiff(pkgs, unregistered_packages)\n",
    "\n",
    "for pkg in registered_packages\n",
    "    try\n",
    "        eval(Meta.parse(\"import $(pkg)\"))\n",
    "    catch\n",
    "        Pkg.add(pkg)\n",
    "        Pkg.build(pkg)\n",
    "        eval(Meta.parse(\"import $(pkg)\"))\n",
    "    end\n",
    "end\n",
    "\n",
    "for pkg_url in unregistered_packages\n",
    "    pkg_name = replace(basename(pkg_url), \".git\" => \"\")\n",
    "    try\n",
    "        eval(Meta.parse(\"import $(pkg_name)\"))\n",
    "    catch\n",
    "        Pkg.develop(url=pkg_url)\n",
    "        Pkg.build(pkg_name)\n",
    "        eval(Meta.parse(\"import $(pkg_name)\"))\n",
    "    end\n",
    "end"
   ]
  },
  {
   "cell_type": "code",
   "execution_count": 3,
   "id": "ea19d6bc-8d84-4d8a-8e0c-bd00614d6dfb",
   "metadata": {},
   "outputs": [
    {
     "data": {
      "text/plain": [
       "kmer_index_and_orientation_to_kmer (generic function with 1 method)"
      ]
     },
     "execution_count": 3,
     "metadata": {},
     "output_type": "execute_result"
    }
   ],
   "source": [
    "function kmer_index_and_orientation_to_kmer(graph, kmer_index, orientation)\n",
    "    kmer = graph.vprops[kmer_index][:kmer]\n",
    "    if !orientation\n",
    "        kmer = BioSequences.reverse_complement(kmer)\n",
    "    end\n",
    "    return kmer\n",
    "end"
   ]
  },
  {
   "cell_type": "code",
   "execution_count": 4,
   "id": "ab79def6-1e00-4b75-b86f-e16c4aefb35c",
   "metadata": {},
   "outputs": [
    {
     "data": {
      "text/plain": [
       "determine_edge_probabilities (generic function with 1 method)"
      ]
     },
     "execution_count": 4,
     "metadata": {},
     "output_type": "execute_result"
    }
   ],
   "source": [
    "function determine_edge_probabilities(graph)\n",
    "    nv = LightGraphs.nv(graph)\n",
    "    edge_probabilities = SparseArrays.spzeros(nv, nv)\n",
    "    for v in 1:nv\n",
    "        neighbors = LightGraphs.neighbors(graph, v)\n",
    "        @assert issorted(neighbors)\n",
    "        likelihoods = zeros(length(neighbors))\n",
    "        for (i, neighbor) in enumerate(neighbors)\n",
    "            if v <= neighbor\n",
    "                edge = LightGraphs.Edge(v, neighbor)\n",
    "            else\n",
    "                edge = LightGraphs.Edge(neighbor, v)\n",
    "            end\n",
    "            @assert LightGraphs.has_edge(graph, edge)\n",
    "            likelihoods[i] = graph.eprops[edge][:count]     \n",
    "        end\n",
    "        likelihoods = likelihoods ./ sum(likelihoods)\n",
    "#         @show likelihoods\n",
    "#         @show neighbors\n",
    "        for (neighbor, likelihood) in zip(neighbors, likelihoods)\n",
    "            edge_probabilities[v, neighbor] = likelihood\n",
    "        end\n",
    "    end\n",
    "    \n",
    "    for source in 1:size(edge_probabilities, 1)\n",
    "        destinations = findall(edge_probabilities[source, :] .> 0)\n",
    "        destination_counts = [graph.vprops[dest][:count] for dest in destinations]\n",
    "        destination_likelihoods = destination_counts ./ sum(destination_counts)\n",
    "        for (dest, likelihood) in zip(destinations, destination_likelihoods)\n",
    "            edge_probabilities[source, dest] *= likelihood\n",
    "        end\n",
    "        edge_probabilities[source, :] ./= sum(edge_probabilities[source, :])\n",
    "        @assert abs(1-sum(edge_probabilities[source, :])) <= eps(Float64)\n",
    "    end\n",
    "    \n",
    "    return edge_probabilities\n",
    "end"
   ]
  },
  {
   "cell_type": "code",
   "execution_count": 5,
   "id": "a5e1ffd6-44f8-4dee-b381-f0ca479cf91d",
   "metadata": {},
   "outputs": [
    {
     "data": {
      "text/plain": [
       "orient_path (generic function with 1 method)"
      ]
     },
     "execution_count": 5,
     "metadata": {},
     "output_type": "execute_result"
    }
   ],
   "source": [
    "function orient_path(graph, kmers, path, opening_orientation, opening_kmer, closing_orientation)\n",
    "    vertices = path\n",
    "    path_orientations = [opening_orientation]\n",
    "    path_kmers = [opening_kmer]\n",
    "    @show opening_orientation\n",
    "    for (i, vertex) in enumerate(vertices[2:end])\n",
    "        @show i, vertex, last(path_orientations)\n",
    "        viable_neighbors = typeof(opening_kmer)[]\n",
    "        viable_neighbor = nothing\n",
    "        viable_orientations = Bool[]\n",
    "        viable_orientation = nothing\n",
    "        for neighbor in BioSequences.neighbors(last(path_kmers))\n",
    "            @show \"considering going from $(last(path_kmers)) to $(neighbor)\"\n",
    "#             @show \"considering going from $(last(path_kmers)) to $(neighbor)\"\n",
    "            canonical_neighbor = BioSequences.canonical(neighbor)\n",
    "            canonical_neighbor_index_range = searchsorted(kmers, canonical_neighbor)\n",
    "#             @show canonical_neighbor_index_range\n",
    "            if length(canonical_neighbor_index_range) == 1\n",
    "                @show canonical_neighbor_index = first(canonical_neighbor_index_range)\n",
    "                if canonical_neighbor_index == vertex\n",
    "                    @show \"hit, selecting $neighbor\"\n",
    "                    viable_neighbor = neighbor\n",
    "                    viable_orientation = neighbor == canonical_neighbor\n",
    "                end\n",
    "            end\n",
    "        end\n",
    "        if (viable_neighbor != nothing) && (viable_orientation != nothing)\n",
    "            push!(path_kmers, viable_neighbor)\n",
    "            push!(path_orientations, viable_orientation)\n",
    "        else\n",
    "            return nothing\n",
    "            # not a viable path, need to look towards the next miss\n",
    "        end\n",
    "    end\n",
    "    return vertices, path_orientations, path_kmers\n",
    "end"
   ]
  },
  {
   "cell_type": "code",
   "execution_count": 114,
   "id": "8b96ea5a-e81b-445a-abb9-ab3c28e494e3",
   "metadata": {},
   "outputs": [
    {
     "data": {
      "text/plain": [
       "take_a_walk (generic function with 2 methods)"
      ]
     },
     "execution_count": 114,
     "metadata": {},
     "output_type": "execute_result"
    }
   ],
   "source": [
    "# function take_a_walk(graph, edge_likelihoods, kmers, kmer, walk_length)\n",
    "function take_a_walk(graph, kmers, kmer, walk_length)\n",
    "    walk = [kmer]\n",
    "    current_kmer_indices = searchsorted(kmers, BioSequences.canonical(last(walk)))\n",
    "    @assert length(current_kmer_indices) == 1\n",
    "    current_kmer_index = first(current_kmer_indices)\n",
    "    while length(walk) < walk_length\n",
    "        viable_neighbors = Tuple{Int, Bool}[]\n",
    "        for neighbor in BioSequences.neighbors(kmer)\n",
    "            canonical_neighbor = BioSequences.canonical(neighbor)\n",
    "            neighbor_is_canonical = neighbor == canonical_neighbor\n",
    "            neighbor_vertex_range = searchsorted(kmers, canonical_neighbor)\n",
    "            if !isempty(neighbor_vertex_range)\n",
    "                neighbor_vertex = first(neighbor_vertex_range)\n",
    "                if LightGraphs.has_edge(graph, current_kmer_index, neighbor_vertex)\n",
    "                    push!(viable_neighbors, (neighbor_vertex, neighbor_is_canonical))\n",
    "                end\n",
    "            end\n",
    "        end\n",
    "        if isempty(viable_neighbors)\n",
    "            return walk\n",
    "        elseif length(viable_neighbors) == 1\n",
    "            chosen_neighbor = first(viable_neighbors)\n",
    "        else\n",
    "            viable_neighbor_indices = first.(viable_neighbors)\n",
    "            \n",
    "            step_likelihoods = StatsBase.weights([graph.vprops[v][:count] for v in viable_neighbor_indices])\n",
    "#             step_likelihoods = StatsBase.weights(edge_likelihoods[current_kmer_index, viable_neighbor_indices])\n",
    "            chosen_neighbor = StatsBase.sample(viable_neighbors, step_likelihoods)\n",
    "        end\n",
    "        kmer = kmer_index_and_orientation_to_kmer(graph, chosen_neighbor...)\n",
    "        push!(walk, kmer)\n",
    "        current_kmer_indices = searchsorted(kmers, BioSequences.canonical(last(walk)))\n",
    "        @assert length(current_kmer_indices) == 1\n",
    "        current_kmer_index = first(current_kmer_indices)\n",
    "    end\n",
    "    return walk\n",
    "end"
   ]
  },
  {
   "cell_type": "code",
   "execution_count": 7,
   "id": "2904784d-e5ae-4755-8007-72481227fa40",
   "metadata": {},
   "outputs": [
    {
     "data": {
      "text/plain": [
       "sort_fastq"
      ]
     },
     "execution_count": 7,
     "metadata": {},
     "output_type": "execute_result"
    }
   ],
   "source": [
    "\"\"\"\n",
    "    sort_fastq(input_fastq, output_fastq)\n",
    "\n",
    "This turns a 4-line FASTQ entry into a single tab separated line,\n",
    "adds a column with the length of each read, passes it to Unix sort,\n",
    "removes the length column, and converts it back into a FASTQ file.\n",
    "\n",
    "sorts longest to shortest!!\n",
    "\n",
    "http://thegenomefactory.blogspot.com/2012/11/sorting-fastq-files-by-sequence-length.html\n",
    "\"\"\"\n",
    "function sort_fastq(input_fastq, output_fastq=\"\")\n",
    "    \n",
    "    if endswith(input_fastq, \".gz\")\n",
    "        p = pipeline(\n",
    "                `gzip -dc $input_fastq`,\n",
    "                `paste - - - -`,\n",
    "                `perl -ne '@x=split m/\\t/; unshift @x, length($x[1]); print join \"\\t\",@x;'`,\n",
    "                `sort -nr`,\n",
    "                `cut -f2-`,\n",
    "                `tr \"\\t\" \"\\n\"`,\n",
    "                `gzip`\n",
    "                )\n",
    "    else\n",
    "        p = pipeline(\n",
    "                `cat $input_fastq`,\n",
    "                `paste - - - -`,\n",
    "                `perl -ne '@x=split m/\\t/; unshift @x, length($x[1]); print join \"\\t\",@x;'`,\n",
    "                `sort -nr`,\n",
    "                `cut -f2-`,\n",
    "                `tr \"\\t\" \"\\n\"`\n",
    "                )\n",
    "    end\n",
    "    run(pipeline(p, output_fastq))\n",
    "    return output_fastq\n",
    "end"
   ]
  },
  {
   "cell_type": "code",
   "execution_count": 8,
   "id": "3c64bb5f-0012-42f8-83a8-231f5aadcde3",
   "metadata": {},
   "outputs": [
    {
     "data": {
      "text/plain": [
       "count_reads (generic function with 1 method)"
      ]
     },
     "execution_count": 8,
     "metadata": {},
     "output_type": "execute_result"
    }
   ],
   "source": [
    "function count_reads(fastq_file)\n",
    "    @info \"determing # of reads in fastq file\"\n",
    "    n_reads = 0\n",
    "    for record in Mycelia.open_fastx(fastq_file)\n",
    "        n_reads += 1\n",
    "    end\n",
    "    @show n_reads\n",
    "    return n_reads\n",
    "end"
   ]
  },
  {
   "cell_type": "code",
   "execution_count": 9,
   "id": "37345f79-0ed2-44cc-ad7d-c5bea554af04",
   "metadata": {},
   "outputs": [
    {
     "data": {
      "text/plain": [
       "determine_read_lengths (generic function with 1 method)"
      ]
     },
     "execution_count": 9,
     "metadata": {},
     "output_type": "execute_result"
    }
   ],
   "source": [
    "function determine_read_lengths(fastq_file; total_reads = Inf)\n",
    "    if total_reads == Inf\n",
    "        total_reads = count_reads(fastq_file)\n",
    "    end\n",
    "    read_lengths = zeros(Int, total_reads)\n",
    "    @info \"determining read lengths\"\n",
    "    p = ProgressMeter.Progress(total_reads, 1)\n",
    "    for (i, record) in enumerate(Mycelia.open_fastx(fastq_file))\n",
    "#         push!(read_lengths, length(FASTX.sequence(record)))\n",
    "        read_lengths[i] = length(FASTX.sequence(record))\n",
    "        ProgressMeter.next!(p)\n",
    "    end\n",
    "    return read_lengths\n",
    "end"
   ]
  },
  {
   "cell_type": "code",
   "execution_count": 10,
   "id": "67f8f745-914f-4c94-a5be-86c39628e2bc",
   "metadata": {},
   "outputs": [
    {
     "data": {
      "text/plain": [
       "max_canonical_kmers (generic function with 1 method)"
      ]
     },
     "execution_count": 10,
     "metadata": {},
     "output_type": "execute_result"
    }
   ],
   "source": [
    "function max_canonical_kmers(kmer_type)\n",
    "    k_size = last(kmer_type.parameters)\n",
    "    # we only consider canonical kmers so cut in 1/2\n",
    "    max_canonical_kmers = Int(4^k_size / 2)\n",
    "    return max_canonical_kmers\n",
    "end"
   ]
  },
  {
   "cell_type": "code",
   "execution_count": 11,
   "id": "0e116b34-4490-4846-97c5-04e473d47f5e",
   "metadata": {},
   "outputs": [
    {
     "data": {
      "text/plain": [
       "assess_kmer_saturation (generic function with 1 method)"
      ]
     },
     "execution_count": 11,
     "metadata": {},
     "output_type": "execute_result"
    }
   ],
   "source": [
    "function assess_kmer_saturation(fastq_file, kmer_type; kmers_to_assess=Inf, power=10)\n",
    "    canonical_kmers = Set{kmer_type}()\n",
    "    \n",
    "    max_possible_kmers = max_canonical_kmers(kmer_type)\n",
    "    \n",
    "    if kmers_to_assess == Inf\n",
    "        kmers_to_assess = max_possible_kmers\n",
    "    end\n",
    "    \n",
    "    sampling_points = Int[0]\n",
    "    i = 0\n",
    "    while power^i <= kmers_to_assess\n",
    "        push!(sampling_points, power^i)\n",
    "        i += 1\n",
    "    end\n",
    "    \n",
    "    unique_kmer_counts = zeros(Int, length(sampling_points))\n",
    "    \n",
    "    if length(sampling_points) < 3\n",
    "        @info \"increase the # of reads analyzed or decrease the power to acquire more data points\"\n",
    "        return (;sampling_points, unique_kmer_counts)\n",
    "    end\n",
    "    \n",
    "    p = ProgressMeter.Progress(kmers_to_assess, 1)\n",
    "    \n",
    "    kmers_assessed = 0\n",
    "    for record in Mycelia.open_fastx(fastq_file)\n",
    "        for kmer in BioSequences.each(kmer_type, FASTX.sequence(record))\n",
    "            unique_kmers_count = length(canonical_kmers)\n",
    "            if (kmers_assessed == kmers_to_assess) || (unique_kmers_count == max_possible_kmers)\n",
    "                sampling_points = vcat(filter(s -> s < kmers_assessed, sampling_points), [kmers_assessed])\n",
    "                unique_kmer_counts = vcat(unique_kmer_counts[1:length(sampling_points)-1], [unique_kmers_count])\n",
    "                return (\n",
    "                    sampling_points = sampling_points,\n",
    "                    unique_kmer_counts = unique_kmer_counts,\n",
    "                    read_entire_file = false)\n",
    "            elseif rem(log(power, kmers_assessed), 1) == 0.0\n",
    "                i = findfirst(sampling_points .== kmers_assessed)\n",
    "                unique_kmer_counts[i] = unique_kmers_count\n",
    "                percent_saturation = round(unique_kmers_count/max_possible_kmers, sigdigits=5) * 100\n",
    "            end\n",
    "            canonical_kmer = kmer.fw < kmer.bw ? kmer.fw : kmer.bw\n",
    "            push!(canonical_kmers, canonical_kmer)\n",
    "            kmers_assessed += 1\n",
    "            ProgressMeter.next!(p)\n",
    "        end\n",
    "    end\n",
    "    sampling_points = vcat(filter(s -> s < kmers_assessed, sampling_points), [kmers_assessed])\n",
    "    unique_kmer_counts = vcat(unique_kmer_counts[1:length(sampling_points)-1], [length(canonical_kmers)])\n",
    "    return (\n",
    "        sampling_points = sampling_points,\n",
    "        unique_kmer_counts = unique_kmer_counts,\n",
    "        read_entire_file = true)\n",
    "end"
   ]
  },
  {
   "cell_type": "code",
   "execution_count": 12,
   "id": "e4dfd6a1-19bf-440c-bc8b-40cb126c3e53",
   "metadata": {},
   "outputs": [
    {
     "data": {
      "text/plain": [
       "add_edge_to_graph (generic function with 1 method)"
      ]
     },
     "execution_count": 12,
     "metadata": {},
     "output_type": "execute_result"
    }
   ],
   "source": [
    "function add_edge_to_graph(graph, edge_mer, kmers)\n",
    "    edge = BioSequences.LongDNASeq(edge_mer.fw)\n",
    "#     canonical_src = BioSequences.DNAMer{k}(BioSequences.canonical!(edge[1:end-1]))\n",
    "#     canonical_dst = BioSequences.DNAMer{k}(BioSequences.canonical!(edge[2:end]))\n",
    "\n",
    "    canonical_src = BioSequences.canonical(BioSequences.DNAMer{k}(edge[1:end-1]))\n",
    "    \n",
    "    src_index_range = searchsorted(kmers, canonical_src)\n",
    "    if isempty(src_index_range)\n",
    "        return\n",
    "    else\n",
    "        @assert length(src_index_range) == 1\n",
    "    end\n",
    "    src_index = first(src_index_range)\n",
    "\n",
    "    canonical_dst = BioSequences.canonical(BioSequences.DNAMer{k}(edge[2:end]))\n",
    "    dst_index_range = searchsorted(kmers, canonical_dst)\n",
    "    if isempty(dst_index_range)\n",
    "        return\n",
    "    else\n",
    "        @assert length(dst_index_range) == 1\n",
    "    end\n",
    "    dst_index = first(dst_index_range)\n",
    "    graph_edge = LightGraphs.Edge(src_index, dst_index)\n",
    "    LightGraphs.add_edge!(graph, graph_edge)\n",
    "end"
   ]
  },
  {
   "cell_type": "code",
   "execution_count": 13,
   "id": "33baf966-db08-4635-85ec-6abce8051b18",
   "metadata": {},
   "outputs": [
    {
     "data": {
      "text/plain": [
       "calculate_v (generic function with 1 method)"
      ]
     },
     "execution_count": 13,
     "metadata": {},
     "output_type": "execute_result"
    }
   ],
   "source": [
    "# Michaelis–Menten\n",
    "function calculate_v(s,p)\n",
    "    vmax = p[1]\n",
    "    km = p[2]\n",
    "    v = (vmax .* s) ./ (km .+ s)\n",
    "    return v\n",
    "end"
   ]
  },
  {
   "cell_type": "code",
   "execution_count": null,
   "id": "b8d05dd2-004d-4f51-9686-57462fa97f57",
   "metadata": {},
   "outputs": [],
   "source": [
    "# read in reads from pacbio run"
   ]
  },
  {
   "cell_type": "code",
   "execution_count": 134,
   "id": "c6d75091-3110-4d84-aefb-c2b0810c3452",
   "metadata": {},
   "outputs": [
    {
     "data": {
      "text/plain": [
       "\"/home/jovyan/2021-09-20-random-drop-resampling/reads.fastq\""
      ]
     },
     "execution_count": 134,
     "metadata": {},
     "output_type": "execute_result"
    }
   ],
   "source": [
    "# fastq_directory = \"$(homedir())/pacbio-test-data\"\n",
    "# fastq_file = first(readdir(fastq_directory, join=true))\n",
    "# fastq_file = \"$(homedir())/pacbio-test-data/b002225.subreads.fastq.gz\"\n",
    "fastq_file = \"$(DIR)/reads.fastq\""
   ]
  },
  {
   "cell_type": "code",
   "execution_count": 135,
   "id": "118a0ea7-4d59-4808-82c5-cd5f5a6e52b0",
   "metadata": {},
   "outputs": [],
   "source": [
    "# sort fastq file from shortest to longest reads"
   ]
  },
  {
   "cell_type": "code",
   "execution_count": 145,
   "id": "834133f6-9bcc-45ef-96c4-6f6abf6cf484",
   "metadata": {},
   "outputs": [],
   "source": [
    "L = 100\n",
    "C = 10\n",
    "genome = BioSequences.randdnaseq(Random.seed!(L*C), L)\n",
    "open(fastq_file, \"w+\") do io\n",
    "    fastx_io = FASTX.FASTQ.Writer(io)\n",
    "    for i in 1:C\n",
    "        observation = Mycelia.observe(genome, error_rate = .1)\n",
    "#         @show observation\n",
    "        record = FASTX.FASTQ.Record(\n",
    "            Random.randstring(64),\n",
    "            string(hash(observation)),\n",
    "            observation,\n",
    "            fill(UInt8(20), length(observation))\n",
    "            )\n",
    "#         @show record\n",
    "        write(fastx_io, record)\n",
    "    end\n",
    "    close(fastx_io)\n",
    "end"
   ]
  },
  {
   "cell_type": "code",
   "execution_count": 146,
   "id": "cfc2bfc8-642d-4663-ab14-9b2943bd2392",
   "metadata": {},
   "outputs": [
    {
     "data": {
      "text/plain": [
       "2"
      ]
     },
     "execution_count": 146,
     "metadata": {},
     "output_type": "execute_result"
    }
   ],
   "source": [
    "power = 2"
   ]
  },
  {
   "cell_type": "code",
   "execution_count": 147,
   "id": "9b6e29f2-117a-49a4-9df6-c7df45e299e7",
   "metadata": {},
   "outputs": [
    {
     "data": {
      "image/svg+xml": [
       "<?xml version=\"1.0\" encoding=\"utf-8\"?>\n",
       "<svg xmlns=\"http://www.w3.org/2000/svg\" xmlns:xlink=\"http://www.w3.org/1999/xlink\" width=\"800\" height=\"400\" viewBox=\"0 0 3200 1600\">\n",
       "<defs>\n",
       "  <clipPath id=\"clip000\">\n",
       "    <rect x=\"0\" y=\"0\" width=\"3200\" height=\"1600\"/>\n",
       "  </clipPath>\n",
       "</defs>\n",
       "<path clip-path=\"url(#clip000)\" d=\"\n",
       "M0 1600 L3200 1600 L3200 0 L0 0  Z\n",
       "  \" fill=\"#ffffff\" fill-rule=\"evenodd\" fill-opacity=\"1\"/>\n",
       "<defs>\n",
       "  <clipPath id=\"clip001\">\n",
       "    <rect x=\"640\" y=\"0\" width=\"2241\" height=\"1600\"/>\n",
       "  </clipPath>\n",
       "</defs>\n",
       "<path clip-path=\"url(#clip000)\" d=\"\n",
       "M200.084 1443.7 L2200.54 1443.7 L2200.54 108.352 L200.084 108.352  Z\n",
       "  \" fill=\"#ffffff\" fill-rule=\"evenodd\" fill-opacity=\"1\"/>\n",
       "<defs>\n",
       "  <clipPath id=\"clip002\">\n",
       "    <rect x=\"200\" y=\"108\" width=\"2001\" height=\"1336\"/>\n",
       "  </clipPath>\n",
       "</defs>\n",
       "<polyline clip-path=\"url(#clip002)\" style=\"stroke:#000000; stroke-linecap:butt; stroke-linejoin:round; stroke-width:2; stroke-opacity:0.1; fill:none\" points=\"\n",
       "  256.7,1443.7 256.7,108.352 \n",
       "  \"/>\n",
       "<polyline clip-path=\"url(#clip002)\" style=\"stroke:#000000; stroke-linecap:butt; stroke-linejoin:round; stroke-width:2; stroke-opacity:0.1; fill:none\" points=\"\n",
       "  550.661,1443.7 550.661,108.352 \n",
       "  \"/>\n",
       "<polyline clip-path=\"url(#clip002)\" style=\"stroke:#000000; stroke-linecap:butt; stroke-linejoin:round; stroke-width:2; stroke-opacity:0.1; fill:none\" points=\"\n",
       "  844.622,1443.7 844.622,108.352 \n",
       "  \"/>\n",
       "<polyline clip-path=\"url(#clip002)\" style=\"stroke:#000000; stroke-linecap:butt; stroke-linejoin:round; stroke-width:2; stroke-opacity:0.1; fill:none\" points=\"\n",
       "  1138.58,1443.7 1138.58,108.352 \n",
       "  \"/>\n",
       "<polyline clip-path=\"url(#clip002)\" style=\"stroke:#000000; stroke-linecap:butt; stroke-linejoin:round; stroke-width:2; stroke-opacity:0.1; fill:none\" points=\"\n",
       "  1432.54,1443.7 1432.54,108.352 \n",
       "  \"/>\n",
       "<polyline clip-path=\"url(#clip002)\" style=\"stroke:#000000; stroke-linecap:butt; stroke-linejoin:round; stroke-width:2; stroke-opacity:0.1; fill:none\" points=\"\n",
       "  1726.5,1443.7 1726.5,108.352 \n",
       "  \"/>\n",
       "<polyline clip-path=\"url(#clip002)\" style=\"stroke:#000000; stroke-linecap:butt; stroke-linejoin:round; stroke-width:2; stroke-opacity:0.1; fill:none\" points=\"\n",
       "  2020.46,1443.7 2020.46,108.352 \n",
       "  \"/>\n",
       "<polyline clip-path=\"url(#clip000)\" style=\"stroke:#000000; stroke-linecap:butt; stroke-linejoin:round; stroke-width:4; stroke-opacity:1; fill:none\" points=\"\n",
       "  200.084,1443.7 2200.54,1443.7 \n",
       "  \"/>\n",
       "<polyline clip-path=\"url(#clip000)\" style=\"stroke:#000000; stroke-linecap:butt; stroke-linejoin:round; stroke-width:4; stroke-opacity:1; fill:none\" points=\"\n",
       "  256.7,1443.7 256.7,1424.8 \n",
       "  \"/>\n",
       "<polyline clip-path=\"url(#clip000)\" style=\"stroke:#000000; stroke-linecap:butt; stroke-linejoin:round; stroke-width:4; stroke-opacity:1; fill:none\" points=\"\n",
       "  550.661,1443.7 550.661,1424.8 \n",
       "  \"/>\n",
       "<polyline clip-path=\"url(#clip000)\" style=\"stroke:#000000; stroke-linecap:butt; stroke-linejoin:round; stroke-width:4; stroke-opacity:1; fill:none\" points=\"\n",
       "  844.622,1443.7 844.622,1424.8 \n",
       "  \"/>\n",
       "<polyline clip-path=\"url(#clip000)\" style=\"stroke:#000000; stroke-linecap:butt; stroke-linejoin:round; stroke-width:4; stroke-opacity:1; fill:none\" points=\"\n",
       "  1138.58,1443.7 1138.58,1424.8 \n",
       "  \"/>\n",
       "<polyline clip-path=\"url(#clip000)\" style=\"stroke:#000000; stroke-linecap:butt; stroke-linejoin:round; stroke-width:4; stroke-opacity:1; fill:none\" points=\"\n",
       "  1432.54,1443.7 1432.54,1424.8 \n",
       "  \"/>\n",
       "<polyline clip-path=\"url(#clip000)\" style=\"stroke:#000000; stroke-linecap:butt; stroke-linejoin:round; stroke-width:4; stroke-opacity:1; fill:none\" points=\"\n",
       "  1726.5,1443.7 1726.5,1424.8 \n",
       "  \"/>\n",
       "<polyline clip-path=\"url(#clip000)\" style=\"stroke:#000000; stroke-linecap:butt; stroke-linejoin:round; stroke-width:4; stroke-opacity:1; fill:none\" points=\"\n",
       "  2020.46,1443.7 2020.46,1424.8 \n",
       "  \"/>\n",
       "<path clip-path=\"url(#clip000)\" d=\"M256.7 1479.29 Q253.089 1479.29 251.261 1482.86 Q249.455 1486.4 249.455 1493.53 Q249.455 1500.63 251.261 1504.2 Q253.089 1507.74 256.7 1507.74 Q260.335 1507.74 262.14 1504.2 Q263.969 1500.63 263.969 1493.53 Q263.969 1486.4 262.14 1482.86 Q260.335 1479.29 256.7 1479.29 M256.7 1475.59 Q262.511 1475.59 265.566 1480.19 Q268.645 1484.78 268.645 1493.53 Q268.645 1502.25 265.566 1506.86 Q262.511 1511.44 256.7 1511.44 Q250.89 1511.44 247.812 1506.86 Q244.756 1502.25 244.756 1493.53 Q244.756 1484.78 247.812 1480.19 Q250.89 1475.59 256.7 1475.59 Z\" fill=\"#000000\" fill-rule=\"evenodd\" fill-opacity=\"1\" /><path clip-path=\"url(#clip000)\" d=\"M510.268 1506.84 L517.906 1506.84 L517.906 1480.47 L509.596 1482.14 L509.596 1477.88 L517.86 1476.21 L522.536 1476.21 L522.536 1506.84 L530.175 1506.84 L530.175 1510.77 L510.268 1510.77 L510.268 1506.84 Z\" fill=\"#000000\" fill-rule=\"evenodd\" fill-opacity=\"1\" /><path clip-path=\"url(#clip000)\" d=\"M549.619 1479.29 Q546.008 1479.29 544.179 1482.86 Q542.374 1486.4 542.374 1493.53 Q542.374 1500.63 544.179 1504.2 Q546.008 1507.74 549.619 1507.74 Q553.254 1507.74 555.059 1504.2 Q556.888 1500.63 556.888 1493.53 Q556.888 1486.4 555.059 1482.86 Q553.254 1479.29 549.619 1479.29 M549.619 1475.59 Q555.429 1475.59 558.485 1480.19 Q561.564 1484.78 561.564 1493.53 Q561.564 1502.25 558.485 1506.86 Q555.429 1511.44 549.619 1511.44 Q543.809 1511.44 540.73 1506.86 Q537.675 1502.25 537.675 1493.53 Q537.675 1484.78 540.73 1480.19 Q543.809 1475.59 549.619 1475.59 Z\" fill=\"#000000\" fill-rule=\"evenodd\" fill-opacity=\"1\" /><path clip-path=\"url(#clip000)\" d=\"M579.781 1479.29 Q576.17 1479.29 574.341 1482.86 Q572.536 1486.4 572.536 1493.53 Q572.536 1500.63 574.341 1504.2 Q576.17 1507.74 579.781 1507.74 Q583.415 1507.74 585.221 1504.2 Q587.05 1500.63 587.05 1493.53 Q587.05 1486.4 585.221 1482.86 Q583.415 1479.29 579.781 1479.29 M579.781 1475.59 Q585.591 1475.59 588.647 1480.19 Q591.726 1484.78 591.726 1493.53 Q591.726 1502.25 588.647 1506.86 Q585.591 1511.44 579.781 1511.44 Q573.971 1511.44 570.892 1506.86 Q567.837 1502.25 567.837 1493.53 Q567.837 1484.78 570.892 1480.19 Q573.971 1475.59 579.781 1475.59 Z\" fill=\"#000000\" fill-rule=\"evenodd\" fill-opacity=\"1\" /><path clip-path=\"url(#clip000)\" d=\"M808.314 1506.84 L824.633 1506.84 L824.633 1510.77 L802.689 1510.77 L802.689 1506.84 Q805.351 1504.08 809.934 1499.45 Q814.541 1494.8 815.721 1493.46 Q817.967 1490.93 818.846 1489.2 Q819.749 1487.44 819.749 1485.75 Q819.749 1482.99 817.805 1481.26 Q815.883 1479.52 812.781 1479.52 Q810.582 1479.52 808.129 1480.29 Q805.698 1481.05 802.92 1482.6 L802.92 1477.88 Q805.744 1476.74 808.198 1476.17 Q810.652 1475.59 812.689 1475.59 Q818.059 1475.59 821.254 1478.27 Q824.448 1480.96 824.448 1485.45 Q824.448 1487.58 823.638 1489.5 Q822.851 1491.4 820.744 1493.99 Q820.166 1494.66 817.064 1497.88 Q813.962 1501.07 808.314 1506.84 Z\" fill=\"#000000\" fill-rule=\"evenodd\" fill-opacity=\"1\" /><path clip-path=\"url(#clip000)\" d=\"M844.448 1479.29 Q840.837 1479.29 839.008 1482.86 Q837.203 1486.4 837.203 1493.53 Q837.203 1500.63 839.008 1504.2 Q840.837 1507.74 844.448 1507.74 Q848.082 1507.74 849.888 1504.2 Q851.716 1500.63 851.716 1493.53 Q851.716 1486.4 849.888 1482.86 Q848.082 1479.29 844.448 1479.29 M844.448 1475.59 Q850.258 1475.59 853.314 1480.19 Q856.392 1484.78 856.392 1493.53 Q856.392 1502.25 853.314 1506.86 Q850.258 1511.44 844.448 1511.44 Q838.638 1511.44 835.559 1506.86 Q832.504 1502.25 832.504 1493.53 Q832.504 1484.78 835.559 1480.19 Q838.638 1475.59 844.448 1475.59 Z\" fill=\"#000000\" fill-rule=\"evenodd\" fill-opacity=\"1\" /><path clip-path=\"url(#clip000)\" d=\"M874.61 1479.29 Q870.999 1479.29 869.17 1482.86 Q867.364 1486.4 867.364 1493.53 Q867.364 1500.63 869.17 1504.2 Q870.999 1507.74 874.61 1507.74 Q878.244 1507.74 880.05 1504.2 Q881.878 1500.63 881.878 1493.53 Q881.878 1486.4 880.05 1482.86 Q878.244 1479.29 874.61 1479.29 M874.61 1475.59 Q880.42 1475.59 883.475 1480.19 Q886.554 1484.78 886.554 1493.53 Q886.554 1502.25 883.475 1506.86 Q880.42 1511.44 874.61 1511.44 Q868.8 1511.44 865.721 1506.86 Q862.665 1502.25 862.665 1493.53 Q862.665 1484.78 865.721 1480.19 Q868.8 1475.59 874.61 1475.59 Z\" fill=\"#000000\" fill-rule=\"evenodd\" fill-opacity=\"1\" /><path clip-path=\"url(#clip000)\" d=\"M1112.34 1492.14 Q1115.7 1492.86 1117.58 1495.12 Q1119.47 1497.39 1119.47 1500.73 Q1119.47 1505.84 1115.95 1508.64 Q1112.44 1511.44 1105.95 1511.44 Q1103.78 1511.44 1101.46 1511 Q1099.17 1510.59 1096.72 1509.73 L1096.72 1505.22 Q1098.66 1506.35 1100.98 1506.93 Q1103.29 1507.51 1105.82 1507.51 Q1110.21 1507.51 1112.51 1505.77 Q1114.82 1504.04 1114.82 1500.73 Q1114.82 1497.67 1112.67 1495.96 Q1110.54 1494.22 1106.72 1494.22 L1102.69 1494.22 L1102.69 1490.38 L1106.9 1490.38 Q1110.35 1490.38 1112.18 1489.01 Q1114.01 1487.62 1114.01 1485.03 Q1114.01 1482.37 1112.11 1480.96 Q1110.24 1479.52 1106.72 1479.52 Q1104.8 1479.52 1102.6 1479.94 Q1100.4 1480.36 1097.76 1481.23 L1097.76 1477.07 Q1100.42 1476.33 1102.74 1475.96 Q1105.08 1475.59 1107.14 1475.59 Q1112.46 1475.59 1115.56 1478.02 Q1118.66 1480.42 1118.66 1484.55 Q1118.66 1487.42 1117.02 1489.41 Q1115.38 1491.37 1112.34 1492.14 Z\" fill=\"#000000\" fill-rule=\"evenodd\" fill-opacity=\"1\" /><path clip-path=\"url(#clip000)\" d=\"M1138.34 1479.29 Q1134.73 1479.29 1132.9 1482.86 Q1131.09 1486.4 1131.09 1493.53 Q1131.09 1500.63 1132.9 1504.2 Q1134.73 1507.74 1138.34 1507.74 Q1141.97 1507.74 1143.78 1504.2 Q1145.61 1500.63 1145.61 1493.53 Q1145.61 1486.4 1143.78 1482.86 Q1141.97 1479.29 1138.34 1479.29 M1138.34 1475.59 Q1144.15 1475.59 1147.2 1480.19 Q1150.28 1484.78 1150.28 1493.53 Q1150.28 1502.25 1147.2 1506.86 Q1144.15 1511.44 1138.34 1511.44 Q1132.53 1511.44 1129.45 1506.86 Q1126.39 1502.25 1126.39 1493.53 Q1126.39 1484.78 1129.45 1480.19 Q1132.53 1475.59 1138.34 1475.59 Z\" fill=\"#000000\" fill-rule=\"evenodd\" fill-opacity=\"1\" /><path clip-path=\"url(#clip000)\" d=\"M1168.5 1479.29 Q1164.89 1479.29 1163.06 1482.86 Q1161.26 1486.4 1161.26 1493.53 Q1161.26 1500.63 1163.06 1504.2 Q1164.89 1507.74 1168.5 1507.74 Q1172.14 1507.74 1173.94 1504.2 Q1175.77 1500.63 1175.77 1493.53 Q1175.77 1486.4 1173.94 1482.86 Q1172.14 1479.29 1168.5 1479.29 M1168.5 1475.59 Q1174.31 1475.59 1177.37 1480.19 Q1180.45 1484.78 1180.45 1493.53 Q1180.45 1502.25 1177.37 1506.86 Q1174.31 1511.44 1168.5 1511.44 Q1162.69 1511.44 1159.61 1506.86 Q1156.56 1502.25 1156.56 1493.53 Q1156.56 1484.78 1159.61 1480.19 Q1162.69 1475.59 1168.5 1475.59 Z\" fill=\"#000000\" fill-rule=\"evenodd\" fill-opacity=\"1\" /><path clip-path=\"url(#clip000)\" d=\"M1405.63 1480.29 L1393.83 1498.73 L1405.63 1498.73 L1405.63 1480.29 M1404.41 1476.21 L1410.29 1476.21 L1410.29 1498.73 L1415.22 1498.73 L1415.22 1502.62 L1410.29 1502.62 L1410.29 1510.77 L1405.63 1510.77 L1405.63 1502.62 L1390.03 1502.62 L1390.03 1498.11 L1404.41 1476.21 Z\" fill=\"#000000\" fill-rule=\"evenodd\" fill-opacity=\"1\" /><path clip-path=\"url(#clip000)\" d=\"M1432.95 1479.29 Q1429.34 1479.29 1427.51 1482.86 Q1425.7 1486.4 1425.7 1493.53 Q1425.7 1500.63 1427.51 1504.2 Q1429.34 1507.74 1432.95 1507.74 Q1436.58 1507.74 1438.39 1504.2 Q1440.22 1500.63 1440.22 1493.53 Q1440.22 1486.4 1438.39 1482.86 Q1436.58 1479.29 1432.95 1479.29 M1432.95 1475.59 Q1438.76 1475.59 1441.81 1480.19 Q1444.89 1484.78 1444.89 1493.53 Q1444.89 1502.25 1441.81 1506.86 Q1438.76 1511.44 1432.95 1511.44 Q1427.14 1511.44 1424.06 1506.86 Q1421 1502.25 1421 1493.53 Q1421 1484.78 1424.06 1480.19 Q1427.14 1475.59 1432.95 1475.59 Z\" fill=\"#000000\" fill-rule=\"evenodd\" fill-opacity=\"1\" /><path clip-path=\"url(#clip000)\" d=\"M1463.11 1479.29 Q1459.5 1479.29 1457.67 1482.86 Q1455.86 1486.4 1455.86 1493.53 Q1455.86 1500.63 1457.67 1504.2 Q1459.5 1507.74 1463.11 1507.74 Q1466.74 1507.74 1468.55 1504.2 Q1470.38 1500.63 1470.38 1493.53 Q1470.38 1486.4 1468.55 1482.86 Q1466.74 1479.29 1463.11 1479.29 M1463.11 1475.59 Q1468.92 1475.59 1471.98 1480.19 Q1475.05 1484.78 1475.05 1493.53 Q1475.05 1502.25 1471.98 1506.86 Q1468.92 1511.44 1463.11 1511.44 Q1457.3 1511.44 1454.22 1506.86 Q1451.17 1502.25 1451.17 1493.53 Q1451.17 1484.78 1454.22 1480.19 Q1457.3 1475.59 1463.11 1475.59 Z\" fill=\"#000000\" fill-rule=\"evenodd\" fill-opacity=\"1\" /><path clip-path=\"url(#clip000)\" d=\"M1686.12 1476.21 L1704.48 1476.21 L1704.48 1480.15 L1690.4 1480.15 L1690.4 1488.62 Q1691.42 1488.27 1692.44 1488.11 Q1693.46 1487.92 1694.48 1487.92 Q1700.26 1487.92 1703.64 1491.1 Q1707.02 1494.27 1707.02 1499.68 Q1707.02 1505.26 1703.55 1508.36 Q1700.08 1511.44 1693.76 1511.44 Q1691.58 1511.44 1689.32 1511.07 Q1687.07 1510.7 1684.66 1509.96 L1684.66 1505.26 Q1686.75 1506.4 1688.97 1506.95 Q1691.19 1507.51 1693.67 1507.51 Q1697.67 1507.51 1700.01 1505.4 Q1702.35 1503.3 1702.35 1499.68 Q1702.35 1496.07 1700.01 1493.97 Q1697.67 1491.86 1693.67 1491.86 Q1691.79 1491.86 1689.92 1492.28 Q1688.07 1492.69 1686.12 1493.57 L1686.12 1476.21 Z\" fill=\"#000000\" fill-rule=\"evenodd\" fill-opacity=\"1\" /><path clip-path=\"url(#clip000)\" d=\"M1726.24 1479.29 Q1722.63 1479.29 1720.8 1482.86 Q1718.99 1486.4 1718.99 1493.53 Q1718.99 1500.63 1720.8 1504.2 Q1722.63 1507.74 1726.24 1507.74 Q1729.87 1507.74 1731.68 1504.2 Q1733.51 1500.63 1733.51 1493.53 Q1733.51 1486.4 1731.68 1482.86 Q1729.87 1479.29 1726.24 1479.29 M1726.24 1475.59 Q1732.05 1475.59 1735.1 1480.19 Q1738.18 1484.78 1738.18 1493.53 Q1738.18 1502.25 1735.1 1506.86 Q1732.05 1511.44 1726.24 1511.44 Q1720.43 1511.44 1717.35 1506.86 Q1714.29 1502.25 1714.29 1493.53 Q1714.29 1484.78 1717.35 1480.19 Q1720.43 1475.59 1726.24 1475.59 Z\" fill=\"#000000\" fill-rule=\"evenodd\" fill-opacity=\"1\" /><path clip-path=\"url(#clip000)\" d=\"M1756.4 1479.29 Q1752.79 1479.29 1750.96 1482.86 Q1749.15 1486.4 1749.15 1493.53 Q1749.15 1500.63 1750.96 1504.2 Q1752.79 1507.74 1756.4 1507.74 Q1760.03 1507.74 1761.84 1504.2 Q1763.67 1500.63 1763.67 1493.53 Q1763.67 1486.4 1761.84 1482.86 Q1760.03 1479.29 1756.4 1479.29 M1756.4 1475.59 Q1762.21 1475.59 1765.26 1480.19 Q1768.34 1484.78 1768.34 1493.53 Q1768.34 1502.25 1765.26 1506.86 Q1762.21 1511.44 1756.4 1511.44 Q1750.59 1511.44 1747.51 1506.86 Q1744.45 1502.25 1744.45 1493.53 Q1744.45 1484.78 1747.51 1480.19 Q1750.59 1475.59 1756.4 1475.59 Z\" fill=\"#000000\" fill-rule=\"evenodd\" fill-opacity=\"1\" /><path clip-path=\"url(#clip000)\" d=\"M1990.79 1491.63 Q1987.64 1491.63 1985.79 1493.78 Q1983.96 1495.93 1983.96 1499.68 Q1983.96 1503.41 1985.79 1505.59 Q1987.64 1507.74 1990.79 1507.74 Q1993.94 1507.74 1995.76 1505.59 Q1997.62 1503.41 1997.62 1499.68 Q1997.62 1495.93 1995.76 1493.78 Q1993.94 1491.63 1990.79 1491.63 M2000.07 1476.98 L2000.07 1481.23 Q1998.31 1480.4 1996.51 1479.96 Q1994.72 1479.52 1992.96 1479.52 Q1988.33 1479.52 1985.88 1482.65 Q1983.45 1485.77 1983.1 1492.09 Q1984.47 1490.08 1986.53 1489.01 Q1988.59 1487.92 1991.07 1487.92 Q1996.27 1487.92 1999.28 1491.1 Q2002.32 1494.24 2002.32 1499.68 Q2002.32 1505.01 1999.17 1508.23 Q1996.02 1511.44 1990.79 1511.44 Q1984.79 1511.44 1981.62 1506.86 Q1978.45 1502.25 1978.45 1493.53 Q1978.45 1485.33 1982.34 1480.47 Q1986.23 1475.59 1992.78 1475.59 Q1994.54 1475.59 1996.32 1475.93 Q1998.13 1476.28 2000.07 1476.98 Z\" fill=\"#000000\" fill-rule=\"evenodd\" fill-opacity=\"1\" /><path clip-path=\"url(#clip000)\" d=\"M2020.37 1479.29 Q2016.76 1479.29 2014.93 1482.86 Q2013.13 1486.4 2013.13 1493.53 Q2013.13 1500.63 2014.93 1504.2 Q2016.76 1507.74 2020.37 1507.74 Q2024.01 1507.74 2025.81 1504.2 Q2027.64 1500.63 2027.64 1493.53 Q2027.64 1486.4 2025.81 1482.86 Q2024.01 1479.29 2020.37 1479.29 M2020.37 1475.59 Q2026.18 1475.59 2029.24 1480.19 Q2032.32 1484.78 2032.32 1493.53 Q2032.32 1502.25 2029.24 1506.86 Q2026.18 1511.44 2020.37 1511.44 Q2014.56 1511.44 2011.48 1506.86 Q2008.43 1502.25 2008.43 1493.53 Q2008.43 1484.78 2011.48 1480.19 Q2014.56 1475.59 2020.37 1475.59 Z\" fill=\"#000000\" fill-rule=\"evenodd\" fill-opacity=\"1\" /><path clip-path=\"url(#clip000)\" d=\"M2050.53 1479.29 Q2046.92 1479.29 2045.09 1482.86 Q2043.29 1486.4 2043.29 1493.53 Q2043.29 1500.63 2045.09 1504.2 Q2046.92 1507.74 2050.53 1507.74 Q2054.17 1507.74 2055.97 1504.2 Q2057.8 1500.63 2057.8 1493.53 Q2057.8 1486.4 2055.97 1482.86 Q2054.17 1479.29 2050.53 1479.29 M2050.53 1475.59 Q2056.34 1475.59 2059.4 1480.19 Q2062.48 1484.78 2062.48 1493.53 Q2062.48 1502.25 2059.4 1506.86 Q2056.34 1511.44 2050.53 1511.44 Q2044.72 1511.44 2041.64 1506.86 Q2038.59 1502.25 2038.59 1493.53 Q2038.59 1484.78 2041.64 1480.19 Q2044.72 1475.59 2050.53 1475.59 Z\" fill=\"#000000\" fill-rule=\"evenodd\" fill-opacity=\"1\" /><path clip-path=\"url(#clip000)\" d=\"M936.312 1571.89 L927.05 1571.89 L924.376 1582.52 L933.702 1582.52 L936.312 1571.89 M931.538 1553.78 L928.228 1566.98 L937.522 1566.98 L940.864 1553.78 L945.956 1553.78 L942.678 1566.98 L952.608 1566.98 L952.608 1571.89 L941.436 1571.89 L938.826 1582.52 L948.948 1582.52 L948.948 1587.39 L937.585 1587.39 L934.275 1600.56 L929.182 1600.56 L932.461 1587.39 L923.135 1587.39 L919.857 1600.56 L914.732 1600.56 L918.042 1587.39 L908.016 1587.39 L908.016 1582.52 L919.22 1582.52 L921.894 1571.89 L911.645 1571.89 L911.645 1566.98 L923.135 1566.98 L926.382 1553.78 L931.538 1553.78 Z\" fill=\"#000000\" fill-rule=\"evenodd\" fill-opacity=\"1\" /><path clip-path=\"url(#clip000)\" d=\"M984.246 1551.04 L990.134 1551.04 L990.134 1580.29 L1007.61 1564.92 L1015.09 1564.92 L996.181 1581.59 L1015.88 1600.56 L1008.24 1600.56 L990.134 1583.15 L990.134 1600.56 L984.246 1600.56 L984.246 1551.04 Z\" fill=\"#000000\" fill-rule=\"evenodd\" fill-opacity=\"1\" /><path clip-path=\"url(#clip000)\" d=\"M1049.97 1571.76 Q1052.17 1567.81 1055.22 1565.93 Q1058.28 1564.06 1062.42 1564.06 Q1067.99 1564.06 1071.01 1567.97 Q1074.03 1571.85 1074.03 1579.05 L1074.03 1600.56 L1068.15 1600.56 L1068.15 1579.24 Q1068.15 1574.11 1066.33 1571.63 Q1064.52 1569.15 1060.79 1569.15 Q1056.24 1569.15 1053.6 1572.17 Q1050.96 1575.2 1050.96 1580.42 L1050.96 1600.56 L1045.07 1600.56 L1045.07 1579.24 Q1045.07 1574.08 1043.26 1571.63 Q1041.44 1569.15 1037.65 1569.15 Q1033.17 1569.15 1030.52 1572.2 Q1027.88 1575.23 1027.88 1580.42 L1027.88 1600.56 L1021.99 1600.56 L1021.99 1564.92 L1027.88 1564.92 L1027.88 1570.45 Q1029.89 1567.18 1032.69 1565.62 Q1035.49 1564.06 1039.34 1564.06 Q1043.22 1564.06 1045.93 1566.03 Q1048.67 1568 1049.97 1571.76 Z\" fill=\"#000000\" fill-rule=\"evenodd\" fill-opacity=\"1\" /><path clip-path=\"url(#clip000)\" d=\"M1116.21 1581.28 L1116.21 1584.14 L1089.28 1584.14 Q1089.66 1590.19 1092.91 1593.37 Q1096.19 1596.52 1102.01 1596.52 Q1105.39 1596.52 1108.54 1595.69 Q1111.72 1594.87 1114.84 1593.21 L1114.84 1598.75 Q1111.69 1600.09 1108.38 1600.79 Q1105.07 1601.49 1101.66 1601.49 Q1093.13 1601.49 1088.13 1596.52 Q1083.17 1591.56 1083.17 1583.09 Q1083.17 1574.34 1087.88 1569.21 Q1092.62 1564.06 1100.64 1564.06 Q1107.84 1564.06 1112.01 1568.7 Q1116.21 1573.32 1116.21 1581.28 M1110.35 1579.56 Q1110.29 1574.75 1107.65 1571.89 Q1105.04 1569.02 1100.71 1569.02 Q1095.8 1569.02 1092.84 1571.79 Q1089.92 1574.56 1089.47 1579.59 L1110.35 1579.56 Z\" fill=\"#000000\" fill-rule=\"evenodd\" fill-opacity=\"1\" /><path clip-path=\"url(#clip000)\" d=\"M1146.48 1570.39 Q1145.49 1569.82 1144.31 1569.56 Q1143.17 1569.28 1141.77 1569.28 Q1136.8 1569.28 1134.13 1572.52 Q1131.48 1575.74 1131.48 1581.79 L1131.48 1600.56 L1125.6 1600.56 L1125.6 1564.92 L1131.48 1564.92 L1131.48 1570.45 Q1133.33 1567.21 1136.29 1565.65 Q1139.25 1564.06 1143.48 1564.06 Q1144.09 1564.06 1144.82 1564.15 Q1145.55 1564.22 1146.44 1564.37 L1146.48 1570.39 Z\" fill=\"#000000\" fill-rule=\"evenodd\" fill-opacity=\"1\" /><path clip-path=\"url(#clip000)\" d=\"M1175.34 1565.97 L1175.34 1571.5 Q1172.86 1570.23 1170.19 1569.59 Q1167.51 1568.96 1164.65 1568.96 Q1160.29 1568.96 1158.09 1570.29 Q1155.93 1571.63 1155.93 1574.31 Q1155.93 1576.34 1157.49 1577.52 Q1159.05 1578.67 1163.76 1579.72 L1165.76 1580.16 Q1172 1581.5 1174.61 1583.95 Q1177.25 1586.37 1177.25 1590.73 Q1177.25 1595.69 1173.31 1598.59 Q1169.39 1601.49 1162.52 1601.49 Q1159.65 1601.49 1156.53 1600.91 Q1153.45 1600.37 1150.01 1599.26 L1150.01 1593.21 Q1153.26 1594.9 1156.41 1595.76 Q1159.56 1596.59 1162.64 1596.59 Q1166.78 1596.59 1169.01 1595.18 Q1171.24 1593.75 1171.24 1591.17 Q1171.24 1588.79 1169.62 1587.51 Q1168.02 1586.24 1162.58 1585.06 L1160.54 1584.59 Q1155.1 1583.44 1152.68 1581.08 Q1150.26 1578.7 1150.26 1574.56 Q1150.26 1569.53 1153.83 1566.79 Q1157.39 1564.06 1163.95 1564.06 Q1167.2 1564.06 1170.06 1564.53 Q1172.93 1565.01 1175.34 1565.97 Z\" fill=\"#000000\" fill-rule=\"evenodd\" fill-opacity=\"1\" /><path clip-path=\"url(#clip000)\" d=\"M1223.5 1582.64 Q1216.4 1582.64 1213.67 1584.27 Q1210.93 1585.89 1210.93 1589.81 Q1210.93 1592.92 1212.97 1594.77 Q1215.03 1596.59 1218.57 1596.59 Q1223.44 1596.59 1226.37 1593.15 Q1229.33 1589.68 1229.33 1583.95 L1229.33 1582.64 L1223.5 1582.64 M1235.18 1580.23 L1235.18 1600.56 L1229.33 1600.56 L1229.33 1595.15 Q1227.32 1598.4 1224.33 1599.96 Q1221.34 1601.49 1217.01 1601.49 Q1211.53 1601.49 1208.29 1598.43 Q1205.07 1595.34 1205.07 1590.19 Q1205.07 1584.17 1209.08 1581.12 Q1213.12 1578.06 1221.11 1578.06 L1229.33 1578.06 L1229.33 1577.49 Q1229.33 1573.45 1226.65 1571.25 Q1224.01 1569.02 1219.2 1569.02 Q1216.15 1569.02 1213.25 1569.75 Q1210.36 1570.49 1207.68 1571.95 L1207.68 1566.54 Q1210.9 1565.3 1213.92 1564.69 Q1216.94 1564.06 1219.81 1564.06 Q1227.54 1564.06 1231.36 1568.07 Q1235.18 1572.08 1235.18 1580.23 Z\" fill=\"#000000\" fill-rule=\"evenodd\" fill-opacity=\"1\" /><path clip-path=\"url(#clip000)\" d=\"M1269.97 1565.97 L1269.97 1571.5 Q1267.49 1570.23 1264.81 1569.59 Q1262.14 1568.96 1259.28 1568.96 Q1254.92 1568.96 1252.72 1570.29 Q1250.56 1571.63 1250.56 1574.31 Q1250.56 1576.34 1252.11 1577.52 Q1253.67 1578.67 1258.38 1579.72 L1260.39 1580.16 Q1266.63 1581.5 1269.24 1583.95 Q1271.88 1586.37 1271.88 1590.73 Q1271.88 1595.69 1267.93 1598.59 Q1264.02 1601.49 1257.14 1601.49 Q1254.28 1601.49 1251.16 1600.91 Q1248.07 1600.37 1244.64 1599.26 L1244.64 1593.21 Q1247.88 1594.9 1251.03 1595.76 Q1254.18 1596.59 1257.27 1596.59 Q1261.41 1596.59 1263.64 1595.18 Q1265.86 1593.75 1265.86 1591.17 Q1265.86 1588.79 1264.24 1587.51 Q1262.65 1586.24 1257.21 1585.06 L1255.17 1584.59 Q1249.73 1583.44 1247.31 1581.08 Q1244.89 1578.7 1244.89 1574.56 Q1244.89 1569.53 1248.45 1566.79 Q1252.02 1564.06 1258.58 1564.06 Q1261.82 1564.06 1264.69 1564.53 Q1267.55 1565.01 1269.97 1565.97 Z\" fill=\"#000000\" fill-rule=\"evenodd\" fill-opacity=\"1\" /><path clip-path=\"url(#clip000)\" d=\"M1303.93 1565.97 L1303.93 1571.5 Q1301.45 1570.23 1298.78 1569.59 Q1296.1 1568.96 1293.24 1568.96 Q1288.88 1568.96 1286.68 1570.29 Q1284.52 1571.63 1284.52 1574.31 Q1284.52 1576.34 1286.08 1577.52 Q1287.64 1578.67 1292.35 1579.72 L1294.35 1580.16 Q1300.59 1581.5 1303.2 1583.95 Q1305.84 1586.37 1305.84 1590.73 Q1305.84 1595.69 1301.89 1598.59 Q1297.98 1601.49 1291.1 1601.49 Q1288.24 1601.49 1285.12 1600.91 Q1282.03 1600.37 1278.6 1599.26 L1278.6 1593.21 Q1281.84 1594.9 1284.99 1595.76 Q1288.14 1596.59 1291.23 1596.59 Q1295.37 1596.59 1297.6 1595.18 Q1299.83 1593.75 1299.83 1591.17 Q1299.83 1588.79 1298.2 1587.51 Q1296.61 1586.24 1291.17 1585.06 L1289.13 1584.59 Q1283.69 1583.44 1281.27 1581.08 Q1278.85 1578.7 1278.85 1574.56 Q1278.85 1569.53 1282.42 1566.79 Q1285.98 1564.06 1292.54 1564.06 Q1295.78 1564.06 1298.65 1564.53 Q1301.51 1565.01 1303.93 1565.97 Z\" fill=\"#000000\" fill-rule=\"evenodd\" fill-opacity=\"1\" /><path clip-path=\"url(#clip000)\" d=\"M1345.66 1581.28 L1345.66 1584.14 L1318.73 1584.14 Q1319.11 1590.19 1322.36 1593.37 Q1325.64 1596.52 1331.46 1596.52 Q1334.84 1596.52 1337.99 1595.69 Q1341.17 1594.87 1344.29 1593.21 L1344.29 1598.75 Q1341.14 1600.09 1337.83 1600.79 Q1334.52 1601.49 1331.11 1601.49 Q1322.58 1601.49 1317.59 1596.52 Q1312.62 1591.56 1312.62 1583.09 Q1312.62 1574.34 1317.33 1569.21 Q1322.07 1564.06 1330.09 1564.06 Q1337.29 1564.06 1341.46 1568.7 Q1345.66 1573.32 1345.66 1581.28 M1339.8 1579.56 Q1339.74 1574.75 1337.1 1571.89 Q1334.49 1569.02 1330.16 1569.02 Q1325.26 1569.02 1322.3 1571.79 Q1319.37 1574.56 1318.92 1579.59 L1339.8 1579.56 Z\" fill=\"#000000\" fill-rule=\"evenodd\" fill-opacity=\"1\" /><path clip-path=\"url(#clip000)\" d=\"M1378 1565.97 L1378 1571.5 Q1375.51 1570.23 1372.84 1569.59 Q1370.17 1568.96 1367.3 1568.96 Q1362.94 1568.96 1360.75 1570.29 Q1358.58 1571.63 1358.58 1574.31 Q1358.58 1576.34 1360.14 1577.52 Q1361.7 1578.67 1366.41 1579.72 L1368.42 1580.16 Q1374.65 1581.5 1377.26 1583.95 Q1379.91 1586.37 1379.91 1590.73 Q1379.91 1595.69 1375.96 1598.59 Q1372.04 1601.49 1365.17 1601.49 Q1362.31 1601.49 1359.19 1600.91 Q1356.1 1600.37 1352.66 1599.26 L1352.66 1593.21 Q1355.91 1594.9 1359.06 1595.76 Q1362.21 1596.59 1365.3 1596.59 Q1369.43 1596.59 1371.66 1595.18 Q1373.89 1593.75 1373.89 1591.17 Q1373.89 1588.79 1372.27 1587.51 Q1370.68 1586.24 1365.23 1585.06 L1363.2 1584.59 Q1357.75 1583.44 1355.33 1581.08 Q1352.92 1578.7 1352.92 1574.56 Q1352.92 1569.53 1356.48 1566.79 Q1360.05 1564.06 1366.6 1564.06 Q1369.85 1564.06 1372.71 1564.53 Q1375.58 1565.01 1378 1565.97 Z\" fill=\"#000000\" fill-rule=\"evenodd\" fill-opacity=\"1\" /><path clip-path=\"url(#clip000)\" d=\"M1411.96 1565.97 L1411.96 1571.5 Q1409.47 1570.23 1406.8 1569.59 Q1404.13 1568.96 1401.26 1568.96 Q1396.9 1568.96 1394.71 1570.29 Q1392.54 1571.63 1392.54 1574.31 Q1392.54 1576.34 1394.1 1577.52 Q1395.66 1578.67 1400.37 1579.72 L1402.38 1580.16 Q1408.62 1581.5 1411.23 1583.95 Q1413.87 1586.37 1413.87 1590.73 Q1413.87 1595.69 1409.92 1598.59 Q1406.01 1601.49 1399.13 1601.49 Q1396.27 1601.49 1393.15 1600.91 Q1390.06 1600.37 1386.62 1599.26 L1386.62 1593.21 Q1389.87 1594.9 1393.02 1595.76 Q1396.17 1596.59 1399.26 1596.59 Q1403.4 1596.59 1405.62 1595.18 Q1407.85 1593.75 1407.85 1591.17 Q1407.85 1588.79 1406.23 1587.51 Q1404.64 1586.24 1399.19 1585.06 L1397.16 1584.59 Q1391.71 1583.44 1389.3 1581.08 Q1386.88 1578.7 1386.88 1574.56 Q1386.88 1569.53 1390.44 1566.79 Q1394.01 1564.06 1400.56 1564.06 Q1403.81 1564.06 1406.67 1564.53 Q1409.54 1565.01 1411.96 1565.97 Z\" fill=\"#000000\" fill-rule=\"evenodd\" fill-opacity=\"1\" /><path clip-path=\"url(#clip000)\" d=\"M1453.68 1581.28 L1453.68 1584.14 L1426.76 1584.14 Q1427.14 1590.19 1430.39 1593.37 Q1433.66 1596.52 1439.49 1596.52 Q1442.86 1596.52 1446.01 1595.69 Q1449.2 1594.87 1452.32 1593.21 L1452.32 1598.75 Q1449.17 1600.09 1445.86 1600.79 Q1442.54 1601.49 1439.14 1601.49 Q1430.61 1601.49 1425.61 1596.52 Q1420.65 1591.56 1420.65 1583.09 Q1420.65 1574.34 1425.36 1569.21 Q1430.1 1564.06 1438.12 1564.06 Q1445.31 1564.06 1449.48 1568.7 Q1453.68 1573.32 1453.68 1581.28 M1447.83 1579.56 Q1447.76 1574.75 1445.12 1571.89 Q1442.51 1569.02 1438.18 1569.02 Q1433.28 1569.02 1430.32 1571.79 Q1427.39 1574.56 1426.95 1579.59 L1447.83 1579.56 Z\" fill=\"#000000\" fill-rule=\"evenodd\" fill-opacity=\"1\" /><path clip-path=\"url(#clip000)\" d=\"M1486.75 1570.33 L1486.75 1551.04 L1492.61 1551.04 L1492.61 1600.56 L1486.75 1600.56 L1486.75 1595.22 Q1484.91 1598.4 1482.08 1599.96 Q1479.27 1601.49 1475.33 1601.49 Q1468.87 1601.49 1464.79 1596.33 Q1460.75 1591.17 1460.75 1582.77 Q1460.75 1574.37 1464.79 1569.21 Q1468.87 1564.06 1475.33 1564.06 Q1479.27 1564.06 1482.08 1565.62 Q1484.91 1567.14 1486.75 1570.33 M1466.8 1582.77 Q1466.8 1589.23 1469.44 1592.92 Q1472.11 1596.59 1476.76 1596.59 Q1481.41 1596.59 1484.08 1592.92 Q1486.75 1589.23 1486.75 1582.77 Q1486.75 1576.31 1484.08 1572.65 Q1481.41 1568.96 1476.76 1568.96 Q1472.11 1568.96 1469.44 1572.65 Q1466.8 1576.31 1466.8 1582.77 Z\" fill=\"#000000\" fill-rule=\"evenodd\" fill-opacity=\"1\" /><polyline clip-path=\"url(#clip002)\" style=\"stroke:#000000; stroke-linecap:butt; stroke-linejoin:round; stroke-width:2; stroke-opacity:0.1; fill:none\" points=\"\n",
       "  200.084,1405.91 2200.54,1405.91 \n",
       "  \"/>\n",
       "<polyline clip-path=\"url(#clip002)\" style=\"stroke:#000000; stroke-linecap:butt; stroke-linejoin:round; stroke-width:2; stroke-opacity:0.1; fill:none\" points=\"\n",
       "  200.084,1035.39 2200.54,1035.39 \n",
       "  \"/>\n",
       "<polyline clip-path=\"url(#clip002)\" style=\"stroke:#000000; stroke-linecap:butt; stroke-linejoin:round; stroke-width:2; stroke-opacity:0.1; fill:none\" points=\"\n",
       "  200.084,664.871 2200.54,664.871 \n",
       "  \"/>\n",
       "<polyline clip-path=\"url(#clip002)\" style=\"stroke:#000000; stroke-linecap:butt; stroke-linejoin:round; stroke-width:2; stroke-opacity:0.1; fill:none\" points=\"\n",
       "  200.084,294.352 2200.54,294.352 \n",
       "  \"/>\n",
       "<polyline clip-path=\"url(#clip000)\" style=\"stroke:#000000; stroke-linecap:butt; stroke-linejoin:round; stroke-width:4; stroke-opacity:1; fill:none\" points=\"\n",
       "  200.084,1443.7 200.084,108.352 \n",
       "  \"/>\n",
       "<polyline clip-path=\"url(#clip000)\" style=\"stroke:#000000; stroke-linecap:butt; stroke-linejoin:round; stroke-width:4; stroke-opacity:1; fill:none\" points=\"\n",
       "  200.084,1405.91 212.887,1405.91 \n",
       "  \"/>\n",
       "<polyline clip-path=\"url(#clip000)\" style=\"stroke:#000000; stroke-linecap:butt; stroke-linejoin:round; stroke-width:4; stroke-opacity:1; fill:none\" points=\"\n",
       "  200.084,1035.39 212.887,1035.39 \n",
       "  \"/>\n",
       "<polyline clip-path=\"url(#clip000)\" style=\"stroke:#000000; stroke-linecap:butt; stroke-linejoin:round; stroke-width:4; stroke-opacity:1; fill:none\" points=\"\n",
       "  200.084,664.871 212.887,664.871 \n",
       "  \"/>\n",
       "<polyline clip-path=\"url(#clip000)\" style=\"stroke:#000000; stroke-linecap:butt; stroke-linejoin:round; stroke-width:4; stroke-opacity:1; fill:none\" points=\"\n",
       "  200.084,294.352 212.887,294.352 \n",
       "  \"/>\n",
       "<path clip-path=\"url(#clip000)\" d=\"M140.139 1391.71 Q136.528 1391.71 134.699 1395.27 Q132.894 1398.81 132.894 1405.94 Q132.894 1413.05 134.699 1416.61 Q136.528 1420.15 140.139 1420.15 Q143.773 1420.15 145.579 1416.61 Q147.408 1413.05 147.408 1405.94 Q147.408 1398.81 145.579 1395.27 Q143.773 1391.71 140.139 1391.71 M140.139 1388 Q145.949 1388 149.005 1392.61 Q152.084 1397.19 152.084 1405.94 Q152.084 1414.67 149.005 1419.27 Q145.949 1423.86 140.139 1423.86 Q134.329 1423.86 131.25 1419.27 Q128.195 1414.67 128.195 1405.94 Q128.195 1397.19 131.25 1392.61 Q134.329 1388 140.139 1388 Z\" fill=\"#000000\" fill-rule=\"evenodd\" fill-opacity=\"1\" /><path clip-path=\"url(#clip000)\" d=\"M100.788 1048.73 L108.426 1048.73 L108.426 1022.37 L100.116 1024.03 L100.116 1019.78 L108.38 1018.11 L113.056 1018.11 L113.056 1048.73 L120.695 1048.73 L120.695 1052.67 L100.788 1052.67 L100.788 1048.73 Z\" fill=\"#000000\" fill-rule=\"evenodd\" fill-opacity=\"1\" /><path clip-path=\"url(#clip000)\" d=\"M140.139 1021.19 Q136.528 1021.19 134.699 1024.75 Q132.894 1028.29 132.894 1035.42 Q132.894 1042.53 134.699 1046.09 Q136.528 1049.64 140.139 1049.64 Q143.773 1049.64 145.579 1046.09 Q147.408 1042.53 147.408 1035.42 Q147.408 1028.29 145.579 1024.75 Q143.773 1021.19 140.139 1021.19 M140.139 1017.48 Q145.949 1017.48 149.005 1022.09 Q152.084 1026.67 152.084 1035.42 Q152.084 1044.15 149.005 1048.76 Q145.949 1053.34 140.139 1053.34 Q134.329 1053.34 131.25 1048.76 Q128.195 1044.15 128.195 1035.42 Q128.195 1026.67 131.25 1022.09 Q134.329 1017.48 140.139 1017.48 Z\" fill=\"#000000\" fill-rule=\"evenodd\" fill-opacity=\"1\" /><path clip-path=\"url(#clip000)\" d=\"M104.005 678.215 L120.324 678.215 L120.324 682.151 L98.3802 682.151 L98.3802 678.215 Q101.042 675.461 105.625 670.831 Q110.232 666.178 111.412 664.836 Q113.658 662.313 114.537 660.577 Q115.44 658.817 115.44 657.127 Q115.44 654.373 113.496 652.637 Q111.575 650.901 108.473 650.901 Q106.274 650.901 103.82 651.665 Q101.389 652.428 98.6116 653.979 L98.6116 649.257 Q101.436 648.123 103.889 647.544 Q106.343 646.966 108.38 646.966 Q113.75 646.966 116.945 649.651 Q120.139 652.336 120.139 656.827 Q120.139 658.956 119.329 660.877 Q118.542 662.776 116.436 665.368 Q115.857 666.039 112.755 669.257 Q109.653 672.451 104.005 678.215 Z\" fill=\"#000000\" fill-rule=\"evenodd\" fill-opacity=\"1\" /><path clip-path=\"url(#clip000)\" d=\"M140.139 650.669 Q136.528 650.669 134.699 654.234 Q132.894 657.776 132.894 664.905 Q132.894 672.012 134.699 675.576 Q136.528 679.118 140.139 679.118 Q143.773 679.118 145.579 675.576 Q147.408 672.012 147.408 664.905 Q147.408 657.776 145.579 654.234 Q143.773 650.669 140.139 650.669 M140.139 646.966 Q145.949 646.966 149.005 651.572 Q152.084 656.155 152.084 664.905 Q152.084 673.632 149.005 678.238 Q145.949 682.822 140.139 682.822 Q134.329 682.822 131.25 678.238 Q128.195 673.632 128.195 664.905 Q128.195 656.155 131.25 651.572 Q134.329 646.966 140.139 646.966 Z\" fill=\"#000000\" fill-rule=\"evenodd\" fill-opacity=\"1\" /><path clip-path=\"url(#clip000)\" d=\"M114.144 292.998 Q117.5 293.716 119.375 295.984 Q121.274 298.253 121.274 301.586 Q121.274 306.702 117.755 309.503 Q114.237 312.304 107.755 312.304 Q105.579 312.304 103.264 311.864 Q100.973 311.447 98.519 310.591 L98.519 306.077 Q100.463 307.211 102.778 307.79 Q105.093 308.368 107.616 308.368 Q112.014 308.368 114.306 306.632 Q116.621 304.896 116.621 301.586 Q116.621 298.53 114.468 296.818 Q112.338 295.081 108.519 295.081 L104.491 295.081 L104.491 291.239 L108.704 291.239 Q112.153 291.239 113.982 289.873 Q115.811 288.484 115.811 285.892 Q115.811 283.23 113.912 281.818 Q112.037 280.382 108.519 280.382 Q106.598 280.382 104.399 280.799 Q102.2 281.216 99.5607 282.095 L99.5607 277.929 Q102.223 277.188 104.538 276.818 Q106.875 276.447 108.936 276.447 Q114.26 276.447 117.362 278.878 Q120.463 281.285 120.463 285.406 Q120.463 288.276 118.82 290.267 Q117.176 292.234 114.144 292.998 Z\" fill=\"#000000\" fill-rule=\"evenodd\" fill-opacity=\"1\" /><path clip-path=\"url(#clip000)\" d=\"M140.139 280.151 Q136.528 280.151 134.699 283.716 Q132.894 287.257 132.894 294.387 Q132.894 301.493 134.699 305.058 Q136.528 308.6 140.139 308.6 Q143.773 308.6 145.579 305.058 Q147.408 301.493 147.408 294.387 Q147.408 287.257 145.579 283.716 Q143.773 280.151 140.139 280.151 M140.139 276.447 Q145.949 276.447 149.005 281.054 Q152.084 285.637 152.084 294.387 Q152.084 303.114 149.005 307.72 Q145.949 312.304 140.139 312.304 Q134.329 312.304 131.25 307.72 Q128.195 303.114 128.195 294.387 Q128.195 285.637 131.25 281.054 Q134.329 276.447 140.139 276.447 Z\" fill=\"#000000\" fill-rule=\"evenodd\" fill-opacity=\"1\" /><path clip-path=\"url(#clip000)\" d=\"M7.44665 1004.48 L7.44665 1013.74 L18.0774 1016.41 L18.0774 1007.09 L7.44665 1004.48 M-10.6638 1009.25 L2.54506 1012.56 L2.54506 1003.27 L-10.6638 999.924 L-10.6638 994.831 L2.54506 998.11 L2.54506 988.179 L7.44665 988.179 L7.44665 999.351 L18.0774 1001.96 L18.0774 991.839 L22.9471 991.839 L22.9471 1003.2 L36.1242 1006.51 L36.1242 1011.6 L22.9471 1008.33 L22.9471 1017.65 L36.1242 1020.93 L36.1242 1026.06 L22.9471 1022.74 L22.9471 1032.77 L18.0774 1032.77 L18.0774 1021.57 L7.44665 1018.89 L7.44665 1029.14 L2.54506 1029.14 L2.54506 1017.65 L-10.6638 1014.41 L-10.6638 1009.25 Z\" fill=\"#000000\" fill-rule=\"evenodd\" fill-opacity=\"1\" /><path clip-path=\"url(#clip000)\" d=\"M22.0559 956.923 L0.4762 956.923 L0.4762 951.067 L21.8331 951.067 Q26.8939 951.067 29.4402 949.094 Q31.9546 947.12 31.9546 943.174 Q31.9546 938.431 28.9309 935.694 Q25.9072 932.925 20.6873 932.925 L0.4762 932.925 L0.4762 927.068 L36.1242 927.068 L36.1242 932.925 L30.6496 932.925 Q33.8962 935.057 35.4876 937.89 Q37.0472 940.691 37.0472 944.415 Q37.0472 950.558 33.2278 953.741 Q29.4083 956.923 22.0559 956.923 M-0.38317 942.187 L-0.38317 942.187 Z\" fill=\"#000000\" fill-rule=\"evenodd\" fill-opacity=\"1\" /><path clip-path=\"url(#clip000)\" d=\"M14.6081 885.373 L36.1242 885.373 L36.1242 891.229 L14.799 891.229 Q9.7383 891.229 7.22385 893.203 Q4.7094 895.176 4.7094 899.123 Q4.7094 903.865 7.73311 906.603 Q10.7568 909.34 15.9767 909.34 L36.1242 909.34 L36.1242 915.228 L0.4762 915.228 L0.4762 909.34 L6.01437 909.34 Q2.79968 907.239 1.20826 904.406 Q-0.38317 901.542 -0.38317 897.818 Q-0.38317 891.675 3.43625 888.524 Q7.22385 885.373 14.6081 885.373 Z\" fill=\"#000000\" fill-rule=\"evenodd\" fill-opacity=\"1\" /><path clip-path=\"url(#clip000)\" d=\"M0.4762 873.692 L0.4762 867.835 L36.1242 867.835 L36.1242 873.692 L0.4762 873.692 M-13.401 873.692 L-13.401 867.835 L-5.98499 867.835 L-5.98499 873.692 L-13.401 873.692 Z\" fill=\"#000000\" fill-rule=\"evenodd\" fill-opacity=\"1\" /><path clip-path=\"url(#clip000)\" d=\"M18.332 852.08 Q24.7932 852.08 28.4853 849.438 Q32.1456 846.765 32.1456 842.118 Q32.1456 837.471 28.4853 834.797 Q24.7932 832.124 18.332 832.124 Q11.8708 832.124 8.21053 834.797 Q4.51842 837.471 4.51842 842.118 Q4.51842 846.765 8.21053 849.438 Q11.8708 852.08 18.332 852.08 M30.777 832.124 Q33.9598 833.97 35.5194 836.803 Q37.0472 839.603 37.0472 843.55 Q37.0472 850.011 31.891 854.085 Q26.7347 858.128 18.332 858.128 Q9.92927 858.128 4.77305 854.085 Q-0.38317 850.011 -0.38317 843.55 Q-0.38317 839.603 1.17643 836.803 Q2.7042 833.97 5.88705 832.124 L0.4762 832.124 L0.4762 826.267 L49.6831 826.267 L49.6831 832.124 L30.777 832.124 Z\" fill=\"#000000\" fill-rule=\"evenodd\" fill-opacity=\"1\" /><path clip-path=\"url(#clip000)\" d=\"M22.0559 814.809 L0.4762 814.809 L0.4762 808.953 L21.8331 808.953 Q26.8939 808.953 29.4402 806.979 Q31.9546 805.006 31.9546 801.059 Q31.9546 796.317 28.9309 793.579 Q25.9072 790.81 20.6873 790.81 L0.4762 790.81 L0.4762 784.954 L36.1242 784.954 L36.1242 790.81 L30.6496 790.81 Q33.8962 792.943 35.4876 795.776 Q37.0472 798.576 37.0472 802.3 Q37.0472 808.443 33.2278 811.626 Q29.4083 814.809 22.0559 814.809 M-0.38317 800.072 L-0.38317 800.072 Z\" fill=\"#000000\" fill-rule=\"evenodd\" fill-opacity=\"1\" /><path clip-path=\"url(#clip000)\" d=\"M16.8361 742.399 L19.7006 742.399 L19.7006 769.326 Q25.7481 768.944 28.9309 765.698 Q32.0819 762.419 32.0819 756.595 Q32.0819 753.221 31.2544 750.07 Q30.4269 746.887 28.7718 743.768 L34.3099 743.768 Q35.6467 746.919 36.347 750.229 Q37.0472 753.539 37.0472 756.945 Q37.0472 765.475 32.0819 770.472 Q27.1167 775.437 18.6503 775.437 Q9.89745 775.437 4.77305 770.727 Q-0.38317 765.984 -0.38317 757.963 Q-0.38317 750.77 4.2638 746.601 Q8.87893 742.399 16.8361 742.399 M15.1173 748.256 Q10.3112 748.319 7.44665 750.961 Q4.58208 753.571 4.58208 757.9 Q4.58208 762.801 7.35116 765.761 Q10.1202 768.69 15.1492 769.135 L15.1173 748.256 Z\" fill=\"#000000\" fill-rule=\"evenodd\" fill-opacity=\"1\" /><path clip-path=\"url(#clip000)\" d=\"M-13.401 712.289 L-13.401 706.401 L15.8494 706.401 L0.4762 688.927 L0.4762 681.447 L17.1544 700.354 L36.1242 680.652 L36.1242 688.291 L18.7139 706.401 L36.1242 706.401 L36.1242 712.289 L-13.401 712.289 Z\" fill=\"#000000\" fill-rule=\"evenodd\" fill-opacity=\"1\" /><path clip-path=\"url(#clip000)\" d=\"M7.31933 646.563 Q3.3726 644.367 1.49471 641.312 Q-0.38317 638.256 -0.38317 634.118 Q-0.38317 628.548 3.53174 625.525 Q7.41482 622.501 14.6081 622.501 L36.1242 622.501 L36.1242 628.389 L14.799 628.389 Q9.67465 628.389 7.19202 630.204 Q4.7094 632.018 4.7094 635.742 Q4.7094 640.293 7.73311 642.935 Q10.7568 645.577 15.9767 645.577 L36.1242 645.577 L36.1242 651.465 L14.799 651.465 Q9.64282 651.465 7.19202 653.279 Q4.7094 655.093 4.7094 658.881 Q4.7094 663.369 7.76493 666.011 Q10.7886 668.652 15.9767 668.652 L36.1242 668.652 L36.1242 674.541 L0.4762 674.541 L0.4762 668.652 L6.01437 668.652 Q2.73603 666.647 1.17643 663.846 Q-0.38317 661.045 -0.38317 657.194 Q-0.38317 653.311 1.5902 650.606 Q3.56357 647.868 7.31933 646.563 Z\" fill=\"#000000\" fill-rule=\"evenodd\" fill-opacity=\"1\" /><path clip-path=\"url(#clip000)\" d=\"M16.8361 580.328 L19.7006 580.328 L19.7006 607.255 Q25.7481 606.873 28.9309 603.627 Q32.0819 600.348 32.0819 594.524 Q32.0819 591.15 31.2544 587.999 Q30.4269 584.816 28.7718 581.697 L34.3099 581.697 Q35.6467 584.848 36.347 588.158 Q37.0472 591.468 37.0472 594.874 Q37.0472 603.404 32.0819 608.401 Q27.1167 613.366 18.6503 613.366 Q9.89745 613.366 4.77305 608.656 Q-0.38317 603.913 -0.38317 595.892 Q-0.38317 588.699 4.2638 584.53 Q8.87893 580.328 16.8361 580.328 M15.1173 586.185 Q10.3112 586.248 7.44665 588.89 Q4.58208 591.5 4.58208 595.829 Q4.58208 600.73 7.35116 603.69 Q10.1202 606.619 15.1492 607.064 L15.1173 586.185 Z\" fill=\"#000000\" fill-rule=\"evenodd\" fill-opacity=\"1\" /><path clip-path=\"url(#clip000)\" d=\"M5.95071 550.059 Q5.37779 551.046 5.12317 552.224 Q4.83671 553.369 4.83671 554.77 Q4.83671 559.735 8.08322 562.409 Q11.2979 565.051 17.3453 565.051 L36.1242 565.051 L36.1242 570.939 L0.4762 570.939 L0.4762 565.051 L6.01437 565.051 Q2.76785 563.204 1.20826 560.244 Q-0.38317 557.284 -0.38317 553.051 Q-0.38317 552.446 -0.287684 551.714 Q-0.224027 550.982 -0.0648847 550.091 L5.95071 550.059 Z\" fill=\"#000000\" fill-rule=\"evenodd\" fill-opacity=\"1\" /><path clip-path=\"url(#clip000)\" d=\"M1.52654 521.191 L7.06471 521.191 Q5.79157 523.673 5.15499 526.347 Q4.51842 529.021 4.51842 531.885 Q4.51842 536.246 5.85522 538.442 Q7.19202 540.606 9.86562 540.606 Q11.9026 540.606 13.0803 539.047 Q14.2261 537.487 15.2765 532.776 L15.7221 530.771 Q17.0589 524.533 19.5097 521.923 Q21.9286 519.281 26.2891 519.281 Q31.2544 519.281 34.1508 523.228 Q37.0472 527.143 37.0472 534.018 Q37.0472 536.882 36.4743 540.001 Q35.9332 543.089 34.8192 546.526 L28.7718 546.526 Q30.4587 543.28 31.318 540.129 Q32.1456 536.978 32.1456 533.89 Q32.1456 529.753 30.7451 527.525 Q29.3129 525.297 26.7347 525.297 Q24.3476 525.297 23.0745 526.92 Q21.8013 528.511 20.6237 533.954 L20.1462 535.991 Q19.0004 541.434 16.6451 543.853 Q14.258 546.272 10.1202 546.272 Q5.09134 546.272 2.35408 542.707 Q-0.38317 539.142 -0.38317 532.585 Q-0.38317 529.339 0.0942579 526.474 Q0.571686 523.61 1.52654 521.191 Z\" fill=\"#000000\" fill-rule=\"evenodd\" fill-opacity=\"1\" /><path clip-path=\"url(#clip000)\" d=\"M595.514 28.5427 L595.514 35.5912 Q592.354 33.9709 588.951 33.1607 Q585.549 32.3505 581.903 32.3505 Q576.353 32.3505 573.558 34.0519 Q570.803 35.7533 570.803 39.156 Q570.803 41.7486 572.788 43.2475 Q574.773 44.7058 580.769 46.0426 L583.321 46.6097 Q591.26 48.3111 594.582 51.4303 Q597.944 54.509 597.944 60.0587 Q597.944 66.3781 592.921 70.0644 Q587.939 73.7508 579.189 73.7508 Q575.543 73.7508 571.573 73.0216 Q567.644 72.3329 563.269 70.9151 L563.269 63.2184 Q567.401 65.3654 571.411 66.4591 Q575.421 67.5124 579.351 67.5124 Q584.617 67.5124 587.452 65.73 Q590.288 63.9071 590.288 60.6258 Q590.288 57.5877 588.222 55.9673 Q586.197 54.3469 579.27 52.8481 L576.677 52.2405 Q569.75 50.7821 566.671 47.7845 Q563.593 44.7463 563.593 39.4801 Q563.593 33.0797 568.13 29.5959 Q572.667 26.1121 581.012 26.1121 Q585.143 26.1121 588.789 26.7198 Q592.435 27.3274 595.514 28.5427 Z\" fill=\"#000000\" fill-rule=\"evenodd\" fill-opacity=\"1\" /><path clip-path=\"url(#clip000)\" d=\"M648.621 48.0275 L648.621 51.6733 L614.35 51.6733 Q614.837 59.3701 618.969 63.421 Q623.141 67.4314 630.554 67.4314 Q634.848 67.4314 638.858 66.3781 Q642.909 65.3249 646.879 63.2184 L646.879 70.267 Q642.869 71.9684 638.656 72.8596 Q634.443 73.7508 630.109 73.7508 Q619.252 73.7508 612.892 67.4314 Q606.573 61.1119 606.573 50.3365 Q606.573 39.1965 612.568 32.6746 Q618.604 26.1121 628.812 26.1121 Q637.967 26.1121 643.274 32.0264 Q648.621 37.9003 648.621 48.0275 M641.167 45.84 Q641.086 39.7232 637.724 36.0774 Q634.402 32.4315 628.893 32.4315 Q622.655 32.4315 618.888 35.9558 Q615.161 39.4801 614.594 45.8805 L641.167 45.84 Z\" fill=\"#000000\" fill-rule=\"evenodd\" fill-opacity=\"1\" /><path clip-path=\"url(#clip000)\" d=\"M665.311 49.9314 Q665.311 58.1548 668.673 62.8538 Q672.076 67.5124 677.99 67.5124 Q683.905 67.5124 687.307 62.8538 Q690.71 58.1548 690.71 49.9314 Q690.71 41.7081 687.307 37.0496 Q683.905 32.3505 677.99 32.3505 Q672.076 32.3505 668.673 37.0496 Q665.311 41.7081 665.311 49.9314 M690.71 65.7705 Q688.361 69.8214 684.755 71.8063 Q681.19 73.7508 676.167 73.7508 Q667.944 73.7508 662.759 67.1883 Q657.614 60.6258 657.614 49.9314 Q657.614 39.2371 662.759 32.6746 Q667.944 26.1121 676.167 26.1121 Q681.19 26.1121 684.755 28.0971 Q688.361 30.0415 690.71 34.0924 L690.71 27.2059 L698.164 27.2059 L698.164 89.8329 L690.71 89.8329 L690.71 65.7705 Z\" fill=\"#000000\" fill-rule=\"evenodd\" fill-opacity=\"1\" /><path clip-path=\"url(#clip000)\" d=\"M712.747 54.671 L712.747 27.2059 L720.201 27.2059 L720.201 54.3874 Q720.201 60.8284 722.712 64.0691 Q725.224 67.2693 730.247 67.2693 Q736.283 67.2693 739.766 63.421 Q743.291 59.5726 743.291 52.9291 L743.291 27.2059 L750.744 27.2059 L750.744 72.576 L743.291 72.576 L743.291 65.6084 Q740.577 69.7404 736.971 71.7658 Q733.407 73.7508 728.667 73.7508 Q720.849 73.7508 716.798 68.8897 Q712.747 64.0286 712.747 54.671 M731.503 26.1121 L731.503 26.1121 Z\" fill=\"#000000\" fill-rule=\"evenodd\" fill-opacity=\"1\" /><path clip-path=\"url(#clip000)\" d=\"M804.905 48.0275 L804.905 51.6733 L770.634 51.6733 Q771.12 59.3701 775.252 63.421 Q779.425 67.4314 786.838 67.4314 Q791.132 67.4314 795.142 66.3781 Q799.193 65.3249 803.163 63.2184 L803.163 70.267 Q799.153 71.9684 794.94 72.8596 Q790.727 73.7508 786.392 73.7508 Q775.536 73.7508 769.176 67.4314 Q762.857 61.1119 762.857 50.3365 Q762.857 39.1965 768.852 32.6746 Q774.888 26.1121 785.096 26.1121 Q794.251 26.1121 799.558 32.0264 Q804.905 37.9003 804.905 48.0275 M797.451 45.84 Q797.37 39.7232 794.008 36.0774 Q790.686 32.4315 785.177 32.4315 Q778.939 32.4315 775.171 35.9558 Q771.445 39.4801 770.877 45.8805 L797.451 45.84 Z\" fill=\"#000000\" fill-rule=\"evenodd\" fill-opacity=\"1\" /><path clip-path=\"url(#clip000)\" d=\"M854.853 45.1919 L854.853 72.576 L847.399 72.576 L847.399 45.4349 Q847.399 38.994 844.887 35.7938 Q842.376 32.5936 837.353 32.5936 Q831.317 32.5936 827.833 36.4419 Q824.349 40.2903 824.349 46.9338 L824.349 72.576 L816.855 72.576 L816.855 27.2059 L824.349 27.2059 L824.349 34.2544 Q827.023 30.163 830.628 28.1376 Q834.274 26.1121 839.014 26.1121 Q846.832 26.1121 850.842 30.9732 Q854.853 35.7938 854.853 45.1919 Z\" fill=\"#000000\" fill-rule=\"evenodd\" fill-opacity=\"1\" /><path clip-path=\"url(#clip000)\" d=\"M902.37 28.9478 L902.37 35.9153 Q899.21 34.1734 896.01 33.3227 Q892.85 32.4315 889.609 32.4315 Q882.358 32.4315 878.348 37.0496 Q874.338 41.6271 874.338 49.9314 Q874.338 58.2358 878.348 62.8538 Q882.358 67.4314 889.609 67.4314 Q892.85 67.4314 896.01 66.5807 Q899.21 65.6895 902.37 63.9476 L902.37 70.8341 Q899.251 72.2924 895.888 73.0216 Q892.567 73.7508 888.799 73.7508 Q878.55 73.7508 872.515 67.3098 Q866.479 60.8689 866.479 49.9314 Q866.479 38.832 872.555 32.472 Q878.672 26.1121 889.285 26.1121 Q892.729 26.1121 896.01 26.8413 Q899.291 27.5299 902.37 28.9478 Z\" fill=\"#000000\" fill-rule=\"evenodd\" fill-opacity=\"1\" /><path clip-path=\"url(#clip000)\" d=\"M915.333 27.2059 L922.786 27.2059 L922.786 72.576 L915.333 72.576 L915.333 27.2059 M915.333 9.54393 L922.786 9.54393 L922.786 18.9825 L915.333 18.9825 L915.333 9.54393 Z\" fill=\"#000000\" fill-rule=\"evenodd\" fill-opacity=\"1\" /><path clip-path=\"url(#clip000)\" d=\"M976.096 45.1919 L976.096 72.576 L968.643 72.576 L968.643 45.4349 Q968.643 38.994 966.131 35.7938 Q963.619 32.5936 958.596 32.5936 Q952.56 32.5936 949.077 36.4419 Q945.593 40.2903 945.593 46.9338 L945.593 72.576 L938.099 72.576 L938.099 27.2059 L945.593 27.2059 L945.593 34.2544 Q948.267 30.163 951.872 28.1376 Q955.518 26.1121 960.257 26.1121 Q968.075 26.1121 972.086 30.9732 Q976.096 35.7938 976.096 45.1919 Z\" fill=\"#000000\" fill-rule=\"evenodd\" fill-opacity=\"1\" /><path clip-path=\"url(#clip000)\" d=\"M1020.82 49.3643 Q1020.82 41.2625 1017.46 36.8065 Q1014.13 32.3505 1008.1 32.3505 Q1002.1 32.3505 998.741 36.8065 Q995.419 41.2625 995.419 49.3643 Q995.419 57.4256 998.741 61.8816 Q1002.1 66.3376 1008.1 66.3376 Q1014.13 66.3376 1017.46 61.8816 Q1020.82 57.4256 1020.82 49.3643 M1028.27 66.9452 Q1028.27 78.5308 1023.13 84.1616 Q1017.98 89.8329 1007.37 89.8329 Q1003.44 89.8329 999.956 89.2252 Q996.472 88.6581 993.191 87.4428 L993.191 80.1917 Q996.472 81.9741 999.673 82.8248 Q1002.87 83.6755 1006.19 83.6755 Q1013.53 83.6755 1017.17 79.8271 Q1020.82 76.0193 1020.82 68.282 L1020.82 64.5957 Q1018.51 68.6061 1014.9 70.5911 Q1011.3 72.576 1006.28 72.576 Q997.931 72.576 992.826 66.2161 Q987.722 59.8562 987.722 49.3643 Q987.722 38.832 992.826 32.472 Q997.931 26.1121 1006.28 26.1121 Q1011.3 26.1121 1014.9 28.0971 Q1018.51 30.082 1020.82 34.0924 L1020.82 27.2059 L1028.27 27.2059 L1028.27 66.9452 Z\" fill=\"#000000\" fill-rule=\"evenodd\" fill-opacity=\"1\" /><path clip-path=\"url(#clip000)\" d=\"M1098.92 28.5427 L1098.92 35.5912 Q1095.76 33.9709 1092.36 33.1607 Q1088.95 32.3505 1085.31 32.3505 Q1079.76 32.3505 1076.96 34.0519 Q1074.21 35.7533 1074.21 39.156 Q1074.21 41.7486 1076.19 43.2475 Q1078.18 44.7058 1084.17 46.0426 L1086.73 46.6097 Q1094.67 48.3111 1097.99 51.4303 Q1101.35 54.509 1101.35 60.0587 Q1101.35 66.3781 1096.33 70.0644 Q1091.34 73.7508 1082.59 73.7508 Q1078.95 73.7508 1074.98 73.0216 Q1071.05 72.3329 1066.67 70.9151 L1066.67 63.2184 Q1070.81 65.3654 1074.82 66.4591 Q1078.83 67.5124 1082.76 67.5124 Q1088.02 67.5124 1090.86 65.73 Q1093.69 63.9071 1093.69 60.6258 Q1093.69 57.5877 1091.63 55.9673 Q1089.6 54.3469 1082.68 52.8481 L1080.08 52.2405 Q1073.16 50.7821 1070.08 47.7845 Q1067 44.7463 1067 39.4801 Q1067 33.0797 1071.54 29.5959 Q1076.07 26.1121 1084.42 26.1121 Q1088.55 26.1121 1092.2 26.7198 Q1095.84 27.3274 1098.92 28.5427 Z\" fill=\"#000000\" fill-rule=\"evenodd\" fill-opacity=\"1\" /><path clip-path=\"url(#clip000)\" d=\"M1133.84 49.7694 Q1124.8 49.7694 1121.32 51.8354 Q1117.84 53.9013 1117.84 58.8839 Q1117.84 62.8538 1120.43 65.2034 Q1123.06 67.5124 1127.56 67.5124 Q1133.76 67.5124 1137.48 63.1374 Q1141.25 58.7219 1141.25 51.4303 L1141.25 49.7694 L1133.84 49.7694 M1148.71 46.6907 L1148.71 72.576 L1141.25 72.576 L1141.25 65.6895 Q1138.7 69.8214 1134.89 71.8063 Q1131.08 73.7508 1125.57 73.7508 Q1118.61 73.7508 1114.48 69.8619 Q1110.38 65.9325 1110.38 59.3701 Q1110.38 51.7138 1115.49 47.825 Q1120.63 43.9361 1130.8 43.9361 L1141.25 43.9361 L1141.25 43.2069 Q1141.25 38.0623 1137.85 35.2672 Q1134.49 32.4315 1128.37 32.4315 Q1124.48 32.4315 1120.79 33.3632 Q1117.11 34.295 1113.71 36.1584 L1113.71 29.2718 Q1117.8 27.692 1121.65 26.9223 Q1125.49 26.1121 1129.14 26.1121 Q1138.98 26.1121 1143.84 31.2163 Q1148.71 36.3204 1148.71 46.6907 Z\" fill=\"#000000\" fill-rule=\"evenodd\" fill-opacity=\"1\" /><path clip-path=\"url(#clip000)\" d=\"M1171.43 14.324 L1171.43 27.2059 L1186.78 27.2059 L1186.78 32.9987 L1171.43 32.9987 L1171.43 57.6282 Q1171.43 63.1779 1172.93 64.7578 Q1174.47 66.3376 1179.13 66.3376 L1186.78 66.3376 L1186.78 72.576 L1179.13 72.576 Q1170.5 72.576 1167.22 69.3758 Q1163.94 66.1351 1163.94 57.6282 L1163.94 32.9987 L1158.47 32.9987 L1158.47 27.2059 L1163.94 27.2059 L1163.94 14.324 L1171.43 14.324 Z\" fill=\"#000000\" fill-rule=\"evenodd\" fill-opacity=\"1\" /><path clip-path=\"url(#clip000)\" d=\"M1195.82 54.671 L1195.82 27.2059 L1203.27 27.2059 L1203.27 54.3874 Q1203.27 60.8284 1205.78 64.0691 Q1208.29 67.2693 1213.32 67.2693 Q1219.35 67.2693 1222.84 63.421 Q1226.36 59.5726 1226.36 52.9291 L1226.36 27.2059 L1233.81 27.2059 L1233.81 72.576 L1226.36 72.576 L1226.36 65.6084 Q1223.65 69.7404 1220.04 71.7658 Q1216.48 73.7508 1211.74 73.7508 Q1203.92 73.7508 1199.87 68.8897 Q1195.82 64.0286 1195.82 54.671 M1214.57 26.1121 L1214.57 26.1121 Z\" fill=\"#000000\" fill-rule=\"evenodd\" fill-opacity=\"1\" /><path clip-path=\"url(#clip000)\" d=\"M1275.46 34.1734 Q1274.2 33.4443 1272.7 33.1202 Q1271.25 32.7556 1269.46 32.7556 Q1263.14 32.7556 1259.74 36.8875 Q1256.38 40.9789 1256.38 48.6757 L1256.38 72.576 L1248.88 72.576 L1248.88 27.2059 L1256.38 27.2059 L1256.38 34.2544 Q1258.73 30.1225 1262.5 28.1376 Q1266.26 26.1121 1271.65 26.1121 Q1272.42 26.1121 1273.35 26.2337 Q1274.28 26.3147 1275.42 26.5172 L1275.46 34.1734 Z\" fill=\"#000000\" fill-rule=\"evenodd\" fill-opacity=\"1\" /><path clip-path=\"url(#clip000)\" d=\"M1303.9 49.7694 Q1294.86 49.7694 1291.38 51.8354 Q1287.89 53.9013 1287.89 58.8839 Q1287.89 62.8538 1290.49 65.2034 Q1293.12 67.5124 1297.62 67.5124 Q1303.81 67.5124 1307.54 63.1374 Q1311.31 58.7219 1311.31 51.4303 L1311.31 49.7694 L1303.9 49.7694 M1318.76 46.6907 L1318.76 72.576 L1311.31 72.576 L1311.31 65.6895 Q1308.76 69.8214 1304.95 71.8063 Q1301.14 73.7508 1295.63 73.7508 Q1288.66 73.7508 1284.53 69.8619 Q1280.44 65.9325 1280.44 59.3701 Q1280.44 51.7138 1285.54 47.825 Q1290.69 43.9361 1300.86 43.9361 L1311.31 43.9361 L1311.31 43.2069 Q1311.31 38.0623 1307.91 35.2672 Q1304.54 32.4315 1298.43 32.4315 Q1294.54 32.4315 1290.85 33.3632 Q1287.17 34.295 1283.76 36.1584 L1283.76 29.2718 Q1287.85 27.692 1291.7 26.9223 Q1295.55 26.1121 1299.2 26.1121 Q1309.04 26.1121 1313.9 31.2163 Q1318.76 36.3204 1318.76 46.6907 Z\" fill=\"#000000\" fill-rule=\"evenodd\" fill-opacity=\"1\" /><path clip-path=\"url(#clip000)\" d=\"M1341.49 14.324 L1341.49 27.2059 L1356.84 27.2059 L1356.84 32.9987 L1341.49 32.9987 L1341.49 57.6282 Q1341.49 63.1779 1342.99 64.7578 Q1344.53 66.3376 1349.18 66.3376 L1356.84 66.3376 L1356.84 72.576 L1349.18 72.576 Q1340.56 72.576 1337.27 69.3758 Q1333.99 66.1351 1333.99 57.6282 L1333.99 32.9987 L1328.52 32.9987 L1328.52 27.2059 L1333.99 27.2059 L1333.99 14.324 L1341.49 14.324 Z\" fill=\"#000000\" fill-rule=\"evenodd\" fill-opacity=\"1\" /><path clip-path=\"url(#clip000)\" d=\"M1366.64 27.2059 L1374.1 27.2059 L1374.1 72.576 L1366.64 72.576 L1366.64 27.2059 M1366.64 9.54393 L1374.1 9.54393 L1374.1 18.9825 L1366.64 18.9825 L1366.64 9.54393 Z\" fill=\"#000000\" fill-rule=\"evenodd\" fill-opacity=\"1\" /><path clip-path=\"url(#clip000)\" d=\"M1407.27 32.4315 Q1401.28 32.4315 1397.8 37.1306 Q1394.31 41.7891 1394.31 49.9314 Q1394.31 58.0738 1397.75 62.7728 Q1401.24 67.4314 1407.27 67.4314 Q1413.23 67.4314 1416.71 62.7323 Q1420.2 58.0333 1420.2 49.9314 Q1420.2 41.8701 1416.71 37.1711 Q1413.23 32.4315 1407.27 32.4315 M1407.27 26.1121 Q1417 26.1121 1422.55 32.4315 Q1428.1 38.7509 1428.1 49.9314 Q1428.1 61.0714 1422.55 67.4314 Q1417 73.7508 1407.27 73.7508 Q1397.51 73.7508 1391.96 67.4314 Q1386.45 61.0714 1386.45 49.9314 Q1386.45 38.7509 1391.96 32.4315 Q1397.51 26.1121 1407.27 26.1121 Z\" fill=\"#000000\" fill-rule=\"evenodd\" fill-opacity=\"1\" /><path clip-path=\"url(#clip000)\" d=\"M1478.17 45.1919 L1478.17 72.576 L1470.71 72.576 L1470.71 45.4349 Q1470.71 38.994 1468.2 35.7938 Q1465.69 32.5936 1460.67 32.5936 Q1454.63 32.5936 1451.15 36.4419 Q1447.66 40.2903 1447.66 46.9338 L1447.66 72.576 L1440.17 72.576 L1440.17 27.2059 L1447.66 27.2059 L1447.66 34.2544 Q1450.34 30.163 1453.94 28.1376 Q1457.59 26.1121 1462.33 26.1121 Q1470.14 26.1121 1474.15 30.9732 Q1478.17 35.7938 1478.17 45.1919 Z\" fill=\"#000000\" fill-rule=\"evenodd\" fill-opacity=\"1\" /><path clip-path=\"url(#clip000)\" d=\"M1542.45 50.8226 Q1542.45 56.6154 1545.33 59.9372 Q1548.21 63.2184 1553.23 63.2184 Q1558.21 63.2184 1561.05 59.8967 Q1563.92 56.5749 1563.92 50.8226 Q1563.92 45.1514 1561.01 41.8296 Q1558.09 38.4674 1553.15 38.4674 Q1548.25 38.4674 1545.33 41.7891 Q1542.45 45.1109 1542.45 50.8226 M1564.53 62.9348 Q1562.1 66.054 1558.94 67.5529 Q1555.82 69.0112 1551.65 69.0112 Q1544.68 69.0112 1540.31 63.9881 Q1535.97 58.9245 1535.97 50.8226 Q1535.97 42.7208 1540.35 37.6572 Q1544.72 32.5936 1551.65 32.5936 Q1555.82 32.5936 1558.98 34.1329 Q1562.14 35.6318 1564.53 38.7104 L1564.53 33.4038 L1570.32 33.4038 L1570.32 63.2184 Q1576.24 62.3272 1579.56 57.8307 Q1582.92 53.2937 1582.92 46.1236 Q1582.92 41.7891 1581.63 37.9813 Q1580.37 34.1734 1577.78 30.9327 Q1573.56 25.626 1567.49 22.8309 Q1561.45 19.9953 1554.32 19.9953 Q1549.34 19.9953 1544.76 21.3321 Q1540.18 22.6284 1536.3 25.2209 Q1529.94 29.3529 1526.33 36.0774 Q1522.77 42.7613 1522.77 50.5796 Q1522.77 57.0205 1525.07 62.6513 Q1527.42 68.282 1531.84 72.576 Q1536.09 76.7889 1541.68 78.9764 Q1547.27 81.2044 1553.63 81.2044 Q1558.86 81.2044 1563.88 79.422 Q1568.95 77.6801 1573.16 74.3989 L1576.8 78.8954 Q1571.74 82.8248 1565.75 84.8907 Q1559.79 86.9972 1553.63 86.9972 Q1546.14 86.9972 1539.5 84.3236 Q1532.85 81.6905 1527.67 76.6269 Q1522.48 71.5633 1519.77 64.9198 Q1517.05 58.2358 1517.05 50.5796 Q1517.05 43.2069 1519.81 36.523 Q1522.56 29.839 1527.67 24.7753 Q1532.89 19.6307 1539.74 16.9166 Q1546.59 14.162 1554.24 14.162 Q1562.83 14.162 1570.16 17.6862 Q1577.53 21.2105 1582.52 27.692 Q1585.55 31.6619 1587.13 36.3204 Q1588.75 40.9789 1588.75 45.9616 Q1588.75 56.6154 1582.31 62.7728 Q1575.87 68.9302 1564.53 69.1732 L1564.53 62.9348 Z\" fill=\"#000000\" fill-rule=\"evenodd\" fill-opacity=\"1\" /><path clip-path=\"url(#clip000)\" d=\"M1628.45 9.54393 L1635.95 9.54393 L1635.95 46.7717 L1658.19 27.2059 L1667.71 27.2059 L1643.64 48.4326 L1668.72 72.576 L1659 72.576 L1635.95 50.4176 L1635.95 72.576 L1628.45 72.576 L1628.45 9.54393 Z\" fill=\"#000000\" fill-rule=\"evenodd\" fill-opacity=\"1\" /><path clip-path=\"url(#clip000)\" d=\"M1704.12 34.9026 L1756.06 34.9026 L1756.06 41.7081 L1704.12 41.7081 L1704.12 34.9026 M1704.12 51.4303 L1756.06 51.4303 L1756.06 58.3168 L1704.12 58.3168 L1704.12 51.4303 Z\" fill=\"#000000\" fill-rule=\"evenodd\" fill-opacity=\"1\" /><path clip-path=\"url(#clip000)\" d=\"M1824.88 39.9662 Q1830.76 41.222 1834.04 45.1919 Q1837.36 49.1618 1837.36 54.9951 Q1837.36 63.9476 1831.2 68.8492 Q1825.04 73.7508 1813.7 73.7508 Q1809.89 73.7508 1805.84 72.9811 Q1801.83 72.2519 1797.54 70.7531 L1797.54 62.8538 Q1800.94 64.8388 1804.99 65.8515 Q1809.04 66.8642 1813.46 66.8642 Q1821.16 66.8642 1825.17 63.826 Q1829.22 60.7879 1829.22 54.9951 Q1829.22 49.6479 1825.45 46.6502 Q1821.72 43.612 1815.04 43.612 L1807.99 43.612 L1807.99 36.8875 L1815.36 36.8875 Q1821.4 36.8875 1824.6 34.4975 Q1827.8 32.067 1827.8 27.5299 Q1827.8 22.8714 1824.48 20.4004 Q1821.2 17.8888 1815.04 17.8888 Q1811.68 17.8888 1807.83 18.618 Q1803.98 19.3471 1799.36 20.8865 L1799.36 13.5948 Q1804.02 12.2985 1808.07 11.6504 Q1812.16 11.0023 1815.77 11.0023 Q1825.08 11.0023 1830.51 15.2557 Q1835.94 19.4686 1835.94 26.6793 Q1835.94 31.7024 1833.07 35.1862 Q1830.19 38.6294 1824.88 39.9662 Z\" fill=\"#000000\" fill-rule=\"evenodd\" fill-opacity=\"1\" /><circle clip-path=\"url(#clip002)\" cx=\"256.7\" cy=\"1405.91\" r=\"14\" fill=\"#009af9\" fill-rule=\"evenodd\" fill-opacity=\"1\" stroke=\"#000000\" stroke-opacity=\"1\" stroke-width=\"3.2\"/>\n",
       "<circle clip-path=\"url(#clip002)\" cx=\"259.64\" cy=\"1368.86\" r=\"14\" fill=\"#009af9\" fill-rule=\"evenodd\" fill-opacity=\"1\" stroke=\"#000000\" stroke-opacity=\"1\" stroke-width=\"3.2\"/>\n",
       "<circle clip-path=\"url(#clip002)\" cx=\"262.58\" cy=\"1331.8\" r=\"14\" fill=\"#009af9\" fill-rule=\"evenodd\" fill-opacity=\"1\" stroke=\"#000000\" stroke-opacity=\"1\" stroke-width=\"3.2\"/>\n",
       "<circle clip-path=\"url(#clip002)\" cx=\"268.459\" cy=\"1257.7\" r=\"14\" fill=\"#009af9\" fill-rule=\"evenodd\" fill-opacity=\"1\" stroke=\"#000000\" stroke-opacity=\"1\" stroke-width=\"3.2\"/>\n",
       "<circle clip-path=\"url(#clip002)\" cx=\"280.217\" cy=\"1146.54\" r=\"14\" fill=\"#009af9\" fill-rule=\"evenodd\" fill-opacity=\"1\" stroke=\"#000000\" stroke-opacity=\"1\" stroke-width=\"3.2\"/>\n",
       "<circle clip-path=\"url(#clip002)\" cx=\"303.734\" cy=\"924.233\" r=\"14\" fill=\"#009af9\" fill-rule=\"evenodd\" fill-opacity=\"1\" stroke=\"#000000\" stroke-opacity=\"1\" stroke-width=\"3.2\"/>\n",
       "<circle clip-path=\"url(#clip002)\" cx=\"350.768\" cy=\"627.819\" r=\"14\" fill=\"#009af9\" fill-rule=\"evenodd\" fill-opacity=\"1\" stroke=\"#000000\" stroke-opacity=\"1\" stroke-width=\"3.2\"/>\n",
       "<circle clip-path=\"url(#clip002)\" cx=\"444.835\" cy=\"479.611\" r=\"14\" fill=\"#009af9\" fill-rule=\"evenodd\" fill-opacity=\"1\" stroke=\"#000000\" stroke-opacity=\"1\" stroke-width=\"3.2\"/>\n",
       "<circle clip-path=\"url(#clip002)\" cx=\"632.97\" cy=\"257.3\" r=\"14\" fill=\"#009af9\" fill-rule=\"evenodd\" fill-opacity=\"1\" stroke=\"#000000\" stroke-opacity=\"1\" stroke-width=\"3.2\"/>\n",
       "<circle clip-path=\"url(#clip002)\" cx=\"1009.24\" cy=\"257.3\" r=\"14\" fill=\"#009af9\" fill-rule=\"evenodd\" fill-opacity=\"1\" stroke=\"#000000\" stroke-opacity=\"1\" stroke-width=\"3.2\"/>\n",
       "<circle clip-path=\"url(#clip002)\" cx=\"1761.78\" cy=\"257.3\" r=\"14\" fill=\"#009af9\" fill-rule=\"evenodd\" fill-opacity=\"1\" stroke=\"#000000\" stroke-opacity=\"1\" stroke-width=\"3.2\"/>\n",
       "<circle clip-path=\"url(#clip002)\" cx=\"2143.93\" cy=\"220.249\" r=\"14\" fill=\"#009af9\" fill-rule=\"evenodd\" fill-opacity=\"1\" stroke=\"#000000\" stroke-opacity=\"1\" stroke-width=\"3.2\"/>\n",
       "<polyline clip-path=\"url(#clip002)\" style=\"stroke:#e26f46; stroke-linecap:butt; stroke-linejoin:round; stroke-width:4; stroke-opacity:1; fill:none\" points=\"\n",
       "  -1800.38,220.249 4201,220.249 \n",
       "  \"/>\n",
       "<polyline clip-path=\"url(#clip002)\" style=\"stroke:#3da44d; stroke-linecap:butt; stroke-linejoin:round; stroke-width:4; stroke-opacity:1; fill:none\" points=\"\n",
       "  -1800.38,146.145 4201,146.145 \n",
       "  \"/>\n",
       "<polyline clip-path=\"url(#clip002)\" style=\"stroke:#c271d2; stroke-linecap:butt; stroke-linejoin:round; stroke-width:4; stroke-opacity:1; fill:none\" points=\"\n",
       "  327.251,2779.05 327.251,-1227 \n",
       "  \"/>\n",
       "<polyline clip-path=\"url(#clip002)\" style=\"stroke:#ac8d18; stroke-linecap:butt; stroke-linejoin:round; stroke-width:4; stroke-opacity:1; fill:none\" points=\"\n",
       "  256.7,1405.91 259.64,1354.99 262.58,1308.04 268.459,1224.31 280.217,1088.53 303.734,899.052 327.251,773.125 350.768,683.368 444.835,488.088 632.97,344.678 \n",
       "  1009.24,254.744 1761.78,203.807 2143.93,192.939 \n",
       "  \"/>\n",
       "<path clip-path=\"url(#clip000)\" d=\"\n",
       "M2298.97 463.904 L3152.76 463.904 L3152.76 152.864 L2298.97 152.864  Z\n",
       "  \" fill=\"#ffffff\" fill-rule=\"evenodd\" fill-opacity=\"1\"/>\n",
       "<polyline clip-path=\"url(#clip000)\" style=\"stroke:#000000; stroke-linecap:butt; stroke-linejoin:round; stroke-width:4; stroke-opacity:1; fill:none\" points=\"\n",
       "  2298.97,463.904 3152.76,463.904 3152.76,152.864 2298.97,152.864 2298.97,463.904 \n",
       "  \"/>\n",
       "<circle clip-path=\"url(#clip000)\" cx=\"2430.2\" cy=\"204.704\" r=\"23\" fill=\"#009af9\" fill-rule=\"evenodd\" fill-opacity=\"1\" stroke=\"#000000\" stroke-opacity=\"1\" stroke-width=\"5.12\"/>\n",
       "<path clip-path=\"url(#clip000)\" d=\"M2573.32 199.044 Q2569.9 199.044 2567.91 201.729 Q2565.92 204.391 2565.92 209.044 Q2565.92 213.697 2567.88 216.382 Q2569.88 219.044 2573.32 219.044 Q2576.73 219.044 2578.72 216.359 Q2580.71 213.674 2580.71 209.044 Q2580.71 204.438 2578.72 201.752 Q2576.73 199.044 2573.32 199.044 M2573.32 195.433 Q2578.88 195.433 2582.05 199.044 Q2585.22 202.655 2585.22 209.044 Q2585.22 215.41 2582.05 219.044 Q2578.88 222.655 2573.32 222.655 Q2567.75 222.655 2564.57 219.044 Q2561.43 215.41 2561.43 209.044 Q2561.43 202.655 2564.57 199.044 Q2567.75 195.433 2573.32 195.433 Z\" fill=\"#000000\" fill-rule=\"evenodd\" fill-opacity=\"1\" /><path clip-path=\"url(#clip000)\" d=\"M2610.89 209.044 Q2610.89 204.345 2608.95 201.683 Q2607.03 198.998 2603.65 198.998 Q2600.27 198.998 2598.32 201.683 Q2596.4 204.345 2596.4 209.044 Q2596.4 213.743 2598.32 216.428 Q2600.27 219.09 2603.65 219.09 Q2607.03 219.09 2608.95 216.428 Q2610.89 213.743 2610.89 209.044 M2596.4 199.993 Q2597.75 197.678 2599.78 196.567 Q2601.84 195.433 2604.69 195.433 Q2609.41 195.433 2612.35 199.183 Q2615.31 202.933 2615.31 209.044 Q2615.31 215.155 2612.35 218.905 Q2609.41 222.655 2604.69 222.655 Q2601.84 222.655 2599.78 221.544 Q2597.75 220.41 2596.4 218.095 L2596.4 221.984 L2592.12 221.984 L2592.12 185.965 L2596.4 185.965 L2596.4 199.993 Z\" fill=\"#000000\" fill-rule=\"evenodd\" fill-opacity=\"1\" /><path clip-path=\"url(#clip000)\" d=\"M2638.9 196.822 L2638.9 200.85 Q2637.1 199.924 2635.15 199.461 Q2633.21 198.998 2631.12 198.998 Q2627.95 198.998 2626.36 199.97 Q2624.78 200.942 2624.78 202.887 Q2624.78 204.368 2625.92 205.225 Q2627.05 206.058 2630.48 206.822 L2631.94 207.146 Q2636.47 208.118 2638.37 209.9 Q2640.29 211.66 2640.29 214.831 Q2640.29 218.442 2637.42 220.549 Q2634.57 222.655 2629.57 222.655 Q2627.49 222.655 2625.22 222.238 Q2622.98 221.845 2620.48 221.035 L2620.48 216.637 Q2622.84 217.863 2625.13 218.488 Q2627.42 219.09 2629.67 219.09 Q2632.68 219.09 2634.3 218.072 Q2635.92 217.03 2635.92 215.155 Q2635.92 213.419 2634.74 212.493 Q2633.58 211.567 2629.62 210.711 L2628.14 210.363 Q2624.18 209.53 2622.42 207.817 Q2620.66 206.081 2620.66 203.072 Q2620.66 199.414 2623.25 197.424 Q2625.85 195.433 2630.62 195.433 Q2632.98 195.433 2635.06 195.78 Q2637.14 196.127 2638.9 196.822 Z\" fill=\"#000000\" fill-rule=\"evenodd\" fill-opacity=\"1\" /><path clip-path=\"url(#clip000)\" d=\"M2669.25 207.956 L2669.25 210.039 L2649.67 210.039 Q2649.94 214.437 2652.31 216.752 Q2654.69 219.044 2658.93 219.044 Q2661.38 219.044 2663.67 218.442 Q2665.99 217.84 2668.25 216.637 L2668.25 220.664 Q2665.96 221.636 2663.56 222.146 Q2661.15 222.655 2658.67 222.655 Q2652.47 222.655 2648.83 219.044 Q2645.22 215.433 2645.22 209.275 Q2645.22 202.91 2648.65 199.183 Q2652.1 195.433 2657.93 195.433 Q2663.16 195.433 2666.19 198.813 Q2669.25 202.169 2669.25 207.956 M2664.99 206.706 Q2664.94 203.211 2663.02 201.127 Q2661.12 199.044 2657.98 199.044 Q2654.41 199.044 2652.26 201.058 Q2650.13 203.072 2649.81 206.729 L2664.99 206.706 Z\" fill=\"#000000\" fill-rule=\"evenodd\" fill-opacity=\"1\" /><path clip-path=\"url(#clip000)\" d=\"M2691.26 200.039 Q2690.55 199.623 2689.69 199.438 Q2688.86 199.229 2687.84 199.229 Q2684.23 199.229 2682.28 201.59 Q2680.36 203.928 2680.36 208.326 L2680.36 221.984 L2676.08 221.984 L2676.08 196.058 L2680.36 196.058 L2680.36 200.086 Q2681.7 197.725 2683.86 196.59 Q2686.01 195.433 2689.09 195.433 Q2689.53 195.433 2690.06 195.502 Q2690.59 195.549 2691.24 195.664 L2691.26 200.039 Z\" fill=\"#000000\" fill-rule=\"evenodd\" fill-opacity=\"1\" /><path clip-path=\"url(#clip000)\" d=\"M2692.68 196.058 L2697.19 196.058 L2705.29 217.817 L2713.39 196.058 L2717.91 196.058 L2708.18 221.984 L2702.4 221.984 L2692.68 196.058 Z\" fill=\"#000000\" fill-rule=\"evenodd\" fill-opacity=\"1\" /><path clip-path=\"url(#clip000)\" d=\"M2745.96 207.956 L2745.96 210.039 L2726.38 210.039 Q2726.66 214.437 2729.02 216.752 Q2731.4 219.044 2735.64 219.044 Q2738.09 219.044 2740.38 218.442 Q2742.7 217.84 2744.97 216.637 L2744.97 220.664 Q2742.68 221.636 2740.27 222.146 Q2737.86 222.655 2735.38 222.655 Q2729.18 222.655 2725.55 219.044 Q2721.93 215.433 2721.93 209.275 Q2721.93 202.91 2725.36 199.183 Q2728.81 195.433 2734.64 195.433 Q2739.87 195.433 2742.91 198.813 Q2745.96 202.169 2745.96 207.956 M2741.7 206.706 Q2741.66 203.211 2739.74 201.127 Q2737.84 199.044 2734.69 199.044 Q2731.12 199.044 2728.97 201.058 Q2726.84 203.072 2726.52 206.729 L2741.7 206.706 Z\" fill=\"#000000\" fill-rule=\"evenodd\" fill-opacity=\"1\" /><path clip-path=\"url(#clip000)\" d=\"M2770.01 199.993 L2770.01 185.965 L2774.27 185.965 L2774.27 221.984 L2770.01 221.984 L2770.01 218.095 Q2768.67 220.41 2766.61 221.544 Q2764.57 222.655 2761.7 222.655 Q2757 222.655 2754.04 218.905 Q2751.1 215.155 2751.1 209.044 Q2751.1 202.933 2754.04 199.183 Q2757 195.433 2761.7 195.433 Q2764.57 195.433 2766.61 196.567 Q2768.67 197.678 2770.01 199.993 M2755.5 209.044 Q2755.5 213.743 2757.42 216.428 Q2759.36 219.09 2762.74 219.09 Q2766.12 219.09 2768.07 216.428 Q2770.01 213.743 2770.01 209.044 Q2770.01 204.345 2768.07 201.683 Q2766.12 198.998 2762.74 198.998 Q2759.36 198.998 2757.42 201.683 Q2755.5 204.345 2755.5 209.044 Z\" fill=\"#000000\" fill-rule=\"evenodd\" fill-opacity=\"1\" /><path clip-path=\"url(#clip000)\" d=\"M2797.95 185.965 L2802.24 185.965 L2802.24 207.238 L2814.94 196.058 L2820.38 196.058 L2806.63 208.187 L2820.96 221.984 L2815.41 221.984 L2802.24 209.322 L2802.24 221.984 L2797.95 221.984 L2797.95 185.965 Z\" fill=\"#000000\" fill-rule=\"evenodd\" fill-opacity=\"1\" /><path clip-path=\"url(#clip000)\" d=\"M2845.75 201.035 Q2847.35 198.164 2849.57 196.799 Q2851.8 195.433 2854.8 195.433 Q2858.86 195.433 2861.05 198.28 Q2863.25 201.104 2863.25 206.336 L2863.25 221.984 L2858.97 221.984 L2858.97 206.475 Q2858.97 202.748 2857.65 200.942 Q2856.33 199.137 2853.62 199.137 Q2850.31 199.137 2848.39 201.336 Q2846.47 203.535 2846.47 207.331 L2846.47 221.984 L2842.19 221.984 L2842.19 206.475 Q2842.19 202.725 2840.87 200.942 Q2839.55 199.137 2836.8 199.137 Q2833.53 199.137 2831.61 201.359 Q2829.69 203.558 2829.69 207.331 L2829.69 221.984 L2825.41 221.984 L2825.41 196.058 L2829.69 196.058 L2829.69 200.086 Q2831.15 197.701 2833.18 196.567 Q2835.22 195.433 2838.02 195.433 Q2840.85 195.433 2842.81 196.868 Q2844.8 198.303 2845.75 201.035 Z\" fill=\"#000000\" fill-rule=\"evenodd\" fill-opacity=\"1\" /><path clip-path=\"url(#clip000)\" d=\"M2893.92 207.956 L2893.92 210.039 L2874.34 210.039 Q2874.62 214.437 2876.98 216.752 Q2879.36 219.044 2883.6 219.044 Q2886.05 219.044 2888.35 218.442 Q2890.66 217.84 2892.93 216.637 L2892.93 220.664 Q2890.64 221.636 2888.23 222.146 Q2885.82 222.655 2883.35 222.655 Q2877.14 222.655 2873.51 219.044 Q2869.9 215.433 2869.9 209.275 Q2869.9 202.91 2873.32 199.183 Q2876.77 195.433 2882.61 195.433 Q2887.84 195.433 2890.87 198.813 Q2893.92 202.169 2893.92 207.956 M2889.67 206.706 Q2889.62 203.211 2887.7 201.127 Q2885.8 199.044 2882.65 199.044 Q2879.09 199.044 2876.93 201.058 Q2874.8 203.072 2874.48 206.729 L2889.67 206.706 Z\" fill=\"#000000\" fill-rule=\"evenodd\" fill-opacity=\"1\" /><path clip-path=\"url(#clip000)\" d=\"M2915.94 200.039 Q2915.22 199.623 2914.36 199.438 Q2913.53 199.229 2912.51 199.229 Q2908.9 199.229 2906.96 201.59 Q2905.04 203.928 2905.04 208.326 L2905.04 221.984 L2900.75 221.984 L2900.75 196.058 L2905.04 196.058 L2905.04 200.086 Q2906.38 197.725 2908.53 196.59 Q2910.68 195.433 2913.76 195.433 Q2914.2 195.433 2914.73 195.502 Q2915.27 195.549 2915.92 195.664 L2915.94 200.039 Z\" fill=\"#000000\" fill-rule=\"evenodd\" fill-opacity=\"1\" /><path clip-path=\"url(#clip000)\" d=\"M2954.13 197.053 L2954.13 201.035 Q2952.33 200.039 2950.5 199.553 Q2948.69 199.044 2946.84 199.044 Q2942.7 199.044 2940.41 201.683 Q2938.11 204.299 2938.11 209.044 Q2938.11 213.789 2940.41 216.428 Q2942.7 219.044 2946.84 219.044 Q2948.69 219.044 2950.5 218.558 Q2952.33 218.049 2954.13 217.053 L2954.13 220.988 Q2952.35 221.822 2950.43 222.238 Q2948.53 222.655 2946.38 222.655 Q2940.52 222.655 2937.07 218.974 Q2933.62 215.294 2933.62 209.044 Q2933.62 202.701 2937.1 199.067 Q2940.59 195.433 2946.66 195.433 Q2948.62 195.433 2950.5 195.85 Q2952.37 196.243 2954.13 197.053 Z\" fill=\"#000000\" fill-rule=\"evenodd\" fill-opacity=\"1\" /><path clip-path=\"url(#clip000)\" d=\"M2971.59 199.044 Q2968.16 199.044 2966.17 201.729 Q2964.18 204.391 2964.18 209.044 Q2964.18 213.697 2966.15 216.382 Q2968.14 219.044 2971.59 219.044 Q2974.99 219.044 2976.98 216.359 Q2978.97 213.674 2978.97 209.044 Q2978.97 204.438 2976.98 201.752 Q2974.99 199.044 2971.59 199.044 M2971.59 195.433 Q2977.14 195.433 2980.31 199.044 Q2983.48 202.655 2983.48 209.044 Q2983.48 215.41 2980.31 219.044 Q2977.14 222.655 2971.59 222.655 Q2966.01 222.655 2962.84 219.044 Q2959.69 215.41 2959.69 209.044 Q2959.69 202.655 2962.84 199.044 Q2966.01 195.433 2971.59 195.433 Z\" fill=\"#000000\" fill-rule=\"evenodd\" fill-opacity=\"1\" /><path clip-path=\"url(#clip000)\" d=\"M2990.1 211.752 L2990.1 196.058 L2994.36 196.058 L2994.36 211.59 Q2994.36 215.271 2995.8 217.123 Q2997.23 218.951 3000.1 218.951 Q3003.55 218.951 3005.54 216.752 Q3007.56 214.553 3007.56 210.757 L3007.56 196.058 L3011.82 196.058 L3011.82 221.984 L3007.56 221.984 L3007.56 218.002 Q3006.01 220.363 3003.95 221.521 Q3001.91 222.655 2999.2 222.655 Q2994.73 222.655 2992.42 219.877 Q2990.1 217.099 2990.1 211.752 M3000.82 195.433 L3000.82 195.433 Z\" fill=\"#000000\" fill-rule=\"evenodd\" fill-opacity=\"1\" /><path clip-path=\"url(#clip000)\" d=\"M3042.14 206.336 L3042.14 221.984 L3037.88 221.984 L3037.88 206.475 Q3037.88 202.794 3036.45 200.965 Q3035.01 199.137 3032.14 199.137 Q3028.69 199.137 3026.7 201.336 Q3024.71 203.535 3024.71 207.331 L3024.71 221.984 L3020.43 221.984 L3020.43 196.058 L3024.71 196.058 L3024.71 200.086 Q3026.24 197.748 3028.3 196.59 Q3030.38 195.433 3033.09 195.433 Q3037.56 195.433 3039.85 198.211 Q3042.14 200.965 3042.14 206.336 Z\" fill=\"#000000\" fill-rule=\"evenodd\" fill-opacity=\"1\" /><path clip-path=\"url(#clip000)\" d=\"M3054.85 188.697 L3054.85 196.058 L3063.62 196.058 L3063.62 199.368 L3054.85 199.368 L3054.85 213.442 Q3054.85 216.613 3055.71 217.516 Q3056.59 218.419 3059.25 218.419 L3063.62 218.419 L3063.62 221.984 L3059.25 221.984 Q3054.32 221.984 3052.44 220.155 Q3050.57 218.303 3050.57 213.442 L3050.57 199.368 L3047.44 199.368 L3047.44 196.058 L3050.57 196.058 L3050.57 188.697 L3054.85 188.697 Z\" fill=\"#000000\" fill-rule=\"evenodd\" fill-opacity=\"1\" /><path clip-path=\"url(#clip000)\" d=\"M3085.75 196.822 L3085.75 200.85 Q3083.95 199.924 3082 199.461 Q3080.06 198.998 3077.97 198.998 Q3074.8 198.998 3073.21 199.97 Q3071.63 200.942 3071.63 202.887 Q3071.63 204.368 3072.77 205.225 Q3073.9 206.058 3077.33 206.822 L3078.78 207.146 Q3083.32 208.118 3085.22 209.9 Q3087.14 211.66 3087.14 214.831 Q3087.14 218.442 3084.27 220.549 Q3081.42 222.655 3076.42 222.655 Q3074.34 222.655 3072.07 222.238 Q3069.83 221.845 3067.33 221.035 L3067.33 216.637 Q3069.69 217.863 3071.98 218.488 Q3074.27 219.09 3076.52 219.09 Q3079.53 219.09 3081.15 218.072 Q3082.77 217.03 3082.77 215.155 Q3082.77 213.419 3081.59 212.493 Q3080.43 211.567 3076.47 210.711 L3074.99 210.363 Q3071.03 209.53 3069.27 207.817 Q3067.51 206.081 3067.51 203.072 Q3067.51 199.414 3070.1 197.424 Q3072.7 195.433 3077.47 195.433 Q3079.83 195.433 3081.91 195.78 Q3083.99 196.127 3085.75 196.822 Z\" fill=\"#000000\" fill-rule=\"evenodd\" fill-opacity=\"1\" /><polyline clip-path=\"url(#clip000)\" style=\"stroke:#e26f46; stroke-linecap:butt; stroke-linejoin:round; stroke-width:4; stroke-opacity:1; fill:none\" points=\"\n",
       "  2331.77,256.544 2528.62,256.544 \n",
       "  \"/>\n",
       "<path clip-path=\"url(#clip000)\" d=\"M2574.83 260.791 Q2569.67 260.791 2567.68 261.972 Q2565.69 263.152 2565.69 266 Q2565.69 268.268 2567.17 269.611 Q2568.67 270.93 2571.24 270.93 Q2574.78 270.93 2576.91 268.43 Q2579.06 265.907 2579.06 261.74 L2579.06 260.791 L2574.83 260.791 M2583.32 259.032 L2583.32 273.824 L2579.06 273.824 L2579.06 269.889 Q2577.61 272.25 2575.43 273.384 Q2573.25 274.495 2570.11 274.495 Q2566.13 274.495 2563.76 272.273 Q2561.43 270.027 2561.43 266.277 Q2561.43 261.902 2564.34 259.68 Q2567.28 257.458 2573.09 257.458 L2579.06 257.458 L2579.06 257.041 Q2579.06 254.102 2577.12 252.504 Q2575.2 250.884 2571.7 250.884 Q2569.48 250.884 2567.38 251.416 Q2565.27 251.949 2563.32 253.014 L2563.32 249.078 Q2565.66 248.176 2567.86 247.736 Q2570.06 247.273 2572.14 247.273 Q2577.77 247.273 2580.55 250.19 Q2583.32 253.106 2583.32 259.032 Z\" fill=\"#000000\" fill-rule=\"evenodd\" fill-opacity=\"1\" /><path clip-path=\"url(#clip000)\" d=\"M2610.71 260.884 Q2610.71 256.185 2608.76 253.523 Q2606.84 250.838 2603.46 250.838 Q2600.08 250.838 2598.14 253.523 Q2596.22 256.185 2596.22 260.884 Q2596.22 265.583 2598.14 268.268 Q2600.08 270.93 2603.46 270.93 Q2606.84 270.93 2608.76 268.268 Q2610.71 265.583 2610.71 260.884 M2596.22 251.833 Q2597.56 249.518 2599.6 248.407 Q2601.66 247.273 2604.5 247.273 Q2609.23 247.273 2612.17 251.023 Q2615.13 254.773 2615.13 260.884 Q2615.13 266.995 2612.17 270.745 Q2609.23 274.495 2604.5 274.495 Q2601.66 274.495 2599.6 273.384 Q2597.56 272.25 2596.22 269.935 L2596.22 273.824 L2591.94 273.824 L2591.94 237.805 L2596.22 237.805 L2596.22 251.833 Z\" fill=\"#000000\" fill-rule=\"evenodd\" fill-opacity=\"1\" /><path clip-path=\"url(#clip000)\" d=\"M2638.72 248.662 L2638.72 252.69 Q2636.91 251.764 2634.97 251.301 Q2633.02 250.838 2630.94 250.838 Q2627.77 250.838 2626.17 251.81 Q2624.6 252.782 2624.6 254.727 Q2624.6 256.208 2625.73 257.065 Q2626.87 257.898 2630.29 258.662 L2631.75 258.986 Q2636.29 259.958 2638.19 261.74 Q2640.11 263.5 2640.11 266.671 Q2640.11 270.282 2637.24 272.389 Q2634.39 274.495 2629.39 274.495 Q2627.31 274.495 2625.04 274.078 Q2622.79 273.685 2620.29 272.875 L2620.29 268.477 Q2622.65 269.703 2624.94 270.328 Q2627.24 270.93 2629.48 270.93 Q2632.49 270.93 2634.11 269.912 Q2635.73 268.87 2635.73 266.995 Q2635.73 265.259 2634.55 264.333 Q2633.39 263.407 2629.44 262.551 L2627.95 262.203 Q2624 261.37 2622.24 259.657 Q2620.48 257.921 2620.48 254.912 Q2620.48 251.254 2623.07 249.264 Q2625.66 247.273 2630.43 247.273 Q2632.79 247.273 2634.87 247.62 Q2636.96 247.967 2638.72 248.662 Z\" fill=\"#000000\" fill-rule=\"evenodd\" fill-opacity=\"1\" /><path clip-path=\"url(#clip000)\" d=\"M2656.93 250.884 Q2653.51 250.884 2651.52 253.569 Q2649.53 256.231 2649.53 260.884 Q2649.53 265.537 2651.5 268.222 Q2653.49 270.884 2656.93 270.884 Q2660.34 270.884 2662.33 268.199 Q2664.32 265.514 2664.32 260.884 Q2664.32 256.278 2662.33 253.592 Q2660.34 250.884 2656.93 250.884 M2656.93 247.273 Q2662.49 247.273 2665.66 250.884 Q2668.83 254.495 2668.83 260.884 Q2668.83 267.25 2665.66 270.884 Q2662.49 274.495 2656.93 274.495 Q2651.36 274.495 2648.18 270.884 Q2645.04 267.25 2645.04 260.884 Q2645.04 254.495 2648.18 250.884 Q2651.36 247.273 2656.93 247.273 Z\" fill=\"#000000\" fill-rule=\"evenodd\" fill-opacity=\"1\" /><path clip-path=\"url(#clip000)\" d=\"M2675.89 237.805 L2680.15 237.805 L2680.15 273.824 L2675.89 273.824 L2675.89 237.805 Z\" fill=\"#000000\" fill-rule=\"evenodd\" fill-opacity=\"1\" /><path clip-path=\"url(#clip000)\" d=\"M2688.62 263.592 L2688.62 247.898 L2692.88 247.898 L2692.88 263.43 Q2692.88 267.111 2694.32 268.963 Q2695.75 270.791 2698.62 270.791 Q2702.07 270.791 2704.06 268.592 Q2706.08 266.393 2706.08 262.597 L2706.08 247.898 L2710.34 247.898 L2710.34 273.824 L2706.08 273.824 L2706.08 269.842 Q2704.53 272.203 2702.47 273.361 Q2700.43 274.495 2697.72 274.495 Q2693.25 274.495 2690.94 271.717 Q2688.62 268.939 2688.62 263.592 M2699.34 247.273 L2699.34 247.273 Z\" fill=\"#000000\" fill-rule=\"evenodd\" fill-opacity=\"1\" /><path clip-path=\"url(#clip000)\" d=\"M2723.32 240.537 L2723.32 247.898 L2732.1 247.898 L2732.1 251.208 L2723.32 251.208 L2723.32 265.282 Q2723.32 268.453 2724.18 269.356 Q2725.06 270.259 2727.72 270.259 L2732.1 270.259 L2732.1 273.824 L2727.72 273.824 Q2722.79 273.824 2720.92 271.995 Q2719.04 270.143 2719.04 265.282 L2719.04 251.208 L2715.92 251.208 L2715.92 247.898 L2719.04 247.898 L2719.04 240.537 L2723.32 240.537 Z\" fill=\"#000000\" fill-rule=\"evenodd\" fill-opacity=\"1\" /><path clip-path=\"url(#clip000)\" d=\"M2759.87 259.796 L2759.87 261.879 L2740.29 261.879 Q2740.57 266.277 2742.93 268.592 Q2745.31 270.884 2749.55 270.884 Q2752 270.884 2754.3 270.282 Q2756.61 269.68 2758.88 268.477 L2758.88 272.504 Q2756.59 273.476 2754.18 273.986 Q2751.77 274.495 2749.3 274.495 Q2743.09 274.495 2739.46 270.884 Q2735.85 267.273 2735.85 261.115 Q2735.85 254.75 2739.27 251.023 Q2742.72 247.273 2748.55 247.273 Q2753.79 247.273 2756.82 250.653 Q2759.87 254.009 2759.87 259.796 M2755.61 258.546 Q2755.57 255.051 2753.65 252.967 Q2751.75 250.884 2748.6 250.884 Q2745.04 250.884 2742.88 252.898 Q2740.75 254.912 2740.43 258.569 L2755.61 258.546 Z\" fill=\"#000000\" fill-rule=\"evenodd\" fill-opacity=\"1\" /><path clip-path=\"url(#clip000)\" d=\"M2802.12 252.875 Q2803.72 250.004 2805.94 248.639 Q2808.16 247.273 2811.17 247.273 Q2815.22 247.273 2817.42 250.12 Q2819.62 252.944 2819.62 258.176 L2819.62 273.824 L2815.34 273.824 L2815.34 258.315 Q2815.34 254.588 2814.02 252.782 Q2812.7 250.977 2809.99 250.977 Q2806.68 250.977 2804.76 253.176 Q2802.84 255.375 2802.84 259.171 L2802.84 273.824 L2798.55 273.824 L2798.55 258.315 Q2798.55 254.565 2797.24 252.782 Q2795.92 250.977 2793.16 250.977 Q2789.9 250.977 2787.98 253.199 Q2786.05 255.398 2786.05 259.171 L2786.05 273.824 L2781.77 273.824 L2781.77 247.898 L2786.05 247.898 L2786.05 251.926 Q2787.51 249.541 2789.55 248.407 Q2791.59 247.273 2794.39 247.273 Q2797.21 247.273 2799.18 248.708 Q2801.17 250.143 2802.12 252.875 Z\" fill=\"#000000\" fill-rule=\"evenodd\" fill-opacity=\"1\" /><path clip-path=\"url(#clip000)\" d=\"M2839.9 260.791 Q2834.73 260.791 2832.74 261.972 Q2830.75 263.152 2830.75 266 Q2830.75 268.268 2832.23 269.611 Q2833.74 270.93 2836.31 270.93 Q2839.85 270.93 2841.98 268.43 Q2844.13 265.907 2844.13 261.74 L2844.13 260.791 L2839.9 260.791 M2848.39 259.032 L2848.39 273.824 L2844.13 273.824 L2844.13 269.889 Q2842.67 272.25 2840.5 273.384 Q2838.32 274.495 2835.17 274.495 Q2831.19 274.495 2828.83 272.273 Q2826.49 270.027 2826.49 266.277 Q2826.49 261.902 2829.41 259.68 Q2832.35 257.458 2838.16 257.458 L2844.13 257.458 L2844.13 257.041 Q2844.13 254.102 2842.19 252.504 Q2840.27 250.884 2836.77 250.884 Q2834.55 250.884 2832.44 251.416 Q2830.34 251.949 2828.39 253.014 L2828.39 249.078 Q2830.73 248.176 2832.93 247.736 Q2835.13 247.273 2837.21 247.273 Q2842.84 247.273 2845.61 250.19 Q2848.39 253.106 2848.39 259.032 Z\" fill=\"#000000\" fill-rule=\"evenodd\" fill-opacity=\"1\" /><path clip-path=\"url(#clip000)\" d=\"M2878.72 247.898 L2869.34 260.514 L2879.2 273.824 L2874.18 273.824 L2866.63 263.639 L2859.09 273.824 L2854.06 273.824 L2864.13 260.259 L2854.92 247.898 L2859.94 247.898 L2866.82 257.134 L2873.69 247.898 L2878.72 247.898 Z\" fill=\"#000000\" fill-rule=\"evenodd\" fill-opacity=\"1\" /><path clip-path=\"url(#clip000)\" d=\"M2885.22 247.898 L2889.48 247.898 L2889.48 273.824 L2885.22 273.824 L2885.22 247.898 M2885.22 237.805 L2889.48 237.805 L2889.48 243.199 L2885.22 243.199 L2885.22 237.805 Z\" fill=\"#000000\" fill-rule=\"evenodd\" fill-opacity=\"1\" /><path clip-path=\"url(#clip000)\" d=\"M2918.58 252.875 Q2920.17 250.004 2922.4 248.639 Q2924.62 247.273 2927.63 247.273 Q2931.68 247.273 2933.88 250.12 Q2936.08 252.944 2936.08 258.176 L2936.08 273.824 L2931.79 273.824 L2931.79 258.315 Q2931.79 254.588 2930.48 252.782 Q2929.16 250.977 2926.45 250.977 Q2923.14 250.977 2921.22 253.176 Q2919.29 255.375 2919.29 259.171 L2919.29 273.824 L2915.01 273.824 L2915.01 258.315 Q2915.01 254.565 2913.69 252.782 Q2912.37 250.977 2909.62 250.977 Q2906.35 250.977 2904.43 253.199 Q2902.51 255.398 2902.51 259.171 L2902.51 273.824 L2898.23 273.824 L2898.23 247.898 L2902.51 247.898 L2902.51 251.926 Q2903.97 249.541 2906.01 248.407 Q2908.04 247.273 2910.85 247.273 Q2913.67 247.273 2915.64 248.708 Q2917.63 250.143 2918.58 252.875 Z\" fill=\"#000000\" fill-rule=\"evenodd\" fill-opacity=\"1\" /><path clip-path=\"url(#clip000)\" d=\"M2944.13 263.592 L2944.13 247.898 L2948.39 247.898 L2948.39 263.43 Q2948.39 267.111 2949.83 268.963 Q2951.26 270.791 2954.13 270.791 Q2957.58 270.791 2959.57 268.592 Q2961.59 266.393 2961.59 262.597 L2961.59 247.898 L2965.85 247.898 L2965.85 273.824 L2961.59 273.824 L2961.59 269.842 Q2960.04 272.203 2957.97 273.361 Q2955.94 274.495 2953.23 274.495 Q2948.76 274.495 2946.45 271.717 Q2944.13 268.939 2944.13 263.592 M2954.85 247.273 L2954.85 247.273 Z\" fill=\"#000000\" fill-rule=\"evenodd\" fill-opacity=\"1\" /><path clip-path=\"url(#clip000)\" d=\"M2994.8 252.875 Q2996.4 250.004 2998.62 248.639 Q3000.85 247.273 3003.85 247.273 Q3007.91 247.273 3010.1 250.12 Q3012.3 252.944 3012.3 258.176 L3012.3 273.824 L3008.02 273.824 L3008.02 258.315 Q3008.02 254.588 3006.7 252.782 Q3005.38 250.977 3002.67 250.977 Q2999.36 250.977 2997.44 253.176 Q2995.52 255.375 2995.52 259.171 L2995.52 273.824 L2991.24 273.824 L2991.24 258.315 Q2991.24 254.565 2989.92 252.782 Q2988.6 250.977 2985.85 250.977 Q2982.58 250.977 2980.66 253.199 Q2978.74 255.398 2978.74 259.171 L2978.74 273.824 L2974.46 273.824 L2974.46 247.898 L2978.74 247.898 L2978.74 251.926 Q2980.2 249.541 2982.23 248.407 Q2984.27 247.273 2987.07 247.273 Q2989.9 247.273 2991.86 248.708 Q2993.85 250.143 2994.8 252.875 Z\" fill=\"#000000\" fill-rule=\"evenodd\" fill-opacity=\"1\" /><polyline clip-path=\"url(#clip000)\" style=\"stroke:#3da44d; stroke-linecap:butt; stroke-linejoin:round; stroke-width:4; stroke-opacity:1; fill:none\" points=\"\n",
       "  2331.77,308.384 2528.62,308.384 \n",
       "  \"/>\n",
       "<path clip-path=\"url(#clip000)\" d=\"M2561.43 299.738 L2565.69 299.738 L2565.69 325.664 L2561.43 325.664 L2561.43 299.738 M2561.43 289.645 L2565.69 289.645 L2565.69 295.039 L2561.43 295.039 L2561.43 289.645 Z\" fill=\"#000000\" fill-rule=\"evenodd\" fill-opacity=\"1\" /><path clip-path=\"url(#clip000)\" d=\"M2596.15 310.016 L2596.15 325.664 L2591.89 325.664 L2591.89 310.155 Q2591.89 306.474 2590.45 304.645 Q2589.02 302.817 2586.15 302.817 Q2582.7 302.817 2580.71 305.016 Q2578.72 307.215 2578.72 311.011 L2578.72 325.664 L2574.44 325.664 L2574.44 299.738 L2578.72 299.738 L2578.72 303.766 Q2580.25 301.428 2582.31 300.27 Q2584.39 299.113 2587.1 299.113 Q2591.56 299.113 2593.86 301.891 Q2596.15 304.645 2596.15 310.016 Z\" fill=\"#000000\" fill-rule=\"evenodd\" fill-opacity=\"1\" /><path clip-path=\"url(#clip000)\" d=\"M2617.77 289.645 L2617.77 293.187 L2613.69 293.187 Q2611.4 293.187 2610.5 294.113 Q2609.62 295.039 2609.62 297.446 L2609.62 299.738 L2616.63 299.738 L2616.63 303.048 L2609.62 303.048 L2609.62 325.664 L2605.34 325.664 L2605.34 303.048 L2601.26 303.048 L2601.26 299.738 L2605.34 299.738 L2605.34 297.932 Q2605.34 293.604 2607.35 291.636 Q2609.37 289.645 2613.74 289.645 L2617.77 289.645 Z\" fill=\"#000000\" fill-rule=\"evenodd\" fill-opacity=\"1\" /><path clip-path=\"url(#clip000)\" d=\"M2643.51 311.636 L2643.51 313.719 L2623.93 313.719 Q2624.2 318.117 2626.56 320.432 Q2628.95 322.724 2633.19 322.724 Q2635.64 322.724 2637.93 322.122 Q2640.25 321.52 2642.51 320.317 L2642.51 324.344 Q2640.22 325.316 2637.81 325.826 Q2635.41 326.335 2632.93 326.335 Q2626.73 326.335 2623.09 322.724 Q2619.48 319.113 2619.48 312.955 Q2619.48 306.59 2622.91 302.863 Q2626.36 299.113 2632.19 299.113 Q2637.42 299.113 2640.45 302.493 Q2643.51 305.849 2643.51 311.636 M2639.25 310.386 Q2639.2 306.891 2637.28 304.807 Q2635.38 302.724 2632.24 302.724 Q2628.67 302.724 2626.52 304.738 Q2624.39 306.752 2624.06 310.409 L2639.25 310.386 Z\" fill=\"#000000\" fill-rule=\"evenodd\" fill-opacity=\"1\" /><path clip-path=\"url(#clip000)\" d=\"M2665.52 303.719 Q2664.81 303.303 2663.95 303.118 Q2663.12 302.909 2662.1 302.909 Q2658.49 302.909 2656.54 305.27 Q2654.62 307.608 2654.62 312.006 L2654.62 325.664 L2650.34 325.664 L2650.34 299.738 L2654.62 299.738 L2654.62 303.766 Q2655.96 301.405 2658.12 300.27 Q2660.27 299.113 2663.35 299.113 Q2663.79 299.113 2664.32 299.182 Q2664.85 299.229 2665.5 299.344 L2665.52 303.719 Z\" fill=\"#000000\" fill-rule=\"evenodd\" fill-opacity=\"1\" /><path clip-path=\"url(#clip000)\" d=\"M2684.18 303.719 Q2683.46 303.303 2682.61 303.118 Q2681.77 302.909 2680.75 302.909 Q2677.14 302.909 2675.2 305.27 Q2673.28 307.608 2673.28 312.006 L2673.28 325.664 L2669 325.664 L2669 299.738 L2673.28 299.738 L2673.28 303.766 Q2674.62 301.405 2676.77 300.27 Q2678.93 299.113 2682 299.113 Q2682.44 299.113 2682.98 299.182 Q2683.51 299.229 2684.16 299.344 L2684.18 303.719 Z\" fill=\"#000000\" fill-rule=\"evenodd\" fill-opacity=\"1\" /><path clip-path=\"url(#clip000)\" d=\"M2709.78 311.636 L2709.78 313.719 L2690.2 313.719 Q2690.48 318.117 2692.84 320.432 Q2695.22 322.724 2699.46 322.724 Q2701.91 322.724 2704.2 322.122 Q2706.52 321.52 2708.79 320.317 L2708.79 324.344 Q2706.49 325.316 2704.09 325.826 Q2701.68 326.335 2699.2 326.335 Q2693 326.335 2689.37 322.724 Q2685.75 319.113 2685.75 312.955 Q2685.75 306.59 2689.18 302.863 Q2692.63 299.113 2698.46 299.113 Q2703.69 299.113 2706.73 302.493 Q2709.78 305.849 2709.78 311.636 M2705.52 310.386 Q2705.48 306.891 2703.56 304.807 Q2701.66 302.724 2698.51 302.724 Q2694.94 302.724 2692.79 304.738 Q2690.66 306.752 2690.34 310.409 L2705.52 310.386 Z\" fill=\"#000000\" fill-rule=\"evenodd\" fill-opacity=\"1\" /><path clip-path=\"url(#clip000)\" d=\"M2733.83 303.673 L2733.83 289.645 L2738.09 289.645 L2738.09 325.664 L2733.83 325.664 L2733.83 321.775 Q2732.49 324.09 2730.43 325.224 Q2728.39 326.335 2725.52 326.335 Q2720.82 326.335 2717.86 322.585 Q2714.92 318.835 2714.92 312.724 Q2714.92 306.613 2717.86 302.863 Q2720.82 299.113 2725.52 299.113 Q2728.39 299.113 2730.43 300.247 Q2732.49 301.358 2733.83 303.673 M2719.32 312.724 Q2719.32 317.423 2721.24 320.108 Q2723.18 322.77 2726.56 322.77 Q2729.94 322.77 2731.89 320.108 Q2733.83 317.423 2733.83 312.724 Q2733.83 308.025 2731.89 305.363 Q2729.94 302.678 2726.56 302.678 Q2723.18 302.678 2721.24 305.363 Q2719.32 308.025 2719.32 312.724 Z\" fill=\"#000000\" fill-rule=\"evenodd\" fill-opacity=\"1\" /><path clip-path=\"url(#clip000)\" d=\"M2782.12 304.715 Q2783.72 301.844 2785.94 300.479 Q2788.16 299.113 2791.17 299.113 Q2795.22 299.113 2797.42 301.96 Q2799.62 304.784 2799.62 310.016 L2799.62 325.664 L2795.34 325.664 L2795.34 310.155 Q2795.34 306.428 2794.02 304.622 Q2792.7 302.817 2789.99 302.817 Q2786.68 302.817 2784.76 305.016 Q2782.84 307.215 2782.84 311.011 L2782.84 325.664 L2778.55 325.664 L2778.55 310.155 Q2778.55 306.405 2777.24 304.622 Q2775.92 302.817 2773.16 302.817 Q2769.9 302.817 2767.98 305.039 Q2766.05 307.238 2766.05 311.011 L2766.05 325.664 L2761.77 325.664 L2761.77 299.738 L2766.05 299.738 L2766.05 303.766 Q2767.51 301.381 2769.55 300.247 Q2771.59 299.113 2774.39 299.113 Q2777.21 299.113 2779.18 300.548 Q2781.17 301.983 2782.12 304.715 Z\" fill=\"#000000\" fill-rule=\"evenodd\" fill-opacity=\"1\" /><path clip-path=\"url(#clip000)\" d=\"M2819.9 312.631 Q2814.74 312.631 2812.74 313.812 Q2810.75 314.992 2810.75 317.84 Q2810.75 320.108 2812.24 321.451 Q2813.74 322.77 2816.31 322.77 Q2819.85 322.77 2821.98 320.27 Q2824.13 317.747 2824.13 313.58 L2824.13 312.631 L2819.9 312.631 M2828.39 310.872 L2828.39 325.664 L2824.13 325.664 L2824.13 321.729 Q2822.67 324.09 2820.5 325.224 Q2818.32 326.335 2815.17 326.335 Q2811.19 326.335 2808.83 324.113 Q2806.49 321.867 2806.49 318.117 Q2806.49 313.742 2809.41 311.52 Q2812.35 309.298 2818.16 309.298 L2824.13 309.298 L2824.13 308.881 Q2824.13 305.942 2822.19 304.344 Q2820.27 302.724 2816.77 302.724 Q2814.55 302.724 2812.44 303.256 Q2810.34 303.789 2808.39 304.854 L2808.39 300.918 Q2810.73 300.016 2812.93 299.576 Q2815.13 299.113 2817.21 299.113 Q2822.84 299.113 2825.61 302.03 Q2828.39 304.946 2828.39 310.872 Z\" fill=\"#000000\" fill-rule=\"evenodd\" fill-opacity=\"1\" /><path clip-path=\"url(#clip000)\" d=\"M2858.72 299.738 L2849.34 312.354 L2859.2 325.664 L2854.18 325.664 L2846.63 315.479 L2839.09 325.664 L2834.06 325.664 L2844.13 312.099 L2834.92 299.738 L2839.94 299.738 L2846.82 308.974 L2853.69 299.738 L2858.72 299.738 Z\" fill=\"#000000\" fill-rule=\"evenodd\" fill-opacity=\"1\" /><path clip-path=\"url(#clip000)\" d=\"M2865.22 299.738 L2869.48 299.738 L2869.48 325.664 L2865.22 325.664 L2865.22 299.738 M2865.22 289.645 L2869.48 289.645 L2869.48 295.039 L2865.22 295.039 L2865.22 289.645 Z\" fill=\"#000000\" fill-rule=\"evenodd\" fill-opacity=\"1\" /><path clip-path=\"url(#clip000)\" d=\"M2898.58 304.715 Q2900.17 301.844 2902.4 300.479 Q2904.62 299.113 2907.63 299.113 Q2911.68 299.113 2913.88 301.96 Q2916.08 304.784 2916.08 310.016 L2916.08 325.664 L2911.79 325.664 L2911.79 310.155 Q2911.79 306.428 2910.48 304.622 Q2909.16 302.817 2906.45 302.817 Q2903.14 302.817 2901.22 305.016 Q2899.29 307.215 2899.29 311.011 L2899.29 325.664 L2895.01 325.664 L2895.01 310.155 Q2895.01 306.405 2893.69 304.622 Q2892.37 302.817 2889.62 302.817 Q2886.36 302.817 2884.43 305.039 Q2882.51 307.238 2882.51 311.011 L2882.51 325.664 L2878.23 325.664 L2878.23 299.738 L2882.51 299.738 L2882.51 303.766 Q2883.97 301.381 2886.01 300.247 Q2888.04 299.113 2890.85 299.113 Q2893.67 299.113 2895.64 300.548 Q2897.63 301.983 2898.58 304.715 Z\" fill=\"#000000\" fill-rule=\"evenodd\" fill-opacity=\"1\" /><path clip-path=\"url(#clip000)\" d=\"M2924.13 315.432 L2924.13 299.738 L2928.39 299.738 L2928.39 315.27 Q2928.39 318.951 2929.83 320.803 Q2931.26 322.631 2934.13 322.631 Q2937.58 322.631 2939.57 320.432 Q2941.59 318.233 2941.59 314.437 L2941.59 299.738 L2945.85 299.738 L2945.85 325.664 L2941.59 325.664 L2941.59 321.682 Q2940.04 324.043 2937.98 325.201 Q2935.94 326.335 2933.23 326.335 Q2928.76 326.335 2926.45 323.557 Q2924.13 320.779 2924.13 315.432 M2934.85 299.113 L2934.85 299.113 Z\" fill=\"#000000\" fill-rule=\"evenodd\" fill-opacity=\"1\" /><path clip-path=\"url(#clip000)\" d=\"M2974.8 304.715 Q2976.4 301.844 2978.62 300.479 Q2980.85 299.113 2983.85 299.113 Q2987.91 299.113 2990.1 301.96 Q2992.3 304.784 2992.3 310.016 L2992.3 325.664 L2988.02 325.664 L2988.02 310.155 Q2988.02 306.428 2986.7 304.622 Q2985.38 302.817 2982.67 302.817 Q2979.36 302.817 2977.44 305.016 Q2975.52 307.215 2975.52 311.011 L2975.52 325.664 L2971.24 325.664 L2971.24 310.155 Q2971.24 306.405 2969.92 304.622 Q2968.6 302.817 2965.85 302.817 Q2962.58 302.817 2960.66 305.039 Q2958.74 307.238 2958.74 311.011 L2958.74 325.664 L2954.46 325.664 L2954.46 299.738 L2958.74 299.738 L2958.74 303.766 Q2960.2 301.381 2962.23 300.247 Q2964.27 299.113 2967.07 299.113 Q2969.9 299.113 2971.86 300.548 Q2973.85 301.983 2974.8 304.715 Z\" fill=\"#000000\" fill-rule=\"evenodd\" fill-opacity=\"1\" /><polyline clip-path=\"url(#clip000)\" style=\"stroke:#c271d2; stroke-linecap:butt; stroke-linejoin:round; stroke-width:4; stroke-opacity:1; fill:none\" points=\"\n",
       "  2331.77,360.224 2528.62,360.224 \n",
       "  \"/>\n",
       "<path clip-path=\"url(#clip000)\" d=\"M2561.43 351.578 L2565.69 351.578 L2565.69 377.504 L2561.43 377.504 L2561.43 351.578 M2561.43 341.485 L2565.69 341.485 L2565.69 346.879 L2561.43 346.879 L2561.43 341.485 Z\" fill=\"#000000\" fill-rule=\"evenodd\" fill-opacity=\"1\" /><path clip-path=\"url(#clip000)\" d=\"M2596.15 361.856 L2596.15 377.504 L2591.89 377.504 L2591.89 361.995 Q2591.89 358.314 2590.45 356.485 Q2589.02 354.657 2586.15 354.657 Q2582.7 354.657 2580.71 356.856 Q2578.72 359.055 2578.72 362.851 L2578.72 377.504 L2574.44 377.504 L2574.44 351.578 L2578.72 351.578 L2578.72 355.606 Q2580.25 353.268 2582.31 352.11 Q2584.39 350.953 2587.1 350.953 Q2591.56 350.953 2593.86 353.731 Q2596.15 356.485 2596.15 361.856 Z\" fill=\"#000000\" fill-rule=\"evenodd\" fill-opacity=\"1\" /><path clip-path=\"url(#clip000)\" d=\"M2617.77 341.485 L2617.77 345.027 L2613.69 345.027 Q2611.4 345.027 2610.5 345.953 Q2609.62 346.879 2609.62 349.286 L2609.62 351.578 L2616.63 351.578 L2616.63 354.888 L2609.62 354.888 L2609.62 377.504 L2605.34 377.504 L2605.34 354.888 L2601.26 354.888 L2601.26 351.578 L2605.34 351.578 L2605.34 349.772 Q2605.34 345.444 2607.35 343.476 Q2609.37 341.485 2613.74 341.485 L2617.77 341.485 Z\" fill=\"#000000\" fill-rule=\"evenodd\" fill-opacity=\"1\" /><path clip-path=\"url(#clip000)\" d=\"M2643.51 363.476 L2643.51 365.559 L2623.93 365.559 Q2624.2 369.957 2626.56 372.272 Q2628.95 374.564 2633.19 374.564 Q2635.64 374.564 2637.93 373.962 Q2640.25 373.36 2642.51 372.157 L2642.51 376.184 Q2640.22 377.156 2637.81 377.666 Q2635.41 378.175 2632.93 378.175 Q2626.73 378.175 2623.09 374.564 Q2619.48 370.953 2619.48 364.795 Q2619.48 358.43 2622.91 354.703 Q2626.36 350.953 2632.19 350.953 Q2637.42 350.953 2640.45 354.333 Q2643.51 357.689 2643.51 363.476 M2639.25 362.226 Q2639.2 358.731 2637.28 356.647 Q2635.38 354.564 2632.24 354.564 Q2628.67 354.564 2626.52 356.578 Q2624.39 358.592 2624.06 362.249 L2639.25 362.226 Z\" fill=\"#000000\" fill-rule=\"evenodd\" fill-opacity=\"1\" /><path clip-path=\"url(#clip000)\" d=\"M2665.52 355.559 Q2664.81 355.143 2663.95 354.958 Q2663.12 354.749 2662.1 354.749 Q2658.49 354.749 2656.54 357.11 Q2654.62 359.448 2654.62 363.846 L2654.62 377.504 L2650.34 377.504 L2650.34 351.578 L2654.62 351.578 L2654.62 355.606 Q2655.96 353.245 2658.12 352.11 Q2660.27 350.953 2663.35 350.953 Q2663.79 350.953 2664.32 351.022 Q2664.85 351.069 2665.5 351.184 L2665.52 355.559 Z\" fill=\"#000000\" fill-rule=\"evenodd\" fill-opacity=\"1\" /><path clip-path=\"url(#clip000)\" d=\"M2684.18 355.559 Q2683.46 355.143 2682.61 354.958 Q2681.77 354.749 2680.75 354.749 Q2677.14 354.749 2675.2 357.11 Q2673.28 359.448 2673.28 363.846 L2673.28 377.504 L2669 377.504 L2669 351.578 L2673.28 351.578 L2673.28 355.606 Q2674.62 353.245 2676.77 352.11 Q2678.93 350.953 2682 350.953 Q2682.44 350.953 2682.98 351.022 Q2683.51 351.069 2684.16 351.184 L2684.18 355.559 Z\" fill=\"#000000\" fill-rule=\"evenodd\" fill-opacity=\"1\" /><path clip-path=\"url(#clip000)\" d=\"M2709.78 363.476 L2709.78 365.559 L2690.2 365.559 Q2690.48 369.957 2692.84 372.272 Q2695.22 374.564 2699.46 374.564 Q2701.91 374.564 2704.2 373.962 Q2706.52 373.36 2708.79 372.157 L2708.79 376.184 Q2706.49 377.156 2704.09 377.666 Q2701.68 378.175 2699.2 378.175 Q2693 378.175 2689.37 374.564 Q2685.75 370.953 2685.75 364.795 Q2685.75 358.43 2689.18 354.703 Q2692.63 350.953 2698.46 350.953 Q2703.69 350.953 2706.73 354.333 Q2709.78 357.689 2709.78 363.476 M2705.52 362.226 Q2705.48 358.731 2703.56 356.647 Q2701.66 354.564 2698.51 354.564 Q2694.94 354.564 2692.79 356.578 Q2690.66 358.592 2690.34 362.249 L2705.52 362.226 Z\" fill=\"#000000\" fill-rule=\"evenodd\" fill-opacity=\"1\" /><path clip-path=\"url(#clip000)\" d=\"M2733.83 355.513 L2733.83 341.485 L2738.09 341.485 L2738.09 377.504 L2733.83 377.504 L2733.83 373.615 Q2732.49 375.93 2730.43 377.064 Q2728.39 378.175 2725.52 378.175 Q2720.82 378.175 2717.86 374.425 Q2714.92 370.675 2714.92 364.564 Q2714.92 358.453 2717.86 354.703 Q2720.82 350.953 2725.52 350.953 Q2728.39 350.953 2730.43 352.087 Q2732.49 353.198 2733.83 355.513 M2719.32 364.564 Q2719.32 369.263 2721.24 371.948 Q2723.18 374.61 2726.56 374.61 Q2729.94 374.61 2731.89 371.948 Q2733.83 369.263 2733.83 364.564 Q2733.83 359.865 2731.89 357.203 Q2729.94 354.518 2726.56 354.518 Q2723.18 354.518 2721.24 357.203 Q2719.32 359.865 2719.32 364.564 Z\" fill=\"#000000\" fill-rule=\"evenodd\" fill-opacity=\"1\" /><path clip-path=\"url(#clip000)\" d=\"M2782.12 356.555 Q2783.72 353.684 2785.94 352.319 Q2788.16 350.953 2791.17 350.953 Q2795.22 350.953 2797.42 353.8 Q2799.62 356.624 2799.62 361.856 L2799.62 377.504 L2795.34 377.504 L2795.34 361.995 Q2795.34 358.268 2794.02 356.462 Q2792.7 354.657 2789.99 354.657 Q2786.68 354.657 2784.76 356.856 Q2782.84 359.055 2782.84 362.851 L2782.84 377.504 L2778.55 377.504 L2778.55 361.995 Q2778.55 358.245 2777.24 356.462 Q2775.92 354.657 2773.16 354.657 Q2769.9 354.657 2767.98 356.879 Q2766.05 359.078 2766.05 362.851 L2766.05 377.504 L2761.77 377.504 L2761.77 351.578 L2766.05 351.578 L2766.05 355.606 Q2767.51 353.221 2769.55 352.087 Q2771.59 350.953 2774.39 350.953 Q2777.21 350.953 2779.18 352.388 Q2781.17 353.823 2782.12 356.555 Z\" fill=\"#000000\" fill-rule=\"evenodd\" fill-opacity=\"1\" /><path clip-path=\"url(#clip000)\" d=\"M2808.11 351.578 L2812.37 351.578 L2812.37 377.504 L2808.11 377.504 L2808.11 351.578 M2808.11 341.485 L2812.37 341.485 L2812.37 346.879 L2808.11 346.879 L2808.11 341.485 Z\" fill=\"#000000\" fill-rule=\"evenodd\" fill-opacity=\"1\" /><path clip-path=\"url(#clip000)\" d=\"M2838.35 355.513 L2838.35 341.485 L2842.61 341.485 L2842.61 377.504 L2838.35 377.504 L2838.35 373.615 Q2837 375.93 2834.94 377.064 Q2832.91 378.175 2830.04 378.175 Q2825.34 378.175 2822.37 374.425 Q2819.43 370.675 2819.43 364.564 Q2819.43 358.453 2822.37 354.703 Q2825.34 350.953 2830.04 350.953 Q2832.91 350.953 2834.94 352.087 Q2837 353.198 2838.35 355.513 M2823.83 364.564 Q2823.83 369.263 2825.75 371.948 Q2827.7 374.61 2831.08 374.61 Q2834.46 374.61 2836.4 371.948 Q2838.35 369.263 2838.35 364.564 Q2838.35 359.865 2836.4 357.203 Q2834.46 354.518 2831.08 354.518 Q2827.7 354.518 2825.75 357.203 Q2823.83 359.865 2823.83 364.564 Z\" fill=\"#000000\" fill-rule=\"evenodd\" fill-opacity=\"1\" /><path clip-path=\"url(#clip000)\" d=\"M2855.5 373.615 L2855.5 387.365 L2851.22 387.365 L2851.22 351.578 L2855.5 351.578 L2855.5 355.513 Q2856.84 353.198 2858.88 352.087 Q2860.94 350.953 2863.79 350.953 Q2868.51 350.953 2871.45 354.703 Q2874.41 358.453 2874.41 364.564 Q2874.41 370.675 2871.45 374.425 Q2868.51 378.175 2863.79 378.175 Q2860.94 378.175 2858.88 377.064 Q2856.84 375.93 2855.5 373.615 M2869.99 364.564 Q2869.99 359.865 2868.04 357.203 Q2866.12 354.518 2862.74 354.518 Q2859.36 354.518 2857.42 357.203 Q2855.5 359.865 2855.5 364.564 Q2855.5 369.263 2857.42 371.948 Q2859.36 374.61 2862.74 374.61 Q2866.12 374.61 2868.04 371.948 Q2869.99 369.263 2869.99 364.564 Z\" fill=\"#000000\" fill-rule=\"evenodd\" fill-opacity=\"1\" /><path clip-path=\"url(#clip000)\" d=\"M2891.52 354.564 Q2888.09 354.564 2886.1 357.249 Q2884.11 359.911 2884.11 364.564 Q2884.11 369.217 2886.08 371.902 Q2888.07 374.564 2891.52 374.564 Q2894.92 374.564 2896.91 371.879 Q2898.9 369.194 2898.9 364.564 Q2898.9 359.958 2896.91 357.272 Q2894.92 354.564 2891.52 354.564 M2891.52 350.953 Q2897.07 350.953 2900.24 354.564 Q2903.42 358.175 2903.42 364.564 Q2903.42 370.93 2900.24 374.564 Q2897.07 378.175 2891.52 378.175 Q2885.94 378.175 2882.77 374.564 Q2879.62 370.93 2879.62 364.564 Q2879.62 358.175 2882.77 354.564 Q2885.94 350.953 2891.52 350.953 Z\" fill=\"#000000\" fill-rule=\"evenodd\" fill-opacity=\"1\" /><path clip-path=\"url(#clip000)\" d=\"M2910.48 351.578 L2914.73 351.578 L2914.73 377.504 L2910.48 377.504 L2910.48 351.578 M2910.48 341.485 L2914.73 341.485 L2914.73 346.879 L2910.48 346.879 L2910.48 341.485 Z\" fill=\"#000000\" fill-rule=\"evenodd\" fill-opacity=\"1\" /><path clip-path=\"url(#clip000)\" d=\"M2945.2 361.856 L2945.2 377.504 L2940.94 377.504 L2940.94 361.995 Q2940.94 358.314 2939.5 356.485 Q2938.07 354.657 2935.2 354.657 Q2931.75 354.657 2929.76 356.856 Q2927.77 359.055 2927.77 362.851 L2927.77 377.504 L2923.48 377.504 L2923.48 351.578 L2927.77 351.578 L2927.77 355.606 Q2929.29 353.268 2931.35 352.11 Q2933.44 350.953 2936.15 350.953 Q2940.61 350.953 2942.91 353.731 Q2945.2 356.485 2945.2 361.856 Z\" fill=\"#000000\" fill-rule=\"evenodd\" fill-opacity=\"1\" /><path clip-path=\"url(#clip000)\" d=\"M2957.91 344.217 L2957.91 351.578 L2966.68 351.578 L2966.68 354.888 L2957.91 354.888 L2957.91 368.962 Q2957.91 372.133 2958.76 373.036 Q2959.64 373.939 2962.3 373.939 L2966.68 373.939 L2966.68 377.504 L2962.3 377.504 Q2957.37 377.504 2955.5 375.675 Q2953.62 373.823 2953.62 368.962 L2953.62 354.888 L2950.5 354.888 L2950.5 351.578 L2953.62 351.578 L2953.62 344.217 L2957.91 344.217 Z\" fill=\"#000000\" fill-rule=\"evenodd\" fill-opacity=\"1\" /><polyline clip-path=\"url(#clip000)\" style=\"stroke:#ac8d18; stroke-linecap:butt; stroke-linejoin:round; stroke-width:4; stroke-opacity:1; fill:none\" points=\"\n",
       "  2331.77,412.064 2528.62,412.064 \n",
       "  \"/>\n",
       "<path clip-path=\"url(#clip000)\" d=\"M2577.93 393.325 L2577.93 396.867 L2573.86 396.867 Q2571.57 396.867 2570.66 397.793 Q2569.78 398.719 2569.78 401.126 L2569.78 403.418 L2576.8 403.418 L2576.8 406.728 L2569.78 406.728 L2569.78 429.344 L2565.5 429.344 L2565.5 406.728 L2561.43 406.728 L2561.43 403.418 L2565.5 403.418 L2565.5 401.612 Q2565.5 397.284 2567.51 395.316 Q2569.53 393.325 2573.9 393.325 L2577.93 393.325 Z\" fill=\"#000000\" fill-rule=\"evenodd\" fill-opacity=\"1\" /><path clip-path=\"url(#clip000)\" d=\"M2581.5 403.418 L2585.75 403.418 L2585.75 429.344 L2581.5 429.344 L2581.5 403.418 M2581.5 393.325 L2585.75 393.325 L2585.75 398.719 L2581.5 398.719 L2581.5 393.325 Z\" fill=\"#000000\" fill-rule=\"evenodd\" fill-opacity=\"1\" /><path clip-path=\"url(#clip000)\" d=\"M2598.88 396.057 L2598.88 403.418 L2607.65 403.418 L2607.65 406.728 L2598.88 406.728 L2598.88 420.802 Q2598.88 423.973 2599.74 424.876 Q2600.62 425.779 2603.28 425.779 L2607.65 425.779 L2607.65 429.344 L2603.28 429.344 Q2598.35 429.344 2596.47 427.515 Q2594.6 425.663 2594.6 420.802 L2594.6 406.728 L2591.47 406.728 L2591.47 403.418 L2594.6 403.418 L2594.6 396.057 L2598.88 396.057 Z\" fill=\"#000000\" fill-rule=\"evenodd\" fill-opacity=\"1\" /><path clip-path=\"url(#clip000)\" d=\"M2632.54 396.057 L2632.54 403.418 L2641.31 403.418 L2641.31 406.728 L2632.54 406.728 L2632.54 420.802 Q2632.54 423.973 2633.39 424.876 Q2634.27 425.779 2636.94 425.779 L2641.31 425.779 L2641.31 429.344 L2636.94 429.344 Q2632 429.344 2630.13 427.515 Q2628.25 425.663 2628.25 420.802 L2628.25 406.728 L2625.13 406.728 L2625.13 403.418 L2628.25 403.418 L2628.25 396.057 L2632.54 396.057 Z\" fill=\"#000000\" fill-rule=\"evenodd\" fill-opacity=\"1\" /><path clip-path=\"url(#clip000)\" d=\"M2661.93 407.399 Q2661.22 406.983 2660.36 406.798 Q2659.53 406.589 2658.51 406.589 Q2654.9 406.589 2652.95 408.95 Q2651.03 411.288 2651.03 415.686 L2651.03 429.344 L2646.75 429.344 L2646.75 403.418 L2651.03 403.418 L2651.03 407.446 Q2652.37 405.085 2654.53 403.95 Q2656.68 402.793 2659.76 402.793 Q2660.2 402.793 2660.73 402.862 Q2661.26 402.909 2661.91 403.024 L2661.93 407.399 Z\" fill=\"#000000\" fill-rule=\"evenodd\" fill-opacity=\"1\" /><path clip-path=\"url(#clip000)\" d=\"M2687.54 415.316 L2687.54 417.399 L2667.95 417.399 Q2668.23 421.797 2670.59 424.112 Q2672.98 426.404 2677.21 426.404 Q2679.67 426.404 2681.96 425.802 Q2684.27 425.2 2686.54 423.997 L2686.54 428.024 Q2684.25 428.996 2681.84 429.506 Q2679.43 430.015 2676.96 430.015 Q2670.75 430.015 2667.12 426.404 Q2663.51 422.793 2663.51 416.635 Q2663.51 410.27 2666.93 406.543 Q2670.38 402.793 2676.22 402.793 Q2681.45 402.793 2684.48 406.173 Q2687.54 409.529 2687.54 415.316 M2683.28 414.066 Q2683.23 410.571 2681.31 408.487 Q2679.41 406.404 2676.26 406.404 Q2672.7 406.404 2670.55 408.418 Q2668.42 410.432 2668.09 414.089 L2683.28 414.066 Z\" fill=\"#000000\" fill-rule=\"evenodd\" fill-opacity=\"1\" /><path clip-path=\"url(#clip000)\" d=\"M2716.08 413.696 L2716.08 429.344 L2711.82 429.344 L2711.82 413.835 Q2711.82 410.154 2710.38 408.325 Q2708.95 406.497 2706.08 406.497 Q2702.63 406.497 2700.64 408.696 Q2698.65 410.895 2698.65 414.691 L2698.65 429.344 L2694.37 429.344 L2694.37 403.418 L2698.65 403.418 L2698.65 407.446 Q2700.18 405.108 2702.24 403.95 Q2704.32 402.793 2707.03 402.793 Q2711.49 402.793 2713.79 405.571 Q2716.08 408.325 2716.08 413.696 Z\" fill=\"#000000\" fill-rule=\"evenodd\" fill-opacity=\"1\" /><path clip-path=\"url(#clip000)\" d=\"M2741.63 407.353 L2741.63 393.325 L2745.89 393.325 L2745.89 429.344 L2741.63 429.344 L2741.63 425.455 Q2740.29 427.77 2738.23 428.904 Q2736.19 430.015 2733.32 430.015 Q2728.62 430.015 2725.66 426.265 Q2722.72 422.515 2722.72 416.404 Q2722.72 410.293 2725.66 406.543 Q2728.62 402.793 2733.32 402.793 Q2736.19 402.793 2738.23 403.927 Q2740.29 405.038 2741.63 407.353 M2727.12 416.404 Q2727.12 421.103 2729.04 423.788 Q2730.99 426.45 2734.37 426.45 Q2737.74 426.45 2739.69 423.788 Q2741.63 421.103 2741.63 416.404 Q2741.63 411.705 2739.69 409.043 Q2737.74 406.358 2734.37 406.358 Q2730.99 406.358 2729.04 409.043 Q2727.12 411.705 2727.12 416.404 Z\" fill=\"#000000\" fill-rule=\"evenodd\" fill-opacity=\"1\" /><path clip-path=\"url(#clip000)\" d=\"M2754.67 393.325 L2758.93 393.325 L2758.93 429.344 L2754.67 429.344 L2754.67 393.325 Z\" fill=\"#000000\" fill-rule=\"evenodd\" fill-opacity=\"1\" /><path clip-path=\"url(#clip000)\" d=\"M2767.84 403.418 L2772.1 403.418 L2772.1 429.344 L2767.84 429.344 L2767.84 403.418 M2767.84 393.325 L2772.1 393.325 L2772.1 398.719 L2767.84 398.719 L2767.84 393.325 Z\" fill=\"#000000\" fill-rule=\"evenodd\" fill-opacity=\"1\" /><path clip-path=\"url(#clip000)\" d=\"M2802.56 413.696 L2802.56 429.344 L2798.3 429.344 L2798.3 413.835 Q2798.3 410.154 2796.86 408.325 Q2795.43 406.497 2792.56 406.497 Q2789.11 406.497 2787.12 408.696 Q2785.13 410.895 2785.13 414.691 L2785.13 429.344 L2780.85 429.344 L2780.85 403.418 L2785.13 403.418 L2785.13 407.446 Q2786.66 405.108 2788.72 403.95 Q2790.8 402.793 2793.51 402.793 Q2797.98 402.793 2800.27 405.571 Q2802.56 408.325 2802.56 413.696 Z\" fill=\"#000000\" fill-rule=\"evenodd\" fill-opacity=\"1\" /><path clip-path=\"url(#clip000)\" d=\"M2833.23 415.316 L2833.23 417.399 L2813.65 417.399 Q2813.92 421.797 2816.29 424.112 Q2818.67 426.404 2822.91 426.404 Q2825.36 426.404 2827.65 425.802 Q2829.97 425.2 2832.23 423.997 L2832.23 428.024 Q2829.94 428.996 2827.54 429.506 Q2825.13 430.015 2822.65 430.015 Q2816.45 430.015 2812.81 426.404 Q2809.2 422.793 2809.2 416.635 Q2809.2 410.27 2812.63 406.543 Q2816.08 402.793 2821.91 402.793 Q2827.14 402.793 2830.17 406.173 Q2833.23 409.529 2833.23 415.316 M2828.97 414.066 Q2828.92 410.571 2827 408.487 Q2825.11 406.404 2821.96 406.404 Q2818.39 406.404 2816.24 408.418 Q2814.11 410.432 2813.79 414.089 L2828.97 414.066 Z\" fill=\"#000000\" fill-rule=\"evenodd\" fill-opacity=\"1\" /></svg>\n"
      ]
     },
     "metadata": {},
     "output_type": "display_data"
    },
    {
     "data": {
      "image/svg+xml": [
       "<?xml version=\"1.0\" encoding=\"utf-8\"?>\n",
       "<svg xmlns=\"http://www.w3.org/2000/svg\" xmlns:xlink=\"http://www.w3.org/1999/xlink\" width=\"800\" height=\"400\" viewBox=\"0 0 3200 1600\">\n",
       "<defs>\n",
       "  <clipPath id=\"clip040\">\n",
       "    <rect x=\"0\" y=\"0\" width=\"3200\" height=\"1600\"/>\n",
       "  </clipPath>\n",
       "</defs>\n",
       "<path clip-path=\"url(#clip040)\" d=\"\n",
       "M0 1600 L3200 1600 L3200 0 L0 0  Z\n",
       "  \" fill=\"#ffffff\" fill-rule=\"evenodd\" fill-opacity=\"1\"/>\n",
       "<defs>\n",
       "  <clipPath id=\"clip041\">\n",
       "    <rect x=\"640\" y=\"0\" width=\"2241\" height=\"1600\"/>\n",
       "  </clipPath>\n",
       "</defs>\n",
       "<path clip-path=\"url(#clip040)\" d=\"\n",
       "M231.403 1443.7 L2205.07 1443.7 L2205.07 108.352 L231.403 108.352  Z\n",
       "  \" fill=\"#ffffff\" fill-rule=\"evenodd\" fill-opacity=\"1\"/>\n",
       "<defs>\n",
       "  <clipPath id=\"clip042\">\n",
       "    <rect x=\"231\" y=\"108\" width=\"1975\" height=\"1336\"/>\n",
       "  </clipPath>\n",
       "</defs>\n",
       "<polyline clip-path=\"url(#clip042)\" style=\"stroke:#000000; stroke-linecap:butt; stroke-linejoin:round; stroke-width:2; stroke-opacity:0.1; fill:none\" points=\"\n",
       "  287.261,1443.7 287.261,108.352 \n",
       "  \"/>\n",
       "<polyline clip-path=\"url(#clip042)\" style=\"stroke:#000000; stroke-linecap:butt; stroke-linejoin:round; stroke-width:2; stroke-opacity:0.1; fill:none\" points=\"\n",
       "  766.157,1443.7 766.157,108.352 \n",
       "  \"/>\n",
       "<polyline clip-path=\"url(#clip042)\" style=\"stroke:#000000; stroke-linecap:butt; stroke-linejoin:round; stroke-width:2; stroke-opacity:0.1; fill:none\" points=\"\n",
       "  1245.05,1443.7 1245.05,108.352 \n",
       "  \"/>\n",
       "<polyline clip-path=\"url(#clip042)\" style=\"stroke:#000000; stroke-linecap:butt; stroke-linejoin:round; stroke-width:2; stroke-opacity:0.1; fill:none\" points=\"\n",
       "  1723.95,1443.7 1723.95,108.352 \n",
       "  \"/>\n",
       "<polyline clip-path=\"url(#clip042)\" style=\"stroke:#000000; stroke-linecap:butt; stroke-linejoin:round; stroke-width:2; stroke-opacity:0.1; fill:none\" points=\"\n",
       "  2202.85,1443.7 2202.85,108.352 \n",
       "  \"/>\n",
       "<polyline clip-path=\"url(#clip040)\" style=\"stroke:#000000; stroke-linecap:butt; stroke-linejoin:round; stroke-width:4; stroke-opacity:1; fill:none\" points=\"\n",
       "  231.403,1443.7 2205.07,1443.7 \n",
       "  \"/>\n",
       "<polyline clip-path=\"url(#clip040)\" style=\"stroke:#000000; stroke-linecap:butt; stroke-linejoin:round; stroke-width:4; stroke-opacity:1; fill:none\" points=\"\n",
       "  287.261,1443.7 287.261,1424.8 \n",
       "  \"/>\n",
       "<polyline clip-path=\"url(#clip040)\" style=\"stroke:#000000; stroke-linecap:butt; stroke-linejoin:round; stroke-width:4; stroke-opacity:1; fill:none\" points=\"\n",
       "  766.157,1443.7 766.157,1424.8 \n",
       "  \"/>\n",
       "<polyline clip-path=\"url(#clip040)\" style=\"stroke:#000000; stroke-linecap:butt; stroke-linejoin:round; stroke-width:4; stroke-opacity:1; fill:none\" points=\"\n",
       "  1245.05,1443.7 1245.05,1424.8 \n",
       "  \"/>\n",
       "<polyline clip-path=\"url(#clip040)\" style=\"stroke:#000000; stroke-linecap:butt; stroke-linejoin:round; stroke-width:4; stroke-opacity:1; fill:none\" points=\"\n",
       "  1723.95,1443.7 1723.95,1424.8 \n",
       "  \"/>\n",
       "<polyline clip-path=\"url(#clip040)\" style=\"stroke:#000000; stroke-linecap:butt; stroke-linejoin:round; stroke-width:4; stroke-opacity:1; fill:none\" points=\"\n",
       "  2202.85,1443.7 2202.85,1424.8 \n",
       "  \"/>\n",
       "<path clip-path=\"url(#clip040)\" d=\"M287.261 1479.29 Q283.65 1479.29 281.822 1482.86 Q280.016 1486.4 280.016 1493.53 Q280.016 1500.63 281.822 1504.2 Q283.65 1507.74 287.261 1507.74 Q290.896 1507.74 292.701 1504.2 Q294.53 1500.63 294.53 1493.53 Q294.53 1486.4 292.701 1482.86 Q290.896 1479.29 287.261 1479.29 M287.261 1475.59 Q293.071 1475.59 296.127 1480.19 Q299.206 1484.78 299.206 1493.53 Q299.206 1502.25 296.127 1506.86 Q293.071 1511.44 287.261 1511.44 Q281.451 1511.44 278.372 1506.86 Q275.317 1502.25 275.317 1493.53 Q275.317 1484.78 278.372 1480.19 Q281.451 1475.59 287.261 1475.59 Z\" fill=\"#000000\" fill-rule=\"evenodd\" fill-opacity=\"1\" /><path clip-path=\"url(#clip040)\" d=\"M729.85 1506.84 L746.169 1506.84 L746.169 1510.77 L724.225 1510.77 L724.225 1506.84 Q726.887 1504.08 731.47 1499.45 Q736.077 1494.8 737.257 1493.46 Q739.502 1490.93 740.382 1489.2 Q741.285 1487.44 741.285 1485.75 Q741.285 1482.99 739.34 1481.26 Q737.419 1479.52 734.317 1479.52 Q732.118 1479.52 729.665 1480.29 Q727.234 1481.05 724.456 1482.6 L724.456 1477.88 Q727.28 1476.74 729.734 1476.17 Q732.188 1475.59 734.225 1475.59 Q739.595 1475.59 742.789 1478.27 Q745.984 1480.96 745.984 1485.45 Q745.984 1487.58 745.174 1489.5 Q744.387 1491.4 742.28 1493.99 Q741.702 1494.66 738.6 1497.88 Q735.498 1501.07 729.85 1506.84 Z\" fill=\"#000000\" fill-rule=\"evenodd\" fill-opacity=\"1\" /><path clip-path=\"url(#clip040)\" d=\"M756.03 1476.21 L774.387 1476.21 L774.387 1480.15 L760.313 1480.15 L760.313 1488.62 Q761.331 1488.27 762.35 1488.11 Q763.368 1487.92 764.387 1487.92 Q770.174 1487.92 773.553 1491.1 Q776.933 1494.27 776.933 1499.68 Q776.933 1505.26 773.461 1508.36 Q769.988 1511.44 763.669 1511.44 Q761.493 1511.44 759.225 1511.07 Q756.979 1510.7 754.572 1509.96 L754.572 1505.26 Q756.655 1506.4 758.877 1506.95 Q761.1 1507.51 763.576 1507.51 Q767.581 1507.51 769.919 1505.4 Q772.257 1503.3 772.257 1499.68 Q772.257 1496.07 769.919 1493.97 Q767.581 1491.86 763.576 1491.86 Q761.701 1491.86 759.826 1492.28 Q757.975 1492.69 756.03 1493.57 L756.03 1476.21 Z\" fill=\"#000000\" fill-rule=\"evenodd\" fill-opacity=\"1\" /><path clip-path=\"url(#clip040)\" d=\"M796.146 1479.29 Q792.535 1479.29 790.706 1482.86 Q788.9 1486.4 788.9 1493.53 Q788.9 1500.63 790.706 1504.2 Q792.535 1507.74 796.146 1507.74 Q799.78 1507.74 801.585 1504.2 Q803.414 1500.63 803.414 1493.53 Q803.414 1486.4 801.585 1482.86 Q799.78 1479.29 796.146 1479.29 M796.146 1475.59 Q801.956 1475.59 805.011 1480.19 Q808.09 1484.78 808.09 1493.53 Q808.09 1502.25 805.011 1506.86 Q801.956 1511.44 796.146 1511.44 Q790.336 1511.44 787.257 1506.86 Q784.201 1502.25 784.201 1493.53 Q784.201 1484.78 787.257 1480.19 Q790.336 1475.59 796.146 1475.59 Z\" fill=\"#000000\" fill-rule=\"evenodd\" fill-opacity=\"1\" /><path clip-path=\"url(#clip040)\" d=\"M1204.67 1476.21 L1223.03 1476.21 L1223.03 1480.15 L1208.95 1480.15 L1208.95 1488.62 Q1209.97 1488.27 1210.99 1488.11 Q1212.01 1487.92 1213.03 1487.92 Q1218.82 1487.92 1222.19 1491.1 Q1225.57 1494.27 1225.57 1499.68 Q1225.57 1505.26 1222.1 1508.36 Q1218.63 1511.44 1212.31 1511.44 Q1210.13 1511.44 1207.87 1511.07 Q1205.62 1510.7 1203.21 1509.96 L1203.21 1505.26 Q1205.3 1506.4 1207.52 1506.95 Q1209.74 1507.51 1212.22 1507.51 Q1216.22 1507.51 1218.56 1505.4 Q1220.9 1503.3 1220.9 1499.68 Q1220.9 1496.07 1218.56 1493.97 Q1216.22 1491.86 1212.22 1491.86 Q1210.34 1491.86 1208.47 1492.28 Q1206.62 1492.69 1204.67 1493.57 L1204.67 1476.21 Z\" fill=\"#000000\" fill-rule=\"evenodd\" fill-opacity=\"1\" /><path clip-path=\"url(#clip040)\" d=\"M1244.79 1479.29 Q1241.18 1479.29 1239.35 1482.86 Q1237.54 1486.4 1237.54 1493.53 Q1237.54 1500.63 1239.35 1504.2 Q1241.18 1507.74 1244.79 1507.74 Q1248.42 1507.74 1250.23 1504.2 Q1252.06 1500.63 1252.06 1493.53 Q1252.06 1486.4 1250.23 1482.86 Q1248.42 1479.29 1244.79 1479.29 M1244.79 1475.59 Q1250.6 1475.59 1253.65 1480.19 Q1256.73 1484.78 1256.73 1493.53 Q1256.73 1502.25 1253.65 1506.86 Q1250.6 1511.44 1244.79 1511.44 Q1238.98 1511.44 1235.9 1506.86 Q1232.84 1502.25 1232.84 1493.53 Q1232.84 1484.78 1235.9 1480.19 Q1238.98 1475.59 1244.79 1475.59 Z\" fill=\"#000000\" fill-rule=\"evenodd\" fill-opacity=\"1\" /><path clip-path=\"url(#clip040)\" d=\"M1274.95 1479.29 Q1271.34 1479.29 1269.51 1482.86 Q1267.7 1486.4 1267.7 1493.53 Q1267.7 1500.63 1269.51 1504.2 Q1271.34 1507.74 1274.95 1507.74 Q1278.58 1507.74 1280.39 1504.2 Q1282.22 1500.63 1282.22 1493.53 Q1282.22 1486.4 1280.39 1482.86 Q1278.58 1479.29 1274.95 1479.29 M1274.95 1475.59 Q1280.76 1475.59 1283.81 1480.19 Q1286.89 1484.78 1286.89 1493.53 Q1286.89 1502.25 1283.81 1506.86 Q1280.76 1511.44 1274.95 1511.44 Q1269.14 1511.44 1266.06 1506.86 Q1263 1502.25 1263 1493.53 Q1263 1484.78 1266.06 1480.19 Q1269.14 1475.59 1274.95 1475.59 Z\" fill=\"#000000\" fill-rule=\"evenodd\" fill-opacity=\"1\" /><path clip-path=\"url(#clip040)\" d=\"M1682.23 1476.21 L1704.45 1476.21 L1704.45 1478.2 L1691.9 1510.77 L1687.02 1510.77 L1698.82 1480.15 L1682.23 1480.15 L1682.23 1476.21 Z\" fill=\"#000000\" fill-rule=\"evenodd\" fill-opacity=\"1\" /><path clip-path=\"url(#clip040)\" d=\"M1713.61 1476.21 L1731.97 1476.21 L1731.97 1480.15 L1717.9 1480.15 L1717.9 1488.62 Q1718.92 1488.27 1719.93 1488.11 Q1720.95 1487.92 1721.97 1487.92 Q1727.76 1487.92 1731.14 1491.1 Q1734.52 1494.27 1734.52 1499.68 Q1734.52 1505.26 1731.04 1508.36 Q1727.57 1511.44 1721.25 1511.44 Q1719.08 1511.44 1716.81 1511.07 Q1714.56 1510.7 1712.16 1509.96 L1712.16 1505.26 Q1714.24 1506.4 1716.46 1506.95 Q1718.68 1507.51 1721.16 1507.51 Q1725.16 1507.51 1727.5 1505.4 Q1729.84 1503.3 1729.84 1499.68 Q1729.84 1496.07 1727.5 1493.97 Q1725.16 1491.86 1721.16 1491.86 Q1719.29 1491.86 1717.41 1492.28 Q1715.56 1492.69 1713.61 1493.57 L1713.61 1476.21 Z\" fill=\"#000000\" fill-rule=\"evenodd\" fill-opacity=\"1\" /><path clip-path=\"url(#clip040)\" d=\"M1753.73 1479.29 Q1750.12 1479.29 1748.29 1482.86 Q1746.48 1486.4 1746.48 1493.53 Q1746.48 1500.63 1748.29 1504.2 Q1750.12 1507.74 1753.73 1507.74 Q1757.36 1507.74 1759.17 1504.2 Q1761 1500.63 1761 1493.53 Q1761 1486.4 1759.17 1482.86 Q1757.36 1479.29 1753.73 1479.29 M1753.73 1475.59 Q1759.54 1475.59 1762.6 1480.19 Q1765.67 1484.78 1765.67 1493.53 Q1765.67 1502.25 1762.6 1506.86 Q1759.54 1511.44 1753.73 1511.44 Q1747.92 1511.44 1744.84 1506.86 Q1741.79 1502.25 1741.79 1493.53 Q1741.79 1484.78 1744.84 1480.19 Q1747.92 1475.59 1753.73 1475.59 Z\" fill=\"#000000\" fill-rule=\"evenodd\" fill-opacity=\"1\" /><path clip-path=\"url(#clip040)\" d=\"M2147.37 1506.84 L2155.01 1506.84 L2155.01 1480.47 L2146.7 1482.14 L2146.7 1477.88 L2154.96 1476.21 L2159.64 1476.21 L2159.64 1506.84 L2167.28 1506.84 L2167.28 1510.77 L2147.37 1510.77 L2147.37 1506.84 Z\" fill=\"#000000\" fill-rule=\"evenodd\" fill-opacity=\"1\" /><path clip-path=\"url(#clip040)\" d=\"M2186.72 1479.29 Q2183.11 1479.29 2181.28 1482.86 Q2179.48 1486.4 2179.48 1493.53 Q2179.48 1500.63 2181.28 1504.2 Q2183.11 1507.74 2186.72 1507.74 Q2190.36 1507.74 2192.16 1504.2 Q2193.99 1500.63 2193.99 1493.53 Q2193.99 1486.4 2192.16 1482.86 Q2190.36 1479.29 2186.72 1479.29 M2186.72 1475.59 Q2192.53 1475.59 2195.59 1480.19 Q2198.67 1484.78 2198.67 1493.53 Q2198.67 1502.25 2195.59 1506.86 Q2192.53 1511.44 2186.72 1511.44 Q2180.91 1511.44 2177.83 1506.86 Q2174.78 1502.25 2174.78 1493.53 Q2174.78 1484.78 2177.83 1480.19 Q2180.91 1475.59 2186.72 1475.59 Z\" fill=\"#000000\" fill-rule=\"evenodd\" fill-opacity=\"1\" /><path clip-path=\"url(#clip040)\" d=\"M2216.89 1479.29 Q2213.27 1479.29 2211.45 1482.86 Q2209.64 1486.4 2209.64 1493.53 Q2209.64 1500.63 2211.45 1504.2 Q2213.27 1507.74 2216.89 1507.74 Q2220.52 1507.74 2222.32 1504.2 Q2224.15 1500.63 2224.15 1493.53 Q2224.15 1486.4 2222.32 1482.86 Q2220.52 1479.29 2216.89 1479.29 M2216.89 1475.59 Q2222.7 1475.59 2225.75 1480.19 Q2228.83 1484.78 2228.83 1493.53 Q2228.83 1502.25 2225.75 1506.86 Q2222.7 1511.44 2216.89 1511.44 Q2211.07 1511.44 2208 1506.86 Q2204.94 1502.25 2204.94 1493.53 Q2204.94 1484.78 2208 1480.19 Q2211.07 1475.59 2216.89 1475.59 Z\" fill=\"#000000\" fill-rule=\"evenodd\" fill-opacity=\"1\" /><path clip-path=\"url(#clip040)\" d=\"M2247.05 1479.29 Q2243.44 1479.29 2241.61 1482.86 Q2239.8 1486.4 2239.8 1493.53 Q2239.8 1500.63 2241.61 1504.2 Q2243.44 1507.74 2247.05 1507.74 Q2250.68 1507.74 2252.49 1504.2 Q2254.32 1500.63 2254.32 1493.53 Q2254.32 1486.4 2252.49 1482.86 Q2250.68 1479.29 2247.05 1479.29 M2247.05 1475.59 Q2252.86 1475.59 2255.91 1480.19 Q2258.99 1484.78 2258.99 1493.53 Q2258.99 1502.25 2255.91 1506.86 Q2252.86 1511.44 2247.05 1511.44 Q2241.24 1511.44 2238.16 1506.86 Q2235.1 1502.25 2235.1 1493.53 Q2235.1 1484.78 2238.16 1480.19 Q2241.24 1475.59 2247.05 1475.59 Z\" fill=\"#000000\" fill-rule=\"evenodd\" fill-opacity=\"1\" /><path clip-path=\"url(#clip040)\" d=\"M954.234 1571.89 L944.972 1571.89 L942.298 1582.52 L951.624 1582.52 L954.234 1571.89 M949.459 1553.78 L946.149 1566.98 L955.443 1566.98 L958.785 1553.78 L963.878 1553.78 L960.599 1566.98 L970.53 1566.98 L970.53 1571.89 L959.358 1571.89 L956.748 1582.52 L966.87 1582.52 L966.87 1587.39 L955.507 1587.39 L952.197 1600.56 L947.104 1600.56 L950.382 1587.39 L941.057 1587.39 L937.778 1600.56 L932.654 1600.56 L935.964 1587.39 L925.938 1587.39 L925.938 1582.52 L937.142 1582.52 L939.815 1571.89 L929.566 1571.89 L929.566 1566.98 L941.057 1566.98 L944.303 1553.78 L949.459 1553.78 Z\" fill=\"#000000\" fill-rule=\"evenodd\" fill-opacity=\"1\" /><path clip-path=\"url(#clip040)\" d=\"M1002.17 1551.04 L1008.06 1551.04 L1008.06 1580.29 L1025.53 1564.92 L1033.01 1564.92 L1014.1 1581.59 L1033.8 1600.56 L1026.17 1600.56 L1008.06 1583.15 L1008.06 1600.56 L1002.17 1600.56 L1002.17 1551.04 Z\" fill=\"#000000\" fill-rule=\"evenodd\" fill-opacity=\"1\" /><path clip-path=\"url(#clip040)\" d=\"M1067.89 1571.76 Q1070.09 1567.81 1073.15 1565.93 Q1076.2 1564.06 1080.34 1564.06 Q1085.91 1564.06 1088.93 1567.97 Q1091.96 1571.85 1091.96 1579.05 L1091.96 1600.56 L1086.07 1600.56 L1086.07 1579.24 Q1086.07 1574.11 1084.25 1571.63 Q1082.44 1569.15 1078.72 1569.15 Q1074.16 1569.15 1071.52 1572.17 Q1068.88 1575.2 1068.88 1580.42 L1068.88 1600.56 L1062.99 1600.56 L1062.99 1579.24 Q1062.99 1574.08 1061.18 1571.63 Q1059.36 1569.15 1055.58 1569.15 Q1051.09 1569.15 1048.45 1572.2 Q1045.8 1575.23 1045.8 1580.42 L1045.8 1600.56 L1039.92 1600.56 L1039.92 1564.92 L1045.8 1564.92 L1045.8 1570.45 Q1047.81 1567.18 1050.61 1565.62 Q1053.41 1564.06 1057.26 1564.06 Q1061.15 1564.06 1063.85 1566.03 Q1066.59 1568 1067.89 1571.76 Z\" fill=\"#000000\" fill-rule=\"evenodd\" fill-opacity=\"1\" /><path clip-path=\"url(#clip040)\" d=\"M1134.13 1581.28 L1134.13 1584.14 L1107.2 1584.14 Q1107.58 1590.19 1110.83 1593.37 Q1114.11 1596.52 1119.93 1596.52 Q1123.31 1596.52 1126.46 1595.69 Q1129.64 1594.87 1132.76 1593.21 L1132.76 1598.75 Q1129.61 1600.09 1126.3 1600.79 Q1122.99 1601.49 1119.58 1601.49 Q1111.05 1601.49 1106.06 1596.52 Q1101.09 1591.56 1101.09 1583.09 Q1101.09 1574.34 1105.8 1569.21 Q1110.54 1564.06 1118.56 1564.06 Q1125.76 1564.06 1129.93 1568.7 Q1134.13 1573.32 1134.13 1581.28 M1128.27 1579.56 Q1128.21 1574.75 1125.57 1571.89 Q1122.96 1569.02 1118.63 1569.02 Q1113.73 1569.02 1110.77 1571.79 Q1107.84 1574.56 1107.39 1579.59 L1128.27 1579.56 Z\" fill=\"#000000\" fill-rule=\"evenodd\" fill-opacity=\"1\" /><path clip-path=\"url(#clip040)\" d=\"M1164.4 1570.39 Q1163.41 1569.82 1162.23 1569.56 Q1161.09 1569.28 1159.69 1569.28 Q1154.72 1569.28 1152.05 1572.52 Q1149.41 1575.74 1149.41 1581.79 L1149.41 1600.56 L1143.52 1600.56 L1143.52 1564.92 L1149.41 1564.92 L1149.41 1570.45 Q1151.25 1567.21 1154.21 1565.65 Q1157.17 1564.06 1161.41 1564.06 Q1162.01 1564.06 1162.74 1564.15 Q1163.47 1564.22 1164.37 1564.37 L1164.4 1570.39 Z\" fill=\"#000000\" fill-rule=\"evenodd\" fill-opacity=\"1\" /><path clip-path=\"url(#clip040)\" d=\"M1193.27 1565.97 L1193.27 1571.5 Q1190.78 1570.23 1188.11 1569.59 Q1185.44 1568.96 1182.57 1568.96 Q1178.21 1568.96 1176.01 1570.29 Q1173.85 1571.63 1173.85 1574.31 Q1173.85 1576.34 1175.41 1577.52 Q1176.97 1578.67 1181.68 1579.72 L1183.69 1580.16 Q1189.92 1581.5 1192.53 1583.95 Q1195.18 1586.37 1195.18 1590.73 Q1195.18 1595.69 1191.23 1598.59 Q1187.31 1601.49 1180.44 1601.49 Q1177.57 1601.49 1174.46 1600.91 Q1171.37 1600.37 1167.93 1599.26 L1167.93 1593.21 Q1171.18 1594.9 1174.33 1595.76 Q1177.48 1596.59 1180.57 1596.59 Q1184.7 1596.59 1186.93 1595.18 Q1189.16 1593.75 1189.16 1591.17 Q1189.16 1588.79 1187.54 1587.51 Q1185.95 1586.24 1180.5 1585.06 L1178.47 1584.59 Q1173.02 1583.44 1170.6 1581.08 Q1168.19 1578.7 1168.19 1574.56 Q1168.19 1569.53 1171.75 1566.79 Q1175.31 1564.06 1181.87 1564.06 Q1185.12 1564.06 1187.98 1564.53 Q1190.85 1565.01 1193.27 1565.97 Z\" fill=\"#000000\" fill-rule=\"evenodd\" fill-opacity=\"1\" /><path clip-path=\"url(#clip040)\" d=\"M1241.42 1582.64 Q1234.32 1582.64 1231.59 1584.27 Q1228.85 1585.89 1228.85 1589.81 Q1228.85 1592.92 1230.89 1594.77 Q1232.96 1596.59 1236.49 1596.59 Q1241.36 1596.59 1244.29 1593.15 Q1247.25 1589.68 1247.25 1583.95 L1247.25 1582.64 L1241.42 1582.64 M1253.1 1580.23 L1253.1 1600.56 L1247.25 1600.56 L1247.25 1595.15 Q1245.24 1598.4 1242.25 1599.96 Q1239.26 1601.49 1234.93 1601.49 Q1229.45 1601.49 1226.21 1598.43 Q1222.99 1595.34 1222.99 1590.19 Q1222.99 1584.17 1227 1581.12 Q1231.05 1578.06 1239.04 1578.06 L1247.25 1578.06 L1247.25 1577.49 Q1247.25 1573.45 1244.57 1571.25 Q1241.93 1569.02 1237.13 1569.02 Q1234.07 1569.02 1231.17 1569.75 Q1228.28 1570.49 1225.6 1571.95 L1225.6 1566.54 Q1228.82 1565.3 1231.84 1564.69 Q1234.87 1564.06 1237.73 1564.06 Q1245.46 1564.06 1249.28 1568.07 Q1253.1 1572.08 1253.1 1580.23 Z\" fill=\"#000000\" fill-rule=\"evenodd\" fill-opacity=\"1\" /><path clip-path=\"url(#clip040)\" d=\"M1287.89 1565.97 L1287.89 1571.5 Q1285.41 1570.23 1282.74 1569.59 Q1280.06 1568.96 1277.2 1568.96 Q1272.84 1568.96 1270.64 1570.29 Q1268.48 1571.63 1268.48 1574.31 Q1268.48 1576.34 1270.04 1577.52 Q1271.6 1578.67 1276.31 1579.72 L1278.31 1580.16 Q1284.55 1581.5 1287.16 1583.95 Q1289.8 1586.37 1289.8 1590.73 Q1289.8 1595.69 1285.86 1598.59 Q1281.94 1601.49 1275.07 1601.49 Q1272.2 1601.49 1269.08 1600.91 Q1265.99 1600.37 1262.56 1599.26 L1262.56 1593.21 Q1265.8 1594.9 1268.95 1595.76 Q1272.11 1596.59 1275.19 1596.59 Q1279.33 1596.59 1281.56 1595.18 Q1283.79 1593.75 1283.79 1591.17 Q1283.79 1588.79 1282.16 1587.51 Q1280.57 1586.24 1275.13 1585.06 L1273.09 1584.59 Q1267.65 1583.44 1265.23 1581.08 Q1262.81 1578.7 1262.81 1574.56 Q1262.81 1569.53 1266.38 1566.79 Q1269.94 1564.06 1276.5 1564.06 Q1279.74 1564.06 1282.61 1564.53 Q1285.47 1565.01 1287.89 1565.97 Z\" fill=\"#000000\" fill-rule=\"evenodd\" fill-opacity=\"1\" /><path clip-path=\"url(#clip040)\" d=\"M1321.85 1565.97 L1321.85 1571.5 Q1319.37 1570.23 1316.7 1569.59 Q1314.02 1568.96 1311.16 1568.96 Q1306.8 1568.96 1304.6 1570.29 Q1302.44 1571.63 1302.44 1574.31 Q1302.44 1576.34 1304 1577.52 Q1305.56 1578.67 1310.27 1579.72 L1312.27 1580.16 Q1318.51 1581.5 1321.12 1583.95 Q1323.76 1586.37 1323.76 1590.73 Q1323.76 1595.69 1319.82 1598.59 Q1315.9 1601.49 1309.03 1601.49 Q1306.16 1601.49 1303.04 1600.91 Q1299.96 1600.37 1296.52 1599.26 L1296.52 1593.21 Q1299.76 1594.9 1302.92 1595.76 Q1306.07 1596.59 1309.15 1596.59 Q1313.29 1596.59 1315.52 1595.18 Q1317.75 1593.75 1317.75 1591.17 Q1317.75 1588.79 1316.12 1587.51 Q1314.53 1586.24 1309.09 1585.06 L1307.05 1584.59 Q1301.61 1583.44 1299.19 1581.08 Q1296.77 1578.7 1296.77 1574.56 Q1296.77 1569.53 1300.34 1566.79 Q1303.9 1564.06 1310.46 1564.06 Q1313.71 1564.06 1316.57 1564.53 Q1319.43 1565.01 1321.85 1565.97 Z\" fill=\"#000000\" fill-rule=\"evenodd\" fill-opacity=\"1\" /><path clip-path=\"url(#clip040)\" d=\"M1363.58 1581.28 L1363.58 1584.14 L1336.65 1584.14 Q1337.04 1590.19 1340.28 1593.37 Q1343.56 1596.52 1349.38 1596.52 Q1352.76 1596.52 1355.91 1595.69 Q1359.09 1594.87 1362.21 1593.21 L1362.21 1598.75 Q1359.06 1600.09 1355.75 1600.79 Q1352.44 1601.49 1349.03 1601.49 Q1340.5 1601.49 1335.51 1596.52 Q1330.54 1591.56 1330.54 1583.09 Q1330.54 1574.34 1335.25 1569.21 Q1340 1564.06 1348.02 1564.06 Q1355.21 1564.06 1359.38 1568.7 Q1363.58 1573.32 1363.58 1581.28 M1357.72 1579.56 Q1357.66 1574.75 1355.02 1571.89 Q1352.41 1569.02 1348.08 1569.02 Q1343.18 1569.02 1340.22 1571.79 Q1337.29 1574.56 1336.84 1579.59 L1357.72 1579.56 Z\" fill=\"#000000\" fill-rule=\"evenodd\" fill-opacity=\"1\" /><path clip-path=\"url(#clip040)\" d=\"M1395.92 1565.97 L1395.92 1571.5 Q1393.44 1570.23 1390.76 1569.59 Q1388.09 1568.96 1385.22 1568.96 Q1380.86 1568.96 1378.67 1570.29 Q1376.5 1571.63 1376.5 1574.31 Q1376.5 1576.34 1378.06 1577.52 Q1379.62 1578.67 1384.33 1579.72 L1386.34 1580.16 Q1392.58 1581.5 1395.19 1583.95 Q1397.83 1586.37 1397.83 1590.73 Q1397.83 1595.69 1393.88 1598.59 Q1389.97 1601.49 1383.09 1601.49 Q1380.23 1601.49 1377.11 1600.91 Q1374.02 1600.37 1370.58 1599.26 L1370.58 1593.21 Q1373.83 1594.9 1376.98 1595.76 Q1380.13 1596.59 1383.22 1596.59 Q1387.36 1596.59 1389.58 1595.18 Q1391.81 1593.75 1391.81 1591.17 Q1391.81 1588.79 1390.19 1587.51 Q1388.6 1586.24 1383.15 1585.06 L1381.12 1584.59 Q1375.68 1583.44 1373.26 1581.08 Q1370.84 1578.7 1370.84 1574.56 Q1370.84 1569.53 1374.4 1566.79 Q1377.97 1564.06 1384.52 1564.06 Q1387.77 1564.06 1390.63 1564.53 Q1393.5 1565.01 1395.92 1565.97 Z\" fill=\"#000000\" fill-rule=\"evenodd\" fill-opacity=\"1\" /><path clip-path=\"url(#clip040)\" d=\"M1429.88 1565.97 L1429.88 1571.5 Q1427.4 1570.23 1424.72 1569.59 Q1422.05 1568.96 1419.18 1568.96 Q1414.82 1568.96 1412.63 1570.29 Q1410.46 1571.63 1410.46 1574.31 Q1410.46 1576.34 1412.02 1577.52 Q1413.58 1578.67 1418.29 1579.72 L1420.3 1580.16 Q1426.54 1581.5 1429.15 1583.95 Q1431.79 1586.37 1431.79 1590.73 Q1431.79 1595.69 1427.84 1598.59 Q1423.93 1601.49 1417.05 1601.49 Q1414.19 1601.49 1411.07 1600.91 Q1407.98 1600.37 1404.54 1599.26 L1404.54 1593.21 Q1407.79 1594.9 1410.94 1595.76 Q1414.09 1596.59 1417.18 1596.59 Q1421.32 1596.59 1423.55 1595.18 Q1425.77 1593.75 1425.77 1591.17 Q1425.77 1588.79 1424.15 1587.51 Q1422.56 1586.24 1417.12 1585.06 L1415.08 1584.59 Q1409.64 1583.44 1407.22 1581.08 Q1404.8 1578.7 1404.8 1574.56 Q1404.8 1569.53 1408.36 1566.79 Q1411.93 1564.06 1418.48 1564.06 Q1421.73 1564.06 1424.6 1564.53 Q1427.46 1565.01 1429.88 1565.97 Z\" fill=\"#000000\" fill-rule=\"evenodd\" fill-opacity=\"1\" /><path clip-path=\"url(#clip040)\" d=\"M1471.61 1581.28 L1471.61 1584.14 L1444.68 1584.14 Q1445.06 1590.19 1448.31 1593.37 Q1451.59 1596.52 1457.41 1596.52 Q1460.78 1596.52 1463.94 1595.69 Q1467.12 1594.87 1470.24 1593.21 L1470.24 1598.75 Q1467.09 1600.09 1463.78 1600.79 Q1460.47 1601.49 1457.06 1601.49 Q1448.53 1601.49 1443.53 1596.52 Q1438.57 1591.56 1438.57 1583.09 Q1438.57 1574.34 1443.28 1569.21 Q1448.02 1564.06 1456.04 1564.06 Q1463.24 1564.06 1467.41 1568.7 Q1471.61 1573.32 1471.61 1581.28 M1465.75 1579.56 Q1465.69 1574.75 1463.04 1571.89 Q1460.43 1569.02 1456.11 1569.02 Q1451.2 1569.02 1448.24 1571.79 Q1445.32 1574.56 1444.87 1579.59 L1465.75 1579.56 Z\" fill=\"#000000\" fill-rule=\"evenodd\" fill-opacity=\"1\" /><path clip-path=\"url(#clip040)\" d=\"M1504.68 1570.33 L1504.68 1551.04 L1510.53 1551.04 L1510.53 1600.56 L1504.68 1600.56 L1504.68 1595.22 Q1502.83 1598.4 1500 1599.96 Q1497.2 1601.49 1493.25 1601.49 Q1486.79 1601.49 1482.71 1596.33 Q1478.67 1591.17 1478.67 1582.77 Q1478.67 1574.37 1482.71 1569.21 Q1486.79 1564.06 1493.25 1564.06 Q1497.2 1564.06 1500 1565.62 Q1502.83 1567.14 1504.68 1570.33 M1484.72 1582.77 Q1484.72 1589.23 1487.36 1592.92 Q1490.04 1596.59 1494.68 1596.59 Q1499.33 1596.59 1502 1592.92 Q1504.68 1589.23 1504.68 1582.77 Q1504.68 1576.31 1502 1572.65 Q1499.33 1568.96 1494.68 1568.96 Q1490.04 1568.96 1487.36 1572.65 Q1484.72 1576.31 1484.72 1582.77 Z\" fill=\"#000000\" fill-rule=\"evenodd\" fill-opacity=\"1\" /><polyline clip-path=\"url(#clip042)\" style=\"stroke:#000000; stroke-linecap:butt; stroke-linejoin:round; stroke-width:2; stroke-opacity:0.1; fill:none\" points=\"\n",
       "  231.403,1405.91 2205.07,1405.91 \n",
       "  \"/>\n",
       "<polyline clip-path=\"url(#clip042)\" style=\"stroke:#000000; stroke-linecap:butt; stroke-linejoin:round; stroke-width:2; stroke-opacity:0.1; fill:none\" points=\"\n",
       "  231.403,1159.86 2205.07,1159.86 \n",
       "  \"/>\n",
       "<polyline clip-path=\"url(#clip042)\" style=\"stroke:#000000; stroke-linecap:butt; stroke-linejoin:round; stroke-width:2; stroke-opacity:0.1; fill:none\" points=\"\n",
       "  231.403,913.812 2205.07,913.812 \n",
       "  \"/>\n",
       "<polyline clip-path=\"url(#clip042)\" style=\"stroke:#000000; stroke-linecap:butt; stroke-linejoin:round; stroke-width:2; stroke-opacity:0.1; fill:none\" points=\"\n",
       "  231.403,667.765 2205.07,667.765 \n",
       "  \"/>\n",
       "<polyline clip-path=\"url(#clip042)\" style=\"stroke:#000000; stroke-linecap:butt; stroke-linejoin:round; stroke-width:2; stroke-opacity:0.1; fill:none\" points=\"\n",
       "  231.403,421.718 2205.07,421.718 \n",
       "  \"/>\n",
       "<polyline clip-path=\"url(#clip042)\" style=\"stroke:#000000; stroke-linecap:butt; stroke-linejoin:round; stroke-width:2; stroke-opacity:0.1; fill:none\" points=\"\n",
       "  231.403,175.671 2205.07,175.671 \n",
       "  \"/>\n",
       "<polyline clip-path=\"url(#clip040)\" style=\"stroke:#000000; stroke-linecap:butt; stroke-linejoin:round; stroke-width:4; stroke-opacity:1; fill:none\" points=\"\n",
       "  231.403,1443.7 231.403,108.352 \n",
       "  \"/>\n",
       "<polyline clip-path=\"url(#clip040)\" style=\"stroke:#000000; stroke-linecap:butt; stroke-linejoin:round; stroke-width:4; stroke-opacity:1; fill:none\" points=\"\n",
       "  231.403,1405.91 244.17,1405.91 \n",
       "  \"/>\n",
       "<polyline clip-path=\"url(#clip040)\" style=\"stroke:#000000; stroke-linecap:butt; stroke-linejoin:round; stroke-width:4; stroke-opacity:1; fill:none\" points=\"\n",
       "  231.403,1159.86 244.17,1159.86 \n",
       "  \"/>\n",
       "<polyline clip-path=\"url(#clip040)\" style=\"stroke:#000000; stroke-linecap:butt; stroke-linejoin:round; stroke-width:4; stroke-opacity:1; fill:none\" points=\"\n",
       "  231.403,913.812 244.17,913.812 \n",
       "  \"/>\n",
       "<polyline clip-path=\"url(#clip040)\" style=\"stroke:#000000; stroke-linecap:butt; stroke-linejoin:round; stroke-width:4; stroke-opacity:1; fill:none\" points=\"\n",
       "  231.403,667.765 244.17,667.765 \n",
       "  \"/>\n",
       "<polyline clip-path=\"url(#clip040)\" style=\"stroke:#000000; stroke-linecap:butt; stroke-linejoin:round; stroke-width:4; stroke-opacity:1; fill:none\" points=\"\n",
       "  231.403,421.718 244.17,421.718 \n",
       "  \"/>\n",
       "<polyline clip-path=\"url(#clip040)\" style=\"stroke:#000000; stroke-linecap:butt; stroke-linejoin:round; stroke-width:4; stroke-opacity:1; fill:none\" points=\"\n",
       "  231.403,175.671 244.17,175.671 \n",
       "  \"/>\n",
       "<path clip-path=\"url(#clip040)\" d=\"M171.458 1391.71 Q167.847 1391.71 166.019 1395.27 Q164.213 1398.81 164.213 1405.94 Q164.213 1413.05 166.019 1416.61 Q167.847 1420.15 171.458 1420.15 Q175.093 1420.15 176.898 1416.61 Q178.727 1413.05 178.727 1405.94 Q178.727 1398.81 176.898 1395.27 Q175.093 1391.71 171.458 1391.71 M171.458 1388 Q177.269 1388 180.324 1392.61 Q183.403 1397.19 183.403 1405.94 Q183.403 1414.67 180.324 1419.27 Q177.269 1423.86 171.458 1423.86 Q165.648 1423.86 162.57 1419.27 Q159.514 1414.67 159.514 1405.94 Q159.514 1397.19 162.57 1392.61 Q165.648 1388 171.458 1388 Z\" fill=\"#000000\" fill-rule=\"evenodd\" fill-opacity=\"1\" /><path clip-path=\"url(#clip040)\" d=\"M101.945 1173.2 L109.584 1173.2 L109.584 1146.84 L101.274 1148.51 L101.274 1144.25 L109.538 1142.58 L114.213 1142.58 L114.213 1173.2 L121.852 1173.2 L121.852 1177.14 L101.945 1177.14 L101.945 1173.2 Z\" fill=\"#000000\" fill-rule=\"evenodd\" fill-opacity=\"1\" /><path clip-path=\"url(#clip040)\" d=\"M141.297 1145.66 Q137.686 1145.66 135.857 1149.22 Q134.051 1152.76 134.051 1159.89 Q134.051 1167 135.857 1170.57 Q137.686 1174.11 141.297 1174.11 Q144.931 1174.11 146.736 1170.57 Q148.565 1167 148.565 1159.89 Q148.565 1152.76 146.736 1149.22 Q144.931 1145.66 141.297 1145.66 M141.297 1141.95 Q147.107 1141.95 150.162 1146.56 Q153.241 1151.14 153.241 1159.89 Q153.241 1168.62 150.162 1173.23 Q147.107 1177.81 141.297 1177.81 Q135.486 1177.81 132.408 1173.23 Q129.352 1168.62 129.352 1159.89 Q129.352 1151.14 132.408 1146.56 Q135.486 1141.95 141.297 1141.95 Z\" fill=\"#000000\" fill-rule=\"evenodd\" fill-opacity=\"1\" /><path clip-path=\"url(#clip040)\" d=\"M171.458 1145.66 Q167.847 1145.66 166.019 1149.22 Q164.213 1152.76 164.213 1159.89 Q164.213 1167 166.019 1170.57 Q167.847 1174.11 171.458 1174.11 Q175.093 1174.11 176.898 1170.57 Q178.727 1167 178.727 1159.89 Q178.727 1152.76 176.898 1149.22 Q175.093 1145.66 171.458 1145.66 M171.458 1141.95 Q177.269 1141.95 180.324 1146.56 Q183.403 1151.14 183.403 1159.89 Q183.403 1168.62 180.324 1173.23 Q177.269 1177.81 171.458 1177.81 Q165.648 1177.81 162.57 1173.23 Q159.514 1168.62 159.514 1159.89 Q159.514 1151.14 162.57 1146.56 Q165.648 1141.95 171.458 1141.95 Z\" fill=\"#000000\" fill-rule=\"evenodd\" fill-opacity=\"1\" /><path clip-path=\"url(#clip040)\" d=\"M105.163 927.157 L121.482 927.157 L121.482 931.092 L99.5376 931.092 L99.5376 927.157 Q102.2 924.403 106.783 919.773 Q111.389 915.12 112.57 913.778 Q114.815 911.255 115.695 909.518 Q116.598 907.759 116.598 906.069 Q116.598 903.315 114.653 901.579 Q112.732 899.843 109.63 899.843 Q107.431 899.843 104.977 900.607 Q102.547 901.37 99.769 902.921 L99.769 898.199 Q102.593 897.065 105.047 896.486 Q107.5 895.907 109.538 895.907 Q114.908 895.907 118.102 898.593 Q121.297 901.278 121.297 905.769 Q121.297 907.898 120.487 909.819 Q119.699 911.718 117.593 914.31 Q117.014 914.981 113.912 918.199 Q110.811 921.393 105.163 927.157 Z\" fill=\"#000000\" fill-rule=\"evenodd\" fill-opacity=\"1\" /><path clip-path=\"url(#clip040)\" d=\"M141.297 899.611 Q137.686 899.611 135.857 903.176 Q134.051 906.718 134.051 913.847 Q134.051 920.954 135.857 924.518 Q137.686 928.06 141.297 928.06 Q144.931 928.06 146.736 924.518 Q148.565 920.954 148.565 913.847 Q148.565 906.718 146.736 903.176 Q144.931 899.611 141.297 899.611 M141.297 895.907 Q147.107 895.907 150.162 900.514 Q153.241 905.097 153.241 913.847 Q153.241 922.574 150.162 927.18 Q147.107 931.764 141.297 931.764 Q135.486 931.764 132.408 927.18 Q129.352 922.574 129.352 913.847 Q129.352 905.097 132.408 900.514 Q135.486 895.907 141.297 895.907 Z\" fill=\"#000000\" fill-rule=\"evenodd\" fill-opacity=\"1\" /><path clip-path=\"url(#clip040)\" d=\"M171.458 899.611 Q167.847 899.611 166.019 903.176 Q164.213 906.718 164.213 913.847 Q164.213 920.954 166.019 924.518 Q167.847 928.06 171.458 928.06 Q175.093 928.06 176.898 924.518 Q178.727 920.954 178.727 913.847 Q178.727 906.718 176.898 903.176 Q175.093 899.611 171.458 899.611 M171.458 895.907 Q177.269 895.907 180.324 900.514 Q183.403 905.097 183.403 913.847 Q183.403 922.574 180.324 927.18 Q177.269 931.764 171.458 931.764 Q165.648 931.764 162.57 927.18 Q159.514 922.574 159.514 913.847 Q159.514 905.097 162.57 900.514 Q165.648 895.907 171.458 895.907 Z\" fill=\"#000000\" fill-rule=\"evenodd\" fill-opacity=\"1\" /><path clip-path=\"url(#clip040)\" d=\"M115.301 666.411 Q118.658 667.129 120.533 669.397 Q122.431 671.666 122.431 674.999 Q122.431 680.115 118.912 682.916 Q115.394 685.716 108.913 685.716 Q106.737 685.716 104.422 685.277 Q102.13 684.86 99.6764 684.004 L99.6764 679.49 Q101.621 680.624 103.936 681.203 Q106.25 681.781 108.774 681.781 Q113.172 681.781 115.463 680.045 Q117.778 678.309 117.778 674.999 Q117.778 671.943 115.625 670.23 Q113.496 668.494 109.676 668.494 L105.649 668.494 L105.649 664.652 L109.862 664.652 Q113.311 664.652 115.139 663.286 Q116.968 661.897 116.968 659.305 Q116.968 656.643 115.07 655.231 Q113.195 653.795 109.676 653.795 Q107.755 653.795 105.556 654.212 Q103.357 654.629 100.718 655.508 L100.718 651.342 Q103.38 650.601 105.695 650.231 Q108.033 649.86 110.093 649.86 Q115.417 649.86 118.519 652.291 Q121.621 654.698 121.621 658.818 Q121.621 661.689 119.977 663.68 Q118.334 665.647 115.301 666.411 Z\" fill=\"#000000\" fill-rule=\"evenodd\" fill-opacity=\"1\" /><path clip-path=\"url(#clip040)\" d=\"M141.297 653.564 Q137.686 653.564 135.857 657.129 Q134.051 660.67 134.051 667.8 Q134.051 674.906 135.857 678.471 Q137.686 682.013 141.297 682.013 Q144.931 682.013 146.736 678.471 Q148.565 674.906 148.565 667.8 Q148.565 660.67 146.736 657.129 Q144.931 653.564 141.297 653.564 M141.297 649.86 Q147.107 649.86 150.162 654.467 Q153.241 659.05 153.241 667.8 Q153.241 676.527 150.162 681.133 Q147.107 685.716 141.297 685.716 Q135.486 685.716 132.408 681.133 Q129.352 676.527 129.352 667.8 Q129.352 659.05 132.408 654.467 Q135.486 649.86 141.297 649.86 Z\" fill=\"#000000\" fill-rule=\"evenodd\" fill-opacity=\"1\" /><path clip-path=\"url(#clip040)\" d=\"M171.458 653.564 Q167.847 653.564 166.019 657.129 Q164.213 660.67 164.213 667.8 Q164.213 674.906 166.019 678.471 Q167.847 682.013 171.458 682.013 Q175.093 682.013 176.898 678.471 Q178.727 674.906 178.727 667.8 Q178.727 660.67 176.898 657.129 Q175.093 653.564 171.458 653.564 M171.458 649.86 Q177.269 649.86 180.324 654.467 Q183.403 659.05 183.403 667.8 Q183.403 676.527 180.324 681.133 Q177.269 685.716 171.458 685.716 Q165.648 685.716 162.57 681.133 Q159.514 676.527 159.514 667.8 Q159.514 659.05 162.57 654.467 Q165.648 649.86 171.458 649.86 Z\" fill=\"#000000\" fill-rule=\"evenodd\" fill-opacity=\"1\" /><path clip-path=\"url(#clip040)\" d=\"M113.982 408.512 L102.176 426.961 L113.982 426.961 L113.982 408.512 M112.755 404.438 L118.635 404.438 L118.635 426.961 L123.565 426.961 L123.565 430.85 L118.635 430.85 L118.635 438.998 L113.982 438.998 L113.982 430.85 L98.3802 430.85 L98.3802 426.336 L112.755 404.438 Z\" fill=\"#000000\" fill-rule=\"evenodd\" fill-opacity=\"1\" /><path clip-path=\"url(#clip040)\" d=\"M141.297 407.517 Q137.686 407.517 135.857 411.081 Q134.051 414.623 134.051 421.753 Q134.051 428.859 135.857 432.424 Q137.686 435.966 141.297 435.966 Q144.931 435.966 146.736 432.424 Q148.565 428.859 148.565 421.753 Q148.565 414.623 146.736 411.081 Q144.931 407.517 141.297 407.517 M141.297 403.813 Q147.107 403.813 150.162 408.419 Q153.241 413.003 153.241 421.753 Q153.241 430.479 150.162 435.086 Q147.107 439.669 141.297 439.669 Q135.486 439.669 132.408 435.086 Q129.352 430.479 129.352 421.753 Q129.352 413.003 132.408 408.419 Q135.486 403.813 141.297 403.813 Z\" fill=\"#000000\" fill-rule=\"evenodd\" fill-opacity=\"1\" /><path clip-path=\"url(#clip040)\" d=\"M171.458 407.517 Q167.847 407.517 166.019 411.081 Q164.213 414.623 164.213 421.753 Q164.213 428.859 166.019 432.424 Q167.847 435.966 171.458 435.966 Q175.093 435.966 176.898 432.424 Q178.727 428.859 178.727 421.753 Q178.727 414.623 176.898 411.081 Q175.093 407.517 171.458 407.517 M171.458 403.813 Q177.269 403.813 180.324 408.419 Q183.403 413.003 183.403 421.753 Q183.403 430.479 180.324 435.086 Q177.269 439.669 171.458 439.669 Q165.648 439.669 162.57 435.086 Q159.514 430.479 159.514 421.753 Q159.514 413.003 162.57 408.419 Q165.648 403.813 171.458 403.813 Z\" fill=\"#000000\" fill-rule=\"evenodd\" fill-opacity=\"1\" /><path clip-path=\"url(#clip040)\" d=\"M101.181 158.391 L119.537 158.391 L119.537 162.326 L105.463 162.326 L105.463 170.798 Q106.482 170.451 107.5 170.289 Q108.519 170.104 109.538 170.104 Q115.325 170.104 118.704 173.275 Q122.084 176.446 122.084 181.863 Q122.084 187.441 118.612 190.543 Q115.139 193.622 108.82 193.622 Q106.644 193.622 104.375 193.252 Q102.13 192.881 99.7227 192.14 L99.7227 187.441 Q101.806 188.576 104.028 189.131 Q106.25 189.687 108.727 189.687 Q112.732 189.687 115.07 187.58 Q117.408 185.474 117.408 181.863 Q117.408 178.252 115.07 176.145 Q112.732 174.039 108.727 174.039 Q106.852 174.039 104.977 174.455 Q103.126 174.872 101.181 175.752 L101.181 158.391 Z\" fill=\"#000000\" fill-rule=\"evenodd\" fill-opacity=\"1\" /><path clip-path=\"url(#clip040)\" d=\"M141.297 161.469 Q137.686 161.469 135.857 165.034 Q134.051 168.576 134.051 175.705 Q134.051 182.812 135.857 186.377 Q137.686 189.918 141.297 189.918 Q144.931 189.918 146.736 186.377 Q148.565 182.812 148.565 175.705 Q148.565 168.576 146.736 165.034 Q144.931 161.469 141.297 161.469 M141.297 157.766 Q147.107 157.766 150.162 162.372 Q153.241 166.955 153.241 175.705 Q153.241 184.432 150.162 189.039 Q147.107 193.622 141.297 193.622 Q135.486 193.622 132.408 189.039 Q129.352 184.432 129.352 175.705 Q129.352 166.955 132.408 162.372 Q135.486 157.766 141.297 157.766 Z\" fill=\"#000000\" fill-rule=\"evenodd\" fill-opacity=\"1\" /><path clip-path=\"url(#clip040)\" d=\"M171.458 161.469 Q167.847 161.469 166.019 165.034 Q164.213 168.576 164.213 175.705 Q164.213 182.812 166.019 186.377 Q167.847 189.918 171.458 189.918 Q175.093 189.918 176.898 186.377 Q178.727 182.812 178.727 175.705 Q178.727 168.576 176.898 165.034 Q175.093 161.469 171.458 161.469 M171.458 157.766 Q177.269 157.766 180.324 162.372 Q183.403 166.955 183.403 175.705 Q183.403 184.432 180.324 189.039 Q177.269 193.622 171.458 193.622 Q165.648 193.622 162.57 189.039 Q159.514 184.432 159.514 175.705 Q159.514 166.955 162.57 162.372 Q165.648 157.766 171.458 157.766 Z\" fill=\"#000000\" fill-rule=\"evenodd\" fill-opacity=\"1\" /><path clip-path=\"url(#clip040)\" d=\"M7.44665 1004.48 L7.44665 1013.74 L18.0774 1016.41 L18.0774 1007.09 L7.44665 1004.48 M-10.6638 1009.25 L2.54506 1012.56 L2.54506 1003.27 L-10.6638 999.924 L-10.6638 994.831 L2.54506 998.11 L2.54506 988.179 L7.44665 988.179 L7.44665 999.351 L18.0774 1001.96 L18.0774 991.839 L22.9471 991.839 L22.9471 1003.2 L36.1242 1006.51 L36.1242 1011.6 L22.9471 1008.33 L22.9471 1017.65 L36.1242 1020.93 L36.1242 1026.06 L22.9471 1022.74 L22.9471 1032.77 L18.0774 1032.77 L18.0774 1021.57 L7.44665 1018.89 L7.44665 1029.14 L2.54506 1029.14 L2.54506 1017.65 L-10.6638 1014.41 L-10.6638 1009.25 Z\" fill=\"#000000\" fill-rule=\"evenodd\" fill-opacity=\"1\" /><path clip-path=\"url(#clip040)\" d=\"M22.0559 956.923 L0.4762 956.923 L0.4762 951.067 L21.8331 951.067 Q26.8939 951.067 29.4402 949.094 Q31.9546 947.12 31.9546 943.174 Q31.9546 938.431 28.9309 935.694 Q25.9072 932.925 20.6873 932.925 L0.4762 932.925 L0.4762 927.068 L36.1242 927.068 L36.1242 932.925 L30.6496 932.925 Q33.8962 935.057 35.4876 937.89 Q37.0472 940.691 37.0472 944.415 Q37.0472 950.558 33.2278 953.741 Q29.4083 956.923 22.0559 956.923 M-0.38317 942.187 L-0.38317 942.187 Z\" fill=\"#000000\" fill-rule=\"evenodd\" fill-opacity=\"1\" /><path clip-path=\"url(#clip040)\" d=\"M14.6081 885.373 L36.1242 885.373 L36.1242 891.229 L14.799 891.229 Q9.7383 891.229 7.22385 893.203 Q4.7094 895.176 4.7094 899.123 Q4.7094 903.865 7.73311 906.603 Q10.7568 909.34 15.9767 909.34 L36.1242 909.34 L36.1242 915.228 L0.4762 915.228 L0.4762 909.34 L6.01437 909.34 Q2.79968 907.239 1.20826 904.406 Q-0.38317 901.542 -0.38317 897.818 Q-0.38317 891.675 3.43625 888.524 Q7.22385 885.373 14.6081 885.373 Z\" fill=\"#000000\" fill-rule=\"evenodd\" fill-opacity=\"1\" /><path clip-path=\"url(#clip040)\" d=\"M0.4762 873.692 L0.4762 867.835 L36.1242 867.835 L36.1242 873.692 L0.4762 873.692 M-13.401 873.692 L-13.401 867.835 L-5.98499 867.835 L-5.98499 873.692 L-13.401 873.692 Z\" fill=\"#000000\" fill-rule=\"evenodd\" fill-opacity=\"1\" /><path clip-path=\"url(#clip040)\" d=\"M18.332 852.08 Q24.7932 852.08 28.4853 849.438 Q32.1456 846.765 32.1456 842.118 Q32.1456 837.471 28.4853 834.797 Q24.7932 832.124 18.332 832.124 Q11.8708 832.124 8.21053 834.797 Q4.51842 837.471 4.51842 842.118 Q4.51842 846.765 8.21053 849.438 Q11.8708 852.08 18.332 852.08 M30.777 832.124 Q33.9598 833.97 35.5194 836.803 Q37.0472 839.603 37.0472 843.55 Q37.0472 850.011 31.891 854.085 Q26.7347 858.128 18.332 858.128 Q9.92927 858.128 4.77305 854.085 Q-0.38317 850.011 -0.38317 843.55 Q-0.38317 839.603 1.17643 836.803 Q2.7042 833.97 5.88705 832.124 L0.4762 832.124 L0.4762 826.267 L49.6831 826.267 L49.6831 832.124 L30.777 832.124 Z\" fill=\"#000000\" fill-rule=\"evenodd\" fill-opacity=\"1\" /><path clip-path=\"url(#clip040)\" d=\"M22.0559 814.809 L0.4762 814.809 L0.4762 808.953 L21.8331 808.953 Q26.8939 808.953 29.4402 806.979 Q31.9546 805.006 31.9546 801.059 Q31.9546 796.317 28.9309 793.579 Q25.9072 790.81 20.6873 790.81 L0.4762 790.81 L0.4762 784.954 L36.1242 784.954 L36.1242 790.81 L30.6496 790.81 Q33.8962 792.943 35.4876 795.776 Q37.0472 798.576 37.0472 802.3 Q37.0472 808.443 33.2278 811.626 Q29.4083 814.809 22.0559 814.809 M-0.38317 800.072 L-0.38317 800.072 Z\" fill=\"#000000\" fill-rule=\"evenodd\" fill-opacity=\"1\" /><path clip-path=\"url(#clip040)\" d=\"M16.8361 742.399 L19.7006 742.399 L19.7006 769.326 Q25.7481 768.944 28.9309 765.698 Q32.0819 762.419 32.0819 756.595 Q32.0819 753.221 31.2544 750.07 Q30.4269 746.887 28.7718 743.768 L34.3099 743.768 Q35.6467 746.919 36.347 750.229 Q37.0472 753.539 37.0472 756.945 Q37.0472 765.475 32.0819 770.472 Q27.1167 775.437 18.6503 775.437 Q9.89745 775.437 4.77305 770.727 Q-0.38317 765.984 -0.38317 757.963 Q-0.38317 750.77 4.2638 746.601 Q8.87893 742.399 16.8361 742.399 M15.1173 748.256 Q10.3112 748.319 7.44665 750.961 Q4.58208 753.571 4.58208 757.9 Q4.58208 762.801 7.35116 765.761 Q10.1202 768.69 15.1492 769.135 L15.1173 748.256 Z\" fill=\"#000000\" fill-rule=\"evenodd\" fill-opacity=\"1\" /><path clip-path=\"url(#clip040)\" d=\"M-13.401 712.289 L-13.401 706.401 L15.8494 706.401 L0.4762 688.927 L0.4762 681.447 L17.1544 700.354 L36.1242 680.652 L36.1242 688.291 L18.7139 706.401 L36.1242 706.401 L36.1242 712.289 L-13.401 712.289 Z\" fill=\"#000000\" fill-rule=\"evenodd\" fill-opacity=\"1\" /><path clip-path=\"url(#clip040)\" d=\"M7.31933 646.563 Q3.3726 644.367 1.49471 641.312 Q-0.38317 638.256 -0.38317 634.118 Q-0.38317 628.548 3.53174 625.525 Q7.41482 622.501 14.6081 622.501 L36.1242 622.501 L36.1242 628.389 L14.799 628.389 Q9.67465 628.389 7.19202 630.204 Q4.7094 632.018 4.7094 635.742 Q4.7094 640.293 7.73311 642.935 Q10.7568 645.577 15.9767 645.577 L36.1242 645.577 L36.1242 651.465 L14.799 651.465 Q9.64282 651.465 7.19202 653.279 Q4.7094 655.093 4.7094 658.881 Q4.7094 663.369 7.76493 666.011 Q10.7886 668.652 15.9767 668.652 L36.1242 668.652 L36.1242 674.541 L0.4762 674.541 L0.4762 668.652 L6.01437 668.652 Q2.73603 666.647 1.17643 663.846 Q-0.38317 661.045 -0.38317 657.194 Q-0.38317 653.311 1.5902 650.606 Q3.56357 647.868 7.31933 646.563 Z\" fill=\"#000000\" fill-rule=\"evenodd\" fill-opacity=\"1\" /><path clip-path=\"url(#clip040)\" d=\"M16.8361 580.328 L19.7006 580.328 L19.7006 607.255 Q25.7481 606.873 28.9309 603.627 Q32.0819 600.348 32.0819 594.524 Q32.0819 591.15 31.2544 587.999 Q30.4269 584.816 28.7718 581.697 L34.3099 581.697 Q35.6467 584.848 36.347 588.158 Q37.0472 591.468 37.0472 594.874 Q37.0472 603.404 32.0819 608.401 Q27.1167 613.366 18.6503 613.366 Q9.89745 613.366 4.77305 608.656 Q-0.38317 603.913 -0.38317 595.892 Q-0.38317 588.699 4.2638 584.53 Q8.87893 580.328 16.8361 580.328 M15.1173 586.185 Q10.3112 586.248 7.44665 588.89 Q4.58208 591.5 4.58208 595.829 Q4.58208 600.73 7.35116 603.69 Q10.1202 606.619 15.1492 607.064 L15.1173 586.185 Z\" fill=\"#000000\" fill-rule=\"evenodd\" fill-opacity=\"1\" /><path clip-path=\"url(#clip040)\" d=\"M5.95071 550.059 Q5.37779 551.046 5.12317 552.224 Q4.83671 553.369 4.83671 554.77 Q4.83671 559.735 8.08322 562.409 Q11.2979 565.051 17.3453 565.051 L36.1242 565.051 L36.1242 570.939 L0.4762 570.939 L0.4762 565.051 L6.01437 565.051 Q2.76785 563.204 1.20826 560.244 Q-0.38317 557.284 -0.38317 553.051 Q-0.38317 552.446 -0.287684 551.714 Q-0.224027 550.982 -0.0648847 550.091 L5.95071 550.059 Z\" fill=\"#000000\" fill-rule=\"evenodd\" fill-opacity=\"1\" /><path clip-path=\"url(#clip040)\" d=\"M1.52654 521.191 L7.06471 521.191 Q5.79157 523.673 5.15499 526.347 Q4.51842 529.021 4.51842 531.885 Q4.51842 536.246 5.85522 538.442 Q7.19202 540.606 9.86562 540.606 Q11.9026 540.606 13.0803 539.047 Q14.2261 537.487 15.2765 532.776 L15.7221 530.771 Q17.0589 524.533 19.5097 521.923 Q21.9286 519.281 26.2891 519.281 Q31.2544 519.281 34.1508 523.228 Q37.0472 527.143 37.0472 534.018 Q37.0472 536.882 36.4743 540.001 Q35.9332 543.089 34.8192 546.526 L28.7718 546.526 Q30.4587 543.28 31.318 540.129 Q32.1456 536.978 32.1456 533.89 Q32.1456 529.753 30.7451 527.525 Q29.3129 525.297 26.7347 525.297 Q24.3476 525.297 23.0745 526.92 Q21.8013 528.511 20.6237 533.954 L20.1462 535.991 Q19.0004 541.434 16.6451 543.853 Q14.258 546.272 10.1202 546.272 Q5.09134 546.272 2.35408 542.707 Q-0.38317 539.142 -0.38317 532.585 Q-0.38317 529.339 0.0942579 526.474 Q0.571686 523.61 1.52654 521.191 Z\" fill=\"#000000\" fill-rule=\"evenodd\" fill-opacity=\"1\" /><path clip-path=\"url(#clip040)\" d=\"M613.739 28.5427 L613.739 35.5912 Q610.579 33.9709 607.177 33.1607 Q603.774 32.3505 600.128 32.3505 Q594.578 32.3505 591.783 34.0519 Q589.029 35.7533 589.029 39.156 Q589.029 41.7486 591.014 43.2475 Q592.999 44.7058 598.994 46.0426 L601.546 46.6097 Q609.486 48.3111 612.807 51.4303 Q616.17 54.509 616.17 60.0587 Q616.17 66.3781 611.147 70.0644 Q606.164 73.7508 597.414 73.7508 Q593.768 73.7508 589.798 73.0216 Q585.869 72.3329 581.494 70.9151 L581.494 63.2184 Q585.626 65.3654 589.636 66.4591 Q593.647 67.5124 597.576 67.5124 Q602.842 67.5124 605.678 65.73 Q608.514 63.9071 608.514 60.6258 Q608.514 57.5877 606.448 55.9673 Q604.422 54.3469 597.495 52.8481 L594.902 52.2405 Q587.975 50.7821 584.897 47.7845 Q581.818 44.7463 581.818 39.4801 Q581.818 33.0797 586.355 29.5959 Q590.892 26.1121 599.237 26.1121 Q603.369 26.1121 607.015 26.7198 Q610.661 27.3274 613.739 28.5427 Z\" fill=\"#000000\" fill-rule=\"evenodd\" fill-opacity=\"1\" /><path clip-path=\"url(#clip040)\" d=\"M666.847 48.0275 L666.847 51.6733 L632.576 51.6733 Q633.062 59.3701 637.194 63.421 Q641.366 67.4314 648.78 67.4314 Q653.073 67.4314 657.084 66.3781 Q661.135 65.3249 665.105 63.2184 L665.105 70.267 Q661.094 71.9684 656.881 72.8596 Q652.668 73.7508 648.334 73.7508 Q637.477 73.7508 631.118 67.4314 Q624.798 61.1119 624.798 50.3365 Q624.798 39.1965 630.794 32.6746 Q636.829 26.1121 647.038 26.1121 Q656.193 26.1121 661.499 32.0264 Q666.847 37.9003 666.847 48.0275 M659.393 45.84 Q659.312 39.7232 655.95 36.0774 Q652.628 32.4315 647.119 32.4315 Q640.88 32.4315 637.113 35.9558 Q633.386 39.4801 632.819 45.8805 L659.393 45.84 Z\" fill=\"#000000\" fill-rule=\"evenodd\" fill-opacity=\"1\" /><path clip-path=\"url(#clip040)\" d=\"M683.536 49.9314 Q683.536 58.1548 686.899 62.8538 Q690.301 67.5124 696.216 67.5124 Q702.13 67.5124 705.533 62.8538 Q708.935 58.1548 708.935 49.9314 Q708.935 41.7081 705.533 37.0496 Q702.13 32.3505 696.216 32.3505 Q690.301 32.3505 686.899 37.0496 Q683.536 41.7081 683.536 49.9314 M708.935 65.7705 Q706.586 69.8214 702.981 71.8063 Q699.416 73.7508 694.393 73.7508 Q686.169 73.7508 680.984 67.1883 Q675.84 60.6258 675.84 49.9314 Q675.84 39.2371 680.984 32.6746 Q686.169 26.1121 694.393 26.1121 Q699.416 26.1121 702.981 28.0971 Q706.586 30.0415 708.935 34.0924 L708.935 27.2059 L716.389 27.2059 L716.389 89.8329 L708.935 89.8329 L708.935 65.7705 Z\" fill=\"#000000\" fill-rule=\"evenodd\" fill-opacity=\"1\" /><path clip-path=\"url(#clip040)\" d=\"M730.972 54.671 L730.972 27.2059 L738.426 27.2059 L738.426 54.3874 Q738.426 60.8284 740.938 64.0691 Q743.449 67.2693 748.472 67.2693 Q754.508 67.2693 757.992 63.421 Q761.516 59.5726 761.516 52.9291 L761.516 27.2059 L768.97 27.2059 L768.97 72.576 L761.516 72.576 L761.516 65.6084 Q758.802 69.7404 755.197 71.7658 Q751.632 73.7508 746.892 73.7508 Q739.074 73.7508 735.023 68.8897 Q730.972 64.0286 730.972 54.671 M749.728 26.1121 L749.728 26.1121 Z\" fill=\"#000000\" fill-rule=\"evenodd\" fill-opacity=\"1\" /><path clip-path=\"url(#clip040)\" d=\"M823.13 48.0275 L823.13 51.6733 L788.86 51.6733 Q789.346 59.3701 793.478 63.421 Q797.65 67.4314 805.063 67.4314 Q809.357 67.4314 813.368 66.3781 Q817.419 65.3249 821.389 63.2184 L821.389 70.267 Q817.378 71.9684 813.165 72.8596 Q808.952 73.7508 804.618 73.7508 Q793.761 73.7508 787.401 67.4314 Q781.082 61.1119 781.082 50.3365 Q781.082 39.1965 787.077 32.6746 Q793.113 26.1121 803.322 26.1121 Q812.477 26.1121 817.783 32.0264 Q823.13 37.9003 823.13 48.0275 M815.677 45.84 Q815.596 39.7232 812.234 36.0774 Q808.912 32.4315 803.403 32.4315 Q797.164 32.4315 793.397 35.9558 Q789.67 39.4801 789.103 45.8805 L815.677 45.84 Z\" fill=\"#000000\" fill-rule=\"evenodd\" fill-opacity=\"1\" /><path clip-path=\"url(#clip040)\" d=\"M873.078 45.1919 L873.078 72.576 L865.624 72.576 L865.624 45.4349 Q865.624 38.994 863.113 35.7938 Q860.601 32.5936 855.578 32.5936 Q849.542 32.5936 846.059 36.4419 Q842.575 40.2903 842.575 46.9338 L842.575 72.576 L835.081 72.576 L835.081 27.2059 L842.575 27.2059 L842.575 34.2544 Q845.248 30.163 848.854 28.1376 Q852.499 26.1121 857.239 26.1121 Q865.057 26.1121 869.068 30.9732 Q873.078 35.7938 873.078 45.1919 Z\" fill=\"#000000\" fill-rule=\"evenodd\" fill-opacity=\"1\" /><path clip-path=\"url(#clip040)\" d=\"M920.595 28.9478 L920.595 35.9153 Q917.435 34.1734 914.235 33.3227 Q911.076 32.4315 907.835 32.4315 Q900.584 32.4315 896.573 37.0496 Q892.563 41.6271 892.563 49.9314 Q892.563 58.2358 896.573 62.8538 Q900.584 67.4314 907.835 67.4314 Q911.076 67.4314 914.235 66.5807 Q917.435 65.6895 920.595 63.9476 L920.595 70.8341 Q917.476 72.2924 914.114 73.0216 Q910.792 73.7508 907.025 73.7508 Q896.776 73.7508 890.74 67.3098 Q884.704 60.8689 884.704 49.9314 Q884.704 38.832 890.781 32.472 Q896.897 26.1121 907.511 26.1121 Q910.954 26.1121 914.235 26.8413 Q917.517 27.5299 920.595 28.9478 Z\" fill=\"#000000\" fill-rule=\"evenodd\" fill-opacity=\"1\" /><path clip-path=\"url(#clip040)\" d=\"M933.558 27.2059 L941.012 27.2059 L941.012 72.576 L933.558 72.576 L933.558 27.2059 M933.558 9.54393 L941.012 9.54393 L941.012 18.9825 L933.558 18.9825 L933.558 9.54393 Z\" fill=\"#000000\" fill-rule=\"evenodd\" fill-opacity=\"1\" /><path clip-path=\"url(#clip040)\" d=\"M994.322 45.1919 L994.322 72.576 L986.868 72.576 L986.868 45.4349 Q986.868 38.994 984.356 35.7938 Q981.845 32.5936 976.822 32.5936 Q970.786 32.5936 967.302 36.4419 Q963.818 40.2903 963.818 46.9338 L963.818 72.576 L956.324 72.576 L956.324 27.2059 L963.818 27.2059 L963.818 34.2544 Q966.492 30.163 970.097 28.1376 Q973.743 26.1121 978.483 26.1121 Q986.301 26.1121 990.311 30.9732 Q994.322 35.7938 994.322 45.1919 Z\" fill=\"#000000\" fill-rule=\"evenodd\" fill-opacity=\"1\" /><path clip-path=\"url(#clip040)\" d=\"M1039.04 49.3643 Q1039.04 41.2625 1035.68 36.8065 Q1032.36 32.3505 1026.32 32.3505 Q1020.33 32.3505 1016.97 36.8065 Q1013.64 41.2625 1013.64 49.3643 Q1013.64 57.4256 1016.97 61.8816 Q1020.33 66.3376 1026.32 66.3376 Q1032.36 66.3376 1035.68 61.8816 Q1039.04 57.4256 1039.04 49.3643 M1046.5 66.9452 Q1046.5 78.5308 1041.35 84.1616 Q1036.21 89.8329 1025.59 89.8329 Q1021.67 89.8329 1018.18 89.2252 Q1014.7 88.6581 1011.42 87.4428 L1011.42 80.1917 Q1014.7 81.9741 1017.9 82.8248 Q1021.1 83.6755 1024.42 83.6755 Q1031.75 83.6755 1035.4 79.8271 Q1039.04 76.0193 1039.04 68.282 L1039.04 64.5957 Q1036.73 68.6061 1033.13 70.5911 Q1029.52 72.576 1024.5 72.576 Q1016.16 72.576 1011.05 66.2161 Q1005.95 59.8562 1005.95 49.3643 Q1005.95 38.832 1011.05 32.472 Q1016.16 26.1121 1024.5 26.1121 Q1029.52 26.1121 1033.13 28.0971 Q1036.73 30.082 1039.04 34.0924 L1039.04 27.2059 L1046.5 27.2059 L1046.5 66.9452 Z\" fill=\"#000000\" fill-rule=\"evenodd\" fill-opacity=\"1\" /><path clip-path=\"url(#clip040)\" d=\"M1117.15 28.5427 L1117.15 35.5912 Q1113.99 33.9709 1110.58 33.1607 Q1107.18 32.3505 1103.53 32.3505 Q1097.98 32.3505 1095.19 34.0519 Q1092.43 35.7533 1092.43 39.156 Q1092.43 41.7486 1094.42 43.2475 Q1096.4 44.7058 1102.4 46.0426 L1104.95 46.6097 Q1112.89 48.3111 1116.21 51.4303 Q1119.58 54.509 1119.58 60.0587 Q1119.58 66.3781 1114.55 70.0644 Q1109.57 73.7508 1100.82 73.7508 Q1097.17 73.7508 1093.2 73.0216 Q1089.27 72.3329 1084.9 70.9151 L1084.9 63.2184 Q1089.03 65.3654 1093.04 66.4591 Q1097.05 67.5124 1100.98 67.5124 Q1106.25 67.5124 1109.08 65.73 Q1111.92 63.9071 1111.92 60.6258 Q1111.92 57.5877 1109.85 55.9673 Q1107.83 54.3469 1100.9 52.8481 L1098.31 52.2405 Q1091.38 50.7821 1088.3 47.7845 Q1085.22 44.7463 1085.22 39.4801 Q1085.22 33.0797 1089.76 29.5959 Q1094.3 26.1121 1102.64 26.1121 Q1106.77 26.1121 1110.42 26.7198 Q1114.07 27.3274 1117.15 28.5427 Z\" fill=\"#000000\" fill-rule=\"evenodd\" fill-opacity=\"1\" /><path clip-path=\"url(#clip040)\" d=\"M1152.06 49.7694 Q1143.03 49.7694 1139.55 51.8354 Q1136.06 53.9013 1136.06 58.8839 Q1136.06 62.8538 1138.66 65.2034 Q1141.29 67.5124 1145.78 67.5124 Q1151.98 67.5124 1155.71 63.1374 Q1159.48 58.7219 1159.48 51.4303 L1159.48 49.7694 L1152.06 49.7694 M1166.93 46.6907 L1166.93 72.576 L1159.48 72.576 L1159.48 65.6895 Q1156.92 69.8214 1153.12 71.8063 Q1149.31 73.7508 1143.8 73.7508 Q1136.83 73.7508 1132.7 69.8619 Q1128.61 65.9325 1128.61 59.3701 Q1128.61 51.7138 1133.71 47.825 Q1138.86 43.9361 1149.03 43.9361 L1159.48 43.9361 L1159.48 43.2069 Q1159.48 38.0623 1156.07 35.2672 Q1152.71 32.4315 1146.6 32.4315 Q1142.71 32.4315 1139.02 33.3632 Q1135.33 34.295 1131.93 36.1584 L1131.93 29.2718 Q1136.02 27.692 1139.87 26.9223 Q1143.72 26.1121 1147.36 26.1121 Q1157.21 26.1121 1162.07 31.2163 Q1166.93 36.3204 1166.93 46.6907 Z\" fill=\"#000000\" fill-rule=\"evenodd\" fill-opacity=\"1\" /><path clip-path=\"url(#clip040)\" d=\"M1189.66 14.324 L1189.66 27.2059 L1205.01 27.2059 L1205.01 32.9987 L1189.66 32.9987 L1189.66 57.6282 Q1189.66 63.1779 1191.16 64.7578 Q1192.69 66.3376 1197.35 66.3376 L1205.01 66.3376 L1205.01 72.576 L1197.35 72.576 Q1188.72 72.576 1185.44 69.3758 Q1182.16 66.1351 1182.16 57.6282 L1182.16 32.9987 L1176.69 32.9987 L1176.69 27.2059 L1182.16 27.2059 L1182.16 14.324 L1189.66 14.324 Z\" fill=\"#000000\" fill-rule=\"evenodd\" fill-opacity=\"1\" /><path clip-path=\"url(#clip040)\" d=\"M1214.04 54.671 L1214.04 27.2059 L1221.5 27.2059 L1221.5 54.3874 Q1221.5 60.8284 1224.01 64.0691 Q1226.52 67.2693 1231.54 67.2693 Q1237.58 67.2693 1241.06 63.421 Q1244.59 59.5726 1244.59 52.9291 L1244.59 27.2059 L1252.04 27.2059 L1252.04 72.576 L1244.59 72.576 L1244.59 65.6084 Q1241.87 69.7404 1238.27 71.7658 Q1234.7 73.7508 1229.96 73.7508 Q1222.14 73.7508 1218.09 68.8897 Q1214.04 64.0286 1214.04 54.671 M1232.8 26.1121 L1232.8 26.1121 Z\" fill=\"#000000\" fill-rule=\"evenodd\" fill-opacity=\"1\" /><path clip-path=\"url(#clip040)\" d=\"M1293.68 34.1734 Q1292.43 33.4443 1290.93 33.1202 Q1289.47 32.7556 1287.69 32.7556 Q1281.37 32.7556 1277.97 36.8875 Q1274.6 40.9789 1274.6 48.6757 L1274.6 72.576 L1267.11 72.576 L1267.11 27.2059 L1274.6 27.2059 L1274.6 34.2544 Q1276.95 30.1225 1280.72 28.1376 Q1284.49 26.1121 1289.88 26.1121 Q1290.65 26.1121 1291.58 26.2337 Q1292.51 26.3147 1293.64 26.5172 L1293.68 34.1734 Z\" fill=\"#000000\" fill-rule=\"evenodd\" fill-opacity=\"1\" /><path clip-path=\"url(#clip040)\" d=\"M1322.12 49.7694 Q1313.09 49.7694 1309.6 51.8354 Q1306.12 53.9013 1306.12 58.8839 Q1306.12 62.8538 1308.71 65.2034 Q1311.35 67.5124 1315.84 67.5124 Q1322.04 67.5124 1325.77 63.1374 Q1329.53 58.7219 1329.53 51.4303 L1329.53 49.7694 L1322.12 49.7694 M1336.99 46.6907 L1336.99 72.576 L1329.53 72.576 L1329.53 65.6895 Q1326.98 69.8214 1323.17 71.8063 Q1319.37 73.7508 1313.86 73.7508 Q1306.89 73.7508 1302.76 69.8619 Q1298.67 65.9325 1298.67 59.3701 Q1298.67 51.7138 1303.77 47.825 Q1308.91 43.9361 1319.08 43.9361 L1329.53 43.9361 L1329.53 43.2069 Q1329.53 38.0623 1326.13 35.2672 Q1322.77 32.4315 1316.65 32.4315 Q1312.76 32.4315 1309.08 33.3632 Q1305.39 34.295 1301.99 36.1584 L1301.99 29.2718 Q1306.08 27.692 1309.93 26.9223 Q1313.78 26.1121 1317.42 26.1121 Q1327.27 26.1121 1332.13 31.2163 Q1336.99 36.3204 1336.99 46.6907 Z\" fill=\"#000000\" fill-rule=\"evenodd\" fill-opacity=\"1\" /><path clip-path=\"url(#clip040)\" d=\"M1359.71 14.324 L1359.71 27.2059 L1375.07 27.2059 L1375.07 32.9987 L1359.71 32.9987 L1359.71 57.6282 Q1359.71 63.1779 1361.21 64.7578 Q1362.75 66.3376 1367.41 66.3376 L1375.07 66.3376 L1375.07 72.576 L1367.41 72.576 Q1358.78 72.576 1355.5 69.3758 Q1352.22 66.1351 1352.22 57.6282 L1352.22 32.9987 L1346.75 32.9987 L1346.75 27.2059 L1352.22 27.2059 L1352.22 14.324 L1359.71 14.324 Z\" fill=\"#000000\" fill-rule=\"evenodd\" fill-opacity=\"1\" /><path clip-path=\"url(#clip040)\" d=\"M1384.87 27.2059 L1392.32 27.2059 L1392.32 72.576 L1384.87 72.576 L1384.87 27.2059 M1384.87 9.54393 L1392.32 9.54393 L1392.32 18.9825 L1384.87 18.9825 L1384.87 9.54393 Z\" fill=\"#000000\" fill-rule=\"evenodd\" fill-opacity=\"1\" /><path clip-path=\"url(#clip040)\" d=\"M1425.5 32.4315 Q1419.5 32.4315 1416.02 37.1306 Q1412.54 41.7891 1412.54 49.9314 Q1412.54 58.0738 1415.98 62.7728 Q1419.46 67.4314 1425.5 67.4314 Q1431.45 67.4314 1434.94 62.7323 Q1438.42 58.0333 1438.42 49.9314 Q1438.42 41.8701 1434.94 37.1711 Q1431.45 32.4315 1425.5 32.4315 M1425.5 26.1121 Q1435.22 26.1121 1440.77 32.4315 Q1446.32 38.7509 1446.32 49.9314 Q1446.32 61.0714 1440.77 67.4314 Q1435.22 73.7508 1425.5 73.7508 Q1415.74 73.7508 1410.19 67.4314 Q1404.68 61.0714 1404.68 49.9314 Q1404.68 38.7509 1410.19 32.4315 Q1415.74 26.1121 1425.5 26.1121 Z\" fill=\"#000000\" fill-rule=\"evenodd\" fill-opacity=\"1\" /><path clip-path=\"url(#clip040)\" d=\"M1496.39 45.1919 L1496.39 72.576 L1488.94 72.576 L1488.94 45.4349 Q1488.94 38.994 1486.43 35.7938 Q1483.91 32.5936 1478.89 32.5936 Q1472.85 32.5936 1469.37 36.4419 Q1465.89 40.2903 1465.89 46.9338 L1465.89 72.576 L1458.39 72.576 L1458.39 27.2059 L1465.89 27.2059 L1465.89 34.2544 Q1468.56 30.163 1472.17 28.1376 Q1475.81 26.1121 1480.55 26.1121 Q1488.37 26.1121 1492.38 30.9732 Q1496.39 35.7938 1496.39 45.1919 Z\" fill=\"#000000\" fill-rule=\"evenodd\" fill-opacity=\"1\" /><path clip-path=\"url(#clip040)\" d=\"M1560.68 50.8226 Q1560.68 56.6154 1563.55 59.9372 Q1566.43 63.2184 1571.45 63.2184 Q1576.44 63.2184 1579.27 59.8967 Q1582.15 56.5749 1582.15 50.8226 Q1582.15 45.1514 1579.23 41.8296 Q1576.32 38.4674 1571.37 38.4674 Q1566.47 38.4674 1563.55 41.7891 Q1560.68 45.1109 1560.68 50.8226 M1582.76 62.9348 Q1580.33 66.054 1577.17 67.5529 Q1574.05 69.0112 1569.87 69.0112 Q1562.91 69.0112 1558.53 63.9881 Q1554.2 58.9245 1554.2 50.8226 Q1554.2 42.7208 1558.57 37.6572 Q1562.95 32.5936 1569.87 32.5936 Q1574.05 32.5936 1577.21 34.1329 Q1580.37 35.6318 1582.76 38.7104 L1582.76 33.4038 L1588.55 33.4038 L1588.55 63.2184 Q1594.46 62.3272 1597.78 57.8307 Q1601.15 53.2937 1601.15 46.1236 Q1601.15 41.7891 1599.85 37.9813 Q1598.6 34.1734 1596 30.9327 Q1591.79 25.626 1585.71 22.8309 Q1579.68 19.9953 1572.55 19.9953 Q1567.57 19.9953 1562.99 21.3321 Q1558.41 22.6284 1554.52 25.2209 Q1548.16 29.3529 1544.56 36.0774 Q1540.99 42.7613 1540.99 50.5796 Q1540.99 57.0205 1543.3 62.6513 Q1545.65 68.282 1550.07 72.576 Q1554.32 76.7889 1559.91 78.9764 Q1565.5 81.2044 1571.86 81.2044 Q1577.08 81.2044 1582.11 79.422 Q1587.17 77.6801 1591.38 74.3989 L1595.03 78.8954 Q1589.97 82.8248 1583.97 84.8907 Q1578.02 86.9972 1571.86 86.9972 Q1564.36 86.9972 1557.72 84.3236 Q1551.08 81.6905 1545.89 76.6269 Q1540.71 71.5633 1537.99 64.9198 Q1535.28 58.2358 1535.28 50.5796 Q1535.28 43.2069 1538.03 36.523 Q1540.79 29.839 1545.89 24.7753 Q1551.12 19.6307 1557.96 16.9166 Q1564.81 14.162 1572.47 14.162 Q1581.05 14.162 1588.39 17.6862 Q1595.76 21.2105 1600.74 27.692 Q1603.78 31.6619 1605.36 36.3204 Q1606.98 40.9789 1606.98 45.9616 Q1606.98 56.6154 1600.54 62.7728 Q1594.1 68.9302 1582.76 69.1732 L1582.76 62.9348 Z\" fill=\"#000000\" fill-rule=\"evenodd\" fill-opacity=\"1\" /><path clip-path=\"url(#clip040)\" d=\"M1646.68 9.54393 L1654.17 9.54393 L1654.17 46.7717 L1676.41 27.2059 L1685.93 27.2059 L1661.87 48.4326 L1686.95 72.576 L1677.22 72.576 L1654.17 50.4176 L1654.17 72.576 L1646.68 72.576 L1646.68 9.54393 Z\" fill=\"#000000\" fill-rule=\"evenodd\" fill-opacity=\"1\" /><path clip-path=\"url(#clip040)\" d=\"M1722.35 34.9026 L1774.28 34.9026 L1774.28 41.7081 L1722.35 41.7081 L1722.35 34.9026 M1722.35 51.4303 L1774.28 51.4303 L1774.28 58.3168 L1722.35 58.3168 L1722.35 51.4303 Z\" fill=\"#000000\" fill-rule=\"evenodd\" fill-opacity=\"1\" /><path clip-path=\"url(#clip040)\" d=\"M1818.4 12.096 L1850.52 12.096 L1850.52 18.9825 L1825.89 18.9825 L1825.89 33.8088 Q1827.67 33.2012 1829.46 32.9176 Q1831.24 32.5936 1833.02 32.5936 Q1843.15 32.5936 1849.06 38.1433 Q1854.98 43.6931 1854.98 53.1722 Q1854.98 62.9348 1848.9 68.3631 Q1842.82 73.7508 1831.77 73.7508 Q1827.96 73.7508 1823.99 73.1026 Q1820.06 72.4545 1815.85 71.1582 L1815.85 62.9348 Q1819.49 64.9198 1823.38 65.892 Q1827.27 66.8642 1831.6 66.8642 Q1838.61 66.8642 1842.7 63.1779 Q1846.79 59.4916 1846.79 53.1722 Q1846.79 46.8528 1842.7 43.1664 Q1838.61 39.4801 1831.6 39.4801 Q1828.32 39.4801 1825.04 40.2093 Q1821.8 40.9384 1818.4 42.4778 L1818.4 12.096 Z\" fill=\"#000000\" fill-rule=\"evenodd\" fill-opacity=\"1\" /><circle clip-path=\"url(#clip042)\" cx=\"287.261\" cy=\"1405.91\" r=\"14\" fill=\"#009af9\" fill-rule=\"evenodd\" fill-opacity=\"1\" stroke=\"#000000\" stroke-opacity=\"1\" stroke-width=\"3.2\"/>\n",
       "<circle clip-path=\"url(#clip042)\" cx=\"289.177\" cy=\"1403.45\" r=\"14\" fill=\"#009af9\" fill-rule=\"evenodd\" fill-opacity=\"1\" stroke=\"#000000\" stroke-opacity=\"1\" stroke-width=\"3.2\"/>\n",
       "<circle clip-path=\"url(#clip042)\" cx=\"291.092\" cy=\"1400.99\" r=\"14\" fill=\"#009af9\" fill-rule=\"evenodd\" fill-opacity=\"1\" stroke=\"#000000\" stroke-opacity=\"1\" stroke-width=\"3.2\"/>\n",
       "<circle clip-path=\"url(#clip042)\" cx=\"294.924\" cy=\"1396.07\" r=\"14\" fill=\"#009af9\" fill-rule=\"evenodd\" fill-opacity=\"1\" stroke=\"#000000\" stroke-opacity=\"1\" stroke-width=\"3.2\"/>\n",
       "<circle clip-path=\"url(#clip042)\" cx=\"302.586\" cy=\"1386.22\" r=\"14\" fill=\"#009af9\" fill-rule=\"evenodd\" fill-opacity=\"1\" stroke=\"#000000\" stroke-opacity=\"1\" stroke-width=\"3.2\"/>\n",
       "<circle clip-path=\"url(#clip042)\" cx=\"317.911\" cy=\"1366.54\" r=\"14\" fill=\"#009af9\" fill-rule=\"evenodd\" fill-opacity=\"1\" stroke=\"#000000\" stroke-opacity=\"1\" stroke-width=\"3.2\"/>\n",
       "<circle clip-path=\"url(#clip042)\" cx=\"348.56\" cy=\"1327.17\" r=\"14\" fill=\"#009af9\" fill-rule=\"evenodd\" fill-opacity=\"1\" stroke=\"#000000\" stroke-opacity=\"1\" stroke-width=\"3.2\"/>\n",
       "<circle clip-path=\"url(#clip042)\" cx=\"409.859\" cy=\"1260.74\" r=\"14\" fill=\"#009af9\" fill-rule=\"evenodd\" fill-opacity=\"1\" stroke=\"#000000\" stroke-opacity=\"1\" stroke-width=\"3.2\"/>\n",
       "<circle clip-path=\"url(#clip042)\" cx=\"532.456\" cy=\"1162.32\" r=\"14\" fill=\"#009af9\" fill-rule=\"evenodd\" fill-opacity=\"1\" stroke=\"#000000\" stroke-opacity=\"1\" stroke-width=\"3.2\"/>\n",
       "<circle clip-path=\"url(#clip042)\" cx=\"777.651\" cy=\"1056.52\" r=\"14\" fill=\"#009af9\" fill-rule=\"evenodd\" fill-opacity=\"1\" stroke=\"#000000\" stroke-opacity=\"1\" stroke-width=\"3.2\"/>\n",
       "<circle clip-path=\"url(#clip042)\" cx=\"1268.04\" cy=\"931.036\" r=\"14\" fill=\"#009af9\" fill-rule=\"evenodd\" fill-opacity=\"1\" stroke=\"#000000\" stroke-opacity=\"1\" stroke-width=\"3.2\"/>\n",
       "<circle clip-path=\"url(#clip042)\" cx=\"2149.21\" cy=\"734.198\" r=\"14\" fill=\"#009af9\" fill-rule=\"evenodd\" fill-opacity=\"1\" stroke=\"#000000\" stroke-opacity=\"1\" stroke-width=\"3.2\"/>\n",
       "<polyline clip-path=\"url(#clip042)\" style=\"stroke:#e26f46; stroke-linecap:butt; stroke-linejoin:round; stroke-width:4; stroke-opacity:1; fill:none\" points=\"\n",
       "  -1742.26,146.145 4178.73,146.145 \n",
       "  \"/>\n",
       "<polyline clip-path=\"url(#clip042)\" style=\"stroke:#3da44d; stroke-linecap:butt; stroke-linejoin:round; stroke-width:4; stroke-opacity:1; fill:none\" points=\"\n",
       "  -1742.26,495.532 4178.73,495.532 \n",
       "  \"/>\n",
       "<polyline clip-path=\"url(#clip042)\" style=\"stroke:#c271d2; stroke-linecap:butt; stroke-linejoin:round; stroke-width:4; stroke-opacity:1; fill:none\" points=\"\n",
       "  1042,2779.05 1042,-1227 \n",
       "  \"/>\n",
       "<polyline clip-path=\"url(#clip042)\" style=\"stroke:#ac8d18; stroke-linecap:butt; stroke-linejoin:round; stroke-width:4; stroke-opacity:1; fill:none\" points=\"\n",
       "  287.261,1405.91 289.177,1403.6 291.092,1401.31 294.924,1396.76 302.586,1387.79 317.911,1370.37 348.56,1337.51 409.859,1278.69 532.456,1182.69 777.651,1047.46 \n",
       "  1042,950.907 1268.04,891.69 2149.21,758.559 \n",
       "  \"/>\n",
       "<path clip-path=\"url(#clip040)\" d=\"\n",
       "M2302.45 463.904 L3152.76 463.904 L3152.76 152.864 L2302.45 152.864  Z\n",
       "  \" fill=\"#ffffff\" fill-rule=\"evenodd\" fill-opacity=\"1\"/>\n",
       "<polyline clip-path=\"url(#clip040)\" style=\"stroke:#000000; stroke-linecap:butt; stroke-linejoin:round; stroke-width:4; stroke-opacity:1; fill:none\" points=\"\n",
       "  2302.45,463.904 3152.76,463.904 3152.76,152.864 2302.45,152.864 2302.45,463.904 \n",
       "  \"/>\n",
       "<circle clip-path=\"url(#clip040)\" cx=\"2432.28\" cy=\"204.704\" r=\"23\" fill=\"#009af9\" fill-rule=\"evenodd\" fill-opacity=\"1\" stroke=\"#000000\" stroke-opacity=\"1\" stroke-width=\"5.12\"/>\n",
       "<path clip-path=\"url(#clip040)\" d=\"M2574.02 199.044 Q2570.59 199.044 2568.6 201.729 Q2566.61 204.391 2566.61 209.044 Q2566.61 213.697 2568.58 216.382 Q2570.57 219.044 2574.02 219.044 Q2577.42 219.044 2579.41 216.359 Q2581.4 213.674 2581.4 209.044 Q2581.4 204.438 2579.41 201.752 Q2577.42 199.044 2574.02 199.044 M2574.02 195.433 Q2579.58 195.433 2582.75 199.044 Q2585.92 202.655 2585.92 209.044 Q2585.92 215.41 2582.75 219.044 Q2579.58 222.655 2574.02 222.655 Q2568.44 222.655 2565.27 219.044 Q2562.12 215.41 2562.12 209.044 Q2562.12 202.655 2565.27 199.044 Q2568.44 195.433 2574.02 195.433 Z\" fill=\"#000000\" fill-rule=\"evenodd\" fill-opacity=\"1\" /><path clip-path=\"url(#clip040)\" d=\"M2611.59 209.044 Q2611.59 204.345 2609.65 201.683 Q2607.72 198.998 2604.34 198.998 Q2600.96 198.998 2599.02 201.683 Q2597.1 204.345 2597.1 209.044 Q2597.1 213.743 2599.02 216.428 Q2600.96 219.09 2604.34 219.09 Q2607.72 219.09 2609.65 216.428 Q2611.59 213.743 2611.59 209.044 M2597.1 199.993 Q2598.44 197.678 2600.48 196.567 Q2602.54 195.433 2605.39 195.433 Q2610.11 195.433 2613.05 199.183 Q2616.01 202.933 2616.01 209.044 Q2616.01 215.155 2613.05 218.905 Q2610.11 222.655 2605.39 222.655 Q2602.54 222.655 2600.48 221.544 Q2598.44 220.41 2597.1 218.095 L2597.1 221.984 L2592.82 221.984 L2592.82 185.965 L2597.1 185.965 L2597.1 199.993 Z\" fill=\"#000000\" fill-rule=\"evenodd\" fill-opacity=\"1\" /><path clip-path=\"url(#clip040)\" d=\"M2639.6 196.822 L2639.6 200.85 Q2637.79 199.924 2635.85 199.461 Q2633.9 198.998 2631.82 198.998 Q2628.65 198.998 2627.05 199.97 Q2625.48 200.942 2625.48 202.887 Q2625.48 204.368 2626.61 205.225 Q2627.75 206.058 2631.17 206.822 L2632.63 207.146 Q2637.17 208.118 2639.07 209.9 Q2640.99 211.66 2640.99 214.831 Q2640.99 218.442 2638.12 220.549 Q2635.27 222.655 2630.27 222.655 Q2628.19 222.655 2625.92 222.238 Q2623.67 221.845 2621.17 221.035 L2621.17 216.637 Q2623.53 217.863 2625.83 218.488 Q2628.12 219.09 2630.36 219.09 Q2633.37 219.09 2634.99 218.072 Q2636.61 217.03 2636.61 215.155 Q2636.61 213.419 2635.43 212.493 Q2634.27 211.567 2630.32 210.711 L2628.83 210.363 Q2624.88 209.53 2623.12 207.817 Q2621.36 206.081 2621.36 203.072 Q2621.36 199.414 2623.95 197.424 Q2626.54 195.433 2631.31 195.433 Q2633.67 195.433 2635.76 195.78 Q2637.84 196.127 2639.6 196.822 Z\" fill=\"#000000\" fill-rule=\"evenodd\" fill-opacity=\"1\" /><path clip-path=\"url(#clip040)\" d=\"M2669.95 207.956 L2669.95 210.039 L2650.36 210.039 Q2650.64 214.437 2653 216.752 Q2655.39 219.044 2659.62 219.044 Q2662.08 219.044 2664.37 218.442 Q2666.68 217.84 2668.95 216.637 L2668.95 220.664 Q2666.66 221.636 2664.25 222.146 Q2661.84 222.655 2659.37 222.655 Q2653.16 222.655 2649.53 219.044 Q2645.92 215.433 2645.92 209.275 Q2645.92 202.91 2649.34 199.183 Q2652.79 195.433 2658.63 195.433 Q2663.86 195.433 2666.89 198.813 Q2669.95 202.169 2669.95 207.956 M2665.69 206.706 Q2665.64 203.211 2663.72 201.127 Q2661.82 199.044 2658.67 199.044 Q2655.11 199.044 2652.96 201.058 Q2650.83 203.072 2650.5 206.729 L2665.69 206.706 Z\" fill=\"#000000\" fill-rule=\"evenodd\" fill-opacity=\"1\" /><path clip-path=\"url(#clip040)\" d=\"M2691.96 200.039 Q2691.24 199.623 2690.39 199.438 Q2689.55 199.229 2688.53 199.229 Q2684.92 199.229 2682.98 201.59 Q2681.06 203.928 2681.06 208.326 L2681.06 221.984 L2676.77 221.984 L2676.77 196.058 L2681.06 196.058 L2681.06 200.086 Q2682.4 197.725 2684.55 196.59 Q2686.7 195.433 2689.78 195.433 Q2690.22 195.433 2690.76 195.502 Q2691.29 195.549 2691.94 195.664 L2691.96 200.039 Z\" fill=\"#000000\" fill-rule=\"evenodd\" fill-opacity=\"1\" /><path clip-path=\"url(#clip040)\" d=\"M2693.37 196.058 L2697.89 196.058 L2705.99 217.817 L2714.09 196.058 L2718.6 196.058 L2708.88 221.984 L2703.09 221.984 L2693.37 196.058 Z\" fill=\"#000000\" fill-rule=\"evenodd\" fill-opacity=\"1\" /><path clip-path=\"url(#clip040)\" d=\"M2746.66 207.956 L2746.66 210.039 L2727.07 210.039 Q2727.35 214.437 2729.71 216.752 Q2732.1 219.044 2736.33 219.044 Q2738.79 219.044 2741.08 218.442 Q2743.39 217.84 2745.66 216.637 L2745.66 220.664 Q2743.37 221.636 2740.96 222.146 Q2738.56 222.655 2736.08 222.655 Q2729.88 222.655 2726.24 219.044 Q2722.63 215.433 2722.63 209.275 Q2722.63 202.91 2726.06 199.183 Q2729.51 195.433 2735.34 195.433 Q2740.57 195.433 2743.6 198.813 Q2746.66 202.169 2746.66 207.956 M2742.4 206.706 Q2742.35 203.211 2740.43 201.127 Q2738.53 199.044 2735.39 199.044 Q2731.82 199.044 2729.67 201.058 Q2727.54 203.072 2727.21 206.729 L2742.4 206.706 Z\" fill=\"#000000\" fill-rule=\"evenodd\" fill-opacity=\"1\" /><path clip-path=\"url(#clip040)\" d=\"M2770.71 199.993 L2770.71 185.965 L2774.97 185.965 L2774.97 221.984 L2770.71 221.984 L2770.71 218.095 Q2769.37 220.41 2767.31 221.544 Q2765.27 222.655 2762.4 222.655 Q2757.7 222.655 2754.74 218.905 Q2751.8 215.155 2751.8 209.044 Q2751.8 202.933 2754.74 199.183 Q2757.7 195.433 2762.4 195.433 Q2765.27 195.433 2767.31 196.567 Q2769.37 197.678 2770.71 199.993 M2756.2 209.044 Q2756.2 213.743 2758.12 216.428 Q2760.06 219.09 2763.44 219.09 Q2766.82 219.09 2768.76 216.428 Q2770.71 213.743 2770.71 209.044 Q2770.71 204.345 2768.76 201.683 Q2766.82 198.998 2763.44 198.998 Q2760.06 198.998 2758.12 201.683 Q2756.2 204.345 2756.2 209.044 Z\" fill=\"#000000\" fill-rule=\"evenodd\" fill-opacity=\"1\" /><path clip-path=\"url(#clip040)\" d=\"M2798.65 185.965 L2802.93 185.965 L2802.93 207.238 L2815.64 196.058 L2821.08 196.058 L2807.33 208.187 L2821.66 221.984 L2816.1 221.984 L2802.93 209.322 L2802.93 221.984 L2798.65 221.984 L2798.65 185.965 Z\" fill=\"#000000\" fill-rule=\"evenodd\" fill-opacity=\"1\" /><path clip-path=\"url(#clip040)\" d=\"M2846.45 201.035 Q2848.05 198.164 2850.27 196.799 Q2852.49 195.433 2855.5 195.433 Q2859.55 195.433 2861.75 198.28 Q2863.95 201.104 2863.95 206.336 L2863.95 221.984 L2859.67 221.984 L2859.67 206.475 Q2859.67 202.748 2858.35 200.942 Q2857.03 199.137 2854.32 199.137 Q2851.01 199.137 2849.09 201.336 Q2847.17 203.535 2847.17 207.331 L2847.17 221.984 L2842.88 221.984 L2842.88 206.475 Q2842.88 202.725 2841.57 200.942 Q2840.25 199.137 2837.49 199.137 Q2834.23 199.137 2832.31 201.359 Q2830.38 203.558 2830.38 207.331 L2830.38 221.984 L2826.1 221.984 L2826.1 196.058 L2830.38 196.058 L2830.38 200.086 Q2831.84 197.701 2833.88 196.567 Q2835.92 195.433 2838.72 195.433 Q2841.54 195.433 2843.51 196.868 Q2845.5 198.303 2846.45 201.035 Z\" fill=\"#000000\" fill-rule=\"evenodd\" fill-opacity=\"1\" /><path clip-path=\"url(#clip040)\" d=\"M2894.62 207.956 L2894.62 210.039 L2875.04 210.039 Q2875.31 214.437 2877.68 216.752 Q2880.06 219.044 2884.3 219.044 Q2886.75 219.044 2889.04 218.442 Q2891.36 217.84 2893.63 216.637 L2893.63 220.664 Q2891.33 221.636 2888.93 222.146 Q2886.52 222.655 2884.04 222.655 Q2877.84 222.655 2874.2 219.044 Q2870.59 215.433 2870.59 209.275 Q2870.59 202.91 2874.02 199.183 Q2877.47 195.433 2883.3 195.433 Q2888.53 195.433 2891.56 198.813 Q2894.62 202.169 2894.62 207.956 M2890.36 206.706 Q2890.31 203.211 2888.39 201.127 Q2886.5 199.044 2883.35 199.044 Q2879.78 199.044 2877.63 201.058 Q2875.5 203.072 2875.18 206.729 L2890.36 206.706 Z\" fill=\"#000000\" fill-rule=\"evenodd\" fill-opacity=\"1\" /><path clip-path=\"url(#clip040)\" d=\"M2916.63 200.039 Q2915.92 199.623 2915.06 199.438 Q2914.23 199.229 2913.21 199.229 Q2909.6 199.229 2907.65 201.59 Q2905.73 203.928 2905.73 208.326 L2905.73 221.984 L2901.45 221.984 L2901.45 196.058 L2905.73 196.058 L2905.73 200.086 Q2907.07 197.725 2909.23 196.59 Q2911.38 195.433 2914.46 195.433 Q2914.9 195.433 2915.43 195.502 Q2915.96 195.549 2916.61 195.664 L2916.63 200.039 Z\" fill=\"#000000\" fill-rule=\"evenodd\" fill-opacity=\"1\" /><path clip-path=\"url(#clip040)\" d=\"M2954.83 197.053 L2954.83 201.035 Q2953.02 200.039 2951.19 199.553 Q2949.39 199.044 2947.54 199.044 Q2943.39 199.044 2941.1 201.683 Q2938.81 204.299 2938.81 209.044 Q2938.81 213.789 2941.1 216.428 Q2943.39 219.044 2947.54 219.044 Q2949.39 219.044 2951.19 218.558 Q2953.02 218.049 2954.83 217.053 L2954.83 220.988 Q2953.05 221.822 2951.12 222.238 Q2949.23 222.655 2947.07 222.655 Q2941.22 222.655 2937.77 218.974 Q2934.32 215.294 2934.32 209.044 Q2934.32 202.701 2937.79 199.067 Q2941.29 195.433 2947.35 195.433 Q2949.32 195.433 2951.19 195.85 Q2953.07 196.243 2954.83 197.053 Z\" fill=\"#000000\" fill-rule=\"evenodd\" fill-opacity=\"1\" /><path clip-path=\"url(#clip040)\" d=\"M2972.28 199.044 Q2968.86 199.044 2966.87 201.729 Q2964.87 204.391 2964.87 209.044 Q2964.87 213.697 2966.84 216.382 Q2968.83 219.044 2972.28 219.044 Q2975.68 219.044 2977.68 216.359 Q2979.67 213.674 2979.67 209.044 Q2979.67 204.438 2977.68 201.752 Q2975.68 199.044 2972.28 199.044 M2972.28 195.433 Q2977.84 195.433 2981.01 199.044 Q2984.18 202.655 2984.18 209.044 Q2984.18 215.41 2981.01 219.044 Q2977.84 222.655 2972.28 222.655 Q2966.7 222.655 2963.53 219.044 Q2960.38 215.41 2960.38 209.044 Q2960.38 202.655 2963.53 199.044 Q2966.7 195.433 2972.28 195.433 Z\" fill=\"#000000\" fill-rule=\"evenodd\" fill-opacity=\"1\" /><path clip-path=\"url(#clip040)\" d=\"M2990.8 211.752 L2990.8 196.058 L2995.06 196.058 L2995.06 211.59 Q2995.06 215.271 2996.49 217.123 Q2997.93 218.951 3000.8 218.951 Q3004.25 218.951 3006.24 216.752 Q3008.25 214.553 3008.25 210.757 L3008.25 196.058 L3012.51 196.058 L3012.51 221.984 L3008.25 221.984 L3008.25 218.002 Q3006.7 220.363 3004.64 221.521 Q3002.61 222.655 2999.9 222.655 Q2995.43 222.655 2993.12 219.877 Q2990.8 217.099 2990.8 211.752 M3001.52 195.433 L3001.52 195.433 Z\" fill=\"#000000\" fill-rule=\"evenodd\" fill-opacity=\"1\" /><path clip-path=\"url(#clip040)\" d=\"M3042.84 206.336 L3042.84 221.984 L3038.58 221.984 L3038.58 206.475 Q3038.58 202.794 3037.14 200.965 Q3035.71 199.137 3032.84 199.137 Q3029.39 199.137 3027.4 201.336 Q3025.41 203.535 3025.41 207.331 L3025.41 221.984 L3021.12 221.984 L3021.12 196.058 L3025.41 196.058 L3025.41 200.086 Q3026.93 197.748 3028.99 196.59 Q3031.08 195.433 3033.79 195.433 Q3038.25 195.433 3040.55 198.211 Q3042.84 200.965 3042.84 206.336 Z\" fill=\"#000000\" fill-rule=\"evenodd\" fill-opacity=\"1\" /><path clip-path=\"url(#clip040)\" d=\"M3055.55 188.697 L3055.55 196.058 L3064.32 196.058 L3064.32 199.368 L3055.55 199.368 L3055.55 213.442 Q3055.55 216.613 3056.4 217.516 Q3057.28 218.419 3059.94 218.419 L3064.32 218.419 L3064.32 221.984 L3059.94 221.984 Q3055.01 221.984 3053.14 220.155 Q3051.26 218.303 3051.26 213.442 L3051.26 199.368 L3048.14 199.368 L3048.14 196.058 L3051.26 196.058 L3051.26 188.697 L3055.55 188.697 Z\" fill=\"#000000\" fill-rule=\"evenodd\" fill-opacity=\"1\" /><path clip-path=\"url(#clip040)\" d=\"M3086.45 196.822 L3086.45 200.85 Q3084.64 199.924 3082.7 199.461 Q3080.75 198.998 3078.67 198.998 Q3075.5 198.998 3073.9 199.97 Q3072.33 200.942 3072.33 202.887 Q3072.33 204.368 3073.46 205.225 Q3074.6 206.058 3078.02 206.822 L3079.48 207.146 Q3084.02 208.118 3085.92 209.9 Q3087.84 211.66 3087.84 214.831 Q3087.84 218.442 3084.97 220.549 Q3082.12 222.655 3077.12 222.655 Q3075.04 222.655 3072.77 222.238 Q3070.52 221.845 3068.02 221.035 L3068.02 216.637 Q3070.38 217.863 3072.67 218.488 Q3074.97 219.09 3077.21 219.09 Q3080.22 219.09 3081.84 218.072 Q3083.46 217.03 3083.46 215.155 Q3083.46 213.419 3082.28 212.493 Q3081.12 211.567 3077.17 210.711 L3075.68 210.363 Q3071.73 209.53 3069.97 207.817 Q3068.21 206.081 3068.21 203.072 Q3068.21 199.414 3070.8 197.424 Q3073.39 195.433 3078.16 195.433 Q3080.52 195.433 3082.61 195.78 Q3084.69 196.127 3086.45 196.822 Z\" fill=\"#000000\" fill-rule=\"evenodd\" fill-opacity=\"1\" /><polyline clip-path=\"url(#clip040)\" style=\"stroke:#e26f46; stroke-linecap:butt; stroke-linejoin:round; stroke-width:4; stroke-opacity:1; fill:none\" points=\"\n",
       "  2334.91,256.544 2529.66,256.544 \n",
       "  \"/>\n",
       "<path clip-path=\"url(#clip040)\" d=\"M2575.52 260.791 Q2570.36 260.791 2568.37 261.972 Q2566.38 263.152 2566.38 266 Q2566.38 268.268 2567.86 269.611 Q2569.37 270.93 2571.94 270.93 Q2575.48 270.93 2577.61 268.43 Q2579.76 265.907 2579.76 261.74 L2579.76 260.791 L2575.52 260.791 M2584.02 259.032 L2584.02 273.824 L2579.76 273.824 L2579.76 269.889 Q2578.3 272.25 2576.13 273.384 Q2573.95 274.495 2570.8 274.495 Q2566.82 274.495 2564.46 272.273 Q2562.12 270.027 2562.12 266.277 Q2562.12 261.902 2565.04 259.68 Q2567.98 257.458 2573.79 257.458 L2579.76 257.458 L2579.76 257.041 Q2579.76 254.102 2577.82 252.504 Q2575.9 250.884 2572.4 250.884 Q2570.18 250.884 2568.07 251.416 Q2565.96 251.949 2564.02 253.014 L2564.02 249.078 Q2566.36 248.176 2568.56 247.736 Q2570.76 247.273 2572.84 247.273 Q2578.46 247.273 2581.24 250.19 Q2584.02 253.106 2584.02 259.032 Z\" fill=\"#000000\" fill-rule=\"evenodd\" fill-opacity=\"1\" /><path clip-path=\"url(#clip040)\" d=\"M2611.4 260.884 Q2611.4 256.185 2609.46 253.523 Q2607.54 250.838 2604.16 250.838 Q2600.78 250.838 2598.83 253.523 Q2596.91 256.185 2596.91 260.884 Q2596.91 265.583 2598.83 268.268 Q2600.78 270.93 2604.16 270.93 Q2607.54 270.93 2609.46 268.268 Q2611.4 265.583 2611.4 260.884 M2596.91 251.833 Q2598.26 249.518 2600.29 248.407 Q2602.35 247.273 2605.2 247.273 Q2609.92 247.273 2612.86 251.023 Q2615.83 254.773 2615.83 260.884 Q2615.83 266.995 2612.86 270.745 Q2609.92 274.495 2605.2 274.495 Q2602.35 274.495 2600.29 273.384 Q2598.26 272.25 2596.91 269.935 L2596.91 273.824 L2592.63 273.824 L2592.63 237.805 L2596.91 237.805 L2596.91 251.833 Z\" fill=\"#000000\" fill-rule=\"evenodd\" fill-opacity=\"1\" /><path clip-path=\"url(#clip040)\" d=\"M2639.41 248.662 L2639.41 252.69 Q2637.61 251.764 2635.66 251.301 Q2633.72 250.838 2631.64 250.838 Q2628.46 250.838 2626.87 251.81 Q2625.29 252.782 2625.29 254.727 Q2625.29 256.208 2626.43 257.065 Q2627.56 257.898 2630.99 258.662 L2632.45 258.986 Q2636.98 259.958 2638.88 261.74 Q2640.8 263.5 2640.8 266.671 Q2640.8 270.282 2637.93 272.389 Q2635.08 274.495 2630.08 274.495 Q2628 274.495 2625.73 274.078 Q2623.49 273.685 2620.99 272.875 L2620.99 268.477 Q2623.35 269.703 2625.64 270.328 Q2627.93 270.93 2630.18 270.93 Q2633.19 270.93 2634.81 269.912 Q2636.43 268.87 2636.43 266.995 Q2636.43 265.259 2635.25 264.333 Q2634.09 263.407 2630.13 262.551 L2628.65 262.203 Q2624.69 261.37 2622.93 259.657 Q2621.17 257.921 2621.17 254.912 Q2621.17 251.254 2623.77 249.264 Q2626.36 247.273 2631.13 247.273 Q2633.49 247.273 2635.57 247.62 Q2637.65 247.967 2639.41 248.662 Z\" fill=\"#000000\" fill-rule=\"evenodd\" fill-opacity=\"1\" /><path clip-path=\"url(#clip040)\" d=\"M2657.63 250.884 Q2654.21 250.884 2652.21 253.569 Q2650.22 256.231 2650.22 260.884 Q2650.22 265.537 2652.19 268.222 Q2654.18 270.884 2657.63 270.884 Q2661.03 270.884 2663.02 268.199 Q2665.02 265.514 2665.02 260.884 Q2665.02 256.278 2663.02 253.592 Q2661.03 250.884 2657.63 250.884 M2657.63 247.273 Q2663.19 247.273 2666.36 250.884 Q2669.53 254.495 2669.53 260.884 Q2669.53 267.25 2666.36 270.884 Q2663.19 274.495 2657.63 274.495 Q2652.05 274.495 2648.88 270.884 Q2645.73 267.25 2645.73 260.884 Q2645.73 254.495 2648.88 250.884 Q2652.05 247.273 2657.63 247.273 Z\" fill=\"#000000\" fill-rule=\"evenodd\" fill-opacity=\"1\" /><path clip-path=\"url(#clip040)\" d=\"M2676.59 237.805 L2680.85 237.805 L2680.85 273.824 L2676.59 273.824 L2676.59 237.805 Z\" fill=\"#000000\" fill-rule=\"evenodd\" fill-opacity=\"1\" /><path clip-path=\"url(#clip040)\" d=\"M2689.32 263.592 L2689.32 247.898 L2693.58 247.898 L2693.58 263.43 Q2693.58 267.111 2695.01 268.963 Q2696.45 270.791 2699.32 270.791 Q2702.77 270.791 2704.76 268.592 Q2706.77 266.393 2706.77 262.597 L2706.77 247.898 L2711.03 247.898 L2711.03 273.824 L2706.77 273.824 L2706.77 269.842 Q2705.22 272.203 2703.16 273.361 Q2701.13 274.495 2698.42 274.495 Q2693.95 274.495 2691.64 271.717 Q2689.32 268.939 2689.32 263.592 M2700.04 247.273 L2700.04 247.273 Z\" fill=\"#000000\" fill-rule=\"evenodd\" fill-opacity=\"1\" /><path clip-path=\"url(#clip040)\" d=\"M2724.02 240.537 L2724.02 247.898 L2732.79 247.898 L2732.79 251.208 L2724.02 251.208 L2724.02 265.282 Q2724.02 268.453 2724.88 269.356 Q2725.76 270.259 2728.42 270.259 L2732.79 270.259 L2732.79 273.824 L2728.42 273.824 Q2723.49 273.824 2721.61 271.995 Q2719.74 270.143 2719.74 265.282 L2719.74 251.208 L2716.61 251.208 L2716.61 247.898 L2719.74 247.898 L2719.74 240.537 L2724.02 240.537 Z\" fill=\"#000000\" fill-rule=\"evenodd\" fill-opacity=\"1\" /><path clip-path=\"url(#clip040)\" d=\"M2760.57 259.796 L2760.57 261.879 L2740.99 261.879 Q2741.26 266.277 2743.63 268.592 Q2746.01 270.884 2750.25 270.884 Q2752.7 270.884 2754.99 270.282 Q2757.31 269.68 2759.57 268.477 L2759.57 272.504 Q2757.28 273.476 2754.88 273.986 Q2752.47 274.495 2749.99 274.495 Q2743.79 274.495 2740.15 270.884 Q2736.54 267.273 2736.54 261.115 Q2736.54 254.75 2739.97 251.023 Q2743.42 247.273 2749.25 247.273 Q2754.48 247.273 2757.51 250.653 Q2760.57 254.009 2760.57 259.796 M2756.31 258.546 Q2756.26 255.051 2754.34 252.967 Q2752.45 250.884 2749.3 250.884 Q2745.73 250.884 2743.58 252.898 Q2741.45 254.912 2741.13 258.569 L2756.31 258.546 Z\" fill=\"#000000\" fill-rule=\"evenodd\" fill-opacity=\"1\" /><path clip-path=\"url(#clip040)\" d=\"M2802.82 252.875 Q2804.41 250.004 2806.63 248.639 Q2808.86 247.273 2811.87 247.273 Q2815.92 247.273 2818.12 250.12 Q2820.32 252.944 2820.32 258.176 L2820.32 273.824 L2816.03 273.824 L2816.03 258.315 Q2816.03 254.588 2814.71 252.782 Q2813.39 250.977 2810.69 250.977 Q2807.38 250.977 2805.45 253.176 Q2803.53 255.375 2803.53 259.171 L2803.53 273.824 L2799.25 273.824 L2799.25 258.315 Q2799.25 254.565 2797.93 252.782 Q2796.61 250.977 2793.86 250.977 Q2790.59 250.977 2788.67 253.199 Q2786.75 255.398 2786.75 259.171 L2786.75 273.824 L2782.47 273.824 L2782.47 247.898 L2786.75 247.898 L2786.75 251.926 Q2788.21 249.541 2790.25 248.407 Q2792.28 247.273 2795.08 247.273 Q2797.91 247.273 2799.88 248.708 Q2801.87 250.143 2802.82 252.875 Z\" fill=\"#000000\" fill-rule=\"evenodd\" fill-opacity=\"1\" /><path clip-path=\"url(#clip040)\" d=\"M2840.59 260.791 Q2835.43 260.791 2833.44 261.972 Q2831.45 263.152 2831.45 266 Q2831.45 268.268 2832.93 269.611 Q2834.44 270.93 2837 270.93 Q2840.55 270.93 2842.68 268.43 Q2844.83 265.907 2844.83 261.74 L2844.83 260.791 L2840.59 260.791 M2849.09 259.032 L2849.09 273.824 L2844.83 273.824 L2844.83 269.889 Q2843.37 272.25 2841.19 273.384 Q2839.02 274.495 2835.87 274.495 Q2831.89 274.495 2829.53 272.273 Q2827.19 270.027 2827.19 266.277 Q2827.19 261.902 2830.11 259.68 Q2833.05 257.458 2838.86 257.458 L2844.83 257.458 L2844.83 257.041 Q2844.83 254.102 2842.88 252.504 Q2840.96 250.884 2837.47 250.884 Q2835.25 250.884 2833.14 251.416 Q2831.03 251.949 2829.09 253.014 L2829.09 249.078 Q2831.43 248.176 2833.63 247.736 Q2835.82 247.273 2837.91 247.273 Q2843.53 247.273 2846.31 250.19 Q2849.09 253.106 2849.09 259.032 Z\" fill=\"#000000\" fill-rule=\"evenodd\" fill-opacity=\"1\" /><path clip-path=\"url(#clip040)\" d=\"M2879.41 247.898 L2870.04 260.514 L2879.9 273.824 L2874.88 273.824 L2867.33 263.639 L2859.78 273.824 L2854.76 273.824 L2864.83 260.259 L2855.62 247.898 L2860.64 247.898 L2867.51 257.134 L2874.39 247.898 L2879.41 247.898 Z\" fill=\"#000000\" fill-rule=\"evenodd\" fill-opacity=\"1\" /><path clip-path=\"url(#clip040)\" d=\"M2885.92 247.898 L2890.18 247.898 L2890.18 273.824 L2885.92 273.824 L2885.92 247.898 M2885.92 237.805 L2890.18 237.805 L2890.18 243.199 L2885.92 243.199 L2885.92 237.805 Z\" fill=\"#000000\" fill-rule=\"evenodd\" fill-opacity=\"1\" /><path clip-path=\"url(#clip040)\" d=\"M2919.27 252.875 Q2920.87 250.004 2923.09 248.639 Q2925.31 247.273 2928.32 247.273 Q2932.37 247.273 2934.57 250.12 Q2936.77 252.944 2936.77 258.176 L2936.77 273.824 L2932.49 273.824 L2932.49 258.315 Q2932.49 254.588 2931.17 252.782 Q2929.85 250.977 2927.14 250.977 Q2923.83 250.977 2921.91 253.176 Q2919.99 255.375 2919.99 259.171 L2919.99 273.824 L2915.71 273.824 L2915.71 258.315 Q2915.71 254.565 2914.39 252.782 Q2913.07 250.977 2910.31 250.977 Q2907.05 250.977 2905.13 253.199 Q2903.21 255.398 2903.21 259.171 L2903.21 273.824 L2898.93 273.824 L2898.93 247.898 L2903.21 247.898 L2903.21 251.926 Q2904.67 249.541 2906.7 248.407 Q2908.74 247.273 2911.54 247.273 Q2914.37 247.273 2916.33 248.708 Q2918.32 250.143 2919.27 252.875 Z\" fill=\"#000000\" fill-rule=\"evenodd\" fill-opacity=\"1\" /><path clip-path=\"url(#clip040)\" d=\"M2944.83 263.592 L2944.83 247.898 L2949.09 247.898 L2949.09 263.43 Q2949.09 267.111 2950.52 268.963 Q2951.96 270.791 2954.83 270.791 Q2958.28 270.791 2960.27 268.592 Q2962.28 266.393 2962.28 262.597 L2962.28 247.898 L2966.54 247.898 L2966.54 273.824 L2962.28 273.824 L2962.28 269.842 Q2960.73 272.203 2958.67 273.361 Q2956.63 274.495 2953.93 274.495 Q2949.46 274.495 2947.14 271.717 Q2944.83 268.939 2944.83 263.592 M2955.55 247.273 L2955.55 247.273 Z\" fill=\"#000000\" fill-rule=\"evenodd\" fill-opacity=\"1\" /><path clip-path=\"url(#clip040)\" d=\"M2995.5 252.875 Q2997.1 250.004 2999.32 248.639 Q3001.54 247.273 3004.55 247.273 Q3008.6 247.273 3010.8 250.12 Q3013 252.944 3013 258.176 L3013 273.824 L3008.72 273.824 L3008.72 258.315 Q3008.72 254.588 3007.4 252.782 Q3006.08 250.977 3003.37 250.977 Q3000.06 250.977 2998.14 253.176 Q2996.22 255.375 2996.22 259.171 L2996.22 273.824 L2991.93 273.824 L2991.93 258.315 Q2991.93 254.565 2990.62 252.782 Q2989.3 250.977 2986.54 250.977 Q2983.28 250.977 2981.36 253.199 Q2979.43 255.398 2979.43 259.171 L2979.43 273.824 L2975.15 273.824 L2975.15 247.898 L2979.43 247.898 L2979.43 251.926 Q2980.89 249.541 2982.93 248.407 Q2984.97 247.273 2987.77 247.273 Q2990.59 247.273 2992.56 248.708 Q2994.55 250.143 2995.5 252.875 Z\" fill=\"#000000\" fill-rule=\"evenodd\" fill-opacity=\"1\" /><polyline clip-path=\"url(#clip040)\" style=\"stroke:#3da44d; stroke-linecap:butt; stroke-linejoin:round; stroke-width:4; stroke-opacity:1; fill:none\" points=\"\n",
       "  2334.91,308.384 2529.66,308.384 \n",
       "  \"/>\n",
       "<path clip-path=\"url(#clip040)\" d=\"M2562.12 299.738 L2566.38 299.738 L2566.38 325.664 L2562.12 325.664 L2562.12 299.738 M2562.12 289.645 L2566.38 289.645 L2566.38 295.039 L2562.12 295.039 L2562.12 289.645 Z\" fill=\"#000000\" fill-rule=\"evenodd\" fill-opacity=\"1\" /><path clip-path=\"url(#clip040)\" d=\"M2596.84 310.016 L2596.84 325.664 L2592.58 325.664 L2592.58 310.155 Q2592.58 306.474 2591.15 304.645 Q2589.71 302.817 2586.84 302.817 Q2583.4 302.817 2581.4 305.016 Q2579.41 307.215 2579.41 311.011 L2579.41 325.664 L2575.13 325.664 L2575.13 299.738 L2579.41 299.738 L2579.41 303.766 Q2580.94 301.428 2583 300.27 Q2585.09 299.113 2587.79 299.113 Q2592.26 299.113 2594.55 301.891 Q2596.84 304.645 2596.84 310.016 Z\" fill=\"#000000\" fill-rule=\"evenodd\" fill-opacity=\"1\" /><path clip-path=\"url(#clip040)\" d=\"M2618.46 289.645 L2618.46 293.187 L2614.39 293.187 Q2612.1 293.187 2611.2 294.113 Q2610.32 295.039 2610.32 297.446 L2610.32 299.738 L2617.33 299.738 L2617.33 303.048 L2610.32 303.048 L2610.32 325.664 L2606.03 325.664 L2606.03 303.048 L2601.96 303.048 L2601.96 299.738 L2606.03 299.738 L2606.03 297.932 Q2606.03 293.604 2608.05 291.636 Q2610.06 289.645 2614.44 289.645 L2618.46 289.645 Z\" fill=\"#000000\" fill-rule=\"evenodd\" fill-opacity=\"1\" /><path clip-path=\"url(#clip040)\" d=\"M2644.21 311.636 L2644.21 313.719 L2624.62 313.719 Q2624.9 318.117 2627.26 320.432 Q2629.64 322.724 2633.88 322.724 Q2636.33 322.724 2638.63 322.122 Q2640.94 321.52 2643.21 320.317 L2643.21 324.344 Q2640.92 325.316 2638.51 325.826 Q2636.1 326.335 2633.63 326.335 Q2627.42 326.335 2623.79 322.724 Q2620.18 319.113 2620.18 312.955 Q2620.18 306.59 2623.6 302.863 Q2627.05 299.113 2632.89 299.113 Q2638.12 299.113 2641.15 302.493 Q2644.21 305.849 2644.21 311.636 M2639.95 310.386 Q2639.9 306.891 2637.98 304.807 Q2636.08 302.724 2632.93 302.724 Q2629.37 302.724 2627.21 304.738 Q2625.08 306.752 2624.76 310.409 L2639.95 310.386 Z\" fill=\"#000000\" fill-rule=\"evenodd\" fill-opacity=\"1\" /><path clip-path=\"url(#clip040)\" d=\"M2666.22 303.719 Q2665.5 303.303 2664.64 303.118 Q2663.81 302.909 2662.79 302.909 Q2659.18 302.909 2657.24 305.27 Q2655.32 307.608 2655.32 312.006 L2655.32 325.664 L2651.03 325.664 L2651.03 299.738 L2655.32 299.738 L2655.32 303.766 Q2656.66 301.405 2658.81 300.27 Q2660.96 299.113 2664.04 299.113 Q2664.48 299.113 2665.02 299.182 Q2665.55 299.229 2666.2 299.344 L2666.22 303.719 Z\" fill=\"#000000\" fill-rule=\"evenodd\" fill-opacity=\"1\" /><path clip-path=\"url(#clip040)\" d=\"M2684.88 303.719 Q2684.16 303.303 2683.3 303.118 Q2682.47 302.909 2681.45 302.909 Q2677.84 302.909 2675.89 305.27 Q2673.97 307.608 2673.97 312.006 L2673.97 325.664 L2669.69 325.664 L2669.69 299.738 L2673.97 299.738 L2673.97 303.766 Q2675.32 301.405 2677.47 300.27 Q2679.62 299.113 2682.7 299.113 Q2683.14 299.113 2683.67 299.182 Q2684.2 299.229 2684.85 299.344 L2684.88 303.719 Z\" fill=\"#000000\" fill-rule=\"evenodd\" fill-opacity=\"1\" /><path clip-path=\"url(#clip040)\" d=\"M2710.48 311.636 L2710.48 313.719 L2690.89 313.719 Q2691.17 318.117 2693.53 320.432 Q2695.92 322.724 2700.15 322.724 Q2702.61 322.724 2704.9 322.122 Q2707.21 321.52 2709.48 320.317 L2709.48 324.344 Q2707.19 325.316 2704.78 325.826 Q2702.38 326.335 2699.9 326.335 Q2693.7 326.335 2690.06 322.724 Q2686.45 319.113 2686.45 312.955 Q2686.45 306.59 2689.88 302.863 Q2693.33 299.113 2699.16 299.113 Q2704.39 299.113 2707.42 302.493 Q2710.48 305.849 2710.48 311.636 M2706.22 310.386 Q2706.17 306.891 2704.25 304.807 Q2702.35 302.724 2699.2 302.724 Q2695.64 302.724 2693.49 304.738 Q2691.36 306.752 2691.03 310.409 L2706.22 310.386 Z\" fill=\"#000000\" fill-rule=\"evenodd\" fill-opacity=\"1\" /><path clip-path=\"url(#clip040)\" d=\"M2734.53 303.673 L2734.53 289.645 L2738.79 289.645 L2738.79 325.664 L2734.53 325.664 L2734.53 321.775 Q2733.19 324.09 2731.13 325.224 Q2729.09 326.335 2726.22 326.335 Q2721.52 326.335 2718.56 322.585 Q2715.62 318.835 2715.62 312.724 Q2715.62 306.613 2718.56 302.863 Q2721.52 299.113 2726.22 299.113 Q2729.09 299.113 2731.13 300.247 Q2733.19 301.358 2734.53 303.673 M2720.01 312.724 Q2720.01 317.423 2721.94 320.108 Q2723.88 322.77 2727.26 322.77 Q2730.64 322.77 2732.58 320.108 Q2734.53 317.423 2734.53 312.724 Q2734.53 308.025 2732.58 305.363 Q2730.64 302.678 2727.26 302.678 Q2723.88 302.678 2721.94 305.363 Q2720.01 308.025 2720.01 312.724 Z\" fill=\"#000000\" fill-rule=\"evenodd\" fill-opacity=\"1\" /><path clip-path=\"url(#clip040)\" d=\"M2782.82 304.715 Q2784.41 301.844 2786.63 300.479 Q2788.86 299.113 2791.87 299.113 Q2795.92 299.113 2798.12 301.96 Q2800.32 304.784 2800.32 310.016 L2800.32 325.664 L2796.03 325.664 L2796.03 310.155 Q2796.03 306.428 2794.71 304.622 Q2793.39 302.817 2790.69 302.817 Q2787.38 302.817 2785.45 305.016 Q2783.53 307.215 2783.53 311.011 L2783.53 325.664 L2779.25 325.664 L2779.25 310.155 Q2779.25 306.405 2777.93 304.622 Q2776.61 302.817 2773.86 302.817 Q2770.59 302.817 2768.67 305.039 Q2766.75 307.238 2766.75 311.011 L2766.75 325.664 L2762.47 325.664 L2762.47 299.738 L2766.75 299.738 L2766.75 303.766 Q2768.21 301.381 2770.25 300.247 Q2772.28 299.113 2775.08 299.113 Q2777.91 299.113 2779.88 300.548 Q2781.87 301.983 2782.82 304.715 Z\" fill=\"#000000\" fill-rule=\"evenodd\" fill-opacity=\"1\" /><path clip-path=\"url(#clip040)\" d=\"M2820.59 312.631 Q2815.43 312.631 2813.44 313.812 Q2811.45 314.992 2811.45 317.84 Q2811.45 320.108 2812.93 321.451 Q2814.44 322.77 2817.01 322.77 Q2820.55 322.77 2822.68 320.27 Q2824.83 317.747 2824.83 313.58 L2824.83 312.631 L2820.59 312.631 M2829.09 310.872 L2829.09 325.664 L2824.83 325.664 L2824.83 321.729 Q2823.37 324.09 2821.19 325.224 Q2819.02 326.335 2815.87 326.335 Q2811.89 326.335 2809.53 324.113 Q2807.19 321.867 2807.19 318.117 Q2807.19 313.742 2810.11 311.52 Q2813.05 309.298 2818.86 309.298 L2824.83 309.298 L2824.83 308.881 Q2824.83 305.942 2822.88 304.344 Q2820.96 302.724 2817.47 302.724 Q2815.25 302.724 2813.14 303.256 Q2811.03 303.789 2809.09 304.854 L2809.09 300.918 Q2811.43 300.016 2813.63 299.576 Q2815.82 299.113 2817.91 299.113 Q2823.53 299.113 2826.31 302.03 Q2829.09 304.946 2829.09 310.872 Z\" fill=\"#000000\" fill-rule=\"evenodd\" fill-opacity=\"1\" /><path clip-path=\"url(#clip040)\" d=\"M2859.41 299.738 L2850.04 312.354 L2859.9 325.664 L2854.88 325.664 L2847.33 315.479 L2839.78 325.664 L2834.76 325.664 L2844.83 312.099 L2835.62 299.738 L2840.64 299.738 L2847.51 308.974 L2854.39 299.738 L2859.41 299.738 Z\" fill=\"#000000\" fill-rule=\"evenodd\" fill-opacity=\"1\" /><path clip-path=\"url(#clip040)\" d=\"M2865.92 299.738 L2870.18 299.738 L2870.18 325.664 L2865.92 325.664 L2865.92 299.738 M2865.92 289.645 L2870.18 289.645 L2870.18 295.039 L2865.92 295.039 L2865.92 289.645 Z\" fill=\"#000000\" fill-rule=\"evenodd\" fill-opacity=\"1\" /><path clip-path=\"url(#clip040)\" d=\"M2899.27 304.715 Q2900.87 301.844 2903.09 300.479 Q2905.31 299.113 2908.32 299.113 Q2912.37 299.113 2914.57 301.96 Q2916.77 304.784 2916.77 310.016 L2916.77 325.664 L2912.49 325.664 L2912.49 310.155 Q2912.49 306.428 2911.17 304.622 Q2909.85 302.817 2907.14 302.817 Q2903.83 302.817 2901.91 305.016 Q2899.99 307.215 2899.99 311.011 L2899.99 325.664 L2895.71 325.664 L2895.71 310.155 Q2895.71 306.405 2894.39 304.622 Q2893.07 302.817 2890.31 302.817 Q2887.05 302.817 2885.13 305.039 Q2883.21 307.238 2883.21 311.011 L2883.21 325.664 L2878.93 325.664 L2878.93 299.738 L2883.21 299.738 L2883.21 303.766 Q2884.67 301.381 2886.7 300.247 Q2888.74 299.113 2891.54 299.113 Q2894.37 299.113 2896.33 300.548 Q2898.32 301.983 2899.27 304.715 Z\" fill=\"#000000\" fill-rule=\"evenodd\" fill-opacity=\"1\" /><path clip-path=\"url(#clip040)\" d=\"M2924.83 315.432 L2924.83 299.738 L2929.09 299.738 L2929.09 315.27 Q2929.09 318.951 2930.52 320.803 Q2931.96 322.631 2934.83 322.631 Q2938.28 322.631 2940.27 320.432 Q2942.28 318.233 2942.28 314.437 L2942.28 299.738 L2946.54 299.738 L2946.54 325.664 L2942.28 325.664 L2942.28 321.682 Q2940.73 324.043 2938.67 325.201 Q2936.63 326.335 2933.93 326.335 Q2929.46 326.335 2927.14 323.557 Q2924.83 320.779 2924.83 315.432 M2935.55 299.113 L2935.55 299.113 Z\" fill=\"#000000\" fill-rule=\"evenodd\" fill-opacity=\"1\" /><path clip-path=\"url(#clip040)\" d=\"M2975.5 304.715 Q2977.1 301.844 2979.32 300.479 Q2981.54 299.113 2984.55 299.113 Q2988.6 299.113 2990.8 301.96 Q2993 304.784 2993 310.016 L2993 325.664 L2988.72 325.664 L2988.72 310.155 Q2988.72 306.428 2987.4 304.622 Q2986.08 302.817 2983.37 302.817 Q2980.06 302.817 2978.14 305.016 Q2976.22 307.215 2976.22 311.011 L2976.22 325.664 L2971.93 325.664 L2971.93 310.155 Q2971.93 306.405 2970.62 304.622 Q2969.3 302.817 2966.54 302.817 Q2963.28 302.817 2961.36 305.039 Q2959.43 307.238 2959.43 311.011 L2959.43 325.664 L2955.15 325.664 L2955.15 299.738 L2959.43 299.738 L2959.43 303.766 Q2960.89 301.381 2962.93 300.247 Q2964.97 299.113 2967.77 299.113 Q2970.59 299.113 2972.56 300.548 Q2974.55 301.983 2975.5 304.715 Z\" fill=\"#000000\" fill-rule=\"evenodd\" fill-opacity=\"1\" /><polyline clip-path=\"url(#clip040)\" style=\"stroke:#c271d2; stroke-linecap:butt; stroke-linejoin:round; stroke-width:4; stroke-opacity:1; fill:none\" points=\"\n",
       "  2334.91,360.224 2529.66,360.224 \n",
       "  \"/>\n",
       "<path clip-path=\"url(#clip040)\" d=\"M2562.12 351.578 L2566.38 351.578 L2566.38 377.504 L2562.12 377.504 L2562.12 351.578 M2562.12 341.485 L2566.38 341.485 L2566.38 346.879 L2562.12 346.879 L2562.12 341.485 Z\" fill=\"#000000\" fill-rule=\"evenodd\" fill-opacity=\"1\" /><path clip-path=\"url(#clip040)\" d=\"M2596.84 361.856 L2596.84 377.504 L2592.58 377.504 L2592.58 361.995 Q2592.58 358.314 2591.15 356.485 Q2589.71 354.657 2586.84 354.657 Q2583.4 354.657 2581.4 356.856 Q2579.41 359.055 2579.41 362.851 L2579.41 377.504 L2575.13 377.504 L2575.13 351.578 L2579.41 351.578 L2579.41 355.606 Q2580.94 353.268 2583 352.11 Q2585.09 350.953 2587.79 350.953 Q2592.26 350.953 2594.55 353.731 Q2596.84 356.485 2596.84 361.856 Z\" fill=\"#000000\" fill-rule=\"evenodd\" fill-opacity=\"1\" /><path clip-path=\"url(#clip040)\" d=\"M2618.46 341.485 L2618.46 345.027 L2614.39 345.027 Q2612.1 345.027 2611.2 345.953 Q2610.32 346.879 2610.32 349.286 L2610.32 351.578 L2617.33 351.578 L2617.33 354.888 L2610.32 354.888 L2610.32 377.504 L2606.03 377.504 L2606.03 354.888 L2601.96 354.888 L2601.96 351.578 L2606.03 351.578 L2606.03 349.772 Q2606.03 345.444 2608.05 343.476 Q2610.06 341.485 2614.44 341.485 L2618.46 341.485 Z\" fill=\"#000000\" fill-rule=\"evenodd\" fill-opacity=\"1\" /><path clip-path=\"url(#clip040)\" d=\"M2644.21 363.476 L2644.21 365.559 L2624.62 365.559 Q2624.9 369.957 2627.26 372.272 Q2629.64 374.564 2633.88 374.564 Q2636.33 374.564 2638.63 373.962 Q2640.94 373.36 2643.21 372.157 L2643.21 376.184 Q2640.92 377.156 2638.51 377.666 Q2636.1 378.175 2633.63 378.175 Q2627.42 378.175 2623.79 374.564 Q2620.18 370.953 2620.18 364.795 Q2620.18 358.43 2623.6 354.703 Q2627.05 350.953 2632.89 350.953 Q2638.12 350.953 2641.15 354.333 Q2644.21 357.689 2644.21 363.476 M2639.95 362.226 Q2639.9 358.731 2637.98 356.647 Q2636.08 354.564 2632.93 354.564 Q2629.37 354.564 2627.21 356.578 Q2625.08 358.592 2624.76 362.249 L2639.95 362.226 Z\" fill=\"#000000\" fill-rule=\"evenodd\" fill-opacity=\"1\" /><path clip-path=\"url(#clip040)\" d=\"M2666.22 355.559 Q2665.5 355.143 2664.64 354.958 Q2663.81 354.749 2662.79 354.749 Q2659.18 354.749 2657.24 357.11 Q2655.32 359.448 2655.32 363.846 L2655.32 377.504 L2651.03 377.504 L2651.03 351.578 L2655.32 351.578 L2655.32 355.606 Q2656.66 353.245 2658.81 352.11 Q2660.96 350.953 2664.04 350.953 Q2664.48 350.953 2665.02 351.022 Q2665.55 351.069 2666.2 351.184 L2666.22 355.559 Z\" fill=\"#000000\" fill-rule=\"evenodd\" fill-opacity=\"1\" /><path clip-path=\"url(#clip040)\" d=\"M2684.88 355.559 Q2684.16 355.143 2683.3 354.958 Q2682.47 354.749 2681.45 354.749 Q2677.84 354.749 2675.89 357.11 Q2673.97 359.448 2673.97 363.846 L2673.97 377.504 L2669.69 377.504 L2669.69 351.578 L2673.97 351.578 L2673.97 355.606 Q2675.32 353.245 2677.47 352.11 Q2679.62 350.953 2682.7 350.953 Q2683.14 350.953 2683.67 351.022 Q2684.2 351.069 2684.85 351.184 L2684.88 355.559 Z\" fill=\"#000000\" fill-rule=\"evenodd\" fill-opacity=\"1\" /><path clip-path=\"url(#clip040)\" d=\"M2710.48 363.476 L2710.48 365.559 L2690.89 365.559 Q2691.17 369.957 2693.53 372.272 Q2695.92 374.564 2700.15 374.564 Q2702.61 374.564 2704.9 373.962 Q2707.21 373.36 2709.48 372.157 L2709.48 376.184 Q2707.19 377.156 2704.78 377.666 Q2702.38 378.175 2699.9 378.175 Q2693.7 378.175 2690.06 374.564 Q2686.45 370.953 2686.45 364.795 Q2686.45 358.43 2689.88 354.703 Q2693.33 350.953 2699.16 350.953 Q2704.39 350.953 2707.42 354.333 Q2710.48 357.689 2710.48 363.476 M2706.22 362.226 Q2706.17 358.731 2704.25 356.647 Q2702.35 354.564 2699.2 354.564 Q2695.64 354.564 2693.49 356.578 Q2691.36 358.592 2691.03 362.249 L2706.22 362.226 Z\" fill=\"#000000\" fill-rule=\"evenodd\" fill-opacity=\"1\" /><path clip-path=\"url(#clip040)\" d=\"M2734.53 355.513 L2734.53 341.485 L2738.79 341.485 L2738.79 377.504 L2734.53 377.504 L2734.53 373.615 Q2733.19 375.93 2731.13 377.064 Q2729.09 378.175 2726.22 378.175 Q2721.52 378.175 2718.56 374.425 Q2715.62 370.675 2715.62 364.564 Q2715.62 358.453 2718.56 354.703 Q2721.52 350.953 2726.22 350.953 Q2729.09 350.953 2731.13 352.087 Q2733.19 353.198 2734.53 355.513 M2720.01 364.564 Q2720.01 369.263 2721.94 371.948 Q2723.88 374.61 2727.26 374.61 Q2730.64 374.61 2732.58 371.948 Q2734.53 369.263 2734.53 364.564 Q2734.53 359.865 2732.58 357.203 Q2730.64 354.518 2727.26 354.518 Q2723.88 354.518 2721.94 357.203 Q2720.01 359.865 2720.01 364.564 Z\" fill=\"#000000\" fill-rule=\"evenodd\" fill-opacity=\"1\" /><path clip-path=\"url(#clip040)\" d=\"M2782.82 356.555 Q2784.41 353.684 2786.63 352.319 Q2788.86 350.953 2791.87 350.953 Q2795.92 350.953 2798.12 353.8 Q2800.32 356.624 2800.32 361.856 L2800.32 377.504 L2796.03 377.504 L2796.03 361.995 Q2796.03 358.268 2794.71 356.462 Q2793.39 354.657 2790.69 354.657 Q2787.38 354.657 2785.45 356.856 Q2783.53 359.055 2783.53 362.851 L2783.53 377.504 L2779.25 377.504 L2779.25 361.995 Q2779.25 358.245 2777.93 356.462 Q2776.61 354.657 2773.86 354.657 Q2770.59 354.657 2768.67 356.879 Q2766.75 359.078 2766.75 362.851 L2766.75 377.504 L2762.47 377.504 L2762.47 351.578 L2766.75 351.578 L2766.75 355.606 Q2768.21 353.221 2770.25 352.087 Q2772.28 350.953 2775.08 350.953 Q2777.91 350.953 2779.88 352.388 Q2781.87 353.823 2782.82 356.555 Z\" fill=\"#000000\" fill-rule=\"evenodd\" fill-opacity=\"1\" /><path clip-path=\"url(#clip040)\" d=\"M2808.81 351.578 L2813.07 351.578 L2813.07 377.504 L2808.81 377.504 L2808.81 351.578 M2808.81 341.485 L2813.07 341.485 L2813.07 346.879 L2808.81 346.879 L2808.81 341.485 Z\" fill=\"#000000\" fill-rule=\"evenodd\" fill-opacity=\"1\" /><path clip-path=\"url(#clip040)\" d=\"M2839.04 355.513 L2839.04 341.485 L2843.3 341.485 L2843.3 377.504 L2839.04 377.504 L2839.04 373.615 Q2837.7 375.93 2835.64 377.064 Q2833.6 378.175 2830.73 378.175 Q2826.03 378.175 2823.07 374.425 Q2820.13 370.675 2820.13 364.564 Q2820.13 358.453 2823.07 354.703 Q2826.03 350.953 2830.73 350.953 Q2833.6 350.953 2835.64 352.087 Q2837.7 353.198 2839.04 355.513 M2824.53 364.564 Q2824.53 369.263 2826.45 371.948 Q2828.39 374.61 2831.77 374.61 Q2835.15 374.61 2837.1 371.948 Q2839.04 369.263 2839.04 364.564 Q2839.04 359.865 2837.1 357.203 Q2835.15 354.518 2831.77 354.518 Q2828.39 354.518 2826.45 357.203 Q2824.53 359.865 2824.53 364.564 Z\" fill=\"#000000\" fill-rule=\"evenodd\" fill-opacity=\"1\" /><path clip-path=\"url(#clip040)\" d=\"M2856.19 373.615 L2856.19 387.365 L2851.91 387.365 L2851.91 351.578 L2856.19 351.578 L2856.19 355.513 Q2857.54 353.198 2859.57 352.087 Q2861.63 350.953 2864.48 350.953 Q2869.2 350.953 2872.14 354.703 Q2875.11 358.453 2875.11 364.564 Q2875.11 370.675 2872.14 374.425 Q2869.2 378.175 2864.48 378.175 Q2861.63 378.175 2859.57 377.064 Q2857.54 375.93 2856.19 373.615 M2870.69 364.564 Q2870.69 359.865 2868.74 357.203 Q2866.82 354.518 2863.44 354.518 Q2860.06 354.518 2858.12 357.203 Q2856.19 359.865 2856.19 364.564 Q2856.19 369.263 2858.12 371.948 Q2860.06 374.61 2863.44 374.61 Q2866.82 374.61 2868.74 371.948 Q2870.69 369.263 2870.69 364.564 Z\" fill=\"#000000\" fill-rule=\"evenodd\" fill-opacity=\"1\" /><path clip-path=\"url(#clip040)\" d=\"M2892.21 354.564 Q2888.79 354.564 2886.8 357.249 Q2884.81 359.911 2884.81 364.564 Q2884.81 369.217 2886.77 371.902 Q2888.76 374.564 2892.21 374.564 Q2895.62 374.564 2897.61 371.879 Q2899.6 369.194 2899.6 364.564 Q2899.6 359.958 2897.61 357.272 Q2895.62 354.564 2892.21 354.564 M2892.21 350.953 Q2897.77 350.953 2900.94 354.564 Q2904.11 358.175 2904.11 364.564 Q2904.11 370.93 2900.94 374.564 Q2897.77 378.175 2892.21 378.175 Q2886.63 378.175 2883.46 374.564 Q2880.31 370.93 2880.31 364.564 Q2880.31 358.175 2883.46 354.564 Q2886.63 350.953 2892.21 350.953 Z\" fill=\"#000000\" fill-rule=\"evenodd\" fill-opacity=\"1\" /><path clip-path=\"url(#clip040)\" d=\"M2911.17 351.578 L2915.43 351.578 L2915.43 377.504 L2911.17 377.504 L2911.17 351.578 M2911.17 341.485 L2915.43 341.485 L2915.43 346.879 L2911.17 346.879 L2911.17 341.485 Z\" fill=\"#000000\" fill-rule=\"evenodd\" fill-opacity=\"1\" /><path clip-path=\"url(#clip040)\" d=\"M2945.89 361.856 L2945.89 377.504 L2941.63 377.504 L2941.63 361.995 Q2941.63 358.314 2940.2 356.485 Q2938.76 354.657 2935.89 354.657 Q2932.44 354.657 2930.45 356.856 Q2928.46 359.055 2928.46 362.851 L2928.46 377.504 L2924.18 377.504 L2924.18 351.578 L2928.46 351.578 L2928.46 355.606 Q2929.99 353.268 2932.05 352.11 Q2934.13 350.953 2936.84 350.953 Q2941.31 350.953 2943.6 353.731 Q2945.89 356.485 2945.89 361.856 Z\" fill=\"#000000\" fill-rule=\"evenodd\" fill-opacity=\"1\" /><path clip-path=\"url(#clip040)\" d=\"M2958.6 344.217 L2958.6 351.578 L2967.37 351.578 L2967.37 354.888 L2958.6 354.888 L2958.6 368.962 Q2958.6 372.133 2959.46 373.036 Q2960.34 373.939 2963 373.939 L2967.37 373.939 L2967.37 377.504 L2963 377.504 Q2958.07 377.504 2956.19 375.675 Q2954.32 373.823 2954.32 368.962 L2954.32 354.888 L2951.19 354.888 L2951.19 351.578 L2954.32 351.578 L2954.32 344.217 L2958.6 344.217 Z\" fill=\"#000000\" fill-rule=\"evenodd\" fill-opacity=\"1\" /><polyline clip-path=\"url(#clip040)\" style=\"stroke:#ac8d18; stroke-linecap:butt; stroke-linejoin:round; stroke-width:4; stroke-opacity:1; fill:none\" points=\"\n",
       "  2334.91,412.064 2529.66,412.064 \n",
       "  \"/>\n",
       "<path clip-path=\"url(#clip040)\" d=\"M2578.63 393.325 L2578.63 396.867 L2574.55 396.867 Q2572.26 396.867 2571.36 397.793 Q2570.48 398.719 2570.48 401.126 L2570.48 403.418 L2577.49 403.418 L2577.49 406.728 L2570.48 406.728 L2570.48 429.344 L2566.2 429.344 L2566.2 406.728 L2562.12 406.728 L2562.12 403.418 L2566.2 403.418 L2566.2 401.612 Q2566.2 397.284 2568.21 395.316 Q2570.22 393.325 2574.6 393.325 L2578.63 393.325 Z\" fill=\"#000000\" fill-rule=\"evenodd\" fill-opacity=\"1\" /><path clip-path=\"url(#clip040)\" d=\"M2582.19 403.418 L2586.45 403.418 L2586.45 429.344 L2582.19 429.344 L2582.19 403.418 M2582.19 393.325 L2586.45 393.325 L2586.45 398.719 L2582.19 398.719 L2582.19 393.325 Z\" fill=\"#000000\" fill-rule=\"evenodd\" fill-opacity=\"1\" /><path clip-path=\"url(#clip040)\" d=\"M2599.58 396.057 L2599.58 403.418 L2608.35 403.418 L2608.35 406.728 L2599.58 406.728 L2599.58 420.802 Q2599.58 423.973 2600.43 424.876 Q2601.31 425.779 2603.97 425.779 L2608.35 425.779 L2608.35 429.344 L2603.97 429.344 Q2599.04 429.344 2597.17 427.515 Q2595.29 425.663 2595.29 420.802 L2595.29 406.728 L2592.17 406.728 L2592.17 403.418 L2595.29 403.418 L2595.29 396.057 L2599.58 396.057 Z\" fill=\"#000000\" fill-rule=\"evenodd\" fill-opacity=\"1\" /><path clip-path=\"url(#clip040)\" d=\"M2633.23 396.057 L2633.23 403.418 L2642.01 403.418 L2642.01 406.728 L2633.23 406.728 L2633.23 420.802 Q2633.23 423.973 2634.09 424.876 Q2634.97 425.779 2637.63 425.779 L2642.01 425.779 L2642.01 429.344 L2637.63 429.344 Q2632.7 429.344 2630.83 427.515 Q2628.95 425.663 2628.95 420.802 L2628.95 406.728 L2625.83 406.728 L2625.83 403.418 L2628.95 403.418 L2628.95 396.057 L2633.23 396.057 Z\" fill=\"#000000\" fill-rule=\"evenodd\" fill-opacity=\"1\" /><path clip-path=\"url(#clip040)\" d=\"M2662.63 407.399 Q2661.91 406.983 2661.06 406.798 Q2660.22 406.589 2659.2 406.589 Q2655.59 406.589 2653.65 408.95 Q2651.73 411.288 2651.73 415.686 L2651.73 429.344 L2647.45 429.344 L2647.45 403.418 L2651.73 403.418 L2651.73 407.446 Q2653.07 405.085 2655.22 403.95 Q2657.38 402.793 2660.45 402.793 Q2660.89 402.793 2661.43 402.862 Q2661.96 402.909 2662.61 403.024 L2662.63 407.399 Z\" fill=\"#000000\" fill-rule=\"evenodd\" fill-opacity=\"1\" /><path clip-path=\"url(#clip040)\" d=\"M2688.23 415.316 L2688.23 417.399 L2668.65 417.399 Q2668.93 421.797 2671.29 424.112 Q2673.67 426.404 2677.91 426.404 Q2680.36 426.404 2682.65 425.802 Q2684.97 425.2 2687.24 423.997 L2687.24 428.024 Q2684.95 428.996 2682.54 429.506 Q2680.13 430.015 2677.65 430.015 Q2671.45 430.015 2667.82 426.404 Q2664.2 422.793 2664.2 416.635 Q2664.2 410.27 2667.63 406.543 Q2671.08 402.793 2676.91 402.793 Q2682.14 402.793 2685.18 406.173 Q2688.23 409.529 2688.23 415.316 M2683.97 414.066 Q2683.93 410.571 2682.01 408.487 Q2680.11 406.404 2676.96 406.404 Q2673.39 406.404 2671.24 408.418 Q2669.11 410.432 2668.79 414.089 L2683.97 414.066 Z\" fill=\"#000000\" fill-rule=\"evenodd\" fill-opacity=\"1\" /><path clip-path=\"url(#clip040)\" d=\"M2716.77 413.696 L2716.77 429.344 L2712.51 429.344 L2712.51 413.835 Q2712.51 410.154 2711.08 408.325 Q2709.64 406.497 2706.77 406.497 Q2703.33 406.497 2701.33 408.696 Q2699.34 410.895 2699.34 414.691 L2699.34 429.344 L2695.06 429.344 L2695.06 403.418 L2699.34 403.418 L2699.34 407.446 Q2700.87 405.108 2702.93 403.95 Q2705.01 402.793 2707.72 402.793 Q2712.19 402.793 2714.48 405.571 Q2716.77 408.325 2716.77 413.696 Z\" fill=\"#000000\" fill-rule=\"evenodd\" fill-opacity=\"1\" /><path clip-path=\"url(#clip040)\" d=\"M2742.33 407.353 L2742.33 393.325 L2746.59 393.325 L2746.59 429.344 L2742.33 429.344 L2742.33 425.455 Q2740.99 427.77 2738.93 428.904 Q2736.89 430.015 2734.02 430.015 Q2729.32 430.015 2726.36 426.265 Q2723.42 422.515 2723.42 416.404 Q2723.42 410.293 2726.36 406.543 Q2729.32 402.793 2734.02 402.793 Q2736.89 402.793 2738.93 403.927 Q2740.99 405.038 2742.33 407.353 M2727.82 416.404 Q2727.82 421.103 2729.74 423.788 Q2731.68 426.45 2735.06 426.45 Q2738.44 426.45 2740.39 423.788 Q2742.33 421.103 2742.33 416.404 Q2742.33 411.705 2740.39 409.043 Q2738.44 406.358 2735.06 406.358 Q2731.68 406.358 2729.74 409.043 Q2727.82 411.705 2727.82 416.404 Z\" fill=\"#000000\" fill-rule=\"evenodd\" fill-opacity=\"1\" /><path clip-path=\"url(#clip040)\" d=\"M2755.36 393.325 L2759.62 393.325 L2759.62 429.344 L2755.36 429.344 L2755.36 393.325 Z\" fill=\"#000000\" fill-rule=\"evenodd\" fill-opacity=\"1\" /><path clip-path=\"url(#clip040)\" d=\"M2768.53 403.418 L2772.79 403.418 L2772.79 429.344 L2768.53 429.344 L2768.53 403.418 M2768.53 393.325 L2772.79 393.325 L2772.79 398.719 L2768.53 398.719 L2768.53 393.325 Z\" fill=\"#000000\" fill-rule=\"evenodd\" fill-opacity=\"1\" /><path clip-path=\"url(#clip040)\" d=\"M2803.26 413.696 L2803.26 429.344 L2799 429.344 L2799 413.835 Q2799 410.154 2797.56 408.325 Q2796.13 406.497 2793.26 406.497 Q2789.81 406.497 2787.82 408.696 Q2785.82 410.895 2785.82 414.691 L2785.82 429.344 L2781.54 429.344 L2781.54 403.418 L2785.82 403.418 L2785.82 407.446 Q2787.35 405.108 2789.41 403.95 Q2791.5 402.793 2794.2 402.793 Q2798.67 402.793 2800.96 405.571 Q2803.26 408.325 2803.26 413.696 Z\" fill=\"#000000\" fill-rule=\"evenodd\" fill-opacity=\"1\" /><path clip-path=\"url(#clip040)\" d=\"M2833.93 415.316 L2833.93 417.399 L2814.34 417.399 Q2814.62 421.797 2816.98 424.112 Q2819.37 426.404 2823.6 426.404 Q2826.06 426.404 2828.35 425.802 Q2830.66 425.2 2832.93 423.997 L2832.93 428.024 Q2830.64 428.996 2828.23 429.506 Q2825.82 430.015 2823.35 430.015 Q2817.14 430.015 2813.51 426.404 Q2809.9 422.793 2809.9 416.635 Q2809.9 410.27 2813.32 406.543 Q2816.77 402.793 2822.61 402.793 Q2827.84 402.793 2830.87 406.173 Q2833.93 409.529 2833.93 415.316 M2829.67 414.066 Q2829.62 410.571 2827.7 408.487 Q2825.8 406.404 2822.65 406.404 Q2819.09 406.404 2816.94 408.418 Q2814.81 410.432 2814.48 414.089 L2829.67 414.066 Z\" fill=\"#000000\" fill-rule=\"evenodd\" fill-opacity=\"1\" /></svg>\n"
      ]
     },
     "metadata": {},
     "output_type": "display_data"
    },
    {
     "name": "stdout",
     "output_type": "stream",
     "text": [
      "  0.000331 seconds (290 allocations: 37.203 KiB)\n",
      "(k, predicted_saturation) = (3, 1.0625)\n",
      "  0.000260 seconds (378 allocations: 48.641 KiB)\n",
      "(k, predicted_saturation) = (5, 0.533203125)\n"
     ]
    },
    {
     "data": {
      "image/svg+xml": [
       "<?xml version=\"1.0\" encoding=\"utf-8\"?>\n",
       "<svg xmlns=\"http://www.w3.org/2000/svg\" xmlns:xlink=\"http://www.w3.org/1999/xlink\" width=\"800\" height=\"400\" viewBox=\"0 0 3200 1600\">\n",
       "<defs>\n",
       "  <clipPath id=\"clip080\">\n",
       "    <rect x=\"0\" y=\"0\" width=\"3200\" height=\"1600\"/>\n",
       "  </clipPath>\n",
       "</defs>\n",
       "<path clip-path=\"url(#clip080)\" d=\"\n",
       "M0 1600 L3200 1600 L3200 0 L0 0  Z\n",
       "  \" fill=\"#ffffff\" fill-rule=\"evenodd\" fill-opacity=\"1\"/>\n",
       "<defs>\n",
       "  <clipPath id=\"clip081\">\n",
       "    <rect x=\"640\" y=\"0\" width=\"2241\" height=\"1600\"/>\n",
       "  </clipPath>\n",
       "</defs>\n",
       "<path clip-path=\"url(#clip080)\" d=\"\n",
       "M261.565 1443.7 L2209.42 1443.7 L2209.42 108.352 L261.565 108.352  Z\n",
       "  \" fill=\"#ffffff\" fill-rule=\"evenodd\" fill-opacity=\"1\"/>\n",
       "<defs>\n",
       "  <clipPath id=\"clip082\">\n",
       "    <rect x=\"261\" y=\"108\" width=\"1949\" height=\"1336\"/>\n",
       "  </clipPath>\n",
       "</defs>\n",
       "<polyline clip-path=\"url(#clip082)\" style=\"stroke:#000000; stroke-linecap:butt; stroke-linejoin:round; stroke-width:2; stroke-opacity:0.1; fill:none\" points=\"\n",
       "  316.693,1443.7 316.693,108.352 \n",
       "  \"/>\n",
       "<polyline clip-path=\"url(#clip082)\" style=\"stroke:#000000; stroke-linecap:butt; stroke-linejoin:round; stroke-width:2; stroke-opacity:0.1; fill:none\" points=\"\n",
       "  614.04,1443.7 614.04,108.352 \n",
       "  \"/>\n",
       "<polyline clip-path=\"url(#clip082)\" style=\"stroke:#000000; stroke-linecap:butt; stroke-linejoin:round; stroke-width:2; stroke-opacity:0.1; fill:none\" points=\"\n",
       "  911.387,1443.7 911.387,108.352 \n",
       "  \"/>\n",
       "<polyline clip-path=\"url(#clip082)\" style=\"stroke:#000000; stroke-linecap:butt; stroke-linejoin:round; stroke-width:2; stroke-opacity:0.1; fill:none\" points=\"\n",
       "  1208.73,1443.7 1208.73,108.352 \n",
       "  \"/>\n",
       "<polyline clip-path=\"url(#clip082)\" style=\"stroke:#000000; stroke-linecap:butt; stroke-linejoin:round; stroke-width:2; stroke-opacity:0.1; fill:none\" points=\"\n",
       "  1506.08,1443.7 1506.08,108.352 \n",
       "  \"/>\n",
       "<polyline clip-path=\"url(#clip082)\" style=\"stroke:#000000; stroke-linecap:butt; stroke-linejoin:round; stroke-width:2; stroke-opacity:0.1; fill:none\" points=\"\n",
       "  1803.43,1443.7 1803.43,108.352 \n",
       "  \"/>\n",
       "<polyline clip-path=\"url(#clip082)\" style=\"stroke:#000000; stroke-linecap:butt; stroke-linejoin:round; stroke-width:2; stroke-opacity:0.1; fill:none\" points=\"\n",
       "  2100.77,1443.7 2100.77,108.352 \n",
       "  \"/>\n",
       "<polyline clip-path=\"url(#clip080)\" style=\"stroke:#000000; stroke-linecap:butt; stroke-linejoin:round; stroke-width:4; stroke-opacity:1; fill:none\" points=\"\n",
       "  261.565,1443.7 2209.42,1443.7 \n",
       "  \"/>\n",
       "<polyline clip-path=\"url(#clip080)\" style=\"stroke:#000000; stroke-linecap:butt; stroke-linejoin:round; stroke-width:4; stroke-opacity:1; fill:none\" points=\"\n",
       "  316.693,1443.7 316.693,1424.8 \n",
       "  \"/>\n",
       "<polyline clip-path=\"url(#clip080)\" style=\"stroke:#000000; stroke-linecap:butt; stroke-linejoin:round; stroke-width:4; stroke-opacity:1; fill:none\" points=\"\n",
       "  614.04,1443.7 614.04,1424.8 \n",
       "  \"/>\n",
       "<polyline clip-path=\"url(#clip080)\" style=\"stroke:#000000; stroke-linecap:butt; stroke-linejoin:round; stroke-width:4; stroke-opacity:1; fill:none\" points=\"\n",
       "  911.387,1443.7 911.387,1424.8 \n",
       "  \"/>\n",
       "<polyline clip-path=\"url(#clip080)\" style=\"stroke:#000000; stroke-linecap:butt; stroke-linejoin:round; stroke-width:4; stroke-opacity:1; fill:none\" points=\"\n",
       "  1208.73,1443.7 1208.73,1424.8 \n",
       "  \"/>\n",
       "<polyline clip-path=\"url(#clip080)\" style=\"stroke:#000000; stroke-linecap:butt; stroke-linejoin:round; stroke-width:4; stroke-opacity:1; fill:none\" points=\"\n",
       "  1506.08,1443.7 1506.08,1424.8 \n",
       "  \"/>\n",
       "<polyline clip-path=\"url(#clip080)\" style=\"stroke:#000000; stroke-linecap:butt; stroke-linejoin:round; stroke-width:4; stroke-opacity:1; fill:none\" points=\"\n",
       "  1803.43,1443.7 1803.43,1424.8 \n",
       "  \"/>\n",
       "<polyline clip-path=\"url(#clip080)\" style=\"stroke:#000000; stroke-linecap:butt; stroke-linejoin:round; stroke-width:4; stroke-opacity:1; fill:none\" points=\"\n",
       "  2100.77,1443.7 2100.77,1424.8 \n",
       "  \"/>\n",
       "<path clip-path=\"url(#clip080)\" d=\"M316.693 1479.29 Q313.082 1479.29 311.253 1482.86 Q309.448 1486.4 309.448 1493.53 Q309.448 1500.63 311.253 1504.2 Q313.082 1507.74 316.693 1507.74 Q320.327 1507.74 322.133 1504.2 Q323.961 1500.63 323.961 1493.53 Q323.961 1486.4 322.133 1482.86 Q320.327 1479.29 316.693 1479.29 M316.693 1475.59 Q322.503 1475.59 325.559 1480.19 Q328.637 1484.78 328.637 1493.53 Q328.637 1502.25 325.559 1506.86 Q322.503 1511.44 316.693 1511.44 Q310.883 1511.44 307.804 1506.86 Q304.748 1502.25 304.748 1493.53 Q304.748 1484.78 307.804 1480.19 Q310.883 1475.59 316.693 1475.59 Z\" fill=\"#000000\" fill-rule=\"evenodd\" fill-opacity=\"1\" /><path clip-path=\"url(#clip080)\" d=\"M577.732 1506.84 L594.051 1506.84 L594.051 1510.77 L572.107 1510.77 L572.107 1506.84 Q574.769 1504.08 579.352 1499.45 Q583.959 1494.8 585.139 1493.46 Q587.385 1490.93 588.264 1489.2 Q589.167 1487.44 589.167 1485.75 Q589.167 1482.99 587.223 1481.26 Q585.301 1479.52 582.2 1479.52 Q580.001 1479.52 577.547 1480.29 Q575.116 1481.05 572.339 1482.6 L572.339 1477.88 Q575.163 1476.74 577.616 1476.17 Q580.07 1475.59 582.107 1475.59 Q587.477 1475.59 590.672 1478.27 Q593.866 1480.96 593.866 1485.45 Q593.866 1487.58 593.056 1489.5 Q592.269 1491.4 590.163 1493.99 Q589.584 1494.66 586.482 1497.88 Q583.38 1501.07 577.732 1506.84 Z\" fill=\"#000000\" fill-rule=\"evenodd\" fill-opacity=\"1\" /><path clip-path=\"url(#clip080)\" d=\"M613.866 1479.29 Q610.255 1479.29 608.426 1482.86 Q606.621 1486.4 606.621 1493.53 Q606.621 1500.63 608.426 1504.2 Q610.255 1507.74 613.866 1507.74 Q617.5 1507.74 619.306 1504.2 Q621.135 1500.63 621.135 1493.53 Q621.135 1486.4 619.306 1482.86 Q617.5 1479.29 613.866 1479.29 M613.866 1475.59 Q619.676 1475.59 622.732 1480.19 Q625.81 1484.78 625.81 1493.53 Q625.81 1502.25 622.732 1506.86 Q619.676 1511.44 613.866 1511.44 Q608.056 1511.44 604.977 1506.86 Q601.922 1502.25 601.922 1493.53 Q601.922 1484.78 604.977 1480.19 Q608.056 1475.59 613.866 1475.59 Z\" fill=\"#000000\" fill-rule=\"evenodd\" fill-opacity=\"1\" /><path clip-path=\"url(#clip080)\" d=\"M644.028 1479.29 Q640.417 1479.29 638.588 1482.86 Q636.783 1486.4 636.783 1493.53 Q636.783 1500.63 638.588 1504.2 Q640.417 1507.74 644.028 1507.74 Q647.662 1507.74 649.468 1504.2 Q651.296 1500.63 651.296 1493.53 Q651.296 1486.4 649.468 1482.86 Q647.662 1479.29 644.028 1479.29 M644.028 1475.59 Q649.838 1475.59 652.894 1480.19 Q655.972 1484.78 655.972 1493.53 Q655.972 1502.25 652.894 1506.86 Q649.838 1511.44 644.028 1511.44 Q638.218 1511.44 635.139 1506.86 Q632.084 1502.25 632.084 1493.53 Q632.084 1484.78 635.139 1480.19 Q638.218 1475.59 644.028 1475.59 Z\" fill=\"#000000\" fill-rule=\"evenodd\" fill-opacity=\"1\" /><path clip-path=\"url(#clip080)\" d=\"M884.477 1480.29 L872.672 1498.73 L884.477 1498.73 L884.477 1480.29 M883.25 1476.21 L889.13 1476.21 L889.13 1498.73 L894.06 1498.73 L894.06 1502.62 L889.13 1502.62 L889.13 1510.77 L884.477 1510.77 L884.477 1502.62 L868.875 1502.62 L868.875 1498.11 L883.25 1476.21 Z\" fill=\"#000000\" fill-rule=\"evenodd\" fill-opacity=\"1\" /><path clip-path=\"url(#clip080)\" d=\"M911.792 1479.29 Q908.181 1479.29 906.352 1482.86 Q904.546 1486.4 904.546 1493.53 Q904.546 1500.63 906.352 1504.2 Q908.181 1507.74 911.792 1507.74 Q915.426 1507.74 917.231 1504.2 Q919.06 1500.63 919.06 1493.53 Q919.06 1486.4 917.231 1482.86 Q915.426 1479.29 911.792 1479.29 M911.792 1475.59 Q917.602 1475.59 920.657 1480.19 Q923.736 1484.78 923.736 1493.53 Q923.736 1502.25 920.657 1506.86 Q917.602 1511.44 911.792 1511.44 Q905.982 1511.44 902.903 1506.86 Q899.847 1502.25 899.847 1493.53 Q899.847 1484.78 902.903 1480.19 Q905.982 1475.59 911.792 1475.59 Z\" fill=\"#000000\" fill-rule=\"evenodd\" fill-opacity=\"1\" /><path clip-path=\"url(#clip080)\" d=\"M941.954 1479.29 Q938.342 1479.29 936.514 1482.86 Q934.708 1486.4 934.708 1493.53 Q934.708 1500.63 936.514 1504.2 Q938.342 1507.74 941.954 1507.74 Q945.588 1507.74 947.393 1504.2 Q949.222 1500.63 949.222 1493.53 Q949.222 1486.4 947.393 1482.86 Q945.588 1479.29 941.954 1479.29 M941.954 1475.59 Q947.764 1475.59 950.819 1480.19 Q953.898 1484.78 953.898 1493.53 Q953.898 1502.25 950.819 1506.86 Q947.764 1511.44 941.954 1511.44 Q936.143 1511.44 933.065 1506.86 Q930.009 1502.25 930.009 1493.53 Q930.009 1484.78 933.065 1480.19 Q936.143 1475.59 941.954 1475.59 Z\" fill=\"#000000\" fill-rule=\"evenodd\" fill-opacity=\"1\" /><path clip-path=\"url(#clip080)\" d=\"M1179.06 1491.63 Q1175.91 1491.63 1174.06 1493.78 Q1172.23 1495.93 1172.23 1499.68 Q1172.23 1503.41 1174.06 1505.59 Q1175.91 1507.74 1179.06 1507.74 Q1182.21 1507.74 1184.03 1505.59 Q1185.89 1503.41 1185.89 1499.68 Q1185.89 1495.93 1184.03 1493.78 Q1182.21 1491.63 1179.06 1491.63 M1188.34 1476.98 L1188.34 1481.23 Q1186.58 1480.4 1184.78 1479.96 Q1182.99 1479.52 1181.23 1479.52 Q1176.6 1479.52 1174.15 1482.65 Q1171.72 1485.77 1171.37 1492.09 Q1172.74 1490.08 1174.8 1489.01 Q1176.86 1487.92 1179.34 1487.92 Q1184.54 1487.92 1187.55 1491.1 Q1190.59 1494.24 1190.59 1499.68 Q1190.59 1505.01 1187.44 1508.23 Q1184.29 1511.44 1179.06 1511.44 Q1173.06 1511.44 1169.89 1506.86 Q1166.72 1502.25 1166.72 1493.53 Q1166.72 1485.33 1170.61 1480.47 Q1174.5 1475.59 1181.05 1475.59 Q1182.81 1475.59 1184.59 1475.93 Q1186.4 1476.28 1188.34 1476.98 Z\" fill=\"#000000\" fill-rule=\"evenodd\" fill-opacity=\"1\" /><path clip-path=\"url(#clip080)\" d=\"M1208.64 1479.29 Q1205.03 1479.29 1203.2 1482.86 Q1201.4 1486.4 1201.4 1493.53 Q1201.4 1500.63 1203.2 1504.2 Q1205.03 1507.74 1208.64 1507.74 Q1212.28 1507.74 1214.08 1504.2 Q1215.91 1500.63 1215.91 1493.53 Q1215.91 1486.4 1214.08 1482.86 Q1212.28 1479.29 1208.64 1479.29 M1208.64 1475.59 Q1214.45 1475.59 1217.51 1480.19 Q1220.59 1484.78 1220.59 1493.53 Q1220.59 1502.25 1217.51 1506.86 Q1214.45 1511.44 1208.64 1511.44 Q1202.83 1511.44 1199.75 1506.86 Q1196.7 1502.25 1196.7 1493.53 Q1196.7 1484.78 1199.75 1480.19 Q1202.83 1475.59 1208.64 1475.59 Z\" fill=\"#000000\" fill-rule=\"evenodd\" fill-opacity=\"1\" /><path clip-path=\"url(#clip080)\" d=\"M1238.8 1479.29 Q1235.19 1479.29 1233.36 1482.86 Q1231.56 1486.4 1231.56 1493.53 Q1231.56 1500.63 1233.36 1504.2 Q1235.19 1507.74 1238.8 1507.74 Q1242.44 1507.74 1244.24 1504.2 Q1246.07 1500.63 1246.07 1493.53 Q1246.07 1486.4 1244.24 1482.86 Q1242.44 1479.29 1238.8 1479.29 M1238.8 1475.59 Q1244.61 1475.59 1247.67 1480.19 Q1250.75 1484.78 1250.75 1493.53 Q1250.75 1502.25 1247.67 1506.86 Q1244.61 1511.44 1238.8 1511.44 Q1232.99 1511.44 1229.91 1506.86 Q1226.86 1502.25 1226.86 1493.53 Q1226.86 1484.78 1229.91 1480.19 Q1232.99 1475.59 1238.8 1475.59 Z\" fill=\"#000000\" fill-rule=\"evenodd\" fill-opacity=\"1\" /><path clip-path=\"url(#clip080)\" d=\"M1475.87 1494.36 Q1472.54 1494.36 1470.62 1496.14 Q1468.72 1497.92 1468.72 1501.05 Q1468.72 1504.17 1470.62 1505.96 Q1472.54 1507.74 1475.87 1507.74 Q1479.21 1507.74 1481.13 1505.96 Q1483.05 1504.15 1483.05 1501.05 Q1483.05 1497.92 1481.13 1496.14 Q1479.23 1494.36 1475.87 1494.36 M1471.2 1492.37 Q1468.19 1491.63 1466.5 1489.57 Q1464.83 1487.51 1464.83 1484.55 Q1464.83 1480.4 1467.77 1477.99 Q1470.73 1475.59 1475.87 1475.59 Q1481.03 1475.59 1483.97 1477.99 Q1486.91 1480.4 1486.91 1484.55 Q1486.91 1487.51 1485.22 1489.57 Q1483.56 1491.63 1480.57 1492.37 Q1483.95 1493.16 1485.83 1495.45 Q1487.72 1497.74 1487.72 1501.05 Q1487.72 1506.07 1484.65 1508.76 Q1481.59 1511.44 1475.87 1511.44 Q1470.15 1511.44 1467.08 1508.76 Q1464.02 1506.07 1464.02 1501.05 Q1464.02 1497.74 1465.92 1495.45 Q1467.82 1493.16 1471.2 1492.37 M1469.48 1484.98 Q1469.48 1487.67 1471.15 1489.17 Q1472.84 1490.68 1475.87 1490.68 Q1478.88 1490.68 1480.57 1489.17 Q1482.28 1487.67 1482.28 1484.98 Q1482.28 1482.3 1480.57 1480.8 Q1478.88 1479.29 1475.87 1479.29 Q1472.84 1479.29 1471.15 1480.8 Q1469.48 1482.3 1469.48 1484.98 Z\" fill=\"#000000\" fill-rule=\"evenodd\" fill-opacity=\"1\" /><path clip-path=\"url(#clip080)\" d=\"M1506.03 1479.29 Q1502.42 1479.29 1500.59 1482.86 Q1498.79 1486.4 1498.79 1493.53 Q1498.79 1500.63 1500.59 1504.2 Q1502.42 1507.74 1506.03 1507.74 Q1509.67 1507.74 1511.47 1504.2 Q1513.3 1500.63 1513.3 1493.53 Q1513.3 1486.4 1511.47 1482.86 Q1509.67 1479.29 1506.03 1479.29 M1506.03 1475.59 Q1511.84 1475.59 1514.9 1480.19 Q1517.98 1484.78 1517.98 1493.53 Q1517.98 1502.25 1514.9 1506.86 Q1511.84 1511.44 1506.03 1511.44 Q1500.22 1511.44 1497.15 1506.86 Q1494.09 1502.25 1494.09 1493.53 Q1494.09 1484.78 1497.15 1480.19 Q1500.22 1475.59 1506.03 1475.59 Z\" fill=\"#000000\" fill-rule=\"evenodd\" fill-opacity=\"1\" /><path clip-path=\"url(#clip080)\" d=\"M1536.2 1479.29 Q1532.58 1479.29 1530.76 1482.86 Q1528.95 1486.4 1528.95 1493.53 Q1528.95 1500.63 1530.76 1504.2 Q1532.58 1507.74 1536.2 1507.74 Q1539.83 1507.74 1541.64 1504.2 Q1543.46 1500.63 1543.46 1493.53 Q1543.46 1486.4 1541.64 1482.86 Q1539.83 1479.29 1536.2 1479.29 M1536.2 1475.59 Q1542.01 1475.59 1545.06 1480.19 Q1548.14 1484.78 1548.14 1493.53 Q1548.14 1502.25 1545.06 1506.86 Q1542.01 1511.44 1536.2 1511.44 Q1530.39 1511.44 1527.31 1506.86 Q1524.25 1502.25 1524.25 1493.53 Q1524.25 1484.78 1527.31 1480.19 Q1530.39 1475.59 1536.2 1475.59 Z\" fill=\"#000000\" fill-rule=\"evenodd\" fill-opacity=\"1\" /><path clip-path=\"url(#clip080)\" d=\"M1747.95 1506.84 L1755.59 1506.84 L1755.59 1480.47 L1747.28 1482.14 L1747.28 1477.88 L1755.55 1476.21 L1760.22 1476.21 L1760.22 1506.84 L1767.86 1506.84 L1767.86 1510.77 L1747.95 1510.77 L1747.95 1506.84 Z\" fill=\"#000000\" fill-rule=\"evenodd\" fill-opacity=\"1\" /><path clip-path=\"url(#clip080)\" d=\"M1787.3 1479.29 Q1783.69 1479.29 1781.86 1482.86 Q1780.06 1486.4 1780.06 1493.53 Q1780.06 1500.63 1781.86 1504.2 Q1783.69 1507.74 1787.3 1507.74 Q1790.94 1507.74 1792.74 1504.2 Q1794.57 1500.63 1794.57 1493.53 Q1794.57 1486.4 1792.74 1482.86 Q1790.94 1479.29 1787.3 1479.29 M1787.3 1475.59 Q1793.11 1475.59 1796.17 1480.19 Q1799.25 1484.78 1799.25 1493.53 Q1799.25 1502.25 1796.17 1506.86 Q1793.11 1511.44 1787.3 1511.44 Q1781.49 1511.44 1778.42 1506.86 Q1775.36 1502.25 1775.36 1493.53 Q1775.36 1484.78 1778.42 1480.19 Q1781.49 1475.59 1787.3 1475.59 Z\" fill=\"#000000\" fill-rule=\"evenodd\" fill-opacity=\"1\" /><path clip-path=\"url(#clip080)\" d=\"M1817.47 1479.29 Q1813.86 1479.29 1812.03 1482.86 Q1810.22 1486.4 1810.22 1493.53 Q1810.22 1500.63 1812.03 1504.2 Q1813.86 1507.74 1817.47 1507.74 Q1821.1 1507.74 1822.91 1504.2 Q1824.73 1500.63 1824.73 1493.53 Q1824.73 1486.4 1822.91 1482.86 Q1821.1 1479.29 1817.47 1479.29 M1817.47 1475.59 Q1823.28 1475.59 1826.33 1480.19 Q1829.41 1484.78 1829.41 1493.53 Q1829.41 1502.25 1826.33 1506.86 Q1823.28 1511.44 1817.47 1511.44 Q1811.66 1511.44 1808.58 1506.86 Q1805.52 1502.25 1805.52 1493.53 Q1805.52 1484.78 1808.58 1480.19 Q1811.66 1475.59 1817.47 1475.59 Z\" fill=\"#000000\" fill-rule=\"evenodd\" fill-opacity=\"1\" /><path clip-path=\"url(#clip080)\" d=\"M1847.63 1479.29 Q1844.02 1479.29 1842.19 1482.86 Q1840.38 1486.4 1840.38 1493.53 Q1840.38 1500.63 1842.19 1504.2 Q1844.02 1507.74 1847.63 1507.74 Q1851.26 1507.74 1853.07 1504.2 Q1854.9 1500.63 1854.9 1493.53 Q1854.9 1486.4 1853.07 1482.86 Q1851.26 1479.29 1847.63 1479.29 M1847.63 1475.59 Q1853.44 1475.59 1856.49 1480.19 Q1859.57 1484.78 1859.57 1493.53 Q1859.57 1502.25 1856.49 1506.86 Q1853.44 1511.44 1847.63 1511.44 Q1841.82 1511.44 1838.74 1506.86 Q1835.68 1502.25 1835.68 1493.53 Q1835.68 1484.78 1838.74 1480.19 Q1841.82 1475.59 1847.63 1475.59 Z\" fill=\"#000000\" fill-rule=\"evenodd\" fill-opacity=\"1\" /><path clip-path=\"url(#clip080)\" d=\"M2045.3 1506.84 L2052.94 1506.84 L2052.94 1480.47 L2044.63 1482.14 L2044.63 1477.88 L2052.89 1476.21 L2057.57 1476.21 L2057.57 1506.84 L2065.21 1506.84 L2065.21 1510.77 L2045.3 1510.77 L2045.3 1506.84 Z\" fill=\"#000000\" fill-rule=\"evenodd\" fill-opacity=\"1\" /><path clip-path=\"url(#clip080)\" d=\"M2078.68 1506.84 L2095 1506.84 L2095 1510.77 L2073.05 1510.77 L2073.05 1506.84 Q2075.72 1504.08 2080.3 1499.45 Q2084.91 1494.8 2086.09 1493.46 Q2088.33 1490.93 2089.21 1489.2 Q2090.11 1487.44 2090.11 1485.75 Q2090.11 1482.99 2088.17 1481.26 Q2086.25 1479.52 2083.15 1479.52 Q2080.95 1479.52 2078.49 1480.29 Q2076.06 1481.05 2073.29 1482.6 L2073.29 1477.88 Q2076.11 1476.74 2078.56 1476.17 Q2081.02 1475.59 2083.05 1475.59 Q2088.42 1475.59 2091.62 1478.27 Q2094.81 1480.96 2094.81 1485.45 Q2094.81 1487.58 2094 1489.5 Q2093.22 1491.4 2091.11 1493.99 Q2090.53 1494.66 2087.43 1497.88 Q2084.33 1501.07 2078.68 1506.84 Z\" fill=\"#000000\" fill-rule=\"evenodd\" fill-opacity=\"1\" /><path clip-path=\"url(#clip080)\" d=\"M2114.81 1479.29 Q2111.2 1479.29 2109.37 1482.86 Q2107.57 1486.4 2107.57 1493.53 Q2107.57 1500.63 2109.37 1504.2 Q2111.2 1507.74 2114.81 1507.74 Q2118.45 1507.74 2120.25 1504.2 Q2122.08 1500.63 2122.08 1493.53 Q2122.08 1486.4 2120.25 1482.86 Q2118.45 1479.29 2114.81 1479.29 M2114.81 1475.59 Q2120.62 1475.59 2123.68 1480.19 Q2126.76 1484.78 2126.76 1493.53 Q2126.76 1502.25 2123.68 1506.86 Q2120.62 1511.44 2114.81 1511.44 Q2109 1511.44 2105.92 1506.86 Q2102.87 1502.25 2102.87 1493.53 Q2102.87 1484.78 2105.92 1480.19 Q2109 1475.59 2114.81 1475.59 Z\" fill=\"#000000\" fill-rule=\"evenodd\" fill-opacity=\"1\" /><path clip-path=\"url(#clip080)\" d=\"M2144.98 1479.29 Q2141.36 1479.29 2139.54 1482.86 Q2137.73 1486.4 2137.73 1493.53 Q2137.73 1500.63 2139.54 1504.2 Q2141.36 1507.74 2144.98 1507.74 Q2148.61 1507.74 2150.42 1504.2 Q2152.24 1500.63 2152.24 1493.53 Q2152.24 1486.4 2150.42 1482.86 Q2148.61 1479.29 2144.98 1479.29 M2144.98 1475.59 Q2150.79 1475.59 2153.84 1480.19 Q2156.92 1484.78 2156.92 1493.53 Q2156.92 1502.25 2153.84 1506.86 Q2150.79 1511.44 2144.98 1511.44 Q2139.17 1511.44 2136.09 1506.86 Q2133.03 1502.25 2133.03 1493.53 Q2133.03 1484.78 2136.09 1480.19 Q2139.17 1475.59 2144.98 1475.59 Z\" fill=\"#000000\" fill-rule=\"evenodd\" fill-opacity=\"1\" /><path clip-path=\"url(#clip080)\" d=\"M971.493 1571.89 L962.231 1571.89 L959.557 1582.52 L968.883 1582.52 L971.493 1571.89 M966.719 1553.78 L963.408 1566.98 L972.702 1566.98 L976.044 1553.78 L981.137 1553.78 L977.859 1566.98 L987.789 1566.98 L987.789 1571.89 L976.617 1571.89 L974.007 1582.52 L984.129 1582.52 L984.129 1587.39 L972.766 1587.39 L969.456 1600.56 L964.363 1600.56 L967.642 1587.39 L958.316 1587.39 L955.038 1600.56 L949.913 1600.56 L953.223 1587.39 L943.197 1587.39 L943.197 1582.52 L954.401 1582.52 L957.075 1571.89 L946.826 1571.89 L946.826 1566.98 L958.316 1566.98 L961.562 1553.78 L966.719 1553.78 Z\" fill=\"#000000\" fill-rule=\"evenodd\" fill-opacity=\"1\" /><path clip-path=\"url(#clip080)\" d=\"M1019.43 1551.04 L1025.31 1551.04 L1025.31 1580.29 L1042.79 1564.92 L1050.27 1564.92 L1031.36 1581.59 L1051.06 1600.56 L1043.43 1600.56 L1025.31 1583.15 L1025.31 1600.56 L1019.43 1600.56 L1019.43 1551.04 Z\" fill=\"#000000\" fill-rule=\"evenodd\" fill-opacity=\"1\" /><path clip-path=\"url(#clip080)\" d=\"M1085.15 1571.76 Q1087.35 1567.81 1090.4 1565.93 Q1093.46 1564.06 1097.6 1564.06 Q1103.17 1564.06 1106.19 1567.97 Q1109.21 1571.85 1109.21 1579.05 L1109.21 1600.56 L1103.33 1600.56 L1103.33 1579.24 Q1103.33 1574.11 1101.51 1571.63 Q1099.7 1569.15 1095.97 1569.15 Q1091.42 1569.15 1088.78 1572.17 Q1086.14 1575.2 1086.14 1580.42 L1086.14 1600.56 L1080.25 1600.56 L1080.25 1579.24 Q1080.25 1574.08 1078.44 1571.63 Q1076.62 1569.15 1072.83 1569.15 Q1068.35 1569.15 1065.71 1572.2 Q1063.06 1575.23 1063.06 1580.42 L1063.06 1600.56 L1057.18 1600.56 L1057.18 1564.92 L1063.06 1564.92 L1063.06 1570.45 Q1065.07 1567.18 1067.87 1565.62 Q1070.67 1564.06 1074.52 1564.06 Q1078.4 1564.06 1081.11 1566.03 Q1083.85 1568 1085.15 1571.76 Z\" fill=\"#000000\" fill-rule=\"evenodd\" fill-opacity=\"1\" /><path clip-path=\"url(#clip080)\" d=\"M1151.39 1581.28 L1151.39 1584.14 L1124.46 1584.14 Q1124.84 1590.19 1128.09 1593.37 Q1131.37 1596.52 1137.19 1596.52 Q1140.57 1596.52 1143.72 1595.69 Q1146.9 1594.87 1150.02 1593.21 L1150.02 1598.75 Q1146.87 1600.09 1143.56 1600.79 Q1140.25 1601.49 1136.84 1601.49 Q1128.31 1601.49 1123.32 1596.52 Q1118.35 1591.56 1118.35 1583.09 Q1118.35 1574.34 1123.06 1569.21 Q1127.8 1564.06 1135.82 1564.06 Q1143.02 1564.06 1147.19 1568.7 Q1151.39 1573.32 1151.39 1581.28 M1145.53 1579.56 Q1145.47 1574.75 1142.83 1571.89 Q1140.22 1569.02 1135.89 1569.02 Q1130.99 1569.02 1128.03 1571.79 Q1125.1 1574.56 1124.65 1579.59 L1145.53 1579.56 Z\" fill=\"#000000\" fill-rule=\"evenodd\" fill-opacity=\"1\" /><path clip-path=\"url(#clip080)\" d=\"M1181.66 1570.39 Q1180.67 1569.82 1179.49 1569.56 Q1178.35 1569.28 1176.95 1569.28 Q1171.98 1569.28 1169.31 1572.52 Q1166.67 1575.74 1166.67 1581.79 L1166.67 1600.56 L1160.78 1600.56 L1160.78 1564.92 L1166.67 1564.92 L1166.67 1570.45 Q1168.51 1567.21 1171.47 1565.65 Q1174.43 1564.06 1178.66 1564.06 Q1179.27 1564.06 1180 1564.15 Q1180.73 1564.22 1181.62 1564.37 L1181.66 1570.39 Z\" fill=\"#000000\" fill-rule=\"evenodd\" fill-opacity=\"1\" /><path clip-path=\"url(#clip080)\" d=\"M1210.53 1565.97 L1210.53 1571.5 Q1208.04 1570.23 1205.37 1569.59 Q1202.7 1568.96 1199.83 1568.96 Q1195.47 1568.96 1193.27 1570.29 Q1191.11 1571.63 1191.11 1574.31 Q1191.11 1576.34 1192.67 1577.52 Q1194.23 1578.67 1198.94 1579.72 L1200.94 1580.16 Q1207.18 1581.5 1209.79 1583.95 Q1212.43 1586.37 1212.43 1590.73 Q1212.43 1595.69 1208.49 1598.59 Q1204.57 1601.49 1197.7 1601.49 Q1194.83 1601.49 1191.71 1600.91 Q1188.63 1600.37 1185.19 1599.26 L1185.19 1593.21 Q1188.44 1594.9 1191.59 1595.76 Q1194.74 1596.59 1197.83 1596.59 Q1201.96 1596.59 1204.19 1595.18 Q1206.42 1593.75 1206.42 1591.17 Q1206.42 1588.79 1204.8 1587.51 Q1203.2 1586.24 1197.76 1585.06 L1195.72 1584.59 Q1190.28 1583.44 1187.86 1581.08 Q1185.44 1578.7 1185.44 1574.56 Q1185.44 1569.53 1189.01 1566.79 Q1192.57 1564.06 1199.13 1564.06 Q1202.38 1564.06 1205.24 1564.53 Q1208.11 1565.01 1210.53 1565.97 Z\" fill=\"#000000\" fill-rule=\"evenodd\" fill-opacity=\"1\" /><path clip-path=\"url(#clip080)\" d=\"M1258.68 1582.64 Q1251.58 1582.64 1248.85 1584.27 Q1246.11 1585.89 1246.11 1589.81 Q1246.11 1592.92 1248.15 1594.77 Q1250.22 1596.59 1253.75 1596.59 Q1258.62 1596.59 1261.55 1593.15 Q1264.51 1589.68 1264.51 1583.95 L1264.51 1582.64 L1258.68 1582.64 M1270.36 1580.23 L1270.36 1600.56 L1264.51 1600.56 L1264.51 1595.15 Q1262.5 1598.4 1259.51 1599.96 Q1256.52 1601.49 1252.19 1601.49 Q1246.71 1601.49 1243.47 1598.43 Q1240.25 1595.34 1240.25 1590.19 Q1240.25 1584.17 1244.26 1581.12 Q1248.31 1578.06 1256.29 1578.06 L1264.51 1578.06 L1264.51 1577.49 Q1264.51 1573.45 1261.83 1571.25 Q1259.19 1569.02 1254.38 1569.02 Q1251.33 1569.02 1248.43 1569.75 Q1245.54 1570.49 1242.86 1571.95 L1242.86 1566.54 Q1246.08 1565.3 1249.1 1564.69 Q1252.13 1564.06 1254.99 1564.06 Q1262.72 1564.06 1266.54 1568.07 Q1270.36 1572.08 1270.36 1580.23 Z\" fill=\"#000000\" fill-rule=\"evenodd\" fill-opacity=\"1\" /><path clip-path=\"url(#clip080)\" d=\"M1305.15 1565.97 L1305.15 1571.5 Q1302.67 1570.23 1300 1569.59 Q1297.32 1568.96 1294.46 1568.96 Q1290.1 1568.96 1287.9 1570.29 Q1285.74 1571.63 1285.74 1574.31 Q1285.74 1576.34 1287.3 1577.52 Q1288.86 1578.67 1293.57 1579.72 L1295.57 1580.16 Q1301.81 1581.5 1304.42 1583.95 Q1307.06 1586.37 1307.06 1590.73 Q1307.06 1595.69 1303.11 1598.59 Q1299.2 1601.49 1292.32 1601.49 Q1289.46 1601.49 1286.34 1600.91 Q1283.25 1600.37 1279.82 1599.26 L1279.82 1593.21 Q1283.06 1594.9 1286.21 1595.76 Q1289.36 1596.59 1292.45 1596.59 Q1296.59 1596.59 1298.82 1595.18 Q1301.05 1593.75 1301.05 1591.17 Q1301.05 1588.79 1299.42 1587.51 Q1297.83 1586.24 1292.39 1585.06 L1290.35 1584.59 Q1284.91 1583.44 1282.49 1581.08 Q1280.07 1578.7 1280.07 1574.56 Q1280.07 1569.53 1283.64 1566.79 Q1287.2 1564.06 1293.76 1564.06 Q1297 1564.06 1299.87 1564.53 Q1302.73 1565.01 1305.15 1565.97 Z\" fill=\"#000000\" fill-rule=\"evenodd\" fill-opacity=\"1\" /><path clip-path=\"url(#clip080)\" d=\"M1339.11 1565.97 L1339.11 1571.5 Q1336.63 1570.23 1333.96 1569.59 Q1331.28 1568.96 1328.42 1568.96 Q1324.06 1568.96 1321.86 1570.29 Q1319.7 1571.63 1319.7 1574.31 Q1319.7 1576.34 1321.26 1577.52 Q1322.82 1578.67 1327.53 1579.72 L1329.53 1580.16 Q1335.77 1581.5 1338.38 1583.95 Q1341.02 1586.37 1341.02 1590.73 Q1341.02 1595.69 1337.08 1598.59 Q1333.16 1601.49 1326.29 1601.49 Q1323.42 1601.49 1320.3 1600.91 Q1317.21 1600.37 1313.78 1599.26 L1313.78 1593.21 Q1317.02 1594.9 1320.17 1595.76 Q1323.33 1596.59 1326.41 1596.59 Q1330.55 1596.59 1332.78 1595.18 Q1335.01 1593.75 1335.01 1591.17 Q1335.01 1588.79 1333.38 1587.51 Q1331.79 1586.24 1326.35 1585.06 L1324.31 1584.59 Q1318.87 1583.44 1316.45 1581.08 Q1314.03 1578.7 1314.03 1574.56 Q1314.03 1569.53 1317.6 1566.79 Q1321.16 1564.06 1327.72 1564.06 Q1330.96 1564.06 1333.83 1564.53 Q1336.69 1565.01 1339.11 1565.97 Z\" fill=\"#000000\" fill-rule=\"evenodd\" fill-opacity=\"1\" /><path clip-path=\"url(#clip080)\" d=\"M1380.84 1581.28 L1380.84 1584.14 L1353.91 1584.14 Q1354.29 1590.19 1357.54 1593.37 Q1360.82 1596.52 1366.64 1596.52 Q1370.02 1596.52 1373.17 1595.69 Q1376.35 1594.87 1379.47 1593.21 L1379.47 1598.75 Q1376.32 1600.09 1373.01 1600.79 Q1369.7 1601.49 1366.29 1601.49 Q1357.76 1601.49 1352.77 1596.52 Q1347.8 1591.56 1347.8 1583.09 Q1347.8 1574.34 1352.51 1569.21 Q1357.25 1564.06 1365.28 1564.06 Q1372.47 1564.06 1376.64 1568.7 Q1380.84 1573.32 1380.84 1581.28 M1374.98 1579.56 Q1374.92 1574.75 1372.28 1571.89 Q1369.67 1569.02 1365.34 1569.02 Q1360.44 1569.02 1357.48 1571.79 Q1354.55 1574.56 1354.1 1579.59 L1374.98 1579.56 Z\" fill=\"#000000\" fill-rule=\"evenodd\" fill-opacity=\"1\" /><path clip-path=\"url(#clip080)\" d=\"M1413.18 1565.97 L1413.18 1571.5 Q1410.69 1570.23 1408.02 1569.59 Q1405.35 1568.96 1402.48 1568.96 Q1398.12 1568.96 1395.93 1570.29 Q1393.76 1571.63 1393.76 1574.31 Q1393.76 1576.34 1395.32 1577.52 Q1396.88 1578.67 1401.59 1579.72 L1403.6 1580.16 Q1409.84 1581.5 1412.45 1583.95 Q1415.09 1586.37 1415.09 1590.73 Q1415.09 1595.69 1411.14 1598.59 Q1407.23 1601.49 1400.35 1601.49 Q1397.49 1601.49 1394.37 1600.91 Q1391.28 1600.37 1387.84 1599.26 L1387.84 1593.21 Q1391.09 1594.9 1394.24 1595.76 Q1397.39 1596.59 1400.48 1596.59 Q1404.62 1596.59 1406.84 1595.18 Q1409.07 1593.75 1409.07 1591.17 Q1409.07 1588.79 1407.45 1587.51 Q1405.86 1586.24 1400.41 1585.06 L1398.38 1584.59 Q1392.93 1583.44 1390.52 1581.08 Q1388.1 1578.7 1388.1 1574.56 Q1388.1 1569.53 1391.66 1566.79 Q1395.23 1564.06 1401.78 1564.06 Q1405.03 1564.06 1407.89 1564.53 Q1410.76 1565.01 1413.18 1565.97 Z\" fill=\"#000000\" fill-rule=\"evenodd\" fill-opacity=\"1\" /><path clip-path=\"url(#clip080)\" d=\"M1447.14 1565.97 L1447.14 1571.5 Q1444.66 1570.23 1441.98 1569.59 Q1439.31 1568.96 1436.44 1568.96 Q1432.08 1568.96 1429.89 1570.29 Q1427.72 1571.63 1427.72 1574.31 Q1427.72 1576.34 1429.28 1577.52 Q1430.84 1578.67 1435.55 1579.72 L1437.56 1580.16 Q1443.8 1581.5 1446.41 1583.95 Q1449.05 1586.37 1449.05 1590.73 Q1449.05 1595.69 1445.1 1598.59 Q1441.19 1601.49 1434.31 1601.49 Q1431.45 1601.49 1428.33 1600.91 Q1425.24 1600.37 1421.8 1599.26 L1421.8 1593.21 Q1425.05 1594.9 1428.2 1595.76 Q1431.35 1596.59 1434.44 1596.59 Q1438.58 1596.59 1440.8 1595.18 Q1443.03 1593.75 1443.03 1591.17 Q1443.03 1588.79 1441.41 1587.51 Q1439.82 1586.24 1434.38 1585.06 L1432.34 1584.59 Q1426.9 1583.44 1424.48 1581.08 Q1422.06 1578.7 1422.06 1574.56 Q1422.06 1569.53 1425.62 1566.79 Q1429.19 1564.06 1435.74 1564.06 Q1438.99 1564.06 1441.85 1564.53 Q1444.72 1565.01 1447.14 1565.97 Z\" fill=\"#000000\" fill-rule=\"evenodd\" fill-opacity=\"1\" /><path clip-path=\"url(#clip080)\" d=\"M1488.87 1581.28 L1488.87 1584.14 L1461.94 1584.14 Q1462.32 1590.19 1465.57 1593.37 Q1468.85 1596.52 1474.67 1596.52 Q1478.04 1596.52 1481.2 1595.69 Q1484.38 1594.87 1487.5 1593.21 L1487.5 1598.75 Q1484.35 1600.09 1481.04 1600.79 Q1477.73 1601.49 1474.32 1601.49 Q1465.79 1601.49 1460.79 1596.52 Q1455.83 1591.56 1455.83 1583.09 Q1455.83 1574.34 1460.54 1569.21 Q1465.28 1564.06 1473.3 1564.06 Q1480.49 1564.06 1484.66 1568.7 Q1488.87 1573.32 1488.87 1581.28 M1483.01 1579.56 Q1482.95 1574.75 1480.3 1571.89 Q1477.69 1569.02 1473.37 1569.02 Q1468.46 1569.02 1465.5 1571.79 Q1462.58 1574.56 1462.13 1579.59 L1483.01 1579.56 Z\" fill=\"#000000\" fill-rule=\"evenodd\" fill-opacity=\"1\" /><path clip-path=\"url(#clip080)\" d=\"M1521.94 1570.33 L1521.94 1551.04 L1527.79 1551.04 L1527.79 1600.56 L1521.94 1600.56 L1521.94 1595.22 Q1520.09 1598.4 1517.26 1599.96 Q1514.46 1601.49 1510.51 1601.49 Q1504.05 1601.49 1499.97 1596.33 Q1495.93 1591.17 1495.93 1582.77 Q1495.93 1574.37 1499.97 1569.21 Q1504.05 1564.06 1510.51 1564.06 Q1514.46 1564.06 1517.26 1565.62 Q1520.09 1567.14 1521.94 1570.33 M1501.98 1582.77 Q1501.98 1589.23 1504.62 1592.92 Q1507.29 1596.59 1511.94 1596.59 Q1516.59 1596.59 1519.26 1592.92 Q1521.94 1589.23 1521.94 1582.77 Q1521.94 1576.31 1519.26 1572.65 Q1516.59 1568.96 1511.94 1568.96 Q1507.29 1568.96 1504.62 1572.65 Q1501.98 1576.31 1501.98 1582.77 Z\" fill=\"#000000\" fill-rule=\"evenodd\" fill-opacity=\"1\" /><polyline clip-path=\"url(#clip082)\" style=\"stroke:#000000; stroke-linecap:butt; stroke-linejoin:round; stroke-width:2; stroke-opacity:0.1; fill:none\" points=\"\n",
       "  261.565,1405.91 2209.42,1405.91 \n",
       "  \"/>\n",
       "<polyline clip-path=\"url(#clip082)\" style=\"stroke:#000000; stroke-linecap:butt; stroke-linejoin:round; stroke-width:2; stroke-opacity:0.1; fill:none\" points=\"\n",
       "  261.565,1098.35 2209.42,1098.35 \n",
       "  \"/>\n",
       "<polyline clip-path=\"url(#clip082)\" style=\"stroke:#000000; stroke-linecap:butt; stroke-linejoin:round; stroke-width:2; stroke-opacity:0.1; fill:none\" points=\"\n",
       "  261.565,790.789 2209.42,790.789 \n",
       "  \"/>\n",
       "<polyline clip-path=\"url(#clip082)\" style=\"stroke:#000000; stroke-linecap:butt; stroke-linejoin:round; stroke-width:2; stroke-opacity:0.1; fill:none\" points=\"\n",
       "  261.565,483.23 2209.42,483.23 \n",
       "  \"/>\n",
       "<polyline clip-path=\"url(#clip082)\" style=\"stroke:#000000; stroke-linecap:butt; stroke-linejoin:round; stroke-width:2; stroke-opacity:0.1; fill:none\" points=\"\n",
       "  261.565,175.671 2209.42,175.671 \n",
       "  \"/>\n",
       "<polyline clip-path=\"url(#clip080)\" style=\"stroke:#000000; stroke-linecap:butt; stroke-linejoin:round; stroke-width:4; stroke-opacity:1; fill:none\" points=\"\n",
       "  261.565,1443.7 261.565,108.352 \n",
       "  \"/>\n",
       "<polyline clip-path=\"url(#clip080)\" style=\"stroke:#000000; stroke-linecap:butt; stroke-linejoin:round; stroke-width:4; stroke-opacity:1; fill:none\" points=\"\n",
       "  261.565,1405.91 274.296,1405.91 \n",
       "  \"/>\n",
       "<polyline clip-path=\"url(#clip080)\" style=\"stroke:#000000; stroke-linecap:butt; stroke-linejoin:round; stroke-width:4; stroke-opacity:1; fill:none\" points=\"\n",
       "  261.565,1098.35 274.296,1098.35 \n",
       "  \"/>\n",
       "<polyline clip-path=\"url(#clip080)\" style=\"stroke:#000000; stroke-linecap:butt; stroke-linejoin:round; stroke-width:4; stroke-opacity:1; fill:none\" points=\"\n",
       "  261.565,790.789 274.296,790.789 \n",
       "  \"/>\n",
       "<polyline clip-path=\"url(#clip080)\" style=\"stroke:#000000; stroke-linecap:butt; stroke-linejoin:round; stroke-width:4; stroke-opacity:1; fill:none\" points=\"\n",
       "  261.565,483.23 274.296,483.23 \n",
       "  \"/>\n",
       "<polyline clip-path=\"url(#clip080)\" style=\"stroke:#000000; stroke-linecap:butt; stroke-linejoin:round; stroke-width:4; stroke-opacity:1; fill:none\" points=\"\n",
       "  261.565,175.671 274.296,175.671 \n",
       "  \"/>\n",
       "<path clip-path=\"url(#clip080)\" d=\"M201.62 1391.71 Q198.009 1391.71 196.181 1395.27 Q194.375 1398.81 194.375 1405.94 Q194.375 1413.05 196.181 1416.61 Q198.009 1420.15 201.62 1420.15 Q205.255 1420.15 207.06 1416.61 Q208.889 1413.05 208.889 1405.94 Q208.889 1398.81 207.06 1395.27 Q205.255 1391.71 201.62 1391.71 M201.62 1388 Q207.43 1388 210.486 1392.61 Q213.565 1397.19 213.565 1405.94 Q213.565 1414.67 210.486 1419.27 Q207.43 1423.86 201.62 1423.86 Q195.81 1423.86 192.732 1419.27 Q189.676 1414.67 189.676 1405.94 Q189.676 1397.19 192.732 1392.61 Q195.81 1388 201.62 1388 Z\" fill=\"#000000\" fill-rule=\"evenodd\" fill-opacity=\"1\" /><path clip-path=\"url(#clip080)\" d=\"M105.163 1111.69 L121.482 1111.69 L121.482 1115.63 L99.5376 1115.63 L99.5376 1111.69 Q102.2 1108.94 106.783 1104.31 Q111.389 1099.66 112.57 1098.31 Q114.815 1095.79 115.695 1094.05 Q116.598 1092.29 116.598 1090.6 Q116.598 1087.85 114.653 1086.11 Q112.732 1084.38 109.63 1084.38 Q107.431 1084.38 104.977 1085.14 Q102.547 1085.91 99.769 1087.46 L99.769 1082.73 Q102.593 1081.6 105.047 1081.02 Q107.5 1080.44 109.538 1080.44 Q114.908 1080.44 118.102 1083.13 Q121.297 1085.81 121.297 1090.3 Q121.297 1092.43 120.487 1094.35 Q119.699 1096.25 117.593 1098.85 Q117.014 1099.52 113.912 1102.73 Q110.811 1105.93 105.163 1111.69 Z\" fill=\"#000000\" fill-rule=\"evenodd\" fill-opacity=\"1\" /><path clip-path=\"url(#clip080)\" d=\"M141.297 1084.15 Q137.686 1084.15 135.857 1087.71 Q134.051 1091.25 134.051 1098.38 Q134.051 1105.49 135.857 1109.05 Q137.686 1112.6 141.297 1112.6 Q144.931 1112.6 146.736 1109.05 Q148.565 1105.49 148.565 1098.38 Q148.565 1091.25 146.736 1087.71 Q144.931 1084.15 141.297 1084.15 M141.297 1080.44 Q147.107 1080.44 150.162 1085.05 Q153.241 1089.63 153.241 1098.38 Q153.241 1107.11 150.162 1111.72 Q147.107 1116.3 141.297 1116.3 Q135.486 1116.3 132.408 1111.72 Q129.352 1107.11 129.352 1098.38 Q129.352 1089.63 132.408 1085.05 Q135.486 1080.44 141.297 1080.44 Z\" fill=\"#000000\" fill-rule=\"evenodd\" fill-opacity=\"1\" /><path clip-path=\"url(#clip080)\" d=\"M171.458 1084.15 Q167.847 1084.15 166.019 1087.71 Q164.213 1091.25 164.213 1098.38 Q164.213 1105.49 166.019 1109.05 Q167.847 1112.6 171.458 1112.6 Q175.093 1112.6 176.898 1109.05 Q178.727 1105.49 178.727 1098.38 Q178.727 1091.25 176.898 1087.71 Q175.093 1084.15 171.458 1084.15 M171.458 1080.44 Q177.269 1080.44 180.324 1085.05 Q183.403 1089.63 183.403 1098.38 Q183.403 1107.11 180.324 1111.72 Q177.269 1116.3 171.458 1116.3 Q165.648 1116.3 162.57 1111.72 Q159.514 1107.11 159.514 1098.38 Q159.514 1089.63 162.57 1085.05 Q165.648 1080.44 171.458 1080.44 Z\" fill=\"#000000\" fill-rule=\"evenodd\" fill-opacity=\"1\" /><path clip-path=\"url(#clip080)\" d=\"M201.62 1084.15 Q198.009 1084.15 196.181 1087.71 Q194.375 1091.25 194.375 1098.38 Q194.375 1105.49 196.181 1109.05 Q198.009 1112.6 201.62 1112.6 Q205.255 1112.6 207.06 1109.05 Q208.889 1105.49 208.889 1098.38 Q208.889 1091.25 207.06 1087.71 Q205.255 1084.15 201.62 1084.15 M201.62 1080.44 Q207.43 1080.44 210.486 1085.05 Q213.565 1089.63 213.565 1098.38 Q213.565 1107.11 210.486 1111.72 Q207.43 1116.3 201.62 1116.3 Q195.81 1116.3 192.732 1111.72 Q189.676 1107.11 189.676 1098.38 Q189.676 1089.63 192.732 1085.05 Q195.81 1080.44 201.62 1080.44 Z\" fill=\"#000000\" fill-rule=\"evenodd\" fill-opacity=\"1\" /><path clip-path=\"url(#clip080)\" d=\"M113.982 777.583 L102.176 796.032 L113.982 796.032 L113.982 777.583 M112.755 773.509 L118.635 773.509 L118.635 796.032 L123.565 796.032 L123.565 799.921 L118.635 799.921 L118.635 808.069 L113.982 808.069 L113.982 799.921 L98.3802 799.921 L98.3802 795.407 L112.755 773.509 Z\" fill=\"#000000\" fill-rule=\"evenodd\" fill-opacity=\"1\" /><path clip-path=\"url(#clip080)\" d=\"M141.297 776.588 Q137.686 776.588 135.857 780.152 Q134.051 783.694 134.051 790.824 Q134.051 797.93 135.857 801.495 Q137.686 805.036 141.297 805.036 Q144.931 805.036 146.736 801.495 Q148.565 797.93 148.565 790.824 Q148.565 783.694 146.736 780.152 Q144.931 776.588 141.297 776.588 M141.297 772.884 Q147.107 772.884 150.162 777.49 Q153.241 782.074 153.241 790.824 Q153.241 799.55 150.162 804.157 Q147.107 808.74 141.297 808.74 Q135.486 808.74 132.408 804.157 Q129.352 799.55 129.352 790.824 Q129.352 782.074 132.408 777.49 Q135.486 772.884 141.297 772.884 Z\" fill=\"#000000\" fill-rule=\"evenodd\" fill-opacity=\"1\" /><path clip-path=\"url(#clip080)\" d=\"M171.458 776.588 Q167.847 776.588 166.019 780.152 Q164.213 783.694 164.213 790.824 Q164.213 797.93 166.019 801.495 Q167.847 805.036 171.458 805.036 Q175.093 805.036 176.898 801.495 Q178.727 797.93 178.727 790.824 Q178.727 783.694 176.898 780.152 Q175.093 776.588 171.458 776.588 M171.458 772.884 Q177.269 772.884 180.324 777.49 Q183.403 782.074 183.403 790.824 Q183.403 799.55 180.324 804.157 Q177.269 808.74 171.458 808.74 Q165.648 808.74 162.57 804.157 Q159.514 799.55 159.514 790.824 Q159.514 782.074 162.57 777.49 Q165.648 772.884 171.458 772.884 Z\" fill=\"#000000\" fill-rule=\"evenodd\" fill-opacity=\"1\" /><path clip-path=\"url(#clip080)\" d=\"M201.62 776.588 Q198.009 776.588 196.181 780.152 Q194.375 783.694 194.375 790.824 Q194.375 797.93 196.181 801.495 Q198.009 805.036 201.62 805.036 Q205.255 805.036 207.06 801.495 Q208.889 797.93 208.889 790.824 Q208.889 783.694 207.06 780.152 Q205.255 776.588 201.62 776.588 M201.62 772.884 Q207.43 772.884 210.486 777.49 Q213.565 782.074 213.565 790.824 Q213.565 799.55 210.486 804.157 Q207.43 808.74 201.62 808.74 Q195.81 808.74 192.732 804.157 Q189.676 799.55 189.676 790.824 Q189.676 782.074 192.732 777.49 Q195.81 772.884 201.62 772.884 Z\" fill=\"#000000\" fill-rule=\"evenodd\" fill-opacity=\"1\" /><path clip-path=\"url(#clip080)\" d=\"M111.713 481.366 Q108.565 481.366 106.713 483.519 Q104.885 485.672 104.885 489.422 Q104.885 493.149 106.713 495.325 Q108.565 497.477 111.713 497.477 Q114.862 497.477 116.69 495.325 Q118.542 493.149 118.542 489.422 Q118.542 485.672 116.69 483.519 Q114.862 481.366 111.713 481.366 M120.996 466.714 L120.996 470.973 Q119.237 470.14 117.431 469.7 Q115.649 469.26 113.889 469.26 Q109.26 469.26 106.806 472.385 Q104.375 475.51 104.028 481.829 Q105.394 479.815 107.454 478.751 Q109.514 477.663 111.991 477.663 Q117.2 477.663 120.209 480.834 Q123.241 483.982 123.241 489.422 Q123.241 494.746 120.093 497.963 Q116.945 501.181 111.713 501.181 Q105.718 501.181 102.547 496.598 Q99.3755 491.991 99.3755 483.264 Q99.3755 475.07 103.264 470.209 Q107.153 465.325 113.704 465.325 Q115.463 465.325 117.246 465.672 Q119.051 466.019 120.996 466.714 Z\" fill=\"#000000\" fill-rule=\"evenodd\" fill-opacity=\"1\" /><path clip-path=\"url(#clip080)\" d=\"M141.297 469.028 Q137.686 469.028 135.857 472.593 Q134.051 476.135 134.051 483.264 Q134.051 490.371 135.857 493.936 Q137.686 497.477 141.297 497.477 Q144.931 497.477 146.736 493.936 Q148.565 490.371 148.565 483.264 Q148.565 476.135 146.736 472.593 Q144.931 469.028 141.297 469.028 M141.297 465.325 Q147.107 465.325 150.162 469.931 Q153.241 474.515 153.241 483.264 Q153.241 491.991 150.162 496.598 Q147.107 501.181 141.297 501.181 Q135.486 501.181 132.408 496.598 Q129.352 491.991 129.352 483.264 Q129.352 474.515 132.408 469.931 Q135.486 465.325 141.297 465.325 Z\" fill=\"#000000\" fill-rule=\"evenodd\" fill-opacity=\"1\" /><path clip-path=\"url(#clip080)\" d=\"M171.458 469.028 Q167.847 469.028 166.019 472.593 Q164.213 476.135 164.213 483.264 Q164.213 490.371 166.019 493.936 Q167.847 497.477 171.458 497.477 Q175.093 497.477 176.898 493.936 Q178.727 490.371 178.727 483.264 Q178.727 476.135 176.898 472.593 Q175.093 469.028 171.458 469.028 M171.458 465.325 Q177.269 465.325 180.324 469.931 Q183.403 474.515 183.403 483.264 Q183.403 491.991 180.324 496.598 Q177.269 501.181 171.458 501.181 Q165.648 501.181 162.57 496.598 Q159.514 491.991 159.514 483.264 Q159.514 474.515 162.57 469.931 Q165.648 465.325 171.458 465.325 Z\" fill=\"#000000\" fill-rule=\"evenodd\" fill-opacity=\"1\" /><path clip-path=\"url(#clip080)\" d=\"M201.62 469.028 Q198.009 469.028 196.181 472.593 Q194.375 476.135 194.375 483.264 Q194.375 490.371 196.181 493.936 Q198.009 497.477 201.62 497.477 Q205.255 497.477 207.06 493.936 Q208.889 490.371 208.889 483.264 Q208.889 476.135 207.06 472.593 Q205.255 469.028 201.62 469.028 M201.62 465.325 Q207.43 465.325 210.486 469.931 Q213.565 474.515 213.565 483.264 Q213.565 491.991 210.486 496.598 Q207.43 501.181 201.62 501.181 Q195.81 501.181 192.732 496.598 Q189.676 491.991 189.676 483.264 Q189.676 474.515 192.732 469.931 Q195.81 465.325 201.62 465.325 Z\" fill=\"#000000\" fill-rule=\"evenodd\" fill-opacity=\"1\" /><path clip-path=\"url(#clip080)\" d=\"M111.135 176.539 Q107.801 176.539 105.88 178.321 Q103.982 180.104 103.982 183.228 Q103.982 186.353 105.88 188.136 Q107.801 189.918 111.135 189.918 Q114.468 189.918 116.389 188.136 Q118.311 186.33 118.311 183.228 Q118.311 180.104 116.389 178.321 Q114.491 176.539 111.135 176.539 M106.459 174.548 Q103.45 173.807 101.76 171.747 Q100.093 169.687 100.093 166.724 Q100.093 162.58 103.033 160.173 Q105.996 157.766 111.135 157.766 Q116.297 157.766 119.237 160.173 Q122.176 162.58 122.176 166.724 Q122.176 169.687 120.487 171.747 Q118.82 173.807 115.834 174.548 Q119.213 175.335 121.088 177.627 Q122.987 179.918 122.987 183.228 Q122.987 188.252 119.908 190.937 Q116.852 193.622 111.135 193.622 Q105.417 193.622 102.338 190.937 Q99.2829 188.252 99.2829 183.228 Q99.2829 179.918 101.181 177.627 Q103.079 175.335 106.459 174.548 M104.746 167.164 Q104.746 169.849 106.413 171.354 Q108.102 172.858 111.135 172.858 Q114.144 172.858 115.834 171.354 Q117.547 169.849 117.547 167.164 Q117.547 164.479 115.834 162.974 Q114.144 161.469 111.135 161.469 Q108.102 161.469 106.413 162.974 Q104.746 164.479 104.746 167.164 Z\" fill=\"#000000\" fill-rule=\"evenodd\" fill-opacity=\"1\" /><path clip-path=\"url(#clip080)\" d=\"M141.297 161.469 Q137.686 161.469 135.857 165.034 Q134.051 168.576 134.051 175.705 Q134.051 182.812 135.857 186.377 Q137.686 189.918 141.297 189.918 Q144.931 189.918 146.736 186.377 Q148.565 182.812 148.565 175.705 Q148.565 168.576 146.736 165.034 Q144.931 161.469 141.297 161.469 M141.297 157.766 Q147.107 157.766 150.162 162.372 Q153.241 166.955 153.241 175.705 Q153.241 184.432 150.162 189.039 Q147.107 193.622 141.297 193.622 Q135.486 193.622 132.408 189.039 Q129.352 184.432 129.352 175.705 Q129.352 166.955 132.408 162.372 Q135.486 157.766 141.297 157.766 Z\" fill=\"#000000\" fill-rule=\"evenodd\" fill-opacity=\"1\" /><path clip-path=\"url(#clip080)\" d=\"M171.458 161.469 Q167.847 161.469 166.019 165.034 Q164.213 168.576 164.213 175.705 Q164.213 182.812 166.019 186.377 Q167.847 189.918 171.458 189.918 Q175.093 189.918 176.898 186.377 Q178.727 182.812 178.727 175.705 Q178.727 168.576 176.898 165.034 Q175.093 161.469 171.458 161.469 M171.458 157.766 Q177.269 157.766 180.324 162.372 Q183.403 166.955 183.403 175.705 Q183.403 184.432 180.324 189.039 Q177.269 193.622 171.458 193.622 Q165.648 193.622 162.57 189.039 Q159.514 184.432 159.514 175.705 Q159.514 166.955 162.57 162.372 Q165.648 157.766 171.458 157.766 Z\" fill=\"#000000\" fill-rule=\"evenodd\" fill-opacity=\"1\" /><path clip-path=\"url(#clip080)\" d=\"M201.62 161.469 Q198.009 161.469 196.181 165.034 Q194.375 168.576 194.375 175.705 Q194.375 182.812 196.181 186.377 Q198.009 189.918 201.62 189.918 Q205.255 189.918 207.06 186.377 Q208.889 182.812 208.889 175.705 Q208.889 168.576 207.06 165.034 Q205.255 161.469 201.62 161.469 M201.62 157.766 Q207.43 157.766 210.486 162.372 Q213.565 166.955 213.565 175.705 Q213.565 184.432 210.486 189.039 Q207.43 193.622 201.62 193.622 Q195.81 193.622 192.732 189.039 Q189.676 184.432 189.676 175.705 Q189.676 166.955 192.732 162.372 Q195.81 157.766 201.62 157.766 Z\" fill=\"#000000\" fill-rule=\"evenodd\" fill-opacity=\"1\" /><path clip-path=\"url(#clip080)\" d=\"M7.44665 1004.48 L7.44665 1013.74 L18.0774 1016.41 L18.0774 1007.09 L7.44665 1004.48 M-10.6638 1009.25 L2.54506 1012.56 L2.54506 1003.27 L-10.6638 999.924 L-10.6638 994.831 L2.54506 998.11 L2.54506 988.179 L7.44665 988.179 L7.44665 999.351 L18.0774 1001.96 L18.0774 991.839 L22.9471 991.839 L22.9471 1003.2 L36.1242 1006.51 L36.1242 1011.6 L22.9471 1008.33 L22.9471 1017.65 L36.1242 1020.93 L36.1242 1026.06 L22.9471 1022.74 L22.9471 1032.77 L18.0774 1032.77 L18.0774 1021.57 L7.44665 1018.89 L7.44665 1029.14 L2.54506 1029.14 L2.54506 1017.65 L-10.6638 1014.41 L-10.6638 1009.25 Z\" fill=\"#000000\" fill-rule=\"evenodd\" fill-opacity=\"1\" /><path clip-path=\"url(#clip080)\" d=\"M22.0559 956.923 L0.4762 956.923 L0.4762 951.067 L21.8331 951.067 Q26.8939 951.067 29.4402 949.094 Q31.9546 947.12 31.9546 943.174 Q31.9546 938.431 28.9309 935.694 Q25.9072 932.925 20.6873 932.925 L0.4762 932.925 L0.4762 927.068 L36.1242 927.068 L36.1242 932.925 L30.6496 932.925 Q33.8962 935.057 35.4876 937.89 Q37.0472 940.691 37.0472 944.415 Q37.0472 950.558 33.2278 953.741 Q29.4083 956.923 22.0559 956.923 M-0.38317 942.187 L-0.38317 942.187 Z\" fill=\"#000000\" fill-rule=\"evenodd\" fill-opacity=\"1\" /><path clip-path=\"url(#clip080)\" d=\"M14.6081 885.373 L36.1242 885.373 L36.1242 891.229 L14.799 891.229 Q9.7383 891.229 7.22385 893.203 Q4.7094 895.176 4.7094 899.123 Q4.7094 903.865 7.73311 906.603 Q10.7568 909.34 15.9767 909.34 L36.1242 909.34 L36.1242 915.228 L0.4762 915.228 L0.4762 909.34 L6.01437 909.34 Q2.79968 907.239 1.20826 904.406 Q-0.38317 901.542 -0.38317 897.818 Q-0.38317 891.675 3.43625 888.524 Q7.22385 885.373 14.6081 885.373 Z\" fill=\"#000000\" fill-rule=\"evenodd\" fill-opacity=\"1\" /><path clip-path=\"url(#clip080)\" d=\"M0.4762 873.692 L0.4762 867.835 L36.1242 867.835 L36.1242 873.692 L0.4762 873.692 M-13.401 873.692 L-13.401 867.835 L-5.98499 867.835 L-5.98499 873.692 L-13.401 873.692 Z\" fill=\"#000000\" fill-rule=\"evenodd\" fill-opacity=\"1\" /><path clip-path=\"url(#clip080)\" d=\"M18.332 852.08 Q24.7932 852.08 28.4853 849.438 Q32.1456 846.765 32.1456 842.118 Q32.1456 837.471 28.4853 834.797 Q24.7932 832.124 18.332 832.124 Q11.8708 832.124 8.21053 834.797 Q4.51842 837.471 4.51842 842.118 Q4.51842 846.765 8.21053 849.438 Q11.8708 852.08 18.332 852.08 M30.777 832.124 Q33.9598 833.97 35.5194 836.803 Q37.0472 839.603 37.0472 843.55 Q37.0472 850.011 31.891 854.085 Q26.7347 858.128 18.332 858.128 Q9.92927 858.128 4.77305 854.085 Q-0.38317 850.011 -0.38317 843.55 Q-0.38317 839.603 1.17643 836.803 Q2.7042 833.97 5.88705 832.124 L0.4762 832.124 L0.4762 826.267 L49.6831 826.267 L49.6831 832.124 L30.777 832.124 Z\" fill=\"#000000\" fill-rule=\"evenodd\" fill-opacity=\"1\" /><path clip-path=\"url(#clip080)\" d=\"M22.0559 814.809 L0.4762 814.809 L0.4762 808.953 L21.8331 808.953 Q26.8939 808.953 29.4402 806.979 Q31.9546 805.006 31.9546 801.059 Q31.9546 796.317 28.9309 793.579 Q25.9072 790.81 20.6873 790.81 L0.4762 790.81 L0.4762 784.954 L36.1242 784.954 L36.1242 790.81 L30.6496 790.81 Q33.8962 792.943 35.4876 795.776 Q37.0472 798.576 37.0472 802.3 Q37.0472 808.443 33.2278 811.626 Q29.4083 814.809 22.0559 814.809 M-0.38317 800.072 L-0.38317 800.072 Z\" fill=\"#000000\" fill-rule=\"evenodd\" fill-opacity=\"1\" /><path clip-path=\"url(#clip080)\" d=\"M16.8361 742.399 L19.7006 742.399 L19.7006 769.326 Q25.7481 768.944 28.9309 765.698 Q32.0819 762.419 32.0819 756.595 Q32.0819 753.221 31.2544 750.07 Q30.4269 746.887 28.7718 743.768 L34.3099 743.768 Q35.6467 746.919 36.347 750.229 Q37.0472 753.539 37.0472 756.945 Q37.0472 765.475 32.0819 770.472 Q27.1167 775.437 18.6503 775.437 Q9.89745 775.437 4.77305 770.727 Q-0.38317 765.984 -0.38317 757.963 Q-0.38317 750.77 4.2638 746.601 Q8.87893 742.399 16.8361 742.399 M15.1173 748.256 Q10.3112 748.319 7.44665 750.961 Q4.58208 753.571 4.58208 757.9 Q4.58208 762.801 7.35116 765.761 Q10.1202 768.69 15.1492 769.135 L15.1173 748.256 Z\" fill=\"#000000\" fill-rule=\"evenodd\" fill-opacity=\"1\" /><path clip-path=\"url(#clip080)\" d=\"M-13.401 712.289 L-13.401 706.401 L15.8494 706.401 L0.4762 688.927 L0.4762 681.447 L17.1544 700.354 L36.1242 680.652 L36.1242 688.291 L18.7139 706.401 L36.1242 706.401 L36.1242 712.289 L-13.401 712.289 Z\" fill=\"#000000\" fill-rule=\"evenodd\" fill-opacity=\"1\" /><path clip-path=\"url(#clip080)\" d=\"M7.31933 646.563 Q3.3726 644.367 1.49471 641.312 Q-0.38317 638.256 -0.38317 634.118 Q-0.38317 628.548 3.53174 625.525 Q7.41482 622.501 14.6081 622.501 L36.1242 622.501 L36.1242 628.389 L14.799 628.389 Q9.67465 628.389 7.19202 630.204 Q4.7094 632.018 4.7094 635.742 Q4.7094 640.293 7.73311 642.935 Q10.7568 645.577 15.9767 645.577 L36.1242 645.577 L36.1242 651.465 L14.799 651.465 Q9.64282 651.465 7.19202 653.279 Q4.7094 655.093 4.7094 658.881 Q4.7094 663.369 7.76493 666.011 Q10.7886 668.652 15.9767 668.652 L36.1242 668.652 L36.1242 674.541 L0.4762 674.541 L0.4762 668.652 L6.01437 668.652 Q2.73603 666.647 1.17643 663.846 Q-0.38317 661.045 -0.38317 657.194 Q-0.38317 653.311 1.5902 650.606 Q3.56357 647.868 7.31933 646.563 Z\" fill=\"#000000\" fill-rule=\"evenodd\" fill-opacity=\"1\" /><path clip-path=\"url(#clip080)\" d=\"M16.8361 580.328 L19.7006 580.328 L19.7006 607.255 Q25.7481 606.873 28.9309 603.627 Q32.0819 600.348 32.0819 594.524 Q32.0819 591.15 31.2544 587.999 Q30.4269 584.816 28.7718 581.697 L34.3099 581.697 Q35.6467 584.848 36.347 588.158 Q37.0472 591.468 37.0472 594.874 Q37.0472 603.404 32.0819 608.401 Q27.1167 613.366 18.6503 613.366 Q9.89745 613.366 4.77305 608.656 Q-0.38317 603.913 -0.38317 595.892 Q-0.38317 588.699 4.2638 584.53 Q8.87893 580.328 16.8361 580.328 M15.1173 586.185 Q10.3112 586.248 7.44665 588.89 Q4.58208 591.5 4.58208 595.829 Q4.58208 600.73 7.35116 603.69 Q10.1202 606.619 15.1492 607.064 L15.1173 586.185 Z\" fill=\"#000000\" fill-rule=\"evenodd\" fill-opacity=\"1\" /><path clip-path=\"url(#clip080)\" d=\"M5.95071 550.059 Q5.37779 551.046 5.12317 552.224 Q4.83671 553.369 4.83671 554.77 Q4.83671 559.735 8.08322 562.409 Q11.2979 565.051 17.3453 565.051 L36.1242 565.051 L36.1242 570.939 L0.4762 570.939 L0.4762 565.051 L6.01437 565.051 Q2.76785 563.204 1.20826 560.244 Q-0.38317 557.284 -0.38317 553.051 Q-0.38317 552.446 -0.287684 551.714 Q-0.224027 550.982 -0.0648847 550.091 L5.95071 550.059 Z\" fill=\"#000000\" fill-rule=\"evenodd\" fill-opacity=\"1\" /><path clip-path=\"url(#clip080)\" d=\"M1.52654 521.191 L7.06471 521.191 Q5.79157 523.673 5.15499 526.347 Q4.51842 529.021 4.51842 531.885 Q4.51842 536.246 5.85522 538.442 Q7.19202 540.606 9.86562 540.606 Q11.9026 540.606 13.0803 539.047 Q14.2261 537.487 15.2765 532.776 L15.7221 530.771 Q17.0589 524.533 19.5097 521.923 Q21.9286 519.281 26.2891 519.281 Q31.2544 519.281 34.1508 523.228 Q37.0472 527.143 37.0472 534.018 Q37.0472 536.882 36.4743 540.001 Q35.9332 543.089 34.8192 546.526 L28.7718 546.526 Q30.4587 543.28 31.318 540.129 Q32.1456 536.978 32.1456 533.89 Q32.1456 529.753 30.7451 527.525 Q29.3129 525.297 26.7347 525.297 Q24.3476 525.297 23.0745 526.92 Q21.8013 528.511 20.6237 533.954 L20.1462 535.991 Q19.0004 541.434 16.6451 543.853 Q14.258 546.272 10.1202 546.272 Q5.09134 546.272 2.35408 542.707 Q-0.38317 539.142 -0.38317 532.585 Q-0.38317 529.339 0.0942579 526.474 Q0.571686 523.61 1.52654 521.191 Z\" fill=\"#000000\" fill-rule=\"evenodd\" fill-opacity=\"1\" /><path clip-path=\"url(#clip080)\" d=\"M630.917 28.5427 L630.917 35.5912 Q627.758 33.9709 624.355 33.1607 Q620.952 32.3505 617.306 32.3505 Q611.757 32.3505 608.962 34.0519 Q606.207 35.7533 606.207 39.156 Q606.207 41.7486 608.192 43.2475 Q610.177 44.7058 616.172 46.0426 L618.724 46.6097 Q626.664 48.3111 629.986 51.4303 Q633.348 54.509 633.348 60.0587 Q633.348 66.3781 628.325 70.0644 Q623.342 73.7508 614.592 73.7508 Q610.947 73.7508 606.977 73.0216 Q603.047 72.3329 598.672 70.9151 L598.672 63.2184 Q602.804 65.3654 606.815 66.4591 Q610.825 67.5124 614.754 67.5124 Q620.021 67.5124 622.856 65.73 Q625.692 63.9071 625.692 60.6258 Q625.692 57.5877 623.626 55.9673 Q621.6 54.3469 614.673 52.8481 L612.081 52.2405 Q605.154 50.7821 602.075 47.7845 Q598.996 44.7463 598.996 39.4801 Q598.996 33.0797 603.533 29.5959 Q608.07 26.1121 616.415 26.1121 Q620.547 26.1121 624.193 26.7198 Q627.839 27.3274 630.917 28.5427 Z\" fill=\"#000000\" fill-rule=\"evenodd\" fill-opacity=\"1\" /><path clip-path=\"url(#clip080)\" d=\"M684.025 48.0275 L684.025 51.6733 L649.754 51.6733 Q650.24 59.3701 654.372 63.421 Q658.545 67.4314 665.958 67.4314 Q670.252 67.4314 674.262 66.3781 Q678.313 65.3249 682.283 63.2184 L682.283 70.267 Q678.273 71.9684 674.06 72.8596 Q669.847 73.7508 665.512 73.7508 Q654.656 73.7508 648.296 67.4314 Q641.976 61.1119 641.976 50.3365 Q641.976 39.1965 647.972 32.6746 Q654.008 26.1121 664.216 26.1121 Q673.371 26.1121 678.678 32.0264 Q684.025 37.9003 684.025 48.0275 M676.571 45.84 Q676.49 39.7232 673.128 36.0774 Q669.806 32.4315 664.297 32.4315 Q658.059 32.4315 654.291 35.9558 Q650.564 39.4801 649.997 45.8805 L676.571 45.84 Z\" fill=\"#000000\" fill-rule=\"evenodd\" fill-opacity=\"1\" /><path clip-path=\"url(#clip080)\" d=\"M700.715 49.9314 Q700.715 58.1548 704.077 62.8538 Q707.48 67.5124 713.394 67.5124 Q719.308 67.5124 722.711 62.8538 Q726.114 58.1548 726.114 49.9314 Q726.114 41.7081 722.711 37.0496 Q719.308 32.3505 713.394 32.3505 Q707.48 32.3505 704.077 37.0496 Q700.715 41.7081 700.715 49.9314 M726.114 65.7705 Q723.764 69.8214 720.159 71.8063 Q716.594 73.7508 711.571 73.7508 Q703.348 73.7508 698.162 67.1883 Q693.018 60.6258 693.018 49.9314 Q693.018 39.2371 698.162 32.6746 Q703.348 26.1121 711.571 26.1121 Q716.594 26.1121 720.159 28.0971 Q723.764 30.0415 726.114 34.0924 L726.114 27.2059 L733.567 27.2059 L733.567 89.8329 L726.114 89.8329 L726.114 65.7705 Z\" fill=\"#000000\" fill-rule=\"evenodd\" fill-opacity=\"1\" /><path clip-path=\"url(#clip080)\" d=\"M748.151 54.671 L748.151 27.2059 L755.604 27.2059 L755.604 54.3874 Q755.604 60.8284 758.116 64.0691 Q760.627 67.2693 765.651 67.2693 Q771.686 67.2693 775.17 63.421 Q778.694 59.5726 778.694 52.9291 L778.694 27.2059 L786.148 27.2059 L786.148 72.576 L778.694 72.576 L778.694 65.6084 Q775.98 69.7404 772.375 71.7658 Q768.81 73.7508 764.071 73.7508 Q756.252 73.7508 752.202 68.8897 Q748.151 64.0286 748.151 54.671 M766.906 26.1121 L766.906 26.1121 Z\" fill=\"#000000\" fill-rule=\"evenodd\" fill-opacity=\"1\" /><path clip-path=\"url(#clip080)\" d=\"M840.309 48.0275 L840.309 51.6733 L806.038 51.6733 Q806.524 59.3701 810.656 63.421 Q814.829 67.4314 822.242 67.4314 Q826.536 67.4314 830.546 66.3781 Q834.597 65.3249 838.567 63.2184 L838.567 70.267 Q834.556 71.9684 830.343 72.8596 Q826.131 73.7508 821.796 73.7508 Q810.94 73.7508 804.58 67.4314 Q798.26 61.1119 798.26 50.3365 Q798.26 39.1965 804.256 32.6746 Q810.292 26.1121 820.5 26.1121 Q829.655 26.1121 834.962 32.0264 Q840.309 37.9003 840.309 48.0275 M832.855 45.84 Q832.774 39.7232 829.412 36.0774 Q826.09 32.4315 820.581 32.4315 Q814.342 32.4315 810.575 35.9558 Q806.848 39.4801 806.281 45.8805 L832.855 45.84 Z\" fill=\"#000000\" fill-rule=\"evenodd\" fill-opacity=\"1\" /><path clip-path=\"url(#clip080)\" d=\"M890.256 45.1919 L890.256 72.576 L882.803 72.576 L882.803 45.4349 Q882.803 38.994 880.291 35.7938 Q877.78 32.5936 872.756 32.5936 Q866.721 32.5936 863.237 36.4419 Q859.753 40.2903 859.753 46.9338 L859.753 72.576 L852.259 72.576 L852.259 27.2059 L859.753 27.2059 L859.753 34.2544 Q862.427 30.163 866.032 28.1376 Q869.678 26.1121 874.417 26.1121 Q882.236 26.1121 886.246 30.9732 Q890.256 35.7938 890.256 45.1919 Z\" fill=\"#000000\" fill-rule=\"evenodd\" fill-opacity=\"1\" /><path clip-path=\"url(#clip080)\" d=\"M937.773 28.9478 L937.773 35.9153 Q934.614 34.1734 931.414 33.3227 Q928.254 32.4315 925.013 32.4315 Q917.762 32.4315 913.752 37.0496 Q909.741 41.6271 909.741 49.9314 Q909.741 58.2358 913.752 62.8538 Q917.762 67.4314 925.013 67.4314 Q928.254 67.4314 931.414 66.5807 Q934.614 65.6895 937.773 63.9476 L937.773 70.8341 Q934.654 72.2924 931.292 73.0216 Q927.97 73.7508 924.203 73.7508 Q913.954 73.7508 907.918 67.3098 Q901.882 60.8689 901.882 49.9314 Q901.882 38.832 907.959 32.472 Q914.076 26.1121 924.689 26.1121 Q928.132 26.1121 931.414 26.8413 Q934.695 27.5299 937.773 28.9478 Z\" fill=\"#000000\" fill-rule=\"evenodd\" fill-opacity=\"1\" /><path clip-path=\"url(#clip080)\" d=\"M950.736 27.2059 L958.19 27.2059 L958.19 72.576 L950.736 72.576 L950.736 27.2059 M950.736 9.54393 L958.19 9.54393 L958.19 18.9825 L950.736 18.9825 L950.736 9.54393 Z\" fill=\"#000000\" fill-rule=\"evenodd\" fill-opacity=\"1\" /><path clip-path=\"url(#clip080)\" d=\"M1011.5 45.1919 L1011.5 72.576 L1004.05 72.576 L1004.05 45.4349 Q1004.05 38.994 1001.53 35.7938 Q999.023 32.5936 994 32.5936 Q987.964 32.5936 984.48 36.4419 Q980.997 40.2903 980.997 46.9338 L980.997 72.576 L973.502 72.576 L973.502 27.2059 L980.997 27.2059 L980.997 34.2544 Q983.67 30.163 987.276 28.1376 Q990.921 26.1121 995.661 26.1121 Q1003.48 26.1121 1007.49 30.9732 Q1011.5 35.7938 1011.5 45.1919 Z\" fill=\"#000000\" fill-rule=\"evenodd\" fill-opacity=\"1\" /><path clip-path=\"url(#clip080)\" d=\"M1056.22 49.3643 Q1056.22 41.2625 1052.86 36.8065 Q1049.54 32.3505 1043.5 32.3505 Q1037.51 32.3505 1034.14 36.8065 Q1030.82 41.2625 1030.82 49.3643 Q1030.82 57.4256 1034.14 61.8816 Q1037.51 66.3376 1043.5 66.3376 Q1049.54 66.3376 1052.86 61.8816 Q1056.22 57.4256 1056.22 49.3643 M1063.68 66.9452 Q1063.68 78.5308 1058.53 84.1616 Q1053.39 89.8329 1042.77 89.8329 Q1038.84 89.8329 1035.36 89.2252 Q1031.88 88.6581 1028.59 87.4428 L1028.59 80.1917 Q1031.88 81.9741 1035.08 82.8248 Q1038.28 83.6755 1041.6 83.6755 Q1048.93 83.6755 1052.58 79.8271 Q1056.22 76.0193 1056.22 68.282 L1056.22 64.5957 Q1053.91 68.6061 1050.31 70.5911 Q1046.7 72.576 1041.68 72.576 Q1033.33 72.576 1028.23 66.2161 Q1023.13 59.8562 1023.13 49.3643 Q1023.13 38.832 1028.23 32.472 Q1033.33 26.1121 1041.68 26.1121 Q1046.7 26.1121 1050.31 28.0971 Q1053.91 30.082 1056.22 34.0924 L1056.22 27.2059 L1063.68 27.2059 L1063.68 66.9452 Z\" fill=\"#000000\" fill-rule=\"evenodd\" fill-opacity=\"1\" /><path clip-path=\"url(#clip080)\" d=\"M1134.32 28.5427 L1134.32 35.5912 Q1131.16 33.9709 1127.76 33.1607 Q1124.36 32.3505 1120.71 32.3505 Q1115.16 32.3505 1112.37 34.0519 Q1109.61 35.7533 1109.61 39.156 Q1109.61 41.7486 1111.6 43.2475 Q1113.58 44.7058 1119.58 46.0426 L1122.13 46.6097 Q1130.07 48.3111 1133.39 51.4303 Q1136.75 54.509 1136.75 60.0587 Q1136.75 66.3781 1131.73 70.0644 Q1126.75 73.7508 1118 73.7508 Q1114.35 73.7508 1110.38 73.0216 Q1106.45 72.3329 1102.08 70.9151 L1102.08 63.2184 Q1106.21 65.3654 1110.22 66.4591 Q1114.23 67.5124 1118.16 67.5124 Q1123.43 67.5124 1126.26 65.73 Q1129.1 63.9071 1129.1 60.6258 Q1129.1 57.5877 1127.03 55.9673 Q1125.01 54.3469 1118.08 52.8481 L1115.49 52.2405 Q1108.56 50.7821 1105.48 47.7845 Q1102.4 44.7463 1102.4 39.4801 Q1102.4 33.0797 1106.94 29.5959 Q1111.48 26.1121 1119.82 26.1121 Q1123.95 26.1121 1127.6 26.7198 Q1131.24 27.3274 1134.32 28.5427 Z\" fill=\"#000000\" fill-rule=\"evenodd\" fill-opacity=\"1\" /><path clip-path=\"url(#clip080)\" d=\"M1169.24 49.7694 Q1160.21 49.7694 1156.72 51.8354 Q1153.24 53.9013 1153.24 58.8839 Q1153.24 62.8538 1155.83 65.2034 Q1158.47 67.5124 1162.96 67.5124 Q1169.16 67.5124 1172.89 63.1374 Q1176.66 58.7219 1176.66 51.4303 L1176.66 49.7694 L1169.24 49.7694 M1184.11 46.6907 L1184.11 72.576 L1176.66 72.576 L1176.66 65.6895 Q1174.1 69.8214 1170.3 71.8063 Q1166.49 73.7508 1160.98 73.7508 Q1154.01 73.7508 1149.88 69.8619 Q1145.79 65.9325 1145.79 59.3701 Q1145.79 51.7138 1150.89 47.825 Q1156.04 43.9361 1166.2 43.9361 L1176.66 43.9361 L1176.66 43.2069 Q1176.66 38.0623 1173.25 35.2672 Q1169.89 32.4315 1163.77 32.4315 Q1159.88 32.4315 1156.2 33.3632 Q1152.51 34.295 1149.11 36.1584 L1149.11 29.2718 Q1153.2 27.692 1157.05 26.9223 Q1160.9 26.1121 1164.54 26.1121 Q1174.39 26.1121 1179.25 31.2163 Q1184.11 36.3204 1184.11 46.6907 Z\" fill=\"#000000\" fill-rule=\"evenodd\" fill-opacity=\"1\" /><path clip-path=\"url(#clip080)\" d=\"M1206.83 14.324 L1206.83 27.2059 L1222.19 27.2059 L1222.19 32.9987 L1206.83 32.9987 L1206.83 57.6282 Q1206.83 63.1779 1208.33 64.7578 Q1209.87 66.3376 1214.53 66.3376 L1222.19 66.3376 L1222.19 72.576 L1214.53 72.576 Q1205.9 72.576 1202.62 69.3758 Q1199.34 66.1351 1199.34 57.6282 L1199.34 32.9987 L1193.87 32.9987 L1193.87 27.2059 L1199.34 27.2059 L1199.34 14.324 L1206.83 14.324 Z\" fill=\"#000000\" fill-rule=\"evenodd\" fill-opacity=\"1\" /><path clip-path=\"url(#clip080)\" d=\"M1231.22 54.671 L1231.22 27.2059 L1238.67 27.2059 L1238.67 54.3874 Q1238.67 60.8284 1241.19 64.0691 Q1243.7 67.2693 1248.72 67.2693 Q1254.76 67.2693 1258.24 63.421 Q1261.76 59.5726 1261.76 52.9291 L1261.76 27.2059 L1269.22 27.2059 L1269.22 72.576 L1261.76 72.576 L1261.76 65.6084 Q1259.05 69.7404 1255.45 71.7658 Q1251.88 73.7508 1247.14 73.7508 Q1239.32 73.7508 1235.27 68.8897 Q1231.22 64.0286 1231.22 54.671 M1249.98 26.1121 L1249.98 26.1121 Z\" fill=\"#000000\" fill-rule=\"evenodd\" fill-opacity=\"1\" /><path clip-path=\"url(#clip080)\" d=\"M1310.86 34.1734 Q1309.61 33.4443 1308.11 33.1202 Q1306.65 32.7556 1304.87 32.7556 Q1298.55 32.7556 1295.14 36.8875 Q1291.78 40.9789 1291.78 48.6757 L1291.78 72.576 L1284.29 72.576 L1284.29 27.2059 L1291.78 27.2059 L1291.78 34.2544 Q1294.13 30.1225 1297.9 28.1376 Q1301.67 26.1121 1307.05 26.1121 Q1307.82 26.1121 1308.76 26.2337 Q1309.69 26.3147 1310.82 26.5172 L1310.86 34.1734 Z\" fill=\"#000000\" fill-rule=\"evenodd\" fill-opacity=\"1\" /><path clip-path=\"url(#clip080)\" d=\"M1339.3 49.7694 Q1330.27 49.7694 1326.78 51.8354 Q1323.3 53.9013 1323.3 58.8839 Q1323.3 62.8538 1325.89 65.2034 Q1328.52 67.5124 1333.02 67.5124 Q1339.22 67.5124 1342.94 63.1374 Q1346.71 58.7219 1346.71 51.4303 L1346.71 49.7694 L1339.3 49.7694 M1354.17 46.6907 L1354.17 72.576 L1346.71 72.576 L1346.71 65.6895 Q1344.16 69.8214 1340.35 71.8063 Q1336.54 73.7508 1331.04 73.7508 Q1324.07 73.7508 1319.94 69.8619 Q1315.84 65.9325 1315.84 59.3701 Q1315.84 51.7138 1320.95 47.825 Q1326.09 43.9361 1336.26 43.9361 L1346.71 43.9361 L1346.71 43.2069 Q1346.71 38.0623 1343.31 35.2672 Q1339.95 32.4315 1333.83 32.4315 Q1329.94 32.4315 1326.26 33.3632 Q1322.57 34.295 1319.17 36.1584 L1319.17 29.2718 Q1323.26 27.692 1327.11 26.9223 Q1330.95 26.1121 1334.6 26.1121 Q1344.44 26.1121 1349.3 31.2163 Q1354.17 36.3204 1354.17 46.6907 Z\" fill=\"#000000\" fill-rule=\"evenodd\" fill-opacity=\"1\" /><path clip-path=\"url(#clip080)\" d=\"M1376.89 14.324 L1376.89 27.2059 L1392.24 27.2059 L1392.24 32.9987 L1376.89 32.9987 L1376.89 57.6282 Q1376.89 63.1779 1378.39 64.7578 Q1379.93 66.3376 1384.59 66.3376 L1392.24 66.3376 L1392.24 72.576 L1384.59 72.576 Q1375.96 72.576 1372.68 69.3758 Q1369.4 66.1351 1369.4 57.6282 L1369.4 32.9987 L1363.93 32.9987 L1363.93 27.2059 L1369.4 27.2059 L1369.4 14.324 L1376.89 14.324 Z\" fill=\"#000000\" fill-rule=\"evenodd\" fill-opacity=\"1\" /><path clip-path=\"url(#clip080)\" d=\"M1402.05 27.2059 L1409.5 27.2059 L1409.5 72.576 L1402.05 72.576 L1402.05 27.2059 M1402.05 9.54393 L1409.5 9.54393 L1409.5 18.9825 L1402.05 18.9825 L1402.05 9.54393 Z\" fill=\"#000000\" fill-rule=\"evenodd\" fill-opacity=\"1\" /><path clip-path=\"url(#clip080)\" d=\"M1442.68 32.4315 Q1436.68 32.4315 1433.2 37.1306 Q1429.72 41.7891 1429.72 49.9314 Q1429.72 58.0738 1433.16 62.7728 Q1436.64 67.4314 1442.68 67.4314 Q1448.63 67.4314 1452.12 62.7323 Q1455.6 58.0333 1455.6 49.9314 Q1455.6 41.8701 1452.12 37.1711 Q1448.63 32.4315 1442.68 32.4315 M1442.68 26.1121 Q1452.4 26.1121 1457.95 32.4315 Q1463.5 38.7509 1463.5 49.9314 Q1463.5 61.0714 1457.95 67.4314 Q1452.4 73.7508 1442.68 73.7508 Q1432.92 73.7508 1427.37 67.4314 Q1421.86 61.0714 1421.86 49.9314 Q1421.86 38.7509 1427.37 32.4315 Q1432.92 26.1121 1442.68 26.1121 Z\" fill=\"#000000\" fill-rule=\"evenodd\" fill-opacity=\"1\" /><path clip-path=\"url(#clip080)\" d=\"M1513.57 45.1919 L1513.57 72.576 L1506.12 72.576 L1506.12 45.4349 Q1506.12 38.994 1503.6 35.7938 Q1501.09 32.5936 1496.07 32.5936 Q1490.03 32.5936 1486.55 36.4419 Q1483.07 40.2903 1483.07 46.9338 L1483.07 72.576 L1475.57 72.576 L1475.57 27.2059 L1483.07 27.2059 L1483.07 34.2544 Q1485.74 30.163 1489.34 28.1376 Q1492.99 26.1121 1497.73 26.1121 Q1505.55 26.1121 1509.56 30.9732 Q1513.57 35.7938 1513.57 45.1919 Z\" fill=\"#000000\" fill-rule=\"evenodd\" fill-opacity=\"1\" /><path clip-path=\"url(#clip080)\" d=\"M1577.86 50.8226 Q1577.86 56.6154 1580.73 59.9372 Q1583.61 63.2184 1588.63 63.2184 Q1593.61 63.2184 1596.45 59.8967 Q1599.33 56.5749 1599.33 50.8226 Q1599.33 45.1514 1596.41 41.8296 Q1593.49 38.4674 1588.55 38.4674 Q1583.65 38.4674 1580.73 41.7891 Q1577.86 45.1109 1577.86 50.8226 M1599.93 62.9348 Q1597.5 66.054 1594.34 67.5529 Q1591.22 69.0112 1587.05 69.0112 Q1580.08 69.0112 1575.71 63.9881 Q1571.38 58.9245 1571.38 50.8226 Q1571.38 42.7208 1575.75 37.6572 Q1580.13 32.5936 1587.05 32.5936 Q1591.22 32.5936 1594.38 34.1329 Q1597.54 35.6318 1599.93 38.7104 L1599.93 33.4038 L1605.73 33.4038 L1605.73 63.2184 Q1611.64 62.3272 1614.96 57.8307 Q1618.33 53.2937 1618.33 46.1236 Q1618.33 41.7891 1617.03 37.9813 Q1615.77 34.1734 1613.18 30.9327 Q1608.97 25.626 1602.89 22.8309 Q1596.86 19.9953 1589.73 19.9953 Q1584.74 19.9953 1580.17 21.3321 Q1575.59 22.6284 1571.7 25.2209 Q1565.34 29.3529 1561.73 36.0774 Q1558.17 42.7613 1558.17 50.5796 Q1558.17 57.0205 1560.48 62.6513 Q1562.83 68.282 1567.24 72.576 Q1571.5 76.7889 1577.09 78.9764 Q1582.68 81.2044 1589.04 81.2044 Q1594.26 81.2044 1599.29 79.422 Q1604.35 77.6801 1608.56 74.3989 L1612.21 78.8954 Q1607.14 82.8248 1601.15 84.8907 Q1595.19 86.9972 1589.04 86.9972 Q1581.54 86.9972 1574.9 84.3236 Q1568.26 81.6905 1563.07 76.6269 Q1557.89 71.5633 1555.17 64.9198 Q1552.46 58.2358 1552.46 50.5796 Q1552.46 43.2069 1555.21 36.523 Q1557.97 29.839 1563.07 24.7753 Q1568.3 19.6307 1575.14 16.9166 Q1581.99 14.162 1589.64 14.162 Q1598.23 14.162 1605.57 17.6862 Q1612.94 21.2105 1617.92 27.692 Q1620.96 31.6619 1622.54 36.3204 Q1624.16 40.9789 1624.16 45.9616 Q1624.16 56.6154 1617.72 62.7728 Q1611.28 68.9302 1599.93 69.1732 L1599.93 62.9348 Z\" fill=\"#000000\" fill-rule=\"evenodd\" fill-opacity=\"1\" /><path clip-path=\"url(#clip080)\" d=\"M1663.86 9.54393 L1671.35 9.54393 L1671.35 46.7717 L1693.59 27.2059 L1703.11 27.2059 L1679.05 48.4326 L1704.12 72.576 L1694.4 72.576 L1671.35 50.4176 L1671.35 72.576 L1663.86 72.576 L1663.86 9.54393 Z\" fill=\"#000000\" fill-rule=\"evenodd\" fill-opacity=\"1\" /><path clip-path=\"url(#clip080)\" d=\"M1739.53 34.9026 L1791.46 34.9026 L1791.46 41.7081 L1739.53 41.7081 L1739.53 34.9026 M1739.53 51.4303 L1791.46 51.4303 L1791.46 58.3168 L1739.53 58.3168 L1739.53 51.4303 Z\" fill=\"#000000\" fill-rule=\"evenodd\" fill-opacity=\"1\" /><path clip-path=\"url(#clip080)\" d=\"M1833.43 12.096 L1872.32 12.096 L1872.32 15.5798 L1850.36 72.576 L1841.81 72.576 L1862.47 18.9825 L1833.43 18.9825 L1833.43 12.096 Z\" fill=\"#000000\" fill-rule=\"evenodd\" fill-opacity=\"1\" /><circle clip-path=\"url(#clip082)\" cx=\"316.693\" cy=\"1405.91\" r=\"14\" fill=\"#009af9\" fill-rule=\"evenodd\" fill-opacity=\"1\" stroke=\"#000000\" stroke-opacity=\"1\" stroke-width=\"3.2\"/>\n",
       "<circle clip-path=\"url(#clip082)\" cx=\"318.18\" cy=\"1405.75\" r=\"14\" fill=\"#009af9\" fill-rule=\"evenodd\" fill-opacity=\"1\" stroke=\"#000000\" stroke-opacity=\"1\" stroke-width=\"3.2\"/>\n",
       "<circle clip-path=\"url(#clip082)\" cx=\"319.666\" cy=\"1405.6\" r=\"14\" fill=\"#009af9\" fill-rule=\"evenodd\" fill-opacity=\"1\" stroke=\"#000000\" stroke-opacity=\"1\" stroke-width=\"3.2\"/>\n",
       "<circle clip-path=\"url(#clip082)\" cx=\"322.64\" cy=\"1405.29\" r=\"14\" fill=\"#009af9\" fill-rule=\"evenodd\" fill-opacity=\"1\" stroke=\"#000000\" stroke-opacity=\"1\" stroke-width=\"3.2\"/>\n",
       "<circle clip-path=\"url(#clip082)\" cx=\"328.587\" cy=\"1404.68\" r=\"14\" fill=\"#009af9\" fill-rule=\"evenodd\" fill-opacity=\"1\" stroke=\"#000000\" stroke-opacity=\"1\" stroke-width=\"3.2\"/>\n",
       "<circle clip-path=\"url(#clip082)\" cx=\"340.481\" cy=\"1403.45\" r=\"14\" fill=\"#009af9\" fill-rule=\"evenodd\" fill-opacity=\"1\" stroke=\"#000000\" stroke-opacity=\"1\" stroke-width=\"3.2\"/>\n",
       "<circle clip-path=\"url(#clip082)\" cx=\"364.268\" cy=\"1400.99\" r=\"14\" fill=\"#009af9\" fill-rule=\"evenodd\" fill-opacity=\"1\" stroke=\"#000000\" stroke-opacity=\"1\" stroke-width=\"3.2\"/>\n",
       "<circle clip-path=\"url(#clip082)\" cx=\"411.844\" cy=\"1396.22\" r=\"14\" fill=\"#009af9\" fill-rule=\"evenodd\" fill-opacity=\"1\" stroke=\"#000000\" stroke-opacity=\"1\" stroke-width=\"3.2\"/>\n",
       "<circle clip-path=\"url(#clip082)\" cx=\"506.995\" cy=\"1388.99\" r=\"14\" fill=\"#009af9\" fill-rule=\"evenodd\" fill-opacity=\"1\" stroke=\"#000000\" stroke-opacity=\"1\" stroke-width=\"3.2\"/>\n",
       "<circle clip-path=\"url(#clip082)\" cx=\"697.297\" cy=\"1377\" r=\"14\" fill=\"#009af9\" fill-rule=\"evenodd\" fill-opacity=\"1\" stroke=\"#000000\" stroke-opacity=\"1\" stroke-width=\"3.2\"/>\n",
       "<circle clip-path=\"url(#clip082)\" cx=\"1077.9\" cy=\"1359.93\" r=\"14\" fill=\"#009af9\" fill-rule=\"evenodd\" fill-opacity=\"1\" stroke=\"#000000\" stroke-opacity=\"1\" stroke-width=\"3.2\"/>\n",
       "<circle clip-path=\"url(#clip082)\" cx=\"1732.06\" cy=\"1332.86\" r=\"14\" fill=\"#009af9\" fill-rule=\"evenodd\" fill-opacity=\"1\" stroke=\"#000000\" stroke-opacity=\"1\" stroke-width=\"3.2\"/>\n",
       "<polyline clip-path=\"url(#clip082)\" style=\"stroke:#e26f46; stroke-linecap:butt; stroke-linejoin:round; stroke-width:4; stroke-opacity:1; fill:none\" points=\"\n",
       "  -1686.3,146.145 4157.28,146.145 \n",
       "  \"/>\n",
       "<polyline clip-path=\"url(#clip082)\" style=\"stroke:#3da44d; stroke-linecap:butt; stroke-linejoin:round; stroke-width:4; stroke-opacity:1; fill:none\" points=\"\n",
       "  -1686.3,1240.29 4157.28,1240.29 \n",
       "  \"/>\n",
       "<polyline clip-path=\"url(#clip082)\" style=\"stroke:#c271d2; stroke-linecap:butt; stroke-linejoin:round; stroke-width:4; stroke-opacity:1; fill:none\" points=\"\n",
       "  2154.3,2779.05 2154.3,-1227 \n",
       "  \"/>\n",
       "<polyline clip-path=\"url(#clip082)\" style=\"stroke:#ac8d18; stroke-linecap:butt; stroke-linejoin:round; stroke-width:4; stroke-opacity:1; fill:none\" points=\"\n",
       "  316.693,1405.91 318.18,1405.77 319.666,1405.64 322.64,1405.37 328.587,1404.84 340.481,1403.79 364.268,1401.73 411.844,1397.75 506.995,1390.36 697.297,1377.49 \n",
       "  1077.9,1357.39 1732.06,1333.85 2154.3,1323.1 \n",
       "  \"/>\n",
       "<path clip-path=\"url(#clip080)\" d=\"\n",
       "M2305.8 463.904 L3152.76 463.904 L3152.76 152.864 L2305.8 152.864  Z\n",
       "  \" fill=\"#ffffff\" fill-rule=\"evenodd\" fill-opacity=\"1\"/>\n",
       "<polyline clip-path=\"url(#clip080)\" style=\"stroke:#000000; stroke-linecap:butt; stroke-linejoin:round; stroke-width:4; stroke-opacity:1; fill:none\" points=\"\n",
       "  2305.8,463.904 3152.76,463.904 3152.76,152.864 2305.8,152.864 2305.8,463.904 \n",
       "  \"/>\n",
       "<circle clip-path=\"url(#clip080)\" cx=\"2434.3\" cy=\"204.704\" r=\"23\" fill=\"#009af9\" fill-rule=\"evenodd\" fill-opacity=\"1\" stroke=\"#000000\" stroke-opacity=\"1\" stroke-width=\"5.12\"/>\n",
       "<path clip-path=\"url(#clip080)\" d=\"M2574.69 199.044 Q2571.26 199.044 2569.27 201.729 Q2567.28 204.391 2567.28 209.044 Q2567.28 213.697 2569.25 216.382 Q2571.24 219.044 2574.69 219.044 Q2578.09 219.044 2580.08 216.359 Q2582.07 213.674 2582.07 209.044 Q2582.07 204.438 2580.08 201.752 Q2578.09 199.044 2574.69 199.044 M2574.69 195.433 Q2580.25 195.433 2583.42 199.044 Q2586.59 202.655 2586.59 209.044 Q2586.59 215.41 2583.42 219.044 Q2580.25 222.655 2574.69 222.655 Q2569.11 222.655 2565.94 219.044 Q2562.79 215.41 2562.79 209.044 Q2562.79 202.655 2565.94 199.044 Q2569.11 195.433 2574.69 195.433 Z\" fill=\"#000000\" fill-rule=\"evenodd\" fill-opacity=\"1\" /><path clip-path=\"url(#clip080)\" d=\"M2612.26 209.044 Q2612.26 204.345 2610.32 201.683 Q2608.39 198.998 2605.01 198.998 Q2601.63 198.998 2599.69 201.683 Q2597.77 204.345 2597.77 209.044 Q2597.77 213.743 2599.69 216.428 Q2601.63 219.09 2605.01 219.09 Q2608.39 219.09 2610.32 216.428 Q2612.26 213.743 2612.26 209.044 M2597.77 199.993 Q2599.11 197.678 2601.15 196.567 Q2603.21 195.433 2606.06 195.433 Q2610.78 195.433 2613.72 199.183 Q2616.68 202.933 2616.68 209.044 Q2616.68 215.155 2613.72 218.905 Q2610.78 222.655 2606.06 222.655 Q2603.21 222.655 2601.15 221.544 Q2599.11 220.41 2597.77 218.095 L2597.77 221.984 L2593.49 221.984 L2593.49 185.965 L2597.77 185.965 L2597.77 199.993 Z\" fill=\"#000000\" fill-rule=\"evenodd\" fill-opacity=\"1\" /><path clip-path=\"url(#clip080)\" d=\"M2640.27 196.822 L2640.27 200.85 Q2638.46 199.924 2636.52 199.461 Q2634.57 198.998 2632.49 198.998 Q2629.32 198.998 2627.72 199.97 Q2626.15 200.942 2626.15 202.887 Q2626.15 204.368 2627.28 205.225 Q2628.42 206.058 2631.84 206.822 L2633.3 207.146 Q2637.84 208.118 2639.74 209.9 Q2641.66 211.66 2641.66 214.831 Q2641.66 218.442 2638.79 220.549 Q2635.94 222.655 2630.94 222.655 Q2628.86 222.655 2626.59 222.238 Q2624.34 221.845 2621.84 221.035 L2621.84 216.637 Q2624.2 217.863 2626.5 218.488 Q2628.79 219.09 2631.03 219.09 Q2634.04 219.09 2635.66 218.072 Q2637.28 217.03 2637.28 215.155 Q2637.28 213.419 2636.1 212.493 Q2634.94 211.567 2630.99 210.711 L2629.51 210.363 Q2625.55 209.53 2623.79 207.817 Q2622.03 206.081 2622.03 203.072 Q2622.03 199.414 2624.62 197.424 Q2627.21 195.433 2631.98 195.433 Q2634.34 195.433 2636.43 195.78 Q2638.51 196.127 2640.27 196.822 Z\" fill=\"#000000\" fill-rule=\"evenodd\" fill-opacity=\"1\" /><path clip-path=\"url(#clip080)\" d=\"M2670.62 207.956 L2670.62 210.039 L2651.03 210.039 Q2651.31 214.437 2653.67 216.752 Q2656.06 219.044 2660.29 219.044 Q2662.75 219.044 2665.04 218.442 Q2667.35 217.84 2669.62 216.637 L2669.62 220.664 Q2667.33 221.636 2664.92 222.146 Q2662.51 222.655 2660.04 222.655 Q2653.83 222.655 2650.2 219.044 Q2646.59 215.433 2646.59 209.275 Q2646.59 202.91 2650.01 199.183 Q2653.46 195.433 2659.3 195.433 Q2664.53 195.433 2667.56 198.813 Q2670.62 202.169 2670.62 207.956 M2666.36 206.706 Q2666.31 203.211 2664.39 201.127 Q2662.49 199.044 2659.34 199.044 Q2655.78 199.044 2653.63 201.058 Q2651.5 203.072 2651.17 206.729 L2666.36 206.706 Z\" fill=\"#000000\" fill-rule=\"evenodd\" fill-opacity=\"1\" /><path clip-path=\"url(#clip080)\" d=\"M2692.63 200.039 Q2691.91 199.623 2691.06 199.438 Q2690.22 199.229 2689.2 199.229 Q2685.59 199.229 2683.65 201.59 Q2681.73 203.928 2681.73 208.326 L2681.73 221.984 L2677.44 221.984 L2677.44 196.058 L2681.73 196.058 L2681.73 200.086 Q2683.07 197.725 2685.22 196.59 Q2687.38 195.433 2690.45 195.433 Q2690.89 195.433 2691.43 195.502 Q2691.96 195.549 2692.61 195.664 L2692.63 200.039 Z\" fill=\"#000000\" fill-rule=\"evenodd\" fill-opacity=\"1\" /><path clip-path=\"url(#clip080)\" d=\"M2694.04 196.058 L2698.56 196.058 L2706.66 217.817 L2714.76 196.058 L2719.27 196.058 L2709.55 221.984 L2703.76 221.984 L2694.04 196.058 Z\" fill=\"#000000\" fill-rule=\"evenodd\" fill-opacity=\"1\" /><path clip-path=\"url(#clip080)\" d=\"M2747.33 207.956 L2747.33 210.039 L2727.75 210.039 Q2728.02 214.437 2730.38 216.752 Q2732.77 219.044 2737 219.044 Q2739.46 219.044 2741.75 218.442 Q2744.06 217.84 2746.33 216.637 L2746.33 220.664 Q2744.04 221.636 2741.63 222.146 Q2739.23 222.655 2736.75 222.655 Q2730.55 222.655 2726.91 219.044 Q2723.3 215.433 2723.3 209.275 Q2723.3 202.91 2726.73 199.183 Q2730.18 195.433 2736.01 195.433 Q2741.24 195.433 2744.27 198.813 Q2747.33 202.169 2747.33 207.956 M2743.07 206.706 Q2743.02 203.211 2741.1 201.127 Q2739.2 199.044 2736.06 199.044 Q2732.49 199.044 2730.34 201.058 Q2728.21 203.072 2727.88 206.729 L2743.07 206.706 Z\" fill=\"#000000\" fill-rule=\"evenodd\" fill-opacity=\"1\" /><path clip-path=\"url(#clip080)\" d=\"M2771.38 199.993 L2771.38 185.965 L2775.64 185.965 L2775.64 221.984 L2771.38 221.984 L2771.38 218.095 Q2770.04 220.41 2767.98 221.544 Q2765.94 222.655 2763.07 222.655 Q2758.37 222.655 2755.41 218.905 Q2752.47 215.155 2752.47 209.044 Q2752.47 202.933 2755.41 199.183 Q2758.37 195.433 2763.07 195.433 Q2765.94 195.433 2767.98 196.567 Q2770.04 197.678 2771.38 199.993 M2756.87 209.044 Q2756.87 213.743 2758.79 216.428 Q2760.73 219.09 2764.11 219.09 Q2767.49 219.09 2769.43 216.428 Q2771.38 213.743 2771.38 209.044 Q2771.38 204.345 2769.43 201.683 Q2767.49 198.998 2764.11 198.998 Q2760.73 198.998 2758.79 201.683 Q2756.87 204.345 2756.87 209.044 Z\" fill=\"#000000\" fill-rule=\"evenodd\" fill-opacity=\"1\" /><path clip-path=\"url(#clip080)\" d=\"M2799.32 185.965 L2803.6 185.965 L2803.6 207.238 L2816.31 196.058 L2821.75 196.058 L2808 208.187 L2822.33 221.984 L2816.77 221.984 L2803.6 209.322 L2803.6 221.984 L2799.32 221.984 L2799.32 185.965 Z\" fill=\"#000000\" fill-rule=\"evenodd\" fill-opacity=\"1\" /><path clip-path=\"url(#clip080)\" d=\"M2847.12 201.035 Q2848.72 198.164 2850.94 196.799 Q2853.16 195.433 2856.17 195.433 Q2860.22 195.433 2862.42 198.28 Q2864.62 201.104 2864.62 206.336 L2864.62 221.984 L2860.34 221.984 L2860.34 206.475 Q2860.34 202.748 2859.02 200.942 Q2857.7 199.137 2854.99 199.137 Q2851.68 199.137 2849.76 201.336 Q2847.84 203.535 2847.84 207.331 L2847.84 221.984 L2843.55 221.984 L2843.55 206.475 Q2843.55 202.725 2842.24 200.942 Q2840.92 199.137 2838.16 199.137 Q2834.9 199.137 2832.98 201.359 Q2831.05 203.558 2831.05 207.331 L2831.05 221.984 L2826.77 221.984 L2826.77 196.058 L2831.05 196.058 L2831.05 200.086 Q2832.51 197.701 2834.55 196.567 Q2836.59 195.433 2839.39 195.433 Q2842.21 195.433 2844.18 196.868 Q2846.17 198.303 2847.12 201.035 Z\" fill=\"#000000\" fill-rule=\"evenodd\" fill-opacity=\"1\" /><path clip-path=\"url(#clip080)\" d=\"M2895.29 207.956 L2895.29 210.039 L2875.71 210.039 Q2875.99 214.437 2878.35 216.752 Q2880.73 219.044 2884.97 219.044 Q2887.42 219.044 2889.71 218.442 Q2892.03 217.84 2894.3 216.637 L2894.3 220.664 Q2892 221.636 2889.6 222.146 Q2887.19 222.655 2884.71 222.655 Q2878.51 222.655 2874.87 219.044 Q2871.26 215.433 2871.26 209.275 Q2871.26 202.91 2874.69 199.183 Q2878.14 195.433 2883.97 195.433 Q2889.2 195.433 2892.24 198.813 Q2895.29 202.169 2895.29 207.956 M2891.03 206.706 Q2890.99 203.211 2889.06 201.127 Q2887.17 199.044 2884.02 199.044 Q2880.45 199.044 2878.3 201.058 Q2876.17 203.072 2875.85 206.729 L2891.03 206.706 Z\" fill=\"#000000\" fill-rule=\"evenodd\" fill-opacity=\"1\" /><path clip-path=\"url(#clip080)\" d=\"M2917.3 200.039 Q2916.59 199.623 2915.73 199.438 Q2914.9 199.229 2913.88 199.229 Q2910.27 199.229 2908.32 201.59 Q2906.4 203.928 2906.4 208.326 L2906.4 221.984 L2902.12 221.984 L2902.12 196.058 L2906.4 196.058 L2906.4 200.086 Q2907.74 197.725 2909.9 196.59 Q2912.05 195.433 2915.13 195.433 Q2915.57 195.433 2916.1 195.502 Q2916.63 195.549 2917.28 195.664 L2917.3 200.039 Z\" fill=\"#000000\" fill-rule=\"evenodd\" fill-opacity=\"1\" /><path clip-path=\"url(#clip080)\" d=\"M2955.5 197.053 L2955.5 201.035 Q2953.69 200.039 2951.86 199.553 Q2950.06 199.044 2948.21 199.044 Q2944.06 199.044 2941.77 201.683 Q2939.48 204.299 2939.48 209.044 Q2939.48 213.789 2941.77 216.428 Q2944.06 219.044 2948.21 219.044 Q2950.06 219.044 2951.86 218.558 Q2953.69 218.049 2955.5 217.053 L2955.5 220.988 Q2953.72 221.822 2951.79 222.238 Q2949.9 222.655 2947.74 222.655 Q2941.89 222.655 2938.44 218.974 Q2934.99 215.294 2934.99 209.044 Q2934.99 202.701 2938.46 199.067 Q2941.96 195.433 2948.02 195.433 Q2949.99 195.433 2951.86 195.85 Q2953.74 196.243 2955.5 197.053 Z\" fill=\"#000000\" fill-rule=\"evenodd\" fill-opacity=\"1\" /><path clip-path=\"url(#clip080)\" d=\"M2972.95 199.044 Q2969.53 199.044 2967.54 201.729 Q2965.54 204.391 2965.54 209.044 Q2965.54 213.697 2967.51 216.382 Q2969.5 219.044 2972.95 219.044 Q2976.36 219.044 2978.35 216.359 Q2980.34 213.674 2980.34 209.044 Q2980.34 204.438 2978.35 201.752 Q2976.36 199.044 2972.95 199.044 M2972.95 195.433 Q2978.51 195.433 2981.68 199.044 Q2984.85 202.655 2984.85 209.044 Q2984.85 215.41 2981.68 219.044 Q2978.51 222.655 2972.95 222.655 Q2967.37 222.655 2964.2 219.044 Q2961.05 215.41 2961.05 209.044 Q2961.05 202.655 2964.2 199.044 Q2967.37 195.433 2972.95 195.433 Z\" fill=\"#000000\" fill-rule=\"evenodd\" fill-opacity=\"1\" /><path clip-path=\"url(#clip080)\" d=\"M2991.47 211.752 L2991.47 196.058 L2995.73 196.058 L2995.73 211.59 Q2995.73 215.271 2997.17 217.123 Q2998.6 218.951 3001.47 218.951 Q3004.92 218.951 3006.91 216.752 Q3008.92 214.553 3008.92 210.757 L3008.92 196.058 L3013.18 196.058 L3013.18 221.984 L3008.92 221.984 L3008.92 218.002 Q3007.37 220.363 3005.31 221.521 Q3003.28 222.655 3000.57 222.655 Q2996.1 222.655 2993.79 219.877 Q2991.47 217.099 2991.47 211.752 M3002.19 195.433 L3002.19 195.433 Z\" fill=\"#000000\" fill-rule=\"evenodd\" fill-opacity=\"1\" /><path clip-path=\"url(#clip080)\" d=\"M3043.51 206.336 L3043.51 221.984 L3039.25 221.984 L3039.25 206.475 Q3039.25 202.794 3037.81 200.965 Q3036.38 199.137 3033.51 199.137 Q3030.06 199.137 3028.07 201.336 Q3026.08 203.535 3026.08 207.331 L3026.08 221.984 L3021.79 221.984 L3021.79 196.058 L3026.08 196.058 L3026.08 200.086 Q3027.6 197.748 3029.66 196.59 Q3031.75 195.433 3034.46 195.433 Q3038.92 195.433 3041.22 198.211 Q3043.51 200.965 3043.51 206.336 Z\" fill=\"#000000\" fill-rule=\"evenodd\" fill-opacity=\"1\" /><path clip-path=\"url(#clip080)\" d=\"M3056.22 188.697 L3056.22 196.058 L3064.99 196.058 L3064.99 199.368 L3056.22 199.368 L3056.22 213.442 Q3056.22 216.613 3057.07 217.516 Q3057.95 218.419 3060.61 218.419 L3064.99 218.419 L3064.99 221.984 L3060.61 221.984 Q3055.68 221.984 3053.81 220.155 Q3051.93 218.303 3051.93 213.442 L3051.93 199.368 L3048.81 199.368 L3048.81 196.058 L3051.93 196.058 L3051.93 188.697 L3056.22 188.697 Z\" fill=\"#000000\" fill-rule=\"evenodd\" fill-opacity=\"1\" /><path clip-path=\"url(#clip080)\" d=\"M3087.12 196.822 L3087.12 200.85 Q3085.31 199.924 3083.37 199.461 Q3081.42 198.998 3079.34 198.998 Q3076.17 198.998 3074.57 199.97 Q3073 200.942 3073 202.887 Q3073 204.368 3074.13 205.225 Q3075.27 206.058 3078.69 206.822 L3080.15 207.146 Q3084.69 208.118 3086.59 209.9 Q3088.51 211.66 3088.51 214.831 Q3088.51 218.442 3085.64 220.549 Q3082.79 222.655 3077.79 222.655 Q3075.71 222.655 3073.44 222.238 Q3071.19 221.845 3068.69 221.035 L3068.69 216.637 Q3071.05 217.863 3073.35 218.488 Q3075.64 219.09 3077.88 219.09 Q3080.89 219.09 3082.51 218.072 Q3084.13 217.03 3084.13 215.155 Q3084.13 213.419 3082.95 212.493 Q3081.79 211.567 3077.84 210.711 L3076.35 210.363 Q3072.4 209.53 3070.64 207.817 Q3068.88 206.081 3068.88 203.072 Q3068.88 199.414 3071.47 197.424 Q3074.06 195.433 3078.83 195.433 Q3081.19 195.433 3083.28 195.78 Q3085.36 196.127 3087.12 196.822 Z\" fill=\"#000000\" fill-rule=\"evenodd\" fill-opacity=\"1\" /><polyline clip-path=\"url(#clip080)\" style=\"stroke:#e26f46; stroke-linecap:butt; stroke-linejoin:round; stroke-width:4; stroke-opacity:1; fill:none\" points=\"\n",
       "  2337.92,256.544 2530.67,256.544 \n",
       "  \"/>\n",
       "<path clip-path=\"url(#clip080)\" d=\"M2576.2 260.791 Q2571.03 260.791 2569.04 261.972 Q2567.05 263.152 2567.05 266 Q2567.05 268.268 2568.53 269.611 Q2570.04 270.93 2572.61 270.93 Q2576.15 270.93 2578.28 268.43 Q2580.43 265.907 2580.43 261.74 L2580.43 260.791 L2576.2 260.791 M2584.69 259.032 L2584.69 273.824 L2580.43 273.824 L2580.43 269.889 Q2578.97 272.25 2576.8 273.384 Q2574.62 274.495 2571.47 274.495 Q2567.49 274.495 2565.13 272.273 Q2562.79 270.027 2562.79 266.277 Q2562.79 261.902 2565.71 259.68 Q2568.65 257.458 2574.46 257.458 L2580.43 257.458 L2580.43 257.041 Q2580.43 254.102 2578.49 252.504 Q2576.57 250.884 2573.07 250.884 Q2570.85 250.884 2568.74 251.416 Q2566.64 251.949 2564.69 253.014 L2564.69 249.078 Q2567.03 248.176 2569.23 247.736 Q2571.43 247.273 2573.51 247.273 Q2579.13 247.273 2581.91 250.19 Q2584.69 253.106 2584.69 259.032 Z\" fill=\"#000000\" fill-rule=\"evenodd\" fill-opacity=\"1\" /><path clip-path=\"url(#clip080)\" d=\"M2612.07 260.884 Q2612.07 256.185 2610.13 253.523 Q2608.21 250.838 2604.83 250.838 Q2601.45 250.838 2599.51 253.523 Q2597.58 256.185 2597.58 260.884 Q2597.58 265.583 2599.51 268.268 Q2601.45 270.93 2604.83 270.93 Q2608.21 270.93 2610.13 268.268 Q2612.07 265.583 2612.07 260.884 M2597.58 251.833 Q2598.93 249.518 2600.96 248.407 Q2603.02 247.273 2605.87 247.273 Q2610.59 247.273 2613.53 251.023 Q2616.5 254.773 2616.5 260.884 Q2616.5 266.995 2613.53 270.745 Q2610.59 274.495 2605.87 274.495 Q2603.02 274.495 2600.96 273.384 Q2598.93 272.25 2597.58 269.935 L2597.58 273.824 L2593.3 273.824 L2593.3 237.805 L2597.58 237.805 L2597.58 251.833 Z\" fill=\"#000000\" fill-rule=\"evenodd\" fill-opacity=\"1\" /><path clip-path=\"url(#clip080)\" d=\"M2640.08 248.662 L2640.08 252.69 Q2638.28 251.764 2636.33 251.301 Q2634.39 250.838 2632.31 250.838 Q2629.13 250.838 2627.54 251.81 Q2625.96 252.782 2625.96 254.727 Q2625.96 256.208 2627.1 257.065 Q2628.23 257.898 2631.66 258.662 L2633.12 258.986 Q2637.65 259.958 2639.55 261.74 Q2641.47 263.5 2641.47 266.671 Q2641.47 270.282 2638.6 272.389 Q2635.76 274.495 2630.76 274.495 Q2628.67 274.495 2626.4 274.078 Q2624.16 273.685 2621.66 272.875 L2621.66 268.477 Q2624.02 269.703 2626.31 270.328 Q2628.6 270.93 2630.85 270.93 Q2633.86 270.93 2635.48 269.912 Q2637.1 268.87 2637.1 266.995 Q2637.1 265.259 2635.92 264.333 Q2634.76 263.407 2630.8 262.551 L2629.32 262.203 Q2625.36 261.37 2623.6 259.657 Q2621.84 257.921 2621.84 254.912 Q2621.84 251.254 2624.44 249.264 Q2627.03 247.273 2631.8 247.273 Q2634.16 247.273 2636.24 247.62 Q2638.32 247.967 2640.08 248.662 Z\" fill=\"#000000\" fill-rule=\"evenodd\" fill-opacity=\"1\" /><path clip-path=\"url(#clip080)\" d=\"M2658.3 250.884 Q2654.88 250.884 2652.88 253.569 Q2650.89 256.231 2650.89 260.884 Q2650.89 265.537 2652.86 268.222 Q2654.85 270.884 2658.3 270.884 Q2661.7 270.884 2663.69 268.199 Q2665.69 265.514 2665.69 260.884 Q2665.69 256.278 2663.69 253.592 Q2661.7 250.884 2658.3 250.884 M2658.3 247.273 Q2663.86 247.273 2667.03 250.884 Q2670.2 254.495 2670.2 260.884 Q2670.2 267.25 2667.03 270.884 Q2663.86 274.495 2658.3 274.495 Q2652.72 274.495 2649.55 270.884 Q2646.4 267.25 2646.4 260.884 Q2646.4 254.495 2649.55 250.884 Q2652.72 247.273 2658.3 247.273 Z\" fill=\"#000000\" fill-rule=\"evenodd\" fill-opacity=\"1\" /><path clip-path=\"url(#clip080)\" d=\"M2677.26 237.805 L2681.52 237.805 L2681.52 273.824 L2677.26 273.824 L2677.26 237.805 Z\" fill=\"#000000\" fill-rule=\"evenodd\" fill-opacity=\"1\" /><path clip-path=\"url(#clip080)\" d=\"M2689.99 263.592 L2689.99 247.898 L2694.25 247.898 L2694.25 263.43 Q2694.25 267.111 2695.69 268.963 Q2697.12 270.791 2699.99 270.791 Q2703.44 270.791 2705.43 268.592 Q2707.44 266.393 2707.44 262.597 L2707.44 247.898 L2711.7 247.898 L2711.7 273.824 L2707.44 273.824 L2707.44 269.842 Q2705.89 272.203 2703.83 273.361 Q2701.8 274.495 2699.09 274.495 Q2694.62 274.495 2692.31 271.717 Q2689.99 268.939 2689.99 263.592 M2700.71 247.273 L2700.71 247.273 Z\" fill=\"#000000\" fill-rule=\"evenodd\" fill-opacity=\"1\" /><path clip-path=\"url(#clip080)\" d=\"M2724.69 240.537 L2724.69 247.898 L2733.46 247.898 L2733.46 251.208 L2724.69 251.208 L2724.69 265.282 Q2724.69 268.453 2725.55 269.356 Q2726.43 270.259 2729.09 270.259 L2733.46 270.259 L2733.46 273.824 L2729.09 273.824 Q2724.16 273.824 2722.28 271.995 Q2720.41 270.143 2720.41 265.282 L2720.41 251.208 L2717.28 251.208 L2717.28 247.898 L2720.41 247.898 L2720.41 240.537 L2724.69 240.537 Z\" fill=\"#000000\" fill-rule=\"evenodd\" fill-opacity=\"1\" /><path clip-path=\"url(#clip080)\" d=\"M2761.24 259.796 L2761.24 261.879 L2741.66 261.879 Q2741.93 266.277 2744.3 268.592 Q2746.68 270.884 2750.92 270.884 Q2753.37 270.884 2755.66 270.282 Q2757.98 269.68 2760.25 268.477 L2760.25 272.504 Q2757.95 273.476 2755.55 273.986 Q2753.14 274.495 2750.66 274.495 Q2744.46 274.495 2740.82 270.884 Q2737.21 267.273 2737.21 261.115 Q2737.21 254.75 2740.64 251.023 Q2744.09 247.273 2749.92 247.273 Q2755.15 247.273 2758.18 250.653 Q2761.24 254.009 2761.24 259.796 M2756.98 258.546 Q2756.93 255.051 2755.01 252.967 Q2753.12 250.884 2749.97 250.884 Q2746.4 250.884 2744.25 252.898 Q2742.12 254.912 2741.8 258.569 L2756.98 258.546 Z\" fill=\"#000000\" fill-rule=\"evenodd\" fill-opacity=\"1\" /><path clip-path=\"url(#clip080)\" d=\"M2803.49 252.875 Q2805.08 250.004 2807.31 248.639 Q2809.53 247.273 2812.54 247.273 Q2816.59 247.273 2818.79 250.12 Q2820.99 252.944 2820.99 258.176 L2820.99 273.824 L2816.7 273.824 L2816.7 258.315 Q2816.7 254.588 2815.38 252.782 Q2814.06 250.977 2811.36 250.977 Q2808.05 250.977 2806.12 253.176 Q2804.2 255.375 2804.2 259.171 L2804.2 273.824 L2799.92 273.824 L2799.92 258.315 Q2799.92 254.565 2798.6 252.782 Q2797.28 250.977 2794.53 250.977 Q2791.26 250.977 2789.34 253.199 Q2787.42 255.398 2787.42 259.171 L2787.42 273.824 L2783.14 273.824 L2783.14 247.898 L2787.42 247.898 L2787.42 251.926 Q2788.88 249.541 2790.92 248.407 Q2792.95 247.273 2795.75 247.273 Q2798.58 247.273 2800.55 248.708 Q2802.54 250.143 2803.49 252.875 Z\" fill=\"#000000\" fill-rule=\"evenodd\" fill-opacity=\"1\" /><path clip-path=\"url(#clip080)\" d=\"M2841.26 260.791 Q2836.1 260.791 2834.11 261.972 Q2832.12 263.152 2832.12 266 Q2832.12 268.268 2833.6 269.611 Q2835.11 270.93 2837.68 270.93 Q2841.22 270.93 2843.35 268.43 Q2845.5 265.907 2845.5 261.74 L2845.5 260.791 L2841.26 260.791 M2849.76 259.032 L2849.76 273.824 L2845.5 273.824 L2845.5 269.889 Q2844.04 272.25 2841.87 273.384 Q2839.69 274.495 2836.54 274.495 Q2832.56 274.495 2830.2 272.273 Q2827.86 270.027 2827.86 266.277 Q2827.86 261.902 2830.78 259.68 Q2833.72 257.458 2839.53 257.458 L2845.5 257.458 L2845.5 257.041 Q2845.5 254.102 2843.55 252.504 Q2841.63 250.884 2838.14 250.884 Q2835.92 250.884 2833.81 251.416 Q2831.7 251.949 2829.76 253.014 L2829.76 249.078 Q2832.1 248.176 2834.3 247.736 Q2836.49 247.273 2838.58 247.273 Q2844.2 247.273 2846.98 250.19 Q2849.76 253.106 2849.76 259.032 Z\" fill=\"#000000\" fill-rule=\"evenodd\" fill-opacity=\"1\" /><path clip-path=\"url(#clip080)\" d=\"M2880.08 247.898 L2870.71 260.514 L2880.57 273.824 L2875.55 273.824 L2868 263.639 L2860.45 273.824 L2855.43 273.824 L2865.5 260.259 L2856.29 247.898 L2861.31 247.898 L2868.18 257.134 L2875.06 247.898 L2880.08 247.898 Z\" fill=\"#000000\" fill-rule=\"evenodd\" fill-opacity=\"1\" /><path clip-path=\"url(#clip080)\" d=\"M2886.59 247.898 L2890.85 247.898 L2890.85 273.824 L2886.59 273.824 L2886.59 247.898 M2886.59 237.805 L2890.85 237.805 L2890.85 243.199 L2886.59 243.199 L2886.59 237.805 Z\" fill=\"#000000\" fill-rule=\"evenodd\" fill-opacity=\"1\" /><path clip-path=\"url(#clip080)\" d=\"M2919.94 252.875 Q2921.54 250.004 2923.76 248.639 Q2925.98 247.273 2928.99 247.273 Q2933.05 247.273 2935.24 250.12 Q2937.44 252.944 2937.44 258.176 L2937.44 273.824 L2933.16 273.824 L2933.16 258.315 Q2933.16 254.588 2931.84 252.782 Q2930.52 250.977 2927.81 250.977 Q2924.5 250.977 2922.58 253.176 Q2920.66 255.375 2920.66 259.171 L2920.66 273.824 L2916.38 273.824 L2916.38 258.315 Q2916.38 254.565 2915.06 252.782 Q2913.74 250.977 2910.99 250.977 Q2907.72 250.977 2905.8 253.199 Q2903.88 255.398 2903.88 259.171 L2903.88 273.824 L2899.6 273.824 L2899.6 247.898 L2903.88 247.898 L2903.88 251.926 Q2905.34 249.541 2907.37 248.407 Q2909.41 247.273 2912.21 247.273 Q2915.04 247.273 2917 248.708 Q2918.99 250.143 2919.94 252.875 Z\" fill=\"#000000\" fill-rule=\"evenodd\" fill-opacity=\"1\" /><path clip-path=\"url(#clip080)\" d=\"M2945.5 263.592 L2945.5 247.898 L2949.76 247.898 L2949.76 263.43 Q2949.76 267.111 2951.19 268.963 Q2952.63 270.791 2955.5 270.791 Q2958.95 270.791 2960.94 268.592 Q2962.95 266.393 2962.95 262.597 L2962.95 247.898 L2967.21 247.898 L2967.21 273.824 L2962.95 273.824 L2962.95 269.842 Q2961.4 272.203 2959.34 273.361 Q2957.3 274.495 2954.6 274.495 Q2950.13 274.495 2947.81 271.717 Q2945.5 268.939 2945.5 263.592 M2956.22 247.273 L2956.22 247.273 Z\" fill=\"#000000\" fill-rule=\"evenodd\" fill-opacity=\"1\" /><path clip-path=\"url(#clip080)\" d=\"M2996.17 252.875 Q2997.77 250.004 2999.99 248.639 Q3002.21 247.273 3005.22 247.273 Q3009.27 247.273 3011.47 250.12 Q3013.67 252.944 3013.67 258.176 L3013.67 273.824 L3009.39 273.824 L3009.39 258.315 Q3009.39 254.588 3008.07 252.782 Q3006.75 250.977 3004.04 250.977 Q3000.73 250.977 2998.81 253.176 Q2996.89 255.375 2996.89 259.171 L2996.89 273.824 L2992.6 273.824 L2992.6 258.315 Q2992.6 254.565 2991.29 252.782 Q2989.97 250.977 2987.21 250.977 Q2983.95 250.977 2982.03 253.199 Q2980.11 255.398 2980.11 259.171 L2980.11 273.824 L2975.82 273.824 L2975.82 247.898 L2980.11 247.898 L2980.11 251.926 Q2981.56 249.541 2983.6 248.407 Q2985.64 247.273 2988.44 247.273 Q2991.26 247.273 2993.23 248.708 Q2995.22 250.143 2996.17 252.875 Z\" fill=\"#000000\" fill-rule=\"evenodd\" fill-opacity=\"1\" /><polyline clip-path=\"url(#clip080)\" style=\"stroke:#3da44d; stroke-linecap:butt; stroke-linejoin:round; stroke-width:4; stroke-opacity:1; fill:none\" points=\"\n",
       "  2337.92,308.384 2530.67,308.384 \n",
       "  \"/>\n",
       "<path clip-path=\"url(#clip080)\" d=\"M2562.79 299.738 L2567.05 299.738 L2567.05 325.664 L2562.79 325.664 L2562.79 299.738 M2562.79 289.645 L2567.05 289.645 L2567.05 295.039 L2562.79 295.039 L2562.79 289.645 Z\" fill=\"#000000\" fill-rule=\"evenodd\" fill-opacity=\"1\" /><path clip-path=\"url(#clip080)\" d=\"M2597.51 310.016 L2597.51 325.664 L2593.26 325.664 L2593.26 310.155 Q2593.26 306.474 2591.82 304.645 Q2590.38 302.817 2587.51 302.817 Q2584.07 302.817 2582.07 305.016 Q2580.08 307.215 2580.08 311.011 L2580.08 325.664 L2575.8 325.664 L2575.8 299.738 L2580.08 299.738 L2580.08 303.766 Q2581.61 301.428 2583.67 300.27 Q2585.76 299.113 2588.46 299.113 Q2592.93 299.113 2595.22 301.891 Q2597.51 304.645 2597.51 310.016 Z\" fill=\"#000000\" fill-rule=\"evenodd\" fill-opacity=\"1\" /><path clip-path=\"url(#clip080)\" d=\"M2619.13 289.645 L2619.13 293.187 L2615.06 293.187 Q2612.77 293.187 2611.87 294.113 Q2610.99 295.039 2610.99 297.446 L2610.99 299.738 L2618 299.738 L2618 303.048 L2610.99 303.048 L2610.99 325.664 L2606.7 325.664 L2606.7 303.048 L2602.63 303.048 L2602.63 299.738 L2606.7 299.738 L2606.7 297.932 Q2606.7 293.604 2608.72 291.636 Q2610.73 289.645 2615.11 289.645 L2619.13 289.645 Z\" fill=\"#000000\" fill-rule=\"evenodd\" fill-opacity=\"1\" /><path clip-path=\"url(#clip080)\" d=\"M2644.88 311.636 L2644.88 313.719 L2625.29 313.719 Q2625.57 318.117 2627.93 320.432 Q2630.32 322.724 2634.55 322.724 Q2637.01 322.724 2639.3 322.122 Q2641.61 321.52 2643.88 320.317 L2643.88 324.344 Q2641.59 325.316 2639.18 325.826 Q2636.77 326.335 2634.3 326.335 Q2628.09 326.335 2624.46 322.724 Q2620.85 319.113 2620.85 312.955 Q2620.85 306.59 2624.27 302.863 Q2627.72 299.113 2633.56 299.113 Q2638.79 299.113 2641.82 302.493 Q2644.88 305.849 2644.88 311.636 M2640.62 310.386 Q2640.57 306.891 2638.65 304.807 Q2636.75 302.724 2633.6 302.724 Q2630.04 302.724 2627.88 304.738 Q2625.76 306.752 2625.43 310.409 L2640.62 310.386 Z\" fill=\"#000000\" fill-rule=\"evenodd\" fill-opacity=\"1\" /><path clip-path=\"url(#clip080)\" d=\"M2666.89 303.719 Q2666.17 303.303 2665.32 303.118 Q2664.48 302.909 2663.46 302.909 Q2659.85 302.909 2657.91 305.27 Q2655.99 307.608 2655.99 312.006 L2655.99 325.664 L2651.7 325.664 L2651.7 299.738 L2655.99 299.738 L2655.99 303.766 Q2657.33 301.405 2659.48 300.27 Q2661.63 299.113 2664.71 299.113 Q2665.15 299.113 2665.69 299.182 Q2666.22 299.229 2666.87 299.344 L2666.89 303.719 Z\" fill=\"#000000\" fill-rule=\"evenodd\" fill-opacity=\"1\" /><path clip-path=\"url(#clip080)\" d=\"M2685.55 303.719 Q2684.83 303.303 2683.97 303.118 Q2683.14 302.909 2682.12 302.909 Q2678.51 302.909 2676.56 305.27 Q2674.64 307.608 2674.64 312.006 L2674.64 325.664 L2670.36 325.664 L2670.36 299.738 L2674.64 299.738 L2674.64 303.766 Q2675.99 301.405 2678.14 300.27 Q2680.29 299.113 2683.37 299.113 Q2683.81 299.113 2684.34 299.182 Q2684.88 299.229 2685.52 299.344 L2685.55 303.719 Z\" fill=\"#000000\" fill-rule=\"evenodd\" fill-opacity=\"1\" /><path clip-path=\"url(#clip080)\" d=\"M2711.15 311.636 L2711.15 313.719 L2691.56 313.719 Q2691.84 318.117 2694.2 320.432 Q2696.59 322.724 2700.82 322.724 Q2703.28 322.724 2705.57 322.122 Q2707.88 321.52 2710.15 320.317 L2710.15 324.344 Q2707.86 325.316 2705.45 325.826 Q2703.05 326.335 2700.57 326.335 Q2694.37 326.335 2690.73 322.724 Q2687.12 319.113 2687.12 312.955 Q2687.12 306.59 2690.55 302.863 Q2694 299.113 2699.83 299.113 Q2705.06 299.113 2708.09 302.493 Q2711.15 305.849 2711.15 311.636 M2706.89 310.386 Q2706.84 306.891 2704.92 304.807 Q2703.02 302.724 2699.88 302.724 Q2696.31 302.724 2694.16 304.738 Q2692.03 306.752 2691.7 310.409 L2706.89 310.386 Z\" fill=\"#000000\" fill-rule=\"evenodd\" fill-opacity=\"1\" /><path clip-path=\"url(#clip080)\" d=\"M2735.2 303.673 L2735.2 289.645 L2739.46 289.645 L2739.46 325.664 L2735.2 325.664 L2735.2 321.775 Q2733.86 324.09 2731.8 325.224 Q2729.76 326.335 2726.89 326.335 Q2722.19 326.335 2719.23 322.585 Q2716.29 318.835 2716.29 312.724 Q2716.29 306.613 2719.23 302.863 Q2722.19 299.113 2726.89 299.113 Q2729.76 299.113 2731.8 300.247 Q2733.86 301.358 2735.2 303.673 M2720.69 312.724 Q2720.69 317.423 2722.61 320.108 Q2724.55 322.77 2727.93 322.77 Q2731.31 322.77 2733.25 320.108 Q2735.2 317.423 2735.2 312.724 Q2735.2 308.025 2733.25 305.363 Q2731.31 302.678 2727.93 302.678 Q2724.55 302.678 2722.61 305.363 Q2720.69 308.025 2720.69 312.724 Z\" fill=\"#000000\" fill-rule=\"evenodd\" fill-opacity=\"1\" /><path clip-path=\"url(#clip080)\" d=\"M2783.49 304.715 Q2785.08 301.844 2787.31 300.479 Q2789.53 299.113 2792.54 299.113 Q2796.59 299.113 2798.79 301.96 Q2800.99 304.784 2800.99 310.016 L2800.99 325.664 L2796.7 325.664 L2796.7 310.155 Q2796.7 306.428 2795.38 304.622 Q2794.06 302.817 2791.36 302.817 Q2788.05 302.817 2786.12 305.016 Q2784.2 307.215 2784.2 311.011 L2784.2 325.664 L2779.92 325.664 L2779.92 310.155 Q2779.92 306.405 2778.6 304.622 Q2777.28 302.817 2774.53 302.817 Q2771.26 302.817 2769.34 305.039 Q2767.42 307.238 2767.42 311.011 L2767.42 325.664 L2763.14 325.664 L2763.14 299.738 L2767.42 299.738 L2767.42 303.766 Q2768.88 301.381 2770.92 300.247 Q2772.95 299.113 2775.75 299.113 Q2778.58 299.113 2780.55 300.548 Q2782.54 301.983 2783.49 304.715 Z\" fill=\"#000000\" fill-rule=\"evenodd\" fill-opacity=\"1\" /><path clip-path=\"url(#clip080)\" d=\"M2821.26 312.631 Q2816.1 312.631 2814.11 313.812 Q2812.12 314.992 2812.12 317.84 Q2812.12 320.108 2813.6 321.451 Q2815.11 322.77 2817.68 322.77 Q2821.22 322.77 2823.35 320.27 Q2825.5 317.747 2825.5 313.58 L2825.5 312.631 L2821.26 312.631 M2829.76 310.872 L2829.76 325.664 L2825.5 325.664 L2825.5 321.729 Q2824.04 324.09 2821.87 325.224 Q2819.69 326.335 2816.54 326.335 Q2812.56 326.335 2810.2 324.113 Q2807.86 321.867 2807.86 318.117 Q2807.86 313.742 2810.78 311.52 Q2813.72 309.298 2819.53 309.298 L2825.5 309.298 L2825.5 308.881 Q2825.5 305.942 2823.55 304.344 Q2821.63 302.724 2818.14 302.724 Q2815.92 302.724 2813.81 303.256 Q2811.7 303.789 2809.76 304.854 L2809.76 300.918 Q2812.1 300.016 2814.3 299.576 Q2816.49 299.113 2818.58 299.113 Q2824.2 299.113 2826.98 302.03 Q2829.76 304.946 2829.76 310.872 Z\" fill=\"#000000\" fill-rule=\"evenodd\" fill-opacity=\"1\" /><path clip-path=\"url(#clip080)\" d=\"M2860.08 299.738 L2850.71 312.354 L2860.57 325.664 L2855.55 325.664 L2848 315.479 L2840.45 325.664 L2835.43 325.664 L2845.5 312.099 L2836.29 299.738 L2841.31 299.738 L2848.18 308.974 L2855.06 299.738 L2860.08 299.738 Z\" fill=\"#000000\" fill-rule=\"evenodd\" fill-opacity=\"1\" /><path clip-path=\"url(#clip080)\" d=\"M2866.59 299.738 L2870.85 299.738 L2870.85 325.664 L2866.59 325.664 L2866.59 299.738 M2866.59 289.645 L2870.85 289.645 L2870.85 295.039 L2866.59 295.039 L2866.59 289.645 Z\" fill=\"#000000\" fill-rule=\"evenodd\" fill-opacity=\"1\" /><path clip-path=\"url(#clip080)\" d=\"M2899.94 304.715 Q2901.54 301.844 2903.76 300.479 Q2905.99 299.113 2908.99 299.113 Q2913.05 299.113 2915.24 301.96 Q2917.44 304.784 2917.44 310.016 L2917.44 325.664 L2913.16 325.664 L2913.16 310.155 Q2913.16 306.428 2911.84 304.622 Q2910.52 302.817 2907.81 302.817 Q2904.5 302.817 2902.58 305.016 Q2900.66 307.215 2900.66 311.011 L2900.66 325.664 L2896.38 325.664 L2896.38 310.155 Q2896.38 306.405 2895.06 304.622 Q2893.74 302.817 2890.99 302.817 Q2887.72 302.817 2885.8 305.039 Q2883.88 307.238 2883.88 311.011 L2883.88 325.664 L2879.6 325.664 L2879.6 299.738 L2883.88 299.738 L2883.88 303.766 Q2885.34 301.381 2887.37 300.247 Q2889.41 299.113 2892.21 299.113 Q2895.04 299.113 2897 300.548 Q2898.99 301.983 2899.94 304.715 Z\" fill=\"#000000\" fill-rule=\"evenodd\" fill-opacity=\"1\" /><path clip-path=\"url(#clip080)\" d=\"M2925.5 315.432 L2925.5 299.738 L2929.76 299.738 L2929.76 315.27 Q2929.76 318.951 2931.19 320.803 Q2932.63 322.631 2935.5 322.631 Q2938.95 322.631 2940.94 320.432 Q2942.95 318.233 2942.95 314.437 L2942.95 299.738 L2947.21 299.738 L2947.21 325.664 L2942.95 325.664 L2942.95 321.682 Q2941.4 324.043 2939.34 325.201 Q2937.3 326.335 2934.6 326.335 Q2930.13 326.335 2927.81 323.557 Q2925.5 320.779 2925.5 315.432 M2936.22 299.113 L2936.22 299.113 Z\" fill=\"#000000\" fill-rule=\"evenodd\" fill-opacity=\"1\" /><path clip-path=\"url(#clip080)\" d=\"M2976.17 304.715 Q2977.77 301.844 2979.99 300.479 Q2982.21 299.113 2985.22 299.113 Q2989.27 299.113 2991.47 301.96 Q2993.67 304.784 2993.67 310.016 L2993.67 325.664 L2989.39 325.664 L2989.39 310.155 Q2989.39 306.428 2988.07 304.622 Q2986.75 302.817 2984.04 302.817 Q2980.73 302.817 2978.81 305.016 Q2976.89 307.215 2976.89 311.011 L2976.89 325.664 L2972.61 325.664 L2972.61 310.155 Q2972.61 306.405 2971.29 304.622 Q2969.97 302.817 2967.21 302.817 Q2963.95 302.817 2962.03 305.039 Q2960.11 307.238 2960.11 311.011 L2960.11 325.664 L2955.82 325.664 L2955.82 299.738 L2960.11 299.738 L2960.11 303.766 Q2961.56 301.381 2963.6 300.247 Q2965.64 299.113 2968.44 299.113 Q2971.26 299.113 2973.23 300.548 Q2975.22 301.983 2976.17 304.715 Z\" fill=\"#000000\" fill-rule=\"evenodd\" fill-opacity=\"1\" /><polyline clip-path=\"url(#clip080)\" style=\"stroke:#c271d2; stroke-linecap:butt; stroke-linejoin:round; stroke-width:4; stroke-opacity:1; fill:none\" points=\"\n",
       "  2337.92,360.224 2530.67,360.224 \n",
       "  \"/>\n",
       "<path clip-path=\"url(#clip080)\" d=\"M2562.79 351.578 L2567.05 351.578 L2567.05 377.504 L2562.79 377.504 L2562.79 351.578 M2562.79 341.485 L2567.05 341.485 L2567.05 346.879 L2562.79 346.879 L2562.79 341.485 Z\" fill=\"#000000\" fill-rule=\"evenodd\" fill-opacity=\"1\" /><path clip-path=\"url(#clip080)\" d=\"M2597.51 361.856 L2597.51 377.504 L2593.26 377.504 L2593.26 361.995 Q2593.26 358.314 2591.82 356.485 Q2590.38 354.657 2587.51 354.657 Q2584.07 354.657 2582.07 356.856 Q2580.08 359.055 2580.08 362.851 L2580.08 377.504 L2575.8 377.504 L2575.8 351.578 L2580.08 351.578 L2580.08 355.606 Q2581.61 353.268 2583.67 352.11 Q2585.76 350.953 2588.46 350.953 Q2592.93 350.953 2595.22 353.731 Q2597.51 356.485 2597.51 361.856 Z\" fill=\"#000000\" fill-rule=\"evenodd\" fill-opacity=\"1\" /><path clip-path=\"url(#clip080)\" d=\"M2619.13 341.485 L2619.13 345.027 L2615.06 345.027 Q2612.77 345.027 2611.87 345.953 Q2610.99 346.879 2610.99 349.286 L2610.99 351.578 L2618 351.578 L2618 354.888 L2610.99 354.888 L2610.99 377.504 L2606.7 377.504 L2606.7 354.888 L2602.63 354.888 L2602.63 351.578 L2606.7 351.578 L2606.7 349.772 Q2606.7 345.444 2608.72 343.476 Q2610.73 341.485 2615.11 341.485 L2619.13 341.485 Z\" fill=\"#000000\" fill-rule=\"evenodd\" fill-opacity=\"1\" /><path clip-path=\"url(#clip080)\" d=\"M2644.88 363.476 L2644.88 365.559 L2625.29 365.559 Q2625.57 369.957 2627.93 372.272 Q2630.32 374.564 2634.55 374.564 Q2637.01 374.564 2639.3 373.962 Q2641.61 373.36 2643.88 372.157 L2643.88 376.184 Q2641.59 377.156 2639.18 377.666 Q2636.77 378.175 2634.3 378.175 Q2628.09 378.175 2624.46 374.564 Q2620.85 370.953 2620.85 364.795 Q2620.85 358.43 2624.27 354.703 Q2627.72 350.953 2633.56 350.953 Q2638.79 350.953 2641.82 354.333 Q2644.88 357.689 2644.88 363.476 M2640.62 362.226 Q2640.57 358.731 2638.65 356.647 Q2636.75 354.564 2633.6 354.564 Q2630.04 354.564 2627.88 356.578 Q2625.76 358.592 2625.43 362.249 L2640.62 362.226 Z\" fill=\"#000000\" fill-rule=\"evenodd\" fill-opacity=\"1\" /><path clip-path=\"url(#clip080)\" d=\"M2666.89 355.559 Q2666.17 355.143 2665.32 354.958 Q2664.48 354.749 2663.46 354.749 Q2659.85 354.749 2657.91 357.11 Q2655.99 359.448 2655.99 363.846 L2655.99 377.504 L2651.7 377.504 L2651.7 351.578 L2655.99 351.578 L2655.99 355.606 Q2657.33 353.245 2659.48 352.11 Q2661.63 350.953 2664.71 350.953 Q2665.15 350.953 2665.69 351.022 Q2666.22 351.069 2666.87 351.184 L2666.89 355.559 Z\" fill=\"#000000\" fill-rule=\"evenodd\" fill-opacity=\"1\" /><path clip-path=\"url(#clip080)\" d=\"M2685.55 355.559 Q2684.83 355.143 2683.97 354.958 Q2683.14 354.749 2682.12 354.749 Q2678.51 354.749 2676.56 357.11 Q2674.64 359.448 2674.64 363.846 L2674.64 377.504 L2670.36 377.504 L2670.36 351.578 L2674.64 351.578 L2674.64 355.606 Q2675.99 353.245 2678.14 352.11 Q2680.29 350.953 2683.37 350.953 Q2683.81 350.953 2684.34 351.022 Q2684.88 351.069 2685.52 351.184 L2685.55 355.559 Z\" fill=\"#000000\" fill-rule=\"evenodd\" fill-opacity=\"1\" /><path clip-path=\"url(#clip080)\" d=\"M2711.15 363.476 L2711.15 365.559 L2691.56 365.559 Q2691.84 369.957 2694.2 372.272 Q2696.59 374.564 2700.82 374.564 Q2703.28 374.564 2705.57 373.962 Q2707.88 373.36 2710.15 372.157 L2710.15 376.184 Q2707.86 377.156 2705.45 377.666 Q2703.05 378.175 2700.57 378.175 Q2694.37 378.175 2690.73 374.564 Q2687.12 370.953 2687.12 364.795 Q2687.12 358.43 2690.55 354.703 Q2694 350.953 2699.83 350.953 Q2705.06 350.953 2708.09 354.333 Q2711.15 357.689 2711.15 363.476 M2706.89 362.226 Q2706.84 358.731 2704.92 356.647 Q2703.02 354.564 2699.88 354.564 Q2696.31 354.564 2694.16 356.578 Q2692.03 358.592 2691.7 362.249 L2706.89 362.226 Z\" fill=\"#000000\" fill-rule=\"evenodd\" fill-opacity=\"1\" /><path clip-path=\"url(#clip080)\" d=\"M2735.2 355.513 L2735.2 341.485 L2739.46 341.485 L2739.46 377.504 L2735.2 377.504 L2735.2 373.615 Q2733.86 375.93 2731.8 377.064 Q2729.76 378.175 2726.89 378.175 Q2722.19 378.175 2719.23 374.425 Q2716.29 370.675 2716.29 364.564 Q2716.29 358.453 2719.23 354.703 Q2722.19 350.953 2726.89 350.953 Q2729.76 350.953 2731.8 352.087 Q2733.86 353.198 2735.2 355.513 M2720.69 364.564 Q2720.69 369.263 2722.61 371.948 Q2724.55 374.61 2727.93 374.61 Q2731.31 374.61 2733.25 371.948 Q2735.2 369.263 2735.2 364.564 Q2735.2 359.865 2733.25 357.203 Q2731.31 354.518 2727.93 354.518 Q2724.55 354.518 2722.61 357.203 Q2720.69 359.865 2720.69 364.564 Z\" fill=\"#000000\" fill-rule=\"evenodd\" fill-opacity=\"1\" /><path clip-path=\"url(#clip080)\" d=\"M2783.49 356.555 Q2785.08 353.684 2787.31 352.319 Q2789.53 350.953 2792.54 350.953 Q2796.59 350.953 2798.79 353.8 Q2800.99 356.624 2800.99 361.856 L2800.99 377.504 L2796.7 377.504 L2796.7 361.995 Q2796.7 358.268 2795.38 356.462 Q2794.06 354.657 2791.36 354.657 Q2788.05 354.657 2786.12 356.856 Q2784.2 359.055 2784.2 362.851 L2784.2 377.504 L2779.92 377.504 L2779.92 361.995 Q2779.92 358.245 2778.6 356.462 Q2777.28 354.657 2774.53 354.657 Q2771.26 354.657 2769.34 356.879 Q2767.42 359.078 2767.42 362.851 L2767.42 377.504 L2763.14 377.504 L2763.14 351.578 L2767.42 351.578 L2767.42 355.606 Q2768.88 353.221 2770.92 352.087 Q2772.95 350.953 2775.75 350.953 Q2778.58 350.953 2780.55 352.388 Q2782.54 353.823 2783.49 356.555 Z\" fill=\"#000000\" fill-rule=\"evenodd\" fill-opacity=\"1\" /><path clip-path=\"url(#clip080)\" d=\"M2809.48 351.578 L2813.74 351.578 L2813.74 377.504 L2809.48 377.504 L2809.48 351.578 M2809.48 341.485 L2813.74 341.485 L2813.74 346.879 L2809.48 346.879 L2809.48 341.485 Z\" fill=\"#000000\" fill-rule=\"evenodd\" fill-opacity=\"1\" /><path clip-path=\"url(#clip080)\" d=\"M2839.71 355.513 L2839.71 341.485 L2843.97 341.485 L2843.97 377.504 L2839.71 377.504 L2839.71 373.615 Q2838.37 375.93 2836.31 377.064 Q2834.27 378.175 2831.4 378.175 Q2826.7 378.175 2823.74 374.425 Q2820.8 370.675 2820.8 364.564 Q2820.8 358.453 2823.74 354.703 Q2826.7 350.953 2831.4 350.953 Q2834.27 350.953 2836.31 352.087 Q2838.37 353.198 2839.71 355.513 M2825.2 364.564 Q2825.2 369.263 2827.12 371.948 Q2829.06 374.61 2832.44 374.61 Q2835.82 374.61 2837.77 371.948 Q2839.71 369.263 2839.71 364.564 Q2839.71 359.865 2837.77 357.203 Q2835.82 354.518 2832.44 354.518 Q2829.06 354.518 2827.12 357.203 Q2825.2 359.865 2825.2 364.564 Z\" fill=\"#000000\" fill-rule=\"evenodd\" fill-opacity=\"1\" /><path clip-path=\"url(#clip080)\" d=\"M2856.86 373.615 L2856.86 387.365 L2852.58 387.365 L2852.58 351.578 L2856.86 351.578 L2856.86 355.513 Q2858.21 353.198 2860.24 352.087 Q2862.3 350.953 2865.15 350.953 Q2869.87 350.953 2872.81 354.703 Q2875.78 358.453 2875.78 364.564 Q2875.78 370.675 2872.81 374.425 Q2869.87 378.175 2865.15 378.175 Q2862.3 378.175 2860.24 377.064 Q2858.21 375.93 2856.86 373.615 M2871.36 364.564 Q2871.36 359.865 2869.41 357.203 Q2867.49 354.518 2864.11 354.518 Q2860.73 354.518 2858.79 357.203 Q2856.86 359.865 2856.86 364.564 Q2856.86 369.263 2858.79 371.948 Q2860.73 374.61 2864.11 374.61 Q2867.49 374.61 2869.41 371.948 Q2871.36 369.263 2871.36 364.564 Z\" fill=\"#000000\" fill-rule=\"evenodd\" fill-opacity=\"1\" /><path clip-path=\"url(#clip080)\" d=\"M2892.88 354.564 Q2889.46 354.564 2887.47 357.249 Q2885.48 359.911 2885.48 364.564 Q2885.48 369.217 2887.44 371.902 Q2889.43 374.564 2892.88 374.564 Q2896.29 374.564 2898.28 371.879 Q2900.27 369.194 2900.27 364.564 Q2900.27 359.958 2898.28 357.272 Q2896.29 354.564 2892.88 354.564 M2892.88 350.953 Q2898.44 350.953 2901.61 354.564 Q2904.78 358.175 2904.78 364.564 Q2904.78 370.93 2901.61 374.564 Q2898.44 378.175 2892.88 378.175 Q2887.3 378.175 2884.13 374.564 Q2880.99 370.93 2880.99 364.564 Q2880.99 358.175 2884.13 354.564 Q2887.3 350.953 2892.88 350.953 Z\" fill=\"#000000\" fill-rule=\"evenodd\" fill-opacity=\"1\" /><path clip-path=\"url(#clip080)\" d=\"M2911.84 351.578 L2916.1 351.578 L2916.1 377.504 L2911.84 377.504 L2911.84 351.578 M2911.84 341.485 L2916.1 341.485 L2916.1 346.879 L2911.84 346.879 L2911.84 341.485 Z\" fill=\"#000000\" fill-rule=\"evenodd\" fill-opacity=\"1\" /><path clip-path=\"url(#clip080)\" d=\"M2946.56 361.856 L2946.56 377.504 L2942.3 377.504 L2942.3 361.995 Q2942.3 358.314 2940.87 356.485 Q2939.43 354.657 2936.56 354.657 Q2933.11 354.657 2931.12 356.856 Q2929.13 359.055 2929.13 362.851 L2929.13 377.504 L2924.85 377.504 L2924.85 351.578 L2929.13 351.578 L2929.13 355.606 Q2930.66 353.268 2932.72 352.11 Q2934.8 350.953 2937.51 350.953 Q2941.98 350.953 2944.27 353.731 Q2946.56 356.485 2946.56 361.856 Z\" fill=\"#000000\" fill-rule=\"evenodd\" fill-opacity=\"1\" /><path clip-path=\"url(#clip080)\" d=\"M2959.27 344.217 L2959.27 351.578 L2968.04 351.578 L2968.04 354.888 L2959.27 354.888 L2959.27 368.962 Q2959.27 372.133 2960.13 373.036 Q2961.01 373.939 2963.67 373.939 L2968.04 373.939 L2968.04 377.504 L2963.67 377.504 Q2958.74 377.504 2956.86 375.675 Q2954.99 373.823 2954.99 368.962 L2954.99 354.888 L2951.86 354.888 L2951.86 351.578 L2954.99 351.578 L2954.99 344.217 L2959.27 344.217 Z\" fill=\"#000000\" fill-rule=\"evenodd\" fill-opacity=\"1\" /><polyline clip-path=\"url(#clip080)\" style=\"stroke:#ac8d18; stroke-linecap:butt; stroke-linejoin:round; stroke-width:4; stroke-opacity:1; fill:none\" points=\"\n",
       "  2337.92,412.064 2530.67,412.064 \n",
       "  \"/>\n",
       "<path clip-path=\"url(#clip080)\" d=\"M2579.3 393.325 L2579.3 396.867 L2575.22 396.867 Q2572.93 396.867 2572.03 397.793 Q2571.15 398.719 2571.15 401.126 L2571.15 403.418 L2578.16 403.418 L2578.16 406.728 L2571.15 406.728 L2571.15 429.344 L2566.87 429.344 L2566.87 406.728 L2562.79 406.728 L2562.79 403.418 L2566.87 403.418 L2566.87 401.612 Q2566.87 397.284 2568.88 395.316 Q2570.89 393.325 2575.27 393.325 L2579.3 393.325 Z\" fill=\"#000000\" fill-rule=\"evenodd\" fill-opacity=\"1\" /><path clip-path=\"url(#clip080)\" d=\"M2582.86 403.418 L2587.12 403.418 L2587.12 429.344 L2582.86 429.344 L2582.86 403.418 M2582.86 393.325 L2587.12 393.325 L2587.12 398.719 L2582.86 398.719 L2582.86 393.325 Z\" fill=\"#000000\" fill-rule=\"evenodd\" fill-opacity=\"1\" /><path clip-path=\"url(#clip080)\" d=\"M2600.25 396.057 L2600.25 403.418 L2609.02 403.418 L2609.02 406.728 L2600.25 406.728 L2600.25 420.802 Q2600.25 423.973 2601.1 424.876 Q2601.98 425.779 2604.64 425.779 L2609.02 425.779 L2609.02 429.344 L2604.64 429.344 Q2599.71 429.344 2597.84 427.515 Q2595.96 425.663 2595.96 420.802 L2595.96 406.728 L2592.84 406.728 L2592.84 403.418 L2595.96 403.418 L2595.96 396.057 L2600.25 396.057 Z\" fill=\"#000000\" fill-rule=\"evenodd\" fill-opacity=\"1\" /><path clip-path=\"url(#clip080)\" d=\"M2633.9 396.057 L2633.9 403.418 L2642.68 403.418 L2642.68 406.728 L2633.9 406.728 L2633.9 420.802 Q2633.9 423.973 2634.76 424.876 Q2635.64 425.779 2638.3 425.779 L2642.68 425.779 L2642.68 429.344 L2638.3 429.344 Q2633.37 429.344 2631.5 427.515 Q2629.62 425.663 2629.62 420.802 L2629.62 406.728 L2626.5 406.728 L2626.5 403.418 L2629.62 403.418 L2629.62 396.057 L2633.9 396.057 Z\" fill=\"#000000\" fill-rule=\"evenodd\" fill-opacity=\"1\" /><path clip-path=\"url(#clip080)\" d=\"M2663.3 407.399 Q2662.58 406.983 2661.73 406.798 Q2660.89 406.589 2659.88 406.589 Q2656.26 406.589 2654.32 408.95 Q2652.4 411.288 2652.4 415.686 L2652.4 429.344 L2648.12 429.344 L2648.12 403.418 L2652.4 403.418 L2652.4 407.446 Q2653.74 405.085 2655.89 403.95 Q2658.05 402.793 2661.13 402.793 Q2661.57 402.793 2662.1 402.862 Q2662.63 402.909 2663.28 403.024 L2663.3 407.399 Z\" fill=\"#000000\" fill-rule=\"evenodd\" fill-opacity=\"1\" /><path clip-path=\"url(#clip080)\" d=\"M2688.9 415.316 L2688.9 417.399 L2669.32 417.399 Q2669.6 421.797 2671.96 424.112 Q2674.34 426.404 2678.58 426.404 Q2681.03 426.404 2683.32 425.802 Q2685.64 425.2 2687.91 423.997 L2687.91 428.024 Q2685.62 428.996 2683.21 429.506 Q2680.8 430.015 2678.32 430.015 Q2672.12 430.015 2668.49 426.404 Q2664.88 422.793 2664.88 416.635 Q2664.88 410.27 2668.3 406.543 Q2671.75 402.793 2677.58 402.793 Q2682.81 402.793 2685.85 406.173 Q2688.9 409.529 2688.9 415.316 M2684.64 414.066 Q2684.6 410.571 2682.68 408.487 Q2680.78 406.404 2677.63 406.404 Q2674.06 406.404 2671.91 408.418 Q2669.78 410.432 2669.46 414.089 L2684.64 414.066 Z\" fill=\"#000000\" fill-rule=\"evenodd\" fill-opacity=\"1\" /><path clip-path=\"url(#clip080)\" d=\"M2717.44 413.696 L2717.44 429.344 L2713.19 429.344 L2713.19 413.835 Q2713.19 410.154 2711.75 408.325 Q2710.31 406.497 2707.44 406.497 Q2704 406.497 2702 408.696 Q2700.01 410.895 2700.01 414.691 L2700.01 429.344 L2695.73 429.344 L2695.73 403.418 L2700.01 403.418 L2700.01 407.446 Q2701.54 405.108 2703.6 403.95 Q2705.69 402.793 2708.39 402.793 Q2712.86 402.793 2715.15 405.571 Q2717.44 408.325 2717.44 413.696 Z\" fill=\"#000000\" fill-rule=\"evenodd\" fill-opacity=\"1\" /><path clip-path=\"url(#clip080)\" d=\"M2743 407.353 L2743 393.325 L2747.26 393.325 L2747.26 429.344 L2743 429.344 L2743 425.455 Q2741.66 427.77 2739.6 428.904 Q2737.56 430.015 2734.69 430.015 Q2729.99 430.015 2727.03 426.265 Q2724.09 422.515 2724.09 416.404 Q2724.09 410.293 2727.03 406.543 Q2729.99 402.793 2734.69 402.793 Q2737.56 402.793 2739.6 403.927 Q2741.66 405.038 2743 407.353 M2728.49 416.404 Q2728.49 421.103 2730.41 423.788 Q2732.35 426.45 2735.73 426.45 Q2739.11 426.45 2741.06 423.788 Q2743 421.103 2743 416.404 Q2743 411.705 2741.06 409.043 Q2739.11 406.358 2735.73 406.358 Q2732.35 406.358 2730.41 409.043 Q2728.49 411.705 2728.49 416.404 Z\" fill=\"#000000\" fill-rule=\"evenodd\" fill-opacity=\"1\" /><path clip-path=\"url(#clip080)\" d=\"M2756.03 393.325 L2760.29 393.325 L2760.29 429.344 L2756.03 429.344 L2756.03 393.325 Z\" fill=\"#000000\" fill-rule=\"evenodd\" fill-opacity=\"1\" /><path clip-path=\"url(#clip080)\" d=\"M2769.2 403.418 L2773.46 403.418 L2773.46 429.344 L2769.2 429.344 L2769.2 403.418 M2769.2 393.325 L2773.46 393.325 L2773.46 398.719 L2769.2 398.719 L2769.2 393.325 Z\" fill=\"#000000\" fill-rule=\"evenodd\" fill-opacity=\"1\" /><path clip-path=\"url(#clip080)\" d=\"M2803.93 413.696 L2803.93 429.344 L2799.67 429.344 L2799.67 413.835 Q2799.67 410.154 2798.23 408.325 Q2796.8 406.497 2793.93 406.497 Q2790.48 406.497 2788.49 408.696 Q2786.49 410.895 2786.49 414.691 L2786.49 429.344 L2782.21 429.344 L2782.21 403.418 L2786.49 403.418 L2786.49 407.446 Q2788.02 405.108 2790.08 403.95 Q2792.17 402.793 2794.87 402.793 Q2799.34 402.793 2801.63 405.571 Q2803.93 408.325 2803.93 413.696 Z\" fill=\"#000000\" fill-rule=\"evenodd\" fill-opacity=\"1\" /><path clip-path=\"url(#clip080)\" d=\"M2834.6 415.316 L2834.6 417.399 L2815.01 417.399 Q2815.29 421.797 2817.65 424.112 Q2820.04 426.404 2824.27 426.404 Q2826.73 426.404 2829.02 425.802 Q2831.33 425.2 2833.6 423.997 L2833.6 428.024 Q2831.31 428.996 2828.9 429.506 Q2826.49 430.015 2824.02 430.015 Q2817.81 430.015 2814.18 426.404 Q2810.57 422.793 2810.57 416.635 Q2810.57 410.27 2813.99 406.543 Q2817.44 402.793 2823.28 402.793 Q2828.51 402.793 2831.54 406.173 Q2834.6 409.529 2834.6 415.316 M2830.34 414.066 Q2830.29 410.571 2828.37 408.487 Q2826.47 406.404 2823.32 406.404 Q2819.76 406.404 2817.61 408.418 Q2815.48 410.432 2815.15 414.089 L2830.34 414.066 Z\" fill=\"#000000\" fill-rule=\"evenodd\" fill-opacity=\"1\" /></svg>\n"
      ]
     },
     "metadata": {},
     "output_type": "display_data"
    },
    {
     "name": "stdout",
     "output_type": "stream",
     "text": [
      "  0.000152 seconds (378 allocations: 48.641 KiB)\n",
      "(k, predicted_saturation) = (7, 0.0579833984375)\n"
     ]
    }
   ],
   "source": [
    "ks = Primes.primes(3, 31)\n",
    "# ks = Primes.primes(11, 31)\n",
    "minimum_k = first(ks)\n",
    "minimum_saturation = Inf\n",
    "midpoint = Inf\n",
    "for k in ks\n",
    "    kmer_type = BioSequences.DNAMer{k}\n",
    "    kmers_to_assess = 10_000_000\n",
    "    sampling_points, kmer_counts, read_entire_file = assess_kmer_saturation(fastq_file, kmer_type, kmers_to_assess=kmers_to_assess, power=power)\n",
    "#     observed_midpoint_index = findfirst(i -> kmer_counts[i] > last(kmer_counts)/2, 1:length(sampling_points))\n",
    "#     observed_midpoint = sampling_points[observed_midpoint_index]\n",
    "    initial_parameters = Float64[maximum(kmer_counts), 1.0]\n",
    "    @time fit = LsqFit.curve_fit(calculate_v, sampling_points, kmer_counts, initial_parameters)\n",
    "    inferred_kmer_count = Int(ceil(fit.param[1]))\n",
    "    inferred_midpoint = Int(ceil(fit.param[2]))\n",
    "    predicted_saturation = inferred_kmer_count / max_canonical_kmers(kmer_type)\n",
    "    \n",
    "    if read_entire_file\n",
    "        predicted_saturation = last(kmer_counts)/max_canonical_kmers(kmer_type)\n",
    "    end\n",
    "    \n",
    "    @show k, predicted_saturation\n",
    "    \n",
    "    p = StatsPlots.scatter(\n",
    "        sampling_points,\n",
    "        kmer_counts,\n",
    "        label=\"observed kmer counts\",\n",
    "        ylabel=\"# unique kmers\",\n",
    "        xlabel=\"# kmers assessed\",\n",
    "        title = \"sequencing saturation @ k = $k\",\n",
    "        legend=:outertopright,\n",
    "        size=(800, 400)\n",
    "        )\n",
    "    StatsPlots.hline!(p, [max_canonical_kmers(kmer_type)], label=\"absolute maximum\")\n",
    "    StatsPlots.hline!(p, [inferred_kmer_count], label=\"inferred maximum\")\n",
    "    StatsPlots.vline!(p, [inferred_midpoint], label=\"inferred midpoint\")\n",
    "    xs = sort([sampling_points..., inferred_midpoint])\n",
    "    ys = calculate_v(xs, fit.param)\n",
    "    StatsPlots.plot!(\n",
    "        p,\n",
    "        xs,\n",
    "        ys,\n",
    "        label=\"fit trendline\")\n",
    "    display(p)\n",
    "    \n",
    "    if predicted_saturation < minimum_saturation\n",
    "        minimum_saturation = predicted_saturation\n",
    "        minimum_k = k\n",
    "        midpoint = inferred_midpoint \n",
    "    end\n",
    "    if predicted_saturation < 0.1\n",
    "        break\n",
    "    end\n",
    "end"
   ]
  },
  {
   "cell_type": "code",
   "execution_count": 148,
   "id": "10bf4b2e-df28-4106-96b0-8e231624976d",
   "metadata": {},
   "outputs": [
    {
     "data": {
      "text/plain": [
       "1236"
      ]
     },
     "execution_count": 148,
     "metadata": {},
     "output_type": "execute_result"
    }
   ],
   "source": [
    "kmers_to_write = midpoint"
   ]
  },
  {
   "cell_type": "code",
   "execution_count": 149,
   "id": "01ddc0f5-7df5-4382-8247-d68d9506ee7a",
   "metadata": {},
   "outputs": [
    {
     "data": {
      "text/plain": [
       "7"
      ]
     },
     "execution_count": 149,
     "metadata": {},
     "output_type": "execute_result"
    }
   ],
   "source": [
    "k = minimum_k"
   ]
  },
  {
   "cell_type": "code",
   "execution_count": 150,
   "id": "687a2e49-9c95-4f4d-859f-ff9f3db23654",
   "metadata": {},
   "outputs": [
    {
     "data": {
      "text/plain": [
       "BioSequences.DNAMer{7} (alias for BioSequences.Mer{BioSequences.DNAAlphabet{2}, 7})"
      ]
     },
     "execution_count": 150,
     "metadata": {},
     "output_type": "execute_result"
    }
   ],
   "source": [
    "kmer_type = BioSequences.DNAMer{k}\n",
    "# kmers_per_read = read_lengths .- k .+ 1\n",
    "# total_kmers = sum(kmers_per_read)"
   ]
  },
  {
   "cell_type": "code",
   "execution_count": null,
   "id": "ba6c0e02-1711-444d-8d8f-5df37613199a",
   "metadata": {},
   "outputs": [],
   "source": [
    "# plot kmer spectra frequency"
   ]
  },
  {
   "cell_type": "code",
   "execution_count": 155,
   "id": "1582e3f7-ff45-43a2-a623-c79e2b488878",
   "metadata": {},
   "outputs": [
    {
     "name": "stdout",
     "output_type": "stream",
     "text": [
      "  0.601756 seconds (640.86 k allocations: 36.279 MiB, 82.44% compilation time)\n"
     ]
    },
    {
     "data": {
      "text/plain": [
       "OrderedCollections.OrderedDict{BioSequences.DNAMer{7}, Int64} with 475 entries:\n",
       "  AAAAGCT => 1\n",
       "  AAAATTC => 1\n",
       "  AAAATTG => 1\n",
       "  AAAATTT => 5\n",
       "  AAACGGG => 1\n",
       "  AAAGCGC => 1\n",
       "  AAAGCTT => 1\n",
       "  AAAGGAC => 1\n",
       "  AAATAGA => 1\n",
       "  AAATTCT => 1\n",
       "  AAATTGC => 1\n",
       "  AAATTTC => 1\n",
       "  AAATTTG => 8\n",
       "  AACAAAT => 1\n",
       "  AACCCCC => 1\n",
       "  AACCTCG => 2\n",
       "  AACGGGA => 1\n",
       "  AACTCCC => 6\n",
       "  AACTGCC => 1\n",
       "  AAGAAGC => 1\n",
       "  AAGAATT => 1\n",
       "  AAGATCG => 9\n",
       "  AAGCAAA => 6\n",
       "  AAGCAAG => 1\n",
       "  AAGCAAT => 1\n",
       "  ⋮       => ⋮"
      ]
     },
     "execution_count": 155,
     "metadata": {},
     "output_type": "execute_result"
    }
   ],
   "source": [
    "# 691.364224 seconds\n",
    "@time kmer_counts = Mycelia.count_canonical_kmers(kmer_type, fastq_file)"
   ]
  },
  {
   "cell_type": "code",
   "execution_count": 156,
   "id": "e26a234e-4a7a-49fc-9f9b-3724bda7d4f6",
   "metadata": {},
   "outputs": [
    {
     "data": {
      "image/svg+xml": [
       "<?xml version=\"1.0\" encoding=\"utf-8\"?>\n",
       "<svg xmlns=\"http://www.w3.org/2000/svg\" xmlns:xlink=\"http://www.w3.org/1999/xlink\" width=\"600\" height=\"400\" viewBox=\"0 0 2400 1600\">\n",
       "<defs>\n",
       "  <clipPath id=\"clip120\">\n",
       "    <rect x=\"0\" y=\"0\" width=\"2400\" height=\"1600\"/>\n",
       "  </clipPath>\n",
       "</defs>\n",
       "<path clip-path=\"url(#clip120)\" d=\"\n",
       "M0 1600 L2400 1600 L2400 0 L0 0  Z\n",
       "  \" fill=\"#ffffff\" fill-rule=\"evenodd\" fill-opacity=\"1\"/>\n",
       "<defs>\n",
       "  <clipPath id=\"clip121\">\n",
       "    <rect x=\"480\" y=\"0\" width=\"1681\" height=\"1600\"/>\n",
       "  </clipPath>\n",
       "</defs>\n",
       "<path clip-path=\"url(#clip120)\" d=\"\n",
       "M175.445 1423.18 L2352.76 1423.18 L2352.76 47.2441 L175.445 47.2441  Z\n",
       "  \" fill=\"#ffffff\" fill-rule=\"evenodd\" fill-opacity=\"1\"/>\n",
       "<defs>\n",
       "  <clipPath id=\"clip122\">\n",
       "    <rect x=\"175\" y=\"47\" width=\"2178\" height=\"1377\"/>\n",
       "  </clipPath>\n",
       "</defs>\n",
       "<polyline clip-path=\"url(#clip122)\" style=\"stroke:#000000; stroke-linecap:butt; stroke-linejoin:round; stroke-width:2; stroke-opacity:0.1; fill:none\" points=\"\n",
       "  175.445,1423.18 175.445,47.2441 \n",
       "  \"/>\n",
       "<polyline clip-path=\"url(#clip122)\" style=\"stroke:#000000; stroke-linecap:butt; stroke-linejoin:round; stroke-width:2; stroke-opacity:0.1; fill:none\" points=\"\n",
       "  856.445,1423.18 856.445,47.2441 \n",
       "  \"/>\n",
       "<polyline clip-path=\"url(#clip122)\" style=\"stroke:#000000; stroke-linecap:butt; stroke-linejoin:round; stroke-width:2; stroke-opacity:0.1; fill:none\" points=\"\n",
       "  1537.45,1423.18 1537.45,47.2441 \n",
       "  \"/>\n",
       "<polyline clip-path=\"url(#clip122)\" style=\"stroke:#000000; stroke-linecap:butt; stroke-linejoin:round; stroke-width:2; stroke-opacity:0.1; fill:none\" points=\"\n",
       "  2218.45,1423.18 2218.45,47.2441 \n",
       "  \"/>\n",
       "<polyline clip-path=\"url(#clip120)\" style=\"stroke:#000000; stroke-linecap:butt; stroke-linejoin:round; stroke-width:4; stroke-opacity:1; fill:none\" points=\"\n",
       "  175.445,1423.18 2352.76,1423.18 \n",
       "  \"/>\n",
       "<polyline clip-path=\"url(#clip120)\" style=\"stroke:#000000; stroke-linecap:butt; stroke-linejoin:round; stroke-width:4; stroke-opacity:1; fill:none\" points=\"\n",
       "  175.445,1423.18 175.445,1404.28 \n",
       "  \"/>\n",
       "<polyline clip-path=\"url(#clip120)\" style=\"stroke:#000000; stroke-linecap:butt; stroke-linejoin:round; stroke-width:4; stroke-opacity:1; fill:none\" points=\"\n",
       "  856.445,1423.18 856.445,1404.28 \n",
       "  \"/>\n",
       "<polyline clip-path=\"url(#clip120)\" style=\"stroke:#000000; stroke-linecap:butt; stroke-linejoin:round; stroke-width:4; stroke-opacity:1; fill:none\" points=\"\n",
       "  1537.45,1423.18 1537.45,1404.28 \n",
       "  \"/>\n",
       "<polyline clip-path=\"url(#clip120)\" style=\"stroke:#000000; stroke-linecap:butt; stroke-linejoin:round; stroke-width:4; stroke-opacity:1; fill:none\" points=\"\n",
       "  2218.45,1423.18 2218.45,1404.28 \n",
       "  \"/>\n",
       "<path clip-path=\"url(#clip120)\" d=\"M175.445 1452.37 Q171.834 1452.37 170.005 1455.94 Q168.2 1459.48 168.2 1466.61 Q168.2 1473.71 170.005 1477.28 Q171.834 1480.82 175.445 1480.82 Q179.079 1480.82 180.885 1477.28 Q182.714 1473.71 182.714 1466.61 Q182.714 1459.48 180.885 1455.94 Q179.079 1452.37 175.445 1452.37 M175.445 1448.67 Q181.255 1448.67 184.311 1453.27 Q187.39 1457.86 187.39 1466.61 Q187.39 1475.33 184.311 1479.94 Q181.255 1484.52 175.445 1484.52 Q169.635 1484.52 166.556 1479.94 Q163.501 1475.33 163.501 1466.61 Q163.501 1457.86 166.556 1453.27 Q169.635 1448.67 175.445 1448.67 Z\" fill=\"#000000\" fill-rule=\"evenodd\" fill-opacity=\"1\" /><path clip-path=\"url(#clip120)\" d=\"M846.827 1479.92 L854.466 1479.92 L854.466 1453.55 L846.156 1455.22 L846.156 1450.96 L854.42 1449.29 L859.096 1449.29 L859.096 1479.92 L866.735 1479.92 L866.735 1483.85 L846.827 1483.85 L846.827 1479.92 Z\" fill=\"#000000\" fill-rule=\"evenodd\" fill-opacity=\"1\" /><path clip-path=\"url(#clip120)\" d=\"M1532.1 1479.92 L1548.42 1479.92 L1548.42 1483.85 L1526.47 1483.85 L1526.47 1479.92 Q1529.14 1477.16 1533.72 1472.53 Q1538.33 1467.88 1539.51 1466.54 Q1541.75 1464.01 1542.63 1462.28 Q1543.53 1460.52 1543.53 1458.83 Q1543.53 1456.07 1541.59 1454.34 Q1539.67 1452.6 1536.57 1452.6 Q1534.37 1452.6 1531.91 1453.37 Q1529.48 1454.13 1526.71 1455.68 L1526.71 1450.96 Q1529.53 1449.82 1531.98 1449.25 Q1534.44 1448.67 1536.47 1448.67 Q1541.84 1448.67 1545.04 1451.35 Q1548.23 1454.04 1548.23 1458.53 Q1548.23 1460.66 1547.42 1462.58 Q1546.64 1464.48 1544.53 1467.07 Q1543.95 1467.74 1540.85 1470.96 Q1537.75 1474.15 1532.1 1479.92 Z\" fill=\"#000000\" fill-rule=\"evenodd\" fill-opacity=\"1\" /><path clip-path=\"url(#clip120)\" d=\"M2222.69 1465.22 Q2226.05 1465.94 2227.93 1468.2 Q2229.82 1470.47 2229.82 1473.81 Q2229.82 1478.92 2226.3 1481.72 Q2222.79 1484.52 2216.3 1484.52 Q2214.13 1484.52 2211.81 1484.08 Q2209.52 1483.67 2207.07 1482.81 L2207.07 1478.3 Q2209.01 1479.43 2211.33 1480.01 Q2213.64 1480.59 2216.17 1480.59 Q2220.56 1480.59 2222.86 1478.85 Q2225.17 1477.12 2225.17 1473.81 Q2225.17 1470.75 2223.02 1469.04 Q2220.89 1467.3 2217.07 1467.3 L2213.04 1467.3 L2213.04 1463.46 L2217.25 1463.46 Q2220.7 1463.46 2222.53 1462.09 Q2224.36 1460.7 2224.36 1458.11 Q2224.36 1455.45 2222.46 1454.04 Q2220.59 1452.6 2217.07 1452.6 Q2215.15 1452.6 2212.95 1453.02 Q2210.75 1453.44 2208.11 1454.31 L2208.11 1450.15 Q2210.77 1449.41 2213.09 1449.04 Q2215.43 1448.67 2217.49 1448.67 Q2222.81 1448.67 2225.91 1451.1 Q2229.01 1453.5 2229.01 1457.63 Q2229.01 1460.5 2227.37 1462.49 Q2225.73 1464.45 2222.69 1465.22 Z\" fill=\"#000000\" fill-rule=\"evenodd\" fill-opacity=\"1\" /><path clip-path=\"url(#clip120)\" d=\"M869.936 1518.52 L875.792 1518.52 L875.792 1568.04 L869.936 1568.04 L869.936 1518.52 Z\" fill=\"#000000\" fill-rule=\"evenodd\" fill-opacity=\"1\" /><path clip-path=\"url(#clip120)\" d=\"M901.86 1536.5 Q897.149 1536.5 894.412 1540.19 Q891.675 1543.85 891.675 1550.25 Q891.675 1556.65 894.38 1560.34 Q897.118 1564 901.86 1564 Q906.539 1564 909.276 1560.31 Q912.013 1556.62 912.013 1550.25 Q912.013 1543.92 909.276 1540.23 Q906.539 1536.5 901.86 1536.5 M901.86 1531.54 Q909.499 1531.54 913.859 1536.5 Q918.22 1541.47 918.22 1550.25 Q918.22 1559 913.859 1564 Q909.499 1568.97 901.86 1568.97 Q894.189 1568.97 889.829 1564 Q885.5 1559 885.5 1550.25 Q885.5 1541.47 889.829 1536.5 Q894.189 1531.54 901.86 1531.54 Z\" fill=\"#000000\" fill-rule=\"evenodd\" fill-opacity=\"1\" /><path clip-path=\"url(#clip120)\" d=\"M951.385 1549.81 Q951.385 1543.44 948.743 1539.94 Q946.134 1536.44 941.391 1536.44 Q936.68 1536.44 934.039 1539.94 Q931.429 1543.44 931.429 1549.81 Q931.429 1556.14 934.039 1559.64 Q936.68 1563.14 941.391 1563.14 Q946.134 1563.14 948.743 1559.64 Q951.385 1556.14 951.385 1549.81 M957.242 1563.62 Q957.242 1572.72 953.199 1577.15 Q949.157 1581.6 940.818 1581.6 Q937.731 1581.6 934.994 1581.13 Q932.256 1580.68 929.678 1579.72 L929.678 1574.03 Q932.256 1575.43 934.771 1576.1 Q937.285 1576.76 939.895 1576.76 Q945.656 1576.76 948.521 1573.74 Q951.385 1570.75 951.385 1564.67 L951.385 1561.77 Q949.571 1564.92 946.738 1566.48 Q943.906 1568.04 939.959 1568.04 Q933.402 1568.04 929.392 1563.05 Q925.381 1558.05 925.381 1549.81 Q925.381 1541.53 929.392 1536.53 Q933.402 1531.54 939.959 1531.54 Q943.906 1531.54 946.738 1533.1 Q949.571 1534.66 951.385 1537.81 L951.385 1532.4 L957.242 1532.4 L957.242 1563.62 Z\" fill=\"#000000\" fill-rule=\"evenodd\" fill-opacity=\"1\" /><path clip-path=\"url(#clip120)\" d=\"M983.373 1518.58 Q979.108 1525.9 977.039 1533.06 Q974.97 1540.23 974.97 1547.58 Q974.97 1554.93 977.039 1562.16 Q979.14 1569.35 983.373 1576.64 L978.28 1576.64 Q973.506 1569.16 971.119 1561.93 Q968.764 1554.71 968.764 1547.58 Q968.764 1540.48 971.119 1533.29 Q973.474 1526.09 978.28 1518.58 L983.373 1518.58 Z\" fill=\"#000000\" fill-rule=\"evenodd\" fill-opacity=\"1\" /><path clip-path=\"url(#clip120)\" d=\"M1008.55 1536.5 Q1003.84 1536.5 1001.1 1540.19 Q998.364 1543.85 998.364 1550.25 Q998.364 1556.65 1001.07 1560.34 Q1003.81 1564 1008.55 1564 Q1013.23 1564 1015.97 1560.31 Q1018.7 1556.62 1018.7 1550.25 Q1018.7 1543.92 1015.97 1540.23 Q1013.23 1536.5 1008.55 1536.5 M1008.55 1531.54 Q1016.19 1531.54 1020.55 1536.5 Q1024.91 1541.47 1024.91 1550.25 Q1024.91 1559 1020.55 1564 Q1016.19 1568.97 1008.55 1568.97 Q1000.88 1568.97 996.518 1564 Q992.189 1559 992.189 1550.25 Q992.189 1541.47 996.518 1536.5 Q1000.88 1531.54 1008.55 1531.54 Z\" fill=\"#000000\" fill-rule=\"evenodd\" fill-opacity=\"1\" /><path clip-path=\"url(#clip120)\" d=\"M1060.21 1550.25 Q1060.21 1543.79 1057.53 1540.13 Q1054.89 1536.44 1050.24 1536.44 Q1045.6 1536.44 1042.92 1540.13 Q1040.28 1543.79 1040.28 1550.25 Q1040.28 1556.71 1042.92 1560.4 Q1045.6 1564.07 1050.24 1564.07 Q1054.89 1564.07 1057.53 1560.4 Q1060.21 1556.71 1060.21 1550.25 M1040.28 1537.81 Q1042.13 1534.62 1044.93 1533.1 Q1047.76 1531.54 1051.68 1531.54 Q1058.17 1531.54 1062.21 1536.69 Q1066.29 1541.85 1066.29 1550.25 Q1066.29 1558.65 1062.21 1563.81 Q1058.17 1568.97 1051.68 1568.97 Q1047.76 1568.97 1044.93 1567.44 Q1042.13 1565.88 1040.28 1562.7 L1040.28 1568.04 L1034.39 1568.04 L1034.39 1518.52 L1040.28 1518.52 L1040.28 1537.81 Z\" fill=\"#000000\" fill-rule=\"evenodd\" fill-opacity=\"1\" /><path clip-path=\"url(#clip120)\" d=\"M1098.72 1533.45 L1098.72 1538.98 Q1096.24 1537.71 1093.56 1537.07 Q1090.89 1536.44 1088.03 1536.44 Q1083.66 1536.44 1081.47 1537.77 Q1079.3 1539.11 1079.3 1541.79 Q1079.3 1543.82 1080.86 1545 Q1082.42 1546.15 1087.13 1547.2 L1089.14 1547.64 Q1095.38 1548.98 1097.99 1551.43 Q1100.63 1553.85 1100.63 1558.21 Q1100.63 1563.17 1096.68 1566.07 Q1092.77 1568.97 1085.89 1568.97 Q1083.03 1568.97 1079.91 1568.39 Q1076.82 1567.85 1073.38 1566.74 L1073.38 1560.69 Q1076.63 1562.38 1079.78 1563.24 Q1082.93 1564.07 1086.02 1564.07 Q1090.16 1564.07 1092.39 1562.66 Q1094.61 1561.23 1094.61 1558.65 Q1094.61 1556.27 1092.99 1554.99 Q1091.4 1553.72 1085.96 1552.54 L1083.92 1552.07 Q1078.48 1550.92 1076.06 1548.56 Q1073.64 1546.18 1073.64 1542.04 Q1073.64 1537.01 1077.2 1534.27 Q1080.77 1531.54 1087.32 1531.54 Q1090.57 1531.54 1093.44 1532.01 Q1096.3 1532.49 1098.72 1533.45 Z\" fill=\"#000000\" fill-rule=\"evenodd\" fill-opacity=\"1\" /><path clip-path=\"url(#clip120)\" d=\"M1140.45 1548.76 L1140.45 1551.62 L1113.52 1551.62 Q1113.9 1557.67 1117.15 1560.85 Q1120.43 1564 1126.25 1564 Q1129.63 1564 1132.78 1563.17 Q1135.96 1562.35 1139.08 1560.69 L1139.08 1566.23 Q1135.93 1567.57 1132.62 1568.27 Q1129.31 1568.97 1125.9 1568.97 Q1117.37 1568.97 1112.37 1564 Q1107.41 1559.04 1107.41 1550.57 Q1107.41 1541.82 1112.12 1536.69 Q1116.86 1531.54 1124.88 1531.54 Q1132.08 1531.54 1136.25 1536.18 Q1140.45 1540.8 1140.45 1548.76 M1134.59 1547.04 Q1134.53 1542.23 1131.88 1539.37 Q1129.27 1536.5 1124.95 1536.5 Q1120.04 1536.5 1117.08 1539.27 Q1114.16 1542.04 1113.71 1547.07 L1134.59 1547.04 Z\" fill=\"#000000\" fill-rule=\"evenodd\" fill-opacity=\"1\" /><path clip-path=\"url(#clip120)\" d=\"M1170.72 1537.87 Q1169.73 1537.3 1168.55 1537.04 Q1167.41 1536.76 1166.01 1536.76 Q1161.04 1536.76 1158.37 1540 Q1155.72 1543.22 1155.72 1549.27 L1155.72 1568.04 L1149.84 1568.04 L1149.84 1532.4 L1155.72 1532.4 L1155.72 1537.93 Q1157.57 1534.69 1160.53 1533.13 Q1163.49 1531.54 1167.72 1531.54 Q1168.33 1531.54 1169.06 1531.63 Q1169.79 1531.7 1170.68 1531.85 L1170.72 1537.87 Z\" fill=\"#000000\" fill-rule=\"evenodd\" fill-opacity=\"1\" /><path clip-path=\"url(#clip120)\" d=\"M1172.66 1532.4 L1178.86 1532.4 L1190 1562.31 L1201.14 1532.4 L1207.35 1532.4 L1193.98 1568.04 L1186.03 1568.04 L1172.66 1532.4 Z\" fill=\"#000000\" fill-rule=\"evenodd\" fill-opacity=\"1\" /><path clip-path=\"url(#clip120)\" d=\"M1245.93 1548.76 L1245.93 1551.62 L1219 1551.62 Q1219.38 1557.67 1222.63 1560.85 Q1225.91 1564 1231.73 1564 Q1235.1 1564 1238.26 1563.17 Q1241.44 1562.35 1244.56 1560.69 L1244.56 1566.23 Q1241.41 1567.57 1238.1 1568.27 Q1234.79 1568.97 1231.38 1568.97 Q1222.85 1568.97 1217.85 1564 Q1212.89 1559.04 1212.89 1550.57 Q1212.89 1541.82 1217.6 1536.69 Q1222.34 1531.54 1230.36 1531.54 Q1237.56 1531.54 1241.73 1536.18 Q1245.93 1540.8 1245.93 1548.76 M1240.07 1547.04 Q1240.01 1542.23 1237.36 1539.37 Q1234.75 1536.5 1230.43 1536.5 Q1225.52 1536.5 1222.56 1539.27 Q1219.64 1542.04 1219.19 1547.07 L1240.07 1547.04 Z\" fill=\"#000000\" fill-rule=\"evenodd\" fill-opacity=\"1\" /><path clip-path=\"url(#clip120)\" d=\"M1279 1537.81 L1279 1518.52 L1284.85 1518.52 L1284.85 1568.04 L1279 1568.04 L1279 1562.7 Q1277.15 1565.88 1274.32 1567.44 Q1271.52 1568.97 1267.57 1568.97 Q1261.11 1568.97 1257.03 1563.81 Q1252.99 1558.65 1252.99 1550.25 Q1252.99 1541.85 1257.03 1536.69 Q1261.11 1531.54 1267.57 1531.54 Q1271.52 1531.54 1274.32 1533.1 Q1277.15 1534.62 1279 1537.81 M1259.04 1550.25 Q1259.04 1556.71 1261.68 1560.4 Q1264.36 1564.07 1269 1564.07 Q1273.65 1564.07 1276.32 1560.4 Q1279 1556.71 1279 1550.25 Q1279 1543.79 1276.32 1540.13 Q1273.65 1536.44 1269 1536.44 Q1264.36 1536.44 1261.68 1540.13 Q1259.04 1543.79 1259.04 1550.25 Z\" fill=\"#000000\" fill-rule=\"evenodd\" fill-opacity=\"1\" /><path clip-path=\"url(#clip120)\" d=\"M1335.68 1518.52 L1335.68 1523.39 L1330.08 1523.39 Q1326.93 1523.39 1325.69 1524.66 Q1324.48 1525.93 1324.48 1529.24 L1324.48 1532.4 L1334.12 1532.4 L1334.12 1536.95 L1324.48 1536.95 L1324.48 1568.04 L1318.59 1568.04 L1318.59 1536.95 L1312.99 1536.95 L1312.99 1532.4 L1318.59 1532.4 L1318.59 1529.91 Q1318.59 1523.96 1321.36 1521.26 Q1324.13 1518.52 1330.14 1518.52 L1335.68 1518.52 Z\" fill=\"#000000\" fill-rule=\"evenodd\" fill-opacity=\"1\" /><path clip-path=\"url(#clip120)\" d=\"M1361.24 1537.87 Q1360.25 1537.3 1359.08 1537.04 Q1357.93 1536.76 1356.53 1536.76 Q1351.57 1536.76 1348.89 1540 Q1346.25 1543.22 1346.25 1549.27 L1346.25 1568.04 L1340.36 1568.04 L1340.36 1532.4 L1346.25 1532.4 L1346.25 1537.93 Q1348.1 1534.69 1351.06 1533.13 Q1354.02 1531.54 1358.25 1531.54 Q1358.85 1531.54 1359.59 1531.63 Q1360.32 1531.7 1361.21 1531.85 L1361.24 1537.87 Z\" fill=\"#000000\" fill-rule=\"evenodd\" fill-opacity=\"1\" /><path clip-path=\"url(#clip120)\" d=\"M1396.44 1548.76 L1396.44 1551.62 L1369.52 1551.62 Q1369.9 1557.67 1373.15 1560.85 Q1376.42 1564 1382.25 1564 Q1385.62 1564 1388.77 1563.17 Q1391.96 1562.35 1395.07 1560.69 L1395.07 1566.23 Q1391.92 1567.57 1388.61 1568.27 Q1385.3 1568.97 1381.9 1568.97 Q1373.37 1568.97 1368.37 1564 Q1363.41 1559.04 1363.41 1550.57 Q1363.41 1541.82 1368.12 1536.69 Q1372.86 1531.54 1380.88 1531.54 Q1388.07 1531.54 1392.24 1536.18 Q1396.44 1540.8 1396.44 1548.76 M1390.59 1547.04 Q1390.52 1542.23 1387.88 1539.37 Q1385.27 1536.5 1380.94 1536.5 Q1376.04 1536.5 1373.08 1539.27 Q1370.15 1542.04 1369.71 1547.07 L1390.59 1547.04 Z\" fill=\"#000000\" fill-rule=\"evenodd\" fill-opacity=\"1\" /><path clip-path=\"url(#clip120)\" d=\"M1409.56 1550.25 Q1409.56 1556.71 1412.2 1560.4 Q1414.87 1564.07 1419.52 1564.07 Q1424.17 1564.07 1426.84 1560.4 Q1429.51 1556.71 1429.51 1550.25 Q1429.51 1543.79 1426.84 1540.13 Q1424.17 1536.44 1419.52 1536.44 Q1414.87 1536.44 1412.2 1540.13 Q1409.56 1543.79 1409.56 1550.25 M1429.51 1562.7 Q1427.67 1565.88 1424.83 1567.44 Q1422.03 1568.97 1418.09 1568.97 Q1411.63 1568.97 1407.55 1563.81 Q1403.51 1558.65 1403.51 1550.25 Q1403.51 1541.85 1407.55 1536.69 Q1411.63 1531.54 1418.09 1531.54 Q1422.03 1531.54 1424.83 1533.1 Q1427.67 1534.62 1429.51 1537.81 L1429.51 1532.4 L1435.37 1532.4 L1435.37 1581.6 L1429.51 1581.6 L1429.51 1562.7 Z\" fill=\"#000000\" fill-rule=\"evenodd\" fill-opacity=\"1\" /><path clip-path=\"url(#clip120)\" d=\"M1446.83 1553.98 L1446.83 1532.4 L1452.68 1532.4 L1452.68 1553.75 Q1452.68 1558.81 1454.66 1561.36 Q1456.63 1563.87 1460.58 1563.87 Q1465.32 1563.87 1468.06 1560.85 Q1470.83 1557.83 1470.83 1552.61 L1470.83 1532.4 L1476.68 1532.4 L1476.68 1568.04 L1470.83 1568.04 L1470.83 1562.57 Q1468.69 1565.82 1465.86 1567.41 Q1463.06 1568.97 1459.34 1568.97 Q1453.19 1568.97 1450.01 1565.15 Q1446.83 1561.33 1446.83 1553.98 M1461.56 1531.54 L1461.56 1531.54 Z\" fill=\"#000000\" fill-rule=\"evenodd\" fill-opacity=\"1\" /><path clip-path=\"url(#clip120)\" d=\"M1519.24 1548.76 L1519.24 1551.62 L1492.31 1551.62 Q1492.69 1557.67 1495.94 1560.85 Q1499.22 1564 1505.04 1564 Q1508.42 1564 1511.57 1563.17 Q1514.75 1562.35 1517.87 1560.69 L1517.87 1566.23 Q1514.72 1567.57 1511.41 1568.27 Q1508.1 1568.97 1504.69 1568.97 Q1496.16 1568.97 1491.17 1564 Q1486.2 1559.04 1486.2 1550.57 Q1486.2 1541.82 1490.91 1536.69 Q1495.65 1531.54 1503.67 1531.54 Q1510.87 1531.54 1515.04 1536.18 Q1519.24 1540.8 1519.24 1548.76 M1513.38 1547.04 Q1513.32 1542.23 1510.68 1539.37 Q1508.07 1536.5 1503.74 1536.5 Q1498.84 1536.5 1495.88 1539.27 Q1492.95 1542.04 1492.5 1547.07 L1513.38 1547.04 Z\" fill=\"#000000\" fill-rule=\"evenodd\" fill-opacity=\"1\" /><path clip-path=\"url(#clip120)\" d=\"M1558.48 1546.53 L1558.48 1568.04 L1552.63 1568.04 L1552.63 1546.72 Q1552.63 1541.66 1550.65 1539.14 Q1548.68 1536.63 1544.73 1536.63 Q1539.99 1536.63 1537.25 1539.65 Q1534.52 1542.68 1534.52 1547.9 L1534.52 1568.04 L1528.63 1568.04 L1528.63 1532.4 L1534.52 1532.4 L1534.52 1537.93 Q1536.62 1534.72 1539.45 1533.13 Q1542.31 1531.54 1546.04 1531.54 Q1552.18 1531.54 1555.33 1535.36 Q1558.48 1539.14 1558.48 1546.53 Z\" fill=\"#000000\" fill-rule=\"evenodd\" fill-opacity=\"1\" /><path clip-path=\"url(#clip120)\" d=\"M1595.82 1533.76 L1595.82 1539.24 Q1593.33 1537.87 1590.82 1537.2 Q1588.34 1536.5 1585.79 1536.5 Q1580.09 1536.5 1576.94 1540.13 Q1573.79 1543.73 1573.79 1550.25 Q1573.79 1556.78 1576.94 1560.4 Q1580.09 1564 1585.79 1564 Q1588.34 1564 1590.82 1563.33 Q1593.33 1562.63 1595.82 1561.26 L1595.82 1566.68 Q1593.37 1567.82 1590.72 1568.39 Q1588.12 1568.97 1585.15 1568.97 Q1577.1 1568.97 1572.36 1563.91 Q1567.62 1558.85 1567.62 1550.25 Q1567.62 1541.53 1572.39 1536.53 Q1577.2 1531.54 1585.54 1531.54 Q1588.24 1531.54 1590.82 1532.11 Q1593.4 1532.65 1595.82 1533.76 Z\" fill=\"#000000\" fill-rule=\"evenodd\" fill-opacity=\"1\" /><path clip-path=\"url(#clip120)\" d=\"M1620.83 1571.35 Q1618.35 1577.72 1616 1579.66 Q1613.64 1581.6 1609.69 1581.6 L1605.02 1581.6 L1605.02 1576.7 L1608.45 1576.7 Q1610.87 1576.7 1612.21 1575.56 Q1613.55 1574.41 1615.17 1570.14 L1616.22 1567.47 L1601.8 1532.4 L1608.01 1532.4 L1619.15 1560.28 L1630.29 1532.4 L1636.49 1532.4 L1620.83 1571.35 Z\" fill=\"#000000\" fill-rule=\"evenodd\" fill-opacity=\"1\" /><path clip-path=\"url(#clip120)\" d=\"M1643.66 1518.58 L1648.75 1518.58 Q1653.52 1526.09 1655.88 1533.29 Q1658.27 1540.48 1658.27 1547.58 Q1658.27 1554.71 1655.88 1561.93 Q1653.52 1569.16 1648.75 1576.64 L1643.66 1576.64 Q1647.89 1569.35 1649.96 1562.16 Q1652.06 1554.93 1652.06 1547.58 Q1652.06 1540.23 1649.96 1533.06 Q1647.89 1525.9 1643.66 1518.58 Z\" fill=\"#000000\" fill-rule=\"evenodd\" fill-opacity=\"1\" /><polyline clip-path=\"url(#clip122)\" style=\"stroke:#000000; stroke-linecap:butt; stroke-linejoin:round; stroke-width:2; stroke-opacity:0.1; fill:none\" points=\"\n",
       "  175.445,1423.18 2352.76,1423.18 \n",
       "  \"/>\n",
       "<polyline clip-path=\"url(#clip122)\" style=\"stroke:#000000; stroke-linecap:butt; stroke-linejoin:round; stroke-width:2; stroke-opacity:0.1; fill:none\" points=\"\n",
       "  175.445,1222.38 2352.76,1222.38 \n",
       "  \"/>\n",
       "<polyline clip-path=\"url(#clip122)\" style=\"stroke:#000000; stroke-linecap:butt; stroke-linejoin:round; stroke-width:2; stroke-opacity:0.1; fill:none\" points=\"\n",
       "  175.445,1021.58 2352.76,1021.58 \n",
       "  \"/>\n",
       "<polyline clip-path=\"url(#clip122)\" style=\"stroke:#000000; stroke-linecap:butt; stroke-linejoin:round; stroke-width:2; stroke-opacity:0.1; fill:none\" points=\"\n",
       "  175.445,820.774 2352.76,820.774 \n",
       "  \"/>\n",
       "<polyline clip-path=\"url(#clip122)\" style=\"stroke:#000000; stroke-linecap:butt; stroke-linejoin:round; stroke-width:2; stroke-opacity:0.1; fill:none\" points=\"\n",
       "  175.445,619.972 2352.76,619.972 \n",
       "  \"/>\n",
       "<polyline clip-path=\"url(#clip122)\" style=\"stroke:#000000; stroke-linecap:butt; stroke-linejoin:round; stroke-width:2; stroke-opacity:0.1; fill:none\" points=\"\n",
       "  175.445,419.17 2352.76,419.17 \n",
       "  \"/>\n",
       "<polyline clip-path=\"url(#clip122)\" style=\"stroke:#000000; stroke-linecap:butt; stroke-linejoin:round; stroke-width:2; stroke-opacity:0.1; fill:none\" points=\"\n",
       "  175.445,218.368 2352.76,218.368 \n",
       "  \"/>\n",
       "<polyline clip-path=\"url(#clip120)\" style=\"stroke:#000000; stroke-linecap:butt; stroke-linejoin:round; stroke-width:4; stroke-opacity:1; fill:none\" points=\"\n",
       "  175.445,1423.18 175.445,47.2441 \n",
       "  \"/>\n",
       "<polyline clip-path=\"url(#clip120)\" style=\"stroke:#000000; stroke-linecap:butt; stroke-linejoin:round; stroke-width:4; stroke-opacity:1; fill:none\" points=\"\n",
       "  175.445,1423.18 194.343,1423.18 \n",
       "  \"/>\n",
       "<polyline clip-path=\"url(#clip120)\" style=\"stroke:#000000; stroke-linecap:butt; stroke-linejoin:round; stroke-width:4; stroke-opacity:1; fill:none\" points=\"\n",
       "  175.445,1222.38 194.343,1222.38 \n",
       "  \"/>\n",
       "<polyline clip-path=\"url(#clip120)\" style=\"stroke:#000000; stroke-linecap:butt; stroke-linejoin:round; stroke-width:4; stroke-opacity:1; fill:none\" points=\"\n",
       "  175.445,1021.58 194.343,1021.58 \n",
       "  \"/>\n",
       "<polyline clip-path=\"url(#clip120)\" style=\"stroke:#000000; stroke-linecap:butt; stroke-linejoin:round; stroke-width:4; stroke-opacity:1; fill:none\" points=\"\n",
       "  175.445,820.774 194.343,820.774 \n",
       "  \"/>\n",
       "<polyline clip-path=\"url(#clip120)\" style=\"stroke:#000000; stroke-linecap:butt; stroke-linejoin:round; stroke-width:4; stroke-opacity:1; fill:none\" points=\"\n",
       "  175.445,619.972 194.343,619.972 \n",
       "  \"/>\n",
       "<polyline clip-path=\"url(#clip120)\" style=\"stroke:#000000; stroke-linecap:butt; stroke-linejoin:round; stroke-width:4; stroke-opacity:1; fill:none\" points=\"\n",
       "  175.445,419.17 194.343,419.17 \n",
       "  \"/>\n",
       "<polyline clip-path=\"url(#clip120)\" style=\"stroke:#000000; stroke-linecap:butt; stroke-linejoin:round; stroke-width:4; stroke-opacity:1; fill:none\" points=\"\n",
       "  175.445,218.368 194.343,218.368 \n",
       "  \"/>\n",
       "<path clip-path=\"url(#clip120)\" d=\"M127.501 1408.98 Q123.89 1408.98 122.061 1412.54 Q120.255 1416.08 120.255 1423.21 Q120.255 1430.32 122.061 1433.89 Q123.89 1437.43 127.501 1437.43 Q131.135 1437.43 132.941 1433.89 Q134.769 1430.32 134.769 1423.21 Q134.769 1416.08 132.941 1412.54 Q131.135 1408.98 127.501 1408.98 M127.501 1405.27 Q133.311 1405.27 136.367 1409.88 Q139.445 1414.46 139.445 1423.21 Q139.445 1431.94 136.367 1436.55 Q133.311 1441.13 127.501 1441.13 Q121.691 1441.13 118.612 1436.55 Q115.556 1431.94 115.556 1423.21 Q115.556 1414.46 118.612 1409.88 Q121.691 1405.27 127.501 1405.27 Z\" fill=\"#000000\" fill-rule=\"evenodd\" fill-opacity=\"1\" /><path clip-path=\"url(#clip120)\" d=\"M119.538 1235.72 L127.177 1235.72 L127.177 1209.36 L118.867 1211.02 L118.867 1206.76 L127.13 1205.1 L131.806 1205.1 L131.806 1235.72 L139.445 1235.72 L139.445 1239.66 L119.538 1239.66 L119.538 1235.72 Z\" fill=\"#000000\" fill-rule=\"evenodd\" fill-opacity=\"1\" /><path clip-path=\"url(#clip120)\" d=\"M123.126 1034.92 L139.445 1034.92 L139.445 1038.86 L117.501 1038.86 L117.501 1034.92 Q120.163 1032.17 124.746 1027.54 Q129.353 1022.88 130.533 1021.54 Q132.779 1019.02 133.658 1017.28 Q134.561 1015.52 134.561 1013.83 Q134.561 1011.08 132.617 1009.34 Q130.695 1007.61 127.593 1007.61 Q125.394 1007.61 122.941 1008.37 Q120.51 1009.13 117.732 1010.68 L117.732 1005.96 Q120.556 1004.83 123.01 1004.25 Q125.464 1003.67 127.501 1003.67 Q132.871 1003.67 136.066 1006.36 Q139.26 1009.04 139.26 1013.53 Q139.26 1015.66 138.45 1017.58 Q137.663 1019.48 135.556 1022.07 Q134.978 1022.74 131.876 1025.96 Q128.774 1029.16 123.126 1034.92 Z\" fill=\"#000000\" fill-rule=\"evenodd\" fill-opacity=\"1\" /><path clip-path=\"url(#clip120)\" d=\"M132.316 819.42 Q135.672 820.137 137.547 822.406 Q139.445 824.674 139.445 828.008 Q139.445 833.123 135.927 835.924 Q132.408 838.725 125.927 838.725 Q123.751 838.725 121.436 838.285 Q119.144 837.869 116.691 837.012 L116.691 832.498 Q118.635 833.633 120.95 834.211 Q123.265 834.79 125.788 834.79 Q130.186 834.79 132.478 833.054 Q134.792 831.318 134.792 828.008 Q134.792 824.952 132.64 823.239 Q130.51 821.503 126.691 821.503 L122.663 821.503 L122.663 817.661 L126.876 817.661 Q130.325 817.661 132.154 816.295 Q133.982 814.906 133.982 812.313 Q133.982 809.651 132.084 808.239 Q130.209 806.804 126.691 806.804 Q124.769 806.804 122.57 807.221 Q120.371 807.637 117.732 808.517 L117.732 804.35 Q120.394 803.61 122.709 803.239 Q125.047 802.869 127.107 802.869 Q132.431 802.869 135.533 805.299 Q138.635 807.707 138.635 811.827 Q138.635 814.698 136.992 816.688 Q135.348 818.656 132.316 819.42 Z\" fill=\"#000000\" fill-rule=\"evenodd\" fill-opacity=\"1\" /><path clip-path=\"url(#clip120)\" d=\"M129.862 606.766 L118.056 625.215 L129.862 625.215 L129.862 606.766 M128.635 602.692 L134.515 602.692 L134.515 625.215 L139.445 625.215 L139.445 629.104 L134.515 629.104 L134.515 637.252 L129.862 637.252 L129.862 629.104 L114.26 629.104 L114.26 624.59 L128.635 602.692 Z\" fill=\"#000000\" fill-rule=\"evenodd\" fill-opacity=\"1\" /><path clip-path=\"url(#clip120)\" d=\"M118.543 401.89 L136.899 401.89 L136.899 405.825 L122.825 405.825 L122.825 414.297 Q123.843 413.95 124.862 413.788 Q125.88 413.603 126.899 413.603 Q132.686 413.603 136.066 416.774 Q139.445 419.945 139.445 425.362 Q139.445 430.941 135.973 434.043 Q132.501 437.121 126.181 437.121 Q124.005 437.121 121.737 436.751 Q119.492 436.381 117.084 435.64 L117.084 430.941 Q119.168 432.075 121.39 432.631 Q123.612 433.186 126.089 433.186 Q130.093 433.186 132.431 431.08 Q134.769 428.973 134.769 425.362 Q134.769 421.751 132.431 419.645 Q130.093 417.538 126.089 417.538 Q124.214 417.538 122.339 417.955 Q120.487 418.371 118.543 419.251 L118.543 401.89 Z\" fill=\"#000000\" fill-rule=\"evenodd\" fill-opacity=\"1\" /><path clip-path=\"url(#clip120)\" d=\"M127.917 216.505 Q124.769 216.505 122.918 218.657 Q121.089 220.81 121.089 224.56 Q121.089 228.287 122.918 230.463 Q124.769 232.616 127.917 232.616 Q131.066 232.616 132.894 230.463 Q134.746 228.287 134.746 224.56 Q134.746 220.81 132.894 218.657 Q131.066 216.505 127.917 216.505 M137.2 201.852 L137.2 206.111 Q135.441 205.278 133.635 204.838 Q131.853 204.398 130.093 204.398 Q125.464 204.398 123.01 207.523 Q120.58 210.648 120.232 216.968 Q121.598 214.954 123.658 213.889 Q125.718 212.801 128.195 212.801 Q133.404 212.801 136.413 215.972 Q139.445 219.12 139.445 224.56 Q139.445 229.884 136.297 233.102 Q133.149 236.319 127.917 236.319 Q121.922 236.319 118.751 231.736 Q115.58 227.13 115.58 218.403 Q115.58 210.208 119.468 205.347 Q123.357 200.463 129.908 200.463 Q131.667 200.463 133.45 200.81 Q135.255 201.157 137.2 201.852 Z\" fill=\"#000000\" fill-rule=\"evenodd\" fill-opacity=\"1\" /><path clip-path=\"url(#clip120)\" d=\"M14.479 984.955 L14.479 979.098 L64.0042 979.098 L64.0042 984.955 L14.479 984.955 Z\" fill=\"#000000\" fill-rule=\"evenodd\" fill-opacity=\"1\" /><path clip-path=\"url(#clip120)\" d=\"M32.4621 953.031 Q32.4621 957.741 36.1542 960.478 Q39.8145 963.216 46.212 963.216 Q52.6095 963.216 56.3017 960.51 Q59.9619 957.773 59.9619 953.031 Q59.9619 948.352 56.2698 945.614 Q52.5777 942.877 46.212 942.877 Q39.8781 942.877 36.186 945.614 Q32.4621 948.352 32.4621 953.031 M27.4968 953.031 Q27.4968 945.392 32.4621 941.031 Q37.4273 936.671 46.212 936.671 Q54.9649 936.671 59.9619 941.031 Q64.9272 945.392 64.9272 953.031 Q64.9272 960.701 59.9619 965.062 Q54.9649 969.39 46.212 969.39 Q37.4273 969.39 32.4621 965.062 Q27.4968 960.701 27.4968 953.031 Z\" fill=\"#000000\" fill-rule=\"evenodd\" fill-opacity=\"1\" /><path clip-path=\"url(#clip120)\" d=\"M45.7664 903.505 Q39.4007 903.505 35.8996 906.147 Q32.3984 908.757 32.3984 913.499 Q32.3984 918.21 35.8996 920.852 Q39.4007 923.462 45.7664 923.462 Q52.1003 923.462 55.6014 920.852 Q59.1026 918.21 59.1026 913.499 Q59.1026 908.757 55.6014 906.147 Q52.1003 903.505 45.7664 903.505 M59.58 897.649 Q68.683 897.649 73.1071 901.691 Q77.5631 905.733 77.5631 914.072 Q77.5631 917.16 77.0857 919.897 Q76.6401 922.634 75.6852 925.212 L69.9879 925.212 Q71.3884 922.634 72.0568 920.12 Q72.7252 917.605 72.7252 914.995 Q72.7252 909.234 69.7015 906.37 Q66.7096 903.505 60.6303 903.505 L57.7339 903.505 Q60.885 905.32 62.4446 908.152 Q64.0042 910.985 64.0042 914.932 Q64.0042 921.488 59.0071 925.499 Q54.01 929.509 45.7664 929.509 Q37.491 929.509 32.4939 925.499 Q27.4968 921.488 27.4968 914.932 Q27.4968 910.985 29.0564 908.152 Q30.616 905.32 33.7671 903.505 L28.3562 903.505 L28.3562 897.649 L59.58 897.649 Z\" fill=\"#000000\" fill-rule=\"evenodd\" fill-opacity=\"1\" /><path clip-path=\"url(#clip120)\" d=\"M14.5426 871.518 Q21.8632 875.783 29.0246 877.852 Q36.186 879.92 43.5384 879.92 Q50.8908 879.92 58.1159 877.852 Q65.3091 875.751 72.5979 871.518 L72.5979 876.61 Q65.1182 881.385 57.8931 883.772 Q50.668 886.127 43.5384 886.127 Q36.4406 886.127 29.2474 883.772 Q22.0542 881.416 14.5426 876.61 L14.5426 871.518 Z\" fill=\"#000000\" fill-rule=\"evenodd\" fill-opacity=\"1\" /><path clip-path=\"url(#clip120)\" d=\"M35.3266 832.973 L35.3266 842.235 L45.9574 844.909 L45.9574 835.583 L35.3266 832.973 M17.2162 837.748 L30.4251 841.058 L30.4251 831.764 L17.2162 828.422 L17.2162 823.329 L30.4251 826.608 L30.4251 816.677 L35.3266 816.677 L35.3266 827.849 L45.9574 830.459 L45.9574 820.337 L50.8271 820.337 L50.8271 831.7 L64.0042 835.01 L64.0042 840.103 L50.8271 836.825 L50.8271 846.15 L64.0042 849.429 L64.0042 854.553 L50.8271 851.243 L50.8271 861.269 L45.9574 861.269 L45.9574 850.065 L35.3266 847.392 L35.3266 857.64 L30.4251 857.64 L30.4251 846.15 L17.2162 842.904 L17.2162 837.748 Z\" fill=\"#000000\" fill-rule=\"evenodd\" fill-opacity=\"1\" /><path clip-path=\"url(#clip120)\" d=\"M32.4621 771.003 Q32.4621 775.714 36.1542 778.451 Q39.8145 781.188 46.212 781.188 Q52.6095 781.188 56.3017 778.483 Q59.9619 775.746 59.9619 771.003 Q59.9619 766.324 56.2698 763.587 Q52.5777 760.85 46.212 760.85 Q39.8781 760.85 36.186 763.587 Q32.4621 766.324 32.4621 771.003 M27.4968 771.003 Q27.4968 763.364 32.4621 759.004 Q37.4273 754.643 46.212 754.643 Q54.9649 754.643 59.9619 759.004 Q64.9272 763.364 64.9272 771.003 Q64.9272 778.674 59.9619 783.034 Q54.9649 787.363 46.212 787.363 Q37.4273 787.363 32.4621 783.034 Q27.4968 778.674 27.4968 771.003 Z\" fill=\"#000000\" fill-rule=\"evenodd\" fill-opacity=\"1\" /><path clip-path=\"url(#clip120)\" d=\"M14.479 726.889 L19.3487 726.889 L19.3487 732.491 Q19.3487 735.642 20.6219 736.883 Q21.895 738.092 25.2052 738.092 L28.3562 738.092 L28.3562 728.448 L32.9077 728.448 L32.9077 738.092 L64.0042 738.092 L64.0042 743.981 L32.9077 743.981 L32.9077 749.583 L28.3562 749.583 L28.3562 743.981 L25.8736 743.981 Q19.9216 743.981 17.2162 741.212 Q14.479 738.443 14.479 732.427 L14.479 726.889 Z\" fill=\"#000000\" fill-rule=\"evenodd\" fill-opacity=\"1\" /><path clip-path=\"url(#clip120)\" d=\"M14.479 701.49 L14.479 695.601 L43.7294 695.601 L28.3562 678.127 L28.3562 670.648 L45.0344 689.554 L64.0042 669.852 L64.0042 677.491 L46.5939 695.601 L64.0042 695.601 L64.0042 701.49 L14.479 701.49 Z\" fill=\"#000000\" fill-rule=\"evenodd\" fill-opacity=\"1\" /><path clip-path=\"url(#clip120)\" d=\"M35.1993 635.764 Q31.2526 633.568 29.3747 630.512 Q27.4968 627.456 27.4968 623.319 Q27.4968 617.749 31.4117 614.725 Q35.2948 611.701 42.4881 611.701 L64.0042 611.701 L64.0042 617.59 L42.679 617.59 Q37.5546 617.59 35.072 619.404 Q32.5894 621.218 32.5894 624.942 Q32.5894 629.493 35.6131 632.135 Q38.6368 634.777 43.8567 634.777 L64.0042 634.777 L64.0042 640.665 L42.679 640.665 Q37.5228 640.665 35.072 642.48 Q32.5894 644.294 32.5894 648.081 Q32.5894 652.569 35.6449 655.211 Q38.6686 657.853 43.8567 657.853 L64.0042 657.853 L64.0042 663.741 L28.3562 663.741 L28.3562 657.853 L33.8944 657.853 Q30.616 655.848 29.0564 653.047 Q27.4968 650.246 27.4968 646.394 Q27.4968 642.511 29.4702 639.806 Q31.4436 637.069 35.1993 635.764 Z\" fill=\"#000000\" fill-rule=\"evenodd\" fill-opacity=\"1\" /><path clip-path=\"url(#clip120)\" d=\"M44.7161 569.529 L47.5806 569.529 L47.5806 596.455 Q53.6281 596.074 56.8109 592.827 Q59.9619 589.549 59.9619 583.724 Q59.9619 580.35 59.1344 577.199 Q58.3069 574.016 56.6518 570.897 L62.1899 570.897 Q63.5267 574.048 64.227 577.358 Q64.9272 580.669 64.9272 584.074 Q64.9272 592.604 59.9619 597.601 Q54.9967 602.567 46.5303 602.567 Q37.7774 602.567 32.6531 597.856 Q27.4968 593.113 27.4968 585.093 Q27.4968 577.899 32.1438 573.73 Q36.7589 569.529 44.7161 569.529 M42.9973 575.385 Q38.1912 575.449 35.3266 578.09 Q32.4621 580.7 32.4621 585.029 Q32.4621 589.931 35.2312 592.891 Q38.0002 595.819 43.0292 596.265 L42.9973 575.385 Z\" fill=\"#000000\" fill-rule=\"evenodd\" fill-opacity=\"1\" /><path clip-path=\"url(#clip120)\" d=\"M33.8307 539.26 Q33.2578 540.246 33.0032 541.424 Q32.7167 542.57 32.7167 543.97 Q32.7167 548.935 35.9632 551.609 Q39.1779 554.251 45.2253 554.251 L64.0042 554.251 L64.0042 560.139 L28.3562 560.139 L28.3562 554.251 L33.8944 554.251 Q30.6479 552.405 29.0883 549.445 Q27.4968 546.485 27.4968 542.251 Q27.4968 541.647 27.5923 540.915 Q27.656 540.183 27.8151 539.291 L33.8307 539.26 Z\" fill=\"#000000\" fill-rule=\"evenodd\" fill-opacity=\"1\" /><path clip-path=\"url(#clip120)\" d=\"M29.4065 510.391 L34.9447 510.391 Q33.6716 512.874 33.035 515.547 Q32.3984 518.221 32.3984 521.086 Q32.3984 525.446 33.7352 527.642 Q35.072 529.807 37.7456 529.807 Q39.7826 529.807 40.9603 528.247 Q42.1061 526.687 43.1565 521.977 L43.6021 519.972 Q44.9389 513.733 47.3897 511.123 Q49.8086 508.481 54.1691 508.481 Q59.1344 508.481 62.0308 512.428 Q64.9272 516.343 64.9272 523.218 Q64.9272 526.083 64.3543 529.202 Q63.8132 532.289 62.6992 535.727 L56.6518 535.727 Q58.3387 532.48 59.198 529.329 Q60.0256 526.178 60.0256 523.091 Q60.0256 518.953 58.6251 516.725 Q57.1929 514.497 54.6147 514.497 Q52.2276 514.497 50.9545 516.12 Q49.6813 517.712 48.5037 523.154 L48.0262 525.191 Q46.8804 530.634 44.5251 533.053 Q42.138 535.472 38.0002 535.472 Q32.9713 535.472 30.2341 531.907 Q27.4968 528.342 27.4968 521.786 Q27.4968 518.539 27.9743 515.675 Q28.4517 512.81 29.4065 510.391 Z\" fill=\"#000000\" fill-rule=\"evenodd\" fill-opacity=\"1\" /><path clip-path=\"url(#clip120)\" d=\"M14.5426 500.079 L14.5426 494.986 Q22.0542 490.212 29.2474 487.857 Q36.4406 485.469 43.5384 485.469 Q50.668 485.469 57.8931 487.857 Q65.1182 490.212 72.5979 494.986 L72.5979 500.079 Q65.3091 495.845 58.1159 493.777 Q50.8908 491.676 43.5384 491.676 Q36.186 491.676 29.0246 493.777 Q21.8632 495.845 14.5426 500.079 Z\" fill=\"#000000\" fill-rule=\"evenodd\" fill-opacity=\"1\" /><circle clip-path=\"url(#clip122)\" cx=\"1271.47\" cy=\"740.213\" r=\"14\" fill=\"#009af9\" fill-rule=\"evenodd\" fill-opacity=\"1\" stroke=\"#000000\" stroke-opacity=\"1\" stroke-width=\"3.2\"/>\n",
       "<circle clip-path=\"url(#clip122)\" cx=\"1119.51\" cy=\"924.206\" r=\"14\" fill=\"#009af9\" fill-rule=\"evenodd\" fill-opacity=\"1\" stroke=\"#000000\" stroke-opacity=\"1\" stroke-width=\"3.2\"/>\n",
       "<circle clip-path=\"url(#clip122)\" cx=\"1395.63\" cy=\"821.631\" r=\"14\" fill=\"#009af9\" fill-rule=\"evenodd\" fill-opacity=\"1\" stroke=\"#000000\" stroke-opacity=\"1\" stroke-width=\"3.2\"/>\n",
       "<circle clip-path=\"url(#clip122)\" cx=\"1500.61\" cy=\"821.631\" r=\"14\" fill=\"#009af9\" fill-rule=\"evenodd\" fill-opacity=\"1\" stroke=\"#000000\" stroke-opacity=\"1\" stroke-width=\"3.2\"/>\n",
       "<circle clip-path=\"url(#clip122)\" cx=\"647.479\" cy=\"727.253\" r=\"14\" fill=\"#009af9\" fill-rule=\"evenodd\" fill-opacity=\"1\" stroke=\"#000000\" stroke-opacity=\"1\" stroke-width=\"3.2\"/>\n",
       "<circle clip-path=\"url(#clip122)\" cx=\"1671.76\" cy=\"1202.58\" r=\"14\" fill=\"#009af9\" fill-rule=\"evenodd\" fill-opacity=\"1\" stroke=\"#000000\" stroke-opacity=\"1\" stroke-width=\"3.2\"/>\n",
       "<circle clip-path=\"url(#clip122)\" cx=\"1591.55\" cy=\"1100\" r=\"14\" fill=\"#009af9\" fill-rule=\"evenodd\" fill-opacity=\"1\" stroke=\"#000000\" stroke-opacity=\"1\" stroke-width=\"3.2\"/>\n",
       "<circle clip-path=\"url(#clip122)\" cx=\"923.6\" cy=\"1100\" r=\"14\" fill=\"#009af9\" fill-rule=\"evenodd\" fill-opacity=\"1\" stroke=\"#000000\" stroke-opacity=\"1\" stroke-width=\"3.2\"/>\n",
       "<circle clip-path=\"url(#clip122)\" cx=\"175.445\" cy=\"248.046\" r=\"14\" fill=\"#009af9\" fill-rule=\"evenodd\" fill-opacity=\"1\" stroke=\"#000000\" stroke-opacity=\"1\" stroke-width=\"3.2\"/>\n",
       "</svg>\n"
      ]
     },
     "execution_count": 156,
     "metadata": {},
     "output_type": "execute_result"
    }
   ],
   "source": [
    "Mycelia.plot_kmer_frequency_spectra(values(kmer_counts))"
   ]
  },
  {
   "cell_type": "code",
   "execution_count": 157,
   "id": "2f04b952-9c96-4626-b1c1-3d33939eae55",
   "metadata": {},
   "outputs": [
    {
     "data": {
      "text/plain": [
       "Dict{Int64, Int64} with 9 entries:\n",
       "  5 => 30\n",
       "  4 => 12\n",
       "  6 => 20\n",
       "  7 => 20\n",
       "  2 => 32\n",
       "  9 => 3\n",
       "  8 => 5\n",
       "  3 => 5\n",
       "  1 => 348"
      ]
     },
     "execution_count": 157,
     "metadata": {},
     "output_type": "execute_result"
    }
   ],
   "source": [
    "kmer_counts_histogram = StatsBase.countmap(values(kmer_counts))"
   ]
  },
  {
   "cell_type": "code",
   "execution_count": 158,
   "id": "664abfc3-c9ce-4bb0-b829-6f440da3edba",
   "metadata": {},
   "outputs": [],
   "source": [
    "# n_partitions = 7\n",
    "# partition_size = Int(ceil(length(sorted_kmer_count_bins) / n_partitions))"
   ]
  },
  {
   "cell_type": "code",
   "execution_count": 159,
   "id": "a86dd851-628a-4f53-9736-1c8f75afb63a",
   "metadata": {},
   "outputs": [],
   "source": [
    "# for partition in Base.Iterators.partition(sorted_kmer_count_bins, partition_size)\n",
    "# #     partition\n",
    "#     @show partition\n",
    "#     min_value, index = findmin(v -> kmer_counts_histogram[v], partition)\n",
    "#     threshold = partition[index]\n",
    "#     @show min_value, threshold\n",
    "# end"
   ]
  },
  {
   "cell_type": "code",
   "execution_count": 160,
   "id": "450a6a9e-e50d-4689-a366-56c0f7901de3",
   "metadata": {},
   "outputs": [],
   "source": [
    "# filtered_kmer_counts = filter(x -> x[2] >= assembly_threshold, kmer_counts)"
   ]
  },
  {
   "cell_type": "code",
   "execution_count": 161,
   "id": "b48acbb5-9bd2-45c3-b518-1d0096a6f29d",
   "metadata": {},
   "outputs": [
    {
     "data": {
      "text/plain": [
       "475"
      ]
     },
     "execution_count": 161,
     "metadata": {},
     "output_type": "execute_result"
    }
   ],
   "source": [
    "K = length(keys(kmer_counts))"
   ]
  },
  {
   "cell_type": "code",
   "execution_count": 162,
   "id": "3ad5ecaa-1566-43ef-9716-09d2bb71142f",
   "metadata": {},
   "outputs": [],
   "source": [
    "# create an undirected kmer graph from the sequence"
   ]
  },
  {
   "cell_type": "code",
   "execution_count": 163,
   "id": "eea8a51d-6f61-4409-91f2-c9206c94e578",
   "metadata": {},
   "outputs": [
    {
     "data": {
      "text/plain": [
       "{475, 0} undirected Int64 metagraph with Float64 weights defined by :weight (default weight 1.0)"
      ]
     },
     "execution_count": 163,
     "metadata": {},
     "output_type": "execute_result"
    }
   ],
   "source": [
    "graph = MetaGraphs.MetaGraph(K)\n",
    "# graph = LightGraphs.SimpleGraph(K)"
   ]
  },
  {
   "cell_type": "code",
   "execution_count": 164,
   "id": "bac02b77-b473-4c2e-8bea-fdb4fa63068d",
   "metadata": {},
   "outputs": [
    {
     "data": {
      "text/plain": [
       "true"
      ]
     },
     "execution_count": 164,
     "metadata": {},
     "output_type": "execute_result"
    }
   ],
   "source": [
    "MetaGraphs.set_prop!(graph, :kmer_counts, kmer_counts)\n",
    "MetaGraphs.set_prop!(graph, :k, k)"
   ]
  },
  {
   "cell_type": "code",
   "execution_count": 165,
   "id": "9550366b-c8d0-4eee-8742-c5b52d3d1f19",
   "metadata": {},
   "outputs": [
    {
     "name": "stderr",
     "output_type": "stream",
     "text": [
      "\u001b[32mProgress: 100%|█████████████████████████████████████████| Time: 0:00:00\u001b[39m\n"
     ]
    }
   ],
   "source": [
    "ProgressMeter.@showprogress for (i, (kmer, count)) in enumerate(kmer_counts)\n",
    "#     @show i, kmer, count\n",
    "    MetaGraphs.set_prop!(graph, i, :kmer, kmer)\n",
    "    MetaGraphs.set_prop!(graph, i, :count, count)\n",
    "end"
   ]
  },
  {
   "cell_type": "code",
   "execution_count": 166,
   "id": "08821979-313e-4fbf-a33f-3400e514170f",
   "metadata": {},
   "outputs": [
    {
     "data": {
      "text/plain": [
       "475-element Vector{BioSequences.DNAMer{7}}:\n",
       " AAAAGCT\n",
       " AAAATTC\n",
       " AAAATTG\n",
       " AAAATTT\n",
       " AAACGGG\n",
       " AAAGCGC\n",
       " AAAGCTT\n",
       " AAAGGAC\n",
       " AAATAGA\n",
       " AAATTCT\n",
       " AAATTGC\n",
       " AAATTTC\n",
       " AAATTTG\n",
       " ⋮\n",
       " TCTACCA\n",
       " TCTAGCA\n",
       " TCTCCCA\n",
       " TCTGCAA\n",
       " TCTTCCA\n",
       " TGACACA\n",
       " TGACTCA\n",
       " TGAGTAA\n",
       " TGATCAA\n",
       " TGGTCAA\n",
       " TGTCAAA\n",
       " TTGACAA"
      ]
     },
     "execution_count": 166,
     "metadata": {},
     "output_type": "execute_result"
    }
   ],
   "source": [
    "kmers = collect(keys(kmer_counts))"
   ]
  },
  {
   "cell_type": "code",
   "execution_count": 167,
   "id": "9a072b72-bbf6-4d95-b2f2-928f01b04aae",
   "metadata": {},
   "outputs": [],
   "source": [
    "# p = ProgressMeter.Progress(8452, 1)\n",
    "# 50 minutes\n",
    "# 40 minutes\n",
    "# 0:09:51!\n",
    "for record in Mycelia.open_fastx(fastq_file)\n",
    "    for edge_mer in BioSequences.each(BioSequences.DNAMer{k+1}, FASTX.sequence(record))\n",
    "        add_edge_to_graph(graph, edge_mer, kmers)\n",
    "    end\n",
    "#     ProgressMeter.next!(p)\n",
    "end"
   ]
  },
  {
   "cell_type": "code",
   "execution_count": 168,
   "id": "7d1459d1-91a3-4631-a599-4c97f453de10",
   "metadata": {},
   "outputs": [],
   "source": [
    "observations = collect(Mycelia.open_fastx(fastq_file));"
   ]
  },
  {
   "cell_type": "code",
   "execution_count": null,
   "id": "f15b2a1e-5ee0-4d71-8dac-808a655c2c92",
   "metadata": {},
   "outputs": [],
   "source": []
  },
  {
   "cell_type": "code",
   "execution_count": 1462,
   "id": "d91dea9a-bf8c-4160-95a3-0d585c6bcd87",
   "metadata": {},
   "outputs": [],
   "source": [
    "observation = observations[10];"
   ]
  },
  {
   "cell_type": "code",
   "execution_count": 1463,
   "id": "13fb83ec-bc4d-40af-92ad-53f200f75a0f",
   "metadata": {},
   "outputs": [],
   "source": [
    "observed_sequence = FASTX.sequence(observation);"
   ]
  },
  {
   "cell_type": "code",
   "execution_count": 1464,
   "id": "7d8168eb-65f8-455c-8c43-9c4830502695",
   "metadata": {},
   "outputs": [],
   "source": [
    "alignment = BioAlignments.pairalign(BioAlignments.LevenshteinDistance(), observed_sequence, genome);"
   ]
  },
  {
   "cell_type": "code",
   "execution_count": 1465,
   "id": "57510fd3-5848-4471-bc29-f119ad4986c1",
   "metadata": {},
   "outputs": [],
   "source": [
    "reverse_alignment = BioAlignments.pairalign(BioAlignments.LevenshteinDistance(), BioSequences.reverse_complement(observed_sequence), genome);"
   ]
  },
  {
   "cell_type": "code",
   "execution_count": 1466,
   "id": "ffdd8d70-c134-47e4-94b4-7ffa58f6f70d",
   "metadata": {},
   "outputs": [
    {
     "name": "stdout",
     "output_type": "stream",
     "text": [
      "alignment.value = 15\n"
     ]
    },
    {
     "data": {
      "text/plain": [
       "15"
      ]
     },
     "execution_count": 1466,
     "metadata": {},
     "output_type": "execute_result"
    }
   ],
   "source": [
    "if reverse_alignment.value < alignment.value\n",
    "    observed_sequence = observed_sequence\n",
    "    alignment = reverse_alignment\n",
    "    @show \"flipping\"\n",
    "end\n",
    "@show alignment.value"
   ]
  },
  {
   "cell_type": "code",
   "execution_count": 1566,
   "id": "d8e364fe-d8f3-429c-aaeb-eba4d1d71e60",
   "metadata": {},
   "outputs": [
    {
     "data": {
      "text/plain": [
       "-43"
      ]
     },
     "execution_count": 1566,
     "metadata": {},
     "output_type": "execute_result"
    }
   ],
   "source": [
    "-11 - 15 - 17"
   ]
  },
  {
   "cell_type": "code",
   "execution_count": 1551,
   "id": "cd826d96-c758-43ee-9d67-cd1e24c24e16",
   "metadata": {},
   "outputs": [
    {
     "name": "stdout",
     "output_type": "stream",
     "text": [
      "  0.110353 seconds (80.42 k allocations: 4.639 MiB, 96.84% compilation time)\n"
     ]
    },
    {
     "data": {
      "text/plain": [
       "124-element Vector{Int64}:\n",
       "   4\n",
       "  13\n",
       "  16\n",
       "  18\n",
       "  22\n",
       "  23\n",
       "  27\n",
       "  32\n",
       "  35\n",
       "  38\n",
       "  41\n",
       "  48\n",
       "  49\n",
       "   ⋮\n",
       " 442\n",
       " 446\n",
       " 454\n",
       " 455\n",
       " 456\n",
       " 457\n",
       " 458\n",
       " 462\n",
       " 464\n",
       " 467\n",
       " 470\n",
       " 472"
      ]
     },
     "execution_count": 1551,
     "metadata": {},
     "output_type": "execute_result"
    }
   ],
   "source": [
    "# -15/100\n",
    "# 0/100\n",
    "# -17/100\n",
    "# 2/100\n",
    "# 1/100\n",
    "# 0/100\n",
    "# 3/100\n",
    "# 2/100\n",
    "# 1/100\n",
    "# -3/100\n",
    "# -26\n",
    "# @time indices_to_keep = [i for (i,v) in enumerate(values(kmer_counts)) if rand() > 1/v]\n",
    "\n",
    "# -11/100\n",
    "# 0/100\n",
    "# 0/100\n",
    "# -15/100\n",
    "# 0/100\n",
    "# 1/100\n",
    "# 0/100\n",
    "# 0/100\n",
    "# -17/100\n",
    "# -1/100\n",
    "# -43\n",
    "# @time indices_to_keep = [i for (i,v) in enumerate(values(kmer_counts)) if rand() > 1/(2^v)]\n",
    "\n",
    "# 2/100\n",
    "# 0/100\n",
    "# 0/100\n",
    "# 0/100\n",
    "# 0/100\n",
    "# 0/100\n",
    "# 0/100\n",
    "# 0/100\n",
    "# 0/100\n",
    "# 0/100\n",
    "# 2\n",
    "# @time indices_to_keep = [i for (i,v) in enumerate(values(kmer_counts)) if rand() > 1/(MathConstants.e^(v))]\n",
    "\n",
    "# 0/100\n",
    "# 0/100\n",
    "# 0/100\n",
    "# 0/100\n",
    "# 0/100\n",
    "# -1/100\n",
    "# 0/100\n",
    "# 0/100\n",
    "# 0/100\n",
    "# 0/100\n",
    "# -1\n",
    "# @time indices_to_keep = [i for (i,v) in enumerate(values(kmer_counts)) if rand() > 1/(10^(v))]\n",
    "\n",
    "# 3/100\n",
    "# -4/100\n",
    "# 10/100\n",
    "# 4/100\n",
    "# 3/100\n",
    "# 1/100\n",
    "# 1/100\n",
    "# -24/100\n",
    "# -16/100\n",
    "# 2/100\n",
    "# -19\n",
    "# @time indices_to_keep = [i for (i,v) in enumerate(values(kmer_counts)) if rand() > 1/(2^(v-1))]\n",
    "\n",
    "# -33/100\n",
    "# 2/100\n",
    "# 3/100\n",
    "# -3/100\n",
    "# 3/100\n",
    "# 1/100\n",
    "# -3/100\n",
    "# 4/100\n",
    "# -1/100\n",
    "# -7/100\n",
    "# @time indices_to_keep = [i for (i,v) in enumerate(values(kmer_counts)) if rand() > 1/(MathConstants.e^(v-1))]\n",
    "\n",
    "# 2/100\n",
    "# 3/100\n",
    "# 1/100\n",
    "# 2/100\n",
    "# -6/100\n",
    "# -3/100\n",
    "# -1/100\n",
    "# 0/100\n",
    "# 0/100\n",
    "# -1/100\n",
    "# @time indices_to_keep = [i for (i,v) in enumerate(values(kmer_counts)) if rand() > 1/(10^(v-1))]"
   ]
  },
  {
   "cell_type": "code",
   "execution_count": 1552,
   "id": "b530c2a6-6ebf-4d00-9c2e-3c3908a17710",
   "metadata": {},
   "outputs": [
    {
     "data": {
      "text/plain": [
       "({124, 126} undirected Int64 metagraph with Float64 weights defined by :weight (default weight 1.0), [4, 13, 16, 18, 22, 23, 27, 32, 35, 38  …  454, 455, 456, 457, 458, 462, 464, 467, 470, 472])"
      ]
     },
     "execution_count": 1552,
     "metadata": {},
     "output_type": "execute_result"
    }
   ],
   "source": [
    "# ?LightGraphs.induced_subgraph\n",
    "subgraph, vertex_map = LightGraphs.induced_subgraph(graph, indices_to_keep)"
   ]
  },
  {
   "cell_type": "code",
   "execution_count": 1553,
   "id": "c162ae04-c3ad-4658-8142-c5fa3ad7a543",
   "metadata": {},
   "outputs": [
    {
     "data": {
      "text/plain": [
       "95-element Vector{BioSequences.MerIterResult{BioSequences.DNAMer{7}}}:\n",
       " BioSequences.MerIterResult{BioSequences.DNAMer{7}}(1, TTTGACC, GGTCAAA)\n",
       " BioSequences.MerIterResult{BioSequences.DNAMer{7}}(2, TTGACCA, TGGTCAA)\n",
       " BioSequences.MerIterResult{BioSequences.DNAMer{7}}(3, TGACCAC, GTGGTCA)\n",
       " BioSequences.MerIterResult{BioSequences.DNAMer{7}}(4, GACCACA, TGTGGTC)\n",
       " BioSequences.MerIterResult{BioSequences.DNAMer{7}}(5, ACCACAG, CTGTGGT)\n",
       " BioSequences.MerIterResult{BioSequences.DNAMer{7}}(6, CCACAGA, TCTGTGG)\n",
       " BioSequences.MerIterResult{BioSequences.DNAMer{7}}(7, CACAGAG, CTCTGTG)\n",
       " BioSequences.MerIterResult{BioSequences.DNAMer{7}}(8, ACAGAGG, CCTCTGT)\n",
       " BioSequences.MerIterResult{BioSequences.DNAMer{7}}(9, CAGAGGA, TCCTCTG)\n",
       " BioSequences.MerIterResult{BioSequences.DNAMer{7}}(10, AGAGGAG, CTCCTCT)\n",
       " BioSequences.MerIterResult{BioSequences.DNAMer{7}}(11, GAGGAGG, CCTCCTC)\n",
       " BioSequences.MerIterResult{BioSequences.DNAMer{7}}(12, AGGAGGC, GCCTCCT)\n",
       " BioSequences.MerIterResult{BioSequences.DNAMer{7}}(13, GGAGGCT, AGCCTCC)\n",
       " ⋮\n",
       " BioSequences.MerIterResult{BioSequences.DNAMer{7}}(84, GCAAATT, AATTTGC)\n",
       " BioSequences.MerIterResult{BioSequences.DNAMer{7}}(85, CAAATTT, AAATTTG)\n",
       " BioSequences.MerIterResult{BioSequences.DNAMer{7}}(86, AAATTTG, CAAATTT)\n",
       " BioSequences.MerIterResult{BioSequences.DNAMer{7}}(87, AATTTGT, ACAAATT)\n",
       " BioSequences.MerIterResult{BioSequences.DNAMer{7}}(88, ATTTGTG, CACAAAT)\n",
       " BioSequences.MerIterResult{BioSequences.DNAMer{7}}(89, TTTGTGG, CCACAAA)\n",
       " BioSequences.MerIterResult{BioSequences.DNAMer{7}}(90, TTGTGGT, ACCACAA)\n",
       " BioSequences.MerIterResult{BioSequences.DNAMer{7}}(91, TGTGGTA, TACCACA)\n",
       " BioSequences.MerIterResult{BioSequences.DNAMer{7}}(92, GTGGTAG, CTACCAC)\n",
       " BioSequences.MerIterResult{BioSequences.DNAMer{7}}(93, TGGTAGA, TCTACCA)\n",
       " BioSequences.MerIterResult{BioSequences.DNAMer{7}}(94, GGTAGAT, ATCTACC)\n",
       " BioSequences.MerIterResult{BioSequences.DNAMer{7}}(95, GTAGATG, CATCTAC)"
      ]
     },
     "execution_count": 1553,
     "metadata": {},
     "output_type": "execute_result"
    }
   ],
   "source": [
    "# function sequence_to_\n",
    "observation_as_oriented_kmers = []\n",
    "observation_kmers = collect(BioSequences.each(BioSequences.DNAMer{k}, observed_sequence))"
   ]
  },
  {
   "cell_type": "code",
   "execution_count": 1554,
   "id": "4bb5e648-e372-4147-aa99-0107fa547b29",
   "metadata": {},
   "outputs": [
    {
     "data": {
      "text/plain": [
       "124-element Vector{BioSequences.DNAMer{7}}:\n",
       " AAAATTT\n",
       " AAATTTG\n",
       " AACCTCG\n",
       " AACTCCC\n",
       " AAGATCG\n",
       " AAGCAAA\n",
       " AAGCGCA\n",
       " AAGGAGA\n",
       " AAGGGAG\n",
       " AAGTGCG\n",
       " AATAGAA\n",
       " AATTTGC\n",
       " AATTTGT\n",
       " ⋮\n",
       " GTGGTCA\n",
       " TACCACA\n",
       " TCACAGA\n",
       " TCCACAA\n",
       " TCCACGA\n",
       " TCCGCGA\n",
       " TCCTCCA\n",
       " TCGCGAA\n",
       " TCTACCA\n",
       " TCTGCAA\n",
       " TGACTCA\n",
       " TGATCAA"
      ]
     },
     "execution_count": 1554,
     "metadata": {},
     "output_type": "execute_result"
    }
   ],
   "source": [
    "subgraph_kmers = [subgraph.vprops[v][:kmer] for v in LightGraphs.vertices(subgraph)]"
   ]
  },
  {
   "cell_type": "code",
   "execution_count": 1555,
   "id": "e7fd3359-2116-42b9-a4df-48df59e2deb5",
   "metadata": {},
   "outputs": [],
   "source": [
    "is_canonical = falses(length(observation_kmers))\n",
    "kmer_index = zeros(Int, length(observation_kmers))\n",
    "for (i, kmer) in enumerate(observation_kmers)\n",
    "#     is_canonical[i] = kmer.fw <= kmer.bw\n",
    "    canonical_kmer = BioSequences.canonical(kmer.fw)\n",
    "    is_canonical[i] = kmer.fw == canonical_kmer\n",
    "    kmer_index_range = searchsorted(subgraph_kmers, canonical_kmer)\n",
    "    if length(kmer_index_range) > 1\n",
    "        @error \"bad\"\n",
    "    elseif isempty(kmer_index_range)\n",
    "        # do nothing, index is 0 to indicate not found\n",
    "    else\n",
    "        kmer_index[i] = first(kmer_index_range)\n",
    "    end\n",
    "end"
   ]
  },
  {
   "cell_type": "code",
   "execution_count": 1556,
   "id": "e9c7e7b3-7d18-463f-a74b-47a2bd28307a",
   "metadata": {},
   "outputs": [
    {
     "data": {
      "text/plain": [
       "95-element BitVector:\n",
       " 0\n",
       " 0\n",
       " 0\n",
       " 1\n",
       " 1\n",
       " 1\n",
       " 1\n",
       " 1\n",
       " 1\n",
       " 1\n",
       " 0\n",
       " 1\n",
       " 0\n",
       " ⋮\n",
       " 0\n",
       " 0\n",
       " 1\n",
       " 1\n",
       " 1\n",
       " 0\n",
       " 0\n",
       " 0\n",
       " 0\n",
       " 0\n",
       " 0\n",
       " 0"
      ]
     },
     "execution_count": 1556,
     "metadata": {},
     "output_type": "execute_result"
    }
   ],
   "source": [
    "is_canonical"
   ]
  },
  {
   "cell_type": "code",
   "execution_count": 1557,
   "id": "95d066fe-c611-4e94-bc74-e00afe1eea0b",
   "metadata": {},
   "outputs": [
    {
     "data": {
      "text/plain": [
       "95-element Vector{Int64}:\n",
       "   0\n",
       "   0\n",
       " 113\n",
       "  97\n",
       "   0\n",
       "   0\n",
       "   0\n",
       "   0\n",
       "   0\n",
       "  30\n",
       "  67\n",
       "  40\n",
       "  36\n",
       "   ⋮\n",
       "  12\n",
       "   2\n",
       "   2\n",
       "  13\n",
       "   0\n",
       "  60\n",
       "  18\n",
       " 114\n",
       "  79\n",
       " 121\n",
       "  48\n",
       "  59"
      ]
     },
     "execution_count": 1557,
     "metadata": {},
     "output_type": "execute_result"
    }
   ],
   "source": [
    "kmer_index"
   ]
  },
  {
   "cell_type": "code",
   "execution_count": 1558,
   "id": "572e131f-7063-47c9-a5bf-617cde17b07c",
   "metadata": {},
   "outputs": [
    {
     "name": "stdout",
     "output_type": "stream",
     "text": [
      "extensions = 1\n",
      "\"missing opening\" = \"missing opening\"\n",
      "closing_solid_kmer = TGACCAC\n",
      "inverted_closing_solid_kmer = GTGGTCA\n",
      "chosen_walk = BioSequences.DNAMer{7}[TTTGACC, TTGACCA, TGACCAC]\n",
      "closing_solid_kmer_path_index = 3\n",
      "\"bubble!\" = \"bubble!\"\n",
      "(opening_solid_kmer, opening_solid_kmer_path_index) = (GACCACA, 4)\n",
      "(closing_solid_kmer, closing_solid_kmer_path_index) = (AGAGGAG, 10)\n",
      "length(proposed_path) = 4\n",
      "round 1\n",
      "\"bubble!\" = \"bubble!\"\n",
      "(opening_solid_kmer, opening_solid_kmer_path_index) = (GGAGGCT, 13)\n",
      "(closing_solid_kmer, closing_solid_kmer_path_index) = (ACGTCGT, 23)\n",
      "length(proposed_path) = 13\n",
      "round 1\n",
      "\"bubble!\" = \"bubble!\"\n",
      "(opening_solid_kmer, opening_solid_kmer_path_index) = (CGTGGAG, 27)\n",
      "(closing_solid_kmer, closing_solid_kmer_path_index) = (GAGAGAG, 31)\n",
      "length(proposed_path) = 27\n",
      "round 1\n",
      "round 2\n",
      "\"here\" = \"here\"\n",
      "\"bubble!\" = \"bubble!\"\n",
      "(opening_solid_kmer, opening_solid_kmer_path_index) = (GAGAGAG, 35)\n",
      "(closing_solid_kmer, closing_solid_kmer_path_index) = (GTTGCAG, 45)\n",
      "length(proposed_path) = 37\n",
      "round 1\n",
      "\"bubble!\" = \"bubble!\"\n",
      "(opening_solid_kmer, opening_solid_kmer_path_index) = (TTGCAGA, 46)\n",
      "(closing_solid_kmer, closing_solid_kmer_path_index) = (AGCGCGC, 54)\n",
      "length(proposed_path) = 48\n",
      "round 1\n",
      "round 2\n",
      "\"bubble!\" = \"bubble!\"\n",
      "(opening_solid_kmer, opening_solid_kmer_path_index) = (GCGCGCT, 55)\n",
      "(closing_solid_kmer, closing_solid_kmer_path_index) = (TCTATTC, 61)\n",
      "length(proposed_path) = 57\n",
      "round 1\n",
      "\"bubble!\" = \"bubble!\"\n",
      "(opening_solid_kmer, opening_solid_kmer_path_index) = (TCTATTC, 61)\n",
      "(closing_solid_kmer, closing_solid_kmer_path_index) = (TTCCGCG, 65)\n",
      "length(proposed_path) = 63\n",
      "round 1\n",
      "\"bubble!\" = \"bubble!\"\n",
      "(opening_solid_kmer, opening_solid_kmer_path_index) = (TTCCGCG, 65)\n",
      "(closing_solid_kmer, closing_solid_kmer_path_index) = (CGCGGAA, 68)\n",
      "length(proposed_path) = 67\n",
      "round 1\n",
      "\"bubble!\" = \"bubble!\"\n",
      "(opening_solid_kmer, opening_solid_kmer_path_index) = (AATTTGT, 87)\n",
      "(closing_solid_kmer, closing_solid_kmer_path_index) = (TTTGTGG, 89)\n",
      "length(proposed_path) = 89\n",
      "round 1\n"
     ]
    },
    {
     "data": {
      "text/plain": [
       "97-element Vector{BioSequences.DNAMer{7}}:\n",
       " TTTGACC\n",
       " TTGACCA\n",
       " TGACCAC\n",
       " GACCACA\n",
       " ACCACAG\n",
       " CCACAGA\n",
       " CACAGAG\n",
       " ACAGAGG\n",
       " CAGAGGA\n",
       " AGAGGAG\n",
       " GAGGAGG\n",
       " AGGAGGC\n",
       " GGAGGCT\n",
       " ⋮\n",
       " GCAAATT\n",
       " CAAATTT\n",
       " AAATTTG\n",
       " AATTTGT\n",
       " ATTTGTG\n",
       " TTTGTGG\n",
       " TTGTGGT\n",
       " TGTGGTA\n",
       " GTGGTAG\n",
       " TGGTAGA\n",
       " GGTAGAT\n",
       " GTAGATG"
      ]
     },
     "execution_count": 1558,
     "metadata": {},
     "output_type": "execute_result"
    }
   ],
   "source": [
    "proposed_path = BioSequences.DNAMer{k}[]\n",
    "opening_missing_kmer_path_index = findfirst(x -> x == 0, kmer_index)\n",
    "\n",
    "# read is solid!\n",
    "if opening_missing_kmer_path_index == nothing\n",
    "#     proposed_seq = observation\n",
    "    proposed_path = [kmer.fw for kmer in observation_kmers]\n",
    "    @show \"perfect read\"\n",
    "elseif all(index -> index == 0, kmer_index)\n",
    "    @show \"read is trash\"\n",
    "    # generate a new read from the assembly to replace this one\n",
    "\n",
    "    observation_path_length = length(observation_kmers)\n",
    "    proposed_path = nothing\n",
    "    proposed_path_size_discrepancy = Inf\n",
    "    starting_kmer_indices = StatsBase.sample(1:LightGraphs.nv(graph), min(10, LightGraphs.nv(graph)), replace=false)\n",
    "    for starting_kmer_index in starting_kmer_indices\n",
    "        starting_kmer_index = rand(1:LightGraphs.nv(graph))\n",
    "        @show starting_kmer_index\n",
    "        starting_kmer = graph.vprops[starting_kmer_index][:kmer]\n",
    "        if rand(Bool)\n",
    "            starting_kmer = BioSequences.reverse_complement(starting_kmer)\n",
    "        end\n",
    "#         candidate_path = take_a_walk(graph, edge_likelihoods, kmers, starting_kmer, observation_path_length)\n",
    "        candidate_path = take_a_walk(graph, kmers, starting_kmer, observation_path_length)\n",
    "        discrepancy = abs(length(candidate_path) - observation_path_length)\n",
    "        @show discrepancy\n",
    "        if discrepancy < proposed_path_size_discrepancy\n",
    "            proposed_path = candidate_path\n",
    "            proposed_path_size_discrepancy = discrepancy\n",
    "            if proposed_path_size_discrepancy == 0\n",
    "                break\n",
    "            end\n",
    "        end\n",
    "    end\n",
    "else\n",
    "    if opening_missing_kmer_path_index == 1\n",
    "        opening_solid_kmer = nothing\n",
    "    #     closing_solid_kmer_path_index = findnext(map(x -> x != 0, kmer_index), opening_missing_kmer_path_index+1)\n",
    "    elseif opening_missing_kmer_path_index != nothing\n",
    "        opening_solid_kmer_path_index = opening_missing_kmer_path_index - 1\n",
    "        opening_solid_kmer = observation_kmers[opening_solid_kmer_path_index].fw\n",
    "    end\n",
    "\n",
    "    if opening_missing_kmer_path_index == nothing\n",
    "        closing_solid_kmer_path_index = findnext(map(x -> x != 0, kmer_index), 1)\n",
    "    else\n",
    "        closing_solid_kmer_path_index = findnext(map(x -> x != 0, kmer_index), opening_missing_kmer_path_index+1)\n",
    "    end\n",
    "    if closing_solid_kmer_path_index == nothing\n",
    "        @show \"end is open\"\n",
    "        closing_solid_kmer = nothing\n",
    "    else\n",
    "        closing_solid_kmer = observation_kmers[closing_solid_kmer_path_index].fw\n",
    "    end\n",
    "\n",
    "\n",
    "    extensions = 0\n",
    "    while (opening_missing_kmer_path_index != nothing) && (extensions < 5)\n",
    "        extensions += 1\n",
    "        @show extensions\n",
    "\n",
    "        if (opening_solid_kmer == nothing) && (closing_solid_kmer != nothing)\n",
    "            @show \"missing opening\"\n",
    "            @show closing_solid_kmer\n",
    "            inverted_closing_solid_kmer = BioSequences.reverse_complement(closing_solid_kmer)\n",
    "            @show inverted_closing_solid_kmer\n",
    "            walk_length = closing_solid_kmer_path_index\n",
    "#             chosen_walk = take_a_walk(graph, edge_likelihoods, kmers, inverted_closing_solid_kmer, walk_length)\n",
    "            chosen_walk = take_a_walk(graph, kmers, inverted_closing_solid_kmer, walk_length)\n",
    "            chosen_walk = reverse(BioSequences.reverse_complement.(chosen_walk))\n",
    "            @show chosen_walk\n",
    "            @show closing_solid_kmer_path_index\n",
    "            @assert observation_kmers[closing_solid_kmer_path_index].fw == last(chosen_walk)\n",
    "            proposed_path = chosen_walk\n",
    "            opening_missing_kmer_path_index = findnext(map(x -> x == 0, kmer_index), closing_solid_kmer_path_index+1)\n",
    "\n",
    "            if opening_missing_kmer_path_index == 1\n",
    "                opening_solid_kmer = nothing\n",
    "            elseif opening_missing_kmer_path_index != nothing\n",
    "                need_to_add = getproperty.(observation_kmers[closing_solid_kmer_path_index+1:opening_missing_kmer_path_index-1], :fw)\n",
    "                append!(proposed_path, need_to_add)\n",
    "                opening_solid_kmer_path_index = opening_missing_kmer_path_index - 1\n",
    "                opening_solid_kmer = observation_kmers[opening_solid_kmer_path_index].fw\n",
    "                closing_solid_kmer_path_index = findnext(map(x -> x != 0, kmer_index), opening_missing_kmer_path_index+1)\n",
    "                if closing_solid_kmer_path_index == nothing\n",
    "                    closing_solid_kmer = nothing\n",
    "                else\n",
    "                    closing_solid_kmer = observation_kmers[closing_solid_kmer_path_index].fw\n",
    "                end\n",
    "            end\n",
    "        end\n",
    "\n",
    "        if (opening_solid_kmer != nothing) && (closing_solid_kmer == nothing)\n",
    "            @show \"missing closing\"\n",
    "            walk_length = length(observation_kmers) - opening_solid_kmer_path_index+1\n",
    "#             chosen_walk = take_a_walk(graph, edge_likelihoods, kmers, opening_solid_kmer, walk_length)\n",
    "            chosen_walk = take_a_walk(graph, kmers, opening_solid_kmer, walk_length)\n",
    "            @show chosen_walk\n",
    "            @assert observation_kmers[opening_solid_kmer_path_index].fw == first(chosen_walk)\n",
    "            if isempty(proposed_path)\n",
    "                proposed_path = getproperty.(observation_kmers[1:opening_solid_kmer_path_index], :fw)\n",
    "            end\n",
    "            append!(proposed_path, chosen_walk[2:end])\n",
    "            opening_missing_kmer_path_index = nothing\n",
    "        end\n",
    "\n",
    "        while (opening_solid_kmer != nothing) && (closing_solid_kmer != nothing)\n",
    "            @show \"bubble!\"\n",
    "            opening_solid_kmer_index = kmer_index[opening_solid_kmer_path_index]\n",
    "            closing_solid_kmer_index = kmer_index[closing_solid_kmer_path_index]\n",
    "\n",
    "            @show opening_solid_kmer, opening_solid_kmer_path_index\n",
    "            @show closing_solid_kmer, closing_solid_kmer_path_index\n",
    "            @show length(proposed_path)\n",
    "            \n",
    "            #####################################################################################\n",
    "            # DETERMINE PATH LENGTH\n",
    "            #####################################################################################\n",
    "            # by default, we're assuming that we want to walk the same distance as our bubble + 1\n",
    "            bubble_path_length = closing_solid_kmer_path_index - opening_solid_kmer_path_index + 1\n",
    "\n",
    "            if opening_solid_kmer_index != closing_solid_kmer_index\n",
    "                path = LightGraphs.a_star(graph, opening_solid_kmer_index, closing_solid_kmer_index)\n",
    "                normalized_path = Int[path[1].src, [edge.dst for edge in path]...]\n",
    "                shortest_paths = [normalized_path]\n",
    "            else\n",
    "                neighbors = LightGraphs.neighbors(graph, opening_solid_kmer_index)\n",
    "                shortest_paths = Vector{Vector{Int}}()\n",
    "                for neighbor in neighbors\n",
    "                    path = LightGraphs.a_star(graph, neighbor, closing_solid_kmer_index)\n",
    "                    normalized_path = Int[path[1].src, [edge.dst for edge in path]...]\n",
    "                    push!(shortest_paths, normalized_path)\n",
    "                end\n",
    "            end\n",
    "            # but if our bubble is a deletion, then walking that length may not get us across to the other side\n",
    "            # so we also determine the longest, shortest path\n",
    "            longest_shortest_walk_length = maximum(length.(shortest_paths))\n",
    "\n",
    "\n",
    "            longest_walk_length = max(bubble_path_length, longest_shortest_walk_length)\n",
    "            walk_length = Int(ceil(longest_walk_length * 1.1))\n",
    "\n",
    "            walks = Vector{Int}[]\n",
    "            for i in 1:3\n",
    "                println(\"round $i\")\n",
    "#                 walks = [take_a_walk(graph, edge_likelihoods, kmers, opening_solid_kmer, walk_length)]\n",
    "                walks = [take_a_walk(graph, kmers, opening_solid_kmer, walk_length)]\n",
    "                while allunique(walks)\n",
    "#                     push!(walks, take_a_walk(graph, edge_likelihoods, kmers, opening_solid_kmer, walk_length))\n",
    "                    push!(walks, take_a_walk(graph, kmers, opening_solid_kmer, walk_length))\n",
    "                end\n",
    "\n",
    "                walks = filter(path -> closing_solid_kmer in path, walks)\n",
    "\n",
    "                if isempty(walks)\n",
    "                    walk_length = Int(ceil(walk_length * 1.1))\n",
    "                else\n",
    "                    # done!\n",
    "                    break\n",
    "                end\n",
    "            end\n",
    "\n",
    "            if !isempty(walks)\n",
    "                candidate_paths = sort(collect(StatsBase.countmap(walks)), by=x->x[2], rev=true)\n",
    "                selected_path = first(first(candidate_paths))\n",
    "                selected_path_closing_solid_kmer_intersects = findall(kmer -> kmer == closing_solid_kmer, selected_path)\n",
    "                if length(selected_path_closing_solid_kmer_intersects) > 1\n",
    "                    @show \"here\"\n",
    "                    selected_path_closing_solid_kmer_intersect = 0\n",
    "                    d = Inf\n",
    "                    for i in selected_path_closing_solid_kmer_intersects\n",
    "                        candidate_distance = abs(i - walk_length)\n",
    "                        if candidate_distance < d\n",
    "                            d = candidate_distance\n",
    "                            selected_path_closing_solid_kmer_intersect = i\n",
    "                        end\n",
    "                    end\n",
    "                else\n",
    "                    selected_path_closing_solid_kmer_intersect = first(selected_path_closing_solid_kmer_intersects)\n",
    "                end\n",
    "                selected_path = selected_path[1:selected_path_closing_solid_kmer_intersect]\n",
    "                if isempty(proposed_path)\n",
    "                    proposed_path = getproperty.(observation_kmers[1:opening_solid_kmer_path_index], :fw)\n",
    "                end\n",
    "                append!(proposed_path, selected_path[2:end])\n",
    "                opening_missing_kmer_path_index = findnext(map(x -> x == 0, kmer_index), closing_solid_kmer_path_index+1)\n",
    "                if opening_missing_kmer_path_index == nothing\n",
    "                    #done\n",
    "                    opening_solid_kmer = nothing\n",
    "                elseif opening_missing_kmer_path_index == 1\n",
    "                    # also done?\n",
    "                    opening_solid_kmer = nothing\n",
    "                elseif opening_missing_kmer_path_index != nothing\n",
    "                    need_to_add = getproperty.(observation_kmers[closing_solid_kmer_path_index+1:opening_missing_kmer_path_index-1], :fw)\n",
    "                    append!(proposed_path, need_to_add)\n",
    "                    opening_solid_kmer_path_index = opening_missing_kmer_path_index - 1\n",
    "                    opening_solid_kmer = observation_kmers[opening_solid_kmer_path_index].fw\n",
    "                    closing_solid_kmer_path_index = findnext(map(x -> x != 0, kmer_index), opening_missing_kmer_path_index+1)\n",
    "                    if closing_solid_kmer_path_index == nothing\n",
    "                        closing_solid_kmer = nothing\n",
    "                    else\n",
    "                        closing_solid_kmer = observation_kmers[closing_solid_kmer_path_index].fw\n",
    "                    end\n",
    "                end\n",
    "            else\n",
    "                @show \"need to bump out\"\n",
    "                if opening_missing_kmer_path_index >= 2\n",
    "                    opening_missing_kmer_path_index -= 1\n",
    "                    opening_solid_kmer = nothing\n",
    "                    # this should now break out to larger while loop\n",
    "                end\n",
    "                # push out closing node and try again\n",
    "                closing_solid_kmer_path_index = findnext(map(x -> x != 0, kmer_index), closing_solid_kmer_path_index+1)\n",
    "\n",
    "                if closing_solid_kmer_path_index == nothing\n",
    "                    @show \"end is open\"\n",
    "                    closing_solid_kmer = nothing\n",
    "                else\n",
    "                    closing_solid_kmer = observation_kmers[closing_solid_kmer_path_index].fw\n",
    "                end\n",
    "            end\n",
    "        end\n",
    "    end\n",
    "    if closing_solid_kmer_path_index != nothing\n",
    "        append!(proposed_path, getproperty.(observation_kmers[closing_solid_kmer_path_index+1:end], :fw))\n",
    "    end\n",
    "end"
   ]
  },
  {
   "cell_type": "code",
   "execution_count": 1559,
   "id": "9d0f8ba9-7391-4d13-b053-ffa218931590",
   "metadata": {},
   "outputs": [
    {
     "data": {
      "text/plain": [
       "97-element Vector{BioSequences.DNAMer{7}}:\n",
       " TTTGACC\n",
       " TTGACCA\n",
       " TGACCAC\n",
       " GACCACA\n",
       " ACCACAG\n",
       " CCACAGA\n",
       " CACAGAG\n",
       " ACAGAGG\n",
       " CAGAGGA\n",
       " AGAGGAG\n",
       " GAGGAGG\n",
       " AGGAGGC\n",
       " GGAGGCT\n",
       " ⋮\n",
       " GCAAATT\n",
       " CAAATTT\n",
       " AAATTTG\n",
       " AATTTGT\n",
       " ATTTGTG\n",
       " TTTGTGG\n",
       " TTGTGGT\n",
       " TGTGGTA\n",
       " GTGGTAG\n",
       " TGGTAGA\n",
       " GGTAGAT\n",
       " GTAGATG"
      ]
     },
     "execution_count": 1559,
     "metadata": {},
     "output_type": "execute_result"
    }
   ],
   "source": [
    "proposed_path"
   ]
  },
  {
   "cell_type": "code",
   "execution_count": 1560,
   "id": "ebc0509b-4227-4dbb-9b30-e30f885d3942",
   "metadata": {},
   "outputs": [
    {
     "data": {
      "text/plain": [
       "103nt DNA Sequence:\n",
       "TTTGACCACAGAGGAGGCTTACACGTCGTGGAGAGAGAG…TATTCCGCGGAAGATCGCGAAGCAAATTTGTGGTAGATG"
      ]
     },
     "execution_count": 1560,
     "metadata": {},
     "output_type": "execute_result"
    }
   ],
   "source": [
    "proposed_seq = BioSequences.LongDNASeq(first(proposed_path))\n",
    "for kmer in proposed_path[2:end]\n",
    "    push!(proposed_seq, last(kmer))\n",
    "end\n",
    "proposed_seq"
   ]
  },
  {
   "cell_type": "code",
   "execution_count": 1561,
   "id": "46006c09-daf3-4628-8585-7946328c975f",
   "metadata": {},
   "outputs": [
    {
     "data": {
      "text/plain": [
       "BioAlignments.PairwiseAlignmentResult{Int64, BioSequences.LongDNASeq, BioSequences.LongDNASeq}:\n",
       "  distance: 16\n",
       "  seq:   1 TTTGAC-CACAG-AGGAG-GCTTACACGTCGTGGAGAGAGAGAGAGGGGGTTGCAGACAG  57\n",
       "           |||||| ||||| ||||| || ||| | |||||||| | |||| |||| ||||||||  |\n",
       "  ref:   1 TTTGACTCACAGAAGGAGAGCCTAC-C-TCGTGGAG-G-GAGA-AGGGAGTTGCAGAGTG  55\n",
       "\n",
       "  seq:  58 CGCGCTCTATTCCGCGGAAGATCGCGAAGCAAA-TTTGTGGTAGATG 103\n",
       "           |||  |||||| ||||||||||||||||||||| |||||||||||||\n",
       "  ref:  56 CGC-TTCTATT-CGCGGAAGATCGCGAAGCAAATTTTGTGGTAGATG 100\n"
      ]
     },
     "execution_count": 1561,
     "metadata": {},
     "output_type": "execute_result"
    }
   ],
   "source": [
    "new_alignment = BioAlignments.pairalign(BioAlignments.LevenshteinDistance(), proposed_seq, genome)"
   ]
  },
  {
   "cell_type": "code",
   "execution_count": 1562,
   "id": "7dddb7f3-7466-4852-bd9a-ec365d56c3a2",
   "metadata": {},
   "outputs": [
    {
     "data": {
      "text/plain": [
       "BioAlignments.PairwiseAlignmentResult{Int64, BioSequences.LongDNASeq, BioSequences.LongDNASeq}:\n",
       "  distance: 51\n",
       "  seq:   1 CATCTAC-CACA-AATTTGCTTCGCGATCTTCCGCGGA-ATAG-AGCGCGCTGTCTGCAA  56\n",
       "             |  || |||| ||   |   | | | | | || |||   || || | | || | | | \n",
       "  ref:   0 -TTTGACTCACAGAAGGAG-AGC-CTA-CCT-CGTGGAGGGAGAAGGGAGTTG-CAG-AG  53\n",
       "\n",
       "  seq:  57 CCCCCTCTCTCTCTCTC-CACGA-CGTGTAAGCCTCCTCTGTGGT-CAAA 103\n",
       "             | || ||| | || |  | || || | ||||    | ||||||  |  \n",
       "  ref:  54 TGCGCT-TCTAT-TCGCGGAAGATCGCG-AAGCAAATTTTGTGGTAGATG 100\n"
      ]
     },
     "execution_count": 1562,
     "metadata": {},
     "output_type": "execute_result"
    }
   ],
   "source": [
    "reverse_new_alignment = BioAlignments.pairalign(BioAlignments.LevenshteinDistance(), BioSequences.reverse_complement(proposed_seq), genome)"
   ]
  },
  {
   "cell_type": "code",
   "execution_count": 1563,
   "id": "0bcb9396-faf4-4c0d-bc85-8f13c9016229",
   "metadata": {},
   "outputs": [],
   "source": [
    "if reverse_new_alignment.value < new_alignment.value\n",
    "#     observation = BioSequences.reverse_complement!(observation)\n",
    "    new_alignment = reverse_new_alignment\n",
    "    @show \"flipping\"\n",
    "end"
   ]
  },
  {
   "cell_type": "code",
   "execution_count": 1564,
   "id": "697153c4-416f-4308-80c9-216df5c4e893",
   "metadata": {},
   "outputs": [
    {
     "name": "stdout",
     "output_type": "stream",
     "text": [
      "\"newer is worse, keep original\" = \"newer is worse, keep original\"\n",
      "(new_alignment.value, alignment.value) = (16, 15)\n",
      "-1/100\n"
     ]
    }
   ],
   "source": [
    "if new_alignment.value <= alignment.value\n",
    "    @show \"newer is equivalent or better\"\n",
    "    @show new_alignment.value, alignment.value\n",
    "    println(alignment.value - new_alignment.value,'/',length(genome))\n",
    "else\n",
    "    @show \"newer is worse, keep original\"\n",
    "    @show new_alignment.value, alignment.value\n",
    "    println(alignment.value - new_alignment.value,'/',length(genome))\n",
    "#     @show alignment.value - new_alignment.value, length(genome) \n",
    "end"
   ]
  },
  {
   "cell_type": "code",
   "execution_count": null,
   "id": "093abb54-070a-497f-a1b8-c6e03ca6dc72",
   "metadata": {},
   "outputs": [],
   "source": [
    "# outcome\n",
    "# resampling with probability 1/(2^(count-1)) seems like a good approach!\n",
    "# sometimes we really botch the outcomes, so don't always accept\n",
    "# also, we can't use alignment against reference in cases where we don't have a reference\n",
    "# use joint probabilities of all vertices * length of sequence to get sequence likelihood"
   ]
  },
  {
   "cell_type": "code",
   "execution_count": 1620,
   "id": "5b3a7454-3c11-4920-9360-5e97ae99bd62",
   "metadata": {},
   "outputs": [
    {
     "data": {
      "text/plain": [
       "4-element Vector{Float64}:\n",
       " 0.8754820640153844\n",
       " 0.006895361784062581\n",
       " 0.22447251989607886\n",
       " 0.6750403927765825"
      ]
     },
     "execution_count": 1620,
     "metadata": {},
     "output_type": "execute_result"
    }
   ],
   "source": [
    "probabilities = [rand() for i in 1:rand(1:10)]"
   ]
  },
  {
   "cell_type": "code",
   "execution_count": 1621,
   "id": "6b460e14-d634-478d-a4fa-a917cb635ee5",
   "metadata": {},
   "outputs": [
    {
     "data": {
      "text/plain": [
       "0.003658956485854512"
      ]
     },
     "execution_count": 1621,
     "metadata": {},
     "output_type": "execute_result"
    }
   ],
   "source": [
    "reduce(*, probabilities) * length(probabilities)"
   ]
  },
  {
   "cell_type": "code",
   "execution_count": 1622,
   "id": "e2e5a599-6120-43c3-95c7-c4f1e517b39f",
   "metadata": {},
   "outputs": [
    {
     "data": {
      "text/plain": [
       "0.005366148396092882"
      ]
     },
     "execution_count": 1622,
     "metadata": {},
     "output_type": "execute_result"
    }
   ],
   "source": [
    "probabilities[rand(1:length(probabilities))] = .99\n",
    "reduce(*, probabilities) * length(probabilities)"
   ]
  },
  {
   "cell_type": "code",
   "execution_count": 1569,
   "id": "ca857175-36e4-4df8-8452-500b76d95b02",
   "metadata": {},
   "outputs": [
    {
     "data": {
      "text/plain": [
       "Summary Stats:\n",
       "Length:         475\n",
       "Missing Count:  0\n",
       "Mean:           2.004211\n",
       "Minimum:        1.000000\n",
       "1st Quartile:   1.000000\n",
       "Median:         1.000000\n",
       "3rd Quartile:   2.000000\n",
       "Maximum:        9.000000\n"
      ]
     },
     "execution_count": 1569,
     "metadata": {},
     "output_type": "execute_result"
    }
   ],
   "source": [
    "# StatsBase.summarystats(collect(values(kmer_counts)))"
   ]
  }
 ],
 "metadata": {
  "kernelspec": {
   "display_name": "Julia 1.6.1",
   "language": "julia",
   "name": "julia-1.6"
  },
  "language_info": {
   "file_extension": ".jl",
   "mimetype": "application/julia",
   "name": "julia",
   "version": "1.6.1"
  }
 },
 "nbformat": 4,
 "nbformat_minor": 5
}
