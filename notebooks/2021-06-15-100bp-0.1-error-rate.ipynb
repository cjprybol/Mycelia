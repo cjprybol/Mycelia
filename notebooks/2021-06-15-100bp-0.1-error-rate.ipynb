{
 "cells": [
  {
   "cell_type": "code",
   "execution_count": 1,
   "metadata": {},
   "outputs": [
    {
     "data": {
      "text/plain": [
       "\"/Users/cameronprybol/2021-06-15-100bp-0.1-error-rate\""
      ]
     },
     "execution_count": 1,
     "metadata": {},
     "output_type": "execute_result"
    }
   ],
   "source": [
    "DATE = \"2021-06-15\"\n",
    "TASK = \"100bp-0.1-error-rate\"\n",
    "DIR = \"$(DATE)-$(TASK)\"\n",
    "DIR = mkpath(\"$(homedir())/$(DIR)\")"
   ]
  },
  {
   "cell_type": "code",
   "execution_count": 47,
   "metadata": {},
   "outputs": [],
   "source": [
    "pkgs = [\n",
    "\"LightGraphs\",\n",
    "\"MetaGraphs\",\n",
    "\"BioSequences\",\n",
    "\"uCSV\",\n",
    "\"DataFrames\",\n",
    "\"FASTX\",\n",
    "\"HTTP\",\n",
    "\"CodecZlib\",\n",
    "\"DataStructures\",\n",
    "\"Revise\",\n",
    "\"ProgressMeter\",\n",
    "\"BenchmarkTools\",\n",
    "\"Random\",\n",
    "\"StatsBase\",\n",
    "\"SparseArrays\",\n",
    "\"Statistics\",\n",
    "\"BioAlignments\"\n",
    "]\n",
    "\n",
    "import Pkg\n",
    "Pkg.add(pkgs)\n",
    "for pkg in pkgs\n",
    "    eval(Meta.parse(\"import $(basename(pkg))\"))\n",
    "end\n",
    "\n",
    "import Mycelia"
   ]
  },
  {
   "cell_type": "code",
   "execution_count": null,
   "metadata": {
    "jupyter": {
     "source_hidden": true
    }
   },
   "outputs": [],
   "source": [
    "# # 11, 17 is too small\n",
    "# for k in [13, 17, 23, 31, 41, 53]\n",
    "#     @show k\n",
    "#     outgraph = \"$(DIR)/simplified-kayvirus.k_$(k).all_ncbi.gfa\"\n",
    "#     # if !isfile(outgraph)\n",
    "#     accessions = ncbi_staph_phage_metadata[!, \"Accession\"]\n",
    "#     fastx_iterator = (Mycelia.get_sequence(db=\"nuccore\", accession=accession) for accession in accessions)\n",
    "#     KMER_TYPE = BioSequences.BigDNAMer{k}\n",
    "#     @time kmer_graph = Mycelia.fastx_to_kmer_graph(KMER_TYPE, fastx_iterator)\n",
    "\n",
    "#     @info \"simplifying kmer graph\"\n",
    "#     @info \"resolving untigs...\"\n",
    "#     @time untigs = Mycelia.resolve_untigs(kmer_graph)\n",
    "\n",
    "#     @info \"determining untig orientations...\"\n",
    "#     @time oriented_untigs = Mycelia.determine_oriented_untigs(kmer_graph, untigs)\n",
    "\n",
    "#     simplified_graph = MetaGraphs.MetaDiGraph(length(oriented_untigs))\n",
    "#     MetaGraphs.set_prop!(simplified_graph, :k, kmer_graph.gprops[:k])\n",
    "#     @info \"initializing graph node metadata\"\n",
    "#     ProgressMeter.@showprogress for (vertex, untig) in enumerate(oriented_untigs)\n",
    "#         MetaGraphs.set_prop!(simplified_graph, vertex, :sequence, untig.sequence)\n",
    "#         MetaGraphs.set_prop!(simplified_graph, vertex, :path, untig.path)\n",
    "#         MetaGraphs.set_prop!(simplified_graph, vertex, :orientations, untig.orientations)\n",
    "#         MetaGraphs.set_prop!(simplified_graph, vertex, :evidence, untig.evidence)\n",
    "#     end\n",
    "\n",
    "#     # determine oriented edges of simplified graph\n",
    "#     simplified_untigs = Vector{Pair{Pair{Int64,Bool},Pair{Int64,Bool}}}(undef, length(LightGraphs.vertices(simplified_graph)))\n",
    "#     @info \"creating simplified unitgs to help resolve connections\"\n",
    "#     # use a pre-allocated array here to speed up\n",
    "#     ProgressMeter.@showprogress for vertex in LightGraphs.vertices(simplified_graph)\n",
    "#         in_kmer = simplified_graph.vprops[vertex][:path][1] => simplified_graph.vprops[vertex][:orientations][1]\n",
    "#         out_kmer = simplified_graph.vprops[vertex][:path][end] => simplified_graph.vprops[vertex][:orientations][end]\n",
    "#     #     @show vertex, in_kmer, out_kmer\n",
    "#         simplified_untigs[vertex] = in_kmer => out_kmer\n",
    "#     #     push!(simplified_untigs, )\n",
    "#     end\n",
    "\n",
    "#     # make a dictionary mapping endcap to oriented_untig index\n",
    "\n",
    "#     end_mer_map = Dict()\n",
    "#     ProgressMeter.@showprogress for (i, oriented_untig) in enumerate(oriented_untigs)\n",
    "#         end_mer_map[first(oriented_untig.path)] = i\n",
    "#         end_mer_map[last(oriented_untig.path)] = i\n",
    "#     end\n",
    "\n",
    "#     ProgressMeter.@showprogress for (untig_index, oriented_untig) in enumerate(oriented_untigs)\n",
    "#     #     @show untig_index\n",
    "#         true_in_overlap = oriented_untig.sequence[1:simplified_graph.gprops[:k]-1]\n",
    "\n",
    "#         non_backtracking_neighbors = LightGraphs.neighbors(kmer_graph, oriented_untig.path[1])\n",
    "#         if length(oriented_untig.path) > 1\n",
    "#             non_backtracking_neighbors = setdiff(non_backtracking_neighbors, oriented_untig.path[2])\n",
    "#         end\n",
    "#         for non_backtracking_neighbor in non_backtracking_neighbors\n",
    "#             neighboring_untig_index = end_mer_map[non_backtracking_neighbor]\n",
    "#             neighboring_untig = oriented_untigs[neighboring_untig_index]\n",
    "\n",
    "#             neighbor_true_out_overlap = neighboring_untig.sequence[end-simplified_graph.gprops[:k]+2:end]\n",
    "#             if neighbor_true_out_overlap == true_in_overlap\n",
    "#                 e = LightGraphs.Edge(neighboring_untig_index, untig_index)\n",
    "#     #             o = true => true\n",
    "#                 o = (source_orientation = true, destination_orientation = true)\n",
    "#                 LightGraphs.add_edge!(simplified_graph, e)\n",
    "#                 Mycelia.set_metadata!(simplified_graph, e, :orientations, o)    \n",
    "#             end\n",
    "\n",
    "#             neighbor_false_out_overlap = BioSequences.reverse_complement(neighboring_untig.sequence)[end-simplified_graph.gprops[:k]+2:end]\n",
    "#             if neighbor_false_out_overlap == true_in_overlap        \n",
    "#                 e = LightGraphs.Edge(neighboring_untig_index, untig_index)\n",
    "#     #             o = false => true\n",
    "#                 o = (source_orientation = false, destination_orientation = true)\n",
    "#                 LightGraphs.add_edge!(simplified_graph, e)\n",
    "#                 Mycelia.set_metadata!(simplified_graph, e, :orientations, o)    \n",
    "#             end\n",
    "#         end\n",
    "\n",
    "#         true_out_overlap = oriented_untig.sequence[end-simplified_graph.gprops[:k]+2:end]\n",
    "#         non_backtracking_neighbors = LightGraphs.neighbors(kmer_graph, oriented_untig.path[end])\n",
    "#         if length(oriented_untig.path) > 1\n",
    "#             non_backtracking_neighbors = setdiff(non_backtracking_neighbors, oriented_untig.path[end-1])\n",
    "#         end\n",
    "#         for non_backtracking_neighbor in non_backtracking_neighbors\n",
    "#             neighboring_untig_index = end_mer_map[non_backtracking_neighbor]\n",
    "#             neighboring_untig = oriented_untigs[neighboring_untig_index]\n",
    "\n",
    "#             neighbor_true_in_overlap = neighboring_untig.sequence[1:simplified_graph.gprops[:k]-1]\n",
    "#             if true_out_overlap == neighbor_true_in_overlap\n",
    "#                 e = LightGraphs.Edge(untig_index, neighboring_untig_index)\n",
    "#     #             o = true => true\n",
    "#                 o = (source_orientation = true, destination_orientation = true)\n",
    "#                 LightGraphs.add_edge!(simplified_graph, e)\n",
    "#                 Mycelia.set_metadata!(simplified_graph, e, :orientations, o)    \n",
    "#             end\n",
    "\n",
    "#             neighbor_false_in_overlap = BioSequences.reverse_complement(neighboring_untig.sequence)[1:simplified_graph.gprops[:k]-1]\n",
    "#             if true_out_overlap == neighbor_false_in_overlap\n",
    "#                 e = LightGraphs.Edge(untig_index, neighboring_untig_index)\n",
    "#     #             o = true => false\n",
    "#                 o = (source_orientation = true, destination_orientation = false)\n",
    "#                 LightGraphs.add_edge!(simplified_graph, e)\n",
    "#                 Mycelia.set_metadata!(simplified_graph, e, :orientations, o)    \n",
    "#             end\n",
    "#         end\n",
    "\n",
    "#         false_in_overlap = BioSequences.reverse_complement(oriented_untig.sequence)[1:simplified_graph.gprops[:k]-1]\n",
    "\n",
    "#         non_backtracking_neighbors = LightGraphs.neighbors(kmer_graph, oriented_untig.path[end])\n",
    "#         if length(oriented_untig.path) > 1\n",
    "#             non_backtracking_neighbors = setdiff(non_backtracking_neighbors, oriented_untig.path[end-1])\n",
    "#         end\n",
    "#         for non_backtracking_neighbor in non_backtracking_neighbors\n",
    "#             neighboring_untig_index = end_mer_map[non_backtracking_neighbor]\n",
    "#             neighboring_untig = oriented_untigs[neighboring_untig_index]\n",
    "\n",
    "#             neighbor_true_out_overlap = neighboring_untig.sequence[end-simplified_graph.gprops[:k]+2:end]\n",
    "#             if neighbor_true_out_overlap == false_in_overlap\n",
    "#                 e = LightGraphs.Edge(neighboring_untig_index, untig_index)\n",
    "#     #             o = true => false\n",
    "#                 o = (source_orientation = true, destination_orientation = false)\n",
    "#                 LightGraphs.add_edge!(simplified_graph, e)\n",
    "#                 Mycelia.set_metadata!(simplified_graph, e, :orientations, o)    \n",
    "#             end\n",
    "\n",
    "#             neighbor_false_out_overlap = BioSequences.reverse_complement(neighboring_untig.sequence)[end-simplified_graph.gprops[:k]+2:end]\n",
    "#             if neighbor_false_out_overlap == false_in_overlap        \n",
    "#                 e = LightGraphs.Edge(neighboring_untig_index, untig_index)\n",
    "#     #             o = false => false\n",
    "#                 o = (source_orientation = false, destination_orientation = false)\n",
    "#                 LightGraphs.add_edge!(simplified_graph, e)\n",
    "#                 Mycelia.set_metadata!(simplified_graph, e, :orientations, o)    \n",
    "#             end\n",
    "#         end\n",
    "\n",
    "#         false_out_overlap = BioSequences.reverse_complement(oriented_untig.sequence)[end-simplified_graph.gprops[:k]+2:end]\n",
    "\n",
    "#         non_backtracking_neighbors = LightGraphs.neighbors(kmer_graph, oriented_untig.path[1])\n",
    "#         if length(oriented_untig.path) > 1\n",
    "#             non_backtracking_neighbors = setdiff(non_backtracking_neighbors, oriented_untig.path[2])\n",
    "#         end\n",
    "\n",
    "#         for non_backtracking_neighbor in non_backtracking_neighbors\n",
    "#             neighboring_untig_index = end_mer_map[non_backtracking_neighbor]\n",
    "#             neighboring_untig = oriented_untigs[neighboring_untig_index]\n",
    "\n",
    "#             neighbor_true_in_overlap = neighboring_untig.sequence[1:simplified_graph.gprops[:k]-1]\n",
    "#             if false_out_overlap == neighbor_true_in_overlap\n",
    "#                 e = LightGraphs.Edge(untig_index, neighboring_untig_index)\n",
    "#     #             o = false => true\n",
    "#                 o = (source_orientation = false, destination_orientation = true)\n",
    "#                 LightGraphs.add_edge!(simplified_graph, e)\n",
    "#                 Mycelia.set_metadata!(simplified_graph, e, :orientations, o)    \n",
    "#             end\n",
    "\n",
    "#             neighbor_false_in_overlap = BioSequences.reverse_complement(neighboring_untig.sequence)[1:simplified_graph.gprops[:k]-1]\n",
    "#             if false_out_overlap == neighbor_false_in_overlap\n",
    "#                 e = LightGraphs.Edge(untig_index, neighboring_untig_index)\n",
    "#     #             o = false => false\n",
    "#                 o = (source_orientation = false, destination_orientation = false)\n",
    "#                 LightGraphs.add_edge!(simplified_graph, e)\n",
    "#                 Mycelia.set_metadata!(simplified_graph, e, :orientations, o)    \n",
    "#             end\n",
    "#         end\n",
    "#     end\n",
    "\n",
    "#     # ^ > 1 day down to 34 seconds!\n",
    "#     Mycelia.graph_to_gfa(simplified_graph, outgraph)\n",
    "# end"
   ]
  },
  {
   "cell_type": "code",
   "execution_count": 3,
   "metadata": {},
   "outputs": [
    {
     "data": {
      "text/plain": [
       "MersenneTwister(0)"
      ]
     },
     "execution_count": 3,
     "metadata": {},
     "output_type": "execute_result"
    }
   ],
   "source": [
    "# set a random seed\n",
    "seed = Random.seed!(0)"
   ]
  },
  {
   "cell_type": "code",
   "execution_count": 4,
   "metadata": {},
   "outputs": [
    {
     "data": {
      "text/plain": [
       "100nt DNA Sequence:\n",
       "AAGGGTGCGGTCTAGGTGCACTGCTTATGGTCCCCGACA…TCTACCTCTTTGTTGAAACGTATTCTTCTCTTAACACCT"
      ]
     },
     "execution_count": 4,
     "metadata": {},
     "output_type": "execute_result"
    }
   ],
   "source": [
    "# randomly generate a dna sequence of 100bp\n",
    "genome = BioSequences.randdnaseq(seed, 100)"
   ]
  },
  {
   "cell_type": "code",
   "execution_count": 5,
   "metadata": {},
   "outputs": [
    {
     "data": {
      "text/plain": [
       "0.1"
      ]
     },
     "execution_count": 5,
     "metadata": {},
     "output_type": "execute_result"
    }
   ],
   "source": [
    "# define error rate\n",
    "error_rate = 0.1"
   ]
  },
  {
   "cell_type": "code",
   "execution_count": 6,
   "metadata": {},
   "outputs": [],
   "source": [
    "# generate 100x coverage fastq file\n",
    "# put accuracy rate into fastq file\n",
    "coverage = 100\n",
    "fastq_file = \"$(DIR)/$(DATE)-$(TASK).fastq\"\n",
    "open(fastq_file, \"w\") do io\n",
    "    fastq_writer = FASTX.FASTQ.Writer(io)\n",
    "    for i in 1:coverage\n",
    "        observed_sequence = Mycelia.observe(genome, error_rate=error_rate)\n",
    "        q = -10 * log10(error_rate)\n",
    "        quality_scores = fill(q, length(observed_sequence))\n",
    "        fastq_record = FASTX.FASTQ.Record(\"i\", observed_sequence, quality_scores)\n",
    "        write(fastq_writer, fastq_record)\n",
    "    end\n",
    "end"
   ]
  },
  {
   "cell_type": "code",
   "execution_count": 7,
   "metadata": {},
   "outputs": [],
   "source": [
    "# build weighted kmer graph\n",
    "# at some point where we may want to record weights as integers rather than lists of evidence, but first confirm the algorithm"
   ]
  },
  {
   "cell_type": "code",
   "execution_count": 8,
   "metadata": {},
   "outputs": [
    {
     "data": {
      "text/plain": [
       "11"
      ]
     },
     "execution_count": 8,
     "metadata": {},
     "output_type": "execute_result"
    }
   ],
   "source": [
    "k = Int(1/error_rate + 1)"
   ]
  },
  {
   "cell_type": "code",
   "execution_count": 9,
   "metadata": {},
   "outputs": [
    {
     "data": {
      "text/plain": [
       "BioSequences.BigDNAMer{11} (alias for BioSequences.BigMer{BioSequences.DNAAlphabet{2}, 11})"
      ]
     },
     "execution_count": 9,
     "metadata": {},
     "output_type": "execute_result"
    }
   ],
   "source": [
    "kmer_type = BioSequences.BigDNAMer{k}"
   ]
  },
  {
   "cell_type": "code",
   "execution_count": 10,
   "metadata": {},
   "outputs": [
    {
     "name": "stderr",
     "output_type": "stream",
     "text": [
      "┌ Info: assessing kmers\n",
      "└ @ Mycelia /Users/cameronprybol/.julia/dev/Mycelia/src/Mycelia.jl:1877\n",
      "┌ Info: creating graph\n",
      "└ @ Mycelia /Users/cameronprybol/.julia/dev/Mycelia/src/Mycelia.jl:1891\n"
     ]
    },
    {
     "data": {
      "text/plain": [
       "{4765, 10236} directed Int64 metagraph with Float64 weights defined by :weight (default weight 1.0)"
      ]
     },
     "execution_count": 10,
     "metadata": {},
     "output_type": "execute_result"
    }
   ],
   "source": [
    "kmer_graph = Mycelia.fastx_to_kmer_graph(kmer_type, fastq_file)"
   ]
  },
  {
   "cell_type": "code",
   "execution_count": 11,
   "metadata": {},
   "outputs": [
    {
     "data": {
      "text/plain": [
       "\"/Users/cameronprybol/2021-06-15-100bp-0.1-error-rate/2021-06-15-100bp-0.1-error-rate.fastq.k-11.gfa\""
      ]
     },
     "execution_count": 11,
     "metadata": {},
     "output_type": "execute_result"
    }
   ],
   "source": [
    "# visualize\n",
    "gfa_file = fastq_file * \".k-$k.gfa\"\n",
    "Mycelia.graph_to_gfa(kmer_graph, gfa_file)"
   ]
  },
  {
   "cell_type": "code",
   "execution_count": 12,
   "metadata": {},
   "outputs": [
    {
     "data": {
      "text/plain": [
       "Process(`\u001b[4m/Applications/Bandage.app/Contents/MacOS/Bandage\u001b[24m \u001b[4mimage\u001b[24m \u001b[4m/Users/cameronprybol/2021-06-15-100bp-0.1-error-rate/2021-06-15-100bp-0.1-error-rate.fastq.k-11.gfa\u001b[24m \u001b[4m/Users/cameronprybol/2021-06-15-100bp-0.1-error-rate/2021-06-15-100bp-0.1-error-rate.fastq.k-11.gfa.svg\u001b[24m \u001b[4m--depwidth\u001b[24m \u001b[4m1\u001b[24m \u001b[4m--deppower\u001b[24m \u001b[4m1\u001b[24m`, ProcessExited(0))"
      ]
     },
     "execution_count": 12,
     "metadata": {},
     "output_type": "execute_result"
    }
   ],
   "source": [
    "run(`/Applications/Bandage.app/Contents/MacOS/Bandage image $(gfa_file) $(gfa_file).svg --depwidth 1 --deppower 1`)\n",
    "# --nodewidth <float> Average node width (0.5 to 1000, default: 5)\n",
    "# --depwidth <float>  Depth effect on width (0 to 1, default: 0.5)\n",
    "# --deppower <float>  Power of depth effect on width (0 to 1, default: 0.5)"
   ]
  },
  {
   "cell_type": "code",
   "execution_count": 13,
   "metadata": {},
   "outputs": [
    {
     "data": {
      "text/html": [
       "<img src=../../../../2021-06-15-100bp-0.1-error-rate/2021-06-15-100bp-0.1-error-rate.fastq.k-11.gfa.svg>"
      ]
     },
     "metadata": {},
     "output_type": "display_data"
    }
   ],
   "source": [
    "x = \"<img src=../../../../2021-06-15-100bp-0.1-error-rate/2021-06-15-100bp-0.1-error-rate.fastq.k-11.gfa.svg>\"\n",
    "display(\"text/html\", x)\n",
    "# display(\"image/svg+xml\", read(\"$(gfa_file).svg\", String))"
   ]
  },
  {
   "cell_type": "code",
   "execution_count": 14,
   "metadata": {},
   "outputs": [
    {
     "data": {
      "text/plain": [
       "FASTX.FASTQ.Reader{TranscodingStreams.NoopStream{IOStream}}(BioGenerics.Automa.State{TranscodingStreams.NoopStream{IOStream}}(TranscodingStreams.NoopStream{IOStream}(<mode=idle>), 1, 1, false), nothing)"
      ]
     },
     "execution_count": 14,
     "metadata": {},
     "output_type": "execute_result"
    }
   ],
   "source": [
    "fastq_io = FASTX.FASTQ.Reader(open(fastq_file))"
   ]
  },
  {
   "cell_type": "code",
   "execution_count": 15,
   "metadata": {},
   "outputs": [
    {
     "data": {
      "text/plain": [
       "FASTX.FASTQ.Record:\n",
       "   identifier: i\n",
       "  description: <missing>\n",
       "     sequence: AGATGTTAAGAGAGAGAATACTTTTCTAACAAAGTAGGTAATCAGATAATCACGCACGGTCCTGTCGAGGGACCCATAAGCAGTTCGCCAGACCGCACCCTT\n",
       "      quality: UInt8[0x0a, 0x0a, 0x0a, 0x0a, 0x0a, 0x0a, 0x0a, 0x0a, 0x0a, 0x0a  …  0x0a, 0x0a, 0x0a, 0x0a, 0x0a, 0x0a, 0x0a, 0x0a, 0x0a, 0x0a]"
      ]
     },
     "execution_count": 15,
     "metadata": {},
     "output_type": "execute_result"
    }
   ],
   "source": [
    "fastq_record = first(fastq_io)"
   ]
  },
  {
   "cell_type": "code",
   "execution_count": 16,
   "metadata": {},
   "outputs": [],
   "source": [
    "# for q in FASTX.quality(fastq_read)\n",
    "#     q = -10 * log10(error_rate)\n",
    "#     likelihood_error = 10^(q/(-10))\n",
    "#     display(likelihood_error)\n",
    "# end"
   ]
  },
  {
   "cell_type": "code",
   "execution_count": 17,
   "metadata": {},
   "outputs": [
    {
     "data": {
      "text/plain": [
       "4765-element Vector{BioSequences.BigDNAMer{11}}:\n",
       " AAAAAAGAGGT\n",
       " AAAAAAGAGTC\n",
       " AAAAACGAATT\n",
       " AAAAAGAGCTG\n",
       " AAAAAGAGGTA\n",
       " AAAAAGAGTCA\n",
       " AAAAATACGTT\n",
       " AAAAATCGTCT\n",
       " AAAACCGTAGT\n",
       " AAAACGAATTC\n",
       " AAAACTGTATT\n",
       " AAAAGAATACG\n",
       " AAAAGAGCTGA\n",
       " ⋮\n",
       " TTGTTAGAAAA\n",
       " TTTAAGAGAAA\n",
       " TTTAGTTGAAA\n",
       " TTTCAAACAAA\n",
       " TTTCAACAAAA\n",
       " TTTCAAGCAAA\n",
       " TTTCACACAAA\n",
       " TTTCACAGAAA\n",
       " TTTCAGACAAA\n",
       " TTTCTAACAAA\n",
       " TTTGCAACAAA\n",
       " TTTGTTAAAAA"
      ]
     },
     "execution_count": 17,
     "metadata": {},
     "output_type": "execute_result"
    }
   ],
   "source": [
    "kmers = [kmer_graph.vprops[v][:kmer] for v in LightGraphs.vertices(kmer_graph)]"
   ]
  },
  {
   "cell_type": "code",
   "execution_count": 18,
   "metadata": {},
   "outputs": [
    {
     "data": {
      "text/plain": [
       "4765-element Vector{Int64}:\n",
       " 1\n",
       " 1\n",
       " 1\n",
       " 1\n",
       " 3\n",
       " 1\n",
       " 1\n",
       " 1\n",
       " 1\n",
       " 1\n",
       " 1\n",
       " 2\n",
       " 1\n",
       " ⋮\n",
       " 1\n",
       " 1\n",
       " 1\n",
       " 1\n",
       " 2\n",
       " 1\n",
       " 1\n",
       " 1\n",
       " 1\n",
       " 1\n",
       " 2\n",
       " 1"
      ]
     },
     "execution_count": 18,
     "metadata": {},
     "output_type": "execute_result"
    }
   ],
   "source": [
    "kmer_counts = [length(kmer_graph.vprops[v][:evidence]) for v in LightGraphs.vertices(kmer_graph)]"
   ]
  },
  {
   "cell_type": "code",
   "execution_count": 19,
   "metadata": {},
   "outputs": [
    {
     "name": "stdout",
     "output_type": "stream",
     "text": [
      "Summary Stats:\n",
      "Length:         4765\n",
      "Missing Count:  0\n",
      "Mean:           1.428961\n",
      "Minimum:        1.000000\n",
      "1st Quartile:   1.000000\n",
      "Median:         1.000000\n",
      "3rd Quartile:   1.000000\n",
      "Maximum:        15.000000\n",
      "Type:           Int64\n"
     ]
    }
   ],
   "source": [
    "StatsBase.describe(kmer_counts)"
   ]
  },
  {
   "cell_type": "code",
   "execution_count": 20,
   "metadata": {},
   "outputs": [
    {
     "data": {
      "text/plain": [
       "4765-element Vector{Float64}:\n",
       " 0.000146864444118079\n",
       " 0.000146864444118079\n",
       " 0.000146864444118079\n",
       " 0.000146864444118079\n",
       " 0.00044059333235423704\n",
       " 0.000146864444118079\n",
       " 0.000146864444118079\n",
       " 0.000146864444118079\n",
       " 0.000146864444118079\n",
       " 0.000146864444118079\n",
       " 0.000146864444118079\n",
       " 0.000293728888236158\n",
       " 0.000146864444118079\n",
       " ⋮\n",
       " 0.000146864444118079\n",
       " 0.000146864444118079\n",
       " 0.000146864444118079\n",
       " 0.000146864444118079\n",
       " 0.000293728888236158\n",
       " 0.000146864444118079\n",
       " 0.000146864444118079\n",
       " 0.000146864444118079\n",
       " 0.000146864444118079\n",
       " 0.000146864444118079\n",
       " 0.000293728888236158\n",
       " 0.000146864444118079"
      ]
     },
     "execution_count": 20,
     "metadata": {},
     "output_type": "execute_result"
    }
   ],
   "source": [
    "kmer_likelihoods = kmer_counts ./ sum(kmer_counts)"
   ]
  },
  {
   "cell_type": "code",
   "execution_count": 21,
   "metadata": {},
   "outputs": [
    {
     "name": "stdout",
     "output_type": "stream",
     "text": [
      "Summary Stats:\n",
      "Length:         4765\n",
      "Missing Count:  0\n",
      "Mean:           0.000210\n",
      "Minimum:        0.000147\n",
      "1st Quartile:   0.000147\n",
      "Median:         0.000147\n",
      "3rd Quartile:   0.000147\n",
      "Maximum:        0.002203\n",
      "Type:           Float64\n"
     ]
    }
   ],
   "source": [
    "StatsBase.describe(kmer_likelihoods)"
   ]
  },
  {
   "cell_type": "code",
   "execution_count": 22,
   "metadata": {},
   "outputs": [],
   "source": [
    "# evaluate likelihood of first read"
   ]
  },
  {
   "cell_type": "code",
   "execution_count": 23,
   "metadata": {},
   "outputs": [
    {
     "data": {
      "text/plain": [
       "BioSequences.BigDNAMer{11} (alias for BioSequences.BigMer{BioSequences.DNAAlphabet{2}, 11})"
      ]
     },
     "execution_count": 23,
     "metadata": {},
     "output_type": "execute_result"
    }
   ],
   "source": [
    "kmer_type = BioSequences.BigDNAMer{kmer_graph.gprops[:k]}"
   ]
  },
  {
   "cell_type": "code",
   "execution_count": 26,
   "metadata": {},
   "outputs": [
    {
     "data": {
      "text/plain": [
       "4765"
      ]
     },
     "execution_count": 26,
     "metadata": {},
     "output_type": "execute_result"
    }
   ],
   "source": [
    "K = length(LightGraphs.vertices(kmer_graph))"
   ]
  },
  {
   "cell_type": "code",
   "execution_count": 27,
   "metadata": {},
   "outputs": [],
   "source": [
    "transition_likelihoods = Dict(\n",
    "    true => SparseArrays.spzeros(K, K),\n",
    "    false => SparseArrays.spzeros(K, K)\n",
    ")\n",
    "\n",
    "for edge in collect(LightGraphs.edges(kmer_graph))\n",
    "    weight = length(kmer_graph.eprops[edge][:evidence])\n",
    "    for o in kmer_graph.eprops[edge][:orientations]\n",
    "        transition_likelihoods[o.source_orientation][edge.src, edge.dst] = weight\n",
    "    end\n",
    "end\n",
    "\n",
    "for source_orientation in (true, false)\n",
    "    for src in 1:K\n",
    "        transition_weights = transition_likelihoods[source_orientation][src, :]\n",
    "        total_weight = sum(transition_weights)\n",
    "        dsts, vals = SparseArrays.findnz(transition_weights)\n",
    "        for (dst, val) in zip(dsts, vals) \n",
    "            transition_likelihoods[source_orientation][src, dst] = val / total_weight\n",
    "        end\n",
    "        normalized_probability = sum(transition_likelihoods[source_orientation][src, :])\n",
    "        @assert isapprox(normalized_probability, 0) || isapprox(normalized_probability, 1)\n",
    "    end\n",
    "end"
   ]
  },
  {
   "cell_type": "code",
   "execution_count": 28,
   "metadata": {},
   "outputs": [],
   "source": [
    "# evaluate probability of each state"
   ]
  },
  {
   "cell_type": "code",
   "execution_count": 30,
   "metadata": {},
   "outputs": [
    {
     "data": {
      "text/plain": [
       "92"
      ]
     },
     "execution_count": 30,
     "metadata": {},
     "output_type": "execute_result"
    }
   ],
   "source": [
    "number_of_kmers_in_read = length(FASTX.sequence(fastq_record))-k+1"
   ]
  },
  {
   "cell_type": "code",
   "execution_count": null,
   "metadata": {},
   "outputs": [],
   "source": [
    "# maybe don't pre-calculate the shortest paths?\n",
    "# shortest_paths = LightGraphs.enumerate_paths(LightGraphs.floyd_warshall_shortest_paths(kmer_graph))"
   ]
  },
  {
   "cell_type": "code",
   "execution_count": null,
   "metadata": {},
   "outputs": [],
   "source": [
    "# src = first(LightGraphs.edges(kmer_graph)).src\n",
    "# dst = first(LightGraphs.edges(kmer_graph)).dst\n",
    "# LightGraphs.a_star(kmer_graph, src, dst)"
   ]
  },
  {
   "cell_type": "code",
   "execution_count": 31,
   "metadata": {},
   "outputs": [
    {
     "data": {
      "text/plain": [
       "4765×92 Matrix{Float64}:\n",
       " 0.0  0.0  0.0  0.0  0.0  0.0  0.0  0.0  …  0.0  0.0  0.0  0.0  0.0  0.0  0.0\n",
       " 0.0  0.0  0.0  0.0  0.0  0.0  0.0  0.0     0.0  0.0  0.0  0.0  0.0  0.0  0.0\n",
       " 0.0  0.0  0.0  0.0  0.0  0.0  0.0  0.0     0.0  0.0  0.0  0.0  0.0  0.0  0.0\n",
       " 0.0  0.0  0.0  0.0  0.0  0.0  0.0  0.0     0.0  0.0  0.0  0.0  0.0  0.0  0.0\n",
       " 0.0  0.0  0.0  0.0  0.0  0.0  0.0  0.0     0.0  0.0  0.0  0.0  0.0  0.0  0.0\n",
       " 0.0  0.0  0.0  0.0  0.0  0.0  0.0  0.0  …  0.0  0.0  0.0  0.0  0.0  0.0  0.0\n",
       " 0.0  0.0  0.0  0.0  0.0  0.0  0.0  0.0     0.0  0.0  0.0  0.0  0.0  0.0  0.0\n",
       " 0.0  0.0  0.0  0.0  0.0  0.0  0.0  0.0     0.0  0.0  0.0  0.0  0.0  0.0  0.0\n",
       " 0.0  0.0  0.0  0.0  0.0  0.0  0.0  0.0     0.0  0.0  0.0  0.0  0.0  0.0  0.0\n",
       " 0.0  0.0  0.0  0.0  0.0  0.0  0.0  0.0     0.0  0.0  0.0  0.0  0.0  0.0  0.0\n",
       " 0.0  0.0  0.0  0.0  0.0  0.0  0.0  0.0  …  0.0  0.0  0.0  0.0  0.0  0.0  0.0\n",
       " 0.0  0.0  0.0  0.0  0.0  0.0  0.0  0.0     0.0  0.0  0.0  0.0  0.0  0.0  0.0\n",
       " 0.0  0.0  0.0  0.0  0.0  0.0  0.0  0.0     0.0  0.0  0.0  0.0  0.0  0.0  0.0\n",
       " ⋮                        ⋮              ⋱  ⋮                        ⋮    \n",
       " 0.0  0.0  0.0  0.0  0.0  0.0  0.0  0.0     0.0  0.0  0.0  0.0  0.0  0.0  0.0\n",
       " 0.0  0.0  0.0  0.0  0.0  0.0  0.0  0.0     0.0  0.0  0.0  0.0  0.0  0.0  0.0\n",
       " 0.0  0.0  0.0  0.0  0.0  0.0  0.0  0.0  …  0.0  0.0  0.0  0.0  0.0  0.0  0.0\n",
       " 0.0  0.0  0.0  0.0  0.0  0.0  0.0  0.0     0.0  0.0  0.0  0.0  0.0  0.0  0.0\n",
       " 0.0  0.0  0.0  0.0  0.0  0.0  0.0  0.0     0.0  0.0  0.0  0.0  0.0  0.0  0.0\n",
       " 0.0  0.0  0.0  0.0  0.0  0.0  0.0  0.0     0.0  0.0  0.0  0.0  0.0  0.0  0.0\n",
       " 0.0  0.0  0.0  0.0  0.0  0.0  0.0  0.0     0.0  0.0  0.0  0.0  0.0  0.0  0.0\n",
       " 0.0  0.0  0.0  0.0  0.0  0.0  0.0  0.0  …  0.0  0.0  0.0  0.0  0.0  0.0  0.0\n",
       " 0.0  0.0  0.0  0.0  0.0  0.0  0.0  0.0     0.0  0.0  0.0  0.0  0.0  0.0  0.0\n",
       " 0.0  0.0  0.0  0.0  0.0  0.0  0.0  0.0     0.0  0.0  0.0  0.0  0.0  0.0  0.0\n",
       " 0.0  0.0  0.0  0.0  0.0  0.0  0.0  0.0     0.0  0.0  0.0  0.0  0.0  0.0  0.0\n",
       " 0.0  0.0  0.0  0.0  0.0  0.0  0.0  0.0     0.0  0.0  0.0  0.0  0.0  0.0  0.0"
      ]
     },
     "execution_count": 31,
     "metadata": {},
     "output_type": "execute_result"
    }
   ],
   "source": [
    "state_likelihoods = zeros(K, number_of_kmers_in_read)"
   ]
  },
  {
   "cell_type": "code",
   "execution_count": 74,
   "metadata": {},
   "outputs": [
    {
     "data": {
      "text/plain": [
       "4765×92 Matrix{Vector{Pair{Int64, Bool}}}:\n",
       " []  []  []  []  []  []  []  []  []  …  []  []  []  []  []  []  []  []  []\n",
       " []  []  []  []  []  []  []  []  []     []  []  []  []  []  []  []  []  []\n",
       " []  []  []  []  []  []  []  []  []     []  []  []  []  []  []  []  []  []\n",
       " []  []  []  []  []  []  []  []  []     []  []  []  []  []  []  []  []  []\n",
       " []  []  []  []  []  []  []  []  []     []  []  []  []  []  []  []  []  []\n",
       " []  []  []  []  []  []  []  []  []  …  []  []  []  []  []  []  []  []  []\n",
       " []  []  []  []  []  []  []  []  []     []  []  []  []  []  []  []  []  []\n",
       " []  []  []  []  []  []  []  []  []     []  []  []  []  []  []  []  []  []\n",
       " []  []  []  []  []  []  []  []  []     []  []  []  []  []  []  []  []  []\n",
       " []  []  []  []  []  []  []  []  []     []  []  []  []  []  []  []  []  []\n",
       " []  []  []  []  []  []  []  []  []  …  []  []  []  []  []  []  []  []  []\n",
       " []  []  []  []  []  []  []  []  []     []  []  []  []  []  []  []  []  []\n",
       " []  []  []  []  []  []  []  []  []     []  []  []  []  []  []  []  []  []\n",
       " ⋮                   ⋮               ⋱          ⋮                   ⋮   \n",
       " []  []  []  []  []  []  []  []  []     []  []  []  []  []  []  []  []  []\n",
       " []  []  []  []  []  []  []  []  []     []  []  []  []  []  []  []  []  []\n",
       " []  []  []  []  []  []  []  []  []  …  []  []  []  []  []  []  []  []  []\n",
       " []  []  []  []  []  []  []  []  []     []  []  []  []  []  []  []  []  []\n",
       " []  []  []  []  []  []  []  []  []     []  []  []  []  []  []  []  []  []\n",
       " []  []  []  []  []  []  []  []  []     []  []  []  []  []  []  []  []  []\n",
       " []  []  []  []  []  []  []  []  []     []  []  []  []  []  []  []  []  []\n",
       " []  []  []  []  []  []  []  []  []  …  []  []  []  []  []  []  []  []  []\n",
       " []  []  []  []  []  []  []  []  []     []  []  []  []  []  []  []  []  []\n",
       " []  []  []  []  []  []  []  []  []     []  []  []  []  []  []  []  []  []\n",
       " []  []  []  []  []  []  []  []  []     []  []  []  []  []  []  []  []  []\n",
       " []  []  []  []  []  []  []  []  []     []  []  []  []  []  []  []  []  []"
      ]
     },
     "execution_count": 74,
     "metadata": {},
     "output_type": "execute_result"
    }
   ],
   "source": [
    "arrival_paths = fill(Pair{Int, Bool}[], K, number_of_kmers_in_read)"
   ]
  },
  {
   "cell_type": "code",
   "execution_count": 33,
   "metadata": {},
   "outputs": [
    {
     "data": {
      "text/plain": [
       "Mer iteration result:\n",
       "Position: 1\n",
       "Forward: AGATGTTAAGA\n",
       "Backward: TCTTAACATCT\n"
      ]
     },
     "execution_count": 33,
     "metadata": {},
     "output_type": "execute_result"
    }
   ],
   "source": [
    "initial_state = first(BioSequences.each(kmer_type, FASTX.sequence(fastq_record)))"
   ]
  },
  {
   "cell_type": "code",
   "execution_count": 35,
   "metadata": {},
   "outputs": [
    {
     "data": {
      "text/plain": [
       "10.0"
      ]
     },
     "execution_count": 35,
     "metadata": {},
     "output_type": "execute_result"
    }
   ],
   "source": [
    "# note this is a place for potential improvement, use the q value at each base to guide probability rather than median\n",
    "median_q_value = Statistics.median(Int.(FASTX.quality(fastq_record)[1:k]))"
   ]
  },
  {
   "cell_type": "code",
   "execution_count": 36,
   "metadata": {},
   "outputs": [
    {
     "data": {
      "text/plain": [
       "error_rate_to_q_value (generic function with 1 method)"
      ]
     },
     "execution_count": 36,
     "metadata": {},
     "output_type": "execute_result"
    }
   ],
   "source": [
    "function q_value_to_error_rate(q_value)\n",
    "    error_rate = 10^(q_value/(-10))\n",
    "    return error_rate\n",
    "end\n",
    "\n",
    "function error_rate_to_q_value(error_rate)\n",
    "    q_value = -10 * log10(error_rate)\n",
    "    return q_value\n",
    "end"
   ]
  },
  {
   "cell_type": "code",
   "execution_count": 38,
   "metadata": {},
   "outputs": [
    {
     "data": {
      "text/plain": [
       "0.1"
      ]
     },
     "execution_count": 38,
     "metadata": {},
     "output_type": "execute_result"
    }
   ],
   "source": [
    "current_error_rate = q_value_to_error_rate(median_q_value)"
   ]
  },
  {
   "cell_type": "code",
   "execution_count": 40,
   "metadata": {},
   "outputs": [
    {
     "data": {
      "text/plain": [
       "DNA 11-mer:\n",
       "AGATGTTAAGA"
      ]
     },
     "execution_count": 40,
     "metadata": {},
     "output_type": "execute_result"
    }
   ],
   "source": [
    "canonical_kmer = BioSequences.canonical(initial_state.fw)"
   ]
  },
  {
   "cell_type": "code",
   "execution_count": 41,
   "metadata": {},
   "outputs": [
    {
     "data": {
      "text/plain": [
       "true"
      ]
     },
     "execution_count": 41,
     "metadata": {},
     "output_type": "execute_result"
    }
   ],
   "source": [
    "observed_orientation = initial_state.fw == initial_canonical_kmer"
   ]
  },
  {
   "cell_type": "code",
   "execution_count": 75,
   "metadata": {},
   "outputs": [],
   "source": [
    "x = nothing\n",
    "for vertex in collect(LightGraphs.vertices(kmer_graph))\n",
    "    hidden_kmer = kmer_graph.vprops[vertex][:kmer]\n",
    "\n",
    "    fw_alignment = \n",
    "        BioAlignments.pairalign(\n",
    "            BioAlignments.LevenshteinDistance(), \n",
    "            canonical_kmer, \n",
    "            hidden_kmer)\n",
    "    \n",
    "    fw_probability = 1.0\n",
    "    \n",
    "    for match in 1:BioAlignments.count_matches(BioAlignments.alignment(fw_alignment))\n",
    "        fw_probability *= 1 - error_rate\n",
    "    end\n",
    "\n",
    "    for edit in 1:fw_alignment.value\n",
    "        fw_probability *= error_rate\n",
    "    end\n",
    "    \n",
    "    bw_alignment = \n",
    "        BioAlignments.pairalign(\n",
    "            BioAlignments.LevenshteinDistance(),\n",
    "            BioSequences.reverse_complement(canonical_kmer),\n",
    "            hidden_kmer)\n",
    "    \n",
    "    bw_probability = 1.0\n",
    "    \n",
    "    for match in 1:BioAlignments.count_matches(BioAlignments.alignment(bw_alignment))\n",
    "        bw_probability *= 1 - error_rate\n",
    "    end\n",
    "\n",
    "    for edit in 1:bw_alignment.value\n",
    "        bw_probability *= error_rate\n",
    "    end\n",
    "    \n",
    "    if fw_probability >= bw_probability\n",
    "        state_probability = fw_probability\n",
    "        state_orientation = true\n",
    "    else\n",
    "        state_probability = bw_probability\n",
    "        state_orientation = false\n",
    "    end\n",
    "    state_likelihoods[vertex, 1] = state_probability\n",
    "    arrival_paths[vertex, 1] = [vertex => state_orientation]\n",
    "end"
   ]
  },
  {
   "cell_type": "code",
   "execution_count": 76,
   "metadata": {},
   "outputs": [
    {
     "data": {
      "text/plain": [
       "4765×92 Matrix{Float64}:\n",
       " 6.561e-8    0.0  0.0  0.0  0.0  0.0  …  0.0  0.0  0.0  0.0  0.0  0.0  0.0\n",
       " 5.9049e-8   0.0  0.0  0.0  0.0  0.0     0.0  0.0  0.0  0.0  0.0  0.0  0.0\n",
       " 6.561e-8    0.0  0.0  0.0  0.0  0.0     0.0  0.0  0.0  0.0  0.0  0.0  0.0\n",
       " 5.9049e-8   0.0  0.0  0.0  0.0  0.0     0.0  0.0  0.0  0.0  0.0  0.0  0.0\n",
       " 5.9049e-8   0.0  0.0  0.0  0.0  0.0     0.0  0.0  0.0  0.0  0.0  0.0  0.0\n",
       " 5.9049e-8   0.0  0.0  0.0  0.0  0.0  …  0.0  0.0  0.0  0.0  0.0  0.0  0.0\n",
       " 5.9049e-8   0.0  0.0  0.0  0.0  0.0     0.0  0.0  0.0  0.0  0.0  0.0  0.0\n",
       " 5.9049e-7   0.0  0.0  0.0  0.0  0.0     0.0  0.0  0.0  0.0  0.0  0.0  0.0\n",
       " 6.561e-8    0.0  0.0  0.0  0.0  0.0     0.0  0.0  0.0  0.0  0.0  0.0  0.0\n",
       " 7.29e-9     0.0  0.0  0.0  0.0  0.0     0.0  0.0  0.0  0.0  0.0  0.0  0.0\n",
       " 6.561e-8    0.0  0.0  0.0  0.0  0.0  …  0.0  0.0  0.0  0.0  0.0  0.0  0.0\n",
       " 5.31441e-7  0.0  0.0  0.0  0.0  0.0     0.0  0.0  0.0  0.0  0.0  0.0  0.0\n",
       " 5.9049e-7   0.0  0.0  0.0  0.0  0.0     0.0  0.0  0.0  0.0  0.0  0.0  0.0\n",
       " ⋮                               ⋮    ⋱  ⋮                        ⋮    \n",
       " 4.78297e-7  0.0  0.0  0.0  0.0  0.0     0.0  0.0  0.0  0.0  0.0  0.0  0.0\n",
       " 5.31441e-7  0.0  0.0  0.0  0.0  0.0     0.0  0.0  0.0  0.0  0.0  0.0  0.0\n",
       " 5.9049e-7   0.0  0.0  0.0  0.0  0.0  …  0.0  0.0  0.0  0.0  0.0  0.0  0.0\n",
       " 5.31441e-7  0.0  0.0  0.0  0.0  0.0     0.0  0.0  0.0  0.0  0.0  0.0  0.0\n",
       " 5.31441e-6  0.0  0.0  0.0  0.0  0.0     0.0  0.0  0.0  0.0  0.0  0.0  0.0\n",
       " 5.31441e-7  0.0  0.0  0.0  0.0  0.0     0.0  0.0  0.0  0.0  0.0  0.0  0.0\n",
       " 5.31441e-7  0.0  0.0  0.0  0.0  0.0     0.0  0.0  0.0  0.0  0.0  0.0  0.0\n",
       " 5.31441e-7  0.0  0.0  0.0  0.0  0.0  …  0.0  0.0  0.0  0.0  0.0  0.0  0.0\n",
       " 5.31441e-7  0.0  0.0  0.0  0.0  0.0     0.0  0.0  0.0  0.0  0.0  0.0  0.0\n",
       " 4.78297e-6  0.0  0.0  0.0  0.0  0.0     0.0  0.0  0.0  0.0  0.0  0.0  0.0\n",
       " 5.31441e-7  0.0  0.0  0.0  0.0  0.0     0.0  0.0  0.0  0.0  0.0  0.0  0.0\n",
       " 4.78297e-6  0.0  0.0  0.0  0.0  0.0     0.0  0.0  0.0  0.0  0.0  0.0  0.0"
      ]
     },
     "execution_count": 76,
     "metadata": {},
     "output_type": "execute_result"
    }
   ],
   "source": [
    "state_likelihoods"
   ]
  },
  {
   "cell_type": "code",
   "execution_count": 77,
   "metadata": {},
   "outputs": [
    {
     "data": {
      "text/plain": [
       "4765×92 Matrix{Vector{Pair{Int64, Bool}}}:\n",
       " [1=>1]     []  []  []  []  []  []  []  …  []  []  []  []  []  []  []  []  []\n",
       " [2=>0]     []  []  []  []  []  []  []     []  []  []  []  []  []  []  []  []\n",
       " [3=>1]     []  []  []  []  []  []  []     []  []  []  []  []  []  []  []  []\n",
       " [4=>0]     []  []  []  []  []  []  []     []  []  []  []  []  []  []  []  []\n",
       " [5=>1]     []  []  []  []  []  []  []     []  []  []  []  []  []  []  []  []\n",
       " [6=>0]     []  []  []  []  []  []  []  …  []  []  []  []  []  []  []  []  []\n",
       " [7=>1]     []  []  []  []  []  []  []     []  []  []  []  []  []  []  []  []\n",
       " [8=>0]     []  []  []  []  []  []  []     []  []  []  []  []  []  []  []  []\n",
       " [9=>1]     []  []  []  []  []  []  []     []  []  []  []  []  []  []  []  []\n",
       " [10=>1]    []  []  []  []  []  []  []     []  []  []  []  []  []  []  []  []\n",
       " [11=>1]    []  []  []  []  []  []  []  …  []  []  []  []  []  []  []  []  []\n",
       " [12=>1]    []  []  []  []  []  []  []     []  []  []  []  []  []  []  []  []\n",
       " [13=>1]    []  []  []  []  []  []  []     []  []  []  []  []  []  []  []  []\n",
       " ⋮                          ⋮           ⋱          ⋮                   ⋮   \n",
       " [4754=>1]  []  []  []  []  []  []  []     []  []  []  []  []  []  []  []  []\n",
       " [4755=>0]  []  []  []  []  []  []  []     []  []  []  []  []  []  []  []  []\n",
       " [4756=>1]  []  []  []  []  []  []  []  …  []  []  []  []  []  []  []  []  []\n",
       " [4757=>0]  []  []  []  []  []  []  []     []  []  []  []  []  []  []  []  []\n",
       " [4758=>0]  []  []  []  []  []  []  []     []  []  []  []  []  []  []  []  []\n",
       " [4759=>0]  []  []  []  []  []  []  []     []  []  []  []  []  []  []  []  []\n",
       " [4760=>0]  []  []  []  []  []  []  []     []  []  []  []  []  []  []  []  []\n",
       " [4761=>0]  []  []  []  []  []  []  []  …  []  []  []  []  []  []  []  []  []\n",
       " [4762=>0]  []  []  []  []  []  []  []     []  []  []  []  []  []  []  []  []\n",
       " [4763=>0]  []  []  []  []  []  []  []     []  []  []  []  []  []  []  []  []\n",
       " [4764=>0]  []  []  []  []  []  []  []     []  []  []  []  []  []  []  []  []\n",
       " [4765=>1]  []  []  []  []  []  []  []     []  []  []  []  []  []  []  []  []"
      ]
     },
     "execution_count": 77,
     "metadata": {},
     "output_type": "execute_result"
    }
   ],
   "source": [
    "arrival_paths"
   ]
  },
  {
   "cell_type": "code",
   "execution_count": null,
   "metadata": {},
   "outputs": [],
   "source": [
    "function viterbi_maximum_likelihood_traversals(stranded_kmer_graph;\n",
    "                                               error_rate::Float64=1/(stranded_kmer_graph.gprops[:k] + 1),\n",
    "                                               verbosity::String=\"dataset\")\n",
    "\n",
    "\n",
    "\n",
    "\n",
    "    for K1 in 1:K\n",
    "        for K2 in 1:K\n",
    "            if K1 != K2\n",
    "                shortest_path = shortest_paths[K1][K2]\n",
    "                path_likelihood = 1.0\n",
    "                for ui in 1:length(shortest_path)-1\n",
    "                    u = shortest_path[ui]\n",
    "                    v = shortest_path[ui + 1]\n",
    "                    # likelihood of the transition\n",
    "                    path_likelihood *= edge_probability(stranded_kmer_graph, Edge(u, v))\n",
    "                end\n",
    "                if path_likelihood == 0.0\n",
    "                    shortest_paths[K1][K2] = Vector{Int}()\n",
    "                end\n",
    "            elseif K1 == K2\n",
    "                # the shortest path from a kmer to itself is an insertion (no edge)\n",
    "                # so need to manually check for self loops\n",
    "                if has_edge(stranded_kmer_graph, Edge(K1, K2))\n",
    "                    if edge_probability(stranded_kmer_graph, Edge(K1, K2)) != 0.0\n",
    "                        shortest_paths[K1][K2] = [K1, K2]\n",
    "                    else\n",
    "                        shortest_paths[K1][K2] = Vector{Int}()\n",
    "                    end\n",
    "                # otherwise, check to see if any outneighbors connect back to the kmer\n",
    "                else\n",
    "                    connected_outneighbors = filter(outneighbor -> has_path(stranded_kmer_graph, outneighbor, K2), outneighbors(stranded_kmer_graph, K1))\n",
    "                    if !isempty(connected_outneighbors)\n",
    "                        outneighbor_cycles = [[K1, shortest_paths[outneighbor][K2]...] for outneighbor in connected_outneighbors]\n",
    "                        cycle_likelihoods = ones(length(outneighbor_cycles))\n",
    "                        for (i, cycle) in enumerate(outneighbor_cycles)\n",
    "                            for ui in 1:length(cycle)-1\n",
    "                                u = cycle[ui]\n",
    "                                v = cycle[ui + 1]\n",
    "                                # likelihood of the transition\n",
    "                                cycle_likelihoods[i] *= edge_probability(stranded_kmer_graph, Edge(u, v))\n",
    "                            end\n",
    "                            # include likelihoods of states\n",
    "                            for vertex in cycle[2:end-1]\n",
    "                                cycle_likelihoods[i] *= stranded_kmer_likelihoods[vertex]\n",
    "                            end\n",
    "                        end\n",
    "                        path_likelihood = maximum(cycle_likelihoods)\n",
    "                        max_likelihood_cycle_indices = findall(cycle_likelihoods .== path_likelihood)\n",
    "                        shortest_paths[K1][K2] = outneighbor_cycles[first(max_likelihood_cycle_indices)]\n",
    "                    else\n",
    "                        shortest_paths[K1][K2] = Vector{Int}()\n",
    "                    end\n",
    "                end\n",
    "            end\n",
    "            if length(shortest_paths[K1][K2]) == 1\n",
    "                shortest_paths[K1][K2] = Vector{Int}()\n",
    "            end\n",
    "        end\n",
    "    end\n",
    "\n",
    "    if verbosity in [\"debug\"]\n",
    "        for K1 in 1:K\n",
    "            for K2 in 1:K\n",
    "                println(\"\\t$K1\\t$K2\\t$(shortest_paths[K1][K2])\")\n",
    "            end\n",
    "        end\n",
    "    end\n",
    "\n",
    "    total_bases_observed = 0\n",
    "    total_edits_accepted = 0\n",
    "\n",
    "    corrected_observations = FASTA.Record[]\n",
    "    if verbosity in [\"debug\", \"reads\", \"dataset\"]\n",
    "        println(\"finding viterbi maximum likelihood paths for observed sequences...\")\n",
    "    end\n",
    "    # p = Progress(length(stranded_kmer_graph.gprops[:observed_paths]))\n",
    "    for (observation_index, observed_path) in enumerate(stranded_kmer_graph.gprops[:observed_paths])\n",
    "        if verbosity in [\"debug\", \"reads\"]\n",
    "            println(\"\\nevaluating sequence $observation_index of $(length(stranded_kmer_graph.gprops[:observed_paths]))\")\n",
    "        end\n",
    "        # consider switching to log transform\n",
    "        kmer_likelihoods = zeros(nv(stranded_kmer_graph), length(observed_path))\n",
    "        kmer_arrival_paths = Array{Vector{Int}}(undef, nv(stranded_kmer_graph), length(observed_path))\n",
    "        edit_distances = zeros(Int, nv(stranded_kmer_graph), length(observed_path))\n",
    "        observed_kmer_index = observed_path[1]\n",
    "        observed_kmer_sequence = stranded_kmer_graph.gprops[:stranded_kmers][observed_kmer_index]\n",
    "        for hidden_kmer_index in vertices(stranded_kmer_graph)\n",
    "            hidden_kmer_sequence = stranded_kmer_graph.gprops[:stranded_kmers][hidden_kmer_index]\n",
    "            alignment_result = pairalign(LevenshteinDistance(), observed_kmer_sequence, hidden_kmer_sequence)\n",
    "            number_of_matches = count_matches(alignment(alignment_result))\n",
    "            number_of_edits = stranded_kmer_graph.gprops[:k] - number_of_matches\n",
    "            kmer_likelihoods[hidden_kmer_index, 1] = stranded_kmer_likelihoods[hidden_kmer_index]\n",
    "            for match in 1:number_of_matches\n",
    "                kmer_likelihoods[hidden_kmer_index, 1] *= accuracy\n",
    "            end\n",
    "            for edit in 1:number_of_edits\n",
    "                kmer_likelihoods[hidden_kmer_index, 1] *= error_rate\n",
    "            end\n",
    "            kmer_arrival_paths[hidden_kmer_index, 1] = Vector{Int}()\n",
    "            edit_distances[hidden_kmer_index, 1] = number_of_edits\n",
    "        end\n",
    "        kmer_likelihoods[:, 1] ./= sum(kmer_likelihoods[:, 1])\n",
    "        # from here on, all probabilities are log transformed\n",
    "        kmer_likelihoods[:, 1] .= log.(kmer_likelihoods[:, 1])\n",
    "        if verbosity in [\"debug\"]\n",
    "            println(\"\\tconsidering path state 1\")\n",
    "            println(\"\\t\\tobserved kmer $observed_kmer_sequence\")\n",
    "            println(\"\\t\\tInitial state log likelihoods:\")\n",
    "            for line in split(repr(MIME(\"text/plain\"), kmer_likelihoods[:, 1]), '\\n')\n",
    "                println(\"\\t\\t\\t$line\")\n",
    "            end\n",
    "        end\n",
    "        for observed_path_index in 2:length(observed_path)\n",
    "            observed_kmer_index = observed_path[observed_path_index]\n",
    "            observed_base = stranded_kmer_graph.gprops[:stranded_kmers][observed_kmer_index][end]\n",
    "\n",
    "            if verbosity in [\"debug\"]\n",
    "                println(\"\\tconsidering path state $observed_path_index\")\n",
    "                println(\"\\t\\tobserved base $observed_base\")\n",
    "            end\n",
    "\n",
    "            MATCH = 1\n",
    "            MISMATCH = 2\n",
    "            DELETION = 3\n",
    "            INSERTION = 4\n",
    "            arrival_likelihoods = ones(K, 4)\n",
    "            arrival_paths = fill(Vector{Int}(), K, 4)\n",
    "\n",
    "            for K2 in 1:K\n",
    "                kmer_base = stranded_kmer_graph.gprops[:stranded_kmers][K2][end]\n",
    "                base_is_match = kmer_base == observed_base\n",
    "\n",
    "                maximum_likelihood = log(0.0)\n",
    "                maximum_likelihood_path = Vector{Int}()\n",
    "                maximum_likelihood_edit_distance = 0\n",
    "\n",
    "                for K1 in 1:K\n",
    "                    shortest_path = shortest_paths[K1][K2]\n",
    "                    if length(shortest_path) >= 2\n",
    "                        edit_distance = Int(!base_is_match) + length(shortest_path) - 2\n",
    "                        if edit_distance == 0\n",
    "                            p = kmer_likelihoods[K1, observed_path_index-1] +\n",
    "                                log(accuracy) + log(stranded_kmer_likelihoods[K2])\n",
    "                        else\n",
    "                            p = kmer_likelihoods[K1, observed_path_index-1] +\n",
    "                                log(error_rate^edit_distance) + log(stranded_kmer_likelihoods[K2])\n",
    "                        end\n",
    "                        edit_distance += edit_distances[K1, observed_path_index-1]\n",
    "                    else\n",
    "                        p = log(0.0)\n",
    "                    end\n",
    "                    if K1 == K2 # consider insertion\n",
    "                        # in theory, I don't think we should care if the base\n",
    "                        # matches or not because it's an inserted & erroneous\n",
    "                        # base, but in practice it's necessary to balance\n",
    "                        # insertion probabilities with deletion probabilities\n",
    "                        insertion_p = kmer_likelihoods[K1, observed_path_index-1] +\n",
    "                                      log(error_rate^(1 + Int(!base_is_match))) + log(stranded_kmer_likelihoods[K2])\n",
    "                        if insertion_p > p\n",
    "                            p = insertion_p\n",
    "                            edit_distance = edit_distances[K1, observed_path_index-1] + 1\n",
    "                            shortest_path = [K2]\n",
    "                        end\n",
    "                    end\n",
    "                    if p > maximum_likelihood\n",
    "                        maximum_likelihood = p\n",
    "                        maximum_likelihood_path = shortest_path\n",
    "                        maximum_likelihood_edit_distance = edit_distance\n",
    "                    end\n",
    "                end\n",
    "                kmer_likelihoods[K2, observed_path_index] = maximum_likelihood\n",
    "                kmer_arrival_paths[K2, observed_path_index] = maximum_likelihood_path\n",
    "                edit_distances[K2, observed_path_index] = maximum_likelihood_edit_distance\n",
    "            end\n",
    "\n",
    "            if verbosity in [\"debug\"]\n",
    "                println(\"\\t\\tkmer log likelihoods\")\n",
    "                for line in split(repr(MIME(\"text/plain\"), kmer_likelihoods), '\\n')\n",
    "                    println(\"\\t\\t\\t$line\")\n",
    "                end\n",
    "                println(\"\\t\\tarrival paths\")\n",
    "                for line in split(repr(MIME(\"text/plain\"), kmer_arrival_paths), '\\n')\n",
    "                    println(\"\\t\\t\\t$line\")\n",
    "                end\n",
    "            end\n",
    "        end\n",
    "\n",
    "        if verbosity in [\"debug\"]\n",
    "            println(\"\\n\\tInputs for viterbi maximum likelihood traversal evaluation:\")\n",
    "            println(\"\\t\\tkmer log likelihoods\")\n",
    "            for line in split(repr(MIME(\"text/plain\"), kmer_likelihoods), '\\n')\n",
    "                println(\"\\t\\t\\t$line\")\n",
    "            end\n",
    "            println(\"\\t\\tkmer arrival paths\")\n",
    "            for line in split(repr(MIME(\"text/plain\"), kmer_arrival_paths), '\\n')\n",
    "                println(\"\\t\\t\\t$line\")\n",
    "            end\n",
    "            println(\"\\t\\tedit distances\")\n",
    "            for line in split(repr(MIME(\"text/plain\"), edit_distances), '\\n')\n",
    "                println(\"\\t\\t\\t$line\")\n",
    "            end\n",
    "        end\n",
    "\n",
    "        ## backtrack\n",
    "        maximum_likelihood_path_value = maximum(kmer_likelihoods[:, end])\n",
    "        maximum_likelihood_path_indices = findall(kmer_likelihoods[:, end] .== maximum_likelihood_path_value)\n",
    "        # if multiple paths are tied, randomly choose one\n",
    "        maximum_likelihood_path_index = rand(maximum_likelihood_path_indices)\n",
    "        maximum_likelihood_edit_distance = edit_distances[maximum_likelihood_path_index, end]\n",
    "\n",
    "        if length(kmer_arrival_paths[maximum_likelihood_path_index, end]) > 0\n",
    "            maximum_likelihood_path = last(kmer_arrival_paths[maximum_likelihood_path_index, end])\n",
    "            for observed_path_index in length(observed_path):-1:1\n",
    "                maximum_likelihood_arrival_path = kmer_arrival_paths[maximum_likelihood_path_index, observed_path_index]\n",
    "                maximum_likelihood_path = vcat(maximum_likelihood_arrival_path[1:end-1], maximum_likelihood_path)\n",
    "                maximum_likelihood_path_index = first(maximum_likelihood_path)\n",
    "            end\n",
    "        else\n",
    "            maximum_likelihood_path = [maximum_likelihood_path_index]\n",
    "        end\n",
    "        observed_sequence = path_to_sequence(stranded_kmer_graph.gprops[:stranded_kmers], observed_path)\n",
    "        maximum_likelihood_sequence = path_to_sequence(stranded_kmer_graph.gprops[:stranded_kmers], maximum_likelihood_path)\n",
    "        if verbosity in [\"debug\", \"reads\"]\n",
    "            println(\"\\tobserved sequence                 $observed_sequence\")\n",
    "            println(\"\\tmaximum likelihood sequence       $maximum_likelihood_sequence\")\n",
    "            println(\"\\tmaximum likelihood edit distance  $maximum_likelihood_edit_distance\")\n",
    "        end\n",
    "        total_bases_observed += length(observed_sequence)\n",
    "        total_edits_accepted += maximum_likelihood_edit_distance\n",
    "        id = stranded_kmer_graph.gprops[:observation_ids][observation_index]\n",
    "        kmer_stamped_id = id * \"_\" * string(stranded_kmer_graph.gprops[:k])\n",
    "        push!(corrected_observations, FASTA.Record(kmer_stamped_id, maximum_likelihood_sequence))\n",
    "        # progress meter\n",
    "        # next!(p)\n",
    "    end\n",
    "    if verbosity in [\"debug\", \"reads\", \"dataset\"]\n",
    "        println(\"\\nDATASET STATISTICS:\")\n",
    "        println(\"\\tassumed error rate    $(error_rate * 100)%\")\n",
    "        println(\"\\ttotal bases observed  $total_bases_observed\")\n",
    "        println(\"\\ttotal edits accepted  $total_edits_accepted\")\n",
    "        println(\"\\tinferred error rate   $((total_edits_accepted/total_bases_observed) * 100)%\")\n",
    "    end\n",
    "    return corrected_observations\n",
    "end"
   ]
  },
  {
   "cell_type": "code",
   "execution_count": null,
   "metadata": {},
   "outputs": [],
   "source": [
    "# backtrack most likely path"
   ]
  },
  {
   "cell_type": "code",
   "execution_count": null,
   "metadata": {},
   "outputs": [],
   "source": [
    "# write sequence to output fastq"
   ]
  },
  {
   "cell_type": "code",
   "execution_count": null,
   "metadata": {},
   "outputs": [],
   "source": [
    "# for k in [11, 13, 17, 23, 31, 41, 53]\n",
    "#     @show k\n",
    "#     outgraph = \"$(DIR)/simplified-kayvirus.k_$(k).all_ncbi.gfa\"\n",
    "#     if !isfile(outgraph)\n",
    "#         accessions = ncbi_staph_phage_metadata[!, \"Accession\"]\n",
    "#         fastx_iterator = (Mycelia.get_sequence(db=\"nuccore\", accession=accession) for accession in accessions)\n",
    "#         KMER_TYPE = BioSequences.BigDNAMer{k}\n",
    "#         @time kmer_graph = Mycelia.fastx_to_kmer_graph(KMER_TYPE, fastx_iterator)\n",
    "#         @time simplified_graph = Mycelia.simplify_kmer_graph(kmer_graph)\n",
    "# #         ^ > 1 day down to 34 seconds!\n",
    "#         Mycelia.graph_to_gfa(simplified_graph, outgraph)\n",
    "#     end\n",
    "# end"
   ]
  }
 ],
 "metadata": {
  "kernelspec": {
   "display_name": "Julia 1.6.1",
   "language": "julia",
   "name": "julia-1.6"
  },
  "language_info": {
   "file_extension": ".jl",
   "mimetype": "application/julia",
   "name": "julia",
   "version": "1.6.1"
  }
 },
 "nbformat": 4,
 "nbformat_minor": 4
}
