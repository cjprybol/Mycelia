{
 "cells": [
  {
   "cell_type": "code",
   "execution_count": 1,
   "metadata": {},
   "outputs": [
    {
     "data": {
      "text/plain": [
       "\"/Users/cameronprybol/2021-06-15-100bp-0.1-error-rate\""
      ]
     },
     "execution_count": 1,
     "metadata": {},
     "output_type": "execute_result"
    }
   ],
   "source": [
    "DATE = \"2021-06-15\"\n",
    "TASK = \"100bp-0.1-error-rate\"\n",
    "DIR = \"$(DATE)-$(TASK)\"\n",
    "DIR = mkpath(\"$(homedir())/$(DIR)\")"
   ]
  },
  {
   "cell_type": "code",
   "execution_count": 78,
   "metadata": {},
   "outputs": [],
   "source": [
    "pkgs = [\n",
    "\"LightGraphs\",\n",
    "\"MetaGraphs\",\n",
    "\"BioSequences\",\n",
    "\"uCSV\",\n",
    "\"DataFrames\",\n",
    "\"FASTX\",\n",
    "\"HTTP\",\n",
    "\"CodecZlib\",\n",
    "\"DataStructures\",\n",
    "\"Revise\",\n",
    "\"ProgressMeter\",\n",
    "\"BenchmarkTools\",\n",
    "\"Random\",\n",
    "\"Images\",\n",
    "\"ImageTransformations\",\n",
    "\"StatsBase\",\n",
    "\"SparseArrays\"\n",
    "]\n",
    "\n",
    "import Pkg\n",
    "Pkg.add(pkgs)\n",
    "for pkg in pkgs\n",
    "    eval(Meta.parse(\"import $(basename(pkg))\"))\n",
    "end\n",
    "\n",
    "import Mycelia"
   ]
  },
  {
   "cell_type": "code",
   "execution_count": 3,
   "metadata": {
    "jupyter": {
     "source_hidden": true
    }
   },
   "outputs": [],
   "source": [
    "# # 11, 17 is too small\n",
    "# for k in [13, 17, 23, 31, 41, 53]\n",
    "#     @show k\n",
    "#     outgraph = \"$(DIR)/simplified-kayvirus.k_$(k).all_ncbi.gfa\"\n",
    "#     # if !isfile(outgraph)\n",
    "#     accessions = ncbi_staph_phage_metadata[!, \"Accession\"]\n",
    "#     fastx_iterator = (Mycelia.get_sequence(db=\"nuccore\", accession=accession) for accession in accessions)\n",
    "#     KMER_TYPE = BioSequences.BigDNAMer{k}\n",
    "#     @time kmer_graph = Mycelia.fastx_to_kmer_graph(KMER_TYPE, fastx_iterator)\n",
    "\n",
    "#     @info \"simplifying kmer graph\"\n",
    "#     @info \"resolving untigs...\"\n",
    "#     @time untigs = Mycelia.resolve_untigs(kmer_graph)\n",
    "\n",
    "#     @info \"determining untig orientations...\"\n",
    "#     @time oriented_untigs = Mycelia.determine_oriented_untigs(kmer_graph, untigs)\n",
    "\n",
    "#     simplified_graph = MetaGraphs.MetaDiGraph(length(oriented_untigs))\n",
    "#     MetaGraphs.set_prop!(simplified_graph, :k, kmer_graph.gprops[:k])\n",
    "#     @info \"initializing graph node metadata\"\n",
    "#     ProgressMeter.@showprogress for (vertex, untig) in enumerate(oriented_untigs)\n",
    "#         MetaGraphs.set_prop!(simplified_graph, vertex, :sequence, untig.sequence)\n",
    "#         MetaGraphs.set_prop!(simplified_graph, vertex, :path, untig.path)\n",
    "#         MetaGraphs.set_prop!(simplified_graph, vertex, :orientations, untig.orientations)\n",
    "#         MetaGraphs.set_prop!(simplified_graph, vertex, :evidence, untig.evidence)\n",
    "#     end\n",
    "\n",
    "#     # determine oriented edges of simplified graph\n",
    "#     simplified_untigs = Vector{Pair{Pair{Int64,Bool},Pair{Int64,Bool}}}(undef, length(LightGraphs.vertices(simplified_graph)))\n",
    "#     @info \"creating simplified unitgs to help resolve connections\"\n",
    "#     # use a pre-allocated array here to speed up\n",
    "#     ProgressMeter.@showprogress for vertex in LightGraphs.vertices(simplified_graph)\n",
    "#         in_kmer = simplified_graph.vprops[vertex][:path][1] => simplified_graph.vprops[vertex][:orientations][1]\n",
    "#         out_kmer = simplified_graph.vprops[vertex][:path][end] => simplified_graph.vprops[vertex][:orientations][end]\n",
    "#     #     @show vertex, in_kmer, out_kmer\n",
    "#         simplified_untigs[vertex] = in_kmer => out_kmer\n",
    "#     #     push!(simplified_untigs, )\n",
    "#     end\n",
    "\n",
    "#     # make a dictionary mapping endcap to oriented_untig index\n",
    "\n",
    "#     end_mer_map = Dict()\n",
    "#     ProgressMeter.@showprogress for (i, oriented_untig) in enumerate(oriented_untigs)\n",
    "#         end_mer_map[first(oriented_untig.path)] = i\n",
    "#         end_mer_map[last(oriented_untig.path)] = i\n",
    "#     end\n",
    "\n",
    "#     ProgressMeter.@showprogress for (untig_index, oriented_untig) in enumerate(oriented_untigs)\n",
    "#     #     @show untig_index\n",
    "#         true_in_overlap = oriented_untig.sequence[1:simplified_graph.gprops[:k]-1]\n",
    "\n",
    "#         non_backtracking_neighbors = LightGraphs.neighbors(kmer_graph, oriented_untig.path[1])\n",
    "#         if length(oriented_untig.path) > 1\n",
    "#             non_backtracking_neighbors = setdiff(non_backtracking_neighbors, oriented_untig.path[2])\n",
    "#         end\n",
    "#         for non_backtracking_neighbor in non_backtracking_neighbors\n",
    "#             neighboring_untig_index = end_mer_map[non_backtracking_neighbor]\n",
    "#             neighboring_untig = oriented_untigs[neighboring_untig_index]\n",
    "\n",
    "#             neighbor_true_out_overlap = neighboring_untig.sequence[end-simplified_graph.gprops[:k]+2:end]\n",
    "#             if neighbor_true_out_overlap == true_in_overlap\n",
    "#                 e = LightGraphs.Edge(neighboring_untig_index, untig_index)\n",
    "#     #             o = true => true\n",
    "#                 o = (source_orientation = true, destination_orientation = true)\n",
    "#                 LightGraphs.add_edge!(simplified_graph, e)\n",
    "#                 Mycelia.set_metadata!(simplified_graph, e, :orientations, o)    \n",
    "#             end\n",
    "\n",
    "#             neighbor_false_out_overlap = BioSequences.reverse_complement(neighboring_untig.sequence)[end-simplified_graph.gprops[:k]+2:end]\n",
    "#             if neighbor_false_out_overlap == true_in_overlap        \n",
    "#                 e = LightGraphs.Edge(neighboring_untig_index, untig_index)\n",
    "#     #             o = false => true\n",
    "#                 o = (source_orientation = false, destination_orientation = true)\n",
    "#                 LightGraphs.add_edge!(simplified_graph, e)\n",
    "#                 Mycelia.set_metadata!(simplified_graph, e, :orientations, o)    \n",
    "#             end\n",
    "#         end\n",
    "\n",
    "#         true_out_overlap = oriented_untig.sequence[end-simplified_graph.gprops[:k]+2:end]\n",
    "#         non_backtracking_neighbors = LightGraphs.neighbors(kmer_graph, oriented_untig.path[end])\n",
    "#         if length(oriented_untig.path) > 1\n",
    "#             non_backtracking_neighbors = setdiff(non_backtracking_neighbors, oriented_untig.path[end-1])\n",
    "#         end\n",
    "#         for non_backtracking_neighbor in non_backtracking_neighbors\n",
    "#             neighboring_untig_index = end_mer_map[non_backtracking_neighbor]\n",
    "#             neighboring_untig = oriented_untigs[neighboring_untig_index]\n",
    "\n",
    "#             neighbor_true_in_overlap = neighboring_untig.sequence[1:simplified_graph.gprops[:k]-1]\n",
    "#             if true_out_overlap == neighbor_true_in_overlap\n",
    "#                 e = LightGraphs.Edge(untig_index, neighboring_untig_index)\n",
    "#     #             o = true => true\n",
    "#                 o = (source_orientation = true, destination_orientation = true)\n",
    "#                 LightGraphs.add_edge!(simplified_graph, e)\n",
    "#                 Mycelia.set_metadata!(simplified_graph, e, :orientations, o)    \n",
    "#             end\n",
    "\n",
    "#             neighbor_false_in_overlap = BioSequences.reverse_complement(neighboring_untig.sequence)[1:simplified_graph.gprops[:k]-1]\n",
    "#             if true_out_overlap == neighbor_false_in_overlap\n",
    "#                 e = LightGraphs.Edge(untig_index, neighboring_untig_index)\n",
    "#     #             o = true => false\n",
    "#                 o = (source_orientation = true, destination_orientation = false)\n",
    "#                 LightGraphs.add_edge!(simplified_graph, e)\n",
    "#                 Mycelia.set_metadata!(simplified_graph, e, :orientations, o)    \n",
    "#             end\n",
    "#         end\n",
    "\n",
    "#         false_in_overlap = BioSequences.reverse_complement(oriented_untig.sequence)[1:simplified_graph.gprops[:k]-1]\n",
    "\n",
    "#         non_backtracking_neighbors = LightGraphs.neighbors(kmer_graph, oriented_untig.path[end])\n",
    "#         if length(oriented_untig.path) > 1\n",
    "#             non_backtracking_neighbors = setdiff(non_backtracking_neighbors, oriented_untig.path[end-1])\n",
    "#         end\n",
    "#         for non_backtracking_neighbor in non_backtracking_neighbors\n",
    "#             neighboring_untig_index = end_mer_map[non_backtracking_neighbor]\n",
    "#             neighboring_untig = oriented_untigs[neighboring_untig_index]\n",
    "\n",
    "#             neighbor_true_out_overlap = neighboring_untig.sequence[end-simplified_graph.gprops[:k]+2:end]\n",
    "#             if neighbor_true_out_overlap == false_in_overlap\n",
    "#                 e = LightGraphs.Edge(neighboring_untig_index, untig_index)\n",
    "#     #             o = true => false\n",
    "#                 o = (source_orientation = true, destination_orientation = false)\n",
    "#                 LightGraphs.add_edge!(simplified_graph, e)\n",
    "#                 Mycelia.set_metadata!(simplified_graph, e, :orientations, o)    \n",
    "#             end\n",
    "\n",
    "#             neighbor_false_out_overlap = BioSequences.reverse_complement(neighboring_untig.sequence)[end-simplified_graph.gprops[:k]+2:end]\n",
    "#             if neighbor_false_out_overlap == false_in_overlap        \n",
    "#                 e = LightGraphs.Edge(neighboring_untig_index, untig_index)\n",
    "#     #             o = false => false\n",
    "#                 o = (source_orientation = false, destination_orientation = false)\n",
    "#                 LightGraphs.add_edge!(simplified_graph, e)\n",
    "#                 Mycelia.set_metadata!(simplified_graph, e, :orientations, o)    \n",
    "#             end\n",
    "#         end\n",
    "\n",
    "#         false_out_overlap = BioSequences.reverse_complement(oriented_untig.sequence)[end-simplified_graph.gprops[:k]+2:end]\n",
    "\n",
    "#         non_backtracking_neighbors = LightGraphs.neighbors(kmer_graph, oriented_untig.path[1])\n",
    "#         if length(oriented_untig.path) > 1\n",
    "#             non_backtracking_neighbors = setdiff(non_backtracking_neighbors, oriented_untig.path[2])\n",
    "#         end\n",
    "\n",
    "#         for non_backtracking_neighbor in non_backtracking_neighbors\n",
    "#             neighboring_untig_index = end_mer_map[non_backtracking_neighbor]\n",
    "#             neighboring_untig = oriented_untigs[neighboring_untig_index]\n",
    "\n",
    "#             neighbor_true_in_overlap = neighboring_untig.sequence[1:simplified_graph.gprops[:k]-1]\n",
    "#             if false_out_overlap == neighbor_true_in_overlap\n",
    "#                 e = LightGraphs.Edge(untig_index, neighboring_untig_index)\n",
    "#     #             o = false => true\n",
    "#                 o = (source_orientation = false, destination_orientation = true)\n",
    "#                 LightGraphs.add_edge!(simplified_graph, e)\n",
    "#                 Mycelia.set_metadata!(simplified_graph, e, :orientations, o)    \n",
    "#             end\n",
    "\n",
    "#             neighbor_false_in_overlap = BioSequences.reverse_complement(neighboring_untig.sequence)[1:simplified_graph.gprops[:k]-1]\n",
    "#             if false_out_overlap == neighbor_false_in_overlap\n",
    "#                 e = LightGraphs.Edge(untig_index, neighboring_untig_index)\n",
    "#     #             o = false => false\n",
    "#                 o = (source_orientation = false, destination_orientation = false)\n",
    "#                 LightGraphs.add_edge!(simplified_graph, e)\n",
    "#                 Mycelia.set_metadata!(simplified_graph, e, :orientations, o)    \n",
    "#             end\n",
    "#         end\n",
    "#     end\n",
    "\n",
    "#     # ^ > 1 day down to 34 seconds!\n",
    "#     Mycelia.graph_to_gfa(simplified_graph, outgraph)\n",
    "# end"
   ]
  },
  {
   "cell_type": "code",
   "execution_count": 4,
   "metadata": {},
   "outputs": [
    {
     "data": {
      "text/plain": [
       "MersenneTwister(0)"
      ]
     },
     "execution_count": 4,
     "metadata": {},
     "output_type": "execute_result"
    }
   ],
   "source": [
    "# set a random seed\n",
    "seed = Random.seed!(0)"
   ]
  },
  {
   "cell_type": "code",
   "execution_count": 5,
   "metadata": {},
   "outputs": [
    {
     "data": {
      "text/plain": [
       "100nt DNA Sequence:\n",
       "AAGGGTGCGGTCTAGGTGCACTGCTTATGGTCCCCGACA…TCTACCTCTTTGTTGAAACGTATTCTTCTCTTAACACCT"
      ]
     },
     "execution_count": 5,
     "metadata": {},
     "output_type": "execute_result"
    }
   ],
   "source": [
    "# randomly generate a dna sequence of 100bp\n",
    "genome = BioSequences.randdnaseq(seed, 100)"
   ]
  },
  {
   "cell_type": "code",
   "execution_count": 6,
   "metadata": {},
   "outputs": [
    {
     "data": {
      "text/plain": [
       "0.1"
      ]
     },
     "execution_count": 6,
     "metadata": {},
     "output_type": "execute_result"
    }
   ],
   "source": [
    "# define error rate\n",
    "error_rate = 0.1"
   ]
  },
  {
   "cell_type": "code",
   "execution_count": 7,
   "metadata": {},
   "outputs": [],
   "source": [
    "# generate 100x coverage fastq file\n",
    "# put accuracy rate into fastq file\n",
    "coverage = 100\n",
    "fastq_file = \"$(DIR)/$(DATE)-$(TASK).fastq\"\n",
    "open(fastq_file, \"w\") do io\n",
    "    fastq_writer = FASTX.FASTQ.Writer(io)\n",
    "    for i in 1:coverage\n",
    "        observed_sequence = Mycelia.observe(genome, error_rate=error_rate)\n",
    "        q = -10 * log10(error_rate)\n",
    "        quality_scores = fill(q, length(observed_sequence))\n",
    "        fastq_record = FASTX.FASTQ.Record(\"i\", observed_sequence, quality_scores)\n",
    "        write(fastq_writer, fastq_record)\n",
    "    end\n",
    "end"
   ]
  },
  {
   "cell_type": "code",
   "execution_count": 8,
   "metadata": {},
   "outputs": [],
   "source": [
    "# build weighted kmer graph\n",
    "# at some point where we may want to record weights as integers rather than lists of evidence, but first confirm the algorithm"
   ]
  },
  {
   "cell_type": "code",
   "execution_count": 9,
   "metadata": {},
   "outputs": [
    {
     "data": {
      "text/plain": [
       "11"
      ]
     },
     "execution_count": 9,
     "metadata": {},
     "output_type": "execute_result"
    }
   ],
   "source": [
    "k = Int(1/error_rate + 1)"
   ]
  },
  {
   "cell_type": "code",
   "execution_count": 10,
   "metadata": {},
   "outputs": [
    {
     "data": {
      "text/plain": [
       "BioSequences.BigDNAMer{11} (alias for BioSequences.BigMer{BioSequences.DNAAlphabet{2}, 11})"
      ]
     },
     "execution_count": 10,
     "metadata": {},
     "output_type": "execute_result"
    }
   ],
   "source": [
    "kmer_type = BioSequences.BigDNAMer{k}"
   ]
  },
  {
   "cell_type": "code",
   "execution_count": 11,
   "metadata": {},
   "outputs": [
    {
     "name": "stderr",
     "output_type": "stream",
     "text": [
      "┌ Info: assessing kmers\n",
      "└ @ Mycelia /Users/cameronprybol/.julia/dev/Mycelia/src/Mycelia.jl:1877\n",
      "┌ Info: creating graph\n",
      "└ @ Mycelia /Users/cameronprybol/.julia/dev/Mycelia/src/Mycelia.jl:1891\n"
     ]
    },
    {
     "data": {
      "text/plain": [
       "{4710, 10148} directed Int64 metagraph with Float64 weights defined by :weight (default weight 1.0)"
      ]
     },
     "execution_count": 11,
     "metadata": {},
     "output_type": "execute_result"
    }
   ],
   "source": [
    "kmer_graph = Mycelia.fastx_to_kmer_graph(kmer_type, fastq_file)"
   ]
  },
  {
   "cell_type": "code",
   "execution_count": 12,
   "metadata": {},
   "outputs": [
    {
     "data": {
      "text/plain": [
       "\"/Users/cameronprybol/2021-06-15-100bp-0.1-error-rate/2021-06-15-100bp-0.1-error-rate.fastq.k-11.gfa\""
      ]
     },
     "execution_count": 12,
     "metadata": {},
     "output_type": "execute_result"
    }
   ],
   "source": [
    "# visualize\n",
    "gfa_file = fastq_file * \".k-$k.gfa\"\n",
    "Mycelia.graph_to_gfa(kmer_graph, gfa_file)"
   ]
  },
  {
   "cell_type": "code",
   "execution_count": 27,
   "metadata": {},
   "outputs": [
    {
     "data": {
      "text/plain": [
       "Process(`\u001b[4m/Applications/Bandage.app/Contents/MacOS/Bandage\u001b[24m \u001b[4mimage\u001b[24m \u001b[4m/Users/cameronprybol/2021-06-15-100bp-0.1-error-rate/2021-06-15-100bp-0.1-error-rate.fastq.k-11.gfa\u001b[24m \u001b[4m/Users/cameronprybol/2021-06-15-100bp-0.1-error-rate/2021-06-15-100bp-0.1-error-rate.fastq.k-11.gfa.svg\u001b[24m \u001b[4m--depwidth\u001b[24m \u001b[4m1\u001b[24m \u001b[4m--deppower\u001b[24m \u001b[4m1\u001b[24m`, ProcessExited(0))"
      ]
     },
     "execution_count": 27,
     "metadata": {},
     "output_type": "execute_result"
    }
   ],
   "source": [
    "run(`/Applications/Bandage.app/Contents/MacOS/Bandage image $(gfa_file) $(gfa_file).svg --depwidth 1 --deppower 1`)\n",
    "# --nodewidth <float> Average node width (0.5 to 1000, default: 5)\n",
    "# --depwidth <float>  Depth effect on width (0 to 1, default: 0.5)\n",
    "# --deppower <float>  Power of depth effect on width (0 to 1, default: 0.5)"
   ]
  },
  {
   "cell_type": "code",
   "execution_count": 50,
   "metadata": {},
   "outputs": [
    {
     "data": {
      "text/html": [
       "<img src=../../../../2021-06-15-100bp-0.1-error-rate/2021-06-15-100bp-0.1-error-rate.fastq.k-11.gfa.svg>"
      ]
     },
     "metadata": {},
     "output_type": "display_data"
    }
   ],
   "source": [
    "x = \"<img src=../../../../2021-06-15-100bp-0.1-error-rate/2021-06-15-100bp-0.1-error-rate.fastq.k-11.gfa.svg>\"\n",
    "display(\"text/html\", x)\n",
    "# display(\"image/svg+xml\", read(\"$(gfa_file).svg\", String))"
   ]
  },
  {
   "cell_type": "code",
   "execution_count": 51,
   "metadata": {},
   "outputs": [
    {
     "data": {
      "text/plain": [
       "FASTX.FASTQ.Reader{TranscodingStreams.NoopStream{IOStream}}(BioGenerics.Automa.State{TranscodingStreams.NoopStream{IOStream}}(TranscodingStreams.NoopStream{IOStream}(<mode=idle>), 1, 1, false), nothing)"
      ]
     },
     "execution_count": 51,
     "metadata": {},
     "output_type": "execute_result"
    }
   ],
   "source": [
    "fastq_io = FASTX.FASTQ.Reader(open(fastq_file))"
   ]
  },
  {
   "cell_type": "code",
   "execution_count": 53,
   "metadata": {},
   "outputs": [
    {
     "data": {
      "text/plain": [
       "FASTX.FASTQ.Record:\n",
       "   identifier: i\n",
       "  description: <missing>\n",
       "     sequence: AAGGGTGCGTCAAGGTGTACTGCTATGGTCCCCGACAGGACCGTGCGGTGATTTTCTGAACTACCACTTTGTTGAAACGTATTCTTCTCTTAACACCT\n",
       "      quality: UInt8[0x0a, 0x0a, 0x0a, 0x0a, 0x0a, 0x0a, 0x0a, 0x0a, 0x0a, 0x0a  …  0x0a, 0x0a, 0x0a, 0x0a, 0x0a, 0x0a, 0x0a, 0x0a, 0x0a, 0x0a]"
      ]
     },
     "execution_count": 53,
     "metadata": {},
     "output_type": "execute_result"
    }
   ],
   "source": [
    "fastq_read = first(fastq_io)"
   ]
  },
  {
   "cell_type": "code",
   "execution_count": 57,
   "metadata": {},
   "outputs": [],
   "source": [
    "# for q in FASTX.quality(fastq_read)\n",
    "#     q = -10 * log10(error_rate)\n",
    "#     likelihood_error = 10^(q/(-10))\n",
    "#     display(likelihood_error)\n",
    "# end"
   ]
  },
  {
   "cell_type": "code",
   "execution_count": null,
   "metadata": {},
   "outputs": [],
   "source": [
    "state_likelihoods = "
   ]
  },
  {
   "cell_type": "code",
   "execution_count": 64,
   "metadata": {},
   "outputs": [
    {
     "data": {
      "text/plain": [
       "Dict{Symbol, Any} with 2 entries:\n",
       "  :evidence => Set(NamedTuple{(:record, :index, :orientation), Tuple{String, In…\n",
       "  :kmer     => AAAAAGAGGTA"
      ]
     },
     "execution_count": 64,
     "metadata": {},
     "output_type": "execute_result"
    }
   ],
   "source": [
    "kmer_graph.vprops[1]"
   ]
  },
  {
   "cell_type": "code",
   "execution_count": 66,
   "metadata": {},
   "outputs": [
    {
     "data": {
      "text/plain": [
       "4710-element Vector{BioSequences.BigDNAMer{11}}:\n",
       " AAAAAGAGGTA\n",
       " AAAAAGCAGGT\n",
       " AAAAAGGAGGT\n",
       " AAAAAGGAGTA\n",
       " AAAAAGGTAGA\n",
       " AAAAAGGTAGT\n",
       " AAAAATACGTT\n",
       " AAAACAAGAGG\n",
       " AAAACGTATTC\n",
       " AAAACGTTTCA\n",
       " AAAAGAGACCT\n",
       " AAAAGAGGTAA\n",
       " AAAAGCAGGTA\n",
       " ⋮\n",
       " TTGCGTTACAA\n",
       " TTGGTATGAAA\n",
       " TTGTCATGAAA\n",
       " TTGTGTTGAAA\n",
       " TTGTTTTGAAA\n",
       " TTTAAACAAAA\n",
       " TTTCAAACAAA\n",
       " TTTCAACAAAA\n",
       " TTTCAACCAAA\n",
       " TTTCAACGAAA\n",
       " TTTCACACAAA\n",
       " TTTCCACAAAA"
      ]
     },
     "execution_count": 66,
     "metadata": {},
     "output_type": "execute_result"
    }
   ],
   "source": [
    "kmers = [kmer_graph.vprops[v][:kmer] for v in LightGraphs.vertices(kmer_graph)]"
   ]
  },
  {
   "cell_type": "code",
   "execution_count": 67,
   "metadata": {},
   "outputs": [
    {
     "data": {
      "text/plain": [
       "4710-element Vector{Int64}:\n",
       " 1\n",
       " 1\n",
       " 1\n",
       " 1\n",
       " 1\n",
       " 1\n",
       " 1\n",
       " 1\n",
       " 1\n",
       " 3\n",
       " 1\n",
       " 1\n",
       " 1\n",
       " ⋮\n",
       " 1\n",
       " 1\n",
       " 1\n",
       " 1\n",
       " 1\n",
       " 1\n",
       " 2\n",
       " 2\n",
       " 1\n",
       " 1\n",
       " 1\n",
       " 2"
      ]
     },
     "execution_count": 67,
     "metadata": {},
     "output_type": "execute_result"
    }
   ],
   "source": [
    "kmer_counts = [length(kmer_graph.vprops[v][:evidence]) for v in LightGraphs.vertices(kmer_graph)]"
   ]
  },
  {
   "cell_type": "code",
   "execution_count": 69,
   "metadata": {},
   "outputs": [
    {
     "name": "stdout",
     "output_type": "stream",
     "text": [
      "Summary Stats:\n",
      "Length:         4710\n",
      "Missing Count:  0\n",
      "Mean:           1.458174\n",
      "Minimum:        1.000000\n",
      "1st Quartile:   1.000000\n",
      "Median:         1.000000\n",
      "3rd Quartile:   1.000000\n",
      "Maximum:        17.000000\n",
      "Type:           Int64\n"
     ]
    }
   ],
   "source": [
    "StatsBase.describe(kmer_counts)"
   ]
  },
  {
   "cell_type": "code",
   "execution_count": 70,
   "metadata": {},
   "outputs": [
    {
     "data": {
      "text/plain": [
       "4710-element Vector{Float64}:\n",
       " 0.00014560279557367502\n",
       " 0.00014560279557367502\n",
       " 0.00014560279557367502\n",
       " 0.00014560279557367502\n",
       " 0.00014560279557367502\n",
       " 0.00014560279557367502\n",
       " 0.00014560279557367502\n",
       " 0.00014560279557367502\n",
       " 0.00014560279557367502\n",
       " 0.00043680838672102506\n",
       " 0.00014560279557367502\n",
       " 0.00014560279557367502\n",
       " 0.00014560279557367502\n",
       " ⋮\n",
       " 0.00014560279557367502\n",
       " 0.00014560279557367502\n",
       " 0.00014560279557367502\n",
       " 0.00014560279557367502\n",
       " 0.00014560279557367502\n",
       " 0.00014560279557367502\n",
       " 0.00029120559114735004\n",
       " 0.00029120559114735004\n",
       " 0.00014560279557367502\n",
       " 0.00014560279557367502\n",
       " 0.00014560279557367502\n",
       " 0.00029120559114735004"
      ]
     },
     "execution_count": 70,
     "metadata": {},
     "output_type": "execute_result"
    }
   ],
   "source": [
    "kmer_likelihoods = kmer_counts ./ sum(kmer_counts)"
   ]
  },
  {
   "cell_type": "code",
   "execution_count": 71,
   "metadata": {},
   "outputs": [
    {
     "name": "stdout",
     "output_type": "stream",
     "text": [
      "Summary Stats:\n",
      "Length:         4710\n",
      "Missing Count:  0\n",
      "Mean:           0.000212\n",
      "Minimum:        0.000146\n",
      "1st Quartile:   0.000146\n",
      "Median:         0.000146\n",
      "3rd Quartile:   0.000146\n",
      "Maximum:        0.002475\n",
      "Type:           Float64\n"
     ]
    }
   ],
   "source": [
    "StatsBase.describe(kmer_likelihoods)"
   ]
  },
  {
   "cell_type": "code",
   "execution_count": null,
   "metadata": {},
   "outputs": [],
   "source": [
    "# evaluate likelihood of first read"
   ]
  },
  {
   "cell_type": "code",
   "execution_count": 73,
   "metadata": {},
   "outputs": [
    {
     "data": {
      "text/plain": [
       "BioSequences.BigDNAMer{11} (alias for BioSequences.BigMer{BioSequences.DNAAlphabet{2}, 11})"
      ]
     },
     "execution_count": 73,
     "metadata": {},
     "output_type": "execute_result"
    }
   ],
   "source": [
    "kmer_type = BioSequences.BigDNAMer{kmer_graph.gprops[:k]}"
   ]
  },
  {
   "cell_type": "code",
   "execution_count": 77,
   "metadata": {},
   "outputs": [
    {
     "data": {
      "text/plain": [
       "Mer iteration result:\n",
       "Position: 1\n",
       "Forward: AAGGGTGCGTC\n",
       "Backward: GACGCACCCTT\n"
      ]
     },
     "execution_count": 77,
     "metadata": {},
     "output_type": "execute_result"
    }
   ],
   "source": [
    "kmer_index, fw, bw = first(collect(BioSequences.each(kmer_type, FASTX.sequence(fastq_read))))"
   ]
  },
  {
   "cell_type": "code",
   "execution_count": 121,
   "metadata": {},
   "outputs": [],
   "source": [
    "transition_likelihoods = Dict(\n",
    "    true => SparseArrays.spzeros(K, K),\n",
    "    false => SparseArrays.spzeros(K, K)\n",
    ")\n",
    "\n",
    "for edge in collect(LightGraphs.edges(kmer_graph))\n",
    "    weight = length(kmer_graph.eprops[edge][:evidence])\n",
    "    for o in kmer_graph.eprops[edge][:orientations]\n",
    "        transition_likelihoods[o.source_orientation][edge.src, edge.dst] = weight\n",
    "    end\n",
    "end\n",
    "\n",
    "for source_orientation in (true, false)\n",
    "    for src in 1:K\n",
    "        transition_weights = transition_likelihoods[source_orientation][src, :]\n",
    "        total_weight = sum(transition_weights)\n",
    "        dsts, vals = SparseArrays.findnz(transition_weights)\n",
    "        for (dst, val) in zip(dsts, vals) \n",
    "            transition_likelihoods[source_orientation][src, dst] = val / total_weight\n",
    "        end\n",
    "        normalized_probability = sum(transition_likelihoods[source_orientation][src, :])\n",
    "        @assert isapprox(normalized_probability, 0) || isapprox(normalized_probability, 1)\n",
    "    end\n",
    "end"
   ]
  },
  {
   "cell_type": "code",
   "execution_count": null,
   "metadata": {},
   "outputs": [],
   "source": [
    "# evaluate probability of each state"
   ]
  },
  {
   "cell_type": "code",
   "execution_count": null,
   "metadata": {},
   "outputs": [],
   "source": [
    "# backtrack most likely path"
   ]
  },
  {
   "cell_type": "code",
   "execution_count": null,
   "metadata": {},
   "outputs": [],
   "source": [
    "# write sequence to output fastq"
   ]
  },
  {
   "cell_type": "code",
   "execution_count": null,
   "metadata": {},
   "outputs": [],
   "source": [
    "# for k in [11, 13, 17, 23, 31, 41, 53]\n",
    "#     @show k\n",
    "#     outgraph = \"$(DIR)/simplified-kayvirus.k_$(k).all_ncbi.gfa\"\n",
    "#     if !isfile(outgraph)\n",
    "#         accessions = ncbi_staph_phage_metadata[!, \"Accession\"]\n",
    "#         fastx_iterator = (Mycelia.get_sequence(db=\"nuccore\", accession=accession) for accession in accessions)\n",
    "#         KMER_TYPE = BioSequences.BigDNAMer{k}\n",
    "#         @time kmer_graph = Mycelia.fastx_to_kmer_graph(KMER_TYPE, fastx_iterator)\n",
    "#         @time simplified_graph = Mycelia.simplify_kmer_graph(kmer_graph)\n",
    "# #         ^ > 1 day down to 34 seconds!\n",
    "#         Mycelia.graph_to_gfa(simplified_graph, outgraph)\n",
    "#     end\n",
    "# end"
   ]
  }
 ],
 "metadata": {
  "kernelspec": {
   "display_name": "Julia 1.6.1",
   "language": "julia",
   "name": "julia-1.6"
  },
  "language_info": {
   "file_extension": ".jl",
   "mimetype": "application/julia",
   "name": "julia",
   "version": "1.6.1"
  }
 },
 "nbformat": 4,
 "nbformat_minor": 4
}
