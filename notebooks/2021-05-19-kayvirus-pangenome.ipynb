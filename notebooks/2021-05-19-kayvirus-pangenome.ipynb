{
 "cells": [
  {
   "cell_type": "code",
   "execution_count": null,
   "metadata": {},
   "outputs": [],
   "source": [
    "DATE = \"2021-05-19\"\n",
    "TASK = \"kayvirus-pangenome\"\n",
    "DIR = mkpath(\"$(homedir())/$(DATE)-$(TASK)\")"
   ]
  },
  {
   "cell_type": "code",
   "execution_count": null,
   "metadata": {},
   "outputs": [],
   "source": [
    "import Pkg\n",
    "pkgs = [\n",
    "    \"LightGraphs\",\n",
    "    \"MetaGraphs\",\n",
    "    \"BioSequences\",\n",
    "    \"uCSV\",\n",
    "    \"DataFrames\",\n",
    "    \"FASTX\",\n",
    "    \"HTTP\",\n",
    "    \"CodecZlib\",\n",
    "    \"DataStructures\",\n",
    "]\n",
    "Pkg.add(pkgs)\n",
    "for pkg in pkgs\n",
    "    eval(Meta.parse(\"import $pkg\"))\n",
    "end\n",
    "\n",
    "import Mycelia"
   ]
  },
  {
   "cell_type": "code",
   "execution_count": null,
   "metadata": {},
   "outputs": [],
   "source": [
    "ncbi_staph_phage_metadata = DataFrames.DataFrame(uCSV.read(\"$(dirname(pwd()))/metadata/ncbi-staph-phage.csv\", header=1, quotes='\"', typedetectrows=100)...)"
   ]
  },
  {
   "cell_type": "code",
   "execution_count": null,
   "metadata": {},
   "outputs": [],
   "source": [
    "ncbi_staph_phage_metadata = ncbi_staph_phage_metadata[ncbi_staph_phage_metadata[!, \"Nuc_Completeness\"] .== \"complete\", :]"
   ]
  },
  {
   "cell_type": "code",
   "execution_count": null,
   "metadata": {},
   "outputs": [],
   "source": [
    "ncbi_staph_phage_metadata = ncbi_staph_phage_metadata[ncbi_staph_phage_metadata[!, \"Sequence_Type\"] .== \"RefSeq\", :]"
   ]
  },
  {
   "cell_type": "markdown",
   "metadata": {},
   "source": [
    "# now with 7mers"
   ]
  },
  {
   "cell_type": "code",
   "execution_count": null,
   "metadata": {},
   "outputs": [],
   "source": [
    "# k = 3 degree too high\n",
    "# k = 5 degree too high\n",
    "# k = 7 degree too high\n",
    "# k = 11\n",
    "# k = 13\n",
    "# k = 17\n",
    "# k = 21\n",
    "k = 31\n",
    "KMER_TYPE = BioSequences.DNAMer{k}"
   ]
  },
  {
   "cell_type": "code",
   "execution_count": null,
   "metadata": {},
   "outputs": [],
   "source": [
    "EDGE_MER = BioSequences.DNAMer{k+1}"
   ]
  },
  {
   "cell_type": "code",
   "execution_count": null,
   "metadata": {},
   "outputs": [],
   "source": [
    "accession = ncbi_staph_phage_metadata[1, \"Accession\"]\n",
    "fastx = collect(get_sequence(db = \"nuccore\", accession = accession))\n",
    "kmers = Set(collect(keys(Mycelia.count_canonical_kmers(KMER_TYPE, fastx))))\n",
    "# for accession in ncbi_staph_phage_metadata[2:end, \"Accession\"]\n",
    "#     fastx = collect(get_sequence(db = \"nuccore\", accession = accession))\n",
    "#     kmers = union!(kmers, collect(keys(Mycelia.count_canonical_kmers(KMER_TYPE, fastx))))\n",
    "# end\n",
    "# for kmer in kmers\n",
    "#     push!(kmers, BioSequences.reverse_complement(kmer))\n",
    "# end\n",
    "kmers = unique(sort(collect(kmers)))"
   ]
  },
  {
   "cell_type": "code",
   "execution_count": null,
   "metadata": {},
   "outputs": [],
   "source": [
    "kmer_graph = MetaGraphs.MetaDiGraph(length(kmers))\n",
    "MetaGraphs.set_prop!(kmer_graph, :k, k)"
   ]
  },
  {
   "cell_type": "code",
   "execution_count": null,
   "metadata": {},
   "outputs": [],
   "source": [
    "for (vertex, kmer) in enumerate(kmers)\n",
    "    MetaGraphs.set_prop!(kmer_graph, vertex, :kmer, kmer)\n",
    "end"
   ]
  },
  {
   "cell_type": "code",
   "execution_count": null,
   "metadata": {},
   "outputs": [],
   "source": [
    "record = first(fastx)"
   ]
  },
  {
   "cell_type": "code",
   "execution_count": null,
   "metadata": {},
   "outputs": [],
   "source": [
    "sequence = FASTX.sequence(record)\n",
    "record_identifier = FASTX.identifier(record) \n",
    "edge_iterator = BioSequences.each(EDGE_MER, sequence)"
   ]
  },
  {
   "cell_type": "code",
   "execution_count": null,
   "metadata": {},
   "outputs": [],
   "source": [
    "for sequence_edge in edge_iterator\n",
    "\n",
    "    forward_sequence_edge = BioSequences.LongDNASeq(sequence_edge.fw)\n",
    "\n",
    "    observed_source_kmer = BioSequences.DNAMer(forward_sequence_edge[1:end-1])\n",
    "\n",
    "    observed_destination_kmer = BioSequences.DNAMer(forward_sequence_edge[2:end])\n",
    "\n",
    "    oriented_source_kmer = \n",
    "        (canonical_kmer = BioSequences.canonical(observed_source_kmer),\n",
    "         orientation = BioSequences.iscanonical(observed_source_kmer))\n",
    "\n",
    "    oriented_destination_kmer = \n",
    "        (canonical_kmer = BioSequences.canonical(observed_destination_kmer),\n",
    "         orientation = BioSequences.iscanonical(observed_destination_kmer))\n",
    "\n",
    "    oriented_source_vertex = \n",
    "        (vertex = searchsortedfirst(kmers, oriented_source_kmer.canonical_kmer),\n",
    "         orientation = oriented_source_kmer.orientation)\n",
    "\n",
    "    oriented_destination_vertex = \n",
    "        (vertex = searchsortedfirst(kmers, oriented_destination_kmer.canonical_kmer),\n",
    "         orientation = oriented_destination_kmer.orientation)\n",
    "\n",
    "    source_evidence = \n",
    "        (record = record_identifier,\n",
    "         index = sequence_edge.position,\n",
    "         orientation = oriented_source_vertex.orientation)\n",
    "\n",
    "    destination_evidence = \n",
    "        (record = record_identifier,\n",
    "         index = sequence_edge.position + 1,\n",
    "         orientation = oriented_destination_vertex.orientation)\n",
    "\n",
    "    add_evidence!(kmer_graph, oriented_source_vertex.vertex, source_evidence)\n",
    "\n",
    "    add_evidence!(kmer_graph, oriented_destination_vertex.vertex, destination_evidence)\n",
    "\n",
    "    forward_edge = LightGraphs.Edge(oriented_source_vertex.vertex, oriented_destination_vertex.vertex)\n",
    "\n",
    "    LightGraphs.add_edge!(kmer_graph, forward_edge)\n",
    "\n",
    "    forward_edge_orientations = \n",
    "        (source_orientation = oriented_source_vertex.orientation,\n",
    "         destination_orientation = oriented_destination_vertex.orientation)\n",
    "\n",
    "    MetaGraphs.set_prop!(kmer_graph, forward_edge, :orientations, forward_edge_orientations)\n",
    "\n",
    "    forward_edge_evidence = (\n",
    "        record = record_identifier,\n",
    "        index = sequence_edge.position,\n",
    "        orientation = true\n",
    "    )\n",
    "\n",
    "    add_evidence!(kmer_graph, forward_edge, forward_edge_evidence)\n",
    "\n",
    "    reverse_edge = LightGraphs.Edge(oriented_destination_vertex.vertex, oriented_source_vertex.vertex)\n",
    "\n",
    "    LightGraphs.add_edge!(kmer_graph, reverse_edge)\n",
    "\n",
    "    reverse_edge_orientations = \n",
    "        (source_orientation = !oriented_destination_vertex.orientation,\n",
    "         destination_orientation = !oriented_source_vertex.orientation)\n",
    "\n",
    "    MetaGraphs.set_prop!(kmer_graph, reverse_edge, :orientations, reverse_edge_orientations)\n",
    "\n",
    "    reverse_edge_evidence = (\n",
    "        record = record_identifier,\n",
    "        index = sequence_edge.position,\n",
    "        orientation = false\n",
    "    )\n",
    "\n",
    "    add_evidence!(kmer_graph, reverse_edge, reverse_edge_evidence)\n",
    "end"
   ]
  },
  {
   "cell_type": "code",
   "execution_count": null,
   "metadata": {},
   "outputs": [],
   "source": [
    "# NOTE!! here 1 => 1 has both + => + and - => - but only the - is recorded because the value over-wrote the initial\n",
    "# may need to make orientations a set"
   ]
  },
  {
   "cell_type": "code",
   "execution_count": null,
   "metadata": {},
   "outputs": [],
   "source": [
    "LightGraphs.degree_histogram(kmer_graph)"
   ]
  },
  {
   "cell_type": "code",
   "execution_count": null,
   "metadata": {},
   "outputs": [],
   "source": [
    "outfile = \"test.$(k).gfa\"\n",
    "open(outfile, \"w\") do io\n",
    "    println(io, \"H\\tVN:Z:1.0\")\n",
    "    for vertex in LightGraphs.vertices(kmer_graph)\n",
    "        kmer = kmer_graph.vprops[vertex][:kmer]\n",
    "        depth = length(kmer_graph.vprops[vertex][:evidence])\n",
    "#         depth = 1\n",
    "        fields = [\"S\", \"$vertex\", kmer, \"RC:i:$(depth)\"]\n",
    "        line = join(fields, '\\t')\n",
    "        println(io, line)\n",
    "    end\n",
    "    for edge in LightGraphs.edges(kmer_graph)\n",
    "        overlap = kmer_graph.gprops[:k] - 1\n",
    "        \n",
    "        link = [\"L\",\n",
    "                    edge.src,\n",
    "                    kmer_graph.eprops[edge][:orientations].source_orientation ? '+' : '-',\n",
    "                    edge.dst,\n",
    "                    kmer_graph.eprops[edge][:orientations].destination_orientation ? '+' : '-',\n",
    "                    \"$(overlap)M\"]\n",
    "        line = join(link, '\\t')\n",
    "        println(io, line)\n",
    "    end\n",
    "end"
   ]
  },
  {
   "cell_type": "code",
   "execution_count": null,
   "metadata": {},
   "outputs": [],
   "source": [
    "kmer_graph"
   ]
  },
  {
   "cell_type": "code",
   "execution_count": null,
   "metadata": {},
   "outputs": [],
   "source": [
    "function find_downstream_vertices(kmer_graph, vertex, orientation)\n",
    "    viable_neighbors = Int[]\n",
    "    for neighbor in LightGraphs.neighbors(kmer_graph, vertex)\n",
    "        not_same_vertex = vertex != neighbor\n",
    "        candidate_edge = LightGraphs.Edge(vertex, neighbor)\n",
    "        edge_src_orientation = kmer_graph.eprops[candidate_edge][:orientations].source_orientation\n",
    "        viable_orientation = edge_src_orientation == orientation\n",
    "        if not_same_vertex && viable_orientation\n",
    "            push!(viable_neighbors, neighbor)\n",
    "        end\n",
    "    end\n",
    "    return viable_neighbors\n",
    "end"
   ]
  },
  {
   "cell_type": "code",
   "execution_count": null,
   "metadata": {},
   "outputs": [],
   "source": [
    "function find_unbranched_neighbors(kmer_graph, vertex, orientation)\n",
    "    downstream_vertices = find_downstream_vertices(kmer_graph, vertex, orientation)\n",
    "    if length(downstream_vertices) == 1\n",
    "        downstream_vertex = first(downstream_vertices)\n",
    "        destination_orientation = kmer_graph.eprops[LightGraphs.Edge(vertex, downstream_vertex)][:orientations].destination_orientation\n",
    "        backtrack_vertices = find_downstream_vertices(kmer_graph, downstream_vertex, !destination_orientation)\n",
    "        if backtrack_vertices == [vertex]\n",
    "            return downstream_vertices\n",
    "        else\n",
    "            return Int[]\n",
    "        end\n",
    "    else\n",
    "        return Int[]\n",
    "    end\n",
    "end"
   ]
  },
  {
   "cell_type": "code",
   "execution_count": null,
   "metadata": {},
   "outputs": [],
   "source": [
    "function oriented_unbranching_walk(kmer_graph, vertex, orientation)\n",
    "    walk = []\n",
    "    viable_neighbors = find_unbranched_neighbors(kmer_graph, vertex, orientation)\n",
    "    while length(viable_neighbors) == 1\n",
    "#         @show \"found a viable neighbor!!\"\n",
    "        viable_neighbor = first(viable_neighbors)\n",
    "        edge = LightGraphs.Edge(vertex, viable_neighbor)\n",
    "        push!(walk, edge)\n",
    "        vertex = edge.dst\n",
    "        orientation = kmer_graph.eprops[edge][:orientations].destination_orientation\n",
    "        viable_neighbors = find_unbranched_neighbors(kmer_graph, vertex, orientation)\n",
    "    end\n",
    "    return walk\n",
    "end"
   ]
  },
  {
   "cell_type": "code",
   "execution_count": null,
   "metadata": {},
   "outputs": [],
   "source": [
    "untigs = []"
   ]
  },
  {
   "cell_type": "code",
   "execution_count": null,
   "metadata": {},
   "outputs": [],
   "source": [
    "visited = unique(sort(vcat([e.src for untig in untigs for e in untig], [e.dst for untig in untigs for e in untig])))\n",
    "unvisited = setdiff(1:LightGraphs.nv(kmer_graph), visited)\n",
    "if !isempty(unvisited)\n",
    "    first_unvisited = first(setdiff(1:LightGraphs.nv(kmer_graph), visited))\n",
    "    forward_walk = oriented_unbranching_walk(kmer_graph, first_unvisited, true)\n",
    "    reverse_walk = oriented_unbranching_walk(kmer_graph, first_unvisited, false)\n",
    "    inverted_reverse_walk = [LightGraphs.Edge(e.dst, e.src) for e in reverse(reverse_walk)]\n",
    "    untig = vcat(inverted_reverse_walk, forward_walk)\n",
    "    push!(untigs, untig)\n",
    "else\n",
    "    println(\"done!\")\n",
    "end"
   ]
  },
  {
   "cell_type": "code",
   "execution_count": null,
   "metadata": {},
   "outputs": [],
   "source": [
    "# println(join(vcat(first(untig).src, [e.dst for e in untig]...), ','))"
   ]
  },
  {
   "cell_type": "code",
   "execution_count": null,
   "metadata": {},
   "outputs": [],
   "source": [
    "path = first(untigs)"
   ]
  },
  {
   "cell_type": "code",
   "execution_count": null,
   "metadata": {},
   "outputs": [],
   "source": [
    "edge = first(path)"
   ]
  },
  {
   "cell_type": "code",
   "execution_count": null,
   "metadata": {},
   "outputs": [],
   "source": [
    "sequence = BioSequences.LongDNASeq(kmers[edge.src])"
   ]
  },
  {
   "cell_type": "code",
   "execution_count": null,
   "metadata": {},
   "outputs": [],
   "source": [
    "if !kmer_graph.eprops[edge][:orientations].source_orientation\n",
    "    sequence = BioSequences.reverse_complement(sequence)\n",
    "end"
   ]
  },
  {
   "cell_type": "code",
   "execution_count": null,
   "metadata": {},
   "outputs": [],
   "source": [
    "for edge in path\n",
    "    destination = BioSequences.LongDNASeq(kmers[edge.dst])\n",
    "    if !kmer_graph.eprops[edge][:orientations].destination_orientation\n",
    "        destination = BioSequences.reverse_complement(destination)\n",
    "    end\n",
    "    sequence_suffix = sequence[end-length(destination)+2:end]\n",
    "    destination_prefix = destination[1:end-1]\n",
    "    @assert sequence_suffix == destination_prefix\n",
    "    push!(sequence, destination[end])\n",
    "end\n",
    "sequence"
   ]
  },
  {
   "cell_type": "code",
   "execution_count": null,
   "metadata": {},
   "outputs": [],
   "source": [
    "Mycelia.is_equivalent(FASTX.sequence(record), sequence)"
   ]
  }
 ],
 "metadata": {
  "kernelspec": {
   "display_name": "Julia 1.6.1",
   "language": "julia",
   "name": "julia-1.6"
  },
  "language_info": {
   "file_extension": ".jl",
   "mimetype": "application/julia",
   "name": "julia",
   "version": "1.5.3"
  }
 },
 "nbformat": 4,
 "nbformat_minor": 4
}
