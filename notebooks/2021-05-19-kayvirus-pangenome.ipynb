{
 "cells": [
  {
   "cell_type": "code",
   "execution_count": 2,
   "metadata": {},
   "outputs": [
    {
     "data": {
      "text/plain": [
       "\"/Users/cameronprybol/2021-05-19-kayvirus-pangenome\""
      ]
     },
     "execution_count": 2,
     "metadata": {},
     "output_type": "execute_result"
    }
   ],
   "source": [
    "DATE = \"2021-05-19\"\n",
    "TASK = \"kayvirus-pangenome\"\n",
    "DIR = mkpath(\"$(homedir())/$(DATE)-$(TASK)\")"
   ]
  },
  {
   "cell_type": "code",
   "execution_count": 3,
   "metadata": {},
   "outputs": [
    {
     "name": "stderr",
     "output_type": "stream",
     "text": [
      "\u001b[32m\u001b[1m   Updating\u001b[22m\u001b[39m registry at `~/.julia/registries/General`\n"
     ]
    },
    {
     "name": "stdout",
     "output_type": "stream",
     "text": [
      "\u001b[?25l    "
     ]
    },
    {
     "name": "stderr",
     "output_type": "stream",
     "text": [
      "\u001b[32m\u001b[1m   Updating\u001b[22m\u001b[39m git-repo `https://github.com/JuliaRegistries/General.git`\n"
     ]
    },
    {
     "name": "stdout",
     "output_type": "stream",
     "text": [
      "\u001b[2K\u001b[?25h[1mFetching:\u001b[22m\u001b[39m [========================================>]  100.0 % %\u001b[36m\u001b[1mFetching:\u001b[22m\u001b[39m [===========>                             ]  27.2 %41.5 %>                 ]  56.6 %        ]  79.9 %\u001b[36m\u001b[1mFetching:\u001b[22m\u001b[39m [======================================>  ]  94.6 %\u001b[36m\u001b[1mFetching:\u001b[22m\u001b[39m [=======================================> ]  96.8 %"
     ]
    },
    {
     "name": "stderr",
     "output_type": "stream",
     "text": [
      "\u001b[32m\u001b[1m  Resolving\u001b[22m\u001b[39m package versions...\n",
      "\u001b[32m\u001b[1m  Installed\u001b[22m\u001b[39m MetaGraphs ────────── v0.6.7\n",
      "\u001b[32m\u001b[1m  Installed\u001b[22m\u001b[39m StatsPlots ────────── v0.14.21\n",
      "\u001b[32m\u001b[1m  Installed\u001b[22m\u001b[39m DataStructures ────── v0.18.9\n",
      "\u001b[32m\u001b[1m  Installed\u001b[22m\u001b[39m HTTP ──────────────── v0.9.8\n",
      "\u001b[32m\u001b[1m  Installed\u001b[22m\u001b[39m StatsBase ─────────── v0.33.8\n",
      "\u001b[32m\u001b[1m  Installed\u001b[22m\u001b[39m Plots ─────────────── v1.15.1\n",
      "\u001b[32m\u001b[1m  Installed\u001b[22m\u001b[39m Distributions ─────── v0.24.18\n",
      "\u001b[32m\u001b[1m  Installed\u001b[22m\u001b[39m LightGraphs ───────── v1.3.5\n",
      "\u001b[32m\u001b[1m  Installed\u001b[22m\u001b[39m Widgets ───────────── v0.6.3\n",
      "\u001b[32m\u001b[1m  Installed\u001b[22m\u001b[39m LogExpFunctions ───── v0.2.4\n",
      "\u001b[32m\u001b[1m  Installed\u001b[22m\u001b[39m DocStringExtensions ─ v0.8.4\n",
      "\u001b[32m\u001b[1m  Installed\u001b[22m\u001b[39m OrderedCollections ── v1.4.1\n",
      "\u001b[32m\u001b[1m  Installed\u001b[22m\u001b[39m MultivariateStats ─── v0.8.0\n",
      "\u001b[32m\u001b[1m  Installed\u001b[22m\u001b[39m JLD2 ──────────────── v0.4.3\n",
      "\u001b[32m\u001b[1m  Installed\u001b[22m\u001b[39m Latexify ──────────── v0.15.5\n",
      "\u001b[32m\u001b[1m  Installed\u001b[22m\u001b[39m GraphRecipes ──────── v0.5.5\n",
      "\u001b[32m\u001b[1m  Installed\u001b[22m\u001b[39m TableOperations ───── v1.0.0\n",
      "\u001b[32m\u001b[1m  Installed\u001b[22m\u001b[39m StatsAPI ──────────── v1.0.0\n",
      "\u001b[32m\u001b[1m  Installed\u001b[22m\u001b[39m Requires ──────────── v1.1.3\n",
      "\u001b[32m\u001b[1m  Installed\u001b[22m\u001b[39m JLLWrappers ───────── v1.3.0\n",
      "\u001b[32m\u001b[1m  Installed\u001b[22m\u001b[39m TableTraits ───────── v1.0.1\n",
      "\u001b[32m\u001b[1m  Installed\u001b[22m\u001b[39m StructTypes ───────── v1.7.2\n",
      "\u001b[32m\u001b[1m  Installed\u001b[22m\u001b[39m Preferences ───────── v1.2.2\n",
      "\u001b[32m\u001b[1m  Installed\u001b[22m\u001b[39m Distances ─────────── v0.10.3\n",
      "\u001b[32m\u001b[1m  Installed\u001b[22m\u001b[39m AbstractTrees ─────── v0.3.4\n",
      "\u001b[32m\u001b[1m  Installed\u001b[22m\u001b[39m TOML ──────────────── v1.0.3\n",
      "\u001b[32m\u001b[1m  Installed\u001b[22m\u001b[39m URIs ──────────────── v1.3.0\n",
      "\u001b[32m\u001b[1m  Installed\u001b[22m\u001b[39m Tables ────────────── v1.4.2\n",
      "\u001b[32m\u001b[1m  Installed\u001b[22m\u001b[39m KernelDensity ─────── v0.6.3\n",
      "\u001b[32m\u001b[1m  Installed\u001b[22m\u001b[39m ScanByte ──────────── v0.3.0\n",
      "\u001b[32m\u001b[1m  Installed\u001b[22m\u001b[39m FillArrays ────────── v0.11.7\n",
      "\u001b[32m\u001b[1m  Installed\u001b[22m\u001b[39m OffsetArrays ──────── v1.8.0\n",
      "\u001b[32m\u001b[1m  Installed\u001b[22m\u001b[39m Showoff ───────────── v1.0.3\n",
      "\u001b[32m\u001b[1m  Installed\u001b[22m\u001b[39m Adapt ─────────────── v3.3.0\n",
      "\u001b[32m\u001b[1m  Installed\u001b[22m\u001b[39m LaTeXStrings ──────── v1.2.1\n",
      "\u001b[32m\u001b[1m  Installed\u001b[22m\u001b[39m SIMD ──────────────── v3.3.0\n",
      "\u001b[32m\u001b[1m  Installed\u001b[22m\u001b[39m Qt5Base_jll ───────── v5.15.2+0\n",
      "\u001b[32m\u001b[1m  Installed\u001b[22m\u001b[39m Parsers ───────────── v1.1.0\n",
      "\u001b[32m\u001b[1m  Installed\u001b[22m\u001b[39m RecipesPipeline ───── v0.3.2\n",
      "\u001b[32m\u001b[1m  Installed\u001b[22m\u001b[39m ChainRulesCore ────── v0.9.44\n",
      "\u001b[32m\u001b[1m  Installed\u001b[22m\u001b[39m GeometryBasics ────── v0.3.12\n",
      "\u001b[32m\u001b[1m  Installed\u001b[22m\u001b[39m Observables ───────── v0.4.0\n",
      "\u001b[32m\u001b[1m  Installed\u001b[22m\u001b[39m ArnoldiMethod ─────── v0.1.0\n",
      "\u001b[32m\u001b[1m  Installed\u001b[22m\u001b[39m StructArrays ──────── v0.5.1\n",
      "\u001b[32m\u001b[1m  Installed\u001b[22m\u001b[39m SpecialFunctions ──── v1.4.0\n",
      "\u001b[32m\u001b[1m  Installed\u001b[22m\u001b[39m Compat ────────────── v3.30.0\n",
      "\u001b[32m\u001b[1m  Installed\u001b[22m\u001b[39m AbstractFFTs ──────── v1.0.1\n",
      "\u001b[32m\u001b[1m  Installed\u001b[22m\u001b[39m StatsFuns ─────────── v0.9.8\n",
      "\u001b[32m\u001b[1m  Installed\u001b[22m\u001b[39m GR_jll ────────────── v0.57.2+0\n",
      "\u001b[32m\u001b[1m  Installed\u001b[22m\u001b[39m DataAPI ───────────── v1.6.0\n",
      "\u001b[32m\u001b[1m  Installed\u001b[22m\u001b[39m ColorTypes ────────── v0.10.12\n",
      "\u001b[32m\u001b[1m  Installed\u001b[22m\u001b[39m Automa ────────────── v0.8.2\n",
      "\u001b[32m\u001b[1m  Installed\u001b[22m\u001b[39m Grisu ─────────────── v1.0.2\n",
      "\u001b[32m\u001b[1m  Installed\u001b[22m\u001b[39m GLFW_jll ──────────── v3.3.4+0\n",
      "\u001b[32m\u001b[1m  Installed\u001b[22m\u001b[39m PDMats ────────────── v0.11.0\n",
      "\u001b[32m\u001b[1m  Installed\u001b[22m\u001b[39m NetworkOptions ────── v1.2.0\n",
      "\u001b[32m\u001b[1m  Installed\u001b[22m\u001b[39m GR ────────────────── v0.57.4\n",
      "\u001b[32m\u001b[1m  Installed\u001b[22m\u001b[39m ColorSchemes ──────── v3.12.1\n",
      "\u001b[32m\u001b[1mUpdating\u001b[22m\u001b[39m `~/Repos/Mycelia/Project.toml`\n",
      " \u001b[90m [00701ae9] \u001b[39m\u001b[92m+ BioAlignments v2.0.0\u001b[39m\n",
      " \u001b[90m [7e6ae17a] \u001b[39m\u001b[92m+ BioSequences v2.0.5\u001b[39m\n",
      " \u001b[90m [3c28c6f8] \u001b[39m\u001b[92m+ BioSymbols v4.0.4\u001b[39m\n",
      " \u001b[90m [944b1d66] \u001b[39m\u001b[92m+ CodecZlib v0.7.0\u001b[39m\n",
      " \u001b[90m [a93c6f00] \u001b[39m\u001b[92m+ DataFrames v0.21.8\u001b[39m\n",
      " \u001b[90m [864edb3b] \u001b[39m\u001b[92m+ DataStructures v0.18.9\u001b[39m\n",
      " \u001b[90m [31c24e10] \u001b[39m\u001b[92m+ Distributions v0.24.18\u001b[39m\n",
      " \u001b[90m [ffbed154] \u001b[39m\u001b[92m+ DocStringExtensions v0.8.4\u001b[39m\n",
      " \u001b[90m [c2308a5c] \u001b[39m\u001b[92m+ FASTX v1.1.3\u001b[39m\n",
      " \u001b[90m [bd48cda9] \u001b[39m\u001b[92m+ GraphRecipes v0.5.5\u001b[39m\n",
      " \u001b[90m [cd3eb016] \u001b[39m\u001b[92m+ HTTP v0.9.8\u001b[39m\n",
      " \u001b[90m [093fc24a] \u001b[39m\u001b[92m+ LightGraphs v1.3.5\u001b[39m\n",
      " \u001b[90m [626554b9] \u001b[39m\u001b[92m+ MetaGraphs v0.6.7\u001b[39m\n",
      " \u001b[90m [91a5bcdd] \u001b[39m\u001b[92m+ Plots v1.15.1\u001b[39m\n",
      " \u001b[90m [08abe8d2] \u001b[39m\u001b[92m+ PrettyTables v0.10.1\u001b[39m\n",
      " \u001b[90m [2913bbd2] \u001b[39m\u001b[92m+ StatsBase v0.33.8\u001b[39m\n",
      " \u001b[90m [f3b207a7] \u001b[39m\u001b[92m+ StatsPlots v0.14.21\u001b[39m\n",
      " \u001b[90m [e0b4c2ea] \u001b[39m\u001b[92m+ uCSV v0.1.3\u001b[39m\n",
      "\u001b[32m\u001b[1mUpdating\u001b[22m\u001b[39m `~/Repos/Mycelia/Manifest.toml`\n",
      " \u001b[90m [621f4979] \u001b[39m\u001b[92m+ AbstractFFTs v1.0.1\u001b[39m\n",
      " \u001b[90m [1520ce14] \u001b[39m\u001b[92m+ AbstractTrees v0.3.4\u001b[39m\n",
      " \u001b[90m [79e6a3ab] \u001b[39m\u001b[92m+ Adapt v3.3.0\u001b[39m\n",
      " \u001b[90m [ec485272] \u001b[39m\u001b[92m+ ArnoldiMethod v0.1.0\u001b[39m\n",
      " \u001b[90m [7d9fca2a] \u001b[39m\u001b[92m+ Arpack v0.4.0\u001b[39m\n",
      " \u001b[90m [68821587] \u001b[39m\u001b[92m+ Arpack_jll v3.5.0+3\u001b[39m\n",
      " \u001b[90m [56f22d72] \u001b[39m\u001b[92m+ Artifacts v1.3.0\u001b[39m\n",
      " \u001b[90m [67c07d97] \u001b[39m\u001b[92m+ Automa v0.8.2\u001b[39m\n",
      " \u001b[90m [13072b0f] \u001b[39m\u001b[92m+ AxisAlgorithms v1.0.0\u001b[39m\n",
      " \u001b[90m [00701ae9] \u001b[39m\u001b[92m+ BioAlignments v2.0.0\u001b[39m\n",
      " \u001b[90m [47718e42] \u001b[39m\u001b[92m+ BioGenerics v0.1.0\u001b[39m\n",
      " \u001b[90m [7e6ae17a] \u001b[39m\u001b[92m+ BioSequences v2.0.5\u001b[39m\n",
      " \u001b[90m [3c28c6f8] \u001b[39m\u001b[92m+ BioSymbols v4.0.4\u001b[39m\n",
      " \u001b[90m [6e34b625] \u001b[39m\u001b[92m+ Bzip2_jll v1.0.6+5\u001b[39m\n",
      " \u001b[90m [83423d85] \u001b[39m\u001b[92m+ Cairo_jll v1.16.0+6\u001b[39m\n",
      " \u001b[90m [324d7699] \u001b[39m\u001b[92m+ CategoricalArrays v0.8.3\u001b[39m\n",
      " \u001b[90m [d360d2e6] \u001b[39m\u001b[92m+ ChainRulesCore v0.9.44\u001b[39m\n",
      " \u001b[90m [aaaa29a8] \u001b[39m\u001b[92m+ Clustering v0.14.2\u001b[39m\n",
      " \u001b[90m [944b1d66] \u001b[39m\u001b[92m+ CodecZlib v0.7.0\u001b[39m\n",
      " \u001b[90m [35d6a980] \u001b[39m\u001b[92m+ ColorSchemes v3.12.1\u001b[39m\n",
      " \u001b[90m [3da002f7] \u001b[39m\u001b[92m+ ColorTypes v0.10.12\u001b[39m\n",
      " \u001b[90m [5ae59095] \u001b[39m\u001b[92m+ Colors v0.12.8\u001b[39m\n",
      " \u001b[90m [861a8166] \u001b[39m\u001b[92m+ Combinatorics v1.0.2\u001b[39m\n",
      " \u001b[90m [34da2185] \u001b[39m\u001b[92m+ Compat v3.30.0\u001b[39m\n",
      " \u001b[90m [e66e0078] \u001b[39m\u001b[92m+ CompilerSupportLibraries_jll v0.3.4+0\u001b[39m\n",
      " \u001b[90m [d38c429a] \u001b[39m\u001b[92m+ Contour v0.5.7\u001b[39m\n",
      " \u001b[90m [a8cc5b0e] \u001b[39m\u001b[92m+ Crayons v4.0.4\u001b[39m\n",
      " \u001b[90m [9a962f9c] \u001b[39m\u001b[92m+ DataAPI v1.6.0\u001b[39m\n",
      " \u001b[90m [a93c6f00] \u001b[39m\u001b[92m+ DataFrames v0.21.8\u001b[39m\n",
      " \u001b[90m [864edb3b] \u001b[39m\u001b[92m+ DataStructures v0.18.9\u001b[39m\n",
      " \u001b[90m [e2d170a0] \u001b[39m\u001b[92m+ DataValueInterfaces v1.0.0\u001b[39m\n",
      " \u001b[90m [e7dc6d0d] \u001b[39m\u001b[92m+ DataValues v0.4.13\u001b[39m\n",
      " \u001b[90m [b4f34e82] \u001b[39m\u001b[92m+ Distances v0.10.3\u001b[39m\n",
      " \u001b[90m [31c24e10] \u001b[39m\u001b[92m+ Distributions v0.24.18\u001b[39m\n",
      " \u001b[90m [ffbed154] \u001b[39m\u001b[92m+ DocStringExtensions v0.8.4\u001b[39m\n",
      " \u001b[90m [5ae413db] \u001b[39m\u001b[92m+ EarCut_jll v2.1.5+1\u001b[39m\n",
      " \u001b[90m [2e619515] \u001b[39m\u001b[92m+ Expat_jll v2.2.7+6\u001b[39m\n",
      " \u001b[90m [c2308a5c] \u001b[39m\u001b[92m+ FASTX v1.1.3\u001b[39m\n",
      " \u001b[90m [c87230d0] \u001b[39m\u001b[92m+ FFMPEG v0.4.0\u001b[39m\n",
      " \u001b[90m [b22a6f82] \u001b[39m\u001b[92m+ FFMPEG_jll v4.3.1+4\u001b[39m\n",
      " \u001b[90m [7a1cc6ca] \u001b[39m\u001b[92m+ FFTW v1.3.2\u001b[39m\n",
      " \u001b[90m [f5851436] \u001b[39m\u001b[92m+ FFTW_jll v3.3.9+7\u001b[39m\n",
      " \u001b[90m [1a297f60] \u001b[39m\u001b[92m+ FillArrays v0.11.7\u001b[39m\n",
      " \u001b[90m [53c48c17] \u001b[39m\u001b[92m+ FixedPointNumbers v0.8.4\u001b[39m\n",
      " \u001b[90m [a3f928ae] \u001b[39m\u001b[92m+ Fontconfig_jll v2.13.1+14\u001b[39m\n",
      " \u001b[90m [59287772] \u001b[39m\u001b[92m+ Formatting v0.4.2\u001b[39m\n",
      " \u001b[90m [d7e528f0] \u001b[39m\u001b[92m+ FreeType2_jll v2.10.1+5\u001b[39m\n",
      " \u001b[90m [559328eb] \u001b[39m\u001b[92m+ FriBidi_jll v1.0.5+6\u001b[39m\n",
      " \u001b[90m [0656b61e] \u001b[39m\u001b[92m+ GLFW_jll v3.3.4+0\u001b[39m\n",
      " \u001b[90m [28b8d3ca] \u001b[39m\u001b[92m+ GR v0.57.4\u001b[39m\n",
      " \u001b[90m [d2c73de3] \u001b[39m\u001b[92m+ GR_jll v0.57.2+0\u001b[39m\n",
      " \u001b[90m [5c1252a2] \u001b[39m\u001b[92m+ GeometryBasics v0.3.12\u001b[39m\n",
      " \u001b[90m [4d00f742] \u001b[39m\u001b[92m+ GeometryTypes v0.8.4\u001b[39m\n",
      " \u001b[90m [78b55507] \u001b[39m\u001b[92m+ Gettext_jll v0.20.1+7\u001b[39m\n",
      " \u001b[90m [7746bdde] \u001b[39m\u001b[92m+ Glib_jll v2.59.0+4\u001b[39m\n",
      " \u001b[90m [bd48cda9] \u001b[39m\u001b[92m+ GraphRecipes v0.5.5\u001b[39m\n",
      " \u001b[90m [42e2da0e] \u001b[39m\u001b[92m+ Grisu v1.0.2\u001b[39m\n",
      " \u001b[90m [cd3eb016] \u001b[39m\u001b[92m+ HTTP v0.9.8\u001b[39m\n",
      " \u001b[90m [1cb3b9ac] \u001b[39m\u001b[92m+ IndexableBitVectors v1.0.0\u001b[39m\n",
      " \u001b[90m [d25df0c9] \u001b[39m\u001b[92m+ Inflate v0.1.2\u001b[39m\n",
      " \u001b[90m [83e8ac13] \u001b[39m\u001b[92m+ IniFile v0.5.0\u001b[39m\n",
      " \u001b[90m [1d5cc7b8] \u001b[39m\u001b[92m+ IntelOpenMP_jll v2018.0.3+2\u001b[39m\n",
      " \u001b[90m [a98d9a8b] \u001b[39m\u001b[92m+ Interpolations v0.12.10\u001b[39m\n",
      " \u001b[90m [524e6230] \u001b[39m\u001b[92m+ IntervalTrees v1.0.0\u001b[39m\n",
      " \u001b[90m [41ab1584] \u001b[39m\u001b[92m+ InvertedIndices v1.0.0\u001b[39m\n",
      " \u001b[90m [c8e1da08] \u001b[39m\u001b[92m+ IterTools v1.3.0\u001b[39m\n",
      " \u001b[90m [82899510] \u001b[39m\u001b[92m+ IteratorInterfaceExtensions v1.0.0\u001b[39m\n",
      " \u001b[90m [033835bb] \u001b[39m\u001b[92m+ JLD2 v0.4.3\u001b[39m\n",
      " \u001b[90m [692b3bcd] \u001b[39m\u001b[92m+ JLLWrappers v1.3.0\u001b[39m\n",
      " \u001b[90m [682c06a0] \u001b[39m\u001b[92m+ JSON v0.21.1\u001b[39m\n",
      " \u001b[90m [aacddb02] \u001b[39m\u001b[92m+ JpegTurbo_jll v2.0.1+3\u001b[39m\n",
      " \u001b[90m [5ab0869b] \u001b[39m\u001b[92m+ KernelDensity v0.6.3\u001b[39m\n",
      " \u001b[90m [c1c5ebd0] \u001b[39m\u001b[92m+ LAME_jll v3.100.0+3\u001b[39m\n",
      " \u001b[90m [dd4b983a] \u001b[39m\u001b[92m+ LZO_jll v2.10.0+3\u001b[39m\n",
      " \u001b[90m [b964fa9f] \u001b[39m\u001b[92m+ LaTeXStrings v1.2.1\u001b[39m\n",
      " \u001b[90m [23fbe1c1] \u001b[39m\u001b[92m+ Latexify v0.15.5\u001b[39m\n",
      " \u001b[90m [4af54fe1] \u001b[39m\u001b[92m+ LazyArtifacts v1.3.0\u001b[39m\n",
      " \u001b[90m [dd192d2f] \u001b[39m\u001b[92m+ LibVPX_jll v1.9.0+1\u001b[39m\n",
      " \u001b[90m [e9f186c6] \u001b[39m\u001b[92m+ Libffi_jll v3.2.1+4\u001b[39m\n",
      " \u001b[90m [d4300ac3] \u001b[39m\u001b[92m+ Libgcrypt_jll v1.8.5+4\u001b[39m\n",
      " \u001b[90m [7e76a0d4] \u001b[39m\u001b[92m+ Libglvnd_jll v1.3.0+3\u001b[39m\n",
      " \u001b[90m [7add5ba3] \u001b[39m\u001b[92m+ Libgpg_error_jll v1.36.0+3\u001b[39m\n",
      " \u001b[90m [94ce4f54] \u001b[39m\u001b[92m+ Libiconv_jll v1.16.0+7\u001b[39m\n",
      " \u001b[90m [4b2f31a3] \u001b[39m\u001b[92m+ Libmount_jll v2.34.0+3\u001b[39m\n",
      " \u001b[90m [89763e89] \u001b[39m\u001b[92m+ Libtiff_jll v4.1.0+2\u001b[39m\n",
      " \u001b[90m [38a345b3] \u001b[39m\u001b[92m+ Libuuid_jll v2.34.0+7\u001b[39m\n",
      " \u001b[90m [093fc24a] \u001b[39m\u001b[92m+ LightGraphs v1.3.5\u001b[39m\n",
      " \u001b[90m [2ab3a3ac] \u001b[39m\u001b[92m+ LogExpFunctions v0.2.4\u001b[39m\n",
      " \u001b[90m [856f044c] \u001b[39m\u001b[92m+ MKL_jll v2021.1.1+1\u001b[39m\n",
      " \u001b[90m [1914dd2f] \u001b[39m\u001b[92m+ MacroTools v0.5.6\u001b[39m\n",
      " \u001b[90m [739be429] \u001b[39m\u001b[92m+ MbedTLS v1.0.3\u001b[39m\n",
      " \u001b[90m [c8ffd9c3] \u001b[39m\u001b[92m+ MbedTLS_jll v2.16.8+1\u001b[39m\n",
      " \u001b[90m [442fdcdd] \u001b[39m\u001b[92m+ Measures v0.3.1\u001b[39m\n",
      " \u001b[90m [626554b9] \u001b[39m\u001b[92m+ MetaGraphs v0.6.7\u001b[39m\n",
      " \u001b[90m [e1d29d7a] \u001b[39m\u001b[92m+ Missings v0.4.5\u001b[39m\n",
      " \u001b[90m [6f286f6a] \u001b[39m\u001b[92m+ MultivariateStats v0.8.0\u001b[39m\n",
      " \u001b[90m [77ba4419] \u001b[39m\u001b[92m+ NaNMath v0.3.5\u001b[39m\n",
      " \u001b[90m [b8a86587] \u001b[39m\u001b[92m+ NearestNeighbors v0.4.8\u001b[39m\n",
      " \u001b[90m [46757867] \u001b[39m\u001b[92m+ NetworkLayout v0.2.0\u001b[39m\n",
      " \u001b[90m [ca575930] \u001b[39m\u001b[92m+ NetworkOptions v1.2.0\u001b[39m\n",
      " \u001b[90m [510215fc] \u001b[39m\u001b[92m+ Observables v0.4.0\u001b[39m\n",
      " \u001b[90m [6fe1bfb0] \u001b[39m\u001b[92m+ OffsetArrays v1.8.0\u001b[39m\n",
      " \u001b[90m [e7412a2a] \u001b[39m\u001b[92m+ Ogg_jll v1.3.4+2\u001b[39m\n",
      " \u001b[90m [4536629a] \u001b[39m\u001b[92m+ OpenBLAS_jll v0.3.9+5\u001b[39m\n",
      " \u001b[90m [458c3c95] \u001b[39m\u001b[92m+ OpenSSL_jll v1.1.1+6\u001b[39m\n",
      " \u001b[90m [efe28fd5] \u001b[39m\u001b[92m+ OpenSpecFun_jll v0.5.3+4\u001b[39m\n",
      " \u001b[90m [91d4177d] \u001b[39m\u001b[92m+ Opus_jll v1.3.1+3\u001b[39m\n",
      " \u001b[90m [bac558e1] \u001b[39m\u001b[92m+ OrderedCollections v1.4.1\u001b[39m\n",
      " \u001b[90m [2f80f16e] \u001b[39m\u001b[92m+ PCRE_jll v8.42.0+4\u001b[39m\n",
      " \u001b[90m [90014a1f] \u001b[39m\u001b[92m+ PDMats v0.11.0\u001b[39m\n",
      " \u001b[90m [69de0a69] \u001b[39m\u001b[92m+ Parsers v1.1.0\u001b[39m\n",
      " \u001b[90m [30392449] \u001b[39m\u001b[92m+ Pixman_jll v0.40.0+0\u001b[39m\n",
      " \u001b[90m [ccf2f8ad] \u001b[39m\u001b[92m+ PlotThemes v2.0.1\u001b[39m\n",
      " \u001b[90m [995b91a9] \u001b[39m\u001b[92m+ PlotUtils v1.0.10\u001b[39m\n",
      " \u001b[90m [91a5bcdd] \u001b[39m\u001b[92m+ Plots v1.15.1\u001b[39m\n",
      " \u001b[90m [2dfb63ee] \u001b[39m\u001b[92m+ PooledArrays v0.5.3\u001b[39m\n",
      " \u001b[90m [21216c6a] \u001b[39m\u001b[92m+ Preferences v1.2.2\u001b[39m\n",
      " \u001b[90m [08abe8d2] \u001b[39m\u001b[92m+ PrettyTables v0.10.1\u001b[39m\n",
      " \u001b[90m [ea2cea3b] \u001b[39m\u001b[92m+ Qt5Base_jll v5.15.2+0\u001b[39m\n",
      " \u001b[90m [1fd47b50] \u001b[39m\u001b[92m+ QuadGK v2.4.1\u001b[39m\n",
      " \u001b[90m [c84ed2f1] \u001b[39m\u001b[92m+ Ratios v0.4.0\u001b[39m\n",
      " \u001b[90m [3cdcf5f2] \u001b[39m\u001b[92m+ RecipesBase v1.1.1\u001b[39m\n",
      " \u001b[90m [01d81517] \u001b[39m\u001b[92m+ RecipesPipeline v0.3.2\u001b[39m\n",
      " \u001b[90m [189a3867] \u001b[39m\u001b[92m+ Reexport v0.2.0\u001b[39m\n",
      " \u001b[90m [ae029012] \u001b[39m\u001b[92m+ Requires v1.1.3\u001b[39m\n",
      " \u001b[90m [79098fc4] \u001b[39m\u001b[92m+ Rmath v0.6.1\u001b[39m\n",
      " \u001b[90m [f50d1b31] \u001b[39m\u001b[92m+ Rmath_jll v0.2.2+2\u001b[39m\n",
      " \u001b[90m [fdea26ae] \u001b[39m\u001b[92m+ SIMD v3.3.0\u001b[39m\n",
      " \u001b[90m [7b38b023] \u001b[39m\u001b[92m+ ScanByte v0.3.0\u001b[39m\n",
      " \u001b[90m [6c6a2e73] \u001b[39m\u001b[92m+ Scratch v1.0.3\u001b[39m\n",
      " \u001b[90m [91c51154] \u001b[39m\u001b[92m+ SentinelArrays v1.2.16\u001b[39m\n",
      " \u001b[90m [992d4aef] \u001b[39m\u001b[92m+ Showoff v1.0.3\u001b[39m\n",
      " \u001b[90m [699a6c99] \u001b[39m\u001b[92m+ SimpleTraits v0.9.3\u001b[39m\n",
      " \u001b[90m [a2af1166] \u001b[39m\u001b[92m+ SortingAlgorithms v0.3.1\u001b[39m\n",
      " \u001b[90m [276daf66] \u001b[39m\u001b[92m+ SpecialFunctions v1.4.0\u001b[39m\n",
      " \u001b[90m [860ef19b] \u001b[39m\u001b[92m+ StableRNGs v0.1.2\u001b[39m\n",
      " \u001b[90m [90137ffa] \u001b[39m\u001b[92m+ StaticArrays v0.12.5\u001b[39m\n",
      " \u001b[90m [82ae8749] \u001b[39m\u001b[92m+ StatsAPI v1.0.0\u001b[39m\n",
      " \u001b[90m [2913bbd2] \u001b[39m\u001b[92m+ StatsBase v0.33.8\u001b[39m\n",
      " \u001b[90m [4c63d2b9] \u001b[39m\u001b[92m+ StatsFuns v0.9.8\u001b[39m\n",
      " \u001b[90m [f3b207a7] \u001b[39m\u001b[92m+ StatsPlots v0.14.21\u001b[39m\n",
      " \u001b[90m [09ab397b] \u001b[39m\u001b[92m+ StructArrays v0.5.1\u001b[39m\n",
      " \u001b[90m [856f2bd8] \u001b[39m\u001b[92m+ StructTypes v1.7.2\u001b[39m\n",
      " \u001b[90m [fa267f1f] \u001b[39m\u001b[92m+ TOML v1.0.3\u001b[39m\n",
      " \u001b[90m [ab02a1b2] \u001b[39m\u001b[92m+ TableOperations v1.0.0\u001b[39m\n",
      " \u001b[90m [3783bdb8] \u001b[39m\u001b[92m+ TableTraits v1.0.1\u001b[39m\n",
      " \u001b[90m [bd369af6] \u001b[39m\u001b[92m+ Tables v1.4.2\u001b[39m\n",
      " \u001b[90m [3bb67fe8] \u001b[39m\u001b[92m+ TranscodingStreams v0.9.5\u001b[39m\n",
      " \u001b[90m [7200193e] \u001b[39m\u001b[92m+ Twiddle v1.1.2\u001b[39m\n",
      " \u001b[90m [5c2747f8] \u001b[39m\u001b[92m+ URIs v1.3.0\u001b[39m\n",
      " \u001b[90m [a2964d1f] \u001b[39m\u001b[92m+ Wayland_jll v1.17.0+4\u001b[39m\n",
      " \u001b[90m [2381bf8a] \u001b[39m\u001b[92m+ Wayland_protocols_jll v1.18.0+4\u001b[39m\n",
      " \u001b[90m [cc8bc4a8] \u001b[39m\u001b[92m+ Widgets v0.6.3\u001b[39m\n",
      " \u001b[90m [efce3f68] \u001b[39m\u001b[92m+ WoodburyMatrices v0.5.3\u001b[39m\n",
      " \u001b[90m [02c8fc9c] \u001b[39m\u001b[92m+ XML2_jll v2.9.10+3\u001b[39m\n",
      " \u001b[90m [aed1982a] \u001b[39m\u001b[92m+ XSLT_jll v1.1.33+4\u001b[39m\n",
      " \u001b[90m [4f6342f7] \u001b[39m\u001b[92m+ Xorg_libX11_jll v1.6.9+4\u001b[39m\n",
      " \u001b[90m [0c0b7dd1] \u001b[39m\u001b[92m+ Xorg_libXau_jll v1.0.9+4\u001b[39m\n",
      " \u001b[90m [935fb764] \u001b[39m\u001b[92m+ Xorg_libXcursor_jll v1.2.0+4\u001b[39m\n",
      " \u001b[90m [a3789734] \u001b[39m\u001b[92m+ Xorg_libXdmcp_jll v1.1.3+4\u001b[39m\n",
      " \u001b[90m [1082639a] \u001b[39m\u001b[92m+ Xorg_libXext_jll v1.3.4+4\u001b[39m\n",
      " \u001b[90m [d091e8ba] \u001b[39m\u001b[92m+ Xorg_libXfixes_jll v5.0.3+4\u001b[39m\n",
      " \u001b[90m [a51aa0fd] \u001b[39m\u001b[92m+ Xorg_libXi_jll v1.7.10+4\u001b[39m\n",
      " \u001b[90m [d1454406] \u001b[39m\u001b[92m+ Xorg_libXinerama_jll v1.1.4+4\u001b[39m\n",
      " \u001b[90m [ec84b674] \u001b[39m\u001b[92m+ Xorg_libXrandr_jll v1.5.2+4\u001b[39m\n",
      " \u001b[90m [ea2f1a96] \u001b[39m\u001b[92m+ Xorg_libXrender_jll v0.9.10+4\u001b[39m\n",
      " \u001b[90m [14d82f49] \u001b[39m\u001b[92m+ Xorg_libpthread_stubs_jll v0.1.0+3\u001b[39m\n",
      " \u001b[90m [c7cfdc94] \u001b[39m\u001b[92m+ Xorg_libxcb_jll v1.13.0+3\u001b[39m\n",
      " \u001b[90m [cc61e674] \u001b[39m\u001b[92m+ Xorg_libxkbfile_jll v1.1.0+4\u001b[39m\n",
      " \u001b[90m [12413925] \u001b[39m\u001b[92m+ Xorg_xcb_util_image_jll v0.4.0+1\u001b[39m\n",
      " \u001b[90m [2def613f] \u001b[39m\u001b[92m+ Xorg_xcb_util_jll v0.4.0+1\u001b[39m\n",
      " \u001b[90m [975044d2] \u001b[39m\u001b[92m+ Xorg_xcb_util_keysyms_jll v0.4.0+1\u001b[39m\n",
      " \u001b[90m [0d47668e] \u001b[39m\u001b[92m+ Xorg_xcb_util_renderutil_jll v0.3.9+1\u001b[39m\n",
      " \u001b[90m [c22f9ab0] \u001b[39m\u001b[92m+ Xorg_xcb_util_wm_jll v0.4.1+1\u001b[39m\n",
      " \u001b[90m [35661453] \u001b[39m\u001b[92m+ Xorg_xkbcomp_jll v1.4.2+4\u001b[39m\n",
      " \u001b[90m [33bec58e] \u001b[39m\u001b[92m+ Xorg_xkeyboard_config_jll v2.27.0+4\u001b[39m\n",
      " \u001b[90m [c5fb5394] \u001b[39m\u001b[92m+ Xorg_xtrans_jll v1.4.0+3\u001b[39m\n",
      " \u001b[90m [83775a58] \u001b[39m\u001b[92m+ Zlib_jll v1.2.11+18\u001b[39m\n",
      " \u001b[90m [3161d3a3] \u001b[39m\u001b[92m+ Zstd_jll v1.4.8+0\u001b[39m\n",
      " \u001b[90m [0ac62f75] \u001b[39m\u001b[92m+ libass_jll v0.14.0+4\u001b[39m\n",
      " \u001b[90m [f638f0a6] \u001b[39m\u001b[92m+ libfdk_aac_jll v0.1.6+4\u001b[39m\n",
      " \u001b[90m [b53b4c65] \u001b[39m\u001b[92m+ libpng_jll v1.6.37+6\u001b[39m\n",
      " \u001b[90m [f27f6e37] \u001b[39m\u001b[92m+ libvorbis_jll v1.3.6+6\u001b[39m\n",
      " \u001b[90m [e0b4c2ea] \u001b[39m\u001b[92m+ uCSV v0.1.3\u001b[39m\n",
      " \u001b[90m [1270edf5] \u001b[39m\u001b[92m+ x264_jll v2020.7.14+2\u001b[39m\n",
      " \u001b[90m [dfaa095f] \u001b[39m\u001b[92m+ x265_jll v3.0.0+3\u001b[39m\n",
      " \u001b[90m [d8fb68d0] \u001b[39m\u001b[92m+ xkbcommon_jll v0.9.1+5\u001b[39m\n",
      " \u001b[90m [2a0f44e3] \u001b[39m\u001b[92m+ Base64\u001b[39m\n",
      " \u001b[90m [ade2ca70] \u001b[39m\u001b[92m+ Dates\u001b[39m\n",
      " \u001b[90m [8bb1440f] \u001b[39m\u001b[92m+ DelimitedFiles\u001b[39m\n",
      " \u001b[90m [8ba89e20] \u001b[39m\u001b[92m+ Distributed\u001b[39m\n",
      " \u001b[90m [9fa8497b] \u001b[39m\u001b[92m+ Future\u001b[39m\n",
      " \u001b[90m [b77e0a4c] \u001b[39m\u001b[92m+ InteractiveUtils\u001b[39m\n",
      " \u001b[90m [76f85450] \u001b[39m\u001b[92m+ LibGit2\u001b[39m\n",
      " \u001b[90m [8f399da3] \u001b[39m\u001b[92m+ Libdl\u001b[39m\n",
      " \u001b[90m [37e2e46d] \u001b[39m\u001b[92m+ LinearAlgebra\u001b[39m\n",
      " \u001b[90m [56ddb016] \u001b[39m\u001b[92m+ Logging\u001b[39m\n",
      " \u001b[90m [d6f4376e] \u001b[39m\u001b[92m+ Markdown\u001b[39m\n",
      " \u001b[90m [a63ad114] \u001b[39m\u001b[92m+ Mmap\u001b[39m\n",
      " \u001b[90m [44cfe95a] \u001b[39m\u001b[92m+ Pkg\u001b[39m\n",
      " \u001b[90m [de0858da] \u001b[39m\u001b[92m+ Printf\u001b[39m\n",
      " \u001b[90m [9abbd945] \u001b[39m\u001b[92m+ Profile\u001b[39m\n",
      " \u001b[90m [3fa0cd96] \u001b[39m\u001b[92m+ REPL\u001b[39m\n",
      " \u001b[90m [9a3f8284] \u001b[39m\u001b[92m+ Random\u001b[39m\n",
      " \u001b[90m [ea8e919c] \u001b[39m\u001b[92m+ SHA\u001b[39m\n",
      " \u001b[90m [9e88b42a] \u001b[39m\u001b[92m+ Serialization\u001b[39m\n",
      " \u001b[90m [1a1011a3] \u001b[39m\u001b[92m+ SharedArrays\u001b[39m\n",
      " \u001b[90m [6462fe0b] \u001b[39m\u001b[92m+ Sockets\u001b[39m\n",
      " \u001b[90m [2f01184e] \u001b[39m\u001b[92m+ SparseArrays\u001b[39m\n",
      " \u001b[90m [10745b16] \u001b[39m\u001b[92m+ Statistics\u001b[39m\n",
      " \u001b[90m [4607b0f0] \u001b[39m\u001b[92m+ SuiteSparse\u001b[39m\n",
      " \u001b[90m [8dfed614] \u001b[39m\u001b[92m+ Test\u001b[39m\n",
      " \u001b[90m [cf7118a7] \u001b[39m\u001b[92m+ UUIDs\u001b[39m\n",
      " \u001b[90m [4ec0a83e] \u001b[39m\u001b[92m+ Unicode\u001b[39m\n",
      "\u001b[32m\u001b[1m   Building\u001b[22m\u001b[39m GR → `~/.julia/packages/GR/Hsil0/deps/build.log`\n",
      "┌ Info: Precompiling LightGraphs [093fc24a-ae57-5d10-9952-331d41423f4d]\n",
      "└ @ Base loading.jl:1278\n",
      "┌ Info: Precompiling MetaGraphs [626554b9-1ddb-594c-aa3c-2596fe9399a5]\n",
      "└ @ Base loading.jl:1278\n",
      "┌ Info: Precompiling BioSequences [7e6ae17a-c86d-528c-b3b9-7f778a29fe59]\n",
      "└ @ Base loading.jl:1278\n",
      "[ Info: Compiling bit-parallel GC counter for LongSequence{<:NucleicAcidAlphabet}\n",
      "[ Info: Compiling bit-parallel mismatch counter for LongSequence{<:NucleicAcidAlphabet}\n",
      "[ Info: Compiling bit-parallel match counter for LongSequence{<:NucleicAcidAlphabet}\n",
      "[ Info: Compiling bit-parallel ambiguity counter...\n",
      "[ Info: \tFor a single LongSequence{<:NucleicAcidAlphabet}\n",
      "[ Info: \tFor a pair of LongSequence{<:NucleicAcidAlphabet}s\n",
      "[ Info: Compiling bit-parallel certainty counter for LongSequence{<:NucleicAcidAlphabet}\n",
      "[ Info: Compiling bit-parallel gap counter for LongSequence{<:NucleicAcidAlphabet}\n",
      "┌ Info: Precompiling uCSV [e0b4c2ea-889f-54df-a5e0-fe74b3c892fd]\n",
      "└ @ Base loading.jl:1278\n",
      "┌ Info: Precompiling FASTX [c2308a5c-f048-11e8-3e8a-31650f418d12]\n",
      "└ @ Base loading.jl:1278\n",
      "┌ Info: Precompiling HTTP [cd3eb016-35fb-5094-929b-558a96fad6f3]\n",
      "└ @ Base loading.jl:1278\n",
      "┌ Info: Precompiling Mycelia [453d265d-8292-4a7b-a57c-dce3f9ae6acd]\n",
      "└ @ Base loading.jl:1278\n"
     ]
    }
   ],
   "source": [
    "import Pkg\n",
    "pkgs = [\n",
    "    \"LightGraphs\",\n",
    "    \"MetaGraphs\",\n",
    "    \"BioSequences\",\n",
    "    \"uCSV\",\n",
    "    \"DataFrames\",\n",
    "    \"FASTX\",\n",
    "    \"HTTP\",\n",
    "    \"CodecZlib\",\n",
    "    \"DataStructures\",\n",
    "]\n",
    "Pkg.add(pkgs)\n",
    "for pkg in pkgs\n",
    "    eval(Meta.parse(\"import $pkg\"))\n",
    "end\n",
    "\n",
    "import Mycelia"
   ]
  },
  {
   "cell_type": "code",
   "execution_count": 4,
   "metadata": {},
   "outputs": [
    {
     "ename": "LoadError",
     "evalue": "SystemError: opening file \"/Users/cameronprybol/Repos/Mycelia/paper/metadata/ncbi-staph-phage.csv\": No such file or directory",
     "output_type": "error",
     "traceback": [
      "SystemError: opening file \"/Users/cameronprybol/Repos/Mycelia/paper/metadata/ncbi-staph-phage.csv\": No such file or directory",
      "",
      "Stacktrace:",
      " [1] systemerror(::String, ::Int32; extrainfo::Nothing) at ./error.jl:168",
      " [2] #systemerror#48 at ./error.jl:167 [inlined]",
      " [3] systemerror at ./error.jl:167 [inlined]",
      " [4] open(::String; lock::Bool, read::Nothing, write::Nothing, create::Nothing, truncate::Nothing, append::Nothing) at ./iostream.jl:284",
      " [5] open at ./iostream.jl:273 [inlined]",
      " [6] #read#8 at /Users/cameronprybol/.julia/packages/uCSV/pjRwL/src/read.jl:223 [inlined]",
      " [7] top-level scope at In[4]:1",
      " [8] include_string(::Function, ::Module, ::String, ::String) at ./loading.jl:1091"
     ]
    }
   ],
   "source": [
    "ncbi_staph_phage_metadata = DataFrames.DataFrame(uCSV.read(\"$(dirname(pwd()))/metadata/ncbi-staph-phage.csv\", header=1, quotes='\"', typedetectrows=100)...)"
   ]
  },
  {
   "cell_type": "code",
   "execution_count": 5,
   "metadata": {},
   "outputs": [
    {
     "ename": "LoadError",
     "evalue": "UndefVarError: ncbi_staph_phage_metadata not defined",
     "output_type": "error",
     "traceback": [
      "UndefVarError: ncbi_staph_phage_metadata not defined",
      "",
      "Stacktrace:",
      " [1] top-level scope at In[5]:1",
      " [2] include_string(::Function, ::Module, ::String, ::String) at ./loading.jl:1091"
     ]
    }
   ],
   "source": [
    "ncbi_staph_phage_metadata = ncbi_staph_phage_metadata[ncbi_staph_phage_metadata[!, \"Nuc_Completeness\"] .== \"complete\", :]"
   ]
  },
  {
   "cell_type": "code",
   "execution_count": 6,
   "metadata": {},
   "outputs": [
    {
     "ename": "LoadError",
     "evalue": "UndefVarError: ncbi_staph_phage_metadata not defined",
     "output_type": "error",
     "traceback": [
      "UndefVarError: ncbi_staph_phage_metadata not defined",
      "",
      "Stacktrace:",
      " [1] top-level scope at In[6]:1",
      " [2] include_string(::Function, ::Module, ::String, ::String) at ./loading.jl:1091"
     ]
    }
   ],
   "source": [
    "ncbi_staph_phage_metadata = ncbi_staph_phage_metadata[ncbi_staph_phage_metadata[!, \"Sequence_Type\"] .== \"RefSeq\", :]"
   ]
  },
  {
   "cell_type": "markdown",
   "metadata": {},
   "source": [
    "# now with 7mers"
   ]
  },
  {
   "cell_type": "code",
   "execution_count": null,
   "metadata": {},
   "outputs": [],
   "source": [
    "# k = 3 degree too high\n",
    "# k = 5 degree too high\n",
    "# k = 7 degree too high\n",
    "# k = 11\n",
    "# k = 13\n",
    "# k = 17\n",
    "# k = 21\n",
    "k = 31\n",
    "KMER_TYPE = BioSequences.DNAMer{k}"
   ]
  },
  {
   "cell_type": "code",
   "execution_count": null,
   "metadata": {},
   "outputs": [],
   "source": [
    "EDGE_MER = BioSequences.DNAMer{k+1}"
   ]
  },
  {
   "cell_type": "code",
   "execution_count": null,
   "metadata": {},
   "outputs": [],
   "source": [
    "accession = ncbi_staph_phage_metadata[1, \"Accession\"]\n",
    "fastx = collect(get_sequence(db = \"nuccore\", accession = accession))\n",
    "kmers = Set(collect(keys(Mycelia.count_canonical_kmers(KMER_TYPE, fastx))))\n",
    "# for accession in ncbi_staph_phage_metadata[2:end, \"Accession\"]\n",
    "#     fastx = collect(get_sequence(db = \"nuccore\", accession = accession))\n",
    "#     kmers = union!(kmers, collect(keys(Mycelia.count_canonical_kmers(KMER_TYPE, fastx))))\n",
    "# end\n",
    "# for kmer in kmers\n",
    "#     push!(kmers, BioSequences.reverse_complement(kmer))\n",
    "# end\n",
    "kmers = unique(sort(collect(kmers)))"
   ]
  },
  {
   "cell_type": "code",
   "execution_count": null,
   "metadata": {},
   "outputs": [],
   "source": [
    "kmer_graph = MetaGraphs.MetaDiGraph(length(kmers))\n",
    "MetaGraphs.set_prop!(kmer_graph, :k, k)"
   ]
  },
  {
   "cell_type": "code",
   "execution_count": null,
   "metadata": {},
   "outputs": [],
   "source": [
    "for (vertex, kmer) in enumerate(kmers)\n",
    "    MetaGraphs.set_prop!(kmer_graph, vertex, :kmer, kmer)\n",
    "end"
   ]
  },
  {
   "cell_type": "code",
   "execution_count": null,
   "metadata": {},
   "outputs": [],
   "source": [
    "record = first(fastx)"
   ]
  },
  {
   "cell_type": "code",
   "execution_count": null,
   "metadata": {},
   "outputs": [],
   "source": [
    "sequence = FASTX.sequence(record)\n",
    "record_identifier = FASTX.identifier(record) \n",
    "edge_iterator = BioSequences.each(EDGE_MER, sequence)"
   ]
  },
  {
   "cell_type": "code",
   "execution_count": null,
   "metadata": {},
   "outputs": [],
   "source": [
    "for sequence_edge in edge_iterator\n",
    "\n",
    "    forward_sequence_edge = BioSequences.LongDNASeq(sequence_edge.fw)\n",
    "\n",
    "    observed_source_kmer = BioSequences.DNAMer(forward_sequence_edge[1:end-1])\n",
    "\n",
    "    observed_destination_kmer = BioSequences.DNAMer(forward_sequence_edge[2:end])\n",
    "\n",
    "    oriented_source_kmer = \n",
    "        (canonical_kmer = BioSequences.canonical(observed_source_kmer),\n",
    "         orientation = BioSequences.iscanonical(observed_source_kmer))\n",
    "\n",
    "    oriented_destination_kmer = \n",
    "        (canonical_kmer = BioSequences.canonical(observed_destination_kmer),\n",
    "         orientation = BioSequences.iscanonical(observed_destination_kmer))\n",
    "\n",
    "    oriented_source_vertex = \n",
    "        (vertex = searchsortedfirst(kmers, oriented_source_kmer.canonical_kmer),\n",
    "         orientation = oriented_source_kmer.orientation)\n",
    "\n",
    "    oriented_destination_vertex = \n",
    "        (vertex = searchsortedfirst(kmers, oriented_destination_kmer.canonical_kmer),\n",
    "         orientation = oriented_destination_kmer.orientation)\n",
    "\n",
    "    source_evidence = \n",
    "        (record = record_identifier,\n",
    "         index = sequence_edge.position,\n",
    "         orientation = oriented_source_vertex.orientation)\n",
    "\n",
    "    destination_evidence = \n",
    "        (record = record_identifier,\n",
    "         index = sequence_edge.position + 1,\n",
    "         orientation = oriented_destination_vertex.orientation)\n",
    "\n",
    "    add_evidence!(kmer_graph, oriented_source_vertex.vertex, source_evidence)\n",
    "\n",
    "    add_evidence!(kmer_graph, oriented_destination_vertex.vertex, destination_evidence)\n",
    "\n",
    "    forward_edge = LightGraphs.Edge(oriented_source_vertex.vertex, oriented_destination_vertex.vertex)\n",
    "\n",
    "    LightGraphs.add_edge!(kmer_graph, forward_edge)\n",
    "\n",
    "    forward_edge_orientations = \n",
    "        (source_orientation = oriented_source_vertex.orientation,\n",
    "         destination_orientation = oriented_destination_vertex.orientation)\n",
    "\n",
    "    MetaGraphs.set_prop!(kmer_graph, forward_edge, :orientations, forward_edge_orientations)\n",
    "\n",
    "    forward_edge_evidence = (\n",
    "        record = record_identifier,\n",
    "        index = sequence_edge.position,\n",
    "        orientation = true\n",
    "    )\n",
    "\n",
    "    add_evidence!(kmer_graph, forward_edge, forward_edge_evidence)\n",
    "\n",
    "    reverse_edge = LightGraphs.Edge(oriented_destination_vertex.vertex, oriented_source_vertex.vertex)\n",
    "\n",
    "    LightGraphs.add_edge!(kmer_graph, reverse_edge)\n",
    "\n",
    "    reverse_edge_orientations = \n",
    "        (source_orientation = !oriented_destination_vertex.orientation,\n",
    "         destination_orientation = !oriented_source_vertex.orientation)\n",
    "\n",
    "    MetaGraphs.set_prop!(kmer_graph, reverse_edge, :orientations, reverse_edge_orientations)\n",
    "\n",
    "    reverse_edge_evidence = (\n",
    "        record = record_identifier,\n",
    "        index = sequence_edge.position,\n",
    "        orientation = false\n",
    "    )\n",
    "\n",
    "    add_evidence!(kmer_graph, reverse_edge, reverse_edge_evidence)\n",
    "end"
   ]
  },
  {
   "cell_type": "code",
   "execution_count": null,
   "metadata": {},
   "outputs": [],
   "source": [
    "# NOTE!! here 1 => 1 has both + => + and - => - but only the - is recorded because the value over-wrote the initial\n",
    "# may need to make orientations a set"
   ]
  },
  {
   "cell_type": "code",
   "execution_count": null,
   "metadata": {},
   "outputs": [],
   "source": [
    "LightGraphs.degree_histogram(kmer_graph)"
   ]
  },
  {
   "cell_type": "code",
   "execution_count": null,
   "metadata": {},
   "outputs": [],
   "source": [
    "outfile = \"test.$(k).gfa\"\n",
    "open(outfile, \"w\") do io\n",
    "    println(io, \"H\\tVN:Z:1.0\")\n",
    "    for vertex in LightGraphs.vertices(kmer_graph)\n",
    "        kmer = kmer_graph.vprops[vertex][:kmer]\n",
    "        depth = length(kmer_graph.vprops[vertex][:evidence])\n",
    "#         depth = 1\n",
    "        fields = [\"S\", \"$vertex\", kmer, \"RC:i:$(depth)\"]\n",
    "        line = join(fields, '\\t')\n",
    "        println(io, line)\n",
    "    end\n",
    "    for edge in LightGraphs.edges(kmer_graph)\n",
    "        overlap = kmer_graph.gprops[:k] - 1\n",
    "        \n",
    "        link = [\"L\",\n",
    "                    edge.src,\n",
    "                    kmer_graph.eprops[edge][:orientations].source_orientation ? '+' : '-',\n",
    "                    edge.dst,\n",
    "                    kmer_graph.eprops[edge][:orientations].destination_orientation ? '+' : '-',\n",
    "                    \"$(overlap)M\"]\n",
    "        line = join(link, '\\t')\n",
    "        println(io, line)\n",
    "    end\n",
    "end"
   ]
  },
  {
   "cell_type": "code",
   "execution_count": null,
   "metadata": {},
   "outputs": [],
   "source": [
    "kmer_graph"
   ]
  },
  {
   "cell_type": "code",
   "execution_count": null,
   "metadata": {},
   "outputs": [],
   "source": [
    "function find_downstream_vertices(kmer_graph, vertex, orientation)\n",
    "    viable_neighbors = Int[]\n",
    "    for neighbor in LightGraphs.neighbors(kmer_graph, vertex)\n",
    "        not_same_vertex = vertex != neighbor\n",
    "        candidate_edge = LightGraphs.Edge(vertex, neighbor)\n",
    "        edge_src_orientation = kmer_graph.eprops[candidate_edge][:orientations].source_orientation\n",
    "        viable_orientation = edge_src_orientation == orientation\n",
    "        if not_same_vertex && viable_orientation\n",
    "            push!(viable_neighbors, neighbor)\n",
    "        end\n",
    "    end\n",
    "    return viable_neighbors\n",
    "end"
   ]
  },
  {
   "cell_type": "code",
   "execution_count": null,
   "metadata": {},
   "outputs": [],
   "source": [
    "function find_unbranched_neighbors(kmer_graph, vertex, orientation)\n",
    "    downstream_vertices = find_downstream_vertices(kmer_graph, vertex, orientation)\n",
    "    if length(downstream_vertices) == 1\n",
    "        downstream_vertex = first(downstream_vertices)\n",
    "        destination_orientation = kmer_graph.eprops[LightGraphs.Edge(vertex, downstream_vertex)][:orientations].destination_orientation\n",
    "        backtrack_vertices = find_downstream_vertices(kmer_graph, downstream_vertex, !destination_orientation)\n",
    "        if backtrack_vertices == [vertex]\n",
    "            return downstream_vertices\n",
    "        else\n",
    "            return Int[]\n",
    "        end\n",
    "    else\n",
    "        return Int[]\n",
    "    end\n",
    "end"
   ]
  },
  {
   "cell_type": "code",
   "execution_count": null,
   "metadata": {},
   "outputs": [],
   "source": [
    "function oriented_unbranching_walk(kmer_graph, vertex, orientation)\n",
    "    walk = []\n",
    "    viable_neighbors = find_unbranched_neighbors(kmer_graph, vertex, orientation)\n",
    "    while length(viable_neighbors) == 1\n",
    "#         @show \"found a viable neighbor!!\"\n",
    "        viable_neighbor = first(viable_neighbors)\n",
    "        edge = LightGraphs.Edge(vertex, viable_neighbor)\n",
    "        push!(walk, edge)\n",
    "        vertex = edge.dst\n",
    "        orientation = kmer_graph.eprops[edge][:orientations].destination_orientation\n",
    "        viable_neighbors = find_unbranched_neighbors(kmer_graph, vertex, orientation)\n",
    "    end\n",
    "    return walk\n",
    "end"
   ]
  },
  {
   "cell_type": "code",
   "execution_count": null,
   "metadata": {},
   "outputs": [],
   "source": [
    "untigs = []"
   ]
  },
  {
   "cell_type": "code",
   "execution_count": null,
   "metadata": {},
   "outputs": [],
   "source": [
    "visited = unique(sort(vcat([e.src for untig in untigs for e in untig], [e.dst for untig in untigs for e in untig])))\n",
    "unvisited = setdiff(1:LightGraphs.nv(kmer_graph), visited)\n",
    "if !isempty(unvisited)\n",
    "    first_unvisited = first(setdiff(1:LightGraphs.nv(kmer_graph), visited))\n",
    "    forward_walk = oriented_unbranching_walk(kmer_graph, first_unvisited, true)\n",
    "    reverse_walk = oriented_unbranching_walk(kmer_graph, first_unvisited, false)\n",
    "    inverted_reverse_walk = [LightGraphs.Edge(e.dst, e.src) for e in reverse(reverse_walk)]\n",
    "    untig = vcat(inverted_reverse_walk, forward_walk)\n",
    "    push!(untigs, untig)\n",
    "else\n",
    "    println(\"done!\")\n",
    "end"
   ]
  },
  {
   "cell_type": "code",
   "execution_count": null,
   "metadata": {},
   "outputs": [],
   "source": [
    "# println(join(vcat(first(untig).src, [e.dst for e in untig]...), ','))"
   ]
  },
  {
   "cell_type": "code",
   "execution_count": null,
   "metadata": {},
   "outputs": [],
   "source": [
    "path = first(untigs)"
   ]
  },
  {
   "cell_type": "code",
   "execution_count": null,
   "metadata": {},
   "outputs": [],
   "source": [
    "edge = first(path)"
   ]
  },
  {
   "cell_type": "code",
   "execution_count": null,
   "metadata": {},
   "outputs": [],
   "source": [
    "sequence = BioSequences.LongDNASeq(kmers[edge.src])"
   ]
  },
  {
   "cell_type": "code",
   "execution_count": null,
   "metadata": {},
   "outputs": [],
   "source": [
    "if !kmer_graph.eprops[edge][:orientations].source_orientation\n",
    "    sequence = BioSequences.reverse_complement(sequence)\n",
    "end"
   ]
  },
  {
   "cell_type": "code",
   "execution_count": null,
   "metadata": {},
   "outputs": [],
   "source": [
    "for edge in path\n",
    "    destination = BioSequences.LongDNASeq(kmers[edge.dst])\n",
    "    if !kmer_graph.eprops[edge][:orientations].destination_orientation\n",
    "        destination = BioSequences.reverse_complement(destination)\n",
    "    end\n",
    "    sequence_suffix = sequence[end-length(destination)+2:end]\n",
    "    destination_prefix = destination[1:end-1]\n",
    "    @assert sequence_suffix == destination_prefix\n",
    "    push!(sequence, destination[end])\n",
    "end\n",
    "sequence"
   ]
  },
  {
   "cell_type": "code",
   "execution_count": null,
   "metadata": {},
   "outputs": [],
   "source": [
    "Mycelia.is_equivalent(FASTX.sequence(record), sequence)"
   ]
  }
 ],
 "metadata": {
  "kernelspec": {
   "display_name": "Julia 1.5.3",
   "language": "julia",
   "name": "julia-1.5"
  },
  "language_info": {
   "file_extension": ".jl",
   "mimetype": "application/julia",
   "name": "julia",
   "version": "1.5.3"
  }
 },
 "nbformat": 4,
 "nbformat_minor": 4
}
