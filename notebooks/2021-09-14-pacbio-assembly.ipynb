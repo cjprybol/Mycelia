{
 "cells": [
  {
   "cell_type": "code",
   "execution_count": 1,
   "id": "6ac73c46-51c9-4fea-845f-fb17ce8d83a2",
   "metadata": {},
   "outputs": [
    {
     "data": {
      "text/plain": [
       "\"/home/jovyan/2021-09-14-pacbio-assembly\""
      ]
     },
     "execution_count": 1,
     "metadata": {},
     "output_type": "execute_result"
    }
   ],
   "source": [
    "DATE = \"2021-09-14\"\n",
    "TASK = \"pacbio-assembly\"\n",
    "DIR = mkpath(\"$(homedir())/$(DATE)-$(TASK)\")"
   ]
  },
  {
   "cell_type": "code",
   "execution_count": 2,
   "id": "38cb383f-3696-4b4b-a732-9a2059e0681a",
   "metadata": {},
   "outputs": [],
   "source": [
    "import Pkg\n",
    "pkgs = [\n",
    "    \"BioAlignments\",\n",
    "    \"BioSequences\",\n",
    "    \"Clustering\",\n",
    "#     \"CodecZlib\",\n",
    "#     \"Colors\",\n",
    "#     \"Combinatorics\",\n",
    "    \"DataFrames\",\n",
    "    \"DataStructures\",\n",
    "    \"Dates\",\n",
    "#     \"DelimitedFiles\",\n",
    "    \"Distances\",\n",
    "#     \"Distributions\",\n",
    "#     \"EzXML\",\n",
    "    \"FASTX\",\n",
    "#     \"GFF3\",\n",
    "    \"GLM\",\n",
    "    \"GraphPlot\",\n",
    "#     \"HTTP\",\n",
    "#     \"Impute\",\n",
    "#     \"JSON\",\n",
    "    \"LightGraphs\",\n",
    "#     \"LSHFunctions\",\n",
    "#     \"Measures\",\n",
    "    \"MetaGraphs\",\n",
    "    \"https://github.com/cjprybol/Mycelia.git\",\n",
    "#     \"NumericIO\",\n",
    "#     \"PlotlyJS\",\n",
    "#     \"Plots\",\n",
    "    \"Primes\",\n",
    "#     \"Printf\",\n",
    "    \"ProgressMeter\",\n",
    "    \"Random\",\n",
    "    \"Revise\",\n",
    "    \"SparseArrays\",\n",
    "    \"Statistics\",\n",
    "    \"StatsBase\",\n",
    "    \"StatsPlots\",\n",
    "#     \"StringDistances\",\n",
    "    \"uCSV\",\n",
    "#     \"XLSX\",\n",
    "]\n",
    "\n",
    "unregistered_packages = filter(pkg -> occursin(r\"(^https|git$)\", pkg), pkgs)\n",
    "registered_packages = setdiff(pkgs, unregistered_packages)\n",
    "\n",
    "for pkg in registered_packages\n",
    "    try\n",
    "        eval(Meta.parse(\"import $(pkg)\"))\n",
    "    catch\n",
    "        Pkg.add(pkg)\n",
    "        Pkg.build(pkg)\n",
    "        eval(Meta.parse(\"import $(pkg)\"))\n",
    "    end\n",
    "end\n",
    "\n",
    "for pkg_url in unregistered_packages\n",
    "    pkg_name = replace(basename(pkg_url), \".git\" => \"\")\n",
    "    try\n",
    "        eval(Meta.parse(\"import $(pkg_name)\"))\n",
    "    catch\n",
    "        Pkg.develop(url=pkg_url)\n",
    "        Pkg.build(pkg_name)\n",
    "        eval(Meta.parse(\"import $(pkg_name)\"))\n",
    "    end\n",
    "end"
   ]
  },
  {
   "cell_type": "code",
   "execution_count": 3,
   "id": "ea19d6bc-8d84-4d8a-8e0c-bd00614d6dfb",
   "metadata": {},
   "outputs": [
    {
     "data": {
      "text/plain": [
       "kmer_index_and_orientation_to_kmer (generic function with 1 method)"
      ]
     },
     "execution_count": 3,
     "metadata": {},
     "output_type": "execute_result"
    }
   ],
   "source": [
    "function kmer_index_and_orientation_to_kmer(graph, kmer_index, orientation)\n",
    "    kmer = graph.vprops[kmer_index][:kmer]\n",
    "    if !orientation\n",
    "        kmer = BioSequences.reverse_complement(kmer)\n",
    "    end\n",
    "    return kmer\n",
    "end"
   ]
  },
  {
   "cell_type": "code",
   "execution_count": 4,
   "id": "ab79def6-1e00-4b75-b86f-e16c4aefb35c",
   "metadata": {},
   "outputs": [
    {
     "data": {
      "text/plain": [
       "determine_edge_probabilities (generic function with 1 method)"
      ]
     },
     "execution_count": 4,
     "metadata": {},
     "output_type": "execute_result"
    }
   ],
   "source": [
    "function determine_edge_probabilities(graph)\n",
    "    nv = LightGraphs.nv(graph)\n",
    "    edge_probabilities = SparseArrays.spzeros(nv, nv)\n",
    "    for v in 1:nv\n",
    "        neighbors = LightGraphs.neighbors(graph, v)\n",
    "        @assert issorted(neighbors)\n",
    "        likelihoods = zeros(length(neighbors))\n",
    "        for (i, neighbor) in enumerate(neighbors)\n",
    "            if v <= neighbor\n",
    "                edge = LightGraphs.Edge(v, neighbor)\n",
    "            else\n",
    "                edge = LightGraphs.Edge(neighbor, v)\n",
    "            end\n",
    "            @assert LightGraphs.has_edge(graph, edge)\n",
    "            likelihoods[i] = graph.eprops[edge][:count]     \n",
    "        end\n",
    "        likelihoods = likelihoods ./ sum(likelihoods)\n",
    "#         @show likelihoods\n",
    "#         @show neighbors\n",
    "        for (neighbor, likelihood) in zip(neighbors, likelihoods)\n",
    "            edge_probabilities[v, neighbor] = likelihood\n",
    "        end\n",
    "    end\n",
    "    \n",
    "    for source in 1:size(edge_probabilities, 1)\n",
    "        destinations = findall(edge_probabilities[source, :] .> 0)\n",
    "        destination_counts = [graph.vprops[dest][:count] for dest in destinations]\n",
    "        destination_likelihoods = destination_counts ./ sum(destination_counts)\n",
    "        for (dest, likelihood) in zip(destinations, destination_likelihoods)\n",
    "            edge_probabilities[source, dest] *= likelihood\n",
    "        end\n",
    "        edge_probabilities[source, :] ./= sum(edge_probabilities[source, :])\n",
    "        @assert abs(1-sum(edge_probabilities[source, :])) <= eps(Float64)\n",
    "    end\n",
    "    \n",
    "    return edge_probabilities\n",
    "end"
   ]
  },
  {
   "cell_type": "code",
   "execution_count": 5,
   "id": "a5e1ffd6-44f8-4dee-b381-f0ca479cf91d",
   "metadata": {},
   "outputs": [
    {
     "data": {
      "text/plain": [
       "orient_path (generic function with 1 method)"
      ]
     },
     "execution_count": 5,
     "metadata": {},
     "output_type": "execute_result"
    }
   ],
   "source": [
    "function orient_path(graph, kmers, path, opening_orientation, opening_kmer, closing_orientation)\n",
    "    vertices = path\n",
    "    path_orientations = [opening_orientation]\n",
    "    path_kmers = [opening_kmer]\n",
    "    @show opening_orientation\n",
    "    for (i, vertex) in enumerate(vertices[2:end])\n",
    "        @show i, vertex, last(path_orientations)\n",
    "        viable_neighbors = typeof(opening_kmer)[]\n",
    "        viable_neighbor = nothing\n",
    "        viable_orientations = Bool[]\n",
    "        viable_orientation = nothing\n",
    "        for neighbor in BioSequences.neighbors(last(path_kmers))\n",
    "            @show \"considering going from $(last(path_kmers)) to $(neighbor)\"\n",
    "#             @show \"considering going from $(last(path_kmers)) to $(neighbor)\"\n",
    "            canonical_neighbor = BioSequences.canonical(neighbor)\n",
    "            canonical_neighbor_index_range = searchsorted(kmers, canonical_neighbor)\n",
    "#             @show canonical_neighbor_index_range\n",
    "            if length(canonical_neighbor_index_range) == 1\n",
    "                @show canonical_neighbor_index = first(canonical_neighbor_index_range)\n",
    "                if canonical_neighbor_index == vertex\n",
    "                    @show \"hit, selecting $neighbor\"\n",
    "                    viable_neighbor = neighbor\n",
    "                    viable_orientation = neighbor == canonical_neighbor\n",
    "                end\n",
    "            end\n",
    "        end\n",
    "        if (viable_neighbor != nothing) && (viable_orientation != nothing)\n",
    "            push!(path_kmers, viable_neighbor)\n",
    "            push!(path_orientations, viable_orientation)\n",
    "        else\n",
    "            return nothing\n",
    "            # not a viable path, need to look towards the next miss\n",
    "        end\n",
    "    end\n",
    "    return vertices, path_orientations, path_kmers\n",
    "end"
   ]
  },
  {
   "cell_type": "code",
   "execution_count": 6,
   "id": "8b96ea5a-e81b-445a-abb9-ab3c28e494e3",
   "metadata": {},
   "outputs": [
    {
     "data": {
      "text/plain": [
       "take_a_walk (generic function with 1 method)"
      ]
     },
     "execution_count": 6,
     "metadata": {},
     "output_type": "execute_result"
    }
   ],
   "source": [
    "function take_a_walk(graph, edge_likelihoods, kmers, kmer, walk_length)\n",
    "    walk = [kmer]\n",
    "    current_kmer_indices = searchsorted(kmers, BioSequences.canonical(last(walk)))\n",
    "    @assert length(current_kmer_indices) == 1\n",
    "    current_kmer_index = first(current_kmer_indices)\n",
    "    while length(walk) < walk_length\n",
    "        viable_neighbors = Tuple{Int, Bool}[]\n",
    "        for neighbor in BioSequences.neighbors(kmer)\n",
    "            canonical_neighbor = BioSequences.canonical(neighbor)\n",
    "            neighbor_is_canonical = neighbor == canonical_neighbor\n",
    "            neighbor_vertex_range = searchsorted(kmers, canonical_neighbor)\n",
    "            if !isempty(neighbor_vertex_range)\n",
    "                neighbor_vertex = first(neighbor_vertex_range)\n",
    "                if LightGraphs.has_edge(graph, current_kmer_index, neighbor_vertex)\n",
    "                    push!(viable_neighbors, (neighbor_vertex, neighbor_is_canonical))\n",
    "                end\n",
    "            end\n",
    "        end\n",
    "        if isempty(viable_neighbors)\n",
    "            return walk\n",
    "        elseif length(viable_neighbors) == 1\n",
    "            chosen_neighbor = first(viable_neighbors)\n",
    "        else\n",
    "            viable_neighbor_indices = first.(viable_neighbors)\n",
    "            step_likelihoods = StatsBase.weights(edge_likelihoods[current_kmer_index, viable_neighbor_indices])\n",
    "            chosen_neighbor = StatsBase.sample(viable_neighbors, step_likelihoods)\n",
    "        end\n",
    "        kmer = kmer_index_and_orientation_to_kmer(graph, chosen_neighbor...)\n",
    "        push!(walk, kmer)\n",
    "        current_kmer_indices = searchsorted(kmers, BioSequences.canonical(last(walk)))\n",
    "        @assert length(current_kmer_indices) == 1\n",
    "        current_kmer_index = first(current_kmer_indices)\n",
    "    end\n",
    "    return walk\n",
    "end"
   ]
  },
  {
   "cell_type": "code",
   "execution_count": 7,
   "id": "2904784d-e5ae-4755-8007-72481227fa40",
   "metadata": {},
   "outputs": [
    {
     "data": {
      "text/plain": [
       "sort_fastq"
      ]
     },
     "execution_count": 7,
     "metadata": {},
     "output_type": "execute_result"
    }
   ],
   "source": [
    "\"\"\"\n",
    "    sort_fastq(input_fastq, output_fastq)\n",
    "\n",
    "This turns a 4-line FASTQ entry into a single tab separated line,\n",
    "adds a column with the length of each read, passes it to Unix sort,\n",
    "removes the length column, and converts it back into a FASTQ file.\n",
    "\n",
    "sorts longest to shortest!!\n",
    "\n",
    "http://thegenomefactory.blogspot.com/2012/11/sorting-fastq-files-by-sequence-length.html\n",
    "\"\"\"\n",
    "function sort_fastq(input_fastq, output_fastq=\"\")\n",
    "    \n",
    "    if endswith(input_fastq, \".gz\")\n",
    "        p = pipeline(\n",
    "                `gzip -dc $input_fastq`,\n",
    "                `paste - - - -`,\n",
    "                `perl -ne '@x=split m/\\t/; unshift @x, length($x[1]); print join \"\\t\",@x;'`,\n",
    "                `sort -nr`,\n",
    "                `cut -f2-`,\n",
    "                `tr \"\\t\" \"\\n\"`,\n",
    "                `gzip`\n",
    "                )\n",
    "    else\n",
    "        p = pipeline(\n",
    "                `cat $input_fastq`,\n",
    "                `paste - - - -`,\n",
    "                `perl -ne '@x=split m/\\t/; unshift @x, length($x[1]); print join \"\\t\",@x;'`,\n",
    "                `sort -nr`,\n",
    "                `cut -f2-`,\n",
    "                `tr \"\\t\" \"\\n\"`\n",
    "                )\n",
    "    end\n",
    "    run(pipeline(p, output_fastq))\n",
    "    return output_fastq\n",
    "end"
   ]
  },
  {
   "cell_type": "code",
   "execution_count": 8,
   "id": "3c64bb5f-0012-42f8-83a8-231f5aadcde3",
   "metadata": {},
   "outputs": [
    {
     "data": {
      "text/plain": [
       "count_reads (generic function with 1 method)"
      ]
     },
     "execution_count": 8,
     "metadata": {},
     "output_type": "execute_result"
    }
   ],
   "source": [
    "function count_reads(fastq_file)\n",
    "    n_reads = 0\n",
    "    for record in Mycelia.open_fastx(fastq_file)\n",
    "        n_reads += 1\n",
    "    end\n",
    "    return n_reads\n",
    "end"
   ]
  },
  {
   "cell_type": "code",
   "execution_count": 9,
   "id": "67f8f745-914f-4c94-a5be-86c39628e2bc",
   "metadata": {},
   "outputs": [
    {
     "data": {
      "text/plain": [
       "max_canonical_kmers (generic function with 1 method)"
      ]
     },
     "execution_count": 9,
     "metadata": {},
     "output_type": "execute_result"
    }
   ],
   "source": [
    "function max_canonical_kmers(kmer_type)\n",
    "    k_size = last(kmer_type.parameters)\n",
    "    # we only consider canonical kmers so cut in 1/2\n",
    "    max_canonical_kmers = Int(4^k_size / 2)\n",
    "    return max_canonical_kmers\n",
    "end"
   ]
  },
  {
   "cell_type": "code",
   "execution_count": 10,
   "id": "0e116b34-4490-4846-97c5-04e473d47f5e",
   "metadata": {},
   "outputs": [
    {
     "data": {
      "text/plain": [
       "assess_kmer_saturation (generic function with 1 method)"
      ]
     },
     "execution_count": 10,
     "metadata": {},
     "output_type": "execute_result"
    }
   ],
   "source": [
    "function assess_kmer_saturation(fastq_file, kmer_type; max_reads=Inf, power=10)\n",
    "    canonical_kmers = Set{kmer_type}()\n",
    "    repeat_kmers = Set{kmer_type}()\n",
    "    \n",
    "    if max_reads == Inf\n",
    "        @info \"determining # of reads in file(s)\"\n",
    "        max_reads = count_reads(fastq_file)\n",
    "    end\n",
    "    \n",
    "    @info \"total reads being considered = $(max_reads)\"\n",
    "    \n",
    "    max_kmers = max_canonical_kmers(kmer_type)\n",
    "\n",
    "    @info \"maximim kmers = $(max_kmers)\"\n",
    "    \n",
    "    sampling_points = Int[0]\n",
    "    i = 0\n",
    "    while power^i <= max_reads\n",
    "        push!(sampling_points, power^i)\n",
    "        i += 1\n",
    "    end\n",
    "    \n",
    "    repeat_kmer_counts = zeros(Int, length(sampling_points))\n",
    "    p = ProgressMeter.Progress(max_reads, 1)\n",
    "    \n",
    "    read_number = 0\n",
    "    for record in Mycelia.open_fastx(fastq_file)\n",
    "        hit_max_reads = (read_number > sampling_points[end])\n",
    "        hit_saturation = \n",
    "        hit_max_reads && break\n",
    "        read_number += 1\n",
    "        ProgressMeter.next!(p)\n",
    "        for kmer in BioSequences.each(kmer_type, FASTX.sequence(record))\n",
    "            canonical_kmer = kmer.fw < kmer.bw ? kmer.fw : kmer.bw\n",
    "            if canonical_kmer in canonical_kmers\n",
    "                push!(repeat_kmers, canonical_kmer)\n",
    "            else\n",
    "                push!(canonical_kmers, canonical_kmer)\n",
    "            end\n",
    "        end\n",
    "        n_kmers = length(repeat_kmers)\n",
    "        if n_kmers == max_kmers\n",
    "            sampling_points = vcat(filter(s -> s < read_number, sampling_points), [read_number])\n",
    "            repeat_kmer_counts = vcat(repeat_kmer_counts[1:length(sampling_points)-1], n_kmers)\n",
    "            break\n",
    "        elseif rem(log(power, read_number), 1) == 0.0\n",
    "            i = findfirst(sampling_points .== read_number)\n",
    "            repeat_kmer_counts[i] = n_kmers\n",
    "            percent_saturation = round(n_kmers/max_kmers, sigdigits=5) * 100\n",
    "            @show read_number, percent_saturation\n",
    "        end\n",
    "    end\n",
    "    return (;sampling_points, repeat_kmer_counts)\n",
    "end"
   ]
  },
  {
   "cell_type": "code",
   "execution_count": 11,
   "id": "b8d05dd2-004d-4f51-9686-57462fa97f57",
   "metadata": {},
   "outputs": [],
   "source": [
    "# read in reads from pacbio run"
   ]
  },
  {
   "cell_type": "code",
   "execution_count": 12,
   "id": "c6d75091-3110-4d84-aefb-c2b0810c3452",
   "metadata": {},
   "outputs": [
    {
     "data": {
      "text/plain": [
       "\"/home/jovyan/pacbio-test-data/b002225.subreads.fastq.gz\""
      ]
     },
     "execution_count": 12,
     "metadata": {},
     "output_type": "execute_result"
    }
   ],
   "source": [
    "# fastq_directory = \"$(homedir())/pacbio-test-data\"\n",
    "# fastq_file = first(readdir(fastq_directory, join=true))\n",
    "fastq_file = \"$(homedir())/pacbio-test-data/b002225.subreads.fastq.gz\""
   ]
  },
  {
   "cell_type": "code",
   "execution_count": 13,
   "id": "118a0ea7-4d59-4808-82c5-cd5f5a6e52b0",
   "metadata": {},
   "outputs": [],
   "source": [
    "# sort fastq file from shortest to longest reads"
   ]
  },
  {
   "cell_type": "code",
   "execution_count": 14,
   "id": "dcc62522-ba53-4fdc-bc3d-53ef5422c933",
   "metadata": {},
   "outputs": [
    {
     "data": {
      "text/plain": [
       "\"/home/jovyan/pacbio-test-data/b002225.subreads.sorted.fastq.gz\""
      ]
     },
     "execution_count": 14,
     "metadata": {},
     "output_type": "execute_result"
    }
   ],
   "source": [
    "sorted_fastq_file = replace(fastq_file, r\"\\.fastq\\.gz$\" => \".sorted.fastq.gz\")\n",
    "# @time sort_fastq(fastq_file, sorted_fastq_file)\n",
    "# 62 minutes!"
   ]
  },
  {
   "cell_type": "code",
   "execution_count": 21,
   "id": "0abbdf92-f933-4b8d-937a-ea36efc6e4a5",
   "metadata": {},
   "outputs": [
    {
     "data": {
      "text/plain": [
       "1970799"
      ]
     },
     "execution_count": 21,
     "metadata": {},
     "output_type": "execute_result"
    }
   ],
   "source": [
    "max_reads = count_reads(fastq_file)"
   ]
  },
  {
   "cell_type": "code",
   "execution_count": 22,
   "id": "be3ae18b-62bf-4729-a8c0-b4596083f192",
   "metadata": {},
   "outputs": [
    {
     "data": {
      "text/plain": [
       "10000"
      ]
     },
     "execution_count": 22,
     "metadata": {},
     "output_type": "execute_result"
    }
   ],
   "source": [
    "n_reads = min(10_000, Int(ceil(max_reads/100)))"
   ]
  },
  {
   "cell_type": "code",
   "execution_count": 16,
   "id": "9b6e29f2-117a-49a4-9df6-c7df45e299e7",
   "metadata": {},
   "outputs": [
    {
     "data": {
      "text/plain": [
       "10-element Vector{Int64}:\n",
       "  3\n",
       "  5\n",
       "  7\n",
       " 11\n",
       " 13\n",
       " 17\n",
       " 19\n",
       " 23\n",
       " 29\n",
       " 31"
      ]
     },
     "execution_count": 16,
     "metadata": {},
     "output_type": "execute_result"
    }
   ],
   "source": [
    "ks = Primes.primes(3, 31)"
   ]
  },
  {
   "cell_type": "code",
   "execution_count": 17,
   "id": "f71f8c75-c04b-42ca-a843-0bb9030959ba",
   "metadata": {},
   "outputs": [
    {
     "data": {
      "text/plain": [
       "BioSequences.Mer{BioSequences.DNAAlphabet{2}, 3}"
      ]
     },
     "execution_count": 17,
     "metadata": {},
     "output_type": "execute_result"
    }
   ],
   "source": [
    "k = ks[1]\n",
    "kmer_type = BioSequences.DNAMer{k}"
   ]
  },
  {
   "cell_type": "code",
   "execution_count": 20,
   "id": "3dd9d2f4-46ae-4633-951a-d2e0faec1b6d",
   "metadata": {},
   "outputs": [
    {
     "name": "stderr",
     "output_type": "stream",
     "text": [
      "┌ Info: total reads being considered = 10000\n",
      "└ @ Main In[10]:10\n",
      "┌ Info: maximim kmers = 32\n",
      "└ @ Main In[10]:14\n"
     ]
    },
    {
     "data": {
      "image/svg+xml": [
       "<?xml version=\"1.0\" encoding=\"utf-8\"?>\n",
       "<svg xmlns=\"http://www.w3.org/2000/svg\" xmlns:xlink=\"http://www.w3.org/1999/xlink\" width=\"600\" height=\"400\" viewBox=\"0 0 2400 1600\">\n",
       "<defs>\n",
       "  <clipPath id=\"clip260\">\n",
       "    <rect x=\"0\" y=\"0\" width=\"2400\" height=\"1600\"/>\n",
       "  </clipPath>\n",
       "</defs>\n",
       "<path clip-path=\"url(#clip260)\" d=\"\n",
       "M0 1600 L2400 1600 L2400 0 L0 0  Z\n",
       "  \" fill=\"#ffffff\" fill-rule=\"evenodd\" fill-opacity=\"1\"/>\n",
       "<defs>\n",
       "  <clipPath id=\"clip261\">\n",
       "    <rect x=\"480\" y=\"0\" width=\"1681\" height=\"1600\"/>\n",
       "  </clipPath>\n",
       "</defs>\n",
       "<path clip-path=\"url(#clip260)\" d=\"\n",
       "M203.964 1423.18 L2352.76 1423.18 L2352.76 47.2441 L203.964 47.2441  Z\n",
       "  \" fill=\"#ffffff\" fill-rule=\"evenodd\" fill-opacity=\"1\"/>\n",
       "<defs>\n",
       "  <clipPath id=\"clip262\">\n",
       "    <rect x=\"203\" y=\"47\" width=\"2150\" height=\"1377\"/>\n",
       "  </clipPath>\n",
       "</defs>\n",
       "<polyline clip-path=\"url(#clip262)\" style=\"stroke:#000000; stroke-linecap:butt; stroke-linejoin:round; stroke-width:2; stroke-opacity:0.1; fill:none\" points=\"\n",
       "  264.778,1423.18 264.778,47.2441 \n",
       "  \"/>\n",
       "<polyline clip-path=\"url(#clip262)\" style=\"stroke:#000000; stroke-linecap:butt; stroke-linejoin:round; stroke-width:2; stroke-opacity:0.1; fill:none\" points=\"\n",
       "  771.569,1423.18 771.569,47.2441 \n",
       "  \"/>\n",
       "<polyline clip-path=\"url(#clip262)\" style=\"stroke:#000000; stroke-linecap:butt; stroke-linejoin:round; stroke-width:2; stroke-opacity:0.1; fill:none\" points=\"\n",
       "  1278.36,1423.18 1278.36,47.2441 \n",
       "  \"/>\n",
       "<polyline clip-path=\"url(#clip262)\" style=\"stroke:#000000; stroke-linecap:butt; stroke-linejoin:round; stroke-width:2; stroke-opacity:0.1; fill:none\" points=\"\n",
       "  1785.15,1423.18 1785.15,47.2441 \n",
       "  \"/>\n",
       "<polyline clip-path=\"url(#clip262)\" style=\"stroke:#000000; stroke-linecap:butt; stroke-linejoin:round; stroke-width:2; stroke-opacity:0.1; fill:none\" points=\"\n",
       "  2291.94,1423.18 2291.94,47.2441 \n",
       "  \"/>\n",
       "<polyline clip-path=\"url(#clip260)\" style=\"stroke:#000000; stroke-linecap:butt; stroke-linejoin:round; stroke-width:4; stroke-opacity:1; fill:none\" points=\"\n",
       "  203.964,1423.18 2352.76,1423.18 \n",
       "  \"/>\n",
       "<polyline clip-path=\"url(#clip260)\" style=\"stroke:#000000; stroke-linecap:butt; stroke-linejoin:round; stroke-width:4; stroke-opacity:1; fill:none\" points=\"\n",
       "  264.778,1423.18 264.778,1404.28 \n",
       "  \"/>\n",
       "<polyline clip-path=\"url(#clip260)\" style=\"stroke:#000000; stroke-linecap:butt; stroke-linejoin:round; stroke-width:4; stroke-opacity:1; fill:none\" points=\"\n",
       "  771.569,1423.18 771.569,1404.28 \n",
       "  \"/>\n",
       "<polyline clip-path=\"url(#clip260)\" style=\"stroke:#000000; stroke-linecap:butt; stroke-linejoin:round; stroke-width:4; stroke-opacity:1; fill:none\" points=\"\n",
       "  1278.36,1423.18 1278.36,1404.28 \n",
       "  \"/>\n",
       "<polyline clip-path=\"url(#clip260)\" style=\"stroke:#000000; stroke-linecap:butt; stroke-linejoin:round; stroke-width:4; stroke-opacity:1; fill:none\" points=\"\n",
       "  1785.15,1423.18 1785.15,1404.28 \n",
       "  \"/>\n",
       "<polyline clip-path=\"url(#clip260)\" style=\"stroke:#000000; stroke-linecap:butt; stroke-linejoin:round; stroke-width:4; stroke-opacity:1; fill:none\" points=\"\n",
       "  2291.94,1423.18 2291.94,1404.28 \n",
       "  \"/>\n",
       "<path clip-path=\"url(#clip260)\" d=\"M227.082 1452.37 Q223.471 1452.37 221.642 1455.94 Q219.837 1459.48 219.837 1466.61 Q219.837 1473.71 221.642 1477.28 Q223.471 1480.82 227.082 1480.82 Q230.716 1480.82 232.522 1477.28 Q234.35 1473.71 234.35 1466.61 Q234.35 1459.48 232.522 1455.94 Q230.716 1452.37 227.082 1452.37 M227.082 1448.67 Q232.892 1448.67 235.948 1453.27 Q239.026 1457.86 239.026 1466.61 Q239.026 1475.33 235.948 1479.94 Q232.892 1484.52 227.082 1484.52 Q221.272 1484.52 218.193 1479.94 Q215.138 1475.33 215.138 1466.61 Q215.138 1457.86 218.193 1453.27 Q221.272 1448.67 227.082 1448.67 Z\" fill=\"#000000\" fill-rule=\"evenodd\" fill-opacity=\"1\" /><path clip-path=\"url(#clip260)\" d=\"M247.244 1477.97 L252.128 1477.97 L252.128 1483.85 L247.244 1483.85 L247.244 1477.97 Z\" fill=\"#000000\" fill-rule=\"evenodd\" fill-opacity=\"1\" /><path clip-path=\"url(#clip260)\" d=\"M272.313 1452.37 Q268.702 1452.37 266.873 1455.94 Q265.068 1459.48 265.068 1466.61 Q265.068 1473.71 266.873 1477.28 Q268.702 1480.82 272.313 1480.82 Q275.947 1480.82 277.753 1477.28 Q279.582 1473.71 279.582 1466.61 Q279.582 1459.48 277.753 1455.94 Q275.947 1452.37 272.313 1452.37 M272.313 1448.67 Q278.123 1448.67 281.179 1453.27 Q284.258 1457.86 284.258 1466.61 Q284.258 1475.33 281.179 1479.94 Q278.123 1484.52 272.313 1484.52 Q266.503 1484.52 263.424 1479.94 Q260.369 1475.33 260.369 1466.61 Q260.369 1457.86 263.424 1453.27 Q266.503 1448.67 272.313 1448.67 Z\" fill=\"#000000\" fill-rule=\"evenodd\" fill-opacity=\"1\" /><path clip-path=\"url(#clip260)\" d=\"M302.475 1452.37 Q298.864 1452.37 297.035 1455.94 Q295.23 1459.48 295.23 1466.61 Q295.23 1473.71 297.035 1477.28 Q298.864 1480.82 302.475 1480.82 Q306.109 1480.82 307.915 1477.28 Q309.743 1473.71 309.743 1466.61 Q309.743 1459.48 307.915 1455.94 Q306.109 1452.37 302.475 1452.37 M302.475 1448.67 Q308.285 1448.67 311.341 1453.27 Q314.419 1457.86 314.419 1466.61 Q314.419 1475.33 311.341 1479.94 Q308.285 1484.52 302.475 1484.52 Q296.665 1484.52 293.586 1479.94 Q290.531 1475.33 290.531 1466.61 Q290.531 1457.86 293.586 1453.27 Q296.665 1448.67 302.475 1448.67 Z\" fill=\"#000000\" fill-rule=\"evenodd\" fill-opacity=\"1\" /><path clip-path=\"url(#clip260)\" d=\"M734.37 1452.37 Q730.759 1452.37 728.93 1455.94 Q727.125 1459.48 727.125 1466.61 Q727.125 1473.71 728.93 1477.28 Q730.759 1480.82 734.37 1480.82 Q738.004 1480.82 739.81 1477.28 Q741.639 1473.71 741.639 1466.61 Q741.639 1459.48 739.81 1455.94 Q738.004 1452.37 734.37 1452.37 M734.37 1448.67 Q740.18 1448.67 743.236 1453.27 Q746.315 1457.86 746.315 1466.61 Q746.315 1475.33 743.236 1479.94 Q740.18 1484.52 734.37 1484.52 Q728.56 1484.52 725.481 1479.94 Q722.426 1475.33 722.426 1466.61 Q722.426 1457.86 725.481 1453.27 Q728.56 1448.67 734.37 1448.67 Z\" fill=\"#000000\" fill-rule=\"evenodd\" fill-opacity=\"1\" /><path clip-path=\"url(#clip260)\" d=\"M754.532 1477.97 L759.416 1477.97 L759.416 1483.85 L754.532 1483.85 L754.532 1477.97 Z\" fill=\"#000000\" fill-rule=\"evenodd\" fill-opacity=\"1\" /><path clip-path=\"url(#clip260)\" d=\"M773.629 1479.92 L789.949 1479.92 L789.949 1483.85 L768.004 1483.85 L768.004 1479.92 Q770.666 1477.16 775.25 1472.53 Q779.856 1467.88 781.037 1466.54 Q783.282 1464.01 784.162 1462.28 Q785.064 1460.52 785.064 1458.83 Q785.064 1456.07 783.12 1454.34 Q781.199 1452.6 778.097 1452.6 Q775.898 1452.6 773.444 1453.37 Q771.014 1454.13 768.236 1455.68 L768.236 1450.96 Q771.06 1449.82 773.514 1449.25 Q775.967 1448.67 778.004 1448.67 Q783.375 1448.67 786.569 1451.35 Q789.763 1454.04 789.763 1458.53 Q789.763 1460.66 788.953 1462.58 Q788.166 1464.48 786.06 1467.07 Q785.481 1467.74 782.379 1470.96 Q779.277 1474.15 773.629 1479.92 Z\" fill=\"#000000\" fill-rule=\"evenodd\" fill-opacity=\"1\" /><path clip-path=\"url(#clip260)\" d=\"M799.81 1449.29 L818.166 1449.29 L818.166 1453.23 L804.092 1453.23 L804.092 1461.7 Q805.111 1461.35 806.129 1461.19 Q807.148 1461 808.166 1461 Q813.953 1461 817.333 1464.18 Q820.712 1467.35 820.712 1472.76 Q820.712 1478.34 817.24 1481.44 Q813.768 1484.52 807.449 1484.52 Q805.273 1484.52 803.004 1484.15 Q800.759 1483.78 798.351 1483.04 L798.351 1478.34 Q800.435 1479.48 802.657 1480.03 Q804.879 1480.59 807.356 1480.59 Q811.361 1480.59 813.698 1478.48 Q816.036 1476.38 816.036 1472.76 Q816.036 1469.15 813.698 1467.05 Q811.361 1464.94 807.356 1464.94 Q805.481 1464.94 803.606 1465.36 Q801.754 1465.77 799.81 1466.65 L799.81 1449.29 Z\" fill=\"#000000\" fill-rule=\"evenodd\" fill-opacity=\"1\" /><path clip-path=\"url(#clip260)\" d=\"M1240.66 1452.37 Q1237.05 1452.37 1235.22 1455.94 Q1233.42 1459.48 1233.42 1466.61 Q1233.42 1473.71 1235.22 1477.28 Q1237.05 1480.82 1240.66 1480.82 Q1244.3 1480.82 1246.1 1477.28 Q1247.93 1473.71 1247.93 1466.61 Q1247.93 1459.48 1246.1 1455.94 Q1244.3 1452.37 1240.66 1452.37 M1240.66 1448.67 Q1246.47 1448.67 1249.53 1453.27 Q1252.61 1457.86 1252.61 1466.61 Q1252.61 1475.33 1249.53 1479.94 Q1246.47 1484.52 1240.66 1484.52 Q1234.85 1484.52 1231.77 1479.94 Q1228.72 1475.33 1228.72 1466.61 Q1228.72 1457.86 1231.77 1453.27 Q1234.85 1448.67 1240.66 1448.67 Z\" fill=\"#000000\" fill-rule=\"evenodd\" fill-opacity=\"1\" /><path clip-path=\"url(#clip260)\" d=\"M1260.83 1477.97 L1265.71 1477.97 L1265.71 1483.85 L1260.83 1483.85 L1260.83 1477.97 Z\" fill=\"#000000\" fill-rule=\"evenodd\" fill-opacity=\"1\" /><path clip-path=\"url(#clip260)\" d=\"M1275.94 1449.29 L1294.3 1449.29 L1294.3 1453.23 L1280.22 1453.23 L1280.22 1461.7 Q1281.24 1461.35 1282.26 1461.19 Q1283.28 1461 1284.3 1461 Q1290.08 1461 1293.46 1464.18 Q1296.84 1467.35 1296.84 1472.76 Q1296.84 1478.34 1293.37 1481.44 Q1289.9 1484.52 1283.58 1484.52 Q1281.4 1484.52 1279.14 1484.15 Q1276.89 1483.78 1274.48 1483.04 L1274.48 1478.34 Q1276.57 1479.48 1278.79 1480.03 Q1281.01 1480.59 1283.49 1480.59 Q1287.49 1480.59 1289.83 1478.48 Q1292.17 1476.38 1292.17 1472.76 Q1292.17 1469.15 1289.83 1467.05 Q1287.49 1464.94 1283.49 1464.94 Q1281.61 1464.94 1279.74 1465.36 Q1277.89 1465.77 1275.94 1466.65 L1275.94 1449.29 Z\" fill=\"#000000\" fill-rule=\"evenodd\" fill-opacity=\"1\" /><path clip-path=\"url(#clip260)\" d=\"M1316.06 1452.37 Q1312.45 1452.37 1310.62 1455.94 Q1308.81 1459.48 1308.81 1466.61 Q1308.81 1473.71 1310.62 1477.28 Q1312.45 1480.82 1316.06 1480.82 Q1319.69 1480.82 1321.5 1477.28 Q1323.32 1473.71 1323.32 1466.61 Q1323.32 1459.48 1321.5 1455.94 Q1319.69 1452.37 1316.06 1452.37 M1316.06 1448.67 Q1321.87 1448.67 1324.92 1453.27 Q1328 1457.86 1328 1466.61 Q1328 1475.33 1324.92 1479.94 Q1321.87 1484.52 1316.06 1484.52 Q1310.25 1484.52 1307.17 1479.94 Q1304.11 1475.33 1304.11 1466.61 Q1304.11 1457.86 1307.17 1453.27 Q1310.25 1448.67 1316.06 1448.67 Z\" fill=\"#000000\" fill-rule=\"evenodd\" fill-opacity=\"1\" /><path clip-path=\"url(#clip260)\" d=\"M1747.95 1452.37 Q1744.34 1452.37 1742.51 1455.94 Q1740.71 1459.48 1740.71 1466.61 Q1740.71 1473.71 1742.51 1477.28 Q1744.34 1480.82 1747.95 1480.82 Q1751.59 1480.82 1753.39 1477.28 Q1755.22 1473.71 1755.22 1466.61 Q1755.22 1459.48 1753.39 1455.94 Q1751.59 1452.37 1747.95 1452.37 M1747.95 1448.67 Q1753.76 1448.67 1756.82 1453.27 Q1759.9 1457.86 1759.9 1466.61 Q1759.9 1475.33 1756.82 1479.94 Q1753.76 1484.52 1747.95 1484.52 Q1742.14 1484.52 1739.06 1479.94 Q1736.01 1475.33 1736.01 1466.61 Q1736.01 1457.86 1739.06 1453.27 Q1742.14 1448.67 1747.95 1448.67 Z\" fill=\"#000000\" fill-rule=\"evenodd\" fill-opacity=\"1\" /><path clip-path=\"url(#clip260)\" d=\"M1768.11 1477.97 L1773 1477.97 L1773 1483.85 L1768.11 1483.85 L1768.11 1477.97 Z\" fill=\"#000000\" fill-rule=\"evenodd\" fill-opacity=\"1\" /><path clip-path=\"url(#clip260)\" d=\"M1782 1449.29 L1804.22 1449.29 L1804.22 1451.28 L1791.68 1483.85 L1786.79 1483.85 L1798.6 1453.23 L1782 1453.23 L1782 1449.29 Z\" fill=\"#000000\" fill-rule=\"evenodd\" fill-opacity=\"1\" /><path clip-path=\"url(#clip260)\" d=\"M1813.39 1449.29 L1831.75 1449.29 L1831.75 1453.23 L1817.67 1453.23 L1817.67 1461.7 Q1818.69 1461.35 1819.71 1461.19 Q1820.73 1461 1821.75 1461 Q1827.53 1461 1830.91 1464.18 Q1834.29 1467.35 1834.29 1472.76 Q1834.29 1478.34 1830.82 1481.44 Q1827.35 1484.52 1821.03 1484.52 Q1818.85 1484.52 1816.59 1484.15 Q1814.34 1483.78 1811.93 1483.04 L1811.93 1478.34 Q1814.02 1479.48 1816.24 1480.03 Q1818.46 1480.59 1820.94 1480.59 Q1824.94 1480.59 1827.28 1478.48 Q1829.62 1476.38 1829.62 1472.76 Q1829.62 1469.15 1827.28 1467.05 Q1824.94 1464.94 1820.94 1464.94 Q1819.06 1464.94 1817.19 1465.36 Q1815.34 1465.77 1813.39 1466.65 L1813.39 1449.29 Z\" fill=\"#000000\" fill-rule=\"evenodd\" fill-opacity=\"1\" /><path clip-path=\"url(#clip260)\" d=\"M2244.01 1479.92 L2251.65 1479.92 L2251.65 1453.55 L2243.34 1455.22 L2243.34 1450.96 L2251.61 1449.29 L2256.28 1449.29 L2256.28 1479.92 L2263.92 1479.92 L2263.92 1483.85 L2244.01 1483.85 L2244.01 1479.92 Z\" fill=\"#000000\" fill-rule=\"evenodd\" fill-opacity=\"1\" /><path clip-path=\"url(#clip260)\" d=\"M2273.36 1477.97 L2278.25 1477.97 L2278.25 1483.85 L2273.36 1483.85 L2273.36 1477.97 Z\" fill=\"#000000\" fill-rule=\"evenodd\" fill-opacity=\"1\" /><path clip-path=\"url(#clip260)\" d=\"M2298.43 1452.37 Q2294.82 1452.37 2292.99 1455.94 Q2291.19 1459.48 2291.19 1466.61 Q2291.19 1473.71 2292.99 1477.28 Q2294.82 1480.82 2298.43 1480.82 Q2302.07 1480.82 2303.87 1477.28 Q2305.7 1473.71 2305.7 1466.61 Q2305.7 1459.48 2303.87 1455.94 Q2302.07 1452.37 2298.43 1452.37 M2298.43 1448.67 Q2304.24 1448.67 2307.3 1453.27 Q2310.38 1457.86 2310.38 1466.61 Q2310.38 1475.33 2307.3 1479.94 Q2304.24 1484.52 2298.43 1484.52 Q2292.62 1484.52 2289.55 1479.94 Q2286.49 1475.33 2286.49 1466.61 Q2286.49 1457.86 2289.55 1453.27 Q2292.62 1448.67 2298.43 1448.67 Z\" fill=\"#000000\" fill-rule=\"evenodd\" fill-opacity=\"1\" /><path clip-path=\"url(#clip260)\" d=\"M2328.6 1452.37 Q2324.98 1452.37 2323.16 1455.94 Q2321.35 1459.48 2321.35 1466.61 Q2321.35 1473.71 2323.16 1477.28 Q2324.98 1480.82 2328.6 1480.82 Q2332.23 1480.82 2334.04 1477.28 Q2335.86 1473.71 2335.86 1466.61 Q2335.86 1459.48 2334.04 1455.94 Q2332.23 1452.37 2328.6 1452.37 M2328.6 1448.67 Q2334.41 1448.67 2337.46 1453.27 Q2340.54 1457.86 2340.54 1466.61 Q2340.54 1475.33 2337.46 1479.94 Q2334.41 1484.52 2328.6 1484.52 Q2322.79 1484.52 2319.71 1479.94 Q2316.65 1475.33 2316.65 1466.61 Q2316.65 1457.86 2319.71 1453.27 Q2322.79 1448.67 2328.6 1448.67 Z\" fill=\"#000000\" fill-rule=\"evenodd\" fill-opacity=\"1\" /><path clip-path=\"url(#clip260)\" d=\"M1182.71 1539.37 L1173.45 1539.37 L1170.78 1550 L1180.11 1550 L1182.71 1539.37 M1177.94 1521.26 L1174.63 1534.46 L1183.92 1534.46 L1187.27 1521.26 L1192.36 1521.26 L1189.08 1534.46 L1199.01 1534.46 L1199.01 1539.37 L1187.84 1539.37 L1185.23 1550 L1195.35 1550 L1195.35 1554.87 L1183.99 1554.87 L1180.68 1568.04 L1175.59 1568.04 L1178.86 1554.87 L1169.54 1554.87 L1166.26 1568.04 L1161.14 1568.04 L1164.45 1554.87 L1154.42 1554.87 L1154.42 1550 L1165.62 1550 L1168.3 1539.37 L1158.05 1539.37 L1158.05 1534.46 L1169.54 1534.46 L1172.78 1521.26 L1177.94 1521.26 Z\" fill=\"#000000\" fill-rule=\"evenodd\" fill-opacity=\"1\" /><path clip-path=\"url(#clip260)\" d=\"M1251.53 1537.87 Q1250.54 1537.3 1249.36 1537.04 Q1248.22 1536.76 1246.82 1536.76 Q1241.85 1536.76 1239.18 1540 Q1236.54 1543.22 1236.54 1549.27 L1236.54 1568.04 L1230.65 1568.04 L1230.65 1532.4 L1236.54 1532.4 L1236.54 1537.93 Q1238.38 1534.69 1241.34 1533.13 Q1244.3 1531.54 1248.54 1531.54 Q1249.14 1531.54 1249.87 1531.63 Q1250.61 1531.7 1251.5 1531.85 L1251.53 1537.87 Z\" fill=\"#000000\" fill-rule=\"evenodd\" fill-opacity=\"1\" /><path clip-path=\"url(#clip260)\" d=\"M1286.73 1548.76 L1286.73 1551.62 L1259.8 1551.62 Q1260.19 1557.67 1263.43 1560.85 Q1266.71 1564 1272.54 1564 Q1275.91 1564 1279.06 1563.17 Q1282.24 1562.35 1285.36 1560.69 L1285.36 1566.23 Q1282.21 1567.57 1278.9 1568.27 Q1275.59 1568.97 1272.19 1568.97 Q1263.65 1568.97 1258.66 1564 Q1253.69 1559.04 1253.69 1550.57 Q1253.69 1541.82 1258.4 1536.69 Q1263.15 1531.54 1271.17 1531.54 Q1278.36 1531.54 1282.53 1536.18 Q1286.73 1540.8 1286.73 1548.76 M1280.87 1547.04 Q1280.81 1542.23 1278.17 1539.37 Q1275.56 1536.5 1271.23 1536.5 Q1266.33 1536.5 1263.37 1539.27 Q1260.44 1542.04 1259.99 1547.07 L1280.87 1547.04 Z\" fill=\"#000000\" fill-rule=\"evenodd\" fill-opacity=\"1\" /><path clip-path=\"url(#clip260)\" d=\"M1312.54 1550.12 Q1305.45 1550.12 1302.71 1551.75 Q1299.97 1553.37 1299.97 1557.29 Q1299.97 1560.4 1302.01 1562.25 Q1304.08 1564.07 1307.61 1564.07 Q1312.48 1564.07 1315.41 1560.63 Q1318.37 1557.16 1318.37 1551.43 L1318.37 1550.12 L1312.54 1550.12 M1324.22 1547.71 L1324.22 1568.04 L1318.37 1568.04 L1318.37 1562.63 Q1316.36 1565.88 1313.37 1567.44 Q1310.38 1568.97 1306.05 1568.97 Q1300.58 1568.97 1297.33 1565.91 Q1294.11 1562.82 1294.11 1557.67 Q1294.11 1551.65 1298.13 1548.6 Q1302.17 1545.54 1310.16 1545.54 L1318.37 1545.54 L1318.37 1544.97 Q1318.37 1540.93 1315.69 1538.73 Q1313.05 1536.5 1308.25 1536.5 Q1305.19 1536.5 1302.29 1537.23 Q1299.4 1537.97 1296.72 1539.43 L1296.72 1534.02 Q1299.94 1532.78 1302.96 1532.17 Q1305.99 1531.54 1308.85 1531.54 Q1316.59 1531.54 1320.41 1535.55 Q1324.22 1539.56 1324.22 1547.71 Z\" fill=\"#000000\" fill-rule=\"evenodd\" fill-opacity=\"1\" /><path clip-path=\"url(#clip260)\" d=\"M1359.75 1537.81 L1359.75 1518.52 L1365.6 1518.52 L1365.6 1568.04 L1359.75 1568.04 L1359.75 1562.7 Q1357.9 1565.88 1355.07 1567.44 Q1352.27 1568.97 1348.32 1568.97 Q1341.86 1568.97 1337.78 1563.81 Q1333.74 1558.65 1333.74 1550.25 Q1333.74 1541.85 1337.78 1536.69 Q1341.86 1531.54 1348.32 1531.54 Q1352.27 1531.54 1355.07 1533.1 Q1357.9 1534.62 1359.75 1537.81 M1339.79 1550.25 Q1339.79 1556.71 1342.43 1560.4 Q1345.1 1564.07 1349.75 1564.07 Q1354.4 1564.07 1357.07 1560.4 Q1359.75 1556.71 1359.75 1550.25 Q1359.75 1543.79 1357.07 1540.13 Q1354.4 1536.44 1349.75 1536.44 Q1345.1 1536.44 1342.43 1540.13 Q1339.79 1543.79 1339.79 1550.25 Z\" fill=\"#000000\" fill-rule=\"evenodd\" fill-opacity=\"1\" /><path clip-path=\"url(#clip260)\" d=\"M1400.39 1533.45 L1400.39 1538.98 Q1397.91 1537.71 1395.23 1537.07 Q1392.56 1536.44 1389.7 1536.44 Q1385.34 1536.44 1383.14 1537.77 Q1380.97 1539.11 1380.97 1541.79 Q1380.97 1543.82 1382.53 1545 Q1384.09 1546.15 1388.8 1547.2 L1390.81 1547.64 Q1397.05 1548.98 1399.66 1551.43 Q1402.3 1553.85 1402.3 1558.21 Q1402.3 1563.17 1398.35 1566.07 Q1394.44 1568.97 1387.56 1568.97 Q1384.7 1568.97 1381.58 1568.39 Q1378.49 1567.85 1375.05 1566.74 L1375.05 1560.69 Q1378.3 1562.38 1381.45 1563.24 Q1384.6 1564.07 1387.69 1564.07 Q1391.83 1564.07 1394.06 1562.66 Q1396.28 1561.23 1396.28 1558.65 Q1396.28 1556.27 1394.66 1554.99 Q1393.07 1553.72 1387.63 1552.54 L1385.59 1552.07 Q1380.15 1550.92 1377.73 1548.56 Q1375.31 1546.18 1375.31 1542.04 Q1375.31 1537.01 1378.87 1534.27 Q1382.44 1531.54 1389 1531.54 Q1392.24 1531.54 1395.11 1532.01 Q1397.97 1532.49 1400.39 1533.45 Z\" fill=\"#000000\" fill-rule=\"evenodd\" fill-opacity=\"1\" /><polyline clip-path=\"url(#clip262)\" style=\"stroke:#000000; stroke-linecap:butt; stroke-linejoin:round; stroke-width:2; stroke-opacity:0.1; fill:none\" points=\"\n",
       "  203.964,1384.24 2352.76,1384.24 \n",
       "  \"/>\n",
       "<polyline clip-path=\"url(#clip262)\" style=\"stroke:#000000; stroke-linecap:butt; stroke-linejoin:round; stroke-width:2; stroke-opacity:0.1; fill:none\" points=\"\n",
       "  203.964,978.597 2352.76,978.597 \n",
       "  \"/>\n",
       "<polyline clip-path=\"url(#clip262)\" style=\"stroke:#000000; stroke-linecap:butt; stroke-linejoin:round; stroke-width:2; stroke-opacity:0.1; fill:none\" points=\"\n",
       "  203.964,572.955 2352.76,572.955 \n",
       "  \"/>\n",
       "<polyline clip-path=\"url(#clip262)\" style=\"stroke:#000000; stroke-linecap:butt; stroke-linejoin:round; stroke-width:2; stroke-opacity:0.1; fill:none\" points=\"\n",
       "  203.964,167.314 2352.76,167.314 \n",
       "  \"/>\n",
       "<polyline clip-path=\"url(#clip260)\" style=\"stroke:#000000; stroke-linecap:butt; stroke-linejoin:round; stroke-width:4; stroke-opacity:1; fill:none\" points=\"\n",
       "  203.964,1423.18 203.964,47.2441 \n",
       "  \"/>\n",
       "<polyline clip-path=\"url(#clip260)\" style=\"stroke:#000000; stroke-linecap:butt; stroke-linejoin:round; stroke-width:4; stroke-opacity:1; fill:none\" points=\"\n",
       "  203.964,1384.24 222.861,1384.24 \n",
       "  \"/>\n",
       "<polyline clip-path=\"url(#clip260)\" style=\"stroke:#000000; stroke-linecap:butt; stroke-linejoin:round; stroke-width:4; stroke-opacity:1; fill:none\" points=\"\n",
       "  203.964,978.597 222.861,978.597 \n",
       "  \"/>\n",
       "<polyline clip-path=\"url(#clip260)\" style=\"stroke:#000000; stroke-linecap:butt; stroke-linejoin:round; stroke-width:4; stroke-opacity:1; fill:none\" points=\"\n",
       "  203.964,572.955 222.861,572.955 \n",
       "  \"/>\n",
       "<polyline clip-path=\"url(#clip260)\" style=\"stroke:#000000; stroke-linecap:butt; stroke-linejoin:round; stroke-width:4; stroke-opacity:1; fill:none\" points=\"\n",
       "  203.964,167.314 222.861,167.314 \n",
       "  \"/>\n",
       "<path clip-path=\"url(#clip260)\" d=\"M156.019 1370.04 Q152.408 1370.04 150.579 1373.6 Q148.774 1377.14 148.774 1384.27 Q148.774 1391.38 150.579 1394.94 Q152.408 1398.49 156.019 1398.49 Q159.653 1398.49 161.459 1394.94 Q163.288 1391.38 163.288 1384.27 Q163.288 1377.14 161.459 1373.6 Q159.653 1370.04 156.019 1370.04 M156.019 1366.33 Q161.829 1366.33 164.885 1370.94 Q167.964 1375.52 167.964 1384.27 Q167.964 1393 164.885 1397.61 Q161.829 1402.19 156.019 1402.19 Q150.209 1402.19 147.13 1397.61 Q144.075 1393 144.075 1384.27 Q144.075 1375.52 147.13 1370.94 Q150.209 1366.33 156.019 1366.33 Z\" fill=\"#000000\" fill-rule=\"evenodd\" fill-opacity=\"1\" /><path clip-path=\"url(#clip260)\" d=\"M116.668 991.942 L124.306 991.942 L124.306 965.576 L115.996 967.243 L115.996 962.983 L124.26 961.317 L128.936 961.317 L128.936 991.942 L136.575 991.942 L136.575 995.877 L116.668 995.877 L116.668 991.942 Z\" fill=\"#000000\" fill-rule=\"evenodd\" fill-opacity=\"1\" /><path clip-path=\"url(#clip260)\" d=\"M156.019 964.396 Q152.408 964.396 150.579 967.96 Q148.774 971.502 148.774 978.632 Q148.774 985.738 150.579 989.303 Q152.408 992.844 156.019 992.844 Q159.653 992.844 161.459 989.303 Q163.288 985.738 163.288 978.632 Q163.288 971.502 161.459 967.96 Q159.653 964.396 156.019 964.396 M156.019 960.692 Q161.829 960.692 164.885 965.298 Q167.964 969.882 167.964 978.632 Q167.964 987.358 164.885 991.965 Q161.829 996.548 156.019 996.548 Q150.209 996.548 147.13 991.965 Q144.075 987.358 144.075 978.632 Q144.075 969.882 147.13 965.298 Q150.209 960.692 156.019 960.692 Z\" fill=\"#000000\" fill-rule=\"evenodd\" fill-opacity=\"1\" /><path clip-path=\"url(#clip260)\" d=\"M119.885 586.3 L136.204 586.3 L136.204 590.235 L114.26 590.235 L114.26 586.3 Q116.922 583.546 121.505 578.916 Q126.112 574.263 127.292 572.921 Q129.538 570.398 130.417 568.661 Q131.32 566.902 131.32 565.212 Q131.32 562.458 129.376 560.722 Q127.455 558.986 124.353 558.986 Q122.154 558.986 119.7 559.749 Q117.269 560.513 114.492 562.064 L114.492 557.342 Q117.316 556.208 119.769 555.629 Q122.223 555.05 124.26 555.05 Q129.63 555.05 132.825 557.736 Q136.019 560.421 136.019 564.911 Q136.019 567.041 135.209 568.962 Q134.422 570.86 132.316 573.453 Q131.737 574.124 128.635 577.342 Q125.533 580.536 119.885 586.3 Z\" fill=\"#000000\" fill-rule=\"evenodd\" fill-opacity=\"1\" /><path clip-path=\"url(#clip260)\" d=\"M156.019 558.754 Q152.408 558.754 150.579 562.319 Q148.774 565.861 148.774 572.99 Q148.774 580.097 150.579 583.661 Q152.408 587.203 156.019 587.203 Q159.653 587.203 161.459 583.661 Q163.288 580.097 163.288 572.99 Q163.288 565.861 161.459 562.319 Q159.653 558.754 156.019 558.754 M156.019 555.05 Q161.829 555.05 164.885 559.657 Q167.964 564.24 167.964 572.99 Q167.964 581.717 164.885 586.323 Q161.829 590.907 156.019 590.907 Q150.209 590.907 147.13 586.323 Q144.075 581.717 144.075 572.99 Q144.075 564.24 147.13 559.657 Q150.209 555.05 156.019 555.05 Z\" fill=\"#000000\" fill-rule=\"evenodd\" fill-opacity=\"1\" /><path clip-path=\"url(#clip260)\" d=\"M130.024 165.96 Q133.38 166.677 135.255 168.946 Q137.154 171.214 137.154 174.548 Q137.154 179.663 133.635 182.464 Q130.117 185.265 123.635 185.265 Q121.459 185.265 119.144 184.825 Q116.853 184.409 114.399 183.552 L114.399 179.038 Q116.343 180.173 118.658 180.751 Q120.973 181.33 123.496 181.33 Q127.894 181.33 130.186 179.594 Q132.501 177.858 132.501 174.548 Q132.501 171.492 130.348 169.779 Q128.218 168.043 124.399 168.043 L120.371 168.043 L120.371 164.201 L124.584 164.201 Q128.033 164.201 129.862 162.835 Q131.691 161.446 131.691 158.853 Q131.691 156.191 129.792 154.779 Q127.917 153.344 124.399 153.344 Q122.478 153.344 120.279 153.761 Q118.08 154.177 115.441 155.057 L115.441 150.89 Q118.103 150.15 120.418 149.779 Q122.755 149.409 124.816 149.409 Q130.14 149.409 133.242 151.84 Q136.343 154.247 136.343 158.367 Q136.343 161.238 134.7 163.228 Q133.056 165.196 130.024 165.96 Z\" fill=\"#000000\" fill-rule=\"evenodd\" fill-opacity=\"1\" /><path clip-path=\"url(#clip260)\" d=\"M156.019 153.113 Q152.408 153.113 150.579 156.677 Q148.774 160.219 148.774 167.349 Q148.774 174.455 150.579 178.02 Q152.408 181.562 156.019 181.562 Q159.653 181.562 161.459 178.02 Q163.288 174.455 163.288 167.349 Q163.288 160.219 161.459 156.677 Q159.653 153.113 156.019 153.113 M156.019 149.409 Q161.829 149.409 164.885 154.015 Q167.964 158.599 167.964 167.349 Q167.964 176.075 164.885 180.682 Q161.829 185.265 156.019 185.265 Q150.209 185.265 147.13 180.682 Q144.075 176.075 144.075 167.349 Q144.075 158.599 147.13 154.015 Q150.209 149.409 156.019 149.409 Z\" fill=\"#000000\" fill-rule=\"evenodd\" fill-opacity=\"1\" /><path clip-path=\"url(#clip260)\" d=\"M35.3266 841.535 L35.3266 850.797 L45.9574 853.471 L45.9574 844.145 L35.3266 841.535 M17.2162 846.309 L30.4251 849.62 L30.4251 840.326 L17.2162 836.984 L17.2162 831.891 L30.4251 835.169 L30.4251 825.239 L35.3266 825.239 L35.3266 836.411 L45.9574 839.021 L45.9574 828.899 L50.8271 828.899 L50.8271 840.262 L64.0042 843.572 L64.0042 848.665 L50.8271 845.386 L50.8271 854.712 L64.0042 857.991 L64.0042 863.115 L50.8271 859.805 L50.8271 869.831 L45.9574 869.831 L45.9574 858.627 L35.3266 855.954 L35.3266 866.202 L30.4251 866.202 L30.4251 854.712 L17.2162 851.466 L17.2162 846.309 Z\" fill=\"#000000\" fill-rule=\"evenodd\" fill-opacity=\"1\" /><path clip-path=\"url(#clip260)\" d=\"M14.479 793.601 L14.479 787.713 L43.7294 787.713 L28.3562 770.239 L28.3562 762.76 L45.0344 781.666 L64.0042 761.964 L64.0042 769.603 L46.5939 787.713 L64.0042 787.713 L64.0042 793.601 L14.479 793.601 Z\" fill=\"#000000\" fill-rule=\"evenodd\" fill-opacity=\"1\" /><path clip-path=\"url(#clip260)\" d=\"M35.1993 727.875 Q31.2526 725.679 29.3747 722.624 Q27.4968 719.568 27.4968 715.431 Q27.4968 709.861 31.4117 706.837 Q35.2948 703.813 42.4881 703.813 L64.0042 703.813 L64.0042 709.701 L42.679 709.701 Q37.5546 709.701 35.072 711.516 Q32.5894 713.33 32.5894 717.054 Q32.5894 721.605 35.6131 724.247 Q38.6368 726.889 43.8567 726.889 L64.0042 726.889 L64.0042 732.777 L42.679 732.777 Q37.5228 732.777 35.072 734.591 Q32.5894 736.406 32.5894 740.193 Q32.5894 744.681 35.6449 747.323 Q38.6686 749.964 43.8567 749.964 L64.0042 749.964 L64.0042 755.853 L28.3562 755.853 L28.3562 749.964 L33.8944 749.964 Q30.616 747.959 29.0564 745.158 Q27.4968 742.357 27.4968 738.506 Q27.4968 734.623 29.4702 731.918 Q31.4436 729.18 35.1993 727.875 Z\" fill=\"#000000\" fill-rule=\"evenodd\" fill-opacity=\"1\" /><path clip-path=\"url(#clip260)\" d=\"M44.7161 661.64 L47.5806 661.64 L47.5806 688.567 Q53.6281 688.185 56.8109 684.939 Q59.9619 681.66 59.9619 675.836 Q59.9619 672.462 59.1344 669.311 Q58.3069 666.128 56.6518 663.009 L62.1899 663.009 Q63.5267 666.16 64.227 669.47 Q64.9272 672.78 64.9272 676.186 Q64.9272 684.716 59.9619 689.713 Q54.9967 694.678 46.5303 694.678 Q37.7774 694.678 32.6531 689.968 Q27.4968 685.225 27.4968 677.204 Q27.4968 670.011 32.1438 665.842 Q36.7589 661.64 44.7161 661.64 M42.9973 667.497 Q38.1912 667.56 35.3266 670.202 Q32.4621 672.812 32.4621 677.141 Q32.4621 682.042 35.2312 685.002 Q38.0002 687.931 43.0292 688.376 L42.9973 667.497 Z\" fill=\"#000000\" fill-rule=\"evenodd\" fill-opacity=\"1\" /><path clip-path=\"url(#clip260)\" d=\"M33.8307 631.371 Q33.2578 632.358 33.0032 633.536 Q32.7167 634.682 32.7167 636.082 Q32.7167 641.047 35.9632 643.721 Q39.1779 646.363 45.2253 646.363 L64.0042 646.363 L64.0042 652.251 L28.3562 652.251 L28.3562 646.363 L33.8944 646.363 Q30.6479 644.517 29.0883 641.557 Q27.4968 638.596 27.4968 634.363 Q27.4968 633.759 27.5923 633.026 Q27.656 632.294 27.8151 631.403 L33.8307 631.371 Z\" fill=\"#000000\" fill-rule=\"evenodd\" fill-opacity=\"1\" /><path clip-path=\"url(#clip260)\" d=\"M29.4065 602.503 L34.9447 602.503 Q33.6716 604.986 33.035 607.659 Q32.3984 610.333 32.3984 613.197 Q32.3984 617.558 33.7352 619.754 Q35.072 621.918 37.7456 621.918 Q39.7826 621.918 40.9603 620.359 Q42.1061 618.799 43.1565 614.088 L43.6021 612.083 Q44.9389 605.845 47.3897 603.235 Q49.8086 600.593 54.1691 600.593 Q59.1344 600.593 62.0308 604.54 Q64.9272 608.455 64.9272 615.33 Q64.9272 618.194 64.3543 621.314 Q63.8132 624.401 62.6992 627.838 L56.6518 627.838 Q58.3387 624.592 59.198 621.441 Q60.0256 618.29 60.0256 615.202 Q60.0256 611.065 58.6251 608.837 Q57.1929 606.609 54.6147 606.609 Q52.2276 606.609 50.9545 608.232 Q49.6813 609.823 48.5037 615.266 L48.0262 617.303 Q46.8804 622.746 44.5251 625.165 Q42.138 627.584 38.0002 627.584 Q32.9713 627.584 30.2341 624.019 Q27.4968 620.454 27.4968 613.898 Q27.4968 610.651 27.9743 607.786 Q28.4517 604.922 29.4065 602.503 Z\" fill=\"#000000\" fill-rule=\"evenodd\" fill-opacity=\"1\" /><circle clip-path=\"url(#clip262)\" cx=\"264.778\" cy=\"1384.24\" r=\"14\" fill=\"#009af9\" fill-rule=\"evenodd\" fill-opacity=\"1\" stroke=\"#000000\" stroke-opacity=\"1\" stroke-width=\"3.2\"/>\n",
       "<circle clip-path=\"url(#clip262)\" cx=\"2291.94\" cy=\"86.1857\" r=\"14\" fill=\"#009af9\" fill-rule=\"evenodd\" fill-opacity=\"1\" stroke=\"#000000\" stroke-opacity=\"1\" stroke-width=\"3.2\"/>\n",
       "</svg>\n"
      ]
     },
     "execution_count": 20,
     "metadata": {},
     "output_type": "execute_result"
    }
   ],
   "source": [
    "sampling_points, repeat_kmer_counts = assess_kmer_saturation(sorted_fastq_file, kmer_type, max_reads=n_reads, power=2)\n",
    "StatsPlots.scatter(sampling_points, repeat_kmer_counts, legend=false, ylabel=\"# kmers\", xlabel=\"# reads\")"
   ]
  },
  {
   "cell_type": "code",
   "execution_count": 23,
   "id": "f5f0e2da-4778-4ebd-bcd9-434dabdf5e5f",
   "metadata": {},
   "outputs": [],
   "source": [
    "x = 1 ./sampling_points[2:end]\n",
    "y = 1 ./repeat_kmer_counts[2:end]\n",
    "# StatsPlots.scatter(x, y, legend=false)\n",
    "model = GLM.lm(GLM.@formula(Y ~ X), DataFrames.DataFrame(X = x, Y = y))\n",
    "# y-intercept = 1/vmax\n",
    "b = GLM.coef(model)[1]\n",
    "vmax = 1/b\n",
    "@show vmax\n",
    "sparsity = vmax / max_canonical_kmers(kmer_type)\n",
    "@show sparsity\n",
    "m = GLM.coef(model)[2]\n",
    "X_intercept = (0 - b) / m\n",
    "# x-intercept = -1/KM\n",
    "k_midpoint = -1/X_intercept\n",
    "if (sparsity) < 1\n",
    "    @show \"acheived sparsity\"\n",
    "    @show k_midpoint\n",
    "end"
   ]
  },
  {
   "cell_type": "code",
   "execution_count": 24,
   "id": "f549d4da-de15-4b51-9a66-ba4e4160a483",
   "metadata": {},
   "outputs": [
    {
     "data": {
      "text/plain": [
       "BioSequences.DNAMer{5} (alias for BioSequences.Mer{BioSequences.DNAAlphabet{2}, 5})"
      ]
     },
     "execution_count": 24,
     "metadata": {},
     "output_type": "execute_result"
    }
   ],
   "source": [
    "k = ks[2]\n",
    "kmer_type = BioSequences.DNAMer{k}"
   ]
  },
  {
   "cell_type": "code",
   "execution_count": 25,
   "id": "1383e4db-b253-4aa0-b5cf-788a3578ba6d",
   "metadata": {},
   "outputs": [
    {
     "name": "stderr",
     "output_type": "stream",
     "text": [
      "┌ Info: total reads being considered = 10000\n",
      "└ @ Main In[10]:10\n",
      "┌ Info: maximim kmers = 512\n",
      "└ @ Main In[10]:14\n"
     ]
    },
    {
     "name": "stdout",
     "output_type": "stream",
     "text": [
      "(read_number, percent_saturation) = (1, 99.80499999999999)\n"
     ]
    },
    {
     "data": {
      "image/svg+xml": [
       "<?xml version=\"1.0\" encoding=\"utf-8\"?>\n",
       "<svg xmlns=\"http://www.w3.org/2000/svg\" xmlns:xlink=\"http://www.w3.org/1999/xlink\" width=\"600\" height=\"400\" viewBox=\"0 0 2400 1600\">\n",
       "<defs>\n",
       "  <clipPath id=\"clip300\">\n",
       "    <rect x=\"0\" y=\"0\" width=\"2400\" height=\"1600\"/>\n",
       "  </clipPath>\n",
       "</defs>\n",
       "<path clip-path=\"url(#clip300)\" d=\"\n",
       "M0 1600 L2400 1600 L2400 0 L0 0  Z\n",
       "  \" fill=\"#ffffff\" fill-rule=\"evenodd\" fill-opacity=\"1\"/>\n",
       "<defs>\n",
       "  <clipPath id=\"clip301\">\n",
       "    <rect x=\"480\" y=\"0\" width=\"1681\" height=\"1600\"/>\n",
       "  </clipPath>\n",
       "</defs>\n",
       "<path clip-path=\"url(#clip300)\" d=\"\n",
       "M235.283 1423.18 L2352.76 1423.18 L2352.76 47.2441 L235.283 47.2441  Z\n",
       "  \" fill=\"#ffffff\" fill-rule=\"evenodd\" fill-opacity=\"1\"/>\n",
       "<defs>\n",
       "  <clipPath id=\"clip302\">\n",
       "    <rect x=\"235\" y=\"47\" width=\"2118\" height=\"1377\"/>\n",
       "  </clipPath>\n",
       "</defs>\n",
       "<polyline clip-path=\"url(#clip302)\" style=\"stroke:#000000; stroke-linecap:butt; stroke-linejoin:round; stroke-width:2; stroke-opacity:0.1; fill:none\" points=\"\n",
       "  295.211,1423.18 295.211,47.2441 \n",
       "  \"/>\n",
       "<polyline clip-path=\"url(#clip302)\" style=\"stroke:#000000; stroke-linecap:butt; stroke-linejoin:round; stroke-width:2; stroke-opacity:0.1; fill:none\" points=\"\n",
       "  794.615,1423.18 794.615,47.2441 \n",
       "  \"/>\n",
       "<polyline clip-path=\"url(#clip302)\" style=\"stroke:#000000; stroke-linecap:butt; stroke-linejoin:round; stroke-width:2; stroke-opacity:0.1; fill:none\" points=\"\n",
       "  1294.02,1423.18 1294.02,47.2441 \n",
       "  \"/>\n",
       "<polyline clip-path=\"url(#clip302)\" style=\"stroke:#000000; stroke-linecap:butt; stroke-linejoin:round; stroke-width:2; stroke-opacity:0.1; fill:none\" points=\"\n",
       "  1793.42,1423.18 1793.42,47.2441 \n",
       "  \"/>\n",
       "<polyline clip-path=\"url(#clip302)\" style=\"stroke:#000000; stroke-linecap:butt; stroke-linejoin:round; stroke-width:2; stroke-opacity:0.1; fill:none\" points=\"\n",
       "  2292.83,1423.18 2292.83,47.2441 \n",
       "  \"/>\n",
       "<polyline clip-path=\"url(#clip300)\" style=\"stroke:#000000; stroke-linecap:butt; stroke-linejoin:round; stroke-width:4; stroke-opacity:1; fill:none\" points=\"\n",
       "  235.283,1423.18 2352.76,1423.18 \n",
       "  \"/>\n",
       "<polyline clip-path=\"url(#clip300)\" style=\"stroke:#000000; stroke-linecap:butt; stroke-linejoin:round; stroke-width:4; stroke-opacity:1; fill:none\" points=\"\n",
       "  295.211,1423.18 295.211,1404.28 \n",
       "  \"/>\n",
       "<polyline clip-path=\"url(#clip300)\" style=\"stroke:#000000; stroke-linecap:butt; stroke-linejoin:round; stroke-width:4; stroke-opacity:1; fill:none\" points=\"\n",
       "  794.615,1423.18 794.615,1404.28 \n",
       "  \"/>\n",
       "<polyline clip-path=\"url(#clip300)\" style=\"stroke:#000000; stroke-linecap:butt; stroke-linejoin:round; stroke-width:4; stroke-opacity:1; fill:none\" points=\"\n",
       "  1294.02,1423.18 1294.02,1404.28 \n",
       "  \"/>\n",
       "<polyline clip-path=\"url(#clip300)\" style=\"stroke:#000000; stroke-linecap:butt; stroke-linejoin:round; stroke-width:4; stroke-opacity:1; fill:none\" points=\"\n",
       "  1793.42,1423.18 1793.42,1404.28 \n",
       "  \"/>\n",
       "<polyline clip-path=\"url(#clip300)\" style=\"stroke:#000000; stroke-linecap:butt; stroke-linejoin:round; stroke-width:4; stroke-opacity:1; fill:none\" points=\"\n",
       "  2292.83,1423.18 2292.83,1404.28 \n",
       "  \"/>\n",
       "<path clip-path=\"url(#clip300)\" d=\"M272.596 1452.37 Q268.985 1452.37 267.156 1455.94 Q265.35 1459.48 265.35 1466.61 Q265.35 1473.71 267.156 1477.28 Q268.985 1480.82 272.596 1480.82 Q276.23 1480.82 278.035 1477.28 Q279.864 1473.71 279.864 1466.61 Q279.864 1459.48 278.035 1455.94 Q276.23 1452.37 272.596 1452.37 M272.596 1448.67 Q278.406 1448.67 281.461 1453.27 Q284.54 1457.86 284.54 1466.61 Q284.54 1475.33 281.461 1479.94 Q278.406 1484.52 272.596 1484.52 Q266.786 1484.52 263.707 1479.94 Q260.651 1475.33 260.651 1466.61 Q260.651 1457.86 263.707 1453.27 Q266.786 1448.67 272.596 1448.67 Z\" fill=\"#000000\" fill-rule=\"evenodd\" fill-opacity=\"1\" /><path clip-path=\"url(#clip300)\" d=\"M292.758 1477.97 L297.642 1477.97 L297.642 1483.85 L292.758 1483.85 L292.758 1477.97 Z\" fill=\"#000000\" fill-rule=\"evenodd\" fill-opacity=\"1\" /><path clip-path=\"url(#clip300)\" d=\"M317.827 1452.37 Q314.216 1452.37 312.387 1455.94 Q310.582 1459.48 310.582 1466.61 Q310.582 1473.71 312.387 1477.28 Q314.216 1480.82 317.827 1480.82 Q321.461 1480.82 323.267 1477.28 Q325.095 1473.71 325.095 1466.61 Q325.095 1459.48 323.267 1455.94 Q321.461 1452.37 317.827 1452.37 M317.827 1448.67 Q323.637 1448.67 326.693 1453.27 Q329.771 1457.86 329.771 1466.61 Q329.771 1475.33 326.693 1479.94 Q323.637 1484.52 317.827 1484.52 Q312.017 1484.52 308.938 1479.94 Q305.883 1475.33 305.883 1466.61 Q305.883 1457.86 308.938 1453.27 Q312.017 1448.67 317.827 1448.67 Z\" fill=\"#000000\" fill-rule=\"evenodd\" fill-opacity=\"1\" /><path clip-path=\"url(#clip300)\" d=\"M772.497 1452.37 Q768.886 1452.37 767.058 1455.94 Q765.252 1459.48 765.252 1466.61 Q765.252 1473.71 767.058 1477.28 Q768.886 1480.82 772.497 1480.82 Q776.132 1480.82 777.937 1477.28 Q779.766 1473.71 779.766 1466.61 Q779.766 1459.48 777.937 1455.94 Q776.132 1452.37 772.497 1452.37 M772.497 1448.67 Q778.308 1448.67 781.363 1453.27 Q784.442 1457.86 784.442 1466.61 Q784.442 1475.33 781.363 1479.94 Q778.308 1484.52 772.497 1484.52 Q766.687 1484.52 763.609 1479.94 Q760.553 1475.33 760.553 1466.61 Q760.553 1457.86 763.609 1453.27 Q766.687 1448.67 772.497 1448.67 Z\" fill=\"#000000\" fill-rule=\"evenodd\" fill-opacity=\"1\" /><path clip-path=\"url(#clip300)\" d=\"M792.659 1477.97 L797.544 1477.97 L797.544 1483.85 L792.659 1483.85 L792.659 1477.97 Z\" fill=\"#000000\" fill-rule=\"evenodd\" fill-opacity=\"1\" /><path clip-path=\"url(#clip300)\" d=\"M807.775 1449.29 L826.131 1449.29 L826.131 1453.23 L812.057 1453.23 L812.057 1461.7 Q813.076 1461.35 814.094 1461.19 Q815.113 1461 816.131 1461 Q821.918 1461 825.298 1464.18 Q828.678 1467.35 828.678 1472.76 Q828.678 1478.34 825.205 1481.44 Q821.733 1484.52 815.414 1484.52 Q813.238 1484.52 810.969 1484.15 Q808.724 1483.78 806.317 1483.04 L806.317 1478.34 Q808.4 1479.48 810.622 1480.03 Q812.844 1480.59 815.321 1480.59 Q819.326 1480.59 821.664 1478.48 Q824.002 1476.38 824.002 1472.76 Q824.002 1469.15 821.664 1467.05 Q819.326 1464.94 815.321 1464.94 Q813.446 1464.94 811.571 1465.36 Q809.719 1465.77 807.775 1466.65 L807.775 1449.29 Z\" fill=\"#000000\" fill-rule=\"evenodd\" fill-opacity=\"1\" /><path clip-path=\"url(#clip300)\" d=\"M1261.17 1479.92 L1268.81 1479.92 L1268.81 1453.55 L1260.5 1455.22 L1260.5 1450.96 L1268.76 1449.29 L1273.44 1449.29 L1273.44 1479.92 L1281.08 1479.92 L1281.08 1483.85 L1261.17 1483.85 L1261.17 1479.92 Z\" fill=\"#000000\" fill-rule=\"evenodd\" fill-opacity=\"1\" /><path clip-path=\"url(#clip300)\" d=\"M1290.52 1477.97 L1295.41 1477.97 L1295.41 1483.85 L1290.52 1483.85 L1290.52 1477.97 Z\" fill=\"#000000\" fill-rule=\"evenodd\" fill-opacity=\"1\" /><path clip-path=\"url(#clip300)\" d=\"M1315.59 1452.37 Q1311.98 1452.37 1310.15 1455.94 Q1308.35 1459.48 1308.35 1466.61 Q1308.35 1473.71 1310.15 1477.28 Q1311.98 1480.82 1315.59 1480.82 Q1319.23 1480.82 1321.03 1477.28 Q1322.86 1473.71 1322.86 1466.61 Q1322.86 1459.48 1321.03 1455.94 Q1319.23 1452.37 1315.59 1452.37 M1315.59 1448.67 Q1321.4 1448.67 1324.46 1453.27 Q1327.54 1457.86 1327.54 1466.61 Q1327.54 1475.33 1324.46 1479.94 Q1321.4 1484.52 1315.59 1484.52 Q1309.78 1484.52 1306.7 1479.94 Q1303.65 1475.33 1303.65 1466.61 Q1303.65 1457.86 1306.7 1453.27 Q1309.78 1448.67 1315.59 1448.67 Z\" fill=\"#000000\" fill-rule=\"evenodd\" fill-opacity=\"1\" /><path clip-path=\"url(#clip300)\" d=\"M1761.07 1479.92 L1768.71 1479.92 L1768.71 1453.55 L1760.4 1455.22 L1760.4 1450.96 L1768.67 1449.29 L1773.34 1449.29 L1773.34 1479.92 L1780.98 1479.92 L1780.98 1483.85 L1761.07 1483.85 L1761.07 1479.92 Z\" fill=\"#000000\" fill-rule=\"evenodd\" fill-opacity=\"1\" /><path clip-path=\"url(#clip300)\" d=\"M1790.43 1477.97 L1795.31 1477.97 L1795.31 1483.85 L1790.43 1483.85 L1790.43 1477.97 Z\" fill=\"#000000\" fill-rule=\"evenodd\" fill-opacity=\"1\" /><path clip-path=\"url(#clip300)\" d=\"M1805.54 1449.29 L1823.9 1449.29 L1823.9 1453.23 L1809.82 1453.23 L1809.82 1461.7 Q1810.84 1461.35 1811.86 1461.19 Q1812.88 1461 1813.9 1461 Q1819.68 1461 1823.06 1464.18 Q1826.44 1467.35 1826.44 1472.76 Q1826.44 1478.34 1822.97 1481.44 Q1819.5 1484.52 1813.18 1484.52 Q1811 1484.52 1808.74 1484.15 Q1806.49 1483.78 1804.08 1483.04 L1804.08 1478.34 Q1806.17 1479.48 1808.39 1480.03 Q1810.61 1480.59 1813.09 1480.59 Q1817.09 1480.59 1819.43 1478.48 Q1821.77 1476.38 1821.77 1472.76 Q1821.77 1469.15 1819.43 1467.05 Q1817.09 1464.94 1813.09 1464.94 Q1811.21 1464.94 1809.34 1465.36 Q1807.49 1465.77 1805.54 1466.65 L1805.54 1449.29 Z\" fill=\"#000000\" fill-rule=\"evenodd\" fill-opacity=\"1\" /><path clip-path=\"url(#clip300)\" d=\"M2264.07 1479.92 L2280.39 1479.92 L2280.39 1483.85 L2258.44 1483.85 L2258.44 1479.92 Q2261.1 1477.16 2265.69 1472.53 Q2270.29 1467.88 2271.47 1466.54 Q2273.72 1464.01 2274.6 1462.28 Q2275.5 1460.52 2275.5 1458.83 Q2275.5 1456.07 2273.56 1454.34 Q2271.64 1452.6 2268.53 1452.6 Q2266.33 1452.6 2263.88 1453.37 Q2261.45 1454.13 2258.67 1455.68 L2258.67 1450.96 Q2261.5 1449.82 2263.95 1449.25 Q2266.4 1448.67 2268.44 1448.67 Q2273.81 1448.67 2277.01 1451.35 Q2280.2 1454.04 2280.2 1458.53 Q2280.2 1460.66 2279.39 1462.58 Q2278.6 1464.48 2276.5 1467.07 Q2275.92 1467.74 2272.82 1470.96 Q2269.71 1474.15 2264.07 1479.92 Z\" fill=\"#000000\" fill-rule=\"evenodd\" fill-opacity=\"1\" /><path clip-path=\"url(#clip300)\" d=\"M2290.2 1477.97 L2295.08 1477.97 L2295.08 1483.85 L2290.2 1483.85 L2290.2 1477.97 Z\" fill=\"#000000\" fill-rule=\"evenodd\" fill-opacity=\"1\" /><path clip-path=\"url(#clip300)\" d=\"M2315.27 1452.37 Q2311.66 1452.37 2309.83 1455.94 Q2308.02 1459.48 2308.02 1466.61 Q2308.02 1473.71 2309.83 1477.28 Q2311.66 1480.82 2315.27 1480.82 Q2318.9 1480.82 2320.71 1477.28 Q2322.54 1473.71 2322.54 1466.61 Q2322.54 1459.48 2320.71 1455.94 Q2318.9 1452.37 2315.27 1452.37 M2315.27 1448.67 Q2321.08 1448.67 2324.14 1453.27 Q2327.21 1457.86 2327.21 1466.61 Q2327.21 1475.33 2324.14 1479.94 Q2321.08 1484.52 2315.27 1484.52 Q2309.46 1484.52 2306.38 1479.94 Q2303.33 1475.33 2303.33 1466.61 Q2303.33 1457.86 2306.38 1453.27 Q2309.46 1448.67 2315.27 1448.67 Z\" fill=\"#000000\" fill-rule=\"evenodd\" fill-opacity=\"1\" /><path clip-path=\"url(#clip300)\" d=\"M1198.37 1539.37 L1189.11 1539.37 L1186.44 1550 L1195.76 1550 L1198.37 1539.37 M1193.6 1521.26 L1190.29 1534.46 L1199.58 1534.46 L1202.93 1521.26 L1208.02 1521.26 L1204.74 1534.46 L1214.67 1534.46 L1214.67 1539.37 L1203.5 1539.37 L1200.89 1550 L1211.01 1550 L1211.01 1554.87 L1199.65 1554.87 L1196.34 1568.04 L1191.25 1568.04 L1194.52 1554.87 L1185.2 1554.87 L1181.92 1568.04 L1176.79 1568.04 L1180.11 1554.87 L1170.08 1554.87 L1170.08 1550 L1181.28 1550 L1183.96 1539.37 L1173.71 1539.37 L1173.71 1534.46 L1185.2 1534.46 L1188.44 1521.26 L1193.6 1521.26 Z\" fill=\"#000000\" fill-rule=\"evenodd\" fill-opacity=\"1\" /><path clip-path=\"url(#clip300)\" d=\"M1267.19 1537.87 Q1266.2 1537.3 1265.02 1537.04 Q1263.88 1536.76 1262.48 1536.76 Q1257.51 1536.76 1254.84 1540 Q1252.2 1543.22 1252.2 1549.27 L1252.2 1568.04 L1246.31 1568.04 L1246.31 1532.4 L1252.2 1532.4 L1252.2 1537.93 Q1254.04 1534.69 1257 1533.13 Q1259.96 1531.54 1264.2 1531.54 Q1264.8 1531.54 1265.53 1531.63 Q1266.26 1531.7 1267.16 1531.85 L1267.19 1537.87 Z\" fill=\"#000000\" fill-rule=\"evenodd\" fill-opacity=\"1\" /><path clip-path=\"url(#clip300)\" d=\"M1302.39 1548.76 L1302.39 1551.62 L1275.46 1551.62 Q1275.85 1557.67 1279.09 1560.85 Q1282.37 1564 1288.19 1564 Q1291.57 1564 1294.72 1563.17 Q1297.9 1562.35 1301.02 1560.69 L1301.02 1566.23 Q1297.87 1567.57 1294.56 1568.27 Q1291.25 1568.97 1287.84 1568.97 Q1279.31 1568.97 1274.32 1564 Q1269.35 1559.04 1269.35 1550.57 Q1269.35 1541.82 1274.06 1536.69 Q1278.81 1531.54 1286.83 1531.54 Q1294.02 1531.54 1298.19 1536.18 Q1302.39 1540.8 1302.39 1548.76 M1296.53 1547.04 Q1296.47 1542.23 1293.83 1539.37 Q1291.22 1536.5 1286.89 1536.5 Q1281.99 1536.5 1279.03 1539.27 Q1276.1 1542.04 1275.65 1547.07 L1296.53 1547.04 Z\" fill=\"#000000\" fill-rule=\"evenodd\" fill-opacity=\"1\" /><path clip-path=\"url(#clip300)\" d=\"M1328.2 1550.12 Q1321.11 1550.12 1318.37 1551.75 Q1315.63 1553.37 1315.63 1557.29 Q1315.63 1560.4 1317.67 1562.25 Q1319.74 1564.07 1323.27 1564.07 Q1328.14 1564.07 1331.07 1560.63 Q1334.03 1557.16 1334.03 1551.43 L1334.03 1550.12 L1328.2 1550.12 M1339.88 1547.71 L1339.88 1568.04 L1334.03 1568.04 L1334.03 1562.63 Q1332.02 1565.88 1329.03 1567.44 Q1326.04 1568.97 1321.71 1568.97 Q1316.24 1568.97 1312.99 1565.91 Q1309.77 1562.82 1309.77 1557.67 Q1309.77 1551.65 1313.78 1548.6 Q1317.83 1545.54 1325.82 1545.54 L1334.03 1545.54 L1334.03 1544.97 Q1334.03 1540.93 1331.35 1538.73 Q1328.71 1536.5 1323.91 1536.5 Q1320.85 1536.5 1317.95 1537.23 Q1315.06 1537.97 1312.38 1539.43 L1312.38 1534.02 Q1315.6 1532.78 1318.62 1532.17 Q1321.65 1531.54 1324.51 1531.54 Q1332.25 1531.54 1336.06 1535.55 Q1339.88 1539.56 1339.88 1547.71 Z\" fill=\"#000000\" fill-rule=\"evenodd\" fill-opacity=\"1\" /><path clip-path=\"url(#clip300)\" d=\"M1375.4 1537.81 L1375.4 1518.52 L1381.26 1518.52 L1381.26 1568.04 L1375.4 1568.04 L1375.4 1562.7 Q1373.56 1565.88 1370.73 1567.44 Q1367.93 1568.97 1363.98 1568.97 Q1357.52 1568.97 1353.44 1563.81 Q1349.4 1558.65 1349.4 1550.25 Q1349.4 1541.85 1353.44 1536.69 Q1357.52 1531.54 1363.98 1531.54 Q1367.93 1531.54 1370.73 1533.1 Q1373.56 1534.62 1375.4 1537.81 M1355.45 1550.25 Q1355.45 1556.71 1358.09 1560.4 Q1360.76 1564.07 1365.41 1564.07 Q1370.06 1564.07 1372.73 1560.4 Q1375.4 1556.71 1375.4 1550.25 Q1375.4 1543.79 1372.73 1540.13 Q1370.06 1536.44 1365.41 1536.44 Q1360.76 1536.44 1358.09 1540.13 Q1355.45 1543.79 1355.45 1550.25 Z\" fill=\"#000000\" fill-rule=\"evenodd\" fill-opacity=\"1\" /><path clip-path=\"url(#clip300)\" d=\"M1416.05 1533.45 L1416.05 1538.98 Q1413.57 1537.71 1410.89 1537.07 Q1408.22 1536.44 1405.36 1536.44 Q1401 1536.44 1398.8 1537.77 Q1396.63 1539.11 1396.63 1541.79 Q1396.63 1543.82 1398.19 1545 Q1399.75 1546.15 1404.46 1547.2 L1406.47 1547.64 Q1412.71 1548.98 1415.32 1551.43 Q1417.96 1553.85 1417.96 1558.21 Q1417.96 1563.17 1414.01 1566.07 Q1410.1 1568.97 1403.22 1568.97 Q1400.36 1568.97 1397.24 1568.39 Q1394.15 1567.85 1390.71 1566.74 L1390.71 1560.69 Q1393.96 1562.38 1397.11 1563.24 Q1400.26 1564.07 1403.35 1564.07 Q1407.49 1564.07 1409.72 1562.66 Q1411.94 1561.23 1411.94 1558.65 Q1411.94 1556.27 1410.32 1554.99 Q1408.73 1553.72 1403.29 1552.54 L1401.25 1552.07 Q1395.81 1550.92 1393.39 1548.56 Q1390.97 1546.18 1390.97 1542.04 Q1390.97 1537.01 1394.53 1534.27 Q1398.1 1531.54 1404.66 1531.54 Q1407.9 1531.54 1410.77 1532.01 Q1413.63 1532.49 1416.05 1533.45 Z\" fill=\"#000000\" fill-rule=\"evenodd\" fill-opacity=\"1\" /><polyline clip-path=\"url(#clip302)\" style=\"stroke:#000000; stroke-linecap:butt; stroke-linejoin:round; stroke-width:2; stroke-opacity:0.1; fill:none\" points=\"\n",
       "  235.283,1384.24 2352.76,1384.24 \n",
       "  \"/>\n",
       "<polyline clip-path=\"url(#clip302)\" style=\"stroke:#000000; stroke-linecap:butt; stroke-linejoin:round; stroke-width:2; stroke-opacity:0.1; fill:none\" points=\"\n",
       "  235.283,1130.71 2352.76,1130.71 \n",
       "  \"/>\n",
       "<polyline clip-path=\"url(#clip302)\" style=\"stroke:#000000; stroke-linecap:butt; stroke-linejoin:round; stroke-width:2; stroke-opacity:0.1; fill:none\" points=\"\n",
       "  235.283,877.186 2352.76,877.186 \n",
       "  \"/>\n",
       "<polyline clip-path=\"url(#clip302)\" style=\"stroke:#000000; stroke-linecap:butt; stroke-linejoin:round; stroke-width:2; stroke-opacity:0.1; fill:none\" points=\"\n",
       "  235.283,623.661 2352.76,623.661 \n",
       "  \"/>\n",
       "<polyline clip-path=\"url(#clip302)\" style=\"stroke:#000000; stroke-linecap:butt; stroke-linejoin:round; stroke-width:2; stroke-opacity:0.1; fill:none\" points=\"\n",
       "  235.283,370.135 2352.76,370.135 \n",
       "  \"/>\n",
       "<polyline clip-path=\"url(#clip302)\" style=\"stroke:#000000; stroke-linecap:butt; stroke-linejoin:round; stroke-width:2; stroke-opacity:0.1; fill:none\" points=\"\n",
       "  235.283,116.609 2352.76,116.609 \n",
       "  \"/>\n",
       "<polyline clip-path=\"url(#clip300)\" style=\"stroke:#000000; stroke-linecap:butt; stroke-linejoin:round; stroke-width:4; stroke-opacity:1; fill:none\" points=\"\n",
       "  235.283,1423.18 235.283,47.2441 \n",
       "  \"/>\n",
       "<polyline clip-path=\"url(#clip300)\" style=\"stroke:#000000; stroke-linecap:butt; stroke-linejoin:round; stroke-width:4; stroke-opacity:1; fill:none\" points=\"\n",
       "  235.283,1384.24 254.18,1384.24 \n",
       "  \"/>\n",
       "<polyline clip-path=\"url(#clip300)\" style=\"stroke:#000000; stroke-linecap:butt; stroke-linejoin:round; stroke-width:4; stroke-opacity:1; fill:none\" points=\"\n",
       "  235.283,1130.71 254.18,1130.71 \n",
       "  \"/>\n",
       "<polyline clip-path=\"url(#clip300)\" style=\"stroke:#000000; stroke-linecap:butt; stroke-linejoin:round; stroke-width:4; stroke-opacity:1; fill:none\" points=\"\n",
       "  235.283,877.186 254.18,877.186 \n",
       "  \"/>\n",
       "<polyline clip-path=\"url(#clip300)\" style=\"stroke:#000000; stroke-linecap:butt; stroke-linejoin:round; stroke-width:4; stroke-opacity:1; fill:none\" points=\"\n",
       "  235.283,623.661 254.18,623.661 \n",
       "  \"/>\n",
       "<polyline clip-path=\"url(#clip300)\" style=\"stroke:#000000; stroke-linecap:butt; stroke-linejoin:round; stroke-width:4; stroke-opacity:1; fill:none\" points=\"\n",
       "  235.283,370.135 254.18,370.135 \n",
       "  \"/>\n",
       "<polyline clip-path=\"url(#clip300)\" style=\"stroke:#000000; stroke-linecap:butt; stroke-linejoin:round; stroke-width:4; stroke-opacity:1; fill:none\" points=\"\n",
       "  235.283,116.609 254.18,116.609 \n",
       "  \"/>\n",
       "<path clip-path=\"url(#clip300)\" d=\"M187.338 1370.04 Q183.727 1370.04 181.899 1373.6 Q180.093 1377.14 180.093 1384.27 Q180.093 1391.38 181.899 1394.94 Q183.727 1398.49 187.338 1398.49 Q190.973 1398.49 192.778 1394.94 Q194.607 1391.38 194.607 1384.27 Q194.607 1377.14 192.778 1373.6 Q190.973 1370.04 187.338 1370.04 M187.338 1366.33 Q193.149 1366.33 196.204 1370.94 Q199.283 1375.52 199.283 1384.27 Q199.283 1393 196.204 1397.61 Q193.149 1402.19 187.338 1402.19 Q181.528 1402.19 178.45 1397.61 Q175.394 1393 175.394 1384.27 Q175.394 1375.52 178.45 1370.94 Q181.528 1366.33 187.338 1366.33 Z\" fill=\"#000000\" fill-rule=\"evenodd\" fill-opacity=\"1\" /><path clip-path=\"url(#clip300)\" d=\"M117.825 1144.06 L125.464 1144.06 L125.464 1117.69 L117.154 1119.36 L117.154 1115.1 L125.418 1113.43 L130.093 1113.43 L130.093 1144.06 L137.732 1144.06 L137.732 1147.99 L117.825 1147.99 L117.825 1144.06 Z\" fill=\"#000000\" fill-rule=\"evenodd\" fill-opacity=\"1\" /><path clip-path=\"url(#clip300)\" d=\"M157.177 1116.51 Q153.566 1116.51 151.737 1120.08 Q149.931 1123.62 149.931 1130.75 Q149.931 1137.85 151.737 1141.42 Q153.566 1144.96 157.177 1144.96 Q160.811 1144.96 162.616 1141.42 Q164.445 1137.85 164.445 1130.75 Q164.445 1123.62 162.616 1120.08 Q160.811 1116.51 157.177 1116.51 M157.177 1112.81 Q162.987 1112.81 166.042 1117.41 Q169.121 1122 169.121 1130.75 Q169.121 1139.47 166.042 1144.08 Q162.987 1148.66 157.177 1148.66 Q151.366 1148.66 148.288 1144.08 Q145.232 1139.47 145.232 1130.75 Q145.232 1122 148.288 1117.41 Q151.366 1112.81 157.177 1112.81 Z\" fill=\"#000000\" fill-rule=\"evenodd\" fill-opacity=\"1\" /><path clip-path=\"url(#clip300)\" d=\"M187.338 1116.51 Q183.727 1116.51 181.899 1120.08 Q180.093 1123.62 180.093 1130.75 Q180.093 1137.85 181.899 1141.42 Q183.727 1144.96 187.338 1144.96 Q190.973 1144.96 192.778 1141.42 Q194.607 1137.85 194.607 1130.75 Q194.607 1123.62 192.778 1120.08 Q190.973 1116.51 187.338 1116.51 M187.338 1112.81 Q193.149 1112.81 196.204 1117.41 Q199.283 1122 199.283 1130.75 Q199.283 1139.47 196.204 1144.08 Q193.149 1148.66 187.338 1148.66 Q181.528 1148.66 178.45 1144.08 Q175.394 1139.47 175.394 1130.75 Q175.394 1122 178.45 1117.41 Q181.528 1112.81 187.338 1112.81 Z\" fill=\"#000000\" fill-rule=\"evenodd\" fill-opacity=\"1\" /><path clip-path=\"url(#clip300)\" d=\"M121.043 890.531 L137.362 890.531 L137.362 894.466 L115.418 894.466 L115.418 890.531 Q118.08 887.777 122.663 883.147 Q127.269 878.494 128.45 877.152 Q130.695 874.629 131.575 872.893 Q132.478 871.133 132.478 869.443 Q132.478 866.689 130.533 864.953 Q128.612 863.217 125.51 863.217 Q123.311 863.217 120.857 863.981 Q118.427 864.744 115.649 866.295 L115.649 861.573 Q118.473 860.439 120.927 859.86 Q123.38 859.281 125.418 859.281 Q130.788 859.281 133.982 861.967 Q137.177 864.652 137.177 869.143 Q137.177 871.272 136.367 873.193 Q135.579 875.092 133.473 877.684 Q132.894 878.355 129.792 881.573 Q126.691 884.767 121.043 890.531 Z\" fill=\"#000000\" fill-rule=\"evenodd\" fill-opacity=\"1\" /><path clip-path=\"url(#clip300)\" d=\"M157.177 862.985 Q153.566 862.985 151.737 866.55 Q149.931 870.092 149.931 877.221 Q149.931 884.328 151.737 887.892 Q153.566 891.434 157.177 891.434 Q160.811 891.434 162.616 887.892 Q164.445 884.328 164.445 877.221 Q164.445 870.092 162.616 866.55 Q160.811 862.985 157.177 862.985 M157.177 859.281 Q162.987 859.281 166.042 863.888 Q169.121 868.471 169.121 877.221 Q169.121 885.948 166.042 890.554 Q162.987 895.138 157.177 895.138 Q151.366 895.138 148.288 890.554 Q145.232 885.948 145.232 877.221 Q145.232 868.471 148.288 863.888 Q151.366 859.281 157.177 859.281 Z\" fill=\"#000000\" fill-rule=\"evenodd\" fill-opacity=\"1\" /><path clip-path=\"url(#clip300)\" d=\"M187.338 862.985 Q183.727 862.985 181.899 866.55 Q180.093 870.092 180.093 877.221 Q180.093 884.328 181.899 887.892 Q183.727 891.434 187.338 891.434 Q190.973 891.434 192.778 887.892 Q194.607 884.328 194.607 877.221 Q194.607 870.092 192.778 866.55 Q190.973 862.985 187.338 862.985 M187.338 859.281 Q193.149 859.281 196.204 863.888 Q199.283 868.471 199.283 877.221 Q199.283 885.948 196.204 890.554 Q193.149 895.138 187.338 895.138 Q181.528 895.138 178.45 890.554 Q175.394 885.948 175.394 877.221 Q175.394 868.471 178.45 863.888 Q181.528 859.281 187.338 859.281 Z\" fill=\"#000000\" fill-rule=\"evenodd\" fill-opacity=\"1\" /><path clip-path=\"url(#clip300)\" d=\"M131.181 622.306 Q134.538 623.024 136.413 625.293 Q138.311 627.561 138.311 630.894 Q138.311 636.01 134.792 638.811 Q131.274 641.612 124.793 641.612 Q122.617 641.612 120.302 641.172 Q118.01 640.755 115.556 639.899 L115.556 635.385 Q117.501 636.519 119.816 637.098 Q122.13 637.677 124.654 637.677 Q129.052 637.677 131.343 635.941 Q133.658 634.204 133.658 630.894 Q133.658 627.839 131.505 626.126 Q129.376 624.39 125.556 624.39 L121.529 624.39 L121.529 620.547 L125.742 620.547 Q129.191 620.547 131.019 619.181 Q132.848 617.793 132.848 615.2 Q132.848 612.538 130.95 611.126 Q129.075 609.691 125.556 609.691 Q123.635 609.691 121.436 610.107 Q119.237 610.524 116.598 611.404 L116.598 607.237 Q119.26 606.496 121.575 606.126 Q123.913 605.756 125.973 605.756 Q131.297 605.756 134.399 608.186 Q137.501 610.594 137.501 614.714 Q137.501 617.584 135.857 619.575 Q134.214 621.543 131.181 622.306 Z\" fill=\"#000000\" fill-rule=\"evenodd\" fill-opacity=\"1\" /><path clip-path=\"url(#clip300)\" d=\"M157.177 609.459 Q153.566 609.459 151.737 613.024 Q149.931 616.566 149.931 623.695 Q149.931 630.802 151.737 634.367 Q153.566 637.908 157.177 637.908 Q160.811 637.908 162.616 634.367 Q164.445 630.802 164.445 623.695 Q164.445 616.566 162.616 613.024 Q160.811 609.459 157.177 609.459 M157.177 605.756 Q162.987 605.756 166.042 610.362 Q169.121 614.945 169.121 623.695 Q169.121 632.422 166.042 637.029 Q162.987 641.612 157.177 641.612 Q151.366 641.612 148.288 637.029 Q145.232 632.422 145.232 623.695 Q145.232 614.945 148.288 610.362 Q151.366 605.756 157.177 605.756 Z\" fill=\"#000000\" fill-rule=\"evenodd\" fill-opacity=\"1\" /><path clip-path=\"url(#clip300)\" d=\"M187.338 609.459 Q183.727 609.459 181.899 613.024 Q180.093 616.566 180.093 623.695 Q180.093 630.802 181.899 634.367 Q183.727 637.908 187.338 637.908 Q190.973 637.908 192.778 634.367 Q194.607 630.802 194.607 623.695 Q194.607 616.566 192.778 613.024 Q190.973 609.459 187.338 609.459 M187.338 605.756 Q193.149 605.756 196.204 610.362 Q199.283 614.945 199.283 623.695 Q199.283 632.422 196.204 637.029 Q193.149 641.612 187.338 641.612 Q181.528 641.612 178.45 637.029 Q175.394 632.422 175.394 623.695 Q175.394 614.945 178.45 610.362 Q181.528 605.756 187.338 605.756 Z\" fill=\"#000000\" fill-rule=\"evenodd\" fill-opacity=\"1\" /><path clip-path=\"url(#clip300)\" d=\"M129.862 356.929 L118.056 375.378 L129.862 375.378 L129.862 356.929 M128.635 352.855 L134.515 352.855 L134.515 375.378 L139.445 375.378 L139.445 379.267 L134.515 379.267 L134.515 387.415 L129.862 387.415 L129.862 379.267 L114.26 379.267 L114.26 374.753 L128.635 352.855 Z\" fill=\"#000000\" fill-rule=\"evenodd\" fill-opacity=\"1\" /><path clip-path=\"url(#clip300)\" d=\"M157.177 355.933 Q153.566 355.933 151.737 359.498 Q149.931 363.04 149.931 370.169 Q149.931 377.276 151.737 380.841 Q153.566 384.382 157.177 384.382 Q160.811 384.382 162.616 380.841 Q164.445 377.276 164.445 370.169 Q164.445 363.04 162.616 359.498 Q160.811 355.933 157.177 355.933 M157.177 352.23 Q162.987 352.23 166.042 356.836 Q169.121 361.419 169.121 370.169 Q169.121 378.896 166.042 383.503 Q162.987 388.086 157.177 388.086 Q151.366 388.086 148.288 383.503 Q145.232 378.896 145.232 370.169 Q145.232 361.419 148.288 356.836 Q151.366 352.23 157.177 352.23 Z\" fill=\"#000000\" fill-rule=\"evenodd\" fill-opacity=\"1\" /><path clip-path=\"url(#clip300)\" d=\"M187.338 355.933 Q183.727 355.933 181.899 359.498 Q180.093 363.04 180.093 370.169 Q180.093 377.276 181.899 380.841 Q183.727 384.382 187.338 384.382 Q190.973 384.382 192.778 380.841 Q194.607 377.276 194.607 370.169 Q194.607 363.04 192.778 359.498 Q190.973 355.933 187.338 355.933 M187.338 352.23 Q193.149 352.23 196.204 356.836 Q199.283 361.419 199.283 370.169 Q199.283 378.896 196.204 383.503 Q193.149 388.086 187.338 388.086 Q181.528 388.086 178.45 383.503 Q175.394 378.896 175.394 370.169 Q175.394 361.419 178.45 356.836 Q181.528 352.23 187.338 352.23 Z\" fill=\"#000000\" fill-rule=\"evenodd\" fill-opacity=\"1\" /><path clip-path=\"url(#clip300)\" d=\"M117.061 99.3288 L135.417 99.3288 L135.417 103.264 L121.343 103.264 L121.343 111.736 Q122.362 111.389 123.38 111.227 Q124.399 111.042 125.418 111.042 Q131.205 111.042 134.584 114.213 Q137.964 117.384 137.964 122.801 Q137.964 128.38 134.492 131.481 Q131.019 134.56 124.7 134.56 Q122.524 134.56 120.255 134.19 Q118.01 133.819 115.603 133.079 L115.603 128.38 Q117.686 129.514 119.908 130.069 Q122.13 130.625 124.607 130.625 Q128.612 130.625 130.95 128.518 Q133.288 126.412 133.288 122.801 Q133.288 119.19 130.95 117.083 Q128.612 114.977 124.607 114.977 Q122.732 114.977 120.857 115.394 Q119.006 115.81 117.061 116.69 L117.061 99.3288 Z\" fill=\"#000000\" fill-rule=\"evenodd\" fill-opacity=\"1\" /><path clip-path=\"url(#clip300)\" d=\"M157.177 102.407 Q153.566 102.407 151.737 105.972 Q149.931 109.514 149.931 116.644 Q149.931 123.75 151.737 127.315 Q153.566 130.856 157.177 130.856 Q160.811 130.856 162.616 127.315 Q164.445 123.75 164.445 116.644 Q164.445 109.514 162.616 105.972 Q160.811 102.407 157.177 102.407 M157.177 98.7038 Q162.987 98.7038 166.042 103.31 Q169.121 107.894 169.121 116.644 Q169.121 125.37 166.042 129.977 Q162.987 134.56 157.177 134.56 Q151.366 134.56 148.288 129.977 Q145.232 125.37 145.232 116.644 Q145.232 107.894 148.288 103.31 Q151.366 98.7038 157.177 98.7038 Z\" fill=\"#000000\" fill-rule=\"evenodd\" fill-opacity=\"1\" /><path clip-path=\"url(#clip300)\" d=\"M187.338 102.407 Q183.727 102.407 181.899 105.972 Q180.093 109.514 180.093 116.644 Q180.093 123.75 181.899 127.315 Q183.727 130.856 187.338 130.856 Q190.973 130.856 192.778 127.315 Q194.607 123.75 194.607 116.644 Q194.607 109.514 192.778 105.972 Q190.973 102.407 187.338 102.407 M187.338 98.7038 Q193.149 98.7038 196.204 103.31 Q199.283 107.894 199.283 116.644 Q199.283 125.37 196.204 129.977 Q193.149 134.56 187.338 134.56 Q181.528 134.56 178.45 129.977 Q175.394 125.37 175.394 116.644 Q175.394 107.894 178.45 103.31 Q181.528 98.7038 187.338 98.7038 Z\" fill=\"#000000\" fill-rule=\"evenodd\" fill-opacity=\"1\" /><path clip-path=\"url(#clip300)\" d=\"M35.3266 841.535 L35.3266 850.797 L45.9574 853.471 L45.9574 844.145 L35.3266 841.535 M17.2162 846.309 L30.4251 849.62 L30.4251 840.326 L17.2162 836.984 L17.2162 831.891 L30.4251 835.169 L30.4251 825.239 L35.3266 825.239 L35.3266 836.411 L45.9574 839.021 L45.9574 828.899 L50.8271 828.899 L50.8271 840.262 L64.0042 843.572 L64.0042 848.665 L50.8271 845.386 L50.8271 854.712 L64.0042 857.991 L64.0042 863.115 L50.8271 859.805 L50.8271 869.831 L45.9574 869.831 L45.9574 858.627 L35.3266 855.954 L35.3266 866.202 L30.4251 866.202 L30.4251 854.712 L17.2162 851.466 L17.2162 846.309 Z\" fill=\"#000000\" fill-rule=\"evenodd\" fill-opacity=\"1\" /><path clip-path=\"url(#clip300)\" d=\"M14.479 793.601 L14.479 787.713 L43.7294 787.713 L28.3562 770.239 L28.3562 762.76 L45.0344 781.666 L64.0042 761.964 L64.0042 769.603 L46.5939 787.713 L64.0042 787.713 L64.0042 793.601 L14.479 793.601 Z\" fill=\"#000000\" fill-rule=\"evenodd\" fill-opacity=\"1\" /><path clip-path=\"url(#clip300)\" d=\"M35.1993 727.875 Q31.2526 725.679 29.3747 722.624 Q27.4968 719.568 27.4968 715.431 Q27.4968 709.861 31.4117 706.837 Q35.2948 703.813 42.4881 703.813 L64.0042 703.813 L64.0042 709.701 L42.679 709.701 Q37.5546 709.701 35.072 711.516 Q32.5894 713.33 32.5894 717.054 Q32.5894 721.605 35.6131 724.247 Q38.6368 726.889 43.8567 726.889 L64.0042 726.889 L64.0042 732.777 L42.679 732.777 Q37.5228 732.777 35.072 734.591 Q32.5894 736.406 32.5894 740.193 Q32.5894 744.681 35.6449 747.323 Q38.6686 749.964 43.8567 749.964 L64.0042 749.964 L64.0042 755.853 L28.3562 755.853 L28.3562 749.964 L33.8944 749.964 Q30.616 747.959 29.0564 745.158 Q27.4968 742.357 27.4968 738.506 Q27.4968 734.623 29.4702 731.918 Q31.4436 729.18 35.1993 727.875 Z\" fill=\"#000000\" fill-rule=\"evenodd\" fill-opacity=\"1\" /><path clip-path=\"url(#clip300)\" d=\"M44.7161 661.64 L47.5806 661.64 L47.5806 688.567 Q53.6281 688.185 56.8109 684.939 Q59.9619 681.66 59.9619 675.836 Q59.9619 672.462 59.1344 669.311 Q58.3069 666.128 56.6518 663.009 L62.1899 663.009 Q63.5267 666.16 64.227 669.47 Q64.9272 672.78 64.9272 676.186 Q64.9272 684.716 59.9619 689.713 Q54.9967 694.678 46.5303 694.678 Q37.7774 694.678 32.6531 689.968 Q27.4968 685.225 27.4968 677.204 Q27.4968 670.011 32.1438 665.842 Q36.7589 661.64 44.7161 661.64 M42.9973 667.497 Q38.1912 667.56 35.3266 670.202 Q32.4621 672.812 32.4621 677.141 Q32.4621 682.042 35.2312 685.002 Q38.0002 687.931 43.0292 688.376 L42.9973 667.497 Z\" fill=\"#000000\" fill-rule=\"evenodd\" fill-opacity=\"1\" /><path clip-path=\"url(#clip300)\" d=\"M33.8307 631.371 Q33.2578 632.358 33.0032 633.536 Q32.7167 634.682 32.7167 636.082 Q32.7167 641.047 35.9632 643.721 Q39.1779 646.363 45.2253 646.363 L64.0042 646.363 L64.0042 652.251 L28.3562 652.251 L28.3562 646.363 L33.8944 646.363 Q30.6479 644.517 29.0883 641.557 Q27.4968 638.596 27.4968 634.363 Q27.4968 633.759 27.5923 633.026 Q27.656 632.294 27.8151 631.403 L33.8307 631.371 Z\" fill=\"#000000\" fill-rule=\"evenodd\" fill-opacity=\"1\" /><path clip-path=\"url(#clip300)\" d=\"M29.4065 602.503 L34.9447 602.503 Q33.6716 604.986 33.035 607.659 Q32.3984 610.333 32.3984 613.197 Q32.3984 617.558 33.7352 619.754 Q35.072 621.918 37.7456 621.918 Q39.7826 621.918 40.9603 620.359 Q42.1061 618.799 43.1565 614.088 L43.6021 612.083 Q44.9389 605.845 47.3897 603.235 Q49.8086 600.593 54.1691 600.593 Q59.1344 600.593 62.0308 604.54 Q64.9272 608.455 64.9272 615.33 Q64.9272 618.194 64.3543 621.314 Q63.8132 624.401 62.6992 627.838 L56.6518 627.838 Q58.3387 624.592 59.198 621.441 Q60.0256 618.29 60.0256 615.202 Q60.0256 611.065 58.6251 608.837 Q57.1929 606.609 54.6147 606.609 Q52.2276 606.609 50.9545 608.232 Q49.6813 609.823 48.5037 615.266 L48.0262 617.303 Q46.8804 622.746 44.5251 625.165 Q42.138 627.584 38.0002 627.584 Q32.9713 627.584 30.2341 624.019 Q27.4968 620.454 27.4968 613.898 Q27.4968 610.651 27.9743 607.786 Q28.4517 604.922 29.4065 602.503 Z\" fill=\"#000000\" fill-rule=\"evenodd\" fill-opacity=\"1\" /><circle clip-path=\"url(#clip302)\" cx=\"295.211\" cy=\"1384.24\" r=\"14\" fill=\"#009af9\" fill-rule=\"evenodd\" fill-opacity=\"1\" stroke=\"#000000\" stroke-opacity=\"1\" stroke-width=\"3.2\"/>\n",
       "<circle clip-path=\"url(#clip302)\" cx=\"1294.02\" cy=\"88.7209\" r=\"14\" fill=\"#009af9\" fill-rule=\"evenodd\" fill-opacity=\"1\" stroke=\"#000000\" stroke-opacity=\"1\" stroke-width=\"3.2\"/>\n",
       "<circle clip-path=\"url(#clip302)\" cx=\"2292.83\" cy=\"86.1857\" r=\"14\" fill=\"#009af9\" fill-rule=\"evenodd\" fill-opacity=\"1\" stroke=\"#000000\" stroke-opacity=\"1\" stroke-width=\"3.2\"/>\n",
       "</svg>\n"
      ]
     },
     "execution_count": 25,
     "metadata": {},
     "output_type": "execute_result"
    }
   ],
   "source": [
    "sampling_points, repeat_kmer_counts = assess_kmer_saturation(sorted_fastq_file, kmer_type, max_reads=n_reads, power=2)\n",
    "StatsPlots.scatter(sampling_points, repeat_kmer_counts, legend=false, ylabel=\"# kmers\", xlabel=\"# reads\")"
   ]
  },
  {
   "cell_type": "code",
   "execution_count": 26,
   "id": "23c1a27b-adaa-4375-835e-9fa38882af9d",
   "metadata": {},
   "outputs": [],
   "source": [
    "x = 1 ./sampling_points[2:end]\n",
    "y = 1 ./repeat_kmer_counts[2:end]\n",
    "# StatsPlots.scatter(x, y, legend=false)\n",
    "model = GLM.lm(GLM.@formula(Y ~ X), DataFrames.DataFrame(X = x, Y = y))\n",
    "# y-intercept = 1/vmax\n",
    "b = GLM.coef(model)[1]\n",
    "vmax = 1/b\n",
    "@show vmax\n",
    "sparsity = vmax / max_canonical_kmers(kmer_type)\n",
    "@show sparsity\n",
    "m = GLM.coef(model)[2]\n",
    "X_intercept = (0 - b) / m\n",
    "# x-intercept = -1/KM\n",
    "k_midpoint = -1/X_intercept\n",
    "if (sparsity) < 1\n",
    "    @show \"acheived sparsity\"\n",
    "    @show k_midpoint\n",
    "end"
   ]
  },
  {
   "cell_type": "code",
   "execution_count": 27,
   "id": "fbca72a3-5fd1-4f7c-b175-dad14632b175",
   "metadata": {},
   "outputs": [
    {
     "data": {
      "text/plain": [
       "BioSequences.DNAMer{7} (alias for BioSequences.Mer{BioSequences.DNAAlphabet{2}, 7})"
      ]
     },
     "execution_count": 27,
     "metadata": {},
     "output_type": "execute_result"
    }
   ],
   "source": [
    "k = ks[3]\n",
    "kmer_type = BioSequences.DNAMer{k}"
   ]
  },
  {
   "cell_type": "code",
   "execution_count": 28,
   "id": "83084d83-c538-4818-afca-b1b2f250a9b3",
   "metadata": {},
   "outputs": [
    {
     "name": "stderr",
     "output_type": "stream",
     "text": [
      "┌ Info: total reads being considered = 10000\n",
      "└ @ Main In[10]:10\n",
      "┌ Info: maximim kmers = 8192\n",
      "└ @ Main In[10]:14\n"
     ]
    },
    {
     "name": "stdout",
     "output_type": "stream",
     "text": [
      "(read_number, percent_saturation) = (1, 41.772)\n",
      "(read_number, percent_saturation) = (2, 91.187)\n",
      "(read_number, percent_saturation) = (4, 98.694)\n",
      "(read_number, percent_saturation) = (8, 99.976)\n"
     ]
    },
    {
     "data": {
      "image/svg+xml": [
       "<?xml version=\"1.0\" encoding=\"utf-8\"?>\n",
       "<svg xmlns=\"http://www.w3.org/2000/svg\" xmlns:xlink=\"http://www.w3.org/1999/xlink\" width=\"600\" height=\"400\" viewBox=\"0 0 2400 1600\">\n",
       "<defs>\n",
       "  <clipPath id=\"clip340\">\n",
       "    <rect x=\"0\" y=\"0\" width=\"2400\" height=\"1600\"/>\n",
       "  </clipPath>\n",
       "</defs>\n",
       "<path clip-path=\"url(#clip340)\" d=\"\n",
       "M0 1600 L2400 1600 L2400 0 L0 0  Z\n",
       "  \" fill=\"#ffffff\" fill-rule=\"evenodd\" fill-opacity=\"1\"/>\n",
       "<defs>\n",
       "  <clipPath id=\"clip341\">\n",
       "    <rect x=\"480\" y=\"0\" width=\"1681\" height=\"1600\"/>\n",
       "  </clipPath>\n",
       "</defs>\n",
       "<path clip-path=\"url(#clip340)\" d=\"\n",
       "M202.177 1486.45 L2352.76 1486.45 L2352.76 47.2441 L202.177 47.2441  Z\n",
       "  \" fill=\"#ffffff\" fill-rule=\"evenodd\" fill-opacity=\"1\"/>\n",
       "<defs>\n",
       "  <clipPath id=\"clip342\">\n",
       "    <rect x=\"202\" y=\"47\" width=\"2152\" height=\"1440\"/>\n",
       "  </clipPath>\n",
       "</defs>\n",
       "<polyline clip-path=\"url(#clip342)\" style=\"stroke:#000000; stroke-linecap:butt; stroke-linejoin:round; stroke-width:2; stroke-opacity:0.1; fill:none\" points=\"\n",
       "  263.042,1486.45 263.042,47.2441 \n",
       "  \"/>\n",
       "<polyline clip-path=\"url(#clip342)\" style=\"stroke:#000000; stroke-linecap:butt; stroke-linejoin:round; stroke-width:2; stroke-opacity:0.1; fill:none\" points=\"\n",
       "  685.719,1486.45 685.719,47.2441 \n",
       "  \"/>\n",
       "<polyline clip-path=\"url(#clip342)\" style=\"stroke:#000000; stroke-linecap:butt; stroke-linejoin:round; stroke-width:2; stroke-opacity:0.1; fill:none\" points=\"\n",
       "  1108.4,1486.45 1108.4,47.2441 \n",
       "  \"/>\n",
       "<polyline clip-path=\"url(#clip342)\" style=\"stroke:#000000; stroke-linecap:butt; stroke-linejoin:round; stroke-width:2; stroke-opacity:0.1; fill:none\" points=\"\n",
       "  1531.07,1486.45 1531.07,47.2441 \n",
       "  \"/>\n",
       "<polyline clip-path=\"url(#clip342)\" style=\"stroke:#000000; stroke-linecap:butt; stroke-linejoin:round; stroke-width:2; stroke-opacity:0.1; fill:none\" points=\"\n",
       "  1953.75,1486.45 1953.75,47.2441 \n",
       "  \"/>\n",
       "<polyline clip-path=\"url(#clip340)\" style=\"stroke:#000000; stroke-linecap:butt; stroke-linejoin:round; stroke-width:4; stroke-opacity:1; fill:none\" points=\"\n",
       "  202.177,1486.45 2352.76,1486.45 \n",
       "  \"/>\n",
       "<polyline clip-path=\"url(#clip340)\" style=\"stroke:#000000; stroke-linecap:butt; stroke-linejoin:round; stroke-width:4; stroke-opacity:1; fill:none\" points=\"\n",
       "  263.042,1486.45 263.042,1467.55 \n",
       "  \"/>\n",
       "<polyline clip-path=\"url(#clip340)\" style=\"stroke:#000000; stroke-linecap:butt; stroke-linejoin:round; stroke-width:4; stroke-opacity:1; fill:none\" points=\"\n",
       "  685.719,1486.45 685.719,1467.55 \n",
       "  \"/>\n",
       "<polyline clip-path=\"url(#clip340)\" style=\"stroke:#000000; stroke-linecap:butt; stroke-linejoin:round; stroke-width:4; stroke-opacity:1; fill:none\" points=\"\n",
       "  1108.4,1486.45 1108.4,1467.55 \n",
       "  \"/>\n",
       "<polyline clip-path=\"url(#clip340)\" style=\"stroke:#000000; stroke-linecap:butt; stroke-linejoin:round; stroke-width:4; stroke-opacity:1; fill:none\" points=\"\n",
       "  1531.07,1486.45 1531.07,1467.55 \n",
       "  \"/>\n",
       "<polyline clip-path=\"url(#clip340)\" style=\"stroke:#000000; stroke-linecap:butt; stroke-linejoin:round; stroke-width:4; stroke-opacity:1; fill:none\" points=\"\n",
       "  1953.75,1486.45 1953.75,1467.55 \n",
       "  \"/>\n",
       "<path clip-path=\"url(#clip340)\" d=\"M240.427 1515.64 Q236.815 1515.64 234.987 1519.2 Q233.181 1522.75 233.181 1529.87 Q233.181 1536.98 234.987 1540.55 Q236.815 1544.09 240.427 1544.09 Q244.061 1544.09 245.866 1540.55 Q247.695 1536.98 247.695 1529.87 Q247.695 1522.75 245.866 1519.2 Q244.061 1515.64 240.427 1515.64 M240.427 1511.93 Q246.237 1511.93 249.292 1516.54 Q252.371 1521.12 252.371 1529.87 Q252.371 1538.6 249.292 1543.21 Q246.237 1547.79 240.427 1547.79 Q234.616 1547.79 231.538 1543.21 Q228.482 1538.6 228.482 1529.87 Q228.482 1521.12 231.538 1516.54 Q234.616 1511.93 240.427 1511.93 Z\" fill=\"#000000\" fill-rule=\"evenodd\" fill-opacity=\"1\" /><path clip-path=\"url(#clip340)\" d=\"M260.588 1541.24 L265.473 1541.24 L265.473 1547.12 L260.588 1547.12 L260.588 1541.24 Z\" fill=\"#000000\" fill-rule=\"evenodd\" fill-opacity=\"1\" /><path clip-path=\"url(#clip340)\" d=\"M285.658 1515.64 Q282.047 1515.64 280.218 1519.2 Q278.412 1522.75 278.412 1529.87 Q278.412 1536.98 280.218 1540.55 Q282.047 1544.09 285.658 1544.09 Q289.292 1544.09 291.098 1540.55 Q292.926 1536.98 292.926 1529.87 Q292.926 1522.75 291.098 1519.2 Q289.292 1515.64 285.658 1515.64 M285.658 1511.93 Q291.468 1511.93 294.523 1516.54 Q297.602 1521.12 297.602 1529.87 Q297.602 1538.6 294.523 1543.21 Q291.468 1547.79 285.658 1547.79 Q279.848 1547.79 276.769 1543.21 Q273.713 1538.6 273.713 1529.87 Q273.713 1521.12 276.769 1516.54 Q279.848 1511.93 285.658 1511.93 Z\" fill=\"#000000\" fill-rule=\"evenodd\" fill-opacity=\"1\" /><path clip-path=\"url(#clip340)\" d=\"M657.455 1543.18 L673.774 1543.18 L673.774 1547.12 L651.83 1547.12 L651.83 1543.18 Q654.492 1540.43 659.075 1535.8 Q663.682 1531.15 664.863 1529.81 Q667.108 1527.28 667.987 1525.55 Q668.89 1523.79 668.89 1522.1 Q668.89 1519.34 666.946 1517.61 Q665.025 1515.87 661.923 1515.87 Q659.724 1515.87 657.27 1516.63 Q654.839 1517.4 652.062 1518.95 L652.062 1514.23 Q654.886 1513.09 657.339 1512.51 Q659.793 1511.93 661.83 1511.93 Q667.2 1511.93 670.395 1514.62 Q673.589 1517.31 673.589 1521.8 Q673.589 1523.93 672.779 1525.85 Q671.992 1527.74 669.886 1530.34 Q669.307 1531.01 666.205 1534.23 Q663.103 1537.42 657.455 1543.18 Z\" fill=\"#000000\" fill-rule=\"evenodd\" fill-opacity=\"1\" /><path clip-path=\"url(#clip340)\" d=\"M683.589 1541.24 L688.473 1541.24 L688.473 1547.12 L683.589 1547.12 L683.589 1541.24 Z\" fill=\"#000000\" fill-rule=\"evenodd\" fill-opacity=\"1\" /><path clip-path=\"url(#clip340)\" d=\"M698.705 1512.56 L717.061 1512.56 L717.061 1516.5 L702.987 1516.5 L702.987 1524.97 Q704.006 1524.62 705.024 1524.46 Q706.043 1524.27 707.061 1524.27 Q712.848 1524.27 716.228 1527.44 Q719.608 1530.62 719.608 1536.03 Q719.608 1541.61 716.135 1544.71 Q712.663 1547.79 706.344 1547.79 Q704.168 1547.79 701.899 1547.42 Q699.654 1547.05 697.247 1546.31 L697.247 1541.61 Q699.33 1542.74 701.552 1543.3 Q703.774 1543.86 706.251 1543.86 Q710.256 1543.86 712.594 1541.75 Q714.932 1539.64 714.932 1536.03 Q714.932 1532.42 712.594 1530.31 Q710.256 1528.21 706.251 1528.21 Q704.376 1528.21 702.501 1528.62 Q700.649 1529.04 698.705 1529.92 L698.705 1512.56 Z\" fill=\"#000000\" fill-rule=\"evenodd\" fill-opacity=\"1\" /><path clip-path=\"url(#clip340)\" d=\"M1075.56 1512.56 L1093.92 1512.56 L1093.92 1516.5 L1079.84 1516.5 L1079.84 1524.97 Q1080.86 1524.62 1081.88 1524.46 Q1082.9 1524.27 1083.92 1524.27 Q1089.7 1524.27 1093.08 1527.44 Q1096.46 1530.62 1096.46 1536.03 Q1096.46 1541.61 1092.99 1544.71 Q1089.52 1547.79 1083.2 1547.79 Q1081.02 1547.79 1078.75 1547.42 Q1076.51 1547.05 1074.1 1546.31 L1074.1 1541.61 Q1076.19 1542.74 1078.41 1543.3 Q1080.63 1543.86 1083.11 1543.86 Q1087.11 1543.86 1089.45 1541.75 Q1091.79 1539.64 1091.79 1536.03 Q1091.79 1532.42 1089.45 1530.31 Q1087.11 1528.21 1083.11 1528.21 Q1081.23 1528.21 1079.36 1528.62 Q1077.5 1529.04 1075.56 1529.92 L1075.56 1512.56 Z\" fill=\"#000000\" fill-rule=\"evenodd\" fill-opacity=\"1\" /><path clip-path=\"url(#clip340)\" d=\"M1105.68 1541.24 L1110.56 1541.24 L1110.56 1547.12 L1105.68 1547.12 L1105.68 1541.24 Z\" fill=\"#000000\" fill-rule=\"evenodd\" fill-opacity=\"1\" /><path clip-path=\"url(#clip340)\" d=\"M1130.75 1515.64 Q1127.13 1515.64 1125.31 1519.2 Q1123.5 1522.75 1123.5 1529.87 Q1123.5 1536.98 1125.31 1540.55 Q1127.13 1544.09 1130.75 1544.09 Q1134.38 1544.09 1136.18 1540.55 Q1138.01 1536.98 1138.01 1529.87 Q1138.01 1522.75 1136.18 1519.2 Q1134.38 1515.64 1130.75 1515.64 M1130.75 1511.93 Q1136.56 1511.93 1139.61 1516.54 Q1142.69 1521.12 1142.69 1529.87 Q1142.69 1538.6 1139.61 1543.21 Q1136.56 1547.79 1130.75 1547.79 Q1124.93 1547.79 1121.86 1543.21 Q1118.8 1538.6 1118.8 1529.87 Q1118.8 1521.12 1121.86 1516.54 Q1124.93 1511.93 1130.75 1511.93 Z\" fill=\"#000000\" fill-rule=\"evenodd\" fill-opacity=\"1\" /><path clip-path=\"url(#clip340)\" d=\"M1497.39 1512.56 L1519.61 1512.56 L1519.61 1514.55 L1507.07 1547.12 L1502.18 1547.12 L1513.99 1516.5 L1497.39 1516.5 L1497.39 1512.56 Z\" fill=\"#000000\" fill-rule=\"evenodd\" fill-opacity=\"1\" /><path clip-path=\"url(#clip340)\" d=\"M1528.73 1541.24 L1533.62 1541.24 L1533.62 1547.12 L1528.73 1547.12 L1528.73 1541.24 Z\" fill=\"#000000\" fill-rule=\"evenodd\" fill-opacity=\"1\" /><path clip-path=\"url(#clip340)\" d=\"M1543.85 1512.56 L1562.21 1512.56 L1562.21 1516.5 L1548.13 1516.5 L1548.13 1524.97 Q1549.15 1524.62 1550.17 1524.46 Q1551.19 1524.27 1552.21 1524.27 Q1557.99 1524.27 1561.37 1527.44 Q1564.75 1530.62 1564.75 1536.03 Q1564.75 1541.61 1561.28 1544.71 Q1557.81 1547.79 1551.49 1547.79 Q1549.31 1547.79 1547.04 1547.42 Q1544.8 1547.05 1542.39 1546.31 L1542.39 1541.61 Q1544.48 1542.74 1546.7 1543.3 Q1548.92 1543.86 1551.4 1543.86 Q1555.4 1543.86 1557.74 1541.75 Q1560.08 1539.64 1560.08 1536.03 Q1560.08 1532.42 1557.74 1530.31 Q1555.4 1528.21 1551.4 1528.21 Q1549.52 1528.21 1547.65 1528.62 Q1545.79 1529.04 1543.85 1529.92 L1543.85 1512.56 Z\" fill=\"#000000\" fill-rule=\"evenodd\" fill-opacity=\"1\" /><path clip-path=\"url(#clip340)\" d=\"M1905.82 1543.18 L1913.46 1543.18 L1913.46 1516.82 L1905.15 1518.49 L1905.15 1514.23 L1913.41 1512.56 L1918.09 1512.56 L1918.09 1543.18 L1925.73 1543.18 L1925.73 1547.12 L1905.82 1547.12 L1905.82 1543.18 Z\" fill=\"#000000\" fill-rule=\"evenodd\" fill-opacity=\"1\" /><path clip-path=\"url(#clip340)\" d=\"M1945.17 1515.64 Q1941.56 1515.64 1939.73 1519.2 Q1937.93 1522.75 1937.93 1529.87 Q1937.93 1536.98 1939.73 1540.55 Q1941.56 1544.09 1945.17 1544.09 Q1948.81 1544.09 1950.61 1540.55 Q1952.44 1536.98 1952.44 1529.87 Q1952.44 1522.75 1950.61 1519.2 Q1948.81 1515.64 1945.17 1515.64 M1945.17 1511.93 Q1950.98 1511.93 1954.04 1516.54 Q1957.12 1521.12 1957.12 1529.87 Q1957.12 1538.6 1954.04 1543.21 Q1950.98 1547.79 1945.17 1547.79 Q1939.36 1547.79 1936.28 1543.21 Q1933.23 1538.6 1933.23 1529.87 Q1933.23 1521.12 1936.28 1516.54 Q1939.36 1511.93 1945.17 1511.93 Z\" fill=\"#000000\" fill-rule=\"evenodd\" fill-opacity=\"1\" /><path clip-path=\"url(#clip340)\" d=\"M1965.33 1541.24 L1970.22 1541.24 L1970.22 1547.12 L1965.33 1547.12 L1965.33 1541.24 Z\" fill=\"#000000\" fill-rule=\"evenodd\" fill-opacity=\"1\" /><path clip-path=\"url(#clip340)\" d=\"M1990.4 1515.64 Q1986.79 1515.64 1984.96 1519.2 Q1983.16 1522.75 1983.16 1529.87 Q1983.16 1536.98 1984.96 1540.55 Q1986.79 1544.09 1990.4 1544.09 Q1994.04 1544.09 1995.84 1540.55 Q1997.67 1536.98 1997.67 1529.87 Q1997.67 1522.75 1995.84 1519.2 Q1994.04 1515.64 1990.4 1515.64 M1990.4 1511.93 Q1996.21 1511.93 1999.27 1516.54 Q2002.35 1521.12 2002.35 1529.87 Q2002.35 1538.6 1999.27 1543.21 Q1996.21 1547.79 1990.4 1547.79 Q1984.59 1547.79 1981.52 1543.21 Q1978.46 1538.6 1978.46 1529.87 Q1978.46 1521.12 1981.52 1516.54 Q1984.59 1511.93 1990.4 1511.93 Z\" fill=\"#000000\" fill-rule=\"evenodd\" fill-opacity=\"1\" /><polyline clip-path=\"url(#clip342)\" style=\"stroke:#000000; stroke-linecap:butt; stroke-linejoin:round; stroke-width:2; stroke-opacity:0.1; fill:none\" points=\"\n",
       "  202.177,1445.72 2352.76,1445.72 \n",
       "  \"/>\n",
       "<polyline clip-path=\"url(#clip342)\" style=\"stroke:#000000; stroke-linecap:butt; stroke-linejoin:round; stroke-width:2; stroke-opacity:0.1; fill:none\" points=\"\n",
       "  202.177,1114.24 2352.76,1114.24 \n",
       "  \"/>\n",
       "<polyline clip-path=\"url(#clip342)\" style=\"stroke:#000000; stroke-linecap:butt; stroke-linejoin:round; stroke-width:2; stroke-opacity:0.1; fill:none\" points=\"\n",
       "  202.177,782.757 2352.76,782.757 \n",
       "  \"/>\n",
       "<polyline clip-path=\"url(#clip342)\" style=\"stroke:#000000; stroke-linecap:butt; stroke-linejoin:round; stroke-width:2; stroke-opacity:0.1; fill:none\" points=\"\n",
       "  202.177,451.278 2352.76,451.278 \n",
       "  \"/>\n",
       "<polyline clip-path=\"url(#clip342)\" style=\"stroke:#000000; stroke-linecap:butt; stroke-linejoin:round; stroke-width:2; stroke-opacity:0.1; fill:none\" points=\"\n",
       "  202.177,119.798 2352.76,119.798 \n",
       "  \"/>\n",
       "<polyline clip-path=\"url(#clip340)\" style=\"stroke:#000000; stroke-linecap:butt; stroke-linejoin:round; stroke-width:4; stroke-opacity:1; fill:none\" points=\"\n",
       "  202.177,1486.45 202.177,47.2441 \n",
       "  \"/>\n",
       "<polyline clip-path=\"url(#clip340)\" style=\"stroke:#000000; stroke-linecap:butt; stroke-linejoin:round; stroke-width:4; stroke-opacity:1; fill:none\" points=\"\n",
       "  202.177,1445.72 221.074,1445.72 \n",
       "  \"/>\n",
       "<polyline clip-path=\"url(#clip340)\" style=\"stroke:#000000; stroke-linecap:butt; stroke-linejoin:round; stroke-width:4; stroke-opacity:1; fill:none\" points=\"\n",
       "  202.177,1114.24 221.074,1114.24 \n",
       "  \"/>\n",
       "<polyline clip-path=\"url(#clip340)\" style=\"stroke:#000000; stroke-linecap:butt; stroke-linejoin:round; stroke-width:4; stroke-opacity:1; fill:none\" points=\"\n",
       "  202.177,782.757 221.074,782.757 \n",
       "  \"/>\n",
       "<polyline clip-path=\"url(#clip340)\" style=\"stroke:#000000; stroke-linecap:butt; stroke-linejoin:round; stroke-width:4; stroke-opacity:1; fill:none\" points=\"\n",
       "  202.177,451.278 221.074,451.278 \n",
       "  \"/>\n",
       "<polyline clip-path=\"url(#clip340)\" style=\"stroke:#000000; stroke-linecap:butt; stroke-linejoin:round; stroke-width:4; stroke-opacity:1; fill:none\" points=\"\n",
       "  202.177,119.798 221.074,119.798 \n",
       "  \"/>\n",
       "<path clip-path=\"url(#clip340)\" d=\"M154.232 1431.51 Q150.621 1431.51 148.793 1435.08 Q146.987 1438.62 146.987 1445.75 Q146.987 1452.86 148.793 1456.42 Q150.621 1459.96 154.232 1459.96 Q157.867 1459.96 159.672 1456.42 Q161.501 1452.86 161.501 1445.75 Q161.501 1438.62 159.672 1435.08 Q157.867 1431.51 154.232 1431.51 M154.232 1427.81 Q160.042 1427.81 163.098 1432.42 Q166.177 1437 166.177 1445.75 Q166.177 1454.48 163.098 1459.08 Q160.042 1463.67 154.232 1463.67 Q148.422 1463.67 145.343 1459.08 Q142.288 1454.48 142.288 1445.75 Q142.288 1437 145.343 1432.42 Q148.422 1427.81 154.232 1427.81 Z\" fill=\"#000000\" fill-rule=\"evenodd\" fill-opacity=\"1\" /><path clip-path=\"url(#clip340)\" d=\"M57.7745 1127.58 L74.0939 1127.58 L74.0939 1131.52 L52.1495 1131.52 L52.1495 1127.58 Q54.8115 1124.83 59.3949 1120.2 Q64.0013 1115.54 65.1819 1114.2 Q67.4272 1111.68 68.3068 1109.94 Q69.2096 1108.18 69.2096 1106.49 Q69.2096 1103.74 67.2652 1102 Q65.3439 1100.27 62.2421 1100.27 Q60.043 1100.27 57.5893 1101.03 Q55.1588 1101.79 52.381 1103.35 L52.381 1098.62 Q55.2051 1097.49 57.6588 1096.91 Q60.1124 1096.33 62.1495 1096.33 Q67.5198 1096.33 70.7142 1099.02 Q73.9087 1101.7 73.9087 1106.19 Q73.9087 1108.32 73.0985 1110.24 Q72.3115 1112.14 70.205 1114.73 Q69.6263 1115.41 66.5245 1118.62 Q63.4226 1121.82 57.7745 1127.58 Z\" fill=\"#000000\" fill-rule=\"evenodd\" fill-opacity=\"1\" /><path clip-path=\"url(#clip340)\" d=\"M93.9086 1100.04 Q90.2975 1100.04 88.4688 1103.6 Q86.6632 1107.14 86.6632 1114.27 Q86.6632 1121.38 88.4688 1124.94 Q90.2975 1128.48 93.9086 1128.48 Q97.5428 1128.48 99.3483 1124.94 Q101.177 1121.38 101.177 1114.27 Q101.177 1107.14 99.3483 1103.6 Q97.5428 1100.04 93.9086 1100.04 M93.9086 1096.33 Q99.7187 1096.33 102.774 1100.94 Q105.853 1105.52 105.853 1114.27 Q105.853 1123 102.774 1127.6 Q99.7187 1132.19 93.9086 1132.19 Q88.0984 1132.19 85.0197 1127.6 Q81.9642 1123 81.9642 1114.27 Q81.9642 1105.52 85.0197 1100.94 Q88.0984 1096.33 93.9086 1096.33 Z\" fill=\"#000000\" fill-rule=\"evenodd\" fill-opacity=\"1\" /><path clip-path=\"url(#clip340)\" d=\"M124.07 1100.04 Q120.459 1100.04 118.631 1103.6 Q116.825 1107.14 116.825 1114.27 Q116.825 1121.38 118.631 1124.94 Q120.459 1128.48 124.07 1128.48 Q127.705 1128.48 129.51 1124.94 Q131.339 1121.38 131.339 1114.27 Q131.339 1107.14 129.51 1103.6 Q127.705 1100.04 124.07 1100.04 M124.07 1096.33 Q129.881 1096.33 132.936 1100.94 Q136.015 1105.52 136.015 1114.27 Q136.015 1123 132.936 1127.6 Q129.881 1132.19 124.07 1132.19 Q118.26 1132.19 115.182 1127.6 Q112.126 1123 112.126 1114.27 Q112.126 1105.52 115.182 1100.94 Q118.26 1096.33 124.07 1096.33 Z\" fill=\"#000000\" fill-rule=\"evenodd\" fill-opacity=\"1\" /><path clip-path=\"url(#clip340)\" d=\"M154.232 1100.04 Q150.621 1100.04 148.793 1103.6 Q146.987 1107.14 146.987 1114.27 Q146.987 1121.38 148.793 1124.94 Q150.621 1128.48 154.232 1128.48 Q157.867 1128.48 159.672 1124.94 Q161.501 1121.38 161.501 1114.27 Q161.501 1107.14 159.672 1103.6 Q157.867 1100.04 154.232 1100.04 M154.232 1096.33 Q160.042 1096.33 163.098 1100.94 Q166.177 1105.52 166.177 1114.27 Q166.177 1123 163.098 1127.6 Q160.042 1132.19 154.232 1132.19 Q148.422 1132.19 145.343 1127.6 Q142.288 1123 142.288 1114.27 Q142.288 1105.52 145.343 1100.94 Q148.422 1096.33 154.232 1096.33 Z\" fill=\"#000000\" fill-rule=\"evenodd\" fill-opacity=\"1\" /><path clip-path=\"url(#clip340)\" d=\"M66.5939 769.551 L54.7884 788 L66.5939 788 L66.5939 769.551 M65.367 765.477 L71.2466 765.477 L71.2466 788 L76.1772 788 L76.1772 791.889 L71.2466 791.889 L71.2466 800.037 L66.5939 800.037 L66.5939 791.889 L50.9921 791.889 L50.9921 787.375 L65.367 765.477 Z\" fill=\"#000000\" fill-rule=\"evenodd\" fill-opacity=\"1\" /><path clip-path=\"url(#clip340)\" d=\"M93.9086 768.556 Q90.2975 768.556 88.4688 772.12 Q86.6632 775.662 86.6632 782.792 Q86.6632 789.898 88.4688 793.463 Q90.2975 797.005 93.9086 797.005 Q97.5428 797.005 99.3483 793.463 Q101.177 789.898 101.177 782.792 Q101.177 775.662 99.3483 772.12 Q97.5428 768.556 93.9086 768.556 M93.9086 764.852 Q99.7187 764.852 102.774 769.458 Q105.853 774.042 105.853 782.792 Q105.853 791.519 102.774 796.125 Q99.7187 800.708 93.9086 800.708 Q88.0984 800.708 85.0197 796.125 Q81.9642 791.519 81.9642 782.792 Q81.9642 774.042 85.0197 769.458 Q88.0984 764.852 93.9086 764.852 Z\" fill=\"#000000\" fill-rule=\"evenodd\" fill-opacity=\"1\" /><path clip-path=\"url(#clip340)\" d=\"M124.07 768.556 Q120.459 768.556 118.631 772.12 Q116.825 775.662 116.825 782.792 Q116.825 789.898 118.631 793.463 Q120.459 797.005 124.07 797.005 Q127.705 797.005 129.51 793.463 Q131.339 789.898 131.339 782.792 Q131.339 775.662 129.51 772.12 Q127.705 768.556 124.07 768.556 M124.07 764.852 Q129.881 764.852 132.936 769.458 Q136.015 774.042 136.015 782.792 Q136.015 791.519 132.936 796.125 Q129.881 800.708 124.07 800.708 Q118.26 800.708 115.182 796.125 Q112.126 791.519 112.126 782.792 Q112.126 774.042 115.182 769.458 Q118.26 764.852 124.07 764.852 Z\" fill=\"#000000\" fill-rule=\"evenodd\" fill-opacity=\"1\" /><path clip-path=\"url(#clip340)\" d=\"M154.232 768.556 Q150.621 768.556 148.793 772.12 Q146.987 775.662 146.987 782.792 Q146.987 789.898 148.793 793.463 Q150.621 797.005 154.232 797.005 Q157.867 797.005 159.672 793.463 Q161.501 789.898 161.501 782.792 Q161.501 775.662 159.672 772.12 Q157.867 768.556 154.232 768.556 M154.232 764.852 Q160.042 764.852 163.098 769.458 Q166.177 774.042 166.177 782.792 Q166.177 791.519 163.098 796.125 Q160.042 800.708 154.232 800.708 Q148.422 800.708 145.343 796.125 Q142.288 791.519 142.288 782.792 Q142.288 774.042 145.343 769.458 Q148.422 764.852 154.232 764.852 Z\" fill=\"#000000\" fill-rule=\"evenodd\" fill-opacity=\"1\" /><path clip-path=\"url(#clip340)\" d=\"M64.3254 449.414 Q61.1773 449.414 59.3254 451.567 Q57.4967 453.72 57.4967 457.47 Q57.4967 461.197 59.3254 463.372 Q61.1773 465.525 64.3254 465.525 Q67.4735 465.525 69.3022 463.372 Q71.1541 461.197 71.1541 457.47 Q71.1541 453.72 69.3022 451.567 Q67.4735 449.414 64.3254 449.414 M73.6077 434.762 L73.6077 439.021 Q71.8485 438.187 70.0429 437.748 Q68.2606 437.308 66.5013 437.308 Q61.8717 437.308 59.418 440.433 Q56.9875 443.558 56.6402 449.877 Q58.006 447.863 60.0662 446.799 Q62.1263 445.711 64.6032 445.711 Q69.8115 445.711 72.8207 448.882 Q75.8531 452.03 75.8531 457.47 Q75.8531 462.794 72.705 466.011 Q69.5568 469.229 64.3254 469.229 Q58.33 469.229 55.1588 464.646 Q51.9875 460.039 51.9875 451.312 Q51.9875 443.118 55.8764 438.257 Q59.7652 433.373 66.3161 433.373 Q68.0754 433.373 69.8578 433.72 Q71.6633 434.067 73.6077 434.762 Z\" fill=\"#000000\" fill-rule=\"evenodd\" fill-opacity=\"1\" /><path clip-path=\"url(#clip340)\" d=\"M93.9086 437.076 Q90.2975 437.076 88.4688 440.641 Q86.6632 444.183 86.6632 451.312 Q86.6632 458.419 88.4688 461.984 Q90.2975 465.525 93.9086 465.525 Q97.5428 465.525 99.3483 461.984 Q101.177 458.419 101.177 451.312 Q101.177 444.183 99.3483 440.641 Q97.5428 437.076 93.9086 437.076 M93.9086 433.373 Q99.7187 433.373 102.774 437.979 Q105.853 442.562 105.853 451.312 Q105.853 460.039 102.774 464.646 Q99.7187 469.229 93.9086 469.229 Q88.0984 469.229 85.0197 464.646 Q81.9642 460.039 81.9642 451.312 Q81.9642 442.562 85.0197 437.979 Q88.0984 433.373 93.9086 433.373 Z\" fill=\"#000000\" fill-rule=\"evenodd\" fill-opacity=\"1\" /><path clip-path=\"url(#clip340)\" d=\"M124.07 437.076 Q120.459 437.076 118.631 440.641 Q116.825 444.183 116.825 451.312 Q116.825 458.419 118.631 461.984 Q120.459 465.525 124.07 465.525 Q127.705 465.525 129.51 461.984 Q131.339 458.419 131.339 451.312 Q131.339 444.183 129.51 440.641 Q127.705 437.076 124.07 437.076 M124.07 433.373 Q129.881 433.373 132.936 437.979 Q136.015 442.562 136.015 451.312 Q136.015 460.039 132.936 464.646 Q129.881 469.229 124.07 469.229 Q118.26 469.229 115.182 464.646 Q112.126 460.039 112.126 451.312 Q112.126 442.562 115.182 437.979 Q118.26 433.373 124.07 433.373 Z\" fill=\"#000000\" fill-rule=\"evenodd\" fill-opacity=\"1\" /><path clip-path=\"url(#clip340)\" d=\"M154.232 437.076 Q150.621 437.076 148.793 440.641 Q146.987 444.183 146.987 451.312 Q146.987 458.419 148.793 461.984 Q150.621 465.525 154.232 465.525 Q157.867 465.525 159.672 461.984 Q161.501 458.419 161.501 451.312 Q161.501 444.183 159.672 440.641 Q157.867 437.076 154.232 437.076 M154.232 433.373 Q160.042 433.373 163.098 437.979 Q166.177 442.562 166.177 451.312 Q166.177 460.039 163.098 464.646 Q160.042 469.229 154.232 469.229 Q148.422 469.229 145.343 464.646 Q142.288 460.039 142.288 451.312 Q142.288 442.562 145.343 437.979 Q148.422 433.373 154.232 433.373 Z\" fill=\"#000000\" fill-rule=\"evenodd\" fill-opacity=\"1\" /><path clip-path=\"url(#clip340)\" d=\"M63.7467 120.666 Q60.4134 120.666 58.4921 122.449 Q56.5939 124.231 56.5939 127.356 Q56.5939 130.481 58.4921 132.264 Q60.4134 134.046 63.7467 134.046 Q67.08 134.046 69.0013 132.264 Q70.9226 130.458 70.9226 127.356 Q70.9226 124.231 69.0013 122.449 Q67.1032 120.666 63.7467 120.666 M59.0708 118.676 Q56.0615 117.935 54.3717 115.875 Q52.7051 113.815 52.7051 110.852 Q52.7051 106.708 55.6449 104.301 Q58.6078 101.893 63.7467 101.893 Q68.9087 101.893 71.8485 104.301 Q74.7883 106.708 74.7883 110.852 Q74.7883 113.815 73.0985 115.875 Q71.4318 117.935 68.4457 118.676 Q71.8253 119.463 73.7003 121.754 Q75.5985 124.046 75.5985 127.356 Q75.5985 132.379 72.5198 135.064 Q69.4642 137.75 63.7467 137.75 Q58.0291 137.75 54.9504 135.064 Q51.8949 132.379 51.8949 127.356 Q51.8949 124.046 53.793 121.754 Q55.6912 119.463 59.0708 118.676 M57.3578 111.291 Q57.3578 113.977 59.0245 115.481 Q60.7143 116.986 63.7467 116.986 Q66.7559 116.986 68.4457 115.481 Q70.1587 113.977 70.1587 111.291 Q70.1587 108.606 68.4457 107.102 Q66.7559 105.597 63.7467 105.597 Q60.7143 105.597 59.0245 107.102 Q57.3578 108.606 57.3578 111.291 Z\" fill=\"#000000\" fill-rule=\"evenodd\" fill-opacity=\"1\" /><path clip-path=\"url(#clip340)\" d=\"M93.9086 105.597 Q90.2975 105.597 88.4688 109.162 Q86.6632 112.703 86.6632 119.833 Q86.6632 126.939 88.4688 130.504 Q90.2975 134.046 93.9086 134.046 Q97.5428 134.046 99.3483 130.504 Q101.177 126.939 101.177 119.833 Q101.177 112.703 99.3483 109.162 Q97.5428 105.597 93.9086 105.597 M93.9086 101.893 Q99.7187 101.893 102.774 106.5 Q105.853 111.083 105.853 119.833 Q105.853 128.56 102.774 133.166 Q99.7187 137.75 93.9086 137.75 Q88.0984 137.75 85.0197 133.166 Q81.9642 128.56 81.9642 119.833 Q81.9642 111.083 85.0197 106.5 Q88.0984 101.893 93.9086 101.893 Z\" fill=\"#000000\" fill-rule=\"evenodd\" fill-opacity=\"1\" /><path clip-path=\"url(#clip340)\" d=\"M124.07 105.597 Q120.459 105.597 118.631 109.162 Q116.825 112.703 116.825 119.833 Q116.825 126.939 118.631 130.504 Q120.459 134.046 124.07 134.046 Q127.705 134.046 129.51 130.504 Q131.339 126.939 131.339 119.833 Q131.339 112.703 129.51 109.162 Q127.705 105.597 124.07 105.597 M124.07 101.893 Q129.881 101.893 132.936 106.5 Q136.015 111.083 136.015 119.833 Q136.015 128.56 132.936 133.166 Q129.881 137.75 124.07 137.75 Q118.26 137.75 115.182 133.166 Q112.126 128.56 112.126 119.833 Q112.126 111.083 115.182 106.5 Q118.26 101.893 124.07 101.893 Z\" fill=\"#000000\" fill-rule=\"evenodd\" fill-opacity=\"1\" /><path clip-path=\"url(#clip340)\" d=\"M154.232 105.597 Q150.621 105.597 148.793 109.162 Q146.987 112.703 146.987 119.833 Q146.987 126.939 148.793 130.504 Q150.621 134.046 154.232 134.046 Q157.867 134.046 159.672 130.504 Q161.501 126.939 161.501 119.833 Q161.501 112.703 159.672 109.162 Q157.867 105.597 154.232 105.597 M154.232 101.893 Q160.042 101.893 163.098 106.5 Q166.177 111.083 166.177 119.833 Q166.177 128.56 163.098 133.166 Q160.042 137.75 154.232 137.75 Q148.422 137.75 145.343 133.166 Q142.288 128.56 142.288 119.833 Q142.288 111.083 145.343 106.5 Q148.422 101.893 154.232 101.893 Z\" fill=\"#000000\" fill-rule=\"evenodd\" fill-opacity=\"1\" /><circle clip-path=\"url(#clip342)\" cx=\"263.042\" cy=\"1445.72\" r=\"14\" fill=\"#009af9\" fill-rule=\"evenodd\" fill-opacity=\"1\" stroke=\"#000000\" stroke-opacity=\"1\" stroke-width=\"3.2\"/>\n",
       "<circle clip-path=\"url(#clip342)\" cx=\"432.113\" cy=\"878.555\" r=\"14\" fill=\"#009af9\" fill-rule=\"evenodd\" fill-opacity=\"1\" stroke=\"#000000\" stroke-opacity=\"1\" stroke-width=\"3.2\"/>\n",
       "<circle clip-path=\"url(#clip342)\" cx=\"601.184\" cy=\"207.64\" r=\"14\" fill=\"#009af9\" fill-rule=\"evenodd\" fill-opacity=\"1\" stroke=\"#000000\" stroke-opacity=\"1\" stroke-width=\"3.2\"/>\n",
       "<circle clip-path=\"url(#clip342)\" cx=\"939.325\" cy=\"105.71\" r=\"14\" fill=\"#009af9\" fill-rule=\"evenodd\" fill-opacity=\"1\" stroke=\"#000000\" stroke-opacity=\"1\" stroke-width=\"3.2\"/>\n",
       "<circle clip-path=\"url(#clip342)\" cx=\"1615.61\" cy=\"88.3078\" r=\"14\" fill=\"#009af9\" fill-rule=\"evenodd\" fill-opacity=\"1\" stroke=\"#000000\" stroke-opacity=\"1\" stroke-width=\"3.2\"/>\n",
       "<circle clip-path=\"url(#clip342)\" cx=\"2291.89\" cy=\"87.9763\" r=\"14\" fill=\"#009af9\" fill-rule=\"evenodd\" fill-opacity=\"1\" stroke=\"#000000\" stroke-opacity=\"1\" stroke-width=\"3.2\"/>\n",
       "<path clip-path=\"url(#clip340)\" d=\"\n",
       "M1989.69 198.898 L2281.07 198.898 L2281.07 95.2176 L1989.69 95.2176  Z\n",
       "  \" fill=\"#ffffff\" fill-rule=\"evenodd\" fill-opacity=\"1\"/>\n",
       "<polyline clip-path=\"url(#clip340)\" style=\"stroke:#000000; stroke-linecap:butt; stroke-linejoin:round; stroke-width:4; stroke-opacity:1; fill:none\" points=\"\n",
       "  1989.69,198.898 2281.07,198.898 2281.07,95.2176 1989.69,95.2176 1989.69,198.898 \n",
       "  \"/>\n",
       "<circle clip-path=\"url(#clip340)\" cx=\"2085.27\" cy=\"147.058\" r=\"23\" fill=\"#009af9\" fill-rule=\"evenodd\" fill-opacity=\"1\" stroke=\"#000000\" stroke-opacity=\"1\" stroke-width=\"5.12\"/>\n",
       "<path clip-path=\"url(#clip340)\" d=\"M2194.69 166.745 Q2192.89 171.375 2191.17 172.787 Q2189.46 174.199 2186.59 174.199 L2183.19 174.199 L2183.19 170.634 L2185.69 170.634 Q2187.45 170.634 2188.42 169.8 Q2189.39 168.967 2190.57 165.865 L2191.34 163.921 L2180.85 138.412 L2185.36 138.412 L2193.46 158.689 L2201.57 138.412 L2206.08 138.412 L2194.69 166.745 Z\" fill=\"#000000\" fill-rule=\"evenodd\" fill-opacity=\"1\" /><path clip-path=\"url(#clip340)\" d=\"M2213.37 160.402 L2221.01 160.402 L2221.01 134.037 L2212.7 135.703 L2212.7 131.444 L2220.96 129.778 L2225.64 129.778 L2225.64 160.402 L2233.28 160.402 L2233.28 164.338 L2213.37 164.338 L2213.37 160.402 Z\" fill=\"#000000\" fill-rule=\"evenodd\" fill-opacity=\"1\" /></svg>\n"
      ]
     },
     "execution_count": 28,
     "metadata": {},
     "output_type": "execute_result"
    }
   ],
   "source": [
    "sampling_points, repeat_kmer_counts = assess_kmer_saturation(sorted_fastq_file, kmer_type, max_reads=n_reads, power=2)\n",
    "StatsPlots.scatter(sampling_points, repeat_kmer_counts)"
   ]
  },
  {
   "cell_type": "code",
   "execution_count": 29,
   "id": "52f0cb19-a653-4617-a12f-ad2c6c478dc2",
   "metadata": {},
   "outputs": [],
   "source": [
    "x = 1 ./sampling_points[2:end]\n",
    "y = 1 ./repeat_kmer_counts[2:end]\n",
    "# StatsPlots.scatter(x, y, legend=false)\n",
    "model = GLM.lm(GLM.@formula(Y ~ X), DataFrames.DataFrame(X = x, Y = y))\n",
    "# y-intercept = 1/vmax\n",
    "b = GLM.coef(model)[1]\n",
    "vmax = 1/b\n",
    "@show vmax\n",
    "sparsity = vmax / max_canonical_kmers(kmer_type)\n",
    "@show sparsity\n",
    "m = GLM.coef(model)[2]\n",
    "X_intercept = (0 - b) / m\n",
    "# x-intercept = -1/KM\n",
    "k_midpoint = -1/X_intercept\n",
    "if (sparsity) < 1\n",
    "    @show \"acheived sparsity\"\n",
    "    @show k_midpoint\n",
    "end"
   ]
  },
  {
   "cell_type": "code",
   "execution_count": 30,
   "id": "3ee461c7-9109-43d8-92e9-94a3f6f74e2e",
   "metadata": {},
   "outputs": [
    {
     "data": {
      "text/plain": [
       "BioSequences.DNAMer{11} (alias for BioSequences.Mer{BioSequences.DNAAlphabet{2}, 11})"
      ]
     },
     "execution_count": 30,
     "metadata": {},
     "output_type": "execute_result"
    }
   ],
   "source": [
    "k = ks[4]\n",
    "kmer_type = BioSequences.DNAMer{k}"
   ]
  },
  {
   "cell_type": "code",
   "execution_count": null,
   "id": "7ad15999-0338-4a74-b9a1-b48272fec8f8",
   "metadata": {},
   "outputs": [
    {
     "name": "stderr",
     "output_type": "stream",
     "text": [
      "┌ Info: total reads being considered = 10000\n",
      "└ @ Main In[10]:10\n",
      "┌ Info: maximim kmers = 2097152\n",
      "└ @ Main In[10]:14\n"
     ]
    },
    {
     "name": "stdout",
     "output_type": "stream",
     "text": [
      "(read_number, percent_saturation) = (1, 1.023)\n",
      "(read_number, percent_saturation) = (2, 1.8458999999999999)\n",
      "(read_number, percent_saturation) = (4, 3.2815999999999996)\n",
      "(read_number, percent_saturation) = (8, 5.0761)\n"
     ]
    },
    {
     "name": "stderr",
     "output_type": "stream",
     "text": [
      "\u001b[32mProgress:   0%|                                         |  ETA: 0:13:51\u001b[39m"
     ]
    },
    {
     "name": "stdout",
     "output_type": "stream",
     "text": [
      "(read_number, percent_saturation) = (16, 10.56)\n",
      "(read_number, percent_saturation) = (32, 18.3)\n",
      "(read_number, percent_saturation) = (64, 33.219)\n"
     ]
    },
    {
     "name": "stderr",
     "output_type": "stream",
     "text": [
      "\u001b[32mProgress:   1%|▌                                        |  ETA: 0:12:59\u001b[39m"
     ]
    },
    {
     "name": "stdout",
     "output_type": "stream",
     "text": [
      "(read_number, percent_saturation) = (128, 55.60699999999999)\n"
     ]
    },
    {
     "name": "stderr",
     "output_type": "stream",
     "text": [
      "\u001b[32mProgress:   2%|█                                        |  ETA: 0:11:24\u001b[39m"
     ]
    },
    {
     "name": "stdout",
     "output_type": "stream",
     "text": [
      "(read_number, percent_saturation) = (256, 80.61399999999999)\n"
     ]
    },
    {
     "name": "stderr",
     "output_type": "stream",
     "text": [
      "\u001b[32mProgress:   5%|██▏                                      |  ETA: 0:10:03\u001b[39m"
     ]
    },
    {
     "name": "stdout",
     "output_type": "stream",
     "text": [
      "(read_number, percent_saturation) = (512, 94.119)\n"
     ]
    },
    {
     "name": "stderr",
     "output_type": "stream",
     "text": [
      "\u001b[32mProgress:  10%|████▎                                    |  ETA: 0:08:19\u001b[39m"
     ]
    },
    {
     "name": "stdout",
     "output_type": "stream",
     "text": [
      "(read_number, percent_saturation) = (1024, 99.22800000000001)\n"
     ]
    },
    {
     "name": "stderr",
     "output_type": "stream",
     "text": [
      "\u001b[32mProgress:  11%|████▍                                    |  ETA: 0:08:10\u001b[39m"
     ]
    }
   ],
   "source": [
    "sampling_points, repeat_kmer_counts = assess_kmer_saturation(sorted_fastq_file, kmer_type, max_reads=n_reads, power=2)\n",
    "StatsPlots.scatter(sampling_points, repeat_kmer_counts)"
   ]
  },
  {
   "cell_type": "code",
   "execution_count": null,
   "id": "b6bd3137-145e-46de-881d-6a7d80681c73",
   "metadata": {},
   "outputs": [],
   "source": [
    "x = 1 ./sampling_points[2:end]\n",
    "y = 1 ./repeat_kmer_counts[2:end]\n",
    "# StatsPlots.scatter(x, y, legend=false)\n",
    "model = GLM.lm(GLM.@formula(Y ~ X), DataFrames.DataFrame(X = x, Y = y))\n",
    "# y-intercept = 1/vmax\n",
    "b = GLM.coef(model)[1]\n",
    "vmax = 1/b\n",
    "@show vmax\n",
    "sparsity = vmax / max_canonical_kmers(kmer_type)\n",
    "@show sparsity\n",
    "m = GLM.coef(model)[2]\n",
    "X_intercept = (0 - b) / m\n",
    "# x-intercept = -1/KM\n",
    "k_midpoint = -1/X_intercept\n",
    "if (sparsity) < 1\n",
    "    @show \"acheived sparsity\"\n",
    "    @show k_midpoint\n",
    "end"
   ]
  },
  {
   "cell_type": "code",
   "execution_count": null,
   "id": "efbd97be-b949-4f25-b923-255aacd4369a",
   "metadata": {},
   "outputs": [],
   "source": [
    "k = ks[5]\n",
    "kmer_type = BioSequences.DNAMer{k}"
   ]
  },
  {
   "cell_type": "code",
   "execution_count": null,
   "id": "54b4625f-5d29-494a-9304-6bf630670100",
   "metadata": {},
   "outputs": [],
   "source": [
    "sampling_points, repeat_kmer_counts = assess_kmer_saturation(sorted_fastq_file, kmer_type, max_reads=n_reads, power=2)\n",
    "StatsPlots.scatter(sampling_points, repeat_kmer_counts)"
   ]
  },
  {
   "cell_type": "code",
   "execution_count": null,
   "id": "57ba9fe1-d251-4382-b2dd-75f90e2d8d91",
   "metadata": {},
   "outputs": [],
   "source": [
    "# can I use lineweaver burk plot to calculate vmax?\n",
    "# https://youtu.be/koecLoRB2UE"
   ]
  },
  {
   "cell_type": "code",
   "execution_count": null,
   "id": "3d046409-6c11-4bbe-9d24-973ae4fdcb9d",
   "metadata": {},
   "outputs": [],
   "source": [
    "x = 1 ./sampling_points[2:end]\n",
    "y = 1 ./repeat_kmer_counts[2:end]\n",
    "# StatsPlots.scatter(x, y, legend=false)\n",
    "model = GLM.lm(GLM.@formula(Y ~ X), DataFrames.DataFrame(X = x, Y = y))\n",
    "# y-intercept = 1/vmax\n",
    "b = GLM.coef(model)[1]\n",
    "vmax = 1/b\n",
    "sparsity = vmax / max_canonical_kmers(kmer_type)\n",
    "m = GLM.coef(model)[2]\n",
    "X_intercept = (0 - b) / m\n",
    "# x-intercept = -1/KM\n",
    "k_midpoint = -1/X_intercept\n",
    "if (sparsity) < 1\n",
    "    @show \"acheived sparsity\"\n",
    "    @show k_midpoint\n",
    "end"
   ]
  },
  {
   "cell_type": "code",
   "execution_count": null,
   "id": "cf299b60-2642-45f4-bc72-a5a667f2d416",
   "metadata": {},
   "outputs": [],
   "source": [
    "n_reads_to_sample = Int(ceil(max(n_reads, k_midpoint)))"
   ]
  },
  {
   "cell_type": "code",
   "execution_count": null,
   "id": "b924ea58-9bb1-4056-945f-3f100878aa74",
   "metadata": {},
   "outputs": [],
   "source": [
    "# fit linear regression against this"
   ]
  },
  {
   "cell_type": "code",
   "execution_count": null,
   "id": "14130baf-0c8e-450c-bd32-e7c92db648db",
   "metadata": {},
   "outputs": [],
   "source": [
    "# solve for vmax"
   ]
  },
  {
   "cell_type": "code",
   "execution_count": null,
   "id": "2c6ef03f-85df-47ee-87f2-5d1eafeba84b",
   "metadata": {},
   "outputs": [],
   "source": [
    "# if vmax < maximum possible kmers, we've hit saturation"
   ]
  },
  {
   "cell_type": "code",
   "execution_count": null,
   "id": "548a9553-8bdc-4833-ba51-731612e03df7",
   "metadata": {},
   "outputs": [],
   "source": [
    "# figure out how many reads we need to get to km"
   ]
  },
  {
   "cell_type": "code",
   "execution_count": null,
   "id": "eaa55d99-5669-4298-a50c-37c288face23",
   "metadata": {},
   "outputs": [],
   "source": [
    "# downsample to km"
   ]
  },
  {
   "cell_type": "code",
   "execution_count": null,
   "id": "ba6c0e02-1711-444d-8d8f-5df37613199a",
   "metadata": {},
   "outputs": [],
   "source": [
    "# plot kmer spectra frequency"
   ]
  },
  {
   "cell_type": "code",
   "execution_count": null,
   "id": "36e25b62-a4cb-476c-94c0-a038b9d63896",
   "metadata": {},
   "outputs": [],
   "source": [
    "kmer_counts = sort!(Mycelia.count_canonical_kmers(BioSequences.BigDNAMer{k}, genome))"
   ]
  },
  {
   "cell_type": "code",
   "execution_count": null,
   "id": "b48acbb5-9bd2-45c3-b518-1d0096a6f29d",
   "metadata": {},
   "outputs": [],
   "source": [
    "K = length(keys(kmer_counts))"
   ]
  },
  {
   "cell_type": "code",
   "execution_count": null,
   "id": "3ad5ecaa-1566-43ef-9716-09d2bb71142f",
   "metadata": {},
   "outputs": [],
   "source": [
    "# create an undirected kmer graph from the sequence"
   ]
  },
  {
   "cell_type": "code",
   "execution_count": null,
   "id": "eea8a51d-6f61-4409-91f2-c9206c94e578",
   "metadata": {},
   "outputs": [],
   "source": [
    "graph = MetaGraphs.MetaGraph(K)"
   ]
  },
  {
   "cell_type": "code",
   "execution_count": null,
   "id": "9550366b-c8d0-4eee-8742-c5b52d3d1f19",
   "metadata": {},
   "outputs": [],
   "source": [
    "for (i, (kmer, count)) in enumerate(kmer_counts)\n",
    "    @show i, kmer, count\n",
    "    @show MetaGraphs.set_prop!(graph, i, :kmer, kmer)\n",
    "    @show MetaGraphs.set_prop!(graph, i, :count, count)\n",
    "end"
   ]
  },
  {
   "cell_type": "code",
   "execution_count": null,
   "id": "098cb159-5e23-405b-bacf-43c75f1d001f",
   "metadata": {},
   "outputs": [],
   "source": [
    "graph.vprops"
   ]
  },
  {
   "cell_type": "code",
   "execution_count": null,
   "id": "08821979-313e-4fbf-a33f-3400e514170f",
   "metadata": {},
   "outputs": [],
   "source": [
    "kmers = collect(keys(kmer_counts))"
   ]
  },
  {
   "cell_type": "code",
   "execution_count": null,
   "id": "30670fcf-ac1d-4653-b386-b118dfd39cfa",
   "metadata": {},
   "outputs": [],
   "source": [
    "for i in 1:length(genome)-k\n",
    "    edge_range = i:i+k\n",
    "    edge = genome[edge_range]\n",
    "    src = BioSequences.BigDNAMer{k}(edge[1:end-1])\n",
    "    dst = BioSequences.BigDNAMer{k}(edge[2:end])\n",
    "    canonical_src = BioSequences.canonical(src)\n",
    "    canonical_dst = BioSequences.canonical(dst)\n",
    "    src_index = Mycelia.get_kmer_index(kmers, canonical_src)\n",
    "    dst_index = Mycelia.get_kmer_index(kmers, canonical_dst)\n",
    "    @show edge\n",
    "    @show src_index, src == canonical_src, dst_index, dst == canonical_dst\n",
    "    graph_edge = LightGraphs.Edge(src_index, dst_index)\n",
    "    if LightGraphs.has_edge(graph, graph_edge)\n",
    "        current_count = graph.eprops[graph_edge][:count]\n",
    "        MetaGraphs.set_prop!(graph, graph_edge, :count, current_count+1)\n",
    "    else\n",
    "        LightGraphs.add_edge!(graph, graph_edge)\n",
    "        MetaGraphs.set_prop!(graph, graph_edge, :count, 1)\n",
    "    end\n",
    "end"
   ]
  },
  {
   "cell_type": "code",
   "execution_count": null,
   "id": "d47cfd3e-b739-481a-8e9c-eec0c264900e",
   "metadata": {},
   "outputs": [],
   "source": [
    "graph"
   ]
  },
  {
   "cell_type": "code",
   "execution_count": null,
   "id": "b9d4edf4-941e-42b0-9c4b-7ad219132045",
   "metadata": {},
   "outputs": [],
   "source": [
    "graph.eprops"
   ]
  },
  {
   "cell_type": "code",
   "execution_count": null,
   "id": "62b9d2f5-14e6-4f7a-8013-d32cf1bc1da5",
   "metadata": {},
   "outputs": [],
   "source": [
    "nodesize = [graph.vprops[v][:count] for v in 1:LightGraphs.nv(graph)]\n",
    "nodelabel = [graph.vprops[v][:kmer] for v in 1:LightGraphs.nv(graph)]\n",
    "# GraphPlot.gplot(graph, nodesize=nodesize, nodelabel=nodelabel)\n",
    "GraphPlot.gplot(graph, nodesize=nodesize)"
   ]
  },
  {
   "cell_type": "code",
   "execution_count": null,
   "id": "0a779414-f692-435a-8b0d-84f9b1c88d5d",
   "metadata": {},
   "outputs": [],
   "source": [
    "edge_likelihoods = determine_edge_probabilities(graph)"
   ]
  },
  {
   "cell_type": "code",
   "execution_count": null,
   "id": "b624dafc-3705-4ecb-b60e-d974a57bf8d7",
   "metadata": {},
   "outputs": [],
   "source": [
    "# take yen_k shortest paths"
   ]
  },
  {
   "cell_type": "code",
   "execution_count": null,
   "id": "ba83fe3e-b412-44d6-b827-0eaf765f308a",
   "metadata": {},
   "outputs": [],
   "source": [
    "genome_kmers = collect(BioSequences.each(BioSequences.BigDNAMer{k}, genome))"
   ]
  },
  {
   "cell_type": "code",
   "execution_count": null,
   "id": "8f548ff0-67c5-44a2-94a0-a8204124ae17",
   "metadata": {},
   "outputs": [],
   "source": [
    "# make a SNP edit to the genome"
   ]
  },
  {
   "cell_type": "code",
   "execution_count": null,
   "id": "3a2d58a3-2431-42c7-b75d-85e3441cfd8f",
   "metadata": {},
   "outputs": [],
   "source": [
    "# seed = 0\n",
    "# seed = 1\n",
    "# seed = 2\n",
    "# seed = 3\n",
    "# seed = 4\n",
    "# seed = 5\n",
    "# seed = 6\n",
    "# seed = 7\n",
    "# seed = 8\n",
    "seed = 9"
   ]
  },
  {
   "cell_type": "code",
   "execution_count": null,
   "id": "8a22b5a8-c3d8-409d-b483-26b59bd221b9",
   "metadata": {},
   "outputs": [],
   "source": [
    "@show seed\n",
    "Random.seed!(seed)\n",
    "observation = Mycelia.observe(genome, error_rate = 0.1)"
   ]
  },
  {
   "cell_type": "code",
   "execution_count": null,
   "id": "7d8168eb-65f8-455c-8c43-9c4830502695",
   "metadata": {},
   "outputs": [],
   "source": [
    "alignment = BioAlignments.pairalign(BioAlignments.LevenshteinDistance(), observation, genome)"
   ]
  },
  {
   "cell_type": "code",
   "execution_count": null,
   "id": "57510fd3-5848-4471-bc29-f119ad4986c1",
   "metadata": {},
   "outputs": [],
   "source": [
    "reverse_alignment = BioAlignments.pairalign(BioAlignments.LevenshteinDistance(), BioSequences.reverse_complement(observation), genome)"
   ]
  },
  {
   "cell_type": "code",
   "execution_count": null,
   "id": "ffdd8d70-c134-47e4-94b4-7ffa58f6f70d",
   "metadata": {},
   "outputs": [],
   "source": [
    "if reverse_alignment.value < alignment.value\n",
    "    observation = BioSequences.reverse_complement(observation)\n",
    "    alignment = reverse_alignment\n",
    "    @show \"flipping\"\n",
    "end"
   ]
  },
  {
   "cell_type": "code",
   "execution_count": null,
   "id": "c9191717-8c33-4f22-85d5-e42d434fb25d",
   "metadata": {},
   "outputs": [],
   "source": [
    "# convert genome into stranded path"
   ]
  },
  {
   "cell_type": "code",
   "execution_count": null,
   "id": "c162ae04-c3ad-4658-8142-c5fa3ad7a543",
   "metadata": {},
   "outputs": [],
   "source": [
    "# function sequence_to_\n",
    "observation_as_oriented_kmers = []\n",
    "observation_kmers = collect(BioSequences.each(BioSequences.BigDNAMer{k}, observation))"
   ]
  },
  {
   "cell_type": "code",
   "execution_count": null,
   "id": "d3b63e69-1c33-4f4b-8c3e-c358089557f8",
   "metadata": {},
   "outputs": [],
   "source": [
    "genome_kmers"
   ]
  },
  {
   "cell_type": "code",
   "execution_count": null,
   "id": "e7fd3359-2116-42b9-a4df-48df59e2deb5",
   "metadata": {},
   "outputs": [],
   "source": [
    "is_canonical = falses(length(observation_kmers))\n",
    "kmer_index = zeros(Int, length(observation_kmers))\n",
    "for (i, kmer) in enumerate(observation_kmers)\n",
    "#     is_canonical[i] = kmer.fw <= kmer.bw\n",
    "    canonical_kmer = BioSequences.canonical(kmer.fw)\n",
    "    is_canonical[i] = kmer.fw == canonical_kmer\n",
    "    kmer_index_range = searchsorted(kmers, canonical_kmer)\n",
    "    if length(kmer_index_range) > 1\n",
    "        @error \"bad\"\n",
    "    elseif isempty(kmer_index_range)\n",
    "        # do nothing, index is 0 to indicate not found\n",
    "    else\n",
    "        kmer_index[i] = first(kmer_index_range)\n",
    "    end\n",
    "end"
   ]
  },
  {
   "cell_type": "code",
   "execution_count": null,
   "id": "e9c7e7b3-7d18-463f-a74b-47a2bd28307a",
   "metadata": {},
   "outputs": [],
   "source": [
    "is_canonical"
   ]
  },
  {
   "cell_type": "code",
   "execution_count": null,
   "id": "95d066fe-c611-4e94-bc74-e00afe1eea0b",
   "metadata": {},
   "outputs": [],
   "source": [
    "kmer_index"
   ]
  },
  {
   "cell_type": "code",
   "execution_count": null,
   "id": "572e131f-7063-47c9-a5bf-617cde17b07c",
   "metadata": {},
   "outputs": [],
   "source": [
    "proposed_path = BioSequences.BigDNAMer{k}[]\n",
    "opening_missing_kmer_path_index = findfirst(x -> x == 0, kmer_index)\n",
    "\n",
    "# read is solid!\n",
    "if opening_missing_kmer_path_index == nothing\n",
    "#     proposed_seq = observation\n",
    "    proposed_path = [kmer.fw for kmer in observation_kmers]\n",
    "    @show \"perfect read\"\n",
    "elseif all(index -> index == 0, kmer_index)\n",
    "    @show \"read is trash\"\n",
    "    # generate a new read from the assembly to replace this one\n",
    "\n",
    "    observation_path_length = length(observation_kmers)\n",
    "    proposed_path = nothing\n",
    "    proposed_path_size_discrepancy = Inf\n",
    "    starting_kmer_indices = StatsBase.sample(1:LightGraphs.nv(graph), min(10, LightGraphs.nv(graph)), replace=false)\n",
    "    for starting_kmer_index in starting_kmer_indices\n",
    "        starting_kmer_index = rand(1:LightGraphs.nv(graph))\n",
    "        @show starting_kmer_index\n",
    "        starting_kmer = graph.vprops[starting_kmer_index][:kmer]\n",
    "        if rand(Bool)\n",
    "            starting_kmer = BioSequences.reverse_complement(starting_kmer)\n",
    "        end\n",
    "        candidate_path = take_a_walk(graph, edge_likelihoods, kmers, starting_kmer, observation_path_length)\n",
    "        discrepancy = abs(length(candidate_path) - observation_path_length)\n",
    "        @show discrepancy\n",
    "        if discrepancy < proposed_path_size_discrepancy\n",
    "            proposed_path = candidate_path\n",
    "            proposed_path_size_discrepancy = discrepancy\n",
    "            if proposed_path_size_discrepancy == 0\n",
    "                break\n",
    "            end\n",
    "        end\n",
    "    end\n",
    "else\n",
    "    if opening_missing_kmer_path_index == 1\n",
    "        opening_solid_kmer = nothing\n",
    "    #     closing_solid_kmer_path_index = findnext(map(x -> x != 0, kmer_index), opening_missing_kmer_path_index+1)\n",
    "    elseif opening_missing_kmer_path_index != nothing\n",
    "        opening_solid_kmer_path_index = opening_missing_kmer_path_index - 1\n",
    "        opening_solid_kmer = observation_kmers[opening_solid_kmer_path_index].fw\n",
    "    end\n",
    "\n",
    "    if opening_missing_kmer_path_index == nothing\n",
    "        closing_solid_kmer_path_index = findnext(map(x -> x != 0, kmer_index), 1)\n",
    "    else\n",
    "        closing_solid_kmer_path_index = findnext(map(x -> x != 0, kmer_index), opening_missing_kmer_path_index+1)\n",
    "    end\n",
    "    if closing_solid_kmer_path_index == nothing\n",
    "        @show \"end is open\"\n",
    "        closing_solid_kmer = nothing\n",
    "    else\n",
    "        closing_solid_kmer = observation_kmers[closing_solid_kmer_path_index].fw\n",
    "    end\n",
    "\n",
    "\n",
    "    extensions = 0\n",
    "    while (opening_missing_kmer_path_index != nothing) && (extensions < 5)\n",
    "        extensions += 1\n",
    "        @show extensions\n",
    "\n",
    "        if (opening_solid_kmer == nothing) && (closing_solid_kmer != nothing)\n",
    "            @show \"missing opening\"\n",
    "            @show closing_solid_kmer\n",
    "            inverted_closing_solid_kmer = BioSequences.reverse_complement(closing_solid_kmer)\n",
    "            @show inverted_closing_solid_kmer\n",
    "            walk_length = closing_solid_kmer_path_index\n",
    "            chosen_walk = take_a_walk(graph, edge_likelihoods, kmers, inverted_closing_solid_kmer, walk_length)\n",
    "            chosen_walk = reverse(BioSequences.reverse_complement.(chosen_walk))\n",
    "            @show chosen_walk\n",
    "            @show closing_solid_kmer_path_index\n",
    "            @assert observation_kmers[closing_solid_kmer_path_index].fw == last(chosen_walk)\n",
    "            proposed_path = chosen_walk\n",
    "            opening_missing_kmer_path_index = findnext(map(x -> x == 0, kmer_index), closing_solid_kmer_path_index+1)\n",
    "\n",
    "            if opening_missing_kmer_path_index == 1\n",
    "                opening_solid_kmer = nothing\n",
    "            elseif opening_missing_kmer_path_index != nothing\n",
    "                need_to_add = getproperty.(observation_kmers[closing_solid_kmer_path_index+1:opening_missing_kmer_path_index-1], :fw)\n",
    "                append!(proposed_path, need_to_add)\n",
    "                opening_solid_kmer_path_index = opening_missing_kmer_path_index - 1\n",
    "                opening_solid_kmer = observation_kmers[opening_solid_kmer_path_index].fw\n",
    "                closing_solid_kmer_path_index = findnext(map(x -> x != 0, kmer_index), opening_missing_kmer_path_index+1)\n",
    "                if closing_solid_kmer_path_index == nothing\n",
    "                    closing_solid_kmer = nothing\n",
    "                else\n",
    "                    closing_solid_kmer = observation_kmers[closing_solid_kmer_path_index].fw\n",
    "                end\n",
    "            end\n",
    "        end\n",
    "\n",
    "        if (opening_solid_kmer != nothing) && (closing_solid_kmer == nothing)\n",
    "            @show \"missing closing\"\n",
    "            walk_length = length(observation_kmers) - opening_solid_kmer_path_index+1\n",
    "            chosen_walk = take_a_walk(graph, edge_likelihoods, kmers, opening_solid_kmer, walk_length)\n",
    "            @show chosen_walk\n",
    "            @assert observation_kmers[opening_solid_kmer_path_index].fw == first(chosen_walk)\n",
    "            if isempty(proposed_path)\n",
    "                proposed_path = getproperty.(observation_kmers[1:opening_solid_kmer_path_index], :fw)\n",
    "            end\n",
    "            append!(proposed_path, chosen_walk[2:end])\n",
    "            opening_missing_kmer_path_index = nothing\n",
    "        end\n",
    "\n",
    "        while (opening_solid_kmer != nothing) && (closing_solid_kmer != nothing)\n",
    "            @show \"bubble!\"\n",
    "            opening_solid_kmer_index = kmer_index[opening_solid_kmer_path_index]\n",
    "            closing_solid_kmer_index = kmer_index[closing_solid_kmer_path_index]\n",
    "\n",
    "            @show opening_solid_kmer, opening_solid_kmer_path_index\n",
    "            @show closing_solid_kmer, closing_solid_kmer_path_index\n",
    "            @show length(proposed_path)\n",
    "            \n",
    "            #####################################################################################\n",
    "            # DETERMINE PATH LENGTH\n",
    "            #####################################################################################\n",
    "            # by default, we're assuming that we want to walk the same distance as our bubble + 1\n",
    "            bubble_path_length = closing_solid_kmer_path_index - opening_solid_kmer_path_index + 1\n",
    "\n",
    "            if opening_solid_kmer_index != closing_solid_kmer_index\n",
    "                path = LightGraphs.a_star(graph, opening_solid_kmer_index, closing_solid_kmer_index)\n",
    "                normalized_path = Int[path[1].src, [edge.dst for edge in path]...]\n",
    "                shortest_paths = [normalized_path]\n",
    "            else\n",
    "                neighbors = LightGraphs.neighbors(graph, opening_solid_kmer_index)\n",
    "                shortest_paths = Vector{Vector{Int}}()\n",
    "                for neighbor in neighbors\n",
    "                    path = LightGraphs.a_star(graph, neighbor, closing_solid_kmer_index)\n",
    "                    normalized_path = Int[path[1].src, [edge.dst for edge in path]...]\n",
    "                    push!(shortest_paths, normalized_path)\n",
    "                end\n",
    "            end\n",
    "            # but if our bubble is a deletion, then walking that length may not get us across to the other side\n",
    "            # so we also determine the longest, shortest path\n",
    "            longest_shortest_walk_length = maximum(length.(shortest_paths))\n",
    "\n",
    "\n",
    "            longest_walk_length = max(bubble_path_length, longest_shortest_walk_length)\n",
    "            walk_length = Int(ceil(longest_walk_length * 1.1))\n",
    "\n",
    "            walks = Vector{Int}[]\n",
    "            for i in 1:3\n",
    "                println(\"round $i\")\n",
    "                walks = [take_a_walk(graph, edge_likelihoods, kmers, opening_solid_kmer, walk_length)]\n",
    "                while allunique(walks)\n",
    "                    push!(walks, take_a_walk(graph, edge_likelihoods, kmers, opening_solid_kmer, walk_length))\n",
    "                end\n",
    "\n",
    "                walks = filter(path -> closing_solid_kmer in path, walks)\n",
    "\n",
    "                if isempty(walks)\n",
    "                    walk_length = Int(ceil(walk_length * 1.1))\n",
    "                else\n",
    "                    # done!\n",
    "                    break\n",
    "                end\n",
    "            end\n",
    "\n",
    "            if !isempty(walks)\n",
    "                candidate_paths = sort(collect(StatsBase.countmap(walks)), by=x->x[2], rev=true)\n",
    "                selected_path = first(first(candidate_paths))\n",
    "                selected_path_closing_solid_kmer_intersects = findall(kmer -> kmer == closing_solid_kmer, selected_path)\n",
    "                if length(selected_path_closing_solid_kmer_intersects) > 1\n",
    "                    @show \"here\"\n",
    "                    selected_path_closing_solid_kmer_intersect = 0\n",
    "                    d = Inf\n",
    "                    for i in selected_path_closing_solid_kmer_intersects\n",
    "                        candidate_distance = abs(i - walk_length)\n",
    "                        if candidate_distance < d\n",
    "                            d = candidate_distance\n",
    "                            selected_path_closing_solid_kmer_intersect = i\n",
    "                        end\n",
    "                    end\n",
    "                else\n",
    "                    selected_path_closing_solid_kmer_intersect = first(selected_path_closing_solid_kmer_intersects)\n",
    "                end\n",
    "                selected_path = selected_path[1:selected_path_closing_solid_kmer_intersect]\n",
    "                if isempty(proposed_path)\n",
    "                    proposed_path = getproperty.(observation_kmers[1:opening_solid_kmer_path_index], :fw)\n",
    "                end\n",
    "                append!(proposed_path, selected_path[2:end])\n",
    "                opening_missing_kmer_path_index = findnext(map(x -> x == 0, kmer_index), closing_solid_kmer_path_index+1)\n",
    "                if opening_missing_kmer_path_index == nothing\n",
    "                    #done\n",
    "                    opening_solid_kmer = nothing\n",
    "                elseif opening_missing_kmer_path_index == 1\n",
    "                    # also done?\n",
    "                    opening_solid_kmer = nothing\n",
    "                elseif opening_missing_kmer_path_index != nothing\n",
    "                    need_to_add = getproperty.(observation_kmers[closing_solid_kmer_path_index+1:opening_missing_kmer_path_index-1], :fw)\n",
    "                    append!(proposed_path, need_to_add)\n",
    "                    opening_solid_kmer_path_index = opening_missing_kmer_path_index - 1\n",
    "                    opening_solid_kmer = observation_kmers[opening_solid_kmer_path_index].fw\n",
    "                    closing_solid_kmer_path_index = findnext(map(x -> x != 0, kmer_index), opening_missing_kmer_path_index+1)\n",
    "                    if closing_solid_kmer_path_index == nothing\n",
    "                        closing_solid_kmer = nothing\n",
    "                    else\n",
    "                        closing_solid_kmer = observation_kmers[closing_solid_kmer_path_index].fw\n",
    "                    end\n",
    "                end\n",
    "            else\n",
    "                @show \"need to bump out\"\n",
    "                if opening_missing_kmer_path_index >= 2\n",
    "                    opening_missing_kmer_path_index -= 1\n",
    "                    opening_solid_kmer = nothing\n",
    "                    # this should now break out to larger while loop\n",
    "                end\n",
    "                # push out closing node and try again\n",
    "                closing_solid_kmer_path_index = findnext(map(x -> x != 0, kmer_index), closing_solid_kmer_path_index+1)\n",
    "\n",
    "                if closing_solid_kmer_path_index == nothing\n",
    "                    @show \"end is open\"\n",
    "                    closing_solid_kmer = nothing\n",
    "                else\n",
    "                    closing_solid_kmer = observation_kmers[closing_solid_kmer_path_index].fw\n",
    "                end\n",
    "            end\n",
    "        end\n",
    "    end\n",
    "    if closing_solid_kmer_path_index != nothing\n",
    "        append!(proposed_path, getproperty.(observation_kmers[closing_solid_kmer_path_index+1:end], :fw))\n",
    "    end\n",
    "end"
   ]
  },
  {
   "cell_type": "code",
   "execution_count": null,
   "id": "9d0f8ba9-7391-4d13-b053-ffa218931590",
   "metadata": {},
   "outputs": [],
   "source": [
    "proposed_path"
   ]
  },
  {
   "cell_type": "code",
   "execution_count": null,
   "id": "ebc0509b-4227-4dbb-9b30-e30f885d3942",
   "metadata": {},
   "outputs": [],
   "source": [
    "proposed_seq = BioSequences.LongDNASeq(first(proposed_path))\n",
    "for kmer in proposed_path[2:end]\n",
    "    push!(proposed_seq, last(kmer))\n",
    "end\n",
    "proposed_seq"
   ]
  },
  {
   "cell_type": "code",
   "execution_count": null,
   "id": "46006c09-daf3-4628-8585-7946328c975f",
   "metadata": {},
   "outputs": [],
   "source": [
    "new_alignment = BioAlignments.pairalign(BioAlignments.LevenshteinDistance(), proposed_seq, genome)"
   ]
  },
  {
   "cell_type": "code",
   "execution_count": null,
   "id": "7dddb7f3-7466-4852-bd9a-ec365d56c3a2",
   "metadata": {},
   "outputs": [],
   "source": [
    "reverse_new_alignment = BioAlignments.pairalign(BioAlignments.LevenshteinDistance(), BioSequences.reverse_complement(proposed_seq), genome)"
   ]
  },
  {
   "cell_type": "code",
   "execution_count": null,
   "id": "0bcb9396-faf4-4c0d-bc85-8f13c9016229",
   "metadata": {},
   "outputs": [],
   "source": [
    "if reverse_new_alignment.value < new_alignment.value\n",
    "#     observation = BioSequences.reverse_complement!(observation)\n",
    "    new_alignment = reverse_new_alignment\n",
    "    @show \"flipping\"\n",
    "end"
   ]
  },
  {
   "cell_type": "code",
   "execution_count": null,
   "id": "697153c4-416f-4308-80c9-216df5c4e893",
   "metadata": {},
   "outputs": [],
   "source": [
    "if new_alignment.value <= alignment.value\n",
    "    @show \"newer is equivalent or better\"\n",
    "    @show new_alignment.value, alignment.value\n",
    "else\n",
    "    @show \"newer is worse, keep original\"\n",
    "    @show new_alignment.value, alignment.value\n",
    "end"
   ]
  }
 ],
 "metadata": {
  "kernelspec": {
   "display_name": "Julia 1.6.1",
   "language": "julia",
   "name": "julia-1.6"
  },
  "language_info": {
   "file_extension": ".jl",
   "mimetype": "application/julia",
   "name": "julia",
   "version": "1.6.1"
  }
 },
 "nbformat": 4,
 "nbformat_minor": 5
}
