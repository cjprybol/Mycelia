{
 "cells": [
  {
   "cell_type": "code",
   "execution_count": 1,
   "id": "6ac73c46-51c9-4fea-845f-fb17ce8d83a2",
   "metadata": {},
   "outputs": [
    {
     "data": {
      "text/plain": [
       "\"/home/jovyan/2021-09-14-pacbio-assembly\""
      ]
     },
     "execution_count": 1,
     "metadata": {},
     "output_type": "execute_result"
    }
   ],
   "source": [
    "DATE = \"2021-09-14\"\n",
    "TASK = \"pacbio-assembly\"\n",
    "DIR = mkpath(\"$(homedir())/$(DATE)-$(TASK)\")"
   ]
  },
  {
   "cell_type": "code",
   "execution_count": 2,
   "id": "38cb383f-3696-4b4b-a732-9a2059e0681a",
   "metadata": {},
   "outputs": [],
   "source": [
    "import Pkg\n",
    "pkgs = [\n",
    "    \"BioAlignments\",\n",
    "    \"BioSequences\",\n",
    "    \"Clustering\",\n",
    "#     \"CodecZlib\",\n",
    "#     \"Colors\",\n",
    "#     \"Combinatorics\",\n",
    "    \"DataFrames\",\n",
    "    \"DataStructures\",\n",
    "    \"Dates\",\n",
    "#     \"DelimitedFiles\",\n",
    "    \"Distances\",\n",
    "#     \"Distributions\",\n",
    "#     \"EzXML\",\n",
    "    \"FASTX\",\n",
    "#     \"GFF3\",\n",
    "    \"GLM\",\n",
    "    \"GraphPlot\",\n",
    "#     \"HTTP\",\n",
    "#     \"Impute\",\n",
    "#     \"JSON\",\n",
    "    \"Graphs\",\n",
    "    \"LsqFit\",\n",
    "#     \"LSHFunctions\",\n",
    "#     \"Measures\",\n",
    "    \"MetaGraphs\",\n",
    "    \"https://github.com/cjprybol/Mycelia.git\",\n",
    "#     \"NumericIO\",\n",
    "#     \"PlotlyJS\",\n",
    "#     \"Plots\",\n",
    "    \"Primes\",\n",
    "#     \"Printf\",\n",
    "    \"ProgressMeter\",\n",
    "    \"Random\",\n",
    "    \"Revise\",\n",
    "    \"SparseArrays\",\n",
    "    \"Statistics\",\n",
    "    \"StatsBase\",\n",
    "    \"StatsPlots\",\n",
    "#     \"StringDistances\",\n",
    "    \"uCSV\",\n",
    "#     \"XLSX\",\n",
    "]\n",
    "\n",
    "unregistered_packages = filter(pkg -> occursin(r\"(^https|git$)\", pkg), pkgs)\n",
    "registered_packages = setdiff(pkgs, unregistered_packages)\n",
    "\n",
    "for pkg in registered_packages\n",
    "    try\n",
    "        eval(Meta.parse(\"import $(pkg)\"))\n",
    "    catch\n",
    "        Pkg.add(pkg)\n",
    "        Pkg.build(pkg)\n",
    "        eval(Meta.parse(\"import $(pkg)\"))\n",
    "    end\n",
    "end\n",
    "\n",
    "for pkg_url in unregistered_packages\n",
    "    pkg_name = replace(basename(pkg_url), \".git\" => \"\")\n",
    "    try\n",
    "        eval(Meta.parse(\"import $(pkg_name)\"))\n",
    "    catch\n",
    "        Pkg.develop(url=pkg_url)\n",
    "        Pkg.build(pkg_name)\n",
    "        eval(Meta.parse(\"import $(pkg_name)\"))\n",
    "    end\n",
    "end"
   ]
  },
  {
   "cell_type": "code",
   "execution_count": 3,
   "id": "ea19d6bc-8d84-4d8a-8e0c-bd00614d6dfb",
   "metadata": {},
   "outputs": [
    {
     "data": {
      "text/plain": [
       "kmer_index_and_orientation_to_kmer (generic function with 1 method)"
      ]
     },
     "execution_count": 3,
     "metadata": {},
     "output_type": "execute_result"
    }
   ],
   "source": [
    "function kmer_index_and_orientation_to_kmer(graph, kmer_index, orientation)\n",
    "    kmer = graph.vprops[kmer_index][:kmer]\n",
    "    if !orientation\n",
    "        kmer = BioSequences.reverse_complement(kmer)\n",
    "    end\n",
    "    return kmer\n",
    "end"
   ]
  },
  {
   "cell_type": "code",
   "execution_count": 4,
   "id": "ab79def6-1e00-4b75-b86f-e16c4aefb35c",
   "metadata": {},
   "outputs": [
    {
     "data": {
      "text/plain": [
       "determine_edge_probabilities (generic function with 1 method)"
      ]
     },
     "execution_count": 4,
     "metadata": {},
     "output_type": "execute_result"
    }
   ],
   "source": [
    "function determine_edge_probabilities(graph)\n",
    "    nv = Graphs.nv(graph)\n",
    "    edge_probabilities = SparseArrays.spzeros(nv, nv)\n",
    "    for v in 1:nv\n",
    "        neighbors = Graphs.neighbors(graph, v)\n",
    "        @assert issorted(neighbors)\n",
    "        likelihoods = zeros(length(neighbors))\n",
    "        for (i, neighbor) in enumerate(neighbors)\n",
    "            if v <= neighbor\n",
    "                edge = Graphs.Edge(v, neighbor)\n",
    "            else\n",
    "                edge = Graphs.Edge(neighbor, v)\n",
    "            end\n",
    "            @assert Graphs.has_edge(graph, edge)\n",
    "            likelihoods[i] = graph.eprops[edge][:count]     \n",
    "        end\n",
    "        likelihoods = likelihoods ./ sum(likelihoods)\n",
    "#         @show likelihoods\n",
    "#         @show neighbors\n",
    "        for (neighbor, likelihood) in zip(neighbors, likelihoods)\n",
    "            edge_probabilities[v, neighbor] = likelihood\n",
    "        end\n",
    "    end\n",
    "    \n",
    "    for source in 1:size(edge_probabilities, 1)\n",
    "        destinations = findall(edge_probabilities[source, :] .> 0)\n",
    "        destination_counts = [graph.vprops[dest][:count] for dest in destinations]\n",
    "        destination_likelihoods = destination_counts ./ sum(destination_counts)\n",
    "        for (dest, likelihood) in zip(destinations, destination_likelihoods)\n",
    "            edge_probabilities[source, dest] *= likelihood\n",
    "        end\n",
    "        edge_probabilities[source, :] ./= sum(edge_probabilities[source, :])\n",
    "        @assert abs(1-sum(edge_probabilities[source, :])) <= eps(Float64)\n",
    "    end\n",
    "    \n",
    "    return edge_probabilities\n",
    "end"
   ]
  },
  {
   "cell_type": "code",
   "execution_count": 5,
   "id": "a5e1ffd6-44f8-4dee-b381-f0ca479cf91d",
   "metadata": {},
   "outputs": [
    {
     "data": {
      "text/plain": [
       "orient_path (generic function with 1 method)"
      ]
     },
     "execution_count": 5,
     "metadata": {},
     "output_type": "execute_result"
    }
   ],
   "source": [
    "function orient_path(graph, kmers, path, opening_orientation, opening_kmer, closing_orientation)\n",
    "    vertices = path\n",
    "    path_orientations = [opening_orientation]\n",
    "    path_kmers = [opening_kmer]\n",
    "    @show opening_orientation\n",
    "    for (i, vertex) in enumerate(vertices[2:end])\n",
    "        @show i, vertex, last(path_orientations)\n",
    "        viable_neighbors = typeof(opening_kmer)[]\n",
    "        viable_neighbor = nothing\n",
    "        viable_orientations = Bool[]\n",
    "        viable_orientation = nothing\n",
    "        for neighbor in BioSequences.neighbors(last(path_kmers))\n",
    "            @show \"considering going from $(last(path_kmers)) to $(neighbor)\"\n",
    "#             @show \"considering going from $(last(path_kmers)) to $(neighbor)\"\n",
    "            canonical_neighbor = BioSequences.canonical(neighbor)\n",
    "            canonical_neighbor_index_range = searchsorted(kmers, canonical_neighbor)\n",
    "#             @show canonical_neighbor_index_range\n",
    "            if length(canonical_neighbor_index_range) == 1\n",
    "                @show canonical_neighbor_index = first(canonical_neighbor_index_range)\n",
    "                if canonical_neighbor_index == vertex\n",
    "                    @show \"hit, selecting $neighbor\"\n",
    "                    viable_neighbor = neighbor\n",
    "                    viable_orientation = neighbor == canonical_neighbor\n",
    "                end\n",
    "            end\n",
    "        end\n",
    "        if (viable_neighbor != nothing) && (viable_orientation != nothing)\n",
    "            push!(path_kmers, viable_neighbor)\n",
    "            push!(path_orientations, viable_orientation)\n",
    "        else\n",
    "            return nothing\n",
    "            # not a viable path, need to look towards the next miss\n",
    "        end\n",
    "    end\n",
    "    return vertices, path_orientations, path_kmers\n",
    "end"
   ]
  },
  {
   "cell_type": "code",
   "execution_count": 6,
   "id": "8b96ea5a-e81b-445a-abb9-ab3c28e494e3",
   "metadata": {},
   "outputs": [
    {
     "data": {
      "text/plain": [
       "take_a_walk (generic function with 1 method)"
      ]
     },
     "execution_count": 6,
     "metadata": {},
     "output_type": "execute_result"
    }
   ],
   "source": [
    "function take_a_walk(graph, edge_likelihoods, kmers, kmer, walk_length)\n",
    "    walk = [kmer]\n",
    "    current_kmer_indices = searchsorted(kmers, BioSequences.canonical(last(walk)))\n",
    "    @assert length(current_kmer_indices) == 1\n",
    "    current_kmer_index = first(current_kmer_indices)\n",
    "    while length(walk) < walk_length\n",
    "        viable_neighbors = Tuple{Int, Bool}[]\n",
    "        for neighbor in BioSequences.neighbors(kmer)\n",
    "            canonical_neighbor = BioSequences.canonical(neighbor)\n",
    "            neighbor_is_canonical = neighbor == canonical_neighbor\n",
    "            neighbor_vertex_range = searchsorted(kmers, canonical_neighbor)\n",
    "            if !isempty(neighbor_vertex_range)\n",
    "                neighbor_vertex = first(neighbor_vertex_range)\n",
    "                if Graphs.has_edge(graph, current_kmer_index, neighbor_vertex)\n",
    "                    push!(viable_neighbors, (neighbor_vertex, neighbor_is_canonical))\n",
    "                end\n",
    "            end\n",
    "        end\n",
    "        if isempty(viable_neighbors)\n",
    "            return walk\n",
    "        elseif length(viable_neighbors) == 1\n",
    "            chosen_neighbor = first(viable_neighbors)\n",
    "        else\n",
    "            viable_neighbor_indices = first.(viable_neighbors)\n",
    "            step_likelihoods = StatsBase.weights(edge_likelihoods[current_kmer_index, viable_neighbor_indices])\n",
    "            chosen_neighbor = StatsBase.sample(viable_neighbors, step_likelihoods)\n",
    "        end\n",
    "        kmer = kmer_index_and_orientation_to_kmer(graph, chosen_neighbor...)\n",
    "        push!(walk, kmer)\n",
    "        current_kmer_indices = searchsorted(kmers, BioSequences.canonical(last(walk)))\n",
    "        @assert length(current_kmer_indices) == 1\n",
    "        current_kmer_index = first(current_kmer_indices)\n",
    "    end\n",
    "    return walk\n",
    "end"
   ]
  },
  {
   "cell_type": "code",
   "execution_count": 7,
   "id": "2904784d-e5ae-4755-8007-72481227fa40",
   "metadata": {},
   "outputs": [
    {
     "data": {
      "text/plain": [
       "sort_fastq"
      ]
     },
     "execution_count": 7,
     "metadata": {},
     "output_type": "execute_result"
    }
   ],
   "source": [
    "\"\"\"\n",
    "    sort_fastq(input_fastq, output_fastq)\n",
    "\n",
    "This turns a 4-line FASTQ entry into a single tab separated line,\n",
    "adds a column with the length of each read, passes it to Unix sort,\n",
    "removes the length column, and converts it back into a FASTQ file.\n",
    "\n",
    "sorts longest to shortest!!\n",
    "\n",
    "http://thegenomefactory.blogspot.com/2012/11/sorting-fastq-files-by-sequence-length.html\n",
    "\"\"\"\n",
    "function sort_fastq(input_fastq, output_fastq=\"\")\n",
    "    \n",
    "    if endswith(input_fastq, \".gz\")\n",
    "        p = pipeline(\n",
    "                `gzip -dc $input_fastq`,\n",
    "                `paste - - - -`,\n",
    "                `perl -ne '@x=split m/\\t/; unshift @x, length($x[1]); print join \"\\t\",@x;'`,\n",
    "                `sort -nr`,\n",
    "                `cut -f2-`,\n",
    "                `tr \"\\t\" \"\\n\"`,\n",
    "                `gzip`\n",
    "                )\n",
    "    else\n",
    "        p = pipeline(\n",
    "                `cat $input_fastq`,\n",
    "                `paste - - - -`,\n",
    "                `perl -ne '@x=split m/\\t/; unshift @x, length($x[1]); print join \"\\t\",@x;'`,\n",
    "                `sort -nr`,\n",
    "                `cut -f2-`,\n",
    "                `tr \"\\t\" \"\\n\"`\n",
    "                )\n",
    "    end\n",
    "    run(pipeline(p, output_fastq))\n",
    "    return output_fastq\n",
    "end"
   ]
  },
  {
   "cell_type": "code",
   "execution_count": 8,
   "id": "3c64bb5f-0012-42f8-83a8-231f5aadcde3",
   "metadata": {},
   "outputs": [
    {
     "data": {
      "text/plain": [
       "count_reads (generic function with 1 method)"
      ]
     },
     "execution_count": 8,
     "metadata": {},
     "output_type": "execute_result"
    }
   ],
   "source": [
    "function count_reads(fastq_file)\n",
    "    n_reads = 0\n",
    "    for record in Mycelia.open_fastx(fastq_file)\n",
    "        n_reads += 1\n",
    "    end\n",
    "    return n_reads\n",
    "end"
   ]
  },
  {
   "cell_type": "code",
   "execution_count": 9,
   "id": "67f8f745-914f-4c94-a5be-86c39628e2bc",
   "metadata": {},
   "outputs": [
    {
     "data": {
      "text/plain": [
       "max_canonical_kmers (generic function with 1 method)"
      ]
     },
     "execution_count": 9,
     "metadata": {},
     "output_type": "execute_result"
    }
   ],
   "source": [
    "function max_canonical_kmers(kmer_type)\n",
    "    k_size = last(kmer_type.parameters)\n",
    "    # we only consider canonical kmers so cut in 1/2\n",
    "    max_canonical_kmers = Int(4^k_size / 2)\n",
    "    return max_canonical_kmers\n",
    "end"
   ]
  },
  {
   "cell_type": "code",
   "execution_count": 10,
   "id": "0e116b34-4490-4846-97c5-04e473d47f5e",
   "metadata": {},
   "outputs": [
    {
     "data": {
      "text/plain": [
       "assess_kmer_saturation (generic function with 1 method)"
      ]
     },
     "execution_count": 10,
     "metadata": {},
     "output_type": "execute_result"
    }
   ],
   "source": [
    "function assess_kmer_saturation(fastq_file, kmer_type; max_reads=Inf, power=10)\n",
    "    canonical_kmers = Set{kmer_type}()\n",
    "    \n",
    "    if max_reads == Inf\n",
    "        @info \"determining # of reads in file(s)\"\n",
    "        max_reads = count_reads(fastq_file)\n",
    "    end\n",
    "    \n",
    "    @info \"total reads being considered = $(max_reads)\"\n",
    "    \n",
    "    max_kmers = max_canonical_kmers(kmer_type)\n",
    "\n",
    "    @info \"maximim kmers = $(max_kmers)\"\n",
    "    \n",
    "    sampling_points = Int[0]\n",
    "    i = 0\n",
    "    while power^i <= max_reads\n",
    "        push!(sampling_points, power^i)\n",
    "        i += 1\n",
    "    end\n",
    "    \n",
    "    unique_kmer_counts = zeros(Int, length(sampling_points))\n",
    "    \n",
    "    if length(sampling_points) < 5\n",
    "        @info \"increase the # of reads analyzed or decrease the power to acquire more data points\"\n",
    "        return (;sampling_points, unique_kmer_counts)\n",
    "    end\n",
    "    \n",
    "    p = ProgressMeter.Progress(max_reads, 1)\n",
    "    \n",
    "    read_number = 0\n",
    "    for record in Mycelia.open_fastx(fastq_file)\n",
    "        hit_max_reads = (read_number > sampling_points[end])\n",
    "        hit_saturation = \n",
    "        hit_max_reads && break\n",
    "        read_number += 1\n",
    "        ProgressMeter.next!(p)\n",
    "        for kmer in BioSequences.each(kmer_type, FASTX.sequence(record))\n",
    "            canonical_kmer = kmer.fw < kmer.bw ? kmer.fw : kmer.bw\n",
    "            push!(canonical_kmers, canonical_kmer)\n",
    "        end\n",
    "        n_kmers = length(canonical_kmers)\n",
    "        if n_kmers == max_kmers\n",
    "            sampling_points = vcat(filter(s -> s < read_number, sampling_points), [read_number])\n",
    "            unique_kmer_counts = vcat(unique_kmer_counts[1:length(sampling_points)-1], n_kmers)\n",
    "            break\n",
    "        elseif rem(log(power, read_number), 1) == 0.0\n",
    "            i = findfirst(sampling_points .== read_number)\n",
    "            unique_kmer_counts[i] = n_kmers\n",
    "            percent_saturation = round(n_kmers/max_kmers, sigdigits=5) * 100\n",
    "            @show read_number, percent_saturation\n",
    "        end\n",
    "    end\n",
    "    return (;sampling_points, unique_kmer_counts)\n",
    "end"
   ]
  },
  {
   "cell_type": "code",
   "execution_count": 99,
   "id": "33baf966-db08-4635-85ec-6abce8051b18",
   "metadata": {},
   "outputs": [
    {
     "data": {
      "text/plain": [
       "calculate_v (generic function with 1 method)"
      ]
     },
     "execution_count": 99,
     "metadata": {},
     "output_type": "execute_result"
    }
   ],
   "source": [
    "# Michaelis–Menten\n",
    "function calculate_v(s,p)\n",
    "    vmax = p[1]\n",
    "    km = p[2]\n",
    "    v = (vmax .* s) ./ (km .+ s)\n",
    "    return v\n",
    "end"
   ]
  },
  {
   "cell_type": "code",
   "execution_count": 11,
   "id": "b8d05dd2-004d-4f51-9686-57462fa97f57",
   "metadata": {},
   "outputs": [],
   "source": [
    "# read in reads from pacbio run"
   ]
  },
  {
   "cell_type": "code",
   "execution_count": 12,
   "id": "c6d75091-3110-4d84-aefb-c2b0810c3452",
   "metadata": {},
   "outputs": [
    {
     "data": {
      "text/plain": [
       "\"/home/jovyan/pacbio-test-data/b002225.subreads.fastq.gz\""
      ]
     },
     "execution_count": 12,
     "metadata": {},
     "output_type": "execute_result"
    }
   ],
   "source": [
    "# fastq_directory = \"$(homedir())/pacbio-test-data\"\n",
    "# fastq_file = first(readdir(fastq_directory, join=true))\n",
    "fastq_file = \"$(homedir())/pacbio-test-data/b002225.subreads.fastq.gz\""
   ]
  },
  {
   "cell_type": "code",
   "execution_count": 13,
   "id": "118a0ea7-4d59-4808-82c5-cd5f5a6e52b0",
   "metadata": {},
   "outputs": [],
   "source": [
    "# sort fastq file from shortest to longest reads"
   ]
  },
  {
   "cell_type": "code",
   "execution_count": 14,
   "id": "dcc62522-ba53-4fdc-bc3d-53ef5422c933",
   "metadata": {},
   "outputs": [
    {
     "data": {
      "text/plain": [
       "\"/home/jovyan/pacbio-test-data/b002225.subreads.sorted.fastq.gz\""
      ]
     },
     "execution_count": 14,
     "metadata": {},
     "output_type": "execute_result"
    }
   ],
   "source": [
    "sorted_fastq_file = replace(fastq_file, r\"\\.fastq\\.gz$\" => \".sorted.fastq.gz\")\n",
    "# @time sort_fastq(fastq_file, sorted_fastq_file)\n",
    "# 62 minutes!"
   ]
  },
  {
   "cell_type": "code",
   "execution_count": 15,
   "id": "0abbdf92-f933-4b8d-937a-ea36efc6e4a5",
   "metadata": {},
   "outputs": [
    {
     "data": {
      "text/plain": [
       "1970799"
      ]
     },
     "execution_count": 15,
     "metadata": {},
     "output_type": "execute_result"
    }
   ],
   "source": [
    "# @time max_reads = count_reads(sorted_fastq_file)\n",
    "max_reads = 1970799"
   ]
  },
  {
   "cell_type": "code",
   "execution_count": 16,
   "id": "be3ae18b-62bf-4729-a8c0-b4596083f192",
   "metadata": {},
   "outputs": [
    {
     "data": {
      "text/plain": [
       "128"
      ]
     },
     "execution_count": 16,
     "metadata": {},
     "output_type": "execute_result"
    }
   ],
   "source": [
    "n_reads = min(2^7, Int(ceil(max_reads/100)))"
   ]
  },
  {
   "cell_type": "code",
   "execution_count": 17,
   "id": "9b6e29f2-117a-49a4-9df6-c7df45e299e7",
   "metadata": {},
   "outputs": [
    {
     "data": {
      "text/plain": [
       "10-element Vector{Int64}:\n",
       "  3\n",
       "  5\n",
       "  7\n",
       " 11\n",
       " 13\n",
       " 17\n",
       " 19\n",
       " 23\n",
       " 29\n",
       " 31"
      ]
     },
     "execution_count": 17,
     "metadata": {},
     "output_type": "execute_result"
    }
   ],
   "source": [
    "ks = Primes.primes(3, 31)"
   ]
  },
  {
   "cell_type": "code",
   "execution_count": 199,
   "id": "f71f8c75-c04b-42ca-a843-0bb9030959ba",
   "metadata": {},
   "outputs": [
    {
     "data": {
      "text/plain": [
       "BioSequences.DNAMer{17} (alias for BioSequences.Mer{BioSequences.DNAAlphabet{2}, 17})"
      ]
     },
     "execution_count": 199,
     "metadata": {},
     "output_type": "execute_result"
    }
   ],
   "source": [
    "k = ks[6]\n",
    "kmer_type = BioSequences.DNAMer{k}"
   ]
  },
  {
   "cell_type": "code",
   "execution_count": 200,
   "id": "3dd9d2f4-46ae-4633-951a-d2e0faec1b6d",
   "metadata": {},
   "outputs": [
    {
     "name": "stderr",
     "output_type": "stream",
     "text": [
      "┌ Info: total reads being considered = 128\n",
      "└ @ Main In[10]:9\n",
      "┌ Info: maximim kmers = 8589934592\n",
      "└ @ Main In[10]:13\n"
     ]
    },
    {
     "name": "stdout",
     "output_type": "stream",
     "text": [
      "(read_number, percent_saturation) = (1, 0.0013679999999999999)\n",
      "(read_number, percent_saturation) = (2, 0.0026013)\n",
      "(read_number, percent_saturation) = (4, 0.0045729)\n",
      "(read_number, percent_saturation) = (8, 0.008092799999999999)\n"
     ]
    },
    {
     "name": "stderr",
     "output_type": "stream",
     "text": [
      "\u001b[32mProgress:  12%|████▊                                    |  ETA: 0:00:08\u001b[39m"
     ]
    },
    {
     "name": "stdout",
     "output_type": "stream",
     "text": [
      "(read_number, percent_saturation) = (16, 0.017253)\n"
     ]
    },
    {
     "name": "stderr",
     "output_type": "stream",
     "text": [
      "\u001b[32mProgress:  24%|█████████▉                               |  ETA: 0:00:06\u001b[39m"
     ]
    },
    {
     "name": "stdout",
     "output_type": "stream",
     "text": [
      "(read_number, percent_saturation) = (32, 0.033852)\n"
     ]
    },
    {
     "name": "stderr",
     "output_type": "stream",
     "text": [
      "\u001b[32mProgress:  49%|████████████████████▏                    |  ETA: 0:00:04\u001b[39m"
     ]
    },
    {
     "name": "stdout",
     "output_type": "stream",
     "text": [
      "(read_number, percent_saturation) = (64, 0.06469)\n"
     ]
    },
    {
     "name": "stderr",
     "output_type": "stream",
     "text": [
      "\u001b[32mProgress: 100%|█████████████████████████████████████████| Time: 0:00:08\u001b[39m\n"
     ]
    },
    {
     "name": "stdout",
     "output_type": "stream",
     "text": [
      "(read_number, percent_saturation) = (128, 0.11895)\n"
     ]
    },
    {
     "data": {
      "text/plain": [
       "(sampling_points = [0, 1, 2, 4, 8, 16, 32, 64, 128], unique_kmer_counts = [0, 117507, 223451, 392810, 695163, 1481998, 2907877, 5556820, 10217420])"
      ]
     },
     "execution_count": 200,
     "metadata": {},
     "output_type": "execute_result"
    }
   ],
   "source": [
    "sampling_points, kmer_counts = assess_kmer_saturation(sorted_fastq_file, kmer_type, max_reads=n_reads, power=2)"
   ]
  },
  {
   "cell_type": "code",
   "execution_count": 201,
   "id": "486fd7bd-82b3-4bcb-a4f8-1a857a13af24",
   "metadata": {},
   "outputs": [
    {
     "name": "stdout",
     "output_type": "stream",
     "text": [
      "initial_parameters = [1.021742e7, 64.0]\n",
      "  0.000126 seconds (277 allocations: 32.797 KiB)\n"
     ]
    },
    {
     "data": {
      "text/plain": [
       "LsqFit.LsqFitResult{Vector{Float64}, Vector{Float64}, Matrix{Float64}, Vector{Int64}}([6.419270347505265e7, 676.0405555634469], [0.0, -22693.324589329553, -34103.318807954, -15228.381081017433, 55584.34037869272, 2139.377996018855, -6678.057282639667, -5322.867149766535, 1798.4062764737755], [0.0 0.0; 0.0014770163940529346 -140.04135296447194; … ; 0.08648174687017997 -7501.6120283007385; 0.15919594990034616 -12709.829542552588], true, Int64[])"
      ]
     },
     "execution_count": 201,
     "metadata": {},
     "output_type": "execute_result"
    }
   ],
   "source": [
    "observed_midpoint_index = findfirst(i -> kmer_counts[i] > last(kmer_counts)/2, 1:length(sampling_points))\n",
    "observed_midpoint = sampling_points[observed_midpoint_index]\n",
    "initial_parameters = Float64[maximum(kmer_counts), observed_midpoint]\n",
    "@show initial_parameters\n",
    "# @time fit = LsqFit.curve_fit(calculate_v, sampling_points[2:end], kmer_counts[2:end], initial_parameters)\n",
    "@time fit = LsqFit.curve_fit(calculate_v, sampling_points, kmer_counts, initial_parameters)"
   ]
  },
  {
   "cell_type": "code",
   "execution_count": 202,
   "id": "6719060e-be21-4656-b271-b063226a235a",
   "metadata": {},
   "outputs": [
    {
     "data": {
      "text/plain": [
       "0.007473014295101166"
      ]
     },
     "execution_count": 202,
     "metadata": {},
     "output_type": "execute_result"
    }
   ],
   "source": [
    "inferred_kmer_count = Int(ceil(fit.param[1]))\n",
    "inferred_midpoint = Int(ceil(fit.param[2]))\n",
    "predicted_saturation = inferred_kmer_count / max_canonical_kmers(kmer_type)"
   ]
  },
  {
   "cell_type": "code",
   "execution_count": 203,
   "id": "3a63aabc-acb0-480f-b868-c64a3b74720d",
   "metadata": {},
   "outputs": [
    {
     "name": "stderr",
     "output_type": "stream",
     "text": [
      "┌ Info: desired sparsity level reached\n",
      "└ @ Main In[203]:2\n"
     ]
    }
   ],
   "source": [
    "if predicted_saturation < .01\n",
    "    @info \"desired sparsity level reached\"\n",
    "end"
   ]
  },
  {
   "cell_type": "code",
   "execution_count": 204,
   "id": "8430fd7d-29d1-4036-adb1-303119fc9cf2",
   "metadata": {},
   "outputs": [
    {
     "data": {
      "image/svg+xml": [
       "<?xml version=\"1.0\" encoding=\"utf-8\"?>\n",
       "<svg xmlns=\"http://www.w3.org/2000/svg\" xmlns:xlink=\"http://www.w3.org/1999/xlink\" width=\"600\" height=\"400\" viewBox=\"0 0 2400 1600\">\n",
       "<defs>\n",
       "  <clipPath id=\"clip000\">\n",
       "    <rect x=\"0\" y=\"0\" width=\"2400\" height=\"1600\"/>\n",
       "  </clipPath>\n",
       "</defs>\n",
       "<path clip-path=\"url(#clip000)\" d=\"\n",
       "M0 1600 L2400 1600 L2400 0 L0 0  Z\n",
       "  \" fill=\"#ffffff\" fill-rule=\"evenodd\" fill-opacity=\"1\"/>\n",
       "<defs>\n",
       "  <clipPath id=\"clip001\">\n",
       "    <rect x=\"480\" y=\"0\" width=\"1681\" height=\"1600\"/>\n",
       "  </clipPath>\n",
       "</defs>\n",
       "<path clip-path=\"url(#clip000)\" d=\"\n",
       "M339.608 1423.18 L2352.76 1423.18 L2352.76 123.472 L339.608 123.472  Z\n",
       "  \" fill=\"#ffffff\" fill-rule=\"evenodd\" fill-opacity=\"1\"/>\n",
       "<defs>\n",
       "  <clipPath id=\"clip002\">\n",
       "    <rect x=\"339\" y=\"123\" width=\"2014\" height=\"1301\"/>\n",
       "  </clipPath>\n",
       "</defs>\n",
       "<polyline clip-path=\"url(#clip002)\" style=\"stroke:#000000; stroke-linecap:butt; stroke-linejoin:round; stroke-width:2; stroke-opacity:0.1; fill:none\" points=\"\n",
       "  396.584,1423.18 396.584,123.472 \n",
       "  \"/>\n",
       "<polyline clip-path=\"url(#clip002)\" style=\"stroke:#000000; stroke-linecap:butt; stroke-linejoin:round; stroke-width:2; stroke-opacity:0.1; fill:none\" points=\"\n",
       "  677.115,1423.18 677.115,123.472 \n",
       "  \"/>\n",
       "<polyline clip-path=\"url(#clip002)\" style=\"stroke:#000000; stroke-linecap:butt; stroke-linejoin:round; stroke-width:2; stroke-opacity:0.1; fill:none\" points=\"\n",
       "  957.646,1423.18 957.646,123.472 \n",
       "  \"/>\n",
       "<polyline clip-path=\"url(#clip002)\" style=\"stroke:#000000; stroke-linecap:butt; stroke-linejoin:round; stroke-width:2; stroke-opacity:0.1; fill:none\" points=\"\n",
       "  1238.18,1423.18 1238.18,123.472 \n",
       "  \"/>\n",
       "<polyline clip-path=\"url(#clip002)\" style=\"stroke:#000000; stroke-linecap:butt; stroke-linejoin:round; stroke-width:2; stroke-opacity:0.1; fill:none\" points=\"\n",
       "  1518.71,1423.18 1518.71,123.472 \n",
       "  \"/>\n",
       "<polyline clip-path=\"url(#clip002)\" style=\"stroke:#000000; stroke-linecap:butt; stroke-linejoin:round; stroke-width:2; stroke-opacity:0.1; fill:none\" points=\"\n",
       "  1799.24,1423.18 1799.24,123.472 \n",
       "  \"/>\n",
       "<polyline clip-path=\"url(#clip002)\" style=\"stroke:#000000; stroke-linecap:butt; stroke-linejoin:round; stroke-width:2; stroke-opacity:0.1; fill:none\" points=\"\n",
       "  2079.77,1423.18 2079.77,123.472 \n",
       "  \"/>\n",
       "<polyline clip-path=\"url(#clip000)\" style=\"stroke:#000000; stroke-linecap:butt; stroke-linejoin:round; stroke-width:4; stroke-opacity:1; fill:none\" points=\"\n",
       "  339.608,1423.18 2352.76,1423.18 \n",
       "  \"/>\n",
       "<polyline clip-path=\"url(#clip000)\" style=\"stroke:#000000; stroke-linecap:butt; stroke-linejoin:round; stroke-width:4; stroke-opacity:1; fill:none\" points=\"\n",
       "  396.584,1423.18 396.584,1404.28 \n",
       "  \"/>\n",
       "<polyline clip-path=\"url(#clip000)\" style=\"stroke:#000000; stroke-linecap:butt; stroke-linejoin:round; stroke-width:4; stroke-opacity:1; fill:none\" points=\"\n",
       "  677.115,1423.18 677.115,1404.28 \n",
       "  \"/>\n",
       "<polyline clip-path=\"url(#clip000)\" style=\"stroke:#000000; stroke-linecap:butt; stroke-linejoin:round; stroke-width:4; stroke-opacity:1; fill:none\" points=\"\n",
       "  957.646,1423.18 957.646,1404.28 \n",
       "  \"/>\n",
       "<polyline clip-path=\"url(#clip000)\" style=\"stroke:#000000; stroke-linecap:butt; stroke-linejoin:round; stroke-width:4; stroke-opacity:1; fill:none\" points=\"\n",
       "  1238.18,1423.18 1238.18,1404.28 \n",
       "  \"/>\n",
       "<polyline clip-path=\"url(#clip000)\" style=\"stroke:#000000; stroke-linecap:butt; stroke-linejoin:round; stroke-width:4; stroke-opacity:1; fill:none\" points=\"\n",
       "  1518.71,1423.18 1518.71,1404.28 \n",
       "  \"/>\n",
       "<polyline clip-path=\"url(#clip000)\" style=\"stroke:#000000; stroke-linecap:butt; stroke-linejoin:round; stroke-width:4; stroke-opacity:1; fill:none\" points=\"\n",
       "  1799.24,1423.18 1799.24,1404.28 \n",
       "  \"/>\n",
       "<polyline clip-path=\"url(#clip000)\" style=\"stroke:#000000; stroke-linecap:butt; stroke-linejoin:round; stroke-width:4; stroke-opacity:1; fill:none\" points=\"\n",
       "  2079.77,1423.18 2079.77,1404.28 \n",
       "  \"/>\n",
       "<path clip-path=\"url(#clip000)\" d=\"M396.584 1452.37 Q392.973 1452.37 391.144 1455.94 Q389.339 1459.48 389.339 1466.61 Q389.339 1473.71 391.144 1477.28 Q392.973 1480.82 396.584 1480.82 Q400.218 1480.82 402.024 1477.28 Q403.852 1473.71 403.852 1466.61 Q403.852 1459.48 402.024 1455.94 Q400.218 1452.37 396.584 1452.37 M396.584 1448.67 Q402.394 1448.67 405.45 1453.27 Q408.528 1457.86 408.528 1466.61 Q408.528 1475.33 405.45 1479.94 Q402.394 1484.52 396.584 1484.52 Q390.774 1484.52 387.695 1479.94 Q384.64 1475.33 384.64 1466.61 Q384.64 1457.86 387.695 1453.27 Q390.774 1448.67 396.584 1448.67 Z\" fill=\"#000000\" fill-rule=\"evenodd\" fill-opacity=\"1\" /><path clip-path=\"url(#clip000)\" d=\"M636.722 1479.92 L644.361 1479.92 L644.361 1453.55 L636.051 1455.22 L636.051 1450.96 L644.314 1449.29 L648.99 1449.29 L648.99 1479.92 L656.629 1479.92 L656.629 1483.85 L636.722 1483.85 L636.722 1479.92 Z\" fill=\"#000000\" fill-rule=\"evenodd\" fill-opacity=\"1\" /><path clip-path=\"url(#clip000)\" d=\"M676.073 1452.37 Q672.462 1452.37 670.634 1455.94 Q668.828 1459.48 668.828 1466.61 Q668.828 1473.71 670.634 1477.28 Q672.462 1480.82 676.073 1480.82 Q679.708 1480.82 681.513 1477.28 Q683.342 1473.71 683.342 1466.61 Q683.342 1459.48 681.513 1455.94 Q679.708 1452.37 676.073 1452.37 M676.073 1448.67 Q681.884 1448.67 684.939 1453.27 Q688.018 1457.86 688.018 1466.61 Q688.018 1475.33 684.939 1479.94 Q681.884 1484.52 676.073 1484.52 Q670.263 1484.52 667.185 1479.94 Q664.129 1475.33 664.129 1466.61 Q664.129 1457.86 667.185 1453.27 Q670.263 1448.67 676.073 1448.67 Z\" fill=\"#000000\" fill-rule=\"evenodd\" fill-opacity=\"1\" /><path clip-path=\"url(#clip000)\" d=\"M706.235 1452.37 Q702.624 1452.37 700.796 1455.94 Q698.99 1459.48 698.99 1466.61 Q698.99 1473.71 700.796 1477.28 Q702.624 1480.82 706.235 1480.82 Q709.87 1480.82 711.675 1477.28 Q713.504 1473.71 713.504 1466.61 Q713.504 1459.48 711.675 1455.94 Q709.87 1452.37 706.235 1452.37 M706.235 1448.67 Q712.046 1448.67 715.101 1453.27 Q718.18 1457.86 718.18 1466.61 Q718.18 1475.33 715.101 1479.94 Q712.046 1484.52 706.235 1484.52 Q700.425 1484.52 697.347 1479.94 Q694.291 1475.33 694.291 1466.61 Q694.291 1457.86 697.347 1453.27 Q700.425 1448.67 706.235 1448.67 Z\" fill=\"#000000\" fill-rule=\"evenodd\" fill-opacity=\"1\" /><path clip-path=\"url(#clip000)\" d=\"M921.339 1479.92 L937.658 1479.92 L937.658 1483.85 L915.714 1483.85 L915.714 1479.92 Q918.376 1477.16 922.959 1472.53 Q927.565 1467.88 928.746 1466.54 Q930.991 1464.01 931.871 1462.28 Q932.774 1460.52 932.774 1458.83 Q932.774 1456.07 930.829 1454.34 Q928.908 1452.6 925.806 1452.6 Q923.607 1452.6 921.153 1453.37 Q918.723 1454.13 915.945 1455.68 L915.945 1450.96 Q918.769 1449.82 921.223 1449.25 Q923.677 1448.67 925.714 1448.67 Q931.084 1448.67 934.278 1451.35 Q937.473 1454.04 937.473 1458.53 Q937.473 1460.66 936.663 1462.58 Q935.876 1464.48 933.769 1467.07 Q933.19 1467.74 930.089 1470.96 Q926.987 1474.15 921.339 1479.92 Z\" fill=\"#000000\" fill-rule=\"evenodd\" fill-opacity=\"1\" /><path clip-path=\"url(#clip000)\" d=\"M957.473 1452.37 Q953.862 1452.37 952.033 1455.94 Q950.227 1459.48 950.227 1466.61 Q950.227 1473.71 952.033 1477.28 Q953.862 1480.82 957.473 1480.82 Q961.107 1480.82 962.913 1477.28 Q964.741 1473.71 964.741 1466.61 Q964.741 1459.48 962.913 1455.94 Q961.107 1452.37 957.473 1452.37 M957.473 1448.67 Q963.283 1448.67 966.338 1453.27 Q969.417 1457.86 969.417 1466.61 Q969.417 1475.33 966.338 1479.94 Q963.283 1484.52 957.473 1484.52 Q951.663 1484.52 948.584 1479.94 Q945.528 1475.33 945.528 1466.61 Q945.528 1457.86 948.584 1453.27 Q951.663 1448.67 957.473 1448.67 Z\" fill=\"#000000\" fill-rule=\"evenodd\" fill-opacity=\"1\" /><path clip-path=\"url(#clip000)\" d=\"M987.635 1452.37 Q984.024 1452.37 982.195 1455.94 Q980.389 1459.48 980.389 1466.61 Q980.389 1473.71 982.195 1477.28 Q984.024 1480.82 987.635 1480.82 Q991.269 1480.82 993.074 1477.28 Q994.903 1473.71 994.903 1466.61 Q994.903 1459.48 993.074 1455.94 Q991.269 1452.37 987.635 1452.37 M987.635 1448.67 Q993.445 1448.67 996.5 1453.27 Q999.579 1457.86 999.579 1466.61 Q999.579 1475.33 996.5 1479.94 Q993.445 1484.52 987.635 1484.52 Q981.824 1484.52 978.746 1479.94 Q975.69 1475.33 975.69 1466.61 Q975.69 1457.86 978.746 1453.27 Q981.824 1448.67 987.635 1448.67 Z\" fill=\"#000000\" fill-rule=\"evenodd\" fill-opacity=\"1\" /><path clip-path=\"url(#clip000)\" d=\"M1211.94 1465.22 Q1215.3 1465.94 1217.17 1468.2 Q1219.07 1470.47 1219.07 1473.81 Q1219.07 1478.92 1215.55 1481.72 Q1212.03 1484.52 1205.55 1484.52 Q1203.37 1484.52 1201.06 1484.08 Q1198.77 1483.67 1196.31 1482.81 L1196.31 1478.3 Q1198.26 1479.43 1200.57 1480.01 Q1202.89 1480.59 1205.41 1480.59 Q1209.81 1480.59 1212.1 1478.85 Q1214.42 1477.12 1214.42 1473.81 Q1214.42 1470.75 1212.26 1469.04 Q1210.13 1467.3 1206.31 1467.3 L1202.29 1467.3 L1202.29 1463.46 L1206.5 1463.46 Q1209.95 1463.46 1211.78 1462.09 Q1213.61 1460.7 1213.61 1458.11 Q1213.61 1455.45 1211.71 1454.04 Q1209.83 1452.6 1206.31 1452.6 Q1204.39 1452.6 1202.19 1453.02 Q1199.99 1453.44 1197.36 1454.31 L1197.36 1450.15 Q1200.02 1449.41 1202.33 1449.04 Q1204.67 1448.67 1206.73 1448.67 Q1212.05 1448.67 1215.16 1451.1 Q1218.26 1453.5 1218.26 1457.63 Q1218.26 1460.5 1216.62 1462.49 Q1214.97 1464.45 1211.94 1465.22 Z\" fill=\"#000000\" fill-rule=\"evenodd\" fill-opacity=\"1\" /><path clip-path=\"url(#clip000)\" d=\"M1237.93 1452.37 Q1234.32 1452.37 1232.49 1455.94 Q1230.69 1459.48 1230.69 1466.61 Q1230.69 1473.71 1232.49 1477.28 Q1234.32 1480.82 1237.93 1480.82 Q1241.57 1480.82 1243.37 1477.28 Q1245.2 1473.71 1245.2 1466.61 Q1245.2 1459.48 1243.37 1455.94 Q1241.57 1452.37 1237.93 1452.37 M1237.93 1448.67 Q1243.74 1448.67 1246.8 1453.27 Q1249.88 1457.86 1249.88 1466.61 Q1249.88 1475.33 1246.8 1479.94 Q1243.74 1484.52 1237.93 1484.52 Q1232.12 1484.52 1229.05 1479.94 Q1225.99 1475.33 1225.99 1466.61 Q1225.99 1457.86 1229.05 1453.27 Q1232.12 1448.67 1237.93 1448.67 Z\" fill=\"#000000\" fill-rule=\"evenodd\" fill-opacity=\"1\" /><path clip-path=\"url(#clip000)\" d=\"M1268.1 1452.37 Q1264.49 1452.37 1262.66 1455.94 Q1260.85 1459.48 1260.85 1466.61 Q1260.85 1473.71 1262.66 1477.28 Q1264.49 1480.82 1268.1 1480.82 Q1271.73 1480.82 1273.54 1477.28 Q1275.36 1473.71 1275.36 1466.61 Q1275.36 1459.48 1273.54 1455.94 Q1271.73 1452.37 1268.1 1452.37 M1268.1 1448.67 Q1273.91 1448.67 1276.96 1453.27 Q1280.04 1457.86 1280.04 1466.61 Q1280.04 1475.33 1276.96 1479.94 Q1273.91 1484.52 1268.1 1484.52 Q1262.29 1484.52 1259.21 1479.94 Q1256.15 1475.33 1256.15 1466.61 Q1256.15 1457.86 1259.21 1453.27 Q1262.29 1448.67 1268.1 1448.67 Z\" fill=\"#000000\" fill-rule=\"evenodd\" fill-opacity=\"1\" /><path clip-path=\"url(#clip000)\" d=\"M1491.8 1453.37 L1479.99 1471.81 L1491.8 1471.81 L1491.8 1453.37 M1490.57 1449.29 L1496.45 1449.29 L1496.45 1471.81 L1501.38 1471.81 L1501.38 1475.7 L1496.45 1475.7 L1496.45 1483.85 L1491.8 1483.85 L1491.8 1475.7 L1476.2 1475.7 L1476.2 1471.19 L1490.57 1449.29 Z\" fill=\"#000000\" fill-rule=\"evenodd\" fill-opacity=\"1\" /><path clip-path=\"url(#clip000)\" d=\"M1519.11 1452.37 Q1515.5 1452.37 1513.67 1455.94 Q1511.87 1459.48 1511.87 1466.61 Q1511.87 1473.71 1513.67 1477.28 Q1515.5 1480.82 1519.11 1480.82 Q1522.75 1480.82 1524.55 1477.28 Q1526.38 1473.71 1526.38 1466.61 Q1526.38 1459.48 1524.55 1455.94 Q1522.75 1452.37 1519.11 1452.37 M1519.11 1448.67 Q1524.92 1448.67 1527.98 1453.27 Q1531.06 1457.86 1531.06 1466.61 Q1531.06 1475.33 1527.98 1479.94 Q1524.92 1484.52 1519.11 1484.52 Q1513.3 1484.52 1510.22 1479.94 Q1507.17 1475.33 1507.17 1466.61 Q1507.17 1457.86 1510.22 1453.27 Q1513.3 1448.67 1519.11 1448.67 Z\" fill=\"#000000\" fill-rule=\"evenodd\" fill-opacity=\"1\" /><path clip-path=\"url(#clip000)\" d=\"M1549.28 1452.37 Q1545.66 1452.37 1543.84 1455.94 Q1542.03 1459.48 1542.03 1466.61 Q1542.03 1473.71 1543.84 1477.28 Q1545.66 1480.82 1549.28 1480.82 Q1552.91 1480.82 1554.72 1477.28 Q1556.54 1473.71 1556.54 1466.61 Q1556.54 1459.48 1554.72 1455.94 Q1552.91 1452.37 1549.28 1452.37 M1549.28 1448.67 Q1555.09 1448.67 1558.14 1453.27 Q1561.22 1457.86 1561.22 1466.61 Q1561.22 1475.33 1558.14 1479.94 Q1555.09 1484.52 1549.28 1484.52 Q1543.47 1484.52 1540.39 1479.94 Q1537.33 1475.33 1537.33 1466.61 Q1537.33 1457.86 1540.39 1453.27 Q1543.47 1448.67 1549.28 1448.67 Z\" fill=\"#000000\" fill-rule=\"evenodd\" fill-opacity=\"1\" /><path clip-path=\"url(#clip000)\" d=\"M1758.86 1449.29 L1777.21 1449.29 L1777.21 1453.23 L1763.14 1453.23 L1763.14 1461.7 Q1764.16 1461.35 1765.18 1461.19 Q1766.2 1461 1767.21 1461 Q1773 1461 1776.38 1464.18 Q1779.76 1467.35 1779.76 1472.76 Q1779.76 1478.34 1776.29 1481.44 Q1772.82 1484.52 1766.5 1484.52 Q1764.32 1484.52 1762.05 1484.15 Q1759.81 1483.78 1757.4 1483.04 L1757.4 1478.34 Q1759.48 1479.48 1761.71 1480.03 Q1763.93 1480.59 1766.4 1480.59 Q1770.41 1480.59 1772.75 1478.48 Q1775.08 1476.38 1775.08 1472.76 Q1775.08 1469.15 1772.75 1467.05 Q1770.41 1464.94 1766.4 1464.94 Q1764.53 1464.94 1762.65 1465.36 Q1760.8 1465.77 1758.86 1466.65 L1758.86 1449.29 Z\" fill=\"#000000\" fill-rule=\"evenodd\" fill-opacity=\"1\" /><path clip-path=\"url(#clip000)\" d=\"M1798.97 1452.37 Q1795.36 1452.37 1793.53 1455.94 Q1791.73 1459.48 1791.73 1466.61 Q1791.73 1473.71 1793.53 1477.28 Q1795.36 1480.82 1798.97 1480.82 Q1802.61 1480.82 1804.41 1477.28 Q1806.24 1473.71 1806.24 1466.61 Q1806.24 1459.48 1804.41 1455.94 Q1802.61 1452.37 1798.97 1452.37 M1798.97 1448.67 Q1804.78 1448.67 1807.84 1453.27 Q1810.92 1457.86 1810.92 1466.61 Q1810.92 1475.33 1807.84 1479.94 Q1804.78 1484.52 1798.97 1484.52 Q1793.16 1484.52 1790.08 1479.94 Q1787.03 1475.33 1787.03 1466.61 Q1787.03 1457.86 1790.08 1453.27 Q1793.16 1448.67 1798.97 1448.67 Z\" fill=\"#000000\" fill-rule=\"evenodd\" fill-opacity=\"1\" /><path clip-path=\"url(#clip000)\" d=\"M1829.14 1452.37 Q1825.52 1452.37 1823.7 1455.94 Q1821.89 1459.48 1821.89 1466.61 Q1821.89 1473.71 1823.7 1477.28 Q1825.52 1480.82 1829.14 1480.82 Q1832.77 1480.82 1834.58 1477.28 Q1836.4 1473.71 1836.4 1466.61 Q1836.4 1459.48 1834.58 1455.94 Q1832.77 1452.37 1829.14 1452.37 M1829.14 1448.67 Q1834.95 1448.67 1838 1453.27 Q1841.08 1457.86 1841.08 1466.61 Q1841.08 1475.33 1838 1479.94 Q1834.95 1484.52 1829.14 1484.52 Q1823.33 1484.52 1820.25 1479.94 Q1817.19 1475.33 1817.19 1466.61 Q1817.19 1457.86 1820.25 1453.27 Q1823.33 1448.67 1829.14 1448.67 Z\" fill=\"#000000\" fill-rule=\"evenodd\" fill-opacity=\"1\" /><path clip-path=\"url(#clip000)\" d=\"M2050.1 1464.71 Q2046.95 1464.71 2045.1 1466.86 Q2043.27 1469.01 2043.27 1472.76 Q2043.27 1476.49 2045.1 1478.67 Q2046.95 1480.82 2050.1 1480.82 Q2053.24 1480.82 2055.07 1478.67 Q2056.92 1476.49 2056.92 1472.76 Q2056.92 1469.01 2055.07 1466.86 Q2053.24 1464.71 2050.1 1464.71 M2059.38 1450.06 L2059.38 1454.31 Q2057.62 1453.48 2055.81 1453.04 Q2054.03 1452.6 2052.27 1452.6 Q2047.64 1452.6 2045.19 1455.73 Q2042.76 1458.85 2042.41 1465.17 Q2043.78 1463.16 2045.84 1462.09 Q2047.9 1461 2050.37 1461 Q2055.58 1461 2058.59 1464.18 Q2061.62 1467.32 2061.62 1472.76 Q2061.62 1478.09 2058.47 1481.31 Q2055.33 1484.52 2050.1 1484.52 Q2044.1 1484.52 2040.93 1479.94 Q2037.76 1475.33 2037.76 1466.61 Q2037.76 1458.41 2041.65 1453.55 Q2045.54 1448.67 2052.09 1448.67 Q2053.85 1448.67 2055.63 1449.01 Q2057.43 1449.36 2059.38 1450.06 Z\" fill=\"#000000\" fill-rule=\"evenodd\" fill-opacity=\"1\" /><path clip-path=\"url(#clip000)\" d=\"M2079.68 1452.37 Q2076.07 1452.37 2074.24 1455.94 Q2072.43 1459.48 2072.43 1466.61 Q2072.43 1473.71 2074.24 1477.28 Q2076.07 1480.82 2079.68 1480.82 Q2083.31 1480.82 2085.12 1477.28 Q2086.95 1473.71 2086.95 1466.61 Q2086.95 1459.48 2085.12 1455.94 Q2083.31 1452.37 2079.68 1452.37 M2079.68 1448.67 Q2085.49 1448.67 2088.54 1453.27 Q2091.62 1457.86 2091.62 1466.61 Q2091.62 1475.33 2088.54 1479.94 Q2085.49 1484.52 2079.68 1484.52 Q2073.87 1484.52 2070.79 1479.94 Q2067.73 1475.33 2067.73 1466.61 Q2067.73 1457.86 2070.79 1453.27 Q2073.87 1448.67 2079.68 1448.67 Z\" fill=\"#000000\" fill-rule=\"evenodd\" fill-opacity=\"1\" /><path clip-path=\"url(#clip000)\" d=\"M2109.84 1452.37 Q2106.23 1452.37 2104.4 1455.94 Q2102.59 1459.48 2102.59 1466.61 Q2102.59 1473.71 2104.4 1477.28 Q2106.23 1480.82 2109.84 1480.82 Q2113.47 1480.82 2115.28 1477.28 Q2117.11 1473.71 2117.11 1466.61 Q2117.11 1459.48 2115.28 1455.94 Q2113.47 1452.37 2109.84 1452.37 M2109.84 1448.67 Q2115.65 1448.67 2118.71 1453.27 Q2121.78 1457.86 2121.78 1466.61 Q2121.78 1475.33 2118.71 1479.94 Q2115.65 1484.52 2109.84 1484.52 Q2104.03 1484.52 2100.95 1479.94 Q2097.9 1475.33 2097.9 1466.61 Q2097.9 1457.86 2100.95 1453.27 Q2104.03 1448.67 2109.84 1448.67 Z\" fill=\"#000000\" fill-rule=\"evenodd\" fill-opacity=\"1\" /><path clip-path=\"url(#clip000)\" d=\"M1250.54 1539.37 L1241.28 1539.37 L1238.6 1550 L1247.93 1550 L1250.54 1539.37 M1245.76 1521.26 L1242.45 1534.46 L1251.75 1534.46 L1255.09 1521.26 L1260.18 1521.26 L1256.9 1534.46 L1266.83 1534.46 L1266.83 1539.37 L1255.66 1539.37 L1253.05 1550 L1263.17 1550 L1263.17 1554.87 L1251.81 1554.87 L1248.5 1568.04 L1243.41 1568.04 L1246.69 1554.87 L1237.36 1554.87 L1234.08 1568.04 L1228.96 1568.04 L1232.27 1554.87 L1222.24 1554.87 L1222.24 1550 L1233.45 1550 L1236.12 1539.37 L1225.87 1539.37 L1225.87 1534.46 L1237.36 1534.46 L1240.61 1521.26 L1245.76 1521.26 Z\" fill=\"#000000\" fill-rule=\"evenodd\" fill-opacity=\"1\" /><path clip-path=\"url(#clip000)\" d=\"M1319.35 1537.87 Q1318.36 1537.3 1317.19 1537.04 Q1316.04 1536.76 1314.64 1536.76 Q1309.67 1536.76 1307 1540 Q1304.36 1543.22 1304.36 1549.27 L1304.36 1568.04 L1298.47 1568.04 L1298.47 1532.4 L1304.36 1532.4 L1304.36 1537.93 Q1306.21 1534.69 1309.17 1533.13 Q1312.13 1531.54 1316.36 1531.54 Q1316.96 1531.54 1317.7 1531.63 Q1318.43 1531.7 1319.32 1531.85 L1319.35 1537.87 Z\" fill=\"#000000\" fill-rule=\"evenodd\" fill-opacity=\"1\" /><path clip-path=\"url(#clip000)\" d=\"M1354.55 1548.76 L1354.55 1551.62 L1327.63 1551.62 Q1328.01 1557.67 1331.25 1560.85 Q1334.53 1564 1340.36 1564 Q1343.73 1564 1346.88 1563.17 Q1350.07 1562.35 1353.18 1560.69 L1353.18 1566.23 Q1350.03 1567.57 1346.72 1568.27 Q1343.41 1568.97 1340.01 1568.97 Q1331.48 1568.97 1326.48 1564 Q1321.51 1559.04 1321.51 1550.57 Q1321.51 1541.82 1326.23 1536.69 Q1330.97 1531.54 1338.99 1531.54 Q1346.18 1531.54 1350.35 1536.18 Q1354.55 1540.8 1354.55 1548.76 M1348.7 1547.04 Q1348.63 1542.23 1345.99 1539.37 Q1343.38 1536.5 1339.05 1536.5 Q1334.15 1536.5 1331.19 1539.27 Q1328.26 1542.04 1327.82 1547.07 L1348.7 1547.04 Z\" fill=\"#000000\" fill-rule=\"evenodd\" fill-opacity=\"1\" /><path clip-path=\"url(#clip000)\" d=\"M1380.37 1550.12 Q1373.27 1550.12 1370.53 1551.75 Q1367.79 1553.37 1367.79 1557.29 Q1367.79 1560.4 1369.83 1562.25 Q1371.9 1564.07 1375.43 1564.07 Q1380.3 1564.07 1383.23 1560.63 Q1386.19 1557.16 1386.19 1551.43 L1386.19 1550.12 L1380.37 1550.12 M1392.05 1547.71 L1392.05 1568.04 L1386.19 1568.04 L1386.19 1562.63 Q1384.19 1565.88 1381.19 1567.44 Q1378.2 1568.97 1373.87 1568.97 Q1368.4 1568.97 1365.15 1565.91 Q1361.94 1562.82 1361.94 1557.67 Q1361.94 1551.65 1365.95 1548.6 Q1369.99 1545.54 1377.98 1545.54 L1386.19 1545.54 L1386.19 1544.97 Q1386.19 1540.93 1383.52 1538.73 Q1380.88 1536.5 1376.07 1536.5 Q1373.01 1536.5 1370.12 1537.23 Q1367.22 1537.97 1364.55 1539.43 L1364.55 1534.02 Q1367.76 1532.78 1370.79 1532.17 Q1373.81 1531.54 1376.67 1531.54 Q1384.41 1531.54 1388.23 1535.55 Q1392.05 1539.56 1392.05 1547.71 Z\" fill=\"#000000\" fill-rule=\"evenodd\" fill-opacity=\"1\" /><path clip-path=\"url(#clip000)\" d=\"M1427.57 1537.81 L1427.57 1518.52 L1433.42 1518.52 L1433.42 1568.04 L1427.57 1568.04 L1427.57 1562.7 Q1425.72 1565.88 1422.89 1567.44 Q1420.09 1568.97 1416.14 1568.97 Q1409.68 1568.97 1405.61 1563.81 Q1401.56 1558.65 1401.56 1550.25 Q1401.56 1541.85 1405.61 1536.69 Q1409.68 1531.54 1416.14 1531.54 Q1420.09 1531.54 1422.89 1533.1 Q1425.72 1534.62 1427.57 1537.81 M1407.61 1550.25 Q1407.61 1556.71 1410.25 1560.4 Q1412.93 1564.07 1417.57 1564.07 Q1422.22 1564.07 1424.89 1560.4 Q1427.57 1556.71 1427.57 1550.25 Q1427.57 1543.79 1424.89 1540.13 Q1422.22 1536.44 1417.57 1536.44 Q1412.93 1536.44 1410.25 1540.13 Q1407.61 1543.79 1407.61 1550.25 Z\" fill=\"#000000\" fill-rule=\"evenodd\" fill-opacity=\"1\" /><path clip-path=\"url(#clip000)\" d=\"M1468.21 1533.45 L1468.21 1538.98 Q1465.73 1537.71 1463.06 1537.07 Q1460.38 1536.44 1457.52 1536.44 Q1453.16 1536.44 1450.96 1537.77 Q1448.8 1539.11 1448.8 1541.79 Q1448.8 1543.82 1450.36 1545 Q1451.92 1546.15 1456.63 1547.2 L1458.63 1547.64 Q1464.87 1548.98 1467.48 1551.43 Q1470.12 1553.85 1470.12 1558.21 Q1470.12 1563.17 1466.18 1566.07 Q1462.26 1568.97 1455.39 1568.97 Q1452.52 1568.97 1449.4 1568.39 Q1446.31 1567.85 1442.88 1566.74 L1442.88 1560.69 Q1446.12 1562.38 1449.27 1563.24 Q1452.43 1564.07 1455.51 1564.07 Q1459.65 1564.07 1461.88 1562.66 Q1464.11 1561.23 1464.11 1558.65 Q1464.11 1556.27 1462.48 1554.99 Q1460.89 1553.72 1455.45 1552.54 L1453.41 1552.07 Q1447.97 1550.92 1445.55 1548.56 Q1443.13 1546.18 1443.13 1542.04 Q1443.13 1537.01 1446.7 1534.27 Q1450.26 1531.54 1456.82 1531.54 Q1460.06 1531.54 1462.93 1532.01 Q1465.79 1532.49 1468.21 1533.45 Z\" fill=\"#000000\" fill-rule=\"evenodd\" fill-opacity=\"1\" /><polyline clip-path=\"url(#clip002)\" style=\"stroke:#000000; stroke-linecap:butt; stroke-linejoin:round; stroke-width:2; stroke-opacity:0.1; fill:none\" points=\"\n",
       "  339.608,1386.4 2352.76,1386.4 \n",
       "  \"/>\n",
       "<polyline clip-path=\"url(#clip002)\" style=\"stroke:#000000; stroke-linecap:butt; stroke-linejoin:round; stroke-width:2; stroke-opacity:0.1; fill:none\" points=\"\n",
       "  339.608,1100.91 2352.76,1100.91 \n",
       "  \"/>\n",
       "<polyline clip-path=\"url(#clip002)\" style=\"stroke:#000000; stroke-linecap:butt; stroke-linejoin:round; stroke-width:2; stroke-opacity:0.1; fill:none\" points=\"\n",
       "  339.608,815.43 2352.76,815.43 \n",
       "  \"/>\n",
       "<polyline clip-path=\"url(#clip002)\" style=\"stroke:#000000; stroke-linecap:butt; stroke-linejoin:round; stroke-width:2; stroke-opacity:0.1; fill:none\" points=\"\n",
       "  339.608,529.947 2352.76,529.947 \n",
       "  \"/>\n",
       "<polyline clip-path=\"url(#clip002)\" style=\"stroke:#000000; stroke-linecap:butt; stroke-linejoin:round; stroke-width:2; stroke-opacity:0.1; fill:none\" points=\"\n",
       "  339.608,244.464 2352.76,244.464 \n",
       "  \"/>\n",
       "<polyline clip-path=\"url(#clip000)\" style=\"stroke:#000000; stroke-linecap:butt; stroke-linejoin:round; stroke-width:4; stroke-opacity:1; fill:none\" points=\"\n",
       "  339.608,1423.18 339.608,123.472 \n",
       "  \"/>\n",
       "<polyline clip-path=\"url(#clip000)\" style=\"stroke:#000000; stroke-linecap:butt; stroke-linejoin:round; stroke-width:4; stroke-opacity:1; fill:none\" points=\"\n",
       "  339.608,1386.4 358.506,1386.4 \n",
       "  \"/>\n",
       "<polyline clip-path=\"url(#clip000)\" style=\"stroke:#000000; stroke-linecap:butt; stroke-linejoin:round; stroke-width:4; stroke-opacity:1; fill:none\" points=\"\n",
       "  339.608,1100.91 358.506,1100.91 \n",
       "  \"/>\n",
       "<polyline clip-path=\"url(#clip000)\" style=\"stroke:#000000; stroke-linecap:butt; stroke-linejoin:round; stroke-width:4; stroke-opacity:1; fill:none\" points=\"\n",
       "  339.608,815.43 358.506,815.43 \n",
       "  \"/>\n",
       "<polyline clip-path=\"url(#clip000)\" style=\"stroke:#000000; stroke-linecap:butt; stroke-linejoin:round; stroke-width:4; stroke-opacity:1; fill:none\" points=\"\n",
       "  339.608,529.947 358.506,529.947 \n",
       "  \"/>\n",
       "<polyline clip-path=\"url(#clip000)\" style=\"stroke:#000000; stroke-linecap:butt; stroke-linejoin:round; stroke-width:4; stroke-opacity:1; fill:none\" points=\"\n",
       "  339.608,244.464 358.506,244.464 \n",
       "  \"/>\n",
       "<path clip-path=\"url(#clip000)\" d=\"M291.664 1372.19 Q288.053 1372.19 286.224 1375.76 Q284.418 1379.3 284.418 1386.43 Q284.418 1393.54 286.224 1397.1 Q288.053 1400.64 291.664 1400.64 Q295.298 1400.64 297.104 1397.1 Q298.932 1393.54 298.932 1386.43 Q298.932 1379.3 297.104 1375.76 Q295.298 1372.19 291.664 1372.19 M291.664 1368.49 Q297.474 1368.49 300.529 1373.1 Q303.608 1377.68 303.608 1386.43 Q303.608 1395.16 300.529 1399.76 Q297.474 1404.35 291.664 1404.35 Q285.854 1404.35 282.775 1399.76 Q279.719 1395.16 279.719 1386.43 Q279.719 1377.68 282.775 1373.1 Q285.854 1368.49 291.664 1368.49 Z\" fill=\"#000000\" fill-rule=\"evenodd\" fill-opacity=\"1\" /><path clip-path=\"url(#clip000)\" d=\"M121.043 1120.71 L137.362 1120.71 L137.362 1124.64 L115.418 1124.64 L115.418 1120.71 Q118.08 1117.95 122.663 1113.32 Q127.269 1108.67 128.45 1107.33 Q130.695 1104.8 131.575 1103.07 Q132.478 1101.31 132.478 1099.62 Q132.478 1096.86 130.533 1095.13 Q128.612 1093.39 125.51 1093.39 Q123.311 1093.39 120.857 1094.15 Q118.427 1094.92 115.649 1096.47 L115.649 1091.75 Q118.473 1090.61 120.927 1090.03 Q123.38 1089.46 125.418 1089.46 Q130.788 1089.46 133.982 1092.14 Q137.177 1094.83 137.177 1099.32 Q137.177 1101.45 136.367 1103.37 Q135.579 1105.27 133.473 1107.86 Q132.894 1108.53 129.792 1111.75 Q126.691 1114.94 121.043 1120.71 Z\" fill=\"#000000\" fill-rule=\"evenodd\" fill-opacity=\"1\" /><path clip-path=\"url(#clip000)\" d=\"M147.177 1118.76 L152.061 1118.76 L152.061 1124.64 L147.177 1124.64 L147.177 1118.76 Z\" fill=\"#000000\" fill-rule=\"evenodd\" fill-opacity=\"1\" /><path clip-path=\"url(#clip000)\" d=\"M172.246 1093.16 Q168.635 1093.16 166.806 1096.72 Q165.001 1100.27 165.001 1107.4 Q165.001 1114.5 166.806 1118.07 Q168.635 1121.61 172.246 1121.61 Q175.88 1121.61 177.686 1118.07 Q179.514 1114.5 179.514 1107.4 Q179.514 1100.27 177.686 1096.72 Q175.88 1093.16 172.246 1093.16 M172.246 1089.46 Q178.056 1089.46 181.112 1094.06 Q184.19 1098.65 184.19 1107.4 Q184.19 1116.12 181.112 1120.73 Q178.056 1125.31 172.246 1125.31 Q166.436 1125.31 163.357 1120.73 Q160.302 1116.12 160.302 1107.4 Q160.302 1098.65 163.357 1094.06 Q166.436 1089.46 172.246 1089.46 Z\" fill=\"#000000\" fill-rule=\"evenodd\" fill-opacity=\"1\" /><path clip-path=\"url(#clip000)\" d=\"M220.579 1099.18 L210 1109.8 L220.579 1120.38 L217.824 1123.18 L207.199 1112.56 L196.575 1123.18 L193.843 1120.38 L204.399 1109.8 L193.843 1099.18 L196.575 1096.38 L207.199 1107 L217.824 1096.38 L220.579 1099.18 Z\" fill=\"#000000\" fill-rule=\"evenodd\" fill-opacity=\"1\" /><path clip-path=\"url(#clip000)\" d=\"M232.94 1120.71 L240.579 1120.71 L240.579 1094.34 L232.269 1096.01 L232.269 1091.75 L240.533 1090.08 L245.209 1090.08 L245.209 1120.71 L252.847 1120.71 L252.847 1124.64 L232.94 1124.64 L232.94 1120.71 Z\" fill=\"#000000\" fill-rule=\"evenodd\" fill-opacity=\"1\" /><path clip-path=\"url(#clip000)\" d=\"M272.292 1093.16 Q268.681 1093.16 266.852 1096.72 Q265.046 1100.27 265.046 1107.4 Q265.046 1114.5 266.852 1118.07 Q268.681 1121.61 272.292 1121.61 Q275.926 1121.61 277.732 1118.07 Q279.56 1114.5 279.56 1107.4 Q279.56 1100.27 277.732 1096.72 Q275.926 1093.16 272.292 1093.16 M272.292 1089.46 Q278.102 1089.46 281.157 1094.06 Q284.236 1098.65 284.236 1107.4 Q284.236 1116.12 281.157 1120.73 Q278.102 1125.31 272.292 1125.31 Q266.482 1125.31 263.403 1120.73 Q260.347 1116.12 260.347 1107.4 Q260.347 1098.65 263.403 1094.06 Q266.482 1089.46 272.292 1089.46 Z\" fill=\"#000000\" fill-rule=\"evenodd\" fill-opacity=\"1\" /><path clip-path=\"url(#clip000)\" d=\"M286.042 1096.65 L286.042 1093.19 Q287.471 1093.86 288.938 1094.22 Q290.405 1094.58 291.816 1094.58 Q295.577 1094.58 297.552 1092.06 Q299.546 1089.52 299.828 1084.37 Q298.737 1085.98 297.063 1086.85 Q295.389 1087.71 293.358 1087.71 Q289.145 1087.71 286.681 1085.17 Q284.236 1082.62 284.236 1078.2 Q284.236 1073.87 286.794 1071.26 Q289.352 1068.64 293.602 1068.64 Q298.474 1068.64 301.031 1072.38 Q303.608 1076.11 303.608 1083.22 Q303.608 1089.86 300.448 1093.83 Q297.307 1097.78 291.985 1097.78 Q290.556 1097.78 289.089 1097.49 Q287.621 1097.21 286.042 1096.65 M293.602 1084.74 Q296.16 1084.74 297.646 1082.99 Q299.151 1081.24 299.151 1078.2 Q299.151 1075.17 297.646 1073.42 Q296.16 1071.65 293.602 1071.65 Q291.045 1071.65 289.54 1073.42 Q288.054 1075.17 288.054 1078.2 Q288.054 1081.24 289.54 1082.99 Q291.045 1084.74 293.602 1084.74 Z\" fill=\"#000000\" fill-rule=\"evenodd\" fill-opacity=\"1\" /><path clip-path=\"url(#clip000)\" d=\"M129.862 808.672 L118.056 827.121 L129.862 827.121 L129.862 808.672 M128.635 804.598 L134.515 804.598 L134.515 827.121 L139.445 827.121 L139.445 831.01 L134.515 831.01 L134.515 839.158 L129.862 839.158 L129.862 831.01 L114.26 831.01 L114.26 826.496 L128.635 804.598 Z\" fill=\"#000000\" fill-rule=\"evenodd\" fill-opacity=\"1\" /><path clip-path=\"url(#clip000)\" d=\"M147.177 833.278 L152.061 833.278 L152.061 839.158 L147.177 839.158 L147.177 833.278 Z\" fill=\"#000000\" fill-rule=\"evenodd\" fill-opacity=\"1\" /><path clip-path=\"url(#clip000)\" d=\"M172.246 807.676 Q168.635 807.676 166.806 811.241 Q165.001 814.783 165.001 821.912 Q165.001 829.019 166.806 832.584 Q168.635 836.125 172.246 836.125 Q175.88 836.125 177.686 832.584 Q179.514 829.019 179.514 821.912 Q179.514 814.783 177.686 811.241 Q175.88 807.676 172.246 807.676 M172.246 803.973 Q178.056 803.973 181.112 808.579 Q184.19 813.162 184.19 821.912 Q184.19 830.639 181.112 835.246 Q178.056 839.829 172.246 839.829 Q166.436 839.829 163.357 835.246 Q160.302 830.639 160.302 821.912 Q160.302 813.162 163.357 808.579 Q166.436 803.973 172.246 803.973 Z\" fill=\"#000000\" fill-rule=\"evenodd\" fill-opacity=\"1\" /><path clip-path=\"url(#clip000)\" d=\"M220.579 813.695 L210 824.32 L220.579 834.898 L217.824 837.699 L207.199 827.074 L196.575 837.699 L193.843 834.898 L204.399 824.32 L193.843 813.695 L196.575 810.894 L207.199 821.519 L217.824 810.894 L220.579 813.695 Z\" fill=\"#000000\" fill-rule=\"evenodd\" fill-opacity=\"1\" /><path clip-path=\"url(#clip000)\" d=\"M232.94 835.222 L240.579 835.222 L240.579 808.857 L232.269 810.524 L232.269 806.264 L240.533 804.598 L245.209 804.598 L245.209 835.222 L252.847 835.222 L252.847 839.158 L232.94 839.158 L232.94 835.222 Z\" fill=\"#000000\" fill-rule=\"evenodd\" fill-opacity=\"1\" /><path clip-path=\"url(#clip000)\" d=\"M272.292 807.676 Q268.681 807.676 266.852 811.241 Q265.046 814.783 265.046 821.912 Q265.046 829.019 266.852 832.584 Q268.681 836.125 272.292 836.125 Q275.926 836.125 277.732 832.584 Q279.56 829.019 279.56 821.912 Q279.56 814.783 277.732 811.241 Q275.926 807.676 272.292 807.676 M272.292 803.973 Q278.102 803.973 281.157 808.579 Q284.236 813.162 284.236 821.912 Q284.236 830.639 281.157 835.246 Q278.102 839.829 272.292 839.829 Q266.482 839.829 263.403 835.246 Q260.347 830.639 260.347 821.912 Q260.347 813.162 263.403 808.579 Q266.482 803.973 272.292 803.973 Z\" fill=\"#000000\" fill-rule=\"evenodd\" fill-opacity=\"1\" /><path clip-path=\"url(#clip000)\" d=\"M286.042 811.164 L286.042 807.704 Q287.471 808.381 288.938 808.738 Q290.405 809.095 291.816 809.095 Q295.577 809.095 297.552 806.575 Q299.546 804.036 299.828 798.883 Q298.737 800.5 297.063 801.365 Q295.389 802.23 293.358 802.23 Q289.145 802.23 286.681 799.691 Q284.236 797.134 284.236 792.714 Q284.236 788.388 286.794 785.774 Q289.352 783.159 293.602 783.159 Q298.474 783.159 301.031 786.902 Q303.608 790.626 303.608 797.735 Q303.608 804.375 300.448 808.343 Q297.307 812.293 291.985 812.293 Q290.556 812.293 289.089 812.011 Q287.621 811.728 286.042 811.164 M293.602 799.259 Q296.16 799.259 297.646 797.51 Q299.151 795.761 299.151 792.714 Q299.151 789.686 297.646 787.937 Q296.16 786.169 293.602 786.169 Q291.045 786.169 289.54 787.937 Q288.054 789.686 288.054 792.714 Q288.054 795.761 289.54 797.51 Q291.045 799.259 293.602 799.259 Z\" fill=\"#000000\" fill-rule=\"evenodd\" fill-opacity=\"1\" /><path clip-path=\"url(#clip000)\" d=\"M127.593 534.531 Q124.445 534.531 122.593 536.684 Q120.765 538.837 120.765 542.587 Q120.765 546.314 122.593 548.49 Q124.445 550.642 127.593 550.642 Q130.742 550.642 132.57 548.49 Q134.422 546.314 134.422 542.587 Q134.422 538.837 132.57 536.684 Q130.742 534.531 127.593 534.531 M136.876 519.879 L136.876 524.138 Q135.117 523.305 133.311 522.865 Q131.529 522.425 129.769 522.425 Q125.14 522.425 122.686 525.55 Q120.255 528.675 119.908 534.994 Q121.274 532.98 123.334 531.916 Q125.394 530.828 127.871 530.828 Q133.08 530.828 136.089 533.999 Q139.121 537.147 139.121 542.587 Q139.121 547.911 135.973 551.129 Q132.825 554.346 127.593 554.346 Q121.598 554.346 118.427 549.763 Q115.256 545.156 115.256 536.43 Q115.256 528.235 119.144 523.374 Q123.033 518.49 129.584 518.49 Q131.343 518.49 133.126 518.837 Q134.931 519.184 136.876 519.879 Z\" fill=\"#000000\" fill-rule=\"evenodd\" fill-opacity=\"1\" /><path clip-path=\"url(#clip000)\" d=\"M147.177 547.795 L152.061 547.795 L152.061 553.675 L147.177 553.675 L147.177 547.795 Z\" fill=\"#000000\" fill-rule=\"evenodd\" fill-opacity=\"1\" /><path clip-path=\"url(#clip000)\" d=\"M172.246 522.194 Q168.635 522.194 166.806 525.758 Q165.001 529.3 165.001 536.43 Q165.001 543.536 166.806 547.101 Q168.635 550.642 172.246 550.642 Q175.88 550.642 177.686 547.101 Q179.514 543.536 179.514 536.43 Q179.514 529.3 177.686 525.758 Q175.88 522.194 172.246 522.194 M172.246 518.49 Q178.056 518.49 181.112 523.096 Q184.19 527.68 184.19 536.43 Q184.19 545.156 181.112 549.763 Q178.056 554.346 172.246 554.346 Q166.436 554.346 163.357 549.763 Q160.302 545.156 160.302 536.43 Q160.302 527.68 163.357 523.096 Q166.436 518.49 172.246 518.49 Z\" fill=\"#000000\" fill-rule=\"evenodd\" fill-opacity=\"1\" /><path clip-path=\"url(#clip000)\" d=\"M220.579 528.212 L210 538.837 L220.579 549.416 L217.824 552.216 L207.199 541.592 L196.575 552.216 L193.843 549.416 L204.399 538.837 L193.843 528.212 L196.575 525.411 L207.199 536.036 L217.824 525.411 L220.579 528.212 Z\" fill=\"#000000\" fill-rule=\"evenodd\" fill-opacity=\"1\" /><path clip-path=\"url(#clip000)\" d=\"M232.94 549.74 L240.579 549.74 L240.579 523.374 L232.269 525.041 L232.269 520.781 L240.533 519.115 L245.209 519.115 L245.209 549.74 L252.847 549.74 L252.847 553.675 L232.94 553.675 L232.94 549.74 Z\" fill=\"#000000\" fill-rule=\"evenodd\" fill-opacity=\"1\" /><path clip-path=\"url(#clip000)\" d=\"M272.292 522.194 Q268.681 522.194 266.852 525.758 Q265.046 529.3 265.046 536.43 Q265.046 543.536 266.852 547.101 Q268.681 550.642 272.292 550.642 Q275.926 550.642 277.732 547.101 Q279.56 543.536 279.56 536.43 Q279.56 529.3 277.732 525.758 Q275.926 522.194 272.292 522.194 M272.292 518.49 Q278.102 518.49 281.157 523.096 Q284.236 527.68 284.236 536.43 Q284.236 545.156 281.157 549.763 Q278.102 554.346 272.292 554.346 Q266.482 554.346 263.403 549.763 Q260.347 545.156 260.347 536.43 Q260.347 527.68 263.403 523.096 Q266.482 518.49 272.292 518.49 Z\" fill=\"#000000\" fill-rule=\"evenodd\" fill-opacity=\"1\" /><path clip-path=\"url(#clip000)\" d=\"M286.042 525.681 L286.042 522.221 Q287.471 522.898 288.938 523.255 Q290.405 523.613 291.816 523.613 Q295.577 523.613 297.552 521.092 Q299.546 518.553 299.828 513.4 Q298.737 515.017 297.063 515.883 Q295.389 516.748 293.358 516.748 Q289.145 516.748 286.681 514.209 Q284.236 511.651 284.236 507.231 Q284.236 502.905 286.794 500.291 Q289.352 497.677 293.602 497.677 Q298.474 497.677 301.031 501.419 Q303.608 505.143 303.608 512.253 Q303.608 518.892 300.448 522.86 Q297.307 526.81 291.985 526.81 Q290.556 526.81 289.089 526.528 Q287.621 526.246 286.042 525.681 M293.602 513.776 Q296.16 513.776 297.646 512.027 Q299.151 510.278 299.151 507.231 Q299.151 504.203 297.646 502.454 Q296.16 500.686 293.602 500.686 Q291.045 500.686 289.54 502.454 Q288.054 504.203 288.054 507.231 Q288.054 510.278 289.54 512.027 Q291.045 513.776 293.602 513.776 Z\" fill=\"#000000\" fill-rule=\"evenodd\" fill-opacity=\"1\" /><path clip-path=\"url(#clip000)\" d=\"M127.015 251.78 Q123.681 251.78 121.76 253.562 Q119.862 255.345 119.862 258.47 Q119.862 261.595 121.76 263.377 Q123.681 265.16 127.015 265.16 Q130.348 265.16 132.269 263.377 Q134.191 261.572 134.191 258.47 Q134.191 255.345 132.269 253.562 Q130.371 251.78 127.015 251.78 M122.339 249.789 Q119.33 249.049 117.64 246.988 Q115.973 244.928 115.973 241.965 Q115.973 237.822 118.913 235.414 Q121.876 233.007 127.015 233.007 Q132.177 233.007 135.117 235.414 Q138.056 237.822 138.056 241.965 Q138.056 244.928 136.367 246.988 Q134.7 249.049 131.714 249.789 Q135.093 250.576 136.968 252.868 Q138.867 255.16 138.867 258.47 Q138.867 263.493 135.788 266.178 Q132.732 268.863 127.015 268.863 Q121.297 268.863 118.218 266.178 Q115.163 263.493 115.163 258.47 Q115.163 255.16 117.061 252.868 Q118.959 250.576 122.339 249.789 M120.626 242.405 Q120.626 245.09 122.293 246.595 Q123.982 248.1 127.015 248.1 Q130.024 248.1 131.714 246.595 Q133.427 245.09 133.427 242.405 Q133.427 239.72 131.714 238.215 Q130.024 236.711 127.015 236.711 Q123.982 236.711 122.293 238.215 Q120.626 239.72 120.626 242.405 Z\" fill=\"#000000\" fill-rule=\"evenodd\" fill-opacity=\"1\" /><path clip-path=\"url(#clip000)\" d=\"M147.177 262.312 L152.061 262.312 L152.061 268.192 L147.177 268.192 L147.177 262.312 Z\" fill=\"#000000\" fill-rule=\"evenodd\" fill-opacity=\"1\" /><path clip-path=\"url(#clip000)\" d=\"M172.246 236.711 Q168.635 236.711 166.806 240.275 Q165.001 243.817 165.001 250.947 Q165.001 258.053 166.806 261.618 Q168.635 265.16 172.246 265.16 Q175.88 265.16 177.686 261.618 Q179.514 258.053 179.514 250.947 Q179.514 243.817 177.686 240.275 Q175.88 236.711 172.246 236.711 M172.246 233.007 Q178.056 233.007 181.112 237.613 Q184.19 242.197 184.19 250.947 Q184.19 259.674 181.112 264.28 Q178.056 268.863 172.246 268.863 Q166.436 268.863 163.357 264.28 Q160.302 259.674 160.302 250.947 Q160.302 242.197 163.357 237.613 Q166.436 233.007 172.246 233.007 Z\" fill=\"#000000\" fill-rule=\"evenodd\" fill-opacity=\"1\" /><path clip-path=\"url(#clip000)\" d=\"M220.579 242.729 L210 253.354 L220.579 263.933 L217.824 266.734 L207.199 256.109 L196.575 266.734 L193.843 263.933 L204.399 253.354 L193.843 242.729 L196.575 239.928 L207.199 250.553 L217.824 239.928 L220.579 242.729 Z\" fill=\"#000000\" fill-rule=\"evenodd\" fill-opacity=\"1\" /><path clip-path=\"url(#clip000)\" d=\"M232.94 264.257 L240.579 264.257 L240.579 237.891 L232.269 239.558 L232.269 235.299 L240.533 233.632 L245.209 233.632 L245.209 264.257 L252.847 264.257 L252.847 268.192 L232.94 268.192 L232.94 264.257 Z\" fill=\"#000000\" fill-rule=\"evenodd\" fill-opacity=\"1\" /><path clip-path=\"url(#clip000)\" d=\"M272.292 236.711 Q268.681 236.711 266.852 240.275 Q265.046 243.817 265.046 250.947 Q265.046 258.053 266.852 261.618 Q268.681 265.16 272.292 265.16 Q275.926 265.16 277.732 261.618 Q279.56 258.053 279.56 250.947 Q279.56 243.817 277.732 240.275 Q275.926 236.711 272.292 236.711 M272.292 233.007 Q278.102 233.007 281.157 237.613 Q284.236 242.197 284.236 250.947 Q284.236 259.674 281.157 264.28 Q278.102 268.863 272.292 268.863 Q266.482 268.863 263.403 264.28 Q260.347 259.674 260.347 250.947 Q260.347 242.197 263.403 237.613 Q266.482 233.007 272.292 233.007 Z\" fill=\"#000000\" fill-rule=\"evenodd\" fill-opacity=\"1\" /><path clip-path=\"url(#clip000)\" d=\"M286.042 240.199 L286.042 236.738 Q287.471 237.415 288.938 237.772 Q290.405 238.13 291.816 238.13 Q295.577 238.13 297.552 235.609 Q299.546 233.07 299.828 227.917 Q298.737 229.535 297.063 230.4 Q295.389 231.265 293.358 231.265 Q289.145 231.265 286.681 228.726 Q284.236 226.168 284.236 221.748 Q284.236 217.422 286.794 214.808 Q289.352 212.194 293.602 212.194 Q298.474 212.194 301.031 215.937 Q303.608 219.66 303.608 226.77 Q303.608 233.409 300.448 237.377 Q297.307 241.327 291.985 241.327 Q290.556 241.327 289.089 241.045 Q287.621 240.763 286.042 240.199 M293.602 228.293 Q296.16 228.293 297.646 226.544 Q299.151 224.795 299.151 221.748 Q299.151 218.72 297.646 216.971 Q296.16 215.203 293.602 215.203 Q291.045 215.203 289.54 216.971 Q288.054 218.72 288.054 221.748 Q288.054 224.795 289.54 226.544 Q291.045 228.293 293.602 228.293 Z\" fill=\"#000000\" fill-rule=\"evenodd\" fill-opacity=\"1\" /><path clip-path=\"url(#clip000)\" d=\"M35.3266 1001.78 L35.3266 1011.04 L45.9574 1013.71 L45.9574 1004.39 L35.3266 1001.78 M17.2162 1006.55 L30.4251 1009.86 L30.4251 1000.57 L17.2162 997.224 L17.2162 992.131 L30.4251 995.41 L30.4251 985.479 L35.3266 985.479 L35.3266 996.651 L45.9574 999.261 L45.9574 989.139 L50.8271 989.139 L50.8271 1000.5 L64.0042 1003.81 L64.0042 1008.9 L50.8271 1005.63 L50.8271 1014.95 L64.0042 1018.23 L64.0042 1023.36 L50.8271 1020.04 L50.8271 1030.07 L45.9574 1030.07 L45.9574 1018.87 L35.3266 1016.19 L35.3266 1026.44 L30.4251 1026.44 L30.4251 1014.95 L17.2162 1011.71 L17.2162 1006.55 Z\" fill=\"#000000\" fill-rule=\"evenodd\" fill-opacity=\"1\" /><path clip-path=\"url(#clip000)\" d=\"M49.9359 954.223 L28.3562 954.223 L28.3562 948.367 L49.7131 948.367 Q54.7739 948.367 57.3202 946.394 Q59.8346 944.42 59.8346 940.474 Q59.8346 935.731 56.8109 932.994 Q53.7872 930.225 48.5673 930.225 L28.3562 930.225 L28.3562 924.368 L64.0042 924.368 L64.0042 930.225 L58.5296 930.225 Q61.7762 932.357 63.3676 935.19 Q64.9272 937.991 64.9272 941.715 Q64.9272 947.858 61.1078 951.041 Q57.2883 954.223 49.9359 954.223 M27.4968 939.487 L27.4968 939.487 Z\" fill=\"#000000\" fill-rule=\"evenodd\" fill-opacity=\"1\" /><path clip-path=\"url(#clip000)\" d=\"M42.4881 882.673 L64.0042 882.673 L64.0042 888.529 L42.679 888.529 Q37.6183 888.529 35.1038 890.503 Q32.5894 892.476 32.5894 896.423 Q32.5894 901.165 35.6131 903.903 Q38.6368 906.64 43.8567 906.64 L64.0042 906.64 L64.0042 912.528 L28.3562 912.528 L28.3562 906.64 L33.8944 906.64 Q30.6797 904.539 29.0883 901.706 Q27.4968 898.842 27.4968 895.118 Q27.4968 888.975 31.3163 885.824 Q35.1038 882.673 42.4881 882.673 Z\" fill=\"#000000\" fill-rule=\"evenodd\" fill-opacity=\"1\" /><path clip-path=\"url(#clip000)\" d=\"M28.3562 870.992 L28.3562 865.135 L64.0042 865.135 L64.0042 870.992 L28.3562 870.992 M14.479 870.992 L14.479 865.135 L21.895 865.135 L21.895 870.992 L14.479 870.992 Z\" fill=\"#000000\" fill-rule=\"evenodd\" fill-opacity=\"1\" /><path clip-path=\"url(#clip000)\" d=\"M46.212 849.38 Q52.6732 849.38 56.3653 846.738 Q60.0256 844.065 60.0256 839.418 Q60.0256 834.771 56.3653 832.097 Q52.6732 829.424 46.212 829.424 Q39.7508 829.424 36.0905 832.097 Q32.3984 834.771 32.3984 839.418 Q32.3984 844.065 36.0905 846.738 Q39.7508 849.38 46.212 849.38 M58.657 829.424 Q61.8398 831.27 63.3994 834.103 Q64.9272 836.903 64.9272 840.85 Q64.9272 847.311 59.771 851.385 Q54.6147 855.428 46.212 855.428 Q37.8093 855.428 32.6531 851.385 Q27.4968 847.311 27.4968 840.85 Q27.4968 836.903 29.0564 834.103 Q30.5842 831.27 33.7671 829.424 L28.3562 829.424 L28.3562 823.567 L77.5631 823.567 L77.5631 829.424 L58.657 829.424 Z\" fill=\"#000000\" fill-rule=\"evenodd\" fill-opacity=\"1\" /><path clip-path=\"url(#clip000)\" d=\"M49.9359 812.109 L28.3562 812.109 L28.3562 806.253 L49.7131 806.253 Q54.7739 806.253 57.3202 804.279 Q59.8346 802.306 59.8346 798.359 Q59.8346 793.617 56.8109 790.879 Q53.7872 788.11 48.5673 788.11 L28.3562 788.11 L28.3562 782.254 L64.0042 782.254 L64.0042 788.11 L58.5296 788.11 Q61.7762 790.243 63.3676 793.076 Q64.9272 795.876 64.9272 799.6 Q64.9272 805.743 61.1078 808.926 Q57.2883 812.109 49.9359 812.109 M27.4968 797.372 L27.4968 797.372 Z\" fill=\"#000000\" fill-rule=\"evenodd\" fill-opacity=\"1\" /><path clip-path=\"url(#clip000)\" d=\"M44.7161 739.699 L47.5806 739.699 L47.5806 766.626 Q53.6281 766.244 56.8109 762.998 Q59.9619 759.719 59.9619 753.895 Q59.9619 750.521 59.1344 747.37 Q58.3069 744.187 56.6518 741.068 L62.1899 741.068 Q63.5267 744.219 64.227 747.529 Q64.9272 750.839 64.9272 754.245 Q64.9272 762.775 59.9619 767.772 Q54.9967 772.737 46.5303 772.737 Q37.7774 772.737 32.6531 768.027 Q27.4968 763.284 27.4968 755.263 Q27.4968 748.07 32.1438 743.901 Q36.7589 739.699 44.7161 739.699 M42.9973 745.556 Q38.1912 745.619 35.3266 748.261 Q32.4621 750.871 32.4621 755.2 Q32.4621 760.101 35.2312 763.061 Q38.0002 765.99 43.0292 766.435 L42.9973 745.556 Z\" fill=\"#000000\" fill-rule=\"evenodd\" fill-opacity=\"1\" /><path clip-path=\"url(#clip000)\" d=\"M14.479 709.589 L14.479 703.701 L43.7294 703.701 L28.3562 686.227 L28.3562 678.747 L45.0344 697.654 L64.0042 677.952 L64.0042 685.591 L46.5939 703.701 L64.0042 703.701 L64.0042 709.589 L14.479 709.589 Z\" fill=\"#000000\" fill-rule=\"evenodd\" fill-opacity=\"1\" /><path clip-path=\"url(#clip000)\" d=\"M35.1993 643.863 Q31.2526 641.667 29.3747 638.612 Q27.4968 635.556 27.4968 631.418 Q27.4968 625.848 31.4117 622.825 Q35.2948 619.801 42.4881 619.801 L64.0042 619.801 L64.0042 625.689 L42.679 625.689 Q37.5546 625.689 35.072 627.504 Q32.5894 629.318 32.5894 633.042 Q32.5894 637.593 35.6131 640.235 Q38.6368 642.877 43.8567 642.877 L64.0042 642.877 L64.0042 648.765 L42.679 648.765 Q37.5228 648.765 35.072 650.579 Q32.5894 652.393 32.5894 656.181 Q32.5894 660.669 35.6449 663.311 Q38.6686 665.952 43.8567 665.952 L64.0042 665.952 L64.0042 671.841 L28.3562 671.841 L28.3562 665.952 L33.8944 665.952 Q30.616 663.947 29.0564 661.146 Q27.4968 658.345 27.4968 654.494 Q27.4968 650.611 29.4702 647.906 Q31.4436 645.168 35.1993 643.863 Z\" fill=\"#000000\" fill-rule=\"evenodd\" fill-opacity=\"1\" /><path clip-path=\"url(#clip000)\" d=\"M44.7161 577.628 L47.5806 577.628 L47.5806 604.555 Q53.6281 604.173 56.8109 600.927 Q59.9619 597.648 59.9619 591.824 Q59.9619 588.45 59.1344 585.299 Q58.3069 582.116 56.6518 578.997 L62.1899 578.997 Q63.5267 582.148 64.227 585.458 Q64.9272 588.768 64.9272 592.174 Q64.9272 600.704 59.9619 605.701 Q54.9967 610.666 46.5303 610.666 Q37.7774 610.666 32.6531 605.956 Q27.4968 601.213 27.4968 593.192 Q27.4968 585.999 32.1438 581.83 Q36.7589 577.628 44.7161 577.628 M42.9973 583.485 Q38.1912 583.548 35.3266 586.19 Q32.4621 588.8 32.4621 593.129 Q32.4621 598.03 35.2312 600.99 Q38.0002 603.919 43.0292 604.364 L42.9973 583.485 Z\" fill=\"#000000\" fill-rule=\"evenodd\" fill-opacity=\"1\" /><path clip-path=\"url(#clip000)\" d=\"M33.8307 547.359 Q33.2578 548.346 33.0032 549.524 Q32.7167 550.669 32.7167 552.07 Q32.7167 557.035 35.9632 559.709 Q39.1779 562.351 45.2253 562.351 L64.0042 562.351 L64.0042 568.239 L28.3562 568.239 L28.3562 562.351 L33.8944 562.351 Q30.6479 560.504 29.0883 557.544 Q27.4968 554.584 27.4968 550.351 Q27.4968 549.746 27.5923 549.014 Q27.656 548.282 27.8151 547.391 L33.8307 547.359 Z\" fill=\"#000000\" fill-rule=\"evenodd\" fill-opacity=\"1\" /><path clip-path=\"url(#clip000)\" d=\"M29.4065 518.491 L34.9447 518.491 Q33.6716 520.973 33.035 523.647 Q32.3984 526.321 32.3984 529.185 Q32.3984 533.546 33.7352 535.742 Q35.072 537.906 37.7456 537.906 Q39.7826 537.906 40.9603 536.347 Q42.1061 534.787 43.1565 530.076 L43.6021 528.071 Q44.9389 521.833 47.3897 519.223 Q49.8086 516.581 54.1691 516.581 Q59.1344 516.581 62.0308 520.528 Q64.9272 524.443 64.9272 531.318 Q64.9272 534.182 64.3543 537.301 Q63.8132 540.389 62.6992 543.826 L56.6518 543.826 Q58.3387 540.58 59.198 537.429 Q60.0256 534.278 60.0256 531.19 Q60.0256 527.053 58.6251 524.825 Q57.1929 522.597 54.6147 522.597 Q52.2276 522.597 50.9545 524.22 Q49.6813 525.811 48.5037 531.254 L48.0262 533.291 Q46.8804 538.734 44.5251 541.153 Q42.138 543.572 38.0002 543.572 Q32.9713 543.572 30.2341 540.007 Q27.4968 536.442 27.4968 529.885 Q27.4968 526.639 27.9743 523.774 Q28.4517 520.91 29.4065 518.491 Z\" fill=\"#000000\" fill-rule=\"evenodd\" fill-opacity=\"1\" /><path clip-path=\"url(#clip000)\" d=\"M920.979 28.5427 L920.979 35.5912 Q917.819 33.9709 914.416 33.1607 Q911.014 32.3505 907.368 32.3505 Q901.818 32.3505 899.023 34.0519 Q896.268 35.7533 896.268 39.156 Q896.268 41.7486 898.253 43.2475 Q900.238 44.7058 906.234 46.0426 L908.786 46.6097 Q916.725 48.3111 920.047 51.4303 Q923.409 54.509 923.409 60.0587 Q923.409 66.3781 918.386 70.0644 Q913.404 73.7508 904.654 73.7508 Q901.008 73.7508 897.038 73.0216 Q893.109 72.3329 888.734 70.9151 L888.734 63.2184 Q892.866 65.3654 896.876 66.4591 Q900.886 67.5124 904.816 67.5124 Q910.082 67.5124 912.918 65.73 Q915.753 63.9071 915.753 60.6258 Q915.753 57.5877 913.687 55.9673 Q911.662 54.3469 904.735 52.8481 L902.142 52.2405 Q895.215 50.7821 892.136 47.7845 Q889.058 44.7463 889.058 39.4801 Q889.058 33.0797 893.595 29.5959 Q898.132 26.1121 906.477 26.1121 Q910.609 26.1121 914.254 26.7198 Q917.9 27.3274 920.979 28.5427 Z\" fill=\"#000000\" fill-rule=\"evenodd\" fill-opacity=\"1\" /><path clip-path=\"url(#clip000)\" d=\"M974.086 48.0275 L974.086 51.6733 L939.816 51.6733 Q940.302 59.3701 944.434 63.421 Q948.606 67.4314 956.019 67.4314 Q960.313 67.4314 964.324 66.3781 Q968.374 65.3249 972.344 63.2184 L972.344 70.267 Q968.334 71.9684 964.121 72.8596 Q959.908 73.7508 955.574 73.7508 Q944.717 73.7508 938.357 67.4314 Q932.038 61.1119 932.038 50.3365 Q932.038 39.1965 938.033 32.6746 Q944.069 26.1121 954.277 26.1121 Q963.432 26.1121 968.739 32.0264 Q974.086 37.9003 974.086 48.0275 M966.633 45.84 Q966.552 39.7232 963.189 36.0774 Q959.868 32.4315 954.358 32.4315 Q948.12 32.4315 944.353 35.9558 Q940.626 39.4801 940.059 45.8805 L966.633 45.84 Z\" fill=\"#000000\" fill-rule=\"evenodd\" fill-opacity=\"1\" /><path clip-path=\"url(#clip000)\" d=\"M990.776 49.9314 Q990.776 58.1548 994.138 62.8538 Q997.541 67.5124 1003.46 67.5124 Q1009.37 67.5124 1012.77 62.8538 Q1016.18 58.1548 1016.18 49.9314 Q1016.18 41.7081 1012.77 37.0496 Q1009.37 32.3505 1003.46 32.3505 Q997.541 32.3505 994.138 37.0496 Q990.776 41.7081 990.776 49.9314 M1016.18 65.7705 Q1013.83 69.8214 1010.22 71.8063 Q1006.66 73.7508 1001.63 73.7508 Q993.409 73.7508 988.224 67.1883 Q983.079 60.6258 983.079 49.9314 Q983.079 39.2371 988.224 32.6746 Q993.409 26.1121 1001.63 26.1121 Q1006.66 26.1121 1010.22 28.0971 Q1013.83 30.0415 1016.18 34.0924 L1016.18 27.2059 L1023.63 27.2059 L1023.63 89.8329 L1016.18 89.8329 L1016.18 65.7705 Z\" fill=\"#000000\" fill-rule=\"evenodd\" fill-opacity=\"1\" /><path clip-path=\"url(#clip000)\" d=\"M1038.21 54.671 L1038.21 27.2059 L1045.67 27.2059 L1045.67 54.3874 Q1045.67 60.8284 1048.18 64.0691 Q1050.69 67.2693 1055.71 67.2693 Q1061.75 67.2693 1065.23 63.421 Q1068.76 59.5726 1068.76 52.9291 L1068.76 27.2059 L1076.21 27.2059 L1076.21 72.576 L1068.76 72.576 L1068.76 65.6084 Q1066.04 69.7404 1062.44 71.7658 Q1058.87 73.7508 1054.13 73.7508 Q1046.31 73.7508 1042.26 68.8897 Q1038.21 64.0286 1038.21 54.671 M1056.97 26.1121 L1056.97 26.1121 Z\" fill=\"#000000\" fill-rule=\"evenodd\" fill-opacity=\"1\" /><path clip-path=\"url(#clip000)\" d=\"M1130.37 48.0275 L1130.37 51.6733 L1096.1 51.6733 Q1096.59 59.3701 1100.72 63.421 Q1104.89 67.4314 1112.3 67.4314 Q1116.6 67.4314 1120.61 66.3781 Q1124.66 65.3249 1128.63 63.2184 L1128.63 70.267 Q1124.62 71.9684 1120.4 72.8596 Q1116.19 73.7508 1111.86 73.7508 Q1101 73.7508 1094.64 67.4314 Q1088.32 61.1119 1088.32 50.3365 Q1088.32 39.1965 1094.32 32.6746 Q1100.35 26.1121 1110.56 26.1121 Q1119.72 26.1121 1125.02 32.0264 Q1130.37 37.9003 1130.37 48.0275 M1122.92 45.84 Q1122.84 39.7232 1119.47 36.0774 Q1116.15 32.4315 1110.64 32.4315 Q1104.4 32.4315 1100.64 35.9558 Q1096.91 39.4801 1096.34 45.8805 L1122.92 45.84 Z\" fill=\"#000000\" fill-rule=\"evenodd\" fill-opacity=\"1\" /><path clip-path=\"url(#clip000)\" d=\"M1180.32 45.1919 L1180.32 72.576 L1172.86 72.576 L1172.86 45.4349 Q1172.86 38.994 1170.35 35.7938 Q1167.84 32.5936 1162.82 32.5936 Q1156.78 32.5936 1153.3 36.4419 Q1149.81 40.2903 1149.81 46.9338 L1149.81 72.576 L1142.32 72.576 L1142.32 27.2059 L1149.81 27.2059 L1149.81 34.2544 Q1152.49 30.163 1156.09 28.1376 Q1159.74 26.1121 1164.48 26.1121 Q1172.3 26.1121 1176.31 30.9732 Q1180.32 35.7938 1180.32 45.1919 Z\" fill=\"#000000\" fill-rule=\"evenodd\" fill-opacity=\"1\" /><path clip-path=\"url(#clip000)\" d=\"M1227.83 28.9478 L1227.83 35.9153 Q1224.68 34.1734 1221.47 33.3227 Q1218.32 32.4315 1215.07 32.4315 Q1207.82 32.4315 1203.81 37.0496 Q1199.8 41.6271 1199.8 49.9314 Q1199.8 58.2358 1203.81 62.8538 Q1207.82 67.4314 1215.07 67.4314 Q1218.32 67.4314 1221.47 66.5807 Q1224.68 65.6895 1227.83 63.9476 L1227.83 70.8341 Q1224.72 72.2924 1221.35 73.0216 Q1218.03 73.7508 1214.26 73.7508 Q1204.02 73.7508 1197.98 67.3098 Q1191.94 60.8689 1191.94 49.9314 Q1191.94 38.832 1198.02 32.472 Q1204.14 26.1121 1214.75 26.1121 Q1218.19 26.1121 1221.47 26.8413 Q1224.76 27.5299 1227.83 28.9478 Z\" fill=\"#000000\" fill-rule=\"evenodd\" fill-opacity=\"1\" /><path clip-path=\"url(#clip000)\" d=\"M1240.8 27.2059 L1248.25 27.2059 L1248.25 72.576 L1240.8 72.576 L1240.8 27.2059 M1240.8 9.54393 L1248.25 9.54393 L1248.25 18.9825 L1240.8 18.9825 L1240.8 9.54393 Z\" fill=\"#000000\" fill-rule=\"evenodd\" fill-opacity=\"1\" /><path clip-path=\"url(#clip000)\" d=\"M1301.56 45.1919 L1301.56 72.576 L1294.11 72.576 L1294.11 45.4349 Q1294.11 38.994 1291.6 35.7938 Q1289.08 32.5936 1284.06 32.5936 Q1278.03 32.5936 1274.54 36.4419 Q1271.06 40.2903 1271.06 46.9338 L1271.06 72.576 L1263.56 72.576 L1263.56 27.2059 L1271.06 27.2059 L1271.06 34.2544 Q1273.73 30.163 1277.34 28.1376 Q1280.98 26.1121 1285.72 26.1121 Q1293.54 26.1121 1297.55 30.9732 Q1301.56 35.7938 1301.56 45.1919 Z\" fill=\"#000000\" fill-rule=\"evenodd\" fill-opacity=\"1\" /><path clip-path=\"url(#clip000)\" d=\"M1346.28 49.3643 Q1346.28 41.2625 1342.92 36.8065 Q1339.6 32.3505 1333.56 32.3505 Q1327.57 32.3505 1324.21 36.8065 Q1320.88 41.2625 1320.88 49.3643 Q1320.88 57.4256 1324.21 61.8816 Q1327.57 66.3376 1333.56 66.3376 Q1339.6 66.3376 1342.92 61.8816 Q1346.28 57.4256 1346.28 49.3643 M1353.74 66.9452 Q1353.74 78.5308 1348.59 84.1616 Q1343.45 89.8329 1332.83 89.8329 Q1328.9 89.8329 1325.42 89.2252 Q1321.94 88.6581 1318.66 87.4428 L1318.66 80.1917 Q1321.94 81.9741 1325.14 82.8248 Q1328.34 83.6755 1331.66 83.6755 Q1338.99 83.6755 1342.64 79.8271 Q1346.28 76.0193 1346.28 68.282 L1346.28 64.5957 Q1343.97 68.6061 1340.37 70.5911 Q1336.76 72.576 1331.74 72.576 Q1323.4 72.576 1318.29 66.2161 Q1313.19 59.8562 1313.19 49.3643 Q1313.19 38.832 1318.29 32.472 Q1323.4 26.1121 1331.74 26.1121 Q1336.76 26.1121 1340.37 28.0971 Q1343.97 30.082 1346.28 34.0924 L1346.28 27.2059 L1353.74 27.2059 L1353.74 66.9452 Z\" fill=\"#000000\" fill-rule=\"evenodd\" fill-opacity=\"1\" /><path clip-path=\"url(#clip000)\" d=\"M1424.38 28.5427 L1424.38 35.5912 Q1421.23 33.9709 1417.82 33.1607 Q1414.42 32.3505 1410.77 32.3505 Q1405.22 32.3505 1402.43 34.0519 Q1399.67 35.7533 1399.67 39.156 Q1399.67 41.7486 1401.66 43.2475 Q1403.64 44.7058 1409.64 46.0426 L1412.19 46.6097 Q1420.13 48.3111 1423.45 51.4303 Q1426.82 54.509 1426.82 60.0587 Q1426.82 66.3781 1421.79 70.0644 Q1416.81 73.7508 1408.06 73.7508 Q1404.41 73.7508 1400.44 73.0216 Q1396.51 72.3329 1392.14 70.9151 L1392.14 63.2184 Q1396.27 65.3654 1400.28 66.4591 Q1404.29 67.5124 1408.22 67.5124 Q1413.49 67.5124 1416.32 65.73 Q1419.16 63.9071 1419.16 60.6258 Q1419.16 57.5877 1417.09 55.9673 Q1415.07 54.3469 1408.14 52.8481 L1405.55 52.2405 Q1398.62 50.7821 1395.54 47.7845 Q1392.46 44.7463 1392.46 39.4801 Q1392.46 33.0797 1397 29.5959 Q1401.54 26.1121 1409.88 26.1121 Q1414.01 26.1121 1417.66 26.7198 Q1421.31 27.3274 1424.38 28.5427 Z\" fill=\"#000000\" fill-rule=\"evenodd\" fill-opacity=\"1\" /><path clip-path=\"url(#clip000)\" d=\"M1459.3 49.7694 Q1450.27 49.7694 1446.79 51.8354 Q1443.3 53.9013 1443.3 58.8839 Q1443.3 62.8538 1445.9 65.2034 Q1448.53 67.5124 1453.02 67.5124 Q1459.22 67.5124 1462.95 63.1374 Q1466.72 58.7219 1466.72 51.4303 L1466.72 49.7694 L1459.3 49.7694 M1474.17 46.6907 L1474.17 72.576 L1466.72 72.576 L1466.72 65.6895 Q1464.16 69.8214 1460.36 71.8063 Q1456.55 73.7508 1451.04 73.7508 Q1444.07 73.7508 1439.94 69.8619 Q1435.85 65.9325 1435.85 59.3701 Q1435.85 51.7138 1440.95 47.825 Q1446.1 43.9361 1456.27 43.9361 L1466.72 43.9361 L1466.72 43.2069 Q1466.72 38.0623 1463.31 35.2672 Q1459.95 32.4315 1453.83 32.4315 Q1449.95 32.4315 1446.26 33.3632 Q1442.57 34.295 1439.17 36.1584 L1439.17 29.2718 Q1443.26 27.692 1447.11 26.9223 Q1450.96 26.1121 1454.6 26.1121 Q1464.45 26.1121 1469.31 31.2163 Q1474.17 36.3204 1474.17 46.6907 Z\" fill=\"#000000\" fill-rule=\"evenodd\" fill-opacity=\"1\" /><path clip-path=\"url(#clip000)\" d=\"M1496.9 14.324 L1496.9 27.2059 L1512.25 27.2059 L1512.25 32.9987 L1496.9 32.9987 L1496.9 57.6282 Q1496.9 63.1779 1498.39 64.7578 Q1499.93 66.3376 1504.59 66.3376 L1512.25 66.3376 L1512.25 72.576 L1504.59 72.576 Q1495.96 72.576 1492.68 69.3758 Q1489.4 66.1351 1489.4 57.6282 L1489.4 32.9987 L1483.93 32.9987 L1483.93 27.2059 L1489.4 27.2059 L1489.4 14.324 L1496.9 14.324 Z\" fill=\"#000000\" fill-rule=\"evenodd\" fill-opacity=\"1\" /><path clip-path=\"url(#clip000)\" d=\"M1521.28 54.671 L1521.28 27.2059 L1528.74 27.2059 L1528.74 54.3874 Q1528.74 60.8284 1531.25 64.0691 Q1533.76 67.2693 1538.78 67.2693 Q1544.82 67.2693 1548.3 63.421 Q1551.83 59.5726 1551.83 52.9291 L1551.83 27.2059 L1559.28 27.2059 L1559.28 72.576 L1551.83 72.576 L1551.83 65.6084 Q1549.11 69.7404 1545.51 71.7658 Q1541.94 73.7508 1537.2 73.7508 Q1529.38 73.7508 1525.33 68.8897 Q1521.28 64.0286 1521.28 54.671 M1540.04 26.1121 L1540.04 26.1121 Z\" fill=\"#000000\" fill-rule=\"evenodd\" fill-opacity=\"1\" /><path clip-path=\"url(#clip000)\" d=\"M1600.92 34.1734 Q1599.67 33.4443 1598.17 33.1202 Q1596.71 32.7556 1594.93 32.7556 Q1588.61 32.7556 1585.21 36.8875 Q1581.84 40.9789 1581.84 48.6757 L1581.84 72.576 L1574.35 72.576 L1574.35 27.2059 L1581.84 27.2059 L1581.84 34.2544 Q1584.19 30.1225 1587.96 28.1376 Q1591.73 26.1121 1597.12 26.1121 Q1597.88 26.1121 1598.82 26.2337 Q1599.75 26.3147 1600.88 26.5172 L1600.92 34.1734 Z\" fill=\"#000000\" fill-rule=\"evenodd\" fill-opacity=\"1\" /><path clip-path=\"url(#clip000)\" d=\"M1629.36 49.7694 Q1620.33 49.7694 1616.84 51.8354 Q1613.36 53.9013 1613.36 58.8839 Q1613.36 62.8538 1615.95 65.2034 Q1618.59 67.5124 1623.08 67.5124 Q1629.28 67.5124 1633.01 63.1374 Q1636.77 58.7219 1636.77 51.4303 L1636.77 49.7694 L1629.36 49.7694 M1644.23 46.6907 L1644.23 72.576 L1636.77 72.576 L1636.77 65.6895 Q1634.22 69.8214 1630.41 71.8063 Q1626.61 73.7508 1621.1 73.7508 Q1614.13 73.7508 1610 69.8619 Q1605.91 65.9325 1605.91 59.3701 Q1605.91 51.7138 1611.01 47.825 Q1616.15 43.9361 1626.32 43.9361 L1636.77 43.9361 L1636.77 43.2069 Q1636.77 38.0623 1633.37 35.2672 Q1630.01 32.4315 1623.89 32.4315 Q1620 32.4315 1616.32 33.3632 Q1612.63 34.295 1609.23 36.1584 L1609.23 29.2718 Q1613.32 27.692 1617.17 26.9223 Q1621.02 26.1121 1624.66 26.1121 Q1634.51 26.1121 1639.37 31.2163 Q1644.23 36.3204 1644.23 46.6907 Z\" fill=\"#000000\" fill-rule=\"evenodd\" fill-opacity=\"1\" /><path clip-path=\"url(#clip000)\" d=\"M1666.95 14.324 L1666.95 27.2059 L1682.31 27.2059 L1682.31 32.9987 L1666.95 32.9987 L1666.95 57.6282 Q1666.95 63.1779 1668.45 64.7578 Q1669.99 66.3376 1674.65 66.3376 L1682.31 66.3376 L1682.31 72.576 L1674.65 72.576 Q1666.02 72.576 1662.74 69.3758 Q1659.46 66.1351 1659.46 57.6282 L1659.46 32.9987 L1653.99 32.9987 L1653.99 27.2059 L1659.46 27.2059 L1659.46 14.324 L1666.95 14.324 Z\" fill=\"#000000\" fill-rule=\"evenodd\" fill-opacity=\"1\" /><path clip-path=\"url(#clip000)\" d=\"M1692.11 27.2059 L1699.56 27.2059 L1699.56 72.576 L1692.11 72.576 L1692.11 27.2059 M1692.11 9.54393 L1699.56 9.54393 L1699.56 18.9825 L1692.11 18.9825 L1692.11 9.54393 Z\" fill=\"#000000\" fill-rule=\"evenodd\" fill-opacity=\"1\" /><path clip-path=\"url(#clip000)\" d=\"M1732.74 32.4315 Q1726.74 32.4315 1723.26 37.1306 Q1719.78 41.7891 1719.78 49.9314 Q1719.78 58.0738 1723.22 62.7728 Q1726.7 67.4314 1732.74 67.4314 Q1738.69 67.4314 1742.18 62.7323 Q1745.66 58.0333 1745.66 49.9314 Q1745.66 41.8701 1742.18 37.1711 Q1738.69 32.4315 1732.74 32.4315 M1732.74 26.1121 Q1742.46 26.1121 1748.01 32.4315 Q1753.56 38.7509 1753.56 49.9314 Q1753.56 61.0714 1748.01 67.4314 Q1742.46 73.7508 1732.74 73.7508 Q1722.98 73.7508 1717.43 67.4314 Q1711.92 61.0714 1711.92 49.9314 Q1711.92 38.7509 1717.43 32.4315 Q1722.98 26.1121 1732.74 26.1121 Z\" fill=\"#000000\" fill-rule=\"evenodd\" fill-opacity=\"1\" /><path clip-path=\"url(#clip000)\" d=\"M1803.63 45.1919 L1803.63 72.576 L1796.18 72.576 L1796.18 45.4349 Q1796.18 38.994 1793.67 35.7938 Q1791.15 32.5936 1786.13 32.5936 Q1780.09 32.5936 1776.61 36.4419 Q1773.13 40.2903 1773.13 46.9338 L1773.13 72.576 L1765.63 72.576 L1765.63 27.2059 L1773.13 27.2059 L1773.13 34.2544 Q1775.8 30.163 1779.41 28.1376 Q1783.05 26.1121 1787.79 26.1121 Q1795.61 26.1121 1799.62 30.9732 Q1803.63 35.7938 1803.63 45.1919 Z\" fill=\"#000000\" fill-rule=\"evenodd\" fill-opacity=\"1\" /><circle clip-path=\"url(#clip002)\" cx=\"396.584\" cy=\"1386.4\" r=\"14\" fill=\"#009af9\" fill-rule=\"evenodd\" fill-opacity=\"1\" stroke=\"#000000\" stroke-opacity=\"1\" stroke-width=\"3.2\"/>\n",
       "<circle clip-path=\"url(#clip002)\" cx=\"399.389\" cy=\"1386.38\" r=\"14\" fill=\"#009af9\" fill-rule=\"evenodd\" fill-opacity=\"1\" stroke=\"#000000\" stroke-opacity=\"1\" stroke-width=\"3.2\"/>\n",
       "<circle clip-path=\"url(#clip002)\" cx=\"402.195\" cy=\"1386.36\" r=\"14\" fill=\"#009af9\" fill-rule=\"evenodd\" fill-opacity=\"1\" stroke=\"#000000\" stroke-opacity=\"1\" stroke-width=\"3.2\"/>\n",
       "<circle clip-path=\"url(#clip002)\" cx=\"407.805\" cy=\"1386.34\" r=\"14\" fill=\"#009af9\" fill-rule=\"evenodd\" fill-opacity=\"1\" stroke=\"#000000\" stroke-opacity=\"1\" stroke-width=\"3.2\"/>\n",
       "<circle clip-path=\"url(#clip002)\" cx=\"419.026\" cy=\"1386.3\" r=\"14\" fill=\"#009af9\" fill-rule=\"evenodd\" fill-opacity=\"1\" stroke=\"#000000\" stroke-opacity=\"1\" stroke-width=\"3.2\"/>\n",
       "<circle clip-path=\"url(#clip002)\" cx=\"441.469\" cy=\"1386.18\" r=\"14\" fill=\"#009af9\" fill-rule=\"evenodd\" fill-opacity=\"1\" stroke=\"#000000\" stroke-opacity=\"1\" stroke-width=\"3.2\"/>\n",
       "<circle clip-path=\"url(#clip002)\" cx=\"486.354\" cy=\"1385.98\" r=\"14\" fill=\"#009af9\" fill-rule=\"evenodd\" fill-opacity=\"1\" stroke=\"#000000\" stroke-opacity=\"1\" stroke-width=\"3.2\"/>\n",
       "<circle clip-path=\"url(#clip002)\" cx=\"576.124\" cy=\"1385.6\" r=\"14\" fill=\"#009af9\" fill-rule=\"evenodd\" fill-opacity=\"1\" stroke=\"#000000\" stroke-opacity=\"1\" stroke-width=\"3.2\"/>\n",
       "<circle clip-path=\"url(#clip002)\" cx=\"755.664\" cy=\"1384.94\" r=\"14\" fill=\"#009af9\" fill-rule=\"evenodd\" fill-opacity=\"1\" stroke=\"#000000\" stroke-opacity=\"1\" stroke-width=\"3.2\"/>\n",
       "<polyline clip-path=\"url(#clip002)\" style=\"stroke:#e26f46; stroke-linecap:butt; stroke-linejoin:round; stroke-width:4; stroke-opacity:1; fill:none\" points=\"\n",
       "  -1673.54,160.256 4365.9,160.256 \n",
       "  \"/>\n",
       "<polyline clip-path=\"url(#clip002)\" style=\"stroke:#3da44d; stroke-linecap:butt; stroke-linejoin:round; stroke-width:4; stroke-opacity:1; fill:none\" points=\"\n",
       "  -1673.54,1377.23 4365.9,1377.23 \n",
       "  \"/>\n",
       "<polyline clip-path=\"url(#clip002)\" style=\"stroke:#c271d2; stroke-linecap:butt; stroke-linejoin:round; stroke-width:4; stroke-opacity:1; fill:none\" points=\"\n",
       "  2295.78,2722.89 2295.78,-1176.24 \n",
       "  \"/>\n",
       "<polyline clip-path=\"url(#clip002)\" style=\"stroke:#ac8d18; stroke-linecap:butt; stroke-linejoin:round; stroke-width:4; stroke-opacity:1; fill:none\" points=\"\n",
       "  396.584,1386.4 399.389,1386.38 402.195,1386.37 407.805,1386.34 419.026,1386.29 441.469,1386.18 486.354,1385.98 576.124,1385.6 755.664,1384.94 1114.74,1383.88 \n",
       "  1832.9,1382.45 \n",
       "  \"/>\n",
       "<path clip-path=\"url(#clip000)\" d=\"\n",
       "M1536.25 1379.86 L2285.65 1379.86 L2285.65 1068.82 L1536.25 1068.82  Z\n",
       "  \" fill=\"#ffffff\" fill-rule=\"evenodd\" fill-opacity=\"1\"/>\n",
       "<polyline clip-path=\"url(#clip000)\" style=\"stroke:#000000; stroke-linecap:butt; stroke-linejoin:round; stroke-width:4; stroke-opacity:1; fill:none\" points=\"\n",
       "  1536.25,1379.86 2285.65,1379.86 2285.65,1068.82 1536.25,1068.82 1536.25,1379.86 \n",
       "  \"/>\n",
       "<circle clip-path=\"url(#clip000)\" cx=\"1625.73\" cy=\"1120.66\" r=\"23\" fill=\"#009af9\" fill-rule=\"evenodd\" fill-opacity=\"1\" stroke=\"#000000\" stroke-opacity=\"1\" stroke-width=\"5.12\"/>\n",
       "<path clip-path=\"url(#clip000)\" d=\"M1727.1 1115 Q1723.67 1115 1721.68 1117.68 Q1719.69 1120.34 1719.69 1125 Q1719.69 1129.65 1721.66 1132.33 Q1723.65 1135 1727.1 1135 Q1730.5 1135 1732.49 1132.31 Q1734.48 1129.63 1734.48 1125 Q1734.48 1120.39 1732.49 1117.7 Q1730.5 1115 1727.1 1115 M1727.1 1111.39 Q1732.65 1111.39 1735.82 1115 Q1739 1118.61 1739 1125 Q1739 1131.36 1735.82 1135 Q1732.65 1138.61 1727.1 1138.61 Q1721.52 1138.61 1718.35 1135 Q1715.2 1131.36 1715.2 1125 Q1715.2 1118.61 1718.35 1115 Q1721.52 1111.39 1727.1 1111.39 Z\" fill=\"#000000\" fill-rule=\"evenodd\" fill-opacity=\"1\" /><path clip-path=\"url(#clip000)\" d=\"M1764.67 1125 Q1764.67 1120.3 1762.72 1117.64 Q1760.8 1114.95 1757.42 1114.95 Q1754.04 1114.95 1752.1 1117.64 Q1750.18 1120.3 1750.18 1125 Q1750.18 1129.7 1752.1 1132.38 Q1754.04 1135.04 1757.42 1135.04 Q1760.8 1135.04 1762.72 1132.38 Q1764.67 1129.7 1764.67 1125 M1750.18 1115.95 Q1751.52 1113.63 1753.56 1112.52 Q1755.62 1111.39 1758.46 1111.39 Q1763.19 1111.39 1766.13 1115.14 Q1769.09 1118.89 1769.09 1125 Q1769.09 1131.11 1766.13 1134.86 Q1763.19 1138.61 1758.46 1138.61 Q1755.62 1138.61 1753.56 1137.5 Q1751.52 1136.36 1750.18 1134.05 L1750.18 1137.94 L1745.89 1137.94 L1745.89 1101.92 L1750.18 1101.92 L1750.18 1115.95 Z\" fill=\"#000000\" fill-rule=\"evenodd\" fill-opacity=\"1\" /><path clip-path=\"url(#clip000)\" d=\"M1792.68 1112.77 L1792.68 1116.8 Q1790.87 1115.88 1788.93 1115.41 Q1786.98 1114.95 1784.9 1114.95 Q1781.73 1114.95 1780.13 1115.92 Q1778.56 1116.89 1778.56 1118.84 Q1778.56 1120.32 1779.69 1121.18 Q1780.82 1122.01 1784.25 1122.77 L1785.71 1123.1 Q1790.25 1124.07 1792.14 1125.85 Q1794.06 1127.61 1794.06 1130.78 Q1794.06 1134.39 1791.19 1136.5 Q1788.35 1138.61 1783.35 1138.61 Q1781.26 1138.61 1779 1138.19 Q1776.75 1137.8 1774.25 1136.99 L1774.25 1132.59 Q1776.61 1133.82 1778.9 1134.44 Q1781.19 1135.04 1783.44 1135.04 Q1786.45 1135.04 1788.07 1134.02 Q1789.69 1132.98 1789.69 1131.11 Q1789.69 1129.37 1788.51 1128.45 Q1787.35 1127.52 1783.39 1126.66 L1781.91 1126.32 Q1777.95 1125.48 1776.19 1123.77 Q1774.44 1122.03 1774.44 1119.02 Q1774.44 1115.37 1777.03 1113.38 Q1779.62 1111.39 1784.39 1111.39 Q1786.75 1111.39 1788.83 1111.73 Q1790.92 1112.08 1792.68 1112.77 Z\" fill=\"#000000\" fill-rule=\"evenodd\" fill-opacity=\"1\" /><path clip-path=\"url(#clip000)\" d=\"M1823.02 1123.91 L1823.02 1125.99 L1803.44 1125.99 Q1803.72 1130.39 1806.08 1132.7 Q1808.46 1135 1812.7 1135 Q1815.15 1135 1817.44 1134.39 Q1819.76 1133.79 1822.03 1132.59 L1822.03 1136.62 Q1819.74 1137.59 1817.33 1138.1 Q1814.92 1138.61 1812.44 1138.61 Q1806.24 1138.61 1802.61 1135 Q1799 1131.39 1799 1125.23 Q1799 1118.86 1802.42 1115.14 Q1805.87 1111.39 1811.7 1111.39 Q1816.94 1111.39 1819.97 1114.77 Q1823.02 1118.12 1823.02 1123.91 M1818.76 1122.66 Q1818.72 1119.16 1816.8 1117.08 Q1814.9 1115 1811.75 1115 Q1808.19 1115 1806.03 1117.01 Q1803.9 1119.02 1803.58 1122.68 L1818.76 1122.66 Z\" fill=\"#000000\" fill-rule=\"evenodd\" fill-opacity=\"1\" /><path clip-path=\"url(#clip000)\" d=\"M1845.04 1115.99 Q1844.32 1115.58 1843.46 1115.39 Q1842.63 1115.18 1841.61 1115.18 Q1838 1115.18 1836.06 1117.54 Q1834.13 1119.88 1834.13 1124.28 L1834.13 1137.94 L1829.85 1137.94 L1829.85 1112.01 L1834.13 1112.01 L1834.13 1116.04 Q1835.48 1113.68 1837.63 1112.54 Q1839.78 1111.39 1842.86 1111.39 Q1843.3 1111.39 1843.83 1111.45 Q1844.37 1111.5 1845.01 1111.62 L1845.04 1115.99 Z\" fill=\"#000000\" fill-rule=\"evenodd\" fill-opacity=\"1\" /><path clip-path=\"url(#clip000)\" d=\"M1846.45 1112.01 L1850.96 1112.01 L1859.06 1133.77 L1867.17 1112.01 L1871.68 1112.01 L1861.96 1137.94 L1856.17 1137.94 L1846.45 1112.01 Z\" fill=\"#000000\" fill-rule=\"evenodd\" fill-opacity=\"1\" /><path clip-path=\"url(#clip000)\" d=\"M1899.74 1123.91 L1899.74 1125.99 L1880.15 1125.99 Q1880.43 1130.39 1882.79 1132.7 Q1885.18 1135 1889.41 1135 Q1891.87 1135 1894.16 1134.39 Q1896.47 1133.79 1898.74 1132.59 L1898.74 1136.62 Q1896.45 1137.59 1894.04 1138.1 Q1891.63 1138.61 1889.16 1138.61 Q1882.95 1138.61 1879.32 1135 Q1875.71 1131.39 1875.71 1125.23 Q1875.71 1118.86 1879.13 1115.14 Q1882.58 1111.39 1888.42 1111.39 Q1893.65 1111.39 1896.68 1114.77 Q1899.74 1118.12 1899.74 1123.91 M1895.48 1122.66 Q1895.43 1119.16 1893.51 1117.08 Q1891.61 1115 1888.46 1115 Q1884.9 1115 1882.74 1117.01 Q1880.62 1119.02 1880.29 1122.68 L1895.48 1122.66 Z\" fill=\"#000000\" fill-rule=\"evenodd\" fill-opacity=\"1\" /><path clip-path=\"url(#clip000)\" d=\"M1923.79 1115.95 L1923.79 1101.92 L1928.05 1101.92 L1928.05 1137.94 L1923.79 1137.94 L1923.79 1134.05 Q1922.44 1136.36 1920.38 1137.5 Q1918.35 1138.61 1915.48 1138.61 Q1910.78 1138.61 1907.81 1134.86 Q1904.87 1131.11 1904.87 1125 Q1904.87 1118.89 1907.81 1115.14 Q1910.78 1111.39 1915.48 1111.39 Q1918.35 1111.39 1920.38 1112.52 Q1922.44 1113.63 1923.79 1115.95 M1909.27 1125 Q1909.27 1129.7 1911.19 1132.38 Q1913.14 1135.04 1916.52 1135.04 Q1919.9 1135.04 1921.84 1132.38 Q1923.79 1129.7 1923.79 1125 Q1923.79 1120.3 1921.84 1117.64 Q1919.9 1114.95 1916.52 1114.95 Q1913.14 1114.95 1911.19 1117.64 Q1909.27 1120.3 1909.27 1125 Z\" fill=\"#000000\" fill-rule=\"evenodd\" fill-opacity=\"1\" /><path clip-path=\"url(#clip000)\" d=\"M1951.73 1101.92 L1956.01 1101.92 L1956.01 1123.19 L1968.72 1112.01 L1974.16 1112.01 L1960.41 1124.14 L1974.74 1137.94 L1969.18 1137.94 L1956.01 1125.27 L1956.01 1137.94 L1951.73 1137.94 L1951.73 1101.92 Z\" fill=\"#000000\" fill-rule=\"evenodd\" fill-opacity=\"1\" /><path clip-path=\"url(#clip000)\" d=\"M1999.53 1116.99 Q2001.12 1114.12 2003.35 1112.75 Q2005.57 1111.39 2008.58 1111.39 Q2012.63 1111.39 2014.83 1114.23 Q2017.03 1117.06 2017.03 1122.29 L2017.03 1137.94 L2012.74 1137.94 L2012.74 1122.43 Q2012.74 1118.7 2011.42 1116.89 Q2010.11 1115.09 2007.4 1115.09 Q2004.09 1115.09 2002.17 1117.29 Q2000.24 1119.49 2000.24 1123.28 L2000.24 1137.94 L1995.96 1137.94 L1995.96 1122.43 Q1995.96 1118.68 1994.64 1116.89 Q1993.32 1115.09 1990.57 1115.09 Q1987.3 1115.09 1985.38 1117.31 Q1983.46 1119.51 1983.46 1123.28 L1983.46 1137.94 L1979.18 1137.94 L1979.18 1112.01 L1983.46 1112.01 L1983.46 1116.04 Q1984.92 1113.65 1986.96 1112.52 Q1988.99 1111.39 1991.8 1111.39 Q1994.62 1111.39 1996.59 1112.82 Q1998.58 1114.26 1999.53 1116.99 Z\" fill=\"#000000\" fill-rule=\"evenodd\" fill-opacity=\"1\" /><path clip-path=\"url(#clip000)\" d=\"M2047.7 1123.91 L2047.7 1125.99 L2028.11 1125.99 Q2028.39 1130.39 2030.75 1132.7 Q2033.14 1135 2037.37 1135 Q2039.83 1135 2042.12 1134.39 Q2044.43 1133.79 2046.7 1132.59 L2046.7 1136.62 Q2044.41 1137.59 2042 1138.1 Q2039.6 1138.61 2037.12 1138.61 Q2030.92 1138.61 2027.28 1135 Q2023.67 1131.39 2023.67 1125.23 Q2023.67 1118.86 2027.1 1115.14 Q2030.55 1111.39 2036.38 1111.39 Q2041.61 1111.39 2044.64 1114.77 Q2047.7 1118.12 2047.7 1123.91 M2043.44 1122.66 Q2043.39 1119.16 2041.47 1117.08 Q2039.57 1115 2036.42 1115 Q2032.86 1115 2030.71 1117.01 Q2028.58 1119.02 2028.25 1122.68 L2043.44 1122.66 Z\" fill=\"#000000\" fill-rule=\"evenodd\" fill-opacity=\"1\" /><path clip-path=\"url(#clip000)\" d=\"M2069.71 1115.99 Q2068.99 1115.58 2068.14 1115.39 Q2067.3 1115.18 2066.29 1115.18 Q2062.67 1115.18 2060.73 1117.54 Q2058.81 1119.88 2058.81 1124.28 L2058.81 1137.94 L2054.53 1137.94 L2054.53 1112.01 L2058.81 1112.01 L2058.81 1116.04 Q2060.15 1113.68 2062.3 1112.54 Q2064.46 1111.39 2067.54 1111.39 Q2067.98 1111.39 2068.51 1111.45 Q2069.04 1111.5 2069.69 1111.62 L2069.71 1115.99 Z\" fill=\"#000000\" fill-rule=\"evenodd\" fill-opacity=\"1\" /><path clip-path=\"url(#clip000)\" d=\"M2107.91 1113.01 L2107.91 1116.99 Q2106.1 1115.99 2104.27 1115.51 Q2102.47 1115 2100.61 1115 Q2096.47 1115 2094.18 1117.64 Q2091.89 1120.25 2091.89 1125 Q2091.89 1129.74 2094.18 1132.38 Q2096.47 1135 2100.61 1135 Q2102.47 1135 2104.27 1134.51 Q2106.1 1134 2107.91 1133.01 L2107.91 1136.94 Q2106.12 1137.77 2104.2 1138.19 Q2102.3 1138.61 2100.15 1138.61 Q2094.29 1138.61 2090.85 1134.93 Q2087.4 1131.25 2087.4 1125 Q2087.4 1118.65 2090.87 1115.02 Q2094.36 1111.39 2100.43 1111.39 Q2102.4 1111.39 2104.27 1111.8 Q2106.15 1112.2 2107.91 1113.01 Z\" fill=\"#000000\" fill-rule=\"evenodd\" fill-opacity=\"1\" /><path clip-path=\"url(#clip000)\" d=\"M2125.36 1115 Q2121.93 1115 2119.94 1117.68 Q2117.95 1120.34 2117.95 1125 Q2117.95 1129.65 2119.92 1132.33 Q2121.91 1135 2125.36 1135 Q2128.76 1135 2130.75 1132.31 Q2132.74 1129.63 2132.74 1125 Q2132.74 1120.39 2130.75 1117.7 Q2128.76 1115 2125.36 1115 M2125.36 1111.39 Q2130.91 1111.39 2134.09 1115 Q2137.26 1118.61 2137.26 1125 Q2137.26 1131.36 2134.09 1135 Q2130.91 1138.61 2125.36 1138.61 Q2119.78 1138.61 2116.61 1135 Q2113.46 1131.36 2113.46 1125 Q2113.46 1118.61 2116.61 1115 Q2119.78 1111.39 2125.36 1111.39 Z\" fill=\"#000000\" fill-rule=\"evenodd\" fill-opacity=\"1\" /><path clip-path=\"url(#clip000)\" d=\"M2143.88 1127.7 L2143.88 1112.01 L2148.14 1112.01 L2148.14 1127.54 Q2148.14 1131.22 2149.57 1133.08 Q2151.01 1134.9 2153.88 1134.9 Q2157.33 1134.9 2159.32 1132.7 Q2161.33 1130.51 2161.33 1126.71 L2161.33 1112.01 L2165.59 1112.01 L2165.59 1137.94 L2161.33 1137.94 L2161.33 1133.95 Q2159.78 1136.32 2157.72 1137.47 Q2155.68 1138.61 2152.98 1138.61 Q2148.51 1138.61 2146.19 1135.83 Q2143.88 1133.05 2143.88 1127.7 M2154.6 1111.39 L2154.6 1111.39 Z\" fill=\"#000000\" fill-rule=\"evenodd\" fill-opacity=\"1\" /><path clip-path=\"url(#clip000)\" d=\"M2195.91 1122.29 L2195.91 1137.94 L2191.66 1137.94 L2191.66 1122.43 Q2191.66 1118.75 2190.22 1116.92 Q2188.79 1115.09 2185.91 1115.09 Q2182.47 1115.09 2180.47 1117.29 Q2178.48 1119.49 2178.48 1123.28 L2178.48 1137.94 L2174.2 1137.94 L2174.2 1112.01 L2178.48 1112.01 L2178.48 1116.04 Q2180.01 1113.7 2182.07 1112.54 Q2184.16 1111.39 2186.86 1111.39 Q2191.33 1111.39 2193.62 1114.16 Q2195.91 1116.92 2195.91 1122.29 Z\" fill=\"#000000\" fill-rule=\"evenodd\" fill-opacity=\"1\" /><path clip-path=\"url(#clip000)\" d=\"M2208.62 1104.65 L2208.62 1112.01 L2217.4 1112.01 L2217.4 1115.32 L2208.62 1115.32 L2208.62 1129.39 Q2208.62 1132.57 2209.48 1133.47 Q2210.36 1134.37 2213.02 1134.37 L2217.4 1134.37 L2217.4 1137.94 L2213.02 1137.94 Q2208.09 1137.94 2206.22 1136.11 Q2204.34 1134.26 2204.34 1129.39 L2204.34 1115.32 L2201.22 1115.32 L2201.22 1112.01 L2204.34 1112.01 L2204.34 1104.65 L2208.62 1104.65 Z\" fill=\"#000000\" fill-rule=\"evenodd\" fill-opacity=\"1\" /><path clip-path=\"url(#clip000)\" d=\"M2239.53 1112.77 L2239.53 1116.8 Q2237.72 1115.88 2235.78 1115.41 Q2233.83 1114.95 2231.75 1114.95 Q2228.58 1114.95 2226.98 1115.92 Q2225.41 1116.89 2225.41 1118.84 Q2225.41 1120.32 2226.54 1121.18 Q2227.67 1122.01 2231.1 1122.77 L2232.56 1123.1 Q2237.09 1124.07 2238.99 1125.85 Q2240.91 1127.61 2240.91 1130.78 Q2240.91 1134.39 2238.04 1136.5 Q2235.2 1138.61 2230.2 1138.61 Q2228.11 1138.61 2225.84 1138.19 Q2223.6 1137.8 2221.1 1136.99 L2221.1 1132.59 Q2223.46 1133.82 2225.75 1134.44 Q2228.04 1135.04 2230.29 1135.04 Q2233.3 1135.04 2234.92 1134.02 Q2236.54 1132.98 2236.54 1131.11 Q2236.54 1129.37 2235.36 1128.45 Q2234.2 1127.52 2230.24 1126.66 L2228.76 1126.32 Q2224.8 1125.48 2223.04 1123.77 Q2221.28 1122.03 2221.28 1119.02 Q2221.28 1115.37 2223.88 1113.38 Q2226.47 1111.39 2231.24 1111.39 Q2233.6 1111.39 2235.68 1111.73 Q2237.77 1112.08 2239.53 1112.77 Z\" fill=\"#000000\" fill-rule=\"evenodd\" fill-opacity=\"1\" /><polyline clip-path=\"url(#clip000)\" style=\"stroke:#e26f46; stroke-linecap:butt; stroke-linejoin:round; stroke-width:4; stroke-opacity:1; fill:none\" points=\"\n",
       "  1558.62,1172.5 1692.83,1172.5 \n",
       "  \"/>\n",
       "<path clip-path=\"url(#clip000)\" d=\"M1728.6 1176.74 Q1723.44 1176.74 1721.45 1177.92 Q1719.46 1179.11 1719.46 1181.95 Q1719.46 1184.22 1720.94 1185.56 Q1722.44 1186.88 1725.01 1186.88 Q1728.56 1186.88 1730.69 1184.38 Q1732.84 1181.86 1732.84 1177.69 L1732.84 1176.74 L1728.6 1176.74 M1737.1 1174.98 L1737.1 1189.78 L1732.84 1189.78 L1732.84 1185.84 Q1731.38 1188.2 1729.2 1189.34 Q1727.03 1190.45 1723.88 1190.45 Q1719.9 1190.45 1717.54 1188.23 Q1715.2 1185.98 1715.2 1182.23 Q1715.2 1177.86 1718.12 1175.63 Q1721.06 1173.41 1726.87 1173.41 L1732.84 1173.41 L1732.84 1172.99 Q1732.84 1170.05 1730.89 1168.46 Q1728.97 1166.84 1725.48 1166.84 Q1723.26 1166.84 1721.15 1167.37 Q1719.04 1167.9 1717.1 1168.97 L1717.1 1165.03 Q1719.44 1164.13 1721.63 1163.69 Q1723.83 1163.23 1725.92 1163.23 Q1731.54 1163.23 1734.32 1166.14 Q1737.1 1169.06 1737.1 1174.98 Z\" fill=\"#000000\" fill-rule=\"evenodd\" fill-opacity=\"1\" /><path clip-path=\"url(#clip000)\" d=\"M1764.48 1176.84 Q1764.48 1172.14 1762.54 1169.48 Q1760.62 1166.79 1757.24 1166.79 Q1753.86 1166.79 1751.91 1169.48 Q1749.99 1172.14 1749.99 1176.84 Q1749.99 1181.54 1751.91 1184.22 Q1753.86 1186.88 1757.24 1186.88 Q1760.62 1186.88 1762.54 1184.22 Q1764.48 1181.54 1764.48 1176.84 M1749.99 1167.79 Q1751.33 1165.47 1753.37 1164.36 Q1755.43 1163.23 1758.28 1163.23 Q1763 1163.23 1765.94 1166.98 Q1768.9 1170.73 1768.9 1176.84 Q1768.9 1182.95 1765.94 1186.7 Q1763 1190.45 1758.28 1190.45 Q1755.43 1190.45 1753.37 1189.34 Q1751.33 1188.2 1749.99 1185.89 L1749.99 1189.78 L1745.71 1189.78 L1745.71 1153.76 L1749.99 1153.76 L1749.99 1167.79 Z\" fill=\"#000000\" fill-rule=\"evenodd\" fill-opacity=\"1\" /><path clip-path=\"url(#clip000)\" d=\"M1792.49 1164.61 L1792.49 1168.64 Q1790.69 1167.72 1788.74 1167.25 Q1786.8 1166.79 1784.71 1166.79 Q1781.54 1166.79 1779.94 1167.76 Q1778.37 1168.73 1778.37 1170.68 Q1778.37 1172.16 1779.5 1173.02 Q1780.64 1173.85 1784.06 1174.61 L1785.52 1174.94 Q1790.06 1175.91 1791.96 1177.69 Q1793.88 1179.45 1793.88 1182.62 Q1793.88 1186.23 1791.01 1188.34 Q1788.16 1190.45 1783.16 1190.45 Q1781.08 1190.45 1778.81 1190.03 Q1776.56 1189.64 1774.07 1188.83 L1774.07 1184.43 Q1776.43 1185.66 1778.72 1186.28 Q1781.01 1186.88 1783.25 1186.88 Q1786.26 1186.88 1787.88 1185.86 Q1789.5 1184.82 1789.5 1182.95 Q1789.5 1181.21 1788.32 1180.29 Q1787.17 1179.36 1783.21 1178.5 L1781.73 1178.16 Q1777.77 1177.32 1776.01 1175.61 Q1774.25 1173.87 1774.25 1170.86 Q1774.25 1167.21 1776.84 1165.22 Q1779.44 1163.23 1784.2 1163.23 Q1786.56 1163.23 1788.65 1163.57 Q1790.73 1163.92 1792.49 1164.61 Z\" fill=\"#000000\" fill-rule=\"evenodd\" fill-opacity=\"1\" /><path clip-path=\"url(#clip000)\" d=\"M1810.71 1166.84 Q1807.28 1166.84 1805.29 1169.52 Q1803.3 1172.18 1803.3 1176.84 Q1803.3 1181.49 1805.27 1184.17 Q1807.26 1186.84 1810.71 1186.84 Q1814.11 1186.84 1816.1 1184.15 Q1818.09 1181.47 1818.09 1176.84 Q1818.09 1172.23 1816.1 1169.54 Q1814.11 1166.84 1810.71 1166.84 M1810.71 1163.23 Q1816.26 1163.23 1819.44 1166.84 Q1822.61 1170.45 1822.61 1176.84 Q1822.61 1183.2 1819.44 1186.84 Q1816.26 1190.45 1810.71 1190.45 Q1805.13 1190.45 1801.96 1186.84 Q1798.81 1183.2 1798.81 1176.84 Q1798.81 1170.45 1801.96 1166.84 Q1805.13 1163.23 1810.71 1163.23 Z\" fill=\"#000000\" fill-rule=\"evenodd\" fill-opacity=\"1\" /><path clip-path=\"url(#clip000)\" d=\"M1829.67 1153.76 L1833.93 1153.76 L1833.93 1189.78 L1829.67 1189.78 L1829.67 1153.76 Z\" fill=\"#000000\" fill-rule=\"evenodd\" fill-opacity=\"1\" /><path clip-path=\"url(#clip000)\" d=\"M1842.4 1179.54 L1842.4 1163.85 L1846.66 1163.85 L1846.66 1179.38 Q1846.66 1183.06 1848.09 1184.92 Q1849.53 1186.74 1852.4 1186.74 Q1855.85 1186.74 1857.84 1184.54 Q1859.85 1182.35 1859.85 1178.55 L1859.85 1163.85 L1864.11 1163.85 L1864.11 1189.78 L1859.85 1189.78 L1859.85 1185.79 Q1858.3 1188.16 1856.24 1189.31 Q1854.2 1190.45 1851.5 1190.45 Q1847.03 1190.45 1844.71 1187.67 Q1842.4 1184.89 1842.4 1179.54 M1853.12 1163.23 L1853.12 1163.23 Z\" fill=\"#000000\" fill-rule=\"evenodd\" fill-opacity=\"1\" /><path clip-path=\"url(#clip000)\" d=\"M1877.1 1156.49 L1877.1 1163.85 L1885.87 1163.85 L1885.87 1167.16 L1877.1 1167.16 L1877.1 1181.23 Q1877.1 1184.41 1877.95 1185.31 Q1878.83 1186.21 1881.49 1186.21 L1885.87 1186.21 L1885.87 1189.78 L1881.49 1189.78 Q1876.56 1189.78 1874.69 1187.95 Q1872.81 1186.1 1872.81 1181.23 L1872.81 1167.16 L1869.69 1167.16 L1869.69 1163.85 L1872.81 1163.85 L1872.81 1156.49 L1877.1 1156.49 Z\" fill=\"#000000\" fill-rule=\"evenodd\" fill-opacity=\"1\" /><path clip-path=\"url(#clip000)\" d=\"M1913.65 1175.75 L1913.65 1177.83 L1894.06 1177.83 Q1894.34 1182.23 1896.7 1184.54 Q1899.09 1186.84 1903.32 1186.84 Q1905.78 1186.84 1908.07 1186.23 Q1910.38 1185.63 1912.65 1184.43 L1912.65 1188.46 Q1910.36 1189.43 1907.95 1189.94 Q1905.55 1190.45 1903.07 1190.45 Q1896.87 1190.45 1893.23 1186.84 Q1889.62 1183.23 1889.62 1177.07 Q1889.62 1170.7 1893.05 1166.98 Q1896.49 1163.23 1902.33 1163.23 Q1907.56 1163.23 1910.59 1166.61 Q1913.65 1169.96 1913.65 1175.75 M1909.39 1174.5 Q1909.34 1171 1907.42 1168.92 Q1905.52 1166.84 1902.37 1166.84 Q1898.81 1166.84 1896.66 1168.85 Q1894.53 1170.86 1894.2 1174.52 L1909.39 1174.5 Z\" fill=\"#000000\" fill-rule=\"evenodd\" fill-opacity=\"1\" /><path clip-path=\"url(#clip000)\" d=\"M1955.89 1168.83 Q1957.49 1165.96 1959.71 1164.59 Q1961.93 1163.23 1964.94 1163.23 Q1968.99 1163.23 1971.19 1166.07 Q1973.39 1168.9 1973.39 1174.13 L1973.39 1189.78 L1969.11 1189.78 L1969.11 1174.27 Q1969.11 1170.54 1967.79 1168.73 Q1966.47 1166.93 1963.76 1166.93 Q1960.45 1166.93 1958.53 1169.13 Q1956.61 1171.33 1956.61 1175.12 L1956.61 1189.78 L1952.33 1189.78 L1952.33 1174.27 Q1952.33 1170.52 1951.01 1168.73 Q1949.69 1166.93 1946.93 1166.93 Q1943.67 1166.93 1941.75 1169.15 Q1939.83 1171.35 1939.83 1175.12 L1939.83 1189.78 L1935.55 1189.78 L1935.55 1163.85 L1939.83 1163.85 L1939.83 1167.88 Q1941.29 1165.49 1943.32 1164.36 Q1945.36 1163.23 1948.16 1163.23 Q1950.99 1163.23 1952.95 1164.66 Q1954.94 1166.1 1955.89 1168.83 Z\" fill=\"#000000\" fill-rule=\"evenodd\" fill-opacity=\"1\" /><path clip-path=\"url(#clip000)\" d=\"M1993.67 1176.74 Q1988.51 1176.74 1986.52 1177.92 Q1984.53 1179.11 1984.53 1181.95 Q1984.53 1184.22 1986.01 1185.56 Q1987.51 1186.88 1990.08 1186.88 Q1993.62 1186.88 1995.75 1184.38 Q1997.91 1181.86 1997.91 1177.69 L1997.91 1176.74 L1993.67 1176.74 M2002.17 1174.98 L2002.17 1189.78 L1997.91 1189.78 L1997.91 1185.84 Q1996.45 1188.2 1994.27 1189.34 Q1992.1 1190.45 1988.95 1190.45 Q1984.97 1190.45 1982.61 1188.23 Q1980.27 1185.98 1980.27 1182.23 Q1980.27 1177.86 1983.18 1175.63 Q1986.12 1173.41 1991.93 1173.41 L1997.91 1173.41 L1997.91 1172.99 Q1997.91 1170.05 1995.96 1168.46 Q1994.04 1166.84 1990.55 1166.84 Q1988.32 1166.84 1986.22 1167.37 Q1984.11 1167.9 1982.17 1168.97 L1982.17 1165.03 Q1984.5 1164.13 1986.7 1163.69 Q1988.9 1163.23 1990.99 1163.23 Q1996.61 1163.23 1999.39 1166.14 Q2002.17 1169.06 2002.17 1174.98 Z\" fill=\"#000000\" fill-rule=\"evenodd\" fill-opacity=\"1\" /><path clip-path=\"url(#clip000)\" d=\"M2032.49 1163.85 L2023.11 1176.47 L2032.98 1189.78 L2027.95 1189.78 L2020.41 1179.59 L2012.86 1189.78 L2007.84 1189.78 L2017.91 1176.21 L2008.69 1163.85 L2013.72 1163.85 L2020.59 1173.09 L2027.47 1163.85 L2032.49 1163.85 Z\" fill=\"#000000\" fill-rule=\"evenodd\" fill-opacity=\"1\" /><path clip-path=\"url(#clip000)\" d=\"M2038.99 1163.85 L2043.25 1163.85 L2043.25 1189.78 L2038.99 1189.78 L2038.99 1163.85 M2038.99 1153.76 L2043.25 1153.76 L2043.25 1159.15 L2038.99 1159.15 L2038.99 1153.76 Z\" fill=\"#000000\" fill-rule=\"evenodd\" fill-opacity=\"1\" /><path clip-path=\"url(#clip000)\" d=\"M2072.35 1168.83 Q2073.95 1165.96 2076.17 1164.59 Q2078.39 1163.23 2081.4 1163.23 Q2085.45 1163.23 2087.65 1166.07 Q2089.85 1168.9 2089.85 1174.13 L2089.85 1189.78 L2085.57 1189.78 L2085.57 1174.27 Q2085.57 1170.54 2084.25 1168.73 Q2082.93 1166.93 2080.22 1166.93 Q2076.91 1166.93 2074.99 1169.13 Q2073.07 1171.33 2073.07 1175.12 L2073.07 1189.78 L2068.79 1189.78 L2068.79 1174.27 Q2068.79 1170.52 2067.47 1168.73 Q2066.15 1166.93 2063.39 1166.93 Q2060.13 1166.93 2058.21 1169.15 Q2056.29 1171.35 2056.29 1175.12 L2056.29 1189.78 L2052 1189.78 L2052 1163.85 L2056.29 1163.85 L2056.29 1167.88 Q2057.74 1165.49 2059.78 1164.36 Q2061.82 1163.23 2064.62 1163.23 Q2067.44 1163.23 2069.41 1164.66 Q2071.4 1166.1 2072.35 1168.83 Z\" fill=\"#000000\" fill-rule=\"evenodd\" fill-opacity=\"1\" /><path clip-path=\"url(#clip000)\" d=\"M2097.91 1179.54 L2097.91 1163.85 L2102.17 1163.85 L2102.17 1179.38 Q2102.17 1183.06 2103.6 1184.92 Q2105.04 1186.74 2107.91 1186.74 Q2111.35 1186.74 2113.35 1184.54 Q2115.36 1182.35 2115.36 1178.55 L2115.36 1163.85 L2119.62 1163.85 L2119.62 1189.78 L2115.36 1189.78 L2115.36 1185.79 Q2113.81 1188.16 2111.75 1189.31 Q2109.71 1190.45 2107 1190.45 Q2102.54 1190.45 2100.22 1187.67 Q2097.91 1184.89 2097.91 1179.54 M2108.62 1163.23 L2108.62 1163.23 Z\" fill=\"#000000\" fill-rule=\"evenodd\" fill-opacity=\"1\" /><path clip-path=\"url(#clip000)\" d=\"M2148.58 1168.83 Q2150.17 1165.96 2152.4 1164.59 Q2154.62 1163.23 2157.63 1163.23 Q2161.68 1163.23 2163.88 1166.07 Q2166.08 1168.9 2166.08 1174.13 L2166.08 1189.78 L2161.79 1189.78 L2161.79 1174.27 Q2161.79 1170.54 2160.47 1168.73 Q2159.16 1166.93 2156.45 1166.93 Q2153.14 1166.93 2151.22 1169.13 Q2149.29 1171.33 2149.29 1175.12 L2149.29 1189.78 L2145.01 1189.78 L2145.01 1174.27 Q2145.01 1170.52 2143.69 1168.73 Q2142.37 1166.93 2139.62 1166.93 Q2136.35 1166.93 2134.43 1169.15 Q2132.51 1171.35 2132.51 1175.12 L2132.51 1189.78 L2128.23 1189.78 L2128.23 1163.85 L2132.51 1163.85 L2132.51 1167.88 Q2133.97 1165.49 2136.01 1164.36 Q2138.04 1163.23 2140.85 1163.23 Q2143.67 1163.23 2145.64 1164.66 Q2147.63 1166.1 2148.58 1168.83 Z\" fill=\"#000000\" fill-rule=\"evenodd\" fill-opacity=\"1\" /><polyline clip-path=\"url(#clip000)\" style=\"stroke:#3da44d; stroke-linecap:butt; stroke-linejoin:round; stroke-width:4; stroke-opacity:1; fill:none\" points=\"\n",
       "  1558.62,1224.34 1692.83,1224.34 \n",
       "  \"/>\n",
       "<path clip-path=\"url(#clip000)\" d=\"M1715.2 1215.69 L1719.46 1215.69 L1719.46 1241.62 L1715.2 1241.62 L1715.2 1215.69 M1715.2 1205.6 L1719.46 1205.6 L1719.46 1210.99 L1715.2 1210.99 L1715.2 1205.6 Z\" fill=\"#000000\" fill-rule=\"evenodd\" fill-opacity=\"1\" /><path clip-path=\"url(#clip000)\" d=\"M1749.92 1225.97 L1749.92 1241.62 L1745.66 1241.62 L1745.66 1226.11 Q1745.66 1222.43 1744.23 1220.6 Q1742.79 1218.77 1739.92 1218.77 Q1736.47 1218.77 1734.48 1220.97 Q1732.49 1223.17 1732.49 1226.96 L1732.49 1241.62 L1728.21 1241.62 L1728.21 1215.69 L1732.49 1215.69 L1732.49 1219.72 Q1734.02 1217.38 1736.08 1216.22 Q1738.16 1215.07 1740.87 1215.07 Q1745.34 1215.07 1747.63 1217.84 Q1749.92 1220.6 1749.92 1225.97 Z\" fill=\"#000000\" fill-rule=\"evenodd\" fill-opacity=\"1\" /><path clip-path=\"url(#clip000)\" d=\"M1771.54 1205.6 L1771.54 1209.14 L1767.47 1209.14 Q1765.18 1209.14 1764.27 1210.07 Q1763.39 1210.99 1763.39 1213.4 L1763.39 1215.69 L1770.41 1215.69 L1770.41 1219 L1763.39 1219 L1763.39 1241.62 L1759.11 1241.62 L1759.11 1219 L1755.04 1219 L1755.04 1215.69 L1759.11 1215.69 L1759.11 1213.88 Q1759.11 1209.56 1761.13 1207.59 Q1763.14 1205.6 1767.51 1205.6 L1771.54 1205.6 Z\" fill=\"#000000\" fill-rule=\"evenodd\" fill-opacity=\"1\" /><path clip-path=\"url(#clip000)\" d=\"M1797.28 1227.59 L1797.28 1229.67 L1777.7 1229.67 Q1777.98 1234.07 1780.34 1236.38 Q1782.72 1238.68 1786.96 1238.68 Q1789.41 1238.68 1791.7 1238.07 Q1794.02 1237.47 1796.29 1236.27 L1796.29 1240.3 Q1794 1241.27 1791.59 1241.78 Q1789.18 1242.29 1786.7 1242.29 Q1780.5 1242.29 1776.87 1238.68 Q1773.25 1235.07 1773.25 1228.91 Q1773.25 1222.54 1776.68 1218.82 Q1780.13 1215.07 1785.96 1215.07 Q1791.19 1215.07 1794.23 1218.45 Q1797.28 1221.8 1797.28 1227.59 M1793.02 1226.34 Q1792.98 1222.84 1791.06 1220.76 Q1789.16 1218.68 1786.01 1218.68 Q1782.44 1218.68 1780.29 1220.69 Q1778.16 1222.7 1777.84 1226.36 L1793.02 1226.34 Z\" fill=\"#000000\" fill-rule=\"evenodd\" fill-opacity=\"1\" /><path clip-path=\"url(#clip000)\" d=\"M1819.3 1219.67 Q1818.58 1219.26 1817.72 1219.07 Q1816.89 1218.86 1815.87 1218.86 Q1812.26 1218.86 1810.31 1221.22 Q1808.39 1223.56 1808.39 1227.96 L1808.39 1241.62 L1804.11 1241.62 L1804.11 1215.69 L1808.39 1215.69 L1808.39 1219.72 Q1809.74 1217.36 1811.89 1216.22 Q1814.04 1215.07 1817.12 1215.07 Q1817.56 1215.07 1818.09 1215.13 Q1818.62 1215.18 1819.27 1215.3 L1819.3 1219.67 Z\" fill=\"#000000\" fill-rule=\"evenodd\" fill-opacity=\"1\" /><path clip-path=\"url(#clip000)\" d=\"M1837.95 1219.67 Q1837.24 1219.26 1836.38 1219.07 Q1835.55 1218.86 1834.53 1218.86 Q1830.92 1218.86 1828.97 1221.22 Q1827.05 1223.56 1827.05 1227.96 L1827.05 1241.62 L1822.77 1241.62 L1822.77 1215.69 L1827.05 1215.69 L1827.05 1219.72 Q1828.39 1217.36 1830.55 1216.22 Q1832.7 1215.07 1835.78 1215.07 Q1836.22 1215.07 1836.75 1215.13 Q1837.28 1215.18 1837.93 1215.3 L1837.95 1219.67 Z\" fill=\"#000000\" fill-rule=\"evenodd\" fill-opacity=\"1\" /><path clip-path=\"url(#clip000)\" d=\"M1863.56 1227.59 L1863.56 1229.67 L1843.97 1229.67 Q1844.25 1234.07 1846.61 1236.38 Q1849 1238.68 1853.23 1238.68 Q1855.68 1238.68 1857.98 1238.07 Q1860.29 1237.47 1862.56 1236.27 L1862.56 1240.3 Q1860.27 1241.27 1857.86 1241.78 Q1855.45 1242.29 1852.98 1242.29 Q1846.77 1242.29 1843.14 1238.68 Q1839.53 1235.07 1839.53 1228.91 Q1839.53 1222.54 1842.95 1218.82 Q1846.4 1215.07 1852.24 1215.07 Q1857.47 1215.07 1860.5 1218.45 Q1863.56 1221.8 1863.56 1227.59 M1859.3 1226.34 Q1859.25 1222.84 1857.33 1220.76 Q1855.43 1218.68 1852.28 1218.68 Q1848.72 1218.68 1846.56 1220.69 Q1844.44 1222.7 1844.11 1226.36 L1859.3 1226.34 Z\" fill=\"#000000\" fill-rule=\"evenodd\" fill-opacity=\"1\" /><path clip-path=\"url(#clip000)\" d=\"M1887.61 1219.63 L1887.61 1205.6 L1891.87 1205.6 L1891.87 1241.62 L1887.61 1241.62 L1887.61 1237.73 Q1886.26 1240.04 1884.2 1241.18 Q1882.17 1242.29 1879.3 1242.29 Q1874.6 1242.29 1871.63 1238.54 Q1868.69 1234.79 1868.69 1228.68 Q1868.69 1222.57 1871.63 1218.82 Q1874.6 1215.07 1879.3 1215.07 Q1882.17 1215.07 1884.2 1216.2 Q1886.26 1217.31 1887.61 1219.63 M1873.09 1228.68 Q1873.09 1233.38 1875.01 1236.06 Q1876.96 1238.72 1880.34 1238.72 Q1883.72 1238.72 1885.66 1236.06 Q1887.61 1233.38 1887.61 1228.68 Q1887.61 1223.98 1885.66 1221.32 Q1883.72 1218.63 1880.34 1218.63 Q1876.96 1218.63 1875.01 1221.32 Q1873.09 1223.98 1873.09 1228.68 Z\" fill=\"#000000\" fill-rule=\"evenodd\" fill-opacity=\"1\" /><path clip-path=\"url(#clip000)\" d=\"M1935.89 1220.67 Q1937.49 1217.8 1939.71 1216.43 Q1941.93 1215.07 1944.94 1215.07 Q1948.99 1215.07 1951.19 1217.91 Q1953.39 1220.74 1953.39 1225.97 L1953.39 1241.62 L1949.11 1241.62 L1949.11 1226.11 Q1949.11 1222.38 1947.79 1220.57 Q1946.47 1218.77 1943.76 1218.77 Q1940.45 1218.77 1938.53 1220.97 Q1936.61 1223.17 1936.61 1226.96 L1936.61 1241.62 L1932.33 1241.62 L1932.33 1226.11 Q1932.33 1222.36 1931.01 1220.57 Q1929.69 1218.77 1926.93 1218.77 Q1923.67 1218.77 1921.75 1220.99 Q1919.83 1223.19 1919.83 1226.96 L1919.83 1241.62 L1915.55 1241.62 L1915.55 1215.69 L1919.83 1215.69 L1919.83 1219.72 Q1921.29 1217.33 1923.32 1216.2 Q1925.36 1215.07 1928.16 1215.07 Q1930.99 1215.07 1932.95 1216.5 Q1934.94 1217.94 1935.89 1220.67 Z\" fill=\"#000000\" fill-rule=\"evenodd\" fill-opacity=\"1\" /><path clip-path=\"url(#clip000)\" d=\"M1973.67 1228.58 Q1968.51 1228.58 1966.52 1229.76 Q1964.53 1230.95 1964.53 1233.79 Q1964.53 1236.06 1966.01 1237.4 Q1967.51 1238.72 1970.08 1238.72 Q1973.62 1238.72 1975.75 1236.22 Q1977.91 1233.7 1977.91 1229.53 L1977.91 1228.58 L1973.67 1228.58 M1982.17 1226.82 L1982.17 1241.62 L1977.91 1241.62 L1977.91 1237.68 Q1976.45 1240.04 1974.27 1241.18 Q1972.1 1242.29 1968.95 1242.29 Q1964.97 1242.29 1962.61 1240.07 Q1960.27 1237.82 1960.27 1234.07 Q1960.27 1229.7 1963.18 1227.47 Q1966.12 1225.25 1971.93 1225.25 L1977.91 1225.25 L1977.91 1224.83 Q1977.91 1221.89 1975.96 1220.3 Q1974.04 1218.68 1970.55 1218.68 Q1968.32 1218.68 1966.22 1219.21 Q1964.11 1219.74 1962.17 1220.81 L1962.17 1216.87 Q1964.5 1215.97 1966.7 1215.53 Q1968.9 1215.07 1970.99 1215.07 Q1976.61 1215.07 1979.39 1217.98 Q1982.17 1220.9 1982.17 1226.82 Z\" fill=\"#000000\" fill-rule=\"evenodd\" fill-opacity=\"1\" /><path clip-path=\"url(#clip000)\" d=\"M2012.49 1215.69 L2003.11 1228.31 L2012.98 1241.62 L2007.95 1241.62 L2000.41 1231.43 L1992.86 1241.62 L1987.84 1241.62 L1997.91 1228.05 L1988.69 1215.69 L1993.72 1215.69 L2000.59 1224.93 L2007.47 1215.69 L2012.49 1215.69 Z\" fill=\"#000000\" fill-rule=\"evenodd\" fill-opacity=\"1\" /><path clip-path=\"url(#clip000)\" d=\"M2018.99 1215.69 L2023.25 1215.69 L2023.25 1241.62 L2018.99 1241.62 L2018.99 1215.69 M2018.99 1205.6 L2023.25 1205.6 L2023.25 1210.99 L2018.99 1210.99 L2018.99 1205.6 Z\" fill=\"#000000\" fill-rule=\"evenodd\" fill-opacity=\"1\" /><path clip-path=\"url(#clip000)\" d=\"M2052.35 1220.67 Q2053.95 1217.8 2056.17 1216.43 Q2058.39 1215.07 2061.4 1215.07 Q2065.45 1215.07 2067.65 1217.91 Q2069.85 1220.74 2069.85 1225.97 L2069.85 1241.62 L2065.57 1241.62 L2065.57 1226.11 Q2065.57 1222.38 2064.25 1220.57 Q2062.93 1218.77 2060.22 1218.77 Q2056.91 1218.77 2054.99 1220.97 Q2053.07 1223.17 2053.07 1226.96 L2053.07 1241.62 L2048.79 1241.62 L2048.79 1226.11 Q2048.79 1222.36 2047.47 1220.57 Q2046.15 1218.77 2043.39 1218.77 Q2040.13 1218.77 2038.21 1220.99 Q2036.29 1223.19 2036.29 1226.96 L2036.29 1241.62 L2032 1241.62 L2032 1215.69 L2036.29 1215.69 L2036.29 1219.72 Q2037.74 1217.33 2039.78 1216.2 Q2041.82 1215.07 2044.62 1215.07 Q2047.44 1215.07 2049.41 1216.5 Q2051.4 1217.94 2052.35 1220.67 Z\" fill=\"#000000\" fill-rule=\"evenodd\" fill-opacity=\"1\" /><path clip-path=\"url(#clip000)\" d=\"M2077.91 1231.38 L2077.91 1215.69 L2082.17 1215.69 L2082.17 1231.22 Q2082.17 1234.9 2083.6 1236.76 Q2085.04 1238.58 2087.91 1238.58 Q2091.35 1238.58 2093.35 1236.38 Q2095.36 1234.19 2095.36 1230.39 L2095.36 1215.69 L2099.62 1215.69 L2099.62 1241.62 L2095.36 1241.62 L2095.36 1237.63 Q2093.81 1240 2091.75 1241.15 Q2089.71 1242.29 2087 1242.29 Q2082.54 1242.29 2080.22 1239.51 Q2077.91 1236.73 2077.91 1231.38 M2088.62 1215.07 L2088.62 1215.07 Z\" fill=\"#000000\" fill-rule=\"evenodd\" fill-opacity=\"1\" /><path clip-path=\"url(#clip000)\" d=\"M2128.58 1220.67 Q2130.17 1217.8 2132.4 1216.43 Q2134.62 1215.07 2137.63 1215.07 Q2141.68 1215.07 2143.88 1217.91 Q2146.08 1220.74 2146.08 1225.97 L2146.08 1241.62 L2141.79 1241.62 L2141.79 1226.11 Q2141.79 1222.38 2140.48 1220.57 Q2139.16 1218.77 2136.45 1218.77 Q2133.14 1218.77 2131.22 1220.97 Q2129.29 1223.17 2129.29 1226.96 L2129.29 1241.62 L2125.01 1241.62 L2125.01 1226.11 Q2125.01 1222.36 2123.69 1220.57 Q2122.37 1218.77 2119.62 1218.77 Q2116.35 1218.77 2114.43 1220.99 Q2112.51 1223.19 2112.51 1226.96 L2112.51 1241.62 L2108.23 1241.62 L2108.23 1215.69 L2112.51 1215.69 L2112.51 1219.72 Q2113.97 1217.33 2116.01 1216.2 Q2118.04 1215.07 2120.85 1215.07 Q2123.67 1215.07 2125.64 1216.5 Q2127.63 1217.94 2128.58 1220.67 Z\" fill=\"#000000\" fill-rule=\"evenodd\" fill-opacity=\"1\" /><polyline clip-path=\"url(#clip000)\" style=\"stroke:#c271d2; stroke-linecap:butt; stroke-linejoin:round; stroke-width:4; stroke-opacity:1; fill:none\" points=\"\n",
       "  1558.62,1276.18 1692.83,1276.18 \n",
       "  \"/>\n",
       "<path clip-path=\"url(#clip000)\" d=\"M1715.2 1267.53 L1719.46 1267.53 L1719.46 1293.46 L1715.2 1293.46 L1715.2 1267.53 M1715.2 1257.44 L1719.46 1257.44 L1719.46 1262.83 L1715.2 1262.83 L1715.2 1257.44 Z\" fill=\"#000000\" fill-rule=\"evenodd\" fill-opacity=\"1\" /><path clip-path=\"url(#clip000)\" d=\"M1749.92 1277.81 L1749.92 1293.46 L1745.66 1293.46 L1745.66 1277.95 Q1745.66 1274.27 1744.23 1272.44 Q1742.79 1270.61 1739.92 1270.61 Q1736.47 1270.61 1734.48 1272.81 Q1732.49 1275.01 1732.49 1278.8 L1732.49 1293.46 L1728.21 1293.46 L1728.21 1267.53 L1732.49 1267.53 L1732.49 1271.56 Q1734.02 1269.22 1736.08 1268.06 Q1738.16 1266.91 1740.87 1266.91 Q1745.34 1266.91 1747.63 1269.68 Q1749.92 1272.44 1749.92 1277.81 Z\" fill=\"#000000\" fill-rule=\"evenodd\" fill-opacity=\"1\" /><path clip-path=\"url(#clip000)\" d=\"M1771.54 1257.44 L1771.54 1260.98 L1767.47 1260.98 Q1765.18 1260.98 1764.27 1261.91 Q1763.39 1262.83 1763.39 1265.24 L1763.39 1267.53 L1770.41 1267.53 L1770.41 1270.84 L1763.39 1270.84 L1763.39 1293.46 L1759.11 1293.46 L1759.11 1270.84 L1755.04 1270.84 L1755.04 1267.53 L1759.11 1267.53 L1759.11 1265.72 Q1759.11 1261.4 1761.13 1259.43 Q1763.14 1257.44 1767.51 1257.44 L1771.54 1257.44 Z\" fill=\"#000000\" fill-rule=\"evenodd\" fill-opacity=\"1\" /><path clip-path=\"url(#clip000)\" d=\"M1797.28 1279.43 L1797.28 1281.51 L1777.7 1281.51 Q1777.98 1285.91 1780.34 1288.22 Q1782.72 1290.52 1786.96 1290.52 Q1789.41 1290.52 1791.7 1289.91 Q1794.02 1289.31 1796.29 1288.11 L1796.29 1292.14 Q1794 1293.11 1791.59 1293.62 Q1789.18 1294.13 1786.7 1294.13 Q1780.5 1294.13 1776.87 1290.52 Q1773.25 1286.91 1773.25 1280.75 Q1773.25 1274.38 1776.68 1270.66 Q1780.13 1266.91 1785.96 1266.91 Q1791.19 1266.91 1794.23 1270.29 Q1797.28 1273.64 1797.28 1279.43 M1793.02 1278.18 Q1792.98 1274.68 1791.06 1272.6 Q1789.16 1270.52 1786.01 1270.52 Q1782.44 1270.52 1780.29 1272.53 Q1778.16 1274.54 1777.84 1278.2 L1793.02 1278.18 Z\" fill=\"#000000\" fill-rule=\"evenodd\" fill-opacity=\"1\" /><path clip-path=\"url(#clip000)\" d=\"M1819.3 1271.51 Q1818.58 1271.1 1817.72 1270.91 Q1816.89 1270.7 1815.87 1270.7 Q1812.26 1270.7 1810.31 1273.06 Q1808.39 1275.4 1808.39 1279.8 L1808.39 1293.46 L1804.11 1293.46 L1804.11 1267.53 L1808.39 1267.53 L1808.39 1271.56 Q1809.74 1269.2 1811.89 1268.06 Q1814.04 1266.91 1817.12 1266.91 Q1817.56 1266.91 1818.09 1266.97 Q1818.62 1267.02 1819.27 1267.14 L1819.3 1271.51 Z\" fill=\"#000000\" fill-rule=\"evenodd\" fill-opacity=\"1\" /><path clip-path=\"url(#clip000)\" d=\"M1837.95 1271.51 Q1837.24 1271.1 1836.38 1270.91 Q1835.55 1270.7 1834.53 1270.7 Q1830.92 1270.7 1828.97 1273.06 Q1827.05 1275.4 1827.05 1279.8 L1827.05 1293.46 L1822.77 1293.46 L1822.77 1267.53 L1827.05 1267.53 L1827.05 1271.56 Q1828.39 1269.2 1830.55 1268.06 Q1832.7 1266.91 1835.78 1266.91 Q1836.22 1266.91 1836.75 1266.97 Q1837.28 1267.02 1837.93 1267.14 L1837.95 1271.51 Z\" fill=\"#000000\" fill-rule=\"evenodd\" fill-opacity=\"1\" /><path clip-path=\"url(#clip000)\" d=\"M1863.56 1279.43 L1863.56 1281.51 L1843.97 1281.51 Q1844.25 1285.91 1846.61 1288.22 Q1849 1290.52 1853.23 1290.52 Q1855.68 1290.52 1857.98 1289.91 Q1860.29 1289.31 1862.56 1288.11 L1862.56 1292.14 Q1860.27 1293.11 1857.86 1293.62 Q1855.45 1294.13 1852.98 1294.13 Q1846.77 1294.13 1843.14 1290.52 Q1839.53 1286.91 1839.53 1280.75 Q1839.53 1274.38 1842.95 1270.66 Q1846.4 1266.91 1852.24 1266.91 Q1857.47 1266.91 1860.5 1270.29 Q1863.56 1273.64 1863.56 1279.43 M1859.3 1278.18 Q1859.25 1274.68 1857.33 1272.6 Q1855.43 1270.52 1852.28 1270.52 Q1848.72 1270.52 1846.56 1272.53 Q1844.44 1274.54 1844.11 1278.2 L1859.3 1278.18 Z\" fill=\"#000000\" fill-rule=\"evenodd\" fill-opacity=\"1\" /><path clip-path=\"url(#clip000)\" d=\"M1887.61 1271.47 L1887.61 1257.44 L1891.87 1257.44 L1891.87 1293.46 L1887.61 1293.46 L1887.61 1289.57 Q1886.26 1291.88 1884.2 1293.02 Q1882.17 1294.13 1879.3 1294.13 Q1874.6 1294.13 1871.63 1290.38 Q1868.69 1286.63 1868.69 1280.52 Q1868.69 1274.41 1871.63 1270.66 Q1874.6 1266.91 1879.3 1266.91 Q1882.17 1266.91 1884.2 1268.04 Q1886.26 1269.15 1887.61 1271.47 M1873.09 1280.52 Q1873.09 1285.22 1875.01 1287.9 Q1876.96 1290.56 1880.34 1290.56 Q1883.72 1290.56 1885.66 1287.9 Q1887.61 1285.22 1887.61 1280.52 Q1887.61 1275.82 1885.66 1273.16 Q1883.72 1270.47 1880.34 1270.47 Q1876.96 1270.47 1875.01 1273.16 Q1873.09 1275.82 1873.09 1280.52 Z\" fill=\"#000000\" fill-rule=\"evenodd\" fill-opacity=\"1\" /><path clip-path=\"url(#clip000)\" d=\"M1935.89 1272.51 Q1937.49 1269.64 1939.71 1268.27 Q1941.93 1266.91 1944.94 1266.91 Q1948.99 1266.91 1951.19 1269.75 Q1953.39 1272.58 1953.39 1277.81 L1953.39 1293.46 L1949.11 1293.46 L1949.11 1277.95 Q1949.11 1274.22 1947.79 1272.41 Q1946.47 1270.61 1943.76 1270.61 Q1940.45 1270.61 1938.53 1272.81 Q1936.61 1275.01 1936.61 1278.8 L1936.61 1293.46 L1932.33 1293.46 L1932.33 1277.95 Q1932.33 1274.2 1931.01 1272.41 Q1929.69 1270.61 1926.93 1270.61 Q1923.67 1270.61 1921.75 1272.83 Q1919.83 1275.03 1919.83 1278.8 L1919.83 1293.46 L1915.55 1293.46 L1915.55 1267.53 L1919.83 1267.53 L1919.83 1271.56 Q1921.29 1269.17 1923.32 1268.04 Q1925.36 1266.91 1928.16 1266.91 Q1930.99 1266.91 1932.95 1268.34 Q1934.94 1269.78 1935.89 1272.51 Z\" fill=\"#000000\" fill-rule=\"evenodd\" fill-opacity=\"1\" /><path clip-path=\"url(#clip000)\" d=\"M1961.89 1267.53 L1966.15 1267.53 L1966.15 1293.46 L1961.89 1293.46 L1961.89 1267.53 M1961.89 1257.44 L1966.15 1257.44 L1966.15 1262.83 L1961.89 1262.83 L1961.89 1257.44 Z\" fill=\"#000000\" fill-rule=\"evenodd\" fill-opacity=\"1\" /><path clip-path=\"url(#clip000)\" d=\"M1992.12 1271.47 L1992.12 1257.44 L1996.38 1257.44 L1996.38 1293.46 L1992.12 1293.46 L1992.12 1289.57 Q1990.78 1291.88 1988.72 1293.02 Q1986.68 1294.13 1983.81 1294.13 Q1979.11 1294.13 1976.15 1290.38 Q1973.21 1286.63 1973.21 1280.52 Q1973.21 1274.41 1976.15 1270.66 Q1979.11 1266.91 1983.81 1266.91 Q1986.68 1266.91 1988.72 1268.04 Q1990.78 1269.15 1992.12 1271.47 M1977.61 1280.52 Q1977.61 1285.22 1979.53 1287.9 Q1981.47 1290.56 1984.85 1290.56 Q1988.23 1290.56 1990.17 1287.9 Q1992.12 1285.22 1992.12 1280.52 Q1992.12 1275.82 1990.17 1273.16 Q1988.23 1270.47 1984.85 1270.47 Q1981.47 1270.47 1979.53 1273.16 Q1977.61 1275.82 1977.61 1280.52 Z\" fill=\"#000000\" fill-rule=\"evenodd\" fill-opacity=\"1\" /><path clip-path=\"url(#clip000)\" d=\"M2009.27 1289.57 L2009.27 1303.32 L2004.99 1303.32 L2004.99 1267.53 L2009.27 1267.53 L2009.27 1271.47 Q2010.61 1269.15 2012.65 1268.04 Q2014.71 1266.91 2017.56 1266.91 Q2022.28 1266.91 2025.22 1270.66 Q2028.18 1274.41 2028.18 1280.52 Q2028.18 1286.63 2025.22 1290.38 Q2022.28 1294.13 2017.56 1294.13 Q2014.71 1294.13 2012.65 1293.02 Q2010.61 1291.88 2009.27 1289.57 M2023.76 1280.52 Q2023.76 1275.82 2021.82 1273.16 Q2019.9 1270.47 2016.52 1270.47 Q2013.14 1270.47 2011.19 1273.16 Q2009.27 1275.82 2009.27 1280.52 Q2009.27 1285.22 2011.19 1287.9 Q2013.14 1290.56 2016.52 1290.56 Q2019.9 1290.56 2021.82 1287.9 Q2023.76 1285.22 2023.76 1280.52 Z\" fill=\"#000000\" fill-rule=\"evenodd\" fill-opacity=\"1\" /><path clip-path=\"url(#clip000)\" d=\"M2045.29 1270.52 Q2041.86 1270.52 2039.87 1273.2 Q2037.88 1275.86 2037.88 1280.52 Q2037.88 1285.17 2039.85 1287.85 Q2041.84 1290.52 2045.29 1290.52 Q2048.69 1290.52 2050.68 1287.83 Q2052.67 1285.15 2052.67 1280.52 Q2052.67 1275.91 2050.68 1273.22 Q2048.69 1270.52 2045.29 1270.52 M2045.29 1266.91 Q2050.85 1266.91 2054.02 1270.52 Q2057.19 1274.13 2057.19 1280.52 Q2057.19 1286.88 2054.02 1290.52 Q2050.85 1294.13 2045.29 1294.13 Q2039.71 1294.13 2036.54 1290.52 Q2033.39 1286.88 2033.39 1280.52 Q2033.39 1274.13 2036.54 1270.52 Q2039.71 1266.91 2045.29 1266.91 Z\" fill=\"#000000\" fill-rule=\"evenodd\" fill-opacity=\"1\" /><path clip-path=\"url(#clip000)\" d=\"M2064.25 1267.53 L2068.51 1267.53 L2068.51 1293.46 L2064.25 1293.46 L2064.25 1267.53 M2064.25 1257.44 L2068.51 1257.44 L2068.51 1262.83 L2064.25 1262.83 L2064.25 1257.44 Z\" fill=\"#000000\" fill-rule=\"evenodd\" fill-opacity=\"1\" /><path clip-path=\"url(#clip000)\" d=\"M2098.97 1277.81 L2098.97 1293.46 L2094.71 1293.46 L2094.71 1277.95 Q2094.71 1274.27 2093.28 1272.44 Q2091.84 1270.61 2088.97 1270.61 Q2085.52 1270.61 2083.53 1272.81 Q2081.54 1275.01 2081.54 1278.8 L2081.54 1293.46 L2077.26 1293.46 L2077.26 1267.53 L2081.54 1267.53 L2081.54 1271.56 Q2083.07 1269.22 2085.13 1268.06 Q2087.21 1266.91 2089.92 1266.91 Q2094.39 1266.91 2096.68 1269.68 Q2098.97 1272.44 2098.97 1277.81 Z\" fill=\"#000000\" fill-rule=\"evenodd\" fill-opacity=\"1\" /><path clip-path=\"url(#clip000)\" d=\"M2111.68 1260.17 L2111.68 1267.53 L2120.45 1267.53 L2120.45 1270.84 L2111.68 1270.84 L2111.68 1284.91 Q2111.68 1288.09 2112.54 1288.99 Q2113.42 1289.89 2116.08 1289.89 L2120.45 1289.89 L2120.45 1293.46 L2116.08 1293.46 Q2111.15 1293.46 2109.27 1291.63 Q2107.4 1289.78 2107.4 1284.91 L2107.4 1270.84 L2104.27 1270.84 L2104.27 1267.53 L2107.4 1267.53 L2107.4 1260.17 L2111.68 1260.17 Z\" fill=\"#000000\" fill-rule=\"evenodd\" fill-opacity=\"1\" /><polyline clip-path=\"url(#clip000)\" style=\"stroke:#ac8d18; stroke-linecap:butt; stroke-linejoin:round; stroke-width:4; stroke-opacity:1; fill:none\" points=\"\n",
       "  1558.62,1328.02 1692.83,1328.02 \n",
       "  \"/>\n",
       "<path clip-path=\"url(#clip000)\" d=\"M1731.7 1309.28 L1731.7 1312.82 L1727.63 1312.82 Q1725.34 1312.82 1724.44 1313.75 Q1723.56 1314.67 1723.56 1317.08 L1723.56 1319.37 L1730.57 1319.37 L1730.57 1322.68 L1723.56 1322.68 L1723.56 1345.3 L1719.27 1345.3 L1719.27 1322.68 L1715.2 1322.68 L1715.2 1319.37 L1719.27 1319.37 L1719.27 1317.56 Q1719.27 1313.24 1721.29 1311.27 Q1723.3 1309.28 1727.68 1309.28 L1731.7 1309.28 Z\" fill=\"#000000\" fill-rule=\"evenodd\" fill-opacity=\"1\" /><path clip-path=\"url(#clip000)\" d=\"M1735.27 1319.37 L1739.53 1319.37 L1739.53 1345.3 L1735.27 1345.3 L1735.27 1319.37 M1735.27 1309.28 L1739.53 1309.28 L1739.53 1314.67 L1735.27 1314.67 L1735.27 1309.28 Z\" fill=\"#000000\" fill-rule=\"evenodd\" fill-opacity=\"1\" /><path clip-path=\"url(#clip000)\" d=\"M1752.65 1312.01 L1752.65 1319.37 L1761.43 1319.37 L1761.43 1322.68 L1752.65 1322.68 L1752.65 1336.75 Q1752.65 1339.93 1753.51 1340.83 Q1754.39 1341.73 1757.05 1341.73 L1761.43 1341.73 L1761.43 1345.3 L1757.05 1345.3 Q1752.12 1345.3 1750.25 1343.47 Q1748.37 1341.62 1748.37 1336.75 L1748.37 1322.68 L1745.25 1322.68 L1745.25 1319.37 L1748.37 1319.37 L1748.37 1312.01 L1752.65 1312.01 Z\" fill=\"#000000\" fill-rule=\"evenodd\" fill-opacity=\"1\" /><path clip-path=\"url(#clip000)\" d=\"M1786.31 1312.01 L1786.31 1319.37 L1795.08 1319.37 L1795.08 1322.68 L1786.31 1322.68 L1786.31 1336.75 Q1786.31 1339.93 1787.17 1340.83 Q1788.05 1341.73 1790.71 1341.73 L1795.08 1341.73 L1795.08 1345.3 L1790.71 1345.3 Q1785.78 1345.3 1783.9 1343.47 Q1782.03 1341.62 1782.03 1336.75 L1782.03 1322.68 L1778.9 1322.68 L1778.9 1319.37 L1782.03 1319.37 L1782.03 1312.01 L1786.31 1312.01 Z\" fill=\"#000000\" fill-rule=\"evenodd\" fill-opacity=\"1\" /><path clip-path=\"url(#clip000)\" d=\"M1815.71 1323.35 Q1814.99 1322.94 1814.13 1322.75 Q1813.3 1322.54 1812.28 1322.54 Q1808.67 1322.54 1806.73 1324.9 Q1804.81 1327.24 1804.81 1331.64 L1804.81 1345.3 L1800.52 1345.3 L1800.52 1319.37 L1804.81 1319.37 L1804.81 1323.4 Q1806.15 1321.04 1808.3 1319.9 Q1810.45 1318.75 1813.53 1318.75 Q1813.97 1318.75 1814.5 1318.81 Q1815.04 1318.86 1815.69 1318.98 L1815.71 1323.35 Z\" fill=\"#000000\" fill-rule=\"evenodd\" fill-opacity=\"1\" /><path clip-path=\"url(#clip000)\" d=\"M1841.31 1331.27 L1841.31 1333.35 L1821.73 1333.35 Q1822 1337.75 1824.37 1340.06 Q1826.75 1342.36 1830.99 1342.36 Q1833.44 1342.36 1835.73 1341.75 Q1838.05 1341.15 1840.31 1339.95 L1840.31 1343.98 Q1838.02 1344.95 1835.62 1345.46 Q1833.21 1345.97 1830.73 1345.97 Q1824.53 1345.97 1820.89 1342.36 Q1817.28 1338.75 1817.28 1332.59 Q1817.28 1326.22 1820.71 1322.5 Q1824.16 1318.75 1829.99 1318.75 Q1835.22 1318.75 1838.25 1322.13 Q1841.31 1325.48 1841.31 1331.27 M1837.05 1330.02 Q1837 1326.52 1835.08 1324.44 Q1833.19 1322.36 1830.04 1322.36 Q1826.47 1322.36 1824.32 1324.37 Q1822.19 1326.38 1821.87 1330.04 L1837.05 1330.02 Z\" fill=\"#000000\" fill-rule=\"evenodd\" fill-opacity=\"1\" /><path clip-path=\"url(#clip000)\" d=\"M1869.85 1329.65 L1869.85 1345.3 L1865.59 1345.3 L1865.59 1329.79 Q1865.59 1326.11 1864.16 1324.28 Q1862.72 1322.45 1859.85 1322.45 Q1856.4 1322.45 1854.41 1324.65 Q1852.42 1326.85 1852.42 1330.64 L1852.42 1345.3 L1848.14 1345.3 L1848.14 1319.37 L1852.42 1319.37 L1852.42 1323.4 Q1853.95 1321.06 1856.01 1319.9 Q1858.09 1318.75 1860.8 1318.75 Q1865.27 1318.75 1867.56 1321.52 Q1869.85 1324.28 1869.85 1329.65 Z\" fill=\"#000000\" fill-rule=\"evenodd\" fill-opacity=\"1\" /><path clip-path=\"url(#clip000)\" d=\"M1895.41 1323.31 L1895.41 1309.28 L1899.67 1309.28 L1899.67 1345.3 L1895.41 1345.3 L1895.41 1341.41 Q1894.06 1343.72 1892 1344.86 Q1889.97 1345.97 1887.1 1345.97 Q1882.4 1345.97 1879.43 1342.22 Q1876.5 1338.47 1876.5 1332.36 Q1876.5 1326.25 1879.43 1322.5 Q1882.4 1318.75 1887.1 1318.75 Q1889.97 1318.75 1892 1319.88 Q1894.06 1320.99 1895.41 1323.31 M1880.89 1332.36 Q1880.89 1337.06 1882.81 1339.74 Q1884.76 1342.4 1888.14 1342.4 Q1891.52 1342.4 1893.46 1339.74 Q1895.41 1337.06 1895.41 1332.36 Q1895.41 1327.66 1893.46 1325 Q1891.52 1322.31 1888.14 1322.31 Q1884.76 1322.31 1882.81 1325 Q1880.89 1327.66 1880.89 1332.36 Z\" fill=\"#000000\" fill-rule=\"evenodd\" fill-opacity=\"1\" /><path clip-path=\"url(#clip000)\" d=\"M1908.44 1309.28 L1912.7 1309.28 L1912.7 1345.3 L1908.44 1345.3 L1908.44 1309.28 Z\" fill=\"#000000\" fill-rule=\"evenodd\" fill-opacity=\"1\" /><path clip-path=\"url(#clip000)\" d=\"M1921.61 1319.37 L1925.87 1319.37 L1925.87 1345.3 L1921.61 1345.3 L1921.61 1319.37 M1921.61 1309.28 L1925.87 1309.28 L1925.87 1314.67 L1921.61 1314.67 L1921.61 1309.28 Z\" fill=\"#000000\" fill-rule=\"evenodd\" fill-opacity=\"1\" /><path clip-path=\"url(#clip000)\" d=\"M1956.33 1329.65 L1956.33 1345.3 L1952.07 1345.3 L1952.07 1329.79 Q1952.07 1326.11 1950.64 1324.28 Q1949.2 1322.45 1946.33 1322.45 Q1942.88 1322.45 1940.89 1324.65 Q1938.9 1326.85 1938.9 1330.64 L1938.9 1345.3 L1934.62 1345.3 L1934.62 1319.37 L1938.9 1319.37 L1938.9 1323.4 Q1940.43 1321.06 1942.49 1319.9 Q1944.57 1318.75 1947.28 1318.75 Q1951.75 1318.75 1954.04 1321.52 Q1956.33 1324.28 1956.33 1329.65 Z\" fill=\"#000000\" fill-rule=\"evenodd\" fill-opacity=\"1\" /><path clip-path=\"url(#clip000)\" d=\"M1987 1331.27 L1987 1333.35 L1967.42 1333.35 Q1967.7 1337.75 1970.06 1340.06 Q1972.44 1342.36 1976.68 1342.36 Q1979.13 1342.36 1981.43 1341.75 Q1983.74 1341.15 1986.01 1339.95 L1986.01 1343.98 Q1983.72 1344.95 1981.31 1345.46 Q1978.9 1345.97 1976.43 1345.97 Q1970.22 1345.97 1966.59 1342.36 Q1962.98 1338.75 1962.98 1332.59 Q1962.98 1326.22 1966.4 1322.5 Q1969.85 1318.75 1975.68 1318.75 Q1980.92 1318.75 1983.95 1322.13 Q1987 1325.48 1987 1331.27 M1982.74 1330.02 Q1982.7 1326.52 1980.78 1324.44 Q1978.88 1322.36 1975.73 1322.36 Q1972.17 1322.36 1970.01 1324.37 Q1967.88 1326.38 1967.56 1330.04 L1982.74 1330.02 Z\" fill=\"#000000\" fill-rule=\"evenodd\" fill-opacity=\"1\" /></svg>\n"
      ]
     },
     "execution_count": 204,
     "metadata": {},
     "output_type": "execute_result"
    }
   ],
   "source": [
    "p = StatsPlots.scatter(\n",
    "    sampling_points,\n",
    "    kmer_counts,\n",
    "    label=\"observed kmer counts\",\n",
    "    ylabel=\"# unique kmers\",\n",
    "    xlabel=\"# reads\",\n",
    "    title = \"sequencing saturation\",\n",
    "#     legend=:outertopright,\n",
    "    legend=:bottomright\n",
    "    )\n",
    "StatsPlots.hline!(p, [max_canonical_kmers(kmer_type)], label=\"absolute maximum\")\n",
    "StatsPlots.hline!(p, [inferred_kmer_count], label=\"inferred maximum\")\n",
    "StatsPlots.vline!(p, [inferred_midpoint], label=\"inferred midpoint\")\n",
    "xs = vcat(sampling_points, [last(sampling_points) * 2^i for i in 1:2])\n",
    "ys = calculate_v(xs, fit.param)\n",
    "StatsPlots.plot!(p, xs, ys, label=\"fit trendline\")"
   ]
  },
  {
   "cell_type": "code",
   "execution_count": 207,
   "id": "4494f8ed-b87e-4890-8289-b44aa6993ac2",
   "metadata": {},
   "outputs": [
    {
     "data": {
      "text/plain": [
       "1354"
      ]
     },
     "execution_count": 207,
     "metadata": {},
     "output_type": "execute_result"
    }
   ],
   "source": [
    "inferred_midpoint * 2"
   ]
  },
  {
   "cell_type": "code",
   "execution_count": null,
   "id": "fe7848fd-706a-4fda-acfc-82a40ada357f",
   "metadata": {},
   "outputs": [],
   "source": [
    "# downsample reads to desired depth"
   ]
  },
  {
   "cell_type": "code",
   "execution_count": null,
   "id": "c2a371e6-1c23-4d7c-8c7a-072b0b920186",
   "metadata": {},
   "outputs": [],
   "source": []
  },
  {
   "cell_type": "code",
   "execution_count": null,
   "id": "a15e4d2e-6130-456e-be86-c32ef03b0d33",
   "metadata": {},
   "outputs": [],
   "source": []
  },
  {
   "cell_type": "code",
   "execution_count": null,
   "id": "12373e4b-ff47-4c5d-9295-ff43325b631c",
   "metadata": {},
   "outputs": [],
   "source": []
  },
  {
   "cell_type": "code",
   "execution_count": null,
   "id": "ba6c0e02-1711-444d-8d8f-5df37613199a",
   "metadata": {},
   "outputs": [],
   "source": [
    "# plot kmer spectra frequency"
   ]
  },
  {
   "cell_type": "code",
   "execution_count": null,
   "id": "36e25b62-a4cb-476c-94c0-a038b9d63896",
   "metadata": {},
   "outputs": [],
   "source": [
    "kmer_counts = sort!(Mycelia.count_canonical_kmers(BioSequences.BigDNAMer{k}, genome))"
   ]
  },
  {
   "cell_type": "code",
   "execution_count": null,
   "id": "b48acbb5-9bd2-45c3-b518-1d0096a6f29d",
   "metadata": {},
   "outputs": [],
   "source": [
    "K = length(keys(kmer_counts))"
   ]
  },
  {
   "cell_type": "code",
   "execution_count": null,
   "id": "3ad5ecaa-1566-43ef-9716-09d2bb71142f",
   "metadata": {},
   "outputs": [],
   "source": [
    "# create an undirected kmer graph from the sequence"
   ]
  },
  {
   "cell_type": "code",
   "execution_count": null,
   "id": "eea8a51d-6f61-4409-91f2-c9206c94e578",
   "metadata": {},
   "outputs": [],
   "source": [
    "graph = MetaGraphs.MetaGraph(K)"
   ]
  },
  {
   "cell_type": "code",
   "execution_count": null,
   "id": "9550366b-c8d0-4eee-8742-c5b52d3d1f19",
   "metadata": {},
   "outputs": [],
   "source": [
    "for (i, (kmer, count)) in enumerate(kmer_counts)\n",
    "    @show i, kmer, count\n",
    "    @show MetaGraphs.set_prop!(graph, i, :kmer, kmer)\n",
    "    @show MetaGraphs.set_prop!(graph, i, :count, count)\n",
    "end"
   ]
  },
  {
   "cell_type": "code",
   "execution_count": null,
   "id": "098cb159-5e23-405b-bacf-43c75f1d001f",
   "metadata": {},
   "outputs": [],
   "source": [
    "graph.vprops"
   ]
  },
  {
   "cell_type": "code",
   "execution_count": null,
   "id": "08821979-313e-4fbf-a33f-3400e514170f",
   "metadata": {},
   "outputs": [],
   "source": [
    "kmers = collect(keys(kmer_counts))"
   ]
  },
  {
   "cell_type": "code",
   "execution_count": null,
   "id": "30670fcf-ac1d-4653-b386-b118dfd39cfa",
   "metadata": {},
   "outputs": [],
   "source": [
    "for i in 1:length(genome)-k\n",
    "    edge_range = i:i+k\n",
    "    edge = genome[edge_range]\n",
    "    src = BioSequences.BigDNAMer{k}(edge[1:end-1])\n",
    "    dst = BioSequences.BigDNAMer{k}(edge[2:end])\n",
    "    canonical_src = BioSequences.canonical(src)\n",
    "    canonical_dst = BioSequences.canonical(dst)\n",
    "    src_index = Mycelia.get_kmer_index(kmers, canonical_src)\n",
    "    dst_index = Mycelia.get_kmer_index(kmers, canonical_dst)\n",
    "    @show edge\n",
    "    @show src_index, src == canonical_src, dst_index, dst == canonical_dst\n",
    "    graph_edge = Graphs.Edge(src_index, dst_index)\n",
    "    if Graphs.has_edge(graph, graph_edge)\n",
    "        current_count = graph.eprops[graph_edge][:count]\n",
    "        MetaGraphs.set_prop!(graph, graph_edge, :count, current_count+1)\n",
    "    else\n",
    "        Graphs.add_edge!(graph, graph_edge)\n",
    "        MetaGraphs.set_prop!(graph, graph_edge, :count, 1)\n",
    "    end\n",
    "end"
   ]
  },
  {
   "cell_type": "code",
   "execution_count": null,
   "id": "d47cfd3e-b739-481a-8e9c-eec0c264900e",
   "metadata": {},
   "outputs": [],
   "source": [
    "graph"
   ]
  },
  {
   "cell_type": "code",
   "execution_count": null,
   "id": "b9d4edf4-941e-42b0-9c4b-7ad219132045",
   "metadata": {},
   "outputs": [],
   "source": [
    "graph.eprops"
   ]
  },
  {
   "cell_type": "code",
   "execution_count": null,
   "id": "62b9d2f5-14e6-4f7a-8013-d32cf1bc1da5",
   "metadata": {},
   "outputs": [],
   "source": [
    "nodesize = [graph.vprops[v][:count] for v in 1:Graphs.nv(graph)]\n",
    "nodelabel = [graph.vprops[v][:kmer] for v in 1:Graphs.nv(graph)]\n",
    "# GraphPlot.gplot(graph, nodesize=nodesize, nodelabel=nodelabel)\n",
    "GraphPlot.gplot(graph, nodesize=nodesize)"
   ]
  },
  {
   "cell_type": "code",
   "execution_count": null,
   "id": "0a779414-f692-435a-8b0d-84f9b1c88d5d",
   "metadata": {},
   "outputs": [],
   "source": [
    "edge_likelihoods = determine_edge_probabilities(graph)"
   ]
  },
  {
   "cell_type": "code",
   "execution_count": null,
   "id": "b624dafc-3705-4ecb-b60e-d974a57bf8d7",
   "metadata": {},
   "outputs": [],
   "source": [
    "# take yen_k shortest paths"
   ]
  },
  {
   "cell_type": "code",
   "execution_count": null,
   "id": "ba83fe3e-b412-44d6-b827-0eaf765f308a",
   "metadata": {},
   "outputs": [],
   "source": [
    "genome_kmers = collect(BioSequences.each(BioSequences.BigDNAMer{k}, genome))"
   ]
  },
  {
   "cell_type": "code",
   "execution_count": null,
   "id": "8f548ff0-67c5-44a2-94a0-a8204124ae17",
   "metadata": {},
   "outputs": [],
   "source": [
    "# make a SNP edit to the genome"
   ]
  },
  {
   "cell_type": "code",
   "execution_count": null,
   "id": "3a2d58a3-2431-42c7-b75d-85e3441cfd8f",
   "metadata": {},
   "outputs": [],
   "source": [
    "# seed = 0\n",
    "# seed = 1\n",
    "# seed = 2\n",
    "# seed = 3\n",
    "# seed = 4\n",
    "# seed = 5\n",
    "# seed = 6\n",
    "# seed = 7\n",
    "# seed = 8\n",
    "seed = 9"
   ]
  },
  {
   "cell_type": "code",
   "execution_count": null,
   "id": "8a22b5a8-c3d8-409d-b483-26b59bd221b9",
   "metadata": {},
   "outputs": [],
   "source": [
    "@show seed\n",
    "Random.seed!(seed)\n",
    "observation = Mycelia.observe(genome, error_rate = 0.1)"
   ]
  },
  {
   "cell_type": "code",
   "execution_count": null,
   "id": "7d8168eb-65f8-455c-8c43-9c4830502695",
   "metadata": {},
   "outputs": [],
   "source": [
    "alignment = BioAlignments.pairalign(BioAlignments.LevenshteinDistance(), observation, genome)"
   ]
  },
  {
   "cell_type": "code",
   "execution_count": null,
   "id": "57510fd3-5848-4471-bc29-f119ad4986c1",
   "metadata": {},
   "outputs": [],
   "source": [
    "reverse_alignment = BioAlignments.pairalign(BioAlignments.LevenshteinDistance(), BioSequences.reverse_complement(observation), genome)"
   ]
  },
  {
   "cell_type": "code",
   "execution_count": null,
   "id": "ffdd8d70-c134-47e4-94b4-7ffa58f6f70d",
   "metadata": {},
   "outputs": [],
   "source": [
    "if reverse_alignment.value < alignment.value\n",
    "    observation = BioSequences.reverse_complement(observation)\n",
    "    alignment = reverse_alignment\n",
    "    @show \"flipping\"\n",
    "end"
   ]
  },
  {
   "cell_type": "code",
   "execution_count": null,
   "id": "c9191717-8c33-4f22-85d5-e42d434fb25d",
   "metadata": {},
   "outputs": [],
   "source": [
    "# convert genome into stranded path"
   ]
  },
  {
   "cell_type": "code",
   "execution_count": null,
   "id": "c162ae04-c3ad-4658-8142-c5fa3ad7a543",
   "metadata": {},
   "outputs": [],
   "source": [
    "# function sequence_to_\n",
    "observation_as_oriented_kmers = []\n",
    "observation_kmers = collect(BioSequences.each(BioSequences.BigDNAMer{k}, observation))"
   ]
  },
  {
   "cell_type": "code",
   "execution_count": null,
   "id": "d3b63e69-1c33-4f4b-8c3e-c358089557f8",
   "metadata": {},
   "outputs": [],
   "source": [
    "genome_kmers"
   ]
  },
  {
   "cell_type": "code",
   "execution_count": null,
   "id": "e7fd3359-2116-42b9-a4df-48df59e2deb5",
   "metadata": {},
   "outputs": [],
   "source": [
    "is_canonical = falses(length(observation_kmers))\n",
    "kmer_index = zeros(Int, length(observation_kmers))\n",
    "for (i, kmer) in enumerate(observation_kmers)\n",
    "#     is_canonical[i] = kmer.fw <= kmer.bw\n",
    "    canonical_kmer = BioSequences.canonical(kmer.fw)\n",
    "    is_canonical[i] = kmer.fw == canonical_kmer\n",
    "    kmer_index_range = searchsorted(kmers, canonical_kmer)\n",
    "    if length(kmer_index_range) > 1\n",
    "        @error \"bad\"\n",
    "    elseif isempty(kmer_index_range)\n",
    "        # do nothing, index is 0 to indicate not found\n",
    "    else\n",
    "        kmer_index[i] = first(kmer_index_range)\n",
    "    end\n",
    "end"
   ]
  },
  {
   "cell_type": "code",
   "execution_count": null,
   "id": "e9c7e7b3-7d18-463f-a74b-47a2bd28307a",
   "metadata": {},
   "outputs": [],
   "source": [
    "is_canonical"
   ]
  },
  {
   "cell_type": "code",
   "execution_count": null,
   "id": "95d066fe-c611-4e94-bc74-e00afe1eea0b",
   "metadata": {},
   "outputs": [],
   "source": [
    "kmer_index"
   ]
  },
  {
   "cell_type": "code",
   "execution_count": null,
   "id": "572e131f-7063-47c9-a5bf-617cde17b07c",
   "metadata": {},
   "outputs": [],
   "source": [
    "proposed_path = BioSequences.BigDNAMer{k}[]\n",
    "opening_missing_kmer_path_index = findfirst(x -> x == 0, kmer_index)\n",
    "\n",
    "# read is solid!\n",
    "if opening_missing_kmer_path_index == nothing\n",
    "#     proposed_seq = observation\n",
    "    proposed_path = [kmer.fw for kmer in observation_kmers]\n",
    "    @show \"perfect read\"\n",
    "elseif all(index -> index == 0, kmer_index)\n",
    "    @show \"read is trash\"\n",
    "    # generate a new read from the assembly to replace this one\n",
    "\n",
    "    observation_path_length = length(observation_kmers)\n",
    "    proposed_path = nothing\n",
    "    proposed_path_size_discrepancy = Inf\n",
    "    starting_kmer_indices = StatsBase.sample(1:Graphs.nv(graph), min(10, Graphs.nv(graph)), replace=false)\n",
    "    for starting_kmer_index in starting_kmer_indices\n",
    "        starting_kmer_index = rand(1:Graphs.nv(graph))\n",
    "        @show starting_kmer_index\n",
    "        starting_kmer = graph.vprops[starting_kmer_index][:kmer]\n",
    "        if rand(Bool)\n",
    "            starting_kmer = BioSequences.reverse_complement(starting_kmer)\n",
    "        end\n",
    "        candidate_path = take_a_walk(graph, edge_likelihoods, kmers, starting_kmer, observation_path_length)\n",
    "        discrepancy = abs(length(candidate_path) - observation_path_length)\n",
    "        @show discrepancy\n",
    "        if discrepancy < proposed_path_size_discrepancy\n",
    "            proposed_path = candidate_path\n",
    "            proposed_path_size_discrepancy = discrepancy\n",
    "            if proposed_path_size_discrepancy == 0\n",
    "                break\n",
    "            end\n",
    "        end\n",
    "    end\n",
    "else\n",
    "    if opening_missing_kmer_path_index == 1\n",
    "        opening_solid_kmer = nothing\n",
    "    #     closing_solid_kmer_path_index = findnext(map(x -> x != 0, kmer_index), opening_missing_kmer_path_index+1)\n",
    "    elseif opening_missing_kmer_path_index != nothing\n",
    "        opening_solid_kmer_path_index = opening_missing_kmer_path_index - 1\n",
    "        opening_solid_kmer = observation_kmers[opening_solid_kmer_path_index].fw\n",
    "    end\n",
    "\n",
    "    if opening_missing_kmer_path_index == nothing\n",
    "        closing_solid_kmer_path_index = findnext(map(x -> x != 0, kmer_index), 1)\n",
    "    else\n",
    "        closing_solid_kmer_path_index = findnext(map(x -> x != 0, kmer_index), opening_missing_kmer_path_index+1)\n",
    "    end\n",
    "    if closing_solid_kmer_path_index == nothing\n",
    "        @show \"end is open\"\n",
    "        closing_solid_kmer = nothing\n",
    "    else\n",
    "        closing_solid_kmer = observation_kmers[closing_solid_kmer_path_index].fw\n",
    "    end\n",
    "\n",
    "\n",
    "    extensions = 0\n",
    "    while (opening_missing_kmer_path_index != nothing) && (extensions < 5)\n",
    "        extensions += 1\n",
    "        @show extensions\n",
    "\n",
    "        if (opening_solid_kmer == nothing) && (closing_solid_kmer != nothing)\n",
    "            @show \"missing opening\"\n",
    "            @show closing_solid_kmer\n",
    "            inverted_closing_solid_kmer = BioSequences.reverse_complement(closing_solid_kmer)\n",
    "            @show inverted_closing_solid_kmer\n",
    "            walk_length = closing_solid_kmer_path_index\n",
    "            chosen_walk = take_a_walk(graph, edge_likelihoods, kmers, inverted_closing_solid_kmer, walk_length)\n",
    "            chosen_walk = reverse(BioSequences.reverse_complement.(chosen_walk))\n",
    "            @show chosen_walk\n",
    "            @show closing_solid_kmer_path_index\n",
    "            @assert observation_kmers[closing_solid_kmer_path_index].fw == last(chosen_walk)\n",
    "            proposed_path = chosen_walk\n",
    "            opening_missing_kmer_path_index = findnext(map(x -> x == 0, kmer_index), closing_solid_kmer_path_index+1)\n",
    "\n",
    "            if opening_missing_kmer_path_index == 1\n",
    "                opening_solid_kmer = nothing\n",
    "            elseif opening_missing_kmer_path_index != nothing\n",
    "                need_to_add = getproperty.(observation_kmers[closing_solid_kmer_path_index+1:opening_missing_kmer_path_index-1], :fw)\n",
    "                append!(proposed_path, need_to_add)\n",
    "                opening_solid_kmer_path_index = opening_missing_kmer_path_index - 1\n",
    "                opening_solid_kmer = observation_kmers[opening_solid_kmer_path_index].fw\n",
    "                closing_solid_kmer_path_index = findnext(map(x -> x != 0, kmer_index), opening_missing_kmer_path_index+1)\n",
    "                if closing_solid_kmer_path_index == nothing\n",
    "                    closing_solid_kmer = nothing\n",
    "                else\n",
    "                    closing_solid_kmer = observation_kmers[closing_solid_kmer_path_index].fw\n",
    "                end\n",
    "            end\n",
    "        end\n",
    "\n",
    "        if (opening_solid_kmer != nothing) && (closing_solid_kmer == nothing)\n",
    "            @show \"missing closing\"\n",
    "            walk_length = length(observation_kmers) - opening_solid_kmer_path_index+1\n",
    "            chosen_walk = take_a_walk(graph, edge_likelihoods, kmers, opening_solid_kmer, walk_length)\n",
    "            @show chosen_walk\n",
    "            @assert observation_kmers[opening_solid_kmer_path_index].fw == first(chosen_walk)\n",
    "            if isempty(proposed_path)\n",
    "                proposed_path = getproperty.(observation_kmers[1:opening_solid_kmer_path_index], :fw)\n",
    "            end\n",
    "            append!(proposed_path, chosen_walk[2:end])\n",
    "            opening_missing_kmer_path_index = nothing\n",
    "        end\n",
    "\n",
    "        while (opening_solid_kmer != nothing) && (closing_solid_kmer != nothing)\n",
    "            @show \"bubble!\"\n",
    "            opening_solid_kmer_index = kmer_index[opening_solid_kmer_path_index]\n",
    "            closing_solid_kmer_index = kmer_index[closing_solid_kmer_path_index]\n",
    "\n",
    "            @show opening_solid_kmer, opening_solid_kmer_path_index\n",
    "            @show closing_solid_kmer, closing_solid_kmer_path_index\n",
    "            @show length(proposed_path)\n",
    "            \n",
    "            #####################################################################################\n",
    "            # DETERMINE PATH LENGTH\n",
    "            #####################################################################################\n",
    "            # by default, we're assuming that we want to walk the same distance as our bubble + 1\n",
    "            bubble_path_length = closing_solid_kmer_path_index - opening_solid_kmer_path_index + 1\n",
    "\n",
    "            if opening_solid_kmer_index != closing_solid_kmer_index\n",
    "                path = Graphs.a_star(graph, opening_solid_kmer_index, closing_solid_kmer_index)\n",
    "                normalized_path = Int[path[1].src, [edge.dst for edge in path]...]\n",
    "                shortest_paths = [normalized_path]\n",
    "            else\n",
    "                neighbors = Graphs.neighbors(graph, opening_solid_kmer_index)\n",
    "                shortest_paths = Vector{Vector{Int}}()\n",
    "                for neighbor in neighbors\n",
    "                    path = Graphs.a_star(graph, neighbor, closing_solid_kmer_index)\n",
    "                    normalized_path = Int[path[1].src, [edge.dst for edge in path]...]\n",
    "                    push!(shortest_paths, normalized_path)\n",
    "                end\n",
    "            end\n",
    "            # but if our bubble is a deletion, then walking that length may not get us across to the other side\n",
    "            # so we also determine the longest, shortest path\n",
    "            longest_shortest_walk_length = maximum(length.(shortest_paths))\n",
    "\n",
    "\n",
    "            longest_walk_length = max(bubble_path_length, longest_shortest_walk_length)\n",
    "            walk_length = Int(ceil(longest_walk_length * 1.1))\n",
    "\n",
    "            walks = Vector{Int}[]\n",
    "            for i in 1:3\n",
    "                println(\"round $i\")\n",
    "                walks = [take_a_walk(graph, edge_likelihoods, kmers, opening_solid_kmer, walk_length)]\n",
    "                while allunique(walks)\n",
    "                    push!(walks, take_a_walk(graph, edge_likelihoods, kmers, opening_solid_kmer, walk_length))\n",
    "                end\n",
    "\n",
    "                walks = filter(path -> closing_solid_kmer in path, walks)\n",
    "\n",
    "                if isempty(walks)\n",
    "                    walk_length = Int(ceil(walk_length * 1.1))\n",
    "                else\n",
    "                    # done!\n",
    "                    break\n",
    "                end\n",
    "            end\n",
    "\n",
    "            if !isempty(walks)\n",
    "                candidate_paths = sort(collect(StatsBase.countmap(walks)), by=x->x[2], rev=true)\n",
    "                selected_path = first(first(candidate_paths))\n",
    "                selected_path_closing_solid_kmer_intersects = findall(kmer -> kmer == closing_solid_kmer, selected_path)\n",
    "                if length(selected_path_closing_solid_kmer_intersects) > 1\n",
    "                    @show \"here\"\n",
    "                    selected_path_closing_solid_kmer_intersect = 0\n",
    "                    d = Inf\n",
    "                    for i in selected_path_closing_solid_kmer_intersects\n",
    "                        candidate_distance = abs(i - walk_length)\n",
    "                        if candidate_distance < d\n",
    "                            d = candidate_distance\n",
    "                            selected_path_closing_solid_kmer_intersect = i\n",
    "                        end\n",
    "                    end\n",
    "                else\n",
    "                    selected_path_closing_solid_kmer_intersect = first(selected_path_closing_solid_kmer_intersects)\n",
    "                end\n",
    "                selected_path = selected_path[1:selected_path_closing_solid_kmer_intersect]\n",
    "                if isempty(proposed_path)\n",
    "                    proposed_path = getproperty.(observation_kmers[1:opening_solid_kmer_path_index], :fw)\n",
    "                end\n",
    "                append!(proposed_path, selected_path[2:end])\n",
    "                opening_missing_kmer_path_index = findnext(map(x -> x == 0, kmer_index), closing_solid_kmer_path_index+1)\n",
    "                if opening_missing_kmer_path_index == nothing\n",
    "                    #done\n",
    "                    opening_solid_kmer = nothing\n",
    "                elseif opening_missing_kmer_path_index == 1\n",
    "                    # also done?\n",
    "                    opening_solid_kmer = nothing\n",
    "                elseif opening_missing_kmer_path_index != nothing\n",
    "                    need_to_add = getproperty.(observation_kmers[closing_solid_kmer_path_index+1:opening_missing_kmer_path_index-1], :fw)\n",
    "                    append!(proposed_path, need_to_add)\n",
    "                    opening_solid_kmer_path_index = opening_missing_kmer_path_index - 1\n",
    "                    opening_solid_kmer = observation_kmers[opening_solid_kmer_path_index].fw\n",
    "                    closing_solid_kmer_path_index = findnext(map(x -> x != 0, kmer_index), opening_missing_kmer_path_index+1)\n",
    "                    if closing_solid_kmer_path_index == nothing\n",
    "                        closing_solid_kmer = nothing\n",
    "                    else\n",
    "                        closing_solid_kmer = observation_kmers[closing_solid_kmer_path_index].fw\n",
    "                    end\n",
    "                end\n",
    "            else\n",
    "                @show \"need to bump out\"\n",
    "                if opening_missing_kmer_path_index >= 2\n",
    "                    opening_missing_kmer_path_index -= 1\n",
    "                    opening_solid_kmer = nothing\n",
    "                    # this should now break out to larger while loop\n",
    "                end\n",
    "                # push out closing node and try again\n",
    "                closing_solid_kmer_path_index = findnext(map(x -> x != 0, kmer_index), closing_solid_kmer_path_index+1)\n",
    "\n",
    "                if closing_solid_kmer_path_index == nothing\n",
    "                    @show \"end is open\"\n",
    "                    closing_solid_kmer = nothing\n",
    "                else\n",
    "                    closing_solid_kmer = observation_kmers[closing_solid_kmer_path_index].fw\n",
    "                end\n",
    "            end\n",
    "        end\n",
    "    end\n",
    "    if closing_solid_kmer_path_index != nothing\n",
    "        append!(proposed_path, getproperty.(observation_kmers[closing_solid_kmer_path_index+1:end], :fw))\n",
    "    end\n",
    "end"
   ]
  },
  {
   "cell_type": "code",
   "execution_count": null,
   "id": "9d0f8ba9-7391-4d13-b053-ffa218931590",
   "metadata": {},
   "outputs": [],
   "source": [
    "proposed_path"
   ]
  },
  {
   "cell_type": "code",
   "execution_count": null,
   "id": "ebc0509b-4227-4dbb-9b30-e30f885d3942",
   "metadata": {},
   "outputs": [],
   "source": [
    "proposed_seq = BioSequences.LongDNASeq(first(proposed_path))\n",
    "for kmer in proposed_path[2:end]\n",
    "    push!(proposed_seq, last(kmer))\n",
    "end\n",
    "proposed_seq"
   ]
  },
  {
   "cell_type": "code",
   "execution_count": null,
   "id": "46006c09-daf3-4628-8585-7946328c975f",
   "metadata": {},
   "outputs": [],
   "source": [
    "new_alignment = BioAlignments.pairalign(BioAlignments.LevenshteinDistance(), proposed_seq, genome)"
   ]
  },
  {
   "cell_type": "code",
   "execution_count": null,
   "id": "7dddb7f3-7466-4852-bd9a-ec365d56c3a2",
   "metadata": {},
   "outputs": [],
   "source": [
    "reverse_new_alignment = BioAlignments.pairalign(BioAlignments.LevenshteinDistance(), BioSequences.reverse_complement(proposed_seq), genome)"
   ]
  },
  {
   "cell_type": "code",
   "execution_count": null,
   "id": "0bcb9396-faf4-4c0d-bc85-8f13c9016229",
   "metadata": {},
   "outputs": [],
   "source": [
    "if reverse_new_alignment.value < new_alignment.value\n",
    "#     observation = BioSequences.reverse_complement!(observation)\n",
    "    new_alignment = reverse_new_alignment\n",
    "    @show \"flipping\"\n",
    "end"
   ]
  },
  {
   "cell_type": "code",
   "execution_count": null,
   "id": "697153c4-416f-4308-80c9-216df5c4e893",
   "metadata": {},
   "outputs": [],
   "source": [
    "if new_alignment.value <= alignment.value\n",
    "    @show \"newer is equivalent or better\"\n",
    "    @show new_alignment.value, alignment.value\n",
    "else\n",
    "    @show \"newer is worse, keep original\"\n",
    "    @show new_alignment.value, alignment.value\n",
    "end"
   ]
  }
 ],
 "metadata": {
  "kernelspec": {
   "display_name": "Julia 1.6.1",
   "language": "julia",
   "name": "julia-1.6"
  },
  "language_info": {
   "file_extension": ".jl",
   "mimetype": "application/julia",
   "name": "julia",
   "version": "1.6.1"
  }
 },
 "nbformat": 4,
 "nbformat_minor": 5
}
