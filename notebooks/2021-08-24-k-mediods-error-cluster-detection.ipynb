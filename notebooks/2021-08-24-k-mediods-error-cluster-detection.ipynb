{
 "cells": [
  {
   "cell_type": "code",
   "execution_count": 1,
   "id": "6ac73c46-51c9-4fea-845f-fb17ce8d83a2",
   "metadata": {},
   "outputs": [
    {
     "data": {
      "text/plain": [
       "\"/home/jovyan/2021-08-24-assess-convergence-phage-1000x-coverage\""
      ]
     },
     "execution_count": 1,
     "metadata": {},
     "output_type": "execute_result"
    }
   ],
   "source": [
    "DATE = \"2021-08-24\"\n",
    "TASK = \"k-medoids-error-cluster-detection\"\n",
    "DIR = mkpath(\"$(homedir())/$(DATE)-$(TASK)\")"
   ]
  },
  {
   "cell_type": "code",
   "execution_count": 2,
   "id": "38cb383f-3696-4b4b-a732-9a2059e0681a",
   "metadata": {},
   "outputs": [
    {
     "name": "stderr",
     "output_type": "stream",
     "text": [
      "┌ Info: Precompiling Mycelia [453d265d-8292-4a7b-a57c-dce3f9ae6acd]\n",
      "└ @ Base loading.jl:1317\n"
     ]
    }
   ],
   "source": [
    "import Pkg\n",
    "pkgs = [\n",
    "#     \"BioAlignments\",\n",
    "    \"BioSequences\",\n",
    "    \"Clustering\",\n",
    "#     \"CodecZlib\",\n",
    "#     \"Colors\",\n",
    "#     \"Combinatorics\",\n",
    "    \"DataFrames\",\n",
    "#     \"DataStructures\",\n",
    "    \"Dates\",\n",
    "#     \"DelimitedFiles\",\n",
    "#     \"Distances\",\n",
    "#     \"EzXML\",\n",
    "    \"FASTX\",\n",
    "#     \"GFF3\",\n",
    "#     \"HTTP\",\n",
    "#     \"Impute\",\n",
    "#     \"JSON\",\n",
    "    \"LightGraphs\",\n",
    "    \"LSHFunctions\",\n",
    "#     \"Measures\",\n",
    "    \"MetaGraphs\",\n",
    "    \"https://github.com/cjprybol/Mycelia.git\",\n",
    "#     \"NumericIO\",\n",
    "#     \"PlotlyJS\",\n",
    "#     \"Plots\",\n",
    "    \"Primes\",\n",
    "#     \"Printf\",\n",
    "    \"ProgressMeter\",\n",
    "    \"Random\",\n",
    "    \"Revise\",\n",
    "    \"SparseArrays\",\n",
    "    \"Statistics\",\n",
    "    \"StatsBase\",\n",
    "    \"StatsPlots\",\n",
    "#     \"StringDistances\",\n",
    "#     \"uCSV\",\n",
    "#     \"XLSX\",\n",
    "]\n",
    "\n",
    "unregistered_packages = filter(pkg -> occursin(r\"(^https|git$)\", pkg), pkgs)\n",
    "registered_packages = setdiff(pkgs, unregistered_packages)\n",
    "\n",
    "for pkg in registered_packages\n",
    "    try\n",
    "        eval(Meta.parse(\"import $(pkg)\"))\n",
    "    catch\n",
    "        Pkg.add(pkg)\n",
    "        Pkg.build(pkg)\n",
    "        eval(Meta.parse(\"import $(pkg)\"))\n",
    "    end\n",
    "end\n",
    "\n",
    "for pkg_url in unregistered_packages\n",
    "    pkg_name = replace(basename(pkg_url), \".git\" => \"\")\n",
    "    try\n",
    "        eval(Meta.parse(\"import $(pkg_name)\"))\n",
    "    catch\n",
    "        Pkg.develop(url=pkg_url)\n",
    "        Pkg.build(pkg_name)\n",
    "        eval(Meta.parse(\"import $(pkg_name)\"))\n",
    "    end\n",
    "end"
   ]
  },
  {
   "cell_type": "code",
   "execution_count": 3,
   "id": "9f9307c7-1b35-4283-b1cb-adc87dc05f20",
   "metadata": {},
   "outputs": [
    {
     "data": {
      "text/plain": [
       "\"Bandage\""
      ]
     },
     "execution_count": 3,
     "metadata": {},
     "output_type": "execute_result"
    }
   ],
   "source": [
    "if Sys.isapple()\n",
    "    BANDAGE = \"/Applications/Bandage.app/Contents/MacOS/Bandage\"\n",
    "else\n",
    "    BANDAGE = \"Bandage\"\n",
    "end"
   ]
  },
  {
   "cell_type": "code",
   "execution_count": 4,
   "id": "8824e5f4-fcd5-4d3d-b77c-9d1086788677",
   "metadata": {},
   "outputs": [
    {
     "data": {
      "text/plain": [
       "assess_kmer_sparsity_in_reads (generic function with 1 method)"
      ]
     },
     "execution_count": 4,
     "metadata": {},
     "output_type": "execute_result"
    }
   ],
   "source": [
    "function assess_kmer_sparsity_in_reads(k, observations)\n",
    "#     @show k, observations\n",
    "    canonical_kmer_counts = Mycelia.count_canonical_kmers(BioSequences.DNAMer{k}, observations)\n",
    "#     canonical_kmer_counts = Mycelia.count_canonical_kmers(BioSequences.DNAMer{k}, first(observations))\n",
    "# #     @show canonical_kmer_counts\n",
    "#     for i in 2:length(observations)\n",
    "#         canonical_kmer_counts_ = Mycelia.count_canonical_kmers(BioSequences.DNAMer{k}, observations[i])\n",
    "#         canonical_kmer_counts = merge!(+, canonical_kmer_counts, canonical_kmer_counts_)\n",
    "#     end\n",
    "#     canonical_kmer_counts = map(o -> Mycelia.count_canonical_kmers(BioSequences.DNAMer{k}, o), observations)...)\n",
    "    total_observed_canonical_kmers = length(keys(canonical_kmer_counts))\n",
    "    total_possible_canonical_kmers = (4^k)/2\n",
    "    sparsity = round(total_observed_canonical_kmers/total_possible_canonical_kmers*100, sigdigits=3)\n",
    "    @show sparsity\n",
    "    return sparsity\n",
    "end"
   ]
  },
  {
   "cell_type": "code",
   "execution_count": 5,
   "id": "148b6939-0508-487c-91d1-94da6aa1409e",
   "metadata": {},
   "outputs": [
    {
     "data": {
      "text/plain": [
       "sequence_to_canonical_kmers (generic function with 1 method)"
      ]
     },
     "execution_count": 5,
     "metadata": {},
     "output_type": "execute_result"
    }
   ],
   "source": [
    "function sequence_to_canonical_kmers(kmer_type, sequence)\n",
    "    return (BioSequences.canonical(kmer.fw) for kmer in BioSequences.each(kmer_type, sequence))\n",
    "end"
   ]
  },
  {
   "cell_type": "code",
   "execution_count": 6,
   "id": "02e895c2-a0a6-40c6-841c-ebbf274c0a47",
   "metadata": {},
   "outputs": [
    {
     "data": {
      "text/plain": [
       "determine_edge_weights (generic function with 1 method)"
      ]
     },
     "execution_count": 6,
     "metadata": {},
     "output_type": "execute_result"
    }
   ],
   "source": [
    "function determine_edge_weights(graph)\n",
    "    outgoing_edge_probabilities = determine_edge_weights(graph, true)\n",
    "    incoming_edge_probabilities = determine_edge_weights(graph, false)\n",
    "    return Dict(true => outgoing_edge_probabilities, false => incoming_edge_probabilities)\n",
    "end"
   ]
  },
  {
   "cell_type": "code",
   "execution_count": 7,
   "id": "6212dc49-005c-40f9-8922-b80b3971c004",
   "metadata": {},
   "outputs": [
    {
     "data": {
      "text/plain": [
       "determine_edge_weights (generic function with 2 methods)"
      ]
     },
     "execution_count": 7,
     "metadata": {},
     "output_type": "execute_result"
    }
   ],
   "source": [
    "function determine_edge_weights(graph, strand)\n",
    "    kmers = [graph.vprops[v][:kmer] for v in LightGraphs.vertices(graph)]\n",
    "    outgoing_edge_weights = SparseArrays.spzeros(length(kmers), length(kmers))\n",
    "    \n",
    "    for (kmer_index, kmer) in enumerate(kmers)\n",
    "        if !strand\n",
    "            kmer = BioSequences.reverse_complement(kmer)\n",
    "        end\n",
    "        \n",
    "        downstream_neighbors = []\n",
    "        downstream_neighbor_weights = []\n",
    "        for neighbor in BioSequences.neighbors(kmer)\n",
    "            canonical_neighbor = BioSequences.canonical(neighbor)\n",
    "            neighbor_orientation = neighbor == canonical_neighbor\n",
    "            \n",
    "            neighbor_index_range = searchsorted(kmers, canonical_neighbor)\n",
    "            if !isempty(neighbor_index_range)\n",
    "                @assert length(neighbor_index_range) == 1\n",
    "                neighbor_index = first(neighbor_index_range)\n",
    "                if LightGraphs.has_edge(graph, LightGraphs.Edge(kmer_index, neighbor_index))\n",
    "                    edge_orientations = graph.eprops[LightGraphs.Edge(kmer_index, neighbor_index)][:orientations]\n",
    "                    this_edge_orientation = (source_orientation = strand, destination_orientation = neighbor_orientation)\n",
    "                    if this_edge_orientation in edge_orientations\n",
    "                        edge_weight = graph.eprops[LightGraphs.Edge(kmer_index, neighbor_index)][:weight]\n",
    "                        outgoing_edge_weights[kmer_index, neighbor_index] = edge_weight\n",
    "                    end\n",
    "                end\n",
    "            end\n",
    "        end\n",
    "    end\n",
    "    return outgoing_edge_weights\n",
    "end"
   ]
  },
  {
   "cell_type": "code",
   "execution_count": 8,
   "id": "33ffd192-f852-43e8-8eb1-3c19f5fe6141",
   "metadata": {},
   "outputs": [
    {
     "data": {
      "text/plain": [
       "determine_edge_probabilities (generic function with 1 method)"
      ]
     },
     "execution_count": 8,
     "metadata": {},
     "output_type": "execute_result"
    }
   ],
   "source": [
    "function determine_edge_probabilities(edge_weights)\n",
    "    edge_probabilities = deepcopy(edge_weights)\n",
    "    for orientation in [true, false]\n",
    "        for row in 1:size(edge_probabilities[orientation], 1)\n",
    "            edge_weights = edge_probabilities[orientation][row, :]\n",
    "            edge_total = sum(edge_weights)\n",
    "            for (col, edge_weight) in enumerate(edge_weights)\n",
    "                if edge_total > 0\n",
    "                    edge_probabilities[orientation][row, col] = edge_weight/edge_total\n",
    "                else\n",
    "                    edge_probabilities[orientation][row, col] = 0.0\n",
    "                end\n",
    "            end\n",
    "        end\n",
    "    end\n",
    "    return edge_probabilities\n",
    "end"
   ]
  },
  {
   "cell_type": "code",
   "execution_count": 9,
   "id": "94750a47-abaa-48ac-9c0e-e7422260ec26",
   "metadata": {},
   "outputs": [
    {
     "data": {
      "text/plain": [
       "random_step (generic function with 1 method)"
      ]
     },
     "execution_count": 9,
     "metadata": {},
     "output_type": "execute_result"
    }
   ],
   "source": [
    "function random_step(current_vertex, current_orientation, step_probabilities)\n",
    "    outgoing_edge_likelihoods = step_probabilities[initial_orientation][current_vertex, :]\n",
    "    chosen_step = StatsBase.sample(outgoing_edge_likelihoods.nzind, StatsBase.weights(outgoing_edge_likelihoods.nzval))\n",
    "    possible_orientations = observation_graph.eprops[LightGraphs.Edge(current_vertex, chosen_step)][:orientations]\n",
    "    possible_orientations = filter(o -> o.source_orientation == current_orientation, possible_orientations)\n",
    "    chosen_orientation = rand(possible_orientations).destination_orientation\n",
    "    chosen_oriented_step = (vertex = chosen_step, orientation = chosen_orientation)\n",
    "    return chosen_oriented_step\n",
    "end"
   ]
  },
  {
   "cell_type": "code",
   "execution_count": 273,
   "id": "1ed368e8-bbee-4634-ac66-af3203e5fb11",
   "metadata": {},
   "outputs": [
    {
     "data": {
      "text/plain": [
       "random_walk (generic function with 1 method)"
      ]
     },
     "execution_count": 273,
     "metadata": {},
     "output_type": "execute_result"
    }
   ],
   "source": [
    "function random_walk(observation_graph, initial_vertex, initial_orientation, step_probabilities; n_steps=size(step_probabilities[true], 1))\n",
    "    step_count = 0\n",
    "    outgoing_edge_likelihoods = step_probabilities[initial_orientation][initial_vertex, :]\n",
    "    walk = Vector{NamedTuple{(:vertex, :orientation), Tuple{Int64, Bool}}}()\n",
    "    done = (step_count >= n_steps) || (sum(outgoing_edge_likelihoods) == 0)\n",
    "    current_vertex = initial_vertex\n",
    "    current_orientation = initial_orientation\n",
    "    while !done\n",
    "#         @show \"choosing\"\n",
    "        chosen_step = StatsBase.sample(outgoing_edge_likelihoods.nzind, StatsBase.weights(outgoing_edge_likelihoods.nzval))\n",
    "        chosen_step\n",
    "        possible_orientations = observation_graph.eprops[LightGraphs.Edge(current_vertex, chosen_step)][:orientations]\n",
    "        possible_orientations\n",
    "        current_orientation\n",
    "        possible_orientations = filter(o -> o.source_orientation == current_orientation, possible_orientations)\n",
    "        possible_orientations\n",
    "        chosen_orientation = rand(possible_orientations).destination_orientation\n",
    "        chosen_oriented_step = (vertex = chosen_step, orientation = chosen_orientation)\n",
    "        push!(walk, chosen_oriented_step)\n",
    "        current_vertex = chosen_step\n",
    "        current_orientation = chosen_orientation\n",
    "        outgoing_edge_likelihoods = step_probabilities[last(walk).orientation][last(walk).vertex, :]\n",
    "        step_count += 1\n",
    "#         @show outgoing_edge_likelihoods\n",
    "        done = (step_count >= n_steps) || (sum(outgoing_edge_likelihoods) == 0)\n",
    "    end\n",
    "    return walk\n",
    "end"
   ]
  },
  {
   "cell_type": "code",
   "execution_count": 11,
   "id": "03bc3ce0-24b7-4f8b-a90a-050b61c211e5",
   "metadata": {},
   "outputs": [
    {
     "data": {
      "text/plain": [
       "FASTX.FASTA.Record:\n",
       "   identifier: 3905072901333009698\n",
       "  description: <missing>\n",
       "     sequence: GGCGCGTGCTAGCGGTGTGGTTCTACATTGTATTGTATT…"
      ]
     },
     "execution_count": 11,
     "metadata": {},
     "output_type": "execute_result"
    }
   ],
   "source": [
    "# generate a genome\n",
    "sequence_length = 1_000\n",
    "sequence = BioSequences.randdnaseq(Random.seed!(sequence_length), sequence_length)\n",
    "sequence_id = string(hash(sequence))\n",
    "fasta_record = FASTX.FASTA.Record(sequence_id, sequence)"
   ]
  },
  {
   "cell_type": "code",
   "execution_count": 12,
   "id": "6b67def7-76e6-4227-a0de-f34d6d3173f5",
   "metadata": {},
   "outputs": [],
   "source": [
    "reference_fasta_file = \"$(DIR)/LENGTH-$(sequence_length).fasta\"\n",
    "open(reference_fasta_file, \"w\") do io\n",
    "    fastx_io = FASTX.FASTA.Writer(io)\n",
    "    write(fastx_io, fasta_record)\n",
    "    close(fastx_io)\n",
    "end"
   ]
  },
  {
   "cell_type": "code",
   "execution_count": 13,
   "id": "4ad0d8c4-641b-4872-8c16-57fc2ce80cde",
   "metadata": {},
   "outputs": [],
   "source": [
    "# randomly sample reads with errors from the genome\n",
    "error_rate = 0.01\n",
    "n_reads = 100\n",
    "\n",
    "# observations = [Mycelia.observe(FASTX.sequence(record), error_rate = error_rate) for i in 1:n_reads]\n",
    "observations = [Mycelia.observe(fasta_record, error_rate = error_rate) for i in 1:n_reads];"
   ]
  },
  {
   "cell_type": "code",
   "execution_count": 14,
   "id": "d0d65fbf-8343-4a15-9266-6acbd0690d57",
   "metadata": {},
   "outputs": [],
   "source": [
    "# determine distribution of read lengths"
   ]
  },
  {
   "cell_type": "code",
   "execution_count": 15,
   "id": "9f6b1ac0-bf9d-4916-940a-2148ea361442",
   "metadata": {},
   "outputs": [
    {
     "data": {
      "text/plain": [
       "990"
      ]
     },
     "execution_count": 15,
     "metadata": {},
     "output_type": "execute_result"
    }
   ],
   "source": [
    "median_read_length = Statistics.median(length.(FASTX.sequence.(observations)))\n",
    "std_deviation_read_length = Statistics.std(length.(FASTX.sequence.(observations)))\n",
    "captures_99_percent_of_reads = Int(floor(median_read_length - 4*std_deviation_read_length))"
   ]
  },
  {
   "cell_type": "code",
   "execution_count": 16,
   "id": "a4085a37-0a1b-4a8c-9115-9baf8882b5e0",
   "metadata": {},
   "outputs": [
    {
     "name": "stdout",
     "output_type": "stream",
     "text": [
      "sparsity = 0.0318\n",
      "sparsity = 0.00016\n",
      "k = 17\n"
     ]
    },
    {
     "data": {
      "text/plain": [
       "17"
      ]
     },
     "execution_count": 16,
     "metadata": {},
     "output_type": "execute_result"
    }
   ],
   "source": [
    "# determine optimal k\n",
    "min_k = min(13, captures_99_percent_of_reads)\n",
    "max_k = min(61, captures_99_percent_of_reads)\n",
    "k_options = Primes.primes(min_k, max_k)\n",
    "k_index = findfirst(k -> assess_kmer_sparsity_in_reads(k, observations) < .01, k_options)\n",
    "k = k_options[k_index]\n",
    "@show k"
   ]
  },
  {
   "cell_type": "code",
   "execution_count": 17,
   "id": "14964bd9-c1b2-469c-92cc-c467b631358b",
   "metadata": {},
   "outputs": [],
   "source": [
    "observations_file = \"$(DIR)/LENGTH-$(sequence_length)-DEPTH-$(n_reads).fastq\"\n",
    "open(observations_file, \"w\") do io\n",
    "    fastq_io = FASTX.FASTQ.Writer(io)\n",
    "    for record in observations\n",
    "        write(fastq_io, record)\n",
    "    end\n",
    "    close(fastq_io)\n",
    "end"
   ]
  },
  {
   "cell_type": "markdown",
   "id": "5884b85a-bc25-44a0-b6f4-fe938758f824",
   "metadata": {},
   "source": [
    "# Begin graph resolving of observation graph"
   ]
  },
  {
   "cell_type": "code",
   "execution_count": 18,
   "id": "351d47d9-a8c9-4a7a-8d47-9b604bdb7f41",
   "metadata": {},
   "outputs": [],
   "source": [
    "# assess kmer counts"
   ]
  },
  {
   "cell_type": "code",
   "execution_count": 19,
   "id": "d4c4ee10-d428-4aa4-a71e-9c610339ff28",
   "metadata": {},
   "outputs": [],
   "source": [
    "# fit linear trendline to kmer counts"
   ]
  },
  {
   "cell_type": "code",
   "execution_count": 20,
   "id": "41e1f331-25ba-4ac5-a282-07894c5c8bd4",
   "metadata": {},
   "outputs": [],
   "source": [
    "# apply thresholding when constructing kmer graph at the trendline"
   ]
  },
  {
   "cell_type": "code",
   "execution_count": 30,
   "id": "7764dfed-7461-42d0-b4bc-ec7de4f173c9",
   "metadata": {},
   "outputs": [
    {
     "data": {
      "text/plain": [
       "OrderedCollections.OrderedDict{BioSequences.DNAMer{17}, Int64} with 13709 entries:\n",
       "  AAAAAACTTATCACAGG => 1\n",
       "  AAAAAATTATCATCCCA => 1\n",
       "  AAAAAATTATCATCCCC => 2\n",
       "  AAAAACATTATCACAGG => 1\n",
       "  AAAAACTAATCACAGGG => 1\n",
       "  AAAAACTTAATCACAGG => 1\n",
       "  AAAAACTTACCACAGGG => 1\n",
       "  AAAAACTTATCAACAGG => 2\n",
       "  AAAAACTTATCAAGGGC => 1\n",
       "  AAAAACTTATCACAGAG => 1\n",
       "  AAAAACTTATCACAGGA => 1\n",
       "  AAAAACTTATCACAGGC => 2\n",
       "  AAAAACTTATCACAGGG => 83\n",
       "  AAAAACTTATCACGGGG => 1\n",
       "  AAAAACTTATCACTGGG => 1\n",
       "  AAAAACTTATCCAGGGC => 1\n",
       "  AAAAACTTTCACAGGGC => 1\n",
       "  AAAAAGACTACGGTAGA => 1\n",
       "  AAAAATATACTGAAATG => 1\n",
       "  AAAAATATCATCCCTTA => 1\n",
       "  AAAAATCTTATCACAGG => 1\n",
       "  AAAAATTATAATCCCCT => 2\n",
       "  AAAAATTATCATCCCAT => 2\n",
       "  AAAAATTATCATCCCCA => 1\n",
       "  AAAAATTATCATCCCCT => 87\n",
       "  ⋮                 => ⋮"
      ]
     },
     "execution_count": 30,
     "metadata": {},
     "output_type": "execute_result"
    }
   ],
   "source": [
    "kmer_counts = Mycelia.count_canonical_kmers(BioSequences.DNAMer{k}, observations_file)"
   ]
  },
  {
   "cell_type": "code",
   "execution_count": 31,
   "id": "f9bed7a0-5849-45bf-8ecc-ca64c09dcdf2",
   "metadata": {},
   "outputs": [
    {
     "data": {
      "text/plain": [
       "25-element Vector{Pair{Int64, Int64}}:\n",
       "  1 => 11574\n",
       "  2 => 1019\n",
       "  3 => 118\n",
       "  4 => 2\n",
       "  5 => 12\n",
       " 75 => 2\n",
       " 76 => 5\n",
       " 77 => 16\n",
       " 78 => 19\n",
       " 79 => 19\n",
       " 80 => 29\n",
       " 81 => 43\n",
       " 82 => 45\n",
       " 83 => 71\n",
       " 84 => 92\n",
       " 85 => 95\n",
       " 86 => 102\n",
       " 87 => 115\n",
       " 88 => 81\n",
       " 89 => 93\n",
       " 90 => 67\n",
       " 91 => 48\n",
       " 92 => 26\n",
       " 93 => 12\n",
       " 94 => 4"
      ]
     },
     "execution_count": 31,
     "metadata": {},
     "output_type": "execute_result"
    }
   ],
   "source": [
    "kmer_counts_histogram = sort(collect(StatsBase.countmap(values(kmer_counts))), by=x->x[1])"
   ]
  },
  {
   "cell_type": "code",
   "execution_count": 34,
   "id": "bbe23e87-889d-4812-8ec0-772a3ec2e369",
   "metadata": {},
   "outputs": [
    {
     "data": {
      "image/svg+xml": [
       "<?xml version=\"1.0\" encoding=\"utf-8\"?>\n",
       "<svg xmlns=\"http://www.w3.org/2000/svg\" xmlns:xlink=\"http://www.w3.org/1999/xlink\" width=\"500\" height=\"250\" viewBox=\"0 0 2000 1000\">\n",
       "<defs>\n",
       "  <clipPath id=\"clip160\">\n",
       "    <rect x=\"0\" y=\"0\" width=\"2000\" height=\"1000\"/>\n",
       "  </clipPath>\n",
       "</defs>\n",
       "<path clip-path=\"url(#clip160)\" d=\"\n",
       "M0 1000 L2000 1000 L2000 0 L0 0  Z\n",
       "  \" fill=\"#ffffff\" fill-rule=\"evenodd\" fill-opacity=\"1\"/>\n",
       "<defs>\n",
       "  <clipPath id=\"clip161\">\n",
       "    <rect x=\"400\" y=\"0\" width=\"1401\" height=\"1000\"/>\n",
       "  </clipPath>\n",
       "</defs>\n",
       "<path clip-path=\"url(#clip160)\" d=\"\n",
       "M231.579 849.7 L1952.76 849.7 L1952.76 108.352 L231.579 108.352  Z\n",
       "  \" fill=\"#ffffff\" fill-rule=\"evenodd\" fill-opacity=\"1\"/>\n",
       "<defs>\n",
       "  <clipPath id=\"clip162\">\n",
       "    <rect x=\"231\" y=\"108\" width=\"1722\" height=\"742\"/>\n",
       "  </clipPath>\n",
       "</defs>\n",
       "<polyline clip-path=\"url(#clip162)\" style=\"stroke:#000000; stroke-linecap:butt; stroke-linejoin:round; stroke-width:2; stroke-opacity:0.1; fill:none\" points=\"\n",
       "  231.579,849.7 231.579,108.352 \n",
       "  \"/>\n",
       "<polyline clip-path=\"url(#clip162)\" style=\"stroke:#000000; stroke-linecap:butt; stroke-linejoin:round; stroke-width:2; stroke-opacity:0.1; fill:none\" points=\"\n",
       "  542.076,849.7 542.076,108.352 \n",
       "  \"/>\n",
       "<polyline clip-path=\"url(#clip162)\" style=\"stroke:#000000; stroke-linecap:butt; stroke-linejoin:round; stroke-width:2; stroke-opacity:0.1; fill:none\" points=\"\n",
       "  852.573,849.7 852.573,108.352 \n",
       "  \"/>\n",
       "<polyline clip-path=\"url(#clip162)\" style=\"stroke:#000000; stroke-linecap:butt; stroke-linejoin:round; stroke-width:2; stroke-opacity:0.1; fill:none\" points=\"\n",
       "  1163.07,849.7 1163.07,108.352 \n",
       "  \"/>\n",
       "<polyline clip-path=\"url(#clip162)\" style=\"stroke:#000000; stroke-linecap:butt; stroke-linejoin:round; stroke-width:2; stroke-opacity:0.1; fill:none\" points=\"\n",
       "  1473.57,849.7 1473.57,108.352 \n",
       "  \"/>\n",
       "<polyline clip-path=\"url(#clip162)\" style=\"stroke:#000000; stroke-linecap:butt; stroke-linejoin:round; stroke-width:2; stroke-opacity:0.1; fill:none\" points=\"\n",
       "  1784.06,849.7 1784.06,108.352 \n",
       "  \"/>\n",
       "<polyline clip-path=\"url(#clip160)\" style=\"stroke:#000000; stroke-linecap:butt; stroke-linejoin:round; stroke-width:4; stroke-opacity:1; fill:none\" points=\"\n",
       "  231.579,849.7 1952.76,849.7 \n",
       "  \"/>\n",
       "<polyline clip-path=\"url(#clip160)\" style=\"stroke:#000000; stroke-linecap:butt; stroke-linejoin:round; stroke-width:4; stroke-opacity:1; fill:none\" points=\"\n",
       "  231.579,849.7 231.579,830.802 \n",
       "  \"/>\n",
       "<polyline clip-path=\"url(#clip160)\" style=\"stroke:#000000; stroke-linecap:butt; stroke-linejoin:round; stroke-width:4; stroke-opacity:1; fill:none\" points=\"\n",
       "  542.076,849.7 542.076,830.802 \n",
       "  \"/>\n",
       "<polyline clip-path=\"url(#clip160)\" style=\"stroke:#000000; stroke-linecap:butt; stroke-linejoin:round; stroke-width:4; stroke-opacity:1; fill:none\" points=\"\n",
       "  852.573,849.7 852.573,830.802 \n",
       "  \"/>\n",
       "<polyline clip-path=\"url(#clip160)\" style=\"stroke:#000000; stroke-linecap:butt; stroke-linejoin:round; stroke-width:4; stroke-opacity:1; fill:none\" points=\"\n",
       "  1163.07,849.7 1163.07,830.802 \n",
       "  \"/>\n",
       "<polyline clip-path=\"url(#clip160)\" style=\"stroke:#000000; stroke-linecap:butt; stroke-linejoin:round; stroke-width:4; stroke-opacity:1; fill:none\" points=\"\n",
       "  1473.57,849.7 1473.57,830.802 \n",
       "  \"/>\n",
       "<polyline clip-path=\"url(#clip160)\" style=\"stroke:#000000; stroke-linecap:butt; stroke-linejoin:round; stroke-width:4; stroke-opacity:1; fill:none\" points=\"\n",
       "  1784.06,849.7 1784.06,830.802 \n",
       "  \"/>\n",
       "<path clip-path=\"url(#clip160)\" d=\"M231.579 875.691 Q227.968 875.691 226.139 879.255 Q224.333 882.797 224.333 889.927 Q224.333 897.033 226.139 900.598 Q227.968 904.139 231.579 904.139 Q235.213 904.139 237.018 900.598 Q238.847 897.033 238.847 889.927 Q238.847 882.797 237.018 879.255 Q235.213 875.691 231.579 875.691 M231.579 871.987 Q237.389 871.987 240.444 876.593 Q243.523 881.177 243.523 889.927 Q243.523 898.653 240.444 903.26 Q237.389 907.843 231.579 907.843 Q225.769 907.843 222.69 903.26 Q219.634 898.653 219.634 889.927 Q219.634 881.177 222.69 876.593 Q225.769 871.987 231.579 871.987 Z\" fill=\"#000000\" fill-rule=\"evenodd\" fill-opacity=\"1\" /><path clip-path=\"url(#clip160)\" d=\"M532.458 903.237 L540.097 903.237 L540.097 876.871 L531.787 878.538 L531.787 874.279 L540.05 872.612 L544.726 872.612 L544.726 903.237 L552.365 903.237 L552.365 907.172 L532.458 907.172 L532.458 903.237 Z\" fill=\"#000000\" fill-rule=\"evenodd\" fill-opacity=\"1\" /><path clip-path=\"url(#clip160)\" d=\"M847.226 903.237 L863.545 903.237 L863.545 907.172 L841.601 907.172 L841.601 903.237 Q844.263 900.482 848.846 895.852 Q853.453 891.2 854.633 889.857 Q856.879 887.334 857.758 885.598 Q858.661 883.839 858.661 882.149 Q858.661 879.394 856.716 877.658 Q854.795 875.922 851.693 875.922 Q849.494 875.922 847.041 876.686 Q844.61 877.45 841.832 879.001 L841.832 874.279 Q844.656 873.144 847.11 872.566 Q849.564 871.987 851.601 871.987 Q856.971 871.987 860.166 874.672 Q863.36 877.357 863.36 881.848 Q863.36 883.978 862.55 885.899 Q861.763 887.797 859.656 890.39 Q859.078 891.061 855.976 894.278 Q852.874 897.473 847.226 903.237 Z\" fill=\"#000000\" fill-rule=\"evenodd\" fill-opacity=\"1\" /><path clip-path=\"url(#clip160)\" d=\"M1167.32 888.538 Q1170.67 889.255 1172.55 891.524 Q1174.45 893.792 1174.45 897.126 Q1174.45 902.241 1170.93 905.042 Q1167.41 907.843 1160.93 907.843 Q1158.75 907.843 1156.44 907.403 Q1154.15 906.987 1151.69 906.13 L1151.69 901.616 Q1153.64 902.751 1155.95 903.329 Q1158.27 903.908 1160.79 903.908 Q1165.19 903.908 1167.48 902.172 Q1169.79 900.436 1169.79 897.126 Q1169.79 894.07 1167.64 892.357 Q1165.51 890.621 1161.69 890.621 L1157.67 890.621 L1157.67 886.778 L1161.88 886.778 Q1165.33 886.778 1167.16 885.413 Q1168.98 884.024 1168.98 881.431 Q1168.98 878.769 1167.09 877.357 Q1165.21 875.922 1161.69 875.922 Q1159.77 875.922 1157.57 876.339 Q1155.37 876.755 1152.73 877.635 L1152.73 873.468 Q1155.4 872.728 1157.71 872.357 Q1160.05 871.987 1162.11 871.987 Q1167.43 871.987 1170.54 874.417 Q1173.64 876.825 1173.64 880.945 Q1173.64 883.815 1171.99 885.806 Q1170.35 887.774 1167.32 888.538 Z\" fill=\"#000000\" fill-rule=\"evenodd\" fill-opacity=\"1\" /><path clip-path=\"url(#clip160)\" d=\"M1476.58 876.686 L1464.77 895.135 L1476.58 895.135 L1476.58 876.686 M1475.35 872.612 L1481.23 872.612 L1481.23 895.135 L1486.16 895.135 L1486.16 899.024 L1481.23 899.024 L1481.23 907.172 L1476.58 907.172 L1476.58 899.024 L1460.97 899.024 L1460.97 894.51 L1475.35 872.612 Z\" fill=\"#000000\" fill-rule=\"evenodd\" fill-opacity=\"1\" /><path clip-path=\"url(#clip160)\" d=\"M1774.34 872.612 L1792.7 872.612 L1792.7 876.547 L1778.62 876.547 L1778.62 885.019 Q1779.64 884.672 1780.66 884.51 Q1781.68 884.325 1782.7 884.325 Q1788.49 884.325 1791.87 887.496 Q1795.24 890.667 1795.24 896.084 Q1795.24 901.663 1791.77 904.764 Q1788.3 907.843 1781.98 907.843 Q1779.81 907.843 1777.54 907.473 Q1775.29 907.102 1772.88 906.362 L1772.88 901.663 Q1774.97 902.797 1777.19 903.352 Q1779.41 903.908 1781.89 903.908 Q1785.89 903.908 1788.23 901.802 Q1790.57 899.695 1790.57 896.084 Q1790.57 892.473 1788.23 890.366 Q1785.89 888.26 1781.89 888.26 Q1780.01 888.26 1778.14 888.677 Q1776.29 889.093 1774.34 889.973 L1774.34 872.612 Z\" fill=\"#000000\" fill-rule=\"evenodd\" fill-opacity=\"1\" /><path clip-path=\"url(#clip160)\" d=\"M698.003 939.039 L703.859 939.039 L703.859 988.564 L698.003 988.564 L698.003 939.039 Z\" fill=\"#000000\" fill-rule=\"evenodd\" fill-opacity=\"1\" /><path clip-path=\"url(#clip160)\" d=\"M729.927 957.022 Q725.216 957.022 722.479 960.714 Q719.742 964.374 719.742 970.772 Q719.742 977.169 722.447 980.861 Q725.184 984.522 729.927 984.522 Q734.606 984.522 737.343 980.83 Q740.08 977.137 740.08 970.772 Q740.08 964.438 737.343 960.746 Q734.606 957.022 729.927 957.022 M729.927 952.057 Q737.566 952.057 741.926 957.022 Q746.287 961.987 746.287 970.772 Q746.287 979.525 741.926 984.522 Q737.566 989.487 729.927 989.487 Q722.256 989.487 717.896 984.522 Q713.567 979.525 713.567 970.772 Q713.567 961.987 717.896 957.022 Q722.256 952.057 729.927 952.057 Z\" fill=\"#000000\" fill-rule=\"evenodd\" fill-opacity=\"1\" /><path clip-path=\"url(#clip160)\" d=\"M779.452 970.326 Q779.452 963.96 776.81 960.459 Q774.2 956.958 769.458 956.958 Q764.747 956.958 762.105 960.459 Q759.495 963.96 759.495 970.326 Q759.495 976.66 762.105 980.161 Q764.747 983.662 769.458 983.662 Q774.2 983.662 776.81 980.161 Q779.452 976.66 779.452 970.326 M785.308 984.14 Q785.308 993.243 781.266 997.667 Q777.224 1002.12 768.885 1002.12 Q765.798 1002.12 763.06 1001.65 Q760.323 1001.2 757.745 1000.24 L757.745 994.548 Q760.323 995.948 762.837 996.616 Q765.352 997.285 767.962 997.285 Q773.723 997.285 776.587 994.261 Q779.452 991.269 779.452 985.19 L779.452 982.294 Q777.638 985.445 774.805 987.004 Q771.972 988.564 768.026 988.564 Q761.469 988.564 757.458 983.567 Q753.448 978.57 753.448 970.326 Q753.448 962.051 757.458 957.054 Q761.469 952.057 768.026 952.057 Q771.972 952.057 774.805 953.616 Q777.638 955.176 779.452 958.327 L779.452 952.916 L785.308 952.916 L785.308 984.14 Z\" fill=\"#000000\" fill-rule=\"evenodd\" fill-opacity=\"1\" /><path clip-path=\"url(#clip160)\" d=\"M811.44 939.102 Q807.175 946.423 805.106 953.584 Q803.037 960.746 803.037 968.098 Q803.037 975.45 805.106 982.676 Q807.206 989.869 811.44 997.158 L806.347 997.158 Q801.573 989.678 799.186 982.453 Q796.83 975.228 796.83 968.098 Q796.83 961 799.186 953.807 Q801.541 946.614 806.347 939.102 L811.44 939.102 Z\" fill=\"#000000\" fill-rule=\"evenodd\" fill-opacity=\"1\" /><path clip-path=\"url(#clip160)\" d=\"M836.616 957.022 Q831.905 957.022 829.168 960.714 Q826.431 964.374 826.431 970.772 Q826.431 977.169 829.136 980.861 Q831.874 984.522 836.616 984.522 Q841.295 984.522 844.032 980.83 Q846.769 977.137 846.769 970.772 Q846.769 964.438 844.032 960.746 Q841.295 957.022 836.616 957.022 M836.616 952.057 Q844.255 952.057 848.615 957.022 Q852.976 961.987 852.976 970.772 Q852.976 979.525 848.615 984.522 Q844.255 989.487 836.616 989.487 Q828.945 989.487 824.585 984.522 Q820.256 979.525 820.256 970.772 Q820.256 961.987 824.585 957.022 Q828.945 952.057 836.616 952.057 Z\" fill=\"#000000\" fill-rule=\"evenodd\" fill-opacity=\"1\" /><path clip-path=\"url(#clip160)\" d=\"M888.274 970.772 Q888.274 964.311 885.6 960.65 Q882.958 956.958 878.311 956.958 Q873.664 956.958 870.991 960.65 Q868.349 964.311 868.349 970.772 Q868.349 977.233 870.991 980.925 Q873.664 984.585 878.311 984.585 Q882.958 984.585 885.6 980.925 Q888.274 977.233 888.274 970.772 M868.349 958.327 Q870.195 955.144 872.996 953.616 Q875.829 952.057 879.744 952.057 Q886.237 952.057 890.279 957.213 Q894.353 962.369 894.353 970.772 Q894.353 979.174 890.279 984.331 Q886.237 989.487 879.744 989.487 Q875.829 989.487 872.996 987.959 Q870.195 986.4 868.349 983.217 L868.349 988.564 L862.461 988.564 L862.461 939.039 L868.349 939.039 L868.349 958.327 Z\" fill=\"#000000\" fill-rule=\"evenodd\" fill-opacity=\"1\" /><path clip-path=\"url(#clip160)\" d=\"M926.786 953.966 L926.786 959.504 Q924.304 958.231 921.63 957.595 Q918.956 956.958 916.092 956.958 Q911.731 956.958 909.535 958.295 Q907.371 959.632 907.371 962.305 Q907.371 964.342 908.93 965.52 Q910.49 966.666 915.201 967.716 L917.206 968.162 Q923.444 969.499 926.054 971.949 Q928.696 974.368 928.696 978.729 Q928.696 983.694 924.749 986.59 Q920.834 989.487 913.959 989.487 Q911.095 989.487 907.976 988.914 Q904.888 988.373 901.451 987.259 L901.451 981.211 Q904.697 982.898 907.848 983.758 Q910.999 984.585 914.087 984.585 Q918.224 984.585 920.452 983.185 Q922.68 981.753 922.68 979.174 Q922.68 976.787 921.057 975.514 Q919.466 974.241 914.023 973.063 L911.986 972.586 Q906.543 971.44 904.124 969.085 Q901.705 966.698 901.705 962.56 Q901.705 957.531 905.27 954.794 Q908.835 952.057 915.392 952.057 Q918.638 952.057 921.503 952.534 Q924.367 953.011 926.786 953.966 Z\" fill=\"#000000\" fill-rule=\"evenodd\" fill-opacity=\"1\" /><path clip-path=\"url(#clip160)\" d=\"M968.513 969.276 L968.513 972.14 L941.587 972.14 Q941.968 978.188 945.215 981.371 Q948.493 984.522 954.318 984.522 Q957.692 984.522 960.843 983.694 Q964.026 982.867 967.145 981.211 L967.145 986.75 Q963.994 988.086 960.684 988.787 Q957.373 989.487 953.968 989.487 Q945.438 989.487 940.441 984.522 Q935.475 979.556 935.475 971.09 Q935.475 962.337 940.186 957.213 Q944.929 952.057 952.949 952.057 Q960.143 952.057 964.312 956.703 Q968.513 961.319 968.513 969.276 M962.657 967.557 Q962.593 962.751 959.952 959.886 Q957.342 957.022 953.013 957.022 Q948.111 957.022 945.151 959.791 Q942.223 962.56 941.777 967.589 L962.657 967.557 Z\" fill=\"#000000\" fill-rule=\"evenodd\" fill-opacity=\"1\" /><path clip-path=\"url(#clip160)\" d=\"M998.782 958.39 Q997.796 957.817 996.618 957.563 Q995.472 957.276 994.072 957.276 Q989.107 957.276 986.433 960.523 Q983.791 963.738 983.791 969.785 L983.791 988.564 L977.903 988.564 L977.903 952.916 L983.791 952.916 L983.791 958.454 Q985.637 955.208 988.597 953.648 Q991.557 952.057 995.791 952.057 Q996.395 952.057 997.127 952.152 Q997.859 952.216 998.751 952.375 L998.782 958.39 Z\" fill=\"#000000\" fill-rule=\"evenodd\" fill-opacity=\"1\" /><path clip-path=\"url(#clip160)\" d=\"M1000.72 952.916 L1006.93 952.916 L1018.07 982.835 L1029.21 952.916 L1035.42 952.916 L1022.05 988.564 L1014.09 988.564 L1000.72 952.916 Z\" fill=\"#000000\" fill-rule=\"evenodd\" fill-opacity=\"1\" /><path clip-path=\"url(#clip160)\" d=\"M1073.99 969.276 L1073.99 972.14 L1047.07 972.14 Q1047.45 978.188 1050.69 981.371 Q1053.97 984.522 1059.8 984.522 Q1063.17 984.522 1066.32 983.694 Q1069.51 982.867 1072.62 981.211 L1072.62 986.75 Q1069.47 988.086 1066.16 988.787 Q1062.85 989.487 1059.45 989.487 Q1050.92 989.487 1045.92 984.522 Q1040.96 979.556 1040.96 971.09 Q1040.96 962.337 1045.67 957.213 Q1050.41 952.057 1058.43 952.057 Q1065.62 952.057 1069.79 956.703 Q1073.99 961.319 1073.99 969.276 M1068.14 967.557 Q1068.07 962.751 1065.43 959.886 Q1062.82 957.022 1058.49 957.022 Q1053.59 957.022 1050.63 959.791 Q1047.7 962.56 1047.26 967.589 L1068.14 967.557 Z\" fill=\"#000000\" fill-rule=\"evenodd\" fill-opacity=\"1\" /><path clip-path=\"url(#clip160)\" d=\"M1107.06 958.327 L1107.06 939.039 L1112.92 939.039 L1112.92 988.564 L1107.06 988.564 L1107.06 983.217 Q1105.22 986.4 1102.38 987.959 Q1099.58 989.487 1095.64 989.487 Q1089.18 989.487 1085.1 984.331 Q1081.06 979.174 1081.06 970.772 Q1081.06 962.369 1085.1 957.213 Q1089.18 952.057 1095.64 952.057 Q1099.58 952.057 1102.38 953.616 Q1105.22 955.144 1107.06 958.327 M1087.11 970.772 Q1087.11 977.233 1089.75 980.925 Q1092.42 984.585 1097.07 984.585 Q1101.72 984.585 1104.39 980.925 Q1107.06 977.233 1107.06 970.772 Q1107.06 964.311 1104.39 960.65 Q1101.72 956.958 1097.07 956.958 Q1092.42 956.958 1089.75 960.65 Q1087.11 964.311 1087.11 970.772 Z\" fill=\"#000000\" fill-rule=\"evenodd\" fill-opacity=\"1\" /><path clip-path=\"url(#clip160)\" d=\"M1163.75 939.039 L1163.75 943.908 L1158.15 943.908 Q1155 943.908 1153.76 945.182 Q1152.55 946.455 1152.55 949.765 L1152.55 952.916 L1162.19 952.916 L1162.19 957.467 L1152.55 957.467 L1152.55 988.564 L1146.66 988.564 L1146.66 957.467 L1141.06 957.467 L1141.06 952.916 L1146.66 952.916 L1146.66 950.433 Q1146.66 944.481 1149.43 941.776 Q1152.2 939.039 1158.21 939.039 L1163.75 939.039 Z\" fill=\"#000000\" fill-rule=\"evenodd\" fill-opacity=\"1\" /><path clip-path=\"url(#clip160)\" d=\"M1189.31 958.39 Q1188.32 957.817 1187.14 957.563 Q1186 957.276 1184.6 957.276 Q1179.63 957.276 1176.96 960.523 Q1174.32 963.738 1174.32 969.785 L1174.32 988.564 L1168.43 988.564 L1168.43 952.916 L1174.32 952.916 L1174.32 958.454 Q1176.16 955.208 1179.12 953.648 Q1182.08 952.057 1186.32 952.057 Q1186.92 952.057 1187.65 952.152 Q1188.38 952.216 1189.28 952.375 L1189.31 958.39 Z\" fill=\"#000000\" fill-rule=\"evenodd\" fill-opacity=\"1\" /><path clip-path=\"url(#clip160)\" d=\"M1224.51 969.276 L1224.51 972.14 L1197.58 972.14 Q1197.97 978.188 1201.21 981.371 Q1204.49 984.522 1210.31 984.522 Q1213.69 984.522 1216.84 983.694 Q1220.02 982.867 1223.14 981.211 L1223.14 986.75 Q1219.99 988.086 1216.68 988.787 Q1213.37 989.487 1209.96 989.487 Q1201.43 989.487 1196.44 984.522 Q1191.47 979.556 1191.47 971.09 Q1191.47 962.337 1196.18 957.213 Q1200.93 952.057 1208.95 952.057 Q1216.14 952.057 1220.31 956.703 Q1224.51 961.319 1224.51 969.276 M1218.65 967.557 Q1218.59 962.751 1215.95 959.886 Q1213.34 957.022 1209.01 957.022 Q1204.11 957.022 1201.15 959.791 Q1198.22 962.56 1197.77 967.589 L1218.65 967.557 Z\" fill=\"#000000\" fill-rule=\"evenodd\" fill-opacity=\"1\" /><path clip-path=\"url(#clip160)\" d=\"M1237.62 970.772 Q1237.62 977.233 1240.27 980.925 Q1242.94 984.585 1247.59 984.585 Q1252.23 984.585 1254.91 980.925 Q1257.58 977.233 1257.58 970.772 Q1257.58 964.311 1254.91 960.65 Q1252.23 956.958 1247.59 956.958 Q1242.94 956.958 1240.27 960.65 Q1237.62 964.311 1237.62 970.772 M1257.58 983.217 Q1255.73 986.4 1252.9 987.959 Q1250.1 989.487 1246.15 989.487 Q1239.69 989.487 1235.62 984.331 Q1231.58 979.174 1231.58 970.772 Q1231.58 962.369 1235.62 957.213 Q1239.69 952.057 1246.15 952.057 Q1250.1 952.057 1252.9 953.616 Q1255.73 955.144 1257.58 958.327 L1257.58 952.916 L1263.44 952.916 L1263.44 1002.12 L1257.58 1002.12 L1257.58 983.217 Z\" fill=\"#000000\" fill-rule=\"evenodd\" fill-opacity=\"1\" /><path clip-path=\"url(#clip160)\" d=\"M1274.89 974.496 L1274.89 952.916 L1280.75 952.916 L1280.75 974.273 Q1280.75 979.334 1282.72 981.88 Q1284.7 984.394 1288.64 984.394 Q1293.39 984.394 1296.12 981.371 Q1298.89 978.347 1298.89 973.127 L1298.89 952.916 L1304.75 952.916 L1304.75 988.564 L1298.89 988.564 L1298.89 983.089 Q1296.76 986.336 1293.93 987.927 Q1291.13 989.487 1287.4 989.487 Q1281.26 989.487 1278.08 985.667 Q1274.89 981.848 1274.89 974.496 M1289.63 952.057 L1289.63 952.057 Z\" fill=\"#000000\" fill-rule=\"evenodd\" fill-opacity=\"1\" /><path clip-path=\"url(#clip160)\" d=\"M1347.3 969.276 L1347.3 972.14 L1320.38 972.14 Q1320.76 978.188 1324.01 981.371 Q1327.28 984.522 1333.11 984.522 Q1336.48 984.522 1339.63 983.694 Q1342.82 982.867 1345.94 981.211 L1345.94 986.75 Q1342.79 988.086 1339.48 988.787 Q1336.16 989.487 1332.76 989.487 Q1324.23 989.487 1319.23 984.522 Q1314.27 979.556 1314.27 971.09 Q1314.27 962.337 1318.98 957.213 Q1323.72 952.057 1331.74 952.057 Q1338.93 952.057 1343.1 956.703 Q1347.3 961.319 1347.3 969.276 M1341.45 967.557 Q1341.38 962.751 1338.74 959.886 Q1336.13 957.022 1331.8 957.022 Q1326.9 957.022 1323.94 959.791 Q1321.01 962.56 1320.57 967.589 L1341.45 967.557 Z\" fill=\"#000000\" fill-rule=\"evenodd\" fill-opacity=\"1\" /><path clip-path=\"url(#clip160)\" d=\"M1386.55 967.048 L1386.55 988.564 L1380.69 988.564 L1380.69 967.239 Q1380.69 962.178 1378.72 959.664 Q1376.75 957.149 1372.8 957.149 Q1368.06 957.149 1365.32 960.173 Q1362.58 963.197 1362.58 968.416 L1362.58 988.564 L1356.69 988.564 L1356.69 952.916 L1362.58 952.916 L1362.58 958.454 Q1364.68 955.239 1367.52 953.648 Q1370.38 952.057 1374.1 952.057 Q1380.25 952.057 1383.4 955.876 Q1386.55 959.664 1386.55 967.048 Z\" fill=\"#000000\" fill-rule=\"evenodd\" fill-opacity=\"1\" /><path clip-path=\"url(#clip160)\" d=\"M1423.88 954.285 L1423.88 959.759 Q1421.4 958.39 1418.89 957.722 Q1416.4 957.022 1413.86 957.022 Q1408.16 957.022 1405.01 960.65 Q1401.86 964.247 1401.86 970.772 Q1401.86 977.297 1405.01 980.925 Q1408.16 984.522 1413.86 984.522 Q1416.4 984.522 1418.89 983.853 Q1421.4 983.153 1423.88 981.784 L1423.88 987.195 Q1421.43 988.341 1418.79 988.914 Q1416.18 989.487 1413.22 989.487 Q1405.17 989.487 1400.43 984.426 Q1395.68 979.365 1395.68 970.772 Q1395.68 962.051 1400.46 957.054 Q1405.26 952.057 1413.6 952.057 Q1416.31 952.057 1418.89 952.629 Q1421.47 953.171 1423.88 954.285 Z\" fill=\"#000000\" fill-rule=\"evenodd\" fill-opacity=\"1\" /><path clip-path=\"url(#clip160)\" d=\"M1448.9 991.874 Q1446.42 998.24 1444.06 1000.18 Q1441.71 1002.12 1437.76 1002.12 L1433.08 1002.12 L1433.08 997.221 L1436.52 997.221 Q1438.94 997.221 1440.28 996.075 Q1441.61 994.93 1443.24 990.665 L1444.29 987.991 L1429.87 952.916 L1436.07 952.916 L1447.21 980.798 L1458.35 952.916 L1464.56 952.916 L1448.9 991.874 Z\" fill=\"#000000\" fill-rule=\"evenodd\" fill-opacity=\"1\" /><path clip-path=\"url(#clip160)\" d=\"M1471.72 939.102 L1476.82 939.102 Q1481.59 946.614 1483.94 953.807 Q1486.33 961 1486.33 968.098 Q1486.33 975.228 1483.94 982.453 Q1481.59 989.678 1476.82 997.158 L1471.72 997.158 Q1475.96 989.869 1478.02 982.676 Q1480.13 975.45 1480.13 968.098 Q1480.13 960.746 1478.02 953.584 Q1475.96 946.423 1471.72 939.102 Z\" fill=\"#000000\" fill-rule=\"evenodd\" fill-opacity=\"1\" /><polyline clip-path=\"url(#clip162)\" style=\"stroke:#000000; stroke-linecap:butt; stroke-linejoin:round; stroke-width:2; stroke-opacity:0.1; fill:none\" points=\"\n",
       "  231.579,849.7 1952.76,849.7 \n",
       "  \"/>\n",
       "<polyline clip-path=\"url(#clip162)\" style=\"stroke:#000000; stroke-linecap:butt; stroke-linejoin:round; stroke-width:2; stroke-opacity:0.1; fill:none\" points=\"\n",
       "  231.579,670.743 1952.76,670.743 \n",
       "  \"/>\n",
       "<polyline clip-path=\"url(#clip162)\" style=\"stroke:#000000; stroke-linecap:butt; stroke-linejoin:round; stroke-width:2; stroke-opacity:0.1; fill:none\" points=\"\n",
       "  231.579,491.786 1952.76,491.786 \n",
       "  \"/>\n",
       "<polyline clip-path=\"url(#clip162)\" style=\"stroke:#000000; stroke-linecap:butt; stroke-linejoin:round; stroke-width:2; stroke-opacity:0.1; fill:none\" points=\"\n",
       "  231.579,312.829 1952.76,312.829 \n",
       "  \"/>\n",
       "<polyline clip-path=\"url(#clip162)\" style=\"stroke:#000000; stroke-linecap:butt; stroke-linejoin:round; stroke-width:2; stroke-opacity:0.1; fill:none\" points=\"\n",
       "  231.579,133.873 1952.76,133.873 \n",
       "  \"/>\n",
       "<polyline clip-path=\"url(#clip160)\" style=\"stroke:#000000; stroke-linecap:butt; stroke-linejoin:round; stroke-width:4; stroke-opacity:1; fill:none\" points=\"\n",
       "  231.579,849.7 231.579,108.352 \n",
       "  \"/>\n",
       "<polyline clip-path=\"url(#clip160)\" style=\"stroke:#000000; stroke-linecap:butt; stroke-linejoin:round; stroke-width:4; stroke-opacity:1; fill:none\" points=\"\n",
       "  231.579,849.7 250.476,849.7 \n",
       "  \"/>\n",
       "<polyline clip-path=\"url(#clip160)\" style=\"stroke:#000000; stroke-linecap:butt; stroke-linejoin:round; stroke-width:4; stroke-opacity:1; fill:none\" points=\"\n",
       "  231.579,670.743 250.476,670.743 \n",
       "  \"/>\n",
       "<polyline clip-path=\"url(#clip160)\" style=\"stroke:#000000; stroke-linecap:butt; stroke-linejoin:round; stroke-width:4; stroke-opacity:1; fill:none\" points=\"\n",
       "  231.579,491.786 250.476,491.786 \n",
       "  \"/>\n",
       "<polyline clip-path=\"url(#clip160)\" style=\"stroke:#000000; stroke-linecap:butt; stroke-linejoin:round; stroke-width:4; stroke-opacity:1; fill:none\" points=\"\n",
       "  231.579,312.829 250.476,312.829 \n",
       "  \"/>\n",
       "<polyline clip-path=\"url(#clip160)\" style=\"stroke:#000000; stroke-linecap:butt; stroke-linejoin:round; stroke-width:4; stroke-opacity:1; fill:none\" points=\"\n",
       "  231.579,133.873 250.476,133.873 \n",
       "  \"/>\n",
       "<path clip-path=\"url(#clip160)\" d=\"M144.403 835.499 Q140.792 835.499 138.963 839.063 Q137.158 842.605 137.158 849.735 Q137.158 856.841 138.963 860.406 Q140.792 863.947 144.403 863.947 Q148.037 863.947 149.843 860.406 Q151.672 856.841 151.672 849.735 Q151.672 842.605 149.843 839.063 Q148.037 835.499 144.403 835.499 M144.403 831.795 Q150.213 831.795 153.269 836.401 Q156.347 840.985 156.347 849.735 Q156.347 858.461 153.269 863.068 Q150.213 867.651 144.403 867.651 Q138.593 867.651 135.514 863.068 Q132.459 858.461 132.459 849.735 Q132.459 840.985 135.514 836.401 Q138.593 831.795 144.403 831.795 Z\" fill=\"#000000\" fill-rule=\"evenodd\" fill-opacity=\"1\" /><path clip-path=\"url(#clip160)\" d=\"M164.565 861.1 L169.449 861.1 L169.449 866.98 L164.565 866.98 L164.565 861.1 Z\" fill=\"#000000\" fill-rule=\"evenodd\" fill-opacity=\"1\" /><path clip-path=\"url(#clip160)\" d=\"M189.634 835.499 Q186.023 835.499 184.195 839.063 Q182.389 842.605 182.389 849.735 Q182.389 856.841 184.195 860.406 Q186.023 863.947 189.634 863.947 Q193.269 863.947 195.074 860.406 Q196.903 856.841 196.903 849.735 Q196.903 842.605 195.074 839.063 Q193.269 835.499 189.634 835.499 M189.634 831.795 Q195.444 831.795 198.5 836.401 Q201.579 840.985 201.579 849.735 Q201.579 858.461 198.5 863.068 Q195.444 867.651 189.634 867.651 Q183.824 867.651 180.745 863.068 Q177.69 858.461 177.69 849.735 Q177.69 840.985 180.745 836.401 Q183.824 831.795 189.634 831.795 Z\" fill=\"#000000\" fill-rule=\"evenodd\" fill-opacity=\"1\" /><path clip-path=\"url(#clip160)\" d=\"M139.426 684.088 L155.746 684.088 L155.746 688.023 L133.801 688.023 L133.801 684.088 Q136.463 681.333 141.047 676.704 Q145.653 672.051 146.834 670.708 Q149.079 668.185 149.959 666.449 Q150.861 664.69 150.861 663 Q150.861 660.245 148.917 658.509 Q146.996 656.773 143.894 656.773 Q141.695 656.773 139.241 657.537 Q136.811 658.301 134.033 659.852 L134.033 655.13 Q136.857 653.995 139.311 653.417 Q141.764 652.838 143.801 652.838 Q149.172 652.838 152.366 655.523 Q155.56 658.208 155.56 662.699 Q155.56 664.829 154.75 666.75 Q153.963 668.648 151.857 671.241 Q151.278 671.912 148.176 675.13 Q145.074 678.324 139.426 684.088 Z\" fill=\"#000000\" fill-rule=\"evenodd\" fill-opacity=\"1\" /><path clip-path=\"url(#clip160)\" d=\"M165.56 682.143 L170.445 682.143 L170.445 688.023 L165.56 688.023 L165.56 682.143 Z\" fill=\"#000000\" fill-rule=\"evenodd\" fill-opacity=\"1\" /><path clip-path=\"url(#clip160)\" d=\"M180.676 653.463 L199.032 653.463 L199.032 657.398 L184.958 657.398 L184.958 665.87 Q185.977 665.523 186.995 665.361 Q188.014 665.176 189.032 665.176 Q194.819 665.176 198.199 668.347 Q201.579 671.518 201.579 676.935 Q201.579 682.514 198.107 685.616 Q194.634 688.694 188.315 688.694 Q186.139 688.694 183.87 688.324 Q181.625 687.954 179.218 687.213 L179.218 682.514 Q181.301 683.648 183.523 684.204 Q185.745 684.759 188.222 684.759 Q192.227 684.759 194.565 682.653 Q196.903 680.546 196.903 676.935 Q196.903 673.324 194.565 671.218 Q192.227 669.111 188.222 669.111 Q186.347 669.111 184.472 669.528 Q182.62 669.944 180.676 670.824 L180.676 653.463 Z\" fill=\"#000000\" fill-rule=\"evenodd\" fill-opacity=\"1\" /><path clip-path=\"url(#clip160)\" d=\"M134.449 474.506 L152.806 474.506 L152.806 478.441 L138.732 478.441 L138.732 486.914 Q139.75 486.566 140.769 486.404 Q141.787 486.219 142.806 486.219 Q148.593 486.219 151.972 489.39 Q155.352 492.562 155.352 497.978 Q155.352 503.557 151.88 506.659 Q148.408 509.737 142.088 509.737 Q139.912 509.737 137.644 509.367 Q135.399 508.997 132.991 508.256 L132.991 503.557 Q135.074 504.691 137.297 505.247 Q139.519 505.802 141.996 505.802 Q146 505.802 148.338 503.696 Q150.676 501.589 150.676 497.978 Q150.676 494.367 148.338 492.261 Q146 490.154 141.996 490.154 Q140.121 490.154 138.246 490.571 Q136.394 490.988 134.449 491.867 L134.449 474.506 Z\" fill=\"#000000\" fill-rule=\"evenodd\" fill-opacity=\"1\" /><path clip-path=\"url(#clip160)\" d=\"M164.565 503.187 L169.449 503.187 L169.449 509.066 L164.565 509.066 L164.565 503.187 Z\" fill=\"#000000\" fill-rule=\"evenodd\" fill-opacity=\"1\" /><path clip-path=\"url(#clip160)\" d=\"M189.634 477.585 Q186.023 477.585 184.195 481.15 Q182.389 484.691 182.389 491.821 Q182.389 498.927 184.195 502.492 Q186.023 506.034 189.634 506.034 Q193.269 506.034 195.074 502.492 Q196.903 498.927 196.903 491.821 Q196.903 484.691 195.074 481.15 Q193.269 477.585 189.634 477.585 M189.634 473.881 Q195.444 473.881 198.5 478.488 Q201.579 483.071 201.579 491.821 Q201.579 500.548 198.5 505.154 Q195.444 509.737 189.634 509.737 Q183.824 509.737 180.745 505.154 Q177.69 500.548 177.69 491.821 Q177.69 483.071 180.745 478.488 Q183.824 473.881 189.634 473.881 Z\" fill=\"#000000\" fill-rule=\"evenodd\" fill-opacity=\"1\" /><path clip-path=\"url(#clip160)\" d=\"M134.218 295.549 L156.44 295.549 L156.44 297.54 L143.894 330.109 L139.01 330.109 L150.815 299.485 L134.218 299.485 L134.218 295.549 Z\" fill=\"#000000\" fill-rule=\"evenodd\" fill-opacity=\"1\" /><path clip-path=\"url(#clip160)\" d=\"M165.56 324.23 L170.445 324.23 L170.445 330.109 L165.56 330.109 L165.56 324.23 Z\" fill=\"#000000\" fill-rule=\"evenodd\" fill-opacity=\"1\" /><path clip-path=\"url(#clip160)\" d=\"M180.676 295.549 L199.032 295.549 L199.032 299.485 L184.958 299.485 L184.958 307.957 Q185.977 307.609 186.995 307.447 Q188.014 307.262 189.032 307.262 Q194.819 307.262 198.199 310.434 Q201.579 313.605 201.579 319.021 Q201.579 324.6 198.107 327.702 Q194.634 330.781 188.315 330.781 Q186.139 330.781 183.87 330.41 Q181.625 330.04 179.218 329.299 L179.218 324.6 Q181.301 325.734 183.523 326.29 Q185.745 326.846 188.222 326.846 Q192.227 326.846 194.565 324.739 Q196.903 322.633 196.903 319.021 Q196.903 315.41 194.565 313.304 Q192.227 311.197 188.222 311.197 Q186.347 311.197 184.472 311.614 Q182.62 312.031 180.676 312.91 L180.676 295.549 Z\" fill=\"#000000\" fill-rule=\"evenodd\" fill-opacity=\"1\" /><path clip-path=\"url(#clip160)\" d=\"M105.051 147.217 L112.69 147.217 L112.69 120.852 L104.38 122.518 L104.38 118.259 L112.644 116.593 L117.32 116.593 L117.32 147.217 L124.959 147.217 L124.959 151.153 L105.051 151.153 L105.051 147.217 Z\" fill=\"#000000\" fill-rule=\"evenodd\" fill-opacity=\"1\" /><path clip-path=\"url(#clip160)\" d=\"M144.403 119.671 Q140.792 119.671 138.963 123.236 Q137.158 126.778 137.158 133.907 Q137.158 141.014 138.963 144.579 Q140.792 148.12 144.403 148.12 Q148.037 148.12 149.843 144.579 Q151.672 141.014 151.672 133.907 Q151.672 126.778 149.843 123.236 Q148.037 119.671 144.403 119.671 M144.403 115.968 Q150.213 115.968 153.269 120.574 Q156.347 125.157 156.347 133.907 Q156.347 142.634 153.269 147.241 Q150.213 151.824 144.403 151.824 Q138.593 151.824 135.514 147.241 Q132.459 142.634 132.459 133.907 Q132.459 125.157 135.514 120.574 Q138.593 115.968 144.403 115.968 Z\" fill=\"#000000\" fill-rule=\"evenodd\" fill-opacity=\"1\" /><path clip-path=\"url(#clip160)\" d=\"M164.565 145.273 L169.449 145.273 L169.449 151.153 L164.565 151.153 L164.565 145.273 Z\" fill=\"#000000\" fill-rule=\"evenodd\" fill-opacity=\"1\" /><path clip-path=\"url(#clip160)\" d=\"M189.634 119.671 Q186.023 119.671 184.195 123.236 Q182.389 126.778 182.389 133.907 Q182.389 141.014 184.195 144.579 Q186.023 148.12 189.634 148.12 Q193.269 148.12 195.074 144.579 Q196.903 141.014 196.903 133.907 Q196.903 126.778 195.074 123.236 Q193.269 119.671 189.634 119.671 M189.634 115.968 Q195.444 115.968 198.5 120.574 Q201.579 125.157 201.579 133.907 Q201.579 142.634 198.5 147.241 Q195.444 151.824 189.634 151.824 Q183.824 151.824 180.745 147.241 Q177.69 142.634 177.69 133.907 Q177.69 125.157 180.745 120.574 Q183.824 115.968 189.634 115.968 Z\" fill=\"#000000\" fill-rule=\"evenodd\" fill-opacity=\"1\" /><path clip-path=\"url(#clip160)\" d=\"M10.599 728.769 L10.599 722.912 L60.1242 722.912 L60.1242 728.769 L10.599 728.769 Z\" fill=\"#000000\" fill-rule=\"evenodd\" fill-opacity=\"1\" /><path clip-path=\"url(#clip160)\" d=\"M28.5821 696.845 Q28.5821 701.555 32.2742 704.292 Q35.9345 707.03 42.332 707.03 Q48.7295 707.03 52.4217 704.324 Q56.0819 701.587 56.0819 696.845 Q56.0819 692.166 52.3898 689.429 Q48.6977 686.691 42.332 686.691 Q35.9981 686.691 32.306 689.429 Q28.5821 692.166 28.5821 696.845 M23.6168 696.845 Q23.6168 689.206 28.5821 684.845 Q33.5473 680.485 42.332 680.485 Q51.0849 680.485 56.0819 684.845 Q61.0472 689.206 61.0472 696.845 Q61.0472 704.515 56.0819 708.876 Q51.0849 713.204 42.332 713.204 Q33.5473 713.204 28.5821 708.876 Q23.6168 704.515 23.6168 696.845 Z\" fill=\"#000000\" fill-rule=\"evenodd\" fill-opacity=\"1\" /><path clip-path=\"url(#clip160)\" d=\"M41.8864 647.319 Q35.5207 647.319 32.0196 649.961 Q28.5184 652.571 28.5184 657.314 Q28.5184 662.024 32.0196 664.666 Q35.5207 667.276 41.8864 667.276 Q48.2203 667.276 51.7214 664.666 Q55.2226 662.024 55.2226 657.314 Q55.2226 652.571 51.7214 649.961 Q48.2203 647.319 41.8864 647.319 M55.7 641.463 Q64.803 641.463 69.2271 645.505 Q73.6831 649.547 73.6831 657.886 Q73.6831 660.974 73.2057 663.711 Q72.7601 666.448 71.8052 669.026 L66.1079 669.026 Q67.5084 666.448 68.1768 663.934 Q68.8452 661.419 68.8452 658.809 Q68.8452 653.048 65.8215 650.184 Q62.8296 647.319 56.7503 647.319 L53.8539 647.319 Q57.005 649.134 58.5646 651.966 Q60.1242 654.799 60.1242 658.746 Q60.1242 665.302 55.1271 669.313 Q50.13 673.323 41.8864 673.323 Q33.611 673.323 28.6139 669.313 Q23.6168 665.302 23.6168 658.746 Q23.6168 654.799 25.1764 651.966 Q26.736 649.134 29.8871 647.319 L24.4762 647.319 L24.4762 641.463 L55.7 641.463 Z\" fill=\"#000000\" fill-rule=\"evenodd\" fill-opacity=\"1\" /><path clip-path=\"url(#clip160)\" d=\"M10.6626 615.332 Q17.9832 619.597 25.1446 621.666 Q32.306 623.734 39.6584 623.734 Q47.0108 623.734 54.2359 621.666 Q61.4291 619.565 68.7179 615.332 L68.7179 620.424 Q61.2382 625.199 54.0131 627.586 Q46.788 629.941 39.6584 629.941 Q32.5606 629.941 25.3674 627.586 Q18.1742 625.23 10.6626 620.424 L10.6626 615.332 Z\" fill=\"#000000\" fill-rule=\"evenodd\" fill-opacity=\"1\" /><path clip-path=\"url(#clip160)\" d=\"M31.4466 576.787 L31.4466 586.049 L42.0774 588.723 L42.0774 579.397 L31.4466 576.787 M13.3362 581.562 L26.5451 584.872 L26.5451 575.578 L13.3362 572.236 L13.3362 567.143 L26.5451 570.422 L26.5451 560.491 L31.4466 560.491 L31.4466 571.663 L42.0774 574.273 L42.0774 564.151 L46.9471 564.151 L46.9471 575.514 L60.1242 578.824 L60.1242 583.917 L46.9471 580.639 L46.9471 589.964 L60.1242 593.243 L60.1242 598.367 L46.9471 595.057 L46.9471 605.083 L42.0774 605.083 L42.0774 593.879 L31.4466 591.206 L31.4466 601.454 L26.5451 601.454 L26.5451 589.964 L13.3362 586.718 L13.3362 581.562 Z\" fill=\"#000000\" fill-rule=\"evenodd\" fill-opacity=\"1\" /><path clip-path=\"url(#clip160)\" d=\"M28.5821 514.817 Q28.5821 519.528 32.2742 522.265 Q35.9345 525.002 42.332 525.002 Q48.7295 525.002 52.4217 522.297 Q56.0819 519.56 56.0819 514.817 Q56.0819 510.138 52.3898 507.401 Q48.6977 504.664 42.332 504.664 Q35.9981 504.664 32.306 507.401 Q28.5821 510.138 28.5821 514.817 M23.6168 514.817 Q23.6168 507.178 28.5821 502.818 Q33.5473 498.457 42.332 498.457 Q51.0849 498.457 56.0819 502.818 Q61.0472 507.178 61.0472 514.817 Q61.0472 522.488 56.0819 526.848 Q51.0849 531.177 42.332 531.177 Q33.5473 531.177 28.5821 526.848 Q23.6168 522.488 23.6168 514.817 Z\" fill=\"#000000\" fill-rule=\"evenodd\" fill-opacity=\"1\" /><path clip-path=\"url(#clip160)\" d=\"M10.599 470.703 L15.4687 470.703 L15.4687 476.305 Q15.4687 479.456 16.7419 480.697 Q18.015 481.906 21.3252 481.906 L24.4762 481.906 L24.4762 472.262 L29.0277 472.262 L29.0277 481.906 L60.1242 481.906 L60.1242 487.795 L29.0277 487.795 L29.0277 493.397 L24.4762 493.397 L24.4762 487.795 L21.9936 487.795 Q16.0416 487.795 13.3362 485.026 Q10.599 482.257 10.599 476.241 L10.599 470.703 Z\" fill=\"#000000\" fill-rule=\"evenodd\" fill-opacity=\"1\" /><path clip-path=\"url(#clip160)\" d=\"M10.599 445.304 L10.599 439.415 L39.8494 439.415 L24.4762 421.942 L24.4762 414.462 L41.1544 433.368 L60.1242 413.666 L60.1242 421.305 L42.7139 439.415 L60.1242 439.415 L60.1242 445.304 L10.599 445.304 Z\" fill=\"#000000\" fill-rule=\"evenodd\" fill-opacity=\"1\" /><path clip-path=\"url(#clip160)\" d=\"M31.3193 379.578 Q27.3726 377.382 25.4947 374.326 Q23.6168 371.27 23.6168 367.133 Q23.6168 361.563 27.5317 358.539 Q31.4148 355.515 38.6081 355.515 L60.1242 355.515 L60.1242 361.404 L38.799 361.404 Q33.6746 361.404 31.192 363.218 Q28.7094 365.032 28.7094 368.756 Q28.7094 373.308 31.7331 375.949 Q34.7568 378.591 39.9767 378.591 L60.1242 378.591 L60.1242 384.479 L38.799 384.479 Q33.6428 384.479 31.192 386.294 Q28.7094 388.108 28.7094 391.895 Q28.7094 396.383 31.7649 399.025 Q34.7886 401.667 39.9767 401.667 L60.1242 401.667 L60.1242 407.555 L24.4762 407.555 L24.4762 401.667 L30.0144 401.667 Q26.736 399.662 25.1764 396.861 Q23.6168 394.06 23.6168 390.208 Q23.6168 386.325 25.5902 383.62 Q27.5636 380.883 31.3193 379.578 Z\" fill=\"#000000\" fill-rule=\"evenodd\" fill-opacity=\"1\" /><path clip-path=\"url(#clip160)\" d=\"M40.8361 313.343 L43.7006 313.343 L43.7006 340.269 Q49.7481 339.888 52.9309 336.641 Q56.0819 333.363 56.0819 327.538 Q56.0819 324.164 55.2544 321.013 Q54.4269 317.83 52.7718 314.711 L58.3099 314.711 Q59.6467 317.862 60.347 321.172 Q61.0472 324.483 61.0472 327.888 Q61.0472 336.418 56.0819 341.415 Q51.1167 346.381 42.6503 346.381 Q33.8974 346.381 28.7731 341.67 Q23.6168 336.927 23.6168 328.907 Q23.6168 321.713 28.2638 317.544 Q32.8789 313.343 40.8361 313.343 M39.1173 319.199 Q34.3112 319.263 31.4466 321.904 Q28.5821 324.514 28.5821 328.843 Q28.5821 333.745 31.3512 336.705 Q34.1202 339.633 39.1492 340.079 L39.1173 319.199 Z\" fill=\"#000000\" fill-rule=\"evenodd\" fill-opacity=\"1\" /><path clip-path=\"url(#clip160)\" d=\"M29.9507 283.074 Q29.3778 284.06 29.1232 285.238 Q28.8367 286.384 28.8367 287.784 Q28.8367 292.749 32.0832 295.423 Q35.2979 298.065 41.3453 298.065 L60.1242 298.065 L60.1242 303.953 L24.4762 303.953 L24.4762 298.065 L30.0144 298.065 Q26.7679 296.219 25.2083 293.259 Q23.6168 290.299 23.6168 286.066 Q23.6168 285.461 23.7123 284.729 Q23.776 283.997 23.9351 283.105 L29.9507 283.074 Z\" fill=\"#000000\" fill-rule=\"evenodd\" fill-opacity=\"1\" /><path clip-path=\"url(#clip160)\" d=\"M25.5265 254.205 L31.0647 254.205 Q29.7916 256.688 29.155 259.361 Q28.5184 262.035 28.5184 264.9 Q28.5184 269.26 29.8552 271.456 Q31.192 273.621 33.8656 273.621 Q35.9026 273.621 37.0803 272.061 Q38.2261 270.501 39.2765 265.791 L39.7221 263.786 Q41.0589 257.547 43.5097 254.937 Q45.9286 252.295 50.2891 252.295 Q55.2544 252.295 58.1508 256.242 Q61.0472 260.157 61.0472 267.032 Q61.0472 269.897 60.4743 273.016 Q59.9332 276.103 58.8192 279.541 L52.7718 279.541 Q54.4587 276.294 55.318 273.143 Q56.1456 269.992 56.1456 266.905 Q56.1456 262.767 54.7451 260.539 Q53.3129 258.311 50.7347 258.311 Q48.3476 258.311 47.0745 259.934 Q45.8013 261.526 44.6237 266.968 L44.1462 269.005 Q43.0004 274.448 40.6451 276.867 Q38.258 279.286 34.1202 279.286 Q29.0913 279.286 26.3541 275.721 Q23.6168 272.156 23.6168 265.6 Q23.6168 262.353 24.0943 259.489 Q24.5717 256.624 25.5265 254.205 Z\" fill=\"#000000\" fill-rule=\"evenodd\" fill-opacity=\"1\" /><path clip-path=\"url(#clip160)\" d=\"M10.6626 243.893 L10.6626 238.8 Q18.1742 234.026 25.3674 231.671 Q32.5606 229.283 39.6584 229.283 Q46.788 229.283 54.0131 231.671 Q61.2382 234.026 68.7179 238.8 L68.7179 243.893 Q61.4291 239.66 54.2359 237.591 Q47.0108 235.49 39.6584 235.49 Q32.306 235.49 25.1446 237.591 Q17.9832 239.66 10.6626 243.893 Z\" fill=\"#000000\" fill-rule=\"evenodd\" fill-opacity=\"1\" /><path clip-path=\"url(#clip160)\" d=\"M735.607 9.54393 L743.101 9.54393 L743.101 46.7717 L765.34 27.2059 L774.86 27.2059 L750.798 48.4326 L775.873 72.576 L766.151 72.576 L743.101 50.4176 L743.101 72.576 L735.607 72.576 L735.607 9.54393 Z\" fill=\"#000000\" fill-rule=\"evenodd\" fill-opacity=\"1\" /><path clip-path=\"url(#clip160)\" d=\"M819.258 35.9153 Q822.053 30.8922 825.942 28.5022 Q829.831 26.1121 835.097 26.1121 Q842.186 26.1121 846.034 31.0947 Q849.883 36.0368 849.883 45.1919 L849.883 72.576 L842.389 72.576 L842.389 45.4349 Q842.389 38.913 840.08 35.7533 Q837.771 32.5936 833.031 32.5936 Q827.238 32.5936 823.876 36.4419 Q820.514 40.2903 820.514 46.9338 L820.514 72.576 L813.019 72.576 L813.019 45.4349 Q813.019 38.8725 810.71 35.7533 Q808.401 32.5936 803.581 32.5936 Q797.869 32.5936 794.507 36.4824 Q791.145 40.3308 791.145 46.9338 L791.145 72.576 L783.65 72.576 L783.65 27.2059 L791.145 27.2059 L791.145 34.2544 Q793.697 30.082 797.261 28.0971 Q800.826 26.1121 805.728 26.1121 Q810.67 26.1121 814.113 28.6237 Q817.597 31.1352 819.258 35.9153 Z\" fill=\"#000000\" fill-rule=\"evenodd\" fill-opacity=\"1\" /><path clip-path=\"url(#clip160)\" d=\"M903.557 48.0275 L903.557 51.6733 L869.287 51.6733 Q869.773 59.3701 873.905 63.421 Q878.077 67.4314 885.49 67.4314 Q889.784 67.4314 893.795 66.3781 Q897.845 65.3249 901.815 63.2184 L901.815 70.267 Q897.805 71.9684 893.592 72.8596 Q889.379 73.7508 885.045 73.7508 Q874.188 73.7508 867.828 67.4314 Q861.509 61.1119 861.509 50.3365 Q861.509 39.1965 867.504 32.6746 Q873.54 26.1121 883.748 26.1121 Q892.903 26.1121 898.21 32.0264 Q903.557 37.9003 903.557 48.0275 M896.104 45.84 Q896.023 39.7232 892.66 36.0774 Q889.339 32.4315 883.829 32.4315 Q877.591 32.4315 873.824 35.9558 Q870.097 39.4801 869.53 45.8805 L896.104 45.84 Z\" fill=\"#000000\" fill-rule=\"evenodd\" fill-opacity=\"1\" /><path clip-path=\"url(#clip160)\" d=\"M942.081 34.1734 Q940.826 33.4443 939.327 33.1202 Q937.868 32.7556 936.086 32.7556 Q929.767 32.7556 926.364 36.8875 Q923.002 40.9789 923.002 48.6757 L923.002 72.576 L915.507 72.576 L915.507 27.2059 L923.002 27.2059 L923.002 34.2544 Q925.351 30.1225 929.118 28.1376 Q932.886 26.1121 938.273 26.1121 Q939.043 26.1121 939.975 26.2337 Q940.907 26.3147 942.041 26.5172 L942.081 34.1734 Z\" fill=\"#000000\" fill-rule=\"evenodd\" fill-opacity=\"1\" /><path clip-path=\"url(#clip160)\" d=\"M999.24 9.54393 L999.24 15.7418 L992.11 15.7418 Q988.1 15.7418 986.52 17.3622 Q984.98 18.9825 984.98 23.1955 L984.98 27.2059 L997.255 27.2059 L997.255 32.9987 L984.98 32.9987 L984.98 72.576 L977.486 72.576 L977.486 32.9987 L970.357 32.9987 L970.357 27.2059 L977.486 27.2059 L977.486 24.0462 Q977.486 16.471 981.01 13.0277 Q984.535 9.54393 992.191 9.54393 L999.24 9.54393 Z\" fill=\"#000000\" fill-rule=\"evenodd\" fill-opacity=\"1\" /><path clip-path=\"url(#clip160)\" d=\"M1031.77 34.1734 Q1030.51 33.4443 1029.01 33.1202 Q1027.56 32.7556 1025.77 32.7556 Q1019.45 32.7556 1016.05 36.8875 Q1012.69 40.9789 1012.69 48.6757 L1012.69 72.576 L1005.19 72.576 L1005.19 27.2059 L1012.69 27.2059 L1012.69 34.2544 Q1015.04 30.1225 1018.81 28.1376 Q1022.57 26.1121 1027.96 26.1121 Q1028.73 26.1121 1029.66 26.2337 Q1030.59 26.3147 1031.73 26.5172 L1031.77 34.1734 Z\" fill=\"#000000\" fill-rule=\"evenodd\" fill-opacity=\"1\" /><path clip-path=\"url(#clip160)\" d=\"M1076.57 48.0275 L1076.57 51.6733 L1042.3 51.6733 Q1042.79 59.3701 1046.92 63.421 Q1051.09 67.4314 1058.5 67.4314 Q1062.8 67.4314 1066.81 66.3781 Q1070.86 65.3249 1074.83 63.2184 L1074.83 70.267 Q1070.82 71.9684 1066.61 72.8596 Q1062.39 73.7508 1058.06 73.7508 Q1047.2 73.7508 1040.84 67.4314 Q1034.52 61.1119 1034.52 50.3365 Q1034.52 39.1965 1040.52 32.6746 Q1046.55 26.1121 1056.76 26.1121 Q1065.92 26.1121 1071.22 32.0264 Q1076.57 37.9003 1076.57 48.0275 M1069.12 45.84 Q1069.04 39.7232 1065.67 36.0774 Q1062.35 32.4315 1056.84 32.4315 Q1050.61 32.4315 1046.84 35.9558 Q1043.11 39.4801 1042.54 45.8805 L1069.12 45.84 Z\" fill=\"#000000\" fill-rule=\"evenodd\" fill-opacity=\"1\" /><path clip-path=\"url(#clip160)\" d=\"M1093.26 49.9314 Q1093.26 58.1548 1096.62 62.8538 Q1100.03 67.5124 1105.94 67.5124 Q1111.85 67.5124 1115.26 62.8538 Q1118.66 58.1548 1118.66 49.9314 Q1118.66 41.7081 1115.26 37.0496 Q1111.85 32.3505 1105.94 32.3505 Q1100.03 32.3505 1096.62 37.0496 Q1093.26 41.7081 1093.26 49.9314 M1118.66 65.7705 Q1116.31 69.8214 1112.71 71.8063 Q1109.14 73.7508 1104.12 73.7508 Q1095.89 73.7508 1090.71 67.1883 Q1085.56 60.6258 1085.56 49.9314 Q1085.56 39.2371 1090.71 32.6746 Q1095.89 26.1121 1104.12 26.1121 Q1109.14 26.1121 1112.71 28.0971 Q1116.31 30.0415 1118.66 34.0924 L1118.66 27.2059 L1126.11 27.2059 L1126.11 89.8329 L1118.66 89.8329 L1118.66 65.7705 Z\" fill=\"#000000\" fill-rule=\"evenodd\" fill-opacity=\"1\" /><path clip-path=\"url(#clip160)\" d=\"M1140.7 54.671 L1140.7 27.2059 L1148.15 27.2059 L1148.15 54.3874 Q1148.15 60.8284 1150.66 64.0691 Q1153.17 67.2693 1158.2 67.2693 Q1164.23 67.2693 1167.72 63.421 Q1171.24 59.5726 1171.24 52.9291 L1171.24 27.2059 L1178.69 27.2059 L1178.69 72.576 L1171.24 72.576 L1171.24 65.6084 Q1168.53 69.7404 1164.92 71.7658 Q1161.36 73.7508 1156.62 73.7508 Q1148.8 73.7508 1144.75 68.8897 Q1140.7 64.0286 1140.7 54.671 M1159.45 26.1121 L1159.45 26.1121 Z\" fill=\"#000000\" fill-rule=\"evenodd\" fill-opacity=\"1\" /><path clip-path=\"url(#clip160)\" d=\"M1232.86 48.0275 L1232.86 51.6733 L1198.58 51.6733 Q1199.07 59.3701 1203.2 63.421 Q1207.38 67.4314 1214.79 67.4314 Q1219.08 67.4314 1223.09 66.3781 Q1227.14 65.3249 1231.11 63.2184 L1231.11 70.267 Q1227.1 71.9684 1222.89 72.8596 Q1218.68 73.7508 1214.34 73.7508 Q1203.49 73.7508 1197.13 67.4314 Q1190.81 61.1119 1190.81 50.3365 Q1190.81 39.1965 1196.8 32.6746 Q1202.84 26.1121 1213.05 26.1121 Q1222.2 26.1121 1227.51 32.0264 Q1232.86 37.9003 1232.86 48.0275 M1225.4 45.84 Q1225.32 39.7232 1221.96 36.0774 Q1218.64 32.4315 1213.13 32.4315 Q1206.89 32.4315 1203.12 35.9558 Q1199.39 39.4801 1198.83 45.8805 L1225.4 45.84 Z\" fill=\"#000000\" fill-rule=\"evenodd\" fill-opacity=\"1\" /><path clip-path=\"url(#clip160)\" d=\"M1282.8 45.1919 L1282.8 72.576 L1275.35 72.576 L1275.35 45.4349 Q1275.35 38.994 1272.84 35.7938 Q1270.33 32.5936 1265.3 32.5936 Q1259.27 32.5936 1255.78 36.4419 Q1252.3 40.2903 1252.3 46.9338 L1252.3 72.576 L1244.81 72.576 L1244.81 27.2059 L1252.3 27.2059 L1252.3 34.2544 Q1254.97 30.163 1258.58 28.1376 Q1262.22 26.1121 1266.96 26.1121 Q1274.78 26.1121 1278.79 30.9732 Q1282.8 35.7938 1282.8 45.1919 Z\" fill=\"#000000\" fill-rule=\"evenodd\" fill-opacity=\"1\" /><path clip-path=\"url(#clip160)\" d=\"M1330.32 28.9478 L1330.32 35.9153 Q1327.16 34.1734 1323.96 33.3227 Q1320.8 32.4315 1317.56 32.4315 Q1310.31 32.4315 1306.3 37.0496 Q1302.29 41.6271 1302.29 49.9314 Q1302.29 58.2358 1306.3 62.8538 Q1310.31 67.4314 1317.56 67.4314 Q1320.8 67.4314 1323.96 66.5807 Q1327.16 65.6895 1330.32 63.9476 L1330.32 70.8341 Q1327.2 72.2924 1323.84 73.0216 Q1320.52 73.7508 1316.75 73.7508 Q1306.5 73.7508 1300.46 67.3098 Q1294.43 60.8689 1294.43 49.9314 Q1294.43 38.832 1300.51 32.472 Q1306.62 26.1121 1317.24 26.1121 Q1320.68 26.1121 1323.96 26.8413 Q1327.24 27.5299 1330.32 28.9478 Z\" fill=\"#000000\" fill-rule=\"evenodd\" fill-opacity=\"1\" /><path clip-path=\"url(#clip160)\" d=\"M1343.28 27.2059 L1350.74 27.2059 L1350.74 72.576 L1343.28 72.576 L1343.28 27.2059 M1343.28 9.54393 L1350.74 9.54393 L1350.74 18.9825 L1343.28 18.9825 L1343.28 9.54393 Z\" fill=\"#000000\" fill-rule=\"evenodd\" fill-opacity=\"1\" /><path clip-path=\"url(#clip160)\" d=\"M1405.14 48.0275 L1405.14 51.6733 L1370.87 51.6733 Q1371.36 59.3701 1375.49 63.421 Q1379.66 67.4314 1387.07 67.4314 Q1391.37 67.4314 1395.38 66.3781 Q1399.43 65.3249 1403.4 63.2184 L1403.4 70.267 Q1399.39 71.9684 1395.17 72.8596 Q1390.96 73.7508 1386.63 73.7508 Q1375.77 73.7508 1369.41 67.4314 Q1363.09 61.1119 1363.09 50.3365 Q1363.09 39.1965 1369.09 32.6746 Q1375.12 26.1121 1385.33 26.1121 Q1394.49 26.1121 1399.79 32.0264 Q1405.14 37.9003 1405.14 48.0275 M1397.69 45.84 Q1397.61 39.7232 1394.24 36.0774 Q1390.92 32.4315 1385.41 32.4315 Q1379.17 32.4315 1375.41 35.9558 Q1371.68 39.4801 1371.11 45.8805 L1397.69 45.84 Z\" fill=\"#000000\" fill-rule=\"evenodd\" fill-opacity=\"1\" /><path clip-path=\"url(#clip160)\" d=\"M1446.3 28.5427 L1446.3 35.5912 Q1443.14 33.9709 1439.73 33.1607 Q1436.33 32.3505 1432.69 32.3505 Q1427.14 32.3505 1424.34 34.0519 Q1421.59 35.7533 1421.59 39.156 Q1421.59 41.7486 1423.57 43.2475 Q1425.56 44.7058 1431.55 46.0426 L1434.1 46.6097 Q1442.04 48.3111 1445.37 51.4303 Q1448.73 54.509 1448.73 60.0587 Q1448.73 66.3781 1443.7 70.0644 Q1438.72 73.7508 1429.97 73.7508 Q1426.33 73.7508 1422.36 73.0216 Q1418.43 72.3329 1414.05 70.9151 L1414.05 63.2184 Q1418.18 65.3654 1422.19 66.4591 Q1426.2 67.5124 1430.13 67.5124 Q1435.4 67.5124 1438.24 65.73 Q1441.07 63.9071 1441.07 60.6258 Q1441.07 57.5877 1439.01 55.9673 Q1436.98 54.3469 1430.05 52.8481 L1427.46 52.2405 Q1420.53 50.7821 1417.45 47.7845 Q1414.38 44.7463 1414.38 39.4801 Q1414.38 33.0797 1418.91 29.5959 Q1423.45 26.1121 1431.8 26.1121 Q1435.93 26.1121 1439.57 26.7198 Q1443.22 27.3274 1446.3 28.5427 Z\" fill=\"#000000\" fill-rule=\"evenodd\" fill-opacity=\"1\" /><circle clip-path=\"url(#clip162)\" cx=\"1584.32\" cy=\"638.929\" r=\"14\" fill=\"#009af9\" fill-rule=\"evenodd\" fill-opacity=\"1\" stroke=\"#000000\" stroke-opacity=\"1\" stroke-width=\"2\"/>\n",
       "<circle clip-path=\"url(#clip162)\" cx=\"731.305\" cy=\"671.823\" r=\"14\" fill=\"#009af9\" fill-rule=\"evenodd\" fill-opacity=\"1\" stroke=\"#000000\" stroke-opacity=\"1\" stroke-width=\"2\"/>\n",
       "<circle clip-path=\"url(#clip162)\" cx=\"1588.28\" cy=\"638.929\" r=\"14\" fill=\"#009af9\" fill-rule=\"evenodd\" fill-opacity=\"1\" stroke=\"#000000\" stroke-opacity=\"1\" stroke-width=\"2\"/>\n",
       "<circle clip-path=\"url(#clip162)\" cx=\"1596.04\" cy=\"580.463\" r=\"14\" fill=\"#009af9\" fill-rule=\"evenodd\" fill-opacity=\"1\" stroke=\"#000000\" stroke-opacity=\"1\" stroke-width=\"2\"/>\n",
       "<circle clip-path=\"url(#clip162)\" cx=\"1572.15\" cy=\"800.082\" r=\"14\" fill=\"#009af9\" fill-rule=\"evenodd\" fill-opacity=\"1\" stroke=\"#000000\" stroke-opacity=\"1\" stroke-width=\"2\"/>\n",
       "<circle clip-path=\"url(#clip162)\" cx=\"231.579\" cy=\"179.935\" r=\"14\" fill=\"#009af9\" fill-rule=\"evenodd\" fill-opacity=\"1\" stroke=\"#000000\" stroke-opacity=\"1\" stroke-width=\"2\"/>\n",
       "<circle clip-path=\"url(#clip162)\" cx=\"1603.62\" cy=\"544.566\" r=\"14\" fill=\"#009af9\" fill-rule=\"evenodd\" fill-opacity=\"1\" stroke=\"#000000\" stroke-opacity=\"1\" stroke-width=\"2\"/>\n",
       "<circle clip-path=\"url(#clip162)\" cx=\"1635.58\" cy=\"616.476\" r=\"14\" fill=\"#009af9\" fill-rule=\"evenodd\" fill-opacity=\"1\" stroke=\"#000000\" stroke-opacity=\"1\" stroke-width=\"2\"/>\n",
       "<circle clip-path=\"url(#clip162)\" cx=\"1611.01\" cy=\"523.721\" r=\"14\" fill=\"#009af9\" fill-rule=\"evenodd\" fill-opacity=\"1\" stroke=\"#000000\" stroke-opacity=\"1\" stroke-width=\"2\"/>\n",
       "<circle clip-path=\"url(#clip162)\" cx=\"1599.85\" cy=\"577.209\" r=\"14\" fill=\"#009af9\" fill-rule=\"evenodd\" fill-opacity=\"1\" stroke=\"#000000\" stroke-opacity=\"1\" stroke-width=\"2\"/>\n",
       "<circle clip-path=\"url(#clip162)\" cx=\"1625.29\" cy=\"525.244\" r=\"14\" fill=\"#009af9\" fill-rule=\"evenodd\" fill-opacity=\"1\" stroke=\"#000000\" stroke-opacity=\"1\" stroke-width=\"2\"/>\n",
       "<circle clip-path=\"url(#clip162)\" cx=\"1592.19\" cy=\"608.66\" r=\"14\" fill=\"#009af9\" fill-rule=\"evenodd\" fill-opacity=\"1\" stroke=\"#000000\" stroke-opacity=\"1\" stroke-width=\"2\"/>\n",
       "<circle clip-path=\"url(#clip162)\" cx=\"572.695\" cy=\"508.201\" r=\"14\" fill=\"#009af9\" fill-rule=\"evenodd\" fill-opacity=\"1\" stroke=\"#000000\" stroke-opacity=\"1\" stroke-width=\"2\"/>\n",
       "<circle clip-path=\"url(#clip162)\" cx=\"1607.33\" cy=\"526.018\" r=\"14\" fill=\"#009af9\" fill-rule=\"evenodd\" fill-opacity=\"1\" stroke=\"#000000\" stroke-opacity=\"1\" stroke-width=\"2\"/>\n",
       "<circle clip-path=\"url(#clip162)\" cx=\"1580.32\" cy=\"651.23\" r=\"14\" fill=\"#009af9\" fill-rule=\"evenodd\" fill-opacity=\"1\" stroke=\"#000000\" stroke-opacity=\"1\" stroke-width=\"2\"/>\n",
       "<circle clip-path=\"url(#clip162)\" cx=\"1642.26\" cy=\"750.465\" r=\"14\" fill=\"#009af9\" fill-rule=\"evenodd\" fill-opacity=\"1\" stroke=\"#000000\" stroke-opacity=\"1\" stroke-width=\"2\"/>\n",
       "<circle clip-path=\"url(#clip162)\" cx=\"1628.76\" cy=\"548.716\" r=\"14\" fill=\"#009af9\" fill-rule=\"evenodd\" fill-opacity=\"1\" stroke=\"#000000\" stroke-opacity=\"1\" stroke-width=\"2\"/>\n",
       "<circle clip-path=\"url(#clip162)\" cx=\"1576.26\" cy=\"734.492\" r=\"14\" fill=\"#009af9\" fill-rule=\"evenodd\" fill-opacity=\"1\" stroke=\"#000000\" stroke-opacity=\"1\" stroke-width=\"2\"/>\n",
       "<circle clip-path=\"url(#clip162)\" cx=\"1638.94\" cy=\"671.823\" r=\"14\" fill=\"#009af9\" fill-rule=\"evenodd\" fill-opacity=\"1\" stroke=\"#000000\" stroke-opacity=\"1\" stroke-width=\"2\"/>\n",
       "<circle clip-path=\"url(#clip162)\" cx=\"662.019\" cy=\"800.082\" r=\"14\" fill=\"#009af9\" fill-rule=\"evenodd\" fill-opacity=\"1\" stroke=\"#000000\" stroke-opacity=\"1\" stroke-width=\"2\"/>\n",
       "<circle clip-path=\"url(#clip162)\" cx=\"1614.64\" cy=\"518.632\" r=\"14\" fill=\"#009af9\" fill-rule=\"evenodd\" fill-opacity=\"1\" stroke=\"#000000\" stroke-opacity=\"1\" stroke-width=\"2\"/>\n",
       "<circle clip-path=\"url(#clip162)\" cx=\"446.799\" cy=\"353.877\" r=\"14\" fill=\"#009af9\" fill-rule=\"evenodd\" fill-opacity=\"1\" stroke=\"#000000\" stroke-opacity=\"1\" stroke-width=\"2\"/>\n",
       "<circle clip-path=\"url(#clip162)\" cx=\"1621.78\" cy=\"535.133\" r=\"14\" fill=\"#009af9\" fill-rule=\"evenodd\" fill-opacity=\"1\" stroke=\"#000000\" stroke-opacity=\"1\" stroke-width=\"2\"/>\n",
       "<circle clip-path=\"url(#clip162)\" cx=\"1632.19\" cy=\"572.589\" r=\"14\" fill=\"#009af9\" fill-rule=\"evenodd\" fill-opacity=\"1\" stroke=\"#000000\" stroke-opacity=\"1\" stroke-width=\"2\"/>\n",
       "<circle clip-path=\"url(#clip162)\" cx=\"1618.23\" cy=\"510.045\" r=\"14\" fill=\"#009af9\" fill-rule=\"evenodd\" fill-opacity=\"1\" stroke=\"#000000\" stroke-opacity=\"1\" stroke-width=\"2\"/>\n",
       "</svg>\n"
      ]
     },
     "execution_count": 34,
     "metadata": {},
     "output_type": "execute_result"
    }
   ],
   "source": [
    "scale = 250\n",
    "Mycelia.plot_kmer_frequency_spectra(values(kmer_counts), size=(2scale,scale), title=\"kmer frequencies\")"
   ]
  },
  {
   "cell_type": "code",
   "execution_count": 33,
   "id": "b65107b0-b733-48ac-845b-b2f9e7d3ca8f",
   "metadata": {},
   "outputs": [
    {
     "data": {
      "image/svg+xml": [
       "<?xml version=\"1.0\" encoding=\"utf-8\"?>\n",
       "<svg xmlns=\"http://www.w3.org/2000/svg\" xmlns:xlink=\"http://www.w3.org/1999/xlink\" width=\"600\" height=\"400\" viewBox=\"0 0 2400 1600\">\n",
       "<defs>\n",
       "  <clipPath id=\"clip120\">\n",
       "    <rect x=\"0\" y=\"0\" width=\"2400\" height=\"1600\"/>\n",
       "  </clipPath>\n",
       "</defs>\n",
       "<path clip-path=\"url(#clip120)\" d=\"\n",
       "M0 1600 L2400 1600 L2400 0 L0 0  Z\n",
       "  \" fill=\"#ffffff\" fill-rule=\"evenodd\" fill-opacity=\"1\"/>\n",
       "<defs>\n",
       "  <clipPath id=\"clip121\">\n",
       "    <rect x=\"480\" y=\"0\" width=\"1681\" height=\"1600\"/>\n",
       "  </clipPath>\n",
       "</defs>\n",
       "<path clip-path=\"url(#clip120)\" d=\"\n",
       "M141.853 1486.45 L2352.76 1486.45 L2352.76 47.2441 L141.853 47.2441  Z\n",
       "  \" fill=\"#ffffff\" fill-rule=\"evenodd\" fill-opacity=\"1\"/>\n",
       "<defs>\n",
       "  <clipPath id=\"clip122\">\n",
       "    <rect x=\"141\" y=\"47\" width=\"2212\" height=\"1440\"/>\n",
       "  </clipPath>\n",
       "</defs>\n",
       "<polyline clip-path=\"url(#clip122)\" style=\"stroke:#000000; stroke-linecap:butt; stroke-linejoin:round; stroke-width:2; stroke-opacity:0.1; fill:none\" points=\"\n",
       "  552.052,1486.45 552.052,47.2441 \n",
       "  \"/>\n",
       "<polyline clip-path=\"url(#clip122)\" style=\"stroke:#000000; stroke-linecap:butt; stroke-linejoin:round; stroke-width:2; stroke-opacity:0.1; fill:none\" points=\"\n",
       "  986.585,1486.45 986.585,47.2441 \n",
       "  \"/>\n",
       "<polyline clip-path=\"url(#clip122)\" style=\"stroke:#000000; stroke-linecap:butt; stroke-linejoin:round; stroke-width:2; stroke-opacity:0.1; fill:none\" points=\"\n",
       "  1421.12,1486.45 1421.12,47.2441 \n",
       "  \"/>\n",
       "<polyline clip-path=\"url(#clip122)\" style=\"stroke:#000000; stroke-linecap:butt; stroke-linejoin:round; stroke-width:2; stroke-opacity:0.1; fill:none\" points=\"\n",
       "  1855.65,1486.45 1855.65,47.2441 \n",
       "  \"/>\n",
       "<polyline clip-path=\"url(#clip122)\" style=\"stroke:#000000; stroke-linecap:butt; stroke-linejoin:round; stroke-width:2; stroke-opacity:0.1; fill:none\" points=\"\n",
       "  2290.18,1486.45 2290.18,47.2441 \n",
       "  \"/>\n",
       "<polyline clip-path=\"url(#clip120)\" style=\"stroke:#000000; stroke-linecap:butt; stroke-linejoin:round; stroke-width:4; stroke-opacity:1; fill:none\" points=\"\n",
       "  141.853,1486.45 2352.76,1486.45 \n",
       "  \"/>\n",
       "<polyline clip-path=\"url(#clip120)\" style=\"stroke:#000000; stroke-linecap:butt; stroke-linejoin:round; stroke-width:4; stroke-opacity:1; fill:none\" points=\"\n",
       "  552.052,1486.45 552.052,1467.55 \n",
       "  \"/>\n",
       "<polyline clip-path=\"url(#clip120)\" style=\"stroke:#000000; stroke-linecap:butt; stroke-linejoin:round; stroke-width:4; stroke-opacity:1; fill:none\" points=\"\n",
       "  986.585,1486.45 986.585,1467.55 \n",
       "  \"/>\n",
       "<polyline clip-path=\"url(#clip120)\" style=\"stroke:#000000; stroke-linecap:butt; stroke-linejoin:round; stroke-width:4; stroke-opacity:1; fill:none\" points=\"\n",
       "  1421.12,1486.45 1421.12,1467.55 \n",
       "  \"/>\n",
       "<polyline clip-path=\"url(#clip120)\" style=\"stroke:#000000; stroke-linecap:butt; stroke-linejoin:round; stroke-width:4; stroke-opacity:1; fill:none\" points=\"\n",
       "  1855.65,1486.45 1855.65,1467.55 \n",
       "  \"/>\n",
       "<polyline clip-path=\"url(#clip120)\" style=\"stroke:#000000; stroke-linecap:butt; stroke-linejoin:round; stroke-width:4; stroke-opacity:1; fill:none\" points=\"\n",
       "  2290.18,1486.45 2290.18,1467.55 \n",
       "  \"/>\n",
       "<path clip-path=\"url(#clip120)\" d=\"M542.33 1512.56 L560.686 1512.56 L560.686 1516.5 L546.612 1516.5 L546.612 1524.97 Q547.631 1524.62 548.649 1524.46 Q549.668 1524.27 550.686 1524.27 Q556.473 1524.27 559.853 1527.44 Q563.232 1530.62 563.232 1536.03 Q563.232 1541.61 559.76 1544.71 Q556.288 1547.79 549.969 1547.79 Q547.793 1547.79 545.524 1547.42 Q543.279 1547.05 540.871 1546.31 L540.871 1541.61 Q542.955 1542.74 545.177 1543.3 Q547.399 1543.86 549.876 1543.86 Q553.881 1543.86 556.219 1541.75 Q558.557 1539.64 558.557 1536.03 Q558.557 1532.42 556.219 1530.31 Q553.881 1528.21 549.876 1528.21 Q548.001 1528.21 546.126 1528.62 Q544.274 1529.04 542.33 1529.92 L542.33 1512.56 Z\" fill=\"#000000\" fill-rule=\"evenodd\" fill-opacity=\"1\" /><path clip-path=\"url(#clip120)\" d=\"M961.272 1543.18 L968.911 1543.18 L968.911 1516.82 L960.601 1518.49 L960.601 1514.23 L968.865 1512.56 L973.541 1512.56 L973.541 1543.18 L981.18 1543.18 L981.18 1547.12 L961.272 1547.12 L961.272 1543.18 Z\" fill=\"#000000\" fill-rule=\"evenodd\" fill-opacity=\"1\" /><path clip-path=\"url(#clip120)\" d=\"M1000.62 1515.64 Q997.013 1515.64 995.184 1519.2 Q993.379 1522.75 993.379 1529.87 Q993.379 1536.98 995.184 1540.55 Q997.013 1544.09 1000.62 1544.09 Q1004.26 1544.09 1006.06 1540.55 Q1007.89 1536.98 1007.89 1529.87 Q1007.89 1522.75 1006.06 1519.2 Q1004.26 1515.64 1000.62 1515.64 M1000.62 1511.93 Q1006.43 1511.93 1009.49 1516.54 Q1012.57 1521.12 1012.57 1529.87 Q1012.57 1538.6 1009.49 1543.21 Q1006.43 1547.79 1000.62 1547.79 Q994.814 1547.79 991.735 1543.21 Q988.68 1538.6 988.68 1529.87 Q988.68 1521.12 991.735 1516.54 Q994.814 1511.93 1000.62 1511.93 Z\" fill=\"#000000\" fill-rule=\"evenodd\" fill-opacity=\"1\" /><path clip-path=\"url(#clip120)\" d=\"M1396.3 1543.18 L1403.94 1543.18 L1403.94 1516.82 L1395.63 1518.49 L1395.63 1514.23 L1403.9 1512.56 L1408.57 1512.56 L1408.57 1543.18 L1416.21 1543.18 L1416.21 1547.12 L1396.3 1547.12 L1396.3 1543.18 Z\" fill=\"#000000\" fill-rule=\"evenodd\" fill-opacity=\"1\" /><path clip-path=\"url(#clip120)\" d=\"M1425.7 1512.56 L1444.06 1512.56 L1444.06 1516.5 L1429.98 1516.5 L1429.98 1524.97 Q1431 1524.62 1432.02 1524.46 Q1433.04 1524.27 1434.06 1524.27 Q1439.84 1524.27 1443.22 1527.44 Q1446.6 1530.62 1446.6 1536.03 Q1446.6 1541.61 1443.13 1544.71 Q1439.66 1547.79 1433.34 1547.79 Q1431.16 1547.79 1428.9 1547.42 Q1426.65 1547.05 1424.24 1546.31 L1424.24 1541.61 Q1426.33 1542.74 1428.55 1543.3 Q1430.77 1543.86 1433.25 1543.86 Q1437.25 1543.86 1439.59 1541.75 Q1441.93 1539.64 1441.93 1536.03 Q1441.93 1532.42 1439.59 1530.31 Q1437.25 1528.21 1433.25 1528.21 Q1431.37 1528.21 1429.5 1528.62 Q1427.65 1529.04 1425.7 1529.92 L1425.7 1512.56 Z\" fill=\"#000000\" fill-rule=\"evenodd\" fill-opacity=\"1\" /><path clip-path=\"url(#clip120)\" d=\"M1834.42 1543.18 L1850.74 1543.18 L1850.74 1547.12 L1828.8 1547.12 L1828.8 1543.18 Q1831.46 1540.43 1836.04 1535.8 Q1840.65 1531.15 1841.83 1529.81 Q1844.08 1527.28 1844.96 1525.55 Q1845.86 1523.79 1845.86 1522.1 Q1845.86 1519.34 1843.91 1517.61 Q1841.99 1515.87 1838.89 1515.87 Q1836.69 1515.87 1834.24 1516.63 Q1831.81 1517.4 1829.03 1518.95 L1829.03 1514.23 Q1831.85 1513.09 1834.31 1512.51 Q1836.76 1511.93 1838.8 1511.93 Q1844.17 1511.93 1847.36 1514.62 Q1850.56 1517.31 1850.56 1521.8 Q1850.56 1523.93 1849.75 1525.85 Q1848.96 1527.74 1846.85 1530.34 Q1846.28 1531.01 1843.17 1534.23 Q1840.07 1537.42 1834.42 1543.18 Z\" fill=\"#000000\" fill-rule=\"evenodd\" fill-opacity=\"1\" /><path clip-path=\"url(#clip120)\" d=\"M1870.56 1515.64 Q1866.95 1515.64 1865.12 1519.2 Q1863.31 1522.75 1863.31 1529.87 Q1863.31 1536.98 1865.12 1540.55 Q1866.95 1544.09 1870.56 1544.09 Q1874.19 1544.09 1876 1540.55 Q1877.83 1536.98 1877.83 1529.87 Q1877.83 1522.75 1876 1519.2 Q1874.19 1515.64 1870.56 1515.64 M1870.56 1511.93 Q1876.37 1511.93 1879.42 1516.54 Q1882.5 1521.12 1882.5 1529.87 Q1882.5 1538.6 1879.42 1543.21 Q1876.37 1547.79 1870.56 1547.79 Q1864.75 1547.79 1861.67 1543.21 Q1858.61 1538.6 1858.61 1529.87 Q1858.61 1521.12 1861.67 1516.54 Q1864.75 1511.93 1870.56 1511.93 Z\" fill=\"#000000\" fill-rule=\"evenodd\" fill-opacity=\"1\" /><path clip-path=\"url(#clip120)\" d=\"M2269.45 1543.18 L2285.77 1543.18 L2285.77 1547.12 L2263.83 1547.12 L2263.83 1543.18 Q2266.49 1540.43 2271.07 1535.8 Q2275.68 1531.15 2276.86 1529.81 Q2279.11 1527.28 2279.99 1525.55 Q2280.89 1523.79 2280.89 1522.1 Q2280.89 1519.34 2278.94 1517.61 Q2277.02 1515.87 2273.92 1515.87 Q2271.72 1515.87 2269.27 1516.63 Q2266.84 1517.4 2264.06 1518.95 L2264.06 1514.23 Q2266.88 1513.09 2269.34 1512.51 Q2271.79 1511.93 2273.83 1511.93 Q2279.2 1511.93 2282.39 1514.62 Q2285.59 1517.31 2285.59 1521.8 Q2285.59 1523.93 2284.78 1525.85 Q2283.99 1527.74 2281.88 1530.34 Q2281.31 1531.01 2278.2 1534.23 Q2275.1 1537.42 2269.45 1543.18 Z\" fill=\"#000000\" fill-rule=\"evenodd\" fill-opacity=\"1\" /><path clip-path=\"url(#clip120)\" d=\"M2295.63 1512.56 L2313.99 1512.56 L2313.99 1516.5 L2299.92 1516.5 L2299.92 1524.97 Q2300.94 1524.62 2301.95 1524.46 Q2302.97 1524.27 2303.99 1524.27 Q2309.78 1524.27 2313.16 1527.44 Q2316.54 1530.62 2316.54 1536.03 Q2316.54 1541.61 2313.07 1544.71 Q2309.59 1547.79 2303.27 1547.79 Q2301.1 1547.79 2298.83 1547.42 Q2296.58 1547.05 2294.18 1546.31 L2294.18 1541.61 Q2296.26 1542.74 2298.48 1543.3 Q2300.7 1543.86 2303.18 1543.86 Q2307.19 1543.86 2309.52 1541.75 Q2311.86 1539.64 2311.86 1536.03 Q2311.86 1532.42 2309.52 1530.31 Q2307.19 1528.21 2303.18 1528.21 Q2301.31 1528.21 2299.43 1528.62 Q2297.58 1529.04 2295.63 1529.92 L2295.63 1512.56 Z\" fill=\"#000000\" fill-rule=\"evenodd\" fill-opacity=\"1\" /><polyline clip-path=\"url(#clip122)\" style=\"stroke:#000000; stroke-linecap:butt; stroke-linejoin:round; stroke-width:2; stroke-opacity:0.1; fill:none\" points=\"\n",
       "  141.853,1460.32 2352.76,1460.32 \n",
       "  \"/>\n",
       "<polyline clip-path=\"url(#clip122)\" style=\"stroke:#000000; stroke-linecap:butt; stroke-linejoin:round; stroke-width:2; stroke-opacity:0.1; fill:none\" points=\"\n",
       "  141.853,1168.33 2352.76,1168.33 \n",
       "  \"/>\n",
       "<polyline clip-path=\"url(#clip122)\" style=\"stroke:#000000; stroke-linecap:butt; stroke-linejoin:round; stroke-width:2; stroke-opacity:0.1; fill:none\" points=\"\n",
       "  141.853,876.341 2352.76,876.341 \n",
       "  \"/>\n",
       "<polyline clip-path=\"url(#clip122)\" style=\"stroke:#000000; stroke-linecap:butt; stroke-linejoin:round; stroke-width:2; stroke-opacity:0.1; fill:none\" points=\"\n",
       "  141.853,584.354 2352.76,584.354 \n",
       "  \"/>\n",
       "<polyline clip-path=\"url(#clip122)\" style=\"stroke:#000000; stroke-linecap:butt; stroke-linejoin:round; stroke-width:2; stroke-opacity:0.1; fill:none\" points=\"\n",
       "  141.853,292.367 2352.76,292.367 \n",
       "  \"/>\n",
       "<polyline clip-path=\"url(#clip120)\" style=\"stroke:#000000; stroke-linecap:butt; stroke-linejoin:round; stroke-width:4; stroke-opacity:1; fill:none\" points=\"\n",
       "  141.853,1486.45 141.853,47.2441 \n",
       "  \"/>\n",
       "<polyline clip-path=\"url(#clip120)\" style=\"stroke:#000000; stroke-linecap:butt; stroke-linejoin:round; stroke-width:4; stroke-opacity:1; fill:none\" points=\"\n",
       "  141.853,1460.32 160.751,1460.32 \n",
       "  \"/>\n",
       "<polyline clip-path=\"url(#clip120)\" style=\"stroke:#000000; stroke-linecap:butt; stroke-linejoin:round; stroke-width:4; stroke-opacity:1; fill:none\" points=\"\n",
       "  141.853,1168.33 160.751,1168.33 \n",
       "  \"/>\n",
       "<polyline clip-path=\"url(#clip120)\" style=\"stroke:#000000; stroke-linecap:butt; stroke-linejoin:round; stroke-width:4; stroke-opacity:1; fill:none\" points=\"\n",
       "  141.853,876.341 160.751,876.341 \n",
       "  \"/>\n",
       "<polyline clip-path=\"url(#clip120)\" style=\"stroke:#000000; stroke-linecap:butt; stroke-linejoin:round; stroke-width:4; stroke-opacity:1; fill:none\" points=\"\n",
       "  141.853,584.354 160.751,584.354 \n",
       "  \"/>\n",
       "<polyline clip-path=\"url(#clip120)\" style=\"stroke:#000000; stroke-linecap:butt; stroke-linejoin:round; stroke-width:4; stroke-opacity:1; fill:none\" points=\"\n",
       "  141.853,292.367 160.751,292.367 \n",
       "  \"/>\n",
       "<path clip-path=\"url(#clip120)\" d=\"M93.9086 1446.11 Q90.2975 1446.11 88.4688 1449.68 Q86.6632 1453.22 86.6632 1460.35 Q86.6632 1467.46 88.4688 1471.02 Q90.2975 1474.56 93.9086 1474.56 Q97.5428 1474.56 99.3483 1471.02 Q101.177 1467.46 101.177 1460.35 Q101.177 1453.22 99.3483 1449.68 Q97.5428 1446.11 93.9086 1446.11 M93.9086 1442.41 Q99.7187 1442.41 102.774 1447.02 Q105.853 1451.6 105.853 1460.35 Q105.853 1469.08 102.774 1473.68 Q99.7187 1478.27 93.9086 1478.27 Q88.0984 1478.27 85.0197 1473.68 Q81.9642 1469.08 81.9642 1460.35 Q81.9642 1451.6 85.0197 1447.02 Q88.0984 1442.41 93.9086 1442.41 Z\" fill=\"#000000\" fill-rule=\"evenodd\" fill-opacity=\"1\" /><path clip-path=\"url(#clip120)\" d=\"M57.7745 1181.67 L74.0939 1181.67 L74.0939 1185.61 L52.1495 1185.61 L52.1495 1181.67 Q54.8115 1178.92 59.3949 1174.29 Q64.0013 1169.64 65.1819 1168.29 Q67.4272 1165.77 68.3068 1164.03 Q69.2096 1162.27 69.2096 1160.59 Q69.2096 1157.83 67.2652 1156.09 Q65.3439 1154.36 62.2421 1154.36 Q60.043 1154.36 57.5893 1155.12 Q55.1588 1155.89 52.381 1157.44 L52.381 1152.71 Q55.2051 1151.58 57.6588 1151 Q60.1124 1150.42 62.1495 1150.42 Q67.5198 1150.42 70.7142 1153.11 Q73.9087 1155.79 73.9087 1160.28 Q73.9087 1162.41 73.0985 1164.34 Q72.3115 1166.23 70.205 1168.83 Q69.6263 1169.5 66.5245 1172.71 Q63.4226 1175.91 57.7745 1181.67 Z\" fill=\"#000000\" fill-rule=\"evenodd\" fill-opacity=\"1\" /><path clip-path=\"url(#clip120)\" d=\"M93.9086 1154.13 Q90.2975 1154.13 88.4688 1157.69 Q86.6632 1161.23 86.6632 1168.36 Q86.6632 1175.47 88.4688 1179.03 Q90.2975 1182.58 93.9086 1182.58 Q97.5428 1182.58 99.3483 1179.03 Q101.177 1175.47 101.177 1168.36 Q101.177 1161.23 99.3483 1157.69 Q97.5428 1154.13 93.9086 1154.13 M93.9086 1150.42 Q99.7187 1150.42 102.774 1155.03 Q105.853 1159.61 105.853 1168.36 Q105.853 1177.09 102.774 1181.7 Q99.7187 1186.28 93.9086 1186.28 Q88.0984 1186.28 85.0197 1181.7 Q81.9642 1177.09 81.9642 1168.36 Q81.9642 1159.61 85.0197 1155.03 Q88.0984 1150.42 93.9086 1150.42 Z\" fill=\"#000000\" fill-rule=\"evenodd\" fill-opacity=\"1\" /><path clip-path=\"url(#clip120)\" d=\"M66.5939 863.135 L54.7884 881.584 L66.5939 881.584 L66.5939 863.135 M65.367 859.061 L71.2466 859.061 L71.2466 881.584 L76.1772 881.584 L76.1772 885.473 L71.2466 885.473 L71.2466 893.621 L66.5939 893.621 L66.5939 885.473 L50.9921 885.473 L50.9921 880.959 L65.367 859.061 Z\" fill=\"#000000\" fill-rule=\"evenodd\" fill-opacity=\"1\" /><path clip-path=\"url(#clip120)\" d=\"M93.9086 862.14 Q90.2975 862.14 88.4688 865.705 Q86.6632 869.246 86.6632 876.376 Q86.6632 883.482 88.4688 887.047 Q90.2975 890.589 93.9086 890.589 Q97.5428 890.589 99.3483 887.047 Q101.177 883.482 101.177 876.376 Q101.177 869.246 99.3483 865.705 Q97.5428 862.14 93.9086 862.14 M93.9086 858.436 Q99.7187 858.436 102.774 863.043 Q105.853 867.626 105.853 876.376 Q105.853 885.103 102.774 889.709 Q99.7187 894.292 93.9086 894.292 Q88.0984 894.292 85.0197 889.709 Q81.9642 885.103 81.9642 876.376 Q81.9642 867.626 85.0197 863.043 Q88.0984 858.436 93.9086 858.436 Z\" fill=\"#000000\" fill-rule=\"evenodd\" fill-opacity=\"1\" /><path clip-path=\"url(#clip120)\" d=\"M64.3254 582.491 Q61.1773 582.491 59.3254 584.643 Q57.4967 586.796 57.4967 590.546 Q57.4967 594.273 59.3254 596.449 Q61.1773 598.602 64.3254 598.602 Q67.4735 598.602 69.3022 596.449 Q71.1541 594.273 71.1541 590.546 Q71.1541 586.796 69.3022 584.643 Q67.4735 582.491 64.3254 582.491 M73.6077 567.838 L73.6077 572.097 Q71.8485 571.264 70.0429 570.824 Q68.2606 570.384 66.5013 570.384 Q61.8717 570.384 59.418 573.509 Q56.9875 576.634 56.6402 582.954 Q58.006 580.94 60.0662 579.875 Q62.1263 578.787 64.6032 578.787 Q69.8115 578.787 72.8207 581.958 Q75.8531 585.106 75.8531 590.546 Q75.8531 595.87 72.705 599.088 Q69.5568 602.305 64.3254 602.305 Q58.33 602.305 55.1588 597.722 Q51.9875 593.116 51.9875 584.389 Q51.9875 576.194 55.8764 571.333 Q59.7652 566.449 66.3161 566.449 Q68.0754 566.449 69.8578 566.796 Q71.6633 567.144 73.6077 567.838 Z\" fill=\"#000000\" fill-rule=\"evenodd\" fill-opacity=\"1\" /><path clip-path=\"url(#clip120)\" d=\"M93.9086 570.153 Q90.2975 570.153 88.4688 573.718 Q86.6632 577.259 86.6632 584.389 Q86.6632 591.495 88.4688 595.06 Q90.2975 598.602 93.9086 598.602 Q97.5428 598.602 99.3483 595.06 Q101.177 591.495 101.177 584.389 Q101.177 577.259 99.3483 573.718 Q97.5428 570.153 93.9086 570.153 M93.9086 566.449 Q99.7187 566.449 102.774 571.056 Q105.853 575.639 105.853 584.389 Q105.853 593.116 102.774 597.722 Q99.7187 602.305 93.9086 602.305 Q88.0984 602.305 85.0197 597.722 Q81.9642 593.116 81.9642 584.389 Q81.9642 575.639 85.0197 571.056 Q88.0984 566.449 93.9086 566.449 Z\" fill=\"#000000\" fill-rule=\"evenodd\" fill-opacity=\"1\" /><path clip-path=\"url(#clip120)\" d=\"M63.7467 293.235 Q60.4134 293.235 58.4921 295.018 Q56.5939 296.8 56.5939 299.925 Q56.5939 303.05 58.4921 304.832 Q60.4134 306.615 63.7467 306.615 Q67.08 306.615 69.0013 304.832 Q70.9226 303.027 70.9226 299.925 Q70.9226 296.8 69.0013 295.018 Q67.1032 293.235 63.7467 293.235 M59.0708 291.244 Q56.0615 290.504 54.3717 288.444 Q52.7051 286.383 52.7051 283.42 Q52.7051 279.277 55.6449 276.87 Q58.6078 274.462 63.7467 274.462 Q68.9087 274.462 71.8485 276.87 Q74.7883 279.277 74.7883 283.42 Q74.7883 286.383 73.0985 288.444 Q71.4318 290.504 68.4457 291.244 Q71.8253 292.032 73.7003 294.323 Q75.5985 296.615 75.5985 299.925 Q75.5985 304.948 72.5198 307.633 Q69.4642 310.318 63.7467 310.318 Q58.0291 310.318 54.9504 307.633 Q51.8949 304.948 51.8949 299.925 Q51.8949 296.615 53.793 294.323 Q55.6912 292.032 59.0708 291.244 M57.3578 283.86 Q57.3578 286.545 59.0245 288.05 Q60.7143 289.555 63.7467 289.555 Q66.7559 289.555 68.4457 288.05 Q70.1587 286.545 70.1587 283.86 Q70.1587 281.175 68.4457 279.67 Q66.7559 278.166 63.7467 278.166 Q60.7143 278.166 59.0245 279.67 Q57.3578 281.175 57.3578 283.86 Z\" fill=\"#000000\" fill-rule=\"evenodd\" fill-opacity=\"1\" /><path clip-path=\"url(#clip120)\" d=\"M93.9086 278.166 Q90.2975 278.166 88.4688 281.731 Q86.6632 285.272 86.6632 292.402 Q86.6632 299.508 88.4688 303.073 Q90.2975 306.615 93.9086 306.615 Q97.5428 306.615 99.3483 303.073 Q101.177 299.508 101.177 292.402 Q101.177 285.272 99.3483 281.731 Q97.5428 278.166 93.9086 278.166 M93.9086 274.462 Q99.7187 274.462 102.774 279.069 Q105.853 283.652 105.853 292.402 Q105.853 301.129 102.774 305.735 Q99.7187 310.318 93.9086 310.318 Q88.0984 310.318 85.0197 305.735 Q81.9642 301.129 81.9642 292.402 Q81.9642 283.652 85.0197 279.069 Q88.0984 274.462 93.9086 274.462 Z\" fill=\"#000000\" fill-rule=\"evenodd\" fill-opacity=\"1\" /><circle clip-path=\"url(#clip122)\" cx=\"204.426\" cy=\"1445.72\" r=\"14\" fill=\"#009af9\" fill-rule=\"evenodd\" fill-opacity=\"1\" stroke=\"#000000\" stroke-opacity=\"1\" stroke-width=\"3.2\"/>\n",
       "<circle clip-path=\"url(#clip122)\" cx=\"291.332\" cy=\"1431.12\" r=\"14\" fill=\"#009af9\" fill-rule=\"evenodd\" fill-opacity=\"1\" stroke=\"#000000\" stroke-opacity=\"1\" stroke-width=\"3.2\"/>\n",
       "<circle clip-path=\"url(#clip122)\" cx=\"378.239\" cy=\"1416.52\" r=\"14\" fill=\"#009af9\" fill-rule=\"evenodd\" fill-opacity=\"1\" stroke=\"#000000\" stroke-opacity=\"1\" stroke-width=\"3.2\"/>\n",
       "<circle clip-path=\"url(#clip122)\" cx=\"465.145\" cy=\"1401.92\" r=\"14\" fill=\"#009af9\" fill-rule=\"evenodd\" fill-opacity=\"1\" stroke=\"#000000\" stroke-opacity=\"1\" stroke-width=\"3.2\"/>\n",
       "<circle clip-path=\"url(#clip122)\" cx=\"552.052\" cy=\"1387.32\" r=\"14\" fill=\"#009af9\" fill-rule=\"evenodd\" fill-opacity=\"1\" stroke=\"#000000\" stroke-opacity=\"1\" stroke-width=\"3.2\"/>\n",
       "<circle clip-path=\"url(#clip122)\" cx=\"638.958\" cy=\"365.364\" r=\"14\" fill=\"#009af9\" fill-rule=\"evenodd\" fill-opacity=\"1\" stroke=\"#000000\" stroke-opacity=\"1\" stroke-width=\"3.2\"/>\n",
       "<circle clip-path=\"url(#clip122)\" cx=\"725.865\" cy=\"350.765\" r=\"14\" fill=\"#009af9\" fill-rule=\"evenodd\" fill-opacity=\"1\" stroke=\"#000000\" stroke-opacity=\"1\" stroke-width=\"3.2\"/>\n",
       "<circle clip-path=\"url(#clip122)\" cx=\"812.772\" cy=\"336.165\" r=\"14\" fill=\"#009af9\" fill-rule=\"evenodd\" fill-opacity=\"1\" stroke=\"#000000\" stroke-opacity=\"1\" stroke-width=\"3.2\"/>\n",
       "<circle clip-path=\"url(#clip122)\" cx=\"899.678\" cy=\"321.566\" r=\"14\" fill=\"#009af9\" fill-rule=\"evenodd\" fill-opacity=\"1\" stroke=\"#000000\" stroke-opacity=\"1\" stroke-width=\"3.2\"/>\n",
       "<circle clip-path=\"url(#clip122)\" cx=\"986.585\" cy=\"306.967\" r=\"14\" fill=\"#009af9\" fill-rule=\"evenodd\" fill-opacity=\"1\" stroke=\"#000000\" stroke-opacity=\"1\" stroke-width=\"3.2\"/>\n",
       "<circle clip-path=\"url(#clip122)\" cx=\"1073.49\" cy=\"292.367\" r=\"14\" fill=\"#009af9\" fill-rule=\"evenodd\" fill-opacity=\"1\" stroke=\"#000000\" stroke-opacity=\"1\" stroke-width=\"3.2\"/>\n",
       "<circle clip-path=\"url(#clip122)\" cx=\"1160.4\" cy=\"277.768\" r=\"14\" fill=\"#009af9\" fill-rule=\"evenodd\" fill-opacity=\"1\" stroke=\"#000000\" stroke-opacity=\"1\" stroke-width=\"3.2\"/>\n",
       "<circle clip-path=\"url(#clip122)\" cx=\"1247.3\" cy=\"263.168\" r=\"14\" fill=\"#009af9\" fill-rule=\"evenodd\" fill-opacity=\"1\" stroke=\"#000000\" stroke-opacity=\"1\" stroke-width=\"3.2\"/>\n",
       "<circle clip-path=\"url(#clip122)\" cx=\"1334.21\" cy=\"248.569\" r=\"14\" fill=\"#009af9\" fill-rule=\"evenodd\" fill-opacity=\"1\" stroke=\"#000000\" stroke-opacity=\"1\" stroke-width=\"3.2\"/>\n",
       "<circle clip-path=\"url(#clip122)\" cx=\"1421.12\" cy=\"233.97\" r=\"14\" fill=\"#009af9\" fill-rule=\"evenodd\" fill-opacity=\"1\" stroke=\"#000000\" stroke-opacity=\"1\" stroke-width=\"3.2\"/>\n",
       "<circle clip-path=\"url(#clip122)\" cx=\"1508.02\" cy=\"219.37\" r=\"14\" fill=\"#009af9\" fill-rule=\"evenodd\" fill-opacity=\"1\" stroke=\"#000000\" stroke-opacity=\"1\" stroke-width=\"3.2\"/>\n",
       "<circle clip-path=\"url(#clip122)\" cx=\"1594.93\" cy=\"204.771\" r=\"14\" fill=\"#009af9\" fill-rule=\"evenodd\" fill-opacity=\"1\" stroke=\"#000000\" stroke-opacity=\"1\" stroke-width=\"3.2\"/>\n",
       "<circle clip-path=\"url(#clip122)\" cx=\"1681.84\" cy=\"190.172\" r=\"14\" fill=\"#009af9\" fill-rule=\"evenodd\" fill-opacity=\"1\" stroke=\"#000000\" stroke-opacity=\"1\" stroke-width=\"3.2\"/>\n",
       "<circle clip-path=\"url(#clip122)\" cx=\"1768.74\" cy=\"175.572\" r=\"14\" fill=\"#009af9\" fill-rule=\"evenodd\" fill-opacity=\"1\" stroke=\"#000000\" stroke-opacity=\"1\" stroke-width=\"3.2\"/>\n",
       "<circle clip-path=\"url(#clip122)\" cx=\"1855.65\" cy=\"160.973\" r=\"14\" fill=\"#009af9\" fill-rule=\"evenodd\" fill-opacity=\"1\" stroke=\"#000000\" stroke-opacity=\"1\" stroke-width=\"3.2\"/>\n",
       "<circle clip-path=\"url(#clip122)\" cx=\"1942.56\" cy=\"146.374\" r=\"14\" fill=\"#009af9\" fill-rule=\"evenodd\" fill-opacity=\"1\" stroke=\"#000000\" stroke-opacity=\"1\" stroke-width=\"3.2\"/>\n",
       "<circle clip-path=\"url(#clip122)\" cx=\"2029.46\" cy=\"131.774\" r=\"14\" fill=\"#009af9\" fill-rule=\"evenodd\" fill-opacity=\"1\" stroke=\"#000000\" stroke-opacity=\"1\" stroke-width=\"3.2\"/>\n",
       "<circle clip-path=\"url(#clip122)\" cx=\"2116.37\" cy=\"117.175\" r=\"14\" fill=\"#009af9\" fill-rule=\"evenodd\" fill-opacity=\"1\" stroke=\"#000000\" stroke-opacity=\"1\" stroke-width=\"3.2\"/>\n",
       "<circle clip-path=\"url(#clip122)\" cx=\"2203.28\" cy=\"102.576\" r=\"14\" fill=\"#009af9\" fill-rule=\"evenodd\" fill-opacity=\"1\" stroke=\"#000000\" stroke-opacity=\"1\" stroke-width=\"3.2\"/>\n",
       "<circle clip-path=\"url(#clip122)\" cx=\"2290.18\" cy=\"87.9763\" r=\"14\" fill=\"#009af9\" fill-rule=\"evenodd\" fill-opacity=\"1\" stroke=\"#000000\" stroke-opacity=\"1\" stroke-width=\"3.2\"/>\n",
       "<path clip-path=\"url(#clip120)\" d=\"\n",
       "M1980.97 198.898 L2279.06 198.898 L2279.06 95.2176 L1980.97 95.2176  Z\n",
       "  \" fill=\"#ffffff\" fill-rule=\"evenodd\" fill-opacity=\"1\"/>\n",
       "<polyline clip-path=\"url(#clip120)\" style=\"stroke:#000000; stroke-linecap:butt; stroke-linejoin:round; stroke-width:4; stroke-opacity:1; fill:none\" points=\"\n",
       "  1980.97,198.898 2279.06,198.898 2279.06,95.2176 1980.97,95.2176 1980.97,198.898 \n",
       "  \"/>\n",
       "<circle clip-path=\"url(#clip120)\" cx=\"2079.24\" cy=\"147.058\" r=\"23\" fill=\"#009af9\" fill-rule=\"evenodd\" fill-opacity=\"1\" stroke=\"#000000\" stroke-opacity=\"1\" stroke-width=\"5.12\"/>\n",
       "<path clip-path=\"url(#clip120)\" d=\"M2191.34 166.745 Q2189.53 171.375 2187.82 172.787 Q2186.11 174.199 2183.24 174.199 L2179.84 174.199 L2179.84 170.634 L2182.34 170.634 Q2184.09 170.634 2185.07 169.8 Q2186.04 168.967 2187.22 165.865 L2187.98 163.921 L2177.5 138.412 L2182.01 138.412 L2190.11 158.689 L2198.22 138.412 L2202.73 138.412 L2191.34 166.745 Z\" fill=\"#000000\" fill-rule=\"evenodd\" fill-opacity=\"1\" /><path clip-path=\"url(#clip120)\" d=\"M2210.02 160.402 L2217.66 160.402 L2217.66 134.037 L2209.35 135.703 L2209.35 131.444 L2217.61 129.778 L2222.29 129.778 L2222.29 160.402 L2229.93 160.402 L2229.93 164.338 L2210.02 164.338 L2210.02 160.402 Z\" fill=\"#000000\" fill-rule=\"evenodd\" fill-opacity=\"1\" /></svg>\n"
      ]
     },
     "execution_count": 33,
     "metadata": {},
     "output_type": "execute_result"
    }
   ],
   "source": [
    "StatsPlots.scatter(first.(kmer_counts_histogram))"
   ]
  },
  {
   "cell_type": "code",
   "execution_count": 23,
   "id": "1d2bf3a6-c1b8-4ce2-a4de-38ef380b735a",
   "metadata": {},
   "outputs": [
    {
     "data": {
      "text/plain": [
       "25-element Vector{Int64}:\n",
       "  1\n",
       "  2\n",
       "  3\n",
       "  4\n",
       "  5\n",
       " 75\n",
       " 76\n",
       " 77\n",
       " 78\n",
       " 79\n",
       " 80\n",
       " 81\n",
       " 82\n",
       " 83\n",
       " 84\n",
       " 85\n",
       " 86\n",
       " 87\n",
       " 88\n",
       " 89\n",
       " 90\n",
       " 91\n",
       " 92\n",
       " 93\n",
       " 94"
      ]
     },
     "execution_count": 23,
     "metadata": {},
     "output_type": "execute_result"
    }
   ],
   "source": [
    "kmer_depth_of_coverage_bins = first.(kmer_counts_histogram)"
   ]
  },
  {
   "cell_type": "code",
   "execution_count": 24,
   "id": "1013438f-d6d3-4627-aa5a-606623a4ae48",
   "metadata": {},
   "outputs": [
    {
     "data": {
      "text/plain": [
       "25×25 Matrix{Int64}:\n",
       "  0   1   2   3   4  74  75  76  77  …  85  86  87  88  89  90  91  92  93\n",
       "  1   0   1   2   3  73  74  75  76     84  85  86  87  88  89  90  91  92\n",
       "  2   1   0   1   2  72  73  74  75     83  84  85  86  87  88  89  90  91\n",
       "  3   2   1   0   1  71  72  73  74     82  83  84  85  86  87  88  89  90\n",
       "  4   3   2   1   0  70  71  72  73     81  82  83  84  85  86  87  88  89\n",
       " 74  73  72  71  70   0   1   2   3  …  11  12  13  14  15  16  17  18  19\n",
       " 75  74  73  72  71   1   0   1   2     10  11  12  13  14  15  16  17  18\n",
       " 76  75  74  73  72   2   1   0   1      9  10  11  12  13  14  15  16  17\n",
       " 77  76  75  74  73   3   2   1   0      8   9  10  11  12  13  14  15  16\n",
       " 78  77  76  75  74   4   3   2   1      7   8   9  10  11  12  13  14  15\n",
       " 79  78  77  76  75   5   4   3   2  …   6   7   8   9  10  11  12  13  14\n",
       " 80  79  78  77  76   6   5   4   3      5   6   7   8   9  10  11  12  13\n",
       " 81  80  79  78  77   7   6   5   4      4   5   6   7   8   9  10  11  12\n",
       " 82  81  80  79  78   8   7   6   5      3   4   5   6   7   8   9  10  11\n",
       " 83  82  81  80  79   9   8   7   6      2   3   4   5   6   7   8   9  10\n",
       " 84  83  82  81  80  10   9   8   7  …   1   2   3   4   5   6   7   8   9\n",
       " 85  84  83  82  81  11  10   9   8      0   1   2   3   4   5   6   7   8\n",
       " 86  85  84  83  82  12  11  10   9      1   0   1   2   3   4   5   6   7\n",
       " 87  86  85  84  83  13  12  11  10      2   1   0   1   2   3   4   5   6\n",
       " 88  87  86  85  84  14  13  12  11      3   2   1   0   1   2   3   4   5\n",
       " 89  88  87  86  85  15  14  13  12  …   4   3   2   1   0   1   2   3   4\n",
       " 90  89  88  87  86  16  15  14  13      5   4   3   2   1   0   1   2   3\n",
       " 91  90  89  88  87  17  16  15  14      6   5   4   3   2   1   0   1   2\n",
       " 92  91  90  89  88  18  17  16  15      7   6   5   4   3   2   1   0   1\n",
       " 93  92  91  90  89  19  18  17  16      8   7   6   5   4   3   2   1   0"
      ]
     },
     "execution_count": 24,
     "metadata": {},
     "output_type": "execute_result"
    }
   ],
   "source": [
    "distance_matrix = zeros(Int, (length(kmer_depth_of_coverage_bins), length(kmer_depth_of_coverage_bins)))\n",
    "for (row, depth_of_coverage_bin_1) in enumerate(kmer_depth_of_coverage_bins)\n",
    "    for (col, depth_of_coverage_bin_2) in enumerate(kmer_depth_of_coverage_bins)\n",
    "        distance = abs(depth_of_coverage_bin_1 - depth_of_coverage_bin_2)\n",
    "        distance_matrix[row, col] = distance\n",
    "    end\n",
    "end\n",
    "distance_matrix"
   ]
  },
  {
   "cell_type": "code",
   "execution_count": 156,
   "id": "d1fc1ca1-c020-4ce3-9779-341c1ad3ca07",
   "metadata": {},
   "outputs": [
    {
     "data": {
      "text/plain": [
       "7-element Vector{Float64}:\n",
       " 0.8313120540986446\n",
       " 0.6676021017527719\n",
       " 0.5513068377951525\n",
       " 0.46284076564173837\n",
       " 0.2807205155546135\n",
       " 0.18395132570642758\n",
       " 0.08281825396825399"
      ]
     },
     "execution_count": 156,
     "metadata": {},
     "output_type": "execute_result"
    }
   ],
   "source": [
    "ks = Primes.primes(2, 17)\n",
    "ys = map(k ->\n",
    "            Statistics.mean(Statistics.mean(Clustering.silhouettes(Clustering.kmedoids(distance_matrix, k), distance_matrix)) for i in 1:100),\n",
    "            ks)"
   ]
  },
  {
   "cell_type": "code",
   "execution_count": 161,
   "id": "3228add3-90e3-4081-bddc-92ab31d14682",
   "metadata": {},
   "outputs": [
    {
     "data": {
      "image/svg+xml": [
       "<?xml version=\"1.0\" encoding=\"utf-8\"?>\n",
       "<svg xmlns=\"http://www.w3.org/2000/svg\" xmlns:xlink=\"http://www.w3.org/1999/xlink\" width=\"600\" height=\"400\" viewBox=\"0 0 2400 1600\">\n",
       "<defs>\n",
       "  <clipPath id=\"clip480\">\n",
       "    <rect x=\"0\" y=\"0\" width=\"2400\" height=\"1600\"/>\n",
       "  </clipPath>\n",
       "</defs>\n",
       "<path clip-path=\"url(#clip480)\" d=\"\n",
       "M0 1600 L2400 1600 L2400 0 L0 0  Z\n",
       "  \" fill=\"#ffffff\" fill-rule=\"evenodd\" fill-opacity=\"1\"/>\n",
       "<defs>\n",
       "  <clipPath id=\"clip481\">\n",
       "    <rect x=\"480\" y=\"0\" width=\"1681\" height=\"1600\"/>\n",
       "  </clipPath>\n",
       "</defs>\n",
       "<path clip-path=\"url(#clip480)\" d=\"\n",
       "M219.866 1423.18 L2352.76 1423.18 L2352.76 47.2441 L219.866 47.2441  Z\n",
       "  \" fill=\"#ffffff\" fill-rule=\"evenodd\" fill-opacity=\"1\"/>\n",
       "<defs>\n",
       "  <clipPath id=\"clip482\">\n",
       "    <rect x=\"219\" y=\"47\" width=\"2134\" height=\"1377\"/>\n",
       "  </clipPath>\n",
       "</defs>\n",
       "<polyline clip-path=\"url(#clip482)\" style=\"stroke:#000000; stroke-linecap:butt; stroke-linejoin:round; stroke-width:2; stroke-opacity:0.1; fill:none\" points=\"\n",
       "  414.375,1423.18 414.375,47.2441 \n",
       "  \"/>\n",
       "<polyline clip-path=\"url(#clip482)\" style=\"stroke:#000000; stroke-linecap:butt; stroke-linejoin:round; stroke-width:2; stroke-opacity:0.1; fill:none\" points=\"\n",
       "  816.807,1423.18 816.807,47.2441 \n",
       "  \"/>\n",
       "<polyline clip-path=\"url(#clip482)\" style=\"stroke:#000000; stroke-linecap:butt; stroke-linejoin:round; stroke-width:2; stroke-opacity:0.1; fill:none\" points=\"\n",
       "  1219.24,1423.18 1219.24,47.2441 \n",
       "  \"/>\n",
       "<polyline clip-path=\"url(#clip482)\" style=\"stroke:#000000; stroke-linecap:butt; stroke-linejoin:round; stroke-width:2; stroke-opacity:0.1; fill:none\" points=\"\n",
       "  1621.67,1423.18 1621.67,47.2441 \n",
       "  \"/>\n",
       "<polyline clip-path=\"url(#clip482)\" style=\"stroke:#000000; stroke-linecap:butt; stroke-linejoin:round; stroke-width:2; stroke-opacity:0.1; fill:none\" points=\"\n",
       "  2024.1,1423.18 2024.1,47.2441 \n",
       "  \"/>\n",
       "<polyline clip-path=\"url(#clip480)\" style=\"stroke:#000000; stroke-linecap:butt; stroke-linejoin:round; stroke-width:4; stroke-opacity:1; fill:none\" points=\"\n",
       "  219.866,1423.18 2352.76,1423.18 \n",
       "  \"/>\n",
       "<polyline clip-path=\"url(#clip480)\" style=\"stroke:#000000; stroke-linecap:butt; stroke-linejoin:round; stroke-width:4; stroke-opacity:1; fill:none\" points=\"\n",
       "  414.375,1423.18 414.375,1404.28 \n",
       "  \"/>\n",
       "<polyline clip-path=\"url(#clip480)\" style=\"stroke:#000000; stroke-linecap:butt; stroke-linejoin:round; stroke-width:4; stroke-opacity:1; fill:none\" points=\"\n",
       "  816.807,1423.18 816.807,1404.28 \n",
       "  \"/>\n",
       "<polyline clip-path=\"url(#clip480)\" style=\"stroke:#000000; stroke-linecap:butt; stroke-linejoin:round; stroke-width:4; stroke-opacity:1; fill:none\" points=\"\n",
       "  1219.24,1423.18 1219.24,1404.28 \n",
       "  \"/>\n",
       "<polyline clip-path=\"url(#clip480)\" style=\"stroke:#000000; stroke-linecap:butt; stroke-linejoin:round; stroke-width:4; stroke-opacity:1; fill:none\" points=\"\n",
       "  1621.67,1423.18 1621.67,1404.28 \n",
       "  \"/>\n",
       "<polyline clip-path=\"url(#clip480)\" style=\"stroke:#000000; stroke-linecap:butt; stroke-linejoin:round; stroke-width:4; stroke-opacity:1; fill:none\" points=\"\n",
       "  2024.1,1423.18 2024.1,1404.28 \n",
       "  \"/>\n",
       "<path clip-path=\"url(#clip480)\" d=\"M418.623 1465.22 Q421.979 1465.94 423.854 1468.2 Q425.752 1470.47 425.752 1473.81 Q425.752 1478.92 422.234 1481.72 Q418.715 1484.52 412.234 1484.52 Q410.058 1484.52 407.743 1484.08 Q405.452 1483.67 402.998 1482.81 L402.998 1478.3 Q404.942 1479.43 407.257 1480.01 Q409.572 1480.59 412.095 1480.59 Q416.493 1480.59 418.785 1478.85 Q421.1 1477.12 421.1 1473.81 Q421.1 1470.75 418.947 1469.04 Q416.817 1467.3 412.998 1467.3 L408.97 1467.3 L408.97 1463.46 L413.183 1463.46 Q416.632 1463.46 418.461 1462.09 Q420.289 1460.7 420.289 1458.11 Q420.289 1455.45 418.391 1454.04 Q416.516 1452.6 412.998 1452.6 Q411.076 1452.6 408.877 1453.02 Q406.678 1453.44 404.039 1454.31 L404.039 1450.15 Q406.701 1449.41 409.016 1449.04 Q411.354 1448.67 413.414 1448.67 Q418.738 1448.67 421.84 1451.1 Q424.942 1453.5 424.942 1457.63 Q424.942 1460.5 423.299 1462.49 Q421.655 1464.45 418.623 1465.22 Z\" fill=\"#000000\" fill-rule=\"evenodd\" fill-opacity=\"1\" /><path clip-path=\"url(#clip480)\" d=\"M817.212 1464.71 Q814.064 1464.71 812.212 1466.86 Q810.384 1469.01 810.384 1472.76 Q810.384 1476.49 812.212 1478.67 Q814.064 1480.82 817.212 1480.82 Q820.36 1480.82 822.189 1478.67 Q824.041 1476.49 824.041 1472.76 Q824.041 1469.01 822.189 1466.86 Q820.36 1464.71 817.212 1464.71 M826.495 1450.06 L826.495 1454.31 Q824.735 1453.48 822.93 1453.04 Q821.147 1452.6 819.388 1452.6 Q814.758 1452.6 812.305 1455.73 Q809.874 1458.85 809.527 1465.17 Q810.893 1463.16 812.953 1462.09 Q815.013 1461 817.49 1461 Q822.698 1461 825.707 1464.18 Q828.74 1467.32 828.74 1472.76 Q828.74 1478.09 825.592 1481.31 Q822.444 1484.52 817.212 1484.52 Q811.217 1484.52 808.046 1479.94 Q804.874 1475.33 804.874 1466.61 Q804.874 1458.41 808.763 1453.55 Q812.652 1448.67 819.203 1448.67 Q820.962 1448.67 822.745 1449.01 Q824.55 1449.36 826.495 1450.06 Z\" fill=\"#000000\" fill-rule=\"evenodd\" fill-opacity=\"1\" /><path clip-path=\"url(#clip480)\" d=\"M1209.54 1483.13 L1209.54 1478.88 Q1211.3 1479.71 1213.1 1480.15 Q1214.91 1480.59 1216.65 1480.59 Q1221.28 1480.59 1223.71 1477.49 Q1226.16 1474.36 1226.51 1468.02 Q1225.16 1470.01 1223.1 1471.07 Q1221.04 1472.14 1218.54 1472.14 Q1213.36 1472.14 1210.33 1469.01 Q1207.32 1465.87 1207.32 1460.43 Q1207.32 1455.1 1210.47 1451.88 Q1213.61 1448.67 1218.85 1448.67 Q1224.84 1448.67 1227.99 1453.27 Q1231.16 1457.86 1231.16 1466.61 Q1231.16 1474.78 1227.27 1479.66 Q1223.41 1484.52 1216.85 1484.52 Q1215.1 1484.52 1213.29 1484.18 Q1211.48 1483.83 1209.54 1483.13 M1218.85 1468.48 Q1221.99 1468.48 1223.82 1466.33 Q1225.67 1464.18 1225.67 1460.43 Q1225.67 1456.7 1223.82 1454.55 Q1221.99 1452.37 1218.85 1452.37 Q1215.7 1452.37 1213.85 1454.55 Q1212.02 1456.7 1212.02 1460.43 Q1212.02 1464.18 1213.85 1466.33 Q1215.7 1468.48 1218.85 1468.48 Z\" fill=\"#000000\" fill-rule=\"evenodd\" fill-opacity=\"1\" /><path clip-path=\"url(#clip480)\" d=\"M1597.16 1479.92 L1604.8 1479.92 L1604.8 1453.55 L1596.49 1455.22 L1596.49 1450.96 L1604.75 1449.29 L1609.43 1449.29 L1609.43 1479.92 L1617.06 1479.92 L1617.06 1483.85 L1597.16 1483.85 L1597.16 1479.92 Z\" fill=\"#000000\" fill-rule=\"evenodd\" fill-opacity=\"1\" /><path clip-path=\"url(#clip480)\" d=\"M1630.54 1479.92 L1646.86 1479.92 L1646.86 1483.85 L1624.91 1483.85 L1624.91 1479.92 Q1627.57 1477.16 1632.16 1472.53 Q1636.76 1467.88 1637.94 1466.54 Q1640.19 1464.01 1641.07 1462.28 Q1641.97 1460.52 1641.97 1458.83 Q1641.97 1456.07 1640.03 1454.34 Q1638.11 1452.6 1635 1452.6 Q1632.81 1452.6 1630.35 1453.37 Q1627.92 1454.13 1625.14 1455.68 L1625.14 1450.96 Q1627.97 1449.82 1630.42 1449.25 Q1632.87 1448.67 1634.91 1448.67 Q1640.28 1448.67 1643.48 1451.35 Q1646.67 1454.04 1646.67 1458.53 Q1646.67 1460.66 1645.86 1462.58 Q1645.07 1464.48 1642.97 1467.07 Q1642.39 1467.74 1639.29 1470.96 Q1636.18 1474.15 1630.54 1479.92 Z\" fill=\"#000000\" fill-rule=\"evenodd\" fill-opacity=\"1\" /><path clip-path=\"url(#clip480)\" d=\"M1999.29 1479.92 L2006.93 1479.92 L2006.93 1453.55 L1998.62 1455.22 L1998.62 1450.96 L2006.88 1449.29 L2011.56 1449.29 L2011.56 1479.92 L2019.2 1479.92 L2019.2 1483.85 L1999.29 1483.85 L1999.29 1479.92 Z\" fill=\"#000000\" fill-rule=\"evenodd\" fill-opacity=\"1\" /><path clip-path=\"url(#clip480)\" d=\"M2028.69 1449.29 L2047.04 1449.29 L2047.04 1453.23 L2032.97 1453.23 L2032.97 1461.7 Q2033.99 1461.35 2035.01 1461.19 Q2036.02 1461 2037.04 1461 Q2042.83 1461 2046.21 1464.18 Q2049.59 1467.35 2049.59 1472.76 Q2049.59 1478.34 2046.12 1481.44 Q2042.64 1484.52 2036.33 1484.52 Q2034.15 1484.52 2031.88 1484.15 Q2029.64 1483.78 2027.23 1483.04 L2027.23 1478.34 Q2029.31 1479.48 2031.53 1480.03 Q2033.76 1480.59 2036.23 1480.59 Q2040.24 1480.59 2042.58 1478.48 Q2044.91 1476.38 2044.91 1472.76 Q2044.91 1469.15 2042.58 1467.05 Q2040.24 1464.94 2036.23 1464.94 Q2034.36 1464.94 2032.48 1465.36 Q2030.63 1465.77 2028.69 1466.65 L2028.69 1449.29 Z\" fill=\"#000000\" fill-rule=\"evenodd\" fill-opacity=\"1\" /><path clip-path=\"url(#clip480)\" d=\"M1013.56 1546.53 L1013.56 1568.04 L1007.7 1568.04 L1007.7 1546.72 Q1007.7 1541.66 1005.73 1539.14 Q1003.75 1536.63 999.807 1536.63 Q995.064 1536.63 992.327 1539.65 Q989.59 1542.68 989.59 1547.9 L989.59 1568.04 L983.701 1568.04 L983.701 1532.4 L989.59 1532.4 L989.59 1537.93 Q991.69 1534.72 994.523 1533.13 Q997.388 1531.54 1001.11 1531.54 Q1007.25 1531.54 1010.41 1535.36 Q1013.56 1539.14 1013.56 1546.53 Z\" fill=\"#000000\" fill-rule=\"evenodd\" fill-opacity=\"1\" /><path clip-path=\"url(#clip480)\" d=\"M1024.63 1553.98 L1024.63 1532.4 L1030.49 1532.4 L1030.49 1553.75 Q1030.49 1558.81 1032.46 1561.36 Q1034.44 1563.87 1038.38 1563.87 Q1043.13 1563.87 1045.86 1560.85 Q1048.63 1557.83 1048.63 1552.61 L1048.63 1532.4 L1054.49 1532.4 L1054.49 1568.04 L1048.63 1568.04 L1048.63 1562.57 Q1046.5 1565.82 1043.67 1567.41 Q1040.87 1568.97 1037.14 1568.97 Q1031 1568.97 1027.82 1565.15 Q1024.63 1561.33 1024.63 1553.98 M1039.37 1531.54 L1039.37 1531.54 Z\" fill=\"#000000\" fill-rule=\"evenodd\" fill-opacity=\"1\" /><path clip-path=\"url(#clip480)\" d=\"M1094.31 1539.24 Q1096.5 1535.29 1099.56 1533.41 Q1102.61 1531.54 1106.75 1531.54 Q1112.32 1531.54 1115.34 1535.45 Q1118.37 1539.33 1118.37 1546.53 L1118.37 1568.04 L1112.48 1568.04 L1112.48 1546.72 Q1112.48 1541.59 1110.67 1539.11 Q1108.85 1536.63 1105.13 1536.63 Q1100.58 1536.63 1097.93 1539.65 Q1095.29 1542.68 1095.29 1547.9 L1095.29 1568.04 L1089.4 1568.04 L1089.4 1546.72 Q1089.4 1541.56 1087.59 1539.11 Q1085.78 1536.63 1081.99 1536.63 Q1077.5 1536.63 1074.86 1539.68 Q1072.22 1542.71 1072.22 1547.9 L1072.22 1568.04 L1066.33 1568.04 L1066.33 1532.4 L1072.22 1532.4 L1072.22 1537.93 Q1074.22 1534.66 1077.02 1533.1 Q1079.82 1531.54 1083.67 1531.54 Q1087.56 1531.54 1090.26 1533.51 Q1093 1535.48 1094.31 1539.24 Z\" fill=\"#000000\" fill-rule=\"evenodd\" fill-opacity=\"1\" /><path clip-path=\"url(#clip480)\" d=\"M1155.64 1550.25 Q1155.64 1543.79 1152.97 1540.13 Q1150.32 1536.44 1145.68 1536.44 Q1141.03 1536.44 1138.36 1540.13 Q1135.71 1543.79 1135.71 1550.25 Q1135.71 1556.71 1138.36 1560.4 Q1141.03 1564.07 1145.68 1564.07 Q1150.32 1564.07 1152.97 1560.4 Q1155.64 1556.71 1155.64 1550.25 M1135.71 1537.81 Q1137.56 1534.62 1140.36 1533.1 Q1143.19 1531.54 1147.11 1531.54 Q1153.6 1531.54 1157.64 1536.69 Q1161.72 1541.85 1161.72 1550.25 Q1161.72 1558.65 1157.64 1563.81 Q1153.6 1568.97 1147.11 1568.97 Q1143.19 1568.97 1140.36 1567.44 Q1137.56 1565.88 1135.71 1562.7 L1135.71 1568.04 L1129.83 1568.04 L1129.83 1518.52 L1135.71 1518.52 L1135.71 1537.81 Z\" fill=\"#000000\" fill-rule=\"evenodd\" fill-opacity=\"1\" /><path clip-path=\"url(#clip480)\" d=\"M1201.92 1548.76 L1201.92 1551.62 L1174.99 1551.62 Q1175.37 1557.67 1178.62 1560.85 Q1181.9 1564 1187.72 1564 Q1191.1 1564 1194.25 1563.17 Q1197.43 1562.35 1200.55 1560.69 L1200.55 1566.23 Q1197.4 1567.57 1194.09 1568.27 Q1190.78 1568.97 1187.37 1568.97 Q1178.84 1568.97 1173.84 1564 Q1168.88 1559.04 1168.88 1550.57 Q1168.88 1541.82 1173.59 1536.69 Q1178.33 1531.54 1186.35 1531.54 Q1193.55 1531.54 1197.72 1536.18 Q1201.92 1540.8 1201.92 1548.76 M1196.06 1547.04 Q1196 1542.23 1193.36 1539.37 Q1190.75 1536.5 1186.42 1536.5 Q1181.52 1536.5 1178.56 1539.27 Q1175.63 1542.04 1175.18 1547.07 L1196.06 1547.04 Z\" fill=\"#000000\" fill-rule=\"evenodd\" fill-opacity=\"1\" /><path clip-path=\"url(#clip480)\" d=\"M1232.19 1537.87 Q1231.2 1537.3 1230.02 1537.04 Q1228.88 1536.76 1227.48 1536.76 Q1222.51 1536.76 1219.84 1540 Q1217.2 1543.22 1217.2 1549.27 L1217.2 1568.04 L1211.31 1568.04 L1211.31 1532.4 L1217.2 1532.4 L1217.2 1537.93 Q1219.04 1534.69 1222 1533.13 Q1224.96 1531.54 1229.19 1531.54 Q1229.8 1531.54 1230.53 1531.63 Q1231.26 1531.7 1232.15 1531.85 L1232.19 1537.87 Z\" fill=\"#000000\" fill-rule=\"evenodd\" fill-opacity=\"1\" /><path clip-path=\"url(#clip480)\" d=\"M1272.86 1536.5 Q1268.15 1536.5 1265.42 1540.19 Q1262.68 1543.85 1262.68 1550.25 Q1262.68 1556.65 1265.38 1560.34 Q1268.12 1564 1272.86 1564 Q1277.54 1564 1280.28 1560.31 Q1283.02 1556.62 1283.02 1550.25 Q1283.02 1543.92 1280.28 1540.23 Q1277.54 1536.5 1272.86 1536.5 M1272.86 1531.54 Q1280.5 1531.54 1284.86 1536.5 Q1289.22 1541.47 1289.22 1550.25 Q1289.22 1559 1284.86 1564 Q1280.5 1568.97 1272.86 1568.97 Q1265.19 1568.97 1260.83 1564 Q1256.5 1559 1256.5 1550.25 Q1256.5 1541.47 1260.83 1536.5 Q1265.19 1531.54 1272.86 1531.54 Z\" fill=\"#000000\" fill-rule=\"evenodd\" fill-opacity=\"1\" /><path clip-path=\"url(#clip480)\" d=\"M1316.98 1518.52 L1316.98 1523.39 L1311.38 1523.39 Q1308.23 1523.39 1306.98 1524.66 Q1305.77 1525.93 1305.77 1529.24 L1305.77 1532.4 L1315.42 1532.4 L1315.42 1536.95 L1305.77 1536.95 L1305.77 1568.04 L1299.89 1568.04 L1299.89 1536.95 L1294.28 1536.95 L1294.28 1532.4 L1299.89 1532.4 L1299.89 1529.91 Q1299.89 1523.96 1302.66 1521.26 Q1305.42 1518.52 1311.44 1518.52 L1316.98 1518.52 Z\" fill=\"#000000\" fill-rule=\"evenodd\" fill-opacity=\"1\" /><path clip-path=\"url(#clip480)\" d=\"M1368.25 1533.76 L1368.25 1539.24 Q1365.77 1537.87 1363.26 1537.2 Q1360.77 1536.5 1358.23 1536.5 Q1352.53 1536.5 1349.38 1540.13 Q1346.23 1543.73 1346.23 1550.25 Q1346.23 1556.78 1349.38 1560.4 Q1352.53 1564 1358.23 1564 Q1360.77 1564 1363.26 1563.33 Q1365.77 1562.63 1368.25 1561.26 L1368.25 1566.68 Q1365.8 1567.82 1363.16 1568.39 Q1360.55 1568.97 1357.59 1568.97 Q1349.54 1568.97 1344.8 1563.91 Q1340.05 1558.85 1340.05 1550.25 Q1340.05 1541.53 1344.83 1536.53 Q1349.63 1531.54 1357.97 1531.54 Q1360.68 1531.54 1363.26 1532.11 Q1365.83 1532.65 1368.25 1533.76 Z\" fill=\"#000000\" fill-rule=\"evenodd\" fill-opacity=\"1\" /><path clip-path=\"url(#clip480)\" d=\"M1378.44 1518.52 L1384.3 1518.52 L1384.3 1568.04 L1378.44 1568.04 L1378.44 1518.52 Z\" fill=\"#000000\" fill-rule=\"evenodd\" fill-opacity=\"1\" /><path clip-path=\"url(#clip480)\" d=\"M1395.94 1553.98 L1395.94 1532.4 L1401.8 1532.4 L1401.8 1553.75 Q1401.8 1558.81 1403.77 1561.36 Q1405.75 1563.87 1409.69 1563.87 Q1414.44 1563.87 1417.17 1560.85 Q1419.94 1557.83 1419.94 1552.61 L1419.94 1532.4 L1425.8 1532.4 L1425.8 1568.04 L1419.94 1568.04 L1419.94 1562.57 Q1417.81 1565.82 1414.98 1567.41 Q1412.18 1568.97 1408.45 1568.97 Q1402.31 1568.97 1399.13 1565.15 Q1395.94 1561.33 1395.94 1553.98 M1410.68 1531.54 L1410.68 1531.54 Z\" fill=\"#000000\" fill-rule=\"evenodd\" fill-opacity=\"1\" /><path clip-path=\"url(#clip480)\" d=\"M1460.59 1533.45 L1460.59 1538.98 Q1458.11 1537.71 1455.43 1537.07 Q1452.76 1536.44 1449.89 1536.44 Q1445.53 1536.44 1443.34 1537.77 Q1441.17 1539.11 1441.17 1541.79 Q1441.17 1543.82 1442.73 1545 Q1444.29 1546.15 1449 1547.2 L1451.01 1547.64 Q1457.25 1548.98 1459.86 1551.43 Q1462.5 1553.85 1462.5 1558.21 Q1462.5 1563.17 1458.55 1566.07 Q1454.64 1568.97 1447.76 1568.97 Q1444.9 1568.97 1441.78 1568.39 Q1438.69 1567.85 1435.25 1566.74 L1435.25 1560.69 Q1438.5 1562.38 1441.65 1563.24 Q1444.8 1564.07 1447.89 1564.07 Q1452.03 1564.07 1454.25 1562.66 Q1456.48 1561.23 1456.48 1558.65 Q1456.48 1556.27 1454.86 1554.99 Q1453.27 1553.72 1447.82 1552.54 L1445.79 1552.07 Q1440.35 1550.92 1437.93 1548.56 Q1435.51 1546.18 1435.51 1542.04 Q1435.51 1537.01 1439.07 1534.27 Q1442.64 1531.54 1449.19 1531.54 Q1452.44 1531.54 1455.3 1532.01 Q1458.17 1532.49 1460.59 1533.45 Z\" fill=\"#000000\" fill-rule=\"evenodd\" fill-opacity=\"1\" /><path clip-path=\"url(#clip480)\" d=\"M1477.62 1522.27 L1477.62 1532.4 L1489.68 1532.4 L1489.68 1536.95 L1477.62 1536.95 L1477.62 1556.3 Q1477.62 1560.66 1478.79 1561.9 Q1480 1563.14 1483.66 1563.14 L1489.68 1563.14 L1489.68 1568.04 L1483.66 1568.04 Q1476.88 1568.04 1474.31 1565.53 Q1471.73 1562.98 1471.73 1556.3 L1471.73 1536.95 L1467.43 1536.95 L1467.43 1532.4 L1471.73 1532.4 L1471.73 1522.27 L1477.62 1522.27 Z\" fill=\"#000000\" fill-rule=\"evenodd\" fill-opacity=\"1\" /><path clip-path=\"url(#clip480)\" d=\"M1527.87 1548.76 L1527.87 1551.62 L1500.95 1551.62 Q1501.33 1557.67 1504.58 1560.85 Q1507.85 1564 1513.68 1564 Q1517.05 1564 1520.2 1563.17 Q1523.39 1562.35 1526.51 1560.69 L1526.51 1566.23 Q1523.35 1567.57 1520.04 1568.27 Q1516.73 1568.97 1513.33 1568.97 Q1504.8 1568.97 1499.8 1564 Q1494.84 1559.04 1494.84 1550.57 Q1494.84 1541.82 1499.55 1536.69 Q1504.29 1531.54 1512.31 1531.54 Q1519.5 1531.54 1523.67 1536.18 Q1527.87 1540.8 1527.87 1548.76 M1522.02 1547.04 Q1521.95 1542.23 1519.31 1539.37 Q1516.7 1536.5 1512.37 1536.5 Q1507.47 1536.5 1504.51 1539.27 Q1501.58 1542.04 1501.14 1547.07 L1522.02 1547.04 Z\" fill=\"#000000\" fill-rule=\"evenodd\" fill-opacity=\"1\" /><path clip-path=\"url(#clip480)\" d=\"M1558.14 1537.87 Q1557.16 1537.3 1555.98 1537.04 Q1554.83 1536.76 1553.43 1536.76 Q1548.47 1536.76 1545.79 1540 Q1543.15 1543.22 1543.15 1549.27 L1543.15 1568.04 L1537.26 1568.04 L1537.26 1532.4 L1543.15 1532.4 L1543.15 1537.93 Q1545 1534.69 1547.96 1533.13 Q1550.92 1531.54 1555.15 1531.54 Q1555.76 1531.54 1556.49 1531.63 Q1557.22 1531.7 1558.11 1531.85 L1558.14 1537.87 Z\" fill=\"#000000\" fill-rule=\"evenodd\" fill-opacity=\"1\" /><path clip-path=\"url(#clip480)\" d=\"M1587.01 1533.45 L1587.01 1538.98 Q1584.53 1537.71 1581.85 1537.07 Q1579.18 1536.44 1576.32 1536.44 Q1571.96 1536.44 1569.76 1537.77 Q1567.6 1539.11 1567.6 1541.79 Q1567.6 1543.82 1569.16 1545 Q1570.71 1546.15 1575.43 1547.2 L1577.43 1547.64 Q1583.67 1548.98 1586.28 1551.43 Q1588.92 1553.85 1588.92 1558.21 Q1588.92 1563.17 1584.97 1566.07 Q1581.06 1568.97 1574.18 1568.97 Q1571.32 1568.97 1568.2 1568.39 Q1565.11 1567.85 1561.68 1566.74 L1561.68 1560.69 Q1564.92 1562.38 1568.07 1563.24 Q1571.22 1564.07 1574.31 1564.07 Q1578.45 1564.07 1580.68 1562.66 Q1582.91 1561.23 1582.91 1558.65 Q1582.91 1556.27 1581.28 1554.99 Q1579.69 1553.72 1574.25 1552.54 L1572.21 1552.07 Q1566.77 1550.92 1564.35 1548.56 Q1561.93 1546.18 1561.93 1542.04 Q1561.93 1537.01 1565.5 1534.27 Q1569.06 1531.54 1575.62 1531.54 Q1578.86 1531.54 1581.73 1532.01 Q1584.59 1532.49 1587.01 1533.45 Z\" fill=\"#000000\" fill-rule=\"evenodd\" fill-opacity=\"1\" /><polyline clip-path=\"url(#clip482)\" style=\"stroke:#000000; stroke-linecap:butt; stroke-linejoin:round; stroke-width:2; stroke-opacity:0.1; fill:none\" points=\"\n",
       "  219.866,1181.02 2352.76,1181.02 \n",
       "  \"/>\n",
       "<polyline clip-path=\"url(#clip482)\" style=\"stroke:#000000; stroke-linecap:butt; stroke-linejoin:round; stroke-width:2; stroke-opacity:0.1; fill:none\" points=\"\n",
       "  219.866,834.175 2352.76,834.175 \n",
       "  \"/>\n",
       "<polyline clip-path=\"url(#clip482)\" style=\"stroke:#000000; stroke-linecap:butt; stroke-linejoin:round; stroke-width:2; stroke-opacity:0.1; fill:none\" points=\"\n",
       "  219.866,487.332 2352.76,487.332 \n",
       "  \"/>\n",
       "<polyline clip-path=\"url(#clip482)\" style=\"stroke:#000000; stroke-linecap:butt; stroke-linejoin:round; stroke-width:2; stroke-opacity:0.1; fill:none\" points=\"\n",
       "  219.866,140.488 2352.76,140.488 \n",
       "  \"/>\n",
       "<polyline clip-path=\"url(#clip480)\" style=\"stroke:#000000; stroke-linecap:butt; stroke-linejoin:round; stroke-width:4; stroke-opacity:1; fill:none\" points=\"\n",
       "  219.866,1423.18 219.866,47.2441 \n",
       "  \"/>\n",
       "<polyline clip-path=\"url(#clip480)\" style=\"stroke:#000000; stroke-linecap:butt; stroke-linejoin:round; stroke-width:4; stroke-opacity:1; fill:none\" points=\"\n",
       "  219.866,1181.02 238.764,1181.02 \n",
       "  \"/>\n",
       "<polyline clip-path=\"url(#clip480)\" style=\"stroke:#000000; stroke-linecap:butt; stroke-linejoin:round; stroke-width:4; stroke-opacity:1; fill:none\" points=\"\n",
       "  219.866,834.175 238.764,834.175 \n",
       "  \"/>\n",
       "<polyline clip-path=\"url(#clip480)\" style=\"stroke:#000000; stroke-linecap:butt; stroke-linejoin:round; stroke-width:4; stroke-opacity:1; fill:none\" points=\"\n",
       "  219.866,487.332 238.764,487.332 \n",
       "  \"/>\n",
       "<polyline clip-path=\"url(#clip480)\" style=\"stroke:#000000; stroke-linecap:butt; stroke-linejoin:round; stroke-width:4; stroke-opacity:1; fill:none\" points=\"\n",
       "  219.866,140.488 238.764,140.488 \n",
       "  \"/>\n",
       "<path clip-path=\"url(#clip480)\" d=\"M128.288 1166.82 Q124.677 1166.82 122.848 1170.38 Q121.043 1173.92 121.043 1181.05 Q121.043 1188.16 122.848 1191.73 Q124.677 1195.27 128.288 1195.27 Q131.922 1195.27 133.728 1191.73 Q135.556 1188.16 135.556 1181.05 Q135.556 1173.92 133.728 1170.38 Q131.922 1166.82 128.288 1166.82 M128.288 1163.11 Q134.098 1163.11 137.154 1167.72 Q140.232 1172.3 140.232 1181.05 Q140.232 1189.78 137.154 1194.39 Q134.098 1198.97 128.288 1198.97 Q122.478 1198.97 119.399 1194.39 Q116.343 1189.78 116.343 1181.05 Q116.343 1172.3 119.399 1167.72 Q122.478 1163.11 128.288 1163.11 Z\" fill=\"#000000\" fill-rule=\"evenodd\" fill-opacity=\"1\" /><path clip-path=\"url(#clip480)\" d=\"M148.45 1192.42 L153.334 1192.42 L153.334 1198.3 L148.45 1198.3 L148.45 1192.42 Z\" fill=\"#000000\" fill-rule=\"evenodd\" fill-opacity=\"1\" /><path clip-path=\"url(#clip480)\" d=\"M167.547 1194.36 L183.866 1194.36 L183.866 1198.3 L161.922 1198.3 L161.922 1194.36 Q164.584 1191.61 169.167 1186.98 Q173.774 1182.33 174.954 1180.98 Q177.2 1178.46 178.079 1176.73 Q178.982 1174.97 178.982 1173.28 Q178.982 1170.52 177.038 1168.79 Q175.116 1167.05 172.014 1167.05 Q169.815 1167.05 167.362 1167.81 Q164.931 1168.58 162.153 1170.13 L162.153 1165.41 Q164.977 1164.27 167.431 1163.69 Q169.885 1163.11 171.922 1163.11 Q177.292 1163.11 180.487 1165.8 Q183.681 1168.48 183.681 1172.98 Q183.681 1175.11 182.871 1177.03 Q182.084 1178.92 179.977 1181.52 Q179.399 1182.19 176.297 1185.41 Q173.195 1188.6 167.547 1194.36 Z\" fill=\"#000000\" fill-rule=\"evenodd\" fill-opacity=\"1\" /><path clip-path=\"url(#clip480)\" d=\"M126.205 819.974 Q122.593 819.974 120.765 823.539 Q118.959 827.081 118.959 834.21 Q118.959 841.317 120.765 844.881 Q122.593 848.423 126.205 848.423 Q129.839 848.423 131.644 844.881 Q133.473 841.317 133.473 834.21 Q133.473 827.081 131.644 823.539 Q129.839 819.974 126.205 819.974 M126.205 816.27 Q132.015 816.27 135.07 820.877 Q138.149 825.46 138.149 834.21 Q138.149 842.937 135.07 847.543 Q132.015 852.127 126.205 852.127 Q120.394 852.127 117.316 847.543 Q114.26 842.937 114.26 834.21 Q114.26 825.46 117.316 820.877 Q120.394 816.27 126.205 816.27 Z\" fill=\"#000000\" fill-rule=\"evenodd\" fill-opacity=\"1\" /><path clip-path=\"url(#clip480)\" d=\"M146.366 845.576 L151.251 845.576 L151.251 851.455 L146.366 851.455 L146.366 845.576 Z\" fill=\"#000000\" fill-rule=\"evenodd\" fill-opacity=\"1\" /><path clip-path=\"url(#clip480)\" d=\"M174.283 820.97 L162.477 839.419 L174.283 839.419 L174.283 820.97 M173.056 816.895 L178.936 816.895 L178.936 839.419 L183.866 839.419 L183.866 843.307 L178.936 843.307 L178.936 851.455 L174.283 851.455 L174.283 843.307 L158.681 843.307 L158.681 838.794 L173.056 816.895 Z\" fill=\"#000000\" fill-rule=\"evenodd\" fill-opacity=\"1\" /><path clip-path=\"url(#clip480)\" d=\"M126.529 473.13 Q122.918 473.13 121.089 476.695 Q119.283 480.237 119.283 487.366 Q119.283 494.473 121.089 498.038 Q122.918 501.579 126.529 501.579 Q130.163 501.579 131.968 498.038 Q133.797 494.473 133.797 487.366 Q133.797 480.237 131.968 476.695 Q130.163 473.13 126.529 473.13 M126.529 469.427 Q132.339 469.427 135.394 474.033 Q138.473 478.616 138.473 487.366 Q138.473 496.093 135.394 500.7 Q132.339 505.283 126.529 505.283 Q120.718 505.283 117.64 500.7 Q114.584 496.093 114.584 487.366 Q114.584 478.616 117.64 474.033 Q120.718 469.427 126.529 469.427 Z\" fill=\"#000000\" fill-rule=\"evenodd\" fill-opacity=\"1\" /><path clip-path=\"url(#clip480)\" d=\"M146.691 498.732 L151.575 498.732 L151.575 504.612 L146.691 504.612 L146.691 498.732 Z\" fill=\"#000000\" fill-rule=\"evenodd\" fill-opacity=\"1\" /><path clip-path=\"url(#clip480)\" d=\"M172.339 485.468 Q169.19 485.468 167.339 487.621 Q165.51 489.774 165.51 493.524 Q165.51 497.25 167.339 499.426 Q169.19 501.579 172.339 501.579 Q175.487 501.579 177.315 499.426 Q179.167 497.25 179.167 493.524 Q179.167 489.774 177.315 487.621 Q175.487 485.468 172.339 485.468 M181.621 470.815 L181.621 475.075 Q179.862 474.241 178.056 473.802 Q176.274 473.362 174.514 473.362 Q169.885 473.362 167.431 476.487 Q165.001 479.612 164.653 485.931 Q166.019 483.917 168.079 482.852 Q170.139 481.764 172.616 481.764 Q177.825 481.764 180.834 484.936 Q183.866 488.084 183.866 493.524 Q183.866 498.848 180.718 502.065 Q177.57 505.283 172.339 505.283 Q166.343 505.283 163.172 500.7 Q160.001 496.093 160.001 487.366 Q160.001 479.172 163.89 474.311 Q167.778 469.427 174.329 469.427 Q176.089 469.427 177.871 469.774 Q179.676 470.121 181.621 470.815 Z\" fill=\"#000000\" fill-rule=\"evenodd\" fill-opacity=\"1\" /><path clip-path=\"url(#clip480)\" d=\"M126.783 126.286 Q123.172 126.286 121.343 129.851 Q119.538 133.393 119.538 140.522 Q119.538 147.629 121.343 151.194 Q123.172 154.735 126.783 154.735 Q130.417 154.735 132.223 151.194 Q134.052 147.629 134.052 140.522 Q134.052 133.393 132.223 129.851 Q130.417 126.286 126.783 126.286 M126.783 122.583 Q132.593 122.583 135.649 127.189 Q138.728 131.772 138.728 140.522 Q138.728 149.249 135.649 153.856 Q132.593 158.439 126.783 158.439 Q120.973 158.439 117.894 153.856 Q114.839 149.249 114.839 140.522 Q114.839 131.772 117.894 127.189 Q120.973 122.583 126.783 122.583 Z\" fill=\"#000000\" fill-rule=\"evenodd\" fill-opacity=\"1\" /><path clip-path=\"url(#clip480)\" d=\"M146.945 151.888 L151.829 151.888 L151.829 157.768 L146.945 157.768 L146.945 151.888 Z\" fill=\"#000000\" fill-rule=\"evenodd\" fill-opacity=\"1\" /><path clip-path=\"url(#clip480)\" d=\"M172.014 141.356 Q168.681 141.356 166.76 143.138 Q164.862 144.92 164.862 148.045 Q164.862 151.17 166.76 152.953 Q168.681 154.735 172.014 154.735 Q175.348 154.735 177.269 152.953 Q179.19 151.147 179.19 148.045 Q179.19 144.92 177.269 143.138 Q175.371 141.356 172.014 141.356 M167.339 139.365 Q164.329 138.624 162.64 136.564 Q160.973 134.504 160.973 131.541 Q160.973 127.397 163.913 124.99 Q166.876 122.583 172.014 122.583 Q177.176 122.583 180.116 124.99 Q183.056 127.397 183.056 131.541 Q183.056 134.504 181.366 136.564 Q179.7 138.624 176.714 139.365 Q180.093 140.152 181.968 142.444 Q183.866 144.735 183.866 148.045 Q183.866 153.069 180.788 155.754 Q177.732 158.439 172.014 158.439 Q166.297 158.439 163.218 155.754 Q160.163 153.069 160.163 148.045 Q160.163 144.735 162.061 142.444 Q163.959 140.152 167.339 139.365 M165.626 131.981 Q165.626 134.666 167.292 136.171 Q168.982 137.675 172.014 137.675 Q175.024 137.675 176.714 136.171 Q178.426 134.666 178.426 131.981 Q178.426 129.296 176.714 127.791 Q175.024 126.286 172.014 126.286 Q168.982 126.286 167.292 127.791 Q165.626 129.296 165.626 131.981 Z\" fill=\"#000000\" fill-rule=\"evenodd\" fill-opacity=\"1\" /><path clip-path=\"url(#clip480)\" d=\"M29.4065 966.319 L34.9447 966.319 Q33.6716 968.802 33.035 971.475 Q32.3984 974.149 32.3984 977.013 Q32.3984 981.374 33.7352 983.57 Q35.072 985.734 37.7456 985.734 Q39.7826 985.734 40.9603 984.175 Q42.1061 982.615 43.1565 977.905 L43.6021 975.899 Q44.9389 969.661 47.3897 967.051 Q49.8086 964.409 54.1691 964.409 Q59.1344 964.409 62.0308 968.356 Q64.9272 972.271 64.9272 979.146 Q64.9272 982.01 64.3543 985.13 Q63.8132 988.217 62.6992 991.654 L56.6518 991.654 Q58.3387 988.408 59.198 985.257 Q60.0256 982.106 60.0256 979.019 Q60.0256 974.881 58.6251 972.653 Q57.1929 970.425 54.6147 970.425 Q52.2276 970.425 50.9545 972.048 Q49.6813 973.64 48.5037 979.082 L48.0262 981.119 Q46.8804 986.562 44.5251 988.981 Q42.138 991.4 38.0002 991.4 Q32.9713 991.4 30.2341 987.835 Q27.4968 984.27 27.4968 977.714 Q27.4968 974.467 27.9743 971.602 Q28.4517 968.738 29.4065 966.319 Z\" fill=\"#000000\" fill-rule=\"evenodd\" fill-opacity=\"1\" /><path clip-path=\"url(#clip480)\" d=\"M28.3562 955.083 L28.3562 949.227 L64.0042 949.227 L64.0042 955.083 L28.3562 955.083 M14.479 955.083 L14.479 949.227 L21.895 949.227 L21.895 955.083 L14.479 955.083 Z\" fill=\"#000000\" fill-rule=\"evenodd\" fill-opacity=\"1\" /><path clip-path=\"url(#clip480)\" d=\"M14.479 936.973 L14.479 931.117 L64.0042 931.117 L64.0042 936.973 L14.479 936.973 Z\" fill=\"#000000\" fill-rule=\"evenodd\" fill-opacity=\"1\" /><path clip-path=\"url(#clip480)\" d=\"M42.4881 889.23 L64.0042 889.23 L64.0042 895.087 L42.679 895.087 Q37.6183 895.087 35.1038 897.06 Q32.5894 899.033 32.5894 902.98 Q32.5894 907.723 35.6131 910.46 Q38.6368 913.197 43.8567 913.197 L64.0042 913.197 L64.0042 919.085 L14.479 919.085 L14.479 913.197 L33.8944 913.197 Q30.6797 911.096 29.0883 908.264 Q27.4968 905.399 27.4968 901.675 Q27.4968 895.532 31.3163 892.381 Q35.1038 889.23 42.4881 889.23 Z\" fill=\"#000000\" fill-rule=\"evenodd\" fill-opacity=\"1\" /><path clip-path=\"url(#clip480)\" d=\"M32.4621 863.736 Q32.4621 868.446 36.1542 871.183 Q39.8145 873.921 46.212 873.921 Q52.6095 873.921 56.3017 871.215 Q59.9619 868.478 59.9619 863.736 Q59.9619 859.057 56.2698 856.32 Q52.5777 853.582 46.212 853.582 Q39.8781 853.582 36.186 856.32 Q32.4621 859.057 32.4621 863.736 M27.4968 863.736 Q27.4968 856.097 32.4621 851.736 Q37.4273 847.376 46.212 847.376 Q54.9649 847.376 59.9619 851.736 Q64.9272 856.097 64.9272 863.736 Q64.9272 871.406 59.9619 875.767 Q54.9649 880.095 46.212 880.095 Q37.4273 880.095 32.4621 875.767 Q27.4968 871.406 27.4968 863.736 Z\" fill=\"#000000\" fill-rule=\"evenodd\" fill-opacity=\"1\" /><path clip-path=\"url(#clip480)\" d=\"M49.9359 838.273 L28.3562 838.273 L28.3562 832.416 L49.7131 832.416 Q54.7739 832.416 57.3202 830.443 Q59.8346 828.47 59.8346 824.523 Q59.8346 819.78 56.8109 817.043 Q53.7872 814.274 48.5673 814.274 L28.3562 814.274 L28.3562 808.418 L64.0042 808.418 L64.0042 814.274 L58.5296 814.274 Q61.7762 816.407 63.3676 819.239 Q64.9272 822.04 64.9272 825.764 Q64.9272 831.907 61.1078 835.09 Q57.2883 838.273 49.9359 838.273 M27.4968 823.536 L27.4968 823.536 Z\" fill=\"#000000\" fill-rule=\"evenodd\" fill-opacity=\"1\" /><path clip-path=\"url(#clip480)\" d=\"M44.7161 765.863 L47.5806 765.863 L47.5806 792.79 Q53.6281 792.408 56.8109 789.161 Q59.9619 785.883 59.9619 780.058 Q59.9619 776.685 59.1344 773.534 Q58.3069 770.351 56.6518 767.231 L62.1899 767.231 Q63.5267 770.382 64.227 773.693 Q64.9272 777.003 64.9272 780.408 Q64.9272 788.939 59.9619 793.936 Q54.9967 798.901 46.5303 798.901 Q37.7774 798.901 32.6531 794.19 Q27.4968 789.448 27.4968 781.427 Q27.4968 774.234 32.1438 770.064 Q36.7589 765.863 44.7161 765.863 M42.9973 771.719 Q38.1912 771.783 35.3266 774.425 Q32.4621 777.035 32.4621 781.363 Q32.4621 786.265 35.2312 789.225 Q38.0002 792.153 43.0292 792.599 L42.9973 771.719 Z\" fill=\"#000000\" fill-rule=\"evenodd\" fill-opacity=\"1\" /><path clip-path=\"url(#clip480)\" d=\"M18.2347 750.458 L28.3562 750.458 L28.3562 738.395 L32.9077 738.395 L32.9077 750.458 L52.2594 750.458 Q56.6199 750.458 57.8613 749.28 Q59.1026 748.071 59.1026 744.41 L59.1026 738.395 L64.0042 738.395 L64.0042 744.41 Q64.0042 751.19 61.4897 753.768 Q58.9434 756.346 52.2594 756.346 L32.9077 756.346 L32.9077 760.643 L28.3562 760.643 L28.3562 756.346 L18.2347 756.346 L18.2347 750.458 Z\" fill=\"#000000\" fill-rule=\"evenodd\" fill-opacity=\"1\" /><path clip-path=\"url(#clip480)\" d=\"M18.2347 724.9 L28.3562 724.9 L28.3562 712.837 L32.9077 712.837 L32.9077 724.9 L52.2594 724.9 Q56.6199 724.9 57.8613 723.722 Q59.1026 722.512 59.1026 718.852 L59.1026 712.837 L64.0042 712.837 L64.0042 718.852 Q64.0042 725.632 61.4897 728.21 Q58.9434 730.788 52.2594 730.788 L32.9077 730.788 L32.9077 735.085 L28.3562 735.085 L28.3562 730.788 L18.2347 730.788 L18.2347 724.9 Z\" fill=\"#000000\" fill-rule=\"evenodd\" fill-opacity=\"1\" /><path clip-path=\"url(#clip480)\" d=\"M44.7161 674.642 L47.5806 674.642 L47.5806 701.569 Q53.6281 701.187 56.8109 697.941 Q59.9619 694.662 59.9619 688.838 Q59.9619 685.464 59.1344 682.313 Q58.3069 679.13 56.6518 676.011 L62.1899 676.011 Q63.5267 679.162 64.227 682.472 Q64.9272 685.782 64.9272 689.188 Q64.9272 697.718 59.9619 702.715 Q54.9967 707.68 46.5303 707.68 Q37.7774 707.68 32.6531 702.97 Q27.4968 698.227 27.4968 690.206 Q27.4968 683.013 32.1438 678.844 Q36.7589 674.642 44.7161 674.642 M42.9973 680.499 Q38.1912 680.562 35.3266 683.204 Q32.4621 685.814 32.4621 690.143 Q32.4621 695.044 35.2312 698.004 Q38.0002 700.933 43.0292 701.378 L42.9973 680.499 Z\" fill=\"#000000\" fill-rule=\"evenodd\" fill-opacity=\"1\" /><path clip-path=\"url(#clip480)\" d=\"M29.4065 621.584 L34.9447 621.584 Q33.6716 624.067 33.035 626.74 Q32.3984 629.414 32.3984 632.278 Q32.3984 636.639 33.7352 638.835 Q35.072 641 37.7456 641 Q39.7826 641 40.9603 639.44 Q42.1061 637.88 43.1565 633.17 L43.6021 631.164 Q44.9389 624.926 47.3897 622.316 Q49.8086 619.674 54.1691 619.674 Q59.1344 619.674 62.0308 623.621 Q64.9272 627.536 64.9272 634.411 Q64.9272 637.276 64.3543 640.395 Q63.8132 643.482 62.6992 646.92 L56.6518 646.92 Q58.3387 643.673 59.198 640.522 Q60.0256 637.371 60.0256 634.284 Q60.0256 630.146 58.6251 627.918 Q57.1929 625.69 54.6147 625.69 Q52.2276 625.69 50.9545 627.313 Q49.6813 628.905 48.5037 634.347 L48.0262 636.384 Q46.8804 641.827 44.5251 644.246 Q42.138 646.665 38.0002 646.665 Q32.9713 646.665 30.2341 643.1 Q27.4968 639.535 27.4968 632.979 Q27.4968 629.732 27.9743 626.868 Q28.4517 624.003 29.4065 621.584 Z\" fill=\"#000000\" fill-rule=\"evenodd\" fill-opacity=\"1\" /><path clip-path=\"url(#clip480)\" d=\"M29.7248 584.695 L35.1993 584.695 Q33.8307 587.177 33.1623 589.692 Q32.4621 592.175 32.4621 594.721 Q32.4621 600.418 36.0905 603.569 Q39.6872 606.72 46.212 606.72 Q52.7369 606.72 56.3653 603.569 Q59.9619 600.418 59.9619 594.721 Q59.9619 592.175 59.2935 589.692 Q58.5933 587.177 57.2247 584.695 L62.6355 584.695 Q63.7814 587.146 64.3543 589.787 Q64.9272 592.397 64.9272 595.357 Q64.9272 603.41 59.8664 608.152 Q54.8057 612.895 46.212 612.895 Q37.491 612.895 32.4939 608.121 Q27.4968 603.315 27.4968 594.975 Q27.4968 592.27 28.0697 589.692 Q28.6108 587.114 29.7248 584.695 Z\" fill=\"#000000\" fill-rule=\"evenodd\" fill-opacity=\"1\" /><path clip-path=\"url(#clip480)\" d=\"M32.4621 560.696 Q32.4621 565.407 36.1542 568.144 Q39.8145 570.881 46.212 570.881 Q52.6095 570.881 56.3017 568.176 Q59.9619 565.439 59.9619 560.696 Q59.9619 556.017 56.2698 553.28 Q52.5777 550.543 46.212 550.543 Q39.8781 550.543 36.186 553.28 Q32.4621 556.017 32.4621 560.696 M27.4968 560.696 Q27.4968 553.057 32.4621 548.697 Q37.4273 544.336 46.212 544.336 Q54.9649 544.336 59.9619 548.697 Q64.9272 553.057 64.9272 560.696 Q64.9272 568.367 59.9619 572.727 Q54.9649 577.056 46.212 577.056 Q37.4273 577.056 32.4621 572.727 Q27.4968 568.367 27.4968 560.696 Z\" fill=\"#000000\" fill-rule=\"evenodd\" fill-opacity=\"1\" /><path clip-path=\"url(#clip480)\" d=\"M33.8307 513.972 Q33.2578 514.959 33.0032 516.136 Q32.7167 517.282 32.7167 518.682 Q32.7167 523.648 35.9632 526.321 Q39.1779 528.963 45.2253 528.963 L64.0042 528.963 L64.0042 534.851 L28.3562 534.851 L28.3562 528.963 L33.8944 528.963 Q30.6479 527.117 29.0883 524.157 Q27.4968 521.197 27.4968 516.964 Q27.4968 516.359 27.5923 515.627 Q27.656 514.895 27.8151 514.004 L33.8307 513.972 Z\" fill=\"#000000\" fill-rule=\"evenodd\" fill-opacity=\"1\" /><path clip-path=\"url(#clip480)\" d=\"M44.7161 478.769 L47.5806 478.769 L47.5806 505.696 Q53.6281 505.314 56.8109 502.068 Q59.9619 498.79 59.9619 492.965 Q59.9619 489.591 59.1344 486.44 Q58.3069 483.257 56.6518 480.138 L62.1899 480.138 Q63.5267 483.289 64.227 486.599 Q64.9272 489.909 64.9272 493.315 Q64.9272 501.845 59.9619 506.842 Q54.9967 511.807 46.5303 511.807 Q37.7774 511.807 32.6531 507.097 Q27.4968 502.354 27.4968 494.334 Q27.4968 487.14 32.1438 482.971 Q36.7589 478.769 44.7161 478.769 M42.9973 484.626 Q38.1912 484.69 35.3266 487.331 Q32.4621 489.941 32.4621 494.27 Q32.4621 499.172 35.2312 502.132 Q38.0002 505.06 43.0292 505.505 L42.9973 484.626 Z\" fill=\"#000000\" fill-rule=\"evenodd\" fill-opacity=\"1\" /><polyline clip-path=\"url(#clip482)\" style=\"stroke:#009af9; stroke-linecap:butt; stroke-linejoin:round; stroke-width:4; stroke-opacity:1; fill:none\" points=\"\n",
       "  280.231,86.1857 414.375,370.095 682.663,571.776 950.951,725.196 1487.53,1041.03 1755.82,1208.85 2292.39,1384.24 \n",
       "  \"/>\n",
       "<path clip-path=\"url(#clip480)\" d=\"\n",
       "M1671.66 196.789 L2281.66 196.789 L2281.66 93.1086 L1671.66 93.1086  Z\n",
       "  \" fill=\"#ffffff\" fill-rule=\"evenodd\" fill-opacity=\"1\"/>\n",
       "<polyline clip-path=\"url(#clip480)\" style=\"stroke:#000000; stroke-linecap:butt; stroke-linejoin:round; stroke-width:4; stroke-opacity:1; fill:none\" points=\"\n",
       "  1671.66,196.789 2281.66,196.789 2281.66,93.1086 1671.66,93.1086 1671.66,196.789 \n",
       "  \"/>\n",
       "<polyline clip-path=\"url(#clip480)\" style=\"stroke:#009af9; stroke-linecap:butt; stroke-linejoin:round; stroke-width:4; stroke-opacity:1; fill:none\" points=\"\n",
       "  1695.36,144.949 1837.56,144.949 \n",
       "  \"/>\n",
       "<path clip-path=\"url(#clip480)\" d=\"M1879.68 137.067 L1879.68 141.094 Q1877.88 140.169 1875.93 139.706 Q1873.99 139.243 1871.9 139.243 Q1868.73 139.243 1867.13 140.215 Q1865.56 141.187 1865.56 143.131 Q1865.56 144.613 1866.69 145.469 Q1867.83 146.303 1871.25 147.067 L1872.71 147.391 Q1877.25 148.363 1879.15 150.145 Q1881.07 151.905 1881.07 155.076 Q1881.07 158.687 1878.2 160.793 Q1875.35 162.9 1870.35 162.9 Q1868.27 162.9 1866 162.483 Q1863.75 162.09 1861.25 161.28 L1861.25 156.881 Q1863.62 158.108 1865.91 158.733 Q1868.2 159.335 1870.44 159.335 Q1873.45 159.335 1875.07 158.317 Q1876.69 157.275 1876.69 155.4 Q1876.69 153.664 1875.51 152.738 Q1874.36 151.812 1870.4 150.956 L1868.92 150.608 Q1864.96 149.775 1863.2 148.062 Q1861.44 146.326 1861.44 143.317 Q1861.44 139.659 1864.03 137.669 Q1866.63 135.678 1871.39 135.678 Q1873.75 135.678 1875.84 136.025 Q1877.92 136.372 1879.68 137.067 Z\" fill=\"#000000\" fill-rule=\"evenodd\" fill-opacity=\"1\" /><path clip-path=\"url(#clip480)\" d=\"M1887.85 136.303 L1892.11 136.303 L1892.11 162.229 L1887.85 162.229 L1887.85 136.303 M1887.85 126.21 L1892.11 126.21 L1892.11 131.604 L1887.85 131.604 L1887.85 126.21 Z\" fill=\"#000000\" fill-rule=\"evenodd\" fill-opacity=\"1\" /><path clip-path=\"url(#clip480)\" d=\"M1901.02 126.21 L1905.28 126.21 L1905.28 162.229 L1901.02 162.229 L1901.02 126.21 Z\" fill=\"#000000\" fill-rule=\"evenodd\" fill-opacity=\"1\" /><path clip-path=\"url(#clip480)\" d=\"M1935.75 146.581 L1935.75 162.229 L1931.49 162.229 L1931.49 146.719 Q1931.49 143.039 1930.05 141.21 Q1928.62 139.382 1925.75 139.382 Q1922.3 139.382 1920.31 141.581 Q1918.31 143.78 1918.31 147.576 L1918.31 162.229 L1914.03 162.229 L1914.03 126.21 L1918.31 126.21 L1918.31 140.331 Q1919.84 137.993 1921.9 136.835 Q1923.99 135.678 1926.69 135.678 Q1931.16 135.678 1933.45 138.456 Q1935.75 141.21 1935.75 146.581 Z\" fill=\"#000000\" fill-rule=\"evenodd\" fill-opacity=\"1\" /><path clip-path=\"url(#clip480)\" d=\"M1954.29 139.289 Q1950.86 139.289 1948.87 141.974 Q1946.88 144.636 1946.88 149.289 Q1946.88 153.942 1948.85 156.627 Q1950.84 159.289 1954.29 159.289 Q1957.69 159.289 1959.68 156.604 Q1961.67 153.918 1961.67 149.289 Q1961.67 144.682 1959.68 141.997 Q1957.69 139.289 1954.29 139.289 M1954.29 135.678 Q1959.84 135.678 1963.01 139.289 Q1966.18 142.9 1966.18 149.289 Q1966.18 155.655 1963.01 159.289 Q1959.84 162.9 1954.29 162.9 Q1948.71 162.9 1945.54 159.289 Q1942.39 155.655 1942.39 149.289 Q1942.39 142.9 1945.54 139.289 Q1948.71 135.678 1954.29 135.678 Z\" fill=\"#000000\" fill-rule=\"evenodd\" fill-opacity=\"1\" /><path clip-path=\"url(#clip480)\" d=\"M1972.81 151.997 L1972.81 136.303 L1977.06 136.303 L1977.06 151.835 Q1977.06 155.516 1978.5 157.368 Q1979.93 159.196 1982.81 159.196 Q1986.25 159.196 1988.24 156.997 Q1990.26 154.798 1990.26 151.002 L1990.26 136.303 L1994.52 136.303 L1994.52 162.229 L1990.26 162.229 L1990.26 158.247 Q1988.71 160.608 1986.65 161.766 Q1984.61 162.9 1981.9 162.9 Q1977.43 162.9 1975.12 160.122 Q1972.81 157.344 1972.81 151.997 M1983.52 135.678 L1983.52 135.678 Z\" fill=\"#000000\" fill-rule=\"evenodd\" fill-opacity=\"1\" /><path clip-path=\"url(#clip480)\" d=\"M2025.47 148.201 L2025.47 150.284 L2005.88 150.284 Q2006.16 154.682 2008.52 156.997 Q2010.91 159.289 2015.14 159.289 Q2017.6 159.289 2019.89 158.687 Q2022.2 158.085 2024.47 156.881 L2024.47 160.909 Q2022.18 161.881 2019.77 162.391 Q2017.37 162.9 2014.89 162.9 Q2008.68 162.9 2005.05 159.289 Q2001.44 155.678 2001.44 149.52 Q2001.44 143.155 2004.87 139.428 Q2008.31 135.678 2014.15 135.678 Q2019.38 135.678 2022.41 139.057 Q2025.47 142.414 2025.47 148.201 M2021.21 146.951 Q2021.16 143.456 2019.24 141.372 Q2017.34 139.289 2014.19 139.289 Q2010.63 139.289 2008.48 141.303 Q2006.35 143.317 2006.02 146.974 L2021.21 146.951 Z\" fill=\"#000000\" fill-rule=\"evenodd\" fill-opacity=\"1\" /><path clip-path=\"url(#clip480)\" d=\"M2036.67 128.942 L2036.67 136.303 L2045.44 136.303 L2045.44 139.613 L2036.67 139.613 L2036.67 153.687 Q2036.67 156.858 2037.53 157.761 Q2038.41 158.664 2041.07 158.664 L2045.44 158.664 L2045.44 162.229 L2041.07 162.229 Q2036.14 162.229 2034.26 160.4 Q2032.39 158.548 2032.39 153.687 L2032.39 139.613 L2029.26 139.613 L2029.26 136.303 L2032.39 136.303 L2032.39 128.942 L2036.67 128.942 Z\" fill=\"#000000\" fill-rule=\"evenodd\" fill-opacity=\"1\" /><path clip-path=\"url(#clip480)\" d=\"M2055.26 128.942 L2055.26 136.303 L2064.03 136.303 L2064.03 139.613 L2055.26 139.613 L2055.26 153.687 Q2055.26 156.858 2056.11 157.761 Q2056.99 158.664 2059.66 158.664 L2064.03 158.664 L2064.03 162.229 L2059.66 162.229 Q2054.73 162.229 2052.85 160.4 Q2050.98 158.548 2050.98 153.687 L2050.98 139.613 L2047.85 139.613 L2047.85 136.303 L2050.98 136.303 L2050.98 128.942 L2055.26 128.942 Z\" fill=\"#000000\" fill-rule=\"evenodd\" fill-opacity=\"1\" /><path clip-path=\"url(#clip480)\" d=\"M2091.81 148.201 L2091.81 150.284 L2072.23 150.284 Q2072.5 154.682 2074.86 156.997 Q2077.25 159.289 2081.49 159.289 Q2083.94 159.289 2086.23 158.687 Q2088.55 158.085 2090.81 156.881 L2090.81 160.909 Q2088.52 161.881 2086.11 162.391 Q2083.71 162.9 2081.23 162.9 Q2075.03 162.9 2071.39 159.289 Q2067.78 155.678 2067.78 149.52 Q2067.78 143.155 2071.21 139.428 Q2074.66 135.678 2080.49 135.678 Q2085.72 135.678 2088.75 139.057 Q2091.81 142.414 2091.81 148.201 M2087.55 146.951 Q2087.5 143.456 2085.58 141.372 Q2083.68 139.289 2080.54 139.289 Q2076.97 139.289 2074.82 141.303 Q2072.69 143.317 2072.36 146.974 L2087.55 146.951 Z\" fill=\"#000000\" fill-rule=\"evenodd\" fill-opacity=\"1\" /><path clip-path=\"url(#clip480)\" d=\"M2130.4 137.067 L2130.4 141.094 Q2128.59 140.169 2126.65 139.706 Q2124.7 139.243 2122.62 139.243 Q2119.45 139.243 2117.85 140.215 Q2116.28 141.187 2116.28 143.131 Q2116.28 144.613 2117.41 145.469 Q2118.55 146.303 2121.97 147.067 L2123.43 147.391 Q2127.97 148.363 2129.86 150.145 Q2131.79 151.905 2131.79 155.076 Q2131.79 158.687 2128.92 160.793 Q2126.07 162.9 2121.07 162.9 Q2118.98 162.9 2116.72 162.483 Q2114.47 162.09 2111.97 161.28 L2111.97 156.881 Q2114.33 158.108 2116.62 158.733 Q2118.92 159.335 2121.16 159.335 Q2124.17 159.335 2125.79 158.317 Q2127.41 157.275 2127.41 155.4 Q2127.41 153.664 2126.23 152.738 Q2125.07 151.812 2121.11 150.956 L2119.63 150.608 Q2115.67 149.775 2113.92 148.062 Q2112.16 146.326 2112.16 143.317 Q2112.16 139.659 2114.75 137.669 Q2117.34 135.678 2122.11 135.678 Q2124.47 135.678 2126.55 136.025 Q2128.64 136.372 2130.4 137.067 Z\" fill=\"#000000\" fill-rule=\"evenodd\" fill-opacity=\"1\" /><path clip-path=\"url(#clip480)\" d=\"M2157.23 137.298 L2157.23 141.28 Q2155.42 140.284 2153.59 139.798 Q2151.79 139.289 2149.93 139.289 Q2145.79 139.289 2143.5 141.928 Q2141.21 144.544 2141.21 149.289 Q2141.21 154.034 2143.5 156.673 Q2145.79 159.289 2149.93 159.289 Q2151.79 159.289 2153.59 158.803 Q2155.42 158.293 2157.23 157.298 L2157.23 161.233 Q2155.44 162.067 2153.52 162.483 Q2151.62 162.9 2149.47 162.9 Q2143.61 162.9 2140.17 159.219 Q2136.72 155.539 2136.72 149.289 Q2136.72 142.946 2140.19 139.312 Q2143.68 135.678 2149.75 135.678 Q2151.72 135.678 2153.59 136.095 Q2155.47 136.488 2157.23 137.298 Z\" fill=\"#000000\" fill-rule=\"evenodd\" fill-opacity=\"1\" /><path clip-path=\"url(#clip480)\" d=\"M2174.68 139.289 Q2171.25 139.289 2169.26 141.974 Q2167.27 144.636 2167.27 149.289 Q2167.27 153.942 2169.24 156.627 Q2171.23 159.289 2174.68 159.289 Q2178.08 159.289 2180.07 156.604 Q2182.06 153.918 2182.06 149.289 Q2182.06 144.682 2180.07 141.997 Q2178.08 139.289 2174.68 139.289 M2174.68 135.678 Q2180.23 135.678 2183.41 139.289 Q2186.58 142.9 2186.58 149.289 Q2186.58 155.655 2183.41 159.289 Q2180.23 162.9 2174.68 162.9 Q2169.1 162.9 2165.93 159.289 Q2162.78 155.655 2162.78 149.289 Q2162.78 142.9 2165.93 139.289 Q2169.1 135.678 2174.68 135.678 Z\" fill=\"#000000\" fill-rule=\"evenodd\" fill-opacity=\"1\" /><path clip-path=\"url(#clip480)\" d=\"M2208.66 140.284 Q2207.94 139.868 2207.09 139.682 Q2206.25 139.474 2205.23 139.474 Q2201.62 139.474 2199.68 141.835 Q2197.76 144.173 2197.76 148.571 L2197.76 162.229 L2193.48 162.229 L2193.48 136.303 L2197.76 136.303 L2197.76 140.331 Q2199.1 137.969 2201.25 136.835 Q2203.41 135.678 2206.48 135.678 Q2206.92 135.678 2207.46 135.747 Q2207.99 135.794 2208.64 135.909 L2208.66 140.284 Z\" fill=\"#000000\" fill-rule=\"evenodd\" fill-opacity=\"1\" /><path clip-path=\"url(#clip480)\" d=\"M2234.26 148.201 L2234.26 150.284 L2214.68 150.284 Q2214.96 154.682 2217.32 156.997 Q2219.7 159.289 2223.94 159.289 Q2226.39 159.289 2228.68 158.687 Q2231 158.085 2233.27 156.881 L2233.27 160.909 Q2230.98 161.881 2228.57 162.391 Q2226.16 162.9 2223.68 162.9 Q2217.48 162.9 2213.85 159.289 Q2210.23 155.678 2210.23 149.52 Q2210.23 143.155 2213.66 139.428 Q2217.11 135.678 2222.94 135.678 Q2228.17 135.678 2231.21 139.057 Q2234.26 142.414 2234.26 148.201 M2230 146.951 Q2229.96 143.456 2228.04 141.372 Q2226.14 139.289 2222.99 139.289 Q2219.42 139.289 2217.27 141.303 Q2215.14 143.317 2214.82 146.974 L2230 146.951 Z\" fill=\"#000000\" fill-rule=\"evenodd\" fill-opacity=\"1\" /></svg>\n"
      ]
     },
     "execution_count": 161,
     "metadata": {},
     "output_type": "execute_result"
    }
   ],
   "source": [
    "StatsPlots.plot(ks, ys, label=\"silhouette score\", ylabel = \"silhouette score\", xlabel = \"number of clusters\")"
   ]
  },
  {
   "cell_type": "code",
   "execution_count": 163,
   "id": "7a62ab6d-a365-4f11-beae-70f173ded297",
   "metadata": {},
   "outputs": [
    {
     "data": {
      "text/plain": [
       "(0.8313120540986446, 1)"
      ]
     },
     "execution_count": 163,
     "metadata": {},
     "output_type": "execute_result"
    }
   ],
   "source": [
    "ymax, ymax_index = findmax(ys)"
   ]
  },
  {
   "cell_type": "code",
   "execution_count": 166,
   "id": "4390c1f5-1474-4330-832a-f2f30cd52bc3",
   "metadata": {},
   "outputs": [
    {
     "data": {
      "text/plain": [
       "2"
      ]
     },
     "execution_count": 166,
     "metadata": {},
     "output_type": "execute_result"
    }
   ],
   "source": [
    "optimal_k = ks[ymax_index]"
   ]
  },
  {
   "cell_type": "code",
   "execution_count": 191,
   "id": "e5ac8b67-ce7f-456b-ad48-4903b288a102",
   "metadata": {},
   "outputs": [],
   "source": [
    "clusterings = [Clustering.kmedoids(distance_matrix, optimal_k) for i in 1:10];"
   ]
  },
  {
   "cell_type": "code",
   "execution_count": 193,
   "id": "6c3a5c08-e81b-426c-90ff-1956eafbbeac",
   "metadata": {},
   "outputs": [
    {
     "data": {
      "text/plain": [
       "(0.9259623924150437, 1)"
      ]
     },
     "execution_count": 193,
     "metadata": {},
     "output_type": "execute_result"
    }
   ],
   "source": [
    "max_value, max_value_index = findmax(clustering -> Statistics.mean(Clustering.silhouettes(clustering, distance_matrix)), clusterings)"
   ]
  },
  {
   "cell_type": "code",
   "execution_count": 194,
   "id": "e7829cf9-b2d8-400f-b0b9-223151bd09ad",
   "metadata": {},
   "outputs": [
    {
     "data": {
      "text/plain": [
       "Clustering.KmedoidsResult{Int64}([15, 3], [2, 2, 2, 2, 2, 1, 1, 1, 1, 1  …  1, 1, 1, 1, 1, 1, 1, 1, 1, 1], [2, 1, 0, 1, 2, 9, 8, 7, 6, 5  …  1, 2, 3, 4, 5, 6, 7, 8, 9, 10], [20, 5], 106.0, 1, true)"
      ]
     },
     "execution_count": 194,
     "metadata": {},
     "output_type": "execute_result"
    }
   ],
   "source": [
    "optimal_clustering = clusterings[max_value_index]"
   ]
  },
  {
   "cell_type": "code",
   "execution_count": 198,
   "id": "718a1f70-24a0-4e5d-8a43-0d9f210b1bb5",
   "metadata": {},
   "outputs": [
    {
     "data": {
      "text/plain": [
       "(3, 2)"
      ]
     },
     "execution_count": 198,
     "metadata": {},
     "output_type": "execute_result"
    }
   ],
   "source": [
    "min_medoid_value, min_medoid_index = findmin(optimal_clustering.medoids)"
   ]
  },
  {
   "cell_type": "code",
   "execution_count": 200,
   "id": "f9bab4fd-d788-4f81-ab0d-4d2eb92773d6",
   "metadata": {},
   "outputs": [
    {
     "data": {
      "text/plain": [
       "5-element Vector{Int64}:\n",
       " 1\n",
       " 2\n",
       " 3\n",
       " 4\n",
       " 5"
      ]
     },
     "execution_count": 200,
     "metadata": {},
     "output_type": "execute_result"
    }
   ],
   "source": [
    "coverage_bins_to_exclude = findall(assignment -> assignment == min_medoid_index, optimal_clustering.assignments)"
   ]
  },
  {
   "cell_type": "code",
   "execution_count": 204,
   "id": "4cefce06-dfee-4685-9577-cafa5cb28ca2",
   "metadata": {},
   "outputs": [
    {
     "data": {
      "text/plain": [
       "6"
      ]
     },
     "execution_count": 204,
     "metadata": {},
     "output_type": "execute_result"
    }
   ],
   "source": [
    "threshold = maximum(kmer_depth_of_coverage_bins[intersect(1:length(kmer_depth_of_coverage_bins), coverage_bins_to_exclude)]) + 1"
   ]
  },
  {
   "cell_type": "code",
   "execution_count": 210,
   "id": "72c66702-1c18-4541-a642-64f1c69ad4cb",
   "metadata": {},
   "outputs": [
    {
     "name": "stderr",
     "output_type": "stream",
     "text": [
      "┌ Info: counting kmers\n",
      "└ @ Mycelia /home/jovyan/git/Mycelia/src/Mycelia.jl:2999\n",
      "┌ Info: setting metadata on vertices\n",
      "└ @ Mycelia /home/jovyan/git/Mycelia/src/Mycelia.jl:3009\n",
      "┌ Info: loading fastx files into graph\n",
      "└ @ Mycelia /home/jovyan/git/Mycelia/src/Mycelia.jl:3018\n"
     ]
    },
    {
     "name": "stdout",
     "output_type": "stream",
     "text": [
      "  0.730116 seconds (2.04 M allocations: 236.354 MiB, 19.63% gc time, 2.60% compilation time)\n"
     ]
    },
    {
     "data": {
      "text/plain": [
       "{984, 1966} directed Int64 metagraph with Float64 weights defined by :weight (default weight 1.0)"
      ]
     },
     "execution_count": 210,
     "metadata": {},
     "output_type": "execute_result"
    }
   ],
   "source": [
    "# make me faster by counting edges ahead of time\n",
    "@time observation_graph = Mycelia.fastx_to_simple_kmer_graph(BioSequences.DNAMer{k}, observations_file, minimum_coverage=threshold)"
   ]
  },
  {
   "cell_type": "code",
   "execution_count": 211,
   "id": "f9b79057-1175-4165-82dd-0fde3c385af0",
   "metadata": {},
   "outputs": [
    {
     "data": {
      "image/svg+xml": [
       "<?xml version=\"1.0\" encoding=\"utf-8\"?>\n",
       "<svg xmlns=\"http://www.w3.org/2000/svg\" xmlns:xlink=\"http://www.w3.org/1999/xlink\" width=\"500\" height=\"250\" viewBox=\"0 0 2000 1000\">\n",
       "<defs>\n",
       "  <clipPath id=\"clip520\">\n",
       "    <rect x=\"0\" y=\"0\" width=\"2000\" height=\"1000\"/>\n",
       "  </clipPath>\n",
       "</defs>\n",
       "<path clip-path=\"url(#clip520)\" d=\"\n",
       "M0 1000 L2000 1000 L2000 0 L0 0  Z\n",
       "  \" fill=\"#ffffff\" fill-rule=\"evenodd\" fill-opacity=\"1\"/>\n",
       "<defs>\n",
       "  <clipPath id=\"clip521\">\n",
       "    <rect x=\"400\" y=\"0\" width=\"1401\" height=\"1000\"/>\n",
       "  </clipPath>\n",
       "</defs>\n",
       "<path clip-path=\"url(#clip520)\" d=\"\n",
       "M159.565 849.7 L1952.76 849.7 L1952.76 108.352 L159.565 108.352  Z\n",
       "  \" fill=\"#ffffff\" fill-rule=\"evenodd\" fill-opacity=\"1\"/>\n",
       "<defs>\n",
       "  <clipPath id=\"clip522\">\n",
       "    <rect x=\"159\" y=\"108\" width=\"1794\" height=\"742\"/>\n",
       "  </clipPath>\n",
       "</defs>\n",
       "<polyline clip-path=\"url(#clip522)\" style=\"stroke:#000000; stroke-linecap:butt; stroke-linejoin:round; stroke-width:2; stroke-opacity:0.1; fill:none\" points=\"\n",
       "  159.565,849.7 159.565,108.352 \n",
       "  \"/>\n",
       "<polyline clip-path=\"url(#clip522)\" style=\"stroke:#000000; stroke-linecap:butt; stroke-linejoin:round; stroke-width:2; stroke-opacity:0.1; fill:none\" points=\"\n",
       "  483.053,849.7 483.053,108.352 \n",
       "  \"/>\n",
       "<polyline clip-path=\"url(#clip522)\" style=\"stroke:#000000; stroke-linecap:butt; stroke-linejoin:round; stroke-width:2; stroke-opacity:0.1; fill:none\" points=\"\n",
       "  806.542,849.7 806.542,108.352 \n",
       "  \"/>\n",
       "<polyline clip-path=\"url(#clip522)\" style=\"stroke:#000000; stroke-linecap:butt; stroke-linejoin:round; stroke-width:2; stroke-opacity:0.1; fill:none\" points=\"\n",
       "  1130.03,849.7 1130.03,108.352 \n",
       "  \"/>\n",
       "<polyline clip-path=\"url(#clip522)\" style=\"stroke:#000000; stroke-linecap:butt; stroke-linejoin:round; stroke-width:2; stroke-opacity:0.1; fill:none\" points=\"\n",
       "  1453.52,849.7 1453.52,108.352 \n",
       "  \"/>\n",
       "<polyline clip-path=\"url(#clip522)\" style=\"stroke:#000000; stroke-linecap:butt; stroke-linejoin:round; stroke-width:2; stroke-opacity:0.1; fill:none\" points=\"\n",
       "  1777.01,849.7 1777.01,108.352 \n",
       "  \"/>\n",
       "<polyline clip-path=\"url(#clip520)\" style=\"stroke:#000000; stroke-linecap:butt; stroke-linejoin:round; stroke-width:4; stroke-opacity:1; fill:none\" points=\"\n",
       "  159.565,849.7 1952.76,849.7 \n",
       "  \"/>\n",
       "<polyline clip-path=\"url(#clip520)\" style=\"stroke:#000000; stroke-linecap:butt; stroke-linejoin:round; stroke-width:4; stroke-opacity:1; fill:none\" points=\"\n",
       "  159.565,849.7 159.565,830.802 \n",
       "  \"/>\n",
       "<polyline clip-path=\"url(#clip520)\" style=\"stroke:#000000; stroke-linecap:butt; stroke-linejoin:round; stroke-width:4; stroke-opacity:1; fill:none\" points=\"\n",
       "  483.053,849.7 483.053,830.802 \n",
       "  \"/>\n",
       "<polyline clip-path=\"url(#clip520)\" style=\"stroke:#000000; stroke-linecap:butt; stroke-linejoin:round; stroke-width:4; stroke-opacity:1; fill:none\" points=\"\n",
       "  806.542,849.7 806.542,830.802 \n",
       "  \"/>\n",
       "<polyline clip-path=\"url(#clip520)\" style=\"stroke:#000000; stroke-linecap:butt; stroke-linejoin:round; stroke-width:4; stroke-opacity:1; fill:none\" points=\"\n",
       "  1130.03,849.7 1130.03,830.802 \n",
       "  \"/>\n",
       "<polyline clip-path=\"url(#clip520)\" style=\"stroke:#000000; stroke-linecap:butt; stroke-linejoin:round; stroke-width:4; stroke-opacity:1; fill:none\" points=\"\n",
       "  1453.52,849.7 1453.52,830.802 \n",
       "  \"/>\n",
       "<polyline clip-path=\"url(#clip520)\" style=\"stroke:#000000; stroke-linecap:butt; stroke-linejoin:round; stroke-width:4; stroke-opacity:1; fill:none\" points=\"\n",
       "  1777.01,849.7 1777.01,830.802 \n",
       "  \"/>\n",
       "<path clip-path=\"url(#clip520)\" d=\"M159.565 875.691 Q155.954 875.691 154.125 879.255 Q152.32 882.797 152.32 889.927 Q152.32 897.033 154.125 900.598 Q155.954 904.139 159.565 904.139 Q163.199 904.139 165.005 900.598 Q166.834 897.033 166.834 889.927 Q166.834 882.797 165.005 879.255 Q163.199 875.691 159.565 875.691 M159.565 871.987 Q165.375 871.987 168.431 876.593 Q171.51 881.177 171.51 889.927 Q171.51 898.653 168.431 903.26 Q165.375 907.843 159.565 907.843 Q153.755 907.843 150.676 903.26 Q147.621 898.653 147.621 889.927 Q147.621 881.177 150.676 876.593 Q153.755 871.987 159.565 871.987 Z\" fill=\"#000000\" fill-rule=\"evenodd\" fill-opacity=\"1\" /><path clip-path=\"url(#clip520)\" d=\"M473.435 903.237 L481.074 903.237 L481.074 876.871 L472.764 878.538 L472.764 874.279 L481.028 872.612 L485.704 872.612 L485.704 903.237 L493.343 903.237 L493.343 907.172 L473.435 907.172 L473.435 903.237 Z\" fill=\"#000000\" fill-rule=\"evenodd\" fill-opacity=\"1\" /><path clip-path=\"url(#clip520)\" d=\"M801.195 903.237 L817.514 903.237 L817.514 907.172 L795.57 907.172 L795.57 903.237 Q798.232 900.482 802.815 895.852 Q807.421 891.2 808.602 889.857 Q810.847 887.334 811.727 885.598 Q812.63 883.839 812.63 882.149 Q812.63 879.394 810.685 877.658 Q808.764 875.922 805.662 875.922 Q803.463 875.922 801.009 876.686 Q798.579 877.45 795.801 879.001 L795.801 874.279 Q798.625 873.144 801.079 872.566 Q803.532 871.987 805.569 871.987 Q810.94 871.987 814.134 874.672 Q817.329 877.357 817.329 881.848 Q817.329 883.978 816.518 885.899 Q815.731 887.797 813.625 890.39 Q813.046 891.061 809.944 894.278 Q806.843 897.473 801.195 903.237 Z\" fill=\"#000000\" fill-rule=\"evenodd\" fill-opacity=\"1\" /><path clip-path=\"url(#clip520)\" d=\"M1134.28 888.538 Q1137.63 889.255 1139.51 891.524 Q1141.41 893.792 1141.41 897.126 Q1141.41 902.241 1137.89 905.042 Q1134.37 907.843 1127.89 907.843 Q1125.71 907.843 1123.4 907.403 Q1121.11 906.987 1118.65 906.13 L1118.65 901.616 Q1120.6 902.751 1122.91 903.329 Q1125.23 903.908 1127.75 903.908 Q1132.15 903.908 1134.44 902.172 Q1136.75 900.436 1136.75 897.126 Q1136.75 894.07 1134.6 892.357 Q1132.47 890.621 1128.65 890.621 L1124.62 890.621 L1124.62 886.778 L1128.84 886.778 Q1132.29 886.778 1134.12 885.413 Q1135.94 884.024 1135.94 881.431 Q1135.94 878.769 1134.05 877.357 Q1132.17 875.922 1128.65 875.922 Q1126.73 875.922 1124.53 876.339 Q1122.33 876.755 1119.69 877.635 L1119.69 873.468 Q1122.36 872.728 1124.67 872.357 Q1127.01 871.987 1129.07 871.987 Q1134.39 871.987 1137.5 874.417 Q1140.6 876.825 1140.6 880.945 Q1140.6 883.815 1138.95 885.806 Q1137.31 887.774 1134.28 888.538 Z\" fill=\"#000000\" fill-rule=\"evenodd\" fill-opacity=\"1\" /><path clip-path=\"url(#clip520)\" d=\"M1456.53 876.686 L1444.72 895.135 L1456.53 895.135 L1456.53 876.686 M1455.3 872.612 L1461.18 872.612 L1461.18 895.135 L1466.11 895.135 L1466.11 899.024 L1461.18 899.024 L1461.18 907.172 L1456.53 907.172 L1456.53 899.024 L1440.93 899.024 L1440.93 894.51 L1455.3 872.612 Z\" fill=\"#000000\" fill-rule=\"evenodd\" fill-opacity=\"1\" /><path clip-path=\"url(#clip520)\" d=\"M1767.28 872.612 L1785.64 872.612 L1785.64 876.547 L1771.57 876.547 L1771.57 885.019 Q1772.59 884.672 1773.6 884.51 Q1774.62 884.325 1775.64 884.325 Q1781.43 884.325 1784.81 887.496 Q1788.19 890.667 1788.19 896.084 Q1788.19 901.663 1784.71 904.764 Q1781.24 907.843 1774.92 907.843 Q1772.75 907.843 1770.48 907.473 Q1768.23 907.102 1765.83 906.362 L1765.83 901.663 Q1767.91 902.797 1770.13 903.352 Q1772.35 903.908 1774.83 903.908 Q1778.84 903.908 1781.17 901.802 Q1783.51 899.695 1783.51 896.084 Q1783.51 892.473 1781.17 890.366 Q1778.84 888.26 1774.83 888.26 Q1772.96 888.26 1771.08 888.677 Q1769.23 889.093 1767.28 889.973 L1767.28 872.612 Z\" fill=\"#000000\" fill-rule=\"evenodd\" fill-opacity=\"1\" /><path clip-path=\"url(#clip520)\" d=\"M661.996 939.039 L667.852 939.039 L667.852 988.564 L661.996 988.564 L661.996 939.039 Z\" fill=\"#000000\" fill-rule=\"evenodd\" fill-opacity=\"1\" /><path clip-path=\"url(#clip520)\" d=\"M693.92 957.022 Q689.209 957.022 686.472 960.714 Q683.735 964.374 683.735 970.772 Q683.735 977.169 686.44 980.861 Q689.178 984.522 693.92 984.522 Q698.599 984.522 701.336 980.83 Q704.073 977.137 704.073 970.772 Q704.073 964.438 701.336 960.746 Q698.599 957.022 693.92 957.022 M693.92 952.057 Q701.559 952.057 705.919 957.022 Q710.28 961.987 710.28 970.772 Q710.28 979.525 705.919 984.522 Q701.559 989.487 693.92 989.487 Q686.249 989.487 681.889 984.522 Q677.56 979.525 677.56 970.772 Q677.56 961.987 681.889 957.022 Q686.249 952.057 693.92 952.057 Z\" fill=\"#000000\" fill-rule=\"evenodd\" fill-opacity=\"1\" /><path clip-path=\"url(#clip520)\" d=\"M743.445 970.326 Q743.445 963.96 740.803 960.459 Q738.194 956.958 733.451 956.958 Q728.74 956.958 726.099 960.459 Q723.489 963.96 723.489 970.326 Q723.489 976.66 726.099 980.161 Q728.74 983.662 733.451 983.662 Q738.194 983.662 740.803 980.161 Q743.445 976.66 743.445 970.326 M749.302 984.14 Q749.302 993.243 745.259 997.667 Q741.217 1002.12 732.878 1002.12 Q729.791 1002.12 727.054 1001.65 Q724.316 1001.2 721.738 1000.24 L721.738 994.548 Q724.316 995.948 726.831 996.616 Q729.345 997.285 731.955 997.285 Q737.716 997.285 740.581 994.261 Q743.445 991.269 743.445 985.19 L743.445 982.294 Q741.631 985.445 738.798 987.004 Q735.966 988.564 732.019 988.564 Q725.462 988.564 721.452 983.567 Q717.441 978.57 717.441 970.326 Q717.441 962.051 721.452 957.054 Q725.462 952.057 732.019 952.057 Q735.966 952.057 738.798 953.616 Q741.631 955.176 743.445 958.327 L743.445 952.916 L749.302 952.916 L749.302 984.14 Z\" fill=\"#000000\" fill-rule=\"evenodd\" fill-opacity=\"1\" /><path clip-path=\"url(#clip520)\" d=\"M775.433 939.102 Q771.168 946.423 769.099 953.584 Q767.03 960.746 767.03 968.098 Q767.03 975.45 769.099 982.676 Q771.2 989.869 775.433 997.158 L770.34 997.158 Q765.566 989.678 763.179 982.453 Q760.824 975.228 760.824 968.098 Q760.824 961 763.179 953.807 Q765.534 946.614 770.34 939.102 L775.433 939.102 Z\" fill=\"#000000\" fill-rule=\"evenodd\" fill-opacity=\"1\" /><path clip-path=\"url(#clip520)\" d=\"M800.609 957.022 Q795.899 957.022 793.161 960.714 Q790.424 964.374 790.424 970.772 Q790.424 977.169 793.13 980.861 Q795.867 984.522 800.609 984.522 Q805.288 984.522 808.025 980.83 Q810.763 977.137 810.763 970.772 Q810.763 964.438 808.025 960.746 Q805.288 957.022 800.609 957.022 M800.609 952.057 Q808.248 952.057 812.609 957.022 Q816.969 961.987 816.969 970.772 Q816.969 979.525 812.609 984.522 Q808.248 989.487 800.609 989.487 Q792.939 989.487 788.578 984.522 Q784.249 979.525 784.249 970.772 Q784.249 961.987 788.578 957.022 Q792.939 952.057 800.609 952.057 Z\" fill=\"#000000\" fill-rule=\"evenodd\" fill-opacity=\"1\" /><path clip-path=\"url(#clip520)\" d=\"M852.267 970.772 Q852.267 964.311 849.593 960.65 Q846.952 956.958 842.305 956.958 Q837.658 956.958 834.984 960.65 Q832.342 964.311 832.342 970.772 Q832.342 977.233 834.984 980.925 Q837.658 984.585 842.305 984.585 Q846.952 984.585 849.593 980.925 Q852.267 977.233 852.267 970.772 M832.342 958.327 Q834.188 955.144 836.989 953.616 Q839.822 952.057 843.737 952.057 Q850.23 952.057 854.272 957.213 Q858.346 962.369 858.346 970.772 Q858.346 979.174 854.272 984.331 Q850.23 989.487 843.737 989.487 Q839.822 989.487 836.989 987.959 Q834.188 986.4 832.342 983.217 L832.342 988.564 L826.454 988.564 L826.454 939.039 L832.342 939.039 L832.342 958.327 Z\" fill=\"#000000\" fill-rule=\"evenodd\" fill-opacity=\"1\" /><path clip-path=\"url(#clip520)\" d=\"M890.779 953.966 L890.779 959.504 Q888.297 958.231 885.623 957.595 Q882.95 956.958 880.085 956.958 Q875.725 956.958 873.528 958.295 Q871.364 959.632 871.364 962.305 Q871.364 964.342 872.924 965.52 Q874.483 966.666 879.194 967.716 L881.199 968.162 Q887.438 969.499 890.047 971.949 Q892.689 974.368 892.689 978.729 Q892.689 983.694 888.742 986.59 Q884.828 989.487 877.953 989.487 Q875.088 989.487 871.969 988.914 Q868.881 988.373 865.444 987.259 L865.444 981.211 Q868.69 982.898 871.842 983.758 Q874.993 984.585 878.08 984.585 Q882.218 984.585 884.446 983.185 Q886.674 981.753 886.674 979.174 Q886.674 976.787 885.05 975.514 Q883.459 974.241 878.016 973.063 L875.979 972.586 Q870.537 971.44 868.118 969.085 Q865.699 966.698 865.699 962.56 Q865.699 957.531 869.263 954.794 Q872.828 952.057 879.385 952.057 Q882.631 952.057 885.496 952.534 Q888.361 953.011 890.779 953.966 Z\" fill=\"#000000\" fill-rule=\"evenodd\" fill-opacity=\"1\" /><path clip-path=\"url(#clip520)\" d=\"M932.507 969.276 L932.507 972.14 L905.58 972.14 Q905.962 978.188 909.208 981.371 Q912.487 984.522 918.311 984.522 Q921.685 984.522 924.836 983.694 Q928.019 982.867 931.138 981.211 L931.138 986.75 Q927.987 988.086 924.677 988.787 Q921.367 989.487 917.961 989.487 Q909.431 989.487 904.434 984.522 Q899.469 979.556 899.469 971.09 Q899.469 962.337 904.179 957.213 Q908.922 952.057 916.943 952.057 Q924.136 952.057 928.305 956.703 Q932.507 961.319 932.507 969.276 M926.65 967.557 Q926.587 962.751 923.945 959.886 Q921.335 957.022 917.006 957.022 Q912.105 957.022 909.145 959.791 Q906.216 962.56 905.771 967.589 L926.65 967.557 Z\" fill=\"#000000\" fill-rule=\"evenodd\" fill-opacity=\"1\" /><path clip-path=\"url(#clip520)\" d=\"M962.776 958.39 Q961.789 957.817 960.611 957.563 Q959.465 957.276 958.065 957.276 Q953.1 957.276 950.426 960.523 Q947.784 963.738 947.784 969.785 L947.784 988.564 L941.896 988.564 L941.896 952.916 L947.784 952.916 L947.784 958.454 Q949.63 955.208 952.591 953.648 Q955.551 952.057 959.784 952.057 Q960.389 952.057 961.121 952.152 Q961.853 952.216 962.744 952.375 L962.776 958.39 Z\" fill=\"#000000\" fill-rule=\"evenodd\" fill-opacity=\"1\" /><path clip-path=\"url(#clip520)\" d=\"M964.717 952.916 L970.924 952.916 L982.064 982.835 L993.204 952.916 L999.41 952.916 L986.042 988.564 L978.085 988.564 L964.717 952.916 Z\" fill=\"#000000\" fill-rule=\"evenodd\" fill-opacity=\"1\" /><path clip-path=\"url(#clip520)\" d=\"M1037.99 969.276 L1037.99 972.14 L1011.06 972.14 Q1011.44 978.188 1014.69 981.371 Q1017.97 984.522 1023.79 984.522 Q1027.16 984.522 1030.32 983.694 Q1033.5 982.867 1036.62 981.211 L1036.62 986.75 Q1033.47 988.086 1030.16 988.787 Q1026.85 989.487 1023.44 989.487 Q1014.91 989.487 1009.91 984.522 Q1004.95 979.556 1004.95 971.09 Q1004.95 962.337 1009.66 957.213 Q1014.4 952.057 1022.42 952.057 Q1029.62 952.057 1033.79 956.703 Q1037.99 961.319 1037.99 969.276 M1032.13 967.557 Q1032.07 962.751 1029.42 959.886 Q1026.81 957.022 1022.49 957.022 Q1017.58 957.022 1014.62 959.791 Q1011.7 962.56 1011.25 967.589 L1032.13 967.557 Z\" fill=\"#000000\" fill-rule=\"evenodd\" fill-opacity=\"1\" /><path clip-path=\"url(#clip520)\" d=\"M1071.06 958.327 L1071.06 939.039 L1076.91 939.039 L1076.91 988.564 L1071.06 988.564 L1071.06 983.217 Q1069.21 986.4 1066.38 987.959 Q1063.58 989.487 1059.63 989.487 Q1053.17 989.487 1049.09 984.331 Q1045.05 979.174 1045.05 970.772 Q1045.05 962.369 1049.09 957.213 Q1053.17 952.057 1059.63 952.057 Q1063.58 952.057 1066.38 953.616 Q1069.21 955.144 1071.06 958.327 M1051.1 970.772 Q1051.1 977.233 1053.74 980.925 Q1056.42 984.585 1061.06 984.585 Q1065.71 984.585 1068.38 980.925 Q1071.06 977.233 1071.06 970.772 Q1071.06 964.311 1068.38 960.65 Q1065.71 956.958 1061.06 956.958 Q1056.42 956.958 1053.74 960.65 Q1051.1 964.311 1051.1 970.772 Z\" fill=\"#000000\" fill-rule=\"evenodd\" fill-opacity=\"1\" /><path clip-path=\"url(#clip520)\" d=\"M1127.74 939.039 L1127.74 943.908 L1122.14 943.908 Q1118.99 943.908 1117.75 945.182 Q1116.54 946.455 1116.54 949.765 L1116.54 952.916 L1126.18 952.916 L1126.18 957.467 L1116.54 957.467 L1116.54 988.564 L1110.65 988.564 L1110.65 957.467 L1105.05 957.467 L1105.05 952.916 L1110.65 952.916 L1110.65 950.433 Q1110.65 944.481 1113.42 941.776 Q1116.19 939.039 1122.2 939.039 L1127.74 939.039 Z\" fill=\"#000000\" fill-rule=\"evenodd\" fill-opacity=\"1\" /><path clip-path=\"url(#clip520)\" d=\"M1153.3 958.39 Q1152.31 957.817 1151.14 957.563 Q1149.99 957.276 1148.59 957.276 Q1143.63 957.276 1140.95 960.523 Q1138.31 963.738 1138.31 969.785 L1138.31 988.564 L1132.42 988.564 L1132.42 952.916 L1138.31 952.916 L1138.31 958.454 Q1140.16 955.208 1143.12 953.648 Q1146.08 952.057 1150.31 952.057 Q1150.91 952.057 1151.65 952.152 Q1152.38 952.216 1153.27 952.375 L1153.3 958.39 Z\" fill=\"#000000\" fill-rule=\"evenodd\" fill-opacity=\"1\" /><path clip-path=\"url(#clip520)\" d=\"M1188.5 969.276 L1188.5 972.14 L1161.58 972.14 Q1161.96 978.188 1165.21 981.371 Q1168.48 984.522 1174.31 984.522 Q1177.68 984.522 1180.83 983.694 Q1184.02 982.867 1187.13 981.211 L1187.13 986.75 Q1183.98 988.086 1180.67 988.787 Q1177.36 989.487 1173.96 989.487 Q1165.43 989.487 1160.43 984.522 Q1155.47 979.556 1155.47 971.09 Q1155.47 962.337 1160.18 957.213 Q1164.92 952.057 1172.94 952.057 Q1180.13 952.057 1184.3 956.703 Q1188.5 961.319 1188.5 969.276 M1182.65 967.557 Q1182.58 962.751 1179.94 959.886 Q1177.33 957.022 1173 957.022 Q1168.1 957.022 1165.14 959.791 Q1162.21 962.56 1161.77 967.589 L1182.65 967.557 Z\" fill=\"#000000\" fill-rule=\"evenodd\" fill-opacity=\"1\" /><path clip-path=\"url(#clip520)\" d=\"M1201.62 970.772 Q1201.62 977.233 1204.26 980.925 Q1206.93 984.585 1211.58 984.585 Q1216.23 984.585 1218.9 980.925 Q1221.57 977.233 1221.57 970.772 Q1221.57 964.311 1218.9 960.65 Q1216.23 956.958 1211.58 956.958 Q1206.93 956.958 1204.26 960.65 Q1201.62 964.311 1201.62 970.772 M1221.57 983.217 Q1219.73 986.4 1216.89 987.959 Q1214.09 989.487 1210.15 989.487 Q1203.69 989.487 1199.61 984.331 Q1195.57 979.174 1195.57 970.772 Q1195.57 962.369 1199.61 957.213 Q1203.69 952.057 1210.15 952.057 Q1214.09 952.057 1216.89 953.616 Q1219.73 955.144 1221.57 958.327 L1221.57 952.916 L1227.43 952.916 L1227.43 1002.12 L1221.57 1002.12 L1221.57 983.217 Z\" fill=\"#000000\" fill-rule=\"evenodd\" fill-opacity=\"1\" /><path clip-path=\"url(#clip520)\" d=\"M1238.89 974.496 L1238.89 952.916 L1244.74 952.916 L1244.74 974.273 Q1244.74 979.334 1246.72 981.88 Q1248.69 984.394 1252.64 984.394 Q1257.38 984.394 1260.12 981.371 Q1262.89 978.347 1262.89 973.127 L1262.89 952.916 L1268.74 952.916 L1268.74 988.564 L1262.89 988.564 L1262.89 983.089 Q1260.75 986.336 1257.92 987.927 Q1255.12 989.487 1251.4 989.487 Q1245.25 989.487 1242.07 985.667 Q1238.89 981.848 1238.89 974.496 M1253.62 952.057 L1253.62 952.057 Z\" fill=\"#000000\" fill-rule=\"evenodd\" fill-opacity=\"1\" /><path clip-path=\"url(#clip520)\" d=\"M1311.3 969.276 L1311.3 972.14 L1284.37 972.14 Q1284.75 978.188 1288 981.371 Q1291.28 984.522 1297.1 984.522 Q1300.48 984.522 1303.63 983.694 Q1306.81 982.867 1309.93 981.211 L1309.93 986.75 Q1306.78 988.086 1303.47 988.787 Q1300.16 989.487 1296.75 989.487 Q1288.22 989.487 1283.23 984.522 Q1278.26 979.556 1278.26 971.09 Q1278.26 962.337 1282.97 957.213 Q1287.71 952.057 1295.73 952.057 Q1302.93 952.057 1307.1 956.703 Q1311.3 961.319 1311.3 969.276 M1305.44 967.557 Q1305.38 962.751 1302.74 959.886 Q1300.13 957.022 1295.8 957.022 Q1290.9 957.022 1287.94 959.791 Q1285.01 962.56 1284.56 967.589 L1305.44 967.557 Z\" fill=\"#000000\" fill-rule=\"evenodd\" fill-opacity=\"1\" /><path clip-path=\"url(#clip520)\" d=\"M1350.54 967.048 L1350.54 988.564 L1344.69 988.564 L1344.69 967.239 Q1344.69 962.178 1342.71 959.664 Q1340.74 957.149 1336.79 957.149 Q1332.05 957.149 1329.31 960.173 Q1326.58 963.197 1326.58 968.416 L1326.58 988.564 L1320.69 988.564 L1320.69 952.916 L1326.58 952.916 L1326.58 958.454 Q1328.68 955.239 1331.51 953.648 Q1334.37 952.057 1338.1 952.057 Q1344.24 952.057 1347.39 955.876 Q1350.54 959.664 1350.54 967.048 Z\" fill=\"#000000\" fill-rule=\"evenodd\" fill-opacity=\"1\" /><path clip-path=\"url(#clip520)\" d=\"M1387.88 954.285 L1387.88 959.759 Q1385.39 958.39 1382.88 957.722 Q1380.4 957.022 1377.85 957.022 Q1372.15 957.022 1369 960.65 Q1365.85 964.247 1365.85 970.772 Q1365.85 977.297 1369 980.925 Q1372.15 984.522 1377.85 984.522 Q1380.4 984.522 1382.88 983.853 Q1385.39 983.153 1387.88 981.784 L1387.88 987.195 Q1385.43 988.341 1382.78 988.914 Q1380.18 989.487 1377.21 989.487 Q1369.16 989.487 1364.42 984.426 Q1359.68 979.365 1359.68 970.772 Q1359.68 962.051 1364.45 957.054 Q1369.26 952.057 1377.6 952.057 Q1380.3 952.057 1382.88 952.629 Q1385.46 953.171 1387.88 954.285 Z\" fill=\"#000000\" fill-rule=\"evenodd\" fill-opacity=\"1\" /><path clip-path=\"url(#clip520)\" d=\"M1412.89 991.874 Q1410.41 998.24 1408.06 1000.18 Q1405.7 1002.12 1401.75 1002.12 L1397.08 1002.12 L1397.08 997.221 L1400.51 997.221 Q1402.93 997.221 1404.27 996.075 Q1405.61 994.93 1407.23 990.665 L1408.28 987.991 L1393.86 952.916 L1400.07 952.916 L1411.21 980.798 L1422.35 952.916 L1428.55 952.916 L1412.89 991.874 Z\" fill=\"#000000\" fill-rule=\"evenodd\" fill-opacity=\"1\" /><path clip-path=\"url(#clip520)\" d=\"M1435.72 939.102 L1440.81 939.102 Q1445.58 946.614 1447.94 953.807 Q1450.33 961 1450.33 968.098 Q1450.33 975.228 1447.94 982.453 Q1445.58 989.678 1440.81 997.158 L1435.72 997.158 Q1439.95 989.869 1442.02 982.676 Q1444.12 975.45 1444.12 968.098 Q1444.12 960.746 1442.02 953.584 Q1439.95 946.423 1435.72 939.102 Z\" fill=\"#000000\" fill-rule=\"evenodd\" fill-opacity=\"1\" /><polyline clip-path=\"url(#clip522)\" style=\"stroke:#000000; stroke-linecap:butt; stroke-linejoin:round; stroke-width:2; stroke-opacity:0.1; fill:none\" points=\"\n",
       "  159.565,849.7 1952.76,849.7 \n",
       "  \"/>\n",
       "<polyline clip-path=\"url(#clip522)\" style=\"stroke:#000000; stroke-linecap:butt; stroke-linejoin:round; stroke-width:2; stroke-opacity:0.1; fill:none\" points=\"\n",
       "  159.565,720.656 1952.76,720.656 \n",
       "  \"/>\n",
       "<polyline clip-path=\"url(#clip522)\" style=\"stroke:#000000; stroke-linecap:butt; stroke-linejoin:round; stroke-width:2; stroke-opacity:0.1; fill:none\" points=\"\n",
       "  159.565,591.612 1952.76,591.612 \n",
       "  \"/>\n",
       "<polyline clip-path=\"url(#clip522)\" style=\"stroke:#000000; stroke-linecap:butt; stroke-linejoin:round; stroke-width:2; stroke-opacity:0.1; fill:none\" points=\"\n",
       "  159.565,462.569 1952.76,462.569 \n",
       "  \"/>\n",
       "<polyline clip-path=\"url(#clip522)\" style=\"stroke:#000000; stroke-linecap:butt; stroke-linejoin:round; stroke-width:2; stroke-opacity:0.1; fill:none\" points=\"\n",
       "  159.565,333.525 1952.76,333.525 \n",
       "  \"/>\n",
       "<polyline clip-path=\"url(#clip522)\" style=\"stroke:#000000; stroke-linecap:butt; stroke-linejoin:round; stroke-width:2; stroke-opacity:0.1; fill:none\" points=\"\n",
       "  159.565,204.481 1952.76,204.481 \n",
       "  \"/>\n",
       "<polyline clip-path=\"url(#clip520)\" style=\"stroke:#000000; stroke-linecap:butt; stroke-linejoin:round; stroke-width:4; stroke-opacity:1; fill:none\" points=\"\n",
       "  159.565,849.7 159.565,108.352 \n",
       "  \"/>\n",
       "<polyline clip-path=\"url(#clip520)\" style=\"stroke:#000000; stroke-linecap:butt; stroke-linejoin:round; stroke-width:4; stroke-opacity:1; fill:none\" points=\"\n",
       "  159.565,849.7 178.463,849.7 \n",
       "  \"/>\n",
       "<polyline clip-path=\"url(#clip520)\" style=\"stroke:#000000; stroke-linecap:butt; stroke-linejoin:round; stroke-width:4; stroke-opacity:1; fill:none\" points=\"\n",
       "  159.565,720.656 178.463,720.656 \n",
       "  \"/>\n",
       "<polyline clip-path=\"url(#clip520)\" style=\"stroke:#000000; stroke-linecap:butt; stroke-linejoin:round; stroke-width:4; stroke-opacity:1; fill:none\" points=\"\n",
       "  159.565,591.612 178.463,591.612 \n",
       "  \"/>\n",
       "<polyline clip-path=\"url(#clip520)\" style=\"stroke:#000000; stroke-linecap:butt; stroke-linejoin:round; stroke-width:4; stroke-opacity:1; fill:none\" points=\"\n",
       "  159.565,462.569 178.463,462.569 \n",
       "  \"/>\n",
       "<polyline clip-path=\"url(#clip520)\" style=\"stroke:#000000; stroke-linecap:butt; stroke-linejoin:round; stroke-width:4; stroke-opacity:1; fill:none\" points=\"\n",
       "  159.565,333.525 178.463,333.525 \n",
       "  \"/>\n",
       "<polyline clip-path=\"url(#clip520)\" style=\"stroke:#000000; stroke-linecap:butt; stroke-linejoin:round; stroke-width:4; stroke-opacity:1; fill:none\" points=\"\n",
       "  159.565,204.481 178.463,204.481 \n",
       "  \"/>\n",
       "<path clip-path=\"url(#clip520)\" d=\"M117.621 835.499 Q114.01 835.499 112.181 839.063 Q110.375 842.605 110.375 849.735 Q110.375 856.841 112.181 860.406 Q114.01 863.947 117.621 863.947 Q121.255 863.947 123.061 860.406 Q124.889 856.841 124.889 849.735 Q124.889 842.605 123.061 839.063 Q121.255 835.499 117.621 835.499 M117.621 831.795 Q123.431 831.795 126.487 836.401 Q129.565 840.985 129.565 849.735 Q129.565 858.461 126.487 863.068 Q123.431 867.651 117.621 867.651 Q111.811 867.651 108.732 863.068 Q105.676 858.461 105.676 849.735 Q105.676 840.985 108.732 836.401 Q111.811 831.795 117.621 831.795 Z\" fill=\"#000000\" fill-rule=\"evenodd\" fill-opacity=\"1\" /><path clip-path=\"url(#clip520)\" d=\"M109.658 734.001 L117.297 734.001 L117.297 707.635 L108.987 709.302 L108.987 705.043 L117.25 703.376 L121.926 703.376 L121.926 734.001 L129.565 734.001 L129.565 737.936 L109.658 737.936 L109.658 734.001 Z\" fill=\"#000000\" fill-rule=\"evenodd\" fill-opacity=\"1\" /><path clip-path=\"url(#clip520)\" d=\"M113.246 604.957 L129.565 604.957 L129.565 608.892 L107.621 608.892 L107.621 604.957 Q110.283 602.203 114.866 597.573 Q119.473 592.92 120.653 591.578 Q122.899 589.054 123.778 587.318 Q124.681 585.559 124.681 583.869 Q124.681 581.115 122.737 579.379 Q120.815 577.642 117.713 577.642 Q115.514 577.642 113.061 578.406 Q110.63 579.17 107.852 580.721 L107.852 575.999 Q110.676 574.865 113.13 574.286 Q115.584 573.707 117.621 573.707 Q122.991 573.707 126.186 576.392 Q129.38 579.078 129.38 583.568 Q129.38 585.698 128.57 587.619 Q127.783 589.517 125.676 592.11 Q125.098 592.781 121.996 595.999 Q118.894 599.193 113.246 604.957 Z\" fill=\"#000000\" fill-rule=\"evenodd\" fill-opacity=\"1\" /><path clip-path=\"url(#clip520)\" d=\"M122.436 461.214 Q125.792 461.932 127.667 464.2 Q129.565 466.469 129.565 469.802 Q129.565 474.918 126.047 477.719 Q122.528 480.52 116.047 480.52 Q113.871 480.52 111.556 480.08 Q109.264 479.663 106.811 478.807 L106.811 474.293 Q108.755 475.427 111.07 476.006 Q113.385 476.585 115.908 476.585 Q120.306 476.585 122.598 474.849 Q124.912 473.112 124.912 469.802 Q124.912 466.747 122.76 465.034 Q120.63 463.298 116.811 463.298 L112.783 463.298 L112.783 459.455 L116.996 459.455 Q120.445 459.455 122.274 458.089 Q124.102 456.7 124.102 454.108 Q124.102 451.446 122.204 450.034 Q120.329 448.599 116.811 448.599 Q114.889 448.599 112.69 449.015 Q110.491 449.432 107.852 450.312 L107.852 446.145 Q110.514 445.404 112.829 445.034 Q115.167 444.664 117.227 444.664 Q122.551 444.664 125.653 447.094 Q128.755 449.501 128.755 453.622 Q128.755 456.492 127.112 458.483 Q125.468 460.45 122.436 461.214 Z\" fill=\"#000000\" fill-rule=\"evenodd\" fill-opacity=\"1\" /><path clip-path=\"url(#clip520)\" d=\"M119.982 320.319 L108.176 338.768 L119.982 338.768 L119.982 320.319 M118.755 316.245 L124.635 316.245 L124.635 338.768 L129.565 338.768 L129.565 342.657 L124.635 342.657 L124.635 350.805 L119.982 350.805 L119.982 342.657 L104.38 342.657 L104.38 338.143 L118.755 316.245 Z\" fill=\"#000000\" fill-rule=\"evenodd\" fill-opacity=\"1\" /><path clip-path=\"url(#clip520)\" d=\"M108.663 187.201 L127.019 187.201 L127.019 191.136 L112.945 191.136 L112.945 199.608 Q113.963 199.261 114.982 199.099 Q116 198.914 117.019 198.914 Q122.806 198.914 126.186 202.085 Q129.565 205.256 129.565 210.673 Q129.565 216.252 126.093 219.354 Q122.621 222.432 116.301 222.432 Q114.125 222.432 111.857 222.062 Q109.612 221.692 107.204 220.951 L107.204 216.252 Q109.288 217.386 111.51 217.942 Q113.732 218.497 116.209 218.497 Q120.213 218.497 122.551 216.391 Q124.889 214.284 124.889 210.673 Q124.889 207.062 122.551 204.956 Q120.213 202.849 116.209 202.849 Q114.334 202.849 112.459 203.266 Q110.607 203.682 108.663 204.562 L108.663 187.201 Z\" fill=\"#000000\" fill-rule=\"evenodd\" fill-opacity=\"1\" /><path clip-path=\"url(#clip520)\" d=\"M10.599 728.769 L10.599 722.912 L60.1242 722.912 L60.1242 728.769 L10.599 728.769 Z\" fill=\"#000000\" fill-rule=\"evenodd\" fill-opacity=\"1\" /><path clip-path=\"url(#clip520)\" d=\"M28.5821 696.845 Q28.5821 701.555 32.2742 704.292 Q35.9345 707.03 42.332 707.03 Q48.7295 707.03 52.4217 704.324 Q56.0819 701.587 56.0819 696.845 Q56.0819 692.166 52.3898 689.429 Q48.6977 686.691 42.332 686.691 Q35.9981 686.691 32.306 689.429 Q28.5821 692.166 28.5821 696.845 M23.6168 696.845 Q23.6168 689.206 28.5821 684.845 Q33.5473 680.485 42.332 680.485 Q51.0849 680.485 56.0819 684.845 Q61.0472 689.206 61.0472 696.845 Q61.0472 704.515 56.0819 708.876 Q51.0849 713.204 42.332 713.204 Q33.5473 713.204 28.5821 708.876 Q23.6168 704.515 23.6168 696.845 Z\" fill=\"#000000\" fill-rule=\"evenodd\" fill-opacity=\"1\" /><path clip-path=\"url(#clip520)\" d=\"M41.8864 647.319 Q35.5207 647.319 32.0196 649.961 Q28.5184 652.571 28.5184 657.314 Q28.5184 662.024 32.0196 664.666 Q35.5207 667.276 41.8864 667.276 Q48.2203 667.276 51.7214 664.666 Q55.2226 662.024 55.2226 657.314 Q55.2226 652.571 51.7214 649.961 Q48.2203 647.319 41.8864 647.319 M55.7 641.463 Q64.803 641.463 69.2271 645.505 Q73.6831 649.547 73.6831 657.886 Q73.6831 660.974 73.2057 663.711 Q72.7601 666.448 71.8052 669.026 L66.1079 669.026 Q67.5084 666.448 68.1768 663.934 Q68.8452 661.419 68.8452 658.809 Q68.8452 653.048 65.8215 650.184 Q62.8296 647.319 56.7503 647.319 L53.8539 647.319 Q57.005 649.134 58.5646 651.966 Q60.1242 654.799 60.1242 658.746 Q60.1242 665.302 55.1271 669.313 Q50.13 673.323 41.8864 673.323 Q33.611 673.323 28.6139 669.313 Q23.6168 665.302 23.6168 658.746 Q23.6168 654.799 25.1764 651.966 Q26.736 649.134 29.8871 647.319 L24.4762 647.319 L24.4762 641.463 L55.7 641.463 Z\" fill=\"#000000\" fill-rule=\"evenodd\" fill-opacity=\"1\" /><path clip-path=\"url(#clip520)\" d=\"M10.6626 615.332 Q17.9832 619.597 25.1446 621.666 Q32.306 623.734 39.6584 623.734 Q47.0108 623.734 54.2359 621.666 Q61.4291 619.565 68.7179 615.332 L68.7179 620.424 Q61.2382 625.199 54.0131 627.586 Q46.788 629.941 39.6584 629.941 Q32.5606 629.941 25.3674 627.586 Q18.1742 625.23 10.6626 620.424 L10.6626 615.332 Z\" fill=\"#000000\" fill-rule=\"evenodd\" fill-opacity=\"1\" /><path clip-path=\"url(#clip520)\" d=\"M31.4466 576.787 L31.4466 586.049 L42.0774 588.723 L42.0774 579.397 L31.4466 576.787 M13.3362 581.562 L26.5451 584.872 L26.5451 575.578 L13.3362 572.236 L13.3362 567.143 L26.5451 570.422 L26.5451 560.491 L31.4466 560.491 L31.4466 571.663 L42.0774 574.273 L42.0774 564.151 L46.9471 564.151 L46.9471 575.514 L60.1242 578.824 L60.1242 583.917 L46.9471 580.639 L46.9471 589.964 L60.1242 593.243 L60.1242 598.367 L46.9471 595.057 L46.9471 605.083 L42.0774 605.083 L42.0774 593.879 L31.4466 591.206 L31.4466 601.454 L26.5451 601.454 L26.5451 589.964 L13.3362 586.718 L13.3362 581.562 Z\" fill=\"#000000\" fill-rule=\"evenodd\" fill-opacity=\"1\" /><path clip-path=\"url(#clip520)\" d=\"M28.5821 514.817 Q28.5821 519.528 32.2742 522.265 Q35.9345 525.002 42.332 525.002 Q48.7295 525.002 52.4217 522.297 Q56.0819 519.56 56.0819 514.817 Q56.0819 510.138 52.3898 507.401 Q48.6977 504.664 42.332 504.664 Q35.9981 504.664 32.306 507.401 Q28.5821 510.138 28.5821 514.817 M23.6168 514.817 Q23.6168 507.178 28.5821 502.818 Q33.5473 498.457 42.332 498.457 Q51.0849 498.457 56.0819 502.818 Q61.0472 507.178 61.0472 514.817 Q61.0472 522.488 56.0819 526.848 Q51.0849 531.177 42.332 531.177 Q33.5473 531.177 28.5821 526.848 Q23.6168 522.488 23.6168 514.817 Z\" fill=\"#000000\" fill-rule=\"evenodd\" fill-opacity=\"1\" /><path clip-path=\"url(#clip520)\" d=\"M10.599 470.703 L15.4687 470.703 L15.4687 476.305 Q15.4687 479.456 16.7419 480.697 Q18.015 481.906 21.3252 481.906 L24.4762 481.906 L24.4762 472.262 L29.0277 472.262 L29.0277 481.906 L60.1242 481.906 L60.1242 487.795 L29.0277 487.795 L29.0277 493.397 L24.4762 493.397 L24.4762 487.795 L21.9936 487.795 Q16.0416 487.795 13.3362 485.026 Q10.599 482.257 10.599 476.241 L10.599 470.703 Z\" fill=\"#000000\" fill-rule=\"evenodd\" fill-opacity=\"1\" /><path clip-path=\"url(#clip520)\" d=\"M10.599 445.304 L10.599 439.415 L39.8494 439.415 L24.4762 421.942 L24.4762 414.462 L41.1544 433.368 L60.1242 413.666 L60.1242 421.305 L42.7139 439.415 L60.1242 439.415 L60.1242 445.304 L10.599 445.304 Z\" fill=\"#000000\" fill-rule=\"evenodd\" fill-opacity=\"1\" /><path clip-path=\"url(#clip520)\" d=\"M31.3193 379.578 Q27.3726 377.382 25.4947 374.326 Q23.6168 371.27 23.6168 367.133 Q23.6168 361.563 27.5317 358.539 Q31.4148 355.515 38.6081 355.515 L60.1242 355.515 L60.1242 361.404 L38.799 361.404 Q33.6746 361.404 31.192 363.218 Q28.7094 365.032 28.7094 368.756 Q28.7094 373.308 31.7331 375.949 Q34.7568 378.591 39.9767 378.591 L60.1242 378.591 L60.1242 384.479 L38.799 384.479 Q33.6428 384.479 31.192 386.294 Q28.7094 388.108 28.7094 391.895 Q28.7094 396.383 31.7649 399.025 Q34.7886 401.667 39.9767 401.667 L60.1242 401.667 L60.1242 407.555 L24.4762 407.555 L24.4762 401.667 L30.0144 401.667 Q26.736 399.662 25.1764 396.861 Q23.6168 394.06 23.6168 390.208 Q23.6168 386.325 25.5902 383.62 Q27.5636 380.883 31.3193 379.578 Z\" fill=\"#000000\" fill-rule=\"evenodd\" fill-opacity=\"1\" /><path clip-path=\"url(#clip520)\" d=\"M40.8361 313.343 L43.7006 313.343 L43.7006 340.269 Q49.7481 339.888 52.9309 336.641 Q56.0819 333.363 56.0819 327.538 Q56.0819 324.164 55.2544 321.013 Q54.4269 317.83 52.7718 314.711 L58.3099 314.711 Q59.6467 317.862 60.347 321.172 Q61.0472 324.483 61.0472 327.888 Q61.0472 336.418 56.0819 341.415 Q51.1167 346.381 42.6503 346.381 Q33.8974 346.381 28.7731 341.67 Q23.6168 336.927 23.6168 328.907 Q23.6168 321.713 28.2638 317.544 Q32.8789 313.343 40.8361 313.343 M39.1173 319.199 Q34.3112 319.263 31.4466 321.904 Q28.5821 324.514 28.5821 328.843 Q28.5821 333.745 31.3512 336.705 Q34.1202 339.633 39.1492 340.079 L39.1173 319.199 Z\" fill=\"#000000\" fill-rule=\"evenodd\" fill-opacity=\"1\" /><path clip-path=\"url(#clip520)\" d=\"M29.9507 283.074 Q29.3778 284.06 29.1232 285.238 Q28.8367 286.384 28.8367 287.784 Q28.8367 292.749 32.0832 295.423 Q35.2979 298.065 41.3453 298.065 L60.1242 298.065 L60.1242 303.953 L24.4762 303.953 L24.4762 298.065 L30.0144 298.065 Q26.7679 296.219 25.2083 293.259 Q23.6168 290.299 23.6168 286.066 Q23.6168 285.461 23.7123 284.729 Q23.776 283.997 23.9351 283.105 L29.9507 283.074 Z\" fill=\"#000000\" fill-rule=\"evenodd\" fill-opacity=\"1\" /><path clip-path=\"url(#clip520)\" d=\"M25.5265 254.205 L31.0647 254.205 Q29.7916 256.688 29.155 259.361 Q28.5184 262.035 28.5184 264.9 Q28.5184 269.26 29.8552 271.456 Q31.192 273.621 33.8656 273.621 Q35.9026 273.621 37.0803 272.061 Q38.2261 270.501 39.2765 265.791 L39.7221 263.786 Q41.0589 257.547 43.5097 254.937 Q45.9286 252.295 50.2891 252.295 Q55.2544 252.295 58.1508 256.242 Q61.0472 260.157 61.0472 267.032 Q61.0472 269.897 60.4743 273.016 Q59.9332 276.103 58.8192 279.541 L52.7718 279.541 Q54.4587 276.294 55.318 273.143 Q56.1456 269.992 56.1456 266.905 Q56.1456 262.767 54.7451 260.539 Q53.3129 258.311 50.7347 258.311 Q48.3476 258.311 47.0745 259.934 Q45.8013 261.526 44.6237 266.968 L44.1462 269.005 Q43.0004 274.448 40.6451 276.867 Q38.258 279.286 34.1202 279.286 Q29.0913 279.286 26.3541 275.721 Q23.6168 272.156 23.6168 265.6 Q23.6168 262.353 24.0943 259.489 Q24.5717 256.624 25.5265 254.205 Z\" fill=\"#000000\" fill-rule=\"evenodd\" fill-opacity=\"1\" /><path clip-path=\"url(#clip520)\" d=\"M10.6626 243.893 L10.6626 238.8 Q18.1742 234.026 25.3674 231.671 Q32.5606 229.283 39.6584 229.283 Q46.788 229.283 54.0131 231.671 Q61.2382 234.026 68.7179 238.8 L68.7179 243.893 Q61.4291 239.66 54.2359 237.591 Q47.0108 235.49 39.6584 235.49 Q32.306 235.49 25.1446 237.591 Q17.9832 239.66 10.6626 243.893 Z\" fill=\"#000000\" fill-rule=\"evenodd\" fill-opacity=\"1\" /><path clip-path=\"url(#clip520)\" d=\"M699.6 9.54393 L707.094 9.54393 L707.094 46.7717 L729.334 27.2059 L738.853 27.2059 L714.791 48.4326 L739.866 72.576 L730.144 72.576 L707.094 50.4176 L707.094 72.576 L699.6 72.576 L699.6 9.54393 Z\" fill=\"#000000\" fill-rule=\"evenodd\" fill-opacity=\"1\" /><path clip-path=\"url(#clip520)\" d=\"M783.251 35.9153 Q786.046 30.8922 789.935 28.5022 Q793.824 26.1121 799.09 26.1121 Q806.179 26.1121 810.028 31.0947 Q813.876 36.0368 813.876 45.1919 L813.876 72.576 L806.382 72.576 L806.382 45.4349 Q806.382 38.913 804.073 35.7533 Q801.764 32.5936 797.024 32.5936 Q791.231 32.5936 787.869 36.4419 Q784.507 40.2903 784.507 46.9338 L784.507 72.576 L777.013 72.576 L777.013 45.4349 Q777.013 38.8725 774.704 35.7533 Q772.395 32.5936 767.574 32.5936 Q761.862 32.5936 758.5 36.4824 Q755.138 40.3308 755.138 46.9338 L755.138 72.576 L747.644 72.576 L747.644 27.2059 L755.138 27.2059 L755.138 34.2544 Q757.69 30.082 761.255 28.0971 Q764.82 26.1121 769.721 26.1121 Q774.663 26.1121 778.106 28.6237 Q781.59 31.1352 783.251 35.9153 Z\" fill=\"#000000\" fill-rule=\"evenodd\" fill-opacity=\"1\" /><path clip-path=\"url(#clip520)\" d=\"M867.55 48.0275 L867.55 51.6733 L833.28 51.6733 Q833.766 59.3701 837.898 63.421 Q842.07 67.4314 849.483 67.4314 Q853.777 67.4314 857.788 66.3781 Q861.839 65.3249 865.809 63.2184 L865.809 70.267 Q861.798 71.9684 857.585 72.8596 Q853.372 73.7508 849.038 73.7508 Q838.181 73.7508 831.821 67.4314 Q825.502 61.1119 825.502 50.3365 Q825.502 39.1965 831.497 32.6746 Q837.533 26.1121 847.742 26.1121 Q856.897 26.1121 862.203 32.0264 Q867.55 37.9003 867.55 48.0275 M860.097 45.84 Q860.016 39.7232 856.654 36.0774 Q853.332 32.4315 847.823 32.4315 Q841.584 32.4315 837.817 35.9558 Q834.09 39.4801 833.523 45.8805 L860.097 45.84 Z\" fill=\"#000000\" fill-rule=\"evenodd\" fill-opacity=\"1\" /><path clip-path=\"url(#clip520)\" d=\"M906.075 34.1734 Q904.819 33.4443 903.32 33.1202 Q901.862 32.7556 900.079 32.7556 Q893.76 32.7556 890.357 36.8875 Q886.995 40.9789 886.995 48.6757 L886.995 72.576 L879.501 72.576 L879.501 27.2059 L886.995 27.2059 L886.995 34.2544 Q889.344 30.1225 893.112 28.1376 Q896.879 26.1121 902.267 26.1121 Q903.036 26.1121 903.968 26.2337 Q904.9 26.3147 906.034 26.5172 L906.075 34.1734 Z\" fill=\"#000000\" fill-rule=\"evenodd\" fill-opacity=\"1\" /><path clip-path=\"url(#clip520)\" d=\"M963.233 9.54393 L963.233 15.7418 L956.103 15.7418 Q952.093 15.7418 950.513 17.3622 Q948.974 18.9825 948.974 23.1955 L948.974 27.2059 L961.248 27.2059 L961.248 32.9987 L948.974 32.9987 L948.974 72.576 L941.479 72.576 L941.479 32.9987 L934.35 32.9987 L934.35 27.2059 L941.479 27.2059 L941.479 24.0462 Q941.479 16.471 945.004 13.0277 Q948.528 9.54393 956.184 9.54393 L963.233 9.54393 Z\" fill=\"#000000\" fill-rule=\"evenodd\" fill-opacity=\"1\" /><path clip-path=\"url(#clip520)\" d=\"M995.762 34.1734 Q994.506 33.4443 993.007 33.1202 Q991.549 32.7556 989.766 32.7556 Q983.447 32.7556 980.044 36.8875 Q976.682 40.9789 976.682 48.6757 L976.682 72.576 L969.188 72.576 L969.188 27.2059 L976.682 27.2059 L976.682 34.2544 Q979.031 30.1225 982.799 28.1376 Q986.566 26.1121 991.954 26.1121 Q992.723 26.1121 993.655 26.2337 Q994.587 26.3147 995.721 26.5172 L995.762 34.1734 Z\" fill=\"#000000\" fill-rule=\"evenodd\" fill-opacity=\"1\" /><path clip-path=\"url(#clip520)\" d=\"M1040.56 48.0275 L1040.56 51.6733 L1006.29 51.6733 Q1006.78 59.3701 1010.91 63.421 Q1015.08 67.4314 1022.5 67.4314 Q1026.79 67.4314 1030.8 66.3781 Q1034.85 65.3249 1038.82 63.2184 L1038.82 70.267 Q1034.81 71.9684 1030.6 72.8596 Q1026.39 73.7508 1022.05 73.7508 Q1011.2 73.7508 1004.84 67.4314 Q998.516 61.1119 998.516 50.3365 Q998.516 39.1965 1004.51 32.6746 Q1010.55 26.1121 1020.76 26.1121 Q1029.91 26.1121 1035.22 32.0264 Q1040.56 37.9003 1040.56 48.0275 M1033.11 45.84 Q1033.03 39.7232 1029.67 36.0774 Q1026.35 32.4315 1020.84 32.4315 Q1014.6 32.4315 1010.83 35.9558 Q1007.1 39.4801 1006.54 45.8805 L1033.11 45.84 Z\" fill=\"#000000\" fill-rule=\"evenodd\" fill-opacity=\"1\" /><path clip-path=\"url(#clip520)\" d=\"M1057.25 49.9314 Q1057.25 58.1548 1060.62 62.8538 Q1064.02 67.5124 1069.93 67.5124 Q1075.85 67.5124 1079.25 62.8538 Q1082.65 58.1548 1082.65 49.9314 Q1082.65 41.7081 1079.25 37.0496 Q1075.85 32.3505 1069.93 32.3505 Q1064.02 32.3505 1060.62 37.0496 Q1057.25 41.7081 1057.25 49.9314 M1082.65 65.7705 Q1080.3 69.8214 1076.7 71.8063 Q1073.13 73.7508 1068.11 73.7508 Q1059.89 73.7508 1054.7 67.1883 Q1049.56 60.6258 1049.56 49.9314 Q1049.56 39.2371 1054.7 32.6746 Q1059.89 26.1121 1068.11 26.1121 Q1073.13 26.1121 1076.7 28.0971 Q1080.3 30.0415 1082.65 34.0924 L1082.65 27.2059 L1090.11 27.2059 L1090.11 89.8329 L1082.65 89.8329 L1082.65 65.7705 Z\" fill=\"#000000\" fill-rule=\"evenodd\" fill-opacity=\"1\" /><path clip-path=\"url(#clip520)\" d=\"M1104.69 54.671 L1104.69 27.2059 L1112.14 27.2059 L1112.14 54.3874 Q1112.14 60.8284 1114.66 64.0691 Q1117.17 67.2693 1122.19 67.2693 Q1128.23 67.2693 1131.71 63.421 Q1135.23 59.5726 1135.23 52.9291 L1135.23 27.2059 L1142.69 27.2059 L1142.69 72.576 L1135.23 72.576 L1135.23 65.6084 Q1132.52 69.7404 1128.91 71.7658 Q1125.35 73.7508 1120.61 73.7508 Q1112.79 73.7508 1108.74 68.8897 Q1104.69 64.0286 1104.69 54.671 M1123.45 26.1121 L1123.45 26.1121 Z\" fill=\"#000000\" fill-rule=\"evenodd\" fill-opacity=\"1\" /><path clip-path=\"url(#clip520)\" d=\"M1196.85 48.0275 L1196.85 51.6733 L1162.58 51.6733 Q1163.06 59.3701 1167.2 63.421 Q1171.37 67.4314 1178.78 67.4314 Q1183.08 67.4314 1187.09 66.3781 Q1191.14 65.3249 1195.11 63.2184 L1195.11 70.267 Q1191.1 71.9684 1186.88 72.8596 Q1182.67 73.7508 1178.34 73.7508 Q1167.48 73.7508 1161.12 67.4314 Q1154.8 61.1119 1154.8 50.3365 Q1154.8 39.1965 1160.8 32.6746 Q1166.83 26.1121 1177.04 26.1121 Q1186.19 26.1121 1191.5 32.0264 Q1196.85 37.9003 1196.85 48.0275 M1189.39 45.84 Q1189.31 39.7232 1185.95 36.0774 Q1182.63 32.4315 1177.12 32.4315 Q1170.88 32.4315 1167.11 35.9558 Q1163.39 39.4801 1162.82 45.8805 L1189.39 45.84 Z\" fill=\"#000000\" fill-rule=\"evenodd\" fill-opacity=\"1\" /><path clip-path=\"url(#clip520)\" d=\"M1246.8 45.1919 L1246.8 72.576 L1239.34 72.576 L1239.34 45.4349 Q1239.34 38.994 1236.83 35.7938 Q1234.32 32.5936 1229.3 32.5936 Q1223.26 32.5936 1219.78 36.4419 Q1216.29 40.2903 1216.29 46.9338 L1216.29 72.576 L1208.8 72.576 L1208.8 27.2059 L1216.29 27.2059 L1216.29 34.2544 Q1218.97 30.163 1222.57 28.1376 Q1226.22 26.1121 1230.96 26.1121 Q1238.78 26.1121 1242.79 30.9732 Q1246.8 35.7938 1246.8 45.1919 Z\" fill=\"#000000\" fill-rule=\"evenodd\" fill-opacity=\"1\" /><path clip-path=\"url(#clip520)\" d=\"M1294.31 28.9478 L1294.31 35.9153 Q1291.15 34.1734 1287.95 33.3227 Q1284.79 32.4315 1281.55 32.4315 Q1274.3 32.4315 1270.29 37.0496 Q1266.28 41.6271 1266.28 49.9314 Q1266.28 58.2358 1270.29 62.8538 Q1274.3 67.4314 1281.55 67.4314 Q1284.79 67.4314 1287.95 66.5807 Q1291.15 65.6895 1294.31 63.9476 L1294.31 70.8341 Q1291.19 72.2924 1287.83 73.0216 Q1284.51 73.7508 1280.74 73.7508 Q1270.49 73.7508 1264.46 67.3098 Q1258.42 60.8689 1258.42 49.9314 Q1258.42 38.832 1264.5 32.472 Q1270.62 26.1121 1281.23 26.1121 Q1284.67 26.1121 1287.95 26.8413 Q1291.23 27.5299 1294.31 28.9478 Z\" fill=\"#000000\" fill-rule=\"evenodd\" fill-opacity=\"1\" /><path clip-path=\"url(#clip520)\" d=\"M1307.28 27.2059 L1314.73 27.2059 L1314.73 72.576 L1307.28 72.576 L1307.28 27.2059 M1307.28 9.54393 L1314.73 9.54393 L1314.73 18.9825 L1307.28 18.9825 L1307.28 9.54393 Z\" fill=\"#000000\" fill-rule=\"evenodd\" fill-opacity=\"1\" /><path clip-path=\"url(#clip520)\" d=\"M1369.13 48.0275 L1369.13 51.6733 L1334.86 51.6733 Q1335.35 59.3701 1339.48 63.421 Q1343.65 67.4314 1351.07 67.4314 Q1355.36 67.4314 1359.37 66.3781 Q1363.42 65.3249 1367.39 63.2184 L1367.39 70.267 Q1363.38 71.9684 1359.17 72.8596 Q1354.96 73.7508 1350.62 73.7508 Q1339.76 73.7508 1333.4 67.4314 Q1327.09 61.1119 1327.09 50.3365 Q1327.09 39.1965 1333.08 32.6746 Q1339.12 26.1121 1349.32 26.1121 Q1358.48 26.1121 1363.79 32.0264 Q1369.13 37.9003 1369.13 48.0275 M1361.68 45.84 Q1361.6 39.7232 1358.24 36.0774 Q1354.91 32.4315 1349.41 32.4315 Q1343.17 32.4315 1339.4 35.9558 Q1335.67 39.4801 1335.11 45.8805 L1361.68 45.84 Z\" fill=\"#000000\" fill-rule=\"evenodd\" fill-opacity=\"1\" /><path clip-path=\"url(#clip520)\" d=\"M1410.29 28.5427 L1410.29 35.5912 Q1407.13 33.9709 1403.73 33.1607 Q1400.33 32.3505 1396.68 32.3505 Q1391.13 32.3505 1388.33 34.0519 Q1385.58 35.7533 1385.58 39.156 Q1385.58 41.7486 1387.57 43.2475 Q1389.55 44.7058 1395.55 46.0426 L1398.1 46.6097 Q1406.04 48.3111 1409.36 51.4303 Q1412.72 54.509 1412.72 60.0587 Q1412.72 66.3781 1407.7 70.0644 Q1402.72 73.7508 1393.97 73.7508 Q1390.32 73.7508 1386.35 73.0216 Q1382.42 72.3329 1378.05 70.9151 L1378.05 63.2184 Q1382.18 65.3654 1386.19 66.4591 Q1390.2 67.5124 1394.13 67.5124 Q1399.39 67.5124 1402.23 65.73 Q1405.06 63.9071 1405.06 60.6258 Q1405.06 57.5877 1403 55.9673 Q1400.97 54.3469 1394.05 52.8481 L1391.45 52.2405 Q1384.53 50.7821 1381.45 47.7845 Q1378.37 44.7463 1378.37 39.4801 Q1378.37 33.0797 1382.91 29.5959 Q1387.44 26.1121 1395.79 26.1121 Q1399.92 26.1121 1403.57 26.7198 Q1407.21 27.3274 1410.29 28.5427 Z\" fill=\"#000000\" fill-rule=\"evenodd\" fill-opacity=\"1\" /><circle clip-path=\"url(#clip522)\" cx=\"1568.91\" cy=\"469.738\" r=\"14\" fill=\"#009af9\" fill-rule=\"evenodd\" fill-opacity=\"1\" stroke=\"#000000\" stroke-opacity=\"1\" stroke-width=\"2\"/>\n",
       "<circle clip-path=\"url(#clip522)\" cx=\"1573.03\" cy=\"469.738\" r=\"14\" fill=\"#009af9\" fill-rule=\"evenodd\" fill-opacity=\"1\" stroke=\"#000000\" stroke-opacity=\"1\" stroke-width=\"2\"/>\n",
       "<circle clip-path=\"url(#clip522)\" cx=\"1581.12\" cy=\"364.34\" r=\"14\" fill=\"#009af9\" fill-rule=\"evenodd\" fill-opacity=\"1\" stroke=\"#000000\" stroke-opacity=\"1\" stroke-width=\"2\"/>\n",
       "<circle clip-path=\"url(#clip522)\" cx=\"1556.22\" cy=\"760.254\" r=\"14\" fill=\"#009af9\" fill-rule=\"evenodd\" fill-opacity=\"1\" stroke=\"#000000\" stroke-opacity=\"1\" stroke-width=\"2\"/>\n",
       "<circle clip-path=\"url(#clip522)\" cx=\"1589.01\" cy=\"299.628\" r=\"14\" fill=\"#009af9\" fill-rule=\"evenodd\" fill-opacity=\"1\" stroke=\"#000000\" stroke-opacity=\"1\" stroke-width=\"2\"/>\n",
       "<circle clip-path=\"url(#clip522)\" cx=\"1622.31\" cy=\"429.263\" r=\"14\" fill=\"#009af9\" fill-rule=\"evenodd\" fill-opacity=\"1\" stroke=\"#000000\" stroke-opacity=\"1\" stroke-width=\"2\"/>\n",
       "<circle clip-path=\"url(#clip522)\" cx=\"1596.71\" cy=\"262.05\" r=\"14\" fill=\"#009af9\" fill-rule=\"evenodd\" fill-opacity=\"1\" stroke=\"#000000\" stroke-opacity=\"1\" stroke-width=\"2\"/>\n",
       "<circle clip-path=\"url(#clip522)\" cx=\"1611.59\" cy=\"264.796\" r=\"14\" fill=\"#009af9\" fill-rule=\"evenodd\" fill-opacity=\"1\" stroke=\"#000000\" stroke-opacity=\"1\" stroke-width=\"2\"/>\n",
       "<circle clip-path=\"url(#clip522)\" cx=\"1585.09\" cy=\"358.474\" r=\"14\" fill=\"#009af9\" fill-rule=\"evenodd\" fill-opacity=\"1\" stroke=\"#000000\" stroke-opacity=\"1\" stroke-width=\"2\"/>\n",
       "<circle clip-path=\"url(#clip522)\" cx=\"1577.1\" cy=\"415.171\" r=\"14\" fill=\"#009af9\" fill-rule=\"evenodd\" fill-opacity=\"1\" stroke=\"#000000\" stroke-opacity=\"1\" stroke-width=\"2\"/>\n",
       "<circle clip-path=\"url(#clip522)\" cx=\"1592.88\" cy=\"266.191\" r=\"14\" fill=\"#009af9\" fill-rule=\"evenodd\" fill-opacity=\"1\" stroke=\"#000000\" stroke-opacity=\"1\" stroke-width=\"2\"/>\n",
       "<circle clip-path=\"url(#clip522)\" cx=\"1564.74\" cy=\"491.915\" r=\"14\" fill=\"#009af9\" fill-rule=\"evenodd\" fill-opacity=\"1\" stroke=\"#000000\" stroke-opacity=\"1\" stroke-width=\"2\"/>\n",
       "<circle clip-path=\"url(#clip522)\" cx=\"1629.27\" cy=\"670.807\" r=\"14\" fill=\"#009af9\" fill-rule=\"evenodd\" fill-opacity=\"1\" stroke=\"#000000\" stroke-opacity=\"1\" stroke-width=\"2\"/>\n",
       "<circle clip-path=\"url(#clip522)\" cx=\"1615.2\" cy=\"307.11\" r=\"14\" fill=\"#009af9\" fill-rule=\"evenodd\" fill-opacity=\"1\" stroke=\"#000000\" stroke-opacity=\"1\" stroke-width=\"2\"/>\n",
       "<circle clip-path=\"url(#clip522)\" cx=\"1560.51\" cy=\"642.012\" r=\"14\" fill=\"#009af9\" fill-rule=\"evenodd\" fill-opacity=\"1\" stroke=\"#000000\" stroke-opacity=\"1\" stroke-width=\"2\"/>\n",
       "<circle clip-path=\"url(#clip522)\" cx=\"1625.81\" cy=\"529.038\" r=\"14\" fill=\"#009af9\" fill-rule=\"evenodd\" fill-opacity=\"1\" stroke=\"#000000\" stroke-opacity=\"1\" stroke-width=\"2\"/>\n",
       "<circle clip-path=\"url(#clip522)\" cx=\"1600.49\" cy=\"252.876\" r=\"14\" fill=\"#009af9\" fill-rule=\"evenodd\" fill-opacity=\"1\" stroke=\"#000000\" stroke-opacity=\"1\" stroke-width=\"2\"/>\n",
       "<circle clip-path=\"url(#clip522)\" cx=\"1607.93\" cy=\"282.624\" r=\"14\" fill=\"#009af9\" fill-rule=\"evenodd\" fill-opacity=\"1\" stroke=\"#000000\" stroke-opacity=\"1\" stroke-width=\"2\"/>\n",
       "<circle clip-path=\"url(#clip522)\" cx=\"1618.78\" cy=\"350.145\" r=\"14\" fill=\"#009af9\" fill-rule=\"evenodd\" fill-opacity=\"1\" stroke=\"#000000\" stroke-opacity=\"1\" stroke-width=\"2\"/>\n",
       "<circle clip-path=\"url(#clip522)\" cx=\"1604.23\" cy=\"237.396\" r=\"14\" fill=\"#009af9\" fill-rule=\"evenodd\" fill-opacity=\"1\" stroke=\"#000000\" stroke-opacity=\"1\" stroke-width=\"2\"/>\n",
       "</svg>\n"
      ]
     },
     "execution_count": 211,
     "metadata": {},
     "output_type": "execute_result"
    }
   ],
   "source": [
    "kmer_counts = Dict(observation_graph.vprops[v][:kmer] => observation_graph.vprops[v][:weight] for v in LightGraphs.vertices(observation_graph))\n",
    "total_observed_kmers = sum(values(kmer_counts))\n",
    "kmer_probabilities = Dict(k => v/total_observed_kmers for (k,v) in kmer_counts)\n",
    "scale = 250\n",
    "Mycelia.plot_kmer_frequency_spectra(values(kmer_counts), size=(2scale,scale), title=\"kmer frequencies\")"
   ]
  },
  {
   "cell_type": "code",
   "execution_count": 212,
   "id": "fd15af69-a35c-45cf-8399-70bc287d11d7",
   "metadata": {},
   "outputs": [
    {
     "data": {
      "text/plain": [
       "0.0"
      ]
     },
     "execution_count": 212,
     "metadata": {},
     "output_type": "execute_result"
    }
   ],
   "source": [
    "reference_kmers = keys(Mycelia.count_canonical_kmers(BioSequences.DNAMer{k}, reference_fasta_file))\n",
    "distance_to_reference_graph = 1 - LSHFunctions.jaccard(Set(reference_kmers), Set(keys(kmer_counts)))"
   ]
  },
  {
   "cell_type": "code",
   "execution_count": 213,
   "id": "8aa68dd2-82f2-48e9-984a-092df381a39d",
   "metadata": {},
   "outputs": [
    {
     "data": {
      "text/plain": [
       "20-element Vector{Pair{Int64, Int64}}:\n",
       " 75 => 2\n",
       " 76 => 5\n",
       " 77 => 16\n",
       " 78 => 19\n",
       " 79 => 19\n",
       " 80 => 29\n",
       " 81 => 43\n",
       " 82 => 45\n",
       " 83 => 71\n",
       " 84 => 92\n",
       " 85 => 95\n",
       " 86 => 102\n",
       " 87 => 115\n",
       " 88 => 81\n",
       " 89 => 93\n",
       " 90 => 67\n",
       " 91 => 48\n",
       " 92 => 26\n",
       " 93 => 12\n",
       " 94 => 4"
      ]
     },
     "execution_count": 213,
     "metadata": {},
     "output_type": "execute_result"
    }
   ],
   "source": [
    "kmer_counts_histogram = sort(collect(StatsBase.countmap(collect(values(kmer_counts)))), by=x->x[1])"
   ]
  },
  {
   "cell_type": "code",
   "execution_count": 215,
   "id": "ed22ec40-e72e-445f-a0fe-b38b3de73aae",
   "metadata": {},
   "outputs": [
    {
     "data": {
      "text/html": [
       "<img src=./../../../2021-08-24-assess-convergence-phage-1000x-coverage/LENGTH-1000-DEPTH-100.fastq.k-17.gfa.svg>"
      ]
     },
     "metadata": {},
     "output_type": "display_data"
    }
   ],
   "source": [
    "# visualize\n",
    "gfa_file = observations_file * \".k-$k.gfa\"\n",
    "Mycelia.graph_to_gfa(observation_graph, gfa_file)\n",
    "\n",
    "run(`$(BANDAGE) image $(gfa_file) $(gfa_file).svg --depwidth .9 --deppower .9`)\n",
    "# --nodewidth <float> Average node width (0.5 to 1000, default: 5)\n",
    "# --depwidth <float>  Depth effect on width (0 to 1, default: 0.5)\n",
    "# --deppower <float>  Power of depth effect on width (0 to 1, default: 0.5)\n",
    "\n",
    "html_path_to_svg = \"./\" * repeat(\"../\", length(split(pwd(), '/')) - 3)\n",
    "html_path_to_svg *= replace(\"$(gfa_file).svg\", \"$(homedir())/\" => \"\")\n",
    "\n",
    "x = \"<img src=$(html_path_to_svg)>\"\n",
    "display(\"text/html\", x)\n",
    "# display(\"image/svg+xml\", read(\"$(gfa_file).svg\", String))"
   ]
  },
  {
   "cell_type": "code",
   "execution_count": null,
   "id": "681f12c3-4736-4065-8bfb-3d3be29cc8dc",
   "metadata": {},
   "outputs": [],
   "source": [
    "# step 2, re-simulate reads as a means of error correction"
   ]
  },
  {
   "cell_type": "code",
   "execution_count": 218,
   "id": "adcfaf65-de18-4a92-8355-5c8b190007c9",
   "metadata": {},
   "outputs": [
    {
     "data": {
      "text/plain": [
       "984-element Vector{Float64}:\n",
       " 0.0010189814924524278\n",
       " 0.0010545273584682102\n",
       " 0.0010189814924524278\n",
       " 0.0010189814924524278\n",
       " 0.0010782246024787316\n",
       " 0.0009241925164103415\n",
       " 0.0010189814924524278\n",
       " 0.001066375980473471\n",
       " 0.0010545273584682102\n",
       " 0.0009834356264366453\n",
       " 0.001007132870447167\n",
       " 0.0009360411384156023\n",
       " 0.0009360411384156023\n",
       " ⋮\n",
       " 0.0010545273584682102\n",
       " 0.001007132870447167\n",
       " 0.0009715870044313846\n",
       " 0.0009952842484419063\n",
       " 0.0009597383824261239\n",
       " 0.0010189814924524278\n",
       " 0.0009834356264366453\n",
       " 0.0010308301144576885\n",
       " 0.0009952842484419063\n",
       " 0.0010189814924524278\n",
       " 0.0010426787364629494\n",
       " 0.0010189814924524278"
      ]
     },
     "execution_count": 218,
     "metadata": {},
     "output_type": "execute_result"
    }
   ],
   "source": [
    "kmer_probabilities = values(kmer_counts) ./ sum(values(kmer_counts))"
   ]
  },
  {
   "cell_type": "code",
   "execution_count": 219,
   "id": "b31d13b0-f2e7-4381-9f55-e310b1ab7c9e",
   "metadata": {},
   "outputs": [
    {
     "data": {
      "text/plain": [
       "Dict{Bool, SparseArrays.SparseMatrixCSC{Float64, Int64}} with 2 entries:\n",
       "  0 => …\n",
       "  1 => …"
      ]
     },
     "execution_count": 219,
     "metadata": {},
     "output_type": "execute_result"
    }
   ],
   "source": [
    "edge_weights = determine_edge_weights(observation_graph)"
   ]
  },
  {
   "cell_type": "code",
   "execution_count": 220,
   "id": "7d10d99f-7db2-4044-a1db-362b37e01266",
   "metadata": {},
   "outputs": [
    {
     "data": {
      "text/plain": [
       "984×984 SparseArrays.SparseMatrixCSC{Float64, Int64} with 983 stored entries:\n",
       "⠉⠓⠒⠦⢤⣀⣀⠀⠀⠀⠀⠀⠀⠀⠀⠀⠀⠀⠀⠀⠀⠀⠀⠀⠀⠀⠀⠀⠀⠀⠀⠀⠀⠀⠀⠀⠀⠀⠀⠀\n",
       "⠀⠀⠄⠁⡀⠀⠈⠉⠑⠒⡦⠤⢄⢀⣀⠀⠀⠀⠀⠀⠀⠀⠀⠀⠀⠀⠀⠀⠀⠀⠀⠀⠀⠀⠀⠀⠀⠀⠀⠀\n",
       "⠀⠀⠀⠈⣀⠜⢀⠁⠀⠀⠀⠄⠀⠐⠨⠉⠙⠖⠦⣄⡀⠀⠀⠀⠀⠀⠀⠀⠀⠀⠀⠀⠀⠀⠀⠀⠀⠀⠀⠀\n",
       "⠀⠀⠀⠀⠄⠐⠀⠀⠀⠈⠐⠀⡢⠀⠂⠂⠂⠄⠀⢀⠉⠉⠲⢤⣀⠀⠀⠀⠀⠀⠀⠀⠀⠀⠀⠀⠀⠀⠀⠀\n",
       "⠀⠀⠀⠀⠀⠀⡀⠀⠎⠁⠠⠠⠀⠈⠀⠅⠢⡣⠀⠠⠁⠀⠀⠂⠁⠉⠓⢰⣤⣀⠀⠀⠀⠀⠀⠀⠀⠀⠀⠀\n",
       "⠀⠀⠀⠈⠀⠄⠐⠀⠀⡂⠀⠀⠀⠥⠀⠂⠠⠂⠀⠀⡈⠄⠁⡀⠀⠀⠄⣀⠠⠐⠉⠱⠦⣄⡀⠀⠀⠀⠀⠀\n",
       "⠀⠀⠀⠀⢀⠀⠈⠊⡀⠀⠄⡄⠐⠀⢀⠢⠄⠀⠀⠀⠀⠄⠀⠀⠘⠁⠈⠈⠁⠀⠀⠐⠆⠄⠙⡖⣦⣀⠀⠀\n",
       "⠀⠀⠀⠀⠀⠂⠨⠀⠄⠄⠠⠀⠠⡐⠀⡠⠄⠂⠀⠀⠀⠠⠃⠹⠀⠀⠈⠂⠀⠊⠀⠀⢡⠠⢎⣐⣁⠂⠑⡀\n",
       "⠀⠀⠀⠀⢀⠄⠈⠄⠬⡢⠠⠂⠀⠁⠠⠁⠀⠀⠀⠀⠀⠀⠀⡆⡰⠀⠄⢁⢇⠁⠀⠀⠙⠁⠀⡂⠈⡃⢰⢣\n",
       "⠈⠉⠀⠉⠈⠳⠒⢦⠠⡄⠤⣀⡀⠀⠀⠀⠀⠀⠀⠀⠀⠀⠀⠀⠀⠀⠀⠀⠀⠀⠀⠀⠀⠀⠀⠀⠀⠀⠀⠁\n",
       "⠀⠀⠀⠀⠀⠀⠀⠀⠁⠀⠂⠌⠉⠍⠓⡒⠄⠤⢠⣀⡀⠀⠀⠀⠀⠀⠀⠀⠀⠀⠀⠀⠀⠀⠀⠀⠀⠀⠀⠀\n",
       "⠀⠀⠀⠀⠀⠀⠀⠀⠠⠀⠁⠠⠀⠀⣍⡀⠠⠤⠀⠀⠈⠈⠙⠒⠒⢤⣀⣀⠀⠀⠀⠀⠀⠀⠀⠀⠀⠀⠀⠀\n",
       "⠀⠀⠀⠀⠀⠀⠀⠀⠁⠀⠀⠀⠖⠀⠀⠀⠐⠊⠀⠀⠀⠀⠀⠀⠀⠀⠁⢈⢙⠒⠤⠤⣀⡀⠀⠀⠀⠀⠀⠀\n",
       "⠀⠀⠀⠀⠀⠀⠀⠀⠈⢀⠀⢡⡂⠀⠢⠀⠄⢁⠀⠀⠀⠀⠀⠀⡁⢀⠠⠂⠅⠠⠀⠀⠀⠟⠝⠲⠄⣄⠀⠀\n",
       "⡀⠀⠀⠀⠀⠀⠀⠀⠀⠘⢀⠂⠁⠀⡠⠀⠍⠑⠀⠀⠀⠀⠀⠀⠀⠐⠁⡁⠠⡢⠀⠀⠀⠐⠢⡠⢱⠎⠁⣆\n",
       "⠁⠉⠀⠉⠁⠙⠒⠒⠂⠤⢤⣠⣀⣀⡀⣀⠀⠀⠀⠀⠀⠀⠀⠀⠀⠀⠀⠀⠀⠀⠀⠀⠀⠀⠀⠀⠀⠀⠀⠀\n",
       "⠀⠀⠀⠀⠀⠀⠀⠀⠀⠀⠀⠀⠈⠅⠁⡚⠟⠀⠉⠂⠂⠂⠂⠂⠰⠤⣤⠤⣀⣀⠀⠀⠀⠀⠀⠀⠀⠀⠀⠀\n",
       "⠀⠀⠀⠀⠀⠀⠀⠀⠀⠀⠀⠀⠠⠤⢊⢱⠠⠠⠀⠀⠀⠀⠀⠀⠀⠀⠰⡁⠈⡢⠉⠁⠉⠑⠒⠦⣄⡀⠀⠀\n",
       "⠤⠤⠀⢀⣀⣀⠀⡀⡀⠀⠀⠀⠀⠘⠡⠘⠦⠠⠀⠀⠀⠀⠀⠀⠀⠀⠀⠀⠱⠖⠀⠀⠀⠀⠀⠹⠀⠍⠑⠐\n",
       "⠀⠀⠀⠀⠀⠀⠀⠀⠉⠁⠁⠉⠈⠁⠐⠐⠰⢒⠄⠐⠒⠀⠒⠀⠀⠀⠤⠄⠤⢤⠄⠀⠀⠀⠠⠀⢀⡀⠀⠀"
      ]
     },
     "execution_count": 220,
     "metadata": {},
     "output_type": "execute_result"
    }
   ],
   "source": [
    "edge_weights[true]"
   ]
  },
  {
   "cell_type": "code",
   "execution_count": 224,
   "id": "6355ddd5-0103-4927-850b-b0f5c42c7ff9",
   "metadata": {},
   "outputs": [
    {
     "name": "stdout",
     "output_type": "stream",
     "text": [
      "  0.008564 seconds (56.06 k allocations: 1.734 MiB)\n",
      "  0.371072 seconds (435.57 k allocations: 25.613 MiB, 83.59% compilation time)\n"
     ]
    },
    {
     "data": {
      "text/plain": [
       "Dict{Bool, SparseArrays.SparseMatrixCSC{Float64, Int64}} with 2 entries:\n",
       "  0 => …\n",
       "  1 => …"
      ]
     },
     "execution_count": 224,
     "metadata": {},
     "output_type": "execute_result"
    }
   ],
   "source": [
    "@time edge_weights = determine_edge_weights(observation_graph)\n",
    "@time edge_probabilities = determine_edge_probabilities(edge_weights)"
   ]
  },
  {
   "cell_type": "code",
   "execution_count": 225,
   "id": "35780516-bfc9-4b9e-aaf8-869e14d4c5e7",
   "metadata": {},
   "outputs": [],
   "source": [
    "step_probabilities = copy(edge_probabilities)\n",
    "for orientation in [true, false]\n",
    "    oriented_step_probabilities = step_probabilities[orientation] \n",
    "    for row in 1:size(step_probabilities[orientation], 1)\n",
    "        step_probabilities_ = step_probabilities[orientation][row, :] .* kmer_probabilities\n",
    "        if sum(step_probabilities_) > 0\n",
    "            step_probabilities[orientation][row, :] .= step_probabilities_ ./ sum(step_probabilities_)\n",
    "        end\n",
    "    end\n",
    "end"
   ]
  },
  {
   "cell_type": "code",
   "execution_count": 341,
   "id": "095ecb87-5370-44dd-9cf9-bd152f71ae76",
   "metadata": {},
   "outputs": [],
   "source": [
    "# observation = first(observations)"
   ]
  },
  {
   "cell_type": "code",
   "execution_count": 342,
   "id": "f5c5eca0-863b-4ce7-818e-ee50dffd72ee",
   "metadata": {},
   "outputs": [],
   "source": [
    "# FASTX.sequence(observation)"
   ]
  },
  {
   "cell_type": "code",
   "execution_count": 343,
   "id": "48e6fd51-1b1c-41dc-bd6a-1cc0b1f8bc7d",
   "metadata": {},
   "outputs": [],
   "source": [
    "# kmers = collect(keys(kmer_counts))"
   ]
  },
  {
   "cell_type": "code",
   "execution_count": 344,
   "id": "09307836-4f8c-426f-ab9f-04224c0bc772",
   "metadata": {},
   "outputs": [],
   "source": [
    "# mers = collect(BioSequences.each(eltype(kmers), FASTX.sequence(observation)))\n",
    "# index_is_solid = falses(length(mers))\n",
    "# for (i, mer) in enumerate(mers)\n",
    "#     canonical_mer = min(mer.fw, mer.bw)\n",
    "# #     @show canonical_mer\n",
    "#     canonical_mer_in_graph = !isempty(searchsorted(kmers, canonical_mer))\n",
    "# #     @show canonical_mer_in_graph\n",
    "#     index_is_solid[i] = canonical_mer_in_graph\n",
    "# end\n",
    "# @show index_is_solid"
   ]
  },
  {
   "cell_type": "code",
   "execution_count": 345,
   "id": "4a8f5e9f-53a4-409a-87ca-96296c9e6ccb",
   "metadata": {},
   "outputs": [],
   "source": [
    "# solid_mer_indices = findall(index_is_solid)"
   ]
  },
  {
   "cell_type": "code",
   "execution_count": 346,
   "id": "c7bb68c0-5a7e-4604-95ea-9ed25f577172",
   "metadata": {},
   "outputs": [],
   "source": [
    "# first_solid_mer_index = findfirst(index_is_solid)"
   ]
  },
  {
   "cell_type": "code",
   "execution_count": 347,
   "id": "de680fbb-bf4b-4c93-8435-421d4de57977",
   "metadata": {},
   "outputs": [],
   "source": [
    "# first_solid_mer = mers[first_solid_mer]"
   ]
  },
  {
   "cell_type": "code",
   "execution_count": 349,
   "id": "03359db9-c701-4593-ac0c-b757bbe9f834",
   "metadata": {},
   "outputs": [],
   "source": [
    "# canonical_mer = min(first_solid_mer.fw, first_solid_mer.bw)"
   ]
  },
  {
   "cell_type": "code",
   "execution_count": 350,
   "id": "5c7182c1-c637-4843-91d0-25b54ce9a53e",
   "metadata": {},
   "outputs": [],
   "source": [
    "# orientation = first_solid_mer.fw == canonical_mer"
   ]
  },
  {
   "cell_type": "code",
   "execution_count": 290,
   "id": "9b82abbb-c5b8-4fd0-b9fa-f47ff6b2043c",
   "metadata": {},
   "outputs": [],
   "source": [
    "# determine vertex and orientation of solid kmer"
   ]
  },
  {
   "cell_type": "code",
   "execution_count": 351,
   "id": "c46f65ec-b422-4f6a-a567-8044c6e35198",
   "metadata": {},
   "outputs": [],
   "source": [
    "# indices = searchsorted(kmers, canonical_mer)\n",
    "# @assert length(indices) == 1\n",
    "# index = first(indices)"
   ]
  },
  {
   "cell_type": "code",
   "execution_count": 292,
   "id": "d077a80c-00ea-4ec7-b08e-925cc2ddf408",
   "metadata": {},
   "outputs": [],
   "source": [
    "# walk backward index - 1 steps and put that into the read"
   ]
  },
  {
   "cell_type": "code",
   "execution_count": 352,
   "id": "94aec56d-6c92-484b-8e31-176f45ddfe0b",
   "metadata": {},
   "outputs": [],
   "source": [
    "# backwards_walk = random_walk(observation_graph, index, !orientation, step_probabilities; n_steps=first_solid_mer_index-1)"
   ]
  },
  {
   "cell_type": "code",
   "execution_count": 353,
   "id": "bcaa7deb-b7a6-4050-8f13-ea7c05fe6ca6",
   "metadata": {},
   "outputs": [],
   "source": [
    "# initial_walk = map(x -> (vertex=x.vertex, orientation=!x.orientation), reverse(backwards_walk))"
   ]
  },
  {
   "cell_type": "code",
   "execution_count": 354,
   "id": "d005c284-4aa0-4c0d-a48f-0fac54ddd48a",
   "metadata": {},
   "outputs": [],
   "source": [
    "# current_solid_mer_index = first_solid_mer_index\n",
    "# current_solid_mer = mers[current_solid_mer_index]"
   ]
  },
  {
   "cell_type": "code",
   "execution_count": 355,
   "id": "fa37f25b-2dc6-46bb-8f2c-eb5f4a8cbbc8",
   "metadata": {},
   "outputs": [],
   "source": [
    "# current_solid_mer_orientation = orientation"
   ]
  },
  {
   "cell_type": "code",
   "execution_count": 356,
   "id": "7900bb7a-e32f-476c-be12-e438869f55d8",
   "metadata": {},
   "outputs": [],
   "source": [
    "# next_solid_mer_index = findnext(index_is_solid, current_solid_mer_index+1)"
   ]
  },
  {
   "cell_type": "code",
   "execution_count": 357,
   "id": "58072ea5-a26c-4b85-9f5b-6f5efd59cc6e",
   "metadata": {},
   "outputs": [],
   "source": [
    "# next_solid_mer = mers[next_solid_mer_index]"
   ]
  },
  {
   "cell_type": "code",
   "execution_count": 358,
   "id": "fa6ed0e2-b1de-4d1b-ae73-fc6dfcdbfba4",
   "metadata": {},
   "outputs": [],
   "source": [
    "# next_solid_mer_orientation = next_solid_mer.fw <= next_solid_mer.bw"
   ]
  },
  {
   "cell_type": "code",
   "execution_count": null,
   "id": "cf9ab6a8-f1fc-4b61-accf-e1fca34941a9",
   "metadata": {},
   "outputs": [],
   "source": [
    "# yen 3 shortest paths between previous solid kmer and this solid kmer"
   ]
  },
  {
   "cell_type": "code",
   "execution_count": null,
   "id": "3a30fef3-b67b-4840-8dd0-4c6191865c30",
   "metadata": {},
   "outputs": [],
   "source": [
    "# determine probability of each possible new path"
   ]
  },
  {
   "cell_type": "code",
   "execution_count": null,
   "id": "3cfcd6dd-48f0-433b-ad7e-e89482f54437",
   "metadata": {},
   "outputs": [],
   "source": [
    "# accept paths according to relative probability"
   ]
  },
  {
   "cell_type": "code",
   "execution_count": null,
   "id": "a9321da7-b890-4b0f-9019-e42b118681d6",
   "metadata": {},
   "outputs": [],
   "source": [
    "# put into the read"
   ]
  },
  {
   "cell_type": "code",
   "execution_count": null,
   "id": "17d4fffb-14fa-44a1-985e-9669c262d473",
   "metadata": {},
   "outputs": [],
   "source": [
    "# if end is not solid, random walk from last solid kmer to total number of steps"
   ]
  },
  {
   "cell_type": "code",
   "execution_count": 234,
   "id": "bb9005c4-ff3f-477f-bbe6-3f7d63e9e962",
   "metadata": {},
   "outputs": [
    {
     "ename": "LoadError",
     "evalue": "AssertionError: CCACCATCATCGTCGGA not found in kmer list",
     "output_type": "error",
     "traceback": [
      "AssertionError: CCACCATCATCGTCGGA not found in kmer list",
      "",
      "Stacktrace:",
      " [1] get_kmer_index(kmers::Vector{BioSequences.DNAMer{17}}, kmer::BioSequences.DNAMer{17})",
      "   @ Mycelia ~/git/Mycelia/src/Mycelia.jl:1789",
      " [2] sequence_to_oriented_path(sequence::BioSequences.LongDNASeq, kmers::Vector{BioSequences.DNAMer{17}})",
      "   @ Mycelia ~/git/Mycelia/src/Mycelia.jl:2591",
      " [3] top-level scope",
      "   @ In[234]:1",
      " [4] eval",
      "   @ ./boot.jl:360 [inlined]",
      " [5] include_string(mapexpr::typeof(REPL.softscope), mod::Module, code::String, filename::String)",
      "   @ Base ./loading.jl:1094"
     ]
    }
   ],
   "source": [
    "# Mycelia.sequence_to_oriented_path(FASTX.sequence(observation), collect(keys(kmer_counts)))"
   ]
  },
  {
   "cell_type": "code",
   "execution_count": 361,
   "id": "f2ecfeeb-0030-4acc-86e1-9c367e76fb1e",
   "metadata": {},
   "outputs": [
    {
     "name": "stderr",
     "output_type": "stream",
     "text": [
      "\u001b[32mProgress: 100%|█████████████████████████████████████████| Time: 0:00:02\u001b[39m\n"
     ]
    }
   ],
   "source": [
    "ProgressMeter.@showprogress for observation in observations\n",
    "    read_length = length(FASTX.sequence(observation))\n",
    "    max_steps = read_length - observation_graph.gprops[:k]\n",
    "    # apply a squaring penalty to kmer_weights?\n",
    "    initial_vertex = StatsBase.sample(1:length(kmers), StatsBase.weights(kmer_probabilities.^2))\n",
    "#     @show \"choosing initial vertex $initial_vertex with probability $(kmer_weights[initial_vertex])\"\n",
    "    initial_orientation = rand(Bool)\n",
    "    forward_walk = random_walk(observation_graph, initial_vertex, initial_orientation, step_probabilities, n_steps=max_steps)\n",
    "    remaining_steps = max_steps - length(forward_walk)\n",
    "    reverse_walk = random_walk(observation_graph, initial_vertex, !initial_orientation, step_probabilities, n_steps = remaining_steps)\n",
    "    full_walk = [[(vertex=x.vertex, orientation=!x.orientation) for x in reverse(reverse_walk)]..., [(vertex = initial_vertex, orientation = initial_orientation)]..., forward_walk...]\n",
    "    oriented_path = [(x.vertex, x.orientation) for x in full_walk]\n",
    "    new_seq = Mycelia.oriented_path_to_sequence(observation_graph, oriented_path)\n",
    "    new_record = FASTX.FASTQ.Record(\n",
    "        FASTX.identifier(observation)*\"-k$k\",\n",
    "        FASTX.identifier(observation),\n",
    "        new_seq,\n",
    "        StatsBase.sample(FASTX.quality(observation), length(new_seq))\n",
    "    )\n",
    "#     @show \"here\"\n",
    "    push!(new_records, new_record)\n",
    "end\n",
    "new_records;"
   ]
  },
  {
   "cell_type": "code",
   "execution_count": 362,
   "id": "61bf8c37-0b33-4e58-b1db-ba24d7bb3b4a",
   "metadata": {},
   "outputs": [],
   "source": [
    "corrected_fastq_file = replace(observations_file, r\"\\.fastq\" => \".k$k.fastq\")\n",
    "open(corrected_fastq_file, \"w\") do io\n",
    "    fastq_writer = FASTX.FASTQ.Writer(io)\n",
    "    for record in new_records\n",
    "        write(fastq_writer, record)\n",
    "    end\n",
    "    close(fastq_writer)\n",
    "end"
   ]
  },
  {
   "cell_type": "code",
   "execution_count": 363,
   "id": "9f72e026-ce76-4e1c-a4da-231f4225a358",
   "metadata": {},
   "outputs": [
    {
     "name": "stderr",
     "output_type": "stream",
     "text": [
      "┌ Info: assessing kmers\n",
      "└ @ Mycelia /home/jovyan/git/Mycelia/src/Mycelia.jl:1932\n",
      "┌ Info: creating graph\n",
      "└ @ Mycelia /home/jovyan/git/Mycelia/src/Mycelia.jl:1948\n"
     ]
    },
    {
     "data": {
      "text/plain": [
       "{984, 1966} directed Int64 metagraph with Float64 weights defined by :weight (default weight 1.0)"
      ]
     },
     "execution_count": 363,
     "metadata": {},
     "output_type": "execute_result"
    }
   ],
   "source": [
    "corrected_observation_graph = Mycelia.fastx_to_kmer_graph(BioSequences.DNAMer{k}, corrected_fastq_file)"
   ]
  },
  {
   "cell_type": "code",
   "execution_count": 364,
   "id": "7dcb49eb-7261-4120-b488-52b3a3739416",
   "metadata": {},
   "outputs": [
    {
     "data": {
      "text/html": [
       "<img src=./../../../2021-08-24-assess-convergence-phage-1000x-coverage/LENGTH-1000-DEPTH-100.k17.fastq.k-17.gfa.svg>"
      ]
     },
     "metadata": {},
     "output_type": "display_data"
    }
   ],
   "source": [
    "# visualize\n",
    "gfa_file = corrected_fastq_file * \".k-$k.gfa\"\n",
    "Mycelia.graph_to_gfa(corrected_observation_graph, gfa_file)\n",
    "\n",
    "run(`$(BANDAGE) image $(gfa_file) $(gfa_file).svg --depwidth .9 --deppower .9`)\n",
    "# --nodewidth <float> Average node width (0.5 to 1000, default: 5)\n",
    "# --depwidth <float>  Depth effect on width (0 to 1, default: 0.5)\n",
    "# --deppower <float>  Power of depth effect on width (0 to 1, default: 0.5)\n",
    "\n",
    "html_path_to_svg = \"./\" * repeat(\"../\", length(split(pwd(), '/')) - 3)\n",
    "html_path_to_svg *= replace(\"$(gfa_file).svg\", \"$(homedir())/\" => \"\")\n",
    "\n",
    "x = \"<img src=$(html_path_to_svg)>\"\n",
    "display(\"text/html\", x)\n",
    "# display(\"image/svg+xml\", read(\"$(gfa_file).svg\", String))"
   ]
  },
  {
   "cell_type": "code",
   "execution_count": 365,
   "id": "1babc5ba-11c2-4557-8a93-b97abe8364a6",
   "metadata": {},
   "outputs": [
    {
     "data": {
      "image/svg+xml": [
       "<?xml version=\"1.0\" encoding=\"utf-8\"?>\n",
       "<svg xmlns=\"http://www.w3.org/2000/svg\" xmlns:xlink=\"http://www.w3.org/1999/xlink\" width=\"500\" height=\"250\" viewBox=\"0 0 2000 1000\">\n",
       "<defs>\n",
       "  <clipPath id=\"clip560\">\n",
       "    <rect x=\"0\" y=\"0\" width=\"2000\" height=\"1000\"/>\n",
       "  </clipPath>\n",
       "</defs>\n",
       "<path clip-path=\"url(#clip560)\" d=\"\n",
       "M0 1000 L2000 1000 L2000 0 L0 0  Z\n",
       "  \" fill=\"#ffffff\" fill-rule=\"evenodd\" fill-opacity=\"1\"/>\n",
       "<defs>\n",
       "  <clipPath id=\"clip561\">\n",
       "    <rect x=\"400\" y=\"0\" width=\"1401\" height=\"1000\"/>\n",
       "  </clipPath>\n",
       "</defs>\n",
       "<path clip-path=\"url(#clip560)\" d=\"\n",
       "M159.565 849.7 L1952.76 849.7 L1952.76 108.352 L159.565 108.352  Z\n",
       "  \" fill=\"#ffffff\" fill-rule=\"evenodd\" fill-opacity=\"1\"/>\n",
       "<defs>\n",
       "  <clipPath id=\"clip562\">\n",
       "    <rect x=\"159\" y=\"108\" width=\"1794\" height=\"742\"/>\n",
       "  </clipPath>\n",
       "</defs>\n",
       "<polyline clip-path=\"url(#clip562)\" style=\"stroke:#000000; stroke-linecap:butt; stroke-linejoin:round; stroke-width:2; stroke-opacity:0.1; fill:none\" points=\"\n",
       "  159.565,849.7 159.565,108.352 \n",
       "  \"/>\n",
       "<polyline clip-path=\"url(#clip562)\" style=\"stroke:#000000; stroke-linecap:butt; stroke-linejoin:round; stroke-width:2; stroke-opacity:0.1; fill:none\" points=\"\n",
       "  479.482,849.7 479.482,108.352 \n",
       "  \"/>\n",
       "<polyline clip-path=\"url(#clip562)\" style=\"stroke:#000000; stroke-linecap:butt; stroke-linejoin:round; stroke-width:2; stroke-opacity:0.1; fill:none\" points=\"\n",
       "  799.4,849.7 799.4,108.352 \n",
       "  \"/>\n",
       "<polyline clip-path=\"url(#clip562)\" style=\"stroke:#000000; stroke-linecap:butt; stroke-linejoin:round; stroke-width:2; stroke-opacity:0.1; fill:none\" points=\"\n",
       "  1119.32,849.7 1119.32,108.352 \n",
       "  \"/>\n",
       "<polyline clip-path=\"url(#clip562)\" style=\"stroke:#000000; stroke-linecap:butt; stroke-linejoin:round; stroke-width:2; stroke-opacity:0.1; fill:none\" points=\"\n",
       "  1439.23,849.7 1439.23,108.352 \n",
       "  \"/>\n",
       "<polyline clip-path=\"url(#clip562)\" style=\"stroke:#000000; stroke-linecap:butt; stroke-linejoin:round; stroke-width:2; stroke-opacity:0.1; fill:none\" points=\"\n",
       "  1759.15,849.7 1759.15,108.352 \n",
       "  \"/>\n",
       "<polyline clip-path=\"url(#clip560)\" style=\"stroke:#000000; stroke-linecap:butt; stroke-linejoin:round; stroke-width:4; stroke-opacity:1; fill:none\" points=\"\n",
       "  159.565,849.7 1952.76,849.7 \n",
       "  \"/>\n",
       "<polyline clip-path=\"url(#clip560)\" style=\"stroke:#000000; stroke-linecap:butt; stroke-linejoin:round; stroke-width:4; stroke-opacity:1; fill:none\" points=\"\n",
       "  159.565,849.7 159.565,830.802 \n",
       "  \"/>\n",
       "<polyline clip-path=\"url(#clip560)\" style=\"stroke:#000000; stroke-linecap:butt; stroke-linejoin:round; stroke-width:4; stroke-opacity:1; fill:none\" points=\"\n",
       "  479.482,849.7 479.482,830.802 \n",
       "  \"/>\n",
       "<polyline clip-path=\"url(#clip560)\" style=\"stroke:#000000; stroke-linecap:butt; stroke-linejoin:round; stroke-width:4; stroke-opacity:1; fill:none\" points=\"\n",
       "  799.4,849.7 799.4,830.802 \n",
       "  \"/>\n",
       "<polyline clip-path=\"url(#clip560)\" style=\"stroke:#000000; stroke-linecap:butt; stroke-linejoin:round; stroke-width:4; stroke-opacity:1; fill:none\" points=\"\n",
       "  1119.32,849.7 1119.32,830.802 \n",
       "  \"/>\n",
       "<polyline clip-path=\"url(#clip560)\" style=\"stroke:#000000; stroke-linecap:butt; stroke-linejoin:round; stroke-width:4; stroke-opacity:1; fill:none\" points=\"\n",
       "  1439.23,849.7 1439.23,830.802 \n",
       "  \"/>\n",
       "<polyline clip-path=\"url(#clip560)\" style=\"stroke:#000000; stroke-linecap:butt; stroke-linejoin:round; stroke-width:4; stroke-opacity:1; fill:none\" points=\"\n",
       "  1759.15,849.7 1759.15,830.802 \n",
       "  \"/>\n",
       "<path clip-path=\"url(#clip560)\" d=\"M159.565 875.691 Q155.954 875.691 154.125 879.255 Q152.32 882.797 152.32 889.927 Q152.32 897.033 154.125 900.598 Q155.954 904.139 159.565 904.139 Q163.199 904.139 165.005 900.598 Q166.834 897.033 166.834 889.927 Q166.834 882.797 165.005 879.255 Q163.199 875.691 159.565 875.691 M159.565 871.987 Q165.375 871.987 168.431 876.593 Q171.51 881.177 171.51 889.927 Q171.51 898.653 168.431 903.26 Q165.375 907.843 159.565 907.843 Q153.755 907.843 150.676 903.26 Q147.621 898.653 147.621 889.927 Q147.621 881.177 150.676 876.593 Q153.755 871.987 159.565 871.987 Z\" fill=\"#000000\" fill-rule=\"evenodd\" fill-opacity=\"1\" /><path clip-path=\"url(#clip560)\" d=\"M469.864 903.237 L477.503 903.237 L477.503 876.871 L469.193 878.538 L469.193 874.279 L477.457 872.612 L482.133 872.612 L482.133 903.237 L489.772 903.237 L489.772 907.172 L469.864 907.172 L469.864 903.237 Z\" fill=\"#000000\" fill-rule=\"evenodd\" fill-opacity=\"1\" /><path clip-path=\"url(#clip560)\" d=\"M794.053 903.237 L810.372 903.237 L810.372 907.172 L788.428 907.172 L788.428 903.237 Q791.09 900.482 795.673 895.852 Q800.279 891.2 801.46 889.857 Q803.705 887.334 804.585 885.598 Q805.488 883.839 805.488 882.149 Q805.488 879.394 803.543 877.658 Q801.622 875.922 798.52 875.922 Q796.321 875.922 793.867 876.686 Q791.437 877.45 788.659 879.001 L788.659 874.279 Q791.483 873.144 793.937 872.566 Q796.39 871.987 798.428 871.987 Q803.798 871.987 806.992 874.672 Q810.187 877.357 810.187 881.848 Q810.187 883.978 809.377 885.899 Q808.589 887.797 806.483 890.39 Q805.904 891.061 802.802 894.278 Q799.701 897.473 794.053 903.237 Z\" fill=\"#000000\" fill-rule=\"evenodd\" fill-opacity=\"1\" /><path clip-path=\"url(#clip560)\" d=\"M1123.56 888.538 Q1126.92 889.255 1128.8 891.524 Q1130.69 893.792 1130.69 897.126 Q1130.69 902.241 1127.18 905.042 Q1123.66 907.843 1117.18 907.843 Q1115 907.843 1112.69 907.403 Q1110.39 906.987 1107.94 906.13 L1107.94 901.616 Q1109.88 902.751 1112.2 903.329 Q1114.51 903.908 1117.04 903.908 Q1121.44 903.908 1123.73 902.172 Q1126.04 900.436 1126.04 897.126 Q1126.04 894.07 1123.89 892.357 Q1121.76 890.621 1117.94 890.621 L1113.91 890.621 L1113.91 886.778 L1118.12 886.778 Q1121.57 886.778 1123.4 885.413 Q1125.23 884.024 1125.23 881.431 Q1125.23 878.769 1123.33 877.357 Q1121.46 875.922 1117.94 875.922 Q1116.02 875.922 1113.82 876.339 Q1111.62 876.755 1108.98 877.635 L1108.98 873.468 Q1111.64 872.728 1113.96 872.357 Q1116.3 871.987 1118.36 871.987 Q1123.68 871.987 1126.78 874.417 Q1129.88 876.825 1129.88 880.945 Q1129.88 883.815 1128.24 885.806 Q1126.6 887.774 1123.56 888.538 Z\" fill=\"#000000\" fill-rule=\"evenodd\" fill-opacity=\"1\" /><path clip-path=\"url(#clip560)\" d=\"M1442.24 876.686 L1430.44 895.135 L1442.24 895.135 L1442.24 876.686 M1441.02 872.612 L1446.9 872.612 L1446.9 895.135 L1451.83 895.135 L1451.83 899.024 L1446.9 899.024 L1446.9 907.172 L1442.24 907.172 L1442.24 899.024 L1426.64 899.024 L1426.64 894.51 L1441.02 872.612 Z\" fill=\"#000000\" fill-rule=\"evenodd\" fill-opacity=\"1\" /><path clip-path=\"url(#clip560)\" d=\"M1749.43 872.612 L1767.79 872.612 L1767.79 876.547 L1753.71 876.547 L1753.71 885.019 Q1754.73 884.672 1755.75 884.51 Q1756.77 884.325 1757.79 884.325 Q1763.57 884.325 1766.95 887.496 Q1770.33 890.667 1770.33 896.084 Q1770.33 901.663 1766.86 904.764 Q1763.39 907.843 1757.07 907.843 Q1754.89 907.843 1752.62 907.473 Q1750.38 907.102 1747.97 906.362 L1747.97 901.663 Q1750.05 902.797 1752.28 903.352 Q1754.5 903.908 1756.98 903.908 Q1760.98 903.908 1763.32 901.802 Q1765.66 899.695 1765.66 896.084 Q1765.66 892.473 1763.32 890.366 Q1760.98 888.26 1756.98 888.26 Q1755.1 888.26 1753.23 888.677 Q1751.37 889.093 1749.43 889.973 L1749.43 872.612 Z\" fill=\"#000000\" fill-rule=\"evenodd\" fill-opacity=\"1\" /><path clip-path=\"url(#clip560)\" d=\"M661.996 939.039 L667.852 939.039 L667.852 988.564 L661.996 988.564 L661.996 939.039 Z\" fill=\"#000000\" fill-rule=\"evenodd\" fill-opacity=\"1\" /><path clip-path=\"url(#clip560)\" d=\"M693.92 957.022 Q689.209 957.022 686.472 960.714 Q683.735 964.374 683.735 970.772 Q683.735 977.169 686.44 980.861 Q689.178 984.522 693.92 984.522 Q698.599 984.522 701.336 980.83 Q704.073 977.137 704.073 970.772 Q704.073 964.438 701.336 960.746 Q698.599 957.022 693.92 957.022 M693.92 952.057 Q701.559 952.057 705.919 957.022 Q710.28 961.987 710.28 970.772 Q710.28 979.525 705.919 984.522 Q701.559 989.487 693.92 989.487 Q686.249 989.487 681.889 984.522 Q677.56 979.525 677.56 970.772 Q677.56 961.987 681.889 957.022 Q686.249 952.057 693.92 952.057 Z\" fill=\"#000000\" fill-rule=\"evenodd\" fill-opacity=\"1\" /><path clip-path=\"url(#clip560)\" d=\"M743.445 970.326 Q743.445 963.96 740.803 960.459 Q738.194 956.958 733.451 956.958 Q728.74 956.958 726.099 960.459 Q723.489 963.96 723.489 970.326 Q723.489 976.66 726.099 980.161 Q728.74 983.662 733.451 983.662 Q738.194 983.662 740.803 980.161 Q743.445 976.66 743.445 970.326 M749.302 984.14 Q749.302 993.243 745.259 997.667 Q741.217 1002.12 732.878 1002.12 Q729.791 1002.12 727.054 1001.65 Q724.316 1001.2 721.738 1000.24 L721.738 994.548 Q724.316 995.948 726.831 996.616 Q729.345 997.285 731.955 997.285 Q737.716 997.285 740.581 994.261 Q743.445 991.269 743.445 985.19 L743.445 982.294 Q741.631 985.445 738.798 987.004 Q735.966 988.564 732.019 988.564 Q725.462 988.564 721.452 983.567 Q717.441 978.57 717.441 970.326 Q717.441 962.051 721.452 957.054 Q725.462 952.057 732.019 952.057 Q735.966 952.057 738.798 953.616 Q741.631 955.176 743.445 958.327 L743.445 952.916 L749.302 952.916 L749.302 984.14 Z\" fill=\"#000000\" fill-rule=\"evenodd\" fill-opacity=\"1\" /><path clip-path=\"url(#clip560)\" d=\"M775.433 939.102 Q771.168 946.423 769.099 953.584 Q767.03 960.746 767.03 968.098 Q767.03 975.45 769.099 982.676 Q771.2 989.869 775.433 997.158 L770.34 997.158 Q765.566 989.678 763.179 982.453 Q760.824 975.228 760.824 968.098 Q760.824 961 763.179 953.807 Q765.534 946.614 770.34 939.102 L775.433 939.102 Z\" fill=\"#000000\" fill-rule=\"evenodd\" fill-opacity=\"1\" /><path clip-path=\"url(#clip560)\" d=\"M800.609 957.022 Q795.899 957.022 793.161 960.714 Q790.424 964.374 790.424 970.772 Q790.424 977.169 793.13 980.861 Q795.867 984.522 800.609 984.522 Q805.288 984.522 808.025 980.83 Q810.763 977.137 810.763 970.772 Q810.763 964.438 808.025 960.746 Q805.288 957.022 800.609 957.022 M800.609 952.057 Q808.248 952.057 812.609 957.022 Q816.969 961.987 816.969 970.772 Q816.969 979.525 812.609 984.522 Q808.248 989.487 800.609 989.487 Q792.939 989.487 788.578 984.522 Q784.249 979.525 784.249 970.772 Q784.249 961.987 788.578 957.022 Q792.939 952.057 800.609 952.057 Z\" fill=\"#000000\" fill-rule=\"evenodd\" fill-opacity=\"1\" /><path clip-path=\"url(#clip560)\" d=\"M852.267 970.772 Q852.267 964.311 849.593 960.65 Q846.952 956.958 842.305 956.958 Q837.658 956.958 834.984 960.65 Q832.342 964.311 832.342 970.772 Q832.342 977.233 834.984 980.925 Q837.658 984.585 842.305 984.585 Q846.952 984.585 849.593 980.925 Q852.267 977.233 852.267 970.772 M832.342 958.327 Q834.188 955.144 836.989 953.616 Q839.822 952.057 843.737 952.057 Q850.23 952.057 854.272 957.213 Q858.346 962.369 858.346 970.772 Q858.346 979.174 854.272 984.331 Q850.23 989.487 843.737 989.487 Q839.822 989.487 836.989 987.959 Q834.188 986.4 832.342 983.217 L832.342 988.564 L826.454 988.564 L826.454 939.039 L832.342 939.039 L832.342 958.327 Z\" fill=\"#000000\" fill-rule=\"evenodd\" fill-opacity=\"1\" /><path clip-path=\"url(#clip560)\" d=\"M890.779 953.966 L890.779 959.504 Q888.297 958.231 885.623 957.595 Q882.95 956.958 880.085 956.958 Q875.725 956.958 873.528 958.295 Q871.364 959.632 871.364 962.305 Q871.364 964.342 872.924 965.52 Q874.483 966.666 879.194 967.716 L881.199 968.162 Q887.438 969.499 890.047 971.949 Q892.689 974.368 892.689 978.729 Q892.689 983.694 888.742 986.59 Q884.828 989.487 877.953 989.487 Q875.088 989.487 871.969 988.914 Q868.881 988.373 865.444 987.259 L865.444 981.211 Q868.69 982.898 871.842 983.758 Q874.993 984.585 878.08 984.585 Q882.218 984.585 884.446 983.185 Q886.674 981.753 886.674 979.174 Q886.674 976.787 885.05 975.514 Q883.459 974.241 878.016 973.063 L875.979 972.586 Q870.537 971.44 868.118 969.085 Q865.699 966.698 865.699 962.56 Q865.699 957.531 869.263 954.794 Q872.828 952.057 879.385 952.057 Q882.631 952.057 885.496 952.534 Q888.361 953.011 890.779 953.966 Z\" fill=\"#000000\" fill-rule=\"evenodd\" fill-opacity=\"1\" /><path clip-path=\"url(#clip560)\" d=\"M932.507 969.276 L932.507 972.14 L905.58 972.14 Q905.962 978.188 909.208 981.371 Q912.487 984.522 918.311 984.522 Q921.685 984.522 924.836 983.694 Q928.019 982.867 931.138 981.211 L931.138 986.75 Q927.987 988.086 924.677 988.787 Q921.367 989.487 917.961 989.487 Q909.431 989.487 904.434 984.522 Q899.469 979.556 899.469 971.09 Q899.469 962.337 904.179 957.213 Q908.922 952.057 916.943 952.057 Q924.136 952.057 928.305 956.703 Q932.507 961.319 932.507 969.276 M926.65 967.557 Q926.587 962.751 923.945 959.886 Q921.335 957.022 917.006 957.022 Q912.105 957.022 909.145 959.791 Q906.216 962.56 905.771 967.589 L926.65 967.557 Z\" fill=\"#000000\" fill-rule=\"evenodd\" fill-opacity=\"1\" /><path clip-path=\"url(#clip560)\" d=\"M962.776 958.39 Q961.789 957.817 960.611 957.563 Q959.465 957.276 958.065 957.276 Q953.1 957.276 950.426 960.523 Q947.784 963.738 947.784 969.785 L947.784 988.564 L941.896 988.564 L941.896 952.916 L947.784 952.916 L947.784 958.454 Q949.63 955.208 952.591 953.648 Q955.551 952.057 959.784 952.057 Q960.389 952.057 961.121 952.152 Q961.853 952.216 962.744 952.375 L962.776 958.39 Z\" fill=\"#000000\" fill-rule=\"evenodd\" fill-opacity=\"1\" /><path clip-path=\"url(#clip560)\" d=\"M964.717 952.916 L970.924 952.916 L982.064 982.835 L993.204 952.916 L999.41 952.916 L986.042 988.564 L978.085 988.564 L964.717 952.916 Z\" fill=\"#000000\" fill-rule=\"evenodd\" fill-opacity=\"1\" /><path clip-path=\"url(#clip560)\" d=\"M1037.99 969.276 L1037.99 972.14 L1011.06 972.14 Q1011.44 978.188 1014.69 981.371 Q1017.97 984.522 1023.79 984.522 Q1027.16 984.522 1030.32 983.694 Q1033.5 982.867 1036.62 981.211 L1036.62 986.75 Q1033.47 988.086 1030.16 988.787 Q1026.85 989.487 1023.44 989.487 Q1014.91 989.487 1009.91 984.522 Q1004.95 979.556 1004.95 971.09 Q1004.95 962.337 1009.66 957.213 Q1014.4 952.057 1022.42 952.057 Q1029.62 952.057 1033.79 956.703 Q1037.99 961.319 1037.99 969.276 M1032.13 967.557 Q1032.07 962.751 1029.42 959.886 Q1026.81 957.022 1022.49 957.022 Q1017.58 957.022 1014.62 959.791 Q1011.7 962.56 1011.25 967.589 L1032.13 967.557 Z\" fill=\"#000000\" fill-rule=\"evenodd\" fill-opacity=\"1\" /><path clip-path=\"url(#clip560)\" d=\"M1071.06 958.327 L1071.06 939.039 L1076.91 939.039 L1076.91 988.564 L1071.06 988.564 L1071.06 983.217 Q1069.21 986.4 1066.38 987.959 Q1063.58 989.487 1059.63 989.487 Q1053.17 989.487 1049.09 984.331 Q1045.05 979.174 1045.05 970.772 Q1045.05 962.369 1049.09 957.213 Q1053.17 952.057 1059.63 952.057 Q1063.58 952.057 1066.38 953.616 Q1069.21 955.144 1071.06 958.327 M1051.1 970.772 Q1051.1 977.233 1053.74 980.925 Q1056.42 984.585 1061.06 984.585 Q1065.71 984.585 1068.38 980.925 Q1071.06 977.233 1071.06 970.772 Q1071.06 964.311 1068.38 960.65 Q1065.71 956.958 1061.06 956.958 Q1056.42 956.958 1053.74 960.65 Q1051.1 964.311 1051.1 970.772 Z\" fill=\"#000000\" fill-rule=\"evenodd\" fill-opacity=\"1\" /><path clip-path=\"url(#clip560)\" d=\"M1127.74 939.039 L1127.74 943.908 L1122.14 943.908 Q1118.99 943.908 1117.75 945.182 Q1116.54 946.455 1116.54 949.765 L1116.54 952.916 L1126.18 952.916 L1126.18 957.467 L1116.54 957.467 L1116.54 988.564 L1110.65 988.564 L1110.65 957.467 L1105.05 957.467 L1105.05 952.916 L1110.65 952.916 L1110.65 950.433 Q1110.65 944.481 1113.42 941.776 Q1116.19 939.039 1122.2 939.039 L1127.74 939.039 Z\" fill=\"#000000\" fill-rule=\"evenodd\" fill-opacity=\"1\" /><path clip-path=\"url(#clip560)\" d=\"M1153.3 958.39 Q1152.31 957.817 1151.14 957.563 Q1149.99 957.276 1148.59 957.276 Q1143.63 957.276 1140.95 960.523 Q1138.31 963.738 1138.31 969.785 L1138.31 988.564 L1132.42 988.564 L1132.42 952.916 L1138.31 952.916 L1138.31 958.454 Q1140.16 955.208 1143.12 953.648 Q1146.08 952.057 1150.31 952.057 Q1150.91 952.057 1151.65 952.152 Q1152.38 952.216 1153.27 952.375 L1153.3 958.39 Z\" fill=\"#000000\" fill-rule=\"evenodd\" fill-opacity=\"1\" /><path clip-path=\"url(#clip560)\" d=\"M1188.5 969.276 L1188.5 972.14 L1161.58 972.14 Q1161.96 978.188 1165.21 981.371 Q1168.48 984.522 1174.31 984.522 Q1177.68 984.522 1180.83 983.694 Q1184.02 982.867 1187.13 981.211 L1187.13 986.75 Q1183.98 988.086 1180.67 988.787 Q1177.36 989.487 1173.96 989.487 Q1165.43 989.487 1160.43 984.522 Q1155.47 979.556 1155.47 971.09 Q1155.47 962.337 1160.18 957.213 Q1164.92 952.057 1172.94 952.057 Q1180.13 952.057 1184.3 956.703 Q1188.5 961.319 1188.5 969.276 M1182.65 967.557 Q1182.58 962.751 1179.94 959.886 Q1177.33 957.022 1173 957.022 Q1168.1 957.022 1165.14 959.791 Q1162.21 962.56 1161.77 967.589 L1182.65 967.557 Z\" fill=\"#000000\" fill-rule=\"evenodd\" fill-opacity=\"1\" /><path clip-path=\"url(#clip560)\" d=\"M1201.62 970.772 Q1201.62 977.233 1204.26 980.925 Q1206.93 984.585 1211.58 984.585 Q1216.23 984.585 1218.9 980.925 Q1221.57 977.233 1221.57 970.772 Q1221.57 964.311 1218.9 960.65 Q1216.23 956.958 1211.58 956.958 Q1206.93 956.958 1204.26 960.65 Q1201.62 964.311 1201.62 970.772 M1221.57 983.217 Q1219.73 986.4 1216.89 987.959 Q1214.09 989.487 1210.15 989.487 Q1203.69 989.487 1199.61 984.331 Q1195.57 979.174 1195.57 970.772 Q1195.57 962.369 1199.61 957.213 Q1203.69 952.057 1210.15 952.057 Q1214.09 952.057 1216.89 953.616 Q1219.73 955.144 1221.57 958.327 L1221.57 952.916 L1227.43 952.916 L1227.43 1002.12 L1221.57 1002.12 L1221.57 983.217 Z\" fill=\"#000000\" fill-rule=\"evenodd\" fill-opacity=\"1\" /><path clip-path=\"url(#clip560)\" d=\"M1238.89 974.496 L1238.89 952.916 L1244.74 952.916 L1244.74 974.273 Q1244.74 979.334 1246.72 981.88 Q1248.69 984.394 1252.64 984.394 Q1257.38 984.394 1260.12 981.371 Q1262.89 978.347 1262.89 973.127 L1262.89 952.916 L1268.74 952.916 L1268.74 988.564 L1262.89 988.564 L1262.89 983.089 Q1260.75 986.336 1257.92 987.927 Q1255.12 989.487 1251.4 989.487 Q1245.25 989.487 1242.07 985.667 Q1238.89 981.848 1238.89 974.496 M1253.62 952.057 L1253.62 952.057 Z\" fill=\"#000000\" fill-rule=\"evenodd\" fill-opacity=\"1\" /><path clip-path=\"url(#clip560)\" d=\"M1311.3 969.276 L1311.3 972.14 L1284.37 972.14 Q1284.75 978.188 1288 981.371 Q1291.28 984.522 1297.1 984.522 Q1300.48 984.522 1303.63 983.694 Q1306.81 982.867 1309.93 981.211 L1309.93 986.75 Q1306.78 988.086 1303.47 988.787 Q1300.16 989.487 1296.75 989.487 Q1288.22 989.487 1283.23 984.522 Q1278.26 979.556 1278.26 971.09 Q1278.26 962.337 1282.97 957.213 Q1287.71 952.057 1295.73 952.057 Q1302.93 952.057 1307.1 956.703 Q1311.3 961.319 1311.3 969.276 M1305.44 967.557 Q1305.38 962.751 1302.74 959.886 Q1300.13 957.022 1295.8 957.022 Q1290.9 957.022 1287.94 959.791 Q1285.01 962.56 1284.56 967.589 L1305.44 967.557 Z\" fill=\"#000000\" fill-rule=\"evenodd\" fill-opacity=\"1\" /><path clip-path=\"url(#clip560)\" d=\"M1350.54 967.048 L1350.54 988.564 L1344.69 988.564 L1344.69 967.239 Q1344.69 962.178 1342.71 959.664 Q1340.74 957.149 1336.79 957.149 Q1332.05 957.149 1329.31 960.173 Q1326.58 963.197 1326.58 968.416 L1326.58 988.564 L1320.69 988.564 L1320.69 952.916 L1326.58 952.916 L1326.58 958.454 Q1328.68 955.239 1331.51 953.648 Q1334.37 952.057 1338.1 952.057 Q1344.24 952.057 1347.39 955.876 Q1350.54 959.664 1350.54 967.048 Z\" fill=\"#000000\" fill-rule=\"evenodd\" fill-opacity=\"1\" /><path clip-path=\"url(#clip560)\" d=\"M1387.88 954.285 L1387.88 959.759 Q1385.39 958.39 1382.88 957.722 Q1380.4 957.022 1377.85 957.022 Q1372.15 957.022 1369 960.65 Q1365.85 964.247 1365.85 970.772 Q1365.85 977.297 1369 980.925 Q1372.15 984.522 1377.85 984.522 Q1380.4 984.522 1382.88 983.853 Q1385.39 983.153 1387.88 981.784 L1387.88 987.195 Q1385.43 988.341 1382.78 988.914 Q1380.18 989.487 1377.21 989.487 Q1369.16 989.487 1364.42 984.426 Q1359.68 979.365 1359.68 970.772 Q1359.68 962.051 1364.45 957.054 Q1369.26 952.057 1377.6 952.057 Q1380.3 952.057 1382.88 952.629 Q1385.46 953.171 1387.88 954.285 Z\" fill=\"#000000\" fill-rule=\"evenodd\" fill-opacity=\"1\" /><path clip-path=\"url(#clip560)\" d=\"M1412.89 991.874 Q1410.41 998.24 1408.06 1000.18 Q1405.7 1002.12 1401.75 1002.12 L1397.08 1002.12 L1397.08 997.221 L1400.51 997.221 Q1402.93 997.221 1404.27 996.075 Q1405.61 994.93 1407.23 990.665 L1408.28 987.991 L1393.86 952.916 L1400.07 952.916 L1411.21 980.798 L1422.35 952.916 L1428.55 952.916 L1412.89 991.874 Z\" fill=\"#000000\" fill-rule=\"evenodd\" fill-opacity=\"1\" /><path clip-path=\"url(#clip560)\" d=\"M1435.72 939.102 L1440.81 939.102 Q1445.58 946.614 1447.94 953.807 Q1450.33 961 1450.33 968.098 Q1450.33 975.228 1447.94 982.453 Q1445.58 989.678 1440.81 997.158 L1435.72 997.158 Q1439.95 989.869 1442.02 982.676 Q1444.12 975.45 1444.12 968.098 Q1444.12 960.746 1442.02 953.584 Q1439.95 946.423 1435.72 939.102 Z\" fill=\"#000000\" fill-rule=\"evenodd\" fill-opacity=\"1\" /><polyline clip-path=\"url(#clip562)\" style=\"stroke:#000000; stroke-linecap:butt; stroke-linejoin:round; stroke-width:2; stroke-opacity:0.1; fill:none\" points=\"\n",
       "  159.565,849.7 1952.76,849.7 \n",
       "  \"/>\n",
       "<polyline clip-path=\"url(#clip562)\" style=\"stroke:#000000; stroke-linecap:butt; stroke-linejoin:round; stroke-width:2; stroke-opacity:0.1; fill:none\" points=\"\n",
       "  159.565,661.501 1952.76,661.501 \n",
       "  \"/>\n",
       "<polyline clip-path=\"url(#clip562)\" style=\"stroke:#000000; stroke-linecap:butt; stroke-linejoin:round; stroke-width:2; stroke-opacity:0.1; fill:none\" points=\"\n",
       "  159.565,473.301 1952.76,473.301 \n",
       "  \"/>\n",
       "<polyline clip-path=\"url(#clip562)\" style=\"stroke:#000000; stroke-linecap:butt; stroke-linejoin:round; stroke-width:2; stroke-opacity:0.1; fill:none\" points=\"\n",
       "  159.565,285.102 1952.76,285.102 \n",
       "  \"/>\n",
       "<polyline clip-path=\"url(#clip560)\" style=\"stroke:#000000; stroke-linecap:butt; stroke-linejoin:round; stroke-width:4; stroke-opacity:1; fill:none\" points=\"\n",
       "  159.565,849.7 159.565,108.352 \n",
       "  \"/>\n",
       "<polyline clip-path=\"url(#clip560)\" style=\"stroke:#000000; stroke-linecap:butt; stroke-linejoin:round; stroke-width:4; stroke-opacity:1; fill:none\" points=\"\n",
       "  159.565,849.7 178.463,849.7 \n",
       "  \"/>\n",
       "<polyline clip-path=\"url(#clip560)\" style=\"stroke:#000000; stroke-linecap:butt; stroke-linejoin:round; stroke-width:4; stroke-opacity:1; fill:none\" points=\"\n",
       "  159.565,661.501 178.463,661.501 \n",
       "  \"/>\n",
       "<polyline clip-path=\"url(#clip560)\" style=\"stroke:#000000; stroke-linecap:butt; stroke-linejoin:round; stroke-width:4; stroke-opacity:1; fill:none\" points=\"\n",
       "  159.565,473.301 178.463,473.301 \n",
       "  \"/>\n",
       "<polyline clip-path=\"url(#clip560)\" style=\"stroke:#000000; stroke-linecap:butt; stroke-linejoin:round; stroke-width:4; stroke-opacity:1; fill:none\" points=\"\n",
       "  159.565,285.102 178.463,285.102 \n",
       "  \"/>\n",
       "<path clip-path=\"url(#clip560)\" d=\"M117.621 835.499 Q114.01 835.499 112.181 839.063 Q110.375 842.605 110.375 849.735 Q110.375 856.841 112.181 860.406 Q114.01 863.947 117.621 863.947 Q121.255 863.947 123.061 860.406 Q124.889 856.841 124.889 849.735 Q124.889 842.605 123.061 839.063 Q121.255 835.499 117.621 835.499 M117.621 831.795 Q123.431 831.795 126.487 836.401 Q129.565 840.985 129.565 849.735 Q129.565 858.461 126.487 863.068 Q123.431 867.651 117.621 867.651 Q111.811 867.651 108.732 863.068 Q105.676 858.461 105.676 849.735 Q105.676 840.985 108.732 836.401 Q111.811 831.795 117.621 831.795 Z\" fill=\"#000000\" fill-rule=\"evenodd\" fill-opacity=\"1\" /><path clip-path=\"url(#clip560)\" d=\"M113.246 674.845 L129.565 674.845 L129.565 678.781 L107.621 678.781 L107.621 674.845 Q110.283 672.091 114.866 667.461 Q119.473 662.808 120.653 661.466 Q122.899 658.943 123.778 657.207 Q124.681 655.447 124.681 653.758 Q124.681 651.003 122.737 649.267 Q120.815 647.531 117.713 647.531 Q115.514 647.531 113.061 648.295 Q110.63 649.058 107.852 650.609 L107.852 645.887 Q110.676 644.753 113.13 644.174 Q115.584 643.596 117.621 643.596 Q122.991 643.596 126.186 646.281 Q129.38 648.966 129.38 653.457 Q129.38 655.586 128.57 657.508 Q127.783 659.406 125.676 661.998 Q125.098 662.67 121.996 665.887 Q118.894 669.082 113.246 674.845 Z\" fill=\"#000000\" fill-rule=\"evenodd\" fill-opacity=\"1\" /><path clip-path=\"url(#clip560)\" d=\"M119.982 460.095 L108.176 478.544 L119.982 478.544 L119.982 460.095 M118.755 456.021 L124.635 456.021 L124.635 478.544 L129.565 478.544 L129.565 482.433 L124.635 482.433 L124.635 490.581 L119.982 490.581 L119.982 482.433 L104.38 482.433 L104.38 477.919 L118.755 456.021 Z\" fill=\"#000000\" fill-rule=\"evenodd\" fill-opacity=\"1\" /><path clip-path=\"url(#clip560)\" d=\"M118.037 283.239 Q114.889 283.239 113.038 285.391 Q111.209 287.544 111.209 291.294 Q111.209 295.021 113.038 297.197 Q114.889 299.35 118.037 299.35 Q121.186 299.35 123.014 297.197 Q124.866 295.021 124.866 291.294 Q124.866 287.544 123.014 285.391 Q121.186 283.239 118.037 283.239 M127.32 268.586 L127.32 272.845 Q125.561 272.012 123.755 271.572 Q121.973 271.132 120.213 271.132 Q115.584 271.132 113.13 274.257 Q110.7 277.382 110.352 283.702 Q111.718 281.688 113.778 280.623 Q115.838 279.535 118.315 279.535 Q123.524 279.535 126.533 282.706 Q129.565 285.854 129.565 291.294 Q129.565 296.618 126.417 299.836 Q123.269 303.053 118.037 303.053 Q112.042 303.053 108.871 298.47 Q105.7 293.864 105.7 285.137 Q105.7 276.942 109.588 272.081 Q113.477 267.197 120.028 267.197 Q121.787 267.197 123.57 267.544 Q125.375 267.891 127.32 268.586 Z\" fill=\"#000000\" fill-rule=\"evenodd\" fill-opacity=\"1\" /><path clip-path=\"url(#clip560)\" d=\"M10.599 728.769 L10.599 722.912 L60.1242 722.912 L60.1242 728.769 L10.599 728.769 Z\" fill=\"#000000\" fill-rule=\"evenodd\" fill-opacity=\"1\" /><path clip-path=\"url(#clip560)\" d=\"M28.5821 696.845 Q28.5821 701.555 32.2742 704.292 Q35.9345 707.03 42.332 707.03 Q48.7295 707.03 52.4217 704.324 Q56.0819 701.587 56.0819 696.845 Q56.0819 692.166 52.3898 689.429 Q48.6977 686.691 42.332 686.691 Q35.9981 686.691 32.306 689.429 Q28.5821 692.166 28.5821 696.845 M23.6168 696.845 Q23.6168 689.206 28.5821 684.845 Q33.5473 680.485 42.332 680.485 Q51.0849 680.485 56.0819 684.845 Q61.0472 689.206 61.0472 696.845 Q61.0472 704.515 56.0819 708.876 Q51.0849 713.204 42.332 713.204 Q33.5473 713.204 28.5821 708.876 Q23.6168 704.515 23.6168 696.845 Z\" fill=\"#000000\" fill-rule=\"evenodd\" fill-opacity=\"1\" /><path clip-path=\"url(#clip560)\" d=\"M41.8864 647.319 Q35.5207 647.319 32.0196 649.961 Q28.5184 652.571 28.5184 657.314 Q28.5184 662.024 32.0196 664.666 Q35.5207 667.276 41.8864 667.276 Q48.2203 667.276 51.7214 664.666 Q55.2226 662.024 55.2226 657.314 Q55.2226 652.571 51.7214 649.961 Q48.2203 647.319 41.8864 647.319 M55.7 641.463 Q64.803 641.463 69.2271 645.505 Q73.6831 649.547 73.6831 657.886 Q73.6831 660.974 73.2057 663.711 Q72.7601 666.448 71.8052 669.026 L66.1079 669.026 Q67.5084 666.448 68.1768 663.934 Q68.8452 661.419 68.8452 658.809 Q68.8452 653.048 65.8215 650.184 Q62.8296 647.319 56.7503 647.319 L53.8539 647.319 Q57.005 649.134 58.5646 651.966 Q60.1242 654.799 60.1242 658.746 Q60.1242 665.302 55.1271 669.313 Q50.13 673.323 41.8864 673.323 Q33.611 673.323 28.6139 669.313 Q23.6168 665.302 23.6168 658.746 Q23.6168 654.799 25.1764 651.966 Q26.736 649.134 29.8871 647.319 L24.4762 647.319 L24.4762 641.463 L55.7 641.463 Z\" fill=\"#000000\" fill-rule=\"evenodd\" fill-opacity=\"1\" /><path clip-path=\"url(#clip560)\" d=\"M10.6626 615.332 Q17.9832 619.597 25.1446 621.666 Q32.306 623.734 39.6584 623.734 Q47.0108 623.734 54.2359 621.666 Q61.4291 619.565 68.7179 615.332 L68.7179 620.424 Q61.2382 625.199 54.0131 627.586 Q46.788 629.941 39.6584 629.941 Q32.5606 629.941 25.3674 627.586 Q18.1742 625.23 10.6626 620.424 L10.6626 615.332 Z\" fill=\"#000000\" fill-rule=\"evenodd\" fill-opacity=\"1\" /><path clip-path=\"url(#clip560)\" d=\"M31.4466 576.787 L31.4466 586.049 L42.0774 588.723 L42.0774 579.397 L31.4466 576.787 M13.3362 581.562 L26.5451 584.872 L26.5451 575.578 L13.3362 572.236 L13.3362 567.143 L26.5451 570.422 L26.5451 560.491 L31.4466 560.491 L31.4466 571.663 L42.0774 574.273 L42.0774 564.151 L46.9471 564.151 L46.9471 575.514 L60.1242 578.824 L60.1242 583.917 L46.9471 580.639 L46.9471 589.964 L60.1242 593.243 L60.1242 598.367 L46.9471 595.057 L46.9471 605.083 L42.0774 605.083 L42.0774 593.879 L31.4466 591.206 L31.4466 601.454 L26.5451 601.454 L26.5451 589.964 L13.3362 586.718 L13.3362 581.562 Z\" fill=\"#000000\" fill-rule=\"evenodd\" fill-opacity=\"1\" /><path clip-path=\"url(#clip560)\" d=\"M28.5821 514.817 Q28.5821 519.528 32.2742 522.265 Q35.9345 525.002 42.332 525.002 Q48.7295 525.002 52.4217 522.297 Q56.0819 519.56 56.0819 514.817 Q56.0819 510.138 52.3898 507.401 Q48.6977 504.664 42.332 504.664 Q35.9981 504.664 32.306 507.401 Q28.5821 510.138 28.5821 514.817 M23.6168 514.817 Q23.6168 507.178 28.5821 502.818 Q33.5473 498.457 42.332 498.457 Q51.0849 498.457 56.0819 502.818 Q61.0472 507.178 61.0472 514.817 Q61.0472 522.488 56.0819 526.848 Q51.0849 531.177 42.332 531.177 Q33.5473 531.177 28.5821 526.848 Q23.6168 522.488 23.6168 514.817 Z\" fill=\"#000000\" fill-rule=\"evenodd\" fill-opacity=\"1\" /><path clip-path=\"url(#clip560)\" d=\"M10.599 470.703 L15.4687 470.703 L15.4687 476.305 Q15.4687 479.456 16.7419 480.697 Q18.015 481.906 21.3252 481.906 L24.4762 481.906 L24.4762 472.262 L29.0277 472.262 L29.0277 481.906 L60.1242 481.906 L60.1242 487.795 L29.0277 487.795 L29.0277 493.397 L24.4762 493.397 L24.4762 487.795 L21.9936 487.795 Q16.0416 487.795 13.3362 485.026 Q10.599 482.257 10.599 476.241 L10.599 470.703 Z\" fill=\"#000000\" fill-rule=\"evenodd\" fill-opacity=\"1\" /><path clip-path=\"url(#clip560)\" d=\"M10.599 445.304 L10.599 439.415 L39.8494 439.415 L24.4762 421.942 L24.4762 414.462 L41.1544 433.368 L60.1242 413.666 L60.1242 421.305 L42.7139 439.415 L60.1242 439.415 L60.1242 445.304 L10.599 445.304 Z\" fill=\"#000000\" fill-rule=\"evenodd\" fill-opacity=\"1\" /><path clip-path=\"url(#clip560)\" d=\"M31.3193 379.578 Q27.3726 377.382 25.4947 374.326 Q23.6168 371.27 23.6168 367.133 Q23.6168 361.563 27.5317 358.539 Q31.4148 355.515 38.6081 355.515 L60.1242 355.515 L60.1242 361.404 L38.799 361.404 Q33.6746 361.404 31.192 363.218 Q28.7094 365.032 28.7094 368.756 Q28.7094 373.308 31.7331 375.949 Q34.7568 378.591 39.9767 378.591 L60.1242 378.591 L60.1242 384.479 L38.799 384.479 Q33.6428 384.479 31.192 386.294 Q28.7094 388.108 28.7094 391.895 Q28.7094 396.383 31.7649 399.025 Q34.7886 401.667 39.9767 401.667 L60.1242 401.667 L60.1242 407.555 L24.4762 407.555 L24.4762 401.667 L30.0144 401.667 Q26.736 399.662 25.1764 396.861 Q23.6168 394.06 23.6168 390.208 Q23.6168 386.325 25.5902 383.62 Q27.5636 380.883 31.3193 379.578 Z\" fill=\"#000000\" fill-rule=\"evenodd\" fill-opacity=\"1\" /><path clip-path=\"url(#clip560)\" d=\"M40.8361 313.343 L43.7006 313.343 L43.7006 340.269 Q49.7481 339.888 52.9309 336.641 Q56.0819 333.363 56.0819 327.538 Q56.0819 324.164 55.2544 321.013 Q54.4269 317.83 52.7718 314.711 L58.3099 314.711 Q59.6467 317.862 60.347 321.172 Q61.0472 324.483 61.0472 327.888 Q61.0472 336.418 56.0819 341.415 Q51.1167 346.381 42.6503 346.381 Q33.8974 346.381 28.7731 341.67 Q23.6168 336.927 23.6168 328.907 Q23.6168 321.713 28.2638 317.544 Q32.8789 313.343 40.8361 313.343 M39.1173 319.199 Q34.3112 319.263 31.4466 321.904 Q28.5821 324.514 28.5821 328.843 Q28.5821 333.745 31.3512 336.705 Q34.1202 339.633 39.1492 340.079 L39.1173 319.199 Z\" fill=\"#000000\" fill-rule=\"evenodd\" fill-opacity=\"1\" /><path clip-path=\"url(#clip560)\" d=\"M29.9507 283.074 Q29.3778 284.06 29.1232 285.238 Q28.8367 286.384 28.8367 287.784 Q28.8367 292.749 32.0832 295.423 Q35.2979 298.065 41.3453 298.065 L60.1242 298.065 L60.1242 303.953 L24.4762 303.953 L24.4762 298.065 L30.0144 298.065 Q26.7679 296.219 25.2083 293.259 Q23.6168 290.299 23.6168 286.066 Q23.6168 285.461 23.7123 284.729 Q23.776 283.997 23.9351 283.105 L29.9507 283.074 Z\" fill=\"#000000\" fill-rule=\"evenodd\" fill-opacity=\"1\" /><path clip-path=\"url(#clip560)\" d=\"M25.5265 254.205 L31.0647 254.205 Q29.7916 256.688 29.155 259.361 Q28.5184 262.035 28.5184 264.9 Q28.5184 269.26 29.8552 271.456 Q31.192 273.621 33.8656 273.621 Q35.9026 273.621 37.0803 272.061 Q38.2261 270.501 39.2765 265.791 L39.7221 263.786 Q41.0589 257.547 43.5097 254.937 Q45.9286 252.295 50.2891 252.295 Q55.2544 252.295 58.1508 256.242 Q61.0472 260.157 61.0472 267.032 Q61.0472 269.897 60.4743 273.016 Q59.9332 276.103 58.8192 279.541 L52.7718 279.541 Q54.4587 276.294 55.318 273.143 Q56.1456 269.992 56.1456 266.905 Q56.1456 262.767 54.7451 260.539 Q53.3129 258.311 50.7347 258.311 Q48.3476 258.311 47.0745 259.934 Q45.8013 261.526 44.6237 266.968 L44.1462 269.005 Q43.0004 274.448 40.6451 276.867 Q38.258 279.286 34.1202 279.286 Q29.0913 279.286 26.3541 275.721 Q23.6168 272.156 23.6168 265.6 Q23.6168 262.353 24.0943 259.489 Q24.5717 256.624 25.5265 254.205 Z\" fill=\"#000000\" fill-rule=\"evenodd\" fill-opacity=\"1\" /><path clip-path=\"url(#clip560)\" d=\"M10.6626 243.893 L10.6626 238.8 Q18.1742 234.026 25.3674 231.671 Q32.5606 229.283 39.6584 229.283 Q46.788 229.283 54.0131 231.671 Q61.2382 234.026 68.7179 238.8 L68.7179 243.893 Q61.4291 239.66 54.2359 237.591 Q47.0108 235.49 39.6584 235.49 Q32.306 235.49 25.1446 237.591 Q17.9832 239.66 10.6626 243.893 Z\" fill=\"#000000\" fill-rule=\"evenodd\" fill-opacity=\"1\" /><path clip-path=\"url(#clip560)\" d=\"M699.6 9.54393 L707.094 9.54393 L707.094 46.7717 L729.334 27.2059 L738.853 27.2059 L714.791 48.4326 L739.866 72.576 L730.144 72.576 L707.094 50.4176 L707.094 72.576 L699.6 72.576 L699.6 9.54393 Z\" fill=\"#000000\" fill-rule=\"evenodd\" fill-opacity=\"1\" /><path clip-path=\"url(#clip560)\" d=\"M783.251 35.9153 Q786.046 30.8922 789.935 28.5022 Q793.824 26.1121 799.09 26.1121 Q806.179 26.1121 810.028 31.0947 Q813.876 36.0368 813.876 45.1919 L813.876 72.576 L806.382 72.576 L806.382 45.4349 Q806.382 38.913 804.073 35.7533 Q801.764 32.5936 797.024 32.5936 Q791.231 32.5936 787.869 36.4419 Q784.507 40.2903 784.507 46.9338 L784.507 72.576 L777.013 72.576 L777.013 45.4349 Q777.013 38.8725 774.704 35.7533 Q772.395 32.5936 767.574 32.5936 Q761.862 32.5936 758.5 36.4824 Q755.138 40.3308 755.138 46.9338 L755.138 72.576 L747.644 72.576 L747.644 27.2059 L755.138 27.2059 L755.138 34.2544 Q757.69 30.082 761.255 28.0971 Q764.82 26.1121 769.721 26.1121 Q774.663 26.1121 778.106 28.6237 Q781.59 31.1352 783.251 35.9153 Z\" fill=\"#000000\" fill-rule=\"evenodd\" fill-opacity=\"1\" /><path clip-path=\"url(#clip560)\" d=\"M867.55 48.0275 L867.55 51.6733 L833.28 51.6733 Q833.766 59.3701 837.898 63.421 Q842.07 67.4314 849.483 67.4314 Q853.777 67.4314 857.788 66.3781 Q861.839 65.3249 865.809 63.2184 L865.809 70.267 Q861.798 71.9684 857.585 72.8596 Q853.372 73.7508 849.038 73.7508 Q838.181 73.7508 831.821 67.4314 Q825.502 61.1119 825.502 50.3365 Q825.502 39.1965 831.497 32.6746 Q837.533 26.1121 847.742 26.1121 Q856.897 26.1121 862.203 32.0264 Q867.55 37.9003 867.55 48.0275 M860.097 45.84 Q860.016 39.7232 856.654 36.0774 Q853.332 32.4315 847.823 32.4315 Q841.584 32.4315 837.817 35.9558 Q834.09 39.4801 833.523 45.8805 L860.097 45.84 Z\" fill=\"#000000\" fill-rule=\"evenodd\" fill-opacity=\"1\" /><path clip-path=\"url(#clip560)\" d=\"M906.075 34.1734 Q904.819 33.4443 903.32 33.1202 Q901.862 32.7556 900.079 32.7556 Q893.76 32.7556 890.357 36.8875 Q886.995 40.9789 886.995 48.6757 L886.995 72.576 L879.501 72.576 L879.501 27.2059 L886.995 27.2059 L886.995 34.2544 Q889.344 30.1225 893.112 28.1376 Q896.879 26.1121 902.267 26.1121 Q903.036 26.1121 903.968 26.2337 Q904.9 26.3147 906.034 26.5172 L906.075 34.1734 Z\" fill=\"#000000\" fill-rule=\"evenodd\" fill-opacity=\"1\" /><path clip-path=\"url(#clip560)\" d=\"M963.233 9.54393 L963.233 15.7418 L956.103 15.7418 Q952.093 15.7418 950.513 17.3622 Q948.974 18.9825 948.974 23.1955 L948.974 27.2059 L961.248 27.2059 L961.248 32.9987 L948.974 32.9987 L948.974 72.576 L941.479 72.576 L941.479 32.9987 L934.35 32.9987 L934.35 27.2059 L941.479 27.2059 L941.479 24.0462 Q941.479 16.471 945.004 13.0277 Q948.528 9.54393 956.184 9.54393 L963.233 9.54393 Z\" fill=\"#000000\" fill-rule=\"evenodd\" fill-opacity=\"1\" /><path clip-path=\"url(#clip560)\" d=\"M995.762 34.1734 Q994.506 33.4443 993.007 33.1202 Q991.549 32.7556 989.766 32.7556 Q983.447 32.7556 980.044 36.8875 Q976.682 40.9789 976.682 48.6757 L976.682 72.576 L969.188 72.576 L969.188 27.2059 L976.682 27.2059 L976.682 34.2544 Q979.031 30.1225 982.799 28.1376 Q986.566 26.1121 991.954 26.1121 Q992.723 26.1121 993.655 26.2337 Q994.587 26.3147 995.721 26.5172 L995.762 34.1734 Z\" fill=\"#000000\" fill-rule=\"evenodd\" fill-opacity=\"1\" /><path clip-path=\"url(#clip560)\" d=\"M1040.56 48.0275 L1040.56 51.6733 L1006.29 51.6733 Q1006.78 59.3701 1010.91 63.421 Q1015.08 67.4314 1022.5 67.4314 Q1026.79 67.4314 1030.8 66.3781 Q1034.85 65.3249 1038.82 63.2184 L1038.82 70.267 Q1034.81 71.9684 1030.6 72.8596 Q1026.39 73.7508 1022.05 73.7508 Q1011.2 73.7508 1004.84 67.4314 Q998.516 61.1119 998.516 50.3365 Q998.516 39.1965 1004.51 32.6746 Q1010.55 26.1121 1020.76 26.1121 Q1029.91 26.1121 1035.22 32.0264 Q1040.56 37.9003 1040.56 48.0275 M1033.11 45.84 Q1033.03 39.7232 1029.67 36.0774 Q1026.35 32.4315 1020.84 32.4315 Q1014.6 32.4315 1010.83 35.9558 Q1007.1 39.4801 1006.54 45.8805 L1033.11 45.84 Z\" fill=\"#000000\" fill-rule=\"evenodd\" fill-opacity=\"1\" /><path clip-path=\"url(#clip560)\" d=\"M1057.25 49.9314 Q1057.25 58.1548 1060.62 62.8538 Q1064.02 67.5124 1069.93 67.5124 Q1075.85 67.5124 1079.25 62.8538 Q1082.65 58.1548 1082.65 49.9314 Q1082.65 41.7081 1079.25 37.0496 Q1075.85 32.3505 1069.93 32.3505 Q1064.02 32.3505 1060.62 37.0496 Q1057.25 41.7081 1057.25 49.9314 M1082.65 65.7705 Q1080.3 69.8214 1076.7 71.8063 Q1073.13 73.7508 1068.11 73.7508 Q1059.89 73.7508 1054.7 67.1883 Q1049.56 60.6258 1049.56 49.9314 Q1049.56 39.2371 1054.7 32.6746 Q1059.89 26.1121 1068.11 26.1121 Q1073.13 26.1121 1076.7 28.0971 Q1080.3 30.0415 1082.65 34.0924 L1082.65 27.2059 L1090.11 27.2059 L1090.11 89.8329 L1082.65 89.8329 L1082.65 65.7705 Z\" fill=\"#000000\" fill-rule=\"evenodd\" fill-opacity=\"1\" /><path clip-path=\"url(#clip560)\" d=\"M1104.69 54.671 L1104.69 27.2059 L1112.14 27.2059 L1112.14 54.3874 Q1112.14 60.8284 1114.66 64.0691 Q1117.17 67.2693 1122.19 67.2693 Q1128.23 67.2693 1131.71 63.421 Q1135.23 59.5726 1135.23 52.9291 L1135.23 27.2059 L1142.69 27.2059 L1142.69 72.576 L1135.23 72.576 L1135.23 65.6084 Q1132.52 69.7404 1128.91 71.7658 Q1125.35 73.7508 1120.61 73.7508 Q1112.79 73.7508 1108.74 68.8897 Q1104.69 64.0286 1104.69 54.671 M1123.45 26.1121 L1123.45 26.1121 Z\" fill=\"#000000\" fill-rule=\"evenodd\" fill-opacity=\"1\" /><path clip-path=\"url(#clip560)\" d=\"M1196.85 48.0275 L1196.85 51.6733 L1162.58 51.6733 Q1163.06 59.3701 1167.2 63.421 Q1171.37 67.4314 1178.78 67.4314 Q1183.08 67.4314 1187.09 66.3781 Q1191.14 65.3249 1195.11 63.2184 L1195.11 70.267 Q1191.1 71.9684 1186.88 72.8596 Q1182.67 73.7508 1178.34 73.7508 Q1167.48 73.7508 1161.12 67.4314 Q1154.8 61.1119 1154.8 50.3365 Q1154.8 39.1965 1160.8 32.6746 Q1166.83 26.1121 1177.04 26.1121 Q1186.19 26.1121 1191.5 32.0264 Q1196.85 37.9003 1196.85 48.0275 M1189.39 45.84 Q1189.31 39.7232 1185.95 36.0774 Q1182.63 32.4315 1177.12 32.4315 Q1170.88 32.4315 1167.11 35.9558 Q1163.39 39.4801 1162.82 45.8805 L1189.39 45.84 Z\" fill=\"#000000\" fill-rule=\"evenodd\" fill-opacity=\"1\" /><path clip-path=\"url(#clip560)\" d=\"M1246.8 45.1919 L1246.8 72.576 L1239.34 72.576 L1239.34 45.4349 Q1239.34 38.994 1236.83 35.7938 Q1234.32 32.5936 1229.3 32.5936 Q1223.26 32.5936 1219.78 36.4419 Q1216.29 40.2903 1216.29 46.9338 L1216.29 72.576 L1208.8 72.576 L1208.8 27.2059 L1216.29 27.2059 L1216.29 34.2544 Q1218.97 30.163 1222.57 28.1376 Q1226.22 26.1121 1230.96 26.1121 Q1238.78 26.1121 1242.79 30.9732 Q1246.8 35.7938 1246.8 45.1919 Z\" fill=\"#000000\" fill-rule=\"evenodd\" fill-opacity=\"1\" /><path clip-path=\"url(#clip560)\" d=\"M1294.31 28.9478 L1294.31 35.9153 Q1291.15 34.1734 1287.95 33.3227 Q1284.79 32.4315 1281.55 32.4315 Q1274.3 32.4315 1270.29 37.0496 Q1266.28 41.6271 1266.28 49.9314 Q1266.28 58.2358 1270.29 62.8538 Q1274.3 67.4314 1281.55 67.4314 Q1284.79 67.4314 1287.95 66.5807 Q1291.15 65.6895 1294.31 63.9476 L1294.31 70.8341 Q1291.19 72.2924 1287.83 73.0216 Q1284.51 73.7508 1280.74 73.7508 Q1270.49 73.7508 1264.46 67.3098 Q1258.42 60.8689 1258.42 49.9314 Q1258.42 38.832 1264.5 32.472 Q1270.62 26.1121 1281.23 26.1121 Q1284.67 26.1121 1287.95 26.8413 Q1291.23 27.5299 1294.31 28.9478 Z\" fill=\"#000000\" fill-rule=\"evenodd\" fill-opacity=\"1\" /><path clip-path=\"url(#clip560)\" d=\"M1307.28 27.2059 L1314.73 27.2059 L1314.73 72.576 L1307.28 72.576 L1307.28 27.2059 M1307.28 9.54393 L1314.73 9.54393 L1314.73 18.9825 L1307.28 18.9825 L1307.28 9.54393 Z\" fill=\"#000000\" fill-rule=\"evenodd\" fill-opacity=\"1\" /><path clip-path=\"url(#clip560)\" d=\"M1369.13 48.0275 L1369.13 51.6733 L1334.86 51.6733 Q1335.35 59.3701 1339.48 63.421 Q1343.65 67.4314 1351.07 67.4314 Q1355.36 67.4314 1359.37 66.3781 Q1363.42 65.3249 1367.39 63.2184 L1367.39 70.267 Q1363.38 71.9684 1359.17 72.8596 Q1354.96 73.7508 1350.62 73.7508 Q1339.76 73.7508 1333.4 67.4314 Q1327.09 61.1119 1327.09 50.3365 Q1327.09 39.1965 1333.08 32.6746 Q1339.12 26.1121 1349.32 26.1121 Q1358.48 26.1121 1363.79 32.0264 Q1369.13 37.9003 1369.13 48.0275 M1361.68 45.84 Q1361.6 39.7232 1358.24 36.0774 Q1354.91 32.4315 1349.41 32.4315 Q1343.17 32.4315 1339.4 35.9558 Q1335.67 39.4801 1335.11 45.8805 L1361.68 45.84 Z\" fill=\"#000000\" fill-rule=\"evenodd\" fill-opacity=\"1\" /><path clip-path=\"url(#clip560)\" d=\"M1410.29 28.5427 L1410.29 35.5912 Q1407.13 33.9709 1403.73 33.1607 Q1400.33 32.3505 1396.68 32.3505 Q1391.13 32.3505 1388.33 34.0519 Q1385.58 35.7533 1385.58 39.156 Q1385.58 41.7486 1387.57 43.2475 Q1389.55 44.7058 1395.55 46.0426 L1398.1 46.6097 Q1406.04 48.3111 1409.36 51.4303 Q1412.72 54.509 1412.72 60.0587 Q1412.72 66.3781 1407.7 70.0644 Q1402.72 73.7508 1393.97 73.7508 Q1390.32 73.7508 1386.35 73.0216 Q1382.42 72.3329 1378.05 70.9151 L1378.05 63.2184 Q1382.18 65.3654 1386.19 66.4591 Q1390.2 67.5124 1394.13 67.5124 Q1399.39 67.5124 1402.23 65.73 Q1405.06 63.9071 1405.06 60.6258 Q1405.06 57.5877 1403 55.9673 Q1400.97 54.3469 1394.05 52.8481 L1391.45 52.2405 Q1384.53 50.7821 1381.45 47.7845 Q1378.37 44.7463 1378.37 39.4801 Q1378.37 33.0797 1382.91 29.5959 Q1387.44 26.1121 1395.79 26.1121 Q1399.92 26.1121 1403.57 26.7198 Q1407.21 27.3274 1410.29 28.5427 Z\" fill=\"#000000\" fill-rule=\"evenodd\" fill-opacity=\"1\" /><circle clip-path=\"url(#clip562)\" cx=\"1573.23\" cy=\"849.7\" r=\"14\" fill=\"#009af9\" fill-rule=\"evenodd\" fill-opacity=\"1\" stroke=\"#000000\" stroke-opacity=\"1\" stroke-width=\"2\"/>\n",
       "<circle clip-path=\"url(#clip562)\" cx=\"1629.62\" cy=\"719.25\" r=\"14\" fill=\"#009af9\" fill-rule=\"evenodd\" fill-opacity=\"1\" stroke=\"#000000\" stroke-opacity=\"1\" stroke-width=\"2\"/>\n",
       "<circle clip-path=\"url(#clip562)\" cx=\"1626.38\" cy=\"849.7\" r=\"14\" fill=\"#009af9\" fill-rule=\"evenodd\" fill-opacity=\"1\" stroke=\"#000000\" stroke-opacity=\"1\" stroke-width=\"2\"/>\n",
       "<circle clip-path=\"url(#clip562)\" cx=\"1561.45\" cy=\"849.7\" r=\"14\" fill=\"#009af9\" fill-rule=\"evenodd\" fill-opacity=\"1\" stroke=\"#000000\" stroke-opacity=\"1\" stroke-width=\"2\"/>\n",
       "<circle clip-path=\"url(#clip562)\" cx=\"1619.78\" cy=\"849.7\" r=\"14\" fill=\"#009af9\" fill-rule=\"evenodd\" fill-opacity=\"1\" stroke=\"#000000\" stroke-opacity=\"1\" stroke-width=\"2\"/>\n",
       "<circle clip-path=\"url(#clip562)\" cx=\"1613.04\" cy=\"849.7\" r=\"14\" fill=\"#009af9\" fill-rule=\"evenodd\" fill-opacity=\"1\" stroke=\"#000000\" stroke-opacity=\"1\" stroke-width=\"2\"/>\n",
       "<circle clip-path=\"url(#clip562)\" cx=\"1599.13\" cy=\"849.7\" r=\"14\" fill=\"#009af9\" fill-rule=\"evenodd\" fill-opacity=\"1\" stroke=\"#000000\" stroke-opacity=\"1\" stroke-width=\"2\"/>\n",
       "<circle clip-path=\"url(#clip562)\" cx=\"1623.09\" cy=\"849.7\" r=\"14\" fill=\"#009af9\" fill-rule=\"evenodd\" fill-opacity=\"1\" stroke=\"#000000\" stroke-opacity=\"1\" stroke-width=\"2\"/>\n",
       "<circle clip-path=\"url(#clip562)\" cx=\"1591.94\" cy=\"849.7\" r=\"14\" fill=\"#009af9\" fill-rule=\"evenodd\" fill-opacity=\"1\" stroke=\"#000000\" stroke-opacity=\"1\" stroke-width=\"2\"/>\n",
       "<circle clip-path=\"url(#clip562)\" cx=\"1602.67\" cy=\"849.7\" r=\"14\" fill=\"#009af9\" fill-rule=\"evenodd\" fill-opacity=\"1\" stroke=\"#000000\" stroke-opacity=\"1\" stroke-width=\"2\"/>\n",
       "<circle clip-path=\"url(#clip562)\" cx=\"1632.84\" cy=\"202.452\" r=\"14\" fill=\"#009af9\" fill-rule=\"evenodd\" fill-opacity=\"1\" stroke=\"#000000\" stroke-opacity=\"1\" stroke-width=\"2\"/>\n",
       "</svg>\n"
      ]
     },
     "execution_count": 365,
     "metadata": {},
     "output_type": "execute_result"
    }
   ],
   "source": [
    "kmer_counts = Dict(corrected_observation_graph.vprops[v][:kmer] => corrected_observation_graph.vprops[v][:weight] for v in LightGraphs.vertices(corrected_observation_graph))\n",
    "total_observed_kmers = sum(values(kmer_counts))\n",
    "kmer_probabilities = Dict(k => v/total_observed_kmers for (k,v) in kmer_counts)\n",
    "scale = 250\n",
    "Mycelia.plot_kmer_frequency_spectra(values(kmer_counts), size=(2scale,scale), title=\"kmer frequencies\")"
   ]
  },
  {
   "cell_type": "code",
   "execution_count": 366,
   "id": "2b4354c8-d03e-49d6-b3ed-7f2375f43602",
   "metadata": {},
   "outputs": [],
   "source": [
    "# compare the new graph to the error-free graph to the error-corrected graph"
   ]
  },
  {
   "cell_type": "code",
   "execution_count": 367,
   "id": "5543d4f5-6bb9-4368-8149-9db0267d5aa5",
   "metadata": {},
   "outputs": [
    {
     "data": {
      "text/plain": [
       "0.0"
      ]
     },
     "execution_count": 367,
     "metadata": {},
     "output_type": "execute_result"
    }
   ],
   "source": [
    "reference_kmers = keys(Mycelia.count_canonical_kmers(BioSequences.DNAMer{k}, reference_fasta_file))\n",
    "distance_to_reference_graph = 1 - LSHFunctions.jaccard(Set(reference_kmers), Set(keys(kmer_counts)))"
   ]
  },
  {
   "cell_type": "markdown",
   "id": "999e7966-6ffc-43dd-8b24-9fdea86fd435",
   "metadata": {},
   "source": [
    "# Final polish and reduction"
   ]
  },
  {
   "cell_type": "code",
   "execution_count": 368,
   "id": "83ee093f-2f2d-48cd-a6d6-e0000fa44a67",
   "metadata": {},
   "outputs": [
    {
     "data": {
      "text/plain": [
       "984-element Vector{Int64}:\n",
       "   1\n",
       "   2\n",
       "   3\n",
       "   4\n",
       "   5\n",
       "   6\n",
       "   7\n",
       "   8\n",
       "   9\n",
       "  10\n",
       "  11\n",
       "  12\n",
       "  13\n",
       "   ⋮\n",
       " 973\n",
       " 974\n",
       " 975\n",
       " 976\n",
       " 977\n",
       " 978\n",
       " 979\n",
       " 980\n",
       " 981\n",
       " 982\n",
       " 983\n",
       " 984"
      ]
     },
     "execution_count": 368,
     "metadata": {},
     "output_type": "execute_result"
    }
   ],
   "source": [
    "# to_filter = Int[]\n",
    "connected_component = first(LightGraphs.connected_components(corrected_observation_graph))"
   ]
  },
  {
   "cell_type": "code",
   "execution_count": 369,
   "id": "b556f37f-4b7c-4260-9fa7-75b3fc5db9db",
   "metadata": {},
   "outputs": [
    {
     "data": {
      "text/plain": [
       "2-element Vector{Int64}:\n",
       " 469\n",
       " 532"
      ]
     },
     "execution_count": 369,
     "metadata": {},
     "output_type": "execute_result"
    }
   ],
   "source": [
    "tip_vertices = filter(v -> LightGraphs.degree(corrected_observation_graph, v) == 2, LightGraphs.vertices(corrected_observation_graph))"
   ]
  },
  {
   "cell_type": "code",
   "execution_count": 370,
   "id": "82b104bc-979a-4dac-888e-f406140fd0bd",
   "metadata": {},
   "outputs": [
    {
     "name": "stderr",
     "output_type": "stream",
     "text": [
      "┌ Info: simplifying kmer graph\n",
      "└ @ Mycelia /home/jovyan/git/Mycelia/src/Mycelia.jl:2260\n",
      "┌ Info: resolving untigs...\n",
      "└ @ Mycelia /home/jovyan/git/Mycelia/src/Mycelia.jl:2261\n"
     ]
    },
    {
     "name": "stdout",
     "output_type": "stream",
     "text": [
      "  0.517964 seconds (372.35 k allocations: 22.678 MiB, 14.75% gc time, 82.31% compilation time)\n"
     ]
    },
    {
     "name": "stderr",
     "output_type": "stream",
     "text": [
      "┌ Info: determining untig orientations...\n",
      "└ @ Mycelia /home/jovyan/git/Mycelia/src/Mycelia.jl:2264\n"
     ]
    },
    {
     "name": "stdout",
     "output_type": "stream",
     "text": [
      "  0.375672 seconds (458.79 k allocations: 25.160 MiB, 97.76% compilation time)\n"
     ]
    },
    {
     "name": "stderr",
     "output_type": "stream",
     "text": [
      "┌ Info: initializing graph node metadata\n",
      "└ @ Mycelia /home/jovyan/git/Mycelia/src/Mycelia.jl:2269\n",
      "┌ Info: creating simplified unitgs to help resolve connections\n",
      "└ @ Mycelia /home/jovyan/git/Mycelia/src/Mycelia.jl:2279\n"
     ]
    },
    {
     "data": {
      "text/plain": [
       "{1, 0} directed Int64 metagraph with Float64 weights defined by :weight (default weight 1.0)"
      ]
     },
     "execution_count": 370,
     "metadata": {},
     "output_type": "execute_result"
    }
   ],
   "source": [
    "if length(tip_vertices) > 2\n",
    "    component_weights = map(v -> corrected_observation_graph.vprops[v][:weight], connected_component)\n",
    "    component_median = Statistics.median(component_weights)\n",
    "    component_standard_deviation = Statistics.std(component_weights)\n",
    "    tips_to_drop = filter(tip -> corrected_observation_graph.vprops[tip][:weight] < component_median - 2*component_standard_deviation, tip_vertices) \n",
    "    polished_graph, vertex_map = LightGraphs.induced_subgraph(corrected_observation_graph, setdiff(LightGraphs.vertices(corrected_observation_graph), tips_to_drop))\n",
    "    simplified_graph = Mycelia.simplify_kmer_graph(polished_graph)\n",
    "else\n",
    "    simplified_graph = Mycelia.simplify_kmer_graph(corrected_observation_graph)\n",
    "end"
   ]
  },
  {
   "cell_type": "code",
   "execution_count": 371,
   "id": "6885134a-a5a7-40c6-b515-f103e16b9584",
   "metadata": {},
   "outputs": [
    {
     "data": {
      "text/html": [
       "<img src=./../../../2021-08-24-assess-convergence-phage-1000x-coverage/LENGTH-1000-DEPTH-100.k17.fastq.k-17.simplified.gfa.svg>"
      ]
     },
     "metadata": {},
     "output_type": "display_data"
    }
   ],
   "source": [
    "# write simplified graph to gfa\n",
    "# visualize\n",
    "gfa_file = corrected_fastq_file * \".k-$k.simplified.gfa\"\n",
    "Mycelia.graph_to_gfa(simplified_graph, gfa_file)\n",
    "\n",
    "run(`$(BANDAGE) image $(gfa_file) $(gfa_file).svg --depwidth .9 --deppower .9`)\n",
    "# --nodewidth <float> Average node width (0.5 to 1000, default: 5)\n",
    "# --depwidth <float>  Depth effect on width (0 to 1, default: 0.5)\n",
    "# --deppower <float>  Power of depth effect on width (0 to 1, default: 0.5)\n",
    "\n",
    "html_path_to_svg = \"./\" * repeat(\"../\", length(split(pwd(), '/')) - 3)\n",
    "html_path_to_svg *= replace(\"$(gfa_file).svg\", \"$(homedir())/\" => \"\")\n",
    "\n",
    "x = \"<img src=$(html_path_to_svg)>\"\n",
    "display(\"text/html\", x)\n",
    "# display(\"image/svg+xml\", read(\"$(gfa_file).svg\", String))"
   ]
  },
  {
   "cell_type": "code",
   "execution_count": 372,
   "id": "cc55c0d8-875e-42e9-98fb-11aa9e8b0f1b",
   "metadata": {},
   "outputs": [
    {
     "data": {
      "text/plain": [
       "100.0"
      ]
     },
     "execution_count": 372,
     "metadata": {},
     "output_type": "execute_result"
    }
   ],
   "source": [
    "simplified_graph.vprops[1][:weight]"
   ]
  },
  {
   "cell_type": "code",
   "execution_count": 373,
   "id": "f0075333-9c05-43e7-ac86-236183f79d8f",
   "metadata": {},
   "outputs": [
    {
     "data": {
      "text/plain": [
       "true"
      ]
     },
     "execution_count": 373,
     "metadata": {},
     "output_type": "execute_result"
    }
   ],
   "source": [
    "Mycelia.is_equivalent(FASTX.sequence(fasta_record), simplified_graph.vprops[1][:sequence])"
   ]
  },
  {
   "cell_type": "markdown",
   "id": "2f2636d1-2a3c-4dd6-94a4-f7a262b57755",
   "metadata": {},
   "source": [
    "# THE SAME!!!"
   ]
  },
  {
   "cell_type": "code",
   "execution_count": 374,
   "id": "e76e948b-161d-40d1-b5db-ad1b88b26d9a",
   "metadata": {},
   "outputs": [
    {
     "name": "stdout",
     "output_type": "stream",
     "text": [
      "record = FASTX.FASTA.Record:\n",
      "   identifier: 7865558533970300004-2021-08-25T00:43:17.020\n",
      "  description: 100.0\n",
      "     sequence: CCACCATCATCGTCGGATCTAATACCCGTGGGTGGATAC…\n"
     ]
    }
   ],
   "source": [
    "# write contigs to fasta\n",
    "final_fasta_file = corrected_fastq_file * \".k-$k.simplified.fasta\"\n",
    "open(final_fasta_file, \"w\") do io\n",
    "    fasta_io = FASTX.FASTA.Writer(io)\n",
    "    for vertex in LightGraphs.vertices(simplified_graph)\n",
    "        seq = simplified_graph.vprops[vertex][:sequence]\n",
    "        description = string(simplified_graph.vprops[vertex][:weight])\n",
    "        id = string(hash(seq)) * '-' * string(Dates.now())\n",
    "        record = FASTX.FASTA.Record(id, description, seq)\n",
    "        @show record\n",
    "        write(fasta_io, record)\n",
    "    end\n",
    "    close(fasta_io)\n",
    "end"
   ]
  }
 ],
 "metadata": {
  "kernelspec": {
   "display_name": "Julia 1.6.1",
   "language": "julia",
   "name": "julia-1.6"
  },
  "language_info": {
   "file_extension": ".jl",
   "mimetype": "application/julia",
   "name": "julia",
   "version": "1.6.1"
  }
 },
 "nbformat": 4,
 "nbformat_minor": 5
}
