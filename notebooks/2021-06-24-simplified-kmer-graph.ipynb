{
 "cells": [
  {
   "cell_type": "code",
   "execution_count": 1,
   "metadata": {},
   "outputs": [
    {
     "data": {
      "text/plain": [
       "\"/Users/cameronprybol/2021-06-24-simplified-kmer-graph\""
      ]
     },
     "execution_count": 1,
     "metadata": {},
     "output_type": "execute_result"
    }
   ],
   "source": [
    "DATE = \"2021-06-24\"\n",
    "TASK = \"simplified-kmer-graph\"\n",
    "DIR = \"$(DATE)-$(TASK)\"\n",
    "DIR = mkpath(\"$(homedir())/$(DIR)\")"
   ]
  },
  {
   "cell_type": "code",
   "execution_count": 2,
   "metadata": {},
   "outputs": [
    {
     "name": "stdout",
     "output_type": "stream",
     "text": [
      "    \u001b[36m\u001b[1mFetching:\u001b[22m\u001b[39m [========================================>]  100.0 %36m\u001b[1mFetching:\u001b[22m\u001b[39m [=>                                       ]  0.1 %\u001b[36m\u001b[1mFetching:\u001b[22m\u001b[39m [=>                                       ]  0.5 %\u001b[36m\u001b[1mFetching:\u001b[22m\u001b[39m [=>                                       ]  0.7 %\u001b[36m\u001b[1mFetching:\u001b[22m\u001b[39m [=>                                       ]  0.9 %\u001b[36m\u001b[1mFetching:\u001b[22m\u001b[39m [=>                                       ]  1.1 %\u001b[36m\u001b[1mFetching:\u001b[22m\u001b[39m [=>                                       ]  1.3 %\u001b[36m\u001b[1mFetching:\u001b[22m\u001b[39m [=>                                       ]  1.5 %\u001b[36m\u001b[1mFetching:\u001b[22m\u001b[39m [=>                                       ]  1.7 %\u001b[36m\u001b[1mFetching:\u001b[22m\u001b[39m [=>                                       ]  1.9 %\u001b[36m\u001b[1mFetching:\u001b[22m\u001b[39m [=>                                       ]  2.1 %\u001b[36m\u001b[1mFetching:\u001b[22m\u001b[39m [=>                                       ]  2.3 %\u001b[36m\u001b[1mFetching:\u001b[22m\u001b[39m [==>                                      ]  2.5 %\u001b[36m\u001b[1mFetching:\u001b[22m\u001b[39m [==>                                      ]  2.7 %\u001b[36m\u001b[1mFetching:\u001b[22m\u001b[39m [==>                                      ]  2.9 %\u001b[36m\u001b[1mFetching:\u001b[22m\u001b[39m [==>                                      ]  3.1 %\u001b[36m\u001b[1mFetching:\u001b[22m\u001b[39m [==>                                      ]  3.3 %\u001b[36m\u001b[1mFetching:\u001b[22m\u001b[39m [==>                                      ]  3.5 %\u001b[36m\u001b[1mFetching:\u001b[22m\u001b[39m [==>                                      ]  3.7 %\u001b[36m\u001b[1mFetching:\u001b[22m\u001b[39m [==>                                      ]  3.9 %\u001b[36m\u001b[1mFetching:\u001b[22m\u001b[39m [==>                                      ]  4.1 %\u001b[36m\u001b[1mFetching:\u001b[22m\u001b[39m [==>                                      ]  4.3 %\u001b[36m\u001b[1mFetching:\u001b[22m\u001b[39m [==>                                      ]  4.7 %\u001b[36m\u001b[1mFetching:\u001b[22m\u001b[39m [===>                                     ]  5.3 %\u001b[36m\u001b[1mFetching:\u001b[22m\u001b[39m [===>                                     ]  5.5 %\u001b[36m\u001b[1mFetching:\u001b[22m\u001b[39m [===>                                     ]  6.1 %\u001b[36m\u001b[1mFetching:\u001b[22m\u001b[39m [===>                                     ]  6.3 %\u001b[36m\u001b[1mFetching:\u001b[22m\u001b[39m [===>                                     ]  6.5 %\u001b[36m\u001b[1mFetching:\u001b[22m\u001b[39m [===>                                     ]  6.7 %\u001b[36m\u001b[1mFetching:\u001b[22m\u001b[39m [===>                                     ]  6.9 %\u001b[36m\u001b[1mFetching:\u001b[22m\u001b[39m [===>                                     ]  7.1 %\u001b[36m\u001b[1mFetching:\u001b[22m\u001b[39m [===>                                     ]  7.3 %\u001b[36m\u001b[1mFetching:\u001b[22m\u001b[39m [====>                                    ]  7.5 %\u001b[36m\u001b[1mFetching:\u001b[22m\u001b[39m [====>                                    ]  8.3 %\u001b[36m\u001b[1mFetching:\u001b[22m\u001b[39m [====>                                    ]  8.5 %\u001b[36m\u001b[1mFetching:\u001b[22m\u001b[39m [====>                                    ]  9.1 %\u001b[36m\u001b[1mFetching:\u001b[22m\u001b[39m [====>                                    ]  9.3 %\u001b[36m\u001b[1mFetching:\u001b[22m\u001b[39m [====>                                    ]  9.5 %\u001b[36m\u001b[1mFetching:\u001b[22m\u001b[39m [=====>                                   ]  10.1 %\u001b[36m\u001b[1mFetching:\u001b[22m\u001b[39m [=====>                                   ]  10.7 %\u001b[36m\u001b[1mFetching:\u001b[22m\u001b[39m [=====>                                   ]  11.3 %\u001b[36m\u001b[1mFetching:\u001b[22m\u001b[39m [=====>                                   ]  11.9 %\u001b[36m\u001b[1mFetching:\u001b[22m\u001b[39m [======>                                  ]  12.5 %\u001b[36m\u001b[1mFetching:\u001b[22m\u001b[39m [======>                                  ]  13.1 %\u001b[36m\u001b[1mFetching:\u001b[22m\u001b[39m [======>                                  ]  13.9 %\u001b[36m\u001b[1mFetching:\u001b[22m\u001b[39m [======>                                  ]  14.5 %\u001b[36m\u001b[1mFetching:\u001b[22m\u001b[39m [=======>                                 ]  15.1 %\u001b[36m\u001b[1mFetching:\u001b[22m\u001b[39m [=======>                                 ]  15.7 %\u001b[36m\u001b[1mFetching:\u001b[22m\u001b[39m [========>                                ]  18.3 %\u001b[36m\u001b[1mFetching:\u001b[22m\u001b[39m [=========>                               ]  20.7 %\u001b[36m\u001b[1mFetching:\u001b[22m\u001b[39m [==========>                              ]  23.3 %\u001b[36m\u001b[1mFetching:\u001b[22m\u001b[39m [===========>                             ]  27.3 %\u001b[36m\u001b[1mFetching:\u001b[22m\u001b[39m [=============>                           ]  31.4 %\u001b[36m\u001b[1mFetching:\u001b[22m\u001b[39m [=============>                           ]  32.4 %\u001b[36m\u001b[1mFetching:\u001b[22m\u001b[39m [==============>                          ]  33.2 %\u001b[36m\u001b[1mFetching:\u001b[22m\u001b[39m [===============>                         ]  36.8 %\u001b[36m\u001b[1mFetching:\u001b[22m\u001b[39m [==================>                      ]  43.0 %\u001b[36m\u001b[1mFetching:\u001b[22m\u001b[39m [==================>                      ]  44.4 %\u001b[36m\u001b[1mFetching:\u001b[22m\u001b[39m [==================>                      ]  45.0 %\u001b[36m\u001b[1mFetching:\u001b[22m\u001b[39m [===================>                     ]  47.2 %\u001b[36m\u001b[1mFetching:\u001b[22m\u001b[39m [====================>                    ]  47.6 %\u001b[36m\u001b[1mFetching:\u001b[22m\u001b[39m [====================>                    ]  48.0 %\u001b[36m\u001b[1mFetching:\u001b[22m\u001b[39m [====================>                    ]  48.6 %\u001b[36m\u001b[1mFetching:\u001b[22m\u001b[39m [====================>                    ]  49.0 %\u001b[36m\u001b[1mFetching:\u001b[22m\u001b[39m [=====================>                   ]  52.0 %\u001b[36m\u001b[1mFetching:\u001b[22m\u001b[39m [======================>                  ]  52.8 %\u001b[36m\u001b[1mFetching:\u001b[22m\u001b[39m [======================>                  ]  53.4 %\u001b[36m\u001b[1mFetching:\u001b[22m\u001b[39m [======================>                  ]  54.0 %\u001b[36m\u001b[1mFetching:\u001b[22m\u001b[39m [=======================>                 ]  55.4 %\u001b[36m\u001b[1mFetching:\u001b[22m\u001b[39m [=======================>                 ]  56.8 %\u001b[36m\u001b[1mFetching:\u001b[22m\u001b[39m [========================>                ]  58.2 %\u001b[36m\u001b[1mFetching:\u001b[22m\u001b[39m [=========================>               ]  60.2 %\u001b[36m\u001b[1mFetching:\u001b[22m\u001b[39m [=========================>               ]  62.2 %\u001b[36m\u001b[1mFetching:\u001b[22m\u001b[39m [==========================>              ]  62.8 %\u001b[36m\u001b[1mFetching:\u001b[22m\u001b[39m [===========================>             ]  65.4 %\u001b[36m\u001b[1mFetching:\u001b[22m\u001b[39m [============================>            ]  68.0 %\u001b[36m\u001b[1mFetching:\u001b[22m\u001b[39m [=============================>           ]  71.4 %\u001b[36m\u001b[1mFetching:\u001b[22m\u001b[39m [===============================>         ]  75.8 %\u001b[36m\u001b[1mFetching:\u001b[22m\u001b[39m [================================>        ]  77.6 %\u001b[36m\u001b[1mFetching:\u001b[22m\u001b[39m [================================>        ]  78.2 %\u001b[36m\u001b[1mFetching:\u001b[22m\u001b[39m [================================>        ]  78.8 %\u001b[36m\u001b[1mFetching:\u001b[22m\u001b[39m [=================================>       ]  80.4 %\u001b[36m\u001b[1mFetching:\u001b[22m\u001b[39m [=================================>       ]  81.4 %\u001b[36m\u001b[1mFetching:\u001b[22m\u001b[39m [==================================>      ]  84.8 %\u001b[36m\u001b[1mFetching:\u001b[22m\u001b[39m [====================================>    ]  88.5 %\u001b[36m\u001b[1mFetching:\u001b[22m\u001b[39m [====================================>    ]  89.1 %\u001b[36m\u001b[1mFetching:\u001b[22m\u001b[39m [====================================>    ]  89.7 %\u001b[36m\u001b[1mFetching:\u001b[22m\u001b[39m [======================================>  ]  92.9 %\u001b[36m\u001b[1mFetching:\u001b[22m\u001b[39m [======================================>  ]  94.9 %\u001b[36m\u001b[1mFetching:\u001b[22m\u001b[39m [=======================================> ]  97.5 %\u001b[36m\u001b[1mFetching:\u001b[22m\u001b[39m [========================================>]  97.7 %\u001b[36m\u001b[1mFetching:\u001b[22m\u001b[39m [========================================>]  97.8 %\u001b[36m\u001b[1mFetching:\u001b[22m\u001b[39m [========================================>]  97.9 %\u001b[36m\u001b[1mFetching:\u001b[22m\u001b[39m [========================================>]  98.2 %\u001b[36m\u001b[1mFetching:\u001b[22m\u001b[39m [========================================>]  98.4 %\u001b[36m\u001b[1mFetching:\u001b[22m\u001b[39m [========================================>]  98.5 %\u001b[36m\u001b[1mFetching:\u001b[22m\u001b[39m [========================================>]  98.6 %\u001b[36m\u001b[1mFetching:\u001b[22m\u001b[39m [========================================>]  98.7 %\u001b[36m\u001b[1mFetching:\u001b[22m\u001b[39m [========================================>]  98.8 %\u001b[36m\u001b[1mFetching:\u001b[22m\u001b[39m [========================================>]  98.9 %\u001b[36m\u001b[1mFetching:\u001b[22m\u001b[39m [========================================>]  99.0 %\u001b[36m\u001b[1mFetching:\u001b[22m\u001b[39m [========================================>]  99.2 %\u001b[36m\u001b[1mFetching:\u001b[22m\u001b[39m [========================================>]  99.4 %\u001b[36m\u001b[1mFetching:\u001b[22m\u001b[39m [========================================>]  99.5 %\u001b[36m\u001b[1mFetching:\u001b[22m\u001b[39m [========================================>]  99.7 %\r"
     ]
    }
   ],
   "source": [
    "pkgs = [\n",
    "\"LightGraphs\",\n",
    "\"MetaGraphs\",\n",
    "\"BioSequences\",\n",
    "\"uCSV\",\n",
    "\"DataFrames\",\n",
    "\"FASTX\",\n",
    "\"Random\",\n",
    "\"ProgressMeter\",\n",
    "\"Revise\"\n",
    "]\n",
    "\n",
    "import Pkg\n",
    "Pkg.add(pkgs)\n",
    "for pkg in pkgs\n",
    "    eval(Meta.parse(\"import $(basename(pkg))\"))\n",
    "end\n",
    "\n",
    "import Mycelia"
   ]
  },
  {
   "cell_type": "code",
   "execution_count": 3,
   "metadata": {},
   "outputs": [
    {
     "data": {
      "text/plain": [
       "MersenneTwister(0)"
      ]
     },
     "execution_count": 3,
     "metadata": {},
     "output_type": "execute_result"
    }
   ],
   "source": [
    "# set a random seed\n",
    "seed = Random.seed!(0)"
   ]
  },
  {
   "cell_type": "code",
   "execution_count": 4,
   "metadata": {},
   "outputs": [
    {
     "data": {
      "text/plain": [
       "100nt DNA Sequence:\n",
       "AAGGGTGCGGTCTAGGTGCACTGCTTATGGTCCCCGACA…TCTACCTCTTTGTTGAAACGTATTCTTCTCTTAACACCT"
      ]
     },
     "execution_count": 4,
     "metadata": {},
     "output_type": "execute_result"
    }
   ],
   "source": [
    "# randomly generate a dna sequence of 100bp\n",
    "genome = BioSequences.randdnaseq(seed, 100)"
   ]
  },
  {
   "cell_type": "code",
   "execution_count": 5,
   "metadata": {},
   "outputs": [
    {
     "data": {
      "text/plain": [
       "0.01"
      ]
     },
     "execution_count": 5,
     "metadata": {},
     "output_type": "execute_result"
    }
   ],
   "source": [
    "# define error rate\n",
    "error_rate = 0.01"
   ]
  },
  {
   "cell_type": "code",
   "execution_count": 6,
   "metadata": {},
   "outputs": [],
   "source": [
    "# generate 100x coverage fastq file\n",
    "# put accuracy rate into fastq file\n",
    "coverage = 10\n",
    "fastq_file = \"$(DIR)/$(DATE)-$(TASK).fastq\"\n",
    "open(fastq_file, \"w\") do io\n",
    "    fastq_writer = FASTX.FASTQ.Writer(io)\n",
    "    for i in 1:coverage\n",
    "        observed_sequence = Mycelia.observe(genome, error_rate=error_rate)\n",
    "        q = -10 * log10(error_rate)\n",
    "        quality_scores = fill(q, length(observed_sequence))\n",
    "        fastq_record = FASTX.FASTQ.Record(\"i\", observed_sequence, quality_scores)\n",
    "        write(fastq_writer, fastq_record)\n",
    "    end\n",
    "end"
   ]
  },
  {
   "cell_type": "code",
   "execution_count": 7,
   "metadata": {},
   "outputs": [
    {
     "data": {
      "text/plain": [
       "11"
      ]
     },
     "execution_count": 7,
     "metadata": {},
     "output_type": "execute_result"
    }
   ],
   "source": [
    "k = 11"
   ]
  },
  {
   "cell_type": "code",
   "execution_count": 8,
   "metadata": {},
   "outputs": [
    {
     "data": {
      "text/plain": [
       "BioSequences.BigDNAMer{11} (alias for BioSequences.BigMer{BioSequences.DNAAlphabet{2}, 11})"
      ]
     },
     "execution_count": 8,
     "metadata": {},
     "output_type": "execute_result"
    }
   ],
   "source": [
    "kmer_type = BioSequences.BigDNAMer{k}"
   ]
  },
  {
   "cell_type": "code",
   "execution_count": 20,
   "metadata": {},
   "outputs": [
    {
     "name": "stderr",
     "output_type": "stream",
     "text": [
      "┌ Info: creating graph\n",
      "└ @ Mycelia /Users/cameronprybol/.julia/dev/Mycelia/src/Mycelia.jl:2958\n"
     ]
    },
    {
     "data": {
      "text/plain": [
       "{120, 240} directed Int64 metagraph with Float64 weights defined by :weight (default weight 1.0)"
      ]
     },
     "execution_count": 20,
     "metadata": {},
     "output_type": "execute_result"
    }
   ],
   "source": [
    "simple_kmer_graph = Mycelia.fastx_to_simple_kmer_graph(kmer_type, fastq_file)"
   ]
  },
  {
   "cell_type": "code",
   "execution_count": 21,
   "metadata": {},
   "outputs": [
    {
     "data": {
      "text/plain": [
       "\"/Users/cameronprybol/2021-06-24-simplified-kmer-graph/2021-06-24-simplified-kmer-graph.fastq.k-11.gfa\""
      ]
     },
     "execution_count": 21,
     "metadata": {},
     "output_type": "execute_result"
    }
   ],
   "source": [
    "# visualize\n",
    "gfa_file = fastq_file * \".k-$k.gfa\"\n",
    "Mycelia.graph_to_gfa(simple_kmer_graph, gfa_file)"
   ]
  },
  {
   "cell_type": "code",
   "execution_count": 22,
   "metadata": {},
   "outputs": [
    {
     "data": {
      "text/plain": [
       "Process(`\u001b[4m/Applications/Bandage.app/Contents/MacOS/Bandage\u001b[24m \u001b[4mimage\u001b[24m \u001b[4m/Users/cameronprybol/2021-06-24-simplified-kmer-graph/2021-06-24-simplified-kmer-graph.fastq.k-11.gfa\u001b[24m \u001b[4m/Users/cameronprybol/2021-06-24-simplified-kmer-graph/2021-06-24-simplified-kmer-graph.fastq.k-11.gfa.svg\u001b[24m \u001b[4m--depwidth\u001b[24m \u001b[4m1\u001b[24m \u001b[4m--deppower\u001b[24m \u001b[4m1\u001b[24m`, ProcessExited(0))"
      ]
     },
     "execution_count": 22,
     "metadata": {},
     "output_type": "execute_result"
    }
   ],
   "source": [
    "run(`/Applications/Bandage.app/Contents/MacOS/Bandage image $(gfa_file) $(gfa_file).svg --depwidth 1 --deppower 1`)\n",
    "# --nodewidth <float> Average node width (0.5 to 1000, default: 5)\n",
    "# --depwidth <float>  Depth effect on width (0 to 1, default: 0.5)\n",
    "# --deppower <float>  Power of depth effect on width (0 to 1, default: 0.5)"
   ]
  },
  {
   "cell_type": "code",
   "execution_count": 23,
   "metadata": {},
   "outputs": [
    {
     "data": {
      "text/plain": [
       "\"./../../../../2021-06-24-simplified-kmer-graph/2021-06-24-simplified-kmer-graph.fastq.k-11.gfa.svg\""
      ]
     },
     "execution_count": 23,
     "metadata": {},
     "output_type": "execute_result"
    }
   ],
   "source": [
    "html_path_to_svg = \"./\" * repeat(\"../\", length(split(pwd(), '/')) - 3)\n",
    "html_path_to_svg *= replace(\"$(gfa_file).svg\", \"$(homedir())/\" => \"\")"
   ]
  },
  {
   "cell_type": "code",
   "execution_count": 24,
   "metadata": {},
   "outputs": [
    {
     "data": {
      "text/html": [
       "<img src=./../../../../2021-06-24-simplified-kmer-graph/2021-06-24-simplified-kmer-graph.fastq.k-11.gfa.svg>"
      ]
     },
     "metadata": {},
     "output_type": "display_data"
    }
   ],
   "source": [
    "x = display(\"text/html\", \"<img src=$(html_path_to_svg)>\")"
   ]
  },
  {
   "cell_type": "code",
   "execution_count": 25,
   "metadata": {},
   "outputs": [
    {
     "name": "stderr",
     "output_type": "stream",
     "text": [
      "\u001b[32mProgress: 100%|█████████████████████████████████████████| Time: 0:00:02\u001b[39m\n",
      "\u001b[32mProgress: 100%|█████████████████████████████████████████| Time: 0:00:01\u001b[39m\n",
      "\u001b[32mProgress: 100%|█████████████████████████████████████████| Time: 0:00:01\u001b[39m\n",
      "\u001b[32mProgress: 100%|█████████████████████████████████████████| Time: 0:00:01\u001b[39m\n",
      "\u001b[32mProgress: 100%|█████████████████████████████████████████| Time: 0:00:01\u001b[39m\n",
      "\u001b[32mProgress: 100%|█████████████████████████████████████████| Time: 0:00:01\u001b[39m\n",
      "\u001b[32mProgress: 100%|█████████████████████████████████████████| Time: 0:00:01\u001b[39m\n",
      "\u001b[32mProgress: 100%|█████████████████████████████████████████| Time: 0:00:01\u001b[39m\n",
      "\u001b[32mProgress: 100%|█████████████████████████████████████████| Time: 0:00:01\u001b[39m\n",
      "\u001b[32mProgress: 100%|█████████████████████████████████████████| Time: 0:00:19\u001b[39m\n",
      "\u001b[32mProgress: 100%|█████████████████████████████████████████| Time: 0:00:01\u001b[39m\n"
     ]
    },
    {
     "data": {
      "text/plain": [
       "\"/Users/cameronprybol/2021-06-24-simplified-kmer-graph/2021-06-24-simplified-kmer-graph.k11.fastq\""
      ]
     },
     "execution_count": 25,
     "metadata": {},
     "output_type": "execute_result"
    }
   ],
   "source": [
    "output_fastq_file = Mycelia.polish_fastq(simple_kmer_graph, fastq_file)"
   ]
  },
  {
   "cell_type": "code",
   "execution_count": 26,
   "metadata": {},
   "outputs": [
    {
     "name": "stderr",
     "output_type": "stream",
     "text": [
      "┌ Info: creating graph\n",
      "└ @ Mycelia /Users/cameronprybol/.julia/dev/Mycelia/src/Mycelia.jl:2958\n"
     ]
    },
    {
     "data": {
      "text/plain": [
       "{90, 178} directed Int64 metagraph with Float64 weights defined by :weight (default weight 1.0)"
      ]
     },
     "execution_count": 26,
     "metadata": {},
     "output_type": "execute_result"
    }
   ],
   "source": [
    "simple_kmer_graph = Mycelia.fastx_to_simple_kmer_graph(kmer_type, output_fastq_file)"
   ]
  },
  {
   "cell_type": "code",
   "execution_count": 27,
   "metadata": {},
   "outputs": [
    {
     "data": {
      "text/plain": [
       "\"/Users/cameronprybol/2021-06-24-simplified-kmer-graph/2021-06-24-simplified-kmer-graph.k11.fastq.k-11.gfa\""
      ]
     },
     "execution_count": 27,
     "metadata": {},
     "output_type": "execute_result"
    }
   ],
   "source": [
    "# visualize\n",
    "gfa_file = output_fastq_file * \".k-$k.gfa\"\n",
    "Mycelia.graph_to_gfa(simple_kmer_graph, gfa_file)"
   ]
  },
  {
   "cell_type": "code",
   "execution_count": 28,
   "metadata": {},
   "outputs": [
    {
     "data": {
      "text/plain": [
       "Process(`\u001b[4m/Applications/Bandage.app/Contents/MacOS/Bandage\u001b[24m \u001b[4mimage\u001b[24m \u001b[4m/Users/cameronprybol/2021-06-24-simplified-kmer-graph/2021-06-24-simplified-kmer-graph.k11.fastq.k-11.gfa\u001b[24m \u001b[4m/Users/cameronprybol/2021-06-24-simplified-kmer-graph/2021-06-24-simplified-kmer-graph.k11.fastq.k-11.gfa.svg\u001b[24m \u001b[4m--depwidth\u001b[24m \u001b[4m1\u001b[24m \u001b[4m--deppower\u001b[24m \u001b[4m1\u001b[24m`, ProcessExited(0))"
      ]
     },
     "execution_count": 28,
     "metadata": {},
     "output_type": "execute_result"
    }
   ],
   "source": [
    "run(`/Applications/Bandage.app/Contents/MacOS/Bandage image $(gfa_file) $(gfa_file).svg --depwidth 1 --deppower 1`)\n",
    "# --nodewidth <float> Average node width (0.5 to 1000, default: 5)\n",
    "# --depwidth <float>  Depth effect on width (0 to 1, default: 0.5)\n",
    "# --deppower <float>  Power of depth effect on width (0 to 1, default: 0.5)"
   ]
  },
  {
   "cell_type": "code",
   "execution_count": 29,
   "metadata": {},
   "outputs": [
    {
     "data": {
      "text/plain": [
       "\"./../../../../2021-06-24-simplified-kmer-graph/2021-06-24-simplified-kmer-graph.k11.fastq.k-11.gfa.svg\""
      ]
     },
     "execution_count": 29,
     "metadata": {},
     "output_type": "execute_result"
    }
   ],
   "source": [
    "html_path_to_svg = \"./\" * repeat(\"../\", length(split(pwd(), '/')) - 3)\n",
    "html_path_to_svg *= replace(\"$(gfa_file).svg\", \"$(homedir())/\" => \"\")"
   ]
  },
  {
   "cell_type": "code",
   "execution_count": 30,
   "metadata": {},
   "outputs": [
    {
     "data": {
      "text/html": [
       "<img src=./../../../../2021-06-24-simplified-kmer-graph/2021-06-24-simplified-kmer-graph.k11.fastq.k-11.gfa.svg>"
      ]
     },
     "metadata": {},
     "output_type": "display_data"
    }
   ],
   "source": [
    "x = display(\"text/html\", \"<img src=$(html_path_to_svg)>\")"
   ]
  }
 ],
 "metadata": {
  "kernelspec": {
   "display_name": "Julia 1.6.1",
   "language": "julia",
   "name": "julia-1.6"
  },
  "language_info": {
   "file_extension": ".jl",
   "mimetype": "application/julia",
   "name": "julia",
   "version": "1.6.1"
  }
 },
 "nbformat": 4,
 "nbformat_minor": 4
}
