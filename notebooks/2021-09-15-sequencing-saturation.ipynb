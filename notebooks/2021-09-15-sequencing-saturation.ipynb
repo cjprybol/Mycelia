{
 "cells": [
  {
   "cell_type": "code",
   "execution_count": null,
   "id": "6ac73c46-51c9-4fea-845f-fb17ce8d83a2",
   "metadata": {},
   "outputs": [],
   "source": [
    "DATE = \"2021-09-15\"\n",
    "TASK = \"sequencing-saturation\"\n",
    "DIR = mkpath(\"$(homedir())/$(DATE)-$(TASK)\")"
   ]
  },
  {
   "cell_type": "code",
   "execution_count": null,
   "id": "38cb383f-3696-4b4b-a732-9a2059e0681a",
   "metadata": {},
   "outputs": [],
   "source": [
    "import Pkg\n",
    "pkgs = [\n",
    "    \"BioAlignments\",\n",
    "    \"BioSequences\",\n",
    "    \"Clustering\",\n",
    "    \"CodecZlib\",\n",
    "#     \"Colors\",\n",
    "#     \"Combinatorics\",\n",
    "    \"DataFrames\",\n",
    "    \"DataStructures\",\n",
    "    \"Dates\",\n",
    "#     \"DelimitedFiles\",\n",
    "    \"Distances\",\n",
    "#     \"Distributions\",\n",
    "#     \"EzXML\",\n",
    "    \"FASTX\",\n",
    "#     \"GFF3\",\n",
    "    \"GLM\",\n",
    "    \"GraphPlot\",\n",
    "#     \"HTTP\",\n",
    "#     \"Impute\",\n",
    "#     \"JSON\",\n",
    "    \"LightGraphs\",\n",
    "    \"LsqFit\",\n",
    "#     \"LSHFunctions\",\n",
    "#     \"Measures\",\n",
    "    \"MetaGraphs\",\n",
    "    \"https://github.com/cjprybol/Mycelia.git\",\n",
    "#     \"NumericIO\",\n",
    "#     \"PlotlyJS\",\n",
    "#     \"Plots\",\n",
    "    \"Primes\",\n",
    "#     \"Printf\",\n",
    "    \"ProgressMeter\",\n",
    "    \"Random\",\n",
    "    \"Revise\",\n",
    "    \"SparseArrays\",\n",
    "    \"Statistics\",\n",
    "    \"StatsBase\",\n",
    "    \"StatsPlots\",\n",
    "#     \"StringDistances\",\n",
    "    \"uCSV\",\n",
    "#     \"XLSX\",\n",
    "]\n",
    "\n",
    "unregistered_packages = filter(pkg -> occursin(r\"(^https|git$)\", pkg), pkgs)\n",
    "registered_packages = setdiff(pkgs, unregistered_packages)\n",
    "\n",
    "for pkg in registered_packages\n",
    "    try\n",
    "        eval(Meta.parse(\"import $(pkg)\"))\n",
    "    catch\n",
    "        Pkg.add(pkg)\n",
    "        Pkg.build(pkg)\n",
    "        eval(Meta.parse(\"import $(pkg)\"))\n",
    "    end\n",
    "end\n",
    "\n",
    "for pkg_url in unregistered_packages\n",
    "    pkg_name = replace(basename(pkg_url), \".git\" => \"\")\n",
    "    try\n",
    "        eval(Meta.parse(\"import $(pkg_name)\"))\n",
    "    catch\n",
    "        Pkg.develop(url=pkg_url)\n",
    "        Pkg.build(pkg_name)\n",
    "        eval(Meta.parse(\"import $(pkg_name)\"))\n",
    "    end\n",
    "end"
   ]
  },
  {
   "cell_type": "code",
   "execution_count": null,
   "id": "ea19d6bc-8d84-4d8a-8e0c-bd00614d6dfb",
   "metadata": {},
   "outputs": [],
   "source": [
    "function kmer_index_and_orientation_to_kmer(graph, kmer_index, orientation)\n",
    "    kmer = graph.vprops[kmer_index][:kmer]\n",
    "    if !orientation\n",
    "        kmer = BioSequences.reverse_complement(kmer)\n",
    "    end\n",
    "    return kmer\n",
    "end"
   ]
  },
  {
   "cell_type": "code",
   "execution_count": null,
   "id": "ab79def6-1e00-4b75-b86f-e16c4aefb35c",
   "metadata": {},
   "outputs": [],
   "source": [
    "function determine_edge_probabilities(graph)\n",
    "    nv = LightGraphs.nv(graph)\n",
    "    edge_probabilities = SparseArrays.spzeros(nv, nv)\n",
    "    for v in 1:nv\n",
    "        neighbors = LightGraphs.neighbors(graph, v)\n",
    "        @assert issorted(neighbors)\n",
    "        likelihoods = zeros(length(neighbors))\n",
    "        for (i, neighbor) in enumerate(neighbors)\n",
    "            if v <= neighbor\n",
    "                edge = LightGraphs.Edge(v, neighbor)\n",
    "            else\n",
    "                edge = LightGraphs.Edge(neighbor, v)\n",
    "            end\n",
    "            @assert LightGraphs.has_edge(graph, edge)\n",
    "            likelihoods[i] = graph.eprops[edge][:count]     \n",
    "        end\n",
    "        likelihoods = likelihoods ./ sum(likelihoods)\n",
    "#         @show likelihoods\n",
    "#         @show neighbors\n",
    "        for (neighbor, likelihood) in zip(neighbors, likelihoods)\n",
    "            edge_probabilities[v, neighbor] = likelihood\n",
    "        end\n",
    "    end\n",
    "    \n",
    "    for source in 1:size(edge_probabilities, 1)\n",
    "        destinations = findall(edge_probabilities[source, :] .> 0)\n",
    "        destination_counts = [graph.vprops[dest][:count] for dest in destinations]\n",
    "        destination_likelihoods = destination_counts ./ sum(destination_counts)\n",
    "        for (dest, likelihood) in zip(destinations, destination_likelihoods)\n",
    "            edge_probabilities[source, dest] *= likelihood\n",
    "        end\n",
    "        edge_probabilities[source, :] ./= sum(edge_probabilities[source, :])\n",
    "        @assert abs(1-sum(edge_probabilities[source, :])) <= eps(Float64)\n",
    "    end\n",
    "    \n",
    "    return edge_probabilities\n",
    "end"
   ]
  },
  {
   "cell_type": "code",
   "execution_count": null,
   "id": "a5e1ffd6-44f8-4dee-b381-f0ca479cf91d",
   "metadata": {},
   "outputs": [],
   "source": [
    "function orient_path(graph, kmers, path, opening_orientation, opening_kmer, closing_orientation)\n",
    "    vertices = path\n",
    "    path_orientations = [opening_orientation]\n",
    "    path_kmers = [opening_kmer]\n",
    "    @show opening_orientation\n",
    "    for (i, vertex) in enumerate(vertices[2:end])\n",
    "        @show i, vertex, last(path_orientations)\n",
    "        viable_neighbors = typeof(opening_kmer)[]\n",
    "        viable_neighbor = nothing\n",
    "        viable_orientations = Bool[]\n",
    "        viable_orientation = nothing\n",
    "        for neighbor in BioSequences.neighbors(last(path_kmers))\n",
    "            @show \"considering going from $(last(path_kmers)) to $(neighbor)\"\n",
    "#             @show \"considering going from $(last(path_kmers)) to $(neighbor)\"\n",
    "            canonical_neighbor = BioSequences.canonical(neighbor)\n",
    "            canonical_neighbor_index_range = searchsorted(kmers, canonical_neighbor)\n",
    "#             @show canonical_neighbor_index_range\n",
    "            if length(canonical_neighbor_index_range) == 1\n",
    "                @show canonical_neighbor_index = first(canonical_neighbor_index_range)\n",
    "                if canonical_neighbor_index == vertex\n",
    "                    @show \"hit, selecting $neighbor\"\n",
    "                    viable_neighbor = neighbor\n",
    "                    viable_orientation = neighbor == canonical_neighbor\n",
    "                end\n",
    "            end\n",
    "        end\n",
    "        if (viable_neighbor != nothing) && (viable_orientation != nothing)\n",
    "            push!(path_kmers, viable_neighbor)\n",
    "            push!(path_orientations, viable_orientation)\n",
    "        else\n",
    "            return nothing\n",
    "            # not a viable path, need to look towards the next miss\n",
    "        end\n",
    "    end\n",
    "    return vertices, path_orientations, path_kmers\n",
    "end"
   ]
  },
  {
   "cell_type": "code",
   "execution_count": null,
   "id": "8b96ea5a-e81b-445a-abb9-ab3c28e494e3",
   "metadata": {},
   "outputs": [],
   "source": [
    "function take_a_walk(graph, edge_likelihoods, kmers, kmer, walk_length)\n",
    "    walk = [kmer]\n",
    "    current_kmer_indices = searchsorted(kmers, BioSequences.canonical(last(walk)))\n",
    "    @assert length(current_kmer_indices) == 1\n",
    "    current_kmer_index = first(current_kmer_indices)\n",
    "    while length(walk) < walk_length\n",
    "        viable_neighbors = Tuple{Int, Bool}[]\n",
    "        for neighbor in BioSequences.neighbors(kmer)\n",
    "            canonical_neighbor = BioSequences.canonical(neighbor)\n",
    "            neighbor_is_canonical = neighbor == canonical_neighbor\n",
    "            neighbor_vertex_range = searchsorted(kmers, canonical_neighbor)\n",
    "            if !isempty(neighbor_vertex_range)\n",
    "                neighbor_vertex = first(neighbor_vertex_range)\n",
    "                if LightGraphs.has_edge(graph, current_kmer_index, neighbor_vertex)\n",
    "                    push!(viable_neighbors, (neighbor_vertex, neighbor_is_canonical))\n",
    "                end\n",
    "            end\n",
    "        end\n",
    "        if isempty(viable_neighbors)\n",
    "            return walk\n",
    "        elseif length(viable_neighbors) == 1\n",
    "            chosen_neighbor = first(viable_neighbors)\n",
    "        else\n",
    "            viable_neighbor_indices = first.(viable_neighbors)\n",
    "            step_likelihoods = StatsBase.weights(edge_likelihoods[current_kmer_index, viable_neighbor_indices])\n",
    "            chosen_neighbor = StatsBase.sample(viable_neighbors, step_likelihoods)\n",
    "        end\n",
    "        kmer = kmer_index_and_orientation_to_kmer(graph, chosen_neighbor...)\n",
    "        push!(walk, kmer)\n",
    "        current_kmer_indices = searchsorted(kmers, BioSequences.canonical(last(walk)))\n",
    "        @assert length(current_kmer_indices) == 1\n",
    "        current_kmer_index = first(current_kmer_indices)\n",
    "    end\n",
    "    return walk\n",
    "end"
   ]
  },
  {
   "cell_type": "code",
   "execution_count": null,
   "id": "2904784d-e5ae-4755-8007-72481227fa40",
   "metadata": {},
   "outputs": [],
   "source": [
    "\"\"\"\n",
    "    sort_fastq(input_fastq, output_fastq)\n",
    "\n",
    "This turns a 4-line FASTQ entry into a single tab separated line,\n",
    "adds a column with the length of each read, passes it to Unix sort,\n",
    "removes the length column, and converts it back into a FASTQ file.\n",
    "\n",
    "sorts longest to shortest!!\n",
    "\n",
    "http://thegenomefactory.blogspot.com/2012/11/sorting-fastq-files-by-sequence-length.html\n",
    "\"\"\"\n",
    "function sort_fastq(input_fastq, output_fastq=\"\")\n",
    "    \n",
    "    if endswith(input_fastq, \".gz\")\n",
    "        p = pipeline(\n",
    "                `gzip -dc $input_fastq`,\n",
    "                `paste - - - -`,\n",
    "                `perl -ne '@x=split m/\\t/; unshift @x, length($x[1]); print join \"\\t\",@x;'`,\n",
    "                `sort -nr`,\n",
    "                `cut -f2-`,\n",
    "                `tr \"\\t\" \"\\n\"`,\n",
    "                `gzip`\n",
    "                )\n",
    "    else\n",
    "        p = pipeline(\n",
    "                `cat $input_fastq`,\n",
    "                `paste - - - -`,\n",
    "                `perl -ne '@x=split m/\\t/; unshift @x, length($x[1]); print join \"\\t\",@x;'`,\n",
    "                `sort -nr`,\n",
    "                `cut -f2-`,\n",
    "                `tr \"\\t\" \"\\n\"`\n",
    "                )\n",
    "    end\n",
    "    run(pipeline(p, output_fastq))\n",
    "    return output_fastq\n",
    "end"
   ]
  },
  {
   "cell_type": "code",
   "execution_count": null,
   "id": "3c64bb5f-0012-42f8-83a8-231f5aadcde3",
   "metadata": {},
   "outputs": [],
   "source": [
    "function count_reads(fastq_file)\n",
    "    @info \"determing # of reads in fastq file\"\n",
    "    n_reads = 0\n",
    "    for record in Mycelia.open_fastx(fastq_file)\n",
    "        n_reads += 1\n",
    "    end\n",
    "    @show n_reads\n",
    "    return n_reads\n",
    "end"
   ]
  },
  {
   "cell_type": "code",
   "execution_count": null,
   "id": "37345f79-0ed2-44cc-ad7d-c5bea554af04",
   "metadata": {},
   "outputs": [],
   "source": [
    "function determine_read_lengths(fastq_file; total_reads = Inf)\n",
    "    if total_reads == Inf\n",
    "        total_reads = count_reads(fastq_file)\n",
    "    end\n",
    "    read_lengths = zeros(Int, total_reads)\n",
    "    @info \"determining read lengths\"\n",
    "    p = ProgressMeter.Progress(total_reads, 1)\n",
    "    for (i, record) in enumerate(Mycelia.open_fastx(fastq_file))\n",
    "#         push!(read_lengths, length(FASTX.sequence(record)))\n",
    "        read_lengths[i] = length(FASTX.sequence(record))\n",
    "        ProgressMeter.next!(p)\n",
    "    end\n",
    "    return read_lengths\n",
    "end"
   ]
  },
  {
   "cell_type": "code",
   "execution_count": null,
   "id": "67f8f745-914f-4c94-a5be-86c39628e2bc",
   "metadata": {},
   "outputs": [],
   "source": [
    "function max_canonical_kmers(kmer_type)\n",
    "    k_size = last(kmer_type.parameters)\n",
    "    # we only consider canonical kmers so cut in 1/2\n",
    "    max_canonical_kmers = Int(4^k_size / 2)\n",
    "    return max_canonical_kmers\n",
    "end"
   ]
  },
  {
   "cell_type": "code",
   "execution_count": null,
   "id": "0e116b34-4490-4846-97c5-04e473d47f5e",
   "metadata": {},
   "outputs": [],
   "source": [
    "function assess_kmer_saturation(fastq_file, kmer_type; kmers_to_assess=Inf, power=10)\n",
    "    canonical_kmers = Set{kmer_type}()\n",
    "    \n",
    "    max_possible_kmers = max_canonical_kmers(kmer_type)\n",
    "    \n",
    "    if kmers_to_assess == Inf\n",
    "        kmers_to_assess = max_possible_kmers\n",
    "    end\n",
    "    \n",
    "    sampling_points = Int[0]\n",
    "    i = 0\n",
    "    while power^i <= kmers_to_assess\n",
    "        push!(sampling_points, power^i)\n",
    "        i += 1\n",
    "    end\n",
    "    \n",
    "    unique_kmer_counts = zeros(Int, length(sampling_points))\n",
    "    \n",
    "    if length(sampling_points) < 3\n",
    "        @info \"increase the # of reads analyzed or decrease the power to acquire more data points\"\n",
    "        return (;sampling_points, unique_kmer_counts)\n",
    "    end\n",
    "    \n",
    "    p = ProgressMeter.Progress(kmers_to_assess, 1)\n",
    "    \n",
    "    kmers_assessed = 0\n",
    "    for record in Mycelia.open_fastx(fastq_file)\n",
    "        for kmer in BioSequences.each(kmer_type, FASTX.sequence(record))\n",
    "            unique_kmers_count = length(canonical_kmers)\n",
    "            if (kmers_assessed == kmers_to_assess) || (unique_kmers_count == max_possible_kmers)\n",
    "                sampling_points = vcat(filter(s -> s < kmers_to_assess, sampling_points), [kmers_assessed])\n",
    "                unique_kmer_counts = vcat(unique_kmer_counts[1:length(sampling_points)-1], [unique_kmers_count])\n",
    "                return (;sampling_points, unique_kmer_counts)\n",
    "            elseif rem(log(power, kmers_assessed), 1) == 0.0\n",
    "                i = findfirst(sampling_points .== kmers_assessed)\n",
    "                unique_kmer_counts[i] = unique_kmers_count\n",
    "                percent_saturation = round(unique_kmers_count/max_possible_kmers, sigdigits=5) * 100\n",
    "#                 @show kmers_assessed, percent_saturation\n",
    "            end\n",
    "            canonical_kmer = kmer.fw < kmer.bw ? kmer.fw : kmer.bw\n",
    "            push!(canonical_kmers, canonical_kmer)\n",
    "            kmers_assessed += 1\n",
    "            ProgressMeter.next!(p)\n",
    "        end\n",
    "    end\n",
    "    return (;sampling_points, unique_kmer_counts)\n",
    "end"
   ]
  },
  {
   "cell_type": "code",
   "execution_count": null,
   "id": "33baf966-db08-4635-85ec-6abce8051b18",
   "metadata": {},
   "outputs": [],
   "source": [
    "# Michaelis–Menten\n",
    "function calculate_v(s,p)\n",
    "    vmax = p[1]\n",
    "    km = p[2]\n",
    "    v = (vmax .* s) ./ (km .+ s)\n",
    "    return v\n",
    "end"
   ]
  },
  {
   "cell_type": "code",
   "execution_count": null,
   "id": "b8d05dd2-004d-4f51-9686-57462fa97f57",
   "metadata": {},
   "outputs": [],
   "source": [
    "# read in reads from pacbio run"
   ]
  },
  {
   "cell_type": "code",
   "execution_count": null,
   "id": "c6d75091-3110-4d84-aefb-c2b0810c3452",
   "metadata": {},
   "outputs": [],
   "source": [
    "# fastq_directory = \"$(homedir())/pacbio-test-data\"\n",
    "# fastq_file = first(readdir(fastq_directory, join=true))\n",
    "fastq_file = \"$(homedir())/pacbio-test-data/b002225.subreads.fastq.gz\""
   ]
  },
  {
   "cell_type": "code",
   "execution_count": null,
   "id": "118a0ea7-4d59-4808-82c5-cd5f5a6e52b0",
   "metadata": {},
   "outputs": [],
   "source": [
    "# sort fastq file from shortest to longest reads"
   ]
  },
  {
   "cell_type": "code",
   "execution_count": null,
   "id": "dcc62522-ba53-4fdc-bc3d-53ef5422c933",
   "metadata": {},
   "outputs": [],
   "source": [
    "sorted_fastq_file = replace(fastq_file, r\"\\.fastq\\.gz$\" => \".sorted.fastq.gz\")\n",
    "# @time sort_fastq(fastq_file, sorted_fastq_file)\n",
    "# 62 minutes!"
   ]
  },
  {
   "cell_type": "code",
   "execution_count": null,
   "id": "e7334c2e-dc63-40f4-b696-20da42d4cf82",
   "metadata": {},
   "outputs": [],
   "source": [
    "# @time total_reads = count_reads(sorted_fastq_file)\n",
    "total_reads = 1970799"
   ]
  },
  {
   "cell_type": "code",
   "execution_count": null,
   "id": "abc7ea0b-06c7-41a1-92a8-903fc1b1bd9a",
   "metadata": {},
   "outputs": [],
   "source": [
    "@time read_lengths = determine_read_lengths(sorted_fastq_file, total_reads = total_reads)"
   ]
  },
  {
   "cell_type": "code",
   "execution_count": null,
   "id": "cfc2bfc8-642d-4663-ab14-9b2943bd2392",
   "metadata": {},
   "outputs": [],
   "source": [
    "power = 2"
   ]
  },
  {
   "cell_type": "code",
   "execution_count": null,
   "id": "9b6e29f2-117a-49a4-9df6-c7df45e299e7",
   "metadata": {},
   "outputs": [],
   "source": [
    "ks = Primes.primes(3, 31)\n",
    "minimum_k = first(ks)\n",
    "minimum_saturation = Inf\n",
    "midpoint = Inf\n",
    "for k in ks\n",
    "    kmer_type = BioSequences.DNAMer{k}\n",
    "    kmers_per_read = read_lengths .- k .+ 1\n",
    "    total_kmers = sum(kmers_per_read)\n",
    "    kmers_to_assess = minimum([10_000_000, max_canonical_kmers(kmer_type), Int(ceil(total_kmers * .01))])\n",
    "    sampling_points, kmer_counts = assess_kmer_saturation(sorted_fastq_file, kmer_type, kmers_to_assess=kmers_to_assess, power=power)\n",
    "    observed_midpoint_index = findfirst(i -> kmer_counts[i] > last(kmer_counts)/2, 1:length(sampling_points))\n",
    "    observed_midpoint = sampling_points[observed_midpoint_index]\n",
    "    initial_parameters = Float64[maximum(kmer_counts), observed_midpoint]\n",
    "    @time fit = LsqFit.curve_fit(calculate_v, sampling_points, kmer_counts, initial_parameters)\n",
    "    inferred_kmer_count = max(Int(ceil(fit.param[1])), last(kmer_counts))\n",
    "    inferred_midpoint = Int(ceil(fit.param[2]))\n",
    "    predicted_saturation = inferred_kmer_count / max_canonical_kmers(kmer_type)\n",
    "    @show k, predicted_saturation\n",
    "    \n",
    "    p = StatsPlots.scatter(\n",
    "        sampling_points,\n",
    "        kmer_counts,\n",
    "        label=\"observed kmer counts\",\n",
    "        ylabel=\"# unique kmers\",\n",
    "        xlabel=\"# kmers assessed\",\n",
    "        title = \"sequencing saturation @ k = $k\",\n",
    "        legend=:outertopright,\n",
    "        size=(800, 400)\n",
    "        )\n",
    "    StatsPlots.hline!(p, [max_canonical_kmers(kmer_type)], label=\"absolute maximum\")\n",
    "    StatsPlots.hline!(p, [inferred_kmer_count], label=\"inferred maximum\")\n",
    "    StatsPlots.vline!(p, [inferred_midpoint], label=\"inferred midpoint\")\n",
    "    # xs = vcat(sampling_points, [last(sampling_points) * 2^i for i in 1:2])\n",
    "    xs = sort([sampling_points..., inferred_midpoint])\n",
    "    ys = calculate_v(xs, fit.param)\n",
    "    StatsPlots.plot!(\n",
    "        p,\n",
    "        xs,\n",
    "        ys,\n",
    "        label=\"fit trendline\")\n",
    "    display(p)\n",
    "    \n",
    "    if predicted_saturation < minimum_saturation\n",
    "        minimum_saturation = predicted_saturation\n",
    "        minimum_k = k\n",
    "        midpoint = inferred_midpoint \n",
    "    end\n",
    "    if predicted_saturation < 0.1\n",
    "        break\n",
    "    end\n",
    "end"
   ]
  },
  {
   "cell_type": "code",
   "execution_count": null,
   "id": "10bf4b2e-df28-4106-96b0-8e231624976d",
   "metadata": {},
   "outputs": [],
   "source": [
    "midpoint"
   ]
  },
  {
   "cell_type": "code",
   "execution_count": null,
   "id": "01ddc0f5-7df5-4382-8247-d68d9506ee7a",
   "metadata": {},
   "outputs": [],
   "source": [
    "k = minimum_k"
   ]
  },
  {
   "cell_type": "code",
   "execution_count": null,
   "id": "687a2e49-9c95-4f4d-859f-ff9f3db23654",
   "metadata": {},
   "outputs": [],
   "source": [
    "kmer_type = BioSequences.DNAMer{k}\n",
    "kmers_per_read = read_lengths .- k .+ 1\n",
    "total_kmers = sum(kmers_per_read)"
   ]
  },
  {
   "cell_type": "code",
   "execution_count": null,
   "id": "18c7f4c0-d8d9-41b7-b6ad-a95706594c6b",
   "metadata": {},
   "outputs": [],
   "source": [
    "n_kmers = 0\n",
    "reads_to_write = 0\n",
    "for (i, kmers_in_read) in enumerate(kmers_per_read)\n",
    "    n_kmers += kmers_in_read\n",
    "#     if n_kmers > (midpoint * 2)\n",
    "    if n_kmers > (midpoint)\n",
    "        @show reads_to_write = i\n",
    "        break\n",
    "    end\n",
    "end"
   ]
  },
  {
   "cell_type": "code",
   "execution_count": null,
   "id": "fe7848fd-706a-4fda-acfc-82a40ada357f",
   "metadata": {},
   "outputs": [],
   "source": [
    "# downsample reads to desired depth"
   ]
  },
  {
   "cell_type": "code",
   "execution_count": null,
   "id": "48178680-e1a3-4ba5-8a7b-87c8ac7b360d",
   "metadata": {},
   "outputs": [],
   "source": [
    "subset_fastq_file = replace(sorted_fastq_file, \".sorted.fastq.gz\" => \".sorted.subset.fastq.gz\")\n",
    "# @time sort_fastq(fastq_file, sorted_fastq_file)\n",
    "# 62 minutes!"
   ]
  },
  {
   "cell_type": "code",
   "execution_count": null,
   "id": "73a90c45-ff84-4b5d-bfc0-ad012f72b94e",
   "metadata": {},
   "outputs": [],
   "source": [
    "io = CodecZlib.GzipCompressorStream(open(subset_fastq_file, \"w\"))\n",
    "fastx_io = FASTX.FASTQ.Writer(io)\n",
    "for (i, record) in enumerate(Mycelia.open_fastx(sorted_fastq_file))\n",
    "    if i <= reads_to_write\n",
    "        write(fastx_io, record)\n",
    "    else\n",
    "        break\n",
    "    end\n",
    "end\n",
    "close(fastx_io)\n",
    "close(io)"
   ]
  },
  {
   "cell_type": "code",
   "execution_count": null,
   "id": "bef9b2b8-5686-4e32-ac35-9df990d9f699",
   "metadata": {},
   "outputs": [],
   "source": [
    "determine_read_lengths(subset_fastq_file)"
   ]
  },
  {
   "cell_type": "code",
   "execution_count": null,
   "id": "c2a371e6-1c23-4d7c-8c7a-072b0b920186",
   "metadata": {},
   "outputs": [],
   "source": []
  },
  {
   "cell_type": "code",
   "execution_count": null,
   "id": "a15e4d2e-6130-456e-be86-c32ef03b0d33",
   "metadata": {},
   "outputs": [],
   "source": []
  },
  {
   "cell_type": "code",
   "execution_count": null,
   "id": "12373e4b-ff47-4c5d-9295-ff43325b631c",
   "metadata": {},
   "outputs": [],
   "source": []
  },
  {
   "cell_type": "code",
   "execution_count": null,
   "id": "ba6c0e02-1711-444d-8d8f-5df37613199a",
   "metadata": {},
   "outputs": [],
   "source": [
    "# plot kmer spectra frequency"
   ]
  },
  {
   "cell_type": "code",
   "execution_count": null,
   "id": "36e25b62-a4cb-476c-94c0-a038b9d63896",
   "metadata": {},
   "outputs": [],
   "source": [
    "kmer_counts = sort!(Mycelia.count_canonical_kmers(BioSequences.BigDNAMer{k}, genome))"
   ]
  },
  {
   "cell_type": "code",
   "execution_count": null,
   "id": "b48acbb5-9bd2-45c3-b518-1d0096a6f29d",
   "metadata": {},
   "outputs": [],
   "source": [
    "K = length(keys(kmer_counts))"
   ]
  },
  {
   "cell_type": "code",
   "execution_count": null,
   "id": "3ad5ecaa-1566-43ef-9716-09d2bb71142f",
   "metadata": {},
   "outputs": [],
   "source": [
    "# create an undirected kmer graph from the sequence"
   ]
  },
  {
   "cell_type": "code",
   "execution_count": null,
   "id": "eea8a51d-6f61-4409-91f2-c9206c94e578",
   "metadata": {},
   "outputs": [],
   "source": [
    "graph = MetaGraphs.MetaGraph(K)"
   ]
  },
  {
   "cell_type": "code",
   "execution_count": null,
   "id": "9550366b-c8d0-4eee-8742-c5b52d3d1f19",
   "metadata": {},
   "outputs": [],
   "source": [
    "for (i, (kmer, count)) in enumerate(kmer_counts)\n",
    "    @show i, kmer, count\n",
    "    @show MetaGraphs.set_prop!(graph, i, :kmer, kmer)\n",
    "    @show MetaGraphs.set_prop!(graph, i, :count, count)\n",
    "end"
   ]
  },
  {
   "cell_type": "code",
   "execution_count": null,
   "id": "098cb159-5e23-405b-bacf-43c75f1d001f",
   "metadata": {},
   "outputs": [],
   "source": [
    "graph.vprops"
   ]
  },
  {
   "cell_type": "code",
   "execution_count": null,
   "id": "08821979-313e-4fbf-a33f-3400e514170f",
   "metadata": {},
   "outputs": [],
   "source": [
    "kmers = collect(keys(kmer_counts))"
   ]
  },
  {
   "cell_type": "code",
   "execution_count": null,
   "id": "30670fcf-ac1d-4653-b386-b118dfd39cfa",
   "metadata": {},
   "outputs": [],
   "source": [
    "for i in 1:length(genome)-k\n",
    "    edge_range = i:i+k\n",
    "    edge = genome[edge_range]\n",
    "    src = BioSequences.BigDNAMer{k}(edge[1:end-1])\n",
    "    dst = BioSequences.BigDNAMer{k}(edge[2:end])\n",
    "    canonical_src = BioSequences.canonical(src)\n",
    "    canonical_dst = BioSequences.canonical(dst)\n",
    "    src_index = Mycelia.get_kmer_index(kmers, canonical_src)\n",
    "    dst_index = Mycelia.get_kmer_index(kmers, canonical_dst)\n",
    "    @show edge\n",
    "    @show src_index, src == canonical_src, dst_index, dst == canonical_dst\n",
    "    graph_edge = LightGraphs.Edge(src_index, dst_index)\n",
    "    if LightGraphs.has_edge(graph, graph_edge)\n",
    "        current_count = graph.eprops[graph_edge][:count]\n",
    "        MetaGraphs.set_prop!(graph, graph_edge, :count, current_count+1)\n",
    "    else\n",
    "        LightGraphs.add_edge!(graph, graph_edge)\n",
    "        MetaGraphs.set_prop!(graph, graph_edge, :count, 1)\n",
    "    end\n",
    "end"
   ]
  },
  {
   "cell_type": "code",
   "execution_count": null,
   "id": "d47cfd3e-b739-481a-8e9c-eec0c264900e",
   "metadata": {},
   "outputs": [],
   "source": [
    "graph"
   ]
  },
  {
   "cell_type": "code",
   "execution_count": null,
   "id": "b9d4edf4-941e-42b0-9c4b-7ad219132045",
   "metadata": {},
   "outputs": [],
   "source": [
    "graph.eprops"
   ]
  },
  {
   "cell_type": "code",
   "execution_count": null,
   "id": "62b9d2f5-14e6-4f7a-8013-d32cf1bc1da5",
   "metadata": {},
   "outputs": [],
   "source": [
    "nodesize = [graph.vprops[v][:count] for v in 1:LightGraphs.nv(graph)]\n",
    "nodelabel = [graph.vprops[v][:kmer] for v in 1:LightGraphs.nv(graph)]\n",
    "# GraphPlot.gplot(graph, nodesize=nodesize, nodelabel=nodelabel)\n",
    "GraphPlot.gplot(graph, nodesize=nodesize)"
   ]
  },
  {
   "cell_type": "code",
   "execution_count": null,
   "id": "0a779414-f692-435a-8b0d-84f9b1c88d5d",
   "metadata": {},
   "outputs": [],
   "source": [
    "edge_likelihoods = determine_edge_probabilities(graph)"
   ]
  },
  {
   "cell_type": "code",
   "execution_count": null,
   "id": "b624dafc-3705-4ecb-b60e-d974a57bf8d7",
   "metadata": {},
   "outputs": [],
   "source": [
    "# take yen_k shortest paths"
   ]
  },
  {
   "cell_type": "code",
   "execution_count": null,
   "id": "ba83fe3e-b412-44d6-b827-0eaf765f308a",
   "metadata": {},
   "outputs": [],
   "source": [
    "genome_kmers = collect(BioSequences.each(BioSequences.BigDNAMer{k}, genome))"
   ]
  },
  {
   "cell_type": "code",
   "execution_count": null,
   "id": "8f548ff0-67c5-44a2-94a0-a8204124ae17",
   "metadata": {},
   "outputs": [],
   "source": [
    "# make a SNP edit to the genome"
   ]
  },
  {
   "cell_type": "code",
   "execution_count": null,
   "id": "3a2d58a3-2431-42c7-b75d-85e3441cfd8f",
   "metadata": {},
   "outputs": [],
   "source": [
    "# seed = 0\n",
    "# seed = 1\n",
    "# seed = 2\n",
    "# seed = 3\n",
    "# seed = 4\n",
    "# seed = 5\n",
    "# seed = 6\n",
    "# seed = 7\n",
    "# seed = 8\n",
    "seed = 9"
   ]
  },
  {
   "cell_type": "code",
   "execution_count": null,
   "id": "8a22b5a8-c3d8-409d-b483-26b59bd221b9",
   "metadata": {},
   "outputs": [],
   "source": [
    "@show seed\n",
    "Random.seed!(seed)\n",
    "observation = Mycelia.observe(genome, error_rate = 0.1)"
   ]
  },
  {
   "cell_type": "code",
   "execution_count": null,
   "id": "7d8168eb-65f8-455c-8c43-9c4830502695",
   "metadata": {},
   "outputs": [],
   "source": [
    "alignment = BioAlignments.pairalign(BioAlignments.LevenshteinDistance(), observation, genome)"
   ]
  },
  {
   "cell_type": "code",
   "execution_count": null,
   "id": "57510fd3-5848-4471-bc29-f119ad4986c1",
   "metadata": {},
   "outputs": [],
   "source": [
    "reverse_alignment = BioAlignments.pairalign(BioAlignments.LevenshteinDistance(), BioSequences.reverse_complement(observation), genome)"
   ]
  },
  {
   "cell_type": "code",
   "execution_count": null,
   "id": "ffdd8d70-c134-47e4-94b4-7ffa58f6f70d",
   "metadata": {},
   "outputs": [],
   "source": [
    "if reverse_alignment.value < alignment.value\n",
    "    observation = BioSequences.reverse_complement(observation)\n",
    "    alignment = reverse_alignment\n",
    "    @show \"flipping\"\n",
    "end"
   ]
  },
  {
   "cell_type": "code",
   "execution_count": null,
   "id": "c9191717-8c33-4f22-85d5-e42d434fb25d",
   "metadata": {},
   "outputs": [],
   "source": [
    "# convert genome into stranded path"
   ]
  },
  {
   "cell_type": "code",
   "execution_count": null,
   "id": "c162ae04-c3ad-4658-8142-c5fa3ad7a543",
   "metadata": {},
   "outputs": [],
   "source": [
    "# function sequence_to_\n",
    "observation_as_oriented_kmers = []\n",
    "observation_kmers = collect(BioSequences.each(BioSequences.BigDNAMer{k}, observation))"
   ]
  },
  {
   "cell_type": "code",
   "execution_count": null,
   "id": "d3b63e69-1c33-4f4b-8c3e-c358089557f8",
   "metadata": {},
   "outputs": [],
   "source": [
    "genome_kmers"
   ]
  },
  {
   "cell_type": "code",
   "execution_count": null,
   "id": "e7fd3359-2116-42b9-a4df-48df59e2deb5",
   "metadata": {},
   "outputs": [],
   "source": [
    "is_canonical = falses(length(observation_kmers))\n",
    "kmer_index = zeros(Int, length(observation_kmers))\n",
    "for (i, kmer) in enumerate(observation_kmers)\n",
    "#     is_canonical[i] = kmer.fw <= kmer.bw\n",
    "    canonical_kmer = BioSequences.canonical(kmer.fw)\n",
    "    is_canonical[i] = kmer.fw == canonical_kmer\n",
    "    kmer_index_range = searchsorted(kmers, canonical_kmer)\n",
    "    if length(kmer_index_range) > 1\n",
    "        @error \"bad\"\n",
    "    elseif isempty(kmer_index_range)\n",
    "        # do nothing, index is 0 to indicate not found\n",
    "    else\n",
    "        kmer_index[i] = first(kmer_index_range)\n",
    "    end\n",
    "end"
   ]
  },
  {
   "cell_type": "code",
   "execution_count": null,
   "id": "e9c7e7b3-7d18-463f-a74b-47a2bd28307a",
   "metadata": {},
   "outputs": [],
   "source": [
    "is_canonical"
   ]
  },
  {
   "cell_type": "code",
   "execution_count": null,
   "id": "95d066fe-c611-4e94-bc74-e00afe1eea0b",
   "metadata": {},
   "outputs": [],
   "source": [
    "kmer_index"
   ]
  },
  {
   "cell_type": "code",
   "execution_count": null,
   "id": "572e131f-7063-47c9-a5bf-617cde17b07c",
   "metadata": {},
   "outputs": [],
   "source": [
    "proposed_path = BioSequences.BigDNAMer{k}[]\n",
    "opening_missing_kmer_path_index = findfirst(x -> x == 0, kmer_index)\n",
    "\n",
    "# read is solid!\n",
    "if opening_missing_kmer_path_index == nothing\n",
    "#     proposed_seq = observation\n",
    "    proposed_path = [kmer.fw for kmer in observation_kmers]\n",
    "    @show \"perfect read\"\n",
    "elseif all(index -> index == 0, kmer_index)\n",
    "    @show \"read is trash\"\n",
    "    # generate a new read from the assembly to replace this one\n",
    "\n",
    "    observation_path_length = length(observation_kmers)\n",
    "    proposed_path = nothing\n",
    "    proposed_path_size_discrepancy = Inf\n",
    "    starting_kmer_indices = StatsBase.sample(1:LightGraphs.nv(graph), min(10, LightGraphs.nv(graph)), replace=false)\n",
    "    for starting_kmer_index in starting_kmer_indices\n",
    "        starting_kmer_index = rand(1:LightGraphs.nv(graph))\n",
    "        @show starting_kmer_index\n",
    "        starting_kmer = graph.vprops[starting_kmer_index][:kmer]\n",
    "        if rand(Bool)\n",
    "            starting_kmer = BioSequences.reverse_complement(starting_kmer)\n",
    "        end\n",
    "        candidate_path = take_a_walk(graph, edge_likelihoods, kmers, starting_kmer, observation_path_length)\n",
    "        discrepancy = abs(length(candidate_path) - observation_path_length)\n",
    "        @show discrepancy\n",
    "        if discrepancy < proposed_path_size_discrepancy\n",
    "            proposed_path = candidate_path\n",
    "            proposed_path_size_discrepancy = discrepancy\n",
    "            if proposed_path_size_discrepancy == 0\n",
    "                break\n",
    "            end\n",
    "        end\n",
    "    end\n",
    "else\n",
    "    if opening_missing_kmer_path_index == 1\n",
    "        opening_solid_kmer = nothing\n",
    "    #     closing_solid_kmer_path_index = findnext(map(x -> x != 0, kmer_index), opening_missing_kmer_path_index+1)\n",
    "    elseif opening_missing_kmer_path_index != nothing\n",
    "        opening_solid_kmer_path_index = opening_missing_kmer_path_index - 1\n",
    "        opening_solid_kmer = observation_kmers[opening_solid_kmer_path_index].fw\n",
    "    end\n",
    "\n",
    "    if opening_missing_kmer_path_index == nothing\n",
    "        closing_solid_kmer_path_index = findnext(map(x -> x != 0, kmer_index), 1)\n",
    "    else\n",
    "        closing_solid_kmer_path_index = findnext(map(x -> x != 0, kmer_index), opening_missing_kmer_path_index+1)\n",
    "    end\n",
    "    if closing_solid_kmer_path_index == nothing\n",
    "        @show \"end is open\"\n",
    "        closing_solid_kmer = nothing\n",
    "    else\n",
    "        closing_solid_kmer = observation_kmers[closing_solid_kmer_path_index].fw\n",
    "    end\n",
    "\n",
    "\n",
    "    extensions = 0\n",
    "    while (opening_missing_kmer_path_index != nothing) && (extensions < 5)\n",
    "        extensions += 1\n",
    "        @show extensions\n",
    "\n",
    "        if (opening_solid_kmer == nothing) && (closing_solid_kmer != nothing)\n",
    "            @show \"missing opening\"\n",
    "            @show closing_solid_kmer\n",
    "            inverted_closing_solid_kmer = BioSequences.reverse_complement(closing_solid_kmer)\n",
    "            @show inverted_closing_solid_kmer\n",
    "            walk_length = closing_solid_kmer_path_index\n",
    "            chosen_walk = take_a_walk(graph, edge_likelihoods, kmers, inverted_closing_solid_kmer, walk_length)\n",
    "            chosen_walk = reverse(BioSequences.reverse_complement.(chosen_walk))\n",
    "            @show chosen_walk\n",
    "            @show closing_solid_kmer_path_index\n",
    "            @assert observation_kmers[closing_solid_kmer_path_index].fw == last(chosen_walk)\n",
    "            proposed_path = chosen_walk\n",
    "            opening_missing_kmer_path_index = findnext(map(x -> x == 0, kmer_index), closing_solid_kmer_path_index+1)\n",
    "\n",
    "            if opening_missing_kmer_path_index == 1\n",
    "                opening_solid_kmer = nothing\n",
    "            elseif opening_missing_kmer_path_index != nothing\n",
    "                need_to_add = getproperty.(observation_kmers[closing_solid_kmer_path_index+1:opening_missing_kmer_path_index-1], :fw)\n",
    "                append!(proposed_path, need_to_add)\n",
    "                opening_solid_kmer_path_index = opening_missing_kmer_path_index - 1\n",
    "                opening_solid_kmer = observation_kmers[opening_solid_kmer_path_index].fw\n",
    "                closing_solid_kmer_path_index = findnext(map(x -> x != 0, kmer_index), opening_missing_kmer_path_index+1)\n",
    "                if closing_solid_kmer_path_index == nothing\n",
    "                    closing_solid_kmer = nothing\n",
    "                else\n",
    "                    closing_solid_kmer = observation_kmers[closing_solid_kmer_path_index].fw\n",
    "                end\n",
    "            end\n",
    "        end\n",
    "\n",
    "        if (opening_solid_kmer != nothing) && (closing_solid_kmer == nothing)\n",
    "            @show \"missing closing\"\n",
    "            walk_length = length(observation_kmers) - opening_solid_kmer_path_index+1\n",
    "            chosen_walk = take_a_walk(graph, edge_likelihoods, kmers, opening_solid_kmer, walk_length)\n",
    "            @show chosen_walk\n",
    "            @assert observation_kmers[opening_solid_kmer_path_index].fw == first(chosen_walk)\n",
    "            if isempty(proposed_path)\n",
    "                proposed_path = getproperty.(observation_kmers[1:opening_solid_kmer_path_index], :fw)\n",
    "            end\n",
    "            append!(proposed_path, chosen_walk[2:end])\n",
    "            opening_missing_kmer_path_index = nothing\n",
    "        end\n",
    "\n",
    "        while (opening_solid_kmer != nothing) && (closing_solid_kmer != nothing)\n",
    "            @show \"bubble!\"\n",
    "            opening_solid_kmer_index = kmer_index[opening_solid_kmer_path_index]\n",
    "            closing_solid_kmer_index = kmer_index[closing_solid_kmer_path_index]\n",
    "\n",
    "            @show opening_solid_kmer, opening_solid_kmer_path_index\n",
    "            @show closing_solid_kmer, closing_solid_kmer_path_index\n",
    "            @show length(proposed_path)\n",
    "            \n",
    "            #####################################################################################\n",
    "            # DETERMINE PATH LENGTH\n",
    "            #####################################################################################\n",
    "            # by default, we're assuming that we want to walk the same distance as our bubble + 1\n",
    "            bubble_path_length = closing_solid_kmer_path_index - opening_solid_kmer_path_index + 1\n",
    "\n",
    "            if opening_solid_kmer_index != closing_solid_kmer_index\n",
    "                path = LightGraphs.a_star(graph, opening_solid_kmer_index, closing_solid_kmer_index)\n",
    "                normalized_path = Int[path[1].src, [edge.dst for edge in path]...]\n",
    "                shortest_paths = [normalized_path]\n",
    "            else\n",
    "                neighbors = LightGraphs.neighbors(graph, opening_solid_kmer_index)\n",
    "                shortest_paths = Vector{Vector{Int}}()\n",
    "                for neighbor in neighbors\n",
    "                    path = LightGraphs.a_star(graph, neighbor, closing_solid_kmer_index)\n",
    "                    normalized_path = Int[path[1].src, [edge.dst for edge in path]...]\n",
    "                    push!(shortest_paths, normalized_path)\n",
    "                end\n",
    "            end\n",
    "            # but if our bubble is a deletion, then walking that length may not get us across to the other side\n",
    "            # so we also determine the longest, shortest path\n",
    "            longest_shortest_walk_length = maximum(length.(shortest_paths))\n",
    "\n",
    "\n",
    "            longest_walk_length = max(bubble_path_length, longest_shortest_walk_length)\n",
    "            walk_length = Int(ceil(longest_walk_length * 1.1))\n",
    "\n",
    "            walks = Vector{Int}[]\n",
    "            for i in 1:3\n",
    "                println(\"round $i\")\n",
    "                walks = [take_a_walk(graph, edge_likelihoods, kmers, opening_solid_kmer, walk_length)]\n",
    "                while allunique(walks)\n",
    "                    push!(walks, take_a_walk(graph, edge_likelihoods, kmers, opening_solid_kmer, walk_length))\n",
    "                end\n",
    "\n",
    "                walks = filter(path -> closing_solid_kmer in path, walks)\n",
    "\n",
    "                if isempty(walks)\n",
    "                    walk_length = Int(ceil(walk_length * 1.1))\n",
    "                else\n",
    "                    # done!\n",
    "                    break\n",
    "                end\n",
    "            end\n",
    "\n",
    "            if !isempty(walks)\n",
    "                candidate_paths = sort(collect(StatsBase.countmap(walks)), by=x->x[2], rev=true)\n",
    "                selected_path = first(first(candidate_paths))\n",
    "                selected_path_closing_solid_kmer_intersects = findall(kmer -> kmer == closing_solid_kmer, selected_path)\n",
    "                if length(selected_path_closing_solid_kmer_intersects) > 1\n",
    "                    @show \"here\"\n",
    "                    selected_path_closing_solid_kmer_intersect = 0\n",
    "                    d = Inf\n",
    "                    for i in selected_path_closing_solid_kmer_intersects\n",
    "                        candidate_distance = abs(i - walk_length)\n",
    "                        if candidate_distance < d\n",
    "                            d = candidate_distance\n",
    "                            selected_path_closing_solid_kmer_intersect = i\n",
    "                        end\n",
    "                    end\n",
    "                else\n",
    "                    selected_path_closing_solid_kmer_intersect = first(selected_path_closing_solid_kmer_intersects)\n",
    "                end\n",
    "                selected_path = selected_path[1:selected_path_closing_solid_kmer_intersect]\n",
    "                if isempty(proposed_path)\n",
    "                    proposed_path = getproperty.(observation_kmers[1:opening_solid_kmer_path_index], :fw)\n",
    "                end\n",
    "                append!(proposed_path, selected_path[2:end])\n",
    "                opening_missing_kmer_path_index = findnext(map(x -> x == 0, kmer_index), closing_solid_kmer_path_index+1)\n",
    "                if opening_missing_kmer_path_index == nothing\n",
    "                    #done\n",
    "                    opening_solid_kmer = nothing\n",
    "                elseif opening_missing_kmer_path_index == 1\n",
    "                    # also done?\n",
    "                    opening_solid_kmer = nothing\n",
    "                elseif opening_missing_kmer_path_index != nothing\n",
    "                    need_to_add = getproperty.(observation_kmers[closing_solid_kmer_path_index+1:opening_missing_kmer_path_index-1], :fw)\n",
    "                    append!(proposed_path, need_to_add)\n",
    "                    opening_solid_kmer_path_index = opening_missing_kmer_path_index - 1\n",
    "                    opening_solid_kmer = observation_kmers[opening_solid_kmer_path_index].fw\n",
    "                    closing_solid_kmer_path_index = findnext(map(x -> x != 0, kmer_index), opening_missing_kmer_path_index+1)\n",
    "                    if closing_solid_kmer_path_index == nothing\n",
    "                        closing_solid_kmer = nothing\n",
    "                    else\n",
    "                        closing_solid_kmer = observation_kmers[closing_solid_kmer_path_index].fw\n",
    "                    end\n",
    "                end\n",
    "            else\n",
    "                @show \"need to bump out\"\n",
    "                if opening_missing_kmer_path_index >= 2\n",
    "                    opening_missing_kmer_path_index -= 1\n",
    "                    opening_solid_kmer = nothing\n",
    "                    # this should now break out to larger while loop\n",
    "                end\n",
    "                # push out closing node and try again\n",
    "                closing_solid_kmer_path_index = findnext(map(x -> x != 0, kmer_index), closing_solid_kmer_path_index+1)\n",
    "\n",
    "                if closing_solid_kmer_path_index == nothing\n",
    "                    @show \"end is open\"\n",
    "                    closing_solid_kmer = nothing\n",
    "                else\n",
    "                    closing_solid_kmer = observation_kmers[closing_solid_kmer_path_index].fw\n",
    "                end\n",
    "            end\n",
    "        end\n",
    "    end\n",
    "    if closing_solid_kmer_path_index != nothing\n",
    "        append!(proposed_path, getproperty.(observation_kmers[closing_solid_kmer_path_index+1:end], :fw))\n",
    "    end\n",
    "end"
   ]
  },
  {
   "cell_type": "code",
   "execution_count": null,
   "id": "9d0f8ba9-7391-4d13-b053-ffa218931590",
   "metadata": {},
   "outputs": [],
   "source": [
    "proposed_path"
   ]
  },
  {
   "cell_type": "code",
   "execution_count": null,
   "id": "ebc0509b-4227-4dbb-9b30-e30f885d3942",
   "metadata": {},
   "outputs": [],
   "source": [
    "proposed_seq = BioSequences.LongDNASeq(first(proposed_path))\n",
    "for kmer in proposed_path[2:end]\n",
    "    push!(proposed_seq, last(kmer))\n",
    "end\n",
    "proposed_seq"
   ]
  },
  {
   "cell_type": "code",
   "execution_count": null,
   "id": "46006c09-daf3-4628-8585-7946328c975f",
   "metadata": {},
   "outputs": [],
   "source": [
    "new_alignment = BioAlignments.pairalign(BioAlignments.LevenshteinDistance(), proposed_seq, genome)"
   ]
  },
  {
   "cell_type": "code",
   "execution_count": null,
   "id": "7dddb7f3-7466-4852-bd9a-ec365d56c3a2",
   "metadata": {},
   "outputs": [],
   "source": [
    "reverse_new_alignment = BioAlignments.pairalign(BioAlignments.LevenshteinDistance(), BioSequences.reverse_complement(proposed_seq), genome)"
   ]
  },
  {
   "cell_type": "code",
   "execution_count": null,
   "id": "0bcb9396-faf4-4c0d-bc85-8f13c9016229",
   "metadata": {},
   "outputs": [],
   "source": [
    "if reverse_new_alignment.value < new_alignment.value\n",
    "#     observation = BioSequences.reverse_complement!(observation)\n",
    "    new_alignment = reverse_new_alignment\n",
    "    @show \"flipping\"\n",
    "end"
   ]
  },
  {
   "cell_type": "code",
   "execution_count": null,
   "id": "697153c4-416f-4308-80c9-216df5c4e893",
   "metadata": {},
   "outputs": [],
   "source": [
    "if new_alignment.value <= alignment.value\n",
    "    @show \"newer is equivalent or better\"\n",
    "    @show new_alignment.value, alignment.value\n",
    "else\n",
    "    @show \"newer is worse, keep original\"\n",
    "    @show new_alignment.value, alignment.value\n",
    "end"
   ]
  }
 ],
 "metadata": {
  "kernelspec": {
   "display_name": "Julia 1.6.1",
   "language": "julia",
   "name": "julia-1.6"
  },
  "language_info": {
   "file_extension": ".jl",
   "mimetype": "application/julia",
   "name": "julia",
   "version": "1.6.1"
  }
 },
 "nbformat": 4,
 "nbformat_minor": 5
}
