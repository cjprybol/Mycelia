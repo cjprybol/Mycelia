{
 "cells": [
  {
   "cell_type": "code",
   "execution_count": 1,
   "id": "6ac73c46-51c9-4fea-845f-fb17ce8d83a2",
   "metadata": {},
   "outputs": [
    {
     "data": {
      "text/plain": [
       "\"/home/jovyan/2021-09-06-annealing-correction\""
      ]
     },
     "execution_count": 1,
     "metadata": {},
     "output_type": "execute_result"
    }
   ],
   "source": [
    "DATE = \"2021-09-06\"\n",
    "TASK = \"annealing-correction\"\n",
    "DIR = mkpath(\"$(homedir())/$(DATE)-$(TASK)\")"
   ]
  },
  {
   "cell_type": "code",
   "execution_count": 2,
   "id": "38cb383f-3696-4b4b-a732-9a2059e0681a",
   "metadata": {},
   "outputs": [],
   "source": [
    "import Pkg\n",
    "pkgs = [\n",
    "    \"BioAlignments\",\n",
    "    \"BioSequences\",\n",
    "    \"Clustering\",\n",
    "#     \"CodecZlib\",\n",
    "#     \"Colors\",\n",
    "#     \"Combinatorics\",\n",
    "    \"DataFrames\",\n",
    "    \"DataStructures\",\n",
    "    \"Dates\",\n",
    "#     \"DelimitedFiles\",\n",
    "    \"Distances\",\n",
    "#     \"Distributions\",\n",
    "#     \"EzXML\",\n",
    "    \"FASTX\",\n",
    "#     \"GFF3\",\n",
    "    \"GraphPlot\",\n",
    "#     \"HTTP\",\n",
    "#     \"Impute\",\n",
    "#     \"JSON\",\n",
    "    \"LightGraphs\",\n",
    "#     \"LSHFunctions\",\n",
    "#     \"Measures\",\n",
    "    \"MetaGraphs\",\n",
    "    \"https://github.com/cjprybol/Mycelia.git\",\n",
    "#     \"NumericIO\",\n",
    "#     \"PlotlyJS\",\n",
    "#     \"Plots\",\n",
    "    \"Primes\",\n",
    "#     \"Printf\",\n",
    "    \"ProgressMeter\",\n",
    "    \"Random\",\n",
    "    \"Revise\",\n",
    "    \"SparseArrays\",\n",
    "    \"Statistics\",\n",
    "    \"StatsBase\",\n",
    "    \"StatsPlots\",\n",
    "#     \"StringDistances\",\n",
    "    \"uCSV\",\n",
    "#     \"XLSX\",\n",
    "]\n",
    "\n",
    "unregistered_packages = filter(pkg -> occursin(r\"(^https|git$)\", pkg), pkgs)\n",
    "registered_packages = setdiff(pkgs, unregistered_packages)\n",
    "\n",
    "for pkg in registered_packages\n",
    "    try\n",
    "        eval(Meta.parse(\"import $(pkg)\"))\n",
    "    catch\n",
    "        Pkg.add(pkg)\n",
    "        Pkg.build(pkg)\n",
    "        eval(Meta.parse(\"import $(pkg)\"))\n",
    "    end\n",
    "end\n",
    "\n",
    "for pkg_url in unregistered_packages\n",
    "    pkg_name = replace(basename(pkg_url), \".git\" => \"\")\n",
    "    try\n",
    "        eval(Meta.parse(\"import $(pkg_name)\"))\n",
    "    catch\n",
    "        Pkg.develop(url=pkg_url)\n",
    "        Pkg.build(pkg_name)\n",
    "        eval(Meta.parse(\"import $(pkg_name)\"))\n",
    "    end\n",
    "end"
   ]
  },
  {
   "cell_type": "code",
   "execution_count": 3,
   "id": "ea19d6bc-8d84-4d8a-8e0c-bd00614d6dfb",
   "metadata": {},
   "outputs": [
    {
     "data": {
      "text/plain": [
       "kmer_index_and_orientation_to_kmer (generic function with 1 method)"
      ]
     },
     "execution_count": 3,
     "metadata": {},
     "output_type": "execute_result"
    }
   ],
   "source": [
    "function kmer_index_and_orientation_to_kmer(graph, kmer_index, orientation)\n",
    "    kmer = graph.vprops[kmer_index][:kmer]\n",
    "    if !orientation\n",
    "        kmer = BioSequences.reverse_complement(kmer)\n",
    "    end\n",
    "    return kmer\n",
    "end"
   ]
  },
  {
   "cell_type": "code",
   "execution_count": 4,
   "id": "ab79def6-1e00-4b75-b86f-e16c4aefb35c",
   "metadata": {},
   "outputs": [
    {
     "data": {
      "text/plain": [
       "determine_edge_probabilities (generic function with 1 method)"
      ]
     },
     "execution_count": 4,
     "metadata": {},
     "output_type": "execute_result"
    }
   ],
   "source": [
    "function determine_edge_probabilities(graph)\n",
    "    nv = LightGraphs.nv(graph)\n",
    "    edge_probabilities = SparseArrays.spzeros(nv, nv)\n",
    "    for v in 1:nv\n",
    "        neighbors = LightGraphs.neighbors(graph, v)\n",
    "        @assert issorted(neighbors)\n",
    "        likelihoods = zeros(length(neighbors))\n",
    "        for (i, neighbor) in enumerate(neighbors)\n",
    "            if v <= neighbor\n",
    "                edge = LightGraphs.Edge(v, neighbor)\n",
    "            else\n",
    "                edge = LightGraphs.Edge(neighbor, v)\n",
    "            end\n",
    "            @assert LightGraphs.has_edge(graph, edge)\n",
    "            likelihoods[i] = graph.eprops[edge][:count]     \n",
    "        end\n",
    "        likelihoods = likelihoods ./ sum(likelihoods)\n",
    "#         @show likelihoods\n",
    "#         @show neighbors\n",
    "        for (neighbor, likelihood) in zip(neighbors, likelihoods)\n",
    "            edge_probabilities[v, neighbor] = likelihood\n",
    "        end\n",
    "    end\n",
    "    \n",
    "    for source in 1:size(edge_probabilities, 1)\n",
    "        destinations = findall(edge_probabilities[source, :] .> 0)\n",
    "        destination_counts = [graph.vprops[dest][:count] for dest in destinations]\n",
    "        destination_likelihoods = destination_counts ./ sum(destination_counts)\n",
    "        for (dest, likelihood) in zip(destinations, destination_likelihoods)\n",
    "            edge_probabilities[source, dest] *= likelihood\n",
    "        end\n",
    "        edge_probabilities[source, :] ./= sum(edge_probabilities[source, :])\n",
    "        @assert abs(1-sum(edge_probabilities[source, :])) <= eps(Float64)\n",
    "    end\n",
    "    \n",
    "    return edge_probabilities\n",
    "end"
   ]
  },
  {
   "cell_type": "code",
   "execution_count": 5,
   "id": "a5e1ffd6-44f8-4dee-b381-f0ca479cf91d",
   "metadata": {},
   "outputs": [
    {
     "data": {
      "text/plain": [
       "orient_path (generic function with 1 method)"
      ]
     },
     "execution_count": 5,
     "metadata": {},
     "output_type": "execute_result"
    }
   ],
   "source": [
    "function orient_path(graph, kmers, path, opening_orientation, opening_kmer, closing_orientation)\n",
    "    vertices = path\n",
    "    path_orientations = [opening_orientation]\n",
    "    path_kmers = [opening_kmer]\n",
    "    @show opening_orientation\n",
    "    for (i, vertex) in enumerate(vertices[2:end])\n",
    "        @show i, vertex, last(path_orientations)\n",
    "        viable_neighbors = typeof(opening_kmer)[]\n",
    "        viable_neighbor = nothing\n",
    "        viable_orientations = Bool[]\n",
    "        viable_orientation = nothing\n",
    "        for neighbor in BioSequences.neighbors(last(path_kmers))\n",
    "            @show \"considering going from $(last(path_kmers)) to $(neighbor)\"\n",
    "#             @show \"considering going from $(last(path_kmers)) to $(neighbor)\"\n",
    "            canonical_neighbor = BioSequences.canonical(neighbor)\n",
    "            canonical_neighbor_index_range = searchsorted(kmers, canonical_neighbor)\n",
    "#             @show canonical_neighbor_index_range\n",
    "            if length(canonical_neighbor_index_range) == 1\n",
    "                @show canonical_neighbor_index = first(canonical_neighbor_index_range)\n",
    "                if canonical_neighbor_index == vertex\n",
    "                    @show \"hit, selecting $neighbor\"\n",
    "                    viable_neighbor = neighbor\n",
    "                    viable_orientation = neighbor == canonical_neighbor\n",
    "                end\n",
    "            end\n",
    "        end\n",
    "        if (viable_neighbor != nothing) && (viable_orientation != nothing)\n",
    "            push!(path_kmers, viable_neighbor)\n",
    "            push!(path_orientations, viable_orientation)\n",
    "        else\n",
    "            return nothing\n",
    "            # not a viable path, need to look towards the next miss\n",
    "        end\n",
    "    end\n",
    "    return vertices, path_orientations, path_kmers\n",
    "end"
   ]
  },
  {
   "cell_type": "code",
   "execution_count": 6,
   "id": "8b96ea5a-e81b-445a-abb9-ab3c28e494e3",
   "metadata": {},
   "outputs": [
    {
     "data": {
      "text/plain": [
       "take_a_walk (generic function with 1 method)"
      ]
     },
     "execution_count": 6,
     "metadata": {},
     "output_type": "execute_result"
    }
   ],
   "source": [
    "function take_a_walk(graph, edge_likelihoods, kmers, kmer, walk_length)\n",
    "    walk = [kmer]\n",
    "    current_kmer_indices = searchsorted(kmers, BioSequences.canonical(last(walk)))\n",
    "    @assert length(current_kmer_indices) == 1\n",
    "    current_kmer_index = first(current_kmer_indices)\n",
    "    while length(walk) < walk_length\n",
    "        viable_neighbors = Tuple{Int, Bool}[]\n",
    "        for neighbor in BioSequences.neighbors(kmer)\n",
    "            canonical_neighbor = BioSequences.canonical(neighbor)\n",
    "            neighbor_is_canonical = neighbor == canonical_neighbor\n",
    "            neighbor_vertex_range = searchsorted(kmers, canonical_neighbor)\n",
    "            if !isempty(neighbor_vertex_range)\n",
    "                neighbor_vertex = first(neighbor_vertex_range)\n",
    "                if LightGraphs.has_edge(graph, current_kmer_index, neighbor_vertex)\n",
    "                    push!(viable_neighbors, (neighbor_vertex, neighbor_is_canonical))\n",
    "                end\n",
    "            end\n",
    "        end\n",
    "        if isempty(viable_neighbors)\n",
    "            return walk\n",
    "        elseif length(viable_neighbors) == 1\n",
    "            chosen_neighbor = first(viable_neighbors)\n",
    "        else\n",
    "            viable_neighbor_indices = first.(viable_neighbors)\n",
    "            step_likelihoods = StatsBase.weights(edge_likelihoods[current_kmer_index, viable_neighbor_indices])\n",
    "            chosen_neighbor = StatsBase.sample(viable_neighbors, step_likelihoods)\n",
    "        end\n",
    "        kmer = kmer_index_and_orientation_to_kmer(graph, chosen_neighbor...)\n",
    "        push!(walk, kmer)\n",
    "        current_kmer_indices = searchsorted(kmers, BioSequences.canonical(last(walk)))\n",
    "        @assert length(current_kmer_indices) == 1\n",
    "        current_kmer_index = first(current_kmer_indices)\n",
    "    end\n",
    "    return walk\n",
    "end"
   ]
  },
  {
   "cell_type": "code",
   "execution_count": 7,
   "id": "ccff2a3a-a440-43f4-9c11-358613356a1f",
   "metadata": {},
   "outputs": [],
   "source": [
    "# create a random genome"
   ]
  },
  {
   "cell_type": "code",
   "execution_count": 121,
   "id": "61678b71-b08d-4b96-a6d8-a6e44b73b7ef",
   "metadata": {},
   "outputs": [
    {
     "data": {
      "text/plain": [
       "10"
      ]
     },
     "execution_count": 121,
     "metadata": {},
     "output_type": "execute_result"
    }
   ],
   "source": [
    "L = 10"
   ]
  },
  {
   "cell_type": "code",
   "execution_count": 122,
   "id": "5384143d-ffc3-4e40-8911-413b85b4d484",
   "metadata": {},
   "outputs": [
    {
     "data": {
      "text/plain": [
       "3"
      ]
     },
     "execution_count": 122,
     "metadata": {},
     "output_type": "execute_result"
    }
   ],
   "source": [
    "k = 3"
   ]
  },
  {
   "cell_type": "code",
   "execution_count": 123,
   "id": "aeebc6d3-159e-416c-87d8-e554b892b444",
   "metadata": {},
   "outputs": [
    {
     "data": {
      "text/plain": [
       "10nt DNA Sequence:\n",
       "AGCCTGCAAA"
      ]
     },
     "execution_count": 123,
     "metadata": {},
     "output_type": "execute_result"
    }
   ],
   "source": [
    "genome = BioSequences.randdnaseq(Random.seed!(L), L)"
   ]
  },
  {
   "cell_type": "code",
   "execution_count": 124,
   "id": "36e25b62-a4cb-476c-94c0-a038b9d63896",
   "metadata": {},
   "outputs": [
    {
     "data": {
      "text/plain": [
       "OrderedCollections.OrderedDict{BioSequences.BigDNAMer{3}, Int64} with 7 entries:\n",
       "  AAA => 1\n",
       "  AGC => 1\n",
       "  AGG => 1\n",
       "  CAA => 1\n",
       "  CAG => 1\n",
       "  GCA => 2\n",
       "  GCC => 1"
      ]
     },
     "execution_count": 124,
     "metadata": {},
     "output_type": "execute_result"
    }
   ],
   "source": [
    "kmer_counts = sort!(Mycelia.count_canonical_kmers(BioSequences.BigDNAMer{k}, genome))"
   ]
  },
  {
   "cell_type": "code",
   "execution_count": 125,
   "id": "b48acbb5-9bd2-45c3-b518-1d0096a6f29d",
   "metadata": {},
   "outputs": [
    {
     "data": {
      "text/plain": [
       "7"
      ]
     },
     "execution_count": 125,
     "metadata": {},
     "output_type": "execute_result"
    }
   ],
   "source": [
    "K = length(keys(kmer_counts))"
   ]
  },
  {
   "cell_type": "code",
   "execution_count": 126,
   "id": "3ad5ecaa-1566-43ef-9716-09d2bb71142f",
   "metadata": {},
   "outputs": [],
   "source": [
    "# create an undirected kmer graph from the sequence"
   ]
  },
  {
   "cell_type": "code",
   "execution_count": 127,
   "id": "eea8a51d-6f61-4409-91f2-c9206c94e578",
   "metadata": {},
   "outputs": [
    {
     "data": {
      "text/plain": [
       "{7, 0} undirected Int64 metagraph with Float64 weights defined by :weight (default weight 1.0)"
      ]
     },
     "execution_count": 127,
     "metadata": {},
     "output_type": "execute_result"
    }
   ],
   "source": [
    "graph = MetaGraphs.MetaGraph(K)"
   ]
  },
  {
   "cell_type": "code",
   "execution_count": 128,
   "id": "9550366b-c8d0-4eee-8742-c5b52d3d1f19",
   "metadata": {},
   "outputs": [
    {
     "name": "stdout",
     "output_type": "stream",
     "text": [
      "(i, kmer, count) = (1, AAA, 1)\n",
      "MetaGraphs.set_prop!(graph, i, :kmer, kmer) = true\n",
      "MetaGraphs.set_prop!(graph, i, :count, count) = true\n",
      "(i, kmer, count) = (2, AGC, 1)\n",
      "MetaGraphs.set_prop!(graph, i, :kmer, kmer) = true\n",
      "MetaGraphs.set_prop!(graph, i, :count, count) = true\n",
      "(i, kmer, count) = (3, AGG, 1)\n",
      "MetaGraphs.set_prop!(graph, i, :kmer, kmer) = true\n",
      "MetaGraphs.set_prop!(graph, i, :count, count) = true\n",
      "(i, kmer, count) = (4, CAA, 1)\n",
      "MetaGraphs.set_prop!(graph, i, :kmer, kmer) = true\n",
      "MetaGraphs.set_prop!(graph, i, :count, count) = true\n",
      "(i, kmer, count) = (5, CAG, 1)\n",
      "MetaGraphs.set_prop!(graph, i, :kmer, kmer) = true\n",
      "MetaGraphs.set_prop!(graph, i, :count, count) = true\n",
      "(i, kmer, count) = (6, GCA, 2)\n",
      "MetaGraphs.set_prop!(graph, i, :kmer, kmer) = true\n",
      "MetaGraphs.set_prop!(graph, i, :count, count) = true\n",
      "(i, kmer, count) = (7, GCC, 1)\n",
      "MetaGraphs.set_prop!(graph, i, :kmer, kmer) = true\n",
      "MetaGraphs.set_prop!(graph, i, :count, count) = true\n"
     ]
    }
   ],
   "source": [
    "for (i, (kmer, count)) in enumerate(kmer_counts)\n",
    "    @show i, kmer, count\n",
    "    @show MetaGraphs.set_prop!(graph, i, :kmer, kmer)\n",
    "    @show MetaGraphs.set_prop!(graph, i, :count, count)\n",
    "end"
   ]
  },
  {
   "cell_type": "code",
   "execution_count": 129,
   "id": "098cb159-5e23-405b-bacf-43c75f1d001f",
   "metadata": {},
   "outputs": [
    {
     "data": {
      "text/plain": [
       "Dict{Int64, Dict{Symbol, Any}} with 7 entries:\n",
       "  5 => Dict(:count=>1, :kmer=>CAG)\n",
       "  4 => Dict(:count=>1, :kmer=>CAA)\n",
       "  6 => Dict(:count=>2, :kmer=>GCA)\n",
       "  7 => Dict(:count=>1, :kmer=>GCC)\n",
       "  2 => Dict(:count=>1, :kmer=>AGC)\n",
       "  3 => Dict(:count=>1, :kmer=>AGG)\n",
       "  1 => Dict(:count=>1, :kmer=>AAA)"
      ]
     },
     "execution_count": 129,
     "metadata": {},
     "output_type": "execute_result"
    }
   ],
   "source": [
    "graph.vprops"
   ]
  },
  {
   "cell_type": "code",
   "execution_count": 130,
   "id": "08821979-313e-4fbf-a33f-3400e514170f",
   "metadata": {},
   "outputs": [
    {
     "data": {
      "text/plain": [
       "7-element Vector{BioSequences.BigDNAMer{3}}:\n",
       " AAA\n",
       " AGC\n",
       " AGG\n",
       " CAA\n",
       " CAG\n",
       " GCA\n",
       " GCC"
      ]
     },
     "execution_count": 130,
     "metadata": {},
     "output_type": "execute_result"
    }
   ],
   "source": [
    "kmers = collect(keys(kmer_counts))"
   ]
  },
  {
   "cell_type": "code",
   "execution_count": 131,
   "id": "30670fcf-ac1d-4653-b386-b118dfd39cfa",
   "metadata": {},
   "outputs": [
    {
     "name": "stdout",
     "output_type": "stream",
     "text": [
      "edge = AGCC\n",
      "(src_index, src == canonical_src, dst_index, dst == canonical_dst) = (2, true, 7, true)\n",
      "edge = GCCT\n",
      "(src_index, src == canonical_src, dst_index, dst == canonical_dst) = (7, true, 3, false)\n",
      "edge = CCTG\n",
      "(src_index, src == canonical_src, dst_index, dst == canonical_dst) = (3, false, 5, false)\n",
      "edge = CTGC\n",
      "(src_index, src == canonical_src, dst_index, dst == canonical_dst) = (5, false, 6, false)\n",
      "edge = TGCA\n",
      "(src_index, src == canonical_src, dst_index, dst == canonical_dst) = (6, false, 6, true)\n",
      "edge = GCAA\n",
      "(src_index, src == canonical_src, dst_index, dst == canonical_dst) = (6, true, 4, true)\n",
      "edge = CAAA\n",
      "(src_index, src == canonical_src, dst_index, dst == canonical_dst) = (4, true, 1, true)\n"
     ]
    }
   ],
   "source": [
    "for i in 1:length(genome)-k\n",
    "    edge_range = i:i+k\n",
    "    edge = genome[edge_range]\n",
    "    src = BioSequences.BigDNAMer{k}(edge[1:end-1])\n",
    "    dst = BioSequences.BigDNAMer{k}(edge[2:end])\n",
    "    canonical_src = BioSequences.canonical(src)\n",
    "    canonical_dst = BioSequences.canonical(dst)\n",
    "    src_index = Mycelia.get_kmer_index(kmers, canonical_src)\n",
    "    dst_index = Mycelia.get_kmer_index(kmers, canonical_dst)\n",
    "    @show edge\n",
    "    @show src_index, src == canonical_src, dst_index, dst == canonical_dst\n",
    "    graph_edge = LightGraphs.Edge(src_index, dst_index)\n",
    "    if LightGraphs.has_edge(graph, graph_edge)\n",
    "        current_count = graph.eprops[graph_edge][:count]\n",
    "        MetaGraphs.set_prop!(graph, graph_edge, :count, current_count+1)\n",
    "    else\n",
    "        LightGraphs.add_edge!(graph, graph_edge)\n",
    "        MetaGraphs.set_prop!(graph, graph_edge, :count, 1)\n",
    "    end\n",
    "end"
   ]
  },
  {
   "cell_type": "code",
   "execution_count": 132,
   "id": "d47cfd3e-b739-481a-8e9c-eec0c264900e",
   "metadata": {},
   "outputs": [
    {
     "data": {
      "text/plain": [
       "{7, 7} undirected Int64 metagraph with Float64 weights defined by :weight (default weight 1.0)"
      ]
     },
     "execution_count": 132,
     "metadata": {},
     "output_type": "execute_result"
    }
   ],
   "source": [
    "graph"
   ]
  },
  {
   "cell_type": "code",
   "execution_count": 133,
   "id": "b9d4edf4-941e-42b0-9c4b-7ad219132045",
   "metadata": {},
   "outputs": [
    {
     "data": {
      "text/plain": [
       "Dict{LightGraphs.SimpleGraphs.SimpleEdge{Int64}, Dict{Symbol, Any}} with 7 entries:\n",
       "  Edge 3 => 7 => Dict(:count=>1)\n",
       "  Edge 5 => 6 => Dict(:count=>1)\n",
       "  Edge 2 => 7 => Dict(:count=>1)\n",
       "  Edge 6 => 6 => Dict(:count=>1)\n",
       "  Edge 3 => 5 => Dict(:count=>1)\n",
       "  Edge 4 => 6 => Dict(:count=>1)\n",
       "  Edge 1 => 4 => Dict(:count=>1)"
      ]
     },
     "execution_count": 133,
     "metadata": {},
     "output_type": "execute_result"
    }
   ],
   "source": [
    "graph.eprops"
   ]
  },
  {
   "cell_type": "code",
   "execution_count": 134,
   "id": "62b9d2f5-14e6-4f7a-8013-d32cf1bc1da5",
   "metadata": {},
   "outputs": [],
   "source": [
    "# GraphPlot.gplot(graph, nodesize=[rand(1:2) for i in 1:LightGraphs.nv(graph)])"
   ]
  },
  {
   "cell_type": "code",
   "execution_count": 135,
   "id": "0a779414-f692-435a-8b0d-84f9b1c88d5d",
   "metadata": {},
   "outputs": [
    {
     "data": {
      "text/plain": [
       "7×7 SparseArrays.SparseMatrixCSC{Float64, Int64} with 13 stored entries:\n",
       "  ⋅         ⋅    ⋅        1.0    ⋅     ⋅         ⋅ \n",
       "  ⋅         ⋅    ⋅         ⋅     ⋅     ⋅        1.0\n",
       "  ⋅         ⋅    ⋅         ⋅    0.5    ⋅        0.5\n",
       " 0.333333   ⋅    ⋅         ⋅     ⋅    0.666667   ⋅ \n",
       "  ⋅         ⋅   0.333333   ⋅     ⋅    0.666667   ⋅ \n",
       "  ⋅         ⋅    ⋅        0.25  0.25  0.5        ⋅ \n",
       "  ⋅        0.5  0.5        ⋅     ⋅     ⋅         ⋅ "
      ]
     },
     "execution_count": 135,
     "metadata": {},
     "output_type": "execute_result"
    }
   ],
   "source": [
    "edge_likelihoods = determine_edge_probabilities(graph)"
   ]
  },
  {
   "cell_type": "code",
   "execution_count": 136,
   "id": "b624dafc-3705-4ecb-b60e-d974a57bf8d7",
   "metadata": {},
   "outputs": [],
   "source": [
    "# take yen_k shortest paths"
   ]
  },
  {
   "cell_type": "code",
   "execution_count": 137,
   "id": "ba83fe3e-b412-44d6-b827-0eaf765f308a",
   "metadata": {},
   "outputs": [
    {
     "data": {
      "text/plain": [
       "8-element Vector{BioSequences.MerIterResult{BioSequences.BigDNAMer{3}}}:\n",
       " BioSequences.MerIterResult{BioSequences.BigDNAMer{3}}(1, AGC, GCT)\n",
       " BioSequences.MerIterResult{BioSequences.BigDNAMer{3}}(2, GCC, GGC)\n",
       " BioSequences.MerIterResult{BioSequences.BigDNAMer{3}}(3, CCT, AGG)\n",
       " BioSequences.MerIterResult{BioSequences.BigDNAMer{3}}(4, CTG, CAG)\n",
       " BioSequences.MerIterResult{BioSequences.BigDNAMer{3}}(5, TGC, GCA)\n",
       " BioSequences.MerIterResult{BioSequences.BigDNAMer{3}}(6, GCA, TGC)\n",
       " BioSequences.MerIterResult{BioSequences.BigDNAMer{3}}(7, CAA, TTG)\n",
       " BioSequences.MerIterResult{BioSequences.BigDNAMer{3}}(8, AAA, TTT)"
      ]
     },
     "execution_count": 137,
     "metadata": {},
     "output_type": "execute_result"
    }
   ],
   "source": [
    "genome_kmers = collect(BioSequences.each(BioSequences.BigDNAMer{k}, genome))"
   ]
  },
  {
   "cell_type": "code",
   "execution_count": 138,
   "id": "8f548ff0-67c5-44a2-94a0-a8204124ae17",
   "metadata": {},
   "outputs": [],
   "source": [
    "# make a SNP edit to the genome"
   ]
  },
  {
   "cell_type": "code",
   "execution_count": 153,
   "id": "3a2d58a3-2431-42c7-b75d-85e3441cfd8f",
   "metadata": {},
   "outputs": [
    {
     "data": {
      "text/plain": [
       "3"
      ]
     },
     "execution_count": 153,
     "metadata": {},
     "output_type": "execute_result"
    }
   ],
   "source": [
    "# seed = 0\n",
    "# seed = 1\n",
    "# seed = 2\n",
    "seed = 3"
   ]
  },
  {
   "cell_type": "code",
   "execution_count": 154,
   "id": "8a22b5a8-c3d8-409d-b483-26b59bd221b9",
   "metadata": {},
   "outputs": [
    {
     "name": "stdout",
     "output_type": "stream",
     "text": [
      "seed = 3\n"
     ]
    },
    {
     "data": {
      "text/plain": [
       "11nt DNA Sequence:\n",
       "TTTGTCAGGCT"
      ]
     },
     "execution_count": 154,
     "metadata": {},
     "output_type": "execute_result"
    }
   ],
   "source": [
    "@show seed\n",
    "Random.seed!(seed)\n",
    "observation = Mycelia.observe(genome, error_rate = 0.1)"
   ]
  },
  {
   "cell_type": "code",
   "execution_count": 155,
   "id": "7d8168eb-65f8-455c-8c43-9c4830502695",
   "metadata": {},
   "outputs": [
    {
     "data": {
      "text/plain": [
       "BioAlignments.PairwiseAlignmentResult{Int64, BioSequences.LongDNASeq, BioSequences.LongDNASeq}:\n",
       "  distance: 9\n",
       "  seq:  1 TTTGTCAG-GCT 11\n",
       "             | | |    \n",
       "  ref:  0 --AGCCTGCAAA 10\n"
      ]
     },
     "execution_count": 155,
     "metadata": {},
     "output_type": "execute_result"
    }
   ],
   "source": [
    "alignment = BioAlignments.pairalign(BioAlignments.LevenshteinDistance(), observation, genome)"
   ]
  },
  {
   "cell_type": "code",
   "execution_count": 156,
   "id": "57510fd3-5848-4471-bc29-f119ad4986c1",
   "metadata": {},
   "outputs": [
    {
     "data": {
      "text/plain": [
       "BioAlignments.PairwiseAlignmentResult{Int64, BioSequences.LongDNASeq, BioSequences.LongDNASeq}:\n",
       "  distance: 1\n",
       "  seq:  1 AGCCTGACAAA 11\n",
       "          |||||| ||||\n",
       "  ref:  1 AGCCTG-CAAA 10\n"
      ]
     },
     "execution_count": 156,
     "metadata": {},
     "output_type": "execute_result"
    }
   ],
   "source": [
    "reverse_alignment = BioAlignments.pairalign(BioAlignments.LevenshteinDistance(), BioSequences.reverse_complement(observation), genome)"
   ]
  },
  {
   "cell_type": "code",
   "execution_count": 157,
   "id": "ffdd8d70-c134-47e4-94b4-7ffa58f6f70d",
   "metadata": {},
   "outputs": [
    {
     "name": "stdout",
     "output_type": "stream",
     "text": [
      "\"flipping\" = \"flipping\"\n"
     ]
    },
    {
     "data": {
      "text/plain": [
       "\"flipping\""
      ]
     },
     "execution_count": 157,
     "metadata": {},
     "output_type": "execute_result"
    }
   ],
   "source": [
    "if reverse_alignment.value < alignment.value\n",
    "    observation = BioSequences.reverse_complement!(observation)\n",
    "    alignment = reverse_alignment\n",
    "    @show \"flipping\"\n",
    "end"
   ]
  },
  {
   "cell_type": "code",
   "execution_count": 158,
   "id": "c9191717-8c33-4f22-85d5-e42d434fb25d",
   "metadata": {},
   "outputs": [],
   "source": [
    "# convert genome into stranded path"
   ]
  },
  {
   "cell_type": "code",
   "execution_count": 159,
   "id": "c162ae04-c3ad-4658-8142-c5fa3ad7a543",
   "metadata": {},
   "outputs": [
    {
     "data": {
      "text/plain": [
       "9-element Vector{BioSequences.MerIterResult{BioSequences.BigDNAMer{3}}}:\n",
       " BioSequences.MerIterResult{BioSequences.BigDNAMer{3}}(1, AGC, GCT)\n",
       " BioSequences.MerIterResult{BioSequences.BigDNAMer{3}}(2, GCC, GGC)\n",
       " BioSequences.MerIterResult{BioSequences.BigDNAMer{3}}(3, CCT, AGG)\n",
       " BioSequences.MerIterResult{BioSequences.BigDNAMer{3}}(4, CTG, CAG)\n",
       " BioSequences.MerIterResult{BioSequences.BigDNAMer{3}}(5, TGA, TCA)\n",
       " BioSequences.MerIterResult{BioSequences.BigDNAMer{3}}(6, GAC, GTC)\n",
       " BioSequences.MerIterResult{BioSequences.BigDNAMer{3}}(7, ACA, TGT)\n",
       " BioSequences.MerIterResult{BioSequences.BigDNAMer{3}}(8, CAA, TTG)\n",
       " BioSequences.MerIterResult{BioSequences.BigDNAMer{3}}(9, AAA, TTT)"
      ]
     },
     "execution_count": 159,
     "metadata": {},
     "output_type": "execute_result"
    }
   ],
   "source": [
    "# function sequence_to_\n",
    "observation_as_oriented_kmers = []\n",
    "observation_kmers = collect(BioSequences.each(BioSequences.BigDNAMer{k}, observation))"
   ]
  },
  {
   "cell_type": "code",
   "execution_count": 160,
   "id": "d3b63e69-1c33-4f4b-8c3e-c358089557f8",
   "metadata": {},
   "outputs": [
    {
     "data": {
      "text/plain": [
       "8-element Vector{BioSequences.MerIterResult{BioSequences.BigDNAMer{3}}}:\n",
       " BioSequences.MerIterResult{BioSequences.BigDNAMer{3}}(1, AGC, GCT)\n",
       " BioSequences.MerIterResult{BioSequences.BigDNAMer{3}}(2, GCC, GGC)\n",
       " BioSequences.MerIterResult{BioSequences.BigDNAMer{3}}(3, CCT, AGG)\n",
       " BioSequences.MerIterResult{BioSequences.BigDNAMer{3}}(4, CTG, CAG)\n",
       " BioSequences.MerIterResult{BioSequences.BigDNAMer{3}}(5, TGC, GCA)\n",
       " BioSequences.MerIterResult{BioSequences.BigDNAMer{3}}(6, GCA, TGC)\n",
       " BioSequences.MerIterResult{BioSequences.BigDNAMer{3}}(7, CAA, TTG)\n",
       " BioSequences.MerIterResult{BioSequences.BigDNAMer{3}}(8, AAA, TTT)"
      ]
     },
     "execution_count": 160,
     "metadata": {},
     "output_type": "execute_result"
    }
   ],
   "source": [
    "genome_kmers"
   ]
  },
  {
   "cell_type": "code",
   "execution_count": 161,
   "id": "e7fd3359-2116-42b9-a4df-48df59e2deb5",
   "metadata": {},
   "outputs": [],
   "source": [
    "is_canonical = falses(length(observation_kmers))\n",
    "kmer_index = zeros(Int, length(observation_kmers))\n",
    "for (i, kmer) in enumerate(observation_kmers)\n",
    "#     is_canonical[i] = kmer.fw <= kmer.bw\n",
    "    canonical_kmer = BioSequences.canonical(kmer.fw)\n",
    "    is_canonical[i] = kmer.fw == canonical_kmer\n",
    "    kmer_index_range = searchsorted(kmers, canonical_kmer)\n",
    "    if length(kmer_index_range) > 1\n",
    "        @error \"bad\"\n",
    "    elseif isempty(kmer_index_range)\n",
    "        # do nothing, index is 0 to indicate not found\n",
    "    else\n",
    "        kmer_index[i] = first(kmer_index_range)\n",
    "    end\n",
    "end"
   ]
  },
  {
   "cell_type": "code",
   "execution_count": 162,
   "id": "e9c7e7b3-7d18-463f-a74b-47a2bd28307a",
   "metadata": {},
   "outputs": [
    {
     "data": {
      "text/plain": [
       "9-element BitVector:\n",
       " 1\n",
       " 1\n",
       " 0\n",
       " 0\n",
       " 0\n",
       " 1\n",
       " 1\n",
       " 1\n",
       " 1"
      ]
     },
     "execution_count": 162,
     "metadata": {},
     "output_type": "execute_result"
    }
   ],
   "source": [
    "is_canonical"
   ]
  },
  {
   "cell_type": "code",
   "execution_count": 163,
   "id": "95d066fe-c611-4e94-bc74-e00afe1eea0b",
   "metadata": {},
   "outputs": [
    {
     "data": {
      "text/plain": [
       "9-element Vector{Int64}:\n",
       " 2\n",
       " 7\n",
       " 3\n",
       " 5\n",
       " 0\n",
       " 0\n",
       " 0\n",
       " 4\n",
       " 1"
      ]
     },
     "execution_count": 163,
     "metadata": {},
     "output_type": "execute_result"
    }
   ],
   "source": [
    "kmer_index"
   ]
  },
  {
   "cell_type": "code",
   "execution_count": 169,
   "id": "572e131f-7063-47c9-a5bf-617cde17b07c",
   "metadata": {},
   "outputs": [
    {
     "name": "stdout",
     "output_type": "stream",
     "text": [
      "iterations = 1\n",
      "\"bubble!\" = \"bubble!\"\n",
      "walks = Vector{BioSequences.BigDNAMer{3}}[[CTG, TGC, GCA, CAG, AGG, GGC], [CTG, TGC, GCA, CAA, AAA], [CTG, TGC, GCA, CAG, AGG, GGC]]\n",
      "walks = Vector{BioSequences.BigDNAMer{3}}[[CTG, TGC, GCA, CAA, AAA]]\n",
      "selected_path = BioSequences.BigDNAMer{3}[CTG, TGC, GCA, CAA]\n",
      "proposed_path = BioSequences.BigDNAMer{3}[AGC, GCC, CCT, CTG]\n",
      "proposed_path = BioSequences.BigDNAMer{3}[AGC, GCC, CCT, CTG, TGC, GCA, CAA]\n",
      "opening_missing_kmer_path_index = nothing\n"
     ]
    }
   ],
   "source": [
    "proposed_path = BioSequences.BigDNAMer{k}[]\n",
    "opening_missing_kmer_path_index = findfirst(x -> x == 0, kmer_index)\n",
    "closing_solid_kmer_path_index = 0\n",
    "\n",
    "if opening_missing_kmer_path_index == 1\n",
    "    opening_solid_kmer = nothing\n",
    "elseif opening_missing_kmer_path_index != nothing\n",
    "    opening_solid_kmer_path_index = opening_missing_kmer_path_index - 1\n",
    "    opening_solid_kmer = observation_kmers[opening_solid_kmer_path_index].fw\n",
    "    closing_solid_kmer_path_index = findnext(map(x -> x != 0, kmer_index), opening_missing_kmer_path_index+1)\n",
    "    if closing_solid_kmer_path_index == nothing\n",
    "        @show \"end is open\"\n",
    "        closing_solid_kmer = nothing\n",
    "    else\n",
    "        closing_solid_kmer = observation_kmers[closing_solid_kmer_path_index].fw\n",
    "    end\n",
    "end\n",
    "\n",
    "iterations = 0\n",
    "while (opening_missing_kmer_path_index != nothing) && (iterations < 5)\n",
    "    iterations += 1\n",
    "    @show iterations\n",
    "\n",
    "    if (opening_solid_kmer == nothing) && (closing_solid_kmer != nothing)\n",
    "        @show \"missing opening\"\n",
    "        @show closing_solid_kmer\n",
    "        inverted_closing_solid_kmer = BioSequences.reverse_complement(closing_solid_kmer)\n",
    "        @show inverted_closing_solid_kmer\n",
    "        walk_length = closing_solid_kmer_path_index\n",
    "        @show inverted_closing_solid_kmer\n",
    "        chosen_walk = take_a_walk(graph, edge_likelihoods, kmers, inverted_closing_solid_kmer, walk_length)\n",
    "        chosen_walk = reverse(BioSequences.reverse_complement.(chosen_walk))\n",
    "        @show chosen_walk\n",
    "        @assert observation_kmers[closing_solid_kmer_path_index].fw == last(chosen_walk)\n",
    "        proposed_path = chosen_walk\n",
    "        opening_missing_kmer_path_index = findnext(map(x -> x == 0, kmer_index), closing_solid_kmer_path_index+1)\n",
    "        \n",
    "        if opening_missing_kmer_path_index == 1\n",
    "            opening_solid_kmer = nothing\n",
    "        elseif opening_missing_kmer_path_index != nothing\n",
    "            opening_solid_kmer_path_index = opening_missing_kmer_path_index - 1\n",
    "            opening_solid_kmer = observation_kmers[opening_solid_kmer_path_index].fw\n",
    "            closing_solid_kmer_path_index = findnext(map(x -> x != 0, kmer_index), opening_missing_kmer_path_index+1)\n",
    "            if closing_solid_kmer_path_index == nothing\n",
    "                closing_solid_kmer = nothing\n",
    "            else\n",
    "                closing_solid_kmer = observation_kmers[closing_solid_kmer_path_index].fw\n",
    "            end\n",
    "        end\n",
    "    end\n",
    "    \n",
    "    if (opening_solid_kmer != nothing) && (closing_solid_kmer == nothing)\n",
    "        @show \"missing closing\"\n",
    "        walk_length = length(observation_kmers) - opening_solid_kmer_path_index+1\n",
    "        chosen_walk = take_a_walk(graph, edge_likelihoods, kmers, opening_solid_kmer, walk_length)\n",
    "        @show chosen_walk\n",
    "        @assert observation_kmers[opening_solid_kmer_path_index].fw == first(chosen_walk)\n",
    "        proposed_path = getproperty.(observation_kmers[length(proposed_path)+1:opening_solid_kmer_path_index], :fw)\n",
    "#         proposed_path = \n",
    "        append!(proposed_path, chosen_walk[2:end])\n",
    "        opening_missing_kmer_path_index = nothing\n",
    "    end\n",
    "    \n",
    "    while (opening_solid_kmer != nothing) && (closing_solid_kmer != nothing)\n",
    "        @show \"bubble!\"\n",
    "        opening_solid_kmer_index = kmer_index[opening_solid_kmer_path_index]\n",
    "        closing_solid_kmer_index = kmer_index[closing_solid_kmer_path_index]\n",
    "        if opening_solid_kmer_index != closing_solid_kmer_index\n",
    "            path = LightGraphs.a_star(graph, opening_solid_kmer_index, closing_solid_kmer_index)\n",
    "            normalized_path = Int[path[1].src, [edge.dst for edge in path]...]\n",
    "            shortest_paths = [normalized_path]\n",
    "        else\n",
    "            neighbors = LightGraphs.neighbors(graph, opening_solid_kmer_index)\n",
    "            shortest_paths = Vector{Vector{Int}}()\n",
    "            for neighbor in neighbors\n",
    "                path = LightGraphs.a_star(graph, neighbor, closing_solid_kmer_index)\n",
    "                normalized_path = Int[path[1].src, [edge.dst for edge in path]...]\n",
    "                push!(shortest_paths, normalized_path)\n",
    "            end\n",
    "        end\n",
    "        walk_length = Int(ceil(max(closing_solid_kmer_path_index - opening_solid_kmer_path_index + 1, maximum(length.(shortest_paths))) * 1.1))\n",
    "        walks = [take_a_walk(graph, edge_likelihoods, kmers, opening_solid_kmer, walk_length)]\n",
    "        while allunique(walks)\n",
    "            push!(walks, take_a_walk(graph, edge_likelihoods, kmers, opening_solid_kmer, walk_length))\n",
    "        end\n",
    "        @show walks\n",
    "        walks = filter(path -> closing_solid_kmer in path, walks)\n",
    "        @show walks\n",
    "        if !isempty(walks)\n",
    "            selected_path = rand(walks)\n",
    "            selected_path = selected_path[1:findlast(kmer -> kmer == closing_solid_kmer, selected_path)]\n",
    "            @show selected_path\n",
    "            proposed_path = getproperty.(observation_kmers[length(proposed_path)+1:opening_solid_kmer_path_index], :fw)\n",
    "            @show proposed_path\n",
    "            append!(proposed_path, selected_path[2:end])\n",
    "            @show proposed_path\n",
    "            opening_missing_kmer_path_index = findnext(map(x -> x == 0, kmer_index), closing_solid_kmer_path_index+1)\n",
    "            @show opening_missing_kmer_path_index\n",
    "            if opening_missing_kmer_path_index == nothing\n",
    "                #done\n",
    "                opening_solid_kmer = nothing\n",
    "            elseif opening_missing_kmer_path_index == 1\n",
    "                opening_solid_kmer = nothing\n",
    "            elseif opening_missing_kmer_path_index != nothing\n",
    "                opening_solid_kmer_path_index = opening_missing_kmer_path_index - 1\n",
    "                opening_solid_kmer = observation_kmers[opening_solid_kmer_path_index].fw\n",
    "                closing_solid_kmer_path_index = findnext(map(x -> x != 0, kmer_index), opening_missing_kmer_path_index+1)\n",
    "                if closing_solid_kmer_path_index == nothing\n",
    "                    closing_solid_kmer = nothing\n",
    "                else\n",
    "                    closing_solid_kmer = observation_kmers[closing_solid_kmer_path_index].fw\n",
    "                end\n",
    "            end\n",
    "        else\n",
    "            @show \"need to bump out\"\n",
    "            if opening_missing_kmer_path_index >= 2\n",
    "                opening_missing_kmer_path_index -= 1\n",
    "                opening_solid_kmer = nothing\n",
    "                # this should now break out to larger while loop\n",
    "            end\n",
    "            # push out closing node and try again\n",
    "            closing_solid_kmer_path_index = findnext(map(x -> x != 0, kmer_index), closing_solid_kmer_path_index+1)\n",
    "\n",
    "            if closing_solid_kmer_path_index == nothing\n",
    "                @show \"end is open\"\n",
    "                closing_solid_kmer = nothing\n",
    "            else\n",
    "                closing_solid_kmer = observation_kmers[closing_solid_kmer_path_index].fw\n",
    "            end\n",
    "        end\n",
    "    end\n",
    "end"
   ]
  },
  {
   "cell_type": "code",
   "execution_count": 170,
   "id": "9a2298d6-2e23-4f47-afad-f2ba17fbcfd3",
   "metadata": {},
   "outputs": [
    {
     "data": {
      "text/plain": [
       "8-element Vector{BioSequences.BigDNAMer{3}}:\n",
       " AGC\n",
       " GCC\n",
       " CCT\n",
       " CTG\n",
       " TGC\n",
       " GCA\n",
       " CAA\n",
       " AAA"
      ]
     },
     "execution_count": 170,
     "metadata": {},
     "output_type": "execute_result"
    }
   ],
   "source": [
    "if closing_solid_kmer_path_index != nothing\n",
    "    append!(proposed_path, getproperty.(observation_kmers[closing_solid_kmer_path_index+1:end], :fw))\n",
    "end"
   ]
  },
  {
   "cell_type": "code",
   "execution_count": 171,
   "id": "4dbafba3-caad-4f1a-98b4-9bb1a6d25050",
   "metadata": {},
   "outputs": [
    {
     "data": {
      "text/plain": [
       "3nt DNA Sequence:\n",
       "AGC"
      ]
     },
     "execution_count": 171,
     "metadata": {},
     "output_type": "execute_result"
    }
   ],
   "source": [
    "proposed_seq = BioSequences.LongDNASeq(first(proposed_path))"
   ]
  },
  {
   "cell_type": "code",
   "execution_count": 172,
   "id": "79f2a512-a285-4951-900b-d0fd94db25be",
   "metadata": {},
   "outputs": [
    {
     "data": {
      "text/plain": [
       "10nt DNA Sequence:\n",
       "AGCCTGCAAA"
      ]
     },
     "execution_count": 172,
     "metadata": {},
     "output_type": "execute_result"
    }
   ],
   "source": [
    "for kmer in proposed_path[2:end]\n",
    "    push!(proposed_seq, last(kmer))\n",
    "end\n",
    "proposed_seq"
   ]
  },
  {
   "cell_type": "code",
   "execution_count": 173,
   "id": "46006c09-daf3-4628-8585-7946328c975f",
   "metadata": {},
   "outputs": [
    {
     "data": {
      "text/plain": [
       "BioAlignments.PairwiseAlignmentResult{Int64, BioSequences.LongDNASeq, BioSequences.LongDNASeq}:\n",
       "  distance: 0\n",
       "  seq:  1 AGCCTGCAAA 10\n",
       "          ||||||||||\n",
       "  ref:  1 AGCCTGCAAA 10\n"
      ]
     },
     "execution_count": 173,
     "metadata": {},
     "output_type": "execute_result"
    }
   ],
   "source": [
    "new_alignment = BioAlignments.pairalign(BioAlignments.LevenshteinDistance(), proposed_seq, genome)"
   ]
  },
  {
   "cell_type": "code",
   "execution_count": 174,
   "id": "7dddb7f3-7466-4852-bd9a-ec365d56c3a2",
   "metadata": {},
   "outputs": [
    {
     "data": {
      "text/plain": [
       "BioAlignments.PairwiseAlignmentResult{Int64, BioSequences.LongDNASeq, BioSequences.LongDNASeq}:\n",
       "  distance: 8\n",
       "  seq:  0 --TTTGCAGGCT 10\n",
       "              ||||    \n",
       "  ref:  1 AGCCTGCA--AA 10\n"
      ]
     },
     "execution_count": 174,
     "metadata": {},
     "output_type": "execute_result"
    }
   ],
   "source": [
    "reverse_new_alignment = BioAlignments.pairalign(BioAlignments.LevenshteinDistance(), BioSequences.reverse_complement(proposed_seq), genome)"
   ]
  },
  {
   "cell_type": "code",
   "execution_count": 175,
   "id": "0bcb9396-faf4-4c0d-bc85-8f13c9016229",
   "metadata": {},
   "outputs": [],
   "source": [
    "if reverse_new_alignment.value < new_alignment.value\n",
    "#     observation = BioSequences.reverse_complement!(observation)\n",
    "    new_alignment = reverse_new_alignment\n",
    "    @show \"flipping\"\n",
    "end"
   ]
  },
  {
   "cell_type": "code",
   "execution_count": 176,
   "id": "697153c4-416f-4308-80c9-216df5c4e893",
   "metadata": {},
   "outputs": [],
   "source": [
    "@assert new_alignment.value <= alignment.value"
   ]
  },
  {
   "cell_type": "code",
   "execution_count": null,
   "id": "42aba532-0354-4650-88ea-06f3cc884540",
   "metadata": {},
   "outputs": [],
   "source": []
  }
 ],
 "metadata": {
  "kernelspec": {
   "display_name": "Julia 1.6.1",
   "language": "julia",
   "name": "julia-1.6"
  },
  "language_info": {
   "file_extension": ".jl",
   "mimetype": "application/julia",
   "name": "julia",
   "version": "1.6.1"
  }
 },
 "nbformat": 4,
 "nbformat_minor": 5
}
