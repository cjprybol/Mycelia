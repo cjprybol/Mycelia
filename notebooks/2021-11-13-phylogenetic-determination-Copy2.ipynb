{
 "cells": [
  {
   "cell_type": "code",
   "execution_count": 1,
   "metadata": {},
   "outputs": [],
   "source": [
    "TODAY=\"2021-11-13\"\n",
    "TASK = \"phylogenetic-determination\"\n",
    "DIR = \"$(homedir())/$(TODAY)-$(TASK)\"\n",
    "if !isdir(DIR)\n",
    "    mkdir(DIR)\n",
    "end\n",
    "cd(DIR)"
   ]
  },
  {
   "cell_type": "code",
   "execution_count": 2,
   "metadata": {},
   "outputs": [],
   "source": [
    "# alternative workflow would be to utilize ezAAI http://leb.snu.ac.kr/ezaai\n",
    "# or recreate ezAAI with diamond\n",
    "\n",
    "# use the genus assignment of the phage, and then assume the family level assignment from the genus classification\n",
    "# require that scale dependent, correlation, and probability based genus is consisent, otherwise flag"
   ]
  },
  {
   "cell_type": "code",
   "execution_count": 3,
   "metadata": {},
   "outputs": [],
   "source": [
    "import Pkg\n",
    "\n",
    "pkgs = [\n",
    "\"JSON\",\n",
    "\"HTTP\",\n",
    "\"Dates\",\n",
    "\"uCSV\",\n",
    "\"DelimitedFiles\",\n",
    "\"DataFrames\",\n",
    "\"ProgressMeter\",\n",
    "\"BioSequences\",\n",
    "\"FASTX\",\n",
    "\"Distances\",\n",
    "\"Plots\",\n",
    "\"StatsPlots\",\n",
    "\"StatsBase\",\n",
    "\"Statistics\",\n",
    "\"Mmap\",\n",
    "\"MultivariateStats\",\n",
    "\"PyCall\",\n",
    "\"Random\",\n",
    "\"Primes\",\n",
    "\"Revise\",\n",
    "\"SparseArrays\",\n",
    "\"SHA\",\n",
    "\"Mycelia\",\n",
    "\"GenomicAnnotations\",\n",
    "\"BioFetch\",\n",
    "\"Combinatorics\",\n",
    "\"StaticArrays\",\n",
    "\"BioSymbols\",\n",
    "\"RollingFunctions\",\n",
    "\"OrderedCollections\"\n",
    "]\n",
    "\n",
    "for pkg in pkgs\n",
    "    try\n",
    "        eval(Meta.parse(\"import $pkg\"))\n",
    "    catch\n",
    "        Pkg.add(pkg)\n",
    "        eval(Meta.parse(\"import $pkg\"))\n",
    "    end\n",
    "end"
   ]
  },
  {
   "cell_type": "code",
   "execution_count": 4,
   "metadata": {},
   "outputs": [
    {
     "data": {
      "text/plain": [
       "generate_all_possible_canonical_kmers (generic function with 1 method)"
      ]
     },
     "execution_count": 4,
     "metadata": {},
     "output_type": "execute_result"
    }
   ],
   "source": [
    "function generate_all_possible_kmers(k, alphabet)\n",
    "    kmer_iterator = Iterators.product([alphabet for i in 1:k]...)\n",
    "    kmer_vectors = collect.(vec(collect(kmer_iterator)))\n",
    "    if eltype(alphabet) == BioSymbols.AminoAcid\n",
    "        kmers = BioSequences.LongAminoAcidSeq.(kmer_vectors)\n",
    "    elseif eltype(alphabet) == BioSymbols.DNA\n",
    "        kmers = BioSequences.LongDNASeq.(kmer_vectors)\n",
    "    else\n",
    "        error()\n",
    "    end\n",
    "    return sort!(kmers)\n",
    "end\n",
    "\n",
    "function generate_all_possible_canonical_kmers(k, alphabet)\n",
    "    kmers = generate_all_possible_kmers(k, alphabet)\n",
    "    if eltype(alphabet) == BioSymbols.AminoAcid\n",
    "        return kmers\n",
    "    elseif eltype(alphabet) == BioSymbols.DNA\n",
    "        return BioSequences.DNAMer.(unique!(BioSequences.canonical.(kmers)))\n",
    "    else\n",
    "        error()\n",
    "    end\n",
    "end"
   ]
  },
  {
   "cell_type": "code",
   "execution_count": 5,
   "metadata": {},
   "outputs": [
    {
     "data": {
      "text/plain": [
       "count_canonical_aamers (generic function with 1 method)"
      ]
     },
     "execution_count": 5,
     "metadata": {},
     "output_type": "execute_result"
    }
   ],
   "source": [
    "function count_canonical_aamers(k, fasta_proteins)\n",
    "    aamer_counts = OrderedCollections.OrderedDict{BioSequences.LongAminoAcidSeq, Int64}()\n",
    "    for protein in fasta_proteins\n",
    "        s = FASTX.sequence(protein)\n",
    "        these_counts = sort(StatsBase.countmap([s[i:i+k-1] for i in 1:length(s)-k-1]))\n",
    "        merge!(+, aamer_counts, these_counts)\n",
    "    end\n",
    "    return sort(aamer_counts)\n",
    "end"
   ]
  },
  {
   "cell_type": "code",
   "execution_count": 6,
   "metadata": {},
   "outputs": [
    {
     "data": {
      "text/plain": [
       "update_counts_matrix! (generic function with 1 method)"
      ]
     },
     "execution_count": 6,
     "metadata": {},
     "output_type": "execute_result"
    }
   ],
   "source": [
    "function update_counts_matrix!(matrix, sample_index, countmap, sorted_kmers)\n",
    "    for (i, kmer) in enumerate(sorted_kmers)\n",
    "        matrix[i, sample_index] = get(countmap, kmer, 0)\n",
    "    end\n",
    "    return matrix\n",
    "end"
   ]
  },
  {
   "cell_type": "code",
   "execution_count": 7,
   "metadata": {},
   "outputs": [
    {
     "data": {
      "text/plain": [
       "accession_list_to_counts_table (generic function with 1 method)"
      ]
     },
     "execution_count": 7,
     "metadata": {},
     "output_type": "execute_result"
    }
   ],
   "source": [
    "function accession_list_to_counts_table(;accession_list, k, alphabet, outfile=\"\")\n",
    "    if alphabet == :AA\n",
    "        canonical_mers = generate_all_possible_canonical_kmers(k, AA_ALPHABET)\n",
    "    elseif alphabet == :DNA\n",
    "        canonical_mers = generate_all_possible_canonical_kmers(k, DNA_ALPHABET)\n",
    "    else\n",
    "        error(\"invalid alphabet\")\n",
    "    end\n",
    "    if isempty(outfile)\n",
    "        outfile = joinpath(pwd(), \"$(hash(accession_list)).$(alphabet).k$(k).bin\")\n",
    "    end\n",
    "    if isfile(outfile)\n",
    "        println(\"$outfile found, loading into memory\")\n",
    "        mer_counts_matrix = Mmap.mmap(outfile, Array{Int, 2}, (length(canonical_mers), length(accession_list)))\n",
    "    else\n",
    "        println(\"creating new counts matrix $outfile\")\n",
    "        mer_counts_matrix = Mmap.mmap(outfile, Array{Int, 2}, (length(canonical_mers), length(accession_list)))\n",
    "        mer_counts_matrix .= 0\n",
    "        ProgressMeter.@showprogress for (entity_index, accession) in enumerate(accession_list)\n",
    "            fna_file = \"$(accession).fna\"\n",
    "            if !isfile(fna_file)\n",
    "                open(FASTX.FASTA.Writer, fna_file) do fastx_io\n",
    "                    for record in Mycelia.get_sequence(db=\"nuccore\", accession = accession)\n",
    "                        write(fastx_io, record)\n",
    "                    end\n",
    "                end\n",
    "            end\n",
    "            if alphabet == :DNA\n",
    "                entity_mer_counts = Mycelia.count_canonical_kmers(BioSequences.DNAMer{dna_k}, fna_file)\n",
    "            elseif alphabet == :AA\n",
    "                faa_file = \"$(accession).fna.faa\"\n",
    "                if !isfile(faa_file)\n",
    "                    run(pipeline(`prodigal -i $(fna_file) -o $(fna_file).genes -a $(faa_file) -p meta`, stderr=\"$(fna_file).prodigal.stderr\"))\n",
    "                end\n",
    "                entity_mer_counts = count_canonical_aamers(aa_k, collect(FASTX.FASTA.Reader(open(faa_file))))\n",
    "            end\n",
    "            update_counts_matrix!(mer_counts_matrix, entity_index, entity_mer_counts, canonical_mers)            \n",
    "        end\n",
    "    end\n",
    "    return mer_counts_matrix\n",
    "end"
   ]
  },
  {
   "cell_type": "code",
   "execution_count": 8,
   "metadata": {},
   "outputs": [],
   "source": [
    "# function accession_list_to_aamer_counts_table(accession_list, k, AA_ALPHABET; outfile=\"\")\n",
    "#     if isempty(outfile)\n",
    "#         outfile = joinpath(pwd(), \"$(hash(accession_list)).AA.k$(k).bin\")\n",
    "#     end\n",
    "#     @show outfile\n",
    "#     canonical_aamers = generate_all_possible_canonical_kmers(k, AA_ALPHABET)\n",
    "#     if !isfile(outfile)\n",
    "#         aamer_counts_matrix = Mmap.mmap(outfile, Array{Int, 2}, (length(canonical_aamers), length(accession_list)))\n",
    "#         aamer_counts_matrix .= 0\n",
    "#         ProgressMeter.@showprogress for (entity_index, accession) in enumerate(accession_list)\n",
    "#             fna_file = \"$(accession).fna\"\n",
    "#             if !isfile(fna_file)\n",
    "#                 open(FASTX.FASTA.Writer, fna_file) do fastx_io\n",
    "#                     for record in Mycelia.get_sequence(db=\"nuccore\", accession = accession)\n",
    "#                         write(fastx_io, record)\n",
    "#                     end\n",
    "#                 end\n",
    "#             end\n",
    "#             faa_file = \"$(accession).fna.faa\"\n",
    "#             if !isfile(faa_file)\n",
    "#                 run(pipeline(`prodigal -i $(fna_file) -o $(fna_file).genes -a $(faa_file) -p meta`, stderr=\"$(fna_file).prodigal.stderr\"))\n",
    "#             end\n",
    "#             entity_aamer_counts = count_canonical_aamers(aa_k, collect(FASTX.FASTA.Reader(open(faa_file))))\n",
    "#             update_counts_matrix!(aamer_counts_matrix, entity_index, entity_aamer_counts, canonical_aamers)\n",
    "#         end\n",
    "#     else\n",
    "#         aamer_counts_matrix = Mmap.mmap(outfile, Array{Int, 2}, (length(canonical_aamers), length(accession_list)))\n",
    "#     end\n",
    "#     return aamer_counts_matrix\n",
    "# end"
   ]
  },
  {
   "cell_type": "code",
   "execution_count": 9,
   "metadata": {},
   "outputs": [],
   "source": [
    "# function accession_list_to_dnamer_counts_table(accession_list, k; outfile = \"\")\n",
    "#     if isempty(outfile)\n",
    "#         outfile = joinpath(pwd(), \"$(hash(accession_list)).DNA.k$(k).bin\")\n",
    "#     end\n",
    "#     @show outfile\n",
    "#     canonical_dnamers = generate_all_possible_canonical_kmers(k, DNA_ALPHABET)\n",
    "#     if !isfile(outfile)\n",
    "#         dnamer_counts_matrix = Mmap.mmap(outfile, Array{Int, 2}, (length(canonical_dnamers), length(accession_list)))\n",
    "#         dnamer_counts_matrix .= 0\n",
    "#         ProgressMeter.@showprogress for (entity_index, accession) in enumerate(accession_list)\n",
    "#             fna_file = \"$(accession).fna\"\n",
    "#             if !isfile(fna_file)\n",
    "#                 open(FASTX.FASTA.Writer, fna_file) do fastx_io\n",
    "#                     for record in Mycelia.get_sequence(db=\"nuccore\", accession = accession)\n",
    "#                         write(fastx_io, record)\n",
    "#                     end\n",
    "#                 end\n",
    "#             end\n",
    "#             entity_dnamer_counts = Mycelia.count_canonical_kmers(BioSequences.DNAMer{dna_k}, fna_file)\n",
    "#             update_counts_matrix!(dnamer_counts_matrix, entity_index, entity_dnamer_counts, canonical_dnamers)\n",
    "#         end\n",
    "#     else\n",
    "#         dnamer_counts_matrix = Mmap.mmap(outfile, Array{Int, 2}, (length(canonical_dnamers), length(accession_list)))\n",
    "#     end\n",
    "#     return dnamer_counts_matrix \n",
    "# end"
   ]
  },
  {
   "cell_type": "code",
   "execution_count": 10,
   "metadata": {},
   "outputs": [
    {
     "data": {
      "text/plain": [
       "normalize_distance_matrix (generic function with 1 method)"
      ]
     },
     "execution_count": 10,
     "metadata": {},
     "output_type": "execute_result"
    }
   ],
   "source": [
    "function normalize_distance_matrix(distance_matrix)\n",
    "    max_non_nan_value = maximum(filter(x -> !isnan(x) && !isnothing(x) && !ismissing(x), vec(distance_matrix)))\n",
    "    return distance_matrix ./ max_non_nan_value\n",
    "end"
   ]
  },
  {
   "cell_type": "code",
   "execution_count": 11,
   "metadata": {},
   "outputs": [
    {
     "data": {
      "text/plain": [
       "count_matrix_to_probability_matrix (generic function with 1 method)"
      ]
     },
     "execution_count": 11,
     "metadata": {},
     "output_type": "execute_result"
    }
   ],
   "source": [
    "function count_matrix_to_probability_matrix(counts_matrix)\n",
    "    probability_matrix = copy(counts_matrix)\n",
    "    for (i, col) in enumerate(eachcol(probability_matrix))\n",
    "        probability_matrix[:, i] .= col ./ sum(col)\n",
    "    end\n",
    "    return probability_matrix\n",
    "end"
   ]
  },
  {
   "cell_type": "code",
   "execution_count": 12,
   "metadata": {},
   "outputs": [
    {
     "data": {
      "text/plain": [
       "\"/home/jupyter-cjprybol/.julia/dev/Mycelia/metadata\""
      ]
     },
     "execution_count": 12,
     "metadata": {},
     "output_type": "execute_result"
    }
   ],
   "source": [
    "# MYCELIA_METADATA = joinpath(Pkg.dir(\"Mycelia\"), \"metadata\")\n",
    "MYCELIA_METADATA = joinpath(dirname(dirname(pathof(Mycelia))),  \"metadata\")"
   ]
  },
  {
   "cell_type": "code",
   "execution_count": 13,
   "metadata": {},
   "outputs": [
    {
     "data": {
      "text/plain": [
       "(DNA_A, DNA_C, DNA_G, DNA_T)"
      ]
     },
     "execution_count": 13,
     "metadata": {},
     "output_type": "execute_result"
    }
   ],
   "source": [
    "# AA_ALPHABET = collect(filter(x -> x != BioSequences.AA_Term, Mycelia.AA_ALPHABET))\n",
    "AA_ALPHABET = Mycelia.AA_ALPHABET\n",
    "DNA_ALPHABET = Mycelia.DNA_ALPHABET"
   ]
  },
  {
   "cell_type": "code",
   "execution_count": 14,
   "metadata": {},
   "outputs": [
    {
     "data": {
      "text/html": [
       "<div class=\"data-frame\"><p>13,138 rows × 23 columns (omitted printing of 20 columns)</p><table class=\"data-frame\"><thead><tr><th></th><th>Accession</th><th>SRA_Accession</th><th>Submitters</th></tr><tr><th></th><th title=\"String\">String</th><th title=\"String\">String</th><th title=\"String\">String</th></tr></thead><tbody><tr><th>1</th><td>AB002632.1</td><td></td><td>Ikema,M., Honma,Y.</td></tr><tr><th>2</th><td>AB008550.1</td><td></td><td>Hayashi,T., Kamio,Y., Hishinuma,F., Usami,Y., Titani,K., Terawaki,Y., Matsumoto,H., Ohnishi,M., Nakayama,K., Kanaya,S.</td></tr><tr><th>3</th><td>AB012573.1</td><td></td><td>Chang,B., Taniguchi,H., Miyamoto,H., Yoshida,S.</td></tr><tr><th>4</th><td>AB012574.1</td><td></td><td>Chang,B., Taniguchi,H., Miyamoto,H., Yoshida,S.</td></tr><tr><th>5</th><td>AB043678.1</td><td></td><td>Chang,B., Miyamoto,H., Ogawa,M., Yoshida,S., Taniguchi,H.</td></tr><tr><th>6</th><td>AB043679.1</td><td></td><td>Chan,B., Miyamoto,H., Taniguchi,H., Yoshida,S., Chang,B.</td></tr><tr><th>7</th><td>AB045978.2</td><td></td><td>Narita,S., Kaneko,J., Chiba,J., Piemont,Y., Jarraud,S., Etienne,J., Kamio,Y.</td></tr><tr><th>8</th><td>AB063393.2</td><td></td><td>Matsushita,I., Yanase,H., Kawasaki,H.</td></tr><tr><th>9</th><td>AB102868.1</td><td></td><td>Tanaka,K., Nishimori,K., Makino,S., Nishimori,T., Kanno,T., Ishihara,R., Sameshima,T., Akiba,M., Nakazawa,M., Yokomizo,Y., Uchida,I.</td></tr><tr><th>10</th><td>AB231700.1</td><td></td><td>Yoshida,T., Nagasaki,K., Takashima,Y., Shirai,Y., Tomaru,Y., Takao,Y., Sakamoto,S., Hiroishi,S., Ogata,H.</td></tr><tr><th>11</th><td>AB243556.1</td><td></td><td>Ma,X.X., Ito,T., Chongtrakool,P., Hiramatsu,K.</td></tr><tr><th>12</th><td>AB255436.1</td><td></td><td>Yamamoto,T.</td></tr><tr><th>13</th><td>AB259123.2</td><td></td><td>Kawasaki,T., Nagata,S., Fujiwara,A., Satsuma,H., Fujie,M., Usami,S., Yamada,T.</td></tr><tr><th>14</th><td>AB259124.1</td><td></td><td>Kawasaki,T., Nagata,S., Fujiwara,A., Satsuma,H., Fujie,M., Usami,S., Yamada,T.</td></tr><tr><th>15</th><td>AB276040.1</td><td></td><td>Fujiwara,A., Kawasaki,T., Usami,S., Fujie,M., Yamada,T.</td></tr><tr><th>16</th><td>AB334720.1</td><td></td><td>Fujita,K., Ishibashi,T., Suzuki,K.</td></tr><tr><th>17</th><td>AB334721.1</td><td></td><td>Fujita,K., Ishibashi,T., Suzuki,K.</td></tr><tr><th>18</th><td>AB366653.2</td><td></td><td>Yamada,T., Satoh,S., Ishikawa,H., Fujiwara,A., Kawasaki,T., Fujie,M., Ogata,H.</td></tr><tr><th>19</th><td>AB370205.1</td><td></td><td>Hoshiba,H., Uchiyama,J., Kato,S., Ujihara,T., Muraoka,A., Daibata,M., Wakiguchi,H., Matsuzaki,S.</td></tr><tr><th>20</th><td>AB370268.1</td><td></td><td>Matsuzaki,S., Yasuda,M., Nishikawa,H., Kuroda,M., Ujihara,T., Shuin,T., Shen,Y., Jin,Z., Fujimoto,S., Nasimuzzaman,M.D., Wakiguchi,H., Sugihara,S., Sugiura,T., Koda,S., Muraoka,A., Imai,S., Hoshiba,H.</td></tr><tr><th>21</th><td>AB374228.1</td><td></td><td>Ehara,M., Nguyen,M.B., Nguyen,T.D., Ngo,C.T., Le,H.T., Nguyen,T.H., Iwami,M.</td></tr><tr><th>22</th><td>AB426868.1</td><td></td><td>Masago,Y., Fong,T.T., Rose,J.B., Fong,T.</td></tr><tr><th>23</th><td>AB434711.1</td><td></td><td>Askora,A., Kawasaki,T., Usami,S., Fujie,M., Yamada,T.</td></tr><tr><th>24</th><td>AB451219.1</td><td></td><td>Kawasaki,T., Shimizu,M., Satsuma,H., Fujiwara,A., Fujie,M., Usami,S., Yamada,T.</td></tr><tr><th>25</th><td>AB472900.2</td><td></td><td>Uchiyama,J., Maeda,Y., Takemura,I., Chess-Williams,R., Wakiguchi,H., Matsuzaki,S., Rashel,M., Kato,S., Ujihara,T., Muraoka,A., Daibata,M.</td></tr><tr><th>26</th><td>AB560486.1</td><td></td><td>Fukuda,K., Ishida,W., Uchiyama,J., Rashel,M., Kato,S., Morita,T., Muraoka,A., Sumi,T., Matsuzaki,S., Daibata,M., Fukushima,A.</td></tr><tr><th>27</th><td>AB572858.1</td><td></td><td>Nguyen,D.T., Ngo,T.C., Tran,H.H., Le,T.H., Nguyen,H.T., Nguyen,B.M., Tran,N.D., Yamashiro,T., Ehara,M., Nguyen,M.B., Nguyen,T.D., Ngo,C.T., Le,H.T., Nguyen,T.H., Tran,D.N.</td></tr><tr><th>28</th><td>AB597179.1</td><td></td><td>Kawasaki,T., Ishikawa,H., Shimizu,M., Omoto,W., Fujie,M., Yamada,T.</td></tr><tr><th>29</th><td>AB609718.1</td><td></td><td>Uchiyama,J., Takemura,I., Satoh,M., Kato,S., Ujihara,T., Akechi,K., Matsuzaki,S., Daibata,M.</td></tr><tr><th>30</th><td>AB626962.1</td><td></td><td>Uchiyama,J., Takemura,I., Matsuzaki,S., Daibata,M.</td></tr><tr><th>&vellip;</th><td>&vellip;</td><td>&vellip;</td><td>&vellip;</td></tr></tbody></table></div>"
      ],
      "text/latex": [
       "\\begin{tabular}{r|cccc}\n",
       "\t& Accession & SRA\\_Accession & Submitters & \\\\\n",
       "\t\\hline\n",
       "\t& String & String & String & \\\\\n",
       "\t\\hline\n",
       "\t1 & AB002632.1 &  & Ikema,M., Honma,Y. & $\\dots$ \\\\\n",
       "\t2 & AB008550.1 &  & Hayashi,T., Kamio,Y., Hishinuma,F., Usami,Y., Titani,K., Terawaki,Y., Matsumoto,H., Ohnishi,M., Nakayama,K., Kanaya,S. & $\\dots$ \\\\\n",
       "\t3 & AB012573.1 &  & Chang,B., Taniguchi,H., Miyamoto,H., Yoshida,S. & $\\dots$ \\\\\n",
       "\t4 & AB012574.1 &  & Chang,B., Taniguchi,H., Miyamoto,H., Yoshida,S. & $\\dots$ \\\\\n",
       "\t5 & AB043678.1 &  & Chang,B., Miyamoto,H., Ogawa,M., Yoshida,S., Taniguchi,H. & $\\dots$ \\\\\n",
       "\t6 & AB043679.1 &  & Chan,B., Miyamoto,H., Taniguchi,H., Yoshida,S., Chang,B. & $\\dots$ \\\\\n",
       "\t7 & AB045978.2 &  & Narita,S., Kaneko,J., Chiba,J., Piemont,Y., Jarraud,S., Etienne,J., Kamio,Y. & $\\dots$ \\\\\n",
       "\t8 & AB063393.2 &  & Matsushita,I., Yanase,H., Kawasaki,H. & $\\dots$ \\\\\n",
       "\t9 & AB102868.1 &  & Tanaka,K., Nishimori,K., Makino,S., Nishimori,T., Kanno,T., Ishihara,R., Sameshima,T., Akiba,M., Nakazawa,M., Yokomizo,Y., Uchida,I. & $\\dots$ \\\\\n",
       "\t10 & AB231700.1 &  & Yoshida,T., Nagasaki,K., Takashima,Y., Shirai,Y., Tomaru,Y., Takao,Y., Sakamoto,S., Hiroishi,S., Ogata,H. & $\\dots$ \\\\\n",
       "\t11 & AB243556.1 &  & Ma,X.X., Ito,T., Chongtrakool,P., Hiramatsu,K. & $\\dots$ \\\\\n",
       "\t12 & AB255436.1 &  & Yamamoto,T. & $\\dots$ \\\\\n",
       "\t13 & AB259123.2 &  & Kawasaki,T., Nagata,S., Fujiwara,A., Satsuma,H., Fujie,M., Usami,S., Yamada,T. & $\\dots$ \\\\\n",
       "\t14 & AB259124.1 &  & Kawasaki,T., Nagata,S., Fujiwara,A., Satsuma,H., Fujie,M., Usami,S., Yamada,T. & $\\dots$ \\\\\n",
       "\t15 & AB276040.1 &  & Fujiwara,A., Kawasaki,T., Usami,S., Fujie,M., Yamada,T. & $\\dots$ \\\\\n",
       "\t16 & AB334720.1 &  & Fujita,K., Ishibashi,T., Suzuki,K. & $\\dots$ \\\\\n",
       "\t17 & AB334721.1 &  & Fujita,K., Ishibashi,T., Suzuki,K. & $\\dots$ \\\\\n",
       "\t18 & AB366653.2 &  & Yamada,T., Satoh,S., Ishikawa,H., Fujiwara,A., Kawasaki,T., Fujie,M., Ogata,H. & $\\dots$ \\\\\n",
       "\t19 & AB370205.1 &  & Hoshiba,H., Uchiyama,J., Kato,S., Ujihara,T., Muraoka,A., Daibata,M., Wakiguchi,H., Matsuzaki,S. & $\\dots$ \\\\\n",
       "\t20 & AB370268.1 &  & Matsuzaki,S., Yasuda,M., Nishikawa,H., Kuroda,M., Ujihara,T., Shuin,T., Shen,Y., Jin,Z., Fujimoto,S., Nasimuzzaman,M.D., Wakiguchi,H., Sugihara,S., Sugiura,T., Koda,S., Muraoka,A., Imai,S., Hoshiba,H. & $\\dots$ \\\\\n",
       "\t21 & AB374228.1 &  & Ehara,M., Nguyen,M.B., Nguyen,T.D., Ngo,C.T., Le,H.T., Nguyen,T.H., Iwami,M. & $\\dots$ \\\\\n",
       "\t22 & AB426868.1 &  & Masago,Y., Fong,T.T., Rose,J.B., Fong,T. & $\\dots$ \\\\\n",
       "\t23 & AB434711.1 &  & Askora,A., Kawasaki,T., Usami,S., Fujie,M., Yamada,T. & $\\dots$ \\\\\n",
       "\t24 & AB451219.1 &  & Kawasaki,T., Shimizu,M., Satsuma,H., Fujiwara,A., Fujie,M., Usami,S., Yamada,T. & $\\dots$ \\\\\n",
       "\t25 & AB472900.2 &  & Uchiyama,J., Maeda,Y., Takemura,I., Chess-Williams,R., Wakiguchi,H., Matsuzaki,S., Rashel,M., Kato,S., Ujihara,T., Muraoka,A., Daibata,M. & $\\dots$ \\\\\n",
       "\t26 & AB560486.1 &  & Fukuda,K., Ishida,W., Uchiyama,J., Rashel,M., Kato,S., Morita,T., Muraoka,A., Sumi,T., Matsuzaki,S., Daibata,M., Fukushima,A. & $\\dots$ \\\\\n",
       "\t27 & AB572858.1 &  & Nguyen,D.T., Ngo,T.C., Tran,H.H., Le,T.H., Nguyen,H.T., Nguyen,B.M., Tran,N.D., Yamashiro,T., Ehara,M., Nguyen,M.B., Nguyen,T.D., Ngo,C.T., Le,H.T., Nguyen,T.H., Tran,D.N. & $\\dots$ \\\\\n",
       "\t28 & AB597179.1 &  & Kawasaki,T., Ishikawa,H., Shimizu,M., Omoto,W., Fujie,M., Yamada,T. & $\\dots$ \\\\\n",
       "\t29 & AB609718.1 &  & Uchiyama,J., Takemura,I., Satoh,M., Kato,S., Ujihara,T., Akechi,K., Matsuzaki,S., Daibata,M. & $\\dots$ \\\\\n",
       "\t30 & AB626962.1 &  & Uchiyama,J., Takemura,I., Matsuzaki,S., Daibata,M. & $\\dots$ \\\\\n",
       "\t$\\dots$ & $\\dots$ & $\\dots$ & $\\dots$ &  \\\\\n",
       "\\end{tabular}\n"
      ],
      "text/plain": [
       "\u001b[1m13138×23 DataFrame\u001b[0m\n",
       "\u001b[1m   Row \u001b[0m│\u001b[1m Accession  \u001b[0m\u001b[1m SRA_Accession \u001b[0m\u001b[1m Submitters                        \u001b[0m\u001b[1m Release\u001b[0m ⋯\n",
       "\u001b[1m       \u001b[0m│\u001b[90m String     \u001b[0m\u001b[90m String        \u001b[0m\u001b[90m String                            \u001b[0m\u001b[90m String \u001b[0m ⋯\n",
       "───────┼────────────────────────────────────────────────────────────────────────\n",
       "     1 │ AB002632.1                 Ikema,M., Honma,Y.                 1998-10 ⋯\n",
       "     2 │ AB008550.1                 Hayashi,T., Kamio,Y., Hishinuma,…  1998-12\n",
       "     3 │ AB012573.1                 Chang,B., Taniguchi,H., Miyamoto…  1998-10\n",
       "     4 │ AB012574.1                 Chang,B., Taniguchi,H., Miyamoto…  1998-10\n",
       "     5 │ AB043678.1                 Chang,B., Miyamoto,H., Ogawa,M.,…  2000-06 ⋯\n",
       "     6 │ AB043679.1                 Chan,B., Miyamoto,H., Taniguchi,…  2000-06\n",
       "     7 │ AB045978.2                 Narita,S., Kaneko,J., Chiba,J., …  2001-02\n",
       "     8 │ AB063393.2                 Matsushita,I., Yanase,H., Kawasa…  2002-12\n",
       "     9 │ AB102868.1                 Tanaka,K., Nishimori,K., Makino,…  2004-04 ⋯\n",
       "    10 │ AB231700.1                 Yoshida,T., Nagasaki,K., Takashi…  2006-11\n",
       "    11 │ AB243556.1                 Ma,X.X., Ito,T., Chongtrakool,P.…  2006-12\n",
       "   ⋮   │     ⋮             ⋮                        ⋮                          ⋱\n",
       " 13129 │ U24159.1                   Benjamin,R.C., Fitzmaurice,W.P.,…  1995-10\n",
       " 13130 │ U32222.1                   Kalionis,B., Dodd,I.B., Egan,J.B…  1995-09 ⋯\n",
       " 13131 │ U41758.1                   Hsia,R.-c., Bavoil,P.M.            1999-01\n",
       " 13132 │ U88974.1                   Stanley,E., Fitzgerald,G.F., Le …  1997-09\n",
       " 13133 │ X60322.1                   Kodaira,K., Nakano,K., Okada,S.,…  1992-05\n",
       " 13134 │ X60323.1                   Kodaira,K., Oki,M., Kakikawa,M.,…  1996-07 ⋯\n",
       " 13135 │ X96987.2                   Freire,R., Serrano,M., Salas,M.,…  1996-09\n",
       " 13136 │ Y13918.1                   Langewische,F.W., Balzer,A., Lut…  1997-09\n",
       " 13137 │ Z18946.1                   Hatfull,G.F., Sarkis,G.J., Donne…  1993-02\n",
       " 13138 │ Z47794.1                   Escarmis,C., Gomez,A., Garcia,E.…  1995-01 ⋯\n",
       "\u001b[36m                                               20 columns and 13117 rows omitted\u001b[0m"
      ]
     },
     "execution_count": 14,
     "metadata": {},
     "output_type": "execute_result"
    }
   ],
   "source": [
    "# https://www.ncbi.nlm.nih.gov/labs/virus/vssi/#/virus?SeqType_s=Nucleotide&VirusLineage_ss=Bacteriophage,%20all%20taxids&Completeness_s=complete\n",
    "entity_metadata = DataFrames.DataFrame(uCSV.read(\"$(MYCELIA_METADATA)/2021-11-13-ncbi-complete-bacteriophage.csv\", header=1, quotes='\"')...)\n",
    "sort!(entity_metadata, \"Accession\")\n",
    "entity_metadata = entity_metadata[entity_metadata[!, \"Nuc_Completeness\"] .== \"complete\", :]\n",
    "# filter down to only include labelled genera\n",
    "entity_metadata = entity_metadata[.!isempty.(entity_metadata[!, \"Genus\"]), :]\n",
    "# filter down to only include genera that are present at least once\n",
    "genera_counts = sort(collect(StatsBase.countmap(entity_metadata[!, \"Genus\"])), by=x->x[2], rev=true)\n",
    "min_threshold = 2\n",
    "repeat_genera = Set(first.(filter(x -> x[2] >= min_threshold, genera_counts)))\n",
    "entity_metadata = entity_metadata[map(genus -> genus in repeat_genera, entity_metadata[!, \"Genus\"]), :]"
   ]
  },
  {
   "cell_type": "code",
   "execution_count": 15,
   "metadata": {},
   "outputs": [
    {
     "data": {
      "text/plain": [
       "13138-element Vector{String}:\n",
       " \"AB002632.1\"\n",
       " \"AB008550.1\"\n",
       " \"AB012573.1\"\n",
       " \"AB012574.1\"\n",
       " \"AB043678.1\"\n",
       " \"AB043679.1\"\n",
       " \"AB045978.2\"\n",
       " \"AB063393.2\"\n",
       " \"AB102868.1\"\n",
       " \"AB231700.1\"\n",
       " \"AB243556.1\"\n",
       " \"AB255436.1\"\n",
       " \"AB259123.2\"\n",
       " ⋮\n",
       " \"OK483201.1\"\n",
       " \"U02303.1\"\n",
       " \"U24159.1\"\n",
       " \"U32222.1\"\n",
       " \"U41758.1\"\n",
       " \"U88974.1\"\n",
       " \"X60322.1\"\n",
       " \"X60323.1\"\n",
       " \"X96987.2\"\n",
       " \"Y13918.1\"\n",
       " \"Z18946.1\"\n",
       " \"Z47794.1\""
      ]
     },
     "execution_count": 15,
     "metadata": {},
     "output_type": "execute_result"
    }
   ],
   "source": [
    "accession_list = entity_metadata[!, \"Accession\"]"
   ]
  },
  {
   "cell_type": "code",
   "execution_count": 16,
   "metadata": {},
   "outputs": [
    {
     "data": {
      "text/plain": [
       "3"
      ]
     },
     "execution_count": 16,
     "metadata": {},
     "output_type": "execute_result"
    }
   ],
   "source": [
    "# these are too small, all of the within vs between have some disagreement\n",
    "# dna_k = 5\n",
    "# aa_k = 2\n",
    "dna_k = 7\n",
    "aa_k = 3"
   ]
  },
  {
   "cell_type": "code",
   "execution_count": null,
   "metadata": {},
   "outputs": [],
   "source": [
    "# run(`sudo conda install -c bioconda prodigal`)"
   ]
  },
  {
   "cell_type": "code",
   "execution_count": null,
   "metadata": {},
   "outputs": [],
   "source": [
    "# # dnamer_counts_matrix = accession_list_to_dnamer_counts_table(accession_list, dna_k)\n",
    "# mkpath(\"$(DIR)/data\")\n",
    "# cd(\"$(DIR)/data\")\n",
    "# dnamer_counts_matrix = accession_list_to_counts_table(accession_list=accession_list, k=dna_k, alphabet=:DNA)\n",
    "# cd(DIR)"
   ]
  },
  {
   "cell_type": "code",
   "execution_count": 17,
   "metadata": {},
   "outputs": [
    {
     "name": "stdout",
     "output_type": "stream",
     "text": [
      "creating new counts matrix /home/jupyter-cjprybol/2021-11-13-phylogenetic-determination/data/8861628634012713288.AA.k3.bin\n"
     ]
    },
    {
     "name": "stderr",
     "output_type": "stream",
     "text": [
      "\u001b[32mProgress: 100%|█████████████████████████████████████████| Time: 2:08:08\u001b[39m\n"
     ]
    }
   ],
   "source": [
    "# aamer_counts_matrix = accession_list_to_aamer_counts_table(accession_list, aa_k, AA_ALPHABET)\n",
    "mkpath(\"$(DIR)/data\")\n",
    "cd(\"$(DIR)/data\")\n",
    "aamer_counts_matrix = accession_list_to_counts_table(accession_list=accession_list, k=aa_k, alphabet=:AA)\n",
    "cd(DIR)\n",
    "# /home/jupyter-cjprybol/2021-11-13-phylogenetic-determination/data/8861628634012713288.AA.k3.bin"
   ]
  },
  {
   "cell_type": "code",
   "execution_count": null,
   "metadata": {},
   "outputs": [],
   "source": [
    "unique_genera = filter(!isempty, sort(unique(entity_metadata[!, \"Genus\"])))\n",
    "unique_families = filter(!isempty, sort(unique(entity_metadata[!, \"Family\"])))"
   ]
  },
  {
   "cell_type": "code",
   "execution_count": null,
   "metadata": {},
   "outputs": [],
   "source": [
    "aamer_probability_matrix = count_matrix_to_probability_matrix(aamer_counts_matrix)\n",
    "dnamer_probility_matrix = count_matrix_to_probability_matrix(dnamer_counts_matrix)"
   ]
  },
  {
   "cell_type": "code",
   "execution_count": null,
   "metadata": {},
   "outputs": [],
   "source": [
    "# Euclidean\n",
    "# Correlation\n",
    "# Total Variation\n",
    "# assign at the genus level according to best average match"
   ]
  },
  {
   "cell_type": "code",
   "execution_count": null,
   "metadata": {},
   "outputs": [],
   "source": [
    "matrix_metric_grammar_groups = [\n",
    "        (normalize_distance_matrix(Distances.pairwise(Distances.euclidean, aamer_counts_matrix, dims=2)), \"euclidean\", \"AA\"), # good\n",
    "        (normalize_distance_matrix(Distances.pairwise(Distances.euclidean, dnamer_counts_matrix, dims=2)), \"euclidean\", \"DNA\"), # good\n",
    "        (normalize_distance_matrix(Distances.pairwise(Distances.cityblock, aamer_counts_matrix, dims=2)), \"cityblock\", \"AA\"), # redundant with above\n",
    "        (normalize_distance_matrix(Distances.pairwise(Distances.cityblock, dnamer_counts_matrix, dims=2)), \"cityblock\", \"DNA\"), # redundant with above\n",
    "        \n",
    "        (normalize_distance_matrix(Distances.pairwise(Distances.corr_dist, aamer_counts_matrix, dims=2)), \"corr_dist\", \"AA\"), # meh\n",
    "        (normalize_distance_matrix(Distances.pairwise(Distances.corr_dist, dnamer_counts_matrix, dims=2)), \"corr_dist\", \"DNA\"), # meh\n",
    "        (normalize_distance_matrix(Distances.pairwise(Distances.cosine_dist, aamer_counts_matrix, dims=2)), \"cosine_dist\", \"AA\"), # meh\n",
    "        (normalize_distance_matrix(Distances.pairwise(Distances.cosine_dist, dnamer_counts_matrix, dims=2)), \"cosine_dist\", \"DNA\"), # very bad\n",
    "        \n",
    "        (normalize_distance_matrix(Distances.pairwise(Distances.totalvariation, aamer_probability_matrix, dims=2)), \"totalvariation\", \"AA\"), # good\n",
    "        (normalize_distance_matrix(Distances.pairwise(Distances.totalvariation, dnamer_probility_matrix, dims=2)), \"totalvariation\", \"DNA\"), # bad\n",
    "        (normalize_distance_matrix(Distances.pairwise(Distances.js_divergence, aamer_probability_matrix, dims=2)), \"js_divergence\", \"AA\"), # good\n",
    "        (normalize_distance_matrix(Distances.pairwise(Distances.js_divergence, dnamer_probility_matrix, dims=2)), \"js_divergence\", \"DNA\"), # bad\n",
    "        (normalize_distance_matrix(Distances.pairwise(Distances.bhattacharyya, aamer_probability_matrix, dims=2)), \"bhattacharyya\", \"AA\"), # good\n",
    "        (normalize_distance_matrix(Distances.pairwise(Distances.bhattacharyya, dnamer_probility_matrix, dims=2)), \"bhattacharyya\", \"DNA\"), # bad\n",
    "        (normalize_distance_matrix(Distances.pairwise(Distances.hellinger, aamer_probability_matrix, dims=2)), \"hellinger\", \"AA\"), # good\n",
    "        (normalize_distance_matrix(Distances.pairwise(Distances.hellinger, dnamer_probility_matrix, dims=2)), \"hellinger\", \"DNA\"), # bad\n",
    "    ]"
   ]
  },
  {
   "cell_type": "code",
   "execution_count": null,
   "metadata": {},
   "outputs": [],
   "source": [
    "# How accurate is the best hit?\n",
    "for (distance_matrix, distance_metric, grammar) in matrix_metric_grammar_groups\n",
    "\n",
    "    correct_species_hits = 0\n",
    "    correct_genus_hits = 0\n",
    "    correct_family_hits = 0\n",
    "\n",
    "    samples = 1:size(entity_metadata, 1)\n",
    "\n",
    "    ProgressMeter.@showprogress for i in samples\n",
    "        other_indices = setdiff(1:size(entity_metadata, 1), i)\n",
    "        value, index = findmin(distance_matrix[i, other_indices])\n",
    "        index = other_indices[index]\n",
    "        if entity_metadata[i, \"Species\"] == entity_metadata[index, \"Species\"]\n",
    "            correct_species_hits += 1\n",
    "        end\n",
    "        if entity_metadata[i, \"Genus\"] == entity_metadata[index, \"Genus\"]\n",
    "            correct_genus_hits += 1\n",
    "        end\n",
    "        if entity_metadata[i, \"Family\"] == entity_metadata[index, \"Family\"]\n",
    "            correct_family_hits += 1\n",
    "        end\n",
    "    end\n",
    "    @show distance_metric, grammar\n",
    "    @show correct_species_hits / length(samples)\n",
    "    @show correct_genus_hits / length(samples)\n",
    "    @show correct_family_hits / length(samples)\n",
    "end"
   ]
  },
  {
   "cell_type": "code",
   "execution_count": null,
   "metadata": {},
   "outputs": [],
   "source": [
    "10\tAA\tmeasure\tfamily\tvalue\n",
    "10\tAA\tmeasure\tgenus\tvalue\n",
    "10\tAA\tmeasure\tspecies\tvalue\n",
    "10\tDNA\tmeasure\tfamily\tvalue\n",
    "10\tDNA\tmeasure\tgenus\tvalue\n",
    "10\tDNA\tmeasure\tspecies\tvalue"
   ]
  },
  {
   "cell_type": "code",
   "execution_count": null,
   "metadata": {},
   "outputs": [],
   "source": [
    "# average = Statistics.median\n",
    "# average = Statistics.mean\n",
    "# for (taxon_level, unique_taxa) in (\"Family\" => unique_families, \"Genus\" => unique_genera, \"Species\" => unique_species)\n",
    "for (taxon_level, unique_taxa) in [\"Genus\" => unique_genera]\n",
    "    for (distance_matrix, distance_metric, grammar) in matrix_metric_grammar_groups\n",
    "#         for average in [Statistics.median, Statistics.mean]\n",
    "        for average in [Statistics.median]\n",
    "            within_vs_between_distances = []\n",
    "            ProgressMeter.@showprogress  for taxon in unique_taxa\n",
    "                taxa_indices = findall(entity_metadata[!, taxon_level] .== taxon)\n",
    "                other_taxa_indices = setdiff(1:1:size(distance_matrix, 1), taxa_indices)\n",
    "                if isempty(other_taxa_indices)\n",
    "                    continue\n",
    "                end\n",
    "                for index in taxa_indices\n",
    "                    other_indices = filter(i -> i != index, taxa_indices)\n",
    "                    if isempty(other_indices)\n",
    "                        continue\n",
    "                    end\n",
    "                    avg_within_taxa_distance = average(vec(distance_matrix[index, other_indices]))\n",
    "                    avg_between_taxa_distance = average(vec(distance_matrix[index, other_taxa_indices]))\n",
    "                    push!(within_vs_between_distances, avg_within_taxa_distance => avg_between_taxa_distance)\n",
    "#                     if avg_within_taxa_distance > avg_between_taxa_distance\n",
    "#                         @show index\n",
    "#                     end\n",
    "                end\n",
    "            end\n",
    "#             @show within_vs_between_distances\n",
    "            within_vs_between_distances = filter(d -> !any(map(x1 -> isnan(x1), collect(d))), within_vs_between_distances)\n",
    "\n",
    "            ys = collect.(within_vs_between_distances)\n",
    "        \n",
    "#             assess correlation\n",
    "#         assess average slope\n",
    "#             assess % wrong slope\n",
    "            confusion = round(count(x -> x[1] >= x[2], within_vs_between_distances) / length(within_vs_between_distances), digits=3)\n",
    "\n",
    "            xs = [[1, 2] for x in ys]\n",
    "\n",
    "            if grammar == \"AA\"\n",
    "                k = aa_k\n",
    "            elseif grammar == \"DNA\"\n",
    "                k = dna_k\n",
    "            end\n",
    "\n",
    "            n = size(distance_matrix, 1)\n",
    "\n",
    "            p = StatsPlots.plot(\n",
    "                xs,\n",
    "                ys,\n",
    "                xticks = ([1, 2], [\"within $(taxon_level)\", \"between $(taxon_level)\"]),\n",
    "                legend = false,\n",
    "                xlims = (0.75, 2.25),\n",
    "                alpha = 0.1,\n",
    "                title = \"$(distance_metric) @ $grammar k=$k $(average)\\n(n=$(n)) (misclassification rate = $(confusion))\",\n",
    "                ylabel = \"normalized distance\",\n",
    "                marker = :circle\n",
    "            )\n",
    "            StatsPlots.savefig(p, \"$DIR/$(distance_metric)-distance-$(taxon_level)-k$k-$(grammar)-n$n-avg-$(average).png\")\n",
    "            StatsPlots.savefig(p, \"$DIR/$(distance_metric)-distance-$(taxon_level)-k$k-$(grammar)-n$n-avg-$(average).svg\")\n",
    "            display(p)\n",
    "        end\n",
    "    end\n",
    "end"
   ]
  },
  {
   "cell_type": "code",
   "execution_count": null,
   "metadata": {},
   "outputs": [],
   "source": [
    "# Do I median all of the genera, and then compare the distance to that median?\n",
    "# Or do I compare distances to all of the phage, and then find the genus with the lowest median value?"
   ]
  },
  {
   "cell_type": "code",
   "execution_count": null,
   "metadata": {},
   "outputs": [],
   "source": [
    "output table format\n",
    "identifier/accession\n",
    "euclidean aa\n",
    "euclidean dna\n",
    "corr_dist aa\n",
    "corr_dist dna\n",
    "totalvariation dna\n",
    "totalvariation dna"
   ]
  },
  {
   "cell_type": "code",
   "execution_count": null,
   "metadata": {},
   "outputs": [],
   "source": [
    "# average = Statistics.median\n",
    "# for (distance_matrix, distance_metric, grammar) in matrix_metric_grammar_groups\n",
    "\n",
    "#     correct_species_hits = 0 \n",
    "#     correct_genus_hits = 0\n",
    "#     correct_family_hits = 0\n",
    "\n",
    "#     samples = 1:size(entity_metadata, 1)\n",
    "\n",
    "#     ProgressMeter.@showprogress for i in samples\n",
    "#         other_indices = setdiff(1:size(entity_metadata, 1), i)\n",
    "#         value, index = findmin(distance_matrix[i, other_indices])\n",
    "#         if entity_metadata[i, \"Species\"] == entity_metadata[index, \"Species\"]\n",
    "#             correct_species_hits += 1\n",
    "#         end\n",
    "#         if entity_metadata[i, \"Genus\"] == entity_metadata[index, \"Genus\"]\n",
    "#             correct_genus_hits += 1\n",
    "#         end\n",
    "#         if entity_metadata[i, \"Family\"] == entity_metadata[index, \"Family\"]\n",
    "#             correct_family_hits += 1\n",
    "#         end\n",
    "#     end\n",
    "#     @show distance_metric, grammar\n",
    "#     @show correct_species_hits / length(samples)\n",
    "#     @show correct_genus_hits / length(samples)\n",
    "#     @show correct_family_hits / length(samples)\n",
    "# end"
   ]
  },
  {
   "cell_type": "code",
   "execution_count": null,
   "metadata": {},
   "outputs": [],
   "source": [
    "entity_metadata[genera_indices[15], \"Genus\"]"
   ]
  },
  {
   "cell_type": "code",
   "execution_count": null,
   "metadata": {},
   "outputs": [],
   "source": [
    "genera_indices = [findall(entity_metadata[!, \"Genus\"] .== genus) for genus in unique_genera]"
   ]
  },
  {
   "cell_type": "code",
   "execution_count": null,
   "metadata": {},
   "outputs": [],
   "source": [
    "correct = 0\n",
    "# indices = 1:10\n",
    "indices = 1:size(entity_metadata, 1)\n",
    "ProgressMeter.@showprogress for (i, row) in enumerate(eachrow(entity_metadata[indices, :]))\n",
    "    if isempty(entity_metadata[i, \"Genus\"])\n",
    "        continue\n",
    "    end\n",
    "    votes = []\n",
    "    for (distance_matrix, distance_metric, grammar) in matrix_metric_grammar_groups\n",
    "        genus_medians = zeros(length(unique_genera))\n",
    "        for (i2, genus_indices) in enumerate(genera_indices)\n",
    "            if length(genus_indices) > 1\n",
    "                genus_indices = setdiff(genus_indices, i)\n",
    "            end\n",
    "            genus_medians[i2] = Statistics.median(distance_matrix[i, genus_indices])\n",
    "        end\n",
    "        min_value, min_value_index = findmin(genus_medians)\n",
    "        push!(votes, unique_genera[min_value_index])\n",
    "    end\n",
    "#     if first(first(sort(collect(StatsBase.countmap(votes)), by=x->x[2], rev=true))) == entity_metadata[i, \"Genus\"]\n",
    "#     @show votes\n",
    "#     @show entity_metadata[i, \"Genus\"]\n",
    "#     @show intersect(votes, entity_metadata[i, \"Genus\"])\n",
    "    if entity_metadata[i, \"Genus\"] in votes\n",
    "#     if !isempty(intersect(votes, entity_metadata[i, \"Genus\"]))\n",
    "        correct += 1\n",
    "    end\n",
    "end\n",
    "@show correct/length(indices)"
   ]
  },
  {
   "cell_type": "code",
   "execution_count": null,
   "metadata": {},
   "outputs": [],
   "source": [
    "# 0.8067410811993871 across all types\n",
    "# 0.807835412562924\n",
    "# 0.8108995403808273\n",
    "# 0.7695338148391333\n",
    "# 0.7743488728386956\n",
    "# 0.7680017509301816\n",
    "# 0.7861676515648939\n",
    "\n",
    "# 2, 4, 6\n",
    "# 0.7929525060188225\n",
    "\n",
    "# 0.8330050339242723 for any vote being correct"
   ]
  },
  {
   "cell_type": "code",
   "execution_count": null,
   "metadata": {},
   "outputs": [],
   "source": [
    "# add ANI + AAI"
   ]
  },
  {
   "cell_type": "code",
   "execution_count": null,
   "metadata": {},
   "outputs": [],
   "source": [
    "# ./minimap2 -a test/MT-human.fa test/MT-orang.fa > test.sam"
   ]
  },
  {
   "cell_type": "code",
   "execution_count": null,
   "metadata": {},
   "outputs": [],
   "source": [
    "# just do whole genome alignments???"
   ]
  },
  {
   "cell_type": "code",
   "execution_count": null,
   "metadata": {},
   "outputs": [],
   "source": [
    "# Try looking only at other phage that have the same host to see if that improves the calls"
   ]
  },
  {
   "cell_type": "code",
   "execution_count": null,
   "metadata": {},
   "outputs": [],
   "source": [
    "# sudo conda install -c bioconda comparem"
   ]
  },
  {
   "cell_type": "code",
   "execution_count": null,
   "metadata": {},
   "outputs": [],
   "source": [
    "#     Common workflows:\n",
    "#      aai_wf      -> Calculate AAI between all pairs of genomes\n",
    "#                     (runs call_genes => similarity => aai)\n",
    "#      classify_wf -> Identify similar genomes based on AAI values\n",
    "#                     (runs call_genes => similarity => classify)\n",
    "                     \n",
    "#     Gene homology and genome similarity:\n",
    "#      similarity -> Perform reciprocal sequence similarity search between proteins\n",
    "#      aai        -> Calculate AAI between all pairs of genomes\n",
    "#      classify   -> Identify similar genomes based on AAI value"
   ]
  },
  {
   "cell_type": "code",
   "execution_count": null,
   "metadata": {},
   "outputs": [],
   "source": [
    "# run(`comparem classify -h`)\n",
    "\n",
    "# usage: comparem classify_wf [-h] [-k NUM_TOP_TARGETS] [-t TAXONOMY_FILE]\n",
    "#                             [-e EVALUE] [-p PER_IDENTITY] [-a PER_ALN_LEN]\n",
    "#                             [-x FILE_EXT] [--proteins]\n",
    "#                             [--force_table FORCE_TABLE] [--blastp]\n",
    "#                             [--sensitive] [--keep_headers] [--keep_rbhs]\n",
    "#                             [--tmp_dir TMP_DIR] [-c CPUS] [--silent]\n",
    "#                             query_files target_files output_dir\n",
    "\n",
    "#   -k, --num_top_targets NUM_TOP_TARGETS\n",
    "#                         number of top scoring target genomes to report per\n",
    "#                         query genome (default: 1)\n",
    "\n",
    "#   -p, --per_identity PER_IDENTITY\n",
    "#                         percent identity for defining homology (default: 30.0)\n",
    "#   -a, --per_aln_len PER_ALN_LEN\n",
    "#                         percent alignment length of query sequence for\n",
    "#                         defining homology (default: 70.0)\n",
    "\n",
    "#   -c, --cpus CPUS       number of CPUs to use (default: 1)"
   ]
  },
  {
   "cell_type": "code",
   "execution_count": null,
   "metadata": {},
   "outputs": [],
   "source": [
    "# https://manual.microbial-genomes.org/part5/workflow"
   ]
  }
 ],
 "metadata": {
  "kernelspec": {
   "display_name": "Julia 1.6.3",
   "language": "julia",
   "name": "julia-1.6"
  },
  "language_info": {
   "file_extension": ".jl",
   "mimetype": "application/julia",
   "name": "julia",
   "version": "1.6.3"
  }
 },
 "nbformat": 4,
 "nbformat_minor": 4
}
