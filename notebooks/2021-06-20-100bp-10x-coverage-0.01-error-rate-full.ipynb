{
 "cells": [
  {
   "cell_type": "code",
   "execution_count": 1,
   "metadata": {},
   "outputs": [
    {
     "data": {
      "text/plain": [
       "\"/Users/cameronprybol/2021-06-20-2021-06-20-100bp-10x-coverage-0.01-error-rate-full\""
      ]
     },
     "execution_count": 1,
     "metadata": {},
     "output_type": "execute_result"
    }
   ],
   "source": [
    "DATE = \"2021-06-20\"\n",
    "TASK = \"100bp-10x-coverage-0.01-error-rate-full\"\n",
    "DIR = \"$(DATE)-$(TASK)\"\n",
    "DIR = mkpath(\"$(homedir())/$(DIR)\")"
   ]
  },
  {
   "cell_type": "code",
   "execution_count": 2,
   "metadata": {},
   "outputs": [],
   "source": [
    "pkgs = [\n",
    "\"LightGraphs\",\n",
    "\"MetaGraphs\",\n",
    "\"BioSequences\",\n",
    "\"uCSV\",\n",
    "\"DataFrames\",\n",
    "\"FASTX\",\n",
    "\"HTTP\",\n",
    "\"CodecZlib\",\n",
    "\"DataStructures\",\n",
    "\"Revise\",\n",
    "\"ProgressMeter\",\n",
    "\"BenchmarkTools\",\n",
    "\"Random\",\n",
    "\"StatsBase\",\n",
    "\"SparseArrays\",\n",
    "\"Statistics\",\n",
    "\"BioAlignments\",\n",
    "\"NumericIO\",\n",
    "\"Primes\"\n",
    "]\n",
    "\n",
    "import Pkg\n",
    "Pkg.add(pkgs)\n",
    "for pkg in pkgs\n",
    "    eval(Meta.parse(\"import $(basename(pkg))\"))\n",
    "end\n",
    "\n",
    "import Mycelia"
   ]
  },
  {
   "cell_type": "code",
   "execution_count": 3,
   "metadata": {},
   "outputs": [
    {
     "data": {
      "text/plain": [
       "error_rate_to_q_value (generic function with 1 method)"
      ]
     },
     "execution_count": 3,
     "metadata": {},
     "output_type": "execute_result"
    }
   ],
   "source": [
    "function q_value_to_error_rate(q_value)\n",
    "    error_rate = 10^(q_value/(-10))\n",
    "    return error_rate\n",
    "end\n",
    "\n",
    "function error_rate_to_q_value(error_rate)\n",
    "    q_value = -10 * log10(error_rate)\n",
    "    return q_value\n",
    "end"
   ]
  },
  {
   "cell_type": "code",
   "execution_count": 4,
   "metadata": {},
   "outputs": [
    {
     "data": {
      "text/plain": [
       "initialize_transition_probabilities (generic function with 1 method)"
      ]
     },
     "execution_count": 4,
     "metadata": {},
     "output_type": "execute_result"
    }
   ],
   "source": [
    "function initialize_transition_probabilities(kmer_graph)\n",
    "    \n",
    "    total_kmers = LightGraphs.nv(kmer_graph)\n",
    "    transition_likelihoods = Dict(\n",
    "        true => SparseArrays.spzeros(total_kmers, total_kmers),\n",
    "        false => SparseArrays.spzeros(total_kmers, total_kmers)\n",
    "    )\n",
    "\n",
    "    for edge in collect(LightGraphs.edges(kmer_graph))\n",
    "        weight = length(kmer_graph.eprops[edge][:evidence])\n",
    "        for o in kmer_graph.eprops[edge][:orientations]\n",
    "            transition_likelihoods[o.source_orientation][edge.src, edge.dst] = weight\n",
    "        end\n",
    "    end\n",
    "\n",
    "    for source_orientation in (true, false)\n",
    "        for src in 1:total_kmers\n",
    "            transition_weights = transition_likelihoods[source_orientation][src, :]\n",
    "            total_weight = sum(transition_weights)\n",
    "            dsts, vals = SparseArrays.findnz(transition_weights)\n",
    "            for (dst, val) in zip(dsts, vals) \n",
    "                transition_likelihoods[source_orientation][src, dst] = val / total_weight\n",
    "            end\n",
    "            normalized_probability = sum(transition_likelihoods[source_orientation][src, :])\n",
    "            @assert isapprox(normalized_probability, 0) || isapprox(normalized_probability, 1)\n",
    "        end\n",
    "    end\n",
    "    return transition_likelihoods\n",
    "end"
   ]
  },
  {
   "cell_type": "code",
   "execution_count": 5,
   "metadata": {},
   "outputs": [
    {
     "data": {
      "text/plain": [
       "set_initial_state_likelihoods! (generic function with 1 method)"
      ]
     },
     "execution_count": 5,
     "metadata": {},
     "output_type": "execute_result"
    }
   ],
   "source": [
    "function set_initial_state_likelihoods!(\n",
    "        kmer_graph,\n",
    "        initial_state,\n",
    "        kmer_likelihoods,\n",
    "        error_rate,\n",
    "        state_likelihoods,\n",
    "        arrival_paths\n",
    "    )\n",
    "    for vertex in collect(LightGraphs.vertices(kmer_graph))\n",
    "        hidden_kmer = kmer_graph.vprops[vertex][:kmer]\n",
    "\n",
    "        fw_alignment = \n",
    "            BioAlignments.pairalign(\n",
    "                BioAlignments.LevenshteinDistance(), \n",
    "                initial_state.fw, \n",
    "                hidden_kmer)\n",
    "\n",
    "        fw_probability = kmer_likelihoods[vertex]\n",
    "\n",
    "        for match in 1:BioAlignments.count_matches(BioAlignments.alignment(fw_alignment))\n",
    "            fw_probability *= 1 - error_rate\n",
    "        end\n",
    "\n",
    "        for edit in 1:fw_alignment.value\n",
    "            fw_probability *= error_rate\n",
    "        end\n",
    "\n",
    "        bw_alignment = \n",
    "            BioAlignments.pairalign(\n",
    "                BioAlignments.LevenshteinDistance(),\n",
    "                initial_state.bw,\n",
    "                hidden_kmer)\n",
    "\n",
    "        bw_probability = kmer_likelihoods[vertex]\n",
    "\n",
    "        for match in 1:BioAlignments.count_matches(BioAlignments.alignment(bw_alignment))\n",
    "            bw_probability *= 1 - error_rate\n",
    "        end\n",
    "\n",
    "        for edit in 1:bw_alignment.value\n",
    "            bw_probability *= error_rate\n",
    "        end\n",
    "\n",
    "        if fw_probability > bw_probability\n",
    "            state_probability = fw_probability\n",
    "            state_orientation = true\n",
    "        elseif fw_probability < bw_probability\n",
    "            state_probability = bw_probability\n",
    "            state_orientation = false\n",
    "        else fw_probability == bw_probability\n",
    "            state_probability = fw_probability\n",
    "            state_orientation = missing\n",
    "        end\n",
    "        state_likelihoods[vertex, 1] = state_probability\n",
    "        arrival_paths[vertex, 1] = [vertex => state_orientation]\n",
    "    end\n",
    "end"
   ]
  },
  {
   "cell_type": "code",
   "execution_count": 6,
   "metadata": {},
   "outputs": [
    {
     "data": {
      "text/plain": [
       "oriented_path_to_sequence (generic function with 1 method)"
      ]
     },
     "execution_count": 6,
     "metadata": {},
     "output_type": "execute_result"
    }
   ],
   "source": [
    "function oriented_path_to_sequence(kmer_graph, oriented_path)\n",
    "    initial_kmer, initial_orientation = first(oriented_path)\n",
    "    k = kmer_graph.gprops[:k]\n",
    "    sequence = BioSequences.LongDNASeq(kmer_graph.vprops[initial_kmer][:kmer])\n",
    "    if !initial_orientation\n",
    "        sequence = BioSequences.reverse_complement(sequence)\n",
    "    end\n",
    "    for (kmer, orientation) in oriented_path[2:end]\n",
    "        kmer_seq = BioSequences.LongDNASeq(kmer_graph.vprops[kmer][:kmer])\n",
    "        if !orientation\n",
    "            kmer_seq = BioSequences.reverse_complement(kmer_seq)\n",
    "        end\n",
    "        if sequence[end-k+2:end] != kmer_seq[1:end-1]\n",
    "            @show sequence[end-k+2:end]\n",
    "            @show kmer_seq[1:end-1]\n",
    "            @error \"\"\n",
    "        end\n",
    "#         @assert sequence[end-k+2:end] == kmer_seq[1:end-1]\n",
    "        push!(sequence, last(kmer_seq))\n",
    "    end\n",
    "    return sequence\n",
    "end"
   ]
  },
  {
   "cell_type": "code",
   "execution_count": 7,
   "metadata": {},
   "outputs": [
    {
     "data": {
      "text/plain": [
       "sequence_to_oriented_path (generic function with 1 method)"
      ]
     },
     "execution_count": 7,
     "metadata": {},
     "output_type": "execute_result"
    }
   ],
   "source": [
    "function sequence_to_oriented_path(sequence, kmers::Vector{T}) where {T <: BioSequences.AbstractMer{A, K}} where {A, K}\n",
    "    observed_path = Vector{Pair{Int, Bool}}(undef, length(sequence)-K+1)\n",
    "    for (i, kmer) in enumerate(BioSequences.each(T, sequence))\n",
    "        canonical_kmer = BioSequences.canonical(kmer.fw)\n",
    "        index = Mycelia.get_kmer_index(kmers, canonical_kmer)\n",
    "        orientation = kmer.fw == canonical_kmer\n",
    "        observed_path[i] = index => orientation\n",
    "    end\n",
    "    return observed_path\n",
    "end"
   ]
  },
  {
   "cell_type": "code",
   "execution_count": 8,
   "metadata": {},
   "outputs": [
    {
     "data": {
      "text/plain": [
       "oriented_path_to_likelihood (generic function with 1 method)"
      ]
     },
     "execution_count": 8,
     "metadata": {},
     "output_type": "execute_result"
    }
   ],
   "source": [
    "# they way this is currently implemented, it can't handle kmers not present in the graph\n",
    "function oriented_path_to_likelihood(kmer_graph, kmers, kmer_likelihoods, transition_likelihoods, fastq_record)\n",
    "    original_oriented_path = sequence_to_oriented_path(FASTX.sequence(fastq_record), kmers)\n",
    "    path_likelihood = kmer_likelihoods[first(first(original_oriented_path))]\n",
    "\n",
    "    for q_value in FASTX.quality(fastq_record)[1:kmer_graph.gprops[:k]]\n",
    "        error_rate = q_value_to_error_rate(q_value)\n",
    "        accuracy = 1 - error_rate\n",
    "        path_likelihood *= accuracy\n",
    "    end\n",
    "\n",
    "    for index in 2:length(original_oriented_path)\n",
    "        kmer, orientation = original_oriented_path[index]\n",
    "        prior_kmer, prior_orientation = original_oriented_path[index-1]\n",
    "        state_likelihood = kmer_likelihoods[kmer]\n",
    "        transition_likelihood = transition_likelihoods[prior_orientation][prior_kmer, kmer]\n",
    "        sequence_index = kmer_graph.gprops[:k] + index - 1\n",
    "        state_q_value = FASTX.quality(fastq_record)[sequence_index]\n",
    "        state_error_likelihood = q_value_to_error_rate(state_q_value)\n",
    "        emission_likelihood = 1 - state_error_likelihood \n",
    "        path_likelihood *= state_likelihood * transition_likelihood * emission_likelihood\n",
    "    end\n",
    "    return path_likelihood\n",
    "end"
   ]
  },
  {
   "cell_type": "code",
   "execution_count": 31,
   "metadata": {},
   "outputs": [
    {
     "data": {
      "text/plain": [
       "polish_fastq (generic function with 1 method)"
      ]
     },
     "execution_count": 31,
     "metadata": {},
     "output_type": "execute_result"
    }
   ],
   "source": [
    "function polish_fastq(kmer_graph, fastq_file)\n",
    "\n",
    "#     @info \"Assessing kmer likelihoods\"\n",
    "    kmers = [kmer_graph.vprops[v][:kmer] for v in LightGraphs.vertices(kmer_graph)]\n",
    "    kmer_counts = [length(kmer_graph.vprops[v][:evidence]) for v in LightGraphs.vertices(kmer_graph)]\n",
    "    kmer_likelihoods = kmer_counts ./ sum(kmer_counts)\n",
    "    kmer_type = BioSequences.BigDNAMer{kmer_graph.gprops[:k]}\n",
    "    total_kmers = length(kmers)\n",
    "    \n",
    "#     @info \"determining shortest paths between kmers\"\n",
    "    shortest_paths = LightGraphs.enumerate_paths(LightGraphs.floyd_warshall_shortest_paths(kmer_graph));\n",
    "\n",
    "    \n",
    "#     @info \"counting the number of records to establish runtime estimate\"\n",
    "    number_of_records = 0\n",
    "    for fastq_record in FASTX.FASTQ.Reader(open(fastq_file))\n",
    "        number_of_records += 1\n",
    "    end\n",
    "    progress_bar = ProgressMeter.Progress(number_of_records, 1)\n",
    "    \n",
    "    output_fastq_file = replace(fastq_file, \".fastq\" => \".k$(kmer_graph.gprops[:k]).fastq\")\n",
    "    fastq_writer = FASTX.FASTQ.Writer(open(output_fastq_file, \"w\"))\n",
    "    for fastq_record in FASTX.FASTQ.Reader(open(fastq_file))\n",
    "        ProgressMeter.next!(progress_bar)\n",
    "        \n",
    "#         @info \"Initializing matrices\"\n",
    "        total_states = length(FASTX.sequence(fastq_record))-k+1\n",
    "        transition_likelihoods = initialize_transition_probabilities(kmer_graph)\n",
    "        state_likelihoods = zeros(total_kmers, total_states)\n",
    "        arrival_paths = fill(Pair{Int, Union{Bool, Missing}}[], total_kmers, total_states)\n",
    "\n",
    "#         @info \"Determining Likelihoods of initial states\"\n",
    "        initial_state = first(BioSequences.each(kmer_type, FASTX.sequence(fastq_record)))\n",
    "        current_state = 1\n",
    "        # note this is a place for potential improvement, use the q value at each base to guide probability rather than median\n",
    "        median_q_value = Statistics.median(Int.(FASTX.quality(fastq_record)[1:k]))\n",
    "        current_error_rate = q_value_to_error_rate(median_q_value)\n",
    "        # canonical_kmer = BioSequences.canonical(initial_state.fw)\n",
    "        set_initial_state_likelihoods!(\n",
    "                kmer_graph,\n",
    "                initial_state,\n",
    "                kmer_likelihoods,\n",
    "                error_rate,\n",
    "                state_likelihoods,\n",
    "                arrival_paths\n",
    "            )\n",
    "\n",
    "#         @info \"Determining likelihood of downstream states\"\n",
    "\n",
    "        non_singleton_states = findall(kmer_counts .> 1)\n",
    "\n",
    "        ProgressMeter.@showprogress for current_state in 2:total_states\n",
    "            prior_state = current_state - 1\n",
    "\n",
    "        #     observed_kmer = BioSequences.BigDNAMer{k}(FASTX.sequence(fastq_record)[current_state:current_state+k-1])\n",
    "\n",
    "        #     @assert observed_kmer == collect(BioSequences.each(kmer_type, FASTX.sequence(fastq_record)))[current_state].fw\n",
    "\n",
    "        #     canonical_kmer = BioSequences.canonical(observed_kmer)\n",
    "\n",
    "            observed_nucleotide = FASTX.sequence(fastq_record)[k-1+current_state]\n",
    "        #     observed_nucleotide = last(observed_kmer)\n",
    "            observed_quality_score = FASTX.quality(fastq_record)[k-1+current_state]\n",
    "            observed_error_rate = q_value_to_error_rate(observed_quality_score)\n",
    "\n",
    "            # we'll assess prior states in order of decreasing likelihood\n",
    "            # such that we maximize how frequently we are able to utilize the\n",
    "            # current_state_likelihood > candidate prior state\n",
    "            # break that won't bother evaluating lower likelihood possibilities\n",
    "            prior_states_in_decreasing_likelihood = sortperm(state_likelihoods[:, prior_state], rev=true)\n",
    "\n",
    "            # and skip all prior states with zero probability\n",
    "\n",
    "            for current_vertex in non_singleton_states\n",
    "                for prior_vertex in prior_states_in_decreasing_likelihood\n",
    "                    if state_likelihoods[prior_vertex, prior_state] > 0\n",
    "                        run_viterbi!(\n",
    "                                current_state,\n",
    "                                prior_state,\n",
    "                                observed_nucleotide,\n",
    "                                observed_quality_score,\n",
    "                                observed_error_rate,\n",
    "                                current_vertex,\n",
    "                                prior_vertex,\n",
    "                                state_likelihoods,\n",
    "                                transition_likelihoods,\n",
    "                                shortest_paths,\n",
    "                                arrival_paths,\n",
    "                                kmer_graph,\n",
    "                                kmer_likelihoods\n",
    "                                )\n",
    "                    end\n",
    "                end\n",
    "            end\n",
    "        end\n",
    "\n",
    "#         try\n",
    "        maximum_likelihood_path, maximum_likelihood_value = \n",
    "            determine_maximum_likelihood_path(\n",
    "                state_likelihoods,\n",
    "                arrival_paths\n",
    "                )\n",
    "#         catch\n",
    "#             return state_likelihoods, arrival_paths\n",
    "#         end\n",
    "\n",
    "        sequence = oriented_path_to_sequence(kmer_graph, maximum_likelihood_path)\n",
    "\n",
    "#         @info \"comparing to original path\"\n",
    "        original_sequence_likelihood = oriented_path_to_likelihood(kmer_graph, kmers, kmer_likelihoods, transition_likelihoods, fastq_record)\n",
    "        relative_likelihood = maximum_likelihood_value / original_sequence_likelihood\n",
    "#         relative_likelihood_formatted = NumericIO.formatted(relative_likelihood, ndigits=1, charset=:ASCII)\n",
    "#         println(\"relative likelihood of new path to old path is $(relative_likelihood_formatted)\")\n",
    "\n",
    "#         @info \"writing updated record\"\n",
    "        identifier = FASTX.identifier(fastq_record) * \"_k$(k)\"\n",
    "        description = string(relative_likelihood)\n",
    "        # because the sequences won't always be the same length, we take an ordered sampling with replacement\n",
    "        # which introduces some random error but preserves overall patterns and areas of high/low accuracy\n",
    "        quality_scores = StatsBase.sample(FASTX.quality(fastq_record), length(sequence), ordered=true)\n",
    "\n",
    "        new_fastq_record = FASTX.FASTQ.Record(\n",
    "            identifier,\n",
    "            description,\n",
    "            sequence,\n",
    "            quality_scores\n",
    "        )\n",
    "        write(fastq_writer, new_fastq_record)\n",
    "    end\n",
    "    close(fastq_writer)\n",
    "    return output_fastq_file\n",
    "end"
   ]
  },
  {
   "cell_type": "code",
   "execution_count": 10,
   "metadata": {},
   "outputs": [
    {
     "data": {
      "text/plain": [
       "determine_maximum_likelihood_path (generic function with 1 method)"
      ]
     },
     "execution_count": 10,
     "metadata": {},
     "output_type": "execute_result"
    }
   ],
   "source": [
    "function determine_maximum_likelihood_path(\n",
    "    state_likelihoods,\n",
    "    arrival_paths\n",
    "    )\n",
    "    maximum_likelihood_value = maximum(state_likelihoods[:, end])\n",
    "\n",
    "    maximum_likelihood_path_indices = findall(state_likelihoods[:, end] .== maximum_likelihood_value)\n",
    "\n",
    "    # if multiple paths are tied, randomly choose one\n",
    "    maximum_likelihood_path_index = rand(maximum_likelihood_path_indices)\n",
    "\n",
    "    maximum_likelihood_path = arrival_paths[maximum_likelihood_path_index, end]\n",
    "\n",
    "    for state_index in size(state_likelihoods, 2)-1:-1:1\n",
    "        next_kmer, next_orientation = first(maximum_likelihood_path)\n",
    "        maximum_likelihood_arrival_path = arrival_paths[next_kmer, state_index]\n",
    "        \n",
    "        is_match = last(maximum_likelihood_arrival_path) == (next_kmer => next_orientation)\n",
    "        if !ismissing(is_match) && !is_match\n",
    "            error(\"breaking\")\n",
    "        end\n",
    "        maximum_likelihood_path = vcat(maximum_likelihood_arrival_path[1:end-1], maximum_likelihood_path)\n",
    "    end\n",
    "    return maximum_likelihood_path, maximum_likelihood_value\n",
    "end\n"
   ]
  },
  {
   "cell_type": "code",
   "execution_count": 11,
   "metadata": {},
   "outputs": [
    {
     "data": {
      "text/plain": [
       "run_viterbi! (generic function with 1 method)"
      ]
     },
     "execution_count": 11,
     "metadata": {},
     "output_type": "execute_result"
    }
   ],
   "source": [
    "function run_viterbi!(\n",
    "        current_state,\n",
    "        prior_state,\n",
    "        observed_nucleotide,\n",
    "        observed_quality_score,\n",
    "        observed_error_rate,\n",
    "        current_vertex,\n",
    "        prior_vertex,\n",
    "        state_likelihoods,\n",
    "        transition_likelihoods,\n",
    "        shortest_paths,\n",
    "        arrival_paths,\n",
    "        kmer_graph,\n",
    "        kmer_likelihoods\n",
    "        )\n",
    "    # if probability of prior state is lower than current probability, skip\n",
    "\n",
    "#     @show current_state\n",
    "#     @show prior_state\n",
    "#     @show current_vertex\n",
    "#     @show prior_vertex\n",
    "    \n",
    "    \n",
    "    current_state_likelihood = state_likelihoods[current_vertex, current_state]\n",
    "    prior_state_likelihood = state_likelihoods[prior_vertex, prior_state]\n",
    "\n",
    "    # if we already have a better possible path, skip calculating anything\n",
    "    if prior_state_likelihood < current_state_likelihood\n",
    "#         @show prior_state_likelihood < current_state_likelihood\n",
    "        return\n",
    "    end\n",
    "\n",
    "    # take shortest path and assume it's the maximum likelihood path\n",
    "    # this assumption seems fair because in an ideal situation\n",
    "    # we're just moving to an adjacent kmer\n",
    "    # and the shortest path and most likely path should be the same\n",
    "    shortest_path = shortest_paths[prior_vertex][current_vertex]\n",
    "    \n",
    "#     no path & not considering insertion\n",
    "    if isempty(shortest_path) && (prior_vertex != current_vertex)\n",
    "#         @show \"no path, skipping\"\n",
    "        return\n",
    "    end\n",
    "    \n",
    "    # if shortest path isn't viable, exit\n",
    "    if !isempty(shortest_path)\n",
    "#         @show \"checking if path is viable\"\n",
    "\n",
    "        terminal_orientation_prior_state = last(last(arrival_paths[prior_vertex, prior_state]))\n",
    "#         @show arrival_paths[prior_vertex, prior_state]\n",
    "#         @show \"we were at vertex $(prior_vertex) in orientation $(terminal_orientation_prior_state)\"\n",
    "        candidate_edge = LightGraphs.Edge(shortest_path[1], shortest_path[2])\n",
    "                \n",
    "        if !ismissing(terminal_orientation_prior_state) && \n",
    "            !any(o -> o.source_orientation == terminal_orientation_prior_state, kmer_graph.eprops[candidate_edge][:orientations])\n",
    "            \n",
    "#             @show \"no viable orientation matching edges detected between $(candidate_edge)\"\n",
    "#             @show \"full candidate path was $(shortest_path)\"\n",
    "#             @show \"orientation options were:\"\n",
    "#             @show kmer_graph.eprops[candidate_edge][:orientations]\n",
    "            return\n",
    "        end\n",
    "    end\n",
    "    \n",
    "    # zero step path - insertion in observed sequence relative to kmer graph\n",
    "    is_same_vertex = (current_vertex == prior_vertex)\n",
    "    has_edge = LightGraphs.has_edge(kmer_graph, LightGraphs.Edge(prior_vertex, current_vertex))\n",
    "    if is_same_vertex && has_edge\n",
    "        shortest_path = [prior_vertex, current_vertex]\n",
    "    end\n",
    "    \n",
    "    if is_same_vertex\n",
    "#         @show \"same vertex, considering insertion potential\"\n",
    "        emission_likelihood = observed_error_rate\n",
    "        transition_likelihood = observed_error_rate\n",
    "        state_likelihood = kmer_likelihoods[current_vertex]\n",
    "        path_likelihood = prior_state_likelihood * emission_likelihood * transition_likelihood * state_likelihood\n",
    "        path = [last(arrival_paths[prior_vertex, prior_state])]\n",
    "\n",
    "        if current_state_likelihood > state_likelihoods[current_vertex, current_state]\n",
    "#             @show \"selecting path\"\n",
    "#             @show path\n",
    "#             @show path_likelihood\n",
    "            state_likelihoods[current_vertex, current_state] = path_likelihood\n",
    "            arrival_paths[current_vertex, current_state] = path\n",
    "        end\n",
    "    # one or more step path - match, mismatch, or deletion in observed sequence relative to kmer graph\n",
    "    elseif !isempty(shortest_path)\n",
    "#         @show \"path is viable!\"\n",
    "#         @show \"considering shortest path: $(shortest_path)\"\n",
    "\n",
    "        initial_path_state = last(arrival_paths[prior_vertex, prior_state])\n",
    "\n",
    "        path = Vector{typeof(initial_path_state)}(undef, length(shortest_path))\n",
    "        path[1] = initial_path_state\n",
    "\n",
    "        path_likelihood::Float64 = state_likelihoods[prior_vertex, prior_state]\n",
    "\n",
    "        for i in 2:length(shortest_path)\n",
    "\n",
    "            this_vertex = shortest_path[i]\n",
    "            prior_vertex, prior_orientation = path[i-1]\n",
    "            edge = LightGraphs.Edge(prior_vertex, this_vertex)\n",
    "\n",
    "            possible_edge_orientations::Set{NamedTuple{(:source_orientation, :destination_orientation), Tuple{Bool, Bool}}} = kmer_graph.eprops[edge][:orientations]\n",
    "            \n",
    "#             @show possible_edge_orientations\n",
    "            \n",
    "            if !ismissing(prior_orientation)\n",
    "                possible_edge_orientations = filter(o -> o.source_orientation == prior_orientation, possible_edge_orientations)\n",
    "            end\n",
    "            \n",
    "#             @show possible_edge_orientations\n",
    "            \n",
    "            if isempty(possible_edge_orientations)\n",
    "                path_likelihood *= 0.0\n",
    "                path = Vector{eltype(path)}()\n",
    "#                 @show \"no possible orientations, bailing early\"\n",
    "                break\n",
    "            end\n",
    "\n",
    "#             @show prior_orientation\n",
    "            if ismissing(prior_orientation)\n",
    "                if transition_likelihoods[true][prior_vertex, this_vertex] > transition_likelihoods[false][prior_vertex, this_vertex]\n",
    "                    prior_orientation = true\n",
    "                    transition_likelihood = transition_likelihoods[true][prior_vertex, this_vertex]::Float64\n",
    "                elseif transition_likelihoods[true][prior_vertex, this_vertex] < transition_likelihoods[false][prior_vertex, this_vertex]\n",
    "                    prior_orientation = false\n",
    "                    transition_likelihood = transition_likelihoods[false][prior_vertex, this_vertex]::Float64\n",
    "                else transition_likelihoods[true][prior_vertex, this_vertex] == transition_likelihoods[false][prior_vertex, this_vertex]\n",
    "                    prior_orientation = missing\n",
    "                    transition_likelihood = transition_likelihoods[true][prior_vertex, this_vertex]::Float64\n",
    "                end\n",
    "            else\n",
    "                transition_likelihood = transition_likelihoods[prior_orientation][prior_vertex, this_vertex]::Float64\n",
    "            end\n",
    "            state_likelihood::Float64 = kmer_likelihoods[this_vertex]\n",
    "            path_likelihood *= transition_likelihood * state_likelihood\n",
    "            \n",
    "            if length(possible_edge_orientations) == 1\n",
    "                orientation = first(possible_edge_orientations).destination_orientation\n",
    "                path[i] = this_vertex => orientation\n",
    "            else\n",
    "                path[i] = this_vertex => missing\n",
    "            end\n",
    "        end\n",
    "\n",
    "        # see if new nucleotide is a match or mismatch to terminal kmer in path\n",
    "        if !isempty(path) && path_likelihood > 0\n",
    "            terminal_kmer_index, terminal_kmer_orientation = last(path)\n",
    "            terminal_kmer = BioSequences.LongDNASeq(kmer_graph.vprops[terminal_kmer_index][:kmer])::BioSequences.LongDNASeq\n",
    "            if ismissing(terminal_kmer_orientation)\n",
    "                fw_is_match = observed_nucleotide == last(terminal_kmer)\n",
    "                bw_is_match = observed_nucleotide == last(BioSequences.reverse_complement!(terminal_kmer))\n",
    "                if fw_ismatch && !bw_is_match\n",
    "                    path[end] = terminal_kmer_index => true\n",
    "                    path_likelihood *= 1 - observed_error_rate\n",
    "                elseif !fw_ismatch && bw_is_match\n",
    "                    path[end] = terminal_kmer_index => false\n",
    "                    path_likelihood *= 1 - observed_error_rate\n",
    "                elseif fw_ismatch && bw_is_match\n",
    "                    path_likelihood *= 1 - observed_error_rate\n",
    "                elseif !fw_ismatch && !bw_is_match\n",
    "                    path_likelihood *= observed_error_rate\n",
    "                end\n",
    "            elseif terminal_kmer_orientation\n",
    "                is_match = observed_nucleotide == last(terminal_kmer)\n",
    "                if is_match\n",
    "                    path_likelihood *= 1 - observed_error_rate\n",
    "                else\n",
    "                    path_likelihood *= observed_error_rate\n",
    "                end\n",
    "            else\n",
    "                terminal_kmer = BioSequences.reverse_complement!(terminal_kmer)\n",
    "                is_match = observed_nucleotide == last(terminal_kmer)\n",
    "                if is_match\n",
    "                    path_likelihood *= 1 - observed_error_rate\n",
    "                else\n",
    "                    path_likelihood *= observed_error_rate\n",
    "                end\n",
    "            end\n",
    "        end\n",
    "\n",
    "        if path_likelihood > state_likelihoods[current_vertex, current_state]\n",
    "#             @show \"selecting path\"\n",
    "#             @show path\n",
    "#             @show path_likelihood\n",
    "            state_likelihoods[current_vertex, current_state] = path_likelihood\n",
    "            arrival_paths[current_vertex, current_state] = path\n",
    "        end\n",
    "    end\n",
    "    return\n",
    "end"
   ]
  },
  {
   "cell_type": "code",
   "execution_count": 12,
   "metadata": {},
   "outputs": [
    {
     "data": {
      "text/plain": [
       "MersenneTwister(0)"
      ]
     },
     "execution_count": 12,
     "metadata": {},
     "output_type": "execute_result"
    }
   ],
   "source": [
    "# set a random seed\n",
    "seed = Random.seed!(0)"
   ]
  },
  {
   "cell_type": "code",
   "execution_count": 13,
   "metadata": {},
   "outputs": [
    {
     "data": {
      "text/plain": [
       "100nt DNA Sequence:\n",
       "AAGGGTGCGGTCTAGGTGCACTGCTTATGGTCCCCGACA…TCTACCTCTTTGTTGAAACGTATTCTTCTCTTAACACCT"
      ]
     },
     "execution_count": 13,
     "metadata": {},
     "output_type": "execute_result"
    }
   ],
   "source": [
    "# randomly generate a dna sequence of 100bp\n",
    "genome = BioSequences.randdnaseq(seed, 100)"
   ]
  },
  {
   "cell_type": "code",
   "execution_count": 14,
   "metadata": {},
   "outputs": [
    {
     "data": {
      "text/plain": [
       "0.01"
      ]
     },
     "execution_count": 14,
     "metadata": {},
     "output_type": "execute_result"
    }
   ],
   "source": [
    "# define error rate\n",
    "error_rate = 0.01"
   ]
  },
  {
   "cell_type": "code",
   "execution_count": 15,
   "metadata": {},
   "outputs": [],
   "source": [
    "# generate 100x coverage fastq file\n",
    "# put accuracy rate into fastq file\n",
    "coverage = 10\n",
    "fastq_file = \"$(DIR)/$(DATE)-$(TASK).fastq\"\n",
    "open(fastq_file, \"w\") do io\n",
    "    fastq_writer = FASTX.FASTQ.Writer(io)\n",
    "    for i in 1:coverage\n",
    "        observed_sequence = Mycelia.observe(genome, error_rate=error_rate)\n",
    "        q = -10 * log10(error_rate)\n",
    "        quality_scores = fill(q, length(observed_sequence))\n",
    "        fastq_record = FASTX.FASTQ.Record(\"i\", observed_sequence, quality_scores)\n",
    "        write(fastq_writer, fastq_record)\n",
    "    end\n",
    "end"
   ]
  },
  {
   "cell_type": "code",
   "execution_count": 16,
   "metadata": {},
   "outputs": [],
   "source": [
    "# build weighted kmer graph\n",
    "# at some point where we may want to record weights as integers rather than lists of evidence, but first confirm the algorithm"
   ]
  },
  {
   "cell_type": "code",
   "execution_count": 17,
   "metadata": {},
   "outputs": [],
   "source": [
    "# k = Int(1/error_rate + 1)"
   ]
  },
  {
   "cell_type": "code",
   "execution_count": 18,
   "metadata": {},
   "outputs": [
    {
     "name": "stderr",
     "output_type": "stream",
     "text": [
      "┌ Info: assessing k = 11 for kmer sparsity\n",
      "└ @ Main In[18]:5\n",
      "┌ Info: selecting k = 11 to start error correction procedure\n",
      "└ @ Main In[18]:17\n"
     ]
    }
   ],
   "source": [
    "k = 11\n",
    "total_possible_kmers = (4^k)/2\n",
    "reached_sparsity = false\n",
    "while !reached_sparsity\n",
    "    @info \"assessing k = $k for kmer sparsity\"\n",
    "    kmer_type = BioSequences.BigDNAMer{k}\n",
    "    canonical_kmer_counts = Mycelia.count_canonical_kmers(kmer_type, fastq_file)\n",
    "\n",
    "    reached_sparsity = \n",
    "        # we observed fewer than all possible kmers\n",
    "        (length(keys(canonical_kmer_counts)) < total_possible_kmers) ||\n",
    "        # we have singletons\n",
    "        any(count -> count == 1, values(canonical_kmer_counts))\n",
    "    if !reached_sparsity\n",
    "        k = Primes.nextprime(k+1)\n",
    "    else\n",
    "        @info \"selecting k = $k to start error correction procedure\"\n",
    "    end\n",
    "end"
   ]
  },
  {
   "cell_type": "markdown",
   "metadata": {},
   "source": [
    "# Round 1"
   ]
  },
  {
   "cell_type": "code",
   "execution_count": 19,
   "metadata": {},
   "outputs": [
    {
     "data": {
      "text/plain": [
       "BioSequences.BigDNAMer{11} (alias for BioSequences.BigMer{BioSequences.DNAAlphabet{2}, 11})"
      ]
     },
     "execution_count": 19,
     "metadata": {},
     "output_type": "execute_result"
    }
   ],
   "source": [
    "kmer_type = BioSequences.BigDNAMer{k}"
   ]
  },
  {
   "cell_type": "code",
   "execution_count": 20,
   "metadata": {},
   "outputs": [
    {
     "name": "stderr",
     "output_type": "stream",
     "text": [
      "┌ Info: assessing kmers\n",
      "└ @ Mycelia /Users/cameronprybol/.julia/dev/Mycelia/src/Mycelia.jl:1877\n",
      "┌ Info: creating graph\n",
      "└ @ Mycelia /Users/cameronprybol/.julia/dev/Mycelia/src/Mycelia.jl:1891\n"
     ]
    },
    {
     "data": {
      "text/plain": [
       "{120, 240} directed Int64 metagraph with Float64 weights defined by :weight (default weight 1.0)"
      ]
     },
     "execution_count": 20,
     "metadata": {},
     "output_type": "execute_result"
    }
   ],
   "source": [
    "kmer_graph = Mycelia.fastx_to_kmer_graph(kmer_type, fastq_file)"
   ]
  },
  {
   "cell_type": "code",
   "execution_count": 21,
   "metadata": {},
   "outputs": [
    {
     "data": {
      "text/plain": [
       "\"/Users/cameronprybol/2021-06-20-2021-06-20-100bp-10x-coverage-0.01-error-rate-full/2021-06-20-2021-06-20-100bp-10x-coverage-0.01-error-rate-full.fastq.k-11.gfa\""
      ]
     },
     "execution_count": 21,
     "metadata": {},
     "output_type": "execute_result"
    }
   ],
   "source": [
    "# visualize\n",
    "gfa_file = fastq_file * \".k-$k.gfa\"\n",
    "Mycelia.graph_to_gfa(kmer_graph, gfa_file)"
   ]
  },
  {
   "cell_type": "code",
   "execution_count": 22,
   "metadata": {},
   "outputs": [
    {
     "data": {
      "text/plain": [
       "Process(`\u001b[4m/Applications/Bandage.app/Contents/MacOS/Bandage\u001b[24m \u001b[4mimage\u001b[24m \u001b[4m/Users/cameronprybol/2021-06-20-2021-06-20-100bp-10x-coverage-0.01-error-rate-full/2021-06-20-2021-06-20-100bp-10x-coverage-0.01-error-rate-full.fastq.k-11.gfa\u001b[24m \u001b[4m/Users/cameronprybol/2021-06-20-2021-06-20-100bp-10x-coverage-0.01-error-rate-full/2021-06-20-2021-06-20-100bp-10x-coverage-0.01-error-rate-full.fastq.k-11.gfa.svg\u001b[24m \u001b[4m--depwidth\u001b[24m \u001b[4m1\u001b[24m \u001b[4m--deppower\u001b[24m \u001b[4m1\u001b[24m`, ProcessExited(0))"
      ]
     },
     "execution_count": 22,
     "metadata": {},
     "output_type": "execute_result"
    }
   ],
   "source": [
    "run(`/Applications/Bandage.app/Contents/MacOS/Bandage image $(gfa_file) $(gfa_file).svg --depwidth 1 --deppower 1`)\n",
    "# --nodewidth <float> Average node width (0.5 to 1000, default: 5)\n",
    "# --depwidth <float>  Depth effect on width (0 to 1, default: 0.5)\n",
    "# --deppower <float>  Power of depth effect on width (0 to 1, default: 0.5)"
   ]
  },
  {
   "cell_type": "code",
   "execution_count": 23,
   "metadata": {},
   "outputs": [
    {
     "data": {
      "text/plain": [
       "\"./../../../../2021-06-20-2021-06-20-100bp-10x-coverage-0.01-error-rate-full/2021-06-20-2021-06-20-100bp-10x-coverage-0.01-error-rate-full.fastq.k-11.gfa.svg\""
      ]
     },
     "execution_count": 23,
     "metadata": {},
     "output_type": "execute_result"
    }
   ],
   "source": [
    "html_path_to_svg = \"./\" * repeat(\"../\", length(split(pwd(), '/')) - 3)\n",
    "html_path_to_svg *= replace(\"$(gfa_file).svg\", \"$(homedir())/\" => \"\")"
   ]
  },
  {
   "cell_type": "code",
   "execution_count": 24,
   "metadata": {},
   "outputs": [
    {
     "data": {
      "text/html": [
       "<img src=./../../../../2021-06-20-2021-06-20-100bp-10x-coverage-0.01-error-rate-full/2021-06-20-2021-06-20-100bp-10x-coverage-0.01-error-rate-full.fastq.k-11.gfa.svg>"
      ]
     },
     "metadata": {},
     "output_type": "display_data"
    }
   ],
   "source": [
    "x = display(\"text/html\", \"<img src=$(html_path_to_svg)>\")"
   ]
  },
  {
   "cell_type": "code",
   "execution_count": 32,
   "metadata": {},
   "outputs": [
    {
     "name": "stderr",
     "output_type": "stream",
     "text": [
      "\u001b[32mProgress: 100%|█████████████████████████████████████████| Time: 0:00:02\u001b[39m\n",
      "\u001b[32mProgress: 100%|█████████████████████████████████████████| Time: 0:00:02\u001b[39m\n",
      "\u001b[32mProgress: 100%|█████████████████████████████████████████| Time: 0:00:01\u001b[39m\n",
      "\u001b[32mProgress: 100%|█████████████████████████████████████████| Time: 0:00:01\u001b[39m\n",
      "\u001b[32mProgress: 100%|█████████████████████████████████████████| Time: 0:00:02\u001b[39m\n",
      "\u001b[32mProgress: 100%|█████████████████████████████████████████| Time: 0:00:01\u001b[39m\n",
      "\u001b[32mProgress: 100%|█████████████████████████████████████████| Time: 0:00:02\u001b[39m\n",
      "\u001b[32mProgress: 100%|█████████████████████████████████████████| Time: 0:00:02\u001b[39m\n",
      "\u001b[32mProgress: 100%|█████████████████████████████████████████| Time: 0:00:01\u001b[39m\n",
      "\u001b[32mProgress: 100%|█████████████████████████████████████████| Time: 0:00:19\u001b[39m\n",
      "\u001b[32mProgress: 100%|█████████████████████████████████████████| Time: 0:00:01\u001b[39m\n"
     ]
    },
    {
     "data": {
      "text/plain": [
       "\"/Users/cameronprybol/2021-06-20-2021-06-20-100bp-10x-coverage-0.01-error-rate-full/2021-06-20-2021-06-20-100bp-10x-coverage-0.01-error-rate-full.k11.fastq\""
      ]
     },
     "execution_count": 32,
     "metadata": {},
     "output_type": "execute_result"
    }
   ],
   "source": [
    "output_fastq_file = polish_fastq(kmer_graph, fastq_file)"
   ]
  },
  {
   "cell_type": "code",
   "execution_count": 33,
   "metadata": {},
   "outputs": [
    {
     "name": "stderr",
     "output_type": "stream",
     "text": [
      "┌ Info: assessing kmers\n",
      "└ @ Mycelia /Users/cameronprybol/.julia/dev/Mycelia/src/Mycelia.jl:1877\n",
      "┌ Info: creating graph\n",
      "└ @ Mycelia /Users/cameronprybol/.julia/dev/Mycelia/src/Mycelia.jl:1891\n"
     ]
    },
    {
     "data": {
      "text/plain": [
       "{90, 178} directed Int64 metagraph with Float64 weights defined by :weight (default weight 1.0)"
      ]
     },
     "execution_count": 33,
     "metadata": {},
     "output_type": "execute_result"
    }
   ],
   "source": [
    "kmer_graph = Mycelia.fastx_to_kmer_graph(kmer_type, output_fastq_file)"
   ]
  },
  {
   "cell_type": "code",
   "execution_count": 34,
   "metadata": {},
   "outputs": [
    {
     "data": {
      "text/plain": [
       "\"/Users/cameronprybol/2021-06-20-2021-06-20-100bp-10x-coverage-0.01-error-rate-full/2021-06-20-2021-06-20-100bp-10x-coverage-0.01-error-rate-full.k11.fastq.k-11.gfa\""
      ]
     },
     "execution_count": 34,
     "metadata": {},
     "output_type": "execute_result"
    }
   ],
   "source": [
    "# visualize\n",
    "gfa_file = output_fastq_file * \".k-$k.gfa\"\n",
    "Mycelia.graph_to_gfa(kmer_graph, gfa_file)"
   ]
  },
  {
   "cell_type": "code",
   "execution_count": 35,
   "metadata": {},
   "outputs": [
    {
     "data": {
      "text/plain": [
       "Process(`\u001b[4m/Applications/Bandage.app/Contents/MacOS/Bandage\u001b[24m \u001b[4mimage\u001b[24m \u001b[4m/Users/cameronprybol/2021-06-20-2021-06-20-100bp-10x-coverage-0.01-error-rate-full/2021-06-20-2021-06-20-100bp-10x-coverage-0.01-error-rate-full.k11.fastq.k-11.gfa\u001b[24m \u001b[4m/Users/cameronprybol/2021-06-20-2021-06-20-100bp-10x-coverage-0.01-error-rate-full/2021-06-20-2021-06-20-100bp-10x-coverage-0.01-error-rate-full.k11.fastq.k-11.gfa.svg\u001b[24m \u001b[4m--depwidth\u001b[24m \u001b[4m1\u001b[24m \u001b[4m--deppower\u001b[24m \u001b[4m1\u001b[24m`, ProcessExited(0))"
      ]
     },
     "execution_count": 35,
     "metadata": {},
     "output_type": "execute_result"
    }
   ],
   "source": [
    "run(`/Applications/Bandage.app/Contents/MacOS/Bandage image $(gfa_file) $(gfa_file).svg --depwidth 1 --deppower 1`)\n",
    "# --nodewidth <float> Average node width (0.5 to 1000, default: 5)\n",
    "# --depwidth <float>  Depth effect on width (0 to 1, default: 0.5)\n",
    "# --deppower <float>  Power of depth effect on width (0 to 1, default: 0.5)"
   ]
  },
  {
   "cell_type": "code",
   "execution_count": 36,
   "metadata": {},
   "outputs": [
    {
     "data": {
      "text/plain": [
       "\"./../../../../2021-06-20-2021-06-20-100bp-10x-coverage-0.01-error-rate-full/2021-06-20-2021-06-20-100bp-10x-coverage-0.01-error-rate-full.k11.fastq.k-11.gfa.svg\""
      ]
     },
     "execution_count": 36,
     "metadata": {},
     "output_type": "execute_result"
    }
   ],
   "source": [
    "html_path_to_svg = \"./\" * repeat(\"../\", length(split(pwd(), '/')) - 3)\n",
    "html_path_to_svg *= replace(\"$(gfa_file).svg\", \"$(homedir())/\" => \"\")"
   ]
  },
  {
   "cell_type": "code",
   "execution_count": 37,
   "metadata": {},
   "outputs": [
    {
     "data": {
      "text/html": [
       "<img src=./../../../../2021-06-20-2021-06-20-100bp-10x-coverage-0.01-error-rate-full/2021-06-20-2021-06-20-100bp-10x-coverage-0.01-error-rate-full.k11.fastq.k-11.gfa.svg>"
      ]
     },
     "metadata": {},
     "output_type": "display_data"
    }
   ],
   "source": [
    "x = display(\"text/html\", \"<img src=$(html_path_to_svg)>\")"
   ]
  },
  {
   "cell_type": "markdown",
   "metadata": {},
   "source": [
    "# Round 2"
   ]
  },
  {
   "cell_type": "code",
   "execution_count": null,
   "metadata": {},
   "outputs": [],
   "source": [
    "k = Primes.nextprime(k+1)"
   ]
  },
  {
   "cell_type": "code",
   "execution_count": null,
   "metadata": {},
   "outputs": [],
   "source": [
    "kmer_type = BioSequences.BigDNAMer{k}"
   ]
  },
  {
   "cell_type": "code",
   "execution_count": null,
   "metadata": {},
   "outputs": [],
   "source": [
    "kmer_graph = Mycelia.fastx_to_kmer_graph(kmer_type, output_fastq_file)"
   ]
  },
  {
   "cell_type": "code",
   "execution_count": null,
   "metadata": {},
   "outputs": [],
   "source": [
    "# visualize\n",
    "gfa_file = output_fastq_file * \".k-$k.gfa\"\n",
    "Mycelia.graph_to_gfa(kmer_graph, gfa_file)"
   ]
  },
  {
   "cell_type": "code",
   "execution_count": null,
   "metadata": {},
   "outputs": [],
   "source": [
    "run(`/Applications/Bandage.app/Contents/MacOS/Bandage image $(gfa_file) $(gfa_file).svg --depwidth 1 --deppower 1`)\n",
    "# --nodewidth <float> Average node width (0.5 to 1000, default: 5)\n",
    "# --depwidth <float>  Depth effect on width (0 to 1, default: 0.5)\n",
    "# --deppower <float>  Power of depth effect on width (0 to 1, default: 0.5)"
   ]
  },
  {
   "cell_type": "code",
   "execution_count": null,
   "metadata": {},
   "outputs": [],
   "source": [
    "html_path_to_svg = \"./\" * repeat(\"../\", length(split(pwd(), '/')) - 3)\n",
    "html_path_to_svg *= replace(\"$(gfa_file).svg\", \"$(homedir())/\" => \"\")"
   ]
  },
  {
   "cell_type": "code",
   "execution_count": null,
   "metadata": {},
   "outputs": [],
   "source": [
    "x = display(\"text/html\", \"<img src=$(html_path_to_svg)>\")"
   ]
  },
  {
   "cell_type": "code",
   "execution_count": null,
   "metadata": {},
   "outputs": [],
   "source": [
    "output_fastq_file = polish_fastq(kmer_graph, output_fastq_file)"
   ]
  },
  {
   "cell_type": "code",
   "execution_count": null,
   "metadata": {},
   "outputs": [],
   "source": [
    "kmer_graph = Mycelia.fastx_to_kmer_graph(kmer_type, output_fastq_file)"
   ]
  },
  {
   "cell_type": "code",
   "execution_count": null,
   "metadata": {},
   "outputs": [],
   "source": [
    "# visualize\n",
    "gfa_file = output_fastq_file * \".k-$k.gfa\"\n",
    "Mycelia.graph_to_gfa(kmer_graph, gfa_file)"
   ]
  },
  {
   "cell_type": "code",
   "execution_count": null,
   "metadata": {},
   "outputs": [],
   "source": [
    "run(`/Applications/Bandage.app/Contents/MacOS/Bandage image $(gfa_file) $(gfa_file).svg --depwidth 1 --deppower 1`)\n",
    "# --nodewidth <float> Average node width (0.5 to 1000, default: 5)\n",
    "# --depwidth <float>  Depth effect on width (0 to 1, default: 0.5)\n",
    "# --deppower <float>  Power of depth effect on width (0 to 1, default: 0.5)"
   ]
  },
  {
   "cell_type": "code",
   "execution_count": null,
   "metadata": {},
   "outputs": [],
   "source": [
    "html_path_to_svg = \"./\" * repeat(\"../\", length(split(pwd(), '/')) - 3)\n",
    "html_path_to_svg *= replace(\"$(gfa_file).svg\", \"$(homedir())/\" => \"\")"
   ]
  },
  {
   "cell_type": "code",
   "execution_count": null,
   "metadata": {},
   "outputs": [],
   "source": [
    "x = display(\"text/html\", \"<img src=$(html_path_to_svg)>\")"
   ]
  }
 ],
 "metadata": {
  "kernelspec": {
   "display_name": "Julia 1.6.1",
   "language": "julia",
   "name": "julia-1.6"
  },
  "language_info": {
   "file_extension": ".jl",
   "mimetype": "application/julia",
   "name": "julia",
   "version": "1.6.1"
  }
 },
 "nbformat": 4,
 "nbformat_minor": 4
}
