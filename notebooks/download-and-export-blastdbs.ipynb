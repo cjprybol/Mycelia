{
 "cells": [
  {
   "cell_type": "code",
   "execution_count": null,
   "id": "89b5c9fd-a800-4d1c-a007-ea67dbd0d9ef",
   "metadata": {
    "tags": []
   },
   "outputs": [],
   "source": [
    "# if hit plotting library issues, try resetting LD path for julia\n",
    "# can set in ~/.local/share/jupyter/kernels/\n",
    "@assert ENV[\"LD_LIBRARY_PATH\"] == \"\"\n",
    "import Pkg\n",
    "Pkg.activate(;temp=true)\n",
    "Pkg.add(\"Revise\")\n",
    "import Revise\n",
    "\n",
    "# Pkg.develop(path=\"/global/cfs/projectdirs/m4269/cjprybol/Mycelia\")\n",
    "# Pkg.develop(path=\"../../..\")\n",
    "Pkg.develop(path=\"$(homedir())/workspace/Mycelia\")\n",
    "import Mycelia\n",
    "\n",
    "pkgs = String[\n",
    "    \"DataFrames\"\n",
    "]\n",
    "Pkg.add(pkgs)\n",
    "for pkg in pkgs\n",
    "    eval(Meta.parse(\"import $pkg\"))\n",
    "end"
   ]
  },
  {
   "cell_type": "code",
   "execution_count": null,
   "id": "1e7840b2-86e8-4e9b-9d6e-54052b32c9ad",
   "metadata": {
    "tags": []
   },
   "outputs": [],
   "source": [
    "dbs = [\n",
    "    \"nt_others\",\n",
    "    \"ref_viroids_rep_genomes\",\n",
    "    \"ref_viruses_rep_genomes\",\n",
    "    \"ref_prok_rep_genomes\",\n",
    "    \"nt_viruses\",\n",
    "    \"nt_prok\",\n",
    "    \"ref_euk_rep_genomes\",\n",
    "    \"nt_euk\",\n",
    "    \"nt\"\n",
    "]"
   ]
  },
  {
   "cell_type": "code",
   "execution_count": null,
   "id": "4d0f8262-b919-4312-a74a-f98f47ca1885",
   "metadata": {
    "tags": []
   },
   "outputs": [],
   "source": [
    "for db in dbs\n",
    "    @show db\n",
    "    # use NCBI so that we only re-download the database fragments that have changed\n",
    "    path_to_db = Mycelia.download_blast_db(db=db, source=\"ncbi\")\n",
    "    # write out to fna - note this doesn't check to see if the fasta is out of date - but it should\n",
    "    Mycelia.export_blast_db(path_to_db = path_to_db)\n",
    "end"
   ]
  }
 ],
 "metadata": {
  "kernelspec": {
   "display_name": "Julia 1.10.2",
   "language": "julia",
   "name": "julia-1.10"
  },
  "language_info": {
   "file_extension": ".jl",
   "mimetype": "application/julia",
   "name": "julia",
   "version": "1.10.2"
  }
 },
 "nbformat": 4,
 "nbformat_minor": 5
}
