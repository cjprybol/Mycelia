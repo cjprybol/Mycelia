{
 "cells": [
  {
   "cell_type": "code",
   "execution_count": null,
   "id": "89b5c9fd-a800-4d1c-a007-ea67dbd0d9ef",
   "metadata": {
    "tags": []
   },
   "outputs": [],
   "source": [
    "# if hit plotting library issues, try resetting LD path for julia\n",
    "# can set in ~/.local/share/jupyter/kernels/\n",
    "haskey(ENV, \"LD_LIBRARY_PATH\") && @assert ENV[\"LD_LIBRARY_PATH\"] == \"\"\n",
    "import Pkg\n",
    "Pkg.activate(;temp=true)\n",
    "Pkg.add(\"Revise\")\n",
    "import Revise\n",
    "\n",
    "Pkg.develop(path=\"$(homedir())/workspace/Mycelia\")\n",
    "import Mycelia\n",
    "\n",
    "pkgs = String[\n",
    "    \"DataFrames\",\n",
    "    \"CodecZlib\",\n",
    "    \"FASTX\"\n",
    "]\n",
    "Pkg.add(pkgs)\n",
    "for pkg in pkgs\n",
    "    eval(Meta.parse(\"import $pkg\"))\n",
    "end"
   ]
  },
  {
   "cell_type": "code",
   "execution_count": null,
   "id": "f2444cef-1fb3-4528-bca8-0b0009c1bb45",
   "metadata": {},
   "outputs": [],
   "source": [
    "# 20240918.nr.faa.gz"
   ]
  },
  {
   "cell_type": "code",
   "execution_count": null,
   "id": "32d2d76d-20a5-4737-baca-1703919a6e6f",
   "metadata": {},
   "outputs": [],
   "source": [
    "# blast_dbs_dir = joinpath([ENV[\"SCRATCH\"], \"workspace\", \"blastdb\"])\n",
    "blast_dbs_dir = joinpath([homedir(), \"workspace\", \"blastdb\"])"
   ]
  },
  {
   "cell_type": "code",
   "execution_count": null,
   "id": "104b428a-5049-4e7b-b65b-427aedb88abd",
   "metadata": {
    "tags": []
   },
   "outputs": [],
   "source": [
    "# map to blast NR\n",
    "blast_db = \"20240918.nr\"\n",
    "blast_db_path = joinpath(blast_dbs_dir, blast_db)\n",
    "blast_db_fasta = blast_db_path * \".faa.gz\"\n",
    "@assert isfile(blast_db_fasta)"
   ]
  },
  {
   "cell_type": "code",
   "execution_count": null,
   "id": "ec4564a0-9288-4ca1-89db-cfb97fa81a8a",
   "metadata": {
    "tags": []
   },
   "outputs": [],
   "source": [
    "# map to blast NT\n",
    "# blast_db = \"20240418.nt\"\n",
    "# blast_db_path = joinpath(blast_dbs_dir, blast_db)\n",
    "# blast_db_fasta = blast_db_path * \".fna.gz\"\n",
    "# @assert isfile(blast_db_fasta)\n",
    "\n",
    "# path_to_db = joinpath(homedir(), \"workspace\", \"blastdb\", blast_db)\n"
   ]
  },
  {
   "cell_type": "code",
   "execution_count": null,
   "id": "4363bfd7-5768-4f1e-9ba1-03a960d9d411",
   "metadata": {
    "tags": []
   },
   "outputs": [],
   "source": [
    "function normalize_fasta_for_setencepience(; in_fasta, output = replace(in_fasta, r\"\\.gz$\" => \".normalized.txt.gz\"), buffer_size = 1024 * 1024)\n",
    "    n_records = 0\n",
    "    n_residues = 0\n",
    "    @show output\n",
    "    @assert occursin(r\"\\.gz$\", output)\n",
    "\n",
    "    open(output, \"w\") do io\n",
    "        gzio = CodecZlib.GzipCompressorStream(io)\n",
    "        buffer = IOBuffer()\n",
    "        reader = Mycelia.open_fastx(in_fasta)\n",
    "        # Mycelia.open_fastx(in_fasta) do reader\n",
    "        for record in reader\n",
    "            seq = FASTX.sequence(record)\n",
    "            normalized_seq = uppercase(seq)\n",
    "            write(buffer, normalized_seq, \"\\n\")\n",
    "            n_records += 1\n",
    "            n_residues += length(normalized_seq)\n",
    "\n",
    "            if bytesavailable(buffer) >= buffer_size\n",
    "                write(gzio, take!(buffer))\n",
    "            end\n",
    "        end\n",
    "        close(reader)\n",
    "\n",
    "        if bytesavailable(buffer) > 0\n",
    "            write(gzio, take!(buffer))\n",
    "        end\n",
    "\n",
    "        close(gzio)\n",
    "    end\n",
    "\n",
    "    @show n_records\n",
    "    @show n_residues\n",
    "    return output\n",
    "end\n",
    "\n",
    "@time normalize_fasta_for_setencepience(in_fasta = blast_db_fasta)"
   ]
  },
  {
   "cell_type": "code",
   "execution_count": null,
   "id": "e9bb7832-dd5f-4694-8097-d279a0488082",
   "metadata": {
    "tags": []
   },
   "outputs": [],
   "source": [
    "# function normalize_fasta_for_setencepience(;in_fasta, output=replace(in_fasta, r\"\\.gz$\" => \".normalized.txt.gz\"))\n",
    "#     n_records = 0\n",
    "#     n_residues = 0\n",
    "#     @show output\n",
    "#     @assert occursin(r\"\\.gz$\", output)\n",
    "#     open(output, \"w\") do io\n",
    "#         gzio = CodecZlib.GzipCompressorStream(io)\n",
    "#         for record in Mycelia.open_fastx(in_fasta)\n",
    "#             seq = FASTX.sequence(record)\n",
    "#             normalized_seq = uppercase(seq)\n",
    "#             println(gzio, normalized_seq)\n",
    "#             n_records += 1\n",
    "#             n_residues += length(normalized_seq)\n",
    "#         end\n",
    "#         close(gzio)\n",
    "#     end\n",
    "#     @show n_records\n",
    "#     @show n_residues\n",
    "#     return output\n",
    "# end\n",
    "\n",
    "# @time normalize_fasta_for_setencepience(in_fasta = blast_db_fasta)"
   ]
  },
  {
   "cell_type": "code",
   "execution_count": null,
   "id": "1e7840b2-86e8-4e9b-9d6e-54052b32c9ad",
   "metadata": {
    "tags": []
   },
   "outputs": [],
   "source": [
    "# dbs = [\n",
    "#     \"nr\",\n",
    "#     \"nt\"\n",
    "# ]"
   ]
  },
  {
   "cell_type": "code",
   "execution_count": null,
   "id": "4d0f8262-b919-4312-a74a-f98f47ca1885",
   "metadata": {
    "tags": []
   },
   "outputs": [],
   "source": [
    "# for db in dbs\n",
    "#     @show db\n",
    "#     # use NCBI so that we only re-download the database fragments that have changed\n",
    "#     path_to_db = Mycelia.download_blast_db(db=db, source=\"ncbi\")\n",
    "#     # write out to fna - note this doesn't check to see if the fasta is out of date - but it should\n",
    "#     Mycelia.export_blast_db(path_to_db = path_to_db)\n",
    "# end"
   ]
  }
 ],
 "metadata": {
  "kernelspec": {
   "display_name": "Julia 1.10.2",
   "language": "julia",
   "name": "julia-1.10"
  },
  "language_info": {
   "file_extension": ".jl",
   "mimetype": "application/julia",
   "name": "julia",
   "version": "1.10.2"
  }
 },
 "nbformat": 4,
 "nbformat_minor": 5
}
