{
 "cells": [
  {
   "cell_type": "code",
   "execution_count": 1,
   "id": "6ac73c46-51c9-4fea-845f-fb17ce8d83a2",
   "metadata": {},
   "outputs": [
    {
     "data": {
      "text/plain": [
       "\"/home/jovyan/2021-08-24-assess-convergence-phage-1000x-coverage\""
      ]
     },
     "execution_count": 1,
     "metadata": {},
     "output_type": "execute_result"
    }
   ],
   "source": [
    "DATE = \"2021-08-24\"\n",
    "TASK = \"assess-convergence-phage-1000x-coverage\"\n",
    "DIR = mkpath(\"$(homedir())/$(DATE)-$(TASK)\")"
   ]
  },
  {
   "cell_type": "code",
   "execution_count": 32,
   "id": "38cb383f-3696-4b4b-a732-9a2059e0681a",
   "metadata": {},
   "outputs": [],
   "source": [
    "import Pkg\n",
    "pkgs = [\n",
    "#     \"BioAlignments\",\n",
    "    \"BioSequences\",\n",
    "    \"Clustering\",\n",
    "#     \"CodecZlib\",\n",
    "#     \"Colors\",\n",
    "#     \"Combinatorics\",\n",
    "#     \"DataFrames\",\n",
    "#     \"DataStructures\",\n",
    "    \"Dates\",\n",
    "#     \"DelimitedFiles\",\n",
    "#     \"Distances\",\n",
    "#     \"EzXML\",\n",
    "    \"FASTX\",\n",
    "#     \"GFF3\",\n",
    "#     \"HTTP\",\n",
    "#     \"Impute\",\n",
    "#     \"JSON\",\n",
    "    \"LightGraphs\",\n",
    "    \"LSHFunctions\",\n",
    "#     \"Measures\",\n",
    "    \"MetaGraphs\",\n",
    "    \"https://github.com/cjprybol/Mycelia.git\",\n",
    "#     \"NumericIO\",\n",
    "#     \"PlotlyJS\",\n",
    "#     \"Plots\",\n",
    "    \"Primes\",\n",
    "#     \"Printf\",\n",
    "    \"ProgressMeter\",\n",
    "    \"Random\",\n",
    "    \"Revise\",\n",
    "    \"SparseArrays\",\n",
    "    \"Statistics\",\n",
    "    \"StatsBase\",\n",
    "    \"StatsPlots\",\n",
    "#     \"StringDistances\",\n",
    "#     \"uCSV\",\n",
    "#     \"XLSX\",\n",
    "]\n",
    "\n",
    "unregistered_packages = filter(pkg -> occursin(r\"(^https|git$)\", pkg), pkgs)\n",
    "registered_packages = setdiff(pkgs, unregistered_packages)\n",
    "\n",
    "for pkg in registered_packages\n",
    "    try\n",
    "        eval(Meta.parse(\"import $(pkg)\"))\n",
    "    catch\n",
    "        Pkg.add(pkg)\n",
    "        Pkg.build(pkg)\n",
    "        eval(Meta.parse(\"import $(pkg)\"))\n",
    "    end\n",
    "end\n",
    "\n",
    "for pkg_url in unregistered_packages\n",
    "    pkg_name = replace(basename(pkg_url), \".git\" => \"\")\n",
    "    try\n",
    "        eval(Meta.parse(\"import $(pkg_name)\"))\n",
    "    catch\n",
    "        Pkg.develop(url=pkg_url)\n",
    "        Pkg.build(pkg_name)\n",
    "        eval(Meta.parse(\"import $(pkg_name)\"))\n",
    "    end\n",
    "end"
   ]
  },
  {
   "cell_type": "code",
   "execution_count": 3,
   "id": "9f9307c7-1b35-4283-b1cb-adc87dc05f20",
   "metadata": {},
   "outputs": [
    {
     "data": {
      "text/plain": [
       "\"Bandage\""
      ]
     },
     "execution_count": 3,
     "metadata": {},
     "output_type": "execute_result"
    }
   ],
   "source": [
    "if Sys.isapple()\n",
    "    BANDAGE = \"/Applications/Bandage.app/Contents/MacOS/Bandage\"\n",
    "else\n",
    "    BANDAGE = \"Bandage\"\n",
    "end"
   ]
  },
  {
   "cell_type": "code",
   "execution_count": 4,
   "id": "8824e5f4-fcd5-4d3d-b77c-9d1086788677",
   "metadata": {},
   "outputs": [
    {
     "data": {
      "text/plain": [
       "assess_kmer_sparsity_in_reads (generic function with 1 method)"
      ]
     },
     "execution_count": 4,
     "metadata": {},
     "output_type": "execute_result"
    }
   ],
   "source": [
    "function assess_kmer_sparsity_in_reads(k, observations)\n",
    "#     @show k, observations\n",
    "    canonical_kmer_counts = Mycelia.count_canonical_kmers(BioSequences.DNAMer{k}, observations)\n",
    "#     canonical_kmer_counts = Mycelia.count_canonical_kmers(BioSequences.DNAMer{k}, first(observations))\n",
    "# #     @show canonical_kmer_counts\n",
    "#     for i in 2:length(observations)\n",
    "#         canonical_kmer_counts_ = Mycelia.count_canonical_kmers(BioSequences.DNAMer{k}, observations[i])\n",
    "#         canonical_kmer_counts = merge!(+, canonical_kmer_counts, canonical_kmer_counts_)\n",
    "#     end\n",
    "#     canonical_kmer_counts = map(o -> Mycelia.count_canonical_kmers(BioSequences.DNAMer{k}, o), observations)...)\n",
    "    total_observed_canonical_kmers = length(keys(canonical_kmer_counts))\n",
    "    total_possible_canonical_kmers = (4^k)/2\n",
    "    sparsity = round(total_observed_canonical_kmers/total_possible_canonical_kmers*100, sigdigits=3)\n",
    "    @show sparsity\n",
    "    return sparsity\n",
    "end"
   ]
  },
  {
   "cell_type": "code",
   "execution_count": 5,
   "id": "148b6939-0508-487c-91d1-94da6aa1409e",
   "metadata": {},
   "outputs": [
    {
     "data": {
      "text/plain": [
       "sequence_to_canonical_kmers (generic function with 1 method)"
      ]
     },
     "execution_count": 5,
     "metadata": {},
     "output_type": "execute_result"
    }
   ],
   "source": [
    "function sequence_to_canonical_kmers(kmer_type, sequence)\n",
    "    return (BioSequences.canonical(kmer.fw) for kmer in BioSequences.each(kmer_type, sequence))\n",
    "end"
   ]
  },
  {
   "cell_type": "code",
   "execution_count": 6,
   "id": "02e895c2-a0a6-40c6-841c-ebbf274c0a47",
   "metadata": {},
   "outputs": [
    {
     "data": {
      "text/plain": [
       "determine_edge_weights (generic function with 1 method)"
      ]
     },
     "execution_count": 6,
     "metadata": {},
     "output_type": "execute_result"
    }
   ],
   "source": [
    "function determine_edge_weights(graph)\n",
    "    outgoing_edge_probabilities = determine_edge_weights(graph, true)\n",
    "    incoming_edge_probabilities = determine_edge_weights(graph, false)\n",
    "    return Dict(true => outgoing_edge_probabilities, false => incoming_edge_probabilities)\n",
    "end"
   ]
  },
  {
   "cell_type": "code",
   "execution_count": 7,
   "id": "6212dc49-005c-40f9-8922-b80b3971c004",
   "metadata": {},
   "outputs": [
    {
     "data": {
      "text/plain": [
       "determine_edge_weights (generic function with 2 methods)"
      ]
     },
     "execution_count": 7,
     "metadata": {},
     "output_type": "execute_result"
    }
   ],
   "source": [
    "function determine_edge_weights(graph, strand)\n",
    "    kmers = [graph.vprops[v][:kmer] for v in LightGraphs.vertices(graph)]\n",
    "    outgoing_edge_weights = SparseArrays.spzeros(length(kmers), length(kmers))\n",
    "    \n",
    "    for (kmer_index, kmer) in enumerate(kmers)\n",
    "        if !strand\n",
    "            kmer = BioSequences.reverse_complement(kmer)\n",
    "        end\n",
    "        \n",
    "        downstream_neighbors = []\n",
    "        downstream_neighbor_weights = []\n",
    "        for neighbor in BioSequences.neighbors(kmer)\n",
    "            canonical_neighbor = BioSequences.canonical(neighbor)\n",
    "            neighbor_orientation = neighbor == canonical_neighbor\n",
    "            \n",
    "            neighbor_index_range = searchsorted(kmers, canonical_neighbor)\n",
    "            if !isempty(neighbor_index_range)\n",
    "                @assert length(neighbor_index_range) == 1\n",
    "                neighbor_index = first(neighbor_index_range)\n",
    "                if LightGraphs.has_edge(graph, LightGraphs.Edge(kmer_index, neighbor_index))\n",
    "                    edge_orientations = graph.eprops[LightGraphs.Edge(kmer_index, neighbor_index)][:orientations]\n",
    "                    this_edge_orientation = (source_orientation = strand, destination_orientation = neighbor_orientation)\n",
    "                    if this_edge_orientation in edge_orientations\n",
    "                        edge_weight = graph.eprops[LightGraphs.Edge(kmer_index, neighbor_index)][:weight]\n",
    "                        outgoing_edge_weights[kmer_index, neighbor_index] = edge_weight\n",
    "                    end\n",
    "                end\n",
    "            end\n",
    "        end\n",
    "    end\n",
    "    return outgoing_edge_weights\n",
    "end"
   ]
  },
  {
   "cell_type": "code",
   "execution_count": 8,
   "id": "33ffd192-f852-43e8-8eb1-3c19f5fe6141",
   "metadata": {},
   "outputs": [
    {
     "data": {
      "text/plain": [
       "determine_edge_probabilities (generic function with 1 method)"
      ]
     },
     "execution_count": 8,
     "metadata": {},
     "output_type": "execute_result"
    }
   ],
   "source": [
    "function determine_edge_probabilities(edge_weights)\n",
    "    edge_probabilities = deepcopy(edge_weights)\n",
    "    for orientation in [true, false]\n",
    "        for row in 1:size(edge_probabilities[orientation], 1)\n",
    "            edge_weights = edge_probabilities[orientation][row, :]\n",
    "            edge_total = sum(edge_weights)\n",
    "            for (col, edge_weight) in enumerate(edge_weights)\n",
    "                if edge_total > 0\n",
    "                    edge_probabilities[orientation][row, col] = edge_weight/edge_total\n",
    "                else\n",
    "                    edge_probabilities[orientation][row, col] = 0.0\n",
    "                end\n",
    "            end\n",
    "        end\n",
    "    end\n",
    "    return edge_probabilities\n",
    "end"
   ]
  },
  {
   "cell_type": "code",
   "execution_count": 9,
   "id": "94750a47-abaa-48ac-9c0e-e7422260ec26",
   "metadata": {},
   "outputs": [
    {
     "data": {
      "text/plain": [
       "random_step (generic function with 1 method)"
      ]
     },
     "execution_count": 9,
     "metadata": {},
     "output_type": "execute_result"
    }
   ],
   "source": [
    "function random_step(current_vertex, current_orientation, step_probabilities)\n",
    "    outgoing_edge_likelihoods = step_probabilities[initial_orientation][current_vertex, :]\n",
    "    chosen_step = StatsBase.sample(outgoing_edge_likelihoods.nzind, StatsBase.weights(outgoing_edge_likelihoods.nzval))\n",
    "    possible_orientations = observation_graph.eprops[LightGraphs.Edge(current_vertex, chosen_step)][:orientations]\n",
    "    possible_orientations = filter(o -> o.source_orientation == current_orientation, possible_orientations)\n",
    "    chosen_orientation = rand(possible_orientations).destination_orientation\n",
    "    chosen_oriented_step = (vertex = chosen_step, orientation = chosen_orientation)\n",
    "    return chosen_oriented_step\n",
    "end"
   ]
  },
  {
   "cell_type": "code",
   "execution_count": 10,
   "id": "1ed368e8-bbee-4634-ac66-af3203e5fb11",
   "metadata": {},
   "outputs": [
    {
     "data": {
      "text/plain": [
       "random_walk (generic function with 1 method)"
      ]
     },
     "execution_count": 10,
     "metadata": {},
     "output_type": "execute_result"
    }
   ],
   "source": [
    "function random_walk(observation_graph, initial_vertex, initial_orientation, step_probabilities; n_steps=size(step_probabilities[true], 1))\n",
    "    step_count = 0\n",
    "    outgoing_edge_likelihoods = step_probabilities[initial_orientation][initial_vertex, :]\n",
    "    walk = Vector{NamedTuple{(:vertex, :orientation), Tuple{Int64, Bool}}}()\n",
    "    done = (step_count > n_steps) || (sum(outgoing_edge_likelihoods) == 0)\n",
    "    current_vertex = initial_vertex\n",
    "    current_orientation = initial_orientation\n",
    "    while !done\n",
    "#         @show \"choosing\"\n",
    "        chosen_step = StatsBase.sample(outgoing_edge_likelihoods.nzind, StatsBase.weights(outgoing_edge_likelihoods.nzval))\n",
    "        chosen_step\n",
    "        possible_orientations = observation_graph.eprops[LightGraphs.Edge(current_vertex, chosen_step)][:orientations]\n",
    "        possible_orientations\n",
    "        current_orientation\n",
    "        possible_orientations = filter(o -> o.source_orientation == current_orientation, possible_orientations)\n",
    "        possible_orientations\n",
    "        chosen_orientation = rand(possible_orientations).destination_orientation\n",
    "        chosen_oriented_step = (vertex = chosen_step, orientation = chosen_orientation)\n",
    "        push!(walk, chosen_oriented_step)\n",
    "        current_vertex = chosen_step\n",
    "        current_orientation = chosen_orientation\n",
    "        outgoing_edge_likelihoods = step_probabilities[last(walk).orientation][last(walk).vertex, :]\n",
    "        step_count += 1\n",
    "#         @show outgoing_edge_likelihoods\n",
    "        done = (step_count > n_steps) || (sum(outgoing_edge_likelihoods) == 0)\n",
    "    end\n",
    "    return walk\n",
    "end"
   ]
  },
  {
   "cell_type": "code",
   "execution_count": 11,
   "id": "03bc3ce0-24b7-4f8b-a90a-050b61c211e5",
   "metadata": {},
   "outputs": [
    {
     "data": {
      "text/plain": [
       "FASTX.FASTA.Record:\n",
       "   identifier: 3905072901333009698\n",
       "  description: <missing>\n",
       "     sequence: GGCGCGTGCTAGCGGTGTGGTTCTACATTGTATTGTATT…"
      ]
     },
     "execution_count": 11,
     "metadata": {},
     "output_type": "execute_result"
    }
   ],
   "source": [
    "# generate a genome\n",
    "sequence_length = 1_000\n",
    "sequence = BioSequences.randdnaseq(Random.seed!(sequence_length), sequence_length)\n",
    "sequence_id = string(hash(sequence))\n",
    "fasta_record = FASTX.FASTA.Record(sequence_id, sequence)"
   ]
  },
  {
   "cell_type": "code",
   "execution_count": 12,
   "id": "6b67def7-76e6-4227-a0de-f34d6d3173f5",
   "metadata": {},
   "outputs": [],
   "source": [
    "reference_fasta_file = \"$(DIR)/LENGTH-$(sequence_length).fasta\"\n",
    "open(reference_fasta_file, \"w\") do io\n",
    "    fastx_io = FASTX.FASTA.Writer(io)\n",
    "    write(fastx_io, fasta_record)\n",
    "    close(fastx_io)\n",
    "end"
   ]
  },
  {
   "cell_type": "code",
   "execution_count": 13,
   "id": "4ad0d8c4-641b-4872-8c16-57fc2ce80cde",
   "metadata": {},
   "outputs": [],
   "source": [
    "# randomly sample reads with errors from the genome\n",
    "error_rate = 0.01\n",
    "n_reads = 100\n",
    "\n",
    "# observations = [Mycelia.observe(FASTX.sequence(record), error_rate = error_rate) for i in 1:n_reads]\n",
    "observations = [Mycelia.observe(fasta_record, error_rate = error_rate) for i in 1:n_reads];"
   ]
  },
  {
   "cell_type": "code",
   "execution_count": 14,
   "id": "d0d65fbf-8343-4a15-9266-6acbd0690d57",
   "metadata": {},
   "outputs": [],
   "source": [
    "# determine distribution of read lengths"
   ]
  },
  {
   "cell_type": "code",
   "execution_count": 15,
   "id": "9f6b1ac0-bf9d-4916-940a-2148ea361442",
   "metadata": {},
   "outputs": [
    {
     "data": {
      "text/plain": [
       "990"
      ]
     },
     "execution_count": 15,
     "metadata": {},
     "output_type": "execute_result"
    }
   ],
   "source": [
    "median_read_length = Statistics.median(length.(FASTX.sequence.(observations)))\n",
    "std_deviation_read_length = Statistics.std(length.(FASTX.sequence.(observations)))\n",
    "captures_99_percent_of_reads = Int(floor(median_read_length - 4*std_deviation_read_length))"
   ]
  },
  {
   "cell_type": "code",
   "execution_count": 16,
   "id": "a4085a37-0a1b-4a8c-9115-9baf8882b5e0",
   "metadata": {},
   "outputs": [
    {
     "name": "stdout",
     "output_type": "stream",
     "text": [
      "sparsity = 0.0318\n",
      "sparsity = 0.00016\n",
      "k = 17\n"
     ]
    },
    {
     "data": {
      "text/plain": [
       "17"
      ]
     },
     "execution_count": 16,
     "metadata": {},
     "output_type": "execute_result"
    }
   ],
   "source": [
    "# determine optimal k\n",
    "min_k = min(13, captures_99_percent_of_reads)\n",
    "max_k = min(61, captures_99_percent_of_reads)\n",
    "k_options = Primes.primes(min_k, max_k)\n",
    "k_index = findfirst(k -> assess_kmer_sparsity_in_reads(k, observations) < .01, k_options)\n",
    "k = k_options[k_index]\n",
    "@show k"
   ]
  },
  {
   "cell_type": "code",
   "execution_count": 17,
   "id": "14964bd9-c1b2-469c-92cc-c467b631358b",
   "metadata": {},
   "outputs": [],
   "source": [
    "observations_file = \"$(DIR)/LENGTH-$(sequence_length)-DEPTH-$(n_reads).fastq\"\n",
    "open(observations_file, \"w\") do io\n",
    "    fastq_io = FASTX.FASTQ.Writer(io)\n",
    "    for record in observations\n",
    "        write(fastq_io, record)\n",
    "    end\n",
    "    close(fastq_io)\n",
    "end"
   ]
  },
  {
   "cell_type": "markdown",
   "id": "5884b85a-bc25-44a0-b6f4-fe938758f824",
   "metadata": {},
   "source": [
    "# Begin graph resolving of observation graph"
   ]
  },
  {
   "cell_type": "code",
   "execution_count": null,
   "id": "351d47d9-a8c9-4a7a-8d47-9b604bdb7f41",
   "metadata": {},
   "outputs": [],
   "source": [
    "# assess kmer counts"
   ]
  },
  {
   "cell_type": "code",
   "execution_count": null,
   "id": "d4c4ee10-d428-4aa4-a71e-9c610339ff28",
   "metadata": {},
   "outputs": [],
   "source": [
    "# fit linear trendline to kmer counts"
   ]
  },
  {
   "cell_type": "code",
   "execution_count": null,
   "id": "41e1f331-25ba-4ac5-a282-07894c5c8bd4",
   "metadata": {},
   "outputs": [],
   "source": [
    "# apply thresholding when constructing kmer graph at the trendline"
   ]
  },
  {
   "cell_type": "code",
   "execution_count": 21,
   "id": "7764dfed-7461-42d0-b4bc-ec7de4f173c9",
   "metadata": {},
   "outputs": [
    {
     "data": {
      "text/plain": [
       "25-element Vector{Pair{Int64, Int64}}:\n",
       "  1 => 11574\n",
       "  2 => 1019\n",
       "  3 => 118\n",
       "  4 => 2\n",
       "  5 => 12\n",
       " 75 => 2\n",
       " 76 => 5\n",
       " 77 => 16\n",
       " 78 => 19\n",
       " 79 => 19\n",
       " 80 => 29\n",
       " 81 => 43\n",
       " 82 => 45\n",
       " 83 => 71\n",
       " 84 => 92\n",
       " 85 => 95\n",
       " 86 => 102\n",
       " 87 => 115\n",
       " 88 => 81\n",
       " 89 => 93\n",
       " 90 => 67\n",
       " 91 => 48\n",
       " 92 => 26\n",
       " 93 => 12\n",
       " 94 => 4"
      ]
     },
     "execution_count": 21,
     "metadata": {},
     "output_type": "execute_result"
    }
   ],
   "source": [
    "kmer_counts_histogram = sort(collect(StatsBase.countmap(values(Mycelia.count_canonical_kmers(BioSequences.DNAMer{k}, observations_file)))), by=x->x[1])"
   ]
  },
  {
   "cell_type": "code",
   "execution_count": 28,
   "id": "b65107b0-b733-48ac-845b-b2f9e7d3ca8f",
   "metadata": {},
   "outputs": [
    {
     "data": {
      "image/svg+xml": [
       "<?xml version=\"1.0\" encoding=\"utf-8\"?>\n",
       "<svg xmlns=\"http://www.w3.org/2000/svg\" xmlns:xlink=\"http://www.w3.org/1999/xlink\" width=\"600\" height=\"400\" viewBox=\"0 0 2400 1600\">\n",
       "<defs>\n",
       "  <clipPath id=\"clip030\">\n",
       "    <rect x=\"0\" y=\"0\" width=\"2400\" height=\"1600\"/>\n",
       "  </clipPath>\n",
       "</defs>\n",
       "<path clip-path=\"url(#clip030)\" d=\"\n",
       "M0 1600 L2400 1600 L2400 0 L0 0  Z\n",
       "  \" fill=\"#ffffff\" fill-rule=\"evenodd\" fill-opacity=\"1\"/>\n",
       "<defs>\n",
       "  <clipPath id=\"clip031\">\n",
       "    <rect x=\"480\" y=\"0\" width=\"1681\" height=\"1600\"/>\n",
       "  </clipPath>\n",
       "</defs>\n",
       "<path clip-path=\"url(#clip030)\" d=\"\n",
       "M141.853 1486.45 L2352.76 1486.45 L2352.76 47.2441 L141.853 47.2441  Z\n",
       "  \" fill=\"#ffffff\" fill-rule=\"evenodd\" fill-opacity=\"1\"/>\n",
       "<defs>\n",
       "  <clipPath id=\"clip032\">\n",
       "    <rect x=\"141\" y=\"47\" width=\"2212\" height=\"1440\"/>\n",
       "  </clipPath>\n",
       "</defs>\n",
       "<polyline clip-path=\"url(#clip032)\" style=\"stroke:#000000; stroke-linecap:butt; stroke-linejoin:round; stroke-width:2; stroke-opacity:0.1; fill:none\" points=\"\n",
       "  552.052,1486.45 552.052,47.2441 \n",
       "  \"/>\n",
       "<polyline clip-path=\"url(#clip032)\" style=\"stroke:#000000; stroke-linecap:butt; stroke-linejoin:round; stroke-width:2; stroke-opacity:0.1; fill:none\" points=\"\n",
       "  986.585,1486.45 986.585,47.2441 \n",
       "  \"/>\n",
       "<polyline clip-path=\"url(#clip032)\" style=\"stroke:#000000; stroke-linecap:butt; stroke-linejoin:round; stroke-width:2; stroke-opacity:0.1; fill:none\" points=\"\n",
       "  1421.12,1486.45 1421.12,47.2441 \n",
       "  \"/>\n",
       "<polyline clip-path=\"url(#clip032)\" style=\"stroke:#000000; stroke-linecap:butt; stroke-linejoin:round; stroke-width:2; stroke-opacity:0.1; fill:none\" points=\"\n",
       "  1855.65,1486.45 1855.65,47.2441 \n",
       "  \"/>\n",
       "<polyline clip-path=\"url(#clip032)\" style=\"stroke:#000000; stroke-linecap:butt; stroke-linejoin:round; stroke-width:2; stroke-opacity:0.1; fill:none\" points=\"\n",
       "  2290.18,1486.45 2290.18,47.2441 \n",
       "  \"/>\n",
       "<polyline clip-path=\"url(#clip030)\" style=\"stroke:#000000; stroke-linecap:butt; stroke-linejoin:round; stroke-width:4; stroke-opacity:1; fill:none\" points=\"\n",
       "  141.853,1486.45 2352.76,1486.45 \n",
       "  \"/>\n",
       "<polyline clip-path=\"url(#clip030)\" style=\"stroke:#000000; stroke-linecap:butt; stroke-linejoin:round; stroke-width:4; stroke-opacity:1; fill:none\" points=\"\n",
       "  552.052,1486.45 552.052,1467.55 \n",
       "  \"/>\n",
       "<polyline clip-path=\"url(#clip030)\" style=\"stroke:#000000; stroke-linecap:butt; stroke-linejoin:round; stroke-width:4; stroke-opacity:1; fill:none\" points=\"\n",
       "  986.585,1486.45 986.585,1467.55 \n",
       "  \"/>\n",
       "<polyline clip-path=\"url(#clip030)\" style=\"stroke:#000000; stroke-linecap:butt; stroke-linejoin:round; stroke-width:4; stroke-opacity:1; fill:none\" points=\"\n",
       "  1421.12,1486.45 1421.12,1467.55 \n",
       "  \"/>\n",
       "<polyline clip-path=\"url(#clip030)\" style=\"stroke:#000000; stroke-linecap:butt; stroke-linejoin:round; stroke-width:4; stroke-opacity:1; fill:none\" points=\"\n",
       "  1855.65,1486.45 1855.65,1467.55 \n",
       "  \"/>\n",
       "<polyline clip-path=\"url(#clip030)\" style=\"stroke:#000000; stroke-linecap:butt; stroke-linejoin:round; stroke-width:4; stroke-opacity:1; fill:none\" points=\"\n",
       "  2290.18,1486.45 2290.18,1467.55 \n",
       "  \"/>\n",
       "<path clip-path=\"url(#clip030)\" d=\"M542.33 1512.56 L560.686 1512.56 L560.686 1516.5 L546.612 1516.5 L546.612 1524.97 Q547.631 1524.62 548.649 1524.46 Q549.668 1524.27 550.686 1524.27 Q556.473 1524.27 559.853 1527.44 Q563.232 1530.62 563.232 1536.03 Q563.232 1541.61 559.76 1544.71 Q556.288 1547.79 549.969 1547.79 Q547.793 1547.79 545.524 1547.42 Q543.279 1547.05 540.871 1546.31 L540.871 1541.61 Q542.955 1542.74 545.177 1543.3 Q547.399 1543.86 549.876 1543.86 Q553.881 1543.86 556.219 1541.75 Q558.557 1539.64 558.557 1536.03 Q558.557 1532.42 556.219 1530.31 Q553.881 1528.21 549.876 1528.21 Q548.001 1528.21 546.126 1528.62 Q544.274 1529.04 542.33 1529.92 L542.33 1512.56 Z\" fill=\"#000000\" fill-rule=\"evenodd\" fill-opacity=\"1\" /><path clip-path=\"url(#clip030)\" d=\"M961.272 1543.18 L968.911 1543.18 L968.911 1516.82 L960.601 1518.49 L960.601 1514.23 L968.865 1512.56 L973.541 1512.56 L973.541 1543.18 L981.18 1543.18 L981.18 1547.12 L961.272 1547.12 L961.272 1543.18 Z\" fill=\"#000000\" fill-rule=\"evenodd\" fill-opacity=\"1\" /><path clip-path=\"url(#clip030)\" d=\"M1000.62 1515.64 Q997.013 1515.64 995.184 1519.2 Q993.379 1522.75 993.379 1529.87 Q993.379 1536.98 995.184 1540.55 Q997.013 1544.09 1000.62 1544.09 Q1004.26 1544.09 1006.06 1540.55 Q1007.89 1536.98 1007.89 1529.87 Q1007.89 1522.75 1006.06 1519.2 Q1004.26 1515.64 1000.62 1515.64 M1000.62 1511.93 Q1006.43 1511.93 1009.49 1516.54 Q1012.57 1521.12 1012.57 1529.87 Q1012.57 1538.6 1009.49 1543.21 Q1006.43 1547.79 1000.62 1547.79 Q994.814 1547.79 991.735 1543.21 Q988.68 1538.6 988.68 1529.87 Q988.68 1521.12 991.735 1516.54 Q994.814 1511.93 1000.62 1511.93 Z\" fill=\"#000000\" fill-rule=\"evenodd\" fill-opacity=\"1\" /><path clip-path=\"url(#clip030)\" d=\"M1396.3 1543.18 L1403.94 1543.18 L1403.94 1516.82 L1395.63 1518.49 L1395.63 1514.23 L1403.9 1512.56 L1408.57 1512.56 L1408.57 1543.18 L1416.21 1543.18 L1416.21 1547.12 L1396.3 1547.12 L1396.3 1543.18 Z\" fill=\"#000000\" fill-rule=\"evenodd\" fill-opacity=\"1\" /><path clip-path=\"url(#clip030)\" d=\"M1425.7 1512.56 L1444.06 1512.56 L1444.06 1516.5 L1429.98 1516.5 L1429.98 1524.97 Q1431 1524.62 1432.02 1524.46 Q1433.04 1524.27 1434.06 1524.27 Q1439.84 1524.27 1443.22 1527.44 Q1446.6 1530.62 1446.6 1536.03 Q1446.6 1541.61 1443.13 1544.71 Q1439.66 1547.79 1433.34 1547.79 Q1431.16 1547.79 1428.9 1547.42 Q1426.65 1547.05 1424.24 1546.31 L1424.24 1541.61 Q1426.33 1542.74 1428.55 1543.3 Q1430.77 1543.86 1433.25 1543.86 Q1437.25 1543.86 1439.59 1541.75 Q1441.93 1539.64 1441.93 1536.03 Q1441.93 1532.42 1439.59 1530.31 Q1437.25 1528.21 1433.25 1528.21 Q1431.37 1528.21 1429.5 1528.62 Q1427.65 1529.04 1425.7 1529.92 L1425.7 1512.56 Z\" fill=\"#000000\" fill-rule=\"evenodd\" fill-opacity=\"1\" /><path clip-path=\"url(#clip030)\" d=\"M1834.42 1543.18 L1850.74 1543.18 L1850.74 1547.12 L1828.8 1547.12 L1828.8 1543.18 Q1831.46 1540.43 1836.04 1535.8 Q1840.65 1531.15 1841.83 1529.81 Q1844.08 1527.28 1844.96 1525.55 Q1845.86 1523.79 1845.86 1522.1 Q1845.86 1519.34 1843.91 1517.61 Q1841.99 1515.87 1838.89 1515.87 Q1836.69 1515.87 1834.24 1516.63 Q1831.81 1517.4 1829.03 1518.95 L1829.03 1514.23 Q1831.85 1513.09 1834.31 1512.51 Q1836.76 1511.93 1838.8 1511.93 Q1844.17 1511.93 1847.36 1514.62 Q1850.56 1517.31 1850.56 1521.8 Q1850.56 1523.93 1849.75 1525.85 Q1848.96 1527.74 1846.85 1530.34 Q1846.28 1531.01 1843.17 1534.23 Q1840.07 1537.42 1834.42 1543.18 Z\" fill=\"#000000\" fill-rule=\"evenodd\" fill-opacity=\"1\" /><path clip-path=\"url(#clip030)\" d=\"M1870.56 1515.64 Q1866.95 1515.64 1865.12 1519.2 Q1863.31 1522.75 1863.31 1529.87 Q1863.31 1536.98 1865.12 1540.55 Q1866.95 1544.09 1870.56 1544.09 Q1874.19 1544.09 1876 1540.55 Q1877.83 1536.98 1877.83 1529.87 Q1877.83 1522.75 1876 1519.2 Q1874.19 1515.64 1870.56 1515.64 M1870.56 1511.93 Q1876.37 1511.93 1879.42 1516.54 Q1882.5 1521.12 1882.5 1529.87 Q1882.5 1538.6 1879.42 1543.21 Q1876.37 1547.79 1870.56 1547.79 Q1864.75 1547.79 1861.67 1543.21 Q1858.61 1538.6 1858.61 1529.87 Q1858.61 1521.12 1861.67 1516.54 Q1864.75 1511.93 1870.56 1511.93 Z\" fill=\"#000000\" fill-rule=\"evenodd\" fill-opacity=\"1\" /><path clip-path=\"url(#clip030)\" d=\"M2269.45 1543.18 L2285.77 1543.18 L2285.77 1547.12 L2263.83 1547.12 L2263.83 1543.18 Q2266.49 1540.43 2271.07 1535.8 Q2275.68 1531.15 2276.86 1529.81 Q2279.11 1527.28 2279.99 1525.55 Q2280.89 1523.79 2280.89 1522.1 Q2280.89 1519.34 2278.94 1517.61 Q2277.02 1515.87 2273.92 1515.87 Q2271.72 1515.87 2269.27 1516.63 Q2266.84 1517.4 2264.06 1518.95 L2264.06 1514.23 Q2266.88 1513.09 2269.34 1512.51 Q2271.79 1511.93 2273.83 1511.93 Q2279.2 1511.93 2282.39 1514.62 Q2285.59 1517.31 2285.59 1521.8 Q2285.59 1523.93 2284.78 1525.85 Q2283.99 1527.74 2281.88 1530.34 Q2281.31 1531.01 2278.2 1534.23 Q2275.1 1537.42 2269.45 1543.18 Z\" fill=\"#000000\" fill-rule=\"evenodd\" fill-opacity=\"1\" /><path clip-path=\"url(#clip030)\" d=\"M2295.63 1512.56 L2313.99 1512.56 L2313.99 1516.5 L2299.92 1516.5 L2299.92 1524.97 Q2300.94 1524.62 2301.95 1524.46 Q2302.97 1524.27 2303.99 1524.27 Q2309.78 1524.27 2313.16 1527.44 Q2316.54 1530.62 2316.54 1536.03 Q2316.54 1541.61 2313.07 1544.71 Q2309.59 1547.79 2303.27 1547.79 Q2301.1 1547.79 2298.83 1547.42 Q2296.58 1547.05 2294.18 1546.31 L2294.18 1541.61 Q2296.26 1542.74 2298.48 1543.3 Q2300.7 1543.86 2303.18 1543.86 Q2307.19 1543.86 2309.52 1541.75 Q2311.86 1539.64 2311.86 1536.03 Q2311.86 1532.42 2309.52 1530.31 Q2307.19 1528.21 2303.18 1528.21 Q2301.31 1528.21 2299.43 1528.62 Q2297.58 1529.04 2295.63 1529.92 L2295.63 1512.56 Z\" fill=\"#000000\" fill-rule=\"evenodd\" fill-opacity=\"1\" /><polyline clip-path=\"url(#clip032)\" style=\"stroke:#000000; stroke-linecap:butt; stroke-linejoin:round; stroke-width:2; stroke-opacity:0.1; fill:none\" points=\"\n",
       "  141.853,1460.32 2352.76,1460.32 \n",
       "  \"/>\n",
       "<polyline clip-path=\"url(#clip032)\" style=\"stroke:#000000; stroke-linecap:butt; stroke-linejoin:round; stroke-width:2; stroke-opacity:0.1; fill:none\" points=\"\n",
       "  141.853,1168.33 2352.76,1168.33 \n",
       "  \"/>\n",
       "<polyline clip-path=\"url(#clip032)\" style=\"stroke:#000000; stroke-linecap:butt; stroke-linejoin:round; stroke-width:2; stroke-opacity:0.1; fill:none\" points=\"\n",
       "  141.853,876.341 2352.76,876.341 \n",
       "  \"/>\n",
       "<polyline clip-path=\"url(#clip032)\" style=\"stroke:#000000; stroke-linecap:butt; stroke-linejoin:round; stroke-width:2; stroke-opacity:0.1; fill:none\" points=\"\n",
       "  141.853,584.354 2352.76,584.354 \n",
       "  \"/>\n",
       "<polyline clip-path=\"url(#clip032)\" style=\"stroke:#000000; stroke-linecap:butt; stroke-linejoin:round; stroke-width:2; stroke-opacity:0.1; fill:none\" points=\"\n",
       "  141.853,292.367 2352.76,292.367 \n",
       "  \"/>\n",
       "<polyline clip-path=\"url(#clip030)\" style=\"stroke:#000000; stroke-linecap:butt; stroke-linejoin:round; stroke-width:4; stroke-opacity:1; fill:none\" points=\"\n",
       "  141.853,1486.45 141.853,47.2441 \n",
       "  \"/>\n",
       "<polyline clip-path=\"url(#clip030)\" style=\"stroke:#000000; stroke-linecap:butt; stroke-linejoin:round; stroke-width:4; stroke-opacity:1; fill:none\" points=\"\n",
       "  141.853,1460.32 160.751,1460.32 \n",
       "  \"/>\n",
       "<polyline clip-path=\"url(#clip030)\" style=\"stroke:#000000; stroke-linecap:butt; stroke-linejoin:round; stroke-width:4; stroke-opacity:1; fill:none\" points=\"\n",
       "  141.853,1168.33 160.751,1168.33 \n",
       "  \"/>\n",
       "<polyline clip-path=\"url(#clip030)\" style=\"stroke:#000000; stroke-linecap:butt; stroke-linejoin:round; stroke-width:4; stroke-opacity:1; fill:none\" points=\"\n",
       "  141.853,876.341 160.751,876.341 \n",
       "  \"/>\n",
       "<polyline clip-path=\"url(#clip030)\" style=\"stroke:#000000; stroke-linecap:butt; stroke-linejoin:round; stroke-width:4; stroke-opacity:1; fill:none\" points=\"\n",
       "  141.853,584.354 160.751,584.354 \n",
       "  \"/>\n",
       "<polyline clip-path=\"url(#clip030)\" style=\"stroke:#000000; stroke-linecap:butt; stroke-linejoin:round; stroke-width:4; stroke-opacity:1; fill:none\" points=\"\n",
       "  141.853,292.367 160.751,292.367 \n",
       "  \"/>\n",
       "<path clip-path=\"url(#clip030)\" d=\"M93.9086 1446.11 Q90.2975 1446.11 88.4688 1449.68 Q86.6632 1453.22 86.6632 1460.35 Q86.6632 1467.46 88.4688 1471.02 Q90.2975 1474.56 93.9086 1474.56 Q97.5428 1474.56 99.3483 1471.02 Q101.177 1467.46 101.177 1460.35 Q101.177 1453.22 99.3483 1449.68 Q97.5428 1446.11 93.9086 1446.11 M93.9086 1442.41 Q99.7187 1442.41 102.774 1447.02 Q105.853 1451.6 105.853 1460.35 Q105.853 1469.08 102.774 1473.68 Q99.7187 1478.27 93.9086 1478.27 Q88.0984 1478.27 85.0197 1473.68 Q81.9642 1469.08 81.9642 1460.35 Q81.9642 1451.6 85.0197 1447.02 Q88.0984 1442.41 93.9086 1442.41 Z\" fill=\"#000000\" fill-rule=\"evenodd\" fill-opacity=\"1\" /><path clip-path=\"url(#clip030)\" d=\"M57.7745 1181.67 L74.0939 1181.67 L74.0939 1185.61 L52.1495 1185.61 L52.1495 1181.67 Q54.8115 1178.92 59.3949 1174.29 Q64.0013 1169.64 65.1819 1168.29 Q67.4272 1165.77 68.3068 1164.03 Q69.2096 1162.27 69.2096 1160.59 Q69.2096 1157.83 67.2652 1156.09 Q65.3439 1154.36 62.2421 1154.36 Q60.043 1154.36 57.5893 1155.12 Q55.1588 1155.89 52.381 1157.44 L52.381 1152.71 Q55.2051 1151.58 57.6588 1151 Q60.1124 1150.42 62.1495 1150.42 Q67.5198 1150.42 70.7142 1153.11 Q73.9087 1155.79 73.9087 1160.28 Q73.9087 1162.41 73.0985 1164.34 Q72.3115 1166.23 70.205 1168.83 Q69.6263 1169.5 66.5245 1172.71 Q63.4226 1175.91 57.7745 1181.67 Z\" fill=\"#000000\" fill-rule=\"evenodd\" fill-opacity=\"1\" /><path clip-path=\"url(#clip030)\" d=\"M93.9086 1154.13 Q90.2975 1154.13 88.4688 1157.69 Q86.6632 1161.23 86.6632 1168.36 Q86.6632 1175.47 88.4688 1179.03 Q90.2975 1182.58 93.9086 1182.58 Q97.5428 1182.58 99.3483 1179.03 Q101.177 1175.47 101.177 1168.36 Q101.177 1161.23 99.3483 1157.69 Q97.5428 1154.13 93.9086 1154.13 M93.9086 1150.42 Q99.7187 1150.42 102.774 1155.03 Q105.853 1159.61 105.853 1168.36 Q105.853 1177.09 102.774 1181.7 Q99.7187 1186.28 93.9086 1186.28 Q88.0984 1186.28 85.0197 1181.7 Q81.9642 1177.09 81.9642 1168.36 Q81.9642 1159.61 85.0197 1155.03 Q88.0984 1150.42 93.9086 1150.42 Z\" fill=\"#000000\" fill-rule=\"evenodd\" fill-opacity=\"1\" /><path clip-path=\"url(#clip030)\" d=\"M66.5939 863.135 L54.7884 881.584 L66.5939 881.584 L66.5939 863.135 M65.367 859.061 L71.2466 859.061 L71.2466 881.584 L76.1772 881.584 L76.1772 885.473 L71.2466 885.473 L71.2466 893.621 L66.5939 893.621 L66.5939 885.473 L50.9921 885.473 L50.9921 880.959 L65.367 859.061 Z\" fill=\"#000000\" fill-rule=\"evenodd\" fill-opacity=\"1\" /><path clip-path=\"url(#clip030)\" d=\"M93.9086 862.14 Q90.2975 862.14 88.4688 865.705 Q86.6632 869.246 86.6632 876.376 Q86.6632 883.482 88.4688 887.047 Q90.2975 890.589 93.9086 890.589 Q97.5428 890.589 99.3483 887.047 Q101.177 883.482 101.177 876.376 Q101.177 869.246 99.3483 865.705 Q97.5428 862.14 93.9086 862.14 M93.9086 858.436 Q99.7187 858.436 102.774 863.043 Q105.853 867.626 105.853 876.376 Q105.853 885.103 102.774 889.709 Q99.7187 894.292 93.9086 894.292 Q88.0984 894.292 85.0197 889.709 Q81.9642 885.103 81.9642 876.376 Q81.9642 867.626 85.0197 863.043 Q88.0984 858.436 93.9086 858.436 Z\" fill=\"#000000\" fill-rule=\"evenodd\" fill-opacity=\"1\" /><path clip-path=\"url(#clip030)\" d=\"M64.3254 582.491 Q61.1773 582.491 59.3254 584.643 Q57.4967 586.796 57.4967 590.546 Q57.4967 594.273 59.3254 596.449 Q61.1773 598.602 64.3254 598.602 Q67.4735 598.602 69.3022 596.449 Q71.1541 594.273 71.1541 590.546 Q71.1541 586.796 69.3022 584.643 Q67.4735 582.491 64.3254 582.491 M73.6077 567.838 L73.6077 572.097 Q71.8485 571.264 70.0429 570.824 Q68.2606 570.384 66.5013 570.384 Q61.8717 570.384 59.418 573.509 Q56.9875 576.634 56.6402 582.954 Q58.006 580.94 60.0662 579.875 Q62.1263 578.787 64.6032 578.787 Q69.8115 578.787 72.8207 581.958 Q75.8531 585.106 75.8531 590.546 Q75.8531 595.87 72.705 599.088 Q69.5568 602.305 64.3254 602.305 Q58.33 602.305 55.1588 597.722 Q51.9875 593.116 51.9875 584.389 Q51.9875 576.194 55.8764 571.333 Q59.7652 566.449 66.3161 566.449 Q68.0754 566.449 69.8578 566.796 Q71.6633 567.144 73.6077 567.838 Z\" fill=\"#000000\" fill-rule=\"evenodd\" fill-opacity=\"1\" /><path clip-path=\"url(#clip030)\" d=\"M93.9086 570.153 Q90.2975 570.153 88.4688 573.718 Q86.6632 577.259 86.6632 584.389 Q86.6632 591.495 88.4688 595.06 Q90.2975 598.602 93.9086 598.602 Q97.5428 598.602 99.3483 595.06 Q101.177 591.495 101.177 584.389 Q101.177 577.259 99.3483 573.718 Q97.5428 570.153 93.9086 570.153 M93.9086 566.449 Q99.7187 566.449 102.774 571.056 Q105.853 575.639 105.853 584.389 Q105.853 593.116 102.774 597.722 Q99.7187 602.305 93.9086 602.305 Q88.0984 602.305 85.0197 597.722 Q81.9642 593.116 81.9642 584.389 Q81.9642 575.639 85.0197 571.056 Q88.0984 566.449 93.9086 566.449 Z\" fill=\"#000000\" fill-rule=\"evenodd\" fill-opacity=\"1\" /><path clip-path=\"url(#clip030)\" d=\"M63.7467 293.235 Q60.4134 293.235 58.4921 295.018 Q56.5939 296.8 56.5939 299.925 Q56.5939 303.05 58.4921 304.832 Q60.4134 306.615 63.7467 306.615 Q67.08 306.615 69.0013 304.832 Q70.9226 303.027 70.9226 299.925 Q70.9226 296.8 69.0013 295.018 Q67.1032 293.235 63.7467 293.235 M59.0708 291.244 Q56.0615 290.504 54.3717 288.444 Q52.7051 286.383 52.7051 283.42 Q52.7051 279.277 55.6449 276.87 Q58.6078 274.462 63.7467 274.462 Q68.9087 274.462 71.8485 276.87 Q74.7883 279.277 74.7883 283.42 Q74.7883 286.383 73.0985 288.444 Q71.4318 290.504 68.4457 291.244 Q71.8253 292.032 73.7003 294.323 Q75.5985 296.615 75.5985 299.925 Q75.5985 304.948 72.5198 307.633 Q69.4642 310.318 63.7467 310.318 Q58.0291 310.318 54.9504 307.633 Q51.8949 304.948 51.8949 299.925 Q51.8949 296.615 53.793 294.323 Q55.6912 292.032 59.0708 291.244 M57.3578 283.86 Q57.3578 286.545 59.0245 288.05 Q60.7143 289.555 63.7467 289.555 Q66.7559 289.555 68.4457 288.05 Q70.1587 286.545 70.1587 283.86 Q70.1587 281.175 68.4457 279.67 Q66.7559 278.166 63.7467 278.166 Q60.7143 278.166 59.0245 279.67 Q57.3578 281.175 57.3578 283.86 Z\" fill=\"#000000\" fill-rule=\"evenodd\" fill-opacity=\"1\" /><path clip-path=\"url(#clip030)\" d=\"M93.9086 278.166 Q90.2975 278.166 88.4688 281.731 Q86.6632 285.272 86.6632 292.402 Q86.6632 299.508 88.4688 303.073 Q90.2975 306.615 93.9086 306.615 Q97.5428 306.615 99.3483 303.073 Q101.177 299.508 101.177 292.402 Q101.177 285.272 99.3483 281.731 Q97.5428 278.166 93.9086 278.166 M93.9086 274.462 Q99.7187 274.462 102.774 279.069 Q105.853 283.652 105.853 292.402 Q105.853 301.129 102.774 305.735 Q99.7187 310.318 93.9086 310.318 Q88.0984 310.318 85.0197 305.735 Q81.9642 301.129 81.9642 292.402 Q81.9642 283.652 85.0197 279.069 Q88.0984 274.462 93.9086 274.462 Z\" fill=\"#000000\" fill-rule=\"evenodd\" fill-opacity=\"1\" /><circle clip-path=\"url(#clip032)\" cx=\"204.426\" cy=\"1445.72\" r=\"14\" fill=\"#009af9\" fill-rule=\"evenodd\" fill-opacity=\"1\" stroke=\"#000000\" stroke-opacity=\"1\" stroke-width=\"3.2\"/>\n",
       "<circle clip-path=\"url(#clip032)\" cx=\"291.332\" cy=\"1431.12\" r=\"14\" fill=\"#009af9\" fill-rule=\"evenodd\" fill-opacity=\"1\" stroke=\"#000000\" stroke-opacity=\"1\" stroke-width=\"3.2\"/>\n",
       "<circle clip-path=\"url(#clip032)\" cx=\"378.239\" cy=\"1416.52\" r=\"14\" fill=\"#009af9\" fill-rule=\"evenodd\" fill-opacity=\"1\" stroke=\"#000000\" stroke-opacity=\"1\" stroke-width=\"3.2\"/>\n",
       "<circle clip-path=\"url(#clip032)\" cx=\"465.145\" cy=\"1401.92\" r=\"14\" fill=\"#009af9\" fill-rule=\"evenodd\" fill-opacity=\"1\" stroke=\"#000000\" stroke-opacity=\"1\" stroke-width=\"3.2\"/>\n",
       "<circle clip-path=\"url(#clip032)\" cx=\"552.052\" cy=\"1387.32\" r=\"14\" fill=\"#009af9\" fill-rule=\"evenodd\" fill-opacity=\"1\" stroke=\"#000000\" stroke-opacity=\"1\" stroke-width=\"3.2\"/>\n",
       "<circle clip-path=\"url(#clip032)\" cx=\"638.958\" cy=\"365.364\" r=\"14\" fill=\"#009af9\" fill-rule=\"evenodd\" fill-opacity=\"1\" stroke=\"#000000\" stroke-opacity=\"1\" stroke-width=\"3.2\"/>\n",
       "<circle clip-path=\"url(#clip032)\" cx=\"725.865\" cy=\"350.765\" r=\"14\" fill=\"#009af9\" fill-rule=\"evenodd\" fill-opacity=\"1\" stroke=\"#000000\" stroke-opacity=\"1\" stroke-width=\"3.2\"/>\n",
       "<circle clip-path=\"url(#clip032)\" cx=\"812.772\" cy=\"336.165\" r=\"14\" fill=\"#009af9\" fill-rule=\"evenodd\" fill-opacity=\"1\" stroke=\"#000000\" stroke-opacity=\"1\" stroke-width=\"3.2\"/>\n",
       "<circle clip-path=\"url(#clip032)\" cx=\"899.678\" cy=\"321.566\" r=\"14\" fill=\"#009af9\" fill-rule=\"evenodd\" fill-opacity=\"1\" stroke=\"#000000\" stroke-opacity=\"1\" stroke-width=\"3.2\"/>\n",
       "<circle clip-path=\"url(#clip032)\" cx=\"986.585\" cy=\"306.967\" r=\"14\" fill=\"#009af9\" fill-rule=\"evenodd\" fill-opacity=\"1\" stroke=\"#000000\" stroke-opacity=\"1\" stroke-width=\"3.2\"/>\n",
       "<circle clip-path=\"url(#clip032)\" cx=\"1073.49\" cy=\"292.367\" r=\"14\" fill=\"#009af9\" fill-rule=\"evenodd\" fill-opacity=\"1\" stroke=\"#000000\" stroke-opacity=\"1\" stroke-width=\"3.2\"/>\n",
       "<circle clip-path=\"url(#clip032)\" cx=\"1160.4\" cy=\"277.768\" r=\"14\" fill=\"#009af9\" fill-rule=\"evenodd\" fill-opacity=\"1\" stroke=\"#000000\" stroke-opacity=\"1\" stroke-width=\"3.2\"/>\n",
       "<circle clip-path=\"url(#clip032)\" cx=\"1247.3\" cy=\"263.168\" r=\"14\" fill=\"#009af9\" fill-rule=\"evenodd\" fill-opacity=\"1\" stroke=\"#000000\" stroke-opacity=\"1\" stroke-width=\"3.2\"/>\n",
       "<circle clip-path=\"url(#clip032)\" cx=\"1334.21\" cy=\"248.569\" r=\"14\" fill=\"#009af9\" fill-rule=\"evenodd\" fill-opacity=\"1\" stroke=\"#000000\" stroke-opacity=\"1\" stroke-width=\"3.2\"/>\n",
       "<circle clip-path=\"url(#clip032)\" cx=\"1421.12\" cy=\"233.97\" r=\"14\" fill=\"#009af9\" fill-rule=\"evenodd\" fill-opacity=\"1\" stroke=\"#000000\" stroke-opacity=\"1\" stroke-width=\"3.2\"/>\n",
       "<circle clip-path=\"url(#clip032)\" cx=\"1508.02\" cy=\"219.37\" r=\"14\" fill=\"#009af9\" fill-rule=\"evenodd\" fill-opacity=\"1\" stroke=\"#000000\" stroke-opacity=\"1\" stroke-width=\"3.2\"/>\n",
       "<circle clip-path=\"url(#clip032)\" cx=\"1594.93\" cy=\"204.771\" r=\"14\" fill=\"#009af9\" fill-rule=\"evenodd\" fill-opacity=\"1\" stroke=\"#000000\" stroke-opacity=\"1\" stroke-width=\"3.2\"/>\n",
       "<circle clip-path=\"url(#clip032)\" cx=\"1681.84\" cy=\"190.172\" r=\"14\" fill=\"#009af9\" fill-rule=\"evenodd\" fill-opacity=\"1\" stroke=\"#000000\" stroke-opacity=\"1\" stroke-width=\"3.2\"/>\n",
       "<circle clip-path=\"url(#clip032)\" cx=\"1768.74\" cy=\"175.572\" r=\"14\" fill=\"#009af9\" fill-rule=\"evenodd\" fill-opacity=\"1\" stroke=\"#000000\" stroke-opacity=\"1\" stroke-width=\"3.2\"/>\n",
       "<circle clip-path=\"url(#clip032)\" cx=\"1855.65\" cy=\"160.973\" r=\"14\" fill=\"#009af9\" fill-rule=\"evenodd\" fill-opacity=\"1\" stroke=\"#000000\" stroke-opacity=\"1\" stroke-width=\"3.2\"/>\n",
       "<circle clip-path=\"url(#clip032)\" cx=\"1942.56\" cy=\"146.374\" r=\"14\" fill=\"#009af9\" fill-rule=\"evenodd\" fill-opacity=\"1\" stroke=\"#000000\" stroke-opacity=\"1\" stroke-width=\"3.2\"/>\n",
       "<circle clip-path=\"url(#clip032)\" cx=\"2029.46\" cy=\"131.774\" r=\"14\" fill=\"#009af9\" fill-rule=\"evenodd\" fill-opacity=\"1\" stroke=\"#000000\" stroke-opacity=\"1\" stroke-width=\"3.2\"/>\n",
       "<circle clip-path=\"url(#clip032)\" cx=\"2116.37\" cy=\"117.175\" r=\"14\" fill=\"#009af9\" fill-rule=\"evenodd\" fill-opacity=\"1\" stroke=\"#000000\" stroke-opacity=\"1\" stroke-width=\"3.2\"/>\n",
       "<circle clip-path=\"url(#clip032)\" cx=\"2203.28\" cy=\"102.576\" r=\"14\" fill=\"#009af9\" fill-rule=\"evenodd\" fill-opacity=\"1\" stroke=\"#000000\" stroke-opacity=\"1\" stroke-width=\"3.2\"/>\n",
       "<circle clip-path=\"url(#clip032)\" cx=\"2290.18\" cy=\"87.9763\" r=\"14\" fill=\"#009af9\" fill-rule=\"evenodd\" fill-opacity=\"1\" stroke=\"#000000\" stroke-opacity=\"1\" stroke-width=\"3.2\"/>\n",
       "<path clip-path=\"url(#clip030)\" d=\"\n",
       "M1980.97 198.898 L2279.06 198.898 L2279.06 95.2176 L1980.97 95.2176  Z\n",
       "  \" fill=\"#ffffff\" fill-rule=\"evenodd\" fill-opacity=\"1\"/>\n",
       "<polyline clip-path=\"url(#clip030)\" style=\"stroke:#000000; stroke-linecap:butt; stroke-linejoin:round; stroke-width:4; stroke-opacity:1; fill:none\" points=\"\n",
       "  1980.97,198.898 2279.06,198.898 2279.06,95.2176 1980.97,95.2176 1980.97,198.898 \n",
       "  \"/>\n",
       "<circle clip-path=\"url(#clip030)\" cx=\"2079.24\" cy=\"147.058\" r=\"23\" fill=\"#009af9\" fill-rule=\"evenodd\" fill-opacity=\"1\" stroke=\"#000000\" stroke-opacity=\"1\" stroke-width=\"5.12\"/>\n",
       "<path clip-path=\"url(#clip030)\" d=\"M2191.34 166.745 Q2189.53 171.375 2187.82 172.787 Q2186.11 174.199 2183.24 174.199 L2179.84 174.199 L2179.84 170.634 L2182.34 170.634 Q2184.09 170.634 2185.07 169.8 Q2186.04 168.967 2187.22 165.865 L2187.98 163.921 L2177.5 138.412 L2182.01 138.412 L2190.11 158.689 L2198.22 138.412 L2202.73 138.412 L2191.34 166.745 Z\" fill=\"#000000\" fill-rule=\"evenodd\" fill-opacity=\"1\" /><path clip-path=\"url(#clip030)\" d=\"M2210.02 160.402 L2217.66 160.402 L2217.66 134.037 L2209.35 135.703 L2209.35 131.444 L2217.61 129.778 L2222.29 129.778 L2222.29 160.402 L2229.93 160.402 L2229.93 164.338 L2210.02 164.338 L2210.02 160.402 Z\" fill=\"#000000\" fill-rule=\"evenodd\" fill-opacity=\"1\" /></svg>\n"
      ]
     },
     "execution_count": 28,
     "metadata": {},
     "output_type": "execute_result"
    }
   ],
   "source": [
    "StatsPlots.scatter(first.(kmer_counts_histogram))"
   ]
  },
  {
   "cell_type": "code",
   "execution_count": 29,
   "id": "1d2bf3a6-c1b8-4ce2-a4de-38ef380b735a",
   "metadata": {},
   "outputs": [
    {
     "data": {
      "text/plain": [
       "25-element Vector{Int64}:\n",
       "  1\n",
       "  2\n",
       "  3\n",
       "  4\n",
       "  5\n",
       " 75\n",
       " 76\n",
       " 77\n",
       " 78\n",
       " 79\n",
       " 80\n",
       " 81\n",
       " 82\n",
       " 83\n",
       " 84\n",
       " 85\n",
       " 86\n",
       " 87\n",
       " 88\n",
       " 89\n",
       " 90\n",
       " 91\n",
       " 92\n",
       " 93\n",
       " 94"
      ]
     },
     "execution_count": 29,
     "metadata": {},
     "output_type": "execute_result"
    }
   ],
   "source": [
    "kmer_depth_of_coverage_bins = first.(kmer_counts_histogram)"
   ]
  },
  {
   "cell_type": "code",
   "execution_count": 31,
   "id": "1013438f-d6d3-4627-aa5a-606623a4ae48",
   "metadata": {},
   "outputs": [
    {
     "data": {
      "text/plain": [
       "25×25 Matrix{Int64}:\n",
       "  0   1   2   3   4  74  75  76  77  …  85  86  87  88  89  90  91  92  93\n",
       "  1   0   1   2   3  73  74  75  76     84  85  86  87  88  89  90  91  92\n",
       "  2   1   0   1   2  72  73  74  75     83  84  85  86  87  88  89  90  91\n",
       "  3   2   1   0   1  71  72  73  74     82  83  84  85  86  87  88  89  90\n",
       "  4   3   2   1   0  70  71  72  73     81  82  83  84  85  86  87  88  89\n",
       " 74  73  72  71  70   0   1   2   3  …  11  12  13  14  15  16  17  18  19\n",
       " 75  74  73  72  71   1   0   1   2     10  11  12  13  14  15  16  17  18\n",
       " 76  75  74  73  72   2   1   0   1      9  10  11  12  13  14  15  16  17\n",
       " 77  76  75  74  73   3   2   1   0      8   9  10  11  12  13  14  15  16\n",
       " 78  77  76  75  74   4   3   2   1      7   8   9  10  11  12  13  14  15\n",
       " 79  78  77  76  75   5   4   3   2  …   6   7   8   9  10  11  12  13  14\n",
       " 80  79  78  77  76   6   5   4   3      5   6   7   8   9  10  11  12  13\n",
       " 81  80  79  78  77   7   6   5   4      4   5   6   7   8   9  10  11  12\n",
       " 82  81  80  79  78   8   7   6   5      3   4   5   6   7   8   9  10  11\n",
       " 83  82  81  80  79   9   8   7   6      2   3   4   5   6   7   8   9  10\n",
       " 84  83  82  81  80  10   9   8   7  …   1   2   3   4   5   6   7   8   9\n",
       " 85  84  83  82  81  11  10   9   8      0   1   2   3   4   5   6   7   8\n",
       " 86  85  84  83  82  12  11  10   9      1   0   1   2   3   4   5   6   7\n",
       " 87  86  85  84  83  13  12  11  10      2   1   0   1   2   3   4   5   6\n",
       " 88  87  86  85  84  14  13  12  11      3   2   1   0   1   2   3   4   5\n",
       " 89  88  87  86  85  15  14  13  12  …   4   3   2   1   0   1   2   3   4\n",
       " 90  89  88  87  86  16  15  14  13      5   4   3   2   1   0   1   2   3\n",
       " 91  90  89  88  87  17  16  15  14      6   5   4   3   2   1   0   1   2\n",
       " 92  91  90  89  88  18  17  16  15      7   6   5   4   3   2   1   0   1\n",
       " 93  92  91  90  89  19  18  17  16      8   7   6   5   4   3   2   1   0"
      ]
     },
     "execution_count": 31,
     "metadata": {},
     "output_type": "execute_result"
    }
   ],
   "source": [
    "distance_matrix = zeros(Int, (length(kmer_depth_of_coverage_bins), length(kmer_depth_of_coverage_bins)))\n",
    "for (row, depth_of_coverage_bin_1) in enumerate(kmer_depth_of_coverage_bins)\n",
    "    for (col, depth_of_coverage_bin_2) in enumerate(kmer_depth_of_coverage_bins)\n",
    "        distance = abs(depth_of_coverage_bin_1 - depth_of_coverage_bin_2)\n",
    "        distance_matrix[row, col] = distance\n",
    "    end\n",
    "end\n",
    "distance_matrix"
   ]
  },
  {
   "cell_type": "code",
   "execution_count": null,
   "id": "2d4645de-168a-45fb-95f3-ebe04f6b3f8c",
   "metadata": {},
   "outputs": [],
   "source": [
    "results_table = DataFrames.DataFrame(k = Int[], model = )"
   ]
  },
  {
   "cell_type": "code",
   "execution_count": 33,
   "id": "3fb75318-9893-4c86-981d-294ff098c213",
   "metadata": {},
   "outputs": [
    {
     "data": {
      "text/plain": [
       "Clustering.KmedoidsResult{Int64}"
      ]
     },
     "execution_count": 33,
     "metadata": {},
     "output_type": "execute_result"
    }
   ],
   "source": [
    "typeof(Clustering.kmedoids(distance_matrix, 1))"
   ]
  },
  {
   "cell_type": "code",
   "execution_count": null,
   "id": "9efe78bb-142b-4cab-90ac-0c577531e9f6",
   "metadata": {},
   "outputs": [],
   "source": [
    "k1_result = "
   ]
  },
  {
   "cell_type": "code",
   "execution_count": 18,
   "id": "72c66702-1c18-4541-a642-64f1c69ad4cb",
   "metadata": {},
   "outputs": [
    {
     "name": "stderr",
     "output_type": "stream",
     "text": [
      "┌ Info: counting kmers\n",
      "└ @ Mycelia /home/jovyan/git/Mycelia/src/Mycelia.jl:2999\n",
      "┌ Info: setting metadata on vertices\n",
      "└ @ Mycelia /home/jovyan/git/Mycelia/src/Mycelia.jl:3007\n",
      "\u001b[32mProgress: 100%|█████████████████████████████████████████| Time: 0:00:02\u001b[39m\n",
      "┌ Info: loading fastx files into graph\n",
      "└ @ Mycelia /home/jovyan/git/Mycelia/src/Mycelia.jl:3016\n",
      "\u001b[32mProgress: 100%|█████████████████████████████████████████| Time: 0:00:01\u001b[39m\n"
     ]
    },
    {
     "data": {
      "text/plain": [
       "{13709, 28906} directed Int64 metagraph with Float64 weights defined by :weight (default weight 1.0)"
      ]
     },
     "execution_count": 18,
     "metadata": {},
     "output_type": "execute_result"
    }
   ],
   "source": [
    "# make me faster by counting edges ahead of time\n",
    "observation_graph = Mycelia.fastx_to_simple_kmer_graph(BioSequences.DNAMer{k}, observations_file)"
   ]
  },
  {
   "cell_type": "code",
   "execution_count": null,
   "id": "f9b79057-1175-4165-82dd-0fde3c385af0",
   "metadata": {},
   "outputs": [],
   "source": [
    "kmer_counts = Dict(observation_graph.vprops[v][:kmer] => observation_graph.vprops[v][:weight] for v in LightGraphs.vertices(observation_graph))\n",
    "total_observed_kmers = sum(values(kmer_counts))\n",
    "kmer_probabilities = Dict(k => v/total_observed_kmers for (k,v) in kmer_counts)\n",
    "scale = 250\n",
    "Mycelia.plot_kmer_frequency_spectra(values(kmer_counts), size=(2scale,scale), title=\"kmer frequencies\")"
   ]
  },
  {
   "cell_type": "code",
   "execution_count": null,
   "id": "fd15af69-a35c-45cf-8399-70bc287d11d7",
   "metadata": {},
   "outputs": [],
   "source": [
    "reference_kmers = keys(Mycelia.count_canonical_kmers(BioSequences.DNAMer{k}, reference_fasta_file))\n",
    "distance_to_reference_graph = 1 - LSHFunctions.jaccard(Set(reference_kmers), Set(keys(kmer_counts)))"
   ]
  },
  {
   "cell_type": "code",
   "execution_count": null,
   "id": "8aa68dd2-82f2-48e9-984a-092df381a39d",
   "metadata": {},
   "outputs": [],
   "source": [
    "kmer_counts_histogram = sort(collect(StatsBase.countmap(collect(values(kmer_counts)))), by=x->x[1])"
   ]
  },
  {
   "cell_type": "code",
   "execution_count": null,
   "id": "65cc7240-e816-4d72-a1c3-db7a740edcf4",
   "metadata": {},
   "outputs": [],
   "source": [
    "# earliest_y_min_index = last(findmin(last.(kmer_counts_histogram)))"
   ]
  },
  {
   "cell_type": "code",
   "execution_count": null,
   "id": "48334d84-02ad-4e29-a9f5-53430c8541ed",
   "metadata": {},
   "outputs": [],
   "source": [
    "# lower_boundary"
   ]
  },
  {
   "cell_type": "code",
   "execution_count": null,
   "id": "a557c7f3-c038-4dc0-b659-e30c3d90c407",
   "metadata": {},
   "outputs": [],
   "source": [
    "# lower_boundary = first(kmer_counts_histogram[43])\n",
    "# lower_boundary_source = \"first minimum\""
   ]
  },
  {
   "cell_type": "code",
   "execution_count": null,
   "id": "885b4f9e-c713-4b40-8630-d086297db9f2",
   "metadata": {},
   "outputs": [],
   "source": [
    "\n",
    "\n",
    "#     try\n",
    "#         # take the first 1/denominator datapoints in the set\n",
    "#         # to capture the error line on the left side of the graph\n",
    "#         @info \"fitting error curve\"\n",
    "#         denominators = [2^i for i in 1:5]\n",
    "#         coeficient_matrix = zeros(length(denominators), 2)\n",
    "#         for (i, denominator) in enumerate(denominators)\n",
    "#             prefix_index = Int(floor(length(X)/denominator))\n",
    "#             _x = X[1:prefix_index]\n",
    "#             _y = Y[1:prefix_index]\n",
    "#             model = GLM.lm(GLM.@formula(Y ~ X), DataFrames.DataFrame(X = _x, Y = _y))\n",
    "#             coeficient_matrix[i, :] = GLM.coef(model)\n",
    "#         end\n",
    "#         median_intercept = Statistics.median(coeficient_matrix[:, 1])\n",
    "#         median_slope = Statistics.median(coeficient_matrix[:, 2])\n",
    "\n",
    "#         X_intercept = (0 - median_intercept) / median_slope\n",
    "\n",
    "#         # some libraries detect the x_intercept being AFTER the end of the data\n",
    "#         # in these instances detect the earliest x-minimum\n",
    "#         if X_intercept < lower_boundary\n",
    "#             lower_boundary = X_intercept\n",
    "#             lower_boundary_source = \"detected x-intercept\"\n",
    "#         end\n",
    "#     catch\n",
    "#         @info \"unable to fit regression\"\n",
    "#     end\n",
    "\n",
    "#     p = StatsPlots.vline!(p,\n",
    "#         [lower_boundary],\n",
    "#         label=\"lower boundary ($(lower_boundary_source))\"\n",
    "#     );\n",
    "    \n",
    "#     is_above_lower_bounds = X .>= lower_boundary\n",
    "#     max_Y_post_error_intercept = first(findmax(Y[is_above_lower_bounds]))\n",
    "#     peak_indices = findall(is_above_lower_bounds .& (Y .== max_Y_post_error_intercept))\n",
    "#     peak_index = Int(round(Statistics.median(peak_indices)))\n",
    "\n",
    "#     p = StatsPlots.vline!([X[peak_index]], label=\"inferred sample coverage)\")\n",
    "#     if isinteractive()\n",
    "#         display(p)\n",
    "#     end\n",
    "#     StatsPlots.savefig(p, \"$jf_file.peak-detected.png\")\n",
    "#     StatsPlots.savefig(p, \"$jf_file.peak-detected.svg\")\n",
    "    \n",
    "#     if target_coverage != 0\n",
    "#         detected_coverage = 2^(X[peak_index])\n",
    "#         downsampling_rate = round(target_coverage/detected_coverage, sigdigits=3)\n",
    "#         downsampling_rate = min(downsampling_rate, 1)\n",
    "#         @info \"downsampling rate = $downsampling_rate\"\n",
    "\n",
    "#         outfile = \"$kmer_directory/downsampling-rate.txt\"\n",
    "#         open(outfile, \"w\") do io\n",
    "#             @info \"writing downsampling rate to $outfile\"\n",
    "#             println(io, downsampling_rate)\n",
    "#         end\n",
    "#         return downsampling_rate\n",
    "#     end"
   ]
  },
  {
   "cell_type": "code",
   "execution_count": null,
   "id": "3e4bce36-f2b0-4f38-adfb-7395dcef232c",
   "metadata": {},
   "outputs": [],
   "source": [
    "# function analyze_kmer_spectra(;kmer_directory, forward_reads, reverse_reads, k=17, target_coverage=0)\n",
    "#     @info \"counting $k-mers\"\n",
    "#     @info \"determining max count\"\n",
    "#     p = pipeline(\n",
    "#         `jellyfish dump -ct $jf_file`,\n",
    "#         `awk '{print $2}'`,\n",
    "#         `sort --numeric-sort --reverse`,\n",
    "#         `head -n1`)\n",
    "#     max_count = parse(Int, read(p, String))\n",
    "#     @info \"max count = $max_count\"\n",
    "\n",
    "#     @info \"generating histogram\"\n",
    "#     histogram_matrix = Int.(DelimitedFiles.readdlm(open(`jellyfish histo --high $max_count $jf_file`)))\n",
    "\n",
    "#     X = log2.(histogram_matrix[:, 1])\n",
    "#     Y = log2.(histogram_matrix[:, 2])\n",
    "    \n",
    "#     @info \"plotting kmer spectra\"\n",
    "#     p = StatsPlots.scatter(\n",
    "#         X,\n",
    "#         Y,\n",
    "#         xlabel=\"log2(kmer_frequency)\",\n",
    "#         ylabel=\"log2(# of kmers @ frequency)\",\n",
    "#         label=\"\"\n",
    "#     )\n",
    "\n",
    "\n",
    "# end\n",
    "\n"
   ]
  },
  {
   "cell_type": "code",
   "execution_count": null,
   "id": "b92d72a6-4129-4d75-8d98-7af0335cd46f",
   "metadata": {},
   "outputs": [],
   "source": [
    "# step 1, hard-filter singletons"
   ]
  },
  {
   "cell_type": "code",
   "execution_count": null,
   "id": "eb04fd64-d13e-42b4-a519-d306eeb1cab2",
   "metadata": {},
   "outputs": [],
   "source": [
    "filtered_vertices = findall(v -> observation_graph.vprops[v][:weight] >= 5, LightGraphs.vertices(observation_graph))"
   ]
  },
  {
   "cell_type": "code",
   "execution_count": null,
   "id": "0709502f-3ef2-4596-814b-7419217b1ecc",
   "metadata": {},
   "outputs": [],
   "source": [
    "filtered_observation_graph, vertex_map = LightGraphs.induced_subgraph(observation_graph, filtered_vertices)"
   ]
  },
  {
   "cell_type": "code",
   "execution_count": null,
   "id": "ed22ec40-e72e-445f-a0fe-b38b3de73aae",
   "metadata": {},
   "outputs": [],
   "source": [
    "# # visualize\n",
    "# gfa_file = observations_file * \".k-$k.filtered.gfa\"\n",
    "# Mycelia.graph_to_gfa(filtered_observation_graph, gfa_file)\n",
    "\n",
    "# run(`$(BANDAGE) image $(gfa_file) $(gfa_file).svg --depwidth .9 --deppower .9`)\n",
    "# # --nodewidth <float> Average node width (0.5 to 1000, default: 5)\n",
    "# # --depwidth <float>  Depth effect on width (0 to 1, default: 0.5)\n",
    "# # --deppower <float>  Power of depth effect on width (0 to 1, default: 0.5)\n",
    "\n",
    "# html_path_to_svg = \"./\" * repeat(\"../\", length(split(pwd(), '/')) - 3)\n",
    "# html_path_to_svg *= replace(\"$(gfa_file).svg\", \"$(homedir())/\" => \"\")\n",
    "\n",
    "# x = \"<img src=$(html_path_to_svg)>\"\n",
    "# display(\"text/html\", x)\n",
    "# # display(\"image/svg+xml\", read(\"$(gfa_file).svg\", String))"
   ]
  },
  {
   "cell_type": "code",
   "execution_count": null,
   "id": "68b9c85f-981e-49dd-8711-8cdfbba9c9db",
   "metadata": {},
   "outputs": [],
   "source": [
    "kmer_counts = Dict(filtered_observation_graph.vprops[v][:kmer] => filtered_observation_graph.vprops[v][:weight] for v in LightGraphs.vertices(filtered_observation_graph))\n",
    "total_observed_kmers = sum(values(kmer_counts))\n",
    "kmer_probabilities = Dict(k => v/total_observed_kmers for (k,v) in kmer_counts)\n",
    "scale = 250\n",
    "Mycelia.plot_kmer_frequency_spectra(values(kmer_counts), size=(2scale,scale), title=\"kmer frequencies\")"
   ]
  },
  {
   "cell_type": "code",
   "execution_count": null,
   "id": "9c6edde3-c459-4e81-8c2e-413142044be6",
   "metadata": {},
   "outputs": [],
   "source": [
    "reference_kmers = keys(Mycelia.count_canonical_kmers(BioSequences.DNAMer{k}, reference_fasta_file))\n",
    "distance_to_reference_graph = 1 - LSHFunctions.jaccard(Set(reference_kmers), Set(keys(kmer_counts)))"
   ]
  },
  {
   "cell_type": "code",
   "execution_count": null,
   "id": "681f12c3-4736-4065-8bfb-3d3be29cc8dc",
   "metadata": {},
   "outputs": [],
   "source": [
    "# step 2, re-simulate reads as a means of error correction"
   ]
  },
  {
   "cell_type": "code",
   "execution_count": null,
   "id": "adcfaf65-de18-4a92-8355-5c8b190007c9",
   "metadata": {},
   "outputs": [],
   "source": [
    "kmers = [filtered_observation_graph.vprops[v][:kmer] for v in LightGraphs.vertices(filtered_observation_graph)]\n",
    "kmer_weights = [filtered_observation_graph.vprops[v][:weight] for v in LightGraphs.vertices(filtered_observation_graph)]\n",
    "kmer_probabilities = kmer_weights ./ sum(kmer_weights)"
   ]
  },
  {
   "cell_type": "code",
   "execution_count": null,
   "id": "b31d13b0-f2e7-4381-9f55-e310b1ab7c9e",
   "metadata": {},
   "outputs": [],
   "source": [
    "edge_weights = determine_edge_weights(filtered_observation_graph)"
   ]
  },
  {
   "cell_type": "code",
   "execution_count": null,
   "id": "7d10d99f-7db2-4044-a1db-362b37e01266",
   "metadata": {},
   "outputs": [],
   "source": [
    "edge_weights[true]"
   ]
  },
  {
   "cell_type": "code",
   "execution_count": null,
   "id": "6355ddd5-0103-4927-850b-b0f5c42c7ff9",
   "metadata": {},
   "outputs": [],
   "source": [
    "@time edge_weights = determine_edge_weights(filtered_observation_graph)\n",
    "@time edge_probabilities = determine_edge_probabilities(edge_weights)"
   ]
  },
  {
   "cell_type": "code",
   "execution_count": null,
   "id": "35780516-bfc9-4b9e-aaf8-869e14d4c5e7",
   "metadata": {},
   "outputs": [],
   "source": [
    "kmers = [filtered_observation_graph.vprops[v][:kmer] for v in LightGraphs.vertices(filtered_observation_graph)]\n",
    "kmer_weights = [filtered_observation_graph.vprops[v][:weight] for v in LightGraphs.vertices(filtered_observation_graph)]\n",
    "kmer_probabilities = kmer_weights ./ sum(kmer_weights)\n",
    "\n",
    "edge_weights = determine_edge_weights(filtered_observation_graph)\n",
    "edge_probabilities = determine_edge_probabilities(edge_weights)\n",
    "\n",
    "step_probabilities = deepcopy(edge_probabilities)\n",
    "\n",
    "for orientation in [true, false]\n",
    "#     @show orientation\n",
    "    oriented_step_probabilities = step_probabilities[orientation] \n",
    "    for row in 1:size(step_probabilities[orientation], 1)\n",
    "        step_probabilities_ = step_probabilities[orientation][row, :] .* kmer_probabilities\n",
    "        if sum(step_probabilities_) > 0\n",
    "            step_probabilities[orientation][row, :] .= step_probabilities_ ./ sum(step_probabilities_)\n",
    "        end\n",
    "    end\n",
    "end"
   ]
  },
  {
   "cell_type": "code",
   "execution_count": null,
   "id": "f2ecfeeb-0030-4acc-86e1-9c367e76fb1e",
   "metadata": {},
   "outputs": [],
   "source": [
    "new_records = FASTX.FASTQ.Record[]\n",
    "ProgressMeter.@showprogress for observation in observations\n",
    "    read_length = length(FASTX.sequence(observation))\n",
    "    max_steps = read_length - filtered_observation_graph.gprops[:k]\n",
    "    # apply a squaring penalty to kmer_weights?\n",
    "    initial_vertex = StatsBase.sample(1:length(kmers), StatsBase.weights(kmer_weights.^2))\n",
    "#     @show \"choosing initial vertex $initial_vertex with probability $(kmer_weights[initial_vertex])\"\n",
    "    initial_orientation = rand(Bool)\n",
    "    forward_walk = random_walk(filtered_observation_graph, initial_vertex, initial_orientation, step_probabilities, n_steps=max_steps)\n",
    "    remaining_steps = max_steps - length(forward_walk)\n",
    "    reverse_walk = random_walk(filtered_observation_graph, initial_vertex, !initial_orientation, step_probabilities, n_steps = remaining_steps)\n",
    "    full_walk = [[(vertex=x.vertex, orientation=!x.orientation) for x in reverse(reverse_walk)]..., [(vertex = initial_vertex, orientation = initial_orientation)]..., forward_walk...]\n",
    "    oriented_path = [(x.vertex, x.orientation) for x in full_walk]\n",
    "    new_seq = Mycelia.oriented_path_to_sequence(filtered_observation_graph, oriented_path)\n",
    "    new_record = FASTX.FASTQ.Record(\n",
    "        FASTX.identifier(observation)*\"-k$k\",\n",
    "        FASTX.identifier(observation),\n",
    "        new_seq,\n",
    "        StatsBase.sample(FASTX.quality(observation), length(new_seq))\n",
    "    )\n",
    "#     @show \"here\"\n",
    "    push!(new_records, new_record)\n",
    "end\n",
    "new_records;"
   ]
  },
  {
   "cell_type": "code",
   "execution_count": null,
   "id": "61bf8c37-0b33-4e58-b1db-ba24d7bb3b4a",
   "metadata": {},
   "outputs": [],
   "source": [
    "corrected_fastq_file = replace(observations_file, r\"\\.fastq\" => \".k$k.fastq\")\n",
    "open(corrected_fastq_file, \"w\") do io\n",
    "    fastq_writer = FASTX.FASTQ.Writer(io)\n",
    "    for record in new_records\n",
    "        write(fastq_writer, record)\n",
    "    end\n",
    "    close(fastq_writer)\n",
    "end"
   ]
  },
  {
   "cell_type": "code",
   "execution_count": null,
   "id": "9f72e026-ce76-4e1c-a4da-231f4225a358",
   "metadata": {},
   "outputs": [],
   "source": [
    "corrected_observation_graph = Mycelia.fastx_to_kmer_graph(BioSequences.DNAMer{k}, corrected_fastq_file)"
   ]
  },
  {
   "cell_type": "code",
   "execution_count": null,
   "id": "7dcb49eb-7261-4120-b488-52b3a3739416",
   "metadata": {},
   "outputs": [],
   "source": [
    "# visualize\n",
    "gfa_file = corrected_fastq_file * \".k-$k.gfa\"\n",
    "Mycelia.graph_to_gfa(corrected_observation_graph, gfa_file)\n",
    "\n",
    "run(`$(BANDAGE) image $(gfa_file) $(gfa_file).svg --depwidth .9 --deppower .9`)\n",
    "# --nodewidth <float> Average node width (0.5 to 1000, default: 5)\n",
    "# --depwidth <float>  Depth effect on width (0 to 1, default: 0.5)\n",
    "# --deppower <float>  Power of depth effect on width (0 to 1, default: 0.5)\n",
    "\n",
    "html_path_to_svg = \"./\" * repeat(\"../\", length(split(pwd(), '/')) - 3)\n",
    "html_path_to_svg *= replace(\"$(gfa_file).svg\", \"$(homedir())/\" => \"\")\n",
    "\n",
    "x = \"<img src=$(html_path_to_svg)>\"\n",
    "display(\"text/html\", x)\n",
    "# display(\"image/svg+xml\", read(\"$(gfa_file).svg\", String))"
   ]
  },
  {
   "cell_type": "code",
   "execution_count": null,
   "id": "1babc5ba-11c2-4557-8a93-b97abe8364a6",
   "metadata": {},
   "outputs": [],
   "source": [
    "kmer_counts = Dict(corrected_observation_graph.vprops[v][:kmer] => corrected_observation_graph.vprops[v][:weight] for v in LightGraphs.vertices(corrected_observation_graph))\n",
    "total_observed_kmers = sum(values(kmer_counts))\n",
    "kmer_probabilities = Dict(k => v/total_observed_kmers for (k,v) in kmer_counts)\n",
    "scale = 250\n",
    "Mycelia.plot_kmer_frequency_spectra(values(kmer_counts), size=(2scale,scale), title=\"kmer frequencies\")"
   ]
  },
  {
   "cell_type": "code",
   "execution_count": null,
   "id": "2b4354c8-d03e-49d6-b3ed-7f2375f43602",
   "metadata": {},
   "outputs": [],
   "source": [
    "# compare the new graph to the error-free graph to the error-corrected graph"
   ]
  },
  {
   "cell_type": "code",
   "execution_count": null,
   "id": "5543d4f5-6bb9-4368-8149-9db0267d5aa5",
   "metadata": {},
   "outputs": [],
   "source": [
    "reference_kmers = keys(Mycelia.count_canonical_kmers(BioSequences.DNAMer{k}, reference_fasta_file))\n",
    "distance_to_reference_graph = 1 - LSHFunctions.jaccard(Set(reference_kmers), Set(keys(kmer_counts)))"
   ]
  },
  {
   "cell_type": "markdown",
   "id": "999e7966-6ffc-43dd-8b24-9fdea86fd435",
   "metadata": {},
   "source": [
    "# Final polish and reduction"
   ]
  },
  {
   "cell_type": "code",
   "execution_count": null,
   "id": "83ee093f-2f2d-48cd-a6d6-e0000fa44a67",
   "metadata": {},
   "outputs": [],
   "source": [
    "# to_filter = Int[]\n",
    "connected_component = first(LightGraphs.connected_components(corrected_observation_graph))"
   ]
  },
  {
   "cell_type": "code",
   "execution_count": null,
   "id": "b556f37f-4b7c-4260-9fa7-75b3fc5db9db",
   "metadata": {},
   "outputs": [],
   "source": [
    "tip_vertices = filter(v -> LightGraphs.degree(corrected_observation_graph, v) == 2, LightGraphs.vertices(corrected_observation_graph))"
   ]
  },
  {
   "cell_type": "code",
   "execution_count": null,
   "id": "82b104bc-979a-4dac-888e-f406140fd0bd",
   "metadata": {},
   "outputs": [],
   "source": [
    "if length(tip_vertices) > 2\n",
    "    component_weights = map(v -> corrected_observation_graph.vprops[v][:weight], connected_component)\n",
    "    component_median = Statistics.median(component_weights)\n",
    "    component_standard_deviation = Statistics.std(component_weights)\n",
    "    tips_to_drop = filter(tip -> corrected_observation_graph.vprops[tip][:weight] < component_median - 2*component_standard_deviation, tip_vertices) \n",
    "    polished_graph, vertex_map = LightGraphs.induced_subgraph(corrected_observation_graph, setdiff(LightGraphs.vertices(corrected_observation_graph), tips_to_drop))\n",
    "    simplified_graph = Mycelia.simplify_kmer_graph(polished_graph)\n",
    "else\n",
    "    simplified_graph = Mycelia.simplify_kmer_graph(corrected_observation_graph)\n",
    "end"
   ]
  },
  {
   "cell_type": "code",
   "execution_count": null,
   "id": "6885134a-a5a7-40c6-b515-f103e16b9584",
   "metadata": {},
   "outputs": [],
   "source": [
    "# write simplified graph to gfa\n",
    "# visualize\n",
    "gfa_file = corrected_fastq_file * \".k-$k.simplified.gfa\"\n",
    "Mycelia.graph_to_gfa(simplified_graph, gfa_file)\n",
    "\n",
    "run(`$(BANDAGE) image $(gfa_file) $(gfa_file).svg --depwidth .9 --deppower .9`)\n",
    "# --nodewidth <float> Average node width (0.5 to 1000, default: 5)\n",
    "# --depwidth <float>  Depth effect on width (0 to 1, default: 0.5)\n",
    "# --deppower <float>  Power of depth effect on width (0 to 1, default: 0.5)\n",
    "\n",
    "html_path_to_svg = \"./\" * repeat(\"../\", length(split(pwd(), '/')) - 3)\n",
    "html_path_to_svg *= replace(\"$(gfa_file).svg\", \"$(homedir())/\" => \"\")\n",
    "\n",
    "x = \"<img src=$(html_path_to_svg)>\"\n",
    "display(\"text/html\", x)\n",
    "# display(\"image/svg+xml\", read(\"$(gfa_file).svg\", String))"
   ]
  },
  {
   "cell_type": "code",
   "execution_count": null,
   "id": "cc55c0d8-875e-42e9-98fb-11aa9e8b0f1b",
   "metadata": {},
   "outputs": [],
   "source": [
    "simplified_graph.vprops[1][:weight]"
   ]
  },
  {
   "cell_type": "code",
   "execution_count": null,
   "id": "f0075333-9c05-43e7-ac86-236183f79d8f",
   "metadata": {},
   "outputs": [],
   "source": [
    "Mycelia.is_equivalent(FASTX.sequence(fasta_record), simplified_graph.vprops[1][:sequence])"
   ]
  },
  {
   "cell_type": "markdown",
   "id": "2f2636d1-2a3c-4dd6-94a4-f7a262b57755",
   "metadata": {},
   "source": [
    "# THE SAME!!!"
   ]
  },
  {
   "cell_type": "code",
   "execution_count": null,
   "id": "e76e948b-161d-40d1-b5db-ad1b88b26d9a",
   "metadata": {},
   "outputs": [],
   "source": [
    "# write contigs to fasta\n",
    "final_fasta_file = corrected_fastq_file * \".k-$k.simplified.fasta\"\n",
    "open(final_fasta_file, \"w\") do io\n",
    "    fasta_io = FASTX.FASTA.Writer(io)\n",
    "    for vertex in LightGraphs.vertices(simplified_graph)\n",
    "        seq = simplified_graph.vprops[vertex][:sequence]\n",
    "        description = string(simplified_graph.vprops[vertex][:weight])\n",
    "        id = string(hash(seq)) * '-' * string(Dates.now())\n",
    "        record = FASTX.FASTA.Record(id, description, seq)\n",
    "        @show record\n",
    "        write(fasta_io, record)\n",
    "    end\n",
    "    close(fasta_io)\n",
    "end"
   ]
  }
 ],
 "metadata": {
  "kernelspec": {
   "display_name": "Julia 1.6.1",
   "language": "julia",
   "name": "julia-1.6"
  },
  "language_info": {
   "file_extension": ".jl",
   "mimetype": "application/julia",
   "name": "julia",
   "version": "1.6.1"
  }
 },
 "nbformat": 4,
 "nbformat_minor": 5
}
