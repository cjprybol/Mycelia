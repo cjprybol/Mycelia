{
 "cells": [
  {
   "cell_type": "code",
   "execution_count": 1,
   "id": "6ac73c46-51c9-4fea-845f-fb17ce8d83a2",
   "metadata": {},
   "outputs": [
    {
     "data": {
      "text/plain": [
       "\"/home/jovyan/2021-08-24-assess-convergence-phage-1000x-coverage\""
      ]
     },
     "execution_count": 1,
     "metadata": {},
     "output_type": "execute_result"
    }
   ],
   "source": [
    "DATE = \"2021-08-24\"\n",
    "TASK = \"assess-convergence-phage-1000x-coverage\"\n",
    "DIR = mkpath(\"$(homedir())/$(DATE)-$(TASK)\")"
   ]
  },
  {
   "cell_type": "code",
   "execution_count": 35,
   "id": "38cb383f-3696-4b4b-a732-9a2059e0681a",
   "metadata": {},
   "outputs": [],
   "source": [
    "import Pkg\n",
    "pkgs = [\n",
    "#     \"BioAlignments\",\n",
    "    \"BioSequences\",\n",
    "    \"Clustering\",\n",
    "#     \"CodecZlib\",\n",
    "#     \"Colors\",\n",
    "#     \"Combinatorics\",\n",
    "    \"DataFrames\",\n",
    "#     \"DataStructures\",\n",
    "    \"Dates\",\n",
    "#     \"DelimitedFiles\",\n",
    "#     \"Distances\",\n",
    "#     \"EzXML\",\n",
    "    \"FASTX\",\n",
    "#     \"GFF3\",\n",
    "#     \"HTTP\",\n",
    "#     \"Impute\",\n",
    "#     \"JSON\",\n",
    "    \"LightGraphs\",\n",
    "    \"LSHFunctions\",\n",
    "#     \"Measures\",\n",
    "    \"MetaGraphs\",\n",
    "    \"https://github.com/cjprybol/Mycelia.git\",\n",
    "#     \"NumericIO\",\n",
    "#     \"PlotlyJS\",\n",
    "#     \"Plots\",\n",
    "    \"Primes\",\n",
    "#     \"Printf\",\n",
    "    \"ProgressMeter\",\n",
    "    \"Random\",\n",
    "    \"Revise\",\n",
    "    \"SparseArrays\",\n",
    "    \"Statistics\",\n",
    "    \"StatsBase\",\n",
    "    \"StatsPlots\",\n",
    "#     \"StringDistances\",\n",
    "#     \"uCSV\",\n",
    "#     \"XLSX\",\n",
    "]\n",
    "\n",
    "unregistered_packages = filter(pkg -> occursin(r\"(^https|git$)\", pkg), pkgs)\n",
    "registered_packages = setdiff(pkgs, unregistered_packages)\n",
    "\n",
    "for pkg in registered_packages\n",
    "    try\n",
    "        eval(Meta.parse(\"import $(pkg)\"))\n",
    "    catch\n",
    "        Pkg.add(pkg)\n",
    "        Pkg.build(pkg)\n",
    "        eval(Meta.parse(\"import $(pkg)\"))\n",
    "    end\n",
    "end\n",
    "\n",
    "for pkg_url in unregistered_packages\n",
    "    pkg_name = replace(basename(pkg_url), \".git\" => \"\")\n",
    "    try\n",
    "        eval(Meta.parse(\"import $(pkg_name)\"))\n",
    "    catch\n",
    "        Pkg.develop(url=pkg_url)\n",
    "        Pkg.build(pkg_name)\n",
    "        eval(Meta.parse(\"import $(pkg_name)\"))\n",
    "    end\n",
    "end"
   ]
  },
  {
   "cell_type": "code",
   "execution_count": 3,
   "id": "9f9307c7-1b35-4283-b1cb-adc87dc05f20",
   "metadata": {},
   "outputs": [
    {
     "data": {
      "text/plain": [
       "\"Bandage\""
      ]
     },
     "execution_count": 3,
     "metadata": {},
     "output_type": "execute_result"
    }
   ],
   "source": [
    "if Sys.isapple()\n",
    "    BANDAGE = \"/Applications/Bandage.app/Contents/MacOS/Bandage\"\n",
    "else\n",
    "    BANDAGE = \"Bandage\"\n",
    "end"
   ]
  },
  {
   "cell_type": "code",
   "execution_count": 4,
   "id": "8824e5f4-fcd5-4d3d-b77c-9d1086788677",
   "metadata": {},
   "outputs": [
    {
     "data": {
      "text/plain": [
       "assess_kmer_sparsity_in_reads (generic function with 1 method)"
      ]
     },
     "execution_count": 4,
     "metadata": {},
     "output_type": "execute_result"
    }
   ],
   "source": [
    "function assess_kmer_sparsity_in_reads(k, observations)\n",
    "#     @show k, observations\n",
    "    canonical_kmer_counts = Mycelia.count_canonical_kmers(BioSequences.DNAMer{k}, observations)\n",
    "#     canonical_kmer_counts = Mycelia.count_canonical_kmers(BioSequences.DNAMer{k}, first(observations))\n",
    "# #     @show canonical_kmer_counts\n",
    "#     for i in 2:length(observations)\n",
    "#         canonical_kmer_counts_ = Mycelia.count_canonical_kmers(BioSequences.DNAMer{k}, observations[i])\n",
    "#         canonical_kmer_counts = merge!(+, canonical_kmer_counts, canonical_kmer_counts_)\n",
    "#     end\n",
    "#     canonical_kmer_counts = map(o -> Mycelia.count_canonical_kmers(BioSequences.DNAMer{k}, o), observations)...)\n",
    "    total_observed_canonical_kmers = length(keys(canonical_kmer_counts))\n",
    "    total_possible_canonical_kmers = (4^k)/2\n",
    "    sparsity = round(total_observed_canonical_kmers/total_possible_canonical_kmers*100, sigdigits=3)\n",
    "    @show sparsity\n",
    "    return sparsity\n",
    "end"
   ]
  },
  {
   "cell_type": "code",
   "execution_count": 5,
   "id": "148b6939-0508-487c-91d1-94da6aa1409e",
   "metadata": {},
   "outputs": [
    {
     "data": {
      "text/plain": [
       "sequence_to_canonical_kmers (generic function with 1 method)"
      ]
     },
     "execution_count": 5,
     "metadata": {},
     "output_type": "execute_result"
    }
   ],
   "source": [
    "function sequence_to_canonical_kmers(kmer_type, sequence)\n",
    "    return (BioSequences.canonical(kmer.fw) for kmer in BioSequences.each(kmer_type, sequence))\n",
    "end"
   ]
  },
  {
   "cell_type": "code",
   "execution_count": 6,
   "id": "02e895c2-a0a6-40c6-841c-ebbf274c0a47",
   "metadata": {},
   "outputs": [
    {
     "data": {
      "text/plain": [
       "determine_edge_weights (generic function with 1 method)"
      ]
     },
     "execution_count": 6,
     "metadata": {},
     "output_type": "execute_result"
    }
   ],
   "source": [
    "function determine_edge_weights(graph)\n",
    "    outgoing_edge_probabilities = determine_edge_weights(graph, true)\n",
    "    incoming_edge_probabilities = determine_edge_weights(graph, false)\n",
    "    return Dict(true => outgoing_edge_probabilities, false => incoming_edge_probabilities)\n",
    "end"
   ]
  },
  {
   "cell_type": "code",
   "execution_count": 7,
   "id": "6212dc49-005c-40f9-8922-b80b3971c004",
   "metadata": {},
   "outputs": [
    {
     "data": {
      "text/plain": [
       "determine_edge_weights (generic function with 2 methods)"
      ]
     },
     "execution_count": 7,
     "metadata": {},
     "output_type": "execute_result"
    }
   ],
   "source": [
    "function determine_edge_weights(graph, strand)\n",
    "    kmers = [graph.vprops[v][:kmer] for v in LightGraphs.vertices(graph)]\n",
    "    outgoing_edge_weights = SparseArrays.spzeros(length(kmers), length(kmers))\n",
    "    \n",
    "    for (kmer_index, kmer) in enumerate(kmers)\n",
    "        if !strand\n",
    "            kmer = BioSequences.reverse_complement(kmer)\n",
    "        end\n",
    "        \n",
    "        downstream_neighbors = []\n",
    "        downstream_neighbor_weights = []\n",
    "        for neighbor in BioSequences.neighbors(kmer)\n",
    "            canonical_neighbor = BioSequences.canonical(neighbor)\n",
    "            neighbor_orientation = neighbor == canonical_neighbor\n",
    "            \n",
    "            neighbor_index_range = searchsorted(kmers, canonical_neighbor)\n",
    "            if !isempty(neighbor_index_range)\n",
    "                @assert length(neighbor_index_range) == 1\n",
    "                neighbor_index = first(neighbor_index_range)\n",
    "                if LightGraphs.has_edge(graph, LightGraphs.Edge(kmer_index, neighbor_index))\n",
    "                    edge_orientations = graph.eprops[LightGraphs.Edge(kmer_index, neighbor_index)][:orientations]\n",
    "                    this_edge_orientation = (source_orientation = strand, destination_orientation = neighbor_orientation)\n",
    "                    if this_edge_orientation in edge_orientations\n",
    "                        edge_weight = graph.eprops[LightGraphs.Edge(kmer_index, neighbor_index)][:weight]\n",
    "                        outgoing_edge_weights[kmer_index, neighbor_index] = edge_weight\n",
    "                    end\n",
    "                end\n",
    "            end\n",
    "        end\n",
    "    end\n",
    "    return outgoing_edge_weights\n",
    "end"
   ]
  },
  {
   "cell_type": "code",
   "execution_count": 8,
   "id": "33ffd192-f852-43e8-8eb1-3c19f5fe6141",
   "metadata": {},
   "outputs": [
    {
     "data": {
      "text/plain": [
       "determine_edge_probabilities (generic function with 1 method)"
      ]
     },
     "execution_count": 8,
     "metadata": {},
     "output_type": "execute_result"
    }
   ],
   "source": [
    "function determine_edge_probabilities(edge_weights)\n",
    "    edge_probabilities = deepcopy(edge_weights)\n",
    "    for orientation in [true, false]\n",
    "        for row in 1:size(edge_probabilities[orientation], 1)\n",
    "            edge_weights = edge_probabilities[orientation][row, :]\n",
    "            edge_total = sum(edge_weights)\n",
    "            for (col, edge_weight) in enumerate(edge_weights)\n",
    "                if edge_total > 0\n",
    "                    edge_probabilities[orientation][row, col] = edge_weight/edge_total\n",
    "                else\n",
    "                    edge_probabilities[orientation][row, col] = 0.0\n",
    "                end\n",
    "            end\n",
    "        end\n",
    "    end\n",
    "    return edge_probabilities\n",
    "end"
   ]
  },
  {
   "cell_type": "code",
   "execution_count": 9,
   "id": "94750a47-abaa-48ac-9c0e-e7422260ec26",
   "metadata": {},
   "outputs": [
    {
     "data": {
      "text/plain": [
       "random_step (generic function with 1 method)"
      ]
     },
     "execution_count": 9,
     "metadata": {},
     "output_type": "execute_result"
    }
   ],
   "source": [
    "function random_step(current_vertex, current_orientation, step_probabilities)\n",
    "    outgoing_edge_likelihoods = step_probabilities[initial_orientation][current_vertex, :]\n",
    "    chosen_step = StatsBase.sample(outgoing_edge_likelihoods.nzind, StatsBase.weights(outgoing_edge_likelihoods.nzval))\n",
    "    possible_orientations = observation_graph.eprops[LightGraphs.Edge(current_vertex, chosen_step)][:orientations]\n",
    "    possible_orientations = filter(o -> o.source_orientation == current_orientation, possible_orientations)\n",
    "    chosen_orientation = rand(possible_orientations).destination_orientation\n",
    "    chosen_oriented_step = (vertex = chosen_step, orientation = chosen_orientation)\n",
    "    return chosen_oriented_step\n",
    "end"
   ]
  },
  {
   "cell_type": "code",
   "execution_count": 10,
   "id": "1ed368e8-bbee-4634-ac66-af3203e5fb11",
   "metadata": {},
   "outputs": [
    {
     "data": {
      "text/plain": [
       "random_walk (generic function with 1 method)"
      ]
     },
     "execution_count": 10,
     "metadata": {},
     "output_type": "execute_result"
    }
   ],
   "source": [
    "function random_walk(observation_graph, initial_vertex, initial_orientation, step_probabilities; n_steps=size(step_probabilities[true], 1))\n",
    "    step_count = 0\n",
    "    outgoing_edge_likelihoods = step_probabilities[initial_orientation][initial_vertex, :]\n",
    "    walk = Vector{NamedTuple{(:vertex, :orientation), Tuple{Int64, Bool}}}()\n",
    "    done = (step_count > n_steps) || (sum(outgoing_edge_likelihoods) == 0)\n",
    "    current_vertex = initial_vertex\n",
    "    current_orientation = initial_orientation\n",
    "    while !done\n",
    "#         @show \"choosing\"\n",
    "        chosen_step = StatsBase.sample(outgoing_edge_likelihoods.nzind, StatsBase.weights(outgoing_edge_likelihoods.nzval))\n",
    "        chosen_step\n",
    "        possible_orientations = observation_graph.eprops[LightGraphs.Edge(current_vertex, chosen_step)][:orientations]\n",
    "        possible_orientations\n",
    "        current_orientation\n",
    "        possible_orientations = filter(o -> o.source_orientation == current_orientation, possible_orientations)\n",
    "        possible_orientations\n",
    "        chosen_orientation = rand(possible_orientations).destination_orientation\n",
    "        chosen_oriented_step = (vertex = chosen_step, orientation = chosen_orientation)\n",
    "        push!(walk, chosen_oriented_step)\n",
    "        current_vertex = chosen_step\n",
    "        current_orientation = chosen_orientation\n",
    "        outgoing_edge_likelihoods = step_probabilities[last(walk).orientation][last(walk).vertex, :]\n",
    "        step_count += 1\n",
    "#         @show outgoing_edge_likelihoods\n",
    "        done = (step_count > n_steps) || (sum(outgoing_edge_likelihoods) == 0)\n",
    "    end\n",
    "    return walk\n",
    "end"
   ]
  },
  {
   "cell_type": "code",
   "execution_count": 11,
   "id": "03bc3ce0-24b7-4f8b-a90a-050b61c211e5",
   "metadata": {},
   "outputs": [
    {
     "data": {
      "text/plain": [
       "FASTX.FASTA.Record:\n",
       "   identifier: 3905072901333009698\n",
       "  description: <missing>\n",
       "     sequence: GGCGCGTGCTAGCGGTGTGGTTCTACATTGTATTGTATT…"
      ]
     },
     "execution_count": 11,
     "metadata": {},
     "output_type": "execute_result"
    }
   ],
   "source": [
    "# generate a genome\n",
    "sequence_length = 1_000\n",
    "sequence = BioSequences.randdnaseq(Random.seed!(sequence_length), sequence_length)\n",
    "sequence_id = string(hash(sequence))\n",
    "fasta_record = FASTX.FASTA.Record(sequence_id, sequence)"
   ]
  },
  {
   "cell_type": "code",
   "execution_count": 12,
   "id": "6b67def7-76e6-4227-a0de-f34d6d3173f5",
   "metadata": {},
   "outputs": [],
   "source": [
    "reference_fasta_file = \"$(DIR)/LENGTH-$(sequence_length).fasta\"\n",
    "open(reference_fasta_file, \"w\") do io\n",
    "    fastx_io = FASTX.FASTA.Writer(io)\n",
    "    write(fastx_io, fasta_record)\n",
    "    close(fastx_io)\n",
    "end"
   ]
  },
  {
   "cell_type": "code",
   "execution_count": 13,
   "id": "4ad0d8c4-641b-4872-8c16-57fc2ce80cde",
   "metadata": {},
   "outputs": [],
   "source": [
    "# randomly sample reads with errors from the genome\n",
    "error_rate = 0.01\n",
    "n_reads = 100\n",
    "\n",
    "# observations = [Mycelia.observe(FASTX.sequence(record), error_rate = error_rate) for i in 1:n_reads]\n",
    "observations = [Mycelia.observe(fasta_record, error_rate = error_rate) for i in 1:n_reads];"
   ]
  },
  {
   "cell_type": "code",
   "execution_count": 14,
   "id": "d0d65fbf-8343-4a15-9266-6acbd0690d57",
   "metadata": {},
   "outputs": [],
   "source": [
    "# determine distribution of read lengths"
   ]
  },
  {
   "cell_type": "code",
   "execution_count": 15,
   "id": "9f6b1ac0-bf9d-4916-940a-2148ea361442",
   "metadata": {},
   "outputs": [
    {
     "data": {
      "text/plain": [
       "990"
      ]
     },
     "execution_count": 15,
     "metadata": {},
     "output_type": "execute_result"
    }
   ],
   "source": [
    "median_read_length = Statistics.median(length.(FASTX.sequence.(observations)))\n",
    "std_deviation_read_length = Statistics.std(length.(FASTX.sequence.(observations)))\n",
    "captures_99_percent_of_reads = Int(floor(median_read_length - 4*std_deviation_read_length))"
   ]
  },
  {
   "cell_type": "code",
   "execution_count": 16,
   "id": "a4085a37-0a1b-4a8c-9115-9baf8882b5e0",
   "metadata": {},
   "outputs": [
    {
     "name": "stdout",
     "output_type": "stream",
     "text": [
      "sparsity = 0.0318\n",
      "sparsity = 0.00016\n",
      "k = 17\n"
     ]
    },
    {
     "data": {
      "text/plain": [
       "17"
      ]
     },
     "execution_count": 16,
     "metadata": {},
     "output_type": "execute_result"
    }
   ],
   "source": [
    "# determine optimal k\n",
    "min_k = min(13, captures_99_percent_of_reads)\n",
    "max_k = min(61, captures_99_percent_of_reads)\n",
    "k_options = Primes.primes(min_k, max_k)\n",
    "k_index = findfirst(k -> assess_kmer_sparsity_in_reads(k, observations) < .01, k_options)\n",
    "k = k_options[k_index]\n",
    "@show k"
   ]
  },
  {
   "cell_type": "code",
   "execution_count": 17,
   "id": "14964bd9-c1b2-469c-92cc-c467b631358b",
   "metadata": {},
   "outputs": [],
   "source": [
    "observations_file = \"$(DIR)/LENGTH-$(sequence_length)-DEPTH-$(n_reads).fastq\"\n",
    "open(observations_file, \"w\") do io\n",
    "    fastq_io = FASTX.FASTQ.Writer(io)\n",
    "    for record in observations\n",
    "        write(fastq_io, record)\n",
    "    end\n",
    "    close(fastq_io)\n",
    "end"
   ]
  },
  {
   "cell_type": "markdown",
   "id": "5884b85a-bc25-44a0-b6f4-fe938758f824",
   "metadata": {},
   "source": [
    "# Begin graph resolving of observation graph"
   ]
  },
  {
   "cell_type": "code",
   "execution_count": null,
   "id": "351d47d9-a8c9-4a7a-8d47-9b604bdb7f41",
   "metadata": {},
   "outputs": [],
   "source": [
    "# assess kmer counts"
   ]
  },
  {
   "cell_type": "code",
   "execution_count": null,
   "id": "d4c4ee10-d428-4aa4-a71e-9c610339ff28",
   "metadata": {},
   "outputs": [],
   "source": [
    "# fit linear trendline to kmer counts"
   ]
  },
  {
   "cell_type": "code",
   "execution_count": null,
   "id": "41e1f331-25ba-4ac5-a282-07894c5c8bd4",
   "metadata": {},
   "outputs": [],
   "source": [
    "# apply thresholding when constructing kmer graph at the trendline"
   ]
  },
  {
   "cell_type": "code",
   "execution_count": 21,
   "id": "7764dfed-7461-42d0-b4bc-ec7de4f173c9",
   "metadata": {},
   "outputs": [
    {
     "data": {
      "text/plain": [
       "25-element Vector{Pair{Int64, Int64}}:\n",
       "  1 => 11574\n",
       "  2 => 1019\n",
       "  3 => 118\n",
       "  4 => 2\n",
       "  5 => 12\n",
       " 75 => 2\n",
       " 76 => 5\n",
       " 77 => 16\n",
       " 78 => 19\n",
       " 79 => 19\n",
       " 80 => 29\n",
       " 81 => 43\n",
       " 82 => 45\n",
       " 83 => 71\n",
       " 84 => 92\n",
       " 85 => 95\n",
       " 86 => 102\n",
       " 87 => 115\n",
       " 88 => 81\n",
       " 89 => 93\n",
       " 90 => 67\n",
       " 91 => 48\n",
       " 92 => 26\n",
       " 93 => 12\n",
       " 94 => 4"
      ]
     },
     "execution_count": 21,
     "metadata": {},
     "output_type": "execute_result"
    }
   ],
   "source": [
    "kmer_counts_histogram = sort(collect(StatsBase.countmap(values(Mycelia.count_canonical_kmers(BioSequences.DNAMer{k}, observations_file)))), by=x->x[1])"
   ]
  },
  {
   "cell_type": "code",
   "execution_count": 28,
   "id": "b65107b0-b733-48ac-845b-b2f9e7d3ca8f",
   "metadata": {},
   "outputs": [
    {
     "data": {
      "image/svg+xml": [
       "<?xml version=\"1.0\" encoding=\"utf-8\"?>\n",
       "<svg xmlns=\"http://www.w3.org/2000/svg\" xmlns:xlink=\"http://www.w3.org/1999/xlink\" width=\"600\" height=\"400\" viewBox=\"0 0 2400 1600\">\n",
       "<defs>\n",
       "  <clipPath id=\"clip030\">\n",
       "    <rect x=\"0\" y=\"0\" width=\"2400\" height=\"1600\"/>\n",
       "  </clipPath>\n",
       "</defs>\n",
       "<path clip-path=\"url(#clip030)\" d=\"\n",
       "M0 1600 L2400 1600 L2400 0 L0 0  Z\n",
       "  \" fill=\"#ffffff\" fill-rule=\"evenodd\" fill-opacity=\"1\"/>\n",
       "<defs>\n",
       "  <clipPath id=\"clip031\">\n",
       "    <rect x=\"480\" y=\"0\" width=\"1681\" height=\"1600\"/>\n",
       "  </clipPath>\n",
       "</defs>\n",
       "<path clip-path=\"url(#clip030)\" d=\"\n",
       "M141.853 1486.45 L2352.76 1486.45 L2352.76 47.2441 L141.853 47.2441  Z\n",
       "  \" fill=\"#ffffff\" fill-rule=\"evenodd\" fill-opacity=\"1\"/>\n",
       "<defs>\n",
       "  <clipPath id=\"clip032\">\n",
       "    <rect x=\"141\" y=\"47\" width=\"2212\" height=\"1440\"/>\n",
       "  </clipPath>\n",
       "</defs>\n",
       "<polyline clip-path=\"url(#clip032)\" style=\"stroke:#000000; stroke-linecap:butt; stroke-linejoin:round; stroke-width:2; stroke-opacity:0.1; fill:none\" points=\"\n",
       "  552.052,1486.45 552.052,47.2441 \n",
       "  \"/>\n",
       "<polyline clip-path=\"url(#clip032)\" style=\"stroke:#000000; stroke-linecap:butt; stroke-linejoin:round; stroke-width:2; stroke-opacity:0.1; fill:none\" points=\"\n",
       "  986.585,1486.45 986.585,47.2441 \n",
       "  \"/>\n",
       "<polyline clip-path=\"url(#clip032)\" style=\"stroke:#000000; stroke-linecap:butt; stroke-linejoin:round; stroke-width:2; stroke-opacity:0.1; fill:none\" points=\"\n",
       "  1421.12,1486.45 1421.12,47.2441 \n",
       "  \"/>\n",
       "<polyline clip-path=\"url(#clip032)\" style=\"stroke:#000000; stroke-linecap:butt; stroke-linejoin:round; stroke-width:2; stroke-opacity:0.1; fill:none\" points=\"\n",
       "  1855.65,1486.45 1855.65,47.2441 \n",
       "  \"/>\n",
       "<polyline clip-path=\"url(#clip032)\" style=\"stroke:#000000; stroke-linecap:butt; stroke-linejoin:round; stroke-width:2; stroke-opacity:0.1; fill:none\" points=\"\n",
       "  2290.18,1486.45 2290.18,47.2441 \n",
       "  \"/>\n",
       "<polyline clip-path=\"url(#clip030)\" style=\"stroke:#000000; stroke-linecap:butt; stroke-linejoin:round; stroke-width:4; stroke-opacity:1; fill:none\" points=\"\n",
       "  141.853,1486.45 2352.76,1486.45 \n",
       "  \"/>\n",
       "<polyline clip-path=\"url(#clip030)\" style=\"stroke:#000000; stroke-linecap:butt; stroke-linejoin:round; stroke-width:4; stroke-opacity:1; fill:none\" points=\"\n",
       "  552.052,1486.45 552.052,1467.55 \n",
       "  \"/>\n",
       "<polyline clip-path=\"url(#clip030)\" style=\"stroke:#000000; stroke-linecap:butt; stroke-linejoin:round; stroke-width:4; stroke-opacity:1; fill:none\" points=\"\n",
       "  986.585,1486.45 986.585,1467.55 \n",
       "  \"/>\n",
       "<polyline clip-path=\"url(#clip030)\" style=\"stroke:#000000; stroke-linecap:butt; stroke-linejoin:round; stroke-width:4; stroke-opacity:1; fill:none\" points=\"\n",
       "  1421.12,1486.45 1421.12,1467.55 \n",
       "  \"/>\n",
       "<polyline clip-path=\"url(#clip030)\" style=\"stroke:#000000; stroke-linecap:butt; stroke-linejoin:round; stroke-width:4; stroke-opacity:1; fill:none\" points=\"\n",
       "  1855.65,1486.45 1855.65,1467.55 \n",
       "  \"/>\n",
       "<polyline clip-path=\"url(#clip030)\" style=\"stroke:#000000; stroke-linecap:butt; stroke-linejoin:round; stroke-width:4; stroke-opacity:1; fill:none\" points=\"\n",
       "  2290.18,1486.45 2290.18,1467.55 \n",
       "  \"/>\n",
       "<path clip-path=\"url(#clip030)\" d=\"M542.33 1512.56 L560.686 1512.56 L560.686 1516.5 L546.612 1516.5 L546.612 1524.97 Q547.631 1524.62 548.649 1524.46 Q549.668 1524.27 550.686 1524.27 Q556.473 1524.27 559.853 1527.44 Q563.232 1530.62 563.232 1536.03 Q563.232 1541.61 559.76 1544.71 Q556.288 1547.79 549.969 1547.79 Q547.793 1547.79 545.524 1547.42 Q543.279 1547.05 540.871 1546.31 L540.871 1541.61 Q542.955 1542.74 545.177 1543.3 Q547.399 1543.86 549.876 1543.86 Q553.881 1543.86 556.219 1541.75 Q558.557 1539.64 558.557 1536.03 Q558.557 1532.42 556.219 1530.31 Q553.881 1528.21 549.876 1528.21 Q548.001 1528.21 546.126 1528.62 Q544.274 1529.04 542.33 1529.92 L542.33 1512.56 Z\" fill=\"#000000\" fill-rule=\"evenodd\" fill-opacity=\"1\" /><path clip-path=\"url(#clip030)\" d=\"M961.272 1543.18 L968.911 1543.18 L968.911 1516.82 L960.601 1518.49 L960.601 1514.23 L968.865 1512.56 L973.541 1512.56 L973.541 1543.18 L981.18 1543.18 L981.18 1547.12 L961.272 1547.12 L961.272 1543.18 Z\" fill=\"#000000\" fill-rule=\"evenodd\" fill-opacity=\"1\" /><path clip-path=\"url(#clip030)\" d=\"M1000.62 1515.64 Q997.013 1515.64 995.184 1519.2 Q993.379 1522.75 993.379 1529.87 Q993.379 1536.98 995.184 1540.55 Q997.013 1544.09 1000.62 1544.09 Q1004.26 1544.09 1006.06 1540.55 Q1007.89 1536.98 1007.89 1529.87 Q1007.89 1522.75 1006.06 1519.2 Q1004.26 1515.64 1000.62 1515.64 M1000.62 1511.93 Q1006.43 1511.93 1009.49 1516.54 Q1012.57 1521.12 1012.57 1529.87 Q1012.57 1538.6 1009.49 1543.21 Q1006.43 1547.79 1000.62 1547.79 Q994.814 1547.79 991.735 1543.21 Q988.68 1538.6 988.68 1529.87 Q988.68 1521.12 991.735 1516.54 Q994.814 1511.93 1000.62 1511.93 Z\" fill=\"#000000\" fill-rule=\"evenodd\" fill-opacity=\"1\" /><path clip-path=\"url(#clip030)\" d=\"M1396.3 1543.18 L1403.94 1543.18 L1403.94 1516.82 L1395.63 1518.49 L1395.63 1514.23 L1403.9 1512.56 L1408.57 1512.56 L1408.57 1543.18 L1416.21 1543.18 L1416.21 1547.12 L1396.3 1547.12 L1396.3 1543.18 Z\" fill=\"#000000\" fill-rule=\"evenodd\" fill-opacity=\"1\" /><path clip-path=\"url(#clip030)\" d=\"M1425.7 1512.56 L1444.06 1512.56 L1444.06 1516.5 L1429.98 1516.5 L1429.98 1524.97 Q1431 1524.62 1432.02 1524.46 Q1433.04 1524.27 1434.06 1524.27 Q1439.84 1524.27 1443.22 1527.44 Q1446.6 1530.62 1446.6 1536.03 Q1446.6 1541.61 1443.13 1544.71 Q1439.66 1547.79 1433.34 1547.79 Q1431.16 1547.79 1428.9 1547.42 Q1426.65 1547.05 1424.24 1546.31 L1424.24 1541.61 Q1426.33 1542.74 1428.55 1543.3 Q1430.77 1543.86 1433.25 1543.86 Q1437.25 1543.86 1439.59 1541.75 Q1441.93 1539.64 1441.93 1536.03 Q1441.93 1532.42 1439.59 1530.31 Q1437.25 1528.21 1433.25 1528.21 Q1431.37 1528.21 1429.5 1528.62 Q1427.65 1529.04 1425.7 1529.92 L1425.7 1512.56 Z\" fill=\"#000000\" fill-rule=\"evenodd\" fill-opacity=\"1\" /><path clip-path=\"url(#clip030)\" d=\"M1834.42 1543.18 L1850.74 1543.18 L1850.74 1547.12 L1828.8 1547.12 L1828.8 1543.18 Q1831.46 1540.43 1836.04 1535.8 Q1840.65 1531.15 1841.83 1529.81 Q1844.08 1527.28 1844.96 1525.55 Q1845.86 1523.79 1845.86 1522.1 Q1845.86 1519.34 1843.91 1517.61 Q1841.99 1515.87 1838.89 1515.87 Q1836.69 1515.87 1834.24 1516.63 Q1831.81 1517.4 1829.03 1518.95 L1829.03 1514.23 Q1831.85 1513.09 1834.31 1512.51 Q1836.76 1511.93 1838.8 1511.93 Q1844.17 1511.93 1847.36 1514.62 Q1850.56 1517.31 1850.56 1521.8 Q1850.56 1523.93 1849.75 1525.85 Q1848.96 1527.74 1846.85 1530.34 Q1846.28 1531.01 1843.17 1534.23 Q1840.07 1537.42 1834.42 1543.18 Z\" fill=\"#000000\" fill-rule=\"evenodd\" fill-opacity=\"1\" /><path clip-path=\"url(#clip030)\" d=\"M1870.56 1515.64 Q1866.95 1515.64 1865.12 1519.2 Q1863.31 1522.75 1863.31 1529.87 Q1863.31 1536.98 1865.12 1540.55 Q1866.95 1544.09 1870.56 1544.09 Q1874.19 1544.09 1876 1540.55 Q1877.83 1536.98 1877.83 1529.87 Q1877.83 1522.75 1876 1519.2 Q1874.19 1515.64 1870.56 1515.64 M1870.56 1511.93 Q1876.37 1511.93 1879.42 1516.54 Q1882.5 1521.12 1882.5 1529.87 Q1882.5 1538.6 1879.42 1543.21 Q1876.37 1547.79 1870.56 1547.79 Q1864.75 1547.79 1861.67 1543.21 Q1858.61 1538.6 1858.61 1529.87 Q1858.61 1521.12 1861.67 1516.54 Q1864.75 1511.93 1870.56 1511.93 Z\" fill=\"#000000\" fill-rule=\"evenodd\" fill-opacity=\"1\" /><path clip-path=\"url(#clip030)\" d=\"M2269.45 1543.18 L2285.77 1543.18 L2285.77 1547.12 L2263.83 1547.12 L2263.83 1543.18 Q2266.49 1540.43 2271.07 1535.8 Q2275.68 1531.15 2276.86 1529.81 Q2279.11 1527.28 2279.99 1525.55 Q2280.89 1523.79 2280.89 1522.1 Q2280.89 1519.34 2278.94 1517.61 Q2277.02 1515.87 2273.92 1515.87 Q2271.72 1515.87 2269.27 1516.63 Q2266.84 1517.4 2264.06 1518.95 L2264.06 1514.23 Q2266.88 1513.09 2269.34 1512.51 Q2271.79 1511.93 2273.83 1511.93 Q2279.2 1511.93 2282.39 1514.62 Q2285.59 1517.31 2285.59 1521.8 Q2285.59 1523.93 2284.78 1525.85 Q2283.99 1527.74 2281.88 1530.34 Q2281.31 1531.01 2278.2 1534.23 Q2275.1 1537.42 2269.45 1543.18 Z\" fill=\"#000000\" fill-rule=\"evenodd\" fill-opacity=\"1\" /><path clip-path=\"url(#clip030)\" d=\"M2295.63 1512.56 L2313.99 1512.56 L2313.99 1516.5 L2299.92 1516.5 L2299.92 1524.97 Q2300.94 1524.62 2301.95 1524.46 Q2302.97 1524.27 2303.99 1524.27 Q2309.78 1524.27 2313.16 1527.44 Q2316.54 1530.62 2316.54 1536.03 Q2316.54 1541.61 2313.07 1544.71 Q2309.59 1547.79 2303.27 1547.79 Q2301.1 1547.79 2298.83 1547.42 Q2296.58 1547.05 2294.18 1546.31 L2294.18 1541.61 Q2296.26 1542.74 2298.48 1543.3 Q2300.7 1543.86 2303.18 1543.86 Q2307.19 1543.86 2309.52 1541.75 Q2311.86 1539.64 2311.86 1536.03 Q2311.86 1532.42 2309.52 1530.31 Q2307.19 1528.21 2303.18 1528.21 Q2301.31 1528.21 2299.43 1528.62 Q2297.58 1529.04 2295.63 1529.92 L2295.63 1512.56 Z\" fill=\"#000000\" fill-rule=\"evenodd\" fill-opacity=\"1\" /><polyline clip-path=\"url(#clip032)\" style=\"stroke:#000000; stroke-linecap:butt; stroke-linejoin:round; stroke-width:2; stroke-opacity:0.1; fill:none\" points=\"\n",
       "  141.853,1460.32 2352.76,1460.32 \n",
       "  \"/>\n",
       "<polyline clip-path=\"url(#clip032)\" style=\"stroke:#000000; stroke-linecap:butt; stroke-linejoin:round; stroke-width:2; stroke-opacity:0.1; fill:none\" points=\"\n",
       "  141.853,1168.33 2352.76,1168.33 \n",
       "  \"/>\n",
       "<polyline clip-path=\"url(#clip032)\" style=\"stroke:#000000; stroke-linecap:butt; stroke-linejoin:round; stroke-width:2; stroke-opacity:0.1; fill:none\" points=\"\n",
       "  141.853,876.341 2352.76,876.341 \n",
       "  \"/>\n",
       "<polyline clip-path=\"url(#clip032)\" style=\"stroke:#000000; stroke-linecap:butt; stroke-linejoin:round; stroke-width:2; stroke-opacity:0.1; fill:none\" points=\"\n",
       "  141.853,584.354 2352.76,584.354 \n",
       "  \"/>\n",
       "<polyline clip-path=\"url(#clip032)\" style=\"stroke:#000000; stroke-linecap:butt; stroke-linejoin:round; stroke-width:2; stroke-opacity:0.1; fill:none\" points=\"\n",
       "  141.853,292.367 2352.76,292.367 \n",
       "  \"/>\n",
       "<polyline clip-path=\"url(#clip030)\" style=\"stroke:#000000; stroke-linecap:butt; stroke-linejoin:round; stroke-width:4; stroke-opacity:1; fill:none\" points=\"\n",
       "  141.853,1486.45 141.853,47.2441 \n",
       "  \"/>\n",
       "<polyline clip-path=\"url(#clip030)\" style=\"stroke:#000000; stroke-linecap:butt; stroke-linejoin:round; stroke-width:4; stroke-opacity:1; fill:none\" points=\"\n",
       "  141.853,1460.32 160.751,1460.32 \n",
       "  \"/>\n",
       "<polyline clip-path=\"url(#clip030)\" style=\"stroke:#000000; stroke-linecap:butt; stroke-linejoin:round; stroke-width:4; stroke-opacity:1; fill:none\" points=\"\n",
       "  141.853,1168.33 160.751,1168.33 \n",
       "  \"/>\n",
       "<polyline clip-path=\"url(#clip030)\" style=\"stroke:#000000; stroke-linecap:butt; stroke-linejoin:round; stroke-width:4; stroke-opacity:1; fill:none\" points=\"\n",
       "  141.853,876.341 160.751,876.341 \n",
       "  \"/>\n",
       "<polyline clip-path=\"url(#clip030)\" style=\"stroke:#000000; stroke-linecap:butt; stroke-linejoin:round; stroke-width:4; stroke-opacity:1; fill:none\" points=\"\n",
       "  141.853,584.354 160.751,584.354 \n",
       "  \"/>\n",
       "<polyline clip-path=\"url(#clip030)\" style=\"stroke:#000000; stroke-linecap:butt; stroke-linejoin:round; stroke-width:4; stroke-opacity:1; fill:none\" points=\"\n",
       "  141.853,292.367 160.751,292.367 \n",
       "  \"/>\n",
       "<path clip-path=\"url(#clip030)\" d=\"M93.9086 1446.11 Q90.2975 1446.11 88.4688 1449.68 Q86.6632 1453.22 86.6632 1460.35 Q86.6632 1467.46 88.4688 1471.02 Q90.2975 1474.56 93.9086 1474.56 Q97.5428 1474.56 99.3483 1471.02 Q101.177 1467.46 101.177 1460.35 Q101.177 1453.22 99.3483 1449.68 Q97.5428 1446.11 93.9086 1446.11 M93.9086 1442.41 Q99.7187 1442.41 102.774 1447.02 Q105.853 1451.6 105.853 1460.35 Q105.853 1469.08 102.774 1473.68 Q99.7187 1478.27 93.9086 1478.27 Q88.0984 1478.27 85.0197 1473.68 Q81.9642 1469.08 81.9642 1460.35 Q81.9642 1451.6 85.0197 1447.02 Q88.0984 1442.41 93.9086 1442.41 Z\" fill=\"#000000\" fill-rule=\"evenodd\" fill-opacity=\"1\" /><path clip-path=\"url(#clip030)\" d=\"M57.7745 1181.67 L74.0939 1181.67 L74.0939 1185.61 L52.1495 1185.61 L52.1495 1181.67 Q54.8115 1178.92 59.3949 1174.29 Q64.0013 1169.64 65.1819 1168.29 Q67.4272 1165.77 68.3068 1164.03 Q69.2096 1162.27 69.2096 1160.59 Q69.2096 1157.83 67.2652 1156.09 Q65.3439 1154.36 62.2421 1154.36 Q60.043 1154.36 57.5893 1155.12 Q55.1588 1155.89 52.381 1157.44 L52.381 1152.71 Q55.2051 1151.58 57.6588 1151 Q60.1124 1150.42 62.1495 1150.42 Q67.5198 1150.42 70.7142 1153.11 Q73.9087 1155.79 73.9087 1160.28 Q73.9087 1162.41 73.0985 1164.34 Q72.3115 1166.23 70.205 1168.83 Q69.6263 1169.5 66.5245 1172.71 Q63.4226 1175.91 57.7745 1181.67 Z\" fill=\"#000000\" fill-rule=\"evenodd\" fill-opacity=\"1\" /><path clip-path=\"url(#clip030)\" d=\"M93.9086 1154.13 Q90.2975 1154.13 88.4688 1157.69 Q86.6632 1161.23 86.6632 1168.36 Q86.6632 1175.47 88.4688 1179.03 Q90.2975 1182.58 93.9086 1182.58 Q97.5428 1182.58 99.3483 1179.03 Q101.177 1175.47 101.177 1168.36 Q101.177 1161.23 99.3483 1157.69 Q97.5428 1154.13 93.9086 1154.13 M93.9086 1150.42 Q99.7187 1150.42 102.774 1155.03 Q105.853 1159.61 105.853 1168.36 Q105.853 1177.09 102.774 1181.7 Q99.7187 1186.28 93.9086 1186.28 Q88.0984 1186.28 85.0197 1181.7 Q81.9642 1177.09 81.9642 1168.36 Q81.9642 1159.61 85.0197 1155.03 Q88.0984 1150.42 93.9086 1150.42 Z\" fill=\"#000000\" fill-rule=\"evenodd\" fill-opacity=\"1\" /><path clip-path=\"url(#clip030)\" d=\"M66.5939 863.135 L54.7884 881.584 L66.5939 881.584 L66.5939 863.135 M65.367 859.061 L71.2466 859.061 L71.2466 881.584 L76.1772 881.584 L76.1772 885.473 L71.2466 885.473 L71.2466 893.621 L66.5939 893.621 L66.5939 885.473 L50.9921 885.473 L50.9921 880.959 L65.367 859.061 Z\" fill=\"#000000\" fill-rule=\"evenodd\" fill-opacity=\"1\" /><path clip-path=\"url(#clip030)\" d=\"M93.9086 862.14 Q90.2975 862.14 88.4688 865.705 Q86.6632 869.246 86.6632 876.376 Q86.6632 883.482 88.4688 887.047 Q90.2975 890.589 93.9086 890.589 Q97.5428 890.589 99.3483 887.047 Q101.177 883.482 101.177 876.376 Q101.177 869.246 99.3483 865.705 Q97.5428 862.14 93.9086 862.14 M93.9086 858.436 Q99.7187 858.436 102.774 863.043 Q105.853 867.626 105.853 876.376 Q105.853 885.103 102.774 889.709 Q99.7187 894.292 93.9086 894.292 Q88.0984 894.292 85.0197 889.709 Q81.9642 885.103 81.9642 876.376 Q81.9642 867.626 85.0197 863.043 Q88.0984 858.436 93.9086 858.436 Z\" fill=\"#000000\" fill-rule=\"evenodd\" fill-opacity=\"1\" /><path clip-path=\"url(#clip030)\" d=\"M64.3254 582.491 Q61.1773 582.491 59.3254 584.643 Q57.4967 586.796 57.4967 590.546 Q57.4967 594.273 59.3254 596.449 Q61.1773 598.602 64.3254 598.602 Q67.4735 598.602 69.3022 596.449 Q71.1541 594.273 71.1541 590.546 Q71.1541 586.796 69.3022 584.643 Q67.4735 582.491 64.3254 582.491 M73.6077 567.838 L73.6077 572.097 Q71.8485 571.264 70.0429 570.824 Q68.2606 570.384 66.5013 570.384 Q61.8717 570.384 59.418 573.509 Q56.9875 576.634 56.6402 582.954 Q58.006 580.94 60.0662 579.875 Q62.1263 578.787 64.6032 578.787 Q69.8115 578.787 72.8207 581.958 Q75.8531 585.106 75.8531 590.546 Q75.8531 595.87 72.705 599.088 Q69.5568 602.305 64.3254 602.305 Q58.33 602.305 55.1588 597.722 Q51.9875 593.116 51.9875 584.389 Q51.9875 576.194 55.8764 571.333 Q59.7652 566.449 66.3161 566.449 Q68.0754 566.449 69.8578 566.796 Q71.6633 567.144 73.6077 567.838 Z\" fill=\"#000000\" fill-rule=\"evenodd\" fill-opacity=\"1\" /><path clip-path=\"url(#clip030)\" d=\"M93.9086 570.153 Q90.2975 570.153 88.4688 573.718 Q86.6632 577.259 86.6632 584.389 Q86.6632 591.495 88.4688 595.06 Q90.2975 598.602 93.9086 598.602 Q97.5428 598.602 99.3483 595.06 Q101.177 591.495 101.177 584.389 Q101.177 577.259 99.3483 573.718 Q97.5428 570.153 93.9086 570.153 M93.9086 566.449 Q99.7187 566.449 102.774 571.056 Q105.853 575.639 105.853 584.389 Q105.853 593.116 102.774 597.722 Q99.7187 602.305 93.9086 602.305 Q88.0984 602.305 85.0197 597.722 Q81.9642 593.116 81.9642 584.389 Q81.9642 575.639 85.0197 571.056 Q88.0984 566.449 93.9086 566.449 Z\" fill=\"#000000\" fill-rule=\"evenodd\" fill-opacity=\"1\" /><path clip-path=\"url(#clip030)\" d=\"M63.7467 293.235 Q60.4134 293.235 58.4921 295.018 Q56.5939 296.8 56.5939 299.925 Q56.5939 303.05 58.4921 304.832 Q60.4134 306.615 63.7467 306.615 Q67.08 306.615 69.0013 304.832 Q70.9226 303.027 70.9226 299.925 Q70.9226 296.8 69.0013 295.018 Q67.1032 293.235 63.7467 293.235 M59.0708 291.244 Q56.0615 290.504 54.3717 288.444 Q52.7051 286.383 52.7051 283.42 Q52.7051 279.277 55.6449 276.87 Q58.6078 274.462 63.7467 274.462 Q68.9087 274.462 71.8485 276.87 Q74.7883 279.277 74.7883 283.42 Q74.7883 286.383 73.0985 288.444 Q71.4318 290.504 68.4457 291.244 Q71.8253 292.032 73.7003 294.323 Q75.5985 296.615 75.5985 299.925 Q75.5985 304.948 72.5198 307.633 Q69.4642 310.318 63.7467 310.318 Q58.0291 310.318 54.9504 307.633 Q51.8949 304.948 51.8949 299.925 Q51.8949 296.615 53.793 294.323 Q55.6912 292.032 59.0708 291.244 M57.3578 283.86 Q57.3578 286.545 59.0245 288.05 Q60.7143 289.555 63.7467 289.555 Q66.7559 289.555 68.4457 288.05 Q70.1587 286.545 70.1587 283.86 Q70.1587 281.175 68.4457 279.67 Q66.7559 278.166 63.7467 278.166 Q60.7143 278.166 59.0245 279.67 Q57.3578 281.175 57.3578 283.86 Z\" fill=\"#000000\" fill-rule=\"evenodd\" fill-opacity=\"1\" /><path clip-path=\"url(#clip030)\" d=\"M93.9086 278.166 Q90.2975 278.166 88.4688 281.731 Q86.6632 285.272 86.6632 292.402 Q86.6632 299.508 88.4688 303.073 Q90.2975 306.615 93.9086 306.615 Q97.5428 306.615 99.3483 303.073 Q101.177 299.508 101.177 292.402 Q101.177 285.272 99.3483 281.731 Q97.5428 278.166 93.9086 278.166 M93.9086 274.462 Q99.7187 274.462 102.774 279.069 Q105.853 283.652 105.853 292.402 Q105.853 301.129 102.774 305.735 Q99.7187 310.318 93.9086 310.318 Q88.0984 310.318 85.0197 305.735 Q81.9642 301.129 81.9642 292.402 Q81.9642 283.652 85.0197 279.069 Q88.0984 274.462 93.9086 274.462 Z\" fill=\"#000000\" fill-rule=\"evenodd\" fill-opacity=\"1\" /><circle clip-path=\"url(#clip032)\" cx=\"204.426\" cy=\"1445.72\" r=\"14\" fill=\"#009af9\" fill-rule=\"evenodd\" fill-opacity=\"1\" stroke=\"#000000\" stroke-opacity=\"1\" stroke-width=\"3.2\"/>\n",
       "<circle clip-path=\"url(#clip032)\" cx=\"291.332\" cy=\"1431.12\" r=\"14\" fill=\"#009af9\" fill-rule=\"evenodd\" fill-opacity=\"1\" stroke=\"#000000\" stroke-opacity=\"1\" stroke-width=\"3.2\"/>\n",
       "<circle clip-path=\"url(#clip032)\" cx=\"378.239\" cy=\"1416.52\" r=\"14\" fill=\"#009af9\" fill-rule=\"evenodd\" fill-opacity=\"1\" stroke=\"#000000\" stroke-opacity=\"1\" stroke-width=\"3.2\"/>\n",
       "<circle clip-path=\"url(#clip032)\" cx=\"465.145\" cy=\"1401.92\" r=\"14\" fill=\"#009af9\" fill-rule=\"evenodd\" fill-opacity=\"1\" stroke=\"#000000\" stroke-opacity=\"1\" stroke-width=\"3.2\"/>\n",
       "<circle clip-path=\"url(#clip032)\" cx=\"552.052\" cy=\"1387.32\" r=\"14\" fill=\"#009af9\" fill-rule=\"evenodd\" fill-opacity=\"1\" stroke=\"#000000\" stroke-opacity=\"1\" stroke-width=\"3.2\"/>\n",
       "<circle clip-path=\"url(#clip032)\" cx=\"638.958\" cy=\"365.364\" r=\"14\" fill=\"#009af9\" fill-rule=\"evenodd\" fill-opacity=\"1\" stroke=\"#000000\" stroke-opacity=\"1\" stroke-width=\"3.2\"/>\n",
       "<circle clip-path=\"url(#clip032)\" cx=\"725.865\" cy=\"350.765\" r=\"14\" fill=\"#009af9\" fill-rule=\"evenodd\" fill-opacity=\"1\" stroke=\"#000000\" stroke-opacity=\"1\" stroke-width=\"3.2\"/>\n",
       "<circle clip-path=\"url(#clip032)\" cx=\"812.772\" cy=\"336.165\" r=\"14\" fill=\"#009af9\" fill-rule=\"evenodd\" fill-opacity=\"1\" stroke=\"#000000\" stroke-opacity=\"1\" stroke-width=\"3.2\"/>\n",
       "<circle clip-path=\"url(#clip032)\" cx=\"899.678\" cy=\"321.566\" r=\"14\" fill=\"#009af9\" fill-rule=\"evenodd\" fill-opacity=\"1\" stroke=\"#000000\" stroke-opacity=\"1\" stroke-width=\"3.2\"/>\n",
       "<circle clip-path=\"url(#clip032)\" cx=\"986.585\" cy=\"306.967\" r=\"14\" fill=\"#009af9\" fill-rule=\"evenodd\" fill-opacity=\"1\" stroke=\"#000000\" stroke-opacity=\"1\" stroke-width=\"3.2\"/>\n",
       "<circle clip-path=\"url(#clip032)\" cx=\"1073.49\" cy=\"292.367\" r=\"14\" fill=\"#009af9\" fill-rule=\"evenodd\" fill-opacity=\"1\" stroke=\"#000000\" stroke-opacity=\"1\" stroke-width=\"3.2\"/>\n",
       "<circle clip-path=\"url(#clip032)\" cx=\"1160.4\" cy=\"277.768\" r=\"14\" fill=\"#009af9\" fill-rule=\"evenodd\" fill-opacity=\"1\" stroke=\"#000000\" stroke-opacity=\"1\" stroke-width=\"3.2\"/>\n",
       "<circle clip-path=\"url(#clip032)\" cx=\"1247.3\" cy=\"263.168\" r=\"14\" fill=\"#009af9\" fill-rule=\"evenodd\" fill-opacity=\"1\" stroke=\"#000000\" stroke-opacity=\"1\" stroke-width=\"3.2\"/>\n",
       "<circle clip-path=\"url(#clip032)\" cx=\"1334.21\" cy=\"248.569\" r=\"14\" fill=\"#009af9\" fill-rule=\"evenodd\" fill-opacity=\"1\" stroke=\"#000000\" stroke-opacity=\"1\" stroke-width=\"3.2\"/>\n",
       "<circle clip-path=\"url(#clip032)\" cx=\"1421.12\" cy=\"233.97\" r=\"14\" fill=\"#009af9\" fill-rule=\"evenodd\" fill-opacity=\"1\" stroke=\"#000000\" stroke-opacity=\"1\" stroke-width=\"3.2\"/>\n",
       "<circle clip-path=\"url(#clip032)\" cx=\"1508.02\" cy=\"219.37\" r=\"14\" fill=\"#009af9\" fill-rule=\"evenodd\" fill-opacity=\"1\" stroke=\"#000000\" stroke-opacity=\"1\" stroke-width=\"3.2\"/>\n",
       "<circle clip-path=\"url(#clip032)\" cx=\"1594.93\" cy=\"204.771\" r=\"14\" fill=\"#009af9\" fill-rule=\"evenodd\" fill-opacity=\"1\" stroke=\"#000000\" stroke-opacity=\"1\" stroke-width=\"3.2\"/>\n",
       "<circle clip-path=\"url(#clip032)\" cx=\"1681.84\" cy=\"190.172\" r=\"14\" fill=\"#009af9\" fill-rule=\"evenodd\" fill-opacity=\"1\" stroke=\"#000000\" stroke-opacity=\"1\" stroke-width=\"3.2\"/>\n",
       "<circle clip-path=\"url(#clip032)\" cx=\"1768.74\" cy=\"175.572\" r=\"14\" fill=\"#009af9\" fill-rule=\"evenodd\" fill-opacity=\"1\" stroke=\"#000000\" stroke-opacity=\"1\" stroke-width=\"3.2\"/>\n",
       "<circle clip-path=\"url(#clip032)\" cx=\"1855.65\" cy=\"160.973\" r=\"14\" fill=\"#009af9\" fill-rule=\"evenodd\" fill-opacity=\"1\" stroke=\"#000000\" stroke-opacity=\"1\" stroke-width=\"3.2\"/>\n",
       "<circle clip-path=\"url(#clip032)\" cx=\"1942.56\" cy=\"146.374\" r=\"14\" fill=\"#009af9\" fill-rule=\"evenodd\" fill-opacity=\"1\" stroke=\"#000000\" stroke-opacity=\"1\" stroke-width=\"3.2\"/>\n",
       "<circle clip-path=\"url(#clip032)\" cx=\"2029.46\" cy=\"131.774\" r=\"14\" fill=\"#009af9\" fill-rule=\"evenodd\" fill-opacity=\"1\" stroke=\"#000000\" stroke-opacity=\"1\" stroke-width=\"3.2\"/>\n",
       "<circle clip-path=\"url(#clip032)\" cx=\"2116.37\" cy=\"117.175\" r=\"14\" fill=\"#009af9\" fill-rule=\"evenodd\" fill-opacity=\"1\" stroke=\"#000000\" stroke-opacity=\"1\" stroke-width=\"3.2\"/>\n",
       "<circle clip-path=\"url(#clip032)\" cx=\"2203.28\" cy=\"102.576\" r=\"14\" fill=\"#009af9\" fill-rule=\"evenodd\" fill-opacity=\"1\" stroke=\"#000000\" stroke-opacity=\"1\" stroke-width=\"3.2\"/>\n",
       "<circle clip-path=\"url(#clip032)\" cx=\"2290.18\" cy=\"87.9763\" r=\"14\" fill=\"#009af9\" fill-rule=\"evenodd\" fill-opacity=\"1\" stroke=\"#000000\" stroke-opacity=\"1\" stroke-width=\"3.2\"/>\n",
       "<path clip-path=\"url(#clip030)\" d=\"\n",
       "M1980.97 198.898 L2279.06 198.898 L2279.06 95.2176 L1980.97 95.2176  Z\n",
       "  \" fill=\"#ffffff\" fill-rule=\"evenodd\" fill-opacity=\"1\"/>\n",
       "<polyline clip-path=\"url(#clip030)\" style=\"stroke:#000000; stroke-linecap:butt; stroke-linejoin:round; stroke-width:4; stroke-opacity:1; fill:none\" points=\"\n",
       "  1980.97,198.898 2279.06,198.898 2279.06,95.2176 1980.97,95.2176 1980.97,198.898 \n",
       "  \"/>\n",
       "<circle clip-path=\"url(#clip030)\" cx=\"2079.24\" cy=\"147.058\" r=\"23\" fill=\"#009af9\" fill-rule=\"evenodd\" fill-opacity=\"1\" stroke=\"#000000\" stroke-opacity=\"1\" stroke-width=\"5.12\"/>\n",
       "<path clip-path=\"url(#clip030)\" d=\"M2191.34 166.745 Q2189.53 171.375 2187.82 172.787 Q2186.11 174.199 2183.24 174.199 L2179.84 174.199 L2179.84 170.634 L2182.34 170.634 Q2184.09 170.634 2185.07 169.8 Q2186.04 168.967 2187.22 165.865 L2187.98 163.921 L2177.5 138.412 L2182.01 138.412 L2190.11 158.689 L2198.22 138.412 L2202.73 138.412 L2191.34 166.745 Z\" fill=\"#000000\" fill-rule=\"evenodd\" fill-opacity=\"1\" /><path clip-path=\"url(#clip030)\" d=\"M2210.02 160.402 L2217.66 160.402 L2217.66 134.037 L2209.35 135.703 L2209.35 131.444 L2217.61 129.778 L2222.29 129.778 L2222.29 160.402 L2229.93 160.402 L2229.93 164.338 L2210.02 164.338 L2210.02 160.402 Z\" fill=\"#000000\" fill-rule=\"evenodd\" fill-opacity=\"1\" /></svg>\n"
      ]
     },
     "execution_count": 28,
     "metadata": {},
     "output_type": "execute_result"
    }
   ],
   "source": [
    "StatsPlots.scatter(first.(kmer_counts_histogram))"
   ]
  },
  {
   "cell_type": "code",
   "execution_count": 29,
   "id": "1d2bf3a6-c1b8-4ce2-a4de-38ef380b735a",
   "metadata": {},
   "outputs": [
    {
     "data": {
      "text/plain": [
       "25-element Vector{Int64}:\n",
       "  1\n",
       "  2\n",
       "  3\n",
       "  4\n",
       "  5\n",
       " 75\n",
       " 76\n",
       " 77\n",
       " 78\n",
       " 79\n",
       " 80\n",
       " 81\n",
       " 82\n",
       " 83\n",
       " 84\n",
       " 85\n",
       " 86\n",
       " 87\n",
       " 88\n",
       " 89\n",
       " 90\n",
       " 91\n",
       " 92\n",
       " 93\n",
       " 94"
      ]
     },
     "execution_count": 29,
     "metadata": {},
     "output_type": "execute_result"
    }
   ],
   "source": [
    "kmer_depth_of_coverage_bins = first.(kmer_counts_histogram)"
   ]
  },
  {
   "cell_type": "code",
   "execution_count": 31,
   "id": "1013438f-d6d3-4627-aa5a-606623a4ae48",
   "metadata": {},
   "outputs": [
    {
     "data": {
      "text/plain": [
       "25×25 Matrix{Int64}:\n",
       "  0   1   2   3   4  74  75  76  77  …  85  86  87  88  89  90  91  92  93\n",
       "  1   0   1   2   3  73  74  75  76     84  85  86  87  88  89  90  91  92\n",
       "  2   1   0   1   2  72  73  74  75     83  84  85  86  87  88  89  90  91\n",
       "  3   2   1   0   1  71  72  73  74     82  83  84  85  86  87  88  89  90\n",
       "  4   3   2   1   0  70  71  72  73     81  82  83  84  85  86  87  88  89\n",
       " 74  73  72  71  70   0   1   2   3  …  11  12  13  14  15  16  17  18  19\n",
       " 75  74  73  72  71   1   0   1   2     10  11  12  13  14  15  16  17  18\n",
       " 76  75  74  73  72   2   1   0   1      9  10  11  12  13  14  15  16  17\n",
       " 77  76  75  74  73   3   2   1   0      8   9  10  11  12  13  14  15  16\n",
       " 78  77  76  75  74   4   3   2   1      7   8   9  10  11  12  13  14  15\n",
       " 79  78  77  76  75   5   4   3   2  …   6   7   8   9  10  11  12  13  14\n",
       " 80  79  78  77  76   6   5   4   3      5   6   7   8   9  10  11  12  13\n",
       " 81  80  79  78  77   7   6   5   4      4   5   6   7   8   9  10  11  12\n",
       " 82  81  80  79  78   8   7   6   5      3   4   5   6   7   8   9  10  11\n",
       " 83  82  81  80  79   9   8   7   6      2   3   4   5   6   7   8   9  10\n",
       " 84  83  82  81  80  10   9   8   7  …   1   2   3   4   5   6   7   8   9\n",
       " 85  84  83  82  81  11  10   9   8      0   1   2   3   4   5   6   7   8\n",
       " 86  85  84  83  82  12  11  10   9      1   0   1   2   3   4   5   6   7\n",
       " 87  86  85  84  83  13  12  11  10      2   1   0   1   2   3   4   5   6\n",
       " 88  87  86  85  84  14  13  12  11      3   2   1   0   1   2   3   4   5\n",
       " 89  88  87  86  85  15  14  13  12  …   4   3   2   1   0   1   2   3   4\n",
       " 90  89  88  87  86  16  15  14  13      5   4   3   2   1   0   1   2   3\n",
       " 91  90  89  88  87  17  16  15  14      6   5   4   3   2   1   0   1   2\n",
       " 92  91  90  89  88  18  17  16  15      7   6   5   4   3   2   1   0   1\n",
       " 93  92  91  90  89  19  18  17  16      8   7   6   5   4   3   2   1   0"
      ]
     },
     "execution_count": 31,
     "metadata": {},
     "output_type": "execute_result"
    }
   ],
   "source": [
    "distance_matrix = zeros(Int, (length(kmer_depth_of_coverage_bins), length(kmer_depth_of_coverage_bins)))\n",
    "for (row, depth_of_coverage_bin_1) in enumerate(kmer_depth_of_coverage_bins)\n",
    "    for (col, depth_of_coverage_bin_2) in enumerate(kmer_depth_of_coverage_bins)\n",
    "        distance = abs(depth_of_coverage_bin_1 - depth_of_coverage_bin_2)\n",
    "        distance_matrix[row, col] = distance\n",
    "    end\n",
    "end\n",
    "distance_matrix"
   ]
  },
  {
   "cell_type": "code",
   "execution_count": 36,
   "id": "2d4645de-168a-45fb-95f3-ebe04f6b3f8c",
   "metadata": {},
   "outputs": [
    {
     "data": {
      "text/html": [
       "<div class=\"data-frame\"><p>0 rows × 2 columns</p><table class=\"data-frame\"><thead><tr><th></th><th>k</th><th>model</th></tr><tr><th></th><th title=\"Int64\">Int64</th><th title=\"Any\">Any</th></tr></thead><tbody></tbody></table></div>"
      ],
      "text/latex": [
       "\\begin{tabular}{r|cc}\n",
       "\t& k & model\\\\\n",
       "\t\\hline\n",
       "\t& Int64 & Any\\\\\n",
       "\t\\hline\n",
       "\\end{tabular}\n"
      ],
      "text/plain": [
       "\u001b[1m0×2 DataFrame\u001b[0m"
      ]
     },
     "execution_count": 36,
     "metadata": {},
     "output_type": "execute_result"
    }
   ],
   "source": [
    "results_table = DataFrames.DataFrame(k = Int[], model = [], )"
   ]
  },
  {
   "cell_type": "code",
   "execution_count": 93,
   "id": "bf063593-6778-4834-baae-9d3e74372748",
   "metadata": {},
   "outputs": [
    {
     "name": "stdout",
     "output_type": "stream",
     "text": [
      "within_cluster_sum_of_squares = 103420.0\n",
      "within_cluster_sum_of_squares = 97280.0\n",
      "within_cluster_sum_of_squares = 96780.0\n",
      "within_cluster_sum_of_squares = 96720.0\n",
      "within_cluster_sum_of_squares = 95965.0\n"
     ]
    }
   ],
   "source": [
    "within_clusters_sums_of_squares = Float64[]\n",
    "between_clusters_sums_of_squares = Float64[]\n",
    "silhouettes = Float64[0.0]\n",
    "for k in 1:5\n",
    "    clustering_result = Clustering.kmedoids(distance_matrix, k)\n",
    "\n",
    "    within_cluster_sum_of_squares = 0.0\n",
    "    between_cluster_sum_of_squares = 0.0\n",
    "    for (cluster, medoid) in enumerate(clustering_result.medoids)\n",
    "        within_cluster_indices = findall(assignment -> assignment == cluster, clustering_result.assignments)\n",
    "        for index in within_cluster_indices\n",
    "            within_cluster_sum_of_squares += (kmer_depth_of_coverage_bins[index] - medoid)^2\n",
    "        end\n",
    "        between_cluster_indices = findall(assignment -> assignment != cluster, clustering_result.assignments)\n",
    "        for index in between_cluster_indices\n",
    "            between_cluster_sum_of_squares += (kmer_depth_of_coverage_bins[index] - medoid)^2\n",
    "        end\n",
    "    end\n",
    "    if k > 1\n",
    "        push!(silhouettes, Statistics.mean(Clustering.silhouettes(clustering_result, distance_matrix)))\n",
    "    end\n",
    "\n",
    "    @show within_cluster_sum_of_squares\n",
    "#     @show between_cluster_sum_of_squares\n",
    "    push!(within_clusters_sums_of_squares,within_cluster_sum_of_squares)\n",
    "#     push!(between_clusters_sums_of_squares,between_cluster_sum_of_squares)\n",
    "end"
   ]
  },
  {
   "cell_type": "code",
   "execution_count": 95,
   "id": "454f19db-417b-4e5d-adf3-4cc8b9d808aa",
   "metadata": {},
   "outputs": [
    {
     "data": {
      "image/svg+xml": [
       "<?xml version=\"1.0\" encoding=\"utf-8\"?>\n",
       "<svg xmlns=\"http://www.w3.org/2000/svg\" xmlns:xlink=\"http://www.w3.org/1999/xlink\" width=\"600\" height=\"400\" viewBox=\"0 0 2400 1600\">\n",
       "<defs>\n",
       "  <clipPath id=\"clip310\">\n",
       "    <rect x=\"0\" y=\"0\" width=\"2400\" height=\"1600\"/>\n",
       "  </clipPath>\n",
       "</defs>\n",
       "<path clip-path=\"url(#clip310)\" d=\"\n",
       "M0 1600 L2400 1600 L2400 0 L0 0  Z\n",
       "  \" fill=\"#ffffff\" fill-rule=\"evenodd\" fill-opacity=\"1\"/>\n",
       "<defs>\n",
       "  <clipPath id=\"clip311\">\n",
       "    <rect x=\"480\" y=\"0\" width=\"1681\" height=\"1600\"/>\n",
       "  </clipPath>\n",
       "</defs>\n",
       "<path clip-path=\"url(#clip310)\" d=\"\n",
       "M259.607 1486.45 L2352.76 1486.45 L2352.76 47.2441 L259.607 47.2441  Z\n",
       "  \" fill=\"#ffffff\" fill-rule=\"evenodd\" fill-opacity=\"1\"/>\n",
       "<defs>\n",
       "  <clipPath id=\"clip312\">\n",
       "    <rect x=\"259\" y=\"47\" width=\"2094\" height=\"1440\"/>\n",
       "  </clipPath>\n",
       "</defs>\n",
       "<polyline clip-path=\"url(#clip312)\" style=\"stroke:#000000; stroke-linecap:butt; stroke-linejoin:round; stroke-width:2; stroke-opacity:0.1; fill:none\" points=\"\n",
       "  318.847,1486.45 318.847,47.2441 \n",
       "  \"/>\n",
       "<polyline clip-path=\"url(#clip312)\" style=\"stroke:#000000; stroke-linecap:butt; stroke-linejoin:round; stroke-width:2; stroke-opacity:0.1; fill:none\" points=\"\n",
       "  812.514,1486.45 812.514,47.2441 \n",
       "  \"/>\n",
       "<polyline clip-path=\"url(#clip312)\" style=\"stroke:#000000; stroke-linecap:butt; stroke-linejoin:round; stroke-width:2; stroke-opacity:0.1; fill:none\" points=\"\n",
       "  1306.18,1486.45 1306.18,47.2441 \n",
       "  \"/>\n",
       "<polyline clip-path=\"url(#clip312)\" style=\"stroke:#000000; stroke-linecap:butt; stroke-linejoin:round; stroke-width:2; stroke-opacity:0.1; fill:none\" points=\"\n",
       "  1799.85,1486.45 1799.85,47.2441 \n",
       "  \"/>\n",
       "<polyline clip-path=\"url(#clip312)\" style=\"stroke:#000000; stroke-linecap:butt; stroke-linejoin:round; stroke-width:2; stroke-opacity:0.1; fill:none\" points=\"\n",
       "  2293.52,1486.45 2293.52,47.2441 \n",
       "  \"/>\n",
       "<polyline clip-path=\"url(#clip310)\" style=\"stroke:#000000; stroke-linecap:butt; stroke-linejoin:round; stroke-width:4; stroke-opacity:1; fill:none\" points=\"\n",
       "  259.607,1486.45 2352.76,1486.45 \n",
       "  \"/>\n",
       "<polyline clip-path=\"url(#clip310)\" style=\"stroke:#000000; stroke-linecap:butt; stroke-linejoin:round; stroke-width:4; stroke-opacity:1; fill:none\" points=\"\n",
       "  318.847,1486.45 318.847,1467.55 \n",
       "  \"/>\n",
       "<polyline clip-path=\"url(#clip310)\" style=\"stroke:#000000; stroke-linecap:butt; stroke-linejoin:round; stroke-width:4; stroke-opacity:1; fill:none\" points=\"\n",
       "  812.514,1486.45 812.514,1467.55 \n",
       "  \"/>\n",
       "<polyline clip-path=\"url(#clip310)\" style=\"stroke:#000000; stroke-linecap:butt; stroke-linejoin:round; stroke-width:4; stroke-opacity:1; fill:none\" points=\"\n",
       "  1306.18,1486.45 1306.18,1467.55 \n",
       "  \"/>\n",
       "<polyline clip-path=\"url(#clip310)\" style=\"stroke:#000000; stroke-linecap:butt; stroke-linejoin:round; stroke-width:4; stroke-opacity:1; fill:none\" points=\"\n",
       "  1799.85,1486.45 1799.85,1467.55 \n",
       "  \"/>\n",
       "<polyline clip-path=\"url(#clip310)\" style=\"stroke:#000000; stroke-linecap:butt; stroke-linejoin:round; stroke-width:4; stroke-opacity:1; fill:none\" points=\"\n",
       "  2293.52,1486.45 2293.52,1467.55 \n",
       "  \"/>\n",
       "<path clip-path=\"url(#clip310)\" d=\"M309.229 1543.18 L316.868 1543.18 L316.868 1516.82 L308.558 1518.49 L308.558 1514.23 L316.822 1512.56 L321.497 1512.56 L321.497 1543.18 L329.136 1543.18 L329.136 1547.12 L309.229 1547.12 L309.229 1543.18 Z\" fill=\"#000000\" fill-rule=\"evenodd\" fill-opacity=\"1\" /><path clip-path=\"url(#clip310)\" d=\"M807.167 1543.18 L823.486 1543.18 L823.486 1547.12 L801.542 1547.12 L801.542 1543.18 Q804.204 1540.43 808.787 1535.8 Q813.394 1531.15 814.574 1529.81 Q816.82 1527.28 817.699 1525.55 Q818.602 1523.79 818.602 1522.1 Q818.602 1519.34 816.658 1517.61 Q814.736 1515.87 811.635 1515.87 Q809.436 1515.87 806.982 1516.63 Q804.551 1517.4 801.774 1518.95 L801.774 1514.23 Q804.598 1513.09 807.051 1512.51 Q809.505 1511.93 811.542 1511.93 Q816.912 1511.93 820.107 1514.62 Q823.301 1517.31 823.301 1521.8 Q823.301 1523.93 822.491 1525.85 Q821.704 1527.74 819.598 1530.34 Q819.019 1531.01 815.917 1534.23 Q812.815 1537.42 807.167 1543.18 Z\" fill=\"#000000\" fill-rule=\"evenodd\" fill-opacity=\"1\" /><path clip-path=\"url(#clip310)\" d=\"M1310.43 1528.49 Q1313.79 1529.2 1315.66 1531.47 Q1317.56 1533.74 1317.56 1537.07 Q1317.56 1542.19 1314.04 1544.99 Q1310.52 1547.79 1304.04 1547.79 Q1301.86 1547.79 1299.55 1547.35 Q1297.26 1546.93 1294.8 1546.08 L1294.8 1541.56 Q1296.75 1542.7 1299.06 1543.28 Q1301.38 1543.86 1303.9 1543.86 Q1308.3 1543.86 1310.59 1542.12 Q1312.91 1540.38 1312.91 1537.07 Q1312.91 1534.02 1310.75 1532.31 Q1308.62 1530.57 1304.8 1530.57 L1300.78 1530.57 L1300.78 1526.73 L1304.99 1526.73 Q1308.44 1526.73 1310.27 1525.36 Q1312.1 1523.97 1312.1 1521.38 Q1312.1 1518.72 1310.2 1517.31 Q1308.32 1515.87 1304.8 1515.87 Q1302.88 1515.87 1300.68 1516.29 Q1298.48 1516.7 1295.85 1517.58 L1295.85 1513.42 Q1298.51 1512.68 1300.82 1512.31 Q1303.16 1511.93 1305.22 1511.93 Q1310.54 1511.93 1313.65 1514.37 Q1316.75 1516.77 1316.75 1520.89 Q1316.75 1523.76 1315.1 1525.75 Q1313.46 1527.72 1310.43 1528.49 Z\" fill=\"#000000\" fill-rule=\"evenodd\" fill-opacity=\"1\" /><path clip-path=\"url(#clip310)\" d=\"M1802.86 1516.63 L1791.05 1535.08 L1802.86 1535.08 L1802.86 1516.63 M1801.63 1512.56 L1807.51 1512.56 L1807.51 1535.08 L1812.44 1535.08 L1812.44 1538.97 L1807.51 1538.97 L1807.51 1547.12 L1802.86 1547.12 L1802.86 1538.97 L1787.26 1538.97 L1787.26 1534.46 L1801.63 1512.56 Z\" fill=\"#000000\" fill-rule=\"evenodd\" fill-opacity=\"1\" /><path clip-path=\"url(#clip310)\" d=\"M2283.79 1512.56 L2302.15 1512.56 L2302.15 1516.5 L2288.08 1516.5 L2288.08 1524.97 Q2289.09 1524.62 2290.11 1524.46 Q2291.13 1524.27 2292.15 1524.27 Q2297.94 1524.27 2301.32 1527.44 Q2304.7 1530.62 2304.7 1536.03 Q2304.7 1541.61 2301.22 1544.71 Q2297.75 1547.79 2291.43 1547.79 Q2289.26 1547.79 2286.99 1547.42 Q2284.74 1547.05 2282.34 1546.31 L2282.34 1541.61 Q2284.42 1542.74 2286.64 1543.3 Q2288.86 1543.86 2291.34 1543.86 Q2295.34 1543.86 2297.68 1541.75 Q2300.02 1539.64 2300.02 1536.03 Q2300.02 1532.42 2297.68 1530.31 Q2295.34 1528.21 2291.34 1528.21 Q2289.46 1528.21 2287.59 1528.62 Q2285.74 1529.04 2283.79 1529.92 L2283.79 1512.56 Z\" fill=\"#000000\" fill-rule=\"evenodd\" fill-opacity=\"1\" /><polyline clip-path=\"url(#clip312)\" style=\"stroke:#000000; stroke-linecap:butt; stroke-linejoin:round; stroke-width:2; stroke-opacity:0.1; fill:none\" points=\"\n",
       "  259.607,1439.34 2352.76,1439.34 \n",
       "  \"/>\n",
       "<polyline clip-path=\"url(#clip312)\" style=\"stroke:#000000; stroke-linecap:butt; stroke-linejoin:round; stroke-width:2; stroke-opacity:0.1; fill:none\" points=\"\n",
       "  259.607,1075.09 2352.76,1075.09 \n",
       "  \"/>\n",
       "<polyline clip-path=\"url(#clip312)\" style=\"stroke:#000000; stroke-linecap:butt; stroke-linejoin:round; stroke-width:2; stroke-opacity:0.1; fill:none\" points=\"\n",
       "  259.607,710.843 2352.76,710.843 \n",
       "  \"/>\n",
       "<polyline clip-path=\"url(#clip312)\" style=\"stroke:#000000; stroke-linecap:butt; stroke-linejoin:round; stroke-width:2; stroke-opacity:0.1; fill:none\" points=\"\n",
       "  259.607,346.593 2352.76,346.593 \n",
       "  \"/>\n",
       "<polyline clip-path=\"url(#clip310)\" style=\"stroke:#000000; stroke-linecap:butt; stroke-linejoin:round; stroke-width:4; stroke-opacity:1; fill:none\" points=\"\n",
       "  259.607,1486.45 259.607,47.2441 \n",
       "  \"/>\n",
       "<polyline clip-path=\"url(#clip310)\" style=\"stroke:#000000; stroke-linecap:butt; stroke-linejoin:round; stroke-width:4; stroke-opacity:1; fill:none\" points=\"\n",
       "  259.607,1439.34 278.505,1439.34 \n",
       "  \"/>\n",
       "<polyline clip-path=\"url(#clip310)\" style=\"stroke:#000000; stroke-linecap:butt; stroke-linejoin:round; stroke-width:4; stroke-opacity:1; fill:none\" points=\"\n",
       "  259.607,1075.09 278.505,1075.09 \n",
       "  \"/>\n",
       "<polyline clip-path=\"url(#clip310)\" style=\"stroke:#000000; stroke-linecap:butt; stroke-linejoin:round; stroke-width:4; stroke-opacity:1; fill:none\" points=\"\n",
       "  259.607,710.843 278.505,710.843 \n",
       "  \"/>\n",
       "<polyline clip-path=\"url(#clip310)\" style=\"stroke:#000000; stroke-linecap:butt; stroke-linejoin:round; stroke-width:4; stroke-opacity:1; fill:none\" points=\"\n",
       "  259.607,346.593 278.505,346.593 \n",
       "  \"/>\n",
       "<path clip-path=\"url(#clip310)\" d=\"M81.154 1455.9 L81.154 1451.64 Q82.9133 1452.48 84.7188 1452.92 Q86.5243 1453.36 88.2604 1453.36 Q92.89 1453.36 95.3206 1450.26 Q97.7743 1447.13 98.1215 1440.79 Q96.7789 1442.78 94.7187 1443.84 Q92.6586 1444.91 90.1586 1444.91 Q84.9734 1444.91 81.941 1441.78 Q78.9318 1438.64 78.9318 1433.2 Q78.9318 1427.87 82.0799 1424.65 Q85.2281 1421.44 90.4595 1421.44 Q96.4548 1421.44 99.603 1426.04 Q102.774 1430.63 102.774 1439.38 Q102.774 1447.55 98.8854 1452.43 Q95.0197 1457.29 88.4688 1457.29 Q86.7095 1457.29 84.904 1456.95 Q83.0984 1456.6 81.154 1455.9 M90.4595 1441.25 Q93.6076 1441.25 95.4363 1439.1 Q97.2882 1436.95 97.2882 1433.2 Q97.2882 1429.47 95.4363 1427.32 Q93.6076 1425.14 90.4595 1425.14 Q87.3114 1425.14 85.4595 1427.32 Q83.6308 1429.47 83.6308 1433.2 Q83.6308 1436.95 85.4595 1439.1 Q87.3114 1441.25 90.4595 1441.25 Z\" fill=\"#000000\" fill-rule=\"evenodd\" fill-opacity=\"1\" /><path clip-path=\"url(#clip310)\" d=\"M121.756 1437.48 Q118.608 1437.48 116.756 1439.63 Q114.927 1441.78 114.927 1445.53 Q114.927 1449.26 116.756 1451.44 Q118.608 1453.59 121.756 1453.59 Q124.904 1453.59 126.732 1451.44 Q128.584 1449.26 128.584 1445.53 Q128.584 1441.78 126.732 1439.63 Q124.904 1437.48 121.756 1437.48 M131.038 1422.83 L131.038 1427.08 Q129.279 1426.25 127.473 1425.81 Q125.691 1425.37 123.932 1425.37 Q119.302 1425.37 116.848 1428.5 Q114.418 1431.62 114.07 1437.94 Q115.436 1435.93 117.496 1434.86 Q119.557 1433.77 122.033 1433.77 Q127.242 1433.77 130.251 1436.95 Q133.283 1440.09 133.283 1445.53 Q133.283 1450.86 130.135 1454.08 Q126.987 1457.29 121.756 1457.29 Q115.76 1457.29 112.589 1452.71 Q109.418 1448.1 109.418 1439.38 Q109.418 1431.18 113.307 1426.32 Q117.195 1421.44 123.746 1421.44 Q125.506 1421.44 127.288 1421.78 Q129.094 1422.13 131.038 1422.83 Z\" fill=\"#000000\" fill-rule=\"evenodd\" fill-opacity=\"1\" /><path clip-path=\"url(#clip310)\" d=\"M151.339 1425.14 Q147.728 1425.14 145.899 1428.7 Q144.093 1432.25 144.093 1439.38 Q144.093 1446.48 145.899 1450.05 Q147.728 1453.59 151.339 1453.59 Q154.973 1453.59 156.779 1450.05 Q158.607 1446.48 158.607 1439.38 Q158.607 1432.25 156.779 1428.7 Q154.973 1425.14 151.339 1425.14 M151.339 1421.44 Q157.149 1421.44 160.205 1426.04 Q163.283 1430.63 163.283 1439.38 Q163.283 1448.1 160.205 1452.71 Q157.149 1457.29 151.339 1457.29 Q145.529 1457.29 142.45 1452.71 Q139.394 1448.1 139.394 1439.38 Q139.394 1430.63 142.45 1426.04 Q145.529 1421.44 151.339 1421.44 Z\" fill=\"#000000\" fill-rule=\"evenodd\" fill-opacity=\"1\" /><path clip-path=\"url(#clip310)\" d=\"M181.501 1425.14 Q177.89 1425.14 176.061 1428.7 Q174.255 1432.25 174.255 1439.38 Q174.255 1446.48 176.061 1450.05 Q177.89 1453.59 181.501 1453.59 Q185.135 1453.59 186.94 1450.05 Q188.769 1446.48 188.769 1439.38 Q188.769 1432.25 186.94 1428.7 Q185.135 1425.14 181.501 1425.14 M181.501 1421.44 Q187.311 1421.44 190.366 1426.04 Q193.445 1430.63 193.445 1439.38 Q193.445 1448.1 190.366 1452.71 Q187.311 1457.29 181.501 1457.29 Q175.691 1457.29 172.612 1452.71 Q169.556 1448.1 169.556 1439.38 Q169.556 1430.63 172.612 1426.04 Q175.691 1421.44 181.501 1421.44 Z\" fill=\"#000000\" fill-rule=\"evenodd\" fill-opacity=\"1\" /><path clip-path=\"url(#clip310)\" d=\"M211.663 1425.14 Q208.051 1425.14 206.223 1428.7 Q204.417 1432.25 204.417 1439.38 Q204.417 1446.48 206.223 1450.05 Q208.051 1453.59 211.663 1453.59 Q215.297 1453.59 217.102 1450.05 Q218.931 1446.48 218.931 1439.38 Q218.931 1432.25 217.102 1428.7 Q215.297 1425.14 211.663 1425.14 M211.663 1421.44 Q217.473 1421.44 220.528 1426.04 Q223.607 1430.63 223.607 1439.38 Q223.607 1448.1 220.528 1452.71 Q217.473 1457.29 211.663 1457.29 Q205.852 1457.29 202.774 1452.71 Q199.718 1448.1 199.718 1439.38 Q199.718 1430.63 202.774 1426.04 Q205.852 1421.44 211.663 1421.44 Z\" fill=\"#000000\" fill-rule=\"evenodd\" fill-opacity=\"1\" /><path clip-path=\"url(#clip310)\" d=\"M81.154 1091.65 L81.154 1087.4 Q82.9133 1088.23 84.7188 1088.67 Q86.5243 1089.11 88.2604 1089.11 Q92.89 1089.11 95.3206 1086.01 Q97.7743 1082.88 98.1215 1076.54 Q96.7789 1078.53 94.7187 1079.59 Q92.6586 1080.66 90.1586 1080.66 Q84.9734 1080.66 81.941 1077.53 Q78.9318 1074.39 78.9318 1068.95 Q78.9318 1063.62 82.0799 1060.4 Q85.2281 1057.19 90.4595 1057.19 Q96.4548 1057.19 99.603 1061.79 Q102.774 1066.38 102.774 1075.13 Q102.774 1083.3 98.8854 1088.18 Q95.0197 1093.04 88.4688 1093.04 Q86.7095 1093.04 84.904 1092.7 Q83.0984 1092.35 81.154 1091.65 M90.4595 1077 Q93.6076 1077 95.4363 1074.85 Q97.2882 1072.7 97.2882 1068.95 Q97.2882 1065.22 95.4363 1063.07 Q93.6076 1060.89 90.4595 1060.89 Q87.3114 1060.89 85.4595 1063.07 Q83.6308 1065.22 83.6308 1068.95 Q83.6308 1072.7 85.4595 1074.85 Q87.3114 1077 90.4595 1077 Z\" fill=\"#000000\" fill-rule=\"evenodd\" fill-opacity=\"1\" /><path clip-path=\"url(#clip310)\" d=\"M121.177 1075.96 Q117.844 1075.96 115.922 1077.74 Q114.024 1079.52 114.024 1082.65 Q114.024 1085.77 115.922 1087.56 Q117.844 1089.34 121.177 1089.34 Q124.51 1089.34 126.432 1087.56 Q128.353 1085.75 128.353 1082.65 Q128.353 1079.52 126.432 1077.74 Q124.533 1075.96 121.177 1075.96 M116.501 1073.97 Q113.492 1073.23 111.802 1071.17 Q110.135 1069.11 110.135 1066.15 Q110.135 1062 113.075 1059.59 Q116.038 1057.19 121.177 1057.19 Q126.339 1057.19 129.279 1059.59 Q132.219 1062 132.219 1066.15 Q132.219 1069.11 130.529 1071.17 Q128.862 1073.23 125.876 1073.97 Q129.256 1074.76 131.131 1077.05 Q133.029 1079.34 133.029 1082.65 Q133.029 1087.67 129.95 1090.36 Q126.894 1093.04 121.177 1093.04 Q115.459 1093.04 112.381 1090.36 Q109.325 1087.67 109.325 1082.65 Q109.325 1079.34 111.223 1077.05 Q113.121 1074.76 116.501 1073.97 M114.788 1066.59 Q114.788 1069.27 116.455 1070.77 Q118.145 1072.28 121.177 1072.28 Q124.186 1072.28 125.876 1070.77 Q127.589 1069.27 127.589 1066.59 Q127.589 1063.9 125.876 1062.4 Q124.186 1060.89 121.177 1060.89 Q118.145 1060.89 116.455 1062.4 Q114.788 1063.9 114.788 1066.59 Z\" fill=\"#000000\" fill-rule=\"evenodd\" fill-opacity=\"1\" /><path clip-path=\"url(#clip310)\" d=\"M151.339 1060.89 Q147.728 1060.89 145.899 1064.46 Q144.093 1068 144.093 1075.13 Q144.093 1082.23 145.899 1085.8 Q147.728 1089.34 151.339 1089.34 Q154.973 1089.34 156.779 1085.8 Q158.607 1082.23 158.607 1075.13 Q158.607 1068 156.779 1064.46 Q154.973 1060.89 151.339 1060.89 M151.339 1057.19 Q157.149 1057.19 160.205 1061.79 Q163.283 1066.38 163.283 1075.13 Q163.283 1083.85 160.205 1088.46 Q157.149 1093.04 151.339 1093.04 Q145.529 1093.04 142.45 1088.46 Q139.394 1083.85 139.394 1075.13 Q139.394 1066.38 142.45 1061.79 Q145.529 1057.19 151.339 1057.19 Z\" fill=\"#000000\" fill-rule=\"evenodd\" fill-opacity=\"1\" /><path clip-path=\"url(#clip310)\" d=\"M181.501 1060.89 Q177.89 1060.89 176.061 1064.46 Q174.255 1068 174.255 1075.13 Q174.255 1082.23 176.061 1085.8 Q177.89 1089.34 181.501 1089.34 Q185.135 1089.34 186.94 1085.8 Q188.769 1082.23 188.769 1075.13 Q188.769 1068 186.94 1064.46 Q185.135 1060.89 181.501 1060.89 M181.501 1057.19 Q187.311 1057.19 190.366 1061.79 Q193.445 1066.38 193.445 1075.13 Q193.445 1083.85 190.366 1088.46 Q187.311 1093.04 181.501 1093.04 Q175.691 1093.04 172.612 1088.46 Q169.556 1083.85 169.556 1075.13 Q169.556 1066.38 172.612 1061.79 Q175.691 1057.19 181.501 1057.19 Z\" fill=\"#000000\" fill-rule=\"evenodd\" fill-opacity=\"1\" /><path clip-path=\"url(#clip310)\" d=\"M211.663 1060.89 Q208.051 1060.89 206.223 1064.46 Q204.417 1068 204.417 1075.13 Q204.417 1082.23 206.223 1085.8 Q208.051 1089.34 211.663 1089.34 Q215.297 1089.34 217.102 1085.8 Q218.931 1082.23 218.931 1075.13 Q218.931 1068 217.102 1064.46 Q215.297 1060.89 211.663 1060.89 M211.663 1057.19 Q217.473 1057.19 220.528 1061.79 Q223.607 1066.38 223.607 1075.13 Q223.607 1083.85 220.528 1088.46 Q217.473 1093.04 211.663 1093.04 Q205.852 1093.04 202.774 1088.46 Q199.718 1083.85 199.718 1075.13 Q199.718 1066.38 202.774 1061.79 Q205.852 1057.19 211.663 1057.19 Z\" fill=\"#000000\" fill-rule=\"evenodd\" fill-opacity=\"1\" /><path clip-path=\"url(#clip310)\" d=\"M51.6634 724.187 L59.3023 724.187 L59.3023 697.822 L50.9921 699.489 L50.9921 695.229 L59.256 693.563 L63.9319 693.563 L63.9319 724.187 L71.5707 724.187 L71.5707 728.123 L51.6634 728.123 L51.6634 724.187 Z\" fill=\"#000000\" fill-rule=\"evenodd\" fill-opacity=\"1\" /><path clip-path=\"url(#clip310)\" d=\"M91.0151 696.641 Q87.404 696.641 85.5753 700.206 Q83.7697 703.748 83.7697 710.877 Q83.7697 717.984 85.5753 721.549 Q87.404 725.09 91.0151 725.09 Q94.6493 725.09 96.4548 721.549 Q98.2835 717.984 98.2835 710.877 Q98.2835 703.748 96.4548 700.206 Q94.6493 696.641 91.0151 696.641 M91.0151 692.938 Q96.8252 692.938 99.8808 697.544 Q102.959 702.127 102.959 710.877 Q102.959 719.604 99.8808 724.211 Q96.8252 728.794 91.0151 728.794 Q85.2049 728.794 82.1262 724.211 Q79.0707 719.604 79.0707 710.877 Q79.0707 702.127 82.1262 697.544 Q85.2049 692.938 91.0151 692.938 Z\" fill=\"#000000\" fill-rule=\"evenodd\" fill-opacity=\"1\" /><path clip-path=\"url(#clip310)\" d=\"M121.177 696.641 Q117.566 696.641 115.737 700.206 Q113.932 703.748 113.932 710.877 Q113.932 717.984 115.737 721.549 Q117.566 725.09 121.177 725.09 Q124.811 725.09 126.617 721.549 Q128.445 717.984 128.445 710.877 Q128.445 703.748 126.617 700.206 Q124.811 696.641 121.177 696.641 M121.177 692.938 Q126.987 692.938 130.043 697.544 Q133.121 702.127 133.121 710.877 Q133.121 719.604 130.043 724.211 Q126.987 728.794 121.177 728.794 Q115.367 728.794 112.288 724.211 Q109.233 719.604 109.233 710.877 Q109.233 702.127 112.288 697.544 Q115.367 692.938 121.177 692.938 Z\" fill=\"#000000\" fill-rule=\"evenodd\" fill-opacity=\"1\" /><path clip-path=\"url(#clip310)\" d=\"M151.339 696.641 Q147.728 696.641 145.899 700.206 Q144.093 703.748 144.093 710.877 Q144.093 717.984 145.899 721.549 Q147.728 725.09 151.339 725.09 Q154.973 725.09 156.779 721.549 Q158.607 717.984 158.607 710.877 Q158.607 703.748 156.779 700.206 Q154.973 696.641 151.339 696.641 M151.339 692.938 Q157.149 692.938 160.205 697.544 Q163.283 702.127 163.283 710.877 Q163.283 719.604 160.205 724.211 Q157.149 728.794 151.339 728.794 Q145.529 728.794 142.45 724.211 Q139.394 719.604 139.394 710.877 Q139.394 702.127 142.45 697.544 Q145.529 692.938 151.339 692.938 Z\" fill=\"#000000\" fill-rule=\"evenodd\" fill-opacity=\"1\" /><path clip-path=\"url(#clip310)\" d=\"M181.501 696.641 Q177.89 696.641 176.061 700.206 Q174.255 703.748 174.255 710.877 Q174.255 717.984 176.061 721.549 Q177.89 725.09 181.501 725.09 Q185.135 725.09 186.94 721.549 Q188.769 717.984 188.769 710.877 Q188.769 703.748 186.94 700.206 Q185.135 696.641 181.501 696.641 M181.501 692.938 Q187.311 692.938 190.366 697.544 Q193.445 702.127 193.445 710.877 Q193.445 719.604 190.366 724.211 Q187.311 728.794 181.501 728.794 Q175.691 728.794 172.612 724.211 Q169.556 719.604 169.556 710.877 Q169.556 702.127 172.612 697.544 Q175.691 692.938 181.501 692.938 Z\" fill=\"#000000\" fill-rule=\"evenodd\" fill-opacity=\"1\" /><path clip-path=\"url(#clip310)\" d=\"M211.663 696.641 Q208.051 696.641 206.223 700.206 Q204.417 703.748 204.417 710.877 Q204.417 717.984 206.223 721.549 Q208.051 725.09 211.663 725.09 Q215.297 725.09 217.102 721.549 Q218.931 717.984 218.931 710.877 Q218.931 703.748 217.102 700.206 Q215.297 696.641 211.663 696.641 M211.663 692.938 Q217.473 692.938 220.528 697.544 Q223.607 702.127 223.607 710.877 Q223.607 719.604 220.528 724.211 Q217.473 728.794 211.663 728.794 Q205.852 728.794 202.774 724.211 Q199.718 719.604 199.718 710.877 Q199.718 702.127 202.774 697.544 Q205.852 692.938 211.663 692.938 Z\" fill=\"#000000\" fill-rule=\"evenodd\" fill-opacity=\"1\" /><path clip-path=\"url(#clip310)\" d=\"M51.6634 359.938 L59.3023 359.938 L59.3023 333.573 L50.9921 335.239 L50.9921 330.98 L59.256 329.313 L63.9319 329.313 L63.9319 359.938 L71.5707 359.938 L71.5707 363.873 L51.6634 363.873 L51.6634 359.938 Z\" fill=\"#000000\" fill-rule=\"evenodd\" fill-opacity=\"1\" /><path clip-path=\"url(#clip310)\" d=\"M91.0151 332.392 Q87.404 332.392 85.5753 335.957 Q83.7697 339.498 83.7697 346.628 Q83.7697 353.734 85.5753 357.299 Q87.404 360.841 91.0151 360.841 Q94.6493 360.841 96.4548 357.299 Q98.2835 353.734 98.2835 346.628 Q98.2835 339.498 96.4548 335.957 Q94.6493 332.392 91.0151 332.392 M91.0151 328.688 Q96.8252 328.688 99.8808 333.295 Q102.959 337.878 102.959 346.628 Q102.959 355.355 99.8808 359.961 Q96.8252 364.545 91.0151 364.545 Q85.2049 364.545 82.1262 359.961 Q79.0707 355.355 79.0707 346.628 Q79.0707 337.878 82.1262 333.295 Q85.2049 328.688 91.0151 328.688 Z\" fill=\"#000000\" fill-rule=\"evenodd\" fill-opacity=\"1\" /><path clip-path=\"url(#clip310)\" d=\"M115.205 359.938 L131.524 359.938 L131.524 363.873 L109.58 363.873 L109.58 359.938 Q112.242 357.184 116.825 352.554 Q121.432 347.901 122.612 346.559 Q124.857 344.035 125.737 342.299 Q126.64 340.54 126.64 338.85 Q126.64 336.096 124.695 334.36 Q122.774 332.623 119.672 332.623 Q117.473 332.623 115.02 333.387 Q112.589 334.151 109.811 335.702 L109.811 330.98 Q112.635 329.846 115.089 329.267 Q117.543 328.688 119.58 328.688 Q124.95 328.688 128.144 331.373 Q131.339 334.059 131.339 338.549 Q131.339 340.679 130.529 342.6 Q129.742 344.498 127.635 347.091 Q127.057 347.762 123.955 350.98 Q120.853 354.174 115.205 359.938 Z\" fill=\"#000000\" fill-rule=\"evenodd\" fill-opacity=\"1\" /><path clip-path=\"url(#clip310)\" d=\"M151.339 332.392 Q147.728 332.392 145.899 335.957 Q144.093 339.498 144.093 346.628 Q144.093 353.734 145.899 357.299 Q147.728 360.841 151.339 360.841 Q154.973 360.841 156.779 357.299 Q158.607 353.734 158.607 346.628 Q158.607 339.498 156.779 335.957 Q154.973 332.392 151.339 332.392 M151.339 328.688 Q157.149 328.688 160.205 333.295 Q163.283 337.878 163.283 346.628 Q163.283 355.355 160.205 359.961 Q157.149 364.545 151.339 364.545 Q145.529 364.545 142.45 359.961 Q139.394 355.355 139.394 346.628 Q139.394 337.878 142.45 333.295 Q145.529 328.688 151.339 328.688 Z\" fill=\"#000000\" fill-rule=\"evenodd\" fill-opacity=\"1\" /><path clip-path=\"url(#clip310)\" d=\"M181.501 332.392 Q177.89 332.392 176.061 335.957 Q174.255 339.498 174.255 346.628 Q174.255 353.734 176.061 357.299 Q177.89 360.841 181.501 360.841 Q185.135 360.841 186.94 357.299 Q188.769 353.734 188.769 346.628 Q188.769 339.498 186.94 335.957 Q185.135 332.392 181.501 332.392 M181.501 328.688 Q187.311 328.688 190.366 333.295 Q193.445 337.878 193.445 346.628 Q193.445 355.355 190.366 359.961 Q187.311 364.545 181.501 364.545 Q175.691 364.545 172.612 359.961 Q169.556 355.355 169.556 346.628 Q169.556 337.878 172.612 333.295 Q175.691 328.688 181.501 328.688 Z\" fill=\"#000000\" fill-rule=\"evenodd\" fill-opacity=\"1\" /><path clip-path=\"url(#clip310)\" d=\"M211.663 332.392 Q208.051 332.392 206.223 335.957 Q204.417 339.498 204.417 346.628 Q204.417 353.734 206.223 357.299 Q208.051 360.841 211.663 360.841 Q215.297 360.841 217.102 357.299 Q218.931 353.734 218.931 346.628 Q218.931 339.498 217.102 335.957 Q215.297 332.392 211.663 332.392 M211.663 328.688 Q217.473 328.688 220.528 333.295 Q223.607 337.878 223.607 346.628 Q223.607 355.355 220.528 359.961 Q217.473 364.545 211.663 364.545 Q205.852 364.545 202.774 359.961 Q199.718 355.355 199.718 346.628 Q199.718 337.878 202.774 333.295 Q205.852 328.688 211.663 328.688 Z\" fill=\"#000000\" fill-rule=\"evenodd\" fill-opacity=\"1\" /><polyline clip-path=\"url(#clip312)\" style=\"stroke:#009af9; stroke-linecap:butt; stroke-linejoin:round; stroke-width:4; stroke-opacity:1; fill:none\" points=\"\n",
       "  318.847,87.9763 812.514,1206.22 1306.18,1297.28 1799.85,1308.21 2293.52,1445.72 \n",
       "  \"/>\n",
       "<path clip-path=\"url(#clip310)\" d=\"\n",
       "M1997.98 198.898 L2282.98 198.898 L2282.98 95.2176 L1997.98 95.2176  Z\n",
       "  \" fill=\"#ffffff\" fill-rule=\"evenodd\" fill-opacity=\"1\"/>\n",
       "<polyline clip-path=\"url(#clip310)\" style=\"stroke:#000000; stroke-linecap:butt; stroke-linejoin:round; stroke-width:4; stroke-opacity:1; fill:none\" points=\"\n",
       "  1997.98,198.898 2282.98,198.898 2282.98,95.2176 1997.98,95.2176 1997.98,198.898 \n",
       "  \"/>\n",
       "<polyline clip-path=\"url(#clip310)\" style=\"stroke:#009af9; stroke-linecap:butt; stroke-linejoin:round; stroke-width:4; stroke-opacity:1; fill:none\" points=\"\n",
       "  2021.24,147.058 2160.78,147.058 \n",
       "  \"/>\n",
       "<path clip-path=\"url(#clip310)\" d=\"M2197.88 166.745 Q2196.08 171.375 2194.36 172.787 Q2192.65 174.199 2189.78 174.199 L2186.38 174.199 L2186.38 170.634 L2188.88 170.634 Q2190.64 170.634 2191.61 169.8 Q2192.58 168.967 2193.76 165.865 L2194.53 163.921 L2184.04 138.412 L2188.55 138.412 L2196.66 158.689 L2204.76 138.412 L2209.27 138.412 L2197.88 166.745 Z\" fill=\"#000000\" fill-rule=\"evenodd\" fill-opacity=\"1\" /><path clip-path=\"url(#clip310)\" d=\"M2216.56 160.402 L2224.2 160.402 L2224.2 134.037 L2215.89 135.703 L2215.89 131.444 L2224.16 129.778 L2228.83 129.778 L2228.83 160.402 L2236.47 160.402 L2236.47 164.338 L2216.56 164.338 L2216.56 160.402 Z\" fill=\"#000000\" fill-rule=\"evenodd\" fill-opacity=\"1\" /></svg>\n"
      ]
     },
     "execution_count": 95,
     "metadata": {},
     "output_type": "execute_result"
    }
   ],
   "source": [
    "StatsPlots.plot(within_clusters_sums_of_squares)"
   ]
  },
  {
   "cell_type": "code",
   "execution_count": 96,
   "id": "3228add3-90e3-4081-bddc-92ab31d14682",
   "metadata": {},
   "outputs": [
    {
     "data": {
      "image/svg+xml": [
       "<?xml version=\"1.0\" encoding=\"utf-8\"?>\n",
       "<svg xmlns=\"http://www.w3.org/2000/svg\" xmlns:xlink=\"http://www.w3.org/1999/xlink\" width=\"600\" height=\"400\" viewBox=\"0 0 2400 1600\">\n",
       "<defs>\n",
       "  <clipPath id=\"clip350\">\n",
       "    <rect x=\"0\" y=\"0\" width=\"2400\" height=\"1600\"/>\n",
       "  </clipPath>\n",
       "</defs>\n",
       "<path clip-path=\"url(#clip350)\" d=\"\n",
       "M0 1600 L2400 1600 L2400 0 L0 0  Z\n",
       "  \" fill=\"#ffffff\" fill-rule=\"evenodd\" fill-opacity=\"1\"/>\n",
       "<defs>\n",
       "  <clipPath id=\"clip351\">\n",
       "    <rect x=\"480\" y=\"0\" width=\"1681\" height=\"1600\"/>\n",
       "  </clipPath>\n",
       "</defs>\n",
       "<path clip-path=\"url(#clip350)\" d=\"\n",
       "M156.598 1486.45 L2352.76 1486.45 L2352.76 47.2441 L156.598 47.2441  Z\n",
       "  \" fill=\"#ffffff\" fill-rule=\"evenodd\" fill-opacity=\"1\"/>\n",
       "<defs>\n",
       "  <clipPath id=\"clip352\">\n",
       "    <rect x=\"156\" y=\"47\" width=\"2197\" height=\"1440\"/>\n",
       "  </clipPath>\n",
       "</defs>\n",
       "<polyline clip-path=\"url(#clip352)\" style=\"stroke:#000000; stroke-linecap:butt; stroke-linejoin:round; stroke-width:2; stroke-opacity:0.1; fill:none\" points=\"\n",
       "  218.754,1486.45 218.754,47.2441 \n",
       "  \"/>\n",
       "<polyline clip-path=\"url(#clip352)\" style=\"stroke:#000000; stroke-linecap:butt; stroke-linejoin:round; stroke-width:2; stroke-opacity:0.1; fill:none\" points=\"\n",
       "  736.715,1486.45 736.715,47.2441 \n",
       "  \"/>\n",
       "<polyline clip-path=\"url(#clip352)\" style=\"stroke:#000000; stroke-linecap:butt; stroke-linejoin:round; stroke-width:2; stroke-opacity:0.1; fill:none\" points=\"\n",
       "  1254.68,1486.45 1254.68,47.2441 \n",
       "  \"/>\n",
       "<polyline clip-path=\"url(#clip352)\" style=\"stroke:#000000; stroke-linecap:butt; stroke-linejoin:round; stroke-width:2; stroke-opacity:0.1; fill:none\" points=\"\n",
       "  1772.64,1486.45 1772.64,47.2441 \n",
       "  \"/>\n",
       "<polyline clip-path=\"url(#clip352)\" style=\"stroke:#000000; stroke-linecap:butt; stroke-linejoin:round; stroke-width:2; stroke-opacity:0.1; fill:none\" points=\"\n",
       "  2290.6,1486.45 2290.6,47.2441 \n",
       "  \"/>\n",
       "<polyline clip-path=\"url(#clip350)\" style=\"stroke:#000000; stroke-linecap:butt; stroke-linejoin:round; stroke-width:4; stroke-opacity:1; fill:none\" points=\"\n",
       "  156.598,1486.45 2352.76,1486.45 \n",
       "  \"/>\n",
       "<polyline clip-path=\"url(#clip350)\" style=\"stroke:#000000; stroke-linecap:butt; stroke-linejoin:round; stroke-width:4; stroke-opacity:1; fill:none\" points=\"\n",
       "  218.754,1486.45 218.754,1467.55 \n",
       "  \"/>\n",
       "<polyline clip-path=\"url(#clip350)\" style=\"stroke:#000000; stroke-linecap:butt; stroke-linejoin:round; stroke-width:4; stroke-opacity:1; fill:none\" points=\"\n",
       "  736.715,1486.45 736.715,1467.55 \n",
       "  \"/>\n",
       "<polyline clip-path=\"url(#clip350)\" style=\"stroke:#000000; stroke-linecap:butt; stroke-linejoin:round; stroke-width:4; stroke-opacity:1; fill:none\" points=\"\n",
       "  1254.68,1486.45 1254.68,1467.55 \n",
       "  \"/>\n",
       "<polyline clip-path=\"url(#clip350)\" style=\"stroke:#000000; stroke-linecap:butt; stroke-linejoin:round; stroke-width:4; stroke-opacity:1; fill:none\" points=\"\n",
       "  1772.64,1486.45 1772.64,1467.55 \n",
       "  \"/>\n",
       "<polyline clip-path=\"url(#clip350)\" style=\"stroke:#000000; stroke-linecap:butt; stroke-linejoin:round; stroke-width:4; stroke-opacity:1; fill:none\" points=\"\n",
       "  2290.6,1486.45 2290.6,1467.55 \n",
       "  \"/>\n",
       "<path clip-path=\"url(#clip350)\" d=\"M209.136 1543.18 L216.774 1543.18 L216.774 1516.82 L208.464 1518.49 L208.464 1514.23 L216.728 1512.56 L221.404 1512.56 L221.404 1543.18 L229.043 1543.18 L229.043 1547.12 L209.136 1547.12 L209.136 1543.18 Z\" fill=\"#000000\" fill-rule=\"evenodd\" fill-opacity=\"1\" /><path clip-path=\"url(#clip350)\" d=\"M731.368 1543.18 L747.688 1543.18 L747.688 1547.12 L725.743 1547.12 L725.743 1543.18 Q728.405 1540.43 732.989 1535.8 Q737.595 1531.15 738.776 1529.81 Q741.021 1527.28 741.901 1525.55 Q742.803 1523.79 742.803 1522.1 Q742.803 1519.34 740.859 1517.61 Q738.938 1515.87 735.836 1515.87 Q733.637 1515.87 731.183 1516.63 Q728.752 1517.4 725.975 1518.95 L725.975 1514.23 Q728.799 1513.09 731.252 1512.51 Q733.706 1511.93 735.743 1511.93 Q741.113 1511.93 744.308 1514.62 Q747.502 1517.31 747.502 1521.8 Q747.502 1523.93 746.692 1525.85 Q745.905 1527.74 743.799 1530.34 Q743.22 1531.01 740.118 1534.23 Q737.016 1537.42 731.368 1543.18 Z\" fill=\"#000000\" fill-rule=\"evenodd\" fill-opacity=\"1\" /><path clip-path=\"url(#clip350)\" d=\"M1258.92 1528.49 Q1262.28 1529.2 1264.16 1531.47 Q1266.05 1533.74 1266.05 1537.07 Q1266.05 1542.19 1262.54 1544.99 Q1259.02 1547.79 1252.54 1547.79 Q1250.36 1547.79 1248.05 1547.35 Q1245.75 1546.93 1243.3 1546.08 L1243.3 1541.56 Q1245.24 1542.7 1247.56 1543.28 Q1249.87 1543.86 1252.4 1543.86 Q1256.8 1543.86 1259.09 1542.12 Q1261.4 1540.38 1261.4 1537.07 Q1261.4 1534.02 1259.25 1532.31 Q1257.12 1530.57 1253.3 1530.57 L1249.27 1530.57 L1249.27 1526.73 L1253.48 1526.73 Q1256.93 1526.73 1258.76 1525.36 Q1260.59 1523.97 1260.59 1521.38 Q1260.59 1518.72 1258.69 1517.31 Q1256.82 1515.87 1253.3 1515.87 Q1251.38 1515.87 1249.18 1516.29 Q1246.98 1516.7 1244.34 1517.58 L1244.34 1513.42 Q1247 1512.68 1249.32 1512.31 Q1251.66 1511.93 1253.72 1511.93 Q1259.04 1511.93 1262.14 1514.37 Q1265.24 1516.77 1265.24 1520.89 Q1265.24 1523.76 1263.6 1525.75 Q1261.96 1527.72 1258.92 1528.49 Z\" fill=\"#000000\" fill-rule=\"evenodd\" fill-opacity=\"1\" /><path clip-path=\"url(#clip350)\" d=\"M1775.65 1516.63 L1763.84 1535.08 L1775.65 1535.08 L1775.65 1516.63 M1774.42 1512.56 L1780.3 1512.56 L1780.3 1535.08 L1785.23 1535.08 L1785.23 1538.97 L1780.3 1538.97 L1780.3 1547.12 L1775.65 1547.12 L1775.65 1538.97 L1760.05 1538.97 L1760.05 1534.46 L1774.42 1512.56 Z\" fill=\"#000000\" fill-rule=\"evenodd\" fill-opacity=\"1\" /><path clip-path=\"url(#clip350)\" d=\"M2280.88 1512.56 L2299.23 1512.56 L2299.23 1516.5 L2285.16 1516.5 L2285.16 1524.97 Q2286.18 1524.62 2287.2 1524.46 Q2288.22 1524.27 2289.23 1524.27 Q2295.02 1524.27 2298.4 1527.44 Q2301.78 1530.62 2301.78 1536.03 Q2301.78 1541.61 2298.31 1544.71 Q2294.84 1547.79 2288.52 1547.79 Q2286.34 1547.79 2284.07 1547.42 Q2281.83 1547.05 2279.42 1546.31 L2279.42 1541.61 Q2281.5 1542.74 2283.73 1543.3 Q2285.95 1543.86 2288.42 1543.86 Q2292.43 1543.86 2294.77 1541.75 Q2297.11 1539.64 2297.11 1536.03 Q2297.11 1532.42 2294.77 1530.31 Q2292.43 1528.21 2288.42 1528.21 Q2286.55 1528.21 2284.67 1528.62 Q2282.82 1529.04 2280.88 1529.92 L2280.88 1512.56 Z\" fill=\"#000000\" fill-rule=\"evenodd\" fill-opacity=\"1\" /><polyline clip-path=\"url(#clip352)\" style=\"stroke:#000000; stroke-linecap:butt; stroke-linejoin:round; stroke-width:2; stroke-opacity:0.1; fill:none\" points=\"\n",
       "  156.598,1445.72 2352.76,1445.72 \n",
       "  \"/>\n",
       "<polyline clip-path=\"url(#clip352)\" style=\"stroke:#000000; stroke-linecap:butt; stroke-linejoin:round; stroke-width:2; stroke-opacity:0.1; fill:none\" points=\"\n",
       "  156.598,1152.46 2352.76,1152.46 \n",
       "  \"/>\n",
       "<polyline clip-path=\"url(#clip352)\" style=\"stroke:#000000; stroke-linecap:butt; stroke-linejoin:round; stroke-width:2; stroke-opacity:0.1; fill:none\" points=\"\n",
       "  156.598,859.195 2352.76,859.195 \n",
       "  \"/>\n",
       "<polyline clip-path=\"url(#clip352)\" style=\"stroke:#000000; stroke-linecap:butt; stroke-linejoin:round; stroke-width:2; stroke-opacity:0.1; fill:none\" points=\"\n",
       "  156.598,565.935 2352.76,565.935 \n",
       "  \"/>\n",
       "<polyline clip-path=\"url(#clip352)\" style=\"stroke:#000000; stroke-linecap:butt; stroke-linejoin:round; stroke-width:2; stroke-opacity:0.1; fill:none\" points=\"\n",
       "  156.598,272.675 2352.76,272.675 \n",
       "  \"/>\n",
       "<polyline clip-path=\"url(#clip350)\" style=\"stroke:#000000; stroke-linecap:butt; stroke-linejoin:round; stroke-width:4; stroke-opacity:1; fill:none\" points=\"\n",
       "  156.598,1486.45 156.598,47.2441 \n",
       "  \"/>\n",
       "<polyline clip-path=\"url(#clip350)\" style=\"stroke:#000000; stroke-linecap:butt; stroke-linejoin:round; stroke-width:4; stroke-opacity:1; fill:none\" points=\"\n",
       "  156.598,1445.72 175.496,1445.72 \n",
       "  \"/>\n",
       "<polyline clip-path=\"url(#clip350)\" style=\"stroke:#000000; stroke-linecap:butt; stroke-linejoin:round; stroke-width:4; stroke-opacity:1; fill:none\" points=\"\n",
       "  156.598,1152.46 175.496,1152.46 \n",
       "  \"/>\n",
       "<polyline clip-path=\"url(#clip350)\" style=\"stroke:#000000; stroke-linecap:butt; stroke-linejoin:round; stroke-width:4; stroke-opacity:1; fill:none\" points=\"\n",
       "  156.598,859.195 175.496,859.195 \n",
       "  \"/>\n",
       "<polyline clip-path=\"url(#clip350)\" style=\"stroke:#000000; stroke-linecap:butt; stroke-linejoin:round; stroke-width:4; stroke-opacity:1; fill:none\" points=\"\n",
       "  156.598,565.935 175.496,565.935 \n",
       "  \"/>\n",
       "<polyline clip-path=\"url(#clip350)\" style=\"stroke:#000000; stroke-linecap:butt; stroke-linejoin:round; stroke-width:4; stroke-opacity:1; fill:none\" points=\"\n",
       "  156.598,272.675 175.496,272.675 \n",
       "  \"/>\n",
       "<path clip-path=\"url(#clip350)\" d=\"M63.4226 1431.51 Q59.8115 1431.51 57.9828 1435.08 Q56.1773 1438.62 56.1773 1445.75 Q56.1773 1452.86 57.9828 1456.42 Q59.8115 1459.96 63.4226 1459.96 Q67.0569 1459.96 68.8624 1456.42 Q70.6911 1452.86 70.6911 1445.75 Q70.6911 1438.62 68.8624 1435.08 Q67.0569 1431.51 63.4226 1431.51 M63.4226 1427.81 Q69.2328 1427.81 72.2883 1432.42 Q75.367 1437 75.367 1445.75 Q75.367 1454.48 72.2883 1459.08 Q69.2328 1463.67 63.4226 1463.67 Q57.6125 1463.67 54.5338 1459.08 Q51.4782 1454.48 51.4782 1445.75 Q51.4782 1437 54.5338 1432.42 Q57.6125 1427.81 63.4226 1427.81 Z\" fill=\"#000000\" fill-rule=\"evenodd\" fill-opacity=\"1\" /><path clip-path=\"url(#clip350)\" d=\"M83.5845 1457.12 L88.4688 1457.12 L88.4688 1463 L83.5845 1463 L83.5845 1457.12 Z\" fill=\"#000000\" fill-rule=\"evenodd\" fill-opacity=\"1\" /><path clip-path=\"url(#clip350)\" d=\"M108.654 1431.51 Q105.043 1431.51 103.214 1435.08 Q101.409 1438.62 101.409 1445.75 Q101.409 1452.86 103.214 1456.42 Q105.043 1459.96 108.654 1459.96 Q112.288 1459.96 114.094 1456.42 Q115.922 1452.86 115.922 1445.75 Q115.922 1438.62 114.094 1435.08 Q112.288 1431.51 108.654 1431.51 M108.654 1427.81 Q114.464 1427.81 117.52 1432.42 Q120.598 1437 120.598 1445.75 Q120.598 1454.48 117.52 1459.08 Q114.464 1463.67 108.654 1463.67 Q102.844 1463.67 99.765 1459.08 Q96.7095 1454.48 96.7095 1445.75 Q96.7095 1437 99.765 1432.42 Q102.844 1427.81 108.654 1427.81 Z\" fill=\"#000000\" fill-rule=\"evenodd\" fill-opacity=\"1\" /><path clip-path=\"url(#clip350)\" d=\"M65.0198 1138.25 Q61.4087 1138.25 59.58 1141.82 Q57.7745 1145.36 57.7745 1152.49 Q57.7745 1159.6 59.58 1163.16 Q61.4087 1166.7 65.0198 1166.7 Q68.6541 1166.7 70.4596 1163.16 Q72.2883 1159.6 72.2883 1152.49 Q72.2883 1145.36 70.4596 1141.82 Q68.6541 1138.25 65.0198 1138.25 M65.0198 1134.55 Q70.83 1134.55 73.8855 1139.16 Q76.9642 1143.74 76.9642 1152.49 Q76.9642 1161.22 73.8855 1165.82 Q70.83 1170.41 65.0198 1170.41 Q59.2097 1170.41 56.131 1165.82 Q53.0754 1161.22 53.0754 1152.49 Q53.0754 1143.74 56.131 1139.16 Q59.2097 1134.55 65.0198 1134.55 Z\" fill=\"#000000\" fill-rule=\"evenodd\" fill-opacity=\"1\" /><path clip-path=\"url(#clip350)\" d=\"M85.1818 1163.86 L90.066 1163.86 L90.066 1169.74 L85.1818 1169.74 L85.1818 1163.86 Z\" fill=\"#000000\" fill-rule=\"evenodd\" fill-opacity=\"1\" /><path clip-path=\"url(#clip350)\" d=\"M104.279 1165.8 L120.598 1165.8 L120.598 1169.74 L98.6539 1169.74 L98.6539 1165.8 Q101.316 1163.05 105.899 1158.42 Q110.506 1153.76 111.686 1152.42 Q113.932 1149.9 114.811 1148.16 Q115.714 1146.4 115.714 1144.71 Q115.714 1141.96 113.77 1140.22 Q111.848 1138.49 108.746 1138.49 Q106.547 1138.49 104.094 1139.25 Q101.663 1140.01 98.8854 1141.56 L98.8854 1136.84 Q101.709 1135.71 104.163 1135.13 Q106.617 1134.55 108.654 1134.55 Q114.024 1134.55 117.219 1137.24 Q120.413 1139.92 120.413 1144.41 Q120.413 1146.54 119.603 1148.46 Q118.816 1150.36 116.709 1152.95 Q116.131 1153.62 113.029 1156.84 Q109.927 1160.04 104.279 1165.8 Z\" fill=\"#000000\" fill-rule=\"evenodd\" fill-opacity=\"1\" /><path clip-path=\"url(#clip350)\" d=\"M62.9365 844.994 Q59.3254 844.994 57.4967 848.559 Q55.6912 852.1 55.6912 859.23 Q55.6912 866.337 57.4967 869.901 Q59.3254 873.443 62.9365 873.443 Q66.5707 873.443 68.3763 869.901 Q70.205 866.337 70.205 859.23 Q70.205 852.1 68.3763 848.559 Q66.5707 844.994 62.9365 844.994 M62.9365 841.29 Q68.7467 841.29 71.8022 845.897 Q74.8809 850.48 74.8809 859.23 Q74.8809 867.957 71.8022 872.563 Q68.7467 877.147 62.9365 877.147 Q57.1264 877.147 54.0477 872.563 Q50.9921 867.957 50.9921 859.23 Q50.9921 850.48 54.0477 845.897 Q57.1264 841.29 62.9365 841.29 Z\" fill=\"#000000\" fill-rule=\"evenodd\" fill-opacity=\"1\" /><path clip-path=\"url(#clip350)\" d=\"M83.0984 870.596 L87.9827 870.596 L87.9827 876.475 L83.0984 876.475 L83.0984 870.596 Z\" fill=\"#000000\" fill-rule=\"evenodd\" fill-opacity=\"1\" /><path clip-path=\"url(#clip350)\" d=\"M111.015 845.989 L99.2095 864.438 L111.015 864.438 L111.015 845.989 M109.788 841.915 L115.668 841.915 L115.668 864.438 L120.598 864.438 L120.598 868.327 L115.668 868.327 L115.668 876.475 L111.015 876.475 L111.015 868.327 L95.4132 868.327 L95.4132 863.813 L109.788 841.915 Z\" fill=\"#000000\" fill-rule=\"evenodd\" fill-opacity=\"1\" /><path clip-path=\"url(#clip350)\" d=\"M63.2606 551.734 Q59.6495 551.734 57.8208 555.299 Q56.0152 558.84 56.0152 565.97 Q56.0152 573.076 57.8208 576.641 Q59.6495 580.183 63.2606 580.183 Q66.8948 580.183 68.7004 576.641 Q70.5291 573.076 70.5291 565.97 Q70.5291 558.84 68.7004 555.299 Q66.8948 551.734 63.2606 551.734 M63.2606 548.03 Q69.0707 548.03 72.1263 552.637 Q75.205 557.22 75.205 565.97 Q75.205 574.697 72.1263 579.303 Q69.0707 583.886 63.2606 583.886 Q57.4504 583.886 54.3717 579.303 Q51.3162 574.697 51.3162 565.97 Q51.3162 557.22 54.3717 552.637 Q57.4504 548.03 63.2606 548.03 Z\" fill=\"#000000\" fill-rule=\"evenodd\" fill-opacity=\"1\" /><path clip-path=\"url(#clip350)\" d=\"M83.4225 577.336 L88.3067 577.336 L88.3067 583.215 L83.4225 583.215 L83.4225 577.336 Z\" fill=\"#000000\" fill-rule=\"evenodd\" fill-opacity=\"1\" /><path clip-path=\"url(#clip350)\" d=\"M109.071 564.072 Q105.922 564.072 104.071 566.225 Q102.242 568.377 102.242 572.127 Q102.242 575.854 104.071 578.03 Q105.922 580.183 109.071 580.183 Q112.219 580.183 114.047 578.03 Q115.899 575.854 115.899 572.127 Q115.899 568.377 114.047 566.225 Q112.219 564.072 109.071 564.072 M118.353 549.419 L118.353 553.678 Q116.594 552.845 114.788 552.405 Q113.006 551.965 111.246 551.965 Q106.617 551.965 104.163 555.09 Q101.733 558.215 101.385 564.535 Q102.751 562.521 104.811 561.456 Q106.871 560.368 109.348 560.368 Q114.557 560.368 117.566 563.539 Q120.598 566.688 120.598 572.127 Q120.598 577.451 117.45 580.669 Q114.302 583.886 109.071 583.886 Q103.075 583.886 99.9039 579.303 Q96.7326 574.697 96.7326 565.97 Q96.7326 557.776 100.621 552.914 Q104.51 548.03 111.061 548.03 Q112.82 548.03 114.603 548.377 Q116.408 548.725 118.353 549.419 Z\" fill=\"#000000\" fill-rule=\"evenodd\" fill-opacity=\"1\" /><path clip-path=\"url(#clip350)\" d=\"M63.5152 258.474 Q59.9041 258.474 58.0754 262.039 Q56.2699 265.58 56.2699 272.71 Q56.2699 279.816 58.0754 283.381 Q59.9041 286.923 63.5152 286.923 Q67.1494 286.923 68.955 283.381 Q70.7837 279.816 70.7837 272.71 Q70.7837 265.58 68.955 262.039 Q67.1494 258.474 63.5152 258.474 M63.5152 254.77 Q69.3254 254.77 72.3809 259.376 Q75.4596 263.96 75.4596 272.71 Q75.4596 281.437 72.3809 286.043 Q69.3254 290.626 63.5152 290.626 Q57.7051 290.626 54.6264 286.043 Q51.5708 281.437 51.5708 272.71 Q51.5708 263.96 54.6264 259.376 Q57.7051 254.77 63.5152 254.77 Z\" fill=\"#000000\" fill-rule=\"evenodd\" fill-opacity=\"1\" /><path clip-path=\"url(#clip350)\" d=\"M83.6771 284.075 L88.5614 284.075 L88.5614 289.955 L83.6771 289.955 L83.6771 284.075 Z\" fill=\"#000000\" fill-rule=\"evenodd\" fill-opacity=\"1\" /><path clip-path=\"url(#clip350)\" d=\"M108.746 273.543 Q105.413 273.543 103.492 275.325 Q101.594 277.108 101.594 280.233 Q101.594 283.358 103.492 285.14 Q105.413 286.923 108.746 286.923 Q112.08 286.923 114.001 285.14 Q115.922 283.335 115.922 280.233 Q115.922 277.108 114.001 275.325 Q112.103 273.543 108.746 273.543 M104.071 271.552 Q101.061 270.812 99.3715 268.751 Q97.7048 266.691 97.7048 263.728 Q97.7048 259.585 100.645 257.177 Q103.608 254.77 108.746 254.77 Q113.908 254.77 116.848 257.177 Q119.788 259.585 119.788 263.728 Q119.788 266.691 118.098 268.751 Q116.432 270.812 113.445 271.552 Q116.825 272.339 118.7 274.631 Q120.598 276.923 120.598 280.233 Q120.598 285.256 117.52 287.941 Q114.464 290.626 108.746 290.626 Q103.029 290.626 99.9502 287.941 Q96.8947 285.256 96.8947 280.233 Q96.8947 276.923 98.7928 274.631 Q100.691 272.339 104.071 271.552 M102.358 264.168 Q102.358 266.853 104.024 268.358 Q105.714 269.863 108.746 269.863 Q111.756 269.863 113.445 268.358 Q115.158 266.853 115.158 264.168 Q115.158 261.483 113.445 259.978 Q111.756 258.474 108.746 258.474 Q105.714 258.474 104.024 259.978 Q102.358 261.483 102.358 264.168 Z\" fill=\"#000000\" fill-rule=\"evenodd\" fill-opacity=\"1\" /><polyline clip-path=\"url(#clip352)\" style=\"stroke:#009af9; stroke-linecap:butt; stroke-linejoin:round; stroke-width:4; stroke-opacity:1; fill:none\" points=\"\n",
       "  218.754,1445.72 736.715,87.9763 1254.68,467.621 1772.64,587.065 2290.6,600.405 \n",
       "  \"/>\n",
       "<path clip-path=\"url(#clip350)\" d=\"\n",
       "M1983.1 198.898 L2279.55 198.898 L2279.55 95.2176 L1983.1 95.2176  Z\n",
       "  \" fill=\"#ffffff\" fill-rule=\"evenodd\" fill-opacity=\"1\"/>\n",
       "<polyline clip-path=\"url(#clip350)\" style=\"stroke:#000000; stroke-linecap:butt; stroke-linejoin:round; stroke-width:4; stroke-opacity:1; fill:none\" points=\"\n",
       "  1983.1,198.898 2279.55,198.898 2279.55,95.2176 1983.1,95.2176 1983.1,198.898 \n",
       "  \"/>\n",
       "<polyline clip-path=\"url(#clip350)\" style=\"stroke:#009af9; stroke-linecap:butt; stroke-linejoin:round; stroke-width:4; stroke-opacity:1; fill:none\" points=\"\n",
       "  2007.5,147.058 2153.92,147.058 \n",
       "  \"/>\n",
       "<path clip-path=\"url(#clip350)\" d=\"M2192.16 166.745 Q2190.35 171.375 2188.64 172.787 Q2186.93 174.199 2184.06 174.199 L2180.65 174.199 L2180.65 170.634 L2183.15 170.634 Q2184.91 170.634 2185.89 169.8 Q2186.86 168.967 2188.04 165.865 L2188.8 163.921 L2178.32 138.412 L2182.83 138.412 L2190.93 158.689 L2199.03 138.412 L2203.55 138.412 L2192.16 166.745 Z\" fill=\"#000000\" fill-rule=\"evenodd\" fill-opacity=\"1\" /><path clip-path=\"url(#clip350)\" d=\"M2210.84 160.402 L2218.48 160.402 L2218.48 134.037 L2210.17 135.703 L2210.17 131.444 L2218.43 129.778 L2223.11 129.778 L2223.11 160.402 L2230.75 160.402 L2230.75 164.338 L2210.84 164.338 L2210.84 160.402 Z\" fill=\"#000000\" fill-rule=\"evenodd\" fill-opacity=\"1\" /></svg>\n"
      ]
     },
     "execution_count": 96,
     "metadata": {},
     "output_type": "execute_result"
    }
   ],
   "source": [
    "StatsPlots.plot(silhouettes)"
   ]
  },
  {
   "cell_type": "code",
   "execution_count": 71,
   "id": "c3824e76-11da-4cb2-909d-a234bf096131",
   "metadata": {},
   "outputs": [],
   "source": [
    "# Clustering.varinfo(\n",
    "#     Clustering.kmedoids(distance_matrix, 1),\n",
    "#     Clustering.kmedoids(distance_matrix, 2))"
   ]
  },
  {
   "cell_type": "code",
   "execution_count": 72,
   "id": "db182141-7463-45a7-b4d9-57121bb72c08",
   "metadata": {},
   "outputs": [],
   "source": [
    "# Clustering.varinfo(\n",
    "#     Clustering.kmedoids(distance_matrix, 2),\n",
    "#     Clustering.kmedoids(distance_matrix, 3))"
   ]
  },
  {
   "cell_type": "code",
   "execution_count": 73,
   "id": "4f10af29-ad2b-4e8c-b8e4-d382276eebcf",
   "metadata": {},
   "outputs": [],
   "source": [
    "# Clustering.varinfo(\n",
    "#     Clustering.kmedoids(distance_matrix, 3),\n",
    "#     Clustering.kmedoids(distance_matrix, 4))"
   ]
  },
  {
   "cell_type": "code",
   "execution_count": 74,
   "id": "a6e5d32f-a41d-40a8-a2cb-9e3943e592da",
   "metadata": {},
   "outputs": [],
   "source": [
    "# Clustering.varinfo(\n",
    "#     Clustering.kmedoids(distance_matrix, 4),\n",
    "#     Clustering.kmedoids(distance_matrix, 5))"
   ]
  },
  {
   "cell_type": "code",
   "execution_count": 75,
   "id": "531b9ae2-36bc-4dab-827f-a6ae17a7e3f7",
   "metadata": {},
   "outputs": [],
   "source": [
    "# Clustering.varinfo(\n",
    "#     Clustering.kmedoids(distance_matrix, 1),\n",
    "#     Clustering.kmedoids(distance_matrix, 2))"
   ]
  },
  {
   "cell_type": "code",
   "execution_count": 76,
   "id": "009c87e9-a77e-425a-8d3e-e2b72f3d4963",
   "metadata": {},
   "outputs": [],
   "source": [
    "# Clustering.varinfo(\n",
    "#     Clustering.kmedoids(distance_matrix, 2),\n",
    "#     Clustering.kmedoids(distance_matrix, 3))"
   ]
  },
  {
   "cell_type": "code",
   "execution_count": 77,
   "id": "6bdfb6d5-15cd-4ec5-abb6-f69f27f4beb0",
   "metadata": {},
   "outputs": [],
   "source": [
    "# Clustering.varinfo(\n",
    "#     Clustering.kmedoids(distance_matrix, 3),\n",
    "#     Clustering.kmedoids(distance_matrix, 4))"
   ]
  },
  {
   "cell_type": "code",
   "execution_count": 78,
   "id": "cebbb4eb-8447-441f-a75a-d13a95710a12",
   "metadata": {},
   "outputs": [],
   "source": [
    "# Clustering.varinfo(\n",
    "#     Clustering.kmedoids(distance_matrix, 4),\n",
    "#     Clustering.kmedoids(distance_matrix, 5))"
   ]
  },
  {
   "cell_type": "code",
   "execution_count": 79,
   "id": "a13a5a46-8060-4009-846b-db3e09c41c4f",
   "metadata": {},
   "outputs": [],
   "source": [
    "# Clustering.mutualinfo(\n",
    "#     Clustering.kmedoids(distance_matrix, 1),\n",
    "#     Clustering.kmedoids(distance_matrix, 2))"
   ]
  },
  {
   "cell_type": "code",
   "execution_count": 80,
   "id": "f9265b69-6428-4800-9180-806a17d03907",
   "metadata": {},
   "outputs": [],
   "source": [
    "# Clustering.mutualinfo(\n",
    "#     Clustering.kmedoids(distance_matrix, 2),\n",
    "#     Clustering.kmedoids(distance_matrix, 3))"
   ]
  },
  {
   "cell_type": "code",
   "execution_count": 81,
   "id": "db401ec0-9fdd-4824-adfe-6f408aaa5aec",
   "metadata": {},
   "outputs": [],
   "source": [
    "# Clustering.mutualinfo(\n",
    "#     Clustering.kmedoids(distance_matrix, 3),\n",
    "#     Clustering.kmedoids(distance_matrix, 4))"
   ]
  },
  {
   "cell_type": "code",
   "execution_count": 82,
   "id": "4690699f-592b-4032-a467-9d948d53e144",
   "metadata": {},
   "outputs": [],
   "source": [
    "# Clustering.mutualinfo(\n",
    "#     Clustering.kmedoids(distance_matrix, 4),\n",
    "#     Clustering.kmedoids(distance_matrix, 5))"
   ]
  },
  {
   "cell_type": "code",
   "execution_count": 39,
   "id": "9efe78bb-142b-4cab-90ac-0c577531e9f6",
   "metadata": {},
   "outputs": [
    {
     "data": {
      "text/plain": [
       "Clustering.KmedoidsResult{Int64}([7, 19], [1, 1, 1, 1, 1, 1, 1, 1, 1, 1  …  2, 2, 2, 2, 2, 2, 2, 2, 2, 2], [75, 74, 73, 72, 71, 1, 0, 1, 2, 3  …  3, 2, 1, 0, 1, 2, 3, 4, 5, 6], [13, 12], 423.0, 3, true)"
      ]
     },
     "execution_count": 39,
     "metadata": {},
     "output_type": "execute_result"
    }
   ],
   "source": [
    "for k in 2:\n",
    "k_result = Clustering.kmedoids(distance_matrix, 2)"
   ]
  },
  {
   "cell_type": "code",
   "execution_count": 41,
   "id": "66c57114-bf40-41fd-9b9f-1d2927b6d334",
   "metadata": {},
   "outputs": [
    {
     "data": {
      "text/plain": [
       "0.2839937061389385"
      ]
     },
     "execution_count": 41,
     "metadata": {},
     "output_type": "execute_result"
    }
   ],
   "source": [
    "Statistics.mean(Clustering.silhouettes(k_result, distance_matrix))"
   ]
  },
  {
   "cell_type": "code",
   "execution_count": 41,
   "id": "affbed8c-a612-488f-8c6f-4f2a19bf341d",
   "metadata": {},
   "outputs": [
    {
     "data": {
      "text/plain": [
       "0.2839937061389385"
      ]
     },
     "execution_count": 41,
     "metadata": {},
     "output_type": "execute_result"
    }
   ],
   "source": [
    "Statistics.mean(Clustering.silhouettes(k_result, distance_matrix))"
   ]
  },
  {
   "cell_type": "code",
   "execution_count": 18,
   "id": "72c66702-1c18-4541-a642-64f1c69ad4cb",
   "metadata": {},
   "outputs": [
    {
     "name": "stderr",
     "output_type": "stream",
     "text": [
      "┌ Info: counting kmers\n",
      "└ @ Mycelia /home/jovyan/git/Mycelia/src/Mycelia.jl:2999\n",
      "┌ Info: setting metadata on vertices\n",
      "└ @ Mycelia /home/jovyan/git/Mycelia/src/Mycelia.jl:3007\n",
      "\u001b[32mProgress: 100%|█████████████████████████████████████████| Time: 0:00:02\u001b[39m\n",
      "┌ Info: loading fastx files into graph\n",
      "└ @ Mycelia /home/jovyan/git/Mycelia/src/Mycelia.jl:3016\n",
      "\u001b[32mProgress: 100%|█████████████████████████████████████████| Time: 0:00:01\u001b[39m\n"
     ]
    },
    {
     "data": {
      "text/plain": [
       "{13709, 28906} directed Int64 metagraph with Float64 weights defined by :weight (default weight 1.0)"
      ]
     },
     "execution_count": 18,
     "metadata": {},
     "output_type": "execute_result"
    }
   ],
   "source": [
    "# make me faster by counting edges ahead of time\n",
    "observation_graph = Mycelia.fastx_to_simple_kmer_graph(BioSequences.DNAMer{k}, observations_file)"
   ]
  },
  {
   "cell_type": "code",
   "execution_count": null,
   "id": "f9b79057-1175-4165-82dd-0fde3c385af0",
   "metadata": {},
   "outputs": [],
   "source": [
    "kmer_counts = Dict(observation_graph.vprops[v][:kmer] => observation_graph.vprops[v][:weight] for v in LightGraphs.vertices(observation_graph))\n",
    "total_observed_kmers = sum(values(kmer_counts))\n",
    "kmer_probabilities = Dict(k => v/total_observed_kmers for (k,v) in kmer_counts)\n",
    "scale = 250\n",
    "Mycelia.plot_kmer_frequency_spectra(values(kmer_counts), size=(2scale,scale), title=\"kmer frequencies\")"
   ]
  },
  {
   "cell_type": "code",
   "execution_count": null,
   "id": "fd15af69-a35c-45cf-8399-70bc287d11d7",
   "metadata": {},
   "outputs": [],
   "source": [
    "reference_kmers = keys(Mycelia.count_canonical_kmers(BioSequences.DNAMer{k}, reference_fasta_file))\n",
    "distance_to_reference_graph = 1 - LSHFunctions.jaccard(Set(reference_kmers), Set(keys(kmer_counts)))"
   ]
  },
  {
   "cell_type": "code",
   "execution_count": null,
   "id": "8aa68dd2-82f2-48e9-984a-092df381a39d",
   "metadata": {},
   "outputs": [],
   "source": [
    "kmer_counts_histogram = sort(collect(StatsBase.countmap(collect(values(kmer_counts)))), by=x->x[1])"
   ]
  },
  {
   "cell_type": "code",
   "execution_count": null,
   "id": "65cc7240-e816-4d72-a1c3-db7a740edcf4",
   "metadata": {},
   "outputs": [],
   "source": [
    "# earliest_y_min_index = last(findmin(last.(kmer_counts_histogram)))"
   ]
  },
  {
   "cell_type": "code",
   "execution_count": null,
   "id": "48334d84-02ad-4e29-a9f5-53430c8541ed",
   "metadata": {},
   "outputs": [],
   "source": [
    "# lower_boundary"
   ]
  },
  {
   "cell_type": "code",
   "execution_count": null,
   "id": "a557c7f3-c038-4dc0-b659-e30c3d90c407",
   "metadata": {},
   "outputs": [],
   "source": [
    "# lower_boundary = first(kmer_counts_histogram[43])\n",
    "# lower_boundary_source = \"first minimum\""
   ]
  },
  {
   "cell_type": "code",
   "execution_count": null,
   "id": "885b4f9e-c713-4b40-8630-d086297db9f2",
   "metadata": {},
   "outputs": [],
   "source": [
    "\n",
    "\n",
    "#     try\n",
    "#         # take the first 1/denominator datapoints in the set\n",
    "#         # to capture the error line on the left side of the graph\n",
    "#         @info \"fitting error curve\"\n",
    "#         denominators = [2^i for i in 1:5]\n",
    "#         coeficient_matrix = zeros(length(denominators), 2)\n",
    "#         for (i, denominator) in enumerate(denominators)\n",
    "#             prefix_index = Int(floor(length(X)/denominator))\n",
    "#             _x = X[1:prefix_index]\n",
    "#             _y = Y[1:prefix_index]\n",
    "#             model = GLM.lm(GLM.@formula(Y ~ X), DataFrames.DataFrame(X = _x, Y = _y))\n",
    "#             coeficient_matrix[i, :] = GLM.coef(model)\n",
    "#         end\n",
    "#         median_intercept = Statistics.median(coeficient_matrix[:, 1])\n",
    "#         median_slope = Statistics.median(coeficient_matrix[:, 2])\n",
    "\n",
    "#         X_intercept = (0 - median_intercept) / median_slope\n",
    "\n",
    "#         # some libraries detect the x_intercept being AFTER the end of the data\n",
    "#         # in these instances detect the earliest x-minimum\n",
    "#         if X_intercept < lower_boundary\n",
    "#             lower_boundary = X_intercept\n",
    "#             lower_boundary_source = \"detected x-intercept\"\n",
    "#         end\n",
    "#     catch\n",
    "#         @info \"unable to fit regression\"\n",
    "#     end\n",
    "\n",
    "#     p = StatsPlots.vline!(p,\n",
    "#         [lower_boundary],\n",
    "#         label=\"lower boundary ($(lower_boundary_source))\"\n",
    "#     );\n",
    "    \n",
    "#     is_above_lower_bounds = X .>= lower_boundary\n",
    "#     max_Y_post_error_intercept = first(findmax(Y[is_above_lower_bounds]))\n",
    "#     peak_indices = findall(is_above_lower_bounds .& (Y .== max_Y_post_error_intercept))\n",
    "#     peak_index = Int(round(Statistics.median(peak_indices)))\n",
    "\n",
    "#     p = StatsPlots.vline!([X[peak_index]], label=\"inferred sample coverage)\")\n",
    "#     if isinteractive()\n",
    "#         display(p)\n",
    "#     end\n",
    "#     StatsPlots.savefig(p, \"$jf_file.peak-detected.png\")\n",
    "#     StatsPlots.savefig(p, \"$jf_file.peak-detected.svg\")\n",
    "    \n",
    "#     if target_coverage != 0\n",
    "#         detected_coverage = 2^(X[peak_index])\n",
    "#         downsampling_rate = round(target_coverage/detected_coverage, sigdigits=3)\n",
    "#         downsampling_rate = min(downsampling_rate, 1)\n",
    "#         @info \"downsampling rate = $downsampling_rate\"\n",
    "\n",
    "#         outfile = \"$kmer_directory/downsampling-rate.txt\"\n",
    "#         open(outfile, \"w\") do io\n",
    "#             @info \"writing downsampling rate to $outfile\"\n",
    "#             println(io, downsampling_rate)\n",
    "#         end\n",
    "#         return downsampling_rate\n",
    "#     end"
   ]
  },
  {
   "cell_type": "code",
   "execution_count": null,
   "id": "3e4bce36-f2b0-4f38-adfb-7395dcef232c",
   "metadata": {},
   "outputs": [],
   "source": [
    "# function analyze_kmer_spectra(;kmer_directory, forward_reads, reverse_reads, k=17, target_coverage=0)\n",
    "#     @info \"counting $k-mers\"\n",
    "#     @info \"determining max count\"\n",
    "#     p = pipeline(\n",
    "#         `jellyfish dump -ct $jf_file`,\n",
    "#         `awk '{print $2}'`,\n",
    "#         `sort --numeric-sort --reverse`,\n",
    "#         `head -n1`)\n",
    "#     max_count = parse(Int, read(p, String))\n",
    "#     @info \"max count = $max_count\"\n",
    "\n",
    "#     @info \"generating histogram\"\n",
    "#     histogram_matrix = Int.(DelimitedFiles.readdlm(open(`jellyfish histo --high $max_count $jf_file`)))\n",
    "\n",
    "#     X = log2.(histogram_matrix[:, 1])\n",
    "#     Y = log2.(histogram_matrix[:, 2])\n",
    "    \n",
    "#     @info \"plotting kmer spectra\"\n",
    "#     p = StatsPlots.scatter(\n",
    "#         X,\n",
    "#         Y,\n",
    "#         xlabel=\"log2(kmer_frequency)\",\n",
    "#         ylabel=\"log2(# of kmers @ frequency)\",\n",
    "#         label=\"\"\n",
    "#     )\n",
    "\n",
    "\n",
    "# end\n",
    "\n"
   ]
  },
  {
   "cell_type": "code",
   "execution_count": null,
   "id": "b92d72a6-4129-4d75-8d98-7af0335cd46f",
   "metadata": {},
   "outputs": [],
   "source": [
    "# step 1, hard-filter singletons"
   ]
  },
  {
   "cell_type": "code",
   "execution_count": null,
   "id": "eb04fd64-d13e-42b4-a519-d306eeb1cab2",
   "metadata": {},
   "outputs": [],
   "source": [
    "filtered_vertices = findall(v -> observation_graph.vprops[v][:weight] >= 5, LightGraphs.vertices(observation_graph))"
   ]
  },
  {
   "cell_type": "code",
   "execution_count": null,
   "id": "0709502f-3ef2-4596-814b-7419217b1ecc",
   "metadata": {},
   "outputs": [],
   "source": [
    "filtered_observation_graph, vertex_map = LightGraphs.induced_subgraph(observation_graph, filtered_vertices)"
   ]
  },
  {
   "cell_type": "code",
   "execution_count": null,
   "id": "ed22ec40-e72e-445f-a0fe-b38b3de73aae",
   "metadata": {},
   "outputs": [],
   "source": [
    "# # visualize\n",
    "# gfa_file = observations_file * \".k-$k.filtered.gfa\"\n",
    "# Mycelia.graph_to_gfa(filtered_observation_graph, gfa_file)\n",
    "\n",
    "# run(`$(BANDAGE) image $(gfa_file) $(gfa_file).svg --depwidth .9 --deppower .9`)\n",
    "# # --nodewidth <float> Average node width (0.5 to 1000, default: 5)\n",
    "# # --depwidth <float>  Depth effect on width (0 to 1, default: 0.5)\n",
    "# # --deppower <float>  Power of depth effect on width (0 to 1, default: 0.5)\n",
    "\n",
    "# html_path_to_svg = \"./\" * repeat(\"../\", length(split(pwd(), '/')) - 3)\n",
    "# html_path_to_svg *= replace(\"$(gfa_file).svg\", \"$(homedir())/\" => \"\")\n",
    "\n",
    "# x = \"<img src=$(html_path_to_svg)>\"\n",
    "# display(\"text/html\", x)\n",
    "# # display(\"image/svg+xml\", read(\"$(gfa_file).svg\", String))"
   ]
  },
  {
   "cell_type": "code",
   "execution_count": null,
   "id": "68b9c85f-981e-49dd-8711-8cdfbba9c9db",
   "metadata": {},
   "outputs": [],
   "source": [
    "kmer_counts = Dict(filtered_observation_graph.vprops[v][:kmer] => filtered_observation_graph.vprops[v][:weight] for v in LightGraphs.vertices(filtered_observation_graph))\n",
    "total_observed_kmers = sum(values(kmer_counts))\n",
    "kmer_probabilities = Dict(k => v/total_observed_kmers for (k,v) in kmer_counts)\n",
    "scale = 250\n",
    "Mycelia.plot_kmer_frequency_spectra(values(kmer_counts), size=(2scale,scale), title=\"kmer frequencies\")"
   ]
  },
  {
   "cell_type": "code",
   "execution_count": null,
   "id": "9c6edde3-c459-4e81-8c2e-413142044be6",
   "metadata": {},
   "outputs": [],
   "source": [
    "reference_kmers = keys(Mycelia.count_canonical_kmers(BioSequences.DNAMer{k}, reference_fasta_file))\n",
    "distance_to_reference_graph = 1 - LSHFunctions.jaccard(Set(reference_kmers), Set(keys(kmer_counts)))"
   ]
  },
  {
   "cell_type": "code",
   "execution_count": null,
   "id": "681f12c3-4736-4065-8bfb-3d3be29cc8dc",
   "metadata": {},
   "outputs": [],
   "source": [
    "# step 2, re-simulate reads as a means of error correction"
   ]
  },
  {
   "cell_type": "code",
   "execution_count": null,
   "id": "adcfaf65-de18-4a92-8355-5c8b190007c9",
   "metadata": {},
   "outputs": [],
   "source": [
    "kmers = [filtered_observation_graph.vprops[v][:kmer] for v in LightGraphs.vertices(filtered_observation_graph)]\n",
    "kmer_weights = [filtered_observation_graph.vprops[v][:weight] for v in LightGraphs.vertices(filtered_observation_graph)]\n",
    "kmer_probabilities = kmer_weights ./ sum(kmer_weights)"
   ]
  },
  {
   "cell_type": "code",
   "execution_count": null,
   "id": "b31d13b0-f2e7-4381-9f55-e310b1ab7c9e",
   "metadata": {},
   "outputs": [],
   "source": [
    "edge_weights = determine_edge_weights(filtered_observation_graph)"
   ]
  },
  {
   "cell_type": "code",
   "execution_count": null,
   "id": "7d10d99f-7db2-4044-a1db-362b37e01266",
   "metadata": {},
   "outputs": [],
   "source": [
    "edge_weights[true]"
   ]
  },
  {
   "cell_type": "code",
   "execution_count": null,
   "id": "6355ddd5-0103-4927-850b-b0f5c42c7ff9",
   "metadata": {},
   "outputs": [],
   "source": [
    "@time edge_weights = determine_edge_weights(filtered_observation_graph)\n",
    "@time edge_probabilities = determine_edge_probabilities(edge_weights)"
   ]
  },
  {
   "cell_type": "code",
   "execution_count": null,
   "id": "35780516-bfc9-4b9e-aaf8-869e14d4c5e7",
   "metadata": {},
   "outputs": [],
   "source": [
    "kmers = [filtered_observation_graph.vprops[v][:kmer] for v in LightGraphs.vertices(filtered_observation_graph)]\n",
    "kmer_weights = [filtered_observation_graph.vprops[v][:weight] for v in LightGraphs.vertices(filtered_observation_graph)]\n",
    "kmer_probabilities = kmer_weights ./ sum(kmer_weights)\n",
    "\n",
    "edge_weights = determine_edge_weights(filtered_observation_graph)\n",
    "edge_probabilities = determine_edge_probabilities(edge_weights)\n",
    "\n",
    "step_probabilities = deepcopy(edge_probabilities)\n",
    "\n",
    "for orientation in [true, false]\n",
    "#     @show orientation\n",
    "    oriented_step_probabilities = step_probabilities[orientation] \n",
    "    for row in 1:size(step_probabilities[orientation], 1)\n",
    "        step_probabilities_ = step_probabilities[orientation][row, :] .* kmer_probabilities\n",
    "        if sum(step_probabilities_) > 0\n",
    "            step_probabilities[orientation][row, :] .= step_probabilities_ ./ sum(step_probabilities_)\n",
    "        end\n",
    "    end\n",
    "end"
   ]
  },
  {
   "cell_type": "code",
   "execution_count": null,
   "id": "f2ecfeeb-0030-4acc-86e1-9c367e76fb1e",
   "metadata": {},
   "outputs": [],
   "source": [
    "new_records = FASTX.FASTQ.Record[]\n",
    "ProgressMeter.@showprogress for observation in observations\n",
    "    read_length = length(FASTX.sequence(observation))\n",
    "    max_steps = read_length - filtered_observation_graph.gprops[:k]\n",
    "    # apply a squaring penalty to kmer_weights?\n",
    "    initial_vertex = StatsBase.sample(1:length(kmers), StatsBase.weights(kmer_weights.^2))\n",
    "#     @show \"choosing initial vertex $initial_vertex with probability $(kmer_weights[initial_vertex])\"\n",
    "    initial_orientation = rand(Bool)\n",
    "    forward_walk = random_walk(filtered_observation_graph, initial_vertex, initial_orientation, step_probabilities, n_steps=max_steps)\n",
    "    remaining_steps = max_steps - length(forward_walk)\n",
    "    reverse_walk = random_walk(filtered_observation_graph, initial_vertex, !initial_orientation, step_probabilities, n_steps = remaining_steps)\n",
    "    full_walk = [[(vertex=x.vertex, orientation=!x.orientation) for x in reverse(reverse_walk)]..., [(vertex = initial_vertex, orientation = initial_orientation)]..., forward_walk...]\n",
    "    oriented_path = [(x.vertex, x.orientation) for x in full_walk]\n",
    "    new_seq = Mycelia.oriented_path_to_sequence(filtered_observation_graph, oriented_path)\n",
    "    new_record = FASTX.FASTQ.Record(\n",
    "        FASTX.identifier(observation)*\"-k$k\",\n",
    "        FASTX.identifier(observation),\n",
    "        new_seq,\n",
    "        StatsBase.sample(FASTX.quality(observation), length(new_seq))\n",
    "    )\n",
    "#     @show \"here\"\n",
    "    push!(new_records, new_record)\n",
    "end\n",
    "new_records;"
   ]
  },
  {
   "cell_type": "code",
   "execution_count": null,
   "id": "61bf8c37-0b33-4e58-b1db-ba24d7bb3b4a",
   "metadata": {},
   "outputs": [],
   "source": [
    "corrected_fastq_file = replace(observations_file, r\"\\.fastq\" => \".k$k.fastq\")\n",
    "open(corrected_fastq_file, \"w\") do io\n",
    "    fastq_writer = FASTX.FASTQ.Writer(io)\n",
    "    for record in new_records\n",
    "        write(fastq_writer, record)\n",
    "    end\n",
    "    close(fastq_writer)\n",
    "end"
   ]
  },
  {
   "cell_type": "code",
   "execution_count": null,
   "id": "9f72e026-ce76-4e1c-a4da-231f4225a358",
   "metadata": {},
   "outputs": [],
   "source": [
    "corrected_observation_graph = Mycelia.fastx_to_kmer_graph(BioSequences.DNAMer{k}, corrected_fastq_file)"
   ]
  },
  {
   "cell_type": "code",
   "execution_count": null,
   "id": "7dcb49eb-7261-4120-b488-52b3a3739416",
   "metadata": {},
   "outputs": [],
   "source": [
    "# visualize\n",
    "gfa_file = corrected_fastq_file * \".k-$k.gfa\"\n",
    "Mycelia.graph_to_gfa(corrected_observation_graph, gfa_file)\n",
    "\n",
    "run(`$(BANDAGE) image $(gfa_file) $(gfa_file).svg --depwidth .9 --deppower .9`)\n",
    "# --nodewidth <float> Average node width (0.5 to 1000, default: 5)\n",
    "# --depwidth <float>  Depth effect on width (0 to 1, default: 0.5)\n",
    "# --deppower <float>  Power of depth effect on width (0 to 1, default: 0.5)\n",
    "\n",
    "html_path_to_svg = \"./\" * repeat(\"../\", length(split(pwd(), '/')) - 3)\n",
    "html_path_to_svg *= replace(\"$(gfa_file).svg\", \"$(homedir())/\" => \"\")\n",
    "\n",
    "x = \"<img src=$(html_path_to_svg)>\"\n",
    "display(\"text/html\", x)\n",
    "# display(\"image/svg+xml\", read(\"$(gfa_file).svg\", String))"
   ]
  },
  {
   "cell_type": "code",
   "execution_count": null,
   "id": "1babc5ba-11c2-4557-8a93-b97abe8364a6",
   "metadata": {},
   "outputs": [],
   "source": [
    "kmer_counts = Dict(corrected_observation_graph.vprops[v][:kmer] => corrected_observation_graph.vprops[v][:weight] for v in LightGraphs.vertices(corrected_observation_graph))\n",
    "total_observed_kmers = sum(values(kmer_counts))\n",
    "kmer_probabilities = Dict(k => v/total_observed_kmers for (k,v) in kmer_counts)\n",
    "scale = 250\n",
    "Mycelia.plot_kmer_frequency_spectra(values(kmer_counts), size=(2scale,scale), title=\"kmer frequencies\")"
   ]
  },
  {
   "cell_type": "code",
   "execution_count": null,
   "id": "2b4354c8-d03e-49d6-b3ed-7f2375f43602",
   "metadata": {},
   "outputs": [],
   "source": [
    "# compare the new graph to the error-free graph to the error-corrected graph"
   ]
  },
  {
   "cell_type": "code",
   "execution_count": null,
   "id": "5543d4f5-6bb9-4368-8149-9db0267d5aa5",
   "metadata": {},
   "outputs": [],
   "source": [
    "reference_kmers = keys(Mycelia.count_canonical_kmers(BioSequences.DNAMer{k}, reference_fasta_file))\n",
    "distance_to_reference_graph = 1 - LSHFunctions.jaccard(Set(reference_kmers), Set(keys(kmer_counts)))"
   ]
  },
  {
   "cell_type": "markdown",
   "id": "999e7966-6ffc-43dd-8b24-9fdea86fd435",
   "metadata": {},
   "source": [
    "# Final polish and reduction"
   ]
  },
  {
   "cell_type": "code",
   "execution_count": null,
   "id": "83ee093f-2f2d-48cd-a6d6-e0000fa44a67",
   "metadata": {},
   "outputs": [],
   "source": [
    "# to_filter = Int[]\n",
    "connected_component = first(LightGraphs.connected_components(corrected_observation_graph))"
   ]
  },
  {
   "cell_type": "code",
   "execution_count": null,
   "id": "b556f37f-4b7c-4260-9fa7-75b3fc5db9db",
   "metadata": {},
   "outputs": [],
   "source": [
    "tip_vertices = filter(v -> LightGraphs.degree(corrected_observation_graph, v) == 2, LightGraphs.vertices(corrected_observation_graph))"
   ]
  },
  {
   "cell_type": "code",
   "execution_count": null,
   "id": "82b104bc-979a-4dac-888e-f406140fd0bd",
   "metadata": {},
   "outputs": [],
   "source": [
    "if length(tip_vertices) > 2\n",
    "    component_weights = map(v -> corrected_observation_graph.vprops[v][:weight], connected_component)\n",
    "    component_median = Statistics.median(component_weights)\n",
    "    component_standard_deviation = Statistics.std(component_weights)\n",
    "    tips_to_drop = filter(tip -> corrected_observation_graph.vprops[tip][:weight] < component_median - 2*component_standard_deviation, tip_vertices) \n",
    "    polished_graph, vertex_map = LightGraphs.induced_subgraph(corrected_observation_graph, setdiff(LightGraphs.vertices(corrected_observation_graph), tips_to_drop))\n",
    "    simplified_graph = Mycelia.simplify_kmer_graph(polished_graph)\n",
    "else\n",
    "    simplified_graph = Mycelia.simplify_kmer_graph(corrected_observation_graph)\n",
    "end"
   ]
  },
  {
   "cell_type": "code",
   "execution_count": null,
   "id": "6885134a-a5a7-40c6-b515-f103e16b9584",
   "metadata": {},
   "outputs": [],
   "source": [
    "# write simplified graph to gfa\n",
    "# visualize\n",
    "gfa_file = corrected_fastq_file * \".k-$k.simplified.gfa\"\n",
    "Mycelia.graph_to_gfa(simplified_graph, gfa_file)\n",
    "\n",
    "run(`$(BANDAGE) image $(gfa_file) $(gfa_file).svg --depwidth .9 --deppower .9`)\n",
    "# --nodewidth <float> Average node width (0.5 to 1000, default: 5)\n",
    "# --depwidth <float>  Depth effect on width (0 to 1, default: 0.5)\n",
    "# --deppower <float>  Power of depth effect on width (0 to 1, default: 0.5)\n",
    "\n",
    "html_path_to_svg = \"./\" * repeat(\"../\", length(split(pwd(), '/')) - 3)\n",
    "html_path_to_svg *= replace(\"$(gfa_file).svg\", \"$(homedir())/\" => \"\")\n",
    "\n",
    "x = \"<img src=$(html_path_to_svg)>\"\n",
    "display(\"text/html\", x)\n",
    "# display(\"image/svg+xml\", read(\"$(gfa_file).svg\", String))"
   ]
  },
  {
   "cell_type": "code",
   "execution_count": null,
   "id": "cc55c0d8-875e-42e9-98fb-11aa9e8b0f1b",
   "metadata": {},
   "outputs": [],
   "source": [
    "simplified_graph.vprops[1][:weight]"
   ]
  },
  {
   "cell_type": "code",
   "execution_count": null,
   "id": "f0075333-9c05-43e7-ac86-236183f79d8f",
   "metadata": {},
   "outputs": [],
   "source": [
    "Mycelia.is_equivalent(FASTX.sequence(fasta_record), simplified_graph.vprops[1][:sequence])"
   ]
  },
  {
   "cell_type": "markdown",
   "id": "2f2636d1-2a3c-4dd6-94a4-f7a262b57755",
   "metadata": {},
   "source": [
    "# THE SAME!!!"
   ]
  },
  {
   "cell_type": "code",
   "execution_count": null,
   "id": "e76e948b-161d-40d1-b5db-ad1b88b26d9a",
   "metadata": {},
   "outputs": [],
   "source": [
    "# write contigs to fasta\n",
    "final_fasta_file = corrected_fastq_file * \".k-$k.simplified.fasta\"\n",
    "open(final_fasta_file, \"w\") do io\n",
    "    fasta_io = FASTX.FASTA.Writer(io)\n",
    "    for vertex in LightGraphs.vertices(simplified_graph)\n",
    "        seq = simplified_graph.vprops[vertex][:sequence]\n",
    "        description = string(simplified_graph.vprops[vertex][:weight])\n",
    "        id = string(hash(seq)) * '-' * string(Dates.now())\n",
    "        record = FASTX.FASTA.Record(id, description, seq)\n",
    "        @show record\n",
    "        write(fasta_io, record)\n",
    "    end\n",
    "    close(fasta_io)\n",
    "end"
   ]
  }
 ],
 "metadata": {
  "kernelspec": {
   "display_name": "Julia 1.6.1",
   "language": "julia",
   "name": "julia-1.6"
  },
  "language_info": {
   "file_extension": ".jl",
   "mimetype": "application/julia",
   "name": "julia",
   "version": "1.6.1"
  }
 },
 "nbformat": 4,
 "nbformat_minor": 5
}
