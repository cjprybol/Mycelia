{
 "cells": [
  {
   "cell_type": "code",
   "execution_count": 1,
   "id": "6ac73c46-51c9-4fea-845f-fb17ce8d83a2",
   "metadata": {},
   "outputs": [
    {
     "data": {
      "text/plain": [
       "\"/home/jovyan/2021-08-25-k-medoids-error-cluster-detection-multi-entity\""
      ]
     },
     "execution_count": 1,
     "metadata": {},
     "output_type": "execute_result"
    }
   ],
   "source": [
    "DATE = \"2021-08-25\"\n",
    "TASK = \"k-medoids-error-cluster-detection-multi-entity\"\n",
    "DIR = mkpath(\"$(homedir())/$(DATE)-$(TASK)\")"
   ]
  },
  {
   "cell_type": "code",
   "execution_count": 2,
   "id": "38cb383f-3696-4b4b-a732-9a2059e0681a",
   "metadata": {},
   "outputs": [
    {
     "name": "stderr",
     "output_type": "stream",
     "text": [
      "┌ Info: Precompiling Mycelia [453d265d-8292-4a7b-a57c-dce3f9ae6acd]\n",
      "└ @ Base loading.jl:1317\n"
     ]
    }
   ],
   "source": [
    "import Pkg\n",
    "pkgs = [\n",
    "#     \"BioAlignments\",\n",
    "    \"BioSequences\",\n",
    "    \"Clustering\",\n",
    "#     \"CodecZlib\",\n",
    "#     \"Colors\",\n",
    "#     \"Combinatorics\",\n",
    "    \"DataFrames\",\n",
    "#     \"DataStructures\",\n",
    "    \"Dates\",\n",
    "#     \"DelimitedFiles\",\n",
    "    \"Distances\",\n",
    "#     \"EzXML\",\n",
    "    \"FASTX\",\n",
    "#     \"GFF3\",\n",
    "#     \"HTTP\",\n",
    "#     \"Impute\",\n",
    "#     \"JSON\",\n",
    "    \"LightGraphs\",\n",
    "    \"LSHFunctions\",\n",
    "#     \"Measures\",\n",
    "    \"MetaGraphs\",\n",
    "    \"https://github.com/cjprybol/Mycelia.git\",\n",
    "#     \"NumericIO\",\n",
    "#     \"PlotlyJS\",\n",
    "#     \"Plots\",\n",
    "    \"Primes\",\n",
    "#     \"Printf\",\n",
    "    \"ProgressMeter\",\n",
    "    \"Random\",\n",
    "    \"Revise\",\n",
    "    \"SparseArrays\",\n",
    "    \"Statistics\",\n",
    "    \"StatsBase\",\n",
    "    \"StatsPlots\",\n",
    "#     \"StringDistances\",\n",
    "#     \"uCSV\",\n",
    "#     \"XLSX\",\n",
    "]\n",
    "\n",
    "unregistered_packages = filter(pkg -> occursin(r\"(^https|git$)\", pkg), pkgs)\n",
    "registered_packages = setdiff(pkgs, unregistered_packages)\n",
    "\n",
    "for pkg in registered_packages\n",
    "    try\n",
    "        eval(Meta.parse(\"import $(pkg)\"))\n",
    "    catch\n",
    "        Pkg.add(pkg)\n",
    "        Pkg.build(pkg)\n",
    "        eval(Meta.parse(\"import $(pkg)\"))\n",
    "    end\n",
    "end\n",
    "\n",
    "for pkg_url in unregistered_packages\n",
    "    pkg_name = replace(basename(pkg_url), \".git\" => \"\")\n",
    "    try\n",
    "        eval(Meta.parse(\"import $(pkg_name)\"))\n",
    "    catch\n",
    "        Pkg.develop(url=pkg_url)\n",
    "        Pkg.build(pkg_name)\n",
    "        eval(Meta.parse(\"import $(pkg_name)\"))\n",
    "    end\n",
    "end"
   ]
  },
  {
   "cell_type": "code",
   "execution_count": 3,
   "id": "9f9307c7-1b35-4283-b1cb-adc87dc05f20",
   "metadata": {},
   "outputs": [
    {
     "data": {
      "text/plain": [
       "\"Bandage\""
      ]
     },
     "execution_count": 3,
     "metadata": {},
     "output_type": "execute_result"
    }
   ],
   "source": [
    "if Sys.isapple()\n",
    "    BANDAGE = \"/Applications/Bandage.app/Contents/MacOS/Bandage\"\n",
    "else\n",
    "    BANDAGE = \"Bandage\"\n",
    "end"
   ]
  },
  {
   "cell_type": "code",
   "execution_count": 4,
   "id": "8824e5f4-fcd5-4d3d-b77c-9d1086788677",
   "metadata": {},
   "outputs": [
    {
     "data": {
      "text/plain": [
       "assess_kmer_sparsity_in_reads (generic function with 1 method)"
      ]
     },
     "execution_count": 4,
     "metadata": {},
     "output_type": "execute_result"
    }
   ],
   "source": [
    "function assess_kmer_sparsity_in_reads(k, observations)\n",
    "#     @show k, observations\n",
    "    canonical_kmer_counts = Mycelia.count_canonical_kmers(BioSequences.DNAMer{k}, observations)\n",
    "#     canonical_kmer_counts = Mycelia.count_canonical_kmers(BioSequences.DNAMer{k}, first(observations))\n",
    "# #     @show canonical_kmer_counts\n",
    "#     for i in 2:length(observations)\n",
    "#         canonical_kmer_counts_ = Mycelia.count_canonical_kmers(BioSequences.DNAMer{k}, observations[i])\n",
    "#         canonical_kmer_counts = merge!(+, canonical_kmer_counts, canonical_kmer_counts_)\n",
    "#     end\n",
    "#     canonical_kmer_counts = map(o -> Mycelia.count_canonical_kmers(BioSequences.DNAMer{k}, o), observations)...)\n",
    "    total_observed_canonical_kmers = length(keys(canonical_kmer_counts))\n",
    "    total_possible_canonical_kmers = (4^k)/2\n",
    "    sparsity = round(total_observed_canonical_kmers/total_possible_canonical_kmers*100, sigdigits=3)\n",
    "    @show sparsity\n",
    "    return sparsity\n",
    "end"
   ]
  },
  {
   "cell_type": "code",
   "execution_count": 5,
   "id": "148b6939-0508-487c-91d1-94da6aa1409e",
   "metadata": {},
   "outputs": [
    {
     "data": {
      "text/plain": [
       "sequence_to_canonical_kmers (generic function with 1 method)"
      ]
     },
     "execution_count": 5,
     "metadata": {},
     "output_type": "execute_result"
    }
   ],
   "source": [
    "function sequence_to_canonical_kmers(kmer_type, sequence)\n",
    "    return (BioSequences.canonical(kmer.fw) for kmer in BioSequences.each(kmer_type, sequence))\n",
    "end"
   ]
  },
  {
   "cell_type": "code",
   "execution_count": 6,
   "id": "02e895c2-a0a6-40c6-841c-ebbf274c0a47",
   "metadata": {},
   "outputs": [
    {
     "data": {
      "text/plain": [
       "determine_edge_weights (generic function with 1 method)"
      ]
     },
     "execution_count": 6,
     "metadata": {},
     "output_type": "execute_result"
    }
   ],
   "source": [
    "function determine_edge_weights(graph)\n",
    "    outgoing_edge_probabilities = determine_edge_weights(graph, true)\n",
    "    incoming_edge_probabilities = determine_edge_weights(graph, false)\n",
    "    return Dict(true => outgoing_edge_probabilities, false => incoming_edge_probabilities)\n",
    "end"
   ]
  },
  {
   "cell_type": "code",
   "execution_count": 7,
   "id": "6212dc49-005c-40f9-8922-b80b3971c004",
   "metadata": {},
   "outputs": [
    {
     "data": {
      "text/plain": [
       "determine_edge_weights (generic function with 2 methods)"
      ]
     },
     "execution_count": 7,
     "metadata": {},
     "output_type": "execute_result"
    }
   ],
   "source": [
    "function determine_edge_weights(graph, strand)\n",
    "    kmers = [graph.vprops[v][:kmer] for v in LightGraphs.vertices(graph)]\n",
    "    outgoing_edge_weights = SparseArrays.spzeros(length(kmers), length(kmers))\n",
    "    \n",
    "    for (kmer_index, kmer) in enumerate(kmers)\n",
    "        if !strand\n",
    "            kmer = BioSequences.reverse_complement(kmer)\n",
    "        end\n",
    "        \n",
    "        downstream_neighbors = []\n",
    "        downstream_neighbor_weights = []\n",
    "        for neighbor in BioSequences.neighbors(kmer)\n",
    "            canonical_neighbor = BioSequences.canonical(neighbor)\n",
    "            neighbor_orientation = neighbor == canonical_neighbor\n",
    "            \n",
    "            neighbor_index_range = searchsorted(kmers, canonical_neighbor)\n",
    "            if !isempty(neighbor_index_range)\n",
    "                @assert length(neighbor_index_range) == 1\n",
    "                neighbor_index = first(neighbor_index_range)\n",
    "                if LightGraphs.has_edge(graph, LightGraphs.Edge(kmer_index, neighbor_index))\n",
    "                    edge_orientations = graph.eprops[LightGraphs.Edge(kmer_index, neighbor_index)][:orientations]\n",
    "                    this_edge_orientation = (source_orientation = strand, destination_orientation = neighbor_orientation)\n",
    "                    if this_edge_orientation in edge_orientations\n",
    "                        edge_weight = graph.eprops[LightGraphs.Edge(kmer_index, neighbor_index)][:weight]\n",
    "                        outgoing_edge_weights[kmer_index, neighbor_index] = edge_weight\n",
    "                    end\n",
    "                end\n",
    "            end\n",
    "        end\n",
    "    end\n",
    "    return outgoing_edge_weights\n",
    "end"
   ]
  },
  {
   "cell_type": "code",
   "execution_count": 8,
   "id": "33ffd192-f852-43e8-8eb1-3c19f5fe6141",
   "metadata": {},
   "outputs": [
    {
     "data": {
      "text/plain": [
       "determine_edge_probabilities (generic function with 1 method)"
      ]
     },
     "execution_count": 8,
     "metadata": {},
     "output_type": "execute_result"
    }
   ],
   "source": [
    "function determine_edge_probabilities(edge_weights)\n",
    "    edge_probabilities = deepcopy(edge_weights)\n",
    "    for orientation in [true, false]\n",
    "        for row in 1:size(edge_probabilities[orientation], 1)\n",
    "            edge_weights = edge_probabilities[orientation][row, :]\n",
    "            edge_total = sum(edge_weights)\n",
    "            for (col, edge_weight) in enumerate(edge_weights)\n",
    "                if edge_total > 0\n",
    "                    edge_probabilities[orientation][row, col] = edge_weight/edge_total\n",
    "                else\n",
    "                    edge_probabilities[orientation][row, col] = 0.0\n",
    "                end\n",
    "            end\n",
    "        end\n",
    "    end\n",
    "    return edge_probabilities\n",
    "end"
   ]
  },
  {
   "cell_type": "code",
   "execution_count": 9,
   "id": "94750a47-abaa-48ac-9c0e-e7422260ec26",
   "metadata": {},
   "outputs": [
    {
     "data": {
      "text/plain": [
       "random_step (generic function with 1 method)"
      ]
     },
     "execution_count": 9,
     "metadata": {},
     "output_type": "execute_result"
    }
   ],
   "source": [
    "function random_step(current_vertex, current_orientation, step_probabilities)\n",
    "    outgoing_edge_likelihoods = step_probabilities[initial_orientation][current_vertex, :]\n",
    "    chosen_step = StatsBase.sample(outgoing_edge_likelihoods.nzind, StatsBase.weights(outgoing_edge_likelihoods.nzval))\n",
    "    possible_orientations = observation_graph.eprops[LightGraphs.Edge(current_vertex, chosen_step)][:orientations]\n",
    "    possible_orientations = filter(o -> o.source_orientation == current_orientation, possible_orientations)\n",
    "    chosen_orientation = rand(possible_orientations).destination_orientation\n",
    "    chosen_oriented_step = (vertex = chosen_step, orientation = chosen_orientation)\n",
    "    return chosen_oriented_step\n",
    "end"
   ]
  },
  {
   "cell_type": "code",
   "execution_count": 10,
   "id": "1ed368e8-bbee-4634-ac66-af3203e5fb11",
   "metadata": {},
   "outputs": [
    {
     "data": {
      "text/plain": [
       "random_walk (generic function with 1 method)"
      ]
     },
     "execution_count": 10,
     "metadata": {},
     "output_type": "execute_result"
    }
   ],
   "source": [
    "function random_walk(observation_graph, initial_vertex, initial_orientation, step_probabilities; n_steps=size(step_probabilities[true], 1))\n",
    "    step_count = 0\n",
    "    outgoing_edge_likelihoods = step_probabilities[initial_orientation][initial_vertex, :]\n",
    "    walk = Vector{NamedTuple{(:vertex, :orientation), Tuple{Int64, Bool}}}()\n",
    "    done = (step_count >= n_steps) || (sum(outgoing_edge_likelihoods) == 0)\n",
    "    current_vertex = initial_vertex\n",
    "    current_orientation = initial_orientation\n",
    "    while !done\n",
    "#         @show \"choosing\"\n",
    "        chosen_step = StatsBase.sample(outgoing_edge_likelihoods.nzind, StatsBase.weights(outgoing_edge_likelihoods.nzval))\n",
    "        chosen_step\n",
    "        possible_orientations = observation_graph.eprops[LightGraphs.Edge(current_vertex, chosen_step)][:orientations]\n",
    "        possible_orientations\n",
    "        current_orientation\n",
    "        possible_orientations = filter(o -> o.source_orientation == current_orientation, possible_orientations)\n",
    "        possible_orientations\n",
    "        chosen_orientation = rand(possible_orientations).destination_orientation\n",
    "        chosen_oriented_step = (vertex = chosen_step, orientation = chosen_orientation)\n",
    "        push!(walk, chosen_oriented_step)\n",
    "        current_vertex = chosen_step\n",
    "        current_orientation = chosen_orientation\n",
    "        outgoing_edge_likelihoods = step_probabilities[last(walk).orientation][last(walk).vertex, :]\n",
    "        step_count += 1\n",
    "#         @show outgoing_edge_likelihoods\n",
    "        done = (step_count >= n_steps) || (sum(outgoing_edge_likelihoods) == 0)\n",
    "    end\n",
    "    return walk\n",
    "end"
   ]
  },
  {
   "cell_type": "code",
   "execution_count": 11,
   "id": "d54736c9-822b-428d-b6e1-c84c33ea2fd3",
   "metadata": {},
   "outputs": [],
   "source": [
    "# km = vmax/2 = optimal number of reads\n",
    "# slope is less than 10%?"
   ]
  },
  {
   "cell_type": "code",
   "execution_count": 12,
   "id": "03bc3ce0-24b7-4f8b-a90a-050b61c211e5",
   "metadata": {},
   "outputs": [],
   "source": [
    "# generate genomes\n",
    "fasta_records = []\n",
    "sequence_lengths = [10, 100]\n",
    "weights = [10, 1]\n",
    "for (sequence_length, depth) in zip(sequence_lengths, weights)\n",
    "    sequence = BioSequences.randdnaseq(Random.seed!(sequence_length), sequence_length)\n",
    "    sequence_id = string(hash(sequence))\n",
    "    description = string(depth)\n",
    "    fasta_record = FASTX.FASTA.Record(sequence_id, description, sequence)\n",
    "    push!(fasta_records, fasta_record)\n",
    "end"
   ]
  },
  {
   "cell_type": "code",
   "execution_count": 13,
   "id": "6b67def7-76e6-4227-a0de-f34d6d3173f5",
   "metadata": {},
   "outputs": [],
   "source": [
    "file_basename = join([\"L-$(length(FASTX.sequence(record)))\" for record in fasta_records], '_')\n",
    "reference_fasta_file = \"$(DIR)/$(file_basename).fasta\"\n",
    "open(reference_fasta_file, \"w\") do io\n",
    "    fastx_io = FASTX.FASTA.Writer(io)\n",
    "    for fasta_record in fasta_records\n",
    "        write(fastx_io, fasta_record)\n",
    "    end\n",
    "    close(fastx_io)\n",
    "end"
   ]
  },
  {
   "cell_type": "code",
   "execution_count": 63,
   "id": "4ad0d8c4-641b-4872-8c16-57fc2ce80cde",
   "metadata": {},
   "outputs": [
    {
     "data": {
      "text/plain": [
       "1000"
      ]
     },
     "execution_count": 63,
     "metadata": {},
     "output_type": "execute_result"
    }
   ],
   "source": [
    "# randomly sample reads with errors from the genome\n",
    "error_rate = 0.01\n",
    "n_reads = 1000"
   ]
  },
  {
   "cell_type": "code",
   "execution_count": 64,
   "id": "12866bef-c905-47b4-8451-3014aa5291b3",
   "metadata": {},
   "outputs": [],
   "source": [
    "observations = [Mycelia.observe(StatsBase.sample(fasta_records, StatsBase.Weights(weights)), error_rate = error_rate) for i in 1:n_reads];"
   ]
  },
  {
   "cell_type": "code",
   "execution_count": 65,
   "id": "d0d65fbf-8343-4a15-9266-6acbd0690d57",
   "metadata": {},
   "outputs": [],
   "source": [
    "# determine distribution of read lengths"
   ]
  },
  {
   "cell_type": "code",
   "execution_count": 66,
   "id": "65ede45b-ac03-4b73-89a9-10bee08d1731",
   "metadata": {},
   "outputs": [
    {
     "data": {
      "text/plain": [
       "1000-element Vector{Int64}:\n",
       "   9\n",
       "   9\n",
       "   9\n",
       "   9\n",
       "   9\n",
       "   9\n",
       "   9\n",
       "   9\n",
       "   9\n",
       "   9\n",
       "   9\n",
       "   9\n",
       "   9\n",
       "   ⋮\n",
       " 101\n",
       " 101\n",
       " 101\n",
       " 101\n",
       " 101\n",
       " 101\n",
       " 101\n",
       " 102\n",
       " 102\n",
       " 102\n",
       " 102\n",
       " 102"
      ]
     },
     "execution_count": 66,
     "metadata": {},
     "output_type": "execute_result"
    }
   ],
   "source": [
    "sorted_read_lengths = sort(length.(FASTX.sequence.(observations)))"
   ]
  },
  {
   "cell_type": "code",
   "execution_count": 67,
   "id": "02faac4d-0f76-46cc-8d83-1a9a2e5499cc",
   "metadata": {},
   "outputs": [
    {
     "data": {
      "text/plain": [
       "9"
      ]
     },
     "execution_count": 67,
     "metadata": {},
     "output_type": "execute_result"
    }
   ],
   "source": [
    "first_percentile_read_length = sorted_read_lengths[Int(round(length(sorted_read_lengths) * .01))]"
   ]
  },
  {
   "cell_type": "code",
   "execution_count": 68,
   "id": "8f7d9e8f-bc37-45c5-873e-8a94c5770a78",
   "metadata": {},
   "outputs": [
    {
     "data": {
      "text/plain": [
       "2-element Vector{Int64}:\n",
       " 5\n",
       " 7"
      ]
     },
     "execution_count": 68,
     "metadata": {},
     "output_type": "execute_result"
    }
   ],
   "source": [
    "Primes.primes(min_k, max_k)"
   ]
  },
  {
   "cell_type": "code",
   "execution_count": 69,
   "id": "a4085a37-0a1b-4a8c-9115-9baf8882b5e0",
   "metadata": {},
   "outputs": [
    {
     "name": "stdout",
     "output_type": "stream",
     "text": [
      "sparsity = 58.8\n",
      "sparsity = 6.52\n",
      "k = 7\n"
     ]
    },
    {
     "data": {
      "text/plain": [
       "7"
      ]
     },
     "execution_count": 69,
     "metadata": {},
     "output_type": "execute_result"
    }
   ],
   "source": [
    "# determine optimal k\n",
    "min_k = min(5, first_percentile_read_length)\n",
    "max_k = min(61, first_percentile_read_length)\n",
    "k_options = Primes.primes(min_k, max_k)\n",
    "k_index = findfirst(k -> assess_kmer_sparsity_in_reads(k, observations) < .01, k_options)\n",
    "if k_index == nothing\n",
    "    k = k_options[end]\n",
    "else\n",
    "    k = k_options[k_index]\n",
    "end\n",
    "@show k"
   ]
  },
  {
   "cell_type": "code",
   "execution_count": 70,
   "id": "14964bd9-c1b2-469c-92cc-c467b631358b",
   "metadata": {},
   "outputs": [],
   "source": [
    "observations_file = \"$(DIR)/$(file_basename)-DEPTH-$(n_reads).fastq\"\n",
    "open(observations_file, \"w\") do io\n",
    "    fastq_io = FASTX.FASTQ.Writer(io)\n",
    "    for record in observations\n",
    "        write(fastq_io, record)\n",
    "    end\n",
    "    close(fastq_io)\n",
    "end"
   ]
  },
  {
   "cell_type": "markdown",
   "id": "5884b85a-bc25-44a0-b6f4-fe938758f824",
   "metadata": {},
   "source": [
    "# Begin graph resolving of observation graph"
   ]
  },
  {
   "cell_type": "code",
   "execution_count": 71,
   "id": "351d47d9-a8c9-4a7a-8d47-9b604bdb7f41",
   "metadata": {},
   "outputs": [],
   "source": [
    "# assess kmer counts"
   ]
  },
  {
   "cell_type": "code",
   "execution_count": 72,
   "id": "d4c4ee10-d428-4aa4-a71e-9c610339ff28",
   "metadata": {},
   "outputs": [],
   "source": [
    "# fit linear trendline to kmer counts"
   ]
  },
  {
   "cell_type": "code",
   "execution_count": 73,
   "id": "41e1f331-25ba-4ac5-a282-07894c5c8bd4",
   "metadata": {},
   "outputs": [],
   "source": [
    "# apply thresholding when constructing kmer graph at the trendline"
   ]
  },
  {
   "cell_type": "code",
   "execution_count": 74,
   "id": "7764dfed-7461-42d0-b4bc-ec7de4f173c9",
   "metadata": {},
   "outputs": [
    {
     "data": {
      "text/plain": [
       "OrderedCollections.OrderedDict{BioSequences.DNAMer{7}, Int64} with 534 entries:\n",
       "  AAACCAG => 1\n",
       "  AAACGCG => 1\n",
       "  AAAGCCC => 1\n",
       "  AAAGCGC => 74\n",
       "  AAAGCGT => 1\n",
       "  AAATCTA => 1\n",
       "  AACATAC => 1\n",
       "  AACATAG => 77\n",
       "  AACCAGC => 1\n",
       "  AACCGCA => 1\n",
       "  AACCTAC => 1\n",
       "  AACGATC => 1\n",
       "  AACGCGC => 1\n",
       "  AACTATG => 1\n",
       "  AAGAATA => 1\n",
       "  AAGATAC => 1\n",
       "  AAGATAG => 73\n",
       "  AAGATAT => 1\n",
       "  AAGCCCC => 1\n",
       "  AAGCCTG => 3\n",
       "  AAGCGCC => 76\n",
       "  AAGCGTC => 1\n",
       "  AAGGTAG => 1\n",
       "  AAGTGAC => 1\n",
       "  AAGTGGA => 76\n",
       "  ⋮       => ⋮"
      ]
     },
     "execution_count": 74,
     "metadata": {},
     "output_type": "execute_result"
    }
   ],
   "source": [
    "kmer_counts = Mycelia.count_canonical_kmers(BioSequences.DNAMer{k}, observations_file)"
   ]
  },
  {
   "cell_type": "code",
   "execution_count": 75,
   "id": "f9bed7a0-5849-45bf-8ecc-ca64c09dcdf2",
   "metadata": {},
   "outputs": [
    {
     "data": {
      "text/plain": [
       "21-element Vector{Pair{Int64, Int64}}:\n",
       "   1 => 337\n",
       "   2 => 62\n",
       "   3 => 21\n",
       "   4 => 11\n",
       "   5 => 3\n",
       "   6 => 2\n",
       "   7 => 1\n",
       "  71 => 1\n",
       "  72 => 3\n",
       "  73 => 5\n",
       "  74 => 11\n",
       "  75 => 16\n",
       "  76 => 18\n",
       "  77 => 22\n",
       "  78 => 9\n",
       "  79 => 6\n",
       "  80 => 2\n",
       " 863 => 1\n",
       " 869 => 1\n",
       " 870 => 1\n",
       " 933 => 1"
      ]
     },
     "execution_count": 75,
     "metadata": {},
     "output_type": "execute_result"
    }
   ],
   "source": [
    "kmer_counts_histogram = sort(collect(StatsBase.countmap(values(kmer_counts))), by=x->x[1])"
   ]
  },
  {
   "cell_type": "code",
   "execution_count": 79,
   "id": "bbe23e87-889d-4812-8ec0-772a3ec2e369",
   "metadata": {},
   "outputs": [
    {
     "data": {
      "image/svg+xml": [
       "<?xml version=\"1.0\" encoding=\"utf-8\"?>\n",
       "<svg xmlns=\"http://www.w3.org/2000/svg\" xmlns:xlink=\"http://www.w3.org/1999/xlink\" width=\"500\" height=\"250\" viewBox=\"0 0 2000 1000\">\n",
       "<defs>\n",
       "  <clipPath id=\"clip760\">\n",
       "    <rect x=\"0\" y=\"0\" width=\"2000\" height=\"1000\"/>\n",
       "  </clipPath>\n",
       "</defs>\n",
       "<path clip-path=\"url(#clip760)\" d=\"\n",
       "M0 1000 L2000 1000 L2000 0 L0 0  Z\n",
       "  \" fill=\"#ffffff\" fill-rule=\"evenodd\" fill-opacity=\"1\"/>\n",
       "<defs>\n",
       "  <clipPath id=\"clip761\">\n",
       "    <rect x=\"400\" y=\"0\" width=\"1401\" height=\"1000\"/>\n",
       "  </clipPath>\n",
       "</defs>\n",
       "<path clip-path=\"url(#clip760)\" d=\"\n",
       "M159.565 849.7 L1952.76 849.7 L1952.76 108.352 L159.565 108.352  Z\n",
       "  \" fill=\"#ffffff\" fill-rule=\"evenodd\" fill-opacity=\"1\"/>\n",
       "<defs>\n",
       "  <clipPath id=\"clip762\">\n",
       "    <rect x=\"159\" y=\"108\" width=\"1794\" height=\"742\"/>\n",
       "  </clipPath>\n",
       "</defs>\n",
       "<polyline clip-path=\"url(#clip762)\" style=\"stroke:#000000; stroke-linecap:butt; stroke-linejoin:round; stroke-width:2; stroke-opacity:0.1; fill:none\" points=\"\n",
       "  159.565,849.7 159.565,108.352 \n",
       "  \"/>\n",
       "<polyline clip-path=\"url(#clip762)\" style=\"stroke:#000000; stroke-linecap:butt; stroke-linejoin:round; stroke-width:2; stroke-opacity:0.1; fill:none\" points=\"\n",
       "  617.105,849.7 617.105,108.352 \n",
       "  \"/>\n",
       "<polyline clip-path=\"url(#clip762)\" style=\"stroke:#000000; stroke-linecap:butt; stroke-linejoin:round; stroke-width:2; stroke-opacity:0.1; fill:none\" points=\"\n",
       "  1074.64,849.7 1074.64,108.352 \n",
       "  \"/>\n",
       "<polyline clip-path=\"url(#clip762)\" style=\"stroke:#000000; stroke-linecap:butt; stroke-linejoin:round; stroke-width:2; stroke-opacity:0.1; fill:none\" points=\"\n",
       "  1532.18,849.7 1532.18,108.352 \n",
       "  \"/>\n",
       "<polyline clip-path=\"url(#clip760)\" style=\"stroke:#000000; stroke-linecap:butt; stroke-linejoin:round; stroke-width:4; stroke-opacity:1; fill:none\" points=\"\n",
       "  159.565,849.7 1952.76,849.7 \n",
       "  \"/>\n",
       "<polyline clip-path=\"url(#clip760)\" style=\"stroke:#000000; stroke-linecap:butt; stroke-linejoin:round; stroke-width:4; stroke-opacity:1; fill:none\" points=\"\n",
       "  159.565,849.7 159.565,830.802 \n",
       "  \"/>\n",
       "<polyline clip-path=\"url(#clip760)\" style=\"stroke:#000000; stroke-linecap:butt; stroke-linejoin:round; stroke-width:4; stroke-opacity:1; fill:none\" points=\"\n",
       "  617.105,849.7 617.105,830.802 \n",
       "  \"/>\n",
       "<polyline clip-path=\"url(#clip760)\" style=\"stroke:#000000; stroke-linecap:butt; stroke-linejoin:round; stroke-width:4; stroke-opacity:1; fill:none\" points=\"\n",
       "  1074.64,849.7 1074.64,830.802 \n",
       "  \"/>\n",
       "<polyline clip-path=\"url(#clip760)\" style=\"stroke:#000000; stroke-linecap:butt; stroke-linejoin:round; stroke-width:4; stroke-opacity:1; fill:none\" points=\"\n",
       "  1532.18,849.7 1532.18,830.802 \n",
       "  \"/>\n",
       "<path clip-path=\"url(#clip760)\" d=\"M159.565 875.691 Q155.954 875.691 154.125 879.255 Q152.32 882.797 152.32 889.927 Q152.32 897.033 154.125 900.598 Q155.954 904.139 159.565 904.139 Q163.199 904.139 165.005 900.598 Q166.834 897.033 166.834 889.927 Q166.834 882.797 165.005 879.255 Q163.199 875.691 159.565 875.691 M159.565 871.987 Q165.375 871.987 168.431 876.593 Q171.51 881.177 171.51 889.927 Q171.51 898.653 168.431 903.26 Q165.375 907.843 159.565 907.843 Q153.755 907.843 150.676 903.26 Q147.621 898.653 147.621 889.927 Q147.621 881.177 150.676 876.593 Q153.755 871.987 159.565 871.987 Z\" fill=\"#000000\" fill-rule=\"evenodd\" fill-opacity=\"1\" /><path clip-path=\"url(#clip760)\" d=\"M611.758 903.237 L628.077 903.237 L628.077 907.172 L606.133 907.172 L606.133 903.237 Q608.795 900.482 613.378 895.852 Q617.985 891.2 619.165 889.857 Q621.41 887.334 622.29 885.598 Q623.193 883.839 623.193 882.149 Q623.193 879.394 621.248 877.658 Q619.327 875.922 616.225 875.922 Q614.026 875.922 611.573 876.686 Q609.142 877.45 606.364 879.001 L606.364 874.279 Q609.188 873.144 611.642 872.566 Q614.096 871.987 616.133 871.987 Q621.503 871.987 624.697 874.672 Q627.892 877.357 627.892 881.848 Q627.892 883.978 627.082 885.899 Q626.295 887.797 624.188 890.39 Q623.609 891.061 620.508 894.278 Q617.406 897.473 611.758 903.237 Z\" fill=\"#000000\" fill-rule=\"evenodd\" fill-opacity=\"1\" /><path clip-path=\"url(#clip760)\" d=\"M1077.65 876.686 L1065.85 895.135 L1077.65 895.135 L1077.65 876.686 M1076.43 872.612 L1082.31 872.612 L1082.31 895.135 L1087.24 895.135 L1087.24 899.024 L1082.31 899.024 L1082.31 907.172 L1077.65 907.172 L1077.65 899.024 L1062.05 899.024 L1062.05 894.51 L1076.43 872.612 Z\" fill=\"#000000\" fill-rule=\"evenodd\" fill-opacity=\"1\" /><path clip-path=\"url(#clip760)\" d=\"M1532.59 888.028 Q1529.44 888.028 1527.59 890.181 Q1525.76 892.334 1525.76 896.084 Q1525.76 899.811 1527.59 901.987 Q1529.44 904.139 1532.59 904.139 Q1535.74 904.139 1537.57 901.987 Q1539.42 899.811 1539.42 896.084 Q1539.42 892.334 1537.57 890.181 Q1535.74 888.028 1532.59 888.028 M1541.87 873.376 L1541.87 877.635 Q1540.11 876.802 1538.31 876.362 Q1536.52 875.922 1534.77 875.922 Q1530.14 875.922 1527.68 879.047 Q1525.25 882.172 1524.9 888.491 Q1526.27 886.478 1528.33 885.413 Q1530.39 884.325 1532.87 884.325 Q1538.08 884.325 1541.08 887.496 Q1544.12 890.644 1544.12 896.084 Q1544.12 901.408 1540.97 904.626 Q1537.82 907.843 1532.59 907.843 Q1526.59 907.843 1523.42 903.26 Q1520.25 898.653 1520.25 889.927 Q1520.25 881.732 1524.14 876.871 Q1528.03 871.987 1534.58 871.987 Q1536.34 871.987 1538.12 872.334 Q1539.93 872.681 1541.87 873.376 Z\" fill=\"#000000\" fill-rule=\"evenodd\" fill-opacity=\"1\" /><path clip-path=\"url(#clip760)\" d=\"M661.996 939.039 L667.852 939.039 L667.852 988.564 L661.996 988.564 L661.996 939.039 Z\" fill=\"#000000\" fill-rule=\"evenodd\" fill-opacity=\"1\" /><path clip-path=\"url(#clip760)\" d=\"M693.92 957.022 Q689.209 957.022 686.472 960.714 Q683.735 964.374 683.735 970.772 Q683.735 977.169 686.44 980.861 Q689.178 984.522 693.92 984.522 Q698.599 984.522 701.336 980.83 Q704.073 977.137 704.073 970.772 Q704.073 964.438 701.336 960.746 Q698.599 957.022 693.92 957.022 M693.92 952.057 Q701.559 952.057 705.919 957.022 Q710.28 961.987 710.28 970.772 Q710.28 979.525 705.919 984.522 Q701.559 989.487 693.92 989.487 Q686.249 989.487 681.889 984.522 Q677.56 979.525 677.56 970.772 Q677.56 961.987 681.889 957.022 Q686.249 952.057 693.92 952.057 Z\" fill=\"#000000\" fill-rule=\"evenodd\" fill-opacity=\"1\" /><path clip-path=\"url(#clip760)\" d=\"M743.445 970.326 Q743.445 963.96 740.803 960.459 Q738.194 956.958 733.451 956.958 Q728.74 956.958 726.099 960.459 Q723.489 963.96 723.489 970.326 Q723.489 976.66 726.099 980.161 Q728.74 983.662 733.451 983.662 Q738.194 983.662 740.803 980.161 Q743.445 976.66 743.445 970.326 M749.302 984.14 Q749.302 993.243 745.259 997.667 Q741.217 1002.12 732.878 1002.12 Q729.791 1002.12 727.054 1001.65 Q724.316 1001.2 721.738 1000.24 L721.738 994.548 Q724.316 995.948 726.831 996.616 Q729.345 997.285 731.955 997.285 Q737.716 997.285 740.581 994.261 Q743.445 991.269 743.445 985.19 L743.445 982.294 Q741.631 985.445 738.798 987.004 Q735.966 988.564 732.019 988.564 Q725.462 988.564 721.452 983.567 Q717.441 978.57 717.441 970.326 Q717.441 962.051 721.452 957.054 Q725.462 952.057 732.019 952.057 Q735.966 952.057 738.798 953.616 Q741.631 955.176 743.445 958.327 L743.445 952.916 L749.302 952.916 L749.302 984.14 Z\" fill=\"#000000\" fill-rule=\"evenodd\" fill-opacity=\"1\" /><path clip-path=\"url(#clip760)\" d=\"M775.433 939.102 Q771.168 946.423 769.099 953.584 Q767.03 960.746 767.03 968.098 Q767.03 975.45 769.099 982.676 Q771.2 989.869 775.433 997.158 L770.34 997.158 Q765.566 989.678 763.179 982.453 Q760.824 975.228 760.824 968.098 Q760.824 961 763.179 953.807 Q765.534 946.614 770.34 939.102 L775.433 939.102 Z\" fill=\"#000000\" fill-rule=\"evenodd\" fill-opacity=\"1\" /><path clip-path=\"url(#clip760)\" d=\"M800.609 957.022 Q795.899 957.022 793.161 960.714 Q790.424 964.374 790.424 970.772 Q790.424 977.169 793.13 980.861 Q795.867 984.522 800.609 984.522 Q805.288 984.522 808.025 980.83 Q810.763 977.137 810.763 970.772 Q810.763 964.438 808.025 960.746 Q805.288 957.022 800.609 957.022 M800.609 952.057 Q808.248 952.057 812.609 957.022 Q816.969 961.987 816.969 970.772 Q816.969 979.525 812.609 984.522 Q808.248 989.487 800.609 989.487 Q792.939 989.487 788.578 984.522 Q784.249 979.525 784.249 970.772 Q784.249 961.987 788.578 957.022 Q792.939 952.057 800.609 952.057 Z\" fill=\"#000000\" fill-rule=\"evenodd\" fill-opacity=\"1\" /><path clip-path=\"url(#clip760)\" d=\"M852.267 970.772 Q852.267 964.311 849.593 960.65 Q846.952 956.958 842.305 956.958 Q837.658 956.958 834.984 960.65 Q832.342 964.311 832.342 970.772 Q832.342 977.233 834.984 980.925 Q837.658 984.585 842.305 984.585 Q846.952 984.585 849.593 980.925 Q852.267 977.233 852.267 970.772 M832.342 958.327 Q834.188 955.144 836.989 953.616 Q839.822 952.057 843.737 952.057 Q850.23 952.057 854.272 957.213 Q858.346 962.369 858.346 970.772 Q858.346 979.174 854.272 984.331 Q850.23 989.487 843.737 989.487 Q839.822 989.487 836.989 987.959 Q834.188 986.4 832.342 983.217 L832.342 988.564 L826.454 988.564 L826.454 939.039 L832.342 939.039 L832.342 958.327 Z\" fill=\"#000000\" fill-rule=\"evenodd\" fill-opacity=\"1\" /><path clip-path=\"url(#clip760)\" d=\"M890.779 953.966 L890.779 959.504 Q888.297 958.231 885.623 957.595 Q882.95 956.958 880.085 956.958 Q875.725 956.958 873.528 958.295 Q871.364 959.632 871.364 962.305 Q871.364 964.342 872.924 965.52 Q874.483 966.666 879.194 967.716 L881.199 968.162 Q887.438 969.499 890.047 971.949 Q892.689 974.368 892.689 978.729 Q892.689 983.694 888.742 986.59 Q884.828 989.487 877.953 989.487 Q875.088 989.487 871.969 988.914 Q868.881 988.373 865.444 987.259 L865.444 981.211 Q868.69 982.898 871.842 983.758 Q874.993 984.585 878.08 984.585 Q882.218 984.585 884.446 983.185 Q886.674 981.753 886.674 979.174 Q886.674 976.787 885.05 975.514 Q883.459 974.241 878.016 973.063 L875.979 972.586 Q870.537 971.44 868.118 969.085 Q865.699 966.698 865.699 962.56 Q865.699 957.531 869.263 954.794 Q872.828 952.057 879.385 952.057 Q882.631 952.057 885.496 952.534 Q888.361 953.011 890.779 953.966 Z\" fill=\"#000000\" fill-rule=\"evenodd\" fill-opacity=\"1\" /><path clip-path=\"url(#clip760)\" d=\"M932.507 969.276 L932.507 972.14 L905.58 972.14 Q905.962 978.188 909.208 981.371 Q912.487 984.522 918.311 984.522 Q921.685 984.522 924.836 983.694 Q928.019 982.867 931.138 981.211 L931.138 986.75 Q927.987 988.086 924.677 988.787 Q921.367 989.487 917.961 989.487 Q909.431 989.487 904.434 984.522 Q899.469 979.556 899.469 971.09 Q899.469 962.337 904.179 957.213 Q908.922 952.057 916.943 952.057 Q924.136 952.057 928.305 956.703 Q932.507 961.319 932.507 969.276 M926.65 967.557 Q926.587 962.751 923.945 959.886 Q921.335 957.022 917.006 957.022 Q912.105 957.022 909.145 959.791 Q906.216 962.56 905.771 967.589 L926.65 967.557 Z\" fill=\"#000000\" fill-rule=\"evenodd\" fill-opacity=\"1\" /><path clip-path=\"url(#clip760)\" d=\"M962.776 958.39 Q961.789 957.817 960.611 957.563 Q959.465 957.276 958.065 957.276 Q953.1 957.276 950.426 960.523 Q947.784 963.738 947.784 969.785 L947.784 988.564 L941.896 988.564 L941.896 952.916 L947.784 952.916 L947.784 958.454 Q949.63 955.208 952.591 953.648 Q955.551 952.057 959.784 952.057 Q960.389 952.057 961.121 952.152 Q961.853 952.216 962.744 952.375 L962.776 958.39 Z\" fill=\"#000000\" fill-rule=\"evenodd\" fill-opacity=\"1\" /><path clip-path=\"url(#clip760)\" d=\"M964.717 952.916 L970.924 952.916 L982.064 982.835 L993.204 952.916 L999.41 952.916 L986.042 988.564 L978.085 988.564 L964.717 952.916 Z\" fill=\"#000000\" fill-rule=\"evenodd\" fill-opacity=\"1\" /><path clip-path=\"url(#clip760)\" d=\"M1037.99 969.276 L1037.99 972.14 L1011.06 972.14 Q1011.44 978.188 1014.69 981.371 Q1017.97 984.522 1023.79 984.522 Q1027.16 984.522 1030.32 983.694 Q1033.5 982.867 1036.62 981.211 L1036.62 986.75 Q1033.47 988.086 1030.16 988.787 Q1026.85 989.487 1023.44 989.487 Q1014.91 989.487 1009.91 984.522 Q1004.95 979.556 1004.95 971.09 Q1004.95 962.337 1009.66 957.213 Q1014.4 952.057 1022.42 952.057 Q1029.62 952.057 1033.79 956.703 Q1037.99 961.319 1037.99 969.276 M1032.13 967.557 Q1032.07 962.751 1029.42 959.886 Q1026.81 957.022 1022.49 957.022 Q1017.58 957.022 1014.62 959.791 Q1011.7 962.56 1011.25 967.589 L1032.13 967.557 Z\" fill=\"#000000\" fill-rule=\"evenodd\" fill-opacity=\"1\" /><path clip-path=\"url(#clip760)\" d=\"M1071.06 958.327 L1071.06 939.039 L1076.91 939.039 L1076.91 988.564 L1071.06 988.564 L1071.06 983.217 Q1069.21 986.4 1066.38 987.959 Q1063.58 989.487 1059.63 989.487 Q1053.17 989.487 1049.09 984.331 Q1045.05 979.174 1045.05 970.772 Q1045.05 962.369 1049.09 957.213 Q1053.17 952.057 1059.63 952.057 Q1063.58 952.057 1066.38 953.616 Q1069.21 955.144 1071.06 958.327 M1051.1 970.772 Q1051.1 977.233 1053.74 980.925 Q1056.42 984.585 1061.06 984.585 Q1065.71 984.585 1068.38 980.925 Q1071.06 977.233 1071.06 970.772 Q1071.06 964.311 1068.38 960.65 Q1065.71 956.958 1061.06 956.958 Q1056.42 956.958 1053.74 960.65 Q1051.1 964.311 1051.1 970.772 Z\" fill=\"#000000\" fill-rule=\"evenodd\" fill-opacity=\"1\" /><path clip-path=\"url(#clip760)\" d=\"M1127.74 939.039 L1127.74 943.908 L1122.14 943.908 Q1118.99 943.908 1117.75 945.182 Q1116.54 946.455 1116.54 949.765 L1116.54 952.916 L1126.18 952.916 L1126.18 957.467 L1116.54 957.467 L1116.54 988.564 L1110.65 988.564 L1110.65 957.467 L1105.05 957.467 L1105.05 952.916 L1110.65 952.916 L1110.65 950.433 Q1110.65 944.481 1113.42 941.776 Q1116.19 939.039 1122.2 939.039 L1127.74 939.039 Z\" fill=\"#000000\" fill-rule=\"evenodd\" fill-opacity=\"1\" /><path clip-path=\"url(#clip760)\" d=\"M1153.3 958.39 Q1152.31 957.817 1151.14 957.563 Q1149.99 957.276 1148.59 957.276 Q1143.63 957.276 1140.95 960.523 Q1138.31 963.738 1138.31 969.785 L1138.31 988.564 L1132.42 988.564 L1132.42 952.916 L1138.31 952.916 L1138.31 958.454 Q1140.16 955.208 1143.12 953.648 Q1146.08 952.057 1150.31 952.057 Q1150.91 952.057 1151.65 952.152 Q1152.38 952.216 1153.27 952.375 L1153.3 958.39 Z\" fill=\"#000000\" fill-rule=\"evenodd\" fill-opacity=\"1\" /><path clip-path=\"url(#clip760)\" d=\"M1188.5 969.276 L1188.5 972.14 L1161.58 972.14 Q1161.96 978.188 1165.21 981.371 Q1168.48 984.522 1174.31 984.522 Q1177.68 984.522 1180.83 983.694 Q1184.02 982.867 1187.13 981.211 L1187.13 986.75 Q1183.98 988.086 1180.67 988.787 Q1177.36 989.487 1173.96 989.487 Q1165.43 989.487 1160.43 984.522 Q1155.47 979.556 1155.47 971.09 Q1155.47 962.337 1160.18 957.213 Q1164.92 952.057 1172.94 952.057 Q1180.13 952.057 1184.3 956.703 Q1188.5 961.319 1188.5 969.276 M1182.65 967.557 Q1182.58 962.751 1179.94 959.886 Q1177.33 957.022 1173 957.022 Q1168.1 957.022 1165.14 959.791 Q1162.21 962.56 1161.77 967.589 L1182.65 967.557 Z\" fill=\"#000000\" fill-rule=\"evenodd\" fill-opacity=\"1\" /><path clip-path=\"url(#clip760)\" d=\"M1201.62 970.772 Q1201.62 977.233 1204.26 980.925 Q1206.93 984.585 1211.58 984.585 Q1216.23 984.585 1218.9 980.925 Q1221.57 977.233 1221.57 970.772 Q1221.57 964.311 1218.9 960.65 Q1216.23 956.958 1211.58 956.958 Q1206.93 956.958 1204.26 960.65 Q1201.62 964.311 1201.62 970.772 M1221.57 983.217 Q1219.73 986.4 1216.89 987.959 Q1214.09 989.487 1210.15 989.487 Q1203.69 989.487 1199.61 984.331 Q1195.57 979.174 1195.57 970.772 Q1195.57 962.369 1199.61 957.213 Q1203.69 952.057 1210.15 952.057 Q1214.09 952.057 1216.89 953.616 Q1219.73 955.144 1221.57 958.327 L1221.57 952.916 L1227.43 952.916 L1227.43 1002.12 L1221.57 1002.12 L1221.57 983.217 Z\" fill=\"#000000\" fill-rule=\"evenodd\" fill-opacity=\"1\" /><path clip-path=\"url(#clip760)\" d=\"M1238.89 974.496 L1238.89 952.916 L1244.74 952.916 L1244.74 974.273 Q1244.74 979.334 1246.72 981.88 Q1248.69 984.394 1252.64 984.394 Q1257.38 984.394 1260.12 981.371 Q1262.89 978.347 1262.89 973.127 L1262.89 952.916 L1268.74 952.916 L1268.74 988.564 L1262.89 988.564 L1262.89 983.089 Q1260.75 986.336 1257.92 987.927 Q1255.12 989.487 1251.4 989.487 Q1245.25 989.487 1242.07 985.667 Q1238.89 981.848 1238.89 974.496 M1253.62 952.057 L1253.62 952.057 Z\" fill=\"#000000\" fill-rule=\"evenodd\" fill-opacity=\"1\" /><path clip-path=\"url(#clip760)\" d=\"M1311.3 969.276 L1311.3 972.14 L1284.37 972.14 Q1284.75 978.188 1288 981.371 Q1291.28 984.522 1297.1 984.522 Q1300.48 984.522 1303.63 983.694 Q1306.81 982.867 1309.93 981.211 L1309.93 986.75 Q1306.78 988.086 1303.47 988.787 Q1300.16 989.487 1296.75 989.487 Q1288.22 989.487 1283.23 984.522 Q1278.26 979.556 1278.26 971.09 Q1278.26 962.337 1282.97 957.213 Q1287.71 952.057 1295.73 952.057 Q1302.93 952.057 1307.1 956.703 Q1311.3 961.319 1311.3 969.276 M1305.44 967.557 Q1305.38 962.751 1302.74 959.886 Q1300.13 957.022 1295.8 957.022 Q1290.9 957.022 1287.94 959.791 Q1285.01 962.56 1284.56 967.589 L1305.44 967.557 Z\" fill=\"#000000\" fill-rule=\"evenodd\" fill-opacity=\"1\" /><path clip-path=\"url(#clip760)\" d=\"M1350.54 967.048 L1350.54 988.564 L1344.69 988.564 L1344.69 967.239 Q1344.69 962.178 1342.71 959.664 Q1340.74 957.149 1336.79 957.149 Q1332.05 957.149 1329.31 960.173 Q1326.58 963.197 1326.58 968.416 L1326.58 988.564 L1320.69 988.564 L1320.69 952.916 L1326.58 952.916 L1326.58 958.454 Q1328.68 955.239 1331.51 953.648 Q1334.37 952.057 1338.1 952.057 Q1344.24 952.057 1347.39 955.876 Q1350.54 959.664 1350.54 967.048 Z\" fill=\"#000000\" fill-rule=\"evenodd\" fill-opacity=\"1\" /><path clip-path=\"url(#clip760)\" d=\"M1387.88 954.285 L1387.88 959.759 Q1385.39 958.39 1382.88 957.722 Q1380.4 957.022 1377.85 957.022 Q1372.15 957.022 1369 960.65 Q1365.85 964.247 1365.85 970.772 Q1365.85 977.297 1369 980.925 Q1372.15 984.522 1377.85 984.522 Q1380.4 984.522 1382.88 983.853 Q1385.39 983.153 1387.88 981.784 L1387.88 987.195 Q1385.43 988.341 1382.78 988.914 Q1380.18 989.487 1377.21 989.487 Q1369.16 989.487 1364.42 984.426 Q1359.68 979.365 1359.68 970.772 Q1359.68 962.051 1364.45 957.054 Q1369.26 952.057 1377.6 952.057 Q1380.3 952.057 1382.88 952.629 Q1385.46 953.171 1387.88 954.285 Z\" fill=\"#000000\" fill-rule=\"evenodd\" fill-opacity=\"1\" /><path clip-path=\"url(#clip760)\" d=\"M1412.89 991.874 Q1410.41 998.24 1408.06 1000.18 Q1405.7 1002.12 1401.75 1002.12 L1397.08 1002.12 L1397.08 997.221 L1400.51 997.221 Q1402.93 997.221 1404.27 996.075 Q1405.61 994.93 1407.23 990.665 L1408.28 987.991 L1393.86 952.916 L1400.07 952.916 L1411.21 980.798 L1422.35 952.916 L1428.55 952.916 L1412.89 991.874 Z\" fill=\"#000000\" fill-rule=\"evenodd\" fill-opacity=\"1\" /><path clip-path=\"url(#clip760)\" d=\"M1435.72 939.102 L1440.81 939.102 Q1445.58 946.614 1447.94 953.807 Q1450.33 961 1450.33 968.098 Q1450.33 975.228 1447.94 982.453 Q1445.58 989.678 1440.81 997.158 L1435.72 997.158 Q1439.95 989.869 1442.02 982.676 Q1444.12 975.45 1444.12 968.098 Q1444.12 960.746 1442.02 953.584 Q1439.95 946.423 1435.72 939.102 Z\" fill=\"#000000\" fill-rule=\"evenodd\" fill-opacity=\"1\" /><polyline clip-path=\"url(#clip762)\" style=\"stroke:#000000; stroke-linecap:butt; stroke-linejoin:round; stroke-width:2; stroke-opacity:0.1; fill:none\" points=\"\n",
       "  159.565,849.7 1952.76,849.7 \n",
       "  \"/>\n",
       "<polyline clip-path=\"url(#clip762)\" style=\"stroke:#000000; stroke-linecap:butt; stroke-linejoin:round; stroke-width:2; stroke-opacity:0.1; fill:none\" points=\"\n",
       "  159.565,740.999 1952.76,740.999 \n",
       "  \"/>\n",
       "<polyline clip-path=\"url(#clip762)\" style=\"stroke:#000000; stroke-linecap:butt; stroke-linejoin:round; stroke-width:2; stroke-opacity:0.1; fill:none\" points=\"\n",
       "  159.565,632.298 1952.76,632.298 \n",
       "  \"/>\n",
       "<polyline clip-path=\"url(#clip762)\" style=\"stroke:#000000; stroke-linecap:butt; stroke-linejoin:round; stroke-width:2; stroke-opacity:0.1; fill:none\" points=\"\n",
       "  159.565,523.598 1952.76,523.598 \n",
       "  \"/>\n",
       "<polyline clip-path=\"url(#clip762)\" style=\"stroke:#000000; stroke-linecap:butt; stroke-linejoin:round; stroke-width:2; stroke-opacity:0.1; fill:none\" points=\"\n",
       "  159.565,414.897 1952.76,414.897 \n",
       "  \"/>\n",
       "<polyline clip-path=\"url(#clip762)\" style=\"stroke:#000000; stroke-linecap:butt; stroke-linejoin:round; stroke-width:2; stroke-opacity:0.1; fill:none\" points=\"\n",
       "  159.565,306.196 1952.76,306.196 \n",
       "  \"/>\n",
       "<polyline clip-path=\"url(#clip762)\" style=\"stroke:#000000; stroke-linecap:butt; stroke-linejoin:round; stroke-width:2; stroke-opacity:0.1; fill:none\" points=\"\n",
       "  159.565,197.496 1952.76,197.496 \n",
       "  \"/>\n",
       "<polyline clip-path=\"url(#clip760)\" style=\"stroke:#000000; stroke-linecap:butt; stroke-linejoin:round; stroke-width:4; stroke-opacity:1; fill:none\" points=\"\n",
       "  159.565,849.7 159.565,108.352 \n",
       "  \"/>\n",
       "<polyline clip-path=\"url(#clip760)\" style=\"stroke:#000000; stroke-linecap:butt; stroke-linejoin:round; stroke-width:4; stroke-opacity:1; fill:none\" points=\"\n",
       "  159.565,849.7 178.463,849.7 \n",
       "  \"/>\n",
       "<polyline clip-path=\"url(#clip760)\" style=\"stroke:#000000; stroke-linecap:butt; stroke-linejoin:round; stroke-width:4; stroke-opacity:1; fill:none\" points=\"\n",
       "  159.565,740.999 178.463,740.999 \n",
       "  \"/>\n",
       "<polyline clip-path=\"url(#clip760)\" style=\"stroke:#000000; stroke-linecap:butt; stroke-linejoin:round; stroke-width:4; stroke-opacity:1; fill:none\" points=\"\n",
       "  159.565,632.298 178.463,632.298 \n",
       "  \"/>\n",
       "<polyline clip-path=\"url(#clip760)\" style=\"stroke:#000000; stroke-linecap:butt; stroke-linejoin:round; stroke-width:4; stroke-opacity:1; fill:none\" points=\"\n",
       "  159.565,523.598 178.463,523.598 \n",
       "  \"/>\n",
       "<polyline clip-path=\"url(#clip760)\" style=\"stroke:#000000; stroke-linecap:butt; stroke-linejoin:round; stroke-width:4; stroke-opacity:1; fill:none\" points=\"\n",
       "  159.565,414.897 178.463,414.897 \n",
       "  \"/>\n",
       "<polyline clip-path=\"url(#clip760)\" style=\"stroke:#000000; stroke-linecap:butt; stroke-linejoin:round; stroke-width:4; stroke-opacity:1; fill:none\" points=\"\n",
       "  159.565,306.196 178.463,306.196 \n",
       "  \"/>\n",
       "<polyline clip-path=\"url(#clip760)\" style=\"stroke:#000000; stroke-linecap:butt; stroke-linejoin:round; stroke-width:4; stroke-opacity:1; fill:none\" points=\"\n",
       "  159.565,197.496 178.463,197.496 \n",
       "  \"/>\n",
       "<path clip-path=\"url(#clip760)\" d=\"M117.621 835.499 Q114.01 835.499 112.181 839.063 Q110.375 842.605 110.375 849.735 Q110.375 856.841 112.181 860.406 Q114.01 863.947 117.621 863.947 Q121.255 863.947 123.061 860.406 Q124.889 856.841 124.889 849.735 Q124.889 842.605 123.061 839.063 Q121.255 835.499 117.621 835.499 M117.621 831.795 Q123.431 831.795 126.487 836.401 Q129.565 840.985 129.565 849.735 Q129.565 858.461 126.487 863.068 Q123.431 867.651 117.621 867.651 Q111.811 867.651 108.732 863.068 Q105.676 858.461 105.676 849.735 Q105.676 840.985 108.732 836.401 Q111.811 831.795 117.621 831.795 Z\" fill=\"#000000\" fill-rule=\"evenodd\" fill-opacity=\"1\" /><path clip-path=\"url(#clip760)\" d=\"M109.658 754.344 L117.297 754.344 L117.297 727.978 L108.987 729.645 L108.987 725.386 L117.25 723.719 L121.926 723.719 L121.926 754.344 L129.565 754.344 L129.565 758.279 L109.658 758.279 L109.658 754.344 Z\" fill=\"#000000\" fill-rule=\"evenodd\" fill-opacity=\"1\" /><path clip-path=\"url(#clip760)\" d=\"M113.246 645.643 L129.565 645.643 L129.565 649.578 L107.621 649.578 L107.621 645.643 Q110.283 642.889 114.866 638.259 Q119.473 633.606 120.653 632.264 Q122.899 629.741 123.778 628.005 Q124.681 626.245 124.681 624.555 Q124.681 621.801 122.737 620.065 Q120.815 618.329 117.713 618.329 Q115.514 618.329 113.061 619.093 Q110.63 619.856 107.852 621.407 L107.852 616.685 Q110.676 615.551 113.13 614.972 Q115.584 614.393 117.621 614.393 Q122.991 614.393 126.186 617.079 Q129.38 619.764 129.38 624.255 Q129.38 626.384 128.57 628.305 Q127.783 630.204 125.676 632.796 Q125.098 633.467 121.996 636.685 Q118.894 639.879 113.246 645.643 Z\" fill=\"#000000\" fill-rule=\"evenodd\" fill-opacity=\"1\" /><path clip-path=\"url(#clip760)\" d=\"M122.436 522.244 Q125.792 522.961 127.667 525.23 Q129.565 527.498 129.565 530.832 Q129.565 535.947 126.047 538.748 Q122.528 541.549 116.047 541.549 Q113.871 541.549 111.556 541.109 Q109.264 540.693 106.811 539.836 L106.811 535.322 Q108.755 536.457 111.07 537.035 Q113.385 537.614 115.908 537.614 Q120.306 537.614 122.598 535.878 Q124.912 534.142 124.912 530.832 Q124.912 527.776 122.76 526.063 Q120.63 524.327 116.811 524.327 L112.783 524.327 L112.783 520.484 L116.996 520.484 Q120.445 520.484 122.274 519.119 Q124.102 517.73 124.102 515.137 Q124.102 512.475 122.204 511.063 Q120.329 509.628 116.811 509.628 Q114.889 509.628 112.69 510.045 Q110.491 510.461 107.852 511.341 L107.852 507.174 Q110.514 506.434 112.829 506.063 Q115.167 505.693 117.227 505.693 Q122.551 505.693 125.653 508.123 Q128.755 510.531 128.755 514.651 Q128.755 517.521 127.112 519.512 Q125.468 521.48 122.436 522.244 Z\" fill=\"#000000\" fill-rule=\"evenodd\" fill-opacity=\"1\" /><path clip-path=\"url(#clip760)\" d=\"M119.982 401.691 L108.176 420.14 L119.982 420.14 L119.982 401.691 M118.755 397.617 L124.635 397.617 L124.635 420.14 L129.565 420.14 L129.565 424.029 L124.635 424.029 L124.635 432.177 L119.982 432.177 L119.982 424.029 L104.38 424.029 L104.38 419.515 L118.755 397.617 Z\" fill=\"#000000\" fill-rule=\"evenodd\" fill-opacity=\"1\" /><path clip-path=\"url(#clip760)\" d=\"M108.663 288.916 L127.019 288.916 L127.019 292.852 L112.945 292.852 L112.945 301.324 Q113.963 300.977 114.982 300.814 Q116 300.629 117.019 300.629 Q122.806 300.629 126.186 303.801 Q129.565 306.972 129.565 312.388 Q129.565 317.967 126.093 321.069 Q122.621 324.148 116.301 324.148 Q114.125 324.148 111.857 323.777 Q109.612 323.407 107.204 322.666 L107.204 317.967 Q109.288 319.101 111.51 319.657 Q113.732 320.213 116.209 320.213 Q120.213 320.213 122.551 318.106 Q124.889 316 124.889 312.388 Q124.889 308.777 122.551 306.671 Q120.213 304.564 116.209 304.564 Q114.334 304.564 112.459 304.981 Q110.607 305.398 108.663 306.277 L108.663 288.916 Z\" fill=\"#000000\" fill-rule=\"evenodd\" fill-opacity=\"1\" /><path clip-path=\"url(#clip760)\" d=\"M118.037 195.632 Q114.889 195.632 113.038 197.785 Q111.209 199.938 111.209 203.688 Q111.209 207.415 113.038 209.591 Q114.889 211.743 118.037 211.743 Q121.186 211.743 123.014 209.591 Q124.866 207.415 124.866 203.688 Q124.866 199.938 123.014 197.785 Q121.186 195.632 118.037 195.632 M127.32 180.98 L127.32 185.239 Q125.561 184.405 123.755 183.966 Q121.973 183.526 120.213 183.526 Q115.584 183.526 113.13 186.651 Q110.7 189.776 110.352 196.095 Q111.718 194.081 113.778 193.017 Q115.838 191.929 118.315 191.929 Q123.524 191.929 126.533 195.1 Q129.565 198.248 129.565 203.688 Q129.565 209.012 126.417 212.229 Q123.269 215.447 118.037 215.447 Q112.042 215.447 108.871 210.864 Q105.7 206.257 105.7 197.53 Q105.7 189.336 109.588 184.475 Q113.477 179.591 120.028 179.591 Q121.787 179.591 123.57 179.938 Q125.375 180.285 127.32 180.98 Z\" fill=\"#000000\" fill-rule=\"evenodd\" fill-opacity=\"1\" /><path clip-path=\"url(#clip760)\" d=\"M10.599 728.769 L10.599 722.912 L60.1242 722.912 L60.1242 728.769 L10.599 728.769 Z\" fill=\"#000000\" fill-rule=\"evenodd\" fill-opacity=\"1\" /><path clip-path=\"url(#clip760)\" d=\"M28.5821 696.845 Q28.5821 701.555 32.2742 704.292 Q35.9345 707.03 42.332 707.03 Q48.7295 707.03 52.4217 704.324 Q56.0819 701.587 56.0819 696.845 Q56.0819 692.166 52.3898 689.429 Q48.6977 686.691 42.332 686.691 Q35.9981 686.691 32.306 689.429 Q28.5821 692.166 28.5821 696.845 M23.6168 696.845 Q23.6168 689.206 28.5821 684.845 Q33.5473 680.485 42.332 680.485 Q51.0849 680.485 56.0819 684.845 Q61.0472 689.206 61.0472 696.845 Q61.0472 704.515 56.0819 708.876 Q51.0849 713.204 42.332 713.204 Q33.5473 713.204 28.5821 708.876 Q23.6168 704.515 23.6168 696.845 Z\" fill=\"#000000\" fill-rule=\"evenodd\" fill-opacity=\"1\" /><path clip-path=\"url(#clip760)\" d=\"M41.8864 647.319 Q35.5207 647.319 32.0196 649.961 Q28.5184 652.571 28.5184 657.314 Q28.5184 662.024 32.0196 664.666 Q35.5207 667.276 41.8864 667.276 Q48.2203 667.276 51.7214 664.666 Q55.2226 662.024 55.2226 657.314 Q55.2226 652.571 51.7214 649.961 Q48.2203 647.319 41.8864 647.319 M55.7 641.463 Q64.803 641.463 69.2271 645.505 Q73.6831 649.547 73.6831 657.886 Q73.6831 660.974 73.2057 663.711 Q72.7601 666.448 71.8052 669.026 L66.1079 669.026 Q67.5084 666.448 68.1768 663.934 Q68.8452 661.419 68.8452 658.809 Q68.8452 653.048 65.8215 650.184 Q62.8296 647.319 56.7503 647.319 L53.8539 647.319 Q57.005 649.134 58.5646 651.966 Q60.1242 654.799 60.1242 658.746 Q60.1242 665.302 55.1271 669.313 Q50.13 673.323 41.8864 673.323 Q33.611 673.323 28.6139 669.313 Q23.6168 665.302 23.6168 658.746 Q23.6168 654.799 25.1764 651.966 Q26.736 649.134 29.8871 647.319 L24.4762 647.319 L24.4762 641.463 L55.7 641.463 Z\" fill=\"#000000\" fill-rule=\"evenodd\" fill-opacity=\"1\" /><path clip-path=\"url(#clip760)\" d=\"M10.6626 615.332 Q17.9832 619.597 25.1446 621.666 Q32.306 623.734 39.6584 623.734 Q47.0108 623.734 54.2359 621.666 Q61.4291 619.565 68.7179 615.332 L68.7179 620.424 Q61.2382 625.199 54.0131 627.586 Q46.788 629.941 39.6584 629.941 Q32.5606 629.941 25.3674 627.586 Q18.1742 625.23 10.6626 620.424 L10.6626 615.332 Z\" fill=\"#000000\" fill-rule=\"evenodd\" fill-opacity=\"1\" /><path clip-path=\"url(#clip760)\" d=\"M31.4466 576.787 L31.4466 586.049 L42.0774 588.723 L42.0774 579.397 L31.4466 576.787 M13.3362 581.562 L26.5451 584.872 L26.5451 575.578 L13.3362 572.236 L13.3362 567.143 L26.5451 570.422 L26.5451 560.491 L31.4466 560.491 L31.4466 571.663 L42.0774 574.273 L42.0774 564.151 L46.9471 564.151 L46.9471 575.514 L60.1242 578.824 L60.1242 583.917 L46.9471 580.639 L46.9471 589.964 L60.1242 593.243 L60.1242 598.367 L46.9471 595.057 L46.9471 605.083 L42.0774 605.083 L42.0774 593.879 L31.4466 591.206 L31.4466 601.454 L26.5451 601.454 L26.5451 589.964 L13.3362 586.718 L13.3362 581.562 Z\" fill=\"#000000\" fill-rule=\"evenodd\" fill-opacity=\"1\" /><path clip-path=\"url(#clip760)\" d=\"M28.5821 514.817 Q28.5821 519.528 32.2742 522.265 Q35.9345 525.002 42.332 525.002 Q48.7295 525.002 52.4217 522.297 Q56.0819 519.56 56.0819 514.817 Q56.0819 510.138 52.3898 507.401 Q48.6977 504.664 42.332 504.664 Q35.9981 504.664 32.306 507.401 Q28.5821 510.138 28.5821 514.817 M23.6168 514.817 Q23.6168 507.178 28.5821 502.818 Q33.5473 498.457 42.332 498.457 Q51.0849 498.457 56.0819 502.818 Q61.0472 507.178 61.0472 514.817 Q61.0472 522.488 56.0819 526.848 Q51.0849 531.177 42.332 531.177 Q33.5473 531.177 28.5821 526.848 Q23.6168 522.488 23.6168 514.817 Z\" fill=\"#000000\" fill-rule=\"evenodd\" fill-opacity=\"1\" /><path clip-path=\"url(#clip760)\" d=\"M10.599 470.703 L15.4687 470.703 L15.4687 476.305 Q15.4687 479.456 16.7419 480.697 Q18.015 481.906 21.3252 481.906 L24.4762 481.906 L24.4762 472.262 L29.0277 472.262 L29.0277 481.906 L60.1242 481.906 L60.1242 487.795 L29.0277 487.795 L29.0277 493.397 L24.4762 493.397 L24.4762 487.795 L21.9936 487.795 Q16.0416 487.795 13.3362 485.026 Q10.599 482.257 10.599 476.241 L10.599 470.703 Z\" fill=\"#000000\" fill-rule=\"evenodd\" fill-opacity=\"1\" /><path clip-path=\"url(#clip760)\" d=\"M10.599 445.304 L10.599 439.415 L39.8494 439.415 L24.4762 421.942 L24.4762 414.462 L41.1544 433.368 L60.1242 413.666 L60.1242 421.305 L42.7139 439.415 L60.1242 439.415 L60.1242 445.304 L10.599 445.304 Z\" fill=\"#000000\" fill-rule=\"evenodd\" fill-opacity=\"1\" /><path clip-path=\"url(#clip760)\" d=\"M31.3193 379.578 Q27.3726 377.382 25.4947 374.326 Q23.6168 371.27 23.6168 367.133 Q23.6168 361.563 27.5317 358.539 Q31.4148 355.515 38.6081 355.515 L60.1242 355.515 L60.1242 361.404 L38.799 361.404 Q33.6746 361.404 31.192 363.218 Q28.7094 365.032 28.7094 368.756 Q28.7094 373.308 31.7331 375.949 Q34.7568 378.591 39.9767 378.591 L60.1242 378.591 L60.1242 384.479 L38.799 384.479 Q33.6428 384.479 31.192 386.294 Q28.7094 388.108 28.7094 391.895 Q28.7094 396.383 31.7649 399.025 Q34.7886 401.667 39.9767 401.667 L60.1242 401.667 L60.1242 407.555 L24.4762 407.555 L24.4762 401.667 L30.0144 401.667 Q26.736 399.662 25.1764 396.861 Q23.6168 394.06 23.6168 390.208 Q23.6168 386.325 25.5902 383.62 Q27.5636 380.883 31.3193 379.578 Z\" fill=\"#000000\" fill-rule=\"evenodd\" fill-opacity=\"1\" /><path clip-path=\"url(#clip760)\" d=\"M40.8361 313.343 L43.7006 313.343 L43.7006 340.269 Q49.7481 339.888 52.9309 336.641 Q56.0819 333.363 56.0819 327.538 Q56.0819 324.164 55.2544 321.013 Q54.4269 317.83 52.7718 314.711 L58.3099 314.711 Q59.6467 317.862 60.347 321.172 Q61.0472 324.483 61.0472 327.888 Q61.0472 336.418 56.0819 341.415 Q51.1167 346.381 42.6503 346.381 Q33.8974 346.381 28.7731 341.67 Q23.6168 336.927 23.6168 328.907 Q23.6168 321.713 28.2638 317.544 Q32.8789 313.343 40.8361 313.343 M39.1173 319.199 Q34.3112 319.263 31.4466 321.904 Q28.5821 324.514 28.5821 328.843 Q28.5821 333.745 31.3512 336.705 Q34.1202 339.633 39.1492 340.079 L39.1173 319.199 Z\" fill=\"#000000\" fill-rule=\"evenodd\" fill-opacity=\"1\" /><path clip-path=\"url(#clip760)\" d=\"M29.9507 283.074 Q29.3778 284.06 29.1232 285.238 Q28.8367 286.384 28.8367 287.784 Q28.8367 292.749 32.0832 295.423 Q35.2979 298.065 41.3453 298.065 L60.1242 298.065 L60.1242 303.953 L24.4762 303.953 L24.4762 298.065 L30.0144 298.065 Q26.7679 296.219 25.2083 293.259 Q23.6168 290.299 23.6168 286.066 Q23.6168 285.461 23.7123 284.729 Q23.776 283.997 23.9351 283.105 L29.9507 283.074 Z\" fill=\"#000000\" fill-rule=\"evenodd\" fill-opacity=\"1\" /><path clip-path=\"url(#clip760)\" d=\"M25.5265 254.205 L31.0647 254.205 Q29.7916 256.688 29.155 259.361 Q28.5184 262.035 28.5184 264.9 Q28.5184 269.26 29.8552 271.456 Q31.192 273.621 33.8656 273.621 Q35.9026 273.621 37.0803 272.061 Q38.2261 270.501 39.2765 265.791 L39.7221 263.786 Q41.0589 257.547 43.5097 254.937 Q45.9286 252.295 50.2891 252.295 Q55.2544 252.295 58.1508 256.242 Q61.0472 260.157 61.0472 267.032 Q61.0472 269.897 60.4743 273.016 Q59.9332 276.103 58.8192 279.541 L52.7718 279.541 Q54.4587 276.294 55.318 273.143 Q56.1456 269.992 56.1456 266.905 Q56.1456 262.767 54.7451 260.539 Q53.3129 258.311 50.7347 258.311 Q48.3476 258.311 47.0745 259.934 Q45.8013 261.526 44.6237 266.968 L44.1462 269.005 Q43.0004 274.448 40.6451 276.867 Q38.258 279.286 34.1202 279.286 Q29.0913 279.286 26.3541 275.721 Q23.6168 272.156 23.6168 265.6 Q23.6168 262.353 24.0943 259.489 Q24.5717 256.624 25.5265 254.205 Z\" fill=\"#000000\" fill-rule=\"evenodd\" fill-opacity=\"1\" /><path clip-path=\"url(#clip760)\" d=\"M10.6626 243.893 L10.6626 238.8 Q18.1742 234.026 25.3674 231.671 Q32.5606 229.283 39.6584 229.283 Q46.788 229.283 54.0131 231.671 Q61.2382 234.026 68.7179 238.8 L68.7179 243.893 Q61.4291 239.66 54.2359 237.591 Q47.0108 235.49 39.6584 235.49 Q32.306 235.49 25.1446 237.591 Q17.9832 239.66 10.6626 243.893 Z\" fill=\"#000000\" fill-rule=\"evenodd\" fill-opacity=\"1\" /><path clip-path=\"url(#clip760)\" d=\"M699.6 9.54393 L707.094 9.54393 L707.094 46.7717 L729.334 27.2059 L738.853 27.2059 L714.791 48.4326 L739.866 72.576 L730.144 72.576 L707.094 50.4176 L707.094 72.576 L699.6 72.576 L699.6 9.54393 Z\" fill=\"#000000\" fill-rule=\"evenodd\" fill-opacity=\"1\" /><path clip-path=\"url(#clip760)\" d=\"M783.251 35.9153 Q786.046 30.8922 789.935 28.5022 Q793.824 26.1121 799.09 26.1121 Q806.179 26.1121 810.028 31.0947 Q813.876 36.0368 813.876 45.1919 L813.876 72.576 L806.382 72.576 L806.382 45.4349 Q806.382 38.913 804.073 35.7533 Q801.764 32.5936 797.024 32.5936 Q791.231 32.5936 787.869 36.4419 Q784.507 40.2903 784.507 46.9338 L784.507 72.576 L777.013 72.576 L777.013 45.4349 Q777.013 38.8725 774.704 35.7533 Q772.395 32.5936 767.574 32.5936 Q761.862 32.5936 758.5 36.4824 Q755.138 40.3308 755.138 46.9338 L755.138 72.576 L747.644 72.576 L747.644 27.2059 L755.138 27.2059 L755.138 34.2544 Q757.69 30.082 761.255 28.0971 Q764.82 26.1121 769.721 26.1121 Q774.663 26.1121 778.106 28.6237 Q781.59 31.1352 783.251 35.9153 Z\" fill=\"#000000\" fill-rule=\"evenodd\" fill-opacity=\"1\" /><path clip-path=\"url(#clip760)\" d=\"M867.55 48.0275 L867.55 51.6733 L833.28 51.6733 Q833.766 59.3701 837.898 63.421 Q842.07 67.4314 849.483 67.4314 Q853.777 67.4314 857.788 66.3781 Q861.839 65.3249 865.809 63.2184 L865.809 70.267 Q861.798 71.9684 857.585 72.8596 Q853.372 73.7508 849.038 73.7508 Q838.181 73.7508 831.821 67.4314 Q825.502 61.1119 825.502 50.3365 Q825.502 39.1965 831.497 32.6746 Q837.533 26.1121 847.742 26.1121 Q856.897 26.1121 862.203 32.0264 Q867.55 37.9003 867.55 48.0275 M860.097 45.84 Q860.016 39.7232 856.654 36.0774 Q853.332 32.4315 847.823 32.4315 Q841.584 32.4315 837.817 35.9558 Q834.09 39.4801 833.523 45.8805 L860.097 45.84 Z\" fill=\"#000000\" fill-rule=\"evenodd\" fill-opacity=\"1\" /><path clip-path=\"url(#clip760)\" d=\"M906.075 34.1734 Q904.819 33.4443 903.32 33.1202 Q901.862 32.7556 900.079 32.7556 Q893.76 32.7556 890.357 36.8875 Q886.995 40.9789 886.995 48.6757 L886.995 72.576 L879.501 72.576 L879.501 27.2059 L886.995 27.2059 L886.995 34.2544 Q889.344 30.1225 893.112 28.1376 Q896.879 26.1121 902.267 26.1121 Q903.036 26.1121 903.968 26.2337 Q904.9 26.3147 906.034 26.5172 L906.075 34.1734 Z\" fill=\"#000000\" fill-rule=\"evenodd\" fill-opacity=\"1\" /><path clip-path=\"url(#clip760)\" d=\"M963.233 9.54393 L963.233 15.7418 L956.103 15.7418 Q952.093 15.7418 950.513 17.3622 Q948.974 18.9825 948.974 23.1955 L948.974 27.2059 L961.248 27.2059 L961.248 32.9987 L948.974 32.9987 L948.974 72.576 L941.479 72.576 L941.479 32.9987 L934.35 32.9987 L934.35 27.2059 L941.479 27.2059 L941.479 24.0462 Q941.479 16.471 945.004 13.0277 Q948.528 9.54393 956.184 9.54393 L963.233 9.54393 Z\" fill=\"#000000\" fill-rule=\"evenodd\" fill-opacity=\"1\" /><path clip-path=\"url(#clip760)\" d=\"M995.762 34.1734 Q994.506 33.4443 993.007 33.1202 Q991.549 32.7556 989.766 32.7556 Q983.447 32.7556 980.044 36.8875 Q976.682 40.9789 976.682 48.6757 L976.682 72.576 L969.188 72.576 L969.188 27.2059 L976.682 27.2059 L976.682 34.2544 Q979.031 30.1225 982.799 28.1376 Q986.566 26.1121 991.954 26.1121 Q992.723 26.1121 993.655 26.2337 Q994.587 26.3147 995.721 26.5172 L995.762 34.1734 Z\" fill=\"#000000\" fill-rule=\"evenodd\" fill-opacity=\"1\" /><path clip-path=\"url(#clip760)\" d=\"M1040.56 48.0275 L1040.56 51.6733 L1006.29 51.6733 Q1006.78 59.3701 1010.91 63.421 Q1015.08 67.4314 1022.5 67.4314 Q1026.79 67.4314 1030.8 66.3781 Q1034.85 65.3249 1038.82 63.2184 L1038.82 70.267 Q1034.81 71.9684 1030.6 72.8596 Q1026.39 73.7508 1022.05 73.7508 Q1011.2 73.7508 1004.84 67.4314 Q998.516 61.1119 998.516 50.3365 Q998.516 39.1965 1004.51 32.6746 Q1010.55 26.1121 1020.76 26.1121 Q1029.91 26.1121 1035.22 32.0264 Q1040.56 37.9003 1040.56 48.0275 M1033.11 45.84 Q1033.03 39.7232 1029.67 36.0774 Q1026.35 32.4315 1020.84 32.4315 Q1014.6 32.4315 1010.83 35.9558 Q1007.1 39.4801 1006.54 45.8805 L1033.11 45.84 Z\" fill=\"#000000\" fill-rule=\"evenodd\" fill-opacity=\"1\" /><path clip-path=\"url(#clip760)\" d=\"M1057.25 49.9314 Q1057.25 58.1548 1060.62 62.8538 Q1064.02 67.5124 1069.93 67.5124 Q1075.85 67.5124 1079.25 62.8538 Q1082.65 58.1548 1082.65 49.9314 Q1082.65 41.7081 1079.25 37.0496 Q1075.85 32.3505 1069.93 32.3505 Q1064.02 32.3505 1060.62 37.0496 Q1057.25 41.7081 1057.25 49.9314 M1082.65 65.7705 Q1080.3 69.8214 1076.7 71.8063 Q1073.13 73.7508 1068.11 73.7508 Q1059.89 73.7508 1054.7 67.1883 Q1049.56 60.6258 1049.56 49.9314 Q1049.56 39.2371 1054.7 32.6746 Q1059.89 26.1121 1068.11 26.1121 Q1073.13 26.1121 1076.7 28.0971 Q1080.3 30.0415 1082.65 34.0924 L1082.65 27.2059 L1090.11 27.2059 L1090.11 89.8329 L1082.65 89.8329 L1082.65 65.7705 Z\" fill=\"#000000\" fill-rule=\"evenodd\" fill-opacity=\"1\" /><path clip-path=\"url(#clip760)\" d=\"M1104.69 54.671 L1104.69 27.2059 L1112.14 27.2059 L1112.14 54.3874 Q1112.14 60.8284 1114.66 64.0691 Q1117.17 67.2693 1122.19 67.2693 Q1128.23 67.2693 1131.71 63.421 Q1135.23 59.5726 1135.23 52.9291 L1135.23 27.2059 L1142.69 27.2059 L1142.69 72.576 L1135.23 72.576 L1135.23 65.6084 Q1132.52 69.7404 1128.91 71.7658 Q1125.35 73.7508 1120.61 73.7508 Q1112.79 73.7508 1108.74 68.8897 Q1104.69 64.0286 1104.69 54.671 M1123.45 26.1121 L1123.45 26.1121 Z\" fill=\"#000000\" fill-rule=\"evenodd\" fill-opacity=\"1\" /><path clip-path=\"url(#clip760)\" d=\"M1196.85 48.0275 L1196.85 51.6733 L1162.58 51.6733 Q1163.06 59.3701 1167.2 63.421 Q1171.37 67.4314 1178.78 67.4314 Q1183.08 67.4314 1187.09 66.3781 Q1191.14 65.3249 1195.11 63.2184 L1195.11 70.267 Q1191.1 71.9684 1186.88 72.8596 Q1182.67 73.7508 1178.34 73.7508 Q1167.48 73.7508 1161.12 67.4314 Q1154.8 61.1119 1154.8 50.3365 Q1154.8 39.1965 1160.8 32.6746 Q1166.83 26.1121 1177.04 26.1121 Q1186.19 26.1121 1191.5 32.0264 Q1196.85 37.9003 1196.85 48.0275 M1189.39 45.84 Q1189.31 39.7232 1185.95 36.0774 Q1182.63 32.4315 1177.12 32.4315 Q1170.88 32.4315 1167.11 35.9558 Q1163.39 39.4801 1162.82 45.8805 L1189.39 45.84 Z\" fill=\"#000000\" fill-rule=\"evenodd\" fill-opacity=\"1\" /><path clip-path=\"url(#clip760)\" d=\"M1246.8 45.1919 L1246.8 72.576 L1239.34 72.576 L1239.34 45.4349 Q1239.34 38.994 1236.83 35.7938 Q1234.32 32.5936 1229.3 32.5936 Q1223.26 32.5936 1219.78 36.4419 Q1216.29 40.2903 1216.29 46.9338 L1216.29 72.576 L1208.8 72.576 L1208.8 27.2059 L1216.29 27.2059 L1216.29 34.2544 Q1218.97 30.163 1222.57 28.1376 Q1226.22 26.1121 1230.96 26.1121 Q1238.78 26.1121 1242.79 30.9732 Q1246.8 35.7938 1246.8 45.1919 Z\" fill=\"#000000\" fill-rule=\"evenodd\" fill-opacity=\"1\" /><path clip-path=\"url(#clip760)\" d=\"M1294.31 28.9478 L1294.31 35.9153 Q1291.15 34.1734 1287.95 33.3227 Q1284.79 32.4315 1281.55 32.4315 Q1274.3 32.4315 1270.29 37.0496 Q1266.28 41.6271 1266.28 49.9314 Q1266.28 58.2358 1270.29 62.8538 Q1274.3 67.4314 1281.55 67.4314 Q1284.79 67.4314 1287.95 66.5807 Q1291.15 65.6895 1294.31 63.9476 L1294.31 70.8341 Q1291.19 72.2924 1287.83 73.0216 Q1284.51 73.7508 1280.74 73.7508 Q1270.49 73.7508 1264.46 67.3098 Q1258.42 60.8689 1258.42 49.9314 Q1258.42 38.832 1264.5 32.472 Q1270.62 26.1121 1281.23 26.1121 Q1284.67 26.1121 1287.95 26.8413 Q1291.23 27.5299 1294.31 28.9478 Z\" fill=\"#000000\" fill-rule=\"evenodd\" fill-opacity=\"1\" /><path clip-path=\"url(#clip760)\" d=\"M1307.28 27.2059 L1314.73 27.2059 L1314.73 72.576 L1307.28 72.576 L1307.28 27.2059 M1307.28 9.54393 L1314.73 9.54393 L1314.73 18.9825 L1307.28 18.9825 L1307.28 9.54393 Z\" fill=\"#000000\" fill-rule=\"evenodd\" fill-opacity=\"1\" /><path clip-path=\"url(#clip760)\" d=\"M1369.13 48.0275 L1369.13 51.6733 L1334.86 51.6733 Q1335.35 59.3701 1339.48 63.421 Q1343.65 67.4314 1351.07 67.4314 Q1355.36 67.4314 1359.37 66.3781 Q1363.42 65.3249 1367.39 63.2184 L1367.39 70.267 Q1363.38 71.9684 1359.17 72.8596 Q1354.96 73.7508 1350.62 73.7508 Q1339.76 73.7508 1333.4 67.4314 Q1327.09 61.1119 1327.09 50.3365 Q1327.09 39.1965 1333.08 32.6746 Q1339.12 26.1121 1349.32 26.1121 Q1358.48 26.1121 1363.79 32.0264 Q1369.13 37.9003 1369.13 48.0275 M1361.68 45.84 Q1361.6 39.7232 1358.24 36.0774 Q1354.91 32.4315 1349.41 32.4315 Q1343.17 32.4315 1339.4 35.9558 Q1335.67 39.4801 1335.11 45.8805 L1361.68 45.84 Z\" fill=\"#000000\" fill-rule=\"evenodd\" fill-opacity=\"1\" /><path clip-path=\"url(#clip760)\" d=\"M1410.29 28.5427 L1410.29 35.5912 Q1407.13 33.9709 1403.73 33.1607 Q1400.33 32.3505 1396.68 32.3505 Q1391.13 32.3505 1388.33 34.0519 Q1385.58 35.7533 1385.58 39.156 Q1385.58 41.7486 1387.57 43.2475 Q1389.55 44.7058 1395.55 46.0426 L1398.1 46.6097 Q1406.04 48.3111 1409.36 51.4303 Q1412.72 54.509 1412.72 60.0587 Q1412.72 66.3781 1407.7 70.0644 Q1402.72 73.7508 1393.97 73.7508 Q1390.32 73.7508 1386.35 73.0216 Q1382.42 72.3329 1378.05 70.9151 L1378.05 63.2184 Q1382.18 65.3654 1386.19 66.4591 Q1390.2 67.5124 1394.13 67.5124 Q1399.39 67.5124 1402.23 65.73 Q1405.06 63.9071 1405.06 60.6258 Q1405.06 57.5877 1403 55.9673 Q1400.97 54.3469 1394.05 52.8481 L1391.45 52.2405 Q1384.53 50.7821 1381.45 47.7845 Q1378.37 44.7463 1378.37 39.4801 Q1378.37 33.0797 1382.91 29.5959 Q1387.44 26.1121 1395.79 26.1121 Q1399.92 26.1121 1403.57 26.7198 Q1407.21 27.3274 1410.29 28.5427 Z\" fill=\"#000000\" fill-rule=\"evenodd\" fill-opacity=\"1\" /><circle clip-path=\"url(#clip762)\" cx=\"527.756\" cy=\"730.28\" r=\"14\" fill=\"#009af9\" fill-rule=\"evenodd\" fill-opacity=\"1\" stroke=\"#000000\" stroke-opacity=\"1\" stroke-width=\"2\"/>\n",
       "<circle clip-path=\"url(#clip762)\" cx=\"1156.25\" cy=\"610.86\" r=\"14\" fill=\"#009af9\" fill-rule=\"evenodd\" fill-opacity=\"1\" stroke=\"#000000\" stroke-opacity=\"1\" stroke-width=\"2\"/>\n",
       "<circle clip-path=\"url(#clip762)\" cx=\"1159.16\" cy=\"654.934\" r=\"14\" fill=\"#009af9\" fill-rule=\"evenodd\" fill-opacity=\"1\" stroke=\"#000000\" stroke-opacity=\"1\" stroke-width=\"2\"/>\n",
       "<circle clip-path=\"url(#clip762)\" cx=\"1137.94\" cy=\"730.28\" r=\"14\" fill=\"#009af9\" fill-rule=\"evenodd\" fill-opacity=\"1\" stroke=\"#000000\" stroke-opacity=\"1\" stroke-width=\"2\"/>\n",
       "<circle clip-path=\"url(#clip762)\" cx=\"1707.99\" cy=\"849.7\" r=\"14\" fill=\"#009af9\" fill-rule=\"evenodd\" fill-opacity=\"1\" stroke=\"#000000\" stroke-opacity=\"1\" stroke-width=\"2\"/>\n",
       "<circle clip-path=\"url(#clip762)\" cx=\"1147.28\" cy=\"548.318\" r=\"14\" fill=\"#009af9\" fill-rule=\"evenodd\" fill-opacity=\"1\" stroke=\"#000000\" stroke-opacity=\"1\" stroke-width=\"2\"/>\n",
       "<circle clip-path=\"url(#clip762)\" cx=\"159.565\" cy=\"217.053\" r=\"14\" fill=\"#009af9\" fill-rule=\"evenodd\" fill-opacity=\"1\" stroke=\"#000000\" stroke-opacity=\"1\" stroke-width=\"2\"/>\n",
       "<circle clip-path=\"url(#clip762)\" cx=\"569.466\" cy=\"774.354\" r=\"14\" fill=\"#009af9\" fill-rule=\"evenodd\" fill-opacity=\"1\" stroke=\"#000000\" stroke-opacity=\"1\" stroke-width=\"2\"/>\n",
       "<circle clip-path=\"url(#clip762)\" cx=\"1141.09\" cy=\"674.753\" r=\"14\" fill=\"#009af9\" fill-rule=\"evenodd\" fill-opacity=\"1\" stroke=\"#000000\" stroke-opacity=\"1\" stroke-width=\"2\"/>\n",
       "<circle clip-path=\"url(#clip762)\" cx=\"1144.21\" cy=\"589.047\" r=\"14\" fill=\"#009af9\" fill-rule=\"evenodd\" fill-opacity=\"1\" stroke=\"#000000\" stroke-opacity=\"1\" stroke-width=\"2\"/>\n",
       "<circle clip-path=\"url(#clip762)\" cx=\"410.895\" cy=\"518.758\" r=\"14\" fill=\"#009af9\" fill-rule=\"evenodd\" fill-opacity=\"1\" stroke=\"#000000\" stroke-opacity=\"1\" stroke-width=\"2\"/>\n",
       "<circle clip-path=\"url(#clip762)\" cx=\"1162.04\" cy=\"774.354\" r=\"14\" fill=\"#009af9\" fill-rule=\"evenodd\" fill-opacity=\"1\" stroke=\"#000000\" stroke-opacity=\"1\" stroke-width=\"2\"/>\n",
       "<circle clip-path=\"url(#clip762)\" cx=\"1153.3\" cy=\"513.701\" r=\"14\" fill=\"#009af9\" fill-rule=\"evenodd\" fill-opacity=\"1\" stroke=\"#000000\" stroke-opacity=\"1\" stroke-width=\"2\"/>\n",
       "<circle clip-path=\"url(#clip762)\" cx=\"604.731\" cy=\"849.7\" r=\"14\" fill=\"#009af9\" fill-rule=\"evenodd\" fill-opacity=\"1\" stroke=\"#000000\" stroke-opacity=\"1\" stroke-width=\"2\"/>\n",
       "<circle clip-path=\"url(#clip762)\" cx=\"1134.74\" cy=\"849.7\" r=\"14\" fill=\"#009af9\" fill-rule=\"evenodd\" fill-opacity=\"1\" stroke=\"#000000\" stroke-opacity=\"1\" stroke-width=\"2\"/>\n",
       "<circle clip-path=\"url(#clip762)\" cx=\"1707.73\" cy=\"849.7\" r=\"14\" fill=\"#009af9\" fill-rule=\"evenodd\" fill-opacity=\"1\" stroke=\"#000000\" stroke-opacity=\"1\" stroke-width=\"2\"/>\n",
       "<circle clip-path=\"url(#clip762)\" cx=\"1150.31\" cy=\"535.514\" r=\"14\" fill=\"#009af9\" fill-rule=\"evenodd\" fill-opacity=\"1\" stroke=\"#000000\" stroke-opacity=\"1\" stroke-width=\"2\"/>\n",
       "<circle clip-path=\"url(#clip762)\" cx=\"476.708\" cy=\"589.047\" r=\"14\" fill=\"#009af9\" fill-rule=\"evenodd\" fill-opacity=\"1\" stroke=\"#000000\" stroke-opacity=\"1\" stroke-width=\"2\"/>\n",
       "<circle clip-path=\"url(#clip762)\" cx=\"318.136\" cy=\"401.077\" r=\"14\" fill=\"#009af9\" fill-rule=\"evenodd\" fill-opacity=\"1\" stroke=\"#000000\" stroke-opacity=\"1\" stroke-width=\"2\"/>\n",
       "<circle clip-path=\"url(#clip762)\" cx=\"1706.14\" cy=\"849.7\" r=\"14\" fill=\"#009af9\" fill-rule=\"evenodd\" fill-opacity=\"1\" stroke=\"#000000\" stroke-opacity=\"1\" stroke-width=\"2\"/>\n",
       "<circle clip-path=\"url(#clip762)\" cx=\"1723.99\" cy=\"849.7\" r=\"14\" fill=\"#009af9\" fill-rule=\"evenodd\" fill-opacity=\"1\" stroke=\"#000000\" stroke-opacity=\"1\" stroke-width=\"2\"/>\n",
       "</svg>\n"
      ]
     },
     "execution_count": 79,
     "metadata": {},
     "output_type": "execute_result"
    }
   ],
   "source": [
    "scale = 250\n",
    "Mycelia.plot_kmer_frequency_spectra(values(kmer_counts), size=(2scale,scale), logscale=log2, title=\"kmer frequencies\")"
   ]
  },
  {
   "cell_type": "code",
   "execution_count": 80,
   "id": "b65107b0-b733-48ac-845b-b2f9e7d3ca8f",
   "metadata": {},
   "outputs": [
    {
     "data": {
      "image/svg+xml": [
       "<?xml version=\"1.0\" encoding=\"utf-8\"?>\n",
       "<svg xmlns=\"http://www.w3.org/2000/svg\" xmlns:xlink=\"http://www.w3.org/1999/xlink\" width=\"600\" height=\"400\" viewBox=\"0 0 2400 1600\">\n",
       "<defs>\n",
       "  <clipPath id=\"clip800\">\n",
       "    <rect x=\"0\" y=\"0\" width=\"2400\" height=\"1600\"/>\n",
       "  </clipPath>\n",
       "</defs>\n",
       "<path clip-path=\"url(#clip800)\" d=\"\n",
       "M0 1600 L2400 1600 L2400 0 L0 0  Z\n",
       "  \" fill=\"#ffffff\" fill-rule=\"evenodd\" fill-opacity=\"1\"/>\n",
       "<defs>\n",
       "  <clipPath id=\"clip801\">\n",
       "    <rect x=\"480\" y=\"0\" width=\"1681\" height=\"1600\"/>\n",
       "  </clipPath>\n",
       "</defs>\n",
       "<path clip-path=\"url(#clip800)\" d=\"\n",
       "M184.191 1486.45 L2352.76 1486.45 L2352.76 47.2441 L184.191 47.2441  Z\n",
       "  \" fill=\"#ffffff\" fill-rule=\"evenodd\" fill-opacity=\"1\"/>\n",
       "<defs>\n",
       "  <clipPath id=\"clip802\">\n",
       "    <rect x=\"184\" y=\"47\" width=\"2170\" height=\"1440\"/>\n",
       "  </clipPath>\n",
       "</defs>\n",
       "<polyline clip-path=\"url(#clip802)\" style=\"stroke:#000000; stroke-linecap:butt; stroke-linejoin:round; stroke-width:2; stroke-opacity:0.1; fill:none\" points=\"\n",
       "  654.728,1486.45 654.728,47.2441 \n",
       "  \"/>\n",
       "<polyline clip-path=\"url(#clip802)\" style=\"stroke:#000000; stroke-linecap:butt; stroke-linejoin:round; stroke-width:2; stroke-opacity:0.1; fill:none\" points=\"\n",
       "  1166.18,1486.45 1166.18,47.2441 \n",
       "  \"/>\n",
       "<polyline clip-path=\"url(#clip802)\" style=\"stroke:#000000; stroke-linecap:butt; stroke-linejoin:round; stroke-width:2; stroke-opacity:0.1; fill:none\" points=\"\n",
       "  1677.64,1486.45 1677.64,47.2441 \n",
       "  \"/>\n",
       "<polyline clip-path=\"url(#clip802)\" style=\"stroke:#000000; stroke-linecap:butt; stroke-linejoin:round; stroke-width:2; stroke-opacity:0.1; fill:none\" points=\"\n",
       "  2189.09,1486.45 2189.09,47.2441 \n",
       "  \"/>\n",
       "<polyline clip-path=\"url(#clip800)\" style=\"stroke:#000000; stroke-linecap:butt; stroke-linejoin:round; stroke-width:4; stroke-opacity:1; fill:none\" points=\"\n",
       "  184.191,1486.45 2352.76,1486.45 \n",
       "  \"/>\n",
       "<polyline clip-path=\"url(#clip800)\" style=\"stroke:#000000; stroke-linecap:butt; stroke-linejoin:round; stroke-width:4; stroke-opacity:1; fill:none\" points=\"\n",
       "  654.728,1486.45 654.728,1467.55 \n",
       "  \"/>\n",
       "<polyline clip-path=\"url(#clip800)\" style=\"stroke:#000000; stroke-linecap:butt; stroke-linejoin:round; stroke-width:4; stroke-opacity:1; fill:none\" points=\"\n",
       "  1166.18,1486.45 1166.18,1467.55 \n",
       "  \"/>\n",
       "<polyline clip-path=\"url(#clip800)\" style=\"stroke:#000000; stroke-linecap:butt; stroke-linejoin:round; stroke-width:4; stroke-opacity:1; fill:none\" points=\"\n",
       "  1677.64,1486.45 1677.64,1467.55 \n",
       "  \"/>\n",
       "<polyline clip-path=\"url(#clip800)\" style=\"stroke:#000000; stroke-linecap:butt; stroke-linejoin:round; stroke-width:4; stroke-opacity:1; fill:none\" points=\"\n",
       "  2189.09,1486.45 2189.09,1467.55 \n",
       "  \"/>\n",
       "<path clip-path=\"url(#clip800)\" d=\"M645.006 1512.56 L663.363 1512.56 L663.363 1516.5 L649.289 1516.5 L649.289 1524.97 Q650.307 1524.62 651.326 1524.46 Q652.344 1524.27 653.363 1524.27 Q659.15 1524.27 662.529 1527.44 Q665.909 1530.62 665.909 1536.03 Q665.909 1541.61 662.437 1544.71 Q658.965 1547.79 652.645 1547.79 Q650.469 1547.79 648.201 1547.42 Q645.955 1547.05 643.548 1546.31 L643.548 1541.61 Q645.631 1542.74 647.853 1543.3 Q650.076 1543.86 652.553 1543.86 Q656.557 1543.86 658.895 1541.75 Q661.233 1539.64 661.233 1536.03 Q661.233 1532.42 658.895 1530.31 Q656.557 1528.21 652.553 1528.21 Q650.678 1528.21 648.803 1528.62 Q646.951 1529.04 645.006 1529.92 L645.006 1512.56 Z\" fill=\"#000000\" fill-rule=\"evenodd\" fill-opacity=\"1\" /><path clip-path=\"url(#clip800)\" d=\"M1140.87 1543.18 L1148.51 1543.18 L1148.51 1516.82 L1140.2 1518.49 L1140.2 1514.23 L1148.46 1512.56 L1153.14 1512.56 L1153.14 1543.18 L1160.78 1543.18 L1160.78 1547.12 L1140.87 1547.12 L1140.87 1543.18 Z\" fill=\"#000000\" fill-rule=\"evenodd\" fill-opacity=\"1\" /><path clip-path=\"url(#clip800)\" d=\"M1180.22 1515.64 Q1176.61 1515.64 1174.78 1519.2 Q1172.98 1522.75 1172.98 1529.87 Q1172.98 1536.98 1174.78 1540.55 Q1176.61 1544.09 1180.22 1544.09 Q1183.86 1544.09 1185.66 1540.55 Q1187.49 1536.98 1187.49 1529.87 Q1187.49 1522.75 1185.66 1519.2 Q1183.86 1515.64 1180.22 1515.64 M1180.22 1511.93 Q1186.03 1511.93 1189.09 1516.54 Q1192.17 1521.12 1192.17 1529.87 Q1192.17 1538.6 1189.09 1543.21 Q1186.03 1547.79 1180.22 1547.79 Q1174.41 1547.79 1171.33 1543.21 Q1168.28 1538.6 1168.28 1529.87 Q1168.28 1521.12 1171.33 1516.54 Q1174.41 1511.93 1180.22 1511.93 Z\" fill=\"#000000\" fill-rule=\"evenodd\" fill-opacity=\"1\" /><path clip-path=\"url(#clip800)\" d=\"M1652.82 1543.18 L1660.46 1543.18 L1660.46 1516.82 L1652.15 1518.49 L1652.15 1514.23 L1660.41 1512.56 L1665.09 1512.56 L1665.09 1543.18 L1672.73 1543.18 L1672.73 1547.12 L1652.82 1547.12 L1652.82 1543.18 Z\" fill=\"#000000\" fill-rule=\"evenodd\" fill-opacity=\"1\" /><path clip-path=\"url(#clip800)\" d=\"M1682.22 1512.56 L1700.58 1512.56 L1700.58 1516.5 L1686.5 1516.5 L1686.5 1524.97 Q1687.52 1524.62 1688.54 1524.46 Q1689.56 1524.27 1690.58 1524.27 Q1696.36 1524.27 1699.74 1527.44 Q1703.12 1530.62 1703.12 1536.03 Q1703.12 1541.61 1699.65 1544.71 Q1696.18 1547.79 1689.86 1547.79 Q1687.68 1547.79 1685.41 1547.42 Q1683.17 1547.05 1680.76 1546.31 L1680.76 1541.61 Q1682.84 1542.74 1685.07 1543.3 Q1687.29 1543.86 1689.77 1543.86 Q1693.77 1543.86 1696.11 1541.75 Q1698.45 1539.64 1698.45 1536.03 Q1698.45 1532.42 1696.11 1530.31 Q1693.77 1528.21 1689.77 1528.21 Q1687.89 1528.21 1686.02 1528.62 Q1684.16 1529.04 1682.22 1529.92 L1682.22 1512.56 Z\" fill=\"#000000\" fill-rule=\"evenodd\" fill-opacity=\"1\" /><path clip-path=\"url(#clip800)\" d=\"M2167.86 1543.18 L2184.18 1543.18 L2184.18 1547.12 L2162.24 1547.12 L2162.24 1543.18 Q2164.9 1540.43 2169.48 1535.8 Q2174.09 1531.15 2175.27 1529.81 Q2177.52 1527.28 2178.4 1525.55 Q2179.3 1523.79 2179.3 1522.1 Q2179.3 1519.34 2177.35 1517.61 Q2175.43 1515.87 2172.33 1515.87 Q2170.13 1515.87 2167.68 1516.63 Q2165.25 1517.4 2162.47 1518.95 L2162.47 1514.23 Q2165.29 1513.09 2167.75 1512.51 Q2170.2 1511.93 2172.24 1511.93 Q2177.61 1511.93 2180.8 1514.62 Q2184 1517.31 2184 1521.8 Q2184 1523.93 2183.19 1525.85 Q2182.4 1527.74 2180.29 1530.34 Q2179.72 1531.01 2176.61 1534.23 Q2173.51 1537.42 2167.86 1543.18 Z\" fill=\"#000000\" fill-rule=\"evenodd\" fill-opacity=\"1\" /><path clip-path=\"url(#clip800)\" d=\"M2204 1515.64 Q2200.39 1515.64 2198.56 1519.2 Q2196.75 1522.75 2196.75 1529.87 Q2196.75 1536.98 2198.56 1540.55 Q2200.39 1544.09 2204 1544.09 Q2207.63 1544.09 2209.44 1540.55 Q2211.27 1536.98 2211.27 1529.87 Q2211.27 1522.75 2209.44 1519.2 Q2207.63 1515.64 2204 1515.64 M2204 1511.93 Q2209.81 1511.93 2212.86 1516.54 Q2215.94 1521.12 2215.94 1529.87 Q2215.94 1538.6 2212.86 1543.21 Q2209.81 1547.79 2204 1547.79 Q2198.19 1547.79 2195.11 1543.21 Q2192.05 1538.6 2192.05 1529.87 Q2192.05 1521.12 2195.11 1516.54 Q2198.19 1511.93 2204 1511.93 Z\" fill=\"#000000\" fill-rule=\"evenodd\" fill-opacity=\"1\" /><polyline clip-path=\"url(#clip802)\" style=\"stroke:#000000; stroke-linecap:butt; stroke-linejoin:round; stroke-width:2; stroke-opacity:0.1; fill:none\" points=\"\n",
       "  184.191,1445.72 2352.76,1445.72 \n",
       "  \"/>\n",
       "<polyline clip-path=\"url(#clip802)\" style=\"stroke:#000000; stroke-linecap:butt; stroke-linejoin:round; stroke-width:2; stroke-opacity:0.1; fill:none\" points=\"\n",
       "  184.191,1101.66 2352.76,1101.66 \n",
       "  \"/>\n",
       "<polyline clip-path=\"url(#clip802)\" style=\"stroke:#000000; stroke-linecap:butt; stroke-linejoin:round; stroke-width:2; stroke-opacity:0.1; fill:none\" points=\"\n",
       "  184.191,757.607 2352.76,757.607 \n",
       "  \"/>\n",
       "<polyline clip-path=\"url(#clip802)\" style=\"stroke:#000000; stroke-linecap:butt; stroke-linejoin:round; stroke-width:2; stroke-opacity:0.1; fill:none\" points=\"\n",
       "  184.191,413.553 2352.76,413.553 \n",
       "  \"/>\n",
       "<polyline clip-path=\"url(#clip802)\" style=\"stroke:#000000; stroke-linecap:butt; stroke-linejoin:round; stroke-width:2; stroke-opacity:0.1; fill:none\" points=\"\n",
       "  184.191,69.4983 2352.76,69.4983 \n",
       "  \"/>\n",
       "<polyline clip-path=\"url(#clip800)\" style=\"stroke:#000000; stroke-linecap:butt; stroke-linejoin:round; stroke-width:4; stroke-opacity:1; fill:none\" points=\"\n",
       "  184.191,1486.45 184.191,47.2441 \n",
       "  \"/>\n",
       "<polyline clip-path=\"url(#clip800)\" style=\"stroke:#000000; stroke-linecap:butt; stroke-linejoin:round; stroke-width:4; stroke-opacity:1; fill:none\" points=\"\n",
       "  184.191,1445.72 203.088,1445.72 \n",
       "  \"/>\n",
       "<polyline clip-path=\"url(#clip800)\" style=\"stroke:#000000; stroke-linecap:butt; stroke-linejoin:round; stroke-width:4; stroke-opacity:1; fill:none\" points=\"\n",
       "  184.191,1101.66 203.088,1101.66 \n",
       "  \"/>\n",
       "<polyline clip-path=\"url(#clip800)\" style=\"stroke:#000000; stroke-linecap:butt; stroke-linejoin:round; stroke-width:4; stroke-opacity:1; fill:none\" points=\"\n",
       "  184.191,757.607 203.088,757.607 \n",
       "  \"/>\n",
       "<polyline clip-path=\"url(#clip800)\" style=\"stroke:#000000; stroke-linecap:butt; stroke-linejoin:round; stroke-width:4; stroke-opacity:1; fill:none\" points=\"\n",
       "  184.191,413.553 203.088,413.553 \n",
       "  \"/>\n",
       "<polyline clip-path=\"url(#clip800)\" style=\"stroke:#000000; stroke-linecap:butt; stroke-linejoin:round; stroke-width:4; stroke-opacity:1; fill:none\" points=\"\n",
       "  184.191,69.4983 203.088,69.4983 \n",
       "  \"/>\n",
       "<path clip-path=\"url(#clip800)\" d=\"M91.0151 1431.51 Q87.404 1431.51 85.5753 1435.08 Q83.7697 1438.62 83.7697 1445.75 Q83.7697 1452.86 85.5753 1456.42 Q87.404 1459.96 91.0151 1459.96 Q94.6493 1459.96 96.4548 1456.42 Q98.2835 1452.86 98.2835 1445.75 Q98.2835 1438.62 96.4548 1435.08 Q94.6493 1431.51 91.0151 1431.51 M91.0151 1427.81 Q96.8252 1427.81 99.8808 1432.42 Q102.959 1437 102.959 1445.75 Q102.959 1454.48 99.8808 1459.08 Q96.8252 1463.67 91.0151 1463.67 Q85.2049 1463.67 82.1262 1459.08 Q79.0707 1454.48 79.0707 1445.75 Q79.0707 1437 82.1262 1432.42 Q85.2049 1427.81 91.0151 1427.81 Z\" fill=\"#000000\" fill-rule=\"evenodd\" fill-opacity=\"1\" /><path clip-path=\"url(#clip800)\" d=\"M111.177 1457.12 L116.061 1457.12 L116.061 1463 L111.177 1463 L111.177 1457.12 Z\" fill=\"#000000\" fill-rule=\"evenodd\" fill-opacity=\"1\" /><path clip-path=\"url(#clip800)\" d=\"M136.246 1431.51 Q132.635 1431.51 130.807 1435.08 Q129.001 1438.62 129.001 1445.75 Q129.001 1452.86 130.807 1456.42 Q132.635 1459.96 136.246 1459.96 Q139.881 1459.96 141.686 1456.42 Q143.515 1452.86 143.515 1445.75 Q143.515 1438.62 141.686 1435.08 Q139.881 1431.51 136.246 1431.51 M136.246 1427.81 Q142.056 1427.81 145.112 1432.42 Q148.191 1437 148.191 1445.75 Q148.191 1454.48 145.112 1459.08 Q142.056 1463.67 136.246 1463.67 Q130.436 1463.67 127.357 1459.08 Q124.302 1454.48 124.302 1445.75 Q124.302 1437 127.357 1432.42 Q130.436 1427.81 136.246 1427.81 Z\" fill=\"#000000\" fill-rule=\"evenodd\" fill-opacity=\"1\" /><path clip-path=\"url(#clip800)\" d=\"M86.0382 1115.01 L102.358 1115.01 L102.358 1118.94 L80.4133 1118.94 L80.4133 1115.01 Q83.0753 1112.25 87.6586 1107.62 Q92.2651 1102.97 93.4456 1101.63 Q95.691 1099.1 96.5706 1097.37 Q97.4734 1095.61 97.4734 1093.92 Q97.4734 1091.16 95.5289 1089.43 Q93.6076 1087.69 90.5058 1087.69 Q88.3067 1087.69 85.8531 1088.46 Q83.4225 1089.22 80.6447 1090.77 L80.6447 1086.05 Q83.4688 1084.91 85.9225 1084.34 Q88.3762 1083.76 90.4132 1083.76 Q95.7836 1083.76 98.978 1086.44 Q102.172 1089.13 102.172 1093.62 Q102.172 1095.75 101.362 1097.67 Q100.575 1099.57 98.4687 1102.16 Q97.89 1102.83 94.7882 1106.05 Q91.6864 1109.24 86.0382 1115.01 Z\" fill=\"#000000\" fill-rule=\"evenodd\" fill-opacity=\"1\" /><path clip-path=\"url(#clip800)\" d=\"M112.172 1113.06 L117.057 1113.06 L117.057 1118.94 L112.172 1118.94 L112.172 1113.06 Z\" fill=\"#000000\" fill-rule=\"evenodd\" fill-opacity=\"1\" /><path clip-path=\"url(#clip800)\" d=\"M127.288 1084.38 L145.644 1084.38 L145.644 1088.32 L131.57 1088.32 L131.57 1096.79 Q132.589 1096.44 133.607 1096.28 Q134.626 1096.09 135.644 1096.09 Q141.431 1096.09 144.811 1099.27 Q148.191 1102.44 148.191 1107.85 Q148.191 1113.43 144.718 1116.53 Q141.246 1119.61 134.927 1119.61 Q132.751 1119.61 130.482 1119.24 Q128.237 1118.87 125.83 1118.13 L125.83 1113.43 Q127.913 1114.57 130.135 1115.12 Q132.357 1115.68 134.834 1115.68 Q138.839 1115.68 141.177 1113.57 Q143.515 1111.46 143.515 1107.85 Q143.515 1104.24 141.177 1102.14 Q138.839 1100.03 134.834 1100.03 Q132.959 1100.03 131.084 1100.45 Q129.232 1100.86 127.288 1101.74 L127.288 1084.38 Z\" fill=\"#000000\" fill-rule=\"evenodd\" fill-opacity=\"1\" /><path clip-path=\"url(#clip800)\" d=\"M81.0614 740.327 L99.4178 740.327 L99.4178 744.262 L85.3438 744.262 L85.3438 752.734 Q86.3623 752.387 87.3808 752.225 Q88.3993 752.04 89.4178 752.04 Q95.2049 752.04 98.5845 755.211 Q101.964 758.382 101.964 763.799 Q101.964 769.378 98.4919 772.48 Q95.0197 775.558 88.7003 775.558 Q86.5243 775.558 84.2558 775.188 Q82.0105 774.818 79.6031 774.077 L79.6031 769.378 Q81.6864 770.512 83.9086 771.068 Q86.1308 771.623 88.6077 771.623 Q92.6123 771.623 94.9502 769.517 Q97.2882 767.41 97.2882 763.799 Q97.2882 760.188 94.9502 758.082 Q92.6123 755.975 88.6077 755.975 Q86.7327 755.975 84.8577 756.392 Q83.0058 756.808 81.0614 757.688 L81.0614 740.327 Z\" fill=\"#000000\" fill-rule=\"evenodd\" fill-opacity=\"1\" /><path clip-path=\"url(#clip800)\" d=\"M111.177 769.007 L116.061 769.007 L116.061 774.887 L111.177 774.887 L111.177 769.007 Z\" fill=\"#000000\" fill-rule=\"evenodd\" fill-opacity=\"1\" /><path clip-path=\"url(#clip800)\" d=\"M136.246 743.406 Q132.635 743.406 130.807 746.97 Q129.001 750.512 129.001 757.642 Q129.001 764.748 130.807 768.313 Q132.635 771.855 136.246 771.855 Q139.881 771.855 141.686 768.313 Q143.515 764.748 143.515 757.642 Q143.515 750.512 141.686 746.97 Q139.881 743.406 136.246 743.406 M136.246 739.702 Q142.056 739.702 145.112 744.308 Q148.191 748.892 148.191 757.642 Q148.191 766.369 145.112 770.975 Q142.056 775.558 136.246 775.558 Q130.436 775.558 127.357 770.975 Q124.302 766.369 124.302 757.642 Q124.302 748.892 127.357 744.308 Q130.436 739.702 136.246 739.702 Z\" fill=\"#000000\" fill-rule=\"evenodd\" fill-opacity=\"1\" /><path clip-path=\"url(#clip800)\" d=\"M80.8299 396.273 L103.052 396.273 L103.052 398.263 L90.5058 430.833 L85.6216 430.833 L97.4271 400.208 L80.8299 400.208 L80.8299 396.273 Z\" fill=\"#000000\" fill-rule=\"evenodd\" fill-opacity=\"1\" /><path clip-path=\"url(#clip800)\" d=\"M112.172 424.953 L117.057 424.953 L117.057 430.833 L112.172 430.833 L112.172 424.953 Z\" fill=\"#000000\" fill-rule=\"evenodd\" fill-opacity=\"1\" /><path clip-path=\"url(#clip800)\" d=\"M127.288 396.273 L145.644 396.273 L145.644 400.208 L131.57 400.208 L131.57 408.68 Q132.589 408.333 133.607 408.171 Q134.626 407.986 135.644 407.986 Q141.431 407.986 144.811 411.157 Q148.191 414.328 148.191 419.745 Q148.191 425.323 144.718 428.425 Q141.246 431.504 134.927 431.504 Q132.751 431.504 130.482 431.134 Q128.237 430.763 125.83 430.022 L125.83 425.323 Q127.913 426.458 130.135 427.013 Q132.357 427.569 134.834 427.569 Q138.839 427.569 141.177 425.462 Q143.515 423.356 143.515 419.745 Q143.515 416.134 141.177 414.027 Q138.839 411.921 134.834 411.921 Q132.959 411.921 131.084 412.337 Q129.232 412.754 127.288 413.634 L127.288 396.273 Z\" fill=\"#000000\" fill-rule=\"evenodd\" fill-opacity=\"1\" /><path clip-path=\"url(#clip800)\" d=\"M51.6634 82.8431 L59.3023 82.8431 L59.3023 56.4775 L50.9921 58.1441 L50.9921 53.8849 L59.256 52.2183 L63.9319 52.2183 L63.9319 82.8431 L71.5707 82.8431 L71.5707 86.7783 L51.6634 86.7783 L51.6634 82.8431 Z\" fill=\"#000000\" fill-rule=\"evenodd\" fill-opacity=\"1\" /><path clip-path=\"url(#clip800)\" d=\"M91.0151 55.2969 Q87.404 55.2969 85.5753 58.8617 Q83.7697 62.4034 83.7697 69.533 Q83.7697 76.6394 85.5753 80.2042 Q87.404 83.7459 91.0151 83.7459 Q94.6493 83.7459 96.4548 80.2042 Q98.2835 76.6394 98.2835 69.533 Q98.2835 62.4034 96.4548 58.8617 Q94.6493 55.2969 91.0151 55.2969 M91.0151 51.5933 Q96.8252 51.5933 99.8808 56.1997 Q102.959 60.783 102.959 69.533 Q102.959 78.2598 99.8808 82.8662 Q96.8252 87.4495 91.0151 87.4495 Q85.2049 87.4495 82.1262 82.8662 Q79.0707 78.2598 79.0707 69.533 Q79.0707 60.783 82.1262 56.1997 Q85.2049 51.5933 91.0151 51.5933 Z\" fill=\"#000000\" fill-rule=\"evenodd\" fill-opacity=\"1\" /><path clip-path=\"url(#clip800)\" d=\"M111.177 80.8987 L116.061 80.8987 L116.061 86.7783 L111.177 86.7783 L111.177 80.8987 Z\" fill=\"#000000\" fill-rule=\"evenodd\" fill-opacity=\"1\" /><path clip-path=\"url(#clip800)\" d=\"M136.246 55.2969 Q132.635 55.2969 130.807 58.8617 Q129.001 62.4034 129.001 69.533 Q129.001 76.6394 130.807 80.2042 Q132.635 83.7459 136.246 83.7459 Q139.881 83.7459 141.686 80.2042 Q143.515 76.6394 143.515 69.533 Q143.515 62.4034 141.686 58.8617 Q139.881 55.2969 136.246 55.2969 M136.246 51.5933 Q142.056 51.5933 145.112 56.1997 Q148.191 60.783 148.191 69.533 Q148.191 78.2598 145.112 82.8662 Q142.056 87.4495 136.246 87.4495 Q130.436 87.4495 127.357 82.8662 Q124.302 78.2598 124.302 69.533 Q124.302 60.783 127.357 56.1997 Q130.436 51.5933 136.246 51.5933 Z\" fill=\"#000000\" fill-rule=\"evenodd\" fill-opacity=\"1\" /><circle clip-path=\"url(#clip802)\" cx=\"245.565\" cy=\"1445.72\" r=\"14\" fill=\"#009af9\" fill-rule=\"evenodd\" fill-opacity=\"1\" stroke=\"#000000\" stroke-opacity=\"1\" stroke-width=\"3.2\"/>\n",
       "<circle clip-path=\"url(#clip802)\" cx=\"347.856\" cy=\"1308.09\" r=\"14\" fill=\"#009af9\" fill-rule=\"evenodd\" fill-opacity=\"1\" stroke=\"#000000\" stroke-opacity=\"1\" stroke-width=\"3.2\"/>\n",
       "<circle clip-path=\"url(#clip802)\" cx=\"450.147\" cy=\"1227.59\" r=\"14\" fill=\"#009af9\" fill-rule=\"evenodd\" fill-opacity=\"1\" stroke=\"#000000\" stroke-opacity=\"1\" stroke-width=\"3.2\"/>\n",
       "<circle clip-path=\"url(#clip802)\" cx=\"552.438\" cy=\"1170.47\" r=\"14\" fill=\"#009af9\" fill-rule=\"evenodd\" fill-opacity=\"1\" stroke=\"#000000\" stroke-opacity=\"1\" stroke-width=\"3.2\"/>\n",
       "<circle clip-path=\"url(#clip802)\" cx=\"654.728\" cy=\"1126.17\" r=\"14\" fill=\"#009af9\" fill-rule=\"evenodd\" fill-opacity=\"1\" stroke=\"#000000\" stroke-opacity=\"1\" stroke-width=\"3.2\"/>\n",
       "<circle clip-path=\"url(#clip802)\" cx=\"757.019\" cy=\"1089.97\" r=\"14\" fill=\"#009af9\" fill-rule=\"evenodd\" fill-opacity=\"1\" stroke=\"#000000\" stroke-opacity=\"1\" stroke-width=\"3.2\"/>\n",
       "<circle clip-path=\"url(#clip802)\" cx=\"859.31\" cy=\"1059.36\" r=\"14\" fill=\"#009af9\" fill-rule=\"evenodd\" fill-opacity=\"1\" stroke=\"#000000\" stroke-opacity=\"1\" stroke-width=\"3.2\"/>\n",
       "<circle clip-path=\"url(#clip802)\" cx=\"961.601\" cy=\"599.377\" r=\"14\" fill=\"#009af9\" fill-rule=\"evenodd\" fill-opacity=\"1\" stroke=\"#000000\" stroke-opacity=\"1\" stroke-width=\"3.2\"/>\n",
       "<circle clip-path=\"url(#clip802)\" cx=\"1063.89\" cy=\"596.6\" r=\"14\" fill=\"#009af9\" fill-rule=\"evenodd\" fill-opacity=\"1\" stroke=\"#000000\" stroke-opacity=\"1\" stroke-width=\"3.2\"/>\n",
       "<circle clip-path=\"url(#clip802)\" cx=\"1166.18\" cy=\"593.861\" r=\"14\" fill=\"#009af9\" fill-rule=\"evenodd\" fill-opacity=\"1\" stroke=\"#000000\" stroke-opacity=\"1\" stroke-width=\"3.2\"/>\n",
       "<circle clip-path=\"url(#clip802)\" cx=\"1268.47\" cy=\"591.16\" r=\"14\" fill=\"#009af9\" fill-rule=\"evenodd\" fill-opacity=\"1\" stroke=\"#000000\" stroke-opacity=\"1\" stroke-width=\"3.2\"/>\n",
       "<circle clip-path=\"url(#clip802)\" cx=\"1370.76\" cy=\"588.495\" r=\"14\" fill=\"#009af9\" fill-rule=\"evenodd\" fill-opacity=\"1\" stroke=\"#000000\" stroke-opacity=\"1\" stroke-width=\"3.2\"/>\n",
       "<circle clip-path=\"url(#clip802)\" cx=\"1473.05\" cy=\"585.865\" r=\"14\" fill=\"#009af9\" fill-rule=\"evenodd\" fill-opacity=\"1\" stroke=\"#000000\" stroke-opacity=\"1\" stroke-width=\"3.2\"/>\n",
       "<circle clip-path=\"url(#clip802)\" cx=\"1575.35\" cy=\"583.27\" r=\"14\" fill=\"#009af9\" fill-rule=\"evenodd\" fill-opacity=\"1\" stroke=\"#000000\" stroke-opacity=\"1\" stroke-width=\"3.2\"/>\n",
       "<circle clip-path=\"url(#clip802)\" cx=\"1677.64\" cy=\"580.708\" r=\"14\" fill=\"#009af9\" fill-rule=\"evenodd\" fill-opacity=\"1\" stroke=\"#000000\" stroke-opacity=\"1\" stroke-width=\"3.2\"/>\n",
       "<circle clip-path=\"url(#clip802)\" cx=\"1779.93\" cy=\"578.178\" r=\"14\" fill=\"#009af9\" fill-rule=\"evenodd\" fill-opacity=\"1\" stroke=\"#000000\" stroke-opacity=\"1\" stroke-width=\"3.2\"/>\n",
       "<circle clip-path=\"url(#clip802)\" cx=\"1882.22\" cy=\"575.681\" r=\"14\" fill=\"#009af9\" fill-rule=\"evenodd\" fill-opacity=\"1\" stroke=\"#000000\" stroke-opacity=\"1\" stroke-width=\"3.2\"/>\n",
       "<circle clip-path=\"url(#clip802)\" cx=\"1984.51\" cy=\"103.461\" r=\"14\" fill=\"#009af9\" fill-rule=\"evenodd\" fill-opacity=\"1\" stroke=\"#000000\" stroke-opacity=\"1\" stroke-width=\"3.2\"/>\n",
       "<circle clip-path=\"url(#clip802)\" cx=\"2086.8\" cy=\"102.085\" r=\"14\" fill=\"#009af9\" fill-rule=\"evenodd\" fill-opacity=\"1\" stroke=\"#000000\" stroke-opacity=\"1\" stroke-width=\"3.2\"/>\n",
       "<circle clip-path=\"url(#clip802)\" cx=\"2189.09\" cy=\"101.857\" r=\"14\" fill=\"#009af9\" fill-rule=\"evenodd\" fill-opacity=\"1\" stroke=\"#000000\" stroke-opacity=\"1\" stroke-width=\"3.2\"/>\n",
       "<circle clip-path=\"url(#clip802)\" cx=\"2291.38\" cy=\"87.9763\" r=\"14\" fill=\"#009af9\" fill-rule=\"evenodd\" fill-opacity=\"1\" stroke=\"#000000\" stroke-opacity=\"1\" stroke-width=\"3.2\"/>\n",
       "<path clip-path=\"url(#clip800)\" d=\"\n",
       "M1987.09 198.898 L2280.47 198.898 L2280.47 95.2176 L1987.09 95.2176  Z\n",
       "  \" fill=\"#ffffff\" fill-rule=\"evenodd\" fill-opacity=\"1\"/>\n",
       "<polyline clip-path=\"url(#clip800)\" style=\"stroke:#000000; stroke-linecap:butt; stroke-linejoin:round; stroke-width:4; stroke-opacity:1; fill:none\" points=\"\n",
       "  1987.09,198.898 2280.47,198.898 2280.47,95.2176 1987.09,95.2176 1987.09,198.898 \n",
       "  \"/>\n",
       "<circle clip-path=\"url(#clip800)\" cx=\"2083.47\" cy=\"147.058\" r=\"23\" fill=\"#009af9\" fill-rule=\"evenodd\" fill-opacity=\"1\" stroke=\"#000000\" stroke-opacity=\"1\" stroke-width=\"5.12\"/>\n",
       "<path clip-path=\"url(#clip800)\" d=\"M2193.69 166.745 Q2191.89 171.375 2190.17 172.787 Q2188.46 174.199 2185.59 174.199 L2182.19 174.199 L2182.19 170.634 L2184.69 170.634 Q2186.45 170.634 2187.42 169.8 Q2188.39 168.967 2189.57 165.865 L2190.34 163.921 L2179.85 138.412 L2184.36 138.412 L2192.47 158.689 L2200.57 138.412 L2205.08 138.412 L2193.69 166.745 Z\" fill=\"#000000\" fill-rule=\"evenodd\" fill-opacity=\"1\" /><path clip-path=\"url(#clip800)\" d=\"M2212.37 160.402 L2220.01 160.402 L2220.01 134.037 L2211.7 135.703 L2211.7 131.444 L2219.97 129.778 L2224.64 129.778 L2224.64 160.402 L2232.28 160.402 L2232.28 164.338 L2212.37 164.338 L2212.37 160.402 Z\" fill=\"#000000\" fill-rule=\"evenodd\" fill-opacity=\"1\" /></svg>\n"
      ]
     },
     "execution_count": 80,
     "metadata": {},
     "output_type": "execute_result"
    }
   ],
   "source": [
    "StatsPlots.scatter(log2.(first.(kmer_counts_histogram)))"
   ]
  },
  {
   "cell_type": "markdown",
   "id": "2f78056b-503a-4bcf-895f-32376b0958bc",
   "metadata": {},
   "source": [
    "# Fit error cluster"
   ]
  },
  {
   "cell_type": "code",
   "execution_count": 81,
   "id": "7820b30b-d290-4f69-82db-358b01df0a97",
   "metadata": {},
   "outputs": [
    {
     "data": {
      "text/plain": [
       "21-element Vector{Float64}:\n",
       " 0.0\n",
       " 1.0\n",
       " 1.584962500721156\n",
       " 2.0\n",
       " 2.321928094887362\n",
       " 2.584962500721156\n",
       " 2.807354922057604\n",
       " 6.149747119504682\n",
       " 6.169925001442312\n",
       " 6.189824558880018\n",
       " 6.20945336562895\n",
       " 6.22881869049588\n",
       " 6.247927513443585\n",
       " 6.266786540694901\n",
       " 6.285402218862249\n",
       " 6.303780748177103\n",
       " 6.321928094887363\n",
       " 9.753216749178955\n",
       " 9.7632123668144\n",
       " 9.76487159073609\n",
       " 9.86573327085176"
      ]
     },
     "execution_count": 81,
     "metadata": {},
     "output_type": "execute_result"
    }
   ],
   "source": [
    "kmer_depth_of_coverage_bins = log2.(first.(kmer_counts_histogram))"
   ]
  },
  {
   "cell_type": "code",
   "execution_count": 82,
   "id": "1013438f-d6d3-4627-aa5a-606623a4ae48",
   "metadata": {},
   "outputs": [
    {
     "data": {
      "text/plain": [
       "21×21 Matrix{Float64}:\n",
       " 0.0      1.0       1.58496   2.0       …  9.76321     9.76487     9.86573\n",
       " 1.0      0.0       0.584963  1.0          8.76321     8.76487     8.86573\n",
       " 1.58496  0.584963  0.0       0.415037     8.17825     8.17991     8.28077\n",
       " 2.0      1.0       0.415037  0.0          7.76321     7.76487     7.86573\n",
       " 2.32193  1.32193   0.736966  0.321928     7.44128     7.44294     7.54381\n",
       " 2.58496  1.58496   1.0       0.584963  …  7.17825     7.17991     7.28077\n",
       " 2.80735  1.80735   1.22239   0.807355     6.95586     6.95752     7.05838\n",
       " 6.14975  5.14975   4.56478   4.14975      3.61347     3.61512     3.71599\n",
       " 6.16993  5.16993   4.58496   4.16993      3.59329     3.59495     3.69581\n",
       " 6.18982  5.18982   4.60486   4.18982      3.57339     3.57505     3.67591\n",
       " 6.20945  5.20945   4.62449   4.20945   …  3.55376     3.55542     3.65628\n",
       " 6.22882  5.22882   4.64386   4.22882      3.53439     3.53605     3.63691\n",
       " 6.24793  5.24793   4.66297   4.24793      3.51528     3.51694     3.61781\n",
       " 6.26679  5.26679   4.68182   4.26679      3.49643     3.49809     3.59895\n",
       " 6.2854   5.2854    4.70044   4.2854       3.47781     3.47947     3.58033\n",
       " 6.30378  5.30378   4.71882   4.30378   …  3.45943     3.46109     3.56195\n",
       " 6.32193  5.32193   4.73697   4.32193      3.44128     3.44294     3.54381\n",
       " 9.75322  8.75322   8.16825   7.75322      0.00999562  0.0116548   0.112517\n",
       " 9.76321  8.76321   8.17825   7.76321      0.0         0.00165922  0.102521\n",
       " 9.76487  8.76487   8.17991   7.76487      0.00165922  0.0         0.100862\n",
       " 9.86573  8.86573   8.28077   7.86573   …  0.102521    0.100862    0.0"
      ]
     },
     "execution_count": 82,
     "metadata": {},
     "output_type": "execute_result"
    }
   ],
   "source": [
    "distance_matrix = zeros((length(kmer_depth_of_coverage_bins), length(kmer_depth_of_coverage_bins)))\n",
    "for (row, depth_of_coverage_bin_1) in enumerate(kmer_depth_of_coverage_bins)\n",
    "    for (col, depth_of_coverage_bin_2) in enumerate(kmer_depth_of_coverage_bins)\n",
    "        distance = abs(depth_of_coverage_bin_1 - depth_of_coverage_bin_2)\n",
    "        distance_matrix[row, col] = distance\n",
    "    end\n",
    "end\n",
    "distance_matrix"
   ]
  },
  {
   "cell_type": "code",
   "execution_count": 83,
   "id": "8ae58b80-4a60-47d0-9232-f38826a44a56",
   "metadata": {},
   "outputs": [],
   "source": [
    "# distance_matrix = zeros((length(kmer_counts_histogram), length(kmer_counts_histogram)))\n",
    "# for (row, kmer_count_pair_1) in enumerate(kmer_counts_histogram)\n",
    "#     for (col, kmer_count_pair_2) in enumerate(kmer_counts_histogram)\n",
    "# #         distance = abs(depth_of_coverage_bin_1 - depth_of_coverage_bin_2)\n",
    "#         distance = Distances.euclidean([kmer_count_pair_1...], [kmer_count_pair_2...])\n",
    "#         distance_matrix[row, col] = distance\n",
    "#     end\n",
    "# end\n",
    "# distance_matrix"
   ]
  },
  {
   "cell_type": "code",
   "execution_count": 84,
   "id": "d1fc1ca1-c020-4ce3-9779-341c1ad3ca07",
   "metadata": {},
   "outputs": [
    {
     "data": {
      "text/plain": [
       "7-element Vector{Float64}:\n",
       " 0.6888401786852689\n",
       " 0.8198797807365382\n",
       " 0.7327209473843409\n",
       " 0.6117007295548419\n",
       " 0.3792933650242293\n",
       " 0.27523722984293314\n",
       " 0.15920503639821224"
      ]
     },
     "execution_count": 84,
     "metadata": {},
     "output_type": "execute_result"
    }
   ],
   "source": [
    "ks = Primes.primes(2, 17)\n",
    "ys = map(k ->\n",
    "            Statistics.mean(Statistics.mean(Clustering.silhouettes(Clustering.kmedoids(distance_matrix, k), distance_matrix)) for i in 1:100),\n",
    "            ks)"
   ]
  },
  {
   "cell_type": "code",
   "execution_count": 85,
   "id": "3228add3-90e3-4081-bddc-92ab31d14682",
   "metadata": {},
   "outputs": [
    {
     "data": {
      "image/svg+xml": [
       "<?xml version=\"1.0\" encoding=\"utf-8\"?>\n",
       "<svg xmlns=\"http://www.w3.org/2000/svg\" xmlns:xlink=\"http://www.w3.org/1999/xlink\" width=\"600\" height=\"400\" viewBox=\"0 0 2400 1600\">\n",
       "<defs>\n",
       "  <clipPath id=\"clip840\">\n",
       "    <rect x=\"0\" y=\"0\" width=\"2400\" height=\"1600\"/>\n",
       "  </clipPath>\n",
       "</defs>\n",
       "<path clip-path=\"url(#clip840)\" d=\"\n",
       "M0 1600 L2400 1600 L2400 0 L0 0  Z\n",
       "  \" fill=\"#ffffff\" fill-rule=\"evenodd\" fill-opacity=\"1\"/>\n",
       "<defs>\n",
       "  <clipPath id=\"clip841\">\n",
       "    <rect x=\"480\" y=\"0\" width=\"1681\" height=\"1600\"/>\n",
       "  </clipPath>\n",
       "</defs>\n",
       "<path clip-path=\"url(#clip840)\" d=\"\n",
       "M219.866 1423.18 L2352.76 1423.18 L2352.76 47.2441 L219.866 47.2441  Z\n",
       "  \" fill=\"#ffffff\" fill-rule=\"evenodd\" fill-opacity=\"1\"/>\n",
       "<defs>\n",
       "  <clipPath id=\"clip842\">\n",
       "    <rect x=\"219\" y=\"47\" width=\"2134\" height=\"1377\"/>\n",
       "  </clipPath>\n",
       "</defs>\n",
       "<polyline clip-path=\"url(#clip842)\" style=\"stroke:#000000; stroke-linecap:butt; stroke-linejoin:round; stroke-width:2; stroke-opacity:0.1; fill:none\" points=\"\n",
       "  414.375,1423.18 414.375,47.2441 \n",
       "  \"/>\n",
       "<polyline clip-path=\"url(#clip842)\" style=\"stroke:#000000; stroke-linecap:butt; stroke-linejoin:round; stroke-width:2; stroke-opacity:0.1; fill:none\" points=\"\n",
       "  816.807,1423.18 816.807,47.2441 \n",
       "  \"/>\n",
       "<polyline clip-path=\"url(#clip842)\" style=\"stroke:#000000; stroke-linecap:butt; stroke-linejoin:round; stroke-width:2; stroke-opacity:0.1; fill:none\" points=\"\n",
       "  1219.24,1423.18 1219.24,47.2441 \n",
       "  \"/>\n",
       "<polyline clip-path=\"url(#clip842)\" style=\"stroke:#000000; stroke-linecap:butt; stroke-linejoin:round; stroke-width:2; stroke-opacity:0.1; fill:none\" points=\"\n",
       "  1621.67,1423.18 1621.67,47.2441 \n",
       "  \"/>\n",
       "<polyline clip-path=\"url(#clip842)\" style=\"stroke:#000000; stroke-linecap:butt; stroke-linejoin:round; stroke-width:2; stroke-opacity:0.1; fill:none\" points=\"\n",
       "  2024.1,1423.18 2024.1,47.2441 \n",
       "  \"/>\n",
       "<polyline clip-path=\"url(#clip840)\" style=\"stroke:#000000; stroke-linecap:butt; stroke-linejoin:round; stroke-width:4; stroke-opacity:1; fill:none\" points=\"\n",
       "  219.866,1423.18 2352.76,1423.18 \n",
       "  \"/>\n",
       "<polyline clip-path=\"url(#clip840)\" style=\"stroke:#000000; stroke-linecap:butt; stroke-linejoin:round; stroke-width:4; stroke-opacity:1; fill:none\" points=\"\n",
       "  414.375,1423.18 414.375,1404.28 \n",
       "  \"/>\n",
       "<polyline clip-path=\"url(#clip840)\" style=\"stroke:#000000; stroke-linecap:butt; stroke-linejoin:round; stroke-width:4; stroke-opacity:1; fill:none\" points=\"\n",
       "  816.807,1423.18 816.807,1404.28 \n",
       "  \"/>\n",
       "<polyline clip-path=\"url(#clip840)\" style=\"stroke:#000000; stroke-linecap:butt; stroke-linejoin:round; stroke-width:4; stroke-opacity:1; fill:none\" points=\"\n",
       "  1219.24,1423.18 1219.24,1404.28 \n",
       "  \"/>\n",
       "<polyline clip-path=\"url(#clip840)\" style=\"stroke:#000000; stroke-linecap:butt; stroke-linejoin:round; stroke-width:4; stroke-opacity:1; fill:none\" points=\"\n",
       "  1621.67,1423.18 1621.67,1404.28 \n",
       "  \"/>\n",
       "<polyline clip-path=\"url(#clip840)\" style=\"stroke:#000000; stroke-linecap:butt; stroke-linejoin:round; stroke-width:4; stroke-opacity:1; fill:none\" points=\"\n",
       "  2024.1,1423.18 2024.1,1404.28 \n",
       "  \"/>\n",
       "<path clip-path=\"url(#clip840)\" d=\"M418.623 1465.22 Q421.979 1465.94 423.854 1468.2 Q425.752 1470.47 425.752 1473.81 Q425.752 1478.92 422.234 1481.72 Q418.715 1484.52 412.234 1484.52 Q410.058 1484.52 407.743 1484.08 Q405.452 1483.67 402.998 1482.81 L402.998 1478.3 Q404.942 1479.43 407.257 1480.01 Q409.572 1480.59 412.095 1480.59 Q416.493 1480.59 418.785 1478.85 Q421.1 1477.12 421.1 1473.81 Q421.1 1470.75 418.947 1469.04 Q416.817 1467.3 412.998 1467.3 L408.97 1467.3 L408.97 1463.46 L413.183 1463.46 Q416.632 1463.46 418.461 1462.09 Q420.289 1460.7 420.289 1458.11 Q420.289 1455.45 418.391 1454.04 Q416.516 1452.6 412.998 1452.6 Q411.076 1452.6 408.877 1453.02 Q406.678 1453.44 404.039 1454.31 L404.039 1450.15 Q406.701 1449.41 409.016 1449.04 Q411.354 1448.67 413.414 1448.67 Q418.738 1448.67 421.84 1451.1 Q424.942 1453.5 424.942 1457.63 Q424.942 1460.5 423.299 1462.49 Q421.655 1464.45 418.623 1465.22 Z\" fill=\"#000000\" fill-rule=\"evenodd\" fill-opacity=\"1\" /><path clip-path=\"url(#clip840)\" d=\"M817.212 1464.71 Q814.064 1464.71 812.212 1466.86 Q810.384 1469.01 810.384 1472.76 Q810.384 1476.49 812.212 1478.67 Q814.064 1480.82 817.212 1480.82 Q820.36 1480.82 822.189 1478.67 Q824.041 1476.49 824.041 1472.76 Q824.041 1469.01 822.189 1466.86 Q820.36 1464.71 817.212 1464.71 M826.495 1450.06 L826.495 1454.31 Q824.735 1453.48 822.93 1453.04 Q821.147 1452.6 819.388 1452.6 Q814.758 1452.6 812.305 1455.73 Q809.874 1458.85 809.527 1465.17 Q810.893 1463.16 812.953 1462.09 Q815.013 1461 817.49 1461 Q822.698 1461 825.707 1464.18 Q828.74 1467.32 828.74 1472.76 Q828.74 1478.09 825.592 1481.31 Q822.444 1484.52 817.212 1484.52 Q811.217 1484.52 808.046 1479.94 Q804.874 1475.33 804.874 1466.61 Q804.874 1458.41 808.763 1453.55 Q812.652 1448.67 819.203 1448.67 Q820.962 1448.67 822.745 1449.01 Q824.55 1449.36 826.495 1450.06 Z\" fill=\"#000000\" fill-rule=\"evenodd\" fill-opacity=\"1\" /><path clip-path=\"url(#clip840)\" d=\"M1209.54 1483.13 L1209.54 1478.88 Q1211.3 1479.71 1213.1 1480.15 Q1214.91 1480.59 1216.65 1480.59 Q1221.28 1480.59 1223.71 1477.49 Q1226.16 1474.36 1226.51 1468.02 Q1225.16 1470.01 1223.1 1471.07 Q1221.04 1472.14 1218.54 1472.14 Q1213.36 1472.14 1210.33 1469.01 Q1207.32 1465.87 1207.32 1460.43 Q1207.32 1455.1 1210.47 1451.88 Q1213.61 1448.67 1218.85 1448.67 Q1224.84 1448.67 1227.99 1453.27 Q1231.16 1457.86 1231.16 1466.61 Q1231.16 1474.78 1227.27 1479.66 Q1223.41 1484.52 1216.85 1484.52 Q1215.1 1484.52 1213.29 1484.18 Q1211.48 1483.83 1209.54 1483.13 M1218.85 1468.48 Q1221.99 1468.48 1223.82 1466.33 Q1225.67 1464.18 1225.67 1460.43 Q1225.67 1456.7 1223.82 1454.55 Q1221.99 1452.37 1218.85 1452.37 Q1215.7 1452.37 1213.85 1454.55 Q1212.02 1456.7 1212.02 1460.43 Q1212.02 1464.18 1213.85 1466.33 Q1215.7 1468.48 1218.85 1468.48 Z\" fill=\"#000000\" fill-rule=\"evenodd\" fill-opacity=\"1\" /><path clip-path=\"url(#clip840)\" d=\"M1597.16 1479.92 L1604.8 1479.92 L1604.8 1453.55 L1596.49 1455.22 L1596.49 1450.96 L1604.75 1449.29 L1609.43 1449.29 L1609.43 1479.92 L1617.06 1479.92 L1617.06 1483.85 L1597.16 1483.85 L1597.16 1479.92 Z\" fill=\"#000000\" fill-rule=\"evenodd\" fill-opacity=\"1\" /><path clip-path=\"url(#clip840)\" d=\"M1630.54 1479.92 L1646.86 1479.92 L1646.86 1483.85 L1624.91 1483.85 L1624.91 1479.92 Q1627.57 1477.16 1632.16 1472.53 Q1636.76 1467.88 1637.94 1466.54 Q1640.19 1464.01 1641.07 1462.28 Q1641.97 1460.52 1641.97 1458.83 Q1641.97 1456.07 1640.03 1454.34 Q1638.11 1452.6 1635 1452.6 Q1632.81 1452.6 1630.35 1453.37 Q1627.92 1454.13 1625.14 1455.68 L1625.14 1450.96 Q1627.97 1449.82 1630.42 1449.25 Q1632.87 1448.67 1634.91 1448.67 Q1640.28 1448.67 1643.48 1451.35 Q1646.67 1454.04 1646.67 1458.53 Q1646.67 1460.66 1645.86 1462.58 Q1645.07 1464.48 1642.97 1467.07 Q1642.39 1467.74 1639.29 1470.96 Q1636.18 1474.15 1630.54 1479.92 Z\" fill=\"#000000\" fill-rule=\"evenodd\" fill-opacity=\"1\" /><path clip-path=\"url(#clip840)\" d=\"M1999.29 1479.92 L2006.93 1479.92 L2006.93 1453.55 L1998.62 1455.22 L1998.62 1450.96 L2006.88 1449.29 L2011.56 1449.29 L2011.56 1479.92 L2019.2 1479.92 L2019.2 1483.85 L1999.29 1483.85 L1999.29 1479.92 Z\" fill=\"#000000\" fill-rule=\"evenodd\" fill-opacity=\"1\" /><path clip-path=\"url(#clip840)\" d=\"M2028.69 1449.29 L2047.04 1449.29 L2047.04 1453.23 L2032.97 1453.23 L2032.97 1461.7 Q2033.99 1461.35 2035.01 1461.19 Q2036.02 1461 2037.04 1461 Q2042.83 1461 2046.21 1464.18 Q2049.59 1467.35 2049.59 1472.76 Q2049.59 1478.34 2046.12 1481.44 Q2042.64 1484.52 2036.33 1484.52 Q2034.15 1484.52 2031.88 1484.15 Q2029.64 1483.78 2027.23 1483.04 L2027.23 1478.34 Q2029.31 1479.48 2031.53 1480.03 Q2033.76 1480.59 2036.23 1480.59 Q2040.24 1480.59 2042.58 1478.48 Q2044.91 1476.38 2044.91 1472.76 Q2044.91 1469.15 2042.58 1467.05 Q2040.24 1464.94 2036.23 1464.94 Q2034.36 1464.94 2032.48 1465.36 Q2030.63 1465.77 2028.69 1466.65 L2028.69 1449.29 Z\" fill=\"#000000\" fill-rule=\"evenodd\" fill-opacity=\"1\" /><path clip-path=\"url(#clip840)\" d=\"M1013.56 1546.53 L1013.56 1568.04 L1007.7 1568.04 L1007.7 1546.72 Q1007.7 1541.66 1005.73 1539.14 Q1003.75 1536.63 999.807 1536.63 Q995.064 1536.63 992.327 1539.65 Q989.59 1542.68 989.59 1547.9 L989.59 1568.04 L983.701 1568.04 L983.701 1532.4 L989.59 1532.4 L989.59 1537.93 Q991.69 1534.72 994.523 1533.13 Q997.388 1531.54 1001.11 1531.54 Q1007.25 1531.54 1010.41 1535.36 Q1013.56 1539.14 1013.56 1546.53 Z\" fill=\"#000000\" fill-rule=\"evenodd\" fill-opacity=\"1\" /><path clip-path=\"url(#clip840)\" d=\"M1024.63 1553.98 L1024.63 1532.4 L1030.49 1532.4 L1030.49 1553.75 Q1030.49 1558.81 1032.46 1561.36 Q1034.44 1563.87 1038.38 1563.87 Q1043.13 1563.87 1045.86 1560.85 Q1048.63 1557.83 1048.63 1552.61 L1048.63 1532.4 L1054.49 1532.4 L1054.49 1568.04 L1048.63 1568.04 L1048.63 1562.57 Q1046.5 1565.82 1043.67 1567.41 Q1040.87 1568.97 1037.14 1568.97 Q1031 1568.97 1027.82 1565.15 Q1024.63 1561.33 1024.63 1553.98 M1039.37 1531.54 L1039.37 1531.54 Z\" fill=\"#000000\" fill-rule=\"evenodd\" fill-opacity=\"1\" /><path clip-path=\"url(#clip840)\" d=\"M1094.31 1539.24 Q1096.5 1535.29 1099.56 1533.41 Q1102.61 1531.54 1106.75 1531.54 Q1112.32 1531.54 1115.34 1535.45 Q1118.37 1539.33 1118.37 1546.53 L1118.37 1568.04 L1112.48 1568.04 L1112.48 1546.72 Q1112.48 1541.59 1110.67 1539.11 Q1108.85 1536.63 1105.13 1536.63 Q1100.58 1536.63 1097.93 1539.65 Q1095.29 1542.68 1095.29 1547.9 L1095.29 1568.04 L1089.4 1568.04 L1089.4 1546.72 Q1089.4 1541.56 1087.59 1539.11 Q1085.78 1536.63 1081.99 1536.63 Q1077.5 1536.63 1074.86 1539.68 Q1072.22 1542.71 1072.22 1547.9 L1072.22 1568.04 L1066.33 1568.04 L1066.33 1532.4 L1072.22 1532.4 L1072.22 1537.93 Q1074.22 1534.66 1077.02 1533.1 Q1079.82 1531.54 1083.67 1531.54 Q1087.56 1531.54 1090.26 1533.51 Q1093 1535.48 1094.31 1539.24 Z\" fill=\"#000000\" fill-rule=\"evenodd\" fill-opacity=\"1\" /><path clip-path=\"url(#clip840)\" d=\"M1155.64 1550.25 Q1155.64 1543.79 1152.97 1540.13 Q1150.32 1536.44 1145.68 1536.44 Q1141.03 1536.44 1138.36 1540.13 Q1135.71 1543.79 1135.71 1550.25 Q1135.71 1556.71 1138.36 1560.4 Q1141.03 1564.07 1145.68 1564.07 Q1150.32 1564.07 1152.97 1560.4 Q1155.64 1556.71 1155.64 1550.25 M1135.71 1537.81 Q1137.56 1534.62 1140.36 1533.1 Q1143.19 1531.54 1147.11 1531.54 Q1153.6 1531.54 1157.64 1536.69 Q1161.72 1541.85 1161.72 1550.25 Q1161.72 1558.65 1157.64 1563.81 Q1153.6 1568.97 1147.11 1568.97 Q1143.19 1568.97 1140.36 1567.44 Q1137.56 1565.88 1135.71 1562.7 L1135.71 1568.04 L1129.83 1568.04 L1129.83 1518.52 L1135.71 1518.52 L1135.71 1537.81 Z\" fill=\"#000000\" fill-rule=\"evenodd\" fill-opacity=\"1\" /><path clip-path=\"url(#clip840)\" d=\"M1201.92 1548.76 L1201.92 1551.62 L1174.99 1551.62 Q1175.37 1557.67 1178.62 1560.85 Q1181.9 1564 1187.72 1564 Q1191.1 1564 1194.25 1563.17 Q1197.43 1562.35 1200.55 1560.69 L1200.55 1566.23 Q1197.4 1567.57 1194.09 1568.27 Q1190.78 1568.97 1187.37 1568.97 Q1178.84 1568.97 1173.84 1564 Q1168.88 1559.04 1168.88 1550.57 Q1168.88 1541.82 1173.59 1536.69 Q1178.33 1531.54 1186.35 1531.54 Q1193.55 1531.54 1197.72 1536.18 Q1201.92 1540.8 1201.92 1548.76 M1196.06 1547.04 Q1196 1542.23 1193.36 1539.37 Q1190.75 1536.5 1186.42 1536.5 Q1181.52 1536.5 1178.56 1539.27 Q1175.63 1542.04 1175.18 1547.07 L1196.06 1547.04 Z\" fill=\"#000000\" fill-rule=\"evenodd\" fill-opacity=\"1\" /><path clip-path=\"url(#clip840)\" d=\"M1232.19 1537.87 Q1231.2 1537.3 1230.02 1537.04 Q1228.88 1536.76 1227.48 1536.76 Q1222.51 1536.76 1219.84 1540 Q1217.2 1543.22 1217.2 1549.27 L1217.2 1568.04 L1211.31 1568.04 L1211.31 1532.4 L1217.2 1532.4 L1217.2 1537.93 Q1219.04 1534.69 1222 1533.13 Q1224.96 1531.54 1229.19 1531.54 Q1229.8 1531.54 1230.53 1531.63 Q1231.26 1531.7 1232.15 1531.85 L1232.19 1537.87 Z\" fill=\"#000000\" fill-rule=\"evenodd\" fill-opacity=\"1\" /><path clip-path=\"url(#clip840)\" d=\"M1272.86 1536.5 Q1268.15 1536.5 1265.42 1540.19 Q1262.68 1543.85 1262.68 1550.25 Q1262.68 1556.65 1265.38 1560.34 Q1268.12 1564 1272.86 1564 Q1277.54 1564 1280.28 1560.31 Q1283.02 1556.62 1283.02 1550.25 Q1283.02 1543.92 1280.28 1540.23 Q1277.54 1536.5 1272.86 1536.5 M1272.86 1531.54 Q1280.5 1531.54 1284.86 1536.5 Q1289.22 1541.47 1289.22 1550.25 Q1289.22 1559 1284.86 1564 Q1280.5 1568.97 1272.86 1568.97 Q1265.19 1568.97 1260.83 1564 Q1256.5 1559 1256.5 1550.25 Q1256.5 1541.47 1260.83 1536.5 Q1265.19 1531.54 1272.86 1531.54 Z\" fill=\"#000000\" fill-rule=\"evenodd\" fill-opacity=\"1\" /><path clip-path=\"url(#clip840)\" d=\"M1316.98 1518.52 L1316.98 1523.39 L1311.38 1523.39 Q1308.23 1523.39 1306.98 1524.66 Q1305.77 1525.93 1305.77 1529.24 L1305.77 1532.4 L1315.42 1532.4 L1315.42 1536.95 L1305.77 1536.95 L1305.77 1568.04 L1299.89 1568.04 L1299.89 1536.95 L1294.28 1536.95 L1294.28 1532.4 L1299.89 1532.4 L1299.89 1529.91 Q1299.89 1523.96 1302.66 1521.26 Q1305.42 1518.52 1311.44 1518.52 L1316.98 1518.52 Z\" fill=\"#000000\" fill-rule=\"evenodd\" fill-opacity=\"1\" /><path clip-path=\"url(#clip840)\" d=\"M1368.25 1533.76 L1368.25 1539.24 Q1365.77 1537.87 1363.26 1537.2 Q1360.77 1536.5 1358.23 1536.5 Q1352.53 1536.5 1349.38 1540.13 Q1346.23 1543.73 1346.23 1550.25 Q1346.23 1556.78 1349.38 1560.4 Q1352.53 1564 1358.23 1564 Q1360.77 1564 1363.26 1563.33 Q1365.77 1562.63 1368.25 1561.26 L1368.25 1566.68 Q1365.8 1567.82 1363.16 1568.39 Q1360.55 1568.97 1357.59 1568.97 Q1349.54 1568.97 1344.8 1563.91 Q1340.05 1558.85 1340.05 1550.25 Q1340.05 1541.53 1344.83 1536.53 Q1349.63 1531.54 1357.97 1531.54 Q1360.68 1531.54 1363.26 1532.11 Q1365.83 1532.65 1368.25 1533.76 Z\" fill=\"#000000\" fill-rule=\"evenodd\" fill-opacity=\"1\" /><path clip-path=\"url(#clip840)\" d=\"M1378.44 1518.52 L1384.3 1518.52 L1384.3 1568.04 L1378.44 1568.04 L1378.44 1518.52 Z\" fill=\"#000000\" fill-rule=\"evenodd\" fill-opacity=\"1\" /><path clip-path=\"url(#clip840)\" d=\"M1395.94 1553.98 L1395.94 1532.4 L1401.8 1532.4 L1401.8 1553.75 Q1401.8 1558.81 1403.77 1561.36 Q1405.75 1563.87 1409.69 1563.87 Q1414.44 1563.87 1417.17 1560.85 Q1419.94 1557.83 1419.94 1552.61 L1419.94 1532.4 L1425.8 1532.4 L1425.8 1568.04 L1419.94 1568.04 L1419.94 1562.57 Q1417.81 1565.82 1414.98 1567.41 Q1412.18 1568.97 1408.45 1568.97 Q1402.31 1568.97 1399.13 1565.15 Q1395.94 1561.33 1395.94 1553.98 M1410.68 1531.54 L1410.68 1531.54 Z\" fill=\"#000000\" fill-rule=\"evenodd\" fill-opacity=\"1\" /><path clip-path=\"url(#clip840)\" d=\"M1460.59 1533.45 L1460.59 1538.98 Q1458.11 1537.71 1455.43 1537.07 Q1452.76 1536.44 1449.89 1536.44 Q1445.53 1536.44 1443.34 1537.77 Q1441.17 1539.11 1441.17 1541.79 Q1441.17 1543.82 1442.73 1545 Q1444.29 1546.15 1449 1547.2 L1451.01 1547.64 Q1457.25 1548.98 1459.86 1551.43 Q1462.5 1553.85 1462.5 1558.21 Q1462.5 1563.17 1458.55 1566.07 Q1454.64 1568.97 1447.76 1568.97 Q1444.9 1568.97 1441.78 1568.39 Q1438.69 1567.85 1435.25 1566.74 L1435.25 1560.69 Q1438.5 1562.38 1441.65 1563.24 Q1444.8 1564.07 1447.89 1564.07 Q1452.03 1564.07 1454.25 1562.66 Q1456.48 1561.23 1456.48 1558.65 Q1456.48 1556.27 1454.86 1554.99 Q1453.27 1553.72 1447.82 1552.54 L1445.79 1552.07 Q1440.35 1550.92 1437.93 1548.56 Q1435.51 1546.18 1435.51 1542.04 Q1435.51 1537.01 1439.07 1534.27 Q1442.64 1531.54 1449.19 1531.54 Q1452.44 1531.54 1455.3 1532.01 Q1458.17 1532.49 1460.59 1533.45 Z\" fill=\"#000000\" fill-rule=\"evenodd\" fill-opacity=\"1\" /><path clip-path=\"url(#clip840)\" d=\"M1477.62 1522.27 L1477.62 1532.4 L1489.68 1532.4 L1489.68 1536.95 L1477.62 1536.95 L1477.62 1556.3 Q1477.62 1560.66 1478.79 1561.9 Q1480 1563.14 1483.66 1563.14 L1489.68 1563.14 L1489.68 1568.04 L1483.66 1568.04 Q1476.88 1568.04 1474.31 1565.53 Q1471.73 1562.98 1471.73 1556.3 L1471.73 1536.95 L1467.43 1536.95 L1467.43 1532.4 L1471.73 1532.4 L1471.73 1522.27 L1477.62 1522.27 Z\" fill=\"#000000\" fill-rule=\"evenodd\" fill-opacity=\"1\" /><path clip-path=\"url(#clip840)\" d=\"M1527.87 1548.76 L1527.87 1551.62 L1500.95 1551.62 Q1501.33 1557.67 1504.58 1560.85 Q1507.85 1564 1513.68 1564 Q1517.05 1564 1520.2 1563.17 Q1523.39 1562.35 1526.51 1560.69 L1526.51 1566.23 Q1523.35 1567.57 1520.04 1568.27 Q1516.73 1568.97 1513.33 1568.97 Q1504.8 1568.97 1499.8 1564 Q1494.84 1559.04 1494.84 1550.57 Q1494.84 1541.82 1499.55 1536.69 Q1504.29 1531.54 1512.31 1531.54 Q1519.5 1531.54 1523.67 1536.18 Q1527.87 1540.8 1527.87 1548.76 M1522.02 1547.04 Q1521.95 1542.23 1519.31 1539.37 Q1516.7 1536.5 1512.37 1536.5 Q1507.47 1536.5 1504.51 1539.27 Q1501.58 1542.04 1501.14 1547.07 L1522.02 1547.04 Z\" fill=\"#000000\" fill-rule=\"evenodd\" fill-opacity=\"1\" /><path clip-path=\"url(#clip840)\" d=\"M1558.14 1537.87 Q1557.16 1537.3 1555.98 1537.04 Q1554.83 1536.76 1553.43 1536.76 Q1548.47 1536.76 1545.79 1540 Q1543.15 1543.22 1543.15 1549.27 L1543.15 1568.04 L1537.26 1568.04 L1537.26 1532.4 L1543.15 1532.4 L1543.15 1537.93 Q1545 1534.69 1547.96 1533.13 Q1550.92 1531.54 1555.15 1531.54 Q1555.76 1531.54 1556.49 1531.63 Q1557.22 1531.7 1558.11 1531.85 L1558.14 1537.87 Z\" fill=\"#000000\" fill-rule=\"evenodd\" fill-opacity=\"1\" /><path clip-path=\"url(#clip840)\" d=\"M1587.01 1533.45 L1587.01 1538.98 Q1584.53 1537.71 1581.85 1537.07 Q1579.18 1536.44 1576.32 1536.44 Q1571.96 1536.44 1569.76 1537.77 Q1567.6 1539.11 1567.6 1541.79 Q1567.6 1543.82 1569.16 1545 Q1570.71 1546.15 1575.43 1547.2 L1577.43 1547.64 Q1583.67 1548.98 1586.28 1551.43 Q1588.92 1553.85 1588.92 1558.21 Q1588.92 1563.17 1584.97 1566.07 Q1581.06 1568.97 1574.18 1568.97 Q1571.32 1568.97 1568.2 1568.39 Q1565.11 1567.85 1561.68 1566.74 L1561.68 1560.69 Q1564.92 1562.38 1568.07 1563.24 Q1571.22 1564.07 1574.31 1564.07 Q1578.45 1564.07 1580.68 1562.66 Q1582.91 1561.23 1582.91 1558.65 Q1582.91 1556.27 1581.28 1554.99 Q1579.69 1553.72 1574.25 1552.54 L1572.21 1552.07 Q1566.77 1550.92 1564.35 1548.56 Q1561.93 1546.18 1561.93 1542.04 Q1561.93 1537.01 1565.5 1534.27 Q1569.06 1531.54 1575.62 1531.54 Q1578.86 1531.54 1581.73 1532.01 Q1584.59 1532.49 1587.01 1533.45 Z\" fill=\"#000000\" fill-rule=\"evenodd\" fill-opacity=\"1\" /><polyline clip-path=\"url(#clip842)\" style=\"stroke:#000000; stroke-linecap:butt; stroke-linejoin:round; stroke-width:2; stroke-opacity:0.1; fill:none\" points=\"\n",
       "  219.866,1304.09 2352.76,1304.09 \n",
       "  \"/>\n",
       "<polyline clip-path=\"url(#clip842)\" style=\"stroke:#000000; stroke-linecap:butt; stroke-linejoin:round; stroke-width:2; stroke-opacity:0.1; fill:none\" points=\"\n",
       "  219.866,1107.61 2352.76,1107.61 \n",
       "  \"/>\n",
       "<polyline clip-path=\"url(#clip842)\" style=\"stroke:#000000; stroke-linecap:butt; stroke-linejoin:round; stroke-width:2; stroke-opacity:0.1; fill:none\" points=\"\n",
       "  219.866,911.139 2352.76,911.139 \n",
       "  \"/>\n",
       "<polyline clip-path=\"url(#clip842)\" style=\"stroke:#000000; stroke-linecap:butt; stroke-linejoin:round; stroke-width:2; stroke-opacity:0.1; fill:none\" points=\"\n",
       "  219.866,714.666 2352.76,714.666 \n",
       "  \"/>\n",
       "<polyline clip-path=\"url(#clip842)\" style=\"stroke:#000000; stroke-linecap:butt; stroke-linejoin:round; stroke-width:2; stroke-opacity:0.1; fill:none\" points=\"\n",
       "  219.866,518.192 2352.76,518.192 \n",
       "  \"/>\n",
       "<polyline clip-path=\"url(#clip842)\" style=\"stroke:#000000; stroke-linecap:butt; stroke-linejoin:round; stroke-width:2; stroke-opacity:0.1; fill:none\" points=\"\n",
       "  219.866,321.718 2352.76,321.718 \n",
       "  \"/>\n",
       "<polyline clip-path=\"url(#clip842)\" style=\"stroke:#000000; stroke-linecap:butt; stroke-linejoin:round; stroke-width:2; stroke-opacity:0.1; fill:none\" points=\"\n",
       "  219.866,125.244 2352.76,125.244 \n",
       "  \"/>\n",
       "<polyline clip-path=\"url(#clip840)\" style=\"stroke:#000000; stroke-linecap:butt; stroke-linejoin:round; stroke-width:4; stroke-opacity:1; fill:none\" points=\"\n",
       "  219.866,1423.18 219.866,47.2441 \n",
       "  \"/>\n",
       "<polyline clip-path=\"url(#clip840)\" style=\"stroke:#000000; stroke-linecap:butt; stroke-linejoin:round; stroke-width:4; stroke-opacity:1; fill:none\" points=\"\n",
       "  219.866,1304.09 238.764,1304.09 \n",
       "  \"/>\n",
       "<polyline clip-path=\"url(#clip840)\" style=\"stroke:#000000; stroke-linecap:butt; stroke-linejoin:round; stroke-width:4; stroke-opacity:1; fill:none\" points=\"\n",
       "  219.866,1107.61 238.764,1107.61 \n",
       "  \"/>\n",
       "<polyline clip-path=\"url(#clip840)\" style=\"stroke:#000000; stroke-linecap:butt; stroke-linejoin:round; stroke-width:4; stroke-opacity:1; fill:none\" points=\"\n",
       "  219.866,911.139 238.764,911.139 \n",
       "  \"/>\n",
       "<polyline clip-path=\"url(#clip840)\" style=\"stroke:#000000; stroke-linecap:butt; stroke-linejoin:round; stroke-width:4; stroke-opacity:1; fill:none\" points=\"\n",
       "  219.866,714.666 238.764,714.666 \n",
       "  \"/>\n",
       "<polyline clip-path=\"url(#clip840)\" style=\"stroke:#000000; stroke-linecap:butt; stroke-linejoin:round; stroke-width:4; stroke-opacity:1; fill:none\" points=\"\n",
       "  219.866,518.192 238.764,518.192 \n",
       "  \"/>\n",
       "<polyline clip-path=\"url(#clip840)\" style=\"stroke:#000000; stroke-linecap:butt; stroke-linejoin:round; stroke-width:4; stroke-opacity:1; fill:none\" points=\"\n",
       "  219.866,321.718 238.764,321.718 \n",
       "  \"/>\n",
       "<polyline clip-path=\"url(#clip840)\" style=\"stroke:#000000; stroke-linecap:butt; stroke-linejoin:round; stroke-width:4; stroke-opacity:1; fill:none\" points=\"\n",
       "  219.866,125.244 238.764,125.244 \n",
       "  \"/>\n",
       "<path clip-path=\"url(#clip840)\" d=\"M128.288 1289.89 Q124.677 1289.89 122.848 1293.45 Q121.043 1296.99 121.043 1304.12 Q121.043 1311.23 122.848 1314.79 Q124.677 1318.33 128.288 1318.33 Q131.922 1318.33 133.728 1314.79 Q135.556 1311.23 135.556 1304.12 Q135.556 1296.99 133.728 1293.45 Q131.922 1289.89 128.288 1289.89 M128.288 1286.18 Q134.098 1286.18 137.154 1290.79 Q140.232 1295.37 140.232 1304.12 Q140.232 1312.85 137.154 1317.45 Q134.098 1322.04 128.288 1322.04 Q122.478 1322.04 119.399 1317.45 Q116.343 1312.85 116.343 1304.12 Q116.343 1295.37 119.399 1290.79 Q122.478 1286.18 128.288 1286.18 Z\" fill=\"#000000\" fill-rule=\"evenodd\" fill-opacity=\"1\" /><path clip-path=\"url(#clip840)\" d=\"M148.45 1315.49 L153.334 1315.49 L153.334 1321.37 L148.45 1321.37 L148.45 1315.49 Z\" fill=\"#000000\" fill-rule=\"evenodd\" fill-opacity=\"1\" /><path clip-path=\"url(#clip840)\" d=\"M167.547 1317.43 L183.866 1317.43 L183.866 1321.37 L161.922 1321.37 L161.922 1317.43 Q164.584 1314.68 169.167 1310.05 Q173.774 1305.39 174.954 1304.05 Q177.2 1301.53 178.079 1299.79 Q178.982 1298.03 178.982 1296.34 Q178.982 1293.59 177.038 1291.85 Q175.116 1290.12 172.014 1290.12 Q169.815 1290.12 167.362 1290.88 Q164.931 1291.64 162.153 1293.2 L162.153 1288.47 Q164.977 1287.34 167.431 1286.76 Q169.885 1286.18 171.922 1286.18 Q177.292 1286.18 180.487 1288.87 Q183.681 1291.55 183.681 1296.04 Q183.681 1298.17 182.871 1300.09 Q182.084 1301.99 179.977 1304.58 Q179.399 1305.26 176.297 1308.47 Q173.195 1311.67 167.547 1317.43 Z\" fill=\"#000000\" fill-rule=\"evenodd\" fill-opacity=\"1\" /><path clip-path=\"url(#clip840)\" d=\"M127.339 1093.41 Q123.728 1093.41 121.899 1096.98 Q120.093 1100.52 120.093 1107.65 Q120.093 1114.75 121.899 1118.32 Q123.728 1121.86 127.339 1121.86 Q130.973 1121.86 132.779 1118.32 Q134.607 1114.75 134.607 1107.65 Q134.607 1100.52 132.779 1096.98 Q130.973 1093.41 127.339 1093.41 M127.339 1089.71 Q133.149 1089.71 136.204 1094.31 Q139.283 1098.9 139.283 1107.65 Q139.283 1116.37 136.204 1120.98 Q133.149 1125.56 127.339 1125.56 Q121.529 1125.56 118.45 1120.98 Q115.394 1116.37 115.394 1107.65 Q115.394 1098.9 118.45 1094.31 Q121.529 1089.71 127.339 1089.71 Z\" fill=\"#000000\" fill-rule=\"evenodd\" fill-opacity=\"1\" /><path clip-path=\"url(#clip840)\" d=\"M147.501 1119.01 L152.385 1119.01 L152.385 1124.89 L147.501 1124.89 L147.501 1119.01 Z\" fill=\"#000000\" fill-rule=\"evenodd\" fill-opacity=\"1\" /><path clip-path=\"url(#clip840)\" d=\"M176.737 1106.26 Q180.093 1106.98 181.968 1109.25 Q183.866 1111.51 183.866 1114.85 Q183.866 1119.96 180.348 1122.76 Q176.829 1125.56 170.348 1125.56 Q168.172 1125.56 165.857 1125.12 Q163.565 1124.71 161.112 1123.85 L161.112 1119.34 Q163.056 1120.47 165.371 1121.05 Q167.686 1121.63 170.209 1121.63 Q174.607 1121.63 176.899 1119.89 Q179.214 1118.16 179.214 1114.85 Q179.214 1111.79 177.061 1110.08 Q174.931 1108.34 171.112 1108.34 L167.084 1108.34 L167.084 1104.5 L171.297 1104.5 Q174.746 1104.5 176.575 1103.13 Q178.403 1101.75 178.403 1099.15 Q178.403 1096.49 176.505 1095.08 Q174.63 1093.64 171.112 1093.64 Q169.19 1093.64 166.991 1094.06 Q164.792 1094.48 162.153 1095.36 L162.153 1091.19 Q164.815 1090.45 167.13 1090.08 Q169.468 1089.71 171.528 1089.71 Q176.852 1089.71 179.954 1092.14 Q183.056 1094.55 183.056 1098.67 Q183.056 1101.54 181.413 1103.53 Q179.769 1105.5 176.737 1106.26 Z\" fill=\"#000000\" fill-rule=\"evenodd\" fill-opacity=\"1\" /><path clip-path=\"url(#clip840)\" d=\"M126.205 896.938 Q122.593 896.938 120.765 900.503 Q118.959 904.044 118.959 911.174 Q118.959 918.28 120.765 921.845 Q122.593 925.387 126.205 925.387 Q129.839 925.387 131.644 921.845 Q133.473 918.28 133.473 911.174 Q133.473 904.044 131.644 900.503 Q129.839 896.938 126.205 896.938 M126.205 893.234 Q132.015 893.234 135.07 897.841 Q138.149 902.424 138.149 911.174 Q138.149 919.901 135.07 924.507 Q132.015 929.091 126.205 929.091 Q120.394 929.091 117.316 924.507 Q114.26 919.901 114.26 911.174 Q114.26 902.424 117.316 897.841 Q120.394 893.234 126.205 893.234 Z\" fill=\"#000000\" fill-rule=\"evenodd\" fill-opacity=\"1\" /><path clip-path=\"url(#clip840)\" d=\"M146.366 922.54 L151.251 922.54 L151.251 928.419 L146.366 928.419 L146.366 922.54 Z\" fill=\"#000000\" fill-rule=\"evenodd\" fill-opacity=\"1\" /><path clip-path=\"url(#clip840)\" d=\"M174.283 897.933 L162.477 916.382 L174.283 916.382 L174.283 897.933 M173.056 893.859 L178.936 893.859 L178.936 916.382 L183.866 916.382 L183.866 920.271 L178.936 920.271 L178.936 928.419 L174.283 928.419 L174.283 920.271 L158.681 920.271 L158.681 915.757 L173.056 893.859 Z\" fill=\"#000000\" fill-rule=\"evenodd\" fill-opacity=\"1\" /><path clip-path=\"url(#clip840)\" d=\"M127.686 700.464 Q124.075 700.464 122.246 704.029 Q120.441 707.571 120.441 714.7 Q120.441 721.807 122.246 725.372 Q124.075 728.913 127.686 728.913 Q131.32 728.913 133.126 725.372 Q134.954 721.807 134.954 714.7 Q134.954 707.571 133.126 704.029 Q131.32 700.464 127.686 700.464 M127.686 696.761 Q133.496 696.761 136.552 701.367 Q139.63 705.95 139.63 714.7 Q139.63 723.427 136.552 728.034 Q133.496 732.617 127.686 732.617 Q121.876 732.617 118.797 728.034 Q115.742 723.427 115.742 714.7 Q115.742 705.95 118.797 701.367 Q121.876 696.761 127.686 696.761 Z\" fill=\"#000000\" fill-rule=\"evenodd\" fill-opacity=\"1\" /><path clip-path=\"url(#clip840)\" d=\"M147.848 726.066 L152.732 726.066 L152.732 731.946 L147.848 731.946 L147.848 726.066 Z\" fill=\"#000000\" fill-rule=\"evenodd\" fill-opacity=\"1\" /><path clip-path=\"url(#clip840)\" d=\"M162.964 697.386 L181.32 697.386 L181.32 701.321 L167.246 701.321 L167.246 709.793 Q168.264 709.446 169.283 709.284 Q170.302 709.098 171.32 709.098 Q177.107 709.098 180.487 712.27 Q183.866 715.441 183.866 720.858 Q183.866 726.436 180.394 729.538 Q176.922 732.617 170.602 732.617 Q168.427 732.617 166.158 732.246 Q163.913 731.876 161.505 731.135 L161.505 726.436 Q163.589 727.571 165.811 728.126 Q168.033 728.682 170.51 728.682 Q174.514 728.682 176.852 726.575 Q179.19 724.469 179.19 720.858 Q179.19 717.247 176.852 715.14 Q174.514 713.034 170.51 713.034 Q168.635 713.034 166.76 713.45 Q164.908 713.867 162.964 714.747 L162.964 697.386 Z\" fill=\"#000000\" fill-rule=\"evenodd\" fill-opacity=\"1\" /><path clip-path=\"url(#clip840)\" d=\"M126.529 503.99 Q122.918 503.99 121.089 507.555 Q119.283 511.097 119.283 518.226 Q119.283 525.333 121.089 528.898 Q122.918 532.439 126.529 532.439 Q130.163 532.439 131.968 528.898 Q133.797 525.333 133.797 518.226 Q133.797 511.097 131.968 507.555 Q130.163 503.99 126.529 503.99 M126.529 500.287 Q132.339 500.287 135.394 504.893 Q138.473 509.477 138.473 518.226 Q138.473 526.953 135.394 531.56 Q132.339 536.143 126.529 536.143 Q120.718 536.143 117.64 531.56 Q114.584 526.953 114.584 518.226 Q114.584 509.477 117.64 504.893 Q120.718 500.287 126.529 500.287 Z\" fill=\"#000000\" fill-rule=\"evenodd\" fill-opacity=\"1\" /><path clip-path=\"url(#clip840)\" d=\"M146.691 529.592 L151.575 529.592 L151.575 535.472 L146.691 535.472 L146.691 529.592 Z\" fill=\"#000000\" fill-rule=\"evenodd\" fill-opacity=\"1\" /><path clip-path=\"url(#clip840)\" d=\"M172.339 516.328 Q169.19 516.328 167.339 518.481 Q165.51 520.634 165.51 524.384 Q165.51 528.111 167.339 530.287 Q169.19 532.439 172.339 532.439 Q175.487 532.439 177.315 530.287 Q179.167 528.111 179.167 524.384 Q179.167 520.634 177.315 518.481 Q175.487 516.328 172.339 516.328 M181.621 501.676 L181.621 505.935 Q179.862 505.102 178.056 504.662 Q176.274 504.222 174.514 504.222 Q169.885 504.222 167.431 507.347 Q165.001 510.472 164.653 516.791 Q166.019 514.777 168.079 513.713 Q170.139 512.625 172.616 512.625 Q177.825 512.625 180.834 515.796 Q183.866 518.944 183.866 524.384 Q183.866 529.708 180.718 532.925 Q177.57 536.143 172.339 536.143 Q166.343 536.143 163.172 531.56 Q160.001 526.953 160.001 518.226 Q160.001 510.032 163.89 505.171 Q167.778 500.287 174.329 500.287 Q176.089 500.287 177.871 500.634 Q179.676 500.981 181.621 501.676 Z\" fill=\"#000000\" fill-rule=\"evenodd\" fill-opacity=\"1\" /><path clip-path=\"url(#clip840)\" d=\"M127.593 307.517 Q123.982 307.517 122.154 311.081 Q120.348 314.623 120.348 321.753 Q120.348 328.859 122.154 332.424 Q123.982 335.966 127.593 335.966 Q131.228 335.966 133.033 332.424 Q134.862 328.859 134.862 321.753 Q134.862 314.623 133.033 311.081 Q131.228 307.517 127.593 307.517 M127.593 303.813 Q133.404 303.813 136.459 308.419 Q139.538 313.003 139.538 321.753 Q139.538 330.48 136.459 335.086 Q133.404 339.669 127.593 339.669 Q121.783 339.669 118.705 335.086 Q115.649 330.48 115.649 321.753 Q115.649 313.003 118.705 308.419 Q121.783 303.813 127.593 303.813 Z\" fill=\"#000000\" fill-rule=\"evenodd\" fill-opacity=\"1\" /><path clip-path=\"url(#clip840)\" d=\"M147.755 333.118 L152.64 333.118 L152.64 338.998 L147.755 338.998 L147.755 333.118 Z\" fill=\"#000000\" fill-rule=\"evenodd\" fill-opacity=\"1\" /><path clip-path=\"url(#clip840)\" d=\"M161.644 304.438 L183.866 304.438 L183.866 306.429 L171.32 338.998 L166.436 338.998 L178.241 308.373 L161.644 308.373 L161.644 304.438 Z\" fill=\"#000000\" fill-rule=\"evenodd\" fill-opacity=\"1\" /><path clip-path=\"url(#clip840)\" d=\"M126.783 111.043 Q123.172 111.043 121.343 114.608 Q119.538 118.149 119.538 125.279 Q119.538 132.385 121.343 135.95 Q123.172 139.492 126.783 139.492 Q130.417 139.492 132.223 135.95 Q134.052 132.385 134.052 125.279 Q134.052 118.149 132.223 114.608 Q130.417 111.043 126.783 111.043 M126.783 107.339 Q132.593 107.339 135.649 111.946 Q138.728 116.529 138.728 125.279 Q138.728 134.006 135.649 138.612 Q132.593 143.196 126.783 143.196 Q120.973 143.196 117.894 138.612 Q114.839 134.006 114.839 125.279 Q114.839 116.529 117.894 111.946 Q120.973 107.339 126.783 107.339 Z\" fill=\"#000000\" fill-rule=\"evenodd\" fill-opacity=\"1\" /><path clip-path=\"url(#clip840)\" d=\"M146.945 136.645 L151.829 136.645 L151.829 142.524 L146.945 142.524 L146.945 136.645 Z\" fill=\"#000000\" fill-rule=\"evenodd\" fill-opacity=\"1\" /><path clip-path=\"url(#clip840)\" d=\"M172.014 126.112 Q168.681 126.112 166.76 127.895 Q164.862 129.677 164.862 132.802 Q164.862 135.927 166.76 137.709 Q168.681 139.492 172.014 139.492 Q175.348 139.492 177.269 137.709 Q179.19 135.904 179.19 132.802 Q179.19 129.677 177.269 127.895 Q175.371 126.112 172.014 126.112 M167.339 124.122 Q164.329 123.381 162.64 121.321 Q160.973 119.26 160.973 116.298 Q160.973 112.154 163.913 109.747 Q166.876 107.339 172.014 107.339 Q177.176 107.339 180.116 109.747 Q183.056 112.154 183.056 116.298 Q183.056 119.26 181.366 121.321 Q179.7 123.381 176.714 124.122 Q180.093 124.909 181.968 127.2 Q183.866 129.492 183.866 132.802 Q183.866 137.825 180.788 140.51 Q177.732 143.196 172.014 143.196 Q166.297 143.196 163.218 140.51 Q160.163 137.825 160.163 132.802 Q160.163 129.492 162.061 127.2 Q163.959 124.909 167.339 124.122 M165.626 116.737 Q165.626 119.422 167.292 120.927 Q168.982 122.432 172.014 122.432 Q175.024 122.432 176.714 120.927 Q178.426 119.422 178.426 116.737 Q178.426 114.052 176.714 112.548 Q175.024 111.043 172.014 111.043 Q168.982 111.043 167.292 112.548 Q165.626 114.052 165.626 116.737 Z\" fill=\"#000000\" fill-rule=\"evenodd\" fill-opacity=\"1\" /><path clip-path=\"url(#clip840)\" d=\"M29.4065 966.319 L34.9447 966.319 Q33.6716 968.802 33.035 971.475 Q32.3984 974.149 32.3984 977.013 Q32.3984 981.374 33.7352 983.57 Q35.072 985.734 37.7456 985.734 Q39.7826 985.734 40.9603 984.175 Q42.1061 982.615 43.1565 977.905 L43.6021 975.899 Q44.9389 969.661 47.3897 967.051 Q49.8086 964.409 54.1691 964.409 Q59.1344 964.409 62.0308 968.356 Q64.9272 972.271 64.9272 979.146 Q64.9272 982.01 64.3543 985.13 Q63.8132 988.217 62.6992 991.654 L56.6518 991.654 Q58.3387 988.408 59.198 985.257 Q60.0256 982.106 60.0256 979.019 Q60.0256 974.881 58.6251 972.653 Q57.1929 970.425 54.6147 970.425 Q52.2276 970.425 50.9545 972.048 Q49.6813 973.64 48.5037 979.082 L48.0262 981.119 Q46.8804 986.562 44.5251 988.981 Q42.138 991.4 38.0002 991.4 Q32.9713 991.4 30.2341 987.835 Q27.4968 984.27 27.4968 977.714 Q27.4968 974.467 27.9743 971.602 Q28.4517 968.738 29.4065 966.319 Z\" fill=\"#000000\" fill-rule=\"evenodd\" fill-opacity=\"1\" /><path clip-path=\"url(#clip840)\" d=\"M28.3562 955.083 L28.3562 949.227 L64.0042 949.227 L64.0042 955.083 L28.3562 955.083 M14.479 955.083 L14.479 949.227 L21.895 949.227 L21.895 955.083 L14.479 955.083 Z\" fill=\"#000000\" fill-rule=\"evenodd\" fill-opacity=\"1\" /><path clip-path=\"url(#clip840)\" d=\"M14.479 936.973 L14.479 931.117 L64.0042 931.117 L64.0042 936.973 L14.479 936.973 Z\" fill=\"#000000\" fill-rule=\"evenodd\" fill-opacity=\"1\" /><path clip-path=\"url(#clip840)\" d=\"M42.4881 889.23 L64.0042 889.23 L64.0042 895.087 L42.679 895.087 Q37.6183 895.087 35.1038 897.06 Q32.5894 899.033 32.5894 902.98 Q32.5894 907.723 35.6131 910.46 Q38.6368 913.197 43.8567 913.197 L64.0042 913.197 L64.0042 919.085 L14.479 919.085 L14.479 913.197 L33.8944 913.197 Q30.6797 911.096 29.0883 908.264 Q27.4968 905.399 27.4968 901.675 Q27.4968 895.532 31.3163 892.381 Q35.1038 889.23 42.4881 889.23 Z\" fill=\"#000000\" fill-rule=\"evenodd\" fill-opacity=\"1\" /><path clip-path=\"url(#clip840)\" d=\"M32.4621 863.736 Q32.4621 868.446 36.1542 871.183 Q39.8145 873.921 46.212 873.921 Q52.6095 873.921 56.3017 871.215 Q59.9619 868.478 59.9619 863.736 Q59.9619 859.057 56.2698 856.32 Q52.5777 853.582 46.212 853.582 Q39.8781 853.582 36.186 856.32 Q32.4621 859.057 32.4621 863.736 M27.4968 863.736 Q27.4968 856.097 32.4621 851.736 Q37.4273 847.376 46.212 847.376 Q54.9649 847.376 59.9619 851.736 Q64.9272 856.097 64.9272 863.736 Q64.9272 871.406 59.9619 875.767 Q54.9649 880.095 46.212 880.095 Q37.4273 880.095 32.4621 875.767 Q27.4968 871.406 27.4968 863.736 Z\" fill=\"#000000\" fill-rule=\"evenodd\" fill-opacity=\"1\" /><path clip-path=\"url(#clip840)\" d=\"M49.9359 838.273 L28.3562 838.273 L28.3562 832.416 L49.7131 832.416 Q54.7739 832.416 57.3202 830.443 Q59.8346 828.47 59.8346 824.523 Q59.8346 819.78 56.8109 817.043 Q53.7872 814.274 48.5673 814.274 L28.3562 814.274 L28.3562 808.418 L64.0042 808.418 L64.0042 814.274 L58.5296 814.274 Q61.7762 816.407 63.3676 819.239 Q64.9272 822.04 64.9272 825.764 Q64.9272 831.907 61.1078 835.09 Q57.2883 838.273 49.9359 838.273 M27.4968 823.536 L27.4968 823.536 Z\" fill=\"#000000\" fill-rule=\"evenodd\" fill-opacity=\"1\" /><path clip-path=\"url(#clip840)\" d=\"M44.7161 765.863 L47.5806 765.863 L47.5806 792.79 Q53.6281 792.408 56.8109 789.161 Q59.9619 785.883 59.9619 780.058 Q59.9619 776.685 59.1344 773.534 Q58.3069 770.351 56.6518 767.231 L62.1899 767.231 Q63.5267 770.382 64.227 773.693 Q64.9272 777.003 64.9272 780.408 Q64.9272 788.939 59.9619 793.936 Q54.9967 798.901 46.5303 798.901 Q37.7774 798.901 32.6531 794.19 Q27.4968 789.448 27.4968 781.427 Q27.4968 774.234 32.1438 770.064 Q36.7589 765.863 44.7161 765.863 M42.9973 771.719 Q38.1912 771.783 35.3266 774.425 Q32.4621 777.035 32.4621 781.363 Q32.4621 786.265 35.2312 789.225 Q38.0002 792.153 43.0292 792.599 L42.9973 771.719 Z\" fill=\"#000000\" fill-rule=\"evenodd\" fill-opacity=\"1\" /><path clip-path=\"url(#clip840)\" d=\"M18.2347 750.458 L28.3562 750.458 L28.3562 738.395 L32.9077 738.395 L32.9077 750.458 L52.2594 750.458 Q56.6199 750.458 57.8613 749.28 Q59.1026 748.071 59.1026 744.41 L59.1026 738.395 L64.0042 738.395 L64.0042 744.41 Q64.0042 751.19 61.4897 753.768 Q58.9434 756.346 52.2594 756.346 L32.9077 756.346 L32.9077 760.643 L28.3562 760.643 L28.3562 756.346 L18.2347 756.346 L18.2347 750.458 Z\" fill=\"#000000\" fill-rule=\"evenodd\" fill-opacity=\"1\" /><path clip-path=\"url(#clip840)\" d=\"M18.2347 724.9 L28.3562 724.9 L28.3562 712.837 L32.9077 712.837 L32.9077 724.9 L52.2594 724.9 Q56.6199 724.9 57.8613 723.722 Q59.1026 722.512 59.1026 718.852 L59.1026 712.837 L64.0042 712.837 L64.0042 718.852 Q64.0042 725.632 61.4897 728.21 Q58.9434 730.788 52.2594 730.788 L32.9077 730.788 L32.9077 735.085 L28.3562 735.085 L28.3562 730.788 L18.2347 730.788 L18.2347 724.9 Z\" fill=\"#000000\" fill-rule=\"evenodd\" fill-opacity=\"1\" /><path clip-path=\"url(#clip840)\" d=\"M44.7161 674.642 L47.5806 674.642 L47.5806 701.569 Q53.6281 701.187 56.8109 697.941 Q59.9619 694.662 59.9619 688.838 Q59.9619 685.464 59.1344 682.313 Q58.3069 679.13 56.6518 676.011 L62.1899 676.011 Q63.5267 679.162 64.227 682.472 Q64.9272 685.782 64.9272 689.188 Q64.9272 697.718 59.9619 702.715 Q54.9967 707.68 46.5303 707.68 Q37.7774 707.68 32.6531 702.97 Q27.4968 698.227 27.4968 690.206 Q27.4968 683.013 32.1438 678.844 Q36.7589 674.642 44.7161 674.642 M42.9973 680.499 Q38.1912 680.562 35.3266 683.204 Q32.4621 685.814 32.4621 690.143 Q32.4621 695.044 35.2312 698.004 Q38.0002 700.933 43.0292 701.378 L42.9973 680.499 Z\" fill=\"#000000\" fill-rule=\"evenodd\" fill-opacity=\"1\" /><path clip-path=\"url(#clip840)\" d=\"M29.4065 621.584 L34.9447 621.584 Q33.6716 624.067 33.035 626.74 Q32.3984 629.414 32.3984 632.278 Q32.3984 636.639 33.7352 638.835 Q35.072 641 37.7456 641 Q39.7826 641 40.9603 639.44 Q42.1061 637.88 43.1565 633.17 L43.6021 631.164 Q44.9389 624.926 47.3897 622.316 Q49.8086 619.674 54.1691 619.674 Q59.1344 619.674 62.0308 623.621 Q64.9272 627.536 64.9272 634.411 Q64.9272 637.276 64.3543 640.395 Q63.8132 643.482 62.6992 646.92 L56.6518 646.92 Q58.3387 643.673 59.198 640.522 Q60.0256 637.371 60.0256 634.284 Q60.0256 630.146 58.6251 627.918 Q57.1929 625.69 54.6147 625.69 Q52.2276 625.69 50.9545 627.313 Q49.6813 628.905 48.5037 634.347 L48.0262 636.384 Q46.8804 641.827 44.5251 644.246 Q42.138 646.665 38.0002 646.665 Q32.9713 646.665 30.2341 643.1 Q27.4968 639.535 27.4968 632.979 Q27.4968 629.732 27.9743 626.868 Q28.4517 624.003 29.4065 621.584 Z\" fill=\"#000000\" fill-rule=\"evenodd\" fill-opacity=\"1\" /><path clip-path=\"url(#clip840)\" d=\"M29.7248 584.695 L35.1993 584.695 Q33.8307 587.177 33.1623 589.692 Q32.4621 592.175 32.4621 594.721 Q32.4621 600.418 36.0905 603.569 Q39.6872 606.72 46.212 606.72 Q52.7369 606.72 56.3653 603.569 Q59.9619 600.418 59.9619 594.721 Q59.9619 592.175 59.2935 589.692 Q58.5933 587.177 57.2247 584.695 L62.6355 584.695 Q63.7814 587.146 64.3543 589.787 Q64.9272 592.397 64.9272 595.357 Q64.9272 603.41 59.8664 608.152 Q54.8057 612.895 46.212 612.895 Q37.491 612.895 32.4939 608.121 Q27.4968 603.315 27.4968 594.975 Q27.4968 592.27 28.0697 589.692 Q28.6108 587.114 29.7248 584.695 Z\" fill=\"#000000\" fill-rule=\"evenodd\" fill-opacity=\"1\" /><path clip-path=\"url(#clip840)\" d=\"M32.4621 560.696 Q32.4621 565.407 36.1542 568.144 Q39.8145 570.881 46.212 570.881 Q52.6095 570.881 56.3017 568.176 Q59.9619 565.439 59.9619 560.696 Q59.9619 556.017 56.2698 553.28 Q52.5777 550.543 46.212 550.543 Q39.8781 550.543 36.186 553.28 Q32.4621 556.017 32.4621 560.696 M27.4968 560.696 Q27.4968 553.057 32.4621 548.697 Q37.4273 544.336 46.212 544.336 Q54.9649 544.336 59.9619 548.697 Q64.9272 553.057 64.9272 560.696 Q64.9272 568.367 59.9619 572.727 Q54.9649 577.056 46.212 577.056 Q37.4273 577.056 32.4621 572.727 Q27.4968 568.367 27.4968 560.696 Z\" fill=\"#000000\" fill-rule=\"evenodd\" fill-opacity=\"1\" /><path clip-path=\"url(#clip840)\" d=\"M33.8307 513.972 Q33.2578 514.959 33.0032 516.136 Q32.7167 517.282 32.7167 518.682 Q32.7167 523.648 35.9632 526.321 Q39.1779 528.963 45.2253 528.963 L64.0042 528.963 L64.0042 534.851 L28.3562 534.851 L28.3562 528.963 L33.8944 528.963 Q30.6479 527.117 29.0883 524.157 Q27.4968 521.197 27.4968 516.964 Q27.4968 516.359 27.5923 515.627 Q27.656 514.895 27.8151 514.004 L33.8307 513.972 Z\" fill=\"#000000\" fill-rule=\"evenodd\" fill-opacity=\"1\" /><path clip-path=\"url(#clip840)\" d=\"M44.7161 478.769 L47.5806 478.769 L47.5806 505.696 Q53.6281 505.314 56.8109 502.068 Q59.9619 498.79 59.9619 492.965 Q59.9619 489.591 59.1344 486.44 Q58.3069 483.257 56.6518 480.138 L62.1899 480.138 Q63.5267 483.289 64.227 486.599 Q64.9272 489.909 64.9272 493.315 Q64.9272 501.845 59.9619 506.842 Q54.9967 511.807 46.5303 511.807 Q37.7774 511.807 32.6531 507.097 Q27.4968 502.354 27.4968 494.334 Q27.4968 487.14 32.1438 482.971 Q36.7589 478.769 44.7161 478.769 M42.9973 484.626 Q38.1912 484.69 35.3266 487.331 Q32.4621 489.941 32.4621 494.27 Q32.4621 499.172 35.2312 502.132 Q38.0002 505.06 43.0292 505.505 L42.9973 484.626 Z\" fill=\"#000000\" fill-rule=\"evenodd\" fill-opacity=\"1\" /><polyline clip-path=\"url(#clip842)\" style=\"stroke:#009af9; stroke-linecap:butt; stroke-linejoin:round; stroke-width:4; stroke-opacity:1; fill:none\" points=\"\n",
       "  280.231,343.644 414.375,86.1857 682.663,257.43 950.951,495.203 1487.53,951.822 1755.82,1156.27 2292.39,1384.24 \n",
       "  \"/>\n",
       "<path clip-path=\"url(#clip840)\" d=\"\n",
       "M1671.66 196.789 L2281.66 196.789 L2281.66 93.1086 L1671.66 93.1086  Z\n",
       "  \" fill=\"#ffffff\" fill-rule=\"evenodd\" fill-opacity=\"1\"/>\n",
       "<polyline clip-path=\"url(#clip840)\" style=\"stroke:#000000; stroke-linecap:butt; stroke-linejoin:round; stroke-width:4; stroke-opacity:1; fill:none\" points=\"\n",
       "  1671.66,196.789 2281.66,196.789 2281.66,93.1086 1671.66,93.1086 1671.66,196.789 \n",
       "  \"/>\n",
       "<polyline clip-path=\"url(#clip840)\" style=\"stroke:#009af9; stroke-linecap:butt; stroke-linejoin:round; stroke-width:4; stroke-opacity:1; fill:none\" points=\"\n",
       "  1695.36,144.949 1837.56,144.949 \n",
       "  \"/>\n",
       "<path clip-path=\"url(#clip840)\" d=\"M1879.68 137.067 L1879.68 141.094 Q1877.88 140.169 1875.93 139.706 Q1873.99 139.243 1871.9 139.243 Q1868.73 139.243 1867.13 140.215 Q1865.56 141.187 1865.56 143.131 Q1865.56 144.613 1866.69 145.469 Q1867.83 146.303 1871.25 147.067 L1872.71 147.391 Q1877.25 148.363 1879.15 150.145 Q1881.07 151.905 1881.07 155.076 Q1881.07 158.687 1878.2 160.793 Q1875.35 162.9 1870.35 162.9 Q1868.27 162.9 1866 162.483 Q1863.75 162.09 1861.25 161.28 L1861.25 156.881 Q1863.62 158.108 1865.91 158.733 Q1868.2 159.335 1870.44 159.335 Q1873.45 159.335 1875.07 158.317 Q1876.69 157.275 1876.69 155.4 Q1876.69 153.664 1875.51 152.738 Q1874.36 151.812 1870.4 150.956 L1868.92 150.608 Q1864.96 149.775 1863.2 148.062 Q1861.44 146.326 1861.44 143.317 Q1861.44 139.659 1864.03 137.669 Q1866.63 135.678 1871.39 135.678 Q1873.75 135.678 1875.84 136.025 Q1877.92 136.372 1879.68 137.067 Z\" fill=\"#000000\" fill-rule=\"evenodd\" fill-opacity=\"1\" /><path clip-path=\"url(#clip840)\" d=\"M1887.85 136.303 L1892.11 136.303 L1892.11 162.229 L1887.85 162.229 L1887.85 136.303 M1887.85 126.21 L1892.11 126.21 L1892.11 131.604 L1887.85 131.604 L1887.85 126.21 Z\" fill=\"#000000\" fill-rule=\"evenodd\" fill-opacity=\"1\" /><path clip-path=\"url(#clip840)\" d=\"M1901.02 126.21 L1905.28 126.21 L1905.28 162.229 L1901.02 162.229 L1901.02 126.21 Z\" fill=\"#000000\" fill-rule=\"evenodd\" fill-opacity=\"1\" /><path clip-path=\"url(#clip840)\" d=\"M1935.75 146.581 L1935.75 162.229 L1931.49 162.229 L1931.49 146.719 Q1931.49 143.039 1930.05 141.21 Q1928.62 139.382 1925.75 139.382 Q1922.3 139.382 1920.31 141.581 Q1918.31 143.78 1918.31 147.576 L1918.31 162.229 L1914.03 162.229 L1914.03 126.21 L1918.31 126.21 L1918.31 140.331 Q1919.84 137.993 1921.9 136.835 Q1923.99 135.678 1926.69 135.678 Q1931.16 135.678 1933.45 138.456 Q1935.75 141.21 1935.75 146.581 Z\" fill=\"#000000\" fill-rule=\"evenodd\" fill-opacity=\"1\" /><path clip-path=\"url(#clip840)\" d=\"M1954.29 139.289 Q1950.86 139.289 1948.87 141.974 Q1946.88 144.636 1946.88 149.289 Q1946.88 153.942 1948.85 156.627 Q1950.84 159.289 1954.29 159.289 Q1957.69 159.289 1959.68 156.604 Q1961.67 153.918 1961.67 149.289 Q1961.67 144.682 1959.68 141.997 Q1957.69 139.289 1954.29 139.289 M1954.29 135.678 Q1959.84 135.678 1963.01 139.289 Q1966.18 142.9 1966.18 149.289 Q1966.18 155.655 1963.01 159.289 Q1959.84 162.9 1954.29 162.9 Q1948.71 162.9 1945.54 159.289 Q1942.39 155.655 1942.39 149.289 Q1942.39 142.9 1945.54 139.289 Q1948.71 135.678 1954.29 135.678 Z\" fill=\"#000000\" fill-rule=\"evenodd\" fill-opacity=\"1\" /><path clip-path=\"url(#clip840)\" d=\"M1972.81 151.997 L1972.81 136.303 L1977.06 136.303 L1977.06 151.835 Q1977.06 155.516 1978.5 157.368 Q1979.93 159.196 1982.81 159.196 Q1986.25 159.196 1988.24 156.997 Q1990.26 154.798 1990.26 151.002 L1990.26 136.303 L1994.52 136.303 L1994.52 162.229 L1990.26 162.229 L1990.26 158.247 Q1988.71 160.608 1986.65 161.766 Q1984.61 162.9 1981.9 162.9 Q1977.43 162.9 1975.12 160.122 Q1972.81 157.344 1972.81 151.997 M1983.52 135.678 L1983.52 135.678 Z\" fill=\"#000000\" fill-rule=\"evenodd\" fill-opacity=\"1\" /><path clip-path=\"url(#clip840)\" d=\"M2025.47 148.201 L2025.47 150.284 L2005.88 150.284 Q2006.16 154.682 2008.52 156.997 Q2010.91 159.289 2015.14 159.289 Q2017.6 159.289 2019.89 158.687 Q2022.2 158.085 2024.47 156.881 L2024.47 160.909 Q2022.18 161.881 2019.77 162.391 Q2017.37 162.9 2014.89 162.9 Q2008.68 162.9 2005.05 159.289 Q2001.44 155.678 2001.44 149.52 Q2001.44 143.155 2004.87 139.428 Q2008.31 135.678 2014.15 135.678 Q2019.38 135.678 2022.41 139.057 Q2025.47 142.414 2025.47 148.201 M2021.21 146.951 Q2021.16 143.456 2019.24 141.372 Q2017.34 139.289 2014.19 139.289 Q2010.63 139.289 2008.48 141.303 Q2006.35 143.317 2006.02 146.974 L2021.21 146.951 Z\" fill=\"#000000\" fill-rule=\"evenodd\" fill-opacity=\"1\" /><path clip-path=\"url(#clip840)\" d=\"M2036.67 128.942 L2036.67 136.303 L2045.44 136.303 L2045.44 139.613 L2036.67 139.613 L2036.67 153.687 Q2036.67 156.858 2037.53 157.761 Q2038.41 158.664 2041.07 158.664 L2045.44 158.664 L2045.44 162.229 L2041.07 162.229 Q2036.14 162.229 2034.26 160.4 Q2032.39 158.548 2032.39 153.687 L2032.39 139.613 L2029.26 139.613 L2029.26 136.303 L2032.39 136.303 L2032.39 128.942 L2036.67 128.942 Z\" fill=\"#000000\" fill-rule=\"evenodd\" fill-opacity=\"1\" /><path clip-path=\"url(#clip840)\" d=\"M2055.26 128.942 L2055.26 136.303 L2064.03 136.303 L2064.03 139.613 L2055.26 139.613 L2055.26 153.687 Q2055.26 156.858 2056.11 157.761 Q2056.99 158.664 2059.66 158.664 L2064.03 158.664 L2064.03 162.229 L2059.66 162.229 Q2054.73 162.229 2052.85 160.4 Q2050.98 158.548 2050.98 153.687 L2050.98 139.613 L2047.85 139.613 L2047.85 136.303 L2050.98 136.303 L2050.98 128.942 L2055.26 128.942 Z\" fill=\"#000000\" fill-rule=\"evenodd\" fill-opacity=\"1\" /><path clip-path=\"url(#clip840)\" d=\"M2091.81 148.201 L2091.81 150.284 L2072.23 150.284 Q2072.5 154.682 2074.86 156.997 Q2077.25 159.289 2081.49 159.289 Q2083.94 159.289 2086.23 158.687 Q2088.55 158.085 2090.81 156.881 L2090.81 160.909 Q2088.52 161.881 2086.11 162.391 Q2083.71 162.9 2081.23 162.9 Q2075.03 162.9 2071.39 159.289 Q2067.78 155.678 2067.78 149.52 Q2067.78 143.155 2071.21 139.428 Q2074.66 135.678 2080.49 135.678 Q2085.72 135.678 2088.75 139.057 Q2091.81 142.414 2091.81 148.201 M2087.55 146.951 Q2087.5 143.456 2085.58 141.372 Q2083.68 139.289 2080.54 139.289 Q2076.97 139.289 2074.82 141.303 Q2072.69 143.317 2072.36 146.974 L2087.55 146.951 Z\" fill=\"#000000\" fill-rule=\"evenodd\" fill-opacity=\"1\" /><path clip-path=\"url(#clip840)\" d=\"M2130.4 137.067 L2130.4 141.094 Q2128.59 140.169 2126.65 139.706 Q2124.7 139.243 2122.62 139.243 Q2119.45 139.243 2117.85 140.215 Q2116.28 141.187 2116.28 143.131 Q2116.28 144.613 2117.41 145.469 Q2118.55 146.303 2121.97 147.067 L2123.43 147.391 Q2127.97 148.363 2129.86 150.145 Q2131.79 151.905 2131.79 155.076 Q2131.79 158.687 2128.92 160.793 Q2126.07 162.9 2121.07 162.9 Q2118.98 162.9 2116.72 162.483 Q2114.47 162.09 2111.97 161.28 L2111.97 156.881 Q2114.33 158.108 2116.62 158.733 Q2118.92 159.335 2121.16 159.335 Q2124.17 159.335 2125.79 158.317 Q2127.41 157.275 2127.41 155.4 Q2127.41 153.664 2126.23 152.738 Q2125.07 151.812 2121.11 150.956 L2119.63 150.608 Q2115.67 149.775 2113.92 148.062 Q2112.16 146.326 2112.16 143.317 Q2112.16 139.659 2114.75 137.669 Q2117.34 135.678 2122.11 135.678 Q2124.47 135.678 2126.55 136.025 Q2128.64 136.372 2130.4 137.067 Z\" fill=\"#000000\" fill-rule=\"evenodd\" fill-opacity=\"1\" /><path clip-path=\"url(#clip840)\" d=\"M2157.23 137.298 L2157.23 141.28 Q2155.42 140.284 2153.59 139.798 Q2151.79 139.289 2149.93 139.289 Q2145.79 139.289 2143.5 141.928 Q2141.21 144.544 2141.21 149.289 Q2141.21 154.034 2143.5 156.673 Q2145.79 159.289 2149.93 159.289 Q2151.79 159.289 2153.59 158.803 Q2155.42 158.293 2157.23 157.298 L2157.23 161.233 Q2155.44 162.067 2153.52 162.483 Q2151.62 162.9 2149.47 162.9 Q2143.61 162.9 2140.17 159.219 Q2136.72 155.539 2136.72 149.289 Q2136.72 142.946 2140.19 139.312 Q2143.68 135.678 2149.75 135.678 Q2151.72 135.678 2153.59 136.095 Q2155.47 136.488 2157.23 137.298 Z\" fill=\"#000000\" fill-rule=\"evenodd\" fill-opacity=\"1\" /><path clip-path=\"url(#clip840)\" d=\"M2174.68 139.289 Q2171.25 139.289 2169.26 141.974 Q2167.27 144.636 2167.27 149.289 Q2167.27 153.942 2169.24 156.627 Q2171.23 159.289 2174.68 159.289 Q2178.08 159.289 2180.07 156.604 Q2182.06 153.918 2182.06 149.289 Q2182.06 144.682 2180.07 141.997 Q2178.08 139.289 2174.68 139.289 M2174.68 135.678 Q2180.23 135.678 2183.41 139.289 Q2186.58 142.9 2186.58 149.289 Q2186.58 155.655 2183.41 159.289 Q2180.23 162.9 2174.68 162.9 Q2169.1 162.9 2165.93 159.289 Q2162.78 155.655 2162.78 149.289 Q2162.78 142.9 2165.93 139.289 Q2169.1 135.678 2174.68 135.678 Z\" fill=\"#000000\" fill-rule=\"evenodd\" fill-opacity=\"1\" /><path clip-path=\"url(#clip840)\" d=\"M2208.66 140.284 Q2207.94 139.868 2207.09 139.682 Q2206.25 139.474 2205.23 139.474 Q2201.62 139.474 2199.68 141.835 Q2197.76 144.173 2197.76 148.571 L2197.76 162.229 L2193.48 162.229 L2193.48 136.303 L2197.76 136.303 L2197.76 140.331 Q2199.1 137.969 2201.25 136.835 Q2203.41 135.678 2206.48 135.678 Q2206.92 135.678 2207.46 135.747 Q2207.99 135.794 2208.64 135.909 L2208.66 140.284 Z\" fill=\"#000000\" fill-rule=\"evenodd\" fill-opacity=\"1\" /><path clip-path=\"url(#clip840)\" d=\"M2234.26 148.201 L2234.26 150.284 L2214.68 150.284 Q2214.96 154.682 2217.32 156.997 Q2219.7 159.289 2223.94 159.289 Q2226.39 159.289 2228.68 158.687 Q2231 158.085 2233.27 156.881 L2233.27 160.909 Q2230.98 161.881 2228.57 162.391 Q2226.16 162.9 2223.68 162.9 Q2217.48 162.9 2213.85 159.289 Q2210.23 155.678 2210.23 149.52 Q2210.23 143.155 2213.66 139.428 Q2217.11 135.678 2222.94 135.678 Q2228.17 135.678 2231.21 139.057 Q2234.26 142.414 2234.26 148.201 M2230 146.951 Q2229.96 143.456 2228.04 141.372 Q2226.14 139.289 2222.99 139.289 Q2219.42 139.289 2217.27 141.303 Q2215.14 143.317 2214.82 146.974 L2230 146.951 Z\" fill=\"#000000\" fill-rule=\"evenodd\" fill-opacity=\"1\" /></svg>\n"
      ]
     },
     "execution_count": 85,
     "metadata": {},
     "output_type": "execute_result"
    }
   ],
   "source": [
    "StatsPlots.plot(ks, ys, label=\"silhouette score\", ylabel = \"silhouette score\", xlabel = \"number of clusters\")"
   ]
  },
  {
   "cell_type": "code",
   "execution_count": 86,
   "id": "7a62ab6d-a365-4f11-beae-70f173ded297",
   "metadata": {},
   "outputs": [
    {
     "data": {
      "text/plain": [
       "(0.8198797807365382, 2)"
      ]
     },
     "execution_count": 86,
     "metadata": {},
     "output_type": "execute_result"
    }
   ],
   "source": [
    "ymax, ymax_index = findmax(ys)"
   ]
  },
  {
   "cell_type": "code",
   "execution_count": 87,
   "id": "4390c1f5-1474-4330-832a-f2f30cd52bc3",
   "metadata": {},
   "outputs": [
    {
     "data": {
      "text/plain": [
       "3"
      ]
     },
     "execution_count": 87,
     "metadata": {},
     "output_type": "execute_result"
    }
   ],
   "source": [
    "optimal_k = ks[ymax_index]"
   ]
  },
  {
   "cell_type": "code",
   "execution_count": 88,
   "id": "ef2167b3-2adb-4cc4-bfa2-2f350c0440d0",
   "metadata": {},
   "outputs": [
    {
     "data": {
      "text/plain": [
       "(0.9001787434932467, 2)"
      ]
     },
     "execution_count": 88,
     "metadata": {},
     "output_type": "execute_result"
    }
   ],
   "source": [
    "clusterings = [Clustering.kmedoids(distance_matrix, optimal_k) for i in 1:10]\n",
    "\n",
    "max_value, max_value_index = findmax(clustering -> Statistics.mean(Clustering.silhouettes(clustering, distance_matrix)), clusterings)"
   ]
  },
  {
   "cell_type": "code",
   "execution_count": 89,
   "id": "e7829cf9-b2d8-400f-b0b9-223151bd09ad",
   "metadata": {},
   "outputs": [
    {
     "data": {
      "text/plain": [
       "Clustering.KmedoidsResult{Float64}([12, 19, 4], [3, 3, 3, 3, 3, 3, 3, 1, 1, 1  …  1, 1, 1, 1, 1, 1, 2, 2, 2, 2], [2.0, 1.0, 0.4150374992788439, 0.0, 0.3219280948873622, 0.5849625007211561, 0.8073549220576042, 0.07907157099119821, 0.05889368905356829, 0.03899413161586285  …  0.0, 0.019108822947704773, 0.0379678501990206, 0.05658352836636826, 0.07496205768122266, 0.09310940439148219, 0.009995617635444987, 0.0, 0.001659223921690156, 0.10252090403735892], [10, 4, 7], 5.721515142652818, 1, true)"
      ]
     },
     "execution_count": 89,
     "metadata": {},
     "output_type": "execute_result"
    }
   ],
   "source": [
    "optimal_clustering = clusterings[max_value_index]"
   ]
  },
  {
   "cell_type": "code",
   "execution_count": 90,
   "id": "57505fb9-97cc-45f1-be22-fa75cecec480",
   "metadata": {},
   "outputs": [
    {
     "data": {
      "text/plain": [
       "21-element Vector{Int64}:\n",
       " 3\n",
       " 3\n",
       " 3\n",
       " 3\n",
       " 3\n",
       " 3\n",
       " 3\n",
       " 1\n",
       " 1\n",
       " 1\n",
       " 1\n",
       " 1\n",
       " 1\n",
       " 1\n",
       " 1\n",
       " 1\n",
       " 1\n",
       " 2\n",
       " 2\n",
       " 2\n",
       " 2"
      ]
     },
     "execution_count": 90,
     "metadata": {},
     "output_type": "execute_result"
    }
   ],
   "source": [
    "optimal_clustering.assignments"
   ]
  },
  {
   "cell_type": "code",
   "execution_count": 91,
   "id": "718a1f70-24a0-4e5d-8a43-0d9f210b1bb5",
   "metadata": {},
   "outputs": [
    {
     "data": {
      "text/plain": [
       "(4, 3)"
      ]
     },
     "execution_count": 91,
     "metadata": {},
     "output_type": "execute_result"
    }
   ],
   "source": [
    "min_medoid_value, min_medoid_index = findmin(optimal_clustering.medoids)"
   ]
  },
  {
   "cell_type": "code",
   "execution_count": 93,
   "id": "f9bab4fd-d788-4f81-ab0d-4d2eb92773d6",
   "metadata": {},
   "outputs": [
    {
     "data": {
      "text/plain": [
       "21-element Vector{Bool}:\n",
       " 0\n",
       " 0\n",
       " 0\n",
       " 0\n",
       " 0\n",
       " 0\n",
       " 0\n",
       " 1\n",
       " 1\n",
       " 1\n",
       " 1\n",
       " 1\n",
       " 1\n",
       " 1\n",
       " 1\n",
       " 1\n",
       " 1\n",
       " 1\n",
       " 1\n",
       " 1\n",
       " 1"
      ]
     },
     "execution_count": 93,
     "metadata": {},
     "output_type": "execute_result"
    }
   ],
   "source": [
    "indices_to_include = map(assignment -> assignment .!= min_medoid_index, optimal_clustering.assignments)"
   ]
  },
  {
   "cell_type": "code",
   "execution_count": 100,
   "id": "4cefce06-dfee-4685-9577-cafa5cb28ca2",
   "metadata": {},
   "outputs": [
    {
     "data": {
      "text/plain": [
       "2.807354922057604"
      ]
     },
     "execution_count": 100,
     "metadata": {},
     "output_type": "execute_result"
    }
   ],
   "source": [
    "threshold = log2(ceil(2^maximum(kmer_depth_of_coverage_bins[.!indices_to_include])))"
   ]
  },
  {
   "cell_type": "code",
   "execution_count": 101,
   "id": "1f625070-3a83-460d-8a93-e1e8db61c3e2",
   "metadata": {},
   "outputs": [
    {
     "data": {
      "image/svg+xml": [
       "<?xml version=\"1.0\" encoding=\"utf-8\"?>\n",
       "<svg xmlns=\"http://www.w3.org/2000/svg\" xmlns:xlink=\"http://www.w3.org/1999/xlink\" width=\"500\" height=\"250\" viewBox=\"0 0 2000 1000\">\n",
       "<defs>\n",
       "  <clipPath id=\"clip880\">\n",
       "    <rect x=\"0\" y=\"0\" width=\"2000\" height=\"1000\"/>\n",
       "  </clipPath>\n",
       "</defs>\n",
       "<path clip-path=\"url(#clip880)\" d=\"\n",
       "M0 1000 L2000 1000 L2000 0 L0 0  Z\n",
       "  \" fill=\"#ffffff\" fill-rule=\"evenodd\" fill-opacity=\"1\"/>\n",
       "<defs>\n",
       "  <clipPath id=\"clip881\">\n",
       "    <rect x=\"400\" y=\"0\" width=\"1401\" height=\"1000\"/>\n",
       "  </clipPath>\n",
       "</defs>\n",
       "<path clip-path=\"url(#clip880)\" d=\"\n",
       "M158.269 849.7 L1952.76 849.7 L1952.76 108.352 L158.269 108.352  Z\n",
       "  \" fill=\"#ffffff\" fill-rule=\"evenodd\" fill-opacity=\"1\"/>\n",
       "<defs>\n",
       "  <clipPath id=\"clip882\">\n",
       "    <rect x=\"158\" y=\"108\" width=\"1795\" height=\"742\"/>\n",
       "  </clipPath>\n",
       "</defs>\n",
       "<polyline clip-path=\"url(#clip882)\" style=\"stroke:#000000; stroke-linecap:butt; stroke-linejoin:round; stroke-width:2; stroke-opacity:0.1; fill:none\" points=\"\n",
       "  158.269,849.7 158.269,108.352 \n",
       "  \"/>\n",
       "<polyline clip-path=\"url(#clip882)\" style=\"stroke:#000000; stroke-linecap:butt; stroke-linejoin:round; stroke-width:2; stroke-opacity:0.1; fill:none\" points=\"\n",
       "  610.294,849.7 610.294,108.352 \n",
       "  \"/>\n",
       "<polyline clip-path=\"url(#clip882)\" style=\"stroke:#000000; stroke-linecap:butt; stroke-linejoin:round; stroke-width:2; stroke-opacity:0.1; fill:none\" points=\"\n",
       "  1062.32,849.7 1062.32,108.352 \n",
       "  \"/>\n",
       "<polyline clip-path=\"url(#clip882)\" style=\"stroke:#000000; stroke-linecap:butt; stroke-linejoin:round; stroke-width:2; stroke-opacity:0.1; fill:none\" points=\"\n",
       "  1514.34,849.7 1514.34,108.352 \n",
       "  \"/>\n",
       "<polyline clip-path=\"url(#clip880)\" style=\"stroke:#000000; stroke-linecap:butt; stroke-linejoin:round; stroke-width:4; stroke-opacity:1; fill:none\" points=\"\n",
       "  158.269,849.7 1952.76,849.7 \n",
       "  \"/>\n",
       "<polyline clip-path=\"url(#clip880)\" style=\"stroke:#000000; stroke-linecap:butt; stroke-linejoin:round; stroke-width:4; stroke-opacity:1; fill:none\" points=\"\n",
       "  158.269,849.7 158.269,830.802 \n",
       "  \"/>\n",
       "<polyline clip-path=\"url(#clip880)\" style=\"stroke:#000000; stroke-linecap:butt; stroke-linejoin:round; stroke-width:4; stroke-opacity:1; fill:none\" points=\"\n",
       "  610.294,849.7 610.294,830.802 \n",
       "  \"/>\n",
       "<polyline clip-path=\"url(#clip880)\" style=\"stroke:#000000; stroke-linecap:butt; stroke-linejoin:round; stroke-width:4; stroke-opacity:1; fill:none\" points=\"\n",
       "  1062.32,849.7 1062.32,830.802 \n",
       "  \"/>\n",
       "<polyline clip-path=\"url(#clip880)\" style=\"stroke:#000000; stroke-linecap:butt; stroke-linejoin:round; stroke-width:4; stroke-opacity:1; fill:none\" points=\"\n",
       "  1514.34,849.7 1514.34,830.802 \n",
       "  \"/>\n",
       "<path clip-path=\"url(#clip880)\" d=\"M158.269 875.691 Q154.658 875.691 152.829 879.255 Q151.024 882.797 151.024 889.927 Q151.024 897.033 152.829 900.598 Q154.658 904.139 158.269 904.139 Q161.903 904.139 163.709 900.598 Q165.537 897.033 165.537 889.927 Q165.537 882.797 163.709 879.255 Q161.903 875.691 158.269 875.691 M158.269 871.987 Q164.079 871.987 167.135 876.593 Q170.213 881.177 170.213 889.927 Q170.213 898.653 167.135 903.26 Q164.079 907.843 158.269 907.843 Q152.459 907.843 149.38 903.26 Q146.325 898.653 146.325 889.927 Q146.325 881.177 149.38 876.593 Q152.459 871.987 158.269 871.987 Z\" fill=\"#000000\" fill-rule=\"evenodd\" fill-opacity=\"1\" /><path clip-path=\"url(#clip880)\" d=\"M600.676 903.237 L608.315 903.237 L608.315 876.871 L600.005 878.538 L600.005 874.279 L608.269 872.612 L612.945 872.612 L612.945 903.237 L620.584 903.237 L620.584 907.172 L600.676 907.172 L600.676 903.237 Z\" fill=\"#000000\" fill-rule=\"evenodd\" fill-opacity=\"1\" /><path clip-path=\"url(#clip880)\" d=\"M1056.97 903.237 L1073.29 903.237 L1073.29 907.172 L1051.35 907.172 L1051.35 903.237 Q1054.01 900.482 1058.59 895.852 Q1063.2 891.2 1064.38 889.857 Q1066.63 887.334 1067.5 885.598 Q1068.41 883.839 1068.41 882.149 Q1068.41 879.394 1066.46 877.658 Q1064.54 875.922 1061.44 875.922 Q1059.24 875.922 1056.79 876.686 Q1054.36 877.45 1051.58 879.001 L1051.58 874.279 Q1054.4 873.144 1056.86 872.566 Q1059.31 871.987 1061.35 871.987 Q1066.72 871.987 1069.91 874.672 Q1073.11 877.357 1073.11 881.848 Q1073.11 883.978 1072.3 885.899 Q1071.51 887.797 1069.4 890.39 Q1068.82 891.061 1065.72 894.278 Q1062.62 897.473 1056.97 903.237 Z\" fill=\"#000000\" fill-rule=\"evenodd\" fill-opacity=\"1\" /><path clip-path=\"url(#clip880)\" d=\"M1518.59 888.538 Q1521.95 889.255 1523.82 891.524 Q1525.72 893.792 1525.72 897.126 Q1525.72 902.241 1522.2 905.042 Q1518.69 907.843 1512.2 907.843 Q1510.03 907.843 1507.71 907.403 Q1505.42 906.987 1502.97 906.13 L1502.97 901.616 Q1504.91 902.751 1507.23 903.329 Q1509.54 903.908 1512.06 903.908 Q1516.46 903.908 1518.75 902.172 Q1521.07 900.436 1521.07 897.126 Q1521.07 894.07 1518.92 892.357 Q1516.79 890.621 1512.97 890.621 L1508.94 890.621 L1508.94 886.778 L1513.15 886.778 Q1516.6 886.778 1518.43 885.413 Q1520.26 884.024 1520.26 881.431 Q1520.26 878.769 1518.36 877.357 Q1516.49 875.922 1512.97 875.922 Q1511.05 875.922 1508.85 876.339 Q1506.65 876.755 1504.01 877.635 L1504.01 873.468 Q1506.67 872.728 1508.99 872.357 Q1511.32 871.987 1513.38 871.987 Q1518.71 871.987 1521.81 874.417 Q1524.91 876.825 1524.91 880.945 Q1524.91 883.815 1523.27 885.806 Q1521.62 887.774 1518.59 888.538 Z\" fill=\"#000000\" fill-rule=\"evenodd\" fill-opacity=\"1\" /><path clip-path=\"url(#clip880)\" d=\"M619.875 939.039 L625.732 939.039 L625.732 988.564 L619.875 988.564 L619.875 939.039 Z\" fill=\"#000000\" fill-rule=\"evenodd\" fill-opacity=\"1\" /><path clip-path=\"url(#clip880)\" d=\"M651.799 957.022 Q647.089 957.022 644.351 960.714 Q641.614 964.374 641.614 970.772 Q641.614 977.169 644.32 980.861 Q647.057 984.522 651.799 984.522 Q656.478 984.522 659.215 980.83 Q661.953 977.137 661.953 970.772 Q661.953 964.438 659.215 960.746 Q656.478 957.022 651.799 957.022 M651.799 952.057 Q659.438 952.057 663.799 957.022 Q668.159 961.987 668.159 970.772 Q668.159 979.525 663.799 984.522 Q659.438 989.487 651.799 989.487 Q644.129 989.487 639.768 984.522 Q635.439 979.525 635.439 970.772 Q635.439 961.987 639.768 957.022 Q644.129 952.057 651.799 952.057 Z\" fill=\"#000000\" fill-rule=\"evenodd\" fill-opacity=\"1\" /><path clip-path=\"url(#clip880)\" d=\"M701.324 970.326 Q701.324 963.96 698.683 960.459 Q696.073 956.958 691.33 956.958 Q686.62 956.958 683.978 960.459 Q681.368 963.96 681.368 970.326 Q681.368 976.66 683.978 980.161 Q686.62 983.662 691.33 983.662 Q696.073 983.662 698.683 980.161 Q701.324 976.66 701.324 970.326 M707.181 984.14 Q707.181 993.243 703.139 997.667 Q699.096 1002.12 690.757 1002.12 Q687.67 1002.12 684.933 1001.65 Q682.196 1001.2 679.617 1000.24 L679.617 994.548 Q682.196 995.948 684.71 996.616 Q687.224 997.285 689.834 997.285 Q695.595 997.285 698.46 994.261 Q701.324 991.269 701.324 985.19 L701.324 982.294 Q699.51 985.445 696.678 987.004 Q693.845 988.564 689.898 988.564 Q683.341 988.564 679.331 983.567 Q675.321 978.57 675.321 970.326 Q675.321 962.051 679.331 957.054 Q683.341 952.057 689.898 952.057 Q693.845 952.057 696.678 953.616 Q699.51 955.176 701.324 958.327 L701.324 952.916 L707.181 952.916 L707.181 984.14 Z\" fill=\"#000000\" fill-rule=\"evenodd\" fill-opacity=\"1\" /><path clip-path=\"url(#clip880)\" d=\"M721.185 983.153 L731.689 983.153 L731.689 946.9 L720.262 949.192 L720.262 943.335 L731.625 941.044 L738.055 941.044 L738.055 983.153 L748.558 983.153 L748.558 988.564 L721.185 988.564 L721.185 983.153 Z\" fill=\"#000000\" fill-rule=\"evenodd\" fill-opacity=\"1\" /><path clip-path=\"url(#clip880)\" d=\"M775.294 945.277 Q770.329 945.277 767.814 950.179 Q765.332 955.048 765.332 964.852 Q765.332 974.623 767.814 979.525 Q770.329 984.394 775.294 984.394 Q780.291 984.394 782.774 979.525 Q785.288 974.623 785.288 964.852 Q785.288 955.048 782.774 950.179 Q780.291 945.277 775.294 945.277 M775.294 940.184 Q783.283 940.184 787.484 946.518 Q791.718 952.82 791.718 964.852 Q791.718 976.851 787.484 983.185 Q783.283 989.487 775.294 989.487 Q767.305 989.487 763.072 983.185 Q758.87 976.851 758.87 964.852 Q758.87 952.82 763.072 946.518 Q767.305 940.184 775.294 940.184 Z\" fill=\"#000000\" fill-rule=\"evenodd\" fill-opacity=\"1\" /><path clip-path=\"url(#clip880)\" d=\"M816.257 939.102 Q811.992 946.423 809.923 953.584 Q807.855 960.746 807.855 968.098 Q807.855 975.45 809.923 982.676 Q812.024 989.869 816.257 997.158 L811.165 997.158 Q806.39 989.678 804.003 982.453 Q801.648 975.228 801.648 968.098 Q801.648 961 804.003 953.807 Q806.359 946.614 811.165 939.102 L816.257 939.102 Z\" fill=\"#000000\" fill-rule=\"evenodd\" fill-opacity=\"1\" /><path clip-path=\"url(#clip880)\" d=\"M841.434 957.022 Q836.723 957.022 833.986 960.714 Q831.249 964.374 831.249 970.772 Q831.249 977.169 833.954 980.861 Q836.691 984.522 841.434 984.522 Q846.112 984.522 848.85 980.83 Q851.587 977.137 851.587 970.772 Q851.587 964.438 848.85 960.746 Q846.112 957.022 841.434 957.022 M841.434 952.057 Q849.073 952.057 853.433 957.022 Q857.794 961.987 857.794 970.772 Q857.794 979.525 853.433 984.522 Q849.073 989.487 841.434 989.487 Q833.763 989.487 829.403 984.522 Q825.074 979.525 825.074 970.772 Q825.074 961.987 829.403 957.022 Q833.763 952.057 841.434 952.057 Z\" fill=\"#000000\" fill-rule=\"evenodd\" fill-opacity=\"1\" /><path clip-path=\"url(#clip880)\" d=\"M893.091 970.772 Q893.091 964.311 890.418 960.65 Q887.776 956.958 883.129 956.958 Q878.482 956.958 875.809 960.65 Q873.167 964.311 873.167 970.772 Q873.167 977.233 875.809 980.925 Q878.482 984.585 883.129 984.585 Q887.776 984.585 890.418 980.925 Q893.091 977.233 893.091 970.772 M873.167 958.327 Q875.013 955.144 877.814 953.616 Q880.646 952.057 884.561 952.057 Q891.054 952.057 895.097 957.213 Q899.171 962.369 899.171 970.772 Q899.171 979.174 895.097 984.331 Q891.054 989.487 884.561 989.487 Q880.646 989.487 877.814 987.959 Q875.013 986.4 873.167 983.217 L873.167 988.564 L867.278 988.564 L867.278 939.039 L873.167 939.039 L873.167 958.327 Z\" fill=\"#000000\" fill-rule=\"evenodd\" fill-opacity=\"1\" /><path clip-path=\"url(#clip880)\" d=\"M931.604 953.966 L931.604 959.504 Q929.121 958.231 926.448 957.595 Q923.774 956.958 920.91 956.958 Q916.549 956.958 914.353 958.295 Q912.189 959.632 912.189 962.305 Q912.189 964.342 913.748 965.52 Q915.308 966.666 920.018 967.716 L922.024 968.162 Q928.262 969.499 930.872 971.949 Q933.514 974.368 933.514 978.729 Q933.514 983.694 929.567 986.59 Q925.652 989.487 918.777 989.487 Q915.912 989.487 912.793 988.914 Q909.706 988.373 906.268 987.259 L906.268 981.211 Q909.515 982.898 912.666 983.758 Q915.817 984.585 918.904 984.585 Q923.042 984.585 925.27 983.185 Q927.498 981.753 927.498 979.174 Q927.498 976.787 925.875 975.514 Q924.283 974.241 918.841 973.063 L916.804 972.586 Q911.361 971.44 908.942 969.085 Q906.523 966.698 906.523 962.56 Q906.523 957.531 910.088 954.794 Q913.653 952.057 920.209 952.057 Q923.456 952.057 926.32 952.534 Q929.185 953.011 931.604 953.966 Z\" fill=\"#000000\" fill-rule=\"evenodd\" fill-opacity=\"1\" /><path clip-path=\"url(#clip880)\" d=\"M973.331 969.276 L973.331 972.14 L946.404 972.14 Q946.786 978.188 950.033 981.371 Q953.311 984.522 959.136 984.522 Q962.509 984.522 965.66 983.694 Q968.843 982.867 971.963 981.211 L971.963 986.75 Q968.811 988.086 965.501 988.787 Q962.191 989.487 958.785 989.487 Q950.255 989.487 945.258 984.522 Q940.293 979.556 940.293 971.09 Q940.293 962.337 945.004 957.213 Q949.746 952.057 957.767 952.057 Q964.96 952.057 969.13 956.703 Q973.331 961.319 973.331 969.276 M967.475 967.557 Q967.411 962.751 964.769 959.886 Q962.159 957.022 957.831 957.022 Q952.929 957.022 949.969 959.791 Q947.041 962.56 946.595 967.589 L967.475 967.557 Z\" fill=\"#000000\" fill-rule=\"evenodd\" fill-opacity=\"1\" /><path clip-path=\"url(#clip880)\" d=\"M1003.6 958.39 Q1002.61 957.817 1001.44 957.563 Q1000.29 957.276 998.889 957.276 Q993.924 957.276 991.251 960.523 Q988.609 963.738 988.609 969.785 L988.609 988.564 L982.721 988.564 L982.721 952.916 L988.609 952.916 L988.609 958.454 Q990.455 955.208 993.415 953.648 Q996.375 952.057 1000.61 952.057 Q1001.21 952.057 1001.94 952.152 Q1002.68 952.216 1003.57 952.375 L1003.6 958.39 Z\" fill=\"#000000\" fill-rule=\"evenodd\" fill-opacity=\"1\" /><path clip-path=\"url(#clip880)\" d=\"M1005.54 952.916 L1011.75 952.916 L1022.89 982.835 L1034.03 952.916 L1040.23 952.916 L1026.87 988.564 L1018.91 988.564 L1005.54 952.916 Z\" fill=\"#000000\" fill-rule=\"evenodd\" fill-opacity=\"1\" /><path clip-path=\"url(#clip880)\" d=\"M1078.81 969.276 L1078.81 972.14 L1051.88 972.14 Q1052.27 978.188 1055.51 981.371 Q1058.79 984.522 1064.62 984.522 Q1067.99 984.522 1071.14 983.694 Q1074.32 982.867 1077.44 981.211 L1077.44 986.75 Q1074.29 988.086 1070.98 988.787 Q1067.67 989.487 1064.27 989.487 Q1055.74 989.487 1050.74 984.522 Q1045.77 979.556 1045.77 971.09 Q1045.77 962.337 1050.48 957.213 Q1055.23 952.057 1063.25 952.057 Q1070.44 952.057 1074.61 956.703 Q1078.81 961.319 1078.81 969.276 M1072.95 967.557 Q1072.89 962.751 1070.25 959.886 Q1067.64 957.022 1063.31 957.022 Q1058.41 957.022 1055.45 959.791 Q1052.52 962.56 1052.07 967.589 L1072.95 967.557 Z\" fill=\"#000000\" fill-rule=\"evenodd\" fill-opacity=\"1\" /><path clip-path=\"url(#clip880)\" d=\"M1111.88 958.327 L1111.88 939.039 L1117.74 939.039 L1117.74 988.564 L1111.88 988.564 L1111.88 983.217 Q1110.03 986.4 1107.2 987.959 Q1104.4 989.487 1100.45 989.487 Q1093.99 989.487 1089.92 984.331 Q1085.88 979.174 1085.88 970.772 Q1085.88 962.369 1089.92 957.213 Q1093.99 952.057 1100.45 952.057 Q1104.4 952.057 1107.2 953.616 Q1110.03 955.144 1111.88 958.327 M1091.92 970.772 Q1091.92 977.233 1094.57 980.925 Q1097.24 984.585 1101.89 984.585 Q1106.53 984.585 1109.21 980.925 Q1111.88 977.233 1111.88 970.772 Q1111.88 964.311 1109.21 960.65 Q1106.53 956.958 1101.89 956.958 Q1097.24 956.958 1094.57 960.65 Q1091.92 964.311 1091.92 970.772 Z\" fill=\"#000000\" fill-rule=\"evenodd\" fill-opacity=\"1\" /><path clip-path=\"url(#clip880)\" d=\"M1168.57 939.039 L1168.57 943.908 L1162.97 943.908 Q1159.81 943.908 1158.57 945.182 Q1157.36 946.455 1157.36 949.765 L1157.36 952.916 L1167.01 952.916 L1167.01 957.467 L1157.36 957.467 L1157.36 988.564 L1151.48 988.564 L1151.48 957.467 L1145.87 957.467 L1145.87 952.916 L1151.48 952.916 L1151.48 950.433 Q1151.48 944.481 1154.24 941.776 Q1157.01 939.039 1163.03 939.039 L1168.57 939.039 Z\" fill=\"#000000\" fill-rule=\"evenodd\" fill-opacity=\"1\" /><path clip-path=\"url(#clip880)\" d=\"M1194.13 958.39 Q1193.14 957.817 1191.96 957.563 Q1190.82 957.276 1189.42 957.276 Q1184.45 957.276 1181.78 960.523 Q1179.13 963.738 1179.13 969.785 L1179.13 988.564 L1173.25 988.564 L1173.25 952.916 L1179.13 952.916 L1179.13 958.454 Q1180.98 955.208 1183.94 953.648 Q1186.9 952.057 1191.13 952.057 Q1191.74 952.057 1192.47 952.152 Q1193.2 952.216 1194.09 952.375 L1194.13 958.39 Z\" fill=\"#000000\" fill-rule=\"evenodd\" fill-opacity=\"1\" /><path clip-path=\"url(#clip880)\" d=\"M1229.33 969.276 L1229.33 972.14 L1202.4 972.14 Q1202.78 978.188 1206.03 981.371 Q1209.31 984.522 1215.13 984.522 Q1218.51 984.522 1221.66 983.694 Q1224.84 982.867 1227.96 981.211 L1227.96 986.75 Q1224.81 988.086 1221.5 988.787 Q1218.19 989.487 1214.78 989.487 Q1206.25 989.487 1201.26 984.522 Q1196.29 979.556 1196.29 971.09 Q1196.29 962.337 1201 957.213 Q1205.74 952.057 1213.76 952.057 Q1220.96 952.057 1225.13 956.703 Q1229.33 961.319 1229.33 969.276 M1223.47 967.557 Q1223.41 962.751 1220.77 959.886 Q1218.16 957.022 1213.83 957.022 Q1208.93 957.022 1205.97 959.791 Q1203.04 962.56 1202.59 967.589 L1223.47 967.557 Z\" fill=\"#000000\" fill-rule=\"evenodd\" fill-opacity=\"1\" /><path clip-path=\"url(#clip880)\" d=\"M1242.44 970.772 Q1242.44 977.233 1245.08 980.925 Q1247.76 984.585 1252.4 984.585 Q1257.05 984.585 1259.72 980.925 Q1262.4 977.233 1262.4 970.772 Q1262.4 964.311 1259.72 960.65 Q1257.05 956.958 1252.4 956.958 Q1247.76 956.958 1245.08 960.65 Q1242.44 964.311 1242.44 970.772 M1262.4 983.217 Q1260.55 986.4 1257.72 987.959 Q1254.92 989.487 1250.97 989.487 Q1244.51 989.487 1240.44 984.331 Q1236.39 979.174 1236.39 970.772 Q1236.39 962.369 1240.44 957.213 Q1244.51 952.057 1250.97 952.057 Q1254.92 952.057 1257.72 953.616 Q1260.55 955.144 1262.4 958.327 L1262.4 952.916 L1268.25 952.916 L1268.25 1002.12 L1262.4 1002.12 L1262.4 983.217 Z\" fill=\"#000000\" fill-rule=\"evenodd\" fill-opacity=\"1\" /><path clip-path=\"url(#clip880)\" d=\"M1279.71 974.496 L1279.71 952.916 L1285.57 952.916 L1285.57 974.273 Q1285.57 979.334 1287.54 981.88 Q1289.52 984.394 1293.46 984.394 Q1298.2 984.394 1300.94 981.371 Q1303.71 978.347 1303.71 973.127 L1303.71 952.916 L1309.57 952.916 L1309.57 988.564 L1303.71 988.564 L1303.71 983.089 Q1301.58 986.336 1298.75 987.927 Q1295.95 989.487 1292.22 989.487 Q1286.08 989.487 1282.9 985.667 Q1279.71 981.848 1279.71 974.496 M1294.45 952.057 L1294.45 952.057 Z\" fill=\"#000000\" fill-rule=\"evenodd\" fill-opacity=\"1\" /><path clip-path=\"url(#clip880)\" d=\"M1352.12 969.276 L1352.12 972.14 L1325.2 972.14 Q1325.58 978.188 1328.82 981.371 Q1332.1 984.522 1337.93 984.522 Q1341.3 984.522 1344.45 983.694 Q1347.63 982.867 1350.75 981.211 L1350.75 986.75 Q1347.6 988.086 1344.29 988.787 Q1340.98 989.487 1337.58 989.487 Q1329.05 989.487 1324.05 984.522 Q1319.08 979.556 1319.08 971.09 Q1319.08 962.337 1323.8 957.213 Q1328.54 952.057 1336.56 952.057 Q1343.75 952.057 1347.92 956.703 Q1352.12 961.319 1352.12 969.276 M1346.27 967.557 Q1346.2 962.751 1343.56 959.886 Q1340.95 957.022 1336.62 957.022 Q1331.72 957.022 1328.76 959.791 Q1325.83 962.56 1325.39 967.589 L1346.27 967.557 Z\" fill=\"#000000\" fill-rule=\"evenodd\" fill-opacity=\"1\" /><path clip-path=\"url(#clip880)\" d=\"M1391.37 967.048 L1391.37 988.564 L1385.51 988.564 L1385.51 967.239 Q1385.51 962.178 1383.54 959.664 Q1381.56 957.149 1377.62 957.149 Q1372.87 957.149 1370.14 960.173 Q1367.4 963.197 1367.4 968.416 L1367.4 988.564 L1361.51 988.564 L1361.51 952.916 L1367.4 952.916 L1367.4 958.454 Q1369.5 955.239 1372.33 953.648 Q1375.2 952.057 1378.92 952.057 Q1385.07 952.057 1388.22 955.876 Q1391.37 959.664 1391.37 967.048 Z\" fill=\"#000000\" fill-rule=\"evenodd\" fill-opacity=\"1\" /><path clip-path=\"url(#clip880)\" d=\"M1428.7 954.285 L1428.7 959.759 Q1426.22 958.39 1423.7 957.722 Q1421.22 957.022 1418.68 957.022 Q1412.98 957.022 1409.83 960.65 Q1406.68 964.247 1406.68 970.772 Q1406.68 977.297 1409.83 980.925 Q1412.98 984.522 1418.68 984.522 Q1421.22 984.522 1423.7 983.853 Q1426.22 983.153 1428.7 981.784 L1428.7 987.195 Q1426.25 988.341 1423.61 988.914 Q1421 989.487 1418.04 989.487 Q1409.99 989.487 1405.24 984.426 Q1400.5 979.365 1400.5 970.772 Q1400.5 962.051 1405.28 957.054 Q1410.08 952.057 1418.42 952.057 Q1421.13 952.057 1423.7 952.629 Q1426.28 953.171 1428.7 954.285 Z\" fill=\"#000000\" fill-rule=\"evenodd\" fill-opacity=\"1\" /><path clip-path=\"url(#clip880)\" d=\"M1453.72 991.874 Q1451.24 998.24 1448.88 1000.18 Q1446.53 1002.12 1442.58 1002.12 L1437.9 1002.12 L1437.9 997.221 L1441.34 997.221 Q1443.76 997.221 1445.09 996.075 Q1446.43 994.93 1448.05 990.665 L1449.1 987.991 L1434.69 952.916 L1440.89 952.916 L1452.03 980.798 L1463.17 952.916 L1469.38 952.916 L1453.72 991.874 Z\" fill=\"#000000\" fill-rule=\"evenodd\" fill-opacity=\"1\" /><path clip-path=\"url(#clip880)\" d=\"M1476.54 939.102 L1481.63 939.102 Q1486.41 946.614 1488.76 953.807 Q1491.15 961 1491.15 968.098 Q1491.15 975.228 1488.76 982.453 Q1486.41 989.678 1481.63 997.158 L1476.54 997.158 Q1480.77 989.869 1482.84 982.676 Q1484.94 975.45 1484.94 968.098 Q1484.94 960.746 1482.84 953.584 Q1480.77 946.423 1476.54 939.102 Z\" fill=\"#000000\" fill-rule=\"evenodd\" fill-opacity=\"1\" /><polyline clip-path=\"url(#clip882)\" style=\"stroke:#000000; stroke-linecap:butt; stroke-linejoin:round; stroke-width:2; stroke-opacity:0.1; fill:none\" points=\"\n",
       "  158.269,849.7 1952.76,849.7 \n",
       "  \"/>\n",
       "<polyline clip-path=\"url(#clip882)\" style=\"stroke:#000000; stroke-linecap:butt; stroke-linejoin:round; stroke-width:2; stroke-opacity:0.1; fill:none\" points=\"\n",
       "  158.269,639.545 1952.76,639.545 \n",
       "  \"/>\n",
       "<polyline clip-path=\"url(#clip882)\" style=\"stroke:#000000; stroke-linecap:butt; stroke-linejoin:round; stroke-width:2; stroke-opacity:0.1; fill:none\" points=\"\n",
       "  158.269,429.391 1952.76,429.391 \n",
       "  \"/>\n",
       "<polyline clip-path=\"url(#clip882)\" style=\"stroke:#000000; stroke-linecap:butt; stroke-linejoin:round; stroke-width:2; stroke-opacity:0.1; fill:none\" points=\"\n",
       "  158.269,219.236 1952.76,219.236 \n",
       "  \"/>\n",
       "<polyline clip-path=\"url(#clip880)\" style=\"stroke:#000000; stroke-linecap:butt; stroke-linejoin:round; stroke-width:4; stroke-opacity:1; fill:none\" points=\"\n",
       "  158.269,849.7 158.269,108.352 \n",
       "  \"/>\n",
       "<polyline clip-path=\"url(#clip880)\" style=\"stroke:#000000; stroke-linecap:butt; stroke-linejoin:round; stroke-width:4; stroke-opacity:1; fill:none\" points=\"\n",
       "  158.269,849.7 177.167,849.7 \n",
       "  \"/>\n",
       "<polyline clip-path=\"url(#clip880)\" style=\"stroke:#000000; stroke-linecap:butt; stroke-linejoin:round; stroke-width:4; stroke-opacity:1; fill:none\" points=\"\n",
       "  158.269,639.545 177.167,639.545 \n",
       "  \"/>\n",
       "<polyline clip-path=\"url(#clip880)\" style=\"stroke:#000000; stroke-linecap:butt; stroke-linejoin:round; stroke-width:4; stroke-opacity:1; fill:none\" points=\"\n",
       "  158.269,429.391 177.167,429.391 \n",
       "  \"/>\n",
       "<polyline clip-path=\"url(#clip880)\" style=\"stroke:#000000; stroke-linecap:butt; stroke-linejoin:round; stroke-width:4; stroke-opacity:1; fill:none\" points=\"\n",
       "  158.269,219.236 177.167,219.236 \n",
       "  \"/>\n",
       "<path clip-path=\"url(#clip880)\" d=\"M116.325 835.499 Q112.713 835.499 110.885 839.063 Q109.079 842.605 109.079 849.735 Q109.079 856.841 110.885 860.406 Q112.713 863.947 116.325 863.947 Q119.959 863.947 121.764 860.406 Q123.593 856.841 123.593 849.735 Q123.593 842.605 121.764 839.063 Q119.959 835.499 116.325 835.499 M116.325 831.795 Q122.135 831.795 125.19 836.401 Q128.269 840.985 128.269 849.735 Q128.269 858.461 125.19 863.068 Q122.135 867.651 116.325 867.651 Q110.514 867.651 107.436 863.068 Q104.38 858.461 104.38 849.735 Q104.38 840.985 107.436 836.401 Q110.514 831.795 116.325 831.795 Z\" fill=\"#000000\" fill-rule=\"evenodd\" fill-opacity=\"1\" /><path clip-path=\"url(#clip880)\" d=\"M108.362 652.89 L116 652.89 L116 626.524 L107.69 628.191 L107.69 623.932 L115.954 622.265 L120.63 622.265 L120.63 652.89 L128.269 652.89 L128.269 656.825 L108.362 656.825 L108.362 652.89 Z\" fill=\"#000000\" fill-rule=\"evenodd\" fill-opacity=\"1\" /><path clip-path=\"url(#clip880)\" d=\"M111.95 442.735 L128.269 442.735 L128.269 446.671 L106.325 446.671 L106.325 442.735 Q108.987 439.981 113.57 435.351 Q118.176 430.698 119.357 429.356 Q121.602 426.833 122.482 425.097 Q123.385 423.337 123.385 421.648 Q123.385 418.893 121.44 417.157 Q119.519 415.421 116.417 415.421 Q114.218 415.421 111.764 416.185 Q109.334 416.949 106.556 418.499 L106.556 413.777 Q109.38 412.643 111.834 412.064 Q114.288 411.486 116.325 411.486 Q121.695 411.486 124.889 414.171 Q128.084 416.856 128.084 421.347 Q128.084 423.476 127.274 425.398 Q126.487 427.296 124.38 429.888 Q123.801 430.56 120.7 433.777 Q117.598 436.972 111.95 442.735 Z\" fill=\"#000000\" fill-rule=\"evenodd\" fill-opacity=\"1\" /><path clip-path=\"url(#clip880)\" d=\"M121.139 217.882 Q124.496 218.599 126.371 220.868 Q128.269 223.136 128.269 226.47 Q128.269 231.585 124.75 234.386 Q121.232 237.187 114.75 237.187 Q112.575 237.187 110.26 236.747 Q107.968 236.331 105.514 235.474 L105.514 230.96 Q107.459 232.095 109.774 232.673 Q112.088 233.252 114.612 233.252 Q119.01 233.252 121.301 231.516 Q123.616 229.78 123.616 226.47 Q123.616 223.414 121.463 221.701 Q119.334 219.965 115.514 219.965 L111.487 219.965 L111.487 216.123 L115.7 216.123 Q119.149 216.123 120.977 214.757 Q122.806 213.368 122.806 210.775 Q122.806 208.113 120.908 206.701 Q119.033 205.266 115.514 205.266 Q113.593 205.266 111.394 205.683 Q109.195 206.099 106.556 206.979 L106.556 202.812 Q109.218 202.072 111.533 201.701 Q113.871 201.331 115.931 201.331 Q121.255 201.331 124.357 203.762 Q127.459 206.169 127.459 210.289 Q127.459 213.16 125.815 215.15 Q124.172 217.118 121.139 217.882 Z\" fill=\"#000000\" fill-rule=\"evenodd\" fill-opacity=\"1\" /><path clip-path=\"url(#clip880)\" d=\"M10.599 770.241 L10.599 764.385 L60.1242 764.385 L60.1242 770.241 L10.599 770.241 Z\" fill=\"#000000\" fill-rule=\"evenodd\" fill-opacity=\"1\" /><path clip-path=\"url(#clip880)\" d=\"M28.5821 738.317 Q28.5821 743.028 32.2742 745.765 Q35.9345 748.502 42.332 748.502 Q48.7295 748.502 52.4217 745.797 Q56.0819 743.06 56.0819 738.317 Q56.0819 733.638 52.3898 730.901 Q48.6977 728.164 42.332 728.164 Q35.9981 728.164 32.306 730.901 Q28.5821 733.638 28.5821 738.317 M23.6168 738.317 Q23.6168 730.678 28.5821 726.318 Q33.5473 721.957 42.332 721.957 Q51.0849 721.957 56.0819 726.318 Q61.0472 730.678 61.0472 738.317 Q61.0472 745.988 56.0819 750.348 Q51.0849 754.677 42.332 754.677 Q33.5473 754.677 28.5821 750.348 Q23.6168 745.988 23.6168 738.317 Z\" fill=\"#000000\" fill-rule=\"evenodd\" fill-opacity=\"1\" /><path clip-path=\"url(#clip880)\" d=\"M41.8864 688.792 Q35.5207 688.792 32.0196 691.434 Q28.5184 694.044 28.5184 698.786 Q28.5184 703.497 32.0196 706.138 Q35.5207 708.748 41.8864 708.748 Q48.2203 708.748 51.7214 706.138 Q55.2226 703.497 55.2226 698.786 Q55.2226 694.044 51.7214 691.434 Q48.2203 688.792 41.8864 688.792 M55.7 682.935 Q64.803 682.935 69.2271 686.978 Q73.6831 691.02 73.6831 699.359 Q73.6831 702.446 73.2057 705.184 Q72.7601 707.921 71.8052 710.499 L66.1079 710.499 Q67.5084 707.921 68.1768 705.406 Q68.8452 702.892 68.8452 700.282 Q68.8452 694.521 65.8215 691.656 Q62.8296 688.792 56.7503 688.792 L53.8539 688.792 Q57.005 690.606 58.5646 693.439 Q60.1242 696.272 60.1242 700.218 Q60.1242 706.775 55.1271 710.785 Q50.13 714.796 41.8864 714.796 Q33.611 714.796 28.6139 710.785 Q23.6168 706.775 23.6168 700.218 Q23.6168 696.272 25.1764 693.439 Q26.736 690.606 29.8871 688.792 L24.4762 688.792 L24.4762 682.935 L55.7 682.935 Z\" fill=\"#000000\" fill-rule=\"evenodd\" fill-opacity=\"1\" /><path clip-path=\"url(#clip880)\" d=\"M54.7133 668.931 L54.7133 658.428 L18.4606 658.428 L20.7523 669.854 L14.8958 669.854 L12.6042 658.491 L12.6042 652.062 L54.7133 652.062 L54.7133 641.558 L60.1242 641.558 L60.1242 668.931 L54.7133 668.931 Z\" fill=\"#000000\" fill-rule=\"evenodd\" fill-opacity=\"1\" /><path clip-path=\"url(#clip880)\" d=\"M16.8374 614.822 Q16.8374 619.788 21.7389 622.302 Q26.6087 624.785 36.4119 624.785 Q46.1833 624.785 51.0849 622.302 Q55.9546 619.788 55.9546 614.822 Q55.9546 609.825 51.0849 607.343 Q46.1833 604.828 36.4119 604.828 Q26.6087 604.828 21.7389 607.343 Q16.8374 609.825 16.8374 614.822 M11.7448 614.822 Q11.7448 606.833 18.0787 602.632 Q24.3807 598.399 36.4119 598.399 Q48.4113 598.399 54.7451 602.632 Q61.0472 606.833 61.0472 614.822 Q61.0472 622.811 54.7451 627.045 Q48.4113 631.246 36.4119 631.246 Q24.3807 631.246 18.0787 627.045 Q11.7448 622.811 11.7448 614.822 Z\" fill=\"#000000\" fill-rule=\"evenodd\" fill-opacity=\"1\" /><path clip-path=\"url(#clip880)\" d=\"M10.6626 573.859 Q17.9832 578.124 25.1446 580.193 Q32.306 582.262 39.6584 582.262 Q47.0108 582.262 54.2359 580.193 Q61.4291 578.092 68.7179 573.859 L68.7179 578.952 Q61.2382 583.726 54.0131 586.113 Q46.788 588.468 39.6584 588.468 Q32.5606 588.468 25.3674 586.113 Q18.1742 583.758 10.6626 578.952 L10.6626 573.859 Z\" fill=\"#000000\" fill-rule=\"evenodd\" fill-opacity=\"1\" /><path clip-path=\"url(#clip880)\" d=\"M31.4466 535.315 L31.4466 544.577 L42.0774 547.25 L42.0774 537.925 L31.4466 535.315 M13.3362 540.089 L26.5451 543.399 L26.5451 534.105 L13.3362 530.763 L13.3362 525.671 L26.5451 528.949 L26.5451 519.019 L31.4466 519.019 L31.4466 530.19 L42.0774 532.8 L42.0774 522.679 L46.9471 522.679 L46.9471 534.042 L60.1242 537.352 L60.1242 542.444 L46.9471 539.166 L46.9471 548.492 L60.1242 551.77 L60.1242 556.894 L46.9471 553.584 L46.9471 563.61 L42.0774 563.61 L42.0774 552.407 L31.4466 549.733 L31.4466 559.982 L26.5451 559.982 L26.5451 548.492 L13.3362 545.245 L13.3362 540.089 Z\" fill=\"#000000\" fill-rule=\"evenodd\" fill-opacity=\"1\" /><path clip-path=\"url(#clip880)\" d=\"M28.5821 473.345 Q28.5821 478.055 32.2742 480.792 Q35.9345 483.53 42.332 483.53 Q48.7295 483.53 52.4217 480.824 Q56.0819 478.087 56.0819 473.345 Q56.0819 468.666 52.3898 465.929 Q48.6977 463.191 42.332 463.191 Q35.9981 463.191 32.306 465.929 Q28.5821 468.666 28.5821 473.345 M23.6168 473.345 Q23.6168 465.706 28.5821 461.345 Q33.5473 456.985 42.332 456.985 Q51.0849 456.985 56.0819 461.345 Q61.0472 465.706 61.0472 473.345 Q61.0472 481.015 56.0819 485.376 Q51.0849 489.704 42.332 489.704 Q33.5473 489.704 28.5821 485.376 Q23.6168 481.015 23.6168 473.345 Z\" fill=\"#000000\" fill-rule=\"evenodd\" fill-opacity=\"1\" /><path clip-path=\"url(#clip880)\" d=\"M10.599 429.23 L15.4687 429.23 L15.4687 434.832 Q15.4687 437.983 16.7419 439.224 Q18.015 440.434 21.3252 440.434 L24.4762 440.434 L24.4762 430.79 L29.0277 430.79 L29.0277 440.434 L60.1242 440.434 L60.1242 446.322 L29.0277 446.322 L29.0277 451.924 L24.4762 451.924 L24.4762 446.322 L21.9936 446.322 Q16.0416 446.322 13.3362 443.553 Q10.599 440.784 10.599 434.768 L10.599 429.23 Z\" fill=\"#000000\" fill-rule=\"evenodd\" fill-opacity=\"1\" /><path clip-path=\"url(#clip880)\" d=\"M10.599 403.831 L10.599 397.943 L39.8494 397.943 L24.4762 380.469 L24.4762 372.989 L41.1544 391.895 L60.1242 372.194 L60.1242 379.832 L42.7139 397.943 L60.1242 397.943 L60.1242 403.831 L10.599 403.831 Z\" fill=\"#000000\" fill-rule=\"evenodd\" fill-opacity=\"1\" /><path clip-path=\"url(#clip880)\" d=\"M31.3193 338.105 Q27.3726 335.909 25.4947 332.853 Q23.6168 329.798 23.6168 325.66 Q23.6168 320.09 27.5317 317.066 Q31.4148 314.043 38.6081 314.043 L60.1242 314.043 L60.1242 319.931 L38.799 319.931 Q33.6746 319.931 31.192 321.745 Q28.7094 323.56 28.7094 327.283 Q28.7094 331.835 31.7331 334.477 Q34.7568 337.118 39.9767 337.118 L60.1242 337.118 L60.1242 343.007 L38.799 343.007 Q33.6428 343.007 31.192 344.821 Q28.7094 346.635 28.7094 350.423 Q28.7094 354.911 31.7649 357.552 Q34.7886 360.194 39.9767 360.194 L60.1242 360.194 L60.1242 366.082 L24.4762 366.082 L24.4762 360.194 L30.0144 360.194 Q26.736 358.189 25.1764 355.388 Q23.6168 352.587 23.6168 348.736 Q23.6168 344.853 25.5902 342.147 Q27.5636 339.41 31.3193 338.105 Z\" fill=\"#000000\" fill-rule=\"evenodd\" fill-opacity=\"1\" /><path clip-path=\"url(#clip880)\" d=\"M40.8361 271.87 L43.7006 271.87 L43.7006 298.797 Q49.7481 298.415 52.9309 295.168 Q56.0819 291.89 56.0819 286.066 Q56.0819 282.692 55.2544 279.541 Q54.4269 276.358 52.7718 273.239 L58.3099 273.239 Q59.6467 276.39 60.347 279.7 Q61.0472 283.01 61.0472 286.416 Q61.0472 294.946 56.0819 299.943 Q51.1167 304.908 42.6503 304.908 Q33.8974 304.908 28.7731 300.197 Q23.6168 295.455 23.6168 287.434 Q23.6168 280.241 28.2638 276.071 Q32.8789 271.87 40.8361 271.87 M39.1173 277.726 Q34.3112 277.79 31.4466 280.432 Q28.5821 283.042 28.5821 287.37 Q28.5821 292.272 31.3512 295.232 Q34.1202 298.16 39.1492 298.606 L39.1173 277.726 Z\" fill=\"#000000\" fill-rule=\"evenodd\" fill-opacity=\"1\" /><path clip-path=\"url(#clip880)\" d=\"M29.9507 241.601 Q29.3778 242.588 29.1232 243.765 Q28.8367 244.911 28.8367 246.312 Q28.8367 251.277 32.0832 253.951 Q35.2979 256.592 41.3453 256.592 L60.1242 256.592 L60.1242 262.481 L24.4762 262.481 L24.4762 256.592 L30.0144 256.592 Q26.7679 254.746 25.2083 251.786 Q23.6168 248.826 23.6168 244.593 Q23.6168 243.988 23.7123 243.256 Q23.776 242.524 23.9351 241.633 L29.9507 241.601 Z\" fill=\"#000000\" fill-rule=\"evenodd\" fill-opacity=\"1\" /><path clip-path=\"url(#clip880)\" d=\"M25.5265 212.733 L31.0647 212.733 Q29.7916 215.215 29.155 217.889 Q28.5184 220.562 28.5184 223.427 Q28.5184 227.787 29.8552 229.984 Q31.192 232.148 33.8656 232.148 Q35.9026 232.148 37.0803 230.588 Q38.2261 229.029 39.2765 224.318 L39.7221 222.313 Q41.0589 216.075 43.5097 213.465 Q45.9286 210.823 50.2891 210.823 Q55.2544 210.823 58.1508 214.77 Q61.0472 218.684 61.0472 225.559 Q61.0472 228.424 60.4743 231.543 Q59.9332 234.631 58.8192 238.068 L52.7718 238.068 Q54.4587 234.822 55.318 231.671 Q56.1456 228.52 56.1456 225.432 Q56.1456 221.294 54.7451 219.066 Q53.3129 216.838 50.7347 216.838 Q48.3476 216.838 47.0745 218.462 Q45.8013 220.053 44.6237 225.496 L44.1462 227.533 Q43.0004 232.976 40.6451 235.394 Q38.258 237.813 34.1202 237.813 Q29.0913 237.813 26.3541 234.249 Q23.6168 230.684 23.6168 224.127 Q23.6168 220.881 24.0943 218.016 Q24.5717 215.152 25.5265 212.733 Z\" fill=\"#000000\" fill-rule=\"evenodd\" fill-opacity=\"1\" /><path clip-path=\"url(#clip880)\" d=\"M10.6626 202.42 L10.6626 197.328 Q18.1742 192.553 25.3674 190.198 Q32.5606 187.811 39.6584 187.811 Q46.788 187.811 54.0131 190.198 Q61.2382 192.553 68.7179 197.328 L68.7179 202.42 Q61.4291 198.187 54.2359 196.118 Q47.0108 194.017 39.6584 194.017 Q32.306 194.017 25.1446 196.118 Q17.9832 198.187 10.6626 202.42 Z\" fill=\"#000000\" fill-rule=\"evenodd\" fill-opacity=\"1\" /><path clip-path=\"url(#clip880)\" d=\"M698.952 9.54393 L706.446 9.54393 L706.446 46.7717 L728.685 27.2059 L738.205 27.2059 L714.143 48.4326 L739.218 72.576 L729.496 72.576 L706.446 50.4176 L706.446 72.576 L698.952 72.576 L698.952 9.54393 Z\" fill=\"#000000\" fill-rule=\"evenodd\" fill-opacity=\"1\" /><path clip-path=\"url(#clip880)\" d=\"M782.603 35.9153 Q785.398 30.8922 789.287 28.5022 Q793.176 26.1121 798.442 26.1121 Q805.531 26.1121 809.379 31.0947 Q813.228 36.0368 813.228 45.1919 L813.228 72.576 L805.734 72.576 L805.734 45.4349 Q805.734 38.913 803.425 35.7533 Q801.116 32.5936 796.376 32.5936 Q790.583 32.5936 787.221 36.4419 Q783.859 40.2903 783.859 46.9338 L783.859 72.576 L776.365 72.576 L776.365 45.4349 Q776.365 38.8725 774.056 35.7533 Q771.747 32.5936 766.926 32.5936 Q761.214 32.5936 757.852 36.4824 Q754.49 40.3308 754.49 46.9338 L754.49 72.576 L746.996 72.576 L746.996 27.2059 L754.49 27.2059 L754.49 34.2544 Q757.042 30.082 760.607 28.0971 Q764.171 26.1121 769.073 26.1121 Q774.015 26.1121 777.458 28.6237 Q780.942 31.1352 782.603 35.9153 Z\" fill=\"#000000\" fill-rule=\"evenodd\" fill-opacity=\"1\" /><path clip-path=\"url(#clip880)\" d=\"M866.902 48.0275 L866.902 51.6733 L832.632 51.6733 Q833.118 59.3701 837.25 63.421 Q841.422 67.4314 848.835 67.4314 Q853.129 67.4314 857.14 66.3781 Q861.191 65.3249 865.16 63.2184 L865.16 70.267 Q861.15 71.9684 856.937 72.8596 Q852.724 73.7508 848.39 73.7508 Q837.533 73.7508 831.173 67.4314 Q824.854 61.1119 824.854 50.3365 Q824.854 39.1965 830.849 32.6746 Q836.885 26.1121 847.093 26.1121 Q856.248 26.1121 861.555 32.0264 Q866.902 37.9003 866.902 48.0275 M859.449 45.84 Q859.368 39.7232 856.005 36.0774 Q852.684 32.4315 847.174 32.4315 Q840.936 32.4315 837.169 35.9558 Q833.442 39.4801 832.875 45.8805 L859.449 45.84 Z\" fill=\"#000000\" fill-rule=\"evenodd\" fill-opacity=\"1\" /><path clip-path=\"url(#clip880)\" d=\"M905.426 34.1734 Q904.171 33.4443 902.672 33.1202 Q901.213 32.7556 899.431 32.7556 Q893.112 32.7556 889.709 36.8875 Q886.347 40.9789 886.347 48.6757 L886.347 72.576 L878.852 72.576 L878.852 27.2059 L886.347 27.2059 L886.347 34.2544 Q888.696 30.1225 892.464 28.1376 Q896.231 26.1121 901.619 26.1121 Q902.388 26.1121 903.32 26.2337 Q904.252 26.3147 905.386 26.5172 L905.426 34.1734 Z\" fill=\"#000000\" fill-rule=\"evenodd\" fill-opacity=\"1\" /><path clip-path=\"url(#clip880)\" d=\"M962.585 9.54393 L962.585 15.7418 L955.455 15.7418 Q951.445 15.7418 949.865 17.3622 Q948.325 18.9825 948.325 23.1955 L948.325 27.2059 L960.6 27.2059 L960.6 32.9987 L948.325 32.9987 L948.325 72.576 L940.831 72.576 L940.831 32.9987 L933.702 32.9987 L933.702 27.2059 L940.831 27.2059 L940.831 24.0462 Q940.831 16.471 944.356 13.0277 Q947.88 9.54393 955.536 9.54393 L962.585 9.54393 Z\" fill=\"#000000\" fill-rule=\"evenodd\" fill-opacity=\"1\" /><path clip-path=\"url(#clip880)\" d=\"M995.113 34.1734 Q993.858 33.4443 992.359 33.1202 Q990.9 32.7556 989.118 32.7556 Q982.799 32.7556 979.396 36.8875 Q976.034 40.9789 976.034 48.6757 L976.034 72.576 L968.539 72.576 L968.539 27.2059 L976.034 27.2059 L976.034 34.2544 Q978.383 30.1225 982.151 28.1376 Q985.918 26.1121 991.306 26.1121 Q992.075 26.1121 993.007 26.2337 Q993.939 26.3147 995.073 26.5172 L995.113 34.1734 Z\" fill=\"#000000\" fill-rule=\"evenodd\" fill-opacity=\"1\" /><path clip-path=\"url(#clip880)\" d=\"M1039.92 48.0275 L1039.92 51.6733 L1005.65 51.6733 Q1006.13 59.3701 1010.26 63.421 Q1014.44 67.4314 1021.85 67.4314 Q1026.14 67.4314 1030.15 66.3781 Q1034.2 65.3249 1038.17 63.2184 L1038.17 70.267 Q1034.16 71.9684 1029.95 72.8596 Q1025.74 73.7508 1021.4 73.7508 Q1010.55 73.7508 1004.19 67.4314 Q997.868 61.1119 997.868 50.3365 Q997.868 39.1965 1003.86 32.6746 Q1009.9 26.1121 1020.11 26.1121 Q1029.26 26.1121 1034.57 32.0264 Q1039.92 37.9003 1039.92 48.0275 M1032.46 45.84 Q1032.38 39.7232 1029.02 36.0774 Q1025.7 32.4315 1020.19 32.4315 Q1013.95 32.4315 1010.18 35.9558 Q1006.46 39.4801 1005.89 45.8805 L1032.46 45.84 Z\" fill=\"#000000\" fill-rule=\"evenodd\" fill-opacity=\"1\" /><path clip-path=\"url(#clip880)\" d=\"M1056.61 49.9314 Q1056.61 58.1548 1059.97 62.8538 Q1063.37 67.5124 1069.29 67.5124 Q1075.2 67.5124 1078.6 62.8538 Q1082.01 58.1548 1082.01 49.9314 Q1082.01 41.7081 1078.6 37.0496 Q1075.2 32.3505 1069.29 32.3505 Q1063.37 32.3505 1059.97 37.0496 Q1056.61 41.7081 1056.61 49.9314 M1082.01 65.7705 Q1079.66 69.8214 1076.05 71.8063 Q1072.49 73.7508 1067.46 73.7508 Q1059.24 73.7508 1054.05 67.1883 Q1048.91 60.6258 1048.91 49.9314 Q1048.91 39.2371 1054.05 32.6746 Q1059.24 26.1121 1067.46 26.1121 Q1072.49 26.1121 1076.05 28.0971 Q1079.66 30.0415 1082.01 34.0924 L1082.01 27.2059 L1089.46 27.2059 L1089.46 89.8329 L1082.01 89.8329 L1082.01 65.7705 Z\" fill=\"#000000\" fill-rule=\"evenodd\" fill-opacity=\"1\" /><path clip-path=\"url(#clip880)\" d=\"M1104.04 54.671 L1104.04 27.2059 L1111.5 27.2059 L1111.5 54.3874 Q1111.5 60.8284 1114.01 64.0691 Q1116.52 67.2693 1121.54 67.2693 Q1127.58 67.2693 1131.06 63.421 Q1134.59 59.5726 1134.59 52.9291 L1134.59 27.2059 L1142.04 27.2059 L1142.04 72.576 L1134.59 72.576 L1134.59 65.6084 Q1131.87 69.7404 1128.27 71.7658 Q1124.7 73.7508 1119.96 73.7508 Q1112.14 73.7508 1108.09 68.8897 Q1104.04 64.0286 1104.04 54.671 M1122.8 26.1121 L1122.8 26.1121 Z\" fill=\"#000000\" fill-rule=\"evenodd\" fill-opacity=\"1\" /><path clip-path=\"url(#clip880)\" d=\"M1196.2 48.0275 L1196.2 51.6733 L1161.93 51.6733 Q1162.42 59.3701 1166.55 63.421 Q1170.72 67.4314 1178.13 67.4314 Q1182.43 67.4314 1186.44 66.3781 Q1190.49 65.3249 1194.46 63.2184 L1194.46 70.267 Q1190.45 71.9684 1186.24 72.8596 Q1182.02 73.7508 1177.69 73.7508 Q1166.83 73.7508 1160.47 67.4314 Q1154.15 61.1119 1154.15 50.3365 Q1154.15 39.1965 1160.15 32.6746 Q1166.18 26.1121 1176.39 26.1121 Q1185.55 26.1121 1190.85 32.0264 Q1196.2 37.9003 1196.2 48.0275 M1188.75 45.84 Q1188.67 39.7232 1185.3 36.0774 Q1181.98 32.4315 1176.47 32.4315 Q1170.23 32.4315 1166.47 35.9558 Q1162.74 39.4801 1162.17 45.8805 L1188.75 45.84 Z\" fill=\"#000000\" fill-rule=\"evenodd\" fill-opacity=\"1\" /><path clip-path=\"url(#clip880)\" d=\"M1246.15 45.1919 L1246.15 72.576 L1238.69 72.576 L1238.69 45.4349 Q1238.69 38.994 1236.18 35.7938 Q1233.67 32.5936 1228.65 32.5936 Q1222.61 32.5936 1219.13 36.4419 Q1215.64 40.2903 1215.64 46.9338 L1215.64 72.576 L1208.15 72.576 L1208.15 27.2059 L1215.64 27.2059 L1215.64 34.2544 Q1218.32 30.163 1221.92 28.1376 Q1225.57 26.1121 1230.31 26.1121 Q1238.13 26.1121 1242.14 30.9732 Q1246.15 35.7938 1246.15 45.1919 Z\" fill=\"#000000\" fill-rule=\"evenodd\" fill-opacity=\"1\" /><path clip-path=\"url(#clip880)\" d=\"M1293.67 28.9478 L1293.67 35.9153 Q1290.51 34.1734 1287.31 33.3227 Q1284.15 32.4315 1280.9 32.4315 Q1273.65 32.4315 1269.64 37.0496 Q1265.63 41.6271 1265.63 49.9314 Q1265.63 58.2358 1269.64 62.8538 Q1273.65 67.4314 1280.9 67.4314 Q1284.15 67.4314 1287.31 66.5807 Q1290.51 65.6895 1293.67 63.9476 L1293.67 70.8341 Q1290.55 72.2924 1287.18 73.0216 Q1283.86 73.7508 1280.09 73.7508 Q1269.85 73.7508 1263.81 67.3098 Q1257.77 60.8689 1257.77 49.9314 Q1257.77 38.832 1263.85 32.472 Q1269.97 26.1121 1280.58 26.1121 Q1284.02 26.1121 1287.31 26.8413 Q1290.59 27.5299 1293.67 28.9478 Z\" fill=\"#000000\" fill-rule=\"evenodd\" fill-opacity=\"1\" /><path clip-path=\"url(#clip880)\" d=\"M1306.63 27.2059 L1314.08 27.2059 L1314.08 72.576 L1306.63 72.576 L1306.63 27.2059 M1306.63 9.54393 L1314.08 9.54393 L1314.08 18.9825 L1306.63 18.9825 L1306.63 9.54393 Z\" fill=\"#000000\" fill-rule=\"evenodd\" fill-opacity=\"1\" /><path clip-path=\"url(#clip880)\" d=\"M1368.49 48.0275 L1368.49 51.6733 L1334.21 51.6733 Q1334.7 59.3701 1338.83 63.421 Q1343.01 67.4314 1350.42 67.4314 Q1354.71 67.4314 1358.72 66.3781 Q1362.77 65.3249 1366.74 63.2184 L1366.74 70.267 Q1362.73 71.9684 1358.52 72.8596 Q1354.31 73.7508 1349.97 73.7508 Q1339.12 73.7508 1332.76 67.4314 Q1326.44 61.1119 1326.44 50.3365 Q1326.44 39.1965 1332.43 32.6746 Q1338.47 26.1121 1348.68 26.1121 Q1357.83 26.1121 1363.14 32.0264 Q1368.49 37.9003 1368.49 48.0275 M1361.03 45.84 Q1360.95 39.7232 1357.59 36.0774 Q1354.27 32.4315 1348.76 32.4315 Q1342.52 32.4315 1338.75 35.9558 Q1335.02 39.4801 1334.46 45.8805 L1361.03 45.84 Z\" fill=\"#000000\" fill-rule=\"evenodd\" fill-opacity=\"1\" /><path clip-path=\"url(#clip880)\" d=\"M1409.64 28.5427 L1409.64 35.5912 Q1406.48 33.9709 1403.08 33.1607 Q1399.68 32.3505 1396.03 32.3505 Q1390.48 32.3505 1387.69 34.0519 Q1384.93 35.7533 1384.93 39.156 Q1384.93 41.7486 1386.92 43.2475 Q1388.9 44.7058 1394.9 46.0426 L1397.45 46.6097 Q1405.39 48.3111 1408.71 51.4303 Q1412.07 54.509 1412.07 60.0587 Q1412.07 66.3781 1407.05 70.0644 Q1402.07 73.7508 1393.32 73.7508 Q1389.67 73.7508 1385.7 73.0216 Q1381.77 72.3329 1377.4 70.9151 L1377.4 63.2184 Q1381.53 65.3654 1385.54 66.4591 Q1389.55 67.5124 1393.48 67.5124 Q1398.75 67.5124 1401.58 65.73 Q1404.42 63.9071 1404.42 60.6258 Q1404.42 57.5877 1402.35 55.9673 Q1400.33 54.3469 1393.4 52.8481 L1390.81 52.2405 Q1383.88 50.7821 1380.8 47.7845 Q1377.72 44.7463 1377.72 39.4801 Q1377.72 33.0797 1382.26 29.5959 Q1386.8 26.1121 1395.14 26.1121 Q1399.27 26.1121 1402.92 26.7198 Q1406.56 27.3274 1409.64 28.5427 Z\" fill=\"#000000\" fill-rule=\"evenodd\" fill-opacity=\"1\" /><circle clip-path=\"url(#clip882)\" cx=\"474.221\" cy=\"749.431\" r=\"14\" fill=\"#009af9\" fill-rule=\"evenodd\" fill-opacity=\"1\" stroke=\"#000000\" stroke-opacity=\"1\" stroke-width=\"2\"/>\n",
       "<circle clip-path=\"url(#clip882)\" cx=\"1013.54\" cy=\"649.161\" r=\"14\" fill=\"#009af9\" fill-rule=\"evenodd\" fill-opacity=\"1\" stroke=\"#000000\" stroke-opacity=\"1\" stroke-width=\"2\"/>\n",
       "<circle clip-path=\"url(#clip882)\" cx=\"1016.04\" cy=\"686.168\" r=\"14\" fill=\"#009af9\" fill-rule=\"evenodd\" fill-opacity=\"1\" stroke=\"#000000\" stroke-opacity=\"1\" stroke-width=\"2\"/>\n",
       "<circle clip-path=\"url(#clip882)\" cx=\"997.83\" cy=\"749.431\" r=\"14\" fill=\"#009af9\" fill-rule=\"evenodd\" fill-opacity=\"1\" stroke=\"#000000\" stroke-opacity=\"1\" stroke-width=\"2\"/>\n",
       "<circle clip-path=\"url(#clip882)\" cx=\"1487.01\" cy=\"849.7\" r=\"14\" fill=\"#009af9\" fill-rule=\"evenodd\" fill-opacity=\"1\" stroke=\"#000000\" stroke-opacity=\"1\" stroke-width=\"2\"/>\n",
       "<circle clip-path=\"url(#clip882)\" cx=\"1005.84\" cy=\"596.648\" r=\"14\" fill=\"#009af9\" fill-rule=\"evenodd\" fill-opacity=\"1\" stroke=\"#000000\" stroke-opacity=\"1\" stroke-width=\"2\"/>\n",
       "<circle clip-path=\"url(#clip882)\" cx=\"158.269\" cy=\"318.507\" r=\"14\" fill=\"#009af9\" fill-rule=\"evenodd\" fill-opacity=\"1\" stroke=\"#000000\" stroke-opacity=\"1\" stroke-width=\"2\"/>\n",
       "<circle clip-path=\"url(#clip882)\" cx=\"510.013\" cy=\"786.437\" r=\"14\" fill=\"#009af9\" fill-rule=\"evenodd\" fill-opacity=\"1\" stroke=\"#000000\" stroke-opacity=\"1\" stroke-width=\"2\"/>\n",
       "<circle clip-path=\"url(#clip882)\" cx=\"1000.54\" cy=\"702.808\" r=\"14\" fill=\"#009af9\" fill-rule=\"evenodd\" fill-opacity=\"1\" stroke=\"#000000\" stroke-opacity=\"1\" stroke-width=\"2\"/>\n",
       "<circle clip-path=\"url(#clip882)\" cx=\"1003.21\" cy=\"630.846\" r=\"14\" fill=\"#009af9\" fill-rule=\"evenodd\" fill-opacity=\"1\" stroke=\"#000000\" stroke-opacity=\"1\" stroke-width=\"2\"/>\n",
       "<circle clip-path=\"url(#clip882)\" cx=\"373.94\" cy=\"571.829\" r=\"14\" fill=\"#009af9\" fill-rule=\"evenodd\" fill-opacity=\"1\" stroke=\"#000000\" stroke-opacity=\"1\" stroke-width=\"2\"/>\n",
       "<circle clip-path=\"url(#clip882)\" cx=\"1018.51\" cy=\"786.437\" r=\"14\" fill=\"#009af9\" fill-rule=\"evenodd\" fill-opacity=\"1\" stroke=\"#000000\" stroke-opacity=\"1\" stroke-width=\"2\"/>\n",
       "<circle clip-path=\"url(#clip882)\" cx=\"1011.01\" cy=\"567.584\" r=\"14\" fill=\"#009af9\" fill-rule=\"evenodd\" fill-opacity=\"1\" stroke=\"#000000\" stroke-opacity=\"1\" stroke-width=\"2\"/>\n",
       "<circle clip-path=\"url(#clip882)\" cx=\"540.275\" cy=\"849.7\" r=\"14\" fill=\"#009af9\" fill-rule=\"evenodd\" fill-opacity=\"1\" stroke=\"#000000\" stroke-opacity=\"1\" stroke-width=\"2\"/>\n",
       "<circle clip-path=\"url(#clip882)\" cx=\"995.085\" cy=\"849.7\" r=\"14\" fill=\"#009af9\" fill-rule=\"evenodd\" fill-opacity=\"1\" stroke=\"#000000\" stroke-opacity=\"1\" stroke-width=\"2\"/>\n",
       "<circle clip-path=\"url(#clip882)\" cx=\"1486.78\" cy=\"849.7\" r=\"14\" fill=\"#009af9\" fill-rule=\"evenodd\" fill-opacity=\"1\" stroke=\"#000000\" stroke-opacity=\"1\" stroke-width=\"2\"/>\n",
       "<circle clip-path=\"url(#clip882)\" cx=\"1008.44\" cy=\"585.899\" r=\"14\" fill=\"#009af9\" fill-rule=\"evenodd\" fill-opacity=\"1\" stroke=\"#000000\" stroke-opacity=\"1\" stroke-width=\"2\"/>\n",
       "<circle clip-path=\"url(#clip882)\" cx=\"430.415\" cy=\"630.846\" r=\"14\" fill=\"#009af9\" fill-rule=\"evenodd\" fill-opacity=\"1\" stroke=\"#000000\" stroke-opacity=\"1\" stroke-width=\"2\"/>\n",
       "<circle clip-path=\"url(#clip882)\" cx=\"294.342\" cy=\"473.02\" r=\"14\" fill=\"#009af9\" fill-rule=\"evenodd\" fill-opacity=\"1\" stroke=\"#000000\" stroke-opacity=\"1\" stroke-width=\"2\"/>\n",
       "<circle clip-path=\"url(#clip882)\" cx=\"1485.42\" cy=\"849.7\" r=\"14\" fill=\"#009af9\" fill-rule=\"evenodd\" fill-opacity=\"1\" stroke=\"#000000\" stroke-opacity=\"1\" stroke-width=\"2\"/>\n",
       "<circle clip-path=\"url(#clip882)\" cx=\"1500.73\" cy=\"849.7\" r=\"14\" fill=\"#009af9\" fill-rule=\"evenodd\" fill-opacity=\"1\" stroke=\"#000000\" stroke-opacity=\"1\" stroke-width=\"2\"/>\n",
       "<polyline clip-path=\"url(#clip882)\" style=\"stroke:#e26f46; stroke-linecap:butt; stroke-linejoin:round; stroke-width:4; stroke-opacity:1; fill:none\" points=\"\n",
       "  1427.26,1591.05 1427.26,-632.996 \n",
       "  \"/>\n",
       "</svg>\n"
      ]
     },
     "execution_count": 101,
     "metadata": {},
     "output_type": "execute_result"
    }
   ],
   "source": [
    "scale = 250\n",
    "p = Mycelia.plot_kmer_frequency_spectra_log2(values(kmer_counts), size=(2scale,scale), title=\"kmer frequencies\")\n",
    "StatsPlots.vline!(p, [threshold])"
   ]
  },
  {
   "cell_type": "code",
   "execution_count": 42,
   "id": "b6fdcf13-2ca9-46bb-a103-98ac9e0e01ad",
   "metadata": {},
   "outputs": [
    {
     "ename": "LoadError",
     "evalue": "UndefVarError: kmer_counts_histogram not defined",
     "output_type": "error",
     "traceback": [
      "UndefVarError: kmer_counts_histogram not defined",
      "",
      "Stacktrace:",
      " [1] top-level scope",
      "   @ In[42]:1",
      " [2] eval",
      "   @ ./boot.jl:360 [inlined]",
      " [3] include_string(mapexpr::typeof(REPL.softscope), mod::Module, code::String, filename::String)",
      "   @ Base ./loading.jl:1094"
     ]
    }
   ],
   "source": [
    "StatsPlots.scatter(log10.(first.(kmer_counts_histogram)))"
   ]
  },
  {
   "cell_type": "code",
   "execution_count": null,
   "id": "72c66702-1c18-4541-a642-64f1c69ad4cb",
   "metadata": {},
   "outputs": [],
   "source": [
    "# make me faster by counting edges ahead of time\n",
    "@time observation_graph = Mycelia.fastx_to_simple_kmer_graph(BioSequences.DNAMer{k}, observations_file, minimum_coverage=threshold)"
   ]
  },
  {
   "cell_type": "code",
   "execution_count": null,
   "id": "f9b79057-1175-4165-82dd-0fde3c385af0",
   "metadata": {},
   "outputs": [],
   "source": [
    "kmer_counts = Dict(observation_graph.vprops[v][:kmer] => observation_graph.vprops[v][:weight] for v in LightGraphs.vertices(observation_graph))\n",
    "total_observed_kmers = sum(values(kmer_counts))\n",
    "kmer_probabilities = Dict(k => v/total_observed_kmers for (k,v) in kmer_counts)\n",
    "scale = 250\n",
    "Mycelia.plot_kmer_frequency_spectra(values(kmer_counts), size=(2scale,scale), title=\"kmer frequencies\")"
   ]
  },
  {
   "cell_type": "code",
   "execution_count": null,
   "id": "fd15af69-a35c-45cf-8399-70bc287d11d7",
   "metadata": {},
   "outputs": [],
   "source": [
    "reference_kmers = keys(Mycelia.count_canonical_kmers(BioSequences.DNAMer{k}, reference_fasta_file))\n",
    "distance_to_reference_graph = 1 - LSHFunctions.jaccard(Set(reference_kmers), Set(keys(kmer_counts)))"
   ]
  },
  {
   "cell_type": "code",
   "execution_count": null,
   "id": "8aa68dd2-82f2-48e9-984a-092df381a39d",
   "metadata": {},
   "outputs": [],
   "source": [
    "kmer_counts_histogram = sort(collect(StatsBase.countmap(collect(values(kmer_counts)))), by=x->x[1])"
   ]
  },
  {
   "cell_type": "code",
   "execution_count": null,
   "id": "ed22ec40-e72e-445f-a0fe-b38b3de73aae",
   "metadata": {},
   "outputs": [],
   "source": [
    "# visualize\n",
    "gfa_file = observations_file * \".k-$k.gfa\"\n",
    "Mycelia.graph_to_gfa(observation_graph, gfa_file)\n",
    "\n",
    "run(`$(BANDAGE) image $(gfa_file) $(gfa_file).svg --depwidth .9 --deppower .9`)\n",
    "# --nodewidth <float> Average node width (0.5 to 1000, default: 5)\n",
    "# --depwidth <float>  Depth effect on width (0 to 1, default: 0.5)\n",
    "# --deppower <float>  Power of depth effect on width (0 to 1, default: 0.5)\n",
    "\n",
    "html_path_to_svg = \"./\" * repeat(\"../\", length(split(pwd(), '/')) - 3)\n",
    "html_path_to_svg *= replace(\"$(gfa_file).svg\", \"$(homedir())/\" => \"\")\n",
    "\n",
    "x = \"<img src=$(html_path_to_svg)>\"\n",
    "display(\"text/html\", x)\n",
    "# display(\"image/svg+xml\", read(\"$(gfa_file).svg\", String))"
   ]
  },
  {
   "cell_type": "code",
   "execution_count": null,
   "id": "681f12c3-4736-4065-8bfb-3d3be29cc8dc",
   "metadata": {},
   "outputs": [],
   "source": [
    "# step 2, re-simulate reads as a means of error correction"
   ]
  },
  {
   "cell_type": "code",
   "execution_count": null,
   "id": "adcfaf65-de18-4a92-8355-5c8b190007c9",
   "metadata": {},
   "outputs": [],
   "source": [
    "kmer_probabilities = values(kmer_counts) ./ sum(values(kmer_counts))"
   ]
  },
  {
   "cell_type": "code",
   "execution_count": null,
   "id": "b31d13b0-f2e7-4381-9f55-e310b1ab7c9e",
   "metadata": {},
   "outputs": [],
   "source": [
    "edge_weights = determine_edge_weights(observation_graph)"
   ]
  },
  {
   "cell_type": "code",
   "execution_count": null,
   "id": "7d10d99f-7db2-4044-a1db-362b37e01266",
   "metadata": {},
   "outputs": [],
   "source": [
    "edge_weights[true]"
   ]
  },
  {
   "cell_type": "code",
   "execution_count": null,
   "id": "6355ddd5-0103-4927-850b-b0f5c42c7ff9",
   "metadata": {},
   "outputs": [],
   "source": [
    "@time edge_weights = determine_edge_weights(observation_graph)\n",
    "@time edge_probabilities = determine_edge_probabilities(edge_weights)"
   ]
  },
  {
   "cell_type": "code",
   "execution_count": null,
   "id": "35780516-bfc9-4b9e-aaf8-869e14d4c5e7",
   "metadata": {},
   "outputs": [],
   "source": [
    "step_probabilities = copy(edge_probabilities)\n",
    "for orientation in [true, false]\n",
    "    oriented_step_probabilities = step_probabilities[orientation] \n",
    "    for row in 1:size(step_probabilities[orientation], 1)\n",
    "        step_probabilities_ = step_probabilities[orientation][row, :] .* kmer_probabilities\n",
    "        if sum(step_probabilities_) > 0\n",
    "            step_probabilities[orientation][row, :] .= step_probabilities_ ./ sum(step_probabilities_)\n",
    "        end\n",
    "    end\n",
    "end"
   ]
  },
  {
   "cell_type": "code",
   "execution_count": null,
   "id": "095ecb87-5370-44dd-9cf9-bd152f71ae76",
   "metadata": {},
   "outputs": [],
   "source": [
    "# observation = first(observations)"
   ]
  },
  {
   "cell_type": "code",
   "execution_count": null,
   "id": "f5c5eca0-863b-4ce7-818e-ee50dffd72ee",
   "metadata": {},
   "outputs": [],
   "source": [
    "# FASTX.sequence(observation)"
   ]
  },
  {
   "cell_type": "code",
   "execution_count": null,
   "id": "48e6fd51-1b1c-41dc-bd6a-1cc0b1f8bc7d",
   "metadata": {},
   "outputs": [],
   "source": [
    "# kmers = collect(keys(kmer_counts))"
   ]
  },
  {
   "cell_type": "code",
   "execution_count": null,
   "id": "09307836-4f8c-426f-ab9f-04224c0bc772",
   "metadata": {},
   "outputs": [],
   "source": [
    "# mers = collect(BioSequences.each(eltype(kmers), FASTX.sequence(observation)))\n",
    "# index_is_solid = falses(length(mers))\n",
    "# for (i, mer) in enumerate(mers)\n",
    "#     canonical_mer = min(mer.fw, mer.bw)\n",
    "# #     @show canonical_mer\n",
    "#     canonical_mer_in_graph = !isempty(searchsorted(kmers, canonical_mer))\n",
    "# #     @show canonical_mer_in_graph\n",
    "#     index_is_solid[i] = canonical_mer_in_graph\n",
    "# end\n",
    "# @show index_is_solid"
   ]
  },
  {
   "cell_type": "code",
   "execution_count": null,
   "id": "4a8f5e9f-53a4-409a-87ca-96296c9e6ccb",
   "metadata": {},
   "outputs": [],
   "source": [
    "# solid_mer_indices = findall(index_is_solid)"
   ]
  },
  {
   "cell_type": "code",
   "execution_count": null,
   "id": "c7bb68c0-5a7e-4604-95ea-9ed25f577172",
   "metadata": {},
   "outputs": [],
   "source": [
    "# first_solid_mer_index = findfirst(index_is_solid)"
   ]
  },
  {
   "cell_type": "code",
   "execution_count": null,
   "id": "de680fbb-bf4b-4c93-8435-421d4de57977",
   "metadata": {},
   "outputs": [],
   "source": [
    "# first_solid_mer = mers[first_solid_mer]"
   ]
  },
  {
   "cell_type": "code",
   "execution_count": null,
   "id": "03359db9-c701-4593-ac0c-b757bbe9f834",
   "metadata": {},
   "outputs": [],
   "source": [
    "# canonical_mer = min(first_solid_mer.fw, first_solid_mer.bw)"
   ]
  },
  {
   "cell_type": "code",
   "execution_count": null,
   "id": "5c7182c1-c637-4843-91d0-25b54ce9a53e",
   "metadata": {},
   "outputs": [],
   "source": [
    "# orientation = first_solid_mer.fw == canonical_mer"
   ]
  },
  {
   "cell_type": "code",
   "execution_count": null,
   "id": "9b82abbb-c5b8-4fd0-b9fa-f47ff6b2043c",
   "metadata": {},
   "outputs": [],
   "source": [
    "# determine vertex and orientation of solid kmer"
   ]
  },
  {
   "cell_type": "code",
   "execution_count": null,
   "id": "c46f65ec-b422-4f6a-a567-8044c6e35198",
   "metadata": {},
   "outputs": [],
   "source": [
    "# indices = searchsorted(kmers, canonical_mer)\n",
    "# @assert length(indices) == 1\n",
    "# index = first(indices)"
   ]
  },
  {
   "cell_type": "code",
   "execution_count": null,
   "id": "d077a80c-00ea-4ec7-b08e-925cc2ddf408",
   "metadata": {},
   "outputs": [],
   "source": [
    "# walk backward index - 1 steps and put that into the read"
   ]
  },
  {
   "cell_type": "code",
   "execution_count": null,
   "id": "94aec56d-6c92-484b-8e31-176f45ddfe0b",
   "metadata": {},
   "outputs": [],
   "source": [
    "# backwards_walk = random_walk(observation_graph, index, !orientation, step_probabilities; n_steps=first_solid_mer_index-1)"
   ]
  },
  {
   "cell_type": "code",
   "execution_count": null,
   "id": "bcaa7deb-b7a6-4050-8f13-ea7c05fe6ca6",
   "metadata": {},
   "outputs": [],
   "source": [
    "# initial_walk = map(x -> (vertex=x.vertex, orientation=!x.orientation), reverse(backwards_walk))"
   ]
  },
  {
   "cell_type": "code",
   "execution_count": null,
   "id": "d005c284-4aa0-4c0d-a48f-0fac54ddd48a",
   "metadata": {},
   "outputs": [],
   "source": [
    "# current_solid_mer_index = first_solid_mer_index\n",
    "# current_solid_mer = mers[current_solid_mer_index]"
   ]
  },
  {
   "cell_type": "code",
   "execution_count": null,
   "id": "fa37f25b-2dc6-46bb-8f2c-eb5f4a8cbbc8",
   "metadata": {},
   "outputs": [],
   "source": [
    "# current_solid_mer_orientation = orientation"
   ]
  },
  {
   "cell_type": "code",
   "execution_count": null,
   "id": "7900bb7a-e32f-476c-be12-e438869f55d8",
   "metadata": {},
   "outputs": [],
   "source": [
    "# next_solid_mer_index = findnext(index_is_solid, current_solid_mer_index+1)"
   ]
  },
  {
   "cell_type": "code",
   "execution_count": null,
   "id": "58072ea5-a26c-4b85-9f5b-6f5efd59cc6e",
   "metadata": {},
   "outputs": [],
   "source": [
    "# next_solid_mer = mers[next_solid_mer_index]"
   ]
  },
  {
   "cell_type": "code",
   "execution_count": null,
   "id": "fa6ed0e2-b1de-4d1b-ae73-fc6dfcdbfba4",
   "metadata": {},
   "outputs": [],
   "source": [
    "# next_solid_mer_orientation = next_solid_mer.fw <= next_solid_mer.bw"
   ]
  },
  {
   "cell_type": "code",
   "execution_count": null,
   "id": "cf9ab6a8-f1fc-4b61-accf-e1fca34941a9",
   "metadata": {},
   "outputs": [],
   "source": [
    "# yen 3 shortest paths between previous solid kmer and this solid kmer"
   ]
  },
  {
   "cell_type": "code",
   "execution_count": null,
   "id": "3a30fef3-b67b-4840-8dd0-4c6191865c30",
   "metadata": {},
   "outputs": [],
   "source": [
    "# determine probability of each possible new path"
   ]
  },
  {
   "cell_type": "code",
   "execution_count": null,
   "id": "3cfcd6dd-48f0-433b-ad7e-e89482f54437",
   "metadata": {},
   "outputs": [],
   "source": [
    "# accept paths according to relative probability"
   ]
  },
  {
   "cell_type": "code",
   "execution_count": null,
   "id": "a9321da7-b890-4b0f-9019-e42b118681d6",
   "metadata": {},
   "outputs": [],
   "source": [
    "# put into the read"
   ]
  },
  {
   "cell_type": "code",
   "execution_count": null,
   "id": "17d4fffb-14fa-44a1-985e-9669c262d473",
   "metadata": {},
   "outputs": [],
   "source": [
    "# if end is not solid, random walk from last solid kmer to total number of steps"
   ]
  },
  {
   "cell_type": "code",
   "execution_count": null,
   "id": "bb9005c4-ff3f-477f-bbe6-3f7d63e9e962",
   "metadata": {},
   "outputs": [],
   "source": [
    "# Mycelia.sequence_to_oriented_path(FASTX.sequence(observation), collect(keys(kmer_counts)))"
   ]
  },
  {
   "cell_type": "code",
   "execution_count": null,
   "id": "f2ecfeeb-0030-4acc-86e1-9c367e76fb1e",
   "metadata": {},
   "outputs": [],
   "source": [
    "ProgressMeter.@showprogress for observation in observations\n",
    "    read_length = length(FASTX.sequence(observation))\n",
    "    max_steps = read_length - observation_graph.gprops[:k]\n",
    "    # apply a squaring penalty to kmer_weights?\n",
    "    initial_vertex = StatsBase.sample(1:length(kmers), StatsBase.weights(kmer_probabilities.^2))\n",
    "#     @show \"choosing initial vertex $initial_vertex with probability $(kmer_weights[initial_vertex])\"\n",
    "    initial_orientation = rand(Bool)\n",
    "    forward_walk = random_walk(observation_graph, initial_vertex, initial_orientation, step_probabilities, n_steps=max_steps)\n",
    "    remaining_steps = max_steps - length(forward_walk)\n",
    "    reverse_walk = random_walk(observation_graph, initial_vertex, !initial_orientation, step_probabilities, n_steps = remaining_steps)\n",
    "    full_walk = [[(vertex=x.vertex, orientation=!x.orientation) for x in reverse(reverse_walk)]..., [(vertex = initial_vertex, orientation = initial_orientation)]..., forward_walk...]\n",
    "    oriented_path = [(x.vertex, x.orientation) for x in full_walk]\n",
    "    new_seq = Mycelia.oriented_path_to_sequence(observation_graph, oriented_path)\n",
    "    new_record = FASTX.FASTQ.Record(\n",
    "        FASTX.identifier(observation)*\"-k$k\",\n",
    "        FASTX.identifier(observation),\n",
    "        new_seq,\n",
    "        StatsBase.sample(FASTX.quality(observation), length(new_seq))\n",
    "    )\n",
    "#     @show \"here\"\n",
    "    push!(new_records, new_record)\n",
    "end\n",
    "new_records;"
   ]
  },
  {
   "cell_type": "code",
   "execution_count": null,
   "id": "61bf8c37-0b33-4e58-b1db-ba24d7bb3b4a",
   "metadata": {},
   "outputs": [],
   "source": [
    "corrected_fastq_file = replace(observations_file, r\"\\.fastq\" => \".k$k.fastq\")\n",
    "open(corrected_fastq_file, \"w\") do io\n",
    "    fastq_writer = FASTX.FASTQ.Writer(io)\n",
    "    for record in new_records\n",
    "        write(fastq_writer, record)\n",
    "    end\n",
    "    close(fastq_writer)\n",
    "end"
   ]
  },
  {
   "cell_type": "code",
   "execution_count": null,
   "id": "9f72e026-ce76-4e1c-a4da-231f4225a358",
   "metadata": {},
   "outputs": [],
   "source": [
    "corrected_observation_graph = Mycelia.fastx_to_kmer_graph(BioSequences.DNAMer{k}, corrected_fastq_file)"
   ]
  },
  {
   "cell_type": "code",
   "execution_count": null,
   "id": "7dcb49eb-7261-4120-b488-52b3a3739416",
   "metadata": {},
   "outputs": [],
   "source": [
    "# visualize\n",
    "gfa_file = corrected_fastq_file * \".k-$k.gfa\"\n",
    "Mycelia.graph_to_gfa(corrected_observation_graph, gfa_file)\n",
    "\n",
    "run(`$(BANDAGE) image $(gfa_file) $(gfa_file).svg --depwidth .9 --deppower .9`)\n",
    "# --nodewidth <float> Average node width (0.5 to 1000, default: 5)\n",
    "# --depwidth <float>  Depth effect on width (0 to 1, default: 0.5)\n",
    "# --deppower <float>  Power of depth effect on width (0 to 1, default: 0.5)\n",
    "\n",
    "html_path_to_svg = \"./\" * repeat(\"../\", length(split(pwd(), '/')) - 3)\n",
    "html_path_to_svg *= replace(\"$(gfa_file).svg\", \"$(homedir())/\" => \"\")\n",
    "\n",
    "x = \"<img src=$(html_path_to_svg)>\"\n",
    "display(\"text/html\", x)\n",
    "# display(\"image/svg+xml\", read(\"$(gfa_file).svg\", String))"
   ]
  },
  {
   "cell_type": "code",
   "execution_count": null,
   "id": "1babc5ba-11c2-4557-8a93-b97abe8364a6",
   "metadata": {},
   "outputs": [],
   "source": [
    "kmer_counts = Dict(corrected_observation_graph.vprops[v][:kmer] => corrected_observation_graph.vprops[v][:weight] for v in LightGraphs.vertices(corrected_observation_graph))\n",
    "total_observed_kmers = sum(values(kmer_counts))\n",
    "kmer_probabilities = Dict(k => v/total_observed_kmers for (k,v) in kmer_counts)\n",
    "scale = 250\n",
    "Mycelia.plot_kmer_frequency_spectra(values(kmer_counts), size=(2scale,scale), title=\"kmer frequencies\")"
   ]
  },
  {
   "cell_type": "code",
   "execution_count": null,
   "id": "2b4354c8-d03e-49d6-b3ed-7f2375f43602",
   "metadata": {},
   "outputs": [],
   "source": [
    "# compare the new graph to the error-free graph to the error-corrected graph"
   ]
  },
  {
   "cell_type": "code",
   "execution_count": null,
   "id": "5543d4f5-6bb9-4368-8149-9db0267d5aa5",
   "metadata": {},
   "outputs": [],
   "source": [
    "reference_kmers = keys(Mycelia.count_canonical_kmers(BioSequences.DNAMer{k}, reference_fasta_file))\n",
    "distance_to_reference_graph = 1 - LSHFunctions.jaccard(Set(reference_kmers), Set(keys(kmer_counts)))"
   ]
  },
  {
   "cell_type": "markdown",
   "id": "999e7966-6ffc-43dd-8b24-9fdea86fd435",
   "metadata": {},
   "source": [
    "# Final polish and reduction"
   ]
  },
  {
   "cell_type": "code",
   "execution_count": null,
   "id": "83ee093f-2f2d-48cd-a6d6-e0000fa44a67",
   "metadata": {},
   "outputs": [],
   "source": [
    "# to_filter = Int[]\n",
    "connected_component = first(LightGraphs.connected_components(corrected_observation_graph))"
   ]
  },
  {
   "cell_type": "code",
   "execution_count": null,
   "id": "b556f37f-4b7c-4260-9fa7-75b3fc5db9db",
   "metadata": {},
   "outputs": [],
   "source": [
    "tip_vertices = filter(v -> LightGraphs.degree(corrected_observation_graph, v) == 2, LightGraphs.vertices(corrected_observation_graph))"
   ]
  },
  {
   "cell_type": "code",
   "execution_count": null,
   "id": "82b104bc-979a-4dac-888e-f406140fd0bd",
   "metadata": {},
   "outputs": [],
   "source": [
    "if length(tip_vertices) > 2\n",
    "    component_weights = map(v -> corrected_observation_graph.vprops[v][:weight], connected_component)\n",
    "    component_median = Statistics.median(component_weights)\n",
    "    component_standard_deviation = Statistics.std(component_weights)\n",
    "    tips_to_drop = filter(tip -> corrected_observation_graph.vprops[tip][:weight] < component_median - 2*component_standard_deviation, tip_vertices) \n",
    "    polished_graph, vertex_map = LightGraphs.induced_subgraph(corrected_observation_graph, setdiff(LightGraphs.vertices(corrected_observation_graph), tips_to_drop))\n",
    "    simplified_graph = Mycelia.simplify_kmer_graph(polished_graph)\n",
    "else\n",
    "    simplified_graph = Mycelia.simplify_kmer_graph(corrected_observation_graph)\n",
    "end"
   ]
  },
  {
   "cell_type": "code",
   "execution_count": null,
   "id": "6885134a-a5a7-40c6-b515-f103e16b9584",
   "metadata": {},
   "outputs": [],
   "source": [
    "# write simplified graph to gfa\n",
    "# visualize\n",
    "gfa_file = corrected_fastq_file * \".k-$k.simplified.gfa\"\n",
    "Mycelia.graph_to_gfa(simplified_graph, gfa_file)\n",
    "\n",
    "run(`$(BANDAGE) image $(gfa_file) $(gfa_file).svg --depwidth .9 --deppower .9`)\n",
    "# --nodewidth <float> Average node width (0.5 to 1000, default: 5)\n",
    "# --depwidth <float>  Depth effect on width (0 to 1, default: 0.5)\n",
    "# --deppower <float>  Power of depth effect on width (0 to 1, default: 0.5)\n",
    "\n",
    "html_path_to_svg = \"./\" * repeat(\"../\", length(split(pwd(), '/')) - 3)\n",
    "html_path_to_svg *= replace(\"$(gfa_file).svg\", \"$(homedir())/\" => \"\")\n",
    "\n",
    "x = \"<img src=$(html_path_to_svg)>\"\n",
    "display(\"text/html\", x)\n",
    "# display(\"image/svg+xml\", read(\"$(gfa_file).svg\", String))"
   ]
  },
  {
   "cell_type": "code",
   "execution_count": null,
   "id": "cc55c0d8-875e-42e9-98fb-11aa9e8b0f1b",
   "metadata": {},
   "outputs": [],
   "source": [
    "simplified_graph.vprops[1][:weight]"
   ]
  },
  {
   "cell_type": "code",
   "execution_count": null,
   "id": "f0075333-9c05-43e7-ac86-236183f79d8f",
   "metadata": {},
   "outputs": [],
   "source": [
    "Mycelia.is_equivalent(FASTX.sequence(fasta_record), simplified_graph.vprops[1][:sequence])"
   ]
  },
  {
   "cell_type": "markdown",
   "id": "2f2636d1-2a3c-4dd6-94a4-f7a262b57755",
   "metadata": {},
   "source": [
    "# THE SAME!!!"
   ]
  },
  {
   "cell_type": "code",
   "execution_count": null,
   "id": "e76e948b-161d-40d1-b5db-ad1b88b26d9a",
   "metadata": {},
   "outputs": [],
   "source": [
    "# write contigs to fasta\n",
    "final_fasta_file = corrected_fastq_file * \".k-$k.simplified.fasta\"\n",
    "open(final_fasta_file, \"w\") do io\n",
    "    fasta_io = FASTX.FASTA.Writer(io)\n",
    "    for vertex in LightGraphs.vertices(simplified_graph)\n",
    "        seq = simplified_graph.vprops[vertex][:sequence]\n",
    "        description = string(simplified_graph.vprops[vertex][:weight])\n",
    "        id = string(hash(seq)) * '-' * string(Dates.now())\n",
    "        record = FASTX.FASTA.Record(id, description, seq)\n",
    "        @show record\n",
    "        write(fasta_io, record)\n",
    "    end\n",
    "    close(fasta_io)\n",
    "end"
   ]
  }
 ],
 "metadata": {
  "kernelspec": {
   "display_name": "Julia 1.6.1",
   "language": "julia",
   "name": "julia-1.6"
  },
  "language_info": {
   "file_extension": ".jl",
   "mimetype": "application/julia",
   "name": "julia",
   "version": "1.6.1"
  }
 },
 "nbformat": 4,
 "nbformat_minor": 5
}
