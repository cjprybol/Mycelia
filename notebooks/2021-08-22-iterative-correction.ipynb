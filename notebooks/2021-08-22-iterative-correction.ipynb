{
 "cells": [
  {
   "cell_type": "code",
   "execution_count": 1,
   "id": "6ac73c46-51c9-4fea-845f-fb17ce8d83a2",
   "metadata": {},
   "outputs": [
    {
     "data": {
      "text/plain": [
       "\"/Users/cameronprybol/2021-08-22\""
      ]
     },
     "execution_count": 1,
     "metadata": {},
     "output_type": "execute_result"
    }
   ],
   "source": [
    "DATE = \"2021-08-22\"\n",
    "TASK = \"iterative-correction-via-resampling\"\n",
    "DIR = mkpath(\"$(homedir())/$(DATE)\")"
   ]
  },
  {
   "cell_type": "code",
   "execution_count": 2,
   "id": "38cb383f-3696-4b4b-a732-9a2059e0681a",
   "metadata": {},
   "outputs": [
    {
     "name": "stderr",
     "output_type": "stream",
     "text": [
      "┌ Info: Precompiling Mycelia [453d265d-8292-4a7b-a57c-dce3f9ae6acd]\n",
      "└ @ Base loading.jl:1317\n",
      "\u001b[33m\u001b[1m┌ \u001b[22m\u001b[39m\u001b[33m\u001b[1mWarning: \u001b[22m\u001b[39mPackage Mycelia does not have Dates in its dependencies:\n",
      "\u001b[33m\u001b[1m│ \u001b[22m\u001b[39m- If you have Mycelia checked out for development and have\n",
      "\u001b[33m\u001b[1m│ \u001b[22m\u001b[39m  added Dates as a dependency but haven't updated your primary\n",
      "\u001b[33m\u001b[1m│ \u001b[22m\u001b[39m  environment's manifest file, try `Pkg.resolve()`.\n",
      "\u001b[33m\u001b[1m│ \u001b[22m\u001b[39m- Otherwise you may need to report an issue with Mycelia\n",
      "\u001b[33m\u001b[1m└ \u001b[22m\u001b[39mLoading Dates into Mycelia from project dependency, future warnings for Mycelia are suppressed.\n"
     ]
    }
   ],
   "source": [
    "import Pkg\n",
    "pkgs = [\n",
    "#     \"BioAlignments\",\n",
    "    \"BioSequences\",\n",
    "#     \"Clustering\",\n",
    "#     \"CodecZlib\",\n",
    "#     \"Colors\",\n",
    "#     \"Combinatorics\",\n",
    "#     \"DataFrames\",\n",
    "#     \"DataStructures\",\n",
    "    \"Dates\",\n",
    "#     \"DelimitedFiles\",\n",
    "#     \"Distances\",\n",
    "#     \"EzXML\",\n",
    "    \"FASTX\",\n",
    "#     \"GFF3\",\n",
    "#     \"HTTP\",\n",
    "#     \"Impute\",\n",
    "#     \"JSON\",\n",
    "    \"LightGraphs\",\n",
    "#     \"Measures\",\n",
    "    \"MetaGraphs\",\n",
    "    \"https://github.com/cjprybol/Mycelia.git\",\n",
    "#     \"NumericIO\",\n",
    "#     \"PlotlyJS\",\n",
    "#     \"Plots\",\n",
    "    \"Primes\",\n",
    "#     \"Printf\",\n",
    "#     \"ProgressMeter\",\n",
    "    \"Random\",\n",
    "    \"Revise\",\n",
    "    \"SparseArrays\",\n",
    "#     \"Statistics\",\n",
    "    \"StatsBase\",\n",
    "#     \"StatsPlots\",\n",
    "#     \"StringDistances\",\n",
    "#     \"uCSV\",\n",
    "#     \"XLSX\",\n",
    "]\n",
    "\n",
    "unregistered_packages = filter(pkg -> occursin(r\"(^https|git$)\", pkg), pkgs)\n",
    "registered_packages = setdiff(pkgs, unregistered_packages)\n",
    "\n",
    "for pkg in registered_packages\n",
    "    try\n",
    "        eval(Meta.parse(\"import $(pkg)\"))\n",
    "    catch\n",
    "        Pkg.add(pkg)\n",
    "        Pkg.build(pkg)\n",
    "        eval(Meta.parse(\"import $(pkg)\"))\n",
    "    end\n",
    "end\n",
    "\n",
    "for pkg_url in unregistered_packages\n",
    "    pkg_name = replace(basename(pkg_url), \".git\" => \"\")\n",
    "    try\n",
    "        eval(Meta.parse(\"import $(pkg_name)\"))\n",
    "    catch\n",
    "        Pkg.develop(url=pkg_url)\n",
    "        Pkg.build(pkg_name)\n",
    "        eval(Meta.parse(\"import $(pkg_name)\"))\n",
    "    end\n",
    "end"
   ]
  },
  {
   "cell_type": "code",
   "execution_count": 3,
   "id": "8824e5f4-fcd5-4d3d-b77c-9d1086788677",
   "metadata": {},
   "outputs": [
    {
     "data": {
      "text/plain": [
       "assess_kmer_sparsity_in_reads (generic function with 1 method)"
      ]
     },
     "execution_count": 3,
     "metadata": {},
     "output_type": "execute_result"
    }
   ],
   "source": [
    "function assess_kmer_sparsity_in_reads(k, observations)\n",
    "#     @show k, observations\n",
    "    canonical_kmer_counts = Mycelia.count_canonical_kmers(BioSequences.DNAMer{k}, observations)\n",
    "#     canonical_kmer_counts = Mycelia.count_canonical_kmers(BioSequences.DNAMer{k}, first(observations))\n",
    "# #     @show canonical_kmer_counts\n",
    "#     for i in 2:length(observations)\n",
    "#         canonical_kmer_counts_ = Mycelia.count_canonical_kmers(BioSequences.DNAMer{k}, observations[i])\n",
    "#         canonical_kmer_counts = merge!(+, canonical_kmer_counts, canonical_kmer_counts_)\n",
    "#     end\n",
    "#     canonical_kmer_counts = map(o -> Mycelia.count_canonical_kmers(BioSequences.DNAMer{k}, o), observations)...)\n",
    "    total_observed_canonical_kmers = length(keys(canonical_kmer_counts))\n",
    "    total_possible_canonical_kmers = (4^k)/2\n",
    "    sparsity = round(total_observed_canonical_kmers/total_possible_canonical_kmers*100, digits=5)\n",
    "    @show sparsity\n",
    "    return sparsity\n",
    "end"
   ]
  },
  {
   "cell_type": "code",
   "execution_count": 4,
   "id": "148b6939-0508-487c-91d1-94da6aa1409e",
   "metadata": {},
   "outputs": [
    {
     "data": {
      "text/plain": [
       "sequence_to_canonical_kmers (generic function with 1 method)"
      ]
     },
     "execution_count": 4,
     "metadata": {},
     "output_type": "execute_result"
    }
   ],
   "source": [
    "function sequence_to_canonical_kmers(kmer_type, sequence)\n",
    "    return (BioSequences.canonical(kmer.fw) for kmer in BioSequences.each(kmer_type, sequence))\n",
    "end"
   ]
  },
  {
   "cell_type": "code",
   "execution_count": 5,
   "id": "02e895c2-a0a6-40c6-841c-ebbf274c0a47",
   "metadata": {},
   "outputs": [
    {
     "data": {
      "text/plain": [
       "determine_edge_weights (generic function with 1 method)"
      ]
     },
     "execution_count": 5,
     "metadata": {},
     "output_type": "execute_result"
    }
   ],
   "source": [
    "function determine_edge_weights(graph)\n",
    "    outgoing_edge_probabilities = determine_edge_weights(graph, true)\n",
    "    incoming_edge_probabilities = determine_edge_weights(graph, false)\n",
    "    return Dict(true => outgoing_edge_probabilities, false => incoming_edge_probabilities)\n",
    "end"
   ]
  },
  {
   "cell_type": "code",
   "execution_count": 6,
   "id": "6212dc49-005c-40f9-8922-b80b3971c004",
   "metadata": {},
   "outputs": [
    {
     "data": {
      "text/plain": [
       "determine_edge_weights (generic function with 2 methods)"
      ]
     },
     "execution_count": 6,
     "metadata": {},
     "output_type": "execute_result"
    }
   ],
   "source": [
    "function determine_edge_weights(graph, strand)\n",
    "    kmers = graph.gprops[:kmers]\n",
    "    outgoing_edge_weights = SparseArrays.spzeros(length(kmers), length(kmers))\n",
    "    \n",
    "    for (kmer_index, kmer) in enumerate(kmers)\n",
    "        if !strand\n",
    "            kmer = BioSequences.reverse_complement(kmer)\n",
    "        end\n",
    "        \n",
    "        downstream_neighbors = []\n",
    "        downstream_neighbor_weights = []\n",
    "        for neighbor in BioSequences.neighbors(kmer)\n",
    "            canonical_neighbor = BioSequences.canonical(neighbor)\n",
    "            neighbor_orientation = neighbor == canonical_neighbor\n",
    "            \n",
    "            neighbor_index_range = searchsorted(kmers, canonical_neighbor)\n",
    "            if !isempty(neighbor_index_range)\n",
    "                @assert length(neighbor_index_range) == 1\n",
    "                neighbor_index = first(neighbor_index_range)\n",
    "                if LightGraphs.has_edge(graph, LightGraphs.Edge(kmer_index, neighbor_index))\n",
    "                    edge_orientations = graph.eprops[LightGraphs.Edge(kmer_index, neighbor_index)][:orientations]\n",
    "                    this_edge_orientation = (source_orientation = strand, destination_orientation = neighbor_orientation)\n",
    "                    if this_edge_orientation in edge_orientations\n",
    "                        edge_weight = graph.eprops[LightGraphs.Edge(kmer_index, neighbor_index)][:weight]\n",
    "                        outgoing_edge_weights[kmer_index, neighbor_index] = edge_weight\n",
    "                    end\n",
    "                end\n",
    "            end\n",
    "        end\n",
    "    end\n",
    "    return outgoing_edge_weights\n",
    "end"
   ]
  },
  {
   "cell_type": "code",
   "execution_count": 86,
   "id": "33ffd192-f852-43e8-8eb1-3c19f5fe6141",
   "metadata": {},
   "outputs": [
    {
     "data": {
      "text/plain": [
       "determine_edge_probabilities (generic function with 1 method)"
      ]
     },
     "execution_count": 86,
     "metadata": {},
     "output_type": "execute_result"
    }
   ],
   "source": [
    "function determine_edge_probabilities(edge_weights)\n",
    "    edge_probabilities = deepcopy(edge_weights)\n",
    "    for orientation in [true, false]\n",
    "        for row in 1:size(edge_probabilities[orientation], 1)\n",
    "            edge_weights = edge_probabilities[orientation][row, :]\n",
    "            edge_total = sum(edge_weights)\n",
    "            for (col, edge_weight) in enumerate(edge_weights)\n",
    "                if edge_total > 0\n",
    "                    edge_probabilities[orientation][row, col] = edge_weight/edge_total\n",
    "                else\n",
    "                    edge_probabilities[orientation][row, col] = 0.0\n",
    "                end\n",
    "            end\n",
    "        end\n",
    "    end\n",
    "    return edge_probabilities\n",
    "end"
   ]
  },
  {
   "cell_type": "code",
   "execution_count": 8,
   "id": "03bc3ce0-24b7-4f8b-a90a-050b61c211e5",
   "metadata": {},
   "outputs": [
    {
     "data": {
      "text/plain": [
       "FASTX.FASTA.Record:\n",
       "   identifier: 13030913541223777560\n",
       "  description: <missing>\n",
       "     sequence: CAGCCGACGG"
      ]
     },
     "execution_count": 8,
     "metadata": {},
     "output_type": "execute_result"
    }
   ],
   "source": [
    "# generate a genome\n",
    "\n",
    "sequence_length = 10\n",
    "Random.seed!(sequence_length)\n",
    "sequence = BioSequences.randdnaseq(sequence_length)\n",
    "sequence_id = string(hash(sequence))\n",
    "record = FASTX.FASTA.Record(sequence_id, sequence)"
   ]
  },
  {
   "cell_type": "code",
   "execution_count": 10,
   "id": "4ad0d8c4-641b-4872-8c16-57fc2ce80cde",
   "metadata": {},
   "outputs": [],
   "source": [
    "# randomly sample reads with errors from the genome\n",
    "\n",
    "# 1%\n",
    "error_rate = 0.01\n",
    "n_reads = 100\n",
    "\n",
    "# observations = [Mycelia.observe(FASTX.sequence(record), error_rate = error_rate) for i in 1:n_reads]\n",
    "observations = [Mycelia.observe(record, error_rate = error_rate) for i in 1:n_reads];"
   ]
  },
  {
   "cell_type": "code",
   "execution_count": 116,
   "id": "2587fedf-d30d-4693-b98b-b4bba8965a8a",
   "metadata": {},
   "outputs": [
    {
     "name": "stdout",
     "output_type": "stream",
     "text": [
      "sparsity = 4.49219\n"
     ]
    },
    {
     "name": "stderr",
     "output_type": "stream",
     "text": [
      "┌ Info: assessing kmers\n",
      "└ @ Mycelia /Users/cameronprybol/.julia/dev/Mycelia/src/Mycelia.jl:1932\n",
      "┌ Info: creating graph\n",
      "└ @ Mycelia /Users/cameronprybol/.julia/dev/Mycelia/src/Mycelia.jl:1947\n"
     ]
    },
    {
     "data": {
      "text/plain": [
       "{23, 45} directed Int64 metagraph with Float64 weights defined by :weight (default weight 1.0)"
      ]
     },
     "execution_count": 116,
     "metadata": {},
     "output_type": "execute_result"
    }
   ],
   "source": [
    "# build assembly graph\n",
    "k_options = Primes.primes(5, 31)\n",
    "k_index = findfirst(k -> assess_kmer_sparsity_in_reads(k, observations) < 100, k_options)\n",
    "k = k_options[k_index]\n",
    "\n",
    "observations_file = \"$(DIR)/LENGTH-$(sequence_length)-DEPTH-$(n_reads).fastq\"\n",
    "open(observations_file, \"w\") do io\n",
    "    fastq_io = FASTX.FASTQ.Writer(io)\n",
    "    for record in observations\n",
    "        write(fastq_io, record)\n",
    "    end\n",
    "    close(fastq_io)\n",
    "end\n",
    "\n",
    "observation_graph = Mycelia.fastx_to_kmer_graph(BioSequences.DNAMer{k}, observations_file)"
   ]
  },
  {
   "cell_type": "code",
   "execution_count": 117,
   "id": "886eef7b-62fd-45af-8644-3b6c5647c470",
   "metadata": {},
   "outputs": [
    {
     "data": {
      "text/html": [
       "<img src=./../../../../2021-08-22/LENGTH-10-DEPTH-100.fastq.k-5.gfa.svg>"
      ]
     },
     "metadata": {},
     "output_type": "display_data"
    }
   ],
   "source": [
    "# visualize\n",
    "gfa_file = observations_file * \".k-$k.gfa\"\n",
    "Mycelia.graph_to_gfa(observation_graph, gfa_file)\n",
    "\n",
    "run(`/Applications/Bandage.app/Contents/MacOS/Bandage image $(gfa_file) $(gfa_file).svg --depwidth .9 --deppower .9`)\n",
    "# --nodewidth <float> Average node width (0.5 to 1000, default: 5)\n",
    "# --depwidth <float>  Depth effect on width (0 to 1, default: 0.5)\n",
    "# --deppower <float>  Power of depth effect on width (0 to 1, default: 0.5)\n",
    "\n",
    "html_path_to_svg = \"./\" * repeat(\"../\", length(split(pwd(), '/')) - 3)\n",
    "html_path_to_svg *= replace(\"$(gfa_file).svg\", \"$(homedir())/\" => \"\")\n",
    "\n",
    "x = \"<img src=$(html_path_to_svg)>\"\n",
    "display(\"text/html\", x)\n",
    "# display(\"image/svg+xml\", read(\"$(gfa_file).svg\", String))"
   ]
  },
  {
   "cell_type": "code",
   "execution_count": 118,
   "id": "f9b79057-1175-4165-82dd-0fde3c385af0",
   "metadata": {},
   "outputs": [
    {
     "data": {
      "image/svg+xml": [
       "<?xml version=\"1.0\" encoding=\"utf-8\"?>\n",
       "<svg xmlns=\"http://www.w3.org/2000/svg\" xmlns:xlink=\"http://www.w3.org/1999/xlink\" width=\"500\" height=\"250\" viewBox=\"0 0 2000 1000\">\n",
       "<defs>\n",
       "  <clipPath id=\"clip930\">\n",
       "    <rect x=\"0\" y=\"0\" width=\"2000\" height=\"1000\"/>\n",
       "  </clipPath>\n",
       "</defs>\n",
       "<path clip-path=\"url(#clip930)\" d=\"\n",
       "M0 1000 L2000 1000 L2000 0 L0 0  Z\n",
       "  \" fill=\"#ffffff\" fill-rule=\"evenodd\" fill-opacity=\"1\"/>\n",
       "<defs>\n",
       "  <clipPath id=\"clip931\">\n",
       "    <rect x=\"400\" y=\"0\" width=\"1401\" height=\"1000\"/>\n",
       "  </clipPath>\n",
       "</defs>\n",
       "<path clip-path=\"url(#clip930)\" d=\"\n",
       "M158.269 849.7 L1952.76 849.7 L1952.76 108.352 L158.269 108.352  Z\n",
       "  \" fill=\"#ffffff\" fill-rule=\"evenodd\" fill-opacity=\"1\"/>\n",
       "<defs>\n",
       "  <clipPath id=\"clip932\">\n",
       "    <rect x=\"158\" y=\"108\" width=\"1795\" height=\"742\"/>\n",
       "  </clipPath>\n",
       "</defs>\n",
       "<polyline clip-path=\"url(#clip932)\" style=\"stroke:#000000; stroke-linecap:butt; stroke-linejoin:round; stroke-width:2; stroke-opacity:0.1; fill:none\" points=\"\n",
       "  158.269,849.7 158.269,108.352 \n",
       "  \"/>\n",
       "<polyline clip-path=\"url(#clip932)\" style=\"stroke:#000000; stroke-linecap:butt; stroke-linejoin:round; stroke-width:2; stroke-opacity:0.1; fill:none\" points=\"\n",
       "  479.576,849.7 479.576,108.352 \n",
       "  \"/>\n",
       "<polyline clip-path=\"url(#clip932)\" style=\"stroke:#000000; stroke-linecap:butt; stroke-linejoin:round; stroke-width:2; stroke-opacity:0.1; fill:none\" points=\"\n",
       "  800.882,849.7 800.882,108.352 \n",
       "  \"/>\n",
       "<polyline clip-path=\"url(#clip932)\" style=\"stroke:#000000; stroke-linecap:butt; stroke-linejoin:round; stroke-width:2; stroke-opacity:0.1; fill:none\" points=\"\n",
       "  1122.19,849.7 1122.19,108.352 \n",
       "  \"/>\n",
       "<polyline clip-path=\"url(#clip932)\" style=\"stroke:#000000; stroke-linecap:butt; stroke-linejoin:round; stroke-width:2; stroke-opacity:0.1; fill:none\" points=\"\n",
       "  1443.5,849.7 1443.5,108.352 \n",
       "  \"/>\n",
       "<polyline clip-path=\"url(#clip932)\" style=\"stroke:#000000; stroke-linecap:butt; stroke-linejoin:round; stroke-width:2; stroke-opacity:0.1; fill:none\" points=\"\n",
       "  1764.8,849.7 1764.8,108.352 \n",
       "  \"/>\n",
       "<polyline clip-path=\"url(#clip930)\" style=\"stroke:#000000; stroke-linecap:butt; stroke-linejoin:round; stroke-width:4; stroke-opacity:1; fill:none\" points=\"\n",
       "  158.269,849.7 1952.76,849.7 \n",
       "  \"/>\n",
       "<polyline clip-path=\"url(#clip930)\" style=\"stroke:#000000; stroke-linecap:butt; stroke-linejoin:round; stroke-width:4; stroke-opacity:1; fill:none\" points=\"\n",
       "  158.269,849.7 158.269,840.804 \n",
       "  \"/>\n",
       "<polyline clip-path=\"url(#clip930)\" style=\"stroke:#000000; stroke-linecap:butt; stroke-linejoin:round; stroke-width:4; stroke-opacity:1; fill:none\" points=\"\n",
       "  479.576,849.7 479.576,840.804 \n",
       "  \"/>\n",
       "<polyline clip-path=\"url(#clip930)\" style=\"stroke:#000000; stroke-linecap:butt; stroke-linejoin:round; stroke-width:4; stroke-opacity:1; fill:none\" points=\"\n",
       "  800.882,849.7 800.882,840.804 \n",
       "  \"/>\n",
       "<polyline clip-path=\"url(#clip930)\" style=\"stroke:#000000; stroke-linecap:butt; stroke-linejoin:round; stroke-width:4; stroke-opacity:1; fill:none\" points=\"\n",
       "  1122.19,849.7 1122.19,840.804 \n",
       "  \"/>\n",
       "<polyline clip-path=\"url(#clip930)\" style=\"stroke:#000000; stroke-linecap:butt; stroke-linejoin:round; stroke-width:4; stroke-opacity:1; fill:none\" points=\"\n",
       "  1443.5,849.7 1443.5,840.804 \n",
       "  \"/>\n",
       "<polyline clip-path=\"url(#clip930)\" style=\"stroke:#000000; stroke-linecap:butt; stroke-linejoin:round; stroke-width:4; stroke-opacity:1; fill:none\" points=\"\n",
       "  1764.8,849.7 1764.8,840.804 \n",
       "  \"/>\n",
       "<path clip-path=\"url(#clip930)\" d=\"M158.269 875.691 Q154.658 875.691 152.829 879.255 Q151.024 882.797 151.024 889.927 Q151.024 897.033 152.829 900.598 Q154.658 904.139 158.269 904.139 Q161.903 904.139 163.709 900.598 Q165.537 897.033 165.537 889.927 Q165.537 882.797 163.709 879.255 Q161.903 875.691 158.269 875.691 M158.269 871.987 Q164.079 871.987 167.135 876.593 Q170.213 881.177 170.213 889.927 Q170.213 898.653 167.135 903.26 Q164.079 907.843 158.269 907.843 Q152.459 907.843 149.38 903.26 Q146.325 898.653 146.325 889.927 Q146.325 881.177 149.38 876.593 Q152.459 871.987 158.269 871.987 Z\" fill=\"#000000\" fill-rule=\"evenodd\" fill-opacity=\"1\" /><path clip-path=\"url(#clip930)\" d=\"M469.958 903.237 L477.596 903.237 L477.596 876.871 L469.286 878.538 L469.286 874.279 L477.55 872.612 L482.226 872.612 L482.226 903.237 L489.865 903.237 L489.865 907.172 L469.958 907.172 L469.958 903.237 Z\" fill=\"#000000\" fill-rule=\"evenodd\" fill-opacity=\"1\" /><path clip-path=\"url(#clip930)\" d=\"M795.535 903.237 L811.854 903.237 L811.854 907.172 L789.91 907.172 L789.91 903.237 Q792.572 900.482 797.155 895.852 Q801.762 891.2 802.942 889.857 Q805.188 887.334 806.067 885.598 Q806.97 883.839 806.97 882.149 Q806.97 879.394 805.026 877.658 Q803.104 875.922 800.003 875.922 Q797.803 875.922 795.35 876.686 Q792.919 877.45 790.141 879.001 L790.141 874.279 Q792.966 873.144 795.419 872.566 Q797.873 871.987 799.91 871.987 Q805.28 871.987 808.475 874.672 Q811.669 877.357 811.669 881.848 Q811.669 883.978 810.859 885.899 Q810.072 887.797 807.965 890.39 Q807.387 891.061 804.285 894.278 Q801.183 897.473 795.535 903.237 Z\" fill=\"#000000\" fill-rule=\"evenodd\" fill-opacity=\"1\" /><path clip-path=\"url(#clip930)\" d=\"M1126.44 888.538 Q1129.79 889.255 1131.67 891.524 Q1133.57 893.792 1133.57 897.126 Q1133.57 902.241 1130.05 905.042 Q1126.53 907.843 1120.05 907.843 Q1117.87 907.843 1115.56 907.403 Q1113.27 906.987 1110.81 906.13 L1110.81 901.616 Q1112.76 902.751 1115.07 903.329 Q1117.39 903.908 1119.91 903.908 Q1124.31 903.908 1126.6 902.172 Q1128.91 900.436 1128.91 897.126 Q1128.91 894.07 1126.76 892.357 Q1124.63 890.621 1120.81 890.621 L1116.78 890.621 L1116.78 886.778 L1121 886.778 Q1124.45 886.778 1126.27 885.413 Q1128.1 884.024 1128.1 881.431 Q1128.1 878.769 1126.2 877.357 Q1124.33 875.922 1120.81 875.922 Q1118.89 875.922 1116.69 876.339 Q1114.49 876.755 1111.85 877.635 L1111.85 873.468 Q1114.52 872.728 1116.83 872.357 Q1119.17 871.987 1121.23 871.987 Q1126.55 871.987 1129.65 874.417 Q1132.76 876.825 1132.76 880.945 Q1132.76 883.815 1131.11 885.806 Q1129.47 887.774 1126.44 888.538 Z\" fill=\"#000000\" fill-rule=\"evenodd\" fill-opacity=\"1\" /><path clip-path=\"url(#clip930)\" d=\"M1446.5 876.686 L1434.7 895.135 L1446.5 895.135 L1446.5 876.686 M1445.28 872.612 L1451.16 872.612 L1451.16 895.135 L1456.09 895.135 L1456.09 899.024 L1451.16 899.024 L1451.16 907.172 L1446.5 907.172 L1446.5 899.024 L1430.9 899.024 L1430.9 894.51 L1445.28 872.612 Z\" fill=\"#000000\" fill-rule=\"evenodd\" fill-opacity=\"1\" /><path clip-path=\"url(#clip930)\" d=\"M1755.08 872.612 L1773.44 872.612 L1773.44 876.547 L1759.36 876.547 L1759.36 885.019 Q1760.38 884.672 1761.4 884.51 Q1762.42 884.325 1763.44 884.325 Q1769.22 884.325 1772.6 887.496 Q1775.98 890.667 1775.98 896.084 Q1775.98 901.663 1772.51 904.764 Q1769.04 907.843 1762.72 907.843 Q1760.54 907.843 1758.27 907.473 Q1756.03 907.102 1753.62 906.362 L1753.62 901.663 Q1755.7 902.797 1757.93 903.352 Q1760.15 903.908 1762.63 903.908 Q1766.63 903.908 1768.97 901.802 Q1771.31 899.695 1771.31 896.084 Q1771.31 892.473 1768.97 890.366 Q1766.63 888.26 1762.63 888.26 Q1760.75 888.26 1758.88 888.677 Q1757.02 889.093 1755.08 889.973 L1755.08 872.612 Z\" fill=\"#000000\" fill-rule=\"evenodd\" fill-opacity=\"1\" /><path clip-path=\"url(#clip930)\" d=\"M661.348 939.039 L667.204 939.039 L667.204 988.564 L661.348 988.564 L661.348 939.039 Z\" fill=\"#000000\" fill-rule=\"evenodd\" fill-opacity=\"1\" /><path clip-path=\"url(#clip930)\" d=\"M693.272 957.022 Q688.561 957.022 685.824 960.714 Q683.087 964.374 683.087 970.772 Q683.087 977.169 685.792 980.861 Q688.529 984.522 693.272 984.522 Q697.951 984.522 700.688 980.83 Q703.425 977.137 703.425 970.772 Q703.425 964.438 700.688 960.746 Q697.951 957.022 693.272 957.022 M693.272 952.057 Q700.911 952.057 705.271 957.022 Q709.632 961.987 709.632 970.772 Q709.632 979.525 705.271 984.522 Q700.911 989.487 693.272 989.487 Q685.601 989.487 681.241 984.522 Q676.912 979.525 676.912 970.772 Q676.912 961.987 681.241 957.022 Q685.601 952.057 693.272 952.057 Z\" fill=\"#000000\" fill-rule=\"evenodd\" fill-opacity=\"1\" /><path clip-path=\"url(#clip930)\" d=\"M742.797 970.326 Q742.797 963.96 740.155 960.459 Q737.545 956.958 732.803 956.958 Q728.092 956.958 725.451 960.459 Q722.841 963.96 722.841 970.326 Q722.841 976.66 725.451 980.161 Q728.092 983.662 732.803 983.662 Q737.545 983.662 740.155 980.161 Q742.797 976.66 742.797 970.326 M748.654 984.14 Q748.654 993.243 744.611 997.667 Q740.569 1002.12 732.23 1002.12 Q729.143 1002.12 726.405 1001.65 Q723.668 1001.2 721.09 1000.24 L721.09 994.548 Q723.668 995.948 726.183 996.616 Q728.697 997.285 731.307 997.285 Q737.068 997.285 739.933 994.261 Q742.797 991.269 742.797 985.19 L742.797 982.294 Q740.983 985.445 738.15 987.004 Q735.317 988.564 731.371 988.564 Q724.814 988.564 720.804 983.567 Q716.793 978.57 716.793 970.326 Q716.793 962.051 720.804 957.054 Q724.814 952.057 731.371 952.057 Q735.317 952.057 738.15 953.616 Q740.983 955.176 742.797 958.327 L742.797 952.916 L748.654 952.916 L748.654 984.14 Z\" fill=\"#000000\" fill-rule=\"evenodd\" fill-opacity=\"1\" /><path clip-path=\"url(#clip930)\" d=\"M774.785 939.102 Q770.52 946.423 768.451 953.584 Q766.382 960.746 766.382 968.098 Q766.382 975.45 768.451 982.676 Q770.552 989.869 774.785 997.158 L769.692 997.158 Q764.918 989.678 762.531 982.453 Q760.175 975.228 760.175 968.098 Q760.175 961 762.531 953.807 Q764.886 946.614 769.692 939.102 L774.785 939.102 Z\" fill=\"#000000\" fill-rule=\"evenodd\" fill-opacity=\"1\" /><path clip-path=\"url(#clip930)\" d=\"M799.961 957.022 Q795.25 957.022 792.513 960.714 Q789.776 964.374 789.776 970.772 Q789.776 977.169 792.481 980.861 Q795.219 984.522 799.961 984.522 Q804.64 984.522 807.377 980.83 Q810.114 977.137 810.114 970.772 Q810.114 964.438 807.377 960.746 Q804.64 957.022 799.961 957.022 M799.961 952.057 Q807.6 952.057 811.96 957.022 Q816.321 961.987 816.321 970.772 Q816.321 979.525 811.96 984.522 Q807.6 989.487 799.961 989.487 Q792.29 989.487 787.93 984.522 Q783.601 979.525 783.601 970.772 Q783.601 961.987 787.93 957.022 Q792.29 952.057 799.961 952.057 Z\" fill=\"#000000\" fill-rule=\"evenodd\" fill-opacity=\"1\" /><path clip-path=\"url(#clip930)\" d=\"M851.619 970.772 Q851.619 964.311 848.945 960.65 Q846.303 956.958 841.656 956.958 Q837.01 956.958 834.336 960.65 Q831.694 964.311 831.694 970.772 Q831.694 977.233 834.336 980.925 Q837.01 984.585 841.656 984.585 Q846.303 984.585 848.945 980.925 Q851.619 977.233 851.619 970.772 M831.694 958.327 Q833.54 955.144 836.341 953.616 Q839.174 952.057 843.089 952.057 Q849.582 952.057 853.624 957.213 Q857.698 962.369 857.698 970.772 Q857.698 979.174 853.624 984.331 Q849.582 989.487 843.089 989.487 Q839.174 989.487 836.341 987.959 Q833.54 986.4 831.694 983.217 L831.694 988.564 L825.806 988.564 L825.806 939.039 L831.694 939.039 L831.694 958.327 Z\" fill=\"#000000\" fill-rule=\"evenodd\" fill-opacity=\"1\" /><path clip-path=\"url(#clip930)\" d=\"M890.131 953.966 L890.131 959.504 Q887.649 958.231 884.975 957.595 Q882.302 956.958 879.437 956.958 Q875.076 956.958 872.88 958.295 Q870.716 959.632 870.716 962.305 Q870.716 964.342 872.276 965.52 Q873.835 966.666 878.546 967.716 L880.551 968.162 Q886.789 969.499 889.399 971.949 Q892.041 974.368 892.041 978.729 Q892.041 983.694 888.094 986.59 Q884.179 989.487 877.304 989.487 Q874.44 989.487 871.321 988.914 Q868.233 988.373 864.796 987.259 L864.796 981.211 Q868.042 982.898 871.193 983.758 Q874.344 984.585 877.432 984.585 Q881.569 984.585 883.797 983.185 Q886.025 981.753 886.025 979.174 Q886.025 976.787 884.402 975.514 Q882.811 974.241 877.368 973.063 L875.331 972.586 Q869.888 971.44 867.469 969.085 Q865.05 966.698 865.05 962.56 Q865.05 957.531 868.615 954.794 Q872.18 952.057 878.737 952.057 Q881.983 952.057 884.848 952.534 Q887.712 953.011 890.131 953.966 Z\" fill=\"#000000\" fill-rule=\"evenodd\" fill-opacity=\"1\" /><path clip-path=\"url(#clip930)\" d=\"M931.859 969.276 L931.859 972.14 L904.932 972.14 Q905.314 978.188 908.56 981.371 Q911.838 984.522 917.663 984.522 Q921.037 984.522 924.188 983.694 Q927.371 982.867 930.49 981.211 L930.49 986.75 Q927.339 988.086 924.029 988.787 Q920.719 989.487 917.313 989.487 Q908.783 989.487 903.786 984.522 Q898.821 979.556 898.821 971.09 Q898.821 962.337 903.531 957.213 Q908.274 952.057 916.294 952.057 Q923.488 952.057 927.657 956.703 Q931.859 961.319 931.859 969.276 M926.002 967.557 Q925.938 962.751 923.297 959.886 Q920.687 957.022 916.358 957.022 Q911.456 957.022 908.496 959.791 Q905.568 962.56 905.123 967.589 L926.002 967.557 Z\" fill=\"#000000\" fill-rule=\"evenodd\" fill-opacity=\"1\" /><path clip-path=\"url(#clip930)\" d=\"M962.127 958.39 Q961.141 957.817 959.963 957.563 Q958.817 957.276 957.417 957.276 Q952.452 957.276 949.778 960.523 Q947.136 963.738 947.136 969.785 L947.136 988.564 L941.248 988.564 L941.248 952.916 L947.136 952.916 L947.136 958.454 Q948.982 955.208 951.942 953.648 Q954.902 952.057 959.136 952.057 Q959.74 952.057 960.472 952.152 Q961.204 952.216 962.096 952.375 L962.127 958.39 Z\" fill=\"#000000\" fill-rule=\"evenodd\" fill-opacity=\"1\" /><path clip-path=\"url(#clip930)\" d=\"M964.069 952.916 L970.276 952.916 L981.416 982.835 L992.556 952.916 L998.762 952.916 L985.394 988.564 L977.437 988.564 L964.069 952.916 Z\" fill=\"#000000\" fill-rule=\"evenodd\" fill-opacity=\"1\" /><path clip-path=\"url(#clip930)\" d=\"M1037.34 969.276 L1037.34 972.14 L1010.41 972.14 Q1010.79 978.188 1014.04 981.371 Q1017.32 984.522 1023.14 984.522 Q1026.52 984.522 1029.67 983.694 Q1032.85 982.867 1035.97 981.211 L1035.97 986.75 Q1032.82 988.086 1029.51 988.787 Q1026.2 989.487 1022.79 989.487 Q1014.26 989.487 1009.27 984.522 Q1004.3 979.556 1004.3 971.09 Q1004.3 962.337 1009.01 957.213 Q1013.75 952.057 1021.77 952.057 Q1028.97 952.057 1033.14 956.703 Q1037.34 961.319 1037.34 969.276 M1031.48 967.557 Q1031.42 962.751 1028.78 959.886 Q1026.17 957.022 1021.84 957.022 Q1016.94 957.022 1013.98 959.791 Q1011.05 962.56 1010.6 967.589 L1031.48 967.557 Z\" fill=\"#000000\" fill-rule=\"evenodd\" fill-opacity=\"1\" /><path clip-path=\"url(#clip930)\" d=\"M1070.41 958.327 L1070.41 939.039 L1076.26 939.039 L1076.26 988.564 L1070.41 988.564 L1070.41 983.217 Q1068.56 986.4 1065.73 987.959 Q1062.93 989.487 1058.98 989.487 Q1052.52 989.487 1048.45 984.331 Q1044.4 979.174 1044.4 970.772 Q1044.4 962.369 1048.45 957.213 Q1052.52 952.057 1058.98 952.057 Q1062.93 952.057 1065.73 953.616 Q1068.56 955.144 1070.41 958.327 M1050.45 970.772 Q1050.45 977.233 1053.09 980.925 Q1055.77 984.585 1060.41 984.585 Q1065.06 984.585 1067.73 980.925 Q1070.41 977.233 1070.41 970.772 Q1070.41 964.311 1067.73 960.65 Q1065.06 956.958 1060.41 956.958 Q1055.77 956.958 1053.09 960.65 Q1050.45 964.311 1050.45 970.772 Z\" fill=\"#000000\" fill-rule=\"evenodd\" fill-opacity=\"1\" /><path clip-path=\"url(#clip930)\" d=\"M1127.09 939.039 L1127.09 943.908 L1121.49 943.908 Q1118.34 943.908 1117.1 945.182 Q1115.89 946.455 1115.89 949.765 L1115.89 952.916 L1125.54 952.916 L1125.54 957.467 L1115.89 957.467 L1115.89 988.564 L1110 988.564 L1110 957.467 L1104.4 957.467 L1104.4 952.916 L1110 952.916 L1110 950.433 Q1110 944.481 1112.77 941.776 Q1115.54 939.039 1121.56 939.039 L1127.09 939.039 Z\" fill=\"#000000\" fill-rule=\"evenodd\" fill-opacity=\"1\" /><path clip-path=\"url(#clip930)\" d=\"M1152.65 958.39 Q1151.67 957.817 1150.49 957.563 Q1149.34 957.276 1147.94 957.276 Q1142.98 957.276 1140.3 960.523 Q1137.66 963.738 1137.66 969.785 L1137.66 988.564 L1131.77 988.564 L1131.77 952.916 L1137.66 952.916 L1137.66 958.454 Q1139.51 955.208 1142.47 953.648 Q1145.43 952.057 1149.66 952.057 Q1150.27 952.057 1151 952.152 Q1151.73 952.216 1152.62 952.375 L1152.65 958.39 Z\" fill=\"#000000\" fill-rule=\"evenodd\" fill-opacity=\"1\" /><path clip-path=\"url(#clip930)\" d=\"M1187.86 969.276 L1187.86 972.14 L1160.93 972.14 Q1161.31 978.188 1164.56 981.371 Q1167.84 984.522 1173.66 984.522 Q1177.03 984.522 1180.18 983.694 Q1183.37 982.867 1186.49 981.211 L1186.49 986.75 Q1183.34 988.086 1180.03 988.787 Q1176.72 989.487 1173.31 989.487 Q1164.78 989.487 1159.78 984.522 Q1154.82 979.556 1154.82 971.09 Q1154.82 962.337 1159.53 957.213 Q1164.27 952.057 1172.29 952.057 Q1179.48 952.057 1183.65 956.703 Q1187.86 961.319 1187.86 969.276 M1182 967.557 Q1181.94 962.751 1179.29 959.886 Q1176.68 957.022 1172.35 957.022 Q1167.45 957.022 1164.49 959.791 Q1161.57 962.56 1161.12 967.589 L1182 967.557 Z\" fill=\"#000000\" fill-rule=\"evenodd\" fill-opacity=\"1\" /><path clip-path=\"url(#clip930)\" d=\"M1200.97 970.772 Q1200.97 977.233 1203.61 980.925 Q1206.28 984.585 1210.93 984.585 Q1215.58 984.585 1218.25 980.925 Q1220.93 977.233 1220.93 970.772 Q1220.93 964.311 1218.25 960.65 Q1215.58 956.958 1210.93 956.958 Q1206.28 956.958 1203.61 960.65 Q1200.97 964.311 1200.97 970.772 M1220.93 983.217 Q1219.08 986.4 1216.25 987.959 Q1213.45 989.487 1209.5 989.487 Q1203.04 989.487 1198.96 984.331 Q1194.92 979.174 1194.92 970.772 Q1194.92 962.369 1198.96 957.213 Q1203.04 952.057 1209.5 952.057 Q1213.45 952.057 1216.25 953.616 Q1219.08 955.144 1220.93 958.327 L1220.93 952.916 L1226.78 952.916 L1226.78 1002.12 L1220.93 1002.12 L1220.93 983.217 Z\" fill=\"#000000\" fill-rule=\"evenodd\" fill-opacity=\"1\" /><path clip-path=\"url(#clip930)\" d=\"M1238.24 974.496 L1238.24 952.916 L1244.1 952.916 L1244.1 974.273 Q1244.1 979.334 1246.07 981.88 Q1248.04 984.394 1251.99 984.394 Q1256.73 984.394 1259.47 981.371 Q1262.24 978.347 1262.24 973.127 L1262.24 952.916 L1268.1 952.916 L1268.1 988.564 L1262.24 988.564 L1262.24 983.089 Q1260.11 986.336 1257.27 987.927 Q1254.47 989.487 1250.75 989.487 Q1244.61 989.487 1241.42 985.667 Q1238.24 981.848 1238.24 974.496 M1252.98 952.057 L1252.98 952.057 Z\" fill=\"#000000\" fill-rule=\"evenodd\" fill-opacity=\"1\" /><path clip-path=\"url(#clip930)\" d=\"M1310.65 969.276 L1310.65 972.14 L1283.72 972.14 Q1284.1 978.188 1287.35 981.371 Q1290.63 984.522 1296.45 984.522 Q1299.83 984.522 1302.98 983.694 Q1306.16 982.867 1309.28 981.211 L1309.28 986.75 Q1306.13 988.086 1302.82 988.787 Q1299.51 989.487 1296.1 989.487 Q1287.57 989.487 1282.58 984.522 Q1277.61 979.556 1277.61 971.09 Q1277.61 962.337 1282.32 957.213 Q1287.06 952.057 1295.09 952.057 Q1302.28 952.057 1306.45 956.703 Q1310.65 961.319 1310.65 969.276 M1304.79 967.557 Q1304.73 962.751 1302.09 959.886 Q1299.48 957.022 1295.15 957.022 Q1290.25 957.022 1287.29 959.791 Q1284.36 962.56 1283.91 967.589 L1304.79 967.557 Z\" fill=\"#000000\" fill-rule=\"evenodd\" fill-opacity=\"1\" /><path clip-path=\"url(#clip930)\" d=\"M1349.89 967.048 L1349.89 988.564 L1344.04 988.564 L1344.04 967.239 Q1344.04 962.178 1342.06 959.664 Q1340.09 957.149 1336.14 957.149 Q1331.4 957.149 1328.66 960.173 Q1325.93 963.197 1325.93 968.416 L1325.93 988.564 L1320.04 988.564 L1320.04 952.916 L1325.93 952.916 L1325.93 958.454 Q1328.03 955.239 1330.86 953.648 Q1333.73 952.057 1337.45 952.057 Q1343.59 952.057 1346.74 955.876 Q1349.89 959.664 1349.89 967.048 Z\" fill=\"#000000\" fill-rule=\"evenodd\" fill-opacity=\"1\" /><path clip-path=\"url(#clip930)\" d=\"M1387.23 954.285 L1387.23 959.759 Q1384.75 958.39 1382.23 957.722 Q1379.75 957.022 1377.2 957.022 Q1371.51 957.022 1368.36 960.65 Q1365.2 964.247 1365.2 970.772 Q1365.2 977.297 1368.36 980.925 Q1371.51 984.522 1377.2 984.522 Q1379.75 984.522 1382.23 983.853 Q1384.75 983.153 1387.23 981.784 L1387.23 987.195 Q1384.78 988.341 1382.14 988.914 Q1379.53 989.487 1376.57 989.487 Q1368.51 989.487 1363.77 984.426 Q1359.03 979.365 1359.03 970.772 Q1359.03 962.051 1363.8 957.054 Q1368.61 952.057 1376.95 952.057 Q1379.65 952.057 1382.23 952.629 Q1384.81 953.171 1387.23 954.285 Z\" fill=\"#000000\" fill-rule=\"evenodd\" fill-opacity=\"1\" /><path clip-path=\"url(#clip930)\" d=\"M1412.25 991.874 Q1409.76 998.24 1407.41 1000.18 Q1405.05 1002.12 1401.11 1002.12 L1396.43 1002.12 L1396.43 997.221 L1399.87 997.221 Q1402.28 997.221 1403.62 996.075 Q1404.96 994.93 1406.58 990.665 L1407.63 987.991 L1393.21 952.916 L1399.42 952.916 L1410.56 980.798 L1421.7 952.916 L1427.91 952.916 L1412.25 991.874 Z\" fill=\"#000000\" fill-rule=\"evenodd\" fill-opacity=\"1\" /><path clip-path=\"url(#clip930)\" d=\"M1435.07 939.102 L1440.16 939.102 Q1444.93 946.614 1447.29 953.807 Q1449.68 961 1449.68 968.098 Q1449.68 975.228 1447.29 982.453 Q1444.93 989.678 1440.16 997.158 L1435.07 997.158 Q1439.3 989.869 1441.37 982.676 Q1443.47 975.45 1443.47 968.098 Q1443.47 960.746 1441.37 953.584 Q1439.3 946.423 1435.07 939.102 Z\" fill=\"#000000\" fill-rule=\"evenodd\" fill-opacity=\"1\" /><polyline clip-path=\"url(#clip932)\" style=\"stroke:#000000; stroke-linecap:butt; stroke-linejoin:round; stroke-width:2; stroke-opacity:0.1; fill:none\" points=\"\n",
       "  158.269,849.7 1952.76,849.7 \n",
       "  \"/>\n",
       "<polyline clip-path=\"url(#clip932)\" style=\"stroke:#000000; stroke-linecap:butt; stroke-linejoin:round; stroke-width:2; stroke-opacity:0.1; fill:none\" points=\"\n",
       "  158.269,645.98 1952.76,645.98 \n",
       "  \"/>\n",
       "<polyline clip-path=\"url(#clip932)\" style=\"stroke:#000000; stroke-linecap:butt; stroke-linejoin:round; stroke-width:2; stroke-opacity:0.1; fill:none\" points=\"\n",
       "  158.269,442.26 1952.76,442.26 \n",
       "  \"/>\n",
       "<polyline clip-path=\"url(#clip932)\" style=\"stroke:#000000; stroke-linecap:butt; stroke-linejoin:round; stroke-width:2; stroke-opacity:0.1; fill:none\" points=\"\n",
       "  158.269,238.541 1952.76,238.541 \n",
       "  \"/>\n",
       "<polyline clip-path=\"url(#clip930)\" style=\"stroke:#000000; stroke-linecap:butt; stroke-linejoin:round; stroke-width:4; stroke-opacity:1; fill:none\" points=\"\n",
       "  158.269,849.7 158.269,108.352 \n",
       "  \"/>\n",
       "<polyline clip-path=\"url(#clip930)\" style=\"stroke:#000000; stroke-linecap:butt; stroke-linejoin:round; stroke-width:4; stroke-opacity:1; fill:none\" points=\"\n",
       "  158.269,849.7 179.803,849.7 \n",
       "  \"/>\n",
       "<polyline clip-path=\"url(#clip930)\" style=\"stroke:#000000; stroke-linecap:butt; stroke-linejoin:round; stroke-width:4; stroke-opacity:1; fill:none\" points=\"\n",
       "  158.269,645.98 179.803,645.98 \n",
       "  \"/>\n",
       "<polyline clip-path=\"url(#clip930)\" style=\"stroke:#000000; stroke-linecap:butt; stroke-linejoin:round; stroke-width:4; stroke-opacity:1; fill:none\" points=\"\n",
       "  158.269,442.26 179.803,442.26 \n",
       "  \"/>\n",
       "<polyline clip-path=\"url(#clip930)\" style=\"stroke:#000000; stroke-linecap:butt; stroke-linejoin:round; stroke-width:4; stroke-opacity:1; fill:none\" points=\"\n",
       "  158.269,238.541 179.803,238.541 \n",
       "  \"/>\n",
       "<path clip-path=\"url(#clip930)\" d=\"M116.325 835.499 Q112.713 835.499 110.885 839.063 Q109.079 842.605 109.079 849.735 Q109.079 856.841 110.885 860.406 Q112.713 863.947 116.325 863.947 Q119.959 863.947 121.764 860.406 Q123.593 856.841 123.593 849.735 Q123.593 842.605 121.764 839.063 Q119.959 835.499 116.325 835.499 M116.325 831.795 Q122.135 831.795 125.19 836.401 Q128.269 840.985 128.269 849.735 Q128.269 858.461 125.19 863.068 Q122.135 867.651 116.325 867.651 Q110.514 867.651 107.436 863.068 Q104.38 858.461 104.38 849.735 Q104.38 840.985 107.436 836.401 Q110.514 831.795 116.325 831.795 Z\" fill=\"#000000\" fill-rule=\"evenodd\" fill-opacity=\"1\" /><path clip-path=\"url(#clip930)\" d=\"M108.362 659.325 L116 659.325 L116 632.959 L107.69 634.626 L107.69 630.367 L115.954 628.7 L120.63 628.7 L120.63 659.325 L128.269 659.325 L128.269 663.26 L108.362 663.26 L108.362 659.325 Z\" fill=\"#000000\" fill-rule=\"evenodd\" fill-opacity=\"1\" /><path clip-path=\"url(#clip930)\" d=\"M111.95 455.605 L128.269 455.605 L128.269 459.54 L106.325 459.54 L106.325 455.605 Q108.987 452.851 113.57 448.221 Q118.176 443.568 119.357 442.226 Q121.602 439.703 122.482 437.966 Q123.385 436.207 123.385 434.517 Q123.385 431.763 121.44 430.027 Q119.519 428.291 116.417 428.291 Q114.218 428.291 111.764 429.054 Q109.334 429.818 106.556 431.369 L106.556 426.647 Q109.38 425.513 111.834 424.934 Q114.288 424.355 116.325 424.355 Q121.695 424.355 124.889 427.041 Q128.084 429.726 128.084 434.216 Q128.084 436.346 127.274 438.267 Q126.487 440.166 124.38 442.758 Q123.801 443.429 120.7 446.647 Q117.598 449.841 111.95 455.605 Z\" fill=\"#000000\" fill-rule=\"evenodd\" fill-opacity=\"1\" /><path clip-path=\"url(#clip930)\" d=\"M121.139 237.187 Q124.496 237.904 126.371 240.173 Q128.269 242.441 128.269 245.774 Q128.269 250.89 124.75 253.691 Q121.232 256.492 114.75 256.492 Q112.575 256.492 110.26 256.052 Q107.968 255.636 105.514 254.779 L105.514 250.265 Q107.459 251.399 109.774 251.978 Q112.088 252.557 114.612 252.557 Q119.01 252.557 121.301 250.821 Q123.616 249.085 123.616 245.774 Q123.616 242.719 121.463 241.006 Q119.334 239.27 115.514 239.27 L111.487 239.27 L111.487 235.427 L115.7 235.427 Q119.149 235.427 120.977 234.062 Q122.806 232.673 122.806 230.08 Q122.806 227.418 120.908 226.006 Q119.033 224.571 115.514 224.571 Q113.593 224.571 111.394 224.988 Q109.195 225.404 106.556 226.284 L106.556 222.117 Q109.218 221.376 111.533 221.006 Q113.871 220.636 115.931 220.636 Q121.255 220.636 124.357 223.066 Q127.459 225.474 127.459 229.594 Q127.459 232.464 125.815 234.455 Q124.172 236.423 121.139 237.187 Z\" fill=\"#000000\" fill-rule=\"evenodd\" fill-opacity=\"1\" /><path clip-path=\"url(#clip930)\" d=\"M10.599 728.769 L10.599 722.912 L60.1242 722.912 L60.1242 728.769 L10.599 728.769 Z\" fill=\"#000000\" fill-rule=\"evenodd\" fill-opacity=\"1\" /><path clip-path=\"url(#clip930)\" d=\"M28.5821 696.845 Q28.5821 701.555 32.2742 704.292 Q35.9345 707.03 42.332 707.03 Q48.7295 707.03 52.4217 704.324 Q56.0819 701.587 56.0819 696.845 Q56.0819 692.166 52.3898 689.429 Q48.6977 686.691 42.332 686.691 Q35.9981 686.691 32.306 689.429 Q28.5821 692.166 28.5821 696.845 M23.6168 696.845 Q23.6168 689.206 28.5821 684.845 Q33.5473 680.485 42.332 680.485 Q51.0849 680.485 56.0819 684.845 Q61.0472 689.206 61.0472 696.845 Q61.0472 704.515 56.0819 708.876 Q51.0849 713.204 42.332 713.204 Q33.5473 713.204 28.5821 708.876 Q23.6168 704.515 23.6168 696.845 Z\" fill=\"#000000\" fill-rule=\"evenodd\" fill-opacity=\"1\" /><path clip-path=\"url(#clip930)\" d=\"M41.8864 647.319 Q35.5207 647.319 32.0196 649.961 Q28.5184 652.571 28.5184 657.314 Q28.5184 662.024 32.0196 664.666 Q35.5207 667.276 41.8864 667.276 Q48.2203 667.276 51.7214 664.666 Q55.2226 662.024 55.2226 657.314 Q55.2226 652.571 51.7214 649.961 Q48.2203 647.319 41.8864 647.319 M55.7 641.463 Q64.803 641.463 69.2271 645.505 Q73.6831 649.547 73.6831 657.886 Q73.6831 660.974 73.2057 663.711 Q72.7601 666.448 71.8052 669.026 L66.1079 669.026 Q67.5084 666.448 68.1768 663.934 Q68.8452 661.419 68.8452 658.809 Q68.8452 653.048 65.8215 650.184 Q62.8296 647.319 56.7503 647.319 L53.8539 647.319 Q57.005 649.134 58.5646 651.966 Q60.1242 654.799 60.1242 658.746 Q60.1242 665.302 55.1271 669.313 Q50.13 673.323 41.8864 673.323 Q33.611 673.323 28.6139 669.313 Q23.6168 665.302 23.6168 658.746 Q23.6168 654.799 25.1764 651.966 Q26.736 649.134 29.8871 647.319 L24.4762 647.319 L24.4762 641.463 L55.7 641.463 Z\" fill=\"#000000\" fill-rule=\"evenodd\" fill-opacity=\"1\" /><path clip-path=\"url(#clip930)\" d=\"M10.6626 615.332 Q17.9832 619.597 25.1446 621.666 Q32.306 623.734 39.6584 623.734 Q47.0108 623.734 54.2359 621.666 Q61.4291 619.565 68.7179 615.332 L68.7179 620.424 Q61.2382 625.199 54.0131 627.586 Q46.788 629.941 39.6584 629.941 Q32.5606 629.941 25.3674 627.586 Q18.1742 625.23 10.6626 620.424 L10.6626 615.332 Z\" fill=\"#000000\" fill-rule=\"evenodd\" fill-opacity=\"1\" /><path clip-path=\"url(#clip930)\" d=\"M31.4466 576.787 L31.4466 586.049 L42.0774 588.723 L42.0774 579.397 L31.4466 576.787 M13.3362 581.562 L26.5451 584.872 L26.5451 575.578 L13.3362 572.236 L13.3362 567.143 L26.5451 570.422 L26.5451 560.491 L31.4466 560.491 L31.4466 571.663 L42.0774 574.273 L42.0774 564.151 L46.9471 564.151 L46.9471 575.514 L60.1242 578.824 L60.1242 583.917 L46.9471 580.639 L46.9471 589.964 L60.1242 593.243 L60.1242 598.367 L46.9471 595.057 L46.9471 605.083 L42.0774 605.083 L42.0774 593.879 L31.4466 591.206 L31.4466 601.454 L26.5451 601.454 L26.5451 589.964 L13.3362 586.718 L13.3362 581.562 Z\" fill=\"#000000\" fill-rule=\"evenodd\" fill-opacity=\"1\" /><path clip-path=\"url(#clip930)\" d=\"M28.5821 514.817 Q28.5821 519.528 32.2742 522.265 Q35.9345 525.002 42.332 525.002 Q48.7295 525.002 52.4217 522.297 Q56.0819 519.56 56.0819 514.817 Q56.0819 510.138 52.3898 507.401 Q48.6977 504.664 42.332 504.664 Q35.9981 504.664 32.306 507.401 Q28.5821 510.138 28.5821 514.817 M23.6168 514.817 Q23.6168 507.178 28.5821 502.818 Q33.5473 498.457 42.332 498.457 Q51.0849 498.457 56.0819 502.818 Q61.0472 507.178 61.0472 514.817 Q61.0472 522.488 56.0819 526.848 Q51.0849 531.177 42.332 531.177 Q33.5473 531.177 28.5821 526.848 Q23.6168 522.488 23.6168 514.817 Z\" fill=\"#000000\" fill-rule=\"evenodd\" fill-opacity=\"1\" /><path clip-path=\"url(#clip930)\" d=\"M10.599 470.703 L15.4687 470.703 L15.4687 476.305 Q15.4687 479.456 16.7419 480.697 Q18.015 481.906 21.3252 481.906 L24.4762 481.906 L24.4762 472.262 L29.0277 472.262 L29.0277 481.906 L60.1242 481.906 L60.1242 487.795 L29.0277 487.795 L29.0277 493.397 L24.4762 493.397 L24.4762 487.795 L21.9936 487.795 Q16.0416 487.795 13.3362 485.026 Q10.599 482.257 10.599 476.241 L10.599 470.703 Z\" fill=\"#000000\" fill-rule=\"evenodd\" fill-opacity=\"1\" /><path clip-path=\"url(#clip930)\" d=\"M10.599 445.304 L10.599 439.415 L39.8494 439.415 L24.4762 421.942 L24.4762 414.462 L41.1544 433.368 L60.1242 413.666 L60.1242 421.305 L42.7139 439.415 L60.1242 439.415 L60.1242 445.304 L10.599 445.304 Z\" fill=\"#000000\" fill-rule=\"evenodd\" fill-opacity=\"1\" /><path clip-path=\"url(#clip930)\" d=\"M31.3193 379.578 Q27.3726 377.382 25.4947 374.326 Q23.6168 371.27 23.6168 367.133 Q23.6168 361.563 27.5317 358.539 Q31.4148 355.515 38.6081 355.515 L60.1242 355.515 L60.1242 361.404 L38.799 361.404 Q33.6746 361.404 31.192 363.218 Q28.7094 365.032 28.7094 368.756 Q28.7094 373.308 31.7331 375.949 Q34.7568 378.591 39.9767 378.591 L60.1242 378.591 L60.1242 384.479 L38.799 384.479 Q33.6428 384.479 31.192 386.294 Q28.7094 388.108 28.7094 391.895 Q28.7094 396.383 31.7649 399.025 Q34.7886 401.667 39.9767 401.667 L60.1242 401.667 L60.1242 407.555 L24.4762 407.555 L24.4762 401.667 L30.0144 401.667 Q26.736 399.662 25.1764 396.861 Q23.6168 394.06 23.6168 390.208 Q23.6168 386.325 25.5902 383.62 Q27.5636 380.883 31.3193 379.578 Z\" fill=\"#000000\" fill-rule=\"evenodd\" fill-opacity=\"1\" /><path clip-path=\"url(#clip930)\" d=\"M40.8361 313.343 L43.7006 313.343 L43.7006 340.269 Q49.7481 339.888 52.9309 336.641 Q56.0819 333.363 56.0819 327.538 Q56.0819 324.164 55.2544 321.013 Q54.4269 317.83 52.7718 314.711 L58.3099 314.711 Q59.6467 317.862 60.347 321.172 Q61.0472 324.483 61.0472 327.888 Q61.0472 336.418 56.0819 341.415 Q51.1167 346.381 42.6503 346.381 Q33.8974 346.381 28.7731 341.67 Q23.6168 336.927 23.6168 328.907 Q23.6168 321.713 28.2638 317.544 Q32.8789 313.343 40.8361 313.343 M39.1173 319.199 Q34.3112 319.263 31.4466 321.904 Q28.5821 324.514 28.5821 328.843 Q28.5821 333.745 31.3512 336.705 Q34.1202 339.633 39.1492 340.079 L39.1173 319.199 Z\" fill=\"#000000\" fill-rule=\"evenodd\" fill-opacity=\"1\" /><path clip-path=\"url(#clip930)\" d=\"M29.9507 283.074 Q29.3778 284.06 29.1232 285.238 Q28.8367 286.384 28.8367 287.784 Q28.8367 292.749 32.0832 295.423 Q35.2979 298.065 41.3453 298.065 L60.1242 298.065 L60.1242 303.953 L24.4762 303.953 L24.4762 298.065 L30.0144 298.065 Q26.7679 296.219 25.2083 293.259 Q23.6168 290.299 23.6168 286.066 Q23.6168 285.461 23.7123 284.729 Q23.776 283.997 23.9351 283.105 L29.9507 283.074 Z\" fill=\"#000000\" fill-rule=\"evenodd\" fill-opacity=\"1\" /><path clip-path=\"url(#clip930)\" d=\"M25.5265 254.205 L31.0647 254.205 Q29.7916 256.688 29.155 259.361 Q28.5184 262.035 28.5184 264.9 Q28.5184 269.26 29.8552 271.456 Q31.192 273.621 33.8656 273.621 Q35.9026 273.621 37.0803 272.061 Q38.2261 270.501 39.2765 265.791 L39.7221 263.786 Q41.0589 257.547 43.5097 254.937 Q45.9286 252.295 50.2891 252.295 Q55.2544 252.295 58.1508 256.242 Q61.0472 260.157 61.0472 267.032 Q61.0472 269.897 60.4743 273.016 Q59.9332 276.103 58.8192 279.541 L52.7718 279.541 Q54.4587 276.294 55.318 273.143 Q56.1456 269.992 56.1456 266.905 Q56.1456 262.767 54.7451 260.539 Q53.3129 258.311 50.7347 258.311 Q48.3476 258.311 47.0745 259.934 Q45.8013 261.526 44.6237 266.968 L44.1462 269.005 Q43.0004 274.448 40.6451 276.867 Q38.258 279.286 34.1202 279.286 Q29.0913 279.286 26.3541 275.721 Q23.6168 272.156 23.6168 265.6 Q23.6168 262.353 24.0943 259.489 Q24.5717 256.624 25.5265 254.205 Z\" fill=\"#000000\" fill-rule=\"evenodd\" fill-opacity=\"1\" /><path clip-path=\"url(#clip930)\" d=\"M10.6626 243.893 L10.6626 238.8 Q18.1742 234.026 25.3674 231.671 Q32.5606 229.283 39.6584 229.283 Q46.788 229.283 54.0131 231.671 Q61.2382 234.026 68.7179 238.8 L68.7179 243.893 Q61.4291 239.66 54.2359 237.591 Q47.0108 235.49 39.6584 235.49 Q32.306 235.49 25.1446 237.591 Q17.9832 239.66 10.6626 243.893 Z\" fill=\"#000000\" fill-rule=\"evenodd\" fill-opacity=\"1\" /><path clip-path=\"url(#clip930)\" d=\"M698.952 9.54393 L706.446 9.54393 L706.446 46.7717 L728.685 27.2059 L738.205 27.2059 L714.143 48.4326 L739.218 72.576 L729.496 72.576 L706.446 50.4176 L706.446 72.576 L698.952 72.576 L698.952 9.54393 Z\" fill=\"#000000\" fill-rule=\"evenodd\" fill-opacity=\"1\" /><path clip-path=\"url(#clip930)\" d=\"M782.603 35.9153 Q785.398 30.8922 789.287 28.5022 Q793.176 26.1121 798.442 26.1121 Q805.531 26.1121 809.379 31.0947 Q813.228 36.0368 813.228 45.1919 L813.228 72.576 L805.734 72.576 L805.734 45.4349 Q805.734 38.913 803.425 35.7533 Q801.116 32.5936 796.376 32.5936 Q790.583 32.5936 787.221 36.4419 Q783.859 40.2903 783.859 46.9338 L783.859 72.576 L776.365 72.576 L776.365 45.4349 Q776.365 38.8725 774.056 35.7533 Q771.747 32.5936 766.926 32.5936 Q761.214 32.5936 757.852 36.4824 Q754.49 40.3308 754.49 46.9338 L754.49 72.576 L746.996 72.576 L746.996 27.2059 L754.49 27.2059 L754.49 34.2544 Q757.042 30.082 760.607 28.0971 Q764.171 26.1121 769.073 26.1121 Q774.015 26.1121 777.458 28.6237 Q780.942 31.1352 782.603 35.9153 Z\" fill=\"#000000\" fill-rule=\"evenodd\" fill-opacity=\"1\" /><path clip-path=\"url(#clip930)\" d=\"M866.902 48.0275 L866.902 51.6733 L832.632 51.6733 Q833.118 59.3701 837.25 63.421 Q841.422 67.4314 848.835 67.4314 Q853.129 67.4314 857.14 66.3781 Q861.191 65.3249 865.16 63.2184 L865.16 70.267 Q861.15 71.9684 856.937 72.8596 Q852.724 73.7508 848.39 73.7508 Q837.533 73.7508 831.173 67.4314 Q824.854 61.1119 824.854 50.3365 Q824.854 39.1965 830.849 32.6746 Q836.885 26.1121 847.093 26.1121 Q856.248 26.1121 861.555 32.0264 Q866.902 37.9003 866.902 48.0275 M859.449 45.84 Q859.368 39.7232 856.005 36.0774 Q852.684 32.4315 847.174 32.4315 Q840.936 32.4315 837.169 35.9558 Q833.442 39.4801 832.875 45.8805 L859.449 45.84 Z\" fill=\"#000000\" fill-rule=\"evenodd\" fill-opacity=\"1\" /><path clip-path=\"url(#clip930)\" d=\"M905.426 34.1734 Q904.171 33.4443 902.672 33.1202 Q901.213 32.7556 899.431 32.7556 Q893.112 32.7556 889.709 36.8875 Q886.347 40.9789 886.347 48.6757 L886.347 72.576 L878.852 72.576 L878.852 27.2059 L886.347 27.2059 L886.347 34.2544 Q888.696 30.1225 892.464 28.1376 Q896.231 26.1121 901.619 26.1121 Q902.388 26.1121 903.32 26.2337 Q904.252 26.3147 905.386 26.5172 L905.426 34.1734 Z\" fill=\"#000000\" fill-rule=\"evenodd\" fill-opacity=\"1\" /><path clip-path=\"url(#clip930)\" d=\"M962.585 9.54393 L962.585 15.7418 L955.455 15.7418 Q951.445 15.7418 949.865 17.3622 Q948.325 18.9825 948.325 23.1955 L948.325 27.2059 L960.6 27.2059 L960.6 32.9987 L948.325 32.9987 L948.325 72.576 L940.831 72.576 L940.831 32.9987 L933.702 32.9987 L933.702 27.2059 L940.831 27.2059 L940.831 24.0462 Q940.831 16.471 944.356 13.0277 Q947.88 9.54393 955.536 9.54393 L962.585 9.54393 Z\" fill=\"#000000\" fill-rule=\"evenodd\" fill-opacity=\"1\" /><path clip-path=\"url(#clip930)\" d=\"M995.113 34.1734 Q993.858 33.4443 992.359 33.1202 Q990.9 32.7556 989.118 32.7556 Q982.799 32.7556 979.396 36.8875 Q976.034 40.9789 976.034 48.6757 L976.034 72.576 L968.539 72.576 L968.539 27.2059 L976.034 27.2059 L976.034 34.2544 Q978.383 30.1225 982.151 28.1376 Q985.918 26.1121 991.306 26.1121 Q992.075 26.1121 993.007 26.2337 Q993.939 26.3147 995.073 26.5172 L995.113 34.1734 Z\" fill=\"#000000\" fill-rule=\"evenodd\" fill-opacity=\"1\" /><path clip-path=\"url(#clip930)\" d=\"M1039.92 48.0275 L1039.92 51.6733 L1005.65 51.6733 Q1006.13 59.3701 1010.26 63.421 Q1014.44 67.4314 1021.85 67.4314 Q1026.14 67.4314 1030.15 66.3781 Q1034.2 65.3249 1038.17 63.2184 L1038.17 70.267 Q1034.16 71.9684 1029.95 72.8596 Q1025.74 73.7508 1021.4 73.7508 Q1010.55 73.7508 1004.19 67.4314 Q997.868 61.1119 997.868 50.3365 Q997.868 39.1965 1003.86 32.6746 Q1009.9 26.1121 1020.11 26.1121 Q1029.26 26.1121 1034.57 32.0264 Q1039.92 37.9003 1039.92 48.0275 M1032.46 45.84 Q1032.38 39.7232 1029.02 36.0774 Q1025.7 32.4315 1020.19 32.4315 Q1013.95 32.4315 1010.18 35.9558 Q1006.46 39.4801 1005.89 45.8805 L1032.46 45.84 Z\" fill=\"#000000\" fill-rule=\"evenodd\" fill-opacity=\"1\" /><path clip-path=\"url(#clip930)\" d=\"M1056.61 49.9314 Q1056.61 58.1548 1059.97 62.8538 Q1063.37 67.5124 1069.29 67.5124 Q1075.2 67.5124 1078.6 62.8538 Q1082.01 58.1548 1082.01 49.9314 Q1082.01 41.7081 1078.6 37.0496 Q1075.2 32.3505 1069.29 32.3505 Q1063.37 32.3505 1059.97 37.0496 Q1056.61 41.7081 1056.61 49.9314 M1082.01 65.7705 Q1079.66 69.8214 1076.05 71.8063 Q1072.49 73.7508 1067.46 73.7508 Q1059.24 73.7508 1054.05 67.1883 Q1048.91 60.6258 1048.91 49.9314 Q1048.91 39.2371 1054.05 32.6746 Q1059.24 26.1121 1067.46 26.1121 Q1072.49 26.1121 1076.05 28.0971 Q1079.66 30.0415 1082.01 34.0924 L1082.01 27.2059 L1089.46 27.2059 L1089.46 89.8329 L1082.01 89.8329 L1082.01 65.7705 Z\" fill=\"#000000\" fill-rule=\"evenodd\" fill-opacity=\"1\" /><path clip-path=\"url(#clip930)\" d=\"M1104.04 54.671 L1104.04 27.2059 L1111.5 27.2059 L1111.5 54.3874 Q1111.5 60.8284 1114.01 64.0691 Q1116.52 67.2693 1121.54 67.2693 Q1127.58 67.2693 1131.06 63.421 Q1134.59 59.5726 1134.59 52.9291 L1134.59 27.2059 L1142.04 27.2059 L1142.04 72.576 L1134.59 72.576 L1134.59 65.6084 Q1131.87 69.7404 1128.27 71.7658 Q1124.7 73.7508 1119.96 73.7508 Q1112.14 73.7508 1108.09 68.8897 Q1104.04 64.0286 1104.04 54.671 M1122.8 26.1121 L1122.8 26.1121 Z\" fill=\"#000000\" fill-rule=\"evenodd\" fill-opacity=\"1\" /><path clip-path=\"url(#clip930)\" d=\"M1196.2 48.0275 L1196.2 51.6733 L1161.93 51.6733 Q1162.42 59.3701 1166.55 63.421 Q1170.72 67.4314 1178.13 67.4314 Q1182.43 67.4314 1186.44 66.3781 Q1190.49 65.3249 1194.46 63.2184 L1194.46 70.267 Q1190.45 71.9684 1186.24 72.8596 Q1182.02 73.7508 1177.69 73.7508 Q1166.83 73.7508 1160.47 67.4314 Q1154.15 61.1119 1154.15 50.3365 Q1154.15 39.1965 1160.15 32.6746 Q1166.18 26.1121 1176.39 26.1121 Q1185.55 26.1121 1190.85 32.0264 Q1196.2 37.9003 1196.2 48.0275 M1188.75 45.84 Q1188.67 39.7232 1185.3 36.0774 Q1181.98 32.4315 1176.47 32.4315 Q1170.23 32.4315 1166.47 35.9558 Q1162.74 39.4801 1162.17 45.8805 L1188.75 45.84 Z\" fill=\"#000000\" fill-rule=\"evenodd\" fill-opacity=\"1\" /><path clip-path=\"url(#clip930)\" d=\"M1246.15 45.1919 L1246.15 72.576 L1238.69 72.576 L1238.69 45.4349 Q1238.69 38.994 1236.18 35.7938 Q1233.67 32.5936 1228.65 32.5936 Q1222.61 32.5936 1219.13 36.4419 Q1215.64 40.2903 1215.64 46.9338 L1215.64 72.576 L1208.15 72.576 L1208.15 27.2059 L1215.64 27.2059 L1215.64 34.2544 Q1218.32 30.163 1221.92 28.1376 Q1225.57 26.1121 1230.31 26.1121 Q1238.13 26.1121 1242.14 30.9732 Q1246.15 35.7938 1246.15 45.1919 Z\" fill=\"#000000\" fill-rule=\"evenodd\" fill-opacity=\"1\" /><path clip-path=\"url(#clip930)\" d=\"M1293.67 28.9478 L1293.67 35.9153 Q1290.51 34.1734 1287.31 33.3227 Q1284.15 32.4315 1280.9 32.4315 Q1273.65 32.4315 1269.64 37.0496 Q1265.63 41.6271 1265.63 49.9314 Q1265.63 58.2358 1269.64 62.8538 Q1273.65 67.4314 1280.9 67.4314 Q1284.15 67.4314 1287.31 66.5807 Q1290.51 65.6895 1293.67 63.9476 L1293.67 70.8341 Q1290.55 72.2924 1287.18 73.0216 Q1283.86 73.7508 1280.09 73.7508 Q1269.85 73.7508 1263.81 67.3098 Q1257.77 60.8689 1257.77 49.9314 Q1257.77 38.832 1263.85 32.472 Q1269.97 26.1121 1280.58 26.1121 Q1284.02 26.1121 1287.31 26.8413 Q1290.59 27.5299 1293.67 28.9478 Z\" fill=\"#000000\" fill-rule=\"evenodd\" fill-opacity=\"1\" /><path clip-path=\"url(#clip930)\" d=\"M1306.63 27.2059 L1314.08 27.2059 L1314.08 72.576 L1306.63 72.576 L1306.63 27.2059 M1306.63 9.54393 L1314.08 9.54393 L1314.08 18.9825 L1306.63 18.9825 L1306.63 9.54393 Z\" fill=\"#000000\" fill-rule=\"evenodd\" fill-opacity=\"1\" /><path clip-path=\"url(#clip930)\" d=\"M1368.49 48.0275 L1368.49 51.6733 L1334.21 51.6733 Q1334.7 59.3701 1338.83 63.421 Q1343.01 67.4314 1350.42 67.4314 Q1354.71 67.4314 1358.72 66.3781 Q1362.77 65.3249 1366.74 63.2184 L1366.74 70.267 Q1362.73 71.9684 1358.52 72.8596 Q1354.31 73.7508 1349.97 73.7508 Q1339.12 73.7508 1332.76 67.4314 Q1326.44 61.1119 1326.44 50.3365 Q1326.44 39.1965 1332.43 32.6746 Q1338.47 26.1121 1348.68 26.1121 Q1357.83 26.1121 1363.14 32.0264 Q1368.49 37.9003 1368.49 48.0275 M1361.03 45.84 Q1360.95 39.7232 1357.59 36.0774 Q1354.27 32.4315 1348.76 32.4315 Q1342.52 32.4315 1338.75 35.9558 Q1335.02 39.4801 1334.46 45.8805 L1361.03 45.84 Z\" fill=\"#000000\" fill-rule=\"evenodd\" fill-opacity=\"1\" /><path clip-path=\"url(#clip930)\" d=\"M1409.64 28.5427 L1409.64 35.5912 Q1406.48 33.9709 1403.08 33.1607 Q1399.68 32.3505 1396.03 32.3505 Q1390.48 32.3505 1387.69 34.0519 Q1384.93 35.7533 1384.93 39.156 Q1384.93 41.7486 1386.92 43.2475 Q1388.9 44.7058 1394.9 46.0426 L1397.45 46.6097 Q1405.39 48.3111 1408.71 51.4303 Q1412.07 54.509 1412.07 60.0587 Q1412.07 66.3781 1407.05 70.0644 Q1402.07 73.7508 1393.32 73.7508 Q1389.67 73.7508 1385.7 73.0216 Q1381.77 72.3329 1377.4 70.9151 L1377.4 63.2184 Q1381.53 65.3654 1385.54 66.4591 Q1389.55 67.5124 1393.48 67.5124 Q1398.75 67.5124 1401.58 65.73 Q1404.42 63.9071 1404.42 60.6258 Q1404.42 57.5877 1402.35 55.9673 Q1400.33 54.3469 1393.4 52.8481 L1390.81 52.2405 Q1383.88 50.7821 1380.8 47.7845 Q1377.72 44.7463 1377.72 39.4801 Q1377.72 33.0797 1382.26 29.5959 Q1386.8 26.1121 1395.14 26.1121 Q1399.27 26.1121 1402.92 26.7198 Q1406.56 27.3274 1409.64 28.5427 Z\" fill=\"#000000\" fill-rule=\"evenodd\" fill-opacity=\"1\" /><circle clip-path=\"url(#clip932)\" cx=\"1621.46\" cy=\"708.492\" r=\"14\" fill=\"#009af9\" fill-rule=\"evenodd\" fill-opacity=\"1\" stroke=\"#000000\" stroke-opacity=\"1\" stroke-width=\"2\"/>\n",
       "<circle clip-path=\"url(#clip932)\" cx=\"380.982\" cy=\"625.891\" r=\"14\" fill=\"#009af9\" fill-rule=\"evenodd\" fill-opacity=\"1\" stroke=\"#000000\" stroke-opacity=\"1\" stroke-width=\"2\"/>\n",
       "<circle clip-path=\"url(#clip932)\" cx=\"1628.15\" cy=\"708.492\" r=\"14\" fill=\"#009af9\" fill-rule=\"evenodd\" fill-opacity=\"1\" stroke=\"#000000\" stroke-opacity=\"1\" stroke-width=\"2\"/>\n",
       "<circle clip-path=\"url(#clip932)\" cx=\"1631.45\" cy=\"849.7\" r=\"14\" fill=\"#009af9\" fill-rule=\"evenodd\" fill-opacity=\"1\" stroke=\"#000000\" stroke-opacity=\"1\" stroke-width=\"2\"/>\n",
       "<circle clip-path=\"url(#clip932)\" cx=\"158.269\" cy=\"312.072\" r=\"14\" fill=\"#009af9\" fill-rule=\"evenodd\" fill-opacity=\"1\" stroke=\"#000000\" stroke-opacity=\"1\" stroke-width=\"2\"/>\n",
       "<circle clip-path=\"url(#clip932)\" cx=\"1624.82\" cy=\"849.7\" r=\"14\" fill=\"#009af9\" fill-rule=\"evenodd\" fill-opacity=\"1\" stroke=\"#000000\" stroke-opacity=\"1\" stroke-width=\"2\"/>\n",
       "</svg>\n"
      ]
     },
     "execution_count": 118,
     "metadata": {},
     "output_type": "execute_result"
    }
   ],
   "source": [
    "kmer_weights = Dict(observation_graph.vprops[v][:kmer] => observation_graph.vprops[v][:weight] for v in LightGraphs.vertices(observation_graph))\n",
    "total_observed_kmers = sum(values(kmer_weights))\n",
    "kmer_probabilities = Dict(k => v/total_observed_kmers for (k,v) in kmer_weights)\n",
    "scale = 250\n",
    "Mycelia.plot_kmer_frequency_spectra(values(kmer_weights), size=(2scale,scale), title=\"kmer frequencies\")"
   ]
  },
  {
   "cell_type": "code",
   "execution_count": 119,
   "id": "296d1a39-6bd5-4d2b-a0d3-e5079e44487f",
   "metadata": {},
   "outputs": [
    {
     "data": {
      "text/plain": [
       "OrderedCollections.OrderedDict{BioSequences.DNAMer{5}, Int64} with 23 entries:\n",
       "  ACTGG => 1\n",
       "  AGACG => 1\n",
       "  AGCAG => 1\n",
       "  AGCCG => 97\n",
       "  AGCGA => 1\n",
       "  AGTCG => 1\n",
       "  CAGAC => 1\n",
       "  CAGCA => 1\n",
       "  CAGCC => 97\n",
       "  CAGCG => 1\n",
       "  CAGTC => 1\n",
       "  CCGAA => 1\n",
       "  CCGAC => 95\n",
       "  CCGAG => 2\n",
       "  CCGTC => 96\n",
       "  CCTCG => 2\n",
       "  CGAAC => 1\n",
       "  CGACG => 95\n",
       "  CGGCC => 2\n",
       "  CGTTC => 1\n",
       "  GCAGA => 1\n",
       "  GCCGA => 98\n",
       "  GCGAC => 1"
      ]
     },
     "execution_count": 119,
     "metadata": {},
     "output_type": "execute_result"
    }
   ],
   "source": [
    "Mycelia.count_canonical_kmers(BioSequences.DNAMer{k}, observations_file)"
   ]
  },
  {
   "cell_type": "code",
   "execution_count": 120,
   "id": "47860b0e-720d-471c-ae2b-030cbf0584be",
   "metadata": {},
   "outputs": [],
   "source": [
    "# for each read"
   ]
  },
  {
   "cell_type": "code",
   "execution_count": 121,
   "id": "6d0ea3ce-08e4-4be9-ab25-7dd62484b05d",
   "metadata": {},
   "outputs": [
    {
     "data": {
      "text/plain": [
       "FASTX.FASTQ.Record:\n",
       "   identifier: 13030913541223777560-7rpXO8pyphjqvB2SgvoMOyVdndixoTBg\n",
       "  description: 13030913541223777560\n",
       "     sequence: CAGCCGACGG\n",
       "      quality: UInt8[0x3c, 0x3c, 0x3c, 0x3c, 0x3c, 0x3c, 0x3c, 0x3c, 0x3c, 0x3c]"
      ]
     },
     "execution_count": 121,
     "metadata": {},
     "output_type": "execute_result"
    }
   ],
   "source": [
    "observation = first(observations)"
   ]
  },
  {
   "cell_type": "code",
   "execution_count": 122,
   "id": "e130f0fb-45f2-4f65-bc32-4db60eed2985",
   "metadata": {},
   "outputs": [],
   "source": [
    "# function re-sample read, unanchored"
   ]
  },
  {
   "cell_type": "code",
   "execution_count": 123,
   "id": "a6fed035-5a90-469d-9253-92282d79c8ff",
   "metadata": {},
   "outputs": [
    {
     "data": {
      "text/plain": [
       "10"
      ]
     },
     "execution_count": 123,
     "metadata": {},
     "output_type": "execute_result"
    }
   ],
   "source": [
    "read_length = length(FASTX.sequence(observation))"
   ]
  },
  {
   "cell_type": "code",
   "execution_count": 124,
   "id": "73ed81df-f83f-4b6b-abe4-45a4e91a851c",
   "metadata": {},
   "outputs": [
    {
     "data": {
      "text/plain": [
       "23-element Vector{Int64}:\n",
       "  1\n",
       "  1\n",
       "  1\n",
       " 97\n",
       "  1\n",
       "  1\n",
       "  1\n",
       "  1\n",
       " 97\n",
       "  1\n",
       "  1\n",
       "  1\n",
       " 95\n",
       "  2\n",
       " 96\n",
       "  2\n",
       "  1\n",
       " 95\n",
       "  2\n",
       "  1\n",
       "  1\n",
       " 98\n",
       "  1"
      ]
     },
     "execution_count": 124,
     "metadata": {},
     "output_type": "execute_result"
    }
   ],
   "source": [
    "kmers = observation_graph.gprops[:kmers]\n",
    "weights = [observation_graph.vprops[v][:weight] for v in LightGraphs.vertices(observation_graph)]"
   ]
  },
  {
   "cell_type": "code",
   "execution_count": 125,
   "id": "f3891c31-14e6-48cb-9c23-172f4d6f73e6",
   "metadata": {},
   "outputs": [
    {
     "data": {
      "text/plain": [
       "Dict{Bool, SparseArrays.SparseMatrixCSC{Float64, Int64}} with 2 entries:\n",
       "  0 => …\n",
       "  1 => …"
      ]
     },
     "execution_count": 125,
     "metadata": {},
     "output_type": "execute_result"
    }
   ],
   "source": [
    "edge_weights = determine_edge_weights(observation_graph)\n",
    "edge_probabilities = determine_edge_probabilities(edge_weights)"
   ]
  },
  {
   "cell_type": "code",
   "execution_count": 126,
   "id": "226ed44c-8507-4390-a503-55725ddc7cdf",
   "metadata": {},
   "outputs": [],
   "source": [
    "# # function random_walk(observation_graph, initial_vertex, initial_orientation, edge_probabilties)\n",
    "\n",
    "# (observation_graph, initial_vertex, initial_orientation, edge_probabilities)"
   ]
  },
  {
   "cell_type": "code",
   "execution_count": 127,
   "id": "ab3ecd1a-ebbf-4ed9-bdd3-3987a880e2dd",
   "metadata": {},
   "outputs": [],
   "source": [
    "# initial_vertex"
   ]
  },
  {
   "cell_type": "code",
   "execution_count": 128,
   "id": "d1051a12-e5dc-42b2-9c5f-9d0d5c348b66",
   "metadata": {},
   "outputs": [],
   "source": [
    "# initial_orientation"
   ]
  },
  {
   "cell_type": "code",
   "execution_count": 129,
   "id": "f029891a-08f8-432c-a30e-294cfb8c3a03",
   "metadata": {},
   "outputs": [],
   "source": [
    "# function take_a_step(observation_graph, initial_vertex, initial_orientation, edge_probabilities)"
   ]
  },
  {
   "cell_type": "code",
   "execution_count": 130,
   "id": "e21c2995-d50b-4266-850a-d6cee076851c",
   "metadata": {},
   "outputs": [
    {
     "data": {
      "text/plain": [
       "true"
      ]
     },
     "execution_count": 130,
     "metadata": {},
     "output_type": "execute_result"
    }
   ],
   "source": [
    "initial_vertex = StatsBase.sample(1:length(kmers), StatsBase.weights(weights))\n",
    "initial_orientation = true"
   ]
  },
  {
   "cell_type": "code",
   "execution_count": 131,
   "id": "bee3037d-777d-4dc5-9a0a-1ba4944c5130",
   "metadata": {},
   "outputs": [
    {
     "data": {
      "text/plain": [
       "random_step (generic function with 1 method)"
      ]
     },
     "execution_count": 131,
     "metadata": {},
     "output_type": "execute_result"
    }
   ],
   "source": [
    "function random_step(current_vertex, current_orientation, edge_probabilities)\n",
    "    outgoing_edge_likelihoods = edge_probabilities[initial_orientation][current_vertex, :]\n",
    "    chosen_step = StatsBase.sample(outgoing_edge_likelihoods.nzind, StatsBase.weights(outgoing_edge_likelihoods.nzval))\n",
    "    possible_orientations = observation_graph.eprops[LightGraphs.Edge(current_vertex, chosen_step)][:orientations]\n",
    "    possible_orientations = filter(o -> o.source_orientation == current_orientation, possible_orientations)\n",
    "    chosen_orientation = rand(possible_orientations).destination_orientation\n",
    "    chosen_oriented_step = (vertex = chosen_step, orientation = chosen_orientation)\n",
    "    return chosen_oriented_step\n",
    "end"
   ]
  },
  {
   "cell_type": "code",
   "execution_count": 132,
   "id": "35d3daf9-ae70-432f-8617-24543b2c87b2",
   "metadata": {},
   "outputs": [
    {
     "data": {
      "text/plain": [
       "Vector{NamedTuple{(:vertex, :orientation), Tuple{Int64, Bool}}} (alias for Array{NamedTuple{(:vertex, :orientation), Tuple{Int64, Bool}}, 1})"
      ]
     },
     "execution_count": 132,
     "metadata": {},
     "output_type": "execute_result"
    }
   ],
   "source": [
    "typeof([random_step(initial_vertex, initial_orientation, edge_probabilities)])"
   ]
  },
  {
   "cell_type": "code",
   "execution_count": 133,
   "id": "6747a7ea-f95c-4ed9-922e-5b947f99bbff",
   "metadata": {},
   "outputs": [
    {
     "data": {
      "text/plain": [
       "random_walk (generic function with 2 methods)"
      ]
     },
     "execution_count": 133,
     "metadata": {},
     "output_type": "execute_result"
    }
   ],
   "source": [
    "function random_walk(observation_graph, initial_vertex, initial_orientation, edge_probabilities; n_steps=size(edge_probabilities[true], 1))\n",
    "    step_count = 0\n",
    "    outgoing_edge_likelihoods = edge_probabilities[initial_orientation][initial_vertex, :]\n",
    "    walk = Vector{NamedTuple{(:vertex, :orientation), Tuple{Int64, Bool}}}()\n",
    "    done = (step_count > n_steps) || (sum(outgoing_edge_likelihoods) == 0)\n",
    "    current_vertex = initial_vertex\n",
    "    current_orientation = initial_orientation\n",
    "    while !done\n",
    "#         @show \"choosing\"\n",
    "        chosen_step = StatsBase.sample(outgoing_edge_likelihoods.nzind, StatsBase.weights(outgoing_edge_likelihoods.nzval))\n",
    "        chosen_step\n",
    "        possible_orientations = observation_graph.eprops[LightGraphs.Edge(current_vertex, chosen_step)][:orientations]\n",
    "        possible_orientations\n",
    "        current_orientation\n",
    "        possible_orientations = filter(o -> o.source_orientation == current_orientation, possible_orientations)\n",
    "        possible_orientations\n",
    "        chosen_orientation = rand(possible_orientations).destination_orientation\n",
    "        chosen_oriented_step = (vertex = chosen_step, orientation = chosen_orientation)\n",
    "        push!(walk, chosen_oriented_step)\n",
    "        current_vertex = chosen_step\n",
    "        current_orientation = chosen_orientation\n",
    "        outgoing_edge_likelihoods = edge_probabilities[last(walk).orientation][last(walk).vertex, :]\n",
    "        step_count += 1\n",
    "#         @show outgoing_edge_likelihoods\n",
    "        done = (step_count > n_steps) || (sum(outgoing_edge_likelihoods) == 0)\n",
    "    end\n",
    "    return walk\n",
    "end"
   ]
  },
  {
   "cell_type": "code",
   "execution_count": 134,
   "id": "d5a09ded-a1a7-4159-848c-762d70bfd19d",
   "metadata": {},
   "outputs": [],
   "source": [
    "# walk forward until we've taken n steps or we run out of space"
   ]
  },
  {
   "cell_type": "code",
   "execution_count": 135,
   "id": "304b2ce6-458f-41a6-8c2e-83ed1a15c95b",
   "metadata": {},
   "outputs": [
    {
     "data": {
      "text/plain": [
       "23×23 SparseArrays.SparseMatrixCSC{Float64, Int64} with 26 stored entries:\n",
       "⠀⠀⠀⠀⠀⠀⠀⠂⠀⠀⢄⠀\n",
       "⠠⡀⠀⠀⠀⠀⠂⠀⠀⠀⠀⠁\n",
       "⠀⠈⠢⠀⠀⠀⠀⠀⡀⠀⠀⠀\n",
       "⠠⠀⠈⠀⠀⠀⢀⠐⠨⠀⠀⠀\n",
       "⠀⠀⠀⠀⠀⠀⠀⠂⡀⠌⠀⠀\n",
       "⠀⠀⠀⠁⠀⠐⠒⠀⠠⠀⠀⠀"
      ]
     },
     "execution_count": 135,
     "metadata": {},
     "output_type": "execute_result"
    }
   ],
   "source": [
    "edge_probabilities[true]"
   ]
  },
  {
   "cell_type": "code",
   "execution_count": null,
   "id": "eddff399-9d05-465e-90e5-a81743a8f90a",
   "metadata": {},
   "outputs": [],
   "source": []
  },
  {
   "cell_type": "code",
   "execution_count": 136,
   "id": "926c50f9-de6b-46a9-8060-ffd9a7d2fa0b",
   "metadata": {},
   "outputs": [
    {
     "data": {
      "text/plain": [
       "4-element Vector{NamedTuple{(:vertex, :orientation), Tuple{Int64, Bool}}}:\n",
       " (vertex = 22, orientation = 1)\n",
       " (vertex = 13, orientation = 1)\n",
       " (vertex = 18, orientation = 1)\n",
       " (vertex = 15, orientation = 0)"
      ]
     },
     "execution_count": 136,
     "metadata": {},
     "output_type": "execute_result"
    }
   ],
   "source": [
    "forward_walk = random_walk(observation_graph, initial_vertex, initial_orientation, edge_probabilities)"
   ]
  },
  {
   "cell_type": "code",
   "execution_count": 137,
   "id": "36754cd0-1d0f-4f73-8be8-3b4f6578d20c",
   "metadata": {},
   "outputs": [
    {
     "data": {
      "text/plain": [
       "1-element Vector{NamedTuple{(:vertex, :orientation), Tuple{Int64, Bool}}}:\n",
       " (vertex = 9, orientation = 0)"
      ]
     },
     "execution_count": 137,
     "metadata": {},
     "output_type": "execute_result"
    }
   ],
   "source": [
    "reverse_walk = random_walk(observation_graph, initial_vertex, !initial_orientation, edge_probabilities)"
   ]
  },
  {
   "cell_type": "code",
   "execution_count": 138,
   "id": "0fae232e-28df-49c9-93b2-1d231d57612c",
   "metadata": {},
   "outputs": [
    {
     "data": {
      "text/plain": [
       "6-element Vector{NamedTuple{(:vertex, :orientation), Tuple{Int64, Bool}}}:\n",
       " (vertex = 9, orientation = 1)\n",
       " (vertex = 4, orientation = 1)\n",
       " (vertex = 22, orientation = 1)\n",
       " (vertex = 13, orientation = 1)\n",
       " (vertex = 18, orientation = 1)\n",
       " (vertex = 15, orientation = 0)"
      ]
     },
     "execution_count": 138,
     "metadata": {},
     "output_type": "execute_result"
    }
   ],
   "source": [
    "[[(vertex=x.vertex, orientation=!x.orientation) for x in reverse(reverse_walk)]..., [(vertex = initial_vertex, orientation = initial_orientation)]..., forward_walk...]"
   ]
  },
  {
   "cell_type": "code",
   "execution_count": null,
   "id": "39fe2683-5a18-49b1-a29f-6cf0ef402d87",
   "metadata": {},
   "outputs": [],
   "source": [
    "# function re-sample read, anchored on a kmer chosen at random given kmer probability weights"
   ]
  },
  {
   "cell_type": "code",
   "execution_count": null,
   "id": "6c7cc1e4-46a5-4087-8a56-6653f8feb34e",
   "metadata": {},
   "outputs": [],
   "source": [
    "# observation_kmers = collect(sequence_to_canonical_kmers(BioSequences.DNAMer{k}, FASTX.sequence(observation)))"
   ]
  },
  {
   "cell_type": "code",
   "execution_count": null,
   "id": "47351584-06c9-42d6-803b-ac0236695435",
   "metadata": {},
   "outputs": [],
   "source": [
    "# have it work on kmer graph rather than collapsed repeat graph"
   ]
  },
  {
   "cell_type": "code",
   "execution_count": null,
   "id": "8b90214f-182b-4404-b1d9-090f2c42a2e5",
   "metadata": {},
   "outputs": [],
   "source": [
    "# if working with collapsed repeat graph, we will have to start working with intra-node slicing of sequences\n",
    "# because the unambiguous sequences are longer than the remaining length of the read overlapping that sequence"
   ]
  },
  {
   "cell_type": "code",
   "execution_count": null,
   "id": "31f6e307-71cd-4af4-b63c-0d034ab119ca",
   "metadata": {},
   "outputs": [],
   "source": [
    "# make a new graph from the re-sampled reads"
   ]
  },
  {
   "cell_type": "code",
   "execution_count": null,
   "id": "2b4354c8-d03e-49d6-b3ed-7f2375f43602",
   "metadata": {},
   "outputs": [],
   "source": [
    "# compare the new graph to the error-free graph to the error-corrected graph"
   ]
  },
  {
   "cell_type": "code",
   "execution_count": null,
   "id": "cd1fb7d4-b921-427a-ae07-a46ef7712c56",
   "metadata": {},
   "outputs": [],
   "source": []
  }
 ],
 "metadata": {
  "kernelspec": {
   "display_name": "Julia 1.6.1",
   "language": "julia",
   "name": "julia-1.6"
  },
  "language_info": {
   "file_extension": ".jl",
   "mimetype": "application/julia",
   "name": "julia",
   "version": "1.6.1"
  }
 },
 "nbformat": 4,
 "nbformat_minor": 5
}
