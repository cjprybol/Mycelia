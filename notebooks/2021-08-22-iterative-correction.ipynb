{
 "cells": [
  {
   "cell_type": "code",
   "execution_count": 2,
   "id": "6ac73c46-51c9-4fea-845f-fb17ce8d83a2",
   "metadata": {},
   "outputs": [
    {
     "data": {
      "text/plain": [
       "\"/Users/cameronprybol/2021-08-22\""
      ]
     },
     "execution_count": 2,
     "metadata": {},
     "output_type": "execute_result"
    }
   ],
   "source": [
    "DATE = \"2021-08-22\"\n",
    "TASK = \"iterative-correction-via-resampling\"\n",
    "DIR = mkpath(\"$(homedir())/$(DATE)\")"
   ]
  },
  {
   "cell_type": "code",
   "execution_count": 62,
   "id": "38cb383f-3696-4b4b-a732-9a2059e0681a",
   "metadata": {},
   "outputs": [],
   "source": [
    "import Pkg\n",
    "pkgs = [\n",
    "#     \"BioAlignments\",\n",
    "    \"BioSequences\",\n",
    "#     \"Clustering\",\n",
    "#     \"CodecZlib\",\n",
    "#     \"Colors\",\n",
    "#     \"Combinatorics\",\n",
    "#     \"DataFrames\",\n",
    "#     \"DataStructures\",\n",
    "#     \"Dates\",\n",
    "#     \"DelimitedFiles\",\n",
    "#     \"Distances\",\n",
    "#     \"EzXML\",\n",
    "    \"FASTX\",\n",
    "#     \"GFF3\",\n",
    "#     \"HTTP\",\n",
    "#     \"Impute\",\n",
    "#     \"JSON\",\n",
    "    \"LightGraphs\",\n",
    "#     \"Measures\",\n",
    "    \"MetaGraphs\",\n",
    "    \"https://github.com/cjprybol/Mycelia.git\",\n",
    "#     \"NumericIO\",\n",
    "#     \"PlotlyJS\",\n",
    "#     \"Plots\",\n",
    "    \"Primes\",\n",
    "#     \"Printf\",\n",
    "#     \"ProgressMeter\",\n",
    "    \"Random\",\n",
    "#     \"Revise\",\n",
    "#     \"Statistics\",\n",
    "    \"StatsBase\",\n",
    "#     \"StatsPlots\",\n",
    "#     \"StringDistances\",\n",
    "#     \"uCSV\",\n",
    "#     \"XLSX\",\n",
    "]\n",
    "\n",
    "unregistered_packages = filter(pkg -> occursin(r\"(^https|git$)\", pkg), pkgs)\n",
    "registered_packages = setdiff(pkgs, unregistered_packages)\n",
    "\n",
    "for pkg in registered_packages\n",
    "    try\n",
    "        eval(Meta.parse(\"import $(pkg)\"))\n",
    "    catch\n",
    "        Pkg.add(pkg)\n",
    "        Pkg.build(pkg)\n",
    "        eval(Meta.parse(\"import $(pkg)\"))\n",
    "    end\n",
    "end\n",
    "\n",
    "for pkg_url in unregistered_packages\n",
    "    pkg_name = replace(basename(pkg_url), \".git\" => \"\")\n",
    "    try\n",
    "        eval(Meta.parse(\"import $(pkg_name)\"))\n",
    "    catch\n",
    "        Pkg.develop(url=pkg_url)\n",
    "        Pkg.build(pkg_name)\n",
    "        eval(Meta.parse(\"import $(pkg_name)\"))\n",
    "    end\n",
    "end"
   ]
  },
  {
   "cell_type": "code",
   "execution_count": 4,
   "id": "8824e5f4-fcd5-4d3d-b77c-9d1086788677",
   "metadata": {},
   "outputs": [
    {
     "data": {
      "text/plain": [
       "assess_kmer_sparsity_in_reads (generic function with 1 method)"
      ]
     },
     "execution_count": 4,
     "metadata": {},
     "output_type": "execute_result"
    }
   ],
   "source": [
    "function assess_kmer_sparsity_in_reads(k, observations)\n",
    "#     @show k, observations\n",
    "    canonical_kmer_counts = Mycelia.count_canonical_kmers(BioSequences.DNAMer{k}, observations)\n",
    "#     canonical_kmer_counts = Mycelia.count_canonical_kmers(BioSequences.DNAMer{k}, first(observations))\n",
    "# #     @show canonical_kmer_counts\n",
    "#     for i in 2:length(observations)\n",
    "#         canonical_kmer_counts_ = Mycelia.count_canonical_kmers(BioSequences.DNAMer{k}, observations[i])\n",
    "#         canonical_kmer_counts = merge!(+, canonical_kmer_counts, canonical_kmer_counts_)\n",
    "#     end\n",
    "#     canonical_kmer_counts = map(o -> Mycelia.count_canonical_kmers(BioSequences.DNAMer{k}, o), observations)...)\n",
    "    total_observed_canonical_kmers = length(keys(canonical_kmer_counts))\n",
    "    total_possible_canonical_kmers = (4^k)/2\n",
    "    sparsity = round(total_observed_canonical_kmers/total_possible_canonical_kmers*100, digits=5)\n",
    "    @show sparsity\n",
    "    return sparsity\n",
    "end"
   ]
  },
  {
   "cell_type": "code",
   "execution_count": 5,
   "id": "865ef78f-b5bb-4e50-b33a-65a51bc252dd",
   "metadata": {},
   "outputs": [],
   "source": [
    "# generate a genome"
   ]
  },
  {
   "cell_type": "code",
   "execution_count": 6,
   "id": "ec9eb9f9-b76b-41b1-b906-8078ca0e9d04",
   "metadata": {},
   "outputs": [
    {
     "data": {
      "text/plain": [
       "FASTX.FASTA.Record:\n",
       "   identifier: 13030913541223777560\n",
       "  description: <missing>\n",
       "     sequence: CAGCCGACGG"
      ]
     },
     "execution_count": 6,
     "metadata": {},
     "output_type": "execute_result"
    }
   ],
   "source": [
    "sequence_length = 10\n",
    "Random.seed!(sequence_length)\n",
    "sequence = BioSequences.randdnaseq(sequence_length)\n",
    "sequence_id = string(hash(sequence))\n",
    "record = FASTX.FASTA.Record(sequence_id, sequence)"
   ]
  },
  {
   "cell_type": "code",
   "execution_count": 7,
   "id": "ee87740c-7837-44cb-a48d-39274104b4ac",
   "metadata": {},
   "outputs": [],
   "source": [
    "# randomly sample reads with errors from the genome"
   ]
  },
  {
   "cell_type": "code",
   "execution_count": 8,
   "id": "a82ac40f-38b6-450e-b20c-61dc21179fb2",
   "metadata": {},
   "outputs": [
    {
     "data": {
      "text/latex": [
       "\\begin{verbatim}\n",
       "LSHFunction(similarity, args...; kws...)\n",
       "\\end{verbatim}\n",
       "Construct the default \\texttt{LSHFunction} subtype that corresponds to the similarity function \\texttt{similarity}.\n",
       "\n",
       "\\section{Arguments}\n",
       "\\begin{itemize}\n",
       "\\item \\texttt{similarity}: the similarity function you want to use. Can be any of the following:\n",
       "\n",
       "\\begin{itemize}\n",
       "\\item \\texttt{cossim}\n",
       "\n",
       "\n",
       "\\item \\texttt{inner\\_prod}\n",
       "\n",
       "\n",
       "\\item \\texttt{jaccard}\n",
       "\n",
       "\n",
       "\\item \\texttt{ℓ1}\n",
       "\n",
       "\n",
       "\\item \\texttt{ℓ2}\n",
       "\n",
       "\\end{itemize}\n",
       "\n",
       "\\item \\texttt{args...}: arguments to pass on to the default \\texttt{LSHFunction} constructor corresponding to \\texttt{similarity}.\n",
       "\n",
       "\n",
       "\\item \\texttt{kws...}: keyword parameters to pass on to the default \\texttt{LSHFunction} constructor corresponding to \\texttt{similarity}.\n",
       "\n",
       "\\end{itemize}\n",
       "\\section{Returns}\n",
       "Returns a subtype of \\texttt{LSH.LSHFunction} that hashes the similarity function \\texttt{similarity}.\n",
       "\n",
       "\\section{Examples}\n",
       "In the snippet below, we construct \\texttt{LSHFunctions.SimHash} (the default hash function corresponding to cosine similarity) using \\texttt{LSHFunction()}:\n",
       "\n",
       "\\begin{verbatim}\n",
       "julia> hashfn = LSHFunction(cossim);\n",
       "\n",
       "julia> typeof(hashfn) <: LSHFunctions.SimHash <: LSHFunction\n",
       "true\n",
       "\\end{verbatim}\n",
       "We can provide arguments and keyword parameters corresponding to the hash function that we construct:\n",
       "\n",
       "\\begin{verbatim}\n",
       "julia> hashfn = LSHFunction(inner_prod, 100; dtype=Float64, maxnorm=10);\n",
       "\n",
       "julia> n_hashes(hashfn) == 100 &&\n",
       "       typeof(hashfn) <: SignALSH{Float64} &&\n",
       "       hashfn.maxnorm == 10\n",
       "true\n",
       "\\end{verbatim}\n",
       "See also: \\href{@ref}{\\texttt{lsh\\_family}}\n",
       "\n"
      ],
      "text/markdown": [
       "```\n",
       "LSHFunction(similarity, args...; kws...)\n",
       "```\n",
       "\n",
       "Construct the default `LSHFunction` subtype that corresponds to the similarity function `similarity`.\n",
       "\n",
       "# Arguments\n",
       "\n",
       "  * `similarity`: the similarity function you want to use. Can be any of the following:\n",
       "\n",
       "      * `cossim`\n",
       "      * `inner_prod`\n",
       "      * `jaccard`\n",
       "      * `ℓ1`\n",
       "      * `ℓ2`\n",
       "  * `args...`: arguments to pass on to the default `LSHFunction` constructor corresponding to `similarity`.\n",
       "  * `kws...`: keyword parameters to pass on to the default `LSHFunction` constructor corresponding to `similarity`.\n",
       "\n",
       "# Returns\n",
       "\n",
       "Returns a subtype of `LSH.LSHFunction` that hashes the similarity function `similarity`.\n",
       "\n",
       "# Examples\n",
       "\n",
       "In the snippet below, we construct `LSHFunctions.SimHash` (the default hash function corresponding to cosine similarity) using `LSHFunction()`:\n",
       "\n",
       "```jldoctest; setup = :(using LSHFunctions)\n",
       "julia> hashfn = LSHFunction(cossim);\n",
       "\n",
       "julia> typeof(hashfn) <: LSHFunctions.SimHash <: LSHFunction\n",
       "true\n",
       "```\n",
       "\n",
       "We can provide arguments and keyword parameters corresponding to the hash function that we construct:\n",
       "\n",
       "```jldoctest; setup = :(using LSHFunctions)\n",
       "julia> hashfn = LSHFunction(inner_prod, 100; dtype=Float64, maxnorm=10);\n",
       "\n",
       "julia> n_hashes(hashfn) == 100 &&\n",
       "       typeof(hashfn) <: SignALSH{Float64} &&\n",
       "       hashfn.maxnorm == 10\n",
       "true\n",
       "```\n",
       "\n",
       "See also: [`lsh_family`](@ref)\n"
      ],
      "text/plain": [
       "\u001b[36m  LSHFunction(similarity, args...; kws...)\u001b[39m\n",
       "\n",
       "  Construct the default \u001b[36mLSHFunction\u001b[39m subtype that corresponds to the similarity\n",
       "  function \u001b[36msimilarity\u001b[39m.\n",
       "\n",
       "\u001b[1m  Arguments\u001b[22m\n",
       "\u001b[1m  ≡≡≡≡≡≡≡≡≡≡≡\u001b[22m\n",
       "\n",
       "    •  \u001b[36msimilarity\u001b[39m: the similarity function you want to use. Can be any of\n",
       "       the following:\n",
       "       • \u001b[36mcossim\u001b[39m\n",
       "       • \u001b[36minner_prod\u001b[39m\n",
       "       • \u001b[36mjaccard\u001b[39m\n",
       "       • \u001b[36mℓ1\u001b[39m\n",
       "       • \u001b[36mℓ2\u001b[39m\n",
       "\n",
       "    •  \u001b[36margs...\u001b[39m: arguments to pass on to the default \u001b[36mLSHFunction\u001b[39m\n",
       "       constructor corresponding to \u001b[36msimilarity\u001b[39m.\n",
       "\n",
       "    •  \u001b[36mkws...\u001b[39m: keyword parameters to pass on to the default \u001b[36mLSHFunction\u001b[39m\n",
       "       constructor corresponding to \u001b[36msimilarity\u001b[39m.\n",
       "\n",
       "\u001b[1m  Returns\u001b[22m\n",
       "\u001b[1m  ≡≡≡≡≡≡≡≡≡\u001b[22m\n",
       "\n",
       "  Returns a subtype of \u001b[36mLSH.LSHFunction\u001b[39m that hashes the similarity function\n",
       "  \u001b[36msimilarity\u001b[39m.\n",
       "\n",
       "\u001b[1m  Examples\u001b[22m\n",
       "\u001b[1m  ≡≡≡≡≡≡≡≡≡≡\u001b[22m\n",
       "\n",
       "  In the snippet below, we construct \u001b[36mLSHFunctions.SimHash\u001b[39m (the default hash\n",
       "  function corresponding to cosine similarity) using \u001b[36mLSHFunction()\u001b[39m:\n",
       "\n",
       "\u001b[36m  julia> hashfn = LSHFunction(cossim);\u001b[39m\n",
       "\u001b[36m  \u001b[39m\n",
       "\u001b[36m  julia> typeof(hashfn) <: LSHFunctions.SimHash <: LSHFunction\u001b[39m\n",
       "\u001b[36m  true\u001b[39m\n",
       "\n",
       "  We can provide arguments and keyword parameters corresponding to the hash\n",
       "  function that we construct:\n",
       "\n",
       "\u001b[36m  julia> hashfn = LSHFunction(inner_prod, 100; dtype=Float64, maxnorm=10);\u001b[39m\n",
       "\u001b[36m  \u001b[39m\n",
       "\u001b[36m  julia> n_hashes(hashfn) == 100 &&\u001b[39m\n",
       "\u001b[36m         typeof(hashfn) <: SignALSH{Float64} &&\u001b[39m\n",
       "\u001b[36m         hashfn.maxnorm == 10\u001b[39m\n",
       "\u001b[36m  true\u001b[39m\n",
       "\n",
       "  See also: \u001b[36mlsh_family\u001b[39m"
      ]
     },
     "execution_count": 8,
     "metadata": {},
     "output_type": "execute_result"
    }
   ],
   "source": [
    "?FASTX.FASTQ.Record"
   ]
  },
  {
   "cell_type": "code",
   "execution_count": 11,
   "id": "ac6bebc2-1374-4048-a9af-772f596f5119",
   "metadata": {},
   "outputs": [
    {
     "data": {
      "text/plain": [
       "100-element Vector{FASTX.FASTQ.Record}:\n",
       " FASTX.FASTQ.Record:\n",
       "   identifier: 14129865098702156069\n",
       "  description: 13030913541223777560\n",
       "     sequence: CCGTCGGCTG\n",
       "      quality: UInt8[0x3c, 0x3c, 0x3c, 0x3c, 0x3c, 0x3c, 0x3c, 0x3c, 0x3c, 0x3c]\n",
       " FASTX.FASTQ.Record:\n",
       "   identifier: 13030913541223777560\n",
       "  description: 13030913541223777560\n",
       "     sequence: CAGCCGACGG\n",
       "      quality: UInt8[0x3c, 0x3c, 0x3c, 0x3c, 0x3c, 0x3c, 0x3c, 0x3c, 0x3c, 0x3c]\n",
       " FASTX.FASTQ.Record:\n",
       "   identifier: 13030913541223777560\n",
       "  description: 13030913541223777560\n",
       "     sequence: CAGCCGACGG\n",
       "      quality: UInt8[0x3c, 0x3c, 0x3c, 0x3c, 0x3c, 0x3c, 0x3c, 0x3c, 0x3c, 0x3c]\n",
       " FASTX.FASTQ.Record:\n",
       "   identifier: 367592803644673128\n",
       "  description: 13030913541223777560\n",
       "     sequence: CAGCCGATCGG\n",
       "      quality: UInt8[0x3c, 0x3c, 0x3c, 0x3c, 0x3c, 0x3c, 0x3c, 0x3c, 0x3c, 0x3c, 0x3c]\n",
       " FASTX.FASTQ.Record:\n",
       "   identifier: 13030913541223777560\n",
       "  description: 13030913541223777560\n",
       "     sequence: CAGCCGACGG\n",
       "      quality: UInt8[0x3c, 0x3c, 0x3c, 0x3c, 0x3c, 0x3c, 0x3c, 0x3c, 0x3c, 0x3c]\n",
       " FASTX.FASTQ.Record:\n",
       "   identifier: 14129865098702156069\n",
       "  description: 13030913541223777560\n",
       "     sequence: CCGTCGGCTG\n",
       "      quality: UInt8[0x3c, 0x3c, 0x3c, 0x3c, 0x3c, 0x3c, 0x3c, 0x3c, 0x3c, 0x3c]\n",
       " FASTX.FASTQ.Record:\n",
       "   identifier: 13030913541223777560\n",
       "  description: 13030913541223777560\n",
       "     sequence: CAGCCGACGG\n",
       "      quality: UInt8[0x3c, 0x3c, 0x3c, 0x3c, 0x3c, 0x3c, 0x3c, 0x3c, 0x3c, 0x3c]\n",
       " FASTX.FASTQ.Record:\n",
       "   identifier: 13030913541223777560\n",
       "  description: 13030913541223777560\n",
       "     sequence: CAGCCGACGG\n",
       "      quality: UInt8[0x3c, 0x3c, 0x3c, 0x3c, 0x3c, 0x3c, 0x3c, 0x3c, 0x3c, 0x3c]\n",
       " FASTX.FASTQ.Record:\n",
       "   identifier: 14129865098702156069\n",
       "  description: 13030913541223777560\n",
       "     sequence: CCGTCGGCTG\n",
       "      quality: UInt8[0x3c, 0x3c, 0x3c, 0x3c, 0x3c, 0x3c, 0x3c, 0x3c, 0x3c, 0x3c]\n",
       " FASTX.FASTQ.Record:\n",
       "   identifier: 13030913541223777560\n",
       "  description: 13030913541223777560\n",
       "     sequence: CAGCCGACGG\n",
       "      quality: UInt8[0x3c, 0x3c, 0x3c, 0x3c, 0x3c, 0x3c, 0x3c, 0x3c, 0x3c, 0x3c]\n",
       " FASTX.FASTQ.Record:\n",
       "   identifier: 13030913541223777560\n",
       "  description: 13030913541223777560\n",
       "     sequence: CAGCCGACGG\n",
       "      quality: UInt8[0x3c, 0x3c, 0x3c, 0x3c, 0x3c, 0x3c, 0x3c, 0x3c, 0x3c, 0x3c]\n",
       " FASTX.FASTQ.Record:\n",
       "   identifier: 13030913541223777560\n",
       "  description: 13030913541223777560\n",
       "     sequence: CAGCCGACGG\n",
       "      quality: UInt8[0x3c, 0x3c, 0x3c, 0x3c, 0x3c, 0x3c, 0x3c, 0x3c, 0x3c, 0x3c]\n",
       " FASTX.FASTQ.Record:\n",
       "   identifier: 14129865098702156069\n",
       "  description: 13030913541223777560\n",
       "     sequence: CCGTCGGCTG\n",
       "      quality: UInt8[0x3c, 0x3c, 0x3c, 0x3c, 0x3c, 0x3c, 0x3c, 0x3c, 0x3c, 0x3c]\n",
       " ⋮\n",
       " FASTX.FASTQ.Record:\n",
       "   identifier: 13030913541223777560\n",
       "  description: 13030913541223777560\n",
       "     sequence: CAGCCGACGG\n",
       "      quality: UInt8[0x3c, 0x3c, 0x3c, 0x3c, 0x3c, 0x3c, 0x3c, 0x3c, 0x3c, 0x3c]\n",
       " FASTX.FASTQ.Record:\n",
       "   identifier: 14129865098702156069\n",
       "  description: 13030913541223777560\n",
       "     sequence: CCGTCGGCTG\n",
       "      quality: UInt8[0x3c, 0x3c, 0x3c, 0x3c, 0x3c, 0x3c, 0x3c, 0x3c, 0x3c, 0x3c]\n",
       " FASTX.FASTQ.Record:\n",
       "   identifier: 14129865098702156069\n",
       "  description: 13030913541223777560\n",
       "     sequence: CCGTCGGCTG\n",
       "      quality: UInt8[0x3c, 0x3c, 0x3c, 0x3c, 0x3c, 0x3c, 0x3c, 0x3c, 0x3c, 0x3c]\n",
       " FASTX.FASTQ.Record:\n",
       "   identifier: 14129865098702156069\n",
       "  description: 13030913541223777560\n",
       "     sequence: CCGTCGGCTG\n",
       "      quality: UInt8[0x3c, 0x3c, 0x3c, 0x3c, 0x3c, 0x3c, 0x3c, 0x3c, 0x3c, 0x3c]\n",
       " FASTX.FASTQ.Record:\n",
       "   identifier: 14129865098702156069\n",
       "  description: 13030913541223777560\n",
       "     sequence: CCGTCGGCTG\n",
       "      quality: UInt8[0x3c, 0x3c, 0x3c, 0x3c, 0x3c, 0x3c, 0x3c, 0x3c, 0x3c, 0x3c]\n",
       " FASTX.FASTQ.Record:\n",
       "   identifier: 13030913541223777560\n",
       "  description: 13030913541223777560\n",
       "     sequence: CAGCCGACGG\n",
       "      quality: UInt8[0x3c, 0x3c, 0x3c, 0x3c, 0x3c, 0x3c, 0x3c, 0x3c, 0x3c, 0x3c]\n",
       " FASTX.FASTQ.Record:\n",
       "   identifier: 14129865098702156069\n",
       "  description: 13030913541223777560\n",
       "     sequence: CCGTCGGCTG\n",
       "      quality: UInt8[0x3c, 0x3c, 0x3c, 0x3c, 0x3c, 0x3c, 0x3c, 0x3c, 0x3c, 0x3c]\n",
       " FASTX.FASTQ.Record:\n",
       "   identifier: 14129865098702156069\n",
       "  description: 13030913541223777560\n",
       "     sequence: CCGTCGGCTG\n",
       "      quality: UInt8[0x3c, 0x3c, 0x3c, 0x3c, 0x3c, 0x3c, 0x3c, 0x3c, 0x3c, 0x3c]\n",
       " FASTX.FASTQ.Record:\n",
       "   identifier: 13030913541223777560\n",
       "  description: 13030913541223777560\n",
       "     sequence: CAGCCGACGG\n",
       "      quality: UInt8[0x3c, 0x3c, 0x3c, 0x3c, 0x3c, 0x3c, 0x3c, 0x3c, 0x3c, 0x3c]\n",
       " FASTX.FASTQ.Record:\n",
       "   identifier: 14129865098702156069\n",
       "  description: 13030913541223777560\n",
       "     sequence: CCGTCGGCTG\n",
       "      quality: UInt8[0x3c, 0x3c, 0x3c, 0x3c, 0x3c, 0x3c, 0x3c, 0x3c, 0x3c, 0x3c]\n",
       " FASTX.FASTQ.Record:\n",
       "   identifier: 13030913541223777560\n",
       "  description: 13030913541223777560\n",
       "     sequence: CAGCCGACGG\n",
       "      quality: UInt8[0x3c, 0x3c, 0x3c, 0x3c, 0x3c, 0x3c, 0x3c, 0x3c, 0x3c, 0x3c]\n",
       " FASTX.FASTQ.Record:\n",
       "   identifier: 14129865098702156069\n",
       "  description: 13030913541223777560\n",
       "     sequence: CCGTCGGCTG\n",
       "      quality: UInt8[0x3c, 0x3c, 0x3c, 0x3c, 0x3c, 0x3c, 0x3c, 0x3c, 0x3c, 0x3c]"
      ]
     },
     "execution_count": 11,
     "metadata": {},
     "output_type": "execute_result"
    }
   ],
   "source": [
    "# 1%\n",
    "error_rate = 0.01\n",
    "n_reads = 100\n",
    "\n",
    "# observations = [Mycelia.observe(FASTX.sequence(record), error_rate = error_rate) for i in 1:n_reads]\n",
    "observations = [Mycelia.observe(record, error_rate = error_rate) for i in 1:n_reads]"
   ]
  },
  {
   "cell_type": "code",
   "execution_count": 12,
   "id": "74e669aa-3a82-4220-9a04-e82bb7b1bc6a",
   "metadata": {},
   "outputs": [],
   "source": [
    "# build assembly graph"
   ]
  },
  {
   "cell_type": "code",
   "execution_count": 13,
   "id": "a224ef4d-6bc9-4ea8-9298-2c7f6d86a1b8",
   "metadata": {},
   "outputs": [
    {
     "name": "stdout",
     "output_type": "stream",
     "text": [
      "sparsity = 53.125\n"
     ]
    },
    {
     "data": {
      "text/plain": [
       "3"
      ]
     },
     "execution_count": 13,
     "metadata": {},
     "output_type": "execute_result"
    }
   ],
   "source": [
    "k_options = Primes.primes(3, 31)\n",
    "k_index = findfirst(k -> assess_kmer_sparsity_in_reads(k, observations) < 100, k_options)\n",
    "k = k_options[k_index]"
   ]
  },
  {
   "cell_type": "code",
   "execution_count": 14,
   "id": "e258525a-187c-44f5-8cd1-af82ca3da16a",
   "metadata": {},
   "outputs": [],
   "source": [
    "observations_file = \"$(DIR)/LENGTH-$(sequence_length)-DEPTH-$(n_reads).fastq\"\n",
    "open(observations_file, \"w\") do io\n",
    "    fastq_io = FASTX.FASTQ.Writer(io)\n",
    "    for record in observations\n",
    "        write(fastq_io, record)\n",
    "    end\n",
    "    close(fastq_io)\n",
    "end"
   ]
  },
  {
   "cell_type": "code",
   "execution_count": 15,
   "id": "9a50e1f3-9c63-4a60-b0fa-e98d17d938a1",
   "metadata": {},
   "outputs": [
    {
     "name": "stderr",
     "output_type": "stream",
     "text": [
      "┌ Info: creating graph\n",
      "└ @ Mycelia /Users/cameronprybol/.julia/dev/Mycelia/src/Mycelia.jl:3001\n"
     ]
    },
    {
     "data": {
      "text/plain": [
       "{17, 48} directed Int64 metagraph with Float64 weights defined by :weight (default weight 1.0)"
      ]
     },
     "execution_count": 15,
     "metadata": {},
     "output_type": "execute_result"
    }
   ],
   "source": [
    "observation_graph = Mycelia.fastx_to_simple_kmer_graph(BioSequences.DNAMer{k}, observations_file)"
   ]
  },
  {
   "cell_type": "code",
   "execution_count": 25,
   "id": "886eef7b-62fd-45af-8644-3b6c5647c470",
   "metadata": {},
   "outputs": [],
   "source": [
    "# visualize\n",
    "gfa_file = observations_file * \".k-$k.gfa\"\n",
    "Mycelia.graph_to_gfa(observation_graph, gfa_file)\n",
    "\n",
    "run(`/Applications/Bandage.app/Contents/MacOS/Bandage image $(gfa_file) $(gfa_file).svg --depwidth .9 --deppower .9`)\n",
    "# --nodewidth <float> Average node width (0.5 to 1000, default: 5)\n",
    "# --depwidth <float>  Depth effect on width (0 to 1, default: 0.5)\n",
    "# --deppower <float>  Power of depth effect on width (0 to 1, default: 0.5)\n",
    "\n",
    "html_path_to_svg = \"./\" * repeat(\"../\", length(split(pwd(), '/')) - 3)\n",
    "html_path_to_svg *= replace(\"$(gfa_file).svg\", \"$(homedir())/\" => \"\")\n",
    "\n",
    "x = \"<img src=$(html_path_to_svg)>\"\n",
    "display(\"text/html\", x)\n",
    "# display(\"image/svg+xml\", read(\"$(gfa_file).svg\", String))"
   ]
  },
  {
   "cell_type": "code",
   "execution_count": null,
   "id": "47860b0e-720d-471c-ae2b-030cbf0584be",
   "metadata": {},
   "outputs": [],
   "source": [
    "# for each read"
   ]
  },
  {
   "cell_type": "code",
   "execution_count": 27,
   "id": "6d0ea3ce-08e4-4be9-ab25-7dd62484b05d",
   "metadata": {},
   "outputs": [
    {
     "data": {
      "text/plain": [
       "FASTX.FASTQ.Record:\n",
       "   identifier: 14129865098702156069\n",
       "  description: 13030913541223777560\n",
       "     sequence: CCGTCGGCTG\n",
       "      quality: UInt8[0x3c, 0x3c, 0x3c, 0x3c, 0x3c, 0x3c, 0x3c, 0x3c, 0x3c, 0x3c]"
      ]
     },
     "execution_count": 27,
     "metadata": {},
     "output_type": "execute_result"
    }
   ],
   "source": [
    "observation = first(observations)"
   ]
  },
  {
   "cell_type": "code",
   "execution_count": 45,
   "id": "97d174dd-6ad6-418c-9d36-5e5d2d8b4ae3",
   "metadata": {},
   "outputs": [],
   "source": [
    "kmer_weights = Dict(observation_graph.vprops[v][:kmer] => observation_graph.vprops[v][:weight] for v in LightGraphs.vertices(observation_graph))\n",
    "\n",
    "total_observed_kmers = sum(values(kmer_weights))\n",
    "\n",
    "kmer_probabilities = Dict(k => v/total_observed_kmers for (k,v) in kmer_weights)"
   ]
  },
  {
   "cell_type": "code",
   "execution_count": null,
   "id": "e130f0fb-45f2-4f65-bc32-4db60eed2985",
   "metadata": {},
   "outputs": [],
   "source": [
    "# function re-sample read, unanchored"
   ]
  },
  {
   "cell_type": "code",
   "execution_count": 46,
   "id": "a6fed035-5a90-469d-9253-92282d79c8ff",
   "metadata": {},
   "outputs": [
    {
     "data": {
      "text/plain": [
       "10"
      ]
     },
     "execution_count": 46,
     "metadata": {},
     "output_type": "execute_result"
    }
   ],
   "source": [
    "read_length = length(FASTX.sequence(observation))"
   ]
  },
  {
   "cell_type": "code",
   "execution_count": 59,
   "id": "24a7a908-0729-4b76-8feb-b71b8219587d",
   "metadata": {},
   "outputs": [
    {
     "data": {
      "text/plain": [
       "sequence_to_canonical_kmers (generic function with 1 method)"
      ]
     },
     "execution_count": 59,
     "metadata": {},
     "output_type": "execute_result"
    }
   ],
   "source": [
    "function sequence_to_canonical_kmers(kmer_type, sequence)\n",
    "    return (BioSequences.canonical(kmer.fw) for kmer in BioSequences.each(kmer_type, sequence))\n",
    "end"
   ]
  },
  {
   "cell_type": "code",
   "execution_count": 61,
   "id": "0a78c9a1-6e89-4c15-99a7-71d4770724df",
   "metadata": {},
   "outputs": [
    {
     "data": {
      "text/plain": [
       "8-element Vector{BioSequences.Mer{BioSequences.DNAAlphabet{2}, 3}}:\n",
       " CCG\n",
       " ACG\n",
       " GAC\n",
       " CGA\n",
       " CCG\n",
       " GCC\n",
       " AGC\n",
       " CAG"
      ]
     },
     "execution_count": 61,
     "metadata": {},
     "output_type": "execute_result"
    }
   ],
   "source": [
    "observation_kmers = collect(sequence_to_canonical_kmers(BioSequences.DNAMer{k}, FASTX.sequence(observation)))"
   ]
  },
  {
   "cell_type": "code",
   "execution_count": 67,
   "id": "73ed81df-f83f-4b6b-abe4-45a4e91a851c",
   "metadata": {},
   "outputs": [],
   "source": [
    "kmers = [observation_graph.vprops[v][:kmer] for v in LightGraphs.vertices(observation_graph)]\n",
    "weights = [observation_graph.vprops[v][:weight] for v in LightGraphs.vertices(observation_graph)]"
   ]
  },
  {
   "cell_type": "code",
   "execution_count": 72,
   "id": "5f8794d2-e124-4b9f-8b86-6aaad2ddc79f",
   "metadata": {},
   "outputs": [
    {
     "data": {
      "text/plain": [
       "true"
      ]
     },
     "execution_count": 72,
     "metadata": {},
     "output_type": "execute_result"
    }
   ],
   "source": [
    "kmer = StatsBase.sample(kmers, StatsBase.weights(weights))\n",
    "initial_orientation = true"
   ]
  },
  {
   "cell_type": "code",
   "execution_count": null,
   "id": "36754cd0-1d0f-4f73-8be8-3b4f6578d20c",
   "metadata": {},
   "outputs": [],
   "source": [
    "# walk forward until we've taken n steps or we run out of space\n",
    "\n",
    "# determine remaining steps\n",
    "\n",
    "# walk backward until we've taken n steps or we run out of space"
   ]
  },
  {
   "cell_type": "code",
   "execution_count": null,
   "id": "39fe2683-5a18-49b1-a29f-6cf0ef402d87",
   "metadata": {},
   "outputs": [],
   "source": [
    "# function re-sample read, anchored on a kmer chosen at random given kmer probability weights"
   ]
  },
  {
   "cell_type": "code",
   "execution_count": null,
   "id": "47351584-06c9-42d6-803b-ac0236695435",
   "metadata": {},
   "outputs": [],
   "source": [
    "# have it work on kmer graph rather than collapsed repeat graph"
   ]
  },
  {
   "cell_type": "code",
   "execution_count": null,
   "id": "8b90214f-182b-4404-b1d9-090f2c42a2e5",
   "metadata": {},
   "outputs": [],
   "source": [
    "# if working with collapsed repeat graph, we will have to start working with intra-node slicing of sequences\n",
    "# because the unambiguous sequences are longer than the remaining length of the read overlapping that sequence"
   ]
  },
  {
   "cell_type": "code",
   "execution_count": null,
   "id": "31f6e307-71cd-4af4-b63c-0d034ab119ca",
   "metadata": {},
   "outputs": [],
   "source": [
    "# make a new graph from the re-sampled reads"
   ]
  },
  {
   "cell_type": "code",
   "execution_count": null,
   "id": "2b4354c8-d03e-49d6-b3ed-7f2375f43602",
   "metadata": {},
   "outputs": [],
   "source": [
    "# compare the new graph to the error-free graph to the error-corrected graph"
   ]
  },
  {
   "cell_type": "code",
   "execution_count": null,
   "id": "cd1fb7d4-b921-427a-ae07-a46ef7712c56",
   "metadata": {},
   "outputs": [],
   "source": []
  }
 ],
 "metadata": {
  "kernelspec": {
   "display_name": "Julia 1.6.1",
   "language": "julia",
   "name": "julia-1.6"
  },
  "language_info": {
   "file_extension": ".jl",
   "mimetype": "application/julia",
   "name": "julia",
   "version": "1.6.1"
  }
 },
 "nbformat": 4,
 "nbformat_minor": 5
}
