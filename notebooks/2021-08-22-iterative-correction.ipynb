{
 "cells": [
  {
   "cell_type": "code",
   "execution_count": 1,
   "id": "6ac73c46-51c9-4fea-845f-fb17ce8d83a2",
   "metadata": {},
   "outputs": [
    {
     "data": {
      "text/plain": [
       "\"/home/jovyan/2021-08-22\""
      ]
     },
     "execution_count": 1,
     "metadata": {},
     "output_type": "execute_result"
    }
   ],
   "source": [
    "DATE = \"2021-08-22\"\n",
    "TASK = \"iterative-correction-via-resampling\"\n",
    "DIR = mkpath(\"$(homedir())/$(DATE)\")"
   ]
  },
  {
   "cell_type": "code",
   "execution_count": 2,
   "id": "38cb383f-3696-4b4b-a732-9a2059e0681a",
   "metadata": {},
   "outputs": [],
   "source": [
    "import Pkg\n",
    "pkgs = [\n",
    "#     \"BioAlignments\",\n",
    "    \"BioSequences\",\n",
    "#     \"Clustering\",\n",
    "#     \"CodecZlib\",\n",
    "#     \"Colors\",\n",
    "#     \"Combinatorics\",\n",
    "#     \"DataFrames\",\n",
    "#     \"DataStructures\",\n",
    "    \"Dates\",\n",
    "#     \"DelimitedFiles\",\n",
    "#     \"Distances\",\n",
    "#     \"EzXML\",\n",
    "    \"FASTX\",\n",
    "#     \"GFF3\",\n",
    "#     \"HTTP\",\n",
    "#     \"Impute\",\n",
    "#     \"JSON\",\n",
    "    \"LightGraphs\",\n",
    "    \"LSHFunctions\",\n",
    "#     \"Measures\",\n",
    "    \"MetaGraphs\",\n",
    "    \"https://github.com/cjprybol/Mycelia.git\",\n",
    "#     \"NumericIO\",\n",
    "#     \"PlotlyJS\",\n",
    "#     \"Plots\",\n",
    "    \"Primes\",\n",
    "#     \"Printf\",\n",
    "#     \"ProgressMeter\",\n",
    "    \"Random\",\n",
    "    \"Revise\",\n",
    "    \"SparseArrays\",\n",
    "#     \"Statistics\",\n",
    "    \"StatsBase\",\n",
    "#     \"StatsPlots\",\n",
    "#     \"StringDistances\",\n",
    "#     \"uCSV\",\n",
    "#     \"XLSX\",\n",
    "]\n",
    "\n",
    "unregistered_packages = filter(pkg -> occursin(r\"(^https|git$)\", pkg), pkgs)\n",
    "registered_packages = setdiff(pkgs, unregistered_packages)\n",
    "\n",
    "for pkg in registered_packages\n",
    "    try\n",
    "        eval(Meta.parse(\"import $(pkg)\"))\n",
    "    catch\n",
    "        Pkg.add(pkg)\n",
    "        Pkg.build(pkg)\n",
    "        eval(Meta.parse(\"import $(pkg)\"))\n",
    "    end\n",
    "end\n",
    "\n",
    "for pkg_url in unregistered_packages\n",
    "    pkg_name = replace(basename(pkg_url), \".git\" => \"\")\n",
    "    try\n",
    "        eval(Meta.parse(\"import $(pkg_name)\"))\n",
    "    catch\n",
    "        Pkg.develop(url=pkg_url)\n",
    "        Pkg.build(pkg_name)\n",
    "        eval(Meta.parse(\"import $(pkg_name)\"))\n",
    "    end\n",
    "end"
   ]
  },
  {
   "cell_type": "code",
   "execution_count": 16,
   "id": "9f9307c7-1b35-4283-b1cb-adc87dc05f20",
   "metadata": {},
   "outputs": [
    {
     "data": {
      "text/plain": [
       "\"Bandage\""
      ]
     },
     "execution_count": 16,
     "metadata": {},
     "output_type": "execute_result"
    }
   ],
   "source": [
    "if Sys.isapple()\n",
    "    BANDAGE = \"/Applications/Bandage.app/Contents/MacOS/Bandage\"\n",
    "else\n",
    "    BANDAGE = \"Bandage\"\n",
    "end"
   ]
  },
  {
   "cell_type": "code",
   "execution_count": 3,
   "id": "8824e5f4-fcd5-4d3d-b77c-9d1086788677",
   "metadata": {},
   "outputs": [
    {
     "data": {
      "text/plain": [
       "assess_kmer_sparsity_in_reads (generic function with 1 method)"
      ]
     },
     "execution_count": 3,
     "metadata": {},
     "output_type": "execute_result"
    }
   ],
   "source": [
    "function assess_kmer_sparsity_in_reads(k, observations)\n",
    "#     @show k, observations\n",
    "    canonical_kmer_counts = Mycelia.count_canonical_kmers(BioSequences.DNAMer{k}, observations)\n",
    "#     canonical_kmer_counts = Mycelia.count_canonical_kmers(BioSequences.DNAMer{k}, first(observations))\n",
    "# #     @show canonical_kmer_counts\n",
    "#     for i in 2:length(observations)\n",
    "#         canonical_kmer_counts_ = Mycelia.count_canonical_kmers(BioSequences.DNAMer{k}, observations[i])\n",
    "#         canonical_kmer_counts = merge!(+, canonical_kmer_counts, canonical_kmer_counts_)\n",
    "#     end\n",
    "#     canonical_kmer_counts = map(o -> Mycelia.count_canonical_kmers(BioSequences.DNAMer{k}, o), observations)...)\n",
    "    total_observed_canonical_kmers = length(keys(canonical_kmer_counts))\n",
    "    total_possible_canonical_kmers = (4^k)/2\n",
    "    sparsity = round(total_observed_canonical_kmers/total_possible_canonical_kmers*100, digits=2)\n",
    "    @show sparsity\n",
    "    return sparsity\n",
    "end"
   ]
  },
  {
   "cell_type": "code",
   "execution_count": 4,
   "id": "148b6939-0508-487c-91d1-94da6aa1409e",
   "metadata": {},
   "outputs": [
    {
     "data": {
      "text/plain": [
       "sequence_to_canonical_kmers (generic function with 1 method)"
      ]
     },
     "execution_count": 4,
     "metadata": {},
     "output_type": "execute_result"
    }
   ],
   "source": [
    "function sequence_to_canonical_kmers(kmer_type, sequence)\n",
    "    return (BioSequences.canonical(kmer.fw) for kmer in BioSequences.each(kmer_type, sequence))\n",
    "end"
   ]
  },
  {
   "cell_type": "code",
   "execution_count": 5,
   "id": "02e895c2-a0a6-40c6-841c-ebbf274c0a47",
   "metadata": {},
   "outputs": [
    {
     "data": {
      "text/plain": [
       "determine_edge_weights (generic function with 1 method)"
      ]
     },
     "execution_count": 5,
     "metadata": {},
     "output_type": "execute_result"
    }
   ],
   "source": [
    "function determine_edge_weights(graph)\n",
    "    outgoing_edge_probabilities = determine_edge_weights(graph, true)\n",
    "    incoming_edge_probabilities = determine_edge_weights(graph, false)\n",
    "    return Dict(true => outgoing_edge_probabilities, false => incoming_edge_probabilities)\n",
    "end"
   ]
  },
  {
   "cell_type": "code",
   "execution_count": 40,
   "id": "6212dc49-005c-40f9-8922-b80b3971c004",
   "metadata": {},
   "outputs": [
    {
     "data": {
      "text/plain": [
       "determine_edge_weights (generic function with 2 methods)"
      ]
     },
     "execution_count": 40,
     "metadata": {},
     "output_type": "execute_result"
    }
   ],
   "source": [
    "function determine_edge_weights(graph, strand)\n",
    "    kmers = [graph.vprops[v][:kmer] for v in LightGraphs.vertices(graph)]\n",
    "    outgoing_edge_weights = SparseArrays.spzeros(length(kmers), length(kmers))\n",
    "    \n",
    "    for (kmer_index, kmer) in enumerate(kmers)\n",
    "        if !strand\n",
    "            kmer = BioSequences.reverse_complement(kmer)\n",
    "        end\n",
    "        \n",
    "        downstream_neighbors = []\n",
    "        downstream_neighbor_weights = []\n",
    "        for neighbor in BioSequences.neighbors(kmer)\n",
    "            canonical_neighbor = BioSequences.canonical(neighbor)\n",
    "            neighbor_orientation = neighbor == canonical_neighbor\n",
    "            \n",
    "            neighbor_index_range = searchsorted(kmers, canonical_neighbor)\n",
    "            if !isempty(neighbor_index_range)\n",
    "                @assert length(neighbor_index_range) == 1\n",
    "                neighbor_index = first(neighbor_index_range)\n",
    "                if LightGraphs.has_edge(graph, LightGraphs.Edge(kmer_index, neighbor_index))\n",
    "                    edge_orientations = graph.eprops[LightGraphs.Edge(kmer_index, neighbor_index)][:orientations]\n",
    "                    this_edge_orientation = (source_orientation = strand, destination_orientation = neighbor_orientation)\n",
    "                    if this_edge_orientation in edge_orientations\n",
    "                        edge_weight = graph.eprops[LightGraphs.Edge(kmer_index, neighbor_index)][:weight]\n",
    "                        outgoing_edge_weights[kmer_index, neighbor_index] = edge_weight\n",
    "                    end\n",
    "                end\n",
    "            end\n",
    "        end\n",
    "    end\n",
    "    return outgoing_edge_weights\n",
    "end"
   ]
  },
  {
   "cell_type": "code",
   "execution_count": 7,
   "id": "33ffd192-f852-43e8-8eb1-3c19f5fe6141",
   "metadata": {},
   "outputs": [
    {
     "data": {
      "text/plain": [
       "determine_edge_probabilities (generic function with 1 method)"
      ]
     },
     "execution_count": 7,
     "metadata": {},
     "output_type": "execute_result"
    }
   ],
   "source": [
    "function determine_edge_probabilities(edge_weights)\n",
    "    edge_probabilities = deepcopy(edge_weights)\n",
    "    for orientation in [true, false]\n",
    "        for row in 1:size(edge_probabilities[orientation], 1)\n",
    "            edge_weights = edge_probabilities[orientation][row, :]\n",
    "            edge_total = sum(edge_weights)\n",
    "            for (col, edge_weight) in enumerate(edge_weights)\n",
    "                if edge_total > 0\n",
    "                    edge_probabilities[orientation][row, col] = edge_weight/edge_total\n",
    "                else\n",
    "                    edge_probabilities[orientation][row, col] = 0.0\n",
    "                end\n",
    "            end\n",
    "        end\n",
    "    end\n",
    "    return edge_probabilities\n",
    "end"
   ]
  },
  {
   "cell_type": "code",
   "execution_count": 8,
   "id": "94750a47-abaa-48ac-9c0e-e7422260ec26",
   "metadata": {},
   "outputs": [
    {
     "data": {
      "text/plain": [
       "random_step (generic function with 1 method)"
      ]
     },
     "execution_count": 8,
     "metadata": {},
     "output_type": "execute_result"
    }
   ],
   "source": [
    "function random_step(current_vertex, current_orientation, step_probabilities)\n",
    "    outgoing_edge_likelihoods = step_probabilities[initial_orientation][current_vertex, :]\n",
    "    chosen_step = StatsBase.sample(outgoing_edge_likelihoods.nzind, StatsBase.weights(outgoing_edge_likelihoods.nzval))\n",
    "    possible_orientations = observation_graph.eprops[LightGraphs.Edge(current_vertex, chosen_step)][:orientations]\n",
    "    possible_orientations = filter(o -> o.source_orientation == current_orientation, possible_orientations)\n",
    "    chosen_orientation = rand(possible_orientations).destination_orientation\n",
    "    chosen_oriented_step = (vertex = chosen_step, orientation = chosen_orientation)\n",
    "    return chosen_oriented_step\n",
    "end"
   ]
  },
  {
   "cell_type": "code",
   "execution_count": 9,
   "id": "1ed368e8-bbee-4634-ac66-af3203e5fb11",
   "metadata": {},
   "outputs": [
    {
     "data": {
      "text/plain": [
       "random_walk (generic function with 1 method)"
      ]
     },
     "execution_count": 9,
     "metadata": {},
     "output_type": "execute_result"
    }
   ],
   "source": [
    "function random_walk(observation_graph, initial_vertex, initial_orientation, step_probabilities; n_steps=size(step_probabilities[true], 1))\n",
    "    step_count = 0\n",
    "    outgoing_edge_likelihoods = step_probabilities[initial_orientation][initial_vertex, :]\n",
    "    walk = Vector{NamedTuple{(:vertex, :orientation), Tuple{Int64, Bool}}}()\n",
    "    done = (step_count > n_steps) || (sum(outgoing_edge_likelihoods) == 0)\n",
    "    current_vertex = initial_vertex\n",
    "    current_orientation = initial_orientation\n",
    "    while !done\n",
    "#         @show \"choosing\"\n",
    "        chosen_step = StatsBase.sample(outgoing_edge_likelihoods.nzind, StatsBase.weights(outgoing_edge_likelihoods.nzval))\n",
    "        chosen_step\n",
    "        possible_orientations = observation_graph.eprops[LightGraphs.Edge(current_vertex, chosen_step)][:orientations]\n",
    "        possible_orientations\n",
    "        current_orientation\n",
    "        possible_orientations = filter(o -> o.source_orientation == current_orientation, possible_orientations)\n",
    "        possible_orientations\n",
    "        chosen_orientation = rand(possible_orientations).destination_orientation\n",
    "        chosen_oriented_step = (vertex = chosen_step, orientation = chosen_orientation)\n",
    "        push!(walk, chosen_oriented_step)\n",
    "        current_vertex = chosen_step\n",
    "        current_orientation = chosen_orientation\n",
    "        outgoing_edge_likelihoods = step_probabilities[last(walk).orientation][last(walk).vertex, :]\n",
    "        step_count += 1\n",
    "#         @show outgoing_edge_likelihoods\n",
    "        done = (step_count > n_steps) || (sum(outgoing_edge_likelihoods) == 0)\n",
    "    end\n",
    "    return walk\n",
    "end"
   ]
  },
  {
   "cell_type": "code",
   "execution_count": 10,
   "id": "03bc3ce0-24b7-4f8b-a90a-050b61c211e5",
   "metadata": {},
   "outputs": [
    {
     "data": {
      "text/plain": [
       "FASTX.FASTA.Record:\n",
       "   identifier: 2646906466274445246\n",
       "  description: <missing>\n",
       "     sequence: AGCCTGCAAA"
      ]
     },
     "execution_count": 10,
     "metadata": {},
     "output_type": "execute_result"
    }
   ],
   "source": [
    "# generate a genome\n",
    "sequence_length = 10\n",
    "sequence = BioSequences.randdnaseq(Random.seed!(sequence_length), sequence_length)\n",
    "sequence_id = string(hash(sequence))\n",
    "fasta_record = FASTX.FASTA.Record(sequence_id, sequence)"
   ]
  },
  {
   "cell_type": "code",
   "execution_count": 11,
   "id": "6b67def7-76e6-4227-a0de-f34d6d3173f5",
   "metadata": {},
   "outputs": [],
   "source": [
    "reference_fasta_file = \"$(DIR)/LENGTH-$(sequence_length).fasta\"\n",
    "open(reference_fasta_file, \"w\") do io\n",
    "    fastx_io = FASTX.FASTA.Writer(io)\n",
    "    write(fastx_io, fasta_record)\n",
    "    close(fastx_io)\n",
    "end"
   ]
  },
  {
   "cell_type": "code",
   "execution_count": 12,
   "id": "4ad0d8c4-641b-4872-8c16-57fc2ce80cde",
   "metadata": {},
   "outputs": [],
   "source": [
    "# randomly sample reads with errors from the genome\n",
    "# 1%\n",
    "error_rate = 0.01\n",
    "n_reads = 100\n",
    "\n",
    "# observations = [Mycelia.observe(FASTX.sequence(record), error_rate = error_rate) for i in 1:n_reads]\n",
    "observations = [Mycelia.observe(fasta_record, error_rate = error_rate) for i in 1:n_reads];"
   ]
  },
  {
   "cell_type": "code",
   "execution_count": 13,
   "id": "a4085a37-0a1b-4a8c-9115-9baf8882b5e0",
   "metadata": {},
   "outputs": [
    {
     "name": "stdout",
     "output_type": "stream",
     "text": [
      "sparsity = 0.28\n"
     ]
    }
   ],
   "source": [
    "# build assembly graph\n",
    "min_k = 7\n",
    "max_k = min(minimum(length(observations)), 61)\n",
    "k_options = Primes.primes(min_k, max_k)\n",
    "k_index = findfirst(k -> assess_kmer_sparsity_in_reads(k, observations) < 100, k_options)\n",
    "k = k_options[k_index]\n",
    "\n",
    "observations_file = \"$(DIR)/LENGTH-$(sequence_length)-DEPTH-$(n_reads).fastq\"\n",
    "open(observations_file, \"w\") do io\n",
    "    fastq_io = FASTX.FASTQ.Writer(io)\n",
    "    for record in observations\n",
    "        write(fastq_io, record)\n",
    "    end\n",
    "    close(fastq_io)\n",
    "end"
   ]
  },
  {
   "cell_type": "code",
   "execution_count": 14,
   "id": "293f31bf-4588-4fb3-af8f-e7e16841c366",
   "metadata": {},
   "outputs": [
    {
     "name": "stderr",
     "output_type": "stream",
     "text": [
      "┌ Info: assessing kmers\n",
      "└ @ Mycelia /home/jovyan/git/Mycelia/src/Mycelia.jl:1932\n",
      "┌ Info: creating graph\n",
      "└ @ Mycelia /home/jovyan/git/Mycelia/src/Mycelia.jl:1947\n"
     ]
    },
    {
     "data": {
      "text/plain": [
       "4-element Vector{BioSequences.DNAMer{7}}:\n",
       " AGCCTGC\n",
       " CCTGCAA\n",
       " CTGCAAA\n",
       " GCCTGCA"
      ]
     },
     "execution_count": 14,
     "metadata": {},
     "output_type": "execute_result"
    }
   ],
   "source": [
    "reference_graph = Mycelia.fastx_to_kmer_graph(BioSequences.DNAMer{k}, reference_fasta_file)\n",
    "reference_kmers = [reference_graph.vprops[v][:kmer] for v in LightGraphs.vertices(reference_graph)]"
   ]
  },
  {
   "cell_type": "code",
   "execution_count": 15,
   "id": "72c66702-1c18-4541-a642-64f1c69ad4cb",
   "metadata": {},
   "outputs": [
    {
     "name": "stderr",
     "output_type": "stream",
     "text": [
      "┌ Info: assessing kmers\n",
      "└ @ Mycelia /home/jovyan/git/Mycelia/src/Mycelia.jl:1932\n",
      "┌ Info: creating graph\n",
      "└ @ Mycelia /home/jovyan/git/Mycelia/src/Mycelia.jl:1947\n"
     ]
    },
    {
     "data": {
      "text/plain": [
       "{23, 40} directed Int64 metagraph with Float64 weights defined by :weight (default weight 1.0)"
      ]
     },
     "execution_count": 15,
     "metadata": {},
     "output_type": "execute_result"
    }
   ],
   "source": [
    "observation_graph = Mycelia.fastx_to_kmer_graph(BioSequences.DNAMer{k}, observations_file)"
   ]
  },
  {
   "cell_type": "code",
   "execution_count": 17,
   "id": "886eef7b-62fd-45af-8644-3b6c5647c470",
   "metadata": {},
   "outputs": [
    {
     "data": {
      "text/html": [
       "<img src=./../../../2021-08-22/LENGTH-10-DEPTH-100.fastq.k-7.gfa.svg>"
      ]
     },
     "metadata": {},
     "output_type": "display_data"
    }
   ],
   "source": [
    "# visualize\n",
    "gfa_file = observations_file * \".k-$k.gfa\"\n",
    "Mycelia.graph_to_gfa(observation_graph, gfa_file)\n",
    "\n",
    "run(`$(BANDAGE) image $(gfa_file) $(gfa_file).svg --depwidth .9 --deppower .9`)\n",
    "# --nodewidth <float> Average node width (0.5 to 1000, default: 5)\n",
    "# --depwidth <float>  Depth effect on width (0 to 1, default: 0.5)\n",
    "# --deppower <float>  Power of depth effect on width (0 to 1, default: 0.5)\n",
    "\n",
    "html_path_to_svg = \"./\" * repeat(\"../\", length(split(pwd(), '/')) - 3)\n",
    "html_path_to_svg *= replace(\"$(gfa_file).svg\", \"$(homedir())/\" => \"\")\n",
    "\n",
    "x = \"<img src=$(html_path_to_svg)>\"\n",
    "display(\"text/html\", x)\n",
    "# display(\"image/svg+xml\", read(\"$(gfa_file).svg\", String))"
   ]
  },
  {
   "cell_type": "code",
   "execution_count": 18,
   "id": "f9b79057-1175-4165-82dd-0fde3c385af0",
   "metadata": {},
   "outputs": [
    {
     "data": {
      "image/svg+xml": [
       "<?xml version=\"1.0\" encoding=\"utf-8\"?>\n",
       "<svg xmlns=\"http://www.w3.org/2000/svg\" xmlns:xlink=\"http://www.w3.org/1999/xlink\" width=\"500\" height=\"250\" viewBox=\"0 0 2000 1000\">\n",
       "<defs>\n",
       "  <clipPath id=\"clip350\">\n",
       "    <rect x=\"0\" y=\"0\" width=\"2000\" height=\"1000\"/>\n",
       "  </clipPath>\n",
       "</defs>\n",
       "<path clip-path=\"url(#clip350)\" d=\"\n",
       "M0 1000 L2000 1000 L2000 0 L0 0  Z\n",
       "  \" fill=\"#ffffff\" fill-rule=\"evenodd\" fill-opacity=\"1\"/>\n",
       "<defs>\n",
       "  <clipPath id=\"clip351\">\n",
       "    <rect x=\"400\" y=\"0\" width=\"1401\" height=\"1000\"/>\n",
       "  </clipPath>\n",
       "</defs>\n",
       "<path clip-path=\"url(#clip350)\" d=\"\n",
       "M158.269 849.7 L1952.76 849.7 L1952.76 108.352 L158.269 108.352  Z\n",
       "  \" fill=\"#ffffff\" fill-rule=\"evenodd\" fill-opacity=\"1\"/>\n",
       "<defs>\n",
       "  <clipPath id=\"clip352\">\n",
       "    <rect x=\"158\" y=\"108\" width=\"1795\" height=\"742\"/>\n",
       "  </clipPath>\n",
       "</defs>\n",
       "<polyline clip-path=\"url(#clip352)\" style=\"stroke:#000000; stroke-linecap:butt; stroke-linejoin:round; stroke-width:2; stroke-opacity:0.1; fill:none\" points=\"\n",
       "  158.269,849.7 158.269,108.352 \n",
       "  \"/>\n",
       "<polyline clip-path=\"url(#clip352)\" style=\"stroke:#000000; stroke-linecap:butt; stroke-linejoin:round; stroke-width:2; stroke-opacity:0.1; fill:none\" points=\"\n",
       "  480.766,849.7 480.766,108.352 \n",
       "  \"/>\n",
       "<polyline clip-path=\"url(#clip352)\" style=\"stroke:#000000; stroke-linecap:butt; stroke-linejoin:round; stroke-width:2; stroke-opacity:0.1; fill:none\" points=\"\n",
       "  803.263,849.7 803.263,108.352 \n",
       "  \"/>\n",
       "<polyline clip-path=\"url(#clip352)\" style=\"stroke:#000000; stroke-linecap:butt; stroke-linejoin:round; stroke-width:2; stroke-opacity:0.1; fill:none\" points=\"\n",
       "  1125.76,849.7 1125.76,108.352 \n",
       "  \"/>\n",
       "<polyline clip-path=\"url(#clip352)\" style=\"stroke:#000000; stroke-linecap:butt; stroke-linejoin:round; stroke-width:2; stroke-opacity:0.1; fill:none\" points=\"\n",
       "  1448.26,849.7 1448.26,108.352 \n",
       "  \"/>\n",
       "<polyline clip-path=\"url(#clip352)\" style=\"stroke:#000000; stroke-linecap:butt; stroke-linejoin:round; stroke-width:2; stroke-opacity:0.1; fill:none\" points=\"\n",
       "  1770.76,849.7 1770.76,108.352 \n",
       "  \"/>\n",
       "<polyline clip-path=\"url(#clip350)\" style=\"stroke:#000000; stroke-linecap:butt; stroke-linejoin:round; stroke-width:4; stroke-opacity:1; fill:none\" points=\"\n",
       "  158.269,849.7 1952.76,849.7 \n",
       "  \"/>\n",
       "<polyline clip-path=\"url(#clip350)\" style=\"stroke:#000000; stroke-linecap:butt; stroke-linejoin:round; stroke-width:4; stroke-opacity:1; fill:none\" points=\"\n",
       "  158.269,849.7 158.269,830.802 \n",
       "  \"/>\n",
       "<polyline clip-path=\"url(#clip350)\" style=\"stroke:#000000; stroke-linecap:butt; stroke-linejoin:round; stroke-width:4; stroke-opacity:1; fill:none\" points=\"\n",
       "  480.766,849.7 480.766,830.802 \n",
       "  \"/>\n",
       "<polyline clip-path=\"url(#clip350)\" style=\"stroke:#000000; stroke-linecap:butt; stroke-linejoin:round; stroke-width:4; stroke-opacity:1; fill:none\" points=\"\n",
       "  803.263,849.7 803.263,830.802 \n",
       "  \"/>\n",
       "<polyline clip-path=\"url(#clip350)\" style=\"stroke:#000000; stroke-linecap:butt; stroke-linejoin:round; stroke-width:4; stroke-opacity:1; fill:none\" points=\"\n",
       "  1125.76,849.7 1125.76,830.802 \n",
       "  \"/>\n",
       "<polyline clip-path=\"url(#clip350)\" style=\"stroke:#000000; stroke-linecap:butt; stroke-linejoin:round; stroke-width:4; stroke-opacity:1; fill:none\" points=\"\n",
       "  1448.26,849.7 1448.26,830.802 \n",
       "  \"/>\n",
       "<polyline clip-path=\"url(#clip350)\" style=\"stroke:#000000; stroke-linecap:butt; stroke-linejoin:round; stroke-width:4; stroke-opacity:1; fill:none\" points=\"\n",
       "  1770.76,849.7 1770.76,830.802 \n",
       "  \"/>\n",
       "<path clip-path=\"url(#clip350)\" d=\"M158.269 875.691 Q154.658 875.691 152.829 879.255 Q151.024 882.797 151.024 889.927 Q151.024 897.033 152.829 900.598 Q154.658 904.139 158.269 904.139 Q161.903 904.139 163.709 900.598 Q165.537 897.033 165.537 889.927 Q165.537 882.797 163.709 879.255 Q161.903 875.691 158.269 875.691 M158.269 871.987 Q164.079 871.987 167.135 876.593 Q170.213 881.177 170.213 889.927 Q170.213 898.653 167.135 903.26 Q164.079 907.843 158.269 907.843 Q152.459 907.843 149.38 903.26 Q146.325 898.653 146.325 889.927 Q146.325 881.177 149.38 876.593 Q152.459 871.987 158.269 871.987 Z\" fill=\"#000000\" fill-rule=\"evenodd\" fill-opacity=\"1\" /><path clip-path=\"url(#clip350)\" d=\"M471.148 903.237 L478.787 903.237 L478.787 876.871 L470.477 878.538 L470.477 874.279 L478.741 872.612 L483.417 872.612 L483.417 903.237 L491.055 903.237 L491.055 907.172 L471.148 907.172 L471.148 903.237 Z\" fill=\"#000000\" fill-rule=\"evenodd\" fill-opacity=\"1\" /><path clip-path=\"url(#clip350)\" d=\"M797.916 903.237 L814.236 903.237 L814.236 907.172 L792.291 907.172 L792.291 903.237 Q794.953 900.482 799.537 895.852 Q804.143 891.2 805.324 889.857 Q807.569 887.334 808.449 885.598 Q809.351 883.839 809.351 882.149 Q809.351 879.394 807.407 877.658 Q805.486 875.922 802.384 875.922 Q800.185 875.922 797.731 876.686 Q795.3 877.45 792.523 879.001 L792.523 874.279 Q795.347 873.144 797.8 872.566 Q800.254 871.987 802.291 871.987 Q807.662 871.987 810.856 874.672 Q814.05 877.357 814.05 881.848 Q814.05 883.978 813.24 885.899 Q812.453 887.797 810.347 890.39 Q809.768 891.061 806.666 894.278 Q803.564 897.473 797.916 903.237 Z\" fill=\"#000000\" fill-rule=\"evenodd\" fill-opacity=\"1\" /><path clip-path=\"url(#clip350)\" d=\"M1130.01 888.538 Q1133.36 889.255 1135.24 891.524 Q1137.14 893.792 1137.14 897.126 Q1137.14 902.241 1133.62 905.042 Q1130.1 907.843 1123.62 907.843 Q1121.44 907.843 1119.13 907.403 Q1116.84 906.987 1114.38 906.13 L1114.38 901.616 Q1116.33 902.751 1118.64 903.329 Q1120.96 903.908 1123.48 903.908 Q1127.88 903.908 1130.17 902.172 Q1132.49 900.436 1132.49 897.126 Q1132.49 894.07 1130.33 892.357 Q1128.2 890.621 1124.38 890.621 L1120.36 890.621 L1120.36 886.778 L1124.57 886.778 Q1128.02 886.778 1129.85 885.413 Q1131.67 884.024 1131.67 881.431 Q1131.67 878.769 1129.78 877.357 Q1127.9 875.922 1124.38 875.922 Q1122.46 875.922 1120.26 876.339 Q1118.06 876.755 1115.43 877.635 L1115.43 873.468 Q1118.09 872.728 1120.4 872.357 Q1122.74 871.987 1124.8 871.987 Q1130.12 871.987 1133.23 874.417 Q1136.33 876.825 1136.33 880.945 Q1136.33 883.815 1134.68 885.806 Q1133.04 887.774 1130.01 888.538 Z\" fill=\"#000000\" fill-rule=\"evenodd\" fill-opacity=\"1\" /><path clip-path=\"url(#clip350)\" d=\"M1451.27 876.686 L1439.46 895.135 L1451.27 895.135 L1451.27 876.686 M1450.04 872.612 L1455.92 872.612 L1455.92 895.135 L1460.85 895.135 L1460.85 899.024 L1455.92 899.024 L1455.92 907.172 L1451.27 907.172 L1451.27 899.024 L1435.67 899.024 L1435.67 894.51 L1450.04 872.612 Z\" fill=\"#000000\" fill-rule=\"evenodd\" fill-opacity=\"1\" /><path clip-path=\"url(#clip350)\" d=\"M1761.03 872.612 L1779.39 872.612 L1779.39 876.547 L1765.32 876.547 L1765.32 885.019 Q1766.33 884.672 1767.35 884.51 Q1768.37 884.325 1769.39 884.325 Q1775.18 884.325 1778.56 887.496 Q1781.94 890.667 1781.94 896.084 Q1781.94 901.663 1778.46 904.764 Q1774.99 907.843 1768.67 907.843 Q1766.5 907.843 1764.23 907.473 Q1761.98 907.102 1759.57 906.362 L1759.57 901.663 Q1761.66 902.797 1763.88 903.352 Q1766.1 903.908 1768.58 903.908 Q1772.58 903.908 1774.92 901.802 Q1777.26 899.695 1777.26 896.084 Q1777.26 892.473 1774.92 890.366 Q1772.58 888.26 1768.58 888.26 Q1766.7 888.26 1764.83 888.677 Q1762.98 889.093 1761.03 889.973 L1761.03 872.612 Z\" fill=\"#000000\" fill-rule=\"evenodd\" fill-opacity=\"1\" /><path clip-path=\"url(#clip350)\" d=\"M661.348 939.039 L667.204 939.039 L667.204 988.564 L661.348 988.564 L661.348 939.039 Z\" fill=\"#000000\" fill-rule=\"evenodd\" fill-opacity=\"1\" /><path clip-path=\"url(#clip350)\" d=\"M693.272 957.022 Q688.561 957.022 685.824 960.714 Q683.087 964.374 683.087 970.772 Q683.087 977.169 685.792 980.861 Q688.529 984.522 693.272 984.522 Q697.951 984.522 700.688 980.83 Q703.425 977.137 703.425 970.772 Q703.425 964.438 700.688 960.746 Q697.951 957.022 693.272 957.022 M693.272 952.057 Q700.911 952.057 705.271 957.022 Q709.632 961.987 709.632 970.772 Q709.632 979.525 705.271 984.522 Q700.911 989.487 693.272 989.487 Q685.601 989.487 681.241 984.522 Q676.912 979.525 676.912 970.772 Q676.912 961.987 681.241 957.022 Q685.601 952.057 693.272 952.057 Z\" fill=\"#000000\" fill-rule=\"evenodd\" fill-opacity=\"1\" /><path clip-path=\"url(#clip350)\" d=\"M742.797 970.326 Q742.797 963.96 740.155 960.459 Q737.545 956.958 732.803 956.958 Q728.092 956.958 725.451 960.459 Q722.841 963.96 722.841 970.326 Q722.841 976.66 725.451 980.161 Q728.092 983.662 732.803 983.662 Q737.545 983.662 740.155 980.161 Q742.797 976.66 742.797 970.326 M748.654 984.14 Q748.654 993.243 744.611 997.667 Q740.569 1002.12 732.23 1002.12 Q729.143 1002.12 726.405 1001.65 Q723.668 1001.2 721.09 1000.24 L721.09 994.548 Q723.668 995.948 726.183 996.616 Q728.697 997.285 731.307 997.285 Q737.068 997.285 739.933 994.261 Q742.797 991.269 742.797 985.19 L742.797 982.294 Q740.983 985.445 738.15 987.004 Q735.317 988.564 731.371 988.564 Q724.814 988.564 720.804 983.567 Q716.793 978.57 716.793 970.326 Q716.793 962.051 720.804 957.054 Q724.814 952.057 731.371 952.057 Q735.317 952.057 738.15 953.616 Q740.983 955.176 742.797 958.327 L742.797 952.916 L748.654 952.916 L748.654 984.14 Z\" fill=\"#000000\" fill-rule=\"evenodd\" fill-opacity=\"1\" /><path clip-path=\"url(#clip350)\" d=\"M774.785 939.102 Q770.52 946.423 768.451 953.584 Q766.382 960.746 766.382 968.098 Q766.382 975.45 768.451 982.676 Q770.552 989.869 774.785 997.158 L769.692 997.158 Q764.918 989.678 762.531 982.453 Q760.175 975.228 760.175 968.098 Q760.175 961 762.531 953.807 Q764.886 946.614 769.692 939.102 L774.785 939.102 Z\" fill=\"#000000\" fill-rule=\"evenodd\" fill-opacity=\"1\" /><path clip-path=\"url(#clip350)\" d=\"M799.961 957.022 Q795.25 957.022 792.513 960.714 Q789.776 964.374 789.776 970.772 Q789.776 977.169 792.481 980.861 Q795.219 984.522 799.961 984.522 Q804.64 984.522 807.377 980.83 Q810.114 977.137 810.114 970.772 Q810.114 964.438 807.377 960.746 Q804.64 957.022 799.961 957.022 M799.961 952.057 Q807.6 952.057 811.96 957.022 Q816.321 961.987 816.321 970.772 Q816.321 979.525 811.96 984.522 Q807.6 989.487 799.961 989.487 Q792.29 989.487 787.93 984.522 Q783.601 979.525 783.601 970.772 Q783.601 961.987 787.93 957.022 Q792.29 952.057 799.961 952.057 Z\" fill=\"#000000\" fill-rule=\"evenodd\" fill-opacity=\"1\" /><path clip-path=\"url(#clip350)\" d=\"M851.619 970.772 Q851.619 964.311 848.945 960.65 Q846.303 956.958 841.656 956.958 Q837.01 956.958 834.336 960.65 Q831.694 964.311 831.694 970.772 Q831.694 977.233 834.336 980.925 Q837.01 984.585 841.656 984.585 Q846.303 984.585 848.945 980.925 Q851.619 977.233 851.619 970.772 M831.694 958.327 Q833.54 955.144 836.341 953.616 Q839.174 952.057 843.089 952.057 Q849.582 952.057 853.624 957.213 Q857.698 962.369 857.698 970.772 Q857.698 979.174 853.624 984.331 Q849.582 989.487 843.089 989.487 Q839.174 989.487 836.341 987.959 Q833.54 986.4 831.694 983.217 L831.694 988.564 L825.806 988.564 L825.806 939.039 L831.694 939.039 L831.694 958.327 Z\" fill=\"#000000\" fill-rule=\"evenodd\" fill-opacity=\"1\" /><path clip-path=\"url(#clip350)\" d=\"M890.131 953.966 L890.131 959.504 Q887.649 958.231 884.975 957.595 Q882.302 956.958 879.437 956.958 Q875.076 956.958 872.88 958.295 Q870.716 959.632 870.716 962.305 Q870.716 964.342 872.276 965.52 Q873.835 966.666 878.546 967.716 L880.551 968.162 Q886.789 969.499 889.399 971.949 Q892.041 974.368 892.041 978.729 Q892.041 983.694 888.094 986.59 Q884.179 989.487 877.304 989.487 Q874.44 989.487 871.321 988.914 Q868.233 988.373 864.796 987.259 L864.796 981.211 Q868.042 982.898 871.193 983.758 Q874.344 984.585 877.432 984.585 Q881.569 984.585 883.797 983.185 Q886.025 981.753 886.025 979.174 Q886.025 976.787 884.402 975.514 Q882.811 974.241 877.368 973.063 L875.331 972.586 Q869.888 971.44 867.469 969.085 Q865.05 966.698 865.05 962.56 Q865.05 957.531 868.615 954.794 Q872.18 952.057 878.737 952.057 Q881.983 952.057 884.848 952.534 Q887.712 953.011 890.131 953.966 Z\" fill=\"#000000\" fill-rule=\"evenodd\" fill-opacity=\"1\" /><path clip-path=\"url(#clip350)\" d=\"M931.859 969.276 L931.859 972.14 L904.932 972.14 Q905.314 978.188 908.56 981.371 Q911.838 984.522 917.663 984.522 Q921.037 984.522 924.188 983.694 Q927.371 982.867 930.49 981.211 L930.49 986.75 Q927.339 988.086 924.029 988.787 Q920.719 989.487 917.313 989.487 Q908.783 989.487 903.786 984.522 Q898.821 979.556 898.821 971.09 Q898.821 962.337 903.531 957.213 Q908.274 952.057 916.294 952.057 Q923.488 952.057 927.657 956.703 Q931.859 961.319 931.859 969.276 M926.002 967.557 Q925.938 962.751 923.297 959.886 Q920.687 957.022 916.358 957.022 Q911.456 957.022 908.496 959.791 Q905.568 962.56 905.123 967.589 L926.002 967.557 Z\" fill=\"#000000\" fill-rule=\"evenodd\" fill-opacity=\"1\" /><path clip-path=\"url(#clip350)\" d=\"M962.127 958.39 Q961.141 957.817 959.963 957.563 Q958.817 957.276 957.417 957.276 Q952.452 957.276 949.778 960.523 Q947.136 963.738 947.136 969.785 L947.136 988.564 L941.248 988.564 L941.248 952.916 L947.136 952.916 L947.136 958.454 Q948.982 955.208 951.942 953.648 Q954.902 952.057 959.136 952.057 Q959.74 952.057 960.472 952.152 Q961.204 952.216 962.096 952.375 L962.127 958.39 Z\" fill=\"#000000\" fill-rule=\"evenodd\" fill-opacity=\"1\" /><path clip-path=\"url(#clip350)\" d=\"M964.069 952.916 L970.276 952.916 L981.416 982.835 L992.556 952.916 L998.762 952.916 L985.394 988.564 L977.437 988.564 L964.069 952.916 Z\" fill=\"#000000\" fill-rule=\"evenodd\" fill-opacity=\"1\" /><path clip-path=\"url(#clip350)\" d=\"M1037.34 969.276 L1037.34 972.14 L1010.41 972.14 Q1010.79 978.188 1014.04 981.371 Q1017.32 984.522 1023.14 984.522 Q1026.52 984.522 1029.67 983.694 Q1032.85 982.867 1035.97 981.211 L1035.97 986.75 Q1032.82 988.086 1029.51 988.787 Q1026.2 989.487 1022.79 989.487 Q1014.26 989.487 1009.27 984.522 Q1004.3 979.556 1004.3 971.09 Q1004.3 962.337 1009.01 957.213 Q1013.75 952.057 1021.77 952.057 Q1028.97 952.057 1033.14 956.703 Q1037.34 961.319 1037.34 969.276 M1031.48 967.557 Q1031.42 962.751 1028.78 959.886 Q1026.17 957.022 1021.84 957.022 Q1016.94 957.022 1013.98 959.791 Q1011.05 962.56 1010.6 967.589 L1031.48 967.557 Z\" fill=\"#000000\" fill-rule=\"evenodd\" fill-opacity=\"1\" /><path clip-path=\"url(#clip350)\" d=\"M1070.41 958.327 L1070.41 939.039 L1076.26 939.039 L1076.26 988.564 L1070.41 988.564 L1070.41 983.217 Q1068.56 986.4 1065.73 987.959 Q1062.93 989.487 1058.98 989.487 Q1052.52 989.487 1048.45 984.331 Q1044.4 979.174 1044.4 970.772 Q1044.4 962.369 1048.45 957.213 Q1052.52 952.057 1058.98 952.057 Q1062.93 952.057 1065.73 953.616 Q1068.56 955.144 1070.41 958.327 M1050.45 970.772 Q1050.45 977.233 1053.09 980.925 Q1055.77 984.585 1060.41 984.585 Q1065.06 984.585 1067.73 980.925 Q1070.41 977.233 1070.41 970.772 Q1070.41 964.311 1067.73 960.65 Q1065.06 956.958 1060.41 956.958 Q1055.77 956.958 1053.09 960.65 Q1050.45 964.311 1050.45 970.772 Z\" fill=\"#000000\" fill-rule=\"evenodd\" fill-opacity=\"1\" /><path clip-path=\"url(#clip350)\" d=\"M1127.09 939.039 L1127.09 943.908 L1121.49 943.908 Q1118.34 943.908 1117.1 945.182 Q1115.89 946.455 1115.89 949.765 L1115.89 952.916 L1125.54 952.916 L1125.54 957.467 L1115.89 957.467 L1115.89 988.564 L1110 988.564 L1110 957.467 L1104.4 957.467 L1104.4 952.916 L1110 952.916 L1110 950.433 Q1110 944.481 1112.77 941.776 Q1115.54 939.039 1121.56 939.039 L1127.09 939.039 Z\" fill=\"#000000\" fill-rule=\"evenodd\" fill-opacity=\"1\" /><path clip-path=\"url(#clip350)\" d=\"M1152.65 958.39 Q1151.67 957.817 1150.49 957.563 Q1149.34 957.276 1147.94 957.276 Q1142.98 957.276 1140.3 960.523 Q1137.66 963.738 1137.66 969.785 L1137.66 988.564 L1131.77 988.564 L1131.77 952.916 L1137.66 952.916 L1137.66 958.454 Q1139.51 955.208 1142.47 953.648 Q1145.43 952.057 1149.66 952.057 Q1150.27 952.057 1151 952.152 Q1151.73 952.216 1152.62 952.375 L1152.65 958.39 Z\" fill=\"#000000\" fill-rule=\"evenodd\" fill-opacity=\"1\" /><path clip-path=\"url(#clip350)\" d=\"M1187.86 969.276 L1187.86 972.14 L1160.93 972.14 Q1161.31 978.188 1164.56 981.371 Q1167.84 984.522 1173.66 984.522 Q1177.03 984.522 1180.18 983.694 Q1183.37 982.867 1186.49 981.211 L1186.49 986.75 Q1183.34 988.086 1180.03 988.787 Q1176.72 989.487 1173.31 989.487 Q1164.78 989.487 1159.78 984.522 Q1154.82 979.556 1154.82 971.09 Q1154.82 962.337 1159.53 957.213 Q1164.27 952.057 1172.29 952.057 Q1179.48 952.057 1183.65 956.703 Q1187.86 961.319 1187.86 969.276 M1182 967.557 Q1181.94 962.751 1179.29 959.886 Q1176.68 957.022 1172.35 957.022 Q1167.45 957.022 1164.49 959.791 Q1161.57 962.56 1161.12 967.589 L1182 967.557 Z\" fill=\"#000000\" fill-rule=\"evenodd\" fill-opacity=\"1\" /><path clip-path=\"url(#clip350)\" d=\"M1200.97 970.772 Q1200.97 977.233 1203.61 980.925 Q1206.28 984.585 1210.93 984.585 Q1215.58 984.585 1218.25 980.925 Q1220.93 977.233 1220.93 970.772 Q1220.93 964.311 1218.25 960.65 Q1215.58 956.958 1210.93 956.958 Q1206.28 956.958 1203.61 960.65 Q1200.97 964.311 1200.97 970.772 M1220.93 983.217 Q1219.08 986.4 1216.25 987.959 Q1213.45 989.487 1209.5 989.487 Q1203.04 989.487 1198.96 984.331 Q1194.92 979.174 1194.92 970.772 Q1194.92 962.369 1198.96 957.213 Q1203.04 952.057 1209.5 952.057 Q1213.45 952.057 1216.25 953.616 Q1219.08 955.144 1220.93 958.327 L1220.93 952.916 L1226.78 952.916 L1226.78 1002.12 L1220.93 1002.12 L1220.93 983.217 Z\" fill=\"#000000\" fill-rule=\"evenodd\" fill-opacity=\"1\" /><path clip-path=\"url(#clip350)\" d=\"M1238.24 974.496 L1238.24 952.916 L1244.1 952.916 L1244.1 974.273 Q1244.1 979.334 1246.07 981.88 Q1248.04 984.394 1251.99 984.394 Q1256.73 984.394 1259.47 981.371 Q1262.24 978.347 1262.24 973.127 L1262.24 952.916 L1268.1 952.916 L1268.1 988.564 L1262.24 988.564 L1262.24 983.089 Q1260.11 986.336 1257.27 987.927 Q1254.47 989.487 1250.75 989.487 Q1244.61 989.487 1241.42 985.667 Q1238.24 981.848 1238.24 974.496 M1252.98 952.057 L1252.98 952.057 Z\" fill=\"#000000\" fill-rule=\"evenodd\" fill-opacity=\"1\" /><path clip-path=\"url(#clip350)\" d=\"M1310.65 969.276 L1310.65 972.14 L1283.72 972.14 Q1284.1 978.188 1287.35 981.371 Q1290.63 984.522 1296.45 984.522 Q1299.83 984.522 1302.98 983.694 Q1306.16 982.867 1309.28 981.211 L1309.28 986.75 Q1306.13 988.086 1302.82 988.787 Q1299.51 989.487 1296.1 989.487 Q1287.57 989.487 1282.58 984.522 Q1277.61 979.556 1277.61 971.09 Q1277.61 962.337 1282.32 957.213 Q1287.06 952.057 1295.09 952.057 Q1302.28 952.057 1306.45 956.703 Q1310.65 961.319 1310.65 969.276 M1304.79 967.557 Q1304.73 962.751 1302.09 959.886 Q1299.48 957.022 1295.15 957.022 Q1290.25 957.022 1287.29 959.791 Q1284.36 962.56 1283.91 967.589 L1304.79 967.557 Z\" fill=\"#000000\" fill-rule=\"evenodd\" fill-opacity=\"1\" /><path clip-path=\"url(#clip350)\" d=\"M1349.89 967.048 L1349.89 988.564 L1344.04 988.564 L1344.04 967.239 Q1344.04 962.178 1342.06 959.664 Q1340.09 957.149 1336.14 957.149 Q1331.4 957.149 1328.66 960.173 Q1325.93 963.197 1325.93 968.416 L1325.93 988.564 L1320.04 988.564 L1320.04 952.916 L1325.93 952.916 L1325.93 958.454 Q1328.03 955.239 1330.86 953.648 Q1333.73 952.057 1337.45 952.057 Q1343.59 952.057 1346.74 955.876 Q1349.89 959.664 1349.89 967.048 Z\" fill=\"#000000\" fill-rule=\"evenodd\" fill-opacity=\"1\" /><path clip-path=\"url(#clip350)\" d=\"M1387.23 954.285 L1387.23 959.759 Q1384.75 958.39 1382.23 957.722 Q1379.75 957.022 1377.2 957.022 Q1371.51 957.022 1368.36 960.65 Q1365.2 964.247 1365.2 970.772 Q1365.2 977.297 1368.36 980.925 Q1371.51 984.522 1377.2 984.522 Q1379.75 984.522 1382.23 983.853 Q1384.75 983.153 1387.23 981.784 L1387.23 987.195 Q1384.78 988.341 1382.14 988.914 Q1379.53 989.487 1376.57 989.487 Q1368.51 989.487 1363.77 984.426 Q1359.03 979.365 1359.03 970.772 Q1359.03 962.051 1363.8 957.054 Q1368.61 952.057 1376.95 952.057 Q1379.65 952.057 1382.23 952.629 Q1384.81 953.171 1387.23 954.285 Z\" fill=\"#000000\" fill-rule=\"evenodd\" fill-opacity=\"1\" /><path clip-path=\"url(#clip350)\" d=\"M1412.25 991.874 Q1409.76 998.24 1407.41 1000.18 Q1405.05 1002.12 1401.11 1002.12 L1396.43 1002.12 L1396.43 997.221 L1399.87 997.221 Q1402.28 997.221 1403.62 996.075 Q1404.96 994.93 1406.58 990.665 L1407.63 987.991 L1393.21 952.916 L1399.42 952.916 L1410.56 980.798 L1421.7 952.916 L1427.91 952.916 L1412.25 991.874 Z\" fill=\"#000000\" fill-rule=\"evenodd\" fill-opacity=\"1\" /><path clip-path=\"url(#clip350)\" d=\"M1435.07 939.102 L1440.16 939.102 Q1444.93 946.614 1447.29 953.807 Q1449.68 961 1449.68 968.098 Q1449.68 975.228 1447.29 982.453 Q1444.93 989.678 1440.16 997.158 L1435.07 997.158 Q1439.3 989.869 1441.37 982.676 Q1443.47 975.45 1443.47 968.098 Q1443.47 960.746 1441.37 953.584 Q1439.3 946.423 1435.07 939.102 Z\" fill=\"#000000\" fill-rule=\"evenodd\" fill-opacity=\"1\" /><polyline clip-path=\"url(#clip352)\" style=\"stroke:#000000; stroke-linecap:butt; stroke-linejoin:round; stroke-width:2; stroke-opacity:0.1; fill:none\" points=\"\n",
       "  158.269,849.7 1952.76,849.7 \n",
       "  \"/>\n",
       "<polyline clip-path=\"url(#clip352)\" style=\"stroke:#000000; stroke-linecap:butt; stroke-linejoin:round; stroke-width:2; stroke-opacity:0.1; fill:none\" points=\"\n",
       "  158.269,649.771 1952.76,649.771 \n",
       "  \"/>\n",
       "<polyline clip-path=\"url(#clip352)\" style=\"stroke:#000000; stroke-linecap:butt; stroke-linejoin:round; stroke-width:2; stroke-opacity:0.1; fill:none\" points=\"\n",
       "  158.269,449.841 1952.76,449.841 \n",
       "  \"/>\n",
       "<polyline clip-path=\"url(#clip352)\" style=\"stroke:#000000; stroke-linecap:butt; stroke-linejoin:round; stroke-width:2; stroke-opacity:0.1; fill:none\" points=\"\n",
       "  158.269,249.912 1952.76,249.912 \n",
       "  \"/>\n",
       "<polyline clip-path=\"url(#clip350)\" style=\"stroke:#000000; stroke-linecap:butt; stroke-linejoin:round; stroke-width:4; stroke-opacity:1; fill:none\" points=\"\n",
       "  158.269,849.7 158.269,108.352 \n",
       "  \"/>\n",
       "<polyline clip-path=\"url(#clip350)\" style=\"stroke:#000000; stroke-linecap:butt; stroke-linejoin:round; stroke-width:4; stroke-opacity:1; fill:none\" points=\"\n",
       "  158.269,849.7 177.167,849.7 \n",
       "  \"/>\n",
       "<polyline clip-path=\"url(#clip350)\" style=\"stroke:#000000; stroke-linecap:butt; stroke-linejoin:round; stroke-width:4; stroke-opacity:1; fill:none\" points=\"\n",
       "  158.269,649.771 177.167,649.771 \n",
       "  \"/>\n",
       "<polyline clip-path=\"url(#clip350)\" style=\"stroke:#000000; stroke-linecap:butt; stroke-linejoin:round; stroke-width:4; stroke-opacity:1; fill:none\" points=\"\n",
       "  158.269,449.841 177.167,449.841 \n",
       "  \"/>\n",
       "<polyline clip-path=\"url(#clip350)\" style=\"stroke:#000000; stroke-linecap:butt; stroke-linejoin:round; stroke-width:4; stroke-opacity:1; fill:none\" points=\"\n",
       "  158.269,249.912 177.167,249.912 \n",
       "  \"/>\n",
       "<path clip-path=\"url(#clip350)\" d=\"M116.325 835.499 Q112.713 835.499 110.885 839.063 Q109.079 842.605 109.079 849.735 Q109.079 856.841 110.885 860.406 Q112.713 863.947 116.325 863.947 Q119.959 863.947 121.764 860.406 Q123.593 856.841 123.593 849.735 Q123.593 842.605 121.764 839.063 Q119.959 835.499 116.325 835.499 M116.325 831.795 Q122.135 831.795 125.19 836.401 Q128.269 840.985 128.269 849.735 Q128.269 858.461 125.19 863.068 Q122.135 867.651 116.325 867.651 Q110.514 867.651 107.436 863.068 Q104.38 858.461 104.38 849.735 Q104.38 840.985 107.436 836.401 Q110.514 831.795 116.325 831.795 Z\" fill=\"#000000\" fill-rule=\"evenodd\" fill-opacity=\"1\" /><path clip-path=\"url(#clip350)\" d=\"M108.362 663.115 L116 663.115 L116 636.75 L107.69 638.416 L107.69 634.157 L115.954 632.491 L120.63 632.491 L120.63 663.115 L128.269 663.115 L128.269 667.051 L108.362 667.051 L108.362 663.115 Z\" fill=\"#000000\" fill-rule=\"evenodd\" fill-opacity=\"1\" /><path clip-path=\"url(#clip350)\" d=\"M111.95 463.186 L128.269 463.186 L128.269 467.121 L106.325 467.121 L106.325 463.186 Q108.987 460.432 113.57 455.802 Q118.176 451.149 119.357 449.807 Q121.602 447.283 122.482 445.547 Q123.385 443.788 123.385 442.098 Q123.385 439.344 121.44 437.608 Q119.519 435.871 116.417 435.871 Q114.218 435.871 111.764 436.635 Q109.334 437.399 106.556 438.95 L106.556 434.228 Q109.38 433.094 111.834 432.515 Q114.288 431.936 116.325 431.936 Q121.695 431.936 124.889 434.622 Q128.084 437.307 128.084 441.797 Q128.084 443.927 127.274 445.848 Q126.487 447.746 124.38 450.339 Q123.801 451.01 120.7 454.228 Q117.598 457.422 111.95 463.186 Z\" fill=\"#000000\" fill-rule=\"evenodd\" fill-opacity=\"1\" /><path clip-path=\"url(#clip350)\" d=\"M121.139 248.558 Q124.496 249.276 126.371 251.544 Q128.269 253.813 128.269 257.146 Q128.269 262.262 124.75 265.062 Q121.232 267.863 114.75 267.863 Q112.575 267.863 110.26 267.424 Q107.968 267.007 105.514 266.15 L105.514 261.637 Q107.459 262.771 109.774 263.35 Q112.088 263.928 114.612 263.928 Q119.01 263.928 121.301 262.192 Q123.616 260.456 123.616 257.146 Q123.616 254.09 121.463 252.377 Q119.334 250.641 115.514 250.641 L111.487 250.641 L111.487 246.799 L115.7 246.799 Q119.149 246.799 120.977 245.433 Q122.806 244.044 122.806 241.451 Q122.806 238.789 120.908 237.377 Q119.033 235.942 115.514 235.942 Q113.593 235.942 111.394 236.359 Q109.195 236.776 106.556 237.655 L106.556 233.489 Q109.218 232.748 111.533 232.377 Q113.871 232.007 115.931 232.007 Q121.255 232.007 124.357 234.438 Q127.459 236.845 127.459 240.965 Q127.459 243.836 125.815 245.826 Q124.172 247.794 121.139 248.558 Z\" fill=\"#000000\" fill-rule=\"evenodd\" fill-opacity=\"1\" /><path clip-path=\"url(#clip350)\" d=\"M10.599 728.769 L10.599 722.912 L60.1242 722.912 L60.1242 728.769 L10.599 728.769 Z\" fill=\"#000000\" fill-rule=\"evenodd\" fill-opacity=\"1\" /><path clip-path=\"url(#clip350)\" d=\"M28.5821 696.845 Q28.5821 701.555 32.2742 704.292 Q35.9345 707.03 42.332 707.03 Q48.7295 707.03 52.4217 704.324 Q56.0819 701.587 56.0819 696.845 Q56.0819 692.166 52.3898 689.429 Q48.6977 686.691 42.332 686.691 Q35.9981 686.691 32.306 689.429 Q28.5821 692.166 28.5821 696.845 M23.6168 696.845 Q23.6168 689.206 28.5821 684.845 Q33.5473 680.485 42.332 680.485 Q51.0849 680.485 56.0819 684.845 Q61.0472 689.206 61.0472 696.845 Q61.0472 704.515 56.0819 708.876 Q51.0849 713.204 42.332 713.204 Q33.5473 713.204 28.5821 708.876 Q23.6168 704.515 23.6168 696.845 Z\" fill=\"#000000\" fill-rule=\"evenodd\" fill-opacity=\"1\" /><path clip-path=\"url(#clip350)\" d=\"M41.8864 647.319 Q35.5207 647.319 32.0196 649.961 Q28.5184 652.571 28.5184 657.314 Q28.5184 662.024 32.0196 664.666 Q35.5207 667.276 41.8864 667.276 Q48.2203 667.276 51.7214 664.666 Q55.2226 662.024 55.2226 657.314 Q55.2226 652.571 51.7214 649.961 Q48.2203 647.319 41.8864 647.319 M55.7 641.463 Q64.803 641.463 69.2271 645.505 Q73.6831 649.547 73.6831 657.886 Q73.6831 660.974 73.2057 663.711 Q72.7601 666.448 71.8052 669.026 L66.1079 669.026 Q67.5084 666.448 68.1768 663.934 Q68.8452 661.419 68.8452 658.809 Q68.8452 653.048 65.8215 650.184 Q62.8296 647.319 56.7503 647.319 L53.8539 647.319 Q57.005 649.134 58.5646 651.966 Q60.1242 654.799 60.1242 658.746 Q60.1242 665.302 55.1271 669.313 Q50.13 673.323 41.8864 673.323 Q33.611 673.323 28.6139 669.313 Q23.6168 665.302 23.6168 658.746 Q23.6168 654.799 25.1764 651.966 Q26.736 649.134 29.8871 647.319 L24.4762 647.319 L24.4762 641.463 L55.7 641.463 Z\" fill=\"#000000\" fill-rule=\"evenodd\" fill-opacity=\"1\" /><path clip-path=\"url(#clip350)\" d=\"M10.6626 615.332 Q17.9832 619.597 25.1446 621.666 Q32.306 623.734 39.6584 623.734 Q47.0108 623.734 54.2359 621.666 Q61.4291 619.565 68.7179 615.332 L68.7179 620.424 Q61.2382 625.199 54.0131 627.586 Q46.788 629.941 39.6584 629.941 Q32.5606 629.941 25.3674 627.586 Q18.1742 625.23 10.6626 620.424 L10.6626 615.332 Z\" fill=\"#000000\" fill-rule=\"evenodd\" fill-opacity=\"1\" /><path clip-path=\"url(#clip350)\" d=\"M31.4466 576.787 L31.4466 586.049 L42.0774 588.723 L42.0774 579.397 L31.4466 576.787 M13.3362 581.562 L26.5451 584.872 L26.5451 575.578 L13.3362 572.236 L13.3362 567.143 L26.5451 570.422 L26.5451 560.491 L31.4466 560.491 L31.4466 571.663 L42.0774 574.273 L42.0774 564.151 L46.9471 564.151 L46.9471 575.514 L60.1242 578.824 L60.1242 583.917 L46.9471 580.639 L46.9471 589.964 L60.1242 593.243 L60.1242 598.367 L46.9471 595.057 L46.9471 605.083 L42.0774 605.083 L42.0774 593.879 L31.4466 591.206 L31.4466 601.454 L26.5451 601.454 L26.5451 589.964 L13.3362 586.718 L13.3362 581.562 Z\" fill=\"#000000\" fill-rule=\"evenodd\" fill-opacity=\"1\" /><path clip-path=\"url(#clip350)\" d=\"M28.5821 514.817 Q28.5821 519.528 32.2742 522.265 Q35.9345 525.002 42.332 525.002 Q48.7295 525.002 52.4217 522.297 Q56.0819 519.56 56.0819 514.817 Q56.0819 510.138 52.3898 507.401 Q48.6977 504.664 42.332 504.664 Q35.9981 504.664 32.306 507.401 Q28.5821 510.138 28.5821 514.817 M23.6168 514.817 Q23.6168 507.178 28.5821 502.818 Q33.5473 498.457 42.332 498.457 Q51.0849 498.457 56.0819 502.818 Q61.0472 507.178 61.0472 514.817 Q61.0472 522.488 56.0819 526.848 Q51.0849 531.177 42.332 531.177 Q33.5473 531.177 28.5821 526.848 Q23.6168 522.488 23.6168 514.817 Z\" fill=\"#000000\" fill-rule=\"evenodd\" fill-opacity=\"1\" /><path clip-path=\"url(#clip350)\" d=\"M10.599 470.703 L15.4687 470.703 L15.4687 476.305 Q15.4687 479.456 16.7419 480.697 Q18.015 481.906 21.3252 481.906 L24.4762 481.906 L24.4762 472.262 L29.0277 472.262 L29.0277 481.906 L60.1242 481.906 L60.1242 487.795 L29.0277 487.795 L29.0277 493.397 L24.4762 493.397 L24.4762 487.795 L21.9936 487.795 Q16.0416 487.795 13.3362 485.026 Q10.599 482.257 10.599 476.241 L10.599 470.703 Z\" fill=\"#000000\" fill-rule=\"evenodd\" fill-opacity=\"1\" /><path clip-path=\"url(#clip350)\" d=\"M10.599 445.304 L10.599 439.415 L39.8494 439.415 L24.4762 421.942 L24.4762 414.462 L41.1544 433.368 L60.1242 413.666 L60.1242 421.305 L42.7139 439.415 L60.1242 439.415 L60.1242 445.304 L10.599 445.304 Z\" fill=\"#000000\" fill-rule=\"evenodd\" fill-opacity=\"1\" /><path clip-path=\"url(#clip350)\" d=\"M31.3193 379.578 Q27.3726 377.382 25.4947 374.326 Q23.6168 371.27 23.6168 367.133 Q23.6168 361.563 27.5317 358.539 Q31.4148 355.515 38.6081 355.515 L60.1242 355.515 L60.1242 361.404 L38.799 361.404 Q33.6746 361.404 31.192 363.218 Q28.7094 365.032 28.7094 368.756 Q28.7094 373.308 31.7331 375.949 Q34.7568 378.591 39.9767 378.591 L60.1242 378.591 L60.1242 384.479 L38.799 384.479 Q33.6428 384.479 31.192 386.294 Q28.7094 388.108 28.7094 391.895 Q28.7094 396.383 31.7649 399.025 Q34.7886 401.667 39.9767 401.667 L60.1242 401.667 L60.1242 407.555 L24.4762 407.555 L24.4762 401.667 L30.0144 401.667 Q26.736 399.662 25.1764 396.861 Q23.6168 394.06 23.6168 390.208 Q23.6168 386.325 25.5902 383.62 Q27.5636 380.883 31.3193 379.578 Z\" fill=\"#000000\" fill-rule=\"evenodd\" fill-opacity=\"1\" /><path clip-path=\"url(#clip350)\" d=\"M40.8361 313.343 L43.7006 313.343 L43.7006 340.269 Q49.7481 339.888 52.9309 336.641 Q56.0819 333.363 56.0819 327.538 Q56.0819 324.164 55.2544 321.013 Q54.4269 317.83 52.7718 314.711 L58.3099 314.711 Q59.6467 317.862 60.347 321.172 Q61.0472 324.483 61.0472 327.888 Q61.0472 336.418 56.0819 341.415 Q51.1167 346.381 42.6503 346.381 Q33.8974 346.381 28.7731 341.67 Q23.6168 336.927 23.6168 328.907 Q23.6168 321.713 28.2638 317.544 Q32.8789 313.343 40.8361 313.343 M39.1173 319.199 Q34.3112 319.263 31.4466 321.904 Q28.5821 324.514 28.5821 328.843 Q28.5821 333.745 31.3512 336.705 Q34.1202 339.633 39.1492 340.079 L39.1173 319.199 Z\" fill=\"#000000\" fill-rule=\"evenodd\" fill-opacity=\"1\" /><path clip-path=\"url(#clip350)\" d=\"M29.9507 283.074 Q29.3778 284.06 29.1232 285.238 Q28.8367 286.384 28.8367 287.784 Q28.8367 292.749 32.0832 295.423 Q35.2979 298.065 41.3453 298.065 L60.1242 298.065 L60.1242 303.953 L24.4762 303.953 L24.4762 298.065 L30.0144 298.065 Q26.7679 296.219 25.2083 293.259 Q23.6168 290.299 23.6168 286.066 Q23.6168 285.461 23.7123 284.729 Q23.776 283.997 23.9351 283.105 L29.9507 283.074 Z\" fill=\"#000000\" fill-rule=\"evenodd\" fill-opacity=\"1\" /><path clip-path=\"url(#clip350)\" d=\"M25.5265 254.205 L31.0647 254.205 Q29.7916 256.688 29.155 259.361 Q28.5184 262.035 28.5184 264.9 Q28.5184 269.26 29.8552 271.456 Q31.192 273.621 33.8656 273.621 Q35.9026 273.621 37.0803 272.061 Q38.2261 270.501 39.2765 265.791 L39.7221 263.786 Q41.0589 257.547 43.5097 254.937 Q45.9286 252.295 50.2891 252.295 Q55.2544 252.295 58.1508 256.242 Q61.0472 260.157 61.0472 267.032 Q61.0472 269.897 60.4743 273.016 Q59.9332 276.103 58.8192 279.541 L52.7718 279.541 Q54.4587 276.294 55.318 273.143 Q56.1456 269.992 56.1456 266.905 Q56.1456 262.767 54.7451 260.539 Q53.3129 258.311 50.7347 258.311 Q48.3476 258.311 47.0745 259.934 Q45.8013 261.526 44.6237 266.968 L44.1462 269.005 Q43.0004 274.448 40.6451 276.867 Q38.258 279.286 34.1202 279.286 Q29.0913 279.286 26.3541 275.721 Q23.6168 272.156 23.6168 265.6 Q23.6168 262.353 24.0943 259.489 Q24.5717 256.624 25.5265 254.205 Z\" fill=\"#000000\" fill-rule=\"evenodd\" fill-opacity=\"1\" /><path clip-path=\"url(#clip350)\" d=\"M10.6626 243.893 L10.6626 238.8 Q18.1742 234.026 25.3674 231.671 Q32.5606 229.283 39.6584 229.283 Q46.788 229.283 54.0131 231.671 Q61.2382 234.026 68.7179 238.8 L68.7179 243.893 Q61.4291 239.66 54.2359 237.591 Q47.0108 235.49 39.6584 235.49 Q32.306 235.49 25.1446 237.591 Q17.9832 239.66 10.6626 243.893 Z\" fill=\"#000000\" fill-rule=\"evenodd\" fill-opacity=\"1\" /><path clip-path=\"url(#clip350)\" d=\"M698.952 9.54393 L706.446 9.54393 L706.446 46.7717 L728.685 27.2059 L738.205 27.2059 L714.143 48.4326 L739.218 72.576 L729.496 72.576 L706.446 50.4176 L706.446 72.576 L698.952 72.576 L698.952 9.54393 Z\" fill=\"#000000\" fill-rule=\"evenodd\" fill-opacity=\"1\" /><path clip-path=\"url(#clip350)\" d=\"M782.603 35.9153 Q785.398 30.8922 789.287 28.5022 Q793.176 26.1121 798.442 26.1121 Q805.531 26.1121 809.379 31.0947 Q813.228 36.0368 813.228 45.1919 L813.228 72.576 L805.734 72.576 L805.734 45.4349 Q805.734 38.913 803.425 35.7533 Q801.116 32.5936 796.376 32.5936 Q790.583 32.5936 787.221 36.4419 Q783.859 40.2903 783.859 46.9338 L783.859 72.576 L776.365 72.576 L776.365 45.4349 Q776.365 38.8725 774.056 35.7533 Q771.747 32.5936 766.926 32.5936 Q761.214 32.5936 757.852 36.4824 Q754.49 40.3308 754.49 46.9338 L754.49 72.576 L746.996 72.576 L746.996 27.2059 L754.49 27.2059 L754.49 34.2544 Q757.042 30.082 760.607 28.0971 Q764.171 26.1121 769.073 26.1121 Q774.015 26.1121 777.458 28.6237 Q780.942 31.1352 782.603 35.9153 Z\" fill=\"#000000\" fill-rule=\"evenodd\" fill-opacity=\"1\" /><path clip-path=\"url(#clip350)\" d=\"M866.902 48.0275 L866.902 51.6733 L832.632 51.6733 Q833.118 59.3701 837.25 63.421 Q841.422 67.4314 848.835 67.4314 Q853.129 67.4314 857.14 66.3781 Q861.191 65.3249 865.16 63.2184 L865.16 70.267 Q861.15 71.9684 856.937 72.8596 Q852.724 73.7508 848.39 73.7508 Q837.533 73.7508 831.173 67.4314 Q824.854 61.1119 824.854 50.3365 Q824.854 39.1965 830.849 32.6746 Q836.885 26.1121 847.093 26.1121 Q856.248 26.1121 861.555 32.0264 Q866.902 37.9003 866.902 48.0275 M859.449 45.84 Q859.368 39.7232 856.005 36.0774 Q852.684 32.4315 847.174 32.4315 Q840.936 32.4315 837.169 35.9558 Q833.442 39.4801 832.875 45.8805 L859.449 45.84 Z\" fill=\"#000000\" fill-rule=\"evenodd\" fill-opacity=\"1\" /><path clip-path=\"url(#clip350)\" d=\"M905.426 34.1734 Q904.171 33.4443 902.672 33.1202 Q901.213 32.7556 899.431 32.7556 Q893.112 32.7556 889.709 36.8875 Q886.347 40.9789 886.347 48.6757 L886.347 72.576 L878.852 72.576 L878.852 27.2059 L886.347 27.2059 L886.347 34.2544 Q888.696 30.1225 892.464 28.1376 Q896.231 26.1121 901.619 26.1121 Q902.388 26.1121 903.32 26.2337 Q904.252 26.3147 905.386 26.5172 L905.426 34.1734 Z\" fill=\"#000000\" fill-rule=\"evenodd\" fill-opacity=\"1\" /><path clip-path=\"url(#clip350)\" d=\"M962.585 9.54393 L962.585 15.7418 L955.455 15.7418 Q951.445 15.7418 949.865 17.3622 Q948.325 18.9825 948.325 23.1955 L948.325 27.2059 L960.6 27.2059 L960.6 32.9987 L948.325 32.9987 L948.325 72.576 L940.831 72.576 L940.831 32.9987 L933.702 32.9987 L933.702 27.2059 L940.831 27.2059 L940.831 24.0462 Q940.831 16.471 944.356 13.0277 Q947.88 9.54393 955.536 9.54393 L962.585 9.54393 Z\" fill=\"#000000\" fill-rule=\"evenodd\" fill-opacity=\"1\" /><path clip-path=\"url(#clip350)\" d=\"M995.113 34.1734 Q993.858 33.4443 992.359 33.1202 Q990.9 32.7556 989.118 32.7556 Q982.799 32.7556 979.396 36.8875 Q976.034 40.9789 976.034 48.6757 L976.034 72.576 L968.539 72.576 L968.539 27.2059 L976.034 27.2059 L976.034 34.2544 Q978.383 30.1225 982.151 28.1376 Q985.918 26.1121 991.306 26.1121 Q992.075 26.1121 993.007 26.2337 Q993.939 26.3147 995.073 26.5172 L995.113 34.1734 Z\" fill=\"#000000\" fill-rule=\"evenodd\" fill-opacity=\"1\" /><path clip-path=\"url(#clip350)\" d=\"M1039.92 48.0275 L1039.92 51.6733 L1005.65 51.6733 Q1006.13 59.3701 1010.26 63.421 Q1014.44 67.4314 1021.85 67.4314 Q1026.14 67.4314 1030.15 66.3781 Q1034.2 65.3249 1038.17 63.2184 L1038.17 70.267 Q1034.16 71.9684 1029.95 72.8596 Q1025.74 73.7508 1021.4 73.7508 Q1010.55 73.7508 1004.19 67.4314 Q997.868 61.1119 997.868 50.3365 Q997.868 39.1965 1003.86 32.6746 Q1009.9 26.1121 1020.11 26.1121 Q1029.26 26.1121 1034.57 32.0264 Q1039.92 37.9003 1039.92 48.0275 M1032.46 45.84 Q1032.38 39.7232 1029.02 36.0774 Q1025.7 32.4315 1020.19 32.4315 Q1013.95 32.4315 1010.18 35.9558 Q1006.46 39.4801 1005.89 45.8805 L1032.46 45.84 Z\" fill=\"#000000\" fill-rule=\"evenodd\" fill-opacity=\"1\" /><path clip-path=\"url(#clip350)\" d=\"M1056.61 49.9314 Q1056.61 58.1548 1059.97 62.8538 Q1063.37 67.5124 1069.29 67.5124 Q1075.2 67.5124 1078.6 62.8538 Q1082.01 58.1548 1082.01 49.9314 Q1082.01 41.7081 1078.6 37.0496 Q1075.2 32.3505 1069.29 32.3505 Q1063.37 32.3505 1059.97 37.0496 Q1056.61 41.7081 1056.61 49.9314 M1082.01 65.7705 Q1079.66 69.8214 1076.05 71.8063 Q1072.49 73.7508 1067.46 73.7508 Q1059.24 73.7508 1054.05 67.1883 Q1048.91 60.6258 1048.91 49.9314 Q1048.91 39.2371 1054.05 32.6746 Q1059.24 26.1121 1067.46 26.1121 Q1072.49 26.1121 1076.05 28.0971 Q1079.66 30.0415 1082.01 34.0924 L1082.01 27.2059 L1089.46 27.2059 L1089.46 89.8329 L1082.01 89.8329 L1082.01 65.7705 Z\" fill=\"#000000\" fill-rule=\"evenodd\" fill-opacity=\"1\" /><path clip-path=\"url(#clip350)\" d=\"M1104.04 54.671 L1104.04 27.2059 L1111.5 27.2059 L1111.5 54.3874 Q1111.5 60.8284 1114.01 64.0691 Q1116.52 67.2693 1121.54 67.2693 Q1127.58 67.2693 1131.06 63.421 Q1134.59 59.5726 1134.59 52.9291 L1134.59 27.2059 L1142.04 27.2059 L1142.04 72.576 L1134.59 72.576 L1134.59 65.6084 Q1131.87 69.7404 1128.27 71.7658 Q1124.7 73.7508 1119.96 73.7508 Q1112.14 73.7508 1108.09 68.8897 Q1104.04 64.0286 1104.04 54.671 M1122.8 26.1121 L1122.8 26.1121 Z\" fill=\"#000000\" fill-rule=\"evenodd\" fill-opacity=\"1\" /><path clip-path=\"url(#clip350)\" d=\"M1196.2 48.0275 L1196.2 51.6733 L1161.93 51.6733 Q1162.42 59.3701 1166.55 63.421 Q1170.72 67.4314 1178.13 67.4314 Q1182.43 67.4314 1186.44 66.3781 Q1190.49 65.3249 1194.46 63.2184 L1194.46 70.267 Q1190.45 71.9684 1186.24 72.8596 Q1182.02 73.7508 1177.69 73.7508 Q1166.83 73.7508 1160.47 67.4314 Q1154.15 61.1119 1154.15 50.3365 Q1154.15 39.1965 1160.15 32.6746 Q1166.18 26.1121 1176.39 26.1121 Q1185.55 26.1121 1190.85 32.0264 Q1196.2 37.9003 1196.2 48.0275 M1188.75 45.84 Q1188.67 39.7232 1185.3 36.0774 Q1181.98 32.4315 1176.47 32.4315 Q1170.23 32.4315 1166.47 35.9558 Q1162.74 39.4801 1162.17 45.8805 L1188.75 45.84 Z\" fill=\"#000000\" fill-rule=\"evenodd\" fill-opacity=\"1\" /><path clip-path=\"url(#clip350)\" d=\"M1246.15 45.1919 L1246.15 72.576 L1238.69 72.576 L1238.69 45.4349 Q1238.69 38.994 1236.18 35.7938 Q1233.67 32.5936 1228.65 32.5936 Q1222.61 32.5936 1219.13 36.4419 Q1215.64 40.2903 1215.64 46.9338 L1215.64 72.576 L1208.15 72.576 L1208.15 27.2059 L1215.64 27.2059 L1215.64 34.2544 Q1218.32 30.163 1221.92 28.1376 Q1225.57 26.1121 1230.31 26.1121 Q1238.13 26.1121 1242.14 30.9732 Q1246.15 35.7938 1246.15 45.1919 Z\" fill=\"#000000\" fill-rule=\"evenodd\" fill-opacity=\"1\" /><path clip-path=\"url(#clip350)\" d=\"M1293.67 28.9478 L1293.67 35.9153 Q1290.51 34.1734 1287.31 33.3227 Q1284.15 32.4315 1280.9 32.4315 Q1273.65 32.4315 1269.64 37.0496 Q1265.63 41.6271 1265.63 49.9314 Q1265.63 58.2358 1269.64 62.8538 Q1273.65 67.4314 1280.9 67.4314 Q1284.15 67.4314 1287.31 66.5807 Q1290.51 65.6895 1293.67 63.9476 L1293.67 70.8341 Q1290.55 72.2924 1287.18 73.0216 Q1283.86 73.7508 1280.09 73.7508 Q1269.85 73.7508 1263.81 67.3098 Q1257.77 60.8689 1257.77 49.9314 Q1257.77 38.832 1263.85 32.472 Q1269.97 26.1121 1280.58 26.1121 Q1284.02 26.1121 1287.31 26.8413 Q1290.59 27.5299 1293.67 28.9478 Z\" fill=\"#000000\" fill-rule=\"evenodd\" fill-opacity=\"1\" /><path clip-path=\"url(#clip350)\" d=\"M1306.63 27.2059 L1314.08 27.2059 L1314.08 72.576 L1306.63 72.576 L1306.63 27.2059 M1306.63 9.54393 L1314.08 9.54393 L1314.08 18.9825 L1306.63 18.9825 L1306.63 9.54393 Z\" fill=\"#000000\" fill-rule=\"evenodd\" fill-opacity=\"1\" /><path clip-path=\"url(#clip350)\" d=\"M1368.49 48.0275 L1368.49 51.6733 L1334.21 51.6733 Q1334.7 59.3701 1338.83 63.421 Q1343.01 67.4314 1350.42 67.4314 Q1354.71 67.4314 1358.72 66.3781 Q1362.77 65.3249 1366.74 63.2184 L1366.74 70.267 Q1362.73 71.9684 1358.52 72.8596 Q1354.31 73.7508 1349.97 73.7508 Q1339.12 73.7508 1332.76 67.4314 Q1326.44 61.1119 1326.44 50.3365 Q1326.44 39.1965 1332.43 32.6746 Q1338.47 26.1121 1348.68 26.1121 Q1357.83 26.1121 1363.14 32.0264 Q1368.49 37.9003 1368.49 48.0275 M1361.03 45.84 Q1360.95 39.7232 1357.59 36.0774 Q1354.27 32.4315 1348.76 32.4315 Q1342.52 32.4315 1338.75 35.9558 Q1335.02 39.4801 1334.46 45.8805 L1361.03 45.84 Z\" fill=\"#000000\" fill-rule=\"evenodd\" fill-opacity=\"1\" /><path clip-path=\"url(#clip350)\" d=\"M1409.64 28.5427 L1409.64 35.5912 Q1406.48 33.9709 1403.08 33.1607 Q1399.68 32.3505 1396.03 32.3505 Q1390.48 32.3505 1387.69 34.0519 Q1384.93 35.7533 1384.93 39.156 Q1384.93 41.7486 1386.92 43.2475 Q1388.9 44.7058 1394.9 46.0426 L1397.45 46.6097 Q1405.39 48.3111 1408.71 51.4303 Q1412.07 54.509 1412.07 60.0587 Q1412.07 66.3781 1407.05 70.0644 Q1402.07 73.7508 1393.32 73.7508 Q1389.67 73.7508 1385.7 73.0216 Q1381.77 72.3329 1377.4 70.9151 L1377.4 63.2184 Q1381.53 65.3654 1385.54 66.4591 Q1389.55 67.5124 1393.48 67.5124 Q1398.75 67.5124 1401.58 65.73 Q1404.42 63.9071 1404.42 60.6258 Q1404.42 57.5877 1402.35 55.9673 Q1400.33 54.3469 1393.4 52.8481 L1390.81 52.2405 Q1383.88 50.7821 1380.8 47.7845 Q1377.72 44.7463 1377.72 39.4801 Q1377.72 33.0797 1382.26 29.5959 Q1386.8 26.1121 1395.14 26.1121 Q1399.27 26.1121 1402.92 26.7198 Q1406.56 27.3274 1409.64 28.5427 Z\" fill=\"#000000\" fill-rule=\"evenodd\" fill-opacity=\"1\" /><circle clip-path=\"url(#clip352)\" cx=\"1620.02\" cy=\"849.7\" r=\"14\" fill=\"#009af9\" fill-rule=\"evenodd\" fill-opacity=\"1\" stroke=\"#000000\" stroke-opacity=\"1\" stroke-width=\"2\"/>\n",
       "<circle clip-path=\"url(#clip352)\" cx=\"1616.53\" cy=\"849.7\" r=\"14\" fill=\"#009af9\" fill-rule=\"evenodd\" fill-opacity=\"1\" stroke=\"#000000\" stroke-opacity=\"1\" stroke-width=\"2\"/>\n",
       "<circle clip-path=\"url(#clip352)\" cx=\"1623.47\" cy=\"849.7\" r=\"14\" fill=\"#009af9\" fill-rule=\"evenodd\" fill-opacity=\"1\" stroke=\"#000000\" stroke-opacity=\"1\" stroke-width=\"2\"/>\n",
       "<circle clip-path=\"url(#clip352)\" cx=\"381.807\" cy=\"849.7\" r=\"14\" fill=\"#009af9\" fill-rule=\"evenodd\" fill-opacity=\"1\" stroke=\"#000000\" stroke-opacity=\"1\" stroke-width=\"2\"/>\n",
       "<circle clip-path=\"url(#clip352)\" cx=\"512.568\" cy=\"630.055\" r=\"14\" fill=\"#009af9\" fill-rule=\"evenodd\" fill-opacity=\"1\" stroke=\"#000000\" stroke-opacity=\"1\" stroke-width=\"2\"/>\n",
       "<circle clip-path=\"url(#clip352)\" cx=\"158.269\" cy=\"308.281\" r=\"14\" fill=\"#009af9\" fill-rule=\"evenodd\" fill-opacity=\"1\" stroke=\"#000000\" stroke-opacity=\"1\" stroke-width=\"2\"/>\n",
       "<circle clip-path=\"url(#clip352)\" cx=\"1630.26\" cy=\"849.7\" r=\"14\" fill=\"#009af9\" fill-rule=\"evenodd\" fill-opacity=\"1\" stroke=\"#000000\" stroke-opacity=\"1\" stroke-width=\"2\"/>\n",
       "</svg>\n"
      ]
     },
     "execution_count": 18,
     "metadata": {},
     "output_type": "execute_result"
    }
   ],
   "source": [
    "kmer_counts = Dict(observation_graph.vprops[v][:kmer] => observation_graph.vprops[v][:weight] for v in LightGraphs.vertices(observation_graph))\n",
    "total_observed_kmers = sum(values(kmer_counts))\n",
    "kmer_probabilities = Dict(k => v/total_observed_kmers for (k,v) in kmer_counts)\n",
    "scale = 250\n",
    "Mycelia.plot_kmer_frequency_spectra(values(kmer_counts), size=(2scale,scale), title=\"kmer frequencies\")"
   ]
  },
  {
   "cell_type": "code",
   "execution_count": 19,
   "id": "fd15af69-a35c-45cf-8399-70bc287d11d7",
   "metadata": {},
   "outputs": [
    {
     "data": {
      "text/plain": [
       "0.8260869565217391"
      ]
     },
     "execution_count": 19,
     "metadata": {},
     "output_type": "execute_result"
    }
   ],
   "source": [
    "distance_to_reference_graph = 1 - LSHFunctions.jaccard(Set(reference_kmers), Set(keys(kmer_counts)))"
   ]
  },
  {
   "cell_type": "code",
   "execution_count": 20,
   "id": "b92d72a6-4129-4d75-8d98-7af0335cd46f",
   "metadata": {},
   "outputs": [],
   "source": [
    "# step 1, hard-filter singletons"
   ]
  },
  {
   "cell_type": "code",
   "execution_count": 21,
   "id": "eb04fd64-d13e-42b4-a519-d306eeb1cab2",
   "metadata": {},
   "outputs": [
    {
     "data": {
      "text/plain": [
       "4-element Vector{Int64}:\n",
       "  6\n",
       "  9\n",
       " 15\n",
       " 21"
      ]
     },
     "execution_count": 21,
     "metadata": {},
     "output_type": "execute_result"
    }
   ],
   "source": [
    "filtered_vertices = findall(v -> observation_graph.vprops[v][:weight] >= 5, LightGraphs.vertices(observation_graph))"
   ]
  },
  {
   "cell_type": "code",
   "execution_count": 22,
   "id": "0709502f-3ef2-4596-814b-7419217b1ecc",
   "metadata": {},
   "outputs": [
    {
     "data": {
      "text/plain": [
       "({4, 6} directed Int64 metagraph with Float64 weights defined by :weight (default weight 1.0), [6, 9, 15, 21])"
      ]
     },
     "execution_count": 22,
     "metadata": {},
     "output_type": "execute_result"
    }
   ],
   "source": [
    "filtered_observation_graph, vertex_map = LightGraphs.induced_subgraph(observation_graph, filtered_vertices)"
   ]
  },
  {
   "cell_type": "code",
   "execution_count": 23,
   "id": "ed22ec40-e72e-445f-a0fe-b38b3de73aae",
   "metadata": {},
   "outputs": [
    {
     "data": {
      "text/html": [
       "<img src=./../../../2021-08-22/LENGTH-10-DEPTH-100.fastq.k-7.filtered.gfa.svg>"
      ]
     },
     "metadata": {},
     "output_type": "display_data"
    }
   ],
   "source": [
    "# visualize\n",
    "gfa_file = observations_file * \".k-$k.filtered.gfa\"\n",
    "Mycelia.graph_to_gfa(filtered_observation_graph, gfa_file)\n",
    "\n",
    "run(`$(BANDAGE) image $(gfa_file) $(gfa_file).svg --depwidth .9 --deppower .9`)\n",
    "# --nodewidth <float> Average node width (0.5 to 1000, default: 5)\n",
    "# --depwidth <float>  Depth effect on width (0 to 1, default: 0.5)\n",
    "# --deppower <float>  Power of depth effect on width (0 to 1, default: 0.5)\n",
    "\n",
    "html_path_to_svg = \"./\" * repeat(\"../\", length(split(pwd(), '/')) - 3)\n",
    "html_path_to_svg *= replace(\"$(gfa_file).svg\", \"$(homedir())/\" => \"\")\n",
    "\n",
    "x = \"<img src=$(html_path_to_svg)>\"\n",
    "display(\"text/html\", x)\n",
    "# display(\"image/svg+xml\", read(\"$(gfa_file).svg\", String))"
   ]
  },
  {
   "cell_type": "code",
   "execution_count": 24,
   "id": "68b9c85f-981e-49dd-8711-8cdfbba9c9db",
   "metadata": {},
   "outputs": [
    {
     "data": {
      "image/svg+xml": [
       "<?xml version=\"1.0\" encoding=\"utf-8\"?>\n",
       "<svg xmlns=\"http://www.w3.org/2000/svg\" xmlns:xlink=\"http://www.w3.org/1999/xlink\" width=\"500\" height=\"250\" viewBox=\"0 0 2000 1000\">\n",
       "<defs>\n",
       "  <clipPath id=\"clip390\">\n",
       "    <rect x=\"0\" y=\"0\" width=\"2000\" height=\"1000\"/>\n",
       "  </clipPath>\n",
       "</defs>\n",
       "<path clip-path=\"url(#clip390)\" d=\"\n",
       "M0 1000 L2000 1000 L2000 0 L0 0  Z\n",
       "  \" fill=\"#ffffff\" fill-rule=\"evenodd\" fill-opacity=\"1\"/>\n",
       "<defs>\n",
       "  <clipPath id=\"clip391\">\n",
       "    <rect x=\"400\" y=\"0\" width=\"1401\" height=\"1000\"/>\n",
       "  </clipPath>\n",
       "</defs>\n",
       "<path clip-path=\"url(#clip390)\" d=\"\n",
       "M203.986 849.7 L1952.76 849.7 L1952.76 108.352 L203.986 108.352  Z\n",
       "  \" fill=\"#ffffff\" fill-rule=\"evenodd\" fill-opacity=\"1\"/>\n",
       "<defs>\n",
       "  <clipPath id=\"clip392\">\n",
       "    <rect x=\"203\" y=\"108\" width=\"1750\" height=\"742\"/>\n",
       "  </clipPath>\n",
       "</defs>\n",
       "<polyline clip-path=\"url(#clip392)\" style=\"stroke:#000000; stroke-linecap:butt; stroke-linejoin:round; stroke-width:2; stroke-opacity:0.1; fill:none\" points=\"\n",
       "  203.986,849.7 203.986,108.352 \n",
       "  \"/>\n",
       "<polyline clip-path=\"url(#clip392)\" style=\"stroke:#000000; stroke-linecap:butt; stroke-linejoin:round; stroke-width:2; stroke-opacity:0.1; fill:none\" points=\"\n",
       "  518.267,849.7 518.267,108.352 \n",
       "  \"/>\n",
       "<polyline clip-path=\"url(#clip392)\" style=\"stroke:#000000; stroke-linecap:butt; stroke-linejoin:round; stroke-width:2; stroke-opacity:0.1; fill:none\" points=\"\n",
       "  832.549,849.7 832.549,108.352 \n",
       "  \"/>\n",
       "<polyline clip-path=\"url(#clip392)\" style=\"stroke:#000000; stroke-linecap:butt; stroke-linejoin:round; stroke-width:2; stroke-opacity:0.1; fill:none\" points=\"\n",
       "  1146.83,849.7 1146.83,108.352 \n",
       "  \"/>\n",
       "<polyline clip-path=\"url(#clip392)\" style=\"stroke:#000000; stroke-linecap:butt; stroke-linejoin:round; stroke-width:2; stroke-opacity:0.1; fill:none\" points=\"\n",
       "  1461.11,849.7 1461.11,108.352 \n",
       "  \"/>\n",
       "<polyline clip-path=\"url(#clip392)\" style=\"stroke:#000000; stroke-linecap:butt; stroke-linejoin:round; stroke-width:2; stroke-opacity:0.1; fill:none\" points=\"\n",
       "  1775.39,849.7 1775.39,108.352 \n",
       "  \"/>\n",
       "<polyline clip-path=\"url(#clip390)\" style=\"stroke:#000000; stroke-linecap:butt; stroke-linejoin:round; stroke-width:4; stroke-opacity:1; fill:none\" points=\"\n",
       "  203.986,849.7 1952.76,849.7 \n",
       "  \"/>\n",
       "<polyline clip-path=\"url(#clip390)\" style=\"stroke:#000000; stroke-linecap:butt; stroke-linejoin:round; stroke-width:4; stroke-opacity:1; fill:none\" points=\"\n",
       "  203.986,849.7 203.986,830.802 \n",
       "  \"/>\n",
       "<polyline clip-path=\"url(#clip390)\" style=\"stroke:#000000; stroke-linecap:butt; stroke-linejoin:round; stroke-width:4; stroke-opacity:1; fill:none\" points=\"\n",
       "  518.267,849.7 518.267,830.802 \n",
       "  \"/>\n",
       "<polyline clip-path=\"url(#clip390)\" style=\"stroke:#000000; stroke-linecap:butt; stroke-linejoin:round; stroke-width:4; stroke-opacity:1; fill:none\" points=\"\n",
       "  832.549,849.7 832.549,830.802 \n",
       "  \"/>\n",
       "<polyline clip-path=\"url(#clip390)\" style=\"stroke:#000000; stroke-linecap:butt; stroke-linejoin:round; stroke-width:4; stroke-opacity:1; fill:none\" points=\"\n",
       "  1146.83,849.7 1146.83,830.802 \n",
       "  \"/>\n",
       "<polyline clip-path=\"url(#clip390)\" style=\"stroke:#000000; stroke-linecap:butt; stroke-linejoin:round; stroke-width:4; stroke-opacity:1; fill:none\" points=\"\n",
       "  1461.11,849.7 1461.11,830.802 \n",
       "  \"/>\n",
       "<polyline clip-path=\"url(#clip390)\" style=\"stroke:#000000; stroke-linecap:butt; stroke-linejoin:round; stroke-width:4; stroke-opacity:1; fill:none\" points=\"\n",
       "  1775.39,849.7 1775.39,830.802 \n",
       "  \"/>\n",
       "<path clip-path=\"url(#clip390)\" d=\"M203.986 875.691 Q200.375 875.691 198.546 879.255 Q196.741 882.797 196.741 889.927 Q196.741 897.033 198.546 900.598 Q200.375 904.139 203.986 904.139 Q207.621 904.139 209.426 900.598 Q211.255 897.033 211.255 889.927 Q211.255 882.797 209.426 879.255 Q207.621 875.691 203.986 875.691 M203.986 871.987 Q209.796 871.987 212.852 876.593 Q215.931 881.177 215.931 889.927 Q215.931 898.653 212.852 903.26 Q209.796 907.843 203.986 907.843 Q198.176 907.843 195.097 903.26 Q192.042 898.653 192.042 889.927 Q192.042 881.177 195.097 876.593 Q198.176 871.987 203.986 871.987 Z\" fill=\"#000000\" fill-rule=\"evenodd\" fill-opacity=\"1\" /><path clip-path=\"url(#clip390)\" d=\"M508.649 903.237 L516.288 903.237 L516.288 876.871 L507.978 878.538 L507.978 874.279 L516.242 872.612 L520.918 872.612 L520.918 903.237 L528.557 903.237 L528.557 907.172 L508.649 907.172 L508.649 903.237 Z\" fill=\"#000000\" fill-rule=\"evenodd\" fill-opacity=\"1\" /><path clip-path=\"url(#clip390)\" d=\"M827.201 903.237 L843.521 903.237 L843.521 907.172 L821.576 907.172 L821.576 903.237 Q824.238 900.482 828.822 895.852 Q833.428 891.2 834.609 889.857 Q836.854 887.334 837.734 885.598 Q838.636 883.839 838.636 882.149 Q838.636 879.394 836.692 877.658 Q834.771 875.922 831.669 875.922 Q829.47 875.922 827.016 876.686 Q824.586 877.45 821.808 879.001 L821.808 874.279 Q824.632 873.144 827.086 872.566 Q829.539 871.987 831.576 871.987 Q836.947 871.987 840.141 874.672 Q843.336 877.357 843.336 881.848 Q843.336 883.978 842.525 885.899 Q841.738 887.797 839.632 890.39 Q839.053 891.061 835.951 894.278 Q832.849 897.473 827.201 903.237 Z\" fill=\"#000000\" fill-rule=\"evenodd\" fill-opacity=\"1\" /><path clip-path=\"url(#clip390)\" d=\"M1151.08 888.538 Q1154.43 889.255 1156.31 891.524 Q1158.21 893.792 1158.21 897.126 Q1158.21 902.241 1154.69 905.042 Q1151.17 907.843 1144.69 907.843 Q1142.51 907.843 1140.2 907.403 Q1137.91 906.987 1135.45 906.13 L1135.45 901.616 Q1137.4 902.751 1139.71 903.329 Q1142.03 903.908 1144.55 903.908 Q1148.95 903.908 1151.24 902.172 Q1153.55 900.436 1153.55 897.126 Q1153.55 894.07 1151.4 892.357 Q1149.27 890.621 1145.45 890.621 L1141.42 890.621 L1141.42 886.778 L1145.64 886.778 Q1149.09 886.778 1150.92 885.413 Q1152.74 884.024 1152.74 881.431 Q1152.74 878.769 1150.85 877.357 Q1148.97 875.922 1145.45 875.922 Q1143.53 875.922 1141.33 876.339 Q1139.13 876.755 1136.49 877.635 L1136.49 873.468 Q1139.16 872.728 1141.47 872.357 Q1143.81 871.987 1145.87 871.987 Q1151.19 871.987 1154.29 874.417 Q1157.4 876.825 1157.4 880.945 Q1157.4 883.815 1155.75 885.806 Q1154.11 887.774 1151.08 888.538 Z\" fill=\"#000000\" fill-rule=\"evenodd\" fill-opacity=\"1\" /><path clip-path=\"url(#clip390)\" d=\"M1464.12 876.686 L1452.31 895.135 L1464.12 895.135 L1464.12 876.686 M1462.89 872.612 L1468.77 872.612 L1468.77 895.135 L1473.7 895.135 L1473.7 899.024 L1468.77 899.024 L1468.77 907.172 L1464.12 907.172 L1464.12 899.024 L1448.52 899.024 L1448.52 894.51 L1462.89 872.612 Z\" fill=\"#000000\" fill-rule=\"evenodd\" fill-opacity=\"1\" /><path clip-path=\"url(#clip390)\" d=\"M1765.67 872.612 L1784.03 872.612 L1784.03 876.547 L1769.95 876.547 L1769.95 885.019 Q1770.97 884.672 1771.99 884.51 Q1773.01 884.325 1774.03 884.325 Q1779.81 884.325 1783.19 887.496 Q1786.57 890.667 1786.57 896.084 Q1786.57 901.663 1783.1 904.764 Q1779.63 907.843 1773.31 907.843 Q1771.13 907.843 1768.86 907.473 Q1766.62 907.102 1764.21 906.362 L1764.21 901.663 Q1766.29 902.797 1768.52 903.352 Q1770.74 903.908 1773.22 903.908 Q1777.22 903.908 1779.56 901.802 Q1781.9 899.695 1781.9 896.084 Q1781.9 892.473 1779.56 890.366 Q1777.22 888.26 1773.22 888.26 Q1771.34 888.26 1769.47 888.677 Q1767.61 889.093 1765.67 889.973 L1765.67 872.612 Z\" fill=\"#000000\" fill-rule=\"evenodd\" fill-opacity=\"1\" /><path clip-path=\"url(#clip390)\" d=\"M684.207 939.039 L690.063 939.039 L690.063 988.564 L684.207 988.564 L684.207 939.039 Z\" fill=\"#000000\" fill-rule=\"evenodd\" fill-opacity=\"1\" /><path clip-path=\"url(#clip390)\" d=\"M716.131 957.022 Q711.42 957.022 708.683 960.714 Q705.945 964.374 705.945 970.772 Q705.945 977.169 708.651 980.861 Q711.388 984.522 716.131 984.522 Q720.809 984.522 723.547 980.83 Q726.284 977.137 726.284 970.772 Q726.284 964.438 723.547 960.746 Q720.809 957.022 716.131 957.022 M716.131 952.057 Q723.769 952.057 728.13 957.022 Q732.49 961.987 732.49 970.772 Q732.49 979.525 728.13 984.522 Q723.769 989.487 716.131 989.487 Q708.46 989.487 704.099 984.522 Q699.771 979.525 699.771 970.772 Q699.771 961.987 704.099 957.022 Q708.46 952.057 716.131 952.057 Z\" fill=\"#000000\" fill-rule=\"evenodd\" fill-opacity=\"1\" /><path clip-path=\"url(#clip390)\" d=\"M765.656 970.326 Q765.656 963.96 763.014 960.459 Q760.404 956.958 755.662 956.958 Q750.951 956.958 748.309 960.459 Q745.699 963.96 745.699 970.326 Q745.699 976.66 748.309 980.161 Q750.951 983.662 755.662 983.662 Q760.404 983.662 763.014 980.161 Q765.656 976.66 765.656 970.326 M771.512 984.14 Q771.512 993.243 767.47 997.667 Q763.428 1002.12 755.089 1002.12 Q752.001 1002.12 749.264 1001.65 Q746.527 1001.2 743.949 1000.24 L743.949 994.548 Q746.527 995.948 749.041 996.616 Q751.556 997.285 754.166 997.285 Q759.927 997.285 762.791 994.261 Q765.656 991.269 765.656 985.19 L765.656 982.294 Q763.842 985.445 761.009 987.004 Q758.176 988.564 754.229 988.564 Q747.673 988.564 743.662 983.567 Q739.652 978.57 739.652 970.326 Q739.652 962.051 743.662 957.054 Q747.673 952.057 754.229 952.057 Q758.176 952.057 761.009 953.616 Q763.842 955.176 765.656 958.327 L765.656 952.916 L771.512 952.916 L771.512 984.14 Z\" fill=\"#000000\" fill-rule=\"evenodd\" fill-opacity=\"1\" /><path clip-path=\"url(#clip390)\" d=\"M797.643 939.102 Q793.378 946.423 791.31 953.584 Q789.241 960.746 789.241 968.098 Q789.241 975.45 791.31 982.676 Q793.41 989.869 797.643 997.158 L792.551 997.158 Q787.777 989.678 785.389 982.453 Q783.034 975.228 783.034 968.098 Q783.034 961 785.389 953.807 Q787.745 946.614 792.551 939.102 L797.643 939.102 Z\" fill=\"#000000\" fill-rule=\"evenodd\" fill-opacity=\"1\" /><path clip-path=\"url(#clip390)\" d=\"M822.82 957.022 Q818.109 957.022 815.372 960.714 Q812.635 964.374 812.635 970.772 Q812.635 977.169 815.34 980.861 Q818.077 984.522 822.82 984.522 Q827.499 984.522 830.236 980.83 Q832.973 977.137 832.973 970.772 Q832.973 964.438 830.236 960.746 Q827.499 957.022 822.82 957.022 M822.82 952.057 Q830.459 952.057 834.819 957.022 Q839.18 961.987 839.18 970.772 Q839.18 979.525 834.819 984.522 Q830.459 989.487 822.82 989.487 Q815.149 989.487 810.789 984.522 Q806.46 979.525 806.46 970.772 Q806.46 961.987 810.789 957.022 Q815.149 952.057 822.82 952.057 Z\" fill=\"#000000\" fill-rule=\"evenodd\" fill-opacity=\"1\" /><path clip-path=\"url(#clip390)\" d=\"M874.478 970.772 Q874.478 964.311 871.804 960.65 Q869.162 956.958 864.515 956.958 Q859.868 956.958 857.195 960.65 Q854.553 964.311 854.553 970.772 Q854.553 977.233 857.195 980.925 Q859.868 984.585 864.515 984.585 Q869.162 984.585 871.804 980.925 Q874.478 977.233 874.478 970.772 M854.553 958.327 Q856.399 955.144 859.2 953.616 Q862.033 952.057 865.947 952.057 Q872.44 952.057 876.483 957.213 Q880.557 962.369 880.557 970.772 Q880.557 979.174 876.483 984.331 Q872.44 989.487 865.947 989.487 Q862.033 989.487 859.2 987.959 Q856.399 986.4 854.553 983.217 L854.553 988.564 L848.665 988.564 L848.665 939.039 L854.553 939.039 L854.553 958.327 Z\" fill=\"#000000\" fill-rule=\"evenodd\" fill-opacity=\"1\" /><path clip-path=\"url(#clip390)\" d=\"M912.99 953.966 L912.99 959.504 Q910.507 958.231 907.834 957.595 Q905.16 956.958 902.296 956.958 Q897.935 956.958 895.739 958.295 Q893.575 959.632 893.575 962.305 Q893.575 964.342 895.134 965.52 Q896.694 966.666 901.404 967.716 L903.41 968.162 Q909.648 969.499 912.258 971.949 Q914.9 974.368 914.9 978.729 Q914.9 983.694 910.953 986.59 Q907.038 989.487 900.163 989.487 Q897.299 989.487 894.179 988.914 Q891.092 988.373 887.655 987.259 L887.655 981.211 Q890.901 982.898 894.052 983.758 Q897.203 984.585 900.29 984.585 Q904.428 984.585 906.656 983.185 Q908.884 981.753 908.884 979.174 Q908.884 976.787 907.261 975.514 Q905.669 974.241 900.227 973.063 L898.19 972.586 Q892.747 971.44 890.328 969.085 Q887.909 966.698 887.909 962.56 Q887.909 957.531 891.474 954.794 Q895.039 952.057 901.595 952.057 Q904.842 952.057 907.706 952.534 Q910.571 953.011 912.99 953.966 Z\" fill=\"#000000\" fill-rule=\"evenodd\" fill-opacity=\"1\" /><path clip-path=\"url(#clip390)\" d=\"M954.717 969.276 L954.717 972.14 L927.79 972.14 Q928.172 978.188 931.419 981.371 Q934.697 984.522 940.522 984.522 Q943.896 984.522 947.047 983.694 Q950.229 982.867 953.349 981.211 L953.349 986.75 Q950.198 988.086 946.887 988.787 Q943.577 989.487 940.172 989.487 Q931.642 989.487 926.644 984.522 Q921.679 979.556 921.679 971.09 Q921.679 962.337 926.39 957.213 Q931.132 952.057 939.153 952.057 Q946.346 952.057 950.516 956.703 Q954.717 961.319 954.717 969.276 M948.861 967.557 Q948.797 962.751 946.155 959.886 Q943.545 957.022 939.217 957.022 Q934.315 957.022 931.355 959.791 Q928.427 962.56 927.981 967.589 L948.861 967.557 Z\" fill=\"#000000\" fill-rule=\"evenodd\" fill-opacity=\"1\" /><path clip-path=\"url(#clip390)\" d=\"M984.986 958.39 Q983.999 957.817 982.822 957.563 Q981.676 957.276 980.276 957.276 Q975.31 957.276 972.637 960.523 Q969.995 963.738 969.995 969.785 L969.995 988.564 L964.107 988.564 L964.107 952.916 L969.995 952.916 L969.995 958.454 Q971.841 955.208 974.801 953.648 Q977.761 952.057 981.994 952.057 Q982.599 952.057 983.331 952.152 Q984.063 952.216 984.954 952.375 L984.986 958.39 Z\" fill=\"#000000\" fill-rule=\"evenodd\" fill-opacity=\"1\" /><path clip-path=\"url(#clip390)\" d=\"M986.928 952.916 L993.134 952.916 L1004.27 982.835 L1015.41 952.916 L1021.62 952.916 L1008.25 988.564 L1000.3 988.564 L986.928 952.916 Z\" fill=\"#000000\" fill-rule=\"evenodd\" fill-opacity=\"1\" /><path clip-path=\"url(#clip390)\" d=\"M1060.2 969.276 L1060.2 972.14 L1033.27 972.14 Q1033.65 978.188 1036.9 981.371 Q1040.18 984.522 1046 984.522 Q1049.38 984.522 1052.53 983.694 Q1055.71 982.867 1058.83 981.211 L1058.83 986.75 Q1055.68 988.086 1052.37 988.787 Q1049.06 989.487 1045.65 989.487 Q1037.12 989.487 1032.12 984.522 Q1027.16 979.556 1027.16 971.09 Q1027.16 962.337 1031.87 957.213 Q1036.61 952.057 1044.63 952.057 Q1051.83 952.057 1056 956.703 Q1060.2 961.319 1060.2 969.276 M1054.34 967.557 Q1054.28 962.751 1051.64 959.886 Q1049.03 957.022 1044.7 957.022 Q1039.79 957.022 1036.83 959.791 Q1033.91 962.56 1033.46 967.589 L1054.34 967.557 Z\" fill=\"#000000\" fill-rule=\"evenodd\" fill-opacity=\"1\" /><path clip-path=\"url(#clip390)\" d=\"M1093.27 958.327 L1093.27 939.039 L1099.12 939.039 L1099.12 988.564 L1093.27 988.564 L1093.27 983.217 Q1091.42 986.4 1088.59 987.959 Q1085.79 989.487 1081.84 989.487 Q1075.38 989.487 1071.31 984.331 Q1067.26 979.174 1067.26 970.772 Q1067.26 962.369 1071.31 957.213 Q1075.38 952.057 1081.84 952.057 Q1085.79 952.057 1088.59 953.616 Q1091.42 955.144 1093.27 958.327 M1073.31 970.772 Q1073.31 977.233 1075.95 980.925 Q1078.63 984.585 1083.27 984.585 Q1087.92 984.585 1090.59 980.925 Q1093.27 977.233 1093.27 970.772 Q1093.27 964.311 1090.59 960.65 Q1087.92 956.958 1083.27 956.958 Q1078.63 956.958 1075.95 960.65 Q1073.31 964.311 1073.31 970.772 Z\" fill=\"#000000\" fill-rule=\"evenodd\" fill-opacity=\"1\" /><path clip-path=\"url(#clip390)\" d=\"M1149.95 939.039 L1149.95 943.908 L1144.35 943.908 Q1141.2 943.908 1139.96 945.182 Q1138.75 946.455 1138.75 949.765 L1138.75 952.916 L1148.39 952.916 L1148.39 957.467 L1138.75 957.467 L1138.75 988.564 L1132.86 988.564 L1132.86 957.467 L1127.26 957.467 L1127.26 952.916 L1132.86 952.916 L1132.86 950.433 Q1132.86 944.481 1135.63 941.776 Q1138.4 939.039 1144.42 939.039 L1149.95 939.039 Z\" fill=\"#000000\" fill-rule=\"evenodd\" fill-opacity=\"1\" /><path clip-path=\"url(#clip390)\" d=\"M1175.51 958.39 Q1174.53 957.817 1173.35 957.563 Q1172.2 957.276 1170.8 957.276 Q1165.84 957.276 1163.16 960.523 Q1160.52 963.738 1160.52 969.785 L1160.52 988.564 L1154.63 988.564 L1154.63 952.916 L1160.52 952.916 L1160.52 958.454 Q1162.37 955.208 1165.33 953.648 Q1168.29 952.057 1172.52 952.057 Q1173.12 952.057 1173.86 952.152 Q1174.59 952.216 1175.48 952.375 L1175.51 958.39 Z\" fill=\"#000000\" fill-rule=\"evenodd\" fill-opacity=\"1\" /><path clip-path=\"url(#clip390)\" d=\"M1210.71 969.276 L1210.71 972.14 L1183.79 972.14 Q1184.17 978.188 1187.42 981.371 Q1190.69 984.522 1196.52 984.522 Q1199.89 984.522 1203.04 983.694 Q1206.23 982.867 1209.35 981.211 L1209.35 986.75 Q1206.19 988.086 1202.88 988.787 Q1199.57 989.487 1196.17 989.487 Q1187.64 989.487 1182.64 984.522 Q1177.68 979.556 1177.68 971.09 Q1177.68 962.337 1182.39 957.213 Q1187.13 952.057 1195.15 952.057 Q1202.34 952.057 1206.51 956.703 Q1210.71 961.319 1210.71 969.276 M1204.86 967.557 Q1204.79 962.751 1202.15 959.886 Q1199.54 957.022 1195.21 957.022 Q1190.31 957.022 1187.35 959.791 Q1184.42 962.56 1183.98 967.589 L1204.86 967.557 Z\" fill=\"#000000\" fill-rule=\"evenodd\" fill-opacity=\"1\" /><path clip-path=\"url(#clip390)\" d=\"M1223.83 970.772 Q1223.83 977.233 1226.47 980.925 Q1229.14 984.585 1233.79 984.585 Q1238.44 984.585 1241.11 980.925 Q1243.78 977.233 1243.78 970.772 Q1243.78 964.311 1241.11 960.65 Q1238.44 956.958 1233.79 956.958 Q1229.14 956.958 1226.47 960.65 Q1223.83 964.311 1223.83 970.772 M1243.78 983.217 Q1241.94 986.4 1239.11 987.959 Q1236.3 989.487 1232.36 989.487 Q1225.9 989.487 1221.82 984.331 Q1217.78 979.174 1217.78 970.772 Q1217.78 962.369 1221.82 957.213 Q1225.9 952.057 1232.36 952.057 Q1236.3 952.057 1239.11 953.616 Q1241.94 955.144 1243.78 958.327 L1243.78 952.916 L1249.64 952.916 L1249.64 1002.12 L1243.78 1002.12 L1243.78 983.217 Z\" fill=\"#000000\" fill-rule=\"evenodd\" fill-opacity=\"1\" /><path clip-path=\"url(#clip390)\" d=\"M1261.1 974.496 L1261.1 952.916 L1266.96 952.916 L1266.96 974.273 Q1266.96 979.334 1268.93 981.88 Q1270.9 984.394 1274.85 984.394 Q1279.59 984.394 1282.33 981.371 Q1285.1 978.347 1285.1 973.127 L1285.1 952.916 L1290.95 952.916 L1290.95 988.564 L1285.1 988.564 L1285.1 983.089 Q1282.96 986.336 1280.13 987.927 Q1277.33 989.487 1273.61 989.487 Q1267.46 989.487 1264.28 985.667 Q1261.1 981.848 1261.1 974.496 M1275.84 952.057 L1275.84 952.057 Z\" fill=\"#000000\" fill-rule=\"evenodd\" fill-opacity=\"1\" /><path clip-path=\"url(#clip390)\" d=\"M1333.51 969.276 L1333.51 972.14 L1306.58 972.14 Q1306.96 978.188 1310.21 981.371 Q1313.49 984.522 1319.31 984.522 Q1322.69 984.522 1325.84 983.694 Q1329.02 982.867 1332.14 981.211 L1332.14 986.75 Q1328.99 988.086 1325.68 988.787 Q1322.37 989.487 1318.96 989.487 Q1310.43 989.487 1305.44 984.522 Q1300.47 979.556 1300.47 971.09 Q1300.47 962.337 1305.18 957.213 Q1309.92 952.057 1317.94 952.057 Q1325.14 952.057 1329.31 956.703 Q1333.51 961.319 1333.51 969.276 M1327.65 967.557 Q1327.59 962.751 1324.95 959.886 Q1322.34 957.022 1318.01 957.022 Q1313.11 957.022 1310.15 959.791 Q1307.22 962.56 1306.77 967.589 L1327.65 967.557 Z\" fill=\"#000000\" fill-rule=\"evenodd\" fill-opacity=\"1\" /><path clip-path=\"url(#clip390)\" d=\"M1372.75 967.048 L1372.75 988.564 L1366.9 988.564 L1366.9 967.239 Q1366.9 962.178 1364.92 959.664 Q1362.95 957.149 1359 957.149 Q1354.26 957.149 1351.52 960.173 Q1348.79 963.197 1348.79 968.416 L1348.79 988.564 L1342.9 988.564 L1342.9 952.916 L1348.79 952.916 L1348.79 958.454 Q1350.89 955.239 1353.72 953.648 Q1356.58 952.057 1360.31 952.057 Q1366.45 952.057 1369.6 955.876 Q1372.75 959.664 1372.75 967.048 Z\" fill=\"#000000\" fill-rule=\"evenodd\" fill-opacity=\"1\" /><path clip-path=\"url(#clip390)\" d=\"M1410.09 954.285 L1410.09 959.759 Q1407.61 958.39 1405.09 957.722 Q1402.61 957.022 1400.06 957.022 Q1394.36 957.022 1391.21 960.65 Q1388.06 964.247 1388.06 970.772 Q1388.06 977.297 1391.21 980.925 Q1394.36 984.522 1400.06 984.522 Q1402.61 984.522 1405.09 983.853 Q1407.61 983.153 1410.09 981.784 L1410.09 987.195 Q1407.64 988.341 1405 988.914 Q1402.39 989.487 1399.43 989.487 Q1391.37 989.487 1386.63 984.426 Q1381.89 979.365 1381.89 970.772 Q1381.89 962.051 1386.66 957.054 Q1391.47 952.057 1399.81 952.057 Q1402.51 952.057 1405.09 952.629 Q1407.67 953.171 1410.09 954.285 Z\" fill=\"#000000\" fill-rule=\"evenodd\" fill-opacity=\"1\" /><path clip-path=\"url(#clip390)\" d=\"M1435.11 991.874 Q1432.62 998.24 1430.27 1000.18 Q1427.91 1002.12 1423.97 1002.12 L1419.29 1002.12 L1419.29 997.221 L1422.72 997.221 Q1425.14 997.221 1426.48 996.075 Q1427.82 994.93 1429.44 990.665 L1430.49 987.991 L1416.07 952.916 L1422.28 952.916 L1433.42 980.798 L1444.56 952.916 L1450.76 952.916 L1435.11 991.874 Z\" fill=\"#000000\" fill-rule=\"evenodd\" fill-opacity=\"1\" /><path clip-path=\"url(#clip390)\" d=\"M1457.93 939.102 L1463.02 939.102 Q1467.79 946.614 1470.15 953.807 Q1472.54 961 1472.54 968.098 Q1472.54 975.228 1470.15 982.453 Q1467.79 989.678 1463.02 997.158 L1457.93 997.158 Q1462.16 989.869 1464.23 982.676 Q1466.33 975.45 1466.33 968.098 Q1466.33 960.746 1464.23 953.584 Q1462.16 946.423 1457.93 939.102 Z\" fill=\"#000000\" fill-rule=\"evenodd\" fill-opacity=\"1\" /><polyline clip-path=\"url(#clip392)\" style=\"stroke:#000000; stroke-linecap:butt; stroke-linejoin:round; stroke-width:2; stroke-opacity:0.1; fill:none\" points=\"\n",
       "  203.986,849.7 1952.76,849.7 \n",
       "  \"/>\n",
       "<polyline clip-path=\"url(#clip392)\" style=\"stroke:#000000; stroke-linecap:butt; stroke-linejoin:round; stroke-width:2; stroke-opacity:0.1; fill:none\" points=\"\n",
       "  203.986,701.43 1952.76,701.43 \n",
       "  \"/>\n",
       "<polyline clip-path=\"url(#clip392)\" style=\"stroke:#000000; stroke-linecap:butt; stroke-linejoin:round; stroke-width:2; stroke-opacity:0.1; fill:none\" points=\"\n",
       "  203.986,553.161 1952.76,553.161 \n",
       "  \"/>\n",
       "<polyline clip-path=\"url(#clip392)\" style=\"stroke:#000000; stroke-linecap:butt; stroke-linejoin:round; stroke-width:2; stroke-opacity:0.1; fill:none\" points=\"\n",
       "  203.986,404.891 1952.76,404.891 \n",
       "  \"/>\n",
       "<polyline clip-path=\"url(#clip392)\" style=\"stroke:#000000; stroke-linecap:butt; stroke-linejoin:round; stroke-width:2; stroke-opacity:0.1; fill:none\" points=\"\n",
       "  203.986,256.622 1952.76,256.622 \n",
       "  \"/>\n",
       "<polyline clip-path=\"url(#clip392)\" style=\"stroke:#000000; stroke-linecap:butt; stroke-linejoin:round; stroke-width:2; stroke-opacity:0.1; fill:none\" points=\"\n",
       "  203.986,108.352 1952.76,108.352 \n",
       "  \"/>\n",
       "<polyline clip-path=\"url(#clip390)\" style=\"stroke:#000000; stroke-linecap:butt; stroke-linejoin:round; stroke-width:4; stroke-opacity:1; fill:none\" points=\"\n",
       "  203.986,849.7 203.986,108.352 \n",
       "  \"/>\n",
       "<polyline clip-path=\"url(#clip390)\" style=\"stroke:#000000; stroke-linecap:butt; stroke-linejoin:round; stroke-width:4; stroke-opacity:1; fill:none\" points=\"\n",
       "  203.986,849.7 222.884,849.7 \n",
       "  \"/>\n",
       "<polyline clip-path=\"url(#clip390)\" style=\"stroke:#000000; stroke-linecap:butt; stroke-linejoin:round; stroke-width:4; stroke-opacity:1; fill:none\" points=\"\n",
       "  203.986,701.43 222.884,701.43 \n",
       "  \"/>\n",
       "<polyline clip-path=\"url(#clip390)\" style=\"stroke:#000000; stroke-linecap:butt; stroke-linejoin:round; stroke-width:4; stroke-opacity:1; fill:none\" points=\"\n",
       "  203.986,553.161 222.884,553.161 \n",
       "  \"/>\n",
       "<polyline clip-path=\"url(#clip390)\" style=\"stroke:#000000; stroke-linecap:butt; stroke-linejoin:round; stroke-width:4; stroke-opacity:1; fill:none\" points=\"\n",
       "  203.986,404.891 222.884,404.891 \n",
       "  \"/>\n",
       "<polyline clip-path=\"url(#clip390)\" style=\"stroke:#000000; stroke-linecap:butt; stroke-linejoin:round; stroke-width:4; stroke-opacity:1; fill:none\" points=\"\n",
       "  203.986,256.622 222.884,256.622 \n",
       "  \"/>\n",
       "<polyline clip-path=\"url(#clip390)\" style=\"stroke:#000000; stroke-linecap:butt; stroke-linejoin:round; stroke-width:4; stroke-opacity:1; fill:none\" points=\"\n",
       "  203.986,108.352 222.884,108.352 \n",
       "  \"/>\n",
       "<path clip-path=\"url(#clip390)\" d=\"M116.811 835.499 Q113.2 835.499 111.371 839.063 Q109.565 842.605 109.565 849.735 Q109.565 856.841 111.371 860.406 Q113.2 863.947 116.811 863.947 Q120.445 863.947 122.25 860.406 Q124.079 856.841 124.079 849.735 Q124.079 842.605 122.25 839.063 Q120.445 835.499 116.811 835.499 M116.811 831.795 Q122.621 831.795 125.676 836.401 Q128.755 840.985 128.755 849.735 Q128.755 858.461 125.676 863.068 Q122.621 867.651 116.811 867.651 Q111 867.651 107.922 863.068 Q104.866 858.461 104.866 849.735 Q104.866 840.985 107.922 836.401 Q111 831.795 116.811 831.795 Z\" fill=\"#000000\" fill-rule=\"evenodd\" fill-opacity=\"1\" /><path clip-path=\"url(#clip390)\" d=\"M136.973 861.1 L141.857 861.1 L141.857 866.98 L136.973 866.98 L136.973 861.1 Z\" fill=\"#000000\" fill-rule=\"evenodd\" fill-opacity=\"1\" /><path clip-path=\"url(#clip390)\" d=\"M162.042 835.499 Q158.431 835.499 156.602 839.063 Q154.797 842.605 154.797 849.735 Q154.797 856.841 156.602 860.406 Q158.431 863.947 162.042 863.947 Q165.676 863.947 167.482 860.406 Q169.31 856.841 169.31 849.735 Q169.31 842.605 167.482 839.063 Q165.676 835.499 162.042 835.499 M162.042 831.795 Q167.852 831.795 170.908 836.401 Q173.986 840.985 173.986 849.735 Q173.986 858.461 170.908 863.068 Q167.852 867.651 162.042 867.651 Q156.232 867.651 153.153 863.068 Q150.098 858.461 150.098 849.735 Q150.098 840.985 153.153 836.401 Q156.232 831.795 162.042 831.795 Z\" fill=\"#000000\" fill-rule=\"evenodd\" fill-opacity=\"1\" /><path clip-path=\"url(#clip390)\" d=\"M118.408 687.229 Q114.797 687.229 112.968 690.794 Q111.163 694.335 111.163 701.465 Q111.163 708.571 112.968 712.136 Q114.797 715.678 118.408 715.678 Q122.042 715.678 123.848 712.136 Q125.676 708.571 125.676 701.465 Q125.676 694.335 123.848 690.794 Q122.042 687.229 118.408 687.229 M118.408 683.525 Q124.218 683.525 127.274 688.132 Q130.352 692.715 130.352 701.465 Q130.352 710.192 127.274 714.798 Q124.218 719.382 118.408 719.382 Q112.598 719.382 109.519 714.798 Q106.463 710.192 106.463 701.465 Q106.463 692.715 109.519 688.132 Q112.598 683.525 118.408 683.525 Z\" fill=\"#000000\" fill-rule=\"evenodd\" fill-opacity=\"1\" /><path clip-path=\"url(#clip390)\" d=\"M138.57 712.831 L143.454 712.831 L143.454 718.71 L138.57 718.71 L138.57 712.831 Z\" fill=\"#000000\" fill-rule=\"evenodd\" fill-opacity=\"1\" /><path clip-path=\"url(#clip390)\" d=\"M157.667 714.775 L173.986 714.775 L173.986 718.71 L152.042 718.71 L152.042 714.775 Q154.704 712.021 159.287 707.391 Q163.894 702.738 165.074 701.396 Q167.32 698.872 168.199 697.136 Q169.102 695.377 169.102 693.687 Q169.102 690.933 167.158 689.197 Q165.236 687.46 162.134 687.46 Q159.935 687.46 157.482 688.224 Q155.051 688.988 152.273 690.539 L152.273 685.817 Q155.097 684.683 157.551 684.104 Q160.005 683.525 162.042 683.525 Q167.412 683.525 170.607 686.21 Q173.801 688.896 173.801 693.386 Q173.801 695.516 172.991 697.437 Q172.204 699.335 170.097 701.928 Q169.519 702.599 166.417 705.817 Q163.315 709.011 157.667 714.775 Z\" fill=\"#000000\" fill-rule=\"evenodd\" fill-opacity=\"1\" /><path clip-path=\"url(#clip390)\" d=\"M116.325 538.959 Q112.713 538.959 110.885 542.524 Q109.079 546.066 109.079 553.195 Q109.079 560.302 110.885 563.867 Q112.713 567.408 116.325 567.408 Q119.959 567.408 121.764 563.867 Q123.593 560.302 123.593 553.195 Q123.593 546.066 121.764 542.524 Q119.959 538.959 116.325 538.959 M116.325 535.256 Q122.135 535.256 125.19 539.862 Q128.269 544.446 128.269 553.195 Q128.269 561.922 125.19 566.529 Q122.135 571.112 116.325 571.112 Q110.514 571.112 107.436 566.529 Q104.38 561.922 104.38 553.195 Q104.38 544.446 107.436 539.862 Q110.514 535.256 116.325 535.256 Z\" fill=\"#000000\" fill-rule=\"evenodd\" fill-opacity=\"1\" /><path clip-path=\"url(#clip390)\" d=\"M136.486 564.561 L141.371 564.561 L141.371 570.441 L136.486 570.441 L136.486 564.561 Z\" fill=\"#000000\" fill-rule=\"evenodd\" fill-opacity=\"1\" /><path clip-path=\"url(#clip390)\" d=\"M164.403 539.955 L152.597 558.404 L164.403 558.404 L164.403 539.955 M163.176 535.881 L169.056 535.881 L169.056 558.404 L173.986 558.404 L173.986 562.293 L169.056 562.293 L169.056 570.441 L164.403 570.441 L164.403 562.293 L148.801 562.293 L148.801 557.779 L163.176 535.881 Z\" fill=\"#000000\" fill-rule=\"evenodd\" fill-opacity=\"1\" /><path clip-path=\"url(#clip390)\" d=\"M116.649 390.69 Q113.038 390.69 111.209 394.255 Q109.403 397.796 109.403 404.926 Q109.403 412.032 111.209 415.597 Q113.038 419.139 116.649 419.139 Q120.283 419.139 122.088 415.597 Q123.917 412.032 123.917 404.926 Q123.917 397.796 122.088 394.255 Q120.283 390.69 116.649 390.69 M116.649 386.986 Q122.459 386.986 125.514 391.593 Q128.593 396.176 128.593 404.926 Q128.593 413.653 125.514 418.259 Q122.459 422.843 116.649 422.843 Q110.838 422.843 107.76 418.259 Q104.704 413.653 104.704 404.926 Q104.704 396.176 107.76 391.593 Q110.838 386.986 116.649 386.986 Z\" fill=\"#000000\" fill-rule=\"evenodd\" fill-opacity=\"1\" /><path clip-path=\"url(#clip390)\" d=\"M136.811 416.292 L141.695 416.292 L141.695 422.171 L136.811 422.171 L136.811 416.292 Z\" fill=\"#000000\" fill-rule=\"evenodd\" fill-opacity=\"1\" /><path clip-path=\"url(#clip390)\" d=\"M162.459 403.028 Q159.31 403.028 157.459 405.181 Q155.63 407.333 155.63 411.083 Q155.63 414.81 157.459 416.986 Q159.31 419.139 162.459 419.139 Q165.607 419.139 167.435 416.986 Q169.287 414.81 169.287 411.083 Q169.287 407.333 167.435 405.181 Q165.607 403.028 162.459 403.028 M171.741 388.375 L171.741 392.634 Q169.982 391.801 168.176 391.361 Q166.394 390.921 164.634 390.921 Q160.005 390.921 157.551 394.046 Q155.121 397.171 154.773 403.491 Q156.139 401.477 158.199 400.412 Q160.259 399.324 162.736 399.324 Q167.945 399.324 170.954 402.495 Q173.986 405.644 173.986 411.083 Q173.986 416.407 170.838 419.625 Q167.69 422.843 162.459 422.843 Q156.463 422.843 153.292 418.259 Q150.121 413.653 150.121 404.926 Q150.121 396.732 154.01 391.87 Q157.898 386.986 164.449 386.986 Q166.209 386.986 167.991 387.333 Q169.796 387.681 171.741 388.375 Z\" fill=\"#000000\" fill-rule=\"evenodd\" fill-opacity=\"1\" /><path clip-path=\"url(#clip390)\" d=\"M116.903 242.42 Q113.292 242.42 111.463 245.985 Q109.658 249.527 109.658 256.656 Q109.658 263.763 111.463 267.328 Q113.292 270.869 116.903 270.869 Q120.537 270.869 122.343 267.328 Q124.172 263.763 124.172 256.656 Q124.172 249.527 122.343 245.985 Q120.537 242.42 116.903 242.42 M116.903 238.717 Q122.713 238.717 125.769 243.323 Q128.848 247.906 128.848 256.656 Q128.848 265.383 125.769 269.99 Q122.713 274.573 116.903 274.573 Q111.093 274.573 108.014 269.99 Q104.959 265.383 104.959 256.656 Q104.959 247.906 108.014 243.323 Q111.093 238.717 116.903 238.717 Z\" fill=\"#000000\" fill-rule=\"evenodd\" fill-opacity=\"1\" /><path clip-path=\"url(#clip390)\" d=\"M137.065 268.022 L141.949 268.022 L141.949 273.902 L137.065 273.902 L137.065 268.022 Z\" fill=\"#000000\" fill-rule=\"evenodd\" fill-opacity=\"1\" /><path clip-path=\"url(#clip390)\" d=\"M162.134 257.49 Q158.801 257.49 156.88 259.272 Q154.982 261.055 154.982 264.179 Q154.982 267.304 156.88 269.087 Q158.801 270.869 162.134 270.869 Q165.468 270.869 167.389 269.087 Q169.31 267.281 169.31 264.179 Q169.31 261.055 167.389 259.272 Q165.491 257.49 162.134 257.49 M157.459 255.499 Q154.449 254.758 152.76 252.698 Q151.093 250.638 151.093 247.675 Q151.093 243.531 154.033 241.124 Q156.996 238.717 162.134 238.717 Q167.296 238.717 170.236 241.124 Q173.176 243.531 173.176 247.675 Q173.176 250.638 171.486 252.698 Q169.82 254.758 166.834 255.499 Q170.213 256.286 172.088 258.578 Q173.986 260.869 173.986 264.179 Q173.986 269.203 170.908 271.888 Q167.852 274.573 162.134 274.573 Q156.417 274.573 153.338 271.888 Q150.283 269.203 150.283 264.179 Q150.283 260.869 152.181 258.578 Q154.079 256.286 157.459 255.499 M155.746 248.115 Q155.746 250.8 157.412 252.305 Q159.102 253.809 162.134 253.809 Q165.144 253.809 166.834 252.305 Q168.546 250.8 168.546 248.115 Q168.546 245.43 166.834 243.925 Q165.144 242.42 162.134 242.42 Q159.102 242.42 157.412 243.925 Q155.746 245.43 155.746 248.115 Z\" fill=\"#000000\" fill-rule=\"evenodd\" fill-opacity=\"1\" /><path clip-path=\"url(#clip390)\" d=\"M107.621 121.697 L115.26 121.697 L115.26 95.3314 L106.95 96.998 L106.95 92.7388 L115.213 91.0721 L119.889 91.0721 L119.889 121.697 L127.528 121.697 L127.528 125.632 L107.621 125.632 L107.621 121.697 Z\" fill=\"#000000\" fill-rule=\"evenodd\" fill-opacity=\"1\" /><path clip-path=\"url(#clip390)\" d=\"M136.973 119.753 L141.857 119.753 L141.857 125.632 L136.973 125.632 L136.973 119.753 Z\" fill=\"#000000\" fill-rule=\"evenodd\" fill-opacity=\"1\" /><path clip-path=\"url(#clip390)\" d=\"M162.042 94.1508 Q158.431 94.1508 156.602 97.7156 Q154.797 101.257 154.797 108.387 Q154.797 115.493 156.602 119.058 Q158.431 122.6 162.042 122.6 Q165.676 122.6 167.482 119.058 Q169.31 115.493 169.31 108.387 Q169.31 101.257 167.482 97.7156 Q165.676 94.1508 162.042 94.1508 M162.042 90.4471 Q167.852 90.4471 170.908 95.0536 Q173.986 99.6369 173.986 108.387 Q173.986 117.114 170.908 121.72 Q167.852 126.303 162.042 126.303 Q156.232 126.303 153.153 121.72 Q150.098 117.114 150.098 108.387 Q150.098 99.6369 153.153 95.0536 Q156.232 90.4471 162.042 90.4471 Z\" fill=\"#000000\" fill-rule=\"evenodd\" fill-opacity=\"1\" /><path clip-path=\"url(#clip390)\" d=\"M10.599 728.769 L10.599 722.912 L60.1242 722.912 L60.1242 728.769 L10.599 728.769 Z\" fill=\"#000000\" fill-rule=\"evenodd\" fill-opacity=\"1\" /><path clip-path=\"url(#clip390)\" d=\"M28.5821 696.845 Q28.5821 701.555 32.2742 704.292 Q35.9345 707.03 42.332 707.03 Q48.7295 707.03 52.4217 704.324 Q56.0819 701.587 56.0819 696.845 Q56.0819 692.166 52.3898 689.429 Q48.6977 686.691 42.332 686.691 Q35.9981 686.691 32.306 689.429 Q28.5821 692.166 28.5821 696.845 M23.6168 696.845 Q23.6168 689.206 28.5821 684.845 Q33.5473 680.485 42.332 680.485 Q51.0849 680.485 56.0819 684.845 Q61.0472 689.206 61.0472 696.845 Q61.0472 704.515 56.0819 708.876 Q51.0849 713.204 42.332 713.204 Q33.5473 713.204 28.5821 708.876 Q23.6168 704.515 23.6168 696.845 Z\" fill=\"#000000\" fill-rule=\"evenodd\" fill-opacity=\"1\" /><path clip-path=\"url(#clip390)\" d=\"M41.8864 647.319 Q35.5207 647.319 32.0196 649.961 Q28.5184 652.571 28.5184 657.314 Q28.5184 662.024 32.0196 664.666 Q35.5207 667.276 41.8864 667.276 Q48.2203 667.276 51.7214 664.666 Q55.2226 662.024 55.2226 657.314 Q55.2226 652.571 51.7214 649.961 Q48.2203 647.319 41.8864 647.319 M55.7 641.463 Q64.803 641.463 69.2271 645.505 Q73.6831 649.547 73.6831 657.886 Q73.6831 660.974 73.2057 663.711 Q72.7601 666.448 71.8052 669.026 L66.1079 669.026 Q67.5084 666.448 68.1768 663.934 Q68.8452 661.419 68.8452 658.809 Q68.8452 653.048 65.8215 650.184 Q62.8296 647.319 56.7503 647.319 L53.8539 647.319 Q57.005 649.134 58.5646 651.966 Q60.1242 654.799 60.1242 658.746 Q60.1242 665.302 55.1271 669.313 Q50.13 673.323 41.8864 673.323 Q33.611 673.323 28.6139 669.313 Q23.6168 665.302 23.6168 658.746 Q23.6168 654.799 25.1764 651.966 Q26.736 649.134 29.8871 647.319 L24.4762 647.319 L24.4762 641.463 L55.7 641.463 Z\" fill=\"#000000\" fill-rule=\"evenodd\" fill-opacity=\"1\" /><path clip-path=\"url(#clip390)\" d=\"M10.6626 615.332 Q17.9832 619.597 25.1446 621.666 Q32.306 623.734 39.6584 623.734 Q47.0108 623.734 54.2359 621.666 Q61.4291 619.565 68.7179 615.332 L68.7179 620.424 Q61.2382 625.199 54.0131 627.586 Q46.788 629.941 39.6584 629.941 Q32.5606 629.941 25.3674 627.586 Q18.1742 625.23 10.6626 620.424 L10.6626 615.332 Z\" fill=\"#000000\" fill-rule=\"evenodd\" fill-opacity=\"1\" /><path clip-path=\"url(#clip390)\" d=\"M31.4466 576.787 L31.4466 586.049 L42.0774 588.723 L42.0774 579.397 L31.4466 576.787 M13.3362 581.562 L26.5451 584.872 L26.5451 575.578 L13.3362 572.236 L13.3362 567.143 L26.5451 570.422 L26.5451 560.491 L31.4466 560.491 L31.4466 571.663 L42.0774 574.273 L42.0774 564.151 L46.9471 564.151 L46.9471 575.514 L60.1242 578.824 L60.1242 583.917 L46.9471 580.639 L46.9471 589.964 L60.1242 593.243 L60.1242 598.367 L46.9471 595.057 L46.9471 605.083 L42.0774 605.083 L42.0774 593.879 L31.4466 591.206 L31.4466 601.454 L26.5451 601.454 L26.5451 589.964 L13.3362 586.718 L13.3362 581.562 Z\" fill=\"#000000\" fill-rule=\"evenodd\" fill-opacity=\"1\" /><path clip-path=\"url(#clip390)\" d=\"M28.5821 514.817 Q28.5821 519.528 32.2742 522.265 Q35.9345 525.002 42.332 525.002 Q48.7295 525.002 52.4217 522.297 Q56.0819 519.56 56.0819 514.817 Q56.0819 510.138 52.3898 507.401 Q48.6977 504.664 42.332 504.664 Q35.9981 504.664 32.306 507.401 Q28.5821 510.138 28.5821 514.817 M23.6168 514.817 Q23.6168 507.178 28.5821 502.818 Q33.5473 498.457 42.332 498.457 Q51.0849 498.457 56.0819 502.818 Q61.0472 507.178 61.0472 514.817 Q61.0472 522.488 56.0819 526.848 Q51.0849 531.177 42.332 531.177 Q33.5473 531.177 28.5821 526.848 Q23.6168 522.488 23.6168 514.817 Z\" fill=\"#000000\" fill-rule=\"evenodd\" fill-opacity=\"1\" /><path clip-path=\"url(#clip390)\" d=\"M10.599 470.703 L15.4687 470.703 L15.4687 476.305 Q15.4687 479.456 16.7419 480.697 Q18.015 481.906 21.3252 481.906 L24.4762 481.906 L24.4762 472.262 L29.0277 472.262 L29.0277 481.906 L60.1242 481.906 L60.1242 487.795 L29.0277 487.795 L29.0277 493.397 L24.4762 493.397 L24.4762 487.795 L21.9936 487.795 Q16.0416 487.795 13.3362 485.026 Q10.599 482.257 10.599 476.241 L10.599 470.703 Z\" fill=\"#000000\" fill-rule=\"evenodd\" fill-opacity=\"1\" /><path clip-path=\"url(#clip390)\" d=\"M10.599 445.304 L10.599 439.415 L39.8494 439.415 L24.4762 421.942 L24.4762 414.462 L41.1544 433.368 L60.1242 413.666 L60.1242 421.305 L42.7139 439.415 L60.1242 439.415 L60.1242 445.304 L10.599 445.304 Z\" fill=\"#000000\" fill-rule=\"evenodd\" fill-opacity=\"1\" /><path clip-path=\"url(#clip390)\" d=\"M31.3193 379.578 Q27.3726 377.382 25.4947 374.326 Q23.6168 371.27 23.6168 367.133 Q23.6168 361.563 27.5317 358.539 Q31.4148 355.515 38.6081 355.515 L60.1242 355.515 L60.1242 361.404 L38.799 361.404 Q33.6746 361.404 31.192 363.218 Q28.7094 365.032 28.7094 368.756 Q28.7094 373.308 31.7331 375.949 Q34.7568 378.591 39.9767 378.591 L60.1242 378.591 L60.1242 384.479 L38.799 384.479 Q33.6428 384.479 31.192 386.294 Q28.7094 388.108 28.7094 391.895 Q28.7094 396.383 31.7649 399.025 Q34.7886 401.667 39.9767 401.667 L60.1242 401.667 L60.1242 407.555 L24.4762 407.555 L24.4762 401.667 L30.0144 401.667 Q26.736 399.662 25.1764 396.861 Q23.6168 394.06 23.6168 390.208 Q23.6168 386.325 25.5902 383.62 Q27.5636 380.883 31.3193 379.578 Z\" fill=\"#000000\" fill-rule=\"evenodd\" fill-opacity=\"1\" /><path clip-path=\"url(#clip390)\" d=\"M40.8361 313.343 L43.7006 313.343 L43.7006 340.269 Q49.7481 339.888 52.9309 336.641 Q56.0819 333.363 56.0819 327.538 Q56.0819 324.164 55.2544 321.013 Q54.4269 317.83 52.7718 314.711 L58.3099 314.711 Q59.6467 317.862 60.347 321.172 Q61.0472 324.483 61.0472 327.888 Q61.0472 336.418 56.0819 341.415 Q51.1167 346.381 42.6503 346.381 Q33.8974 346.381 28.7731 341.67 Q23.6168 336.927 23.6168 328.907 Q23.6168 321.713 28.2638 317.544 Q32.8789 313.343 40.8361 313.343 M39.1173 319.199 Q34.3112 319.263 31.4466 321.904 Q28.5821 324.514 28.5821 328.843 Q28.5821 333.745 31.3512 336.705 Q34.1202 339.633 39.1492 340.079 L39.1173 319.199 Z\" fill=\"#000000\" fill-rule=\"evenodd\" fill-opacity=\"1\" /><path clip-path=\"url(#clip390)\" d=\"M29.9507 283.074 Q29.3778 284.06 29.1232 285.238 Q28.8367 286.384 28.8367 287.784 Q28.8367 292.749 32.0832 295.423 Q35.2979 298.065 41.3453 298.065 L60.1242 298.065 L60.1242 303.953 L24.4762 303.953 L24.4762 298.065 L30.0144 298.065 Q26.7679 296.219 25.2083 293.259 Q23.6168 290.299 23.6168 286.066 Q23.6168 285.461 23.7123 284.729 Q23.776 283.997 23.9351 283.105 L29.9507 283.074 Z\" fill=\"#000000\" fill-rule=\"evenodd\" fill-opacity=\"1\" /><path clip-path=\"url(#clip390)\" d=\"M25.5265 254.205 L31.0647 254.205 Q29.7916 256.688 29.155 259.361 Q28.5184 262.035 28.5184 264.9 Q28.5184 269.26 29.8552 271.456 Q31.192 273.621 33.8656 273.621 Q35.9026 273.621 37.0803 272.061 Q38.2261 270.501 39.2765 265.791 L39.7221 263.786 Q41.0589 257.547 43.5097 254.937 Q45.9286 252.295 50.2891 252.295 Q55.2544 252.295 58.1508 256.242 Q61.0472 260.157 61.0472 267.032 Q61.0472 269.897 60.4743 273.016 Q59.9332 276.103 58.8192 279.541 L52.7718 279.541 Q54.4587 276.294 55.318 273.143 Q56.1456 269.992 56.1456 266.905 Q56.1456 262.767 54.7451 260.539 Q53.3129 258.311 50.7347 258.311 Q48.3476 258.311 47.0745 259.934 Q45.8013 261.526 44.6237 266.968 L44.1462 269.005 Q43.0004 274.448 40.6451 276.867 Q38.258 279.286 34.1202 279.286 Q29.0913 279.286 26.3541 275.721 Q23.6168 272.156 23.6168 265.6 Q23.6168 262.353 24.0943 259.489 Q24.5717 256.624 25.5265 254.205 Z\" fill=\"#000000\" fill-rule=\"evenodd\" fill-opacity=\"1\" /><path clip-path=\"url(#clip390)\" d=\"M10.6626 243.893 L10.6626 238.8 Q18.1742 234.026 25.3674 231.671 Q32.5606 229.283 39.6584 229.283 Q46.788 229.283 54.0131 231.671 Q61.2382 234.026 68.7179 238.8 L68.7179 243.893 Q61.4291 239.66 54.2359 237.591 Q47.0108 235.49 39.6584 235.49 Q32.306 235.49 25.1446 237.591 Q17.9832 239.66 10.6626 243.893 Z\" fill=\"#000000\" fill-rule=\"evenodd\" fill-opacity=\"1\" /><path clip-path=\"url(#clip390)\" d=\"M721.81 9.54393 L729.305 9.54393 L729.305 46.7717 L751.544 27.2059 L761.064 27.2059 L737.001 48.4326 L762.076 72.576 L752.354 72.576 L729.305 50.4176 L729.305 72.576 L721.81 72.576 L721.81 9.54393 Z\" fill=\"#000000\" fill-rule=\"evenodd\" fill-opacity=\"1\" /><path clip-path=\"url(#clip390)\" d=\"M805.462 35.9153 Q808.257 30.8922 812.146 28.5022 Q816.035 26.1121 821.301 26.1121 Q828.39 26.1121 832.238 31.0947 Q836.087 36.0368 836.087 45.1919 L836.087 72.576 L828.592 72.576 L828.592 45.4349 Q828.592 38.913 826.283 35.7533 Q823.974 32.5936 819.235 32.5936 Q813.442 32.5936 810.08 36.4419 Q806.717 40.2903 806.717 46.9338 L806.717 72.576 L799.223 72.576 L799.223 45.4349 Q799.223 38.8725 796.914 35.7533 Q794.605 32.5936 789.785 32.5936 Q784.073 32.5936 780.711 36.4824 Q777.348 40.3308 777.348 46.9338 L777.348 72.576 L769.854 72.576 L769.854 27.2059 L777.348 27.2059 L777.348 34.2544 Q779.9 30.082 783.465 28.0971 Q787.03 26.1121 791.932 26.1121 Q796.874 26.1121 800.317 28.6237 Q803.801 31.1352 805.462 35.9153 Z\" fill=\"#000000\" fill-rule=\"evenodd\" fill-opacity=\"1\" /><path clip-path=\"url(#clip390)\" d=\"M889.761 48.0275 L889.761 51.6733 L855.49 51.6733 Q855.976 59.3701 860.108 63.421 Q864.281 67.4314 871.694 67.4314 Q875.988 67.4314 879.998 66.3781 Q884.049 65.3249 888.019 63.2184 L888.019 70.267 Q884.009 71.9684 879.796 72.8596 Q875.583 73.7508 871.248 73.7508 Q860.392 73.7508 854.032 67.4314 Q847.713 61.1119 847.713 50.3365 Q847.713 39.1965 853.708 32.6746 Q859.744 26.1121 869.952 26.1121 Q879.107 26.1121 884.414 32.0264 Q889.761 37.9003 889.761 48.0275 M882.307 45.84 Q882.226 39.7232 878.864 36.0774 Q875.542 32.4315 870.033 32.4315 Q863.795 32.4315 860.027 35.9558 Q856.301 39.4801 855.733 45.8805 L882.307 45.84 Z\" fill=\"#000000\" fill-rule=\"evenodd\" fill-opacity=\"1\" /><path clip-path=\"url(#clip390)\" d=\"M928.285 34.1734 Q927.029 33.4443 925.53 33.1202 Q924.072 32.7556 922.29 32.7556 Q915.97 32.7556 912.568 36.8875 Q909.205 40.9789 909.205 48.6757 L909.205 72.576 L901.711 72.576 L901.711 27.2059 L909.205 27.2059 L909.205 34.2544 Q911.555 30.1225 915.322 28.1376 Q919.09 26.1121 924.477 26.1121 Q925.247 26.1121 926.179 26.2337 Q927.11 26.3147 928.245 26.5172 L928.285 34.1734 Z\" fill=\"#000000\" fill-rule=\"evenodd\" fill-opacity=\"1\" /><path clip-path=\"url(#clip390)\" d=\"M985.443 9.54393 L985.443 15.7418 L978.314 15.7418 Q974.303 15.7418 972.724 17.3622 Q971.184 18.9825 971.184 23.1955 L971.184 27.2059 L983.458 27.2059 L983.458 32.9987 L971.184 32.9987 L971.184 72.576 L963.69 72.576 L963.69 32.9987 L956.56 32.9987 L956.56 27.2059 L963.69 27.2059 L963.69 24.0462 Q963.69 16.471 967.214 13.0277 Q970.739 9.54393 978.395 9.54393 L985.443 9.54393 Z\" fill=\"#000000\" fill-rule=\"evenodd\" fill-opacity=\"1\" /><path clip-path=\"url(#clip390)\" d=\"M1017.97 34.1734 Q1016.72 33.4443 1015.22 33.1202 Q1013.76 32.7556 1011.98 32.7556 Q1005.66 32.7556 1002.25 36.8875 Q998.892 40.9789 998.892 48.6757 L998.892 72.576 L991.398 72.576 L991.398 27.2059 L998.892 27.2059 L998.892 34.2544 Q1001.24 30.1225 1005.01 28.1376 Q1008.78 26.1121 1014.16 26.1121 Q1014.93 26.1121 1015.87 26.2337 Q1016.8 26.3147 1017.93 26.5172 L1017.97 34.1734 Z\" fill=\"#000000\" fill-rule=\"evenodd\" fill-opacity=\"1\" /><path clip-path=\"url(#clip390)\" d=\"M1062.78 48.0275 L1062.78 51.6733 L1028.5 51.6733 Q1028.99 59.3701 1033.12 63.421 Q1037.29 67.4314 1044.71 67.4314 Q1049 67.4314 1053.01 66.3781 Q1057.06 65.3249 1061.03 63.2184 L1061.03 70.267 Q1057.02 71.9684 1052.81 72.8596 Q1048.6 73.7508 1044.26 73.7508 Q1033.41 73.7508 1027.05 67.4314 Q1020.73 61.1119 1020.73 50.3365 Q1020.73 39.1965 1026.72 32.6746 Q1032.76 26.1121 1042.97 26.1121 Q1052.12 26.1121 1057.43 32.0264 Q1062.78 37.9003 1062.78 48.0275 M1055.32 45.84 Q1055.24 39.7232 1051.88 36.0774 Q1048.56 32.4315 1043.05 32.4315 Q1036.81 32.4315 1033.04 35.9558 Q1029.31 39.4801 1028.75 45.8805 L1055.32 45.84 Z\" fill=\"#000000\" fill-rule=\"evenodd\" fill-opacity=\"1\" /><path clip-path=\"url(#clip390)\" d=\"M1079.46 49.9314 Q1079.46 58.1548 1082.83 62.8538 Q1086.23 67.5124 1092.14 67.5124 Q1098.06 67.5124 1101.46 62.8538 Q1104.86 58.1548 1104.86 49.9314 Q1104.86 41.7081 1101.46 37.0496 Q1098.06 32.3505 1092.14 32.3505 Q1086.23 32.3505 1082.83 37.0496 Q1079.46 41.7081 1079.46 49.9314 M1104.86 65.7705 Q1102.51 69.8214 1098.91 71.8063 Q1095.34 73.7508 1090.32 73.7508 Q1082.1 73.7508 1076.91 67.1883 Q1071.77 60.6258 1071.77 49.9314 Q1071.77 39.2371 1076.91 32.6746 Q1082.1 26.1121 1090.32 26.1121 Q1095.34 26.1121 1098.91 28.0971 Q1102.51 30.0415 1104.86 34.0924 L1104.86 27.2059 L1112.32 27.2059 L1112.32 89.8329 L1104.86 89.8329 L1104.86 65.7705 Z\" fill=\"#000000\" fill-rule=\"evenodd\" fill-opacity=\"1\" /><path clip-path=\"url(#clip390)\" d=\"M1126.9 54.671 L1126.9 27.2059 L1134.35 27.2059 L1134.35 54.3874 Q1134.35 60.8284 1136.87 64.0691 Q1139.38 67.2693 1144.4 67.2693 Q1150.44 67.2693 1153.92 63.421 Q1157.44 59.5726 1157.44 52.9291 L1157.44 27.2059 L1164.9 27.2059 L1164.9 72.576 L1157.44 72.576 L1157.44 65.6084 Q1154.73 69.7404 1151.13 71.7658 Q1147.56 73.7508 1142.82 73.7508 Q1135 73.7508 1130.95 68.8897 Q1126.9 64.0286 1126.9 54.671 M1145.66 26.1121 L1145.66 26.1121 Z\" fill=\"#000000\" fill-rule=\"evenodd\" fill-opacity=\"1\" /><path clip-path=\"url(#clip390)\" d=\"M1219.06 48.0275 L1219.06 51.6733 L1184.79 51.6733 Q1185.27 59.3701 1189.41 63.421 Q1193.58 67.4314 1200.99 67.4314 Q1205.29 67.4314 1209.3 66.3781 Q1213.35 65.3249 1217.32 63.2184 L1217.32 70.267 Q1213.31 71.9684 1209.09 72.8596 Q1204.88 73.7508 1200.55 73.7508 Q1189.69 73.7508 1183.33 67.4314 Q1177.01 61.1119 1177.01 50.3365 Q1177.01 39.1965 1183.01 32.6746 Q1189.04 26.1121 1199.25 26.1121 Q1208.41 26.1121 1213.71 32.0264 Q1219.06 37.9003 1219.06 48.0275 M1211.61 45.84 Q1211.52 39.7232 1208.16 36.0774 Q1204.84 32.4315 1199.33 32.4315 Q1193.09 32.4315 1189.33 35.9558 Q1185.6 39.4801 1185.03 45.8805 L1211.61 45.84 Z\" fill=\"#000000\" fill-rule=\"evenodd\" fill-opacity=\"1\" /><path clip-path=\"url(#clip390)\" d=\"M1269.01 45.1919 L1269.01 72.576 L1261.55 72.576 L1261.55 45.4349 Q1261.55 38.994 1259.04 35.7938 Q1256.53 32.5936 1251.51 32.5936 Q1245.47 32.5936 1241.99 36.4419 Q1238.5 40.2903 1238.5 46.9338 L1238.5 72.576 L1231.01 72.576 L1231.01 27.2059 L1238.5 27.2059 L1238.5 34.2544 Q1241.18 30.163 1244.78 28.1376 Q1248.43 26.1121 1253.17 26.1121 Q1260.99 26.1121 1265 30.9732 Q1269.01 35.7938 1269.01 45.1919 Z\" fill=\"#000000\" fill-rule=\"evenodd\" fill-opacity=\"1\" /><path clip-path=\"url(#clip390)\" d=\"M1316.52 28.9478 L1316.52 35.9153 Q1313.36 34.1734 1310.16 33.3227 Q1307 32.4315 1303.76 32.4315 Q1296.51 32.4315 1292.5 37.0496 Q1288.49 41.6271 1288.49 49.9314 Q1288.49 58.2358 1292.5 62.8538 Q1296.51 67.4314 1303.76 67.4314 Q1307 67.4314 1310.16 66.5807 Q1313.36 65.6895 1316.52 63.9476 L1316.52 70.8341 Q1313.4 72.2924 1310.04 73.0216 Q1306.72 73.7508 1302.95 73.7508 Q1292.7 73.7508 1286.67 67.3098 Q1280.63 60.8689 1280.63 49.9314 Q1280.63 38.832 1286.71 32.472 Q1292.83 26.1121 1303.44 26.1121 Q1306.88 26.1121 1310.16 26.8413 Q1313.45 27.5299 1316.52 28.9478 Z\" fill=\"#000000\" fill-rule=\"evenodd\" fill-opacity=\"1\" /><path clip-path=\"url(#clip390)\" d=\"M1329.49 27.2059 L1336.94 27.2059 L1336.94 72.576 L1329.49 72.576 L1329.49 27.2059 M1329.49 9.54393 L1336.94 9.54393 L1336.94 18.9825 L1329.49 18.9825 L1329.49 9.54393 Z\" fill=\"#000000\" fill-rule=\"evenodd\" fill-opacity=\"1\" /><path clip-path=\"url(#clip390)\" d=\"M1391.34 48.0275 L1391.34 51.6733 L1357.07 51.6733 Q1357.56 59.3701 1361.69 63.421 Q1365.86 67.4314 1373.28 67.4314 Q1377.57 67.4314 1381.58 66.3781 Q1385.63 65.3249 1389.6 63.2184 L1389.6 70.267 Q1385.59 71.9684 1381.38 72.8596 Q1377.17 73.7508 1372.83 73.7508 Q1361.97 73.7508 1355.61 67.4314 Q1349.3 61.1119 1349.3 50.3365 Q1349.3 39.1965 1355.29 32.6746 Q1361.33 26.1121 1371.54 26.1121 Q1380.69 26.1121 1386 32.0264 Q1391.34 37.9003 1391.34 48.0275 M1383.89 45.84 Q1383.81 39.7232 1380.45 36.0774 Q1377.13 32.4315 1371.62 32.4315 Q1365.38 32.4315 1361.61 35.9558 Q1357.88 39.4801 1357.32 45.8805 L1383.89 45.84 Z\" fill=\"#000000\" fill-rule=\"evenodd\" fill-opacity=\"1\" /><path clip-path=\"url(#clip390)\" d=\"M1432.5 28.5427 L1432.5 35.5912 Q1429.34 33.9709 1425.94 33.1607 Q1422.54 32.3505 1418.89 32.3505 Q1413.34 32.3505 1410.55 34.0519 Q1407.79 35.7533 1407.79 39.156 Q1407.79 41.7486 1409.78 43.2475 Q1411.76 44.7058 1417.76 46.0426 L1420.31 46.6097 Q1428.25 48.3111 1431.57 51.4303 Q1434.93 54.509 1434.93 60.0587 Q1434.93 66.3781 1429.91 70.0644 Q1424.93 73.7508 1416.18 73.7508 Q1412.53 73.7508 1408.56 73.0216 Q1404.63 72.3329 1400.26 70.9151 L1400.26 63.2184 Q1404.39 65.3654 1408.4 66.4591 Q1412.41 67.5124 1416.34 67.5124 Q1421.6 67.5124 1424.44 65.73 Q1427.28 63.9071 1427.28 60.6258 Q1427.28 57.5877 1425.21 55.9673 Q1423.18 54.3469 1416.26 52.8481 L1413.66 52.2405 Q1406.74 50.7821 1403.66 47.7845 Q1400.58 44.7463 1400.58 39.4801 Q1400.58 33.0797 1405.12 29.5959 Q1409.65 26.1121 1418 26.1121 Q1422.13 26.1121 1425.78 26.7198 Q1429.42 27.3274 1432.5 28.5427 Z\" fill=\"#000000\" fill-rule=\"evenodd\" fill-opacity=\"1\" /><circle clip-path=\"url(#clip392)\" cx=\"1628.5\" cy=\"849.7\" r=\"14\" fill=\"#009af9\" fill-rule=\"evenodd\" fill-opacity=\"1\" stroke=\"#000000\" stroke-opacity=\"1\" stroke-width=\"2\"/>\n",
       "<circle clip-path=\"url(#clip392)\" cx=\"1625.1\" cy=\"849.7\" r=\"14\" fill=\"#009af9\" fill-rule=\"evenodd\" fill-opacity=\"1\" stroke=\"#000000\" stroke-opacity=\"1\" stroke-width=\"2\"/>\n",
       "<circle clip-path=\"url(#clip392)\" cx=\"1631.86\" cy=\"849.7\" r=\"14\" fill=\"#009af9\" fill-rule=\"evenodd\" fill-opacity=\"1\" stroke=\"#000000\" stroke-opacity=\"1\" stroke-width=\"2\"/>\n",
       "<circle clip-path=\"url(#clip392)\" cx=\"1638.47\" cy=\"849.7\" r=\"14\" fill=\"#009af9\" fill-rule=\"evenodd\" fill-opacity=\"1\" stroke=\"#000000\" stroke-opacity=\"1\" stroke-width=\"2\"/>\n",
       "</svg>\n"
      ]
     },
     "execution_count": 24,
     "metadata": {},
     "output_type": "execute_result"
    }
   ],
   "source": [
    "kmer_counts = Dict(filtered_observation_graph.vprops[v][:kmer] => filtered_observation_graph.vprops[v][:weight] for v in LightGraphs.vertices(filtered_observation_graph))\n",
    "total_observed_kmers = sum(values(kmer_counts))\n",
    "kmer_probabilities = Dict(k => v/total_observed_kmers for (k,v) in kmer_counts)\n",
    "scale = 250\n",
    "Mycelia.plot_kmer_frequency_spectra(values(kmer_counts), size=(2scale,scale), title=\"kmer frequencies\")"
   ]
  },
  {
   "cell_type": "code",
   "execution_count": 25,
   "id": "9c6edde3-c459-4e81-8c2e-413142044be6",
   "metadata": {},
   "outputs": [
    {
     "data": {
      "text/plain": [
       "0.0"
      ]
     },
     "execution_count": 25,
     "metadata": {},
     "output_type": "execute_result"
    }
   ],
   "source": [
    "distance_to_reference_graph = 1 - LSHFunctions.jaccard(Set(reference_kmers), Set(keys(kmer_counts)))"
   ]
  },
  {
   "cell_type": "code",
   "execution_count": 26,
   "id": "681f12c3-4736-4065-8bfb-3d3be29cc8dc",
   "metadata": {},
   "outputs": [],
   "source": [
    "# step 2, re-simulate reads as a means of error correction"
   ]
  },
  {
   "cell_type": "code",
   "execution_count": 36,
   "id": "adcfaf65-de18-4a92-8355-5c8b190007c9",
   "metadata": {},
   "outputs": [
    {
     "data": {
      "text/plain": [
       "4-element Vector{Float64}:\n",
       " 0.256\n",
       " 0.25066666666666665\n",
       " 0.24533333333333332\n",
       " 0.248"
      ]
     },
     "execution_count": 36,
     "metadata": {},
     "output_type": "execute_result"
    }
   ],
   "source": [
    "kmers = [filtered_observation_graph.vprops[v][:kmer] for v in LightGraphs.vertices(filtered_observation_graph)]\n",
    "kmer_weights = [filtered_observation_graph.vprops[v][:weight] for v in LightGraphs.vertices(filtered_observation_graph)]\n",
    "kmer_probabilities = kmer_weights ./ sum(kmer_weights)"
   ]
  },
  {
   "cell_type": "code",
   "execution_count": 41,
   "id": "b31d13b0-f2e7-4381-9f55-e310b1ab7c9e",
   "metadata": {},
   "outputs": [
    {
     "data": {
      "text/plain": [
       "Dict{Bool, SparseArrays.SparseMatrixCSC{Float64, Int64}} with 2 entries:\n",
       "  0 => …\n",
       "  1 => …"
      ]
     },
     "execution_count": 41,
     "metadata": {},
     "output_type": "execute_result"
    }
   ],
   "source": [
    "edge_weights = determine_edge_weights(filtered_observation_graph)"
   ]
  },
  {
   "cell_type": "code",
   "execution_count": 42,
   "id": "7d10d99f-7db2-4044-a1db-362b37e01266",
   "metadata": {},
   "outputs": [
    {
     "data": {
      "text/plain": [
       "4×4 SparseArrays.SparseMatrixCSC{Float64, Int64} with 3 stored entries:\n",
       "  ⋅     ⋅     ⋅   92.0\n",
       "  ⋅     ⋅   92.0    ⋅ \n",
       "  ⋅     ⋅     ⋅     ⋅ \n",
       "  ⋅   93.0    ⋅     ⋅ "
      ]
     },
     "execution_count": 42,
     "metadata": {},
     "output_type": "execute_result"
    }
   ],
   "source": [
    "edge_weights[true]"
   ]
  },
  {
   "cell_type": "code",
   "execution_count": 43,
   "id": "6355ddd5-0103-4927-850b-b0f5c42c7ff9",
   "metadata": {},
   "outputs": [
    {
     "data": {
      "text/plain": [
       "Dict{Bool, SparseArrays.SparseMatrixCSC{Float64, Int64}} with 2 entries:\n",
       "  0 => …\n",
       "  1 => …"
      ]
     },
     "execution_count": 43,
     "metadata": {},
     "output_type": "execute_result"
    }
   ],
   "source": [
    "edge_weights = determine_edge_weights(filtered_observation_graph)\n",
    "edge_probabilities = determine_edge_probabilities(edge_weights)"
   ]
  },
  {
   "cell_type": "code",
   "execution_count": 44,
   "id": "35780516-bfc9-4b9e-aaf8-869e14d4c5e7",
   "metadata": {},
   "outputs": [],
   "source": [
    "kmers = [filtered_observation_graph.vprops[v][:kmer] for v in LightGraphs.vertices(filtered_observation_graph)]\n",
    "kmer_weights = [filtered_observation_graph.vprops[v][:weight] for v in LightGraphs.vertices(filtered_observation_graph)]\n",
    "kmer_probabilities = kmer_weights ./ sum(kmer_weights)\n",
    "\n",
    "edge_weights = determine_edge_weights(filtered_observation_graph)\n",
    "edge_probabilities = determine_edge_probabilities(edge_weights)\n",
    "\n",
    "step_probabilities = deepcopy(edge_probabilities)\n",
    "\n",
    "for orientation in [true, false]\n",
    "#     @show orientation\n",
    "    oriented_step_probabilities = step_probabilities[orientation] \n",
    "    for row in 1:size(step_probabilities[orientation], 1)\n",
    "        step_probabilities_ = step_probabilities[orientation][row, :] .* kmer_probabilities\n",
    "        if sum(step_probabilities_) > 0\n",
    "            step_probabilities[orientation][row, :] .= step_probabilities_ ./ sum(step_probabilities_)\n",
    "        end\n",
    "    end\n",
    "end"
   ]
  },
  {
   "cell_type": "code",
   "execution_count": 45,
   "id": "f2ecfeeb-0030-4acc-86e1-9c367e76fb1e",
   "metadata": {},
   "outputs": [],
   "source": [
    "new_records = FASTX.FASTQ.Record[]\n",
    "for observation in observations\n",
    "    read_length = length(FASTX.sequence(observation))\n",
    "    max_steps = read_length - filtered_observation_graph.gprops[:k]\n",
    "    # apply a squaring penalty to kmer_weights?\n",
    "    initial_vertex = StatsBase.sample(1:length(kmers), StatsBase.weights(kmer_weights.^2))\n",
    "#     @show \"choosing initial vertex $initial_vertex with probability $(kmer_weights[initial_vertex])\"\n",
    "    initial_orientation = rand(Bool)\n",
    "    forward_walk = random_walk(filtered_observation_graph, initial_vertex, initial_orientation, step_probabilities, n_steps=max_steps)\n",
    "    remaining_steps = max_steps - length(forward_walk)\n",
    "    reverse_walk = random_walk(filtered_observation_graph, initial_vertex, !initial_orientation, step_probabilities, n_steps = remaining_steps)\n",
    "    full_walk = [[(vertex=x.vertex, orientation=!x.orientation) for x in reverse(reverse_walk)]..., [(vertex = initial_vertex, orientation = initial_orientation)]..., forward_walk...]\n",
    "    oriented_path = [(x.vertex, x.orientation) for x in full_walk]\n",
    "    new_seq = Mycelia.oriented_path_to_sequence(filtered_observation_graph, oriented_path)\n",
    "    new_record = FASTX.FASTQ.Record(\n",
    "        FASTX.identifier(observation)*\"-k$k\",\n",
    "        FASTX.identifier(observation),\n",
    "        new_seq,\n",
    "        StatsBase.sample(FASTX.quality(observation), length(new_seq))\n",
    "    )\n",
    "#     @show \"here\"\n",
    "    push!(new_records, new_record)\n",
    "end\n",
    "new_records;"
   ]
  },
  {
   "cell_type": "code",
   "execution_count": 46,
   "id": "61bf8c37-0b33-4e58-b1db-ba24d7bb3b4a",
   "metadata": {},
   "outputs": [],
   "source": [
    "corrected_fastq_file = replace(observations_file, r\"\\.fastq\" => \".k$k.fastq\")\n",
    "open(corrected_fastq_file, \"w\") do io\n",
    "    fastq_writer = FASTX.FASTQ.Writer(io)\n",
    "    for record in new_records\n",
    "        write(fastq_writer, record)\n",
    "    end\n",
    "    close(fastq_writer)\n",
    "end"
   ]
  },
  {
   "cell_type": "code",
   "execution_count": 47,
   "id": "9f72e026-ce76-4e1c-a4da-231f4225a358",
   "metadata": {},
   "outputs": [
    {
     "name": "stderr",
     "output_type": "stream",
     "text": [
      "┌ Info: assessing kmers\n",
      "└ @ Mycelia /home/jovyan/git/Mycelia/src/Mycelia.jl:1932\n",
      "┌ Info: creating graph\n",
      "└ @ Mycelia /home/jovyan/git/Mycelia/src/Mycelia.jl:1947\n"
     ]
    },
    {
     "data": {
      "text/plain": [
       "{4, 6} directed Int64 metagraph with Float64 weights defined by :weight (default weight 1.0)"
      ]
     },
     "execution_count": 47,
     "metadata": {},
     "output_type": "execute_result"
    }
   ],
   "source": [
    "corrected_observation_graph = Mycelia.fastx_to_kmer_graph(BioSequences.DNAMer{k}, corrected_fastq_file)"
   ]
  },
  {
   "cell_type": "code",
   "execution_count": 48,
   "id": "7dcb49eb-7261-4120-b488-52b3a3739416",
   "metadata": {},
   "outputs": [
    {
     "data": {
      "text/html": [
       "<img src=./../../../2021-08-22/LENGTH-10-DEPTH-100.k7.fastq.k-7.gfa.svg>"
      ]
     },
     "metadata": {},
     "output_type": "display_data"
    }
   ],
   "source": [
    "# visualize\n",
    "gfa_file = corrected_fastq_file * \".k-$k.gfa\"\n",
    "Mycelia.graph_to_gfa(corrected_observation_graph, gfa_file)\n",
    "\n",
    "run(`$(BANDAGE) image $(gfa_file) $(gfa_file).svg --depwidth .9 --deppower .9`)\n",
    "# --nodewidth <float> Average node width (0.5 to 1000, default: 5)\n",
    "# --depwidth <float>  Depth effect on width (0 to 1, default: 0.5)\n",
    "# --deppower <float>  Power of depth effect on width (0 to 1, default: 0.5)\n",
    "\n",
    "html_path_to_svg = \"./\" * repeat(\"../\", length(split(pwd(), '/')) - 3)\n",
    "html_path_to_svg *= replace(\"$(gfa_file).svg\", \"$(homedir())/\" => \"\")\n",
    "\n",
    "x = \"<img src=$(html_path_to_svg)>\"\n",
    "display(\"text/html\", x)\n",
    "# display(\"image/svg+xml\", read(\"$(gfa_file).svg\", String))"
   ]
  },
  {
   "cell_type": "code",
   "execution_count": 49,
   "id": "1babc5ba-11c2-4557-8a93-b97abe8364a6",
   "metadata": {},
   "outputs": [
    {
     "data": {
      "image/svg+xml": [
       "<?xml version=\"1.0\" encoding=\"utf-8\"?>\n",
       "<svg xmlns=\"http://www.w3.org/2000/svg\" xmlns:xlink=\"http://www.w3.org/1999/xlink\" width=\"500\" height=\"250\" viewBox=\"0 0 2000 1000\">\n",
       "<defs>\n",
       "  <clipPath id=\"clip430\">\n",
       "    <rect x=\"0\" y=\"0\" width=\"2000\" height=\"1000\"/>\n",
       "  </clipPath>\n",
       "</defs>\n",
       "<path clip-path=\"url(#clip430)\" d=\"\n",
       "M0 1000 L2000 1000 L2000 0 L0 0  Z\n",
       "  \" fill=\"#ffffff\" fill-rule=\"evenodd\" fill-opacity=\"1\"/>\n",
       "<defs>\n",
       "  <clipPath id=\"clip431\">\n",
       "    <rect x=\"400\" y=\"0\" width=\"1401\" height=\"1000\"/>\n",
       "  </clipPath>\n",
       "</defs>\n",
       "<path clip-path=\"url(#clip430)\" d=\"\n",
       "M203.5 849.7 L1952.76 849.7 L1952.76 108.352 L203.5 108.352  Z\n",
       "  \" fill=\"#ffffff\" fill-rule=\"evenodd\" fill-opacity=\"1\"/>\n",
       "<defs>\n",
       "  <clipPath id=\"clip432\">\n",
       "    <rect x=\"203\" y=\"108\" width=\"1750\" height=\"742\"/>\n",
       "  </clipPath>\n",
       "</defs>\n",
       "<polyline clip-path=\"url(#clip432)\" style=\"stroke:#000000; stroke-linecap:butt; stroke-linejoin:round; stroke-width:2; stroke-opacity:0.1; fill:none\" points=\"\n",
       "  203.5,849.7 203.5,108.352 \n",
       "  \"/>\n",
       "<polyline clip-path=\"url(#clip432)\" style=\"stroke:#000000; stroke-linecap:butt; stroke-linejoin:round; stroke-width:2; stroke-opacity:0.1; fill:none\" points=\"\n",
       "  515.579,849.7 515.579,108.352 \n",
       "  \"/>\n",
       "<polyline clip-path=\"url(#clip432)\" style=\"stroke:#000000; stroke-linecap:butt; stroke-linejoin:round; stroke-width:2; stroke-opacity:0.1; fill:none\" points=\"\n",
       "  827.658,849.7 827.658,108.352 \n",
       "  \"/>\n",
       "<polyline clip-path=\"url(#clip432)\" style=\"stroke:#000000; stroke-linecap:butt; stroke-linejoin:round; stroke-width:2; stroke-opacity:0.1; fill:none\" points=\"\n",
       "  1139.74,849.7 1139.74,108.352 \n",
       "  \"/>\n",
       "<polyline clip-path=\"url(#clip432)\" style=\"stroke:#000000; stroke-linecap:butt; stroke-linejoin:round; stroke-width:2; stroke-opacity:0.1; fill:none\" points=\"\n",
       "  1451.82,849.7 1451.82,108.352 \n",
       "  \"/>\n",
       "<polyline clip-path=\"url(#clip432)\" style=\"stroke:#000000; stroke-linecap:butt; stroke-linejoin:round; stroke-width:2; stroke-opacity:0.1; fill:none\" points=\"\n",
       "  1763.9,849.7 1763.9,108.352 \n",
       "  \"/>\n",
       "<polyline clip-path=\"url(#clip430)\" style=\"stroke:#000000; stroke-linecap:butt; stroke-linejoin:round; stroke-width:4; stroke-opacity:1; fill:none\" points=\"\n",
       "  203.5,849.7 1952.76,849.7 \n",
       "  \"/>\n",
       "<polyline clip-path=\"url(#clip430)\" style=\"stroke:#000000; stroke-linecap:butt; stroke-linejoin:round; stroke-width:4; stroke-opacity:1; fill:none\" points=\"\n",
       "  203.5,849.7 203.5,830.802 \n",
       "  \"/>\n",
       "<polyline clip-path=\"url(#clip430)\" style=\"stroke:#000000; stroke-linecap:butt; stroke-linejoin:round; stroke-width:4; stroke-opacity:1; fill:none\" points=\"\n",
       "  515.579,849.7 515.579,830.802 \n",
       "  \"/>\n",
       "<polyline clip-path=\"url(#clip430)\" style=\"stroke:#000000; stroke-linecap:butt; stroke-linejoin:round; stroke-width:4; stroke-opacity:1; fill:none\" points=\"\n",
       "  827.658,849.7 827.658,830.802 \n",
       "  \"/>\n",
       "<polyline clip-path=\"url(#clip430)\" style=\"stroke:#000000; stroke-linecap:butt; stroke-linejoin:round; stroke-width:4; stroke-opacity:1; fill:none\" points=\"\n",
       "  1139.74,849.7 1139.74,830.802 \n",
       "  \"/>\n",
       "<polyline clip-path=\"url(#clip430)\" style=\"stroke:#000000; stroke-linecap:butt; stroke-linejoin:round; stroke-width:4; stroke-opacity:1; fill:none\" points=\"\n",
       "  1451.82,849.7 1451.82,830.802 \n",
       "  \"/>\n",
       "<polyline clip-path=\"url(#clip430)\" style=\"stroke:#000000; stroke-linecap:butt; stroke-linejoin:round; stroke-width:4; stroke-opacity:1; fill:none\" points=\"\n",
       "  1763.9,849.7 1763.9,830.802 \n",
       "  \"/>\n",
       "<path clip-path=\"url(#clip430)\" d=\"M203.5 875.691 Q199.889 875.691 198.06 879.255 Q196.255 882.797 196.255 889.927 Q196.255 897.033 198.06 900.598 Q199.889 904.139 203.5 904.139 Q207.134 904.139 208.94 900.598 Q210.769 897.033 210.769 889.927 Q210.769 882.797 208.94 879.255 Q207.134 875.691 203.5 875.691 M203.5 871.987 Q209.31 871.987 212.366 876.593 Q215.445 881.177 215.445 889.927 Q215.445 898.653 212.366 903.26 Q209.31 907.843 203.5 907.843 Q197.69 907.843 194.611 903.26 Q191.556 898.653 191.556 889.927 Q191.556 881.177 194.611 876.593 Q197.69 871.987 203.5 871.987 Z\" fill=\"#000000\" fill-rule=\"evenodd\" fill-opacity=\"1\" /><path clip-path=\"url(#clip430)\" d=\"M505.961 903.237 L513.6 903.237 L513.6 876.871 L505.29 878.538 L505.29 874.279 L513.554 872.612 L518.23 872.612 L518.23 903.237 L525.868 903.237 L525.868 907.172 L505.961 907.172 L505.961 903.237 Z\" fill=\"#000000\" fill-rule=\"evenodd\" fill-opacity=\"1\" /><path clip-path=\"url(#clip430)\" d=\"M822.311 903.237 L838.63 903.237 L838.63 907.172 L816.686 907.172 L816.686 903.237 Q819.348 900.482 823.931 895.852 Q828.538 891.2 829.718 889.857 Q831.964 887.334 832.843 885.598 Q833.746 883.839 833.746 882.149 Q833.746 879.394 831.802 877.658 Q829.88 875.922 826.778 875.922 Q824.579 875.922 822.126 876.686 Q819.695 877.45 816.917 879.001 L816.917 874.279 Q819.741 873.144 822.195 872.566 Q824.649 871.987 826.686 871.987 Q832.056 871.987 835.251 874.672 Q838.445 877.357 838.445 881.848 Q838.445 883.978 837.635 885.899 Q836.848 887.797 834.741 890.39 Q834.163 891.061 831.061 894.278 Q827.959 897.473 822.311 903.237 Z\" fill=\"#000000\" fill-rule=\"evenodd\" fill-opacity=\"1\" /><path clip-path=\"url(#clip430)\" d=\"M1143.98 888.538 Q1147.34 889.255 1149.22 891.524 Q1151.11 893.792 1151.11 897.126 Q1151.11 902.241 1147.6 905.042 Q1144.08 907.843 1137.6 907.843 Q1135.42 907.843 1133.11 907.403 Q1130.81 906.987 1128.36 906.13 L1128.36 901.616 Q1130.3 902.751 1132.62 903.329 Q1134.93 903.908 1137.46 903.908 Q1141.86 903.908 1144.15 902.172 Q1146.46 900.436 1146.46 897.126 Q1146.46 894.07 1144.31 892.357 Q1142.18 890.621 1138.36 890.621 L1134.33 890.621 L1134.33 886.778 L1138.54 886.778 Q1141.99 886.778 1143.82 885.413 Q1145.65 884.024 1145.65 881.431 Q1145.65 878.769 1143.75 877.357 Q1141.88 875.922 1138.36 875.922 Q1136.44 875.922 1134.24 876.339 Q1132.04 876.755 1129.4 877.635 L1129.4 873.468 Q1132.06 872.728 1134.38 872.357 Q1136.72 871.987 1138.78 871.987 Q1144.1 871.987 1147.2 874.417 Q1150.3 876.825 1150.3 880.945 Q1150.3 883.815 1148.66 885.806 Q1147.02 887.774 1143.98 888.538 Z\" fill=\"#000000\" fill-rule=\"evenodd\" fill-opacity=\"1\" /><path clip-path=\"url(#clip430)\" d=\"M1454.83 876.686 L1443.02 895.135 L1454.83 895.135 L1454.83 876.686 M1453.6 872.612 L1459.48 872.612 L1459.48 895.135 L1464.41 895.135 L1464.41 899.024 L1459.48 899.024 L1459.48 907.172 L1454.83 907.172 L1454.83 899.024 L1439.22 899.024 L1439.22 894.51 L1453.6 872.612 Z\" fill=\"#000000\" fill-rule=\"evenodd\" fill-opacity=\"1\" /><path clip-path=\"url(#clip430)\" d=\"M1754.17 872.612 L1772.53 872.612 L1772.53 876.547 L1758.46 876.547 L1758.46 885.019 Q1759.47 884.672 1760.49 884.51 Q1761.51 884.325 1762.53 884.325 Q1768.32 884.325 1771.7 887.496 Q1775.08 890.667 1775.08 896.084 Q1775.08 901.663 1771.6 904.764 Q1768.13 907.843 1761.81 907.843 Q1759.64 907.843 1757.37 907.473 Q1755.12 907.102 1752.71 906.362 L1752.71 901.663 Q1754.8 902.797 1757.02 903.352 Q1759.24 903.908 1761.72 903.908 Q1765.72 903.908 1768.06 901.802 Q1770.4 899.695 1770.4 896.084 Q1770.4 892.473 1768.06 890.366 Q1765.72 888.26 1761.72 888.26 Q1759.84 888.26 1757.97 888.677 Q1756.12 889.093 1754.17 889.973 L1754.17 872.612 Z\" fill=\"#000000\" fill-rule=\"evenodd\" fill-opacity=\"1\" /><path clip-path=\"url(#clip430)\" d=\"M683.963 939.039 L689.82 939.039 L689.82 988.564 L683.963 988.564 L683.963 939.039 Z\" fill=\"#000000\" fill-rule=\"evenodd\" fill-opacity=\"1\" /><path clip-path=\"url(#clip430)\" d=\"M715.887 957.022 Q711.177 957.022 708.44 960.714 Q705.702 964.374 705.702 970.772 Q705.702 977.169 708.408 980.861 Q711.145 984.522 715.887 984.522 Q720.566 984.522 723.304 980.83 Q726.041 977.137 726.041 970.772 Q726.041 964.438 723.304 960.746 Q720.566 957.022 715.887 957.022 M715.887 952.057 Q723.526 952.057 727.887 957.022 Q732.247 961.987 732.247 970.772 Q732.247 979.525 727.887 984.522 Q723.526 989.487 715.887 989.487 Q708.217 989.487 703.856 984.522 Q699.528 979.525 699.528 970.772 Q699.528 961.987 703.856 957.022 Q708.217 952.057 715.887 952.057 Z\" fill=\"#000000\" fill-rule=\"evenodd\" fill-opacity=\"1\" /><path clip-path=\"url(#clip430)\" d=\"M765.413 970.326 Q765.413 963.96 762.771 960.459 Q760.161 956.958 755.419 956.958 Q750.708 956.958 748.066 960.459 Q745.456 963.96 745.456 970.326 Q745.456 976.66 748.066 980.161 Q750.708 983.662 755.419 983.662 Q760.161 983.662 762.771 980.161 Q765.413 976.66 765.413 970.326 M771.269 984.14 Q771.269 993.243 767.227 997.667 Q763.185 1002.12 754.846 1002.12 Q751.758 1002.12 749.021 1001.65 Q746.284 1001.2 743.706 1000.24 L743.706 994.548 Q746.284 995.948 748.798 996.616 Q751.313 997.285 753.923 997.285 Q759.684 997.285 762.548 994.261 Q765.413 991.269 765.413 985.19 L765.413 982.294 Q763.598 985.445 760.766 987.004 Q757.933 988.564 753.986 988.564 Q747.43 988.564 743.419 983.567 Q739.409 978.57 739.409 970.326 Q739.409 962.051 743.419 957.054 Q747.43 952.057 753.986 952.057 Q757.933 952.057 760.766 953.616 Q763.598 955.176 765.413 958.327 L765.413 952.916 L771.269 952.916 L771.269 984.14 Z\" fill=\"#000000\" fill-rule=\"evenodd\" fill-opacity=\"1\" /><path clip-path=\"url(#clip430)\" d=\"M797.4 939.102 Q793.135 946.423 791.066 953.584 Q788.998 960.746 788.998 968.098 Q788.998 975.45 791.066 982.676 Q793.167 989.869 797.4 997.158 L792.308 997.158 Q787.534 989.678 785.146 982.453 Q782.791 975.228 782.791 968.098 Q782.791 961 785.146 953.807 Q787.502 946.614 792.308 939.102 L797.4 939.102 Z\" fill=\"#000000\" fill-rule=\"evenodd\" fill-opacity=\"1\" /><path clip-path=\"url(#clip430)\" d=\"M822.577 957.022 Q817.866 957.022 815.129 960.714 Q812.392 964.374 812.392 970.772 Q812.392 977.169 815.097 980.861 Q817.834 984.522 822.577 984.522 Q827.256 984.522 829.993 980.83 Q832.73 977.137 832.73 970.772 Q832.73 964.438 829.993 960.746 Q827.256 957.022 822.577 957.022 M822.577 952.057 Q830.216 952.057 834.576 957.022 Q838.937 961.987 838.937 970.772 Q838.937 979.525 834.576 984.522 Q830.216 989.487 822.577 989.487 Q814.906 989.487 810.546 984.522 Q806.217 979.525 806.217 970.772 Q806.217 961.987 810.546 957.022 Q814.906 952.057 822.577 952.057 Z\" fill=\"#000000\" fill-rule=\"evenodd\" fill-opacity=\"1\" /><path clip-path=\"url(#clip430)\" d=\"M874.234 970.772 Q874.234 964.311 871.561 960.65 Q868.919 956.958 864.272 956.958 Q859.625 956.958 856.952 960.65 Q854.31 964.311 854.31 970.772 Q854.31 977.233 856.952 980.925 Q859.625 984.585 864.272 984.585 Q868.919 984.585 871.561 980.925 Q874.234 977.233 874.234 970.772 M854.31 958.327 Q856.156 955.144 858.957 953.616 Q861.789 952.057 865.704 952.057 Q872.197 952.057 876.24 957.213 Q880.314 962.369 880.314 970.772 Q880.314 979.174 876.24 984.331 Q872.197 989.487 865.704 989.487 Q861.789 989.487 858.957 987.959 Q856.156 986.4 854.31 983.217 L854.31 988.564 L848.422 988.564 L848.422 939.039 L854.31 939.039 L854.31 958.327 Z\" fill=\"#000000\" fill-rule=\"evenodd\" fill-opacity=\"1\" /><path clip-path=\"url(#clip430)\" d=\"M912.747 953.966 L912.747 959.504 Q910.264 958.231 907.591 957.595 Q904.917 956.958 902.053 956.958 Q897.692 956.958 895.496 958.295 Q893.332 959.632 893.332 962.305 Q893.332 964.342 894.891 965.52 Q896.451 966.666 901.161 967.716 L903.167 968.162 Q909.405 969.499 912.015 971.949 Q914.657 974.368 914.657 978.729 Q914.657 983.694 910.71 986.59 Q906.795 989.487 899.92 989.487 Q897.056 989.487 893.936 988.914 Q890.849 988.373 887.411 987.259 L887.411 981.211 Q890.658 982.898 893.809 983.758 Q896.96 984.585 900.047 984.585 Q904.185 984.585 906.413 983.185 Q908.641 981.753 908.641 979.174 Q908.641 976.787 907.018 975.514 Q905.426 974.241 899.984 973.063 L897.947 972.586 Q892.504 971.44 890.085 969.085 Q887.666 966.698 887.666 962.56 Q887.666 957.531 891.231 954.794 Q894.796 952.057 901.352 952.057 Q904.599 952.057 907.463 952.534 Q910.328 953.011 912.747 953.966 Z\" fill=\"#000000\" fill-rule=\"evenodd\" fill-opacity=\"1\" /><path clip-path=\"url(#clip430)\" d=\"M954.474 969.276 L954.474 972.14 L927.547 972.14 Q927.929 978.188 931.176 981.371 Q934.454 984.522 940.279 984.522 Q943.652 984.522 946.804 983.694 Q949.986 982.867 953.106 981.211 L953.106 986.75 Q949.955 988.086 946.644 988.787 Q943.334 989.487 939.929 989.487 Q931.398 989.487 926.401 984.522 Q921.436 979.556 921.436 971.09 Q921.436 962.337 926.147 957.213 Q930.889 952.057 938.91 952.057 Q946.103 952.057 950.273 956.703 Q954.474 961.319 954.474 969.276 M948.618 967.557 Q948.554 962.751 945.912 959.886 Q943.302 957.022 938.974 957.022 Q934.072 957.022 931.112 959.791 Q928.184 962.56 927.738 967.589 L948.618 967.557 Z\" fill=\"#000000\" fill-rule=\"evenodd\" fill-opacity=\"1\" /><path clip-path=\"url(#clip430)\" d=\"M984.743 958.39 Q983.756 957.817 982.579 957.563 Q981.433 957.276 980.032 957.276 Q975.067 957.276 972.394 960.523 Q969.752 963.738 969.752 969.785 L969.752 988.564 L963.864 988.564 L963.864 952.916 L969.752 952.916 L969.752 958.454 Q971.598 955.208 974.558 953.648 Q977.518 952.057 981.751 952.057 Q982.356 952.057 983.088 952.152 Q983.82 952.216 984.711 952.375 L984.743 958.39 Z\" fill=\"#000000\" fill-rule=\"evenodd\" fill-opacity=\"1\" /><path clip-path=\"url(#clip430)\" d=\"M986.685 952.916 L992.891 952.916 L1004.03 982.835 L1015.17 952.916 L1021.38 952.916 L1008.01 988.564 L1000.05 988.564 L986.685 952.916 Z\" fill=\"#000000\" fill-rule=\"evenodd\" fill-opacity=\"1\" /><path clip-path=\"url(#clip430)\" d=\"M1059.95 969.276 L1059.95 972.14 L1033.03 972.14 Q1033.41 978.188 1036.66 981.371 Q1039.93 984.522 1045.76 984.522 Q1049.13 984.522 1052.28 983.694 Q1055.47 982.867 1058.59 981.211 L1058.59 986.75 Q1055.43 988.086 1052.12 988.787 Q1048.81 989.487 1045.41 989.487 Q1036.88 989.487 1031.88 984.522 Q1026.92 979.556 1026.92 971.09 Q1026.92 962.337 1031.63 957.213 Q1036.37 952.057 1044.39 952.057 Q1051.58 952.057 1055.75 956.703 Q1059.95 961.319 1059.95 969.276 M1054.1 967.557 Q1054.03 962.751 1051.39 959.886 Q1048.78 957.022 1044.45 957.022 Q1039.55 957.022 1036.59 959.791 Q1033.66 962.56 1033.22 967.589 L1054.1 967.557 Z\" fill=\"#000000\" fill-rule=\"evenodd\" fill-opacity=\"1\" /><path clip-path=\"url(#clip430)\" d=\"M1093.02 958.327 L1093.02 939.039 L1098.88 939.039 L1098.88 988.564 L1093.02 988.564 L1093.02 983.217 Q1091.18 986.4 1088.34 987.959 Q1085.54 989.487 1081.6 989.487 Q1075.14 989.487 1071.06 984.331 Q1067.02 979.174 1067.02 970.772 Q1067.02 962.369 1071.06 957.213 Q1075.14 952.057 1081.6 952.057 Q1085.54 952.057 1088.34 953.616 Q1091.18 955.144 1093.02 958.327 M1073.07 970.772 Q1073.07 977.233 1075.71 980.925 Q1078.38 984.585 1083.03 984.585 Q1087.68 984.585 1090.35 980.925 Q1093.02 977.233 1093.02 970.772 Q1093.02 964.311 1090.35 960.65 Q1087.68 956.958 1083.03 956.958 Q1078.38 956.958 1075.71 960.65 Q1073.07 964.311 1073.07 970.772 Z\" fill=\"#000000\" fill-rule=\"evenodd\" fill-opacity=\"1\" /><path clip-path=\"url(#clip430)\" d=\"M1149.71 939.039 L1149.71 943.908 L1144.11 943.908 Q1140.96 943.908 1139.72 945.182 Q1138.51 946.455 1138.51 949.765 L1138.51 952.916 L1148.15 952.916 L1148.15 957.467 L1138.51 957.467 L1138.51 988.564 L1132.62 988.564 L1132.62 957.467 L1127.02 957.467 L1127.02 952.916 L1132.62 952.916 L1132.62 950.433 Q1132.62 944.481 1135.39 941.776 Q1138.16 939.039 1144.17 939.039 L1149.71 939.039 Z\" fill=\"#000000\" fill-rule=\"evenodd\" fill-opacity=\"1\" /><path clip-path=\"url(#clip430)\" d=\"M1175.27 958.39 Q1174.28 957.817 1173.1 957.563 Q1171.96 957.276 1170.56 957.276 Q1165.59 957.276 1162.92 960.523 Q1160.28 963.738 1160.28 969.785 L1160.28 988.564 L1154.39 988.564 L1154.39 952.916 L1160.28 952.916 L1160.28 958.454 Q1162.12 955.208 1165.08 953.648 Q1168.04 952.057 1172.28 952.057 Q1172.88 952.057 1173.61 952.152 Q1174.35 952.216 1175.24 952.375 L1175.27 958.39 Z\" fill=\"#000000\" fill-rule=\"evenodd\" fill-opacity=\"1\" /><path clip-path=\"url(#clip430)\" d=\"M1210.47 969.276 L1210.47 972.14 L1183.54 972.14 Q1183.93 978.188 1187.17 981.371 Q1190.45 984.522 1196.28 984.522 Q1199.65 984.522 1202.8 983.694 Q1205.98 982.867 1209.1 981.211 L1209.1 986.75 Q1205.95 988.086 1202.64 988.787 Q1199.33 989.487 1195.93 989.487 Q1187.4 989.487 1182.4 984.522 Q1177.43 979.556 1177.43 971.09 Q1177.43 962.337 1182.14 957.213 Q1186.89 952.057 1194.91 952.057 Q1202.1 952.057 1206.27 956.703 Q1210.47 961.319 1210.47 969.276 M1204.61 967.557 Q1204.55 962.751 1201.91 959.886 Q1199.3 957.022 1194.97 957.022 Q1190.07 957.022 1187.11 959.791 Q1184.18 962.56 1183.74 967.589 L1204.61 967.557 Z\" fill=\"#000000\" fill-rule=\"evenodd\" fill-opacity=\"1\" /><path clip-path=\"url(#clip430)\" d=\"M1223.58 970.772 Q1223.58 977.233 1226.23 980.925 Q1228.9 984.585 1233.55 984.585 Q1238.19 984.585 1240.87 980.925 Q1243.54 977.233 1243.54 970.772 Q1243.54 964.311 1240.87 960.65 Q1238.19 956.958 1233.55 956.958 Q1228.9 956.958 1226.23 960.65 Q1223.58 964.311 1223.58 970.772 M1243.54 983.217 Q1241.69 986.4 1238.86 987.959 Q1236.06 989.487 1232.11 989.487 Q1225.65 989.487 1221.58 984.331 Q1217.54 979.174 1217.54 970.772 Q1217.54 962.369 1221.58 957.213 Q1225.65 952.057 1232.11 952.057 Q1236.06 952.057 1238.86 953.616 Q1241.69 955.144 1243.54 958.327 L1243.54 952.916 L1249.4 952.916 L1249.4 1002.12 L1243.54 1002.12 L1243.54 983.217 Z\" fill=\"#000000\" fill-rule=\"evenodd\" fill-opacity=\"1\" /><path clip-path=\"url(#clip430)\" d=\"M1260.86 974.496 L1260.86 952.916 L1266.71 952.916 L1266.71 974.273 Q1266.71 979.334 1268.69 981.88 Q1270.66 984.394 1274.61 984.394 Q1279.35 984.394 1282.09 981.371 Q1284.85 978.347 1284.85 973.127 L1284.85 952.916 L1290.71 952.916 L1290.71 988.564 L1284.85 988.564 L1284.85 983.089 Q1282.72 986.336 1279.89 987.927 Q1277.09 989.487 1273.36 989.487 Q1267.22 989.487 1264.04 985.667 Q1260.86 981.848 1260.86 974.496 M1275.59 952.057 L1275.59 952.057 Z\" fill=\"#000000\" fill-rule=\"evenodd\" fill-opacity=\"1\" /><path clip-path=\"url(#clip430)\" d=\"M1333.27 969.276 L1333.27 972.14 L1306.34 972.14 Q1306.72 978.188 1309.97 981.371 Q1313.25 984.522 1319.07 984.522 Q1322.44 984.522 1325.59 983.694 Q1328.78 982.867 1331.9 981.211 L1331.9 986.75 Q1328.75 988.086 1325.44 988.787 Q1322.13 989.487 1318.72 989.487 Q1310.19 989.487 1305.19 984.522 Q1300.23 979.556 1300.23 971.09 Q1300.23 962.337 1304.94 957.213 Q1309.68 952.057 1317.7 952.057 Q1324.89 952.057 1329.06 956.703 Q1333.27 961.319 1333.27 969.276 M1327.41 967.557 Q1327.35 962.751 1324.7 959.886 Q1322.09 957.022 1317.77 957.022 Q1312.86 957.022 1309.9 959.791 Q1306.98 962.56 1306.53 967.589 L1327.41 967.557 Z\" fill=\"#000000\" fill-rule=\"evenodd\" fill-opacity=\"1\" /><path clip-path=\"url(#clip430)\" d=\"M1372.51 967.048 L1372.51 988.564 L1366.65 988.564 L1366.65 967.239 Q1366.65 962.178 1364.68 959.664 Q1362.71 957.149 1358.76 957.149 Q1354.02 957.149 1351.28 960.173 Q1348.54 963.197 1348.54 968.416 L1348.54 988.564 L1342.65 988.564 L1342.65 952.916 L1348.54 952.916 L1348.54 958.454 Q1350.64 955.239 1353.48 953.648 Q1356.34 952.057 1360.07 952.057 Q1366.21 952.057 1369.36 955.876 Q1372.51 959.664 1372.51 967.048 Z\" fill=\"#000000\" fill-rule=\"evenodd\" fill-opacity=\"1\" /><path clip-path=\"url(#clip430)\" d=\"M1409.85 954.285 L1409.85 959.759 Q1407.36 958.39 1404.85 957.722 Q1402.37 957.022 1399.82 957.022 Q1394.12 957.022 1390.97 960.65 Q1387.82 964.247 1387.82 970.772 Q1387.82 977.297 1390.97 980.925 Q1394.12 984.522 1399.82 984.522 Q1402.37 984.522 1404.85 983.853 Q1407.36 983.153 1409.85 981.784 L1409.85 987.195 Q1407.39 988.341 1404.75 988.914 Q1402.14 989.487 1399.18 989.487 Q1391.13 989.487 1386.39 984.426 Q1381.64 979.365 1381.64 970.772 Q1381.64 962.051 1386.42 957.054 Q1391.23 952.057 1399.56 952.057 Q1402.27 952.057 1404.85 952.629 Q1407.43 953.171 1409.85 954.285 Z\" fill=\"#000000\" fill-rule=\"evenodd\" fill-opacity=\"1\" /><path clip-path=\"url(#clip430)\" d=\"M1434.86 991.874 Q1432.38 998.24 1430.02 1000.18 Q1427.67 1002.12 1423.72 1002.12 L1419.04 1002.12 L1419.04 997.221 L1422.48 997.221 Q1424.9 997.221 1426.24 996.075 Q1427.57 994.93 1429.2 990.665 L1430.25 987.991 L1415.83 952.916 L1422.04 952.916 L1433.18 980.798 L1444.32 952.916 L1450.52 952.916 L1434.86 991.874 Z\" fill=\"#000000\" fill-rule=\"evenodd\" fill-opacity=\"1\" /><path clip-path=\"url(#clip430)\" d=\"M1457.68 939.102 L1462.78 939.102 Q1467.55 946.614 1469.91 953.807 Q1472.29 961 1472.29 968.098 Q1472.29 975.228 1469.91 982.453 Q1467.55 989.678 1462.78 997.158 L1457.68 997.158 Q1461.92 989.869 1463.99 982.676 Q1466.09 975.45 1466.09 968.098 Q1466.09 960.746 1463.99 953.584 Q1461.92 946.423 1457.68 939.102 Z\" fill=\"#000000\" fill-rule=\"evenodd\" fill-opacity=\"1\" /><polyline clip-path=\"url(#clip432)\" style=\"stroke:#000000; stroke-linecap:butt; stroke-linejoin:round; stroke-width:2; stroke-opacity:0.1; fill:none\" points=\"\n",
       "  203.5,849.7 1952.76,849.7 \n",
       "  \"/>\n",
       "<polyline clip-path=\"url(#clip432)\" style=\"stroke:#000000; stroke-linecap:butt; stroke-linejoin:round; stroke-width:2; stroke-opacity:0.1; fill:none\" points=\"\n",
       "  203.5,694.365 1952.76,694.365 \n",
       "  \"/>\n",
       "<polyline clip-path=\"url(#clip432)\" style=\"stroke:#000000; stroke-linecap:butt; stroke-linejoin:round; stroke-width:2; stroke-opacity:0.1; fill:none\" points=\"\n",
       "  203.5,539.031 1952.76,539.031 \n",
       "  \"/>\n",
       "<polyline clip-path=\"url(#clip432)\" style=\"stroke:#000000; stroke-linecap:butt; stroke-linejoin:round; stroke-width:2; stroke-opacity:0.1; fill:none\" points=\"\n",
       "  203.5,383.696 1952.76,383.696 \n",
       "  \"/>\n",
       "<polyline clip-path=\"url(#clip432)\" style=\"stroke:#000000; stroke-linecap:butt; stroke-linejoin:round; stroke-width:2; stroke-opacity:0.1; fill:none\" points=\"\n",
       "  203.5,228.362 1952.76,228.362 \n",
       "  \"/>\n",
       "<polyline clip-path=\"url(#clip430)\" style=\"stroke:#000000; stroke-linecap:butt; stroke-linejoin:round; stroke-width:4; stroke-opacity:1; fill:none\" points=\"\n",
       "  203.5,849.7 203.5,108.352 \n",
       "  \"/>\n",
       "<polyline clip-path=\"url(#clip430)\" style=\"stroke:#000000; stroke-linecap:butt; stroke-linejoin:round; stroke-width:4; stroke-opacity:1; fill:none\" points=\"\n",
       "  203.5,849.7 222.398,849.7 \n",
       "  \"/>\n",
       "<polyline clip-path=\"url(#clip430)\" style=\"stroke:#000000; stroke-linecap:butt; stroke-linejoin:round; stroke-width:4; stroke-opacity:1; fill:none\" points=\"\n",
       "  203.5,694.365 222.398,694.365 \n",
       "  \"/>\n",
       "<polyline clip-path=\"url(#clip430)\" style=\"stroke:#000000; stroke-linecap:butt; stroke-linejoin:round; stroke-width:4; stroke-opacity:1; fill:none\" points=\"\n",
       "  203.5,539.031 222.398,539.031 \n",
       "  \"/>\n",
       "<polyline clip-path=\"url(#clip430)\" style=\"stroke:#000000; stroke-linecap:butt; stroke-linejoin:round; stroke-width:4; stroke-opacity:1; fill:none\" points=\"\n",
       "  203.5,383.696 222.398,383.696 \n",
       "  \"/>\n",
       "<polyline clip-path=\"url(#clip430)\" style=\"stroke:#000000; stroke-linecap:butt; stroke-linejoin:round; stroke-width:4; stroke-opacity:1; fill:none\" points=\"\n",
       "  203.5,228.362 222.398,228.362 \n",
       "  \"/>\n",
       "<path clip-path=\"url(#clip430)\" d=\"M116.325 835.499 Q112.713 835.499 110.885 839.063 Q109.079 842.605 109.079 849.735 Q109.079 856.841 110.885 860.406 Q112.713 863.947 116.325 863.947 Q119.959 863.947 121.764 860.406 Q123.593 856.841 123.593 849.735 Q123.593 842.605 121.764 839.063 Q119.959 835.499 116.325 835.499 M116.325 831.795 Q122.135 831.795 125.19 836.401 Q128.269 840.985 128.269 849.735 Q128.269 858.461 125.19 863.068 Q122.135 867.651 116.325 867.651 Q110.514 867.651 107.436 863.068 Q104.38 858.461 104.38 849.735 Q104.38 840.985 107.436 836.401 Q110.514 831.795 116.325 831.795 Z\" fill=\"#000000\" fill-rule=\"evenodd\" fill-opacity=\"1\" /><path clip-path=\"url(#clip430)\" d=\"M136.486 861.1 L141.371 861.1 L141.371 866.98 L136.486 866.98 L136.486 861.1 Z\" fill=\"#000000\" fill-rule=\"evenodd\" fill-opacity=\"1\" /><path clip-path=\"url(#clip430)\" d=\"M161.556 835.499 Q157.945 835.499 156.116 839.063 Q154.31 842.605 154.31 849.735 Q154.31 856.841 156.116 860.406 Q157.945 863.947 161.556 863.947 Q165.19 863.947 166.996 860.406 Q168.824 856.841 168.824 849.735 Q168.824 842.605 166.996 839.063 Q165.19 835.499 161.556 835.499 M161.556 831.795 Q167.366 831.795 170.421 836.401 Q173.5 840.985 173.5 849.735 Q173.5 858.461 170.421 863.068 Q167.366 867.651 161.556 867.651 Q155.746 867.651 152.667 863.068 Q149.611 858.461 149.611 849.735 Q149.611 840.985 152.667 836.401 Q155.746 831.795 161.556 831.795 Z\" fill=\"#000000\" fill-rule=\"evenodd\" fill-opacity=\"1\" /><path clip-path=\"url(#clip430)\" d=\"M117.32 680.164 Q113.709 680.164 111.88 683.729 Q110.075 687.27 110.075 694.4 Q110.075 701.507 111.88 705.071 Q113.709 708.613 117.32 708.613 Q120.954 708.613 122.76 705.071 Q124.588 701.507 124.588 694.4 Q124.588 687.27 122.76 683.729 Q120.954 680.164 117.32 680.164 M117.32 676.46 Q123.13 676.46 126.186 681.067 Q129.264 685.65 129.264 694.4 Q129.264 703.127 126.186 707.733 Q123.13 712.317 117.32 712.317 Q111.51 712.317 108.431 707.733 Q105.376 703.127 105.376 694.4 Q105.376 685.65 108.431 681.067 Q111.51 676.46 117.32 676.46 Z\" fill=\"#000000\" fill-rule=\"evenodd\" fill-opacity=\"1\" /><path clip-path=\"url(#clip430)\" d=\"M137.482 705.766 L142.366 705.766 L142.366 711.645 L137.482 711.645 L137.482 705.766 Z\" fill=\"#000000\" fill-rule=\"evenodd\" fill-opacity=\"1\" /><path clip-path=\"url(#clip430)\" d=\"M152.597 677.085 L170.954 677.085 L170.954 681.02 L156.88 681.02 L156.88 689.493 Q157.898 689.145 158.917 688.983 Q159.935 688.798 160.954 688.798 Q166.741 688.798 170.121 691.97 Q173.5 695.141 173.5 700.557 Q173.5 706.136 170.028 709.238 Q166.556 712.317 160.236 712.317 Q158.06 712.317 155.792 711.946 Q153.547 711.576 151.139 710.835 L151.139 706.136 Q153.222 707.27 155.445 707.826 Q157.667 708.381 160.144 708.381 Q164.148 708.381 166.486 706.275 Q168.824 704.169 168.824 700.557 Q168.824 696.946 166.486 694.84 Q164.148 692.733 160.144 692.733 Q158.269 692.733 156.394 693.15 Q154.542 693.567 152.597 694.446 L152.597 677.085 Z\" fill=\"#000000\" fill-rule=\"evenodd\" fill-opacity=\"1\" /><path clip-path=\"url(#clip430)\" d=\"M107.135 552.376 L114.774 552.376 L114.774 526.01 L106.463 527.677 L106.463 523.417 L114.727 521.751 L119.403 521.751 L119.403 552.376 L127.042 552.376 L127.042 556.311 L107.135 556.311 L107.135 552.376 Z\" fill=\"#000000\" fill-rule=\"evenodd\" fill-opacity=\"1\" /><path clip-path=\"url(#clip430)\" d=\"M136.486 550.431 L141.371 550.431 L141.371 556.311 L136.486 556.311 L136.486 550.431 Z\" fill=\"#000000\" fill-rule=\"evenodd\" fill-opacity=\"1\" /><path clip-path=\"url(#clip430)\" d=\"M161.556 524.83 Q157.945 524.83 156.116 528.394 Q154.31 531.936 154.31 539.066 Q154.31 546.172 156.116 549.737 Q157.945 553.278 161.556 553.278 Q165.19 553.278 166.996 549.737 Q168.824 546.172 168.824 539.066 Q168.824 531.936 166.996 528.394 Q165.19 524.83 161.556 524.83 M161.556 521.126 Q167.366 521.126 170.421 525.732 Q173.5 530.316 173.5 539.066 Q173.5 547.792 170.421 552.399 Q167.366 556.982 161.556 556.982 Q155.746 556.982 152.667 552.399 Q149.611 547.792 149.611 539.066 Q149.611 530.316 152.667 525.732 Q155.746 521.126 161.556 521.126 Z\" fill=\"#000000\" fill-rule=\"evenodd\" fill-opacity=\"1\" /><path clip-path=\"url(#clip430)\" d=\"M108.13 397.041 L115.769 397.041 L115.769 370.676 L107.459 372.342 L107.459 368.083 L115.723 366.416 L120.399 366.416 L120.399 397.041 L128.037 397.041 L128.037 400.976 L108.13 400.976 L108.13 397.041 Z\" fill=\"#000000\" fill-rule=\"evenodd\" fill-opacity=\"1\" /><path clip-path=\"url(#clip430)\" d=\"M137.482 395.097 L142.366 395.097 L142.366 400.976 L137.482 400.976 L137.482 395.097 Z\" fill=\"#000000\" fill-rule=\"evenodd\" fill-opacity=\"1\" /><path clip-path=\"url(#clip430)\" d=\"M152.597 366.416 L170.954 366.416 L170.954 370.351 L156.88 370.351 L156.88 378.824 Q157.898 378.476 158.917 378.314 Q159.935 378.129 160.954 378.129 Q166.741 378.129 170.121 381.301 Q173.5 384.472 173.5 389.888 Q173.5 395.467 170.028 398.569 Q166.556 401.648 160.236 401.648 Q158.06 401.648 155.792 401.277 Q153.547 400.907 151.139 400.166 L151.139 395.467 Q153.222 396.601 155.445 397.157 Q157.667 397.712 160.144 397.712 Q164.148 397.712 166.486 395.606 Q168.824 393.5 168.824 389.888 Q168.824 386.277 166.486 384.171 Q164.148 382.064 160.144 382.064 Q158.269 382.064 156.394 382.481 Q154.542 382.898 152.597 383.777 L152.597 366.416 Z\" fill=\"#000000\" fill-rule=\"evenodd\" fill-opacity=\"1\" /><path clip-path=\"url(#clip430)\" d=\"M110.352 241.707 L126.672 241.707 L126.672 245.642 L104.727 245.642 L104.727 241.707 Q107.389 238.952 111.973 234.322 Q116.579 229.67 117.76 228.327 Q120.005 225.804 120.885 224.068 Q121.787 222.309 121.787 220.619 Q121.787 217.864 119.843 216.128 Q117.922 214.392 114.82 214.392 Q112.621 214.392 110.167 215.156 Q107.737 215.92 104.959 217.471 L104.959 212.748 Q107.783 211.614 110.237 211.036 Q112.69 210.457 114.727 210.457 Q120.098 210.457 123.292 213.142 Q126.487 215.827 126.487 220.318 Q126.487 222.447 125.676 224.369 Q124.889 226.267 122.783 228.859 Q122.204 229.531 119.102 232.748 Q116 235.943 110.352 241.707 Z\" fill=\"#000000\" fill-rule=\"evenodd\" fill-opacity=\"1\" /><path clip-path=\"url(#clip430)\" d=\"M136.486 239.762 L141.371 239.762 L141.371 245.642 L136.486 245.642 L136.486 239.762 Z\" fill=\"#000000\" fill-rule=\"evenodd\" fill-opacity=\"1\" /><path clip-path=\"url(#clip430)\" d=\"M161.556 214.161 Q157.945 214.161 156.116 217.725 Q154.31 221.267 154.31 228.397 Q154.31 235.503 156.116 239.068 Q157.945 242.609 161.556 242.609 Q165.19 242.609 166.996 239.068 Q168.824 235.503 168.824 228.397 Q168.824 221.267 166.996 217.725 Q165.19 214.161 161.556 214.161 M161.556 210.457 Q167.366 210.457 170.421 215.063 Q173.5 219.647 173.5 228.397 Q173.5 237.123 170.421 241.73 Q167.366 246.313 161.556 246.313 Q155.746 246.313 152.667 241.73 Q149.611 237.123 149.611 228.397 Q149.611 219.647 152.667 215.063 Q155.746 210.457 161.556 210.457 Z\" fill=\"#000000\" fill-rule=\"evenodd\" fill-opacity=\"1\" /><path clip-path=\"url(#clip430)\" d=\"M10.599 728.769 L10.599 722.912 L60.1242 722.912 L60.1242 728.769 L10.599 728.769 Z\" fill=\"#000000\" fill-rule=\"evenodd\" fill-opacity=\"1\" /><path clip-path=\"url(#clip430)\" d=\"M28.5821 696.845 Q28.5821 701.555 32.2742 704.292 Q35.9345 707.03 42.332 707.03 Q48.7295 707.03 52.4217 704.324 Q56.0819 701.587 56.0819 696.845 Q56.0819 692.166 52.3898 689.429 Q48.6977 686.691 42.332 686.691 Q35.9981 686.691 32.306 689.429 Q28.5821 692.166 28.5821 696.845 M23.6168 696.845 Q23.6168 689.206 28.5821 684.845 Q33.5473 680.485 42.332 680.485 Q51.0849 680.485 56.0819 684.845 Q61.0472 689.206 61.0472 696.845 Q61.0472 704.515 56.0819 708.876 Q51.0849 713.204 42.332 713.204 Q33.5473 713.204 28.5821 708.876 Q23.6168 704.515 23.6168 696.845 Z\" fill=\"#000000\" fill-rule=\"evenodd\" fill-opacity=\"1\" /><path clip-path=\"url(#clip430)\" d=\"M41.8864 647.319 Q35.5207 647.319 32.0196 649.961 Q28.5184 652.571 28.5184 657.314 Q28.5184 662.024 32.0196 664.666 Q35.5207 667.276 41.8864 667.276 Q48.2203 667.276 51.7214 664.666 Q55.2226 662.024 55.2226 657.314 Q55.2226 652.571 51.7214 649.961 Q48.2203 647.319 41.8864 647.319 M55.7 641.463 Q64.803 641.463 69.2271 645.505 Q73.6831 649.547 73.6831 657.886 Q73.6831 660.974 73.2057 663.711 Q72.7601 666.448 71.8052 669.026 L66.1079 669.026 Q67.5084 666.448 68.1768 663.934 Q68.8452 661.419 68.8452 658.809 Q68.8452 653.048 65.8215 650.184 Q62.8296 647.319 56.7503 647.319 L53.8539 647.319 Q57.005 649.134 58.5646 651.966 Q60.1242 654.799 60.1242 658.746 Q60.1242 665.302 55.1271 669.313 Q50.13 673.323 41.8864 673.323 Q33.611 673.323 28.6139 669.313 Q23.6168 665.302 23.6168 658.746 Q23.6168 654.799 25.1764 651.966 Q26.736 649.134 29.8871 647.319 L24.4762 647.319 L24.4762 641.463 L55.7 641.463 Z\" fill=\"#000000\" fill-rule=\"evenodd\" fill-opacity=\"1\" /><path clip-path=\"url(#clip430)\" d=\"M10.6626 615.332 Q17.9832 619.597 25.1446 621.666 Q32.306 623.734 39.6584 623.734 Q47.0108 623.734 54.2359 621.666 Q61.4291 619.565 68.7179 615.332 L68.7179 620.424 Q61.2382 625.199 54.0131 627.586 Q46.788 629.941 39.6584 629.941 Q32.5606 629.941 25.3674 627.586 Q18.1742 625.23 10.6626 620.424 L10.6626 615.332 Z\" fill=\"#000000\" fill-rule=\"evenodd\" fill-opacity=\"1\" /><path clip-path=\"url(#clip430)\" d=\"M31.4466 576.787 L31.4466 586.049 L42.0774 588.723 L42.0774 579.397 L31.4466 576.787 M13.3362 581.562 L26.5451 584.872 L26.5451 575.578 L13.3362 572.236 L13.3362 567.143 L26.5451 570.422 L26.5451 560.491 L31.4466 560.491 L31.4466 571.663 L42.0774 574.273 L42.0774 564.151 L46.9471 564.151 L46.9471 575.514 L60.1242 578.824 L60.1242 583.917 L46.9471 580.639 L46.9471 589.964 L60.1242 593.243 L60.1242 598.367 L46.9471 595.057 L46.9471 605.083 L42.0774 605.083 L42.0774 593.879 L31.4466 591.206 L31.4466 601.454 L26.5451 601.454 L26.5451 589.964 L13.3362 586.718 L13.3362 581.562 Z\" fill=\"#000000\" fill-rule=\"evenodd\" fill-opacity=\"1\" /><path clip-path=\"url(#clip430)\" d=\"M28.5821 514.817 Q28.5821 519.528 32.2742 522.265 Q35.9345 525.002 42.332 525.002 Q48.7295 525.002 52.4217 522.297 Q56.0819 519.56 56.0819 514.817 Q56.0819 510.138 52.3898 507.401 Q48.6977 504.664 42.332 504.664 Q35.9981 504.664 32.306 507.401 Q28.5821 510.138 28.5821 514.817 M23.6168 514.817 Q23.6168 507.178 28.5821 502.818 Q33.5473 498.457 42.332 498.457 Q51.0849 498.457 56.0819 502.818 Q61.0472 507.178 61.0472 514.817 Q61.0472 522.488 56.0819 526.848 Q51.0849 531.177 42.332 531.177 Q33.5473 531.177 28.5821 526.848 Q23.6168 522.488 23.6168 514.817 Z\" fill=\"#000000\" fill-rule=\"evenodd\" fill-opacity=\"1\" /><path clip-path=\"url(#clip430)\" d=\"M10.599 470.703 L15.4687 470.703 L15.4687 476.305 Q15.4687 479.456 16.7419 480.697 Q18.015 481.906 21.3252 481.906 L24.4762 481.906 L24.4762 472.262 L29.0277 472.262 L29.0277 481.906 L60.1242 481.906 L60.1242 487.795 L29.0277 487.795 L29.0277 493.397 L24.4762 493.397 L24.4762 487.795 L21.9936 487.795 Q16.0416 487.795 13.3362 485.026 Q10.599 482.257 10.599 476.241 L10.599 470.703 Z\" fill=\"#000000\" fill-rule=\"evenodd\" fill-opacity=\"1\" /><path clip-path=\"url(#clip430)\" d=\"M10.599 445.304 L10.599 439.415 L39.8494 439.415 L24.4762 421.942 L24.4762 414.462 L41.1544 433.368 L60.1242 413.666 L60.1242 421.305 L42.7139 439.415 L60.1242 439.415 L60.1242 445.304 L10.599 445.304 Z\" fill=\"#000000\" fill-rule=\"evenodd\" fill-opacity=\"1\" /><path clip-path=\"url(#clip430)\" d=\"M31.3193 379.578 Q27.3726 377.382 25.4947 374.326 Q23.6168 371.27 23.6168 367.133 Q23.6168 361.563 27.5317 358.539 Q31.4148 355.515 38.6081 355.515 L60.1242 355.515 L60.1242 361.404 L38.799 361.404 Q33.6746 361.404 31.192 363.218 Q28.7094 365.032 28.7094 368.756 Q28.7094 373.308 31.7331 375.949 Q34.7568 378.591 39.9767 378.591 L60.1242 378.591 L60.1242 384.479 L38.799 384.479 Q33.6428 384.479 31.192 386.294 Q28.7094 388.108 28.7094 391.895 Q28.7094 396.383 31.7649 399.025 Q34.7886 401.667 39.9767 401.667 L60.1242 401.667 L60.1242 407.555 L24.4762 407.555 L24.4762 401.667 L30.0144 401.667 Q26.736 399.662 25.1764 396.861 Q23.6168 394.06 23.6168 390.208 Q23.6168 386.325 25.5902 383.62 Q27.5636 380.883 31.3193 379.578 Z\" fill=\"#000000\" fill-rule=\"evenodd\" fill-opacity=\"1\" /><path clip-path=\"url(#clip430)\" d=\"M40.8361 313.343 L43.7006 313.343 L43.7006 340.269 Q49.7481 339.888 52.9309 336.641 Q56.0819 333.363 56.0819 327.538 Q56.0819 324.164 55.2544 321.013 Q54.4269 317.83 52.7718 314.711 L58.3099 314.711 Q59.6467 317.862 60.347 321.172 Q61.0472 324.483 61.0472 327.888 Q61.0472 336.418 56.0819 341.415 Q51.1167 346.381 42.6503 346.381 Q33.8974 346.381 28.7731 341.67 Q23.6168 336.927 23.6168 328.907 Q23.6168 321.713 28.2638 317.544 Q32.8789 313.343 40.8361 313.343 M39.1173 319.199 Q34.3112 319.263 31.4466 321.904 Q28.5821 324.514 28.5821 328.843 Q28.5821 333.745 31.3512 336.705 Q34.1202 339.633 39.1492 340.079 L39.1173 319.199 Z\" fill=\"#000000\" fill-rule=\"evenodd\" fill-opacity=\"1\" /><path clip-path=\"url(#clip430)\" d=\"M29.9507 283.074 Q29.3778 284.06 29.1232 285.238 Q28.8367 286.384 28.8367 287.784 Q28.8367 292.749 32.0832 295.423 Q35.2979 298.065 41.3453 298.065 L60.1242 298.065 L60.1242 303.953 L24.4762 303.953 L24.4762 298.065 L30.0144 298.065 Q26.7679 296.219 25.2083 293.259 Q23.6168 290.299 23.6168 286.066 Q23.6168 285.461 23.7123 284.729 Q23.776 283.997 23.9351 283.105 L29.9507 283.074 Z\" fill=\"#000000\" fill-rule=\"evenodd\" fill-opacity=\"1\" /><path clip-path=\"url(#clip430)\" d=\"M25.5265 254.205 L31.0647 254.205 Q29.7916 256.688 29.155 259.361 Q28.5184 262.035 28.5184 264.9 Q28.5184 269.26 29.8552 271.456 Q31.192 273.621 33.8656 273.621 Q35.9026 273.621 37.0803 272.061 Q38.2261 270.501 39.2765 265.791 L39.7221 263.786 Q41.0589 257.547 43.5097 254.937 Q45.9286 252.295 50.2891 252.295 Q55.2544 252.295 58.1508 256.242 Q61.0472 260.157 61.0472 267.032 Q61.0472 269.897 60.4743 273.016 Q59.9332 276.103 58.8192 279.541 L52.7718 279.541 Q54.4587 276.294 55.318 273.143 Q56.1456 269.992 56.1456 266.905 Q56.1456 262.767 54.7451 260.539 Q53.3129 258.311 50.7347 258.311 Q48.3476 258.311 47.0745 259.934 Q45.8013 261.526 44.6237 266.968 L44.1462 269.005 Q43.0004 274.448 40.6451 276.867 Q38.258 279.286 34.1202 279.286 Q29.0913 279.286 26.3541 275.721 Q23.6168 272.156 23.6168 265.6 Q23.6168 262.353 24.0943 259.489 Q24.5717 256.624 25.5265 254.205 Z\" fill=\"#000000\" fill-rule=\"evenodd\" fill-opacity=\"1\" /><path clip-path=\"url(#clip430)\" d=\"M10.6626 243.893 L10.6626 238.8 Q18.1742 234.026 25.3674 231.671 Q32.5606 229.283 39.6584 229.283 Q46.788 229.283 54.0131 231.671 Q61.2382 234.026 68.7179 238.8 L68.7179 243.893 Q61.4291 239.66 54.2359 237.591 Q47.0108 235.49 39.6584 235.49 Q32.306 235.49 25.1446 237.591 Q17.9832 239.66 10.6626 243.893 Z\" fill=\"#000000\" fill-rule=\"evenodd\" fill-opacity=\"1\" /><path clip-path=\"url(#clip430)\" d=\"M721.567 9.54393 L729.062 9.54393 L729.062 46.7717 L751.301 27.2059 L760.821 27.2059 L736.758 48.4326 L761.833 72.576 L752.111 72.576 L729.062 50.4176 L729.062 72.576 L721.567 72.576 L721.567 9.54393 Z\" fill=\"#000000\" fill-rule=\"evenodd\" fill-opacity=\"1\" /><path clip-path=\"url(#clip430)\" d=\"M805.219 35.9153 Q808.014 30.8922 811.903 28.5022 Q815.791 26.1121 821.058 26.1121 Q828.147 26.1121 831.995 31.0947 Q835.843 36.0368 835.843 45.1919 L835.843 72.576 L828.349 72.576 L828.349 45.4349 Q828.349 38.913 826.04 35.7533 Q823.731 32.5936 818.992 32.5936 Q813.199 32.5936 809.837 36.4419 Q806.474 40.2903 806.474 46.9338 L806.474 72.576 L798.98 72.576 L798.98 45.4349 Q798.98 38.8725 796.671 35.7533 Q794.362 32.5936 789.542 32.5936 Q783.83 32.5936 780.468 36.4824 Q777.105 40.3308 777.105 46.9338 L777.105 72.576 L769.611 72.576 L769.611 27.2059 L777.105 27.2059 L777.105 34.2544 Q779.657 30.082 783.222 28.0971 Q786.787 26.1121 791.689 26.1121 Q796.631 26.1121 800.074 28.6237 Q803.558 31.1352 805.219 35.9153 Z\" fill=\"#000000\" fill-rule=\"evenodd\" fill-opacity=\"1\" /><path clip-path=\"url(#clip430)\" d=\"M889.518 48.0275 L889.518 51.6733 L855.247 51.6733 Q855.733 59.3701 859.865 63.421 Q864.038 67.4314 871.451 67.4314 Q875.745 67.4314 879.755 66.3781 Q883.806 65.3249 887.776 63.2184 L887.776 70.267 Q883.766 71.9684 879.553 72.8596 Q875.34 73.7508 871.005 73.7508 Q860.149 73.7508 853.789 67.4314 Q847.47 61.1119 847.47 50.3365 Q847.47 39.1965 853.465 32.6746 Q859.501 26.1121 869.709 26.1121 Q878.864 26.1121 884.171 32.0264 Q889.518 37.9003 889.518 48.0275 M882.064 45.84 Q881.983 39.7232 878.621 36.0774 Q875.299 32.4315 869.79 32.4315 Q863.552 32.4315 859.784 35.9558 Q856.057 39.4801 855.49 45.8805 L882.064 45.84 Z\" fill=\"#000000\" fill-rule=\"evenodd\" fill-opacity=\"1\" /><path clip-path=\"url(#clip430)\" d=\"M928.042 34.1734 Q926.786 33.4443 925.287 33.1202 Q923.829 32.7556 922.047 32.7556 Q915.727 32.7556 912.325 36.8875 Q908.962 40.9789 908.962 48.6757 L908.962 72.576 L901.468 72.576 L901.468 27.2059 L908.962 27.2059 L908.962 34.2544 Q911.312 30.1225 915.079 28.1376 Q918.846 26.1121 924.234 26.1121 Q925.004 26.1121 925.936 26.2337 Q926.867 26.3147 928.002 26.5172 L928.042 34.1734 Z\" fill=\"#000000\" fill-rule=\"evenodd\" fill-opacity=\"1\" /><path clip-path=\"url(#clip430)\" d=\"M985.2 9.54393 L985.2 15.7418 L978.071 15.7418 Q974.06 15.7418 972.48 17.3622 Q970.941 18.9825 970.941 23.1955 L970.941 27.2059 L983.215 27.2059 L983.215 32.9987 L970.941 32.9987 L970.941 72.576 L963.447 72.576 L963.447 32.9987 L956.317 32.9987 L956.317 27.2059 L963.447 27.2059 L963.447 24.0462 Q963.447 16.471 966.971 13.0277 Q970.496 9.54393 978.152 9.54393 L985.2 9.54393 Z\" fill=\"#000000\" fill-rule=\"evenodd\" fill-opacity=\"1\" /><path clip-path=\"url(#clip430)\" d=\"M1017.73 34.1734 Q1016.47 33.4443 1014.97 33.1202 Q1013.52 32.7556 1011.73 32.7556 Q1005.41 32.7556 1002.01 36.8875 Q998.649 40.9789 998.649 48.6757 L998.649 72.576 L991.155 72.576 L991.155 27.2059 L998.649 27.2059 L998.649 34.2544 Q1001 30.1225 1004.77 28.1376 Q1008.53 26.1121 1013.92 26.1121 Q1014.69 26.1121 1015.62 26.2337 Q1016.55 26.3147 1017.69 26.5172 L1017.73 34.1734 Z\" fill=\"#000000\" fill-rule=\"evenodd\" fill-opacity=\"1\" /><path clip-path=\"url(#clip430)\" d=\"M1062.53 48.0275 L1062.53 51.6733 L1028.26 51.6733 Q1028.75 59.3701 1032.88 63.421 Q1037.05 67.4314 1044.47 67.4314 Q1048.76 67.4314 1052.77 66.3781 Q1056.82 65.3249 1060.79 63.2184 L1060.79 70.267 Q1056.78 71.9684 1052.57 72.8596 Q1048.35 73.7508 1044.02 73.7508 Q1033.16 73.7508 1026.8 67.4314 Q1020.48 61.1119 1020.48 50.3365 Q1020.48 39.1965 1026.48 32.6746 Q1032.51 26.1121 1042.72 26.1121 Q1051.88 26.1121 1057.18 32.0264 Q1062.53 37.9003 1062.53 48.0275 M1055.08 45.84 Q1055 39.7232 1051.64 36.0774 Q1048.31 32.4315 1042.8 32.4315 Q1036.57 32.4315 1032.8 35.9558 Q1029.07 39.4801 1028.5 45.8805 L1055.08 45.84 Z\" fill=\"#000000\" fill-rule=\"evenodd\" fill-opacity=\"1\" /><path clip-path=\"url(#clip430)\" d=\"M1079.22 49.9314 Q1079.22 58.1548 1082.58 62.8538 Q1085.99 67.5124 1091.9 67.5124 Q1097.82 67.5124 1101.22 62.8538 Q1104.62 58.1548 1104.62 49.9314 Q1104.62 41.7081 1101.22 37.0496 Q1097.82 32.3505 1091.9 32.3505 Q1085.99 32.3505 1082.58 37.0496 Q1079.22 41.7081 1079.22 49.9314 M1104.62 65.7705 Q1102.27 69.8214 1098.67 71.8063 Q1095.1 73.7508 1090.08 73.7508 Q1081.85 73.7508 1076.67 67.1883 Q1071.53 60.6258 1071.53 49.9314 Q1071.53 39.2371 1076.67 32.6746 Q1081.85 26.1121 1090.08 26.1121 Q1095.1 26.1121 1098.67 28.0971 Q1102.27 30.0415 1104.62 34.0924 L1104.62 27.2059 L1112.07 27.2059 L1112.07 89.8329 L1104.62 89.8329 L1104.62 65.7705 Z\" fill=\"#000000\" fill-rule=\"evenodd\" fill-opacity=\"1\" /><path clip-path=\"url(#clip430)\" d=\"M1126.66 54.671 L1126.66 27.2059 L1134.11 27.2059 L1134.11 54.3874 Q1134.11 60.8284 1136.62 64.0691 Q1139.13 67.2693 1144.16 67.2693 Q1150.19 67.2693 1153.68 63.421 Q1157.2 59.5726 1157.2 52.9291 L1157.2 27.2059 L1164.66 27.2059 L1164.66 72.576 L1157.2 72.576 L1157.2 65.6084 Q1154.49 69.7404 1150.88 71.7658 Q1147.32 73.7508 1142.58 73.7508 Q1134.76 73.7508 1130.71 68.8897 Q1126.66 64.0286 1126.66 54.671 M1145.41 26.1121 L1145.41 26.1121 Z\" fill=\"#000000\" fill-rule=\"evenodd\" fill-opacity=\"1\" /><path clip-path=\"url(#clip430)\" d=\"M1218.82 48.0275 L1218.82 51.6733 L1184.55 51.6733 Q1185.03 59.3701 1189.16 63.421 Q1193.34 67.4314 1200.75 67.4314 Q1205.04 67.4314 1209.05 66.3781 Q1213.1 65.3249 1217.07 63.2184 L1217.07 70.267 Q1213.06 71.9684 1208.85 72.8596 Q1204.64 73.7508 1200.3 73.7508 Q1189.45 73.7508 1183.09 67.4314 Q1176.77 61.1119 1176.77 50.3365 Q1176.77 39.1965 1182.76 32.6746 Q1188.8 26.1121 1199.01 26.1121 Q1208.16 26.1121 1213.47 32.0264 Q1218.82 37.9003 1218.82 48.0275 M1211.36 45.84 Q1211.28 39.7232 1207.92 36.0774 Q1204.6 32.4315 1199.09 32.4315 Q1192.85 32.4315 1189.08 35.9558 Q1185.36 39.4801 1184.79 45.8805 L1211.36 45.84 Z\" fill=\"#000000\" fill-rule=\"evenodd\" fill-opacity=\"1\" /><path clip-path=\"url(#clip430)\" d=\"M1268.76 45.1919 L1268.76 72.576 L1261.31 72.576 L1261.31 45.4349 Q1261.31 38.994 1258.8 35.7938 Q1256.29 32.5936 1251.26 32.5936 Q1245.23 32.5936 1241.74 36.4419 Q1238.26 40.2903 1238.26 46.9338 L1238.26 72.576 L1230.77 72.576 L1230.77 27.2059 L1238.26 27.2059 L1238.26 34.2544 Q1240.93 30.163 1244.54 28.1376 Q1248.18 26.1121 1252.92 26.1121 Q1260.74 26.1121 1264.75 30.9732 Q1268.76 35.7938 1268.76 45.1919 Z\" fill=\"#000000\" fill-rule=\"evenodd\" fill-opacity=\"1\" /><path clip-path=\"url(#clip430)\" d=\"M1316.28 28.9478 L1316.28 35.9153 Q1313.12 34.1734 1309.92 33.3227 Q1306.76 32.4315 1303.52 32.4315 Q1296.27 32.4315 1292.26 37.0496 Q1288.25 41.6271 1288.25 49.9314 Q1288.25 58.2358 1292.26 62.8538 Q1296.27 67.4314 1303.52 67.4314 Q1306.76 67.4314 1309.92 66.5807 Q1313.12 65.6895 1316.28 63.9476 L1316.28 70.8341 Q1313.16 72.2924 1309.8 73.0216 Q1306.48 73.7508 1302.71 73.7508 Q1292.46 73.7508 1286.43 67.3098 Q1280.39 60.8689 1280.39 49.9314 Q1280.39 38.832 1286.47 32.472 Q1292.58 26.1121 1303.2 26.1121 Q1306.64 26.1121 1309.92 26.8413 Q1313.2 27.5299 1316.28 28.9478 Z\" fill=\"#000000\" fill-rule=\"evenodd\" fill-opacity=\"1\" /><path clip-path=\"url(#clip430)\" d=\"M1329.24 27.2059 L1336.7 27.2059 L1336.7 72.576 L1329.24 72.576 L1329.24 27.2059 M1329.24 9.54393 L1336.7 9.54393 L1336.7 18.9825 L1329.24 18.9825 L1329.24 9.54393 Z\" fill=\"#000000\" fill-rule=\"evenodd\" fill-opacity=\"1\" /><path clip-path=\"url(#clip430)\" d=\"M1391.1 48.0275 L1391.1 51.6733 L1356.83 51.6733 Q1357.32 59.3701 1361.45 63.421 Q1365.62 67.4314 1373.03 67.4314 Q1377.33 67.4314 1381.34 66.3781 Q1385.39 65.3249 1389.36 63.2184 L1389.36 70.267 Q1385.35 71.9684 1381.14 72.8596 Q1376.92 73.7508 1372.59 73.7508 Q1361.73 73.7508 1355.37 67.4314 Q1349.05 61.1119 1349.05 50.3365 Q1349.05 39.1965 1355.05 32.6746 Q1361.08 26.1121 1371.29 26.1121 Q1380.45 26.1121 1385.75 32.0264 Q1391.1 37.9003 1391.1 48.0275 M1383.65 45.84 Q1383.57 39.7232 1380.2 36.0774 Q1376.88 32.4315 1371.37 32.4315 Q1365.13 32.4315 1361.37 35.9558 Q1357.64 39.4801 1357.07 45.8805 L1383.65 45.84 Z\" fill=\"#000000\" fill-rule=\"evenodd\" fill-opacity=\"1\" /><path clip-path=\"url(#clip430)\" d=\"M1432.26 28.5427 L1432.26 35.5912 Q1429.1 33.9709 1425.7 33.1607 Q1422.29 32.3505 1418.65 32.3505 Q1413.1 32.3505 1410.3 34.0519 Q1407.55 35.7533 1407.55 39.156 Q1407.55 41.7486 1409.53 43.2475 Q1411.52 44.7058 1417.51 46.0426 L1420.06 46.6097 Q1428 48.3111 1431.33 51.4303 Q1434.69 54.509 1434.69 60.0587 Q1434.69 66.3781 1429.67 70.0644 Q1424.68 73.7508 1415.93 73.7508 Q1412.29 73.7508 1408.32 73.0216 Q1404.39 72.3329 1400.01 70.9151 L1400.01 63.2184 Q1404.14 65.3654 1408.16 66.4591 Q1412.17 67.5124 1416.09 67.5124 Q1421.36 67.5124 1424.2 65.73 Q1427.03 63.9071 1427.03 60.6258 Q1427.03 57.5877 1424.97 55.9673 Q1422.94 54.3469 1416.01 52.8481 L1413.42 52.2405 Q1406.49 50.7821 1403.42 47.7845 Q1400.34 44.7463 1400.34 39.4801 Q1400.34 33.0797 1404.87 29.5959 Q1409.41 26.1121 1417.76 26.1121 Q1421.89 26.1121 1425.53 26.7198 Q1429.18 27.3274 1432.26 28.5427 Z\" fill=\"#000000\" fill-rule=\"evenodd\" fill-opacity=\"1\" /><circle clip-path=\"url(#clip432)\" cx=\"1640.68\" cy=\"419.021\" r=\"14\" fill=\"#009af9\" fill-rule=\"evenodd\" fill-opacity=\"1\" stroke=\"#000000\" stroke-opacity=\"1\" stroke-width=\"2\"/>\n",
       "</svg>\n"
      ]
     },
     "execution_count": 49,
     "metadata": {},
     "output_type": "execute_result"
    }
   ],
   "source": [
    "kmer_counts = Dict(corrected_observation_graph.vprops[v][:kmer] => corrected_observation_graph.vprops[v][:weight] for v in LightGraphs.vertices(corrected_observation_graph))\n",
    "total_observed_kmers = sum(values(kmer_counts))\n",
    "kmer_probabilities = Dict(k => v/total_observed_kmers for (k,v) in kmer_counts)\n",
    "scale = 250\n",
    "Mycelia.plot_kmer_frequency_spectra(values(kmer_counts), size=(2scale,scale), title=\"kmer frequencies\")"
   ]
  },
  {
   "cell_type": "code",
   "execution_count": 50,
   "id": "2b4354c8-d03e-49d6-b3ed-7f2375f43602",
   "metadata": {},
   "outputs": [],
   "source": [
    "# compare the new graph to the error-free graph to the error-corrected graph"
   ]
  },
  {
   "cell_type": "code",
   "execution_count": 51,
   "id": "5543d4f5-6bb9-4368-8149-9db0267d5aa5",
   "metadata": {},
   "outputs": [
    {
     "data": {
      "text/plain": [
       "0.0"
      ]
     },
     "execution_count": 51,
     "metadata": {},
     "output_type": "execute_result"
    }
   ],
   "source": [
    "distance_to_reference_graph = 1 - LSHFunctions.jaccard(Set(reference_kmers), Set(keys(kmer_counts)))"
   ]
  }
 ],
 "metadata": {
  "kernelspec": {
   "display_name": "Julia 1.6.1",
   "language": "julia",
   "name": "julia-1.6"
  },
  "language_info": {
   "file_extension": ".jl",
   "mimetype": "application/julia",
   "name": "julia",
   "version": "1.6.1"
  }
 },
 "nbformat": 4,
 "nbformat_minor": 5
}
