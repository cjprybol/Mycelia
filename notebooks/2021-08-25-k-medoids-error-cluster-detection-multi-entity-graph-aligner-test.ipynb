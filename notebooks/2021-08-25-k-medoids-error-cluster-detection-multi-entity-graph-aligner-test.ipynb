{
 "cells": [
  {
   "cell_type": "code",
   "execution_count": null,
   "id": "6ac73c46-51c9-4fea-845f-fb17ce8d83a2",
   "metadata": {},
   "outputs": [],
   "source": [
    "DATE = \"2021-08-25\"\n",
    "TASK = \"k-medoids-error-cluster-detection-multi-entity-graph-aligner-test\"\n",
    "DIR = mkpath(\"$(homedir())/$(DATE)-$(TASK)\")"
   ]
  },
  {
   "cell_type": "code",
   "execution_count": null,
   "id": "38cb383f-3696-4b4b-a732-9a2059e0681a",
   "metadata": {},
   "outputs": [],
   "source": [
    "import Pkg\n",
    "pkgs = [\n",
    "#     \"BioAlignments\",\n",
    "    \"BioSequences\",\n",
    "    \"Clustering\",\n",
    "#     \"CodecZlib\",\n",
    "#     \"Colors\",\n",
    "#     \"Combinatorics\",\n",
    "    \"DataFrames\",\n",
    "#     \"DataStructures\",\n",
    "    \"Dates\",\n",
    "#     \"DelimitedFiles\",\n",
    "    \"Distances\",\n",
    "#     \"EzXML\",\n",
    "    \"FASTX\",\n",
    "#     \"GFF3\",\n",
    "#     \"HTTP\",\n",
    "#     \"Impute\",\n",
    "#     \"JSON\",\n",
    "    \"LightGraphs\",\n",
    "    \"LSHFunctions\",\n",
    "#     \"Measures\",\n",
    "    \"MetaGraphs\",\n",
    "    \"https://github.com/cjprybol/Mycelia.git\",\n",
    "#     \"NumericIO\",\n",
    "#     \"PlotlyJS\",\n",
    "#     \"Plots\",\n",
    "    \"Primes\",\n",
    "#     \"Printf\",\n",
    "    \"ProgressMeter\",\n",
    "    \"Random\",\n",
    "    \"Revise\",\n",
    "    \"SparseArrays\",\n",
    "    \"Statistics\",\n",
    "    \"StatsBase\",\n",
    "    \"StatsPlots\",\n",
    "#     \"StringDistances\",\n",
    "    \"uCSV\",\n",
    "#     \"XLSX\",\n",
    "]\n",
    "\n",
    "unregistered_packages = filter(pkg -> occursin(r\"(^https|git$)\", pkg), pkgs)\n",
    "registered_packages = setdiff(pkgs, unregistered_packages)\n",
    "\n",
    "for pkg in registered_packages\n",
    "    try\n",
    "        eval(Meta.parse(\"import $(pkg)\"))\n",
    "    catch\n",
    "        Pkg.add(pkg)\n",
    "        Pkg.build(pkg)\n",
    "        eval(Meta.parse(\"import $(pkg)\"))\n",
    "    end\n",
    "end\n",
    "\n",
    "for pkg_url in unregistered_packages\n",
    "    pkg_name = replace(basename(pkg_url), \".git\" => \"\")\n",
    "    try\n",
    "        eval(Meta.parse(\"import $(pkg_name)\"))\n",
    "    catch\n",
    "        Pkg.develop(url=pkg_url)\n",
    "        Pkg.build(pkg_name)\n",
    "        eval(Meta.parse(\"import $(pkg_name)\"))\n",
    "    end\n",
    "end"
   ]
  },
  {
   "cell_type": "code",
   "execution_count": null,
   "id": "9f9307c7-1b35-4283-b1cb-adc87dc05f20",
   "metadata": {},
   "outputs": [],
   "source": [
    "if Sys.isapple()\n",
    "    BANDAGE = \"/Applications/Bandage.app/Contents/MacOS/Bandage\"\n",
    "else\n",
    "    BANDAGE = \"Bandage\"\n",
    "end"
   ]
  },
  {
   "cell_type": "code",
   "execution_count": null,
   "id": "8824e5f4-fcd5-4d3d-b77c-9d1086788677",
   "metadata": {},
   "outputs": [],
   "source": [
    "function assess_kmer_sparsity_in_reads(k, observations)\n",
    "    canonical_kmer_counts = Mycelia.count_canonical_kmers(BioSequences.DNAMer{k}, observations)\n",
    "    total_observed_canonical_kmers = length(keys(canonical_kmer_counts))\n",
    "    total_possible_canonical_kmers = (4^k)/2\n",
    "    sparsity = round(total_observed_canonical_kmers/total_possible_canonical_kmers*100, sigdigits=3)\n",
    "    return sparsity\n",
    "end"
   ]
  },
  {
   "cell_type": "code",
   "execution_count": null,
   "id": "148b6939-0508-487c-91d1-94da6aa1409e",
   "metadata": {},
   "outputs": [],
   "source": [
    "function sequence_to_canonical_kmers(kmer_type, sequence)\n",
    "    return (BioSequences.canonical(kmer.fw) for kmer in BioSequences.each(kmer_type, sequence))\n",
    "end"
   ]
  },
  {
   "cell_type": "code",
   "execution_count": null,
   "id": "02e895c2-a0a6-40c6-841c-ebbf274c0a47",
   "metadata": {},
   "outputs": [],
   "source": [
    "function determine_edge_weights(graph)\n",
    "    outgoing_edge_probabilities = determine_edge_weights(graph, true)\n",
    "    incoming_edge_probabilities = determine_edge_weights(graph, false)\n",
    "    return Dict(true => outgoing_edge_probabilities, false => incoming_edge_probabilities)\n",
    "end"
   ]
  },
  {
   "cell_type": "code",
   "execution_count": null,
   "id": "6212dc49-005c-40f9-8922-b80b3971c004",
   "metadata": {},
   "outputs": [],
   "source": [
    "function determine_edge_weights(graph, strand)\n",
    "    kmers = [graph.vprops[v][:kmer] for v in LightGraphs.vertices(graph)]\n",
    "    outgoing_edge_weights = SparseArrays.spzeros(length(kmers), length(kmers))\n",
    "    \n",
    "    for (kmer_index, kmer) in enumerate(kmers)\n",
    "        if !strand\n",
    "            kmer = BioSequences.reverse_complement(kmer)\n",
    "        end\n",
    "        \n",
    "        downstream_neighbors = []\n",
    "        downstream_neighbor_weights = []\n",
    "        for neighbor in BioSequences.neighbors(kmer)\n",
    "            canonical_neighbor = BioSequences.canonical(neighbor)\n",
    "            neighbor_orientation = neighbor == canonical_neighbor\n",
    "            \n",
    "            neighbor_index_range = searchsorted(kmers, canonical_neighbor)\n",
    "            if !isempty(neighbor_index_range)\n",
    "                @assert length(neighbor_index_range) == 1\n",
    "                neighbor_index = first(neighbor_index_range)\n",
    "                if LightGraphs.has_edge(graph, LightGraphs.Edge(kmer_index, neighbor_index))\n",
    "                    edge_orientations = graph.eprops[LightGraphs.Edge(kmer_index, neighbor_index)][:orientations]\n",
    "                    this_edge_orientation = (source_orientation = strand, destination_orientation = neighbor_orientation)\n",
    "                    if this_edge_orientation in edge_orientations\n",
    "                        edge_weight = graph.eprops[LightGraphs.Edge(kmer_index, neighbor_index)][:weight]\n",
    "                        outgoing_edge_weights[kmer_index, neighbor_index] = edge_weight\n",
    "                    end\n",
    "                end\n",
    "            end\n",
    "        end\n",
    "    end\n",
    "    return outgoing_edge_weights\n",
    "end"
   ]
  },
  {
   "cell_type": "code",
   "execution_count": null,
   "id": "33ffd192-f852-43e8-8eb1-3c19f5fe6141",
   "metadata": {},
   "outputs": [],
   "source": [
    "function determine_edge_probabilities(edge_weights)\n",
    "    edge_probabilities = deepcopy(edge_weights)\n",
    "    for orientation in [true, false]\n",
    "        for row in 1:size(edge_probabilities[orientation], 1)\n",
    "            edge_weights = edge_probabilities[orientation][row, :]\n",
    "            edge_total = sum(edge_weights)\n",
    "            for (col, edge_weight) in enumerate(edge_weights)\n",
    "                if edge_total > 0\n",
    "                    edge_probabilities[orientation][row, col] = edge_weight/edge_total\n",
    "                else\n",
    "                    edge_probabilities[orientation][row, col] = 0.0\n",
    "                end\n",
    "            end\n",
    "        end\n",
    "    end\n",
    "    return edge_probabilities\n",
    "end"
   ]
  },
  {
   "cell_type": "code",
   "execution_count": null,
   "id": "94750a47-abaa-48ac-9c0e-e7422260ec26",
   "metadata": {},
   "outputs": [],
   "source": [
    "function random_step(current_vertex, current_orientation, step_probabilities)\n",
    "    outgoing_edge_likelihoods = step_probabilities[initial_orientation][current_vertex, :]\n",
    "    chosen_step = StatsBase.sample(outgoing_edge_likelihoods.nzind, StatsBase.weights(outgoing_edge_likelihoods.nzval))\n",
    "    possible_orientations = observation_graph.eprops[LightGraphs.Edge(current_vertex, chosen_step)][:orientations]\n",
    "    possible_orientations = filter(o -> o.source_orientation == current_orientation, possible_orientations)\n",
    "    chosen_orientation = rand(possible_orientations).destination_orientation\n",
    "    chosen_oriented_step = (vertex = chosen_step, orientation = chosen_orientation)\n",
    "    return chosen_oriented_step\n",
    "end"
   ]
  },
  {
   "cell_type": "code",
   "execution_count": null,
   "id": "1ed368e8-bbee-4634-ac66-af3203e5fb11",
   "metadata": {},
   "outputs": [],
   "source": [
    "function random_walk(observation_graph, initial_vertex, initial_orientation, step_probabilities; n_steps=size(step_probabilities[true], 1))\n",
    "    step_count = 0\n",
    "    outgoing_edge_likelihoods = step_probabilities[initial_orientation][initial_vertex, :]\n",
    "    walk = Vector{NamedTuple{(:vertex, :orientation), Tuple{Int64, Bool}}}()\n",
    "    done = (step_count >= n_steps) || (sum(outgoing_edge_likelihoods) == 0)\n",
    "    current_vertex = initial_vertex\n",
    "    current_orientation = initial_orientation\n",
    "    while !done\n",
    "#         @show \"choosing\"\n",
    "        chosen_step = StatsBase.sample(outgoing_edge_likelihoods.nzind, StatsBase.weights(outgoing_edge_likelihoods.nzval))\n",
    "        chosen_step\n",
    "        possible_orientations = observation_graph.eprops[LightGraphs.Edge(current_vertex, chosen_step)][:orientations]\n",
    "        possible_orientations\n",
    "        current_orientation\n",
    "        possible_orientations = filter(o -> o.source_orientation == current_orientation, possible_orientations)\n",
    "        possible_orientations\n",
    "        chosen_orientation = rand(possible_orientations).destination_orientation\n",
    "        chosen_oriented_step = (vertex = chosen_step, orientation = chosen_orientation)\n",
    "        push!(walk, chosen_oriented_step)\n",
    "        current_vertex = chosen_step\n",
    "        current_orientation = chosen_orientation\n",
    "        outgoing_edge_likelihoods = step_probabilities[last(walk).orientation][last(walk).vertex, :]\n",
    "        step_count += 1\n",
    "#         @show outgoing_edge_likelihoods\n",
    "        done = (step_count >= n_steps) || (sum(outgoing_edge_likelihoods) == 0)\n",
    "    end\n",
    "    return walk\n",
    "end"
   ]
  },
  {
   "cell_type": "code",
   "execution_count": null,
   "id": "d54736c9-822b-428d-b6e1-c84c33ea2fd3",
   "metadata": {},
   "outputs": [],
   "source": [
    "# km = vmax/2 = optimal number of reads\n",
    "# slope is less than 10%?"
   ]
  },
  {
   "cell_type": "code",
   "execution_count": null,
   "id": "03bc3ce0-24b7-4f8b-a90a-050b61c211e5",
   "metadata": {},
   "outputs": [],
   "source": [
    "# generate genomes\n",
    "fasta_records = []\n",
    "sequence_lengths = [100, 1000]\n",
    "weights = [10, 1]\n",
    "for (sequence_length, depth) in zip(sequence_lengths, weights)\n",
    "    sequence = BioSequences.randdnaseq(Random.seed!(sequence_length), sequence_length)\n",
    "    sequence_id = string(hash(sequence))\n",
    "    description = string(depth)\n",
    "    fasta_record = FASTX.FASTA.Record(sequence_id, description, sequence)\n",
    "    push!(fasta_records, fasta_record)\n",
    "end"
   ]
  },
  {
   "cell_type": "code",
   "execution_count": null,
   "id": "6b67def7-76e6-4227-a0de-f34d6d3173f5",
   "metadata": {},
   "outputs": [],
   "source": [
    "file_basename = join([\"L-$(length(FASTX.sequence(record)))\" for record in fasta_records], '_')\n",
    "reference_fasta_file = \"$(DIR)/$(file_basename).fasta\"\n",
    "open(reference_fasta_file, \"w\") do io\n",
    "    fastx_io = FASTX.FASTA.Writer(io)\n",
    "    for fasta_record in fasta_records\n",
    "        write(fastx_io, fasta_record)\n",
    "    end\n",
    "    close(fastx_io)\n",
    "end"
   ]
  },
  {
   "cell_type": "code",
   "execution_count": null,
   "id": "4ad0d8c4-641b-4872-8c16-57fc2ce80cde",
   "metadata": {},
   "outputs": [],
   "source": [
    "# randomly sample reads with errors from the genome\n",
    "error_rate = 0.01\n",
    "n_reads = 10_000"
   ]
  },
  {
   "cell_type": "code",
   "execution_count": null,
   "id": "12866bef-c905-47b4-8451-3014aa5291b3",
   "metadata": {},
   "outputs": [],
   "source": [
    "observations = [Mycelia.observe(StatsBase.sample(fasta_records, StatsBase.Weights(weights)), error_rate = error_rate) for i in 1:n_reads];"
   ]
  },
  {
   "cell_type": "code",
   "execution_count": null,
   "id": "d0d65fbf-8343-4a15-9266-6acbd0690d57",
   "metadata": {},
   "outputs": [],
   "source": [
    "# determine distribution of read lengths"
   ]
  },
  {
   "cell_type": "code",
   "execution_count": null,
   "id": "65ede45b-ac03-4b73-89a9-10bee08d1731",
   "metadata": {},
   "outputs": [],
   "source": [
    "sorted_read_lengths = sort(length.(FASTX.sequence.(observations)))"
   ]
  },
  {
   "cell_type": "code",
   "execution_count": null,
   "id": "02faac4d-0f76-46cc-8d83-1a9a2e5499cc",
   "metadata": {},
   "outputs": [],
   "source": [
    "first_percentile_read_length = sorted_read_lengths[Int(round(length(sorted_read_lengths) * .01))]"
   ]
  },
  {
   "cell_type": "code",
   "execution_count": null,
   "id": "a4085a37-0a1b-4a8c-9115-9baf8882b5e0",
   "metadata": {},
   "outputs": [],
   "source": [
    "# determine optimal k\n",
    "min_k = min(5, first_percentile_read_length)\n",
    "max_k = min(61, first_percentile_read_length)\n",
    "k_options = Primes.primes(min_k, max_k)\n",
    "# sparsity_threshold = 0.01\n",
    "# sparsity_threshold = 0.1\n",
    "sparsity_threshold = 1\n",
    "# sparsity_threshold = 10\n",
    "k_index = nothing\n",
    "for (i, k) in enumerate(k_options)\n",
    "    sparsity = assess_kmer_sparsity_in_reads(k, observations)\n",
    "    @show k, sparsity\n",
    "    if sparsity < sparsity_threshold\n",
    "        k_index = i\n",
    "        break\n",
    "    end\n",
    "end\n",
    "# k_index = findfirst(k -> assess_kmer_sparsity_in_reads(k, observations) <= sparsity_threshold, k_options)\n",
    "if k_index == nothing\n",
    "    k = k_options[end]\n",
    "else\n",
    "    k = k_options[k_index]\n",
    "end\n",
    "@show k"
   ]
  },
  {
   "cell_type": "code",
   "execution_count": null,
   "id": "14964bd9-c1b2-469c-92cc-c467b631358b",
   "metadata": {},
   "outputs": [],
   "source": [
    "observations_file = \"$(DIR)/$(file_basename)-DEPTH-$(n_reads).fastq\"\n",
    "open(observations_file, \"w\") do io\n",
    "    fastq_io = FASTX.FASTQ.Writer(io)\n",
    "    for record in observations\n",
    "        write(fastq_io, record)\n",
    "    end\n",
    "    close(fastq_io)\n",
    "end"
   ]
  },
  {
   "cell_type": "markdown",
   "id": "5884b85a-bc25-44a0-b6f4-fe938758f824",
   "metadata": {},
   "source": [
    "# Begin graph resolving of observation graph"
   ]
  },
  {
   "cell_type": "code",
   "execution_count": null,
   "id": "351d47d9-a8c9-4a7a-8d47-9b604bdb7f41",
   "metadata": {},
   "outputs": [],
   "source": [
    "# assess kmer counts"
   ]
  },
  {
   "cell_type": "code",
   "execution_count": null,
   "id": "d4c4ee10-d428-4aa4-a71e-9c610339ff28",
   "metadata": {},
   "outputs": [],
   "source": [
    "# fit linear trendline to kmer counts"
   ]
  },
  {
   "cell_type": "code",
   "execution_count": null,
   "id": "41e1f331-25ba-4ac5-a282-07894c5c8bd4",
   "metadata": {},
   "outputs": [],
   "source": [
    "# apply thresholding when constructing kmer graph at the trendline"
   ]
  },
  {
   "cell_type": "code",
   "execution_count": null,
   "id": "7764dfed-7461-42d0-b4bc-ec7de4f173c9",
   "metadata": {},
   "outputs": [],
   "source": [
    "kmer_counts = Mycelia.count_canonick = k_options[k_index]al_kmers(BioSequences.DNAMer{k}, observations_file)"
   ]
  },
  {
   "cell_type": "code",
   "execution_count": null,
   "id": "f9bed7a0-5849-45bf-8ecc-ca64c09dcdf2",
   "metadata": {},
   "outputs": [],
   "source": [
    "kmer_counts_histogram = sort(collect(StatsBase.countmap(values(kmer_counts))), by=x->x[1])"
   ]
  },
  {
   "cell_type": "code",
   "execution_count": null,
   "id": "bbe23e87-889d-4812-8ec0-772a3ec2e369",
   "metadata": {},
   "outputs": [],
   "source": [
    "scale = 250\n",
    "Mycelia.plot_kmer_frequency_spectra(values(kmer_counts), size=(2scale,scale), log_scale=log2, title=\"kmer frequencies\")"
   ]
  },
  {
   "cell_type": "code",
   "execution_count": null,
   "id": "b65107b0-b733-48ac-845b-b2f9e7d3ca8f",
   "metadata": {},
   "outputs": [],
   "source": [
    "StatsPlots.scatter(log2.(first.(kmer_counts_histogram)))"
   ]
  },
  {
   "cell_type": "markdown",
   "id": "2f78056b-503a-4bcf-895f-32376b0958bc",
   "metadata": {},
   "source": [
    "# Fit error cluster"
   ]
  },
  {
   "cell_type": "code",
   "execution_count": null,
   "id": "7820b30b-d290-4f69-82db-358b01df0a97",
   "metadata": {},
   "outputs": [],
   "source": [
    "kmer_depth_of_coverage_bins = log2.(first.(kmer_counts_histogram))"
   ]
  },
  {
   "cell_type": "code",
   "execution_count": null,
   "id": "1013438f-d6d3-4627-aa5a-606623a4ae48",
   "metadata": {},
   "outputs": [],
   "source": [
    "distance_matrix = zeros((length(kmer_depth_of_coverage_bins), length(kmer_depth_of_coverage_bins)))\n",
    "for (row, depth_of_coverage_bin_1) in enumerate(kmer_depth_of_coverage_bins)\n",
    "    for (col, depth_of_coverage_bin_2) in enumerate(kmer_depth_of_coverage_bins)\n",
    "        distance = abs(depth_of_coverage_bin_1 - depth_of_coverage_bin_2)\n",
    "        distance_matrix[row, col] = distance\n",
    "    end\n",
    "end\n",
    "distance_matrix"
   ]
  },
  {
   "cell_type": "code",
   "execution_count": null,
   "id": "8ae58b80-4a60-47d0-9232-f38826a44a56",
   "metadata": {},
   "outputs": [],
   "source": [
    "# distance_matrix = zeros((length(kmer_counts_histogram), length(kmer_counts_histogram)))\n",
    "# for (row, kmer_count_pair_1) in enumerate(kmer_counts_histogram)\n",
    "#     for (col, kmer_count_pair_2) in enumerate(kmer_counts_histogram)\n",
    "# #         distance = abs(depth_of_coverage_bin_1 - depth_of_coverage_bin_2)\n",
    "#         distance = Distances.euclidean([kmer_count_pair_1...], [kmer_count_pair_2...])\n",
    "#         distance_matrix[row, col] = distance\n",
    "#     end\n",
    "# end\n",
    "# distance_matrix"
   ]
  },
  {
   "cell_type": "code",
   "execution_count": null,
   "id": "d1fc1ca1-c020-4ce3-9779-341c1ad3ca07",
   "metadata": {},
   "outputs": [],
   "source": [
    "ks = Primes.primes(2, 17)\n",
    "ys = map(k ->\n",
    "            Statistics.mean(Statistics.mean(Clustering.silhouettes(Clustering.kmedoids(distance_matrix, k), distance_matrix)) for i in 1:100),\n",
    "            ks)"
   ]
  },
  {
   "cell_type": "code",
   "execution_count": null,
   "id": "3228add3-90e3-4081-bddc-92ab31d14682",
   "metadata": {},
   "outputs": [],
   "source": [
    "StatsPlots.plot(ks, ys, label=\"silhouette score\", ylabel = \"silhouette score\", xlabel = \"number of clusters\")"
   ]
  },
  {
   "cell_type": "code",
   "execution_count": null,
   "id": "7a62ab6d-a365-4f11-beae-70f173ded297",
   "metadata": {},
   "outputs": [],
   "source": [
    "ymax, ymax_index = findmax(ys)"
   ]
  },
  {
   "cell_type": "code",
   "execution_count": null,
   "id": "4390c1f5-1474-4330-832a-f2f30cd52bc3",
   "metadata": {},
   "outputs": [],
   "source": [
    "optimal_k = ks[ymax_index]"
   ]
  },
  {
   "cell_type": "code",
   "execution_count": null,
   "id": "ef2167b3-2adb-4cc4-bfa2-2f350c0440d0",
   "metadata": {},
   "outputs": [],
   "source": [
    "clusterings = [Clustering.kmedoids(distance_matrix, optimal_k) for i in 1:10]\n",
    "\n",
    "max_value, max_value_index = findmax(clustering -> Statistics.mean(Clustering.silhouettes(clustering, distance_matrix)), clusterings)"
   ]
  },
  {
   "cell_type": "code",
   "execution_count": null,
   "id": "e7829cf9-b2d8-400f-b0b9-223151bd09ad",
   "metadata": {},
   "outputs": [],
   "source": [
    "optimal_clustering = clusterings[max_value_index]"
   ]
  },
  {
   "cell_type": "code",
   "execution_count": null,
   "id": "57505fb9-97cc-45f1-be22-fa75cecec480",
   "metadata": {},
   "outputs": [],
   "source": [
    "optimal_clustering.assignments"
   ]
  },
  {
   "cell_type": "code",
   "execution_count": null,
   "id": "718a1f70-24a0-4e5d-8a43-0d9f210b1bb5",
   "metadata": {},
   "outputs": [],
   "source": [
    "min_medoid_value, min_medoid_index = findmin(optimal_clustering.medoids)"
   ]
  },
  {
   "cell_type": "code",
   "execution_count": null,
   "id": "f9bab4fd-d788-4f81-ab0d-4d2eb92773d6",
   "metadata": {},
   "outputs": [],
   "source": [
    "indices_to_include = map(assignment -> assignment .!= min_medoid_index, optimal_clustering.assignments)"
   ]
  },
  {
   "cell_type": "code",
   "execution_count": null,
   "id": "11259831-3f29-4a53-8bcb-da5d78632f10",
   "metadata": {},
   "outputs": [],
   "source": [
    "kmer_depth_of_coverage_bins"
   ]
  },
  {
   "cell_type": "code",
   "execution_count": null,
   "id": "4cefce06-dfee-4685-9577-cafa5cb28ca2",
   "metadata": {},
   "outputs": [],
   "source": [
    "threshold = Int(ceil(2^maximum(kmer_depth_of_coverage_bins[.!indices_to_include]))) + 1"
   ]
  },
  {
   "cell_type": "code",
   "execution_count": null,
   "id": "1f625070-3a83-460d-8a93-e1e8db61c3e2",
   "metadata": {},
   "outputs": [],
   "source": [
    "scale = 250\n",
    "p = Mycelia.plot_kmer_frequency_spectra(values(kmer_counts), log_scale = log2, size=(2scale,scale), title=\"kmer frequencies\")\n",
    "StatsPlots.vline!(p, log2.([threshold]))"
   ]
  },
  {
   "cell_type": "markdown",
   "id": "159c58d1-32a0-4bfa-a34d-c7dc2915e7e3",
   "metadata": {},
   "source": [
    "# raw graph"
   ]
  },
  {
   "cell_type": "code",
   "execution_count": null,
   "id": "2ce0c858-2125-4a3e-ad58-ce02bf140633",
   "metadata": {},
   "outputs": [],
   "source": [
    "# # make me faster by counting edges ahead of time\n",
    "# @time observation_graph = Mycelia.fastx_to_simple_kmer_graph(BioSequences.DNAMer{k}, observations_file)"
   ]
  },
  {
   "cell_type": "code",
   "execution_count": null,
   "id": "ef24e7d8-ab84-4614-ac52-94dd9ba515e4",
   "metadata": {},
   "outputs": [],
   "source": [
    "# kmer_counts = Dict(observation_graph.vprops[v][:kmer] => observation_graph.vprops[v][:weight] for v in LightGraphs.vertices(observation_graph))\n",
    "# total_observed_kmers = sum(values(kmer_counts))\n",
    "# kmer_probabilities = Dict(k => v/total_observed_kmers for (k,v) in kmer_counts)\n",
    "# scale = 250\n",
    "# Mycelia.plot_kmer_frequency_spectra(values(kmer_counts), size=(2scale,scale), title=\"kmer frequencies\")"
   ]
  },
  {
   "cell_type": "code",
   "execution_count": null,
   "id": "e292a280-d11c-4a44-b42a-72683620573f",
   "metadata": {},
   "outputs": [],
   "source": [
    "# reference_kmers = keys(Mycelia.count_canonical_kmers(BioSequences.DNAMer{k}, reference_fasta_file))\n",
    "# distance_to_reference_graph = 1 - LSHFunctions.jaccard(Set(reference_kmers), Set(keys(kmer_counts)))"
   ]
  },
  {
   "cell_type": "code",
   "execution_count": null,
   "id": "b254f41c-e88e-4810-85a7-9f381695a8cb",
   "metadata": {},
   "outputs": [],
   "source": [
    "# kmer_counts_histogram = sort(collect(StatsBase.countmap(collect(values(kmer_counts)))), by=x->x[1])"
   ]
  },
  {
   "cell_type": "code",
   "execution_count": null,
   "id": "034ca3b3-5acb-4f79-bc32-aafa224c818b",
   "metadata": {},
   "outputs": [],
   "source": [
    "# # visualize\n",
    "# gfa_file = observations_file * \".k-$k.gfa\"\n",
    "# Mycelia.graph_to_gfa(observation_graph, gfa_file)\n",
    "\n",
    "# run(`$(BANDAGE) image $(gfa_file) $(gfa_file).svg --depwidth .9 --deppower .9`)\n",
    "# # --nodewidth <float> Average node width (0.5 to 1000, default: 5)\n",
    "# # --depwidth <float>  Depth effect on width (0 to 1, default: 0.5)\n",
    "# # --deppower <float>  Power of depth effect on width (0 to 1, default: 0.5)\n",
    "\n",
    "# html_path_to_svg = \"./\" * repeat(\"../\", length(split(pwd(), '/')) - 3)\n",
    "# html_path_to_svg *= replace(\"$(gfa_file).svg\", \"$(homedir())/\" => \"\")\n",
    "\n",
    "# x = \"<img src=$(html_path_to_svg)>\"\n",
    "# display(\"text/html\", x)\n",
    "# # display(\"image/svg+xml\", read(\"$(gfa_file).svg\", String))"
   ]
  },
  {
   "cell_type": "code",
   "execution_count": null,
   "id": "98d1d888-3454-4c73-99a2-cc9fc2396128",
   "metadata": {},
   "outputs": [],
   "source": [
    "# threshold filtered graph"
   ]
  },
  {
   "cell_type": "code",
   "execution_count": null,
   "id": "72c66702-1c18-4541-a642-64f1c69ad4cb",
   "metadata": {},
   "outputs": [],
   "source": [
    "# make me faster by counting edges ahead of time\n",
    "@time observation_graph = Mycelia.fastx_to_simple_kmer_graph(BioSequences.DNAMer{k}, observations_file, minimum_coverage=threshold)"
   ]
  },
  {
   "cell_type": "code",
   "execution_count": null,
   "id": "f9b79057-1175-4165-82dd-0fde3c385af0",
   "metadata": {},
   "outputs": [],
   "source": [
    "kmer_counts = Dict(observation_graph.vprops[v][:kmer] => observation_graph.vprops[v][:weight] for v in LightGraphs.vertices(observation_graph))\n",
    "total_observed_kmers = sum(values(kmer_counts))\n",
    "kmer_probabilities = Dict(k => v/total_observed_kmers for (k,v) in kmer_counts)\n",
    "scale = 250\n",
    "Mycelia.plot_kmer_frequency_spectra(values(kmer_counts), size=(2scale,scale), title=\"kmer frequencies\")"
   ]
  },
  {
   "cell_type": "code",
   "execution_count": null,
   "id": "fd15af69-a35c-45cf-8399-70bc287d11d7",
   "metadata": {},
   "outputs": [],
   "source": [
    "reference_kmers = keys(Mycelia.count_canonical_kmers(BioSequences.DNAMer{k}, reference_fasta_file))\n",
    "distance_to_reference_graph = 1 - LSHFunctions.jaccard(Set(reference_kmers), Set(keys(kmer_counts)))"
   ]
  },
  {
   "cell_type": "code",
   "execution_count": null,
   "id": "8aa68dd2-82f2-48e9-984a-092df381a39d",
   "metadata": {},
   "outputs": [],
   "source": [
    "kmer_counts_histogram = sort(collect(StatsBase.countmap(collect(values(kmer_counts)))), by=x->x[1])"
   ]
  },
  {
   "cell_type": "code",
   "execution_count": null,
   "id": "ed22ec40-e72e-445f-a0fe-b38b3de73aae",
   "metadata": {},
   "outputs": [],
   "source": [
    "# visualize\n",
    "gfa_file = observations_file * \".k-$k.gfa\"\n",
    "Mycelia.graph_to_gfa(observation_graph, gfa_file)\n",
    "\n",
    "run(`$(BANDAGE) image $(gfa_file) $(gfa_file).svg --depwidth .9 --deppower .9`)\n",
    "# --nodewidth <float> Average node width (0.5 to 1000, default: 5)\n",
    "# --depwidth <float>  Depth effect on width (0 to 1, default: 0.5)\n",
    "# --deppower <float>  Power of depth effect on width (0 to 1, default: 0.5)\n",
    "\n",
    "html_path_to_svg = \"./\" * repeat(\"../\", length(split(pwd(), '/')) - 3)\n",
    "html_path_to_svg *= replace(\"$(gfa_file).svg\", \"$(homedir())/\" => \"\")\n",
    "\n",
    "x = \"<img src=$(html_path_to_svg)>\"\n",
    "display(\"text/html\", x)\n",
    "# display(\"image/svg+xml\", read(\"$(gfa_file).svg\", String))"
   ]
  },
  {
   "cell_type": "code",
   "execution_count": null,
   "id": "52c0a021-36ab-40ba-8f69-93d93fab63eb",
   "metadata": {},
   "outputs": [],
   "source": [
    "# this didn't work because it uses longer minimizers than the kmers were set to?\n",
    "# run(`GraphAligner -g $(gfa_file) -f $(observations_file) -a $(observations_file).gaf -x dbg`)"
   ]
  },
  {
   "cell_type": "code",
   "execution_count": null,
   "id": "327591e7-ba73-4715-8ff3-00716e676916",
   "metadata": {},
   "outputs": [],
   "source": [
    "# try again using simplified graph"
   ]
  },
  {
   "cell_type": "code",
   "execution_count": null,
   "id": "e9bf1658-7d43-42ce-8021-0a183fc84db2",
   "metadata": {},
   "outputs": [],
   "source": [
    "simplified_graph = Mycelia.simplify_kmer_graph(observation_graph)"
   ]
  },
  {
   "cell_type": "code",
   "execution_count": null,
   "id": "11d81a82-dcb1-4902-a76b-a53f5c07ed7d",
   "metadata": {},
   "outputs": [],
   "source": [
    "# write simplified graph to gfa\n",
    "# visualize\n",
    "gfa_file = observations_file * \".k-$k.simplified.gfa\"\n",
    "Mycelia.graph_to_gfa(simplified_graph, gfa_file)\n",
    "\n",
    "run(`$(BANDAGE) image $(gfa_file) $(gfa_file).svg --depwidth .9 --deppower .9`)\n",
    "# --nodewidth <float> Average node width (0.5 to 1000, default: 5)\n",
    "# --depwidth <float>  Depth effect on width (0 to 1, default: 0.5)\n",
    "# --deppower <float>  Power of depth effect on width (0 to 1, default: 0.5)\n",
    "\n",
    "html_path_to_svg = \"./\" * repeat(\"../\", length(split(pwd(), '/')) - 3)\n",
    "html_path_to_svg *= replace(\"$(gfa_file).svg\", \"$(homedir())/\" => \"\")\n",
    "\n",
    "x = \"<img src=$(html_path_to_svg)>\"\n",
    "display(\"text/html\", x)\n",
    "# display(\"image/svg+xml\", read(\"$(gfa_file).svg\", String))"
   ]
  },
  {
   "cell_type": "code",
   "execution_count": null,
   "id": "5d789480-ba6b-4b54-85f8-cccd3a3c20bc",
   "metadata": {},
   "outputs": [],
   "source": [
    "run(`GraphAligner -g $(gfa_file) -f $(observations_file) -a $(observations_file).gaf -x vg`)"
   ]
  },
  {
   "cell_type": "code",
   "execution_count": null,
   "id": "21325621-a2fb-4ee7-8846-a0706c53e684",
   "metadata": {},
   "outputs": [],
   "source": [
    "alignments_file = \"$(observations_file).gaf\""
   ]
  },
  {
   "cell_type": "code",
   "execution_count": null,
   "id": "6700dd19-4244-4ad8-995d-8ec5b4e7d93c",
   "metadata": {},
   "outputs": [],
   "source": [
    "# conda install -c conda-forge -c bioconda bcalm"
   ]
  },
  {
   "cell_type": "code",
   "execution_count": null,
   "id": "41c5db73-c4cf-464c-9a64-b95158e17aea",
   "metadata": {},
   "outputs": [],
   "source": [
    "line = readline(alignments_file)"
   ]
  },
  {
   "cell_type": "code",
   "execution_count": null,
   "id": "1d7d322f-7bf6-417c-a182-4c9f928fa022",
   "metadata": {},
   "outputs": [],
   "source": [
    "split(line, '\\t')"
   ]
  },
  {
   "cell_type": "code",
   "execution_count": null,
   "id": "780bd816-a37d-4f82-84f8-62a54bb50df9",
   "metadata": {},
   "outputs": [],
   "source": []
  },
  {
   "cell_type": "code",
   "execution_count": null,
   "id": "4853ba41-c2fe-4997-87bb-3ef786d27724",
   "metadata": {},
   "outputs": [],
   "source": [
    "\n",
    "# first(uCSV.read(alignments_file, delim='\\t'))"
   ]
  },
  {
   "cell_type": "code",
   "execution_count": null,
   "id": "60aa787d-98a8-4ed8-a1af-f960e8611145",
   "metadata": {},
   "outputs": [],
   "source": [
    "# https://github.com/lh3/gfatools/blob/master/doc/rGFA.md#the-graph-alignment-format-gaf\n",
    "# Query sequence name\n",
    "# Query sequence length\n",
    "# Query start (0-based; closed)\n",
    "# Query end (0-based; open)\n",
    "# Strand relative to the path: \"+\" or \"-\"\n",
    "# Path matching /([><][^\\s><]+(:\\d+-\\d+)?)+|([^\\s><]+)/\n",
    "# Path length\n",
    "# Start position on the path (0-based)\n",
    "# End position on the path (0-based)\n",
    "# Number of residue matches\n",
    "# Alignment block length\n",
    "# Mapping quality (0-255; 255 for missing)\n",
    "#  \"NM:i:0\"\n",
    "#  \"AS:f:100\"\n",
    "#  \"dv:f:0\"\n",
    "#  \"id:f:1\"\n",
    "#  \"cg:Z:100=\"\n",
    "\n",
    "header = [\n",
    "    \"Query sequence name\",\n",
    "    \"Query sequence length\",\n",
    "    \"Query start (0-based; closed)\",\n",
    "    \"Query end (0-based; open)\",\n",
    "    \"Strand\",\n",
    "    \"Path\",\n",
    "    \"Path length\",\n",
    "    \"Start position on the path (0-based)\",\n",
    "    \"End position on the path (0-based)\",\n",
    "    \"Number of residue matches\",\n",
    "    \"Alignment block length\",\n",
    "    \"Mapping quality (0-255; 255 for missing)\",\n",
    "    \"NM\",\n",
    "    \"AS\",\n",
    "    \"dv\",\n",
    "    \"id\",\n",
    "    \"cg\"\n",
    "    ]\n",
    "mapping_results = DataFrames.DataFrame(first(uCSV.read(alignments_file, delim='\\t')), header)"
   ]
  },
  {
   "cell_type": "code",
   "execution_count": null,
   "id": "63db2d55-1118-4a65-b95d-05d42c1b44b6",
   "metadata": {},
   "outputs": [],
   "source": [
    "# take only the first entry for each read\n",
    "mapping_results = DataFrames.DataFrame([g[1, :] for g in DataFrames.groupby(mapping_results, \"Query sequence name\")])"
   ]
  },
  {
   "cell_type": "code",
   "execution_count": null,
   "id": "bf16b77d-a30c-4455-a4df-465b5d890b06",
   "metadata": {},
   "outputs": [],
   "source": [
    "corrected_observations_file = replace(observations_file, \".fastq\" => \".k$(k).fasta\")"
   ]
  },
  {
   "cell_type": "code",
   "execution_count": null,
   "id": "6dc9668d-fe18-4844-b313-0b63561690f0",
   "metadata": {},
   "outputs": [],
   "source": [
    "open(corrected_observations_file, \"w\") do io\n",
    "    fastx_io = FASTX.FASTA.Writer(io)\n",
    "    for mapping_result in DataFrames.eachrow(mapping_results[10:20, :])\n",
    "#         @show mapping_result[\"Path\"]\n",
    "        steps = split(replace(mapping_result[\"Path\"], r\"(>|<)\" => s\" \\1\"))\n",
    "#         @show steps\n",
    "        oriented_steps = [(vertex = parse(Int, replace(step, r\">|<\" => \"\")), orientation = first(step) == '>' ? true : false) for step in steps]\n",
    "#         @show oriented_steps\n",
    "        path_sequences = BioSequences.LongDNASeq[]\n",
    "        for step in oriented_steps\n",
    "            seq = simplified_graph.vprops[step.vertex][:sequence]\n",
    "            if !step.orientation\n",
    "                seq = BioSequences.reverse_complement(seq)\n",
    "            end\n",
    "            push!(path_sequences, seq)\n",
    "        end\n",
    "#         @show path_sequences\n",
    "        path_sequence = reduce(*, path_sequences)\n",
    "#         @show path_sequence\n",
    "        if mapping_result[\"Strand\"] == \"-\"\n",
    "            path_sequence = BioSequences.reverse_complement(path_sequence)\n",
    "#             @show \"flipping orientation\"\n",
    "        end\n",
    "\n",
    "        start = mapping_result[\"Start position on the path (0-based)\"] + 1\n",
    "        stop = mapping_result[\"End position on the path (0-based)\"]\n",
    "#         @show \"extracting $(start):$(stop)\"\n",
    "        path_replacement = path_sequence[start:stop]\n",
    "#         @show path_replacement\n",
    "        \n",
    "        sequence_hash = string(hash(path_replacement))\n",
    "        barcode_id = string(hash(Dates.now(), hash(Random.randstring(32))))\n",
    "        record_identifier = \"$(sequence_hash)-$(barcode_id)\"\n",
    "\n",
    "        record = FASTX.FASTA.Record(\n",
    "            record_identifier,\n",
    "            mapping_result[\"Query sequence name\"],\n",
    "            path_replacement\n",
    "        )\n",
    "#         @show record\n",
    "        write(fastx_io, record)\n",
    "    end\n",
    "    close(fastx_io)\n",
    "end"
   ]
  },
  {
   "cell_type": "code",
   "execution_count": null,
   "id": "9f72e026-ce76-4e1c-a4da-231f4225a358",
   "metadata": {},
   "outputs": [],
   "source": [
    "corrected_observation_graph = Mycelia.fastx_to_kmer_graph(BioSequences.DNAMer{k}, corrected_observations_file)"
   ]
  },
  {
   "cell_type": "code",
   "execution_count": null,
   "id": "7dcb49eb-7261-4120-b488-52b3a3739416",
   "metadata": {},
   "outputs": [],
   "source": [
    "# visualize\n",
    "gfa_file = corrected_observations_file * \".k-$k.gfa\"\n",
    "Mycelia.graph_to_gfa(corrected_observation_graph, gfa_file)\n",
    "\n",
    "run(`$(BANDAGE) image $(gfa_file) $(gfa_file).svg --depwidth .9 --deppower .9`)\n",
    "# --nodewidth <float> Average node width (0.5 to 1000, default: 5)\n",
    "# --depwidth <float>  Depth effect on width (0 to 1, default: 0.5)\n",
    "# --deppower <float>  Power of depth effect on width (0 to 1, default: 0.5)\n",
    "\n",
    "html_path_to_svg = \"./\" * repeat(\"../\", length(split(pwd(), '/')) - 3)\n",
    "html_path_to_svg *= replace(\"$(gfa_file).svg\", \"$(homedir())/\" => \"\")\n",
    "\n",
    "x = \"<img src=$(html_path_to_svg)>\"\n",
    "display(\"text/html\", x)\n",
    "# display(\"image/svg+xml\", read(\"$(gfa_file).svg\", String))"
   ]
  },
  {
   "cell_type": "code",
   "execution_count": null,
   "id": "1babc5ba-11c2-4557-8a93-b97abe8364a6",
   "metadata": {},
   "outputs": [],
   "source": [
    "kmer_counts = Dict(corrected_observation_graph.vprops[v][:kmer] => corrected_observation_graph.vprops[v][:weight] for v in LightGraphs.vertices(corrected_observation_graph))\n",
    "total_observed_kmers = sum(values(kmer_counts))\n",
    "kmer_probabilities = Dict(k => v/total_observed_kmers for (k,v) in kmer_counts)\n",
    "scale = 250\n",
    "Mycelia.plot_kmer_frequency_spectra(values(kmer_counts), size=(2scale,scale), title=\"kmer frequencies\")"
   ]
  },
  {
   "cell_type": "code",
   "execution_count": null,
   "id": "2b4354c8-d03e-49d6-b3ed-7f2375f43602",
   "metadata": {},
   "outputs": [],
   "source": [
    "# compare the new graph to the error-free graph to the error-corrected graph"
   ]
  },
  {
   "cell_type": "code",
   "execution_count": null,
   "id": "5543d4f5-6bb9-4368-8149-9db0267d5aa5",
   "metadata": {},
   "outputs": [],
   "source": [
    "reference_kmers = keys(Mycelia.count_canonical_kmers(BioSequences.DNAMer{k}, reference_fasta_file))\n",
    "distance_to_reference_graph = 1 - LSHFunctions.jaccard(Set(reference_kmers), Set(keys(kmer_counts)))"
   ]
  },
  {
   "cell_type": "markdown",
   "id": "fe05cd87-89c9-4e9c-9923-599dbf9d202f",
   "metadata": {},
   "source": [
    "# repeat with iterative k"
   ]
  },
  {
   "cell_type": "code",
   "execution_count": null,
   "id": "0194ec60-7727-4638-871a-6792b4bb1245",
   "metadata": {},
   "outputs": [],
   "source": [
    "k = k_options[k_index]"
   ]
  },
  {
   "cell_type": "code",
   "execution_count": null,
   "id": "2cf4db49-166b-4cc8-b7aa-464567e0f0c3",
   "metadata": {},
   "outputs": [],
   "source": [
    "k = k_options[findfirst(new_k -> new_k > k, k_options)]"
   ]
  },
  {
   "cell_type": "code",
   "execution_count": null,
   "id": "5ef3e4d6-6218-43e1-84e5-fb8ecc000d38",
   "metadata": {},
   "outputs": [],
   "source": [
    "observations_file = corrected_observations_file"
   ]
  },
  {
   "cell_type": "code",
   "execution_count": null,
   "id": "8219fdde-0d97-4899-a09b-f26be81577ca",
   "metadata": {},
   "outputs": [],
   "source": [
    "kmer_counts = Mycelia.count_canonical_kmers(BioSequences.DNAMer{k}, observations_file)"
   ]
  },
  {
   "cell_type": "code",
   "execution_count": null,
   "id": "45fd475c-cd63-45ce-b081-3da405a38486",
   "metadata": {},
   "outputs": [],
   "source": [
    "kmer_counts_histogram = sort(collect(StatsBase.countmap(values(kmer_counts))), by=x->x[1])"
   ]
  },
  {
   "cell_type": "code",
   "execution_count": null,
   "id": "c84855cd-e762-4634-a9e8-5b8cc19cafd0",
   "metadata": {},
   "outputs": [],
   "source": [
    "scale = 250\n",
    "Mycelia.plot_kmer_frequency_spectra(values(kmer_counts), size=(2scale,scale), log_scale=log2, title=\"kmer frequencies\")"
   ]
  },
  {
   "cell_type": "code",
   "execution_count": null,
   "id": "e92b4364-6da3-42d8-b7c6-20ebf1d83ee0",
   "metadata": {},
   "outputs": [],
   "source": [
    "StatsPlots.scatter(log2.(first.(kmer_counts_histogram)))"
   ]
  },
  {
   "cell_type": "markdown",
   "id": "9d08bb69-602b-424b-ba50-1a8d66a359aa",
   "metadata": {},
   "source": [
    "# Fit error cluster"
   ]
  },
  {
   "cell_type": "code",
   "execution_count": null,
   "id": "9638055f-50ca-4963-b165-96a9ab2d2f7f",
   "metadata": {},
   "outputs": [],
   "source": [
    "kmer_depth_of_coverage_bins = log2.(first.(kmer_counts_histogram))"
   ]
  },
  {
   "cell_type": "code",
   "execution_count": null,
   "id": "8aa3c636-6e8c-463c-ae58-73563dc65bad",
   "metadata": {},
   "outputs": [],
   "source": [
    "distance_matrix = zeros((length(kmer_depth_of_coverage_bins), length(kmer_depth_of_coverage_bins)))\n",
    "for (row, depth_of_coverage_bin_1) in enumerate(kmer_depth_of_coverage_bins)\n",
    "    for (col, depth_of_coverage_bin_2) in enumerate(kmer_depth_of_coverage_bins)\n",
    "        distance = abs(depth_of_coverage_bin_1 - depth_of_coverage_bin_2)\n",
    "        distance_matrix[row, col] = distance\n",
    "    end\n",
    "end\n",
    "distance_matrix"
   ]
  },
  {
   "cell_type": "code",
   "execution_count": null,
   "id": "82400f0b-e37c-464c-ba76-a538c1c6b714",
   "metadata": {},
   "outputs": [],
   "source": [
    "# distance_matrix = zeros((length(kmer_counts_histogram), length(kmer_counts_histogram)))\n",
    "# for (row, kmer_count_pair_1) in enumerate(kmer_counts_histogram)\n",
    "#     for (col, kmer_count_pair_2) in enumerate(kmer_counts_histogram)\n",
    "# #         distance = abs(depth_of_coverage_bin_1 - depth_of_coverage_bin_2)\n",
    "#         distance = Distances.euclidean([kmer_count_pair_1...], [kmer_count_pair_2...])\n",
    "#         distance_matrix[row, col] = distance\n",
    "#     end\n",
    "# end\n",
    "# distance_matrix"
   ]
  },
  {
   "cell_type": "code",
   "execution_count": null,
   "id": "9e085278-485a-4657-8189-2d917f73df5c",
   "metadata": {},
   "outputs": [],
   "source": [
    "max_kmedoids_k = min(length(kmer_depth_of_coverage_bins), 7)\n",
    "ks = Primes.primes(2, max_kmedoids_k)\n",
    "ys = map(k ->\n",
    "            Statistics.mean(Statistics.mean(Clustering.silhouettes(Clustering.kmedoids(distance_matrix, k), distance_matrix)) for i in 1:100),\n",
    "            ks)"
   ]
  },
  {
   "cell_type": "code",
   "execution_count": null,
   "id": "2ccc8c66-ab5b-40de-9bde-2f8ef8b00e24",
   "metadata": {},
   "outputs": [],
   "source": [
    "StatsPlots.plot(ks, ys, label=\"silhouette score\", ylabel = \"silhouette score\", xlabel = \"number of clusters\")"
   ]
  },
  {
   "cell_type": "code",
   "execution_count": null,
   "id": "27fe3f13-4bad-4c75-b3cc-b5daf2855c1f",
   "metadata": {},
   "outputs": [],
   "source": [
    "ymax, ymax_index = findmax(ys)"
   ]
  },
  {
   "cell_type": "code",
   "execution_count": null,
   "id": "6c888b0b-0368-4774-b427-6e31dfb51a21",
   "metadata": {},
   "outputs": [],
   "source": [
    "optimal_k = ks[ymax_index]"
   ]
  },
  {
   "cell_type": "code",
   "execution_count": null,
   "id": "4ae9c3dd-8115-48c0-ba2e-cdc452cee72c",
   "metadata": {},
   "outputs": [],
   "source": [
    "clusterings = [Clustering.kmedoids(distance_matrix, optimal_k) for i in 1:10]\n",
    "\n",
    "max_value, max_value_index = findmax(clustering -> Statistics.mean(Clustering.silhouettes(clustering, distance_matrix)), clusterings)"
   ]
  },
  {
   "cell_type": "code",
   "execution_count": null,
   "id": "f0431bb3-f750-441c-bc9d-e8ead6903e9c",
   "metadata": {},
   "outputs": [],
   "source": [
    "optimal_clustering = clusterings[max_value_index]"
   ]
  },
  {
   "cell_type": "code",
   "execution_count": null,
   "id": "185e3c75-57d4-48b4-8189-4ddc4b8f4c7d",
   "metadata": {},
   "outputs": [],
   "source": [
    "optimal_clustering.assignments"
   ]
  },
  {
   "cell_type": "code",
   "execution_count": null,
   "id": "1e1961ed-3169-4133-9c8b-2e22fa35b5b1",
   "metadata": {},
   "outputs": [],
   "source": [
    "min_medoid_value, min_medoid_index = findmin(optimal_clustering.medoids)"
   ]
  },
  {
   "cell_type": "code",
   "execution_count": null,
   "id": "8553663e-45d0-4216-9a03-2219bd09590a",
   "metadata": {},
   "outputs": [],
   "source": [
    "indices_to_include = map(assignment -> assignment .!= min_medoid_index, optimal_clustering.assignments)"
   ]
  },
  {
   "cell_type": "code",
   "execution_count": null,
   "id": "d0673bed-a376-4f39-a458-e194c162037b",
   "metadata": {},
   "outputs": [],
   "source": [
    "kmer_depth_of_coverage_bins"
   ]
  },
  {
   "cell_type": "code",
   "execution_count": null,
   "id": "f036b7f0-f3f3-4e69-9276-46ec1b979b50",
   "metadata": {},
   "outputs": [],
   "source": [
    "threshold = Int(ceil(2^maximum(kmer_depth_of_coverage_bins[.!indices_to_include]))) + 1"
   ]
  },
  {
   "cell_type": "code",
   "execution_count": null,
   "id": "5869983e-ea94-4a81-a963-c1742c5ed27c",
   "metadata": {},
   "outputs": [],
   "source": [
    "scale = 250\n",
    "p = Mycelia.plot_kmer_frequency_spectra(values(kmer_counts), log_scale = log2, size=(2scale,scale), title=\"kmer frequencies\")\n",
    "StatsPlots.vline!(p, log2.([threshold]))"
   ]
  },
  {
   "cell_type": "markdown",
   "id": "bd8ddf5a-eef7-4168-aa7e-e9f56ba24163",
   "metadata": {},
   "source": [
    "# raw graph"
   ]
  },
  {
   "cell_type": "code",
   "execution_count": null,
   "id": "04e9f069-9e55-4972-b1d1-a3011e93551c",
   "metadata": {},
   "outputs": [],
   "source": [
    "# # make me faster by counting edges ahead of time\n",
    "# @time observation_graph = Mycelia.fastx_to_simple_kmer_graph(BioSequences.DNAMer{k}, observations_file)"
   ]
  },
  {
   "cell_type": "code",
   "execution_count": null,
   "id": "9316c9fc-4ff5-464a-a079-fbd85b38b77d",
   "metadata": {},
   "outputs": [],
   "source": [
    "# kmer_counts = Dict(observation_graph.vprops[v][:kmer] => observation_graph.vprops[v][:weight] for v in LightGraphs.vertices(observation_graph))\n",
    "# total_observed_kmers = sum(values(kmer_counts))\n",
    "# kmer_probabilities = Dict(k => v/total_observed_kmers for (k,v) in kmer_counts)\n",
    "# scale = 250\n",
    "# Mycelia.plot_kmer_frequency_spectra(values(kmer_counts), size=(2scale,scale), title=\"kmer frequencies\")"
   ]
  },
  {
   "cell_type": "code",
   "execution_count": null,
   "id": "c771fee2-0b15-453d-bd3a-2a93ac6a8875",
   "metadata": {},
   "outputs": [],
   "source": [
    "# reference_kmers = keys(Mycelia.count_canonical_kmers(BioSequences.DNAMer{k}, reference_fasta_file))\n",
    "# distance_to_reference_graph = 1 - LSHFunctions.jaccard(Set(reference_kmers), Set(keys(kmer_counts)))"
   ]
  },
  {
   "cell_type": "code",
   "execution_count": null,
   "id": "4039acfe-2d50-4e8d-b991-4c1fce527330",
   "metadata": {},
   "outputs": [],
   "source": [
    "# kmer_counts_histogram = sort(collect(StatsBase.countmap(collect(values(kmer_counts)))), by=x->x[1])"
   ]
  },
  {
   "cell_type": "code",
   "execution_count": null,
   "id": "f631ce7e-38b5-4494-821e-e2acc0176922",
   "metadata": {},
   "outputs": [],
   "source": [
    "# # visualize\n",
    "# gfa_file = observations_file * \".k-$k.gfa\"\n",
    "# Mycelia.graph_to_gfa(observation_graph, gfa_file)\n",
    "\n",
    "# run(`$(BANDAGE) image $(gfa_file) $(gfa_file).svg --depwidth .9 --deppower .9`)\n",
    "# # --nodewidth <float> Average node width (0.5 to 1000, default: 5)\n",
    "# # --depwidth <float>  Depth effect on width (0 to 1, default: 0.5)\n",
    "# # --deppower <float>  Power of depth effect on width (0 to 1, default: 0.5)\n",
    "\n",
    "# html_path_to_svg = \"./\" * repeat(\"../\", length(split(pwd(), '/')) - 3)\n",
    "# html_path_to_svg *= replace(\"$(gfa_file).svg\", \"$(homedir())/\" => \"\")\n",
    "\n",
    "# x = \"<img src=$(html_path_to_svg)>\"\n",
    "# display(\"text/html\", x)\n",
    "# # display(\"image/svg+xml\", read(\"$(gfa_file).svg\", String))"
   ]
  },
  {
   "cell_type": "code",
   "execution_count": null,
   "id": "816ff93e-9f47-47b0-9130-3ccd65715894",
   "metadata": {},
   "outputs": [],
   "source": [
    "# threshold filtered graph"
   ]
  },
  {
   "cell_type": "code",
   "execution_count": null,
   "id": "d92b640a-ab4c-4d3f-aa92-9aea431770dd",
   "metadata": {},
   "outputs": [],
   "source": [
    "# make me faster by counting edges ahead of time\n",
    "@time observation_graph = Mycelia.fastx_to_simple_kmer_graph(BioSequences.DNAMer{k}, observations_file, minimum_coverage=1)"
   ]
  },
  {
   "cell_type": "code",
   "execution_count": null,
   "id": "86650d84-b90d-4f4b-bdb3-852ce23ac511",
   "metadata": {},
   "outputs": [],
   "source": [
    "kmer_counts = Dict(observation_graph.vprops[v][:kmer] => observation_graph.vprops[v][:weight] for v in LightGraphs.vertices(observation_graph))\n",
    "total_observed_kmers = sum(values(kmer_counts))\n",
    "kmer_probabilities = Dict(k => v/total_observed_kmers for (k,v) in kmer_counts)\n",
    "scale = 250\n",
    "Mycelia.plot_kmer_frequency_spectra(values(kmer_counts), size=(2scale,scale), title=\"kmer frequencies\")"
   ]
  },
  {
   "cell_type": "code",
   "execution_count": null,
   "id": "8e721199-415d-44bf-b4db-62b5720403e8",
   "metadata": {},
   "outputs": [],
   "source": [
    "reference_kmers = keys(Mycelia.count_canonical_kmers(BioSequences.DNAMer{k}, reference_fasta_file))\n",
    "distance_to_reference_graph = 1 - LSHFunctions.jaccard(Set(reference_kmers), Set(keys(kmer_counts)))"
   ]
  },
  {
   "cell_type": "code",
   "execution_count": null,
   "id": "e809a9ac-caa3-4698-98c8-f6a11440fd83",
   "metadata": {},
   "outputs": [],
   "source": [
    "kmer_counts_histogram = sort(collect(StatsBase.countmap(collect(values(kmer_counts)))), by=x->x[1])"
   ]
  },
  {
   "cell_type": "code",
   "execution_count": null,
   "id": "87815436-9bbe-407d-bb3b-ab25d0d2093b",
   "metadata": {},
   "outputs": [],
   "source": [
    "# visualize\n",
    "gfa_file = observations_file * \".k-$k.gfa\"\n",
    "Mycelia.graph_to_gfa(observation_graph, gfa_file)\n",
    "\n",
    "run(`$(BANDAGE) image $(gfa_file) $(gfa_file).svg --depwidth .9 --deppower .9`)\n",
    "# --nodewidth <float> Average node width (0.5 to 1000, default: 5)\n",
    "# --depwidth <float>  Depth effect on width (0 to 1, default: 0.5)\n",
    "# --deppower <float>  Power of depth effect on width (0 to 1, default: 0.5)\n",
    "\n",
    "html_path_to_svg = \"./\" * repeat(\"../\", length(split(pwd(), '/')) - 3)\n",
    "html_path_to_svg *= replace(\"$(gfa_file).svg\", \"$(homedir())/\" => \"\")\n",
    "\n",
    "x = \"<img src=$(html_path_to_svg)>\"\n",
    "display(\"text/html\", x)\n",
    "# display(\"image/svg+xml\", read(\"$(gfa_file).svg\", String))"
   ]
  },
  {
   "cell_type": "code",
   "execution_count": null,
   "id": "447065bb-bd3d-4785-89f0-52c4296ec8e6",
   "metadata": {},
   "outputs": [],
   "source": [
    "# this didn't work because it uses longer minimizers than the kmers were set to?\n",
    "# run(`GraphAligner -g $(gfa_file) -f $(observations_file) -a $(observations_file).gaf -x dbg`)"
   ]
  },
  {
   "cell_type": "code",
   "execution_count": null,
   "id": "6a81f427-a863-4dcc-9b40-098ef74574ad",
   "metadata": {},
   "outputs": [],
   "source": [
    "# try again using simplified graph"
   ]
  },
  {
   "cell_type": "code",
   "execution_count": null,
   "id": "1e700cbd-be19-416f-91ef-8a8d2a406580",
   "metadata": {},
   "outputs": [],
   "source": [
    "simplified_graph = Mycelia.simplify_kmer_graph(observation_graph)"
   ]
  },
  {
   "cell_type": "code",
   "execution_count": null,
   "id": "c9ce3cd5-d4aa-4f6a-bd8a-b419ac0709b1",
   "metadata": {},
   "outputs": [],
   "source": [
    "# write simplified graph to gfa\n",
    "# visualize\n",
    "gfa_file = observations_file * \".k-$k.simplified.gfa\"\n",
    "Mycelia.graph_to_gfa(simplified_graph, gfa_file)\n",
    "\n",
    "run(`$(BANDAGE) image $(gfa_file) $(gfa_file).svg --depwidth .9 --deppower .9`)\n",
    "# --nodewidth <float> Average node width (0.5 to 1000, default: 5)\n",
    "# --depwidth <float>  Depth effect on width (0 to 1, default: 0.5)\n",
    "# --deppower <float>  Power of depth effect on width (0 to 1, default: 0.5)\n",
    "\n",
    "html_path_to_svg = \"./\" * repeat(\"../\", length(split(pwd(), '/')) - 3)\n",
    "html_path_to_svg *= replace(\"$(gfa_file).svg\", \"$(homedir())/\" => \"\")\n",
    "\n",
    "x = \"<img src=$(html_path_to_svg)>\"\n",
    "display(\"text/html\", x)\n",
    "# display(\"image/svg+xml\", read(\"$(gfa_file).svg\", String))"
   ]
  },
  {
   "cell_type": "code",
   "execution_count": null,
   "id": "063ca77a-1b9a-4e18-a484-14431e93cd9d",
   "metadata": {},
   "outputs": [],
   "source": [
    "run(`GraphAligner -g $(gfa_file) -f $(observations_file) -a $(observations_file).gaf -x vg`)"
   ]
  },
  {
   "cell_type": "code",
   "execution_count": null,
   "id": "258f5c89-540e-4818-b404-6f004322b310",
   "metadata": {},
   "outputs": [],
   "source": [
    "alignments_file = \"$(observations_file).gaf\""
   ]
  },
  {
   "cell_type": "code",
   "execution_count": null,
   "id": "3025cec2-b72b-4190-960d-fa1f52ab72a6",
   "metadata": {},
   "outputs": [],
   "source": [
    "# conda install -c conda-forge -c bioconda bcalm"
   ]
  },
  {
   "cell_type": "code",
   "execution_count": null,
   "id": "0540cde6-7e57-4104-a2e0-06502fc8682c",
   "metadata": {},
   "outputs": [],
   "source": [
    "line = readline(alignments_file)"
   ]
  },
  {
   "cell_type": "code",
   "execution_count": null,
   "id": "10eb10dc-8b6f-4710-8839-0f13468585c1",
   "metadata": {},
   "outputs": [],
   "source": [
    "split(line, '\\t')"
   ]
  },
  {
   "cell_type": "code",
   "execution_count": null,
   "id": "d80b9f26-4279-4053-97ec-c0d3fe22eeaf",
   "metadata": {},
   "outputs": [],
   "source": []
  },
  {
   "cell_type": "code",
   "execution_count": null,
   "id": "fe5e26f2-7cbf-4c4d-95fc-23228997a778",
   "metadata": {},
   "outputs": [],
   "source": [
    "\n",
    "# first(uCSV.read(alignments_file, delim='\\t'))"
   ]
  },
  {
   "cell_type": "code",
   "execution_count": null,
   "id": "701df37f-5bc3-4ced-b371-269bcb10a24f",
   "metadata": {},
   "outputs": [],
   "source": [
    "# https://github.com/lh3/gfatools/blob/master/doc/rGFA.md#the-graph-alignment-format-gaf\n",
    "# Query sequence name\n",
    "# Query sequence length\n",
    "# Query start (0-based; closed)\n",
    "# Query end (0-based; open)\n",
    "# Strand relative to the path: \"+\" or \"-\"\n",
    "# Path matching /([><][^\\s><]+(:\\d+-\\d+)?)+|([^\\s><]+)/\n",
    "# Path length\n",
    "# Start position on the path (0-based)\n",
    "# End position on the path (0-based)\n",
    "# Number of residue matches\n",
    "# Alignment block length\n",
    "# Mapping quality (0-255; 255 for missing)\n",
    "#  \"NM:i:0\"\n",
    "#  \"AS:f:100\"\n",
    "#  \"dv:f:0\"\n",
    "#  \"id:f:1\"\n",
    "#  \"cg:Z:100=\"\n",
    "\n",
    "header = [\n",
    "    \"Query sequence name\",\n",
    "    \"Query sequence length\",\n",
    "    \"Query start (0-based; closed)\",\n",
    "    \"Query end (0-based; open)\",\n",
    "    \"Strand\",\n",
    "    \"Path\",\n",
    "    \"Path length\",\n",
    "    \"Start position on the path (0-based)\",\n",
    "    \"End position on the path (0-based)\",\n",
    "    \"Number of residue matches\",\n",
    "    \"Alignment block length\",\n",
    "    \"Mapping quality (0-255; 255 for missing)\",\n",
    "    \"NM\",\n",
    "    \"AS\",\n",
    "    \"dv\",\n",
    "    \"id\",\n",
    "    \"cg\"\n",
    "    ]\n",
    "mapping_results = DataFrames.DataFrame(first(uCSV.read(alignments_file, delim='\\t')), header)"
   ]
  },
  {
   "cell_type": "code",
   "execution_count": null,
   "id": "e49fe501-7673-4d0a-a5dd-24da87b4569b",
   "metadata": {},
   "outputs": [],
   "source": [
    "# take only the first entry for each read\n",
    "mapping_results = DataFrames.DataFrame([g[1, :] for g in DataFrames.groupby(mapping_results, \"Query sequence name\")])"
   ]
  },
  {
   "cell_type": "code",
   "execution_count": null,
   "id": "571063f6-7d01-4c21-90ea-7d5418663852",
   "metadata": {},
   "outputs": [],
   "source": [
    "corrected_observations_file = replace(observations_file, \".fastq\" => \".k$(k).fasta\")"
   ]
  },
  {
   "cell_type": "code",
   "execution_count": null,
   "id": "62a3c039-0a72-4040-ad29-8957f565a312",
   "metadata": {},
   "outputs": [],
   "source": [
    "open(corrected_observations_file, \"w\") do io\n",
    "    fastx_io = FASTX.FASTA.Writer(io)\n",
    "    for mapping_result in DataFrames.eachrow(mapping_results[10:20, :])\n",
    "#         @show mapping_result[\"Path\"]\n",
    "        steps = split(replace(mapping_result[\"Path\"], r\"(>|<)\" => s\" \\1\"))\n",
    "#         @show steps\n",
    "        oriented_steps = [(vertex = parse(Int, replace(step, r\">|<\" => \"\")), orientation = first(step) == '>' ? true : false) for step in steps]\n",
    "#         @show oriented_steps\n",
    "        path_sequences = BioSequences.LongDNASeq[]\n",
    "        for step in oriented_steps\n",
    "            seq = simplified_graph.vprops[step.vertex][:sequence]\n",
    "            if !step.orientation\n",
    "                seq = BioSequences.reverse_complement(seq)\n",
    "            end\n",
    "            push!(path_sequences, seq)\n",
    "        end\n",
    "#         @show path_sequences\n",
    "        path_sequence = reduce(*, path_sequences)\n",
    "#         @show path_sequence\n",
    "        if mapping_result[\"Strand\"] == \"-\"\n",
    "            path_sequence = BioSequences.reverse_complement(path_sequence)\n",
    "#             @show \"flipping orientation\"\n",
    "        end\n",
    "\n",
    "        start = mapping_result[\"Start position on the path (0-based)\"] + 1\n",
    "        stop = mapping_result[\"End position on the path (0-based)\"]\n",
    "#         @show \"extracting $(start):$(stop)\"\n",
    "        path_replacement = path_sequence[start:stop]\n",
    "#         @show path_replacement\n",
    "        \n",
    "        sequence_hash = string(hash(path_replacement))\n",
    "        barcode_id = string(hash(Dates.now(), hash(Random.randstring(32))))\n",
    "        record_identifier = \"$(sequence_hash)-$(barcode_id)\"\n",
    "\n",
    "        record = FASTX.FASTA.Record(\n",
    "            record_identifier,\n",
    "            mapping_result[\"Query sequence name\"],\n",
    "            path_replacement\n",
    "        )\n",
    "#         @show record\n",
    "        write(fastx_io, record)\n",
    "    end\n",
    "    close(fastx_io)\n",
    "end"
   ]
  },
  {
   "cell_type": "code",
   "execution_count": null,
   "id": "ad9ee69e-7d60-433e-a1c2-936d89f88d88",
   "metadata": {},
   "outputs": [],
   "source": [
    "corrected_observation_graph = Mycelia.fastx_to_kmer_graph(BioSequences.DNAMer{k}, corrected_observations_file)"
   ]
  },
  {
   "cell_type": "code",
   "execution_count": null,
   "id": "2ffc14d0-ec41-4374-ab95-307437755ce6",
   "metadata": {},
   "outputs": [],
   "source": [
    "# visualize\n",
    "gfa_file = corrected_observations_file * \".k-$k.gfa\"\n",
    "Mycelia.graph_to_gfa(corrected_observation_graph, gfa_file)\n",
    "\n",
    "run(`$(BANDAGE) image $(gfa_file) $(gfa_file).svg --depwidth .9 --deppower .9`)\n",
    "# --nodewidth <float> Average node width (0.5 to 1000, default: 5)\n",
    "# --depwidth <float>  Depth effect on width (0 to 1, default: 0.5)\n",
    "# --deppower <float>  Power of depth effect on width (0 to 1, default: 0.5)\n",
    "\n",
    "html_path_to_svg = \"./\" * repeat(\"../\", length(split(pwd(), '/')) - 3)\n",
    "html_path_to_svg *= replace(\"$(gfa_file).svg\", \"$(homedir())/\" => \"\")\n",
    "\n",
    "x = \"<img src=$(html_path_to_svg)>\"\n",
    "display(\"text/html\", x)\n",
    "# display(\"image/svg+xml\", read(\"$(gfa_file).svg\", String))"
   ]
  },
  {
   "cell_type": "code",
   "execution_count": null,
   "id": "2bb45f8b-a224-433d-bc30-493fa4a4cd9c",
   "metadata": {},
   "outputs": [],
   "source": [
    "kmer_counts = Dict(corrected_observation_graph.vprops[v][:kmer] => corrected_observation_graph.vprops[v][:weight] for v in LightGraphs.vertices(corrected_observation_graph))\n",
    "total_observed_kmers = sum(values(kmer_counts))\n",
    "kmer_probabilities = Dict(k => v/total_observed_kmers for (k,v) in kmer_counts)\n",
    "scale = 250\n",
    "Mycelia.plot_kmer_frequency_spectra(values(kmer_counts), size=(2scale,scale), title=\"kmer frequencies\")"
   ]
  },
  {
   "cell_type": "code",
   "execution_count": null,
   "id": "296a790b-224b-4b05-9646-7d79151ddc9d",
   "metadata": {},
   "outputs": [],
   "source": [
    "# compare the new graph to the error-free graph to the error-corrected graph"
   ]
  },
  {
   "cell_type": "code",
   "execution_count": null,
   "id": "af05d996-fecc-4f59-a9d7-f48561c3491d",
   "metadata": {},
   "outputs": [],
   "source": [
    "reference_kmers = keys(Mycelia.count_canonical_kmers(BioSequences.DNAMer{k}, reference_fasta_file))\n",
    "distance_to_reference_graph = 1 - LSHFunctions.jaccard(Set(reference_kmers), Set(keys(kmer_counts)))"
   ]
  }
 ],
 "metadata": {
  "kernelspec": {
   "display_name": "Julia 1.6.1",
   "language": "julia",
   "name": "julia-1.6"
  },
  "language_info": {
   "file_extension": ".jl",
   "mimetype": "application/julia",
   "name": "julia",
   "version": "1.6.1"
  }
 },
 "nbformat": 4,
 "nbformat_minor": 5
}
