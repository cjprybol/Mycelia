{
 "cells": [
  {
   "cell_type": "code",
   "execution_count": 1,
   "id": "6ac73c46-51c9-4fea-845f-fb17ce8d83a2",
   "metadata": {},
   "outputs": [
    {
     "data": {
      "text/plain": [
       "\"/home/jovyan/2021-08-25-k-medoids-error-cluster-detection-multi-entity-graph-aligner-test\""
      ]
     },
     "execution_count": 1,
     "metadata": {},
     "output_type": "execute_result"
    }
   ],
   "source": [
    "DATE = \"2021-08-25\"\n",
    "TASK = \"k-medoids-error-cluster-detection-multi-entity-graph-aligner-test\"\n",
    "DIR = mkpath(\"$(homedir())/$(DATE)-$(TASK)\")"
   ]
  },
  {
   "cell_type": "code",
   "execution_count": 2,
   "id": "38cb383f-3696-4b4b-a732-9a2059e0681a",
   "metadata": {},
   "outputs": [],
   "source": [
    "import Pkg\n",
    "pkgs = [\n",
    "#     \"BioAlignments\",\n",
    "    \"BioSequences\",\n",
    "    \"Clustering\",\n",
    "#     \"CodecZlib\",\n",
    "#     \"Colors\",\n",
    "#     \"Combinatorics\",\n",
    "    \"DataFrames\",\n",
    "#     \"DataStructures\",\n",
    "    \"Dates\",\n",
    "#     \"DelimitedFiles\",\n",
    "    \"Distances\",\n",
    "#     \"EzXML\",\n",
    "    \"FASTX\",\n",
    "#     \"GFF3\",\n",
    "#     \"HTTP\",\n",
    "#     \"Impute\",\n",
    "#     \"JSON\",\n",
    "    \"LightGraphs\",\n",
    "    \"LSHFunctions\",\n",
    "#     \"Measures\",\n",
    "    \"MetaGraphs\",\n",
    "    \"https://github.com/cjprybol/Mycelia.git\",\n",
    "#     \"NumericIO\",\n",
    "#     \"PlotlyJS\",\n",
    "#     \"Plots\",\n",
    "    \"Primes\",\n",
    "#     \"Printf\",\n",
    "    \"ProgressMeter\",\n",
    "    \"Random\",\n",
    "    \"Revise\",\n",
    "    \"SparseArrays\",\n",
    "    \"Statistics\",\n",
    "    \"StatsBase\",\n",
    "    \"StatsPlots\",\n",
    "#     \"StringDistances\",\n",
    "    \"uCSV\",\n",
    "#     \"XLSX\",\n",
    "]\n",
    "\n",
    "unregistered_packages = filter(pkg -> occursin(r\"(^https|git$)\", pkg), pkgs)\n",
    "registered_packages = setdiff(pkgs, unregistered_packages)\n",
    "\n",
    "for pkg in registered_packages\n",
    "    try\n",
    "        eval(Meta.parse(\"import $(pkg)\"))\n",
    "    catch\n",
    "        Pkg.add(pkg)\n",
    "        Pkg.build(pkg)\n",
    "        eval(Meta.parse(\"import $(pkg)\"))\n",
    "    end\n",
    "end\n",
    "\n",
    "for pkg_url in unregistered_packages\n",
    "    pkg_name = replace(basename(pkg_url), \".git\" => \"\")\n",
    "    try\n",
    "        eval(Meta.parse(\"import $(pkg_name)\"))\n",
    "    catch\n",
    "        Pkg.develop(url=pkg_url)\n",
    "        Pkg.build(pkg_name)\n",
    "        eval(Meta.parse(\"import $(pkg_name)\"))\n",
    "    end\n",
    "end"
   ]
  },
  {
   "cell_type": "code",
   "execution_count": 3,
   "id": "9f9307c7-1b35-4283-b1cb-adc87dc05f20",
   "metadata": {},
   "outputs": [
    {
     "data": {
      "text/plain": [
       "\"Bandage\""
      ]
     },
     "execution_count": 3,
     "metadata": {},
     "output_type": "execute_result"
    }
   ],
   "source": [
    "if Sys.isapple()\n",
    "    BANDAGE = \"/Applications/Bandage.app/Contents/MacOS/Bandage\"\n",
    "else\n",
    "    BANDAGE = \"Bandage\"\n",
    "end"
   ]
  },
  {
   "cell_type": "code",
   "execution_count": 4,
   "id": "8824e5f4-fcd5-4d3d-b77c-9d1086788677",
   "metadata": {},
   "outputs": [
    {
     "data": {
      "text/plain": [
       "assess_kmer_sparsity_in_reads (generic function with 1 method)"
      ]
     },
     "execution_count": 4,
     "metadata": {},
     "output_type": "execute_result"
    }
   ],
   "source": [
    "function assess_kmer_sparsity_in_reads(k, observations)\n",
    "    canonical_kmer_counts = Mycelia.count_canonical_kmers(BioSequences.DNAMer{k}, observations)\n",
    "    total_observed_canonical_kmers = length(keys(canonical_kmer_counts))\n",
    "    total_possible_canonical_kmers = (4^k)/2\n",
    "    sparsity = round(total_observed_canonical_kmers/total_possible_canonical_kmers*100, sigdigits=3)\n",
    "    return sparsity\n",
    "end"
   ]
  },
  {
   "cell_type": "code",
   "execution_count": 5,
   "id": "148b6939-0508-487c-91d1-94da6aa1409e",
   "metadata": {},
   "outputs": [
    {
     "data": {
      "text/plain": [
       "sequence_to_canonical_kmers (generic function with 1 method)"
      ]
     },
     "execution_count": 5,
     "metadata": {},
     "output_type": "execute_result"
    }
   ],
   "source": [
    "function sequence_to_canonical_kmers(kmer_type, sequence)\n",
    "    return (BioSequences.canonical(kmer.fw) for kmer in BioSequences.each(kmer_type, sequence))\n",
    "end"
   ]
  },
  {
   "cell_type": "code",
   "execution_count": 6,
   "id": "02e895c2-a0a6-40c6-841c-ebbf274c0a47",
   "metadata": {},
   "outputs": [
    {
     "data": {
      "text/plain": [
       "determine_edge_weights (generic function with 1 method)"
      ]
     },
     "execution_count": 6,
     "metadata": {},
     "output_type": "execute_result"
    }
   ],
   "source": [
    "function determine_edge_weights(graph)\n",
    "    outgoing_edge_probabilities = determine_edge_weights(graph, true)\n",
    "    incoming_edge_probabilities = determine_edge_weights(graph, false)\n",
    "    return Dict(true => outgoing_edge_probabilities, false => incoming_edge_probabilities)\n",
    "end"
   ]
  },
  {
   "cell_type": "code",
   "execution_count": 7,
   "id": "6212dc49-005c-40f9-8922-b80b3971c004",
   "metadata": {},
   "outputs": [
    {
     "data": {
      "text/plain": [
       "determine_edge_weights (generic function with 2 methods)"
      ]
     },
     "execution_count": 7,
     "metadata": {},
     "output_type": "execute_result"
    }
   ],
   "source": [
    "function determine_edge_weights(graph, strand)\n",
    "    kmers = [graph.vprops[v][:kmer] for v in LightGraphs.vertices(graph)]\n",
    "    outgoing_edge_weights = SparseArrays.spzeros(length(kmers), length(kmers))\n",
    "    \n",
    "    for (kmer_index, kmer) in enumerate(kmers)\n",
    "        if !strand\n",
    "            kmer = BioSequences.reverse_complement(kmer)\n",
    "        end\n",
    "        \n",
    "        downstream_neighbors = []\n",
    "        downstream_neighbor_weights = []\n",
    "        for neighbor in BioSequences.neighbors(kmer)\n",
    "            canonical_neighbor = BioSequences.canonical(neighbor)\n",
    "            neighbor_orientation = neighbor == canonical_neighbor\n",
    "            \n",
    "            neighbor_index_range = searchsorted(kmers, canonical_neighbor)\n",
    "            if !isempty(neighbor_index_range)\n",
    "                @assert length(neighbor_index_range) == 1\n",
    "                neighbor_index = first(neighbor_index_range)\n",
    "                if LightGraphs.has_edge(graph, LightGraphs.Edge(kmer_index, neighbor_index))\n",
    "                    edge_orientations = graph.eprops[LightGraphs.Edge(kmer_index, neighbor_index)][:orientations]\n",
    "                    this_edge_orientation = (source_orientation = strand, destination_orientation = neighbor_orientation)\n",
    "                    if this_edge_orientation in edge_orientations\n",
    "                        edge_weight = graph.eprops[LightGraphs.Edge(kmer_index, neighbor_index)][:weight]\n",
    "                        outgoing_edge_weights[kmer_index, neighbor_index] = edge_weight\n",
    "                    end\n",
    "                end\n",
    "            end\n",
    "        end\n",
    "    end\n",
    "    return outgoing_edge_weights\n",
    "end"
   ]
  },
  {
   "cell_type": "code",
   "execution_count": 8,
   "id": "33ffd192-f852-43e8-8eb1-3c19f5fe6141",
   "metadata": {},
   "outputs": [
    {
     "data": {
      "text/plain": [
       "determine_edge_probabilities (generic function with 1 method)"
      ]
     },
     "execution_count": 8,
     "metadata": {},
     "output_type": "execute_result"
    }
   ],
   "source": [
    "function determine_edge_probabilities(edge_weights)\n",
    "    edge_probabilities = deepcopy(edge_weights)\n",
    "    for orientation in [true, false]\n",
    "        for row in 1:size(edge_probabilities[orientation], 1)\n",
    "            edge_weights = edge_probabilities[orientation][row, :]\n",
    "            edge_total = sum(edge_weights)\n",
    "            for (col, edge_weight) in enumerate(edge_weights)\n",
    "                if edge_total > 0\n",
    "                    edge_probabilities[orientation][row, col] = edge_weight/edge_total\n",
    "                else\n",
    "                    edge_probabilities[orientation][row, col] = 0.0\n",
    "                end\n",
    "            end\n",
    "        end\n",
    "    end\n",
    "    return edge_probabilities\n",
    "end"
   ]
  },
  {
   "cell_type": "code",
   "execution_count": 9,
   "id": "94750a47-abaa-48ac-9c0e-e7422260ec26",
   "metadata": {},
   "outputs": [
    {
     "data": {
      "text/plain": [
       "random_step (generic function with 1 method)"
      ]
     },
     "execution_count": 9,
     "metadata": {},
     "output_type": "execute_result"
    }
   ],
   "source": [
    "function random_step(current_vertex, current_orientation, step_probabilities)\n",
    "    outgoing_edge_likelihoods = step_probabilities[initial_orientation][current_vertex, :]\n",
    "    chosen_step = StatsBase.sample(outgoing_edge_likelihoods.nzind, StatsBase.weights(outgoing_edge_likelihoods.nzval))\n",
    "    possible_orientations = observation_graph.eprops[LightGraphs.Edge(current_vertex, chosen_step)][:orientations]\n",
    "    possible_orientations = filter(o -> o.source_orientation == current_orientation, possible_orientations)\n",
    "    chosen_orientation = rand(possible_orientations).destination_orientation\n",
    "    chosen_oriented_step = (vertex = chosen_step, orientation = chosen_orientation)\n",
    "    return chosen_oriented_step\n",
    "end"
   ]
  },
  {
   "cell_type": "code",
   "execution_count": 10,
   "id": "1ed368e8-bbee-4634-ac66-af3203e5fb11",
   "metadata": {},
   "outputs": [
    {
     "data": {
      "text/plain": [
       "random_walk (generic function with 1 method)"
      ]
     },
     "execution_count": 10,
     "metadata": {},
     "output_type": "execute_result"
    }
   ],
   "source": [
    "function random_walk(observation_graph, initial_vertex, initial_orientation, step_probabilities; n_steps=size(step_probabilities[true], 1))\n",
    "    step_count = 0\n",
    "    outgoing_edge_likelihoods = step_probabilities[initial_orientation][initial_vertex, :]\n",
    "    walk = Vector{NamedTuple{(:vertex, :orientation), Tuple{Int64, Bool}}}()\n",
    "    done = (step_count >= n_steps) || (sum(outgoing_edge_likelihoods) == 0)\n",
    "    current_vertex = initial_vertex\n",
    "    current_orientation = initial_orientation\n",
    "    while !done\n",
    "#         @show \"choosing\"\n",
    "        chosen_step = StatsBase.sample(outgoing_edge_likelihoods.nzind, StatsBase.weights(outgoing_edge_likelihoods.nzval))\n",
    "        chosen_step\n",
    "        possible_orientations = observation_graph.eprops[LightGraphs.Edge(current_vertex, chosen_step)][:orientations]\n",
    "        possible_orientations\n",
    "        current_orientation\n",
    "        possible_orientations = filter(o -> o.source_orientation == current_orientation, possible_orientations)\n",
    "        possible_orientations\n",
    "        chosen_orientation = rand(possible_orientations).destination_orientation\n",
    "        chosen_oriented_step = (vertex = chosen_step, orientation = chosen_orientation)\n",
    "        push!(walk, chosen_oriented_step)\n",
    "        current_vertex = chosen_step\n",
    "        current_orientation = chosen_orientation\n",
    "        outgoing_edge_likelihoods = step_probabilities[last(walk).orientation][last(walk).vertex, :]\n",
    "        step_count += 1\n",
    "#         @show outgoing_edge_likelihoods\n",
    "        done = (step_count >= n_steps) || (sum(outgoing_edge_likelihoods) == 0)\n",
    "    end\n",
    "    return walk\n",
    "end"
   ]
  },
  {
   "cell_type": "code",
   "execution_count": 11,
   "id": "d54736c9-822b-428d-b6e1-c84c33ea2fd3",
   "metadata": {},
   "outputs": [],
   "source": [
    "# km = vmax/2 = optimal number of reads\n",
    "# slope is less than 10%?"
   ]
  },
  {
   "cell_type": "code",
   "execution_count": 12,
   "id": "03bc3ce0-24b7-4f8b-a90a-050b61c211e5",
   "metadata": {},
   "outputs": [],
   "source": [
    "# generate genomes\n",
    "fasta_records = []\n",
    "sequence_lengths = [100, 1000]\n",
    "weights = [10, 1]\n",
    "for (sequence_length, depth) in zip(sequence_lengths, weights)\n",
    "    sequence = BioSequences.randdnaseq(Random.seed!(sequence_length), sequence_length)\n",
    "    sequence_id = string(hash(sequence))\n",
    "    description = string(depth)\n",
    "    fasta_record = FASTX.FASTA.Record(sequence_id, description, sequence)\n",
    "    push!(fasta_records, fasta_record)\n",
    "end"
   ]
  },
  {
   "cell_type": "code",
   "execution_count": 13,
   "id": "6b67def7-76e6-4227-a0de-f34d6d3173f5",
   "metadata": {},
   "outputs": [],
   "source": [
    "file_basename = join([\"L-$(length(FASTX.sequence(record)))\" for record in fasta_records], '_')\n",
    "reference_fasta_file = \"$(DIR)/$(file_basename).fasta\"\n",
    "open(reference_fasta_file, \"w\") do io\n",
    "    fastx_io = FASTX.FASTA.Writer(io)\n",
    "    for fasta_record in fasta_records\n",
    "        write(fastx_io, fasta_record)\n",
    "    end\n",
    "    close(fastx_io)\n",
    "end"
   ]
  },
  {
   "cell_type": "code",
   "execution_count": 14,
   "id": "4ad0d8c4-641b-4872-8c16-57fc2ce80cde",
   "metadata": {},
   "outputs": [
    {
     "data": {
      "text/plain": [
       "10000"
      ]
     },
     "execution_count": 14,
     "metadata": {},
     "output_type": "execute_result"
    }
   ],
   "source": [
    "# randomly sample reads with errors from the genome\n",
    "error_rate = 0.01\n",
    "n_reads = 10_000"
   ]
  },
  {
   "cell_type": "code",
   "execution_count": 15,
   "id": "12866bef-c905-47b4-8451-3014aa5291b3",
   "metadata": {},
   "outputs": [],
   "source": [
    "observations = [Mycelia.observe(StatsBase.sample(fasta_records, StatsBase.Weights(weights)), error_rate = error_rate) for i in 1:n_reads];"
   ]
  },
  {
   "cell_type": "code",
   "execution_count": 16,
   "id": "d0d65fbf-8343-4a15-9266-6acbd0690d57",
   "metadata": {},
   "outputs": [],
   "source": [
    "# determine distribution of read lengths"
   ]
  },
  {
   "cell_type": "code",
   "execution_count": 17,
   "id": "65ede45b-ac03-4b73-89a9-10bee08d1731",
   "metadata": {},
   "outputs": [
    {
     "data": {
      "text/plain": [
       "10000-element Vector{Int64}:\n",
       "   96\n",
       "   97\n",
       "   97\n",
       "   97\n",
       "   97\n",
       "   97\n",
       "   97\n",
       "   97\n",
       "   97\n",
       "   97\n",
       "   97\n",
       "   97\n",
       "   97\n",
       "    ⋮\n",
       " 1005\n",
       " 1006\n",
       " 1006\n",
       " 1006\n",
       " 1006\n",
       " 1006\n",
       " 1006\n",
       " 1006\n",
       " 1006\n",
       " 1006\n",
       " 1007\n",
       " 1008"
      ]
     },
     "execution_count": 17,
     "metadata": {},
     "output_type": "execute_result"
    }
   ],
   "source": [
    "sorted_read_lengths = sort(length.(FASTX.sequence.(observations)))"
   ]
  },
  {
   "cell_type": "code",
   "execution_count": 18,
   "id": "02faac4d-0f76-46cc-8d83-1a9a2e5499cc",
   "metadata": {},
   "outputs": [
    {
     "data": {
      "text/plain": [
       "98"
      ]
     },
     "execution_count": 18,
     "metadata": {},
     "output_type": "execute_result"
    }
   ],
   "source": [
    "first_percentile_read_length = sorted_read_lengths[Int(round(length(sorted_read_lengths) * .01))]"
   ]
  },
  {
   "cell_type": "code",
   "execution_count": 19,
   "id": "a4085a37-0a1b-4a8c-9115-9baf8882b5e0",
   "metadata": {},
   "outputs": [
    {
     "name": "stdout",
     "output_type": "stream",
     "text": [
      "(k, sparsity) = (5, 100.0)\n",
      "(k, sparsity) = (7, 97.3)\n",
      "(k, sparsity) = (11, 2.58)\n",
      "(k, sparsity) = (13, 0.201)\n",
      "k = 13\n"
     ]
    },
    {
     "data": {
      "text/plain": [
       "13"
      ]
     },
     "execution_count": 19,
     "metadata": {},
     "output_type": "execute_result"
    }
   ],
   "source": [
    "# determine optimal k\n",
    "min_k = min(5, first_percentile_read_length)\n",
    "max_k = min(61, first_percentile_read_length)\n",
    "k_options = Primes.primes(min_k, max_k)\n",
    "# sparsity_threshold = 0.01\n",
    "# sparsity_threshold = 0.1\n",
    "sparsity_threshold = 1\n",
    "# sparsity_threshold = 10\n",
    "k_index = nothing\n",
    "for (i, k) in enumerate(k_options)\n",
    "    sparsity = assess_kmer_sparsity_in_reads(k, observations)\n",
    "    @show k, sparsity\n",
    "    if sparsity < sparsity_threshold\n",
    "        k_index = i\n",
    "        break\n",
    "    end\n",
    "end\n",
    "# k_index = findfirst(k -> assess_kmer_sparsity_in_reads(k, observations) <= sparsity_threshold, k_options)\n",
    "if k_index == nothing\n",
    "    k = k_options[end]\n",
    "else\n",
    "    k = k_options[k_index]\n",
    "end\n",
    "@show k"
   ]
  },
  {
   "cell_type": "code",
   "execution_count": 20,
   "id": "14964bd9-c1b2-469c-92cc-c467b631358b",
   "metadata": {},
   "outputs": [],
   "source": [
    "observations_file = \"$(DIR)/$(file_basename)-DEPTH-$(n_reads).fastq\"\n",
    "open(observations_file, \"w\") do io\n",
    "    fastq_io = FASTX.FASTQ.Writer(io)\n",
    "    for record in observations\n",
    "        write(fastq_io, record)\n",
    "    end\n",
    "    close(fastq_io)\n",
    "end"
   ]
  },
  {
   "cell_type": "markdown",
   "id": "5884b85a-bc25-44a0-b6f4-fe938758f824",
   "metadata": {},
   "source": [
    "# Begin graph resolving of observation graph"
   ]
  },
  {
   "cell_type": "code",
   "execution_count": 21,
   "id": "351d47d9-a8c9-4a7a-8d47-9b604bdb7f41",
   "metadata": {},
   "outputs": [],
   "source": [
    "# assess kmer counts"
   ]
  },
  {
   "cell_type": "code",
   "execution_count": 22,
   "id": "d4c4ee10-d428-4aa4-a71e-9c610339ff28",
   "metadata": {},
   "outputs": [],
   "source": [
    "# fit linear trendline to kmer counts"
   ]
  },
  {
   "cell_type": "code",
   "execution_count": 23,
   "id": "41e1f331-25ba-4ac5-a282-07894c5c8bd4",
   "metadata": {},
   "outputs": [],
   "source": [
    "# apply thresholding when constructing kmer graph at the trendline"
   ]
  },
  {
   "cell_type": "code",
   "execution_count": 27,
   "id": "7764dfed-7461-42d0-b4bc-ec7de4f173c9",
   "metadata": {},
   "outputs": [
    {
     "data": {
      "text/plain": [
       "OrderedCollections.OrderedDict{BioSequences.DNAMer{13}, Int64} with 67421 entries:\n",
       "  AAAAAACTTATCA => 7\n",
       "  AAAAAATACTGAA => 3\n",
       "  AAAAAATTATCAC => 2\n",
       "  AAAAAATTATCAT => 5\n",
       "  AAAAACAATACAA => 1\n",
       "  AAAAACAATTTAT => 5\n",
       "  AAAAACATAGATG => 1\n",
       "  AAAAACATTATCA => 1\n",
       "  AAAAACCGGTCCA => 1\n",
       "  AAAAACCTATCAC => 2\n",
       "  AAAAACCTTATCA => 1\n",
       "  AAAAACGCTGAGG => 6\n",
       "  AAAAACGCTGGAG => 1\n",
       "  AAAAACGTATCAC => 1\n",
       "  AAAAACTAATCAC => 1\n",
       "  AAAAACTATCACA => 9\n",
       "  AAAAACTTAAACG => 3\n",
       "  AAAAACTTAATCA => 2\n",
       "  AAAAACTTACACA => 4\n",
       "  AAAAACTTAGCAC => 1\n",
       "  AAAAACTTAGTCA => 2\n",
       "  AAAAACTTATAAC => 1\n",
       "  AAAAACTTATACA => 1\n",
       "  AAAAACTTATACC => 1\n",
       "  AAAAACTTATCAA => 3\n",
       "  ⋮             => ⋮"
      ]
     },
     "execution_count": 27,
     "metadata": {},
     "output_type": "execute_result"
    }
   ],
   "source": [
    "kmer_counts = Mycelia.count_canonical_kmers(BioSequences.DNAMer{k}, observations_file)"
   ]
  },
  {
   "cell_type": "code",
   "execution_count": 28,
   "id": "f9bed7a0-5849-45bf-8ecc-ca64c09dcdf2",
   "metadata": {},
   "outputs": [
    {
     "data": {
      "text/plain": [
       "201-element Vector{Pair{Int64, Int64}}:\n",
       "    1 => 34002\n",
       "    2 => 12999\n",
       "    3 => 6266\n",
       "    4 => 3091\n",
       "    5 => 1871\n",
       "    6 => 1466\n",
       "    7 => 1090\n",
       "    8 => 951\n",
       "    9 => 961\n",
       "   10 => 617\n",
       "   11 => 443\n",
       "   12 => 374\n",
       "   13 => 347\n",
       "      ⋮\n",
       " 8022 => 1\n",
       " 8026 => 1\n",
       " 8029 => 1\n",
       " 8034 => 1\n",
       " 8036 => 1\n",
       " 8041 => 1\n",
       " 8042 => 1\n",
       " 8049 => 1\n",
       " 8054 => 1\n",
       " 8060 => 1\n",
       " 8062 => 1\n",
       " 8094 => 1"
      ]
     },
     "execution_count": 28,
     "metadata": {},
     "output_type": "execute_result"
    }
   ],
   "source": [
    "kmer_counts_histogram = sort(collect(StatsBase.countmap(values(kmer_counts))), by=x->x[1])"
   ]
  },
  {
   "cell_type": "code",
   "execution_count": 29,
   "id": "bbe23e87-889d-4812-8ec0-772a3ec2e369",
   "metadata": {},
   "outputs": [
    {
     "data": {
      "image/svg+xml": [
       "<?xml version=\"1.0\" encoding=\"utf-8\"?>\n",
       "<svg xmlns=\"http://www.w3.org/2000/svg\" xmlns:xlink=\"http://www.w3.org/1999/xlink\" width=\"500\" height=\"250\" viewBox=\"0 0 2000 1000\">\n",
       "<defs>\n",
       "  <clipPath id=\"clip730\">\n",
       "    <rect x=\"0\" y=\"0\" width=\"2000\" height=\"1000\"/>\n",
       "  </clipPath>\n",
       "</defs>\n",
       "<path clip-path=\"url(#clip730)\" d=\"\n",
       "M0 1000 L2000 1000 L2000 0 L0 0  Z\n",
       "  \" fill=\"#ffffff\" fill-rule=\"evenodd\" fill-opacity=\"1\"/>\n",
       "<defs>\n",
       "  <clipPath id=\"clip731\">\n",
       "    <rect x=\"400\" y=\"0\" width=\"1401\" height=\"1000\"/>\n",
       "  </clipPath>\n",
       "</defs>\n",
       "<path clip-path=\"url(#clip730)\" d=\"\n",
       "M186.347 849.7 L1952.76 849.7 L1952.76 108.352 L186.347 108.352  Z\n",
       "  \" fill=\"#ffffff\" fill-rule=\"evenodd\" fill-opacity=\"1\"/>\n",
       "<defs>\n",
       "  <clipPath id=\"clip732\">\n",
       "    <rect x=\"186\" y=\"108\" width=\"1767\" height=\"742\"/>\n",
       "  </clipPath>\n",
       "</defs>\n",
       "<polyline clip-path=\"url(#clip732)\" style=\"stroke:#000000; stroke-linecap:butt; stroke-linejoin:round; stroke-width:2; stroke-opacity:0.1; fill:none\" points=\"\n",
       "  186.347,849.7 186.347,108.352 \n",
       "  \"/>\n",
       "<polyline clip-path=\"url(#clip732)\" style=\"stroke:#000000; stroke-linecap:butt; stroke-linejoin:round; stroke-width:2; stroke-opacity:0.1; fill:none\" points=\"\n",
       "  481.09,849.7 481.09,108.352 \n",
       "  \"/>\n",
       "<polyline clip-path=\"url(#clip732)\" style=\"stroke:#000000; stroke-linecap:butt; stroke-linejoin:round; stroke-width:2; stroke-opacity:0.1; fill:none\" points=\"\n",
       "  775.833,849.7 775.833,108.352 \n",
       "  \"/>\n",
       "<polyline clip-path=\"url(#clip732)\" style=\"stroke:#000000; stroke-linecap:butt; stroke-linejoin:round; stroke-width:2; stroke-opacity:0.1; fill:none\" points=\"\n",
       "  1070.58,849.7 1070.58,108.352 \n",
       "  \"/>\n",
       "<polyline clip-path=\"url(#clip732)\" style=\"stroke:#000000; stroke-linecap:butt; stroke-linejoin:round; stroke-width:2; stroke-opacity:0.1; fill:none\" points=\"\n",
       "  1365.32,849.7 1365.32,108.352 \n",
       "  \"/>\n",
       "<polyline clip-path=\"url(#clip732)\" style=\"stroke:#000000; stroke-linecap:butt; stroke-linejoin:round; stroke-width:2; stroke-opacity:0.1; fill:none\" points=\"\n",
       "  1660.06,849.7 1660.06,108.352 \n",
       "  \"/>\n",
       "<polyline clip-path=\"url(#clip730)\" style=\"stroke:#000000; stroke-linecap:butt; stroke-linejoin:round; stroke-width:4; stroke-opacity:1; fill:none\" points=\"\n",
       "  186.347,849.7 1952.76,849.7 \n",
       "  \"/>\n",
       "<polyline clip-path=\"url(#clip730)\" style=\"stroke:#000000; stroke-linecap:butt; stroke-linejoin:round; stroke-width:4; stroke-opacity:1; fill:none\" points=\"\n",
       "  186.347,849.7 186.347,830.802 \n",
       "  \"/>\n",
       "<polyline clip-path=\"url(#clip730)\" style=\"stroke:#000000; stroke-linecap:butt; stroke-linejoin:round; stroke-width:4; stroke-opacity:1; fill:none\" points=\"\n",
       "  481.09,849.7 481.09,830.802 \n",
       "  \"/>\n",
       "<polyline clip-path=\"url(#clip730)\" style=\"stroke:#000000; stroke-linecap:butt; stroke-linejoin:round; stroke-width:4; stroke-opacity:1; fill:none\" points=\"\n",
       "  775.833,849.7 775.833,830.802 \n",
       "  \"/>\n",
       "<polyline clip-path=\"url(#clip730)\" style=\"stroke:#000000; stroke-linecap:butt; stroke-linejoin:round; stroke-width:4; stroke-opacity:1; fill:none\" points=\"\n",
       "  1070.58,849.7 1070.58,830.802 \n",
       "  \"/>\n",
       "<polyline clip-path=\"url(#clip730)\" style=\"stroke:#000000; stroke-linecap:butt; stroke-linejoin:round; stroke-width:4; stroke-opacity:1; fill:none\" points=\"\n",
       "  1365.32,849.7 1365.32,830.802 \n",
       "  \"/>\n",
       "<polyline clip-path=\"url(#clip730)\" style=\"stroke:#000000; stroke-linecap:butt; stroke-linejoin:round; stroke-width:4; stroke-opacity:1; fill:none\" points=\"\n",
       "  1660.06,849.7 1660.06,830.802 \n",
       "  \"/>\n",
       "<path clip-path=\"url(#clip730)\" d=\"M163.732 875.691 Q160.121 875.691 158.292 879.255 Q156.487 882.797 156.487 889.927 Q156.487 897.033 158.292 900.598 Q160.121 904.139 163.732 904.139 Q167.366 904.139 169.172 900.598 Q171 897.033 171 889.927 Q171 882.797 169.172 879.255 Q167.366 875.691 163.732 875.691 M163.732 871.987 Q169.542 871.987 172.598 876.593 Q175.676 881.177 175.676 889.927 Q175.676 898.653 172.598 903.26 Q169.542 907.843 163.732 907.843 Q157.922 907.843 154.843 903.26 Q151.787 898.653 151.787 889.927 Q151.787 881.177 154.843 876.593 Q157.922 871.987 163.732 871.987 Z\" fill=\"#000000\" fill-rule=\"evenodd\" fill-opacity=\"1\" /><path clip-path=\"url(#clip730)\" d=\"M183.894 901.292 L188.778 901.292 L188.778 907.172 L183.894 907.172 L183.894 901.292 Z\" fill=\"#000000\" fill-rule=\"evenodd\" fill-opacity=\"1\" /><path clip-path=\"url(#clip730)\" d=\"M208.963 875.691 Q205.352 875.691 203.523 879.255 Q201.718 882.797 201.718 889.927 Q201.718 897.033 203.523 900.598 Q205.352 904.139 208.963 904.139 Q212.597 904.139 214.403 900.598 Q216.232 897.033 216.232 889.927 Q216.232 882.797 214.403 879.255 Q212.597 875.691 208.963 875.691 M208.963 871.987 Q214.773 871.987 217.829 876.593 Q220.907 881.177 220.907 889.927 Q220.907 898.653 217.829 903.26 Q214.773 907.843 208.963 907.843 Q203.153 907.843 200.074 903.26 Q197.019 898.653 197.019 889.927 Q197.019 881.177 200.074 876.593 Q203.153 871.987 208.963 871.987 Z\" fill=\"#000000\" fill-rule=\"evenodd\" fill-opacity=\"1\" /><path clip-path=\"url(#clip730)\" d=\"M452.826 903.237 L469.146 903.237 L469.146 907.172 L447.201 907.172 L447.201 903.237 Q449.863 900.482 454.447 895.852 Q459.053 891.2 460.234 889.857 Q462.479 887.334 463.359 885.598 Q464.261 883.839 464.261 882.149 Q464.261 879.394 462.317 877.658 Q460.396 875.922 457.294 875.922 Q455.095 875.922 452.641 876.686 Q450.211 877.45 447.433 879.001 L447.433 874.279 Q450.257 873.144 452.711 872.566 Q455.164 871.987 457.201 871.987 Q462.572 871.987 465.766 874.672 Q468.96 877.357 468.96 881.848 Q468.96 883.978 468.15 885.899 Q467.363 887.797 465.257 890.39 Q464.678 891.061 461.576 894.278 Q458.474 897.473 452.826 903.237 Z\" fill=\"#000000\" fill-rule=\"evenodd\" fill-opacity=\"1\" /><path clip-path=\"url(#clip730)\" d=\"M478.96 901.292 L483.845 901.292 L483.845 907.172 L478.96 907.172 L478.96 901.292 Z\" fill=\"#000000\" fill-rule=\"evenodd\" fill-opacity=\"1\" /><path clip-path=\"url(#clip730)\" d=\"M494.076 872.612 L512.432 872.612 L512.432 876.547 L498.358 876.547 L498.358 885.019 Q499.377 884.672 500.396 884.51 Q501.414 884.325 502.433 884.325 Q508.22 884.325 511.599 887.496 Q514.979 890.667 514.979 896.084 Q514.979 901.663 511.507 904.764 Q508.034 907.843 501.715 907.843 Q499.539 907.843 497.271 907.473 Q495.025 907.102 492.618 906.362 L492.618 901.663 Q494.701 902.797 496.923 903.352 Q499.146 903.908 501.622 903.908 Q505.627 903.908 507.965 901.802 Q510.303 899.695 510.303 896.084 Q510.303 892.473 507.965 890.366 Q505.627 888.26 501.622 888.26 Q499.747 888.26 497.872 888.677 Q496.021 889.093 494.076 889.973 L494.076 872.612 Z\" fill=\"#000000\" fill-rule=\"evenodd\" fill-opacity=\"1\" /><path clip-path=\"url(#clip730)\" d=\"M742.997 872.612 L761.354 872.612 L761.354 876.547 L747.28 876.547 L747.28 885.019 Q748.298 884.672 749.317 884.51 Q750.335 884.325 751.354 884.325 Q757.141 884.325 760.52 887.496 Q763.9 890.667 763.9 896.084 Q763.9 901.663 760.428 904.764 Q756.955 907.843 750.636 907.843 Q748.46 907.843 746.192 907.473 Q743.946 907.102 741.539 906.362 L741.539 901.663 Q743.622 902.797 745.844 903.352 Q748.067 903.908 750.543 903.908 Q754.548 903.908 756.886 901.802 Q759.224 899.695 759.224 896.084 Q759.224 892.473 756.886 890.366 Q754.548 888.26 750.543 888.26 Q748.668 888.26 746.793 888.677 Q744.942 889.093 742.997 889.973 L742.997 872.612 Z\" fill=\"#000000\" fill-rule=\"evenodd\" fill-opacity=\"1\" /><path clip-path=\"url(#clip730)\" d=\"M773.113 901.292 L777.997 901.292 L777.997 907.172 L773.113 907.172 L773.113 901.292 Z\" fill=\"#000000\" fill-rule=\"evenodd\" fill-opacity=\"1\" /><path clip-path=\"url(#clip730)\" d=\"M798.182 875.691 Q794.571 875.691 792.742 879.255 Q790.937 882.797 790.937 889.927 Q790.937 897.033 792.742 900.598 Q794.571 904.139 798.182 904.139 Q801.816 904.139 803.622 900.598 Q805.451 897.033 805.451 889.927 Q805.451 882.797 803.622 879.255 Q801.816 875.691 798.182 875.691 M798.182 871.987 Q803.992 871.987 807.048 876.593 Q810.126 881.177 810.126 889.927 Q810.126 898.653 807.048 903.26 Q803.992 907.843 798.182 907.843 Q792.372 907.843 789.293 903.26 Q786.238 898.653 786.238 889.927 Q786.238 881.177 789.293 876.593 Q792.372 871.987 798.182 871.987 Z\" fill=\"#000000\" fill-rule=\"evenodd\" fill-opacity=\"1\" /><path clip-path=\"url(#clip730)\" d=\"M1036.89 872.612 L1059.12 872.612 L1059.12 874.603 L1046.57 907.172 L1041.69 907.172 L1053.49 876.547 L1036.89 876.547 L1036.89 872.612 Z\" fill=\"#000000\" fill-rule=\"evenodd\" fill-opacity=\"1\" /><path clip-path=\"url(#clip730)\" d=\"M1068.24 901.292 L1073.12 901.292 L1073.12 907.172 L1068.24 907.172 L1068.24 901.292 Z\" fill=\"#000000\" fill-rule=\"evenodd\" fill-opacity=\"1\" /><path clip-path=\"url(#clip730)\" d=\"M1083.35 872.612 L1101.71 872.612 L1101.71 876.547 L1087.64 876.547 L1087.64 885.019 Q1088.65 884.672 1089.67 884.51 Q1090.69 884.325 1091.71 884.325 Q1097.5 884.325 1100.88 887.496 Q1104.26 890.667 1104.26 896.084 Q1104.26 901.663 1100.78 904.764 Q1097.31 907.843 1090.99 907.843 Q1088.82 907.843 1086.55 907.473 Q1084.3 907.102 1081.89 906.362 L1081.89 901.663 Q1083.98 902.797 1086.2 903.352 Q1088.42 903.908 1090.9 903.908 Q1094.9 903.908 1097.24 901.802 Q1099.58 899.695 1099.58 896.084 Q1099.58 892.473 1097.24 890.366 Q1094.9 888.26 1090.9 888.26 Q1089.02 888.26 1087.15 888.677 Q1085.3 889.093 1083.35 889.973 L1083.35 872.612 Z\" fill=\"#000000\" fill-rule=\"evenodd\" fill-opacity=\"1\" /><path clip-path=\"url(#clip730)\" d=\"M1317.39 903.237 L1325.03 903.237 L1325.03 876.871 L1316.72 878.538 L1316.72 874.279 L1324.98 872.612 L1329.66 872.612 L1329.66 903.237 L1337.3 903.237 L1337.3 907.172 L1317.39 907.172 L1317.39 903.237 Z\" fill=\"#000000\" fill-rule=\"evenodd\" fill-opacity=\"1\" /><path clip-path=\"url(#clip730)\" d=\"M1356.74 875.691 Q1353.13 875.691 1351.3 879.255 Q1349.5 882.797 1349.5 889.927 Q1349.5 897.033 1351.3 900.598 Q1353.13 904.139 1356.74 904.139 Q1360.38 904.139 1362.18 900.598 Q1364.01 897.033 1364.01 889.927 Q1364.01 882.797 1362.18 879.255 Q1360.38 875.691 1356.74 875.691 M1356.74 871.987 Q1362.55 871.987 1365.61 876.593 Q1368.69 881.177 1368.69 889.927 Q1368.69 898.653 1365.61 903.26 Q1362.55 907.843 1356.74 907.843 Q1350.93 907.843 1347.85 903.26 Q1344.8 898.653 1344.8 889.927 Q1344.8 881.177 1347.85 876.593 Q1350.93 871.987 1356.74 871.987 Z\" fill=\"#000000\" fill-rule=\"evenodd\" fill-opacity=\"1\" /><path clip-path=\"url(#clip730)\" d=\"M1376.9 901.292 L1381.79 901.292 L1381.79 907.172 L1376.9 907.172 L1376.9 901.292 Z\" fill=\"#000000\" fill-rule=\"evenodd\" fill-opacity=\"1\" /><path clip-path=\"url(#clip730)\" d=\"M1401.97 875.691 Q1398.36 875.691 1396.53 879.255 Q1394.73 882.797 1394.73 889.927 Q1394.73 897.033 1396.53 900.598 Q1398.36 904.139 1401.97 904.139 Q1405.61 904.139 1407.41 900.598 Q1409.24 897.033 1409.24 889.927 Q1409.24 882.797 1407.41 879.255 Q1405.61 875.691 1401.97 875.691 M1401.97 871.987 Q1407.78 871.987 1410.84 876.593 Q1413.92 881.177 1413.92 889.927 Q1413.92 898.653 1410.84 903.26 Q1407.78 907.843 1401.97 907.843 Q1396.16 907.843 1393.08 903.26 Q1390.03 898.653 1390.03 889.927 Q1390.03 881.177 1393.08 876.593 Q1396.16 871.987 1401.97 871.987 Z\" fill=\"#000000\" fill-rule=\"evenodd\" fill-opacity=\"1\" /><path clip-path=\"url(#clip730)\" d=\"M1612.63 903.237 L1620.27 903.237 L1620.27 876.871 L1611.96 878.538 L1611.96 874.279 L1620.22 872.612 L1624.9 872.612 L1624.9 903.237 L1632.54 903.237 L1632.54 907.172 L1612.63 907.172 L1612.63 903.237 Z\" fill=\"#000000\" fill-rule=\"evenodd\" fill-opacity=\"1\" /><path clip-path=\"url(#clip730)\" d=\"M1646.01 903.237 L1662.33 903.237 L1662.33 907.172 L1640.38 907.172 L1640.38 903.237 Q1643.05 900.482 1647.63 895.852 Q1652.24 891.2 1653.42 889.857 Q1655.66 887.334 1656.54 885.598 Q1657.44 883.839 1657.44 882.149 Q1657.44 879.394 1655.5 877.658 Q1653.58 875.922 1650.48 875.922 Q1648.28 875.922 1645.82 876.686 Q1643.39 877.45 1640.62 879.001 L1640.62 874.279 Q1643.44 873.144 1645.89 872.566 Q1648.35 871.987 1650.38 871.987 Q1655.75 871.987 1658.95 874.672 Q1662.14 877.357 1662.14 881.848 Q1662.14 883.978 1661.33 885.899 Q1660.55 887.797 1658.44 890.39 Q1657.86 891.061 1654.76 894.278 Q1651.66 897.473 1646.01 903.237 Z\" fill=\"#000000\" fill-rule=\"evenodd\" fill-opacity=\"1\" /><path clip-path=\"url(#clip730)\" d=\"M1672.14 901.292 L1677.03 901.292 L1677.03 907.172 L1672.14 907.172 L1672.14 901.292 Z\" fill=\"#000000\" fill-rule=\"evenodd\" fill-opacity=\"1\" /><path clip-path=\"url(#clip730)\" d=\"M1687.26 872.612 L1705.62 872.612 L1705.62 876.547 L1691.54 876.547 L1691.54 885.019 Q1692.56 884.672 1693.58 884.51 Q1694.6 884.325 1695.62 884.325 Q1701.4 884.325 1704.78 887.496 Q1708.16 890.667 1708.16 896.084 Q1708.16 901.663 1704.69 904.764 Q1701.22 907.843 1694.9 907.843 Q1692.72 907.843 1690.45 907.473 Q1688.21 907.102 1685.8 906.362 L1685.8 901.663 Q1687.88 902.797 1690.11 903.352 Q1692.33 903.908 1694.81 903.908 Q1698.81 903.908 1701.15 901.802 Q1703.49 899.695 1703.49 896.084 Q1703.49 892.473 1701.15 890.366 Q1698.81 888.26 1694.81 888.26 Q1692.93 888.26 1691.06 888.677 Q1689.2 889.093 1687.26 889.973 L1687.26 872.612 Z\" fill=\"#000000\" fill-rule=\"evenodd\" fill-opacity=\"1\" /><path clip-path=\"url(#clip730)\" d=\"M654.651 939.039 L660.507 939.039 L660.507 988.564 L654.651 988.564 L654.651 939.039 Z\" fill=\"#000000\" fill-rule=\"evenodd\" fill-opacity=\"1\" /><path clip-path=\"url(#clip730)\" d=\"M686.575 957.022 Q681.864 957.022 679.127 960.714 Q676.39 964.374 676.39 970.772 Q676.39 977.169 679.095 980.861 Q681.832 984.522 686.575 984.522 Q691.254 984.522 693.991 980.83 Q696.728 977.137 696.728 970.772 Q696.728 964.438 693.991 960.746 Q691.254 957.022 686.575 957.022 M686.575 952.057 Q694.214 952.057 698.574 957.022 Q702.935 961.987 702.935 970.772 Q702.935 979.525 698.574 984.522 Q694.214 989.487 686.575 989.487 Q678.904 989.487 674.544 984.522 Q670.215 979.525 670.215 970.772 Q670.215 961.987 674.544 957.022 Q678.904 952.057 686.575 952.057 Z\" fill=\"#000000\" fill-rule=\"evenodd\" fill-opacity=\"1\" /><path clip-path=\"url(#clip730)\" d=\"M736.1 970.326 Q736.1 963.96 733.458 960.459 Q730.848 956.958 726.106 956.958 Q721.395 956.958 718.754 960.459 Q716.144 963.96 716.144 970.326 Q716.144 976.66 718.754 980.161 Q721.395 983.662 726.106 983.662 Q730.848 983.662 733.458 980.161 Q736.1 976.66 736.1 970.326 M741.957 984.14 Q741.957 993.243 737.914 997.667 Q733.872 1002.12 725.533 1002.12 Q722.446 1002.12 719.708 1001.65 Q716.971 1001.2 714.393 1000.24 L714.393 994.548 Q716.971 995.948 719.486 996.616 Q722 997.285 724.61 997.285 Q730.371 997.285 733.235 994.261 Q736.1 991.269 736.1 985.19 L736.1 982.294 Q734.286 985.445 731.453 987.004 Q728.62 988.564 724.674 988.564 Q718.117 988.564 714.107 983.567 Q710.096 978.57 710.096 970.326 Q710.096 962.051 714.107 957.054 Q718.117 952.057 724.674 952.057 Q728.62 952.057 731.453 953.616 Q734.286 955.176 736.1 958.327 L736.1 952.916 L741.957 952.916 L741.957 984.14 Z\" fill=\"#000000\" fill-rule=\"evenodd\" fill-opacity=\"1\" /><path clip-path=\"url(#clip730)\" d=\"M760.385 983.153 L782.824 983.153 L782.824 988.564 L752.651 988.564 L752.651 983.153 Q756.311 979.365 762.613 973 Q768.947 966.602 770.57 964.756 Q773.658 961.287 774.867 958.9 Q776.109 956.481 776.109 954.157 Q776.109 950.37 773.435 947.982 Q770.793 945.595 766.528 945.595 Q763.504 945.595 760.131 946.646 Q756.789 947.696 752.969 949.829 L752.969 943.335 Q756.852 941.776 760.226 940.98 Q763.6 940.184 766.401 940.184 Q773.785 940.184 778.177 943.877 Q782.57 947.569 782.57 953.743 Q782.57 956.672 781.456 959.313 Q780.374 961.923 777.477 965.488 Q776.681 966.411 772.416 970.835 Q768.151 975.228 760.385 983.153 Z\" fill=\"#000000\" fill-rule=\"evenodd\" fill-opacity=\"1\" /><path clip-path=\"url(#clip730)\" d=\"M809.56 939.102 Q805.295 946.423 803.226 953.584 Q801.158 960.746 801.158 968.098 Q801.158 975.45 803.226 982.676 Q805.327 989.869 809.56 997.158 L804.468 997.158 Q799.693 989.678 797.306 982.453 Q794.951 975.228 794.951 968.098 Q794.951 961 797.306 953.807 Q799.662 946.614 804.468 939.102 L809.56 939.102 Z\" fill=\"#000000\" fill-rule=\"evenodd\" fill-opacity=\"1\" /><path clip-path=\"url(#clip730)\" d=\"M834.737 957.022 Q830.026 957.022 827.289 960.714 Q824.552 964.374 824.552 970.772 Q824.552 977.169 827.257 980.861 Q829.994 984.522 834.737 984.522 Q839.415 984.522 842.153 980.83 Q844.89 977.137 844.89 970.772 Q844.89 964.438 842.153 960.746 Q839.415 957.022 834.737 957.022 M834.737 952.057 Q842.376 952.057 846.736 957.022 Q851.097 961.987 851.097 970.772 Q851.097 979.525 846.736 984.522 Q842.376 989.487 834.737 989.487 Q827.066 989.487 822.705 984.522 Q818.377 979.525 818.377 970.772 Q818.377 961.987 822.705 957.022 Q827.066 952.057 834.737 952.057 Z\" fill=\"#000000\" fill-rule=\"evenodd\" fill-opacity=\"1\" /><path clip-path=\"url(#clip730)\" d=\"M886.394 970.772 Q886.394 964.311 883.721 960.65 Q881.079 956.958 876.432 956.958 Q871.785 956.958 869.112 960.65 Q866.47 964.311 866.47 970.772 Q866.47 977.233 869.112 980.925 Q871.785 984.585 876.432 984.585 Q881.079 984.585 883.721 980.925 Q886.394 977.233 886.394 970.772 M866.47 958.327 Q868.316 955.144 871.117 953.616 Q873.949 952.057 877.864 952.057 Q884.357 952.057 888.4 957.213 Q892.474 962.369 892.474 970.772 Q892.474 979.174 888.4 984.331 Q884.357 989.487 877.864 989.487 Q873.949 989.487 871.117 987.959 Q868.316 986.4 866.47 983.217 L866.47 988.564 L860.581 988.564 L860.581 939.039 L866.47 939.039 L866.47 958.327 Z\" fill=\"#000000\" fill-rule=\"evenodd\" fill-opacity=\"1\" /><path clip-path=\"url(#clip730)\" d=\"M924.907 953.966 L924.907 959.504 Q922.424 958.231 919.751 957.595 Q917.077 956.958 914.213 956.958 Q909.852 956.958 907.656 958.295 Q905.492 959.632 905.492 962.305 Q905.492 964.342 907.051 965.52 Q908.611 966.666 913.321 967.716 L915.327 968.162 Q921.565 969.499 924.175 971.949 Q926.817 974.368 926.817 978.729 Q926.817 983.694 922.87 986.59 Q918.955 989.487 912.08 989.487 Q909.215 989.487 906.096 988.914 Q903.009 988.373 899.571 987.259 L899.571 981.211 Q902.818 982.898 905.969 983.758 Q909.12 984.585 912.207 984.585 Q916.345 984.585 918.573 983.185 Q920.801 981.753 920.801 979.174 Q920.801 976.787 919.178 975.514 Q917.586 974.241 912.144 973.063 L910.107 972.586 Q904.664 971.44 902.245 969.085 Q899.826 966.698 899.826 962.56 Q899.826 957.531 903.391 954.794 Q906.956 952.057 913.512 952.057 Q916.759 952.057 919.623 952.534 Q922.488 953.011 924.907 953.966 Z\" fill=\"#000000\" fill-rule=\"evenodd\" fill-opacity=\"1\" /><path clip-path=\"url(#clip730)\" d=\"M966.634 969.276 L966.634 972.14 L939.707 972.14 Q940.089 978.188 943.336 981.371 Q946.614 984.522 952.439 984.522 Q955.812 984.522 958.963 983.694 Q962.146 982.867 965.265 981.211 L965.265 986.75 Q962.114 988.086 958.804 988.787 Q955.494 989.487 952.088 989.487 Q943.558 989.487 938.561 984.522 Q933.596 979.556 933.596 971.09 Q933.596 962.337 938.307 957.213 Q943.049 952.057 951.07 952.057 Q958.263 952.057 962.433 956.703 Q966.634 961.319 966.634 969.276 M960.778 967.557 Q960.714 962.751 958.072 959.886 Q955.462 957.022 951.134 957.022 Q946.232 957.022 943.272 959.791 Q940.344 962.56 939.898 967.589 L960.778 967.557 Z\" fill=\"#000000\" fill-rule=\"evenodd\" fill-opacity=\"1\" /><path clip-path=\"url(#clip730)\" d=\"M996.903 958.39 Q995.916 957.817 994.739 957.563 Q993.593 957.276 992.192 957.276 Q987.227 957.276 984.554 960.523 Q981.912 963.738 981.912 969.785 L981.912 988.564 L976.024 988.564 L976.024 952.916 L981.912 952.916 L981.912 958.454 Q983.758 955.208 986.718 953.648 Q989.678 952.057 993.911 952.057 Q994.516 952.057 995.248 952.152 Q995.98 952.216 996.871 952.375 L996.903 958.39 Z\" fill=\"#000000\" fill-rule=\"evenodd\" fill-opacity=\"1\" /><path clip-path=\"url(#clip730)\" d=\"M998.845 952.916 L1005.05 952.916 L1016.19 982.835 L1027.33 952.916 L1033.54 952.916 L1020.17 988.564 L1012.21 988.564 L998.845 952.916 Z\" fill=\"#000000\" fill-rule=\"evenodd\" fill-opacity=\"1\" /><path clip-path=\"url(#clip730)\" d=\"M1072.11 969.276 L1072.11 972.14 L1045.19 972.14 Q1045.57 978.188 1048.82 981.371 Q1052.09 984.522 1057.92 984.522 Q1061.29 984.522 1064.44 983.694 Q1067.63 982.867 1070.75 981.211 L1070.75 986.75 Q1067.59 988.086 1064.28 988.787 Q1060.97 989.487 1057.57 989.487 Q1049.04 989.487 1044.04 984.522 Q1039.08 979.556 1039.08 971.09 Q1039.08 962.337 1043.79 957.213 Q1048.53 952.057 1056.55 952.057 Q1063.74 952.057 1067.91 956.703 Q1072.11 961.319 1072.11 969.276 M1066.26 967.557 Q1066.19 962.751 1063.55 959.886 Q1060.94 957.022 1056.61 957.022 Q1051.71 957.022 1048.75 959.791 Q1045.82 962.56 1045.38 967.589 L1066.26 967.557 Z\" fill=\"#000000\" fill-rule=\"evenodd\" fill-opacity=\"1\" /><path clip-path=\"url(#clip730)\" d=\"M1105.18 958.327 L1105.18 939.039 L1111.04 939.039 L1111.04 988.564 L1105.18 988.564 L1105.18 983.217 Q1103.34 986.4 1100.5 987.959 Q1097.7 989.487 1093.76 989.487 Q1087.3 989.487 1083.22 984.331 Q1079.18 979.174 1079.18 970.772 Q1079.18 962.369 1083.22 957.213 Q1087.3 952.057 1093.76 952.057 Q1097.7 952.057 1100.5 953.616 Q1103.34 955.144 1105.18 958.327 M1085.23 970.772 Q1085.23 977.233 1087.87 980.925 Q1090.54 984.585 1095.19 984.585 Q1099.84 984.585 1102.51 980.925 Q1105.18 977.233 1105.18 970.772 Q1105.18 964.311 1102.51 960.65 Q1099.84 956.958 1095.19 956.958 Q1090.54 956.958 1087.87 960.65 Q1085.23 964.311 1085.23 970.772 Z\" fill=\"#000000\" fill-rule=\"evenodd\" fill-opacity=\"1\" /><path clip-path=\"url(#clip730)\" d=\"M1161.87 939.039 L1161.87 943.908 L1156.27 943.908 Q1153.12 943.908 1151.88 945.182 Q1150.67 946.455 1150.67 949.765 L1150.67 952.916 L1160.31 952.916 L1160.31 957.467 L1150.67 957.467 L1150.67 988.564 L1144.78 988.564 L1144.78 957.467 L1139.18 957.467 L1139.18 952.916 L1144.78 952.916 L1144.78 950.433 Q1144.78 944.481 1147.55 941.776 Q1150.32 939.039 1156.33 939.039 L1161.87 939.039 Z\" fill=\"#000000\" fill-rule=\"evenodd\" fill-opacity=\"1\" /><path clip-path=\"url(#clip730)\" d=\"M1187.43 958.39 Q1186.44 957.817 1185.26 957.563 Q1184.12 957.276 1182.72 957.276 Q1177.75 957.276 1175.08 960.523 Q1172.44 963.738 1172.44 969.785 L1172.44 988.564 L1166.55 988.564 L1166.55 952.916 L1172.44 952.916 L1172.44 958.454 Q1174.28 955.208 1177.24 953.648 Q1180.2 952.057 1184.44 952.057 Q1185.04 952.057 1185.77 952.152 Q1186.51 952.216 1187.4 952.375 L1187.43 958.39 Z\" fill=\"#000000\" fill-rule=\"evenodd\" fill-opacity=\"1\" /><path clip-path=\"url(#clip730)\" d=\"M1222.63 969.276 L1222.63 972.14 L1195.7 972.14 Q1196.09 978.188 1199.33 981.371 Q1202.61 984.522 1208.44 984.522 Q1211.81 984.522 1214.96 983.694 Q1218.14 982.867 1221.26 981.211 L1221.26 986.75 Q1218.11 988.086 1214.8 988.787 Q1211.49 989.487 1208.09 989.487 Q1199.56 989.487 1194.56 984.522 Q1189.59 979.556 1189.59 971.09 Q1189.59 962.337 1194.3 957.213 Q1199.05 952.057 1207.07 952.057 Q1214.26 952.057 1218.43 956.703 Q1222.63 961.319 1222.63 969.276 M1216.77 967.557 Q1216.71 962.751 1214.07 959.886 Q1211.46 957.022 1207.13 957.022 Q1202.23 957.022 1199.27 959.791 Q1196.34 962.56 1195.9 967.589 L1216.77 967.557 Z\" fill=\"#000000\" fill-rule=\"evenodd\" fill-opacity=\"1\" /><path clip-path=\"url(#clip730)\" d=\"M1235.74 970.772 Q1235.74 977.233 1238.39 980.925 Q1241.06 984.585 1245.71 984.585 Q1250.35 984.585 1253.03 980.925 Q1255.7 977.233 1255.7 970.772 Q1255.7 964.311 1253.03 960.65 Q1250.35 956.958 1245.71 956.958 Q1241.06 956.958 1238.39 960.65 Q1235.74 964.311 1235.74 970.772 M1255.7 983.217 Q1253.85 986.4 1251.02 987.959 Q1248.22 989.487 1244.27 989.487 Q1237.81 989.487 1233.74 984.331 Q1229.7 979.174 1229.7 970.772 Q1229.7 962.369 1233.74 957.213 Q1237.81 952.057 1244.27 952.057 Q1248.22 952.057 1251.02 953.616 Q1253.85 955.144 1255.7 958.327 L1255.7 952.916 L1261.56 952.916 L1261.56 1002.12 L1255.7 1002.12 L1255.7 983.217 Z\" fill=\"#000000\" fill-rule=\"evenodd\" fill-opacity=\"1\" /><path clip-path=\"url(#clip730)\" d=\"M1273.02 974.496 L1273.02 952.916 L1278.87 952.916 L1278.87 974.273 Q1278.87 979.334 1280.85 981.88 Q1282.82 984.394 1286.77 984.394 Q1291.51 984.394 1294.25 981.371 Q1297.01 978.347 1297.01 973.127 L1297.01 952.916 L1302.87 952.916 L1302.87 988.564 L1297.01 988.564 L1297.01 983.089 Q1294.88 986.336 1292.05 987.927 Q1289.25 989.487 1285.52 989.487 Q1279.38 989.487 1276.2 985.667 Q1273.02 981.848 1273.02 974.496 M1287.75 952.057 L1287.75 952.057 Z\" fill=\"#000000\" fill-rule=\"evenodd\" fill-opacity=\"1\" /><path clip-path=\"url(#clip730)\" d=\"M1345.43 969.276 L1345.43 972.14 L1318.5 972.14 Q1318.88 978.188 1322.13 981.371 Q1325.41 984.522 1331.23 984.522 Q1334.6 984.522 1337.75 983.694 Q1340.94 982.867 1344.06 981.211 L1344.06 986.75 Q1340.91 988.086 1337.6 988.787 Q1334.29 989.487 1330.88 989.487 Q1322.35 989.487 1317.35 984.522 Q1312.39 979.556 1312.39 971.09 Q1312.39 962.337 1317.1 957.213 Q1321.84 952.057 1329.86 952.057 Q1337.05 952.057 1341.22 956.703 Q1345.43 961.319 1345.43 969.276 M1339.57 967.557 Q1339.51 962.751 1336.86 959.886 Q1334.25 957.022 1329.93 957.022 Q1325.02 957.022 1322.06 959.791 Q1319.14 962.56 1318.69 967.589 L1339.57 967.557 Z\" fill=\"#000000\" fill-rule=\"evenodd\" fill-opacity=\"1\" /><path clip-path=\"url(#clip730)\" d=\"M1384.67 967.048 L1384.67 988.564 L1378.81 988.564 L1378.81 967.239 Q1378.81 962.178 1376.84 959.664 Q1374.87 957.149 1370.92 957.149 Q1366.18 957.149 1363.44 960.173 Q1360.7 963.197 1360.7 968.416 L1360.7 988.564 L1354.81 988.564 L1354.81 952.916 L1360.7 952.916 L1360.7 958.454 Q1362.8 955.239 1365.64 953.648 Q1368.5 952.057 1372.23 952.057 Q1378.37 952.057 1381.52 955.876 Q1384.67 959.664 1384.67 967.048 Z\" fill=\"#000000\" fill-rule=\"evenodd\" fill-opacity=\"1\" /><path clip-path=\"url(#clip730)\" d=\"M1422 954.285 L1422 959.759 Q1419.52 958.39 1417.01 957.722 Q1414.53 957.022 1411.98 957.022 Q1406.28 957.022 1403.13 960.65 Q1399.98 964.247 1399.98 970.772 Q1399.98 977.297 1403.13 980.925 Q1406.28 984.522 1411.98 984.522 Q1414.53 984.522 1417.01 983.853 Q1419.52 983.153 1422 981.784 L1422 987.195 Q1419.55 988.341 1416.91 988.914 Q1414.3 989.487 1411.34 989.487 Q1403.29 989.487 1398.55 984.426 Q1393.8 979.365 1393.8 970.772 Q1393.8 962.051 1398.58 957.054 Q1403.39 952.057 1411.72 952.057 Q1414.43 952.057 1417.01 952.629 Q1419.59 953.171 1422 954.285 Z\" fill=\"#000000\" fill-rule=\"evenodd\" fill-opacity=\"1\" /><path clip-path=\"url(#clip730)\" d=\"M1447.02 991.874 Q1444.54 998.24 1442.18 1000.18 Q1439.83 1002.12 1435.88 1002.12 L1431.2 1002.12 L1431.2 997.221 L1434.64 997.221 Q1437.06 997.221 1438.4 996.075 Q1439.73 994.93 1441.36 990.665 L1442.41 987.991 L1427.99 952.916 L1434.2 952.916 L1445.34 980.798 L1456.48 952.916 L1462.68 952.916 L1447.02 991.874 Z\" fill=\"#000000\" fill-rule=\"evenodd\" fill-opacity=\"1\" /><path clip-path=\"url(#clip730)\" d=\"M1469.84 939.102 L1474.94 939.102 Q1479.71 946.614 1482.07 953.807 Q1484.45 961 1484.45 968.098 Q1484.45 975.228 1482.07 982.453 Q1479.71 989.678 1474.94 997.158 L1469.84 997.158 Q1474.08 989.869 1476.15 982.676 Q1478.25 975.45 1478.25 968.098 Q1478.25 960.746 1476.15 953.584 Q1474.08 946.423 1469.84 939.102 Z\" fill=\"#000000\" fill-rule=\"evenodd\" fill-opacity=\"1\" /><polyline clip-path=\"url(#clip732)\" style=\"stroke:#000000; stroke-linecap:butt; stroke-linejoin:round; stroke-width:2; stroke-opacity:0.1; fill:none\" points=\"\n",
       "  186.347,849.7 1952.76,849.7 \n",
       "  \"/>\n",
       "<polyline clip-path=\"url(#clip732)\" style=\"stroke:#000000; stroke-linecap:butt; stroke-linejoin:round; stroke-width:2; stroke-opacity:0.1; fill:none\" points=\"\n",
       "  186.347,632.338 1952.76,632.338 \n",
       "  \"/>\n",
       "<polyline clip-path=\"url(#clip732)\" style=\"stroke:#000000; stroke-linecap:butt; stroke-linejoin:round; stroke-width:2; stroke-opacity:0.1; fill:none\" points=\"\n",
       "  186.347,414.977 1952.76,414.977 \n",
       "  \"/>\n",
       "<polyline clip-path=\"url(#clip732)\" style=\"stroke:#000000; stroke-linecap:butt; stroke-linejoin:round; stroke-width:2; stroke-opacity:0.1; fill:none\" points=\"\n",
       "  186.347,197.615 1952.76,197.615 \n",
       "  \"/>\n",
       "<polyline clip-path=\"url(#clip730)\" style=\"stroke:#000000; stroke-linecap:butt; stroke-linejoin:round; stroke-width:4; stroke-opacity:1; fill:none\" points=\"\n",
       "  186.347,849.7 186.347,108.352 \n",
       "  \"/>\n",
       "<polyline clip-path=\"url(#clip730)\" style=\"stroke:#000000; stroke-linecap:butt; stroke-linejoin:round; stroke-width:4; stroke-opacity:1; fill:none\" points=\"\n",
       "  186.347,849.7 205.245,849.7 \n",
       "  \"/>\n",
       "<polyline clip-path=\"url(#clip730)\" style=\"stroke:#000000; stroke-linecap:butt; stroke-linejoin:round; stroke-width:4; stroke-opacity:1; fill:none\" points=\"\n",
       "  186.347,632.338 205.245,632.338 \n",
       "  \"/>\n",
       "<polyline clip-path=\"url(#clip730)\" style=\"stroke:#000000; stroke-linecap:butt; stroke-linejoin:round; stroke-width:4; stroke-opacity:1; fill:none\" points=\"\n",
       "  186.347,414.977 205.245,414.977 \n",
       "  \"/>\n",
       "<polyline clip-path=\"url(#clip730)\" style=\"stroke:#000000; stroke-linecap:butt; stroke-linejoin:round; stroke-width:4; stroke-opacity:1; fill:none\" points=\"\n",
       "  186.347,197.615 205.245,197.615 \n",
       "  \"/>\n",
       "<path clip-path=\"url(#clip730)\" d=\"M144.403 835.499 Q140.792 835.499 138.963 839.063 Q137.158 842.605 137.158 849.735 Q137.158 856.841 138.963 860.406 Q140.792 863.947 144.403 863.947 Q148.037 863.947 149.843 860.406 Q151.672 856.841 151.672 849.735 Q151.672 842.605 149.843 839.063 Q148.037 835.499 144.403 835.499 M144.403 831.795 Q150.213 831.795 153.269 836.401 Q156.347 840.985 156.347 849.735 Q156.347 858.461 153.269 863.068 Q150.213 867.651 144.403 867.651 Q138.593 867.651 135.514 863.068 Q132.459 858.461 132.459 849.735 Q132.459 840.985 135.514 836.401 Q138.593 831.795 144.403 831.795 Z\" fill=\"#000000\" fill-rule=\"evenodd\" fill-opacity=\"1\" /><path clip-path=\"url(#clip730)\" d=\"M135.445 615.058 L153.801 615.058 L153.801 618.993 L139.727 618.993 L139.727 627.466 Q140.746 627.118 141.764 626.956 Q142.783 626.771 143.801 626.771 Q149.588 626.771 152.968 629.942 Q156.347 633.114 156.347 638.53 Q156.347 644.109 152.875 647.211 Q149.403 650.29 143.084 650.29 Q140.908 650.29 138.639 649.919 Q136.394 649.549 133.986 648.808 L133.986 644.109 Q136.07 645.243 138.292 645.799 Q140.514 646.354 142.991 646.354 Q146.996 646.354 149.334 644.248 Q151.672 642.141 151.672 638.53 Q151.672 634.919 149.334 632.813 Q146.996 630.706 142.991 630.706 Q141.116 630.706 139.241 631.123 Q137.389 631.54 135.445 632.419 L135.445 615.058 Z\" fill=\"#000000\" fill-rule=\"evenodd\" fill-opacity=\"1\" /><path clip-path=\"url(#clip730)\" d=\"M105.051 428.322 L112.69 428.322 L112.69 401.956 L104.38 403.623 L104.38 399.363 L112.644 397.697 L117.32 397.697 L117.32 428.322 L124.959 428.322 L124.959 432.257 L105.051 432.257 L105.051 428.322 Z\" fill=\"#000000\" fill-rule=\"evenodd\" fill-opacity=\"1\" /><path clip-path=\"url(#clip730)\" d=\"M144.403 400.775 Q140.792 400.775 138.963 404.34 Q137.158 407.882 137.158 415.011 Q137.158 422.118 138.963 425.683 Q140.792 429.224 144.403 429.224 Q148.037 429.224 149.843 425.683 Q151.672 422.118 151.672 415.011 Q151.672 407.882 149.843 404.34 Q148.037 400.775 144.403 400.775 M144.403 397.072 Q150.213 397.072 153.269 401.678 Q156.347 406.262 156.347 415.011 Q156.347 423.738 153.269 428.345 Q150.213 432.928 144.403 432.928 Q138.593 432.928 135.514 428.345 Q132.459 423.738 132.459 415.011 Q132.459 406.262 135.514 401.678 Q138.593 397.072 144.403 397.072 Z\" fill=\"#000000\" fill-rule=\"evenodd\" fill-opacity=\"1\" /><path clip-path=\"url(#clip730)\" d=\"M106.047 210.96 L113.686 210.96 L113.686 184.594 L105.376 186.261 L105.376 182.002 L113.639 180.335 L118.315 180.335 L118.315 210.96 L125.954 210.96 L125.954 214.895 L106.047 214.895 L106.047 210.96 Z\" fill=\"#000000\" fill-rule=\"evenodd\" fill-opacity=\"1\" /><path clip-path=\"url(#clip730)\" d=\"M135.445 180.335 L153.801 180.335 L153.801 184.27 L139.727 184.27 L139.727 192.743 Q140.746 192.395 141.764 192.233 Q142.783 192.048 143.801 192.048 Q149.588 192.048 152.968 195.219 Q156.347 198.391 156.347 203.807 Q156.347 209.386 152.875 212.488 Q149.403 215.567 143.084 215.567 Q140.908 215.567 138.639 215.196 Q136.394 214.826 133.986 214.085 L133.986 209.386 Q136.07 210.52 138.292 211.076 Q140.514 211.631 142.991 211.631 Q146.996 211.631 149.334 209.525 Q151.672 207.418 151.672 203.807 Q151.672 200.196 149.334 198.09 Q146.996 195.983 142.991 195.983 Q141.116 195.983 139.241 196.4 Q137.389 196.817 135.445 197.696 L135.445 180.335 Z\" fill=\"#000000\" fill-rule=\"evenodd\" fill-opacity=\"1\" /><path clip-path=\"url(#clip730)\" d=\"M10.599 749.505 L10.599 743.648 L60.1242 743.648 L60.1242 749.505 L10.599 749.505 Z\" fill=\"#000000\" fill-rule=\"evenodd\" fill-opacity=\"1\" /><path clip-path=\"url(#clip730)\" d=\"M28.5821 717.581 Q28.5821 722.291 32.2742 725.029 Q35.9345 727.766 42.332 727.766 Q48.7295 727.766 52.4217 725.061 Q56.0819 722.323 56.0819 717.581 Q56.0819 712.902 52.3898 710.165 Q48.6977 707.428 42.332 707.428 Q35.9981 707.428 32.306 710.165 Q28.5821 712.902 28.5821 717.581 M23.6168 717.581 Q23.6168 709.942 28.5821 705.581 Q33.5473 701.221 42.332 701.221 Q51.0849 701.221 56.0819 705.581 Q61.0472 709.942 61.0472 717.581 Q61.0472 725.252 56.0819 729.612 Q51.0849 733.941 42.332 733.941 Q33.5473 733.941 28.5821 729.612 Q23.6168 725.252 23.6168 717.581 Z\" fill=\"#000000\" fill-rule=\"evenodd\" fill-opacity=\"1\" /><path clip-path=\"url(#clip730)\" d=\"M41.8864 668.056 Q35.5207 668.056 32.0196 670.697 Q28.5184 673.307 28.5184 678.05 Q28.5184 682.76 32.0196 685.402 Q35.5207 688.012 41.8864 688.012 Q48.2203 688.012 51.7214 685.402 Q55.2226 682.76 55.2226 678.05 Q55.2226 673.307 51.7214 670.697 Q48.2203 668.056 41.8864 668.056 M55.7 662.199 Q64.803 662.199 69.2271 666.241 Q73.6831 670.284 73.6831 678.623 Q73.6831 681.71 73.2057 684.447 Q72.7601 687.185 71.8052 689.763 L66.1079 689.763 Q67.5084 687.185 68.1768 684.67 Q68.8452 682.156 68.8452 679.546 Q68.8452 673.785 65.8215 670.92 Q62.8296 668.056 56.7503 668.056 L53.8539 668.056 Q57.005 669.87 58.5646 672.703 Q60.1242 675.535 60.1242 679.482 Q60.1242 686.039 55.1271 690.049 Q50.13 694.06 41.8864 694.06 Q33.611 694.06 28.6139 690.049 Q23.6168 686.039 23.6168 679.482 Q23.6168 675.535 25.1764 672.703 Q26.736 669.87 29.8871 668.056 L24.4762 668.056 L24.4762 662.199 L55.7 662.199 Z\" fill=\"#000000\" fill-rule=\"evenodd\" fill-opacity=\"1\" /><path clip-path=\"url(#clip730)\" d=\"M54.7133 643.77 L54.7133 621.331 L60.1242 621.331 L60.1242 651.505 L54.7133 651.505 Q50.9257 647.845 44.56 641.542 Q38.1625 635.209 36.3164 633.585 Q32.8471 630.498 30.46 629.288 Q28.041 628.047 25.7175 628.047 Q21.9299 628.047 19.5428 630.721 Q17.1556 633.363 17.1556 637.628 Q17.1556 640.651 18.206 644.025 Q19.2563 647.367 21.3888 651.187 L14.8958 651.187 Q13.3362 647.303 12.5405 643.93 Q11.7448 640.556 11.7448 637.755 Q11.7448 630.371 15.4369 625.978 Q19.129 621.586 25.3037 621.586 Q28.232 621.586 30.8737 622.7 Q33.4837 623.782 37.0485 626.679 Q37.9715 627.474 42.3957 631.739 Q46.788 636.004 54.7133 643.77 Z\" fill=\"#000000\" fill-rule=\"evenodd\" fill-opacity=\"1\" /><path clip-path=\"url(#clip730)\" d=\"M10.6626 594.595 Q17.9832 598.86 25.1446 600.929 Q32.306 602.998 39.6584 602.998 Q47.0108 602.998 54.2359 600.929 Q61.4291 598.829 68.7179 594.595 L68.7179 599.688 Q61.2382 604.462 54.0131 606.849 Q46.788 609.205 39.6584 609.205 Q32.5606 609.205 25.3674 606.849 Q18.1742 604.494 10.6626 599.688 L10.6626 594.595 Z\" fill=\"#000000\" fill-rule=\"evenodd\" fill-opacity=\"1\" /><path clip-path=\"url(#clip730)\" d=\"M31.4466 556.051 L31.4466 565.313 L42.0774 567.987 L42.0774 558.661 L31.4466 556.051 M13.3362 560.825 L26.5451 564.135 L26.5451 554.842 L13.3362 551.5 L13.3362 546.407 L26.5451 549.685 L26.5451 539.755 L31.4466 539.755 L31.4466 550.927 L42.0774 553.537 L42.0774 543.415 L46.9471 543.415 L46.9471 554.778 L60.1242 558.088 L60.1242 563.181 L46.9471 559.902 L46.9471 569.228 L60.1242 572.506 L60.1242 577.631 L46.9471 574.321 L46.9471 584.347 L42.0774 584.347 L42.0774 573.143 L31.4466 570.469 L31.4466 580.718 L26.5451 580.718 L26.5451 569.228 L13.3362 565.982 L13.3362 560.825 Z\" fill=\"#000000\" fill-rule=\"evenodd\" fill-opacity=\"1\" /><path clip-path=\"url(#clip730)\" d=\"M28.5821 494.081 Q28.5821 498.792 32.2742 501.529 Q35.9345 504.266 42.332 504.266 Q48.7295 504.266 52.4217 501.561 Q56.0819 498.823 56.0819 494.081 Q56.0819 489.402 52.3898 486.665 Q48.6977 483.928 42.332 483.928 Q35.9981 483.928 32.306 486.665 Q28.5821 489.402 28.5821 494.081 M23.6168 494.081 Q23.6168 486.442 28.5821 482.082 Q33.5473 477.721 42.332 477.721 Q51.0849 477.721 56.0819 482.082 Q61.0472 486.442 61.0472 494.081 Q61.0472 501.752 56.0819 506.112 Q51.0849 510.441 42.332 510.441 Q33.5473 510.441 28.5821 506.112 Q23.6168 501.752 23.6168 494.081 Z\" fill=\"#000000\" fill-rule=\"evenodd\" fill-opacity=\"1\" /><path clip-path=\"url(#clip730)\" d=\"M10.599 449.967 L15.4687 449.967 L15.4687 455.568 Q15.4687 458.719 16.7419 459.961 Q18.015 461.17 21.3252 461.17 L24.4762 461.17 L24.4762 451.526 L29.0277 451.526 L29.0277 461.17 L60.1242 461.17 L60.1242 467.058 L29.0277 467.058 L29.0277 472.66 L24.4762 472.66 L24.4762 467.058 L21.9936 467.058 Q16.0416 467.058 13.3362 464.289 Q10.599 461.52 10.599 455.505 L10.599 449.967 Z\" fill=\"#000000\" fill-rule=\"evenodd\" fill-opacity=\"1\" /><path clip-path=\"url(#clip730)\" d=\"M10.599 424.567 L10.599 418.679 L39.8494 418.679 L24.4762 401.205 L24.4762 393.726 L41.1544 412.632 L60.1242 392.93 L60.1242 400.569 L42.7139 418.679 L60.1242 418.679 L60.1242 424.567 L10.599 424.567 Z\" fill=\"#000000\" fill-rule=\"evenodd\" fill-opacity=\"1\" /><path clip-path=\"url(#clip730)\" d=\"M31.3193 358.841 Q27.3726 356.645 25.4947 353.59 Q23.6168 350.534 23.6168 346.396 Q23.6168 340.826 27.5317 337.803 Q31.4148 334.779 38.6081 334.779 L60.1242 334.779 L60.1242 340.667 L38.799 340.667 Q33.6746 340.667 31.192 342.482 Q28.7094 344.296 28.7094 348.02 Q28.7094 352.571 31.7331 355.213 Q34.7568 357.855 39.9767 357.855 L60.1242 357.855 L60.1242 363.743 L38.799 363.743 Q33.6428 363.743 31.192 365.557 Q28.7094 367.371 28.7094 371.159 Q28.7094 375.647 31.7649 378.289 Q34.7886 380.93 39.9767 380.93 L60.1242 380.93 L60.1242 386.819 L24.4762 386.819 L24.4762 380.93 L30.0144 380.93 Q26.736 378.925 25.1764 376.124 Q23.6168 373.323 23.6168 369.472 Q23.6168 365.589 25.5902 362.884 Q27.5636 360.146 31.3193 358.841 Z\" fill=\"#000000\" fill-rule=\"evenodd\" fill-opacity=\"1\" /><path clip-path=\"url(#clip730)\" d=\"M40.8361 292.606 L43.7006 292.606 L43.7006 319.533 Q49.7481 319.151 52.9309 315.905 Q56.0819 312.626 56.0819 306.802 Q56.0819 303.428 55.2544 300.277 Q54.4269 297.094 52.7718 293.975 L58.3099 293.975 Q59.6467 297.126 60.347 300.436 Q61.0472 303.746 61.0472 307.152 Q61.0472 315.682 56.0819 320.679 Q51.1167 325.644 42.6503 325.644 Q33.8974 325.644 28.7731 320.934 Q23.6168 316.191 23.6168 308.17 Q23.6168 300.977 28.2638 296.808 Q32.8789 292.606 40.8361 292.606 M39.1173 298.463 Q34.3112 298.526 31.4466 301.168 Q28.5821 303.778 28.5821 308.107 Q28.5821 313.008 31.3512 315.968 Q34.1202 318.897 39.1492 319.342 L39.1173 298.463 Z\" fill=\"#000000\" fill-rule=\"evenodd\" fill-opacity=\"1\" /><path clip-path=\"url(#clip730)\" d=\"M29.9507 262.337 Q29.3778 263.324 29.1232 264.502 Q28.8367 265.647 28.8367 267.048 Q28.8367 272.013 32.0832 274.687 Q35.2979 277.329 41.3453 277.329 L60.1242 277.329 L60.1242 283.217 L24.4762 283.217 L24.4762 277.329 L30.0144 277.329 Q26.7679 275.483 25.2083 272.522 Q23.6168 269.562 23.6168 265.329 Q23.6168 264.724 23.7123 263.992 Q23.776 263.26 23.9351 262.369 L29.9507 262.337 Z\" fill=\"#000000\" fill-rule=\"evenodd\" fill-opacity=\"1\" /><path clip-path=\"url(#clip730)\" d=\"M25.5265 233.469 L31.0647 233.469 Q29.7916 235.951 29.155 238.625 Q28.5184 241.299 28.5184 244.163 Q28.5184 248.524 29.8552 250.72 Q31.192 252.884 33.8656 252.884 Q35.9026 252.884 37.0803 251.325 Q38.2261 249.765 39.2765 245.054 L39.7221 243.049 Q41.0589 236.811 43.5097 234.201 Q45.9286 231.559 50.2891 231.559 Q55.2544 231.559 58.1508 235.506 Q61.0472 239.421 61.0472 246.296 Q61.0472 249.16 60.4743 252.28 Q59.9332 255.367 58.8192 258.804 L52.7718 258.804 Q54.4587 255.558 55.318 252.407 Q56.1456 249.256 56.1456 246.168 Q56.1456 242.031 54.7451 239.803 Q53.3129 237.575 50.7347 237.575 Q48.3476 237.575 47.0745 239.198 Q45.8013 240.789 44.6237 246.232 L44.1462 248.269 Q43.0004 253.712 40.6451 256.131 Q38.258 258.55 34.1202 258.55 Q29.0913 258.55 26.3541 254.985 Q23.6168 251.42 23.6168 244.863 Q23.6168 241.617 24.0943 238.752 Q24.5717 235.888 25.5265 233.469 Z\" fill=\"#000000\" fill-rule=\"evenodd\" fill-opacity=\"1\" /><path clip-path=\"url(#clip730)\" d=\"M10.6626 223.156 L10.6626 218.064 Q18.1742 213.29 25.3674 210.934 Q32.5606 208.547 39.6584 208.547 Q46.788 208.547 54.0131 210.934 Q61.2382 213.29 68.7179 218.064 L68.7179 223.156 Q61.4291 218.923 54.2359 216.854 Q47.0108 214.754 39.6584 214.754 Q32.306 214.754 25.1446 216.854 Q17.9832 218.923 10.6626 223.156 Z\" fill=\"#000000\" fill-rule=\"evenodd\" fill-opacity=\"1\" /><path clip-path=\"url(#clip730)\" d=\"M712.991 9.54393 L720.485 9.54393 L720.485 46.7717 L742.725 27.2059 L752.244 27.2059 L728.182 48.4326 L753.257 72.576 L743.535 72.576 L720.485 50.4176 L720.485 72.576 L712.991 72.576 L712.991 9.54393 Z\" fill=\"#000000\" fill-rule=\"evenodd\" fill-opacity=\"1\" /><path clip-path=\"url(#clip730)\" d=\"M796.642 35.9153 Q799.437 30.8922 803.326 28.5022 Q807.215 26.1121 812.481 26.1121 Q819.57 26.1121 823.419 31.0947 Q827.267 36.0368 827.267 45.1919 L827.267 72.576 L819.773 72.576 L819.773 45.4349 Q819.773 38.913 817.464 35.7533 Q815.155 32.5936 810.415 32.5936 Q804.623 32.5936 801.26 36.4419 Q797.898 40.2903 797.898 46.9338 L797.898 72.576 L790.404 72.576 L790.404 45.4349 Q790.404 38.8725 788.095 35.7533 Q785.786 32.5936 780.965 32.5936 Q775.253 32.5936 771.891 36.4824 Q768.529 40.3308 768.529 46.9338 L768.529 72.576 L761.035 72.576 L761.035 27.2059 L768.529 27.2059 L768.529 34.2544 Q771.081 30.082 774.646 28.0971 Q778.211 26.1121 783.112 26.1121 Q788.054 26.1121 791.498 28.6237 Q794.981 31.1352 796.642 35.9153 Z\" fill=\"#000000\" fill-rule=\"evenodd\" fill-opacity=\"1\" /><path clip-path=\"url(#clip730)\" d=\"M880.942 48.0275 L880.942 51.6733 L846.671 51.6733 Q847.157 59.3701 851.289 63.421 Q855.461 67.4314 862.875 67.4314 Q867.169 67.4314 871.179 66.3781 Q875.23 65.3249 879.2 63.2184 L879.2 70.267 Q875.189 71.9684 870.976 72.8596 Q866.763 73.7508 862.429 73.7508 Q851.573 73.7508 845.213 67.4314 Q838.893 61.1119 838.893 50.3365 Q838.893 39.1965 844.889 32.6746 Q850.924 26.1121 861.133 26.1121 Q870.288 26.1121 875.594 32.0264 Q880.942 37.9003 880.942 48.0275 M873.488 45.84 Q873.407 39.7232 870.045 36.0774 Q866.723 32.4315 861.214 32.4315 Q854.975 32.4315 851.208 35.9558 Q847.481 39.4801 846.914 45.8805 L873.488 45.84 Z\" fill=\"#000000\" fill-rule=\"evenodd\" fill-opacity=\"1\" /><path clip-path=\"url(#clip730)\" d=\"M919.466 34.1734 Q918.21 33.4443 916.711 33.1202 Q915.253 32.7556 913.47 32.7556 Q907.151 32.7556 903.748 36.8875 Q900.386 40.9789 900.386 48.6757 L900.386 72.576 L892.892 72.576 L892.892 27.2059 L900.386 27.2059 L900.386 34.2544 Q902.735 30.1225 906.503 28.1376 Q910.27 26.1121 915.658 26.1121 Q916.428 26.1121 917.359 26.2337 Q918.291 26.3147 919.425 26.5172 L919.466 34.1734 Z\" fill=\"#000000\" fill-rule=\"evenodd\" fill-opacity=\"1\" /><path clip-path=\"url(#clip730)\" d=\"M976.624 9.54393 L976.624 15.7418 L969.494 15.7418 Q965.484 15.7418 963.904 17.3622 Q962.365 18.9825 962.365 23.1955 L962.365 27.2059 L974.639 27.2059 L974.639 32.9987 L962.365 32.9987 L962.365 72.576 L954.871 72.576 L954.871 32.9987 L947.741 32.9987 L947.741 27.2059 L954.871 27.2059 L954.871 24.0462 Q954.871 16.471 958.395 13.0277 Q961.919 9.54393 969.575 9.54393 L976.624 9.54393 Z\" fill=\"#000000\" fill-rule=\"evenodd\" fill-opacity=\"1\" /><path clip-path=\"url(#clip730)\" d=\"M1009.15 34.1734 Q1007.9 33.4443 1006.4 33.1202 Q1004.94 32.7556 1003.16 32.7556 Q996.838 32.7556 993.435 36.8875 Q990.073 40.9789 990.073 48.6757 L990.073 72.576 L982.579 72.576 L982.579 27.2059 L990.073 27.2059 L990.073 34.2544 Q992.422 30.1225 996.19 28.1376 Q999.957 26.1121 1005.34 26.1121 Q1006.11 26.1121 1007.05 26.2337 Q1007.98 26.3147 1009.11 26.5172 L1009.15 34.1734 Z\" fill=\"#000000\" fill-rule=\"evenodd\" fill-opacity=\"1\" /><path clip-path=\"url(#clip730)\" d=\"M1053.96 48.0275 L1053.96 51.6733 L1019.69 51.6733 Q1020.17 59.3701 1024.3 63.421 Q1028.48 67.4314 1035.89 67.4314 Q1040.18 67.4314 1044.19 66.3781 Q1048.24 65.3249 1052.21 63.2184 L1052.21 70.267 Q1048.2 71.9684 1043.99 72.8596 Q1039.78 73.7508 1035.44 73.7508 Q1024.59 73.7508 1018.23 67.4314 Q1011.91 61.1119 1011.91 50.3365 Q1011.91 39.1965 1017.9 32.6746 Q1023.94 26.1121 1034.15 26.1121 Q1043.3 26.1121 1048.61 32.0264 Q1053.96 37.9003 1053.96 48.0275 M1046.5 45.84 Q1046.42 39.7232 1043.06 36.0774 Q1039.74 32.4315 1034.23 32.4315 Q1027.99 32.4315 1024.22 35.9558 Q1020.5 39.4801 1019.93 45.8805 L1046.5 45.84 Z\" fill=\"#000000\" fill-rule=\"evenodd\" fill-opacity=\"1\" /><path clip-path=\"url(#clip730)\" d=\"M1070.65 49.9314 Q1070.65 58.1548 1074.01 62.8538 Q1077.41 67.5124 1083.32 67.5124 Q1089.24 67.5124 1092.64 62.8538 Q1096.04 58.1548 1096.04 49.9314 Q1096.04 41.7081 1092.64 37.0496 Q1089.24 32.3505 1083.32 32.3505 Q1077.41 32.3505 1074.01 37.0496 Q1070.65 41.7081 1070.65 49.9314 M1096.04 65.7705 Q1093.7 69.8214 1090.09 71.8063 Q1086.52 73.7508 1081.5 73.7508 Q1073.28 73.7508 1068.09 67.1883 Q1062.95 60.6258 1062.95 49.9314 Q1062.95 39.2371 1068.09 32.6746 Q1073.28 26.1121 1081.5 26.1121 Q1086.52 26.1121 1090.09 28.0971 Q1093.7 30.0415 1096.04 34.0924 L1096.04 27.2059 L1103.5 27.2059 L1103.5 89.8329 L1096.04 89.8329 L1096.04 65.7705 Z\" fill=\"#000000\" fill-rule=\"evenodd\" fill-opacity=\"1\" /><path clip-path=\"url(#clip730)\" d=\"M1118.08 54.671 L1118.08 27.2059 L1125.54 27.2059 L1125.54 54.3874 Q1125.54 60.8284 1128.05 64.0691 Q1130.56 67.2693 1135.58 67.2693 Q1141.62 67.2693 1145.1 63.421 Q1148.63 59.5726 1148.63 52.9291 L1148.63 27.2059 L1156.08 27.2059 L1156.08 72.576 L1148.63 72.576 L1148.63 65.6084 Q1145.91 69.7404 1142.31 71.7658 Q1138.74 73.7508 1134 73.7508 Q1126.18 73.7508 1122.13 68.8897 Q1118.08 64.0286 1118.08 54.671 M1136.84 26.1121 L1136.84 26.1121 Z\" fill=\"#000000\" fill-rule=\"evenodd\" fill-opacity=\"1\" /><path clip-path=\"url(#clip730)\" d=\"M1210.24 48.0275 L1210.24 51.6733 L1175.97 51.6733 Q1176.46 59.3701 1180.59 63.421 Q1184.76 67.4314 1192.17 67.4314 Q1196.47 67.4314 1200.48 66.3781 Q1204.53 65.3249 1208.5 63.2184 L1208.5 70.267 Q1204.49 71.9684 1200.27 72.8596 Q1196.06 73.7508 1191.73 73.7508 Q1180.87 73.7508 1174.51 67.4314 Q1168.19 61.1119 1168.19 50.3365 Q1168.19 39.1965 1174.19 32.6746 Q1180.22 26.1121 1190.43 26.1121 Q1199.59 26.1121 1204.89 32.0264 Q1210.24 37.9003 1210.24 48.0275 M1202.79 45.84 Q1202.7 39.7232 1199.34 36.0774 Q1196.02 32.4315 1190.51 32.4315 Q1184.27 32.4315 1180.51 35.9558 Q1176.78 39.4801 1176.21 45.8805 L1202.79 45.84 Z\" fill=\"#000000\" fill-rule=\"evenodd\" fill-opacity=\"1\" /><path clip-path=\"url(#clip730)\" d=\"M1260.19 45.1919 L1260.19 72.576 L1252.73 72.576 L1252.73 45.4349 Q1252.73 38.994 1250.22 35.7938 Q1247.71 32.5936 1242.69 32.5936 Q1236.65 32.5936 1233.17 36.4419 Q1229.68 40.2903 1229.68 46.9338 L1229.68 72.576 L1222.19 72.576 L1222.19 27.2059 L1229.68 27.2059 L1229.68 34.2544 Q1232.36 30.163 1235.96 28.1376 Q1239.61 26.1121 1244.35 26.1121 Q1252.17 26.1121 1256.18 30.9732 Q1260.19 35.7938 1260.19 45.1919 Z\" fill=\"#000000\" fill-rule=\"evenodd\" fill-opacity=\"1\" /><path clip-path=\"url(#clip730)\" d=\"M1307.7 28.9478 L1307.7 35.9153 Q1304.54 34.1734 1301.34 33.3227 Q1298.18 32.4315 1294.94 32.4315 Q1287.69 32.4315 1283.68 37.0496 Q1279.67 41.6271 1279.67 49.9314 Q1279.67 58.2358 1283.68 62.8538 Q1287.69 67.4314 1294.94 67.4314 Q1298.18 67.4314 1301.34 66.5807 Q1304.54 65.6895 1307.7 63.9476 L1307.7 70.8341 Q1304.59 72.2924 1301.22 73.0216 Q1297.9 73.7508 1294.13 73.7508 Q1283.89 73.7508 1277.85 67.3098 Q1271.81 60.8689 1271.81 49.9314 Q1271.81 38.832 1277.89 32.472 Q1284.01 26.1121 1294.62 26.1121 Q1298.06 26.1121 1301.34 26.8413 Q1304.63 27.5299 1307.7 28.9478 Z\" fill=\"#000000\" fill-rule=\"evenodd\" fill-opacity=\"1\" /><path clip-path=\"url(#clip730)\" d=\"M1320.67 27.2059 L1328.12 27.2059 L1328.12 72.576 L1320.67 72.576 L1320.67 27.2059 M1320.67 9.54393 L1328.12 9.54393 L1328.12 18.9825 L1320.67 18.9825 L1320.67 9.54393 Z\" fill=\"#000000\" fill-rule=\"evenodd\" fill-opacity=\"1\" /><path clip-path=\"url(#clip730)\" d=\"M1382.52 48.0275 L1382.52 51.6733 L1348.25 51.6733 Q1348.74 59.3701 1352.87 63.421 Q1357.04 67.4314 1364.46 67.4314 Q1368.75 67.4314 1372.76 66.3781 Q1376.81 65.3249 1380.78 63.2184 L1380.78 70.267 Q1376.77 71.9684 1372.56 72.8596 Q1368.35 73.7508 1364.01 73.7508 Q1353.16 73.7508 1346.8 67.4314 Q1340.48 61.1119 1340.48 50.3365 Q1340.48 39.1965 1346.47 32.6746 Q1352.51 26.1121 1362.72 26.1121 Q1371.87 26.1121 1377.18 32.0264 Q1382.52 37.9003 1382.52 48.0275 M1375.07 45.84 Q1374.99 39.7232 1371.63 36.0774 Q1368.31 32.4315 1362.8 32.4315 Q1356.56 32.4315 1352.79 35.9558 Q1349.06 39.4801 1348.5 45.8805 L1375.07 45.84 Z\" fill=\"#000000\" fill-rule=\"evenodd\" fill-opacity=\"1\" /><path clip-path=\"url(#clip730)\" d=\"M1423.68 28.5427 L1423.68 35.5912 Q1420.52 33.9709 1417.12 33.1607 Q1413.72 32.3505 1410.07 32.3505 Q1404.52 32.3505 1401.73 34.0519 Q1398.97 35.7533 1398.97 39.156 Q1398.97 41.7486 1400.96 43.2475 Q1402.94 44.7058 1408.94 46.0426 L1411.49 46.6097 Q1419.43 48.3111 1422.75 51.4303 Q1426.11 54.509 1426.11 60.0587 Q1426.11 66.3781 1421.09 70.0644 Q1416.11 73.7508 1407.36 73.7508 Q1403.71 73.7508 1399.74 73.0216 Q1395.81 72.3329 1391.44 70.9151 L1391.44 63.2184 Q1395.57 65.3654 1399.58 66.4591 Q1403.59 67.5124 1407.52 67.5124 Q1412.78 67.5124 1415.62 65.73 Q1418.46 63.9071 1418.46 60.6258 Q1418.46 57.5877 1416.39 55.9673 Q1414.36 54.3469 1407.44 52.8481 L1404.85 52.2405 Q1397.92 50.7821 1394.84 47.7845 Q1391.76 44.7463 1391.76 39.4801 Q1391.76 33.0797 1396.3 29.5959 Q1400.83 26.1121 1409.18 26.1121 Q1413.31 26.1121 1416.96 26.7198 Q1420.6 27.3274 1423.68 28.5427 Z\" fill=\"#000000\" fill-rule=\"evenodd\" fill-opacity=\"1\" /><circle clip-path=\"url(#clip732)\" cx=\"871.017\" cy=\"705.288\" r=\"14\" fill=\"#009af9\" fill-rule=\"evenodd\" fill-opacity=\"1\" stroke=\"#000000\" stroke-opacity=\"1\" stroke-width=\"2\"/>\n",
       "<circle clip-path=\"url(#clip732)\" cx=\"791.075\" cy=\"658.756\" r=\"14\" fill=\"#009af9\" fill-rule=\"evenodd\" fill-opacity=\"1\" stroke=\"#000000\" stroke-opacity=\"1\" stroke-width=\"2\"/>\n",
       "<circle clip-path=\"url(#clip732)\" cx=\"1328.77\" cy=\"762.755\" r=\"14\" fill=\"#009af9\" fill-rule=\"evenodd\" fill-opacity=\"1\" stroke=\"#000000\" stroke-opacity=\"1\" stroke-width=\"2\"/>\n",
       "<circle clip-path=\"url(#clip732)\" cx=\"1714.76\" cy=\"780.798\" r=\"14\" fill=\"#009af9\" fill-rule=\"evenodd\" fill-opacity=\"1\" stroke=\"#000000\" stroke-opacity=\"1\" stroke-width=\"2\"/>\n",
       "<circle clip-path=\"url(#clip732)\" cx=\"882.752\" cy=\"737.326\" r=\"14\" fill=\"#009af9\" fill-rule=\"evenodd\" fill-opacity=\"1\" stroke=\"#000000\" stroke-opacity=\"1\" stroke-width=\"2\"/>\n",
       "<circle clip-path=\"url(#clip732)\" cx=\"1335.23\" cy=\"647.821\" r=\"14\" fill=\"#009af9\" fill-rule=\"evenodd\" fill-opacity=\"1\" stroke=\"#000000\" stroke-opacity=\"1\" stroke-width=\"2\"/>\n",
       "<circle clip-path=\"url(#clip732)\" cx=\"1329.8\" cy=\"679.858\" r=\"14\" fill=\"#009af9\" fill-rule=\"evenodd\" fill-opacity=\"1\" stroke=\"#000000\" stroke-opacity=\"1\" stroke-width=\"2\"/>\n",
       "<circle clip-path=\"url(#clip732)\" cx=\"901.521\" cy=\"849.7\" r=\"14\" fill=\"#009af9\" fill-rule=\"evenodd\" fill-opacity=\"1\" stroke=\"#000000\" stroke-opacity=\"1\" stroke-width=\"2\"/>\n",
       "<circle clip-path=\"url(#clip732)\" cx=\"1713.76\" cy=\"849.7\" r=\"14\" fill=\"#009af9\" fill-rule=\"evenodd\" fill-opacity=\"1\" stroke=\"#000000\" stroke-opacity=\"1\" stroke-width=\"2\"/>\n",
       "<circle clip-path=\"url(#clip732)\" cx=\"1328.15\" cy=\"748.76\" r=\"14\" fill=\"#009af9\" fill-rule=\"evenodd\" fill-opacity=\"1\" stroke=\"#000000\" stroke-opacity=\"1\" stroke-width=\"2\"/>\n",
       "<circle clip-path=\"url(#clip732)\" cx=\"1715.12\" cy=\"849.7\" r=\"14\" fill=\"#009af9\" fill-rule=\"evenodd\" fill-opacity=\"1\" stroke=\"#000000\" stroke-opacity=\"1\" stroke-width=\"2\"/>\n",
       "<circle clip-path=\"url(#clip732)\" cx=\"1335.83\" cy=\"665.033\" r=\"14\" fill=\"#009af9\" fill-rule=\"evenodd\" fill-opacity=\"1\" stroke=\"#000000\" stroke-opacity=\"1\" stroke-width=\"2\"/>\n",
       "<circle clip-path=\"url(#clip732)\" cx=\"1714.49\" cy=\"806.228\" r=\"14\" fill=\"#009af9\" fill-rule=\"evenodd\" fill-opacity=\"1\" stroke=\"#000000\" stroke-opacity=\"1\" stroke-width=\"2\"/>\n",
       "<circle clip-path=\"url(#clip732)\" cx=\"1715.74\" cy=\"849.7\" r=\"14\" fill=\"#009af9\" fill-rule=\"evenodd\" fill-opacity=\"1\" stroke=\"#000000\" stroke-opacity=\"1\" stroke-width=\"2\"/>\n",
       "<circle clip-path=\"url(#clip732)\" cx=\"1715.87\" cy=\"849.7\" r=\"14\" fill=\"#009af9\" fill-rule=\"evenodd\" fill-opacity=\"1\" stroke=\"#000000\" stroke-opacity=\"1\" stroke-width=\"2\"/>\n",
       "<circle clip-path=\"url(#clip732)\" cx=\"1716.25\" cy=\"849.7\" r=\"14\" fill=\"#009af9\" fill-rule=\"evenodd\" fill-opacity=\"1\" stroke=\"#000000\" stroke-opacity=\"1\" stroke-width=\"2\"/>\n",
       "<circle clip-path=\"url(#clip732)\" cx=\"1713.95\" cy=\"849.7\" r=\"14\" fill=\"#009af9\" fill-rule=\"evenodd\" fill-opacity=\"1\" stroke=\"#000000\" stroke-opacity=\"1\" stroke-width=\"2\"/>\n",
       "<circle clip-path=\"url(#clip732)\" cx=\"1714.78\" cy=\"780.798\" r=\"14\" fill=\"#009af9\" fill-rule=\"evenodd\" fill-opacity=\"1\" stroke=\"#000000\" stroke-opacity=\"1\" stroke-width=\"2\"/>\n",
       "<circle clip-path=\"url(#clip732)\" cx=\"609.004\" cy=\"478.147\" r=\"14\" fill=\"#009af9\" fill-rule=\"evenodd\" fill-opacity=\"1\" stroke=\"#000000\" stroke-opacity=\"1\" stroke-width=\"2\"/>\n",
       "<circle clip-path=\"url(#clip732)\" cx=\"920.707\" cy=\"748.76\" r=\"14\" fill=\"#009af9\" fill-rule=\"evenodd\" fill-opacity=\"1\" stroke=\"#000000\" stroke-opacity=\"1\" stroke-width=\"2\"/>\n",
       "<circle clip-path=\"url(#clip732)\" cx=\"719.662\" cy=\"581.479\" r=\"14\" fill=\"#009af9\" fill-rule=\"evenodd\" fill-opacity=\"1\" stroke=\"#000000\" stroke-opacity=\"1\" stroke-width=\"2\"/>\n",
       "<circle clip-path=\"url(#clip732)\" cx=\"1715.7\" cy=\"849.7\" r=\"14\" fill=\"#009af9\" fill-rule=\"evenodd\" fill-opacity=\"1\" stroke=\"#000000\" stroke-opacity=\"1\" stroke-width=\"2\"/>\n",
       "<circle clip-path=\"url(#clip732)\" cx=\"817.987\" cy=\"699.31\" r=\"14\" fill=\"#009af9\" fill-rule=\"evenodd\" fill-opacity=\"1\" stroke=\"#000000\" stroke-opacity=\"1\" stroke-width=\"2\"/>\n",
       "<circle clip-path=\"url(#clip732)\" cx=\"904.041\" cy=\"748.76\" r=\"14\" fill=\"#009af9\" fill-rule=\"evenodd\" fill-opacity=\"1\" stroke=\"#000000\" stroke-opacity=\"1\" stroke-width=\"2\"/>\n",
       "<circle clip-path=\"url(#clip732)\" cx=\"1332.64\" cy=\"624.951\" r=\"14\" fill=\"#009af9\" fill-rule=\"evenodd\" fill-opacity=\"1\" stroke=\"#000000\" stroke-opacity=\"1\" stroke-width=\"2\"/>\n",
       "<circle clip-path=\"url(#clip732)\" cx=\"1335.04\" cy=\"638.512\" r=\"14\" fill=\"#009af9\" fill-rule=\"evenodd\" fill-opacity=\"1\" stroke=\"#000000\" stroke-opacity=\"1\" stroke-width=\"2\"/>\n",
       "<circle clip-path=\"url(#clip732)\" cx=\"925.183\" cy=\"748.76\" r=\"14\" fill=\"#009af9\" fill-rule=\"evenodd\" fill-opacity=\"1\" stroke=\"#000000\" stroke-opacity=\"1\" stroke-width=\"2\"/>\n",
       "<circle clip-path=\"url(#clip732)\" cx=\"1716.29\" cy=\"849.7\" r=\"14\" fill=\"#009af9\" fill-rule=\"evenodd\" fill-opacity=\"1\" stroke=\"#000000\" stroke-opacity=\"1\" stroke-width=\"2\"/>\n",
       "<circle clip-path=\"url(#clip732)\" cx=\"1714.74\" cy=\"780.798\" r=\"14\" fill=\"#009af9\" fill-rule=\"evenodd\" fill-opacity=\"1\" stroke=\"#000000\" stroke-opacity=\"1\" stroke-width=\"2\"/>\n",
       "<circle clip-path=\"url(#clip732)\" cx=\"898.964\" cy=\"780.798\" r=\"14\" fill=\"#009af9\" fill-rule=\"evenodd\" fill-opacity=\"1\" stroke=\"#000000\" stroke-opacity=\"1\" stroke-width=\"2\"/>\n",
       "<circle clip-path=\"url(#clip732)\" cx=\"1336.03\" cy=\"705.288\" r=\"14\" fill=\"#009af9\" fill-rule=\"evenodd\" fill-opacity=\"1\" stroke=\"#000000\" stroke-opacity=\"1\" stroke-width=\"2\"/>\n",
       "<circle clip-path=\"url(#clip732)\" cx=\"1332.44\" cy=\"630.408\" r=\"14\" fill=\"#009af9\" fill-rule=\"evenodd\" fill-opacity=\"1\" stroke=\"#000000\" stroke-opacity=\"1\" stroke-width=\"2\"/>\n",
       "<circle clip-path=\"url(#clip732)\" cx=\"879.894\" cy=\"849.7\" r=\"14\" fill=\"#009af9\" fill-rule=\"evenodd\" fill-opacity=\"1\" stroke=\"#000000\" stroke-opacity=\"1\" stroke-width=\"2\"/>\n",
       "<circle clip-path=\"url(#clip732)\" cx=\"1330.2\" cy=\"693.853\" r=\"14\" fill=\"#009af9\" fill-rule=\"evenodd\" fill-opacity=\"1\" stroke=\"#000000\" stroke-opacity=\"1\" stroke-width=\"2\"/>\n",
       "<circle clip-path=\"url(#clip732)\" cx=\"740.515\" cy=\"612.366\" r=\"14\" fill=\"#009af9\" fill-rule=\"evenodd\" fill-opacity=\"1\" stroke=\"#000000\" stroke-opacity=\"1\" stroke-width=\"2\"/>\n",
       "<circle clip-path=\"url(#clip732)\" cx=\"1714.42\" cy=\"849.7\" r=\"14\" fill=\"#009af9\" fill-rule=\"evenodd\" fill-opacity=\"1\" stroke=\"#000000\" stroke-opacity=\"1\" stroke-width=\"2\"/>\n",
       "<circle clip-path=\"url(#clip732)\" cx=\"1716.01\" cy=\"849.7\" r=\"14\" fill=\"#009af9\" fill-rule=\"evenodd\" fill-opacity=\"1\" stroke=\"#000000\" stroke-opacity=\"1\" stroke-width=\"2\"/>\n",
       "<circle clip-path=\"url(#clip732)\" cx=\"929.545\" cy=\"849.7\" r=\"14\" fill=\"#009af9\" fill-rule=\"evenodd\" fill-opacity=\"1\" stroke=\"#000000\" stroke-opacity=\"1\" stroke-width=\"2\"/>\n",
       "<circle clip-path=\"url(#clip732)\" cx=\"1715.34\" cy=\"849.7\" r=\"14\" fill=\"#009af9\" fill-rule=\"evenodd\" fill-opacity=\"1\" stroke=\"#000000\" stroke-opacity=\"1\" stroke-width=\"2\"/>\n",
       "<circle clip-path=\"url(#clip732)\" cx=\"1714.17\" cy=\"849.7\" r=\"14\" fill=\"#009af9\" fill-rule=\"evenodd\" fill-opacity=\"1\" stroke=\"#000000\" stroke-opacity=\"1\" stroke-width=\"2\"/>\n",
       "<circle clip-path=\"url(#clip732)\" cx=\"1335.63\" cy=\"665.033\" r=\"14\" fill=\"#009af9\" fill-rule=\"evenodd\" fill-opacity=\"1\" stroke=\"#000000\" stroke-opacity=\"1\" stroke-width=\"2\"/>\n",
       "<circle clip-path=\"url(#clip732)\" cx=\"1715.02\" cy=\"849.7\" r=\"14\" fill=\"#009af9\" fill-rule=\"evenodd\" fill-opacity=\"1\" stroke=\"#000000\" stroke-opacity=\"1\" stroke-width=\"2\"/>\n",
       "<circle clip-path=\"url(#clip732)\" cx=\"1715.19\" cy=\"780.798\" r=\"14\" fill=\"#009af9\" fill-rule=\"evenodd\" fill-opacity=\"1\" stroke=\"#000000\" stroke-opacity=\"1\" stroke-width=\"2\"/>\n",
       "<circle clip-path=\"url(#clip732)\" cx=\"1715.53\" cy=\"849.7\" r=\"14\" fill=\"#009af9\" fill-rule=\"evenodd\" fill-opacity=\"1\" stroke=\"#000000\" stroke-opacity=\"1\" stroke-width=\"2\"/>\n",
       "<circle clip-path=\"url(#clip732)\" cx=\"1715.17\" cy=\"849.7\" r=\"14\" fill=\"#009af9\" fill-rule=\"evenodd\" fill-opacity=\"1\" stroke=\"#000000\" stroke-opacity=\"1\" stroke-width=\"2\"/>\n",
       "<circle clip-path=\"url(#clip732)\" cx=\"1714.57\" cy=\"806.228\" r=\"14\" fill=\"#009af9\" fill-rule=\"evenodd\" fill-opacity=\"1\" stroke=\"#000000\" stroke-opacity=\"1\" stroke-width=\"2\"/>\n",
       "<circle clip-path=\"url(#clip732)\" cx=\"837.559\" cy=\"672.008\" r=\"14\" fill=\"#009af9\" fill-rule=\"evenodd\" fill-opacity=\"1\" stroke=\"#000000\" stroke-opacity=\"1\" stroke-width=\"2\"/>\n",
       "<circle clip-path=\"url(#clip732)\" cx=\"874.028\" cy=\"675.811\" r=\"14\" fill=\"#009af9\" fill-rule=\"evenodd\" fill-opacity=\"1\" stroke=\"#000000\" stroke-opacity=\"1\" stroke-width=\"2\"/>\n",
       "<circle clip-path=\"url(#clip732)\" cx=\"1331.43\" cy=\"650.381\" r=\"14\" fill=\"#009af9\" fill-rule=\"evenodd\" fill-opacity=\"1\" stroke=\"#000000\" stroke-opacity=\"1\" stroke-width=\"2\"/>\n",
       "<circle clip-path=\"url(#clip732)\" cx=\"927.378\" cy=\"849.7\" r=\"14\" fill=\"#009af9\" fill-rule=\"evenodd\" fill-opacity=\"1\" stroke=\"#000000\" stroke-opacity=\"1\" stroke-width=\"2\"/>\n",
       "<circle clip-path=\"url(#clip732)\" cx=\"1332.23\" cy=\"650.381\" r=\"14\" fill=\"#009af9\" fill-rule=\"evenodd\" fill-opacity=\"1\" stroke=\"#000000\" stroke-opacity=\"1\" stroke-width=\"2\"/>\n",
       "<circle clip-path=\"url(#clip732)\" cx=\"913.763\" cy=\"806.228\" r=\"14\" fill=\"#009af9\" fill-rule=\"evenodd\" fill-opacity=\"1\" stroke=\"#000000\" stroke-opacity=\"1\" stroke-width=\"2\"/>\n",
       "<circle clip-path=\"url(#clip732)\" cx=\"186.347\" cy=\"195.297\" r=\"14\" fill=\"#009af9\" fill-rule=\"evenodd\" fill-opacity=\"1\" stroke=\"#000000\" stroke-opacity=\"1\" stroke-width=\"2\"/>\n",
       "<circle clip-path=\"url(#clip732)\" cx=\"712.101\" cy=\"578.088\" r=\"14\" fill=\"#009af9\" fill-rule=\"evenodd\" fill-opacity=\"1\" stroke=\"#000000\" stroke-opacity=\"1\" stroke-width=\"2\"/>\n",
       "<circle clip-path=\"url(#clip732)\" cx=\"1714.61\" cy=\"849.7\" r=\"14\" fill=\"#009af9\" fill-rule=\"evenodd\" fill-opacity=\"1\" stroke=\"#000000\" stroke-opacity=\"1\" stroke-width=\"2\"/>\n",
       "<circle clip-path=\"url(#clip732)\" cx=\"781.067\" cy=\"647.821\" r=\"14\" fill=\"#009af9\" fill-rule=\"evenodd\" fill-opacity=\"1\" stroke=\"#000000\" stroke-opacity=\"1\" stroke-width=\"2\"/>\n",
       "<circle clip-path=\"url(#clip732)\" cx=\"1715.84\" cy=\"849.7\" r=\"14\" fill=\"#009af9\" fill-rule=\"evenodd\" fill-opacity=\"1\" stroke=\"#000000\" stroke-opacity=\"1\" stroke-width=\"2\"/>\n",
       "<circle clip-path=\"url(#clip732)\" cx=\"1714.14\" cy=\"849.7\" r=\"14\" fill=\"#009af9\" fill-rule=\"evenodd\" fill-opacity=\"1\" stroke=\"#000000\" stroke-opacity=\"1\" stroke-width=\"2\"/>\n",
       "<circle clip-path=\"url(#clip732)\" cx=\"813.787\" cy=\"705.288\" r=\"14\" fill=\"#009af9\" fill-rule=\"evenodd\" fill-opacity=\"1\" stroke=\"#000000\" stroke-opacity=\"1\" stroke-width=\"2\"/>\n",
       "<circle clip-path=\"url(#clip732)\" cx=\"990.426\" cy=\"849.7\" r=\"14\" fill=\"#009af9\" fill-rule=\"evenodd\" fill-opacity=\"1\" stroke=\"#000000\" stroke-opacity=\"1\" stroke-width=\"2\"/>\n",
       "<circle clip-path=\"url(#clip732)\" cx=\"1329.18\" cy=\"711.896\" r=\"14\" fill=\"#009af9\" fill-rule=\"evenodd\" fill-opacity=\"1\" stroke=\"#000000\" stroke-opacity=\"1\" stroke-width=\"2\"/>\n",
       "<circle clip-path=\"url(#clip732)\" cx=\"460.096\" cy=\"377.174\" r=\"14\" fill=\"#009af9\" fill-rule=\"evenodd\" fill-opacity=\"1\" stroke=\"#000000\" stroke-opacity=\"1\" stroke-width=\"2\"/>\n",
       "<circle clip-path=\"url(#clip732)\" cx=\"1714.06\" cy=\"849.7\" r=\"14\" fill=\"#009af9\" fill-rule=\"evenodd\" fill-opacity=\"1\" stroke=\"#000000\" stroke-opacity=\"1\" stroke-width=\"2\"/>\n",
       "<circle clip-path=\"url(#clip732)\" cx=\"867.953\" cy=\"705.288\" r=\"14\" fill=\"#009af9\" fill-rule=\"evenodd\" fill-opacity=\"1\" stroke=\"#000000\" stroke-opacity=\"1\" stroke-width=\"2\"/>\n",
       "<circle clip-path=\"url(#clip732)\" cx=\"1328.98\" cy=\"737.326\" r=\"14\" fill=\"#009af9\" fill-rule=\"evenodd\" fill-opacity=\"1\" stroke=\"#000000\" stroke-opacity=\"1\" stroke-width=\"2\"/>\n",
       "<circle clip-path=\"url(#clip732)\" cx=\"1334.64\" cy=\"658.756\" r=\"14\" fill=\"#009af9\" fill-rule=\"evenodd\" fill-opacity=\"1\" stroke=\"#000000\" stroke-opacity=\"1\" stroke-width=\"2\"/>\n",
       "<circle clip-path=\"url(#clip732)\" cx=\"833.821\" cy=\"719.283\" r=\"14\" fill=\"#009af9\" fill-rule=\"evenodd\" fill-opacity=\"1\" stroke=\"#000000\" stroke-opacity=\"1\" stroke-width=\"2\"/>\n",
       "<circle clip-path=\"url(#clip732)\" cx=\"1715.1\" cy=\"780.798\" r=\"14\" fill=\"#009af9\" fill-rule=\"evenodd\" fill-opacity=\"1\" stroke=\"#000000\" stroke-opacity=\"1\" stroke-width=\"2\"/>\n",
       "<circle clip-path=\"url(#clip732)\" cx=\"1336.22\" cy=\"684.185\" r=\"14\" fill=\"#009af9\" fill-rule=\"evenodd\" fill-opacity=\"1\" stroke=\"#000000\" stroke-opacity=\"1\" stroke-width=\"2\"/>\n",
       "<circle clip-path=\"url(#clip732)\" cx=\"1327.74\" cy=\"727.658\" r=\"14\" fill=\"#009af9\" fill-rule=\"evenodd\" fill-opacity=\"1\" stroke=\"#000000\" stroke-opacity=\"1\" stroke-width=\"2\"/>\n",
       "<circle clip-path=\"url(#clip732)\" cx=\"753.12\" cy=\"600.694\" r=\"14\" fill=\"#009af9\" fill-rule=\"evenodd\" fill-opacity=\"1\" stroke=\"#000000\" stroke-opacity=\"1\" stroke-width=\"2\"/>\n",
       "<circle clip-path=\"url(#clip732)\" cx=\"1715.44\" cy=\"849.7\" r=\"14\" fill=\"#009af9\" fill-rule=\"evenodd\" fill-opacity=\"1\" stroke=\"#000000\" stroke-opacity=\"1\" stroke-width=\"2\"/>\n",
       "<circle clip-path=\"url(#clip732)\" cx=\"955.456\" cy=\"806.228\" r=\"14\" fill=\"#009af9\" fill-rule=\"evenodd\" fill-opacity=\"1\" stroke=\"#000000\" stroke-opacity=\"1\" stroke-width=\"2\"/>\n",
       "<circle clip-path=\"url(#clip732)\" cx=\"795.866\" cy=\"668.424\" r=\"14\" fill=\"#009af9\" fill-rule=\"evenodd\" fill-opacity=\"1\" stroke=\"#000000\" stroke-opacity=\"1\" stroke-width=\"2\"/>\n",
       "<circle clip-path=\"url(#clip732)\" cx=\"1331.63\" cy=\"650.381\" r=\"14\" fill=\"#009af9\" fill-rule=\"evenodd\" fill-opacity=\"1\" stroke=\"#000000\" stroke-opacity=\"1\" stroke-width=\"2\"/>\n",
       "<circle clip-path=\"url(#clip732)\" cx=\"1714.21\" cy=\"849.7\" r=\"14\" fill=\"#009af9\" fill-rule=\"evenodd\" fill-opacity=\"1\" stroke=\"#000000\" stroke-opacity=\"1\" stroke-width=\"2\"/>\n",
       "<circle clip-path=\"url(#clip732)\" cx=\"517.326\" cy=\"411.059\" r=\"14\" fill=\"#009af9\" fill-rule=\"evenodd\" fill-opacity=\"1\" stroke=\"#000000\" stroke-opacity=\"1\" stroke-width=\"2\"/>\n",
       "<circle clip-path=\"url(#clip732)\" cx=\"733.844\" cy=\"612.366\" r=\"14\" fill=\"#009af9\" fill-rule=\"evenodd\" fill-opacity=\"1\" stroke=\"#000000\" stroke-opacity=\"1\" stroke-width=\"2\"/>\n",
       "<circle clip-path=\"url(#clip732)\" cx=\"957.295\" cy=\"849.7\" r=\"14\" fill=\"#009af9\" fill-rule=\"evenodd\" fill-opacity=\"1\" stroke=\"#000000\" stroke-opacity=\"1\" stroke-width=\"2\"/>\n",
       "<circle clip-path=\"url(#clip732)\" cx=\"677.969\" cy=\"563.436\" r=\"14\" fill=\"#009af9\" fill-rule=\"evenodd\" fill-opacity=\"1\" stroke=\"#000000\" stroke-opacity=\"1\" stroke-width=\"2\"/>\n",
       "<circle clip-path=\"url(#clip732)\" cx=\"1714.36\" cy=\"780.798\" r=\"14\" fill=\"#009af9\" fill-rule=\"evenodd\" fill-opacity=\"1\" stroke=\"#000000\" stroke-opacity=\"1\" stroke-width=\"2\"/>\n",
       "<circle clip-path=\"url(#clip732)\" cx=\"657.936\" cy=\"537.142\" r=\"14\" fill=\"#009af9\" fill-rule=\"evenodd\" fill-opacity=\"1\" stroke=\"#000000\" stroke-opacity=\"1\" stroke-width=\"2\"/>\n",
       "<circle clip-path=\"url(#clip732)\" cx=\"687.166\" cy=\"589.854\" r=\"14\" fill=\"#009af9\" fill-rule=\"evenodd\" fill-opacity=\"1\" stroke=\"#000000\" stroke-opacity=\"1\" stroke-width=\"2\"/>\n",
       "<circle clip-path=\"url(#clip732)\" cx=\"829.998\" cy=\"711.896\" r=\"14\" fill=\"#009af9\" fill-rule=\"evenodd\" fill-opacity=\"1\" stroke=\"#000000\" stroke-opacity=\"1\" stroke-width=\"2\"/>\n",
       "<circle clip-path=\"url(#clip732)\" cx=\"770.433\" cy=\"618.343\" r=\"14\" fill=\"#009af9\" fill-rule=\"evenodd\" fill-opacity=\"1\" stroke=\"#000000\" stroke-opacity=\"1\" stroke-width=\"2\"/>\n",
       "<circle clip-path=\"url(#clip732)\" cx=\"1713.97\" cy=\"849.7\" r=\"14\" fill=\"#009af9\" fill-rule=\"evenodd\" fill-opacity=\"1\" stroke=\"#000000\" stroke-opacity=\"1\" stroke-width=\"2\"/>\n",
       "<circle clip-path=\"url(#clip732)\" cx=\"1331.83\" cy=\"634.329\" r=\"14\" fill=\"#009af9\" fill-rule=\"evenodd\" fill-opacity=\"1\" stroke=\"#000000\" stroke-opacity=\"1\" stroke-width=\"2\"/>\n",
       "<circle clip-path=\"url(#clip732)\" cx=\"759.089\" cy=\"612.366\" r=\"14\" fill=\"#009af9\" fill-rule=\"evenodd\" fill-opacity=\"1\" stroke=\"#000000\" stroke-opacity=\"1\" stroke-width=\"2\"/>\n",
       "<circle clip-path=\"url(#clip732)\" cx=\"1715.38\" cy=\"849.7\" r=\"14\" fill=\"#009af9\" fill-rule=\"evenodd\" fill-opacity=\"1\" stroke=\"#000000\" stroke-opacity=\"1\" stroke-width=\"2\"/>\n",
       "<circle clip-path=\"url(#clip732)\" cx=\"1715.31\" cy=\"849.7\" r=\"14\" fill=\"#009af9\" fill-rule=\"evenodd\" fill-opacity=\"1\" stroke=\"#000000\" stroke-opacity=\"1\" stroke-width=\"2\"/>\n",
       "<circle clip-path=\"url(#clip732)\" cx=\"1714.95\" cy=\"806.228\" r=\"14\" fill=\"#009af9\" fill-rule=\"evenodd\" fill-opacity=\"1\" stroke=\"#000000\" stroke-opacity=\"1\" stroke-width=\"2\"/>\n",
       "<circle clip-path=\"url(#clip732)\" cx=\"971.331\" cy=\"849.7\" r=\"14\" fill=\"#009af9\" fill-rule=\"evenodd\" fill-opacity=\"1\" stroke=\"#000000\" stroke-opacity=\"1\" stroke-width=\"2\"/>\n",
       "<circle clip-path=\"url(#clip732)\" cx=\"1336.42\" cy=\"727.658\" r=\"14\" fill=\"#009af9\" fill-rule=\"evenodd\" fill-opacity=\"1\" stroke=\"#000000\" stroke-opacity=\"1\" stroke-width=\"2\"/>\n",
       "<circle clip-path=\"url(#clip732)\" cx=\"668.247\" cy=\"559.022\" r=\"14\" fill=\"#009af9\" fill-rule=\"evenodd\" fill-opacity=\"1\" stroke=\"#000000\" stroke-opacity=\"1\" stroke-width=\"2\"/>\n",
       "<circle clip-path=\"url(#clip732)\" cx=\"1714.04\" cy=\"849.7\" r=\"14\" fill=\"#009af9\" fill-rule=\"evenodd\" fill-opacity=\"1\" stroke=\"#000000\" stroke-opacity=\"1\" stroke-width=\"2\"/>\n",
       "<circle clip-path=\"url(#clip732)\" cx=\"1714.44\" cy=\"849.7\" r=\"14\" fill=\"#009af9\" fill-rule=\"evenodd\" fill-opacity=\"1\" stroke=\"#000000\" stroke-opacity=\"1\" stroke-width=\"2\"/>\n",
       "<circle clip-path=\"url(#clip732)\" cx=\"855.11\" cy=\"699.31\" r=\"14\" fill=\"#009af9\" fill-rule=\"evenodd\" fill-opacity=\"1\" stroke=\"#000000\" stroke-opacity=\"1\" stroke-width=\"2\"/>\n",
       "<circle clip-path=\"url(#clip732)\" cx=\"844.798\" cy=\"711.896\" r=\"14\" fill=\"#009af9\" fill-rule=\"evenodd\" fill-opacity=\"1\" stroke=\"#000000\" stroke-opacity=\"1\" stroke-width=\"2\"/>\n",
       "<circle clip-path=\"url(#clip732)\" cx=\"646.958\" cy=\"530.62\" r=\"14\" fill=\"#009af9\" fill-rule=\"evenodd\" fill-opacity=\"1\" stroke=\"#000000\" stroke-opacity=\"1\" stroke-width=\"2\"/>\n",
       "<circle clip-path=\"url(#clip732)\" cx=\"964.458\" cy=\"849.7\" r=\"14\" fill=\"#009af9\" fill-rule=\"evenodd\" fill-opacity=\"1\" stroke=\"#000000\" stroke-opacity=\"1\" stroke-width=\"2\"/>\n",
       "<circle clip-path=\"url(#clip732)\" cx=\"1330\" cy=\"684.185\" r=\"14\" fill=\"#009af9\" fill-rule=\"evenodd\" fill-opacity=\"1\" stroke=\"#000000\" stroke-opacity=\"1\" stroke-width=\"2\"/>\n",
       "<circle clip-path=\"url(#clip732)\" cx=\"1338.57\" cy=\"849.7\" r=\"14\" fill=\"#009af9\" fill-rule=\"evenodd\" fill-opacity=\"1\" stroke=\"#000000\" stroke-opacity=\"1\" stroke-width=\"2\"/>\n",
       "<circle clip-path=\"url(#clip732)\" cx=\"1337.01\" cy=\"806.228\" r=\"14\" fill=\"#009af9\" fill-rule=\"evenodd\" fill-opacity=\"1\" stroke=\"#000000\" stroke-opacity=\"1\" stroke-width=\"2\"/>\n",
       "<circle clip-path=\"url(#clip732)\" cx=\"764.855\" cy=\"624.951\" r=\"14\" fill=\"#009af9\" fill-rule=\"evenodd\" fill-opacity=\"1\" stroke=\"#000000\" stroke-opacity=\"1\" stroke-width=\"2\"/>\n",
       "<circle clip-path=\"url(#clip732)\" cx=\"1714.59\" cy=\"780.798\" r=\"14\" fill=\"#009af9\" fill-rule=\"evenodd\" fill-opacity=\"1\" stroke=\"#000000\" stroke-opacity=\"1\" stroke-width=\"2\"/>\n",
       "<circle clip-path=\"url(#clip732)\" cx=\"491.107\" cy=\"392.472\" r=\"14\" fill=\"#009af9\" fill-rule=\"evenodd\" fill-opacity=\"1\" stroke=\"#000000\" stroke-opacity=\"1\" stroke-width=\"2\"/>\n",
       "<circle clip-path=\"url(#clip732)\" cx=\"1332.84\" cy=\"612.366\" r=\"14\" fill=\"#009af9\" fill-rule=\"evenodd\" fill-opacity=\"1\" stroke=\"#000000\" stroke-opacity=\"1\" stroke-width=\"2\"/>\n",
       "<circle clip-path=\"url(#clip732)\" cx=\"1337.79\" cy=\"849.7\" r=\"14\" fill=\"#009af9\" fill-rule=\"evenodd\" fill-opacity=\"1\" stroke=\"#000000\" stroke-opacity=\"1\" stroke-width=\"2\"/>\n",
       "<circle clip-path=\"url(#clip732)\" cx=\"1330.41\" cy=\"665.033\" r=\"14\" fill=\"#009af9\" fill-rule=\"evenodd\" fill-opacity=\"1\" stroke=\"#000000\" stroke-opacity=\"1\" stroke-width=\"2\"/>\n",
       "<circle clip-path=\"url(#clip732)\" cx=\"893.73\" cy=\"780.798\" r=\"14\" fill=\"#009af9\" fill-rule=\"evenodd\" fill-opacity=\"1\" stroke=\"#000000\" stroke-opacity=\"1\" stroke-width=\"2\"/>\n",
       "<circle clip-path=\"url(#clip732)\" cx=\"1327.11\" cy=\"806.228\" r=\"14\" fill=\"#009af9\" fill-rule=\"evenodd\" fill-opacity=\"1\" stroke=\"#000000\" stroke-opacity=\"1\" stroke-width=\"2\"/>\n",
       "<circle clip-path=\"url(#clip732)\" cx=\"422.142\" cy=\"345.688\" r=\"14\" fill=\"#009af9\" fill-rule=\"evenodd\" fill-opacity=\"1\" stroke=\"#000000\" stroke-opacity=\"1\" stroke-width=\"2\"/>\n",
       "<circle clip-path=\"url(#clip732)\" cx=\"622.618\" cy=\"482.846\" r=\"14\" fill=\"#009af9\" fill-rule=\"evenodd\" fill-opacity=\"1\" stroke=\"#000000\" stroke-opacity=\"1\" stroke-width=\"2\"/>\n",
       "<circle clip-path=\"url(#clip732)\" cx=\"1334.84\" cy=\"636.386\" r=\"14\" fill=\"#009af9\" fill-rule=\"evenodd\" fill-opacity=\"1\" stroke=\"#000000\" stroke-opacity=\"1\" stroke-width=\"2\"/>\n",
       "<circle clip-path=\"url(#clip732)\" cx=\"1326.7\" cy=\"849.7\" r=\"14\" fill=\"#009af9\" fill-rule=\"evenodd\" fill-opacity=\"1\" stroke=\"#000000\" stroke-opacity=\"1\" stroke-width=\"2\"/>\n",
       "<circle clip-path=\"url(#clip732)\" cx=\"1714.83\" cy=\"806.228\" r=\"14\" fill=\"#009af9\" fill-rule=\"evenodd\" fill-opacity=\"1\" stroke=\"#000000\" stroke-opacity=\"1\" stroke-width=\"2\"/>\n",
       "<circle clip-path=\"url(#clip732)\" cx=\"1327.32\" cy=\"727.658\" r=\"14\" fill=\"#009af9\" fill-rule=\"evenodd\" fill-opacity=\"1\" stroke=\"#000000\" stroke-opacity=\"1\" stroke-width=\"2\"/>\n",
       "<circle clip-path=\"url(#clip732)\" cx=\"1334.24\" cy=\"628.536\" r=\"14\" fill=\"#009af9\" fill-rule=\"evenodd\" fill-opacity=\"1\" stroke=\"#000000\" stroke-opacity=\"1\" stroke-width=\"2\"/>\n",
       "<circle clip-path=\"url(#clip732)\" cx=\"1713.74\" cy=\"849.7\" r=\"14\" fill=\"#009af9\" fill-rule=\"evenodd\" fill-opacity=\"1\" stroke=\"#000000\" stroke-opacity=\"1\" stroke-width=\"2\"/>\n",
       "<circle clip-path=\"url(#clip732)\" cx=\"858.412\" cy=\"675.811\" r=\"14\" fill=\"#009af9\" fill-rule=\"evenodd\" fill-opacity=\"1\" stroke=\"#000000\" stroke-opacity=\"1\" stroke-width=\"2\"/>\n",
       "<circle clip-path=\"url(#clip732)\" cx=\"1338.38\" cy=\"849.7\" r=\"14\" fill=\"#009af9\" fill-rule=\"evenodd\" fill-opacity=\"1\" stroke=\"#000000\" stroke-opacity=\"1\" stroke-width=\"2\"/>\n",
       "<circle clip-path=\"url(#clip732)\" cx=\"1333.64\" cy=\"630.408\" r=\"14\" fill=\"#009af9\" fill-rule=\"evenodd\" fill-opacity=\"1\" stroke=\"#000000\" stroke-opacity=\"1\" stroke-width=\"2\"/>\n",
       "<circle clip-path=\"url(#clip732)\" cx=\"826.088\" cy=\"711.896\" r=\"14\" fill=\"#009af9\" fill-rule=\"evenodd\" fill-opacity=\"1\" stroke=\"#000000\" stroke-opacity=\"1\" stroke-width=\"2\"/>\n",
       "<circle clip-path=\"url(#clip732)\" cx=\"594.204\" cy=\"467.528\" r=\"14\" fill=\"#009af9\" fill-rule=\"evenodd\" fill-opacity=\"1\" stroke=\"#000000\" stroke-opacity=\"1\" stroke-width=\"2\"/>\n",
       "<circle clip-path=\"url(#clip732)\" cx=\"1331.22\" cy=\"647.821\" r=\"14\" fill=\"#009af9\" fill-rule=\"evenodd\" fill-opacity=\"1\" stroke=\"#000000\" stroke-opacity=\"1\" stroke-width=\"2\"/>\n",
       "<circle clip-path=\"url(#clip732)\" cx=\"1714.97\" cy=\"849.7\" r=\"14\" fill=\"#009af9\" fill-rule=\"evenodd\" fill-opacity=\"1\" stroke=\"#000000\" stroke-opacity=\"1\" stroke-width=\"2\"/>\n",
       "<circle clip-path=\"url(#clip732)\" cx=\"1714.31\" cy=\"849.7\" r=\"14\" fill=\"#009af9\" fill-rule=\"evenodd\" fill-opacity=\"1\" stroke=\"#000000\" stroke-opacity=\"1\" stroke-width=\"2\"/>\n",
       "<circle clip-path=\"url(#clip732)\" cx=\"809.481\" cy=\"642.994\" r=\"14\" fill=\"#009af9\" fill-rule=\"evenodd\" fill-opacity=\"1\" stroke=\"#000000\" stroke-opacity=\"1\" stroke-width=\"2\"/>\n",
       "<circle clip-path=\"url(#clip732)\" cx=\"1333.44\" cy=\"624.951\" r=\"14\" fill=\"#009af9\" fill-rule=\"evenodd\" fill-opacity=\"1\" stroke=\"#000000\" stroke-opacity=\"1\" stroke-width=\"2\"/>\n",
       "<circle clip-path=\"url(#clip732)\" cx=\"1713.84\" cy=\"849.7\" r=\"14\" fill=\"#009af9\" fill-rule=\"evenodd\" fill-opacity=\"1\" stroke=\"#000000\" stroke-opacity=\"1\" stroke-width=\"2\"/>\n",
       "<circle clip-path=\"url(#clip732)\" cx=\"1334.04\" cy=\"634.329\" r=\"14\" fill=\"#009af9\" fill-rule=\"evenodd\" fill-opacity=\"1\" stroke=\"#000000\" stroke-opacity=\"1\" stroke-width=\"2\"/>\n",
       "<circle clip-path=\"url(#clip732)\" cx=\"1715.06\" cy=\"849.7\" r=\"14\" fill=\"#009af9\" fill-rule=\"evenodd\" fill-opacity=\"1\" stroke=\"#000000\" stroke-opacity=\"1\" stroke-width=\"2\"/>\n",
       "<circle clip-path=\"url(#clip732)\" cx=\"1330.82\" cy=\"668.424\" r=\"14\" fill=\"#009af9\" fill-rule=\"evenodd\" fill-opacity=\"1\" stroke=\"#000000\" stroke-opacity=\"1\" stroke-width=\"2\"/>\n",
       "<circle clip-path=\"url(#clip732)\" cx=\"1331.02\" cy=\"638.512\" r=\"14\" fill=\"#009af9\" fill-rule=\"evenodd\" fill-opacity=\"1\" stroke=\"#000000\" stroke-opacity=\"1\" stroke-width=\"2\"/>\n",
       "<circle clip-path=\"url(#clip732)\" cx=\"304.245\" cy=\"255.602\" r=\"14\" fill=\"#009af9\" fill-rule=\"evenodd\" fill-opacity=\"1\" stroke=\"#000000\" stroke-opacity=\"1\" stroke-width=\"2\"/>\n",
       "<circle clip-path=\"url(#clip732)\" cx=\"577.993\" cy=\"446.75\" r=\"14\" fill=\"#009af9\" fill-rule=\"evenodd\" fill-opacity=\"1\" stroke=\"#000000\" stroke-opacity=\"1\" stroke-width=\"2\"/>\n",
       "<circle clip-path=\"url(#clip732)\" cx=\"746.935\" cy=\"623.233\" r=\"14\" fill=\"#009af9\" fill-rule=\"evenodd\" fill-opacity=\"1\" stroke=\"#000000\" stroke-opacity=\"1\" stroke-width=\"2\"/>\n",
       "<circle clip-path=\"url(#clip732)\" cx=\"695.89\" cy=\"590.857\" r=\"14\" fill=\"#009af9\" fill-rule=\"evenodd\" fill-opacity=\"1\" stroke=\"#000000\" stroke-opacity=\"1\" stroke-width=\"2\"/>\n",
       "<circle clip-path=\"url(#clip732)\" cx=\"1713.87\" cy=\"849.7\" r=\"14\" fill=\"#009af9\" fill-rule=\"evenodd\" fill-opacity=\"1\" stroke=\"#000000\" stroke-opacity=\"1\" stroke-width=\"2\"/>\n",
       "<circle clip-path=\"url(#clip732)\" cx=\"560.072\" cy=\"418.959\" r=\"14\" fill=\"#009af9\" fill-rule=\"evenodd\" fill-opacity=\"1\" stroke=\"#000000\" stroke-opacity=\"1\" stroke-width=\"2\"/>\n",
       "<circle clip-path=\"url(#clip732)\" cx=\"1714.91\" cy=\"849.7\" r=\"14\" fill=\"#009af9\" fill-rule=\"evenodd\" fill-opacity=\"1\" stroke=\"#000000\" stroke-opacity=\"1\" stroke-width=\"2\"/>\n",
       "<circle clip-path=\"url(#clip732)\" cx=\"947.895\" cy=\"849.7\" r=\"14\" fill=\"#009af9\" fill-rule=\"evenodd\" fill-opacity=\"1\" stroke=\"#000000\" stroke-opacity=\"1\" stroke-width=\"2\"/>\n",
       "<circle clip-path=\"url(#clip732)\" cx=\"1337.99\" cy=\"849.7\" r=\"14\" fill=\"#009af9\" fill-rule=\"evenodd\" fill-opacity=\"1\" stroke=\"#000000\" stroke-opacity=\"1\" stroke-width=\"2\"/>\n",
       "<circle clip-path=\"url(#clip732)\" cx=\"1451.44\" cy=\"849.7\" r=\"14\" fill=\"#009af9\" fill-rule=\"evenodd\" fill-opacity=\"1\" stroke=\"#000000\" stroke-opacity=\"1\" stroke-width=\"2\"/>\n",
       "<circle clip-path=\"url(#clip732)\" cx=\"1335.43\" cy=\"650.381\" r=\"14\" fill=\"#009af9\" fill-rule=\"evenodd\" fill-opacity=\"1\" stroke=\"#000000\" stroke-opacity=\"1\" stroke-width=\"2\"/>\n",
       "<circle clip-path=\"url(#clip732)\" cx=\"726.901\" cy=\"585.064\" r=\"14\" fill=\"#009af9\" fill-rule=\"evenodd\" fill-opacity=\"1\" stroke=\"#000000\" stroke-opacity=\"1\" stroke-width=\"2\"/>\n",
       "<circle clip-path=\"url(#clip732)\" cx=\"540.039\" cy=\"419.615\" r=\"14\" fill=\"#009af9\" fill-rule=\"evenodd\" fill-opacity=\"1\" stroke=\"#000000\" stroke-opacity=\"1\" stroke-width=\"2\"/>\n",
       "<circle clip-path=\"url(#clip732)\" cx=\"800.527\" cy=\"672.008\" r=\"14\" fill=\"#009af9\" fill-rule=\"evenodd\" fill-opacity=\"1\" stroke=\"#000000\" stroke-opacity=\"1\" stroke-width=\"2\"/>\n",
       "<circle clip-path=\"url(#clip732)\" cx=\"635.223\" cy=\"517.718\" r=\"14\" fill=\"#009af9\" fill-rule=\"evenodd\" fill-opacity=\"1\" stroke=\"#000000\" stroke-opacity=\"1\" stroke-width=\"2\"/>\n",
       "<circle clip-path=\"url(#clip732)\" cx=\"1714.72\" cy=\"849.7\" r=\"14\" fill=\"#009af9\" fill-rule=\"evenodd\" fill-opacity=\"1\" stroke=\"#000000\" stroke-opacity=\"1\" stroke-width=\"2\"/>\n",
       "<circle clip-path=\"url(#clip732)\" cx=\"1337.21\" cy=\"780.798\" r=\"14\" fill=\"#009af9\" fill-rule=\"evenodd\" fill-opacity=\"1\" stroke=\"#000000\" stroke-opacity=\"1\" stroke-width=\"2\"/>\n",
       "<circle clip-path=\"url(#clip732)\" cx=\"1337.4\" cy=\"849.7\" r=\"14\" fill=\"#009af9\" fill-rule=\"evenodd\" fill-opacity=\"1\" stroke=\"#000000\" stroke-opacity=\"1\" stroke-width=\"2\"/>\n",
       "<circle clip-path=\"url(#clip732)\" cx=\"1715.25\" cy=\"806.228\" r=\"14\" fill=\"#009af9\" fill-rule=\"evenodd\" fill-opacity=\"1\" stroke=\"#000000\" stroke-opacity=\"1\" stroke-width=\"2\"/>\n",
       "<circle clip-path=\"url(#clip732)\" cx=\"1329.59\" cy=\"672.008\" r=\"14\" fill=\"#009af9\" fill-rule=\"evenodd\" fill-opacity=\"1\" stroke=\"#000000\" stroke-opacity=\"1\" stroke-width=\"2\"/>\n",
       "<circle clip-path=\"url(#clip732)\" cx=\"1714.63\" cy=\"849.7\" r=\"14\" fill=\"#009af9\" fill-rule=\"evenodd\" fill-opacity=\"1\" stroke=\"#000000\" stroke-opacity=\"1\" stroke-width=\"2\"/>\n",
       "<circle clip-path=\"url(#clip732)\" cx=\"775.833\" cy=\"655.838\" r=\"14\" fill=\"#009af9\" fill-rule=\"evenodd\" fill-opacity=\"1\" stroke=\"#000000\" stroke-opacity=\"1\" stroke-width=\"2\"/>\n",
       "<circle clip-path=\"url(#clip732)\" cx=\"1715.4\" cy=\"849.7\" r=\"14\" fill=\"#009af9\" fill-rule=\"evenodd\" fill-opacity=\"1\" stroke=\"#000000\" stroke-opacity=\"1\" stroke-width=\"2\"/>\n",
       "<circle clip-path=\"url(#clip732)\" cx=\"1714.1\" cy=\"849.7\" r=\"14\" fill=\"#009af9\" fill-rule=\"evenodd\" fill-opacity=\"1\" stroke=\"#000000\" stroke-opacity=\"1\" stroke-width=\"2\"/>\n",
       "<circle clip-path=\"url(#clip732)\" cx=\"1336.62\" cy=\"719.283\" r=\"14\" fill=\"#009af9\" fill-rule=\"evenodd\" fill-opacity=\"1\" stroke=\"#000000\" stroke-opacity=\"1\" stroke-width=\"2\"/>\n",
       "<circle clip-path=\"url(#clip732)\" cx=\"1716.12\" cy=\"849.7\" r=\"14\" fill=\"#009af9\" fill-rule=\"evenodd\" fill-opacity=\"1\" stroke=\"#000000\" stroke-opacity=\"1\" stroke-width=\"2\"/>\n",
       "<circle clip-path=\"url(#clip732)\" cx=\"1714.55\" cy=\"849.7\" r=\"14\" fill=\"#009af9\" fill-rule=\"evenodd\" fill-opacity=\"1\" stroke=\"#000000\" stroke-opacity=\"1\" stroke-width=\"2\"/>\n",
       "<circle clip-path=\"url(#clip732)\" cx=\"864.832\" cy=\"719.283\" r=\"14\" fill=\"#009af9\" fill-rule=\"evenodd\" fill-opacity=\"1\" stroke=\"#000000\" stroke-opacity=\"1\" stroke-width=\"2\"/>\n",
       "<circle clip-path=\"url(#clip732)\" cx=\"891.051\" cy=\"780.798\" r=\"14\" fill=\"#009af9\" fill-rule=\"evenodd\" fill-opacity=\"1\" stroke=\"#000000\" stroke-opacity=\"1\" stroke-width=\"2\"/>\n",
       "<circle clip-path=\"url(#clip732)\" cx=\"953.597\" cy=\"780.798\" r=\"14\" fill=\"#009af9\" fill-rule=\"evenodd\" fill-opacity=\"1\" stroke=\"#000000\" stroke-opacity=\"1\" stroke-width=\"2\"/>\n",
       "<circle clip-path=\"url(#clip732)\" cx=\"888.33\" cy=\"849.7\" r=\"14\" fill=\"#009af9\" fill-rule=\"evenodd\" fill-opacity=\"1\" stroke=\"#000000\" stroke-opacity=\"1\" stroke-width=\"2\"/>\n",
       "<circle clip-path=\"url(#clip732)\" cx=\"876.986\" cy=\"705.288\" r=\"14\" fill=\"#009af9\" fill-rule=\"evenodd\" fill-opacity=\"1\" stroke=\"#000000\" stroke-opacity=\"1\" stroke-width=\"2\"/>\n",
       "<circle clip-path=\"url(#clip732)\" cx=\"1336.81\" cy=\"748.76\" r=\"14\" fill=\"#009af9\" fill-rule=\"evenodd\" fill-opacity=\"1\" stroke=\"#000000\" stroke-opacity=\"1\" stroke-width=\"2\"/>\n",
       "<circle clip-path=\"url(#clip732)\" cx=\"1714.02\" cy=\"806.228\" r=\"14\" fill=\"#009af9\" fill-rule=\"evenodd\" fill-opacity=\"1\" stroke=\"#000000\" stroke-opacity=\"1\" stroke-width=\"2\"/>\n",
       "<circle clip-path=\"url(#clip732)\" cx=\"1716.96\" cy=\"849.7\" r=\"14\" fill=\"#009af9\" fill-rule=\"evenodd\" fill-opacity=\"1\" stroke=\"#000000\" stroke-opacity=\"1\" stroke-width=\"2\"/>\n",
       "<circle clip-path=\"url(#clip732)\" cx=\"1713.89\" cy=\"849.7\" r=\"14\" fill=\"#009af9\" fill-rule=\"evenodd\" fill-opacity=\"1\" stroke=\"#000000\" stroke-opacity=\"1\" stroke-width=\"2\"/>\n",
       "<circle clip-path=\"url(#clip732)\" cx=\"1333.84\" cy=\"634.329\" r=\"14\" fill=\"#009af9\" fill-rule=\"evenodd\" fill-opacity=\"1\" stroke=\"#000000\" stroke-opacity=\"1\" stroke-width=\"2\"/>\n",
       "<circle clip-path=\"url(#clip732)\" cx=\"1334.44\" cy=\"658.756\" r=\"14\" fill=\"#009af9\" fill-rule=\"evenodd\" fill-opacity=\"1\" stroke=\"#000000\" stroke-opacity=\"1\" stroke-width=\"2\"/>\n",
       "<circle clip-path=\"url(#clip732)\" cx=\"1333.24\" cy=\"609.578\" r=\"14\" fill=\"#009af9\" fill-rule=\"evenodd\" fill-opacity=\"1\" stroke=\"#000000\" stroke-opacity=\"1\" stroke-width=\"2\"/>\n",
       "<circle clip-path=\"url(#clip732)\" cx=\"966.202\" cy=\"849.7\" r=\"14\" fill=\"#009af9\" fill-rule=\"evenodd\" fill-opacity=\"1\" stroke=\"#000000\" stroke-opacity=\"1\" stroke-width=\"2\"/>\n",
       "<circle clip-path=\"url(#clip732)\" cx=\"1329.39\" cy=\"705.288\" r=\"14\" fill=\"#009af9\" fill-rule=\"evenodd\" fill-opacity=\"1\" stroke=\"#000000\" stroke-opacity=\"1\" stroke-width=\"2\"/>\n",
       "<circle clip-path=\"url(#clip732)\" cx=\"922.96\" cy=\"806.228\" r=\"14\" fill=\"#009af9\" fill-rule=\"evenodd\" fill-opacity=\"1\" stroke=\"#000000\" stroke-opacity=\"1\" stroke-width=\"2\"/>\n",
       "<circle clip-path=\"url(#clip732)\" cx=\"786.144\" cy=\"638.512\" r=\"14\" fill=\"#009af9\" fill-rule=\"evenodd\" fill-opacity=\"1\" stroke=\"#000000\" stroke-opacity=\"1\" stroke-width=\"2\"/>\n",
       "<circle clip-path=\"url(#clip732)\" cx=\"851.741\" cy=\"693.853\" r=\"14\" fill=\"#009af9\" fill-rule=\"evenodd\" fill-opacity=\"1\" stroke=\"#000000\" stroke-opacity=\"1\" stroke-width=\"2\"/>\n",
       "<circle clip-path=\"url(#clip732)\" cx=\"822.086\" cy=\"684.185\" r=\"14\" fill=\"#009af9\" fill-rule=\"evenodd\" fill-opacity=\"1\" stroke=\"#000000\" stroke-opacity=\"1\" stroke-width=\"2\"/>\n",
       "<circle clip-path=\"url(#clip732)\" cx=\"1328.36\" cy=\"849.7\" r=\"14\" fill=\"#009af9\" fill-rule=\"evenodd\" fill-opacity=\"1\" stroke=\"#000000\" stroke-opacity=\"1\" stroke-width=\"2\"/>\n",
       "<circle clip-path=\"url(#clip732)\" cx=\"848.305\" cy=\"705.288\" r=\"14\" fill=\"#009af9\" fill-rule=\"evenodd\" fill-opacity=\"1\" stroke=\"#000000\" stroke-opacity=\"1\" stroke-width=\"2\"/>\n",
       "<circle clip-path=\"url(#clip732)\" cx=\"1333.04\" cy=\"624.951\" r=\"14\" fill=\"#009af9\" fill-rule=\"evenodd\" fill-opacity=\"1\" stroke=\"#000000\" stroke-opacity=\"1\" stroke-width=\"2\"/>\n",
       "<circle clip-path=\"url(#clip732)\" cx=\"1332.03\" cy=\"618.343\" r=\"14\" fill=\"#009af9\" fill-rule=\"evenodd\" fill-opacity=\"1\" stroke=\"#000000\" stroke-opacity=\"1\" stroke-width=\"2\"/>\n",
       "<circle clip-path=\"url(#clip732)\" cx=\"1326.28\" cy=\"849.7\" r=\"14\" fill=\"#009af9\" fill-rule=\"evenodd\" fill-opacity=\"1\" stroke=\"#000000\" stroke-opacity=\"1\" stroke-width=\"2\"/>\n",
       "<circle clip-path=\"url(#clip732)\" cx=\"1330.61\" cy=\"672.008\" r=\"14\" fill=\"#009af9\" fill-rule=\"evenodd\" fill-opacity=\"1\" stroke=\"#000000\" stroke-opacity=\"1\" stroke-width=\"2\"/>\n",
       "<circle clip-path=\"url(#clip732)\" cx=\"704.189\" cy=\"575.66\" r=\"14\" fill=\"#009af9\" fill-rule=\"evenodd\" fill-opacity=\"1\" stroke=\"#000000\" stroke-opacity=\"1\" stroke-width=\"2\"/>\n",
       "<circle clip-path=\"url(#clip732)\" cx=\"805.063\" cy=\"672.008\" r=\"14\" fill=\"#009af9\" fill-rule=\"evenodd\" fill-opacity=\"1\" stroke=\"#000000\" stroke-opacity=\"1\" stroke-width=\"2\"/>\n",
       "<circle clip-path=\"url(#clip732)\" cx=\"1714.89\" cy=\"806.228\" r=\"14\" fill=\"#009af9\" fill-rule=\"evenodd\" fill-opacity=\"1\" stroke=\"#000000\" stroke-opacity=\"1\" stroke-width=\"2\"/>\n",
       "<circle clip-path=\"url(#clip732)\" cx=\"1327.53\" cy=\"737.326\" r=\"14\" fill=\"#009af9\" fill-rule=\"evenodd\" fill-opacity=\"1\" stroke=\"#000000\" stroke-opacity=\"1\" stroke-width=\"2\"/>\n",
       "<circle clip-path=\"url(#clip732)\" cx=\"1337.6\" cy=\"806.228\" r=\"14\" fill=\"#009af9\" fill-rule=\"evenodd\" fill-opacity=\"1\" stroke=\"#000000\" stroke-opacity=\"1\" stroke-width=\"2\"/>\n",
       "<circle clip-path=\"url(#clip732)\" cx=\"1714.68\" cy=\"806.228\" r=\"14\" fill=\"#009af9\" fill-rule=\"evenodd\" fill-opacity=\"1\" stroke=\"#000000\" stroke-opacity=\"1\" stroke-width=\"2\"/>\n",
       "<circle clip-path=\"url(#clip732)\" cx=\"861.652\" cy=\"688.833\" r=\"14\" fill=\"#009af9\" fill-rule=\"evenodd\" fill-opacity=\"1\" stroke=\"#000000\" stroke-opacity=\"1\" stroke-width=\"2\"/>\n",
       "<circle clip-path=\"url(#clip732)\" cx=\"841.217\" cy=\"693.853\" r=\"14\" fill=\"#009af9\" fill-rule=\"evenodd\" fill-opacity=\"1\" stroke=\"#000000\" stroke-opacity=\"1\" stroke-width=\"2\"/>\n",
       "<circle clip-path=\"url(#clip732)\" cx=\"373.21\" cy=\"301.369\" r=\"14\" fill=\"#009af9\" fill-rule=\"evenodd\" fill-opacity=\"1\" stroke=\"#000000\" stroke-opacity=\"1\" stroke-width=\"2\"/>\n",
       "<circle clip-path=\"url(#clip732)\" cx=\"1715.59\" cy=\"849.7\" r=\"14\" fill=\"#009af9\" fill-rule=\"evenodd\" fill-opacity=\"1\" stroke=\"#000000\" stroke-opacity=\"1\" stroke-width=\"2\"/>\n",
       "<circle clip-path=\"url(#clip732)\" cx=\"1715\" cy=\"849.7\" r=\"14\" fill=\"#009af9\" fill-rule=\"evenodd\" fill-opacity=\"1\" stroke=\"#000000\" stroke-opacity=\"1\" stroke-width=\"2\"/>\n",
       "<circle clip-path=\"url(#clip732)\" cx=\"1714.23\" cy=\"762.755\" r=\"14\" fill=\"#009af9\" fill-rule=\"evenodd\" fill-opacity=\"1\" stroke=\"#000000\" stroke-opacity=\"1\" stroke-width=\"2\"/>\n",
       "<circle clip-path=\"url(#clip732)\" cx=\"1714.66\" cy=\"762.755\" r=\"14\" fill=\"#009af9\" fill-rule=\"evenodd\" fill-opacity=\"1\" stroke=\"#000000\" stroke-opacity=\"1\" stroke-width=\"2\"/>\n",
       "<circle clip-path=\"url(#clip732)\" cx=\"1327.94\" cy=\"748.76\" r=\"14\" fill=\"#009af9\" fill-rule=\"evenodd\" fill-opacity=\"1\" stroke=\"#000000\" stroke-opacity=\"1\" stroke-width=\"2\"/>\n",
       "<circle clip-path=\"url(#clip732)\" cx=\"1328.56\" cy=\"711.896\" r=\"14\" fill=\"#009af9\" fill-rule=\"evenodd\" fill-opacity=\"1\" stroke=\"#000000\" stroke-opacity=\"1\" stroke-width=\"2\"/>\n",
       "<circle clip-path=\"url(#clip732)\" cx=\"896.367\" cy=\"780.798\" r=\"14\" fill=\"#009af9\" fill-rule=\"evenodd\" fill-opacity=\"1\" stroke=\"#000000\" stroke-opacity=\"1\" stroke-width=\"2\"/>\n",
       "</svg>\n"
      ]
     },
     "execution_count": 29,
     "metadata": {},
     "output_type": "execute_result"
    }
   ],
   "source": [
    "scale = 250\n",
    "Mycelia.plot_kmer_frequency_spectra(values(kmer_counts), size=(2scale,scale), log_scale=log2, title=\"kmer frequencies\")"
   ]
  },
  {
   "cell_type": "code",
   "execution_count": 30,
   "id": "b65107b0-b733-48ac-845b-b2f9e7d3ca8f",
   "metadata": {},
   "outputs": [
    {
     "data": {
      "image/svg+xml": [
       "<?xml version=\"1.0\" encoding=\"utf-8\"?>\n",
       "<svg xmlns=\"http://www.w3.org/2000/svg\" xmlns:xlink=\"http://www.w3.org/1999/xlink\" width=\"600\" height=\"400\" viewBox=\"0 0 2400 1600\">\n",
       "<defs>\n",
       "  <clipPath id=\"clip770\">\n",
       "    <rect x=\"0\" y=\"0\" width=\"2400\" height=\"1600\"/>\n",
       "  </clipPath>\n",
       "</defs>\n",
       "<path clip-path=\"url(#clip770)\" d=\"\n",
       "M0 1600 L2400 1600 L2400 0 L0 0  Z\n",
       "  \" fill=\"#ffffff\" fill-rule=\"evenodd\" fill-opacity=\"1\"/>\n",
       "<defs>\n",
       "  <clipPath id=\"clip771\">\n",
       "    <rect x=\"480\" y=\"0\" width=\"1681\" height=\"1600\"/>\n",
       "  </clipPath>\n",
       "</defs>\n",
       "<path clip-path=\"url(#clip770)\" d=\"\n",
       "M138.959 1486.45 L2352.76 1486.45 L2352.76 47.2441 L138.959 47.2441  Z\n",
       "  \" fill=\"#ffffff\" fill-rule=\"evenodd\" fill-opacity=\"1\"/>\n",
       "<defs>\n",
       "  <clipPath id=\"clip772\">\n",
       "    <rect x=\"138\" y=\"47\" width=\"2215\" height=\"1440\"/>\n",
       "  </clipPath>\n",
       "</defs>\n",
       "<polyline clip-path=\"url(#clip772)\" style=\"stroke:#000000; stroke-linecap:butt; stroke-linejoin:round; stroke-width:2; stroke-opacity:0.1; fill:none\" points=\"\n",
       "  191.172,1486.45 191.172,47.2441 \n",
       "  \"/>\n",
       "<polyline clip-path=\"url(#clip772)\" style=\"stroke:#000000; stroke-linecap:butt; stroke-linejoin:round; stroke-width:2; stroke-opacity:0.1; fill:none\" points=\"\n",
       "  713.293,1486.45 713.293,47.2441 \n",
       "  \"/>\n",
       "<polyline clip-path=\"url(#clip772)\" style=\"stroke:#000000; stroke-linecap:butt; stroke-linejoin:round; stroke-width:2; stroke-opacity:0.1; fill:none\" points=\"\n",
       "  1235.42,1486.45 1235.42,47.2441 \n",
       "  \"/>\n",
       "<polyline clip-path=\"url(#clip772)\" style=\"stroke:#000000; stroke-linecap:butt; stroke-linejoin:round; stroke-width:2; stroke-opacity:0.1; fill:none\" points=\"\n",
       "  1757.54,1486.45 1757.54,47.2441 \n",
       "  \"/>\n",
       "<polyline clip-path=\"url(#clip772)\" style=\"stroke:#000000; stroke-linecap:butt; stroke-linejoin:round; stroke-width:2; stroke-opacity:0.1; fill:none\" points=\"\n",
       "  2279.66,1486.45 2279.66,47.2441 \n",
       "  \"/>\n",
       "<polyline clip-path=\"url(#clip770)\" style=\"stroke:#000000; stroke-linecap:butt; stroke-linejoin:round; stroke-width:4; stroke-opacity:1; fill:none\" points=\"\n",
       "  138.959,1486.45 2352.76,1486.45 \n",
       "  \"/>\n",
       "<polyline clip-path=\"url(#clip770)\" style=\"stroke:#000000; stroke-linecap:butt; stroke-linejoin:round; stroke-width:4; stroke-opacity:1; fill:none\" points=\"\n",
       "  191.172,1486.45 191.172,1467.55 \n",
       "  \"/>\n",
       "<polyline clip-path=\"url(#clip770)\" style=\"stroke:#000000; stroke-linecap:butt; stroke-linejoin:round; stroke-width:4; stroke-opacity:1; fill:none\" points=\"\n",
       "  713.293,1486.45 713.293,1467.55 \n",
       "  \"/>\n",
       "<polyline clip-path=\"url(#clip770)\" style=\"stroke:#000000; stroke-linecap:butt; stroke-linejoin:round; stroke-width:4; stroke-opacity:1; fill:none\" points=\"\n",
       "  1235.42,1486.45 1235.42,1467.55 \n",
       "  \"/>\n",
       "<polyline clip-path=\"url(#clip770)\" style=\"stroke:#000000; stroke-linecap:butt; stroke-linejoin:round; stroke-width:4; stroke-opacity:1; fill:none\" points=\"\n",
       "  1757.54,1486.45 1757.54,1467.55 \n",
       "  \"/>\n",
       "<polyline clip-path=\"url(#clip770)\" style=\"stroke:#000000; stroke-linecap:butt; stroke-linejoin:round; stroke-width:4; stroke-opacity:1; fill:none\" points=\"\n",
       "  2279.66,1486.45 2279.66,1467.55 \n",
       "  \"/>\n",
       "<path clip-path=\"url(#clip770)\" d=\"M191.172 1515.64 Q187.561 1515.64 185.732 1519.2 Q183.926 1522.75 183.926 1529.87 Q183.926 1536.98 185.732 1540.55 Q187.561 1544.09 191.172 1544.09 Q194.806 1544.09 196.611 1540.55 Q198.44 1536.98 198.44 1529.87 Q198.44 1522.75 196.611 1519.2 Q194.806 1515.64 191.172 1515.64 M191.172 1511.93 Q196.982 1511.93 200.037 1516.54 Q203.116 1521.12 203.116 1529.87 Q203.116 1538.6 200.037 1543.21 Q196.982 1547.79 191.172 1547.79 Q185.361 1547.79 182.283 1543.21 Q179.227 1538.6 179.227 1529.87 Q179.227 1521.12 182.283 1516.54 Q185.361 1511.93 191.172 1511.93 Z\" fill=\"#000000\" fill-rule=\"evenodd\" fill-opacity=\"1\" /><path clip-path=\"url(#clip770)\" d=\"M687.993 1512.56 L706.349 1512.56 L706.349 1516.5 L692.275 1516.5 L692.275 1524.97 Q693.294 1524.62 694.312 1524.46 Q695.331 1524.27 696.349 1524.27 Q702.136 1524.27 705.516 1527.44 Q708.895 1530.62 708.895 1536.03 Q708.895 1541.61 705.423 1544.71 Q701.951 1547.79 695.631 1547.79 Q693.456 1547.79 691.187 1547.42 Q688.942 1547.05 686.534 1546.31 L686.534 1541.61 Q688.618 1542.74 690.84 1543.3 Q693.062 1543.86 695.539 1543.86 Q699.544 1543.86 701.881 1541.75 Q704.219 1539.64 704.219 1536.03 Q704.219 1532.42 701.881 1530.31 Q699.544 1528.21 695.539 1528.21 Q693.664 1528.21 691.789 1528.62 Q689.937 1529.04 687.993 1529.92 L687.993 1512.56 Z\" fill=\"#000000\" fill-rule=\"evenodd\" fill-opacity=\"1\" /><path clip-path=\"url(#clip770)\" d=\"M728.108 1515.64 Q724.497 1515.64 722.668 1519.2 Q720.863 1522.75 720.863 1529.87 Q720.863 1536.98 722.668 1540.55 Q724.497 1544.09 728.108 1544.09 Q731.742 1544.09 733.548 1540.55 Q735.377 1536.98 735.377 1529.87 Q735.377 1522.75 733.548 1519.2 Q731.742 1515.64 728.108 1515.64 M728.108 1511.93 Q733.918 1511.93 736.974 1516.54 Q740.053 1521.12 740.053 1529.87 Q740.053 1538.6 736.974 1543.21 Q733.918 1547.79 728.108 1547.79 Q722.298 1547.79 719.219 1543.21 Q716.164 1538.6 716.164 1529.87 Q716.164 1521.12 719.219 1516.54 Q722.298 1511.93 728.108 1511.93 Z\" fill=\"#000000\" fill-rule=\"evenodd\" fill-opacity=\"1\" /><path clip-path=\"url(#clip770)\" d=\"M1195.02 1543.18 L1202.66 1543.18 L1202.66 1516.82 L1194.35 1518.49 L1194.35 1514.23 L1202.61 1512.56 L1207.29 1512.56 L1207.29 1543.18 L1214.93 1543.18 L1214.93 1547.12 L1195.02 1547.12 L1195.02 1543.18 Z\" fill=\"#000000\" fill-rule=\"evenodd\" fill-opacity=\"1\" /><path clip-path=\"url(#clip770)\" d=\"M1234.37 1515.64 Q1230.76 1515.64 1228.93 1519.2 Q1227.13 1522.75 1227.13 1529.87 Q1227.13 1536.98 1228.93 1540.55 Q1230.76 1544.09 1234.37 1544.09 Q1238.01 1544.09 1239.81 1540.55 Q1241.64 1536.98 1241.64 1529.87 Q1241.64 1522.75 1239.81 1519.2 Q1238.01 1515.64 1234.37 1515.64 M1234.37 1511.93 Q1240.18 1511.93 1243.24 1516.54 Q1246.32 1521.12 1246.32 1529.87 Q1246.32 1538.6 1243.24 1543.21 Q1240.18 1547.79 1234.37 1547.79 Q1228.56 1547.79 1225.48 1543.21 Q1222.43 1538.6 1222.43 1529.87 Q1222.43 1521.12 1225.48 1516.54 Q1228.56 1511.93 1234.37 1511.93 Z\" fill=\"#000000\" fill-rule=\"evenodd\" fill-opacity=\"1\" /><path clip-path=\"url(#clip770)\" d=\"M1264.54 1515.64 Q1260.92 1515.64 1259.1 1519.2 Q1257.29 1522.75 1257.29 1529.87 Q1257.29 1536.98 1259.1 1540.55 Q1260.92 1544.09 1264.54 1544.09 Q1268.17 1544.09 1269.98 1540.55 Q1271.8 1536.98 1271.8 1529.87 Q1271.8 1522.75 1269.98 1519.2 Q1268.17 1515.64 1264.54 1515.64 M1264.54 1511.93 Q1270.35 1511.93 1273.4 1516.54 Q1276.48 1521.12 1276.48 1529.87 Q1276.48 1538.6 1273.4 1543.21 Q1270.35 1547.79 1264.54 1547.79 Q1258.73 1547.79 1255.65 1543.21 Q1252.59 1538.6 1252.59 1529.87 Q1252.59 1521.12 1255.65 1516.54 Q1258.73 1511.93 1264.54 1511.93 Z\" fill=\"#000000\" fill-rule=\"evenodd\" fill-opacity=\"1\" /><path clip-path=\"url(#clip770)\" d=\"M1717.14 1543.18 L1724.78 1543.18 L1724.78 1516.82 L1716.47 1518.49 L1716.47 1514.23 L1724.74 1512.56 L1729.41 1512.56 L1729.41 1543.18 L1737.05 1543.18 L1737.05 1547.12 L1717.14 1547.12 L1717.14 1543.18 Z\" fill=\"#000000\" fill-rule=\"evenodd\" fill-opacity=\"1\" /><path clip-path=\"url(#clip770)\" d=\"M1746.54 1512.56 L1764.9 1512.56 L1764.9 1516.5 L1750.82 1516.5 L1750.82 1524.97 Q1751.84 1524.62 1752.86 1524.46 Q1753.88 1524.27 1754.9 1524.27 Q1760.69 1524.27 1764.06 1527.44 Q1767.44 1530.62 1767.44 1536.03 Q1767.44 1541.61 1763.97 1544.71 Q1760.5 1547.79 1754.18 1547.79 Q1752 1547.79 1749.74 1547.42 Q1747.49 1547.05 1745.08 1546.31 L1745.08 1541.61 Q1747.17 1542.74 1749.39 1543.3 Q1751.61 1543.86 1754.09 1543.86 Q1758.09 1543.86 1760.43 1541.75 Q1762.77 1539.64 1762.77 1536.03 Q1762.77 1532.42 1760.43 1530.31 Q1758.09 1528.21 1754.09 1528.21 Q1752.21 1528.21 1750.34 1528.62 Q1748.49 1529.04 1746.54 1529.92 L1746.54 1512.56 Z\" fill=\"#000000\" fill-rule=\"evenodd\" fill-opacity=\"1\" /><path clip-path=\"url(#clip770)\" d=\"M1786.66 1515.64 Q1783.05 1515.64 1781.22 1519.2 Q1779.41 1522.75 1779.41 1529.87 Q1779.41 1536.98 1781.22 1540.55 Q1783.05 1544.09 1786.66 1544.09 Q1790.29 1544.09 1792.1 1540.55 Q1793.93 1536.98 1793.93 1529.87 Q1793.93 1522.75 1792.1 1519.2 Q1790.29 1515.64 1786.66 1515.64 M1786.66 1511.93 Q1792.47 1511.93 1795.52 1516.54 Q1798.6 1521.12 1798.6 1529.87 Q1798.6 1538.6 1795.52 1543.21 Q1792.47 1547.79 1786.66 1547.79 Q1780.85 1547.79 1777.77 1543.21 Q1774.71 1538.6 1774.71 1529.87 Q1774.71 1521.12 1777.77 1516.54 Q1780.85 1511.93 1786.66 1511.93 Z\" fill=\"#000000\" fill-rule=\"evenodd\" fill-opacity=\"1\" /><path clip-path=\"url(#clip770)\" d=\"M2243.35 1543.18 L2259.67 1543.18 L2259.67 1547.12 L2237.73 1547.12 L2237.73 1543.18 Q2240.39 1540.43 2244.97 1535.8 Q2249.58 1531.15 2250.76 1529.81 Q2253 1527.28 2253.88 1525.55 Q2254.79 1523.79 2254.79 1522.1 Q2254.79 1519.34 2252.84 1517.61 Q2250.92 1515.87 2247.82 1515.87 Q2245.62 1515.87 2243.17 1516.63 Q2240.74 1517.4 2237.96 1518.95 L2237.96 1514.23 Q2240.78 1513.09 2243.24 1512.51 Q2245.69 1511.93 2247.73 1511.93 Q2253.1 1511.93 2256.29 1514.62 Q2259.49 1517.31 2259.49 1521.8 Q2259.49 1523.93 2258.68 1525.85 Q2257.89 1527.74 2255.78 1530.34 Q2255.2 1531.01 2252.1 1534.23 Q2249 1537.42 2243.35 1543.18 Z\" fill=\"#000000\" fill-rule=\"evenodd\" fill-opacity=\"1\" /><path clip-path=\"url(#clip770)\" d=\"M2279.49 1515.64 Q2275.87 1515.64 2274.05 1519.2 Q2272.24 1522.75 2272.24 1529.87 Q2272.24 1536.98 2274.05 1540.55 Q2275.87 1544.09 2279.49 1544.09 Q2283.12 1544.09 2284.93 1540.55 Q2286.75 1536.98 2286.75 1529.87 Q2286.75 1522.75 2284.93 1519.2 Q2283.12 1515.64 2279.49 1515.64 M2279.49 1511.93 Q2285.3 1511.93 2288.35 1516.54 Q2291.43 1521.12 2291.43 1529.87 Q2291.43 1538.6 2288.35 1543.21 Q2285.3 1547.79 2279.49 1547.79 Q2273.68 1547.79 2270.6 1543.21 Q2267.54 1538.6 2267.54 1529.87 Q2267.54 1521.12 2270.6 1516.54 Q2273.68 1511.93 2279.49 1511.93 Z\" fill=\"#000000\" fill-rule=\"evenodd\" fill-opacity=\"1\" /><path clip-path=\"url(#clip770)\" d=\"M2309.65 1515.64 Q2306.04 1515.64 2304.21 1519.2 Q2302.4 1522.75 2302.4 1529.87 Q2302.4 1536.98 2304.21 1540.55 Q2306.04 1544.09 2309.65 1544.09 Q2313.28 1544.09 2315.09 1540.55 Q2316.92 1536.98 2316.92 1529.87 Q2316.92 1522.75 2315.09 1519.2 Q2313.28 1515.64 2309.65 1515.64 M2309.65 1511.93 Q2315.46 1511.93 2318.51 1516.54 Q2321.59 1521.12 2321.59 1529.87 Q2321.59 1538.6 2318.51 1543.21 Q2315.46 1547.79 2309.65 1547.79 Q2303.84 1547.79 2300.76 1543.21 Q2297.7 1538.6 2297.7 1529.87 Q2297.7 1521.12 2300.76 1516.54 Q2303.84 1511.93 2309.65 1511.93 Z\" fill=\"#000000\" fill-rule=\"evenodd\" fill-opacity=\"1\" /><polyline clip-path=\"url(#clip772)\" style=\"stroke:#000000; stroke-linecap:butt; stroke-linejoin:round; stroke-width:2; stroke-opacity:0.1; fill:none\" points=\"\n",
       "  138.959,1445.72 2352.76,1445.72 \n",
       "  \"/>\n",
       "<polyline clip-path=\"url(#clip772)\" style=\"stroke:#000000; stroke-linecap:butt; stroke-linejoin:round; stroke-width:2; stroke-opacity:0.1; fill:none\" points=\"\n",
       "  138.959,1236.55 2352.76,1236.55 \n",
       "  \"/>\n",
       "<polyline clip-path=\"url(#clip772)\" style=\"stroke:#000000; stroke-linecap:butt; stroke-linejoin:round; stroke-width:2; stroke-opacity:0.1; fill:none\" points=\"\n",
       "  138.959,1027.39 2352.76,1027.39 \n",
       "  \"/>\n",
       "<polyline clip-path=\"url(#clip772)\" style=\"stroke:#000000; stroke-linecap:butt; stroke-linejoin:round; stroke-width:2; stroke-opacity:0.1; fill:none\" points=\"\n",
       "  138.959,818.229 2352.76,818.229 \n",
       "  \"/>\n",
       "<polyline clip-path=\"url(#clip772)\" style=\"stroke:#000000; stroke-linecap:butt; stroke-linejoin:round; stroke-width:2; stroke-opacity:0.1; fill:none\" points=\"\n",
       "  138.959,609.066 2352.76,609.066 \n",
       "  \"/>\n",
       "<polyline clip-path=\"url(#clip772)\" style=\"stroke:#000000; stroke-linecap:butt; stroke-linejoin:round; stroke-width:2; stroke-opacity:0.1; fill:none\" points=\"\n",
       "  138.959,399.904 2352.76,399.904 \n",
       "  \"/>\n",
       "<polyline clip-path=\"url(#clip772)\" style=\"stroke:#000000; stroke-linecap:butt; stroke-linejoin:round; stroke-width:2; stroke-opacity:0.1; fill:none\" points=\"\n",
       "  138.959,190.742 2352.76,190.742 \n",
       "  \"/>\n",
       "<polyline clip-path=\"url(#clip770)\" style=\"stroke:#000000; stroke-linecap:butt; stroke-linejoin:round; stroke-width:4; stroke-opacity:1; fill:none\" points=\"\n",
       "  138.959,1486.45 138.959,47.2441 \n",
       "  \"/>\n",
       "<polyline clip-path=\"url(#clip770)\" style=\"stroke:#000000; stroke-linecap:butt; stroke-linejoin:round; stroke-width:4; stroke-opacity:1; fill:none\" points=\"\n",
       "  138.959,1445.72 157.857,1445.72 \n",
       "  \"/>\n",
       "<polyline clip-path=\"url(#clip770)\" style=\"stroke:#000000; stroke-linecap:butt; stroke-linejoin:round; stroke-width:4; stroke-opacity:1; fill:none\" points=\"\n",
       "  138.959,1236.55 157.857,1236.55 \n",
       "  \"/>\n",
       "<polyline clip-path=\"url(#clip770)\" style=\"stroke:#000000; stroke-linecap:butt; stroke-linejoin:round; stroke-width:4; stroke-opacity:1; fill:none\" points=\"\n",
       "  138.959,1027.39 157.857,1027.39 \n",
       "  \"/>\n",
       "<polyline clip-path=\"url(#clip770)\" style=\"stroke:#000000; stroke-linecap:butt; stroke-linejoin:round; stroke-width:4; stroke-opacity:1; fill:none\" points=\"\n",
       "  138.959,818.229 157.857,818.229 \n",
       "  \"/>\n",
       "<polyline clip-path=\"url(#clip770)\" style=\"stroke:#000000; stroke-linecap:butt; stroke-linejoin:round; stroke-width:4; stroke-opacity:1; fill:none\" points=\"\n",
       "  138.959,609.066 157.857,609.066 \n",
       "  \"/>\n",
       "<polyline clip-path=\"url(#clip770)\" style=\"stroke:#000000; stroke-linecap:butt; stroke-linejoin:round; stroke-width:4; stroke-opacity:1; fill:none\" points=\"\n",
       "  138.959,399.904 157.857,399.904 \n",
       "  \"/>\n",
       "<polyline clip-path=\"url(#clip770)\" style=\"stroke:#000000; stroke-linecap:butt; stroke-linejoin:round; stroke-width:4; stroke-opacity:1; fill:none\" points=\"\n",
       "  138.959,190.742 157.857,190.742 \n",
       "  \"/>\n",
       "<path clip-path=\"url(#clip770)\" d=\"M91.0151 1431.51 Q87.404 1431.51 85.5753 1435.08 Q83.7697 1438.62 83.7697 1445.75 Q83.7697 1452.86 85.5753 1456.42 Q87.404 1459.96 91.0151 1459.96 Q94.6493 1459.96 96.4548 1456.42 Q98.2835 1452.86 98.2835 1445.75 Q98.2835 1438.62 96.4548 1435.08 Q94.6493 1431.51 91.0151 1431.51 M91.0151 1427.81 Q96.8252 1427.81 99.8808 1432.42 Q102.959 1437 102.959 1445.75 Q102.959 1454.48 99.8808 1459.08 Q96.8252 1463.67 91.0151 1463.67 Q85.2049 1463.67 82.1262 1459.08 Q79.0707 1454.48 79.0707 1445.75 Q79.0707 1437 82.1262 1432.42 Q85.2049 1427.81 91.0151 1427.81 Z\" fill=\"#000000\" fill-rule=\"evenodd\" fill-opacity=\"1\" /><path clip-path=\"url(#clip770)\" d=\"M86.6401 1249.9 L102.959 1249.9 L102.959 1253.83 L81.0151 1253.83 L81.0151 1249.9 Q83.6771 1247.14 88.2604 1242.51 Q92.8669 1237.86 94.0475 1236.52 Q96.2928 1234 97.1724 1232.26 Q98.0752 1230.5 98.0752 1228.81 Q98.0752 1226.06 96.1308 1224.32 Q94.2095 1222.58 91.1077 1222.58 Q88.9086 1222.58 86.4549 1223.35 Q84.0244 1224.11 81.2466 1225.66 L81.2466 1220.94 Q84.0707 1219.81 86.5243 1219.23 Q88.978 1218.65 91.0151 1218.65 Q96.3854 1218.65 99.5798 1221.33 Q102.774 1224.02 102.774 1228.51 Q102.774 1230.64 101.964 1232.56 Q101.177 1234.46 99.0706 1237.05 Q98.4919 1237.72 95.39 1240.94 Q92.2882 1244.13 86.6401 1249.9 Z\" fill=\"#000000\" fill-rule=\"evenodd\" fill-opacity=\"1\" /><path clip-path=\"url(#clip770)\" d=\"M93.3762 1014.19 L81.5707 1032.63 L93.3762 1032.63 L93.3762 1014.19 M92.1493 1010.11 L98.0289 1010.11 L98.0289 1032.63 L102.959 1032.63 L102.959 1036.52 L98.0289 1036.52 L98.0289 1044.67 L93.3762 1044.67 L93.3762 1036.52 L77.7744 1036.52 L77.7744 1032.01 L92.1493 1010.11 Z\" fill=\"#000000\" fill-rule=\"evenodd\" fill-opacity=\"1\" /><path clip-path=\"url(#clip770)\" d=\"M91.4317 816.365 Q88.2836 816.365 86.4318 818.518 Q84.6031 820.671 84.6031 824.421 Q84.6031 828.148 86.4318 830.323 Q88.2836 832.476 91.4317 832.476 Q94.5799 832.476 96.4085 830.323 Q98.2604 828.148 98.2604 824.421 Q98.2604 820.671 96.4085 818.518 Q94.5799 816.365 91.4317 816.365 M100.714 801.713 L100.714 805.972 Q98.9548 805.138 97.1493 804.699 Q95.3669 804.259 93.6076 804.259 Q88.978 804.259 86.5243 807.384 Q84.0938 810.509 83.7466 816.828 Q85.1123 814.814 87.1725 813.75 Q89.2327 812.662 91.7095 812.662 Q96.9178 812.662 99.927 815.833 Q102.959 818.981 102.959 824.421 Q102.959 829.745 99.8113 832.962 Q96.6632 836.18 91.4317 836.18 Q85.4364 836.18 82.2651 831.597 Q79.0938 826.99 79.0938 818.263 Q79.0938 810.069 82.9827 805.208 Q86.8716 800.324 93.4225 800.324 Q95.1817 800.324 96.9641 800.671 Q98.7696 801.018 100.714 801.713 Z\" fill=\"#000000\" fill-rule=\"evenodd\" fill-opacity=\"1\" /><path clip-path=\"url(#clip770)\" d=\"M91.1077 609.934 Q87.7743 609.934 85.8531 611.717 Q83.9549 613.499 83.9549 616.624 Q83.9549 619.749 85.8531 621.532 Q87.7743 623.314 91.1077 623.314 Q94.441 623.314 96.3623 621.532 Q98.2835 619.726 98.2835 616.624 Q98.2835 613.499 96.3623 611.717 Q94.4641 609.934 91.1077 609.934 M86.4318 607.944 Q83.4225 607.203 81.7327 605.143 Q80.066 603.083 80.066 600.12 Q80.066 595.976 83.0058 593.569 Q85.9688 591.161 91.1077 591.161 Q96.2697 591.161 99.2095 593.569 Q102.149 595.976 102.149 600.12 Q102.149 603.083 100.459 605.143 Q98.7928 607.203 95.8067 607.944 Q99.1863 608.731 101.061 611.022 Q102.959 613.314 102.959 616.624 Q102.959 621.647 99.8808 624.332 Q96.8252 627.018 91.1077 627.018 Q85.3901 627.018 82.3114 624.332 Q79.2559 621.647 79.2559 616.624 Q79.2559 613.314 81.154 611.022 Q83.0521 608.731 86.4318 607.944 M84.7188 600.559 Q84.7188 603.245 86.3855 604.749 Q88.0753 606.254 91.1077 606.254 Q94.1169 606.254 95.8067 604.749 Q97.5197 603.245 97.5197 600.559 Q97.5197 597.874 95.8067 596.37 Q94.1169 594.865 91.1077 594.865 Q88.0753 594.865 86.3855 596.37 Q84.7188 597.874 84.7188 600.559 Z\" fill=\"#000000\" fill-rule=\"evenodd\" fill-opacity=\"1\" /><path clip-path=\"url(#clip770)\" d=\"M51.6634 413.249 L59.3023 413.249 L59.3023 386.883 L50.9921 388.55 L50.9921 384.291 L59.256 382.624 L63.9319 382.624 L63.9319 413.249 L71.5707 413.249 L71.5707 417.184 L51.6634 417.184 L51.6634 413.249 Z\" fill=\"#000000\" fill-rule=\"evenodd\" fill-opacity=\"1\" /><path clip-path=\"url(#clip770)\" d=\"M91.0151 385.703 Q87.404 385.703 85.5753 389.267 Q83.7697 392.809 83.7697 399.939 Q83.7697 407.045 85.5753 410.61 Q87.404 414.152 91.0151 414.152 Q94.6493 414.152 96.4548 410.61 Q98.2835 407.045 98.2835 399.939 Q98.2835 392.809 96.4548 389.267 Q94.6493 385.703 91.0151 385.703 M91.0151 381.999 Q96.8252 381.999 99.8808 386.605 Q102.959 391.189 102.959 399.939 Q102.959 408.665 99.8808 413.272 Q96.8252 417.855 91.0151 417.855 Q85.2049 417.855 82.1262 413.272 Q79.0707 408.665 79.0707 399.939 Q79.0707 391.189 82.1262 386.605 Q85.2049 381.999 91.0151 381.999 Z\" fill=\"#000000\" fill-rule=\"evenodd\" fill-opacity=\"1\" /><path clip-path=\"url(#clip770)\" d=\"M53.2606 204.086 L60.8995 204.086 L60.8995 177.721 L52.5893 179.388 L52.5893 175.128 L60.8532 173.462 L65.5291 173.462 L65.5291 204.086 L73.1679 204.086 L73.1679 208.022 L53.2606 208.022 L53.2606 204.086 Z\" fill=\"#000000\" fill-rule=\"evenodd\" fill-opacity=\"1\" /><path clip-path=\"url(#clip770)\" d=\"M86.6401 204.086 L102.959 204.086 L102.959 208.022 L81.0151 208.022 L81.0151 204.086 Q83.6771 201.332 88.2604 196.702 Q92.8669 192.049 94.0475 190.707 Q96.2928 188.184 97.1724 186.448 Q98.0752 184.688 98.0752 182.999 Q98.0752 180.244 96.1308 178.508 Q94.2095 176.772 91.1077 176.772 Q88.9086 176.772 86.4549 177.536 Q84.0244 178.3 81.2466 179.85 L81.2466 175.128 Q84.0707 173.994 86.5243 173.415 Q88.978 172.837 91.0151 172.837 Q96.3854 172.837 99.5798 175.522 Q102.774 178.207 102.774 182.698 Q102.774 184.827 101.964 186.749 Q101.177 188.647 99.0706 191.239 Q98.4919 191.911 95.39 195.128 Q92.2882 198.323 86.6401 204.086 Z\" fill=\"#000000\" fill-rule=\"evenodd\" fill-opacity=\"1\" /><circle clip-path=\"url(#clip772)\" cx=\"201.614\" cy=\"1445.72\" r=\"14\" fill=\"#009af9\" fill-rule=\"evenodd\" fill-opacity=\"1\" stroke=\"#000000\" stroke-opacity=\"1\" stroke-width=\"3.2\"/>\n",
       "<circle clip-path=\"url(#clip772)\" cx=\"212.056\" cy=\"1341.13\" r=\"14\" fill=\"#009af9\" fill-rule=\"evenodd\" fill-opacity=\"1\" stroke=\"#000000\" stroke-opacity=\"1\" stroke-width=\"3.2\"/>\n",
       "<circle clip-path=\"url(#clip772)\" cx=\"222.499\" cy=\"1279.96\" r=\"14\" fill=\"#009af9\" fill-rule=\"evenodd\" fill-opacity=\"1\" stroke=\"#000000\" stroke-opacity=\"1\" stroke-width=\"3.2\"/>\n",
       "<circle clip-path=\"url(#clip772)\" cx=\"232.941\" cy=\"1236.55\" r=\"14\" fill=\"#009af9\" fill-rule=\"evenodd\" fill-opacity=\"1\" stroke=\"#000000\" stroke-opacity=\"1\" stroke-width=\"3.2\"/>\n",
       "<circle clip-path=\"url(#clip772)\" cx=\"243.384\" cy=\"1202.89\" r=\"14\" fill=\"#009af9\" fill-rule=\"evenodd\" fill-opacity=\"1\" stroke=\"#000000\" stroke-opacity=\"1\" stroke-width=\"3.2\"/>\n",
       "<circle clip-path=\"url(#clip772)\" cx=\"253.826\" cy=\"1175.38\" r=\"14\" fill=\"#009af9\" fill-rule=\"evenodd\" fill-opacity=\"1\" stroke=\"#000000\" stroke-opacity=\"1\" stroke-width=\"3.2\"/>\n",
       "<circle clip-path=\"url(#clip772)\" cx=\"264.269\" cy=\"1152.12\" r=\"14\" fill=\"#009af9\" fill-rule=\"evenodd\" fill-opacity=\"1\" stroke=\"#000000\" stroke-opacity=\"1\" stroke-width=\"3.2\"/>\n",
       "<circle clip-path=\"url(#clip772)\" cx=\"274.711\" cy=\"1131.97\" r=\"14\" fill=\"#009af9\" fill-rule=\"evenodd\" fill-opacity=\"1\" stroke=\"#000000\" stroke-opacity=\"1\" stroke-width=\"3.2\"/>\n",
       "<circle clip-path=\"url(#clip772)\" cx=\"285.154\" cy=\"1114.2\" r=\"14\" fill=\"#009af9\" fill-rule=\"evenodd\" fill-opacity=\"1\" stroke=\"#000000\" stroke-opacity=\"1\" stroke-width=\"3.2\"/>\n",
       "<circle clip-path=\"url(#clip772)\" cx=\"295.596\" cy=\"1098.3\" r=\"14\" fill=\"#009af9\" fill-rule=\"evenodd\" fill-opacity=\"1\" stroke=\"#000000\" stroke-opacity=\"1\" stroke-width=\"3.2\"/>\n",
       "<circle clip-path=\"url(#clip772)\" cx=\"306.038\" cy=\"1083.92\" r=\"14\" fill=\"#009af9\" fill-rule=\"evenodd\" fill-opacity=\"1\" stroke=\"#000000\" stroke-opacity=\"1\" stroke-width=\"3.2\"/>\n",
       "<circle clip-path=\"url(#clip772)\" cx=\"316.481\" cy=\"1070.8\" r=\"14\" fill=\"#009af9\" fill-rule=\"evenodd\" fill-opacity=\"1\" stroke=\"#000000\" stroke-opacity=\"1\" stroke-width=\"3.2\"/>\n",
       "<circle clip-path=\"url(#clip772)\" cx=\"326.923\" cy=\"1058.72\" r=\"14\" fill=\"#009af9\" fill-rule=\"evenodd\" fill-opacity=\"1\" stroke=\"#000000\" stroke-opacity=\"1\" stroke-width=\"3.2\"/>\n",
       "<circle clip-path=\"url(#clip772)\" cx=\"337.366\" cy=\"1047.54\" r=\"14\" fill=\"#009af9\" fill-rule=\"evenodd\" fill-opacity=\"1\" stroke=\"#000000\" stroke-opacity=\"1\" stroke-width=\"3.2\"/>\n",
       "<circle clip-path=\"url(#clip772)\" cx=\"347.808\" cy=\"1037.13\" r=\"14\" fill=\"#009af9\" fill-rule=\"evenodd\" fill-opacity=\"1\" stroke=\"#000000\" stroke-opacity=\"1\" stroke-width=\"3.2\"/>\n",
       "<circle clip-path=\"url(#clip772)\" cx=\"358.251\" cy=\"1027.39\" r=\"14\" fill=\"#009af9\" fill-rule=\"evenodd\" fill-opacity=\"1\" stroke=\"#000000\" stroke-opacity=\"1\" stroke-width=\"3.2\"/>\n",
       "<circle clip-path=\"url(#clip772)\" cx=\"368.693\" cy=\"1018.24\" r=\"14\" fill=\"#009af9\" fill-rule=\"evenodd\" fill-opacity=\"1\" stroke=\"#000000\" stroke-opacity=\"1\" stroke-width=\"3.2\"/>\n",
       "<circle clip-path=\"url(#clip772)\" cx=\"379.135\" cy=\"1009.62\" r=\"14\" fill=\"#009af9\" fill-rule=\"evenodd\" fill-opacity=\"1\" stroke=\"#000000\" stroke-opacity=\"1\" stroke-width=\"3.2\"/>\n",
       "<circle clip-path=\"url(#clip772)\" cx=\"389.578\" cy=\"1001.46\" r=\"14\" fill=\"#009af9\" fill-rule=\"evenodd\" fill-opacity=\"1\" stroke=\"#000000\" stroke-opacity=\"1\" stroke-width=\"3.2\"/>\n",
       "<circle clip-path=\"url(#clip772)\" cx=\"400.02\" cy=\"993.723\" r=\"14\" fill=\"#009af9\" fill-rule=\"evenodd\" fill-opacity=\"1\" stroke=\"#000000\" stroke-opacity=\"1\" stroke-width=\"3.2\"/>\n",
       "<circle clip-path=\"url(#clip772)\" cx=\"410.463\" cy=\"986.362\" r=\"14\" fill=\"#009af9\" fill-rule=\"evenodd\" fill-opacity=\"1\" stroke=\"#000000\" stroke-opacity=\"1\" stroke-width=\"3.2\"/>\n",
       "<circle clip-path=\"url(#clip772)\" cx=\"420.905\" cy=\"979.343\" r=\"14\" fill=\"#009af9\" fill-rule=\"evenodd\" fill-opacity=\"1\" stroke=\"#000000\" stroke-opacity=\"1\" stroke-width=\"3.2\"/>\n",
       "<circle clip-path=\"url(#clip772)\" cx=\"431.348\" cy=\"972.636\" r=\"14\" fill=\"#009af9\" fill-rule=\"evenodd\" fill-opacity=\"1\" stroke=\"#000000\" stroke-opacity=\"1\" stroke-width=\"3.2\"/>\n",
       "<circle clip-path=\"url(#clip772)\" cx=\"441.79\" cy=\"966.215\" r=\"14\" fill=\"#009af9\" fill-rule=\"evenodd\" fill-opacity=\"1\" stroke=\"#000000\" stroke-opacity=\"1\" stroke-width=\"3.2\"/>\n",
       "<circle clip-path=\"url(#clip772)\" cx=\"452.233\" cy=\"960.056\" r=\"14\" fill=\"#009af9\" fill-rule=\"evenodd\" fill-opacity=\"1\" stroke=\"#000000\" stroke-opacity=\"1\" stroke-width=\"3.2\"/>\n",
       "<circle clip-path=\"url(#clip772)\" cx=\"462.675\" cy=\"954.138\" r=\"14\" fill=\"#009af9\" fill-rule=\"evenodd\" fill-opacity=\"1\" stroke=\"#000000\" stroke-opacity=\"1\" stroke-width=\"3.2\"/>\n",
       "<circle clip-path=\"url(#clip772)\" cx=\"473.117\" cy=\"948.444\" r=\"14\" fill=\"#009af9\" fill-rule=\"evenodd\" fill-opacity=\"1\" stroke=\"#000000\" stroke-opacity=\"1\" stroke-width=\"3.2\"/>\n",
       "<circle clip-path=\"url(#clip772)\" cx=\"483.56\" cy=\"942.957\" r=\"14\" fill=\"#009af9\" fill-rule=\"evenodd\" fill-opacity=\"1\" stroke=\"#000000\" stroke-opacity=\"1\" stroke-width=\"3.2\"/>\n",
       "<circle clip-path=\"url(#clip772)\" cx=\"494.002\" cy=\"937.662\" r=\"14\" fill=\"#009af9\" fill-rule=\"evenodd\" fill-opacity=\"1\" stroke=\"#000000\" stroke-opacity=\"1\" stroke-width=\"3.2\"/>\n",
       "<circle clip-path=\"url(#clip772)\" cx=\"504.445\" cy=\"932.547\" r=\"14\" fill=\"#009af9\" fill-rule=\"evenodd\" fill-opacity=\"1\" stroke=\"#000000\" stroke-opacity=\"1\" stroke-width=\"3.2\"/>\n",
       "<circle clip-path=\"url(#clip772)\" cx=\"514.887\" cy=\"927.6\" r=\"14\" fill=\"#009af9\" fill-rule=\"evenodd\" fill-opacity=\"1\" stroke=\"#000000\" stroke-opacity=\"1\" stroke-width=\"3.2\"/>\n",
       "<circle clip-path=\"url(#clip772)\" cx=\"525.33\" cy=\"922.81\" r=\"14\" fill=\"#009af9\" fill-rule=\"evenodd\" fill-opacity=\"1\" stroke=\"#000000\" stroke-opacity=\"1\" stroke-width=\"3.2\"/>\n",
       "<circle clip-path=\"url(#clip772)\" cx=\"535.772\" cy=\"918.167\" r=\"14\" fill=\"#009af9\" fill-rule=\"evenodd\" fill-opacity=\"1\" stroke=\"#000000\" stroke-opacity=\"1\" stroke-width=\"3.2\"/>\n",
       "<circle clip-path=\"url(#clip772)\" cx=\"546.214\" cy=\"913.663\" r=\"14\" fill=\"#009af9\" fill-rule=\"evenodd\" fill-opacity=\"1\" stroke=\"#000000\" stroke-opacity=\"1\" stroke-width=\"3.2\"/>\n",
       "<circle clip-path=\"url(#clip772)\" cx=\"556.657\" cy=\"909.289\" r=\"14\" fill=\"#009af9\" fill-rule=\"evenodd\" fill-opacity=\"1\" stroke=\"#000000\" stroke-opacity=\"1\" stroke-width=\"3.2\"/>\n",
       "<circle clip-path=\"url(#clip772)\" cx=\"567.099\" cy=\"905.039\" r=\"14\" fill=\"#009af9\" fill-rule=\"evenodd\" fill-opacity=\"1\" stroke=\"#000000\" stroke-opacity=\"1\" stroke-width=\"3.2\"/>\n",
       "<circle clip-path=\"url(#clip772)\" cx=\"577.542\" cy=\"900.905\" r=\"14\" fill=\"#009af9\" fill-rule=\"evenodd\" fill-opacity=\"1\" stroke=\"#000000\" stroke-opacity=\"1\" stroke-width=\"3.2\"/>\n",
       "<circle clip-path=\"url(#clip772)\" cx=\"587.984\" cy=\"896.881\" r=\"14\" fill=\"#009af9\" fill-rule=\"evenodd\" fill-opacity=\"1\" stroke=\"#000000\" stroke-opacity=\"1\" stroke-width=\"3.2\"/>\n",
       "<circle clip-path=\"url(#clip772)\" cx=\"598.427\" cy=\"892.962\" r=\"14\" fill=\"#009af9\" fill-rule=\"evenodd\" fill-opacity=\"1\" stroke=\"#000000\" stroke-opacity=\"1\" stroke-width=\"3.2\"/>\n",
       "<circle clip-path=\"url(#clip772)\" cx=\"608.869\" cy=\"889.142\" r=\"14\" fill=\"#009af9\" fill-rule=\"evenodd\" fill-opacity=\"1\" stroke=\"#000000\" stroke-opacity=\"1\" stroke-width=\"3.2\"/>\n",
       "<circle clip-path=\"url(#clip772)\" cx=\"619.312\" cy=\"885.417\" r=\"14\" fill=\"#009af9\" fill-rule=\"evenodd\" fill-opacity=\"1\" stroke=\"#000000\" stroke-opacity=\"1\" stroke-width=\"3.2\"/>\n",
       "<circle clip-path=\"url(#clip772)\" cx=\"629.754\" cy=\"881.781\" r=\"14\" fill=\"#009af9\" fill-rule=\"evenodd\" fill-opacity=\"1\" stroke=\"#000000\" stroke-opacity=\"1\" stroke-width=\"3.2\"/>\n",
       "<circle clip-path=\"url(#clip772)\" cx=\"640.196\" cy=\"878.231\" r=\"14\" fill=\"#009af9\" fill-rule=\"evenodd\" fill-opacity=\"1\" stroke=\"#000000\" stroke-opacity=\"1\" stroke-width=\"3.2\"/>\n",
       "<circle clip-path=\"url(#clip772)\" cx=\"650.639\" cy=\"874.762\" r=\"14\" fill=\"#009af9\" fill-rule=\"evenodd\" fill-opacity=\"1\" stroke=\"#000000\" stroke-opacity=\"1\" stroke-width=\"3.2\"/>\n",
       "<circle clip-path=\"url(#clip772)\" cx=\"661.081\" cy=\"871.371\" r=\"14\" fill=\"#009af9\" fill-rule=\"evenodd\" fill-opacity=\"1\" stroke=\"#000000\" stroke-opacity=\"1\" stroke-width=\"3.2\"/>\n",
       "<circle clip-path=\"url(#clip772)\" cx=\"671.524\" cy=\"868.055\" r=\"14\" fill=\"#009af9\" fill-rule=\"evenodd\" fill-opacity=\"1\" stroke=\"#000000\" stroke-opacity=\"1\" stroke-width=\"3.2\"/>\n",
       "<circle clip-path=\"url(#clip772)\" cx=\"681.966\" cy=\"864.81\" r=\"14\" fill=\"#009af9\" fill-rule=\"evenodd\" fill-opacity=\"1\" stroke=\"#000000\" stroke-opacity=\"1\" stroke-width=\"3.2\"/>\n",
       "<circle clip-path=\"url(#clip772)\" cx=\"692.409\" cy=\"861.634\" r=\"14\" fill=\"#009af9\" fill-rule=\"evenodd\" fill-opacity=\"1\" stroke=\"#000000\" stroke-opacity=\"1\" stroke-width=\"3.2\"/>\n",
       "<circle clip-path=\"url(#clip772)\" cx=\"702.851\" cy=\"858.523\" r=\"14\" fill=\"#009af9\" fill-rule=\"evenodd\" fill-opacity=\"1\" stroke=\"#000000\" stroke-opacity=\"1\" stroke-width=\"3.2\"/>\n",
       "<circle clip-path=\"url(#clip772)\" cx=\"713.293\" cy=\"855.475\" r=\"14\" fill=\"#009af9\" fill-rule=\"evenodd\" fill-opacity=\"1\" stroke=\"#000000\" stroke-opacity=\"1\" stroke-width=\"3.2\"/>\n",
       "<circle clip-path=\"url(#clip772)\" cx=\"723.736\" cy=\"852.487\" r=\"14\" fill=\"#009af9\" fill-rule=\"evenodd\" fill-opacity=\"1\" stroke=\"#000000\" stroke-opacity=\"1\" stroke-width=\"3.2\"/>\n",
       "<circle clip-path=\"url(#clip772)\" cx=\"734.178\" cy=\"849.557\" r=\"14\" fill=\"#009af9\" fill-rule=\"evenodd\" fill-opacity=\"1\" stroke=\"#000000\" stroke-opacity=\"1\" stroke-width=\"3.2\"/>\n",
       "<circle clip-path=\"url(#clip772)\" cx=\"744.621\" cy=\"846.683\" r=\"14\" fill=\"#009af9\" fill-rule=\"evenodd\" fill-opacity=\"1\" stroke=\"#000000\" stroke-opacity=\"1\" stroke-width=\"3.2\"/>\n",
       "<circle clip-path=\"url(#clip772)\" cx=\"755.063\" cy=\"843.863\" r=\"14\" fill=\"#009af9\" fill-rule=\"evenodd\" fill-opacity=\"1\" stroke=\"#000000\" stroke-opacity=\"1\" stroke-width=\"3.2\"/>\n",
       "<circle clip-path=\"url(#clip772)\" cx=\"765.506\" cy=\"841.094\" r=\"14\" fill=\"#009af9\" fill-rule=\"evenodd\" fill-opacity=\"1\" stroke=\"#000000\" stroke-opacity=\"1\" stroke-width=\"3.2\"/>\n",
       "<circle clip-path=\"url(#clip772)\" cx=\"775.948\" cy=\"838.376\" r=\"14\" fill=\"#009af9\" fill-rule=\"evenodd\" fill-opacity=\"1\" stroke=\"#000000\" stroke-opacity=\"1\" stroke-width=\"3.2\"/>\n",
       "<circle clip-path=\"url(#clip772)\" cx=\"786.39\" cy=\"835.705\" r=\"14\" fill=\"#009af9\" fill-rule=\"evenodd\" fill-opacity=\"1\" stroke=\"#000000\" stroke-opacity=\"1\" stroke-width=\"3.2\"/>\n",
       "<circle clip-path=\"url(#clip772)\" cx=\"796.833\" cy=\"833.081\" r=\"14\" fill=\"#009af9\" fill-rule=\"evenodd\" fill-opacity=\"1\" stroke=\"#000000\" stroke-opacity=\"1\" stroke-width=\"3.2\"/>\n",
       "<circle clip-path=\"url(#clip772)\" cx=\"807.275\" cy=\"830.502\" r=\"14\" fill=\"#009af9\" fill-rule=\"evenodd\" fill-opacity=\"1\" stroke=\"#000000\" stroke-opacity=\"1\" stroke-width=\"3.2\"/>\n",
       "<circle clip-path=\"url(#clip772)\" cx=\"817.718\" cy=\"827.966\" r=\"14\" fill=\"#009af9\" fill-rule=\"evenodd\" fill-opacity=\"1\" stroke=\"#000000\" stroke-opacity=\"1\" stroke-width=\"3.2\"/>\n",
       "<circle clip-path=\"url(#clip772)\" cx=\"828.16\" cy=\"823.019\" r=\"14\" fill=\"#009af9\" fill-rule=\"evenodd\" fill-opacity=\"1\" stroke=\"#000000\" stroke-opacity=\"1\" stroke-width=\"3.2\"/>\n",
       "<circle clip-path=\"url(#clip772)\" cx=\"838.603\" cy=\"820.605\" r=\"14\" fill=\"#009af9\" fill-rule=\"evenodd\" fill-opacity=\"1\" stroke=\"#000000\" stroke-opacity=\"1\" stroke-width=\"3.2\"/>\n",
       "<circle clip-path=\"url(#clip772)\" cx=\"849.045\" cy=\"818.229\" r=\"14\" fill=\"#009af9\" fill-rule=\"evenodd\" fill-opacity=\"1\" stroke=\"#000000\" stroke-opacity=\"1\" stroke-width=\"3.2\"/>\n",
       "<circle clip-path=\"url(#clip772)\" cx=\"859.488\" cy=\"815.889\" r=\"14\" fill=\"#009af9\" fill-rule=\"evenodd\" fill-opacity=\"1\" stroke=\"#000000\" stroke-opacity=\"1\" stroke-width=\"3.2\"/>\n",
       "<circle clip-path=\"url(#clip772)\" cx=\"869.93\" cy=\"813.586\" r=\"14\" fill=\"#009af9\" fill-rule=\"evenodd\" fill-opacity=\"1\" stroke=\"#000000\" stroke-opacity=\"1\" stroke-width=\"3.2\"/>\n",
       "<circle clip-path=\"url(#clip772)\" cx=\"880.372\" cy=\"811.317\" r=\"14\" fill=\"#009af9\" fill-rule=\"evenodd\" fill-opacity=\"1\" stroke=\"#000000\" stroke-opacity=\"1\" stroke-width=\"3.2\"/>\n",
       "<circle clip-path=\"url(#clip772)\" cx=\"890.815\" cy=\"809.082\" r=\"14\" fill=\"#009af9\" fill-rule=\"evenodd\" fill-opacity=\"1\" stroke=\"#000000\" stroke-opacity=\"1\" stroke-width=\"3.2\"/>\n",
       "<circle clip-path=\"url(#clip772)\" cx=\"901.257\" cy=\"800.458\" r=\"14\" fill=\"#009af9\" fill-rule=\"evenodd\" fill-opacity=\"1\" stroke=\"#000000\" stroke-opacity=\"1\" stroke-width=\"3.2\"/>\n",
       "<circle clip-path=\"url(#clip772)\" cx=\"911.7\" cy=\"794.299\" r=\"14\" fill=\"#009af9\" fill-rule=\"evenodd\" fill-opacity=\"1\" stroke=\"#000000\" stroke-opacity=\"1\" stroke-width=\"3.2\"/>\n",
       "<circle clip-path=\"url(#clip772)\" cx=\"922.142\" cy=\"792.3\" r=\"14\" fill=\"#009af9\" fill-rule=\"evenodd\" fill-opacity=\"1\" stroke=\"#000000\" stroke-opacity=\"1\" stroke-width=\"3.2\"/>\n",
       "<circle clip-path=\"url(#clip772)\" cx=\"932.585\" cy=\"790.328\" r=\"14\" fill=\"#009af9\" fill-rule=\"evenodd\" fill-opacity=\"1\" stroke=\"#000000\" stroke-opacity=\"1\" stroke-width=\"3.2\"/>\n",
       "<circle clip-path=\"url(#clip772)\" cx=\"943.027\" cy=\"788.381\" r=\"14\" fill=\"#009af9\" fill-rule=\"evenodd\" fill-opacity=\"1\" stroke=\"#000000\" stroke-opacity=\"1\" stroke-width=\"3.2\"/>\n",
       "<circle clip-path=\"url(#clip772)\" cx=\"953.469\" cy=\"786.459\" r=\"14\" fill=\"#009af9\" fill-rule=\"evenodd\" fill-opacity=\"1\" stroke=\"#000000\" stroke-opacity=\"1\" stroke-width=\"3.2\"/>\n",
       "<circle clip-path=\"url(#clip772)\" cx=\"963.912\" cy=\"770.181\" r=\"14\" fill=\"#009af9\" fill-rule=\"evenodd\" fill-opacity=\"1\" stroke=\"#000000\" stroke-opacity=\"1\" stroke-width=\"3.2\"/>\n",
       "<circle clip-path=\"url(#clip772)\" cx=\"974.354\" cy=\"765.123\" r=\"14\" fill=\"#009af9\" fill-rule=\"evenodd\" fill-opacity=\"1\" stroke=\"#000000\" stroke-opacity=\"1\" stroke-width=\"3.2\"/>\n",
       "<circle clip-path=\"url(#clip772)\" cx=\"984.797\" cy=\"763.474\" r=\"14\" fill=\"#009af9\" fill-rule=\"evenodd\" fill-opacity=\"1\" stroke=\"#000000\" stroke-opacity=\"1\" stroke-width=\"3.2\"/>\n",
       "<circle clip-path=\"url(#clip772)\" cx=\"995.239\" cy=\"761.843\" r=\"14\" fill=\"#009af9\" fill-rule=\"evenodd\" fill-opacity=\"1\" stroke=\"#000000\" stroke-opacity=\"1\" stroke-width=\"3.2\"/>\n",
       "<circle clip-path=\"url(#clip772)\" cx=\"1005.68\" cy=\"755.489\" r=\"14\" fill=\"#009af9\" fill-rule=\"evenodd\" fill-opacity=\"1\" stroke=\"#000000\" stroke-opacity=\"1\" stroke-width=\"3.2\"/>\n",
       "<circle clip-path=\"url(#clip772)\" cx=\"1016.12\" cy=\"753.942\" r=\"14\" fill=\"#009af9\" fill-rule=\"evenodd\" fill-opacity=\"1\" stroke=\"#000000\" stroke-opacity=\"1\" stroke-width=\"3.2\"/>\n",
       "<circle clip-path=\"url(#clip772)\" cx=\"1026.57\" cy=\"749.392\" r=\"14\" fill=\"#009af9\" fill-rule=\"evenodd\" fill-opacity=\"1\" stroke=\"#000000\" stroke-opacity=\"1\" stroke-width=\"3.2\"/>\n",
       "<circle clip-path=\"url(#clip772)\" cx=\"1037.01\" cy=\"732.453\" r=\"14\" fill=\"#009af9\" fill-rule=\"evenodd\" fill-opacity=\"1\" stroke=\"#000000\" stroke-opacity=\"1\" stroke-width=\"3.2\"/>\n",
       "<circle clip-path=\"url(#clip772)\" cx=\"1047.45\" cy=\"434.532\" r=\"14\" fill=\"#009af9\" fill-rule=\"evenodd\" fill-opacity=\"1\" stroke=\"#000000\" stroke-opacity=\"1\" stroke-width=\"3.2\"/>\n",
       "<circle clip-path=\"url(#clip772)\" cx=\"1057.89\" cy=\"434.162\" r=\"14\" fill=\"#009af9\" fill-rule=\"evenodd\" fill-opacity=\"1\" stroke=\"#000000\" stroke-opacity=\"1\" stroke-width=\"3.2\"/>\n",
       "<circle clip-path=\"url(#clip772)\" cx=\"1068.34\" cy=\"433.793\" r=\"14\" fill=\"#009af9\" fill-rule=\"evenodd\" fill-opacity=\"1\" stroke=\"#000000\" stroke-opacity=\"1\" stroke-width=\"3.2\"/>\n",
       "<circle clip-path=\"url(#clip772)\" cx=\"1078.78\" cy=\"433.608\" r=\"14\" fill=\"#009af9\" fill-rule=\"evenodd\" fill-opacity=\"1\" stroke=\"#000000\" stroke-opacity=\"1\" stroke-width=\"3.2\"/>\n",
       "<circle clip-path=\"url(#clip772)\" cx=\"1089.22\" cy=\"433.424\" r=\"14\" fill=\"#009af9\" fill-rule=\"evenodd\" fill-opacity=\"1\" stroke=\"#000000\" stroke-opacity=\"1\" stroke-width=\"3.2\"/>\n",
       "<circle clip-path=\"url(#clip772)\" cx=\"1099.66\" cy=\"433.24\" r=\"14\" fill=\"#009af9\" fill-rule=\"evenodd\" fill-opacity=\"1\" stroke=\"#000000\" stroke-opacity=\"1\" stroke-width=\"3.2\"/>\n",
       "<circle clip-path=\"url(#clip772)\" cx=\"1110.11\" cy=\"433.057\" r=\"14\" fill=\"#009af9\" fill-rule=\"evenodd\" fill-opacity=\"1\" stroke=\"#000000\" stroke-opacity=\"1\" stroke-width=\"3.2\"/>\n",
       "<circle clip-path=\"url(#clip772)\" cx=\"1120.55\" cy=\"432.873\" r=\"14\" fill=\"#009af9\" fill-rule=\"evenodd\" fill-opacity=\"1\" stroke=\"#000000\" stroke-opacity=\"1\" stroke-width=\"3.2\"/>\n",
       "<circle clip-path=\"url(#clip772)\" cx=\"1130.99\" cy=\"432.69\" r=\"14\" fill=\"#009af9\" fill-rule=\"evenodd\" fill-opacity=\"1\" stroke=\"#000000\" stroke-opacity=\"1\" stroke-width=\"3.2\"/>\n",
       "<circle clip-path=\"url(#clip772)\" cx=\"1141.43\" cy=\"432.507\" r=\"14\" fill=\"#009af9\" fill-rule=\"evenodd\" fill-opacity=\"1\" stroke=\"#000000\" stroke-opacity=\"1\" stroke-width=\"3.2\"/>\n",
       "<circle clip-path=\"url(#clip772)\" cx=\"1151.88\" cy=\"432.324\" r=\"14\" fill=\"#009af9\" fill-rule=\"evenodd\" fill-opacity=\"1\" stroke=\"#000000\" stroke-opacity=\"1\" stroke-width=\"3.2\"/>\n",
       "<circle clip-path=\"url(#clip772)\" cx=\"1162.32\" cy=\"432.142\" r=\"14\" fill=\"#009af9\" fill-rule=\"evenodd\" fill-opacity=\"1\" stroke=\"#000000\" stroke-opacity=\"1\" stroke-width=\"3.2\"/>\n",
       "<circle clip-path=\"url(#clip772)\" cx=\"1172.76\" cy=\"431.959\" r=\"14\" fill=\"#009af9\" fill-rule=\"evenodd\" fill-opacity=\"1\" stroke=\"#000000\" stroke-opacity=\"1\" stroke-width=\"3.2\"/>\n",
       "<circle clip-path=\"url(#clip772)\" cx=\"1183.2\" cy=\"431.777\" r=\"14\" fill=\"#009af9\" fill-rule=\"evenodd\" fill-opacity=\"1\" stroke=\"#000000\" stroke-opacity=\"1\" stroke-width=\"3.2\"/>\n",
       "<circle clip-path=\"url(#clip772)\" cx=\"1193.65\" cy=\"431.595\" r=\"14\" fill=\"#009af9\" fill-rule=\"evenodd\" fill-opacity=\"1\" stroke=\"#000000\" stroke-opacity=\"1\" stroke-width=\"3.2\"/>\n",
       "<circle clip-path=\"url(#clip772)\" cx=\"1204.09\" cy=\"431.414\" r=\"14\" fill=\"#009af9\" fill-rule=\"evenodd\" fill-opacity=\"1\" stroke=\"#000000\" stroke-opacity=\"1\" stroke-width=\"3.2\"/>\n",
       "<circle clip-path=\"url(#clip772)\" cx=\"1214.53\" cy=\"431.232\" r=\"14\" fill=\"#009af9\" fill-rule=\"evenodd\" fill-opacity=\"1\" stroke=\"#000000\" stroke-opacity=\"1\" stroke-width=\"3.2\"/>\n",
       "<circle clip-path=\"url(#clip772)\" cx=\"1224.97\" cy=\"431.051\" r=\"14\" fill=\"#009af9\" fill-rule=\"evenodd\" fill-opacity=\"1\" stroke=\"#000000\" stroke-opacity=\"1\" stroke-width=\"3.2\"/>\n",
       "<circle clip-path=\"url(#clip772)\" cx=\"1235.42\" cy=\"430.87\" r=\"14\" fill=\"#009af9\" fill-rule=\"evenodd\" fill-opacity=\"1\" stroke=\"#000000\" stroke-opacity=\"1\" stroke-width=\"3.2\"/>\n",
       "<circle clip-path=\"url(#clip772)\" cx=\"1245.86\" cy=\"430.689\" r=\"14\" fill=\"#009af9\" fill-rule=\"evenodd\" fill-opacity=\"1\" stroke=\"#000000\" stroke-opacity=\"1\" stroke-width=\"3.2\"/>\n",
       "<circle clip-path=\"url(#clip772)\" cx=\"1256.3\" cy=\"430.509\" r=\"14\" fill=\"#009af9\" fill-rule=\"evenodd\" fill-opacity=\"1\" stroke=\"#000000\" stroke-opacity=\"1\" stroke-width=\"3.2\"/>\n",
       "<circle clip-path=\"url(#clip772)\" cx=\"1266.74\" cy=\"430.328\" r=\"14\" fill=\"#009af9\" fill-rule=\"evenodd\" fill-opacity=\"1\" stroke=\"#000000\" stroke-opacity=\"1\" stroke-width=\"3.2\"/>\n",
       "<circle clip-path=\"url(#clip772)\" cx=\"1277.18\" cy=\"430.148\" r=\"14\" fill=\"#009af9\" fill-rule=\"evenodd\" fill-opacity=\"1\" stroke=\"#000000\" stroke-opacity=\"1\" stroke-width=\"3.2\"/>\n",
       "<circle clip-path=\"url(#clip772)\" cx=\"1287.63\" cy=\"429.968\" r=\"14\" fill=\"#009af9\" fill-rule=\"evenodd\" fill-opacity=\"1\" stroke=\"#000000\" stroke-opacity=\"1\" stroke-width=\"3.2\"/>\n",
       "<circle clip-path=\"url(#clip772)\" cx=\"1298.07\" cy=\"429.789\" r=\"14\" fill=\"#009af9\" fill-rule=\"evenodd\" fill-opacity=\"1\" stroke=\"#000000\" stroke-opacity=\"1\" stroke-width=\"3.2\"/>\n",
       "<circle clip-path=\"url(#clip772)\" cx=\"1308.51\" cy=\"429.609\" r=\"14\" fill=\"#009af9\" fill-rule=\"evenodd\" fill-opacity=\"1\" stroke=\"#000000\" stroke-opacity=\"1\" stroke-width=\"3.2\"/>\n",
       "<circle clip-path=\"url(#clip772)\" cx=\"1318.95\" cy=\"429.43\" r=\"14\" fill=\"#009af9\" fill-rule=\"evenodd\" fill-opacity=\"1\" stroke=\"#000000\" stroke-opacity=\"1\" stroke-width=\"3.2\"/>\n",
       "<circle clip-path=\"url(#clip772)\" cx=\"1329.4\" cy=\"429.251\" r=\"14\" fill=\"#009af9\" fill-rule=\"evenodd\" fill-opacity=\"1\" stroke=\"#000000\" stroke-opacity=\"1\" stroke-width=\"3.2\"/>\n",
       "<circle clip-path=\"url(#clip772)\" cx=\"1339.84\" cy=\"429.072\" r=\"14\" fill=\"#009af9\" fill-rule=\"evenodd\" fill-opacity=\"1\" stroke=\"#000000\" stroke-opacity=\"1\" stroke-width=\"3.2\"/>\n",
       "<circle clip-path=\"url(#clip772)\" cx=\"1350.28\" cy=\"428.893\" r=\"14\" fill=\"#009af9\" fill-rule=\"evenodd\" fill-opacity=\"1\" stroke=\"#000000\" stroke-opacity=\"1\" stroke-width=\"3.2\"/>\n",
       "<circle clip-path=\"url(#clip772)\" cx=\"1360.72\" cy=\"428.715\" r=\"14\" fill=\"#009af9\" fill-rule=\"evenodd\" fill-opacity=\"1\" stroke=\"#000000\" stroke-opacity=\"1\" stroke-width=\"3.2\"/>\n",
       "<circle clip-path=\"url(#clip772)\" cx=\"1371.17\" cy=\"428.536\" r=\"14\" fill=\"#009af9\" fill-rule=\"evenodd\" fill-opacity=\"1\" stroke=\"#000000\" stroke-opacity=\"1\" stroke-width=\"3.2\"/>\n",
       "<circle clip-path=\"url(#clip772)\" cx=\"1381.61\" cy=\"428.358\" r=\"14\" fill=\"#009af9\" fill-rule=\"evenodd\" fill-opacity=\"1\" stroke=\"#000000\" stroke-opacity=\"1\" stroke-width=\"3.2\"/>\n",
       "<circle clip-path=\"url(#clip772)\" cx=\"1392.05\" cy=\"428.181\" r=\"14\" fill=\"#009af9\" fill-rule=\"evenodd\" fill-opacity=\"1\" stroke=\"#000000\" stroke-opacity=\"1\" stroke-width=\"3.2\"/>\n",
       "<circle clip-path=\"url(#clip772)\" cx=\"1402.49\" cy=\"428.003\" r=\"14\" fill=\"#009af9\" fill-rule=\"evenodd\" fill-opacity=\"1\" stroke=\"#000000\" stroke-opacity=\"1\" stroke-width=\"3.2\"/>\n",
       "<circle clip-path=\"url(#clip772)\" cx=\"1412.94\" cy=\"427.826\" r=\"14\" fill=\"#009af9\" fill-rule=\"evenodd\" fill-opacity=\"1\" stroke=\"#000000\" stroke-opacity=\"1\" stroke-width=\"3.2\"/>\n",
       "<circle clip-path=\"url(#clip772)\" cx=\"1423.38\" cy=\"427.648\" r=\"14\" fill=\"#009af9\" fill-rule=\"evenodd\" fill-opacity=\"1\" stroke=\"#000000\" stroke-opacity=\"1\" stroke-width=\"3.2\"/>\n",
       "<circle clip-path=\"url(#clip772)\" cx=\"1433.82\" cy=\"427.471\" r=\"14\" fill=\"#009af9\" fill-rule=\"evenodd\" fill-opacity=\"1\" stroke=\"#000000\" stroke-opacity=\"1\" stroke-width=\"3.2\"/>\n",
       "<circle clip-path=\"url(#clip772)\" cx=\"1444.26\" cy=\"427.295\" r=\"14\" fill=\"#009af9\" fill-rule=\"evenodd\" fill-opacity=\"1\" stroke=\"#000000\" stroke-opacity=\"1\" stroke-width=\"3.2\"/>\n",
       "<circle clip-path=\"url(#clip772)\" cx=\"1454.71\" cy=\"427.118\" r=\"14\" fill=\"#009af9\" fill-rule=\"evenodd\" fill-opacity=\"1\" stroke=\"#000000\" stroke-opacity=\"1\" stroke-width=\"3.2\"/>\n",
       "<circle clip-path=\"url(#clip772)\" cx=\"1465.15\" cy=\"426.942\" r=\"14\" fill=\"#009af9\" fill-rule=\"evenodd\" fill-opacity=\"1\" stroke=\"#000000\" stroke-opacity=\"1\" stroke-width=\"3.2\"/>\n",
       "<circle clip-path=\"url(#clip772)\" cx=\"1475.59\" cy=\"426.765\" r=\"14\" fill=\"#009af9\" fill-rule=\"evenodd\" fill-opacity=\"1\" stroke=\"#000000\" stroke-opacity=\"1\" stroke-width=\"3.2\"/>\n",
       "<circle clip-path=\"url(#clip772)\" cx=\"1486.03\" cy=\"426.59\" r=\"14\" fill=\"#009af9\" fill-rule=\"evenodd\" fill-opacity=\"1\" stroke=\"#000000\" stroke-opacity=\"1\" stroke-width=\"3.2\"/>\n",
       "<circle clip-path=\"url(#clip772)\" cx=\"1496.48\" cy=\"426.414\" r=\"14\" fill=\"#009af9\" fill-rule=\"evenodd\" fill-opacity=\"1\" stroke=\"#000000\" stroke-opacity=\"1\" stroke-width=\"3.2\"/>\n",
       "<circle clip-path=\"url(#clip772)\" cx=\"1506.92\" cy=\"426.238\" r=\"14\" fill=\"#009af9\" fill-rule=\"evenodd\" fill-opacity=\"1\" stroke=\"#000000\" stroke-opacity=\"1\" stroke-width=\"3.2\"/>\n",
       "<circle clip-path=\"url(#clip772)\" cx=\"1517.36\" cy=\"426.063\" r=\"14\" fill=\"#009af9\" fill-rule=\"evenodd\" fill-opacity=\"1\" stroke=\"#000000\" stroke-opacity=\"1\" stroke-width=\"3.2\"/>\n",
       "<circle clip-path=\"url(#clip772)\" cx=\"1527.8\" cy=\"425.888\" r=\"14\" fill=\"#009af9\" fill-rule=\"evenodd\" fill-opacity=\"1\" stroke=\"#000000\" stroke-opacity=\"1\" stroke-width=\"3.2\"/>\n",
       "<circle clip-path=\"url(#clip772)\" cx=\"1538.25\" cy=\"425.713\" r=\"14\" fill=\"#009af9\" fill-rule=\"evenodd\" fill-opacity=\"1\" stroke=\"#000000\" stroke-opacity=\"1\" stroke-width=\"3.2\"/>\n",
       "<circle clip-path=\"url(#clip772)\" cx=\"1548.69\" cy=\"425.538\" r=\"14\" fill=\"#009af9\" fill-rule=\"evenodd\" fill-opacity=\"1\" stroke=\"#000000\" stroke-opacity=\"1\" stroke-width=\"3.2\"/>\n",
       "<circle clip-path=\"url(#clip772)\" cx=\"1559.13\" cy=\"425.364\" r=\"14\" fill=\"#009af9\" fill-rule=\"evenodd\" fill-opacity=\"1\" stroke=\"#000000\" stroke-opacity=\"1\" stroke-width=\"3.2\"/>\n",
       "<circle clip-path=\"url(#clip772)\" cx=\"1569.57\" cy=\"425.189\" r=\"14\" fill=\"#009af9\" fill-rule=\"evenodd\" fill-opacity=\"1\" stroke=\"#000000\" stroke-opacity=\"1\" stroke-width=\"3.2\"/>\n",
       "<circle clip-path=\"url(#clip772)\" cx=\"1580.02\" cy=\"425.015\" r=\"14\" fill=\"#009af9\" fill-rule=\"evenodd\" fill-opacity=\"1\" stroke=\"#000000\" stroke-opacity=\"1\" stroke-width=\"3.2\"/>\n",
       "<circle clip-path=\"url(#clip772)\" cx=\"1590.46\" cy=\"424.841\" r=\"14\" fill=\"#009af9\" fill-rule=\"evenodd\" fill-opacity=\"1\" stroke=\"#000000\" stroke-opacity=\"1\" stroke-width=\"3.2\"/>\n",
       "<circle clip-path=\"url(#clip772)\" cx=\"1600.9\" cy=\"424.667\" r=\"14\" fill=\"#009af9\" fill-rule=\"evenodd\" fill-opacity=\"1\" stroke=\"#000000\" stroke-opacity=\"1\" stroke-width=\"3.2\"/>\n",
       "<circle clip-path=\"url(#clip772)\" cx=\"1611.34\" cy=\"424.494\" r=\"14\" fill=\"#009af9\" fill-rule=\"evenodd\" fill-opacity=\"1\" stroke=\"#000000\" stroke-opacity=\"1\" stroke-width=\"3.2\"/>\n",
       "<circle clip-path=\"url(#clip772)\" cx=\"1621.79\" cy=\"424.321\" r=\"14\" fill=\"#009af9\" fill-rule=\"evenodd\" fill-opacity=\"1\" stroke=\"#000000\" stroke-opacity=\"1\" stroke-width=\"3.2\"/>\n",
       "<circle clip-path=\"url(#clip772)\" cx=\"1632.23\" cy=\"424.148\" r=\"14\" fill=\"#009af9\" fill-rule=\"evenodd\" fill-opacity=\"1\" stroke=\"#000000\" stroke-opacity=\"1\" stroke-width=\"3.2\"/>\n",
       "<circle clip-path=\"url(#clip772)\" cx=\"1642.67\" cy=\"423.802\" r=\"14\" fill=\"#009af9\" fill-rule=\"evenodd\" fill-opacity=\"1\" stroke=\"#000000\" stroke-opacity=\"1\" stroke-width=\"3.2\"/>\n",
       "<circle clip-path=\"url(#clip772)\" cx=\"1653.11\" cy=\"423.629\" r=\"14\" fill=\"#009af9\" fill-rule=\"evenodd\" fill-opacity=\"1\" stroke=\"#000000\" stroke-opacity=\"1\" stroke-width=\"3.2\"/>\n",
       "<circle clip-path=\"url(#clip772)\" cx=\"1663.56\" cy=\"323.511\" r=\"14\" fill=\"#009af9\" fill-rule=\"evenodd\" fill-opacity=\"1\" stroke=\"#000000\" stroke-opacity=\"1\" stroke-width=\"3.2\"/>\n",
       "<circle clip-path=\"url(#clip772)\" cx=\"1674\" cy=\"90.8366\" r=\"14\" fill=\"#009af9\" fill-rule=\"evenodd\" fill-opacity=\"1\" stroke=\"#000000\" stroke-opacity=\"1\" stroke-width=\"3.2\"/>\n",
       "<circle clip-path=\"url(#clip772)\" cx=\"1684.44\" cy=\"90.8176\" r=\"14\" fill=\"#009af9\" fill-rule=\"evenodd\" fill-opacity=\"1\" stroke=\"#000000\" stroke-opacity=\"1\" stroke-width=\"3.2\"/>\n",
       "<circle clip-path=\"url(#clip772)\" cx=\"1694.88\" cy=\"90.7417\" r=\"14\" fill=\"#009af9\" fill-rule=\"evenodd\" fill-opacity=\"1\" stroke=\"#000000\" stroke-opacity=\"1\" stroke-width=\"3.2\"/>\n",
       "<circle clip-path=\"url(#clip772)\" cx=\"1705.32\" cy=\"90.7227\" r=\"14\" fill=\"#009af9\" fill-rule=\"evenodd\" fill-opacity=\"1\" stroke=\"#000000\" stroke-opacity=\"1\" stroke-width=\"3.2\"/>\n",
       "<circle clip-path=\"url(#clip772)\" cx=\"1715.77\" cy=\"90.7037\" r=\"14\" fill=\"#009af9\" fill-rule=\"evenodd\" fill-opacity=\"1\" stroke=\"#000000\" stroke-opacity=\"1\" stroke-width=\"3.2\"/>\n",
       "<circle clip-path=\"url(#clip772)\" cx=\"1726.21\" cy=\"90.6468\" r=\"14\" fill=\"#009af9\" fill-rule=\"evenodd\" fill-opacity=\"1\" stroke=\"#000000\" stroke-opacity=\"1\" stroke-width=\"3.2\"/>\n",
       "<circle clip-path=\"url(#clip772)\" cx=\"1736.65\" cy=\"90.6278\" r=\"14\" fill=\"#009af9\" fill-rule=\"evenodd\" fill-opacity=\"1\" stroke=\"#000000\" stroke-opacity=\"1\" stroke-width=\"3.2\"/>\n",
       "<circle clip-path=\"url(#clip772)\" cx=\"1747.09\" cy=\"90.5899\" r=\"14\" fill=\"#009af9\" fill-rule=\"evenodd\" fill-opacity=\"1\" stroke=\"#000000\" stroke-opacity=\"1\" stroke-width=\"3.2\"/>\n",
       "<circle clip-path=\"url(#clip772)\" cx=\"1757.54\" cy=\"90.5709\" r=\"14\" fill=\"#009af9\" fill-rule=\"evenodd\" fill-opacity=\"1\" stroke=\"#000000\" stroke-opacity=\"1\" stroke-width=\"3.2\"/>\n",
       "<circle clip-path=\"url(#clip772)\" cx=\"1767.98\" cy=\"90.5519\" r=\"14\" fill=\"#009af9\" fill-rule=\"evenodd\" fill-opacity=\"1\" stroke=\"#000000\" stroke-opacity=\"1\" stroke-width=\"3.2\"/>\n",
       "<circle clip-path=\"url(#clip772)\" cx=\"1778.42\" cy=\"90.514\" r=\"14\" fill=\"#009af9\" fill-rule=\"evenodd\" fill-opacity=\"1\" stroke=\"#000000\" stroke-opacity=\"1\" stroke-width=\"3.2\"/>\n",
       "<circle clip-path=\"url(#clip772)\" cx=\"1788.86\" cy=\"90.4761\" r=\"14\" fill=\"#009af9\" fill-rule=\"evenodd\" fill-opacity=\"1\" stroke=\"#000000\" stroke-opacity=\"1\" stroke-width=\"3.2\"/>\n",
       "<circle clip-path=\"url(#clip772)\" cx=\"1799.31\" cy=\"90.4571\" r=\"14\" fill=\"#009af9\" fill-rule=\"evenodd\" fill-opacity=\"1\" stroke=\"#000000\" stroke-opacity=\"1\" stroke-width=\"3.2\"/>\n",
       "<circle clip-path=\"url(#clip772)\" cx=\"1809.75\" cy=\"90.4193\" r=\"14\" fill=\"#009af9\" fill-rule=\"evenodd\" fill-opacity=\"1\" stroke=\"#000000\" stroke-opacity=\"1\" stroke-width=\"3.2\"/>\n",
       "<circle clip-path=\"url(#clip772)\" cx=\"1820.19\" cy=\"90.4003\" r=\"14\" fill=\"#009af9\" fill-rule=\"evenodd\" fill-opacity=\"1\" stroke=\"#000000\" stroke-opacity=\"1\" stroke-width=\"3.2\"/>\n",
       "<circle clip-path=\"url(#clip772)\" cx=\"1830.63\" cy=\"90.3246\" r=\"14\" fill=\"#009af9\" fill-rule=\"evenodd\" fill-opacity=\"1\" stroke=\"#000000\" stroke-opacity=\"1\" stroke-width=\"3.2\"/>\n",
       "<circle clip-path=\"url(#clip772)\" cx=\"1841.08\" cy=\"90.2867\" r=\"14\" fill=\"#009af9\" fill-rule=\"evenodd\" fill-opacity=\"1\" stroke=\"#000000\" stroke-opacity=\"1\" stroke-width=\"3.2\"/>\n",
       "<circle clip-path=\"url(#clip772)\" cx=\"1851.52\" cy=\"90.2299\" r=\"14\" fill=\"#009af9\" fill-rule=\"evenodd\" fill-opacity=\"1\" stroke=\"#000000\" stroke-opacity=\"1\" stroke-width=\"3.2\"/>\n",
       "<circle clip-path=\"url(#clip772)\" cx=\"1861.96\" cy=\"90.211\" r=\"14\" fill=\"#009af9\" fill-rule=\"evenodd\" fill-opacity=\"1\" stroke=\"#000000\" stroke-opacity=\"1\" stroke-width=\"3.2\"/>\n",
       "<circle clip-path=\"url(#clip772)\" cx=\"1872.4\" cy=\"90.1732\" r=\"14\" fill=\"#009af9\" fill-rule=\"evenodd\" fill-opacity=\"1\" stroke=\"#000000\" stroke-opacity=\"1\" stroke-width=\"3.2\"/>\n",
       "<circle clip-path=\"url(#clip772)\" cx=\"1882.85\" cy=\"90.1164\" r=\"14\" fill=\"#009af9\" fill-rule=\"evenodd\" fill-opacity=\"1\" stroke=\"#000000\" stroke-opacity=\"1\" stroke-width=\"3.2\"/>\n",
       "<circle clip-path=\"url(#clip772)\" cx=\"1893.29\" cy=\"90.0975\" r=\"14\" fill=\"#009af9\" fill-rule=\"evenodd\" fill-opacity=\"1\" stroke=\"#000000\" stroke-opacity=\"1\" stroke-width=\"3.2\"/>\n",
       "<circle clip-path=\"url(#clip772)\" cx=\"1903.73\" cy=\"90.0786\" r=\"14\" fill=\"#009af9\" fill-rule=\"evenodd\" fill-opacity=\"1\" stroke=\"#000000\" stroke-opacity=\"1\" stroke-width=\"3.2\"/>\n",
       "<circle clip-path=\"url(#clip772)\" cx=\"1914.17\" cy=\"90.0597\" r=\"14\" fill=\"#009af9\" fill-rule=\"evenodd\" fill-opacity=\"1\" stroke=\"#000000\" stroke-opacity=\"1\" stroke-width=\"3.2\"/>\n",
       "<circle clip-path=\"url(#clip772)\" cx=\"1924.62\" cy=\"90.0408\" r=\"14\" fill=\"#009af9\" fill-rule=\"evenodd\" fill-opacity=\"1\" stroke=\"#000000\" stroke-opacity=\"1\" stroke-width=\"3.2\"/>\n",
       "<circle clip-path=\"url(#clip772)\" cx=\"1935.06\" cy=\"90.0219\" r=\"14\" fill=\"#009af9\" fill-rule=\"evenodd\" fill-opacity=\"1\" stroke=\"#000000\" stroke-opacity=\"1\" stroke-width=\"3.2\"/>\n",
       "<circle clip-path=\"url(#clip772)\" cx=\"1945.5\" cy=\"90.003\" r=\"14\" fill=\"#009af9\" fill-rule=\"evenodd\" fill-opacity=\"1\" stroke=\"#000000\" stroke-opacity=\"1\" stroke-width=\"3.2\"/>\n",
       "<circle clip-path=\"url(#clip772)\" cx=\"1955.94\" cy=\"89.9653\" r=\"14\" fill=\"#009af9\" fill-rule=\"evenodd\" fill-opacity=\"1\" stroke=\"#000000\" stroke-opacity=\"1\" stroke-width=\"3.2\"/>\n",
       "<circle clip-path=\"url(#clip772)\" cx=\"1966.39\" cy=\"89.9464\" r=\"14\" fill=\"#009af9\" fill-rule=\"evenodd\" fill-opacity=\"1\" stroke=\"#000000\" stroke-opacity=\"1\" stroke-width=\"3.2\"/>\n",
       "<circle clip-path=\"url(#clip772)\" cx=\"1976.83\" cy=\"89.9275\" r=\"14\" fill=\"#009af9\" fill-rule=\"evenodd\" fill-opacity=\"1\" stroke=\"#000000\" stroke-opacity=\"1\" stroke-width=\"3.2\"/>\n",
       "<circle clip-path=\"url(#clip772)\" cx=\"1987.27\" cy=\"89.9086\" r=\"14\" fill=\"#009af9\" fill-rule=\"evenodd\" fill-opacity=\"1\" stroke=\"#000000\" stroke-opacity=\"1\" stroke-width=\"3.2\"/>\n",
       "<circle clip-path=\"url(#clip772)\" cx=\"1997.71\" cy=\"89.8708\" r=\"14\" fill=\"#009af9\" fill-rule=\"evenodd\" fill-opacity=\"1\" stroke=\"#000000\" stroke-opacity=\"1\" stroke-width=\"3.2\"/>\n",
       "<circle clip-path=\"url(#clip772)\" cx=\"2008.16\" cy=\"89.8142\" r=\"14\" fill=\"#009af9\" fill-rule=\"evenodd\" fill-opacity=\"1\" stroke=\"#000000\" stroke-opacity=\"1\" stroke-width=\"3.2\"/>\n",
       "<circle clip-path=\"url(#clip772)\" cx=\"2018.6\" cy=\"89.7954\" r=\"14\" fill=\"#009af9\" fill-rule=\"evenodd\" fill-opacity=\"1\" stroke=\"#000000\" stroke-opacity=\"1\" stroke-width=\"3.2\"/>\n",
       "<circle clip-path=\"url(#clip772)\" cx=\"2029.04\" cy=\"89.7576\" r=\"14\" fill=\"#009af9\" fill-rule=\"evenodd\" fill-opacity=\"1\" stroke=\"#000000\" stroke-opacity=\"1\" stroke-width=\"3.2\"/>\n",
       "<circle clip-path=\"url(#clip772)\" cx=\"2039.48\" cy=\"89.7388\" r=\"14\" fill=\"#009af9\" fill-rule=\"evenodd\" fill-opacity=\"1\" stroke=\"#000000\" stroke-opacity=\"1\" stroke-width=\"3.2\"/>\n",
       "<circle clip-path=\"url(#clip772)\" cx=\"2049.93\" cy=\"89.7199\" r=\"14\" fill=\"#009af9\" fill-rule=\"evenodd\" fill-opacity=\"1\" stroke=\"#000000\" stroke-opacity=\"1\" stroke-width=\"3.2\"/>\n",
       "<circle clip-path=\"url(#clip772)\" cx=\"2060.37\" cy=\"89.7011\" r=\"14\" fill=\"#009af9\" fill-rule=\"evenodd\" fill-opacity=\"1\" stroke=\"#000000\" stroke-opacity=\"1\" stroke-width=\"3.2\"/>\n",
       "<circle clip-path=\"url(#clip772)\" cx=\"2070.81\" cy=\"89.6633\" r=\"14\" fill=\"#009af9\" fill-rule=\"evenodd\" fill-opacity=\"1\" stroke=\"#000000\" stroke-opacity=\"1\" stroke-width=\"3.2\"/>\n",
       "<circle clip-path=\"url(#clip772)\" cx=\"2081.25\" cy=\"89.6257\" r=\"14\" fill=\"#009af9\" fill-rule=\"evenodd\" fill-opacity=\"1\" stroke=\"#000000\" stroke-opacity=\"1\" stroke-width=\"3.2\"/>\n",
       "<circle clip-path=\"url(#clip772)\" cx=\"2091.7\" cy=\"89.6068\" r=\"14\" fill=\"#009af9\" fill-rule=\"evenodd\" fill-opacity=\"1\" stroke=\"#000000\" stroke-opacity=\"1\" stroke-width=\"3.2\"/>\n",
       "<circle clip-path=\"url(#clip772)\" cx=\"2102.14\" cy=\"89.5691\" r=\"14\" fill=\"#009af9\" fill-rule=\"evenodd\" fill-opacity=\"1\" stroke=\"#000000\" stroke-opacity=\"1\" stroke-width=\"3.2\"/>\n",
       "<circle clip-path=\"url(#clip772)\" cx=\"2112.58\" cy=\"89.5503\" r=\"14\" fill=\"#009af9\" fill-rule=\"evenodd\" fill-opacity=\"1\" stroke=\"#000000\" stroke-opacity=\"1\" stroke-width=\"3.2\"/>\n",
       "<circle clip-path=\"url(#clip772)\" cx=\"2123.02\" cy=\"89.4938\" r=\"14\" fill=\"#009af9\" fill-rule=\"evenodd\" fill-opacity=\"1\" stroke=\"#000000\" stroke-opacity=\"1\" stroke-width=\"3.2\"/>\n",
       "<circle clip-path=\"url(#clip772)\" cx=\"2133.46\" cy=\"89.4373\" r=\"14\" fill=\"#009af9\" fill-rule=\"evenodd\" fill-opacity=\"1\" stroke=\"#000000\" stroke-opacity=\"1\" stroke-width=\"3.2\"/>\n",
       "<circle clip-path=\"url(#clip772)\" cx=\"2143.91\" cy=\"89.4185\" r=\"14\" fill=\"#009af9\" fill-rule=\"evenodd\" fill-opacity=\"1\" stroke=\"#000000\" stroke-opacity=\"1\" stroke-width=\"3.2\"/>\n",
       "<circle clip-path=\"url(#clip772)\" cx=\"2154.35\" cy=\"89.3809\" r=\"14\" fill=\"#009af9\" fill-rule=\"evenodd\" fill-opacity=\"1\" stroke=\"#000000\" stroke-opacity=\"1\" stroke-width=\"3.2\"/>\n",
       "<circle clip-path=\"url(#clip772)\" cx=\"2164.79\" cy=\"89.362\" r=\"14\" fill=\"#009af9\" fill-rule=\"evenodd\" fill-opacity=\"1\" stroke=\"#000000\" stroke-opacity=\"1\" stroke-width=\"3.2\"/>\n",
       "<circle clip-path=\"url(#clip772)\" cx=\"2175.23\" cy=\"89.3244\" r=\"14\" fill=\"#009af9\" fill-rule=\"evenodd\" fill-opacity=\"1\" stroke=\"#000000\" stroke-opacity=\"1\" stroke-width=\"3.2\"/>\n",
       "<circle clip-path=\"url(#clip772)\" cx=\"2185.68\" cy=\"89.2492\" r=\"14\" fill=\"#009af9\" fill-rule=\"evenodd\" fill-opacity=\"1\" stroke=\"#000000\" stroke-opacity=\"1\" stroke-width=\"3.2\"/>\n",
       "<circle clip-path=\"url(#clip772)\" cx=\"2196.12\" cy=\"89.1928\" r=\"14\" fill=\"#009af9\" fill-rule=\"evenodd\" fill-opacity=\"1\" stroke=\"#000000\" stroke-opacity=\"1\" stroke-width=\"3.2\"/>\n",
       "<circle clip-path=\"url(#clip772)\" cx=\"2206.56\" cy=\"89.0989\" r=\"14\" fill=\"#009af9\" fill-rule=\"evenodd\" fill-opacity=\"1\" stroke=\"#000000\" stroke-opacity=\"1\" stroke-width=\"3.2\"/>\n",
       "<circle clip-path=\"url(#clip772)\" cx=\"2217\" cy=\"89.0613\" r=\"14\" fill=\"#009af9\" fill-rule=\"evenodd\" fill-opacity=\"1\" stroke=\"#000000\" stroke-opacity=\"1\" stroke-width=\"3.2\"/>\n",
       "<circle clip-path=\"url(#clip772)\" cx=\"2227.45\" cy=\"88.9675\" r=\"14\" fill=\"#009af9\" fill-rule=\"evenodd\" fill-opacity=\"1\" stroke=\"#000000\" stroke-opacity=\"1\" stroke-width=\"3.2\"/>\n",
       "<circle clip-path=\"url(#clip772)\" cx=\"2237.89\" cy=\"88.9487\" r=\"14\" fill=\"#009af9\" fill-rule=\"evenodd\" fill-opacity=\"1\" stroke=\"#000000\" stroke-opacity=\"1\" stroke-width=\"3.2\"/>\n",
       "<circle clip-path=\"url(#clip772)\" cx=\"2248.33\" cy=\"88.8175\" r=\"14\" fill=\"#009af9\" fill-rule=\"evenodd\" fill-opacity=\"1\" stroke=\"#000000\" stroke-opacity=\"1\" stroke-width=\"3.2\"/>\n",
       "<circle clip-path=\"url(#clip772)\" cx=\"2258.77\" cy=\"88.7238\" r=\"14\" fill=\"#009af9\" fill-rule=\"evenodd\" fill-opacity=\"1\" stroke=\"#000000\" stroke-opacity=\"1\" stroke-width=\"3.2\"/>\n",
       "<circle clip-path=\"url(#clip772)\" cx=\"2269.22\" cy=\"88.6114\" r=\"14\" fill=\"#009af9\" fill-rule=\"evenodd\" fill-opacity=\"1\" stroke=\"#000000\" stroke-opacity=\"1\" stroke-width=\"3.2\"/>\n",
       "<circle clip-path=\"url(#clip772)\" cx=\"2279.66\" cy=\"88.574\" r=\"14\" fill=\"#009af9\" fill-rule=\"evenodd\" fill-opacity=\"1\" stroke=\"#000000\" stroke-opacity=\"1\" stroke-width=\"3.2\"/>\n",
       "<circle clip-path=\"url(#clip772)\" cx=\"2290.1\" cy=\"87.9763\" r=\"14\" fill=\"#009af9\" fill-rule=\"evenodd\" fill-opacity=\"1\" stroke=\"#000000\" stroke-opacity=\"1\" stroke-width=\"3.2\"/>\n",
       "<path clip-path=\"url(#clip770)\" d=\"\n",
       "M1980.56 198.898 L2278.96 198.898 L2278.96 95.2176 L1980.56 95.2176  Z\n",
       "  \" fill=\"#ffffff\" fill-rule=\"evenodd\" fill-opacity=\"1\"/>\n",
       "<polyline clip-path=\"url(#clip770)\" style=\"stroke:#000000; stroke-linecap:butt; stroke-linejoin:round; stroke-width:4; stroke-opacity:1; fill:none\" points=\"\n",
       "  1980.56,198.898 2278.96,198.898 2278.96,95.2176 1980.56,95.2176 1980.56,198.898 \n",
       "  \"/>\n",
       "<circle clip-path=\"url(#clip770)\" cx=\"2078.95\" cy=\"147.058\" r=\"23\" fill=\"#009af9\" fill-rule=\"evenodd\" fill-opacity=\"1\" stroke=\"#000000\" stroke-opacity=\"1\" stroke-width=\"5.12\"/>\n",
       "<path clip-path=\"url(#clip770)\" d=\"M2191.18 166.745 Q2189.37 171.375 2187.66 172.787 Q2185.95 174.199 2183.08 174.199 L2179.67 174.199 L2179.67 170.634 L2182.17 170.634 Q2183.93 170.634 2184.91 169.8 Q2185.88 168.967 2187.06 165.865 L2187.82 163.921 L2177.34 138.412 L2181.85 138.412 L2189.95 158.689 L2198.05 138.412 L2202.57 138.412 L2191.18 166.745 Z\" fill=\"#000000\" fill-rule=\"evenodd\" fill-opacity=\"1\" /><path clip-path=\"url(#clip770)\" d=\"M2209.86 160.402 L2217.5 160.402 L2217.5 134.037 L2209.19 135.703 L2209.19 131.444 L2217.45 129.778 L2222.13 129.778 L2222.13 160.402 L2229.77 160.402 L2229.77 164.338 L2209.86 164.338 L2209.86 160.402 Z\" fill=\"#000000\" fill-rule=\"evenodd\" fill-opacity=\"1\" /></svg>\n"
      ]
     },
     "execution_count": 30,
     "metadata": {},
     "output_type": "execute_result"
    }
   ],
   "source": [
    "StatsPlots.scatter(log2.(first.(kmer_counts_histogram)))"
   ]
  },
  {
   "cell_type": "markdown",
   "id": "2f78056b-503a-4bcf-895f-32376b0958bc",
   "metadata": {},
   "source": [
    "# Fit error cluster"
   ]
  },
  {
   "cell_type": "code",
   "execution_count": 31,
   "id": "7820b30b-d290-4f69-82db-358b01df0a97",
   "metadata": {},
   "outputs": [
    {
     "data": {
      "text/plain": [
       "201-element Vector{Float64}:\n",
       "  0.0\n",
       "  1.0\n",
       "  1.584962500721156\n",
       "  2.0\n",
       "  2.321928094887362\n",
       "  2.584962500721156\n",
       "  2.807354922057604\n",
       "  3.0\n",
       "  3.169925001442312\n",
       "  3.321928094887362\n",
       "  3.4594316186372973\n",
       "  3.584962500721156\n",
       "  3.700439718141092\n",
       "  ⋮\n",
       " 12.96974625081451\n",
       " 12.970465440779995\n",
       " 12.97100459807343\n",
       " 12.971902746045467\n",
       " 12.972261848733291\n",
       " 12.973159214589735\n",
       " 12.97333862080036\n",
       " 12.974593839981678\n",
       " 12.975489756945754\n",
       " 12.97656412341533\n",
       " 12.97692206785108\n",
       " 12.982637133669424"
      ]
     },
     "execution_count": 31,
     "metadata": {},
     "output_type": "execute_result"
    }
   ],
   "source": [
    "kmer_depth_of_coverage_bins = log2.(first.(kmer_counts_histogram))"
   ]
  },
  {
   "cell_type": "code",
   "execution_count": 32,
   "id": "1013438f-d6d3-4627-aa5a-606623a4ae48",
   "metadata": {},
   "outputs": [
    {
     "data": {
      "text/plain": [
       "201×201 Matrix{Float64}:\n",
       "  0.0       1.0        1.58496    2.0       …  12.9769       12.9826\n",
       "  1.0       0.0        0.584963   1.0          11.9769       11.9826\n",
       "  1.58496   0.584963   0.0        0.415037     11.392        11.3977\n",
       "  2.0       1.0        0.415037   0.0          10.9769       10.9826\n",
       "  2.32193   1.32193    0.736966   0.321928     10.655        10.6607\n",
       "  2.58496   1.58496    1.0        0.584963  …  10.392        10.3977\n",
       "  2.80735   1.80735    1.22239    0.807355     10.1696       10.1753\n",
       "  3.0       2.0        1.41504    1.0           9.97692       9.98264\n",
       "  3.16993   2.16993    1.58496    1.16993       9.807         9.81271\n",
       "  3.32193   2.32193    1.73697    1.32193       9.65499       9.66071\n",
       "  3.45943   2.45943    1.87447    1.45943   …   9.51749       9.52321\n",
       "  3.58496   2.58496    2.0        1.58496       9.39196       9.39767\n",
       "  3.70044   2.70044    2.11548    1.70044       9.27648       9.2822\n",
       "  ⋮                                         ⋱                 ⋮\n",
       " 12.9697   11.9697    11.3848    10.9697        0.00717582    0.0128909\n",
       " 12.9705   11.9705    11.3855    10.9705    …   0.00645663    0.0121717\n",
       " 12.971    11.971     11.386     10.971         0.00591747    0.0116325\n",
       " 12.9719   11.9719    11.3869    10.9719        0.00501932    0.0107344\n",
       " 12.9723   11.9723    11.3873    10.9723        0.00466022    0.0103753\n",
       " 12.9732   11.9732    11.3882    10.9732        0.00376285    0.00947792\n",
       " 12.9733   11.9733    11.3884    10.9733    …   0.00358345    0.00929851\n",
       " 12.9746   11.9746    11.3896    10.9746        0.00232823    0.00804329\n",
       " 12.9755   11.9755    11.3905    10.9755        0.00143231    0.00714738\n",
       " 12.9766   11.9766    11.3916    10.9766        0.000357944   0.00607301\n",
       " 12.9769   11.9769    11.392     10.9769        0.0           0.00571507\n",
       " 12.9826   11.9826    11.3977    10.9826    …   0.00571507    0.0"
      ]
     },
     "execution_count": 32,
     "metadata": {},
     "output_type": "execute_result"
    }
   ],
   "source": [
    "distance_matrix = zeros((length(kmer_depth_of_coverage_bins), length(kmer_depth_of_coverage_bins)))\n",
    "for (row, depth_of_coverage_bin_1) in enumerate(kmer_depth_of_coverage_bins)\n",
    "    for (col, depth_of_coverage_bin_2) in enumerate(kmer_depth_of_coverage_bins)\n",
    "        distance = abs(depth_of_coverage_bin_1 - depth_of_coverage_bin_2)\n",
    "        distance_matrix[row, col] = distance\n",
    "    end\n",
    "end\n",
    "distance_matrix"
   ]
  },
  {
   "cell_type": "code",
   "execution_count": 33,
   "id": "8ae58b80-4a60-47d0-9232-f38826a44a56",
   "metadata": {},
   "outputs": [],
   "source": [
    "# distance_matrix = zeros((length(kmer_counts_histogram), length(kmer_counts_histogram)))\n",
    "# for (row, kmer_count_pair_1) in enumerate(kmer_counts_histogram)\n",
    "#     for (col, kmer_count_pair_2) in enumerate(kmer_counts_histogram)\n",
    "# #         distance = abs(depth_of_coverage_bin_1 - depth_of_coverage_bin_2)\n",
    "#         distance = Distances.euclidean([kmer_count_pair_1...], [kmer_count_pair_2...])\n",
    "#         distance_matrix[row, col] = distance\n",
    "#     end\n",
    "# end\n",
    "# distance_matrix"
   ]
  },
  {
   "cell_type": "code",
   "execution_count": 99,
   "id": "33cc7fa8-68ca-4841-b751-479aabce8f5d",
   "metadata": {},
   "outputs": [
    {
     "data": {
      "image/svg+xml": [
       "<?xml version=\"1.0\" encoding=\"utf-8\"?>\n",
       "<svg xmlns=\"http://www.w3.org/2000/svg\" xmlns:xlink=\"http://www.w3.org/1999/xlink\" width=\"500\" height=\"250\" viewBox=\"0 0 2000 1000\">\n",
       "<defs>\n",
       "  <clipPath id=\"clip590\">\n",
       "    <rect x=\"0\" y=\"0\" width=\"2000\" height=\"1000\"/>\n",
       "  </clipPath>\n",
       "</defs>\n",
       "<path clip-path=\"url(#clip590)\" d=\"\n",
       "M0 1000 L2000 1000 L2000 0 L0 0  Z\n",
       "  \" fill=\"#ffffff\" fill-rule=\"evenodd\" fill-opacity=\"1\"/>\n",
       "<defs>\n",
       "  <clipPath id=\"clip591\">\n",
       "    <rect x=\"400\" y=\"0\" width=\"1401\" height=\"1000\"/>\n",
       "  </clipPath>\n",
       "</defs>\n",
       "<path clip-path=\"url(#clip590)\" d=\"\n",
       "M233.662 849.7 L1952.76 849.7 L1952.76 47.2441 L233.662 47.2441  Z\n",
       "  \" fill=\"#ffffff\" fill-rule=\"evenodd\" fill-opacity=\"1\"/>\n",
       "<defs>\n",
       "  <clipPath id=\"clip592\">\n",
       "    <rect x=\"233\" y=\"47\" width=\"1720\" height=\"803\"/>\n",
       "  </clipPath>\n",
       "</defs>\n",
       "<polyline clip-path=\"url(#clip592)\" style=\"stroke:#000000; stroke-linecap:butt; stroke-linejoin:round; stroke-width:2; stroke-opacity:0.1; fill:none\" points=\"\n",
       "  390.435,849.7 390.435,47.2441 \n",
       "  \"/>\n",
       "<polyline clip-path=\"url(#clip592)\" style=\"stroke:#000000; stroke-linecap:butt; stroke-linejoin:round; stroke-width:2; stroke-opacity:0.1; fill:none\" points=\"\n",
       "  714.792,849.7 714.792,47.2441 \n",
       "  \"/>\n",
       "<polyline clip-path=\"url(#clip592)\" style=\"stroke:#000000; stroke-linecap:butt; stroke-linejoin:round; stroke-width:2; stroke-opacity:0.1; fill:none\" points=\"\n",
       "  1039.15,849.7 1039.15,47.2441 \n",
       "  \"/>\n",
       "<polyline clip-path=\"url(#clip592)\" style=\"stroke:#000000; stroke-linecap:butt; stroke-linejoin:round; stroke-width:2; stroke-opacity:0.1; fill:none\" points=\"\n",
       "  1363.51,849.7 1363.51,47.2441 \n",
       "  \"/>\n",
       "<polyline clip-path=\"url(#clip592)\" style=\"stroke:#000000; stroke-linecap:butt; stroke-linejoin:round; stroke-width:2; stroke-opacity:0.1; fill:none\" points=\"\n",
       "  1687.86,849.7 1687.86,47.2441 \n",
       "  \"/>\n",
       "<polyline clip-path=\"url(#clip590)\" style=\"stroke:#000000; stroke-linecap:butt; stroke-linejoin:round; stroke-width:4; stroke-opacity:1; fill:none\" points=\"\n",
       "  233.662,849.7 1952.76,849.7 \n",
       "  \"/>\n",
       "<polyline clip-path=\"url(#clip590)\" style=\"stroke:#000000; stroke-linecap:butt; stroke-linejoin:round; stroke-width:4; stroke-opacity:1; fill:none\" points=\"\n",
       "  390.435,849.7 390.435,830.802 \n",
       "  \"/>\n",
       "<polyline clip-path=\"url(#clip590)\" style=\"stroke:#000000; stroke-linecap:butt; stroke-linejoin:round; stroke-width:4; stroke-opacity:1; fill:none\" points=\"\n",
       "  714.792,849.7 714.792,830.802 \n",
       "  \"/>\n",
       "<polyline clip-path=\"url(#clip590)\" style=\"stroke:#000000; stroke-linecap:butt; stroke-linejoin:round; stroke-width:4; stroke-opacity:1; fill:none\" points=\"\n",
       "  1039.15,849.7 1039.15,830.802 \n",
       "  \"/>\n",
       "<polyline clip-path=\"url(#clip590)\" style=\"stroke:#000000; stroke-linecap:butt; stroke-linejoin:round; stroke-width:4; stroke-opacity:1; fill:none\" points=\"\n",
       "  1363.51,849.7 1363.51,830.802 \n",
       "  \"/>\n",
       "<polyline clip-path=\"url(#clip590)\" style=\"stroke:#000000; stroke-linecap:butt; stroke-linejoin:round; stroke-width:4; stroke-opacity:1; fill:none\" points=\"\n",
       "  1687.86,849.7 1687.86,830.802 \n",
       "  \"/>\n",
       "<path clip-path=\"url(#clip590)\" d=\"M394.682 888.538 Q398.039 889.255 399.914 891.524 Q401.812 893.792 401.812 897.126 Q401.812 902.241 398.293 905.042 Q394.775 907.843 388.294 907.843 Q386.118 907.843 383.803 907.403 Q381.511 906.987 379.057 906.13 L379.057 901.616 Q381.002 902.751 383.317 903.329 Q385.632 903.908 388.155 903.908 Q392.553 903.908 394.844 902.172 Q397.159 900.436 397.159 897.126 Q397.159 894.07 395.006 892.357 Q392.877 890.621 389.057 890.621 L385.03 890.621 L385.03 886.778 L389.243 886.778 Q392.692 886.778 394.52 885.413 Q396.349 884.024 396.349 881.431 Q396.349 878.769 394.451 877.357 Q392.576 875.922 389.057 875.922 Q387.136 875.922 384.937 876.339 Q382.738 876.755 380.099 877.635 L380.099 873.468 Q382.761 872.728 385.076 872.357 Q387.414 871.987 389.474 871.987 Q394.798 871.987 397.9 874.417 Q401.002 876.825 401.002 880.945 Q401.002 883.815 399.358 885.806 Q397.715 887.774 394.682 888.538 Z\" fill=\"#000000\" fill-rule=\"evenodd\" fill-opacity=\"1\" /><path clip-path=\"url(#clip590)\" d=\"M715.197 888.028 Q712.049 888.028 710.197 890.181 Q708.369 892.334 708.369 896.084 Q708.369 899.811 710.197 901.987 Q712.049 904.139 715.197 904.139 Q718.345 904.139 720.174 901.987 Q722.026 899.811 722.026 896.084 Q722.026 892.334 720.174 890.181 Q718.345 888.028 715.197 888.028 M724.48 873.376 L724.48 877.635 Q722.72 876.802 720.915 876.362 Q719.132 875.922 717.373 875.922 Q712.743 875.922 710.29 879.047 Q707.859 882.172 707.512 888.491 Q708.878 886.478 710.938 885.413 Q712.998 884.325 715.475 884.325 Q720.683 884.325 723.692 887.496 Q726.725 890.644 726.725 896.084 Q726.725 901.408 723.577 904.626 Q720.429 907.843 715.197 907.843 Q709.202 907.843 706.031 903.26 Q702.859 898.653 702.859 889.927 Q702.859 881.732 706.748 876.871 Q710.637 871.987 717.188 871.987 Q718.947 871.987 720.73 872.334 Q722.535 872.681 724.48 873.376 Z\" fill=\"#000000\" fill-rule=\"evenodd\" fill-opacity=\"1\" /><path clip-path=\"url(#clip590)\" d=\"M1029.45 906.454 L1029.45 902.195 Q1031.21 903.028 1033.02 903.468 Q1034.82 903.908 1036.56 903.908 Q1041.19 903.908 1043.62 900.806 Q1046.07 897.681 1046.42 891.339 Q1045.08 893.329 1043.02 894.394 Q1040.95 895.459 1038.45 895.459 Q1033.27 895.459 1030.24 892.334 Q1027.23 889.186 1027.23 883.746 Q1027.23 878.422 1030.38 875.204 Q1033.52 871.987 1038.76 871.987 Q1044.75 871.987 1047.9 876.593 Q1051.07 881.177 1051.07 889.927 Q1051.07 898.098 1047.18 902.982 Q1043.32 907.843 1036.77 907.843 Q1035.01 907.843 1033.2 907.496 Q1031.39 907.149 1029.45 906.454 M1038.76 891.802 Q1041.9 891.802 1043.73 889.649 Q1045.58 887.496 1045.58 883.746 Q1045.58 880.019 1043.73 877.866 Q1041.9 875.691 1038.76 875.691 Q1035.61 875.691 1033.76 877.866 Q1031.93 880.019 1031.93 883.746 Q1031.93 887.496 1033.76 889.649 Q1035.61 891.802 1038.76 891.802 Z\" fill=\"#000000\" fill-rule=\"evenodd\" fill-opacity=\"1\" /><path clip-path=\"url(#clip590)\" d=\"M1338.99 903.237 L1346.63 903.237 L1346.63 876.871 L1338.32 878.538 L1338.32 874.279 L1346.59 872.612 L1351.26 872.612 L1351.26 903.237 L1358.9 903.237 L1358.9 907.172 L1338.99 907.172 L1338.99 903.237 Z\" fill=\"#000000\" fill-rule=\"evenodd\" fill-opacity=\"1\" /><path clip-path=\"url(#clip590)\" d=\"M1372.37 903.237 L1388.69 903.237 L1388.69 907.172 L1366.75 907.172 L1366.75 903.237 Q1369.41 900.482 1373.99 895.852 Q1378.6 891.2 1379.78 889.857 Q1382.03 887.334 1382.9 885.598 Q1383.81 883.839 1383.81 882.149 Q1383.81 879.394 1381.86 877.658 Q1379.94 875.922 1376.84 875.922 Q1374.64 875.922 1372.19 876.686 Q1369.76 877.45 1366.98 879.001 L1366.98 874.279 Q1369.8 873.144 1372.26 872.566 Q1374.71 871.987 1376.75 871.987 Q1382.12 871.987 1385.31 874.672 Q1388.51 877.357 1388.51 881.848 Q1388.51 883.978 1387.7 885.899 Q1386.91 887.797 1384.8 890.39 Q1384.22 891.061 1381.12 894.278 Q1378.02 897.473 1372.37 903.237 Z\" fill=\"#000000\" fill-rule=\"evenodd\" fill-opacity=\"1\" /><path clip-path=\"url(#clip590)\" d=\"M1663.05 903.237 L1670.69 903.237 L1670.69 876.871 L1662.38 878.538 L1662.38 874.279 L1670.64 872.612 L1675.32 872.612 L1675.32 903.237 L1682.96 903.237 L1682.96 907.172 L1663.05 907.172 L1663.05 903.237 Z\" fill=\"#000000\" fill-rule=\"evenodd\" fill-opacity=\"1\" /><path clip-path=\"url(#clip590)\" d=\"M1692.45 872.612 L1710.8 872.612 L1710.8 876.547 L1696.73 876.547 L1696.73 885.019 Q1697.75 884.672 1698.77 884.51 Q1699.79 884.325 1700.8 884.325 Q1706.59 884.325 1709.97 887.496 Q1713.35 890.667 1713.35 896.084 Q1713.35 901.663 1709.88 904.764 Q1706.41 907.843 1700.09 907.843 Q1697.91 907.843 1695.64 907.473 Q1693.4 907.102 1690.99 906.362 L1690.99 901.663 Q1693.07 902.797 1695.29 903.352 Q1697.52 903.908 1699.99 903.908 Q1704 903.908 1706.34 901.802 Q1708.67 899.695 1708.67 896.084 Q1708.67 892.473 1706.34 890.366 Q1704 888.26 1699.99 888.26 Q1698.12 888.26 1696.24 888.677 Q1694.39 889.093 1692.45 889.973 L1692.45 872.612 Z\" fill=\"#000000\" fill-rule=\"evenodd\" fill-opacity=\"1\" /><path clip-path=\"url(#clip590)\" d=\"M820.454 967.048 L820.454 988.564 L814.598 988.564 L814.598 967.239 Q814.598 962.178 812.625 959.664 Q810.651 957.149 806.704 957.149 Q801.962 957.149 799.225 960.173 Q796.487 963.197 796.487 968.416 L796.487 988.564 L790.599 988.564 L790.599 952.916 L796.487 952.916 L796.487 958.454 Q798.588 955.239 801.421 953.648 Q804.285 952.057 808.009 952.057 Q814.152 952.057 817.303 955.876 Q820.454 959.664 820.454 967.048 Z\" fill=\"#000000\" fill-rule=\"evenodd\" fill-opacity=\"1\" /><path clip-path=\"url(#clip590)\" d=\"M831.531 974.496 L831.531 952.916 L837.387 952.916 L837.387 974.273 Q837.387 979.334 839.361 981.88 Q841.334 984.394 845.281 984.394 Q850.023 984.394 852.76 981.371 Q855.529 978.347 855.529 973.127 L855.529 952.916 L861.386 952.916 L861.386 988.564 L855.529 988.564 L855.529 983.089 Q853.397 986.336 850.564 987.927 Q847.763 989.487 844.039 989.487 Q837.896 989.487 834.714 985.667 Q831.531 981.848 831.531 974.496 M846.267 952.057 L846.267 952.057 Z\" fill=\"#000000\" fill-rule=\"evenodd\" fill-opacity=\"1\" /><path clip-path=\"url(#clip590)\" d=\"M901.203 959.759 Q903.4 955.812 906.455 953.934 Q909.511 952.057 913.648 952.057 Q919.218 952.057 922.242 955.971 Q925.266 959.855 925.266 967.048 L925.266 988.564 L919.377 988.564 L919.377 967.239 Q919.377 962.114 917.563 959.632 Q915.749 957.149 912.025 957.149 Q907.474 957.149 904.832 960.173 Q902.19 963.197 902.19 968.416 L902.19 988.564 L896.302 988.564 L896.302 967.239 Q896.302 962.083 894.488 959.632 Q892.673 957.149 888.886 957.149 Q884.398 957.149 881.756 960.205 Q879.114 963.228 879.114 968.416 L879.114 988.564 L873.226 988.564 L873.226 952.916 L879.114 952.916 L879.114 958.454 Q881.12 955.176 883.92 953.616 Q886.721 952.057 890.573 952.057 Q894.456 952.057 897.161 954.03 Q899.898 956.003 901.203 959.759 Z\" fill=\"#000000\" fill-rule=\"evenodd\" fill-opacity=\"1\" /><path clip-path=\"url(#clip590)\" d=\"M962.537 970.772 Q962.537 964.311 959.863 960.65 Q957.222 956.958 952.575 956.958 Q947.928 956.958 945.254 960.65 Q942.612 964.311 942.612 970.772 Q942.612 977.233 945.254 980.925 Q947.928 984.585 952.575 984.585 Q957.222 984.585 959.863 980.925 Q962.537 977.233 962.537 970.772 M942.612 958.327 Q944.458 955.144 947.259 953.616 Q950.092 952.057 954.007 952.057 Q960.5 952.057 964.542 957.213 Q968.616 962.369 968.616 970.772 Q968.616 979.174 964.542 984.331 Q960.5 989.487 954.007 989.487 Q950.092 989.487 947.259 987.959 Q944.458 986.4 942.612 983.217 L942.612 988.564 L936.724 988.564 L936.724 939.039 L942.612 939.039 L942.612 958.327 Z\" fill=\"#000000\" fill-rule=\"evenodd\" fill-opacity=\"1\" /><path clip-path=\"url(#clip590)\" d=\"M1008.82 969.276 L1008.82 972.14 L981.889 972.14 Q982.271 978.188 985.517 981.371 Q988.795 984.522 994.62 984.522 Q997.994 984.522 1001.14 983.694 Q1004.33 982.867 1007.45 981.211 L1007.45 986.75 Q1004.3 988.086 1000.99 988.787 Q997.676 989.487 994.27 989.487 Q985.74 989.487 980.743 984.522 Q975.778 979.556 975.778 971.09 Q975.778 962.337 980.488 957.213 Q985.231 952.057 993.251 952.057 Q1000.44 952.057 1004.61 956.703 Q1008.82 961.319 1008.82 969.276 M1002.96 967.557 Q1002.9 962.751 1000.25 959.886 Q997.644 957.022 993.315 957.022 Q988.414 957.022 985.453 959.791 Q982.525 962.56 982.08 967.589 L1002.96 967.557 Z\" fill=\"#000000\" fill-rule=\"evenodd\" fill-opacity=\"1\" /><path clip-path=\"url(#clip590)\" d=\"M1039.08 958.39 Q1038.1 957.817 1036.92 957.563 Q1035.77 957.276 1034.37 957.276 Q1029.41 957.276 1026.74 960.523 Q1024.09 963.738 1024.09 969.785 L1024.09 988.564 L1018.21 988.564 L1018.21 952.916 L1024.09 952.916 L1024.09 958.454 Q1025.94 955.208 1028.9 953.648 Q1031.86 952.057 1036.09 952.057 Q1036.7 952.057 1037.43 952.152 Q1038.16 952.216 1039.05 952.375 L1039.08 958.39 Z\" fill=\"#000000\" fill-rule=\"evenodd\" fill-opacity=\"1\" /><path clip-path=\"url(#clip590)\" d=\"M1079.76 957.022 Q1075.05 957.022 1072.31 960.714 Q1069.58 964.374 1069.58 970.772 Q1069.58 977.169 1072.28 980.861 Q1075.02 984.522 1079.76 984.522 Q1084.44 984.522 1087.18 980.83 Q1089.91 977.137 1089.91 970.772 Q1089.91 964.438 1087.18 960.746 Q1084.44 957.022 1079.76 957.022 M1079.76 952.057 Q1087.4 952.057 1091.76 957.022 Q1096.12 961.987 1096.12 970.772 Q1096.12 979.525 1091.76 984.522 Q1087.4 989.487 1079.76 989.487 Q1072.09 989.487 1067.73 984.522 Q1063.4 979.525 1063.4 970.772 Q1063.4 961.987 1067.73 957.022 Q1072.09 952.057 1079.76 952.057 Z\" fill=\"#000000\" fill-rule=\"evenodd\" fill-opacity=\"1\" /><path clip-path=\"url(#clip590)\" d=\"M1123.88 939.039 L1123.88 943.908 L1118.27 943.908 Q1115.12 943.908 1113.88 945.182 Q1112.67 946.455 1112.67 949.765 L1112.67 952.916 L1122.32 952.916 L1122.32 957.467 L1112.67 957.467 L1112.67 988.564 L1106.78 988.564 L1106.78 957.467 L1101.18 957.467 L1101.18 952.916 L1106.78 952.916 L1106.78 950.433 Q1106.78 944.481 1109.55 941.776 Q1112.32 939.039 1118.34 939.039 L1123.88 939.039 Z\" fill=\"#000000\" fill-rule=\"evenodd\" fill-opacity=\"1\" /><path clip-path=\"url(#clip590)\" d=\"M1175.15 954.285 L1175.15 959.759 Q1172.67 958.39 1170.15 957.722 Q1167.67 957.022 1165.13 957.022 Q1159.43 957.022 1156.28 960.65 Q1153.13 964.247 1153.13 970.772 Q1153.13 977.297 1156.28 980.925 Q1159.43 984.522 1165.13 984.522 Q1167.67 984.522 1170.15 983.853 Q1172.67 983.153 1175.15 981.784 L1175.15 987.195 Q1172.7 988.341 1170.06 988.914 Q1167.45 989.487 1164.49 989.487 Q1156.44 989.487 1151.69 984.426 Q1146.95 979.365 1146.95 970.772 Q1146.95 962.051 1151.73 957.054 Q1156.53 952.057 1164.87 952.057 Q1167.58 952.057 1170.15 952.629 Q1172.73 953.171 1175.15 954.285 Z\" fill=\"#000000\" fill-rule=\"evenodd\" fill-opacity=\"1\" /><path clip-path=\"url(#clip590)\" d=\"M1185.34 939.039 L1191.19 939.039 L1191.19 988.564 L1185.34 988.564 L1185.34 939.039 Z\" fill=\"#000000\" fill-rule=\"evenodd\" fill-opacity=\"1\" /><path clip-path=\"url(#clip590)\" d=\"M1202.84 974.496 L1202.84 952.916 L1208.7 952.916 L1208.7 974.273 Q1208.7 979.334 1210.67 981.88 Q1212.65 984.394 1216.59 984.394 Q1221.33 984.394 1224.07 981.371 Q1226.84 978.347 1226.84 973.127 L1226.84 952.916 L1232.7 952.916 L1232.7 988.564 L1226.84 988.564 L1226.84 983.089 Q1224.71 986.336 1221.88 987.927 Q1219.07 989.487 1215.35 989.487 Q1209.21 989.487 1206.03 985.667 Q1202.84 981.848 1202.84 974.496 M1217.58 952.057 L1217.58 952.057 Z\" fill=\"#000000\" fill-rule=\"evenodd\" fill-opacity=\"1\" /><path clip-path=\"url(#clip590)\" d=\"M1267.49 953.966 L1267.49 959.504 Q1265 958.231 1262.33 957.595 Q1259.66 956.958 1256.79 956.958 Q1252.43 956.958 1250.24 958.295 Q1248.07 959.632 1248.07 962.305 Q1248.07 964.342 1249.63 965.52 Q1251.19 966.666 1255.9 967.716 L1257.91 968.162 Q1264.14 969.499 1266.75 971.949 Q1269.4 974.368 1269.4 978.729 Q1269.4 983.694 1265.45 986.59 Q1261.53 989.487 1254.66 989.487 Q1251.79 989.487 1248.68 988.914 Q1245.59 988.373 1242.15 987.259 L1242.15 981.211 Q1245.4 982.898 1248.55 983.758 Q1251.7 984.585 1254.79 984.585 Q1258.92 984.585 1261.15 983.185 Q1263.38 981.753 1263.38 979.174 Q1263.38 976.787 1261.76 975.514 Q1260.17 974.241 1254.72 973.063 L1252.69 972.586 Q1247.24 971.44 1244.82 969.085 Q1242.41 966.698 1242.41 962.56 Q1242.41 957.531 1245.97 954.794 Q1249.53 952.057 1256.09 952.057 Q1259.34 952.057 1262.2 952.534 Q1265.07 953.011 1267.49 953.966 Z\" fill=\"#000000\" fill-rule=\"evenodd\" fill-opacity=\"1\" /><path clip-path=\"url(#clip590)\" d=\"M1284.51 942.794 L1284.51 952.916 L1296.58 952.916 L1296.58 957.467 L1284.51 957.467 L1284.51 976.819 Q1284.51 981.18 1285.69 982.421 Q1286.9 983.662 1290.56 983.662 L1296.58 983.662 L1296.58 988.564 L1290.56 988.564 Q1283.78 988.564 1281.2 986.049 Q1278.63 983.503 1278.63 976.819 L1278.63 957.467 L1274.33 957.467 L1274.33 952.916 L1278.63 952.916 L1278.63 942.794 L1284.51 942.794 Z\" fill=\"#000000\" fill-rule=\"evenodd\" fill-opacity=\"1\" /><path clip-path=\"url(#clip590)\" d=\"M1334.77 969.276 L1334.77 972.14 L1307.84 972.14 Q1308.23 978.188 1311.47 981.371 Q1314.75 984.522 1320.58 984.522 Q1323.95 984.522 1327.1 983.694 Q1330.28 982.867 1333.4 981.211 L1333.4 986.75 Q1330.25 988.086 1326.94 988.787 Q1323.63 989.487 1320.23 989.487 Q1311.7 989.487 1306.7 984.522 Q1301.73 979.556 1301.73 971.09 Q1301.73 962.337 1306.44 957.213 Q1311.19 952.057 1319.21 952.057 Q1326.4 952.057 1330.57 956.703 Q1334.77 961.319 1334.77 969.276 M1328.92 967.557 Q1328.85 962.751 1326.21 959.886 Q1323.6 957.022 1319.27 957.022 Q1314.37 957.022 1311.41 959.791 Q1308.48 962.56 1308.04 967.589 L1328.92 967.557 Z\" fill=\"#000000\" fill-rule=\"evenodd\" fill-opacity=\"1\" /><path clip-path=\"url(#clip590)\" d=\"M1365.04 958.39 Q1364.05 957.817 1362.88 957.563 Q1361.73 957.276 1360.33 957.276 Q1355.36 957.276 1352.69 960.523 Q1350.05 963.738 1350.05 969.785 L1350.05 988.564 L1344.16 988.564 L1344.16 952.916 L1350.05 952.916 L1350.05 958.454 Q1351.9 955.208 1354.86 953.648 Q1357.82 952.057 1362.05 952.057 Q1362.65 952.057 1363.39 952.152 Q1364.12 952.216 1365.01 952.375 L1365.04 958.39 Z\" fill=\"#000000\" fill-rule=\"evenodd\" fill-opacity=\"1\" /><path clip-path=\"url(#clip590)\" d=\"M1393.91 953.966 L1393.91 959.504 Q1391.43 958.231 1388.75 957.595 Q1386.08 956.958 1383.21 956.958 Q1378.85 956.958 1376.66 958.295 Q1374.49 959.632 1374.49 962.305 Q1374.49 964.342 1376.05 965.52 Q1377.61 966.666 1382.32 967.716 L1384.33 968.162 Q1390.57 969.499 1393.18 971.949 Q1395.82 974.368 1395.82 978.729 Q1395.82 983.694 1391.87 986.59 Q1387.96 989.487 1381.08 989.487 Q1378.22 989.487 1375.1 988.914 Q1372.01 988.373 1368.57 987.259 L1368.57 981.211 Q1371.82 982.898 1374.97 983.758 Q1378.12 984.585 1381.21 984.585 Q1385.35 984.585 1387.58 983.185 Q1389.8 981.753 1389.8 979.174 Q1389.8 976.787 1388.18 975.514 Q1386.59 974.241 1381.15 973.063 L1379.11 972.586 Q1373.67 971.44 1371.25 969.085 Q1368.83 966.698 1368.83 962.56 Q1368.83 957.531 1372.39 954.794 Q1375.96 952.057 1382.51 952.057 Q1385.76 952.057 1388.63 952.534 Q1391.49 953.011 1393.91 953.966 Z\" fill=\"#000000\" fill-rule=\"evenodd\" fill-opacity=\"1\" /><polyline clip-path=\"url(#clip592)\" style=\"stroke:#000000; stroke-linecap:butt; stroke-linejoin:round; stroke-width:2; stroke-opacity:0.1; fill:none\" points=\"\n",
       "  233.662,749.397 1952.76,749.397 \n",
       "  \"/>\n",
       "<polyline clip-path=\"url(#clip592)\" style=\"stroke:#000000; stroke-linecap:butt; stroke-linejoin:round; stroke-width:2; stroke-opacity:0.1; fill:none\" points=\"\n",
       "  233.662,523.476 1952.76,523.476 \n",
       "  \"/>\n",
       "<polyline clip-path=\"url(#clip592)\" style=\"stroke:#000000; stroke-linecap:butt; stroke-linejoin:round; stroke-width:2; stroke-opacity:0.1; fill:none\" points=\"\n",
       "  233.662,297.554 1952.76,297.554 \n",
       "  \"/>\n",
       "<polyline clip-path=\"url(#clip592)\" style=\"stroke:#000000; stroke-linecap:butt; stroke-linejoin:round; stroke-width:2; stroke-opacity:0.1; fill:none\" points=\"\n",
       "  233.662,71.633 1952.76,71.633 \n",
       "  \"/>\n",
       "<polyline clip-path=\"url(#clip590)\" style=\"stroke:#000000; stroke-linecap:butt; stroke-linejoin:round; stroke-width:4; stroke-opacity:1; fill:none\" points=\"\n",
       "  233.662,849.7 233.662,47.2441 \n",
       "  \"/>\n",
       "<polyline clip-path=\"url(#clip590)\" style=\"stroke:#000000; stroke-linecap:butt; stroke-linejoin:round; stroke-width:4; stroke-opacity:1; fill:none\" points=\"\n",
       "  233.662,749.397 252.56,749.397 \n",
       "  \"/>\n",
       "<polyline clip-path=\"url(#clip590)\" style=\"stroke:#000000; stroke-linecap:butt; stroke-linejoin:round; stroke-width:4; stroke-opacity:1; fill:none\" points=\"\n",
       "  233.662,523.476 252.56,523.476 \n",
       "  \"/>\n",
       "<polyline clip-path=\"url(#clip590)\" style=\"stroke:#000000; stroke-linecap:butt; stroke-linejoin:round; stroke-width:4; stroke-opacity:1; fill:none\" points=\"\n",
       "  233.662,297.554 252.56,297.554 \n",
       "  \"/>\n",
       "<polyline clip-path=\"url(#clip590)\" style=\"stroke:#000000; stroke-linecap:butt; stroke-linejoin:round; stroke-width:4; stroke-opacity:1; fill:none\" points=\"\n",
       "  233.662,71.633 252.56,71.633 \n",
       "  \"/>\n",
       "<path clip-path=\"url(#clip590)\" d=\"M117.32 735.196 Q113.709 735.196 111.88 738.761 Q110.075 742.302 110.075 749.432 Q110.075 756.538 111.88 760.103 Q113.709 763.645 117.32 763.645 Q120.954 763.645 122.76 760.103 Q124.588 756.538 124.588 749.432 Q124.588 742.302 122.76 738.761 Q120.954 735.196 117.32 735.196 M117.32 731.492 Q123.13 731.492 126.186 736.099 Q129.264 740.682 129.264 749.432 Q129.264 758.159 126.186 762.765 Q123.13 767.348 117.32 767.348 Q111.51 767.348 108.431 762.765 Q105.376 758.159 105.376 749.432 Q105.376 740.682 108.431 736.099 Q111.51 731.492 117.32 731.492 Z\" fill=\"#000000\" fill-rule=\"evenodd\" fill-opacity=\"1\" /><path clip-path=\"url(#clip590)\" d=\"M137.482 760.798 L142.366 760.798 L142.366 766.677 L137.482 766.677 L137.482 760.798 Z\" fill=\"#000000\" fill-rule=\"evenodd\" fill-opacity=\"1\" /><path clip-path=\"url(#clip590)\" d=\"M163.13 747.534 Q159.982 747.534 158.13 749.686 Q156.301 751.839 156.301 755.589 Q156.301 759.316 158.13 761.492 Q159.982 763.645 163.13 763.645 Q166.278 763.645 168.107 761.492 Q169.959 759.316 169.959 755.589 Q169.959 751.839 168.107 749.686 Q166.278 747.534 163.13 747.534 M172.412 732.881 L172.412 737.14 Q170.653 736.307 168.847 735.867 Q167.065 735.427 165.306 735.427 Q160.676 735.427 158.222 738.552 Q155.792 741.677 155.445 747.997 Q156.81 745.983 158.871 744.918 Q160.931 743.83 163.408 743.83 Q168.616 743.83 171.625 747.001 Q174.658 750.149 174.658 755.589 Q174.658 760.913 171.509 764.131 Q168.361 767.348 163.13 767.348 Q157.135 767.348 153.963 762.765 Q150.792 758.159 150.792 749.432 Q150.792 741.237 154.681 736.376 Q158.57 731.492 165.121 731.492 Q166.88 731.492 168.662 731.839 Q170.468 732.187 172.412 732.881 Z\" fill=\"#000000\" fill-rule=\"evenodd\" fill-opacity=\"1\" /><path clip-path=\"url(#clip590)\" d=\"M182.759 732.117 L201.116 732.117 L201.116 736.052 L187.042 736.052 L187.042 744.524 Q188.06 744.177 189.079 744.015 Q190.097 743.83 191.116 743.83 Q196.903 743.83 200.282 747.001 Q203.662 750.173 203.662 755.589 Q203.662 761.168 200.19 764.27 Q196.718 767.348 190.398 767.348 Q188.222 767.348 185.954 766.978 Q183.708 766.608 181.301 765.867 L181.301 761.168 Q183.384 762.302 185.607 762.858 Q187.829 763.413 190.306 763.413 Q194.31 763.413 196.648 761.307 Q198.986 759.2 198.986 755.589 Q198.986 751.978 196.648 749.872 Q194.31 747.765 190.306 747.765 Q188.431 747.765 186.556 748.182 Q184.704 748.598 182.759 749.478 L182.759 732.117 Z\" fill=\"#000000\" fill-rule=\"evenodd\" fill-opacity=\"1\" /><path clip-path=\"url(#clip590)\" d=\"M116.325 509.274 Q112.713 509.274 110.885 512.839 Q109.079 516.381 109.079 523.51 Q109.079 530.617 110.885 534.182 Q112.713 537.723 116.325 537.723 Q119.959 537.723 121.764 534.182 Q123.593 530.617 123.593 523.51 Q123.593 516.381 121.764 512.839 Q119.959 509.274 116.325 509.274 M116.325 505.571 Q122.135 505.571 125.19 510.177 Q128.269 514.761 128.269 523.51 Q128.269 532.237 125.19 536.844 Q122.135 541.427 116.325 541.427 Q110.514 541.427 107.436 536.844 Q104.38 532.237 104.38 523.51 Q104.38 514.761 107.436 510.177 Q110.514 505.571 116.325 505.571 Z\" fill=\"#000000\" fill-rule=\"evenodd\" fill-opacity=\"1\" /><path clip-path=\"url(#clip590)\" d=\"M136.486 534.876 L141.371 534.876 L141.371 540.756 L136.486 540.756 L136.486 534.876 Z\" fill=\"#000000\" fill-rule=\"evenodd\" fill-opacity=\"1\" /><path clip-path=\"url(#clip590)\" d=\"M150.375 506.196 L172.597 506.196 L172.597 508.186 L160.051 540.756 L155.167 540.756 L166.972 510.131 L150.375 510.131 L150.375 506.196 Z\" fill=\"#000000\" fill-rule=\"evenodd\" fill-opacity=\"1\" /><path clip-path=\"url(#clip590)\" d=\"M191.718 509.274 Q188.107 509.274 186.278 512.839 Q184.472 516.381 184.472 523.51 Q184.472 530.617 186.278 534.182 Q188.107 537.723 191.718 537.723 Q195.352 537.723 197.157 534.182 Q198.986 530.617 198.986 523.51 Q198.986 516.381 197.157 512.839 Q195.352 509.274 191.718 509.274 M191.718 505.571 Q197.528 505.571 200.583 510.177 Q203.662 514.761 203.662 523.51 Q203.662 532.237 200.583 536.844 Q197.528 541.427 191.718 541.427 Q185.907 541.427 182.829 536.844 Q179.773 532.237 179.773 523.51 Q179.773 514.761 182.829 510.177 Q185.907 505.571 191.718 505.571 Z\" fill=\"#000000\" fill-rule=\"evenodd\" fill-opacity=\"1\" /><path clip-path=\"url(#clip590)\" d=\"M117.32 283.353 Q113.709 283.353 111.88 286.918 Q110.075 290.459 110.075 297.589 Q110.075 304.696 111.88 308.26 Q113.709 311.802 117.32 311.802 Q120.954 311.802 122.76 308.26 Q124.588 304.696 124.588 297.589 Q124.588 290.459 122.76 286.918 Q120.954 283.353 117.32 283.353 M117.32 279.649 Q123.13 279.649 126.186 284.256 Q129.264 288.839 129.264 297.589 Q129.264 306.316 126.186 310.922 Q123.13 315.506 117.32 315.506 Q111.51 315.506 108.431 310.922 Q105.376 306.316 105.376 297.589 Q105.376 288.839 108.431 284.256 Q111.51 279.649 117.32 279.649 Z\" fill=\"#000000\" fill-rule=\"evenodd\" fill-opacity=\"1\" /><path clip-path=\"url(#clip590)\" d=\"M137.482 308.955 L142.366 308.955 L142.366 314.834 L137.482 314.834 L137.482 308.955 Z\" fill=\"#000000\" fill-rule=\"evenodd\" fill-opacity=\"1\" /><path clip-path=\"url(#clip590)\" d=\"M151.371 280.274 L173.593 280.274 L173.593 282.265 L161.047 314.834 L156.162 314.834 L167.968 284.21 L151.371 284.21 L151.371 280.274 Z\" fill=\"#000000\" fill-rule=\"evenodd\" fill-opacity=\"1\" /><path clip-path=\"url(#clip590)\" d=\"M182.759 280.274 L201.116 280.274 L201.116 284.21 L187.042 284.21 L187.042 292.682 Q188.06 292.334 189.079 292.172 Q190.097 291.987 191.116 291.987 Q196.903 291.987 200.282 295.159 Q203.662 298.33 203.662 303.746 Q203.662 309.325 200.19 312.427 Q196.718 315.506 190.398 315.506 Q188.222 315.506 185.954 315.135 Q183.708 314.765 181.301 314.024 L181.301 309.325 Q183.384 310.459 185.607 311.015 Q187.829 311.57 190.306 311.57 Q194.31 311.57 196.648 309.464 Q198.986 307.358 198.986 303.746 Q198.986 300.135 196.648 298.029 Q194.31 295.922 190.306 295.922 Q188.431 295.922 186.556 296.339 Q184.704 296.756 182.759 297.635 L182.759 280.274 Z\" fill=\"#000000\" fill-rule=\"evenodd\" fill-opacity=\"1\" /><path clip-path=\"url(#clip590)\" d=\"M116.325 57.4317 Q112.713 57.4317 110.885 60.9965 Q109.079 64.5381 109.079 71.6677 Q109.079 78.7742 110.885 82.339 Q112.713 85.8806 116.325 85.8806 Q119.959 85.8806 121.764 82.339 Q123.593 78.7742 123.593 71.6677 Q123.593 64.5381 121.764 60.9965 Q119.959 57.4317 116.325 57.4317 M116.325 53.728 Q122.135 53.728 125.19 58.3345 Q128.269 62.9178 128.269 71.6677 Q128.269 80.3945 125.19 85.001 Q122.135 89.5843 116.325 89.5843 Q110.514 89.5843 107.436 85.001 Q104.38 80.3945 104.38 71.6677 Q104.38 62.9178 107.436 58.3345 Q110.514 53.728 116.325 53.728 Z\" fill=\"#000000\" fill-rule=\"evenodd\" fill-opacity=\"1\" /><path clip-path=\"url(#clip590)\" d=\"M136.486 83.0334 L141.371 83.0334 L141.371 88.913 L136.486 88.913 L136.486 83.0334 Z\" fill=\"#000000\" fill-rule=\"evenodd\" fill-opacity=\"1\" /><path clip-path=\"url(#clip590)\" d=\"M161.556 72.5011 Q158.222 72.5011 156.301 74.2835 Q154.403 76.0658 154.403 79.1908 Q154.403 82.3158 156.301 84.0982 Q158.222 85.8806 161.556 85.8806 Q164.889 85.8806 166.81 84.0982 Q168.732 82.2927 168.732 79.1908 Q168.732 76.0658 166.81 74.2835 Q164.912 72.5011 161.556 72.5011 M156.88 70.5103 Q153.871 69.7696 152.181 67.7094 Q150.514 65.6492 150.514 62.6863 Q150.514 58.5428 153.454 56.1354 Q156.417 53.728 161.556 53.728 Q166.718 53.728 169.658 56.1354 Q172.597 58.5428 172.597 62.6863 Q172.597 65.6492 170.908 67.7094 Q169.241 69.7696 166.255 70.5103 Q169.634 71.2974 171.509 73.589 Q173.408 75.8807 173.408 79.1908 Q173.408 84.214 170.329 86.8991 Q167.273 89.5843 161.556 89.5843 Q155.838 89.5843 152.76 86.8991 Q149.704 84.214 149.704 79.1908 Q149.704 75.8807 151.602 73.589 Q153.5 71.2974 156.88 70.5103 M155.167 63.1261 Q155.167 65.8113 156.834 67.3159 Q158.523 68.8205 161.556 68.8205 Q164.565 68.8205 166.255 67.3159 Q167.968 65.8113 167.968 63.1261 Q167.968 60.4409 166.255 58.9363 Q164.565 57.4317 161.556 57.4317 Q158.523 57.4317 156.834 58.9363 Q155.167 60.4409 155.167 63.1261 Z\" fill=\"#000000\" fill-rule=\"evenodd\" fill-opacity=\"1\" /><path clip-path=\"url(#clip590)\" d=\"M191.718 57.4317 Q188.107 57.4317 186.278 60.9965 Q184.472 64.5381 184.472 71.6677 Q184.472 78.7742 186.278 82.339 Q188.107 85.8806 191.718 85.8806 Q195.352 85.8806 197.157 82.339 Q198.986 78.7742 198.986 71.6677 Q198.986 64.5381 197.157 60.9965 Q195.352 57.4317 191.718 57.4317 M191.718 53.728 Q197.528 53.728 200.583 58.3345 Q203.662 62.9178 203.662 71.6677 Q203.662 80.3945 200.583 85.001 Q197.528 89.5843 191.718 89.5843 Q185.907 89.5843 182.829 85.001 Q179.773 80.3945 179.773 71.6677 Q179.773 62.9178 182.829 58.3345 Q185.907 53.728 191.718 53.728 Z\" fill=\"#000000\" fill-rule=\"evenodd\" fill-opacity=\"1\" /><path clip-path=\"url(#clip590)\" d=\"M25.5265 679.579 L31.0647 679.579 Q29.7916 682.062 29.155 684.735 Q28.5184 687.409 28.5184 690.273 Q28.5184 694.634 29.8552 696.83 Q31.192 698.994 33.8656 698.994 Q35.9026 698.994 37.0803 697.435 Q38.2261 695.875 39.2765 691.165 L39.7221 689.159 Q41.0589 682.921 43.5097 680.311 Q45.9286 677.669 50.2891 677.669 Q55.2544 677.669 58.1508 681.616 Q61.0472 685.531 61.0472 692.406 Q61.0472 695.27 60.4743 698.39 Q59.9332 701.477 58.8192 704.914 L52.7718 704.914 Q54.4587 701.668 55.318 698.517 Q56.1456 695.366 56.1456 692.279 Q56.1456 688.141 54.7451 685.913 Q53.3129 683.685 50.7347 683.685 Q48.3476 683.685 47.0745 685.308 Q45.8013 686.9 44.6237 692.342 L44.1462 694.379 Q43.0004 699.822 40.6451 702.241 Q38.258 704.66 34.1202 704.66 Q29.0913 704.66 26.3541 701.095 Q23.6168 697.53 23.6168 690.974 Q23.6168 687.727 24.0943 684.862 Q24.5717 681.998 25.5265 679.579 Z\" fill=\"#000000\" fill-rule=\"evenodd\" fill-opacity=\"1\" /><path clip-path=\"url(#clip590)\" d=\"M24.4762 668.343 L24.4762 662.487 L60.1242 662.487 L60.1242 668.343 L24.4762 668.343 M10.599 668.343 L10.599 662.487 L18.015 662.487 L18.015 668.343 L10.599 668.343 Z\" fill=\"#000000\" fill-rule=\"evenodd\" fill-opacity=\"1\" /><path clip-path=\"url(#clip590)\" d=\"M10.599 650.233 L10.599 644.377 L60.1242 644.377 L60.1242 650.233 L10.599 650.233 Z\" fill=\"#000000\" fill-rule=\"evenodd\" fill-opacity=\"1\" /><path clip-path=\"url(#clip590)\" d=\"M38.6081 602.49 L60.1242 602.49 L60.1242 608.347 L38.799 608.347 Q33.7383 608.347 31.2238 610.32 Q28.7094 612.293 28.7094 616.24 Q28.7094 620.983 31.7331 623.72 Q34.7568 626.457 39.9767 626.457 L60.1242 626.457 L60.1242 632.345 L10.599 632.345 L10.599 626.457 L30.0144 626.457 Q26.7997 624.356 25.2083 621.524 Q23.6168 618.659 23.6168 614.935 Q23.6168 608.792 27.4363 605.641 Q31.2238 602.49 38.6081 602.49 Z\" fill=\"#000000\" fill-rule=\"evenodd\" fill-opacity=\"1\" /><path clip-path=\"url(#clip590)\" d=\"M28.5821 576.996 Q28.5821 581.706 32.2742 584.443 Q35.9345 587.181 42.332 587.181 Q48.7295 587.181 52.4217 584.475 Q56.0819 581.738 56.0819 576.996 Q56.0819 572.317 52.3898 569.58 Q48.6977 566.842 42.332 566.842 Q35.9981 566.842 32.306 569.58 Q28.5821 572.317 28.5821 576.996 M23.6168 576.996 Q23.6168 569.357 28.5821 564.996 Q33.5473 560.636 42.332 560.636 Q51.0849 560.636 56.0819 564.996 Q61.0472 569.357 61.0472 576.996 Q61.0472 584.666 56.0819 589.027 Q51.0849 593.355 42.332 593.355 Q33.5473 593.355 28.5821 589.027 Q23.6168 584.666 23.6168 576.996 Z\" fill=\"#000000\" fill-rule=\"evenodd\" fill-opacity=\"1\" /><path clip-path=\"url(#clip590)\" d=\"M46.0559 551.533 L24.4762 551.533 L24.4762 545.676 L45.8331 545.676 Q50.8939 545.676 53.4402 543.703 Q55.9546 541.73 55.9546 537.783 Q55.9546 533.04 52.9309 530.303 Q49.9072 527.534 44.6873 527.534 L24.4762 527.534 L24.4762 521.678 L60.1242 521.678 L60.1242 527.534 L54.6496 527.534 Q57.8962 529.667 59.4876 532.499 Q61.0472 535.3 61.0472 539.024 Q61.0472 545.167 57.2278 548.35 Q53.4083 551.533 46.0559 551.533 M23.6168 536.796 L23.6168 536.796 Z\" fill=\"#000000\" fill-rule=\"evenodd\" fill-opacity=\"1\" /><path clip-path=\"url(#clip590)\" d=\"M40.8361 479.123 L43.7006 479.123 L43.7006 506.05 Q49.7481 505.668 52.9309 502.421 Q56.0819 499.143 56.0819 493.318 Q56.0819 489.945 55.2544 486.794 Q54.4269 483.611 52.7718 480.491 L58.3099 480.491 Q59.6467 483.642 60.347 486.953 Q61.0472 490.263 61.0472 493.668 Q61.0472 502.199 56.0819 507.196 Q51.1167 512.161 42.6503 512.161 Q33.8974 512.161 28.7731 507.45 Q23.6168 502.708 23.6168 494.687 Q23.6168 487.494 28.2638 483.324 Q32.8789 479.123 40.8361 479.123 M39.1173 484.979 Q34.3112 485.043 31.4466 487.685 Q28.5821 490.295 28.5821 494.623 Q28.5821 499.525 31.3512 502.485 Q34.1202 505.413 39.1492 505.859 L39.1173 484.979 Z\" fill=\"#000000\" fill-rule=\"evenodd\" fill-opacity=\"1\" /><path clip-path=\"url(#clip590)\" d=\"M14.3547 463.718 L24.4762 463.718 L24.4762 451.655 L29.0277 451.655 L29.0277 463.718 L48.3794 463.718 Q52.7399 463.718 53.9813 462.54 Q55.2226 461.331 55.2226 457.67 L55.2226 451.655 L60.1242 451.655 L60.1242 457.67 Q60.1242 464.45 57.6097 467.028 Q55.0634 469.606 48.3794 469.606 L29.0277 469.606 L29.0277 473.903 L24.4762 473.903 L24.4762 469.606 L14.3547 469.606 L14.3547 463.718 Z\" fill=\"#000000\" fill-rule=\"evenodd\" fill-opacity=\"1\" /><path clip-path=\"url(#clip590)\" d=\"M14.3547 438.16 L24.4762 438.16 L24.4762 426.097 L29.0277 426.097 L29.0277 438.16 L48.3794 438.16 Q52.7399 438.16 53.9813 436.982 Q55.2226 435.772 55.2226 432.112 L55.2226 426.097 L60.1242 426.097 L60.1242 432.112 Q60.1242 438.892 57.6097 441.47 Q55.0634 444.048 48.3794 444.048 L29.0277 444.048 L29.0277 448.345 L24.4762 448.345 L24.4762 444.048 L14.3547 444.048 L14.3547 438.16 Z\" fill=\"#000000\" fill-rule=\"evenodd\" fill-opacity=\"1\" /><path clip-path=\"url(#clip590)\" d=\"M40.8361 387.902 L43.7006 387.902 L43.7006 414.829 Q49.7481 414.447 52.9309 411.201 Q56.0819 407.922 56.0819 402.098 Q56.0819 398.724 55.2544 395.573 Q54.4269 392.39 52.7718 389.271 L58.3099 389.271 Q59.6467 392.422 60.347 395.732 Q61.0472 399.042 61.0472 402.448 Q61.0472 410.978 56.0819 415.975 Q51.1167 420.94 42.6503 420.94 Q33.8974 420.94 28.7731 416.23 Q23.6168 411.487 23.6168 403.466 Q23.6168 396.273 28.2638 392.104 Q32.8789 387.902 40.8361 387.902 M39.1173 393.759 Q34.3112 393.822 31.4466 396.464 Q28.5821 399.074 28.5821 403.403 Q28.5821 408.304 31.3512 411.264 Q34.1202 414.193 39.1492 414.638 L39.1173 393.759 Z\" fill=\"#000000\" fill-rule=\"evenodd\" fill-opacity=\"1\" /><path clip-path=\"url(#clip590)\" d=\"M25.5265 334.844 L31.0647 334.844 Q29.7916 337.327 29.155 340 Q28.5184 342.674 28.5184 345.538 Q28.5184 349.899 29.8552 352.095 Q31.192 354.26 33.8656 354.26 Q35.9026 354.26 37.0803 352.7 Q38.2261 351.14 39.2765 346.43 L39.7221 344.424 Q41.0589 338.186 43.5097 335.576 Q45.9286 332.934 50.2891 332.934 Q55.2544 332.934 58.1508 336.881 Q61.0472 340.796 61.0472 347.671 Q61.0472 350.536 60.4743 353.655 Q59.9332 356.742 58.8192 360.18 L52.7718 360.18 Q54.4587 356.933 55.318 353.782 Q56.1456 350.631 56.1456 347.544 Q56.1456 343.406 54.7451 341.178 Q53.3129 338.95 50.7347 338.95 Q48.3476 338.95 47.0745 340.573 Q45.8013 342.165 44.6237 347.607 L44.1462 349.644 Q43.0004 355.087 40.6451 357.506 Q38.258 359.925 34.1202 359.925 Q29.0913 359.925 26.3541 356.36 Q23.6168 352.795 23.6168 346.239 Q23.6168 342.992 24.0943 340.128 Q24.5717 337.263 25.5265 334.844 Z\" fill=\"#000000\" fill-rule=\"evenodd\" fill-opacity=\"1\" /><path clip-path=\"url(#clip590)\" d=\"M25.8448 297.955 L31.3193 297.955 Q29.9507 300.437 29.2823 302.952 Q28.5821 305.435 28.5821 307.981 Q28.5821 313.678 32.2105 316.829 Q35.8072 319.98 42.332 319.98 Q48.8569 319.98 52.4853 316.829 Q56.0819 313.678 56.0819 307.981 Q56.0819 305.435 55.4135 302.952 Q54.7133 300.437 53.3447 297.955 L58.7555 297.955 Q59.9014 300.406 60.4743 303.047 Q61.0472 305.657 61.0472 308.617 Q61.0472 316.67 55.9864 321.412 Q50.9257 326.155 42.332 326.155 Q33.611 326.155 28.6139 321.381 Q23.6168 316.575 23.6168 308.235 Q23.6168 305.53 24.1897 302.952 Q24.7308 300.374 25.8448 297.955 Z\" fill=\"#000000\" fill-rule=\"evenodd\" fill-opacity=\"1\" /><path clip-path=\"url(#clip590)\" d=\"M28.5821 273.956 Q28.5821 278.667 32.2742 281.404 Q35.9345 284.141 42.332 284.141 Q48.7295 284.141 52.4217 281.436 Q56.0819 278.699 56.0819 273.956 Q56.0819 269.277 52.3898 266.54 Q48.6977 263.803 42.332 263.803 Q35.9981 263.803 32.306 266.54 Q28.5821 269.277 28.5821 273.956 M23.6168 273.956 Q23.6168 266.317 28.5821 261.957 Q33.5473 257.596 42.332 257.596 Q51.0849 257.596 56.0819 261.957 Q61.0472 266.317 61.0472 273.956 Q61.0472 281.627 56.0819 285.987 Q51.0849 290.316 42.332 290.316 Q33.5473 290.316 28.5821 285.987 Q23.6168 281.627 23.6168 273.956 Z\" fill=\"#000000\" fill-rule=\"evenodd\" fill-opacity=\"1\" /><path clip-path=\"url(#clip590)\" d=\"M29.9507 227.232 Q29.3778 228.219 29.1232 229.396 Q28.8367 230.542 28.8367 231.942 Q28.8367 236.908 32.0832 239.581 Q35.2979 242.223 41.3453 242.223 L60.1242 242.223 L60.1242 248.111 L24.4762 248.111 L24.4762 242.223 L30.0144 242.223 Q26.7679 240.377 25.2083 237.417 Q23.6168 234.457 23.6168 230.224 Q23.6168 229.619 23.7123 228.887 Q23.776 228.155 23.9351 227.264 L29.9507 227.232 Z\" fill=\"#000000\" fill-rule=\"evenodd\" fill-opacity=\"1\" /><path clip-path=\"url(#clip590)\" d=\"M40.8361 192.029 L43.7006 192.029 L43.7006 218.956 Q49.7481 218.574 52.9309 215.328 Q56.0819 212.05 56.0819 206.225 Q56.0819 202.851 55.2544 199.7 Q54.4269 196.517 52.7718 193.398 L58.3099 193.398 Q59.6467 196.549 60.347 199.859 Q61.0472 203.169 61.0472 206.575 Q61.0472 215.105 56.0819 220.102 Q51.1167 225.067 42.6503 225.067 Q33.8974 225.067 28.7731 220.357 Q23.6168 215.614 23.6168 207.594 Q23.6168 200.4 28.2638 196.231 Q32.8789 192.029 40.8361 192.029 M39.1173 197.886 Q34.3112 197.95 31.4466 200.591 Q28.5821 203.201 28.5821 207.53 Q28.5821 212.432 31.3512 215.392 Q34.1202 218.32 39.1492 218.765 L39.1173 197.886 Z\" fill=\"#000000\" fill-rule=\"evenodd\" fill-opacity=\"1\" /><polyline clip-path=\"url(#clip592)\" style=\"stroke:#009af9; stroke-linecap:butt; stroke-linejoin:round; stroke-width:4; stroke-opacity:1; fill:none\" points=\"\n",
       "  282.316,326.451 390.435,69.9551 606.673,92.6254 822.911,243.345 1255.39,497.423 1471.63,625.187 1904.1,826.989 \n",
       "  \"/>\n",
       "<polyline clip-path=\"url(#clip592)\" style=\"stroke:#e26f46; stroke-linecap:butt; stroke-linejoin:round; stroke-width:4; stroke-opacity:1; fill:none\" points=\"\n",
       "  390.435,1652.16 390.435,-755.212 \n",
       "  \"/>\n",
       "<path clip-path=\"url(#clip590)\" d=\"\n",
       "M1213.57 229.513 L1895.45 229.513 L1895.45 73.9926 L1213.57 73.9926  Z\n",
       "  \" fill=\"#ffffff\" fill-rule=\"evenodd\" fill-opacity=\"1\"/>\n",
       "<polyline clip-path=\"url(#clip590)\" style=\"stroke:#000000; stroke-linecap:butt; stroke-linejoin:round; stroke-width:4; stroke-opacity:1; fill:none\" points=\"\n",
       "  1213.57,229.513 1895.45,229.513 1895.45,73.9926 1213.57,73.9926 1213.57,229.513 \n",
       "  \"/>\n",
       "<polyline clip-path=\"url(#clip590)\" style=\"stroke:#009af9; stroke-linecap:butt; stroke-linejoin:round; stroke-width:4; stroke-opacity:1; fill:none\" points=\"\n",
       "  1232.67,125.833 1347.27,125.833 \n",
       "  \"/>\n",
       "<path clip-path=\"url(#clip590)\" d=\"M1384.8 117.951 L1384.8 121.978 Q1382.99 121.053 1381.05 120.59 Q1379.11 120.127 1377.02 120.127 Q1373.85 120.127 1372.25 121.099 Q1370.68 122.071 1370.68 124.015 Q1370.68 125.497 1371.81 126.353 Q1372.95 127.187 1376.37 127.951 L1377.83 128.275 Q1382.37 129.247 1384.27 131.029 Q1386.19 132.789 1386.19 135.96 Q1386.19 139.571 1383.32 141.677 Q1380.47 143.784 1375.47 143.784 Q1373.39 143.784 1371.12 143.367 Q1368.87 142.974 1366.37 142.164 L1366.37 137.765 Q1368.73 138.992 1371.03 139.617 Q1373.32 140.219 1375.56 140.219 Q1378.57 140.219 1380.19 139.201 Q1381.81 138.159 1381.81 136.284 Q1381.81 134.548 1380.63 133.622 Q1379.48 132.696 1375.52 131.84 L1374.04 131.492 Q1370.08 130.659 1368.32 128.946 Q1366.56 127.21 1366.56 124.201 Q1366.56 120.543 1369.15 118.553 Q1371.74 116.562 1376.51 116.562 Q1378.87 116.562 1380.96 116.909 Q1383.04 117.256 1384.8 117.951 Z\" fill=\"#000000\" fill-rule=\"evenodd\" fill-opacity=\"1\" /><path clip-path=\"url(#clip590)\" d=\"M1392.97 117.187 L1397.23 117.187 L1397.23 143.113 L1392.97 143.113 L1392.97 117.187 M1392.97 107.094 L1397.23 107.094 L1397.23 112.488 L1392.97 112.488 L1392.97 107.094 Z\" fill=\"#000000\" fill-rule=\"evenodd\" fill-opacity=\"1\" /><path clip-path=\"url(#clip590)\" d=\"M1406.14 107.094 L1410.4 107.094 L1410.4 143.113 L1406.14 143.113 L1406.14 107.094 Z\" fill=\"#000000\" fill-rule=\"evenodd\" fill-opacity=\"1\" /><path clip-path=\"url(#clip590)\" d=\"M1440.86 127.465 L1440.86 143.113 L1436.6 143.113 L1436.6 127.603 Q1436.6 123.923 1435.17 122.094 Q1433.73 120.266 1430.86 120.266 Q1427.42 120.266 1425.42 122.465 Q1423.43 124.664 1423.43 128.46 L1423.43 143.113 L1419.15 143.113 L1419.15 107.094 L1423.43 107.094 L1423.43 121.215 Q1424.96 118.877 1427.02 117.719 Q1429.1 116.562 1431.81 116.562 Q1436.28 116.562 1438.57 119.34 Q1440.86 122.094 1440.86 127.465 Z\" fill=\"#000000\" fill-rule=\"evenodd\" fill-opacity=\"1\" /><path clip-path=\"url(#clip590)\" d=\"M1459.41 120.173 Q1455.98 120.173 1453.99 122.858 Q1452 125.52 1452 130.173 Q1452 134.826 1453.97 137.511 Q1455.96 140.173 1459.41 140.173 Q1462.81 140.173 1464.8 137.488 Q1466.79 134.802 1466.79 130.173 Q1466.79 125.566 1464.8 122.881 Q1462.81 120.173 1459.41 120.173 M1459.41 116.562 Q1464.96 116.562 1468.13 120.173 Q1471.3 123.784 1471.3 130.173 Q1471.3 136.539 1468.13 140.173 Q1464.96 143.784 1459.41 143.784 Q1453.83 143.784 1450.66 140.173 Q1447.51 136.539 1447.51 130.173 Q1447.51 123.784 1450.66 120.173 Q1453.83 116.562 1459.41 116.562 Z\" fill=\"#000000\" fill-rule=\"evenodd\" fill-opacity=\"1\" /><path clip-path=\"url(#clip590)\" d=\"M1477.92 132.881 L1477.92 117.187 L1482.18 117.187 L1482.18 132.719 Q1482.18 136.4 1483.62 138.252 Q1485.05 140.08 1487.92 140.08 Q1491.37 140.08 1493.36 137.881 Q1495.38 135.682 1495.38 131.886 L1495.38 117.187 L1499.64 117.187 L1499.64 143.113 L1495.38 143.113 L1495.38 139.131 Q1493.83 141.492 1491.77 142.65 Q1489.73 143.784 1487.02 143.784 Q1482.55 143.784 1480.24 141.006 Q1477.92 138.228 1477.92 132.881 M1488.64 116.562 L1488.64 116.562 Z\" fill=\"#000000\" fill-rule=\"evenodd\" fill-opacity=\"1\" /><path clip-path=\"url(#clip590)\" d=\"M1530.59 129.085 L1530.59 131.168 L1511 131.168 Q1511.28 135.566 1513.64 137.881 Q1516.03 140.173 1520.26 140.173 Q1522.72 140.173 1525.01 139.571 Q1527.32 138.969 1529.59 137.765 L1529.59 141.793 Q1527.3 142.765 1524.89 143.275 Q1522.48 143.784 1520.01 143.784 Q1513.8 143.784 1510.17 140.173 Q1506.56 136.562 1506.56 130.404 Q1506.56 124.039 1509.98 120.312 Q1513.43 116.562 1519.27 116.562 Q1524.5 116.562 1527.53 119.941 Q1530.59 123.298 1530.59 129.085 M1526.33 127.835 Q1526.28 124.34 1524.36 122.256 Q1522.46 120.173 1519.31 120.173 Q1515.75 120.173 1513.6 122.187 Q1511.47 124.201 1511.14 127.858 L1526.33 127.835 Z\" fill=\"#000000\" fill-rule=\"evenodd\" fill-opacity=\"1\" /><path clip-path=\"url(#clip590)\" d=\"M1541.79 109.826 L1541.79 117.187 L1550.56 117.187 L1550.56 120.497 L1541.79 120.497 L1541.79 134.571 Q1541.79 137.742 1542.65 138.645 Q1543.53 139.548 1546.19 139.548 L1550.56 139.548 L1550.56 143.113 L1546.19 143.113 Q1541.26 143.113 1539.38 141.284 Q1537.51 139.432 1537.51 134.571 L1537.51 120.497 L1534.38 120.497 L1534.38 117.187 L1537.51 117.187 L1537.51 109.826 L1541.79 109.826 Z\" fill=\"#000000\" fill-rule=\"evenodd\" fill-opacity=\"1\" /><path clip-path=\"url(#clip590)\" d=\"M1560.38 109.826 L1560.38 117.187 L1569.15 117.187 L1569.15 120.497 L1560.38 120.497 L1560.38 134.571 Q1560.38 137.742 1561.23 138.645 Q1562.11 139.548 1564.78 139.548 L1569.15 139.548 L1569.15 143.113 L1564.78 143.113 Q1559.84 143.113 1557.97 141.284 Q1556.09 139.432 1556.09 134.571 L1556.09 120.497 L1552.97 120.497 L1552.97 117.187 L1556.09 117.187 L1556.09 109.826 L1560.38 109.826 Z\" fill=\"#000000\" fill-rule=\"evenodd\" fill-opacity=\"1\" /><path clip-path=\"url(#clip590)\" d=\"M1596.93 129.085 L1596.93 131.168 L1577.34 131.168 Q1577.62 135.566 1579.98 137.881 Q1582.37 140.173 1586.6 140.173 Q1589.06 140.173 1591.35 139.571 Q1593.66 138.969 1595.93 137.765 L1595.93 141.793 Q1593.64 142.765 1591.23 143.275 Q1588.83 143.784 1586.35 143.784 Q1580.15 143.784 1576.51 140.173 Q1572.9 136.562 1572.9 130.404 Q1572.9 124.039 1576.33 120.312 Q1579.78 116.562 1585.61 116.562 Q1590.84 116.562 1593.87 119.941 Q1596.93 123.298 1596.93 129.085 M1592.67 127.835 Q1592.62 124.34 1590.7 122.256 Q1588.8 120.173 1585.65 120.173 Q1582.09 120.173 1579.94 122.187 Q1577.81 124.201 1577.48 127.858 L1592.67 127.835 Z\" fill=\"#000000\" fill-rule=\"evenodd\" fill-opacity=\"1\" /><path clip-path=\"url(#clip590)\" d=\"M1635.52 117.951 L1635.52 121.978 Q1633.71 121.053 1631.77 120.59 Q1629.82 120.127 1627.74 120.127 Q1624.57 120.127 1622.97 121.099 Q1621.4 122.071 1621.4 124.015 Q1621.4 125.497 1622.53 126.353 Q1623.66 127.187 1627.09 127.951 L1628.55 128.275 Q1633.09 129.247 1634.98 131.029 Q1636.9 132.789 1636.9 135.96 Q1636.9 139.571 1634.03 141.677 Q1631.19 143.784 1626.19 143.784 Q1624.1 143.784 1621.84 143.367 Q1619.59 142.974 1617.09 142.164 L1617.09 137.765 Q1619.45 138.992 1621.74 139.617 Q1624.03 140.219 1626.28 140.219 Q1629.29 140.219 1630.91 139.201 Q1632.53 138.159 1632.53 136.284 Q1632.53 134.548 1631.35 133.622 Q1630.19 132.696 1626.23 131.84 L1624.75 131.492 Q1620.79 130.659 1619.03 128.946 Q1617.28 127.21 1617.28 124.201 Q1617.28 120.543 1619.87 118.553 Q1622.46 116.562 1627.23 116.562 Q1629.59 116.562 1631.67 116.909 Q1633.76 117.256 1635.52 117.951 Z\" fill=\"#000000\" fill-rule=\"evenodd\" fill-opacity=\"1\" /><path clip-path=\"url(#clip590)\" d=\"M1662.34 118.182 L1662.34 122.164 Q1660.54 121.168 1658.71 120.682 Q1656.9 120.173 1655.05 120.173 Q1650.91 120.173 1648.62 122.812 Q1646.33 125.428 1646.33 130.173 Q1646.33 134.918 1648.62 137.557 Q1650.91 140.173 1655.05 140.173 Q1656.9 140.173 1658.71 139.687 Q1660.54 139.177 1662.34 138.182 L1662.34 142.117 Q1660.56 142.951 1658.64 143.367 Q1656.74 143.784 1654.59 143.784 Q1648.73 143.784 1645.28 140.103 Q1641.84 136.423 1641.84 130.173 Q1641.84 123.83 1645.31 120.196 Q1648.8 116.562 1654.87 116.562 Q1656.84 116.562 1658.71 116.979 Q1660.59 117.372 1662.34 118.182 Z\" fill=\"#000000\" fill-rule=\"evenodd\" fill-opacity=\"1\" /><path clip-path=\"url(#clip590)\" d=\"M1679.8 120.173 Q1676.37 120.173 1674.38 122.858 Q1672.39 125.52 1672.39 130.173 Q1672.39 134.826 1674.36 137.511 Q1676.35 140.173 1679.8 140.173 Q1683.2 140.173 1685.19 137.488 Q1687.18 134.802 1687.18 130.173 Q1687.18 125.566 1685.19 122.881 Q1683.2 120.173 1679.8 120.173 M1679.8 116.562 Q1685.35 116.562 1688.52 120.173 Q1691.7 123.784 1691.7 130.173 Q1691.7 136.539 1688.52 140.173 Q1685.35 143.784 1679.8 143.784 Q1674.22 143.784 1671.05 140.173 Q1667.9 136.539 1667.9 130.173 Q1667.9 123.784 1671.05 120.173 Q1674.22 116.562 1679.8 116.562 Z\" fill=\"#000000\" fill-rule=\"evenodd\" fill-opacity=\"1\" /><path clip-path=\"url(#clip590)\" d=\"M1713.78 121.168 Q1713.06 120.752 1712.21 120.566 Q1711.37 120.358 1710.35 120.358 Q1706.74 120.358 1704.8 122.719 Q1702.88 125.057 1702.88 129.455 L1702.88 143.113 L1698.59 143.113 L1698.59 117.187 L1702.88 117.187 L1702.88 121.215 Q1704.22 118.853 1706.37 117.719 Q1708.52 116.562 1711.6 116.562 Q1712.04 116.562 1712.58 116.631 Q1713.11 116.678 1713.76 116.793 L1713.78 121.168 Z\" fill=\"#000000\" fill-rule=\"evenodd\" fill-opacity=\"1\" /><path clip-path=\"url(#clip590)\" d=\"M1739.38 129.085 L1739.38 131.168 L1719.8 131.168 Q1720.08 135.566 1722.44 137.881 Q1724.82 140.173 1729.06 140.173 Q1731.51 140.173 1733.8 139.571 Q1736.12 138.969 1738.39 137.765 L1738.39 141.793 Q1736.09 142.765 1733.69 143.275 Q1731.28 143.784 1728.8 143.784 Q1722.6 143.784 1718.96 140.173 Q1715.35 136.562 1715.35 130.404 Q1715.35 124.039 1718.78 120.312 Q1722.23 116.562 1728.06 116.562 Q1733.29 116.562 1736.33 119.941 Q1739.38 123.298 1739.38 129.085 M1735.12 127.835 Q1735.08 124.34 1733.15 122.256 Q1731.26 120.173 1728.11 120.173 Q1724.54 120.173 1722.39 122.187 Q1720.26 124.201 1719.94 127.858 L1735.12 127.835 Z\" fill=\"#000000\" fill-rule=\"evenodd\" fill-opacity=\"1\" /><polyline clip-path=\"url(#clip590)\" style=\"stroke:#e26f46; stroke-linecap:butt; stroke-linejoin:round; stroke-width:4; stroke-opacity:1; fill:none\" points=\"\n",
       "  1232.67,177.673 1347.27,177.673 \n",
       "  \"/>\n",
       "<path clip-path=\"url(#clip590)\" d=\"M1378.27 172.013 Q1374.85 172.013 1372.86 174.698 Q1370.86 177.36 1370.86 182.013 Q1370.86 186.666 1372.83 189.351 Q1374.82 192.013 1378.27 192.013 Q1381.67 192.013 1383.67 189.328 Q1385.66 186.642 1385.66 182.013 Q1385.66 177.406 1383.67 174.721 Q1381.67 172.013 1378.27 172.013 M1378.27 168.402 Q1383.83 168.402 1387 172.013 Q1390.17 175.624 1390.17 182.013 Q1390.17 188.379 1387 192.013 Q1383.83 195.624 1378.27 195.624 Q1372.69 195.624 1369.52 192.013 Q1366.37 188.379 1366.37 182.013 Q1366.37 175.624 1369.52 172.013 Q1372.69 168.402 1378.27 168.402 Z\" fill=\"#000000\" fill-rule=\"evenodd\" fill-opacity=\"1\" /><path clip-path=\"url(#clip590)\" d=\"M1401.35 191.064 L1401.35 204.814 L1397.07 204.814 L1397.07 169.027 L1401.35 169.027 L1401.35 172.962 Q1402.69 170.647 1404.73 169.536 Q1406.79 168.402 1409.64 168.402 Q1414.36 168.402 1417.3 172.152 Q1420.26 175.902 1420.26 182.013 Q1420.26 188.124 1417.3 191.874 Q1414.36 195.624 1409.64 195.624 Q1406.79 195.624 1404.73 194.513 Q1402.69 193.379 1401.35 191.064 M1415.84 182.013 Q1415.84 177.314 1413.9 174.652 Q1411.98 171.967 1408.6 171.967 Q1405.22 171.967 1403.27 174.652 Q1401.35 177.314 1401.35 182.013 Q1401.35 186.712 1403.27 189.397 Q1405.22 192.059 1408.6 192.059 Q1411.98 192.059 1413.9 189.397 Q1415.84 186.712 1415.84 182.013 Z\" fill=\"#000000\" fill-rule=\"evenodd\" fill-opacity=\"1\" /><path clip-path=\"url(#clip590)\" d=\"M1431.54 161.666 L1431.54 169.027 L1440.31 169.027 L1440.31 172.337 L1431.54 172.337 L1431.54 186.411 Q1431.54 189.582 1432.39 190.485 Q1433.27 191.388 1435.93 191.388 L1440.31 191.388 L1440.31 194.953 L1435.93 194.953 Q1431 194.953 1429.13 193.124 Q1427.25 191.272 1427.25 186.411 L1427.25 172.337 L1424.13 172.337 L1424.13 169.027 L1427.25 169.027 L1427.25 161.666 L1431.54 161.666 Z\" fill=\"#000000\" fill-rule=\"evenodd\" fill-opacity=\"1\" /><path clip-path=\"url(#clip590)\" d=\"M1445.91 169.027 L1450.17 169.027 L1450.17 194.953 L1445.91 194.953 L1445.91 169.027 M1445.91 158.934 L1450.17 158.934 L1450.17 164.328 L1445.91 164.328 L1445.91 158.934 Z\" fill=\"#000000\" fill-rule=\"evenodd\" fill-opacity=\"1\" /><path clip-path=\"url(#clip590)\" d=\"M1479.27 174.004 Q1480.86 171.133 1483.09 169.768 Q1485.31 168.402 1488.32 168.402 Q1492.37 168.402 1494.57 171.249 Q1496.77 174.073 1496.77 179.305 L1496.77 194.953 L1492.48 194.953 L1492.48 179.443 Q1492.48 175.717 1491.16 173.911 Q1489.85 172.106 1487.14 172.106 Q1483.83 172.106 1481.91 174.305 Q1479.98 176.504 1479.98 180.3 L1479.98 194.953 L1475.7 194.953 L1475.7 179.443 Q1475.7 175.693 1474.38 173.911 Q1473.06 172.106 1470.31 172.106 Q1467.04 172.106 1465.12 174.328 Q1463.2 176.527 1463.2 180.3 L1463.2 194.953 L1458.92 194.953 L1458.92 169.027 L1463.2 169.027 L1463.2 173.055 Q1464.66 170.67 1466.7 169.536 Q1468.73 168.402 1471.54 168.402 Q1474.36 168.402 1476.33 169.837 Q1478.32 171.272 1479.27 174.004 Z\" fill=\"#000000\" fill-rule=\"evenodd\" fill-opacity=\"1\" /><path clip-path=\"url(#clip590)\" d=\"M1517.04 181.92 Q1511.88 181.92 1509.89 183.101 Q1507.9 184.281 1507.9 187.129 Q1507.9 189.397 1509.38 190.74 Q1510.89 192.059 1513.46 192.059 Q1517 192.059 1519.13 189.559 Q1521.28 187.036 1521.28 182.869 L1521.28 181.92 L1517.04 181.92 M1525.54 180.161 L1525.54 194.953 L1521.28 194.953 L1521.28 191.017 Q1519.82 193.379 1517.65 194.513 Q1515.47 195.624 1512.32 195.624 Q1508.34 195.624 1505.98 193.402 Q1503.64 191.156 1503.64 187.406 Q1503.64 183.031 1506.56 180.809 Q1509.5 178.587 1515.31 178.587 L1521.28 178.587 L1521.28 178.17 Q1521.28 175.231 1519.34 173.633 Q1517.41 172.013 1513.92 172.013 Q1511.7 172.013 1509.59 172.545 Q1507.48 173.078 1505.54 174.143 L1505.54 170.207 Q1507.88 169.305 1510.08 168.865 Q1512.28 168.402 1514.36 168.402 Q1519.98 168.402 1522.76 171.318 Q1525.54 174.235 1525.54 180.161 Z\" fill=\"#000000\" fill-rule=\"evenodd\" fill-opacity=\"1\" /><path clip-path=\"url(#clip590)\" d=\"M1534.31 158.934 L1538.57 158.934 L1538.57 194.953 L1534.31 194.953 L1534.31 158.934 Z\" fill=\"#000000\" fill-rule=\"evenodd\" fill-opacity=\"1\" /><path clip-path=\"url(#clip590)\" d=\"M1582.32 174.096 L1575.59 174.096 L1573.64 181.828 L1580.42 181.828 L1582.32 174.096 M1578.85 160.925 L1576.44 170.531 L1583.2 170.531 L1585.63 160.925 L1589.34 160.925 L1586.95 170.531 L1594.17 170.531 L1594.17 174.096 L1586.05 174.096 L1584.15 181.828 L1591.51 181.828 L1591.51 185.369 L1583.25 185.369 L1580.84 194.953 L1577.14 194.953 L1579.52 185.369 L1572.74 185.369 L1570.35 194.953 L1566.63 194.953 L1569.03 185.369 L1561.74 185.369 L1561.74 181.828 L1569.89 181.828 L1571.84 174.096 L1564.38 174.096 L1564.38 170.531 L1572.74 170.531 L1575.1 160.925 L1578.85 160.925 Z\" fill=\"#000000\" fill-rule=\"evenodd\" fill-opacity=\"1\" /><path clip-path=\"url(#clip590)\" d=\"M1627.39 172.013 Q1623.96 172.013 1621.97 174.698 Q1619.98 177.36 1619.98 182.013 Q1619.98 186.666 1621.95 189.351 Q1623.94 192.013 1627.39 192.013 Q1630.79 192.013 1632.78 189.328 Q1634.78 186.642 1634.78 182.013 Q1634.78 177.406 1632.78 174.721 Q1630.79 172.013 1627.39 172.013 M1627.39 168.402 Q1632.95 168.402 1636.12 172.013 Q1639.29 175.624 1639.29 182.013 Q1639.29 188.379 1636.12 192.013 Q1632.95 195.624 1627.39 195.624 Q1621.81 195.624 1618.64 192.013 Q1615.49 188.379 1615.49 182.013 Q1615.49 175.624 1618.64 172.013 Q1621.81 168.402 1627.39 168.402 Z\" fill=\"#000000\" fill-rule=\"evenodd\" fill-opacity=\"1\" /><path clip-path=\"url(#clip590)\" d=\"M1659.47 158.934 L1659.47 162.476 L1655.4 162.476 Q1653.11 162.476 1652.21 163.402 Q1651.33 164.328 1651.33 166.735 L1651.33 169.027 L1658.34 169.027 L1658.34 172.337 L1651.33 172.337 L1651.33 194.953 L1647.04 194.953 L1647.04 172.337 L1642.97 172.337 L1642.97 169.027 L1647.04 169.027 L1647.04 167.221 Q1647.04 162.893 1649.06 160.925 Q1651.07 158.934 1655.45 158.934 L1659.47 158.934 Z\" fill=\"#000000\" fill-rule=\"evenodd\" fill-opacity=\"1\" /><path clip-path=\"url(#clip590)\" d=\"M1696.77 170.022 L1696.77 174.004 Q1694.96 173.008 1693.13 172.522 Q1691.33 172.013 1689.47 172.013 Q1685.33 172.013 1683.04 174.652 Q1680.75 177.268 1680.75 182.013 Q1680.75 186.758 1683.04 189.397 Q1685.33 192.013 1689.47 192.013 Q1691.33 192.013 1693.13 191.527 Q1694.96 191.017 1696.77 190.022 L1696.77 193.957 Q1694.98 194.791 1693.06 195.207 Q1691.16 195.624 1689.01 195.624 Q1683.15 195.624 1679.71 191.943 Q1676.26 188.263 1676.26 182.013 Q1676.26 175.67 1679.73 172.036 Q1683.22 168.402 1689.29 168.402 Q1691.26 168.402 1693.13 168.819 Q1695.01 169.212 1696.77 170.022 Z\" fill=\"#000000\" fill-rule=\"evenodd\" fill-opacity=\"1\" /><path clip-path=\"url(#clip590)\" d=\"M1704.17 158.934 L1708.43 158.934 L1708.43 194.953 L1704.17 194.953 L1704.17 158.934 Z\" fill=\"#000000\" fill-rule=\"evenodd\" fill-opacity=\"1\" /><path clip-path=\"url(#clip590)\" d=\"M1716.9 184.721 L1716.9 169.027 L1721.16 169.027 L1721.16 184.559 Q1721.16 188.24 1722.6 190.092 Q1724.03 191.92 1726.9 191.92 Q1730.35 191.92 1732.34 189.721 Q1734.36 187.522 1734.36 183.726 L1734.36 169.027 L1738.62 169.027 L1738.62 194.953 L1734.36 194.953 L1734.36 190.971 Q1732.81 193.332 1730.75 194.49 Q1728.71 195.624 1726 195.624 Q1721.53 195.624 1719.22 192.846 Q1716.9 190.068 1716.9 184.721 M1727.62 168.402 L1727.62 168.402 Z\" fill=\"#000000\" fill-rule=\"evenodd\" fill-opacity=\"1\" /><path clip-path=\"url(#clip590)\" d=\"M1763.92 169.791 L1763.92 173.818 Q1762.11 172.893 1760.17 172.43 Q1758.22 171.967 1756.14 171.967 Q1752.97 171.967 1751.37 172.939 Q1749.8 173.911 1749.8 175.855 Q1749.8 177.337 1750.93 178.193 Q1752.07 179.027 1755.49 179.791 L1756.95 180.115 Q1761.49 181.087 1763.39 182.869 Q1765.31 184.629 1765.31 187.8 Q1765.31 191.411 1762.44 193.517 Q1759.59 195.624 1754.59 195.624 Q1752.51 195.624 1750.24 195.207 Q1747.99 194.814 1745.49 194.004 L1745.49 189.605 Q1747.85 190.832 1750.14 191.457 Q1752.44 192.059 1754.68 192.059 Q1757.69 192.059 1759.31 191.041 Q1760.93 189.999 1760.93 188.124 Q1760.93 186.388 1759.75 185.462 Q1758.59 184.536 1754.64 183.68 L1753.15 183.332 Q1749.2 182.499 1747.44 180.786 Q1745.68 179.05 1745.68 176.041 Q1745.68 172.383 1748.27 170.393 Q1750.86 168.402 1755.63 168.402 Q1757.99 168.402 1760.08 168.749 Q1762.16 169.096 1763.92 169.791 Z\" fill=\"#000000\" fill-rule=\"evenodd\" fill-opacity=\"1\" /><path clip-path=\"url(#clip590)\" d=\"M1776.3 161.666 L1776.3 169.027 L1785.08 169.027 L1785.08 172.337 L1776.3 172.337 L1776.3 186.411 Q1776.3 189.582 1777.16 190.485 Q1778.04 191.388 1780.7 191.388 L1785.08 191.388 L1785.08 194.953 L1780.7 194.953 Q1775.77 194.953 1773.89 193.124 Q1772.02 191.272 1772.02 186.411 L1772.02 172.337 L1768.89 172.337 L1768.89 169.027 L1772.02 169.027 L1772.02 161.666 L1776.3 161.666 Z\" fill=\"#000000\" fill-rule=\"evenodd\" fill-opacity=\"1\" /><path clip-path=\"url(#clip590)\" d=\"M1812.85 180.925 L1812.85 183.008 L1793.27 183.008 Q1793.55 187.406 1795.91 189.721 Q1798.29 192.013 1802.53 192.013 Q1804.98 192.013 1807.27 191.411 Q1809.59 190.809 1811.86 189.605 L1811.86 193.633 Q1809.57 194.605 1807.16 195.115 Q1804.75 195.624 1802.27 195.624 Q1796.07 195.624 1792.44 192.013 Q1788.83 188.402 1788.83 182.244 Q1788.83 175.879 1792.25 172.152 Q1795.7 168.402 1801.53 168.402 Q1806.76 168.402 1809.8 171.781 Q1812.85 175.138 1812.85 180.925 M1808.59 179.675 Q1808.55 176.18 1806.63 174.096 Q1804.73 172.013 1801.58 172.013 Q1798.01 172.013 1795.86 174.027 Q1793.73 176.041 1793.41 179.698 L1808.59 179.675 Z\" fill=\"#000000\" fill-rule=\"evenodd\" fill-opacity=\"1\" /><path clip-path=\"url(#clip590)\" d=\"M1834.87 173.008 Q1834.15 172.592 1833.29 172.406 Q1832.46 172.198 1831.44 172.198 Q1827.83 172.198 1825.89 174.559 Q1823.96 176.897 1823.96 181.295 L1823.96 194.953 L1819.68 194.953 L1819.68 169.027 L1823.96 169.027 L1823.96 173.055 Q1825.31 170.693 1827.46 169.559 Q1829.61 168.402 1832.69 168.402 Q1833.13 168.402 1833.66 168.471 Q1834.2 168.518 1834.84 168.633 L1834.87 173.008 Z\" fill=\"#000000\" fill-rule=\"evenodd\" fill-opacity=\"1\" /><path clip-path=\"url(#clip590)\" d=\"M1855.86 169.791 L1855.86 173.818 Q1854.06 172.893 1852.11 172.43 Q1850.17 171.967 1848.08 171.967 Q1844.91 171.967 1843.32 172.939 Q1841.74 173.911 1841.74 175.855 Q1841.74 177.337 1842.88 178.193 Q1844.01 179.027 1847.44 179.791 L1848.89 180.115 Q1853.43 181.087 1855.33 182.869 Q1857.25 184.629 1857.25 187.8 Q1857.25 191.411 1854.38 193.517 Q1851.53 195.624 1846.53 195.624 Q1844.45 195.624 1842.18 195.207 Q1839.94 194.814 1837.44 194.004 L1837.44 189.605 Q1839.8 190.832 1842.09 191.457 Q1844.38 192.059 1846.63 192.059 Q1849.63 192.059 1851.26 191.041 Q1852.88 189.999 1852.88 188.124 Q1852.88 186.388 1851.7 185.462 Q1850.54 184.536 1846.58 183.68 L1845.1 183.332 Q1841.14 182.499 1839.38 180.786 Q1837.62 179.05 1837.62 176.041 Q1837.62 172.383 1840.21 170.393 Q1842.81 168.402 1847.57 168.402 Q1849.94 168.402 1852.02 168.749 Q1854.1 169.096 1855.86 169.791 Z\" fill=\"#000000\" fill-rule=\"evenodd\" fill-opacity=\"1\" /></svg>\n"
      ]
     },
     "execution_count": 99,
     "metadata": {},
     "output_type": "execute_result"
    }
   ],
   "source": [
    "ks = Primes.primes(2, 17)\n",
    "ys = map(k ->\n",
    "            Statistics.mean(Statistics.mean(Clustering.silhouettes(Clustering.kmedoids(distance_matrix, k), distance_matrix)) for i in 1:1000),\n",
    "            ks)\n",
    "\n",
    "ymax, ymax_index = findmax(ys)\n",
    "\n",
    "optimal_k = ks[ymax_index]\n",
    "\n",
    "p = StatsPlots.plot(ks, ys, label=\"silhouette score\", ylabel = \"silhouette score\", xlabel = \"number of clusters\", size=(2*scale,scale))\n",
    "StatsPlots.vline!(p, [optimal_k], label=\"optimal # of clusters\")"
   ]
  },
  {
   "cell_type": "code",
   "execution_count": 38,
   "id": "ef2167b3-2adb-4cc4-bfa2-2f350c0440d0",
   "metadata": {},
   "outputs": [
    {
     "data": {
      "text/plain": [
       "(0.8683912672179184, 2)"
      ]
     },
     "execution_count": 38,
     "metadata": {},
     "output_type": "execute_result"
    }
   ],
   "source": [
    "clusterings = [Clustering.kmedoids(distance_matrix, optimal_k) for i in 1:10]\n",
    "\n",
    "max_value, max_value_index = findmax(clustering -> Statistics.mean(Clustering.silhouettes(clustering, distance_matrix)), clusterings)"
   ]
  },
  {
   "cell_type": "code",
   "execution_count": 39,
   "id": "e7829cf9-b2d8-400f-b0b9-223151bd09ad",
   "metadata": {},
   "outputs": [
    {
     "data": {
      "text/plain": [
       "Clustering.KmedoidsResult{Float64}([41, 171, 111], [1, 1, 1, 1, 1, 1, 1, 1, 1, 1  …  2, 2, 2, 2, 2, 2, 2, 2, 2, 2], [5.357552004618084, 4.357552004618084, 3.7725895038969277, 3.357552004618084, 3.0356239097307216, 2.7725895038969277, 2.5501970825604796, 2.357552004618084, 2.1876270031757716, 2.0356239097307216  …  0.0070248102580912075, 0.007922958230128785, 0.008282060917952805, 0.00917942677439676, 0.009358832985022048, 0.01061405216633915, 0.011509969130415243, 0.012584335599990837, 0.01294228003574105, 0.01865734585408596], [81, 60, 60], 83.62922813601475, 1, true)"
      ]
     },
     "execution_count": 39,
     "metadata": {},
     "output_type": "execute_result"
    }
   ],
   "source": [
    "optimal_clustering = clusterings[max_value_index]"
   ]
  },
  {
   "cell_type": "code",
   "execution_count": 40,
   "id": "57505fb9-97cc-45f1-be22-fa75cecec480",
   "metadata": {},
   "outputs": [
    {
     "data": {
      "text/plain": [
       "201-element Vector{Int64}:\n",
       " 1\n",
       " 1\n",
       " 1\n",
       " 1\n",
       " 1\n",
       " 1\n",
       " 1\n",
       " 1\n",
       " 1\n",
       " 1\n",
       " 1\n",
       " 1\n",
       " 1\n",
       " ⋮\n",
       " 2\n",
       " 2\n",
       " 2\n",
       " 2\n",
       " 2\n",
       " 2\n",
       " 2\n",
       " 2\n",
       " 2\n",
       " 2\n",
       " 2\n",
       " 2"
      ]
     },
     "execution_count": 40,
     "metadata": {},
     "output_type": "execute_result"
    }
   ],
   "source": [
    "optimal_clustering.assignments"
   ]
  },
  {
   "cell_type": "code",
   "execution_count": 41,
   "id": "718a1f70-24a0-4e5d-8a43-0d9f210b1bb5",
   "metadata": {},
   "outputs": [
    {
     "data": {
      "text/plain": [
       "(41, 1)"
      ]
     },
     "execution_count": 41,
     "metadata": {},
     "output_type": "execute_result"
    }
   ],
   "source": [
    "min_medoid_value, min_medoid_index = findmin(optimal_clustering.medoids)"
   ]
  },
  {
   "cell_type": "code",
   "execution_count": 42,
   "id": "f9bab4fd-d788-4f81-ab0d-4d2eb92773d6",
   "metadata": {},
   "outputs": [
    {
     "data": {
      "text/plain": [
       "201-element Vector{Bool}:\n",
       " 0\n",
       " 0\n",
       " 0\n",
       " 0\n",
       " 0\n",
       " 0\n",
       " 0\n",
       " 0\n",
       " 0\n",
       " 0\n",
       " 0\n",
       " 0\n",
       " 0\n",
       " ⋮\n",
       " 1\n",
       " 1\n",
       " 1\n",
       " 1\n",
       " 1\n",
       " 1\n",
       " 1\n",
       " 1\n",
       " 1\n",
       " 1\n",
       " 1\n",
       " 1"
      ]
     },
     "execution_count": 42,
     "metadata": {},
     "output_type": "execute_result"
    }
   ],
   "source": [
    "indices_to_include = map(assignment -> assignment .!= min_medoid_index, optimal_clustering.assignments)"
   ]
  },
  {
   "cell_type": "code",
   "execution_count": 43,
   "id": "11259831-3f29-4a53-8bcb-da5d78632f10",
   "metadata": {},
   "outputs": [
    {
     "data": {
      "text/plain": [
       "201-element Vector{Float64}:\n",
       "  0.0\n",
       "  1.0\n",
       "  1.584962500721156\n",
       "  2.0\n",
       "  2.321928094887362\n",
       "  2.584962500721156\n",
       "  2.807354922057604\n",
       "  3.0\n",
       "  3.169925001442312\n",
       "  3.321928094887362\n",
       "  3.4594316186372973\n",
       "  3.584962500721156\n",
       "  3.700439718141092\n",
       "  ⋮\n",
       " 12.96974625081451\n",
       " 12.970465440779995\n",
       " 12.97100459807343\n",
       " 12.971902746045467\n",
       " 12.972261848733291\n",
       " 12.973159214589735\n",
       " 12.97333862080036\n",
       " 12.974593839981678\n",
       " 12.975489756945754\n",
       " 12.97656412341533\n",
       " 12.97692206785108\n",
       " 12.982637133669424"
      ]
     },
     "execution_count": 43,
     "metadata": {},
     "output_type": "execute_result"
    }
   ],
   "source": [
    "kmer_depth_of_coverage_bins"
   ]
  },
  {
   "cell_type": "code",
   "execution_count": 87,
   "id": "4cefce06-dfee-4685-9577-cafa5cb28ca2",
   "metadata": {},
   "outputs": [
    {
     "data": {
      "text/plain": [
       "115"
      ]
     },
     "execution_count": 87,
     "metadata": {},
     "output_type": "execute_result"
    }
   ],
   "source": [
    "threshold = Int(ceil(2^maximum(kmer_depth_of_coverage_bins[.!indices_to_include]))) + 1"
   ]
  },
  {
   "cell_type": "code",
   "execution_count": 88,
   "id": "038f0050-1ee1-4943-a455-61fc142d2927",
   "metadata": {},
   "outputs": [],
   "source": [
    "groupings = []\n",
    "for cluster_index in 1:optimal_k\n",
    "    push!(groupings, kmer_counts_histogram[findall(optimal_clustering.assignments .== cluster_index)])\n",
    "end"
   ]
  },
  {
   "cell_type": "code",
   "execution_count": 89,
   "id": "9f3f8586-55c9-493c-972f-1766a7c82513",
   "metadata": {},
   "outputs": [
    {
     "data": {
      "text/plain": [
       "3-element Vector{Any}:\n",
       " [1 => 34002, 2 => 12999, 3 => 6266, 4 => 3091, 5 => 1871, 6 => 1466, 7 => 1090, 8 => 951, 9 => 961, 10 => 617  …  78 => 1, 79 => 1, 88 => 1, 91 => 3, 92 => 2, 93 => 1, 97 => 1, 98 => 1, 101 => 1, 113 => 1]\n",
       " [814 => 1, 816 => 1, 818 => 2, 819 => 7, 820 => 6, 821 => 7, 822 => 5, 823 => 5, 824 => 1, 825 => 9  …  866 => 5, 867 => 2, 868 => 3, 869 => 1, 870 => 2, 871 => 1, 872 => 1, 874 => 1, 875 => 1, 1699 => 1]\n",
       " [7942 => 1, 7943 => 1, 7947 => 1, 7948 => 1, 7949 => 1, 7952 => 1, 7953 => 1, 7955 => 2, 7956 => 1, 7957 => 1  …  8029 => 1, 8034 => 1, 8036 => 1, 8041 => 1, 8042 => 1, 8049 => 1, 8054 => 1, 8060 => 1, 8062 => 1, 8094 => 1]"
      ]
     },
     "execution_count": 89,
     "metadata": {},
     "output_type": "execute_result"
    }
   ],
   "source": [
    "groupings = sort(groupings, by=x->Statistics.median(first.(x)))"
   ]
  },
  {
   "cell_type": "code",
   "execution_count": 90,
   "id": "cd67ce48-4707-4cff-9b65-4ed82d0b7d3d",
   "metadata": {},
   "outputs": [
    {
     "data": {
      "text/plain": [
       "3-element Vector{Vector{Float64}}:\n",
       " [0.0, 1.0, 1.584962500721156, 2.0, 2.321928094887362, 2.584962500721156, 2.807354922057604, 3.0, 3.169925001442312, 3.321928094887362  …  6.285402218862249, 6.303780748177103, 6.459431618637297, 6.507794640198696, 6.523561956057013, 6.539158811108031, 6.599912842187128, 6.614709844115208, 6.658211482751795, 6.820178962415188]\n",
       " [9.668884984266247, 9.672425341971495, 9.67595703294175, 9.677719641641009, 9.679480099505446, 9.681238411777805, 9.682994583681683, 9.684748620421626, 9.686500527183219, 9.688250309133178  …  9.758223214726724, 9.759888183221834, 9.761551232444479, 9.7632123668144, 9.76487159073609, 9.766528908598865, 9.768184324776927, 9.7714894695006, 9.77313920671969, 10.73047013718422]\n",
       " [12.955286645524469, 12.955468287959821, 12.956194629090778, 12.95637615724967, 12.956557662570523, 12.957102041562287, 12.957283455588415, 12.95764621521841, 12.957827560833744, 12.958008883656943  …  12.97100459807343, 12.971902746045467, 12.972261848733291, 12.973159214589735, 12.97333862080036, 12.974593839981678, 12.975489756945754, 12.97656412341533, 12.97692206785108, 12.982637133669424]"
      ]
     },
     "execution_count": 90,
     "metadata": {},
     "output_type": "execute_result"
    }
   ],
   "source": [
    "xs = [log2.(first.(x)) for x in groupings]"
   ]
  },
  {
   "cell_type": "code",
   "execution_count": 91,
   "id": "15339c97-3ca0-4ea9-b21a-b4ee6ce412c9",
   "metadata": {},
   "outputs": [
    {
     "data": {
      "text/plain": [
       "3-element Vector{Vector{Float64}}:\n",
       " [15.053331987830681, 13.666113021993025, 12.613329054371054, 11.593857938858223, 10.869593843240784, 10.517669388133811, 10.090112419664289, 9.893301530860564, 9.90839262077375, 9.269126679149418  …  0.0, 0.0, 0.0, 1.584962500721156, 1.0, 0.0, 0.0, 0.0, 0.0, 0.0]\n",
       " [0.0, 0.0, 1.0, 2.807354922057604, 2.584962500721156, 2.807354922057604, 2.321928094887362, 2.321928094887362, 0.0, 3.169925001442312  …  2.321928094887362, 1.0, 1.584962500721156, 0.0, 1.0, 0.0, 0.0, 0.0, 0.0, 0.0]\n",
       " [0.0, 0.0, 0.0, 0.0, 0.0, 0.0, 0.0, 1.0, 0.0, 0.0  …  0.0, 0.0, 0.0, 0.0, 0.0, 0.0, 0.0, 0.0, 0.0, 0.0]"
      ]
     },
     "execution_count": 91,
     "metadata": {},
     "output_type": "execute_result"
    }
   ],
   "source": [
    "ys = [log2.(last.(x)) for x in groupings]"
   ]
  },
  {
   "cell_type": "code",
   "execution_count": 92,
   "id": "e94798e9-d7f3-4c3c-ae2f-dcfb897cc99a",
   "metadata": {},
   "outputs": [
    {
     "data": {
      "text/plain": [
       "1×3 Matrix{String}:\n",
       " \"sequencing errors\"  \"cluster 2\"  \"cluster 3\""
      ]
     },
     "execution_count": 92,
     "metadata": {},
     "output_type": "execute_result"
    }
   ],
   "source": [
    "labels = reshape(vcat([\"sequencing errors\"], [\"cluster $i\" for i in 2:optimal_k]), (1,optimal_k))"
   ]
  },
  {
   "cell_type": "code",
   "execution_count": 93,
   "id": "6b74a6a2-4cce-47ee-8009-792824fd3a86",
   "metadata": {},
   "outputs": [
    {
     "data": {
      "image/svg+xml": [
       "<?xml version=\"1.0\" encoding=\"utf-8\"?>\n",
       "<svg xmlns=\"http://www.w3.org/2000/svg\" xmlns:xlink=\"http://www.w3.org/1999/xlink\" width=\"500\" height=\"250\" viewBox=\"0 0 2000 1000\">\n",
       "<defs>\n",
       "  <clipPath id=\"clip350\">\n",
       "    <rect x=\"0\" y=\"0\" width=\"2000\" height=\"1000\"/>\n",
       "  </clipPath>\n",
       "</defs>\n",
       "<path clip-path=\"url(#clip350)\" d=\"\n",
       "M0 1000 L2000 1000 L2000 0 L0 0  Z\n",
       "  \" fill=\"#ffffff\" fill-rule=\"evenodd\" fill-opacity=\"1\"/>\n",
       "<defs>\n",
       "  <clipPath id=\"clip351\">\n",
       "    <rect x=\"400\" y=\"0\" width=\"1401\" height=\"1000\"/>\n",
       "  </clipPath>\n",
       "</defs>\n",
       "<path clip-path=\"url(#clip350)\" d=\"\n",
       "M186.347 849.7 L1952.76 849.7 L1952.76 108.352 L186.347 108.352  Z\n",
       "  \" fill=\"#ffffff\" fill-rule=\"evenodd\" fill-opacity=\"1\"/>\n",
       "<defs>\n",
       "  <clipPath id=\"clip352\">\n",
       "    <rect x=\"186\" y=\"108\" width=\"1767\" height=\"742\"/>\n",
       "  </clipPath>\n",
       "</defs>\n",
       "<polyline clip-path=\"url(#clip352)\" style=\"stroke:#000000; stroke-linecap:butt; stroke-linejoin:round; stroke-width:2; stroke-opacity:0.1; fill:none\" points=\"\n",
       "  236.34,849.7 236.34,108.352 \n",
       "  \"/>\n",
       "<polyline clip-path=\"url(#clip352)\" style=\"stroke:#000000; stroke-linecap:butt; stroke-linejoin:round; stroke-width:2; stroke-opacity:0.1; fill:none\" points=\"\n",
       "  493.056,849.7 493.056,108.352 \n",
       "  \"/>\n",
       "<polyline clip-path=\"url(#clip352)\" style=\"stroke:#000000; stroke-linecap:butt; stroke-linejoin:round; stroke-width:2; stroke-opacity:0.1; fill:none\" points=\"\n",
       "  749.771,849.7 749.771,108.352 \n",
       "  \"/>\n",
       "<polyline clip-path=\"url(#clip352)\" style=\"stroke:#000000; stroke-linecap:butt; stroke-linejoin:round; stroke-width:2; stroke-opacity:0.1; fill:none\" points=\"\n",
       "  1006.49,849.7 1006.49,108.352 \n",
       "  \"/>\n",
       "<polyline clip-path=\"url(#clip352)\" style=\"stroke:#000000; stroke-linecap:butt; stroke-linejoin:round; stroke-width:2; stroke-opacity:0.1; fill:none\" points=\"\n",
       "  1263.2,849.7 1263.2,108.352 \n",
       "  \"/>\n",
       "<polyline clip-path=\"url(#clip352)\" style=\"stroke:#000000; stroke-linecap:butt; stroke-linejoin:round; stroke-width:2; stroke-opacity:0.1; fill:none\" points=\"\n",
       "  1519.92,849.7 1519.92,108.352 \n",
       "  \"/>\n",
       "<polyline clip-path=\"url(#clip352)\" style=\"stroke:#000000; stroke-linecap:butt; stroke-linejoin:round; stroke-width:2; stroke-opacity:0.1; fill:none\" points=\"\n",
       "  1776.63,849.7 1776.63,108.352 \n",
       "  \"/>\n",
       "<polyline clip-path=\"url(#clip350)\" style=\"stroke:#000000; stroke-linecap:butt; stroke-linejoin:round; stroke-width:4; stroke-opacity:1; fill:none\" points=\"\n",
       "  186.347,849.7 1952.76,849.7 \n",
       "  \"/>\n",
       "<polyline clip-path=\"url(#clip350)\" style=\"stroke:#000000; stroke-linecap:butt; stroke-linejoin:round; stroke-width:4; stroke-opacity:1; fill:none\" points=\"\n",
       "  236.34,849.7 236.34,830.802 \n",
       "  \"/>\n",
       "<polyline clip-path=\"url(#clip350)\" style=\"stroke:#000000; stroke-linecap:butt; stroke-linejoin:round; stroke-width:4; stroke-opacity:1; fill:none\" points=\"\n",
       "  493.056,849.7 493.056,830.802 \n",
       "  \"/>\n",
       "<polyline clip-path=\"url(#clip350)\" style=\"stroke:#000000; stroke-linecap:butt; stroke-linejoin:round; stroke-width:4; stroke-opacity:1; fill:none\" points=\"\n",
       "  749.771,849.7 749.771,830.802 \n",
       "  \"/>\n",
       "<polyline clip-path=\"url(#clip350)\" style=\"stroke:#000000; stroke-linecap:butt; stroke-linejoin:round; stroke-width:4; stroke-opacity:1; fill:none\" points=\"\n",
       "  1006.49,849.7 1006.49,830.802 \n",
       "  \"/>\n",
       "<polyline clip-path=\"url(#clip350)\" style=\"stroke:#000000; stroke-linecap:butt; stroke-linejoin:round; stroke-width:4; stroke-opacity:1; fill:none\" points=\"\n",
       "  1263.2,849.7 1263.2,830.802 \n",
       "  \"/>\n",
       "<polyline clip-path=\"url(#clip350)\" style=\"stroke:#000000; stroke-linecap:butt; stroke-linejoin:round; stroke-width:4; stroke-opacity:1; fill:none\" points=\"\n",
       "  1519.92,849.7 1519.92,830.802 \n",
       "  \"/>\n",
       "<polyline clip-path=\"url(#clip350)\" style=\"stroke:#000000; stroke-linecap:butt; stroke-linejoin:round; stroke-width:4; stroke-opacity:1; fill:none\" points=\"\n",
       "  1776.63,849.7 1776.63,830.802 \n",
       "  \"/>\n",
       "<path clip-path=\"url(#clip350)\" d=\"M236.34 875.691 Q232.729 875.691 230.9 879.255 Q229.095 882.797 229.095 889.927 Q229.095 897.033 230.9 900.598 Q232.729 904.139 236.34 904.139 Q239.974 904.139 241.78 900.598 Q243.609 897.033 243.609 889.927 Q243.609 882.797 241.78 879.255 Q239.974 875.691 236.34 875.691 M236.34 871.987 Q242.15 871.987 245.206 876.593 Q248.285 881.177 248.285 889.927 Q248.285 898.653 245.206 903.26 Q242.15 907.843 236.34 907.843 Q230.53 907.843 227.451 903.26 Q224.396 898.653 224.396 889.927 Q224.396 881.177 227.451 876.593 Q230.53 871.987 236.34 871.987 Z\" fill=\"#000000\" fill-rule=\"evenodd\" fill-opacity=\"1\" /><path clip-path=\"url(#clip350)\" d=\"M487.709 903.237 L504.028 903.237 L504.028 907.172 L482.084 907.172 L482.084 903.237 Q484.746 900.482 489.329 895.852 Q493.935 891.2 495.116 889.857 Q497.361 887.334 498.241 885.598 Q499.144 883.839 499.144 882.149 Q499.144 879.394 497.199 877.658 Q495.278 875.922 492.176 875.922 Q489.977 875.922 487.523 876.686 Q485.093 877.45 482.315 879.001 L482.315 874.279 Q485.139 873.144 487.593 872.566 Q490.047 871.987 492.084 871.987 Q497.454 871.987 500.648 874.672 Q503.843 877.357 503.843 881.848 Q503.843 883.978 503.033 885.899 Q502.246 887.797 500.139 890.39 Q499.56 891.061 496.459 894.278 Q493.357 897.473 487.709 903.237 Z\" fill=\"#000000\" fill-rule=\"evenodd\" fill-opacity=\"1\" /><path clip-path=\"url(#clip350)\" d=\"M752.781 876.686 L740.975 895.135 L752.781 895.135 L752.781 876.686 M751.554 872.612 L757.433 872.612 L757.433 895.135 L762.364 895.135 L762.364 899.024 L757.433 899.024 L757.433 907.172 L752.781 907.172 L752.781 899.024 L737.179 899.024 L737.179 894.51 L751.554 872.612 Z\" fill=\"#000000\" fill-rule=\"evenodd\" fill-opacity=\"1\" /><path clip-path=\"url(#clip350)\" d=\"M1006.89 888.028 Q1003.74 888.028 1001.89 890.181 Q1000.06 892.334 1000.06 896.084 Q1000.06 899.811 1001.89 901.987 Q1003.74 904.139 1006.89 904.139 Q1010.04 904.139 1011.87 901.987 Q1013.72 899.811 1013.72 896.084 Q1013.72 892.334 1011.87 890.181 Q1010.04 888.028 1006.89 888.028 M1016.17 873.376 L1016.17 877.635 Q1014.42 876.802 1012.61 876.362 Q1010.83 875.922 1009.07 875.922 Q1004.44 875.922 1001.98 879.047 Q999.554 882.172 999.207 888.491 Q1000.57 886.478 1002.63 885.413 Q1004.69 884.325 1007.17 884.325 Q1012.38 884.325 1015.39 887.496 Q1018.42 890.644 1018.42 896.084 Q1018.42 901.408 1015.27 904.626 Q1012.12 907.843 1006.89 907.843 Q1000.9 907.843 997.726 903.26 Q994.554 898.653 994.554 889.927 Q994.554 881.732 998.443 876.871 Q1002.33 871.987 1008.88 871.987 Q1010.64 871.987 1012.42 872.334 Q1014.23 872.681 1016.17 873.376 Z\" fill=\"#000000\" fill-rule=\"evenodd\" fill-opacity=\"1\" /><path clip-path=\"url(#clip350)\" d=\"M1263.2 890.76 Q1259.87 890.76 1257.95 892.542 Q1256.05 894.325 1256.05 897.45 Q1256.05 900.575 1257.95 902.357 Q1259.87 904.139 1263.2 904.139 Q1266.54 904.139 1268.46 902.357 Q1270.38 900.552 1270.38 897.45 Q1270.38 894.325 1268.46 892.542 Q1266.56 890.76 1263.2 890.76 M1258.53 888.769 Q1255.52 888.028 1253.83 885.968 Q1252.16 883.908 1252.16 880.945 Q1252.16 876.802 1255.1 874.394 Q1258.06 871.987 1263.2 871.987 Q1268.36 871.987 1271.3 874.394 Q1274.24 876.802 1274.24 880.945 Q1274.24 883.908 1272.55 885.968 Q1270.89 888.028 1267.9 888.769 Q1271.28 889.556 1273.16 891.848 Q1275.05 894.14 1275.05 897.45 Q1275.05 902.473 1271.98 905.158 Q1268.92 907.843 1263.2 907.843 Q1257.49 907.843 1254.41 905.158 Q1251.35 902.473 1251.35 897.45 Q1251.35 894.14 1253.25 891.848 Q1255.15 889.556 1258.53 888.769 M1256.81 881.385 Q1256.81 884.07 1258.48 885.575 Q1260.17 887.079 1263.2 887.079 Q1266.21 887.079 1267.9 885.575 Q1269.61 884.07 1269.61 881.385 Q1269.61 878.7 1267.9 877.195 Q1266.21 875.691 1263.2 875.691 Q1260.17 875.691 1258.48 877.195 Q1256.81 878.7 1256.81 881.385 Z\" fill=\"#000000\" fill-rule=\"evenodd\" fill-opacity=\"1\" /><path clip-path=\"url(#clip350)\" d=\"M1494.61 903.237 L1502.24 903.237 L1502.24 876.871 L1493.93 878.538 L1493.93 874.279 L1502.2 872.612 L1506.87 872.612 L1506.87 903.237 L1514.51 903.237 L1514.51 907.172 L1494.61 907.172 L1494.61 903.237 Z\" fill=\"#000000\" fill-rule=\"evenodd\" fill-opacity=\"1\" /><path clip-path=\"url(#clip350)\" d=\"M1533.96 875.691 Q1530.35 875.691 1528.52 879.255 Q1526.71 882.797 1526.71 889.927 Q1526.71 897.033 1528.52 900.598 Q1530.35 904.139 1533.96 904.139 Q1537.59 904.139 1539.4 900.598 Q1541.23 897.033 1541.23 889.927 Q1541.23 882.797 1539.4 879.255 Q1537.59 875.691 1533.96 875.691 M1533.96 871.987 Q1539.77 871.987 1542.82 876.593 Q1545.9 881.177 1545.9 889.927 Q1545.9 898.653 1542.82 903.26 Q1539.77 907.843 1533.96 907.843 Q1528.15 907.843 1525.07 903.26 Q1522.01 898.653 1522.01 889.927 Q1522.01 881.177 1525.07 876.593 Q1528.15 871.987 1533.96 871.987 Z\" fill=\"#000000\" fill-rule=\"evenodd\" fill-opacity=\"1\" /><path clip-path=\"url(#clip350)\" d=\"M1752.12 903.237 L1759.76 903.237 L1759.76 876.871 L1751.45 878.538 L1751.45 874.279 L1759.71 872.612 L1764.39 872.612 L1764.39 903.237 L1772.03 903.237 L1772.03 907.172 L1752.12 907.172 L1752.12 903.237 Z\" fill=\"#000000\" fill-rule=\"evenodd\" fill-opacity=\"1\" /><path clip-path=\"url(#clip350)\" d=\"M1785.5 903.237 L1801.82 903.237 L1801.82 907.172 L1779.87 907.172 L1779.87 903.237 Q1782.54 900.482 1787.12 895.852 Q1791.73 891.2 1792.91 889.857 Q1795.15 887.334 1796.03 885.598 Q1796.93 883.839 1796.93 882.149 Q1796.93 879.394 1794.99 877.658 Q1793.07 875.922 1789.97 875.922 Q1787.77 875.922 1785.31 876.686 Q1782.88 877.45 1780.11 879.001 L1780.11 874.279 Q1782.93 873.144 1785.38 872.566 Q1787.84 871.987 1789.87 871.987 Q1795.25 871.987 1798.44 874.672 Q1801.63 877.357 1801.63 881.848 Q1801.63 883.978 1800.82 885.899 Q1800.04 887.797 1797.93 890.39 Q1797.35 891.061 1794.25 894.278 Q1791.15 897.473 1785.5 903.237 Z\" fill=\"#000000\" fill-rule=\"evenodd\" fill-opacity=\"1\" /><path clip-path=\"url(#clip350)\" d=\"M654.651 939.039 L660.507 939.039 L660.507 988.564 L654.651 988.564 L654.651 939.039 Z\" fill=\"#000000\" fill-rule=\"evenodd\" fill-opacity=\"1\" /><path clip-path=\"url(#clip350)\" d=\"M686.575 957.022 Q681.864 957.022 679.127 960.714 Q676.39 964.374 676.39 970.772 Q676.39 977.169 679.095 980.861 Q681.832 984.522 686.575 984.522 Q691.254 984.522 693.991 980.83 Q696.728 977.137 696.728 970.772 Q696.728 964.438 693.991 960.746 Q691.254 957.022 686.575 957.022 M686.575 952.057 Q694.214 952.057 698.574 957.022 Q702.935 961.987 702.935 970.772 Q702.935 979.525 698.574 984.522 Q694.214 989.487 686.575 989.487 Q678.904 989.487 674.544 984.522 Q670.215 979.525 670.215 970.772 Q670.215 961.987 674.544 957.022 Q678.904 952.057 686.575 952.057 Z\" fill=\"#000000\" fill-rule=\"evenodd\" fill-opacity=\"1\" /><path clip-path=\"url(#clip350)\" d=\"M736.1 970.326 Q736.1 963.96 733.458 960.459 Q730.848 956.958 726.106 956.958 Q721.395 956.958 718.754 960.459 Q716.144 963.96 716.144 970.326 Q716.144 976.66 718.754 980.161 Q721.395 983.662 726.106 983.662 Q730.848 983.662 733.458 980.161 Q736.1 976.66 736.1 970.326 M741.957 984.14 Q741.957 993.243 737.914 997.667 Q733.872 1002.12 725.533 1002.12 Q722.446 1002.12 719.708 1001.65 Q716.971 1001.2 714.393 1000.24 L714.393 994.548 Q716.971 995.948 719.486 996.616 Q722 997.285 724.61 997.285 Q730.371 997.285 733.235 994.261 Q736.1 991.269 736.1 985.19 L736.1 982.294 Q734.286 985.445 731.453 987.004 Q728.62 988.564 724.674 988.564 Q718.117 988.564 714.107 983.567 Q710.096 978.57 710.096 970.326 Q710.096 962.051 714.107 957.054 Q718.117 952.057 724.674 952.057 Q728.62 952.057 731.453 953.616 Q734.286 955.176 736.1 958.327 L736.1 952.916 L741.957 952.916 L741.957 984.14 Z\" fill=\"#000000\" fill-rule=\"evenodd\" fill-opacity=\"1\" /><path clip-path=\"url(#clip350)\" d=\"M760.385 983.153 L782.824 983.153 L782.824 988.564 L752.651 988.564 L752.651 983.153 Q756.311 979.365 762.613 973 Q768.947 966.602 770.57 964.756 Q773.658 961.287 774.867 958.9 Q776.109 956.481 776.109 954.157 Q776.109 950.37 773.435 947.982 Q770.793 945.595 766.528 945.595 Q763.504 945.595 760.131 946.646 Q756.789 947.696 752.969 949.829 L752.969 943.335 Q756.852 941.776 760.226 940.98 Q763.6 940.184 766.401 940.184 Q773.785 940.184 778.177 943.877 Q782.57 947.569 782.57 953.743 Q782.57 956.672 781.456 959.313 Q780.374 961.923 777.477 965.488 Q776.681 966.411 772.416 970.835 Q768.151 975.228 760.385 983.153 Z\" fill=\"#000000\" fill-rule=\"evenodd\" fill-opacity=\"1\" /><path clip-path=\"url(#clip350)\" d=\"M809.56 939.102 Q805.295 946.423 803.226 953.584 Q801.158 960.746 801.158 968.098 Q801.158 975.45 803.226 982.676 Q805.327 989.869 809.56 997.158 L804.468 997.158 Q799.693 989.678 797.306 982.453 Q794.951 975.228 794.951 968.098 Q794.951 961 797.306 953.807 Q799.662 946.614 804.468 939.102 L809.56 939.102 Z\" fill=\"#000000\" fill-rule=\"evenodd\" fill-opacity=\"1\" /><path clip-path=\"url(#clip350)\" d=\"M834.737 957.022 Q830.026 957.022 827.289 960.714 Q824.552 964.374 824.552 970.772 Q824.552 977.169 827.257 980.861 Q829.994 984.522 834.737 984.522 Q839.415 984.522 842.153 980.83 Q844.89 977.137 844.89 970.772 Q844.89 964.438 842.153 960.746 Q839.415 957.022 834.737 957.022 M834.737 952.057 Q842.376 952.057 846.736 957.022 Q851.097 961.987 851.097 970.772 Q851.097 979.525 846.736 984.522 Q842.376 989.487 834.737 989.487 Q827.066 989.487 822.705 984.522 Q818.377 979.525 818.377 970.772 Q818.377 961.987 822.705 957.022 Q827.066 952.057 834.737 952.057 Z\" fill=\"#000000\" fill-rule=\"evenodd\" fill-opacity=\"1\" /><path clip-path=\"url(#clip350)\" d=\"M886.394 970.772 Q886.394 964.311 883.721 960.65 Q881.079 956.958 876.432 956.958 Q871.785 956.958 869.112 960.65 Q866.47 964.311 866.47 970.772 Q866.47 977.233 869.112 980.925 Q871.785 984.585 876.432 984.585 Q881.079 984.585 883.721 980.925 Q886.394 977.233 886.394 970.772 M866.47 958.327 Q868.316 955.144 871.117 953.616 Q873.949 952.057 877.864 952.057 Q884.357 952.057 888.4 957.213 Q892.474 962.369 892.474 970.772 Q892.474 979.174 888.4 984.331 Q884.357 989.487 877.864 989.487 Q873.949 989.487 871.117 987.959 Q868.316 986.4 866.47 983.217 L866.47 988.564 L860.581 988.564 L860.581 939.039 L866.47 939.039 L866.47 958.327 Z\" fill=\"#000000\" fill-rule=\"evenodd\" fill-opacity=\"1\" /><path clip-path=\"url(#clip350)\" d=\"M924.907 953.966 L924.907 959.504 Q922.424 958.231 919.751 957.595 Q917.077 956.958 914.213 956.958 Q909.852 956.958 907.656 958.295 Q905.492 959.632 905.492 962.305 Q905.492 964.342 907.051 965.52 Q908.611 966.666 913.321 967.716 L915.327 968.162 Q921.565 969.499 924.175 971.949 Q926.817 974.368 926.817 978.729 Q926.817 983.694 922.87 986.59 Q918.955 989.487 912.08 989.487 Q909.215 989.487 906.096 988.914 Q903.009 988.373 899.571 987.259 L899.571 981.211 Q902.818 982.898 905.969 983.758 Q909.12 984.585 912.207 984.585 Q916.345 984.585 918.573 983.185 Q920.801 981.753 920.801 979.174 Q920.801 976.787 919.178 975.514 Q917.586 974.241 912.144 973.063 L910.107 972.586 Q904.664 971.44 902.245 969.085 Q899.826 966.698 899.826 962.56 Q899.826 957.531 903.391 954.794 Q906.956 952.057 913.512 952.057 Q916.759 952.057 919.623 952.534 Q922.488 953.011 924.907 953.966 Z\" fill=\"#000000\" fill-rule=\"evenodd\" fill-opacity=\"1\" /><path clip-path=\"url(#clip350)\" d=\"M966.634 969.276 L966.634 972.14 L939.707 972.14 Q940.089 978.188 943.336 981.371 Q946.614 984.522 952.439 984.522 Q955.812 984.522 958.963 983.694 Q962.146 982.867 965.265 981.211 L965.265 986.75 Q962.114 988.086 958.804 988.787 Q955.494 989.487 952.088 989.487 Q943.558 989.487 938.561 984.522 Q933.596 979.556 933.596 971.09 Q933.596 962.337 938.307 957.213 Q943.049 952.057 951.07 952.057 Q958.263 952.057 962.433 956.703 Q966.634 961.319 966.634 969.276 M960.778 967.557 Q960.714 962.751 958.072 959.886 Q955.462 957.022 951.134 957.022 Q946.232 957.022 943.272 959.791 Q940.344 962.56 939.898 967.589 L960.778 967.557 Z\" fill=\"#000000\" fill-rule=\"evenodd\" fill-opacity=\"1\" /><path clip-path=\"url(#clip350)\" d=\"M996.903 958.39 Q995.916 957.817 994.739 957.563 Q993.593 957.276 992.192 957.276 Q987.227 957.276 984.554 960.523 Q981.912 963.738 981.912 969.785 L981.912 988.564 L976.024 988.564 L976.024 952.916 L981.912 952.916 L981.912 958.454 Q983.758 955.208 986.718 953.648 Q989.678 952.057 993.911 952.057 Q994.516 952.057 995.248 952.152 Q995.98 952.216 996.871 952.375 L996.903 958.39 Z\" fill=\"#000000\" fill-rule=\"evenodd\" fill-opacity=\"1\" /><path clip-path=\"url(#clip350)\" d=\"M998.845 952.916 L1005.05 952.916 L1016.19 982.835 L1027.33 952.916 L1033.54 952.916 L1020.17 988.564 L1012.21 988.564 L998.845 952.916 Z\" fill=\"#000000\" fill-rule=\"evenodd\" fill-opacity=\"1\" /><path clip-path=\"url(#clip350)\" d=\"M1072.11 969.276 L1072.11 972.14 L1045.19 972.14 Q1045.57 978.188 1048.82 981.371 Q1052.09 984.522 1057.92 984.522 Q1061.29 984.522 1064.44 983.694 Q1067.63 982.867 1070.75 981.211 L1070.75 986.75 Q1067.59 988.086 1064.28 988.787 Q1060.97 989.487 1057.57 989.487 Q1049.04 989.487 1044.04 984.522 Q1039.08 979.556 1039.08 971.09 Q1039.08 962.337 1043.79 957.213 Q1048.53 952.057 1056.55 952.057 Q1063.74 952.057 1067.91 956.703 Q1072.11 961.319 1072.11 969.276 M1066.26 967.557 Q1066.19 962.751 1063.55 959.886 Q1060.94 957.022 1056.61 957.022 Q1051.71 957.022 1048.75 959.791 Q1045.82 962.56 1045.38 967.589 L1066.26 967.557 Z\" fill=\"#000000\" fill-rule=\"evenodd\" fill-opacity=\"1\" /><path clip-path=\"url(#clip350)\" d=\"M1105.18 958.327 L1105.18 939.039 L1111.04 939.039 L1111.04 988.564 L1105.18 988.564 L1105.18 983.217 Q1103.34 986.4 1100.5 987.959 Q1097.7 989.487 1093.76 989.487 Q1087.3 989.487 1083.22 984.331 Q1079.18 979.174 1079.18 970.772 Q1079.18 962.369 1083.22 957.213 Q1087.3 952.057 1093.76 952.057 Q1097.7 952.057 1100.5 953.616 Q1103.34 955.144 1105.18 958.327 M1085.23 970.772 Q1085.23 977.233 1087.87 980.925 Q1090.54 984.585 1095.19 984.585 Q1099.84 984.585 1102.51 980.925 Q1105.18 977.233 1105.18 970.772 Q1105.18 964.311 1102.51 960.65 Q1099.84 956.958 1095.19 956.958 Q1090.54 956.958 1087.87 960.65 Q1085.23 964.311 1085.23 970.772 Z\" fill=\"#000000\" fill-rule=\"evenodd\" fill-opacity=\"1\" /><path clip-path=\"url(#clip350)\" d=\"M1161.87 939.039 L1161.87 943.908 L1156.27 943.908 Q1153.12 943.908 1151.88 945.182 Q1150.67 946.455 1150.67 949.765 L1150.67 952.916 L1160.31 952.916 L1160.31 957.467 L1150.67 957.467 L1150.67 988.564 L1144.78 988.564 L1144.78 957.467 L1139.18 957.467 L1139.18 952.916 L1144.78 952.916 L1144.78 950.433 Q1144.78 944.481 1147.55 941.776 Q1150.32 939.039 1156.33 939.039 L1161.87 939.039 Z\" fill=\"#000000\" fill-rule=\"evenodd\" fill-opacity=\"1\" /><path clip-path=\"url(#clip350)\" d=\"M1187.43 958.39 Q1186.44 957.817 1185.26 957.563 Q1184.12 957.276 1182.72 957.276 Q1177.75 957.276 1175.08 960.523 Q1172.44 963.738 1172.44 969.785 L1172.44 988.564 L1166.55 988.564 L1166.55 952.916 L1172.44 952.916 L1172.44 958.454 Q1174.28 955.208 1177.24 953.648 Q1180.2 952.057 1184.44 952.057 Q1185.04 952.057 1185.77 952.152 Q1186.51 952.216 1187.4 952.375 L1187.43 958.39 Z\" fill=\"#000000\" fill-rule=\"evenodd\" fill-opacity=\"1\" /><path clip-path=\"url(#clip350)\" d=\"M1222.63 969.276 L1222.63 972.14 L1195.7 972.14 Q1196.09 978.188 1199.33 981.371 Q1202.61 984.522 1208.44 984.522 Q1211.81 984.522 1214.96 983.694 Q1218.14 982.867 1221.26 981.211 L1221.26 986.75 Q1218.11 988.086 1214.8 988.787 Q1211.49 989.487 1208.09 989.487 Q1199.56 989.487 1194.56 984.522 Q1189.59 979.556 1189.59 971.09 Q1189.59 962.337 1194.3 957.213 Q1199.05 952.057 1207.07 952.057 Q1214.26 952.057 1218.43 956.703 Q1222.63 961.319 1222.63 969.276 M1216.77 967.557 Q1216.71 962.751 1214.07 959.886 Q1211.46 957.022 1207.13 957.022 Q1202.23 957.022 1199.27 959.791 Q1196.34 962.56 1195.9 967.589 L1216.77 967.557 Z\" fill=\"#000000\" fill-rule=\"evenodd\" fill-opacity=\"1\" /><path clip-path=\"url(#clip350)\" d=\"M1235.74 970.772 Q1235.74 977.233 1238.39 980.925 Q1241.06 984.585 1245.71 984.585 Q1250.35 984.585 1253.03 980.925 Q1255.7 977.233 1255.7 970.772 Q1255.7 964.311 1253.03 960.65 Q1250.35 956.958 1245.71 956.958 Q1241.06 956.958 1238.39 960.65 Q1235.74 964.311 1235.74 970.772 M1255.7 983.217 Q1253.85 986.4 1251.02 987.959 Q1248.22 989.487 1244.27 989.487 Q1237.81 989.487 1233.74 984.331 Q1229.7 979.174 1229.7 970.772 Q1229.7 962.369 1233.74 957.213 Q1237.81 952.057 1244.27 952.057 Q1248.22 952.057 1251.02 953.616 Q1253.85 955.144 1255.7 958.327 L1255.7 952.916 L1261.56 952.916 L1261.56 1002.12 L1255.7 1002.12 L1255.7 983.217 Z\" fill=\"#000000\" fill-rule=\"evenodd\" fill-opacity=\"1\" /><path clip-path=\"url(#clip350)\" d=\"M1273.02 974.496 L1273.02 952.916 L1278.87 952.916 L1278.87 974.273 Q1278.87 979.334 1280.85 981.88 Q1282.82 984.394 1286.77 984.394 Q1291.51 984.394 1294.25 981.371 Q1297.01 978.347 1297.01 973.127 L1297.01 952.916 L1302.87 952.916 L1302.87 988.564 L1297.01 988.564 L1297.01 983.089 Q1294.88 986.336 1292.05 987.927 Q1289.25 989.487 1285.52 989.487 Q1279.38 989.487 1276.2 985.667 Q1273.02 981.848 1273.02 974.496 M1287.75 952.057 L1287.75 952.057 Z\" fill=\"#000000\" fill-rule=\"evenodd\" fill-opacity=\"1\" /><path clip-path=\"url(#clip350)\" d=\"M1345.43 969.276 L1345.43 972.14 L1318.5 972.14 Q1318.88 978.188 1322.13 981.371 Q1325.41 984.522 1331.23 984.522 Q1334.6 984.522 1337.75 983.694 Q1340.94 982.867 1344.06 981.211 L1344.06 986.75 Q1340.91 988.086 1337.6 988.787 Q1334.29 989.487 1330.88 989.487 Q1322.35 989.487 1317.35 984.522 Q1312.39 979.556 1312.39 971.09 Q1312.39 962.337 1317.1 957.213 Q1321.84 952.057 1329.86 952.057 Q1337.05 952.057 1341.22 956.703 Q1345.43 961.319 1345.43 969.276 M1339.57 967.557 Q1339.51 962.751 1336.86 959.886 Q1334.25 957.022 1329.93 957.022 Q1325.02 957.022 1322.06 959.791 Q1319.14 962.56 1318.69 967.589 L1339.57 967.557 Z\" fill=\"#000000\" fill-rule=\"evenodd\" fill-opacity=\"1\" /><path clip-path=\"url(#clip350)\" d=\"M1384.67 967.048 L1384.67 988.564 L1378.81 988.564 L1378.81 967.239 Q1378.81 962.178 1376.84 959.664 Q1374.87 957.149 1370.92 957.149 Q1366.18 957.149 1363.44 960.173 Q1360.7 963.197 1360.7 968.416 L1360.7 988.564 L1354.81 988.564 L1354.81 952.916 L1360.7 952.916 L1360.7 958.454 Q1362.8 955.239 1365.64 953.648 Q1368.5 952.057 1372.23 952.057 Q1378.37 952.057 1381.52 955.876 Q1384.67 959.664 1384.67 967.048 Z\" fill=\"#000000\" fill-rule=\"evenodd\" fill-opacity=\"1\" /><path clip-path=\"url(#clip350)\" d=\"M1422 954.285 L1422 959.759 Q1419.52 958.39 1417.01 957.722 Q1414.53 957.022 1411.98 957.022 Q1406.28 957.022 1403.13 960.65 Q1399.98 964.247 1399.98 970.772 Q1399.98 977.297 1403.13 980.925 Q1406.28 984.522 1411.98 984.522 Q1414.53 984.522 1417.01 983.853 Q1419.52 983.153 1422 981.784 L1422 987.195 Q1419.55 988.341 1416.91 988.914 Q1414.3 989.487 1411.34 989.487 Q1403.29 989.487 1398.55 984.426 Q1393.8 979.365 1393.8 970.772 Q1393.8 962.051 1398.58 957.054 Q1403.39 952.057 1411.72 952.057 Q1414.43 952.057 1417.01 952.629 Q1419.59 953.171 1422 954.285 Z\" fill=\"#000000\" fill-rule=\"evenodd\" fill-opacity=\"1\" /><path clip-path=\"url(#clip350)\" d=\"M1447.02 991.874 Q1444.54 998.24 1442.18 1000.18 Q1439.83 1002.12 1435.88 1002.12 L1431.2 1002.12 L1431.2 997.221 L1434.64 997.221 Q1437.06 997.221 1438.4 996.075 Q1439.73 994.93 1441.36 990.665 L1442.41 987.991 L1427.99 952.916 L1434.2 952.916 L1445.34 980.798 L1456.48 952.916 L1462.68 952.916 L1447.02 991.874 Z\" fill=\"#000000\" fill-rule=\"evenodd\" fill-opacity=\"1\" /><path clip-path=\"url(#clip350)\" d=\"M1469.84 939.102 L1474.94 939.102 Q1479.71 946.614 1482.07 953.807 Q1484.45 961 1484.45 968.098 Q1484.45 975.228 1482.07 982.453 Q1479.71 989.678 1474.94 997.158 L1469.84 997.158 Q1474.08 989.869 1476.15 982.676 Q1478.25 975.45 1478.25 968.098 Q1478.25 960.746 1476.15 953.584 Q1474.08 946.423 1469.84 939.102 Z\" fill=\"#000000\" fill-rule=\"evenodd\" fill-opacity=\"1\" /><polyline clip-path=\"url(#clip352)\" style=\"stroke:#000000; stroke-linecap:butt; stroke-linejoin:round; stroke-width:2; stroke-opacity:0.1; fill:none\" points=\"\n",
       "  186.347,828.718 1952.76,828.718 \n",
       "  \"/>\n",
       "<polyline clip-path=\"url(#clip352)\" style=\"stroke:#000000; stroke-linecap:butt; stroke-linejoin:round; stroke-width:2; stroke-opacity:0.1; fill:none\" points=\"\n",
       "  186.347,596.416 1952.76,596.416 \n",
       "  \"/>\n",
       "<polyline clip-path=\"url(#clip352)\" style=\"stroke:#000000; stroke-linecap:butt; stroke-linejoin:round; stroke-width:2; stroke-opacity:0.1; fill:none\" points=\"\n",
       "  186.347,364.114 1952.76,364.114 \n",
       "  \"/>\n",
       "<polyline clip-path=\"url(#clip352)\" style=\"stroke:#000000; stroke-linecap:butt; stroke-linejoin:round; stroke-width:2; stroke-opacity:0.1; fill:none\" points=\"\n",
       "  186.347,131.811 1952.76,131.811 \n",
       "  \"/>\n",
       "<polyline clip-path=\"url(#clip350)\" style=\"stroke:#000000; stroke-linecap:butt; stroke-linejoin:round; stroke-width:4; stroke-opacity:1; fill:none\" points=\"\n",
       "  186.347,849.7 186.347,108.352 \n",
       "  \"/>\n",
       "<polyline clip-path=\"url(#clip350)\" style=\"stroke:#000000; stroke-linecap:butt; stroke-linejoin:round; stroke-width:4; stroke-opacity:1; fill:none\" points=\"\n",
       "  186.347,828.718 205.245,828.718 \n",
       "  \"/>\n",
       "<polyline clip-path=\"url(#clip350)\" style=\"stroke:#000000; stroke-linecap:butt; stroke-linejoin:round; stroke-width:4; stroke-opacity:1; fill:none\" points=\"\n",
       "  186.347,596.416 205.245,596.416 \n",
       "  \"/>\n",
       "<polyline clip-path=\"url(#clip350)\" style=\"stroke:#000000; stroke-linecap:butt; stroke-linejoin:round; stroke-width:4; stroke-opacity:1; fill:none\" points=\"\n",
       "  186.347,364.114 205.245,364.114 \n",
       "  \"/>\n",
       "<polyline clip-path=\"url(#clip350)\" style=\"stroke:#000000; stroke-linecap:butt; stroke-linejoin:round; stroke-width:4; stroke-opacity:1; fill:none\" points=\"\n",
       "  186.347,131.811 205.245,131.811 \n",
       "  \"/>\n",
       "<path clip-path=\"url(#clip350)\" d=\"M144.403 814.517 Q140.792 814.517 138.963 818.082 Q137.158 821.623 137.158 828.753 Q137.158 835.859 138.963 839.424 Q140.792 842.966 144.403 842.966 Q148.037 842.966 149.843 839.424 Q151.672 835.859 151.672 828.753 Q151.672 821.623 149.843 818.082 Q148.037 814.517 144.403 814.517 M144.403 810.813 Q150.213 810.813 153.269 815.42 Q156.347 820.003 156.347 828.753 Q156.347 837.48 153.269 842.086 Q150.213 846.67 144.403 846.67 Q138.593 846.67 135.514 842.086 Q132.459 837.48 132.459 828.753 Q132.459 820.003 135.514 815.42 Q138.593 810.813 144.403 810.813 Z\" fill=\"#000000\" fill-rule=\"evenodd\" fill-opacity=\"1\" /><path clip-path=\"url(#clip350)\" d=\"M135.445 579.136 L153.801 579.136 L153.801 583.071 L139.727 583.071 L139.727 591.543 Q140.746 591.196 141.764 591.034 Q142.783 590.849 143.801 590.849 Q149.588 590.849 152.968 594.02 Q156.347 597.191 156.347 602.608 Q156.347 608.187 152.875 611.289 Q149.403 614.367 143.084 614.367 Q140.908 614.367 138.639 613.997 Q136.394 613.627 133.986 612.886 L133.986 608.187 Q136.07 609.321 138.292 609.877 Q140.514 610.432 142.991 610.432 Q146.996 610.432 149.334 608.326 Q151.672 606.219 151.672 602.608 Q151.672 598.997 149.334 596.891 Q146.996 594.784 142.991 594.784 Q141.116 594.784 139.241 595.201 Q137.389 595.617 135.445 596.497 L135.445 579.136 Z\" fill=\"#000000\" fill-rule=\"evenodd\" fill-opacity=\"1\" /><path clip-path=\"url(#clip350)\" d=\"M105.051 377.459 L112.69 377.459 L112.69 351.093 L104.38 352.76 L104.38 348.5 L112.644 346.834 L117.32 346.834 L117.32 377.459 L124.959 377.459 L124.959 381.394 L105.051 381.394 L105.051 377.459 Z\" fill=\"#000000\" fill-rule=\"evenodd\" fill-opacity=\"1\" /><path clip-path=\"url(#clip350)\" d=\"M144.403 349.912 Q140.792 349.912 138.963 353.477 Q137.158 357.019 137.158 364.148 Q137.158 371.255 138.963 374.82 Q140.792 378.361 144.403 378.361 Q148.037 378.361 149.843 374.82 Q151.672 371.255 151.672 364.148 Q151.672 357.019 149.843 353.477 Q148.037 349.912 144.403 349.912 M144.403 346.209 Q150.213 346.209 153.269 350.815 Q156.347 355.399 156.347 364.148 Q156.347 372.875 153.269 377.482 Q150.213 382.065 144.403 382.065 Q138.593 382.065 135.514 377.482 Q132.459 372.875 132.459 364.148 Q132.459 355.399 135.514 350.815 Q138.593 346.209 144.403 346.209 Z\" fill=\"#000000\" fill-rule=\"evenodd\" fill-opacity=\"1\" /><path clip-path=\"url(#clip350)\" d=\"M106.047 145.156 L113.686 145.156 L113.686 118.791 L105.376 120.457 L105.376 116.198 L113.639 114.531 L118.315 114.531 L118.315 145.156 L125.954 145.156 L125.954 149.091 L106.047 149.091 L106.047 145.156 Z\" fill=\"#000000\" fill-rule=\"evenodd\" fill-opacity=\"1\" /><path clip-path=\"url(#clip350)\" d=\"M135.445 114.531 L153.801 114.531 L153.801 118.467 L139.727 118.467 L139.727 126.939 Q140.746 126.592 141.764 126.43 Q142.783 126.244 143.801 126.244 Q149.588 126.244 152.968 129.416 Q156.347 132.587 156.347 138.004 Q156.347 143.582 152.875 146.684 Q149.403 149.763 143.084 149.763 Q140.908 149.763 138.639 149.392 Q136.394 149.022 133.986 148.281 L133.986 143.582 Q136.07 144.717 138.292 145.272 Q140.514 145.828 142.991 145.828 Q146.996 145.828 149.334 143.721 Q151.672 141.615 151.672 138.004 Q151.672 134.392 149.334 132.286 Q146.996 130.18 142.991 130.18 Q141.116 130.18 139.241 130.596 Q137.389 131.013 135.445 131.893 L135.445 114.531 Z\" fill=\"#000000\" fill-rule=\"evenodd\" fill-opacity=\"1\" /><path clip-path=\"url(#clip350)\" d=\"M10.599 749.505 L10.599 743.648 L60.1242 743.648 L60.1242 749.505 L10.599 749.505 Z\" fill=\"#000000\" fill-rule=\"evenodd\" fill-opacity=\"1\" /><path clip-path=\"url(#clip350)\" d=\"M28.5821 717.581 Q28.5821 722.291 32.2742 725.029 Q35.9345 727.766 42.332 727.766 Q48.7295 727.766 52.4217 725.061 Q56.0819 722.323 56.0819 717.581 Q56.0819 712.902 52.3898 710.165 Q48.6977 707.428 42.332 707.428 Q35.9981 707.428 32.306 710.165 Q28.5821 712.902 28.5821 717.581 M23.6168 717.581 Q23.6168 709.942 28.5821 705.581 Q33.5473 701.221 42.332 701.221 Q51.0849 701.221 56.0819 705.581 Q61.0472 709.942 61.0472 717.581 Q61.0472 725.252 56.0819 729.612 Q51.0849 733.941 42.332 733.941 Q33.5473 733.941 28.5821 729.612 Q23.6168 725.252 23.6168 717.581 Z\" fill=\"#000000\" fill-rule=\"evenodd\" fill-opacity=\"1\" /><path clip-path=\"url(#clip350)\" d=\"M41.8864 668.056 Q35.5207 668.056 32.0196 670.697 Q28.5184 673.307 28.5184 678.05 Q28.5184 682.76 32.0196 685.402 Q35.5207 688.012 41.8864 688.012 Q48.2203 688.012 51.7214 685.402 Q55.2226 682.76 55.2226 678.05 Q55.2226 673.307 51.7214 670.697 Q48.2203 668.056 41.8864 668.056 M55.7 662.199 Q64.803 662.199 69.2271 666.241 Q73.6831 670.284 73.6831 678.623 Q73.6831 681.71 73.2057 684.447 Q72.7601 687.185 71.8052 689.763 L66.1079 689.763 Q67.5084 687.185 68.1768 684.67 Q68.8452 682.156 68.8452 679.546 Q68.8452 673.785 65.8215 670.92 Q62.8296 668.056 56.7503 668.056 L53.8539 668.056 Q57.005 669.87 58.5646 672.703 Q60.1242 675.535 60.1242 679.482 Q60.1242 686.039 55.1271 690.049 Q50.13 694.06 41.8864 694.06 Q33.611 694.06 28.6139 690.049 Q23.6168 686.039 23.6168 679.482 Q23.6168 675.535 25.1764 672.703 Q26.736 669.87 29.8871 668.056 L24.4762 668.056 L24.4762 662.199 L55.7 662.199 Z\" fill=\"#000000\" fill-rule=\"evenodd\" fill-opacity=\"1\" /><path clip-path=\"url(#clip350)\" d=\"M54.7133 643.77 L54.7133 621.331 L60.1242 621.331 L60.1242 651.505 L54.7133 651.505 Q50.9257 647.845 44.56 641.542 Q38.1625 635.209 36.3164 633.585 Q32.8471 630.498 30.46 629.288 Q28.041 628.047 25.7175 628.047 Q21.9299 628.047 19.5428 630.721 Q17.1556 633.363 17.1556 637.628 Q17.1556 640.651 18.206 644.025 Q19.2563 647.367 21.3888 651.187 L14.8958 651.187 Q13.3362 647.303 12.5405 643.93 Q11.7448 640.556 11.7448 637.755 Q11.7448 630.371 15.4369 625.978 Q19.129 621.586 25.3037 621.586 Q28.232 621.586 30.8737 622.7 Q33.4837 623.782 37.0485 626.679 Q37.9715 627.474 42.3957 631.739 Q46.788 636.004 54.7133 643.77 Z\" fill=\"#000000\" fill-rule=\"evenodd\" fill-opacity=\"1\" /><path clip-path=\"url(#clip350)\" d=\"M10.6626 594.595 Q17.9832 598.86 25.1446 600.929 Q32.306 602.998 39.6584 602.998 Q47.0108 602.998 54.2359 600.929 Q61.4291 598.829 68.7179 594.595 L68.7179 599.688 Q61.2382 604.462 54.0131 606.849 Q46.788 609.205 39.6584 609.205 Q32.5606 609.205 25.3674 606.849 Q18.1742 604.494 10.6626 599.688 L10.6626 594.595 Z\" fill=\"#000000\" fill-rule=\"evenodd\" fill-opacity=\"1\" /><path clip-path=\"url(#clip350)\" d=\"M31.4466 556.051 L31.4466 565.313 L42.0774 567.987 L42.0774 558.661 L31.4466 556.051 M13.3362 560.825 L26.5451 564.135 L26.5451 554.842 L13.3362 551.5 L13.3362 546.407 L26.5451 549.685 L26.5451 539.755 L31.4466 539.755 L31.4466 550.927 L42.0774 553.537 L42.0774 543.415 L46.9471 543.415 L46.9471 554.778 L60.1242 558.088 L60.1242 563.181 L46.9471 559.902 L46.9471 569.228 L60.1242 572.506 L60.1242 577.631 L46.9471 574.321 L46.9471 584.347 L42.0774 584.347 L42.0774 573.143 L31.4466 570.469 L31.4466 580.718 L26.5451 580.718 L26.5451 569.228 L13.3362 565.982 L13.3362 560.825 Z\" fill=\"#000000\" fill-rule=\"evenodd\" fill-opacity=\"1\" /><path clip-path=\"url(#clip350)\" d=\"M28.5821 494.081 Q28.5821 498.792 32.2742 501.529 Q35.9345 504.266 42.332 504.266 Q48.7295 504.266 52.4217 501.561 Q56.0819 498.823 56.0819 494.081 Q56.0819 489.402 52.3898 486.665 Q48.6977 483.928 42.332 483.928 Q35.9981 483.928 32.306 486.665 Q28.5821 489.402 28.5821 494.081 M23.6168 494.081 Q23.6168 486.442 28.5821 482.082 Q33.5473 477.721 42.332 477.721 Q51.0849 477.721 56.0819 482.082 Q61.0472 486.442 61.0472 494.081 Q61.0472 501.752 56.0819 506.112 Q51.0849 510.441 42.332 510.441 Q33.5473 510.441 28.5821 506.112 Q23.6168 501.752 23.6168 494.081 Z\" fill=\"#000000\" fill-rule=\"evenodd\" fill-opacity=\"1\" /><path clip-path=\"url(#clip350)\" d=\"M10.599 449.967 L15.4687 449.967 L15.4687 455.568 Q15.4687 458.719 16.7419 459.961 Q18.015 461.17 21.3252 461.17 L24.4762 461.17 L24.4762 451.526 L29.0277 451.526 L29.0277 461.17 L60.1242 461.17 L60.1242 467.058 L29.0277 467.058 L29.0277 472.66 L24.4762 472.66 L24.4762 467.058 L21.9936 467.058 Q16.0416 467.058 13.3362 464.289 Q10.599 461.52 10.599 455.505 L10.599 449.967 Z\" fill=\"#000000\" fill-rule=\"evenodd\" fill-opacity=\"1\" /><path clip-path=\"url(#clip350)\" d=\"M10.599 424.567 L10.599 418.679 L39.8494 418.679 L24.4762 401.205 L24.4762 393.726 L41.1544 412.632 L60.1242 392.93 L60.1242 400.569 L42.7139 418.679 L60.1242 418.679 L60.1242 424.567 L10.599 424.567 Z\" fill=\"#000000\" fill-rule=\"evenodd\" fill-opacity=\"1\" /><path clip-path=\"url(#clip350)\" d=\"M31.3193 358.841 Q27.3726 356.645 25.4947 353.59 Q23.6168 350.534 23.6168 346.396 Q23.6168 340.826 27.5317 337.803 Q31.4148 334.779 38.6081 334.779 L60.1242 334.779 L60.1242 340.667 L38.799 340.667 Q33.6746 340.667 31.192 342.482 Q28.7094 344.296 28.7094 348.02 Q28.7094 352.571 31.7331 355.213 Q34.7568 357.855 39.9767 357.855 L60.1242 357.855 L60.1242 363.743 L38.799 363.743 Q33.6428 363.743 31.192 365.557 Q28.7094 367.371 28.7094 371.159 Q28.7094 375.647 31.7649 378.289 Q34.7886 380.93 39.9767 380.93 L60.1242 380.93 L60.1242 386.819 L24.4762 386.819 L24.4762 380.93 L30.0144 380.93 Q26.736 378.925 25.1764 376.124 Q23.6168 373.323 23.6168 369.472 Q23.6168 365.589 25.5902 362.884 Q27.5636 360.146 31.3193 358.841 Z\" fill=\"#000000\" fill-rule=\"evenodd\" fill-opacity=\"1\" /><path clip-path=\"url(#clip350)\" d=\"M40.8361 292.606 L43.7006 292.606 L43.7006 319.533 Q49.7481 319.151 52.9309 315.905 Q56.0819 312.626 56.0819 306.802 Q56.0819 303.428 55.2544 300.277 Q54.4269 297.094 52.7718 293.975 L58.3099 293.975 Q59.6467 297.126 60.347 300.436 Q61.0472 303.746 61.0472 307.152 Q61.0472 315.682 56.0819 320.679 Q51.1167 325.644 42.6503 325.644 Q33.8974 325.644 28.7731 320.934 Q23.6168 316.191 23.6168 308.17 Q23.6168 300.977 28.2638 296.808 Q32.8789 292.606 40.8361 292.606 M39.1173 298.463 Q34.3112 298.526 31.4466 301.168 Q28.5821 303.778 28.5821 308.107 Q28.5821 313.008 31.3512 315.968 Q34.1202 318.897 39.1492 319.342 L39.1173 298.463 Z\" fill=\"#000000\" fill-rule=\"evenodd\" fill-opacity=\"1\" /><path clip-path=\"url(#clip350)\" d=\"M29.9507 262.337 Q29.3778 263.324 29.1232 264.502 Q28.8367 265.647 28.8367 267.048 Q28.8367 272.013 32.0832 274.687 Q35.2979 277.329 41.3453 277.329 L60.1242 277.329 L60.1242 283.217 L24.4762 283.217 L24.4762 277.329 L30.0144 277.329 Q26.7679 275.483 25.2083 272.522 Q23.6168 269.562 23.6168 265.329 Q23.6168 264.724 23.7123 263.992 Q23.776 263.26 23.9351 262.369 L29.9507 262.337 Z\" fill=\"#000000\" fill-rule=\"evenodd\" fill-opacity=\"1\" /><path clip-path=\"url(#clip350)\" d=\"M25.5265 233.469 L31.0647 233.469 Q29.7916 235.951 29.155 238.625 Q28.5184 241.299 28.5184 244.163 Q28.5184 248.524 29.8552 250.72 Q31.192 252.884 33.8656 252.884 Q35.9026 252.884 37.0803 251.325 Q38.2261 249.765 39.2765 245.054 L39.7221 243.049 Q41.0589 236.811 43.5097 234.201 Q45.9286 231.559 50.2891 231.559 Q55.2544 231.559 58.1508 235.506 Q61.0472 239.421 61.0472 246.296 Q61.0472 249.16 60.4743 252.28 Q59.9332 255.367 58.8192 258.804 L52.7718 258.804 Q54.4587 255.558 55.318 252.407 Q56.1456 249.256 56.1456 246.168 Q56.1456 242.031 54.7451 239.803 Q53.3129 237.575 50.7347 237.575 Q48.3476 237.575 47.0745 239.198 Q45.8013 240.789 44.6237 246.232 L44.1462 248.269 Q43.0004 253.712 40.6451 256.131 Q38.258 258.55 34.1202 258.55 Q29.0913 258.55 26.3541 254.985 Q23.6168 251.42 23.6168 244.863 Q23.6168 241.617 24.0943 238.752 Q24.5717 235.888 25.5265 233.469 Z\" fill=\"#000000\" fill-rule=\"evenodd\" fill-opacity=\"1\" /><path clip-path=\"url(#clip350)\" d=\"M10.6626 223.156 L10.6626 218.064 Q18.1742 213.29 25.3674 210.934 Q32.5606 208.547 39.6584 208.547 Q46.788 208.547 54.0131 210.934 Q61.2382 213.29 68.7179 218.064 L68.7179 223.156 Q61.4291 218.923 54.2359 216.854 Q47.0108 214.754 39.6584 214.754 Q32.306 214.754 25.1446 216.854 Q17.9832 218.923 10.6626 223.156 Z\" fill=\"#000000\" fill-rule=\"evenodd\" fill-opacity=\"1\" /><path clip-path=\"url(#clip350)\" d=\"M712.991 9.54393 L720.485 9.54393 L720.485 46.7717 L742.725 27.2059 L752.244 27.2059 L728.182 48.4326 L753.257 72.576 L743.535 72.576 L720.485 50.4176 L720.485 72.576 L712.991 72.576 L712.991 9.54393 Z\" fill=\"#000000\" fill-rule=\"evenodd\" fill-opacity=\"1\" /><path clip-path=\"url(#clip350)\" d=\"M796.642 35.9153 Q799.437 30.8922 803.326 28.5022 Q807.215 26.1121 812.481 26.1121 Q819.57 26.1121 823.419 31.0947 Q827.267 36.0368 827.267 45.1919 L827.267 72.576 L819.773 72.576 L819.773 45.4349 Q819.773 38.913 817.464 35.7533 Q815.155 32.5936 810.415 32.5936 Q804.623 32.5936 801.26 36.4419 Q797.898 40.2903 797.898 46.9338 L797.898 72.576 L790.404 72.576 L790.404 45.4349 Q790.404 38.8725 788.095 35.7533 Q785.786 32.5936 780.965 32.5936 Q775.253 32.5936 771.891 36.4824 Q768.529 40.3308 768.529 46.9338 L768.529 72.576 L761.035 72.576 L761.035 27.2059 L768.529 27.2059 L768.529 34.2544 Q771.081 30.082 774.646 28.0971 Q778.211 26.1121 783.112 26.1121 Q788.054 26.1121 791.498 28.6237 Q794.981 31.1352 796.642 35.9153 Z\" fill=\"#000000\" fill-rule=\"evenodd\" fill-opacity=\"1\" /><path clip-path=\"url(#clip350)\" d=\"M880.942 48.0275 L880.942 51.6733 L846.671 51.6733 Q847.157 59.3701 851.289 63.421 Q855.461 67.4314 862.875 67.4314 Q867.169 67.4314 871.179 66.3781 Q875.23 65.3249 879.2 63.2184 L879.2 70.267 Q875.189 71.9684 870.976 72.8596 Q866.763 73.7508 862.429 73.7508 Q851.573 73.7508 845.213 67.4314 Q838.893 61.1119 838.893 50.3365 Q838.893 39.1965 844.889 32.6746 Q850.924 26.1121 861.133 26.1121 Q870.288 26.1121 875.594 32.0264 Q880.942 37.9003 880.942 48.0275 M873.488 45.84 Q873.407 39.7232 870.045 36.0774 Q866.723 32.4315 861.214 32.4315 Q854.975 32.4315 851.208 35.9558 Q847.481 39.4801 846.914 45.8805 L873.488 45.84 Z\" fill=\"#000000\" fill-rule=\"evenodd\" fill-opacity=\"1\" /><path clip-path=\"url(#clip350)\" d=\"M919.466 34.1734 Q918.21 33.4443 916.711 33.1202 Q915.253 32.7556 913.47 32.7556 Q907.151 32.7556 903.748 36.8875 Q900.386 40.9789 900.386 48.6757 L900.386 72.576 L892.892 72.576 L892.892 27.2059 L900.386 27.2059 L900.386 34.2544 Q902.735 30.1225 906.503 28.1376 Q910.27 26.1121 915.658 26.1121 Q916.428 26.1121 917.359 26.2337 Q918.291 26.3147 919.425 26.5172 L919.466 34.1734 Z\" fill=\"#000000\" fill-rule=\"evenodd\" fill-opacity=\"1\" /><path clip-path=\"url(#clip350)\" d=\"M976.624 9.54393 L976.624 15.7418 L969.494 15.7418 Q965.484 15.7418 963.904 17.3622 Q962.365 18.9825 962.365 23.1955 L962.365 27.2059 L974.639 27.2059 L974.639 32.9987 L962.365 32.9987 L962.365 72.576 L954.871 72.576 L954.871 32.9987 L947.741 32.9987 L947.741 27.2059 L954.871 27.2059 L954.871 24.0462 Q954.871 16.471 958.395 13.0277 Q961.919 9.54393 969.575 9.54393 L976.624 9.54393 Z\" fill=\"#000000\" fill-rule=\"evenodd\" fill-opacity=\"1\" /><path clip-path=\"url(#clip350)\" d=\"M1009.15 34.1734 Q1007.9 33.4443 1006.4 33.1202 Q1004.94 32.7556 1003.16 32.7556 Q996.838 32.7556 993.435 36.8875 Q990.073 40.9789 990.073 48.6757 L990.073 72.576 L982.579 72.576 L982.579 27.2059 L990.073 27.2059 L990.073 34.2544 Q992.422 30.1225 996.19 28.1376 Q999.957 26.1121 1005.34 26.1121 Q1006.11 26.1121 1007.05 26.2337 Q1007.98 26.3147 1009.11 26.5172 L1009.15 34.1734 Z\" fill=\"#000000\" fill-rule=\"evenodd\" fill-opacity=\"1\" /><path clip-path=\"url(#clip350)\" d=\"M1053.96 48.0275 L1053.96 51.6733 L1019.69 51.6733 Q1020.17 59.3701 1024.3 63.421 Q1028.48 67.4314 1035.89 67.4314 Q1040.18 67.4314 1044.19 66.3781 Q1048.24 65.3249 1052.21 63.2184 L1052.21 70.267 Q1048.2 71.9684 1043.99 72.8596 Q1039.78 73.7508 1035.44 73.7508 Q1024.59 73.7508 1018.23 67.4314 Q1011.91 61.1119 1011.91 50.3365 Q1011.91 39.1965 1017.9 32.6746 Q1023.94 26.1121 1034.15 26.1121 Q1043.3 26.1121 1048.61 32.0264 Q1053.96 37.9003 1053.96 48.0275 M1046.5 45.84 Q1046.42 39.7232 1043.06 36.0774 Q1039.74 32.4315 1034.23 32.4315 Q1027.99 32.4315 1024.22 35.9558 Q1020.5 39.4801 1019.93 45.8805 L1046.5 45.84 Z\" fill=\"#000000\" fill-rule=\"evenodd\" fill-opacity=\"1\" /><path clip-path=\"url(#clip350)\" d=\"M1070.65 49.9314 Q1070.65 58.1548 1074.01 62.8538 Q1077.41 67.5124 1083.32 67.5124 Q1089.24 67.5124 1092.64 62.8538 Q1096.04 58.1548 1096.04 49.9314 Q1096.04 41.7081 1092.64 37.0496 Q1089.24 32.3505 1083.32 32.3505 Q1077.41 32.3505 1074.01 37.0496 Q1070.65 41.7081 1070.65 49.9314 M1096.04 65.7705 Q1093.7 69.8214 1090.09 71.8063 Q1086.52 73.7508 1081.5 73.7508 Q1073.28 73.7508 1068.09 67.1883 Q1062.95 60.6258 1062.95 49.9314 Q1062.95 39.2371 1068.09 32.6746 Q1073.28 26.1121 1081.5 26.1121 Q1086.52 26.1121 1090.09 28.0971 Q1093.7 30.0415 1096.04 34.0924 L1096.04 27.2059 L1103.5 27.2059 L1103.5 89.8329 L1096.04 89.8329 L1096.04 65.7705 Z\" fill=\"#000000\" fill-rule=\"evenodd\" fill-opacity=\"1\" /><path clip-path=\"url(#clip350)\" d=\"M1118.08 54.671 L1118.08 27.2059 L1125.54 27.2059 L1125.54 54.3874 Q1125.54 60.8284 1128.05 64.0691 Q1130.56 67.2693 1135.58 67.2693 Q1141.62 67.2693 1145.1 63.421 Q1148.63 59.5726 1148.63 52.9291 L1148.63 27.2059 L1156.08 27.2059 L1156.08 72.576 L1148.63 72.576 L1148.63 65.6084 Q1145.91 69.7404 1142.31 71.7658 Q1138.74 73.7508 1134 73.7508 Q1126.18 73.7508 1122.13 68.8897 Q1118.08 64.0286 1118.08 54.671 M1136.84 26.1121 L1136.84 26.1121 Z\" fill=\"#000000\" fill-rule=\"evenodd\" fill-opacity=\"1\" /><path clip-path=\"url(#clip350)\" d=\"M1210.24 48.0275 L1210.24 51.6733 L1175.97 51.6733 Q1176.46 59.3701 1180.59 63.421 Q1184.76 67.4314 1192.17 67.4314 Q1196.47 67.4314 1200.48 66.3781 Q1204.53 65.3249 1208.5 63.2184 L1208.5 70.267 Q1204.49 71.9684 1200.27 72.8596 Q1196.06 73.7508 1191.73 73.7508 Q1180.87 73.7508 1174.51 67.4314 Q1168.19 61.1119 1168.19 50.3365 Q1168.19 39.1965 1174.19 32.6746 Q1180.22 26.1121 1190.43 26.1121 Q1199.59 26.1121 1204.89 32.0264 Q1210.24 37.9003 1210.24 48.0275 M1202.79 45.84 Q1202.7 39.7232 1199.34 36.0774 Q1196.02 32.4315 1190.51 32.4315 Q1184.27 32.4315 1180.51 35.9558 Q1176.78 39.4801 1176.21 45.8805 L1202.79 45.84 Z\" fill=\"#000000\" fill-rule=\"evenodd\" fill-opacity=\"1\" /><path clip-path=\"url(#clip350)\" d=\"M1260.19 45.1919 L1260.19 72.576 L1252.73 72.576 L1252.73 45.4349 Q1252.73 38.994 1250.22 35.7938 Q1247.71 32.5936 1242.69 32.5936 Q1236.65 32.5936 1233.17 36.4419 Q1229.68 40.2903 1229.68 46.9338 L1229.68 72.576 L1222.19 72.576 L1222.19 27.2059 L1229.68 27.2059 L1229.68 34.2544 Q1232.36 30.163 1235.96 28.1376 Q1239.61 26.1121 1244.35 26.1121 Q1252.17 26.1121 1256.18 30.9732 Q1260.19 35.7938 1260.19 45.1919 Z\" fill=\"#000000\" fill-rule=\"evenodd\" fill-opacity=\"1\" /><path clip-path=\"url(#clip350)\" d=\"M1307.7 28.9478 L1307.7 35.9153 Q1304.54 34.1734 1301.34 33.3227 Q1298.18 32.4315 1294.94 32.4315 Q1287.69 32.4315 1283.68 37.0496 Q1279.67 41.6271 1279.67 49.9314 Q1279.67 58.2358 1283.68 62.8538 Q1287.69 67.4314 1294.94 67.4314 Q1298.18 67.4314 1301.34 66.5807 Q1304.54 65.6895 1307.7 63.9476 L1307.7 70.8341 Q1304.59 72.2924 1301.22 73.0216 Q1297.9 73.7508 1294.13 73.7508 Q1283.89 73.7508 1277.85 67.3098 Q1271.81 60.8689 1271.81 49.9314 Q1271.81 38.832 1277.89 32.472 Q1284.01 26.1121 1294.62 26.1121 Q1298.06 26.1121 1301.34 26.8413 Q1304.63 27.5299 1307.7 28.9478 Z\" fill=\"#000000\" fill-rule=\"evenodd\" fill-opacity=\"1\" /><path clip-path=\"url(#clip350)\" d=\"M1320.67 27.2059 L1328.12 27.2059 L1328.12 72.576 L1320.67 72.576 L1320.67 27.2059 M1320.67 9.54393 L1328.12 9.54393 L1328.12 18.9825 L1320.67 18.9825 L1320.67 9.54393 Z\" fill=\"#000000\" fill-rule=\"evenodd\" fill-opacity=\"1\" /><path clip-path=\"url(#clip350)\" d=\"M1382.52 48.0275 L1382.52 51.6733 L1348.25 51.6733 Q1348.74 59.3701 1352.87 63.421 Q1357.04 67.4314 1364.46 67.4314 Q1368.75 67.4314 1372.76 66.3781 Q1376.81 65.3249 1380.78 63.2184 L1380.78 70.267 Q1376.77 71.9684 1372.56 72.8596 Q1368.35 73.7508 1364.01 73.7508 Q1353.16 73.7508 1346.8 67.4314 Q1340.48 61.1119 1340.48 50.3365 Q1340.48 39.1965 1346.47 32.6746 Q1352.51 26.1121 1362.72 26.1121 Q1371.87 26.1121 1377.18 32.0264 Q1382.52 37.9003 1382.52 48.0275 M1375.07 45.84 Q1374.99 39.7232 1371.63 36.0774 Q1368.31 32.4315 1362.8 32.4315 Q1356.56 32.4315 1352.79 35.9558 Q1349.06 39.4801 1348.5 45.8805 L1375.07 45.84 Z\" fill=\"#000000\" fill-rule=\"evenodd\" fill-opacity=\"1\" /><path clip-path=\"url(#clip350)\" d=\"M1423.68 28.5427 L1423.68 35.5912 Q1420.52 33.9709 1417.12 33.1607 Q1413.72 32.3505 1410.07 32.3505 Q1404.52 32.3505 1401.73 34.0519 Q1398.97 35.7533 1398.97 39.156 Q1398.97 41.7486 1400.96 43.2475 Q1402.94 44.7058 1408.94 46.0426 L1411.49 46.6097 Q1419.43 48.3111 1422.75 51.4303 Q1426.11 54.509 1426.11 60.0587 Q1426.11 66.3781 1421.09 70.0644 Q1416.11 73.7508 1407.36 73.7508 Q1403.71 73.7508 1399.74 73.0216 Q1395.81 72.3329 1391.44 70.9151 L1391.44 63.2184 Q1395.57 65.3654 1399.58 66.4591 Q1403.59 67.5124 1407.52 67.5124 Q1412.78 67.5124 1415.62 65.73 Q1418.46 63.9071 1418.46 60.6258 Q1418.46 57.5877 1416.39 55.9673 Q1414.36 54.3469 1407.44 52.8481 L1404.85 52.2405 Q1397.92 50.7821 1394.84 47.7845 Q1391.76 44.7463 1391.76 39.4801 Q1391.76 33.0797 1396.3 29.5959 Q1400.83 26.1121 1409.18 26.1121 Q1413.31 26.1121 1416.96 26.7198 Q1420.6 27.3274 1423.68 28.5427 Z\" fill=\"#000000\" fill-rule=\"evenodd\" fill-opacity=\"1\" /><circle clip-path=\"url(#clip352)\" cx=\"236.34\" cy=\"129.334\" r=\"14\" fill=\"#009af9\" fill-rule=\"evenodd\" fill-opacity=\"1\" stroke=\"#000000\" stroke-opacity=\"1\" stroke-width=\"2\"/>\n",
       "<circle clip-path=\"url(#clip352)\" cx=\"364.698\" cy=\"193.784\" r=\"14\" fill=\"#009af9\" fill-rule=\"evenodd\" fill-opacity=\"1\" stroke=\"#000000\" stroke-opacity=\"1\" stroke-width=\"2\"/>\n",
       "<circle clip-path=\"url(#clip352)\" cx=\"439.783\" cy=\"242.697\" r=\"14\" fill=\"#009af9\" fill-rule=\"evenodd\" fill-opacity=\"1\" stroke=\"#000000\" stroke-opacity=\"1\" stroke-width=\"2\"/>\n",
       "<circle clip-path=\"url(#clip352)\" cx=\"493.056\" cy=\"290.062\" r=\"14\" fill=\"#009af9\" fill-rule=\"evenodd\" fill-opacity=\"1\" stroke=\"#000000\" stroke-opacity=\"1\" stroke-width=\"2\"/>\n",
       "<circle clip-path=\"url(#clip352)\" cx=\"534.378\" cy=\"323.712\" r=\"14\" fill=\"#009af9\" fill-rule=\"evenodd\" fill-opacity=\"1\" stroke=\"#000000\" stroke-opacity=\"1\" stroke-width=\"2\"/>\n",
       "<circle clip-path=\"url(#clip352)\" cx=\"568.14\" cy=\"340.063\" r=\"14\" fill=\"#009af9\" fill-rule=\"evenodd\" fill-opacity=\"1\" stroke=\"#000000\" stroke-opacity=\"1\" stroke-width=\"2\"/>\n",
       "<circle clip-path=\"url(#clip352)\" cx=\"596.686\" cy=\"359.927\" r=\"14\" fill=\"#009af9\" fill-rule=\"evenodd\" fill-opacity=\"1\" stroke=\"#000000\" stroke-opacity=\"1\" stroke-width=\"2\"/>\n",
       "<circle clip-path=\"url(#clip352)\" cx=\"621.414\" cy=\"369.071\" r=\"14\" fill=\"#009af9\" fill-rule=\"evenodd\" fill-opacity=\"1\" stroke=\"#000000\" stroke-opacity=\"1\" stroke-width=\"2\"/>\n",
       "<circle clip-path=\"url(#clip352)\" cx=\"643.225\" cy=\"368.37\" r=\"14\" fill=\"#009af9\" fill-rule=\"evenodd\" fill-opacity=\"1\" stroke=\"#000000\" stroke-opacity=\"1\" stroke-width=\"2\"/>\n",
       "<circle clip-path=\"url(#clip352)\" cx=\"662.736\" cy=\"398.07\" r=\"14\" fill=\"#009af9\" fill-rule=\"evenodd\" fill-opacity=\"1\" stroke=\"#000000\" stroke-opacity=\"1\" stroke-width=\"2\"/>\n",
       "<circle clip-path=\"url(#clip352)\" cx=\"680.385\" cy=\"420.277\" r=\"14\" fill=\"#009af9\" fill-rule=\"evenodd\" fill-opacity=\"1\" stroke=\"#000000\" stroke-opacity=\"1\" stroke-width=\"2\"/>\n",
       "<circle clip-path=\"url(#clip352)\" cx=\"696.498\" cy=\"431.626\" r=\"14\" fill=\"#009af9\" fill-rule=\"evenodd\" fill-opacity=\"1\" stroke=\"#000000\" stroke-opacity=\"1\" stroke-width=\"2\"/>\n",
       "<circle clip-path=\"url(#clip352)\" cx=\"711.321\" cy=\"436.648\" r=\"14\" fill=\"#009af9\" fill-rule=\"evenodd\" fill-opacity=\"1\" stroke=\"#000000\" stroke-opacity=\"1\" stroke-width=\"2\"/>\n",
       "<circle clip-path=\"url(#clip352)\" cx=\"725.044\" cy=\"473.917\" r=\"14\" fill=\"#009af9\" fill-rule=\"evenodd\" fill-opacity=\"1\" stroke=\"#000000\" stroke-opacity=\"1\" stroke-width=\"2\"/>\n",
       "<circle clip-path=\"url(#clip352)\" cx=\"737.82\" cy=\"487.706\" r=\"14\" fill=\"#009af9\" fill-rule=\"evenodd\" fill-opacity=\"1\" stroke=\"#000000\" stroke-opacity=\"1\" stroke-width=\"2\"/>\n",
       "<circle clip-path=\"url(#clip352)\" cx=\"749.771\" cy=\"494.676\" r=\"14\" fill=\"#009af9\" fill-rule=\"evenodd\" fill-opacity=\"1\" stroke=\"#000000\" stroke-opacity=\"1\" stroke-width=\"2\"/>\n",
       "<circle clip-path=\"url(#clip352)\" cx=\"760.998\" cy=\"518.06\" r=\"14\" fill=\"#009af9\" fill-rule=\"evenodd\" fill-opacity=\"1\" stroke=\"#000000\" stroke-opacity=\"1\" stroke-width=\"2\"/>\n",
       "<circle clip-path=\"url(#clip352)\" cx=\"771.583\" cy=\"522.778\" r=\"14\" fill=\"#009af9\" fill-rule=\"evenodd\" fill-opacity=\"1\" stroke=\"#000000\" stroke-opacity=\"1\" stroke-width=\"2\"/>\n",
       "<circle clip-path=\"url(#clip352)\" cx=\"781.595\" cy=\"551.011\" r=\"14\" fill=\"#009af9\" fill-rule=\"evenodd\" fill-opacity=\"1\" stroke=\"#000000\" stroke-opacity=\"1\" stroke-width=\"2\"/>\n",
       "<circle clip-path=\"url(#clip352)\" cx=\"791.093\" cy=\"552.084\" r=\"14\" fill=\"#009af9\" fill-rule=\"evenodd\" fill-opacity=\"1\" stroke=\"#000000\" stroke-opacity=\"1\" stroke-width=\"2\"/>\n",
       "<circle clip-path=\"url(#clip352)\" cx=\"800.128\" cy=\"535.842\" r=\"14\" fill=\"#009af9\" fill-rule=\"evenodd\" fill-opacity=\"1\" stroke=\"#000000\" stroke-opacity=\"1\" stroke-width=\"2\"/>\n",
       "<circle clip-path=\"url(#clip352)\" cx=\"808.743\" cy=\"538.437\" r=\"14\" fill=\"#009af9\" fill-rule=\"evenodd\" fill-opacity=\"1\" stroke=\"#000000\" stroke-opacity=\"1\" stroke-width=\"2\"/>\n",
       "<circle clip-path=\"url(#clip352)\" cx=\"816.975\" cy=\"542.061\" r=\"14\" fill=\"#009af9\" fill-rule=\"evenodd\" fill-opacity=\"1\" stroke=\"#000000\" stroke-opacity=\"1\" stroke-width=\"2\"/>\n",
       "<circle clip-path=\"url(#clip352)\" cx=\"824.856\" cy=\"545.892\" r=\"14\" fill=\"#009af9\" fill-rule=\"evenodd\" fill-opacity=\"1\" stroke=\"#000000\" stroke-opacity=\"1\" stroke-width=\"2\"/>\n",
       "<circle clip-path=\"url(#clip352)\" cx=\"832.415\" cy=\"575.071\" r=\"14\" fill=\"#009af9\" fill-rule=\"evenodd\" fill-opacity=\"1\" stroke=\"#000000\" stroke-opacity=\"1\" stroke-width=\"2\"/>\n",
       "<circle clip-path=\"url(#clip352)\" cx=\"839.678\" cy=\"575.071\" r=\"14\" fill=\"#009af9\" fill-rule=\"evenodd\" fill-opacity=\"1\" stroke=\"#000000\" stroke-opacity=\"1\" stroke-width=\"2\"/>\n",
       "<circle clip-path=\"url(#clip352)\" cx=\"846.667\" cy=\"586.685\" r=\"14\" fill=\"#009af9\" fill-rule=\"evenodd\" fill-opacity=\"1\" stroke=\"#000000\" stroke-opacity=\"1\" stroke-width=\"2\"/>\n",
       "<circle clip-path=\"url(#clip352)\" cx=\"853.402\" cy=\"562.597\" r=\"14\" fill=\"#009af9\" fill-rule=\"evenodd\" fill-opacity=\"1\" stroke=\"#000000\" stroke-opacity=\"1\" stroke-width=\"2\"/>\n",
       "<circle clip-path=\"url(#clip352)\" cx=\"859.9\" cy=\"575.071\" r=\"14\" fill=\"#009af9\" fill-rule=\"evenodd\" fill-opacity=\"1\" stroke=\"#000000\" stroke-opacity=\"1\" stroke-width=\"2\"/>\n",
       "<circle clip-path=\"url(#clip352)\" cx=\"866.178\" cy=\"588.521\" r=\"14\" fill=\"#009af9\" fill-rule=\"evenodd\" fill-opacity=\"1\" stroke=\"#000000\" stroke-opacity=\"1\" stroke-width=\"2\"/>\n",
       "<circle clip-path=\"url(#clip352)\" cx=\"872.25\" cy=\"581.459\" r=\"14\" fill=\"#009af9\" fill-rule=\"evenodd\" fill-opacity=\"1\" stroke=\"#000000\" stroke-opacity=\"1\" stroke-width=\"2\"/>\n",
       "<circle clip-path=\"url(#clip352)\" cx=\"878.129\" cy=\"621.531\" r=\"14\" fill=\"#009af9\" fill-rule=\"evenodd\" fill-opacity=\"1\" stroke=\"#000000\" stroke-opacity=\"1\" stroke-width=\"2\"/>\n",
       "<circle clip-path=\"url(#clip352)\" cx=\"883.828\" cy=\"612.963\" r=\"14\" fill=\"#009af9\" fill-rule=\"evenodd\" fill-opacity=\"1\" stroke=\"#000000\" stroke-opacity=\"1\" stroke-width=\"2\"/>\n",
       "<circle clip-path=\"url(#clip352)\" cx=\"889.356\" cy=\"603.014\" r=\"14\" fill=\"#009af9\" fill-rule=\"evenodd\" fill-opacity=\"1\" stroke=\"#000000\" stroke-opacity=\"1\" stroke-width=\"2\"/>\n",
       "<circle clip-path=\"url(#clip352)\" cx=\"894.724\" cy=\"624.649\" r=\"14\" fill=\"#009af9\" fill-rule=\"evenodd\" fill-opacity=\"1\" stroke=\"#000000\" stroke-opacity=\"1\" stroke-width=\"2\"/>\n",
       "<circle clip-path=\"url(#clip352)\" cx=\"899.94\" cy=\"634.982\" r=\"14\" fill=\"#009af9\" fill-rule=\"evenodd\" fill-opacity=\"1\" stroke=\"#000000\" stroke-opacity=\"1\" stroke-width=\"2\"/>\n",
       "<circle clip-path=\"url(#clip352)\" cx=\"905.014\" cy=\"638.813\" r=\"14\" fill=\"#009af9\" fill-rule=\"evenodd\" fill-opacity=\"1\" stroke=\"#000000\" stroke-opacity=\"1\" stroke-width=\"2\"/>\n",
       "<circle clip-path=\"url(#clip352)\" cx=\"909.953\" cy=\"638.813\" r=\"14\" fill=\"#009af9\" fill-rule=\"evenodd\" fill-opacity=\"1\" stroke=\"#000000\" stroke-opacity=\"1\" stroke-width=\"2\"/>\n",
       "<circle clip-path=\"url(#clip352)\" cx=\"914.763\" cy=\"607.804\" r=\"14\" fill=\"#009af9\" fill-rule=\"evenodd\" fill-opacity=\"1\" stroke=\"#000000\" stroke-opacity=\"1\" stroke-width=\"2\"/>\n",
       "<circle clip-path=\"url(#clip352)\" cx=\"919.451\" cy=\"674.38\" r=\"14\" fill=\"#009af9\" fill-rule=\"evenodd\" fill-opacity=\"1\" stroke=\"#000000\" stroke-opacity=\"1\" stroke-width=\"2\"/>\n",
       "<circle clip-path=\"url(#clip352)\" cx=\"924.024\" cy=\"667.992\" r=\"14\" fill=\"#009af9\" fill-rule=\"evenodd\" fill-opacity=\"1\" stroke=\"#000000\" stroke-opacity=\"1\" stroke-width=\"2\"/>\n",
       "<circle clip-path=\"url(#clip352)\" cx=\"928.486\" cy=\"651.827\" r=\"14\" fill=\"#009af9\" fill-rule=\"evenodd\" fill-opacity=\"1\" stroke=\"#000000\" stroke-opacity=\"1\" stroke-width=\"2\"/>\n",
       "<circle clip-path=\"url(#clip352)\" cx=\"932.844\" cy=\"681.442\" r=\"14\" fill=\"#009af9\" fill-rule=\"evenodd\" fill-opacity=\"1\" stroke=\"#000000\" stroke-opacity=\"1\" stroke-width=\"2\"/>\n",
       "<circle clip-path=\"url(#clip352)\" cx=\"937.101\" cy=\"681.442\" r=\"14\" fill=\"#009af9\" fill-rule=\"evenodd\" fill-opacity=\"1\" stroke=\"#000000\" stroke-opacity=\"1\" stroke-width=\"2\"/>\n",
       "<circle clip-path=\"url(#clip352)\" cx=\"941.262\" cy=\"689.337\" r=\"14\" fill=\"#009af9\" fill-rule=\"evenodd\" fill-opacity=\"1\" stroke=\"#000000\" stroke-opacity=\"1\" stroke-width=\"2\"/>\n",
       "<circle clip-path=\"url(#clip352)\" cx=\"945.333\" cy=\"638.813\" r=\"14\" fill=\"#009af9\" fill-rule=\"evenodd\" fill-opacity=\"1\" stroke=\"#000000\" stroke-opacity=\"1\" stroke-width=\"2\"/>\n",
       "<circle clip-path=\"url(#clip352)\" cx=\"949.315\" cy=\"662.159\" r=\"14\" fill=\"#009af9\" fill-rule=\"evenodd\" fill-opacity=\"1\" stroke=\"#000000\" stroke-opacity=\"1\" stroke-width=\"2\"/>\n",
       "<circle clip-path=\"url(#clip352)\" cx=\"953.214\" cy=\"681.442\" r=\"14\" fill=\"#009af9\" fill-rule=\"evenodd\" fill-opacity=\"1\" stroke=\"#000000\" stroke-opacity=\"1\" stroke-width=\"2\"/>\n",
       "<circle clip-path=\"url(#clip352)\" cx=\"957.032\" cy=\"674.38\" r=\"14\" fill=\"#009af9\" fill-rule=\"evenodd\" fill-opacity=\"1\" stroke=\"#000000\" stroke-opacity=\"1\" stroke-width=\"2\"/>\n",
       "<circle clip-path=\"url(#clip352)\" cx=\"960.773\" cy=\"662.159\" r=\"14\" fill=\"#009af9\" fill-rule=\"evenodd\" fill-opacity=\"1\" stroke=\"#000000\" stroke-opacity=\"1\" stroke-width=\"2\"/>\n",
       "<circle clip-path=\"url(#clip352)\" cx=\"964.44\" cy=\"667.992\" r=\"14\" fill=\"#009af9\" fill-rule=\"evenodd\" fill-opacity=\"1\" stroke=\"#000000\" stroke-opacity=\"1\" stroke-width=\"2\"/>\n",
       "<circle clip-path=\"url(#clip352)\" cx=\"968.036\" cy=\"642.876\" r=\"14\" fill=\"#009af9\" fill-rule=\"evenodd\" fill-opacity=\"1\" stroke=\"#000000\" stroke-opacity=\"1\" stroke-width=\"2\"/>\n",
       "<circle clip-path=\"url(#clip352)\" cx=\"971.564\" cy=\"656.794\" r=\"14\" fill=\"#009af9\" fill-rule=\"evenodd\" fill-opacity=\"1\" stroke=\"#000000\" stroke-opacity=\"1\" stroke-width=\"2\"/>\n",
       "<circle clip-path=\"url(#clip352)\" cx=\"975.025\" cy=\"689.337\" r=\"14\" fill=\"#009af9\" fill-rule=\"evenodd\" fill-opacity=\"1\" stroke=\"#000000\" stroke-opacity=\"1\" stroke-width=\"2\"/>\n",
       "<circle clip-path=\"url(#clip352)\" cx=\"978.423\" cy=\"674.38\" r=\"14\" fill=\"#009af9\" fill-rule=\"evenodd\" fill-opacity=\"1\" stroke=\"#000000\" stroke-opacity=\"1\" stroke-width=\"2\"/>\n",
       "<circle clip-path=\"url(#clip352)\" cx=\"981.76\" cy=\"674.38\" r=\"14\" fill=\"#009af9\" fill-rule=\"evenodd\" fill-opacity=\"1\" stroke=\"#000000\" stroke-opacity=\"1\" stroke-width=\"2\"/>\n",
       "<circle clip-path=\"url(#clip352)\" cx=\"985.037\" cy=\"642.876\" r=\"14\" fill=\"#009af9\" fill-rule=\"evenodd\" fill-opacity=\"1\" stroke=\"#000000\" stroke-opacity=\"1\" stroke-width=\"2\"/>\n",
       "<circle clip-path=\"url(#clip352)\" cx=\"988.258\" cy=\"674.38\" r=\"14\" fill=\"#009af9\" fill-rule=\"evenodd\" fill-opacity=\"1\" stroke=\"#000000\" stroke-opacity=\"1\" stroke-width=\"2\"/>\n",
       "<circle clip-path=\"url(#clip352)\" cx=\"991.423\" cy=\"828.718\" r=\"14\" fill=\"#009af9\" fill-rule=\"evenodd\" fill-opacity=\"1\" stroke=\"#000000\" stroke-opacity=\"1\" stroke-width=\"2\"/>\n",
       "<circle clip-path=\"url(#clip352)\" cx=\"994.536\" cy=\"708.62\" r=\"14\" fill=\"#009af9\" fill-rule=\"evenodd\" fill-opacity=\"1\" stroke=\"#000000\" stroke-opacity=\"1\" stroke-width=\"2\"/>\n",
       "<circle clip-path=\"url(#clip352)\" cx=\"1000.61\" cy=\"828.718\" r=\"14\" fill=\"#009af9\" fill-rule=\"evenodd\" fill-opacity=\"1\" stroke=\"#000000\" stroke-opacity=\"1\" stroke-width=\"2\"/>\n",
       "<circle clip-path=\"url(#clip352)\" cx=\"1003.57\" cy=\"755.08\" r=\"14\" fill=\"#009af9\" fill-rule=\"evenodd\" fill-opacity=\"1\" stroke=\"#000000\" stroke-opacity=\"1\" stroke-width=\"2\"/>\n",
       "<circle clip-path=\"url(#clip352)\" cx=\"1006.49\" cy=\"755.08\" r=\"14\" fill=\"#009af9\" fill-rule=\"evenodd\" fill-opacity=\"1\" stroke=\"#000000\" stroke-opacity=\"1\" stroke-width=\"2\"/>\n",
       "<circle clip-path=\"url(#clip352)\" cx=\"1009.36\" cy=\"755.08\" r=\"14\" fill=\"#009af9\" fill-rule=\"evenodd\" fill-opacity=\"1\" stroke=\"#000000\" stroke-opacity=\"1\" stroke-width=\"2\"/>\n",
       "<circle clip-path=\"url(#clip352)\" cx=\"1012.19\" cy=\"755.08\" r=\"14\" fill=\"#009af9\" fill-rule=\"evenodd\" fill-opacity=\"1\" stroke=\"#000000\" stroke-opacity=\"1\" stroke-width=\"2\"/>\n",
       "<circle clip-path=\"url(#clip352)\" cx=\"1014.97\" cy=\"828.718\" r=\"14\" fill=\"#009af9\" fill-rule=\"evenodd\" fill-opacity=\"1\" stroke=\"#000000\" stroke-opacity=\"1\" stroke-width=\"2\"/>\n",
       "<circle clip-path=\"url(#clip352)\" cx=\"1017.71\" cy=\"720.84\" r=\"14\" fill=\"#009af9\" fill-rule=\"evenodd\" fill-opacity=\"1\" stroke=\"#000000\" stroke-opacity=\"1\" stroke-width=\"2\"/>\n",
       "<circle clip-path=\"url(#clip352)\" cx=\"1028.3\" cy=\"782.258\" r=\"14\" fill=\"#009af9\" fill-rule=\"evenodd\" fill-opacity=\"1\" stroke=\"#000000\" stroke-opacity=\"1\" stroke-width=\"2\"/>\n",
       "<circle clip-path=\"url(#clip352)\" cx=\"1035.86\" cy=\"720.84\" r=\"14\" fill=\"#009af9\" fill-rule=\"evenodd\" fill-opacity=\"1\" stroke=\"#000000\" stroke-opacity=\"1\" stroke-width=\"2\"/>\n",
       "<circle clip-path=\"url(#clip352)\" cx=\"1038.31\" cy=\"782.258\" r=\"14\" fill=\"#009af9\" fill-rule=\"evenodd\" fill-opacity=\"1\" stroke=\"#000000\" stroke-opacity=\"1\" stroke-width=\"2\"/>\n",
       "<circle clip-path=\"url(#clip352)\" cx=\"1040.73\" cy=\"720.84\" r=\"14\" fill=\"#009af9\" fill-rule=\"evenodd\" fill-opacity=\"1\" stroke=\"#000000\" stroke-opacity=\"1\" stroke-width=\"2\"/>\n",
       "<circle clip-path=\"url(#clip352)\" cx=\"1043.12\" cy=\"828.718\" r=\"14\" fill=\"#009af9\" fill-rule=\"evenodd\" fill-opacity=\"1\" stroke=\"#000000\" stroke-opacity=\"1\" stroke-width=\"2\"/>\n",
       "<circle clip-path=\"url(#clip352)\" cx=\"1045.48\" cy=\"828.718\" r=\"14\" fill=\"#009af9\" fill-rule=\"evenodd\" fill-opacity=\"1\" stroke=\"#000000\" stroke-opacity=\"1\" stroke-width=\"2\"/>\n",
       "<circle clip-path=\"url(#clip352)\" cx=\"1065.46\" cy=\"828.718\" r=\"14\" fill=\"#009af9\" fill-rule=\"evenodd\" fill-opacity=\"1\" stroke=\"#000000\" stroke-opacity=\"1\" stroke-width=\"2\"/>\n",
       "<circle clip-path=\"url(#clip352)\" cx=\"1071.67\" cy=\"755.08\" r=\"14\" fill=\"#009af9\" fill-rule=\"evenodd\" fill-opacity=\"1\" stroke=\"#000000\" stroke-opacity=\"1\" stroke-width=\"2\"/>\n",
       "<circle clip-path=\"url(#clip352)\" cx=\"1073.69\" cy=\"782.258\" r=\"14\" fill=\"#009af9\" fill-rule=\"evenodd\" fill-opacity=\"1\" stroke=\"#000000\" stroke-opacity=\"1\" stroke-width=\"2\"/>\n",
       "<circle clip-path=\"url(#clip352)\" cx=\"1075.69\" cy=\"828.718\" r=\"14\" fill=\"#009af9\" fill-rule=\"evenodd\" fill-opacity=\"1\" stroke=\"#000000\" stroke-opacity=\"1\" stroke-width=\"2\"/>\n",
       "<circle clip-path=\"url(#clip352)\" cx=\"1083.49\" cy=\"828.718\" r=\"14\" fill=\"#009af9\" fill-rule=\"evenodd\" fill-opacity=\"1\" stroke=\"#000000\" stroke-opacity=\"1\" stroke-width=\"2\"/>\n",
       "<circle clip-path=\"url(#clip352)\" cx=\"1085.39\" cy=\"828.718\" r=\"14\" fill=\"#009af9\" fill-rule=\"evenodd\" fill-opacity=\"1\" stroke=\"#000000\" stroke-opacity=\"1\" stroke-width=\"2\"/>\n",
       "<circle clip-path=\"url(#clip352)\" cx=\"1090.97\" cy=\"828.718\" r=\"14\" fill=\"#009af9\" fill-rule=\"evenodd\" fill-opacity=\"1\" stroke=\"#000000\" stroke-opacity=\"1\" stroke-width=\"2\"/>\n",
       "<circle clip-path=\"url(#clip352)\" cx=\"1111.76\" cy=\"828.718\" r=\"14\" fill=\"#009af9\" fill-rule=\"evenodd\" fill-opacity=\"1\" stroke=\"#000000\" stroke-opacity=\"1\" stroke-width=\"2\"/>\n",
       "<circle clip-path=\"url(#clip352)\" cx=\"1477.42\" cy=\"828.718\" r=\"14\" fill=\"#e26f46\" fill-rule=\"evenodd\" fill-opacity=\"1\" stroke=\"#000000\" stroke-opacity=\"1\" stroke-width=\"2\"/>\n",
       "<circle clip-path=\"url(#clip352)\" cx=\"1477.87\" cy=\"828.718\" r=\"14\" fill=\"#e26f46\" fill-rule=\"evenodd\" fill-opacity=\"1\" stroke=\"#000000\" stroke-opacity=\"1\" stroke-width=\"2\"/>\n",
       "<circle clip-path=\"url(#clip352)\" cx=\"1478.32\" cy=\"782.258\" r=\"14\" fill=\"#e26f46\" fill-rule=\"evenodd\" fill-opacity=\"1\" stroke=\"#000000\" stroke-opacity=\"1\" stroke-width=\"2\"/>\n",
       "<circle clip-path=\"url(#clip352)\" cx=\"1478.55\" cy=\"698.287\" r=\"14\" fill=\"#e26f46\" fill-rule=\"evenodd\" fill-opacity=\"1\" stroke=\"#000000\" stroke-opacity=\"1\" stroke-width=\"2\"/>\n",
       "<circle clip-path=\"url(#clip352)\" cx=\"1478.78\" cy=\"708.62\" r=\"14\" fill=\"#e26f46\" fill-rule=\"evenodd\" fill-opacity=\"1\" stroke=\"#000000\" stroke-opacity=\"1\" stroke-width=\"2\"/>\n",
       "<circle clip-path=\"url(#clip352)\" cx=\"1479\" cy=\"698.287\" r=\"14\" fill=\"#e26f46\" fill-rule=\"evenodd\" fill-opacity=\"1\" stroke=\"#000000\" stroke-opacity=\"1\" stroke-width=\"2\"/>\n",
       "<circle clip-path=\"url(#clip352)\" cx=\"1479.23\" cy=\"720.84\" r=\"14\" fill=\"#e26f46\" fill-rule=\"evenodd\" fill-opacity=\"1\" stroke=\"#000000\" stroke-opacity=\"1\" stroke-width=\"2\"/>\n",
       "<circle clip-path=\"url(#clip352)\" cx=\"1479.45\" cy=\"720.84\" r=\"14\" fill=\"#e26f46\" fill-rule=\"evenodd\" fill-opacity=\"1\" stroke=\"#000000\" stroke-opacity=\"1\" stroke-width=\"2\"/>\n",
       "<circle clip-path=\"url(#clip352)\" cx=\"1479.68\" cy=\"828.718\" r=\"14\" fill=\"#e26f46\" fill-rule=\"evenodd\" fill-opacity=\"1\" stroke=\"#000000\" stroke-opacity=\"1\" stroke-width=\"2\"/>\n",
       "<circle clip-path=\"url(#clip352)\" cx=\"1479.9\" cy=\"681.442\" r=\"14\" fill=\"#e26f46\" fill-rule=\"evenodd\" fill-opacity=\"1\" stroke=\"#000000\" stroke-opacity=\"1\" stroke-width=\"2\"/>\n",
       "<circle clip-path=\"url(#clip352)\" cx=\"1480.13\" cy=\"735.797\" r=\"14\" fill=\"#e26f46\" fill-rule=\"evenodd\" fill-opacity=\"1\" stroke=\"#000000\" stroke-opacity=\"1\" stroke-width=\"2\"/>\n",
       "<circle clip-path=\"url(#clip352)\" cx=\"1480.35\" cy=\"708.62\" r=\"14\" fill=\"#e26f46\" fill-rule=\"evenodd\" fill-opacity=\"1\" stroke=\"#000000\" stroke-opacity=\"1\" stroke-width=\"2\"/>\n",
       "<circle clip-path=\"url(#clip352)\" cx=\"1480.58\" cy=\"681.442\" r=\"14\" fill=\"#e26f46\" fill-rule=\"evenodd\" fill-opacity=\"1\" stroke=\"#000000\" stroke-opacity=\"1\" stroke-width=\"2\"/>\n",
       "<circle clip-path=\"url(#clip352)\" cx=\"1480.8\" cy=\"674.38\" r=\"14\" fill=\"#e26f46\" fill-rule=\"evenodd\" fill-opacity=\"1\" stroke=\"#000000\" stroke-opacity=\"1\" stroke-width=\"2\"/>\n",
       "<circle clip-path=\"url(#clip352)\" cx=\"1481.02\" cy=\"638.813\" r=\"14\" fill=\"#e26f46\" fill-rule=\"evenodd\" fill-opacity=\"1\" stroke=\"#000000\" stroke-opacity=\"1\" stroke-width=\"2\"/>\n",
       "<circle clip-path=\"url(#clip352)\" cx=\"1481.24\" cy=\"647.202\" r=\"14\" fill=\"#e26f46\" fill-rule=\"evenodd\" fill-opacity=\"1\" stroke=\"#000000\" stroke-opacity=\"1\" stroke-width=\"2\"/>\n",
       "<circle clip-path=\"url(#clip352)\" cx=\"1481.47\" cy=\"651.827\" r=\"14\" fill=\"#e26f46\" fill-rule=\"evenodd\" fill-opacity=\"1\" stroke=\"#000000\" stroke-opacity=\"1\" stroke-width=\"2\"/>\n",
       "<circle clip-path=\"url(#clip352)\" cx=\"1481.69\" cy=\"662.159\" r=\"14\" fill=\"#e26f46\" fill-rule=\"evenodd\" fill-opacity=\"1\" stroke=\"#000000\" stroke-opacity=\"1\" stroke-width=\"2\"/>\n",
       "<circle clip-path=\"url(#clip352)\" cx=\"1481.91\" cy=\"631.358\" r=\"14\" fill=\"#e26f46\" fill-rule=\"evenodd\" fill-opacity=\"1\" stroke=\"#000000\" stroke-opacity=\"1\" stroke-width=\"2\"/>\n",
       "<circle clip-path=\"url(#clip352)\" cx=\"1482.13\" cy=\"638.813\" r=\"14\" fill=\"#e26f46\" fill-rule=\"evenodd\" fill-opacity=\"1\" stroke=\"#000000\" stroke-opacity=\"1\" stroke-width=\"2\"/>\n",
       "<circle clip-path=\"url(#clip352)\" cx=\"1482.36\" cy=\"634.982\" r=\"14\" fill=\"#e26f46\" fill-rule=\"evenodd\" fill-opacity=\"1\" stroke=\"#000000\" stroke-opacity=\"1\" stroke-width=\"2\"/>\n",
       "<circle clip-path=\"url(#clip352)\" cx=\"1482.58\" cy=\"603.014\" r=\"14\" fill=\"#e26f46\" fill-rule=\"evenodd\" fill-opacity=\"1\" stroke=\"#000000\" stroke-opacity=\"1\" stroke-width=\"2\"/>\n",
       "<circle clip-path=\"url(#clip352)\" cx=\"1482.8\" cy=\"612.963\" r=\"14\" fill=\"#e26f46\" fill-rule=\"evenodd\" fill-opacity=\"1\" stroke=\"#000000\" stroke-opacity=\"1\" stroke-width=\"2\"/>\n",
       "<circle clip-path=\"url(#clip352)\" cx=\"1483.02\" cy=\"615.699\" r=\"14\" fill=\"#e26f46\" fill-rule=\"evenodd\" fill-opacity=\"1\" stroke=\"#000000\" stroke-opacity=\"1\" stroke-width=\"2\"/>\n",
       "<circle clip-path=\"url(#clip352)\" cx=\"1483.24\" cy=\"615.699\" r=\"14\" fill=\"#e26f46\" fill-rule=\"evenodd\" fill-opacity=\"1\" stroke=\"#000000\" stroke-opacity=\"1\" stroke-width=\"2\"/>\n",
       "<circle clip-path=\"url(#clip352)\" cx=\"1483.46\" cy=\"598.544\" r=\"14\" fill=\"#e26f46\" fill-rule=\"evenodd\" fill-opacity=\"1\" stroke=\"#000000\" stroke-opacity=\"1\" stroke-width=\"2\"/>\n",
       "<circle clip-path=\"url(#clip352)\" cx=\"1483.68\" cy=\"581.459\" r=\"14\" fill=\"#e26f46\" fill-rule=\"evenodd\" fill-opacity=\"1\" stroke=\"#000000\" stroke-opacity=\"1\" stroke-width=\"2\"/>\n",
       "<circle clip-path=\"url(#clip352)\" cx=\"1483.9\" cy=\"615.699\" r=\"14\" fill=\"#e26f46\" fill-rule=\"evenodd\" fill-opacity=\"1\" stroke=\"#000000\" stroke-opacity=\"1\" stroke-width=\"2\"/>\n",
       "<circle clip-path=\"url(#clip352)\" cx=\"1484.12\" cy=\"594.353\" r=\"14\" fill=\"#e26f46\" fill-rule=\"evenodd\" fill-opacity=\"1\" stroke=\"#000000\" stroke-opacity=\"1\" stroke-width=\"2\"/>\n",
       "<circle clip-path=\"url(#clip352)\" cx=\"1484.34\" cy=\"588.521\" r=\"14\" fill=\"#e26f46\" fill-rule=\"evenodd\" fill-opacity=\"1\" stroke=\"#000000\" stroke-opacity=\"1\" stroke-width=\"2\"/>\n",
       "<circle clip-path=\"url(#clip352)\" cx=\"1484.56\" cy=\"575.071\" r=\"14\" fill=\"#e26f46\" fill-rule=\"evenodd\" fill-opacity=\"1\" stroke=\"#000000\" stroke-opacity=\"1\" stroke-width=\"2\"/>\n",
       "<circle clip-path=\"url(#clip352)\" cx=\"1484.78\" cy=\"588.521\" r=\"14\" fill=\"#e26f46\" fill-rule=\"evenodd\" fill-opacity=\"1\" stroke=\"#000000\" stroke-opacity=\"1\" stroke-width=\"2\"/>\n",
       "<circle clip-path=\"url(#clip352)\" cx=\"1484.99\" cy=\"572.091\" r=\"14\" fill=\"#e26f46\" fill-rule=\"evenodd\" fill-opacity=\"1\" stroke=\"#000000\" stroke-opacity=\"1\" stroke-width=\"2\"/>\n",
       "<circle clip-path=\"url(#clip352)\" cx=\"1485.21\" cy=\"588.521\" r=\"14\" fill=\"#e26f46\" fill-rule=\"evenodd\" fill-opacity=\"1\" stroke=\"#000000\" stroke-opacity=\"1\" stroke-width=\"2\"/>\n",
       "<circle clip-path=\"url(#clip352)\" cx=\"1485.43\" cy=\"594.353\" r=\"14\" fill=\"#e26f46\" fill-rule=\"evenodd\" fill-opacity=\"1\" stroke=\"#000000\" stroke-opacity=\"1\" stroke-width=\"2\"/>\n",
       "<circle clip-path=\"url(#clip352)\" cx=\"1485.65\" cy=\"598.544\" r=\"14\" fill=\"#e26f46\" fill-rule=\"evenodd\" fill-opacity=\"1\" stroke=\"#000000\" stroke-opacity=\"1\" stroke-width=\"2\"/>\n",
       "<circle clip-path=\"url(#clip352)\" cx=\"1485.87\" cy=\"598.544\" r=\"14\" fill=\"#e26f46\" fill-rule=\"evenodd\" fill-opacity=\"1\" stroke=\"#000000\" stroke-opacity=\"1\" stroke-width=\"2\"/>\n",
       "<circle clip-path=\"url(#clip352)\" cx=\"1486.08\" cy=\"592.352\" r=\"14\" fill=\"#e26f46\" fill-rule=\"evenodd\" fill-opacity=\"1\" stroke=\"#000000\" stroke-opacity=\"1\" stroke-width=\"2\"/>\n",
       "<circle clip-path=\"url(#clip352)\" cx=\"1486.3\" cy=\"624.649\" r=\"14\" fill=\"#e26f46\" fill-rule=\"evenodd\" fill-opacity=\"1\" stroke=\"#000000\" stroke-opacity=\"1\" stroke-width=\"2\"/>\n",
       "<circle clip-path=\"url(#clip352)\" cx=\"1486.52\" cy=\"624.649\" r=\"14\" fill=\"#e26f46\" fill-rule=\"evenodd\" fill-opacity=\"1\" stroke=\"#000000\" stroke-opacity=\"1\" stroke-width=\"2\"/>\n",
       "<circle clip-path=\"url(#clip352)\" cx=\"1486.73\" cy=\"600.742\" r=\"14\" fill=\"#e26f46\" fill-rule=\"evenodd\" fill-opacity=\"1\" stroke=\"#000000\" stroke-opacity=\"1\" stroke-width=\"2\"/>\n",
       "<circle clip-path=\"url(#clip352)\" cx=\"1486.95\" cy=\"603.014\" r=\"14\" fill=\"#e26f46\" fill-rule=\"evenodd\" fill-opacity=\"1\" stroke=\"#000000\" stroke-opacity=\"1\" stroke-width=\"2\"/>\n",
       "<circle clip-path=\"url(#clip352)\" cx=\"1487.17\" cy=\"612.963\" r=\"14\" fill=\"#e26f46\" fill-rule=\"evenodd\" fill-opacity=\"1\" stroke=\"#000000\" stroke-opacity=\"1\" stroke-width=\"2\"/>\n",
       "<circle clip-path=\"url(#clip352)\" cx=\"1487.38\" cy=\"615.699\" r=\"14\" fill=\"#e26f46\" fill-rule=\"evenodd\" fill-opacity=\"1\" stroke=\"#000000\" stroke-opacity=\"1\" stroke-width=\"2\"/>\n",
       "<circle clip-path=\"url(#clip352)\" cx=\"1487.6\" cy=\"631.358\" r=\"14\" fill=\"#e26f46\" fill-rule=\"evenodd\" fill-opacity=\"1\" stroke=\"#000000\" stroke-opacity=\"1\" stroke-width=\"2\"/>\n",
       "<circle clip-path=\"url(#clip352)\" cx=\"1487.81\" cy=\"631.358\" r=\"14\" fill=\"#e26f46\" fill-rule=\"evenodd\" fill-opacity=\"1\" stroke=\"#000000\" stroke-opacity=\"1\" stroke-width=\"2\"/>\n",
       "<circle clip-path=\"url(#clip352)\" cx=\"1488.03\" cy=\"674.38\" r=\"14\" fill=\"#e26f46\" fill-rule=\"evenodd\" fill-opacity=\"1\" stroke=\"#000000\" stroke-opacity=\"1\" stroke-width=\"2\"/>\n",
       "<circle clip-path=\"url(#clip352)\" cx=\"1488.24\" cy=\"651.827\" r=\"14\" fill=\"#e26f46\" fill-rule=\"evenodd\" fill-opacity=\"1\" stroke=\"#000000\" stroke-opacity=\"1\" stroke-width=\"2\"/>\n",
       "<circle clip-path=\"url(#clip352)\" cx=\"1488.46\" cy=\"698.287\" r=\"14\" fill=\"#e26f46\" fill-rule=\"evenodd\" fill-opacity=\"1\" stroke=\"#000000\" stroke-opacity=\"1\" stroke-width=\"2\"/>\n",
       "<circle clip-path=\"url(#clip352)\" cx=\"1488.67\" cy=\"689.337\" r=\"14\" fill=\"#e26f46\" fill-rule=\"evenodd\" fill-opacity=\"1\" stroke=\"#000000\" stroke-opacity=\"1\" stroke-width=\"2\"/>\n",
       "<circle clip-path=\"url(#clip352)\" cx=\"1488.88\" cy=\"720.84\" r=\"14\" fill=\"#e26f46\" fill-rule=\"evenodd\" fill-opacity=\"1\" stroke=\"#000000\" stroke-opacity=\"1\" stroke-width=\"2\"/>\n",
       "<circle clip-path=\"url(#clip352)\" cx=\"1489.1\" cy=\"782.258\" r=\"14\" fill=\"#e26f46\" fill-rule=\"evenodd\" fill-opacity=\"1\" stroke=\"#000000\" stroke-opacity=\"1\" stroke-width=\"2\"/>\n",
       "<circle clip-path=\"url(#clip352)\" cx=\"1489.31\" cy=\"755.08\" r=\"14\" fill=\"#e26f46\" fill-rule=\"evenodd\" fill-opacity=\"1\" stroke=\"#000000\" stroke-opacity=\"1\" stroke-width=\"2\"/>\n",
       "<circle clip-path=\"url(#clip352)\" cx=\"1489.52\" cy=\"828.718\" r=\"14\" fill=\"#e26f46\" fill-rule=\"evenodd\" fill-opacity=\"1\" stroke=\"#000000\" stroke-opacity=\"1\" stroke-width=\"2\"/>\n",
       "<circle clip-path=\"url(#clip352)\" cx=\"1489.74\" cy=\"782.258\" r=\"14\" fill=\"#e26f46\" fill-rule=\"evenodd\" fill-opacity=\"1\" stroke=\"#000000\" stroke-opacity=\"1\" stroke-width=\"2\"/>\n",
       "<circle clip-path=\"url(#clip352)\" cx=\"1489.95\" cy=\"828.718\" r=\"14\" fill=\"#e26f46\" fill-rule=\"evenodd\" fill-opacity=\"1\" stroke=\"#000000\" stroke-opacity=\"1\" stroke-width=\"2\"/>\n",
       "<circle clip-path=\"url(#clip352)\" cx=\"1490.16\" cy=\"828.718\" r=\"14\" fill=\"#e26f46\" fill-rule=\"evenodd\" fill-opacity=\"1\" stroke=\"#000000\" stroke-opacity=\"1\" stroke-width=\"2\"/>\n",
       "<circle clip-path=\"url(#clip352)\" cx=\"1490.59\" cy=\"828.718\" r=\"14\" fill=\"#e26f46\" fill-rule=\"evenodd\" fill-opacity=\"1\" stroke=\"#000000\" stroke-opacity=\"1\" stroke-width=\"2\"/>\n",
       "<circle clip-path=\"url(#clip352)\" cx=\"1490.8\" cy=\"828.718\" r=\"14\" fill=\"#e26f46\" fill-rule=\"evenodd\" fill-opacity=\"1\" stroke=\"#000000\" stroke-opacity=\"1\" stroke-width=\"2\"/>\n",
       "<circle clip-path=\"url(#clip352)\" cx=\"1613.68\" cy=\"828.718\" r=\"14\" fill=\"#e26f46\" fill-rule=\"evenodd\" fill-opacity=\"1\" stroke=\"#000000\" stroke-opacity=\"1\" stroke-width=\"2\"/>\n",
       "<circle clip-path=\"url(#clip352)\" cx=\"1899.25\" cy=\"828.718\" r=\"14\" fill=\"#3da44d\" fill-rule=\"evenodd\" fill-opacity=\"1\" stroke=\"#000000\" stroke-opacity=\"1\" stroke-width=\"2\"/>\n",
       "<circle clip-path=\"url(#clip352)\" cx=\"1899.28\" cy=\"828.718\" r=\"14\" fill=\"#3da44d\" fill-rule=\"evenodd\" fill-opacity=\"1\" stroke=\"#000000\" stroke-opacity=\"1\" stroke-width=\"2\"/>\n",
       "<circle clip-path=\"url(#clip352)\" cx=\"1899.37\" cy=\"828.718\" r=\"14\" fill=\"#3da44d\" fill-rule=\"evenodd\" fill-opacity=\"1\" stroke=\"#000000\" stroke-opacity=\"1\" stroke-width=\"2\"/>\n",
       "<circle clip-path=\"url(#clip352)\" cx=\"1899.39\" cy=\"828.718\" r=\"14\" fill=\"#3da44d\" fill-rule=\"evenodd\" fill-opacity=\"1\" stroke=\"#000000\" stroke-opacity=\"1\" stroke-width=\"2\"/>\n",
       "<circle clip-path=\"url(#clip352)\" cx=\"1899.42\" cy=\"828.718\" r=\"14\" fill=\"#3da44d\" fill-rule=\"evenodd\" fill-opacity=\"1\" stroke=\"#000000\" stroke-opacity=\"1\" stroke-width=\"2\"/>\n",
       "<circle clip-path=\"url(#clip352)\" cx=\"1899.49\" cy=\"828.718\" r=\"14\" fill=\"#3da44d\" fill-rule=\"evenodd\" fill-opacity=\"1\" stroke=\"#000000\" stroke-opacity=\"1\" stroke-width=\"2\"/>\n",
       "<circle clip-path=\"url(#clip352)\" cx=\"1899.51\" cy=\"828.718\" r=\"14\" fill=\"#3da44d\" fill-rule=\"evenodd\" fill-opacity=\"1\" stroke=\"#000000\" stroke-opacity=\"1\" stroke-width=\"2\"/>\n",
       "<circle clip-path=\"url(#clip352)\" cx=\"1899.56\" cy=\"782.258\" r=\"14\" fill=\"#3da44d\" fill-rule=\"evenodd\" fill-opacity=\"1\" stroke=\"#000000\" stroke-opacity=\"1\" stroke-width=\"2\"/>\n",
       "<circle clip-path=\"url(#clip352)\" cx=\"1899.58\" cy=\"828.718\" r=\"14\" fill=\"#3da44d\" fill-rule=\"evenodd\" fill-opacity=\"1\" stroke=\"#000000\" stroke-opacity=\"1\" stroke-width=\"2\"/>\n",
       "<circle clip-path=\"url(#clip352)\" cx=\"1899.6\" cy=\"828.718\" r=\"14\" fill=\"#3da44d\" fill-rule=\"evenodd\" fill-opacity=\"1\" stroke=\"#000000\" stroke-opacity=\"1\" stroke-width=\"2\"/>\n",
       "<circle clip-path=\"url(#clip352)\" cx=\"1899.65\" cy=\"828.718\" r=\"14\" fill=\"#3da44d\" fill-rule=\"evenodd\" fill-opacity=\"1\" stroke=\"#000000\" stroke-opacity=\"1\" stroke-width=\"2\"/>\n",
       "<circle clip-path=\"url(#clip352)\" cx=\"1899.7\" cy=\"828.718\" r=\"14\" fill=\"#3da44d\" fill-rule=\"evenodd\" fill-opacity=\"1\" stroke=\"#000000\" stroke-opacity=\"1\" stroke-width=\"2\"/>\n",
       "<circle clip-path=\"url(#clip352)\" cx=\"1899.72\" cy=\"828.718\" r=\"14\" fill=\"#3da44d\" fill-rule=\"evenodd\" fill-opacity=\"1\" stroke=\"#000000\" stroke-opacity=\"1\" stroke-width=\"2\"/>\n",
       "<circle clip-path=\"url(#clip352)\" cx=\"1899.76\" cy=\"828.718\" r=\"14\" fill=\"#3da44d\" fill-rule=\"evenodd\" fill-opacity=\"1\" stroke=\"#000000\" stroke-opacity=\"1\" stroke-width=\"2\"/>\n",
       "<circle clip-path=\"url(#clip352)\" cx=\"1899.79\" cy=\"735.797\" r=\"14\" fill=\"#3da44d\" fill-rule=\"evenodd\" fill-opacity=\"1\" stroke=\"#000000\" stroke-opacity=\"1\" stroke-width=\"2\"/>\n",
       "<circle clip-path=\"url(#clip352)\" cx=\"1899.88\" cy=\"828.718\" r=\"14\" fill=\"#3da44d\" fill-rule=\"evenodd\" fill-opacity=\"1\" stroke=\"#000000\" stroke-opacity=\"1\" stroke-width=\"2\"/>\n",
       "<circle clip-path=\"url(#clip352)\" cx=\"1899.93\" cy=\"755.08\" r=\"14\" fill=\"#3da44d\" fill-rule=\"evenodd\" fill-opacity=\"1\" stroke=\"#000000\" stroke-opacity=\"1\" stroke-width=\"2\"/>\n",
       "<circle clip-path=\"url(#clip352)\" cx=\"1900\" cy=\"828.718\" r=\"14\" fill=\"#3da44d\" fill-rule=\"evenodd\" fill-opacity=\"1\" stroke=\"#000000\" stroke-opacity=\"1\" stroke-width=\"2\"/>\n",
       "<circle clip-path=\"url(#clip352)\" cx=\"1900.02\" cy=\"828.718\" r=\"14\" fill=\"#3da44d\" fill-rule=\"evenodd\" fill-opacity=\"1\" stroke=\"#000000\" stroke-opacity=\"1\" stroke-width=\"2\"/>\n",
       "<circle clip-path=\"url(#clip352)\" cx=\"1900.07\" cy=\"782.258\" r=\"14\" fill=\"#3da44d\" fill-rule=\"evenodd\" fill-opacity=\"1\" stroke=\"#000000\" stroke-opacity=\"1\" stroke-width=\"2\"/>\n",
       "<circle clip-path=\"url(#clip352)\" cx=\"1900.14\" cy=\"828.718\" r=\"14\" fill=\"#3da44d\" fill-rule=\"evenodd\" fill-opacity=\"1\" stroke=\"#000000\" stroke-opacity=\"1\" stroke-width=\"2\"/>\n",
       "<circle clip-path=\"url(#clip352)\" cx=\"1900.16\" cy=\"782.258\" r=\"14\" fill=\"#3da44d\" fill-rule=\"evenodd\" fill-opacity=\"1\" stroke=\"#000000\" stroke-opacity=\"1\" stroke-width=\"2\"/>\n",
       "<circle clip-path=\"url(#clip352)\" cx=\"1900.18\" cy=\"755.08\" r=\"14\" fill=\"#3da44d\" fill-rule=\"evenodd\" fill-opacity=\"1\" stroke=\"#000000\" stroke-opacity=\"1\" stroke-width=\"2\"/>\n",
       "<circle clip-path=\"url(#clip352)\" cx=\"1900.21\" cy=\"828.718\" r=\"14\" fill=\"#3da44d\" fill-rule=\"evenodd\" fill-opacity=\"1\" stroke=\"#000000\" stroke-opacity=\"1\" stroke-width=\"2\"/>\n",
       "<circle clip-path=\"url(#clip352)\" cx=\"1900.23\" cy=\"828.718\" r=\"14\" fill=\"#3da44d\" fill-rule=\"evenodd\" fill-opacity=\"1\" stroke=\"#000000\" stroke-opacity=\"1\" stroke-width=\"2\"/>\n",
       "<circle clip-path=\"url(#clip352)\" cx=\"1900.25\" cy=\"735.797\" r=\"14\" fill=\"#3da44d\" fill-rule=\"evenodd\" fill-opacity=\"1\" stroke=\"#000000\" stroke-opacity=\"1\" stroke-width=\"2\"/>\n",
       "<circle clip-path=\"url(#clip352)\" cx=\"1900.28\" cy=\"782.258\" r=\"14\" fill=\"#3da44d\" fill-rule=\"evenodd\" fill-opacity=\"1\" stroke=\"#000000\" stroke-opacity=\"1\" stroke-width=\"2\"/>\n",
       "<circle clip-path=\"url(#clip352)\" cx=\"1900.32\" cy=\"828.718\" r=\"14\" fill=\"#3da44d\" fill-rule=\"evenodd\" fill-opacity=\"1\" stroke=\"#000000\" stroke-opacity=\"1\" stroke-width=\"2\"/>\n",
       "<circle clip-path=\"url(#clip352)\" cx=\"1900.35\" cy=\"755.08\" r=\"14\" fill=\"#3da44d\" fill-rule=\"evenodd\" fill-opacity=\"1\" stroke=\"#000000\" stroke-opacity=\"1\" stroke-width=\"2\"/>\n",
       "<circle clip-path=\"url(#clip352)\" cx=\"1900.37\" cy=\"755.08\" r=\"14\" fill=\"#3da44d\" fill-rule=\"evenodd\" fill-opacity=\"1\" stroke=\"#000000\" stroke-opacity=\"1\" stroke-width=\"2\"/>\n",
       "<circle clip-path=\"url(#clip352)\" cx=\"1900.39\" cy=\"755.08\" r=\"14\" fill=\"#3da44d\" fill-rule=\"evenodd\" fill-opacity=\"1\" stroke=\"#000000\" stroke-opacity=\"1\" stroke-width=\"2\"/>\n",
       "<circle clip-path=\"url(#clip352)\" cx=\"1900.44\" cy=\"782.258\" r=\"14\" fill=\"#3da44d\" fill-rule=\"evenodd\" fill-opacity=\"1\" stroke=\"#000000\" stroke-opacity=\"1\" stroke-width=\"2\"/>\n",
       "<circle clip-path=\"url(#clip352)\" cx=\"1900.51\" cy=\"782.258\" r=\"14\" fill=\"#3da44d\" fill-rule=\"evenodd\" fill-opacity=\"1\" stroke=\"#000000\" stroke-opacity=\"1\" stroke-width=\"2\"/>\n",
       "<circle clip-path=\"url(#clip352)\" cx=\"1900.53\" cy=\"828.718\" r=\"14\" fill=\"#3da44d\" fill-rule=\"evenodd\" fill-opacity=\"1\" stroke=\"#000000\" stroke-opacity=\"1\" stroke-width=\"2\"/>\n",
       "<circle clip-path=\"url(#clip352)\" cx=\"1900.58\" cy=\"782.258\" r=\"14\" fill=\"#3da44d\" fill-rule=\"evenodd\" fill-opacity=\"1\" stroke=\"#000000\" stroke-opacity=\"1\" stroke-width=\"2\"/>\n",
       "<circle clip-path=\"url(#clip352)\" cx=\"1900.6\" cy=\"828.718\" r=\"14\" fill=\"#3da44d\" fill-rule=\"evenodd\" fill-opacity=\"1\" stroke=\"#000000\" stroke-opacity=\"1\" stroke-width=\"2\"/>\n",
       "<circle clip-path=\"url(#clip352)\" cx=\"1900.62\" cy=\"828.718\" r=\"14\" fill=\"#3da44d\" fill-rule=\"evenodd\" fill-opacity=\"1\" stroke=\"#000000\" stroke-opacity=\"1\" stroke-width=\"2\"/>\n",
       "<circle clip-path=\"url(#clip352)\" cx=\"1900.65\" cy=\"828.718\" r=\"14\" fill=\"#3da44d\" fill-rule=\"evenodd\" fill-opacity=\"1\" stroke=\"#000000\" stroke-opacity=\"1\" stroke-width=\"2\"/>\n",
       "<circle clip-path=\"url(#clip352)\" cx=\"1900.69\" cy=\"828.718\" r=\"14\" fill=\"#3da44d\" fill-rule=\"evenodd\" fill-opacity=\"1\" stroke=\"#000000\" stroke-opacity=\"1\" stroke-width=\"2\"/>\n",
       "<circle clip-path=\"url(#clip352)\" cx=\"1900.74\" cy=\"755.08\" r=\"14\" fill=\"#3da44d\" fill-rule=\"evenodd\" fill-opacity=\"1\" stroke=\"#000000\" stroke-opacity=\"1\" stroke-width=\"2\"/>\n",
       "<circle clip-path=\"url(#clip352)\" cx=\"1900.76\" cy=\"828.718\" r=\"14\" fill=\"#3da44d\" fill-rule=\"evenodd\" fill-opacity=\"1\" stroke=\"#000000\" stroke-opacity=\"1\" stroke-width=\"2\"/>\n",
       "<circle clip-path=\"url(#clip352)\" cx=\"1900.81\" cy=\"828.718\" r=\"14\" fill=\"#3da44d\" fill-rule=\"evenodd\" fill-opacity=\"1\" stroke=\"#000000\" stroke-opacity=\"1\" stroke-width=\"2\"/>\n",
       "<circle clip-path=\"url(#clip352)\" cx=\"1900.83\" cy=\"755.08\" r=\"14\" fill=\"#3da44d\" fill-rule=\"evenodd\" fill-opacity=\"1\" stroke=\"#000000\" stroke-opacity=\"1\" stroke-width=\"2\"/>\n",
       "<circle clip-path=\"url(#clip352)\" cx=\"1900.9\" cy=\"782.258\" r=\"14\" fill=\"#3da44d\" fill-rule=\"evenodd\" fill-opacity=\"1\" stroke=\"#000000\" stroke-opacity=\"1\" stroke-width=\"2\"/>\n",
       "<circle clip-path=\"url(#clip352)\" cx=\"1900.97\" cy=\"828.718\" r=\"14\" fill=\"#3da44d\" fill-rule=\"evenodd\" fill-opacity=\"1\" stroke=\"#000000\" stroke-opacity=\"1\" stroke-width=\"2\"/>\n",
       "<circle clip-path=\"url(#clip352)\" cx=\"1900.99\" cy=\"828.718\" r=\"14\" fill=\"#3da44d\" fill-rule=\"evenodd\" fill-opacity=\"1\" stroke=\"#000000\" stroke-opacity=\"1\" stroke-width=\"2\"/>\n",
       "<circle clip-path=\"url(#clip352)\" cx=\"1901.04\" cy=\"828.718\" r=\"14\" fill=\"#3da44d\" fill-rule=\"evenodd\" fill-opacity=\"1\" stroke=\"#000000\" stroke-opacity=\"1\" stroke-width=\"2\"/>\n",
       "<circle clip-path=\"url(#clip352)\" cx=\"1901.06\" cy=\"828.718\" r=\"14\" fill=\"#3da44d\" fill-rule=\"evenodd\" fill-opacity=\"1\" stroke=\"#000000\" stroke-opacity=\"1\" stroke-width=\"2\"/>\n",
       "<circle clip-path=\"url(#clip352)\" cx=\"1901.11\" cy=\"828.718\" r=\"14\" fill=\"#3da44d\" fill-rule=\"evenodd\" fill-opacity=\"1\" stroke=\"#000000\" stroke-opacity=\"1\" stroke-width=\"2\"/>\n",
       "<circle clip-path=\"url(#clip352)\" cx=\"1901.2\" cy=\"828.718\" r=\"14\" fill=\"#3da44d\" fill-rule=\"evenodd\" fill-opacity=\"1\" stroke=\"#000000\" stroke-opacity=\"1\" stroke-width=\"2\"/>\n",
       "<circle clip-path=\"url(#clip352)\" cx=\"1901.27\" cy=\"828.718\" r=\"14\" fill=\"#3da44d\" fill-rule=\"evenodd\" fill-opacity=\"1\" stroke=\"#000000\" stroke-opacity=\"1\" stroke-width=\"2\"/>\n",
       "<circle clip-path=\"url(#clip352)\" cx=\"1901.39\" cy=\"828.718\" r=\"14\" fill=\"#3da44d\" fill-rule=\"evenodd\" fill-opacity=\"1\" stroke=\"#000000\" stroke-opacity=\"1\" stroke-width=\"2\"/>\n",
       "<circle clip-path=\"url(#clip352)\" cx=\"1901.43\" cy=\"828.718\" r=\"14\" fill=\"#3da44d\" fill-rule=\"evenodd\" fill-opacity=\"1\" stroke=\"#000000\" stroke-opacity=\"1\" stroke-width=\"2\"/>\n",
       "<circle clip-path=\"url(#clip352)\" cx=\"1901.55\" cy=\"828.718\" r=\"14\" fill=\"#3da44d\" fill-rule=\"evenodd\" fill-opacity=\"1\" stroke=\"#000000\" stroke-opacity=\"1\" stroke-width=\"2\"/>\n",
       "<circle clip-path=\"url(#clip352)\" cx=\"1901.57\" cy=\"828.718\" r=\"14\" fill=\"#3da44d\" fill-rule=\"evenodd\" fill-opacity=\"1\" stroke=\"#000000\" stroke-opacity=\"1\" stroke-width=\"2\"/>\n",
       "<circle clip-path=\"url(#clip352)\" cx=\"1901.73\" cy=\"828.718\" r=\"14\" fill=\"#3da44d\" fill-rule=\"evenodd\" fill-opacity=\"1\" stroke=\"#000000\" stroke-opacity=\"1\" stroke-width=\"2\"/>\n",
       "<circle clip-path=\"url(#clip352)\" cx=\"1901.85\" cy=\"828.718\" r=\"14\" fill=\"#3da44d\" fill-rule=\"evenodd\" fill-opacity=\"1\" stroke=\"#000000\" stroke-opacity=\"1\" stroke-width=\"2\"/>\n",
       "<circle clip-path=\"url(#clip352)\" cx=\"1901.98\" cy=\"828.718\" r=\"14\" fill=\"#3da44d\" fill-rule=\"evenodd\" fill-opacity=\"1\" stroke=\"#000000\" stroke-opacity=\"1\" stroke-width=\"2\"/>\n",
       "<circle clip-path=\"url(#clip352)\" cx=\"1902.03\" cy=\"828.718\" r=\"14\" fill=\"#3da44d\" fill-rule=\"evenodd\" fill-opacity=\"1\" stroke=\"#000000\" stroke-opacity=\"1\" stroke-width=\"2\"/>\n",
       "<circle clip-path=\"url(#clip352)\" cx=\"1902.76\" cy=\"828.718\" r=\"14\" fill=\"#3da44d\" fill-rule=\"evenodd\" fill-opacity=\"1\" stroke=\"#000000\" stroke-opacity=\"1\" stroke-width=\"2\"/>\n",
       "<polyline clip-path=\"url(#clip352)\" style=\"stroke:#c271d2; stroke-linecap:butt; stroke-linejoin:round; stroke-width:4; stroke-opacity:1; fill:none\" points=\"\n",
       "  1115.01,1591.05 1115.01,-632.996 \n",
       "  \"/>\n",
       "<path clip-path=\"url(#clip350)\" d=\"\n",
       "M1275.36 392.264 L1893.88 392.264 L1893.88 133.064 L1275.36 133.064  Z\n",
       "  \" fill=\"#ffffff\" fill-rule=\"evenodd\" fill-opacity=\"1\"/>\n",
       "<polyline clip-path=\"url(#clip350)\" style=\"stroke:#000000; stroke-linecap:butt; stroke-linejoin:round; stroke-width:4; stroke-opacity:1; fill:none\" points=\"\n",
       "  1275.36,392.264 1893.88,392.264 1893.88,133.064 1275.36,133.064 1275.36,392.264 \n",
       "  \"/>\n",
       "<circle clip-path=\"url(#clip350)\" cx=\"1353.87\" cy=\"184.904\" r=\"23\" fill=\"#009af9\" fill-rule=\"evenodd\" fill-opacity=\"1\" stroke=\"#000000\" stroke-opacity=\"1\" stroke-width=\"3.2\"/>\n",
       "<path clip-path=\"url(#clip350)\" d=\"M1450.8 177.022 L1450.8 181.05 Q1449 180.124 1447.05 179.661 Q1445.11 179.198 1443.03 179.198 Q1439.86 179.198 1438.26 180.17 Q1436.68 181.142 1436.68 183.087 Q1436.68 184.568 1437.82 185.425 Q1438.95 186.258 1442.38 187.022 L1443.84 187.346 Q1448.37 188.318 1450.27 190.1 Q1452.19 191.86 1452.19 195.031 Q1452.19 198.642 1449.32 200.749 Q1446.48 202.855 1441.48 202.855 Q1439.39 202.855 1437.12 202.438 Q1434.88 202.045 1432.38 201.235 L1432.38 196.837 Q1434.74 198.063 1437.03 198.688 Q1439.32 199.29 1441.57 199.29 Q1444.58 199.29 1446.2 198.272 Q1447.82 197.23 1447.82 195.355 Q1447.82 193.619 1446.64 192.693 Q1445.48 191.767 1441.52 190.911 L1440.04 190.563 Q1436.08 189.73 1434.32 188.017 Q1432.56 186.281 1432.56 183.272 Q1432.56 179.614 1435.16 177.624 Q1437.75 175.633 1442.52 175.633 Q1444.88 175.633 1446.96 175.98 Q1449.05 176.327 1450.8 177.022 Z\" fill=\"#000000\" fill-rule=\"evenodd\" fill-opacity=\"1\" /><path clip-path=\"url(#clip350)\" d=\"M1481.15 188.156 L1481.15 190.239 L1461.57 190.239 Q1461.85 194.637 1464.21 196.952 Q1466.59 199.244 1470.83 199.244 Q1473.28 199.244 1475.57 198.642 Q1477.89 198.04 1480.16 196.837 L1480.16 200.864 Q1477.86 201.836 1475.46 202.346 Q1473.05 202.855 1470.57 202.855 Q1464.37 202.855 1460.74 199.244 Q1457.12 195.633 1457.12 189.475 Q1457.12 183.11 1460.55 179.383 Q1464 175.633 1469.83 175.633 Q1475.06 175.633 1478.1 179.013 Q1481.15 182.369 1481.15 188.156 M1476.89 186.906 Q1476.85 183.411 1474.93 181.327 Q1473.03 179.244 1469.88 179.244 Q1466.31 179.244 1464.16 181.258 Q1462.03 183.272 1461.71 186.929 L1476.89 186.906 Z\" fill=\"#000000\" fill-rule=\"evenodd\" fill-opacity=\"1\" /><path clip-path=\"url(#clip350)\" d=\"M1490.69 189.244 Q1490.69 193.943 1492.61 196.628 Q1494.55 199.29 1497.93 199.29 Q1501.31 199.29 1503.26 196.628 Q1505.2 193.943 1505.2 189.244 Q1505.2 184.545 1503.26 181.883 Q1501.31 179.198 1497.93 179.198 Q1494.55 179.198 1492.61 181.883 Q1490.69 184.545 1490.69 189.244 M1505.2 198.295 Q1503.86 200.61 1501.8 201.744 Q1499.76 202.855 1496.89 202.855 Q1492.19 202.855 1489.23 199.105 Q1486.29 195.355 1486.29 189.244 Q1486.29 183.133 1489.23 179.383 Q1492.19 175.633 1496.89 175.633 Q1499.76 175.633 1501.8 176.767 Q1503.86 177.878 1505.2 180.193 L1505.2 176.258 L1509.46 176.258 L1509.46 212.045 L1505.2 212.045 L1505.2 198.295 Z\" fill=\"#000000\" fill-rule=\"evenodd\" fill-opacity=\"1\" /><path clip-path=\"url(#clip350)\" d=\"M1517.8 191.952 L1517.8 176.258 L1522.05 176.258 L1522.05 191.79 Q1522.05 195.471 1523.49 197.323 Q1524.92 199.151 1527.8 199.151 Q1531.24 199.151 1533.23 196.952 Q1535.25 194.753 1535.25 190.957 L1535.25 176.258 L1539.51 176.258 L1539.51 202.184 L1535.25 202.184 L1535.25 198.202 Q1533.7 200.563 1531.64 201.721 Q1529.6 202.855 1526.89 202.855 Q1522.42 202.855 1520.11 200.077 Q1517.8 197.299 1517.8 191.952 M1528.51 175.633 L1528.51 175.633 Z\" fill=\"#000000\" fill-rule=\"evenodd\" fill-opacity=\"1\" /><path clip-path=\"url(#clip350)\" d=\"M1570.46 188.156 L1570.46 190.239 L1550.87 190.239 Q1551.15 194.637 1553.51 196.952 Q1555.9 199.244 1560.13 199.244 Q1562.59 199.244 1564.88 198.642 Q1567.19 198.04 1569.46 196.837 L1569.46 200.864 Q1567.17 201.836 1564.76 202.346 Q1562.36 202.855 1559.88 202.855 Q1553.67 202.855 1550.04 199.244 Q1546.43 195.633 1546.43 189.475 Q1546.43 183.11 1549.86 179.383 Q1553.3 175.633 1559.14 175.633 Q1564.37 175.633 1567.4 179.013 Q1570.46 182.369 1570.46 188.156 M1566.2 186.906 Q1566.15 183.411 1564.23 181.327 Q1562.33 179.244 1559.18 179.244 Q1555.62 179.244 1553.47 181.258 Q1551.34 183.272 1551.01 186.929 L1566.2 186.906 Z\" fill=\"#000000\" fill-rule=\"evenodd\" fill-opacity=\"1\" /><path clip-path=\"url(#clip350)\" d=\"M1599 186.536 L1599 202.184 L1594.74 202.184 L1594.74 186.675 Q1594.74 182.994 1593.3 181.165 Q1591.87 179.337 1589 179.337 Q1585.55 179.337 1583.56 181.536 Q1581.57 183.735 1581.57 187.531 L1581.57 202.184 L1577.29 202.184 L1577.29 176.258 L1581.57 176.258 L1581.57 180.286 Q1583.1 177.948 1585.16 176.79 Q1587.24 175.633 1589.95 175.633 Q1594.42 175.633 1596.71 178.411 Q1599 181.165 1599 186.536 Z\" fill=\"#000000\" fill-rule=\"evenodd\" fill-opacity=\"1\" /><path clip-path=\"url(#clip350)\" d=\"M1626.15 177.253 L1626.15 181.235 Q1624.35 180.239 1622.52 179.753 Q1620.71 179.244 1618.86 179.244 Q1614.72 179.244 1612.42 181.883 Q1610.13 184.499 1610.13 189.244 Q1610.13 193.989 1612.42 196.628 Q1614.72 199.244 1618.86 199.244 Q1620.71 199.244 1622.52 198.758 Q1624.35 198.249 1626.15 197.253 L1626.15 201.188 Q1624.37 202.022 1622.45 202.438 Q1620.55 202.855 1618.4 202.855 Q1612.54 202.855 1609.09 199.174 Q1605.64 195.494 1605.64 189.244 Q1605.64 182.901 1609.11 179.267 Q1612.61 175.633 1618.67 175.633 Q1620.64 175.633 1622.52 176.05 Q1624.39 176.443 1626.15 177.253 Z\" fill=\"#000000\" fill-rule=\"evenodd\" fill-opacity=\"1\" /><path clip-path=\"url(#clip350)\" d=\"M1633.56 176.258 L1637.82 176.258 L1637.82 202.184 L1633.56 202.184 L1633.56 176.258 M1633.56 166.165 L1637.82 166.165 L1637.82 171.559 L1633.56 171.559 L1633.56 166.165 Z\" fill=\"#000000\" fill-rule=\"evenodd\" fill-opacity=\"1\" /><path clip-path=\"url(#clip350)\" d=\"M1668.28 186.536 L1668.28 202.184 L1664.02 202.184 L1664.02 186.675 Q1664.02 182.994 1662.59 181.165 Q1661.15 179.337 1658.28 179.337 Q1654.83 179.337 1652.84 181.536 Q1650.85 183.735 1650.85 187.531 L1650.85 202.184 L1646.57 202.184 L1646.57 176.258 L1650.85 176.258 L1650.85 180.286 Q1652.38 177.948 1654.44 176.79 Q1656.52 175.633 1659.23 175.633 Q1663.7 175.633 1665.99 178.411 Q1668.28 181.165 1668.28 186.536 Z\" fill=\"#000000\" fill-rule=\"evenodd\" fill-opacity=\"1\" /><path clip-path=\"url(#clip350)\" d=\"M1693.84 188.92 Q1693.84 184.29 1691.91 181.744 Q1690.02 179.198 1686.57 179.198 Q1683.14 179.198 1681.22 181.744 Q1679.32 184.29 1679.32 188.92 Q1679.32 193.526 1681.22 196.073 Q1683.14 198.619 1686.57 198.619 Q1690.02 198.619 1691.91 196.073 Q1693.84 193.526 1693.84 188.92 M1698.1 198.966 Q1698.1 205.586 1695.16 208.804 Q1692.22 212.045 1686.15 212.045 Q1683.91 212.045 1681.91 211.698 Q1679.92 211.373 1678.05 210.679 L1678.05 206.536 Q1679.92 207.554 1681.75 208.04 Q1683.58 208.526 1685.48 208.526 Q1689.67 208.526 1691.75 206.327 Q1693.84 204.151 1693.84 199.73 L1693.84 197.624 Q1692.52 199.915 1690.46 201.049 Q1688.4 202.184 1685.53 202.184 Q1680.76 202.184 1677.84 198.549 Q1674.92 194.915 1674.92 188.92 Q1674.92 182.901 1677.84 179.267 Q1680.76 175.633 1685.53 175.633 Q1688.4 175.633 1690.46 176.767 Q1692.52 177.901 1693.84 180.193 L1693.84 176.258 L1698.1 176.258 L1698.1 198.966 Z\" fill=\"#000000\" fill-rule=\"evenodd\" fill-opacity=\"1\" /><path clip-path=\"url(#clip350)\" d=\"M1744.11 188.156 L1744.11 190.239 L1724.53 190.239 Q1724.81 194.637 1727.17 196.952 Q1729.55 199.244 1733.79 199.244 Q1736.24 199.244 1738.53 198.642 Q1740.85 198.04 1743.12 196.837 L1743.12 200.864 Q1740.83 201.836 1738.42 202.346 Q1736.01 202.855 1733.53 202.855 Q1727.33 202.855 1723.7 199.244 Q1720.09 195.633 1720.09 189.475 Q1720.09 183.11 1723.51 179.383 Q1726.96 175.633 1732.79 175.633 Q1738.03 175.633 1741.06 179.013 Q1744.11 182.369 1744.11 188.156 M1739.85 186.906 Q1739.81 183.411 1737.89 181.327 Q1735.99 179.244 1732.84 179.244 Q1729.28 179.244 1727.12 181.258 Q1724.99 183.272 1724.67 186.929 L1739.85 186.906 Z\" fill=\"#000000\" fill-rule=\"evenodd\" fill-opacity=\"1\" /><path clip-path=\"url(#clip350)\" d=\"M1766.13 180.239 Q1765.41 179.823 1764.55 179.638 Q1763.72 179.429 1762.7 179.429 Q1759.09 179.429 1757.15 181.79 Q1755.22 184.128 1755.22 188.526 L1755.22 202.184 L1750.94 202.184 L1750.94 176.258 L1755.22 176.258 L1755.22 180.286 Q1756.57 177.925 1758.72 176.79 Q1760.87 175.633 1763.95 175.633 Q1764.39 175.633 1764.92 175.702 Q1765.46 175.749 1766.1 175.864 L1766.13 180.239 Z\" fill=\"#000000\" fill-rule=\"evenodd\" fill-opacity=\"1\" /><path clip-path=\"url(#clip350)\" d=\"M1784.78 180.239 Q1784.07 179.823 1783.21 179.638 Q1782.38 179.429 1781.36 179.429 Q1777.75 179.429 1775.8 181.79 Q1773.88 184.128 1773.88 188.526 L1773.88 202.184 L1769.6 202.184 L1769.6 176.258 L1773.88 176.258 L1773.88 180.286 Q1775.22 177.925 1777.38 176.79 Q1779.53 175.633 1782.61 175.633 Q1783.05 175.633 1783.58 175.702 Q1784.11 175.749 1784.76 175.864 L1784.78 180.239 Z\" fill=\"#000000\" fill-rule=\"evenodd\" fill-opacity=\"1\" /><path clip-path=\"url(#clip350)\" d=\"M1798.26 179.244 Q1794.83 179.244 1792.84 181.929 Q1790.85 184.591 1790.85 189.244 Q1790.85 193.897 1792.82 196.582 Q1794.81 199.244 1798.26 199.244 Q1801.66 199.244 1803.65 196.559 Q1805.64 193.874 1805.64 189.244 Q1805.64 184.638 1803.65 181.952 Q1801.66 179.244 1798.26 179.244 M1798.26 175.633 Q1803.81 175.633 1806.98 179.244 Q1810.15 182.855 1810.15 189.244 Q1810.15 195.61 1806.98 199.244 Q1803.81 202.855 1798.26 202.855 Q1792.68 202.855 1789.51 199.244 Q1786.36 195.61 1786.36 189.244 Q1786.36 182.855 1789.51 179.244 Q1792.68 175.633 1798.26 175.633 Z\" fill=\"#000000\" fill-rule=\"evenodd\" fill-opacity=\"1\" /><path clip-path=\"url(#clip350)\" d=\"M1832.24 180.239 Q1831.52 179.823 1830.66 179.638 Q1829.83 179.429 1828.81 179.429 Q1825.2 179.429 1823.26 181.79 Q1821.34 184.128 1821.34 188.526 L1821.34 202.184 L1817.05 202.184 L1817.05 176.258 L1821.34 176.258 L1821.34 180.286 Q1822.68 177.925 1824.83 176.79 Q1826.98 175.633 1830.06 175.633 Q1830.5 175.633 1831.03 175.702 Q1831.57 175.749 1832.21 175.864 L1832.24 180.239 Z\" fill=\"#000000\" fill-rule=\"evenodd\" fill-opacity=\"1\" /><path clip-path=\"url(#clip350)\" d=\"M1853.23 177.022 L1853.23 181.05 Q1851.43 180.124 1849.48 179.661 Q1847.54 179.198 1845.46 179.198 Q1842.28 179.198 1840.69 180.17 Q1839.11 181.142 1839.11 183.087 Q1839.11 184.568 1840.25 185.425 Q1841.38 186.258 1844.81 187.022 L1846.27 187.346 Q1850.8 188.318 1852.7 190.1 Q1854.62 191.86 1854.62 195.031 Q1854.62 198.642 1851.75 200.749 Q1848.9 202.855 1843.9 202.855 Q1841.82 202.855 1839.55 202.438 Q1837.31 202.045 1834.81 201.235 L1834.81 196.837 Q1837.17 198.063 1839.46 198.688 Q1841.75 199.29 1844 199.29 Q1847.01 199.29 1848.63 198.272 Q1850.25 197.23 1850.25 195.355 Q1850.25 193.619 1849.07 192.693 Q1847.91 191.767 1843.95 190.911 L1842.47 190.563 Q1838.51 189.73 1836.75 188.017 Q1834.99 186.281 1834.99 183.272 Q1834.99 179.614 1837.59 177.624 Q1840.18 175.633 1844.95 175.633 Q1847.31 175.633 1849.39 175.98 Q1851.47 176.327 1853.23 177.022 Z\" fill=\"#000000\" fill-rule=\"evenodd\" fill-opacity=\"1\" /><circle clip-path=\"url(#clip350)\" cx=\"1353.87\" cy=\"236.744\" r=\"23\" fill=\"#e26f46\" fill-rule=\"evenodd\" fill-opacity=\"1\" stroke=\"#000000\" stroke-opacity=\"1\" stroke-width=\"3.2\"/>\n",
       "<path clip-path=\"url(#clip350)\" d=\"M1452.89 229.093 L1452.89 233.075 Q1451.08 232.079 1449.25 231.593 Q1447.45 231.084 1445.6 231.084 Q1441.45 231.084 1439.16 233.723 Q1436.87 236.339 1436.87 241.084 Q1436.87 245.829 1439.16 248.468 Q1441.45 251.084 1445.6 251.084 Q1447.45 251.084 1449.25 250.598 Q1451.08 250.089 1452.89 249.093 L1452.89 253.028 Q1451.11 253.862 1449.18 254.278 Q1447.29 254.695 1445.13 254.695 Q1439.28 254.695 1435.83 251.014 Q1432.38 247.334 1432.38 241.084 Q1432.38 234.741 1435.85 231.107 Q1439.35 227.473 1445.41 227.473 Q1447.38 227.473 1449.25 227.89 Q1451.13 228.283 1452.89 229.093 Z\" fill=\"#000000\" fill-rule=\"evenodd\" fill-opacity=\"1\" /><path clip-path=\"url(#clip350)\" d=\"M1460.3 218.005 L1464.55 218.005 L1464.55 254.024 L1460.3 254.024 L1460.3 218.005 Z\" fill=\"#000000\" fill-rule=\"evenodd\" fill-opacity=\"1\" /><path clip-path=\"url(#clip350)\" d=\"M1473.03 243.792 L1473.03 228.098 L1477.29 228.098 L1477.29 243.63 Q1477.29 247.311 1478.72 249.163 Q1480.16 250.991 1483.03 250.991 Q1486.48 250.991 1488.47 248.792 Q1490.48 246.593 1490.48 242.797 L1490.48 228.098 L1494.74 228.098 L1494.74 254.024 L1490.48 254.024 L1490.48 250.042 Q1488.93 252.403 1486.87 253.561 Q1484.83 254.695 1482.12 254.695 Q1477.66 254.695 1475.34 251.917 Q1473.03 249.139 1473.03 243.792 M1483.74 227.473 L1483.74 227.473 Z\" fill=\"#000000\" fill-rule=\"evenodd\" fill-opacity=\"1\" /><path clip-path=\"url(#clip350)\" d=\"M1520.04 228.862 L1520.04 232.89 Q1518.24 231.964 1516.29 231.501 Q1514.35 231.038 1512.26 231.038 Q1509.09 231.038 1507.49 232.01 Q1505.92 232.982 1505.92 234.927 Q1505.92 236.408 1507.05 237.265 Q1508.19 238.098 1511.61 238.862 L1513.07 239.186 Q1517.61 240.158 1519.51 241.94 Q1521.43 243.7 1521.43 246.871 Q1521.43 250.482 1518.56 252.589 Q1515.71 254.695 1510.71 254.695 Q1508.63 254.695 1506.36 254.278 Q1504.11 253.885 1501.61 253.075 L1501.61 248.677 Q1503.98 249.903 1506.27 250.528 Q1508.56 251.13 1510.8 251.13 Q1513.81 251.13 1515.43 250.112 Q1517.05 249.07 1517.05 247.195 Q1517.05 245.459 1515.87 244.533 Q1514.72 243.607 1510.76 242.751 L1509.28 242.403 Q1505.32 241.57 1503.56 239.857 Q1501.8 238.121 1501.8 235.112 Q1501.8 231.454 1504.39 229.464 Q1506.99 227.473 1511.75 227.473 Q1514.11 227.473 1516.2 227.82 Q1518.28 228.167 1520.04 228.862 Z\" fill=\"#000000\" fill-rule=\"evenodd\" fill-opacity=\"1\" /><path clip-path=\"url(#clip350)\" d=\"M1532.42 220.737 L1532.42 228.098 L1541.2 228.098 L1541.2 231.408 L1532.42 231.408 L1532.42 245.482 Q1532.42 248.653 1533.28 249.556 Q1534.16 250.459 1536.82 250.459 L1541.2 250.459 L1541.2 254.024 L1536.82 254.024 Q1531.89 254.024 1530.02 252.195 Q1528.14 250.343 1528.14 245.482 L1528.14 231.408 L1525.02 231.408 L1525.02 228.098 L1528.14 228.098 L1528.14 220.737 L1532.42 220.737 Z\" fill=\"#000000\" fill-rule=\"evenodd\" fill-opacity=\"1\" /><path clip-path=\"url(#clip350)\" d=\"M1568.98 239.996 L1568.98 242.079 L1549.39 242.079 Q1549.67 246.477 1552.03 248.792 Q1554.42 251.084 1558.65 251.084 Q1561.11 251.084 1563.4 250.482 Q1565.71 249.88 1567.98 248.677 L1567.98 252.704 Q1565.69 253.676 1563.28 254.186 Q1560.87 254.695 1558.4 254.695 Q1552.19 254.695 1548.56 251.084 Q1544.95 247.473 1544.95 241.315 Q1544.95 234.95 1548.37 231.223 Q1551.82 227.473 1557.66 227.473 Q1562.89 227.473 1565.92 230.853 Q1568.98 234.209 1568.98 239.996 M1564.72 238.746 Q1564.67 235.251 1562.75 233.167 Q1560.85 231.084 1557.7 231.084 Q1554.14 231.084 1551.98 233.098 Q1549.86 235.112 1549.53 238.769 L1564.72 238.746 Z\" fill=\"#000000\" fill-rule=\"evenodd\" fill-opacity=\"1\" /><path clip-path=\"url(#clip350)\" d=\"M1590.99 232.079 Q1590.27 231.663 1589.42 231.478 Q1588.58 231.269 1587.56 231.269 Q1583.95 231.269 1582.01 233.63 Q1580.09 235.968 1580.09 240.366 L1580.09 254.024 L1575.8 254.024 L1575.8 228.098 L1580.09 228.098 L1580.09 232.126 Q1581.43 229.765 1583.58 228.63 Q1585.73 227.473 1588.81 227.473 Q1589.25 227.473 1589.79 227.542 Q1590.32 227.589 1590.97 227.704 L1590.99 232.079 Z\" fill=\"#000000\" fill-rule=\"evenodd\" fill-opacity=\"1\" /><path clip-path=\"url(#clip350)\" d=\"M1615.16 250.089 L1631.48 250.089 L1631.48 254.024 L1609.53 254.024 L1609.53 250.089 Q1612.19 247.334 1616.78 242.704 Q1621.38 238.052 1622.56 236.709 Q1624.81 234.186 1625.69 232.45 Q1626.59 230.691 1626.59 229.001 Q1626.59 226.246 1624.65 224.51 Q1622.73 222.774 1619.62 222.774 Q1617.42 222.774 1614.97 223.538 Q1612.54 224.302 1609.76 225.853 L1609.76 221.13 Q1612.59 219.996 1615.04 219.417 Q1617.49 218.839 1619.53 218.839 Q1624.9 218.839 1628.1 221.524 Q1631.29 224.209 1631.29 228.7 Q1631.29 230.829 1630.48 232.751 Q1629.69 234.649 1627.59 237.241 Q1627.01 237.913 1623.91 241.13 Q1620.8 244.325 1615.16 250.089 Z\" fill=\"#000000\" fill-rule=\"evenodd\" fill-opacity=\"1\" /><circle clip-path=\"url(#clip350)\" cx=\"1353.87\" cy=\"288.584\" r=\"23\" fill=\"#3da44d\" fill-rule=\"evenodd\" fill-opacity=\"1\" stroke=\"#000000\" stroke-opacity=\"1\" stroke-width=\"3.2\"/>\n",
       "<path clip-path=\"url(#clip350)\" d=\"M1452.89 280.933 L1452.89 284.915 Q1451.08 283.919 1449.25 283.433 Q1447.45 282.924 1445.6 282.924 Q1441.45 282.924 1439.16 285.563 Q1436.87 288.179 1436.87 292.924 Q1436.87 297.669 1439.16 300.308 Q1441.45 302.924 1445.6 302.924 Q1447.45 302.924 1449.25 302.438 Q1451.08 301.929 1452.89 300.933 L1452.89 304.868 Q1451.11 305.702 1449.18 306.118 Q1447.29 306.535 1445.13 306.535 Q1439.28 306.535 1435.83 302.854 Q1432.38 299.174 1432.38 292.924 Q1432.38 286.581 1435.85 282.947 Q1439.35 279.313 1445.41 279.313 Q1447.38 279.313 1449.25 279.73 Q1451.13 280.123 1452.89 280.933 Z\" fill=\"#000000\" fill-rule=\"evenodd\" fill-opacity=\"1\" /><path clip-path=\"url(#clip350)\" d=\"M1460.3 269.845 L1464.55 269.845 L1464.55 305.864 L1460.3 305.864 L1460.3 269.845 Z\" fill=\"#000000\" fill-rule=\"evenodd\" fill-opacity=\"1\" /><path clip-path=\"url(#clip350)\" d=\"M1473.03 295.632 L1473.03 279.938 L1477.29 279.938 L1477.29 295.47 Q1477.29 299.151 1478.72 301.003 Q1480.16 302.831 1483.03 302.831 Q1486.48 302.831 1488.47 300.632 Q1490.48 298.433 1490.48 294.637 L1490.48 279.938 L1494.74 279.938 L1494.74 305.864 L1490.48 305.864 L1490.48 301.882 Q1488.93 304.243 1486.87 305.401 Q1484.83 306.535 1482.12 306.535 Q1477.66 306.535 1475.34 303.757 Q1473.03 300.979 1473.03 295.632 M1483.74 279.313 L1483.74 279.313 Z\" fill=\"#000000\" fill-rule=\"evenodd\" fill-opacity=\"1\" /><path clip-path=\"url(#clip350)\" d=\"M1520.04 280.702 L1520.04 284.73 Q1518.24 283.804 1516.29 283.341 Q1514.35 282.878 1512.26 282.878 Q1509.09 282.878 1507.49 283.85 Q1505.92 284.822 1505.92 286.767 Q1505.92 288.248 1507.05 289.105 Q1508.19 289.938 1511.61 290.702 L1513.07 291.026 Q1517.61 291.998 1519.51 293.78 Q1521.43 295.54 1521.43 298.711 Q1521.43 302.322 1518.56 304.429 Q1515.71 306.535 1510.71 306.535 Q1508.63 306.535 1506.36 306.118 Q1504.11 305.725 1501.61 304.915 L1501.61 300.517 Q1503.98 301.743 1506.27 302.368 Q1508.56 302.97 1510.8 302.97 Q1513.81 302.97 1515.43 301.952 Q1517.05 300.91 1517.05 299.035 Q1517.05 297.299 1515.87 296.373 Q1514.72 295.447 1510.76 294.591 L1509.28 294.243 Q1505.32 293.41 1503.56 291.697 Q1501.8 289.961 1501.8 286.952 Q1501.8 283.294 1504.39 281.304 Q1506.99 279.313 1511.75 279.313 Q1514.11 279.313 1516.2 279.66 Q1518.28 280.007 1520.04 280.702 Z\" fill=\"#000000\" fill-rule=\"evenodd\" fill-opacity=\"1\" /><path clip-path=\"url(#clip350)\" d=\"M1532.42 272.577 L1532.42 279.938 L1541.2 279.938 L1541.2 283.248 L1532.42 283.248 L1532.42 297.322 Q1532.42 300.493 1533.28 301.396 Q1534.16 302.299 1536.82 302.299 L1541.2 302.299 L1541.2 305.864 L1536.82 305.864 Q1531.89 305.864 1530.02 304.035 Q1528.14 302.183 1528.14 297.322 L1528.14 283.248 L1525.02 283.248 L1525.02 279.938 L1528.14 279.938 L1528.14 272.577 L1532.42 272.577 Z\" fill=\"#000000\" fill-rule=\"evenodd\" fill-opacity=\"1\" /><path clip-path=\"url(#clip350)\" d=\"M1568.98 291.836 L1568.98 293.919 L1549.39 293.919 Q1549.67 298.317 1552.03 300.632 Q1554.42 302.924 1558.65 302.924 Q1561.11 302.924 1563.4 302.322 Q1565.71 301.72 1567.98 300.517 L1567.98 304.544 Q1565.69 305.516 1563.28 306.026 Q1560.87 306.535 1558.4 306.535 Q1552.19 306.535 1548.56 302.924 Q1544.95 299.313 1544.95 293.155 Q1544.95 286.79 1548.37 283.063 Q1551.82 279.313 1557.66 279.313 Q1562.89 279.313 1565.92 282.693 Q1568.98 286.049 1568.98 291.836 M1564.72 290.586 Q1564.67 287.091 1562.75 285.007 Q1560.85 282.924 1557.7 282.924 Q1554.14 282.924 1551.98 284.938 Q1549.86 286.952 1549.53 290.609 L1564.72 290.586 Z\" fill=\"#000000\" fill-rule=\"evenodd\" fill-opacity=\"1\" /><path clip-path=\"url(#clip350)\" d=\"M1590.99 283.919 Q1590.27 283.503 1589.42 283.318 Q1588.58 283.109 1587.56 283.109 Q1583.95 283.109 1582.01 285.47 Q1580.09 287.808 1580.09 292.206 L1580.09 305.864 L1575.8 305.864 L1575.8 279.938 L1580.09 279.938 L1580.09 283.966 Q1581.43 281.605 1583.58 280.47 Q1585.73 279.313 1588.81 279.313 Q1589.25 279.313 1589.79 279.382 Q1590.32 279.429 1590.97 279.544 L1590.99 283.919 Z\" fill=\"#000000\" fill-rule=\"evenodd\" fill-opacity=\"1\" /><path clip-path=\"url(#clip350)\" d=\"M1625.29 287.23 Q1628.65 287.947 1630.53 290.216 Q1632.42 292.484 1632.42 295.817 Q1632.42 300.933 1628.91 303.734 Q1625.39 306.535 1618.91 306.535 Q1616.73 306.535 1614.42 306.095 Q1612.12 305.679 1609.67 304.822 L1609.67 300.308 Q1611.61 301.442 1613.93 302.021 Q1616.24 302.6 1618.77 302.6 Q1623.17 302.6 1625.46 300.864 Q1627.77 299.128 1627.77 295.817 Q1627.77 292.762 1625.62 291.049 Q1623.49 289.313 1619.67 289.313 L1615.64 289.313 L1615.64 285.47 L1619.85 285.47 Q1623.3 285.47 1625.13 284.105 Q1626.96 282.716 1626.96 280.123 Q1626.96 277.461 1625.06 276.049 Q1623.19 274.614 1619.67 274.614 Q1617.75 274.614 1615.55 275.031 Q1613.35 275.447 1610.71 276.327 L1610.71 272.16 Q1613.37 271.419 1615.69 271.049 Q1618.03 270.679 1620.09 270.679 Q1625.41 270.679 1628.51 273.109 Q1631.61 275.517 1631.61 279.637 Q1631.61 282.507 1629.97 284.498 Q1628.33 286.466 1625.29 287.23 Z\" fill=\"#000000\" fill-rule=\"evenodd\" fill-opacity=\"1\" /><polyline clip-path=\"url(#clip350)\" style=\"stroke:#c271d2; stroke-linecap:butt; stroke-linejoin:round; stroke-width:4; stroke-opacity:1; fill:none\" points=\"\n",
       "  1294.99,340.424 1412.75,340.424 \n",
       "  \"/>\n",
       "<path clip-path=\"url(#clip350)\" d=\"M1456.41 343.676 L1456.41 345.759 L1436.82 345.759 Q1437.1 350.157 1439.46 352.472 Q1441.85 354.764 1446.08 354.764 Q1448.54 354.764 1450.83 354.162 Q1453.14 353.56 1455.41 352.357 L1455.41 356.384 Q1453.12 357.356 1450.71 357.866 Q1448.3 358.375 1445.83 358.375 Q1439.62 358.375 1435.99 354.764 Q1432.38 351.153 1432.38 344.995 Q1432.38 338.63 1435.8 334.903 Q1439.25 331.153 1445.09 331.153 Q1450.32 331.153 1453.35 334.533 Q1456.41 337.889 1456.41 343.676 M1452.15 342.426 Q1452.1 338.931 1450.18 336.847 Q1448.28 334.764 1445.13 334.764 Q1441.57 334.764 1439.42 336.778 Q1437.29 338.792 1436.96 342.449 L1452.15 342.426 Z\" fill=\"#000000\" fill-rule=\"evenodd\" fill-opacity=\"1\" /><path clip-path=\"url(#clip350)\" d=\"M1478.42 335.759 Q1477.7 335.343 1476.85 335.158 Q1476.01 334.949 1474.99 334.949 Q1471.38 334.949 1469.44 337.31 Q1467.52 339.648 1467.52 344.046 L1467.52 357.704 L1463.24 357.704 L1463.24 331.778 L1467.52 331.778 L1467.52 335.806 Q1468.86 333.445 1471.01 332.31 Q1473.17 331.153 1476.24 331.153 Q1476.68 331.153 1477.22 331.222 Q1477.75 331.269 1478.4 331.384 L1478.42 335.759 Z\" fill=\"#000000\" fill-rule=\"evenodd\" fill-opacity=\"1\" /><path clip-path=\"url(#clip350)\" d=\"M1497.08 335.759 Q1496.36 335.343 1495.5 335.158 Q1494.67 334.949 1493.65 334.949 Q1490.04 334.949 1488.1 337.31 Q1486.18 339.648 1486.18 344.046 L1486.18 357.704 L1481.89 357.704 L1481.89 331.778 L1486.18 331.778 L1486.18 335.806 Q1487.52 333.445 1489.67 332.31 Q1491.82 331.153 1494.9 331.153 Q1495.34 331.153 1495.87 331.222 Q1496.41 331.269 1497.05 331.384 L1497.08 335.759 Z\" fill=\"#000000\" fill-rule=\"evenodd\" fill-opacity=\"1\" /><path clip-path=\"url(#clip350)\" d=\"M1510.55 334.764 Q1507.12 334.764 1505.13 337.449 Q1503.14 340.111 1503.14 344.764 Q1503.14 349.417 1505.11 352.102 Q1507.1 354.764 1510.55 354.764 Q1513.95 354.764 1515.94 352.079 Q1517.93 349.394 1517.93 344.764 Q1517.93 340.158 1515.94 337.472 Q1513.95 334.764 1510.55 334.764 M1510.55 331.153 Q1516.11 331.153 1519.28 334.764 Q1522.45 338.375 1522.45 344.764 Q1522.45 351.13 1519.28 354.764 Q1516.11 358.375 1510.55 358.375 Q1504.97 358.375 1501.8 354.764 Q1498.65 351.13 1498.65 344.764 Q1498.65 338.375 1501.8 334.764 Q1504.97 331.153 1510.55 331.153 Z\" fill=\"#000000\" fill-rule=\"evenodd\" fill-opacity=\"1\" /><path clip-path=\"url(#clip350)\" d=\"M1544.53 335.759 Q1543.81 335.343 1542.96 335.158 Q1542.12 334.949 1541.11 334.949 Q1537.49 334.949 1535.55 337.31 Q1533.63 339.648 1533.63 344.046 L1533.63 357.704 L1529.35 357.704 L1529.35 331.778 L1533.63 331.778 L1533.63 335.806 Q1534.97 333.445 1537.12 332.31 Q1539.28 331.153 1542.36 331.153 Q1542.8 331.153 1543.33 331.222 Q1543.86 331.269 1544.51 331.384 L1544.53 335.759 Z\" fill=\"#000000\" fill-rule=\"evenodd\" fill-opacity=\"1\" /><path clip-path=\"url(#clip350)\" d=\"M1568.28 324.417 L1568.28 331.778 L1577.05 331.778 L1577.05 335.088 L1568.28 335.088 L1568.28 349.162 Q1568.28 352.333 1569.14 353.236 Q1570.02 354.139 1572.68 354.139 L1577.05 354.139 L1577.05 357.704 L1572.68 357.704 Q1567.75 357.704 1565.87 355.875 Q1564 354.023 1564 349.162 L1564 335.088 L1560.87 335.088 L1560.87 331.778 L1564 331.778 L1564 324.417 L1568.28 324.417 Z\" fill=\"#000000\" fill-rule=\"evenodd\" fill-opacity=\"1\" /><path clip-path=\"url(#clip350)\" d=\"M1604.21 342.056 L1604.21 357.704 L1599.95 357.704 L1599.95 342.195 Q1599.95 338.514 1598.51 336.685 Q1597.08 334.857 1594.21 334.857 Q1590.76 334.857 1588.77 337.056 Q1586.78 339.255 1586.78 343.051 L1586.78 357.704 L1582.49 357.704 L1582.49 321.685 L1586.78 321.685 L1586.78 335.806 Q1588.3 333.468 1590.36 332.31 Q1592.45 331.153 1595.16 331.153 Q1599.62 331.153 1601.92 333.931 Q1604.21 336.685 1604.21 342.056 Z\" fill=\"#000000\" fill-rule=\"evenodd\" fill-opacity=\"1\" /><path clip-path=\"url(#clip350)\" d=\"M1627.73 335.759 Q1627.01 335.343 1626.15 335.158 Q1625.32 334.949 1624.3 334.949 Q1620.69 334.949 1618.74 337.31 Q1616.82 339.648 1616.82 344.046 L1616.82 357.704 L1612.54 357.704 L1612.54 331.778 L1616.82 331.778 L1616.82 335.806 Q1618.17 333.445 1620.32 332.31 Q1622.47 331.153 1625.55 331.153 Q1625.99 331.153 1626.52 331.222 Q1627.05 331.269 1627.7 331.384 L1627.73 335.759 Z\" fill=\"#000000\" fill-rule=\"evenodd\" fill-opacity=\"1\" /><path clip-path=\"url(#clip350)\" d=\"M1653.33 343.676 L1653.33 345.759 L1633.74 345.759 Q1634.02 350.157 1636.38 352.472 Q1638.77 354.764 1643 354.764 Q1645.46 354.764 1647.75 354.162 Q1650.06 353.56 1652.33 352.357 L1652.33 356.384 Q1650.04 357.356 1647.63 357.866 Q1645.23 358.375 1642.75 358.375 Q1636.54 358.375 1632.91 354.764 Q1629.3 351.153 1629.3 344.995 Q1629.3 338.63 1632.73 334.903 Q1636.17 331.153 1642.01 331.153 Q1647.24 331.153 1650.27 334.533 Q1653.33 337.889 1653.33 343.676 M1649.07 342.426 Q1649.02 338.931 1647.1 336.847 Q1645.2 334.764 1642.05 334.764 Q1638.49 334.764 1636.34 336.778 Q1634.21 338.792 1633.88 342.449 L1649.07 342.426 Z\" fill=\"#000000\" fill-rule=\"evenodd\" fill-opacity=\"1\" /><path clip-path=\"url(#clip350)\" d=\"M1676.85 332.542 L1676.85 336.57 Q1675.04 335.644 1673.1 335.181 Q1671.15 334.718 1669.07 334.718 Q1665.9 334.718 1664.3 335.69 Q1662.72 336.662 1662.72 338.607 Q1662.72 340.088 1663.86 340.945 Q1664.99 341.778 1668.42 342.542 L1669.88 342.866 Q1674.41 343.838 1676.31 345.62 Q1678.23 347.38 1678.23 350.551 Q1678.23 354.162 1675.36 356.269 Q1672.52 358.375 1667.52 358.375 Q1665.43 358.375 1663.16 357.958 Q1660.92 357.565 1658.42 356.755 L1658.42 352.357 Q1660.78 353.583 1663.07 354.208 Q1665.36 354.81 1667.61 354.81 Q1670.62 354.81 1672.24 353.792 Q1673.86 352.75 1673.86 350.875 Q1673.86 349.139 1672.68 348.213 Q1671.52 347.287 1667.56 346.431 L1666.08 346.083 Q1662.12 345.25 1660.36 343.537 Q1658.6 341.801 1658.6 338.792 Q1658.6 335.134 1661.2 333.144 Q1663.79 331.153 1668.56 331.153 Q1670.92 331.153 1673 331.5 Q1675.09 331.847 1676.85 332.542 Z\" fill=\"#000000\" fill-rule=\"evenodd\" fill-opacity=\"1\" /><path clip-path=\"url(#clip350)\" d=\"M1706.57 342.056 L1706.57 357.704 L1702.31 357.704 L1702.31 342.195 Q1702.31 338.514 1700.87 336.685 Q1699.44 334.857 1696.57 334.857 Q1693.12 334.857 1691.13 337.056 Q1689.14 339.255 1689.14 343.051 L1689.14 357.704 L1684.85 357.704 L1684.85 321.685 L1689.14 321.685 L1689.14 335.806 Q1690.66 333.468 1692.72 332.31 Q1694.81 331.153 1697.52 331.153 Q1701.98 331.153 1704.28 333.931 Q1706.57 336.685 1706.57 342.056 Z\" fill=\"#000000\" fill-rule=\"evenodd\" fill-opacity=\"1\" /><path clip-path=\"url(#clip350)\" d=\"M1725.11 334.764 Q1721.68 334.764 1719.69 337.449 Q1717.7 340.111 1717.7 344.764 Q1717.7 349.417 1719.67 352.102 Q1721.66 354.764 1725.11 354.764 Q1728.51 354.764 1730.5 352.079 Q1732.49 349.394 1732.49 344.764 Q1732.49 340.158 1730.5 337.472 Q1728.51 334.764 1725.11 334.764 M1725.11 331.153 Q1730.66 331.153 1733.84 334.764 Q1737.01 338.375 1737.01 344.764 Q1737.01 351.13 1733.84 354.764 Q1730.66 358.375 1725.11 358.375 Q1719.53 358.375 1716.36 354.764 Q1713.21 351.13 1713.21 344.764 Q1713.21 338.375 1716.36 334.764 Q1719.53 331.153 1725.11 331.153 Z\" fill=\"#000000\" fill-rule=\"evenodd\" fill-opacity=\"1\" /><path clip-path=\"url(#clip350)\" d=\"M1744.07 321.685 L1748.33 321.685 L1748.33 357.704 L1744.07 357.704 L1744.07 321.685 Z\" fill=\"#000000\" fill-rule=\"evenodd\" fill-opacity=\"1\" /><path clip-path=\"url(#clip350)\" d=\"M1774.3 335.713 L1774.3 321.685 L1778.56 321.685 L1778.56 357.704 L1774.3 357.704 L1774.3 353.815 Q1772.96 356.13 1770.9 357.264 Q1768.86 358.375 1765.99 358.375 Q1761.29 358.375 1758.33 354.625 Q1755.39 350.875 1755.39 344.764 Q1755.39 338.653 1758.33 334.903 Q1761.29 331.153 1765.99 331.153 Q1768.86 331.153 1770.9 332.287 Q1772.96 333.398 1774.3 335.713 M1759.78 344.764 Q1759.78 349.463 1761.71 352.148 Q1763.65 354.81 1767.03 354.81 Q1770.41 354.81 1772.35 352.148 Q1774.3 349.463 1774.3 344.764 Q1774.3 340.065 1772.35 337.403 Q1770.41 334.718 1767.03 334.718 Q1763.65 334.718 1761.71 337.403 Q1759.78 340.065 1759.78 344.764 Z\" fill=\"#000000\" fill-rule=\"evenodd\" fill-opacity=\"1\" /></svg>\n"
      ]
     },
     "execution_count": 93,
     "metadata": {},
     "output_type": "execute_result"
    }
   ],
   "source": [
    "scale = 250\n",
    "p = StatsPlots.scatter(xs, ys, labels = labels, size=(2scale,scale), title=\"kmer frequencies\", xlabel = \"log2(observed frequency)\", ylabel = \"log2(# of kmers)\")\n",
    "\n",
    "StatsPlots.vline!(p, log2.([threshold]), label=\"error threshold\")"
   ]
  },
  {
   "cell_type": "markdown",
   "id": "159c58d1-32a0-4bfa-a34d-c7dc2915e7e3",
   "metadata": {},
   "source": [
    "# raw graph"
   ]
  },
  {
   "cell_type": "code",
   "execution_count": null,
   "id": "2ce0c858-2125-4a3e-ad58-ce02bf140633",
   "metadata": {},
   "outputs": [],
   "source": [
    "# # make me faster by counting edges ahead of time\n",
    "# @time observation_graph = Mycelia.fastx_to_simple_kmer_graph(BioSequences.DNAMer{k}, observations_file)"
   ]
  },
  {
   "cell_type": "code",
   "execution_count": null,
   "id": "ef24e7d8-ab84-4614-ac52-94dd9ba515e4",
   "metadata": {},
   "outputs": [],
   "source": [
    "# kmer_counts = Dict(observation_graph.vprops[v][:kmer] => observation_graph.vprops[v][:weight] for v in LightGraphs.vertices(observation_graph))\n",
    "# total_observed_kmers = sum(values(kmer_counts))\n",
    "# kmer_probabilities = Dict(k => v/total_observed_kmers for (k,v) in kmer_counts)\n",
    "# scale = 250\n",
    "# Mycelia.plot_kmer_frequency_spectra(values(kmer_counts), size=(2scale,scale), title=\"kmer frequencies\")"
   ]
  },
  {
   "cell_type": "code",
   "execution_count": null,
   "id": "e292a280-d11c-4a44-b42a-72683620573f",
   "metadata": {},
   "outputs": [],
   "source": [
    "# reference_kmers = keys(Mycelia.count_canonical_kmers(BioSequences.DNAMer{k}, reference_fasta_file))\n",
    "# distance_to_reference_graph = 1 - LSHFunctions.jaccard(Set(reference_kmers), Set(keys(kmer_counts)))"
   ]
  },
  {
   "cell_type": "code",
   "execution_count": null,
   "id": "b254f41c-e88e-4810-85a7-9f381695a8cb",
   "metadata": {},
   "outputs": [],
   "source": [
    "# kmer_counts_histogram = sort(collect(StatsBase.countmap(collect(values(kmer_counts)))), by=x->x[1])"
   ]
  },
  {
   "cell_type": "code",
   "execution_count": null,
   "id": "034ca3b3-5acb-4f79-bc32-aafa224c818b",
   "metadata": {},
   "outputs": [],
   "source": [
    "# # visualize\n",
    "# gfa_file = observations_file * \".k-$k.gfa\"\n",
    "# Mycelia.graph_to_gfa(observation_graph, gfa_file)\n",
    "\n",
    "# run(`$(BANDAGE) image $(gfa_file) $(gfa_file).svg --depwidth .9 --deppower .9`)\n",
    "# # --nodewidth <float> Average node width (0.5 to 1000, default: 5)\n",
    "# # --depwidth <float>  Depth effect on width (0 to 1, default: 0.5)\n",
    "# # --deppower <float>  Power of depth effect on width (0 to 1, default: 0.5)\n",
    "\n",
    "# html_path_to_svg = \"./\" * repeat(\"../\", length(split(pwd(), '/')) - 3)\n",
    "# html_path_to_svg *= replace(\"$(gfa_file).svg\", \"$(homedir())/\" => \"\")\n",
    "\n",
    "# x = \"<img src=$(html_path_to_svg)>\"\n",
    "# display(\"text/html\", x)\n",
    "# # display(\"image/svg+xml\", read(\"$(gfa_file).svg\", String))"
   ]
  },
  {
   "cell_type": "code",
   "execution_count": null,
   "id": "98d1d888-3454-4c73-99a2-cc9fc2396128",
   "metadata": {},
   "outputs": [],
   "source": [
    "# threshold filtered graph"
   ]
  },
  {
   "cell_type": "code",
   "execution_count": null,
   "id": "72c66702-1c18-4541-a642-64f1c69ad4cb",
   "metadata": {},
   "outputs": [],
   "source": [
    "# make me faster by counting edges ahead of time\n",
    "@time observation_graph = Mycelia.fastx_to_simple_kmer_graph(BioSequences.DNAMer{k}, observations_file, minimum_coverage=threshold)"
   ]
  },
  {
   "cell_type": "code",
   "execution_count": null,
   "id": "f9b79057-1175-4165-82dd-0fde3c385af0",
   "metadata": {},
   "outputs": [],
   "source": [
    "kmer_counts = Dict(observation_graph.vprops[v][:kmer] => observation_graph.vprops[v][:weight] for v in LightGraphs.vertices(observation_graph))\n",
    "total_observed_kmers = sum(values(kmer_counts))\n",
    "kmer_probabilities = Dict(k => v/total_observed_kmers for (k,v) in kmer_counts)\n",
    "scale = 250\n",
    "Mycelia.plot_kmer_frequency_spectra(values(kmer_counts), size=(2scale,scale), title=\"kmer frequencies\")"
   ]
  },
  {
   "cell_type": "code",
   "execution_count": null,
   "id": "fd15af69-a35c-45cf-8399-70bc287d11d7",
   "metadata": {},
   "outputs": [],
   "source": [
    "reference_kmers = keys(Mycelia.count_canonical_kmers(BioSequences.DNAMer{k}, reference_fasta_file))\n",
    "distance_to_reference_graph = 1 - LSHFunctions.jaccard(Set(reference_kmers), Set(keys(kmer_counts)))"
   ]
  },
  {
   "cell_type": "code",
   "execution_count": null,
   "id": "8aa68dd2-82f2-48e9-984a-092df381a39d",
   "metadata": {},
   "outputs": [],
   "source": [
    "kmer_counts_histogram = sort(collect(StatsBase.countmap(collect(values(kmer_counts)))), by=x->x[1])"
   ]
  },
  {
   "cell_type": "code",
   "execution_count": null,
   "id": "ed22ec40-e72e-445f-a0fe-b38b3de73aae",
   "metadata": {},
   "outputs": [],
   "source": [
    "# visualize\n",
    "gfa_file = observations_file * \".k-$k.gfa\"\n",
    "Mycelia.graph_to_gfa(observation_graph, gfa_file)\n",
    "\n",
    "run(`$(BANDAGE) image $(gfa_file) $(gfa_file).svg --depwidth .9 --deppower .9`)\n",
    "# --nodewidth <float> Average node width (0.5 to 1000, default: 5)\n",
    "# --depwidth <float>  Depth effect on width (0 to 1, default: 0.5)\n",
    "# --deppower <float>  Power of depth effect on width (0 to 1, default: 0.5)\n",
    "\n",
    "html_path_to_svg = \"./\" * repeat(\"../\", length(split(pwd(), '/')) - 3)\n",
    "html_path_to_svg *= replace(\"$(gfa_file).svg\", \"$(homedir())/\" => \"\")\n",
    "\n",
    "x = \"<img src=$(html_path_to_svg)>\"\n",
    "display(\"text/html\", x)\n",
    "# display(\"image/svg+xml\", read(\"$(gfa_file).svg\", String))"
   ]
  },
  {
   "cell_type": "code",
   "execution_count": null,
   "id": "52c0a021-36ab-40ba-8f69-93d93fab63eb",
   "metadata": {},
   "outputs": [],
   "source": [
    "# this didn't work because it uses longer minimizers than the kmers were set to?\n",
    "# run(`GraphAligner -g $(gfa_file) -f $(observations_file) -a $(observations_file).gaf -x dbg`)"
   ]
  },
  {
   "cell_type": "code",
   "execution_count": null,
   "id": "327591e7-ba73-4715-8ff3-00716e676916",
   "metadata": {},
   "outputs": [],
   "source": [
    "# try again using simplified graph"
   ]
  },
  {
   "cell_type": "code",
   "execution_count": null,
   "id": "e9bf1658-7d43-42ce-8021-0a183fc84db2",
   "metadata": {},
   "outputs": [],
   "source": [
    "simplified_graph = Mycelia.simplify_kmer_graph(observation_graph)"
   ]
  },
  {
   "cell_type": "code",
   "execution_count": null,
   "id": "11d81a82-dcb1-4902-a76b-a53f5c07ed7d",
   "metadata": {},
   "outputs": [],
   "source": [
    "# write simplified graph to gfa\n",
    "# visualize\n",
    "gfa_file = observations_file * \".k-$k.simplified.gfa\"\n",
    "Mycelia.graph_to_gfa(simplified_graph, gfa_file)\n",
    "\n",
    "run(`$(BANDAGE) image $(gfa_file) $(gfa_file).svg --depwidth .9 --deppower .9`)\n",
    "# --nodewidth <float> Average node width (0.5 to 1000, default: 5)\n",
    "# --depwidth <float>  Depth effect on width (0 to 1, default: 0.5)\n",
    "# --deppower <float>  Power of depth effect on width (0 to 1, default: 0.5)\n",
    "\n",
    "html_path_to_svg = \"./\" * repeat(\"../\", length(split(pwd(), '/')) - 3)\n",
    "html_path_to_svg *= replace(\"$(gfa_file).svg\", \"$(homedir())/\" => \"\")\n",
    "\n",
    "x = \"<img src=$(html_path_to_svg)>\"\n",
    "display(\"text/html\", x)\n",
    "# display(\"image/svg+xml\", read(\"$(gfa_file).svg\", String))"
   ]
  },
  {
   "cell_type": "code",
   "execution_count": null,
   "id": "5d789480-ba6b-4b54-85f8-cccd3a3c20bc",
   "metadata": {},
   "outputs": [],
   "source": [
    "run(`GraphAligner -g $(gfa_file) -f $(observations_file) -a $(observations_file).gaf -x vg`)"
   ]
  },
  {
   "cell_type": "code",
   "execution_count": null,
   "id": "21325621-a2fb-4ee7-8846-a0706c53e684",
   "metadata": {},
   "outputs": [],
   "source": [
    "alignments_file = \"$(observations_file).gaf\""
   ]
  },
  {
   "cell_type": "code",
   "execution_count": null,
   "id": "6700dd19-4244-4ad8-995d-8ec5b4e7d93c",
   "metadata": {},
   "outputs": [],
   "source": [
    "# conda install -c conda-forge -c bioconda bcalm"
   ]
  },
  {
   "cell_type": "code",
   "execution_count": null,
   "id": "41c5db73-c4cf-464c-9a64-b95158e17aea",
   "metadata": {},
   "outputs": [],
   "source": [
    "line = readline(alignments_file)"
   ]
  },
  {
   "cell_type": "code",
   "execution_count": null,
   "id": "1d7d322f-7bf6-417c-a182-4c9f928fa022",
   "metadata": {},
   "outputs": [],
   "source": [
    "split(line, '\\t')"
   ]
  },
  {
   "cell_type": "code",
   "execution_count": null,
   "id": "780bd816-a37d-4f82-84f8-62a54bb50df9",
   "metadata": {},
   "outputs": [],
   "source": []
  },
  {
   "cell_type": "code",
   "execution_count": null,
   "id": "4853ba41-c2fe-4997-87bb-3ef786d27724",
   "metadata": {},
   "outputs": [],
   "source": [
    "\n",
    "# first(uCSV.read(alignments_file, delim='\\t'))"
   ]
  },
  {
   "cell_type": "code",
   "execution_count": null,
   "id": "60aa787d-98a8-4ed8-a1af-f960e8611145",
   "metadata": {},
   "outputs": [],
   "source": [
    "# https://github.com/lh3/gfatools/blob/master/doc/rGFA.md#the-graph-alignment-format-gaf\n",
    "# Query sequence name\n",
    "# Query sequence length\n",
    "# Query start (0-based; closed)\n",
    "# Query end (0-based; open)\n",
    "# Strand relative to the path: \"+\" or \"-\"\n",
    "# Path matching /([><][^\\s><]+(:\\d+-\\d+)?)+|([^\\s><]+)/\n",
    "# Path length\n",
    "# Start position on the path (0-based)\n",
    "# End position on the path (0-based)\n",
    "# Number of residue matches\n",
    "# Alignment block length\n",
    "# Mapping quality (0-255; 255 for missing)\n",
    "#  \"NM:i:0\"\n",
    "#  \"AS:f:100\"\n",
    "#  \"dv:f:0\"\n",
    "#  \"id:f:1\"\n",
    "#  \"cg:Z:100=\"\n",
    "\n",
    "header = [\n",
    "    \"Query sequence name\",\n",
    "    \"Query sequence length\",\n",
    "    \"Query start (0-based; closed)\",\n",
    "    \"Query end (0-based; open)\",\n",
    "    \"Strand\",\n",
    "    \"Path\",\n",
    "    \"Path length\",\n",
    "    \"Start position on the path (0-based)\",\n",
    "    \"End position on the path (0-based)\",\n",
    "    \"Number of residue matches\",\n",
    "    \"Alignment block length\",\n",
    "    \"Mapping quality (0-255; 255 for missing)\",\n",
    "    \"NM\",\n",
    "    \"AS\",\n",
    "    \"dv\",\n",
    "    \"id\",\n",
    "    \"cg\"\n",
    "    ]\n",
    "mapping_results = DataFrames.DataFrame(first(uCSV.read(alignments_file, delim='\\t')), header)"
   ]
  },
  {
   "cell_type": "code",
   "execution_count": null,
   "id": "63db2d55-1118-4a65-b95d-05d42c1b44b6",
   "metadata": {},
   "outputs": [],
   "source": [
    "# take only the first entry for each read\n",
    "mapping_results = DataFrames.DataFrame([g[1, :] for g in DataFrames.groupby(mapping_results, \"Query sequence name\")])"
   ]
  },
  {
   "cell_type": "code",
   "execution_count": null,
   "id": "bf16b77d-a30c-4455-a4df-465b5d890b06",
   "metadata": {},
   "outputs": [],
   "source": [
    "corrected_observations_file = replace(observations_file, \".fastq\" => \".k$(k).fasta\")"
   ]
  },
  {
   "cell_type": "code",
   "execution_count": null,
   "id": "6dc9668d-fe18-4844-b313-0b63561690f0",
   "metadata": {},
   "outputs": [],
   "source": [
    "open(corrected_observations_file, \"w\") do io\n",
    "    fastx_io = FASTX.FASTA.Writer(io)\n",
    "    for mapping_result in DataFrames.eachrow(mapping_results[10:20, :])\n",
    "#         @show mapping_result[\"Path\"]\n",
    "        steps = split(replace(mapping_result[\"Path\"], r\"(>|<)\" => s\" \\1\"))\n",
    "#         @show steps\n",
    "        oriented_steps = [(vertex = parse(Int, replace(step, r\">|<\" => \"\")), orientation = first(step) == '>' ? true : false) for step in steps]\n",
    "#         @show oriented_steps\n",
    "        path_sequences = BioSequences.LongDNASeq[]\n",
    "        for step in oriented_steps\n",
    "            seq = simplified_graph.vprops[step.vertex][:sequence]\n",
    "            if !step.orientation\n",
    "                seq = BioSequences.reverse_complement(seq)\n",
    "            end\n",
    "            push!(path_sequences, seq)\n",
    "        end\n",
    "#         @show path_sequences\n",
    "        path_sequence = reduce(*, path_sequences)\n",
    "#         @show path_sequence\n",
    "        if mapping_result[\"Strand\"] == \"-\"\n",
    "            path_sequence = BioSequences.reverse_complement(path_sequence)\n",
    "#             @show \"flipping orientation\"\n",
    "        end\n",
    "\n",
    "        start = mapping_result[\"Start position on the path (0-based)\"] + 1\n",
    "        stop = mapping_result[\"End position on the path (0-based)\"]\n",
    "#         @show \"extracting $(start):$(stop)\"\n",
    "        path_replacement = path_sequence[start:stop]\n",
    "#         @show path_replacement\n",
    "        \n",
    "        sequence_hash = string(hash(path_replacement))\n",
    "        barcode_id = string(hash(Dates.now(), hash(Random.randstring(32))))\n",
    "        record_identifier = \"$(sequence_hash)-$(barcode_id)\"\n",
    "\n",
    "        record = FASTX.FASTA.Record(\n",
    "            record_identifier,\n",
    "            mapping_result[\"Query sequence name\"],\n",
    "            path_replacement\n",
    "        )\n",
    "#         @show record\n",
    "        write(fastx_io, record)\n",
    "    end\n",
    "    close(fastx_io)\n",
    "end"
   ]
  },
  {
   "cell_type": "code",
   "execution_count": null,
   "id": "9f72e026-ce76-4e1c-a4da-231f4225a358",
   "metadata": {},
   "outputs": [],
   "source": [
    "corrected_observation_graph = Mycelia.fastx_to_kmer_graph(BioSequences.DNAMer{k}, corrected_observations_file)"
   ]
  },
  {
   "cell_type": "code",
   "execution_count": null,
   "id": "7dcb49eb-7261-4120-b488-52b3a3739416",
   "metadata": {},
   "outputs": [],
   "source": [
    "# visualize\n",
    "gfa_file = corrected_observations_file * \".k-$k.gfa\"\n",
    "Mycelia.graph_to_gfa(corrected_observation_graph, gfa_file)\n",
    "\n",
    "run(`$(BANDAGE) image $(gfa_file) $(gfa_file).svg --depwidth .9 --deppower .9`)\n",
    "# --nodewidth <float> Average node width (0.5 to 1000, default: 5)\n",
    "# --depwidth <float>  Depth effect on width (0 to 1, default: 0.5)\n",
    "# --deppower <float>  Power of depth effect on width (0 to 1, default: 0.5)\n",
    "\n",
    "html_path_to_svg = \"./\" * repeat(\"../\", length(split(pwd(), '/')) - 3)\n",
    "html_path_to_svg *= replace(\"$(gfa_file).svg\", \"$(homedir())/\" => \"\")\n",
    "\n",
    "x = \"<img src=$(html_path_to_svg)>\"\n",
    "display(\"text/html\", x)\n",
    "# display(\"image/svg+xml\", read(\"$(gfa_file).svg\", String))"
   ]
  },
  {
   "cell_type": "code",
   "execution_count": null,
   "id": "1babc5ba-11c2-4557-8a93-b97abe8364a6",
   "metadata": {},
   "outputs": [],
   "source": [
    "kmer_counts = Dict(corrected_observation_graph.vprops[v][:kmer] => corrected_observation_graph.vprops[v][:weight] for v in LightGraphs.vertices(corrected_observation_graph))\n",
    "total_observed_kmers = sum(values(kmer_counts))\n",
    "kmer_probabilities = Dict(k => v/total_observed_kmers for (k,v) in kmer_counts)\n",
    "scale = 250\n",
    "Mycelia.plot_kmer_frequency_spectra(values(kmer_counts), size=(2scale,scale), title=\"kmer frequencies\")"
   ]
  },
  {
   "cell_type": "code",
   "execution_count": null,
   "id": "2b4354c8-d03e-49d6-b3ed-7f2375f43602",
   "metadata": {},
   "outputs": [],
   "source": [
    "# compare the new graph to the error-free graph to the error-corrected graph"
   ]
  },
  {
   "cell_type": "code",
   "execution_count": null,
   "id": "5543d4f5-6bb9-4368-8149-9db0267d5aa5",
   "metadata": {},
   "outputs": [],
   "source": [
    "reference_kmers = keys(Mycelia.count_canonical_kmers(BioSequences.DNAMer{k}, reference_fasta_file))\n",
    "distance_to_reference_graph = 1 - LSHFunctions.jaccard(Set(reference_kmers), Set(keys(kmer_counts)))"
   ]
  },
  {
   "cell_type": "markdown",
   "id": "fe05cd87-89c9-4e9c-9923-599dbf9d202f",
   "metadata": {},
   "source": [
    "# repeat with iterative k"
   ]
  },
  {
   "cell_type": "code",
   "execution_count": null,
   "id": "0194ec60-7727-4638-871a-6792b4bb1245",
   "metadata": {},
   "outputs": [],
   "source": [
    "k = k_options[k_index]"
   ]
  },
  {
   "cell_type": "code",
   "execution_count": null,
   "id": "2cf4db49-166b-4cc8-b7aa-464567e0f0c3",
   "metadata": {},
   "outputs": [],
   "source": [
    "k = k_options[findfirst(new_k -> new_k > k, k_options)]"
   ]
  },
  {
   "cell_type": "code",
   "execution_count": null,
   "id": "5ef3e4d6-6218-43e1-84e5-fb8ecc000d38",
   "metadata": {},
   "outputs": [],
   "source": [
    "observations_file = corrected_observations_file"
   ]
  },
  {
   "cell_type": "code",
   "execution_count": null,
   "id": "8219fdde-0d97-4899-a09b-f26be81577ca",
   "metadata": {},
   "outputs": [],
   "source": [
    "kmer_counts = Mycelia.count_canonical_kmers(BioSequences.DNAMer{k}, observations_file)"
   ]
  },
  {
   "cell_type": "code",
   "execution_count": null,
   "id": "45fd475c-cd63-45ce-b081-3da405a38486",
   "metadata": {},
   "outputs": [],
   "source": [
    "kmer_counts_histogram = sort(collect(StatsBase.countmap(values(kmer_counts))), by=x->x[1])"
   ]
  },
  {
   "cell_type": "code",
   "execution_count": null,
   "id": "c84855cd-e762-4634-a9e8-5b8cc19cafd0",
   "metadata": {},
   "outputs": [],
   "source": [
    "scale = 250\n",
    "Mycelia.plot_kmer_frequency_spectra(values(kmer_counts), size=(2scale,scale), log_scale=log2, title=\"kmer frequencies\")"
   ]
  },
  {
   "cell_type": "code",
   "execution_count": null,
   "id": "e92b4364-6da3-42d8-b7c6-20ebf1d83ee0",
   "metadata": {},
   "outputs": [],
   "source": [
    "StatsPlots.scatter(log2.(first.(kmer_counts_histogram)))"
   ]
  },
  {
   "cell_type": "markdown",
   "id": "9d08bb69-602b-424b-ba50-1a8d66a359aa",
   "metadata": {},
   "source": [
    "# Fit error cluster"
   ]
  },
  {
   "cell_type": "code",
   "execution_count": null,
   "id": "9638055f-50ca-4963-b165-96a9ab2d2f7f",
   "metadata": {},
   "outputs": [],
   "source": [
    "kmer_depth_of_coverage_bins = log2.(first.(kmer_counts_histogram))"
   ]
  },
  {
   "cell_type": "code",
   "execution_count": null,
   "id": "8aa3c636-6e8c-463c-ae58-73563dc65bad",
   "metadata": {},
   "outputs": [],
   "source": [
    "distance_matrix = zeros((length(kmer_depth_of_coverage_bins), length(kmer_depth_of_coverage_bins)))\n",
    "for (row, depth_of_coverage_bin_1) in enumerate(kmer_depth_of_coverage_bins)\n",
    "    for (col, depth_of_coverage_bin_2) in enumerate(kmer_depth_of_coverage_bins)\n",
    "        distance = abs(depth_of_coverage_bin_1 - depth_of_coverage_bin_2)\n",
    "        distance_matrix[row, col] = distance\n",
    "    end\n",
    "end\n",
    "distance_matrix"
   ]
  },
  {
   "cell_type": "code",
   "execution_count": null,
   "id": "82400f0b-e37c-464c-ba76-a538c1c6b714",
   "metadata": {},
   "outputs": [],
   "source": [
    "# distance_matrix = zeros((length(kmer_counts_histogram), length(kmer_counts_histogram)))\n",
    "# for (row, kmer_count_pair_1) in enumerate(kmer_counts_histogram)\n",
    "#     for (col, kmer_count_pair_2) in enumerate(kmer_counts_histogram)\n",
    "# #         distance = abs(depth_of_coverage_bin_1 - depth_of_coverage_bin_2)\n",
    "#         distance = Distances.euclidean([kmer_count_pair_1...], [kmer_count_pair_2...])\n",
    "#         distance_matrix[row, col] = distance\n",
    "#     end\n",
    "# end\n",
    "# distance_matrix"
   ]
  },
  {
   "cell_type": "code",
   "execution_count": null,
   "id": "9e085278-485a-4657-8189-2d917f73df5c",
   "metadata": {},
   "outputs": [],
   "source": [
    "max_kmedoids_k = min(length(kmer_depth_of_coverage_bins), 7)\n",
    "ks = Primes.primes(2, max_kmedoids_k)\n",
    "ys = map(k ->\n",
    "            Statistics.mean(Statistics.mean(Clustering.silhouettes(Clustering.kmedoids(distance_matrix, k), distance_matrix)) for i in 1:100),\n",
    "            ks)"
   ]
  },
  {
   "cell_type": "code",
   "execution_count": null,
   "id": "2ccc8c66-ab5b-40de-9bde-2f8ef8b00e24",
   "metadata": {},
   "outputs": [],
   "source": [
    "StatsPlots.plot(ks, ys, label=\"silhouette score\", ylabel = \"silhouette score\", xlabel = \"number of clusters\")"
   ]
  },
  {
   "cell_type": "code",
   "execution_count": null,
   "id": "27fe3f13-4bad-4c75-b3cc-b5daf2855c1f",
   "metadata": {},
   "outputs": [],
   "source": [
    "ymax, ymax_index = findmax(ys)"
   ]
  },
  {
   "cell_type": "code",
   "execution_count": null,
   "id": "6c888b0b-0368-4774-b427-6e31dfb51a21",
   "metadata": {},
   "outputs": [],
   "source": [
    "optimal_k = ks[ymax_index]"
   ]
  },
  {
   "cell_type": "code",
   "execution_count": null,
   "id": "4ae9c3dd-8115-48c0-ba2e-cdc452cee72c",
   "metadata": {},
   "outputs": [],
   "source": [
    "clusterings = [Clustering.kmedoids(distance_matrix, optimal_k) for i in 1:10]\n",
    "\n",
    "max_value, max_value_index = findmax(clustering -> Statistics.mean(Clustering.silhouettes(clustering, distance_matrix)), clusterings)"
   ]
  },
  {
   "cell_type": "code",
   "execution_count": null,
   "id": "f0431bb3-f750-441c-bc9d-e8ead6903e9c",
   "metadata": {},
   "outputs": [],
   "source": [
    "optimal_clustering = clusterings[max_value_index]"
   ]
  },
  {
   "cell_type": "code",
   "execution_count": null,
   "id": "185e3c75-57d4-48b4-8189-4ddc4b8f4c7d",
   "metadata": {},
   "outputs": [],
   "source": [
    "optimal_clustering.assignments"
   ]
  },
  {
   "cell_type": "code",
   "execution_count": null,
   "id": "1e1961ed-3169-4133-9c8b-2e22fa35b5b1",
   "metadata": {},
   "outputs": [],
   "source": [
    "min_medoid_value, min_medoid_index = findmin(optimal_clustering.medoids)"
   ]
  },
  {
   "cell_type": "code",
   "execution_count": null,
   "id": "8553663e-45d0-4216-9a03-2219bd09590a",
   "metadata": {},
   "outputs": [],
   "source": [
    "indices_to_include = map(assignment -> assignment .!= min_medoid_index, optimal_clustering.assignments)"
   ]
  },
  {
   "cell_type": "code",
   "execution_count": null,
   "id": "d0673bed-a376-4f39-a458-e194c162037b",
   "metadata": {},
   "outputs": [],
   "source": [
    "kmer_depth_of_coverage_bins"
   ]
  },
  {
   "cell_type": "code",
   "execution_count": null,
   "id": "f036b7f0-f3f3-4e69-9276-46ec1b979b50",
   "metadata": {},
   "outputs": [],
   "source": [
    "threshold = Int(ceil(2^maximum(kmer_depth_of_coverage_bins[.!indices_to_include]))) + 1"
   ]
  },
  {
   "cell_type": "code",
   "execution_count": null,
   "id": "5869983e-ea94-4a81-a963-c1742c5ed27c",
   "metadata": {},
   "outputs": [],
   "source": [
    "scale = 250\n",
    "p = Mycelia.plot_kmer_frequency_spectra(values(kmer_counts), log_scale = log2, size=(2scale,scale), title=\"kmer frequencies\")\n",
    "StatsPlots.vline!(p, log2.([threshold]))"
   ]
  },
  {
   "cell_type": "markdown",
   "id": "bd8ddf5a-eef7-4168-aa7e-e9f56ba24163",
   "metadata": {},
   "source": [
    "# raw graph"
   ]
  },
  {
   "cell_type": "code",
   "execution_count": null,
   "id": "04e9f069-9e55-4972-b1d1-a3011e93551c",
   "metadata": {},
   "outputs": [],
   "source": [
    "# # make me faster by counting edges ahead of time\n",
    "# @time observation_graph = Mycelia.fastx_to_simple_kmer_graph(BioSequences.DNAMer{k}, observations_file)"
   ]
  },
  {
   "cell_type": "code",
   "execution_count": null,
   "id": "9316c9fc-4ff5-464a-a079-fbd85b38b77d",
   "metadata": {},
   "outputs": [],
   "source": [
    "# kmer_counts = Dict(observation_graph.vprops[v][:kmer] => observation_graph.vprops[v][:weight] for v in LightGraphs.vertices(observation_graph))\n",
    "# total_observed_kmers = sum(values(kmer_counts))\n",
    "# kmer_probabilities = Dict(k => v/total_observed_kmers for (k,v) in kmer_counts)\n",
    "# scale = 250\n",
    "# Mycelia.plot_kmer_frequency_spectra(values(kmer_counts), size=(2scale,scale), title=\"kmer frequencies\")"
   ]
  },
  {
   "cell_type": "code",
   "execution_count": null,
   "id": "c771fee2-0b15-453d-bd3a-2a93ac6a8875",
   "metadata": {},
   "outputs": [],
   "source": [
    "# reference_kmers = keys(Mycelia.count_canonical_kmers(BioSequences.DNAMer{k}, reference_fasta_file))\n",
    "# distance_to_reference_graph = 1 - LSHFunctions.jaccard(Set(reference_kmers), Set(keys(kmer_counts)))"
   ]
  },
  {
   "cell_type": "code",
   "execution_count": null,
   "id": "4039acfe-2d50-4e8d-b991-4c1fce527330",
   "metadata": {},
   "outputs": [],
   "source": [
    "# kmer_counts_histogram = sort(collect(StatsBase.countmap(collect(values(kmer_counts)))), by=x->x[1])"
   ]
  },
  {
   "cell_type": "code",
   "execution_count": null,
   "id": "f631ce7e-38b5-4494-821e-e2acc0176922",
   "metadata": {},
   "outputs": [],
   "source": [
    "# # visualize\n",
    "# gfa_file = observations_file * \".k-$k.gfa\"\n",
    "# Mycelia.graph_to_gfa(observation_graph, gfa_file)\n",
    "\n",
    "# run(`$(BANDAGE) image $(gfa_file) $(gfa_file).svg --depwidth .9 --deppower .9`)\n",
    "# # --nodewidth <float> Average node width (0.5 to 1000, default: 5)\n",
    "# # --depwidth <float>  Depth effect on width (0 to 1, default: 0.5)\n",
    "# # --deppower <float>  Power of depth effect on width (0 to 1, default: 0.5)\n",
    "\n",
    "# html_path_to_svg = \"./\" * repeat(\"../\", length(split(pwd(), '/')) - 3)\n",
    "# html_path_to_svg *= replace(\"$(gfa_file).svg\", \"$(homedir())/\" => \"\")\n",
    "\n",
    "# x = \"<img src=$(html_path_to_svg)>\"\n",
    "# display(\"text/html\", x)\n",
    "# # display(\"image/svg+xml\", read(\"$(gfa_file).svg\", String))"
   ]
  },
  {
   "cell_type": "code",
   "execution_count": null,
   "id": "816ff93e-9f47-47b0-9130-3ccd65715894",
   "metadata": {},
   "outputs": [],
   "source": [
    "# threshold filtered graph"
   ]
  },
  {
   "cell_type": "code",
   "execution_count": null,
   "id": "d92b640a-ab4c-4d3f-aa92-9aea431770dd",
   "metadata": {},
   "outputs": [],
   "source": [
    "# make me faster by counting edges ahead of time\n",
    "@time observation_graph = Mycelia.fastx_to_simple_kmer_graph(BioSequences.DNAMer{k}, observations_file, minimum_coverage=1)"
   ]
  },
  {
   "cell_type": "code",
   "execution_count": null,
   "id": "86650d84-b90d-4f4b-bdb3-852ce23ac511",
   "metadata": {},
   "outputs": [],
   "source": [
    "kmer_counts = Dict(observation_graph.vprops[v][:kmer] => observation_graph.vprops[v][:weight] for v in LightGraphs.vertices(observation_graph))\n",
    "total_observed_kmers = sum(values(kmer_counts))\n",
    "kmer_probabilities = Dict(k => v/total_observed_kmers for (k,v) in kmer_counts)\n",
    "scale = 250\n",
    "Mycelia.plot_kmer_frequency_spectra(values(kmer_counts), size=(2scale,scale), title=\"kmer frequencies\")"
   ]
  },
  {
   "cell_type": "code",
   "execution_count": null,
   "id": "8e721199-415d-44bf-b4db-62b5720403e8",
   "metadata": {},
   "outputs": [],
   "source": [
    "reference_kmers = keys(Mycelia.count_canonical_kmers(BioSequences.DNAMer{k}, reference_fasta_file))\n",
    "distance_to_reference_graph = 1 - LSHFunctions.jaccard(Set(reference_kmers), Set(keys(kmer_counts)))"
   ]
  },
  {
   "cell_type": "code",
   "execution_count": null,
   "id": "e809a9ac-caa3-4698-98c8-f6a11440fd83",
   "metadata": {},
   "outputs": [],
   "source": [
    "kmer_counts_histogram = sort(collect(StatsBase.countmap(collect(values(kmer_counts)))), by=x->x[1])"
   ]
  },
  {
   "cell_type": "code",
   "execution_count": null,
   "id": "87815436-9bbe-407d-bb3b-ab25d0d2093b",
   "metadata": {},
   "outputs": [],
   "source": [
    "# visualize\n",
    "gfa_file = observations_file * \".k-$k.gfa\"\n",
    "Mycelia.graph_to_gfa(observation_graph, gfa_file)\n",
    "\n",
    "run(`$(BANDAGE) image $(gfa_file) $(gfa_file).svg --depwidth .9 --deppower .9`)\n",
    "# --nodewidth <float> Average node width (0.5 to 1000, default: 5)\n",
    "# --depwidth <float>  Depth effect on width (0 to 1, default: 0.5)\n",
    "# --deppower <float>  Power of depth effect on width (0 to 1, default: 0.5)\n",
    "\n",
    "html_path_to_svg = \"./\" * repeat(\"../\", length(split(pwd(), '/')) - 3)\n",
    "html_path_to_svg *= replace(\"$(gfa_file).svg\", \"$(homedir())/\" => \"\")\n",
    "\n",
    "x = \"<img src=$(html_path_to_svg)>\"\n",
    "display(\"text/html\", x)\n",
    "# display(\"image/svg+xml\", read(\"$(gfa_file).svg\", String))"
   ]
  },
  {
   "cell_type": "code",
   "execution_count": null,
   "id": "447065bb-bd3d-4785-89f0-52c4296ec8e6",
   "metadata": {},
   "outputs": [],
   "source": [
    "# this didn't work because it uses longer minimizers than the kmers were set to?\n",
    "# run(`GraphAligner -g $(gfa_file) -f $(observations_file) -a $(observations_file).gaf -x dbg`)"
   ]
  },
  {
   "cell_type": "code",
   "execution_count": null,
   "id": "6a81f427-a863-4dcc-9b40-098ef74574ad",
   "metadata": {},
   "outputs": [],
   "source": [
    "# try again using simplified graph"
   ]
  },
  {
   "cell_type": "code",
   "execution_count": null,
   "id": "1e700cbd-be19-416f-91ef-8a8d2a406580",
   "metadata": {},
   "outputs": [],
   "source": [
    "simplified_graph = Mycelia.simplify_kmer_graph(observation_graph)"
   ]
  },
  {
   "cell_type": "code",
   "execution_count": null,
   "id": "c9ce3cd5-d4aa-4f6a-bd8a-b419ac0709b1",
   "metadata": {},
   "outputs": [],
   "source": [
    "# write simplified graph to gfa\n",
    "# visualize\n",
    "gfa_file = observations_file * \".k-$k.simplified.gfa\"\n",
    "Mycelia.graph_to_gfa(simplified_graph, gfa_file)\n",
    "\n",
    "run(`$(BANDAGE) image $(gfa_file) $(gfa_file).svg --depwidth .9 --deppower .9`)\n",
    "# --nodewidth <float> Average node width (0.5 to 1000, default: 5)\n",
    "# --depwidth <float>  Depth effect on width (0 to 1, default: 0.5)\n",
    "# --deppower <float>  Power of depth effect on width (0 to 1, default: 0.5)\n",
    "\n",
    "html_path_to_svg = \"./\" * repeat(\"../\", length(split(pwd(), '/')) - 3)\n",
    "html_path_to_svg *= replace(\"$(gfa_file).svg\", \"$(homedir())/\" => \"\")\n",
    "\n",
    "x = \"<img src=$(html_path_to_svg)>\"\n",
    "display(\"text/html\", x)\n",
    "# display(\"image/svg+xml\", read(\"$(gfa_file).svg\", String))"
   ]
  },
  {
   "cell_type": "code",
   "execution_count": null,
   "id": "063ca77a-1b9a-4e18-a484-14431e93cd9d",
   "metadata": {},
   "outputs": [],
   "source": [
    "run(`GraphAligner -g $(gfa_file) -f $(observations_file) -a $(observations_file).gaf -x vg`)"
   ]
  },
  {
   "cell_type": "code",
   "execution_count": null,
   "id": "258f5c89-540e-4818-b404-6f004322b310",
   "metadata": {},
   "outputs": [],
   "source": [
    "alignments_file = \"$(observations_file).gaf\""
   ]
  },
  {
   "cell_type": "code",
   "execution_count": null,
   "id": "3025cec2-b72b-4190-960d-fa1f52ab72a6",
   "metadata": {},
   "outputs": [],
   "source": [
    "# conda install -c conda-forge -c bioconda bcalm"
   ]
  },
  {
   "cell_type": "code",
   "execution_count": null,
   "id": "0540cde6-7e57-4104-a2e0-06502fc8682c",
   "metadata": {},
   "outputs": [],
   "source": [
    "line = readline(alignments_file)"
   ]
  },
  {
   "cell_type": "code",
   "execution_count": null,
   "id": "10eb10dc-8b6f-4710-8839-0f13468585c1",
   "metadata": {},
   "outputs": [],
   "source": [
    "split(line, '\\t')"
   ]
  },
  {
   "cell_type": "code",
   "execution_count": null,
   "id": "d80b9f26-4279-4053-97ec-c0d3fe22eeaf",
   "metadata": {},
   "outputs": [],
   "source": []
  },
  {
   "cell_type": "code",
   "execution_count": null,
   "id": "fe5e26f2-7cbf-4c4d-95fc-23228997a778",
   "metadata": {},
   "outputs": [],
   "source": [
    "\n",
    "# first(uCSV.read(alignments_file, delim='\\t'))"
   ]
  },
  {
   "cell_type": "code",
   "execution_count": null,
   "id": "701df37f-5bc3-4ced-b371-269bcb10a24f",
   "metadata": {},
   "outputs": [],
   "source": [
    "# https://github.com/lh3/gfatools/blob/master/doc/rGFA.md#the-graph-alignment-format-gaf\n",
    "# Query sequence name\n",
    "# Query sequence length\n",
    "# Query start (0-based; closed)\n",
    "# Query end (0-based; open)\n",
    "# Strand relative to the path: \"+\" or \"-\"\n",
    "# Path matching /([><][^\\s><]+(:\\d+-\\d+)?)+|([^\\s><]+)/\n",
    "# Path length\n",
    "# Start position on the path (0-based)\n",
    "# End position on the path (0-based)\n",
    "# Number of residue matches\n",
    "# Alignment block length\n",
    "# Mapping quality (0-255; 255 for missing)\n",
    "#  \"NM:i:0\"\n",
    "#  \"AS:f:100\"\n",
    "#  \"dv:f:0\"\n",
    "#  \"id:f:1\"\n",
    "#  \"cg:Z:100=\"\n",
    "\n",
    "header = [\n",
    "    \"Query sequence name\",\n",
    "    \"Query sequence length\",\n",
    "    \"Query start (0-based; closed)\",\n",
    "    \"Query end (0-based; open)\",\n",
    "    \"Strand\",\n",
    "    \"Path\",\n",
    "    \"Path length\",\n",
    "    \"Start position on the path (0-based)\",\n",
    "    \"End position on the path (0-based)\",\n",
    "    \"Number of residue matches\",\n",
    "    \"Alignment block length\",\n",
    "    \"Mapping quality (0-255; 255 for missing)\",\n",
    "    \"NM\",\n",
    "    \"AS\",\n",
    "    \"dv\",\n",
    "    \"id\",\n",
    "    \"cg\"\n",
    "    ]\n",
    "mapping_results = DataFrames.DataFrame(first(uCSV.read(alignments_file, delim='\\t')), header)"
   ]
  },
  {
   "cell_type": "code",
   "execution_count": null,
   "id": "e49fe501-7673-4d0a-a5dd-24da87b4569b",
   "metadata": {},
   "outputs": [],
   "source": [
    "# take only the first entry for each read\n",
    "mapping_results = DataFrames.DataFrame([g[1, :] for g in DataFrames.groupby(mapping_results, \"Query sequence name\")])"
   ]
  },
  {
   "cell_type": "code",
   "execution_count": null,
   "id": "571063f6-7d01-4c21-90ea-7d5418663852",
   "metadata": {},
   "outputs": [],
   "source": [
    "corrected_observations_file = replace(observations_file, \".fastq\" => \".k$(k).fasta\")"
   ]
  },
  {
   "cell_type": "code",
   "execution_count": null,
   "id": "62a3c039-0a72-4040-ad29-8957f565a312",
   "metadata": {},
   "outputs": [],
   "source": [
    "open(corrected_observations_file, \"w\") do io\n",
    "    fastx_io = FASTX.FASTA.Writer(io)\n",
    "    for mapping_result in DataFrames.eachrow(mapping_results[10:20, :])\n",
    "#         @show mapping_result[\"Path\"]\n",
    "        steps = split(replace(mapping_result[\"Path\"], r\"(>|<)\" => s\" \\1\"))\n",
    "#         @show steps\n",
    "        oriented_steps = [(vertex = parse(Int, replace(step, r\">|<\" => \"\")), orientation = first(step) == '>' ? true : false) for step in steps]\n",
    "#         @show oriented_steps\n",
    "        path_sequences = BioSequences.LongDNASeq[]\n",
    "        for step in oriented_steps\n",
    "            seq = simplified_graph.vprops[step.vertex][:sequence]\n",
    "            if !step.orientation\n",
    "                seq = BioSequences.reverse_complement(seq)\n",
    "            end\n",
    "            push!(path_sequences, seq)\n",
    "        end\n",
    "#         @show path_sequences\n",
    "        path_sequence = reduce(*, path_sequences)\n",
    "#         @show path_sequence\n",
    "        if mapping_result[\"Strand\"] == \"-\"\n",
    "            path_sequence = BioSequences.reverse_complement(path_sequence)\n",
    "#             @show \"flipping orientation\"\n",
    "        end\n",
    "\n",
    "        start = mapping_result[\"Start position on the path (0-based)\"] + 1\n",
    "        stop = mapping_result[\"End position on the path (0-based)\"]\n",
    "#         @show \"extracting $(start):$(stop)\"\n",
    "        path_replacement = path_sequence[start:stop]\n",
    "#         @show path_replacement\n",
    "        \n",
    "        sequence_hash = string(hash(path_replacement))\n",
    "        barcode_id = string(hash(Dates.now(), hash(Random.randstring(32))))\n",
    "        record_identifier = \"$(sequence_hash)-$(barcode_id)\"\n",
    "\n",
    "        record = FASTX.FASTA.Record(\n",
    "            record_identifier,\n",
    "            mapping_result[\"Query sequence name\"],\n",
    "            path_replacement\n",
    "        )\n",
    "#         @show record\n",
    "        write(fastx_io, record)\n",
    "    end\n",
    "    close(fastx_io)\n",
    "end"
   ]
  },
  {
   "cell_type": "code",
   "execution_count": null,
   "id": "ad9ee69e-7d60-433e-a1c2-936d89f88d88",
   "metadata": {},
   "outputs": [],
   "source": [
    "corrected_observation_graph = Mycelia.fastx_to_kmer_graph(BioSequences.DNAMer{k}, corrected_observations_file)"
   ]
  },
  {
   "cell_type": "code",
   "execution_count": null,
   "id": "2ffc14d0-ec41-4374-ab95-307437755ce6",
   "metadata": {},
   "outputs": [],
   "source": [
    "# visualize\n",
    "gfa_file = corrected_observations_file * \".k-$k.gfa\"\n",
    "Mycelia.graph_to_gfa(corrected_observation_graph, gfa_file)\n",
    "\n",
    "run(`$(BANDAGE) image $(gfa_file) $(gfa_file).svg --depwidth .9 --deppower .9`)\n",
    "# --nodewidth <float> Average node width (0.5 to 1000, default: 5)\n",
    "# --depwidth <float>  Depth effect on width (0 to 1, default: 0.5)\n",
    "# --deppower <float>  Power of depth effect on width (0 to 1, default: 0.5)\n",
    "\n",
    "html_path_to_svg = \"./\" * repeat(\"../\", length(split(pwd(), '/')) - 3)\n",
    "html_path_to_svg *= replace(\"$(gfa_file).svg\", \"$(homedir())/\" => \"\")\n",
    "\n",
    "x = \"<img src=$(html_path_to_svg)>\"\n",
    "display(\"text/html\", x)\n",
    "# display(\"image/svg+xml\", read(\"$(gfa_file).svg\", String))"
   ]
  },
  {
   "cell_type": "code",
   "execution_count": null,
   "id": "2bb45f8b-a224-433d-bc30-493fa4a4cd9c",
   "metadata": {},
   "outputs": [],
   "source": [
    "kmer_counts = Dict(corrected_observation_graph.vprops[v][:kmer] => corrected_observation_graph.vprops[v][:weight] for v in LightGraphs.vertices(corrected_observation_graph))\n",
    "total_observed_kmers = sum(values(kmer_counts))\n",
    "kmer_probabilities = Dict(k => v/total_observed_kmers for (k,v) in kmer_counts)\n",
    "scale = 250\n",
    "Mycelia.plot_kmer_frequency_spectra(values(kmer_counts), size=(2scale,scale), title=\"kmer frequencies\")"
   ]
  },
  {
   "cell_type": "code",
   "execution_count": null,
   "id": "296a790b-224b-4b05-9646-7d79151ddc9d",
   "metadata": {},
   "outputs": [],
   "source": [
    "# compare the new graph to the error-free graph to the error-corrected graph"
   ]
  },
  {
   "cell_type": "code",
   "execution_count": null,
   "id": "af05d996-fecc-4f59-a9d7-f48561c3491d",
   "metadata": {},
   "outputs": [],
   "source": [
    "reference_kmers = keys(Mycelia.count_canonical_kmers(BioSequences.DNAMer{k}, reference_fasta_file))\n",
    "distance_to_reference_graph = 1 - LSHFunctions.jaccard(Set(reference_kmers), Set(keys(kmer_counts)))"
   ]
  }
 ],
 "metadata": {
  "kernelspec": {
   "display_name": "Julia 1.6.1",
   "language": "julia",
   "name": "julia-1.6"
  },
  "language_info": {
   "file_extension": ".jl",
   "mimetype": "application/julia",
   "name": "julia",
   "version": "1.6.1"
  }
 },
 "nbformat": 4,
 "nbformat_minor": 5
}
