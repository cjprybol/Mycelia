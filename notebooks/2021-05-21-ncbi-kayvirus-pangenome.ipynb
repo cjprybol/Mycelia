{
 "cells": [
  {
   "cell_type": "code",
   "execution_count": 1,
   "metadata": {},
   "outputs": [
    {
     "data": {
      "text/plain": [
       "\"/Users/cameronprybol/2021-05-21\""
      ]
     },
     "execution_count": 1,
     "metadata": {},
     "output_type": "execute_result"
    }
   ],
   "source": [
    "DATE = \"2021-05-21\"\n",
    "# TASK = \"phage-k-pangenome\"\n",
    "DIR = mkpath(\"$(homedir())/$(DATE)\")"
   ]
  },
  {
   "cell_type": "code",
   "execution_count": 2,
   "metadata": {},
   "outputs": [
    {
     "name": "stderr",
     "output_type": "stream",
     "text": [
      "\u001b[32m\u001b[1m   Updating\u001b[22m\u001b[39m registry at `~/.julia/registries/General`\n"
     ]
    },
    {
     "name": "stdout",
     "output_type": "stream",
     "text": [
      "\u001b[?25l\u001b[2K"
     ]
    },
    {
     "name": "stderr",
     "output_type": "stream",
     "text": [
      "\u001b[32m\u001b[1m   Updating\u001b[22m\u001b[39m git-repo `https://github.com/JuliaRegistries/General.git`\n"
     ]
    },
    {
     "name": "stdout",
     "output_type": "stream",
     "text": [
      "\u001b[?25h"
     ]
    },
    {
     "name": "stderr",
     "output_type": "stream",
     "text": [
      "\u001b[32m\u001b[1m  Resolving\u001b[22m\u001b[39m package versions...\n",
      "\u001b[32m\u001b[1mNo Changes\u001b[22m\u001b[39m to `~/.julia/dev/Mycelia/Project.toml`\n",
      "\u001b[32m\u001b[1mNo Changes\u001b[22m\u001b[39m to `~/.julia/dev/Mycelia/Manifest.toml`\n",
      "┌ Info: Precompiling Mycelia [453d265d-8292-4a7b-a57c-dce3f9ae6acd]\n",
      "└ @ Base loading.jl:1278\n"
     ]
    }
   ],
   "source": [
    "pkgs = [\n",
    "\"LightGraphs\",\n",
    "\"MetaGraphs\",\n",
    "\"BioSequences\",\n",
    "\"uCSV\",\n",
    "\"DataFrames\",\n",
    "\"FASTX\",\n",
    "\"HTTP\",\n",
    "\"CodecZlib\",\n",
    "\"DataStructures\",\n",
    "\"Revise\",\n",
    "\"ProgressMeter\",\n",
    "\"BenchmarkTools\"\n",
    "]\n",
    "\n",
    "import Pkg\n",
    "Pkg.add(pkgs)\n",
    "for pkg in pkgs\n",
    "    eval(Meta.parse(\"import $(basename(pkg))\"))\n",
    "end\n",
    "\n",
    "import Mycelia"
   ]
  },
  {
   "cell_type": "code",
   "execution_count": 3,
   "metadata": {},
   "outputs": [
    {
     "name": "stdout",
     "output_type": "stream",
     "text": [
      "3×21 DataFrame\n",
      "│ Row │ Accession │ SRA_Accession │\n",
      "│     │ \u001b[90mString\u001b[39m    │ \u001b[90mString\u001b[39m        │\n",
      "├─────┼───────────┼───────────────┤\n",
      "│ 1   │ NC_047720 │               │\n",
      "│ 2   │ NC_047721 │               │\n",
      "│ 3   │ NC_047722 │               │\n",
      "\n",
      "│ Row │ Submitters                                                                                                                                                                        │\n",
      "│     │ \u001b[90mString\u001b[39m                                                                                                                                                                            │\n",
      "├─────┼───────────────────────────────────────────────────────────────────────────────────────────────────────────────────────────────────────────────────────────────────────────────────┤\n",
      "│ 1   │ Vandersteegen,K., Mattheus,W., Ceyssens,P.J., Bilocq,F., De Vos,D., Pirnay,J.P., Noben,J.P., Merabishvili,M., Lipinska,U., Hermans,K., Lavigne,R.                                 │\n",
      "│ 2   │ Kirby,A.E.                                                                                                                                                                        │\n",
      "│ 3   │ Lobocka,M., Hejnowicz,M.S., Dabrowski,K., Gozdek,A., Kosakowski,J., Witkowska,M., Ulatowska,M.I., Weber-Dabrowska,B., Kwiatek,M., Parasion,S., Gawor,J., Kosowska,H., Glowacka,A. │\n",
      "\n",
      "│ Row │ Release_Date         │ Species                 │ Genus    │\n",
      "│     │ \u001b[90mString\u001b[39m               │ \u001b[90mString\u001b[39m                  │ \u001b[90mString\u001b[39m   │\n",
      "├─────┼──────────────────────┼─────────────────────────┼──────────┤\n",
      "│ 1   │ 2020-05-15T00:00:00Z │ Staphylococcus virus G1 │ Kayvirus │\n",
      "│ 2   │ 2020-05-15T00:00:00Z │ Staphylococcus virus G1 │ Kayvirus │\n",
      "│ 3   │ 2020-05-15T00:00:00Z │ Staphylococcus virus G1 │ Kayvirus │\n",
      "\n",
      "│ Row │ Family         │ Molecule_type │ Length │ Sequence_Type │\n",
      "│     │ \u001b[90mString\u001b[39m         │ \u001b[90mString\u001b[39m        │ \u001b[90mInt64\u001b[39m  │ \u001b[90mString\u001b[39m        │\n",
      "├─────┼────────────────┼───────────────┼────────┼───────────────┤\n",
      "│ 1   │ Herelleviridae │ dsDNA         │ 138339 │ RefSeq        │\n",
      "│ 2   │ Herelleviridae │ dsDNA         │ 137031 │ RefSeq        │\n",
      "│ 3   │ Herelleviridae │ dsDNA         │ 145647 │ RefSeq        │\n",
      "\n",
      "│ Row │ Nuc_Completeness │ Genotype │ Segment │ Publications │ Geo_Location │\n",
      "│     │ \u001b[90mString\u001b[39m           │ \u001b[90mString\u001b[39m   │ \u001b[90mString\u001b[39m  │ \u001b[90mString\u001b[39m       │ \u001b[90mString\u001b[39m       │\n",
      "├─────┼──────────────────┼──────────┼─────────┼──────────────┼──────────────┤\n",
      "│ 1   │ complete         │          │         │ 1            │ Georgia      │\n",
      "│ 2   │ complete         │          │         │ 1            │              │\n",
      "│ 3   │ complete         │          │         │ 1            │              │\n",
      "\n",
      "│ Row │ USA    │ Host                  │ Isolation_Source │ Collection_Date │\n",
      "│     │ \u001b[90mString\u001b[39m │ \u001b[90mString\u001b[39m                │ \u001b[90mString\u001b[39m           │ \u001b[90mString\u001b[39m          │\n",
      "├─────┼────────┼───────────────────────┼──────────────────┼─────────────────┤\n",
      "│ 1   │        │ Staphylococcus aureus │                  │                 │\n",
      "│ 2   │        │ Staphylococcus aureus │                  │                 │\n",
      "│ 3   │        │ Staphylococcus aureus │                  │                 │\n",
      "\n",
      "│ Row │ BioSample │ GenBank_Title                                 │\n",
      "│     │ \u001b[90mString\u001b[39m    │ \u001b[90mString\u001b[39m                                        │\n",
      "├─────┼───────────┼───────────────────────────────────────────────┤\n",
      "│ 1   │           │ Staphylococcus phage ISP complete genome      │\n",
      "│ 2   │           │ Staphylococcus phage SA5, complete genome     │\n",
      "│ 3   │           │ Staphylococcus phage Staph1N, complete genome │"
     ]
    }
   ],
   "source": [
    "ncbi_staph_phage_metadata = DataFrames.DataFrame(uCSV.read(\"$(dirname(pwd()))/metadata/ncbi-staph-phage.csv\", header=1, quotes='\"', typedetectrows=100)...)\n",
    "ncbi_staph_phage_metadata = ncbi_staph_phage_metadata[ncbi_staph_phage_metadata[!, \"Nuc_Completeness\"] .== \"complete\", :]\n",
    "# ncbi_staph_phage_metadata = ncbi_staph_phage_metadata[ncbi_staph_phage_metadata[!, \"Sequence_Type\"] .== \"RefSeq\", :]\n",
    "ncbi_staph_phage_metadata = ncbi_staph_phage_metadata[ncbi_staph_phage_metadata[!, \"Genus\"] .== \"Kayvirus\", :];\n",
    "show(ncbi_staph_phage_metadata[1:3, :], allcols=true)"
   ]
  },
  {
   "cell_type": "code",
   "execution_count": 4,
   "metadata": {},
   "outputs": [
    {
     "data": {
      "text/plain": [
       "(64, 21)"
      ]
     },
     "execution_count": 4,
     "metadata": {},
     "output_type": "execute_result"
    }
   ],
   "source": [
    "size(ncbi_staph_phage_metadata)"
   ]
  },
  {
   "cell_type": "code",
   "execution_count": 5,
   "metadata": {
    "jupyter": {
     "source_hidden": true
    }
   },
   "outputs": [],
   "source": [
    "# # 11, 17 is too small\n",
    "# for k in [13, 17, 23, 31, 41, 53]\n",
    "#     @show k\n",
    "#     outgraph = \"$(DIR)/simplified-kayvirus.k_$(k).all_ncbi.gfa\"\n",
    "#     # if !isfile(outgraph)\n",
    "#     accessions = ncbi_staph_phage_metadata[!, \"Accession\"]\n",
    "#     fastx_iterator = (Mycelia.get_sequence(db=\"nuccore\", accession=accession) for accession in accessions)\n",
    "#     KMER_TYPE = BioSequences.BigDNAMer{k}\n",
    "#     @time kmer_graph = Mycelia.fastx_to_kmer_graph(KMER_TYPE, fastx_iterator)\n",
    "\n",
    "#     @info \"simplifying kmer graph\"\n",
    "#     @info \"resolving untigs...\"\n",
    "#     @time untigs = Mycelia.resolve_untigs(kmer_graph)\n",
    "\n",
    "#     @info \"determining untig orientations...\"\n",
    "#     @time oriented_untigs = Mycelia.determine_oriented_untigs(kmer_graph, untigs)\n",
    "\n",
    "#     simplified_graph = MetaGraphs.MetaDiGraph(length(oriented_untigs))\n",
    "#     MetaGraphs.set_prop!(simplified_graph, :k, kmer_graph.gprops[:k])\n",
    "#     @info \"initializing graph node metadata\"\n",
    "#     ProgressMeter.@showprogress for (vertex, untig) in enumerate(oriented_untigs)\n",
    "#         MetaGraphs.set_prop!(simplified_graph, vertex, :sequence, untig.sequence)\n",
    "#         MetaGraphs.set_prop!(simplified_graph, vertex, :path, untig.path)\n",
    "#         MetaGraphs.set_prop!(simplified_graph, vertex, :orientations, untig.orientations)\n",
    "#         MetaGraphs.set_prop!(simplified_graph, vertex, :evidence, untig.evidence)\n",
    "#     end\n",
    "\n",
    "#     # determine oriented edges of simplified graph\n",
    "#     simplified_untigs = Vector{Pair{Pair{Int64,Bool},Pair{Int64,Bool}}}(undef, length(LightGraphs.vertices(simplified_graph)))\n",
    "#     @info \"creating simplified unitgs to help resolve connections\"\n",
    "#     # use a pre-allocated array here to speed up\n",
    "#     ProgressMeter.@showprogress for vertex in LightGraphs.vertices(simplified_graph)\n",
    "#         in_kmer = simplified_graph.vprops[vertex][:path][1] => simplified_graph.vprops[vertex][:orientations][1]\n",
    "#         out_kmer = simplified_graph.vprops[vertex][:path][end] => simplified_graph.vprops[vertex][:orientations][end]\n",
    "#     #     @show vertex, in_kmer, out_kmer\n",
    "#         simplified_untigs[vertex] = in_kmer => out_kmer\n",
    "#     #     push!(simplified_untigs, )\n",
    "#     end\n",
    "\n",
    "#     # make a dictionary mapping endcap to oriented_untig index\n",
    "\n",
    "#     end_mer_map = Dict()\n",
    "#     ProgressMeter.@showprogress for (i, oriented_untig) in enumerate(oriented_untigs)\n",
    "#         end_mer_map[first(oriented_untig.path)] = i\n",
    "#         end_mer_map[last(oriented_untig.path)] = i\n",
    "#     end\n",
    "\n",
    "#     ProgressMeter.@showprogress for (untig_index, oriented_untig) in enumerate(oriented_untigs)\n",
    "#     #     @show untig_index\n",
    "#         true_in_overlap = oriented_untig.sequence[1:simplified_graph.gprops[:k]-1]\n",
    "\n",
    "#         non_backtracking_neighbors = LightGraphs.neighbors(kmer_graph, oriented_untig.path[1])\n",
    "#         if length(oriented_untig.path) > 1\n",
    "#             non_backtracking_neighbors = setdiff(non_backtracking_neighbors, oriented_untig.path[2])\n",
    "#         end\n",
    "#         for non_backtracking_neighbor in non_backtracking_neighbors\n",
    "#             neighboring_untig_index = end_mer_map[non_backtracking_neighbor]\n",
    "#             neighboring_untig = oriented_untigs[neighboring_untig_index]\n",
    "\n",
    "#             neighbor_true_out_overlap = neighboring_untig.sequence[end-simplified_graph.gprops[:k]+2:end]\n",
    "#             if neighbor_true_out_overlap == true_in_overlap\n",
    "#                 e = LightGraphs.Edge(neighboring_untig_index, untig_index)\n",
    "#     #             o = true => true\n",
    "#                 o = (source_orientation = true, destination_orientation = true)\n",
    "#                 LightGraphs.add_edge!(simplified_graph, e)\n",
    "#                 Mycelia.set_metadata!(simplified_graph, e, :orientations, o)    \n",
    "#             end\n",
    "\n",
    "#             neighbor_false_out_overlap = BioSequences.reverse_complement(neighboring_untig.sequence)[end-simplified_graph.gprops[:k]+2:end]\n",
    "#             if neighbor_false_out_overlap == true_in_overlap        \n",
    "#                 e = LightGraphs.Edge(neighboring_untig_index, untig_index)\n",
    "#     #             o = false => true\n",
    "#                 o = (source_orientation = false, destination_orientation = true)\n",
    "#                 LightGraphs.add_edge!(simplified_graph, e)\n",
    "#                 Mycelia.set_metadata!(simplified_graph, e, :orientations, o)    \n",
    "#             end\n",
    "#         end\n",
    "\n",
    "#         true_out_overlap = oriented_untig.sequence[end-simplified_graph.gprops[:k]+2:end]\n",
    "#         non_backtracking_neighbors = LightGraphs.neighbors(kmer_graph, oriented_untig.path[end])\n",
    "#         if length(oriented_untig.path) > 1\n",
    "#             non_backtracking_neighbors = setdiff(non_backtracking_neighbors, oriented_untig.path[end-1])\n",
    "#         end\n",
    "#         for non_backtracking_neighbor in non_backtracking_neighbors\n",
    "#             neighboring_untig_index = end_mer_map[non_backtracking_neighbor]\n",
    "#             neighboring_untig = oriented_untigs[neighboring_untig_index]\n",
    "\n",
    "#             neighbor_true_in_overlap = neighboring_untig.sequence[1:simplified_graph.gprops[:k]-1]\n",
    "#             if true_out_overlap == neighbor_true_in_overlap\n",
    "#                 e = LightGraphs.Edge(untig_index, neighboring_untig_index)\n",
    "#     #             o = true => true\n",
    "#                 o = (source_orientation = true, destination_orientation = true)\n",
    "#                 LightGraphs.add_edge!(simplified_graph, e)\n",
    "#                 Mycelia.set_metadata!(simplified_graph, e, :orientations, o)    \n",
    "#             end\n",
    "\n",
    "#             neighbor_false_in_overlap = BioSequences.reverse_complement(neighboring_untig.sequence)[1:simplified_graph.gprops[:k]-1]\n",
    "#             if true_out_overlap == neighbor_false_in_overlap\n",
    "#                 e = LightGraphs.Edge(untig_index, neighboring_untig_index)\n",
    "#     #             o = true => false\n",
    "#                 o = (source_orientation = true, destination_orientation = false)\n",
    "#                 LightGraphs.add_edge!(simplified_graph, e)\n",
    "#                 Mycelia.set_metadata!(simplified_graph, e, :orientations, o)    \n",
    "#             end\n",
    "#         end\n",
    "\n",
    "#         false_in_overlap = BioSequences.reverse_complement(oriented_untig.sequence)[1:simplified_graph.gprops[:k]-1]\n",
    "\n",
    "#         non_backtracking_neighbors = LightGraphs.neighbors(kmer_graph, oriented_untig.path[end])\n",
    "#         if length(oriented_untig.path) > 1\n",
    "#             non_backtracking_neighbors = setdiff(non_backtracking_neighbors, oriented_untig.path[end-1])\n",
    "#         end\n",
    "#         for non_backtracking_neighbor in non_backtracking_neighbors\n",
    "#             neighboring_untig_index = end_mer_map[non_backtracking_neighbor]\n",
    "#             neighboring_untig = oriented_untigs[neighboring_untig_index]\n",
    "\n",
    "#             neighbor_true_out_overlap = neighboring_untig.sequence[end-simplified_graph.gprops[:k]+2:end]\n",
    "#             if neighbor_true_out_overlap == false_in_overlap\n",
    "#                 e = LightGraphs.Edge(neighboring_untig_index, untig_index)\n",
    "#     #             o = true => false\n",
    "#                 o = (source_orientation = true, destination_orientation = false)\n",
    "#                 LightGraphs.add_edge!(simplified_graph, e)\n",
    "#                 Mycelia.set_metadata!(simplified_graph, e, :orientations, o)    \n",
    "#             end\n",
    "\n",
    "#             neighbor_false_out_overlap = BioSequences.reverse_complement(neighboring_untig.sequence)[end-simplified_graph.gprops[:k]+2:end]\n",
    "#             if neighbor_false_out_overlap == false_in_overlap        \n",
    "#                 e = LightGraphs.Edge(neighboring_untig_index, untig_index)\n",
    "#     #             o = false => false\n",
    "#                 o = (source_orientation = false, destination_orientation = false)\n",
    "#                 LightGraphs.add_edge!(simplified_graph, e)\n",
    "#                 Mycelia.set_metadata!(simplified_graph, e, :orientations, o)    \n",
    "#             end\n",
    "#         end\n",
    "\n",
    "#         false_out_overlap = BioSequences.reverse_complement(oriented_untig.sequence)[end-simplified_graph.gprops[:k]+2:end]\n",
    "\n",
    "#         non_backtracking_neighbors = LightGraphs.neighbors(kmer_graph, oriented_untig.path[1])\n",
    "#         if length(oriented_untig.path) > 1\n",
    "#             non_backtracking_neighbors = setdiff(non_backtracking_neighbors, oriented_untig.path[2])\n",
    "#         end\n",
    "\n",
    "#         for non_backtracking_neighbor in non_backtracking_neighbors\n",
    "#             neighboring_untig_index = end_mer_map[non_backtracking_neighbor]\n",
    "#             neighboring_untig = oriented_untigs[neighboring_untig_index]\n",
    "\n",
    "#             neighbor_true_in_overlap = neighboring_untig.sequence[1:simplified_graph.gprops[:k]-1]\n",
    "#             if false_out_overlap == neighbor_true_in_overlap\n",
    "#                 e = LightGraphs.Edge(untig_index, neighboring_untig_index)\n",
    "#     #             o = false => true\n",
    "#                 o = (source_orientation = false, destination_orientation = true)\n",
    "#                 LightGraphs.add_edge!(simplified_graph, e)\n",
    "#                 Mycelia.set_metadata!(simplified_graph, e, :orientations, o)    \n",
    "#             end\n",
    "\n",
    "#             neighbor_false_in_overlap = BioSequences.reverse_complement(neighboring_untig.sequence)[1:simplified_graph.gprops[:k]-1]\n",
    "#             if false_out_overlap == neighbor_false_in_overlap\n",
    "#                 e = LightGraphs.Edge(untig_index, neighboring_untig_index)\n",
    "#     #             o = false => false\n",
    "#                 o = (source_orientation = false, destination_orientation = false)\n",
    "#                 LightGraphs.add_edge!(simplified_graph, e)\n",
    "#                 Mycelia.set_metadata!(simplified_graph, e, :orientations, o)    \n",
    "#             end\n",
    "#         end\n",
    "#     end\n",
    "\n",
    "#     # ^ > 1 day down to 34 seconds!\n",
    "#     Mycelia.graph_to_gfa(simplified_graph, outgraph)\n",
    "# end"
   ]
  },
  {
   "cell_type": "code",
   "execution_count": 6,
   "metadata": {},
   "outputs": [
    {
     "name": "stderr",
     "output_type": "stream",
     "text": [
      "┌ Info: assessing kmers\n",
      "└ @ Mycelia /Users/cameronprybol/.julia/dev/Mycelia/src/Mycelia.jl:1850\n",
      "\u001b[32mProgress: 100%|█████████████████████████████████████████| Time: 0:01:05\u001b[39m\n",
      "┌ Info: creating graph\n",
      "└ @ Mycelia /Users/cameronprybol/.julia/dev/Mycelia/src/Mycelia.jl:1864\n",
      "\u001b[32mProgress: 100%|█████████████████████████████████████████| Time: 0:06:12\u001b[39m\n"
     ]
    },
    {
     "name": "stdout",
     "output_type": "stream",
     "text": [
      "446.011388 seconds (399.32 M allocations: 49.386 GiB, 49.98% gc time)\n"
     ]
    },
    {
     "name": "stderr",
     "output_type": "stream",
     "text": [
      "┌ Info: simplifying kmer graph\n",
      "└ @ Mycelia /Users/cameronprybol/.julia/dev/Mycelia/src/Mycelia.jl:2174\n",
      "┌ Info: resolving untigs...\n",
      "└ @ Mycelia /Users/cameronprybol/.julia/dev/Mycelia/src/Mycelia.jl:2175\n"
     ]
    },
    {
     "name": "stdout",
     "output_type": "stream",
     "text": [
      " 20.322725 seconds (41.61 M allocations: 2.693 GiB, 68.38% gc time)\n"
     ]
    },
    {
     "name": "stderr",
     "output_type": "stream",
     "text": [
      "┌ Info: determining untig orientations...\n",
      "└ @ Mycelia /Users/cameronprybol/.julia/dev/Mycelia/src/Mycelia.jl:2178\n"
     ]
    },
    {
     "name": "stdout",
     "output_type": "stream",
     "text": [
      " 10.720126 seconds (11.92 M allocations: 702.083 MiB, 65.65% gc time)\n"
     ]
    },
    {
     "name": "stderr",
     "output_type": "stream",
     "text": [
      "┌ Info: initializing graph node metadata\n",
      "└ @ Mycelia /Users/cameronprybol/.julia/dev/Mycelia/src/Mycelia.jl:2183\n",
      "\u001b[32mProgress: 100%|█████████████████████████████████████████| Time: 0:00:02\u001b[39m\n",
      "┌ Info: creating simplified unitgs to help resolve connections\n",
      "└ @ Mycelia /Users/cameronprybol/.julia/dev/Mycelia/src/Mycelia.jl:2193\n",
      "\u001b[32mProgress: 100%|█████████████████████████████████████████| Time: 0:00:14\u001b[39m\n"
     ]
    },
    {
     "name": "stdout",
     "output_type": "stream",
     "text": [
      " 48.812457 seconds (65.96 M allocations: 4.185 GiB, 71.40% gc time)\n"
     ]
    },
    {
     "name": "stderr",
     "output_type": "stream",
     "text": [
      "┌ Info: assessing kmers\n",
      "└ @ Mycelia /Users/cameronprybol/.julia/dev/Mycelia/src/Mycelia.jl:1850\n",
      "\u001b[32mProgress: 100%|█████████████████████████████████████████| Time: 0:01:17\u001b[39m\n",
      "┌ Info: creating graph\n",
      "└ @ Mycelia /Users/cameronprybol/.julia/dev/Mycelia/src/Mycelia.jl:1864\n",
      "\u001b[32mProgress: 100%|█████████████████████████████████████████| Time: 0:37:25\u001b[39m\n"
     ]
    },
    {
     "name": "stdout",
     "output_type": "stream",
     "text": [
      "2359.542196 seconds (384.15 M allocations: 49.146 GiB, 84.60% gc time)\n"
     ]
    },
    {
     "name": "stderr",
     "output_type": "stream",
     "text": [
      "┌ Info: simplifying kmer graph\n",
      "└ @ Mycelia /Users/cameronprybol/.julia/dev/Mycelia/src/Mycelia.jl:2174\n",
      "┌ Info: resolving untigs...\n",
      "└ @ Mycelia /Users/cameronprybol/.julia/dev/Mycelia/src/Mycelia.jl:2175\n"
     ]
    },
    {
     "name": "stdout",
     "output_type": "stream",
     "text": [
      " 83.782801 seconds (45.64 M allocations: 2.962 GiB, 87.24% gc time)\n"
     ]
    },
    {
     "name": "stderr",
     "output_type": "stream",
     "text": [
      "┌ Info: determining untig orientations...\n",
      "└ @ Mycelia /Users/cameronprybol/.julia/dev/Mycelia/src/Mycelia.jl:2178\n"
     ]
    },
    {
     "name": "stdout",
     "output_type": "stream",
     "text": [
      "  6.205942 seconds (12.35 M allocations: 767.760 MiB, 9.28% gc time)\n"
     ]
    },
    {
     "name": "stderr",
     "output_type": "stream",
     "text": [
      "┌ Info: initializing graph node metadata\n",
      "└ @ Mycelia /Users/cameronprybol/.julia/dev/Mycelia/src/Mycelia.jl:2183\n",
      "\u001b[32mProgress: 100%|█████████████████████████████████████████| Time: 0:00:00\u001b[39m\n",
      "┌ Info: creating simplified unitgs to help resolve connections\n",
      "└ @ Mycelia /Users/cameronprybol/.julia/dev/Mycelia/src/Mycelia.jl:2193\n",
      "\u001b[32mProgress: 100%|█████████████████████████████████████████| Time: 0:00:00\u001b[39m\n",
      "\u001b[32mProgress: 100%|█████████████████████████████████████████| Time: 0:00:19\u001b[39m\n"
     ]
    },
    {
     "name": "stdout",
     "output_type": "stream",
     "text": [
      "110.306306 seconds (64.19 M allocations: 4.185 GiB, 84.23% gc time)\n"
     ]
    }
   ],
   "source": [
    "for k in [11, 13, 17, 23, 31, 41, 53]\n",
    "    @show k\n",
    "    outgraph = \"$(DIR)/simplified-kayvirus.k_$(k).all_ncbi.gfa\"\n",
    "    if !isfile(outgraph)\n",
    "        accessions = ncbi_staph_phage_metadata[!, \"Accession\"]\n",
    "        fastx_iterator = (Mycelia.get_sequence(db=\"nuccore\", accession=accession) for accession in accessions)\n",
    "        KMER_TYPE = BioSequences.BigDNAMer{k}\n",
    "        @time kmer_graph = Mycelia.fastx_to_kmer_graph(KMER_TYPE, fastx_iterator)\n",
    "        @time simplified_graph = Mycelia.simplify_kmer_graph(kmer_graph)\n",
    "#         ^ > 1 day down to 34 seconds!\n",
    "        Mycelia.graph_to_gfa(simplified_graph, outgraph)\n",
    "    end\n",
    "end"
   ]
  },
  {
   "cell_type": "code",
   "execution_count": null,
   "metadata": {},
   "outputs": [],
   "source": [
    "# 13 is too small 96k nodes 134k edges 0.71:1\n",
    "# 17 is too small nodes 48k edges 64k 0.75:1\n",
    "# 23 is useable! 40k nodes 54k edges 0.74:1\n",
    "# 31 is useable! 33k nodes 45k edges 0.73:1\n",
    "# 41 is useable! 27k nodes 37k edges 0.72:1\n",
    "# 53 is usable! 22k nodes 30k edges 0.73:1"
   ]
  },
  {
   "cell_type": "code",
   "execution_count": null,
   "metadata": {},
   "outputs": [],
   "source": [
    "# 18.262774 seconds (43.09 M allocations: 3.537 GiB, 30.36% gc time)\n",
    "# for first three genomes using giant function\n",
    "\n",
    "# 14.711297 seconds (25.01 M allocations: 3.098 GiB, 31.72% gc time)\n",
    "# for first three genomes using external function call to inner code\n",
    "\n",
    "# # 14.479504 seconds (25.01 M allocations: 3.099 GiB, 27.59% gc time)\n",
    "# for first three genomes using inlined external function"
   ]
  },
  {
   "cell_type": "code",
   "execution_count": null,
   "metadata": {},
   "outputs": [],
   "source": [
    "# 8\n",
    "# 17\n",
    "# 26"
   ]
  },
  {
   "cell_type": "code",
   "execution_count": null,
   "metadata": {},
   "outputs": [],
   "source": [
    "# k = 13\n",
    "\n",
    "# ┌ Info: assessing kmers\n",
    "# └ @ Mycelia /Users/cameronprybol/.julia/dev/Mycelia/src/Mycelia.jl:1761\n",
    "# Progress: 100%|█████████████████████████████████████████| Time: 0:02:02\n",
    "# ┌ Info: creating graph\n",
    "# └ @ Mycelia /Users/cameronprybol/.julia/dev/Mycelia/src/Mycelia.jl:1775\n",
    "# Progress: 100%|█████████████████████████████████████████| Time: 1:36:28\n",
    "\n",
    "# 6009.693184 seconds (791.81 M allocations: 57.006 GiB, 93.91% gc time)\n",
    "#  69.522944 seconds (24.97 M allocations: 1.609 GiB, 91.99% gc time)\n",
    "#   2.609659 seconds (6.36 M allocations: 334.051 MiB, 15.21% gc time)"
   ]
  },
  {
   "cell_type": "code",
   "execution_count": null,
   "metadata": {},
   "outputs": [],
   "source": [
    "# k = 17\n",
    "\n",
    "# ┌ Info: assessing kmers\n",
    "# └ @ Mycelia /Users/cameronprybol/.julia/dev/Mycelia/src/Mycelia.jl:1761\n",
    "# Progress: 100%|█████████████████████████████████████████| Time: 0:02:08\n",
    "# ┌ Info: creating graph\n",
    "# └ @ Mycelia /Users/cameronprybol/.julia/dev/Mycelia/src/Mycelia.jl:1775\n",
    "# Progress: 100%|█████████████████████████████████████████| Time: 2:35:09\n",
    "\n",
    "# 9662.350843 seconds (798.58 M allocations: 58.014 GiB, 96.20% gc time)\n",
    "# 100.723128 seconds (28.30 M allocations: 1.830 GiB, 93.68% gc time)\n",
    "#   3.381248 seconds (7.51 M allocations: 404.454 MiB, 18.11% gc time)"
   ]
  },
  {
   "cell_type": "code",
   "execution_count": null,
   "metadata": {},
   "outputs": [],
   "source": [
    "# k = 23\n",
    "\n",
    "# ┌ Info: assessing kmers\n",
    "# └ @ Mycelia /Users/cameronprybol/.julia/dev/Mycelia/src/Mycelia.jl:1761\n",
    "# Progress: 100%|█████████████████████████████████████████| Time: 0:01:02\n",
    "# ┌ Info: creating graph\n",
    "# └ @ Mycelia /Users/cameronprybol/.julia/dev/Mycelia/src/Mycelia.jl:1775\n",
    "# Progress: 100%|█████████████████████████████████████████| Time: 3:07:10\n",
    "\n",
    "# 11609.072807 seconds (805.61 M allocations: 58.927 GiB, 95.85% gc time)\n",
    "#  71.810824 seconds (32.20 M allocations: 2.085 GiB, 89.64% gc time)\n",
    "#   4.272813 seconds (8.61 M allocations: 470.110 MiB, 18.78% gc time)"
   ]
  },
  {
   "cell_type": "code",
   "execution_count": null,
   "metadata": {},
   "outputs": [],
   "source": [
    "# k = 31\n",
    "\n",
    "# ┌ Info: assessing kmers\n",
    "# └ @ Mycelia /Users/cameronprybol/.julia/dev/Mycelia/src/Mycelia.jl:1761\n",
    "# Progress: 100%|█████████████████████████████████████████| Time: 0:02:24\n",
    "# ┌ Info: creating graph\n",
    "# └ @ Mycelia /Users/cameronprybol/.julia/dev/Mycelia/src/Mycelia.jl:1775\n",
    "# Progress: 100%|█████████████████████████████████████████| Time: 13:28:45\n",
    "\n",
    "# 34069.539714 seconds (813.42 M allocations: 60.062 GiB, 97.42% gc time)"
   ]
  }
 ],
 "metadata": {
  "kernelspec": {
   "display_name": "Julia 1.5.3",
   "language": "julia",
   "name": "julia-1.5"
  },
  "language_info": {
   "file_extension": ".jl",
   "mimetype": "application/julia",
   "name": "julia",
   "version": "1.5.3"
  }
 },
 "nbformat": 4,
 "nbformat_minor": 4
}
