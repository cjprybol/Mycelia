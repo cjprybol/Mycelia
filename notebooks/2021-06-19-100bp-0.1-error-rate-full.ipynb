{
 "cells": [
  {
   "cell_type": "code",
   "execution_count": 1,
   "metadata": {},
   "outputs": [
    {
     "data": {
      "text/plain": [
       "\"/Users/cameronprybol/2021-06-15-100bp-0.1-error-rate\""
      ]
     },
     "execution_count": 1,
     "metadata": {},
     "output_type": "execute_result"
    }
   ],
   "source": [
    "DATE = \"2021-06-15\"\n",
    "TASK = \"100bp-0.1-error-rate\"\n",
    "DIR = \"$(DATE)-$(TASK)\"\n",
    "DIR = mkpath(\"$(homedir())/$(DIR)\")"
   ]
  },
  {
   "cell_type": "code",
   "execution_count": 819,
   "metadata": {},
   "outputs": [],
   "source": [
    "pkgs = [\n",
    "\"LightGraphs\",\n",
    "\"MetaGraphs\",\n",
    "\"BioSequences\",\n",
    "\"uCSV\",\n",
    "\"DataFrames\",\n",
    "\"FASTX\",\n",
    "\"HTTP\",\n",
    "\"CodecZlib\",\n",
    "\"DataStructures\",\n",
    "\"Revise\",\n",
    "\"ProgressMeter\",\n",
    "\"BenchmarkTools\",\n",
    "\"Random\",\n",
    "\"StatsBase\",\n",
    "\"SparseArrays\",\n",
    "\"Statistics\",\n",
    "\"BioAlignments\",\n",
    "\"NumericIO\"\n",
    "]\n",
    "\n",
    "import Pkg\n",
    "Pkg.add(pkgs)\n",
    "for pkg in pkgs\n",
    "    eval(Meta.parse(\"import $(basename(pkg))\"))\n",
    "end\n",
    "\n",
    "import Mycelia"
   ]
  },
  {
   "cell_type": "code",
   "execution_count": null,
   "metadata": {},
   "outputs": [],
   "source": [
    "# # 11, 17 is too small\n",
    "# for k in [13, 17, 23, 31, 41, 53]\n",
    "#     @show k\n",
    "#     outgraph = \"$(DIR)/simplified-kayvirus.k_$(k).all_ncbi.gfa\"\n",
    "#     # if !isfile(outgraph)\n",
    "#     accessions = ncbi_staph_phage_metadata[!, \"Accession\"]\n",
    "#     fastx_iterator = (Mycelia.get_sequence(db=\"nuccore\", accession=accession) for accession in accessions)\n",
    "#     KMER_TYPE = BioSequences.BigDNAMer{k}\n",
    "#     @time kmer_graph = Mycelia.fastx_to_kmer_graph(KMER_TYPE, fastx_iterator)\n",
    "\n",
    "#     @info \"simplifying kmer graph\"\n",
    "#     @info \"resolving untigs...\"\n",
    "#     @time untigs = Mycelia.resolve_untigs(kmer_graph)\n",
    "\n",
    "#     @info \"determining untig orientations...\"\n",
    "#     @time oriented_untigs = Mycelia.determine_oriented_untigs(kmer_graph, untigs)\n",
    "\n",
    "#     simplified_graph = MetaGraphs.MetaDiGraph(length(oriented_untigs))\n",
    "#     MetaGraphs.set_prop!(simplified_graph, :k, kmer_graph.gprops[:k])\n",
    "#     @info \"initializing graph node metadata\"\n",
    "#     ProgressMeter.@showprogress for (vertex, untig) in enumerate(oriented_untigs)\n",
    "#         MetaGraphs.set_prop!(simplified_graph, vertex, :sequence, untig.sequence)\n",
    "#         MetaGraphs.set_prop!(simplified_graph, vertex, :path, untig.path)\n",
    "#         MetaGraphs.set_prop!(simplified_graph, vertex, :orientations, untig.orientations)\n",
    "#         MetaGraphs.set_prop!(simplified_graph, vertex, :evidence, untig.evidence)\n",
    "#     end\n",
    "\n",
    "#     # determine oriented edges of simplified graph\n",
    "#     simplified_untigs = Vector{Pair{Pair{Int64,Bool},Pair{Int64,Bool}}}(undef, length(LightGraphs.vertices(simplified_graph)))\n",
    "#     @info \"creating simplified unitgs to help resolve connections\"\n",
    "#     # use a pre-allocated array here to speed up\n",
    "#     ProgressMeter.@showprogress for vertex in LightGraphs.vertices(simplified_graph)\n",
    "#         in_kmer = simplified_graph.vprops[vertex][:path][1] => simplified_graph.vprops[vertex][:orientations][1]\n",
    "#         out_kmer = simplified_graph.vprops[vertex][:path][end] => simplified_graph.vprops[vertex][:orientations][end]\n",
    "#     #     @show vertex, in_kmer, out_kmer\n",
    "#         simplified_untigs[vertex] = in_kmer => out_kmer\n",
    "#     #     push!(simplified_untigs, )\n",
    "#     end\n",
    "\n",
    "#     # make a dictionary mapping endcap to oriented_untig index\n",
    "\n",
    "#     end_mer_map = Dict()\n",
    "#     ProgressMeter.@showprogress for (i, oriented_untig) in enumerate(oriented_untigs)\n",
    "#         end_mer_map[first(oriented_untig.path)] = i\n",
    "#         end_mer_map[last(oriented_untig.path)] = i\n",
    "#     end\n",
    "\n",
    "#     ProgressMeter.@showprogress for (untig_index, oriented_untig) in enumerate(oriented_untigs)\n",
    "#     #     @show untig_index\n",
    "#         true_in_overlap = oriented_untig.sequence[1:simplified_graph.gprops[:k]-1]\n",
    "\n",
    "#         non_backtracking_neighbors = LightGraphs.neighbors(kmer_graph, oriented_untig.path[1])\n",
    "#         if length(oriented_untig.path) > 1\n",
    "#             non_backtracking_neighbors = setdiff(non_backtracking_neighbors, oriented_untig.path[2])\n",
    "#         end\n",
    "#         for non_backtracking_neighbor in non_backtracking_neighbors\n",
    "#             neighboring_untig_index = end_mer_map[non_backtracking_neighbor]\n",
    "#             neighboring_untig = oriented_untigs[neighboring_untig_index]\n",
    "\n",
    "#             neighbor_true_out_overlap = neighboring_untig.sequence[end-simplified_graph.gprops[:k]+2:end]\n",
    "#             if neighbor_true_out_overlap == true_in_overlap\n",
    "#                 e = LightGraphs.Edge(neighboring_untig_index, untig_index)\n",
    "#     #             o = true => true\n",
    "#                 o = (source_orientation = true, destination_orientation = true)\n",
    "#                 LightGraphs.add_edge!(simplified_graph, e)\n",
    "#                 Mycelia.set_metadata!(simplified_graph, e, :orientations, o)    \n",
    "#             end\n",
    "\n",
    "#             neighbor_false_out_overlap = BioSequences.reverse_complement(neighboring_untig.sequence)[end-simplified_graph.gprops[:k]+2:end]\n",
    "#             if neighbor_false_out_overlap == true_in_overlap        \n",
    "#                 e = LightGraphs.Edge(neighboring_untig_index, untig_index)\n",
    "#     #             o = false => true\n",
    "#                 o = (source_orientation = false, destination_orientation = true)\n",
    "#                 LightGraphs.add_edge!(simplified_graph, e)\n",
    "#                 Mycelia.set_metadata!(simplified_graph, e, :orientations, o)    \n",
    "#             end\n",
    "#         end\n",
    "\n",
    "#         true_out_overlap = oriented_untig.sequence[end-simplified_graph.gprops[:k]+2:end]\n",
    "#         non_backtracking_neighbors = LightGraphs.neighbors(kmer_graph, oriented_untig.path[end])\n",
    "#         if length(oriented_untig.path) > 1\n",
    "#             non_backtracking_neighbors = setdiff(non_backtracking_neighbors, oriented_untig.path[end-1])\n",
    "#         end\n",
    "#         for non_backtracking_neighbor in non_backtracking_neighbors\n",
    "#             neighboring_untig_index = end_mer_map[non_backtracking_neighbor]\n",
    "#             neighboring_untig = oriented_untigs[neighboring_untig_index]\n",
    "\n",
    "#             neighbor_true_in_overlap = neighboring_untig.sequence[1:simplified_graph.gprops[:k]-1]\n",
    "#             if true_out_overlap == neighbor_true_in_overlap\n",
    "#                 e = LightGraphs.Edge(untig_index, neighboring_untig_index)\n",
    "#     #             o = true => true\n",
    "#                 o = (source_orientation = true, destination_orientation = true)\n",
    "#                 LightGraphs.add_edge!(simplified_graph, e)\n",
    "#                 Mycelia.set_metadata!(simplified_graph, e, :orientations, o)    \n",
    "#             end\n",
    "\n",
    "#             neighbor_false_in_overlap = BioSequences.reverse_complement(neighboring_untig.sequence)[1:simplified_graph.gprops[:k]-1]\n",
    "#             if true_out_overlap == neighbor_false_in_overlap\n",
    "#                 e = LightGraphs.Edge(untig_index, neighboring_untig_index)\n",
    "#     #             o = true => false\n",
    "#                 o = (source_orientation = true, destination_orientation = false)\n",
    "#                 LightGraphs.add_edge!(simplified_graph, e)\n",
    "#                 Mycelia.set_metadata!(simplified_graph, e, :orientations, o)    \n",
    "#             end\n",
    "#         end\n",
    "\n",
    "#         false_in_overlap = BioSequences.reverse_complement(oriented_untig.sequence)[1:simplified_graph.gprops[:k]-1]\n",
    "\n",
    "#         non_backtracking_neighbors = LightGraphs.neighbors(kmer_graph, oriented_untig.path[end])\n",
    "#         if length(oriented_untig.path) > 1\n",
    "#             non_backtracking_neighbors = setdiff(non_backtracking_neighbors, oriented_untig.path[end-1])\n",
    "#         end\n",
    "#         for non_backtracking_neighbor in non_backtracking_neighbors\n",
    "#             neighboring_untig_index = end_mer_map[non_backtracking_neighbor]\n",
    "#             neighboring_untig = oriented_untigs[neighboring_untig_index]\n",
    "\n",
    "#             neighbor_true_out_overlap = neighboring_untig.sequence[end-simplified_graph.gprops[:k]+2:end]\n",
    "#             if neighbor_true_out_overlap == false_in_overlap\n",
    "#                 e = LightGraphs.Edge(neighboring_untig_index, untig_index)\n",
    "#     #             o = true => false\n",
    "#                 o = (source_orientation = true, destination_orientation = false)\n",
    "#                 LightGraphs.add_edge!(simplified_graph, e)\n",
    "#                 Mycelia.set_metadata!(simplified_graph, e, :orientations, o)    \n",
    "#             end\n",
    "\n",
    "#             neighbor_false_out_overlap = BioSequences.reverse_complement(neighboring_untig.sequence)[end-simplified_graph.gprops[:k]+2:end]\n",
    "#             if neighbor_false_out_overlap == false_in_overlap        \n",
    "#                 e = LightGraphs.Edge(neighboring_untig_index, untig_index)\n",
    "#     #             o = false => false\n",
    "#                 o = (source_orientation = false, destination_orientation = false)\n",
    "#                 LightGraphs.add_edge!(simplified_graph, e)\n",
    "#                 Mycelia.set_metadata!(simplified_graph, e, :orientations, o)    \n",
    "#             end\n",
    "#         end\n",
    "\n",
    "#         false_out_overlap = BioSequences.reverse_complement(oriented_untig.sequence)[end-simplified_graph.gprops[:k]+2:end]\n",
    "\n",
    "#         non_backtracking_neighbors = LightGraphs.neighbors(kmer_graph, oriented_untig.path[1])\n",
    "#         if length(oriented_untig.path) > 1\n",
    "#             non_backtracking_neighbors = setdiff(non_backtracking_neighbors, oriented_untig.path[2])\n",
    "#         end\n",
    "\n",
    "#         for non_backtracking_neighbor in non_backtracking_neighbors\n",
    "#             neighboring_untig_index = end_mer_map[non_backtracking_neighbor]\n",
    "#             neighboring_untig = oriented_untigs[neighboring_untig_index]\n",
    "\n",
    "#             neighbor_true_in_overlap = neighboring_untig.sequence[1:simplified_graph.gprops[:k]-1]\n",
    "#             if false_out_overlap == neighbor_true_in_overlap\n",
    "#                 e = LightGraphs.Edge(untig_index, neighboring_untig_index)\n",
    "#     #             o = false => true\n",
    "#                 o = (source_orientation = false, destination_orientation = true)\n",
    "#                 LightGraphs.add_edge!(simplified_graph, e)\n",
    "#                 Mycelia.set_metadata!(simplified_graph, e, :orientations, o)    \n",
    "#             end\n",
    "\n",
    "#             neighbor_false_in_overlap = BioSequences.reverse_complement(neighboring_untig.sequence)[1:simplified_graph.gprops[:k]-1]\n",
    "#             if false_out_overlap == neighbor_false_in_overlap\n",
    "#                 e = LightGraphs.Edge(untig_index, neighboring_untig_index)\n",
    "#     #             o = false => false\n",
    "#                 o = (source_orientation = false, destination_orientation = false)\n",
    "#                 LightGraphs.add_edge!(simplified_graph, e)\n",
    "#                 Mycelia.set_metadata!(simplified_graph, e, :orientations, o)    \n",
    "#             end\n",
    "#         end\n",
    "#     end\n",
    "\n",
    "#     # ^ > 1 day down to 34 seconds!\n",
    "#     Mycelia.graph_to_gfa(simplified_graph, outgraph)\n",
    "# end"
   ]
  },
  {
   "cell_type": "code",
   "execution_count": 3,
   "metadata": {},
   "outputs": [
    {
     "data": {
      "text/plain": [
       "MersenneTwister(0)"
      ]
     },
     "execution_count": 3,
     "metadata": {},
     "output_type": "execute_result"
    }
   ],
   "source": [
    "# set a random seed\n",
    "seed = Random.seed!(0)"
   ]
  },
  {
   "cell_type": "code",
   "execution_count": 4,
   "metadata": {},
   "outputs": [
    {
     "data": {
      "text/plain": [
       "100nt DNA Sequence:\n",
       "AAGGGTGCGGTCTAGGTGCACTGCTTATGGTCCCCGACA…TCTACCTCTTTGTTGAAACGTATTCTTCTCTTAACACCT"
      ]
     },
     "execution_count": 4,
     "metadata": {},
     "output_type": "execute_result"
    }
   ],
   "source": [
    "# randomly generate a dna sequence of 100bp\n",
    "genome = BioSequences.randdnaseq(seed, 100)"
   ]
  },
  {
   "cell_type": "code",
   "execution_count": 5,
   "metadata": {},
   "outputs": [
    {
     "data": {
      "text/plain": [
       "0.1"
      ]
     },
     "execution_count": 5,
     "metadata": {},
     "output_type": "execute_result"
    }
   ],
   "source": [
    "# define error rate\n",
    "error_rate = 0.1"
   ]
  },
  {
   "cell_type": "code",
   "execution_count": 6,
   "metadata": {},
   "outputs": [],
   "source": [
    "# generate 100x coverage fastq file\n",
    "# put accuracy rate into fastq file\n",
    "coverage = 100\n",
    "fastq_file = \"$(DIR)/$(DATE)-$(TASK).fastq\"\n",
    "open(fastq_file, \"w\") do io\n",
    "    fastq_writer = FASTX.FASTQ.Writer(io)\n",
    "    for i in 1:coverage\n",
    "        observed_sequence = Mycelia.observe(genome, error_rate=error_rate)\n",
    "        q = -10 * log10(error_rate)\n",
    "        quality_scores = fill(q, length(observed_sequence))\n",
    "        fastq_record = FASTX.FASTQ.Record(\"i\", observed_sequence, quality_scores)\n",
    "        write(fastq_writer, fastq_record)\n",
    "    end\n",
    "end"
   ]
  },
  {
   "cell_type": "code",
   "execution_count": 7,
   "metadata": {},
   "outputs": [],
   "source": [
    "# build weighted kmer graph\n",
    "# at some point where we may want to record weights as integers rather than lists of evidence, but first confirm the algorithm"
   ]
  },
  {
   "cell_type": "code",
   "execution_count": 8,
   "metadata": {},
   "outputs": [
    {
     "data": {
      "text/plain": [
       "11"
      ]
     },
     "execution_count": 8,
     "metadata": {},
     "output_type": "execute_result"
    }
   ],
   "source": [
    "# k = Int(1/error_rate + 1)"
   ]
  },
  {
   "cell_type": "code",
   "execution_count": 550,
   "metadata": {},
   "outputs": [
    {
     "data": {
      "text/plain": [
       "5"
      ]
     },
     "execution_count": 550,
     "metadata": {},
     "output_type": "execute_result"
    }
   ],
   "source": [
    "k = 5"
   ]
  },
  {
   "cell_type": "code",
   "execution_count": 551,
   "metadata": {},
   "outputs": [
    {
     "data": {
      "text/plain": [
       "BioSequences.BigDNAMer{5} (alias for BioSequences.BigMer{BioSequences.DNAAlphabet{2}, 5})"
      ]
     },
     "execution_count": 551,
     "metadata": {},
     "output_type": "execute_result"
    }
   ],
   "source": [
    "kmer_type = BioSequences.BigDNAMer{k}"
   ]
  },
  {
   "cell_type": "code",
   "execution_count": 552,
   "metadata": {},
   "outputs": [
    {
     "name": "stderr",
     "output_type": "stream",
     "text": [
      "┌ Info: assessing kmers\n",
      "└ @ Mycelia /Users/cameronprybol/.julia/dev/Mycelia/src/Mycelia.jl:1877\n",
      "┌ Info: creating graph\n",
      "└ @ Mycelia /Users/cameronprybol/.julia/dev/Mycelia/src/Mycelia.jl:1891\n"
     ]
    },
    {
     "data": {
      "text/plain": [
       "{501, 2900} directed Int64 metagraph with Float64 weights defined by :weight (default weight 1.0)"
      ]
     },
     "execution_count": 552,
     "metadata": {},
     "output_type": "execute_result"
    }
   ],
   "source": [
    "kmer_graph = Mycelia.fastx_to_kmer_graph(kmer_type, fastq_file)"
   ]
  },
  {
   "cell_type": "code",
   "execution_count": 553,
   "metadata": {},
   "outputs": [
    {
     "data": {
      "text/plain": [
       "\"/Users/cameronprybol/2021-06-15-100bp-0.1-error-rate/2021-06-15-100bp-0.1-error-rate.fastq.k-5.gfa\""
      ]
     },
     "execution_count": 553,
     "metadata": {},
     "output_type": "execute_result"
    }
   ],
   "source": [
    "# visualize\n",
    "gfa_file = fastq_file * \".k-$k.gfa\"\n",
    "Mycelia.graph_to_gfa(kmer_graph, gfa_file)"
   ]
  },
  {
   "cell_type": "code",
   "execution_count": 554,
   "metadata": {},
   "outputs": [
    {
     "data": {
      "text/plain": [
       "Process(`\u001b[4m/Applications/Bandage.app/Contents/MacOS/Bandage\u001b[24m \u001b[4mimage\u001b[24m \u001b[4m/Users/cameronprybol/2021-06-15-100bp-0.1-error-rate/2021-06-15-100bp-0.1-error-rate.fastq.k-5.gfa\u001b[24m \u001b[4m/Users/cameronprybol/2021-06-15-100bp-0.1-error-rate/2021-06-15-100bp-0.1-error-rate.fastq.k-5.gfa.svg\u001b[24m \u001b[4m--depwidth\u001b[24m \u001b[4m1\u001b[24m \u001b[4m--deppower\u001b[24m \u001b[4m1\u001b[24m`, ProcessExited(0))"
      ]
     },
     "execution_count": 554,
     "metadata": {},
     "output_type": "execute_result"
    }
   ],
   "source": [
    "run(`/Applications/Bandage.app/Contents/MacOS/Bandage image $(gfa_file) $(gfa_file).svg --depwidth 1 --deppower 1`)\n",
    "# --nodewidth <float> Average node width (0.5 to 1000, default: 5)\n",
    "# --depwidth <float>  Depth effect on width (0 to 1, default: 0.5)\n",
    "# --deppower <float>  Power of depth effect on width (0 to 1, default: 0.5)"
   ]
  },
  {
   "cell_type": "code",
   "execution_count": 555,
   "metadata": {},
   "outputs": [
    {
     "data": {
      "text/plain": [
       "\"./../../../../2021-06-15-100bp-0.1-error-rate/2021-06-15-100bp-0.1-error-rate.fastq.k-5.gfa.svg\""
      ]
     },
     "execution_count": 555,
     "metadata": {},
     "output_type": "execute_result"
    }
   ],
   "source": [
    "html_path_to_svg = \"./\" * repeat(\"../\", length(split(pwd(), '/')) - 3)\n",
    "html_path_to_svg *= replace(\"$(gfa_file).svg\", \"$(homedir())/\" => \"\")"
   ]
  },
  {
   "cell_type": "code",
   "execution_count": 556,
   "metadata": {},
   "outputs": [
    {
     "data": {
      "text/html": [
       "<img src=./../../../../2021-06-15-100bp-0.1-error-rate/2021-06-15-100bp-0.1-error-rate.fastq.k-5.gfa.svg>"
      ]
     },
     "metadata": {},
     "output_type": "display_data"
    }
   ],
   "source": [
    "x = \"<img src=$(html_path_to_svg)>\"\n",
    "display(\"text/html\", x)\n",
    "# display(\"image/svg+xml\", read(\"$(gfa_file).svg\", String))"
   ]
  },
  {
   "cell_type": "code",
   "execution_count": 557,
   "metadata": {},
   "outputs": [
    {
     "data": {
      "text/plain": [
       "FASTX.FASTQ.Reader{TranscodingStreams.NoopStream{IOStream}}(BioGenerics.Automa.State{TranscodingStreams.NoopStream{IOStream}}(TranscodingStreams.NoopStream{IOStream}(<mode=idle>), 1, 1, false), nothing)"
      ]
     },
     "execution_count": 557,
     "metadata": {},
     "output_type": "execute_result"
    }
   ],
   "source": [
    "fastq_io = FASTX.FASTQ.Reader(open(fastq_file))"
   ]
  },
  {
   "cell_type": "code",
   "execution_count": 558,
   "metadata": {},
   "outputs": [
    {
     "data": {
      "text/plain": [
       "FASTX.FASTQ.Record:\n",
       "   identifier: i\n",
       "  description: <missing>\n",
       "     sequence: AGATGTTAAGAGAGAGAATACTTTTCTAACAAAGTAGGTAATCAGATAATCACGCACGGTCCTGTCGAGGGACCCATAAGCAGTTCGCCAGACCGCACCCTT\n",
       "      quality: UInt8[0x0a, 0x0a, 0x0a, 0x0a, 0x0a, 0x0a, 0x0a, 0x0a, 0x0a, 0x0a  …  0x0a, 0x0a, 0x0a, 0x0a, 0x0a, 0x0a, 0x0a, 0x0a, 0x0a, 0x0a]"
      ]
     },
     "execution_count": 558,
     "metadata": {},
     "output_type": "execute_result"
    }
   ],
   "source": [
    "fastq_record = first(fastq_io)"
   ]
  },
  {
   "cell_type": "code",
   "execution_count": 559,
   "metadata": {},
   "outputs": [],
   "source": [
    "# for q in FASTX.quality(fastq_read)\n",
    "#     q = -10 * log10(error_rate)\n",
    "#     likelihood_error = 10^(q/(-10))\n",
    "#     display(likelihood_error)\n",
    "# end"
   ]
  },
  {
   "cell_type": "code",
   "execution_count": 560,
   "metadata": {},
   "outputs": [
    {
     "data": {
      "text/plain": [
       "501-element Vector{BioSequences.BigDNAMer{5}}:\n",
       " AAAAA\n",
       " AAAAC\n",
       " AAAAG\n",
       " AAAAT\n",
       " AAACA\n",
       " AAACC\n",
       " AAACG\n",
       " AAACT\n",
       " AAAGA\n",
       " AAAGC\n",
       " AAAGG\n",
       " AAAGT\n",
       " AAATA\n",
       " ⋮\n",
       " TCGAA\n",
       " TCGCA\n",
       " TCTAA\n",
       " TCTCA\n",
       " TGAAA\n",
       " TGACA\n",
       " TGCAA\n",
       " TGCCA\n",
       " TGGAA\n",
       " TGTAA\n",
       " TTAAA\n",
       " TTCAA"
      ]
     },
     "execution_count": 560,
     "metadata": {},
     "output_type": "execute_result"
    }
   ],
   "source": [
    "kmers = [kmer_graph.vprops[v][:kmer] for v in LightGraphs.vertices(kmer_graph)]"
   ]
  },
  {
   "cell_type": "code",
   "execution_count": 561,
   "metadata": {},
   "outputs": [
    {
     "data": {
      "text/plain": [
       "501-element Vector{Int64}:\n",
       " 10\n",
       "  3\n",
       " 10\n",
       "  8\n",
       " 12\n",
       "  6\n",
       " 24\n",
       "  4\n",
       " 23\n",
       "  8\n",
       " 11\n",
       "  5\n",
       "  5\n",
       "  ⋮\n",
       "  5\n",
       "  3\n",
       " 10\n",
       " 10\n",
       " 17\n",
       "  6\n",
       " 10\n",
       "  1\n",
       "  1\n",
       "  3\n",
       " 15\n",
       " 20"
      ]
     },
     "execution_count": 561,
     "metadata": {},
     "output_type": "execute_result"
    }
   ],
   "source": [
    "kmer_counts = [length(kmer_graph.vprops[v][:evidence]) for v in LightGraphs.vertices(kmer_graph)]"
   ]
  },
  {
   "cell_type": "code",
   "execution_count": 562,
   "metadata": {},
   "outputs": [
    {
     "name": "stdout",
     "output_type": "stream",
     "text": [
      "Summary Stats:\n",
      "Length:         501\n",
      "Missing Count:  0\n",
      "Mean:           9.103792\n",
      "Minimum:        1.000000\n",
      "1st Quartile:   4.000000\n",
      "Median:         7.000000\n",
      "3rd Quartile:   11.000000\n",
      "Maximum:        41.000000\n",
      "Type:           Int64\n"
     ]
    }
   ],
   "source": [
    "StatsBase.describe(kmer_counts)"
   ]
  },
  {
   "cell_type": "code",
   "execution_count": 563,
   "metadata": {},
   "outputs": [
    {
     "data": {
      "text/plain": [
       "501-element Vector{Float64}:\n",
       " 0.0021925016443762333\n",
       " 0.00065775049331287\n",
       " 0.0021925016443762333\n",
       " 0.0017540013155009867\n",
       " 0.00263100197325148\n",
       " 0.00131550098662574\n",
       " 0.00526200394650296\n",
       " 0.0008770006577504934\n",
       " 0.005042753782065337\n",
       " 0.0017540013155009867\n",
       " 0.0024117518088138568\n",
       " 0.0010962508221881166\n",
       " 0.0010962508221881166\n",
       " ⋮\n",
       " 0.0010962508221881166\n",
       " 0.00065775049331287\n",
       " 0.0021925016443762333\n",
       " 0.0021925016443762333\n",
       " 0.0037272527954395965\n",
       " 0.00131550098662574\n",
       " 0.0021925016443762333\n",
       " 0.00021925016443762334\n",
       " 0.00021925016443762334\n",
       " 0.00065775049331287\n",
       " 0.00328875246656435\n",
       " 0.0043850032887524665"
      ]
     },
     "execution_count": 563,
     "metadata": {},
     "output_type": "execute_result"
    }
   ],
   "source": [
    "kmer_likelihoods = kmer_counts ./ sum(kmer_counts)"
   ]
  },
  {
   "cell_type": "code",
   "execution_count": 564,
   "metadata": {},
   "outputs": [
    {
     "name": "stdout",
     "output_type": "stream",
     "text": [
      "Summary Stats:\n",
      "Length:         501\n",
      "Missing Count:  0\n",
      "Mean:           0.001996\n",
      "Minimum:        0.000219\n",
      "1st Quartile:   0.000877\n",
      "Median:         0.001535\n",
      "3rd Quartile:   0.002412\n",
      "Maximum:        0.008989\n",
      "Type:           Float64\n"
     ]
    }
   ],
   "source": [
    "StatsBase.describe(kmer_likelihoods)"
   ]
  },
  {
   "cell_type": "code",
   "execution_count": 565,
   "metadata": {},
   "outputs": [],
   "source": [
    "# evaluate likelihood of first read"
   ]
  },
  {
   "cell_type": "code",
   "execution_count": 566,
   "metadata": {},
   "outputs": [
    {
     "data": {
      "text/plain": [
       "BioSequences.BigDNAMer{5} (alias for BioSequences.BigMer{BioSequences.DNAAlphabet{2}, 5})"
      ]
     },
     "execution_count": 566,
     "metadata": {},
     "output_type": "execute_result"
    }
   ],
   "source": [
    "kmer_type = BioSequences.BigDNAMer{kmer_graph.gprops[:k]}"
   ]
  },
  {
   "cell_type": "code",
   "execution_count": 567,
   "metadata": {},
   "outputs": [
    {
     "data": {
      "text/plain": [
       "501"
      ]
     },
     "execution_count": 567,
     "metadata": {},
     "output_type": "execute_result"
    }
   ],
   "source": [
    "K = length(LightGraphs.vertices(kmer_graph))"
   ]
  },
  {
   "cell_type": "code",
   "execution_count": 568,
   "metadata": {},
   "outputs": [],
   "source": [
    "transition_likelihoods = Dict(\n",
    "    true => SparseArrays.spzeros(K, K),\n",
    "    false => SparseArrays.spzeros(K, K)\n",
    ")\n",
    "\n",
    "for edge in collect(LightGraphs.edges(kmer_graph))\n",
    "    weight = length(kmer_graph.eprops[edge][:evidence])\n",
    "    for o in kmer_graph.eprops[edge][:orientations]\n",
    "        transition_likelihoods[o.source_orientation][edge.src, edge.dst] = weight\n",
    "    end\n",
    "end\n",
    "\n",
    "for source_orientation in (true, false)\n",
    "    for src in 1:K\n",
    "        transition_weights = transition_likelihoods[source_orientation][src, :]\n",
    "        total_weight = sum(transition_weights)\n",
    "        dsts, vals = SparseArrays.findnz(transition_weights)\n",
    "        for (dst, val) in zip(dsts, vals) \n",
    "            transition_likelihoods[source_orientation][src, dst] = val / total_weight\n",
    "        end\n",
    "        normalized_probability = sum(transition_likelihoods[source_orientation][src, :])\n",
    "        @assert isapprox(normalized_probability, 0) || isapprox(normalized_probability, 1)\n",
    "    end\n",
    "end"
   ]
  },
  {
   "cell_type": "code",
   "execution_count": 569,
   "metadata": {},
   "outputs": [],
   "source": [
    "# evaluate probability of each state"
   ]
  },
  {
   "cell_type": "code",
   "execution_count": 570,
   "metadata": {},
   "outputs": [
    {
     "data": {
      "text/plain": [
       "98"
      ]
     },
     "execution_count": 570,
     "metadata": {},
     "output_type": "execute_result"
    }
   ],
   "source": [
    "number_of_kmers_in_read = length(FASTX.sequence(fastq_record))-k+1"
   ]
  },
  {
   "cell_type": "code",
   "execution_count": 571,
   "metadata": {},
   "outputs": [],
   "source": [
    "# maybe don't pre-calculate the shortest paths?\n",
    "# shortest_paths = LightGraphs.enumerate_paths(LightGraphs.floyd_warshall_shortest_paths(kmer_graph))"
   ]
  },
  {
   "cell_type": "code",
   "execution_count": 572,
   "metadata": {},
   "outputs": [],
   "source": [
    "# src = first(LightGraphs.edges(kmer_graph)).src\n",
    "# dst = first(LightGraphs.edges(kmer_graph)).dst\n",
    "# LightGraphs.a_star(kmer_graph, src, dst)"
   ]
  },
  {
   "cell_type": "markdown",
   "metadata": {},
   "source": [
    "# Initialize"
   ]
  },
  {
   "cell_type": "code",
   "execution_count": 755,
   "metadata": {},
   "outputs": [
    {
     "data": {
      "text/plain": [
       "501×98 Matrix{Float64}:\n",
       " 0.0  0.0  0.0  0.0  0.0  0.0  0.0  0.0  …  0.0  0.0  0.0  0.0  0.0  0.0  0.0\n",
       " 0.0  0.0  0.0  0.0  0.0  0.0  0.0  0.0     0.0  0.0  0.0  0.0  0.0  0.0  0.0\n",
       " 0.0  0.0  0.0  0.0  0.0  0.0  0.0  0.0     0.0  0.0  0.0  0.0  0.0  0.0  0.0\n",
       " 0.0  0.0  0.0  0.0  0.0  0.0  0.0  0.0     0.0  0.0  0.0  0.0  0.0  0.0  0.0\n",
       " 0.0  0.0  0.0  0.0  0.0  0.0  0.0  0.0     0.0  0.0  0.0  0.0  0.0  0.0  0.0\n",
       " 0.0  0.0  0.0  0.0  0.0  0.0  0.0  0.0  …  0.0  0.0  0.0  0.0  0.0  0.0  0.0\n",
       " 0.0  0.0  0.0  0.0  0.0  0.0  0.0  0.0     0.0  0.0  0.0  0.0  0.0  0.0  0.0\n",
       " 0.0  0.0  0.0  0.0  0.0  0.0  0.0  0.0     0.0  0.0  0.0  0.0  0.0  0.0  0.0\n",
       " 0.0  0.0  0.0  0.0  0.0  0.0  0.0  0.0     0.0  0.0  0.0  0.0  0.0  0.0  0.0\n",
       " 0.0  0.0  0.0  0.0  0.0  0.0  0.0  0.0     0.0  0.0  0.0  0.0  0.0  0.0  0.0\n",
       " 0.0  0.0  0.0  0.0  0.0  0.0  0.0  0.0  …  0.0  0.0  0.0  0.0  0.0  0.0  0.0\n",
       " 0.0  0.0  0.0  0.0  0.0  0.0  0.0  0.0     0.0  0.0  0.0  0.0  0.0  0.0  0.0\n",
       " 0.0  0.0  0.0  0.0  0.0  0.0  0.0  0.0     0.0  0.0  0.0  0.0  0.0  0.0  0.0\n",
       " ⋮                        ⋮              ⋱                      ⋮         \n",
       " 0.0  0.0  0.0  0.0  0.0  0.0  0.0  0.0     0.0  0.0  0.0  0.0  0.0  0.0  0.0\n",
       " 0.0  0.0  0.0  0.0  0.0  0.0  0.0  0.0  …  0.0  0.0  0.0  0.0  0.0  0.0  0.0\n",
       " 0.0  0.0  0.0  0.0  0.0  0.0  0.0  0.0     0.0  0.0  0.0  0.0  0.0  0.0  0.0\n",
       " 0.0  0.0  0.0  0.0  0.0  0.0  0.0  0.0     0.0  0.0  0.0  0.0  0.0  0.0  0.0\n",
       " 0.0  0.0  0.0  0.0  0.0  0.0  0.0  0.0     0.0  0.0  0.0  0.0  0.0  0.0  0.0\n",
       " 0.0  0.0  0.0  0.0  0.0  0.0  0.0  0.0     0.0  0.0  0.0  0.0  0.0  0.0  0.0\n",
       " 0.0  0.0  0.0  0.0  0.0  0.0  0.0  0.0  …  0.0  0.0  0.0  0.0  0.0  0.0  0.0\n",
       " 0.0  0.0  0.0  0.0  0.0  0.0  0.0  0.0     0.0  0.0  0.0  0.0  0.0  0.0  0.0\n",
       " 0.0  0.0  0.0  0.0  0.0  0.0  0.0  0.0     0.0  0.0  0.0  0.0  0.0  0.0  0.0\n",
       " 0.0  0.0  0.0  0.0  0.0  0.0  0.0  0.0     0.0  0.0  0.0  0.0  0.0  0.0  0.0\n",
       " 0.0  0.0  0.0  0.0  0.0  0.0  0.0  0.0     0.0  0.0  0.0  0.0  0.0  0.0  0.0\n",
       " 0.0  0.0  0.0  0.0  0.0  0.0  0.0  0.0  …  0.0  0.0  0.0  0.0  0.0  0.0  0.0"
      ]
     },
     "execution_count": 755,
     "metadata": {},
     "output_type": "execute_result"
    }
   ],
   "source": [
    "state_likelihoods = zeros(K, number_of_kmers_in_read)"
   ]
  },
  {
   "cell_type": "code",
   "execution_count": 756,
   "metadata": {},
   "outputs": [
    {
     "data": {
      "text/plain": [
       "501×98 Matrix{Vector{Pair{Int64, Bool}}}:\n",
       " []  []  []  []  []  []  []  []  []  …  []  []  []  []  []  []  []  []  []\n",
       " []  []  []  []  []  []  []  []  []     []  []  []  []  []  []  []  []  []\n",
       " []  []  []  []  []  []  []  []  []     []  []  []  []  []  []  []  []  []\n",
       " []  []  []  []  []  []  []  []  []     []  []  []  []  []  []  []  []  []\n",
       " []  []  []  []  []  []  []  []  []     []  []  []  []  []  []  []  []  []\n",
       " []  []  []  []  []  []  []  []  []  …  []  []  []  []  []  []  []  []  []\n",
       " []  []  []  []  []  []  []  []  []     []  []  []  []  []  []  []  []  []\n",
       " []  []  []  []  []  []  []  []  []     []  []  []  []  []  []  []  []  []\n",
       " []  []  []  []  []  []  []  []  []     []  []  []  []  []  []  []  []  []\n",
       " []  []  []  []  []  []  []  []  []     []  []  []  []  []  []  []  []  []\n",
       " []  []  []  []  []  []  []  []  []  …  []  []  []  []  []  []  []  []  []\n",
       " []  []  []  []  []  []  []  []  []     []  []  []  []  []  []  []  []  []\n",
       " []  []  []  []  []  []  []  []  []     []  []  []  []  []  []  []  []  []\n",
       " ⋮                   ⋮               ⋱      ⋮                   ⋮       \n",
       " []  []  []  []  []  []  []  []  []     []  []  []  []  []  []  []  []  []\n",
       " []  []  []  []  []  []  []  []  []  …  []  []  []  []  []  []  []  []  []\n",
       " []  []  []  []  []  []  []  []  []     []  []  []  []  []  []  []  []  []\n",
       " []  []  []  []  []  []  []  []  []     []  []  []  []  []  []  []  []  []\n",
       " []  []  []  []  []  []  []  []  []     []  []  []  []  []  []  []  []  []\n",
       " []  []  []  []  []  []  []  []  []     []  []  []  []  []  []  []  []  []\n",
       " []  []  []  []  []  []  []  []  []  …  []  []  []  []  []  []  []  []  []\n",
       " []  []  []  []  []  []  []  []  []     []  []  []  []  []  []  []  []  []\n",
       " []  []  []  []  []  []  []  []  []     []  []  []  []  []  []  []  []  []\n",
       " []  []  []  []  []  []  []  []  []     []  []  []  []  []  []  []  []  []\n",
       " []  []  []  []  []  []  []  []  []     []  []  []  []  []  []  []  []  []\n",
       " []  []  []  []  []  []  []  []  []  …  []  []  []  []  []  []  []  []  []"
      ]
     },
     "execution_count": 756,
     "metadata": {},
     "output_type": "execute_result"
    }
   ],
   "source": [
    "arrival_paths = fill(Pair{Int, Bool}[], K, number_of_kmers_in_read)"
   ]
  },
  {
   "cell_type": "markdown",
   "metadata": {},
   "source": [
    "# Determine Likelihoods of initial states"
   ]
  },
  {
   "cell_type": "code",
   "execution_count": 757,
   "metadata": {},
   "outputs": [
    {
     "data": {
      "text/plain": [
       "Mer iteration result:\n",
       "Position: 1\n",
       "Forward: AGATG\n",
       "Backward: CATCT\n"
      ]
     },
     "execution_count": 757,
     "metadata": {},
     "output_type": "execute_result"
    }
   ],
   "source": [
    "initial_state = first(BioSequences.each(kmer_type, FASTX.sequence(fastq_record)))"
   ]
  },
  {
   "cell_type": "code",
   "execution_count": 758,
   "metadata": {},
   "outputs": [
    {
     "data": {
      "text/plain": [
       "1"
      ]
     },
     "execution_count": 758,
     "metadata": {},
     "output_type": "execute_result"
    }
   ],
   "source": [
    "current_state = 1"
   ]
  },
  {
   "cell_type": "code",
   "execution_count": 759,
   "metadata": {},
   "outputs": [
    {
     "data": {
      "text/plain": [
       "98"
      ]
     },
     "execution_count": 759,
     "metadata": {},
     "output_type": "execute_result"
    }
   ],
   "source": [
    "total_states = length(FASTX.sequence(fastq_record)) - k + 1"
   ]
  },
  {
   "cell_type": "code",
   "execution_count": 760,
   "metadata": {},
   "outputs": [],
   "source": [
    "# sequence_kmer_iterator"
   ]
  },
  {
   "cell_type": "code",
   "execution_count": 761,
   "metadata": {},
   "outputs": [],
   "source": [
    "# for state in sequence_kmer_iterator[2:end]\n",
    "#     @show state\n",
    "# end"
   ]
  },
  {
   "cell_type": "code",
   "execution_count": 762,
   "metadata": {},
   "outputs": [
    {
     "data": {
      "text/plain": [
       "10.0"
      ]
     },
     "execution_count": 762,
     "metadata": {},
     "output_type": "execute_result"
    }
   ],
   "source": [
    "# note this is a place for potential improvement, use the q value at each base to guide probability rather than median\n",
    "median_q_value = Statistics.median(Int.(FASTX.quality(fastq_record)[1:k]))"
   ]
  },
  {
   "cell_type": "code",
   "execution_count": 763,
   "metadata": {},
   "outputs": [
    {
     "data": {
      "text/plain": [
       "error_rate_to_q_value (generic function with 1 method)"
      ]
     },
     "execution_count": 763,
     "metadata": {},
     "output_type": "execute_result"
    }
   ],
   "source": [
    "function q_value_to_error_rate(q_value)\n",
    "    error_rate = 10^(q_value/(-10))\n",
    "    return error_rate\n",
    "end\n",
    "\n",
    "function error_rate_to_q_value(error_rate)\n",
    "    q_value = -10 * log10(error_rate)\n",
    "    return q_value\n",
    "end"
   ]
  },
  {
   "cell_type": "code",
   "execution_count": 764,
   "metadata": {},
   "outputs": [
    {
     "data": {
      "text/plain": [
       "0.1"
      ]
     },
     "execution_count": 764,
     "metadata": {},
     "output_type": "execute_result"
    }
   ],
   "source": [
    "current_error_rate = q_value_to_error_rate(median_q_value)"
   ]
  },
  {
   "cell_type": "code",
   "execution_count": 765,
   "metadata": {},
   "outputs": [
    {
     "data": {
      "text/plain": [
       "DNA 5-mer:\n",
       "AGATG"
      ]
     },
     "execution_count": 765,
     "metadata": {},
     "output_type": "execute_result"
    }
   ],
   "source": [
    "canonical_kmer = BioSequences.canonical(initial_state.fw)"
   ]
  },
  {
   "cell_type": "code",
   "execution_count": 766,
   "metadata": {},
   "outputs": [
    {
     "data": {
      "text/plain": [
       "false"
      ]
     },
     "execution_count": 766,
     "metadata": {},
     "output_type": "execute_result"
    }
   ],
   "source": [
    "observed_orientation = initial_state.fw == initial_canonical_kmer"
   ]
  },
  {
   "cell_type": "code",
   "execution_count": 767,
   "metadata": {},
   "outputs": [],
   "source": [
    "x = nothing\n",
    "for vertex in collect(LightGraphs.vertices(kmer_graph))\n",
    "    hidden_kmer = kmer_graph.vprops[vertex][:kmer]\n",
    "\n",
    "    fw_alignment = \n",
    "        BioAlignments.pairalign(\n",
    "            BioAlignments.LevenshteinDistance(), \n",
    "            canonical_kmer, \n",
    "            hidden_kmer)\n",
    "    \n",
    "    fw_probability = kmer_likelihoods[vertex]\n",
    "    \n",
    "    for match in 1:BioAlignments.count_matches(BioAlignments.alignment(fw_alignment))\n",
    "        fw_probability *= 1 - error_rate\n",
    "    end\n",
    "\n",
    "    for edit in 1:fw_alignment.value\n",
    "        fw_probability *= error_rate\n",
    "    end\n",
    "    \n",
    "    bw_alignment = \n",
    "        BioAlignments.pairalign(\n",
    "            BioAlignments.LevenshteinDistance(),\n",
    "            BioSequences.reverse_complement(canonical_kmer),\n",
    "            hidden_kmer)\n",
    "    \n",
    "    bw_probability = kmer_likelihoods[vertex]\n",
    "    \n",
    "    for match in 1:BioAlignments.count_matches(BioAlignments.alignment(bw_alignment))\n",
    "        bw_probability *= 1 - error_rate\n",
    "    end\n",
    "\n",
    "    for edit in 1:bw_alignment.value\n",
    "        bw_probability *= error_rate\n",
    "    end\n",
    "    \n",
    "    if fw_probability >= bw_probability\n",
    "        state_probability = fw_probability\n",
    "        state_orientation = true\n",
    "    else\n",
    "        state_probability = bw_probability\n",
    "        state_orientation = false\n",
    "    end\n",
    "    state_likelihoods[vertex, current_state] = state_probability\n",
    "    arrival_paths[vertex, current_state] = [vertex => state_orientation]\n",
    "end"
   ]
  },
  {
   "cell_type": "code",
   "execution_count": 768,
   "metadata": {},
   "outputs": [
    {
     "data": {
      "text/plain": [
       "501×98 Matrix{Float64}:\n",
       " 1.77593e-6  0.0  0.0  0.0  0.0  0.0  …  0.0  0.0  0.0  0.0  0.0  0.0  0.0\n",
       " 5.32778e-7  0.0  0.0  0.0  0.0  0.0     0.0  0.0  0.0  0.0  0.0  0.0  0.0\n",
       " 1.59833e-5  0.0  0.0  0.0  0.0  0.0     0.0  0.0  0.0  0.0  0.0  0.0  0.0\n",
       " 1.42074e-6  0.0  0.0  0.0  0.0  0.0     0.0  0.0  0.0  0.0  0.0  0.0  0.0\n",
       " 2.13111e-6  0.0  0.0  0.0  0.0  0.0     0.0  0.0  0.0  0.0  0.0  0.0  0.0\n",
       " 1.06556e-6  0.0  0.0  0.0  0.0  0.0  …  0.0  0.0  0.0  0.0  0.0  0.0  0.0\n",
       " 3.836e-5    0.0  0.0  0.0  0.0  0.0     0.0  0.0  0.0  0.0  0.0  0.0  0.0\n",
       " 6.39333e-6  0.0  0.0  0.0  0.0  0.0     0.0  0.0  0.0  0.0  0.0  0.0  0.0\n",
       " 4.08463e-6  0.0  0.0  0.0  0.0  0.0     0.0  0.0  0.0  0.0  0.0  0.0  0.0\n",
       " 1.42074e-6  0.0  0.0  0.0  0.0  0.0     0.0  0.0  0.0  0.0  0.0  0.0  0.0\n",
       " 1.75817e-5  0.0  0.0  0.0  0.0  0.0  …  0.0  0.0  0.0  0.0  0.0  0.0  0.0\n",
       " 8.87963e-7  0.0  0.0  0.0  0.0  0.0     0.0  0.0  0.0  0.0  0.0  0.0  0.0\n",
       " 7.99167e-6  0.0  0.0  0.0  0.0  0.0     0.0  0.0  0.0  0.0  0.0  0.0  0.0\n",
       " ⋮                               ⋮    ⋱                      ⋮         \n",
       " 8.87963e-8  0.0  0.0  0.0  0.0  0.0     0.0  0.0  0.0  0.0  0.0  0.0  0.0\n",
       " 5.91975e-8  0.0  0.0  0.0  0.0  0.0  …  0.0  0.0  0.0  0.0  0.0  0.0  0.0\n",
       " 1.97325e-7  0.0  0.0  0.0  0.0  0.0     0.0  0.0  0.0  0.0  0.0  0.0  0.0\n",
       " 1.77593e-6  0.0  0.0  0.0  0.0  0.0     0.0  0.0  0.0  0.0  0.0  0.0  0.0\n",
       " 3.01907e-6  0.0  0.0  0.0  0.0  0.0     0.0  0.0  0.0  0.0  0.0  0.0  0.0\n",
       " 1.06556e-6  0.0  0.0  0.0  0.0  0.0     0.0  0.0  0.0  0.0  0.0  0.0  0.0\n",
       " 1.97325e-7  0.0  0.0  0.0  0.0  0.0  …  0.0  0.0  0.0  0.0  0.0  0.0  0.0\n",
       " 1.97325e-8  0.0  0.0  0.0  0.0  0.0     0.0  0.0  0.0  0.0  0.0  0.0  0.0\n",
       " 1.97325e-8  0.0  0.0  0.0  0.0  0.0     0.0  0.0  0.0  0.0  0.0  0.0  0.0\n",
       " 5.91975e-8  0.0  0.0  0.0  0.0  0.0     0.0  0.0  0.0  0.0  0.0  0.0  0.0\n",
       " 2.95988e-7  0.0  0.0  0.0  0.0  0.0     0.0  0.0  0.0  0.0  0.0  0.0  0.0\n",
       " 3.55185e-7  0.0  0.0  0.0  0.0  0.0  …  0.0  0.0  0.0  0.0  0.0  0.0  0.0"
      ]
     },
     "execution_count": 768,
     "metadata": {},
     "output_type": "execute_result"
    }
   ],
   "source": [
    "state_likelihoods"
   ]
  },
  {
   "cell_type": "code",
   "execution_count": 769,
   "metadata": {},
   "outputs": [
    {
     "data": {
      "text/plain": [
       "501×98 Matrix{Vector{Pair{Int64, Bool}}}:\n",
       " [1=>1]    []  []  []  []  []  []  []  …  []  []  []  []  []  []  []  []  []\n",
       " [2=>1]    []  []  []  []  []  []  []     []  []  []  []  []  []  []  []  []\n",
       " [3=>1]    []  []  []  []  []  []  []     []  []  []  []  []  []  []  []  []\n",
       " [4=>1]    []  []  []  []  []  []  []     []  []  []  []  []  []  []  []  []\n",
       " [5=>1]    []  []  []  []  []  []  []     []  []  []  []  []  []  []  []  []\n",
       " [6=>1]    []  []  []  []  []  []  []  …  []  []  []  []  []  []  []  []  []\n",
       " [7=>1]    []  []  []  []  []  []  []     []  []  []  []  []  []  []  []  []\n",
       " [8=>0]    []  []  []  []  []  []  []     []  []  []  []  []  []  []  []  []\n",
       " [9=>1]    []  []  []  []  []  []  []     []  []  []  []  []  []  []  []  []\n",
       " [10=>1]   []  []  []  []  []  []  []     []  []  []  []  []  []  []  []  []\n",
       " [11=>1]   []  []  []  []  []  []  []  …  []  []  []  []  []  []  []  []  []\n",
       " [12=>1]   []  []  []  []  []  []  []     []  []  []  []  []  []  []  []  []\n",
       " [13=>1]   []  []  []  []  []  []  []     []  []  []  []  []  []  []  []  []\n",
       " ⋮                         ⋮           ⋱      ⋮                   ⋮       \n",
       " [490=>1]  []  []  []  []  []  []  []     []  []  []  []  []  []  []  []  []\n",
       " [491=>0]  []  []  []  []  []  []  []  …  []  []  []  []  []  []  []  []  []\n",
       " [492=>0]  []  []  []  []  []  []  []     []  []  []  []  []  []  []  []  []\n",
       " [493=>0]  []  []  []  []  []  []  []     []  []  []  []  []  []  []  []  []\n",
       " [494=>1]  []  []  []  []  []  []  []     []  []  []  []  []  []  []  []  []\n",
       " [495=>1]  []  []  []  []  []  []  []     []  []  []  []  []  []  []  []  []\n",
       " [496=>1]  []  []  []  []  []  []  []  …  []  []  []  []  []  []  []  []  []\n",
       " [497=>1]  []  []  []  []  []  []  []     []  []  []  []  []  []  []  []  []\n",
       " [498=>1]  []  []  []  []  []  []  []     []  []  []  []  []  []  []  []  []\n",
       " [499=>1]  []  []  []  []  []  []  []     []  []  []  []  []  []  []  []  []\n",
       " [500=>1]  []  []  []  []  []  []  []     []  []  []  []  []  []  []  []  []\n",
       " [501=>0]  []  []  []  []  []  []  []  …  []  []  []  []  []  []  []  []  []"
      ]
     },
     "execution_count": 769,
     "metadata": {},
     "output_type": "execute_result"
    }
   ],
   "source": [
    "arrival_paths"
   ]
  },
  {
   "cell_type": "code",
   "execution_count": 770,
   "metadata": {},
   "outputs": [
    {
     "name": "stdout",
     "output_type": "stream",
     "text": [
      "  0.263547 seconds (956.76 k allocations: 85.608 MiB, 15.86% gc time)\n"
     ]
    }
   ],
   "source": [
    "@time shortest_paths = LightGraphs.enumerate_paths(LightGraphs.floyd_warshall_shortest_paths(kmer_graph));"
   ]
  },
  {
   "cell_type": "markdown",
   "metadata": {},
   "source": [
    "# Determine Likelihood of future states"
   ]
  },
  {
   "cell_type": "code",
   "execution_count": 771,
   "metadata": {},
   "outputs": [],
   "source": [
    "# need to get just the next base, don't need to worry about the kmers anymore"
   ]
  },
  {
   "cell_type": "code",
   "execution_count": 772,
   "metadata": {},
   "outputs": [],
   "source": [
    "# x = rand(10)"
   ]
  },
  {
   "cell_type": "code",
   "execution_count": 773,
   "metadata": {},
   "outputs": [],
   "source": [
    "# sortperm(x)"
   ]
  },
  {
   "cell_type": "code",
   "execution_count": 774,
   "metadata": {},
   "outputs": [],
   "source": [
    "# ?sortperm!()"
   ]
  },
  {
   "cell_type": "code",
   "execution_count": 775,
   "metadata": {},
   "outputs": [
    {
     "data": {
      "text/plain": [
       "Set{NamedTuple{(:source_orientation, :destination_orientation), Tuple{Bool, Bool}}} with 1 element:\n",
       "  (source_orientation = false, destination_orientation = true)"
      ]
     },
     "execution_count": 775,
     "metadata": {},
     "output_type": "execute_result"
    }
   ],
   "source": [
    "kmer_graph.eprops[LightGraphs.Edge(429, 395)][:orientations]"
   ]
  },
  {
   "cell_type": "code",
   "execution_count": 779,
   "metadata": {},
   "outputs": [
    {
     "data": {
      "text/plain": [
       "run_viterbi! (generic function with 2 methods)"
      ]
     },
     "execution_count": 779,
     "metadata": {},
     "output_type": "execute_result"
    }
   ],
   "source": [
    "function run_viterbi!(\n",
    "        current_state,\n",
    "        prior_state,\n",
    "        observed_nucleotide,\n",
    "        observed_quality_score,\n",
    "        observed_error_rate,\n",
    "        current_vertex,\n",
    "        prior_vertex,\n",
    "        state_likelihoods,\n",
    "        shortest_paths,\n",
    "        arrival_paths,\n",
    "        kmer_graph,\n",
    "        kmer_likelihoods\n",
    "        )\n",
    "    # if probability of prior state is lower than current probability, skip\n",
    "\n",
    "    current_state_likelihood = state_likelihoods[current_vertex, current_state]\n",
    "\n",
    "    prior_state_likelihood = state_likelihoods[prior_vertex, prior_state]\n",
    "\n",
    "    # if we already have a better possible path, skip calculating anything\n",
    "    if prior_state_likelihood < current_state_likelihood\n",
    "        return\n",
    "    end\n",
    "\n",
    "#         # if current state is unreachable from prior state, skip\n",
    "#         if !LightGraphs.has_path(kmer_graph, prior_vertex, current_vertex)\n",
    "#             continue\n",
    "#     #         @info \"no path, skip me\"\n",
    "#         end\n",
    "\n",
    "#         shortest_path = LightGraphs.a_star(kmer_graph, prior_vertex, current_vertex)\n",
    "    shortest_path = shortest_paths[prior_vertex][current_vertex]\n",
    "\n",
    "#     no path & not considering insertion\n",
    "    if isempty(shortest_path) && (prior_vertex != current_vertex)\n",
    "        @info \"can I even get here?\"\n",
    "        return\n",
    "    end\n",
    "\n",
    "    # single step - either match or mismatch\n",
    "\n",
    "    # multistep path - deletion in observed sequence relative to kmer graph\n",
    "\n",
    "    # one or more step path - match, mismatch, or deletion in observed sequence relative to kmer graph\n",
    "    # (vertex, orientation) = last(arrival_paths[prior_vertex, prior_state])\n",
    "    if !isempty(shortest_path)\n",
    "\n",
    "        initial_path_state = last(arrival_paths[prior_vertex, prior_state])\n",
    "\n",
    "        path = Vector{typeof(initial_path_state)}(undef, length(shortest_path))\n",
    "        path[1] = initial_path_state\n",
    "\n",
    "        path_likelihood::Float64 = state_likelihoods[prior_vertex, prior_state]\n",
    "\n",
    "#             for (i, vertex) in zip(2:length(shortestshortest_path)\n",
    "        for i in 2:length(shortest_path)\n",
    "\n",
    "            this_vertex = shortest_path[i]\n",
    "            prior_vertex, prior_orientation = path[i-1]\n",
    "            edge = LightGraphs.Edge(prior_vertex, this_vertex)\n",
    "\n",
    "            possible_edge_orientations::Set{NamedTuple{(:source_orientation, :destination_orientation), Tuple{Bool, Bool}}} = kmer_graph.eprops[edge][:orientations]\n",
    "            possible_edge_orientations = filter(o -> o.source_orientation == prior_orientation, possible_edge_orientations)\n",
    "\n",
    "            if isempty(possible_edge_orientations)\n",
    "                path_likelihood *= 0.0\n",
    "                path = Vector{eltype(path)}()\n",
    "                break\n",
    "            end\n",
    "\n",
    "#             NamedTuple{(:source_orientation, :destination_orientation), Tuple{Bool, Bool}}\n",
    "            orientation = first(possible_edge_orientations)\n",
    "            # transition likelihood * state_likelihood\n",
    "            transition_likelihood::Float64 = transition_likelihoods[prior_orientation][prior_vertex, this_vertex]\n",
    "            state_likelihood::Float64 = kmer_likelihoods[this_vertex]\n",
    "            path_likelihood *= transition_likelihood * state_likelihood\n",
    "            path[i] = this_vertex => orientation.destination_orientation\n",
    "        end\n",
    "\n",
    "        # see if new nucleotide is a match or mismatch to terminal kmer in path\n",
    "        if !isempty(path) && path_likelihood > 0\n",
    "            terminal_kmer_index, terminal_kmer_orientation = last(path)\n",
    "            terminal_kmer = BioSequences.LongDNASeq(kmer_graph.vprops[terminal_kmer_index][:kmer])::BioSequences.LongDNASeq\n",
    "            if !terminal_kmer_orientation\n",
    "                terminal_kmer = BioSequences.reverse_complement!(terminal_kmer)\n",
    "            end\n",
    "            is_match = observed_nucleotide == last(terminal_kmer)\n",
    "            if is_match\n",
    "                path_likelihood *= 1 - observed_error_rate\n",
    "            else\n",
    "                path_likelihood *= observed_error_rate\n",
    "            end\n",
    "        end\n",
    "\n",
    "        if path_likelihood > state_likelihoods[current_vertex, current_state]\n",
    "            state_likelihoods[current_vertex, current_state] = path_likelihood\n",
    "            arrival_paths[current_vertex, current_state] = path\n",
    "        end\n",
    "    # zero step path - insertion in observed sequence relative to kmer graph\n",
    "    elseif current_vertex == prior_vertex\n",
    "        emission_likelihood = observed_error_rate\n",
    "        transition_likelihood = observed_error_rate\n",
    "        state_likelihood = kmer_likelihoods[current_vertex]\n",
    "        current_state_likelihood = prior_state_likelihood * emission_likelihood * transition_likelihood * state_likelihood\n",
    "\n",
    "        if current_state_likelihood > state_likelihoods[current_vertex, state_index]\n",
    "            state_likelihoods[current_vertex, state_index] = current_state_likelihood\n",
    "            arrival_paths[current_vertex, state_index] = arrival_paths[prior_vertex, state_index-1]\n",
    "        end\n",
    "    end\n",
    "    return\n",
    "end"
   ]
  },
  {
   "cell_type": "code",
   "execution_count": null,
   "metadata": {},
   "outputs": [],
   "source": [
    "current_vertex = 1\n",
    "prior_vertex = 1\n",
    "@code_warntype run_viterbi!(\n",
    "    current_state,\n",
    "    prior_state,\n",
    "    observed_nucleotide,\n",
    "    observed_quality_score,\n",
    "    observed_error_rate,\n",
    "    current_vertex,\n",
    "    prior_vertex,\n",
    "    state_likelihoods,\n",
    "    shortest_paths,\n",
    "    arrival_paths,\n",
    "    kmer_graph,\n",
    "    kmer_likelihoods\n",
    "    )"
   ]
  },
  {
   "cell_type": "code",
   "execution_count": 781,
   "metadata": {},
   "outputs": [
    {
     "name": "stderr",
     "output_type": "stream",
     "text": [
      "\u001b[32mProgress: 100%|█████████████████████████████████████████| Time: 0:00:55\u001b[39m\n"
     ]
    }
   ],
   "source": [
    "# consider each state\n",
    "ProgressMeter.@showprogress for current_state in 2:total_states\n",
    "    prior_state = current_state - 1\n",
    "    observed_nucleotide = FASTX.sequence(fastq_record)[k-1+current_state]\n",
    "    observed_quality_score = FASTX.quality(fastq_record)[k-1+current_state]\n",
    "    observed_error_rate = q_value_to_error_rate(observed_quality_score)\n",
    "\n",
    "    for current_vertex in 1:K\n",
    "        for prior_vertex in 1:K\n",
    "            run_viterbi!(\n",
    "                current_state,\n",
    "                prior_state,\n",
    "                observed_nucleotide,\n",
    "                observed_quality_score,\n",
    "                observed_error_rate,\n",
    "                current_vertex,\n",
    "                prior_vertex,\n",
    "                state_likelihoods,\n",
    "                shortest_paths,\n",
    "                arrival_paths,\n",
    "                kmer_graph,\n",
    "                kmer_likelihoods\n",
    "                )\n",
    "        end\n",
    "    end\n",
    "end"
   ]
  },
  {
   "cell_type": "code",
   "execution_count": 782,
   "metadata": {},
   "outputs": [
    {
     "data": {
      "text/plain": [
       "501×98 Matrix{Float64}:\n",
       " 1.77593e-6  3.89372e-11  6.22347e-13  …  2.91962e-278  1.98209e-281\n",
       " 5.32778e-7  9.46174e-10  5.09193e-13     3.2142e-281   8.17197e-282\n",
       " 1.59833e-5  3.50435e-10  1.8859e-13      3.56354e-279  3.20718e-279\n",
       " 1.42074e-6  4.67247e-10  6.03197e-12     4.01791e-278  1.13713e-281\n",
       " 2.13111e-6  8.41044e-10  5.84465e-12     7.43917e-278  5.25634e-281\n",
       " 1.06556e-6  5.16095e-9   2.15747e-13  …  2.85136e-280  2.56623e-280\n",
       " 3.836e-5    1.08134e-8   7.59198e-13     4.14137e-277  3.72724e-277\n",
       " 6.39333e-6  1.40174e-10  1.84399e-13     2.1094e-279   8.60972e-286\n",
       " 4.08463e-6  7.254e-9     2.65074e-13     1.88317e-276  5.64644e-279\n",
       " 1.42074e-6  1.12139e-9   2.47449e-14     2.92002e-278  4.29028e-281\n",
       " 1.75817e-5  9.63696e-10  1.01419e-13  …  7.29269e-276  6.56342e-276\n",
       " 8.87963e-7  1.57696e-9   1.29656e-13     8.12665e-276  9.08795e-282\n",
       " 7.99167e-6  4.86715e-10  3.88967e-12     1.98368e-281  1.04351e-282\n",
       " ⋮                                     ⋱                \n",
       " 8.87963e-8  5.84058e-11  3.84165e-15     1.84265e-279  5.89671e-282\n",
       " 5.91975e-8  3.89372e-13  1.14097e-14  …  6.4703e-282   1.75761e-287\n",
       " 1.97325e-7  1.75217e-10  7.68329e-14     3.31677e-278  1.10499e-281\n",
       " 1.77593e-6  1.26157e-9   8.29795e-14     5.65735e-279  2.55703e-282\n",
       " 3.01907e-6  1.32387e-10  6.26957e-13     1.45592e-278  5.10822e-283\n",
       " 1.06556e-6  2.33623e-11  4.42097e-15     8.84472e-280  9.1078e-284\n",
       " 1.97325e-7  1.75217e-10  3.84851e-13  …  7.3706e-280   8.68118e-285\n",
       " 1.97325e-8  3.89372e-13  1.26774e-15     2.37361e-286  3.26124e-289\n",
       " 1.97325e-8  3.89372e-13  7.68329e-16     5.02239e-280  5.81973e-289\n",
       " 5.91975e-8  1.29791e-12  6.22347e-15     1.6337e-279   2.04925e-283\n",
       " 2.95988e-7  5.84058e-11  1.66913e-13     4.17851e-279  8.48893e-283\n",
       " 3.55185e-7  9.16522e-10  3.61706e-12  …  9.55701e-278  1.0483e-281"
      ]
     },
     "execution_count": 782,
     "metadata": {},
     "output_type": "execute_result"
    }
   ],
   "source": [
    "# if \n",
    "state_likelihoods"
   ]
  },
  {
   "cell_type": "code",
   "execution_count": 783,
   "metadata": {},
   "outputs": [
    {
     "data": {
      "text/plain": [
       "501×98 Matrix{Vector{Pair{Int64, Bool}}}:\n",
       " [1=>1]    [1=>1]            …  [4=>0, 1=>0]\n",
       " [2=>1]    [8=>0, 2=>0]         [7=>0, 2=>0]\n",
       " [3=>1]    [3=>1]               [12=>0, 3=>0]\n",
       " [4=>1]    [1=>1, 4=>1]         [14=>0, 4=>0]\n",
       " [5=>1]    [20=>0, 5=>0]        [72=>0, 19=>0, 5=>0]\n",
       " [6=>1]    [24=>0, 6=>0]     …  [87=>0, 23=>0, 6=>0]\n",
       " [7=>1]    [28=>0, 7=>0]        [28=>0, 7=>0]\n",
       " [8=>0]    [2=>1, 8=>1]         [105=>0, 29=>0, 8=>0]\n",
       " [9=>1]    [3=>1, 9=>1]         [34=>0, 9=>0]\n",
       " [10=>1]   [36=>0, 10=>0]       [38=>0, 10=>0]\n",
       " [11=>1]   [43=>0, 11=>0]    …  [43=>0, 11=>0]\n",
       " [12=>1]   [3=>1, 12=>1]        [44=>0, 12=>0]\n",
       " [13=>1]   [48=>0, 13=>0]       [47=>0, 13=>0]\n",
       " ⋮                           ⋱  \n",
       " [490=>1]  [214=>1, 490=>0]     [214=>1, 490=>0]\n",
       " [491=>0]  [491=>0]          …  [241=>0, 342=>1, 319=>0, 491=>0]\n",
       " [492=>0]  [346=>0, 492=>0]     [112=>1, 359=>1, 492=>1]\n",
       " [493=>0]  [199=>1, 493=>0]     [393=>0, 493=>1]\n",
       " [494=>1]  [219=>1, 494=>0]     [11=>0, 376=>1, 494=>0]\n",
       " [495=>1]  [207=>1, 495=>0]     [113=>1, 362=>1, 495=>1]\n",
       " [496=>1]  [408=>0, 496=>0]  …  [118=>1, 374=>1, 496=>0]\n",
       " [497=>1]  [415=>0, 497=>0]     [87=>0, 238=>0, 271=>0, 415=>0, 497=>0]\n",
       " [498=>1]  [466=>1, 498=>1]     [7=>0, 378=>0, 433=>0, 498=>0]\n",
       " [499=>1]  [467=>1, 499=>1]     [72=>0, 367=>1, 499=>1]\n",
       " [500=>1]  [218=>1, 500=>0]     [43=>0, 306=>1, 369=>1, 500=>1]\n",
       " [501=>0]  [470=>1, 501=>0]  …  [212=>1, 501=>1]"
      ]
     },
     "execution_count": 783,
     "metadata": {},
     "output_type": "execute_result"
    }
   ],
   "source": [
    "arrival_paths"
   ]
  },
  {
   "cell_type": "code",
   "execution_count": 784,
   "metadata": {},
   "outputs": [],
   "source": [
    "# take shortest path and assume it's the maximum likelihood path\n",
    "# this assumption seems fair because in an ideal situation\n",
    "# we're just moving to an adjacent kmer\n",
    "# and the shortest path and most likely path should be the same"
   ]
  },
  {
   "cell_type": "code",
   "execution_count": 785,
   "metadata": {},
   "outputs": [],
   "source": [
    "\n",
    "\n",
    "# for very distant nodes\n",
    "# it's very unlikely that any path between them will be correct\n",
    "# so taking shortest or the most likely won't matter since a different, shorter path will be more likely"
   ]
  },
  {
   "cell_type": "code",
   "execution_count": null,
   "metadata": {},
   "outputs": [],
   "source": [
    "# backtrack most likely path"
   ]
  },
  {
   "cell_type": "code",
   "execution_count": 786,
   "metadata": {},
   "outputs": [
    {
     "data": {
      "text/plain": [
       "9.87037849640755e-274"
      ]
     },
     "execution_count": 786,
     "metadata": {},
     "output_type": "execute_result"
    }
   ],
   "source": [
    "maximum_likelihood_path_value = maximum(state_likelihoods[:, end])"
   ]
  },
  {
   "cell_type": "code",
   "execution_count": 787,
   "metadata": {},
   "outputs": [
    {
     "data": {
      "text/plain": [
       "1-element Vector{Int64}:\n",
       " 42"
      ]
     },
     "execution_count": 787,
     "metadata": {},
     "output_type": "execute_result"
    }
   ],
   "source": [
    "maximum_likelihood_path_indices = findall(state_likelihoods[:, end] .== maximum_likelihood_path_value)"
   ]
  },
  {
   "cell_type": "code",
   "execution_count": 788,
   "metadata": {},
   "outputs": [
    {
     "data": {
      "text/plain": [
       "42"
      ]
     },
     "execution_count": 788,
     "metadata": {},
     "output_type": "execute_result"
    }
   ],
   "source": [
    "# if multiple paths are tied, randomly choose one\n",
    "maximum_likelihood_path_index = rand(maximum_likelihood_path_indices)"
   ]
  },
  {
   "cell_type": "code",
   "execution_count": 789,
   "metadata": {},
   "outputs": [
    {
     "data": {
      "text/plain": [
       "2-element Vector{Pair{Int64, Bool}}:\n",
       " 83 => 1\n",
       " 42 => 0"
      ]
     },
     "execution_count": 789,
     "metadata": {},
     "output_type": "execute_result"
    }
   ],
   "source": [
    "maximum_likelihood_path = arrival_paths[maximum_likelihood_path_index, end]"
   ]
  },
  {
   "cell_type": "code",
   "execution_count": null,
   "metadata": {},
   "outputs": [],
   "source": []
  },
  {
   "cell_type": "code",
   "execution_count": 790,
   "metadata": {},
   "outputs": [
    {
     "data": {
      "text/plain": [
       "98-element Vector{Pair{Int64, Bool}}:\n",
       " 158 => 1\n",
       "  66 => 0\n",
       "  18 => 0\n",
       " 473 => 0\n",
       " 468 => 1\n",
       " 369 => 0\n",
       " 474 => 1\n",
       "  34 => 1\n",
       " 127 => 1\n",
       " 360 => 0\n",
       " 127 => 1\n",
       " 360 => 0\n",
       " 127 => 1\n",
       "     ⋮\n",
       " 349 => 0\n",
       " 457 => 1\n",
       " 463 => 0\n",
       " 124 => 1\n",
       " 335 => 0\n",
       "  85 => 1\n",
       " 291 => 1\n",
       " 319 => 1\n",
       " 410 => 1\n",
       " 237 => 1\n",
       "  83 => 1\n",
       "  42 => 0"
      ]
     },
     "execution_count": 790,
     "metadata": {},
     "output_type": "execute_result"
    }
   ],
   "source": [
    "for index in total_states-1:-1:1\n",
    "#     @show index\n",
    "    prior_state, prior_orientation = first(maximum_likelihood_path)\n",
    "    maximum_likelihood_arrival_path = arrival_paths[prior_state, index]\n",
    "    @assert last(maximum_likelihood_arrival_path) == (prior_state => prior_orientation)\n",
    "    maximum_likelihood_path = vcat(maximum_likelihood_arrival_path[1:end-1], maximum_likelihood_path)\n",
    "end\n",
    "maximum_likelihood_path"
   ]
  },
  {
   "cell_type": "code",
   "execution_count": 791,
   "metadata": {},
   "outputs": [
    {
     "data": {
      "text/plain": [
       "oriented_path_to_sequence (generic function with 1 method)"
      ]
     },
     "execution_count": 791,
     "metadata": {},
     "output_type": "execute_result"
    }
   ],
   "source": [
    "function oriented_path_to_sequence(kmer_graph, oriented_path)\n",
    "    initial_kmer, initial_orientation = first(oriented_path)\n",
    "    k = kmer_graph.gprops[:k]\n",
    "    sequence = BioSequences.LongDNASeq(kmer_graph.vprops[initial_kmer][:kmer])\n",
    "    if !initial_orientation\n",
    "        sequence = BioSequences.reverse_complement(sequence)\n",
    "    end\n",
    "    for (kmer, orientation) in oriented_path[2:end]\n",
    "        kmer_seq = BioSequences.LongDNASeq(kmer_graph.vprops[kmer][:kmer])\n",
    "        if !orientation\n",
    "            kmer_seq = BioSequences.reverse_complement(kmer_seq)\n",
    "        end\n",
    "        @assert sequence[end-k+2:end] == kmer_seq[1:end-1]\n",
    "        push!(sequence, last(kmer_seq))\n",
    "    end\n",
    "    return sequence\n",
    "end"
   ]
  },
  {
   "cell_type": "code",
   "execution_count": 795,
   "metadata": {},
   "outputs": [
    {
     "data": {
      "text/plain": [
       "102nt DNA Sequence:\n",
       "AGGTGTTAAGAGAGAGAATACGTTTCAAAAGAGGTAGAT…GTCGGGGGACCCATAAGCAGTGCGGTAGACCGCACCCTT"
      ]
     },
     "execution_count": 795,
     "metadata": {},
     "output_type": "execute_result"
    }
   ],
   "source": [
    "maximum_likelihood_sequence = oriented_path_to_sequence(kmer_graph, maximum_likelihood_path)"
   ]
  },
  {
   "cell_type": "code",
   "execution_count": 794,
   "metadata": {},
   "outputs": [
    {
     "data": {
      "text/plain": [
       "102nt DNA Sequence:\n",
       "AGATGTTAAGAGAGAGAATACTTTTCTAACAAAGTAGGT…GTCGAGGGACCCATAAGCAGTTCGCCAGACCGCACCCTT"
      ]
     },
     "execution_count": 794,
     "metadata": {},
     "output_type": "execute_result"
    }
   ],
   "source": []
  },
  {
   "cell_type": "code",
   "execution_count": 796,
   "metadata": {},
   "outputs": [
    {
     "data": {
      "text/plain": [
       "1.0"
      ]
     },
     "execution_count": 796,
     "metadata": {},
     "output_type": "execute_result"
    }
   ],
   "source": [
    "original_sequence_likelihood = 1.0"
   ]
  },
  {
   "cell_type": "code",
   "execution_count": 797,
   "metadata": {},
   "outputs": [
    {
     "data": {
      "text/plain": [
       "sequence_to_oriented_path (generic function with 1 method)"
      ]
     },
     "execution_count": 797,
     "metadata": {},
     "output_type": "execute_result"
    }
   ],
   "source": [
    "function sequence_to_oriented_path(sequence, kmers::Vector{T}) where {T <: BioSequences.AbstractMer{A, K}} where {A, K}\n",
    "    observed_path = Vector{Pair{Int, Bool}}(undef, length(sequence)-K+1)\n",
    "    for (i, kmer) in enumerate(BioSequences.each(T, sequence))\n",
    "        canonical_kmer = BioSequences.canonical(kmer.fw)\n",
    "        index = Mycelia.get_kmer_index(kmers, canonical_kmer)\n",
    "        orientation = kmer.fw == canonical_kmer\n",
    "        observed_path[i] = index => orientation\n",
    "    end\n",
    "    return observed_path\n",
    "end"
   ]
  },
  {
   "cell_type": "code",
   "execution_count": 800,
   "metadata": {},
   "outputs": [
    {
     "data": {
      "text/plain": [
       "98-element Vector{Pair{Int64, Bool}}:\n",
       " 132 => 1\n",
       "  74 => 0\n",
       "  20 => 0\n",
       " 473 => 0\n",
       " 468 => 1\n",
       " 369 => 0\n",
       " 474 => 1\n",
       "  34 => 1\n",
       " 127 => 1\n",
       " 360 => 0\n",
       " 127 => 1\n",
       " 360 => 0\n",
       " 127 => 1\n",
       "     ⋮\n",
       " 366 => 0\n",
       " 273 => 1\n",
       " 246 => 1\n",
       " 124 => 1\n",
       " 335 => 0\n",
       "  85 => 1\n",
       " 291 => 1\n",
       " 319 => 1\n",
       " 410 => 1\n",
       " 237 => 1\n",
       "  83 => 1\n",
       "  42 => 0"
      ]
     },
     "execution_count": 800,
     "metadata": {},
     "output_type": "execute_result"
    }
   ],
   "source": []
  },
  {
   "cell_type": "code",
   "execution_count": 801,
   "metadata": {},
   "outputs": [
    {
     "data": {
      "text/plain": [
       "98-element Vector{Pair{Int64, Bool}}:\n",
       " 132 => 1\n",
       "  74 => 0\n",
       "  20 => 0\n",
       " 473 => 0\n",
       " 468 => 1\n",
       " 369 => 0\n",
       " 474 => 1\n",
       "  34 => 1\n",
       " 127 => 1\n",
       " 360 => 0\n",
       " 127 => 1\n",
       " 360 => 0\n",
       " 127 => 1\n",
       "     ⋮\n",
       " 366 => 0\n",
       " 273 => 1\n",
       " 246 => 1\n",
       " 124 => 1\n",
       " 335 => 0\n",
       "  85 => 1\n",
       " 291 => 1\n",
       " 319 => 1\n",
       " 410 => 1\n",
       " 237 => 1\n",
       "  83 => 1\n",
       "  42 => 0"
      ]
     },
     "execution_count": 801,
     "metadata": {},
     "output_type": "execute_result"
    }
   ],
   "source": [
    "# function oriented_path_to_likelihood(kmer_graph, kmer_likelihoods, transition_likelihoods, fastq_record)\n",
    "original_oriented_path = sequence_to_oriented_path(FASTX.sequence(fastq_record), kmers)"
   ]
  },
  {
   "cell_type": "code",
   "execution_count": 810,
   "metadata": {},
   "outputs": [
    {
     "data": {
      "text/plain": [
       "0.0024117518088138568"
      ]
     },
     "execution_count": 810,
     "metadata": {},
     "output_type": "execute_result"
    }
   ],
   "source": [
    "likelihood = kmer_likelihoods[first(first(original_oriented_path))]"
   ]
  },
  {
   "cell_type": "code",
   "execution_count": 811,
   "metadata": {},
   "outputs": [],
   "source": [
    "for q_value in FASTX.quality(fastq_record)[1:kmer_graph.gprops[:k]]\n",
    "    error_rate = q_value_to_error_rate(q_value)\n",
    "    accuracy = 1 - error_rate\n",
    "    likelihood *= accuracy\n",
    "end"
   ]
  },
  {
   "cell_type": "code",
   "execution_count": 812,
   "metadata": {},
   "outputs": [
    {
     "data": {
      "text/plain": [
       "0.0014241153255864945"
      ]
     },
     "execution_count": 812,
     "metadata": {},
     "output_type": "execute_result"
    }
   ],
   "source": [
    "likelihood"
   ]
  },
  {
   "cell_type": "code",
   "execution_count": 814,
   "metadata": {},
   "outputs": [],
   "source": [
    "for index in 2:length(original_oriented_path)\n",
    "    kmer, orientation = original_oriented_path[index]\n",
    "    prior_kmer, prior_orientation = original_oriented_path[index-1]\n",
    "    state_likelihood = kmer_likelihoods[kmer]\n",
    "    transition_likelihood = transition_likelihoods[prior_orientation][prior_kmer, kmer]\n",
    "    sequence_index = kmer_graph.gprops[:k] + index - 1\n",
    "    state_q_value = FASTX.quality(fastq_record)[sequence_index]\n",
    "    state_error_likelihood = q_value_to_error_rate(state_q_value)\n",
    "    emission_likelihood = 1 - state_error_likelihood\n",
    "    \n",
    "    likelihood *= state_likelihood * transition_likelihood * emission_likelihood\n",
    "end"
   ]
  },
  {
   "cell_type": "code",
   "execution_count": 827,
   "metadata": {},
   "outputs": [
    {
     "data": {
      "text/plain": [
       "\"5E10\""
      ]
     },
     "execution_count": 827,
     "metadata": {},
     "output_type": "execute_result"
    }
   ],
   "source": [
    "likelihood_increase = NumericIO.formatted(maximum_likelihood_path_value / likelihood, ndigits=1, charset=:ASCII)"
   ]
  },
  {
   "cell_type": "code",
   "execution_count": 828,
   "metadata": {},
   "outputs": [
    {
     "name": "stdout",
     "output_type": "stream",
     "text": [
      "new path is 5E10 more likely than observed_sequence\n"
     ]
    }
   ],
   "source": [
    "println(\"new path is $(likelihood_increase) more likely than observed_sequence\")"
   ]
  },
  {
   "cell_type": "code",
   "execution_count": null,
   "metadata": {},
   "outputs": [],
   "source": [
    "# write sequence to output fastq"
   ]
  },
  {
   "cell_type": "code",
   "execution_count": null,
   "metadata": {},
   "outputs": [],
   "source": [
    "# for k in [11, 13, 17, 23, 31, 41, 53]\n",
    "#     @show k\n",
    "#     outgraph = \"$(DIR)/simplified-kayvirus.k_$(k).all_ncbi.gfa\"\n",
    "#     if !isfile(outgraph)\n",
    "#         accessions = ncbi_staph_phage_metadata[!, \"Accession\"]\n",
    "#         fastx_iterator = (Mycelia.get_sequence(db=\"nuccore\", accession=accession) for accession in accessions)\n",
    "#         KMER_TYPE = BioSequences.BigDNAMer{k}\n",
    "#         @time kmer_graph = Mycelia.fastx_to_kmer_graph(KMER_TYPE, fastx_iterator)\n",
    "#         @time simplified_graph = Mycelia.simplify_kmer_graph(kmer_graph)\n",
    "# #         ^ > 1 day down to 34 seconds!\n",
    "#         Mycelia.graph_to_gfa(simplified_graph, outgraph)\n",
    "#     end\n",
    "# end"
   ]
  }
 ],
 "metadata": {
  "kernelspec": {
   "display_name": "Julia 1.6.1",
   "language": "julia",
   "name": "julia-1.6"
  },
  "language_info": {
   "file_extension": ".jl",
   "mimetype": "application/julia",
   "name": "julia",
   "version": "1.6.1"
  }
 },
 "nbformat": 4,
 "nbformat_minor": 4
}
