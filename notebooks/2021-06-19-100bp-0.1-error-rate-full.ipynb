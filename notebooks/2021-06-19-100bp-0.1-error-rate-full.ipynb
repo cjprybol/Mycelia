{
 "cells": [
  {
   "cell_type": "code",
   "execution_count": 1,
   "metadata": {},
   "outputs": [
    {
     "data": {
      "text/plain": [
       "\"/Users/cameronprybol/2021-06-19-100bp-0.1-error-rate-full\""
      ]
     },
     "execution_count": 1,
     "metadata": {},
     "output_type": "execute_result"
    }
   ],
   "source": [
    "DATE = \"2021-06-19\"\n",
    "TASK = \"100bp-0.1-error-rate-full\"\n",
    "DIR = \"$(DATE)-$(TASK)\"\n",
    "DIR = mkpath(\"$(homedir())/$(DIR)\")"
   ]
  },
  {
   "cell_type": "code",
   "execution_count": 2,
   "metadata": {},
   "outputs": [
    {
     "name": "stdout",
     "output_type": "stream",
     "text": [
      "    \u001b[36m\u001b[1mFetching:\u001b[22m\u001b[39m [========================================>]  99.9 %[36m\u001b[1mFetching:\u001b[22m\u001b[39m [=>                                       ]  0.3 %\u001b[36m\u001b[1mFetching:\u001b[22m\u001b[39m [=>                                       ]  0.5 %\u001b[36m\u001b[1mFetching:\u001b[22m\u001b[39m [=>                                       ]  0.7 %\u001b[36m\u001b[1mFetching:\u001b[22m\u001b[39m [=>                                       ]  0.9 %\u001b[36m\u001b[1mFetching:\u001b[22m\u001b[39m [=>                                       ]  1.1 %\u001b[36m\u001b[1mFetching:\u001b[22m\u001b[39m [=>                                       ]  1.3 %\u001b[36m\u001b[1mFetching:\u001b[22m\u001b[39m [=>                                       ]  1.5 %\u001b[36m\u001b[1mFetching:\u001b[22m\u001b[39m [=>                                       ]  1.7 %\u001b[36m\u001b[1mFetching:\u001b[22m\u001b[39m [====>                                    ]  9.1 % [====>                                    ]  9.6 %\u001b[36m\u001b[1mFetching:\u001b[22m\u001b[39m [====>                                    ]  9.9 %\u001b[36m\u001b[1mFetching:\u001b[22m\u001b[39m [=====>                                   ]  10.5 %\u001b[36m\u001b[1mFetching:\u001b[22m\u001b[39m [=====>                                   ]  11.3 %\u001b[36m\u001b[1mFetching:\u001b[22m\u001b[39m [=====>                                   ]  11.9 %\u001b[36m\u001b[1mFetching:\u001b[22m\u001b[39m [======>                                  ]  12.5 %\u001b[36m\u001b[1mFetching:\u001b[22m\u001b[39m [======>                                  ]  13.1 %\u001b[36m\u001b[1mFetching:\u001b[22m\u001b[39m [======>                                  ]  14.1 %\u001b[36m\u001b[1mFetching:\u001b[22m\u001b[39m [======>                                  ]  14.5 %\u001b[36m\u001b[1mFetching:\u001b[22m\u001b[39m [======>                                  ]  14.9 %\u001b[36m\u001b[1mFetching:\u001b[22m\u001b[39m [=========>                               ]  20.9 %\u001b[36m\u001b[1mFetching:\u001b[22m\u001b[39m [==========>                              ]  23.9 %\u001b[36m\u001b[1mFetching:\u001b[22m\u001b[39m [============>                            ]  29.2 %\u001b[36m\u001b[1mFetching:\u001b[22m\u001b[39m [=============>                           ]  30.2 %\u001b[36m\u001b[1mFetching:\u001b[22m\u001b[39m [=============>                           ]  31.6 %\u001b[36m\u001b[1mFetching:\u001b[22m\u001b[39m [==============>                          ]  32.6 %\u001b[36m\u001b[1mFetching:\u001b[22m\u001b[39m [==============>                          ]  33.0 %\u001b[36m\u001b[1mFetching:\u001b[22m\u001b[39m [==============>                          ]  33.4 %\u001b[36m\u001b[1mFetching:\u001b[22m\u001b[39m [==============>                          ]  34.4 %                         ]  35.2 %\u001b[36m\u001b[1mFetching:\u001b[22m\u001b[39m [================>                        ]  38.2 %\u001b[36m\u001b[1mFetching:\u001b[22m\u001b[39m [================>                        ]  39.8 %\u001b[36m\u001b[1mFetching:\u001b[22m\u001b[39m [=================>                       ]  41.0 %\u001b[36m\u001b[1mFetching:\u001b[22m\u001b[39m [==================>                      ]  44.8 %\u001b[36m\u001b[1mFetching:\u001b[22m\u001b[39m [==================>                      ]  45.0 %\u001b[36m\u001b[1mFetching:\u001b[22m\u001b[39m [===================>                     ]  45.4 %\u001b[36m\u001b[1mFetching:\u001b[22m\u001b[39m [===================>                     ]  46.0 %\u001b[36m\u001b[1mFetching:\u001b[22m\u001b[39m [===================>                     ]  46.2 %\u001b[36m\u001b[1mFetching:\u001b[22m\u001b[39m [===================>                     ]  46.4 %\u001b[36m\u001b[1mFetching:\u001b[22m\u001b[39m [===================>                     ]  46.6 %\u001b[36m\u001b[1mFetching:\u001b[22m\u001b[39m [===================>                     ]  47.4 %\u001b[36m\u001b[1mFetching:\u001b[22m\u001b[39m [====================>                    ]  47.6 %\u001b[36m\u001b[1mFetching:\u001b[22m\u001b[39m [====================>                    ]  47.8 %\u001b[36m\u001b[1mFetching:\u001b[22m\u001b[39m [====================>                    ]  48.0 %\u001b[36m\u001b[1mFetching:\u001b[22m\u001b[39m [====================>                    ]  48.2 %\u001b[36m\u001b[1mFetching:\u001b[22m\u001b[39m [====================>                    ]  48.4 %\u001b[36m\u001b[1mFetching:\u001b[22m\u001b[39m [====================>                    ]  49.0 %\u001b[36m\u001b[1mFetching:\u001b[22m\u001b[39m [======================>                  ]  52.6 %\u001b[36m\u001b[1mFetching:\u001b[22m\u001b[39m [======================>                  ]  53.6 %\u001b[36m\u001b[1mFetching:\u001b[22m\u001b[39m [======================>                  ]  54.2 %\u001b[36m\u001b[1mFetching:\u001b[22m\u001b[39m [======================>                  ]  54.8 %\u001b[36m\u001b[1mFetching:\u001b[22m\u001b[39m [=======================>                 ]  55.4 %\u001b[36m\u001b[1mFetching:\u001b[22m\u001b[39m [=======================>                 ]  55.6 %\u001b[36m\u001b[1mFetching:\u001b[22m\u001b[39m [=======================>                 ]  56.2 %\u001b[36m\u001b[1mFetching:\u001b[22m\u001b[39m [=======================>                 ]  56.8 %\u001b[36m\u001b[1mFetching:\u001b[22m\u001b[39m [=======================>                 ]  57.2 %\u001b[36m\u001b[1mFetching:\u001b[22m\u001b[39m [========================>                ]  57.6 %\u001b[36m\u001b[1mFetching:\u001b[22m\u001b[39m [========================>                ]  59.6 %]  63.5 %\u001b[36m\u001b[1mFetching:\u001b[22m\u001b[39m [==========================>              ]  64.0 %\u001b[36m\u001b[1mFetching:\u001b[22m\u001b[39m [==========================>              ]  64.6 %\u001b[36m\u001b[1mFetching:\u001b[22m\u001b[39m [===========================>             ]  65.4 %\u001b[36m\u001b[1mFetching:\u001b[22m\u001b[39m [===========================>             ]  66.0 %\u001b[36m\u001b[1mFetching:\u001b[22m\u001b[39m [===========================>             ]  67.0 %\u001b[36m\u001b[1mFetching:\u001b[22m\u001b[39m [===========================>             ]  67.4 %\u001b[36m\u001b[1mFetching:\u001b[22m\u001b[39m [============================>            ]  68.6 %\u001b[36m\u001b[1mFetching:\u001b[22m\u001b[39m [=============================>           ]  71.8 %\u001b[36m\u001b[1mFetching:\u001b[22m\u001b[39m [==============================>          ]  73.6 %\u001b[36m\u001b[1mFetching:\u001b[22m\u001b[39m [==============================>          ]  74.0 %\u001b[36m\u001b[1mFetching:\u001b[22m\u001b[39m [===============================>         ]  75.6 %\u001b[36m\u001b[1mFetching:\u001b[22m\u001b[39m [================================>        ]  78.4 %\u001b[36m\u001b[1mFetching:\u001b[22m\u001b[39m [================================>        ]  79.0 %\u001b[36m\u001b[1mFetching:\u001b[22m\u001b[39m [================================>        ]  79.6 %\u001b[36m\u001b[1mFetching:\u001b[22m\u001b[39m [=================================>       ]  81.7 %\u001b[36m\u001b[1mFetching:\u001b[22m\u001b[39m [==================================>      ]  82.7 %\u001b[36m\u001b[1mFetching:\u001b[22m\u001b[39m [==================================>      ]  83.3 %\u001b[36m\u001b[1mFetching:\u001b[22m\u001b[39m [==================================>      ]  83.7 %\u001b[36m\u001b[1mFetching:\u001b[22m\u001b[39m [==================================>      ]  84.7 %\u001b[36m\u001b[1mFetching:\u001b[22m\u001b[39m [===================================>     ]  85.7 %\u001b[36m\u001b[1mFetching:\u001b[22m\u001b[39m [===================================>     ]  86.3 %\u001b[36m\u001b[1mFetching:\u001b[22m\u001b[39m [===================================>     ]  86.7 %\u001b[36m\u001b[1mFetching:\u001b[22m\u001b[39m [===================================>     ]  87.1 %\u001b[36m\u001b[1mFetching:\u001b[22m\u001b[39m [===================================>     ]  87.5 %\u001b[36m\u001b[1mFetching:\u001b[22m\u001b[39m [====================================>    ]  88.5 %\u001b[36m\u001b[1mFetching:\u001b[22m\u001b[39m [====================================>    ]  88.9 %\u001b[36m\u001b[1mFetching:\u001b[22m\u001b[39m [====================================>    ]  89.1 %\u001b[36m\u001b[1mFetching:\u001b[22m\u001b[39m [====================================>    ]  89.9 %\u001b[36m\u001b[1mFetching:\u001b[22m\u001b[39m [=====================================>   ]  90.1 %\u001b[36m\u001b[1mFetching:\u001b[22m\u001b[39m [=====================================>   ]  90.3 %\u001b[36m\u001b[1mFetching:\u001b[22m\u001b[39m [=====================================>   ]  90.5 %\u001b[36m\u001b[1mFetching:\u001b[22m\u001b[39m [=====================================>   ]  90.7 %\u001b[36m\u001b[1mFetching:\u001b[22m\u001b[39m [=====================================>   ]  90.9 %\u001b[36m\u001b[1mFetching:\u001b[22m\u001b[39m [=====================================>   ]  91.3 %\u001b[36m\u001b[1mFetching:\u001b[22m\u001b[39m [=====================================>   ]  91.5 %\u001b[36m\u001b[1mFetching:\u001b[22m\u001b[39m [=====================================>   ]  92.3 %\u001b[36m\u001b[1mFetching:\u001b[22m\u001b[39m [=====================================>   ]  92.5 %\u001b[36m\u001b[1mFetching:\u001b[22m\u001b[39m [======================================>  ]  92.9 %\u001b[36m\u001b[1mFetching:\u001b[22m\u001b[39m [======================================>  ]  94.1 %\u001b[36m\u001b[1mFetching:\u001b[22m\u001b[39m [======================================>  ]  94.9 % [=======================================> ]  95.4 %\u001b[36m\u001b[1mFetching:\u001b[22m\u001b[39m [========================================>]  97.7 %\u001b[36m\u001b[1mFetching:\u001b[22m\u001b[39m [========================================>]  97.8 %\u001b[36m\u001b[1mFetching:\u001b[22m\u001b[39m [========================================>]  97.9 %\u001b[36m\u001b[1mFetching:\u001b[22m\u001b[39m [========================================>]  98.0 %\u001b[36m\u001b[1mFetching:\u001b[22m\u001b[39m [========================================>]  98.1 %\u001b[36m\u001b[1mFetching:\u001b[22m\u001b[39m [========================================>]  98.2 %\u001b[36m\u001b[1mFetching:\u001b[22m\u001b[39m [========================================>]  98.4 %\u001b[36m\u001b[1mFetching:\u001b[22m\u001b[39m [========================================>]  98.5 %\u001b[36m\u001b[1mFetching:\u001b[22m\u001b[39m [========================================>]  98.6 %\u001b[36m\u001b[1mFetching:\u001b[22m\u001b[39m [========================================>]  98.7 %\u001b[36m\u001b[1mFetching:\u001b[22m\u001b[39m [========================================>]  98.8 %\u001b[36m\u001b[1mFetching:\u001b[22m\u001b[39m [========================================>]  98.9 %\u001b[36m\u001b[1mFetching:\u001b[22m\u001b[39m [========================================>]  99.0 %\u001b[36m\u001b[1mFetching:\u001b[22m\u001b[39m [========================================>]  99.1 %\u001b[36m\u001b[1mFetching:\u001b[22m\u001b[39m [========================================>]  99.2 %\u001b[36m\u001b[1mFetching:\u001b[22m\u001b[39m [========================================>]  99.3 %\u001b[36m\u001b[1mFetching:\u001b[22m\u001b[39m [========================================>]  99.5 %\u001b[36m\u001b[1mFetching:\u001b[22m\u001b[39m [========================================>]  99.7 %\u001b[36m\u001b[1mFetching:\u001b[22m\u001b[39m [========================================>]  99.8 %\u001b[36m\u001b[1mFetching:\u001b[22m\u001b[39m [========================================>]  100.0 %\r"
     ]
    }
   ],
   "source": [
    "pkgs = [\n",
    "\"LightGraphs\",\n",
    "\"MetaGraphs\",\n",
    "\"BioSequences\",\n",
    "\"uCSV\",\n",
    "\"DataFrames\",\n",
    "\"FASTX\",\n",
    "\"HTTP\",\n",
    "\"CodecZlib\",\n",
    "\"DataStructures\",\n",
    "\"Revise\",\n",
    "\"ProgressMeter\",\n",
    "\"BenchmarkTools\",\n",
    "\"Random\",\n",
    "\"StatsBase\",\n",
    "\"SparseArrays\",\n",
    "\"Statistics\",\n",
    "\"BioAlignments\",\n",
    "\"NumericIO\",\n",
    "\"Primes\"\n",
    "]\n",
    "\n",
    "import Pkg\n",
    "Pkg.add(pkgs)\n",
    "for pkg in pkgs\n",
    "    eval(Meta.parse(\"import $(basename(pkg))\"))\n",
    "end\n",
    "\n",
    "import Mycelia"
   ]
  },
  {
   "cell_type": "code",
   "execution_count": 114,
   "metadata": {},
   "outputs": [
    {
     "data": {
      "text/plain": [
       "run_viterbi! (generic function with 1 method)"
      ]
     },
     "execution_count": 114,
     "metadata": {},
     "output_type": "execute_result"
    }
   ],
   "source": [
    "function run_viterbi!(\n",
    "        current_state,\n",
    "        prior_state,\n",
    "        observed_nucleotide,\n",
    "        observed_quality_score,\n",
    "        observed_error_rate,\n",
    "        current_vertex,\n",
    "        prior_vertex,\n",
    "        state_likelihoods,\n",
    "        transition_likelihoods,\n",
    "        shortest_paths,\n",
    "        arrival_paths,\n",
    "        kmer_graph,\n",
    "        kmer_likelihoods\n",
    "        )\n",
    "    # if probability of prior state is lower than current probability, skip\n",
    "\n",
    "#     if current_state == 45\n",
    "#         @show current_vertex\n",
    "#         @show prior_vertex\n",
    "#     end\n",
    "    current_state_likelihood = state_likelihoods[current_vertex, current_state]\n",
    "\n",
    "    prior_state_likelihood = state_likelihoods[prior_vertex, prior_state]\n",
    "\n",
    "    # if we already have a better possible path, skip calculating anything\n",
    "    if prior_state_likelihood < current_state_likelihood\n",
    "        return\n",
    "    end\n",
    "\n",
    "    # take shortest path and assume it's the maximum likelihood path\n",
    "    # this assumption seems fair because in an ideal situation\n",
    "    # we're just moving to an adjacent kmer\n",
    "    # and the shortest path and most likely path should be the same\n",
    "    shortest_path = shortest_paths[prior_vertex][current_vertex]\n",
    "\n",
    "#     no path & not considering insertion\n",
    "    if isempty(shortest_path) && (prior_vertex != current_vertex)\n",
    "        @error \"can I even get here?\"\n",
    "#         @info \"can I even get here?\"\n",
    "        return\n",
    "    end\n",
    "\n",
    "    # single step - either match or mismatch\n",
    "\n",
    "    # multistep path - deletion in observed sequence relative to kmer graph\n",
    "\n",
    "    # one or more step path - match, mismatch, or deletion in observed sequence relative to kmer graph\n",
    "    # (vertex, orientation) = last(arrival_paths[prior_vertex, prior_state])\n",
    "    if !isempty(shortest_path)\n",
    "\n",
    "        initial_path_state = last(arrival_paths[prior_vertex, prior_state])\n",
    "\n",
    "        path = Vector{typeof(initial_path_state)}(undef, length(shortest_path))\n",
    "        path[1] = initial_path_state\n",
    "\n",
    "        path_likelihood::Float64 = state_likelihoods[prior_vertex, prior_state]\n",
    "\n",
    "        for i in 2:length(shortest_path)\n",
    "\n",
    "            this_vertex = shortest_path[i]\n",
    "            prior_vertex, prior_orientation = path[i-1]\n",
    "            edge = LightGraphs.Edge(prior_vertex, this_vertex)\n",
    "\n",
    "            possible_edge_orientations::Set{NamedTuple{(:source_orientation, :destination_orientation), Tuple{Bool, Bool}}} = kmer_graph.eprops[edge][:orientations]\n",
    "            \n",
    "            if !ismissing(prior_orientation)\n",
    "                possible_edge_orientations = filter(o -> o.source_orientation == prior_orientation, possible_edge_orientations)\n",
    "            end\n",
    "            \n",
    "            if isempty(possible_edge_orientations)\n",
    "                path_likelihood *= 0.0\n",
    "                path = Vector{eltype(path)}()\n",
    "                break\n",
    "            end\n",
    "\n",
    "            if ismissing(prior_orientation)\n",
    "                transition_likelihood = \n",
    "                    max(transition_likelihoods[true][prior_vertex, this_vertex],\n",
    "                        transition_likelihoods[false][prior_vertex, this_vertex])::Float64\n",
    "            else\n",
    "                transition_likelihood = transition_likelihoods[prior_orientation][prior_vertex, this_vertex]::Float64\n",
    "            end\n",
    "            state_likelihood::Float64 = kmer_likelihoods[this_vertex]\n",
    "            path_likelihood *= transition_likelihood * state_likelihood\n",
    "            \n",
    "            if length(possible_edge_orientations) == 1\n",
    "                orientation = first(possible_edge_orientations).destination_orientation\n",
    "                path[i] = this_vertex => orientation\n",
    "            else\n",
    "                path[i] = this_vertex => missing\n",
    "            end\n",
    "        end\n",
    "\n",
    "        # see if new nucleotide is a match or mismatch to terminal kmer in path\n",
    "        if !isempty(path) && path_likelihood > 0\n",
    "            terminal_kmer_index, terminal_kmer_orientation = last(path)\n",
    "            terminal_kmer = BioSequences.LongDNASeq(kmer_graph.vprops[terminal_kmer_index][:kmer])::BioSequences.LongDNASeq\n",
    "            if ismissing(terminal_kmer_orientation)\n",
    "                fw_is_match = observed_nucleotide == last(terminal_kmer)\n",
    "                bw_is_match = observed_nucleotide == last(BioSequences.reverse_complement!(terminal_kmer))\n",
    "                if fw_ismatch && !bw_is_match\n",
    "                    path[end] = terminal_kmer_index => true\n",
    "                    path_likelihood *= 1 - observed_error_rate\n",
    "                elseif !fw_ismatch && bw_is_match\n",
    "                    path[end] = terminal_kmer_index => false\n",
    "                    path_likelihood *= 1 - observed_error_rate\n",
    "                elseif fw_ismatch && bw_is_match\n",
    "                    path_likelihood *= 1 - observed_error_rate\n",
    "                elseif !fw_ismatch && !bw_is_match\n",
    "                    path_likelihood *= observed_error_rate\n",
    "                end\n",
    "            elseif terminal_kmer_orientation\n",
    "                is_match = observed_nucleotide == last(terminal_kmer)\n",
    "                if is_match\n",
    "                    path_likelihood *= 1 - observed_error_rate\n",
    "                else\n",
    "                    path_likelihood *= observed_error_rate\n",
    "                end\n",
    "            else\n",
    "                terminal_kmer = BioSequences.reverse_complement!(terminal_kmer)\n",
    "                is_match = observed_nucleotide == last(terminal_kmer)\n",
    "                if is_match\n",
    "                    path_likelihood *= 1 - observed_error_rate\n",
    "                else\n",
    "                    path_likelihood *= observed_error_rate\n",
    "                end\n",
    "            end\n",
    "        end\n",
    "\n",
    "        if path_likelihood > state_likelihoods[current_vertex, current_state]\n",
    "            state_likelihoods[current_vertex, current_state] = path_likelihood\n",
    "            arrival_paths[current_vertex, current_state] = path\n",
    "        end\n",
    "    # zero step path - insertion in observed sequence relative to kmer graph\n",
    "    elseif current_vertex == prior_vertex\n",
    "        emission_likelihood = observed_error_rate\n",
    "        transition_likelihood = observed_error_rate\n",
    "        state_likelihood = kmer_likelihoods[current_vertex]\n",
    "        current_state_likelihood = prior_state_likelihood * emission_likelihood * transition_likelihood * state_likelihood\n",
    "\n",
    "        if current_state_likelihood > state_likelihoods[current_vertex, current_state]\n",
    "            state_likelihoods[current_vertex, current_state] = current_state_likelihood\n",
    "            arrival_paths[current_vertex, current_state] = arrival_paths[prior_vertex, prior_state]\n",
    "        end\n",
    "    end\n",
    "    return\n",
    "end"
   ]
  },
  {
   "cell_type": "code",
   "execution_count": 4,
   "metadata": {},
   "outputs": [
    {
     "data": {
      "text/plain": [
       "error_rate_to_q_value (generic function with 1 method)"
      ]
     },
     "execution_count": 4,
     "metadata": {},
     "output_type": "execute_result"
    }
   ],
   "source": [
    "function q_value_to_error_rate(q_value)\n",
    "    error_rate = 10^(q_value/(-10))\n",
    "    return error_rate\n",
    "end\n",
    "\n",
    "function error_rate_to_q_value(error_rate)\n",
    "    q_value = -10 * log10(error_rate)\n",
    "    return q_value\n",
    "end"
   ]
  },
  {
   "cell_type": "code",
   "execution_count": 5,
   "metadata": {},
   "outputs": [
    {
     "data": {
      "text/plain": [
       "initialize_transition_probabilities (generic function with 1 method)"
      ]
     },
     "execution_count": 5,
     "metadata": {},
     "output_type": "execute_result"
    }
   ],
   "source": [
    "function initialize_transition_probabilities(kmer_graph)\n",
    "    \n",
    "    total_kmers = LightGraphs.nv(kmer_graph)\n",
    "    transition_likelihoods = Dict(\n",
    "        true => SparseArrays.spzeros(total_kmers, total_kmers),\n",
    "        false => SparseArrays.spzeros(total_kmers, total_kmers)\n",
    "    )\n",
    "\n",
    "    for edge in collect(LightGraphs.edges(kmer_graph))\n",
    "        weight = length(kmer_graph.eprops[edge][:evidence])\n",
    "        for o in kmer_graph.eprops[edge][:orientations]\n",
    "            transition_likelihoods[o.source_orientation][edge.src, edge.dst] = weight\n",
    "        end\n",
    "    end\n",
    "\n",
    "    for source_orientation in (true, false)\n",
    "        for src in 1:total_kmers\n",
    "            transition_weights = transition_likelihoods[source_orientation][src, :]\n",
    "            total_weight = sum(transition_weights)\n",
    "            dsts, vals = SparseArrays.findnz(transition_weights)\n",
    "            for (dst, val) in zip(dsts, vals) \n",
    "                transition_likelihoods[source_orientation][src, dst] = val / total_weight\n",
    "            end\n",
    "            normalized_probability = sum(transition_likelihoods[source_orientation][src, :])\n",
    "            @assert isapprox(normalized_probability, 0) || isapprox(normalized_probability, 1)\n",
    "        end\n",
    "    end\n",
    "    return transition_likelihoods\n",
    "end"
   ]
  },
  {
   "cell_type": "code",
   "execution_count": 93,
   "metadata": {},
   "outputs": [
    {
     "data": {
      "text/plain": [
       "set_initial_state_likelihoods! (generic function with 1 method)"
      ]
     },
     "execution_count": 93,
     "metadata": {},
     "output_type": "execute_result"
    }
   ],
   "source": [
    "function set_initial_state_likelihoods!(\n",
    "        kmer_graph,\n",
    "        canonical_kmer,\n",
    "        kmer_likelihoods,\n",
    "        error_rate,\n",
    "        state_likelihoods,\n",
    "        arrival_paths\n",
    "    )\n",
    "    for vertex in collect(LightGraphs.vertices(kmer_graph))\n",
    "        hidden_kmer = kmer_graph.vprops[vertex][:kmer]\n",
    "\n",
    "        fw_alignment = \n",
    "            BioAlignments.pairalign(\n",
    "                BioAlignments.LevenshteinDistance(), \n",
    "                initial_state.fw, \n",
    "                hidden_kmer)\n",
    "\n",
    "        fw_probability = kmer_likelihoods[vertex]\n",
    "\n",
    "        for match in 1:BioAlignments.count_matches(BioAlignments.alignment(fw_alignment))\n",
    "            fw_probability *= 1 - error_rate\n",
    "        end\n",
    "\n",
    "        for edit in 1:fw_alignment.value\n",
    "            fw_probability *= error_rate\n",
    "        end\n",
    "\n",
    "        bw_alignment = \n",
    "            BioAlignments.pairalign(\n",
    "                BioAlignments.LevenshteinDistance(),\n",
    "                initial_state.bw,\n",
    "                hidden_kmer)\n",
    "\n",
    "        bw_probability = kmer_likelihoods[vertex]\n",
    "\n",
    "        for match in 1:BioAlignments.count_matches(BioAlignments.alignment(bw_alignment))\n",
    "            bw_probability *= 1 - error_rate\n",
    "        end\n",
    "\n",
    "        for edit in 1:bw_alignment.value\n",
    "            bw_probability *= error_rate\n",
    "        end\n",
    "\n",
    "        if fw_probability > bw_probability\n",
    "            state_probability = fw_probability\n",
    "            state_orientation = true\n",
    "        elseif fw_probability < bw_probability\n",
    "            state_probability = bw_probability\n",
    "            state_orientation = false\n",
    "        else fw_probability == bw_probability\n",
    "            state_probability = fw_probability\n",
    "            state_orientation = missing\n",
    "        end\n",
    "        state_likelihoods[vertex, 1] = state_probability\n",
    "        arrival_paths[vertex, 1] = [vertex => state_orientation]\n",
    "    end\n",
    "end"
   ]
  },
  {
   "cell_type": "code",
   "execution_count": 7,
   "metadata": {},
   "outputs": [
    {
     "data": {
      "text/plain": [
       "oriented_path_to_sequence (generic function with 1 method)"
      ]
     },
     "execution_count": 7,
     "metadata": {},
     "output_type": "execute_result"
    }
   ],
   "source": [
    "function oriented_path_to_sequence(kmer_graph, oriented_path)\n",
    "    initial_kmer, initial_orientation = first(oriented_path)\n",
    "    k = kmer_graph.gprops[:k]\n",
    "    sequence = BioSequences.LongDNASeq(kmer_graph.vprops[initial_kmer][:kmer])\n",
    "    if !initial_orientation\n",
    "        sequence = BioSequences.reverse_complement(sequence)\n",
    "    end\n",
    "    for (kmer, orientation) in oriented_path[2:end]\n",
    "        kmer_seq = BioSequences.LongDNASeq(kmer_graph.vprops[kmer][:kmer])\n",
    "        if !orientation\n",
    "            kmer_seq = BioSequences.reverse_complement(kmer_seq)\n",
    "        end\n",
    "        if sequence[end-k+2:end] != kmer_seq[1:end-1]\n",
    "            @show sequence[end-k+2:end]\n",
    "            @show kmer_seq[1:end-1]\n",
    "            @error \"\"\n",
    "        end\n",
    "#         @assert sequence[end-k+2:end] == kmer_seq[1:end-1]\n",
    "        push!(sequence, last(kmer_seq))\n",
    "    end\n",
    "    return sequence\n",
    "end"
   ]
  },
  {
   "cell_type": "code",
   "execution_count": 8,
   "metadata": {},
   "outputs": [
    {
     "data": {
      "text/plain": [
       "sequence_to_oriented_path (generic function with 1 method)"
      ]
     },
     "execution_count": 8,
     "metadata": {},
     "output_type": "execute_result"
    }
   ],
   "source": [
    "function sequence_to_oriented_path(sequence, kmers::Vector{T}) where {T <: BioSequences.AbstractMer{A, K}} where {A, K}\n",
    "    observed_path = Vector{Pair{Int, Bool}}(undef, length(sequence)-K+1)\n",
    "    for (i, kmer) in enumerate(BioSequences.each(T, sequence))\n",
    "        canonical_kmer = BioSequences.canonical(kmer.fw)\n",
    "        index = Mycelia.get_kmer_index(kmers, canonical_kmer)\n",
    "        orientation = kmer.fw == canonical_kmer\n",
    "        observed_path[i] = index => orientation\n",
    "    end\n",
    "    return observed_path\n",
    "end"
   ]
  },
  {
   "cell_type": "code",
   "execution_count": 96,
   "metadata": {},
   "outputs": [
    {
     "data": {
      "text/plain": [
       "missing"
      ]
     },
     "execution_count": 96,
     "metadata": {},
     "output_type": "execute_result"
    }
   ],
   "source": [
    "(1 => true) == (1 => missing)"
   ]
  },
  {
   "cell_type": "code",
   "execution_count": 98,
   "metadata": {},
   "outputs": [
    {
     "data": {
      "text/plain": [
       "true"
      ]
     },
     "execution_count": 98,
     "metadata": {},
     "output_type": "execute_result"
    }
   ],
   "source": [
    "isequal(missing, missing)"
   ]
  },
  {
   "cell_type": "code",
   "execution_count": 100,
   "metadata": {},
   "outputs": [
    {
     "data": {
      "text/plain": [
       "true"
      ]
     },
     "execution_count": 100,
     "metadata": {},
     "output_type": "execute_result"
    }
   ],
   "source": [
    "ismissing(missing)"
   ]
  },
  {
   "cell_type": "code",
   "execution_count": 99,
   "metadata": {},
   "outputs": [
    {
     "data": {
      "text/plain": [
       "false"
      ]
     },
     "execution_count": 99,
     "metadata": {},
     "output_type": "execute_result"
    }
   ],
   "source": [
    "isequal(true, missing)"
   ]
  },
  {
   "cell_type": "code",
   "execution_count": 10,
   "metadata": {},
   "outputs": [
    {
     "data": {
      "text/plain": [
       "oriented_path_to_likelihood (generic function with 1 method)"
      ]
     },
     "execution_count": 10,
     "metadata": {},
     "output_type": "execute_result"
    }
   ],
   "source": [
    "# they way this is currently implemented, it can't handle kmers not present in the graph\n",
    "function oriented_path_to_likelihood(kmer_graph, kmers, kmer_likelihoods, transition_likelihoods, fastq_record)\n",
    "    original_oriented_path = sequence_to_oriented_path(FASTX.sequence(fastq_record), kmers)\n",
    "    path_likelihood = kmer_likelihoods[first(first(original_oriented_path))]\n",
    "\n",
    "    for q_value in FASTX.quality(fastq_record)[1:kmer_graph.gprops[:k]]\n",
    "        error_rate = q_value_to_error_rate(q_value)\n",
    "        accuracy = 1 - error_rate\n",
    "        path_likelihood *= accuracy\n",
    "    end\n",
    "\n",
    "    for index in 2:length(original_oriented_path)\n",
    "        kmer, orientation = original_oriented_path[index]\n",
    "        prior_kmer, prior_orientation = original_oriented_path[index-1]\n",
    "        state_likelihood = kmer_likelihoods[kmer]\n",
    "        transition_likelihood = transition_likelihoods[prior_orientation][prior_kmer, kmer]\n",
    "        sequence_index = kmer_graph.gprops[:k] + index - 1\n",
    "        state_q_value = FASTX.quality(fastq_record)[sequence_index]\n",
    "        state_error_likelihood = q_value_to_error_rate(state_q_value)\n",
    "        emission_likelihood = 1 - state_error_likelihood \n",
    "        path_likelihood *= state_likelihood * transition_likelihood * emission_likelihood\n",
    "    end\n",
    "    return path_likelihood\n",
    "end"
   ]
  },
  {
   "cell_type": "code",
   "execution_count": 133,
   "metadata": {},
   "outputs": [
    {
     "data": {
      "text/plain": [
       "determine_maximum_likelihood_path (generic function with 1 method)"
      ]
     },
     "execution_count": 133,
     "metadata": {},
     "output_type": "execute_result"
    }
   ],
   "source": [
    "function determine_maximum_likelihood_path(\n",
    "    state_likelihoods,\n",
    "    arrival_paths\n",
    "    )\n",
    "    maximum_likelihood_value = maximum(state_likelihoods[:, end])\n",
    "\n",
    "    maximum_likelihood_path_indices = findall(state_likelihoods[:, end] .== maximum_likelihood_value)\n",
    "\n",
    "    # if multiple paths are tied, randomly choose one\n",
    "    maximum_likelihood_path_index = rand(maximum_likelihood_path_indices)\n",
    "\n",
    "    maximum_likelihood_path = arrival_paths[maximum_likelihood_path_index, end]\n",
    "\n",
    "    for index in size(state_likelihoods, 2)-1:-1:1\n",
    "    #     @show index\n",
    "        prior_state, prior_orientation = first(maximum_likelihood_path)\n",
    "        maximum_likelihood_arrival_path = arrival_paths[prior_state, index]\n",
    "        \n",
    "        is_match = last(maximum_likelihood_arrival_path) == (prior_state => prior_orientation)\n",
    "        if !ismissing(is_match) && !is_match\n",
    "            @show index\n",
    "            @show maximum_likelihood_arrival_path\n",
    "            @show (prior_state => prior_orientation)\n",
    "            error(\"breaking\")\n",
    "        end\n",
    "        maximum_likelihood_path = vcat(maximum_likelihood_arrival_path[1:end-1], maximum_likelihood_path)\n",
    "    end\n",
    "    return maximum_likelihood_path, maximum_likelihood_value\n",
    "end\n"
   ]
  },
  {
   "cell_type": "code",
   "execution_count": 177,
   "metadata": {},
   "outputs": [
    {
     "data": {
      "text/plain": [
       "polish_fastq (generic function with 1 method)"
      ]
     },
     "execution_count": 177,
     "metadata": {},
     "output_type": "execute_result"
    }
   ],
   "source": [
    "function polish_fastq(kmer_graph, fastq_file)\n",
    "\n",
    "    @info \"Assessing kmer likelihoods\"\n",
    "    kmers = [kmer_graph.vprops[v][:kmer] for v in LightGraphs.vertices(kmer_graph)]\n",
    "    kmer_counts = [length(kmer_graph.vprops[v][:evidence]) for v in LightGraphs.vertices(kmer_graph)]\n",
    "    kmer_likelihoods = kmer_counts ./ sum(kmer_counts)\n",
    "    kmer_type = BioSequences.BigDNAMer{kmer_graph.gprops[:k]}\n",
    "    total_kmers = length(kmers)\n",
    "    \n",
    "    @info \"determining shortest paths between kmers\"\n",
    "    @time shortest_paths = LightGraphs.enumerate_paths(LightGraphs.floyd_warshall_shortest_paths(kmer_graph));\n",
    "\n",
    "    \n",
    "    @info \"counting the number of records to establish runtime estimate\"\n",
    "    number_of_records = 0\n",
    "    for fastq_record in FASTX.FASTQ.Reader(open(fastq_file))\n",
    "        number_of_records += 1\n",
    "    end\n",
    "    progress_bar = ProgressMeter.Progress(number_of_records, 1)\n",
    "    \n",
    "    output_fastq_file = replace(fastq_file, \".fastq\" => \".k$(kmer_graph.gprops[:k]).fastq\")\n",
    "    fastq_writer = FASTX.FASTQ.Writer(open(output_fastq_file, \"w\"))\n",
    "    for fastq_record in FASTX.FASTQ.Reader(open(fastq_file))\n",
    "        ProgressMeter.next!(progress_bar)\n",
    "        \n",
    "        @info \"Initializing matrices\"\n",
    "        total_states = length(FASTX.sequence(fastq_record))-k+1\n",
    "        transition_likelihoods = initialize_transition_probabilities(kmer_graph)\n",
    "        state_likelihoods = zeros(total_kmers, total_states)\n",
    "        arrival_paths = fill(Pair{Int, Union{Bool, Missing}}[], total_kmers, total_states)\n",
    "\n",
    "        @info \"Determining Likelihoods of initial states\"\n",
    "        initial_state = first(BioSequences.each(kmer_type, FASTX.sequence(fastq_record)))\n",
    "        current_state = 1\n",
    "        # note this is a place for potential improvement, use the q value at each base to guide probability rather than median\n",
    "        median_q_value = Statistics.median(Int.(FASTX.quality(fastq_record)[1:k]))\n",
    "        current_error_rate = q_value_to_error_rate(median_q_value)\n",
    "        # canonical_kmer = BioSequences.canonical(initial_state.fw)\n",
    "        set_initial_state_likelihoods!(\n",
    "                kmer_graph,\n",
    "                initial_state,\n",
    "                kmer_likelihoods,\n",
    "                error_rate,\n",
    "                state_likelihoods,\n",
    "                arrival_paths\n",
    "            )\n",
    "\n",
    "        @info \"Determining likelihood of downstream states\"\n",
    "\n",
    "        non_singleton_states = findall(kmer_counts .> 1)\n",
    "\n",
    "        ProgressMeter.@showprogress for current_state in 2:total_states\n",
    "            prior_state = current_state - 1\n",
    "\n",
    "        #     observed_kmer = BioSequences.BigDNAMer{k}(FASTX.sequence(fastq_record)[current_state:current_state+k-1])\n",
    "\n",
    "        #     @assert observed_kmer == collect(BioSequences.each(kmer_type, FASTX.sequence(fastq_record)))[current_state].fw\n",
    "\n",
    "        #     canonical_kmer = BioSequences.canonical(observed_kmer)\n",
    "\n",
    "            observed_nucleotide = FASTX.sequence(fastq_record)[k-1+current_state]\n",
    "        #     observed_nucleotide = last(observed_kmer)\n",
    "            observed_quality_score = FASTX.quality(fastq_record)[k-1+current_state]\n",
    "            observed_error_rate = q_value_to_error_rate(observed_quality_score)\n",
    "\n",
    "            # we'll assess prior states in order of decreasing likelihood\n",
    "            # such that we maximize how frequently we are able to utilize the\n",
    "            # current_state_likelihood > candidate prior state\n",
    "            # break that won't bother evaluating lower likelihood possibilities\n",
    "            prior_states_in_decreasing_likelihood = sortperm(state_likelihoods[:, prior_state], rev=true)\n",
    "\n",
    "            # and skip all prior states with zero probability\n",
    "\n",
    "            for current_vertex in non_singleton_states\n",
    "                for prior_vertex in prior_states_in_decreasing_likelihood\n",
    "                    if state_likelihoods[prior_vertex, prior_state] > 0\n",
    "                        run_viterbi!(\n",
    "                                current_state,\n",
    "                                prior_state,\n",
    "                                observed_nucleotide,\n",
    "                                observed_quality_score,\n",
    "                                observed_error_rate,\n",
    "                                current_vertex,\n",
    "                                prior_vertex,\n",
    "                                state_likelihoods,\n",
    "                                transition_likelihoods,\n",
    "                                shortest_paths,\n",
    "                                arrival_paths,\n",
    "                                kmer_graph,\n",
    "                                kmer_likelihoods\n",
    "                                )\n",
    "                    end\n",
    "                end\n",
    "            end\n",
    "        end\n",
    "\n",
    "        maximum_likelihood_path, maximum_likelihood_value = \n",
    "            determine_maximum_likelihood_path(\n",
    "                state_likelihoods,\n",
    "                arrival_paths\n",
    "                )\n",
    "\n",
    "        sequence = oriented_path_to_sequence(kmer_graph, maximum_likelihood_path)\n",
    "\n",
    "        @info \"comparing to original path\"\n",
    "        original_sequence_likelihood = oriented_path_to_likelihood(kmer_graph, kmers, kmer_likelihoods, transition_likelihoods, fastq_record)\n",
    "        relative_likelihood = maximum_likelihood_value / original_sequence_likelihood\n",
    "        relative_likelihood_formatted = NumericIO.formatted(relative_likelihood, ndigits=1, charset=:ASCII)\n",
    "        println(\"relative likelihood of new path to old path is $(relative_likelihood_formatted)\")\n",
    "\n",
    "        @info \"writing updated record\"\n",
    "        identifier = FASTX.identifier(fastq_record) * \"_k$(k)\"\n",
    "        description = string(relative_likelihood)\n",
    "        # because the sequences won't always be the same length, we take an ordered sampling with replacement\n",
    "        # which introduces some random error but preserves overall patterns and areas of high/low accuracy\n",
    "        quality_scores = StatsBase.sample(FASTX.quality(fastq_record), length(sequence), ordered=true)\n",
    "\n",
    "        new_fastq_record = FASTX.FASTQ.Record(\n",
    "            identifier,\n",
    "            description,\n",
    "            sequence,\n",
    "            quality_scores\n",
    "        )\n",
    "        write(fastq_writer, new_fastq_record)\n",
    "    end\n",
    "    close(fastq_writer)\n",
    "end"
   ]
  },
  {
   "cell_type": "code",
   "execution_count": 12,
   "metadata": {},
   "outputs": [
    {
     "data": {
      "text/plain": [
       "MersenneTwister(0)"
      ]
     },
     "execution_count": 12,
     "metadata": {},
     "output_type": "execute_result"
    }
   ],
   "source": [
    "# set a random seed\n",
    "seed = Random.seed!(0)"
   ]
  },
  {
   "cell_type": "code",
   "execution_count": 13,
   "metadata": {},
   "outputs": [
    {
     "data": {
      "text/plain": [
       "100nt DNA Sequence:\n",
       "AAGGGTGCGGTCTAGGTGCACTGCTTATGGTCCCCGACA…TCTACCTCTTTGTTGAAACGTATTCTTCTCTTAACACCT"
      ]
     },
     "execution_count": 13,
     "metadata": {},
     "output_type": "execute_result"
    }
   ],
   "source": [
    "# randomly generate a dna sequence of 100bp\n",
    "genome = BioSequences.randdnaseq(seed, 100)"
   ]
  },
  {
   "cell_type": "code",
   "execution_count": 14,
   "metadata": {},
   "outputs": [
    {
     "data": {
      "text/plain": [
       "0.1"
      ]
     },
     "execution_count": 14,
     "metadata": {},
     "output_type": "execute_result"
    }
   ],
   "source": [
    "# define error rate\n",
    "error_rate = 0.1"
   ]
  },
  {
   "cell_type": "code",
   "execution_count": 15,
   "metadata": {},
   "outputs": [],
   "source": [
    "# generate 100x coverage fastq file\n",
    "# put accuracy rate into fastq file\n",
    "coverage = 100\n",
    "fastq_file = \"$(DIR)/$(DATE)-$(TASK).fastq\"\n",
    "open(fastq_file, \"w\") do io\n",
    "    fastq_writer = FASTX.FASTQ.Writer(io)\n",
    "    for i in 1:coverage\n",
    "        observed_sequence = Mycelia.observe(genome, error_rate=error_rate)\n",
    "        q = -10 * log10(error_rate)\n",
    "        quality_scores = fill(q, length(observed_sequence))\n",
    "        fastq_record = FASTX.FASTQ.Record(\"i\", observed_sequence, quality_scores)\n",
    "        write(fastq_writer, fastq_record)\n",
    "    end\n",
    "end"
   ]
  },
  {
   "cell_type": "code",
   "execution_count": 16,
   "metadata": {},
   "outputs": [],
   "source": [
    "# build weighted kmer graph\n",
    "# at some point where we may want to record weights as integers rather than lists of evidence, but first confirm the algorithm"
   ]
  },
  {
   "cell_type": "code",
   "execution_count": 17,
   "metadata": {},
   "outputs": [],
   "source": [
    "# k = Int(1/error_rate + 1)"
   ]
  },
  {
   "cell_type": "code",
   "execution_count": 18,
   "metadata": {},
   "outputs": [
    {
     "data": {
      "text/plain": [
       "5"
      ]
     },
     "execution_count": 18,
     "metadata": {},
     "output_type": "execute_result"
    }
   ],
   "source": [
    "Primes.nextprime(3+1)"
   ]
  },
  {
   "cell_type": "code",
   "execution_count": 19,
   "metadata": {},
   "outputs": [
    {
     "name": "stderr",
     "output_type": "stream",
     "text": [
      "┌ Info: assessing k = 3 for kmer sparsity\n",
      "└ @ Main In[19]:5\n",
      "┌ Info: assessing k = 5 for kmer sparsity\n",
      "└ @ Main In[19]:5\n",
      "┌ Info: selecting k = 5 to start error correction procedure\n",
      "└ @ Main In[19]:17\n"
     ]
    }
   ],
   "source": [
    "k = 3\n",
    "total_possible_kmers = (4^k)/2\n",
    "reached_sparsity = false\n",
    "while !reached_sparsity\n",
    "    @info \"assessing k = $k for kmer sparsity\"\n",
    "    kmer_type = BioSequences.BigDNAMer{k}\n",
    "    canonical_kmer_counts = Mycelia.count_canonical_kmers(kmer_type, fastq_file)\n",
    "\n",
    "    reached_sparsity = \n",
    "        # we observed fewer than all possible kmers\n",
    "        (length(keys(canonical_kmer_counts)) < total_possible_kmers) ||\n",
    "        # we have singletons\n",
    "        any(count -> count == 1, values(canonical_kmer_counts))\n",
    "    if !reached_sparsity\n",
    "        k = Primes.nextprime(k+1)\n",
    "    else\n",
    "        @info \"selecting k = $k to start error correction procedure\"\n",
    "    end\n",
    "end"
   ]
  },
  {
   "cell_type": "code",
   "execution_count": 28,
   "metadata": {},
   "outputs": [
    {
     "data": {
      "text/plain": [
       "BioSequences.BigDNAMer{5} (alias for BioSequences.BigMer{BioSequences.DNAAlphabet{2}, 5})"
      ]
     },
     "execution_count": 28,
     "metadata": {},
     "output_type": "execute_result"
    }
   ],
   "source": [
    "kmer_type = BioSequences.BigDNAMer{k}"
   ]
  },
  {
   "cell_type": "code",
   "execution_count": 29,
   "metadata": {},
   "outputs": [
    {
     "name": "stderr",
     "output_type": "stream",
     "text": [
      "┌ Info: assessing kmers\n",
      "└ @ Mycelia /Users/cameronprybol/.julia/dev/Mycelia/src/Mycelia.jl:1877\n",
      "┌ Info: creating graph\n",
      "└ @ Mycelia /Users/cameronprybol/.julia/dev/Mycelia/src/Mycelia.jl:1891\n"
     ]
    },
    {
     "data": {
      "text/plain": [
       "{501, 2900} directed Int64 metagraph with Float64 weights defined by :weight (default weight 1.0)"
      ]
     },
     "execution_count": 29,
     "metadata": {},
     "output_type": "execute_result"
    }
   ],
   "source": [
    "kmer_graph = Mycelia.fastx_to_kmer_graph(kmer_type, fastq_file)"
   ]
  },
  {
   "cell_type": "code",
   "execution_count": 30,
   "metadata": {},
   "outputs": [
    {
     "data": {
      "text/plain": [
       "\"/Users/cameronprybol/2021-06-19-100bp-0.1-error-rate-full/2021-06-19-100bp-0.1-error-rate-full.fastq.k-5.gfa\""
      ]
     },
     "execution_count": 30,
     "metadata": {},
     "output_type": "execute_result"
    }
   ],
   "source": [
    "# visualize\n",
    "gfa_file = fastq_file * \".k-$k.gfa\"\n",
    "Mycelia.graph_to_gfa(kmer_graph, gfa_file)"
   ]
  },
  {
   "cell_type": "code",
   "execution_count": 31,
   "metadata": {},
   "outputs": [
    {
     "data": {
      "text/plain": [
       "Process(`\u001b[4m/Applications/Bandage.app/Contents/MacOS/Bandage\u001b[24m \u001b[4mimage\u001b[24m \u001b[4m/Users/cameronprybol/2021-06-19-100bp-0.1-error-rate-full/2021-06-19-100bp-0.1-error-rate-full.fastq.k-5.gfa\u001b[24m \u001b[4m/Users/cameronprybol/2021-06-19-100bp-0.1-error-rate-full/2021-06-19-100bp-0.1-error-rate-full.fastq.k-5.gfa.svg\u001b[24m \u001b[4m--depwidth\u001b[24m \u001b[4m1\u001b[24m \u001b[4m--deppower\u001b[24m \u001b[4m1\u001b[24m`, ProcessExited(0))"
      ]
     },
     "execution_count": 31,
     "metadata": {},
     "output_type": "execute_result"
    }
   ],
   "source": [
    "run(`/Applications/Bandage.app/Contents/MacOS/Bandage image $(gfa_file) $(gfa_file).svg --depwidth 1 --deppower 1`)\n",
    "# --nodewidth <float> Average node width (0.5 to 1000, default: 5)\n",
    "# --depwidth <float>  Depth effect on width (0 to 1, default: 0.5)\n",
    "# --deppower <float>  Power of depth effect on width (0 to 1, default: 0.5)"
   ]
  },
  {
   "cell_type": "code",
   "execution_count": 32,
   "metadata": {},
   "outputs": [
    {
     "data": {
      "text/plain": [
       "\"./../../../../2021-06-19-100bp-0.1-error-rate-full/2021-06-19-100bp-0.1-error-rate-full.fastq.k-5.gfa.svg\""
      ]
     },
     "execution_count": 32,
     "metadata": {},
     "output_type": "execute_result"
    }
   ],
   "source": [
    "html_path_to_svg = \"./\" * repeat(\"../\", length(split(pwd(), '/')) - 3)\n",
    "html_path_to_svg *= replace(\"$(gfa_file).svg\", \"$(homedir())/\" => \"\")"
   ]
  },
  {
   "cell_type": "code",
   "execution_count": 33,
   "metadata": {},
   "outputs": [
    {
     "data": {
      "text/html": [
       "<img src=./../../../../2021-06-19-100bp-0.1-error-rate-full/2021-06-19-100bp-0.1-error-rate-full.fastq.k-5.gfa.svg>"
      ]
     },
     "metadata": {},
     "output_type": "display_data"
    }
   ],
   "source": [
    "x = \"<img src=$(html_path_to_svg)>\"\n",
    "display(\"text/html\", x)\n",
    "# display(\"image/svg+xml\", read(\"$(gfa_file).svg\", String))"
   ]
  },
  {
   "cell_type": "code",
   "execution_count": 25,
   "metadata": {},
   "outputs": [],
   "source": [
    "# # before sorting prior states by maximum likelihood\n",
    "# # per read\n",
    "# 0:00:41\n",
    "# 0:00:38\n",
    "# 0:00:39\n",
    "\n",
    "# # per dataset\n",
    "# 0:33:30\n",
    "# 0:42:58"
   ]
  },
  {
   "cell_type": "code",
   "execution_count": 178,
   "metadata": {},
   "outputs": [
    {
     "name": "stdout",
     "output_type": "stream",
     "text": [
      "  0.262991 seconds (956.76 k allocations: 85.608 MiB, 13.02% gc time)\n"
     ]
    },
    {
     "name": "stderr",
     "output_type": "stream",
     "text": [
      "┌ Info: Assessing kmer likelihoods\n",
      "└ @ Main In[177]:3\n",
      "┌ Info: determining shortest paths between kmers\n",
      "└ @ Main In[177]:10\n",
      "┌ Info: counting the number of records to establish runtime estimate\n",
      "└ @ Main In[177]:14\n",
      "┌ Info: Initializing matrices\n",
      "└ @ Main In[177]:26\n",
      "┌ Info: Determining Likelihoods of initial states\n",
      "└ @ Main In[177]:32\n",
      "┌ Info: Determining likelihood of downstream states\n",
      "└ @ Main In[177]:48\n",
      "\u001b[32mProgress: 100%|█████████████████████████████████████████| Time: 0:00:57\u001b[39m\n",
      "┌ Info: comparing to original path\n",
      "└ @ Main In[177]:105\n",
      "┌ Info: writing updated record\n",
      "└ @ Main In[177]:111\n",
      "\u001b[32mProgress:   2%|▉                                        |  ETA: 0:46:37\u001b[39m"
     ]
    },
    {
     "name": "stdout",
     "output_type": "stream",
     "text": [
      "relative likelihood of new path to old path is 3E14\n"
     ]
    },
    {
     "name": "stderr",
     "output_type": "stream",
     "text": [
      "┌ Info: Initializing matrices\n",
      "└ @ Main In[177]:26\n",
      "┌ Info: Determining Likelihoods of initial states\n",
      "└ @ Main In[177]:32\n",
      "┌ Info: Determining likelihood of downstream states\n",
      "└ @ Main In[177]:48\n",
      "\u001b[32mProgress: 100%|█████████████████████████████████████████| Time: 0:00:54\u001b[39m\n",
      "┌ Info: comparing to original path\n",
      "└ @ Main In[177]:105\n",
      "┌ Info: writing updated record\n",
      "└ @ Main In[177]:111\n",
      "\u001b[32mProgress:   3%|█▎                                       |  ETA: 1:00:00\u001b[39m"
     ]
    },
    {
     "name": "stdout",
     "output_type": "stream",
     "text": [
      "relative likelihood of new path to old path is 3E10\n"
     ]
    },
    {
     "name": "stderr",
     "output_type": "stream",
     "text": [
      "┌ Info: Initializing matrices\n",
      "└ @ Main In[177]:26\n",
      "┌ Info: Determining Likelihoods of initial states\n",
      "└ @ Main In[177]:32\n",
      "┌ Info: Determining likelihood of downstream states\n",
      "└ @ Main In[177]:48\n",
      "\u001b[32mProgress:  50%|████████████████████▊                    |  ETA: 0:00:29\u001b[39m"
     ]
    },
    {
     "ename": "LoadError",
     "evalue": "InterruptException:",
     "output_type": "error",
     "traceback": [
      "InterruptException:",
      "",
      "Stacktrace:",
      "  [1] Array",
      "    @ ./boot.jl:448 [inlined]",
      "  [2] Dict{NamedTuple{(:source_orientation, :destination_orientation), Tuple{Bool, Bool}}, Nothing}()",
      "    @ Base ./dict.jl:90",
      "  [3] Set",
      "    @ ./set.jl:6 [inlined]",
      "  [4] emptymutable (repeats 2 times)",
      "    @ ./set.jl:35 [inlined]",
      "  [5] filter(pred::Function, s::Set{NamedTuple{(:source_orientation, :destination_orientation), Tuple{Bool, Bool}}})",
      "    @ Base ./abstractset.jl:414",
      "  [6] run_viterbi!(current_state::Int64, prior_state::Int64, observed_nucleotide::BioSymbols.DNA, observed_quality_score::UInt8, observed_error_rate::Float64, current_vertex::Int64, prior_vertex::Int64, state_likelihoods::Matrix{Float64}, transition_likelihoods::Dict{Bool, SparseArrays.SparseMatrixCSC{Float64, Int64}}, shortest_paths::Vector{Vector{Vector{Int64}}}, arrival_paths::Matrix{Vector{Pair{Int64, Union{Missing, Bool}}}}, kmer_graph::MetaGraphs.MetaDiGraph{Int64, Float64}, kmer_likelihoods::Vector{Float64})",
      "    @ Main ./In[114]:68",
      "  [7] macro expansion",
      "    @ ./In[177]:77 [inlined]",
      "  [8] macro expansion",
      "    @ ~/.julia/packages/ProgressMeter/Vf8un/src/ProgressMeter.jl:940 [inlined]",
      "  [9] polish_fastq(kmer_graph::MetaGraphs.MetaDiGraph{Int64, Float64}, fastq_file::String)",
      "    @ Main ./In[177]:52",
      " [10] top-level scope",
      "    @ In[178]:1",
      " [11] eval",
      "    @ ./boot.jl:360 [inlined]",
      " [12] include_string(mapexpr::typeof(REPL.softscope), mod::Module, code::String, filename::String)",
      "    @ Base ./loading.jl:1094"
     ]
    }
   ],
   "source": [
    "polish_fastq(kmer_graph, fastq_file)"
   ]
  }
 ],
 "metadata": {
  "kernelspec": {
   "display_name": "Julia 1.6.1",
   "language": "julia",
   "name": "julia-1.6"
  },
  "language_info": {
   "file_extension": ".jl",
   "mimetype": "application/julia",
   "name": "julia",
   "version": "1.6.1"
  }
 },
 "nbformat": 4,
 "nbformat_minor": 4
}
