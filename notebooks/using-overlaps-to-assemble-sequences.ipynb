{
 "cells": [
  {
   "cell_type": "markdown",
   "metadata": {},
   "source": [
    "---\n",
    "layout: post  \n",
    "\n",
    "---"
   ]
  },
  {
   "cell_type": "markdown",
   "metadata": {},
   "source": [
    "If we want to use DNA to identify species and their relative quantities, we need to be be able to read the species genomes and count how many of each genome we find in each sample. Ideally, we would have the technology to read entire genomes from beginning to end without making any errors. While our technology is rapidly approaching this level of capability, we are not there yet.\n",
    "\n",
    "Because we can't read genomes from beginning to end, we need to be able to take the short fragments that we can read and stitch them together into the original, full length genome. We do this by looking for sequences of DNA that are the same or nearly the same and join them together via the overlap. We'll ignore the possibility of errors for now."
   ]
  },
  {
   "cell_type": "markdown",
   "metadata": {},
   "source": [
    "To begin, we can import some helpful libraries for working with DNA sequences"
   ]
  },
  {
   "cell_type": "code",
   "execution_count": 1,
   "metadata": {},
   "outputs": [],
   "source": [
    "using BioSequences\n",
    "using BioAlignments\n",
    "using Random\n",
    "Random.seed!(3);"
   ]
  },
  {
   "cell_type": "markdown",
   "metadata": {},
   "source": [
    "Let's simulate a genome of 10 DNA base-pairs"
   ]
  },
  {
   "cell_type": "code",
   "execution_count": 2,
   "metadata": {},
   "outputs": [
    {
     "data": {
      "text/plain": [
       "10nt DNA Sequence:\n",
       "TTTTAGAATG"
      ]
     },
     "execution_count": 2,
     "metadata": {},
     "output_type": "execute_result"
    }
   ],
   "source": [
    "genome = randdnaseq(10)"
   ]
  },
  {
   "cell_type": "markdown",
   "metadata": {},
   "source": [
    "Now, let's pretend that, with our best technology, we can only read DNA sequences 7 nucleotides at a time. And to keep the example super simple, we'll pretend we first read from the beginning to the 7th base, and from the 4rd base until the end. We're living in a very idealized world."
   ]
  },
  {
   "cell_type": "code",
   "execution_count": 3,
   "metadata": {},
   "outputs": [
    {
     "data": {
      "text/plain": [
       "7nt DNA Sequence:\n",
       "TTTTAGA"
      ]
     },
     "execution_count": 3,
     "metadata": {},
     "output_type": "execute_result"
    }
   ],
   "source": [
    "fragment_1 = genome[1:7]"
   ]
  },
  {
   "cell_type": "code",
   "execution_count": 4,
   "metadata": {},
   "outputs": [
    {
     "data": {
      "text/plain": [
       "7nt DNA Sequence:\n",
       "TAGAATG"
      ]
     },
     "execution_count": 4,
     "metadata": {},
     "output_type": "execute_result"
    }
   ],
   "source": [
    "fragment_2 = genome[4:end]"
   ]
  },
  {
   "cell_type": "markdown",
   "metadata": {},
   "source": [
    "We can see that these fragments overlap at the end of fragment_1 and the beginning of fragment_2 with the nucleotides 'TAGA'"
   ]
  },
  {
   "cell_type": "code",
   "execution_count": 5,
   "metadata": {},
   "outputs": [
    {
     "data": {
      "text/plain": [
       "PairwiseAlignmentResult{Int64,BioSequence{DNAAlphabet{4}},BioSequence{DNAAlphabet{4}}}:\n",
       "  score: 4\n",
       "  seq: 1 TTTTAGA--- 7\n",
       "            ||||   \n",
       "  ref: 0 ---TAGAATG 7\n"
      ]
     },
     "execution_count": 5,
     "metadata": {},
     "output_type": "execute_result"
    }
   ],
   "source": [
    "pairalign(OverlapAlignment(), fragment_1, fragment_2, AffineGapScoreModel(match=1, mismatch=-1, gap_open=-1, gap_extend=-1))"
   ]
  },
  {
   "cell_type": "markdown",
   "metadata": {},
   "source": [
    "If we are confident in the overlap, we can merge the two fragments into one via the overlap"
   ]
  },
  {
   "cell_type": "code",
   "execution_count": 6,
   "metadata": {},
   "outputs": [
    {
     "data": {
      "text/plain": [
       "true"
      ]
     },
     "execution_count": 6,
     "metadata": {},
     "output_type": "execute_result"
    }
   ],
   "source": [
    "fragment_1 * fragment_2[end-2:end] == genome"
   ]
  },
  {
   "cell_type": "markdown",
   "metadata": {},
   "source": [
    "This overly simplistic example shows the key idea of assembling shorter fragments into longer genomes. We look for overlaps that allow us to continue reading from one sequence of DNA into another sequence of DNA and stitch together the original full length DNA molecule.\n",
    "\n",
    "The key question to decide with this approach is how long the overlaps between sequences need to be before we feel confident that the overlap isn't due to random chance.\n",
    "\n",
    "If we are sequencing a single organism, the minimum length $l$ of an overlap that may be desired before being confident enough to merge overlapping fragments could be $l = log_4(\\text{genome length})$. The idea is that if there are 4 nucleotides, A C G & T, then the combinatorial likelihood that two fragments of unrelated DNA overlap by chance is inversely proportional to $4^l$. If $4^l$ is greater than the length of the genome, then the fragments wouldn't be expected to be the same by chance.\n",
    "\n",
    "So for example, if we have a genome of 1,000 DNA nucleotides and we don't expect long repeats, then the minimum DNA overlap length that we would want would be"
   ]
  },
  {
   "cell_type": "code",
   "execution_count": 7,
   "metadata": {},
   "outputs": [
    {
     "data": {
      "text/plain": [
       "5"
      ]
     },
     "execution_count": 7,
     "metadata": {},
     "output_type": "execute_result"
    }
   ],
   "source": [
    "genome_length = 1000\n",
    "minimum_overlap = Int(ceil(log(4, genome_length)))"
   ]
  },
  {
   "cell_type": "code",
   "execution_count": 8,
   "metadata": {},
   "outputs": [
    {
     "name": "stdout",
     "output_type": "stream",
     "text": [
      "1024\n"
     ]
    }
   ],
   "source": [
    "println(4^minimum_overlap)"
   ]
  },
  {
   "cell_type": "code",
   "execution_count": 9,
   "metadata": {},
   "outputs": [
    {
     "name": "stdout",
     "output_type": "stream",
     "text": [
      "true\n"
     ]
    }
   ],
   "source": [
    "println(4^minimum_overlap > genome_length)"
   ]
  },
  {
   "cell_type": "markdown",
   "metadata": {},
   "source": [
    "If we are sequence a novel genome then we probably do not know how long the genome is. If we don't know how large the genome is then we can't estimate a minimum overlap based on the $l = log_4(\\text{genome length})$ concept. Fortunately, well equipped research labs that routinely sequence and assemble genomes can use physical measures such as the mass of DNA obtained per cell, the genome copy number information from a [karyotype](https://en.wikipedia.org/wiki/Karyotype), and an estimate of the number of cells in a sample to get an accurate approximation of genome size before sequencing and genome assembly begins."
   ]
  },
  {
   "cell_type": "markdown",
   "metadata": {},
   "source": [
    "[Earth may have up to one trillion species](https://www.pnas.org/content/113/21/5970). If we are sequencing and trying to assemble genomes in mixed communities of organisms, then we would ideally have DNA segments long enough that they can be identified to a unique species and to a unique location in the genome of that species. If we assume an average genome size of 1Gb (one billion DNA basepairs) we would want overlaps of:"
   ]
  },
  {
   "cell_type": "code",
   "execution_count": 10,
   "metadata": {},
   "outputs": [
    {
     "data": {
      "text/plain": [
       "31"
      ]
     },
     "execution_count": 10,
     "metadata": {},
     "output_type": "execute_result"
    }
   ],
   "source": [
    "genome_size = 1_000_000_000\n",
    "number_of_species = 1_000_000_000_000\n",
    "minimum_overlap = Int(ceil(log(4, genome_size * number_of_species)))"
   ]
  },
  {
   "cell_type": "markdown",
   "metadata": {},
   "source": [
    "This length of 31 is routinely used for purposes of DNA assembly with high-accuracy Illumina reads of prokaryotic organisms and for identifying DNA reads to species using tools like [Kraken2](https://ccb.jhu.edu/software/kraken2/)"
   ]
  },
  {
   "cell_type": "markdown",
   "metadata": {},
   "source": [
    "Now that we've reviewed our simplified and idealized hypothetical world of genome sequencing and assembly, let's talk about the two major problems that come up during the sequence assembly process:\n",
    "\n",
    "1. Exact repeats within eukaryotic genomes can be several thousand DNA bases in length making a length of 31 insufficient to uniquely identify every segment of DNA in every organism. These long repeats necessitate the use of DNA reads that span the entire length of the repeats and include uniquely identifying sequences on both sides of the repeat.\n",
    "2. No sequencing technology is error free. Illumina sequencing technology is often so accurate that errors can be readily corrected or simply removed and ignored from datasets without too much of an issue. This allows us to assemble sequences by finding exact overlaps between sequences, as shown in the example. Less accurate sequencing technologies that generate longer reads that allow us to span long repeat regions are not accurate enough to utilize exact overlaps in most cases, and therefor we need to utilize DNA alignment approaches that allow for and account for mismatches to find long stretches of approximate overlaps that we feel confident are so closely related that they are not overlapping due to random chance."
   ]
  }
 ],
 "metadata": {
  "kernelspec": {
   "display_name": "Julia 1.5.3",
   "language": "julia",
   "name": "julia-1.5"
  },
  "language_info": {
   "file_extension": ".jl",
   "mimetype": "application/julia",
   "name": "julia",
   "version": "1.5.3"
  }
 },
 "nbformat": 4,
 "nbformat_minor": 4
}
