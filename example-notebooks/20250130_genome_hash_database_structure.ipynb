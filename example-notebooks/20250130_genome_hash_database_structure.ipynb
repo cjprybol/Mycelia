{
  "nbformat": 4,
  "nbformat_minor": 0,
  "metadata": {
    "colab": {
      "provenance": [],
      "authorship_tag": "ABX9TyPTtRwUnQMuClBJi/ByVP8T",
      "include_colab_link": true
    },
    "kernelspec": {
      "name": "python3",
      "display_name": "Python 3"
    },
    "language_info": {
      "name": "python"
    }
  },
  "cells": [
    {
      "cell_type": "markdown",
      "metadata": {
        "id": "view-in-github",
        "colab_type": "text"
      },
      "source": [
        "<a href=\"https://colab.research.google.com/github/cjprybol/Mycelia/blob/master/example-notebooks/20250130_genome_hash_database_structure.ipynb\" target=\"_parent\"><img src=\"https://colab.research.google.com/assets/colab-badge.svg\" alt=\"Open In Colab\"/></a>"
      ]
    },
    {
      "cell_type": "code",
      "execution_count": 1,
      "metadata": {
        "colab": {
          "base_uri": "https://localhost:8080/"
        },
        "id": "ZQ262SOCMisC",
        "outputId": "c5962d67-b53b-4304-89ed-aacf9ecf69a0"
      },
      "outputs": [
        {
          "output_type": "stream",
          "name": "stdout",
          "text": [
            "Reading package lists... Done\n",
            "Building dependency tree... Done\n",
            "Reading state information... Done\n",
            "graphviz is already the newest version (2.42.2-6ubuntu0.1).\n",
            "0 upgraded, 0 newly installed, 0 to remove and 18 not upgraded.\n"
          ]
        }
      ],
      "source": [
        "!sudo apt install graphviz"
      ]
    },
    {
      "cell_type": "code",
      "source": [
        "!pip install graphviz"
      ],
      "metadata": {
        "colab": {
          "base_uri": "https://localhost:8080/"
        },
        "id": "G7OzM-G8M01c",
        "outputId": "a60f11b3-bc18-4070-8986-4d361a1831b0"
      },
      "execution_count": 2,
      "outputs": [
        {
          "output_type": "stream",
          "name": "stdout",
          "text": [
            "Requirement already satisfied: graphviz in /usr/local/lib/python3.11/dist-packages (0.20.3)\n"
          ]
        }
      ]
    },
    {
      "cell_type": "code",
      "source": [
        "pwd()"
      ],
      "metadata": {
        "colab": {
          "base_uri": "https://localhost:8080/",
          "height": 35
        },
        "id": "6mdunzkKOyZi",
        "outputId": "a051e600-9a2f-42ee-8204-ebf53910357d"
      },
      "execution_count": 5,
      "outputs": [
        {
          "output_type": "execute_result",
          "data": {
            "text/plain": [
              "'/content'"
            ],
            "application/vnd.google.colaboratory.intrinsic+json": {
              "type": "string"
            }
          },
          "metadata": {},
          "execution_count": 5
        }
      ]
    },
    {
      "cell_type": "code",
      "source": [
        "# Re-generate the ERD with detailed table structures including types and descriptions\n",
        "\n",
        "# Create a new ERD diagram with more details\n",
        "erd_detailed = graphviz.Digraph('Genomic Database ERD', node_attr={'shape': 'record', 'fontsize': '10'})\n",
        "\n",
        "# Genome Table\n",
        "erd_detailed.node('Genome', '''{ Genome |\n",
        "+ fasta_sha256 (PK, TEXT) - Unique per genome \\\\l\n",
        "+ fasta_identifier (TEXT) - Path/filename \\\\l\n",
        "+ sequence_sha256 (TEXT) - SHA256 of a sequence \\\\l\n",
        "+ sequence_identifier (TEXT) - Sequence ID \\\\l\n",
        "+ sequence_description (TEXT) - Description \\\\l\n",
        "+ sequence (TEXT) - The genome sequence \\\\l\n",
        "}''')\n",
        "\n",
        "# Nucleotide ORFs Table\n",
        "erd_detailed.node('Nucleotide_ORFs', '''{ Nucleotide ORFs |\n",
        "+ sequence_sha256 (PK, TEXT) - Unique per ORF \\\\l\n",
        "+ fasta_sha256 (FK, TEXT) - Links to Genome \\\\l\n",
        "+ sequence_identifier (TEXT) - ORF ID \\\\l\n",
        "+ sequence_description (TEXT) - ORF description \\\\l\n",
        "+ sequence (TEXT) - Nucleotide sequence \\\\l\n",
        "}''')\n",
        "\n",
        "# Protein ORFs Table\n",
        "erd_detailed.node('Protein_ORFs', '''{ Protein ORFs |\n",
        "+ sequence_sha256 (PK, TEXT) - Unique per protein \\\\l\n",
        "+ fasta_sha256 (FK, TEXT) - Links to Genome \\\\l\n",
        "+ sequence_identifier (TEXT) - Protein ID \\\\l\n",
        "+ sequence_description (TEXT) - Protein description \\\\l\n",
        "+ sequence (TEXT) - Amino acid sequence \\\\l\n",
        "}''')\n",
        "\n",
        "# GFF Table\n",
        "erd_detailed.node('GFF', '''{ GFF |\n",
        "+ seqid (TEXT) - Feature identifier \\\\l\n",
        "+ source (TEXT) - Source of annotation \\\\l\n",
        "+ type (TEXT) - Feature type \\\\l\n",
        "+ start (INT) - Start position \\\\l\n",
        "+ end (INT) - End position \\\\l\n",
        "+ score (FLOAT) - Score \\\\l\n",
        "+ strand (TEXT) - + or - strand \\\\l\n",
        "+ phase (INT) - Reading frame \\\\l\n",
        "+ attributes (TEXT) - Additional data \\\\l\n",
        "}''')\n",
        "\n",
        "# Annotations Table\n",
        "erd_detailed.node('Annotations', '''{ Annotations |\n",
        "+ sequence_sha256 (PK, FK, TEXT) - Links to Protein ORFs \\\\l\n",
        "+ fasta_identifier (TEXT) - Path/filename \\\\l\n",
        "+ sequence_description (TEXT) - Description \\\\l\n",
        "+ sequence (TEXT) - Sequence itself \\\\l\n",
        "+ qheader (TEXT) - Query header \\\\l\n",
        "+ target (TEXT) - Matched sequence \\\\l\n",
        "+ theader (TEXT) - Target header \\\\l\n",
        "+ pident (FLOAT) - Percent identity \\\\l\n",
        "+ fident (FLOAT) - Fractional identity \\\\l\n",
        "+ alnlen (INT) - Alignment length \\\\l\n",
        "+ mismatch (INT) - Mismatches \\\\l\n",
        "+ gapopen (INT) - Gap openings \\\\l\n",
        "+ qstart (INT) - Query start \\\\l\n",
        "+ qend (INT) - Query end \\\\l\n",
        "+ qlen (INT) - Query length \\\\l\n",
        "+ tstart (INT) - Target start \\\\l\n",
        "+ tend (INT) - Target end \\\\l\n",
        "+ tlen (INT) - Target length \\\\l\n",
        "+ evalue (FLOAT) - Expectation value \\\\l\n",
        "+ bits (FLOAT) - Bit score \\\\l\n",
        "+ taxid (INT) - Taxonomic ID \\\\l\n",
        "+ taxname (TEXT) - Taxonomic name \\\\l\n",
        "}''')\n",
        "\n",
        "# Define relationships\n",
        "erd_detailed.edge('Genome', 'Nucleotide_ORFs', label='Has ORFs', arrowhead='crow', constraint='true')\n",
        "erd_detailed.edge('Nucleotide_ORFs', 'Protein_ORFs', label='Translated to', arrowhead='crow', constraint='true')\n",
        "erd_detailed.edge('Protein_ORFs', 'Annotations', label='Annotated by', arrowhead='crow', constraint='true')\n",
        "erd_detailed.edge('Genome', 'GFF', label='Has Features', arrowhead='crow', constraint='true')\n",
        "\n",
        "# Save and render the ERD diagram with more details\n",
        "erd_detailed_path = \"/content/genomic_database_erd_detailed\"\n",
        "erd_detailed.render(erd_detailed_path, format='png', cleanup=False)\n",
        "\n",
        "# Provide the new download path\n",
        "erd_detailed_download_path = f\"{erd_detailed_path}.png\"\n",
        "erd_detailed_download_path\n"
      ],
      "metadata": {
        "colab": {
          "base_uri": "https://localhost:8080/",
          "height": 35
        },
        "id": "dbPNXp9DM2r_",
        "outputId": "ae8e8a0b-5338-4c63-a5c8-7a7a54424e7c"
      },
      "execution_count": 6,
      "outputs": [
        {
          "output_type": "execute_result",
          "data": {
            "text/plain": [
              "'/content/genomic_database_erd_detailed.png'"
            ],
            "application/vnd.google.colaboratory.intrinsic+json": {
              "type": "string"
            }
          },
          "metadata": {},
          "execution_count": 6
        }
      ]
    },
    {
      "cell_type": "code",
      "source": [],
      "metadata": {
        "id": "zgS5LTymM6Tx"
      },
      "execution_count": null,
      "outputs": []
    }
  ]
}