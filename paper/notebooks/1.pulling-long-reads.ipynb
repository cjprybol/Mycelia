{
 "cells": [
  {
   "cell_type": "code",
   "execution_count": 1,
   "metadata": {},
   "outputs": [
    {
     "data": {
      "text/plain": [
       "\"/Users/cameronprybol/.julia/dev/Mycelia/paper/notebooks\""
      ]
     },
     "execution_count": 1,
     "metadata": {},
     "output_type": "execute_result"
    }
   ],
   "source": [
    "pwd()"
   ]
  },
  {
   "cell_type": "code",
   "execution_count": 4,
   "metadata": {},
   "outputs": [
    {
     "data": {
      "text/plain": [
       "\"/Users/cameronprybol/.julia/dev/Mycelia/paper/s41587-020-0422-6\""
      ]
     },
     "execution_count": 4,
     "metadata": {},
     "output_type": "execute_result"
    }
   ],
   "source": [
    "study_dir = dirname(pwd()) * \"/s41587-020-0422-6\""
   ]
  },
  {
   "cell_type": "code",
   "execution_count": 5,
   "metadata": {},
   "outputs": [
    {
     "data": {
      "text/plain": [
       "2-element Array{String,1}:\n",
       " \"metadata\"\n",
       " \"reference.txt\""
      ]
     },
     "execution_count": 5,
     "metadata": {},
     "output_type": "execute_result"
    }
   ],
   "source": [
    "readdir(study_dir)"
   ]
  },
  {
   "cell_type": "code",
   "execution_count": 6,
   "metadata": {},
   "outputs": [
    {
     "data": {
      "text/plain": [
       "\"/Users/cameronprybol/.julia/dev/Mycelia/paper/s41587-020-0422-6/metadata\""
      ]
     },
     "execution_count": 6,
     "metadata": {},
     "output_type": "execute_result"
    }
   ],
   "source": [
    "metadata_dir = study_dir * \"/metadata\""
   ]
  },
  {
   "cell_type": "code",
   "execution_count": 7,
   "metadata": {},
   "outputs": [
    {
     "data": {
      "text/plain": [
       "2-element Array{String,1}:\n",
       " \"SRR_Acc_List.txt\"\n",
       " \"SraRunTable.txt\""
      ]
     },
     "execution_count": 7,
     "metadata": {},
     "output_type": "execute_result"
    }
   ],
   "source": [
    "readdir(metadata_dir)"
   ]
  },
  {
   "cell_type": "code",
   "execution_count": 8,
   "metadata": {},
   "outputs": [
    {
     "name": "stderr",
     "output_type": "stream",
     "text": [
      "┌ Info: Precompiling uCSV [e0b4c2ea-889f-54df-a5e0-fe74b3c892fd]\n",
      "└ @ Base loading.jl:1278\n"
     ]
    }
   ],
   "source": [
    "import uCSV\n",
    "import DataFrames"
   ]
  },
  {
   "cell_type": "code",
   "execution_count": 19,
   "metadata": {},
   "outputs": [],
   "source": [
    "# run(`conda install -c bioconda sra-tools`)"
   ]
  },
  {
   "cell_type": "code",
   "execution_count": 15,
   "metadata": {},
   "outputs": [
    {
     "data": {
      "text/html": [
       "<table class=\"data-frame\"><thead><tr><th></th><th>Run</th><th>Assay Type</th><th>AvgSpotLen</th><th>Bases</th><th>BioProject</th><th>BioSample</th><th>BioSampleModel</th></tr><tr><th></th><th>String</th><th>String</th><th>Int64</th><th>Int64</th><th>String</th><th>String</th><th>String</th></tr></thead><tbody><p>14 rows × 34 columns (omitted printing of 27 columns)</p><tr><th>1</th><td>SRR9847854</td><td>WGS</td><td>2483</td><td>27353479377</td><td>PRJNA508395</td><td>SAMN12384724</td><td>Metagenome or environmental</td></tr><tr><th>2</th><td>SRR9847855</td><td>WGS</td><td>1129</td><td>21829720080</td><td>PRJNA508395</td><td>SAMN12384723</td><td>Metagenome or environmental</td></tr><tr><th>3</th><td>SRR9847856</td><td>WGS</td><td>1389</td><td>23141864195</td><td>PRJNA508395</td><td>SAMN12384722</td><td>Metagenome or environmental</td></tr><tr><th>4</th><td>SRR9847857</td><td>WGS</td><td>1552</td><td>15929952582</td><td>PRJNA508395</td><td>SAMN12384721</td><td>Metagenome or environmental</td></tr><tr><th>5</th><td>SRR9847858</td><td>WGS</td><td>1021</td><td>14611733451</td><td>PRJNA508395</td><td>SAMN12384728</td><td>Metagenome or environmental</td></tr><tr><th>6</th><td>SRR9847859</td><td>WGS</td><td>1670</td><td>17075808571</td><td>PRJNA508395</td><td>SAMN12384727</td><td>Metagenome or environmental</td></tr><tr><th>7</th><td>SRR9847860</td><td>WGS</td><td>1478</td><td>18273112549</td><td>PRJNA508395</td><td>SAMN12384726</td><td>Metagenome or environmental</td></tr><tr><th>8</th><td>SRR9847861</td><td>WGS</td><td>1056</td><td>13303822631</td><td>PRJNA508395</td><td>SAMN12384725</td><td>Metagenome or environmental</td></tr><tr><th>9</th><td>SRR9847862</td><td>WGS</td><td>979</td><td>12920897380</td><td>PRJNA508395</td><td>SAMN12384730</td><td>Metagenome or environmental</td></tr><tr><th>10</th><td>SRR9847863</td><td>WGS</td><td>843</td><td>15197319038</td><td>PRJNA508395</td><td>SAMN12384729</td><td>Metagenome or environmental</td></tr><tr><th>11</th><td>SRR9847864</td><td>WGS</td><td>3115</td><td>30351720846</td><td>PRJNA508395</td><td>SAMN12384731</td><td>Metagenome or environmental</td></tr><tr><th>12</th><td>SRR8427256</td><td>WGS</td><td>1683</td><td>7552678149</td><td>PRJNA508395</td><td>SAMN10720449</td><td>Metagenome or environmental</td></tr><tr><th>13</th><td>SRR8427257</td><td>WGS</td><td>1800</td><td>6127970421</td><td>PRJNA508395</td><td>SAMN10720448</td><td>Metagenome or environmental</td></tr><tr><th>14</th><td>SRR8427258</td><td>WGS</td><td>2837</td><td>11362099426</td><td>PRJNA508395</td><td>SAMN10720447</td><td>Metagenome or environmental</td></tr></tbody></table>"
      ],
      "text/latex": [
       "\\begin{tabular}{r|cccccccc}\n",
       "\t& Run & Assay Type & AvgSpotLen & Bases & BioProject & BioSample & BioSampleModel & \\\\\n",
       "\t\\hline\n",
       "\t& String & String & Int64 & Int64 & String & String & String & \\\\\n",
       "\t\\hline\n",
       "\t1 & SRR9847854 & WGS & 2483 & 27353479377 & PRJNA508395 & SAMN12384724 & Metagenome or environmental & $\\dots$ \\\\\n",
       "\t2 & SRR9847855 & WGS & 1129 & 21829720080 & PRJNA508395 & SAMN12384723 & Metagenome or environmental & $\\dots$ \\\\\n",
       "\t3 & SRR9847856 & WGS & 1389 & 23141864195 & PRJNA508395 & SAMN12384722 & Metagenome or environmental & $\\dots$ \\\\\n",
       "\t4 & SRR9847857 & WGS & 1552 & 15929952582 & PRJNA508395 & SAMN12384721 & Metagenome or environmental & $\\dots$ \\\\\n",
       "\t5 & SRR9847858 & WGS & 1021 & 14611733451 & PRJNA508395 & SAMN12384728 & Metagenome or environmental & $\\dots$ \\\\\n",
       "\t6 & SRR9847859 & WGS & 1670 & 17075808571 & PRJNA508395 & SAMN12384727 & Metagenome or environmental & $\\dots$ \\\\\n",
       "\t7 & SRR9847860 & WGS & 1478 & 18273112549 & PRJNA508395 & SAMN12384726 & Metagenome or environmental & $\\dots$ \\\\\n",
       "\t8 & SRR9847861 & WGS & 1056 & 13303822631 & PRJNA508395 & SAMN12384725 & Metagenome or environmental & $\\dots$ \\\\\n",
       "\t9 & SRR9847862 & WGS & 979 & 12920897380 & PRJNA508395 & SAMN12384730 & Metagenome or environmental & $\\dots$ \\\\\n",
       "\t10 & SRR9847863 & WGS & 843 & 15197319038 & PRJNA508395 & SAMN12384729 & Metagenome or environmental & $\\dots$ \\\\\n",
       "\t11 & SRR9847864 & WGS & 3115 & 30351720846 & PRJNA508395 & SAMN12384731 & Metagenome or environmental & $\\dots$ \\\\\n",
       "\t12 & SRR8427256 & WGS & 1683 & 7552678149 & PRJNA508395 & SAMN10720449 & Metagenome or environmental & $\\dots$ \\\\\n",
       "\t13 & SRR8427257 & WGS & 1800 & 6127970421 & PRJNA508395 & SAMN10720448 & Metagenome or environmental & $\\dots$ \\\\\n",
       "\t14 & SRR8427258 & WGS & 2837 & 11362099426 & PRJNA508395 & SAMN10720447 & Metagenome or environmental & $\\dots$ \\\\\n",
       "\\end{tabular}\n"
      ],
      "text/plain": [
       "14×34 DataFrame. Omitted printing of 29 columns\n",
       "│ Row │ Run        │ Assay Type │ AvgSpotLen │ Bases       │ BioProject  │\n",
       "│     │ \u001b[90mString\u001b[39m     │ \u001b[90mString\u001b[39m     │ \u001b[90mInt64\u001b[39m      │ \u001b[90mInt64\u001b[39m       │ \u001b[90mString\u001b[39m      │\n",
       "├─────┼────────────┼────────────┼────────────┼─────────────┼─────────────┤\n",
       "│ 1   │ SRR9847854 │ WGS        │ 2483       │ 27353479377 │ PRJNA508395 │\n",
       "│ 2   │ SRR9847855 │ WGS        │ 1129       │ 21829720080 │ PRJNA508395 │\n",
       "│ 3   │ SRR9847856 │ WGS        │ 1389       │ 23141864195 │ PRJNA508395 │\n",
       "│ 4   │ SRR9847857 │ WGS        │ 1552       │ 15929952582 │ PRJNA508395 │\n",
       "│ 5   │ SRR9847858 │ WGS        │ 1021       │ 14611733451 │ PRJNA508395 │\n",
       "│ 6   │ SRR9847859 │ WGS        │ 1670       │ 17075808571 │ PRJNA508395 │\n",
       "│ 7   │ SRR9847860 │ WGS        │ 1478       │ 18273112549 │ PRJNA508395 │\n",
       "│ 8   │ SRR9847861 │ WGS        │ 1056       │ 13303822631 │ PRJNA508395 │\n",
       "│ 9   │ SRR9847862 │ WGS        │ 979        │ 12920897380 │ PRJNA508395 │\n",
       "│ 10  │ SRR9847863 │ WGS        │ 843        │ 15197319038 │ PRJNA508395 │\n",
       "│ 11  │ SRR9847864 │ WGS        │ 3115       │ 30351720846 │ PRJNA508395 │\n",
       "│ 12  │ SRR8427256 │ WGS        │ 1683       │ 7552678149  │ PRJNA508395 │\n",
       "│ 13  │ SRR8427257 │ WGS        │ 1800       │ 6127970421  │ PRJNA508395 │\n",
       "│ 14  │ SRR8427258 │ WGS        │ 2837       │ 11362099426 │ PRJNA508395 │"
      ]
     },
     "execution_count": 15,
     "metadata": {},
     "output_type": "execute_result"
    }
   ],
   "source": [
    "SraRunTable = DataFrames.DataFrame(uCSV.read(\"$(metadata_dir)/SraRunTable.txt\", delim=',', header=1, quotes='\"', escape='\"')...)"
   ]
  },
  {
   "cell_type": "code",
   "execution_count": 16,
   "metadata": {},
   "outputs": [
    {
     "name": "stdout",
     "output_type": "stream",
     "text": [
      "14×34 DataFrame\n",
      "│ Row │ Run        │ Assay Type │ AvgSpotLen │ Bases       │ BioProject  │\n",
      "│     │ \u001b[90mString\u001b[39m     │ \u001b[90mString\u001b[39m     │ \u001b[90mInt64\u001b[39m      │ \u001b[90mInt64\u001b[39m       │ \u001b[90mString\u001b[39m      │\n",
      "├─────┼────────────┼────────────┼────────────┼─────────────┼─────────────┤\n",
      "│ 1   │ SRR9847854 │ WGS        │ 2483       │ 27353479377 │ PRJNA508395 │\n",
      "│ 2   │ SRR9847855 │ WGS        │ 1129       │ 21829720080 │ PRJNA508395 │\n",
      "│ 3   │ SRR9847856 │ WGS        │ 1389       │ 23141864195 │ PRJNA508395 │\n",
      "│ 4   │ SRR9847857 │ WGS        │ 1552       │ 15929952582 │ PRJNA508395 │\n",
      "│ 5   │ SRR9847858 │ WGS        │ 1021       │ 14611733451 │ PRJNA508395 │\n",
      "│ 6   │ SRR9847859 │ WGS        │ 1670       │ 17075808571 │ PRJNA508395 │\n",
      "│ 7   │ SRR9847860 │ WGS        │ 1478       │ 18273112549 │ PRJNA508395 │\n",
      "│ 8   │ SRR9847861 │ WGS        │ 1056       │ 13303822631 │ PRJNA508395 │\n",
      "│ 9   │ SRR9847862 │ WGS        │ 979        │ 12920897380 │ PRJNA508395 │\n",
      "│ 10  │ SRR9847863 │ WGS        │ 843        │ 15197319038 │ PRJNA508395 │\n",
      "│ 11  │ SRR9847864 │ WGS        │ 3115       │ 30351720846 │ PRJNA508395 │\n",
      "│ 12  │ SRR8427256 │ WGS        │ 1683       │ 7552678149  │ PRJNA508395 │\n",
      "│ 13  │ SRR8427257 │ WGS        │ 1800       │ 6127970421  │ PRJNA508395 │\n",
      "│ 14  │ SRR8427258 │ WGS        │ 2837       │ 11362099426 │ PRJNA508395 │\n",
      "\n",
      "│ Row │ BioSample    │ BioSampleModel              │ Bytes       │\n",
      "│     │ \u001b[90mString\u001b[39m       │ \u001b[90mString\u001b[39m                      │ \u001b[90mInt64\u001b[39m       │\n",
      "├─────┼──────────────┼─────────────────────────────┼─────────────┤\n",
      "│ 1   │ SAMN12384724 │ Metagenome or environmental │ 23452493271 │\n",
      "│ 2   │ SAMN12384723 │ Metagenome or environmental │ 18730168965 │\n",
      "│ 3   │ SAMN12384722 │ Metagenome or environmental │ 19790615319 │\n",
      "│ 4   │ SAMN12384721 │ Metagenome or environmental │ 13682598189 │\n",
      "│ 5   │ SAMN12384728 │ Metagenome or environmental │ 12568503208 │\n",
      "│ 6   │ SAMN12384727 │ Metagenome or environmental │ 14657433017 │\n",
      "│ 7   │ SAMN12384726 │ Metagenome or environmental │ 15698431328 │\n",
      "│ 8   │ SAMN12384725 │ Metagenome or environmental │ 11359853640 │\n",
      "│ 9   │ SAMN12384730 │ Metagenome or environmental │ 10843088403 │\n",
      "│ 10  │ SAMN12384729 │ Metagenome or environmental │ 12942477820 │\n",
      "│ 11  │ SAMN12384731 │ Metagenome or environmental │ 26048284809 │\n",
      "│ 12  │ SAMN10720449 │ Metagenome or environmental │ 6156919538  │\n",
      "│ 13  │ SAMN10720448 │ Metagenome or environmental │ 5037791609  │\n",
      "│ 14  │ SAMN10720447 │ Metagenome or environmental │ 9181504862  │\n",
      "\n",
      "│ Row │ Center Name         │ collection_date │ Consent │ DATASTORE filetype │\n",
      "│     │ \u001b[90mString\u001b[39m              │ \u001b[90mString\u001b[39m          │ \u001b[90mString\u001b[39m  │ \u001b[90mString\u001b[39m             │\n",
      "├─────┼─────────────────────┼─────────────────┼─────────┼────────────────────┤\n",
      "│ 1   │ STANFORD UNIVERSITY │ missing         │ public  │ fastq,sra          │\n",
      "│ 2   │ STANFORD UNIVERSITY │ missing         │ public  │ fastq,sra          │\n",
      "│ 3   │ STANFORD UNIVERSITY │ missing         │ public  │ fastq,sra          │\n",
      "│ 4   │ STANFORD UNIVERSITY │ missing         │ public  │ fastq,sra          │\n",
      "│ 5   │ STANFORD UNIVERSITY │ missing         │ public  │ fastq,sra          │\n",
      "│ 6   │ STANFORD UNIVERSITY │ missing         │ public  │ fastq,sra          │\n",
      "│ 7   │ STANFORD UNIVERSITY │ missing         │ public  │ fastq,sra          │\n",
      "│ 8   │ STANFORD UNIVERSITY │ missing         │ public  │ fastq,sra          │\n",
      "│ 9   │ STANFORD UNIVERSITY │ missing         │ public  │ fastq,sra          │\n",
      "│ 10  │ STANFORD UNIVERSITY │ missing         │ public  │ fastq,sra          │\n",
      "│ 11  │ STANFORD UNIVERSITY │ missing         │ public  │ fastq,sra          │\n",
      "│ 12  │ STANFORD UNIVERSITY │ 2018            │ public  │ fastq,sra          │\n",
      "│ 13  │ STANFORD UNIVERSITY │ 2017            │ public  │ fastq,sra          │\n",
      "│ 14  │ STANFORD UNIVERSITY │ 2017            │ public  │ fastq,sra          │\n",
      "\n",
      "│ Row │ DATASTORE provider │ DATASTORE region               │ Experiment │\n",
      "│     │ \u001b[90mString\u001b[39m             │ \u001b[90mString\u001b[39m                         │ \u001b[90mString\u001b[39m     │\n",
      "├─────┼────────────────────┼────────────────────────────────┼────────────┤\n",
      "│ 1   │ gs,ncbi,s3         │ gs.US,ncbi.public,s3.us-east-1 │ SRX6602475 │\n",
      "│ 2   │ gs,ncbi,s3         │ gs.US,ncbi.public,s3.us-east-1 │ SRX6602474 │\n",
      "│ 3   │ gs,ncbi,s3         │ gs.US,ncbi.public,s3.us-east-1 │ SRX6602473 │\n",
      "│ 4   │ gs,ncbi,s3         │ gs.US,ncbi.public,s3.us-east-1 │ SRX6602472 │\n",
      "│ 5   │ gs,ncbi,s3         │ gs.US,ncbi.public,s3.us-east-1 │ SRX6602471 │\n",
      "│ 6   │ gs,ncbi,s3         │ gs.US,ncbi.public,s3.us-east-1 │ SRX6602470 │\n",
      "│ 7   │ gs,ncbi,s3         │ gs.US,ncbi.public,s3.us-east-1 │ SRX6602469 │\n",
      "│ 8   │ gs,ncbi,s3         │ gs.US,ncbi.public,s3.us-east-1 │ SRX6602468 │\n",
      "│ 9   │ gs,ncbi,s3         │ gs.US,ncbi.public,s3.us-east-1 │ SRX6602467 │\n",
      "│ 10  │ gs,ncbi,s3         │ gs.US,ncbi.public,s3.us-east-1 │ SRX6602466 │\n",
      "│ 11  │ gs,ncbi,s3         │ gs.US,ncbi.public,s3.us-east-1 │ SRX6602465 │\n",
      "│ 12  │ gs,ncbi,s3         │ gs.US,ncbi.public,s3.us-east-1 │ SRX5235115 │\n",
      "│ 13  │ gs,ncbi,s3         │ gs.US,ncbi.public,s3.us-east-1 │ SRX5235114 │\n",
      "│ 14  │ gs,ncbi,s3         │ gs.US,ncbi.public,s3.us-east-1 │ SRX5235113 │\n",
      "\n",
      "│ Row │ geo_loc_name_country │ geo_loc_name_country_continent │ geo_loc_name   │\n",
      "│     │ \u001b[90mString\u001b[39m               │ \u001b[90mString\u001b[39m                         │ \u001b[90mString\u001b[39m         │\n",
      "├─────┼──────────────────────┼────────────────────────────────┼────────────────┤\n",
      "│ 1   │ uncalculated         │ uncalculated                   │ not applicable │\n",
      "│ 2   │ uncalculated         │ uncalculated                   │ not applicable │\n",
      "│ 3   │ uncalculated         │ uncalculated                   │ not applicable │\n",
      "│ 4   │ uncalculated         │ uncalculated                   │ not applicable │\n",
      "│ 5   │ uncalculated         │ uncalculated                   │ not applicable │\n",
      "│ 6   │ uncalculated         │ uncalculated                   │ not applicable │\n",
      "│ 7   │ uncalculated         │ uncalculated                   │ not applicable │\n",
      "│ 8   │ uncalculated         │ uncalculated                   │ not applicable │\n",
      "│ 9   │ uncalculated         │ uncalculated                   │ not applicable │\n",
      "│ 10  │ uncalculated         │ uncalculated                   │ not applicable │\n",
      "│ 11  │ uncalculated         │ uncalculated                   │ not applicable │\n",
      "│ 12  │ uncalculated         │ uncalculated                   │ not applicable │\n",
      "│ 13  │ uncalculated         │ uncalculated                   │ not applicable │\n",
      "│ 14  │ uncalculated         │ uncalculated                   │ not applicable │\n",
      "\n",
      "│ Row │ Instrument │ lat_lon        │ Library Name  │ LibraryLayout │\n",
      "│     │ \u001b[90mString\u001b[39m     │ \u001b[90mString\u001b[39m         │ \u001b[90mString\u001b[39m        │ \u001b[90mString\u001b[39m        │\n",
      "├─────┼────────────┼────────────────┼───────────────┼───────────────┤\n",
      "│ 1   │ MinION     │ not applicable │ Healthy Gut D │ SINGLE        │\n",
      "│ 2   │ MinION     │ not applicable │ Healthy Gut C │ SINGLE        │\n",
      "│ 3   │ MinION     │ not applicable │ Healthy Gut B │ SINGLE        │\n",
      "│ 4   │ MinION     │ not applicable │ Healthy Gut A │ SINGLE        │\n",
      "│ 5   │ MinION     │ not applicable │ Healthy Gut H │ SINGLE        │\n",
      "│ 6   │ MinION     │ not applicable │ Healthy Gut G │ SINGLE        │\n",
      "│ 7   │ MinION     │ not applicable │ Healthy Gut F │ SINGLE        │\n",
      "│ 8   │ MinION     │ not applicable │ Healthy Gut E │ SINGLE        │\n",
      "│ 9   │ MinION     │ not applicable │ Healthy Gut J │ SINGLE        │\n",
      "│ 10  │ MinION     │ not applicable │ Healthy Gut I │ SINGLE        │\n",
      "│ 11  │ MinION     │ not applicable │ atcc12        │ SINGLE        │\n",
      "│ 12  │ MinION     │ not applicable │ P2B_nanopore  │ SINGLE        │\n",
      "│ 13  │ MinION     │ not applicable │ P2A_nanopore  │ SINGLE        │\n",
      "│ 14  │ MinION     │ not applicable │ P1_nanopore   │ SINGLE        │\n",
      "\n",
      "│ Row │ LibrarySelection │ LibrarySource │ Organism             │\n",
      "│     │ \u001b[90mString\u001b[39m           │ \u001b[90mString\u001b[39m        │ \u001b[90mString\u001b[39m               │\n",
      "├─────┼──────────────────┼───────────────┼──────────────────────┤\n",
      "│ 1   │ RANDOM           │ METAGENOMIC   │ human gut metagenome │\n",
      "│ 2   │ RANDOM           │ METAGENOMIC   │ human gut metagenome │\n",
      "│ 3   │ RANDOM           │ METAGENOMIC   │ human gut metagenome │\n",
      "│ 4   │ RANDOM           │ METAGENOMIC   │ human gut metagenome │\n",
      "│ 5   │ RANDOM           │ METAGENOMIC   │ human gut metagenome │\n",
      "│ 6   │ RANDOM           │ METAGENOMIC   │ human gut metagenome │\n",
      "│ 7   │ RANDOM           │ METAGENOMIC   │ human gut metagenome │\n",
      "│ 8   │ RANDOM           │ METAGENOMIC   │ human gut metagenome │\n",
      "│ 9   │ RANDOM           │ METAGENOMIC   │ human gut metagenome │\n",
      "│ 10  │ RANDOM           │ METAGENOMIC   │ human gut metagenome │\n",
      "│ 11  │ RANDOM           │ METAGENOMIC   │ synthetic metagenome │\n",
      "│ 12  │ RANDOM           │ METAGENOMIC   │ human gut metagenome │\n",
      "│ 13  │ RANDOM           │ METAGENOMIC   │ human gut metagenome │\n",
      "│ 14  │ RANDOM           │ METAGENOMIC   │ human gut metagenome │\n",
      "\n",
      "│ Row │ Platform        │ ReleaseDate          │ Sample Name   │ SRA Study │\n",
      "│     │ \u001b[90mString\u001b[39m          │ \u001b[90mString\u001b[39m               │ \u001b[90mString\u001b[39m        │ \u001b[90mString\u001b[39m    │\n",
      "├─────┼─────────────────┼──────────────────────┼───────────────┼───────────┤\n",
      "│ 1   │ OXFORD_NANOPORE │ 2019-12-10T00:00:00Z │ Healthy Gut D │ SRP178190 │\n",
      "│ 2   │ OXFORD_NANOPORE │ 2019-12-10T00:00:00Z │ Healthy Gut C │ SRP178190 │\n",
      "│ 3   │ OXFORD_NANOPORE │ 2019-12-10T00:00:00Z │ Healthy Gut B │ SRP178190 │\n",
      "│ 4   │ OXFORD_NANOPORE │ 2019-12-10T00:00:00Z │ Healthy Gut A │ SRP178190 │\n",
      "│ 5   │ OXFORD_NANOPORE │ 2019-12-10T00:00:00Z │ Healthy Gut H │ SRP178190 │\n",
      "│ 6   │ OXFORD_NANOPORE │ 2019-12-10T00:00:00Z │ Healthy Gut G │ SRP178190 │\n",
      "│ 7   │ OXFORD_NANOPORE │ 2019-12-10T00:00:00Z │ Healthy Gut F │ SRP178190 │\n",
      "│ 8   │ OXFORD_NANOPORE │ 2019-12-10T00:00:00Z │ Healthy Gut E │ SRP178190 │\n",
      "│ 9   │ OXFORD_NANOPORE │ 2019-12-10T00:00:00Z │ Healthy Gut J │ SRP178190 │\n",
      "│ 10  │ OXFORD_NANOPORE │ 2019-12-10T00:00:00Z │ Healthy Gut I │ SRP178190 │\n",
      "│ 11  │ OXFORD_NANOPORE │ 2019-12-10T00:00:00Z │ atcc12        │ SRP178190 │\n",
      "│ 12  │ OXFORD_NANOPORE │ 2019-12-10T00:00:00Z │ P2B           │ SRP178190 │\n",
      "│ 13  │ OXFORD_NANOPORE │ 2019-12-10T00:00:00Z │ P2A           │ SRP178190 │\n",
      "│ 14  │ OXFORD_NANOPORE │ 2019-12-10T00:00:00Z │ P1            │ SRP178190 │\n",
      "\n",
      "│ Row │ Host         │\n",
      "│     │ \u001b[90mString\u001b[39m       │\n",
      "├─────┼──────────────┤\n",
      "│ 1   │ Homo sapiens │\n",
      "│ 2   │ Homo sapiens │\n",
      "│ 3   │ Homo sapiens │\n",
      "│ 4   │ Homo sapiens │\n",
      "│ 5   │ Homo sapiens │\n",
      "│ 6   │ Homo sapiens │\n",
      "│ 7   │ Homo sapiens │\n",
      "│ 8   │ Homo sapiens │\n",
      "│ 9   │ Homo sapiens │\n",
      "│ 10  │ Homo sapiens │\n",
      "│ 11  │              │\n",
      "│ 12  │ Homo sapiens │\n",
      "│ 13  │ Homo sapiens │\n",
      "│ 14  │ Homo sapiens │\n",
      "\n",
      "│ Row │ isolation-source                                                                                                                                                                                                                                                        │\n",
      "│     │ \u001b[90mString\u001b[39m                                                                                                                                                                                                                                                                  │\n",
      "├─────┼─────────────────────────────────────────────────────────────────────────────────────────────────────────────────────────────────────────────────────────────────────────────────────────────────────────────────────────────────────────────────────────────────────────┤\n",
      "│ 1   │ healthy gut D                                                                                                                                                                                                                                                           │\n",
      "│ 2   │ healthy gut C                                                                                                                                                                                                                                                           │\n",
      "│ 3   │ healthy gut B                                                                                                                                                                                                                                                           │\n",
      "│ 4   │ healthy gut A                                                                                                                                                                                                                                                           │\n",
      "│ 5   │ healthy gut H                                                                                                                                                                                                                                                           │\n",
      "│ 6   │ healthy gut G                                                                                                                                                                                                                                                           │\n",
      "│ 7   │ healthy gut F                                                                                                                                                                                                                                                           │\n",
      "│ 8   │ healthy gut E                                                                                                                                                                                                                                                           │\n",
      "│ 9   │ healthy gut J                                                                                                                                                                                                                                                           │\n",
      "│ 10  │ healthy gut I                                                                                                                                                                                                                                                           │\n",
      "│ 11  │ mock microbial community \"Gut Microbiome Whole cell Mix\" consisting of 8.3% Bacteriodes fragilis (ATCC 25285)\\\\, 8.3% Bacteroides vulgatus (ATCC 8482)\\\\, 8.3% Bifidobacterium adolescentis (ATCC 15703)\\\\, 8.3% Clostridioides difficile (ATCC 9689)\\\\, 8.3% Entero... │\n",
      "│ 12  │                                                                                                                                                                                                                                                                         │\n",
      "│ 13  │                                                                                                                                                                                                                                                                         │\n",
      "│ 14  │                                                                                                                                                                                                                                                                         │\n",
      "\n",
      "│ Row │ samp_mat_process │ isolation_source                │\n",
      "│     │ \u001b[90mString\u001b[39m           │ \u001b[90mString\u001b[39m                          │\n",
      "├─────┼──────────────────┼─────────────────────────────────┤\n",
      "│ 1   │ Healthy Gut D    │                                 │\n",
      "│ 2   │ Healthy Gut C    │                                 │\n",
      "│ 3   │ Healthy Gut B    │                                 │\n",
      "│ 4   │ Healthy Gut A    │                                 │\n",
      "│ 5   │ Healthy Gut H    │                                 │\n",
      "│ 6   │ Healthy Gut G    │                                 │\n",
      "│ 7   │ Healthy Gut F    │                                 │\n",
      "│ 8   │ Healthy Gut E    │                                 │\n",
      "│ 9   │ Healthy Gut J    │                                 │\n",
      "│ 10  │ Healthy Gut I    │                                 │\n",
      "│ 11  │ atcc12           │                                 │\n",
      "│ 12  │                  │ Participant 2 stool\\\\, 15 month │\n",
      "│ 13  │                  │ Participant 2 stool\\\\, 0 month  │\n",
      "│ 14  │                  │ Participant 1\\\\, 0 month        │\n",
      "\n",
      "│ Row │ culture-collection │\n",
      "│     │ \u001b[90mString\u001b[39m             │\n",
      "├─────┼────────────────────┤\n",
      "│ 1   │                    │\n",
      "│ 2   │                    │\n",
      "│ 3   │                    │\n",
      "│ 4   │                    │\n",
      "│ 5   │                    │\n",
      "│ 6   │                    │\n",
      "│ 7   │                    │\n",
      "│ 8   │                    │\n",
      "│ 9   │                    │\n",
      "│ 10  │                    │\n",
      "│ 11  │ ATCC:MSA-2006      │\n",
      "│ 12  │                    │\n",
      "│ 13  │                    │\n",
      "│ 14  │                    │"
     ]
    }
   ],
   "source": [
    "show(SraRunTable, allrows=true, allcols=true)"
   ]
  },
  {
   "cell_type": "code",
   "execution_count": 23,
   "metadata": {},
   "outputs": [
    {
     "name": "stdout",
     "output_type": "stream",
     "text": [
      "\n",
      "2021-05-11T13:45:13 prefetch.2.8.0: 1) Downloading 'SRR9847864'...\n",
      "2021-05-11T13:45:13 prefetch.2.8.0:  Downloading via http...\n",
      "2021-05-11T18:30:30 prefetch.2.8.0: 1) 'SRR9847864' was downloaded successfully\n",
      "2021-05-11T18:30:30 prefetch.2.8.0: 'SRR9847864' has 0 unresolved dependencies\n"
     ]
    },
    {
     "data": {
      "text/plain": [
       "Process(`\u001b[4mprefetch\u001b[24m \u001b[4m--max-size\u001b[24m \u001b[4m25GB\u001b[24m \u001b[4mSRR9847864\u001b[24m`, ProcessExited(0))"
      ]
     },
     "execution_count": 23,
     "metadata": {},
     "output_type": "execute_result"
    }
   ],
   "source": [
    "# get ATCC mock microbial community\n",
    "run(`prefetch --max-size 25GB SRR9847864`)"
   ]
  },
  {
   "cell_type": "code",
   "execution_count": 24,
   "metadata": {},
   "outputs": [
    {
     "data": {
      "text/plain": [
       "\"/Users/cameronprybol/.julia/dev/Mycelia/paper/s41587-020-0422-6/fastq\""
      ]
     },
     "execution_count": 24,
     "metadata": {},
     "output_type": "execute_result"
    }
   ],
   "source": [
    "fastq_dir = study_dir * \"/fastq\""
   ]
  },
  {
   "cell_type": "code",
   "execution_count": 25,
   "metadata": {},
   "outputs": [
    {
     "name": "stdout",
     "output_type": "stream",
     "text": [
      "Read 9741166 spots for SRR9847864\n",
      "Written 9741166 spots for SRR9847864\n"
     ]
    },
    {
     "data": {
      "text/plain": [
       "Process(`\u001b[4mfastq-dump\u001b[24m \u001b[4m--readids\u001b[24m \u001b[4m--gzip\u001b[24m \u001b[4m--outdir\u001b[24m \u001b[4m/Users/cameronprybol/.julia/dev/Mycelia/paper/s41587-020-0422-6/fastq\u001b[24m \u001b[4mSRR9847864\u001b[24m`, ProcessExited(0))"
      ]
     },
     "execution_count": 25,
     "metadata": {},
     "output_type": "execute_result"
    }
   ],
   "source": [
    "# https://ncbi.github.io/sra-tools/fastq-dump.html\n",
    "# get ATCC mock microbial community\n",
    "# --readids Append read id after spot id as 'accession.spot.readid' on defline.\n",
    "# --outdir < path > Output directory, default is current working directory ('.').\n",
    "# --gzip\n",
    "\n",
    "run(`fastq-dump --readids --gzip --outdir $(fastq_dir) SRR9847864`)"
   ]
  },
  {
   "cell_type": "code",
   "execution_count": null,
   "metadata": {},
   "outputs": [],
   "source": []
  }
 ],
 "metadata": {
  "kernelspec": {
   "display_name": "Julia 1.5.3",
   "language": "julia",
   "name": "julia-1.5"
  },
  "language_info": {
   "file_extension": ".jl",
   "mimetype": "application/julia",
   "name": "julia",
   "version": "1.5.3"
  }
 },
 "nbformat": 4,
 "nbformat_minor": 4
}
