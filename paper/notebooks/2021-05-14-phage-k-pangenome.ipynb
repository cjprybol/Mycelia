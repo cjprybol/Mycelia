{
 "cells": [
  {
   "cell_type": "code",
   "execution_count": 1,
   "metadata": {},
   "outputs": [
    {
     "data": {
      "text/plain": [
       "\"/home/jovyan/2021-05-14-phage-k-pangenome\""
      ]
     },
     "execution_count": 1,
     "metadata": {},
     "output_type": "execute_result"
    }
   ],
   "source": [
    "DATE = \"2021-05-14\"\n",
    "TASK = \"phage-k-pangenome\"\n",
    "DIR = mkpath(\"$(homedir())/$(DATE)-$(TASK)\")"
   ]
  },
  {
   "cell_type": "code",
   "execution_count": 2,
   "metadata": {},
   "outputs": [],
   "source": [
    "import LightGraphs\n",
    "import MetaGraphs\n",
    "import BioSequences"
   ]
  },
  {
   "cell_type": "code",
   "execution_count": 3,
   "metadata": {},
   "outputs": [],
   "source": [
    "import uCSV\n",
    "import DataFrames\n",
    "import FASTX\n",
    "import HTTP\n",
    "import CodecZlib\n",
    "import DataStructures"
   ]
  },
  {
   "cell_type": "code",
   "execution_count": 4,
   "metadata": {},
   "outputs": [],
   "source": [
    "import Pkg"
   ]
  },
  {
   "cell_type": "code",
   "execution_count": 5,
   "metadata": {},
   "outputs": [
    {
     "data": {
      "text/plain": [
       "add_evidence! (generic function with 2 methods)"
      ]
     },
     "execution_count": 5,
     "metadata": {},
     "output_type": "execute_result"
    }
   ],
   "source": [
    "function add_evidence!(kmer_graph, index::Int, evidence)\n",
    "    if MetaGraphs.has_prop(kmer_graph, index, :evidence)\n",
    "        push!(kmer_graph.vprops[index][:evidence], evidence)\n",
    "    else\n",
    "        MetaGraphs.set_prop!(kmer_graph, index, :evidence, Set([evidence]))\n",
    "    end\n",
    "end\n",
    "\n",
    "function add_evidence!(kmer_graph, edge::LightGraphs.SimpleGraphs.AbstractSimpleEdge, evidence)\n",
    "    if MetaGraphs.has_prop(kmer_graph, edge, :evidence)\n",
    "        push!(kmer_graph.eprops[edge][:evidence], evidence)\n",
    "    else\n",
    "        MetaGraphs.set_prop!(kmer_graph, edge, :evidence, Set([evidence]))\n",
    "    end\n",
    "end"
   ]
  },
  {
   "cell_type": "code",
   "execution_count": 6,
   "metadata": {},
   "outputs": [
    {
     "data": {
      "text/plain": [
       "count_kmers (generic function with 3 methods)"
      ]
     },
     "execution_count": 6,
     "metadata": {},
     "output_type": "execute_result"
    }
   ],
   "source": [
    "function count_kmers(::Type{KMER_TYPE}, sequence::BioSequences.LongSequence) where KMER_TYPE\n",
    "    kmer_counts = DataStructures.OrderedDict{KMER_TYPE, Int}()\n",
    "    kmer_iterator = (kmer.fw for kmer in BioSequences.each(KMER_TYPE, sequence))\n",
    "    for kmer in kmer_iterator\n",
    "        kmer_counts[kmer] = get(kmer_counts, kmer, 0) + 1\n",
    "    end\n",
    "    return kmer_counts\n",
    "end\n",
    "\n",
    "function count_kmers(::Type{KMER_TYPE}, record::R) where {KMER_TYPE, R <: Union{FASTX.FASTA.Record, FASTX.FASTQ.Record}}\n",
    "    return count_kmers(KMER_TYPE, FASTX.sequence(record))    \n",
    "end\n",
    "\n",
    "function count_kmers(::Type{KMER_TYPE}, sequences) where KMER_TYPE\n",
    "    joint_kmer_counts = DataStructures.OrderedDict{KMER_TYPE, Int}()\n",
    "    for sequence in sequences\n",
    "        sequence_kmer_counts = count_kmers(KMER_TYPE, sequence)\n",
    "        merge!(+, joint_kmer_counts, sequence_kmer_counts)\n",
    "    end\n",
    "    sort!(joint_kmer_counts)\n",
    "end"
   ]
  },
  {
   "cell_type": "code",
   "execution_count": 29,
   "metadata": {},
   "outputs": [
    {
     "data": {
      "text/plain": [
       "get_kmer_index (generic function with 1 method)"
      ]
     },
     "execution_count": 29,
     "metadata": {},
     "output_type": "execute_result"
    }
   ],
   "source": [
    "function get_kmer_index(kmers, kmer)\n",
    "    index = searchsortedfirst(kmers, kmer)\n",
    "    @assert kmers[index] == kmer \"$kmer\"\n",
    "    return index\n",
    "end"
   ]
  },
  {
   "cell_type": "code",
   "execution_count": 11,
   "metadata": {},
   "outputs": [
    {
     "data": {
      "text/plain": [
       "get_sequence"
      ]
     },
     "execution_count": 11,
     "metadata": {},
     "output_type": "execute_result"
    }
   ],
   "source": [
    "\"\"\"\n",
    "\tfunction get_sequence(;db=\"\"::String, accession=\"\"::String, ftp=\"\"::String)\n",
    "\n",
    "Get dna (db = \"nuccore\") or protein (db = \"protein\") sequences from NCBI\n",
    "or get fasta directly from FTP site\n",
    "\"\"\"\n",
    "function get_sequence(;db=\"\"::String, accession=\"\"::String, ftp=\"\"::String)\n",
    "    if !isempty(db) && !isempty(accession)\n",
    "        # API will block if we request more than 3 times per second, so set a 1/2 second sleep to set max of 2 requests per second when looping\n",
    "        sleep(0.5)\n",
    "        url = \"https://www.ncbi.nlm.nih.gov/sviewer/viewer.cgi?db=$(db)&report=fasta&id=$(accession)\"\n",
    "        return FASTX.FASTA.Reader(IOBuffer(HTTP.get(url).body))\n",
    "    elseif !isempty(ftp)\n",
    "        return FASTX.FASTA.Reader(CodecZlib.GzipDecompressorStream(IOBuffer(HTTP.get(ftp).body)))\n",
    "    else\n",
    "        @error \"invalid call\"\n",
    "    end\n",
    "end"
   ]
  },
  {
   "cell_type": "code",
   "execution_count": 8,
   "metadata": {},
   "outputs": [
    {
     "name": "stderr",
     "output_type": "stream",
     "text": [
      "\u001b[32m\u001b[1m Activating\u001b[22m\u001b[39m environment at `~/Git/Eisenia/Project.toml`\n",
      "\u001b[32m\u001b[1m   Updating\u001b[22m\u001b[39m registry at `/opt/julia/registries/General`\n",
      "######################################################################### 100.0%\n",
      "\u001b[32m\u001b[1mNo Changes\u001b[22m\u001b[39m to `~/Git/Eisenia/Project.toml`\n",
      "\u001b[32m\u001b[1mNo Changes\u001b[22m\u001b[39m to `~/Git/Eisenia/Manifest.toml`\n",
      "\u001b[32m\u001b[1m Activating\u001b[22m\u001b[39m environment at `/opt/julia/environments/v1.5/Project.toml`\n",
      "┌ Info: Precompiling Eisenia [453d265d-8292-4a7b-a57c-dce3f9ae6acd]\n",
      "└ @ Base loading.jl:1278\n",
      "┌ Warning: Package Eisenia does not have MetaGraphs in its dependencies:\n",
      "│ - If you have Eisenia checked out for development and have\n",
      "│   added MetaGraphs as a dependency but haven't updated your primary\n",
      "│   environment's manifest file, try `Pkg.resolve()`.\n",
      "│ - Otherwise you may need to report an issue with Eisenia\n",
      "└ Loading MetaGraphs into Eisenia from project dependency, future warnings for Eisenia are suppressed.\n"
     ]
    }
   ],
   "source": [
    "Git_directory = homedir() * \"/\" * first(filter(x -> occursin(r\"^git$\"i, x), readdir(homedir())))\n",
    "path = \"$(Git_directory)/Eisenia\"\n",
    "push!(LOAD_PATH, path); Pkg.activate(path); Pkg.update(); Pkg.instantiate(); Pkg.activate()\n",
    "import Eisenia"
   ]
  },
  {
   "cell_type": "code",
   "execution_count": 9,
   "metadata": {},
   "outputs": [
    {
     "data": {
      "text/html": [
       "<table class=\"data-frame\"><thead><tr><th></th><th>Accession</th><th>SRA_Accession</th><th>Submitters</th></tr><tr><th></th><th>String</th><th>String</th><th>String</th></tr></thead><tbody><p>21 rows × 21 columns (omitted printing of 18 columns)</p><tr><th>1</th><td>NC_047720</td><td></td><td>Vandersteegen,K., Mattheus,W., Ceyssens,P.J., Bilocq,F., De Vos,D., Pirnay,J.P., Noben,J.P., Merabishvili,M., Lipinska,U., Hermans,K., Lavigne,R.</td></tr><tr><th>2</th><td>NC_047721</td><td></td><td>Kirby,A.E.</td></tr><tr><th>3</th><td>NC_047722</td><td></td><td>Lobocka,M., Hejnowicz,M.S., Dabrowski,K., Gozdek,A., Kosakowski,J., Witkowska,M., Ulatowska,M.I., Weber-Dabrowska,B., Kwiatek,M., Parasion,S., Gawor,J., Kosowska,H., Glowacka,A.</td></tr><tr><th>4</th><td>NC_047723</td><td></td><td>Lobocka,M., Hejnowicz,M.S., Dabrowski,K., Gozdek,A., Kosakowski,J., Witkowska,M., Ulatowska,M.I., Weber-Dabrowska,B., Kwiatek,M., Parasion,S., Gawor,J., Kosowska,H., Glowacka,A.</td></tr><tr><th>5</th><td>NC_047724</td><td></td><td>Lobocka,M., Hejnowicz,M.S., Dabrowski,K., Gozdek,A., Kosakowski,J., Witkowska,M., Ulatowska,M.I., Weber-Dabrowska,B., Kwiatek,M., Parasion,S., Gawor,J., Kosowska,H., Glowacka,A.</td></tr><tr><th>6</th><td>NC_047725</td><td></td><td>Lobocka,M., Hejnowicz,M.S., Dabrowski,K., Gozdek,A., Kosakowski,J., Witkowska,M., Ulatowska,M.I., Weber-Dabrowska,B., Kwiatek,M., Parasion,S., Gawor,J., Kosowska,H., Glowacka,A.</td></tr><tr><th>7</th><td>NC_047726</td><td></td><td>Lobocka,M., Hejnowicz,M.S., Dabrowski,K., Gozdek,A., Kosakowski,J., Witkowska,M., Ulatowska,M.I., Weber-Dabrowska,B., Kwiatek,M., Parasion,S., Gawor,J., Kosowska,H., Glowacka,A.</td></tr><tr><th>8</th><td>NC_047727</td><td></td><td>Lobocka,M., Hejnowicz,M.S., Dabrowski,K., Gozdek,A., Kosakowski,J., Witkowska,M., Ulatowska,M.I., Weber-Dabrowska,B., Kwiatek,M., Parasion,S., Gawor,J., Kosowska,H., Glowacka,A.</td></tr><tr><th>9</th><td>NC_047728</td><td></td><td>Ulatowska,M.I., Weber-Dabrowska,B., Sadowy,E., Krzyszton-Russjan,J., Gorski,A., Lobocka,M.B.</td></tr><tr><th>10</th><td>NC_047729</td><td></td><td>Zhang,X., Kang,H., Tong,Y.</td></tr><tr><th>11</th><td>NC_047730</td><td></td><td>Zhang,X., Kang,H., Tong,Y.</td></tr><tr><th>12</th><td>NC_047731</td><td></td><td>Zhang,X.</td></tr><tr><th>13</th><td>NC_047732</td><td></td><td>Tong,Y., Zhang,X., Liu,X.</td></tr><tr><th>14</th><td>NC_025416</td><td></td><td>Alves,D.R., Gaudion,A., Bean,J.E., Perez Esteban,P., Arnot,T.C., Harper,D.R., Kot,W., Hansen,L.H., Enright,M.C., Jenkins,A.T., Perez-Esteban,P., Arnot,T., Hanson,L.H.</td></tr><tr><th>15</th><td>NC_025426</td><td></td><td>Yuan,W., Rao,X.</td></tr><tr><th>16</th><td>NC_023573</td><td></td><td>Takeuchi,I., Osada,K., Asakawa,H., Miyanaga,K., Tanji,Y.</td></tr><tr><th>17</th><td>NC_023009</td><td></td><td>Kvachadze,L., Balarjishvili,N., Meskhi,T., Tevdoradze,E., Skhirtladze,N., Pataridze,T., Adamia,R., Topuria,T., Kutter,E., Rohde,C., Kutateladze,M., Nikolaishvili,N., Raya,R., Stewart,C.R., Villegas,A., Kropinski,A.M.</td></tr><tr><th>18</th><td>NC_019726</td><td></td><td>Cui,Z., Song,Z., Wang,Y., Zeng,L., Shen,W., Wang,Z., Li,Q., He,P., Qin,J., Guo,X.</td></tr><tr><th>19</th><td>NC_019448</td><td></td><td>Gu,J., Liu,X., Lu,R., Li,Y., Song,J., Lei,L., Sun,C., Feng,X., Du,C., Yu,H., Yang,Y., Han,W.</td></tr><tr><th>20</th><td>NC_007066</td><td></td><td>Kwan,T., Liu,J., DuBow,M., Gros,P., Pelletier,J.</td></tr><tr><th>21</th><td>NC_005880</td><td></td><td>Gill,J.J.</td></tr></tbody></table>"
      ],
      "text/latex": [
       "\\begin{tabular}{r|cccc}\n",
       "\t& Accession & SRA\\_Accession & Submitters & \\\\\n",
       "\t\\hline\n",
       "\t& String & String & String & \\\\\n",
       "\t\\hline\n",
       "\t1 & NC\\_047720 &  & Vandersteegen,K., Mattheus,W., Ceyssens,P.J., Bilocq,F., De Vos,D., Pirnay,J.P., Noben,J.P., Merabishvili,M., Lipinska,U., Hermans,K., Lavigne,R. & $\\dots$ \\\\\n",
       "\t2 & NC\\_047721 &  & Kirby,A.E. & $\\dots$ \\\\\n",
       "\t3 & NC\\_047722 &  & Lobocka,M., Hejnowicz,M.S., Dabrowski,K., Gozdek,A., Kosakowski,J., Witkowska,M., Ulatowska,M.I., Weber-Dabrowska,B., Kwiatek,M., Parasion,S., Gawor,J., Kosowska,H., Glowacka,A. & $\\dots$ \\\\\n",
       "\t4 & NC\\_047723 &  & Lobocka,M., Hejnowicz,M.S., Dabrowski,K., Gozdek,A., Kosakowski,J., Witkowska,M., Ulatowska,M.I., Weber-Dabrowska,B., Kwiatek,M., Parasion,S., Gawor,J., Kosowska,H., Glowacka,A. & $\\dots$ \\\\\n",
       "\t5 & NC\\_047724 &  & Lobocka,M., Hejnowicz,M.S., Dabrowski,K., Gozdek,A., Kosakowski,J., Witkowska,M., Ulatowska,M.I., Weber-Dabrowska,B., Kwiatek,M., Parasion,S., Gawor,J., Kosowska,H., Glowacka,A. & $\\dots$ \\\\\n",
       "\t6 & NC\\_047725 &  & Lobocka,M., Hejnowicz,M.S., Dabrowski,K., Gozdek,A., Kosakowski,J., Witkowska,M., Ulatowska,M.I., Weber-Dabrowska,B., Kwiatek,M., Parasion,S., Gawor,J., Kosowska,H., Glowacka,A. & $\\dots$ \\\\\n",
       "\t7 & NC\\_047726 &  & Lobocka,M., Hejnowicz,M.S., Dabrowski,K., Gozdek,A., Kosakowski,J., Witkowska,M., Ulatowska,M.I., Weber-Dabrowska,B., Kwiatek,M., Parasion,S., Gawor,J., Kosowska,H., Glowacka,A. & $\\dots$ \\\\\n",
       "\t8 & NC\\_047727 &  & Lobocka,M., Hejnowicz,M.S., Dabrowski,K., Gozdek,A., Kosakowski,J., Witkowska,M., Ulatowska,M.I., Weber-Dabrowska,B., Kwiatek,M., Parasion,S., Gawor,J., Kosowska,H., Glowacka,A. & $\\dots$ \\\\\n",
       "\t9 & NC\\_047728 &  & Ulatowska,M.I., Weber-Dabrowska,B., Sadowy,E., Krzyszton-Russjan,J., Gorski,A., Lobocka,M.B. & $\\dots$ \\\\\n",
       "\t10 & NC\\_047729 &  & Zhang,X., Kang,H., Tong,Y. & $\\dots$ \\\\\n",
       "\t11 & NC\\_047730 &  & Zhang,X., Kang,H., Tong,Y. & $\\dots$ \\\\\n",
       "\t12 & NC\\_047731 &  & Zhang,X. & $\\dots$ \\\\\n",
       "\t13 & NC\\_047732 &  & Tong,Y., Zhang,X., Liu,X. & $\\dots$ \\\\\n",
       "\t14 & NC\\_025416 &  & Alves,D.R., Gaudion,A., Bean,J.E., Perez Esteban,P., Arnot,T.C., Harper,D.R., Kot,W., Hansen,L.H., Enright,M.C., Jenkins,A.T., Perez-Esteban,P., Arnot,T., Hanson,L.H. & $\\dots$ \\\\\n",
       "\t15 & NC\\_025426 &  & Yuan,W., Rao,X. & $\\dots$ \\\\\n",
       "\t16 & NC\\_023573 &  & Takeuchi,I., Osada,K., Asakawa,H., Miyanaga,K., Tanji,Y. & $\\dots$ \\\\\n",
       "\t17 & NC\\_023009 &  & Kvachadze,L., Balarjishvili,N., Meskhi,T., Tevdoradze,E., Skhirtladze,N., Pataridze,T., Adamia,R., Topuria,T., Kutter,E., Rohde,C., Kutateladze,M., Nikolaishvili,N., Raya,R., Stewart,C.R., Villegas,A., Kropinski,A.M. & $\\dots$ \\\\\n",
       "\t18 & NC\\_019726 &  & Cui,Z., Song,Z., Wang,Y., Zeng,L., Shen,W., Wang,Z., Li,Q., He,P., Qin,J., Guo,X. & $\\dots$ \\\\\n",
       "\t19 & NC\\_019448 &  & Gu,J., Liu,X., Lu,R., Li,Y., Song,J., Lei,L., Sun,C., Feng,X., Du,C., Yu,H., Yang,Y., Han,W. & $\\dots$ \\\\\n",
       "\t20 & NC\\_007066 &  & Kwan,T., Liu,J., DuBow,M., Gros,P., Pelletier,J. & $\\dots$ \\\\\n",
       "\t21 & NC\\_005880 &  & Gill,J.J. & $\\dots$ \\\\\n",
       "\\end{tabular}\n"
      ],
      "text/plain": [
       "21×21 DataFrame. Omitted printing of 19 columns\n",
       "│ Row │ Accession │ SRA_Accession │\n",
       "│     │ \u001b[90mString\u001b[39m    │ \u001b[90mString\u001b[39m        │\n",
       "├─────┼───────────┼───────────────┤\n",
       "│ 1   │ NC_047720 │               │\n",
       "│ 2   │ NC_047721 │               │\n",
       "│ 3   │ NC_047722 │               │\n",
       "│ 4   │ NC_047723 │               │\n",
       "│ 5   │ NC_047724 │               │\n",
       "│ 6   │ NC_047725 │               │\n",
       "│ 7   │ NC_047726 │               │\n",
       "│ 8   │ NC_047727 │               │\n",
       "│ 9   │ NC_047728 │               │\n",
       "│ 10  │ NC_047729 │               │\n",
       "│ 11  │ NC_047730 │               │\n",
       "│ 12  │ NC_047731 │               │\n",
       "│ 13  │ NC_047732 │               │\n",
       "│ 14  │ NC_025416 │               │\n",
       "│ 15  │ NC_025426 │               │\n",
       "│ 16  │ NC_023573 │               │\n",
       "│ 17  │ NC_023009 │               │\n",
       "│ 18  │ NC_019726 │               │\n",
       "│ 19  │ NC_019448 │               │\n",
       "│ 20  │ NC_007066 │               │\n",
       "│ 21  │ NC_005880 │               │"
      ]
     },
     "execution_count": 9,
     "metadata": {},
     "output_type": "execute_result"
    }
   ],
   "source": [
    "ncbi_staph_phage_metadata = DataFrames.DataFrame(uCSV.read(\"$(DIR)/sequences.csv\", header=1, quotes='\"', typedetectrows=100)...)\n",
    "\n",
    "ncbi_staph_phage_metadata = ncbi_staph_phage_metadata[ncbi_staph_phage_metadata[!, \"Nuc_Completeness\"] .== \"complete\", :]\n",
    "\n",
    "ncbi_staph_phage_metadata = ncbi_staph_phage_metadata[ncbi_staph_phage_metadata[!, \"Genus\"] .== \"Kayvirus\", :]\n",
    "\n",
    "ncbi_staph_phage_metadata = ncbi_staph_phage_metadata[ncbi_staph_phage_metadata[!, \"Sequence_Type\"] .== \"RefSeq\", :]"
   ]
  },
  {
   "cell_type": "code",
   "execution_count": 10,
   "metadata": {},
   "outputs": [
    {
     "name": "stdout",
     "output_type": "stream",
     "text": [
      "21×21 DataFrame\n",
      "│ Row │ Accession │ SRA_Accession │\n",
      "│     │ \u001b[90mString\u001b[39m    │ \u001b[90mString\u001b[39m        │\n",
      "├─────┼───────────┼───────────────┤\n",
      "│ 1   │ NC_047720 │               │\n",
      "│ 2   │ NC_047721 │               │\n",
      "│ 3   │ NC_047722 │               │\n",
      "│ 4   │ NC_047723 │               │\n",
      "│ 5   │ NC_047724 │               │\n",
      "│ 6   │ NC_047725 │               │\n",
      "│ 7   │ NC_047726 │               │\n",
      "│ 8   │ NC_047727 │               │\n",
      "│ 9   │ NC_047728 │               │\n",
      "│ 10  │ NC_047729 │               │\n",
      "│ 11  │ NC_047730 │               │\n",
      "│ 12  │ NC_047731 │               │\n",
      "│ 13  │ NC_047732 │               │\n",
      "│ 14  │ NC_025416 │               │\n",
      "│ 15  │ NC_025426 │               │\n",
      "│ 16  │ NC_023573 │               │\n",
      "│ 17  │ NC_023009 │               │\n",
      "│ 18  │ NC_019726 │               │\n",
      "│ 19  │ NC_019448 │               │\n",
      "│ 20  │ NC_007066 │               │\n",
      "│ 21  │ NC_005880 │               │\n",
      "\n",
      "│ Row │ Submitters                                                                                                                                                                                                               │\n",
      "│     │ \u001b[90mString\u001b[39m                                                                                                                                                                                                                   │\n",
      "├─────┼──────────────────────────────────────────────────────────────────────────────────────────────────────────────────────────────────────────────────────────────────────────────────────────────────────────────────────────┤\n",
      "│ 1   │ Vandersteegen,K., Mattheus,W., Ceyssens,P.J., Bilocq,F., De Vos,D., Pirnay,J.P., Noben,J.P., Merabishvili,M., Lipinska,U., Hermans,K., Lavigne,R.                                                                        │\n",
      "│ 2   │ Kirby,A.E.                                                                                                                                                                                                               │\n",
      "│ 3   │ Lobocka,M., Hejnowicz,M.S., Dabrowski,K., Gozdek,A., Kosakowski,J., Witkowska,M., Ulatowska,M.I., Weber-Dabrowska,B., Kwiatek,M., Parasion,S., Gawor,J., Kosowska,H., Glowacka,A.                                        │\n",
      "│ 4   │ Lobocka,M., Hejnowicz,M.S., Dabrowski,K., Gozdek,A., Kosakowski,J., Witkowska,M., Ulatowska,M.I., Weber-Dabrowska,B., Kwiatek,M., Parasion,S., Gawor,J., Kosowska,H., Glowacka,A.                                        │\n",
      "│ 5   │ Lobocka,M., Hejnowicz,M.S., Dabrowski,K., Gozdek,A., Kosakowski,J., Witkowska,M., Ulatowska,M.I., Weber-Dabrowska,B., Kwiatek,M., Parasion,S., Gawor,J., Kosowska,H., Glowacka,A.                                        │\n",
      "│ 6   │ Lobocka,M., Hejnowicz,M.S., Dabrowski,K., Gozdek,A., Kosakowski,J., Witkowska,M., Ulatowska,M.I., Weber-Dabrowska,B., Kwiatek,M., Parasion,S., Gawor,J., Kosowska,H., Glowacka,A.                                        │\n",
      "│ 7   │ Lobocka,M., Hejnowicz,M.S., Dabrowski,K., Gozdek,A., Kosakowski,J., Witkowska,M., Ulatowska,M.I., Weber-Dabrowska,B., Kwiatek,M., Parasion,S., Gawor,J., Kosowska,H., Glowacka,A.                                        │\n",
      "│ 8   │ Lobocka,M., Hejnowicz,M.S., Dabrowski,K., Gozdek,A., Kosakowski,J., Witkowska,M., Ulatowska,M.I., Weber-Dabrowska,B., Kwiatek,M., Parasion,S., Gawor,J., Kosowska,H., Glowacka,A.                                        │\n",
      "│ 9   │ Ulatowska,M.I., Weber-Dabrowska,B., Sadowy,E., Krzyszton-Russjan,J., Gorski,A., Lobocka,M.B.                                                                                                                             │\n",
      "│ 10  │ Zhang,X., Kang,H., Tong,Y.                                                                                                                                                                                               │\n",
      "│ 11  │ Zhang,X., Kang,H., Tong,Y.                                                                                                                                                                                               │\n",
      "│ 12  │ Zhang,X.                                                                                                                                                                                                                 │\n",
      "│ 13  │ Tong,Y., Zhang,X., Liu,X.                                                                                                                                                                                                │\n",
      "│ 14  │ Alves,D.R., Gaudion,A., Bean,J.E., Perez Esteban,P., Arnot,T.C., Harper,D.R., Kot,W., Hansen,L.H., Enright,M.C., Jenkins,A.T., Perez-Esteban,P., Arnot,T., Hanson,L.H.                                                   │\n",
      "│ 15  │ Yuan,W., Rao,X.                                                                                                                                                                                                          │\n",
      "│ 16  │ Takeuchi,I., Osada,K., Asakawa,H., Miyanaga,K., Tanji,Y.                                                                                                                                                                 │\n",
      "│ 17  │ Kvachadze,L., Balarjishvili,N., Meskhi,T., Tevdoradze,E., Skhirtladze,N., Pataridze,T., Adamia,R., Topuria,T., Kutter,E., Rohde,C., Kutateladze,M., Nikolaishvili,N., Raya,R., Stewart,C.R., Villegas,A., Kropinski,A.M. │\n",
      "│ 18  │ Cui,Z., Song,Z., Wang,Y., Zeng,L., Shen,W., Wang,Z., Li,Q., He,P., Qin,J., Guo,X.                                                                                                                                        │\n",
      "│ 19  │ Gu,J., Liu,X., Lu,R., Li,Y., Song,J., Lei,L., Sun,C., Feng,X., Du,C., Yu,H., Yang,Y., Han,W.                                                                                                                             │\n",
      "│ 20  │ Kwan,T., Liu,J., DuBow,M., Gros,P., Pelletier,J.                                                                                                                                                                         │\n",
      "│ 21  │ Gill,J.J.                                                                                                                                                                                                                │\n",
      "\n",
      "│ Row │ Release_Date         │ Species                      │ Genus    │\n",
      "│     │ \u001b[90mString\u001b[39m               │ \u001b[90mString\u001b[39m                       │ \u001b[90mString\u001b[39m   │\n",
      "├─────┼──────────────────────┼──────────────────────────────┼──────────┤\n",
      "│ 1   │ 2020-05-15T00:00:00Z │ Staphylococcus virus G1      │ Kayvirus │\n",
      "│ 2   │ 2020-05-15T00:00:00Z │ Staphylococcus virus G1      │ Kayvirus │\n",
      "│ 3   │ 2020-05-15T00:00:00Z │ Staphylococcus virus G1      │ Kayvirus │\n",
      "│ 4   │ 2020-05-15T00:00:00Z │ Staphylococcus virus G1      │ Kayvirus │\n",
      "│ 5   │ 2020-05-15T00:00:00Z │ Staphylococcus virus G1      │ Kayvirus │\n",
      "│ 6   │ 2020-05-15T00:00:00Z │ Staphylococcus virus G1      │ Kayvirus │\n",
      "│ 7   │ 2020-05-15T00:00:00Z │ Staphylococcus virus G1      │ Kayvirus │\n",
      "│ 8   │ 2020-05-15T00:00:00Z │ Staphylococcus virus G1      │ Kayvirus │\n",
      "│ 9   │ 2020-05-15T00:00:00Z │ Staphylococcus virus G1      │ Kayvirus │\n",
      "│ 10  │ 2020-05-15T00:00:00Z │ Staphylococcus virus G1      │ Kayvirus │\n",
      "│ 11  │ 2020-05-15T00:00:00Z │ Staphylococcus virus G1      │ Kayvirus │\n",
      "│ 12  │ 2020-05-15T00:00:00Z │ Staphylococcus virus G1      │ Kayvirus │\n",
      "│ 13  │ 2020-05-15T00:00:00Z │ Staphylococcus virus G1      │ Kayvirus │\n",
      "│ 14  │ 2014-11-25T00:00:00Z │ Staphylococcus virus MCE2014 │ Kayvirus │\n",
      "│ 15  │ 2014-11-10T00:00:00Z │ Staphylococcus virus P108    │ Kayvirus │\n",
      "│ 16  │ 2014-03-02T00:00:00Z │ Staphylococcus virus SA12    │ Kayvirus │\n",
      "│ 17  │ 2013-12-09T00:00:00Z │ Staphylococcus virus Sb1     │ Kayvirus │\n",
      "│ 18  │ 2012-12-07T00:00:00Z │ Staphylococcus virus JD7     │ Kayvirus │\n",
      "│ 19  │ 2012-11-16T00:00:00Z │ Staphylococcus virus G15     │ Kayvirus │\n",
      "│ 20  │ 2005-05-23T00:00:00Z │ Staphylococcus virus G1      │ Kayvirus │\n",
      "│ 21  │ 2004-06-14T00:00:00Z │ Staphylococcus virus K       │ Kayvirus │\n",
      "\n",
      "│ Row │ Family         │ Molecule_type │ Length │ Sequence_Type │\n",
      "│     │ \u001b[90mString\u001b[39m         │ \u001b[90mString\u001b[39m        │ \u001b[90mInt64\u001b[39m  │ \u001b[90mString\u001b[39m        │\n",
      "├─────┼────────────────┼───────────────┼────────┼───────────────┤\n",
      "│ 1   │ Herelleviridae │ dsDNA         │ 138339 │ RefSeq        │\n",
      "│ 2   │ Herelleviridae │ dsDNA         │ 137031 │ RefSeq        │\n",
      "│ 3   │ Herelleviridae │ dsDNA         │ 145647 │ RefSeq        │\n",
      "│ 4   │ Herelleviridae │ dsDNA         │ 141018 │ RefSeq        │\n",
      "│ 5   │ Herelleviridae │ dsDNA         │ 148564 │ RefSeq        │\n",
      "│ 6   │ Herelleviridae │ dsDNA         │ 148481 │ RefSeq        │\n",
      "│ 7   │ Herelleviridae │ dsDNA         │ 148243 │ RefSeq        │\n",
      "│ 8   │ Herelleviridae │ dsDNA         │ 147590 │ RefSeq        │\n",
      "│ 9   │ Herelleviridae │ dsDNA         │ 145542 │ RefSeq        │\n",
      "│ 10  │ Herelleviridae │ dsDNA         │ 140218 │ RefSeq        │\n",
      "│ 11  │ Herelleviridae │ dsDNA         │ 140906 │ RefSeq        │\n",
      "│ 12  │ Herelleviridae │ dsDNA         │ 139750 │ RefSeq        │\n",
      "│ 13  │ Herelleviridae │ dsDNA         │ 141028 │ RefSeq        │\n",
      "│ 14  │ Herelleviridae │ dsDNA         │ 141907 │ RefSeq        │\n",
      "│ 15  │ Herelleviridae │ dsDNA         │ 140807 │ RefSeq        │\n",
      "│ 16  │ Herelleviridae │ dsDNA         │ 142094 │ RefSeq        │\n",
      "│ 17  │ Herelleviridae │ dsDNA         │ 127188 │ RefSeq        │\n",
      "│ 18  │ Herelleviridae │ dsDNA         │ 141836 │ RefSeq        │\n",
      "│ 19  │ Herelleviridae │ dsDNA         │ 139806 │ RefSeq        │\n",
      "│ 20  │ Herelleviridae │ dsDNA         │ 138715 │ RefSeq        │\n",
      "│ 21  │ Herelleviridae │ dsDNA         │ 148317 │ RefSeq        │\n",
      "\n",
      "│ Row │ Nuc_Completeness │ Genotype │ Segment │ Publications │ Geo_Location    │\n",
      "│     │ \u001b[90mString\u001b[39m           │ \u001b[90mString\u001b[39m   │ \u001b[90mString\u001b[39m  │ \u001b[90mString\u001b[39m       │ \u001b[90mString\u001b[39m          │\n",
      "├─────┼──────────────────┼──────────┼─────────┼──────────────┼─────────────────┤\n",
      "│ 1   │ complete         │          │         │ 1            │ Georgia         │\n",
      "│ 2   │ complete         │          │         │ 1            │                 │\n",
      "│ 3   │ complete         │          │         │ 1            │                 │\n",
      "│ 4   │ complete         │          │         │ 1            │                 │\n",
      "│ 5   │ complete         │          │         │ 1            │                 │\n",
      "│ 6   │ complete         │          │         │ 1            │                 │\n",
      "│ 7   │ complete         │          │         │ 1            │                 │\n",
      "│ 8   │ complete         │          │         │ 1            │                 │\n",
      "│ 9   │ complete         │          │         │              │                 │\n",
      "│ 10  │ complete         │          │         │              │                 │\n",
      "│ 11  │ complete         │          │         │              │                 │\n",
      "│ 12  │ complete         │          │         │              │ China           │\n",
      "│ 13  │ complete         │          │         │              │ China           │\n",
      "│ 14  │ complete         │          │         │ 1            │                 │\n",
      "│ 15  │ complete         │          │         │              │                 │\n",
      "│ 16  │ complete         │          │         │              │                 │\n",
      "│ 17  │ complete         │          │         │ 1            │                 │\n",
      "│ 18  │ complete         │          │         │ 1            │ China: Shanghai │\n",
      "│ 19  │ complete         │          │         │ 1            │                 │\n",
      "│ 20  │ complete         │          │         │ 1            │                 │\n",
      "│ 21  │ complete         │          │         │ 1            │                 │\n",
      "\n",
      "│ Row │ USA    │ Host                  │ Isolation_Source │ Collection_Date │\n",
      "│     │ \u001b[90mString\u001b[39m │ \u001b[90mString\u001b[39m                │ \u001b[90mString\u001b[39m           │ \u001b[90mString\u001b[39m          │\n",
      "├─────┼────────┼───────────────────────┼──────────────────┼─────────────────┤\n",
      "│ 1   │        │ Staphylococcus aureus │                  │                 │\n",
      "│ 2   │        │ Staphylococcus aureus │                  │                 │\n",
      "│ 3   │        │ Staphylococcus aureus │                  │                 │\n",
      "│ 4   │        │ Staphylococcus aureus │                  │                 │\n",
      "│ 5   │        │ Staphylococcus aureus │                  │                 │\n",
      "│ 6   │        │ Staphylococcus aureus │                  │                 │\n",
      "│ 7   │        │ Staphylococcus aureus │                  │                 │\n",
      "│ 8   │        │ Staphylococcus aureus │                  │                 │\n",
      "│ 9   │        │ Staphylococcus aureus │                  │                 │\n",
      "│ 10  │        │ Staphylococcus aureus │                  │                 │\n",
      "│ 11  │        │ Staphylococcus aureus │                  │                 │\n",
      "│ 12  │        │ Staphylococcus aureus │                  │ 2014-09-19      │\n",
      "│ 13  │        │ Staphylococcus aureus │                  │                 │\n",
      "│ 14  │        │ Staphylococcus aureus │                  │                 │\n",
      "│ 15  │        │ Staphylococcus aureus │                  │                 │\n",
      "│ 16  │        │ Staphylococcus aureus │                  │                 │\n",
      "│ 17  │        │ Staphylococcus aureus │                  │                 │\n",
      "│ 18  │        │ Staphylococcus aureus │                  │                 │\n",
      "│ 19  │        │ Staphylococcus aureus │                  │                 │\n",
      "│ 20  │        │ Staphylococcus aureus │                  │                 │\n",
      "│ 21  │        │ Staphylococcus aureus │                  │                 │\n",
      "\n",
      "│ Row │ BioSample │ GenBank_Title                                      │\n",
      "│     │ \u001b[90mString\u001b[39m    │ \u001b[90mString\u001b[39m                                             │\n",
      "├─────┼───────────┼────────────────────────────────────────────────────┤\n",
      "│ 1   │           │ Staphylococcus phage ISP complete genome           │\n",
      "│ 2   │           │ Staphylococcus phage SA5, complete genome          │\n",
      "│ 3   │           │ Staphylococcus phage Staph1N, complete genome      │\n",
      "│ 4   │           │ Staphylococcus phage A3R, complete genome          │\n",
      "│ 5   │           │ Staphylococcus phage 676Z, complete genome         │\n",
      "│ 6   │           │ Staphylococcus phage Fi200W, complete genome       │\n",
      "│ 7   │           │ Staphylococcus phage MSA6, complete genome         │\n",
      "│ 8   │           │ Staphylococcus phage P4W, complete genome          │\n",
      "│ 9   │           │ Staphylococcus phage A5W, complete genome          │\n",
      "│ 10  │           │ Staphylococcus phage IME-SA1, complete genome      │\n",
      "│ 11  │           │ Staphylococcus phage IME-SA2, complete genome      │\n",
      "│ 12  │           │ Staphylococcus phage IME-SA118, complete genome    │\n",
      "│ 13  │           │ Staphylococcus phage IME-SA119, complete genome    │\n",
      "│ 14  │           │ Staphylococcus phage MCE-2014, complete genome     │\n",
      "│ 15  │           │ Staphylococcus phage P108, complete genome         │\n",
      "│ 16  │           │ Staphylococcus phage phiSA012 DNA, complete genome │\n",
      "│ 17  │           │ Staphylococcus phage Sb-1, complete genome         │\n",
      "│ 18  │           │ Staphylococcus phage JD007, complete genome        │\n",
      "│ 19  │           │ Staphylococcus phage GH15, complete genome         │\n",
      "│ 20  │           │ Staphylococcus phage G1, complete genome           │\n",
      "│ 21  │           │ Staphylococcus phage K, complete genome            │"
     ]
    }
   ],
   "source": [
    "show(ncbi_staph_phage_metadata, allcols=true)"
   ]
  },
  {
   "cell_type": "code",
   "execution_count": 32,
   "metadata": {},
   "outputs": [
    {
     "data": {
      "text/plain": [
       "BioSequences.Mer{BioSequences.DNAAlphabet{2},5}"
      ]
     },
     "execution_count": 32,
     "metadata": {},
     "output_type": "execute_result"
    }
   ],
   "source": [
    "# k = 3\n",
    "k = 5\n",
    "KMER_TYPE = BioSequences.DNAMer{k}"
   ]
  },
  {
   "cell_type": "code",
   "execution_count": 33,
   "metadata": {},
   "outputs": [
    {
     "data": {
      "text/plain": [
       "BioSequences.Mer{BioSequences.DNAAlphabet{2},6}"
      ]
     },
     "execution_count": 33,
     "metadata": {},
     "output_type": "execute_result"
    }
   ],
   "source": [
    "EDGE_MER = BioSequences.DNAMer{k+1}"
   ]
  },
  {
   "cell_type": "code",
   "execution_count": 34,
   "metadata": {},
   "outputs": [
    {
     "data": {
      "text/plain": [
       "996-element Array{BioSequences.Mer{BioSequences.DNAAlphabet{2},5},1}:\n",
       " AAAAA\n",
       " AAAAC\n",
       " AAAAG\n",
       " AAAAT\n",
       " AAACA\n",
       " AAACC\n",
       " AAACG\n",
       " AAACT\n",
       " AAAGA\n",
       " AAAGC\n",
       " AAAGG\n",
       " AAAGT\n",
       " AAATA\n",
       " ⋮\n",
       " TTTCA\n",
       " TTTCC\n",
       " TTTCG\n",
       " TTTCT\n",
       " TTTGA\n",
       " TTTGC\n",
       " TTTGG\n",
       " TTTGT\n",
       " TTTTA\n",
       " TTTTC\n",
       " TTTTG\n",
       " TTTTT"
      ]
     },
     "execution_count": 34,
     "metadata": {},
     "output_type": "execute_result"
    }
   ],
   "source": [
    "accession = ncbi_staph_phage_metadata[1, \"Accession\"]\n",
    "fastx = collect(get_sequence(db = \"nuccore\", accession = accession))\n",
    "kmers = Set(collect(keys(count_kmers(KMER_TYPE, fastx))))\n",
    "for accession in ncbi_staph_phage_metadata[2:end, \"Accession\"]\n",
    "    fastx = collect(get_sequence(db = \"nuccore\", accession = accession))\n",
    "    kmers = union!(kmers, collect(keys(count_kmers(KMER_TYPE, fastx))))\n",
    "end\n",
    "for kmer in kmers\n",
    "    push!(kmers, BioSequences.reverse_complement(kmer))\n",
    "end\n",
    "unique!(sort!(collect(kmers)))"
   ]
  },
  {
   "cell_type": "code",
   "execution_count": 35,
   "metadata": {},
   "outputs": [
    {
     "data": {
      "text/plain": [
       "4-element Array{BioSymbols.DNA,1}:\n",
       " DNA_A\n",
       " DNA_C\n",
       " DNA_G\n",
       " DNA_T"
      ]
     },
     "execution_count": 35,
     "metadata": {},
     "output_type": "execute_result"
    }
   ],
   "source": [
    "nucleotides = [BioSequences.DNA_A, BioSequences.DNA_C, BioSequences.DNA_G, BioSequences.DNA_T]"
   ]
  },
  {
   "cell_type": "code",
   "execution_count": 44,
   "metadata": {},
   "outputs": [
    {
     "data": {
      "text/plain": [
       "1024-element Array{BioSequences.Mer{BioSequences.DNAAlphabet{2},5},1}:\n",
       " AAAAA\n",
       " AAAAC\n",
       " AAAAG\n",
       " AAAAT\n",
       " AAACA\n",
       " AAACC\n",
       " AAACG\n",
       " AAACT\n",
       " AAAGA\n",
       " AAAGC\n",
       " AAAGG\n",
       " AAAGT\n",
       " AAATA\n",
       " ⋮\n",
       " TTTCA\n",
       " TTTCC\n",
       " TTTCG\n",
       " TTTCT\n",
       " TTTGA\n",
       " TTTGC\n",
       " TTTGG\n",
       " TTTGT\n",
       " TTTTA\n",
       " TTTTC\n",
       " TTTTG\n",
       " TTTTT"
      ]
     },
     "execution_count": 44,
     "metadata": {},
     "output_type": "execute_result"
    }
   ],
   "source": [
    "all_kmers = sort(BioSequences.DNAMer.(vec(collect(Iterators.product(nucleotides, nucleotides, nucleotides, nucleotides, nucleotides)))))"
   ]
  },
  {
   "cell_type": "code",
   "execution_count": 47,
   "metadata": {},
   "outputs": [
    {
     "data": {
      "text/plain": [
       "28-element Array{BioSequences.Mer{BioSequences.DNAAlphabet{2},5},1}:\n",
       " ACGCG\n",
       " AGATC\n",
       " AGCGA\n",
       " AGGCC\n",
       " CCGCG\n",
       " CGATC\n",
       " CGCGA\n",
       " CGCGC\n",
       " CGCGG\n",
       " CGCGT\n",
       " CGGCC\n",
       " CTCGC\n",
       " GATCA\n",
       " ⋮\n",
       " GCGAA\n",
       " GCGAG\n",
       " GCGCG\n",
       " GGATC\n",
       " GGCCG\n",
       " GGCCT\n",
       " GGCGA\n",
       " TCGCC\n",
       " TCGCG\n",
       " TCGCT\n",
       " TGATC\n",
       " TTCGC"
      ]
     },
     "execution_count": 47,
     "metadata": {},
     "output_type": "execute_result"
    }
   ],
   "source": [
    "unhit_kmers = [kmer for kmer in all_kmers if !(kmer in kmers)]"
   ]
  },
  {
   "cell_type": "code",
   "execution_count": 49,
   "metadata": {},
   "outputs": [
    {
     "data": {
      "text/plain": [
       "28-element Array{BioSequences.LongSequence{BioSequences.DNAAlphabet{2}},1}:\n",
       " ACGCG\n",
       " AGATC\n",
       " AGCGA\n",
       " AGGCC\n",
       " CCGCG\n",
       " CGATC\n",
       " CGCGA\n",
       " CGCGC\n",
       " CGCGG\n",
       " CGCGT\n",
       " CGGCC\n",
       " CTCGC\n",
       " GATCA\n",
       " ⋮\n",
       " GCGAA\n",
       " GCGAG\n",
       " GCGCG\n",
       " GGATC\n",
       " GGCCG\n",
       " GGCCT\n",
       " GGCGA\n",
       " TCGCC\n",
       " TCGCG\n",
       " TCGCT\n",
       " TGATC\n",
       " TTCGC"
      ]
     },
     "execution_count": 49,
     "metadata": {},
     "output_type": "execute_result"
    }
   ],
   "source": [
    "unhit_sequences = BioSequences.LongSequence.(unhit_kmers)"
   ]
  },
  {
   "cell_type": "code",
   "execution_count": 52,
   "metadata": {},
   "outputs": [
    {
     "data": {
      "text/plain": [
       "17-element Array{BioSequences.LongSequence{BioSequences.DNAAlphabet{2}},1}:\n",
       " ACGC\n",
       " AGAT\n",
       " AGCG\n",
       " AGGC\n",
       " ATCA\n",
       " ATCC\n",
       " ATCG\n",
       " CCGC\n",
       " CGAA\n",
       " CGAG\n",
       " CGCC\n",
       " CGCG\n",
       " CGGC\n",
       " GATC\n",
       " GCGA\n",
       " GCGC\n",
       " GGCC"
      ]
     },
     "execution_count": 52,
     "metadata": {},
     "output_type": "execute_result"
    }
   ],
   "source": [
    "unhit_fourmers = vcat(\n",
    "    [s[1:end-1] for s in unhit_sequences],\n",
    "    [s[2:end] for s in unhit_sequences]\n",
    ")\n",
    "unique!(sort!(BioSequences.canonical.(unhit_fourmers)))"
   ]
  },
  {
   "cell_type": "code",
   "execution_count": 25,
   "metadata": {},
   "outputs": [
    {
     "data": {
      "text/plain": [
       "true"
      ]
     },
     "execution_count": 25,
     "metadata": {},
     "output_type": "execute_result"
    }
   ],
   "source": [
    "kmer_graph = MetaGraphs.MetaDiGraph(length(kmers))\n",
    "MetaGraphs.set_prop!(kmer_graph, :k, k)"
   ]
  },
  {
   "cell_type": "code",
   "execution_count": 26,
   "metadata": {},
   "outputs": [],
   "source": [
    "for (vertex, kmer) in enumerate(kmers)\n",
    "    MetaGraphs.set_prop!(kmer_graph, vertex, :kmer, kmer)\n",
    "end"
   ]
  },
  {
   "cell_type": "code",
   "execution_count": 30,
   "metadata": {},
   "outputs": [
    {
     "ename": "LoadError",
     "evalue": "AssertionError: GGCCA",
     "output_type": "error",
     "traceback": [
      "AssertionError: GGCCA",
      "",
      "Stacktrace:",
      " [1] get_kmer_index(::Array{BioSequences.Mer{BioSequences.DNAAlphabet{2},5},1}, ::BioSequences.Mer{BioSequences.DNAAlphabet{2},5}) at ./In[29]:3",
      " [2] top-level scope at ./In[30]:31",
      " [3] include_string(::Function, ::Module, ::String, ::String) at ./loading.jl:1091"
     ]
    }
   ],
   "source": [
    "for accession in ncbi_staph_phage_metadata[!, \"Accession\"]\n",
    "    fastx = collect(get_sequence(db = \"nuccore\", accession = accession))\n",
    "    for record in fastx\n",
    "        sequence = FASTX.sequence(record)\n",
    "        record_identifier = FASTX.identifier(record) \n",
    "        edge_iterator = BioSequences.each(EDGE_MER, sequence)\n",
    "        for sequence_edge in edge_iterator\n",
    "            # forward\n",
    "\n",
    "            forward_source = BioSequences.DNAMer(BioSequences.LongDNASeq(sequence_edge.fw)[1:end-1])\n",
    "            forward_destination = BioSequences.DNAMer(BioSequences.LongDNASeq(sequence_edge.fw)[2:end])\n",
    "            \n",
    "            forward_source_index = get_kmer_index(kmers, forward_source)\n",
    "            forward_source_evidence = (identifier = FASTX.identifier(record), position = sequence_edge.position, orientation = true)\n",
    "            add_evidence!(kmer_graph, forward_source_index, forward_source_evidence)\n",
    "\n",
    "            forward_destination_index = get_kmer_index(kmers, forward_destination)\n",
    "            forward_destination_evidence = (identifier = FASTX.identifier(record), position = sequence_edge.position + 1, orientation = true)\n",
    "            add_evidence!(kmer_graph, forward_destination_index, forward_destination_evidence)\n",
    "\n",
    "            graph_edge = LightGraphs.Edge(forward_source_index, forward_destination_index)\n",
    "            LightGraphs.add_edge!(kmer_graph, graph_edge)\n",
    "            forward_edge_evidence = (identifier = FASTX.identifier(record), position = sequence_edge.position, orientation = true)\n",
    "            add_evidence!(kmer_graph, graph_edge, forward_edge_evidence)\n",
    "\n",
    "            # reverse\n",
    "\n",
    "            reverse_source = BioSequences.DNAMer(BioSequences.LongDNASeq(sequence_edge.bw)[1:end-1])\n",
    "            reverse_destination = BioSequences.DNAMer(BioSequences.LongDNASeq(sequence_edge.fw)[2:end])\n",
    "            \n",
    "            reverse_source_index = get_kmer_index(kmers, reverse_source)\n",
    "            reverse_source_evidence = (identifier = FASTX.identifier(record), position = sequence_edge.position + 1, orientation = false)\n",
    "            add_evidence!(kmer_graph, reverse_source_index, reverse_source_evidence)\n",
    "            \n",
    "            reverse_destination_index = get_kmer_index(kmers, reverse_destination)\n",
    "            reverse_destination_evidence = (identifier = FASTX.identifier(record), position = sequence_edge.position, orientation = false)\n",
    "            add_evidence!(kmer_graph, reverse_destination_index, reverse_destination_evidence)\n",
    "\n",
    "            graph_edge = LightGraphs.Edge(reverse_source_index, reverse_destination_index)\n",
    "            LightGraphs.add_edge!(kmer_graph, graph_edge)\n",
    "            reverse_edge_evidence = (identifier = FASTX.identifier(record), position = sequence_edge.position, orientation = false)\n",
    "            add_evidence!(kmer_graph, graph_edge, reverse_edge_evidence)\n",
    "        end\n",
    "    end\n",
    "end"
   ]
  },
  {
   "cell_type": "code",
   "execution_count": 28,
   "metadata": {},
   "outputs": [
    {
     "ename": "LoadError",
     "evalue": "KeyError: key :evidence not found",
     "output_type": "error",
     "traceback": [
      "KeyError: key :evidence not found",
      "",
      "Stacktrace:",
      " [1] getindex(::Dict{Symbol,Any}, ::Symbol) at ./dict.jl:467",
      " [2] (::var\"#10#11\")(::IOStream) at ./In[28]:6",
      " [3] open(::var\"#10#11\", ::String, ::Vararg{String,N} where N; kwargs::Base.Iterators.Pairs{Union{},Union{},Tuple{},NamedTuple{(),Tuple{}}}) at ./io.jl:325",
      " [4] open(::Function, ::String, ::String) at ./io.jl:323",
      " [5] top-level scope at In[28]:2",
      " [6] include_string(::Function, ::Module, ::String, ::String) at ./loading.jl:1091"
     ]
    }
   ],
   "source": [
    "outfile = \"test.$(k).gfa\"\n",
    "open(outfile, \"w\") do io\n",
    "    println(io, \"H\\tVN:Z:1.0\")\n",
    "    for vertex in LightGraphs.vertices(kmer_graph)\n",
    "        kmer = kmer_graph.vprops[vertex][:kmer]\n",
    "        depth = length(kmer_graph.vprops[vertex][:evidence])\n",
    "        fields = [\"S\", \"$vertex\", kmer, \"RC:i:$(depth)\"]\n",
    "        line = join(fields, '\\t')\n",
    "        println(io, line)\n",
    "    end\n",
    "    for edge in LightGraphs.edges(kmer_graph)\n",
    "        overlap = kmer_graph.gprops[:k] - 1\n",
    "        link = [\"L\",\n",
    "                    edge.src,\n",
    "                    '+',\n",
    "                    edge.dst,\n",
    "                    '+',\n",
    "                    \"$(overlap)M\"]\n",
    "        line = join(link, '\\t')\n",
    "        println(io, line)\n",
    "    end\n",
    "end"
   ]
  }
 ],
 "metadata": {
  "kernelspec": {
   "display_name": "Julia 1.5.3",
   "language": "julia",
   "name": "julia-1.5"
  },
  "language_info": {
   "file_extension": ".jl",
   "mimetype": "application/julia",
   "name": "julia",
   "version": "1.5.3"
  }
 },
 "nbformat": 4,
 "nbformat_minor": 4
}
