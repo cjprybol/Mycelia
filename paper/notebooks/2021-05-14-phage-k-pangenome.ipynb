{
 "cells": [
  {
   "cell_type": "code",
   "execution_count": 1,
   "metadata": {},
   "outputs": [
    {
     "data": {
      "text/plain": [
       "\"/Users/cameronprybol/2021-05-14-phage-k-pangenome\""
      ]
     },
     "execution_count": 1,
     "metadata": {},
     "output_type": "execute_result"
    }
   ],
   "source": [
    "DATE = \"2021-05-14\"\n",
    "TASK = \"phage-k-pangenome\"\n",
    "DIR = mkpath(\"$(homedir())/$(DATE)-$(TASK)\")"
   ]
  },
  {
   "cell_type": "code",
   "execution_count": 2,
   "metadata": {},
   "outputs": [
    {
     "name": "stderr",
     "output_type": "stream",
     "text": [
      "┌ Info: Precompiling LightGraphs [093fc24a-ae57-5d10-9952-331d41423f4d]\n",
      "└ @ Base loading.jl:1278\n",
      "┌ Info: Precompiling MetaGraphs [626554b9-1ddb-594c-aa3c-2596fe9399a5]\n",
      "└ @ Base loading.jl:1278\n",
      "┌ Info: Precompiling BioSequences [7e6ae17a-c86d-528c-b3b9-7f778a29fe59]\n",
      "└ @ Base loading.jl:1278\n",
      "[ Info: Compiling bit-parallel GC counter for LongSequence{<:NucleicAcidAlphabet}\n",
      "[ Info: Compiling bit-parallel mismatch counter for LongSequence{<:NucleicAcidAlphabet}\n",
      "[ Info: Compiling bit-parallel match counter for LongSequence{<:NucleicAcidAlphabet}\n",
      "[ Info: Compiling bit-parallel ambiguity counter...\n",
      "[ Info: \tFor a single LongSequence{<:NucleicAcidAlphabet}\n",
      "[ Info: \tFor a pair of LongSequence{<:NucleicAcidAlphabet}s\n",
      "[ Info: Compiling bit-parallel certainty counter for LongSequence{<:NucleicAcidAlphabet}\n",
      "[ Info: Compiling bit-parallel gap counter for LongSequence{<:NucleicAcidAlphabet}\n"
     ]
    }
   ],
   "source": [
    "import LightGraphs\n",
    "import MetaGraphs\n",
    "import BioSequences"
   ]
  },
  {
   "cell_type": "code",
   "execution_count": 3,
   "metadata": {},
   "outputs": [
    {
     "name": "stderr",
     "output_type": "stream",
     "text": [
      "┌ Info: Precompiling FASTX [c2308a5c-f048-11e8-3e8a-31650f418d12]\n",
      "└ @ Base loading.jl:1278\n"
     ]
    }
   ],
   "source": [
    "import uCSV\n",
    "import DataFrames\n",
    "import FASTX\n",
    "import HTTP\n",
    "import CodecZlib\n",
    "import DataStructures"
   ]
  },
  {
   "cell_type": "code",
   "execution_count": 4,
   "metadata": {},
   "outputs": [],
   "source": [
    "import Pkg"
   ]
  },
  {
   "cell_type": "code",
   "execution_count": null,
   "metadata": {},
   "outputs": [],
   "source": [
    "function add_evidence!(kmer_graph, index::Int, evidence)\n",
    "    if MetaGraphs.has_prop(kmer_graph, index, :evidence)\n",
    "        push!(kmer_graph.vprops[index][:evidence], evidence)\n",
    "    else\n",
    "        MetaGraphs.set_prop!(kmer_graph, index, :evidence, Set([evidence]))\n",
    "    end\n",
    "end\n",
    "\n",
    "function add_evidence!(kmer_graph, edge::LightGraphs.SimpleGraphs.AbstractSimpleEdge, evidence)\n",
    "    if MetaGraphs.has_prop(kmer_graph, edge, :evidence)\n",
    "        push!(kmer_graph.eprops[edge][:evidence], evidence)\n",
    "    else\n",
    "        MetaGraphs.set_prop!(kmer_graph, edge, :evidence, Set([evidence]))\n",
    "    end\n",
    "end"
   ]
  },
  {
   "cell_type": "code",
   "execution_count": null,
   "metadata": {},
   "outputs": [],
   "source": [
    "function count_kmers(::Type{KMER_TYPE}, sequence::BioSequences.LongSequence) where KMER_TYPE\n",
    "    kmer_counts = DataStructures.OrderedDict{KMER_TYPE, Int}()\n",
    "    kmer_iterator = (kmer.fw for kmer in BioSequences.each(KMER_TYPE, sequence))\n",
    "    for kmer in kmer_iterator\n",
    "        kmer_counts[kmer] = get(kmer_counts, kmer, 0) + 1\n",
    "    end\n",
    "    return kmer_counts\n",
    "end\n",
    "\n",
    "function count_kmers(::Type{KMER_TYPE}, record::R) where {KMER_TYPE, R <: Union{FASTX.FASTA.Record, FASTX.FASTQ.Record}}\n",
    "    return count_kmers(KMER_TYPE, FASTX.sequence(record))    \n",
    "end\n",
    "\n",
    "function count_kmers(::Type{KMER_TYPE}, sequences) where KMER_TYPE\n",
    "    joint_kmer_counts = DataStructures.OrderedDict{KMER_TYPE, Int}()\n",
    "    for sequence in sequences\n",
    "        sequence_kmer_counts = count_kmers(KMER_TYPE, sequence)\n",
    "        merge!(+, joint_kmer_counts, sequence_kmer_counts)\n",
    "    end\n",
    "    sort!(joint_kmer_counts)\n",
    "end"
   ]
  },
  {
   "cell_type": "code",
   "execution_count": null,
   "metadata": {},
   "outputs": [],
   "source": [
    "function get_kmer_index(kmers, kmer)\n",
    "    index = searchsortedfirst(kmers, kmer)\n",
    "    @assert kmers[index] == kmer \"$kmer\"\n",
    "    return index\n",
    "end"
   ]
  },
  {
   "cell_type": "code",
   "execution_count": null,
   "metadata": {},
   "outputs": [],
   "source": [
    "\"\"\"\n",
    "\tfunction get_sequence(;db=\"\"::String, accession=\"\"::String, ftp=\"\"::String)\n",
    "\n",
    "Get dna (db = \"nuccore\") or protein (db = \"protein\") sequences from NCBI\n",
    "or get fasta directly from FTP site\n",
    "\"\"\"\n",
    "function get_sequence(;db=\"\"::String, accession=\"\"::String, ftp=\"\"::String)\n",
    "    if !isempty(db) && !isempty(accession)\n",
    "        # API will block if we request more than 3 times per second, so set a 1/2 second sleep to set max of 2 requests per second when looping\n",
    "        sleep(0.5)\n",
    "        url = \"https://www.ncbi.nlm.nih.gov/sviewer/viewer.cgi?db=$(db)&report=fasta&id=$(accession)\"\n",
    "        return FASTX.FASTA.Reader(IOBuffer(HTTP.get(url).body))\n",
    "    elseif !isempty(ftp)\n",
    "        return FASTX.FASTA.Reader(CodecZlib.GzipDecompressorStream(IOBuffer(HTTP.get(ftp).body)))\n",
    "    else\n",
    "        @error \"invalid call\"\n",
    "    end\n",
    "end"
   ]
  },
  {
   "cell_type": "code",
   "execution_count": null,
   "metadata": {},
   "outputs": [],
   "source": [
    "Git_directory = homedir() * \"/\" * first(filter(x -> occursin(r\"^git$\"i, x), readdir(homedir())))\n",
    "path = \"$(Git_directory)/Eisenia\"\n",
    "push!(LOAD_PATH, path); Pkg.activate(path); Pkg.update(); Pkg.instantiate(); Pkg.activate()\n",
    "import Eisenia"
   ]
  },
  {
   "cell_type": "code",
   "execution_count": null,
   "metadata": {},
   "outputs": [],
   "source": [
    "ncbi_staph_phage_metadata = DataFrames.DataFrame(uCSV.read(\"$(DIR)/sequences.csv\", header=1, quotes='\"', typedetectrows=100)...)\n",
    "\n",
    "ncbi_staph_phage_metadata = ncbi_staph_phage_metadata[ncbi_staph_phage_metadata[!, \"Nuc_Completeness\"] .== \"complete\", :]\n",
    "\n",
    "ncbi_staph_phage_metadata = ncbi_staph_phage_metadata[ncbi_staph_phage_metadata[!, \"Genus\"] .== \"Kayvirus\", :]\n",
    "\n",
    "ncbi_staph_phage_metadata = ncbi_staph_phage_metadata[ncbi_staph_phage_metadata[!, \"Sequence_Type\"] .== \"RefSeq\", :]"
   ]
  },
  {
   "cell_type": "code",
   "execution_count": null,
   "metadata": {},
   "outputs": [],
   "source": [
    "show(ncbi_staph_phage_metadata, allcols=true)"
   ]
  },
  {
   "cell_type": "code",
   "execution_count": null,
   "metadata": {},
   "outputs": [],
   "source": [
    "# k = 3\n",
    "k = 5\n",
    "KMER_TYPE = BioSequences.DNAMer{k}"
   ]
  },
  {
   "cell_type": "code",
   "execution_count": null,
   "metadata": {},
   "outputs": [],
   "source": [
    "EDGE_MER = BioSequences.DNAMer{k+1}"
   ]
  },
  {
   "cell_type": "code",
   "execution_count": null,
   "metadata": {},
   "outputs": [],
   "source": [
    "accession = ncbi_staph_phage_metadata[1, \"Accession\"]\n",
    "fastx = collect(get_sequence(db = \"nuccore\", accession = accession))\n",
    "kmers = Set(collect(keys(count_kmers(KMER_TYPE, fastx))))\n",
    "for accession in ncbi_staph_phage_metadata[2:end, \"Accession\"]\n",
    "    fastx = collect(get_sequence(db = \"nuccore\", accession = accession))\n",
    "    kmers = union!(kmers, collect(keys(count_kmers(KMER_TYPE, fastx))))\n",
    "end\n",
    "for kmer in kmers\n",
    "    push!(kmers, BioSequences.reverse_complement(kmer))\n",
    "end\n",
    "unique!(sort!(collect(kmers)))"
   ]
  },
  {
   "cell_type": "code",
   "execution_count": null,
   "metadata": {},
   "outputs": [],
   "source": [
    "nucleotides = [BioSequences.DNA_A, BioSequences.DNA_C, BioSequences.DNA_G, BioSequences.DNA_T]"
   ]
  },
  {
   "cell_type": "code",
   "execution_count": null,
   "metadata": {},
   "outputs": [],
   "source": [
    "all_kmers = sort(BioSequences.DNAMer.(vec(collect(Iterators.product(nucleotides, nucleotides, nucleotides, nucleotides, nucleotides)))))"
   ]
  },
  {
   "cell_type": "code",
   "execution_count": null,
   "metadata": {},
   "outputs": [],
   "source": [
    "unhit_kmers = [kmer for kmer in all_kmers if !(kmer in kmers)]"
   ]
  },
  {
   "cell_type": "code",
   "execution_count": null,
   "metadata": {},
   "outputs": [],
   "source": [
    "unhit_sequences = BioSequences.LongSequence.(unhit_kmers)"
   ]
  },
  {
   "cell_type": "code",
   "execution_count": null,
   "metadata": {},
   "outputs": [],
   "source": [
    "unhit_fourmers = vcat(\n",
    "    [s[1:end-1] for s in unhit_sequences],\n",
    "    [s[2:end] for s in unhit_sequences]\n",
    ")\n",
    "unique!(sort!(BioSequences.canonical.(unhit_fourmers)))"
   ]
  },
  {
   "cell_type": "code",
   "execution_count": null,
   "metadata": {},
   "outputs": [],
   "source": [
    "kmer_graph = MetaGraphs.MetaDiGraph(length(kmers))\n",
    "MetaGraphs.set_prop!(kmer_graph, :k, k)"
   ]
  },
  {
   "cell_type": "code",
   "execution_count": null,
   "metadata": {},
   "outputs": [],
   "source": [
    "for (vertex, kmer) in enumerate(kmers)\n",
    "    MetaGraphs.set_prop!(kmer_graph, vertex, :kmer, kmer)\n",
    "end"
   ]
  },
  {
   "cell_type": "code",
   "execution_count": null,
   "metadata": {},
   "outputs": [],
   "source": [
    "for accession in ncbi_staph_phage_metadata[!, \"Accession\"]\n",
    "    fastx = collect(get_sequence(db = \"nuccore\", accession = accession))\n",
    "    for record in fastx\n",
    "        sequence = FASTX.sequence(record)\n",
    "        record_identifier = FASTX.identifier(record) \n",
    "        edge_iterator = BioSequences.each(EDGE_MER, sequence)\n",
    "        for sequence_edge in edge_iterator\n",
    "            # forward\n",
    "\n",
    "            forward_source = BioSequences.DNAMer(BioSequences.LongDNASeq(sequence_edge.fw)[1:end-1])\n",
    "            forward_destination = BioSequences.DNAMer(BioSequences.LongDNASeq(sequence_edge.fw)[2:end])\n",
    "            \n",
    "            forward_source_index = get_kmer_index(kmers, forward_source)\n",
    "            forward_source_evidence = (identifier = FASTX.identifier(record), position = sequence_edge.position, orientation = true)\n",
    "            add_evidence!(kmer_graph, forward_source_index, forward_source_evidence)\n",
    "\n",
    "            forward_destination_index = get_kmer_index(kmers, forward_destination)\n",
    "            forward_destination_evidence = (identifier = FASTX.identifier(record), position = sequence_edge.position + 1, orientation = true)\n",
    "            add_evidence!(kmer_graph, forward_destination_index, forward_destination_evidence)\n",
    "\n",
    "            graph_edge = LightGraphs.Edge(forward_source_index, forward_destination_index)\n",
    "            LightGraphs.add_edge!(kmer_graph, graph_edge)\n",
    "            forward_edge_evidence = (identifier = FASTX.identifier(record), position = sequence_edge.position, orientation = true)\n",
    "            add_evidence!(kmer_graph, graph_edge, forward_edge_evidence)\n",
    "\n",
    "            # reverse\n",
    "\n",
    "            reverse_source = BioSequences.DNAMer(BioSequences.LongDNASeq(sequence_edge.bw)[1:end-1])\n",
    "            reverse_destination = BioSequences.DNAMer(BioSequences.LongDNASeq(sequence_edge.fw)[2:end])\n",
    "            \n",
    "            reverse_source_index = get_kmer_index(kmers, reverse_source)\n",
    "            reverse_source_evidence = (identifier = FASTX.identifier(record), position = sequence_edge.position + 1, orientation = false)\n",
    "            add_evidence!(kmer_graph, reverse_source_index, reverse_source_evidence)\n",
    "            \n",
    "            reverse_destination_index = get_kmer_index(kmers, reverse_destination)\n",
    "            reverse_destination_evidence = (identifier = FASTX.identifier(record), position = sequence_edge.position, orientation = false)\n",
    "            add_evidence!(kmer_graph, reverse_destination_index, reverse_destination_evidence)\n",
    "\n",
    "            graph_edge = LightGraphs.Edge(reverse_source_index, reverse_destination_index)\n",
    "            LightGraphs.add_edge!(kmer_graph, graph_edge)\n",
    "            reverse_edge_evidence = (identifier = FASTX.identifier(record), position = sequence_edge.position, orientation = false)\n",
    "            add_evidence!(kmer_graph, graph_edge, reverse_edge_evidence)\n",
    "        end\n",
    "    end\n",
    "end"
   ]
  },
  {
   "cell_type": "code",
   "execution_count": null,
   "metadata": {},
   "outputs": [],
   "source": [
    "outfile = \"test.$(k).gfa\"\n",
    "open(outfile, \"w\") do io\n",
    "    println(io, \"H\\tVN:Z:1.0\")\n",
    "    for vertex in LightGraphs.vertices(kmer_graph)\n",
    "        kmer = kmer_graph.vprops[vertex][:kmer]\n",
    "        depth = length(kmer_graph.vprops[vertex][:evidence])\n",
    "        fields = [\"S\", \"$vertex\", kmer, \"RC:i:$(depth)\"]\n",
    "        line = join(fields, '\\t')\n",
    "        println(io, line)\n",
    "    end\n",
    "    for edge in LightGraphs.edges(kmer_graph)\n",
    "        overlap = kmer_graph.gprops[:k] - 1\n",
    "        link = [\"L\",\n",
    "                    edge.src,\n",
    "                    '+',\n",
    "                    edge.dst,\n",
    "                    '+',\n",
    "                    \"$(overlap)M\"]\n",
    "        line = join(link, '\\t')\n",
    "        println(io, line)\n",
    "    end\n",
    "end"
   ]
  }
 ],
 "metadata": {
  "kernelspec": {
   "display_name": "Julia 1.5.3",
   "language": "julia",
   "name": "julia-1.5"
  },
  "language_info": {
   "file_extension": ".jl",
   "mimetype": "application/julia",
   "name": "julia",
   "version": "1.5.3"
  }
 },
 "nbformat": 4,
 "nbformat_minor": 4
}
