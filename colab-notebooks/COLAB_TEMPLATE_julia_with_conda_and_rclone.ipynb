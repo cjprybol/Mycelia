{
  "cells": [
    {
      "cell_type": "markdown",
      "metadata": {
        "id": "view-in-github",
        "colab_type": "text"
      },
      "source": [
        "<a href=\"https://colab.research.google.com/github/cjprybol/Mycelia/blob/master/COLAB_TEMPLATE_julia_with_conda_and_rclone.ipynb\" target=\"_parent\"><img src=\"https://colab.research.google.com/assets/colab-badge.svg\" alt=\"Open In Colab\"/></a>"
      ]
    },
    {
      "cell_type": "code",
      "source": [
        "import io\n",
        "import os\n",
        "from google.colab import userdata\n",
        "import subprocess"
      ],
      "metadata": {
        "id": "-Jpk6y-Ybaad"
      },
      "execution_count": null,
      "outputs": []
    },
    {
      "cell_type": "code",
      "source": [
        "# first, install rclone to connect back and forth with Google Drive\n",
        "# since in the colab google drive integration doesn't work with non-python kernels\n",
        "!sudo -v ; curl https://rclone.org/install.sh | sudo bash\n",
        "\n",
        "rclone_conf_content = f'''\n",
        "[my_drive]\n",
        "type = drive\n",
        "scope = drive\n",
        "token = {userdata.get('RCLONE_CONFIG_PERSONAL_GOOGLE_DRIVE_TOKEN')}\n",
        "client_id = {userdata.get('RCLONE_CONFIG_MY_DRIVE_CLIENT_ID')}\n",
        "client_secret = {userdata.get('RCLONE_CONFIG_MY_DRIVE_CLIENT_SECRET')}\n",
        "team_drive =\n",
        "'''\n",
        "rclone_conf_file = '/root/.config/rclone/rclone.conf'\n",
        "rclone_dir = os.path.dirname(rclone_conf_file)\n",
        "!mkdir -p {rclone_dir}\n",
        "with io.open(rclone_conf_file, 'w', encoding='utf-8') as f:\n",
        "  f.write(rclone_conf_content)\n",
        "\n",
        "def run_command_and_print_subset(command):\n",
        "    \"\"\"\n",
        "    Runs a shell command, captures the output, and prints the first 3, last 3,\n",
        "    and middle 3 items with dots for gaps. Includes a summary of total items.\n",
        "\n",
        "    Args:\n",
        "        command: The shell command to execute.\n",
        "    \"\"\"\n",
        "    print(f\"Running command: {command}\")  # Print the command being run\n",
        "    process = subprocess.run(command, shell=True, capture_output=True, text=True)\n",
        "    output = process.stdout.strip().split('\\n')\n",
        "    num_items = len(output)\n",
        "\n",
        "    print(f\"Total items: {num_items}\")  # Print the total number of items\n",
        "\n",
        "    if num_items >= 9:  # Check if there are enough items for middle 3\n",
        "        print('\\n'.join(output[:3]))\n",
        "        print(\"\\u22EE\")  # Dots to indicate a gap\n",
        "        print('\\n'.join(output[num_items // 2 - 1:num_items // 2 + 2]))  # Middle 3\n",
        "        print(\"\\u22EE\")  # Dots to indicate a gap\n",
        "        print('\\n'.join(output[-3:]))\n",
        "    else:\n",
        "        print('\\n'.join(output))\n",
        "\n",
        "run_command_and_print_subset('rclone lsf my_drive:')"
      ],
      "metadata": {
        "id": "sOVlbvWxaemI"
      },
      "execution_count": null,
      "outputs": []
    },
    {
      "cell_type": "code",
      "source": [
        "# initial creation\n",
        "# ssh-keygen -t ed25519 -C \"cameron.prybol@gmail.com\"\n",
        "\n",
        "normalized_ssh_key = userdata.get('ssh_key').replace('\\r\\n', '\\n').replace('\\r', '\\n')\n",
        "ssh_key_content = f'''{normalized_ssh_key}\n",
        "'''\n",
        "ssh_key_file = '/root/.ssh/id_ed25519'\n",
        "ssh_key_dir = os.path.dirname(ssh_key_file)\n",
        "!mkdir -p {ssh_key_dir}\n",
        "with io.open(ssh_key_file, 'w') as f:\n",
        "  f.write(ssh_key_content)\n",
        "!chmod 600 {ssh_key_file}\n",
        "\n",
        "normalized_ssh_key_pub = userdata.get('ssh_pub_key').replace('\\r\\n', '\\n').replace('\\r', '\\n')\n",
        "ssh_key_pub_content = f'''{normalized_ssh_key_pub}\n",
        "'''\n",
        "ssh_key_pub_file = '/root/.ssh/id_ed25519.pub'\n",
        "with io.open(ssh_key_pub_file, 'w') as f:\n",
        "  f.write(ssh_key_pub_content)"
      ],
      "metadata": {
        "id": "Lxg4D_XnaR96"
      },
      "execution_count": null,
      "outputs": []
    },
    {
      "cell_type": "code",
      "source": [
        "# activate ssh keys\n",
        "!eval \"$(ssh-agent -s)\"\n",
        "!ssh-add /root/.ssh/id_ed25519\n",
        "\n",
        "!git config --global user.email \"cameron.prybol@gmail.com\"\n",
        "!git config --global user.name \"Cameron Prybol\"\n",
        "# write ssh keys from environment secrets to files\n",
        "\n",
        "# $HOME/workspace is preferred default working directory on other jupyter systems\n",
        "# /content is default working directory for file tree in Colab\n",
        "# symbolically link /content to $HOME/workspace to enable ease of code-reuse across systems\n",
        "!cd /content && rm -rf sample_data\n",
        "!ln -s /content \"$HOME/workspace\"\n",
        "!cd \"$HOME/workspace\"\n",
        "\n",
        "# add github to known hosts to allow automatic cloning without interactive confirmation\n",
        "!ssh-keyscan -t rsa github.com >> ~/.ssh/known_hosts\n",
        "!git clone git@github.com:cjprybol/Mycelia.git"
      ],
      "metadata": {
        "id": "ImzwctUJaYTt"
      },
      "execution_count": null,
      "outputs": []
    },
    {
      "cell_type": "code",
      "execution_count": null,
      "metadata": {
        "id": "D6u9Qxedv4P_"
      },
      "outputs": [],
      "source": [
        "# # # download Julia installer\n",
        "# !wget https://raw.githubusercontent.com/abelsiqueira/jill/main/jill.sh\n",
        "# # Install Julia LTS (does autolink)\n",
        "# !bash jill.sh --lts --yes\n",
        "# Install julia with Juliaup installer\n",
        "!curl -fsSL https://install.julialang.org | sh -s -- --yes --default-channel lts\n",
        "# doesn't automatically link\n",
        "!ln -s /root/.juliaup/bin/julia /usr/bin/julia\n",
        "!julia -e 'using Pkg; Pkg.add(\"IJulia\"); import IJulia; IJulia.installkernel(\"julia\", env=Dict(\"JULIA_NUM_THREADS\"=>\"$(Sys.CPU_THREADS)\"))'\n",
        "# 3. hot-fix patch to strip the version suffix of the installed kernel so that this notebook kernelspec is version agnostic\n",
        "!jupyter kernelspec install $(jupyter kernelspec list | grep julia | tr -s ' ' | cut -d' ' -f3) --replace --name julia"
      ]
    },
    {
      "cell_type": "markdown",
      "metadata": {
        "id": "domll7TyXf9u"
      },
      "source": [
        "# !Activate Julia environment!\n",
        "1. Ensure that runtime is set to Julia LTS Version\n",
        "2. Save your notebook to update default notebook runtime\n",
        "3. Refresh page to switch to Julia kernel"
      ]
    },
    {
      "cell_type": "code",
      "execution_count": null,
      "metadata": {
        "id": "TA30O3z3KCfY"
      },
      "outputs": [],
      "source": [
        "import Pkg\n",
        "Pkg.activate(;temp=true)\n",
        "Pkg.add(\"Revise\")\n",
        "import Revise\n",
        "\n",
        "# you can comment these all and uncomment them one-by-one as you need them\n",
        "# to avoid loading more packages than you need\n",
        "pkgs = [\n",
        "    \"AlgebraOfGraphics\",\n",
        "    \"Arrow\",\n",
        "    \"BioAlignments\",\n",
        "    \"BioSequences\",\n",
        "    \"BioSymbols\",\n",
        "    \"CairoMakie\",\n",
        "    \"Clustering\",\n",
        "    \"CodecZlib\",\n",
        "    \"Colors\",\n",
        "    \"ColorSchemes\",\n",
        "    \"Conda\",\n",
        "    \"CSV\",\n",
        "    \"DataFrames\",\n",
        "    \"DataStructures\",\n",
        "    \"Dates\",\n",
        "    \"DelimitedFiles\",\n",
        "    \"Distances\",\n",
        "    \"Distributions\",\n",
        "    \"DocStringExtensions\",\n",
        "    \"Downloads\",\n",
        "    \"FASTX\",\n",
        "    \"FileIO\",\n",
        "    \"GenomicAnnotations\",\n",
        "    \"GeoMakie\",\n",
        "    \"GFF3\",\n",
        "    \"GLM\",\n",
        "    \"GraphMakie\",\n",
        "    \"Graphs\",\n",
        "    \"HDF5\",\n",
        "    \"HTTP\",\n",
        "    \"JLD2\",\n",
        "    \"JSON\",\n",
        "    \"Karnak\",\n",
        "    \"Kmers\",\n",
        "    \"LsqFit\",\n",
        "    \"Luxor\",\n",
        "    \"Makie\",\n",
        "    \"MetaGraphs\",\n",
        "    \"Mmap\",\n",
        "    \"OrderedCollections\",\n",
        "    \"Plots\",\n",
        "    \"Primes\",\n",
        "    \"ProgressMeter\",\n",
        "    \"Random\",\n",
        "    \"SparseArrays\",\n",
        "    \"Statistics\",\n",
        "    \"StatsBase\",\n",
        "    \"StatsPlots\",\n",
        "    \"TopoPlots\",\n",
        "    \"uCSV\",\n",
        "    \"XAM\",\n",
        "    \"XMLDict\"\n",
        "]\n",
        "Pkg.add(pkgs)\n",
        "for pkg in pkgs\n",
        "    eval(Meta.parse(\"import $pkg\"))\n",
        "end\n",
        "\n",
        "Pkg.develop(path=\"$(homedir())/workspace/Mycelia\")\n",
        "import Mycelia\n",
        "Mycelia.system_overview()"
      ]
    }
  ],
  "metadata": {
    "colab": {
      "provenance": [],
      "include_colab_link": true
    },
    "kernelspec": {
      "display_name": "Julia",
      "name": "julia"
    }
  },
  "nbformat": 4,
  "nbformat_minor": 0
}