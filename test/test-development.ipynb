{
 "cells": [
  {
   "cell_type": "markdown",
   "id": "935e5fd8",
   "metadata": {},
   "source": [
    "# Mycelia Test Development Notebook\n",
    "This notebook is for interactive development, debugging, and validation of test blocks from the Mycelia package.  \n",
    "Copy and paste test blocks between this notebook and the corresponding test files (e.g., `test/1_data_acquisition/ncbi_download.jl`) to iterate quickly.  \n",
    "Once tests are working as expected, move them back to the `.jl` files for automated testing."
   ]
  },
  {
   "cell_type": "code",
   "execution_count": null,
   "id": "f9cc6be2-3836-4ec5-87b0-83657855a79b",
   "metadata": {},
   "outputs": [],
   "source": [
    "import Pkg\n",
    "Pkg.activate(\".\")\n",
    "Pkg.add(\"Distances\")"
   ]
  },
  {
   "cell_type": "code",
   "execution_count": null,
   "id": "909de308-e602-43ad-a3e9-a70269f00a76",
   "metadata": {},
   "outputs": [],
   "source": [
    "using Revise\n",
    "using Test"
   ]
  },
  {
   "cell_type": "code",
   "execution_count": null,
   "id": "db4f7771-faa2-43ee-ac0c-b642e0bf1e07",
   "metadata": {},
   "outputs": [],
   "source": [
    "import Mycelia"
   ]
  },
  {
   "cell_type": "code",
   "execution_count": null,
   "id": "2b2d39d6-c21a-433c-bd17-47c0bc6529a7",
   "metadata": {},
   "outputs": [],
   "source": [
    "# copy and paste individual test files into cell(s) below to interactively test, develop, and debug"
   ]
  }
 ],
 "metadata": {
  "kernelspec": {
   "display_name": "julia 1.11.5",
   "language": "julia",
   "name": "julia-1.11"
  },
  "language_info": {
   "file_extension": ".jl",
   "mimetype": "application/julia",
   "name": "julia",
   "version": "1.11.5"
  }
 },
 "nbformat": 4,
 "nbformat_minor": 5
}
