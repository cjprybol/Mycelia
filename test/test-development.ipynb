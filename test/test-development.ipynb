{
 "cells": [
  {
   "cell_type": "markdown",
   "id": "935e5fd8",
   "metadata": {},
   "source": [
    "# Mycelia Test Development Notebook\n",
    "This notebook is for interactive development, debugging, and validation of test blocks from the Mycelia package.  \n",
    "Copy and paste test blocks between this notebook and the corresponding test files (e.g., `test/1_data_acquisition/ncbi_download.jl`) to iterate quickly.  \n",
    "Once tests are working as expected, move them back to the `.jl` files for automated testing."
   ]
  },
  {
   "cell_type": "code",
   "execution_count": null,
   "id": "83109b45-c392-47c6-bccc-2ea504e2c122",
   "metadata": {},
   "outputs": [],
   "source": [
    "import Pkg\n",
    "Pkg.activate(\".\")\n",
    "\n",
    "using Revise\n",
    "using Test"
   ]
  }
 ],
 "metadata": {
  "kernelspec": {
   "display_name": "julia 1.10.10",
   "language": "julia",
   "name": "julia-1.10"
  },
  "language_info": {
   "file_extension": ".jl",
   "mimetype": "application/julia",
   "name": "julia",
   "version": "1.10.10"
  }
 },
 "nbformat": 4,
 "nbformat_minor": 5
}
