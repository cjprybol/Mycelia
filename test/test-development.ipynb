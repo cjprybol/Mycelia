{
 "cells": [
  {
   "cell_type": "markdown",
   "id": "935e5fd8",
   "metadata": {},
   "source": [
    "# Mycelia Test Development Notebook\n",
    "This notebook is for interactive development, debugging, and validation of test blocks from the Mycelia package.  \n",
    "Copy and paste test blocks between this notebook and the corresponding test files (e.g., `test/1_data_acquisition/ncbi_download.jl`) to iterate quickly.  \n",
    "Once tests are working as expected, move them back to the `.jl` files for automated testing."
   ]
  },
  {
   "cell_type": "code",
   "execution_count": null,
   "id": "f9cc6be2-3836-4ec5-87b0-83657855a79b",
   "metadata": {},
   "outputs": [],
   "source": [
    "import Pkg\n",
    "Pkg.activate(\"..\")"
   ]
  },
  {
   "cell_type": "code",
   "execution_count": null,
   "id": "3be84dd4-9642-4e04-9025-d47dbabd8ffb",
   "metadata": {},
   "outputs": [],
   "source": [
    "import Random\n",
    "import Distributions\n",
    "import MultivariateStats\n",
    "import UMAP\n",
    "import Mycelia\n",
    "import Statistics\n",
    "import LinearAlgebra\n",
    "import Test\n",
    "import Plots\n",
    "import Clustering"
   ]
  },
  {
   "cell_type": "code",
   "execution_count": null,
   "id": "ccc807dc-af4c-4193-aca4-40b48924e3d5",
   "metadata": {},
   "outputs": [],
   "source": [
    "# Set a random seed for reproducibility\n",
    "Random.seed!(42)"
   ]
  },
  {
   "cell_type": "code",
   "execution_count": null,
   "id": "7f9fe386-2814-4513-a5e8-f74360846c2d",
   "metadata": {},
   "outputs": [],
   "source": [
    "# Parameters\n",
    "n_distributions = 7      # Number of distributions\n",
    "n_samples = 10      # Number of samples per distribution\n",
    "n_features = 100     # Length of each distribution (number of features)"
   ]
  },
  {
   "cell_type": "code",
   "execution_count": null,
   "id": "c6277469-454e-45d8-b8f6-53ac539b5f7a",
   "metadata": {},
   "outputs": [],
   "source": [
    "# Step 1: Generate N distributions (each is a vector of probabilities)\n",
    "binary_probabilities = [rand(n_features) for _ in 1:n_distributions]  # Each element is a vector of length L with values in [0,1]"
   ]
  },
  {
   "cell_type": "code",
   "execution_count": null,
   "id": "11bd2605-6d43-4e18-9019-e3106a2a798a",
   "metadata": {},
   "outputs": [],
   "source": [
    "binary_samples = [hcat([rand.(Distributions.Bernoulli.(p)) for _ in 1:n_samples]...) for p in binary_probabilities]"
   ]
  },
  {
   "cell_type": "code",
   "execution_count": null,
   "id": "f3330637-61a2-4ebc-a274-37ad253b6839",
   "metadata": {},
   "outputs": [],
   "source": [
    "binary_matrix = hcat(binary_samples...)"
   ]
  },
  {
   "cell_type": "code",
   "execution_count": null,
   "id": "41300416-2451-4df1-bda7-fe6789f5876e",
   "metadata": {},
   "outputs": [],
   "source": [
    "# Create a label vector: for each distribution, repeat its index X times\n",
    "binary_labels = repeat(1:n_distributions, inner=n_samples)"
   ]
  },
  {
   "cell_type": "code",
   "execution_count": null,
   "id": "6f95e2c8-f133-42cb-9a07-9a06c61d3689",
   "metadata": {},
   "outputs": [],
   "source": [
    "# Shuffle columns and labels together\n",
    "binary_perm = Random.shuffle(1:length(binary_labels))"
   ]
  },
  {
   "cell_type": "code",
   "execution_count": null,
   "id": "4dda7a6f-f575-402d-b610-94ec5e8275c3",
   "metadata": {},
   "outputs": [],
   "source": [
    "shuffled_binary_matrix = binary_matrix[:, binary_perm]"
   ]
  },
  {
   "cell_type": "code",
   "execution_count": null,
   "id": "e21a203c-c6ed-4f48-a986-a6310516b2a7",
   "metadata": {},
   "outputs": [],
   "source": [
    "shuffled_binary_labels = binary_labels[binary_perm]"
   ]
  },
  {
   "cell_type": "code",
   "execution_count": null,
   "id": "3dcab656-23e0-4b63-af1a-7d4201307fbf",
   "metadata": {},
   "outputs": [],
   "source": [
    "logistic_epca_k = 3"
   ]
  },
  {
   "cell_type": "code",
   "execution_count": null,
   "id": "e7a2ce25-8d12-4d93-8300-cc9d03de04c5",
   "metadata": {},
   "outputs": [],
   "source": [
    "result = Mycelia.logistic_pca_epca(shuffled_binary_matrix, k=logistic_epca_k)"
   ]
  },
  {
   "cell_type": "code",
   "execution_count": null,
   "id": "a342bb97-8661-4789-952b-d60b18dce9e6",
   "metadata": {},
   "outputs": [],
   "source": [
    "Test.@test size(result.scores) == (logistic_epca_k, n_samples * n_distributions)"
   ]
  },
  {
   "cell_type": "code",
   "execution_count": null,
   "id": "10be1a93-400c-424e-a8ea-da69e632b944",
   "metadata": {},
   "outputs": [],
   "source": [
    "Test.@test size(result.loadings) == (logistic_epca_k, n_features)"
   ]
  },
  {
   "cell_type": "code",
   "execution_count": null,
   "id": "9e0d4283-0c63-4660-856b-87b2ca938e3d",
   "metadata": {},
   "outputs": [],
   "source": [
    "# NOTE: logistic_epca was so bad standalone I didn't keep the visualization and clustering results"
   ]
  },
  {
   "cell_type": "code",
   "execution_count": null,
   "id": "3a7f42eb-38b7-4d58-a997-d874d7af9ef6",
   "metadata": {},
   "outputs": [],
   "source": [
    "umap_model = Mycelia.umap_embed(result.scores)"
   ]
  },
  {
   "cell_type": "code",
   "execution_count": null,
   "id": "e19d5280-e17b-42a6-8803-e2ccb73b4660",
   "metadata": {},
   "outputs": [],
   "source": [
    "Test.@test size(umap_model.embedding) == (2, n_samples * n_distributions)"
   ]
  },
  {
   "cell_type": "code",
   "execution_count": null,
   "id": "f00a44e1-d1de-4612-bd60-6be1d4223557",
   "metadata": {},
   "outputs": [],
   "source": [
    "# Fit k-means clustering\n",
    "fit_labels = Clustering.kmeans(umap_model.embedding, n_distributions).assignments"
   ]
  },
  {
   "cell_type": "code",
   "execution_count": null,
   "id": "149f5798-cc4d-4d47-ba3c-0018fde2358c",
   "metadata": {},
   "outputs": [],
   "source": [
    "plt = Mycelia.plot_embeddings(umap_model.embedding;\n",
    "               title=\"Logistic PCA-EPCA - Binary Matrix - UMAP\",\n",
    "               xlabel=\"PC1\",\n",
    "               ylabel=\"PC2\",\n",
    "               true_labels=shuffled_binary_labels,\n",
    "               fit_labels=fit_labels)"
   ]
  },
  {
   "cell_type": "code",
   "execution_count": null,
   "id": "b6df3123-2780-4915-8a86-1dab685a1ec8",
   "metadata": {},
   "outputs": [],
   "source": [
    "binary_distance_matrix = Mycelia.frequency_matrix_to_jaccard_distance_matrix(shuffled_binary_matrix)"
   ]
  },
  {
   "cell_type": "code",
   "execution_count": null,
   "id": "6ef1743d-9222-4dcf-86fb-100731365d8f",
   "metadata": {},
   "outputs": [],
   "source": [
    "pcoa_result = Mycelia.pcoa_from_dist(binary_distance_matrix, maxoutdim=3)"
   ]
  },
  {
   "cell_type": "code",
   "execution_count": null,
   "id": "888abb16-d84d-4008-b20c-b12ad448a72b",
   "metadata": {},
   "outputs": [],
   "source": [
    "# pcoa_result.coordinates"
   ]
  },
  {
   "cell_type": "code",
   "execution_count": null,
   "id": "5bd65c69-035e-43eb-bde8-d2610144bdd5",
   "metadata": {},
   "outputs": [],
   "source": [
    "Test.@test size(pcoa_result.coordinates) == (size(pcoa_result.model.U, 2), n_samples * n_distributions)"
   ]
  },
  {
   "cell_type": "code",
   "execution_count": null,
   "id": "1d0a2110-8fb3-4a14-a154-2a00867f3110",
   "metadata": {},
   "outputs": [],
   "source": [
    "# Fit k-means clustering\n",
    "pcoa_fit_labels = Clustering.kmeans(pcoa_result.coordinates, n_distributions).assignments"
   ]
  },
  {
   "cell_type": "code",
   "execution_count": null,
   "id": "bbd3ad87-5b31-427c-a95c-396420386f2f",
   "metadata": {},
   "outputs": [],
   "source": [
    "plt = Mycelia.plot_embeddings(pcoa_result.coordinates;\n",
    "               title=\"PCoA - Jaccard Distance - Binary Matrix\",\n",
    "               xlabel=\"PC1\",\n",
    "               ylabel=\"PC2\",\n",
    "               true_labels=shuffled_binary_labels,\n",
    "               fit_labels=pcoa_fit_labels\n",
    ")"
   ]
  },
  {
   "cell_type": "code",
   "execution_count": null,
   "id": "4215a8cd-f2ed-4a07-be65-2af0183d9d7c",
   "metadata": {},
   "outputs": [],
   "source": [
    "pcoa_result.coordinates"
   ]
  },
  {
   "cell_type": "code",
   "execution_count": null,
   "id": "08006d79-102a-4ad4-a69b-741cd5e13ab8",
   "metadata": {},
   "outputs": [],
   "source": [
    "umap_model = Mycelia.umap_embed(pcoa_result.coordinates)"
   ]
  },
  {
   "cell_type": "code",
   "execution_count": null,
   "id": "53f4b234-ecff-4af9-894e-a46bf6f728f4",
   "metadata": {},
   "outputs": [],
   "source": [
    "Test.@test size(umap_model.embedding) == (2, n_samples * n_distributions)"
   ]
  },
  {
   "cell_type": "code",
   "execution_count": null,
   "id": "d3d5d807-685f-44c8-bd46-94944c713582",
   "metadata": {},
   "outputs": [],
   "source": [
    "# Fit k-means clustering\n",
    "fit_labels = Clustering.kmeans(umap_model.embedding, n_distributions).assignments"
   ]
  },
  {
   "cell_type": "code",
   "execution_count": null,
   "id": "9fdd125f-f56d-4ed2-b6d8-92e18758ef15",
   "metadata": {},
   "outputs": [],
   "source": [
    "plt = Mycelia.plot_embeddings(umap_model.embedding;\n",
    "               title=\"PCoA - Jaccard Distance - Binary Matrix - UMAP\",\n",
    "               xlabel=\"PC1\",\n",
    "               ylabel=\"PC2\",\n",
    "               true_labels=shuffled_binary_labels,\n",
    "               fit_labels=fit_labels)"
   ]
  },
  {
   "cell_type": "code",
   "execution_count": null,
   "id": "2309c30d-393a-4d3d-beae-c33fafe1b802",
   "metadata": {},
   "outputs": [],
   "source": [
    "# TODO - add plain vanilla PCA w and w/o UMAP for binary data"
   ]
  },
  {
   "cell_type": "code",
   "execution_count": null,
   "id": "68bac430-e19e-4890-b0f0-7979abd9bd6e",
   "metadata": {},
   "outputs": [],
   "source": [
    "# TODO - add poisson count data vanilla PCA, glm_pca_epca, negbin_pca_epca, and bray_curtis_distance + PCoA w & w/o UMAP"
   ]
  },
  {
   "cell_type": "code",
   "execution_count": null,
   "id": "bb028ccc",
   "metadata": {},
   "outputs": [],
   "source": [
    "\n",
    "\n",
    "\n",
    "\n",
    "\n",
    "\n",
    "\n",
    "\n",
    "\n",
    "\n",
    "\n",
    "\n",
    "# Parameters for Poisson λ distribution\n",
    "λ_scale = 0.7         # Lower = more bias toward 0\n",
    "λ_max = 128.0          # User-defined maximum (set to Inf for no max)\n",
    "\n",
    "# Step 1: Generate N distributions (each is a vector of Poisson means, biased toward 0)\n",
    "poisson_means = [\n",
    "    clamp.(rand(Distributions.Exponential(λ_scale), L), 0, λ_max)\n",
    "    for _ in 1:N\n",
    "]\n",
    "\n",
    "# Step 2: For each distribution, sample X count vectors (each column is a sample)\n",
    "poisson_samples = [hcat([rand.(Distributions.Poisson.(λ)) for _ in 1:X]...) for λ in poisson_means]\n",
    "\n",
    "# Concatenate all samples into one matrix (L x (N*X))\n",
    "all_poisson_samples = hcat(poisson_samples...)\n",
    "\n",
    "# Create a label vector: for each distribution, repeat its index X times\n",
    "all_poisson_labels = repeat(1:N, inner=X)\n",
    "\n",
    "# Shuffle columns and labels together\n",
    "perm_poisson = Random.shuffle(1:size(all_poisson_samples, 2))\n",
    "shuffled_poisson_samples = all_poisson_samples[:, perm_poisson]\n",
    "shuffled_poisson_labels = all_poisson_labels[perm_poisson]\n",
    "\n",
    "\n",
    "\n",
    "\n",
    "result = Mycelia.glm_pca_epca(M, k=5)\n",
    "Test.@test size(result.scores) == (5, n_samples)\n",
    "Test.@test size(result.loadings) == (5, n_features)\n",
    "\n",
    "# Fit k-means clustering\n",
    "fit_labels = Clustering.kmeans(result.scores', 3).assignments\n",
    "\n",
    "# Plot embeddings\n",
    "plt = Mycelia.plot_embeddings(result.scores;\n",
    "               title=\"GLM PCA-EPCA - Poisson Matrix $i\",\n",
    "               xlabel=\"PC1\",\n",
    "               ylabel=\"PC2\",\n",
    "               true_labels=true_labels_poisson[(i-1)*n_samples+1:i*n_samples],\n",
    "               fit_labels=fit_labels)\n",
    "display(plt)\n",
    "\n",
    "\n",
    "# Test with k specified\n",
    "result_k = Mycelia.pca_transform(M, k=5)\n",
    "Test.@test size(result_k.scores) == (5, n_samples)\n",
    "Test.@test size(result_k.loadings) == (5, n_features)\n",
    "\n",
    "# Fit k-means clustering\n",
    "fit_labels = Clustering.kmeans(result_k.scores', 3).assignments\n",
    "\n",
    "# Plot embeddings\n",
    "plt = Mycelia.plot_embeddings(result_k.scores;\n",
    "               title=\"PCA Transform (k=5) - Matrix $i\",\n",
    "               xlabel=\"PC1\",\n",
    "               ylabel=\"PC2\",\n",
    "               true_labels=i <= length(p_values) ? true_labels_binary[1:n_samples] : true_labels_poisson[1:n_samples],\n",
    "               fit_labels=fit_labels)\n",
    "display(plt)\n",
    "\n",
    "# Test with var_prop specified\n",
    "result_var = Mycelia.pca_transform(M, var_prop=0.95)\n",
    "Test.@test size(result_var.scores, 1) <= n_features\n",
    "Test.@test size(result_var.loadings, 1) == size(result_var.scores, 1)\n",
    "\n",
    "# Fit k-means clustering\n",
    "fit_labels = Clustering.kmeans(result_var.scores', 3).assignments\n",
    "\n",
    "# Plot embeddings\n",
    "plt = Mycelia.plot_embeddings(result_var.scores;\n",
    "               title=\"PCA Transform (var_prop=0.95) - Matrix $i\",\n",
    "               xlabel=\"PC1\",\n",
    "               ylabel=\"PC2\",\n",
    "               true_labels=i <= length(p_values) ? true_labels_binary[1:n_samples] : true_labels_poisson[1:n_samples],\n",
    "               fit_labels=fit_labels)\n",
    "display(plt)\n",
    "\n",
    "\n",
    "# Test negbin_pca_epca with poisson matrices\n",
    "\n",
    "result = Mycelia.negbin_pca_epca(M, k=5, r=2)\n",
    "Test.@test size(result.scores) == (5, n_samples)\n",
    "Test.@test size(result.loadings) == (5, n_features)\n",
    "\n",
    "# Fit k-means clustering\n",
    "fit_labels = Clustering.kmeans(result.scores', 3).assignments\n",
    "\n",
    "# Plot embeddings\n",
    "plt = Mycelia.plot_embeddings(result.scores;\n",
    "               title=\"Negative Binomial PCA-EPCA - Poisson Matrix $i\",\n",
    "               xlabel=\"PC1\",\n",
    "               ylabel=\"PC2\",\n",
    "               true_labels=true_labels_poisson[(i-1)*n_samples+1:i*n_samples],\n",
    "               fit_labels=fit_labels)\n",
    "display(plt)\n",
    "\n",
    "\n",
    "\n",
    "D = bray_curtis_distance(M)\n",
    "result = Mycelia.pcoa_from_dist(D, maxoutdim=2)\n",
    "Test.@test size(result.coordinates) == (2, n_samples)\n",
    "\n",
    "# Fit k-means clustering\n",
    "fit_labels = Clustering.kmeans(result.coordinates', 3).assignments\n",
    "\n",
    "# Plot embeddings\n",
    "plt = Mycelia.plot_embeddings(result.coordinates;\n",
    "               title=\"PCoA - Bray-Curtis Distance - Poisson Matrix $i\",\n",
    "               xlabel=\"Coordinate 1\",\n",
    "               ylabel=\"Coordinate 2\",\n",
    "               true_labels=true_labels_poisson[(i-1)*n_samples+1:i*n_samples],\n",
    "               fit_labels=fit_labels)\n",
    "display(plt)\n",
    "\n"
   ]
  }
 ],
 "metadata": {
  "kernelspec": {
   "display_name": "julia 1.11.5",
   "language": "julia",
   "name": "julia-1.11"
  },
  "language_info": {
   "file_extension": ".jl",
   "mimetype": "application/julia",
   "name": "julia",
   "version": "1.11.5"
  }
 },
 "nbformat": 4,
 "nbformat_minor": 5
}
