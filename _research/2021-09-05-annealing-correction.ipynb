{
 "cells": [
  {
   "cell_type": "code",
   "execution_count": 1,
   "id": "6ac73c46-51c9-4fea-845f-fb17ce8d83a2",
   "metadata": {},
   "outputs": [
    {
     "data": {
      "text/plain": [
       "\"/home/jovyan/2021-09-05-annealing-correction\""
      ]
     },
     "execution_count": 1,
     "metadata": {},
     "output_type": "execute_result"
    }
   ],
   "source": [
    "DATE = \"2021-09-05\"\n",
    "TASK = \"annealing-correction\"\n",
    "DIR = mkpath(\"$(homedir())/$(DATE)-$(TASK)\")"
   ]
  },
  {
   "cell_type": "code",
   "execution_count": 2,
   "id": "38cb383f-3696-4b4b-a732-9a2059e0681a",
   "metadata": {},
   "outputs": [],
   "source": [
    "import Pkg\n",
    "pkgs = [\n",
    "    \"BioAlignments\",\n",
    "    \"BioSequences\",\n",
    "    \"Clustering\",\n",
    "#     \"CodecZlib\",\n",
    "#     \"Colors\",\n",
    "#     \"Combinatorics\",\n",
    "    \"DataFrames\",\n",
    "    \"DataStructures\",\n",
    "    \"Dates\",\n",
    "#     \"DelimitedFiles\",\n",
    "    \"Distances\",\n",
    "#     \"Distributions\",\n",
    "#     \"EzXML\",\n",
    "    \"FASTX\",\n",
    "#     \"GFF3\",\n",
    "    \"GraphPlot\",\n",
    "#     \"HTTP\",\n",
    "#     \"Impute\",\n",
    "#     \"JSON\",\n",
    "    \"Graphs\",\n",
    "#     \"LSHFunctions\",\n",
    "#     \"Measures\",\n",
    "    \"MetaGraphs\",\n",
    "    \"https://github.com/cjprybol/Mycelia.git\",\n",
    "#     \"NumericIO\",\n",
    "#     \"PlotlyJS\",\n",
    "#     \"Plots\",\n",
    "    \"Primes\",\n",
    "#     \"Printf\",\n",
    "    \"ProgressMeter\",\n",
    "    \"Random\",\n",
    "    \"Revise\",\n",
    "    \"SparseArrays\",\n",
    "    \"Statistics\",\n",
    "    \"StatsBase\",\n",
    "    \"StatsPlots\",\n",
    "#     \"StringDistances\",\n",
    "    \"uCSV\",\n",
    "#     \"XLSX\",\n",
    "]\n",
    "\n",
    "unregistered_packages = filter(pkg -> occursin(r\"(^https|git$)\", pkg), pkgs)\n",
    "registered_packages = setdiff(pkgs, unregistered_packages)\n",
    "\n",
    "for pkg in registered_packages\n",
    "    try\n",
    "        eval(Meta.parse(\"import $(pkg)\"))\n",
    "    catch\n",
    "        Pkg.add(pkg)\n",
    "        Pkg.build(pkg)\n",
    "        eval(Meta.parse(\"import $(pkg)\"))\n",
    "    end\n",
    "end\n",
    "\n",
    "for pkg_url in unregistered_packages\n",
    "    pkg_name = replace(basename(pkg_url), \".git\" => \"\")\n",
    "    try\n",
    "        eval(Meta.parse(\"import $(pkg_name)\"))\n",
    "    catch\n",
    "        Pkg.develop(url=pkg_url)\n",
    "        Pkg.build(pkg_name)\n",
    "        eval(Meta.parse(\"import $(pkg_name)\"))\n",
    "    end\n",
    "end"
   ]
  },
  {
   "cell_type": "code",
   "execution_count": 3,
   "id": "ea19d6bc-8d84-4d8a-8e0c-bd00614d6dfb",
   "metadata": {},
   "outputs": [
    {
     "data": {
      "text/plain": [
       "kmer_index_and_orientation_to_kmer (generic function with 1 method)"
      ]
     },
     "execution_count": 3,
     "metadata": {},
     "output_type": "execute_result"
    }
   ],
   "source": [
    "function kmer_index_and_orientation_to_kmer(graph, kmer_index, orientation)\n",
    "    kmer = graph.vprops[kmer_index][:kmer]\n",
    "    if !orientation\n",
    "        kmer = BioSequences.reverse_complement(kmer)\n",
    "    end\n",
    "    return kmer\n",
    "end"
   ]
  },
  {
   "cell_type": "code",
   "execution_count": 4,
   "id": "ab79def6-1e00-4b75-b86f-e16c4aefb35c",
   "metadata": {},
   "outputs": [
    {
     "data": {
      "text/plain": [
       "determine_edge_probabilities (generic function with 1 method)"
      ]
     },
     "execution_count": 4,
     "metadata": {},
     "output_type": "execute_result"
    }
   ],
   "source": [
    "function determine_edge_probabilities(graph)\n",
    "    nv = Graphs.nv(graph)\n",
    "    edge_probabilities = SparseArrays.spzeros(nv, nv)\n",
    "    for v in 1:nv\n",
    "        neighbors = Graphs.neighbors(graph, v)\n",
    "        @assert issorted(neighbors)\n",
    "        likelihoods = zeros(length(neighbors))\n",
    "        for (i, neighbor) in enumerate(neighbors)\n",
    "            if v <= neighbor\n",
    "                edge = Graphs.Edge(v, neighbor)\n",
    "            else\n",
    "                edge = Graphs.Edge(neighbor, v)\n",
    "            end\n",
    "            @assert Graphs.has_edge(graph, edge)\n",
    "            likelihoods[i] = graph.eprops[edge][:count]     \n",
    "        end\n",
    "        likelihoods = likelihoods ./ sum(likelihoods)\n",
    "#         @show likelihoods\n",
    "#         @show neighbors\n",
    "        for (neighbor, likelihood) in zip(neighbors, likelihoods)\n",
    "            edge_probabilities[v, neighbor] = likelihood\n",
    "        end\n",
    "    end\n",
    "    \n",
    "    for source in 1:size(edge_probabilities, 1)\n",
    "        destinations = findall(edge_probabilities[source, :] .> 0)\n",
    "        destination_counts = [graph.vprops[dest][:count] for dest in destinations]\n",
    "        destination_likelihoods = destination_counts ./ sum(destination_counts)\n",
    "        for (dest, likelihood) in zip(destinations, destination_likelihoods)\n",
    "            edge_probabilities[source, dest] *= likelihood\n",
    "        end\n",
    "        edge_probabilities[source, :] ./= sum(edge_probabilities[source, :])\n",
    "        @assert abs(1-sum(edge_probabilities[source, :])) <= eps(Float64)\n",
    "    end\n",
    "    \n",
    "    return edge_probabilities\n",
    "end"
   ]
  },
  {
   "cell_type": "code",
   "execution_count": 5,
   "id": "f02eb3bc-8fa1-4e5c-848e-b9a04d1681d0",
   "metadata": {},
   "outputs": [
    {
     "data": {
      "text/plain": [
       "take_a_walk (generic function with 1 method)"
      ]
     },
     "execution_count": 5,
     "metadata": {},
     "output_type": "execute_result"
    }
   ],
   "source": [
    "function take_a_walk(graph, edge_likelihoods, kmers, kmer, walk_length)\n",
    "    walk = [kmer]\n",
    "    current_kmer_indices = searchsorted(kmers, BioSequences.canonical(last(walk)))\n",
    "    @assert length(current_kmer_indices) == 1\n",
    "    current_kmer_index = first(current_kmer_indices)\n",
    "    while length(walk) < walk_length\n",
    "        oriented_neighbors = Tuple{Int, Bool}[]\n",
    "        for neighbor in BioSequences.neighbors(kmer)\n",
    "            canonical_neighbor = BioSequences.canonical(neighbor)\n",
    "            neighbor_is_canonical = neighbor == canonical_neighbor\n",
    "            neighbor_vertex_range = searchsorted(kmers, canonical_neighbor)\n",
    "            if !isempty(neighbor_vertex_range)\n",
    "                neighbor_vertex = first(neighbor_vertex_range)\n",
    "            else\n",
    "                neighbor_vertex = 0\n",
    "            end\n",
    "            push!(oriented_neighbors, (neighbor_vertex, neighbor_is_canonical))\n",
    "        end\n",
    "        viable_neighbors = filter(neighbor -> first(neighbor) > 0, oriented_neighbors)\n",
    "        if length(viable_neighbors) == 1\n",
    "            chosen_neighbor = first(viable_neighbors)\n",
    "        else\n",
    "            viable_neighbor_indices = first.(viable_neighbors)\n",
    "            step_likelihoods = StatsBase.weights(edge_likelihoods[current_kmer_index, viable_neighbor_indices])\n",
    "            chosen_neighbor = StatsBase.sample(viable_neighbors, step_likelihoods)\n",
    "        end\n",
    "        kmer = kmer_index_and_orientation_to_kmer(graph, chosen_neighbor...)\n",
    "        push!(walk, kmer)\n",
    "        current_kmer_indices = searchsorted(kmers, BioSequences.canonical(last(walk)))\n",
    "        @assert length(current_kmer_indices) == 1\n",
    "        current_kmer_index = first(current_kmer_indices)\n",
    "    end\n",
    "    return walk\n",
    "end"
   ]
  },
  {
   "cell_type": "code",
   "execution_count": 6,
   "id": "ccff2a3a-a440-43f4-9c11-358613356a1f",
   "metadata": {},
   "outputs": [],
   "source": [
    "# create a random genome"
   ]
  },
  {
   "cell_type": "code",
   "execution_count": 7,
   "id": "61678b71-b08d-4b96-a6d8-a6e44b73b7ef",
   "metadata": {},
   "outputs": [
    {
     "data": {
      "text/plain": [
       "10"
      ]
     },
     "execution_count": 7,
     "metadata": {},
     "output_type": "execute_result"
    }
   ],
   "source": [
    "L = 10"
   ]
  },
  {
   "cell_type": "code",
   "execution_count": 8,
   "id": "aeebc6d3-159e-416c-87d8-e554b892b444",
   "metadata": {},
   "outputs": [
    {
     "data": {
      "text/plain": [
       "10nt DNA Sequence:\n",
       "AGCCTGCAAA"
      ]
     },
     "execution_count": 8,
     "metadata": {},
     "output_type": "execute_result"
    }
   ],
   "source": [
    "genome = BioSequences.randdnaseq(Random.seed!(L), L)"
   ]
  },
  {
   "cell_type": "code",
   "execution_count": 9,
   "id": "42b86e1c-8504-4f94-87d7-4cc155aeaa75",
   "metadata": {},
   "outputs": [],
   "source": [
    "# determine the diminishing return point for kmers"
   ]
  },
  {
   "cell_type": "code",
   "execution_count": 10,
   "id": "9ae24452-8257-4d50-9d2f-e141310dea38",
   "metadata": {},
   "outputs": [
    {
     "data": {
      "text/plain": [
       "3"
      ]
     },
     "execution_count": 10,
     "metadata": {},
     "output_type": "execute_result"
    }
   ],
   "source": [
    "k = 3"
   ]
  },
  {
   "cell_type": "code",
   "execution_count": 11,
   "id": "36e25b62-a4cb-476c-94c0-a038b9d63896",
   "metadata": {},
   "outputs": [
    {
     "data": {
      "text/plain": [
       "OrderedCollections.OrderedDict{BioSequences.BigDNAMer{3}, Int64} with 7 entries:\n",
       "  AAA => 1\n",
       "  AGC => 1\n",
       "  AGG => 1\n",
       "  CAA => 1\n",
       "  CAG => 1\n",
       "  GCA => 2\n",
       "  GCC => 1"
      ]
     },
     "execution_count": 11,
     "metadata": {},
     "output_type": "execute_result"
    }
   ],
   "source": [
    "kmer_counts = sort!(Mycelia.count_canonical_kmers(BioSequences.BigDNAMer{k}, genome))"
   ]
  },
  {
   "cell_type": "code",
   "execution_count": 12,
   "id": "b48acbb5-9bd2-45c3-b518-1d0096a6f29d",
   "metadata": {},
   "outputs": [
    {
     "data": {
      "text/plain": [
       "7"
      ]
     },
     "execution_count": 12,
     "metadata": {},
     "output_type": "execute_result"
    }
   ],
   "source": [
    "K = length(keys(kmer_counts))"
   ]
  },
  {
   "cell_type": "code",
   "execution_count": 13,
   "id": "3ad5ecaa-1566-43ef-9716-09d2bb71142f",
   "metadata": {},
   "outputs": [],
   "source": [
    "# create an undirected kmer graph from the sequence"
   ]
  },
  {
   "cell_type": "code",
   "execution_count": 14,
   "id": "eea8a51d-6f61-4409-91f2-c9206c94e578",
   "metadata": {},
   "outputs": [
    {
     "data": {
      "text/plain": [
       "{7, 0} undirected Int64 metagraph with Float64 weights defined by :weight (default weight 1.0)"
      ]
     },
     "execution_count": 14,
     "metadata": {},
     "output_type": "execute_result"
    }
   ],
   "source": [
    "graph = MetaGraphs.MetaGraph(K)"
   ]
  },
  {
   "cell_type": "code",
   "execution_count": 15,
   "id": "9550366b-c8d0-4eee-8742-c5b52d3d1f19",
   "metadata": {},
   "outputs": [
    {
     "name": "stdout",
     "output_type": "stream",
     "text": [
      "(i, kmer, count) = (1, AAA, 1)\n",
      "MetaGraphs.set_prop!(graph, i, :kmer, kmer) = true\n",
      "MetaGraphs.set_prop!(graph, i, :count, count) = true\n",
      "(i, kmer, count) = (2, AGC, 1)\n",
      "MetaGraphs.set_prop!(graph, i, :kmer, kmer) = true\n",
      "MetaGraphs.set_prop!(graph, i, :count, count) = true\n",
      "(i, kmer, count) = (3, AGG, 1)\n",
      "MetaGraphs.set_prop!(graph, i, :kmer, kmer) = true\n",
      "MetaGraphs.set_prop!(graph, i, :count, count) = true\n",
      "(i, kmer, count) = (4, CAA, 1)\n",
      "MetaGraphs.set_prop!(graph, i, :kmer, kmer) = true\n",
      "MetaGraphs.set_prop!(graph, i, :count, count) = true\n",
      "(i, kmer, count) = (5, CAG, 1)\n",
      "MetaGraphs.set_prop!(graph, i, :kmer, kmer) = true\n",
      "MetaGraphs.set_prop!(graph, i, :count, count) = true\n",
      "(i, kmer, count) = (6, GCA, 2)\n",
      "MetaGraphs.set_prop!(graph, i, :kmer, kmer) = true\n",
      "MetaGraphs.set_prop!(graph, i, :count, count) = true\n",
      "(i, kmer, count) = (7, GCC, 1)\n",
      "MetaGraphs.set_prop!(graph, i, :kmer, kmer) = true\n",
      "MetaGraphs.set_prop!(graph, i, :count, count) = true\n"
     ]
    }
   ],
   "source": [
    "for (i, (kmer, count)) in enumerate(kmer_counts)\n",
    "    @show i, kmer, count\n",
    "    @show MetaGraphs.set_prop!(graph, i, :kmer, kmer)\n",
    "    @show MetaGraphs.set_prop!(graph, i, :count, count)\n",
    "end"
   ]
  },
  {
   "cell_type": "code",
   "execution_count": 16,
   "id": "098cb159-5e23-405b-bacf-43c75f1d001f",
   "metadata": {},
   "outputs": [
    {
     "data": {
      "text/plain": [
       "Dict{Int64, Dict{Symbol, Any}} with 7 entries:\n",
       "  5 => Dict(:count=>1, :kmer=>CAG)\n",
       "  4 => Dict(:count=>1, :kmer=>CAA)\n",
       "  6 => Dict(:count=>2, :kmer=>GCA)\n",
       "  7 => Dict(:count=>1, :kmer=>GCC)\n",
       "  2 => Dict(:count=>1, :kmer=>AGC)\n",
       "  3 => Dict(:count=>1, :kmer=>AGG)\n",
       "  1 => Dict(:count=>1, :kmer=>AAA)"
      ]
     },
     "execution_count": 16,
     "metadata": {},
     "output_type": "execute_result"
    }
   ],
   "source": [
    "graph.vprops"
   ]
  },
  {
   "cell_type": "code",
   "execution_count": 17,
   "id": "08821979-313e-4fbf-a33f-3400e514170f",
   "metadata": {},
   "outputs": [
    {
     "data": {
      "text/plain": [
       "7-element Vector{BioSequences.BigDNAMer{3}}:\n",
       " AAA\n",
       " AGC\n",
       " AGG\n",
       " CAA\n",
       " CAG\n",
       " GCA\n",
       " GCC"
      ]
     },
     "execution_count": 17,
     "metadata": {},
     "output_type": "execute_result"
    }
   ],
   "source": [
    "kmers = collect(keys(kmer_counts))"
   ]
  },
  {
   "cell_type": "code",
   "execution_count": 18,
   "id": "30670fcf-ac1d-4653-b386-b118dfd39cfa",
   "metadata": {},
   "outputs": [
    {
     "name": "stdout",
     "output_type": "stream",
     "text": [
      "edge = AGCC\n",
      "(src_index, src == canonical_src, dst_index, dst == canonical_dst) = (2, true, 7, true)\n",
      "edge = GCCT\n",
      "(src_index, src == canonical_src, dst_index, dst == canonical_dst) = (7, true, 3, false)\n",
      "edge = CCTG\n",
      "(src_index, src == canonical_src, dst_index, dst == canonical_dst) = (3, false, 5, false)\n",
      "edge = CTGC\n",
      "(src_index, src == canonical_src, dst_index, dst == canonical_dst) = (5, false, 6, false)\n",
      "edge = TGCA\n",
      "(src_index, src == canonical_src, dst_index, dst == canonical_dst) = (6, false, 6, true)\n",
      "edge = GCAA\n",
      "(src_index, src == canonical_src, dst_index, dst == canonical_dst) = (6, true, 4, true)\n",
      "edge = CAAA\n",
      "(src_index, src == canonical_src, dst_index, dst == canonical_dst) = (4, true, 1, true)\n"
     ]
    }
   ],
   "source": [
    "for i in 1:length(genome)-k\n",
    "    edge_range = i:i+k\n",
    "    edge = genome[edge_range]\n",
    "    src = BioSequences.BigDNAMer{k}(edge[1:end-1])\n",
    "    dst = BioSequences.BigDNAMer{k}(edge[2:end])\n",
    "    canonical_src = BioSequences.canonical(src)\n",
    "    canonical_dst = BioSequences.canonical(dst)\n",
    "    src_index = Mycelia.get_kmer_index(kmers, canonical_src)\n",
    "    dst_index = Mycelia.get_kmer_index(kmers, canonical_dst)\n",
    "    @show edge\n",
    "    @show src_index, src == canonical_src, dst_index, dst == canonical_dst\n",
    "    graph_edge = Graphs.Edge(src_index, dst_index)\n",
    "    if Graphs.has_edge(graph, graph_edge)\n",
    "        current_count = graph.eprops[graph_edge][:count]\n",
    "        MetaGraphs.set_prop!(graph, graph_edge, :count, current_count+1)\n",
    "    else\n",
    "        Graphs.add_edge!(graph, graph_edge)\n",
    "        MetaGraphs.set_prop!(graph, graph_edge, :count, 1)\n",
    "    end\n",
    "end"
   ]
  },
  {
   "cell_type": "code",
   "execution_count": 19,
   "id": "d47cfd3e-b739-481a-8e9c-eec0c264900e",
   "metadata": {},
   "outputs": [
    {
     "data": {
      "text/plain": [
       "{7, 7} undirected Int64 metagraph with Float64 weights defined by :weight (default weight 1.0)"
      ]
     },
     "execution_count": 19,
     "metadata": {},
     "output_type": "execute_result"
    }
   ],
   "source": [
    "graph"
   ]
  },
  {
   "cell_type": "code",
   "execution_count": 20,
   "id": "b9d4edf4-941e-42b0-9c4b-7ad219132045",
   "metadata": {},
   "outputs": [
    {
     "data": {
      "text/plain": [
       "Dict{Graphs.SimpleGraphs.SimpleEdge{Int64}, Dict{Symbol, Any}} with 7 entries:\n",
       "  Edge 3 => 7 => Dict(:count=>1)\n",
       "  Edge 5 => 6 => Dict(:count=>1)\n",
       "  Edge 2 => 7 => Dict(:count=>1)\n",
       "  Edge 6 => 6 => Dict(:count=>1)\n",
       "  Edge 3 => 5 => Dict(:count=>1)\n",
       "  Edge 4 => 6 => Dict(:count=>1)\n",
       "  Edge 1 => 4 => Dict(:count=>1)"
      ]
     },
     "execution_count": 20,
     "metadata": {},
     "output_type": "execute_result"
    }
   ],
   "source": [
    "graph.eprops"
   ]
  },
  {
   "cell_type": "code",
   "execution_count": 21,
   "id": "62b9d2f5-14e6-4f7a-8013-d32cf1bc1da5",
   "metadata": {},
   "outputs": [],
   "source": [
    "# GraphPlot.gplot(graph, nodesize=[rand(1:2) for i in 1:Graphs.nv(graph)])"
   ]
  },
  {
   "cell_type": "code",
   "execution_count": 22,
   "id": "0a779414-f692-435a-8b0d-84f9b1c88d5d",
   "metadata": {},
   "outputs": [
    {
     "data": {
      "text/plain": [
       "7×7 SparseArrays.SparseMatrixCSC{Float64, Int64} with 13 stored entries:\n",
       "  ⋅         ⋅    ⋅        1.0    ⋅     ⋅         ⋅ \n",
       "  ⋅         ⋅    ⋅         ⋅     ⋅     ⋅        1.0\n",
       "  ⋅         ⋅    ⋅         ⋅    0.5    ⋅        0.5\n",
       " 0.333333   ⋅    ⋅         ⋅     ⋅    0.666667   ⋅ \n",
       "  ⋅         ⋅   0.333333   ⋅     ⋅    0.666667   ⋅ \n",
       "  ⋅         ⋅    ⋅        0.25  0.25  0.5        ⋅ \n",
       "  ⋅        0.5  0.5        ⋅     ⋅     ⋅         ⋅ "
      ]
     },
     "execution_count": 22,
     "metadata": {},
     "output_type": "execute_result"
    }
   ],
   "source": [
    "edge_likelihoods = determine_edge_probabilities(graph)"
   ]
  },
  {
   "cell_type": "code",
   "execution_count": 23,
   "id": "b624dafc-3705-4ecb-b60e-d974a57bf8d7",
   "metadata": {},
   "outputs": [],
   "source": [
    "# take yen_k shortest paths"
   ]
  },
  {
   "cell_type": "code",
   "execution_count": 52,
   "id": "ba83fe3e-b412-44d6-b827-0eaf765f308a",
   "metadata": {},
   "outputs": [
    {
     "data": {
      "text/plain": [
       "8-element Vector{BioSequences.MerIterResult{BioSequences.BigDNAMer{3}}}:\n",
       " BioSequences.MerIterResult{BioSequences.BigDNAMer{3}}(1, AGC, GCT)\n",
       " BioSequences.MerIterResult{BioSequences.BigDNAMer{3}}(2, GCC, GGC)\n",
       " BioSequences.MerIterResult{BioSequences.BigDNAMer{3}}(3, CCT, AGG)\n",
       " BioSequences.MerIterResult{BioSequences.BigDNAMer{3}}(4, CTG, CAG)\n",
       " BioSequences.MerIterResult{BioSequences.BigDNAMer{3}}(5, TGC, GCA)\n",
       " BioSequences.MerIterResult{BioSequences.BigDNAMer{3}}(6, GCA, TGC)\n",
       " BioSequences.MerIterResult{BioSequences.BigDNAMer{3}}(7, CAA, TTG)\n",
       " BioSequences.MerIterResult{BioSequences.BigDNAMer{3}}(8, AAA, TTT)"
      ]
     },
     "execution_count": 52,
     "metadata": {},
     "output_type": "execute_result"
    }
   ],
   "source": [
    "genome_kmers = collect(BioSequences.each(BioSequences.BigDNAMer{k}, genome))"
   ]
  },
  {
   "cell_type": "code",
   "execution_count": 24,
   "id": "8f548ff0-67c5-44a2-94a0-a8204124ae17",
   "metadata": {},
   "outputs": [],
   "source": [
    "# make a SNP edit to the genome"
   ]
  },
  {
   "cell_type": "code",
   "execution_count": 78,
   "id": "3a2d58a3-2431-42c7-b75d-85e3441cfd8f",
   "metadata": {},
   "outputs": [
    {
     "data": {
      "text/plain": [
       "0"
      ]
     },
     "execution_count": 78,
     "metadata": {},
     "output_type": "execute_result"
    }
   ],
   "source": [
    "seed = 0"
   ]
  },
  {
   "cell_type": "code",
   "execution_count": 79,
   "id": "8a22b5a8-c3d8-409d-b483-26b59bd221b9",
   "metadata": {},
   "outputs": [
    {
     "name": "stdout",
     "output_type": "stream",
     "text": [
      "seed = 1\n"
     ]
    },
    {
     "data": {
      "text/plain": [
       "11nt DNA Sequence:\n",
       "AGCGCTGCAAA"
      ]
     },
     "execution_count": 79,
     "metadata": {},
     "output_type": "execute_result"
    }
   ],
   "source": [
    "seed += 1\n",
    "@show seed\n",
    "Random.seed!(seed)\n",
    "observation = Mycelia.observe(genome, error_rate = 0.1)"
   ]
  },
  {
   "cell_type": "code",
   "execution_count": 80,
   "id": "7d8168eb-65f8-455c-8c43-9c4830502695",
   "metadata": {},
   "outputs": [
    {
     "data": {
      "text/plain": [
       "BioAlignments.PairwiseAlignmentResult{Int64, BioSequences.LongDNASeq, BioSequences.LongDNASeq}:\n",
       "  distance: 1\n",
       "  seq:  1 AGCGCTGCAAA 11\n",
       "          ||| |||||||\n",
       "  ref:  1 AGC-CTGCAAA 10\n"
      ]
     },
     "execution_count": 80,
     "metadata": {},
     "output_type": "execute_result"
    }
   ],
   "source": [
    "alignment = BioAlignments.pairalign(BioAlignments.LevenshteinDistance(), observation, genome)"
   ]
  },
  {
   "cell_type": "code",
   "execution_count": 81,
   "id": "57510fd3-5848-4471-bc29-f119ad4986c1",
   "metadata": {},
   "outputs": [
    {
     "data": {
      "text/plain": [
       "BioAlignments.PairwiseAlignmentResult{Int64, BioSequences.LongDNASeq, BioSequences.LongDNASeq}:\n",
       "  distance: 8\n",
       "  seq:  1 TTTGCAGCGCT 11\n",
       "              | ||   \n",
       "  ref:  0 -AGCCTGCAAA 10\n"
      ]
     },
     "execution_count": 81,
     "metadata": {},
     "output_type": "execute_result"
    }
   ],
   "source": [
    "reverse_alignment = BioAlignments.pairalign(BioAlignments.LevenshteinDistance(), BioSequences.reverse_complement(observation), genome)"
   ]
  },
  {
   "cell_type": "code",
   "execution_count": 82,
   "id": "ffdd8d70-c134-47e4-94b4-7ffa58f6f70d",
   "metadata": {},
   "outputs": [],
   "source": [
    "if reverse_alignment.value < alignment.value\n",
    "    observation = BioSequences.reverse_complement!(observation)\n",
    "    alignment = reverse_alignment\n",
    "    @show \"flipping\"\n",
    "end"
   ]
  },
  {
   "cell_type": "code",
   "execution_count": 83,
   "id": "c9191717-8c33-4f22-85d5-e42d434fb25d",
   "metadata": {},
   "outputs": [],
   "source": [
    "# convert genome into stranded path"
   ]
  },
  {
   "cell_type": "code",
   "execution_count": 84,
   "id": "c162ae04-c3ad-4658-8142-c5fa3ad7a543",
   "metadata": {},
   "outputs": [
    {
     "data": {
      "text/plain": [
       "9-element Vector{BioSequences.MerIterResult{BioSequences.BigDNAMer{3}}}:\n",
       " BioSequences.MerIterResult{BioSequences.BigDNAMer{3}}(1, AGC, GCT)\n",
       " BioSequences.MerIterResult{BioSequences.BigDNAMer{3}}(2, GCG, CGC)\n",
       " BioSequences.MerIterResult{BioSequences.BigDNAMer{3}}(3, CGC, GCG)\n",
       " BioSequences.MerIterResult{BioSequences.BigDNAMer{3}}(4, GCT, AGC)\n",
       " BioSequences.MerIterResult{BioSequences.BigDNAMer{3}}(5, CTG, CAG)\n",
       " BioSequences.MerIterResult{BioSequences.BigDNAMer{3}}(6, TGC, GCA)\n",
       " BioSequences.MerIterResult{BioSequences.BigDNAMer{3}}(7, GCA, TGC)\n",
       " BioSequences.MerIterResult{BioSequences.BigDNAMer{3}}(8, CAA, TTG)\n",
       " BioSequences.MerIterResult{BioSequences.BigDNAMer{3}}(9, AAA, TTT)"
      ]
     },
     "execution_count": 84,
     "metadata": {},
     "output_type": "execute_result"
    }
   ],
   "source": [
    "# function sequence_to_\n",
    "observation_as_oriented_kmers = []\n",
    "observation_kmers = collect(BioSequences.each(BioSequences.BigDNAMer{k}, observation))"
   ]
  },
  {
   "cell_type": "code",
   "execution_count": 85,
   "id": "e7fd3359-2116-42b9-a4df-48df59e2deb5",
   "metadata": {},
   "outputs": [],
   "source": [
    "is_canonical = falses(length(observation_kmers))\n",
    "kmer_index = zeros(Int, length(observation_kmers))\n",
    "for (i, kmer) in enumerate(observation_kmers)\n",
    "#     is_canonical[i] = kmer.fw <= kmer.bw\n",
    "    canonical_kmer = BioSequences.canonical(kmer.fw)\n",
    "    is_canonical[i] = kmer.fw == canonical_kmer\n",
    "    kmer_index_range = searchsorted(kmers, canonical_kmer)\n",
    "    if length(kmer_index_range) > 1\n",
    "        @error \"bad\"\n",
    "    elseif isempty(kmer_index_range)\n",
    "        # do nothing, index is 0 to indicate not found\n",
    "    else\n",
    "        kmer_index[i] = first(kmer_index_range)\n",
    "    end\n",
    "end"
   ]
  },
  {
   "cell_type": "code",
   "execution_count": 86,
   "id": "e9c7e7b3-7d18-463f-a74b-47a2bd28307a",
   "metadata": {},
   "outputs": [
    {
     "data": {
      "text/plain": [
       "9-element BitVector:\n",
       " 1\n",
       " 0\n",
       " 1\n",
       " 0\n",
       " 0\n",
       " 0\n",
       " 1\n",
       " 1\n",
       " 1"
      ]
     },
     "execution_count": 86,
     "metadata": {},
     "output_type": "execute_result"
    }
   ],
   "source": [
    "is_canonical"
   ]
  },
  {
   "cell_type": "code",
   "execution_count": 87,
   "id": "95d066fe-c611-4e94-bc74-e00afe1eea0b",
   "metadata": {},
   "outputs": [
    {
     "data": {
      "text/plain": [
       "9-element Vector{Int64}:\n",
       " 2\n",
       " 0\n",
       " 0\n",
       " 2\n",
       " 5\n",
       " 6\n",
       " 6\n",
       " 4\n",
       " 1"
      ]
     },
     "execution_count": 87,
     "metadata": {},
     "output_type": "execute_result"
    }
   ],
   "source": [
    "kmer_index"
   ]
  },
  {
   "cell_type": "code",
   "execution_count": 88,
   "id": "b263c57f-b499-4764-984f-af49fc1590ba",
   "metadata": {},
   "outputs": [
    {
     "data": {
      "text/plain": [
       "BioSequences.BigDNAMer{3}[]"
      ]
     },
     "execution_count": 88,
     "metadata": {},
     "output_type": "execute_result"
    }
   ],
   "source": [
    "proposed_path = BioSequences.BigDNAMer{k}[]"
   ]
  },
  {
   "cell_type": "code",
   "execution_count": 89,
   "id": "9d0d982e-7494-48c9-b206-0eb09f0df338",
   "metadata": {},
   "outputs": [],
   "source": [
    "# at each break in the path, take last good bits on each edge"
   ]
  },
  {
   "cell_type": "code",
   "execution_count": 90,
   "id": "075a9fab-2f32-4181-84bb-397488146445",
   "metadata": {},
   "outputs": [
    {
     "data": {
      "text/plain": [
       "2"
      ]
     },
     "execution_count": 90,
     "metadata": {},
     "output_type": "execute_result"
    }
   ],
   "source": [
    "initial_missing_kmer_path_index = findfirst(x -> x == 0, kmer_index)"
   ]
  },
  {
   "cell_type": "code",
   "execution_count": 91,
   "id": "a1cc9cc6-73c1-4108-83b9-10d0595da3ec",
   "metadata": {},
   "outputs": [
    {
     "data": {
      "text/plain": [
       "1"
      ]
     },
     "execution_count": 91,
     "metadata": {},
     "output_type": "execute_result"
    }
   ],
   "source": [
    "opening_solid_kmer_path_index = initial_missing_kmer_path_index - 1"
   ]
  },
  {
   "cell_type": "code",
   "execution_count": 92,
   "id": "1d83cece-eba0-40e9-930d-3536018c117a",
   "metadata": {},
   "outputs": [
    {
     "data": {
      "text/plain": [
       "DNA 3-mer:\n",
       "AGC"
      ]
     },
     "execution_count": 92,
     "metadata": {},
     "output_type": "execute_result"
    }
   ],
   "source": [
    "if initial_missing_kmer_path_index == nothing\n",
    "    @show \"done\"\n",
    "elseif initial_missing_kmer_path_index == 1\n",
    "    @show \"missing opening\"\n",
    "    opening_solid_kmer = nothing\n",
    "else\n",
    "    opening_solid_kmer = graph.vprops[kmer_index[opening_solid_kmer_path_index]][:kmer]\n",
    "    if !is_canonical[opening_solid_kmer_path_index]\n",
    "        opening_solid_kmer = BioSequences.reverse_complement(opening_solid_kmer)\n",
    "    end\n",
    "    opening_solid_kmer\n",
    "end"
   ]
  },
  {
   "cell_type": "code",
   "execution_count": 93,
   "id": "bfe73ab6-38eb-439f-a2e3-1d1a2bf23ebe",
   "metadata": {},
   "outputs": [
    {
     "data": {
      "text/plain": [
       "4"
      ]
     },
     "execution_count": 93,
     "metadata": {},
     "output_type": "execute_result"
    }
   ],
   "source": [
    "closing_solid_kmer_path_index = findnext(map(x -> x != 0, kmer_index), opening_solid_kmer_path_index+1)"
   ]
  },
  {
   "cell_type": "code",
   "execution_count": 94,
   "id": "f6d85d9d-f63b-42b3-a8be-093857228587",
   "metadata": {},
   "outputs": [
    {
     "name": "stdout",
     "output_type": "stream",
     "text": [
      "closing_solid_kmer = AGC\n"
     ]
    },
    {
     "data": {
      "text/plain": [
       "DNA 3-mer:\n",
       "GCT"
      ]
     },
     "execution_count": 94,
     "metadata": {},
     "output_type": "execute_result"
    }
   ],
   "source": [
    "if closing_solid_kmer_path_index == nothing\n",
    "    @show \"end is open\"\n",
    "    closing_solid_kmer = nothing\n",
    "else\n",
    "    closing_solid_kmer = graph.vprops[kmer_index[closing_solid_kmer_path_index]][:kmer]\n",
    "    @show closing_solid_kmer\n",
    "    if !is_canonical[closing_solid_kmer_path_index]\n",
    "        closing_solid_kmer = BioSequences.reverse_complement(closing_solid_kmer)\n",
    "    end\n",
    "    closing_solid_kmer\n",
    "end"
   ]
  },
  {
   "cell_type": "code",
   "execution_count": 95,
   "id": "566b211a-389f-4bbd-a28b-5f29d3d8aabb",
   "metadata": {},
   "outputs": [],
   "source": [
    "# if end is open, need to take a random walk of N steps"
   ]
  },
  {
   "cell_type": "code",
   "execution_count": 96,
   "id": "04399822-a71e-4988-b047-78eb765e8023",
   "metadata": {},
   "outputs": [],
   "source": [
    "if (opening_solid_kmer == nothing) && (closing_solid_kmer != nothing)\n",
    "    @show \"missing opening\"\n",
    "    inverted_closing_solid_kmer = BioSequences.reverse_complement(closing_solid_kmer)\n",
    "    @show inverted_closing_solid_kmer\n",
    "    walk_length = closing_solid_kmer_path_index\n",
    "    chosen_walk = take_a_walk(graph, edge_likelihoods, kmers, inverted_closing_solid_kmer, walk_length)\n",
    "    chosen_walk = reverse(BioSequences.reverse_complement.(chosen_walk))\n",
    "#     chosen_walk = reverse(chosen_walk)\n",
    "    @show chosen_walk\n",
    "    @assert observation_kmers[closing_solid_kmer_path_index].fw == last(chosen_walk)\n",
    "    proposed_path = vcat(chosen_walk, map(x -> x.fw, observation_kmers[closing_solid_kmer_path_index+1:end]))\n",
    "end"
   ]
  },
  {
   "cell_type": "code",
   "execution_count": 97,
   "id": "7fd3633d-5d03-4305-866d-44b056e9d496",
   "metadata": {},
   "outputs": [],
   "source": [
    "if (opening_solid_kmer != nothing) && (closing_solid_kmer == nothing)\n",
    "    @show \"missing closing\"\n",
    "    walk_length = length(observation_kmers) - opening_solid_kmer_path_index + 1\n",
    "    chosen_walk = take_a_walk(graph, edge_likelihoods, kmers, opening_solid_kmer, walk_length)\n",
    "    @show chosen_walk\n",
    "#     chosen_walk = reverse(BioSequences.reverse_complement.(chosen_walk))\n",
    "    @assert observation_kmers[opening_solid_kmer_path_index].fw == first(chosen_walk)\n",
    "    proposed_path = vcat(map(x -> x.fw, observation_kmers[1:opening_solid_kmer_path_index]), chosen_walk[2:end])\n",
    "end"
   ]
  },
  {
   "cell_type": "code",
   "execution_count": 113,
   "id": "2316f915-84ae-474d-9263-4d76ad53d42f",
   "metadata": {},
   "outputs": [
    {
     "name": "stdout",
     "output_type": "stream",
     "text": [
      "\"bubble!\" = \"bubble!\"\n",
      "chosen_walk = take_a_walk(graph, edge_likelihoods, kmers, opening_solid_kmer, walk_length) = BioSequences.BigDNAMer{3}[AGC, GCC, CCT, CTG, TGC]\n",
      "last_overlap = findfirst((kmer->begin\n",
      "                #= In[113]:12 =#\n",
      "                kmer.fw == last(chosen_walk)\n",
      "            end), observation_kmers[closing_solid_kmer_path_index:end]) = 3\n",
      "remaining_kmers = getproperty.(observation_kmers[closing_solid_kmer_path_index + last_overlap:end], :fw) = BioSequences.BigDNAMer{3}[GCA, CAA, AAA]\n"
     ]
    },
    {
     "data": {
      "text/plain": [
       "8-element Vector{BioSequences.BigDNAMer{3}}:\n",
       " AGC\n",
       " GCC\n",
       " CCT\n",
       " CTG\n",
       " TGC\n",
       " GCA\n",
       " CAA\n",
       " AAA"
      ]
     },
     "execution_count": 113,
     "metadata": {},
     "output_type": "execute_result"
    }
   ],
   "source": [
    "if (opening_solid_kmer != nothing) && (closing_solid_kmer != nothing)\n",
    "    @show \"bubble!\"\n",
    "#     @show opening_solid_kmer_path_index\n",
    "#     @show closing_solid_kmer_path_index\n",
    "    # overshoot a bit and trim\n",
    "    walk_length = ceil((closing_solid_kmer_path_index - opening_solid_kmer_path_index + 1) * 1.1)\n",
    "    opening_solid_kmer_index = kmer_index[opening_solid_kmer_path_index]\n",
    "    closing_solid_kmer_index = kmer_index[closing_solid_kmer_path_index]\n",
    "#     @show closing_solid_kmer\n",
    "    @show chosen_walk = take_a_walk(graph, edge_likelihoods, kmers, opening_solid_kmer, walk_length)\n",
    "#     @show observation_kmers[closing_solid_kmer_path_index:end]\n",
    "    @show last_overlap = findfirst(kmer -> kmer.fw == last(chosen_walk), observation_kmers[closing_solid_kmer_path_index:end])\n",
    "    @assert last_overlap != nothing\n",
    "    @show remaining_kmers = getproperty.(observation_kmers[closing_solid_kmer_path_index + last_overlap:end], :fw)\n",
    "    proposed_path = vcat(chosen_walk, remaining_kmers)\n",
    "end"
   ]
  },
  {
   "cell_type": "code",
   "execution_count": 114,
   "id": "4dbafba3-caad-4f1a-98b4-9bb1a6d25050",
   "metadata": {},
   "outputs": [
    {
     "data": {
      "text/plain": [
       "3nt DNA Sequence:\n",
       "AGC"
      ]
     },
     "execution_count": 114,
     "metadata": {},
     "output_type": "execute_result"
    }
   ],
   "source": [
    "proposed_seq = BioSequences.LongDNASeq(first(proposed_path))"
   ]
  },
  {
   "cell_type": "code",
   "execution_count": 115,
   "id": "79f2a512-a285-4951-900b-d0fd94db25be",
   "metadata": {},
   "outputs": [
    {
     "data": {
      "text/plain": [
       "10nt DNA Sequence:\n",
       "AGCCTGCAAA"
      ]
     },
     "execution_count": 115,
     "metadata": {},
     "output_type": "execute_result"
    }
   ],
   "source": [
    "for kmer in proposed_path[2:end]\n",
    "    push!(proposed_seq, last(kmer))\n",
    "end\n",
    "proposed_seq"
   ]
  },
  {
   "cell_type": "code",
   "execution_count": 116,
   "id": "46006c09-daf3-4628-8585-7946328c975f",
   "metadata": {},
   "outputs": [
    {
     "data": {
      "text/plain": [
       "BioAlignments.PairwiseAlignmentResult{Int64, BioSequences.LongDNASeq, BioSequences.LongDNASeq}:\n",
       "  distance: 0\n",
       "  seq:  1 AGCCTGCAAA 10\n",
       "          ||||||||||\n",
       "  ref:  1 AGCCTGCAAA 10\n"
      ]
     },
     "execution_count": 116,
     "metadata": {},
     "output_type": "execute_result"
    }
   ],
   "source": [
    "new_alignment = BioAlignments.pairalign(BioAlignments.LevenshteinDistance(), proposed_seq, genome)"
   ]
  },
  {
   "cell_type": "code",
   "execution_count": 117,
   "id": "7dddb7f3-7466-4852-bd9a-ec365d56c3a2",
   "metadata": {},
   "outputs": [
    {
     "data": {
      "text/plain": [
       "BioAlignments.PairwiseAlignmentResult{Int64, BioSequences.LongDNASeq, BioSequences.LongDNASeq}:\n",
       "  distance: 8\n",
       "  seq:  0 --TTTGCAGGCT 10\n",
       "              ||||    \n",
       "  ref:  1 AGCCTGCA--AA 10\n"
      ]
     },
     "execution_count": 117,
     "metadata": {},
     "output_type": "execute_result"
    }
   ],
   "source": [
    "reverse_new_alignment = BioAlignments.pairalign(BioAlignments.LevenshteinDistance(), BioSequences.reverse_complement(proposed_seq), genome)"
   ]
  },
  {
   "cell_type": "code",
   "execution_count": 118,
   "id": "0bcb9396-faf4-4c0d-bc85-8f13c9016229",
   "metadata": {},
   "outputs": [],
   "source": [
    "if reverse_new_alignment.value < new_alignment.value\n",
    "#     observation = BioSequences.reverse_complement!(observation)\n",
    "    new_alignment = reverse_new_alignment\n",
    "    @show \"flipping\"\n",
    "end"
   ]
  },
  {
   "cell_type": "code",
   "execution_count": 119,
   "id": "697153c4-416f-4308-80c9-216df5c4e893",
   "metadata": {},
   "outputs": [],
   "source": [
    "@assert new_alignment.value <= alignment.value"
   ]
  }
 ],
 "metadata": {
  "kernelspec": {
   "display_name": "Julia 1.6.1",
   "language": "julia",
   "name": "julia-1.6"
  },
  "language_info": {
   "file_extension": ".jl",
   "mimetype": "application/julia",
   "name": "julia",
   "version": "1.6.1"
  }
 },
 "nbformat": 4,
 "nbformat_minor": 5
}
