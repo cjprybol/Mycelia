{
 "cells": [
  {
   "cell_type": "markdown",
   "metadata": {},
   "source": [
    "# Initialize workspace"
   ]
  },
  {
   "cell_type": "code",
   "execution_count": 1,
   "metadata": {},
   "outputs": [
    {
     "data": {
      "text/plain": [
       "2-element Vector{Union{Nothing, SubString{String}}}:\n",
       " \"2022-03-29\"\n",
       " \"ecoli-tequatro-pangenome\""
      ]
     },
     "execution_count": 1,
     "metadata": {},
     "output_type": "execute_result"
    }
   ],
   "source": [
    "DATE_TASK = \"2022-03-29-ecoli-tequatro-pangenome\"\n",
    "DIR = mkpath(\"$(homedir())/workspace/$DATE_TASK\")\n",
    "cd(DIR)\n",
    "DATE, TASK = match(r\"^(\\d{4}-\\d{2}-\\d{2})-(.*)$\", DATE_TASK).captures"
   ]
  },
  {
   "cell_type": "markdown",
   "metadata": {},
   "source": [
    "# Import packages"
   ]
  },
  {
   "cell_type": "code",
   "execution_count": 2,
   "metadata": {},
   "outputs": [
    {
     "name": "stderr",
     "output_type": "stream",
     "text": [
      "\u001b[32m\u001b[1m    Updating\u001b[22m\u001b[39m registry at `~/.julia/registries/General`\n",
      "\u001b[32m\u001b[1m    Updating\u001b[22m\u001b[39m git-repo `https://github.com/cjprybol/Mycelia.git#master`\n",
      "\u001b[32m\u001b[1m   Installed\u001b[22m\u001b[39m IntegerMathUtils ─ v0.1.0\n",
      "\u001b[32m\u001b[1m   Installed\u001b[22m\u001b[39m Primes ─────────── v0.5.2\n",
      "\u001b[32m\u001b[1m   Installed\u001b[22m\u001b[39m Latexify ───────── v0.15.14\n",
      "\u001b[32m\u001b[1m    Updating\u001b[22m\u001b[39m `~/git/Mycelia/docs/Project.toml`\n",
      " \u001b[90m [27ebfcd6] \u001b[39m\u001b[93m↑ Primes v0.5.1 ⇒ v0.5.2\u001b[39m\n",
      "\u001b[32m\u001b[1m    Updating\u001b[22m\u001b[39m `~/git/Mycelia/docs/Manifest.toml`\n",
      " \u001b[90m [18e54dd8] \u001b[39m\u001b[92m+ IntegerMathUtils v0.1.0\u001b[39m\n",
      " \u001b[90m [23fbe1c1] \u001b[39m\u001b[93m↑ Latexify v0.15.13 ⇒ v0.15.14\u001b[39m\n",
      " \u001b[90m [27ebfcd6] \u001b[39m\u001b[93m↑ Primes v0.5.1 ⇒ v0.5.2\u001b[39m\n",
      "\u001b[32m\u001b[1mPrecompiling\u001b[22m\u001b[39m project...\n",
      "\u001b[32m  ✓ \u001b[39m\u001b[90mIntegerMathUtils\u001b[39m\n",
      "\u001b[32m  ✓ \u001b[39mPrimes\n",
      "\u001b[32m  ✓ \u001b[39m\u001b[90mLatexify\u001b[39m\n",
      "\u001b[32m  ✓ \u001b[39mPlots\n",
      "\u001b[32m  ✓ \u001b[39mStatsPlots\n",
      "\u001b[32m  ✓ \u001b[39mMycelia\n",
      "  6 dependencies successfully precompiled in 97 seconds (252 already precompiled, 6 skipped during auto due to previous errors)\n"
     ]
    }
   ],
   "source": [
    "import Pkg\n",
    "Pkg.update()\n",
    "pkgs = [\n",
    "\"JSON\",\n",
    "\"HTTP\",\n",
    "\"Dates\",\n",
    "\"uCSV\",\n",
    "\"DelimitedFiles\",\n",
    "\"DataFrames\",\n",
    "\"ProgressMeter\",\n",
    "\"BioSequences\",\n",
    "\"FASTX\",\n",
    "\"Distances\",\n",
    "\"StatsPlots\",\n",
    "\"StatsBase\",\n",
    "\"Statistics\",\n",
    "\"MultivariateStats\",\n",
    "\"Random\",\n",
    "\"Primes\",\n",
    "\"SparseArrays\",\n",
    "\"SHA\",\n",
    "\"GenomicAnnotations\",\n",
    "\"Combinatorics\",\n",
    "\"OrderedCollections\",\n",
    "\"Downloads\",\n",
    "\"Clustering\",\n",
    "\"Revise\",\n",
    "\"Mmap\",\n",
    "\"Graphs\",\n",
    "\"MetaGraphs\",\n",
    "\"FileIO\",\n",
    "\"SHA\",\n",
    "\"MD5\"\n",
    "]\n",
    "\n",
    "for pkg in pkgs\n",
    "    try\n",
    "        eval(Meta.parse(\"import $pkg\"))\n",
    "    catch\n",
    "        Pkg.add(pkg)\n",
    "        eval(Meta.parse(\"import $pkg\"))\n",
    "    end\n",
    "end\n",
    "\n",
    "# works but can't update locally, need to push and restart kernel to activate changes\n",
    "# \"https://github.com/cjprybol/Mycelia.git#master\",\n",
    "# didn't work\n",
    "# \"$(homedir())/git/Mycelia#master\",\n",
    "pkg_path = \"$(homedir())/git/Mycelia\"\n",
    "try\n",
    "    eval(Meta.parse(\"import $(basename(pkg_path))\"))\n",
    "catch\n",
    "    # Pkg.add(url=pkg)\n",
    "    Pkg.develop(path=pkg_path)\n",
    "    # pkg = replace(basename(pkg), \".git#master\" => \"\")\n",
    "    # pkg = replace(basename(pkg), \"#master\" => \"\")\n",
    "    eval(Meta.parse(\"import $(basename(pkg_path))\"))\n",
    "end"
   ]
  },
  {
   "cell_type": "markdown",
   "metadata": {},
   "source": [
    "# Declare global parameters"
   ]
  },
  {
   "cell_type": "code",
   "execution_count": 3,
   "metadata": {},
   "outputs": [
    {
     "data": {
      "text/plain": [
       "\"cb969e03\""
      ]
     },
     "execution_count": 3,
     "metadata": {},
     "output_type": "execute_result"
    }
   ],
   "source": [
    "# https://www.ncbi.nlm.nih.gov/Taxonomy/Browser/wwwtax.cgi?&id=$(tax_id)\n",
    "# https://www.ncbi.nlm.nih.gov/Taxonomy/Browser/wwwtax.cgi?lvl=0&amp;id=2733124\n",
    "# root_tax_id = 2733124\n",
    "\n",
    "root_tax_id = 10663\n",
    "host = \"Escherichia\"\n",
    "database_id = \"cb969e03\""
   ]
  },
  {
   "cell_type": "code",
   "execution_count": 4,
   "metadata": {},
   "outputs": [
    {
     "data": {
      "text/plain": [
       "\"neo4j\""
      ]
     },
     "execution_count": 4,
     "metadata": {},
     "output_type": "execute_result"
    }
   ],
   "source": [
    "NEO4J_BIN_DIR = \"/home/jupyter-cjprybol/software/neo4j-community-4.4.3/bin\"\n",
    "if !occursin(NEO4J_BIN_DIR, ENV[\"PATH\"])\n",
    "    ENV[\"PATH\"] = \"$(NEO4J_BIN_DIR):\" * ENV[\"PATH\"]\n",
    "end\n",
    "USERNAME=\"neo4j\"\n",
    "PASSWORD=readline(joinpath(homedir(), \".config\", \"neo4j\", \"$(database_id).pass\"));\n",
    "ADDRESS=\"neo4j+s://$(database_id).databases.neo4j.io:7687\"\n",
    "DATABASE = \"neo4j\""
   ]
  },
  {
   "cell_type": "markdown",
   "metadata": {},
   "source": [
    "# New functions (add me to library)"
   ]
  },
  {
   "cell_type": "code",
   "execution_count": 5,
   "metadata": {},
   "outputs": [
    {
     "data": {
      "text/plain": [
       "assess_edgemer (generic function with 1 method)"
      ]
     },
     "execution_count": 5,
     "metadata": {},
     "output_type": "execute_result"
    }
   ],
   "source": [
    "function assess_edgemer(edgemer)\n",
    "    k = length(edgemer)-1\n",
    "    kmer_type = BioSequences.BigDNAMer{k}\n",
    "    src = kmer_type(edgemer[i] for i in 1:k)\n",
    "    dst = kmer_type(edgemer[i] for i in 2:k+1)\n",
    "    canonical_src = BioSequences.canonical(src)\n",
    "    canonical_dst = BioSequences.canonical(dst)\n",
    "    src_is_canonical = src == canonical_src\n",
    "    dst_is_canonical = dst == canonical_dst\n",
    "    # @show edgemer\n",
    "    # @show src\n",
    "    # @show canonical_src\n",
    "    # @show src_is_canonical\n",
    "    # @show dst\n",
    "    # @show canonical_dst\n",
    "    # @show dst_is_canonical\n",
    "    return src, canonical_src, src_is_canonical, dst, canonical_dst, dst_is_canonical\n",
    "end"
   ]
  },
  {
   "cell_type": "code",
   "execution_count": 6,
   "metadata": {},
   "outputs": [
    {
     "data": {
      "text/plain": [
       "has_identifier (generic function with 1 method)"
      ]
     },
     "execution_count": 6,
     "metadata": {},
     "output_type": "execute_result"
    }
   ],
   "source": [
    "function has_identifier(graph, identifier)\n",
    "    return identifier in keys(graph.metaindex[:identifier])\n",
    "end"
   ]
  },
  {
   "cell_type": "code",
   "execution_count": 7,
   "metadata": {},
   "outputs": [
    {
     "data": {
      "text/plain": [
       "fastx_to_metagraph (generic function with 1 method)"
      ]
     },
     "execution_count": 7,
     "metadata": {},
     "output_type": "execute_result"
    }
   ],
   "source": [
    "# TODO break me out into indivual steps of additon at each level\n",
    "# TODO re-write me so that I just write out node and edge tables and add them batch style\n",
    "function fastx_to_metagraph(;graph, k, entity_file_map)\n",
    "    @assert isodd(k) \"k must be odd to avoid the possibility of kmers being reverse complements of themselves\"\n",
    "    @assert 3 <= k <= 63 \"k must be at least 3 to allow for kmer overlaps and less than 64 to be compatible with type limits\"\n",
    "    kmer_type = BioSequences.BigDNAMer{k}\n",
    "    edgemer_type = BioSequences.BigDNAMer{k+1}\n",
    "    edge_orientations = Symbol.([\n",
    "        \"true_true\",\n",
    "        \"true_false\",\n",
    "        \"false_true\",\n",
    "        \"false_false\"\n",
    "    ])\n",
    "    canonical_kmers = Set{kmer_type}()\n",
    "    MetaGraphs.set_indexing_prop!(graph, :identifier)\n",
    "    for entity in keys(entity_file_map)\n",
    "        # f_type = \"Genome\"\n",
    "        fastx = entity_file_map[entity][\"genome\"]\n",
    "        fastx_hash = SHA.bytes2hex(SHA.sha256(Mycelia.open_fastx(fastx)))\n",
    "        @show fastx_hash\n",
    "#         Graphs.add_vertex!(graph)\n",
    "#         fasta_node = Graphs.nv(graph)\n",
    "#         # node types are camel case\n",
    "#         MetaGraphs.set_prop!(graph, fasta_node, :TYPE, \"Fasta\")\n",
    "#         # node and edge properties are lowercase\n",
    "#         # add entity identifier as a property that can be queried on\n",
    "#         MetaGraphs.set_prop!(graph, fasta_node, :path, fastx)\n",
    "#         # for identifier, set \n",
    "#         MetaGraphs.set_prop!(graph, fasta_node, :identifier, entity)\n",
    "#         for record in Mycelia.open_fastx(fastx)\n",
    "#             Graphs.add_vertex!(graph)\n",
    "#             record_node = Graphs.nv(graph)\n",
    "            \n",
    "#             MetaGraphs.set_prop!(graph, record_node, :TYPE, \"FastaRecord\")\n",
    "#             MetaGraphs.set_prop!(graph, record_node, :identifier, FASTX.identifier(record))\n",
    "#             MetaGraphs.set_prop!(graph, record_node, :description, FASTX.description(record))\n",
    "#             MetaGraphs.set_prop!(graph, record_node, :sequence, FASTX.sequence(record))\n",
    "#             if typeof(FASTX.sequence(record)) == BioSequences.LongDNASeq\n",
    "#                 sequence_type = \"dna\"\n",
    "#             elseif typeof(FASTX.sequence(record)) == BioSequences.LongAminoAcidSeq\n",
    "#                 sequence_type = \"aa\"\n",
    "#             elseif typeof(FASTX.sequence(record)) == BioSequences.LongRNASeq\n",
    "#                 sequence_type = \"rna\"\n",
    "#             end\n",
    "#             MetaGraphs.set_prop!(graph, record_node, :sequence_type, sequence_type)\n",
    "#             edge = Graphs.Edge(fasta_node, record_node)\n",
    "#             Graphs.add_edge!(graph, edge)\n",
    "#             # edge types are all caps\n",
    "#             MetaGraphs.set_prop!(graph, edge, :TYPE, \"CONTAINS_RECORD\")\n",
    "#             # for kmer in collect(BioSequences.each(kmer_type, FASTX.sequence(record)))[1:2^3]\n",
    "#             for kmer in BioSequences.each(kmer_type, FASTX.sequence(record))\n",
    "#                 canonical_kmer = BioSequences.canonical(kmer)\n",
    "#                 if canonical_kmer in canonical_kmers\n",
    "#                     kmer_node = graph[canonical_kmer, :identifier]\n",
    "#                 else\n",
    "#                     push!(canonical_kmers, canonical_kmer)\n",
    "#                     Graphs.add_vertex!(graph)\n",
    "#                     kmer_node = Graphs.nv(graph)\n",
    "#                     MetaGraphs.set_prop!(graph, kmer_node, :TYPE, \"Kmer\")\n",
    "#                     MetaGraphs.set_prop!(graph, kmer_node, :identifier, BioSequences.canonical(kmer))\n",
    "#                     MetaGraphs.set_prop!(graph, kmer_node, :sequence_type, sequence_type)\n",
    "#                 end\n",
    "#                 edge = Graphs.Edge(record_node, kmer_node)\n",
    "#                 if !Graphs.has_edge(graph, edge)\n",
    "#                     Graphs.add_edge!(graph, edge)\n",
    "#                     MetaGraphs.set_prop!(graph, edge, :TYPE, \"CONTAINS_KMER\")\n",
    "#                     # can't use vectors as properties :(\n",
    "#                     MetaGraphs.set_prop!(graph, edge, :count, 0)\n",
    "#                     MetaGraphs.set_prop!(graph, edge, Symbol(true), 0)\n",
    "#                     MetaGraphs.set_prop!(graph, edge, Symbol(false), 0)\n",
    "#                 end\n",
    "#                 is_canonical = Symbol(BioSequences.iscanonical(kmer.fw))\n",
    "#                 current_count = MetaGraphs.get_prop(graph, edge, is_canonical) + 1\n",
    "#                 MetaGraphs.set_prop!(graph, edge, is_canonical, current_count)\n",
    "\n",
    "#                 current_count = MetaGraphs.get_prop(graph, edge, Symbol(true)) + MetaGraphs.get_prop(graph, edge, Symbol(false))\n",
    "#                 MetaGraphs.set_prop!(graph, edge, :count, current_count)                \n",
    "#             end\n",
    "#             # for edgemer in collect(BioSequences.each(edgemer_type, FASTX.sequence(record)))[1:2^3-1]\n",
    "#             for edgemer in BioSequences.each(edgemer_type, FASTX.sequence(record))\n",
    "#                 src, canonical_src, src_is_canonical, dst, canonical_dst, dst_is_canonical = assess_edgemer(edgemer.fw)\n",
    "#                 if canonical_dst < canonical_src\n",
    "#                     src, canonical_src, src_is_canonical, dst, canonical_dst, dst_is_canonical = assess_edgemer(edgemer.bw)\n",
    "#                 end\n",
    "#                 src_index, dst_index = graph[canonical_src, :identifier], graph[canonical_dst, :identifier]\n",
    "#                 edge = Graphs.Edge(src_index, dst_index)\n",
    "#                 if !Graphs.has_edge(graph, edge)\n",
    "#                     Graphs.add_edge!(graph, edge)\n",
    "#                     MetaGraphs.set_prop!(graph, edge, :TYPE, \"CONNECTS_TO\")\n",
    "#                     for o in edge_orientations\n",
    "#                         MetaGraphs.set_prop!(graph, edge, o, 0)\n",
    "#                     end\n",
    "#                     MetaGraphs.set_prop!(graph, edge, :count, 0)\n",
    "#                 end\n",
    "#                 orientations = Symbol(\"$(src_is_canonical)_$(dst_is_canonical)\")\n",
    "#                 current_count = MetaGraphs.get_prop(graph, edge, orientations) + 1\n",
    "#                 MetaGraphs.set_prop!(graph, edge, orientations, current_count)\n",
    "                \n",
    "#                 current_count = sum(MetaGraphs.get_prop(graph, edge, o) for o in edge_orientations)\n",
    "#                 MetaGraphs.set_prop!(graph, edge, :count, current_count) \n",
    "#             end\n",
    "#         end\n",
    "    end\n",
    "    return graph\n",
    "end"
   ]
  },
  {
   "cell_type": "code",
   "execution_count": 8,
   "metadata": {},
   "outputs": [
    {
     "data": {
      "text/plain": [
       "upload_node_type_over_url (generic function with 2 methods)"
      ]
     },
     "execution_count": 8,
     "metadata": {},
     "output_type": "execute_result"
    }
   ],
   "source": [
    "function upload_node_type_over_url(node_type, graph, ADDRESS, USERNAME, PASSWORD, DATABASE, window_size=100)\n",
    "    node_type_params = Set{Symbol}()\n",
    "    vertices_of_type = [v for v in Graphs.vertices(graph) if (graph.vprops[v][:TYPE] == node_type)]\n",
    "    \n",
    "    V = length(vertices_of_type)\n",
    "    windows = [i:min(i+window_size-1,V) for i in 1:window_size:V]\n",
    "    \n",
    "    ProgressMeter.@showprogress for window in windows\n",
    "        cmds = []\n",
    "        for (i, v) in enumerate(vertices_of_type[window])\n",
    "            node_params = filter(p -> p != :TYPE, keys(MetaGraphs.props(graph, v)))\n",
    "            params = [\"$(string(param)):'$(MetaGraphs.get_prop(graph, v, param))'\" for param in node_params]\n",
    "            # params = [\"$(string(param)):'$(escape_string(MetaGraphs.get_prop(graph, v, param)))'\" for param in node_params]\n",
    "            joint_params = join(params, \", \")\n",
    "            cmd = \"MERGE (node$(i):$(node_type) {$(joint_params)})\"\n",
    "            push!(cmds, cmd)\n",
    "        end\n",
    "        cmd = join(cmds, ' ')\n",
    "        cypher_cmd = Mycelia.cypher(address = ADDRESS, username = USERNAME, password = PASSWORD, database = DATABASE, cmd = cmd)\n",
    "        run(cypher_cmd)\n",
    "    end    \n",
    "end"
   ]
  },
  {
   "cell_type": "code",
   "execution_count": 74,
   "metadata": {},
   "outputs": [
    {
     "data": {
      "text/plain": [
       "upload_edge_type_over_url (generic function with 1 method)"
      ]
     },
     "execution_count": 74,
     "metadata": {},
     "output_type": "execute_result"
    }
   ],
   "source": [
    "function upload_edge_type_over_url(src_type, dst_type, edge_type, graph, ADDRESS, USERNAME, PASSWORD, DATABASE; window_size=100)    \n",
    "    src_nodes = filter(v -> MetaGraphs.get_prop(graph, v, :TYPE) == src_type, Graphs.vertices(graph))\n",
    "    dst_nodes = filter(v -> MetaGraphs.get_prop(graph, v, :TYPE) == dst_type, Graphs.vertices(graph))\n",
    "    edges_to_upload = []\n",
    "    for src_node in src_nodes\n",
    "        outneighbors = Graphs.outneighbors(graph, src_node)\n",
    "        outneighbors = filter(outneighbor -> outneighbor in dst_nodes, outneighbors)\n",
    "        for outneighbor in outneighbors\n",
    "            this_edge = Graphs.Edge(src_node, outneighbor)\n",
    "            @assert MetaGraphs.get_prop(graph, this_edge, :TYPE) == edge_type\n",
    "            push!(edges_to_upload, this_edge)\n",
    "        end\n",
    "    end\n",
    "    # edge_type_params = filter(param -> param != :TYPE, reduce(union, keys(graph.eprops[e]) for e in edges_to_upload))\n",
    "    \n",
    "    N = length(edges_to_upload)\n",
    "    windows = [i:min(i+window_size-1,N) for i in 1:window_size:N]\n",
    "    \n",
    "    ProgressMeter.@showprogress for window in windows\n",
    "        cmds = []\n",
    "        for (i, e) in enumerate(edges_to_upload[window])\n",
    "            edge_params = filter(p -> p != :TYPE, keys(MetaGraphs.props(graph, e)))\n",
    "            params = [\"$(string(param)):'$(MetaGraphs.get_prop(graph, e, param))'\" for param in edge_params]\n",
    "            joint_params = join(params, \", \")\n",
    "            node_cmds = \n",
    "            \"\"\"\n",
    "            MERGE (src$(i):$(MetaGraphs.props(graph, e.src)[:TYPE]) {identifier: '$(MetaGraphs.props(graph, e.src)[:identifier])'})\n",
    "            MERGE (dst$(i):$(MetaGraphs.props(graph, e.dst)[:TYPE]) {identifier: '$(MetaGraphs.props(graph, e.dst)[:identifier])'})\n",
    "            \"\"\"\n",
    "            # match_cmds = \n",
    "            # \"\"\"\n",
    "            # MATCH \n",
    "            #     (src$(i):$(MetaGraphs.props(graph, e.src)[:TYPE]) {identifier: '$(MetaGraphs.props(graph, e.src)[:identifier])'}),\n",
    "            #     (dst$(i):$(MetaGraphs.props(graph, e.dst)[:TYPE]) {identifier: '$(MetaGraphs.props(graph, e.dst)[:identifier])'})\n",
    "            # \"\"\"\n",
    "            if !isempty(joint_params)\n",
    "                relationship_cmd = \"MERGE (src$(i))-[r$(i):$(MetaGraphs.props(graph, e)[:TYPE]) {$(joint_params)}]->(dst$(i))\"\n",
    "            else\n",
    "                relationship_cmd = \"MERGE (src$(i))-[r$(i):$(MetaGraphs.props(graph, e)[:TYPE])]->(dst$(i))\"\n",
    "            end\n",
    "            cmd = node_cmds * relationship_cmd\n",
    "            cmd = replace(cmd, '\\n' => ' ')\n",
    "            push!(cmds, cmd)\n",
    "        end\n",
    "        cmd = join(cmds, ' ')\n",
    "        cypher_cmd = Mycelia.cypher(address = ADDRESS, username = USERNAME, password = PASSWORD, database = DATABASE, cmd = cmd)\n",
    "        run(cypher_cmd)\n",
    "        # println(cypher_cmd)\n",
    "    end    \n",
    "end"
   ]
  },
  {
   "cell_type": "code",
   "execution_count": 10,
   "metadata": {},
   "outputs": [
    {
     "data": {
      "text/plain": [
       "upload_node_type_over_read_csv (generic function with 2 methods)"
      ]
     },
     "execution_count": 10,
     "metadata": {},
     "output_type": "execute_result"
    }
   ],
   "source": [
    "function upload_node_type_over_read_csv(node_type, graph, ADDRESS, USERNAME, PASSWORD, DATABASE, window_size=1)\n",
    "        \n",
    "    node_type_params = Set{Symbol}()\n",
    "    vertices_of_type = [v for v in Graphs.vertices(graph) if (graph.vprops[v][:TYPE] == node_type)]\n",
    "    node_type_params = filter(param -> param != :TYPE, reduce(union, keys(graph.vprops[v]) for v in vertices_of_type))\n",
    "    \n",
    "    V = length(vertices_of_type)\n",
    "    windows = [i:min(i+window_size-1,V) for i in 1:window_size:V]\n",
    "    \n",
    "    temp_upload_dir = mkpath(joinpath(DIR, \"temp_upload\"))\n",
    "    \n",
    "    ProgressMeter.@showprogress for window in windows\n",
    "        for (i, v) in enumerate(vertices_of_type[window])\n",
    "\n",
    "            f = \"node$v.tsv\"\n",
    "            local_f_path = \"$(temp_upload_dir)/$(f)\"\n",
    "            uCSV.write(local_f_path, DataFrames.DataFrame(MetaGraphs.props(graph, v)), delim='\\t')\n",
    "            \n",
    "            remote_f_path = \"gs://neo4j-upload/$(f)\"\n",
    "            run(`gsutil cp $(local_f_path) $(remote_f_path)`)\n",
    "            # gcloud iam service-accounts keys create ~/.config/gcloud/url-signer-key.json --iam-account=\"928365250020-compute@developer.gserviceaccount.com\"\n",
    "            signer_credential_path = \"$(homedir())/.config/gcloud/url-signer-key.json\"\n",
    "            sign_url_cmd = `gsutil signurl $(signer_credential_path) $(remote_f_path)`\n",
    "            signed_url_table = DataFrames.DataFrame(uCSV.read(open(sign_url_cmd), header=1, delim='\\t')...)\n",
    "            signed_url = signed_url_table[1, \"Signed URL\"]\n",
    "            parameters = [\"$(p): row.$(p)\" for p in filter(x -> x != :TYPE, keys(MetaGraphs.props(graph, v)))]\n",
    "            parameters = \"{\" * join(parameters, \", \") * \"}\"\n",
    "\n",
    "            cmd =\n",
    "            \"\"\"\n",
    "            LOAD CSV WITH HEADERS FROM '$(signed_url)' AS row FIELDTERMINATOR '\\t'\n",
    "            MERGE (node:$(node_type) $(parameters))\n",
    "            \"\"\"\n",
    "\n",
    "            cmd = rstrip(replace(cmd, '\\n' => ' '))\n",
    "            cypher_cmd = Mycelia.cypher(address = ADDRESS, username = USERNAME, password = PASSWORD, database = DATABASE, cmd = cmd)\n",
    "            run(cypher_cmd)            \n",
    "        end\n",
    "    end    \n",
    "end"
   ]
  },
  {
   "cell_type": "code",
   "execution_count": 11,
   "metadata": {},
   "outputs": [
    {
     "data": {
      "text/plain": [
       "add_node_table_to_graph! (generic function with 1 method)"
      ]
     },
     "execution_count": 11,
     "metadata": {},
     "output_type": "execute_result"
    }
   ],
   "source": [
    "function add_node_table_to_graph!(;graph, table)\n",
    "    ProgressMeter.@showprogress for row in DataFrames.eachrow(table)\n",
    "        if !has_identifier(graph, row[:identifier])\n",
    "            Graphs.add_vertex!(graph)\n",
    "            v = Graphs.nv(graph)\n",
    "        else\n",
    "            v = graph[row[:identifier], :identifier]\n",
    "        end\n",
    "        for col in names(row)\n",
    "            occursin(r\"\\s+\", col) && error(\"space found in parameter name, please sanitize\")\n",
    "            scol = Symbol(col)\n",
    "            if !ismissing(row[col])\n",
    "                if MetaGraphs.has_prop(graph, v, scol)\n",
    "                    current_value = MetaGraphs.props(graph, v)[scol]\n",
    "                    @assert row[col] == current_value\n",
    "                else\n",
    "                    MetaGraphs.set_prop!(graph, v, scol, row[col])\n",
    "                end\n",
    "            end\n",
    "        end\n",
    "    end\n",
    "    return graph\n",
    "end"
   ]
  },
  {
   "cell_type": "code",
   "execution_count": 12,
   "metadata": {},
   "outputs": [
    {
     "data": {
      "text/plain": [
       "add_edge_table_to_graph! (generic function with 1 method)"
      ]
     },
     "execution_count": 12,
     "metadata": {},
     "output_type": "execute_result"
    }
   ],
   "source": [
    "function add_edge_table_to_graph!(;graph, table)\n",
    "    ProgressMeter.@showprogress for row in DataFrames.eachrow(table)\n",
    "        src = graph[row[:src], :identifier]\n",
    "        dst = graph[row[:dst], :identifier]\n",
    "        # edge_type = row[:TYPE]\n",
    "        edge = Graphs.Edge(src, dst)\n",
    "        if !Graphs.has_edge(graph, edge)\n",
    "            Graphs.add_edge!(graph, edge)\n",
    "        end\n",
    "        for col in filter(col -> !(col in (\"src\", \"dst\")), names(row))\n",
    "            occursin(r\"\\s+\", col) && error(\"space found in parameter name, please sanitize\")\n",
    "            scol = Symbol(col)\n",
    "            if !ismissing(row[col])\n",
    "                if MetaGraphs.has_prop(graph, edge, scol)\n",
    "                    current_value = MetaGraphs.props(graph, edge)[scol]\n",
    "                    @assert row[col] == current_value\n",
    "                else\n",
    "                    MetaGraphs.set_prop!(graph, edge, scol, row[col])\n",
    "                end\n",
    "            end\n",
    "        end\n",
    "    end\n",
    "    return graph\n",
    "end"
   ]
  },
  {
   "cell_type": "markdown",
   "metadata": {},
   "source": [
    "# Script"
   ]
  },
  {
   "cell_type": "markdown",
   "metadata": {},
   "source": [
    "## obtain NCBI taxonomy"
   ]
  },
  {
   "cell_type": "code",
   "execution_count": 13,
   "metadata": {},
   "outputs": [
    {
     "data": {
      "text/plain": [
       "9-element Vector{String}:\n",
       " \"citations.dmp\"\n",
       " \"delnodes.dmp\"\n",
       " \"division.dmp\"\n",
       " \"gc.prt\"\n",
       " \"gencode.dmp\"\n",
       " \"merged.dmp\"\n",
       " \"names.dmp\"\n",
       " \"nodes.dmp\"\n",
       " \"readme.txt\""
      ]
     },
     "execution_count": 13,
     "metadata": {},
     "output_type": "execute_result"
    }
   ],
   "source": [
    "taxdump_url = \"https://ftp.ncbi.nih.gov/pub/taxonomy/taxdump.tar.gz\"\n",
    "taxdump_local_tarball = \"$(DIR)/$(basename(taxdump_url))\"\n",
    "\n",
    "if !isfile(taxdump_local_tarball)\n",
    "    download(taxdump_url, taxdump_local_tarball)\n",
    "end\n",
    "\n",
    "taxdump_out = replace(taxdump_local_tarball, \".tar.gz\" => \"\")\n",
    "if !isdir(taxdump_out)\n",
    "    mkpath(taxdump_out)\n",
    "    run(`tar -xvzf $(taxdump_local_tarball) -C $(taxdump_out)`)\n",
    "end\n",
    "\n",
    "readdir(taxdump_out)"
   ]
  },
  {
   "cell_type": "code",
   "execution_count": 14,
   "metadata": {},
   "outputs": [
    {
     "name": "stderr",
     "output_type": "stream",
     "text": [
      "\u001b[32mProgress: 100%|█████████████████████████████████████████| Time: 0:00:25\u001b[39m39m\n"
     ]
    },
    {
     "data": {
      "text/html": [
       "<div class=\"data-frame\"><p>3,581,658 rows × 4 columns (omitted printing of 2 columns)</p><table class=\"data-frame\"><thead><tr><th></th><th>tax_id</th><th>name_txt</th></tr><tr><th></th><th title=\"String\">String</th><th title=\"String\">String</th></tr></thead><tbody><tr><th>1</th><td>1</td><td>all</td></tr><tr><th>2</th><td>1</td><td>root</td></tr><tr><th>3</th><td>2</td><td>Bacteria</td></tr><tr><th>4</th><td>2</td><td>bacteria</td></tr><tr><th>5</th><td>2</td><td>eubacteria</td></tr><tr><th>6</th><td>2</td><td>Monera</td></tr><tr><th>7</th><td>2</td><td>Procaryotae</td></tr><tr><th>8</th><td>2</td><td>Prokaryotae</td></tr><tr><th>9</th><td>2</td><td>Prokaryota</td></tr><tr><th>10</th><td>2</td><td>prokaryote</td></tr><tr><th>11</th><td>2</td><td>prokaryotes</td></tr><tr><th>12</th><td>6</td><td>Azorhizobium Dreyfus et al. 1988 emend. Lang et al. 2013</td></tr><tr><th>13</th><td>6</td><td>Azorhizobium</td></tr><tr><th>14</th><td>7</td><td>ATCC 43989</td></tr><tr><th>15</th><td>7</td><td>Azorhizobium caulinodans Dreyfus et al. 1988</td></tr><tr><th>16</th><td>7</td><td>Azorhizobium caulinodans</td></tr><tr><th>17</th><td>7</td><td>Azotirhizobium caulinodans</td></tr><tr><th>18</th><td>7</td><td>CCUG 26647</td></tr><tr><th>19</th><td>7</td><td>DSM 5975</td></tr><tr><th>20</th><td>7</td><td>IFO 14845</td></tr><tr><th>21</th><td>7</td><td>JCM 20966</td></tr><tr><th>22</th><td>7</td><td>LMG 6465</td></tr><tr><th>23</th><td>7</td><td>LMG:6465</td></tr><tr><th>24</th><td>7</td><td>NBRC 14845</td></tr><tr><th>25</th><td>7</td><td>ORS 571</td></tr><tr><th>26</th><td>9</td><td>Acyrthosiphon pisum symbiont P</td></tr><tr><th>27</th><td>9</td><td>Buchnera aphidicola Munson et al. 1991</td></tr><tr><th>28</th><td>9</td><td>Buchnera aphidicola</td></tr><tr><th>29</th><td>9</td><td>primary endosymbiont of Schizaphis graminum</td></tr><tr><th>30</th><td>10</td><td>Cellvibrio (ex Winogradsky 1929) Blackall et al. 1986 emend. Humphry et al. 2003</td></tr><tr><th>&vellip;</th><td>&vellip;</td><td>&vellip;</td></tr></tbody></table></div>"
      ],
      "text/latex": [
       "\\begin{tabular}{r|ccc}\n",
       "\t& tax\\_id & name\\_txt & \\\\\n",
       "\t\\hline\n",
       "\t& String & String & \\\\\n",
       "\t\\hline\n",
       "\t1 & 1 & all & $\\dots$ \\\\\n",
       "\t2 & 1 & root & $\\dots$ \\\\\n",
       "\t3 & 2 & Bacteria & $\\dots$ \\\\\n",
       "\t4 & 2 & bacteria & $\\dots$ \\\\\n",
       "\t5 & 2 & eubacteria & $\\dots$ \\\\\n",
       "\t6 & 2 & Monera & $\\dots$ \\\\\n",
       "\t7 & 2 & Procaryotae & $\\dots$ \\\\\n",
       "\t8 & 2 & Prokaryotae & $\\dots$ \\\\\n",
       "\t9 & 2 & Prokaryota & $\\dots$ \\\\\n",
       "\t10 & 2 & prokaryote & $\\dots$ \\\\\n",
       "\t11 & 2 & prokaryotes & $\\dots$ \\\\\n",
       "\t12 & 6 & Azorhizobium Dreyfus et al. 1988 emend. Lang et al. 2013 & $\\dots$ \\\\\n",
       "\t13 & 6 & Azorhizobium & $\\dots$ \\\\\n",
       "\t14 & 7 & ATCC 43989 & $\\dots$ \\\\\n",
       "\t15 & 7 & Azorhizobium caulinodans Dreyfus et al. 1988 & $\\dots$ \\\\\n",
       "\t16 & 7 & Azorhizobium caulinodans & $\\dots$ \\\\\n",
       "\t17 & 7 & Azotirhizobium caulinodans & $\\dots$ \\\\\n",
       "\t18 & 7 & CCUG 26647 & $\\dots$ \\\\\n",
       "\t19 & 7 & DSM 5975 & $\\dots$ \\\\\n",
       "\t20 & 7 & IFO 14845 & $\\dots$ \\\\\n",
       "\t21 & 7 & JCM 20966 & $\\dots$ \\\\\n",
       "\t22 & 7 & LMG 6465 & $\\dots$ \\\\\n",
       "\t23 & 7 & LMG:6465 & $\\dots$ \\\\\n",
       "\t24 & 7 & NBRC 14845 & $\\dots$ \\\\\n",
       "\t25 & 7 & ORS 571 & $\\dots$ \\\\\n",
       "\t26 & 9 & Acyrthosiphon pisum symbiont P & $\\dots$ \\\\\n",
       "\t27 & 9 & Buchnera aphidicola Munson et al. 1991 & $\\dots$ \\\\\n",
       "\t28 & 9 & Buchnera aphidicola & $\\dots$ \\\\\n",
       "\t29 & 9 & primary endosymbiont of Schizaphis graminum & $\\dots$ \\\\\n",
       "\t30 & 10 & Cellvibrio (ex Winogradsky 1929) Blackall et al. 1986 emend. Humphry et al. 2003 & $\\dots$ \\\\\n",
       "\t$\\dots$ & $\\dots$ & $\\dots$ &  \\\\\n",
       "\\end{tabular}\n"
      ],
      "text/plain": [
       "\u001b[1m3581658×4 DataFrame\u001b[0m\n",
       "\u001b[1m     Row \u001b[0m│\u001b[1m tax_id  \u001b[0m\u001b[1m name_txt                          \u001b[0m\u001b[1m unique_name            \u001b[0m ⋯\n",
       "\u001b[1m         \u001b[0m│\u001b[90m String  \u001b[0m\u001b[90m String                            \u001b[0m\u001b[90m String                 \u001b[0m ⋯\n",
       "─────────┼──────────────────────────────────────────────────────────────────────\n",
       "       1 │ 1        all                                                        ⋯\n",
       "       2 │ 1        root\n",
       "       3 │ 2        Bacteria                           Bacteria <bacteria>\n",
       "       4 │ 2        bacteria\n",
       "       5 │ 2        eubacteria                                                 ⋯\n",
       "       6 │ 2        Monera                             Monera <bacteria>\n",
       "       7 │ 2        Procaryotae                        Procaryotae <bacteria>\n",
       "       8 │ 2        Prokaryotae                        Prokaryotae <bacteria>\n",
       "       9 │ 2        Prokaryota                         Prokaryota <bacteria>   ⋯\n",
       "      10 │ 2        prokaryote                         prokaryote <bacteria>\n",
       "      11 │ 2        prokaryotes                        prokaryotes <bacteria>\n",
       "    ⋮    │    ⋮                     ⋮                             ⋮            ⋱\n",
       " 3581649 │ 2929762  Bryum elegans Nees ex Brid., 1827\n",
       " 3581650 │ 2929762  Bryum elegans                                              ⋯\n",
       " 3581651 │ 2929762  Ptychostomum elegans (Nees ex Br…\n",
       " 3581652 │ 2929762  Ptychostomum elegans\n",
       " 3581653 │ 2929762  Rosulabryum elegans (Nees) Ochyr…\n",
       " 3581654 │ 2929762  Rosulabryum elegans                                        ⋯\n",
       " 3581655 │ 2929835  Dendroleontinae\n",
       " 3581656 │ 2929839  Candidatus Rickettsia uralica gr…\n",
       " 3581657 │ 2929841  Candidatus Ichthyocystis\n",
       " 3581658 │ 2929841  \"Candidatus Ichthyocystis\" Seth-…                          ⋯\n",
       "\u001b[36m                                              2 columns and 3581637 rows omitted\u001b[0m"
      ]
     },
     "execution_count": 14,
     "metadata": {},
     "output_type": "execute_result"
    }
   ],
   "source": [
    "#     Here we will create an in-memory dataframe to capture the contents of the names.dmp file\n",
    "\n",
    "# Taxonomy names file (names.dmp):\n",
    "# \ttax_id\t\t\t\t\t-- the id of node associated with this name\n",
    "# \tname_txt\t\t\t\t-- name itself\n",
    "# \tunique name\t\t\t\t-- the unique variant of this name if name not unique\n",
    "# \tname class\t\t\t\t-- (synonym, common name, ...)\n",
    "\n",
    "names_dmp = DataFrames.DataFrame(\n",
    "    tax_id = String[],\n",
    "    name_txt = String[],\n",
    "    unique_name = String[],\n",
    "    name_class = String[]\n",
    ")\n",
    "ProgressMeter.@showprogress for line in split(read(open(\"$(taxdump_out)/names.dmp\"), String), \"\\t|\\n\")\n",
    "    if isempty(line)\n",
    "        continue\n",
    "    else\n",
    "        (tax_id, name_txt, unique_name, name_class) = split(line, \"\\t|\\t\")\n",
    "        # tax_id = parse(Int, tax_id_string)\n",
    "        row = (;tax_id, name_txt, unique_name, name_class)\n",
    "        push!(names_dmp, row)\n",
    "    end\n",
    "end\n",
    "names_dmp\n",
    "# all are unique\n",
    "# unique!(names_dmp)"
   ]
  },
  {
   "cell_type": "code",
   "execution_count": 15,
   "metadata": {},
   "outputs": [
    {
     "name": "stderr",
     "output_type": "stream",
     "text": [
      "\u001b[32mProgress: 100%|█████████████████████████████████████████| Time: 0:06:09\u001b[39mm:59\u001b[39m\n"
     ]
    },
    {
     "data": {
      "text/html": [
       "<div class=\"data-frame\"><p>2,411,405 rows × 13 columns (omitted printing of 11 columns)</p><table class=\"data-frame\"><thead><tr><th></th><th>acronym</th><th>authority</th></tr><tr><th></th><th title=\"Union{Missing, String}\">String?</th><th title=\"Union{Missing, String}\">String?</th></tr></thead><tbody><tr><th>1</th><td><em>missing</em></td><td><em>missing</em></td></tr><tr><th>2</th><td><em>missing</em></td><td><em>missing</em></td></tr><tr><th>3</th><td><em>missing</em></td><td>Azorhizobium Dreyfus et al. 1988 emend. Lang et al. 2013</td></tr><tr><th>4</th><td><em>missing</em></td><td>Azorhizobium caulinodans Dreyfus et al. 1988</td></tr><tr><th>5</th><td><em>missing</em></td><td>Buchnera aphidicola Munson et al. 1991</td></tr><tr><th>6</th><td><em>missing</em></td><td>Cellvibrio (ex Winogradsky 1929) Blackall et al. 1986 emend. Humphry et al. 2003;;;Cellvibrio (ex Winogradsky 1929) Blackall et al. 1986 emend. Suarez et al. 2014;;;&quot;Cellvibrio&quot; Winogradsky 1929</td></tr><tr><th>7</th><td><em>missing</em></td><td>&quot;Cellulomonas gilvus&quot; (Hulcher and King 1958) Christopherson et al. 2013;;;&quot;Cellvibrio gilvus&quot; Hulcher and King 1958</td></tr><tr><th>8</th><td><em>missing</em></td><td>Dictyoglomus Saiki et al. 1985</td></tr><tr><th>9</th><td><em>missing</em></td><td>Dictyoglomus thermophilum Saiki et al. 1985</td></tr><tr><th>10</th><td><em>missing</em></td><td>Methylophilus Jenkins et al. 1987</td></tr><tr><th>11</th><td><em>missing</em></td><td>Methylophilus methylotrophus Jenkins et al. 1987</td></tr><tr><th>12</th><td><em>missing</em></td><td>Pelobacter Schink and Pfennig 1983</td></tr><tr><th>13</th><td><em>missing</em></td><td>Pelobacter carbinolicus Schink 1984;;;Syntrophotalea carbinolica (Schink 1984) Waite et al. 2020</td></tr><tr><th>14</th><td><em>missing</em></td><td>Phenylobacterium Lingens et al. 1985 emend. Abraham et al. 2008;;;Phenylobacterium Lingens et al. 1985 emend. Kanso and Patel 2004;;;Phenylobacterium Lingens et al. 1985 emend. Oh and Roh 2012;;;Phenylobacterium Lingens et al. 1985 emend. Tiago et al. 2005</td></tr><tr><th>15</th><td><em>missing</em></td><td>Phenylobacterium immobile Lingens et al. 1985</td></tr><tr><th>16</th><td><em>missing</em></td><td>Shewanella MacDonell and Colwell 1986</td></tr><tr><th>17</th><td><em>missing</em></td><td>Alteromonas colwelliana Weiner et al. 1988;;;Shewanella affinis Ivanova et al. 2004;;;Shewanella colwelliana (Weiner et al. 1988) Coyne et al. 1990 emend. Thorell et al. 2019</td></tr><tr><th>18</th><td><em>missing</em></td><td>Alteromonas putrefaciens (ex Derby and Hammer) Lee et al. 1981;;;&quot;Pseudomonas putrefaciens&quot; (Derby and Hammer) Long and Hammer 1941;;;Shewanella putrefaciens (Lee et al. 1981) MacDonell and Colwell 1986 emend. Thorell et al. 2019</td></tr><tr><th>19</th><td><em>missing</em></td><td>Alteromonas hanedai Jensen et al. 1981;;;Shewanella hanedai (Jensen et al. 1981) MacDonell and Colwell 1986;;;Shewanella hanedai (Jensen et al. 1981) MacDonell and Colwell 1986 emend. Cao et al. 2021</td></tr><tr><th>20</th><td><em>missing</em></td><td><em>missing</em></td></tr><tr><th>21</th><td><em>missing</em></td><td><em>missing</em></td></tr><tr><th>22</th><td><em>missing</em></td><td>Myxococcales Tchan et al. 1948</td></tr><tr><th>23</th><td><em>missing</em></td><td>Myxococcaceae Jahn et al. 1924 (Approved Lists 1980) emend. Lang et al. 2015</td></tr><tr><th>24</th><td><em>missing</em></td><td>Myxococcus Thaxter 1892 emend. Lang and Stackebrandt 2009</td></tr><tr><th>25</th><td><em>missing</em></td><td>&quot;Micrococcus fulvus&quot; Cohn 1875;;;Myxococcus fulvus (Cohn 1875) Jahn 1911</td></tr><tr><th>26</th><td><em>missing</em></td><td>Myxococcus xanthus Beebe 1941</td></tr><tr><th>27</th><td><em>missing</em></td><td>&quot;Chondrococcus macrosporus&quot; Krzemieniewska and Krzemieniewski 1926;;;Corallococcus macrosporus Reichenbach 2007;;;Myxococcus macrosporus (Krzemieniewska and Krzemieniewski 1926) Zahler and McCurdy 1974 (Approved Lists 1980)</td></tr><tr><th>28</th><td><em>missing</em></td><td>Angiococcus disciformis (Thaxter 1904) Hook et al. 1980;;;&quot;Angiococcus disciformis&quot; (Thaxter 1904) Jahn 1924;;;Archangium disciforme (Thaxter 1904) Lang et al. 2015;;;&quot;Cystobacter disciformis&quot; (Thaxter 1904) Brockman and McCurdy 1989;;;Myxococcus disciformis Thaxter 1904 (Approved Lists 1980)</td></tr><tr><th>29</th><td><em>missing</em></td><td>Archangiaceae Jahn et al. 1924 (Approved Lists 1980) emend. Lang et al. 2015;;;Cystobacteraceae McCurdy 1970 (Approved Lists 1980) emend. Awal et al. 2017</td></tr><tr><th>30</th><td><em>missing</em></td><td>Stigmatella Berkeley and Curtis 1875</td></tr><tr><th>&vellip;</th><td>&vellip;</td><td>&vellip;</td></tr></tbody></table></div>"
      ],
      "text/latex": [
       "\\begin{tabular}{r|ccc}\n",
       "\t& acronym & authority & \\\\\n",
       "\t\\hline\n",
       "\t& String? & String? & \\\\\n",
       "\t\\hline\n",
       "\t1 & \\emph{missing} & \\emph{missing} & $\\dots$ \\\\\n",
       "\t2 & \\emph{missing} & \\emph{missing} & $\\dots$ \\\\\n",
       "\t3 & \\emph{missing} & Azorhizobium Dreyfus et al. 1988 emend. Lang et al. 2013 & $\\dots$ \\\\\n",
       "\t4 & \\emph{missing} & Azorhizobium caulinodans Dreyfus et al. 1988 & $\\dots$ \\\\\n",
       "\t5 & \\emph{missing} & Buchnera aphidicola Munson et al. 1991 & $\\dots$ \\\\\n",
       "\t6 & \\emph{missing} & Cellvibrio (ex Winogradsky 1929) Blackall et al. 1986 emend. Humphry et al. 2003;;;Cellvibrio (ex Winogradsky 1929) Blackall et al. 1986 emend. Suarez et al. 2014;;;\"Cellvibrio\" Winogradsky 1929 & $\\dots$ \\\\\n",
       "\t7 & \\emph{missing} & \"Cellulomonas gilvus\" (Hulcher and King 1958) Christopherson et al. 2013;;;\"Cellvibrio gilvus\" Hulcher and King 1958 & $\\dots$ \\\\\n",
       "\t8 & \\emph{missing} & Dictyoglomus Saiki et al. 1985 & $\\dots$ \\\\\n",
       "\t9 & \\emph{missing} & Dictyoglomus thermophilum Saiki et al. 1985 & $\\dots$ \\\\\n",
       "\t10 & \\emph{missing} & Methylophilus Jenkins et al. 1987 & $\\dots$ \\\\\n",
       "\t11 & \\emph{missing} & Methylophilus methylotrophus Jenkins et al. 1987 & $\\dots$ \\\\\n",
       "\t12 & \\emph{missing} & Pelobacter Schink and Pfennig 1983 & $\\dots$ \\\\\n",
       "\t13 & \\emph{missing} & Pelobacter carbinolicus Schink 1984;;;Syntrophotalea carbinolica (Schink 1984) Waite et al. 2020 & $\\dots$ \\\\\n",
       "\t14 & \\emph{missing} & Phenylobacterium Lingens et al. 1985 emend. Abraham et al. 2008;;;Phenylobacterium Lingens et al. 1985 emend. Kanso and Patel 2004;;;Phenylobacterium Lingens et al. 1985 emend. Oh and Roh 2012;;;Phenylobacterium Lingens et al. 1985 emend. Tiago et al. 2005 & $\\dots$ \\\\\n",
       "\t15 & \\emph{missing} & Phenylobacterium immobile Lingens et al. 1985 & $\\dots$ \\\\\n",
       "\t16 & \\emph{missing} & Shewanella MacDonell and Colwell 1986 & $\\dots$ \\\\\n",
       "\t17 & \\emph{missing} & Alteromonas colwelliana Weiner et al. 1988;;;Shewanella affinis Ivanova et al. 2004;;;Shewanella colwelliana (Weiner et al. 1988) Coyne et al. 1990 emend. Thorell et al. 2019 & $\\dots$ \\\\\n",
       "\t18 & \\emph{missing} & Alteromonas putrefaciens (ex Derby and Hammer) Lee et al. 1981;;;\"Pseudomonas putrefaciens\" (Derby and Hammer) Long and Hammer 1941;;;Shewanella putrefaciens (Lee et al. 1981) MacDonell and Colwell 1986 emend. Thorell et al. 2019 & $\\dots$ \\\\\n",
       "\t19 & \\emph{missing} & Alteromonas hanedai Jensen et al. 1981;;;Shewanella hanedai (Jensen et al. 1981) MacDonell and Colwell 1986;;;Shewanella hanedai (Jensen et al. 1981) MacDonell and Colwell 1986 emend. Cao et al. 2021 & $\\dots$ \\\\\n",
       "\t20 & \\emph{missing} & \\emph{missing} & $\\dots$ \\\\\n",
       "\t21 & \\emph{missing} & \\emph{missing} & $\\dots$ \\\\\n",
       "\t22 & \\emph{missing} & Myxococcales Tchan et al. 1948 & $\\dots$ \\\\\n",
       "\t23 & \\emph{missing} & Myxococcaceae Jahn et al. 1924 (Approved Lists 1980) emend. Lang et al. 2015 & $\\dots$ \\\\\n",
       "\t24 & \\emph{missing} & Myxococcus Thaxter 1892 emend. Lang and Stackebrandt 2009 & $\\dots$ \\\\\n",
       "\t25 & \\emph{missing} & \"Micrococcus fulvus\" Cohn 1875;;;Myxococcus fulvus (Cohn 1875) Jahn 1911 & $\\dots$ \\\\\n",
       "\t26 & \\emph{missing} & Myxococcus xanthus Beebe 1941 & $\\dots$ \\\\\n",
       "\t27 & \\emph{missing} & \"Chondrococcus macrosporus\" Krzemieniewska and Krzemieniewski 1926;;;Corallococcus macrosporus Reichenbach 2007;;;Myxococcus macrosporus (Krzemieniewska and Krzemieniewski 1926) Zahler and McCurdy 1974 (Approved Lists 1980) & $\\dots$ \\\\\n",
       "\t28 & \\emph{missing} & Angiococcus disciformis (Thaxter 1904) Hook et al. 1980;;;\"Angiococcus disciformis\" (Thaxter 1904) Jahn 1924;;;Archangium disciforme (Thaxter 1904) Lang et al. 2015;;;\"Cystobacter disciformis\" (Thaxter 1904) Brockman and McCurdy 1989;;;Myxococcus disciformis Thaxter 1904 (Approved Lists 1980) & $\\dots$ \\\\\n",
       "\t29 & \\emph{missing} & Archangiaceae Jahn et al. 1924 (Approved Lists 1980) emend. Lang et al. 2015;;;Cystobacteraceae McCurdy 1970 (Approved Lists 1980) emend. Awal et al. 2017 & $\\dots$ \\\\\n",
       "\t30 & \\emph{missing} & Stigmatella Berkeley and Curtis 1875 & $\\dots$ \\\\\n",
       "\t$\\dots$ & $\\dots$ & $\\dots$ &  \\\\\n",
       "\\end{tabular}\n"
      ],
      "text/plain": [
       "\u001b[1m2411405×13 DataFrame\u001b[0m\n",
       "\u001b[1m     Row \u001b[0m│\u001b[1m acronym \u001b[0m\u001b[1m authority                         \u001b[0m\u001b[1m blast name \u001b[0m\u001b[1m common name\u001b[0m ⋯\n",
       "\u001b[1m         \u001b[0m│\u001b[90m String? \u001b[0m\u001b[90m String?                           \u001b[0m\u001b[90m String?    \u001b[0m\u001b[90m String?    \u001b[0m ⋯\n",
       "─────────┼──────────────────────────────────────────────────────────────────────\n",
       "       1 │\u001b[90m missing \u001b[0m\u001b[90m missing                           \u001b[0m\u001b[90m missing    \u001b[0m\u001b[90m missing    \u001b[0m ⋯\n",
       "       2 │\u001b[90m missing \u001b[0m\u001b[90m missing                           \u001b[0m bacteria   \u001b[90m missing\u001b[0m\n",
       "       3 │\u001b[90m missing \u001b[0m Azorhizobium Dreyfus et al. 1988… \u001b[90m missing    \u001b[0m\u001b[90m missing\u001b[0m\n",
       "       4 │\u001b[90m missing \u001b[0m Azorhizobium caulinodans Dreyfus… \u001b[90m missing    \u001b[0m\u001b[90m missing\u001b[0m\n",
       "       5 │\u001b[90m missing \u001b[0m Buchnera aphidicola Munson et al… \u001b[90m missing    \u001b[0m\u001b[90m missing    \u001b[0m ⋯\n",
       "       6 │\u001b[90m missing \u001b[0m Cellvibrio (ex Winogradsky 1929)… \u001b[90m missing    \u001b[0m\u001b[90m missing\u001b[0m\n",
       "       7 │\u001b[90m missing \u001b[0m \"Cellulomonas gilvus\" (Hulcher a… \u001b[90m missing    \u001b[0m\u001b[90m missing\u001b[0m\n",
       "       8 │\u001b[90m missing \u001b[0m Dictyoglomus Saiki et al. 1985    \u001b[90m missing    \u001b[0m\u001b[90m missing\u001b[0m\n",
       "       9 │\u001b[90m missing \u001b[0m Dictyoglomus thermophilum Saiki … \u001b[90m missing    \u001b[0m\u001b[90m missing    \u001b[0m ⋯\n",
       "      10 │\u001b[90m missing \u001b[0m Methylophilus Jenkins et al. 1987 \u001b[90m missing    \u001b[0m\u001b[90m missing\u001b[0m\n",
       "      11 │\u001b[90m missing \u001b[0m Methylophilus methylotrophus Jen… \u001b[90m missing    \u001b[0m\u001b[90m missing\u001b[0m\n",
       "    ⋮    │    ⋮                     ⋮                      ⋮            ⋮      ⋱\n",
       " 2411396 │\u001b[90m missing \u001b[0m Jasminum yuanjiangense P.Y.Pai, … \u001b[90m missing    \u001b[0m\u001b[90m missing\u001b[0m\n",
       " 2411397 │\u001b[90m missing \u001b[0m Jasminum coffeinum Mazz., 1925    \u001b[90m missing    \u001b[0m\u001b[90m missing    \u001b[0m ⋯\n",
       " 2411398 │\u001b[90m missing \u001b[0m Jasminum albicalyx Kobuski, 1939  \u001b[90m missing    \u001b[0m\u001b[90m missing\u001b[0m\n",
       " 2411399 │\u001b[90m missing \u001b[0m\u001b[90m missing                           \u001b[0m\u001b[90m missing    \u001b[0m\u001b[90m missing\u001b[0m\n",
       " 2411400 │\u001b[90m missing \u001b[0m\u001b[90m missing                           \u001b[0m\u001b[90m missing    \u001b[0m\u001b[90m missing\u001b[0m\n",
       " 2411401 │\u001b[90m missing \u001b[0m\u001b[90m missing                           \u001b[0m\u001b[90m missing    \u001b[0m\u001b[90m missing    \u001b[0m ⋯\n",
       " 2411402 │\u001b[90m missing \u001b[0m Bryum elegans Nees ex Brid., 182… \u001b[90m missing    \u001b[0m\u001b[90m missing\u001b[0m\n",
       " 2411403 │\u001b[90m missing \u001b[0m\u001b[90m missing                           \u001b[0m\u001b[90m missing    \u001b[0m\u001b[90m missing\u001b[0m\n",
       " 2411404 │\u001b[90m missing \u001b[0m\u001b[90m missing                           \u001b[0m\u001b[90m missing    \u001b[0m\u001b[90m missing\u001b[0m\n",
       " 2411405 │\u001b[90m missing \u001b[0m \"Candidatus Ichthyocystis\" Seth-… \u001b[90m missing    \u001b[0m\u001b[90m missing    \u001b[0m ⋯\n",
       "\u001b[36m                                              9 columns and 2411384 rows omitted\u001b[0m"
      ]
     },
     "execution_count": 15,
     "metadata": {},
     "output_type": "execute_result"
    }
   ],
   "source": [
    "names_dmp_transformed = DataFrames.DataFrame(\n",
    "    Dict(\n",
    "    [nc => Union{Missing, String}[] for nc in unique(names_dmp[!, \"name_class\"])]...,\n",
    "    \"tax_id\" => String[]\n",
    "    )\n",
    ")\n",
    "\n",
    "ProgressMeter.@showprogress for identifier_group in DataFrames.groupby(names_dmp, \"tax_id\")\n",
    "    fields = Dict{String, Union{String, Missing}}(n => missing for n in names(names_dmp_transformed))\n",
    "    for name_class in DataFrames.groupby(identifier_group, \"name_class\")\n",
    "        nc = name_class[1, \"name_class\"]\n",
    "        all_names = unique(filter(n -> !isempty(n), (name_class[!, \"name_txt\"]...,name_class[!, \"unique_name\"]...)))\n",
    "        fields[nc] = join(all_names, \";;;\")\n",
    "    end\n",
    "    fields[\"tax_id\"] = identifier_group[1, \"tax_id\"]\n",
    "    # @show fields\n",
    "    push!(names_dmp_transformed, fields)\n",
    "end\n",
    "names_dmp_transformed"
   ]
  },
  {
   "cell_type": "code",
   "execution_count": 16,
   "metadata": {},
   "outputs": [
    {
     "data": {
      "text/html": [
       "<div class=\"data-frame\"><p>12 rows × 4 columns</p><table class=\"data-frame\"><thead><tr><th></th><th>division_id</th><th>division_name</th><th>division_cde</th><th>notes</th></tr><tr><th></th><th title=\"String\">String</th><th title=\"String\">String</th><th title=\"String\">String</th><th title=\"String\">String</th></tr></thead><tbody><tr><th>1</th><td>0</td><td>Bacteria</td><td>BCT</td><td> </td></tr><tr><th>2</th><td>1</td><td>Invertebrates</td><td>INV</td><td> </td></tr><tr><th>3</th><td>2</td><td>Mammals</td><td>MAM</td><td> </td></tr><tr><th>4</th><td>3</td><td>Phages</td><td>PHG</td><td> </td></tr><tr><th>5</th><td>4</td><td>Plants and Fungi</td><td>PLN</td><td> </td></tr><tr><th>6</th><td>5</td><td>Primates</td><td>PRI</td><td> </td></tr><tr><th>7</th><td>6</td><td>Rodents</td><td>ROD</td><td> </td></tr><tr><th>8</th><td>7</td><td>Synthetic and Chimeric</td><td>SYN</td><td> </td></tr><tr><th>9</th><td>8</td><td>Unassigned</td><td>UNA</td><td>No species nodes should inherit this division assignment</td></tr><tr><th>10</th><td>9</td><td>Viruses</td><td>VRL</td><td> </td></tr><tr><th>11</th><td>10</td><td>Vertebrates</td><td>VRT</td><td> </td></tr><tr><th>12</th><td>11</td><td>Environmental samples</td><td>ENV</td><td>Anonymous sequences cloned directly from the environment</td></tr></tbody></table></div>"
      ],
      "text/latex": [
       "\\begin{tabular}{r|cccc}\n",
       "\t& division\\_id & division\\_name & division\\_cde & notes\\\\\n",
       "\t\\hline\n",
       "\t& String & String & String & String\\\\\n",
       "\t\\hline\n",
       "\t1 & 0 & Bacteria & BCT &   \\\\\n",
       "\t2 & 1 & Invertebrates & INV &   \\\\\n",
       "\t3 & 2 & Mammals & MAM &   \\\\\n",
       "\t4 & 3 & Phages & PHG &   \\\\\n",
       "\t5 & 4 & Plants and Fungi & PLN &   \\\\\n",
       "\t6 & 5 & Primates & PRI &   \\\\\n",
       "\t7 & 6 & Rodents & ROD &   \\\\\n",
       "\t8 & 7 & Synthetic and Chimeric & SYN &   \\\\\n",
       "\t9 & 8 & Unassigned & UNA & No species nodes should inherit this division assignment \\\\\n",
       "\t10 & 9 & Viruses & VRL &   \\\\\n",
       "\t11 & 10 & Vertebrates & VRT &   \\\\\n",
       "\t12 & 11 & Environmental samples & ENV & Anonymous sequences cloned directly from the environment \\\\\n",
       "\\end{tabular}\n"
      ],
      "text/plain": [
       "\u001b[1m12×4 DataFrame\u001b[0m\n",
       "\u001b[1m Row \u001b[0m│\u001b[1m division_id \u001b[0m\u001b[1m division_name          \u001b[0m\u001b[1m division_cde \u001b[0m\u001b[1m notes               \u001b[0m ⋯\n",
       "\u001b[1m     \u001b[0m│\u001b[90m String      \u001b[0m\u001b[90m String                 \u001b[0m\u001b[90m String       \u001b[0m\u001b[90m String              \u001b[0m ⋯\n",
       "─────┼──────────────────────────────────────────────────────────────────────────\n",
       "   1 │ 0            Bacteria                BCT                                ⋯\n",
       "   2 │ 1            Invertebrates           INV\n",
       "   3 │ 2            Mammals                 MAM\n",
       "   4 │ 3            Phages                  PHG\n",
       "   5 │ 4            Plants and Fungi        PLN                                ⋯\n",
       "   6 │ 5            Primates                PRI\n",
       "   7 │ 6            Rodents                 ROD\n",
       "   8 │ 7            Synthetic and Chimeric  SYN\n",
       "   9 │ 8            Unassigned              UNA           No species nodes sho ⋯\n",
       "  10 │ 9            Viruses                 VRL\n",
       "  11 │ 10           Vertebrates             VRT\n",
       "  12 │ 11           Environmental samples   ENV           Anonymous sequences\n",
       "\u001b[36m                                                                1 column omitted\u001b[0m"
      ]
     },
     "execution_count": 16,
     "metadata": {},
     "output_type": "execute_result"
    }
   ],
   "source": [
    "#     Here we can see that there are divisions projected onto the tree that will allow easy grouping by taxonomic \"group\"s such as primates, viruses, phages, etc.\n",
    "\n",
    "division_table = DataFrames.DataFrame(\n",
    "    division_id = String[],\n",
    "    division_name = String[],\n",
    "    division_cde = String[],\n",
    "    notes = String[]\n",
    ")\n",
    "for line in split(read(open(\"$(taxdump_out)/division.dmp\"), String), \"\\t|\\n\")\n",
    "    if !isempty(line)\n",
    "        (division_id, division_cde, division_name, notes) = split(line, \"\\t|\\t\")\n",
    "        row = (;division_id, division_cde, division_name, notes)\n",
    "        push!(division_table, row)\n",
    "    end\n",
    "end\n",
    "division_table"
   ]
  },
  {
   "cell_type": "code",
   "execution_count": 17,
   "metadata": {},
   "outputs": [
    {
     "name": "stderr",
     "output_type": "stream",
     "text": [
      "\u001b[32mProgress: 100%|█████████████████████████████████████████| Time: 0:00:54\u001b[39m:12\u001b[39m\n"
     ]
    },
    {
     "data": {
      "text/html": [
       "<div class=\"data-frame\"><p>2,411,405 rows × 5 columns</p><table class=\"data-frame\"><thead><tr><th></th><th>tax_id</th><th>parent_tax_id</th><th>rank</th><th>embl_code</th><th>division_id</th></tr><tr><th></th><th title=\"String\">String</th><th title=\"String\">String</th><th title=\"String\">String</th><th title=\"String\">String</th><th title=\"String\">String</th></tr></thead><tbody><tr><th>1</th><td>1</td><td>1</td><td>no rank</td><td></td><td>8</td></tr><tr><th>2</th><td>2</td><td>131567</td><td>superkingdom</td><td></td><td>0</td></tr><tr><th>3</th><td>6</td><td>335928</td><td>genus</td><td></td><td>0</td></tr><tr><th>4</th><td>7</td><td>6</td><td>species</td><td>AC</td><td>0</td></tr><tr><th>5</th><td>9</td><td>32199</td><td>species</td><td>BA</td><td>0</td></tr><tr><th>6</th><td>10</td><td>1706371</td><td>genus</td><td></td><td>0</td></tr><tr><th>7</th><td>11</td><td>1707</td><td>species</td><td>CG</td><td>0</td></tr><tr><th>8</th><td>13</td><td>203488</td><td>genus</td><td></td><td>0</td></tr><tr><th>9</th><td>14</td><td>13</td><td>species</td><td>DT</td><td>0</td></tr><tr><th>10</th><td>16</td><td>32011</td><td>genus</td><td></td><td>0</td></tr><tr><th>11</th><td>17</td><td>16</td><td>species</td><td>MM</td><td>0</td></tr><tr><th>12</th><td>18</td><td>213421</td><td>genus</td><td></td><td>0</td></tr><tr><th>13</th><td>19</td><td>2812025</td><td>species</td><td>SC</td><td>0</td></tr><tr><th>14</th><td>20</td><td>76892</td><td>genus</td><td></td><td>0</td></tr><tr><th>15</th><td>21</td><td>20</td><td>species</td><td>PI</td><td>0</td></tr><tr><th>16</th><td>22</td><td>267890</td><td>genus</td><td></td><td>0</td></tr><tr><th>17</th><td>23</td><td>22</td><td>species</td><td>SC</td><td>0</td></tr><tr><th>18</th><td>24</td><td>22</td><td>species</td><td>SP</td><td>0</td></tr><tr><th>19</th><td>25</td><td>22</td><td>species</td><td>SH</td><td>0</td></tr><tr><th>20</th><td>27</td><td>49928</td><td>species</td><td>HE</td><td>0</td></tr><tr><th>21</th><td>28</td><td>49928</td><td>species</td><td>HE</td><td>0</td></tr><tr><th>22</th><td>29</td><td>28221</td><td>order</td><td></td><td>0</td></tr><tr><th>23</th><td>31</td><td>80811</td><td>family</td><td></td><td>0</td></tr><tr><th>24</th><td>32</td><td>31</td><td>genus</td><td></td><td>0</td></tr><tr><th>25</th><td>33</td><td>32</td><td>species</td><td>MF</td><td>0</td></tr><tr><th>26</th><td>34</td><td>32</td><td>species</td><td>MX</td><td>0</td></tr><tr><th>27</th><td>35</td><td>83461</td><td>species</td><td>CM</td><td>0</td></tr><tr><th>28</th><td>38</td><td>47</td><td>species</td><td>AD</td><td>0</td></tr><tr><th>29</th><td>39</td><td>80811</td><td>family</td><td></td><td>0</td></tr><tr><th>30</th><td>40</td><td>39</td><td>genus</td><td></td><td>0</td></tr><tr><th>&vellip;</th><td>&vellip;</td><td>&vellip;</td><td>&vellip;</td><td>&vellip;</td><td>&vellip;</td></tr></tbody></table></div>"
      ],
      "text/latex": [
       "\\begin{tabular}{r|ccccc}\n",
       "\t& tax\\_id & parent\\_tax\\_id & rank & embl\\_code & division\\_id\\\\\n",
       "\t\\hline\n",
       "\t& String & String & String & String & String\\\\\n",
       "\t\\hline\n",
       "\t1 & 1 & 1 & no rank &  & 8 \\\\\n",
       "\t2 & 2 & 131567 & superkingdom &  & 0 \\\\\n",
       "\t3 & 6 & 335928 & genus &  & 0 \\\\\n",
       "\t4 & 7 & 6 & species & AC & 0 \\\\\n",
       "\t5 & 9 & 32199 & species & BA & 0 \\\\\n",
       "\t6 & 10 & 1706371 & genus &  & 0 \\\\\n",
       "\t7 & 11 & 1707 & species & CG & 0 \\\\\n",
       "\t8 & 13 & 203488 & genus &  & 0 \\\\\n",
       "\t9 & 14 & 13 & species & DT & 0 \\\\\n",
       "\t10 & 16 & 32011 & genus &  & 0 \\\\\n",
       "\t11 & 17 & 16 & species & MM & 0 \\\\\n",
       "\t12 & 18 & 213421 & genus &  & 0 \\\\\n",
       "\t13 & 19 & 2812025 & species & SC & 0 \\\\\n",
       "\t14 & 20 & 76892 & genus &  & 0 \\\\\n",
       "\t15 & 21 & 20 & species & PI & 0 \\\\\n",
       "\t16 & 22 & 267890 & genus &  & 0 \\\\\n",
       "\t17 & 23 & 22 & species & SC & 0 \\\\\n",
       "\t18 & 24 & 22 & species & SP & 0 \\\\\n",
       "\t19 & 25 & 22 & species & SH & 0 \\\\\n",
       "\t20 & 27 & 49928 & species & HE & 0 \\\\\n",
       "\t21 & 28 & 49928 & species & HE & 0 \\\\\n",
       "\t22 & 29 & 28221 & order &  & 0 \\\\\n",
       "\t23 & 31 & 80811 & family &  & 0 \\\\\n",
       "\t24 & 32 & 31 & genus &  & 0 \\\\\n",
       "\t25 & 33 & 32 & species & MF & 0 \\\\\n",
       "\t26 & 34 & 32 & species & MX & 0 \\\\\n",
       "\t27 & 35 & 83461 & species & CM & 0 \\\\\n",
       "\t28 & 38 & 47 & species & AD & 0 \\\\\n",
       "\t29 & 39 & 80811 & family &  & 0 \\\\\n",
       "\t30 & 40 & 39 & genus &  & 0 \\\\\n",
       "\t$\\dots$ & $\\dots$ & $\\dots$ & $\\dots$ & $\\dots$ & $\\dots$ \\\\\n",
       "\\end{tabular}\n"
      ],
      "text/plain": [
       "\u001b[1m2411405×5 DataFrame\u001b[0m\n",
       "\u001b[1m     Row \u001b[0m│\u001b[1m tax_id  \u001b[0m\u001b[1m parent_tax_id \u001b[0m\u001b[1m rank             \u001b[0m\u001b[1m embl_code \u001b[0m\u001b[1m division_id \u001b[0m\n",
       "\u001b[1m         \u001b[0m│\u001b[90m String  \u001b[0m\u001b[90m String        \u001b[0m\u001b[90m String           \u001b[0m\u001b[90m String    \u001b[0m\u001b[90m String      \u001b[0m\n",
       "─────────┼──────────────────────────────────────────────────────────────────\n",
       "       1 │ 1        1              no rank                      8\n",
       "       2 │ 2        131567         superkingdom                 0\n",
       "       3 │ 6        335928         genus                        0\n",
       "       4 │ 7        6              species           AC         0\n",
       "       5 │ 9        32199          species           BA         0\n",
       "       6 │ 10       1706371        genus                        0\n",
       "       7 │ 11       1707           species           CG         0\n",
       "       8 │ 13       203488         genus                        0\n",
       "       9 │ 14       13             species           DT         0\n",
       "      10 │ 16       32011          genus                        0\n",
       "      11 │ 17       16             species           MM         0\n",
       "    ⋮    │    ⋮           ⋮               ⋮              ⋮           ⋮\n",
       " 2411396 │ 2929562  4147           species           JY         4\n",
       " 2411397 │ 2929563  4147           species           JC         4\n",
       " 2411398 │ 2929564  4147           species           JA         4\n",
       " 2411399 │ 2929565  2629901        species           CS         4\n",
       " 2411400 │ 2929751  2613862        species           NS         6\n",
       " 2411401 │ 2929752  2613862        species           NS         6\n",
       " 2411402 │ 2929762  576366         species           PE         4\n",
       " 2411403 │ 2929835  27427          subfamily                    1\n",
       " 2411404 │ 2929839  114277         species subgroup             0\n",
       " 2411405 │ 2929841  224471         genus                        0\n",
       "\u001b[36m                                                        2411384 rows omitted\u001b[0m"
      ]
     },
     "execution_count": 17,
     "metadata": {},
     "output_type": "execute_result"
    }
   ],
   "source": [
    "node_table = DataFrames.DataFrame(\n",
    "    tax_id = String[],\n",
    "    parent_tax_id = String[],\n",
    "    rank = String[],\n",
    "    embl_code = String[],\n",
    "    division_id = String[]\n",
    ")\n",
    "ProgressMeter.@showprogress for line in split(read(open(\"$(taxdump_out)/nodes.dmp\"), String), \"\\t|\\n\")\n",
    "    if isempty(line)\n",
    "        continue\n",
    "    else\n",
    "        (tax_id, parent_tax_id, rank, embl_code, division_id) = split(line, \"\\t|\\t\")\n",
    "        row = (;tax_id, parent_tax_id, rank, embl_code, division_id)\n",
    "        push!(node_table, row)\n",
    "    end\n",
    "end\n",
    "node_table"
   ]
  },
  {
   "cell_type": "code",
   "execution_count": 18,
   "metadata": {},
   "outputs": [
    {
     "data": {
      "text/html": [
       "<div class=\"data-frame\"><p>2,411,405 rows × 20 columns (omitted printing of 18 columns)</p><table class=\"data-frame\"><thead><tr><th></th><th>acronym</th><th>authority</th></tr><tr><th></th><th title=\"Union{Missing, String}\">String?</th><th title=\"Union{Missing, String}\">String?</th></tr></thead><tbody><tr><th>1</th><td><em>missing</em></td><td><em>missing</em></td></tr><tr><th>2</th><td><em>missing</em></td><td><em>missing</em></td></tr><tr><th>3</th><td><em>missing</em></td><td>Azorhizobium Dreyfus et al. 1988 emend. Lang et al. 2013</td></tr><tr><th>4</th><td><em>missing</em></td><td>Azorhizobium caulinodans Dreyfus et al. 1988</td></tr><tr><th>5</th><td><em>missing</em></td><td>Buchnera aphidicola Munson et al. 1991</td></tr><tr><th>6</th><td><em>missing</em></td><td>Cellvibrio (ex Winogradsky 1929) Blackall et al. 1986 emend. Humphry et al. 2003;;;Cellvibrio (ex Winogradsky 1929) Blackall et al. 1986 emend. Suarez et al. 2014;;;&quot;Cellvibrio&quot; Winogradsky 1929</td></tr><tr><th>7</th><td><em>missing</em></td><td>&quot;Cellulomonas gilvus&quot; (Hulcher and King 1958) Christopherson et al. 2013;;;&quot;Cellvibrio gilvus&quot; Hulcher and King 1958</td></tr><tr><th>8</th><td><em>missing</em></td><td>Dictyoglomus Saiki et al. 1985</td></tr><tr><th>9</th><td><em>missing</em></td><td>Dictyoglomus thermophilum Saiki et al. 1985</td></tr><tr><th>10</th><td><em>missing</em></td><td>Methylophilus Jenkins et al. 1987</td></tr><tr><th>11</th><td><em>missing</em></td><td>Methylophilus methylotrophus Jenkins et al. 1987</td></tr><tr><th>12</th><td><em>missing</em></td><td>Pelobacter Schink and Pfennig 1983</td></tr><tr><th>13</th><td><em>missing</em></td><td>Pelobacter carbinolicus Schink 1984;;;Syntrophotalea carbinolica (Schink 1984) Waite et al. 2020</td></tr><tr><th>14</th><td><em>missing</em></td><td>Phenylobacterium Lingens et al. 1985 emend. Abraham et al. 2008;;;Phenylobacterium Lingens et al. 1985 emend. Kanso and Patel 2004;;;Phenylobacterium Lingens et al. 1985 emend. Oh and Roh 2012;;;Phenylobacterium Lingens et al. 1985 emend. Tiago et al. 2005</td></tr><tr><th>15</th><td><em>missing</em></td><td>Phenylobacterium immobile Lingens et al. 1985</td></tr><tr><th>16</th><td><em>missing</em></td><td>Shewanella MacDonell and Colwell 1986</td></tr><tr><th>17</th><td><em>missing</em></td><td>Alteromonas colwelliana Weiner et al. 1988;;;Shewanella affinis Ivanova et al. 2004;;;Shewanella colwelliana (Weiner et al. 1988) Coyne et al. 1990 emend. Thorell et al. 2019</td></tr><tr><th>18</th><td><em>missing</em></td><td>Alteromonas putrefaciens (ex Derby and Hammer) Lee et al. 1981;;;&quot;Pseudomonas putrefaciens&quot; (Derby and Hammer) Long and Hammer 1941;;;Shewanella putrefaciens (Lee et al. 1981) MacDonell and Colwell 1986 emend. Thorell et al. 2019</td></tr><tr><th>19</th><td><em>missing</em></td><td>Alteromonas hanedai Jensen et al. 1981;;;Shewanella hanedai (Jensen et al. 1981) MacDonell and Colwell 1986;;;Shewanella hanedai (Jensen et al. 1981) MacDonell and Colwell 1986 emend. Cao et al. 2021</td></tr><tr><th>20</th><td><em>missing</em></td><td><em>missing</em></td></tr><tr><th>21</th><td><em>missing</em></td><td><em>missing</em></td></tr><tr><th>22</th><td><em>missing</em></td><td>Myxococcales Tchan et al. 1948</td></tr><tr><th>23</th><td><em>missing</em></td><td>Myxococcaceae Jahn et al. 1924 (Approved Lists 1980) emend. Lang et al. 2015</td></tr><tr><th>24</th><td><em>missing</em></td><td>Myxococcus Thaxter 1892 emend. Lang and Stackebrandt 2009</td></tr><tr><th>25</th><td><em>missing</em></td><td>&quot;Micrococcus fulvus&quot; Cohn 1875;;;Myxococcus fulvus (Cohn 1875) Jahn 1911</td></tr><tr><th>26</th><td><em>missing</em></td><td>Myxococcus xanthus Beebe 1941</td></tr><tr><th>27</th><td><em>missing</em></td><td>&quot;Chondrococcus macrosporus&quot; Krzemieniewska and Krzemieniewski 1926;;;Corallococcus macrosporus Reichenbach 2007;;;Myxococcus macrosporus (Krzemieniewska and Krzemieniewski 1926) Zahler and McCurdy 1974 (Approved Lists 1980)</td></tr><tr><th>28</th><td><em>missing</em></td><td>Angiococcus disciformis (Thaxter 1904) Hook et al. 1980;;;&quot;Angiococcus disciformis&quot; (Thaxter 1904) Jahn 1924;;;Archangium disciforme (Thaxter 1904) Lang et al. 2015;;;&quot;Cystobacter disciformis&quot; (Thaxter 1904) Brockman and McCurdy 1989;;;Myxococcus disciformis Thaxter 1904 (Approved Lists 1980)</td></tr><tr><th>29</th><td><em>missing</em></td><td>Archangiaceae Jahn et al. 1924 (Approved Lists 1980) emend. Lang et al. 2015;;;Cystobacteraceae McCurdy 1970 (Approved Lists 1980) emend. Awal et al. 2017</td></tr><tr><th>30</th><td><em>missing</em></td><td>Stigmatella Berkeley and Curtis 1875</td></tr><tr><th>&vellip;</th><td>&vellip;</td><td>&vellip;</td></tr></tbody></table></div>"
      ],
      "text/latex": [
       "\\begin{tabular}{r|ccc}\n",
       "\t& acronym & authority & \\\\\n",
       "\t\\hline\n",
       "\t& String? & String? & \\\\\n",
       "\t\\hline\n",
       "\t1 & \\emph{missing} & \\emph{missing} & $\\dots$ \\\\\n",
       "\t2 & \\emph{missing} & \\emph{missing} & $\\dots$ \\\\\n",
       "\t3 & \\emph{missing} & Azorhizobium Dreyfus et al. 1988 emend. Lang et al. 2013 & $\\dots$ \\\\\n",
       "\t4 & \\emph{missing} & Azorhizobium caulinodans Dreyfus et al. 1988 & $\\dots$ \\\\\n",
       "\t5 & \\emph{missing} & Buchnera aphidicola Munson et al. 1991 & $\\dots$ \\\\\n",
       "\t6 & \\emph{missing} & Cellvibrio (ex Winogradsky 1929) Blackall et al. 1986 emend. Humphry et al. 2003;;;Cellvibrio (ex Winogradsky 1929) Blackall et al. 1986 emend. Suarez et al. 2014;;;\"Cellvibrio\" Winogradsky 1929 & $\\dots$ \\\\\n",
       "\t7 & \\emph{missing} & \"Cellulomonas gilvus\" (Hulcher and King 1958) Christopherson et al. 2013;;;\"Cellvibrio gilvus\" Hulcher and King 1958 & $\\dots$ \\\\\n",
       "\t8 & \\emph{missing} & Dictyoglomus Saiki et al. 1985 & $\\dots$ \\\\\n",
       "\t9 & \\emph{missing} & Dictyoglomus thermophilum Saiki et al. 1985 & $\\dots$ \\\\\n",
       "\t10 & \\emph{missing} & Methylophilus Jenkins et al. 1987 & $\\dots$ \\\\\n",
       "\t11 & \\emph{missing} & Methylophilus methylotrophus Jenkins et al. 1987 & $\\dots$ \\\\\n",
       "\t12 & \\emph{missing} & Pelobacter Schink and Pfennig 1983 & $\\dots$ \\\\\n",
       "\t13 & \\emph{missing} & Pelobacter carbinolicus Schink 1984;;;Syntrophotalea carbinolica (Schink 1984) Waite et al. 2020 & $\\dots$ \\\\\n",
       "\t14 & \\emph{missing} & Phenylobacterium Lingens et al. 1985 emend. Abraham et al. 2008;;;Phenylobacterium Lingens et al. 1985 emend. Kanso and Patel 2004;;;Phenylobacterium Lingens et al. 1985 emend. Oh and Roh 2012;;;Phenylobacterium Lingens et al. 1985 emend. Tiago et al. 2005 & $\\dots$ \\\\\n",
       "\t15 & \\emph{missing} & Phenylobacterium immobile Lingens et al. 1985 & $\\dots$ \\\\\n",
       "\t16 & \\emph{missing} & Shewanella MacDonell and Colwell 1986 & $\\dots$ \\\\\n",
       "\t17 & \\emph{missing} & Alteromonas colwelliana Weiner et al. 1988;;;Shewanella affinis Ivanova et al. 2004;;;Shewanella colwelliana (Weiner et al. 1988) Coyne et al. 1990 emend. Thorell et al. 2019 & $\\dots$ \\\\\n",
       "\t18 & \\emph{missing} & Alteromonas putrefaciens (ex Derby and Hammer) Lee et al. 1981;;;\"Pseudomonas putrefaciens\" (Derby and Hammer) Long and Hammer 1941;;;Shewanella putrefaciens (Lee et al. 1981) MacDonell and Colwell 1986 emend. Thorell et al. 2019 & $\\dots$ \\\\\n",
       "\t19 & \\emph{missing} & Alteromonas hanedai Jensen et al. 1981;;;Shewanella hanedai (Jensen et al. 1981) MacDonell and Colwell 1986;;;Shewanella hanedai (Jensen et al. 1981) MacDonell and Colwell 1986 emend. Cao et al. 2021 & $\\dots$ \\\\\n",
       "\t20 & \\emph{missing} & \\emph{missing} & $\\dots$ \\\\\n",
       "\t21 & \\emph{missing} & \\emph{missing} & $\\dots$ \\\\\n",
       "\t22 & \\emph{missing} & Myxococcales Tchan et al. 1948 & $\\dots$ \\\\\n",
       "\t23 & \\emph{missing} & Myxococcaceae Jahn et al. 1924 (Approved Lists 1980) emend. Lang et al. 2015 & $\\dots$ \\\\\n",
       "\t24 & \\emph{missing} & Myxococcus Thaxter 1892 emend. Lang and Stackebrandt 2009 & $\\dots$ \\\\\n",
       "\t25 & \\emph{missing} & \"Micrococcus fulvus\" Cohn 1875;;;Myxococcus fulvus (Cohn 1875) Jahn 1911 & $\\dots$ \\\\\n",
       "\t26 & \\emph{missing} & Myxococcus xanthus Beebe 1941 & $\\dots$ \\\\\n",
       "\t27 & \\emph{missing} & \"Chondrococcus macrosporus\" Krzemieniewska and Krzemieniewski 1926;;;Corallococcus macrosporus Reichenbach 2007;;;Myxococcus macrosporus (Krzemieniewska and Krzemieniewski 1926) Zahler and McCurdy 1974 (Approved Lists 1980) & $\\dots$ \\\\\n",
       "\t28 & \\emph{missing} & Angiococcus disciformis (Thaxter 1904) Hook et al. 1980;;;\"Angiococcus disciformis\" (Thaxter 1904) Jahn 1924;;;Archangium disciforme (Thaxter 1904) Lang et al. 2015;;;\"Cystobacter disciformis\" (Thaxter 1904) Brockman and McCurdy 1989;;;Myxococcus disciformis Thaxter 1904 (Approved Lists 1980) & $\\dots$ \\\\\n",
       "\t29 & \\emph{missing} & Archangiaceae Jahn et al. 1924 (Approved Lists 1980) emend. Lang et al. 2015;;;Cystobacteraceae McCurdy 1970 (Approved Lists 1980) emend. Awal et al. 2017 & $\\dots$ \\\\\n",
       "\t30 & \\emph{missing} & Stigmatella Berkeley and Curtis 1875 & $\\dots$ \\\\\n",
       "\t$\\dots$ & $\\dots$ & $\\dots$ &  \\\\\n",
       "\\end{tabular}\n"
      ],
      "text/plain": [
       "\u001b[1m2411405×20 DataFrame\u001b[0m\n",
       "\u001b[1m     Row \u001b[0m│\u001b[1m acronym \u001b[0m\u001b[1m authority                         \u001b[0m\u001b[1m blast name \u001b[0m\u001b[1m common name\u001b[0m ⋯\n",
       "\u001b[1m         \u001b[0m│\u001b[90m String? \u001b[0m\u001b[90m String?                           \u001b[0m\u001b[90m String?    \u001b[0m\u001b[90m String?    \u001b[0m ⋯\n",
       "─────────┼──────────────────────────────────────────────────────────────────────\n",
       "       1 │\u001b[90m missing \u001b[0m\u001b[90m missing                           \u001b[0m\u001b[90m missing    \u001b[0m\u001b[90m missing    \u001b[0m ⋯\n",
       "       2 │\u001b[90m missing \u001b[0m\u001b[90m missing                           \u001b[0m bacteria   \u001b[90m missing\u001b[0m\n",
       "       3 │\u001b[90m missing \u001b[0m Azorhizobium Dreyfus et al. 1988… \u001b[90m missing    \u001b[0m\u001b[90m missing\u001b[0m\n",
       "       4 │\u001b[90m missing \u001b[0m Azorhizobium caulinodans Dreyfus… \u001b[90m missing    \u001b[0m\u001b[90m missing\u001b[0m\n",
       "       5 │\u001b[90m missing \u001b[0m Buchnera aphidicola Munson et al… \u001b[90m missing    \u001b[0m\u001b[90m missing    \u001b[0m ⋯\n",
       "       6 │\u001b[90m missing \u001b[0m Cellvibrio (ex Winogradsky 1929)… \u001b[90m missing    \u001b[0m\u001b[90m missing\u001b[0m\n",
       "       7 │\u001b[90m missing \u001b[0m \"Cellulomonas gilvus\" (Hulcher a… \u001b[90m missing    \u001b[0m\u001b[90m missing\u001b[0m\n",
       "       8 │\u001b[90m missing \u001b[0m Dictyoglomus Saiki et al. 1985    \u001b[90m missing    \u001b[0m\u001b[90m missing\u001b[0m\n",
       "       9 │\u001b[90m missing \u001b[0m Dictyoglomus thermophilum Saiki … \u001b[90m missing    \u001b[0m\u001b[90m missing    \u001b[0m ⋯\n",
       "      10 │\u001b[90m missing \u001b[0m Methylophilus Jenkins et al. 1987 \u001b[90m missing    \u001b[0m\u001b[90m missing\u001b[0m\n",
       "      11 │\u001b[90m missing \u001b[0m Methylophilus methylotrophus Jen… \u001b[90m missing    \u001b[0m\u001b[90m missing\u001b[0m\n",
       "    ⋮    │    ⋮                     ⋮                      ⋮            ⋮      ⋱\n",
       " 2411396 │\u001b[90m missing \u001b[0m Jasminum yuanjiangense P.Y.Pai, … \u001b[90m missing    \u001b[0m\u001b[90m missing\u001b[0m\n",
       " 2411397 │\u001b[90m missing \u001b[0m Jasminum coffeinum Mazz., 1925    \u001b[90m missing    \u001b[0m\u001b[90m missing    \u001b[0m ⋯\n",
       " 2411398 │\u001b[90m missing \u001b[0m Jasminum albicalyx Kobuski, 1939  \u001b[90m missing    \u001b[0m\u001b[90m missing\u001b[0m\n",
       " 2411399 │\u001b[90m missing \u001b[0m\u001b[90m missing                           \u001b[0m\u001b[90m missing    \u001b[0m\u001b[90m missing\u001b[0m\n",
       " 2411400 │\u001b[90m missing \u001b[0m\u001b[90m missing                           \u001b[0m\u001b[90m missing    \u001b[0m\u001b[90m missing\u001b[0m\n",
       " 2411401 │\u001b[90m missing \u001b[0m\u001b[90m missing                           \u001b[0m\u001b[90m missing    \u001b[0m\u001b[90m missing    \u001b[0m ⋯\n",
       " 2411402 │\u001b[90m missing \u001b[0m Bryum elegans Nees ex Brid., 182… \u001b[90m missing    \u001b[0m\u001b[90m missing\u001b[0m\n",
       " 2411403 │\u001b[90m missing \u001b[0m\u001b[90m missing                           \u001b[0m\u001b[90m missing    \u001b[0m\u001b[90m missing\u001b[0m\n",
       " 2411404 │\u001b[90m missing \u001b[0m\u001b[90m missing                           \u001b[0m\u001b[90m missing    \u001b[0m\u001b[90m missing\u001b[0m\n",
       " 2411405 │\u001b[90m missing \u001b[0m \"Candidatus Ichthyocystis\" Seth-… \u001b[90m missing    \u001b[0m\u001b[90m missing    \u001b[0m ⋯\n",
       "\u001b[36m                                             16 columns and 2411384 rows omitted\u001b[0m"
      ]
     },
     "execution_count": 18,
     "metadata": {},
     "output_type": "execute_result"
    }
   ],
   "source": [
    "joint_node_metadata = \n",
    "DataFrames.outerjoin(\n",
    "    names_dmp_transformed, \n",
    "    DataFrames.outerjoin(node_table, division_table, on=\"division_id\"),\n",
    "    on=\"tax_id\"\n",
    ")"
   ]
  },
  {
   "cell_type": "code",
   "execution_count": 19,
   "metadata": {},
   "outputs": [
    {
     "data": {
      "text/plain": [
       "2411405-element Vector{String}:\n",
       " \"1\"\n",
       " \"2\"\n",
       " \"6\"\n",
       " \"7\"\n",
       " \"9\"\n",
       " \"10\"\n",
       " \"11\"\n",
       " \"13\"\n",
       " \"14\"\n",
       " \"16\"\n",
       " \"17\"\n",
       " \"18\"\n",
       " \"19\"\n",
       " ⋮\n",
       " \"2929560\"\n",
       " \"2929561\"\n",
       " \"2929562\"\n",
       " \"2929563\"\n",
       " \"2929564\"\n",
       " \"2929565\"\n",
       " \"2929751\"\n",
       " \"2929752\"\n",
       " \"2929762\"\n",
       " \"2929835\"\n",
       " \"2929839\"\n",
       " \"2929841\""
      ]
     },
     "execution_count": 19,
     "metadata": {},
     "output_type": "execute_result"
    }
   ],
   "source": [
    "# joint_node_metadata[!, \"identifier\"] .= map(id -> \"tax_id_$(id)\", joint_node_metadata[!, \"tax_id\"])\n",
    "joint_node_metadata[!, \"identifier\"] .= joint_node_metadata[!, \"tax_id\"]"
   ]
  },
  {
   "cell_type": "code",
   "execution_count": 20,
   "metadata": {},
   "outputs": [
    {
     "data": {
      "text/plain": [
       "2411405-element Vector{String}:\n",
       " \"Taxonomy\"\n",
       " \"Taxonomy\"\n",
       " \"Taxonomy\"\n",
       " \"Taxonomy\"\n",
       " \"Taxonomy\"\n",
       " \"Taxonomy\"\n",
       " \"Taxonomy\"\n",
       " \"Taxonomy\"\n",
       " \"Taxonomy\"\n",
       " \"Taxonomy\"\n",
       " \"Taxonomy\"\n",
       " \"Taxonomy\"\n",
       " \"Taxonomy\"\n",
       " ⋮\n",
       " \"Taxonomy\"\n",
       " \"Taxonomy\"\n",
       " \"Taxonomy\"\n",
       " \"Taxonomy\"\n",
       " \"Taxonomy\"\n",
       " \"Taxonomy\"\n",
       " \"Taxonomy\"\n",
       " \"Taxonomy\"\n",
       " \"Taxonomy\"\n",
       " \"Taxonomy\"\n",
       " \"Taxonomy\"\n",
       " \"Taxonomy\""
      ]
     },
     "execution_count": 20,
     "metadata": {},
     "output_type": "execute_result"
    }
   ],
   "source": [
    "joint_node_metadata[!, \"TYPE\"] .= \"Taxonomy\""
   ]
  },
  {
   "cell_type": "code",
   "execution_count": 21,
   "metadata": {},
   "outputs": [
    {
     "name": "stdout",
     "output_type": "stream",
     "text": [
      "rename_map = \"blast name\" => \"blast_name\"\n",
      "rename_map = \"common name\" => \"common_name\"\n",
      "rename_map = \"equivalent name\" => \"equivalent_name\"\n",
      "rename_map = \"genbank acronym\" => \"genbank_acronym\"\n",
      "rename_map = \"genbank common name\" => \"genbank_common_name\"\n",
      "rename_map = \"scientific name\" => \"scientific_name\"\n",
      "rename_map = \"type material\" => \"type_material\"\n",
      "rename_map = \"in-part\" => \"in_part\"\n"
     ]
    }
   ],
   "source": [
    "node_table = joint_node_metadata\n",
    "for re in (r\"\\s+\", r\"-\")\n",
    "    for col in filter(n -> occursin(re, n), names(node_table))\n",
    "        rename_map = col => replace(col, re => \"_\")\n",
    "        @show rename_map\n",
    "        DataFrames.rename!(node_table, rename_map)\n",
    "    end\n",
    "end"
   ]
  },
  {
   "cell_type": "code",
   "execution_count": 22,
   "metadata": {},
   "outputs": [
    {
     "name": "stderr",
     "output_type": "stream",
     "text": [
      "\u001b[32mProgress: 100%|█████████████████████████████████████████| Time: 0:00:07\u001b[39m\n"
     ]
    }
   ],
   "source": [
    "ProgressMeter.@showprogress for col in names(node_table)\n",
    "    # strip away single-quotes\n",
    "    node_table[!, col] .= map(x -> x isa AbstractString ? replace(x, \"'\" => \"\") : x, node_table[!, col])\n",
    "end"
   ]
  },
  {
   "cell_type": "code",
   "execution_count": 23,
   "metadata": {},
   "outputs": [
    {
     "data": {
      "text/plain": [
       "Set{Symbol} with 1 element:\n",
       "  :identifier"
      ]
     },
     "execution_count": 23,
     "metadata": {},
     "output_type": "execute_result"
    }
   ],
   "source": [
    "graph = MetaGraphs.MetaDiGraph()\n",
    "MetaGraphs.set_indexing_prop!(graph, :identifier)"
   ]
  },
  {
   "cell_type": "code",
   "execution_count": 24,
   "metadata": {},
   "outputs": [
    {
     "name": "stderr",
     "output_type": "stream",
     "text": [
      "\u001b[32mProgress: 100%|█████████████████████████████████████████| Time: 0:02:25\u001b[39m\n"
     ]
    },
    {
     "data": {
      "text/plain": [
       "{2411405, 0} directed Int64 metagraph with Float64 weights defined by :weight (default weight 1.0)"
      ]
     },
     "execution_count": 24,
     "metadata": {},
     "output_type": "execute_result"
    }
   ],
   "source": [
    "add_node_table_to_graph!(graph=graph, table=joint_node_metadata[!, DataFrames.Not(\"parent_tax_id\")])"
   ]
  },
  {
   "cell_type": "code",
   "execution_count": 28,
   "metadata": {},
   "outputs": [
    {
     "data": {
      "text/html": [
       "<div class=\"data-frame\"><p>2,411,405 rows × 3 columns</p><table class=\"data-frame\"><thead><tr><th></th><th>src</th><th>dst</th><th>TYPE</th></tr><tr><th></th><th title=\"String\">String</th><th title=\"String\">String</th><th title=\"String\">String</th></tr></thead><tbody><tr><th>1</th><td>1</td><td>1</td><td>IS_PARENT_OF</td></tr><tr><th>2</th><td>131567</td><td>2</td><td>IS_PARENT_OF</td></tr><tr><th>3</th><td>335928</td><td>6</td><td>IS_PARENT_OF</td></tr><tr><th>4</th><td>6</td><td>7</td><td>IS_PARENT_OF</td></tr><tr><th>5</th><td>32199</td><td>9</td><td>IS_PARENT_OF</td></tr><tr><th>6</th><td>1706371</td><td>10</td><td>IS_PARENT_OF</td></tr><tr><th>7</th><td>1707</td><td>11</td><td>IS_PARENT_OF</td></tr><tr><th>8</th><td>203488</td><td>13</td><td>IS_PARENT_OF</td></tr><tr><th>9</th><td>13</td><td>14</td><td>IS_PARENT_OF</td></tr><tr><th>10</th><td>32011</td><td>16</td><td>IS_PARENT_OF</td></tr><tr><th>11</th><td>16</td><td>17</td><td>IS_PARENT_OF</td></tr><tr><th>12</th><td>213421</td><td>18</td><td>IS_PARENT_OF</td></tr><tr><th>13</th><td>2812025</td><td>19</td><td>IS_PARENT_OF</td></tr><tr><th>14</th><td>76892</td><td>20</td><td>IS_PARENT_OF</td></tr><tr><th>15</th><td>20</td><td>21</td><td>IS_PARENT_OF</td></tr><tr><th>16</th><td>267890</td><td>22</td><td>IS_PARENT_OF</td></tr><tr><th>17</th><td>22</td><td>23</td><td>IS_PARENT_OF</td></tr><tr><th>18</th><td>22</td><td>24</td><td>IS_PARENT_OF</td></tr><tr><th>19</th><td>22</td><td>25</td><td>IS_PARENT_OF</td></tr><tr><th>20</th><td>49928</td><td>27</td><td>IS_PARENT_OF</td></tr><tr><th>21</th><td>49928</td><td>28</td><td>IS_PARENT_OF</td></tr><tr><th>22</th><td>28221</td><td>29</td><td>IS_PARENT_OF</td></tr><tr><th>23</th><td>80811</td><td>31</td><td>IS_PARENT_OF</td></tr><tr><th>24</th><td>31</td><td>32</td><td>IS_PARENT_OF</td></tr><tr><th>25</th><td>32</td><td>33</td><td>IS_PARENT_OF</td></tr><tr><th>26</th><td>32</td><td>34</td><td>IS_PARENT_OF</td></tr><tr><th>27</th><td>83461</td><td>35</td><td>IS_PARENT_OF</td></tr><tr><th>28</th><td>47</td><td>38</td><td>IS_PARENT_OF</td></tr><tr><th>29</th><td>80811</td><td>39</td><td>IS_PARENT_OF</td></tr><tr><th>30</th><td>39</td><td>40</td><td>IS_PARENT_OF</td></tr><tr><th>&vellip;</th><td>&vellip;</td><td>&vellip;</td><td>&vellip;</td></tr></tbody></table></div>"
      ],
      "text/latex": [
       "\\begin{tabular}{r|ccc}\n",
       "\t& src & dst & TYPE\\\\\n",
       "\t\\hline\n",
       "\t& String & String & String\\\\\n",
       "\t\\hline\n",
       "\t1 & 1 & 1 & IS\\_PARENT\\_OF \\\\\n",
       "\t2 & 131567 & 2 & IS\\_PARENT\\_OF \\\\\n",
       "\t3 & 335928 & 6 & IS\\_PARENT\\_OF \\\\\n",
       "\t4 & 6 & 7 & IS\\_PARENT\\_OF \\\\\n",
       "\t5 & 32199 & 9 & IS\\_PARENT\\_OF \\\\\n",
       "\t6 & 1706371 & 10 & IS\\_PARENT\\_OF \\\\\n",
       "\t7 & 1707 & 11 & IS\\_PARENT\\_OF \\\\\n",
       "\t8 & 203488 & 13 & IS\\_PARENT\\_OF \\\\\n",
       "\t9 & 13 & 14 & IS\\_PARENT\\_OF \\\\\n",
       "\t10 & 32011 & 16 & IS\\_PARENT\\_OF \\\\\n",
       "\t11 & 16 & 17 & IS\\_PARENT\\_OF \\\\\n",
       "\t12 & 213421 & 18 & IS\\_PARENT\\_OF \\\\\n",
       "\t13 & 2812025 & 19 & IS\\_PARENT\\_OF \\\\\n",
       "\t14 & 76892 & 20 & IS\\_PARENT\\_OF \\\\\n",
       "\t15 & 20 & 21 & IS\\_PARENT\\_OF \\\\\n",
       "\t16 & 267890 & 22 & IS\\_PARENT\\_OF \\\\\n",
       "\t17 & 22 & 23 & IS\\_PARENT\\_OF \\\\\n",
       "\t18 & 22 & 24 & IS\\_PARENT\\_OF \\\\\n",
       "\t19 & 22 & 25 & IS\\_PARENT\\_OF \\\\\n",
       "\t20 & 49928 & 27 & IS\\_PARENT\\_OF \\\\\n",
       "\t21 & 49928 & 28 & IS\\_PARENT\\_OF \\\\\n",
       "\t22 & 28221 & 29 & IS\\_PARENT\\_OF \\\\\n",
       "\t23 & 80811 & 31 & IS\\_PARENT\\_OF \\\\\n",
       "\t24 & 31 & 32 & IS\\_PARENT\\_OF \\\\\n",
       "\t25 & 32 & 33 & IS\\_PARENT\\_OF \\\\\n",
       "\t26 & 32 & 34 & IS\\_PARENT\\_OF \\\\\n",
       "\t27 & 83461 & 35 & IS\\_PARENT\\_OF \\\\\n",
       "\t28 & 47 & 38 & IS\\_PARENT\\_OF \\\\\n",
       "\t29 & 80811 & 39 & IS\\_PARENT\\_OF \\\\\n",
       "\t30 & 39 & 40 & IS\\_PARENT\\_OF \\\\\n",
       "\t$\\dots$ & $\\dots$ & $\\dots$ & $\\dots$ \\\\\n",
       "\\end{tabular}\n"
      ],
      "text/plain": [
       "\u001b[1m2411405×3 DataFrame\u001b[0m\n",
       "\u001b[1m     Row \u001b[0m│\u001b[1m src     \u001b[0m\u001b[1m dst     \u001b[0m\u001b[1m TYPE         \u001b[0m\n",
       "\u001b[1m         \u001b[0m│\u001b[90m String  \u001b[0m\u001b[90m String  \u001b[0m\u001b[90m String       \u001b[0m\n",
       "─────────┼────────────────────────────────\n",
       "       1 │ 1        1        IS_PARENT_OF\n",
       "       2 │ 131567   2        IS_PARENT_OF\n",
       "       3 │ 335928   6        IS_PARENT_OF\n",
       "       4 │ 6        7        IS_PARENT_OF\n",
       "       5 │ 32199    9        IS_PARENT_OF\n",
       "       6 │ 1706371  10       IS_PARENT_OF\n",
       "       7 │ 1707     11       IS_PARENT_OF\n",
       "       8 │ 203488   13       IS_PARENT_OF\n",
       "       9 │ 13       14       IS_PARENT_OF\n",
       "      10 │ 32011    16       IS_PARENT_OF\n",
       "      11 │ 16       17       IS_PARENT_OF\n",
       "    ⋮    │    ⋮        ⋮          ⋮\n",
       " 2411396 │ 4147     2929562  IS_PARENT_OF\n",
       " 2411397 │ 4147     2929563  IS_PARENT_OF\n",
       " 2411398 │ 4147     2929564  IS_PARENT_OF\n",
       " 2411399 │ 2629901  2929565  IS_PARENT_OF\n",
       " 2411400 │ 2613862  2929751  IS_PARENT_OF\n",
       " 2411401 │ 2613862  2929752  IS_PARENT_OF\n",
       " 2411402 │ 576366   2929762  IS_PARENT_OF\n",
       " 2411403 │ 27427    2929835  IS_PARENT_OF\n",
       " 2411404 │ 114277   2929839  IS_PARENT_OF\n",
       " 2411405 │ 224471   2929841  IS_PARENT_OF\n",
       "\u001b[36m                      2411384 rows omitted\u001b[0m"
      ]
     },
     "execution_count": 28,
     "metadata": {},
     "output_type": "execute_result"
    }
   ],
   "source": [
    "edge_table = DataFrames.rename(joint_node_metadata[!, [\"parent_tax_id\", \"identifier\"]], [\"identifier\" => \"dst\", \"parent_tax_id\" => \"src\"])\n",
    "edge_table[!, \"TYPE\"] .= \"IS_PARENT_OF\"\n",
    "edge_table"
   ]
  },
  {
   "cell_type": "code",
   "execution_count": 29,
   "metadata": {},
   "outputs": [
    {
     "name": "stderr",
     "output_type": "stream",
     "text": [
      "\u001b[32mProgress: 100%|█████████████████████████████████████████| Time: 0:00:45\u001b[39m0:53\u001b[39m\n"
     ]
    },
    {
     "data": {
      "text/plain": [
       "{2411405, 2411405} directed Int64 metagraph with Float64 weights defined by :weight (default weight 1.0)"
      ]
     },
     "execution_count": 29,
     "metadata": {},
     "output_type": "execute_result"
    }
   ],
   "source": [
    "add_edge_table_to_graph!(graph=graph, table=edge_table)"
   ]
  },
  {
   "cell_type": "code",
   "execution_count": null,
   "metadata": {},
   "outputs": [],
   "source": [
    "# subset nodes - find all nodes above node of interest as well as all nodes below"
   ]
  },
  {
   "cell_type": "code",
   "execution_count": 68,
   "metadata": {},
   "outputs": [
    {
     "data": {
      "text/plain": [
       "407-element Vector{String}:\n",
       " \"10239\"\n",
       " \"1\"\n",
       " \"10662\"\n",
       " \"28883\"\n",
       " \"10663\"\n",
       " \"1198136\"\n",
       " \"2731619\"\n",
       " \"2731341\"\n",
       " \"2731360\"\n",
       " \"2731618\"\n",
       " \"10664\"\n",
       " \"10665\"\n",
       " \"45406\"\n",
       " ⋮\n",
       " \"2025823\"\n",
       " \"2656520\"\n",
       " \"2716729\"\n",
       " \"2591056\"\n",
       " \"2591063\"\n",
       " \"1913049\"\n",
       " \"1863008\"\n",
       " \"1863009\"\n",
       " \"2024321\"\n",
       " \"2321390\"\n",
       " \"2691085\"\n",
       " \"2052930\""
      ]
     },
     "execution_count": 68,
     "metadata": {},
     "output_type": "execute_result"
    }
   ],
   "source": [
    "in_bfs_tree = Graphs.bfs_tree(graph, graph[\"$(root_tax_id)\", :identifier], dir=:in)\n",
    "in_subgraph, node_map = Graphs.induced_subgraph(graph, collect(Graphs.edges(in_bfs_tree)))\n",
    "in_node_identifiers = [MetaGraphs.props(in_subgraph, v)[:identifier] for v in Graphs.vertices(in_subgraph)]\n",
    "out_bfs_tree = Graphs.bfs_tree(graph, graph[\"$(root_tax_id)\", :identifier], dir=:out)\n",
    "out_subgraph, node_map = Graphs.induced_subgraph(graph, collect(Graphs.edges(out_bfs_tree)))\n",
    "out_node_identifiers = [MetaGraphs.props(out_subgraph, v)[:identifier] for v in Graphs.vertices(out_subgraph)]\n",
    "identifiers_to_keep = union(in_node_identifiers, out_node_identifiers)"
   ]
  },
  {
   "cell_type": "code",
   "execution_count": 69,
   "metadata": {},
   "outputs": [
    {
     "data": {
      "text/plain": [
       "407-element Vector{Int64}:\n",
       "    8265\n",
       "       1\n",
       "    8584\n",
       "   12478\n",
       "    8585\n",
       "  933601\n",
       " 2272589\n",
       " 2272385\n",
       " 2272404\n",
       " 2272588\n",
       "    8586\n",
       "    8587\n",
       "   25681\n",
       "       ⋮\n",
       " 1667767\n",
       " 2214139\n",
       " 2259927\n",
       " 2155753\n",
       " 2155760\n",
       " 1567900\n",
       " 1522687\n",
       " 1522688\n",
       " 1666423\n",
       " 1909567\n",
       " 2240787\n",
       " 1689598"
      ]
     },
     "execution_count": 69,
     "metadata": {},
     "output_type": "execute_result"
    }
   ],
   "source": [
    "vertices_to_keep = [graph[i, :identifier] for i in identifiers_to_keep]"
   ]
  },
  {
   "cell_type": "code",
   "execution_count": 70,
   "metadata": {},
   "outputs": [
    {
     "data": {
      "text/plain": [
       "({407, 407} directed Int64 metagraph with Float64 weights defined by :weight (default weight 1.0), [8265, 1, 8584, 12478, 8585, 933601, 2272589, 2272385, 2272404, 2272588  …  2259927, 2155753, 2155760, 1567900, 1522687, 1522688, 1666423, 1909567, 2240787, 1689598])"
      ]
     },
     "execution_count": 70,
     "metadata": {},
     "output_type": "execute_result"
    }
   ],
   "source": [
    "filtered_subgraph, vertex_map = Graphs.induced_subgraph(graph, vertices_to_keep)"
   ]
  },
  {
   "cell_type": "code",
   "execution_count": 71,
   "metadata": {},
   "outputs": [
    {
     "name": "stderr",
     "output_type": "stream",
     "text": [
      "\u001b[32mProgress: 100%|█████████████████████████████████████████| Time: 0:00:23\u001b[39m\n"
     ]
    }
   ],
   "source": [
    "# 5 days?! @ 10 row bundles\n",
    "# 2 days @ 100 row bundles\n",
    "node_type_to_upload = \"Taxonomy\"\n",
    "upload_node_type_over_url(node_type_to_upload, filtered_subgraph, ADDRESS, USERNAME, PASSWORD, DATABASE, 100)"
   ]
  },
  {
   "cell_type": "code",
   "execution_count": 77,
   "metadata": {},
   "outputs": [
    {
     "name": "stderr",
     "output_type": "stream",
     "text": [
      "\u001b[32mProgress: 100%|█████████████████████████████████████████| Time: 0:00:30\u001b[39m\n"
     ]
    }
   ],
   "source": [
    "src_type = dst_type = \"Taxonomy\"\n",
    "edge_type = \"IS_PARENT_OF\"\n",
    "upload_edge_type_over_url(src_type, dst_type, edge_type, filtered_subgraph, ADDRESS, USERNAME, PASSWORD, DATABASE)"
   ]
  },
  {
   "cell_type": "code",
   "execution_count": null,
   "metadata": {},
   "outputs": [],
   "source": [
    "child_tax_ids = vcat(Mycelia.taxonomic_id_to_children(root_tax_id), root_tax_id)"
   ]
  },
  {
   "cell_type": "code",
   "execution_count": null,
   "metadata": {},
   "outputs": [],
   "source": [
    "# TODO\n",
    "# here is where we should apply a filter where host == Escherichia\n",
    "# need to load host information into neo4j taxonomy"
   ]
  },
  {
   "cell_type": "code",
   "execution_count": null,
   "metadata": {},
   "outputs": [],
   "source": [
    "# refseq_metadata = Mycelia.load_refseq_metadata()\n",
    "ncbi_metadata = Mycelia.load_genbank_metadata()"
   ]
  },
  {
   "cell_type": "code",
   "execution_count": null,
   "metadata": {},
   "outputs": [],
   "source": [
    "show(ncbi_metadata[1:1, :], allcols=true)"
   ]
  },
  {
   "cell_type": "code",
   "execution_count": null,
   "metadata": {},
   "outputs": [],
   "source": [
    "tax_id_filter = map(taxid -> taxid in child_tax_ids, ncbi_metadata[!, \"taxid\"])\n",
    "is_right_host = map(x -> occursin(Regex(host, \"i\"), x), ncbi_metadata[!, \"organism_name\"])\n",
    "not_excluded = ncbi_metadata[!, \"excluded_from_refseq\"] .== \"\"\n",
    "is_full = ncbi_metadata[!, \"genome_rep\"] .== \"Full\"\n",
    "# assembly_levels = [\"Complete Genome\"]\n",
    "assembly_levels = [\"Complete Genome\", \"Chromosome\"]\n",
    "# assembly_levels = [\"Complete Genome\", \"Chromosome\", \"Scaffold\"]\n",
    "# assembly_levels = [\"Complete Genome\", \"Chromosome\", \"Scaffold\", \"Contig\"]\n",
    "assembly_level_filter = map(x -> x in assembly_levels, ncbi_metadata[!, \"assembly_level\"])\n",
    "full_filter = is_full .& not_excluded .& assembly_level_filter .& tax_id_filter .& is_right_host\n",
    "count(full_filter)"
   ]
  },
  {
   "cell_type": "code",
   "execution_count": null,
   "metadata": {},
   "outputs": [],
   "source": [
    "# TODO\n",
    "# here is another place we could enforce host == escherichia\n",
    "# we'll use a manual filter as a temporary solution"
   ]
  },
  {
   "cell_type": "code",
   "execution_count": null,
   "metadata": {},
   "outputs": [],
   "source": [
    "ncbi_metadata_of_interest[!, \"ftp_path\"]"
   ]
  },
  {
   "cell_type": "code",
   "execution_count": null,
   "metadata": {},
   "outputs": [],
   "source": [
    "ncbi_metadata_of_interest = ncbi_metadata[full_filter, :]"
   ]
  },
  {
   "cell_type": "code",
   "execution_count": null,
   "metadata": {},
   "outputs": [],
   "source": [
    "# https://www.ncbi.nlm.nih.gov/sviewer/viewer.cgi?db=nuccore&report=genbank&id=GCA_021354775"
   ]
  },
  {
   "cell_type": "code",
   "execution_count": null,
   "metadata": {},
   "outputs": [],
   "source": [
    "# for col in names(ncbi_metadata_of_interest)\n",
    "#     @show col, ncbi_metadata_of_interest[1, col]\n",
    "# end"
   ]
  },
  {
   "cell_type": "code",
   "execution_count": null,
   "metadata": {},
   "outputs": [],
   "source": [
    "N_FASTAS = 2"
   ]
  },
  {
   "cell_type": "code",
   "execution_count": null,
   "metadata": {},
   "outputs": [],
   "source": [
    "entity_file_maps"
   ]
  },
  {
   "cell_type": "code",
   "execution_count": null,
   "metadata": {},
   "outputs": [],
   "source": [
    "entity_file_maps = Dict()\n",
    "ProgressMeter.@showprogress for row in DataFrames.eachrow(ncbi_metadata_of_interest[1:N_FASTAS, :])\n",
    "    entity_id = row[\"# assembly_accession\"]\n",
    "    entity_file_maps[entity_id] = Dict()\n",
    "    # generally will want genome + GFF || genbank\n",
    "    # everything else can be derived from these inputs\n",
    "    for (file_type, extension) in [\n",
    "            \"genome\" => \"genomic.fna.gz\",\n",
    "            \"annotations\" => \"genomic.gff.gz\",\n",
    "            \"genbank\" => \"genomic.gbff.gz\",\n",
    "            # \"proteins\" => \"protein.faa.gz\",\n",
    "        ]\n",
    "        outdir = mkpath(joinpath(DIR, extension))\n",
    "        url = Mycelia.ncbi_ftp_path_to_url(row[\"ftp_path\"], extension)\n",
    "        outfile = joinpath(outdir, basename(url))\n",
    "        if !isfile(outfile)\n",
    "            try\n",
    "                Downloads.download(url, outfile)\n",
    "            catch e\n",
    "                showerror(stdout, e)\n",
    "            end\n",
    "        end\n",
    "        if isfile(outfile)\n",
    "            entity_file_maps[entity_id][file_type] = outfile\n",
    "        end\n",
    "    end\n",
    "end\n",
    "entity_file_maps"
   ]
  },
  {
   "cell_type": "code",
   "execution_count": null,
   "metadata": {},
   "outputs": [],
   "source": [
    "# graph = Mycelia.fastx_to_kmer_graph(BioSequences.BigDNAMer{kmer_size}, fastx_files)"
   ]
  },
  {
   "cell_type": "code",
   "execution_count": null,
   "metadata": {},
   "outputs": [],
   "source": [
    "# use basename of files as identifiers"
   ]
  },
  {
   "cell_type": "code",
   "execution_count": null,
   "metadata": {},
   "outputs": [],
   "source": [
    "# kmer_size = Mycelia.assess_dnamer_saturation(fastx_files)\n",
    "kmer_size = 7"
   ]
  },
  {
   "cell_type": "code",
   "execution_count": null,
   "metadata": {},
   "outputs": [],
   "source": [
    "@time graph = fastx_to_metagraph(kmer_size, entity_file_maps)"
   ]
  },
  {
   "cell_type": "code",
   "execution_count": null,
   "metadata": {},
   "outputs": [],
   "source": [
    "graph_outfile = \"$DIR/root-tax-id_$(root_tax_id).k_$(kmer_size).genome-graph\"\n",
    "# Mycelia.save_graph(graph, graph_outfile)\n",
    "# Mycelia.graph_to_gfa(graph, graph_outfile * \".gfa\")\n",
    "# Mycelia.load_graph(graph_outfile)"
   ]
  },
  {
   "cell_type": "code",
   "execution_count": null,
   "metadata": {},
   "outputs": [],
   "source": [
    "cmd = \"CREATE CONSTRAINT ON (k:Kmer) ASSERT k.identifier IS UNIQUE\"\n",
    "@time Mycelia.cypher(address = ADDRESS, username = USERNAME, password = PASSWORD, database = DATABASE, cmd = cmd);"
   ]
  },
  {
   "cell_type": "code",
   "execution_count": null,
   "metadata": {},
   "outputs": [],
   "source": [
    "node_types = unique(graph.vprops[v][:TYPE] for v in Graphs.vertices(graph))"
   ]
  },
  {
   "cell_type": "code",
   "execution_count": null,
   "metadata": {},
   "outputs": [],
   "source": [
    "# initialize graph"
   ]
  },
  {
   "cell_type": "code",
   "execution_count": null,
   "metadata": {},
   "outputs": [],
   "source": [
    "# add fasta records to graph"
   ]
  },
  {
   "cell_type": "code",
   "execution_count": null,
   "metadata": {},
   "outputs": [],
   "source": [
    "# add fasta records to Neo4J\n",
    "# add over URL"
   ]
  },
  {
   "cell_type": "code",
   "execution_count": null,
   "metadata": {},
   "outputs": [],
   "source": [
    "upload_node_type_over_url(\"Fasta\", graph, ADDRESS, USERNAME, PASSWORD, DATABASE)"
   ]
  },
  {
   "cell_type": "code",
   "execution_count": null,
   "metadata": {},
   "outputs": [],
   "source": [
    "# add fasta records to graph"
   ]
  },
  {
   "cell_type": "code",
   "execution_count": null,
   "metadata": {},
   "outputs": [],
   "source": [
    "# add fasta records to Neo4J\n",
    "# batch file upload"
   ]
  },
  {
   "cell_type": "code",
   "execution_count": null,
   "metadata": {},
   "outputs": [],
   "source": [
    "upload_node_type_over_read_csv(\"FastaRecord\", graph, ADDRESS, USERNAME, PASSWORD, DATABASE)"
   ]
  },
  {
   "cell_type": "code",
   "execution_count": null,
   "metadata": {},
   "outputs": [],
   "source": [
    "src_type = \"Fasta\"\n",
    "dst_type = \"FastaRecord\"\n",
    "edge_type = \"CONTAINS_RECORD\""
   ]
  },
  {
   "cell_type": "code",
   "execution_count": null,
   "metadata": {},
   "outputs": [],
   "source": [
    "upload_edge_type_over_url(src_type, dst_type, edge_type, graph, ADDRESS, USERNAME, PASSWORD, DATABASE, window_size=10)"
   ]
  },
  {
   "cell_type": "code",
   "execution_count": null,
   "metadata": {},
   "outputs": [],
   "source": [
    "# add kmers to graph"
   ]
  },
  {
   "cell_type": "code",
   "execution_count": null,
   "metadata": {},
   "outputs": [],
   "source": [
    "# add kmers to Neo4J\n",
    "# add over URL"
   ]
  },
  {
   "cell_type": "code",
   "execution_count": null,
   "metadata": {},
   "outputs": [],
   "source": [
    "upload_node_type_over_url(\"Kmer\", graph, ADDRESS, USERNAME, PASSWORD, DATABASE)"
   ]
  },
  {
   "cell_type": "code",
   "execution_count": null,
   "metadata": {},
   "outputs": [],
   "source": [
    "# add edges from records to kmers"
   ]
  },
  {
   "cell_type": "code",
   "execution_count": null,
   "metadata": {},
   "outputs": [],
   "source": [
    "src_type = \"FastaRecord\"\n",
    "dst_type = \"Kmer\"\n",
    "edge_type = \"CONTAINS_KMER\"\n",
    "upload_edge_type_over_url(src_type, dst_type, edge_type, graph, ADDRESS, USERNAME, PASSWORD, DATABASE)"
   ]
  },
  {
   "cell_type": "code",
   "execution_count": null,
   "metadata": {},
   "outputs": [],
   "source": [
    "# upload to Neo4j"
   ]
  },
  {
   "cell_type": "code",
   "execution_count": null,
   "metadata": {},
   "outputs": [],
   "source": [
    "# Kmer to Kmer connections"
   ]
  },
  {
   "cell_type": "code",
   "execution_count": null,
   "metadata": {},
   "outputs": [],
   "source": [
    "# on merge with these Kmer to Kmer connections we'll need to increment the counts!\n",
    "# any time we increase the number of genomes, the values will become out of date\n",
    "src_type = \"Kmer\"\n",
    "dst_type = \"Kmer\"\n",
    "edge_type = \"CONNECTS_TO\"\n",
    "upload_edge_type_over_url(src_type, dst_type, edge_type, graph, ADDRESS, USERNAME, PASSWORD, DATABASE)"
   ]
  },
  {
   "cell_type": "code",
   "execution_count": null,
   "metadata": {},
   "outputs": [],
   "source": [
    "# get the full list of kmers under the fasta of interest"
   ]
  },
  {
   "cell_type": "code",
   "execution_count": null,
   "metadata": {},
   "outputs": [],
   "source": [
    "# for each kmer, count the number of incoming \"CONTAINS_KMER\" edges"
   ]
  },
  {
   "cell_type": "code",
   "execution_count": null,
   "metadata": {},
   "outputs": [],
   "source": [
    "# divide by max count"
   ]
  },
  {
   "cell_type": "code",
   "execution_count": null,
   "metadata": {},
   "outputs": [],
   "source": [
    "# pull in annotations!!!"
   ]
  },
  {
   "cell_type": "code",
   "execution_count": null,
   "metadata": {},
   "outputs": [],
   "source": [
    "ncbi_metadata_of_interest"
   ]
  },
  {
   "cell_type": "code",
   "execution_count": null,
   "metadata": {},
   "outputs": [],
   "source": [
    "entity_metadata_table = ncbi_metadata_of_interest"
   ]
  },
  {
   "cell_type": "code",
   "execution_count": null,
   "metadata": {},
   "outputs": [],
   "source": [
    "entity_metadata_table = DataFrames.rename(entity_metadata_table, \"# assembly_accession\" => \"identifier\")"
   ]
  },
  {
   "cell_type": "code",
   "execution_count": null,
   "metadata": {},
   "outputs": [],
   "source": [
    "entity_metadata_table[!, \"TYPE\"] .= \"Entity\""
   ]
  },
  {
   "cell_type": "code",
   "execution_count": null,
   "metadata": {},
   "outputs": [],
   "source": [
    "entity_metadata_table"
   ]
  },
  {
   "cell_type": "code",
   "execution_count": null,
   "metadata": {},
   "outputs": [],
   "source": [
    "show(entity_metadata_table[1:1, :], allcols=true)"
   ]
  },
  {
   "cell_type": "code",
   "execution_count": null,
   "metadata": {},
   "outputs": [],
   "source": [
    "graph.indices"
   ]
  },
  {
   "cell_type": "code",
   "execution_count": null,
   "metadata": {},
   "outputs": [],
   "source": [
    "keys(graph.metaindex[:identifier])"
   ]
  },
  {
   "cell_type": "code",
   "execution_count": null,
   "metadata": {},
   "outputs": [],
   "source": [
    "for row in DataFrames.eachrow(entity_metadata_table)\n",
    "    identifier = row[\"identifier\"]\n",
    "    @show has_identifier(graph, identifier)\n",
    "    if !has_identifier(graph, identifier)\n",
    "        Graphs.add_vertex!(graph)\n",
    "        vertex = Graphs.nv(graph)\n",
    "    else\n",
    "        vertex = graph[]\n",
    "    end\n",
    "    @show vertex\n",
    "    for col in names(row)\n",
    "        if !MetaGraphs.has_prop(graph, vertex, Symbol(col))\n",
    "            MetaGraphs.set_prop!(graph, vertex, Symbol(col), row[col])\n",
    "        else\n",
    "            current_value = MetaGraphs.get_prop(graph, vertex, Symbol(col))\n",
    "            if current_value != row[col]\n",
    "                @warn \"property $(col)'s current value $(current_value) != this value $(row[col])\"\n",
    "            end\n",
    "        end\n",
    "    end\n",
    "    @show MetaGraphs.props(graph, vertex)\n",
    "end"
   ]
  },
  {
   "cell_type": "code",
   "execution_count": null,
   "metadata": {
    "tags": []
   },
   "outputs": [],
   "source": [
    "\n",
    "    for entity in keys(entity_file_map)\n",
    "        # f_type = \"Genome\"\n",
    "        fastx = entity_file_map[entity][\"genome\"]\n",
    "        Graphs.add_vertex!(graph)\n",
    "        fasta_node = Graphs.nv(graph)\n",
    "        # node types are camel case\n",
    "        MetaGraphs.set_prop!(graph, fasta_node, :TYPE, \"Fasta\")\n",
    "        # node and edge properties are lowercase\n",
    "        # add entity identifier as a property that can be queried on\n",
    "        MetaGraphs.set_prop!(graph, fasta_node, :path, fastx)\n",
    "        MetaGraphs.set_prop!(graph, fasta_node, :identifier, entity)\n",
    "        for record in Mycelia.open_fastx(fastx)\n",
    "            Graphs.add_vertex!(graph)\n",
    "            record_node = Graphs.nv(graph)\n",
    "            \n",
    "            MetaGraphs.set_prop!(graph, record_node, :TYPE, \"FastaRecord\")\n",
    "            MetaGraphs.set_prop!(graph, record_node, :identifier, FASTX.identifier(record))\n",
    "            MetaGraphs.set_prop!(graph, record_node, :description, FASTX.description(record))\n",
    "            MetaGraphs.set_prop!(graph, record_node, :sequence, FASTX.sequence(record))\n",
    "            if typeof(FASTX.sequence(record)) == BioSequences.LongDNASeq\n",
    "                sequence_type = \"dna\"\n",
    "            elseif typeof(FASTX.sequence(record)) == BioSequences.LongAminoAcidSeq\n",
    "                sequence_type = \"aa\"\n",
    "            elseif typeof(FASTX.sequence(record)) == BioSequences.LongRNASeq\n",
    "                sequence_type = \"rna\"\n",
    "            end\n",
    "            MetaGraphs.set_prop!(graph, record_node, :sequence_type, sequence_type)\n",
    "            edge = Graphs.Edge(fasta_node, record_node)\n",
    "            Graphs.add_edge!(graph, edge)\n",
    "            # edge types are all caps\n",
    "            MetaGraphs.set_prop!(graph, edge, :TYPE, \"CONTAINS_RECORD\")\n",
    "            # for kmer in collect(BioSequences.each(kmer_type, FASTX.sequence(record)))[1:2^3]\n",
    "            for kmer in BioSequences.each(kmer_type, FASTX.sequence(record))\n",
    "                canonical_kmer = BioSequences.canonical(kmer)\n",
    "                if canonical_kmer in canonical_kmers\n",
    "                    kmer_node = graph[canonical_kmer, :identifier]\n",
    "                else\n",
    "                    push!(canonical_kmers, canonical_kmer)\n",
    "                    Graphs.add_vertex!(graph)\n",
    "                    kmer_node = Graphs.nv(graph)\n",
    "                    MetaGraphs.set_prop!(graph, kmer_node, :TYPE, \"Kmer\")\n",
    "                    MetaGraphs.set_prop!(graph, kmer_node, :identifier, BioSequences.canonical(kmer))\n",
    "                    MetaGraphs.set_prop!(graph, kmer_node, :sequence_type, sequence_type)\n",
    "                end\n",
    "                edge = Graphs.Edge(record_node, kmer_node)\n",
    "                if !Graphs.has_edge(graph, edge)\n",
    "                    Graphs.add_edge!(graph, edge)\n",
    "                    MetaGraphs.set_prop!(graph, edge, :TYPE, \"CONTAINS_KMER\")\n",
    "                    # can't use vectors as properties :(\n",
    "                    MetaGraphs.set_prop!(graph, edge, :count, 0)\n",
    "                    MetaGraphs.set_prop!(graph, edge, Symbol(true), 0)\n",
    "                    MetaGraphs.set_prop!(graph, edge, Symbol(false), 0)\n",
    "                end\n",
    "                is_canonical = Symbol(BioSequences.iscanonical(kmer.fw))\n",
    "                current_count = MetaGraphs.get_prop(graph, edge, is_canonical) + 1\n",
    "                MetaGraphs.set_prop!(graph, edge, is_canonical, current_count)\n",
    "\n",
    "                current_count = MetaGraphs.get_prop(graph, edge, Symbol(true)) + MetaGraphs.get_prop(graph, edge, Symbol(false))\n",
    "                MetaGraphs.set_prop!(graph, edge, :count, current_count)                \n",
    "            end\n",
    "            # for edgemer in collect(BioSequences.each(edgemer_type, FASTX.sequence(record)))[1:2^3-1]\n",
    "            for edgemer in BioSequences.each(edgemer_type, FASTX.sequence(record))\n",
    "                src, canonical_src, src_is_canonical, dst, canonical_dst, dst_is_canonical = assess_edgemer(edgemer.fw)\n",
    "                if canonical_dst < canonical_src\n",
    "                    src, canonical_src, src_is_canonical, dst, canonical_dst, dst_is_canonical = assess_edgemer(edgemer.bw)\n",
    "                end\n",
    "                src_index, dst_index = graph[canonical_src, :identifier], graph[canonical_dst, :identifier]\n",
    "                edge = Graphs.Edge(src_index, dst_index)\n",
    "                if !Graphs.has_edge(graph, edge)\n",
    "                    Graphs.add_edge!(graph, edge)\n",
    "                    MetaGraphs.set_prop!(graph, edge, :TYPE, \"CONNECTS_TO\")\n",
    "                    for o in edge_orientations\n",
    "                        MetaGraphs.set_prop!(graph, edge, o, 0)\n",
    "                    end\n",
    "                    MetaGraphs.set_prop!(graph, edge, :count, 0)\n",
    "                end\n",
    "                orientations = Symbol(\"$(src_is_canonical)_$(dst_is_canonical)\")\n",
    "                current_count = MetaGraphs.get_prop(graph, edge, orientations) + 1\n",
    "                MetaGraphs.set_prop!(graph, edge, orientations, current_count)\n",
    "                \n",
    "                current_count = sum(MetaGraphs.get_prop(graph, edge, o) for o in edge_orientations)\n",
    "                MetaGraphs.set_prop!(graph, edge, :count, current_count) \n",
    "            end\n",
    "        end\n",
    "    end\n",
    "    return graph\n",
    "end"
   ]
  }
 ],
 "metadata": {
  "kernelspec": {
   "display_name": "Julia 1.6.5",
   "language": "julia",
   "name": "julia-1.6"
  },
  "language_info": {
   "file_extension": ".jl",
   "mimetype": "application/julia",
   "name": "julia",
   "version": "1.6.5"
  }
 },
 "nbformat": 4,
 "nbformat_minor": 4
}
