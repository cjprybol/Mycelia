{
 "cells": [
  {
   "cell_type": "markdown",
   "metadata": {},
   "source": [
    "# Rerouting"
   ]
  },
  {
   "cell_type": "markdown",
   "metadata": {},
   "source": [
    "The goal of this notebook is to show how to find new shortest paths after a filtered subgraph has been constructed."
   ]
  },
  {
   "cell_type": "code",
   "execution_count": 1,
   "metadata": {},
   "outputs": [],
   "source": [
    "import Pkg\n",
    "\n",
    "pkgs = [\n",
    "    \"MetaGraphs\",\n",
    "    \"Graphs\",\n",
    "    \"Plots\",\n",
    "    \"GraphRecipes\",\n",
    "    \"Statistics\"\n",
    "]\n",
    "\n",
    "for pkg in pkgs\n",
    "    try\n",
    "        eval(Meta.parse(\"import $pkg\"))\n",
    "    catch\n",
    "        Pkg.add(pkg)\n",
    "        eval(Meta.parse(\"import $pkg\"))\n",
    "    end\n",
    "end"
   ]
  },
  {
   "cell_type": "code",
   "execution_count": 56,
   "metadata": {},
   "outputs": [
    {
     "data": {
      "text/plain": [
       "create_distance_matrix (generic function with 1 method)"
      ]
     },
     "execution_count": 56,
     "metadata": {},
     "output_type": "execute_result"
    }
   ],
   "source": [
    "function create_distance_matrix(g)\n",
    "    distance_matrix = fill(Inf, Graphs.nv(g), Graphs.nv(g))\n",
    "    for edge in Graphs.edges(g)\n",
    "        total_weight = g.vprops[edge.src][:weight] + g.vprops[edge.dst][:weight]\n",
    "        mean_weight = total_weight / 2\n",
    "        inverse_weight = 1 / mean_weight\n",
    "        distance_matrix[edge.src, edge.dst] = distance_matrix[edge.dst, edge.src] = inverse_weight\n",
    "    end\n",
    "    distance_matrix\n",
    "end"
   ]
  },
  {
   "cell_type": "markdown",
   "metadata": {},
   "source": [
    "Here, we define a section of graph with parallel paths, where one path has twice the nodeweight of the other"
   ]
  },
  {
   "cell_type": "code",
   "execution_count": 53,
   "metadata": {},
   "outputs": [
    {
     "data": {
      "image/svg+xml": [
       "<?xml version=\"1.0\" encoding=\"utf-8\"?>\n",
       "<svg xmlns=\"http://www.w3.org/2000/svg\" xmlns:xlink=\"http://www.w3.org/1999/xlink\" width=\"600\" height=\"400\" viewBox=\"0 0 2400 1600\">\n",
       "<defs>\n",
       "  <clipPath id=\"clip080\">\n",
       "    <rect x=\"0\" y=\"0\" width=\"2400\" height=\"1600\"/>\n",
       "  </clipPath>\n",
       "</defs>\n",
       "<path clip-path=\"url(#clip080)\" d=\"\n",
       "M0 1600 L2400 1600 L2400 0 L0 0  Z\n",
       "  \" fill=\"#ffffff\" fill-rule=\"evenodd\" fill-opacity=\"1\"/>\n",
       "<defs>\n",
       "  <clipPath id=\"clip081\">\n",
       "    <rect x=\"480\" y=\"0\" width=\"1681\" height=\"1600\"/>\n",
       "  </clipPath>\n",
       "</defs>\n",
       "<path clip-path=\"url(#clip080)\" d=\"\n",
       "M447.244 1552.76 L1952.76 1552.76 L1952.76 47.2441 L447.244 47.2441  Z\n",
       "  \" fill=\"#ffffff\" fill-rule=\"evenodd\" fill-opacity=\"1\"/>\n",
       "<defs>\n",
       "  <clipPath id=\"clip082\">\n",
       "    <rect x=\"447\" y=\"47\" width=\"1507\" height=\"1507\"/>\n",
       "  </clipPath>\n",
       "</defs>\n",
       "<polyline clip-path=\"url(#clip082)\" style=\"stroke:#000000; stroke-linecap:butt; stroke-linejoin:round; stroke-width:4; stroke-opacity:1; fill:none\" points=\"\n",
       "  1737.68,1337.68 1439.04,1039.03 \n",
       "  \"/>\n",
       "<polyline clip-path=\"url(#clip082)\" style=\"stroke:#000000; stroke-linecap:butt; stroke-linejoin:round; stroke-width:4; stroke-opacity:1; fill:none\" points=\"\n",
       "  1439.04,1039.03 1518.41,665.147 \n",
       "  \"/>\n",
       "<polyline clip-path=\"url(#clip082)\" style=\"stroke:#000000; stroke-linecap:butt; stroke-linejoin:round; stroke-width:4; stroke-opacity:1; fill:none\" points=\"\n",
       "  1439.04,1039.03 881.597,934.85 \n",
       "  \"/>\n",
       "<polyline clip-path=\"url(#clip082)\" style=\"stroke:#000000; stroke-linecap:butt; stroke-linejoin:round; stroke-width:4; stroke-opacity:1; fill:none\" points=\"\n",
       "  1518.41,665.147 960.969,560.965 \n",
       "  \"/>\n",
       "<polyline clip-path=\"url(#clip082)\" style=\"stroke:#000000; stroke-linecap:butt; stroke-linejoin:round; stroke-width:4; stroke-opacity:1; fill:none\" points=\"\n",
       "  960.969,560.965 662.317,262.317 \n",
       "  \"/>\n",
       "<polyline clip-path=\"url(#clip082)\" style=\"stroke:#000000; stroke-linecap:butt; stroke-linejoin:round; stroke-width:4; stroke-opacity:1; fill:none\" points=\"\n",
       "  960.969,560.965 881.597,934.85 \n",
       "  \"/>\n",
       "<path clip-path=\"url(#clip082)\" d=\"\n",
       "M1791.88 1337.68 L1764.78 1290.75 L1710.58 1290.75 L1683.48 1337.68 L1710.58 1384.62 L1764.78 1384.62 L1791.88 1337.68 L1791.88 1337.68  Z\n",
       "  \" fill=\"#009af9\" fill-rule=\"evenodd\" fill-opacity=\"1\"/>\n",
       "<polyline clip-path=\"url(#clip082)\" style=\"stroke:#000000; stroke-linecap:butt; stroke-linejoin:round; stroke-width:4; stroke-opacity:1; fill:none\" points=\"\n",
       "  1791.88,1337.68 1764.78,1290.75 1710.58,1290.75 1683.48,1337.68 1710.58,1384.62 1764.78,1384.62 1791.88,1337.68 \n",
       "  \"/>\n",
       "<path clip-path=\"url(#clip082)\" d=\"\n",
       "M1493.24 1039.03 L1466.14 992.095 L1411.94 992.095 L1384.84 1039.03 L1411.94 1085.97 L1466.14 1085.97 L1493.24 1039.03 L1493.24 1039.03  Z\n",
       "  \" fill=\"#009af9\" fill-rule=\"evenodd\" fill-opacity=\"1\"/>\n",
       "<polyline clip-path=\"url(#clip082)\" style=\"stroke:#000000; stroke-linecap:butt; stroke-linejoin:round; stroke-width:4; stroke-opacity:1; fill:none\" points=\"\n",
       "  1493.24,1039.03 1466.14,992.095 1411.94,992.095 1384.84,1039.03 1411.94,1085.97 1466.14,1085.97 1493.24,1039.03 \n",
       "  \"/>\n",
       "<path clip-path=\"url(#clip082)\" d=\"\n",
       "M1560.56 665.147 L1539.49 628.64 L1497.33 628.64 L1476.26 665.147 L1497.33 701.654 L1539.49 701.654 L1560.56 665.147 L1560.56 665.147  Z\n",
       "  \" fill=\"#009af9\" fill-rule=\"evenodd\" fill-opacity=\"1\"/>\n",
       "<polyline clip-path=\"url(#clip082)\" style=\"stroke:#000000; stroke-linecap:butt; stroke-linejoin:round; stroke-width:4; stroke-opacity:1; fill:none\" points=\"\n",
       "  1560.56,665.147 1539.49,628.64 1497.33,628.64 1476.26,665.147 1497.33,701.654 1539.49,701.654 1560.56,665.147 \n",
       "  \"/>\n",
       "<path clip-path=\"url(#clip082)\" d=\"\n",
       "M1015.17 560.965 L988.069 514.028 L933.87 514.028 L906.771 560.965 L933.87 607.902 L988.069 607.902 L1015.17 560.965 L1015.17 560.965  Z\n",
       "  \" fill=\"#009af9\" fill-rule=\"evenodd\" fill-opacity=\"1\"/>\n",
       "<polyline clip-path=\"url(#clip082)\" style=\"stroke:#000000; stroke-linecap:butt; stroke-linejoin:round; stroke-width:4; stroke-opacity:1; fill:none\" points=\"\n",
       "  1015.17,560.965 988.069,514.028 933.87,514.028 906.771,560.965 933.87,607.902 988.069,607.902 1015.17,560.965 \n",
       "  \"/>\n",
       "<path clip-path=\"url(#clip082)\" d=\"\n",
       "M716.516 262.317 L689.416 215.38 L635.218 215.38 L608.119 262.317 L635.218 309.254 L689.416 309.254 L716.516 262.317 L716.516 262.317  Z\n",
       "  \" fill=\"#009af9\" fill-rule=\"evenodd\" fill-opacity=\"1\"/>\n",
       "<polyline clip-path=\"url(#clip082)\" style=\"stroke:#000000; stroke-linecap:butt; stroke-linejoin:round; stroke-width:4; stroke-opacity:1; fill:none\" points=\"\n",
       "  716.516,262.317 689.416,215.38 635.218,215.38 608.119,262.317 635.218,309.254 689.416,309.254 716.516,262.317 \n",
       "  \"/>\n",
       "<path clip-path=\"url(#clip082)\" d=\"\n",
       "M911.707 934.85 L896.652 908.774 L866.541 908.774 L851.486 934.85 L866.541 960.927 L896.652 960.927 L911.707 934.85 L911.707 934.85  Z\n",
       "  \" fill=\"#009af9\" fill-rule=\"evenodd\" fill-opacity=\"1\"/>\n",
       "<polyline clip-path=\"url(#clip082)\" style=\"stroke:#000000; stroke-linecap:butt; stroke-linejoin:round; stroke-width:4; stroke-opacity:1; fill:none\" points=\"\n",
       "  911.707,934.85 896.652,908.774 866.541,908.774 851.486,934.85 866.541,960.927 896.652,960.927 911.707,934.85 \n",
       "  \"/>\n",
       "<circle clip-path=\"url(#clip082)\" style=\"fill:#009af9; stroke:none; fill-opacity:1\" cx=\"1737.68\" cy=\"1337.68\" r=\"2\"/>\n",
       "<circle clip-path=\"url(#clip082)\" style=\"fill:#009af9; stroke:none; fill-opacity:1\" cx=\"1439.04\" cy=\"1039.03\" r=\"2\"/>\n",
       "<circle clip-path=\"url(#clip082)\" style=\"fill:#009af9; stroke:none; fill-opacity:1\" cx=\"1518.41\" cy=\"665.147\" r=\"2\"/>\n",
       "<circle clip-path=\"url(#clip082)\" style=\"fill:#009af9; stroke:none; fill-opacity:1\" cx=\"960.969\" cy=\"560.965\" r=\"2\"/>\n",
       "<circle clip-path=\"url(#clip082)\" style=\"fill:#009af9; stroke:none; fill-opacity:1\" cx=\"662.317\" cy=\"262.317\" r=\"2\"/>\n",
       "<circle clip-path=\"url(#clip082)\" style=\"fill:#009af9; stroke:none; fill-opacity:1\" cx=\"881.597\" cy=\"934.85\" r=\"2\"/>\n",
       "<path clip-path=\"url(#clip080)\" d=\"M1729.27 1349.36 L1735.95 1349.36 L1735.95 1326.29 L1728.68 1327.75 L1728.68 1324.02 L1735.91 1322.56 L1740 1322.56 L1740 1349.36 L1746.69 1349.36 L1746.69 1352.8 L1729.27 1352.8 L1729.27 1349.36 Z\" fill=\"#000000\" fill-rule=\"evenodd\" fill-opacity=\"1\" /><path clip-path=\"url(#clip080)\" d=\"M1434.36 1050.71 L1448.64 1050.71 L1448.64 1054.15 L1429.44 1054.15 L1429.44 1050.71 Q1431.77 1048.3 1435.78 1044.25 Q1439.81 1040.18 1440.84 1039 Q1442.8 1036.79 1443.57 1035.28 Q1444.36 1033.74 1444.36 1032.26 Q1444.36 1029.85 1442.66 1028.33 Q1440.98 1026.81 1438.27 1026.81 Q1436.34 1026.81 1434.2 1027.48 Q1432.07 1028.15 1429.64 1029.5 L1429.64 1025.37 Q1432.11 1024.38 1434.26 1023.87 Q1436.4 1023.37 1438.19 1023.37 Q1442.89 1023.37 1445.68 1025.71 Q1448.48 1028.06 1448.48 1031.99 Q1448.48 1033.86 1447.77 1035.54 Q1447.08 1037.2 1445.23 1039.47 Q1444.73 1040.06 1442.01 1042.87 Q1439.3 1045.67 1434.36 1050.71 Z\" fill=\"#000000\" fill-rule=\"evenodd\" fill-opacity=\"1\" /><path clip-path=\"url(#clip080)\" d=\"M1522.13 663.962 Q1525.06 664.59 1526.7 666.575 Q1528.36 668.56 1528.36 671.477 Q1528.36 675.953 1525.29 678.404 Q1522.21 680.854 1516.54 680.854 Q1514.63 680.854 1512.61 680.47 Q1510.6 680.105 1508.45 679.356 L1508.45 675.406 Q1510.16 676.398 1512.18 676.905 Q1514.21 677.411 1516.41 677.411 Q1520.26 677.411 1522.27 675.892 Q1524.29 674.373 1524.29 671.477 Q1524.29 668.803 1522.41 667.304 Q1520.55 665.785 1517.2 665.785 L1513.68 665.785 L1513.68 662.423 L1517.37 662.423 Q1520.38 662.423 1521.98 661.228 Q1523.58 660.013 1523.58 657.744 Q1523.58 655.415 1521.92 654.179 Q1520.28 652.923 1517.2 652.923 Q1515.52 652.923 1513.6 653.288 Q1511.68 653.653 1509.37 654.422 L1509.37 650.777 Q1511.7 650.128 1513.72 649.804 Q1515.77 649.48 1517.57 649.48 Q1522.23 649.48 1524.94 651.607 Q1527.66 653.713 1527.66 657.319 Q1527.66 659.83 1526.22 661.572 Q1524.78 663.294 1522.13 663.962 Z\" fill=\"#000000\" fill-rule=\"evenodd\" fill-opacity=\"1\" /><path clip-path=\"url(#clip080)\" d=\"M963.602 549.41 L953.273 565.553 L963.602 565.553 L963.602 549.41 M962.529 545.845 L967.674 545.845 L967.674 565.553 L971.988 565.553 L971.988 568.956 L967.674 568.956 L967.674 576.085 L963.602 576.085 L963.602 568.956 L949.951 568.956 L949.951 565.006 L962.529 545.845 Z\" fill=\"#000000\" fill-rule=\"evenodd\" fill-opacity=\"1\" /><path clip-path=\"url(#clip080)\" d=\"M653.81 247.197 L669.872 247.197 L669.872 250.64 L657.557 250.64 L657.557 258.054 Q658.449 257.75 659.34 257.608 Q660.231 257.446 661.122 257.446 Q666.186 257.446 669.143 260.221 Q672.1 262.996 672.1 267.735 Q672.1 272.617 669.062 275.331 Q666.024 278.025 660.494 278.025 Q658.59 278.025 656.605 277.701 Q654.641 277.376 652.534 276.728 L652.534 272.617 Q654.357 273.609 656.302 274.095 Q658.246 274.581 660.413 274.581 Q663.917 274.581 665.963 272.738 Q668.009 270.895 668.009 267.735 Q668.009 264.576 665.963 262.732 Q663.917 260.889 660.413 260.889 Q658.773 260.889 657.132 261.254 Q655.512 261.618 653.81 262.388 L653.81 247.197 Z\" fill=\"#000000\" fill-rule=\"evenodd\" fill-opacity=\"1\" /><path clip-path=\"url(#clip080)\" d=\"M881.951 933.22 Q879.196 933.22 877.576 935.104 Q875.976 936.987 875.976 940.269 Q875.976 943.53 877.576 945.433 Q879.196 947.317 881.951 947.317 Q884.706 947.317 886.306 945.433 Q887.926 943.53 887.926 940.269 Q887.926 936.987 886.306 935.104 Q884.706 933.22 881.951 933.22 M890.073 920.399 L890.073 924.126 Q888.534 923.397 886.954 923.012 Q885.394 922.627 883.855 922.627 Q879.804 922.627 877.657 925.361 Q875.53 928.096 875.226 933.625 Q876.421 931.863 878.224 930.931 Q880.027 929.979 882.194 929.979 Q886.751 929.979 889.384 932.754 Q892.038 935.509 892.038 940.269 Q892.038 944.927 889.283 947.742 Q886.529 950.558 881.951 950.558 Q876.705 950.558 873.93 946.547 Q871.155 942.517 871.155 934.881 Q871.155 927.711 874.558 923.457 Q877.961 919.184 883.693 919.184 Q885.232 919.184 886.792 919.487 Q888.372 919.791 890.073 920.399 Z\" fill=\"#000000\" fill-rule=\"evenodd\" fill-opacity=\"1\" /></svg>\n"
      ]
     },
     "execution_count": 53,
     "metadata": {},
     "output_type": "execute_result"
    }
   ],
   "source": [
    "g = MetaGraphs.MetaGraph(Graphs.SimpleGraph(6))\n",
    "vertex_weights = [\n",
    "    1 => 3,\n",
    "    2 => 3,\n",
    "    3 => 2,\n",
    "    4 => 3,\n",
    "    5 => 3,\n",
    "    6 => 1\n",
    "]\n",
    "for (vertex, weight) in vertex_weights\n",
    "    MetaGraphs.set_prop!(g, vertex, :weight, weight)\n",
    "end\n",
    "\n",
    "# primary path\n",
    "Graphs.add_edge!(g, 1, 2); \n",
    "Graphs.add_edge!(g, 2, 3)\n",
    "Graphs.add_edge!(g, 3, 4)\n",
    "Graphs.add_edge!(g, 4, 5)\n",
    "\n",
    "# alternate path\n",
    "Graphs.add_edge!(g, 2, 6)\n",
    "Graphs.add_edge!(g, 6, 4)\n",
    "\n",
    "GraphRecipes.graphplot(\n",
    "    g,\n",
    "    curves=false,\n",
    "    names=collect(Graphs.vertices(g)),\n",
    "    node_weights=map(v -> g.vprops[v][:weight], Graphs.vertices(g)),\n",
    "    nodesize=1/5\n",
    ")"
   ]
  },
  {
   "cell_type": "markdown",
   "metadata": {},
   "source": [
    "By default, we have a path that goes through the lowest frequency node, 6"
   ]
  },
  {
   "cell_type": "code",
   "execution_count": 57,
   "metadata": {},
   "outputs": [
    {
     "data": {
      "image/svg+xml": [
       "<?xml version=\"1.0\" encoding=\"utf-8\"?>\n",
       "<svg xmlns=\"http://www.w3.org/2000/svg\" xmlns:xlink=\"http://www.w3.org/1999/xlink\" width=\"600\" height=\"400\" viewBox=\"0 0 2400 1600\">\n",
       "<defs>\n",
       "  <clipPath id=\"clip170\">\n",
       "    <rect x=\"0\" y=\"0\" width=\"2400\" height=\"1600\"/>\n",
       "  </clipPath>\n",
       "</defs>\n",
       "<path clip-path=\"url(#clip170)\" d=\"\n",
       "M0 1600 L2400 1600 L2400 0 L0 0  Z\n",
       "  \" fill=\"#ffffff\" fill-rule=\"evenodd\" fill-opacity=\"1\"/>\n",
       "<defs>\n",
       "  <clipPath id=\"clip171\">\n",
       "    <rect x=\"480\" y=\"0\" width=\"1681\" height=\"1600\"/>\n",
       "  </clipPath>\n",
       "</defs>\n",
       "<path clip-path=\"url(#clip170)\" d=\"\n",
       "M447.244 1552.76 L1952.76 1552.76 L1952.76 47.2441 L447.244 47.2441  Z\n",
       "  \" fill=\"#ffffff\" fill-rule=\"evenodd\" fill-opacity=\"1\"/>\n",
       "<defs>\n",
       "  <clipPath id=\"clip172\">\n",
       "    <rect x=\"447\" y=\"47\" width=\"1507\" height=\"1507\"/>\n",
       "  </clipPath>\n",
       "</defs>\n",
       "<polyline clip-path=\"url(#clip172)\" style=\"stroke:#000000; stroke-linecap:butt; stroke-linejoin:round; stroke-width:4; stroke-opacity:1; fill:none\" points=\"\n",
       "  662.317,298.691 960.97,577.125 \n",
       "  \"/>\n",
       "<polyline clip-path=\"url(#clip172)\" style=\"stroke:#000000; stroke-linecap:butt; stroke-linejoin:round; stroke-width:4; stroke-opacity:1; fill:none\" points=\"\n",
       "  960.97,577.125 1125.55,1337.68 \n",
       "  \"/>\n",
       "<polyline clip-path=\"url(#clip172)\" style=\"stroke:#000000; stroke-linecap:butt; stroke-linejoin:round; stroke-width:4; stroke-opacity:1; fill:none\" points=\"\n",
       "  960.97,577.125 1274.46,262.317 \n",
       "  \"/>\n",
       "<polyline clip-path=\"url(#clip172)\" style=\"stroke:#000000; stroke-linecap:butt; stroke-linejoin:round; stroke-width:4; stroke-opacity:1; fill:none\" points=\"\n",
       "  1125.55,1337.68 1439.04,1022.87 \n",
       "  \"/>\n",
       "<polyline clip-path=\"url(#clip172)\" style=\"stroke:#000000; stroke-linecap:butt; stroke-linejoin:round; stroke-width:4; stroke-opacity:1; fill:none\" points=\"\n",
       "  1439.04,1022.87 1737.68,1301.35 \n",
       "  \"/>\n",
       "<polyline clip-path=\"url(#clip172)\" style=\"stroke:#000000; stroke-linecap:butt; stroke-linejoin:round; stroke-width:4; stroke-opacity:1; fill:none\" points=\"\n",
       "  1439.04,1022.87 1274.46,262.317 \n",
       "  \"/>\n",
       "<path clip-path=\"url(#clip172)\" d=\"\n",
       "M716.516 298.691 L689.416 251.754 L635.218 251.754 L608.119 298.691 L635.218 345.628 L689.416 345.628 L716.516 298.691 L716.516 298.691  Z\n",
       "  \" fill=\"#ff0000\" fill-rule=\"evenodd\" fill-opacity=\"1\"/>\n",
       "<polyline clip-path=\"url(#clip172)\" style=\"stroke:#000000; stroke-linecap:butt; stroke-linejoin:round; stroke-width:4; stroke-opacity:1; fill:none\" points=\"\n",
       "  716.516,298.691 689.416,251.754 635.218,251.754 608.119,298.691 635.218,345.628 689.416,345.628 716.516,298.691 \n",
       "  \"/>\n",
       "<path clip-path=\"url(#clip172)\" d=\"\n",
       "M1015.17 577.125 L988.069 530.188 L933.871 530.188 L906.771 577.125 L933.871 624.063 L988.069 624.063 L1015.17 577.125 L1015.17 577.125  Z\n",
       "  \" fill=\"#ff0000\" fill-rule=\"evenodd\" fill-opacity=\"1\"/>\n",
       "<polyline clip-path=\"url(#clip172)\" style=\"stroke:#000000; stroke-linecap:butt; stroke-linejoin:round; stroke-width:4; stroke-opacity:1; fill:none\" points=\"\n",
       "  1015.17,577.125 988.069,530.188 933.871,530.188 906.771,577.125 933.871,624.063 988.069,624.063 1015.17,577.125 \n",
       "  \"/>\n",
       "<path clip-path=\"url(#clip172)\" d=\"\n",
       "M1167.7 1337.68 L1146.62 1301.18 L1104.47 1301.18 L1083.39 1337.68 L1104.47 1374.19 L1146.62 1374.19 L1167.7 1337.68 L1167.7 1337.68  Z\n",
       "  \" fill=\"#0000ff\" fill-rule=\"evenodd\" fill-opacity=\"1\"/>\n",
       "<polyline clip-path=\"url(#clip172)\" style=\"stroke:#000000; stroke-linecap:butt; stroke-linejoin:round; stroke-width:4; stroke-opacity:1; fill:none\" points=\"\n",
       "  1167.7,1337.68 1146.62,1301.18 1104.47,1301.18 1083.39,1337.68 1104.47,1374.19 1146.62,1374.19 1167.7,1337.68 \n",
       "  \"/>\n",
       "<path clip-path=\"url(#clip172)\" d=\"\n",
       "M1493.24 1022.87 L1466.14 975.936 L1411.94 975.936 L1384.84 1022.87 L1411.94 1069.81 L1466.14 1069.81 L1493.24 1022.87 L1493.24 1022.87  Z\n",
       "  \" fill=\"#ff0000\" fill-rule=\"evenodd\" fill-opacity=\"1\"/>\n",
       "<polyline clip-path=\"url(#clip172)\" style=\"stroke:#000000; stroke-linecap:butt; stroke-linejoin:round; stroke-width:4; stroke-opacity:1; fill:none\" points=\"\n",
       "  1493.24,1022.87 1466.14,975.936 1411.94,975.936 1384.84,1022.87 1411.94,1069.81 1466.14,1069.81 1493.24,1022.87 \n",
       "  \"/>\n",
       "<path clip-path=\"url(#clip172)\" d=\"\n",
       "M1791.88 1301.35 L1764.78 1254.42 L1710.58 1254.42 L1683.48 1301.35 L1710.58 1348.29 L1764.78 1348.29 L1791.88 1301.35 L1791.88 1301.35  Z\n",
       "  \" fill=\"#ff0000\" fill-rule=\"evenodd\" fill-opacity=\"1\"/>\n",
       "<polyline clip-path=\"url(#clip172)\" style=\"stroke:#000000; stroke-linecap:butt; stroke-linejoin:round; stroke-width:4; stroke-opacity:1; fill:none\" points=\"\n",
       "  1791.88,1301.35 1764.78,1254.42 1710.58,1254.42 1683.48,1301.35 1710.58,1348.29 1764.78,1348.29 1791.88,1301.35 \n",
       "  \"/>\n",
       "<path clip-path=\"url(#clip172)\" d=\"\n",
       "M1304.57 262.317 L1289.52 236.241 L1259.41 236.241 L1244.35 262.317 L1259.41 288.393 L1289.52 288.393 L1304.57 262.317 L1304.57 262.317  Z\n",
       "  \" fill=\"#ff0000\" fill-rule=\"evenodd\" fill-opacity=\"1\"/>\n",
       "<polyline clip-path=\"url(#clip172)\" style=\"stroke:#000000; stroke-linecap:butt; stroke-linejoin:round; stroke-width:4; stroke-opacity:1; fill:none\" points=\"\n",
       "  1304.57,262.317 1289.52,236.241 1259.41,236.241 1244.35,262.317 1259.41,288.393 1289.52,288.393 1304.57,262.317 \n",
       "  \"/>\n",
       "<circle clip-path=\"url(#clip172)\" style=\"fill:#ff0000; stroke:none; fill-opacity:1\" cx=\"662.317\" cy=\"298.691\" r=\"2\"/>\n",
       "<circle clip-path=\"url(#clip172)\" style=\"fill:#ff0000; stroke:none; fill-opacity:1\" cx=\"960.97\" cy=\"577.125\" r=\"2\"/>\n",
       "<circle clip-path=\"url(#clip172)\" style=\"fill:#ff0000; stroke:none; fill-opacity:1\" cx=\"1125.55\" cy=\"1337.68\" r=\"2\"/>\n",
       "<circle clip-path=\"url(#clip172)\" style=\"fill:#ff0000; stroke:none; fill-opacity:1\" cx=\"1439.04\" cy=\"1022.87\" r=\"2\"/>\n",
       "<circle clip-path=\"url(#clip172)\" style=\"fill:#ff0000; stroke:none; fill-opacity:1\" cx=\"1737.68\" cy=\"1301.35\" r=\"2\"/>\n",
       "<circle clip-path=\"url(#clip172)\" style=\"fill:#ff0000; stroke:none; fill-opacity:1\" cx=\"1274.46\" cy=\"262.317\" r=\"2\"/>\n",
       "<path clip-path=\"url(#clip170)\" d=\"M653.901 310.368 L660.585 310.368 L660.585 287.298 L653.314 288.756 L653.314 285.029 L660.545 283.571 L664.636 283.571 L664.636 310.368 L671.32 310.368 L671.32 313.811 L653.901 313.811 L653.901 310.368 Z\" fill=\"#000000\" fill-rule=\"evenodd\" fill-opacity=\"1\" /><path clip-path=\"url(#clip170)\" d=\"M956.291 588.802 L970.57 588.802 L970.57 592.245 L951.369 592.245 L951.369 588.802 Q953.698 586.392 957.709 582.341 Q961.739 578.27 962.772 577.095 Q964.737 574.887 965.507 573.368 Q966.297 571.829 966.297 570.35 Q966.297 567.94 964.595 566.421 Q962.914 564.902 960.2 564.902 Q958.276 564.902 956.129 565.57 Q954.002 566.239 951.572 567.596 L951.572 563.464 Q954.043 562.471 956.19 561.965 Q958.337 561.459 960.119 561.459 Q964.818 561.459 967.613 563.808 Q970.408 566.158 970.408 570.087 Q970.408 571.95 969.699 573.632 Q969.011 575.292 967.168 577.561 Q966.661 578.148 963.947 580.964 Q961.233 583.759 956.291 588.802 Z\" fill=\"#000000\" fill-rule=\"evenodd\" fill-opacity=\"1\" /><path clip-path=\"url(#clip170)\" d=\"M1129.26 1336.5 Q1132.2 1337.13 1133.84 1339.11 Q1135.5 1341.1 1135.5 1344.01 Q1135.5 1348.49 1132.42 1350.94 Q1129.34 1353.39 1123.67 1353.39 Q1121.77 1353.39 1119.74 1353.01 Q1117.74 1352.64 1115.59 1351.89 L1115.59 1347.94 Q1117.29 1348.93 1119.32 1349.44 Q1121.34 1349.95 1123.55 1349.95 Q1127.4 1349.95 1129.4 1348.43 Q1131.43 1346.91 1131.43 1344.01 Q1131.43 1341.34 1129.55 1339.84 Q1127.68 1338.32 1124.34 1338.32 L1120.82 1338.32 L1120.82 1334.96 L1124.5 1334.96 Q1127.52 1334.96 1129.12 1333.76 Q1130.72 1332.55 1130.72 1330.28 Q1130.72 1327.95 1129.06 1326.71 Q1127.42 1325.46 1124.34 1325.46 Q1122.66 1325.46 1120.73 1325.82 Q1118.81 1326.19 1116.5 1326.96 L1116.5 1323.31 Q1118.83 1322.66 1120.86 1322.34 Q1122.9 1322.02 1124.7 1322.02 Q1129.36 1322.02 1132.08 1324.14 Q1134.79 1326.25 1134.79 1329.85 Q1134.79 1332.37 1133.35 1334.11 Q1131.92 1335.83 1129.26 1336.5 Z\" fill=\"#000000\" fill-rule=\"evenodd\" fill-opacity=\"1\" /><path clip-path=\"url(#clip170)\" d=\"M1441.67 1011.32 L1431.34 1027.46 L1441.67 1027.46 L1441.67 1011.32 M1440.6 1007.75 L1445.74 1007.75 L1445.74 1027.46 L1450.06 1027.46 L1450.06 1030.86 L1445.74 1030.86 L1445.74 1037.99 L1441.67 1037.99 L1441.67 1030.86 L1428.02 1030.86 L1428.02 1026.91 L1440.6 1007.75 Z\" fill=\"#000000\" fill-rule=\"evenodd\" fill-opacity=\"1\" /><path clip-path=\"url(#clip170)\" d=\"M1729.18 1286.23 L1745.24 1286.23 L1745.24 1289.68 L1732.92 1289.68 L1732.92 1297.09 Q1733.81 1296.79 1734.71 1296.64 Q1735.6 1296.48 1736.49 1296.48 Q1741.55 1296.48 1744.51 1299.26 Q1747.47 1302.03 1747.47 1306.77 Q1747.47 1311.65 1744.43 1314.37 Q1741.39 1317.06 1735.86 1317.06 Q1733.96 1317.06 1731.97 1316.74 Q1730.01 1316.41 1727.9 1315.76 L1727.9 1311.65 Q1729.72 1312.64 1731.67 1313.13 Q1733.61 1313.62 1735.78 1313.62 Q1739.28 1313.62 1741.33 1311.77 Q1743.37 1309.93 1743.37 1306.77 Q1743.37 1303.61 1741.33 1301.77 Q1739.28 1299.93 1735.78 1299.93 Q1734.14 1299.93 1732.5 1300.29 Q1730.88 1300.65 1729.18 1301.42 L1729.18 1286.23 Z\" fill=\"#000000\" fill-rule=\"evenodd\" fill-opacity=\"1\" /><path clip-path=\"url(#clip170)\" d=\"M1274.82 260.687 Q1272.06 260.687 1270.44 262.57 Q1268.84 264.454 1268.84 267.735 Q1268.84 270.996 1270.44 272.9 Q1272.06 274.784 1274.82 274.784 Q1277.57 274.784 1279.17 272.9 Q1280.79 270.996 1280.79 267.735 Q1280.79 264.454 1279.17 262.57 Q1277.57 260.687 1274.82 260.687 M1282.94 247.866 L1282.94 251.592 Q1281.4 250.863 1279.82 250.478 Q1278.26 250.094 1276.72 250.094 Q1272.67 250.094 1270.52 252.828 Q1268.39 255.562 1268.09 261.092 Q1269.29 259.33 1271.09 258.398 Q1272.89 257.446 1275.06 257.446 Q1279.62 257.446 1282.25 260.221 Q1284.9 262.975 1284.9 267.735 Q1284.9 272.394 1282.15 275.209 Q1279.39 278.025 1274.82 278.025 Q1269.57 278.025 1266.79 274.014 Q1264.02 269.984 1264.02 262.348 Q1264.02 255.177 1267.42 250.924 Q1270.83 246.65 1276.56 246.65 Q1278.1 246.65 1279.66 246.954 Q1281.24 247.258 1282.94 247.866 Z\" fill=\"#000000\" fill-rule=\"evenodd\" fill-opacity=\"1\" /></svg>\n"
      ]
     },
     "execution_count": 57,
     "metadata": {},
     "output_type": "execute_result"
    }
   ],
   "source": [
    "path = [1, 2, 6, 4, 5]\n",
    "markercolor = [v in path ? :red : :blue for v in Graphs.vertices(g)]\n",
    "\n",
    "GraphRecipes.graphplot(\n",
    "    g,\n",
    "    curves=false,\n",
    "    names=collect(Graphs.vertices(g)),\n",
    "    node_weights=map(v -> g.vprops[v][:weight], Graphs.vertices(g)),\n",
    "    nodesize=1/5,\n",
    "    markercolor = markercolor\n",
    ")"
   ]
  },
  {
   "cell_type": "markdown",
   "metadata": {},
   "source": [
    "Now, let's say that we want to re-route around node 6"
   ]
  },
  {
   "cell_type": "markdown",
   "metadata": {},
   "source": [
    "Here we define a distance matrix where `distance = 1 / mean(weight_v1, weight_v2)`\n",
    "\n",
    "This enables use to maximize relative likelihood by minimizing distance such that shortest path algorithms will now find the maximum likelihood paths."
   ]
  },
  {
   "cell_type": "markdown",
   "metadata": {},
   "source": [
    "To force-rerouting around 6, we'll set the distance from all nodes to 6 to infinity"
   ]
  },
  {
   "cell_type": "code",
   "execution_count": 58,
   "metadata": {},
   "outputs": [
    {
     "data": {
      "text/plain": [
       "6×6 Matrix{Float64}:\n",
       " Inf         0.333333  Inf   Inf        Inf        Inf\n",
       "  0.333333  Inf         0.4  Inf        Inf        Inf\n",
       " Inf         0.4       Inf    0.4       Inf        Inf\n",
       " Inf        Inf         0.4  Inf         0.333333  Inf\n",
       " Inf        Inf        Inf    0.333333  Inf        Inf\n",
       " Inf        Inf        Inf   Inf        Inf        Inf"
      ]
     },
     "execution_count": 58,
     "metadata": {},
     "output_type": "execute_result"
    }
   ],
   "source": [
    "distance_matrix = create_distance_matrix(g)\n",
    "distance_matrix[6, :] .= Inf\n",
    "distance_matrix[:, 6] .= Inf\n",
    "distance_matrix"
   ]
  },
  {
   "cell_type": "code",
   "execution_count": 59,
   "metadata": {},
   "outputs": [
    {
     "name": "stdout",
     "output_type": "stream",
     "text": [
      "  0.000189 seconds (256 allocations: 27.531 KiB)\n"
     ]
    },
    {
     "data": {
      "image/svg+xml": [
       "<?xml version=\"1.0\" encoding=\"utf-8\"?>\n",
       "<svg xmlns=\"http://www.w3.org/2000/svg\" xmlns:xlink=\"http://www.w3.org/1999/xlink\" width=\"600\" height=\"400\" viewBox=\"0 0 2400 1600\">\n",
       "<defs>\n",
       "  <clipPath id=\"clip200\">\n",
       "    <rect x=\"0\" y=\"0\" width=\"2400\" height=\"1600\"/>\n",
       "  </clipPath>\n",
       "</defs>\n",
       "<path clip-path=\"url(#clip200)\" d=\"\n",
       "M0 1600 L2400 1600 L2400 0 L0 0  Z\n",
       "  \" fill=\"#ffffff\" fill-rule=\"evenodd\" fill-opacity=\"1\"/>\n",
       "<defs>\n",
       "  <clipPath id=\"clip201\">\n",
       "    <rect x=\"480\" y=\"0\" width=\"1681\" height=\"1600\"/>\n",
       "  </clipPath>\n",
       "</defs>\n",
       "<path clip-path=\"url(#clip200)\" d=\"\n",
       "M447.244 1552.76 L1952.76 1552.76 L1952.76 47.2441 L447.244 47.2441  Z\n",
       "  \" fill=\"#ffffff\" fill-rule=\"evenodd\" fill-opacity=\"1\"/>\n",
       "<defs>\n",
       "  <clipPath id=\"clip202\">\n",
       "    <rect x=\"447\" y=\"47\" width=\"1507\" height=\"1507\"/>\n",
       "  </clipPath>\n",
       "</defs>\n",
       "<polyline clip-path=\"url(#clip202)\" style=\"stroke:#000000; stroke-linecap:butt; stroke-linejoin:round; stroke-width:4; stroke-opacity:1; fill:none\" points=\"\n",
       "  1737.68,1337.68 1439.03,1039.04 \n",
       "  \"/>\n",
       "<polyline clip-path=\"url(#clip202)\" style=\"stroke:#000000; stroke-linecap:butt; stroke-linejoin:round; stroke-width:4; stroke-opacity:1; fill:none\" points=\"\n",
       "  1439.03,1039.04 1446.37,625.723 \n",
       "  \"/>\n",
       "<polyline clip-path=\"url(#clip202)\" style=\"stroke:#000000; stroke-linecap:butt; stroke-linejoin:round; stroke-width:4; stroke-opacity:1; fill:none\" points=\"\n",
       "  1439.03,1039.04 953.624,974.28 \n",
       "  \"/>\n",
       "<polyline clip-path=\"url(#clip202)\" style=\"stroke:#000000; stroke-linecap:butt; stroke-linejoin:round; stroke-width:4; stroke-opacity:1; fill:none\" points=\"\n",
       "  1446.37,625.723 960.964,560.968 \n",
       "  \"/>\n",
       "<polyline clip-path=\"url(#clip202)\" style=\"stroke:#000000; stroke-linecap:butt; stroke-linejoin:round; stroke-width:4; stroke-opacity:1; fill:none\" points=\"\n",
       "  960.964,560.968 662.317,262.317 \n",
       "  \"/>\n",
       "<polyline clip-path=\"url(#clip202)\" style=\"stroke:#000000; stroke-linecap:butt; stroke-linejoin:round; stroke-width:4; stroke-opacity:1; fill:none\" points=\"\n",
       "  960.964,560.968 953.624,974.28 \n",
       "  \"/>\n",
       "<path clip-path=\"url(#clip202)\" d=\"\n",
       "M1791.88 1337.68 L1764.78 1290.75 L1710.58 1290.75 L1683.48 1337.68 L1710.58 1384.62 L1764.78 1384.62 L1791.88 1337.68 L1791.88 1337.68  Z\n",
       "  \" fill=\"#008000\" fill-rule=\"evenodd\" fill-opacity=\"1\"/>\n",
       "<polyline clip-path=\"url(#clip202)\" style=\"stroke:#000000; stroke-linecap:butt; stroke-linejoin:round; stroke-width:4; stroke-opacity:1; fill:none\" points=\"\n",
       "  1791.88,1337.68 1764.78,1290.75 1710.58,1290.75 1683.48,1337.68 1710.58,1384.62 1764.78,1384.62 1791.88,1337.68 \n",
       "  \"/>\n",
       "<path clip-path=\"url(#clip202)\" d=\"\n",
       "M1493.23 1039.04 L1466.13 992.098 L1411.93 992.098 L1384.83 1039.04 L1411.93 1085.97 L1466.13 1085.97 L1493.23 1039.04 L1493.23 1039.04  Z\n",
       "  \" fill=\"#008000\" fill-rule=\"evenodd\" fill-opacity=\"1\"/>\n",
       "<polyline clip-path=\"url(#clip202)\" style=\"stroke:#000000; stroke-linecap:butt; stroke-linejoin:round; stroke-width:4; stroke-opacity:1; fill:none\" points=\"\n",
       "  1493.23,1039.04 1466.13,992.098 1411.93,992.098 1384.83,1039.04 1411.93,1085.97 1466.13,1085.97 1493.23,1039.04 \n",
       "  \"/>\n",
       "<path clip-path=\"url(#clip202)\" d=\"\n",
       "M1488.53 625.723 L1467.45 589.217 L1425.29 589.217 L1404.22 625.723 L1425.29 662.23 L1467.45 662.23 L1488.53 625.723 L1488.53 625.723  Z\n",
       "  \" fill=\"#008000\" fill-rule=\"evenodd\" fill-opacity=\"1\"/>\n",
       "<polyline clip-path=\"url(#clip202)\" style=\"stroke:#000000; stroke-linecap:butt; stroke-linejoin:round; stroke-width:4; stroke-opacity:1; fill:none\" points=\"\n",
       "  1488.53,625.723 1467.45,589.217 1425.29,589.217 1404.22,625.723 1425.29,662.23 1467.45,662.23 1488.53,625.723 \n",
       "  \"/>\n",
       "<path clip-path=\"url(#clip202)\" d=\"\n",
       "M1015.16 560.968 L988.063 514.031 L933.865 514.031 L906.766 560.968 L933.865 607.905 L988.063 607.905 L1015.16 560.968 L1015.16 560.968  Z\n",
       "  \" fill=\"#008000\" fill-rule=\"evenodd\" fill-opacity=\"1\"/>\n",
       "<polyline clip-path=\"url(#clip202)\" style=\"stroke:#000000; stroke-linecap:butt; stroke-linejoin:round; stroke-width:4; stroke-opacity:1; fill:none\" points=\"\n",
       "  1015.16,560.968 988.063,514.031 933.865,514.031 906.766,560.968 933.865,607.905 988.063,607.905 1015.16,560.968 \n",
       "  \"/>\n",
       "<path clip-path=\"url(#clip202)\" d=\"\n",
       "M716.516 262.317 L689.416 215.38 L635.218 215.38 L608.119 262.317 L635.218 309.254 L689.416 309.254 L716.516 262.317 L716.516 262.317  Z\n",
       "  \" fill=\"#008000\" fill-rule=\"evenodd\" fill-opacity=\"1\"/>\n",
       "<polyline clip-path=\"url(#clip202)\" style=\"stroke:#000000; stroke-linecap:butt; stroke-linejoin:round; stroke-width:4; stroke-opacity:1; fill:none\" points=\"\n",
       "  716.516,262.317 689.416,215.38 635.218,215.38 608.119,262.317 635.218,309.254 689.416,309.254 716.516,262.317 \n",
       "  \"/>\n",
       "<path clip-path=\"url(#clip202)\" d=\"\n",
       "M983.734 974.28 L968.679 948.204 L938.569 948.204 L923.513 974.28 L938.569 1000.36 L968.679 1000.36 L983.734 974.28 L983.734 974.28  Z\n",
       "  \" fill=\"#ff0000\" fill-rule=\"evenodd\" fill-opacity=\"1\"/>\n",
       "<polyline clip-path=\"url(#clip202)\" style=\"stroke:#000000; stroke-linecap:butt; stroke-linejoin:round; stroke-width:4; stroke-opacity:1; fill:none\" points=\"\n",
       "  983.734,974.28 968.679,948.204 938.569,948.204 923.513,974.28 938.569,1000.36 968.679,1000.36 983.734,974.28 \n",
       "  \"/>\n",
       "<circle clip-path=\"url(#clip202)\" style=\"fill:#008000; stroke:none; fill-opacity:1\" cx=\"1737.68\" cy=\"1337.68\" r=\"2\"/>\n",
       "<circle clip-path=\"url(#clip202)\" style=\"fill:#008000; stroke:none; fill-opacity:1\" cx=\"1439.03\" cy=\"1039.04\" r=\"2\"/>\n",
       "<circle clip-path=\"url(#clip202)\" style=\"fill:#008000; stroke:none; fill-opacity:1\" cx=\"1446.37\" cy=\"625.723\" r=\"2\"/>\n",
       "<circle clip-path=\"url(#clip202)\" style=\"fill:#008000; stroke:none; fill-opacity:1\" cx=\"960.964\" cy=\"560.968\" r=\"2\"/>\n",
       "<circle clip-path=\"url(#clip202)\" style=\"fill:#008000; stroke:none; fill-opacity:1\" cx=\"662.317\" cy=\"262.317\" r=\"2\"/>\n",
       "<circle clip-path=\"url(#clip202)\" style=\"fill:#008000; stroke:none; fill-opacity:1\" cx=\"953.624\" cy=\"974.28\" r=\"2\"/>\n",
       "<path clip-path=\"url(#clip200)\" d=\"M1729.27 1349.36 L1735.95 1349.36 L1735.95 1326.29 L1728.68 1327.75 L1728.68 1324.02 L1735.91 1322.56 L1740 1322.56 L1740 1349.36 L1746.69 1349.36 L1746.69 1352.8 L1729.27 1352.8 L1729.27 1349.36 Z\" fill=\"#000000\" fill-rule=\"evenodd\" fill-opacity=\"1\" /><path clip-path=\"url(#clip200)\" d=\"M1434.35 1050.71 L1448.63 1050.71 L1448.63 1054.16 L1429.43 1054.16 L1429.43 1050.71 Q1431.76 1048.3 1435.77 1044.25 Q1439.8 1040.18 1440.83 1039 Q1442.8 1036.8 1443.57 1035.28 Q1444.36 1033.74 1444.36 1032.26 Q1444.36 1029.85 1442.66 1028.33 Q1440.98 1026.81 1438.26 1026.81 Q1436.34 1026.81 1434.19 1027.48 Q1432.06 1028.15 1429.63 1029.51 L1429.63 1025.37 Q1432.1 1024.38 1434.25 1023.87 Q1436.4 1023.37 1438.18 1023.37 Q1442.88 1023.37 1445.67 1025.72 Q1448.47 1028.07 1448.47 1032 Q1448.47 1033.86 1447.76 1035.54 Q1447.07 1037.2 1445.23 1039.47 Q1444.72 1040.06 1442.01 1042.87 Q1439.29 1045.67 1434.35 1050.71 Z\" fill=\"#000000\" fill-rule=\"evenodd\" fill-opacity=\"1\" /><path clip-path=\"url(#clip200)\" d=\"M1450.09 624.538 Q1453.03 625.166 1454.67 627.151 Q1456.33 629.136 1456.33 632.053 Q1456.33 636.529 1453.25 638.98 Q1450.17 641.431 1444.5 641.431 Q1442.59 641.431 1440.57 641.046 Q1438.56 640.681 1436.42 639.932 L1436.42 635.982 Q1438.12 636.975 1440.14 637.481 Q1442.17 637.987 1444.38 637.987 Q1448.22 637.987 1450.23 636.468 Q1452.26 634.949 1452.26 632.053 Q1452.26 629.379 1450.37 627.88 Q1448.51 626.361 1445.17 626.361 L1441.64 626.361 L1441.64 622.999 L1445.33 622.999 Q1448.35 622.999 1449.95 621.804 Q1451.55 620.589 1451.55 618.32 Q1451.55 615.991 1449.89 614.755 Q1448.25 613.5 1445.17 613.5 Q1443.49 613.5 1441.56 613.864 Q1439.64 614.229 1437.33 614.999 L1437.33 611.353 Q1439.66 610.705 1441.68 610.38 Q1443.73 610.056 1445.53 610.056 Q1450.19 610.056 1452.9 612.183 Q1455.62 614.29 1455.62 617.895 Q1455.62 620.406 1454.18 622.148 Q1452.74 623.87 1450.09 624.538 Z\" fill=\"#000000\" fill-rule=\"evenodd\" fill-opacity=\"1\" /><path clip-path=\"url(#clip200)\" d=\"M963.597 549.413 L953.267 565.556 L963.597 565.556 L963.597 549.413 M962.524 545.848 L967.668 545.848 L967.668 565.556 L971.983 565.556 L971.983 568.958 L967.668 568.958 L967.668 576.088 L963.597 576.088 L963.597 568.958 L949.946 568.958 L949.946 565.009 L962.524 545.848 Z\" fill=\"#000000\" fill-rule=\"evenodd\" fill-opacity=\"1\" /><path clip-path=\"url(#clip200)\" d=\"M653.81 247.197 L669.872 247.197 L669.872 250.64 L657.557 250.64 L657.557 258.054 Q658.449 257.75 659.34 257.608 Q660.231 257.446 661.122 257.446 Q666.186 257.446 669.143 260.221 Q672.1 262.996 672.1 267.735 Q672.1 272.617 669.062 275.331 Q666.024 278.025 660.494 278.025 Q658.59 278.025 656.605 277.701 Q654.641 277.376 652.534 276.728 L652.534 272.617 Q654.357 273.609 656.302 274.095 Q658.246 274.581 660.413 274.581 Q663.917 274.581 665.963 272.738 Q668.009 270.895 668.009 267.735 Q668.009 264.576 665.963 262.732 Q663.917 260.889 660.413 260.889 Q658.773 260.889 657.132 261.254 Q655.512 261.618 653.81 262.388 L653.81 247.197 Z\" fill=\"#000000\" fill-rule=\"evenodd\" fill-opacity=\"1\" /><path clip-path=\"url(#clip200)\" d=\"M953.978 972.649 Q951.224 972.649 949.603 974.533 Q948.003 976.417 948.003 979.698 Q948.003 982.959 949.603 984.863 Q951.224 986.746 953.978 986.746 Q956.733 986.746 958.333 984.863 Q959.953 982.959 959.953 979.698 Q959.953 976.417 958.333 974.533 Q956.733 972.649 953.978 972.649 M962.1 959.828 L962.1 963.555 Q960.561 962.826 958.981 962.441 Q957.421 962.056 955.882 962.056 Q951.831 962.056 949.684 964.791 Q947.557 967.525 947.254 973.054 Q948.449 971.292 950.251 970.361 Q952.054 969.409 954.221 969.409 Q958.778 969.409 961.412 972.183 Q964.065 974.938 964.065 979.698 Q964.065 984.356 961.31 987.172 Q958.556 989.987 953.978 989.987 Q948.732 989.987 945.957 985.977 Q943.182 981.946 943.182 974.31 Q943.182 967.14 946.585 962.887 Q949.988 958.613 955.72 958.613 Q957.259 958.613 958.819 958.917 Q960.399 959.221 962.1 959.828 Z\" fill=\"#000000\" fill-rule=\"evenodd\" fill-opacity=\"1\" /></svg>\n"
      ]
     },
     "execution_count": 59,
     "metadata": {},
     "output_type": "execute_result"
    }
   ],
   "source": [
    "source = 1\n",
    "target = 5\n",
    "\n",
    "yen_k = Graphs.yen_k_shortest_paths(g, source, target, distance_matrix, 2)\n",
    "alt_path = yen_k.paths[1]\n",
    "\n",
    "markercolor = [v in alt_path ? :green : markercolor[v] for v in Graphs.vertices(g)]\n",
    "\n",
    "GraphRecipes.graphplot(\n",
    "    g,\n",
    "    curves=false,\n",
    "    names=collect(Graphs.vertices(g)),\n",
    "    node_weights=map(v -> g.vprops[v][:weight], Graphs.vertices(g)),\n",
    "    nodesize=1/5,\n",
    "    markercolor = markercolor\n",
    ")"
   ]
  }
 ],
 "metadata": {
  "kernelspec": {
   "display_name": "Julia 1.6.3",
   "language": "julia",
   "name": "julia-1.6"
  },
  "language_info": {
   "file_extension": ".jl",
   "mimetype": "application/julia",
   "name": "julia",
   "version": "1.6.3"
  }
 },
 "nbformat": 4,
 "nbformat_minor": 4
}
