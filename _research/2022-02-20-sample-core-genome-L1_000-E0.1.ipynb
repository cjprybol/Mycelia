{
 "cells": [
  {
   "cell_type": "code",
   "execution_count": null,
   "metadata": {},
   "outputs": [],
   "source": [
    "DATE = \"2022-02-20\"\n",
    "TASK = \"sample-core-genome\"\n",
    "DIR = mkpath(\"$(homedir())/workspace/$(DATE)-$(TASK)\")\n",
    "cd(DIR)"
   ]
  },
  {
   "cell_type": "code",
   "execution_count": null,
   "metadata": {},
   "outputs": [],
   "source": [
    "pkgs = [\n",
    "    \"Graphs\",\n",
    "    \"MetaGraphs\",\n",
    "    \"FileIO\",\n",
    "    \"JLD2\",\n",
    "    \"DataStructures\",\n",
    "    \"BioSequences\",\n",
    "    \"Random\",\n",
    "    \"FASTX\",\n",
    "    # \"Revise\",\n",
    "    \"StatsBase\",\n",
    "    \"Statistics\",\n",
    "    \"Clustering\",\n",
    "    \"StatsPlots\",\n",
    "    \"Primes\"\n",
    "]\n",
    "\n",
    "import Pkg\n",
    "# Pkg.add(pkgs)\n",
    "for pkg in pkgs\n",
    "    eval(Meta.parse(\"import $(pkg)\"))\n",
    "end\n",
    "\n",
    "import Mycelia"
   ]
  },
  {
   "cell_type": "code",
   "execution_count": null,
   "metadata": {},
   "outputs": [],
   "source": [
    "function update_remaining_targets(current_walk::AbstractVector{T}, remaining_targets::AbstractSet{T}) where T <: BioSequences.AbstractMer\n",
    "    # assess whether targets have been hit in the canonical space\n",
    "    remaining_targets = setdiff(BioSequences.canonical.(remaining_targets), BioSequences.canonical.(current_walk))\n",
    "    # blow back out into forward and reverse_complement space\n",
    "    remaining_targets = Set{T}(vcat(remaining_targets, BioSequences.reverse_complement.(remaining_targets)))\n",
    "    return remaining_targets\n",
    "end"
   ]
  },
  {
   "cell_type": "code",
   "execution_count": null,
   "metadata": {},
   "outputs": [],
   "source": [
    "function observe(records::AbstractVector{R};\n",
    "                weights=ones(length(records)),\n",
    "                N = length(records),\n",
    "                outfile = \"\",\n",
    "                error_rate = 0.0) where {R <: Union{FASTX.FASTA.Record, FASTX.FASTQ.Record}}\n",
    "    if isempty(outfile)\n",
    "        error(\"no file name supplied\")\n",
    "    end\n",
    "    io = open(outfile, \"w\")\n",
    "    fastx_io = FASTX.FASTA.Writer(io)\n",
    "    for i in 1:N\n",
    "        record = StatsBase.sample(records, StatsBase.weights(weights))\n",
    "        new_seq = Mycelia.observe(FASTX.sequence(record), error_rate=error_rate)\n",
    "        new_seq_id = Random.randstring(Int(ceil(log(length(new_seq) + 1))))\n",
    "        new_seq_description = FASTX.identifier(record)\n",
    "        observed_record = FASTX.FASTA.Record(new_seq_id, new_seq_description, new_seq)\n",
    "        write(fastx_io, observed_record)\n",
    "    end\n",
    "    close(fastx_io)\n",
    "    close(io)\n",
    "    return outfile\n",
    "end"
   ]
  },
  {
   "cell_type": "code",
   "execution_count": null,
   "metadata": {},
   "outputs": [],
   "source": [
    "function assess_downstream_weight(graph, kmer)\n",
    "    # here we look to see if walking forward or backward from the initial node gets us to heavier weight options\n",
    "    score = 0\n",
    "    for neighbor in BioSequences.neighbors(kmer)\n",
    "        try\n",
    "            score += MetaGraphs.get_prop(graph, graph[BioSequences.canonical(neighbor), :kmer], :count)\n",
    "        catch\n",
    "            continue\n",
    "        end\n",
    "    end\n",
    "    return score\n",
    "end"
   ]
  },
  {
   "cell_type": "code",
   "execution_count": null,
   "metadata": {},
   "outputs": [],
   "source": [
    "# vertices should either be entire graph (by default) or a connected component\n",
    "# if people want to work on just the connected component, let them induce a subgraph\n",
    "function find_graph_core(graph; seed=rand(Int))\n",
    "    \n",
    "    Random.seed!(seed)\n",
    "    \n",
    "    T = typeof(MetaGraphs.get_prop(graph, 1, :kmer))\n",
    "    \n",
    "    targets = [MetaGraphs.get_prop(graph, v, :kmer) for v in Graphs.vertices(graph)]\n",
    "    \n",
    "    starting_kmer = first(targets)\n",
    "    max_degree = 0\n",
    "    for node in targets\n",
    "        node_degree = Graphs.degree(graph, graph[node, :kmer])\n",
    "        if node_degree > max_degree\n",
    "            max_degree = node_degree\n",
    "            starting_kmer = node\n",
    "        end\n",
    "    end\n",
    "        \n",
    "    current_walk = [starting_kmer]\n",
    "    prior_walk_length = length(current_walk)\n",
    "    remaining_targets = update_remaining_targets(current_walk, Set(targets))\n",
    "    done = isempty(remaining_targets)\n",
    "    \n",
    "    while !done\n",
    "        # here we look to see if walking forward or backward from the current ends gets us to heavier weight options\n",
    "        # we want to prioritize walks toward higher coverage nodes\n",
    "        forward_score = assess_downstream_weight(graph, last(current_walk))\n",
    "        reverse_score = assess_downstream_weight(graph, BioSequences.reverse_complement(first(current_walk)))\n",
    "        if reverse_score > forward_score\n",
    "            current_walk = reverse(BioSequences.reverse_complement.(current_walk))\n",
    "        end\n",
    "        \n",
    "        forward_source = last(current_walk)\n",
    "        forward_walk, forward_distance = Mycelia.dijkstra(graph, forward_source, remaining_targets, search_strategy=:DFS)\n",
    "        current_walk = vcat(current_walk, forward_walk[2:end])\n",
    "        remaining_targets = update_remaining_targets(current_walk, remaining_targets)\n",
    "        if isempty(remaining_targets)\n",
    "            done = true\n",
    "        else\n",
    "            reverse_source = BioSequences.reverse_complement(first(current_walk))\n",
    "            reverse_walk, reverse_distance = Mycelia.dijkstra(graph, reverse_source, remaining_targets, search_strategy=:DFS)\n",
    "            current_walk = vcat(reverse(BioSequences.reverse_complement.(reverse_walk))[1:end-1], current_walk)\n",
    "            remaining_targets = update_remaining_targets(current_walk, remaining_targets)\n",
    "            current_walk\n",
    "        end\n",
    "        failed_this_expansion = length(current_walk) == prior_walk_length\n",
    "        prior_walk_length = length(current_walk)\n",
    "        if isempty(remaining_targets)\n",
    "            done = true\n",
    "        elseif failed_this_expansion\n",
    "            done = true\n",
    "        end\n",
    "    end\n",
    "    return current_walk\n",
    "end"
   ]
  },
  {
   "cell_type": "code",
   "execution_count": null,
   "metadata": {},
   "outputs": [],
   "source": [
    "function apply_kmedoids_treshold(graph)\n",
    "    kmer_counts = [MetaGraphs.get_prop(graph, v, :count) for v in Graphs.vertices(graph)]\n",
    "\n",
    "    kmer_counts_histogram = sort(collect(StatsBase.countmap(values(kmer_counts))), by=x->x[1])\n",
    "\n",
    "#     scale = 250\n",
    "#     p = Mycelia.plot_kmer_frequency_spectra(values(kmer_counts), size=(2scale,scale), log_scale=log2, title=\"kmer frequencies\")\n",
    "#     display(p)\n",
    "\n",
    "#     p = StatsPlots.scatter(log2.(first.(kmer_counts_histogram)))\n",
    "#     display(p)\n",
    "\n",
    "    kmer_depth_of_coverage_bins = log2.(first.(kmer_counts_histogram))\n",
    "\n",
    "    distance_matrix = zeros((length(kmer_depth_of_coverage_bins), length(kmer_depth_of_coverage_bins)))\n",
    "    for (row, depth_of_coverage_bin_1) in enumerate(kmer_depth_of_coverage_bins)\n",
    "        for (col, depth_of_coverage_bin_2) in enumerate(kmer_depth_of_coverage_bins)\n",
    "            distance = abs(depth_of_coverage_bin_1 - depth_of_coverage_bin_2)\n",
    "            distance_matrix[row, col] = distance\n",
    "        end\n",
    "    end\n",
    "    distance_matrix\n",
    "\n",
    "    # max out k at the same max k we use for DNAMers\n",
    "    max_k = min(length(kmer_depth_of_coverage_bins), 63)\n",
    "    ks = Primes.primes(2, max_k)\n",
    "    ys = map(k ->\n",
    "                Statistics.mean(Statistics.mean(Clustering.silhouettes(Clustering.kmedoids(distance_matrix, k), distance_matrix)) for i in 1:100),\n",
    "                ks)\n",
    "\n",
    "    p = StatsPlots.plot(ks, ys, label=\"silhouette score\", ylabel = \"silhouette score\", xlabel = \"number of clusters\")\n",
    "    display(p)\n",
    "\n",
    "    ymax, ymax_index = findmax(ys)\n",
    "    optimal_k = ks[ymax_index]\n",
    "    clusterings = [Clustering.kmedoids(distance_matrix, optimal_k) for i in 1:10]\n",
    "    max_value, max_value_index = findmax(clustering -> Statistics.mean(Clustering.silhouettes(clustering, distance_matrix)), clusterings)\n",
    "    optimal_clustering = clusterings[max_value_index]\n",
    "    # optimal_clustering.assignments\n",
    "    min_medoid_value, min_medoid_index = findmin(optimal_clustering.medoids)\n",
    "    indices_to_include = map(assignment -> assignment .!= min_medoid_index, optimal_clustering.assignments)\n",
    "    # kmer_depth_of_coverage_bins\n",
    "    threshold = Int(ceil(2^maximum(kmer_depth_of_coverage_bins[.!indices_to_include]))) + 1\n",
    "\n",
    "    scale = 250\n",
    "    p = Mycelia.plot_kmer_frequency_spectra(values(kmer_counts), log_scale = log2, size=(2scale,scale), title=\"kmer frequencies\")\n",
    "    StatsPlots.vline!(p, log2.([threshold]))\n",
    "    display(p)\n",
    "\n",
    "    # find all vertices with count > threshold\n",
    "    vertices_to_keep = [v for v in Graphs.vertices(graph) if (MetaGraphs.get_prop(graph, v, :count) > threshold)]\n",
    "    # induce subgraph\n",
    "    induced_subgraph, vertex_map = Graphs.induced_subgraph(graph, vertices_to_keep)\n",
    "\n",
    "    # set kmer as indexing prop\n",
    "    MetaGraphs.set_indexing_prop!(induced_subgraph, :kmer)\n",
    "    return induced_subgraph\n",
    "end"
   ]
  },
  {
   "cell_type": "code",
   "execution_count": null,
   "metadata": {},
   "outputs": [],
   "source": [
    "# Create a reference sequence\n",
    "L = 1_000\n",
    "seed = 0\n",
    "# seed = 1\n",
    "# seed = 2\n",
    "# seed = 3\n",
    "# seed = 4\n",
    "# seed = 5\n",
    "# seed = 6\n",
    "# seed = 7\n",
    "# seed = 8\n",
    "# seed = 9\n",
    "record = Mycelia.random_fasta_record(seed=seed, L=L)"
   ]
  },
  {
   "cell_type": "code",
   "execution_count": null,
   "metadata": {},
   "outputs": [],
   "source": [
    "error_rate = 0.1"
   ]
  },
  {
   "cell_type": "code",
   "execution_count": null,
   "metadata": {},
   "outputs": [],
   "source": [
    "observations_file = \"$(DIR)/N-$L.observations.fasta\"\n",
    "observe([record], N=L, outfile=observations_file, error_rate=error_rate)"
   ]
  },
  {
   "cell_type": "code",
   "execution_count": null,
   "metadata": {},
   "outputs": [],
   "source": [
    "chosen_k = Mycelia.assess_kmer_saturation([observations_file]; outdir=\"$(observations_file).kmer-assessements\")"
   ]
  },
  {
   "cell_type": "code",
   "execution_count": null,
   "metadata": {},
   "outputs": [],
   "source": [
    "T = BioSequences.BigDNAMer{chosen_k}\n",
    "# T = BioSequences.BigDNAMer{61}"
   ]
  },
  {
   "cell_type": "code",
   "execution_count": null,
   "metadata": {},
   "outputs": [],
   "source": [
    "graph = Mycelia.fastx_to_kmer_graph(T, observations_file)"
   ]
  },
  {
   "cell_type": "code",
   "execution_count": null,
   "metadata": {},
   "outputs": [],
   "source": [
    "Mycelia.graph_to_gfa(graph, \"$(observations_file).gfa\")"
   ]
  },
  {
   "cell_type": "code",
   "execution_count": null,
   "metadata": {},
   "outputs": [],
   "source": [
    "FASTX.sequence(record)"
   ]
  },
  {
   "cell_type": "code",
   "execution_count": null,
   "metadata": {},
   "outputs": [],
   "source": [
    "join(map(kmer -> graph[kmer, :kmer], BioSequences.canonical.(BioSequences.each(T, FASTX.sequence(record)))), ',')"
   ]
  },
  {
   "cell_type": "code",
   "execution_count": null,
   "metadata": {},
   "outputs": [],
   "source": [
    "join(map(kmer -> string(graph[BioSequences.canonical(kmer), :kmer]) * (BioSequences.iscanonical(kmer.fw) ? '+' : '-'), collect(BioSequences.each(T, FASTX.sequence(record)))), ',')"
   ]
  },
  {
   "cell_type": "code",
   "execution_count": null,
   "metadata": {},
   "outputs": [],
   "source": [
    "filtered_graph = apply_kmedoids_treshold(graph)"
   ]
  },
  {
   "cell_type": "code",
   "execution_count": null,
   "metadata": {},
   "outputs": [],
   "source": [
    "seed = 0\n",
    "core_path = find_graph_core(filtered_graph, seed=seed)\n",
    "reconstruted_sequence = Mycelia.kmer_path_to_sequence(core_path)\n",
    "Mycelia.is_equivalent(reconstruted_sequence, FASTX.sequence(record))"
   ]
  },
  {
   "cell_type": "code",
   "execution_count": null,
   "metadata": {},
   "outputs": [],
   "source": [
    "seed += 1\n",
    "@show seed\n",
    "core_path = find_graph_core(filtered_graph, seed=seed)\n",
    "reconstruted_sequence = Mycelia.kmer_path_to_sequence(core_path)\n",
    "Mycelia.is_equivalent(reconstruted_sequence, FASTX.sequence(record))"
   ]
  }
 ],
 "metadata": {
  "kernelspec": {
   "display_name": "Julia 1.7.2",
   "language": "julia",
   "name": "julia-1.7"
  },
  "language_info": {
   "file_extension": ".jl",
   "mimetype": "application/julia",
   "name": "julia",
   "version": "1.7.2"
  }
 },
 "nbformat": 4,
 "nbformat_minor": 4
}
