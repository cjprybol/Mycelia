{
 "cells": [
  {
   "cell_type": "code",
   "execution_count": null,
   "metadata": {},
   "outputs": [],
   "source": [
    "DATE = \"2022-01-26\"\n",
    "TASK = \"sample-core-genome-circular-recycle\"\n",
    "DIR = mkpath(\"$(homedir())/workspace/$(DATE)-$(TASK)\")\n",
    "cd(DIR)"
   ]
  },
  {
   "cell_type": "code",
   "execution_count": null,
   "metadata": {},
   "outputs": [],
   "source": [
    "pkgs = [\n",
    "    \"Graphs\",\n",
    "    \"MetaGraphs\",\n",
    "    \"FileIO\",\n",
    "    \"JLD2\",\n",
    "    \"DataStructures\",\n",
    "    \"BioSequences\",\n",
    "    \"Random\",\n",
    "    \"FASTX\",\n",
    "    \"Revise\",\n",
    "    \"StatsBase\"\n",
    "]\n",
    "\n",
    "import Pkg\n",
    "Pkg.add(pkgs)\n",
    "for pkg in pkgs\n",
    "    eval(Meta.parse(\"import $(basename(pkg))\"))\n",
    "end\n",
    "\n",
    "import Mycelia"
   ]
  },
  {
   "cell_type": "code",
   "execution_count": null,
   "metadata": {},
   "outputs": [],
   "source": [
    "function kmer_path_to_sequence(kmer_path)\n",
    "    sequence = BioSequences.LongDNASeq(first(kmer_path))\n",
    "    for kmer in kmer_path[2:end]\n",
    "        @assert kmer[1] == sequence[end-1]\n",
    "        @assert kmer[2] == sequence[end]\n",
    "        push!(sequence, kmer[end])\n",
    "    end\n",
    "    return sequence\n",
    "end"
   ]
  },
  {
   "cell_type": "code",
   "execution_count": null,
   "metadata": {},
   "outputs": [],
   "source": [
    "function update_remaining_targets(current_walk::AbstractVector{T}, remaining_targets::AbstractSet{T}) where T <: BioSequences.AbstractMer\n",
    "    # assess whether targets have been hit in the canonical space\n",
    "    remaining_targets = setdiff(BioSequences.canonical.(remaining_targets), BioSequences.canonical.(current_walk))\n",
    "    # blow back out into forward and reverse_complement space\n",
    "    remaining_targets = Set{T}(vcat(remaining_targets, BioSequences.reverse_complement.(remaining_targets)))\n",
    "    return remaining_targets\n",
    "end"
   ]
  },
  {
   "cell_type": "code",
   "execution_count": null,
   "metadata": {},
   "outputs": [],
   "source": [
    "# vertices should either be entire graph (by default) or a connected component\n",
    "# if people want to work on just the connected component, let them induce a subgraph\n",
    "function find_graph_core(graph; seed=rand(Int))\n",
    "    \n",
    "    Random.seed!(seed)\n",
    "    \n",
    "#     T = typeof(MetaGraphs.get_prop(graph, 1, :kmer))\n",
    "    \n",
    "    selected_nodes = Set([\n",
    "        MetaGraphs.get_prop(graph, i, :kmer) for (i, v) in enumerate(Graphs.vertices(graph))\n",
    "            if Graphs.degree(graph, v) >= 3])\n",
    "    # take the hub nodes!\n",
    "#     selected_nodes = [\n",
    "#         MetaGraphs.get_prop(graph, i, :kmer) for (i, v) in enumerate(Graphs.vertices(graph))\n",
    "#             if Graphs.degree(graph, v) >= 3]\n",
    "#     selected_node_counts = [MetaGraphs.get_prop(graph, :kmer_counts)[kmer] for kmer in selected_nodes]\n",
    "#     max_value, index = findmax(selected_node_counts)\n",
    "#     starting_node = selected_nodes[index]\n",
    "#     starting_node = StatsBase.sample(selected_nodes, StatsBase.weights(selected_node_counts))\n",
    "    \n",
    "    max_kmer_count = MetaGraphs.get_prop(graph, 1, :count)\n",
    "    starting_kmer = MetaGraphs.get_prop(graph, 1, :kmer)\n",
    "    for i in 2:Graphs.nv(graph)\n",
    "        this_count = MetaGraphs.get_prop(graph, i, :count)\n",
    "        if this_count > max_kmer_count\n",
    "            max_kmer_count = this_count\n",
    "            starting_kmer = MetaGraphs.get_prop(graph, i, :kmer)\n",
    "        end\n",
    "    end\n",
    "    \n",
    "    current_walk = [starting_kmer]\n",
    "    prior_walk_length = length(current_walk)\n",
    "    \n",
    "    remaining_targets = update_remaining_targets(current_walk, selected_nodes)\n",
    "#     @show current_walk\n",
    "#     @show remaining_targets\n",
    "    \n",
    "#     targets = setdiff(selected_nodes, current_walk)\n",
    "#     remaining_targets = Set{T}(vcat(targets, BioSequences.reverse_complement.(targets)))\n",
    "    done = isempty(remaining_targets)\n",
    "    \n",
    "    while !done\n",
    "        forward_source = last(current_walk)\n",
    "        reverse_source = BioSequences.reverse_complement(first(current_walk))\n",
    "        \n",
    "        forward_walk, forward_distance = Mycelia.dijkstra(graph, forward_source, remaining_targets, search_strategy=:DFS)\n",
    "#         current_walk = vcat(current_walk, forward_walk[2:end])\n",
    "#         remaining_targets = update_remaining_targets(current_walk, remaining_targets)\n",
    "#         @show current_walk\n",
    "#         @show remaining_targets\n",
    "        reverse_walk, reverse_distance = Mycelia.dijkstra(graph, reverse_source, remaining_targets, search_strategy=:DFS)\n",
    "#         current_walk = vcat(reverse(BioSequences.reverse_complement.(reverse_walk))[1:end-1], current_walk)\n",
    "        current_walk = vcat(reverse(BioSequences.reverse_complement.(reverse_walk))[1:end-1], current_walk, forward_walk[2:end])\n",
    "        remaining_targets = update_remaining_targets(current_walk, remaining_targets)\n",
    "\n",
    "#         @show current_walk\n",
    "#         @show remaining_targets\n",
    "        \n",
    "#         # assess whether targets have been hit in the canonical space\n",
    "#         remaining_targets = setdiff(BioSequences.canonical.(remaining_targets), BioSequences.canonical.(current_walk))\n",
    "#         # blow back out into forward and reverse_complement space\n",
    "#         remaining_targets = Set{T}(vcat(remaining_targets, BioSequences.reverse_complement.(remaining_targets)))    \n",
    "        failed_this_expansion = length(current_walk) == prior_walk_length\n",
    "        prior_walk_length = length(current_walk)\n",
    "        \n",
    "        if isempty(remaining_targets)\n",
    "            done = true\n",
    "        elseif failed_this_expansion\n",
    "            done = true\n",
    "        end\n",
    "    end\n",
    "\n",
    "#     @show current_walk\n",
    "    # if we haven't closed a loop, try and walk out to ends of contigs/chromosomes\n",
    "    if first(current_walk) != last(current_walk)\n",
    "        forward_source = last(current_walk)\n",
    "        reverse_source = BioSequences.reverse_complement(first(current_walk))\n",
    "        forward_walk, forward_distance = Mycelia.dijkstra(graph, forward_source, remaining_targets, search_strategy=:DFS)\n",
    "        reverse_walk, reverse_distance = Mycelia.dijkstra(graph, reverse_source, remaining_targets, search_strategy=:DFS)\n",
    "        current_walk = vcat(reverse(BioSequences.reverse_complement.(reverse_walk))[1:end-1], current_walk, forward_walk[2:end])\n",
    "    end\n",
    "    return current_walk\n",
    "end     "
   ]
  },
  {
   "cell_type": "code",
   "execution_count": null,
   "metadata": {},
   "outputs": [],
   "source": [
    "# Create a reference sequence\n",
    "refseq = push!(BioSequences.randdnaseq(Random.seed!(2), 9), BioSequences.DNA_C)"
   ]
  },
  {
   "cell_type": "code",
   "execution_count": null,
   "metadata": {},
   "outputs": [],
   "source": [
    "altseq = copy(refseq)\n",
    "altseq[5] = BioSequences.DNA_T\n",
    "altseq"
   ]
  },
  {
   "cell_type": "code",
   "execution_count": null,
   "metadata": {},
   "outputs": [],
   "source": [
    "fasta_file = \"$(DIR)/test.fasta\"\n",
    "open(fasta_file, \"w\") do io\n",
    "    fastx_io = FASTX.FASTA.Writer(io)\n",
    "    i = 1\n",
    "    for x in 1:2\n",
    "        write(fastx_io, FASTX.FASTA.Record(\"$i\", refseq))\n",
    "        i += 1\n",
    "    end\n",
    "    write(fastx_io, FASTX.FASTA.Record(\"$i\", altseq))\n",
    "    close(fastx_io)\n",
    "end\n",
    "println(read(fasta_file, String))"
   ]
  },
  {
   "cell_type": "code",
   "execution_count": null,
   "metadata": {},
   "outputs": [],
   "source": [
    "k = 3\n",
    "T = BioSequences.BigDNAMer{3}"
   ]
  },
  {
   "cell_type": "code",
   "execution_count": null,
   "metadata": {},
   "outputs": [],
   "source": [
    "graph = Mycelia.fastx_to_kmer_graph(T, fasta_file)"
   ]
  },
  {
   "cell_type": "code",
   "execution_count": null,
   "metadata": {},
   "outputs": [],
   "source": [
    "Mycelia.plot_graph(graph)"
   ]
  },
  {
   "cell_type": "code",
   "execution_count": null,
   "metadata": {},
   "outputs": [],
   "source": [
    "seed = 0\n",
    "core_path = find_graph_core(graph, seed=seed)"
   ]
  },
  {
   "cell_type": "code",
   "execution_count": null,
   "metadata": {},
   "outputs": [],
   "source": [
    "selected_vertices = map(canonical_kmer -> graph[canonical_kmer, :kmer], unique(BioSequences.canonical.(core_path)))\n",
    "subgraph, vertex_map = Graphs.induced_subgraph(graph, selected_vertices)\n",
    "Mycelia.plot_graph(subgraph)"
   ]
  },
  {
   "cell_type": "code",
   "execution_count": null,
   "metadata": {},
   "outputs": [],
   "source": [
    "reconstruted_sequence = kmer_path_to_sequence(core_path)"
   ]
  },
  {
   "cell_type": "code",
   "execution_count": null,
   "metadata": {},
   "outputs": [],
   "source": [
    "refseq"
   ]
  },
  {
   "cell_type": "code",
   "execution_count": null,
   "metadata": {},
   "outputs": [],
   "source": [
    "seed += 1\n",
    "@show seed\n",
    "core_path = find_graph_core(graph, seed=seed)"
   ]
  }
 ],
 "metadata": {
  "kernelspec": {
   "display_name": "Julia 1.6.3",
   "language": "julia",
   "name": "julia-1.6"
  },
  "language_info": {
   "file_extension": ".jl",
   "mimetype": "application/julia",
   "name": "julia",
   "version": "1.6.3"
  }
 },
 "nbformat": 4,
 "nbformat_minor": 4
}
