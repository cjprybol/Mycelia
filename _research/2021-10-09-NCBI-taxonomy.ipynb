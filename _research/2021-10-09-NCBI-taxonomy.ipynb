{
 "cells": [
  {
   "cell_type": "code",
   "execution_count": 1,
   "metadata": {},
   "outputs": [],
   "source": [
    "TODAY=\"2021-10-09\"\n",
    "TASK = \"NCBI-taxonomy\"\n",
    "DIR = \"$(homedir())/$(TODAY)-$(TASK)\"\n",
    "if !isdir(DIR)\n",
    "    mkdir(DIR)\n",
    "end\n",
    "cd(DIR)"
   ]
  },
  {
   "cell_type": "code",
   "execution_count": 2,
   "metadata": {},
   "outputs": [],
   "source": [
    "import Pkg\n",
    "pkgs = [\n",
    "    \"BioAlignments\",\n",
    "    \"BioSequences\",\n",
    "    \"Clustering\",\n",
    "    \"CodecZlib\",\n",
    "#     \"Colors\",\n",
    "#     \"Combinatorics\",\n",
    "    \"DataFrames\",\n",
    "    \"DataStructures\",\n",
    "    \"Dates\",\n",
    "#     \"DelimitedFiles\",\n",
    "    \"Distances\",\n",
    "    \"Distributions\",\n",
    "#     \"EzXML\",\n",
    "    \"FASTX\",\n",
    "#     \"GFF3\",\n",
    "    \"GLM\",\n",
    "    \"GraphPlot\",\n",
    "#     \"HTTP\",\n",
    "#     \"Impute\",\n",
    "#     \"JSON\",\n",
    "    \"Graphs\",\n",
    "    \"LsqFit\",\n",
    "#     \"LSHFunctions\",\n",
    "#     \"Measures\",\n",
    "    \"MetaGraphs\",\n",
    "    \"https://github.com/cjprybol/Mycelia.git\",\n",
    "    \"MultivariateStats\",\n",
    "#     \"NumericIO\",\n",
    "    \"OnlineStats\",\n",
    "#     \"PlotlyJS\",\n",
    "#     \"Plots\",\n",
    "    \"Primes\",\n",
    "#     \"Printf\",\n",
    "    \"ProgressMeter\",\n",
    "    \"Random\",\n",
    "    \"Revise\",\n",
    "    \"SparseArrays\",\n",
    "    \"Statistics\",\n",
    "    \"StatsBase\",\n",
    "    \"StatsPlots\",\n",
    "#     \"StringDistances\",\n",
    "    \"uCSV\",\n",
    "#     \"XLSX\",\n",
    "    \"RollingFunctions\",\n",
    "]\n",
    "\n",
    "unregistered_packages = filter(pkg -> occursin(r\"(^https|git$)\", pkg), pkgs)\n",
    "registered_packages = setdiff(pkgs, unregistered_packages)\n",
    "\n",
    "for pkg in registered_packages\n",
    "    try\n",
    "        eval(Meta.parse(\"import $(pkg)\"))\n",
    "    catch\n",
    "        Pkg.add(pkg)\n",
    "        Pkg.build(pkg)\n",
    "        eval(Meta.parse(\"import $(pkg)\"))\n",
    "    end\n",
    "end\n",
    "\n",
    "for pkg_url in unregistered_packages\n",
    "    pkg_name = replace(basename(pkg_url), \".git\" => \"\")\n",
    "    try\n",
    "        eval(Meta.parse(\"import $(pkg_name)\"))\n",
    "    catch\n",
    "        Pkg.develop(url=pkg_url)\n",
    "        Pkg.build(pkg_name)\n",
    "        eval(Meta.parse(\"import $(pkg_name)\"))\n",
    "    end\n",
    "end"
   ]
  },
  {
   "cell_type": "code",
   "execution_count": null,
   "metadata": {},
   "outputs": [],
   "source": [
    "# 2021-05-12T16:16:17 jovyan@jupyter-cameron-2eprybol:~/2021-05-12-staph-phage-pangenome/taxdump\n",
    "# $ ll\n",
    "# total 373M\n",
    "# -rw-r--r-- 1 jovyan  18M May 12 15:28 citations.dmp\n",
    "# -rw-r--r-- 1 jovyan 4.1M May 12 15:26 delnodes.dmp\n",
    "# -rw-r--r-- 1 jovyan  452 May 12 15:20 division.dmp\n",
    "# -rw-r--r-- 1 jovyan  17K May 12 15:28 gc.prt\n",
    "# -rw-r--r-- 1 jovyan 4.9K May 12 15:20 gencode.dmp\n",
    "# -rw-r--r-- 1 jovyan 1.2M May 12 15:26 merged.dmp\n",
    "# -rw-r--r-- 1 jovyan 198M May 12 15:28 names.dmp\n",
    "# -rw-r--r-- 1 jovyan 153M May 12 15:28 nodes.dmp\n",
    "# -rw-r----- 1 jovyan 2.7K Sep 11  2019 readme.txt"
   ]
  },
  {
   "cell_type": "code",
   "execution_count": 3,
   "metadata": {},
   "outputs": [
    {
     "data": {
      "text/plain": [
       "\"/home/jovyan/2021-10-09-NCBI-taxonomy/taxdump.tar.gz\""
      ]
     },
     "execution_count": 3,
     "metadata": {},
     "output_type": "execute_result"
    }
   ],
   "source": [
    "taxdump_url = \"https://ftp.ncbi.nih.gov/pub/taxonomy/taxdump.tar.gz\"\n",
    "taxdump_local_tarball = \"$(DIR)/$(basename(taxdump_url))\"\n",
    "if !isfile(taxdump_local_tarball)\n",
    "    download(taxdump_url, taxdump_local_tarball)\n",
    "end"
   ]
  },
  {
   "cell_type": "code",
   "execution_count": 4,
   "metadata": {},
   "outputs": [
    {
     "name": "stdout",
     "output_type": "stream",
     "text": [
      "citations.dmp\n",
      "delnodes.dmp\n",
      "division.dmp\n",
      "gencode.dmp\n",
      "merged.dmp\n",
      "names.dmp\n",
      "nodes.dmp\n",
      "gc.prt\n",
      "readme.txt\n"
     ]
    },
    {
     "data": {
      "text/plain": [
       "Process(`\u001b[4mtar\u001b[24m \u001b[4m-xvzf\u001b[24m \u001b[4m/home/jovyan/2021-10-09-NCBI-taxonomy/taxdump.tar.gz\u001b[24m \u001b[4m-C\u001b[24m \u001b[4m/home/jovyan/2021-10-09-NCBI-taxonomy/taxdump\u001b[24m`, ProcessExited(0))"
      ]
     },
     "execution_count": 4,
     "metadata": {},
     "output_type": "execute_result"
    }
   ],
   "source": [
    "taxdump_out = replace(taxdump_local_tarball, \".tar.gz\" => \"\")\n",
    "if !isdir(taxdump_out)\n",
    "    mkpath(taxdump_out)\n",
    "    run(`tar -xvzf $(taxdump_local_tarball) -C $(taxdump_out)`)\n",
    "end"
   ]
  },
  {
   "cell_type": "code",
   "execution_count": 5,
   "metadata": {},
   "outputs": [
    {
     "data": {
      "text/plain": [
       "9-element Vector{String}:\n",
       " \"citations.dmp\"\n",
       " \"delnodes.dmp\"\n",
       " \"division.dmp\"\n",
       " \"gc.prt\"\n",
       " \"gencode.dmp\"\n",
       " \"merged.dmp\"\n",
       " \"names.dmp\"\n",
       " \"nodes.dmp\"\n",
       " \"readme.txt\""
      ]
     },
     "execution_count": 5,
     "metadata": {},
     "output_type": "execute_result"
    }
   ],
   "source": [
    "readdir(taxdump_out)"
   ]
  },
  {
   "cell_type": "code",
   "execution_count": 6,
   "metadata": {},
   "outputs": [
    {
     "name": "stderr",
     "output_type": "stream",
     "text": [
      "\u001b[32mProgress: 100%|█████████████████████████████████████████| Time: 0:00:27\u001b[39m39m\n"
     ]
    },
    {
     "data": {
      "text/html": [
       "<div class=\"data-frame\"><p>3,485,771 rows × 4 columns (omitted printing of 2 columns)</p><table class=\"data-frame\"><thead><tr><th></th><th>tax_id</th><th>name_txt</th></tr><tr><th></th><th title=\"Int64\">Int64</th><th title=\"String\">String</th></tr></thead><tbody><tr><th>1</th><td>1</td><td>all</td></tr><tr><th>2</th><td>1</td><td>root</td></tr><tr><th>3</th><td>2</td><td>Bacteria</td></tr><tr><th>4</th><td>2</td><td>bacteria</td></tr><tr><th>5</th><td>2</td><td>eubacteria</td></tr><tr><th>6</th><td>2</td><td>Monera</td></tr><tr><th>7</th><td>2</td><td>Procaryotae</td></tr><tr><th>8</th><td>2</td><td>Prokaryotae</td></tr><tr><th>9</th><td>2</td><td>Prokaryota</td></tr><tr><th>10</th><td>2</td><td>prokaryote</td></tr><tr><th>11</th><td>2</td><td>prokaryotes</td></tr><tr><th>12</th><td>6</td><td>Azorhizobium Dreyfus et al. 1988 emend. Lang et al. 2013</td></tr><tr><th>13</th><td>6</td><td>Azorhizobium</td></tr><tr><th>14</th><td>7</td><td>ATCC 43989</td></tr><tr><th>15</th><td>7</td><td>Azorhizobium caulinodans Dreyfus et al. 1988</td></tr><tr><th>16</th><td>7</td><td>Azorhizobium caulinodans</td></tr><tr><th>17</th><td>7</td><td>Azotirhizobium caulinodans</td></tr><tr><th>18</th><td>7</td><td>CCUG 26647</td></tr><tr><th>19</th><td>7</td><td>DSM 5975</td></tr><tr><th>20</th><td>7</td><td>IFO 14845</td></tr><tr><th>21</th><td>7</td><td>JCM 20966</td></tr><tr><th>22</th><td>7</td><td>LMG 6465</td></tr><tr><th>23</th><td>7</td><td>LMG:6465</td></tr><tr><th>24</th><td>7</td><td>NBRC 14845</td></tr><tr><th>25</th><td>7</td><td>ORS 571</td></tr><tr><th>26</th><td>9</td><td>Acyrthosiphon pisum symbiont P</td></tr><tr><th>27</th><td>9</td><td>Buchnera aphidicola Munson et al. 1991</td></tr><tr><th>28</th><td>9</td><td>Buchnera aphidicola</td></tr><tr><th>29</th><td>9</td><td>primary endosymbiont of Schizaphis graminum</td></tr><tr><th>30</th><td>10</td><td>Cellvibrio (ex Winogradsky 1929) Blackall et al. 1986 emend. Humphry et al. 2003</td></tr><tr><th>&vellip;</th><td>&vellip;</td><td>&vellip;</td></tr></tbody></table></div>"
      ],
      "text/latex": [
       "\\begin{tabular}{r|ccc}\n",
       "\t& tax\\_id & name\\_txt & \\\\\n",
       "\t\\hline\n",
       "\t& Int64 & String & \\\\\n",
       "\t\\hline\n",
       "\t1 & 1 & all & $\\dots$ \\\\\n",
       "\t2 & 1 & root & $\\dots$ \\\\\n",
       "\t3 & 2 & Bacteria & $\\dots$ \\\\\n",
       "\t4 & 2 & bacteria & $\\dots$ \\\\\n",
       "\t5 & 2 & eubacteria & $\\dots$ \\\\\n",
       "\t6 & 2 & Monera & $\\dots$ \\\\\n",
       "\t7 & 2 & Procaryotae & $\\dots$ \\\\\n",
       "\t8 & 2 & Prokaryotae & $\\dots$ \\\\\n",
       "\t9 & 2 & Prokaryota & $\\dots$ \\\\\n",
       "\t10 & 2 & prokaryote & $\\dots$ \\\\\n",
       "\t11 & 2 & prokaryotes & $\\dots$ \\\\\n",
       "\t12 & 6 & Azorhizobium Dreyfus et al. 1988 emend. Lang et al. 2013 & $\\dots$ \\\\\n",
       "\t13 & 6 & Azorhizobium & $\\dots$ \\\\\n",
       "\t14 & 7 & ATCC 43989 & $\\dots$ \\\\\n",
       "\t15 & 7 & Azorhizobium caulinodans Dreyfus et al. 1988 & $\\dots$ \\\\\n",
       "\t16 & 7 & Azorhizobium caulinodans & $\\dots$ \\\\\n",
       "\t17 & 7 & Azotirhizobium caulinodans & $\\dots$ \\\\\n",
       "\t18 & 7 & CCUG 26647 & $\\dots$ \\\\\n",
       "\t19 & 7 & DSM 5975 & $\\dots$ \\\\\n",
       "\t20 & 7 & IFO 14845 & $\\dots$ \\\\\n",
       "\t21 & 7 & JCM 20966 & $\\dots$ \\\\\n",
       "\t22 & 7 & LMG 6465 & $\\dots$ \\\\\n",
       "\t23 & 7 & LMG:6465 & $\\dots$ \\\\\n",
       "\t24 & 7 & NBRC 14845 & $\\dots$ \\\\\n",
       "\t25 & 7 & ORS 571 & $\\dots$ \\\\\n",
       "\t26 & 9 & Acyrthosiphon pisum symbiont P & $\\dots$ \\\\\n",
       "\t27 & 9 & Buchnera aphidicola Munson et al. 1991 & $\\dots$ \\\\\n",
       "\t28 & 9 & Buchnera aphidicola & $\\dots$ \\\\\n",
       "\t29 & 9 & primary endosymbiont of Schizaphis graminum & $\\dots$ \\\\\n",
       "\t30 & 10 & Cellvibrio (ex Winogradsky 1929) Blackall et al. 1986 emend. Humphry et al. 2003 & $\\dots$ \\\\\n",
       "\t$\\dots$ & $\\dots$ & $\\dots$ &  \\\\\n",
       "\\end{tabular}\n"
      ],
      "text/plain": [
       "\u001b[1m3485771×4 DataFrame\u001b[0m\n",
       "\u001b[1m     Row \u001b[0m│\u001b[1m tax_id  \u001b[0m\u001b[1m name_txt                          \u001b[0m\n",
       "\u001b[1m         \u001b[0m│\u001b[90m Int64   \u001b[0m\u001b[90m String                            \u001b[0m\n",
       "─────────┼──────────────────────────────────────────────────\n",
       "       1 │       1  all\n",
       "       2 │       1  root\n",
       "       3 │       2  Bacteria\n",
       "       4 │       2  bacteria\n",
       "       5 │       2  eubacteria\n",
       "       6 │       2  Monera\n",
       "       7 │       2  Procaryotae\n",
       "       8 │       2  Prokaryotae\n",
       "       9 │       2  Prokaryota\n",
       "      10 │       2  prokaryote\n",
       "      11 │       2  prokaryotes\n",
       "    ⋮    │    ⋮                     ⋮                  ⋮  ⋮\n",
       " 3485762 │ 2881426  Prochlorococcaceae\n",
       " 3485763 │ 2881427  \"Parasynechococcus\" Coutinho, Ts…\n",
       " 3485764 │ 2881427  Parasynechococcus Coutinho, Tsch…\n",
       " 3485765 │ 2881427  Parasynechococcus\n",
       " 3485766 │ 2881428  CBFS A-094-1\n",
       " 3485767 │ 2881428  Parasynechococcus marenigrum Cou…\n",
       " 3485768 │ 2881428  Parasynechococcus marenigrum\n",
       " 3485769 │ 2881428  strain WH 8102\n",
       " 3485770 │ 2883098  Candidatus Mesenet\n",
       " 3485771 │ 2883098  \"Candidatus Mesenet\" Takano et a…\n",
       "\u001b[36m                          2 columns and 3485750 rows omitted\u001b[0m"
      ]
     },
     "execution_count": 6,
     "metadata": {},
     "output_type": "execute_result"
    }
   ],
   "source": [
    "# Taxonomy names file (names.dmp):\n",
    "# \ttax_id\t\t\t\t\t-- the id of node associated with this name\n",
    "# \tname_txt\t\t\t\t-- name itself\n",
    "# \tunique name\t\t\t\t-- the unique variant of this name if name not unique\n",
    "# \tname class\t\t\t\t-- (synonym, common name, ...)\n",
    "\n",
    "names_dmp = DataFrames.DataFrame(\n",
    "    tax_id = Int[],\n",
    "    name_txt = String[],\n",
    "    unique_name = String[],\n",
    "    name_class = String[]\n",
    ")\n",
    "ProgressMeter.@showprogress for line in split(read(open(\"$(taxdump_out)/names.dmp\"), String), \"\\t|\\n\")\n",
    "    if isempty(line)\n",
    "        continue\n",
    "    else\n",
    "        (tax_id_string, name_txt, unique_name, name_class) = split(line, \"\\t|\\t\")\n",
    "        tax_id = parse(Int, tax_id_string)\n",
    "        row = (;tax_id, name_txt, unique_name, name_class)\n",
    "        push!(names_dmp, row)\n",
    "    end\n",
    "end\n",
    "names_dmp"
   ]
  },
  {
   "cell_type": "code",
   "execution_count": 7,
   "metadata": {},
   "outputs": [
    {
     "data": {
      "text/plain": [
       "2368832-element Vector{Int64}:\n",
       "       1\n",
       "       2\n",
       "       6\n",
       "       7\n",
       "       9\n",
       "      10\n",
       "      11\n",
       "      13\n",
       "      14\n",
       "      16\n",
       "      17\n",
       "      18\n",
       "      19\n",
       "       ⋮\n",
       " 2881377\n",
       " 2881378\n",
       " 2881379\n",
       " 2881380\n",
       " 2881381\n",
       " 2881383\n",
       " 2881384\n",
       " 2881385\n",
       " 2881426\n",
       " 2881427\n",
       " 2881428\n",
       " 2883098"
      ]
     },
     "execution_count": 7,
     "metadata": {},
     "output_type": "execute_result"
    }
   ],
   "source": [
    "unique_tax_ids = unique(names_dmp[!, \"tax_id\"])"
   ]
  },
  {
   "cell_type": "code",
   "execution_count": 8,
   "metadata": {},
   "outputs": [
    {
     "name": "stderr",
     "output_type": "stream",
     "text": [
      "\u001b[32mProgress: 100%|█████████████████████████████████████████| Time: 0:00:48\u001b[39m39m\n"
     ]
    }
   ],
   "source": [
    "ncbi_taxonomy = MetaGraphs.MetaDiGraph(length(unique_tax_ids))\n",
    "ProgressMeter.@showprogress for (index, group) in enumerate(collect(DataFrames.groupby(names_dmp, \"tax_id\")))\n",
    "    MetaGraphs.set_prop!(ncbi_taxonomy, index, :tax_id, group[1, \"tax_id\"])\n",
    "    for row in DataFrames.eachrow(group)\n",
    "        unique_name = isempty(row[\"unique_name\"]) ? row[\"name_txt\"] : row[\"unique_name\"]\n",
    "        # remove quotes since neo4j doesn't like them\n",
    "        unique_name = replace(unique_name, '\"' => \"\")\n",
    "        # replace spaces and dashes with underscores\n",
    "        name_class = Symbol(replace(replace(row[\"name_class\"], r\"\\s+\" => \"-\"), \"-\" => \"_\"))\n",
    "#         name_class = Symbol(row[\"name_class\"])\n",
    "        if haskey(MetaGraphs.props(ncbi_taxonomy, index), name_class)\n",
    "            current_value = MetaGraphs.get_prop(ncbi_taxonomy, index, name_class)\n",
    "            if (current_value isa Array) && !(unique_name in current_value)\n",
    "                new_value = [current_value..., unique_name]\n",
    "                MetaGraphs.set_prop!(ncbi_taxonomy, index, name_class, new_value)\n",
    "            elseif !(current_value isa Array) && (current_value != unique_name)\n",
    "                new_value = [current_value, unique_name]\n",
    "                MetaGraphs.set_prop!(ncbi_taxonomy, index, name_class, new_value)\n",
    "            else\n",
    "                continue\n",
    "            end\n",
    "        else\n",
    "            MetaGraphs.set_prop!(ncbi_taxonomy, index, name_class, unique_name)\n",
    "        end\n",
    "    end\n",
    "end"
   ]
  },
  {
   "cell_type": "code",
   "execution_count": 13,
   "metadata": {},
   "outputs": [
    {
     "data": {
      "text/plain": [
       "Dict{Any, Any} with 12 entries:\n",
       "  5  => Dict{Symbol, SubString{String}}(:division_name=>\"Primates\", :division_c…\n",
       "  8  => Dict{Symbol, SubString{String}}(:division_name=>\"Unassigned\", :division…\n",
       "  1  => Dict{Symbol, SubString{String}}(:division_name=>\"Invertebrates\", :divis…\n",
       "  0  => Dict{Symbol, SubString{String}}(:division_name=>\"Bacteria\", :division_c…\n",
       "  6  => Dict{Symbol, SubString{String}}(:division_name=>\"Rodents\", :division_cd…\n",
       "  11 => Dict{Symbol, SubString{String}}(:division_name=>\"Environmental samples\"…\n",
       "  9  => Dict{Symbol, SubString{String}}(:division_name=>\"Viruses\", :division_cd…\n",
       "  3  => Dict{Symbol, SubString{String}}(:division_name=>\"Phages\", :division_cde…\n",
       "  7  => Dict{Symbol, SubString{String}}(:division_name=>\"Synthetic and Chimeric…\n",
       "  4  => Dict{Symbol, SubString{String}}(:division_name=>\"Plants and Fungi\", :di…\n",
       "  2  => Dict{Symbol, SubString{String}}(:division_name=>\"Mammals\", :division_cd…\n",
       "  10 => Dict{Symbol, SubString{String}}(:division_name=>\"Vertebrates\", :divisio…"
      ]
     },
     "execution_count": 13,
     "metadata": {},
     "output_type": "execute_result"
    }
   ],
   "source": [
    "divisions = Dict()\n",
    "for line in split(read(open(\"$(taxdump_out)/division.dmp\"), String), \"\\t|\\n\")\n",
    "    if !isempty(line)\n",
    "        (id_string, shorthand, full_name, notes) = split(line, \"\\t|\\t\")\n",
    "        id = parse(Int, id_string)\n",
    "        divisions[id] = Dict(:division_cde => shorthand, :division_name => full_name)\n",
    "    end\n",
    "end\n",
    "divisions"
   ]
  },
  {
   "cell_type": "code",
   "execution_count": 14,
   "metadata": {},
   "outputs": [
    {
     "data": {
      "text/plain": [
       "2368832-element Vector{Int64}:\n",
       "       1\n",
       "       2\n",
       "       6\n",
       "       7\n",
       "       9\n",
       "      10\n",
       "      11\n",
       "      13\n",
       "      14\n",
       "      16\n",
       "      17\n",
       "      18\n",
       "      19\n",
       "       ⋮\n",
       " 2881377\n",
       " 2881378\n",
       " 2881379\n",
       " 2881380\n",
       " 2881381\n",
       " 2881383\n",
       " 2881384\n",
       " 2881385\n",
       " 2881426\n",
       " 2881427\n",
       " 2881428\n",
       " 2883098"
      ]
     },
     "execution_count": 14,
     "metadata": {},
     "output_type": "execute_result"
    }
   ],
   "source": [
    "node_2_taxid_map = map(index -> ncbi_taxonomy.vprops[index][:tax_id], Graphs.vertices(ncbi_taxonomy))"
   ]
  },
  {
   "cell_type": "code",
   "execution_count": 15,
   "metadata": {},
   "outputs": [
    {
     "name": "stderr",
     "output_type": "stream",
     "text": [
      "\u001b[32mProgress: 100%|█████████████████████████████████████████| Time: 0:01:16\u001b[39m\n"
     ]
    }
   ],
   "source": [
    "ProgressMeter.@showprogress for line in split(read(open(\"$(taxdump_out)/nodes.dmp\"), String), \"\\t|\\n\")\n",
    "    if isempty(line)\n",
    "        continue\n",
    "    else\n",
    "        (tax_id_string, parent_tax_id_string, rank, embl_code, division_id_string) = split(line, \"\\t|\\t\")\n",
    "        \n",
    "        \n",
    "        division_id = parse(Int, division_id_string)\n",
    "        \n",
    "        tax_id = parse(Int, tax_id_string)\n",
    "        lightgraphs_tax_ids = searchsorted(node_2_taxid_map, tax_id)\n",
    "        @assert length(lightgraphs_tax_ids) == 1\n",
    "        lightgraphs_tax_id = first(lightgraphs_tax_ids)\n",
    "        \n",
    "        parent_tax_id = parse(Int, parent_tax_id_string)\n",
    "        lightgraphs_parent_tax_ids = searchsorted(node_2_taxid_map, parent_tax_id)\n",
    "        @assert length(lightgraphs_parent_tax_ids) == 1\n",
    "        lightgraphs_parent_tax_id = first(lightgraphs_parent_tax_ids)\n",
    "        \n",
    "        Graphs.add_edge!(ncbi_taxonomy, lightgraphs_tax_id, lightgraphs_parent_tax_id)\n",
    "        MetaGraphs.set_prop!(ncbi_taxonomy, lightgraphs_tax_id, :rank, rank)\n",
    "        # these should probably be broken out as independent nodes!\n",
    "        MetaGraphs.set_prop!(ncbi_taxonomy, lightgraphs_tax_id, :division_id, division_id)\n",
    "        MetaGraphs.set_prop!(ncbi_taxonomy, lightgraphs_tax_id, :division_cde, divisions[division_id][:division_cde])\n",
    "        MetaGraphs.set_prop!(ncbi_taxonomy, lightgraphs_tax_id, :division_name, divisions[division_id][:division_name])\n",
    "    end\n",
    "end"
   ]
  },
  {
   "cell_type": "code",
   "execution_count": 18,
   "metadata": {},
   "outputs": [
    {
     "data": {
      "text/plain": [
       "Dict{Symbol, Any} with 7 entries:\n",
       "  :tax_id          => 6\n",
       "  :division_id     => 0\n",
       "  :division_name   => \"Bacteria\"\n",
       "  :scientific_name => \"Azorhizobium\"\n",
       "  :rank            => \"genus\"\n",
       "  :authority       => \"Azorhizobium Dreyfus et al. 1988 emend. Lang et al. 2013\"\n",
       "  :division_cde    => \"BCT\""
      ]
     },
     "execution_count": 18,
     "metadata": {},
     "output_type": "execute_result"
    }
   ],
   "source": [
    "ncbi_taxonomy.vprops[3]"
   ]
  },
  {
   "cell_type": "code",
   "execution_count": 29,
   "metadata": {},
   "outputs": [],
   "source": [
    "# this file got to 50Gb before I killed the job\n",
    "# don't write out, just always rebuild from disk\n",
    "# MetaGraphs.savemg(\"ncbi-taxonomy.metagraph-jl\", ncbi_taxonomy)"
   ]
  },
  {
   "cell_type": "code",
   "execution_count": 26,
   "metadata": {},
   "outputs": [
    {
     "name": "stdout",
     "output_type": "stream",
     "text": [
      "Pair{Any, Int64}(\"subkingdom\", 1)\n",
      "Pair{Any, Int64}(\"superphylum\", 1)\n",
      "Pair{Any, Int64}(\"subcohort\", 3)\n",
      "Pair{Any, Int64}(\"superkingdom\", 4)\n",
      "Pair{Any, Int64}(\"pathogroup\", 5)\n",
      "Pair{Any, Int64}(\"cohort\", 5)\n",
      "Pair{Any, Int64}(\"superclass\", 6)\n",
      "Pair{Any, Int64}(\"series\", 9)\n",
      "Pair{Any, Int64}(\"morph\", 12)\n",
      "Pair{Any, Int64}(\"kingdom\", 13)\n",
      "Pair{Any, Int64}(\"biotype\", 17)\n",
      "Pair{Any, Int64}(\"infraclass\", 18)\n",
      "Pair{Any, Int64}(\"genotype\", 20)\n",
      "Pair{Any, Int64}(\"subsection\", 21)\n",
      "Pair{Any, Int64}(\"parvorder\", 26)\n",
      "Pair{Any, Int64}(\"subphylum\", 32)\n",
      "Pair{Any, Int64}(\"superorder\", 54)\n",
      "Pair{Any, Int64}(\"species subgroup\", 127)\n",
      "Pair{Any, Int64}(\"infraorder\", 130)\n",
      "Pair{Any, Int64}(\"serogroup\", 140)\n",
      "Pair{Any, Int64}(\"subclass\", 163)\n",
      "Pair{Any, Int64}(\"phylum\", 290)\n",
      "Pair{Any, Int64}(\"species group\", 339)\n",
      "Pair{Any, Int64}(\"suborder\", 374)\n",
      "Pair{Any, Int64}(\"class\", 447)\n",
      "Pair{Any, Int64}(\"section\", 476)\n",
      "Pair{Any, Int64}(\"subtribe\", 574)\n",
      "Pair{Any, Int64}(\"forma\", 597)\n",
      "Pair{Any, Int64}(\"forma specialis\", 737)\n",
      "Pair{Any, Int64}(\"superfamily\", 866)\n",
      "Pair{Any, Int64}(\"clade\", 899)\n",
      "Pair{Any, Int64}(\"serotype\", 1241)\n",
      "Pair{Any, Int64}(\"isolate\", 1321)\n",
      "Pair{Any, Int64}(\"order\", 1701)\n",
      "Pair{Any, Int64}(\"subgenus\", 1706)\n",
      "Pair{Any, Int64}(\"tribe\", 2264)\n",
      "Pair{Any, Int64}(\"subfamily\", 3130)\n",
      "Pair{Any, Int64}(\"varietas\", 8834)\n",
      "Pair{Any, Int64}(\"family\", 9654)\n",
      "Pair{Any, Int64}(\"subspecies\", 25889)\n",
      "Pair{Any, Int64}(\"strain\", 44840)\n",
      "Pair{Any, Int64}(\"genus\", 100737)\n",
      "Pair{Any, Int64}(\"no rank\", 227585)\n",
      "Pair{Any, Int64}(\"species\", 1933524)\n"
     ]
    }
   ],
   "source": [
    "rank_counts =\n",
    "    sort(\n",
    "        collect(\n",
    "            StatsBase.countmap(\n",
    "                ncbi_taxonomy.vprops[v][:rank] for v in Graphs.vertices(ncbi_taxonomy))),\n",
    "        by=x->x[2])\n",
    "for rank_count in rank_counts\n",
    "    println(rank_count)\n",
    "end"
   ]
  },
  {
   "cell_type": "code",
   "execution_count": null,
   "metadata": {},
   "outputs": [],
   "source": [
    "Pair{Any, Int64}(\"kingdom\", 13)\n",
    "Pair{Any, Int64}(\"phylum\", 290)\n",
    "Pair{Any, Int64}(\"order\", 1701)\n",
    "Pair{Any, Int64}(\"family\", 9654)\n",
    "Pair{Any, Int64}(\"genus\", 100737)\n",
    "Pair{Any, Int64}(\"species\", 1933524)"
   ]
  },
  {
   "cell_type": "code",
   "execution_count": null,
   "metadata": {},
   "outputs": [],
   "source": [
    "# k__Bacteria|p__Firmicutes|c__Clostridia|o__Clostridiales|f__Clostridiaceae|g__Clostridium|s__Clostridium_leptum 0.30871"
   ]
  },
  {
   "cell_type": "code",
   "execution_count": null,
   "metadata": {},
   "outputs": [],
   "source": [
    "# sorted list of kingdoms\n",
    "# sorted list of phylums\n",
    "# sorted list of orders\n",
    "# families\n",
    "# genera\n",
    "# species"
   ]
  },
  {
   "cell_type": "code",
   "execution_count": null,
   "metadata": {},
   "outputs": [],
   "source": [
    "# go from sorted list and n samples to sparse matrices for each level"
   ]
  },
  {
   "cell_type": "code",
   "execution_count": null,
   "metadata": {},
   "outputs": [],
   "source": []
  }
 ],
 "metadata": {
  "kernelspec": {
   "display_name": "Julia 1.6.3",
   "language": "julia",
   "name": "julia-1.6"
  },
  "language_info": {
   "file_extension": ".jl",
   "mimetype": "application/julia",
   "name": "julia",
   "version": "1.6.3"
  }
 },
 "nbformat": 4,
 "nbformat_minor": 4
}
