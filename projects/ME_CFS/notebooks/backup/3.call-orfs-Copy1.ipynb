{
 "cells": [
  {
   "cell_type": "code",
   "execution_count": 1,
   "id": "ec8d7934-0f61-47b6-b4f7-beeabac80260",
   "metadata": {},
   "outputs": [],
   "source": [
    "# ENV[\"LD_LIBRARY_PATH\"] = \"\"\n",
    "# import Pkg\n",
    "# Pkg.activate(\".\")\n",
    "# Pkg.update()\n",
    "# import Mycelia"
   ]
  },
  {
   "cell_type": "code",
   "execution_count": 2,
   "id": "fb58ad1e",
   "metadata": {},
   "outputs": [
    {
     "data": {
      "text/plain": [
       "\"/oak/stanford/scg/lab_mpsnyder/cjprybol/Mycelia/projects/ME-CFS/data\""
      ]
     },
     "execution_count": 2,
     "metadata": {},
     "output_type": "execute_result"
    }
   ],
   "source": [
    "data_dir = joinpath(dirname(pwd()), \"data\")\n",
    "# SRR_paths = filter(x -> !occursin(\".ipynb_checkpoints\", x), readdir(joinpath(data_dir, \"SRA\"), join=true))"
   ]
  },
  {
   "cell_type": "code",
   "execution_count": 4,
   "id": "bcda52ad-7cda-49e9-bee9-d4db898738d4",
   "metadata": {},
   "outputs": [
    {
     "data": {
      "text/plain": [
       "13-element Vector{String}:\n",
       " \"/oak/stanford/scg/lab_mpsnyder/cjprybol/Mycelia/projects/ME-CFS/data/LO_FA\"\n",
       " \"/oak/stanford/scg/lab_mpsnyder/cjprybol/Mycelia/projects/ME-CFS/data/LO_MO\"\n",
       " \"/oak/stanford/scg/lab_mpsnyder/cjprybol/Mycelia/projects/ME-CFS/data/LO_PROB\"\n",
       " \"/oak/stanford/scg/lab_mpsnyder/cjprybol/Mycelia/projects/ME-CFS/data/RA_PROB\"\n",
       " \"/oak/stanford/scg/lab_mpsnyder/cjprybol/Mycelia/projects/ME-CFS/data/RI_1BRO\"\n",
       " \"/oak/stanford/scg/lab_mpsnyder/cjprybol/Mycelia/projects/ME-CFS/data/RI_3BRO\"\n",
       " \"/oak/stanford/scg/lab_mpsnyder/cjprybol/Mycelia/projects/ME-CFS/data/RI_FA\"\n",
       " \"/oak/stanford/scg/lab_mpsnyder/cjprybol/Mycelia/projects/ME-CFS/data/RI_MGF\"\n",
       " \"/oak/stanford/scg/lab_mpsnyder/cjprybol/Mycelia/projects/ME-CFS/data/RI_MO\"\n",
       " \"/oak/stanford/scg/lab_mpsnyder/cjprybol/Mycelia/projects/ME-CFS/data/RI_MaUn\"\n",
       " \"/oak/stanford/scg/lab_mpsnyder/cjprybol/Mycelia/projects/ME-CFS/data/RI_PROB\"\n",
       " \"/oak/stanford/scg/lab_mpsnyder/cjprybol/Mycelia/projects/ME-CFS/data/RI_UC\"\n",
       " \"/oak/stanford/scg/lab_mpsnyder/cjprybol/Mycelia/projects/ME-CFS/data/VA_PROB\""
      ]
     },
     "execution_count": 4,
     "metadata": {},
     "output_type": "execute_result"
    }
   ],
   "source": [
    "sample_directories = readdir(data_dir, join=true)"
   ]
  },
  {
   "cell_type": "code",
   "execution_count": 8,
   "id": "3b6f9140-c949-4048-a626-3cd4afb57b44",
   "metadata": {},
   "outputs": [
    {
     "data": {
      "text/plain": [
       "4-element Vector{String}:\n",
       " \"/oak/stanford/scg/lab_mpsnyder/cjprybol/Mycelia/projects/ME-CFS/data/LO_FA/LO_FA_CKDN230005699-1A_H3TLGDSX7_L1_trimgalore\"\n",
       " \"/oak/stanford/scg/lab_mpsnyder/cjprybol/Mycelia/projects/ME-CFS/data/LO_FA/LO_FA_CKDN230005699-1A_H5HNJDSX7_L2_trimgalore\"\n",
       " \"/oak/stanford/scg/lab_mpsnyder/cjprybol/Mycelia/projects/ME-CFS/data/LO_FA/LO_FA_CKDN230005699-1A_H5HVHDSX7_L1_trimgalore\"\n",
       " \"/oak/stanford/scg/lab_mpsnyder/cjprybol/Mycelia/projects/ME-CFS/data/LO_FA/LO_FA_CKDN230005699-1A_H5HYWDSX7_L2_trimgalore\""
      ]
     },
     "execution_count": 8,
     "metadata": {},
     "output_type": "execute_result"
    }
   ],
   "source": [
    "sample_subdirectories = filter(x -> occursin(r\"_trimgalore\", x), readdir(first(sample_directories), join=true))"
   ]
  },
  {
   "cell_type": "code",
   "execution_count": 15,
   "id": "bcc77f3c-6179-4c30-871c-d59b25148de4",
   "metadata": {},
   "outputs": [
    {
     "data": {
      "text/plain": [
       "2-element Vector{String}:\n",
       " \"/oak/stanford/scg/lab_mpsnyder/cjprybol/Mycelia/projects/ME-CFS/data/LO_FA/LO_FA_CKDN230005699-1A_H3TLGDSX7_L1_trimgalore/LO_FA_CKDN230005699-1A_H3TLGDSX7_L1.GCF_000001405.40_GRCh38.p14_genomic.fna.sorted.bam.unmapped_megahit\"\n",
       " \"/oak/stanford/scg/lab_mpsnyder/cjprybol/Mycelia/projects/ME-CFS/data/LO_FA/LO_FA_CKDN230005699-1A_H3TLGDSX7_L1_trimgalore/LO_FA_CKDN230005699-1A_H3TLGDSX7_L1_megahit\""
      ]
     },
     "execution_count": 15,
     "metadata": {},
     "output_type": "execute_result"
    }
   ],
   "source": [
    "assembly_directories = filter(x -> occursin(r\"_megahit\", x), readdir(first(sample_subdirectories), join=true))"
   ]
  },
  {
   "cell_type": "code",
   "execution_count": 16,
   "id": "d3c756a6-105e-4623-b7e2-ecfe72447195",
   "metadata": {},
   "outputs": [
    {
     "data": {
      "text/plain": [
       "10-element Vector{String}:\n",
       " \"checkpoints.txt\"\n",
       " \"done\"\n",
       " \"final.contigs.fa\"\n",
       " \"final.contigs.fastg\"\n",
       " \"final.contigs.fastg.gfa\"\n",
       " \"final.contigs.fastg.gfa.bandage.jpg\"\n",
       " \"final.contigs.fastg.gfa.fna\"\n",
       " \"intermediate_contigs\"\n",
       " \"log\"\n",
       " \"options.json\""
      ]
     },
     "execution_count": 16,
     "metadata": {},
     "output_type": "execute_result"
    }
   ],
   "source": [
    "readdir(first(assembly_directories))"
   ]
  },
  {
   "cell_type": "code",
   "execution_count": null,
   "id": "34762ea5-c4bc-4f14-bb20-cb059d823206",
   "metadata": {},
   "outputs": [],
   "source": [
    "\"LO_FA_CKDN230005699-1A_H3TLGDSX7_L1_megahit\""
   ]
  },
  {
   "cell_type": "code",
   "execution_count": null,
   "id": "7ad780b7-1168-4050-a183-eebbf6c6a0bc",
   "metadata": {},
   "outputs": [],
   "source": [
    "# run(`conda create -n prodigal -c bioconda prodigal`)\n",
    "for SRR_path in SRR_paths\n",
    "    fasta = joinpath(SRR_path, \"megahit\", \"final.contigs.fastg.gfa.fna\")\n",
    "    prodigal_directory = fasta * \"_prodigal\"\n",
    "    base = prodigal_directory * \"/\" * basename(fasta)\n",
    "    expected_outputs = Set([\"$(base).prodigal.all_potential_gene_scores.txt\", \"$(base).prodigal.faa\", \"$(base).prodigal.fna\", \"$(base).prodigal.gff\"])\n",
    "    different_outputs = setdiff(expected_outputs, readdir(prodigal_directory, join=true))\n",
    "    mkpath(prodigal_directory)\n",
    "    if !isempty(different_outputs)\n",
    "        run(`conda run --no-capture-output -n prodigal prodigal -m -p meta -i $(fasta) -f gff -o $(base).prodigal.gff -a $(base).prodigal.faa -d $(base).prodigal.fna -s $(base).prodigal.all_potential_gene_scores.txt`)\n",
    "#         run(`sbatch 3.prodigal.sh $(assembled_fasta)`)\n",
    "#         Mycelia.run_prodigal()\n",
    "    end\n",
    "end"
   ]
  }
 ],
 "metadata": {
  "kernelspec": {
   "display_name": "Julia 1.6.7",
   "language": "julia",
   "name": "julia-1.6"
  },
  "language_info": {
   "file_extension": ".jl",
   "mimetype": "application/julia",
   "name": "julia",
   "version": "1.6.7"
  }
 },
 "nbformat": 4,
 "nbformat_minor": 5
}
