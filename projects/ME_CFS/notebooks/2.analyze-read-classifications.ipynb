{
 "cells": [
  {
   "cell_type": "code",
   "execution_count": null,
   "id": "28afd0da-a1e3-48ad-a12a-8bbb3a8d19c2",
   "metadata": {
    "tags": []
   },
   "outputs": [],
   "source": [
    "import Pkg\n",
    "# Pkg.activate(\".\")\n",
    "# Pkg.add(\"Revise\")\n",
    "# import Revise\n",
    "\n",
    "# Pkg.develop(path=\"../../..\")\n",
    "# import Mycelia\n",
    "\n",
    "pkgs = [\n",
    "\"DataFrames\",\n",
    "\"StatsBase\",\n",
    "\"StatsPlots\",\n",
    "\"uCSV\",\n",
    "\"ProgressMeter\",\n",
    "\"Distances\",\n",
    "\"Clustering\",\n",
    "\"Colors\",\n",
    "\"MultivariateStats\"\n",
    "]\n",
    "Pkg.add(pkgs)\n",
    "for pkg in pkgs\n",
    "    eval(Meta.parse(\"import $pkg\"))\n",
    "end"
   ]
  },
  {
   "cell_type": "code",
   "execution_count": null,
   "id": "ebc54d53-21ec-4098-b1c9-8c8e67d4193a",
   "metadata": {
    "tags": []
   },
   "outputs": [],
   "source": [
    "data_dir = joinpath(dirname(pwd()), \"data\")"
   ]
  },
  {
   "cell_type": "code",
   "execution_count": null,
   "id": "51c29934-2fb9-44fb-968e-1cf5a8c907ed",
   "metadata": {
    "tags": []
   },
   "outputs": [],
   "source": [
    "results_dir = joinpath(data_dir, \"results\")"
   ]
  },
  {
   "cell_type": "code",
   "execution_count": null,
   "id": "ae8fdad2-6653-4ef9-b22a-63f795d183ca",
   "metadata": {
    "tags": []
   },
   "outputs": [],
   "source": [
    "kraken_db = \"k2_pluspfp_20221209\""
   ]
  },
  {
   "cell_type": "code",
   "execution_count": null,
   "id": "0c9d3c0d-6ca1-47f9-802b-d352ee889822",
   "metadata": {
    "tags": []
   },
   "outputs": [],
   "source": [
    "viral_taxids = Set(Mycelia.list_subtaxa(10239))\n",
    "taxon_levels = Mycelia.list_ranks()"
   ]
  },
  {
   "cell_type": "code",
   "execution_count": null,
   "id": "3a6be592-0df7-49ea-ba1c-ab66b5ff7ea2",
   "metadata": {
    "tags": []
   },
   "outputs": [],
   "source": [
    "# i = 1\n",
    "# i = 2\n",
    "# i = 3\n",
    "# i = 4\n",
    "# i = 5\n",
    "# i = 6\n",
    "# i = 7\n",
    "i = 8\n",
    "\n",
    "#### i = 9\n",
    "\n",
    "(taxon_index, taxon_level) = collect(enumerate(taxon_levels))[i]\n",
    "println(\"$(taxon_index) - $(taxon_level)\")\n",
    "rank_table = Mycelia.list_rank(taxon_level)"
   ]
  },
  {
   "cell_type": "code",
   "execution_count": null,
   "id": "633b8ff5-5874-4f87-bbfa-b2920b04216a",
   "metadata": {
    "tags": []
   },
   "outputs": [],
   "source": [
    "if taxon_index > 2\n",
    "    taxid_is_viral = map(taxid -> taxid in viral_taxids, rank_table[!, \"taxid\"])\n",
    "    rank_table = rank_table[taxid_is_viral, :]\n",
    "end\n",
    "rank_table"
   ]
  },
  {
   "cell_type": "code",
   "execution_count": null,
   "id": "d3929cb8-501c-431a-bf9c-b1aee1462cf1",
   "metadata": {
    "tags": []
   },
   "outputs": [],
   "source": [
    "# println(\"$(taxon_index) - $(taxon_level)\")\n",
    "# rank_table = Mycelia.list_rank(taxon_level)\n",
    "rank_taxids = Set(rank_table[!, \"taxid\"])\n",
    "\n",
    "cross_sample_taxon_report = joinpath(results_dir, \"$(kraken_db).$(taxon_level).tsv\")\n",
    "cross_sample_taxon_figure_png = joinpath(results_dir, \"$(kraken_db).$(taxon_level).png\")\n",
    "# cross_sample_taxon_figure_svg = joinpath(results_dir, \"$(kraken_db).$(taxon_level).svg\")\n",
    "cross_sample_taxon_figure_skip_unclassified_png = joinpath(results_dir, \"$(kraken_db).$(taxon_level).skip_unclassified.png\")\n",
    "if !isfile(cross_sample_taxon_report)\n",
    "    cross_sample_taxon_report_table = DataFrames.DataFrame()\n",
    "    ProgressMeter.@showprogress for SRR_path in SRR_paths\n",
    "        SRR = basename(SRR_path)\n",
    "        kraken_dir = mkpath(joinpath(SRR_path, \"kraken\"))\n",
    "        output_file = joinpath(kraken_dir, \"$(SRR).$(kraken_db).kraken-output.tsv\")\n",
    "        report_file = joinpath(kraken_dir, \"$(SRR).$(kraken_db).kraken-report.tsv\")\n",
    "        report_table = Mycelia.read_kraken_report(report_file)\n",
    "        taxon_level_report = report_table[map(x -> x in rank_taxids, report_table[!, \"ncbi_taxonid\"]), :]\n",
    "        taxon_level_report[!, \"sample_identifier\"] .= SRR\n",
    "        append!(cross_sample_taxon_report_table, taxon_level_report)\n",
    "    end\n",
    "    uCSV.write(cross_sample_taxon_report, cross_sample_taxon_report_table, delim='\\t')\n",
    "else\n",
    "    cross_sample_taxon_report_table = DataFrames.DataFrame(uCSV.read(cross_sample_taxon_report, delim='\\t', header=1))\n",
    "end"
   ]
  },
  {
   "cell_type": "code",
   "execution_count": null,
   "id": "78cee49a-5b5a-48e6-a8e6-9d4b270f38a8",
   "metadata": {
    "tags": []
   },
   "outputs": [],
   "source": [
    "# this could be a function here "
   ]
  },
  {
   "cell_type": "code",
   "execution_count": null,
   "id": "5a1b0ada-b277-4b36-b785-633d63d72522",
   "metadata": {
    "tags": []
   },
   "outputs": [],
   "source": [
    "cross_sample_taxon_report_summary = cross_sample_taxon_report_table[!, \n",
    "    DataFrames.Not([\n",
    "            \"percentage_of_fragments_at_or_below_taxon\",\n",
    "            \"number_of_fragments_assigned_directly_to_taxon\",\n",
    "            \"rank\"\n",
    "        ])]\n",
    "cross_sample_taxon_report_summary[!, \"taxon\"] = map(row -> string(row[\"ncbi_taxonid\"]) * \"_\" * row[\"scientific_name\"], DataFrames.eachrow(cross_sample_taxon_report_summary))\n",
    "cross_sample_taxon_report_summary = cross_sample_taxon_report_summary[!, DataFrames.Not([\n",
    "            \"ncbi_taxonid\",\n",
    "            \"scientific_name\"\n",
    "        ])]\n",
    "\n",
    "# assert sortedness & uniqueness (should be a no-op)\n",
    "unique!(DataFrames.sort!(cross_sample_taxon_report_summary, [\"sample_identifier\", \"taxon\"]))"
   ]
  },
  {
   "cell_type": "code",
   "execution_count": null,
   "id": "75fe1bcf-c7a3-4996-8e5b-21b19b0eb26e",
   "metadata": {
    "tags": []
   },
   "outputs": [],
   "source": [
    "# taxa = String[]\n",
    "# samples = String[]\n",
    "# n_samples = length(unique(cross_sample_taxon_report_summary[!, \"sample_identifier\"]))\n",
    "# n_taxa = length(unique(cross_sample_taxon_report_summary[!, \"taxon\"]))\n",
    "# values = zeros(n_samples, n_taxa)\n",
    "\n",
    "taxa = sort(unique(cross_sample_taxon_report_summary[!, \"taxon\"]))\n",
    "samples = sort(unique(cross_sample_taxon_report_summary[!, \"sample_identifier\"]))\n",
    "values = zeros(length(samples), length(taxa))\n",
    "ProgressMeter.@showprogress for (column_index, taxon_table) in enumerate(DataFrames.groupby(cross_sample_taxon_report_summary, \"taxon\"))\n",
    "    taxon = taxon_table[1, \"taxon\"]\n",
    "    # push!(taxa, taxon)\n",
    "    # @show taxon\n",
    "    @assert taxa[column_index] == taxon\n",
    "    for (row_index, sample_table) in enumerate(DataFrames.groupby(taxon_table, \"sample_identifier\"))\n",
    "        @assert DataFrames.nrow(sample_table) == 1\n",
    "        row = sample_table[1, :]\n",
    "        sample = row[\"sample_identifier\"]\n",
    "        # if column_index == 1\n",
    "        #     push!(samples, sample)\n",
    "        # else\n",
    "        @assert samples[row_index] == sample\n",
    "        # end\n",
    "        values[row_index, column_index] = row[\"number_of_fragments_at_or_below_taxon\"]\n",
    "    end\n",
    "end\n",
    "values"
   ]
  },
  {
   "cell_type": "code",
   "execution_count": null,
   "id": "95f924a1-9b3d-4c72-bb29-b7d6de6d8558",
   "metadata": {
    "tags": []
   },
   "outputs": [],
   "source": [
    "filter(x -> occursin(r\"Enterovirus\"i, x), taxa)"
   ]
  },
  {
   "cell_type": "code",
   "execution_count": null,
   "id": "3586e295-8e6f-4dbf-9ef5-a22db24f3899",
   "metadata": {
    "tags": []
   },
   "outputs": [],
   "source": [
    "# sort taxa so largest single sample taxa is first\n",
    "taxa_frequency_ordering = sortperm(maximum.(eachcol(values)))\n",
    "values = values[:, taxa_frequency_ordering]\n",
    "taxa = taxa[taxa_frequency_ordering]\n",
    "# find taxa that have no representation, and filter them out\n",
    "taxa_is_detected = [sum(col) > 0 for col in eachcol(values)]\n",
    "values = values[:, taxa_is_detected]\n",
    "taxa = taxa[taxa_is_detected]"
   ]
  },
  {
   "cell_type": "code",
   "execution_count": null,
   "id": "3efbadaf-e907-435f-ad7c-d65f288469a1",
   "metadata": {
    "tags": []
   },
   "outputs": [],
   "source": [
    "colorscheme = Colors.distinguishable_colors(length(taxa), [Colors.RGB(1,1,1), Colors.RGB(0,0,0)], dropseed=true)"
   ]
  },
  {
   "cell_type": "code",
   "execution_count": null,
   "id": "bb272d73-5485-4a31-8e83-a4c85f234497",
   "metadata": {
    "tags": []
   },
   "outputs": [],
   "source": [
    "normalized_values = values ./ sum(values, dims=2)"
   ]
  },
  {
   "cell_type": "code",
   "execution_count": null,
   "id": "52ed6bcc-c91d-46dc-a977-d7c48654834b",
   "metadata": {
    "tags": []
   },
   "outputs": [],
   "source": [
    "distance_matrix = Distances.pairwise(Distances.Euclidean(), normalized_values, dims=1)\n",
    "clustering = Clustering.hclust(distance_matrix, branchorder=:optimal)"
   ]
  },
  {
   "cell_type": "code",
   "execution_count": null,
   "id": "431950f4-cab7-43c2-a97f-93c88088ac88",
   "metadata": {
    "tags": []
   },
   "outputs": [],
   "source": [
    "# fit_pca = MultivariateStats.fit(MultivariateStats.PCA, normalized_values')\n",
    "# transformed_observations = MultivariateStats.transform(fit_pca, normalized_values')\n",
    "\n",
    "# # x = transformed_observations[1, :]\n",
    "# # y = transformed_observations[2, :]\n",
    "\n",
    "# # pc_plot = \n",
    "# # StatsPlots.scatter(\n",
    "# #     x,\n",
    "# #     y,\n",
    "# #     # [z[control_indices], z[case_indices]],\n",
    "# #     xlabel = \"PC1\",\n",
    "# #     ylabel = \"PC2\",\n",
    "# #     # zlabel = \"PC3\",\n",
    "# #     # labels = hcat([\"sample ID goes here\"]...),\n",
    "# #     # title = \"Case vs. Control\",\n",
    "# #     legend = :outertopright,\n",
    "# #     size = (1000, 500),\n",
    "# #     # margins = 5StatsPlots.mm,\n",
    "# # )\n",
    "\n",
    "# # display(pc_plot)"
   ]
  },
  {
   "cell_type": "code",
   "execution_count": null,
   "id": "e2fa0ee5-210f-4ee8-852c-cb1d4164120a",
   "metadata": {
    "tags": []
   },
   "outputs": [],
   "source": [
    "# top level classification rank to show absolute reads per sample\n",
    "# not very helpful at lower ranks since low read depth samples are too hard to see breakdowns\n",
    "if taxon_index in [1, 2]\n",
    "    aspect_ratio = [9, 2]\n",
    "    scale = 500\n",
    "    plot = StatsPlots.groupedbar(\n",
    "        values,\n",
    "        title = \"read-classification - $(taxon_level)\",\n",
    "        xticks = (1:length(samples), samples),\n",
    "        xlims = (0, length(samples)+1),\n",
    "        xtickfontsize = 6,\n",
    "        size= aspect_ratio .* scale,\n",
    "        xrotation=90,\n",
    "        ylabel = \"number of reads\",\n",
    "        labels = hcat(taxa...),\n",
    "        margins = 100StatsPlots.Plots.PlotMeasures.px,\n",
    "        legendmargins = 0,\n",
    "        legend = :outertopright,\n",
    "        legendfontsize = 6,\n",
    "        bar_position = :stack,\n",
    "        bar_width=0.7,\n",
    "        seriescolor = hcat(reverse(colorscheme)...)\n",
    "    )\n",
    "    # display(plot)\n",
    "    for extension in [\".png\", \".svg\"]\n",
    "        file = joinpath(results_dir, \"taxonomic-breakdowns.kraken.$(taxon_index).$(taxon_level).total-reads\") * extension\n",
    "        StatsPlots.savefig(plot, file)\n",
    "    end\n",
    "end"
   ]
  },
  {
   "cell_type": "code",
   "execution_count": null,
   "id": "e1a0276e-c00c-45a5-9126-6a3edc9a222b",
   "metadata": {
    "tags": []
   },
   "outputs": [],
   "source": [
    "# need to tune this to be proportional to the # of taxa in the list\n",
    "aspect_ratio = [9, 40]\n",
    "scale = 500\n",
    "plot = StatsPlots.groupedbar(\n",
    "    normalized_values,\n",
    "    title = \"read-classification - $(taxon_level)\",\n",
    "    xticks = (1:length(samples), samples),\n",
    "    xlims = (0, length(samples)+1),\n",
    "    xtickfontsize = 6,\n",
    "    size= aspect_ratio .* scale,\n",
    "    xrotation=90,\n",
    "    ylabel = \"proportion of reads\",\n",
    "    labels = hcat(taxa...),\n",
    "    margins = 100StatsPlots.Plots.PlotMeasures.px,\n",
    "    legend = :outertopright,\n",
    "    bar_position = :stack,\n",
    "    bar_width=0.7,\n",
    "    seriescolor = hcat(reverse(colorscheme)...),\n",
    "    legendfontsize = 6,\n",
    ")\n",
    "\n",
    "for extension in [\".png\", \".svg\"]\n",
    "    file = joinpath(results_dir, \"taxonomic-breakdowns.kraken.$(taxon_index).$(taxon_level).normalized-reads\") * extension\n",
    "    StatsPlots.savefig(plot, file)\n",
    "end"
   ]
  },
  {
   "cell_type": "code",
   "execution_count": null,
   "id": "4d83ba91-034a-4cad-b7dd-7ab167d57a78",
   "metadata": {
    "tags": []
   },
   "outputs": [],
   "source": [
    "aspect_ratio = [2, 1]\n",
    "scale = 1000\n",
    "\n",
    "cluster_plot = StatsPlots.plot(\n",
    "    clustering,\n",
    "    xlims = (1, length(samples)),\n",
    "    title = \"read-classification - $(taxon_level)\",\n",
    "    xticks = false,\n",
    "    yticks = false,\n",
    "    yaxis = false\n",
    ")\n",
    "taxonomy_plot = StatsPlots.groupedbar(\n",
    "    normalized_values[clustering.order, :],\n",
    "    bar_position = :stack,\n",
    "    bottommargin = 50StatsPlots.Plots.PlotMeasures.px,\n",
    "    leftmargin = 50StatsPlots.Plots.PlotMeasures.px,\n",
    "    xticks = (1:length(samples), samples[clustering.order]),\n",
    "    xtickfontsize = 4,\n",
    "    xrotation=90,\n",
    "    xlims = (0, length(samples)+1),\n",
    "    size= aspect_ratio .* scale,\n",
    "    ylabel = \"proportion of reads\",\n",
    "    seriescolor = hcat(reverse(colorscheme)...),\n",
    "    # bar_width=0.7,\n",
    "    legend = false,\n",
    "    labels = hcat(taxa...),\n",
    "    legendfontsize = 6,\n",
    ")\n",
    "\n",
    "# Create a separate subplot as a legend\n",
    "# legend_plot = StatsPlots.groupedbar(normalized_values[clustering.order, :], legend=true)\n",
    "# plot!(legend_subplot, label=\"Series 1\", legend=:best, linecolor=1)\n",
    "# plot!(legend_subplot, label=\"Series 2\", legend=:best, linecolor=2)\n",
    "\n",
    "# Layout the main plot and the legend subplot\n",
    "# l = @layout [a{0.7w}; b{0.3w}]\n",
    "# plot(p, legend_subplot, layout=l)\n",
    "\n",
    "plot = StatsPlots.plot(\n",
    "    cluster_plot, \n",
    "    taxonomy_plot,\n",
    "    layout=StatsPlots.grid(2,1, heights=[0.2,0.8])\n",
    ")\n",
    "# display(plot)\n",
    "for extension in [\".png\", \".svg\"]\n",
    "    file = joinpath(results_dir, \"taxonomic-breakdowns.kraken.$(taxon_index).$(taxon_level).normalized-reads.clustered\") * extension\n",
    "    StatsPlots.savefig(plot, file)\n",
    "end\n",
    "# end"
   ]
  },
  {
   "cell_type": "code",
   "execution_count": null,
   "id": "2a003e4c-4e54-497a-8776-43400d591ae2",
   "metadata": {
    "tags": []
   },
   "outputs": [],
   "source": [
    "# for g in DataFrames.groupby(cross_sample_taxon_report_table, \"sample_identifier\")\n",
    "#     # @show sum(g[!, \"percentage_of_fragments_at_or_below_taxon\"])\n",
    "#     if sum(g[!, \"percentage_of_fragments_at_or_below_taxon\"]) == 100\n",
    "#     else\n",
    "#         identifier = g[1, \"sample_identifier\"]\n",
    "#         println(\"\\\"$(identifier)\\\",\")\n",
    "#     end\n",
    "# end"
   ]
  },
  {
   "cell_type": "code",
   "execution_count": null,
   "id": "4776661d-29a6-4caf-b980-f68331927aba",
   "metadata": {},
   "outputs": [],
   "source": [
    "# [number_of_fragments_at_or_below_taxon\tncbi_taxonid\tscientific_name\tsample_identifier"
   ]
  },
  {
   "cell_type": "code",
   "execution_count": null,
   "id": "aff6119c-780d-4487-824e-e3f68d3fdf37",
   "metadata": {
    "tags": []
   },
   "outputs": [],
   "source": [
    "\n",
    "# Mycelia.list_rank(\"kingdom\")\n",
    "# Mycelia.list_rank(\"phylum\")\n",
    "# Mycelia.list_rank(\"class\")\n",
    "# Mycelia.list_rank(\"order\")\n",
    "# Mycelia.list_rank(\"family\")\n",
    "# Mycelia.list_rank(\"genus\")\n",
    "# Mycelia.list_rank(\"species\")"
   ]
  },
  {
   "cell_type": "markdown",
   "id": "388fbcba-9a43-4b7d-88c4-d3e3ffcb0b10",
   "metadata": {},
   "source": [
    "- loop through the above\n",
    "- make a matrix where each row is a taxon rank and each column is a dataset\n",
    "- make stacked barplots for each sample\n",
    "- run PCA and k-means cluster to find meaningful groups\n",
    "- repeat for mmseqs protein and blast nt"
   ]
  }
 ],
 "metadata": {
  "kernelspec": {
   "display_name": "Julia 1.9.3",
   "language": "julia",
   "name": "julia-1.9"
  },
  "language_info": {
   "file_extension": ".jl",
   "mimetype": "application/julia",
   "name": "julia",
   "version": "1.9.3"
  }
 },
 "nbformat": 4,
 "nbformat_minor": 5
}
