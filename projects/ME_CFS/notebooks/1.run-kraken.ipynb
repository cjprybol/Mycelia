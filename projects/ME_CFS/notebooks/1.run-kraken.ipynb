{
 "cells": [
  {
   "cell_type": "code",
   "execution_count": null,
   "id": "cb118c02-c216-4da0-b13e-cc39c5efd605",
   "metadata": {},
   "outputs": [],
   "source": [
    "data_directory = joinpath(dirname(pwd()), \"data\")"
   ]
  },
  {
   "cell_type": "code",
   "execution_count": null,
   "id": "1f4613b4-0be3-49a5-943c-4cf3658b34a3",
   "metadata": {},
   "outputs": [],
   "source": [
    "sample_directories = readdir(joinpath(data_directory, \"samples\"), join=true)"
   ]
  },
  {
   "cell_type": "code",
   "execution_count": null,
   "id": "d7c9aed1-2ed4-44a6-ad0f-52000970e25f",
   "metadata": {},
   "outputs": [],
   "source": [
    "kraken_dbs = filter(x -> isdir(x), readdir(\"$(homedir())/workspace/kraken\", join=true))"
   ]
  },
  {
   "cell_type": "code",
   "execution_count": null,
   "id": "69d4ac2b-3f7a-42f5-a19e-d1ab46230bf6",
   "metadata": {},
   "outputs": [],
   "source": [
    "# kraken_db = \"/home/cjprybol/workspace/kraken/k2_pluspfp_08gb_20231009\"\n",
    "# memory = 32\n",
    "# threads = 4\n",
    "\n",
    "# # adjust to database size\n",
    "# kraken_db = \"/home/cjprybol/workspace/kraken/k2_pluspfp_16gb_20231009\"\n",
    "# memory = 32\n",
    "# threads = 4\n",
    "\n",
    "# # adjust to database size\n",
    "# kraken_db = \"/home/cjprybol/workspace/kraken/k2_pluspfp_16gb_20231009\"\n",
    "# memory = 32\n",
    "# threads = 4"
   ]
  },
  {
   "cell_type": "code",
   "execution_count": null,
   "id": "6edbbbf5-eba5-460e-bac8-4252d74f97fc",
   "metadata": {},
   "outputs": [],
   "source": [
    "# use me to auto-configure sbatch parameterization\n",
    "# host = first(readlines(`hostname`))\n",
    "# @assert occursin(r\"\\.stanford\\.edu\", host)"
   ]
  },
  {
   "cell_type": "code",
   "execution_count": null,
   "id": "e26a23de-ea5c-4a04-8f18-046b219447a0",
   "metadata": {},
   "outputs": [],
   "source": [
    "for sample_directory in sample_directories\n",
    "    fastq_files = filter(x -> occursin(r\"\\.fq\\.gz$\", x), readdir(sample_directory, join=true))\n",
    "    sample_ids = unique(replace.(basename.(fastq_files), r\"_[12]\\.fq\\.gz\" => \"\"))\n",
    "    for sample_id in sample_ids\n",
    "        trim_galore_directory = joinpath(sample_directory, sample_id * \"_trimgalore\")\n",
    "        # kraken_directories = filter(x -> occursin(r\"_kraken$\", x) && isdir(x), readdir(trim_galore_directory, join=true))\n",
    "        # @show kraken_directories\n",
    "        # for kraken_directory in kraken_directories\n",
    "        #     rm(kraken_directory, recursive=true)\n",
    "        # end\n",
    "        forward = first(filter(x -> occursin(r\".unmapped.1.fq.gz\", x), readdir(trim_galore_directory, join=true)))\n",
    "        reverse = first(filter(x -> occursin(r\".unmapped.2.fq.gz\", x), readdir(trim_galore_directory, join=true)))\n",
    "        # forward = joinpath(trim_galore_directory, sample_id * \"_1_val_1.fq.gz\")\n",
    "        # reverse = joinpath(trim_galore_directory, sample_id * \"_2_val_2.fq.gz\")\n",
    "        @assert isfile(forward) && isfile(reverse)\n",
    "\n",
    "        cmd = `julia $(homedir())/workspace/Mycelia/scripts/classify-short-reads.jl --forward_reads $(forward) --reverse_reads $(reverse) --kraken_db $(kraken_db) --threads $(threads)`\n",
    "        run(cmd)\n",
    "        \n",
    "        # cmd = \"julia $(homedir())/workspace/Mycelia/scripts/classify-short-reads.jl --forward_reads $(forward) --reverse_reads $(reverse) --kraken_db $(kraken_db) --threads $(threads)\"\n",
    "        # submission = \n",
    "        # `sbatch \n",
    "        # --mail-user=cameron.prybol@gmail.com\n",
    "        # --mail-type=ALL\n",
    "        # --error=%x-%j.err\n",
    "        # --output=%x-%j.out\n",
    "        # --partition=batch\n",
    "        # --account=mpsnyder\n",
    "        # --nodes=1\n",
    "        # --ntasks=1\n",
    "        # --time=1-00:00:00    \n",
    "        # --cpus-per-task=$(threads)\n",
    "        # --mem=$(memory)G\n",
    "        # --job-name=classify-short-reads\n",
    "        # --wrap $cmd\n",
    "        # `\n",
    "        # run(submission)        \n",
    "    end\n",
    "end"
   ]
  },
  {
   "cell_type": "code",
   "execution_count": null,
   "id": "0cfa565f-ac78-40ff-a741-da9f2da3eb86",
   "metadata": {},
   "outputs": [],
   "source": []
  }
 ],
 "metadata": {
  "kernelspec": {
   "display_name": "Julia 1.9.3",
   "language": "julia",
   "name": "julia-1.9"
  },
  "language_info": {
   "file_extension": ".jl",
   "mimetype": "application/julia",
   "name": "julia",
   "version": "1.9.3"
  }
 },
 "nbformat": 4,
 "nbformat_minor": 5
}
