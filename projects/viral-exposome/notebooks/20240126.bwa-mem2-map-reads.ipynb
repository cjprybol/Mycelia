{
 "cells": [
  {
   "cell_type": "code",
   "execution_count": null,
   "id": "fcf147cc-a2a0-418d-9aa6-48aa8b505efe",
   "metadata": {},
   "outputs": [],
   "source": [
    "@assert ENV[\"LD_LIBRARY_PATH\"] == \"\"\n",
    "import Pkg\n",
    "pkgs = [\n",
    "    \"Revise\",\n",
    "    \"DataFrames\",\n",
    "    \"uCSV\"\n",
    "]\n",
    "# Pkg.add(pkgs)\n",
    "for pkg in pkgs\n",
    "    eval(Meta.parse(\"import $pkg\"))\n",
    "end\n",
    "import Mycelia"
   ]
  },
  {
   "cell_type": "code",
   "execution_count": null,
   "id": "457402c5-0c5a-4f91-880c-cc7ddad9b8f8",
   "metadata": {},
   "outputs": [],
   "source": [
    "project_dir = dirname(pwd())\n",
    "data_dir = mkpath(joinpath(project_dir, \"data\"))"
   ]
  },
  {
   "cell_type": "code",
   "execution_count": null,
   "id": "1fe9dff3-0afc-4e17-9457-cce1ce9cf33f",
   "metadata": {},
   "outputs": [],
   "source": [
    "viral_reference_fastas_dir = mkpath(joinpath(data_dir, \"viral-reference-fastas\"))\n",
    "reference_fastas = sort(filter(x -> occursin(r\"\\.f(na|asta)\\.gz$\", x), readdir(viral_reference_fastas_dir, join=true)), by=x->filesize(x))"
   ]
  },
  {
   "cell_type": "code",
   "execution_count": null,
   "id": "7e790d29-cb8d-4c1c-9f8b-c269807f5701",
   "metadata": {},
   "outputs": [],
   "source": [
    "slurm_logdir = mkpath(\"$(homedir())/workspace/slurmlogs\")\n",
    "exposome_metadata_dir = joinpath(project_dir, \"metadata\")\n",
    "exposome_environmental_data = DataFrames.DataFrame(uCSV.read(\n",
    "    joinpath(exposome_metadata_dir, \"metadata_exposome.rds.tsv\"),\n",
    "    delim='\\t',\n",
    "    header=1,\n",
    "    typedetectrows=300\n",
    "))\n",
    "\n",
    "joint_sample_metadata = DataFrames.DataFrame(uCSV.read(\n",
    "    joinpath(exposome_metadata_dir, \"exposome/joint_sample_metadata.tsv\"),\n",
    "    delim='\\t',\n",
    "    header=1,\n",
    "    typedetectrows=300\n",
    "))\n",
    "\n",
    "@assert joint_sample_metadata[!, \"Library Name\"] == joint_sample_metadata[!, \"LibraryName\"]\n",
    "\n",
    "joint_metadata = DataFrames.innerjoin(\n",
    "    joint_sample_metadata,\n",
    "    exposome_environmental_data,\n",
    "    on=\"Library Name\" => \"samplenames\")\n",
    "\n",
    "sample_directories = sort(joinpath.(project_dir, \"data\", \"SRA\", joint_metadata[!, \"Run\"]))\n",
    "\n",
    "# 64 ictv-examplar-viruses.fna.gz\n",
    "# 64 ref_viruses_rep_genomes.fasta.gz\n",
    "# fasta_file = reference_fastas[2]\n",
    "# fasta_file = reference_fastas[3]\n",
    "memory = 64\n",
    "threads = 8"
   ]
  },
  {
   "cell_type": "code",
   "execution_count": null,
   "id": "7a2f9ca6-1869-43b8-baa7-84da81b5c851",
   "metadata": {},
   "outputs": [],
   "source": [
    "fasta_file = reference_fastas[1]"
   ]
  },
  {
   "cell_type": "code",
   "execution_count": null,
   "id": "dcd7e2ae-20a1-4ec7-8aaf-09bea5750f67",
   "metadata": {},
   "outputs": [],
   "source": [
    "memory = 128\n",
    "threads = 16\n",
    "# 128 GCF_000001405.40_GRCh38.p14_genomic.fna.gz"
   ]
  },
  {
   "cell_type": "code",
   "execution_count": null,
   "id": "d35bedb5-3bd7-4c32-b640-2bff5b0759df",
   "metadata": {},
   "outputs": [],
   "source": [
    "for sample in sample_directories\n",
    "    forward = joinpath(sample, \"trim_galore\", \"$(basename(sample))_1_val_1.fq.gz\")\n",
    "    reverse = joinpath(sample, \"trim_galore\", \"$(basename(sample))_2_val_2.fq.gz\")\n",
    "    outdir = mkpath(joinpath(sample, \"alignments\"))\n",
    "    outfile = joinpath(outdir, basename(fasta_file) * \".sorted.bam\")\n",
    "    # @show outfile\n",
    "    if !isfile(outfile) || (filesize(outfile) == 0)\n",
    "        cmd =\n",
    "        \"\"\"\n",
    "        $(Mycelia.MAMBA) run --live-stream -n bwa-mem2 bwa-mem2 mem -t $(threads) $(fasta_file) $(forward) $(reverse) \\\\\n",
    "        | $(Mycelia.MAMBA) run --live-stream -n samtools samtools sort -u --threads $(threads) \\\\\n",
    "        | $(Mycelia.MAMBA) run --live-stream -n samtools samtools view --bam --with-header --output $(outfile)\n",
    "        \"\"\"\n",
    "        Mycelia.sbatch(\n",
    "            job_name = \"bwa-mem2.$(basename(fasta_file)).$(basename(sample))\",\n",
    "            mail_user = \"cameron.prybol@gmail.com\",\n",
    "            logdir = slurm_logdir,\n",
    "            partition = \"batch\",\n",
    "            account = \"mpsnyder\",\n",
    "            mem_gb = memory,\n",
    "            cpus_per_task= threads,\n",
    "            cmd = cmd)\n",
    "    else\n",
    "        @info \"$(outfile) already present...\"\n",
    "    end\n",
    "end"
   ]
  }
 ],
 "metadata": {
  "kernelspec": {
   "display_name": "Julia 1.6.7",
   "language": "julia",
   "name": "julia-1.6"
  },
  "language_info": {
   "file_extension": ".jl",
   "mimetype": "application/julia",
   "name": "julia",
   "version": "1.6.7"
  }
 },
 "nbformat": 4,
 "nbformat_minor": 5
}
