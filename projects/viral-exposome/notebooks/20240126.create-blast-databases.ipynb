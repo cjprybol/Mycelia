{
 "cells": [
  {
   "cell_type": "code",
   "execution_count": 1,
   "id": "fcf147cc-a2a0-418d-9aa6-48aa8b505efe",
   "metadata": {},
   "outputs": [
    {
     "name": "stderr",
     "output_type": "stream",
     "text": [
      "\u001b[36m\u001b[1m[ \u001b[22m\u001b[39m\u001b[36m\u001b[1mInfo: \u001b[22m\u001b[39mPrecompiling Mycelia [453d265d-8292-4a7b-a57c-dce3f9ae6acd]\n",
      "\u001b[36m\u001b[1m[ \u001b[22m\u001b[39m\u001b[36m\u001b[1mInfo: \u001b[22m\u001b[39mSkipping precompilation since __precompile__(false). Importing Mycelia [453d265d-8292-4a7b-a57c-dce3f9ae6acd].\n"
     ]
    }
   ],
   "source": [
    "@assert ENV[\"LD_LIBRARY_PATH\"] == \"\"\n",
    "import Pkg\n",
    "pkgs = [\n",
    "    \"Revise\",\n",
    "    \"FASTX\"\n",
    "]\n",
    "# Pkg.add(pkgs)\n",
    "for pkg in pkgs\n",
    "    eval(Meta.parse(\"import $pkg\"))\n",
    "end\n",
    "import Mycelia"
   ]
  },
  {
   "cell_type": "code",
   "execution_count": 2,
   "id": "457402c5-0c5a-4f91-880c-cc7ddad9b8f8",
   "metadata": {},
   "outputs": [
    {
     "data": {
      "text/plain": [
       "\"/oak/stanford/scg/lab_mpsnyder/cjprybol/Mycelia/projects/viral-exposome/data\""
      ]
     },
     "execution_count": 2,
     "metadata": {},
     "output_type": "execute_result"
    }
   ],
   "source": [
    "project_dir = dirname(pwd())\n",
    "data_dir = mkpath(joinpath(project_dir, \"data\"))"
   ]
  },
  {
   "cell_type": "code",
   "execution_count": 3,
   "id": "14bfb512-bd2c-4148-9628-f4605c9ec203",
   "metadata": {},
   "outputs": [
    {
     "data": {
      "text/plain": [
       "\"/oak/stanford/scg/lab_mpsnyder/cjprybol/Mycelia/projects/viral-exposome/data/viral-reference-fastas\""
      ]
     },
     "execution_count": 3,
     "metadata": {},
     "output_type": "execute_result"
    }
   ],
   "source": [
    "viral_reference_fastas_dir = mkpath(joinpath(data_dir, \"viral-reference-fastas\"))"
   ]
  },
  {
   "cell_type": "code",
   "execution_count": 4,
   "id": "a600eda0-a356-46a5-8adc-1c5f64d81fc5",
   "metadata": {},
   "outputs": [
    {
     "data": {
      "text/plain": [
       "\"/home/cjprybol/workspace/blastdb\""
      ]
     },
     "execution_count": 4,
     "metadata": {},
     "output_type": "execute_result"
    }
   ],
   "source": [
    "blastdb_dir = joinpath(homedir(), \"workspace\", \"blastdb\")"
   ]
  },
  {
   "cell_type": "code",
   "execution_count": 5,
   "id": "b8d0ecef-2560-44a3-a3df-ba2cf4aa95f4",
   "metadata": {},
   "outputs": [
    {
     "data": {
      "text/plain": [
       "6-element Vector{String}:\n",
       " \"/oak/stanford/scg/lab_mpsnyder/cjprybol/Mycelia/projects/viral-exposome/data/viral-reference-fastas/ictv-examplar-viruses.fna.gz\"\n",
       " \"/oak/stanford/scg/lab_mpsnyder/cjprybol/Mycelia/projects/viral-exposome/data/viral-reference-fastas/ref_viruses_rep_genomes.fasta.gz\"\n",
       " \"/oak/stanford/scg/lab_mpsnyder/cjprybol/Mycelia/projects/viral-exposome/data/viral-reference-fastas/GCF_000001405.40_GRCh38.p14_genomic.fna.gz\"\n",
       " \"/oak/stanford/scg/lab_mpsnyder/cjprybol/Mycelia/projects/viral-exposome/data/viral-reference-fastas/IMGVR_all_nucleotides-high_confidence.fna.gz\"\n",
       " \"/oak/stanford/scg/lab_mpsnyder/cjprybol/Mycelia/projects/viral-exposome/data/viral-reference-fastas/IMGVR_all_nucleotides-high_confidence.revised.fna.gz\"\n",
       " \"/oak/stanford/scg/lab_mpsnyder/cjprybol/Mycelia/projects/viral-exposome/data/viral-reference-fastas/nt_viruses.fasta.gz\""
      ]
     },
     "execution_count": 5,
     "metadata": {},
     "output_type": "execute_result"
    }
   ],
   "source": [
    "reference_fastas = sort(filter(x -> occursin(r\"\\.f(na|asta)\\.gz$\", x), readdir(viral_reference_fastas_dir, join=true)), by=x->filesize(x))"
   ]
  },
  {
   "cell_type": "code",
   "execution_count": null,
   "id": "7124bfca-bed7-487d-9b5e-6e9e42aeeb86",
   "metadata": {},
   "outputs": [],
   "source": [
    "# input_records = Mycelia.open_fastx(\"$(viral_reference_fastas_dir)/IMGVR_all_nucleotides-high_confidence.fna.gz\")\n",
    "# revised_record_iterator = (FASTX.FASTA.Record(first(split(FASTX.description(record), '|')), FASTX.sequence(record)) for record in input_records)\n",
    "# IMGVR_shorted_descriptions = \"$(viral_reference_fastas_dir)/IMGVR_all_nucleotides-high_confidence.revised.fna.gz\"\n",
    "# # 25728.690161 seconds\n",
    "# @time Mycelia.write_fasta(outfile = IMGVR_shorted_descriptions, gzipped = true, records = revised_record_iterator)"
   ]
  },
  {
   "cell_type": "code",
   "execution_count": 6,
   "id": "c4579767-817f-454b-bca5-4a91dcf2c3f7",
   "metadata": {},
   "outputs": [
    {
     "data": {
      "text/plain": [
       "\"/oak/stanford/scg/lab_mpsnyder/cjprybol/Mycelia/projects/viral-exposome/data/viral-reference-fastas/IMGVR_all_nucleotides-high_confidence.revised.fna.gz\""
      ]
     },
     "execution_count": 6,
     "metadata": {},
     "output_type": "execute_result"
    }
   ],
   "source": [
    "reference_fasta = \"/oak/stanford/scg/lab_mpsnyder/cjprybol/Mycelia/projects/viral-exposome/data/viral-reference-fastas/IMGVR_all_nucleotides-high_confidence.revised.fna.gz\""
   ]
  },
  {
   "cell_type": "code",
   "execution_count": 8,
   "id": "9ceac8dc-9592-4a3e-b590-e6aa000bd2b7",
   "metadata": {},
   "outputs": [
    {
     "name": "stdout",
     "output_type": "stream",
     "text": [
      "blastdb = \"/home/cjprybol/workspace/blastdb/IMGVR_all_nucleotides-high_confidence.revised\"\n",
      "\"make me\" = \"make me\"\n",
      "\n",
      "\n",
      "Building a new DB, current time: 01/30/2024 15:56:45\n",
      "New DB name:   /home/cjprybol/workspace/blastdb/IMGVR_all_nucleotides-high_confidence.revised\n",
      "New DB title:  IMGVR_all_nucleotides-high_confidence.revised\n",
      "Sequence type: Nucleotide\n",
      "Keep MBits: T\n",
      "Maximum file size: 3000000000B\n",
      "\n",
      "\n"
     ]
    },
    {
     "name": "stderr",
     "output_type": "stream",
     "text": [
      "BLAST Database creation error: Error: Duplicate seq_ids are found: \n",
      "LCL|IMGVR_UVIG_GVMAG-M-2140918012-1_000001\n",
      "\n",
      "ERROR conda.cli.main_run:execute(124): `conda run makeblastdb -title IMGVR_all_nucleotides-high_confidence.revised -in - -dbtype nucl -parse_seqids -out /home/cjprybol/workspace/blastdb/IMGVR_all_nucleotides-high_confidence.revised` failed. (See above for error)\n"
     ]
    },
    {
     "ename": "LoadError",
     "evalue": "failed process: Process(`\u001b[4m/home/cjprybol/.julia/conda/3/x86_64/bin/mamba\u001b[24m \u001b[4mrun\u001b[24m \u001b[4m--live-stream\u001b[24m \u001b[4m-n\u001b[24m \u001b[4mblast\u001b[24m \u001b[4mmakeblastdb\u001b[24m \u001b[4m-title\u001b[24m \u001b[4mIMGVR_all_nucleotides-high_confidence.revised\u001b[24m \u001b[4m-in\u001b[24m \u001b[4m-\u001b[24m \u001b[4m-dbtype\u001b[24m \u001b[4mnucl\u001b[24m \u001b[4m-parse_seqids\u001b[24m \u001b[4m-out\u001b[24m \u001b[4m/home/cjprybol/workspace/blastdb/IMGVR_all_nucleotides-high_confidence.revised\u001b[24m`, ProcessExited(1)) [1]\n",
     "output_type": "error",
     "traceback": [
      "failed process: Process(`\u001b[4m/home/cjprybol/.julia/conda/3/x86_64/bin/mamba\u001b[24m \u001b[4mrun\u001b[24m \u001b[4m--live-stream\u001b[24m \u001b[4m-n\u001b[24m \u001b[4mblast\u001b[24m \u001b[4mmakeblastdb\u001b[24m \u001b[4m-title\u001b[24m \u001b[4mIMGVR_all_nucleotides-high_confidence.revised\u001b[24m \u001b[4m-in\u001b[24m \u001b[4m-\u001b[24m \u001b[4m-dbtype\u001b[24m \u001b[4mnucl\u001b[24m \u001b[4m-parse_seqids\u001b[24m \u001b[4m-out\u001b[24m \u001b[4m/home/cjprybol/workspace/blastdb/IMGVR_all_nucleotides-high_confidence.revised\u001b[24m`, ProcessExited(1)) [1]\n",
      "",
      "Stacktrace:",
      " [1] pipeline_error(procs::Base.ProcessChain)",
      "   @ Base ./process.jl:551",
      " [2] run(::Base.OrCmds; wait::Bool)",
      "   @ Base ./process.jl:453",
      " [3] run(::Base.OrCmds)",
      "   @ Base ./process.jl:451",
      " [4] macro expansion",
      "   @ ./timing.jl:210 [inlined]",
      " [5] top-level scope",
      "   @ ./In[8]:9"
     ]
    }
   ],
   "source": [
    "# for reference_fasta in reference_fastas\n",
    "database_title = replace(basename(reference_fasta), r\"\\.f(na|asta)\\.gz\" => \"\")\n",
    "blastdb = joinpath(blastdb_dir, database_title)\n",
    "@show blastdb\n",
    "hits = filter(x -> occursin(blastdb, x), readdir(blastdb_dir, join=true))\n",
    "# @show hits\n",
    "if isempty(hits)\n",
    "    @show \"make me\"\n",
    "    @time run(pipeline(`gzip -dc $(reference_fasta)`, `$(Mycelia.MAMBA) run --live-stream -n blast makeblastdb -title $(database_title) -in - -dbtype nucl -parse_seqids -out $(blastdb)`))\n",
    "else\n",
    "    @show \"done\"\n",
    "end\n",
    "# end"
   ]
  }
 ],
 "metadata": {
  "kernelspec": {
   "display_name": "Julia 1.6.7",
   "language": "julia",
   "name": "julia-1.6"
  },
  "language_info": {
   "file_extension": ".jl",
   "mimetype": "application/julia",
   "name": "julia",
   "version": "1.6.7"
  }
 },
 "nbformat": 4,
 "nbformat_minor": 5
}
