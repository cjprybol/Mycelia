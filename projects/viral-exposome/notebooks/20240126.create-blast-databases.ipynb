{
 "cells": [
  {
   "cell_type": "code",
   "execution_count": null,
   "id": "fcf147cc-a2a0-418d-9aa6-48aa8b505efe",
   "metadata": {},
   "outputs": [],
   "source": [
    "@assert ENV[\"LD_LIBRARY_PATH\"] == \"\"\n",
    "import Pkg\n",
    "pkgs = [\n",
    "    \"Revise\",\n",
    "    \"FASTX\"\n",
    "]\n",
    "# Pkg.add(pkgs)\n",
    "for pkg in pkgs\n",
    "    eval(Meta.parse(\"import $pkg\"))\n",
    "end\n",
    "import Mycelia"
   ]
  },
  {
   "cell_type": "code",
   "execution_count": null,
   "id": "457402c5-0c5a-4f91-880c-cc7ddad9b8f8",
   "metadata": {},
   "outputs": [],
   "source": [
    "project_dir = dirname(pwd())\n",
    "data_dir = mkpath(joinpath(project_dir, \"data\"))"
   ]
  },
  {
   "cell_type": "code",
   "execution_count": null,
   "id": "14bfb512-bd2c-4148-9628-f4605c9ec203",
   "metadata": {},
   "outputs": [],
   "source": [
    "viral_reference_fastas_dir = mkpath(joinpath(data_dir, \"viral-reference-fastas\"))"
   ]
  },
  {
   "cell_type": "code",
   "execution_count": null,
   "id": "9b67e3d2-8cdc-4522-968f-6e228fb8c887",
   "metadata": {},
   "outputs": [],
   "source": [
    "run(`$(Mycelia.MAMBA) run --live-stream -n blast makeblastdb -help`)"
   ]
  },
  {
   "cell_type": "code",
   "execution_count": null,
   "id": "a600eda0-a356-46a5-8adc-1c5f64d81fc5",
   "metadata": {},
   "outputs": [],
   "source": [
    "blastdb_dir = joinpath(homedir(), \"workspace\", \"blastdb\")"
   ]
  },
  {
   "cell_type": "code",
   "execution_count": null,
   "id": "b8d0ecef-2560-44a3-a3df-ba2cf4aa95f4",
   "metadata": {},
   "outputs": [],
   "source": [
    "reference_fastas = sort(filter(x -> occursin(r\"\\.f(na|asta)\\.gz$\", x), readdir(viral_reference_fastas_dir, join=true)), by=x->filesize(x))"
   ]
  },
  {
   "cell_type": "code",
   "execution_count": null,
   "id": "ed96d0e1-ce86-43ca-80f2-9662744722ed",
   "metadata": {},
   "outputs": [],
   "source": [
    "input_records = Mycelia.open_fastx(\"/oak/stanford/scg/lab_mpsnyder/cjprybol/Mycelia/projects/viral-exposome/data/viral-reference-fastas/IMGVR_all_nucleotides-high_confidence.fna.gz\")\n",
    "revised_record_iterator = (FASTX.FASTA.Record(first(split(FASTX.description(record), '|')), FASTX.sequence(record)) for record in input_records)\n",
    "IMGVR_shorted_descriptions = \"/oak/stanford/scg/lab_mpsnyder/cjprybol/Mycelia/projects/viral-exposome/data/viral-reference-fastas/IMGVR_all_nucleotides-high_confidence.revised.fna.gz\""
   ]
  },
  {
   "cell_type": "code",
   "execution_count": null,
   "id": "ffa9491f-3b25-4b3b-8995-b7f326105f2f",
   "metadata": {},
   "outputs": [],
   "source": [
    "Mycelia.write_fasta(outfile = IMGVR_shorted_descriptions, gzipped = true, records = revised_record_iterator)"
   ]
  },
  {
   "cell_type": "code",
   "execution_count": null,
   "id": "9ceac8dc-9592-4a3e-b590-e6aa000bd2b7",
   "metadata": {},
   "outputs": [],
   "source": [
    "for reference_fasta in reference_fastas\n",
    "    database_title = replace(basename(reference_fasta), r\"\\.f(na|asta)\\.gz\" => \"\")\n",
    "    blastdb = joinpath(blastdb_dir, database_title)\n",
    "    @show blastdb\n",
    "    hits = filter(x -> occursin(blastdb, x), readdir(blastdb_dir, join=true))\n",
    "    # @show hits\n",
    "    if isempty(hits)\n",
    "        @show \"make me\"\n",
    "        @time run(pipeline(`gzip -dc $(reference_fasta)`, `$(Mycelia.MAMBA) run --live-stream -n blast makeblastdb -title $(database_title) -in - -dbtype nucl -parse_seqids -out $(blastdb)`))\n",
    "    else\n",
    "        @show \"done\"\n",
    "    end\n",
    "end"
   ]
  }
 ],
 "metadata": {
  "kernelspec": {
   "display_name": "Julia 1.6.7",
   "language": "julia",
   "name": "julia-1.6"
  },
  "language_info": {
   "file_extension": ".jl",
   "mimetype": "application/julia",
   "name": "julia",
   "version": "1.6.7"
  }
 },
 "nbformat": 4,
 "nbformat_minor": 5
}
