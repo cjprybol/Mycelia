{
 "cells": [
  {
   "cell_type": "code",
   "execution_count": null,
   "id": "fcf147cc-a2a0-418d-9aa6-48aa8b505efe",
   "metadata": {},
   "outputs": [],
   "source": [
    "@assert ENV[\"LD_LIBRARY_PATH\"] == \"\"\n",
    "import Pkg\n",
    "pkgs = [\n",
    "    \"Revise\",\n",
    "    \"FASTX\",\n",
    "    \"DataFrames\",\n",
    "    \"uCSV\",\n",
    "    \"ProgressMeter\"\n",
    "]\n",
    "# Pkg.add(pkgs)\n",
    "for pkg in pkgs\n",
    "    eval(Meta.parse(\"import $pkg\"))\n",
    "end\n",
    "import Mycelia"
   ]
  },
  {
   "cell_type": "code",
   "execution_count": null,
   "id": "457402c5-0c5a-4f91-880c-cc7ddad9b8f8",
   "metadata": {},
   "outputs": [],
   "source": [
    "project_dir = dirname(pwd())\n",
    "data_dir = mkpath(joinpath(project_dir, \"data\"))"
   ]
  },
  {
   "cell_type": "code",
   "execution_count": null,
   "id": "a600eda0-a356-46a5-8adc-1c5f64d81fc5",
   "metadata": {},
   "outputs": [],
   "source": [
    "blastdb_dir = joinpath(homedir(), \"workspace\", \"blastdb\")"
   ]
  },
  {
   "cell_type": "code",
   "execution_count": null,
   "id": "e22fa701-e6bd-4717-bc70-c08e929d73bf",
   "metadata": {},
   "outputs": [],
   "source": [
    "blastdbs = filter(x -> occursin(r\"\\.ndb$\", x), readdir(blastdb_dir, join=true))"
   ]
  },
  {
   "cell_type": "code",
   "execution_count": null,
   "id": "0589ff03-c119-4b30-819a-311935ec5b6f",
   "metadata": {},
   "outputs": [],
   "source": [
    "slurm_logdir = mkpath(\"$(homedir())/workspace/slurmlogs\")\n",
    "exposome_metadata_dir = joinpath(project_dir, \"metadata\")\n",
    "exposome_environmental_data = DataFrames.DataFrame(uCSV.read(\n",
    "    joinpath(exposome_metadata_dir, \"metadata_exposome.rds.tsv\"),\n",
    "    delim='\\t',\n",
    "    header=1,\n",
    "    typedetectrows=300\n",
    "))\n",
    "\n",
    "joint_sample_metadata = DataFrames.DataFrame(uCSV.read(\n",
    "    joinpath(exposome_metadata_dir, \"exposome/joint_sample_metadata.tsv\"),\n",
    "    delim='\\t',\n",
    "    header=1,\n",
    "    typedetectrows=300\n",
    "))\n",
    "\n",
    "@assert joint_sample_metadata[!, \"Library Name\"] == joint_sample_metadata[!, \"LibraryName\"]\n",
    "\n",
    "joint_metadata = DataFrames.innerjoin(\n",
    "    joint_sample_metadata,\n",
    "    exposome_environmental_data,\n",
    "    on=\"Library Name\" => \"samplenames\")\n",
    "\n",
    "sample_directories = sort(joinpath.(project_dir, \"data\", \"SRA\", joint_metadata[!, \"Run\"]))\n",
    "\n",
    "memory = 64\n",
    "threads = 8"
   ]
  },
  {
   "cell_type": "code",
   "execution_count": null,
   "id": "4a60ea22-20c2-4d39-9dac-5941cae7154c",
   "metadata": {},
   "outputs": [],
   "source": [
    "# ProgressMeter.@showprogress for sample in sample_directories\n",
    "#     joint_fasta_file = joinpath(sample, \"alignments\", \"$(basename(sample)).fna\")\n",
    "#     if !isfile(joint_fasta_file)    \n",
    "#         forward = joinpath(sample, \"trim_galore\", \"$(basename(sample))_1_val_1.fq.gz\")\n",
    "#         reverse = joinpath(sample, \"trim_galore\", \"$(basename(sample))_2_val_2.fq.gz\")\n",
    "#         p = pipeline(`cat $(forward) $(reverse)`, `gzip -dc`, `sed -n '1~4s/^@/>/p;2~4p'`)\n",
    "#         p = pipeline(p, joint_fasta_file)\n",
    "#         run(p)\n",
    "#     end\n",
    "# end"
   ]
  },
  {
   "cell_type": "code",
   "execution_count": null,
   "id": "b34a094d-833c-4af3-9570-152d95ba4f91",
   "metadata": {},
   "outputs": [],
   "source": [
    "blastdb = \"/home/cjprybol/workspace/blastdb/ictv-examplar-viruses\"\n",
    "# \"/home/cjprybol/workspace/blastdb/ref_viruses_rep_genomes\"\n",
    "# \"/home/cjprybol/workspace/blastdb/GCF_000001405.40_GRCh38.p14_genomic\"\n",
    "\n",
    "# \"/home/cjprybol/workspace/blastdb/nt_viruses\""
   ]
  },
  {
   "cell_type": "code",
   "execution_count": null,
   "id": "ae019d76-8b32-4c19-9636-eff9e8a29075",
   "metadata": {},
   "outputs": [],
   "source": [
    "    # outdir = mkpath(joinpath(sample, \"alignments\"))\n",
    "    # outfile = joinpath(outdir, basename(fasta_file) * \".sorted.bam\")\n",
    "    # # @show outfile\n",
    "    # if !isfile(outfile) || (filesize(outfile) == 0)\n",
    "    #     cmd =\n",
    "    #     \"\"\"\n",
    "    #     $(Mycelia.MAMBA) run --live-stream -n bwa-mem2 bwa-mem2 mem -t $(threads) $(fasta_file) $(forward) $(reverse) \\\\\n",
    "    #     | $(Mycelia.MAMBA) run --live-stream -n samtools samtools sort -u --threads $(threads) \\\\\n",
    "    #     | $(Mycelia.MAMBA) run --live-stream -n samtools samtools view --bam --with-header --output $(outfile)\n",
    "    #     \"\"\"\n",
    "    #     Mycelia.sbatch(\n",
    "    #         job_name = \"bwa-mem2.$(basename(fasta_file)).$(basename(sample))\",\n",
    "    #         mail_user = \"cameron.prybol@gmail.com\",\n",
    "    #         logdir = slurm_logdir,\n",
    "    #         partition = \"batch\",\n",
    "    #         account = \"mpsnyder\",\n",
    "    #         mem_gb = memory,\n",
    "    #         cpus_per_task= threads,\n",
    "    #         cmd = cmd)\n",
    "    # else\n",
    "    #     @info \"$(outfile) already present...\"\n",
    "    # end"
   ]
  }
 ],
 "metadata": {
  "kernelspec": {
   "display_name": "Julia 1.6.7",
   "language": "julia",
   "name": "julia-1.6"
  },
  "language_info": {
   "file_extension": ".jl",
   "mimetype": "application/julia",
   "name": "julia",
   "version": "1.6.7"
  }
 },
 "nbformat": 4,
 "nbformat_minor": 5
}
