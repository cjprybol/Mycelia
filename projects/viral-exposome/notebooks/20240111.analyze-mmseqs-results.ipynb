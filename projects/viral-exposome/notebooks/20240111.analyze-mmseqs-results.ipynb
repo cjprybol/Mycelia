{
 "cells": [
  {
   "cell_type": "code",
   "execution_count": null,
   "id": "b1ec3ac0-e197-418f-86be-f2e8a5fadb82",
   "metadata": {},
   "outputs": [],
   "source": [
    "# run(`conda create --channel conda-forge --channel bioconda --channel defaults --strict-channel-priority --name blast blast`)"
   ]
  },
  {
   "cell_type": "code",
   "execution_count": null,
   "id": "c17e93fe-d82c-45fa-8fee-1e86d080538c",
   "metadata": {},
   "outputs": [],
   "source": [
    "import Pkg\n",
    "pkgs = [\n",
    "    \"Revise\",\n",
    "    \"DataFrames\",\n",
    "    \"uCSV\",\n",
    "    \"StatsPlots\",\n",
    "    \"FASTX\",\n",
    "    \"Conda\",\n",
    "    \"XAM\",\n",
    "    \"StatsBase\"\n",
    "]\n",
    "# Pkg.add(pkgs)\n",
    "for pkg in pkgs\n",
    "    eval(Meta.parse(\"import $pkg\"))\n",
    "end\n",
    "import Mycelia"
   ]
  },
  {
   "cell_type": "code",
   "execution_count": null,
   "id": "909f13b4-7e9d-429b-8b83-33c99af653c9",
   "metadata": {},
   "outputs": [],
   "source": [
    "data_dir = joinpath(dirname(pwd()), \"data\")"
   ]
  },
  {
   "cell_type": "code",
   "execution_count": null,
   "id": "800f49a8-cfd4-4b23-8a6e-cc0d0dd3fad7",
   "metadata": {},
   "outputs": [],
   "source": [
    "results_dir = joinpath(data_dir, \"results\")\n",
    "\n",
    "# filter(x -> occursin(r\"UniRef\"i, x), readdir(results_dir, join=true))\n",
    "mmseqs_results_file = joinpath(results_dir, \"high-confidence-hiv-contigs.fna.prodigal.faa.mmseqs_easy_search.UniRef100\")\n",
    "# \"/oak/stanford/scg/lab_mpsnyder/cjprybol/Mycelia/projects/viral-exposome-discovery/data/results/high-confidence-hiv-contigs.fna.prodigal.faa.mmseqs_easy_search.UniRef50\"\n",
    "# \"/oak/stanford/scg/lab_mpsnyder/cjprybol/Mycelia/projects/viral-exposome-discovery/data/results/high-confidence-hiv-contigs.fna.prodigal.faa.mmseqs_easy_search.UniRef90\""
   ]
  },
  {
   "cell_type": "code",
   "execution_count": null,
   "id": "86d12ace-3e98-43d7-abec-1a3cda5c5378",
   "metadata": {},
   "outputs": [],
   "source": [
    "mmseqs_results_table = DataFrames.DataFrame(uCSV.read(mmseqs_results_file, delim='\\t', header=1))\n",
    "# bonferroni correction\n",
    "min_default_evalue = maximum(mmseqs_results_table[!, \"evalue\"])\n",
    "mmseqs_results_table[!, \"evalue\"] .*= DataFrames.nrow(mmseqs_results_table)\n",
    "mmseqs_results_table[mmseqs_results_table[!, \"evalue\"] .>= min_default_evalue, :]"
   ]
  },
  {
   "cell_type": "code",
   "execution_count": null,
   "id": "eafd7631-2cf4-44bc-adef-af02d98bcb9b",
   "metadata": {},
   "outputs": [],
   "source": [
    "# && !occursin(r\"Pseudomonas viridiflava\"i, x)\n",
    "mmseqs_results_table = mmseqs_results_table[map(x -> occursin(r\"vir[au]\", x), mmseqs_results_table[!, \"theader\"]), :]"
   ]
  },
  {
   "cell_type": "code",
   "execution_count": null,
   "id": "6ad7d811-42e0-498d-989c-30be31c3c3c0",
   "metadata": {},
   "outputs": [],
   "source": [
    "theader"
   ]
  },
  {
   "cell_type": "code",
   "execution_count": null,
   "id": "ac2ce9c5-ce4f-4585-8719-96b886fd9c19",
   "metadata": {},
   "outputs": [],
   "source": [
    "term_frequency = StatsBase.countmap(reduce(vcat, split.(mmseqs_results_table[!, \"theader\"])))"
   ]
  },
  {
   "cell_type": "code",
   "execution_count": null,
   "id": "cb9ee3e5-f864-471d-84af-18ef749072da",
   "metadata": {},
   "outputs": [],
   "source": []
  }
 ],
 "metadata": {
  "kernelspec": {
   "display_name": "Julia 1.6.7",
   "language": "julia",
   "name": "julia-1.6"
  },
  "language_info": {
   "file_extension": ".jl",
   "mimetype": "application/julia",
   "name": "julia",
   "version": "1.6.7"
  }
 },
 "nbformat": 4,
 "nbformat_minor": 5
}
