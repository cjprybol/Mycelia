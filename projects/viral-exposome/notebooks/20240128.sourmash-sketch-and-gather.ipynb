{
 "cells": [
  {
   "cell_type": "code",
   "execution_count": null,
   "id": "fcf147cc-a2a0-418d-9aa6-48aa8b505efe",
   "metadata": {},
   "outputs": [],
   "source": [
    "@assert ENV[\"LD_LIBRARY_PATH\"] == \"\"\n",
    "import Pkg\n",
    "pkgs = [\n",
    "    \"Revise\",\n",
    "    \"DataFrames\",\n",
    "    \"uCSV\"\n",
    "]\n",
    "# Pkg.add(pkgs)\n",
    "for pkg in pkgs\n",
    "    eval(Meta.parse(\"import $pkg\"))\n",
    "end\n",
    "import Mycelia"
   ]
  },
  {
   "cell_type": "code",
   "execution_count": null,
   "id": "457402c5-0c5a-4f91-880c-cc7ddad9b8f8",
   "metadata": {},
   "outputs": [],
   "source": [
    "project_dir = dirname(pwd())\n",
    "data_dir = mkpath(joinpath(project_dir, \"data\"))"
   ]
  },
  {
   "cell_type": "code",
   "execution_count": null,
   "id": "14bfb512-bd2c-4148-9628-f4605c9ec203",
   "metadata": {},
   "outputs": [],
   "source": [
    "viral_reference_fastas_dir = mkpath(joinpath(data_dir, \"viral-reference-fastas\"))"
   ]
  },
  {
   "cell_type": "code",
   "execution_count": null,
   "id": "0a7539da-1108-4888-b3c2-39deec75488c",
   "metadata": {},
   "outputs": [],
   "source": [
    "reference_fastas = filter(x -> occursin(r\"\\.f(na|asta)\\.gz$\", x), readdir(viral_reference_fastas_dir, join=true))\n",
    "sort!(reference_fastas, by=x->filesize(x))"
   ]
  },
  {
   "cell_type": "code",
   "execution_count": null,
   "id": "5c9339ec-6dbd-4a2f-9ada-c9e8c319b9ad",
   "metadata": {},
   "outputs": [],
   "source": [
    "slurm_logdir = mkpath(\"$(homedir())/workspace/slurmlogs\")\n",
    "exposome_metadata_dir = joinpath(project_dir, \"metadata\")\n",
    "exposome_environmental_data = DataFrames.DataFrame(uCSV.read(\n",
    "    joinpath(exposome_metadata_dir, \"metadata_exposome.rds.tsv\"),\n",
    "    delim='\\t',\n",
    "    header=1,\n",
    "    typedetectrows=300\n",
    "))\n",
    "\n",
    "joint_sample_metadata = DataFrames.DataFrame(uCSV.read(\n",
    "    joinpath(exposome_metadata_dir, \"exposome/joint_sample_metadata.tsv\"),\n",
    "    delim='\\t',\n",
    "    header=1,\n",
    "    typedetectrows=300\n",
    "))\n",
    "\n",
    "@assert joint_sample_metadata[!, \"Library Name\"] == joint_sample_metadata[!, \"LibraryName\"]\n",
    "\n",
    "joint_metadata = DataFrames.innerjoin(\n",
    "    joint_sample_metadata,\n",
    "    exposome_environmental_data,\n",
    "    on=\"Library Name\" => \"samplenames\")\n",
    "\n",
    "sample_directories = sort(joinpath.(project_dir, \"data\", \"SRA\", joint_metadata[!, \"Run\"]))"
   ]
  },
  {
   "cell_type": "code",
   "execution_count": null,
   "id": "c8e5bbcd-8184-4483-97bf-635c66e4ba97",
   "metadata": {},
   "outputs": [],
   "source": [
    "# make sketches for references\n",
    "# 7384.737911 seconds (338.18 k allocations: 15.754 MiB, 0.00% compilation time)\n",
    "# 2 hours\n",
    "reference_fasta = \"/oak/stanford/scg/lab_mpsnyder/cjprybol/Mycelia/projects/viral-exposome/data/viral-reference-fastas/IMGVR_all_nucleotides-high_confidence.fna.gz\"\n",
    "# 16107.376116 seconds (654.58 k allocations: 28.929 MiB, 0.00% gc time)\n",
    "# 4 hours\n",
    "# reference_fasta = \"/oak/stanford/scg/lab_mpsnyder/cjprybol/Mycelia/projects/viral-exposome/data/viral-reference-fastas/nt_viruses.fasta.gz\"\n",
    "# @time run(`$(Mycelia.MAMBA) run --live-stream -n sourmash sourmash sketch dna -p scaled=1000,k=31 $(reference_fasta) -o $(reference_fasta).sig`)"
   ]
  },
  {
   "cell_type": "code",
   "execution_count": null,
   "id": "0cc742be-5b1b-4068-a3cb-288a1c2be224",
   "metadata": {},
   "outputs": [],
   "source": [
    "sourmash_sketch = reference_fasta * \".sourmash-sketch.zip\""
   ]
  },
  {
   "cell_type": "code",
   "execution_count": null,
   "id": "20727f1c-0cfe-41ac-a4fd-89eb67c1243c",
   "metadata": {},
   "outputs": [],
   "source": [
    "# 1-4 already submitted for IMG/VR, none for nt_viral\n",
    "for sample in sample_directories[1:1]\n",
    "    forward = joinpath(sample, \"trim_galore\", \"$(basename(sample))_1_val_1.fq.gz\")\n",
    "    reverse = joinpath(sample, \"trim_galore\", \"$(basename(sample))_2_val_2.fq.gz\")\n",
    "    outdir = mkpath(joinpath(sample, \"sourmash\"))\n",
    "    sample_id = basename(sample) * \".\" * basename(sourmash_sketch)\n",
    "    file_name = sample_id * \".sourmash-sketch.zip\"\n",
    "    file_path = joinpath(outdir, file_name)\n",
    "    # @show outfile\n",
    "    if !isfile(file_path) || (filesize(file_path) == 0)\n",
    "        cmd =\n",
    "        \"\"\"\n",
    "        $(Mycelia.MAMBA) run --live-stream -n sourmash sourmash sketch dna -p k=17,k=23,k=31,abund $(forward) $(reverse) --name $(sample_id) -o $(file_path)\n",
    "        \"\"\"\n",
    "        # @info \"submitting `$cmd`\"\n",
    "        Mycelia.sbatch(\n",
    "            job_name = \"$(file_name)\",\n",
    "            mail_user = \"cameron.prybol@gmail.com\",\n",
    "            logdir = slurm_logdir,\n",
    "            partition = \"batch\",\n",
    "            account = \"mpsnyder\",\n",
    "            mem_gb = 16,\n",
    "            cpus_per_task = 2,\n",
    "            cmd = cmd)\n",
    "    else\n",
    "        @info \"$(outfile) already present...\"\n",
    "    end\n",
    "end"
   ]
  },
  {
   "cell_type": "code",
   "execution_count": null,
   "id": "23d1ac95-50af-49c4-af4a-843733b94178",
   "metadata": {},
   "outputs": [],
   "source": [
    "# @time run(`$(Mycelia.MAMBA) run --live-stream -n sourmash sourmash gather -o $(file_path).sourmash-gather.csv $(file_path) $(sourmash_sketch)`)"
   ]
  },
  {
   "cell_type": "code",
   "execution_count": null,
   "id": "a7c8ac1f-36d1-4cdc-8317-cacf4143b9b8",
   "metadata": {},
   "outputs": [],
   "source": [
    "# # sketch reads for each sample\n",
    "\n",
    "# sourmash sketch dna -p k=21,k=31,k=51,abund metagenome.fq.gz\n",
    "\n",
    "# sourmash sketch dna -p k=31 sample_R1.fq.gz sample_R2.fq.gz --name \"sample\" -o sample.zip\n",
    "\n",
    "# gunzip -c sample_R?.fq.gz | sourmash sketch dna -p k=31 - \\\n",
    "#     -o sample.zip"
   ]
  },
  {
   "cell_type": "code",
   "execution_count": null,
   "id": "6b583737-a529-4dd5-ac21-a385337938dd",
   "metadata": {},
   "outputs": [],
   "source": [
    "# # merge all of the read sketches\n",
    "# sourmash signature merge file1.sig file2.sig -o merged.sig"
   ]
  },
  {
   "cell_type": "code",
   "execution_count": null,
   "id": "d6d80c4d-e538-4262-af2c-27982166f915",
   "metadata": {},
   "outputs": [],
   "source": [
    "# gather each sample"
   ]
  },
  {
   "cell_type": "code",
   "execution_count": null,
   "id": "c154f31f-f556-4a77-bc6b-2d110c949bfb",
   "metadata": {},
   "outputs": [],
   "source": [
    "# "
   ]
  },
  {
   "cell_type": "code",
   "execution_count": null,
   "id": "23f91953-2c95-43bb-a811-84f046dd4eb9",
   "metadata": {},
   "outputs": [],
   "source": [
    "# gather the merged signature"
   ]
  },
  {
   "cell_type": "code",
   "execution_count": null,
   "id": "110cc21e-dc06-4242-822a-210b3c6d6635",
   "metadata": {},
   "outputs": [],
   "source": [
    "# review outputs"
   ]
  },
  {
   "cell_type": "code",
   "execution_count": null,
   "id": "122e3884-dd5f-4b0f-81f7-8d1f83b6ba14",
   "metadata": {},
   "outputs": [],
   "source": [
    "# filter and then map reads if I want more detail"
   ]
  }
 ],
 "metadata": {
  "kernelspec": {
   "display_name": "Julia 1.6.7",
   "language": "julia",
   "name": "julia-1.6"
  },
  "language_info": {
   "file_extension": ".jl",
   "mimetype": "application/julia",
   "name": "julia",
   "version": "1.6.7"
  }
 },
 "nbformat": 4,
 "nbformat_minor": 5
}
