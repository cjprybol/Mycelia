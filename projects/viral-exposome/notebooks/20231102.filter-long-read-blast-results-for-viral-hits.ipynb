{
 "cells": [
  {
   "cell_type": "code",
   "execution_count": null,
   "id": "28afd0da-a1e3-48ad-a12a-8bbb3a8d19c2",
   "metadata": {
    "tags": []
   },
   "outputs": [],
   "source": [
    "import Pkg\n",
    "\n",
    "pkgs = [\n",
    "\"DataFrames\",\n",
    "\"uCSV\",\n",
    "\"ProgressMeter\",\n",
    "\"StatsPlots\",\n",
    "\"StatsBase\",\n",
    "\"FASTX\"\n",
    "]\n",
    "Pkg.add(pkgs)\n",
    "for pkg in pkgs\n",
    "    eval(Meta.parse(\"import $pkg\"))\n",
    "end"
   ]
  },
  {
   "cell_type": "code",
   "execution_count": null,
   "id": "b225c1a6-9a0f-4690-b2b2-19d01024b993",
   "metadata": {
    "jupyter": {
     "source_hidden": true
    },
    "tags": []
   },
   "outputs": [],
   "source": [
    "# function parse_blast_report(blast_report)\n",
    "#     # example header line \n",
    "#     # \"# Fields: query id, subject id, subject acc., subject acc.ver, subject title, query length, subject length, q. start, q. end, s. start, s. end, evalue, bit score, score, alignment length, % identity, identical, mismatches, subject tax id\"\n",
    "#     header_lines = collect(Iterators.filter(x -> occursin(r\"# Fields:\", x), eachline(blast_report)))\n",
    "#     if isempty(header_lines)\n",
    "#         @info \"no hits found, returning empty table\"\n",
    "#         return DataFrames.DataFrame()\n",
    "#     end\n",
    "#     header_line = first(header_lines)\n",
    "#     header = split(last(split(header_line, \": \")), \", \")\n",
    "#     blast_col_types = Dict(\n",
    "#         \"query id\" => String,\n",
    "#         \"query title\" => String,\n",
    "#         \"subject id\" => String,\n",
    "#         \"subject gi\" => String,\n",
    "#         \"subject acc.\" => String,\n",
    "#         \"subject acc.ver\" => String,\n",
    "#         \"subject title\" => String,\n",
    "#         \"query length\" => Int,\n",
    "#         \"subject length\" => Int,\n",
    "#         \"q. start\" => Int,\n",
    "#         \"q. end\" => Int,\n",
    "#         \"s. start\" => Int,\n",
    "#         \"s. end\" => Int,\n",
    "#         \"evalue\" => Float64,\n",
    "#         \"bit score\" => Float64,\n",
    "#         \"score\" => Float64,\n",
    "#         \"alignment length\" => Int,\n",
    "#         \"% identity\" => Float64,\n",
    "#         \"identical\" => Int,\n",
    "#         \"mismatches\" => Int,\n",
    "#         \"subject tax id\" => Int,\n",
    "#         \"subject sci name\" => String,\n",
    "#         \"subject com names\" => String,\n",
    "#         \"subject blast name\" => String,\n",
    "#         \"subject super kingdom\" => String,\n",
    "#         \"subject tax ids\" => String,\n",
    "#         \"subject sci names\" => String,\n",
    "#         \"subject com names\" => String,\n",
    "#         \"subject blast names\" => String,\n",
    "#         \"subject super kingdoms\" => String,\n",
    "#         \"subject title\" => String,\n",
    "#         \"subject titles\" => String\n",
    "#     )\n",
    "#     data, _ = uCSV.read(\n",
    "#         blast_report,\n",
    "#         delim='\\t',\n",
    "#         comment='#',\n",
    "#         # skipmalformed=true,\n",
    "#         allowmissing=true,\n",
    "#         encodings=Dict(\"N/A\" => missing),\n",
    "#         types=[blast_col_types[h] for h in header])\n",
    "#     return DataFrames.DataFrame(data, header, makeunique=true)\n",
    "# end"
   ]
  },
  {
   "cell_type": "code",
   "execution_count": null,
   "id": "397eda9f-2187-4112-bfa6-670cd2e62770",
   "metadata": {},
   "outputs": [],
   "source": [
    "viral_tax_ids = Set(parse.(Int, filter(!isempty, readlines(`conda run -n taxonkit taxonkit list --ids 10239 --indent \"\"`))))"
   ]
  },
  {
   "cell_type": "code",
   "execution_count": null,
   "id": "3f4cbf88-151f-4d01-973a-cccb7e33c770",
   "metadata": {},
   "outputs": [],
   "source": [
    "basedir = \"/labs/mpsnyder/share/exposome_data\""
   ]
  },
  {
   "cell_type": "code",
   "execution_count": null,
   "id": "8eb6cce1-0484-4c7e-806a-5533ec5c1b14",
   "metadata": {},
   "outputs": [],
   "source": [
    "megablast_results = String[]\n",
    "blastn_results = String[]\n",
    "for batch_directory in [\n",
    "    joinpath(basedir, \"extracted1\"),\n",
    "    joinpath(basedir, \"Expo_pliot1_extracted_hifi_fastqs\")\n",
    "]\n",
    "    for x in filter(x -> occursin(r\"\\.nt\\.megablast\\.txt$\", x), readdir(batch_directory, join=true))\n",
    "        push!(megablast_results, x)\n",
    "    end\n",
    "    for x in filter(x -> occursin(r\"\\.nt\\.blastn\\.txt$\", x), readdir(batch_directory, join=true))\n",
    "        push!(blastn_results, x)\n",
    "    end\n",
    "end"
   ]
  },
  {
   "cell_type": "code",
   "execution_count": null,
   "id": "49c2c886-d34b-4f95-89bf-8aaf446d68ff",
   "metadata": {},
   "outputs": [],
   "source": [
    "joint_blast_results_table = DataFrames.DataFrame()"
   ]
  },
  {
   "cell_type": "code",
   "execution_count": null,
   "id": "c3bc1e7a-4ee4-43fa-b438-bae4c363ae97",
   "metadata": {},
   "outputs": [],
   "source": [
    "    blast_col_types = Dict(\n",
    "        \"query id\" => String,\n",
    "        \"query title\" => String,\n",
    "        \"subject id\" => String,\n",
    "        \"subject gi\" => String,\n",
    "        \"subject acc.\" => String,\n",
    "        \"subject acc.ver\" => String,\n",
    "        \"subject title\" => String,\n",
    "        \"query length\" => Int,\n",
    "        \"subject length\" => Int,\n",
    "        \"q. start\" => Int,\n",
    "        \"q. end\" => Int,\n",
    "        \"s. start\" => Int,\n",
    "        \"s. end\" => Int,\n",
    "        \"evalue\" => Float64,\n",
    "        \"bit score\" => Float64,\n",
    "        \"score\" => Float64,\n",
    "        \"alignment length\" => Int,\n",
    "        \"% identity\" => Float64,\n",
    "        \"identical\" => Int,\n",
    "        \"mismatches\" => Int,\n",
    "        \"subject tax id\" => Int,\n",
    "        \"subject sci name\" => String,\n",
    "        \"subject com names\" => String,\n",
    "        \"subject blast name\" => String,\n",
    "        \"subject super kingdom\" => String,\n",
    "        \"subject tax ids\" => String,\n",
    "        \"subject sci names\" => String,\n",
    "        \"subject com names\" => String,\n",
    "        \"subject blast names\" => String,\n",
    "        \"subject super kingdoms\" => String,\n",
    "        \"subject title\" => String,\n",
    "        \"subject titles\" => String\n",
    "    )"
   ]
  },
  {
   "cell_type": "code",
   "execution_count": null,
   "id": "283b3947-deb2-41a2-9fac-4f4fb30ac765",
   "metadata": {},
   "outputs": [],
   "source": [
    "ProgressMeter.@showprogress for blast_report in megablast_results\n",
    "    header_line = first(Iterators.filter(x -> occursin(r\"# Fields:\", x), eachline(blast_report)))\n",
    "    header = split(last(split(header_line, \": \")), \", \")\n",
    "    viral_lines = String[]\n",
    "    for line in eachline(blast_report)\n",
    "        if !occursin(\"#\", line)\n",
    "            subject_tax_ids = map(x -> parse(Int, x), split(last(split(line, '\\t')), ';'))\n",
    "            if any(x -> x in viral_tax_ids, subject_tax_ids)\n",
    "                push!(viral_lines, line)\n",
    "            end\n",
    "        end\n",
    "    end\n",
    "    data, _ = uCSV.read(IOBuffer(join(viral_lines, '\\n')), delim='\\t')\n",
    "    results_table = DataFrames.DataFrame(data, header)\n",
    "    results_table[!, \"method\"] .= \"megablast\"\n",
    "    results_table[!, \"sample\"] .= replace(basename(blast_report), \".bam.fasta.blastn.nt.megablast.txt\" => \"\")\n",
    "    append!(joint_blast_results_table, results_table, promote=true)\n",
    "end"
   ]
  },
  {
   "cell_type": "code",
   "execution_count": null,
   "id": "3f2e11dc-5ce7-4f7d-9a2f-e596b3d120ca",
   "metadata": {},
   "outputs": [],
   "source": [
    "ProgressMeter.@showprogress for blast_report in blastn_results\n",
    "    try\n",
    "        header_line = first(Iterators.filter(x -> occursin(r\"# Fields:\", x), eachline(blast_report)))\n",
    "        header = split(last(split(header_line, \": \")), \", \")\n",
    "        viral_lines = String[]\n",
    "        for line in eachline(blast_report)\n",
    "            if !occursin(\"#\", line)\n",
    "                subject_tax_ids = map(x -> parse(Int, x), split(last(split(line, '\\t')), ';'))\n",
    "                if any(x -> x in viral_tax_ids, subject_tax_ids)\n",
    "                    push!(viral_lines, line)\n",
    "                end\n",
    "            end\n",
    "        end\n",
    "        data, _ = uCSV.read(IOBuffer(join(viral_lines, '\\n')), delim='\\t', types=[blast_col_types[h] for h in header])\n",
    "        results_table = DataFrames.DataFrame(data, header)\n",
    "        results_table[!, \"method\"] .= \"blastn\"\n",
    "        results_table[!, \"sample\"] .= replace(basename(blast_report), \".bam.fasta.blastn.nt.blastn.txt\" => \"\")\n",
    "        append!(joint_blast_results_table, results_table, promote=true)\n",
    "    catch\n",
    "        println(\"skipping $(blast_report)\")\n",
    "    end\n",
    "end"
   ]
  },
  {
   "cell_type": "code",
   "execution_count": null,
   "id": "ef4d11ae-0b37-40c0-a9b9-aad648bc2687",
   "metadata": {},
   "outputs": [],
   "source": [
    "StatsBase.describe(joint_blast_results_table[!, \"alignment length\"])"
   ]
  },
  {
   "cell_type": "code",
   "execution_count": null,
   "id": "d4447af5-c4fc-44b6-8156-88033c6358e5",
   "metadata": {},
   "outputs": [],
   "source": [
    "# StatsPlots.histogram(joint_blast_results_table[!, \"alignment length\"])"
   ]
  },
  {
   "cell_type": "code",
   "execution_count": null,
   "id": "62de6476-88ea-41c3-a15d-3aa8be54f576",
   "metadata": {},
   "outputs": [],
   "source": [
    "sort!(joint_blast_results_table, \"alignment length\", rev=true)"
   ]
  },
  {
   "cell_type": "code",
   "execution_count": null,
   "id": "72c1b85b-27de-484b-8b6c-75a933c435d1",
   "metadata": {},
   "outputs": [],
   "source": [
    "joint_blast_results_table_filtered = joint_blast_results_table[joint_blast_results_table[!, \"alignment length\"] .> 1000, :]"
   ]
  },
  {
   "cell_type": "code",
   "execution_count": null,
   "id": "f8520813-62a4-48e8-831e-8f81791dfa9c",
   "metadata": {},
   "outputs": [],
   "source": [
    "sequence_identifiers_of_interest = Set(unique(joint_blast_results_table_filtered[!, \"query id\"]))"
   ]
  },
  {
   "cell_type": "code",
   "execution_count": null,
   "id": "308cec2c-ba6d-4262-b2ae-53bf4822d50f",
   "metadata": {},
   "outputs": [],
   "source": [
    "fasta_sequences = []\n",
    "ProgressMeter.@showprogress for fasta_file in replace.(megablast_results, \".blastn.nt.megablast.txt\" => \"\")\n",
    "    for record in FASTX.FASTA.Reader(open(fasta_file))\n",
    "        if FASTX.identifier(record) in sequence_identifiers_of_interest\n",
    "            push!(fasta_sequences, record)\n",
    "        end\n",
    "    end\n",
    "end\n",
    "fasta_sequences"
   ]
  },
  {
   "cell_type": "code",
   "execution_count": null,
   "id": "2456e89d-390c-4243-b029-f87c8e8fef37",
   "metadata": {},
   "outputs": [],
   "source": [
    "# i = 1 labrador retriever\n",
    "# i = 2 unknown\n",
    "# i = 3 bacteriophage\n",
    "# i = 4 bacteriophage\n",
    "# i = 5 dog\n",
    "# i = 6 dog\n",
    "# i = 7 dog\n",
    "# i = 8 dog\n",
    "# i = 9 dog\n",
    "# i = 10 dog\n",
    "# i = 11 e. coli or e. coli phage\n",
    "# i = 12 e. coli or e. coli phage\n",
    "# i = 13 e. coli or e. coli phage\n",
    "# i = 14  e. coli or e. coli phage\n",
    "# i = 15  e. coli or e. coli phage\n",
    "# i = 16  e. coli or e. coli phage\n",
    "record = fasta_sequences[i]\n",
    "println(record)"
   ]
  },
  {
   "cell_type": "code",
   "execution_count": null,
   "id": "ea5210f5-22a1-4c56-ba7e-9412294d04a8",
   "metadata": {},
   "outputs": [],
   "source": [
    "# for x in sort(unique(joint_blast_results_table_filtered[!, \"subject title\"]))\n",
    "#     println(x)\n",
    "# end"
   ]
  },
  {
   "cell_type": "code",
   "execution_count": null,
   "id": "2cd31fbe-d509-498e-8eb9-41a01fd50ed0",
   "metadata": {},
   "outputs": [],
   "source": []
  }
 ],
 "metadata": {
  "kernelspec": {
   "display_name": "Julia 1.9.3",
   "language": "julia",
   "name": "julia-1.9"
  },
  "language_info": {
   "file_extension": ".jl",
   "mimetype": "application/julia",
   "name": "julia",
   "version": "1.9.3"
  }
 },
 "nbformat": 4,
 "nbformat_minor": 5
}
