{
 "cells": [
  {
   "cell_type": "code",
   "execution_count": null,
   "id": "89b5c9fd-a800-4d1c-a007-ea67dbd0d9ef",
   "metadata": {
    "tags": []
   },
   "outputs": [],
   "source": [
    "# if hit plotting library issues, try resetting LD path for julia\n",
    "# can set in ~/.local/share/jupyter/kernels/\n",
    "@assert ENV[\"LD_LIBRARY_PATH\"] == \"\"\n",
    "import Pkg\n",
    "Pkg.activate(;temp=true)\n",
    "Pkg.add(\"Revise\")\n",
    "import Revise\n",
    "\n",
    "Pkg.develop(path=\"$(homedir())/workspace/Mycelia\")\n",
    "import Mycelia\n",
    "\n",
    "pkgs = String[\n",
    "    \"DataFrames\"\n",
    "]\n",
    "Pkg.add(pkgs)\n",
    "for pkg in pkgs\n",
    "    eval(Meta.parse(\"import $pkg\"))\n",
    "end"
   ]
  },
  {
   "cell_type": "code",
   "execution_count": null,
   "id": "1e7840b2-86e8-4e9b-9d6e-54052b32c9ad",
   "metadata": {
    "tags": []
   },
   "outputs": [],
   "source": [
    "db = \"20240418.nt\""
   ]
  },
  {
   "cell_type": "code",
   "execution_count": null,
   "id": "338b790c-2b50-42a3-918d-37bf5a6b7cf6",
   "metadata": {
    "tags": []
   },
   "outputs": [],
   "source": [
    "path_to_db = joinpath(ENV[\"SCRATCH\"], \"workspace\", \"blastdb\", db)\n",
    "# path_to_db = Mycelia.download_blast_db(db=db, source=\"ncbi\")"
   ]
  },
  {
   "cell_type": "code",
   "execution_count": null,
   "id": "0c7b6312-b888-47bc-a73c-5bc39d32db4f",
   "metadata": {
    "tags": []
   },
   "outputs": [],
   "source": [
    "# compressed_fasta_export = Mycelia.export_blast_db(path_to_db = path_to_db)\n",
    "compressed_fasta_export = path_to_db * \".fna.gz\""
   ]
  },
  {
   "cell_type": "code",
   "execution_count": null,
   "id": "6c4f15d3-ddf6-45e1-a2cb-06e6be085196",
   "metadata": {},
   "outputs": [],
   "source": [
    "@assert isfile(compressed_fasta_export)"
   ]
  },
  {
   "cell_type": "code",
   "execution_count": null,
   "id": "df8f1915-635e-4797-bdc7-34ed853a4112",
   "metadata": {},
   "outputs": [],
   "source": [
    "Mycelia.DEFAULT_MINIMAP_DENOMINATOR"
   ]
  },
  {
   "cell_type": "code",
   "execution_count": null,
   "id": "eee439cc-ea19-440c-b981-74465aea0430",
   "metadata": {},
   "outputs": [],
   "source": [
    "# Lawrencium LR7 specs\n",
    "threads = 56\n",
    "# 95% of 512Gb\n",
    "mem_gb = 486\n",
    "cmd, outfile = Mycelia.minimap_index(fasta=compressed_fasta_export, mem_gb=mem_gb, threads=threads, mapping_type=\"sr\", as_string=true, denominator=10)\n",
    "@assert isfile(outfile)"
   ]
  },
  {
   "cell_type": "code",
   "execution_count": null,
   "id": "c42985ca-e97e-42ca-b8e7-0a365841bb1a",
   "metadata": {},
   "outputs": [],
   "source": [
    "# Mycelia.add_bioconda_env(\"minimap2\")"
   ]
  },
  {
   "cell_type": "code",
   "execution_count": null,
   "id": "7083d4fc-d26a-4b67-ae6a-874cca3ba058",
   "metadata": {},
   "outputs": [],
   "source": [
    "rclone = \"/global/software/rocky-8.x86_64/gcc/linux-rocky8-x86_64/gcc-8.5.0/rclone-1.63.1-5mixypplqx7n7i7g7hocthz35pzbzm2g/bin/rclone\""
   ]
  },
  {
   "cell_type": "code",
   "execution_count": null,
   "id": "1ff8c8c4-a36a-4d56-bdbe-7be5daca928c",
   "metadata": {},
   "outputs": [],
   "source": [
    "run(`$(rclone) listremotes`)"
   ]
  },
  {
   "cell_type": "code",
   "execution_count": null,
   "id": "7659f2ca-ee2c-413f-bfaf-53cf3fc3b8b4",
   "metadata": {},
   "outputs": [],
   "source": [
    "SCRATCH_BASE = mkpath(joinpath(ENV[\"SCRATCH\"], \"workspace\", \"Mycelia\", \"projects\", \"viral-exposome\", \"data\", \"SRA\"))\n",
    "@assert isdir(SCRATCH_BASE)"
   ]
  },
  {
   "cell_type": "code",
   "execution_count": null,
   "id": "b4043985-d061-4c63-9ddc-75e7eb7836a1",
   "metadata": {},
   "outputs": [],
   "source": [
    "# can go to 10?\n",
    "# 20?\n",
    "# batch_size = 4\n",
    "batch_size = 16\n",
    "current_start = 80\n",
    "current_end = current_start + batch_size\n",
    "# current_end = 21"
   ]
  },
  {
   "cell_type": "code",
   "execution_count": null,
   "id": "c9d5d450-29f9-49bb-92fb-4dd5e8f3154e",
   "metadata": {},
   "outputs": [],
   "source": [
    "# should be starting on 8?\n",
    "remote_sra_dir = \"stanford_viral_exposome:viral-exposome/data/SRA\"\n",
    "sra_directories = replace.(readlines(`$(rclone) lsf $(remote_sra_dir)`), \"/\" => \"\")\n",
    "for sra_dir in sra_directories[current_start:current_end]\n",
    "    trim_galore_dir = joinpath(remote_sra_dir, sra_dir, \"trim_galore\")\n",
    "    directory_contents = readlines(`$(rclone) lsf $(trim_galore_dir)`)\n",
    "    has_been_mapped = length(filter(x -> occursin(r\"nt.fna.gz.xsr.I[\\d]+G.mmi.minimap2.sam.gz\", x), directory_contents)) == 1\n",
    "    has_been_extracted = length(filter(x -> occursin(r\"nt.fna.gz.xsr.I[\\d]+G.mmi.minimap2.sam.query-ref.tsv.gz\", x), directory_contents)) == 1\n",
    "    @show sra_dir\n",
    "    @show has_been_mapped\n",
    "    @show has_been_extracted\n",
    "    if has_been_mapped && has_been_extracted\n",
    "        println(\"done\")\n",
    "        continue\n",
    "    elseif has_been_mapped && !has_been_extracted\n",
    "        # TODO extract me!\n",
    "        println(\"extract me!\")\n",
    "        continue\n",
    "    else\n",
    "        @assert !has_been_extracted\n",
    "\n",
    "        local_sra_dir = joinpath(SCRATCH_BASE, sra_dir)\n",
    "\n",
    "        forward = first(filter(f -> occursin(r\"_1_val_1\\.fq\\.gz$\", f), directory_contents))\n",
    "        remote_forward = joinpath(trim_galore_dir, forward)\n",
    "        local_forward = joinpath(local_sra_dir, forward)\n",
    "\n",
    "        reverse = first(filter(f -> occursin(r\"_2_val_2\\.fq\\.gz$\", f), directory_contents))\n",
    "        remote_reverse = joinpath(trim_galore_dir, reverse)\n",
    "        local_reverse = joinpath(local_sra_dir, reverse)\n",
    "\n",
    "        @show forward, remote_forward, local_forward\n",
    "        @show reverse, remote_reverse, local_reverse\n",
    "\n",
    "        if !isfile(local_forward)\n",
    "            run(`$(rclone) copy --verbose $(remote_forward) $(dirname(local_forward))`)\n",
    "            @assert isfile(local_forward)\n",
    "        end\n",
    "        if !isfile(local_reverse)\n",
    "            run(`$(rclone) copy --verbose $(remote_reverse) $(dirname(local_reverse))`)\n",
    "            @assert isfile(local_reverse)\n",
    "        end\n",
    "        \n",
    "        map_result = Mycelia.minimap_map_paired_end_with_index(fasta = compressed_fasta_export, forward = local_forward, reverse = local_reverse, mem_gb = mem_gb, threads=threads, as_string=true)\n",
    "        outfile = map_result.outfile\n",
    "        cmd = map_result.cmd\n",
    "        # @show cmd\n",
    "        rclone_upload = \"$(rclone) copy --verbose --drive-chunk-size 2G --drive-upload-cutoff 1T --tpslimit 1 --low-level-retries=10 --retries=10 --retries-sleep=10s  $(outfile) $(trim_galore_dir)\"\n",
    "        rm_local_directory = \"rm -r $(local_sra_dir)\"\n",
    "        cmd = rstrip(cmd) * \" \\\\\\n&& \" * rclone_upload * \" \\\\\\n&& \" * rm_local_directory\n",
    "        println(cmd)\n",
    "        # resubmit if we run out of time\n",
    "        if !isfile(outfile)\n",
    "            println(outfile)\n",
    "            Mycelia.lawrencium_sbatch(\n",
    "                job_name=basename(outfile),\n",
    "                mail_user=\"cameron.prybol@gmail.com\",\n",
    "                logdir=mkpath(\"$(homedir())/workspace/slurmlogs\"),\n",
    "                mem_gb=mem_gb,\n",
    "                cpus_per_task=threads,\n",
    "                partition=\"lr7\",\n",
    "                account=\"pc_mfnanofabio\",\n",
    "                time=\"3-00:00:00\",\n",
    "                qos=\"lr_normal\",\n",
    "                cmd=cmd)\n",
    "            # set this to be the runtime of the mapping jobs\n",
    "            sleep(60)\n",
    "        else\n",
    "            @show isfile(outfile)\n",
    "            @show Base.format_bytes(filesize(outfile))\n",
    "        end\n",
    "    end\n",
    "end"
   ]
  }
 ],
 "metadata": {
  "kernelspec": {
   "display_name": "julia 1.10.5",
   "language": "julia",
   "name": "julia-1.10"
  },
  "language_info": {
   "file_extension": ".jl",
   "mimetype": "application/julia",
   "name": "julia",
   "version": "1.10.5"
  }
 },
 "nbformat": 4,
 "nbformat_minor": 5
}
