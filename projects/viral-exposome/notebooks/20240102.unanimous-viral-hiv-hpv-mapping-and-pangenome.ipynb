{
 "cells": [
  {
   "cell_type": "code",
   "execution_count": null,
   "id": "b1ec3ac0-e197-418f-86be-f2e8a5fadb82",
   "metadata": {},
   "outputs": [],
   "source": [
    "# run(`conda create --channel conda-forge --channel bioconda --channel defaults --strict-channel-priority --name blast blast`)\n",
    "# run(`conda create --channel conda-forge --channel bioconda --channel defaults --strict-channel-priority --name taxonkit taxonkit`)\n",
    "# run(`conda create --channel conda-forge --channel bioconda --channel defaults --strict-channel-priority --name minimap2 minimap2`)"
   ]
  },
  {
   "cell_type": "code",
   "execution_count": 27,
   "id": "c17e93fe-d82c-45fa-8fee-1e86d080538c",
   "metadata": {},
   "outputs": [],
   "source": [
    "# don't try and install plotting libraries without this\n",
    "# can set in ~/.local/share/jupyter/kernels/\n",
    "@assert ENV[\"LD_LIBRARY_PATH\"] == \"\"\n",
    "import Pkg\n",
    "pkgs = [\n",
    "    \"Revise\",\n",
    "    \"DataFrames\",\n",
    "    \"uCSV\",\n",
    "    \"StatsPlots\",\n",
    "    \"StatsBase\",\n",
    "    \"FreqTables\",\n",
    "    \"Conda\",\n",
    "    \"ProgressMeter\",\n",
    "    \"PrettyTables\",\n",
    "    \"Distances\",\n",
    "    \"Statistics\",\n",
    "    \"Kmers\",\n",
    "    \"Colors\",\n",
    "    \"FASTX\"\n",
    "]\n",
    "# Pkg.add(pkgs)\n",
    "for pkg in pkgs\n",
    "    eval(Meta.parse(\"import $pkg\"))\n",
    "end\n",
    "import Mycelia"
   ]
  },
  {
   "cell_type": "code",
   "execution_count": 2,
   "id": "71f41bbd-6d35-4ce4-8ce2-5cabae63433b",
   "metadata": {},
   "outputs": [
    {
     "name": "stderr",
     "output_type": "stream",
     "text": [
      "\u001b[33m\u001b[1m┌ \u001b[22m\u001b[39m\u001b[33m\u001b[1mWarning: \u001b[22m\u001b[39mLarge values for `typedetectrows` will reduce performance. Consider manually declaring the types of columns using the `types` argument instead.\n",
      "\u001b[33m\u001b[1m└ \u001b[22m\u001b[39m\u001b[90m@ uCSV ~/.julia/packages/uCSV/goLRH/src/read.jl:213\u001b[39m\n",
      "\u001b[33m\u001b[1m┌ \u001b[22m\u001b[39m\u001b[33m\u001b[1mWarning: \u001b[22m\u001b[39mLarge values for `typedetectrows` will reduce performance. Consider manually declaring the types of columns using the `types` argument instead.\n",
      "\u001b[33m\u001b[1m└ \u001b[22m\u001b[39m\u001b[90m@ uCSV ~/.julia/packages/uCSV/goLRH/src/read.jl:213\u001b[39m\n"
     ]
    },
    {
     "data": {
      "text/plain": [
       "213-element Vector{String}:\n",
       " \"/oak/stanford/scg/lab_mpsnyder/cjprybol/Mycelia/projects/viral-exposome-discovery/data/SRA/SRR6399706\"\n",
       " \"/oak/stanford/scg/lab_mpsnyder/cjprybol/Mycelia/projects/viral-exposome-discovery/data/SRA/SRR6399707\"\n",
       " \"/oak/stanford/scg/lab_mpsnyder/cjprybol/Mycelia/projects/viral-exposome-discovery/data/SRA/SRR6399708\"\n",
       " \"/oak/stanford/scg/lab_mpsnyder/cjprybol/Mycelia/projects/viral-exposome-discovery/data/SRA/SRR6399526\"\n",
       " \"/oak/stanford/scg/lab_mpsnyder/cjprybol/Mycelia/projects/viral-exposome-discovery/data/SRA/SRR6399525\"\n",
       " \"/oak/stanford/scg/lab_mpsnyder/cjprybol/Mycelia/projects/viral-exposome-discovery/data/SRA/SRR6399520\"\n",
       " \"/oak/stanford/scg/lab_mpsnyder/cjprybol/Mycelia/projects/viral-exposome-discovery/data/SRA/SRR6399972\"\n",
       " \"/oak/stanford/scg/lab_mpsnyder/cjprybol/Mycelia/projects/viral-exposome-discovery/data/SRA/SRR6399522\"\n",
       " \"/oak/stanford/scg/lab_mpsnyder/cjprybol/Mycelia/projects/viral-exposome-discovery/data/SRA/SRR6399521\"\n",
       " \"/oak/stanford/scg/lab_mpsnyder/cjprybol/Mycelia/projects/viral-exposome-discovery/data/SRA/SRR6399516\"\n",
       " \"/oak/stanford/scg/lab_mpsnyder/cjprybol/Mycelia/projects/viral-exposome-discovery/data/SRA/SRR6399515\"\n",
       " \"/oak/stanford/scg/lab_mpsnyder/cjprybol/Mycelia/projects/viral-exposome-discovery/data/SRA/SRR6399518\"\n",
       " \"/oak/stanford/scg/lab_mpsnyder/cjprybol/Mycelia/projects/viral-exposome-discovery/data/SRA/SRR6399517\"\n",
       " ⋮\n",
       " \"/oak/stanford/scg/lab_mpsnyder/cjprybol/Mycelia/projects/viral-exposome-discovery/data/SRA/SRR6399754\"\n",
       " \"/oak/stanford/scg/lab_mpsnyder/cjprybol/Mycelia/projects/viral-exposome-discovery/data/SRA/SRR6399750\"\n",
       " \"/oak/stanford/scg/lab_mpsnyder/cjprybol/Mycelia/projects/viral-exposome-discovery/data/SRA/SRR6399748\"\n",
       " \"/oak/stanford/scg/lab_mpsnyder/cjprybol/Mycelia/projects/viral-exposome-discovery/data/SRA/SRR6399745\"\n",
       " \"/oak/stanford/scg/lab_mpsnyder/cjprybol/Mycelia/projects/viral-exposome-discovery/data/SRA/SRR6399746\"\n",
       " \"/oak/stanford/scg/lab_mpsnyder/cjprybol/Mycelia/projects/viral-exposome-discovery/data/SRA/SRR6399934\"\n",
       " \"/oak/stanford/scg/lab_mpsnyder/cjprybol/Mycelia/projects/viral-exposome-discovery/data/SRA/SRR6399935\"\n",
       " \"/oak/stanford/scg/lab_mpsnyder/cjprybol/Mycelia/projects/viral-exposome-discovery/data/SRA/SRR6399932\"\n",
       " \"/oak/stanford/scg/lab_mpsnyder/cjprybol/Mycelia/projects/viral-exposome-discovery/data/SRA/SRR6399925\"\n",
       " \"/oak/stanford/scg/lab_mpsnyder/cjprybol/Mycelia/projects/viral-exposome-discovery/data/SRA/SRR6399926\"\n",
       " \"/oak/stanford/scg/lab_mpsnyder/cjprybol/Mycelia/projects/viral-exposome-discovery/data/SRA/SRR6399927\"\n",
       " \"/oak/stanford/scg/lab_mpsnyder/cjprybol/Mycelia/projects/viral-exposome-discovery/data/SRA/SRR6399928\""
      ]
     },
     "execution_count": 2,
     "metadata": {},
     "output_type": "execute_result"
    }
   ],
   "source": [
    "base_dir = dirname(pwd())\n",
    "data_dir = joinpath(base_dir, \"data\")\n",
    "results_dir = joinpath(data_dir, \"results\")\n",
    "\n",
    "# load in metadata\n",
    "metadata_dir = joinpath(dirname(pwd()), \"metadata\")\n",
    "\n",
    "exposome_environmental_data = DataFrames.DataFrame(uCSV.read(\n",
    "    joinpath(metadata_dir, \"metadata_exposome.rds.tsv\"),\n",
    "    delim='\\t',\n",
    "    header=1,\n",
    "    typedetectrows=300\n",
    "))\n",
    "\n",
    "joint_sample_metadata = DataFrames.DataFrame(uCSV.read(\n",
    "    joinpath(metadata_dir, \"exposome/joint_sample_metadata.tsv\"),\n",
    "    delim='\\t',\n",
    "    header=1,\n",
    "    typedetectrows=300\n",
    "))\n",
    "\n",
    "@assert joint_sample_metadata[!, \"Library Name\"] == joint_sample_metadata[!, \"LibraryName\"]\n",
    "\n",
    "joint_metadata = DataFrames.innerjoin(\n",
    "    joint_sample_metadata,\n",
    "    exposome_environmental_data,\n",
    "    on=\"Library Name\" => \"samplenames\")\n",
    "\n",
    "sample_directories = joinpath.(data_dir, \"SRA\", joint_metadata[!, \"Run\"])"
   ]
  },
  {
   "cell_type": "code",
   "execution_count": 3,
   "id": "63c59f16-14e7-49a2-af66-4ebff7900b04",
   "metadata": {},
   "outputs": [
    {
     "data": {
      "text/plain": [
       "Dict{String, Dict{String, Set{String}}}()"
      ]
     },
     "execution_count": 3,
     "metadata": {},
     "output_type": "execute_result"
    }
   ],
   "source": [
    "viral_contigs_by_tool = Dict{String, Dict{String, Set{String}}}()"
   ]
  },
  {
   "cell_type": "code",
   "execution_count": 4,
   "id": "f33c8913-6313-494e-aa11-bd1b30208e17",
   "metadata": {},
   "outputs": [
    {
     "name": "stderr",
     "output_type": "stream",
     "text": [
      "\u001b[32mProgress: 100%|█████████████████████████████████████████| Time: 0:00:08\u001b[39m\n"
     ]
    },
    {
     "data": {
      "text/html": [
       "<div><div style = \"float: left;\"><span>17362×12 DataFrame</span></div><div style = \"float: right;\"><span style = \"font-style: italic;\">17337 rows omitted</span></div><div style = \"clear: both;\"></div></div><div class = \"data-frame\" style = \"overflow-x: scroll;\"><table class = \"data-frame\" style = \"margin-bottom: 6px;\"><thead><tr class = \"header\"><th class = \"rowNumber\" style = \"font-weight: bold; text-align: right;\">Row</th><th style = \"text-align: left;\">seq_name</th><th style = \"text-align: left;\">length</th><th style = \"text-align: left;\">topology</th><th style = \"text-align: left;\">coordinates</th><th style = \"text-align: left;\">n_genes</th><th style = \"text-align: left;\">genetic_code</th><th style = \"text-align: left;\">virus_score</th><th style = \"text-align: left;\">fdr</th><th style = \"text-align: left;\">n_hallmarks</th><th style = \"text-align: left;\">marker_enrichment</th><th style = \"text-align: left;\">taxonomy</th><th style = \"text-align: left;\">sample_id</th></tr><tr class = \"subheader headerLastRow\"><th class = \"rowNumber\" style = \"font-weight: bold; text-align: right;\"></th><th title = \"String\" style = \"text-align: left;\">String</th><th title = \"Int64\" style = \"text-align: left;\">Int64</th><th title = \"String\" style = \"text-align: left;\">String</th><th title = \"String\" style = \"text-align: left;\">String</th><th title = \"Int64\" style = \"text-align: left;\">Int64</th><th title = \"Int64\" style = \"text-align: left;\">Int64</th><th title = \"Float64\" style = \"text-align: left;\">Float64</th><th title = \"String\" style = \"text-align: left;\">String</th><th title = \"Int64\" style = \"text-align: left;\">Int64</th><th title = \"Float64\" style = \"text-align: left;\">Float64</th><th title = \"String\" style = \"text-align: left;\">String</th><th title = \"String\" style = \"text-align: left;\">String</th></tr></thead><tbody><tr><td class = \"rowNumber\" style = \"font-weight: bold; text-align: right;\">1</td><td style = \"text-align: left;\">24575</td><td style = \"text-align: right;\">5527</td><td style = \"text-align: left;\">DTR</td><td style = \"text-align: left;\">NA</td><td style = \"text-align: right;\">8</td><td style = \"text-align: right;\">11</td><td style = \"text-align: right;\">0.982</td><td style = \"text-align: left;\">NA</td><td style = \"text-align: right;\">2</td><td style = \"text-align: right;\">10.3097</td><td style = \"text-align: left;\">Viruses;Monodnaviria;Sangervirae;Phixviricota;Malgrandaviricetes;Petitvirales;Microviridae</td><td style = \"text-align: left;\">SRR6399706</td></tr><tr><td class = \"rowNumber\" style = \"font-weight: bold; text-align: right;\">2</td><td style = \"text-align: left;\">29271</td><td style = \"text-align: right;\">2611</td><td style = \"text-align: left;\">No terminal repeats</td><td style = \"text-align: left;\">NA</td><td style = \"text-align: right;\">4</td><td style = \"text-align: right;\">11</td><td style = \"text-align: right;\">0.9786</td><td style = \"text-align: left;\">NA</td><td style = \"text-align: right;\">0</td><td style = \"text-align: right;\">6.471</td><td style = \"text-align: left;\">Viruses;Duplodnaviria;Heunggongvirae;Uroviricota;Caudoviricetes</td><td style = \"text-align: left;\">SRR6399706</td></tr><tr><td class = \"rowNumber\" style = \"font-weight: bold; text-align: right;\">3</td><td style = \"text-align: left;\">25956</td><td style = \"text-align: right;\">4092</td><td style = \"text-align: left;\">No terminal repeats</td><td style = \"text-align: left;\">NA</td><td style = \"text-align: right;\">9</td><td style = \"text-align: right;\">11</td><td style = \"text-align: right;\">0.9648</td><td style = \"text-align: left;\">NA</td><td style = \"text-align: right;\">0</td><td style = \"text-align: right;\">5.1548</td><td style = \"text-align: left;\">Viruses;Duplodnaviria;Heunggongvirae;Uroviricota;Caudoviricetes</td><td style = \"text-align: left;\">SRR6399706</td></tr><tr><td class = \"rowNumber\" style = \"font-weight: bold; text-align: right;\">4</td><td style = \"text-align: left;\">29340</td><td style = \"text-align: right;\">2590</td><td style = \"text-align: left;\">No terminal repeats</td><td style = \"text-align: left;\">NA</td><td style = \"text-align: right;\">4</td><td style = \"text-align: right;\">11</td><td style = \"text-align: right;\">0.9562</td><td style = \"text-align: left;\">NA</td><td style = \"text-align: right;\">0</td><td style = \"text-align: right;\">6.6376</td><td style = \"text-align: left;\">Viruses;Duplodnaviria;Heunggongvirae;Uroviricota;Caudoviricetes</td><td style = \"text-align: left;\">SRR6399706</td></tr><tr><td class = \"rowNumber\" style = \"font-weight: bold; text-align: right;\">5</td><td style = \"text-align: left;\">17257</td><td style = \"text-align: right;\">658</td><td style = \"text-align: left;\">No terminal repeats</td><td style = \"text-align: left;\">NA</td><td style = \"text-align: right;\">2</td><td style = \"text-align: right;\">11</td><td style = \"text-align: right;\">0.9522</td><td style = \"text-align: left;\">NA</td><td style = \"text-align: right;\">2</td><td style = \"text-align: right;\">2.787</td><td style = \"text-align: left;\">Viruses;Duplodnaviria;Heunggongvirae;Uroviricota;Caudoviricetes</td><td style = \"text-align: left;\">SRR6399706</td></tr><tr><td class = \"rowNumber\" style = \"font-weight: bold; text-align: right;\">6</td><td style = \"text-align: left;\">28830</td><td style = \"text-align: right;\">3412</td><td style = \"text-align: left;\">No terminal repeats</td><td style = \"text-align: left;\">NA</td><td style = \"text-align: right;\">7</td><td style = \"text-align: right;\">11</td><td style = \"text-align: right;\">0.947</td><td style = \"text-align: left;\">NA</td><td style = \"text-align: right;\">0</td><td style = \"text-align: right;\">2.5057</td><td style = \"text-align: left;\">Viruses;Duplodnaviria;Heunggongvirae;Uroviricota;Caudoviricetes</td><td style = \"text-align: left;\">SRR6399706</td></tr><tr><td class = \"rowNumber\" style = \"font-weight: bold; text-align: right;\">7</td><td style = \"text-align: left;\">23428</td><td style = \"text-align: right;\">3277</td><td style = \"text-align: left;\">No terminal repeats</td><td style = \"text-align: left;\">NA</td><td style = \"text-align: right;\">9</td><td style = \"text-align: right;\">11</td><td style = \"text-align: right;\">0.9386</td><td style = \"text-align: left;\">NA</td><td style = \"text-align: right;\">0</td><td style = \"text-align: right;\">7.8593</td><td style = \"text-align: left;\">Viruses;Duplodnaviria;Heunggongvirae;Uroviricota;Caudoviricetes</td><td style = \"text-align: left;\">SRR6399706</td></tr><tr><td class = \"rowNumber\" style = \"font-weight: bold; text-align: right;\">8</td><td style = \"text-align: left;\">9279</td><td style = \"text-align: right;\">4961</td><td style = \"text-align: left;\">No terminal repeats</td><td style = \"text-align: left;\">NA</td><td style = \"text-align: right;\">1</td><td style = \"text-align: right;\">11</td><td style = \"text-align: right;\">0.9223</td><td style = \"text-align: left;\">NA</td><td style = \"text-align: right;\">0</td><td style = \"text-align: right;\">1.7183</td><td style = \"text-align: left;\">Viruses;Varidnaviria;Bamfordvirae;Preplasmiviricota;Tectiliviricetes;Autolykiviridae</td><td style = \"text-align: left;\">SRR6399706</td></tr><tr><td class = \"rowNumber\" style = \"font-weight: bold; text-align: right;\">9</td><td style = \"text-align: left;\">24694</td><td style = \"text-align: right;\">2652</td><td style = \"text-align: left;\">No terminal repeats</td><td style = \"text-align: left;\">NA</td><td style = \"text-align: right;\">8</td><td style = \"text-align: right;\">11</td><td style = \"text-align: right;\">0.9201</td><td style = \"text-align: left;\">NA</td><td style = \"text-align: right;\">0</td><td style = \"text-align: right;\">3.4366</td><td style = \"text-align: left;\">Viruses;Duplodnaviria;Heunggongvirae;Uroviricota;Caudoviricetes</td><td style = \"text-align: left;\">SRR6399706</td></tr><tr><td class = \"rowNumber\" style = \"font-weight: bold; text-align: right;\">10</td><td style = \"text-align: left;\">19872</td><td style = \"text-align: right;\">6108</td><td style = \"text-align: left;\">No terminal repeats</td><td style = \"text-align: left;\">NA</td><td style = \"text-align: right;\">3</td><td style = \"text-align: right;\">11</td><td style = \"text-align: right;\">0.8896</td><td style = \"text-align: left;\">NA</td><td style = \"text-align: right;\">1</td><td style = \"text-align: right;\">1.7183</td><td style = \"text-align: left;\">Viruses;Duplodnaviria;Heunggongvirae;Uroviricota;Caudoviricetes</td><td style = \"text-align: left;\">SRR6399706</td></tr><tr><td class = \"rowNumber\" style = \"font-weight: bold; text-align: right;\">11</td><td style = \"text-align: left;\">19847</td><td style = \"text-align: right;\">9778</td><td style = \"text-align: left;\">No terminal repeats</td><td style = \"text-align: left;\">NA</td><td style = \"text-align: right;\">13</td><td style = \"text-align: right;\">11</td><td style = \"text-align: right;\">0.8233</td><td style = \"text-align: left;\">NA</td><td style = \"text-align: right;\">0</td><td style = \"text-align: right;\">1.7183</td><td style = \"text-align: left;\">Viruses;Riboviria;Pararnavirae;Artverviricota;Revtraviricetes;Ortervirales;Retroviridae</td><td style = \"text-align: left;\">SRR6399706</td></tr><tr><td class = \"rowNumber\" style = \"font-weight: bold; text-align: right;\">12</td><td style = \"text-align: left;\">18281</td><td style = \"text-align: right;\">3258</td><td style = \"text-align: left;\">ITR</td><td style = \"text-align: left;\">NA</td><td style = \"text-align: right;\">6</td><td style = \"text-align: right;\">11</td><td style = \"text-align: right;\">0.8002</td><td style = \"text-align: left;\">NA</td><td style = \"text-align: right;\">0</td><td style = \"text-align: right;\">0.0</td><td style = \"text-align: left;\">Unclassified</td><td style = \"text-align: left;\">SRR6399706</td></tr><tr><td class = \"rowNumber\" style = \"font-weight: bold; text-align: right;\">13</td><td style = \"text-align: left;\">17303</td><td style = \"text-align: right;\">2656</td><td style = \"text-align: left;\">No terminal repeats</td><td style = \"text-align: left;\">NA</td><td style = \"text-align: right;\">3</td><td style = \"text-align: right;\">11</td><td style = \"text-align: right;\">0.7985</td><td style = \"text-align: left;\">NA</td><td style = \"text-align: right;\">0</td><td style = \"text-align: right;\">0.0</td><td style = \"text-align: left;\">Unclassified</td><td style = \"text-align: left;\">SRR6399706</td></tr><tr><td style = \"text-align: right;\">&vellip;</td><td style = \"text-align: right;\">&vellip;</td><td style = \"text-align: right;\">&vellip;</td><td style = \"text-align: right;\">&vellip;</td><td style = \"text-align: right;\">&vellip;</td><td style = \"text-align: right;\">&vellip;</td><td style = \"text-align: right;\">&vellip;</td><td style = \"text-align: right;\">&vellip;</td><td style = \"text-align: right;\">&vellip;</td><td style = \"text-align: right;\">&vellip;</td><td style = \"text-align: right;\">&vellip;</td><td style = \"text-align: right;\">&vellip;</td><td style = \"text-align: right;\">&vellip;</td></tr><tr><td class = \"rowNumber\" style = \"font-weight: bold; text-align: right;\">17351</td><td style = \"text-align: left;\">8611</td><td style = \"text-align: right;\">4218</td><td style = \"text-align: left;\">No terminal repeats</td><td style = \"text-align: left;\">NA</td><td style = \"text-align: right;\">9</td><td style = \"text-align: right;\">11</td><td style = \"text-align: right;\">0.7414</td><td style = \"text-align: left;\">NA</td><td style = \"text-align: right;\">0</td><td style = \"text-align: right;\">0.0</td><td style = \"text-align: left;\">Unclassified</td><td style = \"text-align: left;\">SRR6399928</td></tr><tr><td class = \"rowNumber\" style = \"font-weight: bold; text-align: right;\">17352</td><td style = \"text-align: left;\">85887</td><td style = \"text-align: right;\">2513</td><td style = \"text-align: left;\">No terminal repeats</td><td style = \"text-align: left;\">NA</td><td style = \"text-align: right;\">2</td><td style = \"text-align: right;\">11</td><td style = \"text-align: right;\">0.7413</td><td style = \"text-align: left;\">NA</td><td style = \"text-align: right;\">0</td><td style = \"text-align: right;\">0.0</td><td style = \"text-align: left;\">Unclassified</td><td style = \"text-align: left;\">SRR6399928</td></tr><tr><td class = \"rowNumber\" style = \"font-weight: bold; text-align: right;\">17353</td><td style = \"text-align: left;\">92422</td><td style = \"text-align: right;\">4371</td><td style = \"text-align: left;\">No terminal repeats</td><td style = \"text-align: left;\">NA</td><td style = \"text-align: right;\">3</td><td style = \"text-align: right;\">11</td><td style = \"text-align: right;\">0.7238</td><td style = \"text-align: left;\">NA</td><td style = \"text-align: right;\">0</td><td style = \"text-align: right;\">0.0</td><td style = \"text-align: left;\">Unclassified</td><td style = \"text-align: left;\">SRR6399928</td></tr><tr><td class = \"rowNumber\" style = \"font-weight: bold; text-align: right;\">17354</td><td style = \"text-align: left;\">33194</td><td style = \"text-align: right;\">3478</td><td style = \"text-align: left;\">No terminal repeats</td><td style = \"text-align: left;\">NA</td><td style = \"text-align: right;\">2</td><td style = \"text-align: right;\">11</td><td style = \"text-align: right;\">0.7183</td><td style = \"text-align: left;\">NA</td><td style = \"text-align: right;\">0</td><td style = \"text-align: right;\">0.0</td><td style = \"text-align: left;\">Unclassified</td><td style = \"text-align: left;\">SRR6399928</td></tr><tr><td class = \"rowNumber\" style = \"font-weight: bold; text-align: right;\">17355</td><td style = \"text-align: left;\">59629</td><td style = \"text-align: right;\">3638</td><td style = \"text-align: left;\">No terminal repeats</td><td style = \"text-align: left;\">NA</td><td style = \"text-align: right;\">4</td><td style = \"text-align: right;\">11</td><td style = \"text-align: right;\">0.7167</td><td style = \"text-align: left;\">NA</td><td style = \"text-align: right;\">0</td><td style = \"text-align: right;\">0.0</td><td style = \"text-align: left;\">Unclassified</td><td style = \"text-align: left;\">SRR6399928</td></tr><tr><td class = \"rowNumber\" style = \"font-weight: bold; text-align: right;\">17356</td><td style = \"text-align: left;\">70194</td><td style = \"text-align: right;\">2826</td><td style = \"text-align: left;\">No terminal repeats</td><td style = \"text-align: left;\">NA</td><td style = \"text-align: right;\">1</td><td style = \"text-align: right;\">11</td><td style = \"text-align: right;\">0.7116</td><td style = \"text-align: left;\">NA</td><td style = \"text-align: right;\">0</td><td style = \"text-align: right;\">0.0</td><td style = \"text-align: left;\">Unclassified</td><td style = \"text-align: left;\">SRR6399928</td></tr><tr><td class = \"rowNumber\" style = \"font-weight: bold; text-align: right;\">17357</td><td style = \"text-align: left;\">35936</td><td style = \"text-align: right;\">2578</td><td style = \"text-align: left;\">No terminal repeats</td><td style = \"text-align: left;\">NA</td><td style = \"text-align: right;\">4</td><td style = \"text-align: right;\">11</td><td style = \"text-align: right;\">0.7095</td><td style = \"text-align: left;\">NA</td><td style = \"text-align: right;\">0</td><td style = \"text-align: right;\">0.0</td><td style = \"text-align: left;\">Unclassified</td><td style = \"text-align: left;\">SRR6399928</td></tr><tr><td class = \"rowNumber\" style = \"font-weight: bold; text-align: right;\">17358</td><td style = \"text-align: left;\">61689</td><td style = \"text-align: right;\">3455</td><td style = \"text-align: left;\">No terminal repeats</td><td style = \"text-align: left;\">NA</td><td style = \"text-align: right;\">1</td><td style = \"text-align: right;\">11</td><td style = \"text-align: right;\">0.7093</td><td style = \"text-align: left;\">NA</td><td style = \"text-align: right;\">0</td><td style = \"text-align: right;\">0.0</td><td style = \"text-align: left;\">Unclassified</td><td style = \"text-align: left;\">SRR6399928</td></tr><tr><td class = \"rowNumber\" style = \"font-weight: bold; text-align: right;\">17359</td><td style = \"text-align: left;\">48337</td><td style = \"text-align: right;\">4828</td><td style = \"text-align: left;\">No terminal repeats</td><td style = \"text-align: left;\">NA</td><td style = \"text-align: right;\">6</td><td style = \"text-align: right;\">11</td><td style = \"text-align: right;\">0.7065</td><td style = \"text-align: left;\">NA</td><td style = \"text-align: right;\">0</td><td style = \"text-align: right;\">0.0</td><td style = \"text-align: left;\">Unclassified</td><td style = \"text-align: left;\">SRR6399928</td></tr><tr><td class = \"rowNumber\" style = \"font-weight: bold; text-align: right;\">17360</td><td style = \"text-align: left;\">73404</td><td style = \"text-align: right;\">3333</td><td style = \"text-align: left;\">ITR</td><td style = \"text-align: left;\">NA</td><td style = \"text-align: right;\">3</td><td style = \"text-align: right;\">11</td><td style = \"text-align: right;\">0.7044</td><td style = \"text-align: left;\">NA</td><td style = \"text-align: right;\">0</td><td style = \"text-align: right;\">0.0</td><td style = \"text-align: left;\">Unclassified</td><td style = \"text-align: left;\">SRR6399928</td></tr><tr><td class = \"rowNumber\" style = \"font-weight: bold; text-align: right;\">17361</td><td style = \"text-align: left;\">65411</td><td style = \"text-align: right;\">2520</td><td style = \"text-align: left;\">No terminal repeats</td><td style = \"text-align: left;\">NA</td><td style = \"text-align: right;\">2</td><td style = \"text-align: right;\">11</td><td style = \"text-align: right;\">0.7036</td><td style = \"text-align: left;\">NA</td><td style = \"text-align: right;\">0</td><td style = \"text-align: right;\">0.0</td><td style = \"text-align: left;\">Unclassified</td><td style = \"text-align: left;\">SRR6399928</td></tr><tr><td class = \"rowNumber\" style = \"font-weight: bold; text-align: right;\">17362</td><td style = \"text-align: left;\">12010</td><td style = \"text-align: right;\">4620</td><td style = \"text-align: left;\">No terminal repeats</td><td style = \"text-align: left;\">NA</td><td style = \"text-align: right;\">5</td><td style = \"text-align: right;\">11</td><td style = \"text-align: right;\">0.7036</td><td style = \"text-align: left;\">NA</td><td style = \"text-align: right;\">0</td><td style = \"text-align: right;\">0.0</td><td style = \"text-align: left;\">Unclassified</td><td style = \"text-align: left;\">SRR6399928</td></tr></tbody></table></div>"
      ],
      "text/latex": [
       "\\begin{tabular}{r|cccccccc}\n",
       "\t& seq\\_name & length & topology & coordinates & n\\_genes & genetic\\_code & virus\\_score & \\\\\n",
       "\t\\hline\n",
       "\t& String & Int64 & String & String & Int64 & Int64 & Float64 & \\\\\n",
       "\t\\hline\n",
       "\t1 & 24575 & 5527 & DTR & NA & 8 & 11 & 0.982 & $\\dots$ \\\\\n",
       "\t2 & 29271 & 2611 & No terminal repeats & NA & 4 & 11 & 0.9786 & $\\dots$ \\\\\n",
       "\t3 & 25956 & 4092 & No terminal repeats & NA & 9 & 11 & 0.9648 & $\\dots$ \\\\\n",
       "\t4 & 29340 & 2590 & No terminal repeats & NA & 4 & 11 & 0.9562 & $\\dots$ \\\\\n",
       "\t5 & 17257 & 658 & No terminal repeats & NA & 2 & 11 & 0.9522 & $\\dots$ \\\\\n",
       "\t6 & 28830 & 3412 & No terminal repeats & NA & 7 & 11 & 0.947 & $\\dots$ \\\\\n",
       "\t7 & 23428 & 3277 & No terminal repeats & NA & 9 & 11 & 0.9386 & $\\dots$ \\\\\n",
       "\t8 & 9279 & 4961 & No terminal repeats & NA & 1 & 11 & 0.9223 & $\\dots$ \\\\\n",
       "\t9 & 24694 & 2652 & No terminal repeats & NA & 8 & 11 & 0.9201 & $\\dots$ \\\\\n",
       "\t10 & 19872 & 6108 & No terminal repeats & NA & 3 & 11 & 0.8896 & $\\dots$ \\\\\n",
       "\t11 & 19847 & 9778 & No terminal repeats & NA & 13 & 11 & 0.8233 & $\\dots$ \\\\\n",
       "\t12 & 18281 & 3258 & ITR & NA & 6 & 11 & 0.8002 & $\\dots$ \\\\\n",
       "\t13 & 17303 & 2656 & No terminal repeats & NA & 3 & 11 & 0.7985 & $\\dots$ \\\\\n",
       "\t14 & 19138 & 2739 & No terminal repeats & NA & 7 & 11 & 0.7632 & $\\dots$ \\\\\n",
       "\t15 & 28600 & 2700 & No terminal repeats & NA & 1 & 11 & 0.7499 & $\\dots$ \\\\\n",
       "\t16 & 982 & 6421 & No terminal repeats & NA & 4 & 11 & 0.7442 & $\\dots$ \\\\\n",
       "\t17 & 10365 & 3042 & No terminal repeats & NA & 3 & 11 & 0.7287 & $\\dots$ \\\\\n",
       "\t18 & 19922 & 3515 & No terminal repeats & NA & 4 & 11 & 0.722 & $\\dots$ \\\\\n",
       "\t19 & 17805 & 5653 & No terminal repeats & NA & 11 & 11 & 0.7195 & $\\dots$ \\\\\n",
       "\t20 & 19821 & 3263 & ITR & NA & 3 & 11 & 0.7116 & $\\dots$ \\\\\n",
       "\t21 & 1357 & 2664 & No terminal repeats & NA & 1 & 11 & 0.711 & $\\dots$ \\\\\n",
       "\t22 & 20586 & 6817 & No terminal repeats & NA & 15 & 11 & 0.7107 & $\\dots$ \\\\\n",
       "\t23 & 26135 & 2512 & No terminal repeats & NA & 3 & 11 & 0.7106 & $\\dots$ \\\\\n",
       "\t24 & 8091 & 2630 & No terminal repeats & NA & 1 & 11 & 0.7066 & $\\dots$ \\\\\n",
       "\t25 & 19719 & 7980 & No terminal repeats & NA & 13 & 11 & 0.9828 & $\\dots$ \\\\\n",
       "\t26 & 6501 & 6331 & No terminal repeats & NA & 12 & 11 & 0.9827 & $\\dots$ \\\\\n",
       "\t27 & 2771 & 5959 & No terminal repeats & NA & 13 & 11 & 0.9826 & $\\dots$ \\\\\n",
       "\t28 & 8427 & 3950 & No terminal repeats & NA & 8 & 11 & 0.9823 & $\\dots$ \\\\\n",
       "\t29 & 29363 & 5527 & DTR & NA & 8 & 11 & 0.9822 & $\\dots$ \\\\\n",
       "\t30 & 23543 & 2682 & No terminal repeats & NA & 4 & 11 & 0.9817 & $\\dots$ \\\\\n",
       "\t$\\dots$ & $\\dots$ & $\\dots$ & $\\dots$ & $\\dots$ & $\\dots$ & $\\dots$ & $\\dots$ &  \\\\\n",
       "\\end{tabular}\n"
      ],
      "text/plain": [
       "\u001b[1m17362×12 DataFrame\u001b[0m\n",
       "\u001b[1m   Row \u001b[0m│\u001b[1m seq_name \u001b[0m\u001b[1m length \u001b[0m\u001b[1m topology            \u001b[0m\u001b[1m coordinates \u001b[0m\u001b[1m n_genes \u001b[0m\u001b[1m genetic_\u001b[0m ⋯\n",
       "       │\u001b[90m String   \u001b[0m\u001b[90m Int64  \u001b[0m\u001b[90m String              \u001b[0m\u001b[90m String      \u001b[0m\u001b[90m Int64   \u001b[0m\u001b[90m Int64   \u001b[0m ⋯\n",
       "───────┼────────────────────────────────────────────────────────────────────────\n",
       "     1 │ 24575       5527  DTR                  NA                 8           ⋯\n",
       "     2 │ 29271       2611  No terminal repeats  NA                 4\n",
       "     3 │ 25956       4092  No terminal repeats  NA                 9\n",
       "     4 │ 29340       2590  No terminal repeats  NA                 4\n",
       "     5 │ 17257        658  No terminal repeats  NA                 2           ⋯\n",
       "     6 │ 28830       3412  No terminal repeats  NA                 7\n",
       "     7 │ 23428       3277  No terminal repeats  NA                 9\n",
       "     8 │ 9279        4961  No terminal repeats  NA                 1\n",
       "     9 │ 24694       2652  No terminal repeats  NA                 8           ⋯\n",
       "    10 │ 19872       6108  No terminal repeats  NA                 3\n",
       "    11 │ 19847       9778  No terminal repeats  NA                13\n",
       "   ⋮   │    ⋮        ⋮              ⋮                ⋮          ⋮          ⋮   ⋱\n",
       " 17353 │ 92422       4371  No terminal repeats  NA                 3\n",
       " 17354 │ 33194       3478  No terminal repeats  NA                 2           ⋯\n",
       " 17355 │ 59629       3638  No terminal repeats  NA                 4\n",
       " 17356 │ 70194       2826  No terminal repeats  NA                 1\n",
       " 17357 │ 35936       2578  No terminal repeats  NA                 4\n",
       " 17358 │ 61689       3455  No terminal repeats  NA                 1           ⋯\n",
       " 17359 │ 48337       4828  No terminal repeats  NA                 6\n",
       " 17360 │ 73404       3333  ITR                  NA                 3\n",
       " 17361 │ 65411       2520  No terminal repeats  NA                 2\n",
       " 17362 │ 12010       4620  No terminal repeats  NA                 5           ⋯\n",
       "\u001b[36m                                                7 columns and 17341 rows omitted\u001b[0m"
      ]
     },
     "execution_count": 4,
     "metadata": {},
     "output_type": "execute_result"
    }
   ],
   "source": [
    "joint_genomad_results = DataFrames.DataFrame()\n",
    "# sample_directory = first(sample_directories)\n",
    "ProgressMeter.@showprogress for sample_directory in sample_directories\n",
    "    genomad_virus_summary = joinpath(sample_directory, \"genomad\", \"final.contigs.fastg.gfa_summary\", \"final.contigs.fastg.gfa_virus_summary.tsv\")\n",
    "    genomad_results = DataFrames.DataFrame(uCSV.read(genomad_virus_summary, delim='\\t', header=1, typedetectrows=100)...)\n",
    "    genomad_results[!, \"sample_id\"] .= basename(sample_directory)\n",
    "    append!(joint_genomad_results, genomad_results, promote=true)\n",
    "end\n",
    "joint_genomad_results[!, \"seq_name\"] = string.(joint_genomad_results[!, \"seq_name\"])\n",
    "joint_genomad_results"
   ]
  },
  {
   "cell_type": "code",
   "execution_count": 5,
   "id": "e5968f35-50d8-49f2-9a6c-fc356ca87a13",
   "metadata": {},
   "outputs": [
    {
     "data": {
      "text/plain": [
       "Dict{String, Set{String}} with 213 entries:\n",
       "  \"SRR6399620\" => Set([\"25060\", \"58575\", \"21490\", \"57482\", \"33110\", \"43681\", \"1…\n",
       "  \"SRR6399522\" => Set([\"35351\", \"10657\", \"39489\", \"35171\", \"30061\", \"39970\", \"2…\n",
       "  \"SRR6399796\" => Set([\"4659\", \"15743\", \"15859\", \"2360\", \"15763\", \"12792\", \"112…\n",
       "  \"SRR6399686\" => Set([\"28931\", \"20278\", \"38091\", \"17527\", \"41020\", \"45034\", \"2…\n",
       "  \"SRR6399461\" => Set([\"6086\", \"9587\", \"4230\", \"20677\", \"1651\", \"14090\", \"3973\"…\n",
       "  \"SRR6399715\" => Set([\"34950\", \"32420\", \"26563\", \"18322\", \"25183\", \"33125\", \"2…\n",
       "  \"SRR6399802\" => Set([\"34461\", \"5822\", \"23752\", \"28306\", \"7925\", \"22826\", \"302…\n",
       "  \"SRR6399613\" => Set([\"12960\", \"9620\", \"3747\", \"1848\", \"8951\", \"9945\", \"10214\"…\n",
       "  \"SRR6399716\" => Set([\"9687\", \"8891\", \"540\", \"6327\", \"15778\", \"1750\", \"263\", \"…\n",
       "  \"SRR6399615\" => Set([\"3478\", \"908\", \"3343\", \"9449\", \"6666\", \"8771\", \"4800\", \"…\n",
       "  \"SRR6399464\" => Set([\"36948\", \"5790\", \"34631\", \"52460\", \"53243\", \"22797\", \"74…\n",
       "  \"SRR6400018\" => Set([\"4304\", \"35674\", \"36966\", \"17750\", \"30029\", \"4743\", \"334…\n",
       "  \"SRR6399728\" => Set([\"11861\", \"12006\", \"23728\", \"21772\", \"13510\", \"22441\", \"1…\n",
       "  \"SRR6399569\" => Set([\"5419\", \"20870\", \"30246\", \"35572\", \"22573\", \"3849\", \"235…\n",
       "  \"SRR6399871\" => Set([\"21167\", \"18162\", \"15489\", \"23360\", \"12314\", \"18253\", \"5…\n",
       "  \"SRR6399460\" => Set([\"1385\", \"6096\", \"10553\", \"6851\", \"9735\", \"1520\", \"15619\"…\n",
       "  \"SRR6399885\" => Set([\"2803\", \"7665\", \"25610\", \"32094\", \"3861\", \"31886\", \"1499…\n",
       "  \"SRR6399688\" => Set([\"7951\", \"8815\", \"1229\", \"15619\", \"15281\", \"21323\", \"1922…\n",
       "  \"SRR6399879\" => Set([\"2829\", \"95568\", \"120913\", \"137532\", \"37926\", \"149724\", …\n",
       "  \"SRR6399583\" => Set([\"18137\", \"7463\", \"6876\", \"14003\", \"10226\", \"6703\", \"1642…\n",
       "  \"SRR6399582\" => Set([\"41654\", \"6748\", \"38180\", \"26103\", \"33448\", \"35634\", \"26…\n",
       "  \"SRR6399799\" => Set([\"2760\", \"9183\", \"1749\", \"7146\", \"9102\", \"5707\", \"6231\", …\n",
       "  \"SRR6399561\" => Set([\"15101\", \"14733\", \"11577\", \"10530\", \"3826\", \"13206\", \"98…\n",
       "  \"SRR6399811\" => Set([\"16670\", \"37671\", \"7764\", \"20744\", \"6906\", \"21362\", \"170…\n",
       "  \"SRR6399713\" => Set([\"8286\", \"575\", \"1923\", \"3602\", \"4958\", \"1345\", \"8531\", \"…\n",
       "  ⋮            => ⋮"
      ]
     },
     "execution_count": 5,
     "metadata": {},
     "output_type": "execute_result"
    }
   ],
   "source": [
    "viral_contigs_by_tool[\"genomad\"] = Dict{String, Set{String}}()\n",
    "for gdf in DataFrames.groupby(joint_genomad_results, \"sample_id\")\n",
    "    sample_id = gdf[1, \"sample_id\"]\n",
    "    viral_contigs_by_tool[\"genomad\"][sample_id] = Set()\n",
    "    for row in DataFrames.eachrow(gdf)\n",
    "        push!(viral_contigs_by_tool[\"genomad\"][sample_id], row[\"seq_name\"])\n",
    "    end\n",
    "end\n",
    "viral_contigs_by_tool[\"genomad\"]"
   ]
  },
  {
   "cell_type": "code",
   "execution_count": 6,
   "id": "0609f79c-54bf-48ff-8603-4abebe5c7220",
   "metadata": {},
   "outputs": [
    {
     "data": {
      "text/plain": [
       "\"megablast\""
      ]
     },
     "execution_count": 6,
     "metadata": {},
     "output_type": "execute_result"
    }
   ],
   "source": [
    "blast_task = \"megablast\""
   ]
  },
  {
   "cell_type": "code",
   "execution_count": 7,
   "id": "6bf44df1-e7e1-46f8-899a-883bc26e3673",
   "metadata": {},
   "outputs": [
    {
     "data": {
      "text/plain": [
       "\"nt_viruses\""
      ]
     },
     "execution_count": 7,
     "metadata": {},
     "output_type": "execute_result"
    }
   ],
   "source": [
    "db = \"nt_viruses\""
   ]
  },
  {
   "cell_type": "code",
   "execution_count": 8,
   "id": "f9dfa381-2cfc-4f32-8c16-2937f1d4d445",
   "metadata": {},
   "outputs": [
    {
     "name": "stderr",
     "output_type": "stream",
     "text": [
      "\u001b[33m\u001b[1m┌ \u001b[22m\u001b[39m\u001b[33m\u001b[1mWarning: \u001b[22m\u001b[39mLarge values for `typedetectrows` will reduce performance. Consider manually declaring the types of columns using the `types` argument instead.\n",
      "\u001b[33m\u001b[1m└ \u001b[22m\u001b[39m\u001b[90m@ uCSV ~/.julia/packages/uCSV/goLRH/src/read.jl:213\u001b[39m\n",
      "\u001b[33m\u001b[1m┌ \u001b[22m\u001b[39m\u001b[33m\u001b[1mWarning: \u001b[22m\u001b[39mLarge values for `typedetectrows` will reduce performance. Consider manually declaring the types of columns using the `types` argument instead.\n",
      "\u001b[33m\u001b[1m└ \u001b[22m\u001b[39m\u001b[90m@ uCSV ~/.julia/packages/uCSV/goLRH/src/read.jl:213\u001b[39m\n"
     ]
    },
    {
     "data": {
      "text/plain": [
       "213-element Vector{String}:\n",
       " \"/oak/stanford/scg/lab_mpsnyder/cjprybol/Mycelia/projects/viral-exposome-discovery/data/SRA/SRR6399459\"\n",
       " \"/oak/stanford/scg/lab_mpsnyder/cjprybol/Mycelia/projects/viral-exposome-discovery/data/SRA/SRR6399460\"\n",
       " \"/oak/stanford/scg/lab_mpsnyder/cjprybol/Mycelia/projects/viral-exposome-discovery/data/SRA/SRR6399461\"\n",
       " \"/oak/stanford/scg/lab_mpsnyder/cjprybol/Mycelia/projects/viral-exposome-discovery/data/SRA/SRR6399462\"\n",
       " \"/oak/stanford/scg/lab_mpsnyder/cjprybol/Mycelia/projects/viral-exposome-discovery/data/SRA/SRR6399464\"\n",
       " \"/oak/stanford/scg/lab_mpsnyder/cjprybol/Mycelia/projects/viral-exposome-discovery/data/SRA/SRR6399485\"\n",
       " \"/oak/stanford/scg/lab_mpsnyder/cjprybol/Mycelia/projects/viral-exposome-discovery/data/SRA/SRR6399486\"\n",
       " \"/oak/stanford/scg/lab_mpsnyder/cjprybol/Mycelia/projects/viral-exposome-discovery/data/SRA/SRR6399487\"\n",
       " \"/oak/stanford/scg/lab_mpsnyder/cjprybol/Mycelia/projects/viral-exposome-discovery/data/SRA/SRR6399488\"\n",
       " \"/oak/stanford/scg/lab_mpsnyder/cjprybol/Mycelia/projects/viral-exposome-discovery/data/SRA/SRR6399490\"\n",
       " \"/oak/stanford/scg/lab_mpsnyder/cjprybol/Mycelia/projects/viral-exposome-discovery/data/SRA/SRR6399491\"\n",
       " \"/oak/stanford/scg/lab_mpsnyder/cjprybol/Mycelia/projects/viral-exposome-discovery/data/SRA/SRR6399492\"\n",
       " \"/oak/stanford/scg/lab_mpsnyder/cjprybol/Mycelia/projects/viral-exposome-discovery/data/SRA/SRR6399494\"\n",
       " ⋮\n",
       " \"/oak/stanford/scg/lab_mpsnyder/cjprybol/Mycelia/projects/viral-exposome-discovery/data/SRA/SRR6399977\"\n",
       " \"/oak/stanford/scg/lab_mpsnyder/cjprybol/Mycelia/projects/viral-exposome-discovery/data/SRA/SRR6399986\"\n",
       " \"/oak/stanford/scg/lab_mpsnyder/cjprybol/Mycelia/projects/viral-exposome-discovery/data/SRA/SRR6399988\"\n",
       " \"/oak/stanford/scg/lab_mpsnyder/cjprybol/Mycelia/projects/viral-exposome-discovery/data/SRA/SRR6399991\"\n",
       " \"/oak/stanford/scg/lab_mpsnyder/cjprybol/Mycelia/projects/viral-exposome-discovery/data/SRA/SRR6400014\"\n",
       " \"/oak/stanford/scg/lab_mpsnyder/cjprybol/Mycelia/projects/viral-exposome-discovery/data/SRA/SRR6400015\"\n",
       " \"/oak/stanford/scg/lab_mpsnyder/cjprybol/Mycelia/projects/viral-exposome-discovery/data/SRA/SRR6400017\"\n",
       " \"/oak/stanford/scg/lab_mpsnyder/cjprybol/Mycelia/projects/viral-exposome-discovery/data/SRA/SRR6400018\"\n",
       " \"/oak/stanford/scg/lab_mpsnyder/cjprybol/Mycelia/projects/viral-exposome-discovery/data/SRA/SRR6400019\"\n",
       " \"/oak/stanford/scg/lab_mpsnyder/cjprybol/Mycelia/projects/viral-exposome-discovery/data/SRA/SRR6400022\"\n",
       " \"/oak/stanford/scg/lab_mpsnyder/cjprybol/Mycelia/projects/viral-exposome-discovery/data/SRA/SRR6400023\"\n",
       " \"/oak/stanford/scg/lab_mpsnyder/cjprybol/Mycelia/projects/viral-exposome-discovery/data/SRA/SRR6400024\""
      ]
     },
     "execution_count": 8,
     "metadata": {},
     "output_type": "execute_result"
    }
   ],
   "source": [
    "# load in metadata\n",
    "metadata_dir = joinpath(dirname(pwd()), \"metadata\")\n",
    "\n",
    "exposome_environmental_data = DataFrames.DataFrame(uCSV.read(\n",
    "    joinpath(metadata_dir, \"metadata_exposome.rds.tsv\"),\n",
    "    delim='\\t',\n",
    "    header=1,\n",
    "    typedetectrows=300\n",
    "))\n",
    "\n",
    "joint_sample_metadata = DataFrames.DataFrame(uCSV.read(\n",
    "    joinpath(metadata_dir, \"exposome/joint_sample_metadata.tsv\"),\n",
    "    delim='\\t',\n",
    "    header=1,\n",
    "    typedetectrows=300\n",
    "))\n",
    "\n",
    "@assert joint_sample_metadata[!, \"Library Name\"] == joint_sample_metadata[!, \"LibraryName\"]\n",
    "\n",
    "joint_metadata = DataFrames.innerjoin(\n",
    "    joint_sample_metadata,\n",
    "    exposome_environmental_data,\n",
    "    on=\"Library Name\" => \"samplenames\")\n",
    "\n",
    "run_ids = sort(joint_metadata[!, \"Run\"])\n",
    "\n",
    "sample_paths = joinpath.(data_dir, \"SRA\", run_ids)"
   ]
  },
  {
   "cell_type": "code",
   "execution_count": 9,
   "id": "7b4c3d47-d31f-42a9-8e8b-dc0b5c3a9f78",
   "metadata": {},
   "outputs": [
    {
     "data": {
      "text/plain": [
       "Set{Int64} with 241049 elements:\n",
       "  2956278\n",
       "  656260\n",
       "  1742422\n",
       "  1427858\n",
       "  2783550\n",
       "  1599415\n",
       "  300190\n",
       "  2901373\n",
       "  468417\n",
       "  864692\n",
       "  1149619\n",
       "  2798297\n",
       "  2946055\n",
       "  2764961\n",
       "  2827923\n",
       "  1431632\n",
       "  1733762\n",
       "  1924399\n",
       "  1613832\n",
       "  2558856\n",
       "  2822896\n",
       "  1686811\n",
       "  438298\n",
       "  438823\n",
       "  1347503\n",
       "  ⋮ "
      ]
     },
     "execution_count": 9,
     "metadata": {},
     "output_type": "execute_result"
    }
   ],
   "source": [
    "# NCBI host metadata\n",
    "ncbi_metadata_file = joinpath(dirname(pwd()), \"metadata\", \"NCBI-virus-refseq.transformed.tsv\")\n",
    "ncbi_host_metadata = DataFrames.DataFrame(uCSV.read(ncbi_metadata_file, header=1, delim='\\t', encodings=Dict(\"false\" => false, \"true\" => true)))\n",
    "\n",
    "# ICTV host metadata\n",
    "ictv_metadata_file = joinpath(dirname(pwd()), \"metadata\", \"VMR_MSL38_v1 - VMR MSL38 v1.transformed.tsv\")\n",
    "ictv_host_metadata = DataFrames.DataFrame(uCSV.read(ictv_metadata_file, header=1, delim='\\t', typedetectrows=100))\n",
    "ictv_host_metadata = ictv_host_metadata[.!isempty.(ictv_host_metadata[!, \"taxid\"]), :]\n",
    "ictv_host_metadata[!, \"taxid\"] = parse.(Int, ictv_host_metadata[!, \"taxid\"])\n",
    "\n",
    "viral_tax_ids = Set(Mycelia.list_subtaxa(10239))"
   ]
  },
  {
   "cell_type": "code",
   "execution_count": 10,
   "id": "0be83fd9-a483-4c11-ad82-e8db2cf9a8fc",
   "metadata": {},
   "outputs": [
    {
     "name": "stderr",
     "output_type": "stream",
     "text": [
      "\u001b[32mProgress: 100%|█████████████████████████████████████████| Time: 0:11:52\u001b[39m\n"
     ]
    }
   ],
   "source": [
    "joint_top_hits = DataFrames.DataFrame()\n",
    "ProgressMeter.@showprogress for sample_path in sample_paths[1:end]\n",
    "    sample = basename(sample_path)\n",
    "    blastn_directory = mkpath(joinpath(sample_path, \"blastn\"))\n",
    "    assembled_fasta = joinpath(sample_path, \"megahit\", \"final.contigs.fastg.gfa.fna\")\n",
    "    blast_file = joinpath(blastn_directory, basename(assembled_fasta) * \".blastn.$(db).$(blast_task).txt\")\n",
    "    this_blast_table = Mycelia.parse_blast_report(blast_file)\n",
    "    if isempty(this_blast_table)\n",
    "        continue\n",
    "    else\n",
    "        this_blast_table[!, \"sample_id\"] .= sample\n",
    "        # bonferonni correction on raw tests\n",
    "        this_blast_table[!, \"evalue\"] = this_blast_table[!, \"evalue\"] .* DataFrames.nrow(this_blast_table)\n",
    "        \n",
    "        # filter to top hits to avoid ballooning memory just to throw it away later\n",
    "        this_top_hits = DataFrames.DataFrame()\n",
    "        for gdf in DataFrames.groupby(this_blast_table, \"query id\")\n",
    "            push!(this_top_hits, first(sort(gdf, \"bit score\", rev=true)))\n",
    "        end\n",
    "        append!(joint_top_hits, this_top_hits)\n",
    "    end\n",
    "end"
   ]
  },
  {
   "cell_type": "code",
   "execution_count": 11,
   "id": "947d37a2-1fc6-45db-b211-e9d8bb618534",
   "metadata": {},
   "outputs": [
    {
     "name": "stderr",
     "output_type": "stream",
     "text": [
      "00:48:33.737 \u001b[33m[WARN]\u001b[0m taxid 3086117 not found\n",
      "00:48:33.737 \u001b[33m[WARN]\u001b[0m taxid 3066597 was deleted\n",
      "00:48:33.737 \u001b[33m[WARN]\u001b[0m taxid 3076567 was deleted\n",
      "00:48:33.737 \u001b[33m[WARN]\u001b[0m taxid 3076582 was deleted\n",
      "00:48:33.738 \u001b[33m[WARN]\u001b[0m taxid 3076596 was deleted\n",
      "00:48:33.737 \u001b[33m[WARN]\u001b[0m taxid 3066610 was deleted\n",
      "00:48:33.738 \u001b[33m[WARN]\u001b[0m taxid 3068781 was deleted\n",
      "00:48:33.738 \u001b[33m[WARN]\u001b[0m taxid 3066474 was deleted\n",
      "00:48:33.738 \u001b[33m[WARN]\u001b[0m taxid 3063391 was deleted\n",
      "00:48:33.739 \u001b[33m[WARN]\u001b[0m taxid 3068784 was deleted\n",
      "00:48:33.739 \u001b[33m[WARN]\u001b[0m taxid 3076993 was deleted\n",
      "00:48:33.739 \u001b[33m[WARN]\u001b[0m taxid 3084695 not found\n",
      "00:48:33.739 \u001b[33m[WARN]\u001b[0m taxid 3092178 not found\n",
      "00:48:33.739 \u001b[33m[WARN]\u001b[0m taxid 3083334 not found\n",
      "00:48:33.739 \u001b[33m[WARN]\u001b[0m taxid 3093891 not found\n",
      "00:48:33.739 \u001b[33m[WARN]\u001b[0m taxid 3082145 was deleted\n",
      "00:48:33.739 \u001b[33m[WARN]\u001b[0m taxid 3101606 not found\n",
      "00:48:33.739 \u001b[33m[WARN]\u001b[0m taxid 3067266 was deleted\n",
      "00:48:33.739 \u001b[33m[WARN]\u001b[0m taxid 3086125 not found\n",
      "00:48:33.739 \u001b[33m[WARN]\u001b[0m taxid 2996073 was deleted\n",
      "00:48:33.740 \u001b[33m[WARN]\u001b[0m taxid 3096985 not found\n",
      "00:48:33.740 \u001b[33m[WARN]\u001b[0m taxid 3076583 was deleted\n",
      "00:48:33.740 \u001b[33m[WARN]\u001b[0m taxid 3084676 not found\n",
      "00:48:33.740 \u001b[33m[WARN]\u001b[0m taxid 3080770 was deleted\n",
      "00:48:33.740 \u001b[33m[WARN]\u001b[0m taxid 3076564 was deleted\n",
      "00:48:33.740 \u001b[33m[WARN]\u001b[0m taxid 3084809 not found\n",
      "00:48:33.740 \u001b[33m[WARN]\u001b[0m taxid 3072845 was deleted\n",
      "00:48:33.740 \u001b[33m[WARN]\u001b[0m taxid 3067119 was deleted\n",
      "00:48:33.740 \u001b[33m[WARN]\u001b[0m taxid 3101603 not found\n",
      "00:48:33.741 \u001b[33m[WARN]\u001b[0m taxid 3093841 not found\n",
      "00:48:33.741 \u001b[33m[WARN]\u001b[0m taxid 3086121 not found\n",
      "00:48:33.741 \u001b[33m[WARN]\u001b[0m taxid 3096152 not found\n",
      "00:48:33.741 \u001b[33m[WARN]\u001b[0m taxid 3078315 was deleted\n",
      "00:48:33.741 \u001b[33m[WARN]\u001b[0m taxid 3084804 not found\n",
      "00:48:33.741 \u001b[33m[WARN]\u001b[0m taxid 3084945 not found\n",
      "00:48:33.742 \u001b[33m[WARN]\u001b[0m taxid 3090831 not found\n",
      "00:48:33.742 \u001b[33m[WARN]\u001b[0m taxid 3086131 not found\n",
      "00:48:33.742 \u001b[33m[WARN]\u001b[0m taxid 3096258 not found\n",
      "00:48:33.742 \u001b[33m[WARN]\u001b[0m taxid 3083787 not found\n",
      "00:48:33.742 \u001b[33m[WARN]\u001b[0m taxid 3063492 was deleted\n",
      "00:48:33.742 \u001b[33m[WARN]\u001b[0m taxid 3077408 was deleted\n",
      "00:48:33.742 \u001b[33m[WARN]\u001b[0m taxid 3092174 not found\n",
      "00:48:33.742 \u001b[33m[WARN]\u001b[0m taxid 2951336 was deleted\n",
      "00:48:33.742 \u001b[33m[WARN]\u001b[0m taxid 3092584 not found\n",
      "00:48:33.742 \u001b[33m[WARN]\u001b[0m taxid 3067210 was deleted\n",
      "00:48:33.742 \u001b[33m[WARN]\u001b[0m taxid 3092177 not found\n",
      "00:48:33.742 \u001b[33m[WARN]\u001b[0m taxid 3076572 was deleted\n",
      "00:48:33.742 \u001b[33m[WARN]\u001b[0m taxid 3079609 was deleted\n",
      "00:48:33.742 \u001b[33m[WARN]\u001b[0m taxid 3092526 not found\n",
      "00:48:33.743 \u001b[33m[WARN]\u001b[0m taxid 3066964 was deleted\n",
      "00:48:33.743 \u001b[33m[WARN]\u001b[0m taxid 3068780 was deleted\n",
      "00:48:33.743 \u001b[33m[WARN]\u001b[0m taxid 3077255 was deleted\n",
      "00:48:33.743 \u001b[33m[WARN]\u001b[0m taxid 3090830 not found\n",
      "00:48:33.743 \u001b[33m[WARN]\u001b[0m taxid 3096143 not found\n",
      "00:48:33.743 \u001b[33m[WARN]\u001b[0m taxid 3084830 not found\n",
      "00:48:33.743 \u001b[33m[WARN]\u001b[0m taxid 3104226 not found\n",
      "00:48:33.743 \u001b[33m[WARN]\u001b[0m taxid 3084073 not found\n"
     ]
    },
    {
     "data": {
      "text/plain": [
       "Dict{String, Set{String}} with 213 entries:\n",
       "  \"SRR6399620\" => Set([\"67499\", \"6791\", \"10477\", \"11346\", \"18565\", \"2243\", \"556…\n",
       "  \"SRR6399522\" => Set([\"4304\", \"15513\", \"10467\", \"519\", \"19944\", \"30482\", \"1179…\n",
       "  \"SRR6399796\" => Set([\"12705\", \"12994\", \"15710\", \"1470\", \"12066\", \"3414\", \"113…\n",
       "  \"SRR6399686\" => Set([\"44880\", \"4209\", \"42469\", \"10249\", \"2590\", \"2579\", \"4369…\n",
       "  \"SRR6399461\" => Set([\"12486\", \"11346\", \"6086\", \"8913\", \"12388\", \"6831\", \"2052…\n",
       "  \"SRR6399715\" => Set([\"10467\", \"10684\", \"22328\", \"10825\", \"2504\", \"23232\", \"18…\n",
       "  \"SRR6399613\" => Set([\"9160\", \"12190\", \"8449\", \"4282\", \"1695\", \"7540\", \"12575\"…\n",
       "  \"SRR6399716\" => Set([\"12486\", \"11346\", \"11803\", \"12754\", \"14918\", \"4497\", \"51…\n",
       "  \"SRR6399802\" => Set([\"2803\", \"30218\", \"3238\", \"34179\", \"30995\", \"519\", \"5422\"…\n",
       "  \"SRR6399615\" => Set([\"2829\", \"1886\", \"3935\", \"4497\", \"5422\", \"10229\", \"5813\",…\n",
       "  \"SRR6399464\" => Set([\"24624\", \"74129\", \"40188\", \"71250\", \"27096\", \"64525\", \"3…\n",
       "  \"SRR6400018\" => Set([\"24624\", \"33881\", \"5425\", \"1907\", \"26612\", \"30863\", \"314…\n",
       "  \"SRR6399728\" => Set([\"3935\", \"18565\", \"22328\", \"5425\", \"10600\", \"6753\", \"1531…\n",
       "  \"SRR6399569\" => Set([\"17702\", \"24377\", \"37159\", \"27404\", \"22328\", \"2765\", \"54…\n",
       "  \"SRR6399871\" => Set([\"20062\", \"1\", \"18565\", \"20745\", \"21936\", \"6196\", \"5492\",…\n",
       "  \"SRR6399460\" => Set([\"10467\", \"20426\", \"2765\", \"5425\", \"15860\", \"15799\", \"118…\n",
       "  \"SRR6399885\" => Set([\"23986\", \"22571\", \"29235\", \"9093\", \"25047\", \"28670\", \"89…\n",
       "  \"SRR6399688\" => Set([\"20281\", \"4209\", \"2923\", \"16868\", \"20910\", \"228\", \"2590\"…\n",
       "  \"SRR6399879\" => Set([\"88300\", \"97721\", \"10467\", \"108777\", \"115295\", \"8169\", \"…\n",
       "  \"SRR6399583\" => Set([\"14091\", \"5712\", \"16655\", \"10600\", \"18581\", \"14699\", \"12…\n",
       "  \"SRR6399582\" => Set([\"10467\", \"26767\", \"45445\", \"10249\", \"45129\", \"11961\", \"3…\n",
       "  \"SRR6399561\" => Set([\"12071\", \"8074\", \"7443\", \"12053\", \"9205\", \"12190\", \"1608…\n",
       "  \"SRR6399799\" => Set([\"716\", \"695\", \"4953\", \"2538\", \"5673\", \"2606\", \"4640\", \"2…\n",
       "  \"SRR6399811\" => Set([\"19327\", \"1886\", \"14124\", \"15710\", \"6857\", \"38623\", \"186…\n",
       "  \"SRR6399713\" => Set([\"8071\", \"6702\", \"6857\", \"2765\", \"41\", \"1881\", \"1695\", \"5…\n",
       "  ⋮            => ⋮"
      ]
     },
     "execution_count": 11,
     "metadata": {},
     "output_type": "execute_result"
    }
   ],
   "source": [
    "taxids = unique(joint_top_hits[!, \"subject tax id\"])\n",
    "taxid2name_map = Dict(row[\"taxid\"] => row[\"tax_name\"] for row in DataFrames.eachrow(Mycelia.taxids2lineage_name_and_rank(taxids)))\n",
    "joint_top_hits[!, \"subject tax name\"] = map(taxid -> taxid2name_map[taxid], joint_top_hits[!, \"subject tax id\"])\n",
    "\n",
    "# filter to good hits even after bonferroni correction\n",
    "joint_top_hits = joint_top_hits[joint_top_hits[!, \"evalue\"] .<= 0.001, :]\n",
    "\n",
    "# filter to viral only\n",
    "viral_hits_df = joint_top_hits[map(x -> x in viral_tax_ids, joint_top_hits[!, \"subject tax id\"]), :]\n",
    "\n",
    "viral_contigs_by_tool[\"blast\"] = Dict{String, Set{String}}()\n",
    "for gdf in DataFrames.groupby(viral_hits_df, \"sample_id\")\n",
    "    sample_id = gdf[1, \"sample_id\"]\n",
    "    viral_contigs_by_tool[\"blast\"][sample_id] = Set()\n",
    "    for row in DataFrames.eachrow(gdf)\n",
    "        push!(viral_contigs_by_tool[\"blast\"][sample_id], row[\"query id\"])\n",
    "    end\n",
    "end\n",
    "viral_contigs_by_tool[\"blast\"]"
   ]
  },
  {
   "cell_type": "code",
   "execution_count": 12,
   "id": "ea9bb32e-0cc6-40a5-ba24-e7de0648e6ec",
   "metadata": {},
   "outputs": [
    {
     "name": "stderr",
     "output_type": "stream",
     "text": [
      "\u001b[32mProgress: 100%|█████████████████████████████████████████| Time: 0:01:00\u001b[39m\n"
     ]
    },
    {
     "data": {
      "text/plain": [
       "Dict{String, Set{String}} with 196 entries:\n",
       "  \"SRR6399620\" => Set([\"21030\", \"58575\", \"40326\", \"54792\", \"71900\", \"23976\", \"2…\n",
       "  \"SRR6399522\" => Set([\"4503\", \"32284\", \"7890\", \"38656\", \"34901\", \"31490\", \"344…\n",
       "  \"SRR6399796\" => Set([\"15763\", \"10398\"])\n",
       "  \"SRR6399686\" => Set([\"28296\", \"14741\", \"56873\", \"28329\", \"55585\", \"10656\", \"7…\n",
       "  \"SRR6399461\" => Set([\"11505\"])\n",
       "  \"SRR6399715\" => Set([\"14228\", \"24056\", \"8240\", \"34678\", \"34655\", \"27242\", \"28…\n",
       "  \"SRR6399613\" => Set([\"15644\", \"14054\"])\n",
       "  \"SRR6399716\" => Set([\"13272\"])\n",
       "  \"SRR6399802\" => Set([\"28406\", \"18527\", \"28037\", \"18855\", \"12297\", \"4537\"])\n",
       "  \"SRR6399615\" => Set([\"5422\", \"10127\"])\n",
       "  \"SRR6399464\" => Set([\"29457\", \"32202\", \"53922\", \"73334\", \"22334\", \"49336\", \"3…\n",
       "  \"SRR6400018\" => Set([\"8105\", \"6160\", \"31294\", \"20562\", \"33407\", \"14446\", \"591…\n",
       "  \"SRR6399728\" => Set([\"11792\", \"9785\", \"19471\"])\n",
       "  \"SRR6399569\" => Set([\"3540\", \"36279\", \"10280\", \"4953\", \"18712\", \"14359\", \"261…\n",
       "  \"SRR6399871\" => Set([\"7922\"])\n",
       "  \"SRR6399460\" => Set([\"5972\", \"8067\", \"2242\", \"13875\", \"18720\", \"19267\"])\n",
       "  \"SRR6399885\" => Set([\"10063\", \"15248\"])\n",
       "  \"SRR6399688\" => Set([\"20688\", \"10556\", \"23141\", \"14133\", \"18613\", \"7483\", \"14…\n",
       "  \"SRR6399879\" => Set([\"2829\", \"105393\", \"103228\", \"50614\", \"45173\", \"52053\", \"…\n",
       "  \"SRR6399583\" => Set([\"5520\", \"3019\", \"19639\", \"5793\", \"10797\", \"13720\", \"8590…\n",
       "  \"SRR6399582\" => Set([\"15733\", \"10016\", \"1912\", \"15081\", \"9957\", \"47111\", \"321…\n",
       "  \"SRR6399561\" => Set([\"1789\", \"12157\", \"17447\", \"7933\", \"1392\", \"12906\", \"1120…\n",
       "  \"SRR6399811\" => Set([\"39644\", \"37449\", \"9401\", \"14048\", \"15332\", \"10490\", \"59…\n",
       "  \"SRR6399713\" => Set([\"6123\"])\n",
       "  \"SRR6399487\" => Set([\"30640\", \"30853\"])\n",
       "  ⋮            => ⋮"
      ]
     },
     "execution_count": 12,
     "metadata": {},
     "output_type": "execute_result"
    }
   ],
   "source": [
    "db = \"UniRef50\"\n",
    "uniref50_df = DataFrames.DataFrame()\n",
    "ProgressMeter.@showprogress for sample_path in sample_paths\n",
    "    sample_id = basename(sample_path)\n",
    "    mmseqs_lca_file = joinpath(sample_path, \"mmseqs_easy_taxonomy\", \"final.contigs.fastg.gfa.fna.mmseqs_easy_taxonomy.$(db)_lca.tsv\")\n",
    "    mmseqs_lca_table = Mycelia.parse_mmseqs_easy_taxonomy_lca_tsv(mmseqs_lca_file)\n",
    "    mmseqs_lca_table[!, \"sample_id\"] .= sample_id\n",
    "    append!(uniref50_df, mmseqs_lca_table)\n",
    "end\n",
    "uniref50_df\n",
    "uniref50_viral_df = uniref50_df[map(x -> x in viral_tax_ids, uniref50_df[!, \"taxon_id\"]), :]\n",
    "\n",
    "viral_contigs_by_tool[db] = Dict{String, Set{String}}()\n",
    "for gdf in DataFrames.groupby(uniref50_viral_df, \"sample_id\")\n",
    "    sample_id = gdf[1, \"sample_id\"]\n",
    "    viral_contigs_by_tool[db][sample_id] = Set()\n",
    "    for row in DataFrames.eachrow(gdf)\n",
    "        push!(viral_contigs_by_tool[db][sample_id], string(row[\"contig_id\"]))\n",
    "    end\n",
    "end\n",
    "viral_contigs_by_tool[db]"
   ]
  },
  {
   "cell_type": "code",
   "execution_count": 13,
   "id": "2d56f1ae-b363-4774-9b6c-070c626498a8",
   "metadata": {},
   "outputs": [
    {
     "name": "stderr",
     "output_type": "stream",
     "text": [
      "\u001b[32mProgress: 100%|█████████████████████████████████████████| Time: 0:01:10\u001b[39m\n"
     ]
    },
    {
     "data": {
      "text/plain": [
       "Dict{String, Set{String}} with 204 entries:\n",
       "  \"SRR6399620\" => Set([\"21030\", \"58575\", \"40326\", \"54792\", \"21839\", \"20456\", \"5…\n",
       "  \"SRR6399522\" => Set([\"32284\", \"26514\", \"8409\", \"19331\", \"35816\", \"5227\", \"175…\n",
       "  \"SRR6399796\" => Set([\"15763\", \"10398\"])\n",
       "  \"SRR6399686\" => Set([\"35488\", \"26650\", \"56873\", \"28329\", \"28296\", \"54674\", \"1…\n",
       "  \"SRR6399461\" => Set([\"11505\", \"6146\"])\n",
       "  \"SRR6399715\" => Set([\"33095\", \"24056\", \"14228\", \"8240\", \"34678\", \"34655\", \"28…\n",
       "  \"SRR6399613\" => Set([\"15644\", \"14054\", \"9956\"])\n",
       "  \"SRR6399716\" => Set([\"15781\", \"7990\", \"13272\"])\n",
       "  \"SRR6399802\" => Set([\"28406\", \"18527\", \"12804\", \"15545\", \"20767\", \"18855\", \"2…\n",
       "  \"SRR6399615\" => Set([\"5422\", \"10127\"])\n",
       "  \"SRR6399464\" => Set([\"73334\", \"68375\", \"40745\", \"31585\", \"10089\", \"33938\", \"2…\n",
       "  \"SRR6400018\" => Set([\"8105\", \"21303\", \"31294\", \"6160\", \"20562\", \"30724\", \"865…\n",
       "  \"SRR6399728\" => Set([\"9785\", \"19471\"])\n",
       "  \"SRR6399569\" => Set([\"15296\", \"3540\", \"12041\", \"36279\", \"12175\", \"18712\", \"49…\n",
       "  \"SRR6399871\" => Set([\"7922\", \"7209\", \"13775\", \"5894\", \"19639\"])\n",
       "  \"SRR6399460\" => Set([\"5972\", \"8067\", \"2242\", \"21748\", \"13875\", \"3977\", \"19267…\n",
       "  \"SRR6399885\" => Set([\"10063\", \"3617\", \"15248\", \"1690\"])\n",
       "  \"SRR6399688\" => Set([\"20688\", \"10556\", \"23555\", \"23141\", \"23560\", \"10822\", \"1…\n",
       "  \"SRR6399879\" => Set([\"2829\", \"105393\", \"103228\", \"50614\", \"45173\", \"95618\", \"…\n",
       "  \"SRR6399583\" => Set([\"13574\", \"8162\", \"13124\", \"18128\", \"3019\", \"5793\", \"1079…\n",
       "  \"SRR6399582\" => Set([\"10016\", \"1912\", \"15081\", \"9402\", \"9957\", \"47111\", \"2924…\n",
       "  \"SRR6399561\" => Set([\"7933\", \"15166\", \"1789\", \"9332\", \"12906\", \"8744\", \"12157…\n",
       "  \"SRR6399799\" => Set([\"8160\"])\n",
       "  \"SRR6399811\" => Set([\"39644\", \"37449\", \"9401\", \"14048\", \"15332\", \"10490\", \"59…\n",
       "  \"SRR6399713\" => Set([\"6123\", \"4958\"])\n",
       "  ⋮            => ⋮"
      ]
     },
     "execution_count": 13,
     "metadata": {},
     "output_type": "execute_result"
    }
   ],
   "source": [
    "db = \"UniRef90\"\n",
    "uniref90_df = DataFrames.DataFrame()\n",
    "\n",
    "ProgressMeter.@showprogress for sample_path in sample_paths\n",
    "    sample_id = basename(sample_path)\n",
    "    mmseqs_lca_file = joinpath(sample_path, \"mmseqs_easy_taxonomy\", \"final.contigs.fastg.gfa.fna.mmseqs_easy_taxonomy.$(db)_lca.tsv\")\n",
    "    mmseqs_lca_table = Mycelia.parse_mmseqs_easy_taxonomy_lca_tsv(mmseqs_lca_file)\n",
    "    mmseqs_lca_table[!, \"sample_id\"] .= sample_id\n",
    "    append!(uniref90_df, mmseqs_lca_table)\n",
    "end\n",
    "uniref90_df\n",
    "uniref90_viral_df = uniref90_df[map(x -> x in viral_tax_ids, uniref90_df[!, \"taxon_id\"]), :]\n",
    "\n",
    "viral_contigs_by_tool[db] = Dict{String, Set{String}}()\n",
    "for gdf in DataFrames.groupby(uniref90_viral_df, \"sample_id\")\n",
    "    sample_id = gdf[1, \"sample_id\"]\n",
    "    viral_contigs_by_tool[db][sample_id] = Set()\n",
    "    for row in DataFrames.eachrow(gdf)\n",
    "        push!(viral_contigs_by_tool[db][sample_id], string(row[\"contig_id\"]))\n",
    "    end\n",
    "end\n",
    "viral_contigs_by_tool[db]"
   ]
  },
  {
   "cell_type": "code",
   "execution_count": 14,
   "id": "dddc8749-2985-4ead-bb90-7e9fdb3d999a",
   "metadata": {},
   "outputs": [
    {
     "name": "stderr",
     "output_type": "stream",
     "text": [
      "\u001b[32mProgress: 100%|█████████████████████████████████████████| Time: 0:01:09\u001b[39m\n"
     ]
    },
    {
     "data": {
      "text/plain": [
       "Dict{String, Set{String}} with 204 entries:\n",
       "  \"SRR6399620\" => Set([\"21030\", \"25060\", \"58575\", \"40326\", \"54792\", \"21839\", \"2…\n",
       "  \"SRR6399522\" => Set([\"32284\", \"26514\", \"8409\", \"19331\", \"35816\", \"5227\", \"175…\n",
       "  \"SRR6399796\" => Set([\"15763\", \"10398\"])\n",
       "  \"SRR6399686\" => Set([\"26650\", \"35488\", \"56873\", \"28329\", \"28296\", \"10624\", \"5…\n",
       "  \"SRR6399461\" => Set([\"11505\", \"6146\"])\n",
       "  \"SRR6399715\" => Set([\"33095\", \"14228\", \"8240\", \"24056\", \"34678\", \"34655\", \"28…\n",
       "  \"SRR6399613\" => Set([\"15644\", \"11681\", \"14054\", \"9956\"])\n",
       "  \"SRR6399716\" => Set([\"15781\", \"7990\", \"14997\", \"1750\", \"13272\", \"4734\"])\n",
       "  \"SRR6399802\" => Set([\"28406\", \"18527\", \"28037\", \"15545\", \"18855\", \"12297\", \"2…\n",
       "  \"SRR6399615\" => Set([\"5422\", \"10127\"])\n",
       "  \"SRR6399464\" => Set([\"73334\", \"68375\", \"40745\", \"74632\", \"31585\", \"10089\", \"3…\n",
       "  \"SRR6400018\" => Set([\"8105\", \"21303\", \"6160\", \"31294\", \"30724\", \"20562\", \"848…\n",
       "  \"SRR6399728\" => Set([\"9785\", \"19471\"])\n",
       "  \"SRR6399569\" => Set([\"12041\", \"3540\", \"12175\", \"36279\", \"15401\", \"18712\", \"49…\n",
       "  \"SRR6399871\" => Set([\"7922\", \"7209\", \"13775\", \"5894\"])\n",
       "  \"SRR6399460\" => Set([\"5972\", \"8067\", \"2242\", \"3470\", \"21748\", \"13875\", \"18720…\n",
       "  \"SRR6399885\" => Set([\"10063\", \"3617\", \"15248\", \"1690\"])\n",
       "  \"SRR6399688\" => Set([\"20688\", \"10556\", \"23555\", \"23141\", \"23560\", \"14133\", \"1…\n",
       "  \"SRR6399879\" => Set([\"2829\", \"105393\", \"103228\", \"50614\", \"45173\", \"145767\", …\n",
       "  \"SRR6399583\" => Set([\"8162\", \"13124\", \"18128\", \"3019\", \"5793\", \"10797\", \"1372…\n",
       "  \"SRR6399582\" => Set([\"10016\", \"1912\", \"15081\", \"9402\", \"9957\", \"47111\", \"2924…\n",
       "  \"SRR6399561\" => Set([\"1789\", \"12157\", \"17447\", \"9332\", \"7933\", \"1392\", \"12906…\n",
       "  \"SRR6399799\" => Set([\"8160\"])\n",
       "  \"SRR6399811\" => Set([\"39644\", \"37449\", \"9401\", \"14048\", \"15332\", \"10490\", \"59…\n",
       "  \"SRR6399713\" => Set([\"6123\", \"4958\"])\n",
       "  ⋮            => ⋮"
      ]
     },
     "execution_count": 14,
     "metadata": {},
     "output_type": "execute_result"
    }
   ],
   "source": [
    "db = \"UniRef100\"\n",
    "uniref100_df = DataFrames.DataFrame()\n",
    "\n",
    "ProgressMeter.@showprogress for sample_path in sample_paths\n",
    "    sample_id = basename(sample_path)\n",
    "    mmseqs_lca_file = joinpath(sample_path, \"mmseqs_easy_taxonomy\", \"final.contigs.fastg.gfa.fna.mmseqs_easy_taxonomy.$(db)_lca.tsv\")\n",
    "    mmseqs_lca_table = Mycelia.parse_mmseqs_easy_taxonomy_lca_tsv(mmseqs_lca_file)\n",
    "    mmseqs_lca_table[!, \"sample_id\"] .= sample_id\n",
    "    append!(uniref100_df, mmseqs_lca_table)\n",
    "end\n",
    "uniref100_df\n",
    "uniref100_viral_df = uniref100_df[map(x -> x in viral_tax_ids, uniref100_df[!, \"taxon_id\"]), :]\n",
    "\n",
    "viral_contigs_by_tool[db] = Dict{String, Set{String}}()\n",
    "for gdf in DataFrames.groupby(uniref100_viral_df, \"sample_id\")\n",
    "    sample_id = gdf[1, \"sample_id\"]\n",
    "    viral_contigs_by_tool[db][sample_id] = Set()\n",
    "    for row in DataFrames.eachrow(gdf)\n",
    "        push!(viral_contigs_by_tool[db][sample_id], string(row[\"contig_id\"]))\n",
    "    end\n",
    "end\n",
    "viral_contigs_by_tool[db]"
   ]
  },
  {
   "cell_type": "code",
   "execution_count": 15,
   "id": "bbeb0568-9b9a-4bea-8b32-2aa3346e5ded",
   "metadata": {},
   "outputs": [
    {
     "data": {
      "text/plain": [
       "Dict{String, Dict{String, Set{String}}} with 5 entries:\n",
       "  \"UniRef50\"  => Dict(\"SRR6399620\"=>Set([\"21030\", \"58575\", \"40326\", \"54792\", \"7…\n",
       "  \"blast\"     => Dict(\"SRR6399620\"=>Set([\"67499\", \"6791\", \"10477\", \"11346\", \"18…\n",
       "  \"UniRef100\" => Dict(\"SRR6399620\"=>Set([\"21030\", \"25060\", \"58575\", \"40326\", \"5…\n",
       "  \"genomad\"   => Dict(\"SRR6399620\"=>Set([\"25060\", \"58575\", \"21490\", \"57482\", \"3…\n",
       "  \"UniRef90\"  => Dict(\"SRR6399620\"=>Set([\"21030\", \"58575\", \"40326\", \"54792\", \"2…"
      ]
     },
     "execution_count": 15,
     "metadata": {},
     "output_type": "execute_result"
    }
   ],
   "source": [
    "viral_contigs_by_tool"
   ]
  },
  {
   "cell_type": "code",
   "execution_count": 16,
   "id": "9d22d966-9401-4277-b36f-1a601e82ec47",
   "metadata": {},
   "outputs": [
    {
     "data": {
      "text/plain": [
       "213-element Vector{String}:\n",
       " \"SRR6399459\"\n",
       " \"SRR6399460\"\n",
       " \"SRR6399461\"\n",
       " \"SRR6399462\"\n",
       " \"SRR6399464\"\n",
       " \"SRR6399485\"\n",
       " \"SRR6399486\"\n",
       " \"SRR6399487\"\n",
       " \"SRR6399488\"\n",
       " \"SRR6399490\"\n",
       " \"SRR6399491\"\n",
       " \"SRR6399492\"\n",
       " \"SRR6399494\"\n",
       " ⋮\n",
       " \"SRR6399977\"\n",
       " \"SRR6399986\"\n",
       " \"SRR6399988\"\n",
       " \"SRR6399991\"\n",
       " \"SRR6400014\"\n",
       " \"SRR6400015\"\n",
       " \"SRR6400017\"\n",
       " \"SRR6400018\"\n",
       " \"SRR6400019\"\n",
       " \"SRR6400022\"\n",
       " \"SRR6400023\"\n",
       " \"SRR6400024\""
      ]
     },
     "execution_count": 16,
     "metadata": {},
     "output_type": "execute_result"
    }
   ],
   "source": [
    "ordered_tools = \n",
    "[\"genomad\",\n",
    "\"blast\",\n",
    "\"UniRef50\",\n",
    "\"UniRef90\",\n",
    "\"UniRef100\"]\n",
    "\n",
    "ordered_samples = basename.(sample_paths)"
   ]
  },
  {
   "cell_type": "code",
   "execution_count": 17,
   "id": "7d0bedbe-330a-4e23-9b23-c65975292da3",
   "metadata": {},
   "outputs": [
    {
     "data": {
      "text/plain": [
       "Dict{String, Set{String}} with 213 entries:\n",
       "  \"SRR6399620\" => Set([\"25060\", \"58575\", \"21490\", \"57482\", \"33110\", \"43681\", \"1…\n",
       "  \"SRR6399522\" => Set([\"35351\", \"10657\", \"39489\", \"35171\", \"30061\", \"39970\", \"2…\n",
       "  \"SRR6399796\" => Set([\"4659\", \"15743\", \"15859\", \"2360\", \"15763\", \"12792\", \"112…\n",
       "  \"SRR6399686\" => Set([\"28931\", \"20278\", \"38091\", \"17527\", \"41020\", \"45034\", \"2…\n",
       "  \"SRR6399461\" => Set([\"6086\", \"9587\", \"4230\", \"20677\", \"1651\", \"14090\", \"3973\"…\n",
       "  \"SRR6399715\" => Set([\"34950\", \"32420\", \"26563\", \"18322\", \"25183\", \"33125\", \"2…\n",
       "  \"SRR6399613\" => Set([\"12960\", \"9620\", \"3747\", \"1848\", \"8951\", \"9945\", \"10214\"…\n",
       "  \"SRR6399716\" => Set([\"9687\", \"8891\", \"540\", \"6327\", \"15778\", \"1750\", \"263\", \"…\n",
       "  \"SRR6399802\" => Set([\"34461\", \"5822\", \"23752\", \"28306\", \"7925\", \"22826\", \"302…\n",
       "  \"SRR6399615\" => Set([\"3478\", \"908\", \"3343\", \"9449\", \"6666\", \"8771\", \"4800\", \"…\n",
       "  \"SRR6399464\" => Set([\"36948\", \"5790\", \"34631\", \"52460\", \"53243\", \"22797\", \"74…\n",
       "  \"SRR6400018\" => Set([\"4304\", \"35674\", \"36966\", \"17750\", \"30029\", \"4743\", \"334…\n",
       "  \"SRR6399728\" => Set([\"11861\", \"12006\", \"23728\", \"21772\", \"13510\", \"22441\", \"1…\n",
       "  \"SRR6399569\" => Set([\"5419\", \"20870\", \"30246\", \"35572\", \"22573\", \"3849\", \"235…\n",
       "  \"SRR6399871\" => Set([\"21167\", \"18162\", \"15489\", \"23360\", \"12314\", \"18253\", \"5…\n",
       "  \"SRR6399460\" => Set([\"1385\", \"6096\", \"10553\", \"6851\", \"9735\", \"1520\", \"15619\"…\n",
       "  \"SRR6399885\" => Set([\"2803\", \"7665\", \"25610\", \"32094\", \"14995\", \"31886\", \"120…\n",
       "  \"SRR6399688\" => Set([\"7951\", \"8815\", \"1229\", \"15619\", \"15281\", \"21323\", \"1922…\n",
       "  \"SRR6399879\" => Set([\"2829\", \"95568\", \"120913\", \"137532\", \"37926\", \"149724\", …\n",
       "  \"SRR6399583\" => Set([\"18137\", \"7463\", \"6876\", \"14003\", \"10226\", \"6703\", \"1642…\n",
       "  \"SRR6399582\" => Set([\"41654\", \"6748\", \"38180\", \"26103\", \"33448\", \"35634\", \"26…\n",
       "  \"SRR6399561\" => Set([\"15101\", \"14733\", \"11577\", \"10530\", \"3826\", \"13206\", \"98…\n",
       "  \"SRR6399799\" => Set([\"2760\", \"9183\", \"1749\", \"7146\", \"9102\", \"5707\", \"6231\", …\n",
       "  \"SRR6399811\" => Set([\"16670\", \"37671\", \"7764\", \"20744\", \"6906\", \"21362\", \"170…\n",
       "  \"SRR6399713\" => Set([\"8286\", \"575\", \"1923\", \"3602\", \"4958\", \"1345\", \"8531\", \"…\n",
       "  ⋮            => ⋮"
      ]
     },
     "execution_count": 17,
     "metadata": {},
     "output_type": "execute_result"
    }
   ],
   "source": [
    "unanimous_hits = Dict{String, Set{String}}()\n",
    "for sample in ordered_samples\n",
    "    unanimous_hits[sample] = Set(viral_contigs_by_tool[\"genomad\"][sample])\n",
    "    for other_tool in setdiff(ordered_tools, \"genomad\")\n",
    "        # @show other_tool\n",
    "        unanimous_hits[sample] = intersect(unanimous_hits[sample], viral_contigs_by_tool[\"genomad\"][sample])\n",
    "    end\n",
    "end\n",
    "unanimous_hits"
   ]
  },
  {
   "cell_type": "code",
   "execution_count": 105,
   "id": "03cc811f-97be-4369-8fe9-5992cc39eb30",
   "metadata": {},
   "outputs": [],
   "source": [
    "# \"Caudoviricetes sp.\" => 390"
   ]
  },
  {
   "cell_type": "code",
   "execution_count": 106,
   "id": "f60faf61-028f-437a-8821-6e73146fef3f",
   "metadata": {},
   "outputs": [],
   "source": [
    "# sort(collect(StatsBase.countmap(unanimous_blast_hits[!, \"subject tax name\"])), by=x->x[2], rev=true)"
   ]
  },
  {
   "cell_type": "code",
   "execution_count": 107,
   "id": "63abc3fe-1f7e-4f6c-a156-3c6812bb72e6",
   "metadata": {},
   "outputs": [],
   "source": [
    "# blast\n",
    "# unanimous_blast_hits = viral_hits_df[[row[\"query id\"] in unanimous_hits[row[\"sample_id\"]] for row in DataFrames.eachrow(viral_hits_df)], :]\n",
    "# unanimous_blast_host_hits = unanimous_blast_host_hits[map(x -> occursin(\"papillomavirus\", x), unanimous_blast_host_hits[!, \"subject tax name\"]), :]"
   ]
  },
  {
   "cell_type": "code",
   "execution_count": 119,
   "id": "9cfa6a3a-8254-439d-bd7a-45aba6353528",
   "metadata": {},
   "outputs": [
    {
     "data": {
      "text/plain": [
       "24.296"
      ]
     },
     "execution_count": 119,
     "metadata": {},
     "output_type": "execute_result"
    }
   ],
   "source": [
    "blast_taxon_counts = sort(collect(StatsBase.countmap(unanimous_blast_hits[!, \"subject tax name\"])), by=x->x[2], rev=true)\n",
    "blast_taxon_relative_proportions = [x => y/sum(last.(blast_taxon_counts)) for (x, y) in blast_taxon_counts]\n",
    "round(sum(last.(filter(x -> occursin(r\"caudovir\"i, x[1]), blast_taxon_relative_proportions))) * 100, digits=3)"
   ]
  },
  {
   "cell_type": "code",
   "execution_count": 120,
   "id": "cdf92907-b759-4afa-a56f-369f3ac0a1b2",
   "metadata": {},
   "outputs": [
    {
     "data": {
      "text/plain": [
       "25.998"
      ]
     },
     "execution_count": 120,
     "metadata": {},
     "output_type": "execute_result"
    }
   ],
   "source": [
    "# uniref100_viral_df\n",
    "unanimous_uniref100_hits = uniref100_viral_df[[string(row[\"contig_id\"]) in unanimous_hits[row[\"sample_id\"]] for row in DataFrames.eachrow(uniref100_viral_df)], :]\n",
    "uniref100_taxon_counts = sort(collect(StatsBase.countmap(unanimous_uniref100_hits[!, \"taxon_name\"])), by=x->x[2], rev=true)\n",
    "uniref100_taxon_relative_proportions = [x => y/sum(last.(uniref100_taxon_counts)) for (x, y) in uniref100_taxon_counts]\n",
    "round(sum(last.(filter(x -> occursin(r\"caudovir\"i, x[1]), uniref100_taxon_relative_proportions))) * 100, digits=3)"
   ]
  },
  {
   "cell_type": "code",
   "execution_count": 122,
   "id": "f853d697-8d8d-44c2-bfe6-8506e54519ca",
   "metadata": {},
   "outputs": [
    {
     "data": {
      "text/plain": [
       "30.662"
      ]
     },
     "execution_count": 122,
     "metadata": {},
     "output_type": "execute_result"
    }
   ],
   "source": [
    "# uniref90_viral_df\n",
    "unanimous_uniref90_hits = uniref90_viral_df[[string(row[\"contig_id\"]) in unanimous_hits[row[\"sample_id\"]] for row in DataFrames.eachrow(uniref90_viral_df)], :]\n",
    "uniref90_taxon_counts = sort(collect(StatsBase.countmap(unanimous_uniref90_hits[!, \"taxon_name\"])), by=x->x[2], rev=true)\n",
    "uniref90_taxon_relative_proportions = [x => y/sum(last.(uniref90_taxon_counts)) for (x, y) in uniref90_taxon_counts]\n",
    "round(sum(last.(filter(x -> occursin(r\"caudovir\"i, x[1]), uniref90_taxon_relative_proportions))) * 100, digits=3)"
   ]
  },
  {
   "cell_type": "code",
   "execution_count": 123,
   "id": "2470d415-b186-4300-9c90-553ef307cc88",
   "metadata": {},
   "outputs": [
    {
     "data": {
      "text/plain": [
       "28.718"
      ]
     },
     "execution_count": 123,
     "metadata": {},
     "output_type": "execute_result"
    }
   ],
   "source": [
    "# uniref50_viral_df\n",
    "unanimous_uniref50_hits = uniref50_viral_df[[string(row[\"contig_id\"]) in unanimous_hits[row[\"sample_id\"]] for row in DataFrames.eachrow(uniref50_viral_df)], :]\n",
    "uniref50_taxon_counts = sort(collect(StatsBase.countmap(unanimous_uniref50_hits[!, \"taxon_name\"])), by=x->x[2], rev=true)\n",
    "uniref50_taxon_relative_proportions = [x => y/sum(last.(uniref50_taxon_counts)) for (x, y) in uniref50_taxon_counts]\n",
    "round(sum(last.(filter(x -> occursin(r\"caudovir\"i, x[1]), uniref50_taxon_relative_proportions))) * 100, digits=3)"
   ]
  },
  {
   "cell_type": "code",
   "execution_count": 131,
   "id": "e9a48cb6-58a2-4b0f-b39f-34593130d914",
   "metadata": {},
   "outputs": [
    {
     "data": {
      "text/html": [
       "<div><div style = \"float: left;\"><span>800×2 DataFrame</span></div><div style = \"float: right;\"><span style = \"font-style: italic;\">775 rows omitted</span></div><div style = \"clear: both;\"></div></div><div class = \"data-frame\" style = \"overflow-x: scroll;\"><table class = \"data-frame\" style = \"margin-bottom: 6px;\"><thead><tr class = \"header\"><th class = \"rowNumber\" style = \"font-weight: bold; text-align: right;\">Row</th><th style = \"text-align: left;\">sample_id</th><th style = \"text-align: left;\">contig_id</th></tr><tr class = \"subheader headerLastRow\"><th class = \"rowNumber\" style = \"font-weight: bold; text-align: right;\"></th><th title = \"String\" style = \"text-align: left;\">String</th><th title = \"Any\" style = \"text-align: left;\">Any</th></tr></thead><tbody><tr><td class = \"rowNumber\" style = \"font-weight: bold; text-align: right;\">1</td><td style = \"text-align: left;\">SRR6399461</td><td style = \"text-align: left;\">19066</td></tr><tr><td class = \"rowNumber\" style = \"font-weight: bold; text-align: right;\">2</td><td style = \"text-align: left;\">SRR6399461</td><td style = \"text-align: left;\">2188</td></tr><tr><td class = \"rowNumber\" style = \"font-weight: bold; text-align: right;\">3</td><td style = \"text-align: left;\">SRR6399461</td><td style = \"text-align: left;\">4230</td></tr><tr><td class = \"rowNumber\" style = \"font-weight: bold; text-align: right;\">4</td><td style = \"text-align: left;\">SRR6399464</td><td style = \"text-align: left;\">44462</td></tr><tr><td class = \"rowNumber\" style = \"font-weight: bold; text-align: right;\">5</td><td style = \"text-align: left;\">SRR6399464</td><td style = \"text-align: left;\">48520</td></tr><tr><td class = \"rowNumber\" style = \"font-weight: bold; text-align: right;\">6</td><td style = \"text-align: left;\">SRR6399464</td><td style = \"text-align: left;\">69238</td></tr><tr><td class = \"rowNumber\" style = \"font-weight: bold; text-align: right;\">7</td><td style = \"text-align: left;\">SRR6399485</td><td style = \"text-align: left;\">14937</td></tr><tr><td class = \"rowNumber\" style = \"font-weight: bold; text-align: right;\">8</td><td style = \"text-align: left;\">SRR6399486</td><td style = \"text-align: left;\">10662</td></tr><tr><td class = \"rowNumber\" style = \"font-weight: bold; text-align: right;\">9</td><td style = \"text-align: left;\">SRR6399486</td><td style = \"text-align: left;\">1480</td></tr><tr><td class = \"rowNumber\" style = \"font-weight: bold; text-align: right;\">10</td><td style = \"text-align: left;\">SRR6399486</td><td style = \"text-align: left;\">1797</td></tr><tr><td class = \"rowNumber\" style = \"font-weight: bold; text-align: right;\">11</td><td style = \"text-align: left;\">SRR6399486</td><td style = \"text-align: left;\">5893</td></tr><tr><td class = \"rowNumber\" style = \"font-weight: bold; text-align: right;\">12</td><td style = \"text-align: left;\">SRR6399486</td><td style = \"text-align: left;\">7115</td></tr><tr><td class = \"rowNumber\" style = \"font-weight: bold; text-align: right;\">13</td><td style = \"text-align: left;\">SRR6399486</td><td style = \"text-align: left;\">9919</td></tr><tr><td style = \"text-align: right;\">&vellip;</td><td style = \"text-align: right;\">&vellip;</td><td style = \"text-align: right;\">&vellip;</td></tr><tr><td class = \"rowNumber\" style = \"font-weight: bold; text-align: right;\">789</td><td style = \"text-align: left;\">SRR6399884</td><td style = \"text-align: left;\">8337</td></tr><tr><td class = \"rowNumber\" style = \"font-weight: bold; text-align: right;\">790</td><td style = \"text-align: left;\">SRR6399888</td><td style = \"text-align: left;\">37003</td></tr><tr><td class = \"rowNumber\" style = \"font-weight: bold; text-align: right;\">791</td><td style = \"text-align: left;\">SRR6399935</td><td style = \"text-align: left;\">4976</td></tr><tr><td class = \"rowNumber\" style = \"font-weight: bold; text-align: right;\">792</td><td style = \"text-align: left;\">SRR6399950</td><td style = \"text-align: left;\">2358</td></tr><tr><td class = \"rowNumber\" style = \"font-weight: bold; text-align: right;\">793</td><td style = \"text-align: left;\">SRR6399953</td><td style = \"text-align: left;\">104823</td></tr><tr><td class = \"rowNumber\" style = \"font-weight: bold; text-align: right;\">794</td><td style = \"text-align: left;\">SRR6399955</td><td style = \"text-align: left;\">205339</td></tr><tr><td class = \"rowNumber\" style = \"font-weight: bold; text-align: right;\">795</td><td style = \"text-align: left;\">SRR6399956</td><td style = \"text-align: left;\">3665</td></tr><tr><td class = \"rowNumber\" style = \"font-weight: bold; text-align: right;\">796</td><td style = \"text-align: left;\">SRR6400018</td><td style = \"text-align: left;\">35955</td></tr><tr><td class = \"rowNumber\" style = \"font-weight: bold; text-align: right;\">797</td><td style = \"text-align: left;\">SRR6400018</td><td style = \"text-align: left;\">34472</td></tr><tr><td class = \"rowNumber\" style = \"font-weight: bold; text-align: right;\">798</td><td style = \"text-align: left;\">SRR6400018</td><td style = \"text-align: left;\">27681</td></tr><tr><td class = \"rowNumber\" style = \"font-weight: bold; text-align: right;\">799</td><td style = \"text-align: left;\">SRR6400019</td><td style = \"text-align: left;\">18306</td></tr><tr><td class = \"rowNumber\" style = \"font-weight: bold; text-align: right;\">800</td><td style = \"text-align: left;\">SRR6400019</td><td style = \"text-align: left;\">614</td></tr></tbody></table></div>"
      ],
      "text/latex": [
       "\\begin{tabular}{r|cc}\n",
       "\t& sample\\_id & contig\\_id\\\\\n",
       "\t\\hline\n",
       "\t& String & Any\\\\\n",
       "\t\\hline\n",
       "\t1 & SRR6399461 & 19066 \\\\\n",
       "\t2 & SRR6399461 & 2188 \\\\\n",
       "\t3 & SRR6399461 & 4230 \\\\\n",
       "\t4 & SRR6399464 & 44462 \\\\\n",
       "\t5 & SRR6399464 & 48520 \\\\\n",
       "\t6 & SRR6399464 & 69238 \\\\\n",
       "\t7 & SRR6399485 & 14937 \\\\\n",
       "\t8 & SRR6399486 & 10662 \\\\\n",
       "\t9 & SRR6399486 & 1480 \\\\\n",
       "\t10 & SRR6399486 & 1797 \\\\\n",
       "\t11 & SRR6399486 & 5893 \\\\\n",
       "\t12 & SRR6399486 & 7115 \\\\\n",
       "\t13 & SRR6399486 & 9919 \\\\\n",
       "\t14 & SRR6399487 & 26765 \\\\\n",
       "\t15 & SRR6399487 & 29743 \\\\\n",
       "\t16 & SRR6399490 & 1517 \\\\\n",
       "\t17 & SRR6399491 & 36866 \\\\\n",
       "\t18 & SRR6399491 & 48065 \\\\\n",
       "\t19 & SRR6399492 & 38603 \\\\\n",
       "\t20 & SRR6399492 & 53055 \\\\\n",
       "\t21 & SRR6399494 & 55955 \\\\\n",
       "\t22 & SRR6399507 & 12286 \\\\\n",
       "\t23 & SRR6399507 & 15855 \\\\\n",
       "\t24 & SRR6399507 & 5879 \\\\\n",
       "\t25 & SRR6399507 & 6328 \\\\\n",
       "\t26 & SRR6399508 & 116727 \\\\\n",
       "\t27 & SRR6399508 & 14391 \\\\\n",
       "\t28 & SRR6399508 & 2027 \\\\\n",
       "\t29 & SRR6399508 & 28103 \\\\\n",
       "\t30 & SRR6399508 & 37629 \\\\\n",
       "\t$\\dots$ & $\\dots$ & $\\dots$ \\\\\n",
       "\\end{tabular}\n"
      ],
      "text/plain": [
       "\u001b[1m800×2 DataFrame\u001b[0m\n",
       "\u001b[1m Row \u001b[0m│\u001b[1m sample_id  \u001b[0m\u001b[1m contig_id \u001b[0m\n",
       "     │\u001b[90m String     \u001b[0m\u001b[90m Any       \u001b[0m\n",
       "─────┼───────────────────────\n",
       "   1 │ SRR6399461  19066\n",
       "   2 │ SRR6399461  2188\n",
       "   3 │ SRR6399461  4230\n",
       "   4 │ SRR6399464  44462\n",
       "   5 │ SRR6399464  48520\n",
       "   6 │ SRR6399464  69238\n",
       "   7 │ SRR6399485  14937\n",
       "   8 │ SRR6399486  10662\n",
       "   9 │ SRR6399486  1480\n",
       "  10 │ SRR6399486  1797\n",
       "  11 │ SRR6399486  5893\n",
       "  ⋮  │     ⋮           ⋮\n",
       " 791 │ SRR6399935  4976\n",
       " 792 │ SRR6399950  2358\n",
       " 793 │ SRR6399953  104823\n",
       " 794 │ SRR6399955  205339\n",
       " 795 │ SRR6399956  3665\n",
       " 796 │ SRR6400018  35955\n",
       " 797 │ SRR6400018  34472\n",
       " 798 │ SRR6400018  27681\n",
       " 799 │ SRR6400019  18306\n",
       " 800 │ SRR6400019  614\n",
       "\u001b[36m             779 rows omitted\u001b[0m"
      ]
     },
     "execution_count": 131,
     "metadata": {},
     "output_type": "execute_result"
    }
   ],
   "source": [
    "contigs_of_interest = unique(vcat(\n",
    "    DataFrames.rename(unanimous_blast_hits[map(x -> occursin(r\"caudovir\"i, x), unanimous_blast_hits[!, \"subject tax name\"]), [\"sample_id\", \"query id\"]], \"query id\" => \"contig_id\"),\n",
    "    unanimous_uniref100_hits[map(x -> occursin(r\"caudovir\"i, x), unanimous_uniref100_hits[!, \"taxon_name\"]), [\"sample_id\", \"contig_id\"]],\n",
    "    unanimous_uniref90_hits[map(x -> occursin(r\"caudovir\"i, x), unanimous_uniref90_hits[!, \"taxon_name\"]), [\"sample_id\", \"contig_id\"]],\n",
    "    unanimous_uniref50_hits[map(x -> occursin(r\"caudovir\"i, x), unanimous_uniref50_hits[!, \"taxon_name\"]), [\"sample_id\", \"contig_id\"]]\n",
    "))"
   ]
  },
  {
   "cell_type": "code",
   "execution_count": 176,
   "id": "d34e5c99-5d87-4682-ac19-8e6e03fc4302",
   "metadata": {},
   "outputs": [
    {
     "name": "stderr",
     "output_type": "stream",
     "text": [
      "\u001b[32mProgress: 100%|█████████████████████████████████████████| Time: 0:01:54\u001b[39m\n"
     ]
    },
    {
     "data": {
      "text/plain": [
       "509-element Vector{Any}:\n",
       " FASTX.FASTA.Record:\n",
       "  description: \"SRR6399461__19066\"\n",
       "     sequence: \"ATAGCATTATTTGTTATAATAGGGGGGATATTATTATTA…\"\n",
       " FASTX.FASTA.Record:\n",
       "  description: \"SRR6399461__2188\"\n",
       "     sequence: \"CAAAATGAAGAAAGAATATTATTTGCTGATTTGTCCATA…\"\n",
       " FASTX.FASTA.Record:\n",
       "  description: \"SRR6399461__4230\"\n",
       "     sequence: \"GAATATGATTTCAAAAATAGCTTCCTTGAAAGGAGGGGC…\"\n",
       " FASTX.FASTA.Record:\n",
       "  description: \"SRR6399464__44462\"\n",
       "     sequence: \"TATTGCACCAAGTAATGCATCGTATAAAGCTGTAAGTTT…\"\n",
       " FASTX.FASTA.Record:\n",
       "  description: \"SRR6399464__48520\"\n",
       "     sequence: \"AACTAAGTATAAAGAATCATTTAAAAGTGCAAATCCTCG…\"\n",
       " FASTX.FASTA.Record:\n",
       "  description: \"SRR6399464__69238\"\n",
       "     sequence: \"GTTAAGATTTATGGTAAACAATTCACTGCTAAAGATATT…\"\n",
       " FASTX.FASTA.Record:\n",
       "  description: \"SRR6399485__14937\"\n",
       "     sequence: \"GGTAGGTGTTTCCGCTGATGCTGTAGGTGGCTGTGCCGT…\"\n",
       " FASTX.FASTA.Record:\n",
       "  description: \"SRR6399486__10662\"\n",
       "     sequence: \"AACGTAATTTTATTAAATTAGTACAAGTAGACAAAAAAG…\"\n",
       " FASTX.FASTA.Record:\n",
       "  description: \"SRR6399486__1480\"\n",
       "     sequence: \"AATGGCCCCAGAAGAAATGCGGGTCAGCTCACCGGTCGT…\"\n",
       " FASTX.FASTA.Record:\n",
       "  description: \"SRR6399486__1797\"\n",
       "     sequence: \"GCTTTTCATGCAACAAGCTATGCGTTCAATGCGTTATCA…\"\n",
       " FASTX.FASTA.Record:\n",
       "  description: \"SRR6399486__5893\"\n",
       "     sequence: \"TGTGATTTCTAGTTCTCTGTTTTGCCCCCAAGCAGAAAC…\"\n",
       " FASTX.FASTA.Record:\n",
       "  description: \"SRR6399486__7115\"\n",
       "     sequence: \"AGCCAATCTTTATCAGCATCCCATGTACTCTTATAAACA…\"\n",
       " FASTX.FASTA.Record:\n",
       "  description: \"SRR6399486__9919\"\n",
       "     sequence: \"ACATTCACAGATAGCACAGGCTTACCTAACAATCATGTG…\"\n",
       " ⋮\n",
       " FASTX.FASTA.Record:\n",
       "  description: \"SRR6400019__36992\"\n",
       "     sequence: \"GATTATCCTGGTACTACTGCTGATTTCTTAGGTTTACGA…\"\n",
       " FASTX.FASTA.Record:\n",
       "  description: \"SRR6400019__963\"\n",
       "     sequence: \"CTTCGTGTTGCAATAAACAAATTTCGCCGCCAGATAACT…\"\n",
       " FASTX.FASTA.Record:\n",
       "  description: \"SRR6400023__1772\"\n",
       "     sequence: \"GGTTTAAATGGCAGTACAAAGGCGAATCACAAGAGAATT…\"\n",
       " FASTX.FASTA.Record:\n",
       "  description: \"SRR6400023__19804\"\n",
       "     sequence: \"GAGGGGCGTGCTCCTGCTGGTTGGGTGGCTTTGTGGCGT…\"\n",
       " FASTX.FASTA.Record:\n",
       "  description: \"SRR6400023__28221\"\n",
       "     sequence: \"TACTCAACTCCATGTATTACGCTAAAACCATCCTTTATA…\"\n",
       " FASTX.FASTA.Record:\n",
       "  description: \"SRR6400023__35658\"\n",
       "     sequence: \"GATTCTGGTGCTAAATGCTATGCATTTCATGATTGGTTT…\"\n",
       " FASTX.FASTA.Record:\n",
       "  description: \"SRR6400023__38198\"\n",
       "     sequence: \"TCTAGCGGCACCGTGGTGGTGATACTGCGGTAGGCGTCT…\"\n",
       " FASTX.FASTA.Record:\n",
       "  description: \"SRR6400023__39030\"\n",
       "     sequence: \"GCTATCAACGCAATGATTGGCCTTGACGCTCCATCCAAG…\"\n",
       " FASTX.FASTA.Record:\n",
       "  description: \"SRR6400023__40480\"\n",
       "     sequence: \"CGAACGCGCACACACAGGGTTCGGATTCGATTGGTGAGC…\"\n",
       " FASTX.FASTA.Record:\n",
       "  description: \"SRR6400023__40488\"\n",
       "     sequence: \"TTCGATGAAATCCTTCTTTTCGTGCTTCTTCTTGCAGCC…\"\n",
       " FASTX.FASTA.Record:\n",
       "  description: \"SRR6400023__43248\"\n",
       "     sequence: \"AAAATAGAGTTTATTAATCCAATAAACCAAGCACATCAA…\"\n",
       " FASTX.FASTA.Record:\n",
       "  description: \"SRR6400024__19988\"\n",
       "     sequence: \"GCACCAAGTAATGCATCGTATAAAGCTGTAAGTTTCACA…\""
      ]
     },
     "execution_count": 176,
     "metadata": {},
     "output_type": "execute_result"
    }
   ],
   "source": [
    "# extract contigs into a single fasta file\n",
    "fasta_records = []\n",
    "ProgressMeter.@showprogress for gdf in DataFrames.groupby(contigs_of_interest, \"sample_id\")\n",
    "    contig_ids = Set(gdf[!, \"contig_id\"])\n",
    "    sample_id = gdf[1, \"sample_id\"]\n",
    "    sample_path = joinpath(data_dir, \"SRA\", sample_id)\n",
    "    fasta_path = joinpath(sample_path, \"megahit\", \"final.contigs.fastg.gfa.fna\")\n",
    "    open(fasta_path) do io\n",
    "        fastx_io = FASTX.FASTA.Reader(io)\n",
    "        for record in fastx_io\n",
    "            if FASTX.identifier(record) in contig_ids\n",
    "                push!(fasta_records, FASTX.FASTA.Record(sample_id * \"__\" * FASTX.identifier(record), FASTX.sequence(record)))\n",
    "            end\n",
    "        end\n",
    "        close(fastx_io)\n",
    "    end\n",
    "end\n",
    "fasta_records"
   ]
  },
  {
   "cell_type": "code",
   "execution_count": 177,
   "id": "d3b927b9-cff4-4bd6-85c2-1eb9336707cd",
   "metadata": {},
   "outputs": [
    {
     "data": {
      "text/plain": [
       "509-element Vector{Any}:\n",
       " FASTX.FASTA.Record:\n",
       "  description: \"SRR6399523__6674\"\n",
       "     sequence: \"TAAAATGCTTCATTTGTAATGAAAAATTAAATCATAATC…\"\n",
       " FASTX.FASTA.Record:\n",
       "  description: \"SRR6399523__924\"\n",
       "     sequence: \"CACATTTACATAAGGGGTAAGAATCATGAAACATATATT…\"\n",
       " FASTX.FASTA.Record:\n",
       "  description: \"SRR6399728__3111\"\n",
       "     sequence: \"TATAGTTACATTTCCTGTGGAATTTGCATTTGCTTTAAA…\"\n",
       " FASTX.FASTA.Record:\n",
       "  description: \"SRR6399588__6685\"\n",
       "     sequence: \"TTGGTCAAGGAATTGCAAATGGTTTAGGTGGAAATGCTA…\"\n",
       " FASTX.FASTA.Record:\n",
       "  description: \"SRR6399955__93301\"\n",
       "     sequence: \"CTGACGCATAGCCATGTGGTGTCGGTGCGGCTCATGAGA…\"\n",
       " FASTX.FASTA.Record:\n",
       "  description: \"SRR6399871__3286\"\n",
       "     sequence: \"GCAACGTTTTGCATCGCCTGATACTTCTTCACCGACGAT…\"\n",
       " FASTX.FASTA.Record:\n",
       "  description: \"SRR6399718__21250\"\n",
       "     sequence: \"CTTGAAACCCCCCTATTTGCCAATAAAAATGTTGACCCA…\"\n",
       " FASTX.FASTA.Record:\n",
       "  description: \"SRR6399773__39766\"\n",
       "     sequence: \"ACGAGATAATAAAAAGGGTATTCCATTAAGAATATTTTT…\"\n",
       " FASTX.FASTA.Record:\n",
       "  description: \"SRR6399516__19941\"\n",
       "     sequence: \"CGTTCTGGGACAGCTGCTCGGACTCGGCCTGGGCGAACG…\"\n",
       " FASTX.FASTA.Record:\n",
       "  description: \"SRR6399564__4587\"\n",
       "     sequence: \"CATAAACTGTACCTAAAGTTCCAACTGGAGGTGCCCCGT…\"\n",
       " FASTX.FASTA.Record:\n",
       "  description: \"SRR6399916__100319\"\n",
       "     sequence: \"TGGTCTCTCTGTAAGCCCGAGAAGAGCATTGATTAGATG…\"\n",
       " FASTX.FASTA.Record:\n",
       "  description: \"SRR6399486__5893\"\n",
       "     sequence: \"TGTGATTTCTAGTTCTCTGTTTTGCCCCCAAGCAGAAAC…\"\n",
       " FASTX.FASTA.Record:\n",
       "  description: \"SRR6399728__19444\"\n",
       "     sequence: \"TTTACTAAAATGCTTACAGTCTGGACTATACCAAGCCAA…\"\n",
       " ⋮\n",
       " FASTX.FASTA.Record:\n",
       "  description: \"SRR6399809__71543\"\n",
       "     sequence: \"AAAGTAAAAATACAAATGGTAAGACTTTTTTGAGATTCT…\"\n",
       " FASTX.FASTA.Record:\n",
       "  description: \"SRR6399955__254014\"\n",
       "     sequence: \"GAAATAAACGAATCGCTATTCTTCTTGATACTTCTGTAT…\"\n",
       " FASTX.FASTA.Record:\n",
       "  description: \"SRR6399524__138682\"\n",
       "     sequence: \"GGTTGTGCTGCTGAGCCTCGGCGGCAATCTGGAAACCGC…\"\n",
       " FASTX.FASTA.Record:\n",
       "  description: \"SRR6399627__24638\"\n",
       "     sequence: \"ACGTATGGACTAAAGAAGAAGAAAAATTTGTGGTGGCTC…\"\n",
       " FASTX.FASTA.Record:\n",
       "  description: \"SRR6399955__302860\"\n",
       "     sequence: \"AAACGATAAAATAGAATGCTGGATTGTTGACATAGAAAG…\"\n",
       " FASTX.FASTA.Record:\n",
       "  description: \"SRR6399809__37915\"\n",
       "     sequence: \"GATTTGAATGGGAGGGGTATTTATGATAATTAAAAAAGA…\"\n",
       " FASTX.FASTA.Record:\n",
       "  description: \"SRR6399486__1480\"\n",
       "     sequence: \"AATGGCCCCAGAAGAAATGCGGGTCAGCTCACCGGTCGT…\"\n",
       " FASTX.FASTA.Record:\n",
       "  description: \"SRR6399955__334192\"\n",
       "     sequence: \"AAACAGGTAGGTATAACCAGAGACAAACTAGAGGCTTTA…\"\n",
       " FASTX.FASTA.Record:\n",
       "  description: \"SRR6399519__14359\"\n",
       "     sequence: \"GGATAAAACTTAAGAAGGAAACAGGAGATCTTTCATCAA…\"\n",
       " FASTX.FASTA.Record:\n",
       "  description: \"SRR6399614__4370\"\n",
       "     sequence: \"CCAAAAGAAAGCAAGATTAACAGCCCTAGGTTATAAAGC…\"\n",
       " FASTX.FASTA.Record:\n",
       "  description: \"SRR6399977__22649\"\n",
       "     sequence: \"ATGAGCGATCTGCTCCGATGTCACGTTGTGGAACTGTTG…\"\n",
       " FASTX.FASTA.Record:\n",
       "  description: \"SRR6399952__28814\"\n",
       "     sequence: \"GGTGAAAGCACACCTAAACGCAATGCAGAACCTTTCATT…\""
      ]
     },
     "execution_count": 177,
     "metadata": {},
     "output_type": "execute_result"
    }
   ],
   "source": [
    "fasta_records = sort(fasta_records, by=x->length(FASTX.sequence(x)), rev=true)"
   ]
  },
  {
   "cell_type": "code",
   "execution_count": 180,
   "id": "a521f454-8d7b-4355-bfde-cb51a34231b5",
   "metadata": {},
   "outputs": [
    {
     "data": {
      "text/plain": [
       "\"/oak/stanford/scg/lab_mpsnyder/cjprybol/Mycelia/projects/viral-exposome-discovery/data/results/high-confidence-caudovirales-contigs.fna.2k-filtered.png\""
      ]
     },
     "execution_count": 180,
     "metadata": {},
     "output_type": "execute_result"
    }
   ],
   "source": [
    "p = StatsPlots.histogram(\n",
    "    length.(FASTX.sequence.(fasta_records)),\n",
    "    bins=100,\n",
    "    label=missing,\n",
    "    xlabel = \"contig length\",\n",
    "    ylabel = \"# of contigs\",\n",
    "    title = \"high confidence caudovirales contigs\"\n",
    ")\n",
    "StatsPlots.vline!(p, [2000], label = \"2Kb\")\n",
    "StatsPlots.savefig(p, joinpath(results_dir, \"high-confidence-caudovirales-contigs.fna.2k-filtered.png\"))"
   ]
  },
  {
   "cell_type": "code",
   "execution_count": null,
   "id": "eaa45d90-2135-4995-9ea9-5621c61d0c11",
   "metadata": {},
   "outputs": [],
   "source": [
    "filtered_fasta_records = filter(x -> length(FASTX.sequence(x)) >= 2000, fasta_records)\n",
    "\n",
    "caudovirales_fasta = joinpath(results_dir, \"high-confidence-caudovirales-contigs.fna\")\n",
    "open(caudovirales_fasta, \"w\") do io\n",
    "    fastx_io = FASTX.FASTA.Writer(io)\n",
    "    for record in filtered_fasta_records\n",
    "        write(fastx_io, record)\n",
    "    end\n",
    "    close(fastx_io)\n",
    "end\n",
    "\n",
    "bgzipped_caudovirales_fasta = caudovirales_fasta * \".gz\"\n",
    "if isfile(bgzipped_caudovirales_fasta)\n",
    "    rm(bgzipped_caudovirales_fasta)\n",
    "end\n",
    "run(`conda run --live-stream -n samtools bgzip $(caudovirales_fasta)`)\n",
    "run(`conda run --live-stream -n samtools samtools faidx $(bgzipped_caudovirales_fasta)`)\n",
    "# function fasta_to_fasta_alignment(ref, query)\n",
    "#     run(pipeline(`conda run --live-stream -n minimap2 minimap2 -ax asm5 $(ref) $(query)`, ref * \".$(basename(query)).sam\"))\n",
    "# end\n",
    "# # ref = joinpath(data_dir, \"reference-genomes/GCF_001274345.1_ViralProj293723_genomic.fna\")\n",
    "# # fasta_to_fasta_alignment(ref, bgzipped_hpv_fasta)\n",
    "\n",
    "# # not sensitive to segment length or \n",
    "pggb_outdir = joinpath(results_dir, \"pggb_caudovirales\")\n",
    "# haplotypes = 2\n",
    "haplotypes = Int(ceil(sqrt(length(filtered_fasta_records))))\n",
    " #  \n",
    "# run(`conda run --live-stream -n pggb pggb -i $(bgzipped_caudovirales_fasta) -o $(pggb_outdir) -t 4 -n $(haplotypes) -p 70 -s 100 -l 300`)\n",
    "run(`conda run --live-stream -n pggb pggb -i $(bgzipped_caudovirales_fasta) -o $(pggb_outdir) -t 4 -n $(haplotypes)`)\n",
    "# # -t 4 "
   ]
  },
  {
   "cell_type": "code",
   "execution_count": 189,
   "id": "da43a865-9753-4b53-80d9-05bcc85bb474",
   "metadata": {},
   "outputs": [
    {
     "data": {
      "text/plain": [
       "24-element Vector{String}:\n",
       " \"/oak/stanford/scg/lab_mpsnyder/cjprybol/Mycelia/projects/viral-exposome-discovery/data/exposome_data/joint-reads/m64283e_231026_230505.bcAd1001T--bcAd1001T.bam.fasta\"\n",
       " \"/oak/stanford/scg/lab_mpsnyder/cjprybol/Mycelia/projects/viral-exposome-discovery/data/exposome_data/joint-reads/m64283e_231026_230505.bcAd1002T--bcAd1002T.bam.fasta\"\n",
       " \"/oak/stanford/scg/lab_mpsnyder/cjprybol/Mycelia/projects/viral-exposome-discovery/data/exposome_data/joint-reads/m64283e_231026_230505.bcAd1003T--bcAd1003T.bam.fasta\"\n",
       " \"/oak/stanford/scg/lab_mpsnyder/cjprybol/Mycelia/projects/viral-exposome-discovery/data/exposome_data/joint-reads/m64283e_231026_230505.bcAd1004T--bcAd1004T.bam.fasta\"\n",
       " \"/oak/stanford/scg/lab_mpsnyder/cjprybol/Mycelia/projects/viral-exposome-discovery/data/exposome_data/joint-reads/m64283e_231026_230505.bcAd1006T--bcAd1006T.bam.fasta\"\n",
       " \"/oak/stanford/scg/lab_mpsnyder/cjprybol/Mycelia/projects/viral-exposome-discovery/data/exposome_data/joint-reads/m64283e_231026_230505.bcAd1007T--bcAd1007T.bam.fasta\"\n",
       " \"/oak/stanford/scg/lab_mpsnyder/cjprybol/Mycelia/projects/viral-exposome-discovery/data/exposome_data/joint-reads/m64283e_231026_230505.bcAd1008T--bcAd1008T.bam.fasta\"\n",
       " \"/oak/stanford/scg/lab_mpsnyder/cjprybol/Mycelia/projects/viral-exposome-discovery/data/exposome_data/joint-reads/m64283e_231026_230505.bcAd1009T--bcAd1009T.bam.fasta\"\n",
       " \"/oak/stanford/scg/lab_mpsnyder/cjprybol/Mycelia/projects/viral-exposome-discovery/data/exposome_data/joint-reads/m64283e_231026_230505.bcAd1010T--bcAd1010T.bam.fasta\"\n",
       " \"/oak/stanford/scg/lab_mpsnyder/cjprybol/Mycelia/projects/viral-exposome-discovery/data/exposome_data/joint-reads/m64283e_231026_230505.bcAd1011T--bcAd1011T.bam.fasta\"\n",
       " \"/oak/stanford/scg/lab_mpsnyder/cjprybol/Mycelia/projects/viral-exposome-discovery/data/exposome_data/joint-reads/m64283e_231026_230505.bcAd1012T--bcAd1012T.bam.fasta\"\n",
       " \"/oak/stanford/scg/lab_mpsnyder/cjprybol/Mycelia/projects/viral-exposome-discovery/data/exposome_data/joint-reads/m64283e_231026_230505.bcAd1013T--bcAd1013T.bam.fasta\"\n",
       " \"/oak/stanford/scg/lab_mpsnyder/cjprybol/Mycelia/projects/viral-exposome-discovery/data/exposome_data/joint-reads/m64283e_231026_230505.bcAd1015T--bcAd1015T.bam.fasta\"\n",
       " \"/oak/stanford/scg/lab_mpsnyder/cjprybol/Mycelia/projects/viral-exposome-discovery/data/exposome_data/joint-reads/m64283e_231026_230505.bcAd1016T--bcAd1016T.bam.fasta\"\n",
       " \"/oak/stanford/scg/lab_mpsnyder/cjprybol/Mycelia/projects/viral-exposome-discovery/data/exposome_data/joint-reads/m64283e_231026_230505.bcAd1017T--bcAd1017T.bam.fasta\"\n",
       " \"/oak/stanford/scg/lab_mpsnyder/cjprybol/Mycelia/projects/viral-exposome-discovery/data/exposome_data/joint-reads/m64283e_231026_230505.bcAd1018T--bcAd1018T.bam.fasta\"\n",
       " \"/oak/stanford/scg/lab_mpsnyder/cjprybol/Mycelia/projects/viral-exposome-discovery/data/exposome_data/joint-reads/m64283e_231026_230505.bcAd1019T--bcAd1019T.bam.fasta\"\n",
       " \"/oak/stanford/scg/lab_mpsnyder/cjprybol/Mycelia/projects/viral-exposome-discovery/data/exposome_data/joint-reads/m64283e_231026_230505.bcAd1020T--bcAd1020T.bam.fasta\"\n",
       " \"/oak/stanford/scg/lab_mpsnyder/cjprybol/Mycelia/projects/viral-exposome-discovery/data/exposome_data/joint-reads/m64283e_231026_230505.bcAd1021T--bcAd1021T.bam.fasta\"\n",
       " \"/oak/stanford/scg/lab_mpsnyder/cjprybol/Mycelia/projects/viral-exposome-discovery/data/exposome_data/joint-reads/m64283e_231026_230505.bcAd1022T--bcAd1022T.bam.fasta\"\n",
       " \"/oak/stanford/scg/lab_mpsnyder/cjprybol/Mycelia/projects/viral-exposome-discovery/data/exposome_data/joint-reads/m84085_231013_185624_s2.hifi_reads.bc1001.bam.fasta\"\n",
       " \"/oak/stanford/scg/lab_mpsnyder/cjprybol/Mycelia/projects/viral-exposome-discovery/data/exposome_data/joint-reads/m84085_231013_185624_s2.hifi_reads.bc1002.bam.fasta\"\n",
       " \"/oak/stanford/scg/lab_mpsnyder/cjprybol/Mycelia/projects/viral-exposome-discovery/data/exposome_data/joint-reads/m84085_231013_185624_s2.hifi_reads.bc1004.bam.fasta\"\n",
       " \"/oak/stanford/scg/lab_mpsnyder/cjprybol/Mycelia/projects/viral-exposome-discovery/data/exposome_data/joint-reads/m84085_231013_185624_s2.hifi_reads.unassigned.bam.fasta\""
      ]
     },
     "execution_count": 189,
     "metadata": {},
     "output_type": "execute_result"
    }
   ],
   "source": [
    "filter(x -> occursin(r\"\\.fasta$\", x), readdir(joinpath(data_dir, \"exposome_data\", \"joint-reads\"), join=true))"
   ]
  },
  {
   "cell_type": "code",
   "execution_count": 191,
   "id": "f2b1a58b-1dc9-492e-a2ff-df585ceab300",
   "metadata": {},
   "outputs": [
    {
     "data": {
      "text/plain": [
       "\"/local/scratch/cjprybol/slrmtmp.42296384/jl_9vQATZ.fna\""
      ]
     },
     "execution_count": 191,
     "metadata": {},
     "output_type": "execute_result"
    }
   ],
   "source": [
    "tmp_fasta = tempname() * \".fna\"\n",
    "long_read_fastas = filter(x -> occursin(r\"\\.fasta$\", x), readdir(joinpath(data_dir, \"exposome_data\", \"joint-reads\"), join=true))\n",
    "Mycelia.merge_fasta_files(long_read_fastas, tmp_fasta)"
   ]
  },
  {
   "cell_type": "code",
   "execution_count": 193,
   "id": "79ba204a-b53b-4c85-9826-a04acf9a9924",
   "metadata": {},
   "outputs": [
    {
     "data": {
      "text/plain": [
       "\"/oak/stanford/scg/lab_mpsnyder/cjprybol/Mycelia/projects/viral-exposome-discovery/data/reference-genomes/GCF_001274345.1_ViralProj293723_genomic.fna.jl_9vQATZ.fna.sam\""
      ]
     },
     "execution_count": 193,
     "metadata": {},
     "output_type": "execute_result"
    }
   ],
   "source": [
    "# run(`minimap2 -a ref.fa $(tmp_fasta) > alignment.sam`)\n",
    "query = tmp_fasta\n",
    "outsam = ref * \".$(basename(query)).sam\"\n",
    "run(pipeline(`conda run --live-stream -n minimap2 minimap2 -a $(ref) $(query)`, outsam))"
   ]
  },
  {
   "cell_type": "code",
   "execution_count": 194,
   "id": "3ece65ec-af18-4dbe-8e0e-4e573e96866c",
   "metadata": {},
   "outputs": [
    {
     "data": {
      "text/plain": [
       "\"/oak/stanford/scg/lab_mpsnyder/cjprybol/Mycelia/projects/viral-exposome-discovery/data/reference-genomes/GCF_001274345.1_ViralProj293723_genomic.fna.jl_9vQATZ.fna.filtered.sam\""
      ]
     },
     "execution_count": 194,
     "metadata": {},
     "output_type": "execute_result"
    }
   ],
   "source": [
    "filtered_sam = replace(outsam, \".sam\" => \".filtered.sam\")"
   ]
  },
  {
   "cell_type": "code",
   "execution_count": 195,
   "id": "984355d7-3bbf-460c-85d7-90f648d82c1a",
   "metadata": {},
   "outputs": [
    {
     "data": {
      "text/plain": [
       "Process(`\u001b[4mconda\u001b[24m \u001b[4mrun\u001b[24m \u001b[4m--live-stream\u001b[24m \u001b[4m-n\u001b[24m \u001b[4msamtools\u001b[24m \u001b[4msamtools\u001b[24m \u001b[4mview\u001b[24m \u001b[4m-F\u001b[24m \u001b[4m4\u001b[24m \u001b[4m/oak/stanford/scg/lab_mpsnyder/cjprybol/Mycelia/projects/viral-exposome-discovery/data/reference-genomes/GCF_001274345.1_ViralProj293723_genomic.fna.jl_9vQATZ.fna.sam\u001b[24m`, ProcessExited(0))"
      ]
     },
     "execution_count": 195,
     "metadata": {},
     "output_type": "execute_result"
    }
   ],
   "source": [
    "run(pipeline(`conda run --live-stream -n samtools samtools view -F 4 $(outsam)`, filtered_sam))"
   ]
  },
  {
   "cell_type": "code",
   "execution_count": 72,
   "id": "336d10dc-3e63-417e-8945-c10b372afbfc",
   "metadata": {},
   "outputs": [],
   "source": [
    "# current_host = \"host_is_human\"\n",
    "# host_viral_tax_ids = Set(ncbi_host_metadata[ncbi_host_metadata[!, current_host] .== true, \"taxid\"])\n",
    "\n",
    "# # jumping straight into HPV, since that's the only hit shared across DNA and Protein\n",
    "# # blast\n",
    "# unanimous_blast_hits = viral_hits_df[[row[\"query id\"] in unanimous_hits[row[\"sample_id\"]] for row in DataFrames.eachrow(viral_hits_df)], :]\n",
    "# unanimous_blast_host_hits = unanimous_blast_hits[map(x -> x in host_viral_tax_ids, unanimous_blast_hits[!, \"subject tax id\"]), :]\n",
    "# unanimous_blast_host_hits = unanimous_blast_host_hits[map(x -> occursin(\"papillomavirus\", x), unanimous_blast_host_hits[!, \"subject tax name\"]), :]\n",
    "\n",
    "# # uniref100_viral_df\n",
    "# unanimous_uniref100_hits = uniref100_viral_df[[string(row[\"contig_id\"]) in unanimous_hits[row[\"sample_id\"]] for row in DataFrames.eachrow(uniref100_viral_df)], :]\n",
    "# unanimous_uniref100_host_hits = unanimous_uniref100_hits[map(x -> x in host_viral_tax_ids, unanimous_uniref100_hits[!, \"taxon_id\"]), :]\n",
    "# unanimous_uniref100_host_hits = unanimous_uniref100_hits[map(x -> x in host_viral_tax_ids, unanimous_uniref100_hits[!, \"taxon_name\"]), :]\n",
    "\n",
    "# # uniref90_viral_df\n",
    "# unanimous_uniref90_hits = uniref90_viral_df[[string(row[\"contig_id\"]) in unanimous_hits[row[\"sample_id\"]] for row in DataFrames.eachrow(uniref90_viral_df)], :]\n",
    "# unanimous_uniref90_host_hits = unanimous_uniref90_hits[map(x -> x in host_viral_tax_ids, unanimous_uniref90_hits[!, \"taxon_id\"]), :]\n",
    "# unanimous_uniref90_host_hits = unanimous_uniref90_host_hits[map(x -> x in host_viral_tax_ids, unanimous_uniref90_host_hits[!, \"taxon_name\"]), :]\n",
    "\n",
    "# # uniref50_viral_df\n",
    "# unanimous_uniref50_hits = uniref50_viral_df[[string(row[\"contig_id\"]) in unanimous_hits[row[\"sample_id\"]] for row in DataFrames.eachrow(uniref50_viral_df)], :]\n",
    "# unanimous_uniref50_host_hits = unanimous_uniref50_hits[map(x -> x in host_viral_tax_ids, unanimous_uniref50_hits[!, \"taxon_id\"]), :]\n",
    "# unanimous_uniref50_host_hits = unanimous_uniref50_host_hits[map(x -> x in host_viral_tax_ids, unanimous_uniref50_host_hits[!, \"taxon_name\"]), :]\n",
    "\n",
    "# contigs_of_interest = unique(vcat(\n",
    "#     DataFrames.rename(unanimous_blast_host_hits[!, [\"sample_id\", \"query id\"]], \"query id\" => \"contig_id\"),\n",
    "#     unanimous_uniref100_host_hits[!, [\"sample_id\", \"contig_id\"]],\n",
    "#     unanimous_uniref90_host_hits[!, [\"sample_id\", \"contig_id\"]],\n",
    "#     unanimous_uniref50_host_hits[!, [\"sample_id\", \"contig_id\"]],\n",
    "# ))\n",
    "\n",
    "# # extract contigs into a single fasta file\n",
    "# fasta_records = []\n",
    "# for gdf in DataFrames.groupby(contigs_of_interest, \"sample_id\")\n",
    "#     contig_ids = Set(gdf[!, \"contig_id\"])\n",
    "#     sample_id = gdf[1, \"sample_id\"]\n",
    "#     sample_path = joinpath(data_dir, \"SRA\", sample_id)\n",
    "#     fasta_path = joinpath(sample_path, \"megahit\", \"final.contigs.fastg.gfa.fna\")\n",
    "#     open(fasta_path) do io\n",
    "#         fastx_io = FASTX.FASTA.Reader(io)\n",
    "#         for record in fastx_io\n",
    "#             if FASTX.identifier(record) in contig_ids\n",
    "#                 push!(fasta_records, record)\n",
    "#             end\n",
    "#         end\n",
    "#         close(fastx_io)\n",
    "#     end\n",
    "# end\n",
    "# fasta_records\n",
    "\n",
    "# hpv_fasta = joinpath(results_dir, \"high-confidence-hpv-contigs.fna\")\n",
    "# open(hpv_fasta, \"w\") do io\n",
    "#     fastx_io = FASTX.FASTA.Writer(io)\n",
    "#     for record in fasta_records\n",
    "#         write(fastx_io, record)\n",
    "#     end\n",
    "#     close(fastx_io)\n",
    "# end\n",
    "\n",
    "# bgzipped_hpv_fasta = hpv_fasta * \".gz\"\n",
    "# if isfile(bgzipped_hpv_fasta)\n",
    "#     rm(bgzipped_hpv_fasta)\n",
    "# end\n",
    "# run(`conda run --live-stream -n samtools bgzip $(hpv_fasta)`)\n",
    "# run(`conda run --live-stream -n samtools samtools faidx $(bgzipped_hpv_fasta)`)\n",
    "# function fasta_to_fasta_alignment(ref, query)\n",
    "#     run(pipeline(`conda run --live-stream -n minimap2 minimap2 -ax asm5 $(ref) $(query)`, ref * \".$(basename(query)).sam\"))\n",
    "# end\n",
    "\n",
    "# ref = joinpath(data_dir, \"reference-genomes/GCF_001274345.1_ViralProj293723_genomic.fna\")\n",
    "# fasta_to_fasta_alignment(ref, bgzipped_hpv_fasta)\n",
    "\n",
    "# # not sensitive to segment length or \n",
    "# pggb_outdir = joinpath(results_dir, \"pggb_hpv\")\n",
    "# haplotypes = 2\n",
    "# run(`conda run --live-stream -n pggb pggb -i $(bgzipped_hpv_fasta) -o $(pggb_outdir) -n $(haplotypes) --map-pct-id 70 --segment-length 100`)\n",
    "# # -t 4 "
   ]
  },
  {
   "cell_type": "code",
   "execution_count": null,
   "id": "4bfe38bd-871c-424a-9372-57ca6109cb3a",
   "metadata": {},
   "outputs": [],
   "source": [
    "#make and visualize pangenome\n",
    "# conda create --channel conda-forge --channel bioconda --channel defaults --strict-channel-priority --name pggb pggb\n",
    "\n",
    "\n",
    "\n"
   ]
  },
  {
   "cell_type": "code",
   "execution_count": null,
   "id": "f0bac0db-57fa-467b-bd64-f5616c397969",
   "metadata": {},
   "outputs": [],
   "source": [
    "#map long reads to them"
   ]
  }
 ],
 "metadata": {
  "kernelspec": {
   "display_name": "Julia 1.6.7",
   "language": "julia",
   "name": "julia-1.6"
  },
  "language_info": {
   "file_extension": ".jl",
   "mimetype": "application/julia",
   "name": "julia",
   "version": "1.6.7"
  }
 },
 "nbformat": 4,
 "nbformat_minor": 5
}
