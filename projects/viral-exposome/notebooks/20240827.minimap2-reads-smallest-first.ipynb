{
 "cells": [
  {
   "cell_type": "code",
   "execution_count": null,
   "id": "ce23d7a1-3e01-467b-8a3b-3af4f2fa92a5",
   "metadata": {},
   "outputs": [],
   "source": [
    "# if hit plotting library issues, try resetting LD path for julia\n",
    "# can set in ~/.local/share/jupyter/kernels/\n",
    "@assert ENV[\"LD_LIBRARY_PATH\"] == \"\"\n",
    "import Pkg\n",
    "# Pkg.activate(;temp=true)\n",
    "Pkg.activate(\"20240827.minimap2-reads-smallest-first\")\n",
    "Pkg.add(\"Revise\")\n",
    "import Revise\n",
    "\n",
    "# Pkg.develop(path=\"/global/cfs/projectdirs/m4269/cjprybol/Mycelia\")\n",
    "# Pkg.develop(path=\"../../..\")\n",
    "Pkg.develop(path=\"$(homedir())/workspace/Mycelia\")\n",
    "import Mycelia\n",
    "\n",
    "pkgs = String[\n",
    "    \"DataFrames\",\n",
    "    \"uCSV\",\n",
    "    \"OrderedCollections\",\n",
    "    \"CSV\"\n",
    "    # \"XAM\",\n",
    "    # \"CodecZlib\"\n",
    "]\n",
    "Pkg.add(pkgs)\n",
    "for pkg in pkgs\n",
    "    eval(Meta.parse(\"import $pkg\"))\n",
    "end"
   ]
  },
  {
   "cell_type": "code",
   "execution_count": null,
   "id": "457402c5-0c5a-4f91-880c-cc7ddad9b8f8",
   "metadata": {},
   "outputs": [],
   "source": [
    "project_dir = dirname(pwd())\n",
    "data_dir = mkpath(joinpath(project_dir, \"data\"))"
   ]
  },
  {
   "cell_type": "code",
   "execution_count": null,
   "id": "feef2282-3f45-4442-9013-e6627d3577da",
   "metadata": {
    "tags": []
   },
   "outputs": [],
   "source": [
    "db = \"nt\"\n",
    "path_to_db = joinpath(homedir(), \"workspace\", \"blastdb\", db)\n",
    "# path_to_db = Mycelia.download_blast_db(db=db, source=\"ncbi\")\n",
    "# compressed_fasta_export = Mycelia.export_blast_db(path_to_db = path_to_db)\n",
    "compressed_fasta_export = path_to_db * \".fna.gz\""
   ]
  },
  {
   "cell_type": "code",
   "execution_count": null,
   "id": "8f24576f-d8d8-42b6-8e83-57ee0e802e52",
   "metadata": {},
   "outputs": [],
   "source": [
    "threads = 12\n",
    "mem_gb = threads * 32\n",
    "# mem_gb = # Int(floor(mem_gb * .8))"
   ]
  },
  {
   "cell_type": "code",
   "execution_count": null,
   "id": "80e0eac0-e6ba-47fd-a39a-e0dcef40b56a",
   "metadata": {},
   "outputs": [],
   "source": [
    "sra_dirs = readdir(joinpath(data_dir, \"SRA\"), join=true)"
   ]
  },
  {
   "cell_type": "code",
   "execution_count": null,
   "id": "d88828a5-404f-4258-bc16-1c7d4d6df991",
   "metadata": {},
   "outputs": [],
   "source": [
    "# sort SRA dirs by size so that smallest jobs will run first"
   ]
  },
  {
   "cell_type": "code",
   "execution_count": null,
   "id": "5bbd0f88-3398-47bb-b025-bfccf2e4870d",
   "metadata": {},
   "outputs": [],
   "source": [
    "sra_filesizes = []\n",
    "for sra_dir in sra_dirs\n",
    "    trim_galore_dir_contents = readdir(joinpath(sra_dir, \"trim_galore\"), join=true)\n",
    "    forward = first(filter(f -> occursin(r\"_1_val_1\\.fq\\.gz$\", f), trim_galore_dir_contents))\n",
    "    reverse = first(filter(f -> occursin(r\"_2_val_2\\.fq\\.gz$\", f), trim_galore_dir_contents))\n",
    "    push!(sra_filesizes, sra_dir => filesize(forward) + filesize(reverse))\n",
    "end\n",
    "size_sorted_sra_directories = first.(sort(sra_filesizes, by=x->x[2]))"
   ]
  },
  {
   "cell_type": "code",
   "execution_count": null,
   "id": "c22fcf81-57fe-4bcd-b0b8-52b3d9bfecfb",
   "metadata": {},
   "outputs": [],
   "source": [
    "# i = 1\n",
    "# i = 2\n",
    "# i = 3\n",
    "# i = 4\n",
    "# i = 5\n",
    "# done through above\n",
    "# next to submit is below\n",
    "i = 6\n",
    "N=min(2^i, length(size_sorted_sra_directories))"
   ]
  },
  {
   "cell_type": "code",
   "execution_count": null,
   "id": "474b24fb-28f0-4d52-9666-c711d065ed62",
   "metadata": {},
   "outputs": [],
   "source": [
    "for sra_dir in size_sorted_sra_directories[1:N]\n",
    "    trim_galore_dir_contents = readdir(joinpath(sra_dir, \"trim_galore\"), join=true)\n",
    "    forward = first(filter(f -> occursin(r\"_1_val_1\\.fq\\.gz$\", f), trim_galore_dir_contents))\n",
    "    reverse = first(filter(f -> occursin(r\"_2_val_2\\.fq\\.gz$\", f), trim_galore_dir_contents))\n",
    "    map_result = Mycelia.minimap_map_paired_end_with_index(fasta = compressed_fasta_export, forward = forward, reverse =reverse, mem_gb = Int(floor(mem_gb * .8)), threads=threads, as_string=true)\n",
    "    outfile = map_result.outfile\n",
    "    cmd = map_result.cmd\n",
    "    # resubmit if we run out of time\n",
    "    if !isfile(outfile)\n",
    "        println(outfile)\n",
    "        Mycelia.scg_sbatch(\n",
    "            job_name=basename(outfile),\n",
    "            mail_user=\"cameron.prybol@gmail.com\",\n",
    "            logdir=mkpath(\"$(homedir())/workspace/slurmlogs\"),\n",
    "            mem_gb=mem_gb,\n",
    "            cpus_per_task=threads,\n",
    "            partition=\"batch\",\n",
    "            account=\"mpsnyder\",\n",
    "            time=\"7-00:00:00\",\n",
    "            cmd=cmd)\n",
    "        # set this to be the runtime of the mapping jobs\n",
    "        sleep(60)\n",
    "    else\n",
    "        @show isfile(outfile)\n",
    "        @show Base.format_bytes(filesize(outfile))\n",
    "    end\n",
    "end"
   ]
  }
 ],
 "metadata": {
  "kernelspec": {
   "display_name": "julia 1.10.5",
   "language": "julia",
   "name": "julia-1.10"
  },
  "language_info": {
   "file_extension": ".jl",
   "mimetype": "application/julia",
   "name": "julia",
   "version": "1.10.5"
  }
 },
 "nbformat": 4,
 "nbformat_minor": 5
}
