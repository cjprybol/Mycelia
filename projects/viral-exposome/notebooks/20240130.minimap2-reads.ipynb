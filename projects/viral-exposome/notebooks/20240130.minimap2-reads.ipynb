{
 "cells": [
  {
   "cell_type": "code",
   "execution_count": null,
   "id": "fcf147cc-a2a0-418d-9aa6-48aa8b505efe",
   "metadata": {},
   "outputs": [],
   "source": [
    "@assert ENV[\"LD_LIBRARY_PATH\"] == \"\"\n",
    "import Pkg\n",
    "pkgs = [\n",
    "    \"Revise\",\n",
    "    \"DataFrames\",\n",
    "    \"uCSV\"\n",
    "]\n",
    "# Pkg.add(pkgs)\n",
    "for pkg in pkgs\n",
    "    eval(Meta.parse(\"import $pkg\"))\n",
    "end\n",
    "import Mycelia"
   ]
  },
  {
   "cell_type": "code",
   "execution_count": null,
   "id": "457402c5-0c5a-4f91-880c-cc7ddad9b8f8",
   "metadata": {},
   "outputs": [],
   "source": [
    "project_dir = dirname(pwd())\n",
    "data_dir = mkpath(joinpath(project_dir, \"data\"))"
   ]
  },
  {
   "cell_type": "code",
   "execution_count": null,
   "id": "1fe9dff3-0afc-4e17-9457-cce1ce9cf33f",
   "metadata": {},
   "outputs": [],
   "source": [
    "viral_reference_fastas_dir = mkpath(joinpath(data_dir, \"viral-reference-fastas\"))\n",
    "reference_fastas = sort(filter(x -> occursin(r\"\\.f(na|asta)\\.gz$\", x), readdir(viral_reference_fastas_dir, join=true)), by=x->filesize(x))"
   ]
  },
  {
   "cell_type": "code",
   "execution_count": null,
   "id": "7e790d29-cb8d-4c1c-9f8b-c269807f5701",
   "metadata": {},
   "outputs": [],
   "source": [
    "slurm_logdir = mkpath(\"$(homedir())/workspace/slurmlogs\")\n",
    "exposome_metadata_dir = joinpath(project_dir, \"metadata\")\n",
    "exposome_environmental_data = DataFrames.DataFrame(uCSV.read(\n",
    "    joinpath(exposome_metadata_dir, \"metadata_exposome.rds.tsv\"),\n",
    "    delim='\\t',\n",
    "    header=1,\n",
    "    typedetectrows=300\n",
    "))\n",
    "\n",
    "joint_sample_metadata = DataFrames.DataFrame(uCSV.read(\n",
    "    joinpath(exposome_metadata_dir, \"exposome/joint_sample_metadata.tsv\"),\n",
    "    delim='\\t',\n",
    "    header=1,\n",
    "    typedetectrows=300\n",
    "))\n",
    "\n",
    "@assert joint_sample_metadata[!, \"Library Name\"] == joint_sample_metadata[!, \"LibraryName\"]\n",
    "\n",
    "joint_metadata = DataFrames.innerjoin(\n",
    "    joint_sample_metadata,\n",
    "    exposome_environmental_data,\n",
    "    on=\"Library Name\" => \"samplenames\")\n",
    "\n",
    "short_read_sample_directories = sort(joinpath.(project_dir, \"data\", \"SRA\", joint_metadata[!, \"Run\"]))\n",
    "\n",
    "# 64 ictv-examplar-viruses.fna.gz\n",
    "# 64 ref_viruses_rep_genomes.fasta.gz\n",
    "# fasta_file = reference_fastas[2]\n",
    "# fasta_file = reference_fastas[3]\n",
    "# memory = 64\n",
    "# threads = 8"
   ]
  },
  {
   "cell_type": "code",
   "execution_count": null,
   "id": "7a2f9ca6-1869-43b8-baa7-84da81b5c851",
   "metadata": {},
   "outputs": [],
   "source": [
    "# fasta_file = reference_fastas[1]"
   ]
  },
  {
   "cell_type": "code",
   "execution_count": null,
   "id": "f4430171-6581-4bda-a566-f84ade91bf54",
   "metadata": {},
   "outputs": [],
   "source": [
    "# fasta_file = \"/oak/stanford/scg/lab_mpsnyder/cjprybol/Mycelia/projects/viral-exposome/data/viral-reference-fastas/ictv-examplar-viruses.fna.gz\"\n",
    "# fasta_file = \"/oak/stanford/scg/lab_mpsnyder/cjprybol/Mycelia/projects/viral-exposome/data/viral-reference-fastas/ref_viruses_rep_genomes.fasta.gz\"\n",
    "# fasta_file = \"/oak/stanford/scg/lab_mpsnyder/cjprybol/Mycelia/projects/viral-exposome/data/viral-reference-fastas/GCF_000001405.40_GRCh38.p14_genomic.fna.gz\"\n",
    "# fasta_file = \"/oak/stanford/scg/lab_mpsnyder/cjprybol/Mycelia/projects/viral-exposome/data/viral-reference-fastas/IMGVR_all_nucleotides-high_confidence.revised.fna.gz\"\n"
   ]
  },
  {
   "cell_type": "code",
   "execution_count": null,
   "id": "dcd7e2ae-20a1-4ec7-8aaf-09bea5750f67",
   "metadata": {},
   "outputs": [],
   "source": [
    "memory = 128\n",
    "threads = 16\n",
    "# 128 GCF_000001405.40_GRCh38.p14_genomic.fna.gz"
   ]
  },
  {
   "cell_type": "code",
   "execution_count": null,
   "id": "d35bedb5-3bd7-4c32-b640-2bff5b0759df",
   "metadata": {},
   "outputs": [],
   "source": [
    "# #1\n",
    "# # fasta_file = \"/oak/stanford/scg/lab_mpsnyder/cjprybol/Mycelia/projects/viral-exposome/data/viral-reference-fastas/IMGVR_all_nucleotides-high_confidence.fna.gz\"\n",
    "# #1\n",
    "# # fasta_file = \"/oak/stanford/scg/lab_mpsnyder/cjprybol/Mycelia/projects/viral-exposome/data/viral-reference-fastas/nt_viruses.fasta.gz\"\n",
    "\n",
    "# for sample in short_read_sample_directories[1:1]\n",
    "#     forward = joinpath(sample, \"trim_galore\", \"$(basename(sample))_1_val_1.fq.gz\")\n",
    "#     reverse = joinpath(sample, \"trim_galore\", \"$(basename(sample))_2_val_2.fq.gz\")\n",
    "#     outdir = mkpath(joinpath(sample, \"alignments\"))\n",
    "#     outfile = joinpath(outdir, basename(fasta_file) * \".minimap2.sorted.bam\")\n",
    "#     sam_temp_file = joinpath(outdir, basename(fasta_file) * \".minimap2.sam\")\n",
    "#     # @show outfile\n",
    "#     if !isfile(outfile) || (filesize(outfile) == 0)\n",
    "#         # https://github.com/lh3/minimap2/blob/master/FAQ.md#3-the-output-sam-doesnt-have-a-header\n",
    "#         # can use index prefix to split the memory\n",
    "#         cmd =\n",
    "#         \"\"\"\n",
    "#         $(Mycelia.MAMBA) run --live-stream -n minimap2 minimap2 -t $(threads) -ax sr $(fasta_file) $(forward) $(reverse) -o $(sam_temp_file) \\\\\n",
    "#         && $(Mycelia.MAMBA) run --live-stream -n samtools samtools sort -u --threads $(threads) $(sam_temp_file) \\\\\n",
    "#         | $(Mycelia.MAMBA) run --live-stream -n samtools samtools view --bam --with-header --output $(outfile) \\\\\n",
    "#         && rm $(sam_temp_file)\n",
    "#         \"\"\"\n",
    "#         Mycelia.sbatch(\n",
    "#             job_name = \"$(basename(outfile))\",\n",
    "#             mail_user = \"cameron.prybol@gmail.com\",\n",
    "#             logdir = slurm_logdir,\n",
    "#             partition = \"batch\",\n",
    "#             account = \"mpsnyder\",\n",
    "#             mem_gb = memory,\n",
    "#             cpus_per_task= threads,\n",
    "#             cmd = cmd)\n",
    "#     else\n",
    "#         @info \"$(outfile) already present...\"\n",
    "#     end\n",
    "# end"
   ]
  },
  {
   "cell_type": "code",
   "execution_count": null,
   "id": "609b6136-4fe4-4760-964f-6cbe82a3b0dc",
   "metadata": {},
   "outputs": [],
   "source": [
    "# for sample in short_read_sample_directories[1:1]\n",
    "#     forward = joinpath(sample, \"trim_galore\", \"$(basename(sample))_1_val_1.fq.gz\")\n",
    "#     reverse = joinpath(sample, \"trim_galore\", \"$(basename(sample))_2_val_2.fq.gz\")\n",
    "#     outdir = mkpath(joinpath(sample, \"alignments\"))\n",
    "#     outfile = joinpath(outdir, basename(fasta_file) * \".minimap2.sorted.bam\")\n",
    "#     sam_temp_file = joinpath(outdir, basename(fasta_file) * \".minimap2.sam\")\n",
    "#     # @show outfile\n",
    "#     if !isfile(outfile) || (filesize(outfile) == 0)\n",
    "#         # https://github.com/lh3/minimap2/blob/master/FAQ.md#3-the-output-sam-doesnt-have-a-header\n",
    "#         # can use index prefix to split the memory\n",
    "#         cmd =\n",
    "#         \"\"\"\n",
    "#         $(Mycelia.MAMBA) run --live-stream -n minimap2 minimap2 -t $(threads) -ax sr $(fasta_file) $(forward) $(reverse) -o $(sam_temp_file) \\\\\n",
    "#         && $(Mycelia.MAMBA) run --live-stream -n samtools samtools sort -u --threads $(threads) $(sam_temp_file) \\\\\n",
    "#         | $(Mycelia.MAMBA) run --live-stream -n samtools samtools view --bam --with-header --output $(outfile) \\\\\n",
    "#         && rm $(sam_temp_file)\n",
    "#         \"\"\"\n",
    "#         Mycelia.sbatch(\n",
    "#             job_name = \"$(basename(outfile))\",\n",
    "#             mail_user = \"cameron.prybol@gmail.com\",\n",
    "#             logdir = slurm_logdir,\n",
    "#             partition = \"batch\",\n",
    "#             account = \"mpsnyder\",\n",
    "#             mem_gb = memory,\n",
    "#             cpus_per_task= threads,\n",
    "#             cmd = cmd)\n",
    "#     else\n",
    "#         @info \"$(outfile) already present...\"\n",
    "#     end\n",
    "# end"
   ]
  },
  {
   "cell_type": "code",
   "execution_count": null,
   "id": "343002d5-c54a-4848-bc5f-bf50a43fe89a",
   "metadata": {},
   "outputs": [],
   "source": [
    "long_read_fastas = filter(x -> occursin(r\"\\.bam\\.fasta$\", x), readdir(joinpath(data_dir, \"exposome_data\", \"joint-reads\"), join=true))"
   ]
  },
  {
   "cell_type": "code",
   "execution_count": null,
   "id": "84efae69-d64f-456d-bddd-dd9498912224",
   "metadata": {},
   "outputs": [],
   "source": [
    "filter(x -> !occursin(r\"revised\"i, x), reference_fastas)"
   ]
  },
  {
   "cell_type": "code",
   "execution_count": null,
   "id": "ec613be1-5471-4f3c-9b41-8e618598fd70",
   "metadata": {},
   "outputs": [],
   "source": [
    "for reference_fasta in filter(x -> !occursin(r\"revised\"i, x), reference_fastas)[2:2]\n",
    "    for long_read_fasta in long_read_fastas\n",
    "        outdir = mkpath(joinpath(data_dir, \"exposome_data\", \"joint-reads\", \"alignments\"))\n",
    "        sam_outfile = joinpath(outdir, basename(reference_fasta) * \".\" * basename(long_read_fasta) * \".minimap2.sam\")\n",
    "        outfile = replace(sam_outfile, \".sam\" => \".sorted.bam\")\n",
    "        # @show outfile\n",
    "        if !isfile(outfile) || (filesize(outfile) == 0)\n",
    "            # https://github.com/lh3/minimap2/blob/master/FAQ.md#3-the-output-sam-doesnt-have-a-header\n",
    "            # can use index prefix to split the memory\n",
    "            cmd =\n",
    "            \"\"\"\n",
    "            $(Mycelia.MAMBA) run --live-stream -n minimap2 minimap2 -t $(threads) --split-prefix=$(sam_outfile).tmp -ax map-pb $(fasta_file) $(long_read_fasta) -o $(sam_outfile) \\\\\n",
    "            && $(Mycelia.MAMBA) run --live-stream -n samtools samtools sort -u --threads $(threads) $(sam_outfile) \\\\\n",
    "            | $(Mycelia.MAMBA) run --live-stream -n samtools samtools view --bam --with-header --output $(outfile) \\\\\n",
    "            && rm $(sam_outfile)\n",
    "            \"\"\"\n",
    "            # @show cmd\n",
    "            Mycelia.sbatch(\n",
    "                job_name = \"$(basename(outfile))\",\n",
    "                mail_user = \"cameron.prybol@gmail.com\",\n",
    "                logdir = slurm_logdir,\n",
    "                partition = \"batch\",\n",
    "                account = \"mpsnyder\",\n",
    "                mem_gb = memory,\n",
    "                cpus_per_task= threads,\n",
    "                cmd = cmd)\n",
    "        else\n",
    "            @info \"$(outfile) already present...\"\n",
    "        end\n",
    "    end\n",
    "end"
   ]
  }
 ],
 "metadata": {
  "kernelspec": {
   "display_name": "Julia 1.6.7",
   "language": "julia",
   "name": "julia-1.6"
  },
  "language_info": {
   "file_extension": ".jl",
   "mimetype": "application/julia",
   "name": "julia",
   "version": "1.6.7"
  }
 },
 "nbformat": 4,
 "nbformat_minor": 5
}
