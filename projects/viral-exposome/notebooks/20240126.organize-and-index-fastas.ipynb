{
 "cells": [
  {
   "cell_type": "code",
   "execution_count": null,
   "id": "fcf147cc-a2a0-418d-9aa6-48aa8b505efe",
   "metadata": {},
   "outputs": [],
   "source": [
    "@assert ENV[\"LD_LIBRARY_PATH\"] == \"\"\n",
    "import Pkg\n",
    "pkgs = [\n",
    "    \"Revise\",\n",
    "]\n",
    "# Pkg.add(pkgs)\n",
    "for pkg in pkgs\n",
    "    eval(Meta.parse(\"import $pkg\"))\n",
    "end\n",
    "import Mycelia"
   ]
  },
  {
   "cell_type": "code",
   "execution_count": null,
   "id": "457402c5-0c5a-4f91-880c-cc7ddad9b8f8",
   "metadata": {},
   "outputs": [],
   "source": [
    "project_dir = dirname(pwd())\n",
    "data_dir = mkpath(joinpath(project_dir, \"data\"))"
   ]
  },
  {
   "cell_type": "code",
   "execution_count": null,
   "id": "14bfb512-bd2c-4148-9628-f4605c9ec203",
   "metadata": {},
   "outputs": [],
   "source": [
    "viral_reference_fastas_dir = mkpath(joinpath(data_dir, \"viral-reference-fastas\"))"
   ]
  },
  {
   "cell_type": "code",
   "execution_count": null,
   "id": "a4a25772-36f9-4f1d-99b0-2e347189d183",
   "metadata": {},
   "outputs": [],
   "source": [
    "# run(`ln -s $(homedir())/workspace/JGI/IMG_VR_2022-12-19_7.1/IMGVR_all_nucleotides-high_confidence.fna.gz $(viral_reference_fastas_dir)`)"
   ]
  },
  {
   "cell_type": "code",
   "execution_count": null,
   "id": "bb686aed-b64f-40f1-a68a-4cbe357ae214",
   "metadata": {},
   "outputs": [],
   "source": [
    "# run(`ln -s $(homedir())/workspace/blastdb/nt_viruses.fasta.gz $(viral_reference_fastas_dir)`)"
   ]
  },
  {
   "cell_type": "code",
   "execution_count": null,
   "id": "5d7ce4f0-7dc4-43c5-84d7-bd74e3e3e862",
   "metadata": {},
   "outputs": [],
   "source": [
    "# run(`ln -s $(homedir())/workspace/blastdb/ref_viruses_rep_genomes.fasta.gz $(viral_reference_fastas_dir)`)"
   ]
  },
  {
   "cell_type": "code",
   "execution_count": null,
   "id": "fd28a819-2c89-4b93-bfe3-89057c129b47",
   "metadata": {},
   "outputs": [],
   "source": [
    "# output_file = joinpath(viral_reference_fastas_dir, \"ictv-examplar-viruses.fna.gz\")\n",
    "# fasta_files = filter(x -> occursin(r\"\\.fna\\.gz\", x), readdir(joinpath(data_dir, \"ictv_genomes\"), join=true))\n",
    "# Mycelia.merge_fasta_files(fasta_files=fasta_files, fasta_file=output_file)"
   ]
  },
  {
   "cell_type": "code",
   "execution_count": null,
   "id": "3984d8cf-8cbb-4f8a-96d3-8926a92a1326",
   "metadata": {},
   "outputs": [],
   "source": [
    "# human_reference = joinpath(data_dir, \"GCF_000001405.40\", \"ncbi_dataset\", \"data\", \"GCF_000001405.40\", \"GCF_000001405.40_GRCh38.p14_genomic.fna.gz\")\n",
    "# run(`ln -s $(human_reference) $(viral_reference_fastas_dir)`)"
   ]
  },
  {
   "cell_type": "code",
   "execution_count": null,
   "id": "96bcbebd-97a9-4f3d-9b4b-d0789a27ce7e",
   "metadata": {},
   "outputs": [],
   "source": [
    "reference_fastas = filter(x -> occursin(r\"\\.f(na|asta)\\.gz$\", x), readdir(viral_reference_fastas_dir, join=true))"
   ]
  },
  {
   "cell_type": "code",
   "execution_count": null,
   "id": "4922479a-1f4d-40ce-a624-a9974e46861b",
   "metadata": {},
   "outputs": [],
   "source": [
    "sort!(reference_fastas, by=x->filesize(x))"
   ]
  },
  {
   "cell_type": "code",
   "execution_count": null,
   "id": "7fbe69ac-743d-4c16-9d11-9dae7ba3af28",
   "metadata": {},
   "outputs": [],
   "source": [
    "slurm_logdir = mkpath(\"$(homedir())/workspace/slurmlogs\")"
   ]
  },
  {
   "cell_type": "code",
   "execution_count": null,
   "id": "7c69c732-f619-4c5b-a765-44a170e8b1c5",
   "metadata": {},
   "outputs": [],
   "source": [
    "# 4 & 5 too big to run on SCG3\n",
    "for fasta_file in reference_fastas[1:3]\n",
    "    Mycelia.sbatch(\n",
    "        job_name = \"bwa-mem2index.$(basename(fasta_file))\",\n",
    "        mail_user = \"cameron.prybol@gmail.com\",\n",
    "        logdir = slurm_logdir,\n",
    "        partition = \"batch\",\n",
    "        account = \"mpsnyder\",\n",
    "        mem_gb = 1536,\n",
    "        cmd = \"$(Mycelia.MAMBA) run --live-stream -n bwa-mem2 bwa-mem2 index $(fasta_file)\")\n",
    "end"
   ]
  }
 ],
 "metadata": {
  "kernelspec": {
   "display_name": "Julia 1.6.7",
   "language": "julia",
   "name": "julia-1.6"
  },
  "language_info": {
   "file_extension": ".jl",
   "mimetype": "application/julia",
   "name": "julia",
   "version": "1.6.7"
  }
 },
 "nbformat": 4,
 "nbformat_minor": 5
}
