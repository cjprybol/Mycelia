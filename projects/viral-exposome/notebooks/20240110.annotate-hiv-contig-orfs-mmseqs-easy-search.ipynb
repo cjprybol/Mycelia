{
 "cells": [
  {
   "cell_type": "code",
   "execution_count": null,
   "id": "ce59cd77-c0f0-4b90-8de8-3c5f071935ae",
   "metadata": {
    "tags": []
   },
   "outputs": [],
   "source": [
    "import Pkg\n",
    "pkgs = [\n",
    "\"DataFrames\",\n",
    "\"Dates\",\n",
    "\"uCSV\",\n",
    "\"Revise\",\n",
    "\"StatsBase\",\n",
    "\"StatsPlots\"\n",
    "]\n",
    "for pkg in pkgs\n",
    "    eval(Meta.parse(\"import $pkg\"))\n",
    "end\n",
    "import Mycelia"
   ]
  },
  {
   "cell_type": "code",
   "execution_count": null,
   "id": "3f2e8957-905f-47f2-b422-4a2194ce6742",
   "metadata": {},
   "outputs": [],
   "source": [
    "data_dir = joinpath(dirname(pwd()), \"data\")"
   ]
  },
  {
   "cell_type": "code",
   "execution_count": null,
   "id": "a93fcac4-8fe0-405d-ba37-d89d29273dd7",
   "metadata": {},
   "outputs": [],
   "source": [
    "gzipped_fasta = joinpath(data_dir, \"results/high-confidence-hiv-contigs.fna.gz\")\n",
    "fasta = replace(gzipped_fasta, \".gz\" => \"\")\n",
    "run(pipeline(`gzip -dc $(gzipped_fasta)`, fasta))\n",
    "run(`conda run --no-capture-output -n prodigal prodigal -m -p meta -i $(fasta) -f gff -o $(fasta).prodigal.gff -a $(fasta).prodigal.faa -d $(fasta).prodigal.fna -s $(fasta).prodigal.all_potential_gene_scores.txt`)"
   ]
  },
  {
   "cell_type": "code",
   "execution_count": null,
   "id": "c06fe840-6f84-4901-bd9a-394d3093af45",
   "metadata": {
    "tags": []
   },
   "outputs": [],
   "source": [
    "target_database = \"$(homedir())/workspace/mmseqs/UniRef100\"\n",
    "# target_database = \"$(homedir())/workspace/mmseqs/UniRef90\"\n",
    "# target_database = \"$(homedir())/workspace/mmseqs/UniRef50\"\n",
    "outfile_base = \"$(fasta).prodigal.faa.mmseqs_easy_search.\" * basename(target_database)\n",
    "# run(`sbatch $(homedir())/workspace/Mycelia/scripts/mmseqs-easy-search.sh $(fasta).prodigal.faa $target_database $outfile_base`)"
   ]
  },
  {
   "cell_type": "code",
   "execution_count": null,
   "id": "6e8198da-5a41-44eb-b00e-d79077abf920",
   "metadata": {},
   "outputs": [],
   "source": [
    "# mmseqs_outfile = Mycelia.run_mmseqs_easy_search(out_dir=OUT_DIR, query_fasta=amino_acid_fasta, target_database=\"$(homedir())/workspace/mmseqs/$(target_database)\", outfile=identifier)\n",
    "# updated_gff_table = Mycelia.update_gff_with_mmseqs(\"$(fasta).prodigal.gff\", outfile_base)\n",
    "# updated_gff_file = \"$(fasta).prodigal.mmseqs$(basename(target_database)).gff\"\n",
    "# uCSV.write(updated_gff_file, data = collect(DataFrames.eachcol(updated_gff_table)), header=missing, delim='\\t')\n",
    "# run(`seqret -sequence $(fasta) -feature -fformat gff -fopenfile $(updated_gff_file) -osformat genbank -osname_outseq $(updated_gff_file) -ofdirectory_outseq gbk_file -auto`)"
   ]
  },
  {
   "cell_type": "code",
   "execution_count": null,
   "id": "d7f3420b-640c-47c6-aae1-99ca5137e581",
   "metadata": {},
   "outputs": [],
   "source": [
    "mmseqs_results = DataFrames.DataFrame(uCSV.read(outfile_base, typedetectrows=100, delim='\\t', header=1))\n",
    "mmseqs_results = mmseqs_results[map(x -> occursin(r\"vir\"i, x), mmseqs_results[!, \"theader\"]), :]\n",
    "sorted_hits = sort(collect(StatsBase.countmap(mmseqs_results[!, \"query\"])), by=x->x[2], rev=true)\n",
    "StatsPlots.scatter(\n",
    "    mmseqs_results[!, \"alnlen\"],\n",
    "    mmseqs_results[!, \"pident\"]\n",
    ")"
   ]
  },
  {
   "cell_type": "code",
   "execution_count": null,
   "id": "8f3c037a-0a20-4d7d-8474-26f04e15e962",
   "metadata": {},
   "outputs": [],
   "source": [
    "# sort(mmseqs_results, \"alnlen\", rev=true)"
   ]
  },
  {
   "cell_type": "code",
   "execution_count": null,
   "id": "52c126e4-334d-461b-99e1-f5b7dea8239e",
   "metadata": {},
   "outputs": [],
   "source": [
    "# mmseqs_results[!, \"alnlen\"]"
   ]
  },
  {
   "cell_type": "code",
   "execution_count": null,
   "id": "6d9e273a-4805-4a81-b0fb-2d1f7ff3135c",
   "metadata": {},
   "outputs": [],
   "source": [
    "# for sorted_hit in sorted_hits\n",
    "#     if sorted_hit[2] >= 100\n",
    "#         println(sorted_hit[1])\n",
    "#         for x in mmseqs_results[mmseqs_results[!, \"query\"] .== sorted_hit[1], \"theader\"]\n",
    "#             println(x)\n",
    "#         end\n",
    "#     end\n",
    "# end"
   ]
  }
 ],
 "metadata": {
  "kernelspec": {
   "display_name": "Julia 1.6.7",
   "language": "julia",
   "name": "julia-1.6"
  },
  "language_info": {
   "file_extension": ".jl",
   "mimetype": "application/julia",
   "name": "julia",
   "version": "1.6.7"
  }
 },
 "nbformat": 4,
 "nbformat_minor": 5
}
