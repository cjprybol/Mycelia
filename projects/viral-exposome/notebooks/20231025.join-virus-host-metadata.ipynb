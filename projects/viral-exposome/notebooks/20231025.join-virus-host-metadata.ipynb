{
 "cells": [
  {
   "cell_type": "code",
   "execution_count": null,
   "id": "448a7cc1-d2a6-416e-801c-83119a56da64",
   "metadata": {},
   "outputs": [],
   "source": [
    "# conda create -n taxonkit -c bioconda taxonkit\n",
    "# mkdir $HOME/.taxonkit\n",
    "# cd $HOME/.taxonkit\n",
    "# wget ftp://ftp.ncbi.nih.gov/pub/taxonomy/taxdump.tar.gz\n",
    "# tar -xvzf taxdump.tar.gz"
   ]
  },
  {
   "cell_type": "code",
   "execution_count": null,
   "id": "d721fa48-b788-4576-9cab-b93b33daf55e",
   "metadata": {
    "tags": []
   },
   "outputs": [],
   "source": [
    "# default = 100\n",
    "# ENV[\"DATAFRAMES_COLUMNS\"] = 100\n",
    "# default = 25\n",
    "ENV[\"DATAFRAMES_ROWS\"] = 3\n",
    "\n",
    "import Pkg\n",
    "\n",
    "pkgs = [\n",
    "\"ProgressMeter\",\n",
    "\"uCSV\",\n",
    "\"DataFrames\",\n",
    "\"StatsBase\"\n",
    "]\n",
    "Pkg.add(pkgs)\n",
    "for pkg in pkgs\n",
    "    eval(Meta.parse(\"import $pkg\"))\n",
    "end"
   ]
  },
  {
   "cell_type": "code",
   "execution_count": null,
   "id": "8e511f2e-b156-4e51-84ed-59a0b88127b1",
   "metadata": {
    "tags": []
   },
   "outputs": [],
   "source": [
    "base_directory = dirname(pwd())"
   ]
  },
  {
   "cell_type": "code",
   "execution_count": null,
   "id": "81526340-c74c-42c7-b98c-cdf517acfa8e",
   "metadata": {
    "tags": []
   },
   "outputs": [],
   "source": [
    "metadata_directory = joinpath(base_directory, \"metadata\")"
   ]
  },
  {
   "cell_type": "code",
   "execution_count": null,
   "id": "943b2866-c82a-49cc-b55d-a2ac4e774bcc",
   "metadata": {},
   "outputs": [],
   "source": [
    "readdir(metadata_directory)"
   ]
  },
  {
   "cell_type": "code",
   "execution_count": null,
   "id": "ed20e098-69dc-41d6-b663-5bb7b879e1c7",
   "metadata": {},
   "outputs": [],
   "source": [
    "function list_subtaxa_ids(id)\n",
    "    Set(parse.(Int, filter(!isempty, strip.(readlines(`conda run --live-stream -n taxonkit taxonkit list --ids $(id)`)))))\n",
    "end\n",
    "\n",
    "@time vertebrate_taxids = list_subtaxa_ids(7742)\n",
    "@time mammal_taxids = list_subtaxa_ids(40674)\n",
    "@time primate_taxids = list_subtaxa_ids(9443)\n",
    "@time human_taxids = list_subtaxa_ids(9606)"
   ]
  },
  {
   "cell_type": "markdown",
   "id": "b4c561e2-d44f-49ef-aa2c-bf661071530e",
   "metadata": {},
   "source": [
    "ICTV is the highest level, good for getting top level virome picture"
   ]
  },
  {
   "cell_type": "code",
   "execution_count": null,
   "id": "1230eabe-e620-4156-b37d-a905a875f785",
   "metadata": {},
   "outputs": [],
   "source": [
    "# Virus REFSEQ accession\n",
    "ictv_vmr_metadata = DataFrames.DataFrame(\n",
    "    uCSV.read(joinpath(metadata_directory, \"VMR_MSL38_v1 - VMR MSL38 v1.tsv\"), delim='\\t', header=1)\n",
    ")\n",
    "\n",
    "# ictv_vmr_metadata = ictv_vmr_metadata[.!isempty.(ictv_vmr_metadata[!, \"Virus REFSEQ accession\"]), :]\n",
    "# ictv_vmr_metadata = ictv_vmr_metadata[ictv_vmr_metadata[!, \"Exemplar or additional isolate\"] .== \"E\", :]\n",
    "open(\"species-names.txt\", \"w\") do io\n",
    "    for x in ictv_vmr_metadata[!, \"Species\"]\n",
    "        println(io, x)\n",
    "    end\n",
    "end\n",
    "data, header = uCSV.read(open(pipeline(`cat species-names.txt`, `conda run --live-stream -n taxonkit taxonkit name2taxid`)), delim='\\t', typedetectrows=1962)\n",
    "name_taxid_map = DataFrames.DataFrame(data, [\"Species\", \"taxid\"])\n",
    "name_taxid_map = unique(name_taxid_map)\n",
    "ictv_vmr_metadata = DataFrames.innerjoin(ictv_vmr_metadata, name_taxid_map, on=\"Species\")\n",
    "# StatsBase.countmap(ictv_vmr_metadata[!, \"Host source\"])\n",
    "uCSV.write(joinpath(metadata_directory, \"VMR_MSL38_v1 - VMR MSL38 v1.transformed.tsv\"), ictv_vmr_metadata, delim='\\t')"
   ]
  },
  {
   "cell_type": "code",
   "execution_count": null,
   "id": "5d923676-b7f8-4789-b8ac-dfae04604c2d",
   "metadata": {},
   "outputs": [],
   "source": [
    "virus_host_db = DataFrames.DataFrame(\n",
    "    uCSV.read(\n",
    "        joinpath(metadata_directory, \"virushostdb.tsv\"),\n",
    "        delim='\\t',\n",
    "        header=1,\n",
    "        typedetectrows=721,\n",
    "        encodings=Dict(\"\" => missing)\n",
    "    )\n",
    ")\n",
    "\n",
    "virus_host_db_transformed = DataFrames.DataFrame()\n",
    "for row in DataFrames.eachrow(virus_host_db)\n",
    "    virus_taxid = row[\"virus tax id\"]\n",
    "    virus_name = row[\"virus name\"]\n",
    "    virus_lineage = row[\"virus lineage\"]\n",
    "    host_taxid = row[\"host tax id\"]\n",
    "    host_name = row[\"host name\"]\n",
    "    host_lineage = row[\"host lineage\"]\n",
    "    refseq_ids = string.(split(row[\"refseq id\"], \", \"))\n",
    "    for refseq_id in refseq_ids\n",
    "        push!(virus_host_db_transformed, (;virus_taxid, virus_name, virus_lineage, host_taxid, host_name, host_lineage, refseq_id), promote=true)\n",
    "    end\n",
    "end\n",
    "virus_host_db_transformed = unique(virus_host_db_transformed)\n",
    "virus_host_db_transformed[!, \"host_is_vertebrate\"] = map(x -> !ismissing(x) && (x in vertebrate_taxids), virus_host_db_transformed[!, \"host_taxid\"])\n",
    "virus_host_db_transformed[!, \"host_is_mammal\"] = map(x -> !ismissing(x) && (x in mammal_taxids), virus_host_db_transformed[!, \"host_taxid\"])\n",
    "virus_host_db_transformed[!, \"host_is_primate\"] = map(x -> !ismissing(x) && (x in primate_taxids), virus_host_db_transformed[!, \"host_taxid\"])\n",
    "virus_host_db_transformed[!, \"host_is_human\"] = map(x -> !ismissing(x) && (x in human_taxids), virus_host_db_transformed[!, \"host_taxid\"])\n",
    "\n",
    "@show sum(virus_host_db_transformed[!, \"host_is_vertebrate\"])\n",
    "@show sum(virus_host_db_transformed[!, \"host_is_mammal\"])\n",
    "@show sum(virus_host_db_transformed[!, \"host_is_primate\"])\n",
    "@show sum(virus_host_db_transformed[!, \"host_is_human\"])\n",
    "uCSV.write(joinpath(metadata_directory, \"virushostdb.transformed.tsv\"), virus_host_db_transformed, delim='\\t')"
   ]
  },
  {
   "cell_type": "code",
   "execution_count": null,
   "id": "b081e3ab-7d6d-4fb2-b7c9-44c7be69df61",
   "metadata": {},
   "outputs": [],
   "source": [
    "ncbi_virus_refseq_metadata = DataFrames.DataFrame(\n",
    "    uCSV.read(joinpath(metadata_directory, \"NCBI-virus-refseq.csv\"), quotes='\"', header=1)\n",
    ")\n",
    "\n",
    "open(\"species-names.txt\", \"w\") do io\n",
    "    for x in ncbi_virus_refseq_metadata[!, \"Species\"]\n",
    "        println(io, x)\n",
    "    end\n",
    "end\n",
    "data, header = uCSV.read(open(pipeline(`cat species-names.txt`, `conda run --live-stream -n taxonkit taxonkit name2taxid`)), delim='\\t', typedetectrows=1962)\n",
    "name_taxid_map = DataFrames.DataFrame(data, [\"Species\", \"taxid\"])\n",
    "name_taxid_map = unique(name_taxid_map)\n",
    "ncbi_virus_refseq_metadata = DataFrames.innerjoin(ncbi_virus_refseq_metadata, name_taxid_map, on=\"Species\")\n",
    "\n",
    "open(\"species-names.txt\", \"w\") do io\n",
    "    for x in ncbi_virus_refseq_metadata[!, \"Host\"]\n",
    "        println(io, x)\n",
    "    end\n",
    "end\n",
    "data, header = uCSV.read(open(pipeline(`cat species-names.txt`, `conda run --live-stream -n taxonkit taxonkit name2taxid`)), delim='\\t', typedetectrows=1962)\n",
    "name_taxid_map = DataFrames.DataFrame(data, [\"Host\", \"host_taxid\"])\n",
    "name_taxid_map = unique(name_taxid_map)\n",
    "ncbi_virus_refseq_metadata = DataFrames.innerjoin(ncbi_virus_refseq_metadata, name_taxid_map, on=\"Host\")\n",
    "ncbi_virus_refseq_metadata = ncbi_virus_refseq_metadata[map(!isempty, ncbi_virus_refseq_metadata[!, \"taxid\"]), :]\n",
    "ncbi_virus_refseq_metadata = ncbi_virus_refseq_metadata[map(!isempty, ncbi_virus_refseq_metadata[!, \"host_taxid\"]), :]\n",
    "\n",
    "ncbi_virus_refseq_metadata[!, \"taxid\"] = parse.(Int, ncbi_virus_refseq_metadata[!, \"taxid\"])\n",
    "ncbi_virus_refseq_metadata[!, \"host_taxid\"] = parse.(Int, ncbi_virus_refseq_metadata[!, \"host_taxid\"])\n",
    "\n",
    "ncbi_virus_refseq_metadata[!, \"host_is_vertebrate\"] = map(x -> !ismissing(x) && (x in vertebrate_taxids), ncbi_virus_refseq_metadata[!, \"host_taxid\"])\n",
    "ncbi_virus_refseq_metadata[!, \"host_is_mammal\"] = map(x -> !ismissing(x) && (x in mammal_taxids), ncbi_virus_refseq_metadata[!, \"host_taxid\"])\n",
    "ncbi_virus_refseq_metadata[!, \"host_is_primate\"] = map(x -> !ismissing(x) && (x in primate_taxids), ncbi_virus_refseq_metadata[!, \"host_taxid\"])\n",
    "ncbi_virus_refseq_metadata[!, \"host_is_human\"] = map(x -> !ismissing(x) && (x in human_taxids), ncbi_virus_refseq_metadata[!, \"host_taxid\"])\n",
    "\n",
    "@show sum(ncbi_virus_refseq_metadata[!, \"host_is_vertebrate\"])\n",
    "@show sum(ncbi_virus_refseq_metadata[!, \"host_is_mammal\"])\n",
    "@show sum(ncbi_virus_refseq_metadata[!, \"host_is_primate\"])\n",
    "@show sum(ncbi_virus_refseq_metadata[!, \"host_is_human\"])\n",
    "\n",
    "uCSV.write(joinpath(metadata_directory, \"NCBI-virus-refseq.transformed.tsv\"), ncbi_virus_refseq_metadata, delim='\\t')"
   ]
  }
 ],
 "metadata": {
  "kernelspec": {
   "display_name": "Julia 1.9.3",
   "language": "julia",
   "name": "julia-1.9"
  },
  "language_info": {
   "file_extension": ".jl",
   "mimetype": "application/julia",
   "name": "julia",
   "version": "1.9.3"
  }
 },
 "nbformat": 4,
 "nbformat_minor": 5
}
