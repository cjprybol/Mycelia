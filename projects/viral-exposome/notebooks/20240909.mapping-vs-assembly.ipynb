{
 "cells": [
  {
   "cell_type": "code",
   "execution_count": null,
   "id": "ce23d7a1-3e01-467b-8a3b-3af4f2fa92a5",
   "metadata": {},
   "outputs": [],
   "source": [
    "# if hit plotting library issues, try resetting LD path for julia\n",
    "# can set in ~/.local/share/jupyter/kernels/\n",
    "@assert ENV[\"LD_LIBRARY_PATH\"] == \"\"\n",
    "import Pkg\n",
    "# Pkg.activate(;temp=true)\n",
    "Pkg.activate(\"20240909.mapping-vs-assembly\")\n",
    "Pkg.add(\"Revise\")\n",
    "import Revise\n",
    "\n",
    "# Pkg.develop(path=\"/global/cfs/projectdirs/m4269/cjprybol/Mycelia\")\n",
    "# Pkg.develop(path=\"../../..\")\n",
    "Pkg.develop(path=\"$(homedir())/workspace/Mycelia\")\n",
    "import Mycelia\n",
    "\n",
    "pkgs = String[\n",
    "    \"DataFrames\",\n",
    "    \"uCSV\",\n",
    "    \"OrderedCollections\",\n",
    "    \"CSV\",\n",
    "    \"ProgressMeter\",\n",
    "    \"StatsBase\"\n",
    "    # \"XAM\",\n",
    "    # \"CodecZlib\"\n",
    "]\n",
    "Pkg.add(pkgs)\n",
    "for pkg in pkgs\n",
    "    eval(Meta.parse(\"import $pkg\"))\n",
    "end"
   ]
  },
  {
   "cell_type": "code",
   "execution_count": null,
   "id": "457402c5-0c5a-4f91-880c-cc7ddad9b8f8",
   "metadata": {},
   "outputs": [],
   "source": [
    "project_dir = dirname(pwd())\n",
    "data_dir = mkpath(joinpath(project_dir, \"data\"))"
   ]
  },
  {
   "cell_type": "code",
   "execution_count": null,
   "id": "feef2282-3f45-4442-9013-e6627d3577da",
   "metadata": {
    "tags": []
   },
   "outputs": [],
   "source": [
    "db = \"nt\"\n",
    "path_to_db = joinpath(homedir(), \"workspace\", \"blastdb\", db)\n",
    "# path_to_db = Mycelia.download_blast_db(db=db, source=\"ncbi\")\n",
    "# compressed_fasta_export = Mycelia.export_blast_db(path_to_db = path_to_db)\n",
    "compressed_fasta_export = path_to_db * \".fna.gz\""
   ]
  },
  {
   "cell_type": "code",
   "execution_count": null,
   "id": "80e0eac0-e6ba-47fd-a39a-e0dcef40b56a",
   "metadata": {},
   "outputs": [],
   "source": [
    "sra_dirs = readdir(joinpath(data_dir, \"SRA\"), join=true)"
   ]
  },
  {
   "cell_type": "code",
   "execution_count": null,
   "id": "d88828a5-404f-4258-bc16-1c7d4d6df991",
   "metadata": {},
   "outputs": [],
   "source": [
    "# sort SRA dirs by size so that smallest jobs will run first"
   ]
  },
  {
   "cell_type": "code",
   "execution_count": null,
   "id": "5bbd0f88-3398-47bb-b025-bfccf2e4870d",
   "metadata": {},
   "outputs": [],
   "source": [
    "sra_filesizes = []\n",
    "for sra_dir in sra_dirs\n",
    "    trim_galore_dir_contents = readdir(joinpath(sra_dir, \"trim_galore\"), join=true)\n",
    "    forward = first(filter(f -> occursin(r\"_1_val_1\\.fq\\.gz$\", f), trim_galore_dir_contents))\n",
    "    reverse = first(filter(f -> occursin(r\"_2_val_2\\.fq\\.gz$\", f), trim_galore_dir_contents))\n",
    "    push!(sra_filesizes, sra_dir => filesize(forward) + filesize(reverse))\n",
    "end\n",
    "size_sorted_sra_directories = first.(sort(sra_filesizes, by=x->x[2]))"
   ]
  },
  {
   "cell_type": "code",
   "execution_count": null,
   "id": "7011dd04-a8c1-4f2b-91e6-fc673a0e4091",
   "metadata": {},
   "outputs": [],
   "source": [
    "# only the ones that have read mappings complete\n",
    "sam_extension_regex = r\"\\.nt\\.fna\\.gz\\.xsr\\.I51G\\.mmi\\.minimap2\\.sam\\.gz$\"\n",
    "sra_directories_subset = [d for d in size_sorted_sra_directories if !isempty(filter(x -> occursin(sam_extension_regex, x), readdir(joinpath(d, \"trim_galore\"))))]"
   ]
  },
  {
   "cell_type": "code",
   "execution_count": null,
   "id": "bb7f6c83-c5bd-499b-9eae-78d36b2ae338",
   "metadata": {},
   "outputs": [],
   "source": [
    "# visualize these in graphs\n",
    "# for friday - compare to assembly outputs"
   ]
  },
  {
   "cell_type": "code",
   "execution_count": null,
   "id": "d9dd3a12-1e31-42d1-830b-538231cefd32",
   "metadata": {},
   "outputs": [],
   "source": [
    "# blastn has the original calls"
   ]
  },
  {
   "cell_type": "code",
   "execution_count": null,
   "id": "2f79f8e7-6485-4915-a4e2-ba62baec5cd7",
   "metadata": {},
   "outputs": [],
   "source": [
    "xams = [first(filter(x -> occursin(sam_extension_regex, x), readdir(joinpath(d, \"trim_galore\"), join=true))) for d in sra_directories_subset]"
   ]
  },
  {
   "cell_type": "code",
   "execution_count": null,
   "id": "1579bdd1-0f9f-4732-8f6d-f2819f4c0711",
   "metadata": {},
   "outputs": [],
   "source": [
    "@assert all(isfile.(xams))"
   ]
  },
  {
   "cell_type": "code",
   "execution_count": null,
   "id": "0a6ae5bd-e039-433b-8abd-9457dad586eb",
   "metadata": {},
   "outputs": [],
   "source": [
    "# map to blast NT\n",
    "blast_db = \"nt\"\n",
    "blast_dbs_dir = joinpath([homedir(), \"workspace\", \"blastdb\"])\n",
    "# path_to_db = joinpath(homedir(), \"workspace\", \"blastdb\", blast_db)\n",
    "blast_db_path = joinpath(blast_dbs_dir, blast_db)"
   ]
  },
  {
   "cell_type": "code",
   "execution_count": null,
   "id": "2a8f0b84-921e-471d-ad47-a4766050dac9",
   "metadata": {},
   "outputs": [],
   "source": [
    "# write blast db taxonomy table to disk"
   ]
  },
  {
   "cell_type": "code",
   "execution_count": null,
   "id": "c1aef156-b01f-45a8-8e8e-39b822fc1530",
   "metadata": {
    "tags": []
   },
   "outputs": [],
   "source": [
    "@time blast_db_taxonomy_table = Mycelia.load_blast_db_taxonomy_table(Mycelia.export_blast_db_taxonomy_table(path_to_db = blast_db_path))"
   ]
  },
  {
   "cell_type": "code",
   "execution_count": null,
   "id": "57895e19-8dff-45f9-b908-930ac570e39f",
   "metadata": {},
   "outputs": [],
   "source": [
    "# do a disk-based join to get an updated record table with taxids\n",
    "# write that to disk"
   ]
  },
  {
   "cell_type": "code",
   "execution_count": null,
   "id": "ab12ead3-88aa-497c-9022-ac3fc81658f6",
   "metadata": {},
   "outputs": [],
   "source": [
    "# Extract the taxid column from that data and get the unique set\n",
    "# feed the unique set of taxa ids into getting a summarized lineage table from taxonkit\n",
    "# write that to disk\n",
    "\n",
    "# do a disk-based join of the record table (now with taxids) and the taxonkit taxonomy table to get taxa level table\n",
    "# get a disk-based count of taxa by extracting that column by name and counting the unique values\n",
    "# read that into a dictionary and continue the function as normal"
   ]
  },
  {
   "cell_type": "code",
   "execution_count": null,
   "id": "a551b86b-d11d-476e-9da8-fbbe98cc685c",
   "metadata": {
    "tags": []
   },
   "outputs": [],
   "source": [
    "taxa_level = \"superkingdom\"\n",
    "# taxa_level = \"family\"\n",
    "# taxa_level = \"genus\"\n",
    "# taxa_level = \"species\"\n",
    "file_to_taxa_relative_abundances = OrderedCollections.OrderedDict{String, Dict{Union{Missing, String}, Float64}}()\n",
    "ProgressMeter.@showprogress for xam in xams\n",
    "    # @time record_table = Mycelia.parse_xam_to_primary_mapping_table(xam)\n",
    "    # # @time record_table = Mycelia.parse_xam_to_mapped_records_table(xam, primary_only=true)\n",
    "    # # @time record_table = Mycelia.parse_xam_to_summary_table(xam)\n",
    "    # # record_table = record_table[record_table[!, \"isprimary\"], :]\n",
    "    # record_table = DataFrames.innerjoin(record_table, blast_db_taxonomy_table, on=\"reference\" => \"sequence_id\")\n",
    "    # unique_taxids = sort(unique(record_table[!, \"taxid\"]))\n",
    "    # record_table = DataFrames.innerjoin(record_table, Mycelia.taxids2taxonkit_summarized_lineage_table(unique_taxids), on=\"taxid\")\n",
    "    \n",
    "    # use samtools to write a headerless sam filtered to only primary mappings\n",
    "    # pipe that to extract the columns of interest\n",
    "    # write that to table 1\n",
    "    query_ref_table_file = replace(xam, r\"\\.gz$\" => \".query-ref.tsv.gz\")\n",
    "    if !isfile(query_ref_table_file) || (filesize(query_ref_table_file) == 0)\n",
    "        p = pipeline(\n",
    "                `gzip -dc $(xam)`,\n",
    "                `$(Mycelia.CONDA_RUNNER) run --live-stream -n samtools samtools view --no-header --exclude-flags 2308 -`,\n",
    "                `awk '{OFS=\"\\t\"}{print $1, $3}'`,\n",
    "                `gzip`)\n",
    "        # very long\n",
    "        @time run(pipeline(p, query_ref_table_file))\n",
    "    end\n",
    "    # kinda long\n",
    "    @time query_ref_table = CSV.read(open(pipeline(`gzip -dc $(query_ref_table_file)`)), DataFrames.DataFrame, header = [\"query\", \"reference\"], delim='\\t')\n",
    "    # long\n",
    "    @time query_ref_table = DataFrames.innerjoin(query_ref_table, blast_db_taxonomy_table, on=\"reference\" => \"sequence_id\")\n",
    "    @time unique_taxids = sort(unique(query_ref_table[!, \"taxid\"]))\n",
    "    # long\n",
    "    # get just the two columns of interest to save memory\n",
    "    @time taxa_summary_lineage_table = Mycelia.taxids2taxonkit_summarized_lineage_table(unique_taxids)[!, [\"taxid\", taxa_level]]\n",
    "    @time query_ref_table = DataFrames.innerjoin(query_ref_table, taxa_summary_lineage_table, on=\"taxid\")\n",
    "    @time file_to_taxa_relative_abundances[xam] = Mycelia.normalize_countmap(StatsBase.countmap(query_ref_table[!, taxa_level]))\n",
    "    display(InteractiveUtils.varinfo(sortby=:size, minsize=Int(1e9)))\n",
    "end\n",
    "file_to_taxa_relative_abundances"
   ]
  },
  {
   "cell_type": "code",
   "execution_count": null,
   "id": "cb8cca43-a385-4ab2-b7d2-81574ad6fb9e",
   "metadata": {},
   "outputs": [],
   "source": [
    "unique_sorted_taxa = unique(sort(collect(reduce(union, keys.(values(file_to_taxa_relative_abundances))))))\n",
    "\n",
    "n_samples = length(file_to_taxa_relative_abundances)\n",
    "\n",
    "abundance_matrix = zeros(length(unique_sorted_taxa), n_samples)\n",
    "taxa_names_to_indices = Dict(t => i for (i, t) in enumerate(unique_sorted_taxa))\n",
    "for (column, (file, abundances)) in enumerate(file_to_taxa_relative_abundances)\n",
    "    # @show column, sample\n",
    "    for (taxa, relative_abundance) in abundances\n",
    "        row = taxa_names_to_indices[taxa]\n",
    "        abundance_matrix[row, column] = relative_abundance\n",
    "    end\n",
    "end\n",
    "abundance_matrix"
   ]
  },
  {
   "cell_type": "code",
   "execution_count": null,
   "id": "7a5c7653-165c-4a41-8f68-0e79cb2e1989",
   "metadata": {
    "tags": []
   },
   "outputs": [],
   "source": [
    "\n",
    "\n",
    "file_to_identifier = Dict(row[\"xam\"] => row[\"BioSampleName\"] for row in DataFrames.eachrow(sample_to_barcode_table))\n",
    "file_labels = [file_to_identifier[k] for k in keys(file_to_taxa_relative_abundances)]\n",
    "abundance_matrix = abundance_matrix[:, sortperm(file_labels)]\n",
    "file_labels = sort(file_labels)\n",
    "\n",
    "# drop human and missing\n",
    "filtered_indices = findall(x -> !(x in Set([\"Homo\", missing])), vec(unique_sorted_taxa))\n",
    "unique_sorted_taxa = unique_sorted_taxa[filtered_indices]\n",
    "abundance_matrix = abundance_matrix[filtered_indices, :]\n",
    "\n",
    "# Calculate the sum of each col\n",
    "col_sums = sum(abundance_matrix, dims=1)\n",
    "# Normalize each element by dividing by the col sum\n",
    "abundance_matrix = abundance_matrix ./ row_sums"
   ]
  },
  {
   "cell_type": "code",
   "execution_count": null,
   "id": "5f020dc8-023a-4d2a-a0f9-50e413516832",
   "metadata": {
    "tags": []
   },
   "outputs": [],
   "source": [
    "# # vaginal_indices\n",
    "# indices = [1, 2, 5, 6]\n",
    "# label = \"vaginal\"\n",
    "# top_N = 10\n",
    "\n",
    "# perianal_indices\n",
    "indices = [3, 4, 7, 8]\n",
    "label = \"perianal\"\n",
    "top_N = 25\n",
    "\n",
    "file_labels_subset = file_labels[indices]\n",
    "abundance_matrix_subset = abundance_matrix[:, indices]\n",
    "\n",
    "sort_perm = sortperm(vec(Statistics.sum(abundance_matrix_subset, dims=2)))\n",
    "unique_sorted_taxa_subset = unique_sorted_taxa[sort_perm]\n",
    "abundance_matrix_subset = abundance_matrix_subset[sort_perm, :]\n",
    "non_zero_indices = findall(vec(Statistics.sum(abundance_matrix_subset, dims=2)) .> 0.0)\n",
    "unique_sorted_taxa_subset = unique_sorted_taxa_subset[non_zero_indices]\n",
    "abundance_matrix_subset = abundance_matrix_subset[non_zero_indices, :]\n",
    "colorscheme = Colors.distinguishable_colors(length(unique_sorted_taxa_subset), [Colors.RGB(1,1,1), Colors.RGB(0,0,0)], dropseed=true)\n",
    "\n",
    "\n",
    "StatsPlots.groupedbar(\n",
    "    abundance_matrix_subset'[:, end-(top_N-1):end],\n",
    "    bar_position = :stack,\n",
    "    bar_width=0.7, \n",
    "    label = hcat(unique_sorted_taxa_subset...)[:, end-(top_N-1):end], \n",
    "    xticks = (1:length(file_labels_subset), sort(file_labels_subset)), \n",
    "    xrotation = 45,\n",
    "    ylabel = \"proportion of reads\",\n",
    "    xlabel = \"$(label) sample\",\n",
    "    # title = \"$(taxa_level) relative abundance (top $(top_N-2))\",\n",
    "    title = \"$(taxa_level) relative abundance (top $(top_N) classified and non-human)\",\n",
    "    legend = :outertopright,\n",
    "    # legend = false,\n",
    "    size = (1000, 500),\n",
    "    margins = 15StatsPlots.Plots.PlotMeasures.mm,\n",
    "    seriescolor = hcat(reverse(colorscheme)...)[:, end-(top_N-1):end]\n",
    ")"
   ]
  }
 ],
 "metadata": {
  "kernelspec": {
   "display_name": "Julia 1.10.5 1.10.5",
   "language": "julia",
   "name": "julia-1.10.5-1.10"
  },
  "language_info": {
   "file_extension": ".jl",
   "mimetype": "application/julia",
   "name": "julia",
   "version": "1.10.5"
  }
 },
 "nbformat": 4,
 "nbformat_minor": 5
}
