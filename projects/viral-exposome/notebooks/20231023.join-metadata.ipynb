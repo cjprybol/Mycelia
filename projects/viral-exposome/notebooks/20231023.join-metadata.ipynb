{
 "cells": [
  {
   "cell_type": "code",
   "execution_count": null,
   "id": "d721fa48-b788-4576-9cab-b93b33daf55e",
   "metadata": {
    "tags": []
   },
   "outputs": [],
   "source": [
    "# default = 100\n",
    "# ENV[\"DATAFRAMES_COLUMNS\"] = 100\n",
    "# default = 25\n",
    "ENV[\"DATAFRAMES_ROWS\"] = 3\n",
    "\n",
    "import Pkg\n",
    "\n",
    "pkgs = [\n",
    "\"ProgressMeter\",\n",
    "\"uCSV\",\n",
    "\"DataFrames\",\n",
    "\"JSON\"\n",
    "]\n",
    "Pkg.add(pkgs)\n",
    "for pkg in pkgs\n",
    "    eval(Meta.parse(\"import $pkg\"))\n",
    "end"
   ]
  },
  {
   "cell_type": "code",
   "execution_count": null,
   "id": "8e511f2e-b156-4e51-84ed-59a0b88127b1",
   "metadata": {
    "tags": []
   },
   "outputs": [],
   "source": [
    "base_directory = dirname(pwd())"
   ]
  },
  {
   "cell_type": "code",
   "execution_count": null,
   "id": "81526340-c74c-42c7-b98c-cdf517acfa8e",
   "metadata": {
    "tags": []
   },
   "outputs": [],
   "source": [
    "metadata_directory = joinpath(base_directory, \"metadata\", \"exposome\")"
   ]
  },
  {
   "cell_type": "code",
   "execution_count": null,
   "id": "e1959a96-c485-44f5-a017-a5bd4ada6f78",
   "metadata": {
    "tags": []
   },
   "outputs": [],
   "source": [
    "biosample_xml_file = joinpath(metadata_directory, \"biosample_result.xml\")"
   ]
  },
  {
   "cell_type": "code",
   "execution_count": null,
   "id": "395395f4-41ec-4e25-8f7a-3f2858a8088a",
   "metadata": {
    "tags": []
   },
   "outputs": [],
   "source": [
    "biosample_json = JSON.parse(open(`yq --input-format \"xml\" --output-format \"json\" $(biosample_xml_file)`))\n",
    "# top two levels only have the single entry, 3rd level is all of the samples\n",
    "biosample_json = biosample_json[\"BioSampleSet\"][\"BioSample\"]\n",
    "biosample_table = DataFrames.DataFrame(biosample_json)\n",
    "# not helpful\n",
    "biosample_table = biosample_table[!, DataFrames.Not([\"+id\", \"Status\", \"Models\", \"Description\", \"Package\", \"Owner\"])]\n",
    "\n",
    "id_values = map(x -> x[\"Id\"], biosample_table[!, \"Ids\"])\n",
    "# first dictionary is SAMN biosample id, which is already present\n",
    "biosample_table[!, \"Sample name\"] = map(x -> x[2][\"+content\"], id_values)\n",
    "biosample_table[!, \"SRA identifier\"] = map(x -> x[3][\"+content\"], id_values)\n",
    "biosample_table = biosample_table[!, DataFrames.Not(\"Ids\")]\n",
    "\n",
    "biosample_table[!, \"Bioproject identifier\"] = map(x -> x[\"Link\"][\"+label\"], biosample_table[!, \"Links\"])\n",
    "biosample_table = biosample_table[!, DataFrames.Not(\"Links\")]\n",
    "\n",
    "attributes_table = DataFrames.DataFrame()\n",
    "for attributes in biosample_table[!, \"Attributes\"]\n",
    "    # only has one entry at this level\n",
    "    attributes = attributes[\"Attribute\"]\n",
    "    # extract key information from each sub-attribute\n",
    "    attributes = Dict(attribute[\"+attribute_name\"] => attribute[\"+content\"] for attribute in attributes)\n",
    "    push!(attributes_table, attributes, cols=:union)\n",
    "end\n",
    "attributes_table\n",
    "\n",
    "biosample_table = hcat(biosample_table, attributes_table)\n",
    "biosample_table = biosample_table[!, DataFrames.Not(\"Attributes\")]"
   ]
  },
  {
   "cell_type": "code",
   "execution_count": null,
   "id": "67685acd-b2a1-4697-8865-9dae3187458c",
   "metadata": {
    "tags": []
   },
   "outputs": [],
   "source": [
    "# write out this table\n",
    "biosample_parsed_csv_file = biosample_xml_file * \".parsed.csv\"\n",
    "uCSV.write(biosample_parsed_csv_file, biosample_table)"
   ]
  },
  {
   "cell_type": "code",
   "execution_count": null,
   "id": "f5fe7b9b-5e7c-4362-b8b9-85459df1cb9c",
   "metadata": {
    "tags": []
   },
   "outputs": [],
   "source": [
    "# join all 3 key metadata tables\n",
    "sra_result_table = DataFrames.DataFrame(uCSV.read(joinpath(metadata_directory, \"sra_result.csv\"), header=1, quotes='\"')...)\n",
    "sra_run_info_table = DataFrames.DataFrame(uCSV.read(joinpath(metadata_directory, \"SraRunInfo.csv\"), header=1)...)\n",
    "joint_metadata_table = DataFrames.innerjoin(\n",
    "    sra_result_table,\n",
    "    sra_run_info_table,\n",
    "    on = [\n",
    "        \"Experiment Accession\" => \"Experiment\",\n",
    "        \"Organism Name\" => \"ScientificName\",\n",
    "        \"Instrument\" => \"Model\",\n",
    "        \"Study Accession\" => \"SRAStudy\",\n",
    "        \"Sample Accession\" => \"Sample\",\n",
    "        \"Library Name\" => \"SampleName\",\n",
    "        \"Library Strategy\" => \"LibraryStrategy\",\n",
    "        \"Library Source\" => \"LibrarySource\",\n",
    "        \"Library Selection\" => \"LibrarySelection\"\n",
    "        ]\n",
    ")\n",
    "\n",
    "joint_metadata_table = DataFrames.innerjoin(\n",
    "    joint_metadata_table,\n",
    "    biosample_table,\n",
    "    on = [\n",
    "        \"Library Name\" => \"Sample name\",\n",
    "        \"BioSample\" => \"+accession\",\n",
    "        \"Sample Accession\" => \"SRA identifier\",\n",
    "        \"BioProject\" => \"Bioproject identifier\"\n",
    "    ]\n",
    ")\n",
    "\n",
    "joint_metadata_file = joinpath(metadata_directory, \"joint_sample_metadata.tsv\")\n",
    "uCSV.write(joint_metadata_file, joint_metadata_table, delim='\\t')"
   ]
  }
 ],
 "metadata": {
  "kernelspec": {
   "display_name": "Julia 1.6.7",
   "language": "julia",
   "name": "julia-1.6"
  },
  "language_info": {
   "file_extension": ".jl",
   "mimetype": "application/julia",
   "name": "julia",
   "version": "1.6.7"
  }
 },
 "nbformat": 4,
 "nbformat_minor": 5
}
