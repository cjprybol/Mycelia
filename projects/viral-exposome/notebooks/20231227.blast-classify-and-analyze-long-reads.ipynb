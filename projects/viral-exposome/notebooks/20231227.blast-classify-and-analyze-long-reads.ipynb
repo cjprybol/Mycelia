{
 "cells": [
  {
   "cell_type": "code",
   "execution_count": null,
   "id": "b1ec3ac0-e197-418f-86be-f2e8a5fadb82",
   "metadata": {},
   "outputs": [],
   "source": [
    "# run(`conda create --channel conda-forge --channel bioconda --channel defaults --strict-channel-priority --name blast blast`)"
   ]
  },
  {
   "cell_type": "code",
   "execution_count": null,
   "id": "c17e93fe-d82c-45fa-8fee-1e86d080538c",
   "metadata": {},
   "outputs": [],
   "source": [
    "import Pkg\n",
    "pkgs = [\n",
    "    \"Revise\",\n",
    "    \"DataFrames\",\n",
    "    \"uCSV\",\n",
    "    \"StatsPlots\"\n",
    "    \"ProgressMeter\",\n",
    "    \"StatsBase\",\n",
    "    \"FASTX\"\n",
    "]\n",
    "# Pkg.add(pkgs)\n",
    "for pkg in pkgs\n",
    "    eval(Meta.parse(\"import $pkg\"))\n",
    "end\n",
    "import Mycelia"
   ]
  },
  {
   "cell_type": "code",
   "execution_count": null,
   "id": "909f13b4-7e9d-429b-8b83-33c99af653c9",
   "metadata": {},
   "outputs": [],
   "source": [
    "data_dir = joinpath(dirname(pwd()), \"data\")"
   ]
  },
  {
   "cell_type": "code",
   "execution_count": null,
   "id": "88edbeff-947b-4254-a295-54b4f9a8cb7a",
   "metadata": {},
   "outputs": [],
   "source": [
    "# total_memory = 64\n",
    "# threads = max(1, Int(total_memory//8))\n",
    "\n",
    "total_memory = 128\n",
    "threads = max(1, Int(total_memory//16))\n",
    "\n",
    "memory = Int(total_memory//threads)"
   ]
  },
  {
   "cell_type": "code",
   "execution_count": null,
   "id": "0609f79c-54bf-48ff-8603-4abebe5c7220",
   "metadata": {},
   "outputs": [],
   "source": [
    "blast_task = \"megablast\""
   ]
  },
  {
   "cell_type": "code",
   "execution_count": null,
   "id": "6bf44df1-e7e1-46f8-899a-883bc26e3673",
   "metadata": {},
   "outputs": [],
   "source": [
    "db = \"nt\""
   ]
  },
  {
   "cell_type": "code",
   "execution_count": null,
   "id": "ad5a7e45-3c81-44f9-888b-293815d7146e",
   "metadata": {},
   "outputs": [],
   "source": [
    "blastdbs_dir = mkpath(joinpath(homedir(), \"workspace\", \"blastdbs\"))"
   ]
  },
  {
   "cell_type": "code",
   "execution_count": null,
   "id": "ed062fb7-9617-4d6a-b28b-44da27eb21fd",
   "metadata": {},
   "outputs": [],
   "source": [
    "blast_db = joinpath(blastdbs_dir, db)"
   ]
  },
  {
   "cell_type": "code",
   "execution_count": null,
   "id": "c7dfb436-83fa-43f1-87b5-4dc075301dc0",
   "metadata": {},
   "outputs": [],
   "source": [
    "Mycelia.download_blast_db(db=\"nt\", outdir=blastdbs_dir, source=\"ncbi\", conda_env=\"blast\")"
   ]
  },
  {
   "cell_type": "code",
   "execution_count": null,
   "id": "e374fa44-a749-4c12-884d-cd1e657bd72b",
   "metadata": {},
   "outputs": [],
   "source": [
    "# load in metadata\n",
    "metadata_dir = joinpath(dirname(pwd()), \"metadata\")\n",
    "\n",
    "exposome_environmental_data = DataFrames.DataFrame(uCSV.read(\n",
    "    joinpath(metadata_dir, \"metadata_exposome.rds.tsv\"),\n",
    "    delim='\\t',\n",
    "    header=1,\n",
    "    typedetectrows=300\n",
    "))\n",
    "\n",
    "joint_sample_metadata = DataFrames.DataFrame(uCSV.read(\n",
    "    joinpath(metadata_dir, \"exposome/joint_sample_metadata.tsv\"),\n",
    "    delim='\\t',\n",
    "    header=1,\n",
    "    typedetectrows=300\n",
    "))\n",
    "\n",
    "@assert joint_sample_metadata[!, \"Library Name\"] == joint_sample_metadata[!, \"LibraryName\"]\n",
    "\n",
    "joint_metadata = DataFrames.innerjoin(\n",
    "    joint_sample_metadata,\n",
    "    exposome_environmental_data,\n",
    "    on=\"Library Name\" => \"samplenames\")\n",
    "\n",
    "run_ids = sort(joint_metadata[!, \"Run\"])\n",
    "\n",
    "sample_paths = joinpath.(data_dir, \"SRA\", run_ids)"
   ]
  },
  {
   "cell_type": "code",
   "execution_count": null,
   "id": "8662108c-dea7-46d9-83a3-36e1e2c1cc17",
   "metadata": {},
   "outputs": [],
   "source": [
    "# sample_paths = filter(x -> !occursin(\".ipynb_checkpoints\", x), readdir(joinpath(data_dir, \"SRA\"), join=true))\n",
    "# sample_paths = filter(x -> isfile(joinpath.(x, \"megahit\", \"final.contigs.fastg.gfa.fna\")), sample_paths)"
   ]
  },
  {
   "cell_type": "code",
   "execution_count": null,
   "id": "d29d62f5-c216-4424-8d17-b9523030b5ba",
   "metadata": {},
   "outputs": [],
   "source": [
    "# find the small outliers on output size and run again"
   ]
  },
  {
   "cell_type": "code",
   "execution_count": null,
   "id": "f249de4f-18be-4338-89ff-eb1ff67ac795",
   "metadata": {},
   "outputs": [],
   "source": [
    "file_sizes = []\n",
    "for sample_path in sample_paths[1:end]\n",
    "    sample = basename(sample_path)\n",
    "    blastn_directory = mkpath(joinpath(sample_path, \"blastn\"))\n",
    "    assembled_fasta = joinpath(sample_path, \"megahit\", \"final.contigs.fastg.gfa.fna\")\n",
    "    target_outfile = joinpath(blastn_directory, basename(assembled_fasta) * \".blastn.$(db).$(blast_task).txt\")\n",
    "    # --mem=$(memory)G\n",
    "    if isfile(target_outfile)\n",
    "            # @show sample, filesize(target_outfile)\n",
    "        push!(file_sizes, filesize(target_outfile))\n",
    "    else\n",
    "        @show sample\n",
    "    end\n",
    "\n",
    "    # cmd = \"julia $(homedir())/workspace/Mycelia/scripts/run-blastn.jl --fasta $(assembled_fasta) --blast_db $(blast_db) --task $(blast_task) --out_directory $(blastn_directory) --threads $(threads)\"\n",
    "    # submission = \n",
    "    # `sbatch \n",
    "    # --mail-user=cameron.prybol@gmail.com\n",
    "    # --mail-type=ALL\n",
    "    # --error=%x-%j.err\n",
    "    # --output=%x-%j.out\n",
    "    # --partition=batch\n",
    "    # --account=mpsnyder\n",
    "    # --nodes=1\n",
    "    # --ntasks=1\n",
    "    # --time=1-00:00:00    \n",
    "    # --cpus-per-task=$(threads)\n",
    "    # --mem-per-cpu=$(memory)G\n",
    "    # --job-name=blastn\n",
    "    # --wrap $cmd\n",
    "    # `\n",
    "    # run(submission)\n",
    "    # end\n",
    "end\n",
    "# count(file_sizes .== 0)"
   ]
  },
  {
   "cell_type": "code",
   "execution_count": null,
   "id": "cc27659c-781b-4df8-97bd-eb78fd0d29b2",
   "metadata": {},
   "outputs": [],
   "source": [
    "StatsPlots.histogram(file_sizes, nbins=80)"
   ]
  },
  {
   "cell_type": "code",
   "execution_count": null,
   "id": "d4daaa2f-df34-4b59-96f6-5a34724d49e8",
   "metadata": {},
   "outputs": [],
   "source": [
    "# findlast(sample_path -> !isempty(readdir(joinpath(sample_path, \"blastn\"))), sample_paths)"
   ]
  },
  {
   "cell_type": "code",
   "execution_count": null,
   "id": "0ab35248-9309-4f62-839f-01b679097a0c",
   "metadata": {},
   "outputs": [],
   "source": [
    "# sample_paths = filter(x -> !occursin(\".ipynb_checkpoints\", x), readdir(joinpath(data_dir, \"SRA\"), join=true))\n",
    "# sample_paths = filter(x -> isfile(joinpath(x, \"megahit\", \"final.contigs.fastg.gfa.fna\")), sample_paths)\n",
    "\n",
    "# for sample_path in sample_paths\n",
    "#     sample = basename(sample_path)\n",
    "#     blastn_directory = joinpath(sample_path, \"blastn\")\n",
    "#     @show readdir(blastn_directory)\n",
    "#     target_outfile = joinpath(sample_path, \"blastn\", \"final.contigs.fastg.gfa.fna.blastn.nt.$(blast_task).txt\")\n",
    "#     # || filesize(target_outfile) == 0\n",
    "#     if !isfile(target_outfile) \n",
    "#         assembled_fasta = joinpath(sample_path, \"megahit\", \"final.contigs.fastg.gfa.fna\")\n",
    "#         cmd = \"julia $(homedir())/workspace/Mycelia/scripts/run-blastn.jl --fasta $(assembled_fasta) --blast_db nt --task $(blast_task) --out_directory $(blastn_directory) --threads $(threads)\"\n",
    "#         submission = \n",
    "#         `sbatch \n",
    "#         --mail-user=cameron.prybol@gmail.com\n",
    "#         --mail-type=ALL\n",
    "#         --error=%x-%j.err\n",
    "#         --output=%x-%j.out\n",
    "#         --partition=batch\n",
    "#         --account=mpsnyder\n",
    "#         --nodes=1\n",
    "#         --ntasks=1\n",
    "#         --time=1-00:00:00    \n",
    "#         --cpus-per-task=$(threads)\n",
    "#         --mem=$(memory)G\n",
    "#         --job-name=blastn\n",
    "#         --wrap $cmd\n",
    "#         `\n",
    "#         run(submission)\n",
    "#         # end\n",
    "#     end\n",
    "# end"
   ]
  },
  {
   "cell_type": "code",
   "execution_count": null,
   "id": "cba0a726-79e8-4a90-a512-18519ad8bd52",
   "metadata": {
    "tags": []
   },
   "outputs": [],
   "source": []
  },
  {
   "cell_type": "code",
   "execution_count": null,
   "id": "e51189aa-7e97-4851-916c-036eee84d4b9",
   "metadata": {
    "jupyter": {
     "source_hidden": true
    },
    "tags": []
   },
   "outputs": [],
   "source": [
    "# function parse_blast_report(blast_report)\n",
    "#     # example header line \n",
    "#     # \"# Fields: query id, subject id, subject acc., subject acc.ver, subject title, query length, subject length, q. start, q. end, s. start, s. end, evalue, bit score, score, alignment length, % identity, identical, mismatches, subject tax id\"\n",
    "#     header_lines = collect(Iterators.filter(x -> occursin(r\"# Fields:\", x), eachline(blast_report)))\n",
    "#     if isempty(header_lines)\n",
    "#         @info \"no hits found, returning empty table\"\n",
    "#         return DataFrames.DataFrame()\n",
    "#     end\n",
    "#     header_line = first(header_lines)\n",
    "#     header = split(last(split(header_line, \": \")), \", \")\n",
    "#     blast_col_types = Dict(\n",
    "#         \"query id\" => String,\n",
    "#         \"query title\" => String,\n",
    "#         \"subject id\" => String,\n",
    "#         \"subject gi\" => String,\n",
    "#         \"subject acc.\" => String,\n",
    "#         \"subject acc.ver\" => String,\n",
    "#         \"subject title\" => String,\n",
    "#         \"query length\" => Int,\n",
    "#         \"subject length\" => Int,\n",
    "#         \"q. start\" => Int,\n",
    "#         \"q. end\" => Int,\n",
    "#         \"s. start\" => Int,\n",
    "#         \"s. end\" => Int,\n",
    "#         \"evalue\" => Float64,\n",
    "#         \"bit score\" => Float64,\n",
    "#         \"score\" => Float64,\n",
    "#         \"alignment length\" => Int,\n",
    "#         \"% identity\" => Float64,\n",
    "#         \"identical\" => Int,\n",
    "#         \"mismatches\" => Int,\n",
    "#         \"subject tax id\" => Int,\n",
    "#         \"subject sci name\" => String,\n",
    "#         \"subject com names\" => String,\n",
    "#         \"subject blast name\" => String,\n",
    "#         \"subject super kingdom\" => String,\n",
    "#         \"subject tax ids\" => String,\n",
    "#         \"subject sci names\" => String,\n",
    "#         \"subject com names\" => String,\n",
    "#         \"subject blast names\" => String,\n",
    "#         \"subject super kingdoms\" => String,\n",
    "#         \"subject title\" => String,\n",
    "#         \"subject titles\" => String\n",
    "#     )\n",
    "#     data, _ = uCSV.read(\n",
    "#         blast_report,\n",
    "#         delim='\\t',\n",
    "#         comment='#',\n",
    "#         # skipmalformed=true,\n",
    "#         allowmissing=true,\n",
    "#         encodings=Dict(\"N/A\" => missing),\n",
    "#         types=[blast_col_types[h] for h in header])\n",
    "#     return DataFrames.DataFrame(data, header, makeunique=true)\n",
    "# end"
   ]
  },
  {
   "cell_type": "code",
   "execution_count": null,
   "id": "79a4e5e0-d8c7-4235-846c-b9fb2218715f",
   "metadata": {},
   "outputs": [],
   "source": [
    "viral_tax_ids = Set(parse.(Int, filter(!isempty, readlines(`conda run -n taxonkit taxonkit list --ids 10239 --indent \"\"`))))"
   ]
  },
  {
   "cell_type": "code",
   "execution_count": null,
   "id": "54e509fa-43ad-4992-a140-0034c57b3242",
   "metadata": {},
   "outputs": [],
   "source": [
    "basedir = \"/labs/mpsnyder/share/exposome_data\""
   ]
  },
  {
   "cell_type": "code",
   "execution_count": null,
   "id": "eeacbc81-5ac6-4c4b-aef2-6acb5e3bb680",
   "metadata": {},
   "outputs": [],
   "source": [
    "megablast_results = String[]\n",
    "blastn_results = String[]\n",
    "for batch_directory in [\n",
    "    joinpath(basedir, \"extracted1\"),\n",
    "    joinpath(basedir, \"Expo_pliot1_extracted_hifi_fastqs\")\n",
    "]\n",
    "    for x in filter(x -> occursin(r\"\\.nt\\.megablast\\.txt$\", x), readdir(batch_directory, join=true))\n",
    "        push!(megablast_results, x)\n",
    "    end\n",
    "    for x in filter(x -> occursin(r\"\\.nt\\.blastn\\.txt$\", x), readdir(batch_directory, join=true))\n",
    "        push!(blastn_results, x)\n",
    "    end\n",
    "end"
   ]
  },
  {
   "cell_type": "code",
   "execution_count": null,
   "id": "0969896d-5dcc-4342-a70a-7bd068060fb3",
   "metadata": {},
   "outputs": [],
   "source": [
    "joint_blast_results_table = DataFrames.DataFrame()"
   ]
  },
  {
   "cell_type": "code",
   "execution_count": null,
   "id": "3425b034-b2d0-4fd5-b24c-49d553bb0caa",
   "metadata": {},
   "outputs": [],
   "source": [
    "    blast_col_types = Dict(\n",
    "        \"query id\" => String,\n",
    "        \"query title\" => String,\n",
    "        \"subject id\" => String,\n",
    "        \"subject gi\" => String,\n",
    "        \"subject acc.\" => String,\n",
    "        \"subject acc.ver\" => String,\n",
    "        \"subject title\" => String,\n",
    "        \"query length\" => Int,\n",
    "        \"subject length\" => Int,\n",
    "        \"q. start\" => Int,\n",
    "        \"q. end\" => Int,\n",
    "        \"s. start\" => Int,\n",
    "        \"s. end\" => Int,\n",
    "        \"evalue\" => Float64,\n",
    "        \"bit score\" => Float64,\n",
    "        \"score\" => Float64,\n",
    "        \"alignment length\" => Int,\n",
    "        \"% identity\" => Float64,\n",
    "        \"identical\" => Int,\n",
    "        \"mismatches\" => Int,\n",
    "        \"subject tax id\" => Int,\n",
    "        \"subject sci name\" => String,\n",
    "        \"subject com names\" => String,\n",
    "        \"subject blast name\" => String,\n",
    "        \"subject super kingdom\" => String,\n",
    "        \"subject tax ids\" => String,\n",
    "        \"subject sci names\" => String,\n",
    "        \"subject com names\" => String,\n",
    "        \"subject blast names\" => String,\n",
    "        \"subject super kingdoms\" => String,\n",
    "        \"subject title\" => String,\n",
    "        \"subject titles\" => String\n",
    "    )"
   ]
  },
  {
   "cell_type": "code",
   "execution_count": null,
   "id": "d717267f-f56f-4d6c-a041-d44793f870d7",
   "metadata": {},
   "outputs": [],
   "source": [
    "ProgressMeter.@showprogress for blast_report in megablast_results\n",
    "    header_line = first(Iterators.filter(x -> occursin(r\"# Fields:\", x), eachline(blast_report)))\n",
    "    header = split(last(split(header_line, \": \")), \", \")\n",
    "    viral_lines = String[]\n",
    "    for line in eachline(blast_report)\n",
    "        if !occursin(\"#\", line)\n",
    "            subject_tax_ids = map(x -> parse(Int, x), split(last(split(line, '\\t')), ';'))\n",
    "            if any(x -> x in viral_tax_ids, subject_tax_ids)\n",
    "                push!(viral_lines, line)\n",
    "            end\n",
    "        end\n",
    "    end\n",
    "    data, _ = uCSV.read(IOBuffer(join(viral_lines, '\\n')), delim='\\t')\n",
    "    results_table = DataFrames.DataFrame(data, header)\n",
    "    results_table[!, \"method\"] .= \"megablast\"\n",
    "    results_table[!, \"sample\"] .= replace(basename(blast_report), \".bam.fasta.blastn.nt.megablast.txt\" => \"\")\n",
    "    append!(joint_blast_results_table, results_table, promote=true)\n",
    "end"
   ]
  },
  {
   "cell_type": "code",
   "execution_count": null,
   "id": "868e3eb7-a0e1-47b1-b7cb-b32d497a9579",
   "metadata": {},
   "outputs": [],
   "source": [
    "ProgressMeter.@showprogress for blast_report in blastn_results\n",
    "    try\n",
    "        header_line = first(Iterators.filter(x -> occursin(r\"# Fields:\", x), eachline(blast_report)))\n",
    "        header = split(last(split(header_line, \": \")), \", \")\n",
    "        viral_lines = String[]\n",
    "        for line in eachline(blast_report)\n",
    "            if !occursin(\"#\", line)\n",
    "                subject_tax_ids = map(x -> parse(Int, x), split(last(split(line, '\\t')), ';'))\n",
    "                if any(x -> x in viral_tax_ids, subject_tax_ids)\n",
    "                    push!(viral_lines, line)\n",
    "                end\n",
    "            end\n",
    "        end\n",
    "        data, _ = uCSV.read(IOBuffer(join(viral_lines, '\\n')), delim='\\t', types=[blast_col_types[h] for h in header])\n",
    "        results_table = DataFrames.DataFrame(data, header)\n",
    "        results_table[!, \"method\"] .= \"blastn\"\n",
    "        results_table[!, \"sample\"] .= replace(basename(blast_report), \".bam.fasta.blastn.nt.blastn.txt\" => \"\")\n",
    "        append!(joint_blast_results_table, results_table, promote=true)\n",
    "    catch\n",
    "        println(\"skipping $(blast_report)\")\n",
    "    end\n",
    "end"
   ]
  },
  {
   "cell_type": "code",
   "execution_count": null,
   "id": "04c97c8e-00aa-4ebb-a971-370c3da05f51",
   "metadata": {},
   "outputs": [],
   "source": [
    "StatsBase.describe(joint_blast_results_table[!, \"alignment length\"])"
   ]
  },
  {
   "cell_type": "code",
   "execution_count": null,
   "id": "24a5a582-0eaf-4e0b-9187-dcb7e0b8753d",
   "metadata": {},
   "outputs": [],
   "source": [
    "# StatsPlots.histogram(joint_blast_results_table[!, \"alignment length\"])"
   ]
  },
  {
   "cell_type": "code",
   "execution_count": null,
   "id": "1f9d4e64-9d1b-4871-8511-2c479187855d",
   "metadata": {},
   "outputs": [],
   "source": [
    "sort!(joint_blast_results_table, \"alignment length\", rev=true)"
   ]
  },
  {
   "cell_type": "code",
   "execution_count": null,
   "id": "cae2ec55-df62-487f-9b23-f2f8acbdf146",
   "metadata": {},
   "outputs": [],
   "source": [
    "joint_blast_results_table_filtered = joint_blast_results_table[joint_blast_results_table[!, \"alignment length\"] .> 1000, :]"
   ]
  },
  {
   "cell_type": "code",
   "execution_count": null,
   "id": "54647bf5-e7bd-4d7b-a493-e766dd1fd182",
   "metadata": {},
   "outputs": [],
   "source": [
    "sequence_identifiers_of_interest = Set(unique(joint_blast_results_table_filtered[!, \"query id\"]))"
   ]
  },
  {
   "cell_type": "code",
   "execution_count": null,
   "id": "0e1cf820-50ee-4239-9c83-149181cb82f4",
   "metadata": {},
   "outputs": [],
   "source": [
    "fasta_sequences = []\n",
    "ProgressMeter.@showprogress for fasta_file in replace.(megablast_results, \".blastn.nt.megablast.txt\" => \"\")\n",
    "    for record in FASTX.FASTA.Reader(open(fasta_file))\n",
    "        if FASTX.identifier(record) in sequence_identifiers_of_interest\n",
    "            push!(fasta_sequences, record)\n",
    "        end\n",
    "    end\n",
    "end\n",
    "fasta_sequences"
   ]
  },
  {
   "cell_type": "code",
   "execution_count": null,
   "id": "a61e4f49-877d-4a20-b196-101d12d4540e",
   "metadata": {},
   "outputs": [],
   "source": [
    "# i = 1 labrador retriever\n",
    "# i = 2 unknown\n",
    "# i = 3 bacteriophage\n",
    "# i = 4 bacteriophage\n",
    "# i = 5 dog\n",
    "# i = 6 dog\n",
    "# i = 7 dog\n",
    "# i = 8 dog\n",
    "# i = 9 dog\n",
    "# i = 10 dog\n",
    "# i = 11 e. coli or e. coli phage\n",
    "# i = 12 e. coli or e. coli phage\n",
    "# i = 13 e. coli or e. coli phage\n",
    "# i = 14  e. coli or e. coli phage\n",
    "# i = 15  e. coli or e. coli phage\n",
    "# i = 16  e. coli or e. coli phage\n",
    "record = fasta_sequences[i]\n",
    "println(record)"
   ]
  }
 ],
 "metadata": {
  "kernelspec": {
   "display_name": "Julia 1.9.3",
   "language": "julia",
   "name": "julia-1.9"
  },
  "language_info": {
   "file_extension": ".jl",
   "mimetype": "application/julia",
   "name": "julia",
   "version": "1.9.3"
  }
 },
 "nbformat": 4,
 "nbformat_minor": 5
}
