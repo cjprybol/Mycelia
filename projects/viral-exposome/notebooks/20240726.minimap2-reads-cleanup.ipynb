{
 "cells": [
  {
   "cell_type": "code",
   "execution_count": null,
   "id": "ce23d7a1-3e01-467b-8a3b-3af4f2fa92a5",
   "metadata": {},
   "outputs": [],
   "source": [
    "# if hit plotting library issues, try resetting LD path for julia\n",
    "# can set in ~/.local/share/jupyter/kernels/\n",
    "@assert ENV[\"LD_LIBRARY_PATH\"] == \"\"\n",
    "import Pkg\n",
    "# Pkg.activate(;temp=true)\n",
    "Pkg.activate(\"20240726.minimap2-reads-cleanup\")\n",
    "Pkg.add(\"Revise\")\n",
    "import Revise\n",
    "\n",
    "# Pkg.develop(path=\"/global/cfs/projectdirs/m4269/cjprybol/Mycelia\")\n",
    "# Pkg.develop(path=\"../../..\")\n",
    "Pkg.develop(path=\"$(homedir())/workspace/Mycelia\")\n",
    "import Mycelia\n",
    "\n",
    "pkgs = String[\n",
    "    \"DataFrames\",\n",
    "    \"uCSV\",\n",
    "    \"OrderedCollections\",\n",
    "    \"CSV\"\n",
    "    # \"XAM\",\n",
    "    # \"CodecZlib\"\n",
    "]\n",
    "Pkg.add(pkgs)\n",
    "for pkg in pkgs\n",
    "    eval(Meta.parse(\"import $pkg\"))\n",
    "end"
   ]
  },
  {
   "cell_type": "code",
   "execution_count": null,
   "id": "457402c5-0c5a-4f91-880c-cc7ddad9b8f8",
   "metadata": {},
   "outputs": [],
   "source": [
    "project_dir = dirname(pwd())\n",
    "data_dir = mkpath(joinpath(project_dir, \"data\"))"
   ]
  },
  {
   "cell_type": "code",
   "execution_count": null,
   "id": "feef2282-3f45-4442-9013-e6627d3577da",
   "metadata": {
    "tags": []
   },
   "outputs": [],
   "source": [
    "db = \"nt\"\n",
    "path_to_db = joinpath(homedir(), \"workspace\", \"blastdb\", db)\n",
    "# path_to_db = Mycelia.download_blast_db(db=db, source=\"ncbi\")\n",
    "# compressed_fasta_export = Mycelia.export_blast_db(path_to_db = path_to_db)\n",
    "compressed_fasta_export = path_to_db * \".fna.gz\""
   ]
  },
  {
   "cell_type": "code",
   "execution_count": null,
   "id": "8f24576f-d8d8-42b6-8e83-57ee0e802e52",
   "metadata": {},
   "outputs": [],
   "source": [
    "threads = 12\n",
    "mem_gb = threads * 32\n",
    "# mem_gb = # Int(floor(mem_gb * .8))"
   ]
  },
  {
   "cell_type": "code",
   "execution_count": null,
   "id": "80e0eac0-e6ba-47fd-a39a-e0dcef40b56a",
   "metadata": {},
   "outputs": [],
   "source": [
    "sra_dirs = readdir(joinpath(data_dir, \"SRA\"), join=true)"
   ]
  },
  {
   "cell_type": "code",
   "execution_count": null,
   "id": "474b24fb-28f0-4d52-9666-c711d065ed62",
   "metadata": {},
   "outputs": [],
   "source": [
    "# sra_dir = first(sra_dirs)\n",
    "for sra_dir in sra_dirs\n",
    "    trim_galore_dir_contents = readdir(joinpath(sra_dir, \"trim_galore\"), join=true)\n",
    "    forward = first(filter(f -> occursin(r\"_1_val_1\\.fq\\.gz$\", f), trim_galore_dir_contents))\n",
    "    reverse = first(filter(f -> occursin(r\"_2_val_2\\.fq\\.gz$\", f), trim_galore_dir_contents))\n",
    "    map_result = Mycelia.minimap_map_paired_end_with_index(fasta = compressed_fasta_export, forward = forward, reverse =reverse, mem_gb = Int(floor(mem_gb * .8)), threads=threads, as_string=true)\n",
    "    outfile = map_result.outfile\n",
    "    cmd = map_result.cmd\n",
    "    \n",
    "    # sam_hits = filter(f -> occursin(r\"\\.sam$\", f), trim_galore_dir_contents)\n",
    "    tmp_sam_hits = filter(f -> occursin(r\"\\.tmp$\", f) || occursin(r\"\\.sam$\", f), trim_galore_dir_contents)\n",
    "\n",
    "    for sam_hit in tmp_sam_hits\n",
    "        display(sam_hit)\n",
    "        display(Base.format_bytes(filesize(sam_hit)))\n",
    "        rm(sam_hit)\n",
    "    end\n",
    "    # # resubmit if we run out of time\n",
    "    # if !isfile(outfile)\n",
    "    #     println(outfile)\n",
    "    #     Mycelia.scg_sbatch(\n",
    "    #         job_name=basename(outfile),\n",
    "    #         mail_user=\"cameron.prybol@gmail.com\",\n",
    "    #         logdir=mkpath(\"$(homedir())/workspace/slurmlogs\"),\n",
    "    #         mem_gb=mem_gb,\n",
    "    #         cpus_per_task=threads,\n",
    "    #         partition=\"batch\",\n",
    "    #         account=\"mpsnyder\",\n",
    "    #         time=\"7-00:00:00\",\n",
    "    #         cmd=cmd)\n",
    "    # else\n",
    "    #     @show isfile(outfile)\n",
    "    #     @show Base.format_bytes(filesize(outfile))\n",
    "    # end\n",
    "    # sleep(3)\n",
    "end"
   ]
  },
  {
   "cell_type": "code",
   "execution_count": null,
   "id": "0c5ad896-ef89-456f-aff8-e43ba91e465e",
   "metadata": {},
   "outputs": [],
   "source": []
  },
  {
   "cell_type": "code",
   "execution_count": null,
   "id": "0cb60785-8912-4c29-b3f3-5600de5b99dc",
   "metadata": {},
   "outputs": [],
   "source": []
  },
  {
   "cell_type": "code",
   "execution_count": null,
   "id": "79e05ff3-601d-4c7e-833b-496fa7446b6b",
   "metadata": {},
   "outputs": [],
   "source": [
    "@show isfile(outfile)"
   ]
  },
  {
   "cell_type": "code",
   "execution_count": null,
   "id": "7f787168-db4f-4a2a-b046-9a4ed975bbc5",
   "metadata": {},
   "outputs": [],
   "source": [
    "blast_db = \"nt\"\n",
    "blast_dbs_dir = joinpath(homedir(), \"workspace\", \"blastdb\")\n",
    "blast_db_path = joinpath(blast_dbs_dir, blast_db)"
   ]
  },
  {
   "cell_type": "code",
   "execution_count": null,
   "id": "8423db94-71fb-492c-bb57-dbed93077b71",
   "metadata": {},
   "outputs": [],
   "source": [
    "# 4321.050357 seconds (1.38 G allocations: 74.524 GiB, 86.31% gc time, 0.01% compilation time: 38% of which was recompilation)\n",
    "# 1915.630315 seconds (133.26 k allocations: 6.557 MiB, 0.00% gc time, 0.01% compilation time)\n",
    "# 1917.061201 seconds (595.03 k allocations: 32.412 MiB, 0.00% gc time, 0.02% compilation time)\n",
    "@time blast_db_taxonomy_table_file = Mycelia.export_blast_db_taxonomy_table(path_to_db = blast_db_path)"
   ]
  },
  {
   "cell_type": "code",
   "execution_count": null,
   "id": "87e34ab6-3dec-48e9-9bd7-220fb5527d51",
   "metadata": {
    "tags": []
   },
   "outputs": [],
   "source": [
    "basedir = dirname(pwd())\n",
    "data_dir = joinpath(basedir, \"data\")"
   ]
  },
  {
   "cell_type": "code",
   "execution_count": null,
   "id": "80b4c222-bf6c-42fe-a8f9-cb2bc79e1ac4",
   "metadata": {},
   "outputs": [],
   "source": [
    "xam = outfile"
   ]
  },
  {
   "cell_type": "code",
   "execution_count": null,
   "id": "b27f7e14-45cd-4be9-96af-6692abe814f5",
   "metadata": {},
   "outputs": [],
   "source": [
    "# # filter unmapped\n",
    "# samtools view -F 4 yourfile.sam.gz\n",
    "# # 2308 = 4 (unmapped) + 256 (secondary) + 2048 (supplementary)\n",
    "# yourfile.sam.gz\n",
    "Mycelia.add_bioconda_env(\"samtools\")\n",
    "# 550.789620 seconds (481.85 M allocations: 11.977 GiB, 0.01% compilation time)\n",
    "io = open(pipeline(`$(Mycelia.CONDA_RUNNER) run --live-stream -n samtools samtools view -F 2308 $(xam)`, `awk '{OFS=\"\\t\"}{print $1, $3}'`))\n",
    "@time record_table = CSV.read(io, DataFrames.DataFrame, delim='\\t', header=[\"template\", \"reference\"])\n",
    "close(io)\n",
    "record_table"
   ]
  },
  {
   "cell_type": "code",
   "execution_count": null,
   "id": "b02cfc89-3479-47be-83dd-aea3b4141253",
   "metadata": {
    "tags": []
   },
   "outputs": [],
   "source": [
    "# 476.069645 seconds (123.76 k allocations: 8.292 MiB, 0.05% compilation time: 38% of which was recompilation)\n",
    "# 318.219621 seconds (606.87 M allocations: 17.838 GiB, 6.44% gc time)\n",
    "# 388.887537 seconds (1.19 G allocations: 28.142 GiB, 24.04% gc time)\n",
    "@time blast_db_taxonomy_table = Mycelia.load_blast_db_taxonomy_table(blast_db_taxonomy_table_file)"
   ]
  },
  {
   "cell_type": "code",
   "execution_count": null,
   "id": "a1014ea6-8c3c-490b-9bb6-a4e2625f39f3",
   "metadata": {
    "tags": []
   },
   "outputs": [],
   "source": [
    "taxa_level = \"species\"\n",
    "file_to_taxa_relative_abundances = OrderedCollections.OrderedDict{String, Dict{String, Float64}}()\n",
    "# ProgressMeter.@showprogress for xam in xams\n",
    "record_table = DataFrames.innerjoin(record_table, blast_db_taxonomy_table, on=\"reference\" => \"sequence_id\")\n",
    "unique_taxids = sort(unique(record_table[!, \"taxid\"]))\n",
    "record_table = DataFrames.innerjoin(record_table, Mycelia.taxids2taxonkit_summarized_lineage_table(unique_taxids), on=\"taxid\")\n",
    "file_to_taxa_relative_abundances[xam] = Mycelia.normalize_countmap(StatsBase.countmap(record_table[!, taxa_level]))\n",
    "# end\n",
    "file_to_taxa_relative_abundances"
   ]
  },
  {
   "cell_type": "code",
   "execution_count": null,
   "id": "0937babe-5e08-40ef-a800-84a8f44384d0",
   "metadata": {},
   "outputs": [],
   "source": [
    "summarized_lineage_table = Mycelia.taxids2taxonkit_summarized_lineage_table(unique_taxids)"
   ]
  },
  {
   "cell_type": "code",
   "execution_count": null,
   "id": "c037935a-53b2-4262-b770-43670ee85962",
   "metadata": {},
   "outputs": [],
   "source": [
    "record_table = DataFrames.innerjoin(record_table, summarized_lineage_table, on=\"taxid\")"
   ]
  },
  {
   "cell_type": "code",
   "execution_count": null,
   "id": "cad5e8b7-7884-4b4d-904f-44935379d164",
   "metadata": {},
   "outputs": [],
   "source": [
    "# make a dictionary of record identifiers to taxa ids\n",
    "\n",
    "# make in memory lists of taxids to records\n",
    "\n",
    "# write each taxid list to a fasta file of that taxid in order\n",
    "\n",
    "# after confirming the above works, submit the rest"
   ]
  },
  {
   "cell_type": "code",
   "execution_count": null,
   "id": "62d5c233-b428-4abe-a296-65bdad29f526",
   "metadata": {},
   "outputs": [],
   "source": []
  },
  {
   "cell_type": "code",
   "execution_count": null,
   "id": "7f389af8-9fa6-4354-a171-92b3265b6f2b",
   "metadata": {
    "tags": []
   },
   "outputs": [],
   "source": [
    "# unique_sorted_taxa = sort(collect(reduce(union, keys.(values(file_to_taxa_relative_abundances)))))"
   ]
  },
  {
   "cell_type": "code",
   "execution_count": null,
   "id": "917a8627-28cb-47a3-b195-5984834185dc",
   "metadata": {
    "tags": []
   },
   "outputs": [],
   "source": [
    "# n_samples = length(file_to_taxa_relative_abundances)"
   ]
  },
  {
   "cell_type": "code",
   "execution_count": null,
   "id": "41e367b9-fc9a-4784-bb0f-a87821ab0ae7",
   "metadata": {
    "tags": []
   },
   "outputs": [],
   "source": [
    "# abundance_matrix = zeros(length(unique_sorted_taxa), n_samples)\n",
    "# taxa_names_to_indices = Dict(t => i for (i, t) in enumerate(unique_sorted_taxa))\n",
    "# for (column, (file, abundances)) in enumerate(file_to_taxa_relative_abundances)\n",
    "#     # @show column, sample\n",
    "#     for (taxa, relative_abundance) in abundances\n",
    "#         row = taxa_names_to_indices[taxa]\n",
    "#         abundance_matrix[row, column] = relative_abundance\n",
    "#     end\n",
    "# end\n",
    "# abundance_matrix"
   ]
  },
  {
   "cell_type": "code",
   "execution_count": null,
   "id": "e5c5f792-951a-4d16-9049-140880d40590",
   "metadata": {
    "tags": []
   },
   "outputs": [],
   "source": [
    "# abundance_sort_perm = sortperm(abundance_matrix, dims=1)"
   ]
  },
  {
   "cell_type": "code",
   "execution_count": null,
   "id": "7279c4dd-9b79-4085-ad53-d060aed05526",
   "metadata": {
    "tags": []
   },
   "outputs": [],
   "source": [
    "# abundance_matrix[abundance_sort_perm]"
   ]
  },
  {
   "cell_type": "code",
   "execution_count": null,
   "id": "ae2f0ba3-935f-4126-ac75-2aeabfbd678b",
   "metadata": {
    "tags": []
   },
   "outputs": [],
   "source": [
    "# # Find the sort permutation of the row means vector\n",
    "# sort_perm = sortperm(vec(Statistics.mean(abundance_matrix, dims=2)))\n",
    "# file_labels = map(x -> !isnothing(match(r\"P\\d+(\\.\\d+)?(e-\\d+)?\", x)) ? match(r\"P\\d+(\\.\\d+)?(e-\\d+)?\", x).match : \"full\", basename.(keys(file_to_taxa_relative_abundances)))\n",
    "# StatsPlots.groupedbar(\n",
    "#     abundance_matrix[sort_perm, :]',\n",
    "#     bar_position = :stack,\n",
    "#     bar_width=0.7, \n",
    "#     label = permutedims(unique_sorted_taxa[sort_perm]), \n",
    "#     xticks = (1:size(abundance_matrix, 2), file_labels), \n",
    "#     xrotation = 45,\n",
    "#     ylabel = \"proportion of reads\", \n",
    "#     xlabel = \"Subsampling proportion\",\n",
    "#     title = \"Species relative abundance (Urine spike in)\",\n",
    "#     legend = :outertopright,\n",
    "#     size = (1000, 500),\n",
    "#     margins = 10StatsPlots.Plots.PlotMeasures.mm\n",
    "# )"
   ]
  },
  {
   "cell_type": "code",
   "execution_count": null,
   "id": "ed248043-06e5-4065-9a9a-228fa8823a16",
   "metadata": {},
   "outputs": [],
   "source": [
    "# Mycelia.parse_xam_to_mapped_records_table"
   ]
  }
 ],
 "metadata": {
  "kernelspec": {
   "display_name": "Julia 1.6.7",
   "language": "julia",
   "name": "julia-1.6"
  },
  "language_info": {
   "file_extension": ".jl",
   "mimetype": "application/julia",
   "name": "julia",
   "version": "1.6.7"
  }
 },
 "nbformat": 4,
 "nbformat_minor": 5
}
