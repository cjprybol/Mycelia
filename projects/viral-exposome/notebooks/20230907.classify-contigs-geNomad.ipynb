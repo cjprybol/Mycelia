{
 "cells": [
  {
   "cell_type": "code",
   "execution_count": null,
   "id": "ce59cd77-c0f0-4b90-8de8-3c5f071935ae",
   "metadata": {
    "tags": []
   },
   "outputs": [],
   "source": [
    "import Pkg\n",
    "Pkg.activate(\".\")\n",
    "\n",
    "# not for the faint of heart!\n",
    "# Pkg.update()\n",
    "\n",
    "pkgs = [\n",
    "\"ArgParse\",\n",
    "\"Base64\",\n",
    "\"BioSequences\",\n",
    "\"DataFrames\",\n",
    "\"Dates\",\n",
    "\"DelimitedFiles\",\n",
    "\"FASTX\",\n",
    "\"Statistics\",\n",
    "\"StatsPlots\",\n",
    "\"uCSV\",\n",
    "\"Revise\",\n",
    "\"StatsBase\"\n",
    "]\n",
    "Pkg.add(pkgs)\n",
    "for pkg in pkgs\n",
    "    eval(Meta.parse(\"import $pkg\"))\n",
    "end\n",
    "\n",
    "# Pkg.develop(path=dirname(dirname(dirname(pwd()))))\n",
    "import Mycelia"
   ]
  },
  {
   "cell_type": "code",
   "execution_count": null,
   "id": "909f13b4-7e9d-429b-8b83-33c99af653c9",
   "metadata": {
    "tags": []
   },
   "outputs": [],
   "source": [
    "data_dir = joinpath(dirname(pwd()), \"data\")"
   ]
  },
  {
   "cell_type": "code",
   "execution_count": null,
   "id": "1ed0cada-73ac-4c3c-8d8c-e50e1115e414",
   "metadata": {
    "tags": []
   },
   "outputs": [],
   "source": [
    "SRR_paths = filter(x -> !occursin(\".ipynb_checkpoints\", x), readdir(joinpath(data_dir, \"SRA\"), join=true))\n",
    "SRR_paths = filter(x -> isfile(joinpath(x, \"megahit\", \"final.contigs.fastg.gfa.fna\")), SRR_paths)\n",
    "# filter out samples that have already been processed\n",
    "# SRR_paths = filter(x -> !isfile(joinpath(x, basename(x) * \".contig_info.tsv\")), SRR_paths)"
   ]
  },
  {
   "cell_type": "code",
   "execution_count": null,
   "id": "64305f91-470b-48b4-9a36-f61fe7a2c58d",
   "metadata": {
    "tags": []
   },
   "outputs": [],
   "source": [
    "# Create a conda environment for geNomad\n",
    "# mamba create -n genomad -c conda-forge -c bioconda genomad\n",
    "# Activate the geNomad environment\n",
    "# conda activate genomad\n",
    "\n",
    "# podman-hpc pull antoniopcamargo/genomad\n",
    "\n",
    "# podman-hpc run --rm -v \"$(pwd):/app\" antoniopcamargo/genomad download-database .\n",
    "# podman-hpc run --rm -v \"$(pwd):/app\" antoniopcamargo/genomad end-to-end --threads 256 $(assembled_fasta) output $(genomad_db_dir_path)"
   ]
  },
  {
   "cell_type": "code",
   "execution_count": null,
   "id": "340e6ad0-f177-4bd9-ab9b-1762b52cf7ea",
   "metadata": {
    "tags": []
   },
   "outputs": [],
   "source": [
    "BASEDIR = \"$(homedir())/workspace\"\n",
    "# BASEDIR = \"/global/cfs/projectdirs/m4269/cjprybol\""
   ]
  },
  {
   "cell_type": "code",
   "execution_count": null,
   "id": "d1196815-ea78-47dd-9d95-462c27c3c4d9",
   "metadata": {},
   "outputs": [],
   "source": [
    "# this takes almost no time at all!\n",
    "# /global/homes/c/cjprybol/workspace\n",
    "# conda run --no-capture-output -n genomad genomad download-database /global/homes/c/cjprybol/workspace"
   ]
  },
  {
   "cell_type": "code",
   "execution_count": null,
   "id": "632f4f05-b7a4-4a0b-a80b-4c03fee68129",
   "metadata": {
    "tags": []
   },
   "outputs": [],
   "source": [
    "genomad_db_dir_path = joinpath(BASEDIR, \"genomad_db\")"
   ]
  },
  {
   "cell_type": "code",
   "execution_count": null,
   "id": "443c110b-d791-4b18-a31b-e32dc6a89b97",
   "metadata": {
    "tags": []
   },
   "outputs": [],
   "source": [
    "# NERSC is a godsend\n",
    "# completed = 0\n",
    "for SRR_path in SRR_paths\n",
    "    SRR = basename(SRR_path)\n",
    "    assembled_fasta = joinpath(SRR_path, \"megahit\", \"final.contigs.fastg.gfa.fna\")\n",
    "    genomad_dir = mkpath(joinpath(SRR_path, \"genomad\"))\n",
    "    outfile = joinpath(genomad_dir, replace(basename(assembled_fasta), \".fna\" => \"_summary\"), replace(basename(assembled_fasta), \".fna\" => \"_virus.fna\"))\n",
    "    if !isfile(outfile)\n",
    "        println(\"need to run $SRR_path\")\n",
    "        # println(\"conda run --no-capture-output -n genomad genomad  end-to-end --threads 256 $(assembled_fasta) $(genomad_dir) $(genomad_db_dir_path)\")\n",
    "        # run(`sbatch genomad.sh $(assembled_fasta) $(genomad_dir) $(genomad_db_dir_path)`)\n",
    "    else\n",
    "        # println(\"$outfile already exists, skipping...\")\n",
    "        # completed += 1\n",
    "    end\n",
    "end\n",
    "# print(\"$(completed)/$(length(SRR_paths)) ~ $(round(completed/length(SRR_paths)* 100, digits=2)) % complete\")"
   ]
  }
 ],
 "metadata": {
  "kernelspec": {
   "display_name": "Julia 1.6.7",
   "language": "julia",
   "name": "julia-1.6"
  },
  "language_info": {
   "file_extension": ".jl",
   "mimetype": "application/julia",
   "name": "julia",
   "version": "1.6.7"
  }
 },
 "nbformat": 4,
 "nbformat_minor": 5
}
