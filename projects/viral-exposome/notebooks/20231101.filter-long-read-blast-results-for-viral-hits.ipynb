{
 "cells": [
  {
   "cell_type": "code",
   "execution_count": null,
   "id": "28afd0da-a1e3-48ad-a12a-8bbb3a8d19c2",
   "metadata": {
    "tags": []
   },
   "outputs": [],
   "source": [
    "import Pkg\n",
    "Pkg.activate(\".\")\n",
    "\n",
    "pkgs = [\n",
    "\"DataFrames\",\n",
    "\"uCSV\",\n",
    "\"ProgressMeter\",\n",
    "]\n",
    "Pkg.add(pkgs)\n",
    "for pkg in pkgs\n",
    "    eval(Meta.parse(\"import $pkg\"))\n",
    "end"
   ]
  },
  {
   "cell_type": "code",
   "execution_count": null,
   "id": "b225c1a6-9a0f-4690-b2b2-19d01024b993",
   "metadata": {},
   "outputs": [],
   "source": [
    "function parse_blast_report(blast_report)\n",
    "    # example header line \n",
    "    # \"# Fields: query id, subject id, subject acc., subject acc.ver, subject title, query length, subject length, q. start, q. end, s. start, s. end, evalue, bit score, score, alignment length, % identity, identical, mismatches, subject tax id\"\n",
    "    header_lines = collect(Iterators.filter(x -> occursin(r\"# Fields:\", x), eachline(blast_report)))\n",
    "    if isempty(header_lines)\n",
    "        @info \"no hits found, returning empty table\"\n",
    "        return DataFrames.DataFrame()\n",
    "    end\n",
    "    header_line = first(header_lines)\n",
    "    header = split(last(split(header_line, \": \")), \", \")\n",
    "    blast_col_types = Dict(\n",
    "        \"query id\" => String,\n",
    "        \"query title\" => String,\n",
    "        \"subject id\" => String,\n",
    "        \"subject gi\" => String,\n",
    "        \"subject acc.\" => String,\n",
    "        \"subject acc.ver\" => String,\n",
    "        \"subject title\" => String,\n",
    "        \"query length\" => Int,\n",
    "        \"subject length\" => Int,\n",
    "        \"q. start\" => Int,\n",
    "        \"q. end\" => Int,\n",
    "        \"s. start\" => Int,\n",
    "        \"s. end\" => Int,\n",
    "        \"evalue\" => Float64,\n",
    "        \"bit score\" => Float64,\n",
    "        \"score\" => Float64,\n",
    "        \"alignment length\" => Int,\n",
    "        \"% identity\" => Float64,\n",
    "        \"identical\" => Int,\n",
    "        \"mismatches\" => Int,\n",
    "        \"subject tax id\" => Int,\n",
    "        \"subject sci name\" => String,\n",
    "        \"subject com names\" => String,\n",
    "        \"subject blast name\" => String,\n",
    "        \"subject super kingdom\" => String,\n",
    "        \"subject tax ids\" => String,\n",
    "        \"subject sci names\" => String,\n",
    "        \"subject com names\" => String,\n",
    "        \"subject blast names\" => String,\n",
    "        \"subject super kingdoms\" => String,\n",
    "        \"subject title\" => String,\n",
    "        \"subject titles\" => String\n",
    "    )\n",
    "    data, _ = uCSV.read(\n",
    "        blast_report,\n",
    "        delim='\\t',\n",
    "        comment='#',\n",
    "        # skipmalformed=true,\n",
    "        allowmissing=true,\n",
    "        encodings=Dict(\"N/A\" => missing),\n",
    "        types=[blast_col_types[h] for h in header])\n",
    "    return DataFrames.DataFrame(data, header, makeunique=true)\n",
    "end"
   ]
  },
  {
   "cell_type": "code",
   "execution_count": null,
   "id": "397eda9f-2187-4112-bfa6-670cd2e62770",
   "metadata": {},
   "outputs": [],
   "source": [
    "viral_tax_ids = Set(parse.(Int, filter(!isempty, readlines(`conda run -n taxonkit taxonkit list --ids 10239 --indent \"\"`))))"
   ]
  },
  {
   "cell_type": "code",
   "execution_count": null,
   "id": "3f4cbf88-151f-4d01-973a-cccb7e33c770",
   "metadata": {},
   "outputs": [],
   "source": [
    "basedir = \"/labs/mpsnyder/share/exposome_data\""
   ]
  },
  {
   "cell_type": "code",
   "execution_count": null,
   "id": "56764b9e-7c74-4e08-913a-1d9e9771775d",
   "metadata": {},
   "outputs": [],
   "source": [
    "readdir(basedir)"
   ]
  },
  {
   "cell_type": "code",
   "execution_count": null,
   "id": "a157c412-95f0-48da-9e7f-38752bf301bb",
   "metadata": {},
   "outputs": [],
   "source": [
    "batch_directory = joinpath(basedir, \"Expo_pliot1_extracted_hifi_fastqs\")\n",
    "# batch_directory = joinpath(basedir, \"extracted1\")"
   ]
  },
  {
   "cell_type": "code",
   "execution_count": null,
   "id": "dd9bf145-5ac8-41e0-9caf-78804d8af1ed",
   "metadata": {},
   "outputs": [],
   "source": [
    "# megablast_results = filter(x -> occursin(\".megablast.nt.txt\", x), readdir(batch_directory, join=true))\n",
    "megablast_results = filter(x -> occursin(\".blastn.nt.txt\", x), readdir(batch_directory, join=true))"
   ]
  },
  {
   "cell_type": "code",
   "execution_count": null,
   "id": "3aed71b9-c280-4f73-b2b2-b6b006cbcbfd",
   "metadata": {},
   "outputs": [],
   "source": [
    "# 5 has crass phage\n",
    "# Citrus necrotic spot virus strain Jal-1\n",
    "# Faecal-associated gemycircularvirus 4\n",
    "# megablast_result = megablast_results[8]"
   ]
  },
  {
   "cell_type": "code",
   "execution_count": null,
   "id": "6aa4576a-65e4-4c5c-affc-bab4d614a2ef",
   "metadata": {},
   "outputs": [],
   "source": [
    "joint_blast_results = DataFrames.DataFrame()\n",
    "ProgressMeter.@showprogress for megablast_result in megablast_results\n",
    "    blast_table = parse_blast_report(megablast_result)\n",
    "    if DataFrames.nrow(blast_table) > 0\n",
    "        if \"subject tax id\" in names(blast_table)\n",
    "            blast_table[!, \"subject tax id\"] = map(x -> ismissing(x) ? 0 : x, blast_table[!, \"subject tax id\"])\n",
    "        else\n",
    "            blast_table[!, \"subject tax id\"] = map(x -> (ismissing(x) || isempty(x)) ? 0 : parse(Int, first(split(x, ';'))), blast_table[!, \"subject tax ids\"])\n",
    "        end\n",
    "        blast_table = blast_table[map(x -> x in viral_tax_ids, blast_table[!, \"subject tax id\"]), :]\n",
    "        append!(joint_blast_results, blast_table)\n",
    "    end\n",
    "end"
   ]
  },
  {
   "cell_type": "code",
   "execution_count": null,
   "id": "21010312-b494-41fc-8215-f4e8f39c4f22",
   "metadata": {},
   "outputs": [],
   "source": [
    "unique(joint_blast_results[!, [\"subject title\", \"subject tax id\"]])"
   ]
  },
  {
   "cell_type": "code",
   "execution_count": null,
   "id": "0fe7d83b-004a-4c8c-a89d-2d51db5cdee9",
   "metadata": {},
   "outputs": [],
   "source": [
    "# joint_blast_results[map(x -> !(x in [1391026, 1354727, 1391033]), joint_blast_results[!, \"subject tax id\"]), :]"
   ]
  },
  {
   "cell_type": "code",
   "execution_count": null,
   "id": "0db8a8f7-76ae-4716-9f39-ad4506f63939",
   "metadata": {},
   "outputs": [],
   "source": [
    "# joint_blast_results"
   ]
  },
  {
   "cell_type": "code",
   "execution_count": null,
   "id": "2ff3e17d-62d2-484f-8550-614c09c22156",
   "metadata": {},
   "outputs": [],
   "source": [
    "blast_table = blast_table[map(x -> !(x in [1391026, 1354727]), blast_table[!, \"subject tax id\"]), :]"
   ]
  },
  {
   "cell_type": "code",
   "execution_count": null,
   "id": "d5adf216-3ed2-4bdc-b278-e70879676e58",
   "metadata": {},
   "outputs": [],
   "source": [
    "# function parse_blast_report(blast_report, top_n = 1)\n",
    "#     top_n_contig_hits = Dict{String, Vector{String}}()\n",
    "#     # example header line \n",
    "#     # \"# Fields: query id, subject id, subject acc., subject acc.ver, subject title, query length, subject length, q. start, q. end, s. start, s. end, evalue, bit score, score, alignment length, % identity, identical, mismatches, subject tax id\"\n",
    "#     header_line = first(Iterators.filter(x -> occursin(r\"# Fields:\", x), eachline(blast_report)))\n",
    "#     header = split(last(split(header_line, \": \")), \", \")\n",
    "#     blast_col_types = Dict(\n",
    "#         \"query id\" => String,\n",
    "#         \"query title\" => String,\n",
    "#         \"subject id\" => String,\n",
    "#         \"subject gi\" => String,\n",
    "#         \"subject acc.\" => String,\n",
    "#         \"subject acc.ver\" => String,\n",
    "#         \"subject title\" => String,\n",
    "#         \"query length\" => Int,\n",
    "#         \"subject length\" => Int,\n",
    "#         \"q. start\" => Int,\n",
    "#         \"q. end\" => Int,\n",
    "#         \"s. start\" => Int,\n",
    "#         \"s. end\" => Int,\n",
    "#         \"evalue\" => Float64,\n",
    "#         \"bit score\" => Float64,\n",
    "#         \"score\" => Float64,\n",
    "#         \"alignment length\" => Int,\n",
    "#         \"% identity\" => Float64,\n",
    "#         \"identical\" => Int,\n",
    "#         \"mismatches\" => Int,\n",
    "#         \"subject tax id\" => Int,\n",
    "#         \"subject sci name\" => String,\n",
    "#         \"subject com names\" => String,\n",
    "#         \"subject blast name\" => String,\n",
    "#         \"subject super kingdom\" => String,\n",
    "#         \"subject tax ids\" => String,\n",
    "#         \"subject sci names\" => String,\n",
    "#         \"subject com names\" => String,\n",
    "#         \"subject blast names\" => String,\n",
    "#         \"subject super kingdoms\" => String,\n",
    "#         \"subject title\" => String,\n",
    "#         \"subject titles\" => String\n",
    "#     )\n",
    "#     for line in Iterators.filter(x -> !occursin(r\"^#\", x), eachline(blast_report))\n",
    "#         contig = first(split(line, '\\t'))\n",
    "#         if !haskey(top_n_contig_hits, contig)\n",
    "#             top_n_contig_hits[contig] = [line]\n",
    "#         elseif length(top_n_contig_hits[contig]) < top_n\n",
    "#             push!(top_n_contig_hits[contig], line)\n",
    "#         end\n",
    "#     end\n",
    "#     reconstructed_file = join([join(value, '\\n') for value in values(top_n_contig_hits)], '\\n')\n",
    "#     data, _ = uCSV.read(\n",
    "#         IOBuffer(reconstructed_file),\n",
    "#         delim='\\t',\n",
    "#         # comment='#',\n",
    "#         # skipmalformed=true,\n",
    "#         allowmissing=true,\n",
    "#         encodings=Dict(\"N/A\" => missing),\n",
    "#         types=[blast_col_types[h] for h in header])\n",
    "#     return DataFrames.DataFrame(data, header, makeunique=true)\n",
    "# end"
   ]
  },
  {
   "cell_type": "code",
   "execution_count": null,
   "id": "c3c1458a-c8cb-4006-8596-125f7bbd4708",
   "metadata": {},
   "outputs": [],
   "source": [
    "# ProgressMeter.@showprogress for SRR_path in SRR_paths\n",
    "#     # SRR_path = first(SRR_paths)\n",
    "#     qualimap_coverage_table = parse_qualimap_contig_coverage(joinpath(SRR_path, \"megahit\", \"qualimap\", \"genome_results.txt\"))\n",
    "#     mmseqs_lca_files = filter(x -> occursin(\"_lca.tsv\", x) && occursin(\"final.contigs.fastg.gfa.fna.mmseqs_easy_taxonomy\", x), readdir(joinpath(SRR_path, \"mmseqs_easy_taxonomy\"), join=true))\n",
    "\n",
    "#     # mmseqs_lca_file = first(mmseqs_lca_files)\n",
    "#     for mmseqs_lca_file in mmseqs_lca_files\n",
    "\n",
    "#         parse_mmseqs_easy_taxonomy_lca_tsv(mmseqs_lca_file)\n",
    "#         lca_table = parse_mmseqs_easy_taxonomy_lca_tsv(mmseqs_lca_file)\n",
    "#         contig_coverage_and_classification_table = DataFrames.leftjoin(qualimap_coverage_table, lca_table, on=\"Contig\" => \"contig_id\")\n",
    "#         contig_coverage_and_classification_table[!, \"taxon_id\"] = map(x -> ismissing(x) ? 0 : x, contig_coverage_and_classification_table[!, \"taxon_id\"])\n",
    "#         contig_coverage_and_classification_table = ifelse.(ismissing.(contig_coverage_and_classification_table), \"\", contig_coverage_and_classification_table)\n",
    "\n",
    "#         uCSV.write(\n",
    "#             replace(mmseqs_lca_file, r\"\\.tsv$\" => \".coverage-and-classification.tsv\"),\n",
    "#             contig_coverage_and_classification_table,\n",
    "#             delim='\\t'\n",
    "#         )\n",
    "#     end\n",
    "# end"
   ]
  },
  {
   "cell_type": "code",
   "execution_count": null,
   "id": "63d84ac5-c946-4765-a7e5-b4c2520b58ee",
   "metadata": {},
   "outputs": [],
   "source": []
  }
 ],
 "metadata": {
  "kernelspec": {
   "display_name": "Julia 1.9.3",
   "language": "julia",
   "name": "julia-1.9"
  },
  "language_info": {
   "file_extension": ".jl",
   "mimetype": "application/julia",
   "name": "julia",
   "version": "1.9.3"
  }
 },
 "nbformat": 4,
 "nbformat_minor": 5
}
