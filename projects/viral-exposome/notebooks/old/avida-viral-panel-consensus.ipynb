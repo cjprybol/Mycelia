{
 "cells": [
  {
   "cell_type": "code",
   "execution_count": null,
   "id": "d721fa48-b788-4576-9cab-b93b33daf55e",
   "metadata": {
    "tags": []
   },
   "outputs": [],
   "source": [
    "from Bio import AlignIO\n",
    "from Bio.Align import AlignInfo\n",
    "\n",
    "# alignment = AlignIO.read('enteroviruses.fna', 'fasta')\n",
    "# summary_align = AlignInfo.SummaryInfo(alignment)\n",
    "# summary_align.dumb_consensus(float(sys.argv[2]))"
   ]
  },
  {
   "cell_type": "code",
   "execution_count": null,
   "id": "48e3e611-6123-406e-bb7d-31210f35011b",
   "metadata": {},
   "outputs": [],
   "source": [
    "# Genus = Enterovirus\n",
    "# Enterovirus A\n",
    "# Enterovirus B\n",
    "# Enterovirus C\n",
    "# Enterovirus D\n",
    "# Rhinovirus A\n",
    "# Rhinovirus B\n",
    "\n",
    "# Genus = mastadenovirus\n",
    "# Human mastodenovirus D\n",
    "\n",
    "\n",
    "\n",
    "# Influenza B virus\n",
    "# Respiratory syncytial virus\n",
    "# SARS related coronavirus\n",
    "# Epstein-Barr virus (HHV-4)\n",
    "# B19 virus\n",
    "# Human herpevirus 6B(HHV-6B)\n",
    "# Merkel cell polyomavirus(MCPyV)"
   ]
  },
  {
   "cell_type": "code",
   "execution_count": null,
   "id": "fe37d285-5873-4c66-9979-be282173e46c",
   "metadata": {
    "tags": []
   },
   "outputs": [],
   "source": [
    "# viral_metadata_file = \"../metadata/VMR_MSL38_v1 - VMR MSL38 v1.tsv\"\n",
    "# viral_metadata_table = DataFrames.DataFrame(uCSV.read(viral_metadata_file, header=1, delim='\\t')...)"
   ]
  },
  {
   "cell_type": "code",
   "execution_count": null,
   "id": "190ad6a0-9cb0-4427-bd4a-23126ca5d6a2",
   "metadata": {
    "tags": []
   },
   "outputs": [],
   "source": [
    "genbank_file = \"../NC_000898.gb\"\n",
    "genbank_record = first(GenomicAnnotations.readgbk(genbank_file))"
   ]
  },
  {
   "cell_type": "code",
   "execution_count": null,
   "id": "0a72c25c-43ee-47c7-ba91-7411b5132773",
   "metadata": {
    "tags": []
   },
   "outputs": [],
   "source": [
    "gene_lengths = Int[]\n",
    "for gene in genbank_record.genes\n",
    "    if !ismissing(gene.protein_id)\n",
    "        l = length(GenomicAnnotations.locus(gene).position)\n",
    "        # @show gene\n",
    "        push!(gene_lengths, l)\n",
    "    end\n",
    "end\n",
    "threshold = Statistics.mean(gene_lengths) + 4Statistics.std(gene_lengths)"
   ]
  },
  {
   "cell_type": "code",
   "execution_count": null,
   "id": "c92ab610-5eb1-4661-a27e-6de8c91a6c5c",
   "metadata": {
    "tags": []
   },
   "outputs": [],
   "source": [
    "sum(filter(x -> x >= threshold, gene_lengths))"
   ]
  },
  {
   "cell_type": "code",
   "execution_count": null,
   "id": "73e8e621-ed69-419d-aa98-c305390a8d37",
   "metadata": {
    "tags": []
   },
   "outputs": [],
   "source": [
    "fasta_file = replace(genbank_file, \".gb\" => \".fna\")\n",
    "open(fasta_file, \"w\") do io\n",
    "    fasta_writer = FASTX.FASTA.Writer(io)\n",
    "    for gene in genbank_record.genes\n",
    "        if !ismissing(gene.protein_id)\n",
    "            l = length(GenomicAnnotations.locus(gene).position)\n",
    "            if l >= threshold\n",
    "                record = FASTX.FASTA.Record(gene.product, GenomicAnnotations.sequence(gene))\n",
    "                # @show record\n",
    "                write(fasta_writer, record)\n",
    "            end\n",
    "        end\n",
    "    end\n",
    "    close(fasta_writer)\n",
    "end"
   ]
  },
  {
   "cell_type": "code",
   "execution_count": null,
   "id": "92b9a90a-37cf-4b81-b42f-a447d269ba61",
   "metadata": {},
   "outputs": [],
   "source": []
  }
 ],
 "metadata": {
  "kernelspec": {
   "display_name": "NERSC Python",
   "language": "python",
   "name": "python3"
  },
  "language_info": {
   "file_extension": ".jl",
   "mimetype": "application/julia",
   "name": "julia",
   "version": "1.6.7"
  }
 },
 "nbformat": 4,
 "nbformat_minor": 5
}
