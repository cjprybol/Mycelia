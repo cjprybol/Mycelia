{
 "cells": [
  {
   "cell_type": "code",
   "execution_count": null,
   "id": "d721fa48-b788-4576-9cab-b93b33daf55e",
   "metadata": {
    "tags": []
   },
   "outputs": [],
   "source": [
    "import Pkg\n",
    "Pkg.activate(\".\")\n",
    "\n",
    "pkgs = [\n",
    "\"ProgressMeter\",\n",
    "\"uCSV\",\n",
    "\"DataFrames\",\n",
    "\"GenomicAnnotations\",\n",
    "\"StatsBase\",\n",
    "\"Statistics\",\n",
    "\"FASTX\",\n",
    "\"BioAlignments\"\n",
    "]\n",
    "Pkg.add(pkgs)\n",
    "for pkg in pkgs\n",
    "    eval(Meta.parse(\"import $pkg\"))\n",
    "end\n",
    "\n",
    "# Pkg.develop(path=\"../../..\")\n",
    "Pkg.develop(path=\"$(homedir())/workspace/Mycelia\")\n",
    "# import Mycelia\n",
    "import Mycelia"
   ]
  },
  {
   "cell_type": "code",
   "execution_count": null,
   "id": "70c8cace-0393-4817-9081-f7bcb5f5ee27",
   "metadata": {},
   "outputs": [],
   "source": [
    "# run(`pip install csvkit`)"
   ]
  },
  {
   "cell_type": "code",
   "execution_count": null,
   "id": "48e3e611-6123-406e-bb7d-31210f35011b",
   "metadata": {},
   "outputs": [],
   "source": [
    "# Genus = Enterovirus\n",
    "# Enterovirus A\n",
    "# Enterovirus B\n",
    "# Enterovirus C\n",
    "# Enterovirus D\n",
    "# Rhinovirus A\n",
    "# Rhinovirus B\n",
    "\n",
    "# Genus = mastadenovirus\n",
    "# Human mastodenovirus D\n",
    "\n",
    "\n",
    "\n",
    "# Influenza B virus\n",
    "# Respiratory syncytial virus\n",
    "# SARS related coronavirus\n",
    "# Epstein-Barr virus (HHV-4)\n",
    "# B19 virus\n",
    "# Human herpevirus 6B(HHV-6B)\n",
    "# Merkel cell polyomavirus(MCPyV)"
   ]
  },
  {
   "cell_type": "code",
   "execution_count": null,
   "id": "fe37d285-5873-4c66-9979-be282173e46c",
   "metadata": {
    "tags": []
   },
   "outputs": [],
   "source": [
    "# viral_metadata_file = \"../metadata/VMR_MSL38_v1 - VMR MSL38 v1.tsv\"\n",
    "# viral_metadata_table = DataFrames.DataFrame(uCSV.read(viral_metadata_file, header=1, delim='\\t')...)"
   ]
  },
  {
   "cell_type": "code",
   "execution_count": null,
   "id": "190ad6a0-9cb0-4427-bd4a-23126ca5d6a2",
   "metadata": {
    "tags": []
   },
   "outputs": [],
   "source": [
    "genbank_file = \"../NC_002058.gb\"\n",
    "genbank_record = first(GenomicAnnotations.readgbk(genbank_file))"
   ]
  },
  {
   "cell_type": "code",
   "execution_count": null,
   "id": "0a72c25c-43ee-47c7-ba91-7411b5132773",
   "metadata": {
    "tags": []
   },
   "outputs": [],
   "source": [
    "gene_lengths = Int[]\n",
    "for gene in genbank_record.genes\n",
    "    if !ismissing(gene.protein_id)\n",
    "        l = length(GenomicAnnotations.locus(gene).position)\n",
    "        # @show gene\n",
    "        push!(gene_lengths, l)\n",
    "    end\n",
    "end\n",
    "threshold = Statistics.mean(gene_lengths) + 1Statistics.std(gene_lengths)"
   ]
  },
  {
   "cell_type": "code",
   "execution_count": null,
   "id": "c92ab610-5eb1-4661-a27e-6de8c91a6c5c",
   "metadata": {
    "tags": []
   },
   "outputs": [],
   "source": [
    "sum(filter(x -> x >= threshold, gene_lengths))"
   ]
  },
  {
   "cell_type": "code",
   "execution_count": null,
   "id": "73e8e621-ed69-419d-aa98-c305390a8d37",
   "metadata": {
    "tags": []
   },
   "outputs": [],
   "source": [
    "fasta_file = replace(genbank_file, \".gb\" => \".fna\")\n",
    "open(fasta_file, \"w\") do io\n",
    "    fasta_writer = FASTX.FASTA.Writer(io)\n",
    "    for gene in genbank_record.genes\n",
    "        if !ismissing(gene.protein_id)\n",
    "            l = length(GenomicAnnotations.locus(gene).position)\n",
    "            if l >= threshold\n",
    "                record = FASTX.FASTA.Record(gene.product, GenomicAnnotations.sequence(gene))\n",
    "                # @show record\n",
    "                write(fasta_writer, record)\n",
    "            end\n",
    "        end\n",
    "    end\n",
    "    close(fasta_writer)\n",
    "end"
   ]
  },
  {
   "cell_type": "code",
   "execution_count": null,
   "id": "92b9a90a-37cf-4b81-b42f-a447d269ba61",
   "metadata": {
    "tags": []
   },
   "outputs": [],
   "source": [
    "enteroviruses = collect(Mycelia.open_fastx(\"../enteroviruses.fna\"))"
   ]
  },
  {
   "cell_type": "code",
   "execution_count": null,
   "id": "de9d7501-7654-44ad-93eb-f12037de344c",
   "metadata": {
    "tags": []
   },
   "outputs": [],
   "source": [
    "total_length = 0\n",
    "for x in filter(x -> occursin(\".fna\", x), readdir(\"../sequences\", join=true))\n",
    "    for record in Mycelia.open_fastx(x)\n",
    "        total_length += length(FASTX.sequence(record))\n",
    "    end\n",
    "end\n",
    "total_length"
   ]
  },
  {
   "cell_type": "code",
   "execution_count": null,
   "id": "0c119445-0631-495d-b093-5e30d9be031c",
   "metadata": {
    "tags": []
   },
   "outputs": [],
   "source": [
    "# a = 3\n",
    "# b = 6\n",
    "# aln = BioAlignments.pairalign(\n",
    "#     BioAlignments.LevenshteinDistance(),\n",
    "#     FASTX.sequence(enteroviruses[a]),\n",
    "#     FASTX.sequence(enteroviruses[b])\n",
    "# )\n",
    "# length(BioAlignments.sequence(aln))"
   ]
  }
 ],
 "metadata": {
  "kernelspec": {
   "display_name": "Julia 1.6.7",
   "language": "julia",
   "name": "julia-1.6"
  },
  "language_info": {
   "file_extension": ".jl",
   "mimetype": "application/julia",
   "name": "julia",
   "version": "1.6.7"
  }
 },
 "nbformat": 4,
 "nbformat_minor": 5
}
