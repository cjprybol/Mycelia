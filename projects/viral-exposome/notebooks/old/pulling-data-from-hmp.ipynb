{
 "cells": [
  {
   "cell_type": "markdown",
   "metadata": {},
   "source": [
    "---\n",
    "layout: post  \n",
    "---"
   ]
  },
  {
   "cell_type": "markdown",
   "metadata": {},
   "source": [
    "show screenshots of getting to cart"
   ]
  },
  {
   "cell_type": "markdown",
   "metadata": {},
   "source": [
    "merge and join metadata"
   ]
  },
  {
   "cell_type": "markdown",
   "metadata": {},
   "source": [
    "grab random fastq"
   ]
  },
  {
   "cell_type": "markdown",
   "metadata": {},
   "source": [
    "https://portal.hmpdacc.org/search/s?facetTab=cases&filters=%7B%22op%22:%22and%22,%22content%22:%5B%7B%22op%22:%22in%22,%22content%22:%7B%22field%22:%22sample.body_site%22,%22value%22:%5B%22feces%22%5D%7D%7D,%7B%22op%22:%22in%22,%22content%22:%7B%22field%22:%22sample.study_name%22,%22value%22:%5B%22HHS%22%5D%7D%7D,%7B%22op%22:%22in%22,%22content%22:%7B%22field%22:%22file.format%22,%22value%22:%5B%22FASTQ%22%5D%7D%7D%5D%7D"
   ]
  },
  {
   "cell_type": "markdown",
   "metadata": {},
   "source": [
    "Metadata: Please note that each file in a downloaded manifest can be tied to metadata through the sample_id column."
   ]
  },
  {
   "cell_type": "code",
   "execution_count": 1,
   "metadata": {},
   "outputs": [
    {
     "data": {
      "text/plain": [
       "\"/Users/cameronprybol/Repos/applied-paper\""
      ]
     },
     "execution_count": 1,
     "metadata": {},
     "output_type": "execute_result"
    }
   ],
   "source": [
    "BASE = dirname(pwd())"
   ]
  },
  {
   "cell_type": "code",
   "execution_count": 2,
   "metadata": {},
   "outputs": [
    {
     "data": {
      "text/plain": [
       "\"/Users/cameronprybol/Repos/applied-paper/data\""
      ]
     },
     "execution_count": 2,
     "metadata": {},
     "output_type": "execute_result"
    }
   ],
   "source": [
    "DATA_DIR = mkpath(\"$(BASE)/data\")"
   ]
  },
  {
   "cell_type": "code",
   "execution_count": 3,
   "metadata": {},
   "outputs": [
    {
     "data": {
      "text/plain": [
       "\"/Users/cameronprybol/Repos/applied-paper/data/fastqs\""
      ]
     },
     "execution_count": 3,
     "metadata": {},
     "output_type": "execute_result"
    }
   ],
   "source": [
    "FASTQ_DIR = mkpath(\"$(DATA_DIR)/fastqs\")"
   ]
  },
  {
   "cell_type": "code",
   "execution_count": 4,
   "metadata": {},
   "outputs": [
    {
     "data": {
      "text/plain": [
       "\"/Users/cameronprybol/Repos/applied-paper/metadata\""
      ]
     },
     "execution_count": 4,
     "metadata": {},
     "output_type": "execute_result"
    }
   ],
   "source": [
    "METADATA_DIR = \"$(BASE)/metadata\""
   ]
  },
  {
   "cell_type": "code",
   "execution_count": 5,
   "metadata": {},
   "outputs": [
    {
     "data": {
      "text/plain": [
       "3-element Array{String,1}:\n",
       " \".DS_Store\"\n",
       " \"hmp_manifest_694131f49a.tsv\"\n",
       " \"hmp_manifest_metadata_1aea37e4ff.tsv\""
      ]
     },
     "execution_count": 5,
     "metadata": {},
     "output_type": "execute_result"
    }
   ],
   "source": [
    "readdir(METADATA_DIR)"
   ]
  },
  {
   "cell_type": "code",
   "execution_count": 6,
   "metadata": {},
   "outputs": [
    {
     "data": {
      "text/plain": [
       "\"/Users/cameronprybol/Repos/applied-paper/metadata/hmp_manifest_694131f49a.tsv\""
      ]
     },
     "execution_count": 6,
     "metadata": {},
     "output_type": "execute_result"
    }
   ],
   "source": [
    "hmp_manifest_file = \"$(METADATA_DIR)/hmp_manifest_694131f49a.tsv\""
   ]
  },
  {
   "cell_type": "code",
   "execution_count": 7,
   "metadata": {},
   "outputs": [
    {
     "data": {
      "text/plain": [
       "\"/Users/cameronprybol/Repos/applied-paper/metadata/hmp_manifest_metadata_1aea37e4ff.tsv\""
      ]
     },
     "execution_count": 7,
     "metadata": {},
     "output_type": "execute_result"
    }
   ],
   "source": [
    "hmp_manifest_metadata_file = \"$(METADATA_DIR)/hmp_manifest_metadata_1aea37e4ff.tsv\""
   ]
  },
  {
   "cell_type": "code",
   "execution_count": 8,
   "metadata": {},
   "outputs": [],
   "source": [
    "import uCSV"
   ]
  },
  {
   "cell_type": "code",
   "execution_count": 9,
   "metadata": {},
   "outputs": [],
   "source": [
    "import DataFrames"
   ]
  },
  {
   "cell_type": "code",
   "execution_count": 10,
   "metadata": {},
   "outputs": [
    {
     "data": {
      "text/html": [
       "<table class=\"data-frame\"><thead><tr><th></th><th>file_id</th><th>md5</th><th>size</th></tr><tr><th></th><th>String</th><th>String</th><th>Int64</th></tr></thead><tbody><p>719 rows × 5 columns (omitted printing of 2 columns)</p><tr><th>1</th><td>596fc2de57601ec08a01fdee59b355cf</td><td>4d14e1e6f2fccdb96da8e9eda8b57ab5</td><td>1578638759</td></tr><tr><th>2</th><td>596fc2de57601ec08a01fdee59aac1dd</td><td>ec7f99c4e0cde99528f2b15cde98a09b</td><td>17462835</td></tr><tr><th>3</th><td>596fc2de57601ec08a01fdee59cbccc8</td><td>a9c10a312b4931c46f2fabde2eb08466</td><td>6306825384</td></tr><tr><th>4</th><td>596fc2de57601ec08a01fdee59d2699a</td><td>e241246ce3eada62542f93316109dcff</td><td>7031649766</td></tr><tr><th>5</th><td>596fc2de57601ec08a01fdee59af123b</td><td>e241246ce3eada62542f93316109dcff</td><td>37495761</td></tr><tr><th>6</th><td>596fc2de57601ec08a01fdee59f7231c</td><td>0b3188856bc47e1a9ca64d403df58f65</td><td>1028493456</td></tr><tr><th>7</th><td>596fc2de57601ec08a01fdee59b509b1</td><td>e1e617a0217514c4e4d2de1d3bda2f2c</td><td>7848634243</td></tr><tr><th>8</th><td>596fc2de57601ec08a01fdee599d44bf</td><td>edd5a1f7f4e2d3529622c935fc7c524e</td><td>51152162</td></tr><tr><th>9</th><td>596fc2de57601ec08a01fdee59b51322</td><td>edd5a1f7f4e2d3529622c935fc7c524e</td><td>9130425607</td></tr><tr><th>10</th><td>596fc2de57601ec08a01fdee59a4c74e</td><td>5bd1b98557bcbd8d78d04e4c5af882cf</td><td>42623668</td></tr><tr><th>11</th><td>596fc2de57601ec08a01fdee59c1e465</td><td>5bd1b98557bcbd8d78d04e4c5af882cf</td><td>7183549186</td></tr><tr><th>12</th><td>596fc2de57601ec08a01fdee599dbb04</td><td>d764dd5c06ea433c45075f970500edf5</td><td>27624484</td></tr><tr><th>13</th><td>596fc2de57601ec08a01fdee59b5d844</td><td>d764dd5c06ea433c45075f970500edf5</td><td>8808562205</td></tr><tr><th>14</th><td>596fc2de57601ec08a01fdee59a422a7</td><td>54a5eab82e72db2a772b297fcd526442</td><td>17018183</td></tr><tr><th>15</th><td>596fc2de57601ec08a01fdee59c06efe</td><td>54a5eab82e72db2a772b297fcd526442</td><td>5996742787</td></tr><tr><th>16</th><td>596fc2de57601ec08a01fdee59a4d509</td><td>35332f63c242a7b0093aee8dca63930c</td><td>19565398</td></tr><tr><th>17</th><td>596fc2de57601ec08a01fdee59c22585</td><td>35332f63c242a7b0093aee8dca63930c</td><td>8372215007</td></tr><tr><th>18</th><td>596fc2de57601ec08a01fdee59a3742c</td><td>641094595cd6562d09cb4f361b9b7082</td><td>43664173</td></tr><tr><th>19</th><td>596fc2de57601ec08a01fdee59bf79af</td><td>641094595cd6562d09cb4f361b9b7082</td><td>8768974280</td></tr><tr><th>20</th><td>596fc2de57601ec08a01fdee59bf69ac</td><td>0ea0c04f0abb481c5925c434a5ce0ca5</td><td>1594610218</td></tr><tr><th>21</th><td>596fc2de57601ec08a01fdee59a570f0</td><td>52cc8f42addff578b92919f7d8bd36dd</td><td>15412805</td></tr><tr><th>22</th><td>596fc2de57601ec08a01fdee59c31d45</td><td>4babe2212a88943f511e9dfee9543adc</td><td>5470771723</td></tr><tr><th>23</th><td>596fc2de57601ec08a01fdee59c2e83e</td><td>52cc8f42addff578b92919f7d8bd36dd</td><td>6360611802</td></tr><tr><th>24</th><td>596fc2de57601ec08a01fdee59b80911</td><td>be206b81370ebeb88d90369dba344154</td><td>5414215806</td></tr><tr><th>25</th><td>596fc2de57601ec08a01fdee599ebe0d</td><td>be206b81370ebeb88d90369dba344154</td><td>56289998</td></tr><tr><th>26</th><td>596fc2de57601ec08a01fdee59b191d9</td><td>ce1a93a65c1596d7d21d244ed4a28074</td><td>13034380</td></tr><tr><th>27</th><td>596fc2de57601ec08a01fdee59d8c444</td><td>ce1a93a65c1596d7d21d244ed4a28074</td><td>1471794270</td></tr><tr><th>28</th><td>596fc2de57601ec08a01fdee59c812e9</td><td>3165de23ba8195b554ec2c8966c789b9</td><td>5119709175</td></tr><tr><th>29</th><td>596fc2de57601ec08a01fdee59a86662</td><td>6b5839175e540de96a6e7045ab918147</td><td>27259539</td></tr><tr><th>30</th><td>596fc2de57601ec08a01fdee59c80229</td><td>6b5839175e540de96a6e7045ab918147</td><td>7769376975</td></tr><tr><th>&vellip;</th><td>&vellip;</td><td>&vellip;</td><td>&vellip;</td></tr></tbody></table>"
      ],
      "text/latex": [
       "\\begin{tabular}{r|cccc}\n",
       "\t& file\\_id & md5 & size & \\\\\n",
       "\t\\hline\n",
       "\t& String & String & Int64 & \\\\\n",
       "\t\\hline\n",
       "\t1 & 596fc2de57601ec08a01fdee59b355cf & 4d14e1e6f2fccdb96da8e9eda8b57ab5 & 1578638759 & $\\dots$ \\\\\n",
       "\t2 & 596fc2de57601ec08a01fdee59aac1dd & ec7f99c4e0cde99528f2b15cde98a09b & 17462835 & $\\dots$ \\\\\n",
       "\t3 & 596fc2de57601ec08a01fdee59cbccc8 & a9c10a312b4931c46f2fabde2eb08466 & 6306825384 & $\\dots$ \\\\\n",
       "\t4 & 596fc2de57601ec08a01fdee59d2699a & e241246ce3eada62542f93316109dcff & 7031649766 & $\\dots$ \\\\\n",
       "\t5 & 596fc2de57601ec08a01fdee59af123b & e241246ce3eada62542f93316109dcff & 37495761 & $\\dots$ \\\\\n",
       "\t6 & 596fc2de57601ec08a01fdee59f7231c & 0b3188856bc47e1a9ca64d403df58f65 & 1028493456 & $\\dots$ \\\\\n",
       "\t7 & 596fc2de57601ec08a01fdee59b509b1 & e1e617a0217514c4e4d2de1d3bda2f2c & 7848634243 & $\\dots$ \\\\\n",
       "\t8 & 596fc2de57601ec08a01fdee599d44bf & edd5a1f7f4e2d3529622c935fc7c524e & 51152162 & $\\dots$ \\\\\n",
       "\t9 & 596fc2de57601ec08a01fdee59b51322 & edd5a1f7f4e2d3529622c935fc7c524e & 9130425607 & $\\dots$ \\\\\n",
       "\t10 & 596fc2de57601ec08a01fdee59a4c74e & 5bd1b98557bcbd8d78d04e4c5af882cf & 42623668 & $\\dots$ \\\\\n",
       "\t11 & 596fc2de57601ec08a01fdee59c1e465 & 5bd1b98557bcbd8d78d04e4c5af882cf & 7183549186 & $\\dots$ \\\\\n",
       "\t12 & 596fc2de57601ec08a01fdee599dbb04 & d764dd5c06ea433c45075f970500edf5 & 27624484 & $\\dots$ \\\\\n",
       "\t13 & 596fc2de57601ec08a01fdee59b5d844 & d764dd5c06ea433c45075f970500edf5 & 8808562205 & $\\dots$ \\\\\n",
       "\t14 & 596fc2de57601ec08a01fdee59a422a7 & 54a5eab82e72db2a772b297fcd526442 & 17018183 & $\\dots$ \\\\\n",
       "\t15 & 596fc2de57601ec08a01fdee59c06efe & 54a5eab82e72db2a772b297fcd526442 & 5996742787 & $\\dots$ \\\\\n",
       "\t16 & 596fc2de57601ec08a01fdee59a4d509 & 35332f63c242a7b0093aee8dca63930c & 19565398 & $\\dots$ \\\\\n",
       "\t17 & 596fc2de57601ec08a01fdee59c22585 & 35332f63c242a7b0093aee8dca63930c & 8372215007 & $\\dots$ \\\\\n",
       "\t18 & 596fc2de57601ec08a01fdee59a3742c & 641094595cd6562d09cb4f361b9b7082 & 43664173 & $\\dots$ \\\\\n",
       "\t19 & 596fc2de57601ec08a01fdee59bf79af & 641094595cd6562d09cb4f361b9b7082 & 8768974280 & $\\dots$ \\\\\n",
       "\t20 & 596fc2de57601ec08a01fdee59bf69ac & 0ea0c04f0abb481c5925c434a5ce0ca5 & 1594610218 & $\\dots$ \\\\\n",
       "\t21 & 596fc2de57601ec08a01fdee59a570f0 & 52cc8f42addff578b92919f7d8bd36dd & 15412805 & $\\dots$ \\\\\n",
       "\t22 & 596fc2de57601ec08a01fdee59c31d45 & 4babe2212a88943f511e9dfee9543adc & 5470771723 & $\\dots$ \\\\\n",
       "\t23 & 596fc2de57601ec08a01fdee59c2e83e & 52cc8f42addff578b92919f7d8bd36dd & 6360611802 & $\\dots$ \\\\\n",
       "\t24 & 596fc2de57601ec08a01fdee59b80911 & be206b81370ebeb88d90369dba344154 & 5414215806 & $\\dots$ \\\\\n",
       "\t25 & 596fc2de57601ec08a01fdee599ebe0d & be206b81370ebeb88d90369dba344154 & 56289998 & $\\dots$ \\\\\n",
       "\t26 & 596fc2de57601ec08a01fdee59b191d9 & ce1a93a65c1596d7d21d244ed4a28074 & 13034380 & $\\dots$ \\\\\n",
       "\t27 & 596fc2de57601ec08a01fdee59d8c444 & ce1a93a65c1596d7d21d244ed4a28074 & 1471794270 & $\\dots$ \\\\\n",
       "\t28 & 596fc2de57601ec08a01fdee59c812e9 & 3165de23ba8195b554ec2c8966c789b9 & 5119709175 & $\\dots$ \\\\\n",
       "\t29 & 596fc2de57601ec08a01fdee59a86662 & 6b5839175e540de96a6e7045ab918147 & 27259539 & $\\dots$ \\\\\n",
       "\t30 & 596fc2de57601ec08a01fdee59c80229 & 6b5839175e540de96a6e7045ab918147 & 7769376975 & $\\dots$ \\\\\n",
       "\t$\\dots$ & $\\dots$ & $\\dots$ & $\\dots$ &  \\\\\n",
       "\\end{tabular}\n"
      ],
      "text/plain": [
       "719×5 DataFrame. Omitted printing of 3 columns\n",
       "│ Row │ file_id                          │ md5                              │\n",
       "│     │ \u001b[90mString\u001b[39m                           │ \u001b[90mString\u001b[39m                           │\n",
       "├─────┼──────────────────────────────────┼──────────────────────────────────┤\n",
       "│ 1   │ 596fc2de57601ec08a01fdee59b355cf │ 4d14e1e6f2fccdb96da8e9eda8b57ab5 │\n",
       "│ 2   │ 596fc2de57601ec08a01fdee59aac1dd │ ec7f99c4e0cde99528f2b15cde98a09b │\n",
       "│ 3   │ 596fc2de57601ec08a01fdee59cbccc8 │ a9c10a312b4931c46f2fabde2eb08466 │\n",
       "│ 4   │ 596fc2de57601ec08a01fdee59d2699a │ e241246ce3eada62542f93316109dcff │\n",
       "│ 5   │ 596fc2de57601ec08a01fdee59af123b │ e241246ce3eada62542f93316109dcff │\n",
       "│ 6   │ 596fc2de57601ec08a01fdee59f7231c │ 0b3188856bc47e1a9ca64d403df58f65 │\n",
       "│ 7   │ 596fc2de57601ec08a01fdee59b509b1 │ e1e617a0217514c4e4d2de1d3bda2f2c │\n",
       "│ 8   │ 596fc2de57601ec08a01fdee599d44bf │ edd5a1f7f4e2d3529622c935fc7c524e │\n",
       "│ 9   │ 596fc2de57601ec08a01fdee59b51322 │ edd5a1f7f4e2d3529622c935fc7c524e │\n",
       "│ 10  │ 596fc2de57601ec08a01fdee59a4c74e │ 5bd1b98557bcbd8d78d04e4c5af882cf │\n",
       "⋮\n",
       "│ 709 │ 596fc2de57601ec08a01fdee59b61fa4 │ c7b75995a20ac883e40cbdc4526d4c85 │\n",
       "│ 710 │ 596fc2de57601ec08a01fdee59b4cc46 │ 2120f45daf306352bd4e8d7d64100b19 │\n",
       "│ 711 │ 596fc2de57601ec08a01fdee59d81c08 │ 8058e7fe9de1d1d5138f08a471ab3a55 │\n",
       "│ 712 │ 596fc2de57601ec08a01fdee59be2283 │ 7539d8b013f076b9af90abdf1da5bba5 │\n",
       "│ 713 │ 596fc2de57601ec08a01fdee59e689b7 │ 9d06f5578775fb3e839663df237bde53 │\n",
       "│ 714 │ 596fc2de57601ec08a01fdee59be488b │ a27863af6485532f930d8a66789c8da6 │\n",
       "│ 715 │ 596fc2de57601ec08a01fdee59e6c094 │ c1da55c3006862cf39894a2363034a9e │\n",
       "│ 716 │ 596fc2de57601ec08a01fdee59b48ad5 │ 19c058f21b1b9cd601af29b155791347 │\n",
       "│ 717 │ 596fc2de57601ec08a01fdee59cb25e4 │ f547a3481a671e38312384fce3a7bdf0 │\n",
       "│ 718 │ 596fc2de57601ec08a01fdee59d75d00 │ f7cae120fe274a39a582855a9776c9f2 │\n",
       "│ 719 │ 596fc2de57601ec08a01fdee59ccc449 │ 2bfe7374702baa778e5eac9bf6f41ea8 │"
      ]
     },
     "execution_count": 10,
     "metadata": {},
     "output_type": "execute_result"
    }
   ],
   "source": [
    "hmp_manifest = DataFrames.DataFrame(uCSV.read(hmp_manifest_file, delim='\\t', header=1)...)"
   ]
  },
  {
   "cell_type": "code",
   "execution_count": 11,
   "metadata": {},
   "outputs": [
    {
     "data": {
      "text/html": [
       "<table class=\"data-frame\"><thead><tr><th></th><th>sample_id</th><th>subject_id</th><th>subject_uuid</th></tr><tr><th></th><th>String</th><th>Int64</th><th>String</th></tr></thead><tbody><p>719 rows × 9 columns (omitted printing of 6 columns)</p><tr><th>1</th><td>faab18e1a137731cffda8825601f2494</td><td>158155345</td><td>faab18e1a137731cffda882560003f87</td></tr><tr><th>2</th><td>faab18e1a137731cffda88256074d4c8</td><td>370425937</td><td>faab18e1a137731cffda88256004c73e</td></tr><tr><th>3</th><td>faab18e1a137731cffda88256074d4c8</td><td>370425937</td><td>faab18e1a137731cffda88256004c73e</td></tr><tr><th>4</th><td>faab18e1a137731cffda88256095a055</td><td>764447348</td><td>faab18e1a137731cffda882560078dfb</td></tr><tr><th>5</th><td>faab18e1a137731cffda88256095a055</td><td>764447348</td><td>faab18e1a137731cffda882560078dfb</td></tr><tr><th>6</th><td>596fc2de57601ec08a01fdee59357d78</td><td>147406386</td><td>faab18e1a137731cffda8825600012e8</td></tr><tr><th>7</th><td>faab18e1a137731cffda88256020fa0c</td><td>158802708</td><td>faab18e1a137731cffda88256000cbcc</td></tr><tr><th>8</th><td>faab18e1a137731cffda88256020fa0c</td><td>158802708</td><td>faab18e1a137731cffda88256000cbcc</td></tr><tr><th>9</th><td>faab18e1a137731cffda88256020fa0c</td><td>158802708</td><td>faab18e1a137731cffda88256000cbcc</td></tr><tr><th>10</th><td>faab18e1a137731cffda8825604940ed</td><td>160603188</td><td>faab18e1a137731cffda88256002d282</td></tr><tr><th>11</th><td>faab18e1a137731cffda8825604940ed</td><td>160603188</td><td>faab18e1a137731cffda88256002d282</td></tr><tr><th>12</th><td>faab18e1a137731cffda882560236d6a</td><td>159247771</td><td>faab18e1a137731cffda88256001465c</td></tr><tr><th>13</th><td>faab18e1a137731cffda882560236d6a</td><td>159247771</td><td>faab18e1a137731cffda88256001465c</td></tr><tr><th>14</th><td>faab18e1a137731cffda88256044e8b3</td><td>159510762</td><td>faab18e1a137731cffda88256001b19a</td></tr><tr><th>15</th><td>faab18e1a137731cffda88256044e8b3</td><td>159510762</td><td>faab18e1a137731cffda88256001b19a</td></tr><tr><th>16</th><td>faab18e1a137731cffda8825604ba15c</td><td>160158126</td><td>faab18e1a137731cffda88256002330b</td></tr><tr><th>17</th><td>faab18e1a137731cffda8825604ba15c</td><td>160158126</td><td>faab18e1a137731cffda88256002330b</td></tr><tr><th>18</th><td>faab18e1a137731cffda882560408347</td><td>159733294</td><td>faab18e1a137731cffda88256001df4f</td></tr><tr><th>19</th><td>faab18e1a137731cffda882560408347</td><td>159733294</td><td>faab18e1a137731cffda88256001df4f</td></tr><tr><th>20</th><td>faab18e1a137731cffda882560408347</td><td>159733294</td><td>faab18e1a137731cffda88256001df4f</td></tr><tr><th>21</th><td>faab18e1a137731cffda8825604f2ce3</td><td>765094712</td><td>faab18e1a137731cffda882560085330</td></tr><tr><th>22</th><td>faab18e1a137731cffda8825604f2ce3</td><td>765094712</td><td>faab18e1a137731cffda882560085330</td></tr><tr><th>23</th><td>faab18e1a137731cffda8825604f2ce3</td><td>765094712</td><td>faab18e1a137731cffda882560085330</td></tr><tr><th>24</th><td>faab18e1a137731cffda8825602bb2c4</td><td>763577454</td><td>faab18e1a137731cffda88256006a2da</td></tr><tr><th>25</th><td>faab18e1a137731cffda8825602bb2c4</td><td>763577454</td><td>faab18e1a137731cffda88256006a2da</td></tr><tr><th>26</th><td>faab18e1a137731cffda882560b6695c</td><td>686765762</td><td>faab18e1a137731cffda882560062776</td></tr><tr><th>27</th><td>faab18e1a137731cffda882560b6695c</td><td>686765762</td><td>faab18e1a137731cffda882560062776</td></tr><tr><th>28</th><td>faab18e1a137731cffda8825605bede5</td><td>404239096</td><td>faab18e1a137731cffda88256004db77</td></tr><tr><th>29</th><td>faab18e1a137731cffda8825605bede5</td><td>404239096</td><td>faab18e1a137731cffda88256004db77</td></tr><tr><th>30</th><td>faab18e1a137731cffda8825605bede5</td><td>404239096</td><td>faab18e1a137731cffda88256004db77</td></tr><tr><th>&vellip;</th><td>&vellip;</td><td>&vellip;</td><td>&vellip;</td></tr></tbody></table>"
      ],
      "text/latex": [
       "\\begin{tabular}{r|cccc}\n",
       "\t& sample\\_id & subject\\_id & subject\\_uuid & \\\\\n",
       "\t\\hline\n",
       "\t& String & Int64 & String & \\\\\n",
       "\t\\hline\n",
       "\t1 & faab18e1a137731cffda8825601f2494 & 158155345 & faab18e1a137731cffda882560003f87 & $\\dots$ \\\\\n",
       "\t2 & faab18e1a137731cffda88256074d4c8 & 370425937 & faab18e1a137731cffda88256004c73e & $\\dots$ \\\\\n",
       "\t3 & faab18e1a137731cffda88256074d4c8 & 370425937 & faab18e1a137731cffda88256004c73e & $\\dots$ \\\\\n",
       "\t4 & faab18e1a137731cffda88256095a055 & 764447348 & faab18e1a137731cffda882560078dfb & $\\dots$ \\\\\n",
       "\t5 & faab18e1a137731cffda88256095a055 & 764447348 & faab18e1a137731cffda882560078dfb & $\\dots$ \\\\\n",
       "\t6 & 596fc2de57601ec08a01fdee59357d78 & 147406386 & faab18e1a137731cffda8825600012e8 & $\\dots$ \\\\\n",
       "\t7 & faab18e1a137731cffda88256020fa0c & 158802708 & faab18e1a137731cffda88256000cbcc & $\\dots$ \\\\\n",
       "\t8 & faab18e1a137731cffda88256020fa0c & 158802708 & faab18e1a137731cffda88256000cbcc & $\\dots$ \\\\\n",
       "\t9 & faab18e1a137731cffda88256020fa0c & 158802708 & faab18e1a137731cffda88256000cbcc & $\\dots$ \\\\\n",
       "\t10 & faab18e1a137731cffda8825604940ed & 160603188 & faab18e1a137731cffda88256002d282 & $\\dots$ \\\\\n",
       "\t11 & faab18e1a137731cffda8825604940ed & 160603188 & faab18e1a137731cffda88256002d282 & $\\dots$ \\\\\n",
       "\t12 & faab18e1a137731cffda882560236d6a & 159247771 & faab18e1a137731cffda88256001465c & $\\dots$ \\\\\n",
       "\t13 & faab18e1a137731cffda882560236d6a & 159247771 & faab18e1a137731cffda88256001465c & $\\dots$ \\\\\n",
       "\t14 & faab18e1a137731cffda88256044e8b3 & 159510762 & faab18e1a137731cffda88256001b19a & $\\dots$ \\\\\n",
       "\t15 & faab18e1a137731cffda88256044e8b3 & 159510762 & faab18e1a137731cffda88256001b19a & $\\dots$ \\\\\n",
       "\t16 & faab18e1a137731cffda8825604ba15c & 160158126 & faab18e1a137731cffda88256002330b & $\\dots$ \\\\\n",
       "\t17 & faab18e1a137731cffda8825604ba15c & 160158126 & faab18e1a137731cffda88256002330b & $\\dots$ \\\\\n",
       "\t18 & faab18e1a137731cffda882560408347 & 159733294 & faab18e1a137731cffda88256001df4f & $\\dots$ \\\\\n",
       "\t19 & faab18e1a137731cffda882560408347 & 159733294 & faab18e1a137731cffda88256001df4f & $\\dots$ \\\\\n",
       "\t20 & faab18e1a137731cffda882560408347 & 159733294 & faab18e1a137731cffda88256001df4f & $\\dots$ \\\\\n",
       "\t21 & faab18e1a137731cffda8825604f2ce3 & 765094712 & faab18e1a137731cffda882560085330 & $\\dots$ \\\\\n",
       "\t22 & faab18e1a137731cffda8825604f2ce3 & 765094712 & faab18e1a137731cffda882560085330 & $\\dots$ \\\\\n",
       "\t23 & faab18e1a137731cffda8825604f2ce3 & 765094712 & faab18e1a137731cffda882560085330 & $\\dots$ \\\\\n",
       "\t24 & faab18e1a137731cffda8825602bb2c4 & 763577454 & faab18e1a137731cffda88256006a2da & $\\dots$ \\\\\n",
       "\t25 & faab18e1a137731cffda8825602bb2c4 & 763577454 & faab18e1a137731cffda88256006a2da & $\\dots$ \\\\\n",
       "\t26 & faab18e1a137731cffda882560b6695c & 686765762 & faab18e1a137731cffda882560062776 & $\\dots$ \\\\\n",
       "\t27 & faab18e1a137731cffda882560b6695c & 686765762 & faab18e1a137731cffda882560062776 & $\\dots$ \\\\\n",
       "\t28 & faab18e1a137731cffda8825605bede5 & 404239096 & faab18e1a137731cffda88256004db77 & $\\dots$ \\\\\n",
       "\t29 & faab18e1a137731cffda8825605bede5 & 404239096 & faab18e1a137731cffda88256004db77 & $\\dots$ \\\\\n",
       "\t30 & faab18e1a137731cffda8825605bede5 & 404239096 & faab18e1a137731cffda88256004db77 & $\\dots$ \\\\\n",
       "\t$\\dots$ & $\\dots$ & $\\dots$ & $\\dots$ &  \\\\\n",
       "\\end{tabular}\n"
      ],
      "text/plain": [
       "719×9 DataFrame. Omitted printing of 7 columns\n",
       "│ Row │ sample_id                        │ subject_id │\n",
       "│     │ \u001b[90mString\u001b[39m                           │ \u001b[90mInt64\u001b[39m      │\n",
       "├─────┼──────────────────────────────────┼────────────┤\n",
       "│ 1   │ faab18e1a137731cffda8825601f2494 │ 158155345  │\n",
       "│ 2   │ faab18e1a137731cffda88256074d4c8 │ 370425937  │\n",
       "│ 3   │ faab18e1a137731cffda88256074d4c8 │ 370425937  │\n",
       "│ 4   │ faab18e1a137731cffda88256095a055 │ 764447348  │\n",
       "│ 5   │ faab18e1a137731cffda88256095a055 │ 764447348  │\n",
       "│ 6   │ 596fc2de57601ec08a01fdee59357d78 │ 147406386  │\n",
       "│ 7   │ faab18e1a137731cffda88256020fa0c │ 158802708  │\n",
       "│ 8   │ faab18e1a137731cffda88256020fa0c │ 158802708  │\n",
       "│ 9   │ faab18e1a137731cffda88256020fa0c │ 158802708  │\n",
       "│ 10  │ faab18e1a137731cffda8825604940ed │ 160603188  │\n",
       "⋮\n",
       "│ 709 │ faab18e1a137731cffda882560264252 │ 159227541  │\n",
       "│ 710 │ faab18e1a137731cffda88256020d394 │ 158742018  │\n",
       "│ 711 │ faab18e1a137731cffda882560b02573 │ 161412393  │\n",
       "│ 712 │ faab18e1a137731cffda8825603d5e85 │ 159429842  │\n",
       "│ 713 │ faab18e1a137731cffda882560f500bb │ 604812005  │\n",
       "│ 714 │ faab18e1a137731cffda8825603df6ff │ 159753524  │\n",
       "│ 715 │ faab18e1a137731cffda882560f54fda │ 638754422  │\n",
       "│ 716 │ faab18e1a137731cffda88256020a528 │ 158883629  │\n",
       "│ 717 │ faab18e1a137731cffda8825606fbc6b │ 638754422  │\n",
       "│ 718 │ faab18e1a137731cffda882560aa661f │ 638754422  │\n",
       "│ 719 │ faab18e1a137731cffda8825607e02a5 │ 158883629  │"
      ]
     },
     "execution_count": 11,
     "metadata": {},
     "output_type": "execute_result"
    }
   ],
   "source": [
    "hmp_manifest_metadata = DataFrames.DataFrame(uCSV.read(hmp_manifest_metadata_file, delim='\\t', header=1)...)"
   ]
  },
  {
   "cell_type": "code",
   "execution_count": 12,
   "metadata": {},
   "outputs": [
    {
     "data": {
      "text/html": [
       "<table class=\"data-frame\"><thead><tr><th></th><th>file_id</th><th>md5</th><th>size</th></tr><tr><th></th><th>String</th><th>String</th><th>Int64</th></tr></thead><tbody><p>719 rows × 5 columns (omitted printing of 2 columns)</p><tr><th>1</th><td>596fc2de57601ec08a01fdee59b355cf</td><td>4d14e1e6f2fccdb96da8e9eda8b57ab5</td><td>1578638759</td></tr><tr><th>2</th><td>596fc2de57601ec08a01fdee59aac1dd</td><td>ec7f99c4e0cde99528f2b15cde98a09b</td><td>17462835</td></tr><tr><th>3</th><td>596fc2de57601ec08a01fdee59cbccc8</td><td>a9c10a312b4931c46f2fabde2eb08466</td><td>6306825384</td></tr><tr><th>4</th><td>596fc2de57601ec08a01fdee59d2699a</td><td>e241246ce3eada62542f93316109dcff</td><td>7031649766</td></tr><tr><th>5</th><td>596fc2de57601ec08a01fdee59af123b</td><td>e241246ce3eada62542f93316109dcff</td><td>37495761</td></tr><tr><th>6</th><td>596fc2de57601ec08a01fdee59f7231c</td><td>0b3188856bc47e1a9ca64d403df58f65</td><td>1028493456</td></tr><tr><th>7</th><td>596fc2de57601ec08a01fdee59b509b1</td><td>e1e617a0217514c4e4d2de1d3bda2f2c</td><td>7848634243</td></tr><tr><th>8</th><td>596fc2de57601ec08a01fdee599d44bf</td><td>edd5a1f7f4e2d3529622c935fc7c524e</td><td>51152162</td></tr><tr><th>9</th><td>596fc2de57601ec08a01fdee59b51322</td><td>edd5a1f7f4e2d3529622c935fc7c524e</td><td>9130425607</td></tr><tr><th>10</th><td>596fc2de57601ec08a01fdee59a4c74e</td><td>5bd1b98557bcbd8d78d04e4c5af882cf</td><td>42623668</td></tr><tr><th>11</th><td>596fc2de57601ec08a01fdee59c1e465</td><td>5bd1b98557bcbd8d78d04e4c5af882cf</td><td>7183549186</td></tr><tr><th>12</th><td>596fc2de57601ec08a01fdee599dbb04</td><td>d764dd5c06ea433c45075f970500edf5</td><td>27624484</td></tr><tr><th>13</th><td>596fc2de57601ec08a01fdee59b5d844</td><td>d764dd5c06ea433c45075f970500edf5</td><td>8808562205</td></tr><tr><th>14</th><td>596fc2de57601ec08a01fdee59a422a7</td><td>54a5eab82e72db2a772b297fcd526442</td><td>17018183</td></tr><tr><th>15</th><td>596fc2de57601ec08a01fdee59c06efe</td><td>54a5eab82e72db2a772b297fcd526442</td><td>5996742787</td></tr><tr><th>16</th><td>596fc2de57601ec08a01fdee59a4d509</td><td>35332f63c242a7b0093aee8dca63930c</td><td>19565398</td></tr><tr><th>17</th><td>596fc2de57601ec08a01fdee59c22585</td><td>35332f63c242a7b0093aee8dca63930c</td><td>8372215007</td></tr><tr><th>18</th><td>596fc2de57601ec08a01fdee59a3742c</td><td>641094595cd6562d09cb4f361b9b7082</td><td>43664173</td></tr><tr><th>19</th><td>596fc2de57601ec08a01fdee59bf79af</td><td>641094595cd6562d09cb4f361b9b7082</td><td>8768974280</td></tr><tr><th>20</th><td>596fc2de57601ec08a01fdee59bf69ac</td><td>0ea0c04f0abb481c5925c434a5ce0ca5</td><td>1594610218</td></tr><tr><th>21</th><td>596fc2de57601ec08a01fdee59a570f0</td><td>52cc8f42addff578b92919f7d8bd36dd</td><td>15412805</td></tr><tr><th>22</th><td>596fc2de57601ec08a01fdee59c31d45</td><td>4babe2212a88943f511e9dfee9543adc</td><td>5470771723</td></tr><tr><th>23</th><td>596fc2de57601ec08a01fdee59c2e83e</td><td>52cc8f42addff578b92919f7d8bd36dd</td><td>6360611802</td></tr><tr><th>24</th><td>596fc2de57601ec08a01fdee59b80911</td><td>be206b81370ebeb88d90369dba344154</td><td>5414215806</td></tr><tr><th>25</th><td>596fc2de57601ec08a01fdee599ebe0d</td><td>be206b81370ebeb88d90369dba344154</td><td>56289998</td></tr><tr><th>26</th><td>596fc2de57601ec08a01fdee59b191d9</td><td>ce1a93a65c1596d7d21d244ed4a28074</td><td>13034380</td></tr><tr><th>27</th><td>596fc2de57601ec08a01fdee59d8c444</td><td>ce1a93a65c1596d7d21d244ed4a28074</td><td>1471794270</td></tr><tr><th>28</th><td>596fc2de57601ec08a01fdee59c812e9</td><td>3165de23ba8195b554ec2c8966c789b9</td><td>5119709175</td></tr><tr><th>29</th><td>596fc2de57601ec08a01fdee59a86662</td><td>6b5839175e540de96a6e7045ab918147</td><td>27259539</td></tr><tr><th>30</th><td>596fc2de57601ec08a01fdee59c80229</td><td>6b5839175e540de96a6e7045ab918147</td><td>7769376975</td></tr><tr><th>&vellip;</th><td>&vellip;</td><td>&vellip;</td><td>&vellip;</td></tr></tbody></table>"
      ],
      "text/latex": [
       "\\begin{tabular}{r|cccc}\n",
       "\t& file\\_id & md5 & size & \\\\\n",
       "\t\\hline\n",
       "\t& String & String & Int64 & \\\\\n",
       "\t\\hline\n",
       "\t1 & 596fc2de57601ec08a01fdee59b355cf & 4d14e1e6f2fccdb96da8e9eda8b57ab5 & 1578638759 & $\\dots$ \\\\\n",
       "\t2 & 596fc2de57601ec08a01fdee59aac1dd & ec7f99c4e0cde99528f2b15cde98a09b & 17462835 & $\\dots$ \\\\\n",
       "\t3 & 596fc2de57601ec08a01fdee59cbccc8 & a9c10a312b4931c46f2fabde2eb08466 & 6306825384 & $\\dots$ \\\\\n",
       "\t4 & 596fc2de57601ec08a01fdee59d2699a & e241246ce3eada62542f93316109dcff & 7031649766 & $\\dots$ \\\\\n",
       "\t5 & 596fc2de57601ec08a01fdee59af123b & e241246ce3eada62542f93316109dcff & 37495761 & $\\dots$ \\\\\n",
       "\t6 & 596fc2de57601ec08a01fdee59f7231c & 0b3188856bc47e1a9ca64d403df58f65 & 1028493456 & $\\dots$ \\\\\n",
       "\t7 & 596fc2de57601ec08a01fdee59b509b1 & e1e617a0217514c4e4d2de1d3bda2f2c & 7848634243 & $\\dots$ \\\\\n",
       "\t8 & 596fc2de57601ec08a01fdee599d44bf & edd5a1f7f4e2d3529622c935fc7c524e & 51152162 & $\\dots$ \\\\\n",
       "\t9 & 596fc2de57601ec08a01fdee59b51322 & edd5a1f7f4e2d3529622c935fc7c524e & 9130425607 & $\\dots$ \\\\\n",
       "\t10 & 596fc2de57601ec08a01fdee59a4c74e & 5bd1b98557bcbd8d78d04e4c5af882cf & 42623668 & $\\dots$ \\\\\n",
       "\t11 & 596fc2de57601ec08a01fdee59c1e465 & 5bd1b98557bcbd8d78d04e4c5af882cf & 7183549186 & $\\dots$ \\\\\n",
       "\t12 & 596fc2de57601ec08a01fdee599dbb04 & d764dd5c06ea433c45075f970500edf5 & 27624484 & $\\dots$ \\\\\n",
       "\t13 & 596fc2de57601ec08a01fdee59b5d844 & d764dd5c06ea433c45075f970500edf5 & 8808562205 & $\\dots$ \\\\\n",
       "\t14 & 596fc2de57601ec08a01fdee59a422a7 & 54a5eab82e72db2a772b297fcd526442 & 17018183 & $\\dots$ \\\\\n",
       "\t15 & 596fc2de57601ec08a01fdee59c06efe & 54a5eab82e72db2a772b297fcd526442 & 5996742787 & $\\dots$ \\\\\n",
       "\t16 & 596fc2de57601ec08a01fdee59a4d509 & 35332f63c242a7b0093aee8dca63930c & 19565398 & $\\dots$ \\\\\n",
       "\t17 & 596fc2de57601ec08a01fdee59c22585 & 35332f63c242a7b0093aee8dca63930c & 8372215007 & $\\dots$ \\\\\n",
       "\t18 & 596fc2de57601ec08a01fdee59a3742c & 641094595cd6562d09cb4f361b9b7082 & 43664173 & $\\dots$ \\\\\n",
       "\t19 & 596fc2de57601ec08a01fdee59bf79af & 641094595cd6562d09cb4f361b9b7082 & 8768974280 & $\\dots$ \\\\\n",
       "\t20 & 596fc2de57601ec08a01fdee59bf69ac & 0ea0c04f0abb481c5925c434a5ce0ca5 & 1594610218 & $\\dots$ \\\\\n",
       "\t21 & 596fc2de57601ec08a01fdee59a570f0 & 52cc8f42addff578b92919f7d8bd36dd & 15412805 & $\\dots$ \\\\\n",
       "\t22 & 596fc2de57601ec08a01fdee59c31d45 & 4babe2212a88943f511e9dfee9543adc & 5470771723 & $\\dots$ \\\\\n",
       "\t23 & 596fc2de57601ec08a01fdee59c2e83e & 52cc8f42addff578b92919f7d8bd36dd & 6360611802 & $\\dots$ \\\\\n",
       "\t24 & 596fc2de57601ec08a01fdee59b80911 & be206b81370ebeb88d90369dba344154 & 5414215806 & $\\dots$ \\\\\n",
       "\t25 & 596fc2de57601ec08a01fdee599ebe0d & be206b81370ebeb88d90369dba344154 & 56289998 & $\\dots$ \\\\\n",
       "\t26 & 596fc2de57601ec08a01fdee59b191d9 & ce1a93a65c1596d7d21d244ed4a28074 & 13034380 & $\\dots$ \\\\\n",
       "\t27 & 596fc2de57601ec08a01fdee59d8c444 & ce1a93a65c1596d7d21d244ed4a28074 & 1471794270 & $\\dots$ \\\\\n",
       "\t28 & 596fc2de57601ec08a01fdee59c812e9 & 3165de23ba8195b554ec2c8966c789b9 & 5119709175 & $\\dots$ \\\\\n",
       "\t29 & 596fc2de57601ec08a01fdee59a86662 & 6b5839175e540de96a6e7045ab918147 & 27259539 & $\\dots$ \\\\\n",
       "\t30 & 596fc2de57601ec08a01fdee59c80229 & 6b5839175e540de96a6e7045ab918147 & 7769376975 & $\\dots$ \\\\\n",
       "\t$\\dots$ & $\\dots$ & $\\dots$ & $\\dots$ &  \\\\\n",
       "\\end{tabular}\n"
      ],
      "text/plain": [
       "719×5 DataFrame. Omitted printing of 3 columns\n",
       "│ Row │ file_id                          │ md5                              │\n",
       "│     │ \u001b[90mString\u001b[39m                           │ \u001b[90mString\u001b[39m                           │\n",
       "├─────┼──────────────────────────────────┼──────────────────────────────────┤\n",
       "│ 1   │ 596fc2de57601ec08a01fdee59b355cf │ 4d14e1e6f2fccdb96da8e9eda8b57ab5 │\n",
       "│ 2   │ 596fc2de57601ec08a01fdee59aac1dd │ ec7f99c4e0cde99528f2b15cde98a09b │\n",
       "│ 3   │ 596fc2de57601ec08a01fdee59cbccc8 │ a9c10a312b4931c46f2fabde2eb08466 │\n",
       "│ 4   │ 596fc2de57601ec08a01fdee59d2699a │ e241246ce3eada62542f93316109dcff │\n",
       "│ 5   │ 596fc2de57601ec08a01fdee59af123b │ e241246ce3eada62542f93316109dcff │\n",
       "│ 6   │ 596fc2de57601ec08a01fdee59f7231c │ 0b3188856bc47e1a9ca64d403df58f65 │\n",
       "│ 7   │ 596fc2de57601ec08a01fdee59b509b1 │ e1e617a0217514c4e4d2de1d3bda2f2c │\n",
       "│ 8   │ 596fc2de57601ec08a01fdee599d44bf │ edd5a1f7f4e2d3529622c935fc7c524e │\n",
       "│ 9   │ 596fc2de57601ec08a01fdee59b51322 │ edd5a1f7f4e2d3529622c935fc7c524e │\n",
       "│ 10  │ 596fc2de57601ec08a01fdee59a4c74e │ 5bd1b98557bcbd8d78d04e4c5af882cf │\n",
       "⋮\n",
       "│ 709 │ 596fc2de57601ec08a01fdee59b61fa4 │ c7b75995a20ac883e40cbdc4526d4c85 │\n",
       "│ 710 │ 596fc2de57601ec08a01fdee59b4cc46 │ 2120f45daf306352bd4e8d7d64100b19 │\n",
       "│ 711 │ 596fc2de57601ec08a01fdee59d81c08 │ 8058e7fe9de1d1d5138f08a471ab3a55 │\n",
       "│ 712 │ 596fc2de57601ec08a01fdee59be2283 │ 7539d8b013f076b9af90abdf1da5bba5 │\n",
       "│ 713 │ 596fc2de57601ec08a01fdee59e689b7 │ 9d06f5578775fb3e839663df237bde53 │\n",
       "│ 714 │ 596fc2de57601ec08a01fdee59be488b │ a27863af6485532f930d8a66789c8da6 │\n",
       "│ 715 │ 596fc2de57601ec08a01fdee59e6c094 │ c1da55c3006862cf39894a2363034a9e │\n",
       "│ 716 │ 596fc2de57601ec08a01fdee59b48ad5 │ 19c058f21b1b9cd601af29b155791347 │\n",
       "│ 717 │ 596fc2de57601ec08a01fdee59cb25e4 │ f547a3481a671e38312384fce3a7bdf0 │\n",
       "│ 718 │ 596fc2de57601ec08a01fdee59d75d00 │ f7cae120fe274a39a582855a9776c9f2 │\n",
       "│ 719 │ 596fc2de57601ec08a01fdee59ccc449 │ 2bfe7374702baa778e5eac9bf6f41ea8 │"
      ]
     },
     "execution_count": 12,
     "metadata": {},
     "output_type": "execute_result"
    }
   ],
   "source": [
    "unique!(hmp_manifest)"
   ]
  },
  {
   "cell_type": "code",
   "execution_count": 13,
   "metadata": {},
   "outputs": [
    {
     "data": {
      "text/html": [
       "<table class=\"data-frame\"><thead><tr><th></th><th>sample_id</th><th>subject_id</th><th>subject_uuid</th></tr><tr><th></th><th>String</th><th>Int64</th><th>String</th></tr></thead><tbody><p>504 rows × 9 columns (omitted printing of 6 columns)</p><tr><th>1</th><td>faab18e1a137731cffda8825601f2494</td><td>158155345</td><td>faab18e1a137731cffda882560003f87</td></tr><tr><th>2</th><td>faab18e1a137731cffda88256074d4c8</td><td>370425937</td><td>faab18e1a137731cffda88256004c73e</td></tr><tr><th>3</th><td>faab18e1a137731cffda88256095a055</td><td>764447348</td><td>faab18e1a137731cffda882560078dfb</td></tr><tr><th>4</th><td>596fc2de57601ec08a01fdee59357d78</td><td>147406386</td><td>faab18e1a137731cffda8825600012e8</td></tr><tr><th>5</th><td>faab18e1a137731cffda88256020fa0c</td><td>158802708</td><td>faab18e1a137731cffda88256000cbcc</td></tr><tr><th>6</th><td>faab18e1a137731cffda8825604940ed</td><td>160603188</td><td>faab18e1a137731cffda88256002d282</td></tr><tr><th>7</th><td>faab18e1a137731cffda882560236d6a</td><td>159247771</td><td>faab18e1a137731cffda88256001465c</td></tr><tr><th>8</th><td>faab18e1a137731cffda88256044e8b3</td><td>159510762</td><td>faab18e1a137731cffda88256001b19a</td></tr><tr><th>9</th><td>faab18e1a137731cffda8825604ba15c</td><td>160158126</td><td>faab18e1a137731cffda88256002330b</td></tr><tr><th>10</th><td>faab18e1a137731cffda882560408347</td><td>159733294</td><td>faab18e1a137731cffda88256001df4f</td></tr><tr><th>11</th><td>faab18e1a137731cffda8825604f2ce3</td><td>765094712</td><td>faab18e1a137731cffda882560085330</td></tr><tr><th>12</th><td>faab18e1a137731cffda8825602bb2c4</td><td>763577454</td><td>faab18e1a137731cffda88256006a2da</td></tr><tr><th>13</th><td>faab18e1a137731cffda882560b6695c</td><td>686765762</td><td>faab18e1a137731cffda882560062776</td></tr><tr><th>14</th><td>faab18e1a137731cffda8825605bede5</td><td>404239096</td><td>faab18e1a137731cffda88256004db77</td></tr><tr><th>15</th><td>faab18e1a137731cffda882560840370</td><td>159571453</td><td>faab18e1a137731cffda88256001be7d</td></tr><tr><th>16</th><td>faab18e1a137731cffda882560470e96</td><td>160502038</td><td>faab18e1a137731cffda88256002ba12</td></tr><tr><th>17</th><td>faab18e1a137731cffda882560788abb</td><td>158924089</td><td>faab18e1a137731cffda88256000e362</td></tr><tr><th>18</th><td>faab18e1a137731cffda882560226ddc</td><td>159369152</td><td>faab18e1a137731cffda882560017cd5</td></tr><tr><th>19</th><td>faab18e1a137731cffda8825609a5f46</td><td>338793263</td><td>faab18e1a137731cffda8825600486c6</td></tr><tr><th>20</th><td>faab18e1a137731cffda882560464cc1</td><td>160319967</td><td>faab18e1a137731cffda8825600261ea</td></tr><tr><th>21</th><td>faab18e1a137731cffda882560c78425</td><td>763840445</td><td>faab18e1a137731cffda88256006dda2</td></tr><tr><th>22</th><td>faab18e1a137731cffda88256059e68f</td><td>764892411</td><td>faab18e1a137731cffda882560082081</td></tr><tr><th>23</th><td>faab18e1a137731cffda8825607b8e21</td><td>158802708</td><td>faab18e1a137731cffda88256000cbcc</td></tr><tr><th>24</th><td>faab18e1a137731cffda8825609bf5f8</td><td>764224817</td><td>faab18e1a137731cffda882560074416</td></tr><tr><th>25</th><td>faab18e1a137731cffda88256025d2f7</td><td>159207311</td><td>faab18e1a137731cffda882560012baa</td></tr><tr><th>26</th><td>faab18e1a137731cffda88256045470a</td><td>159632143</td><td>faab18e1a137731cffda88256001d1f8</td></tr><tr><th>27</th><td>faab18e1a137731cffda8825604d25fe</td><td>160380657</td><td>faab18e1a137731cffda8825600274d0</td></tr><tr><th>28</th><td>faab18e1a137731cffda8825607332e5</td><td>809635352</td><td>faab18e1a137731cffda88256008f514</td></tr><tr><th>29</th><td>faab18e1a137731cffda882560836e0b</td><td>159713063</td><td>faab18e1a137731cffda88256001d840</td></tr><tr><th>30</th><td>faab18e1a137731cffda88256037c99b</td><td>764002286</td><td>faab18e1a137731cffda8825600711a4</td></tr><tr><th>&vellip;</th><td>&vellip;</td><td>&vellip;</td><td>&vellip;</td></tr></tbody></table>"
      ],
      "text/latex": [
       "\\begin{tabular}{r|cccc}\n",
       "\t& sample\\_id & subject\\_id & subject\\_uuid & \\\\\n",
       "\t\\hline\n",
       "\t& String & Int64 & String & \\\\\n",
       "\t\\hline\n",
       "\t1 & faab18e1a137731cffda8825601f2494 & 158155345 & faab18e1a137731cffda882560003f87 & $\\dots$ \\\\\n",
       "\t2 & faab18e1a137731cffda88256074d4c8 & 370425937 & faab18e1a137731cffda88256004c73e & $\\dots$ \\\\\n",
       "\t3 & faab18e1a137731cffda88256095a055 & 764447348 & faab18e1a137731cffda882560078dfb & $\\dots$ \\\\\n",
       "\t4 & 596fc2de57601ec08a01fdee59357d78 & 147406386 & faab18e1a137731cffda8825600012e8 & $\\dots$ \\\\\n",
       "\t5 & faab18e1a137731cffda88256020fa0c & 158802708 & faab18e1a137731cffda88256000cbcc & $\\dots$ \\\\\n",
       "\t6 & faab18e1a137731cffda8825604940ed & 160603188 & faab18e1a137731cffda88256002d282 & $\\dots$ \\\\\n",
       "\t7 & faab18e1a137731cffda882560236d6a & 159247771 & faab18e1a137731cffda88256001465c & $\\dots$ \\\\\n",
       "\t8 & faab18e1a137731cffda88256044e8b3 & 159510762 & faab18e1a137731cffda88256001b19a & $\\dots$ \\\\\n",
       "\t9 & faab18e1a137731cffda8825604ba15c & 160158126 & faab18e1a137731cffda88256002330b & $\\dots$ \\\\\n",
       "\t10 & faab18e1a137731cffda882560408347 & 159733294 & faab18e1a137731cffda88256001df4f & $\\dots$ \\\\\n",
       "\t11 & faab18e1a137731cffda8825604f2ce3 & 765094712 & faab18e1a137731cffda882560085330 & $\\dots$ \\\\\n",
       "\t12 & faab18e1a137731cffda8825602bb2c4 & 763577454 & faab18e1a137731cffda88256006a2da & $\\dots$ \\\\\n",
       "\t13 & faab18e1a137731cffda882560b6695c & 686765762 & faab18e1a137731cffda882560062776 & $\\dots$ \\\\\n",
       "\t14 & faab18e1a137731cffda8825605bede5 & 404239096 & faab18e1a137731cffda88256004db77 & $\\dots$ \\\\\n",
       "\t15 & faab18e1a137731cffda882560840370 & 159571453 & faab18e1a137731cffda88256001be7d & $\\dots$ \\\\\n",
       "\t16 & faab18e1a137731cffda882560470e96 & 160502038 & faab18e1a137731cffda88256002ba12 & $\\dots$ \\\\\n",
       "\t17 & faab18e1a137731cffda882560788abb & 158924089 & faab18e1a137731cffda88256000e362 & $\\dots$ \\\\\n",
       "\t18 & faab18e1a137731cffda882560226ddc & 159369152 & faab18e1a137731cffda882560017cd5 & $\\dots$ \\\\\n",
       "\t19 & faab18e1a137731cffda8825609a5f46 & 338793263 & faab18e1a137731cffda8825600486c6 & $\\dots$ \\\\\n",
       "\t20 & faab18e1a137731cffda882560464cc1 & 160319967 & faab18e1a137731cffda8825600261ea & $\\dots$ \\\\\n",
       "\t21 & faab18e1a137731cffda882560c78425 & 763840445 & faab18e1a137731cffda88256006dda2 & $\\dots$ \\\\\n",
       "\t22 & faab18e1a137731cffda88256059e68f & 764892411 & faab18e1a137731cffda882560082081 & $\\dots$ \\\\\n",
       "\t23 & faab18e1a137731cffda8825607b8e21 & 158802708 & faab18e1a137731cffda88256000cbcc & $\\dots$ \\\\\n",
       "\t24 & faab18e1a137731cffda8825609bf5f8 & 764224817 & faab18e1a137731cffda882560074416 & $\\dots$ \\\\\n",
       "\t25 & faab18e1a137731cffda88256025d2f7 & 159207311 & faab18e1a137731cffda882560012baa & $\\dots$ \\\\\n",
       "\t26 & faab18e1a137731cffda88256045470a & 159632143 & faab18e1a137731cffda88256001d1f8 & $\\dots$ \\\\\n",
       "\t27 & faab18e1a137731cffda8825604d25fe & 160380657 & faab18e1a137731cffda8825600274d0 & $\\dots$ \\\\\n",
       "\t28 & faab18e1a137731cffda8825607332e5 & 809635352 & faab18e1a137731cffda88256008f514 & $\\dots$ \\\\\n",
       "\t29 & faab18e1a137731cffda882560836e0b & 159713063 & faab18e1a137731cffda88256001d840 & $\\dots$ \\\\\n",
       "\t30 & faab18e1a137731cffda88256037c99b & 764002286 & faab18e1a137731cffda8825600711a4 & $\\dots$ \\\\\n",
       "\t$\\dots$ & $\\dots$ & $\\dots$ & $\\dots$ &  \\\\\n",
       "\\end{tabular}\n"
      ],
      "text/plain": [
       "504×9 DataFrame. Omitted printing of 7 columns\n",
       "│ Row │ sample_id                        │ subject_id │\n",
       "│     │ \u001b[90mString\u001b[39m                           │ \u001b[90mInt64\u001b[39m      │\n",
       "├─────┼──────────────────────────────────┼────────────┤\n",
       "│ 1   │ faab18e1a137731cffda8825601f2494 │ 158155345  │\n",
       "│ 2   │ faab18e1a137731cffda88256074d4c8 │ 370425937  │\n",
       "│ 3   │ faab18e1a137731cffda88256095a055 │ 764447348  │\n",
       "│ 4   │ 596fc2de57601ec08a01fdee59357d78 │ 147406386  │\n",
       "│ 5   │ faab18e1a137731cffda88256020fa0c │ 158802708  │\n",
       "│ 6   │ faab18e1a137731cffda8825604940ed │ 160603188  │\n",
       "│ 7   │ faab18e1a137731cffda882560236d6a │ 159247771  │\n",
       "│ 8   │ faab18e1a137731cffda88256044e8b3 │ 159510762  │\n",
       "│ 9   │ faab18e1a137731cffda8825604ba15c │ 160158126  │\n",
       "│ 10  │ faab18e1a137731cffda882560408347 │ 159733294  │\n",
       "⋮\n",
       "│ 494 │ faab18e1a137731cffda882560264252 │ 159227541  │\n",
       "│ 495 │ faab18e1a137731cffda88256020d394 │ 158742018  │\n",
       "│ 496 │ faab18e1a137731cffda882560b02573 │ 161412393  │\n",
       "│ 497 │ faab18e1a137731cffda8825603d5e85 │ 159429842  │\n",
       "│ 498 │ faab18e1a137731cffda882560f500bb │ 604812005  │\n",
       "│ 499 │ faab18e1a137731cffda8825603df6ff │ 159753524  │\n",
       "│ 500 │ faab18e1a137731cffda882560f54fda │ 638754422  │\n",
       "│ 501 │ faab18e1a137731cffda88256020a528 │ 158883629  │\n",
       "│ 502 │ faab18e1a137731cffda8825606fbc6b │ 638754422  │\n",
       "│ 503 │ faab18e1a137731cffda882560aa661f │ 638754422  │\n",
       "│ 504 │ faab18e1a137731cffda8825607e02a5 │ 158883629  │"
      ]
     },
     "execution_count": 13,
     "metadata": {},
     "output_type": "execute_result"
    }
   ],
   "source": [
    "unique!(hmp_manifest_metadata)"
   ]
  },
  {
   "cell_type": "code",
   "execution_count": 16,
   "metadata": {},
   "outputs": [
    {
     "data": {
      "text/html": [
       "<table class=\"data-frame\"><thead><tr><th></th><th>sample_id</th><th>subject_id</th><th>subject_uuid</th></tr><tr><th></th><th>String</th><th>Int64</th><th>String</th></tr></thead><tbody><p>719 rows × 13 columns (omitted printing of 10 columns)</p><tr><th>1</th><td>faab18e1a137731cffda8825601f2494</td><td>158155345</td><td>faab18e1a137731cffda882560003f87</td></tr><tr><th>2</th><td>faab18e1a137731cffda88256074d4c8</td><td>370425937</td><td>faab18e1a137731cffda88256004c73e</td></tr><tr><th>3</th><td>faab18e1a137731cffda88256074d4c8</td><td>370425937</td><td>faab18e1a137731cffda88256004c73e</td></tr><tr><th>4</th><td>faab18e1a137731cffda88256095a055</td><td>764447348</td><td>faab18e1a137731cffda882560078dfb</td></tr><tr><th>5</th><td>faab18e1a137731cffda88256095a055</td><td>764447348</td><td>faab18e1a137731cffda882560078dfb</td></tr><tr><th>6</th><td>596fc2de57601ec08a01fdee59357d78</td><td>147406386</td><td>faab18e1a137731cffda8825600012e8</td></tr><tr><th>7</th><td>faab18e1a137731cffda88256020fa0c</td><td>158802708</td><td>faab18e1a137731cffda88256000cbcc</td></tr><tr><th>8</th><td>faab18e1a137731cffda88256020fa0c</td><td>158802708</td><td>faab18e1a137731cffda88256000cbcc</td></tr><tr><th>9</th><td>faab18e1a137731cffda88256020fa0c</td><td>158802708</td><td>faab18e1a137731cffda88256000cbcc</td></tr><tr><th>10</th><td>faab18e1a137731cffda8825604940ed</td><td>160603188</td><td>faab18e1a137731cffda88256002d282</td></tr><tr><th>11</th><td>faab18e1a137731cffda8825604940ed</td><td>160603188</td><td>faab18e1a137731cffda88256002d282</td></tr><tr><th>12</th><td>faab18e1a137731cffda882560236d6a</td><td>159247771</td><td>faab18e1a137731cffda88256001465c</td></tr><tr><th>13</th><td>faab18e1a137731cffda882560236d6a</td><td>159247771</td><td>faab18e1a137731cffda88256001465c</td></tr><tr><th>14</th><td>faab18e1a137731cffda88256044e8b3</td><td>159510762</td><td>faab18e1a137731cffda88256001b19a</td></tr><tr><th>15</th><td>faab18e1a137731cffda88256044e8b3</td><td>159510762</td><td>faab18e1a137731cffda88256001b19a</td></tr><tr><th>16</th><td>faab18e1a137731cffda8825604ba15c</td><td>160158126</td><td>faab18e1a137731cffda88256002330b</td></tr><tr><th>17</th><td>faab18e1a137731cffda8825604ba15c</td><td>160158126</td><td>faab18e1a137731cffda88256002330b</td></tr><tr><th>18</th><td>faab18e1a137731cffda882560408347</td><td>159733294</td><td>faab18e1a137731cffda88256001df4f</td></tr><tr><th>19</th><td>faab18e1a137731cffda882560408347</td><td>159733294</td><td>faab18e1a137731cffda88256001df4f</td></tr><tr><th>20</th><td>faab18e1a137731cffda882560408347</td><td>159733294</td><td>faab18e1a137731cffda88256001df4f</td></tr><tr><th>21</th><td>faab18e1a137731cffda8825604f2ce3</td><td>765094712</td><td>faab18e1a137731cffda882560085330</td></tr><tr><th>22</th><td>faab18e1a137731cffda8825604f2ce3</td><td>765094712</td><td>faab18e1a137731cffda882560085330</td></tr><tr><th>23</th><td>faab18e1a137731cffda8825604f2ce3</td><td>765094712</td><td>faab18e1a137731cffda882560085330</td></tr><tr><th>24</th><td>faab18e1a137731cffda8825602bb2c4</td><td>763577454</td><td>faab18e1a137731cffda88256006a2da</td></tr><tr><th>25</th><td>faab18e1a137731cffda8825602bb2c4</td><td>763577454</td><td>faab18e1a137731cffda88256006a2da</td></tr><tr><th>26</th><td>faab18e1a137731cffda882560b6695c</td><td>686765762</td><td>faab18e1a137731cffda882560062776</td></tr><tr><th>27</th><td>faab18e1a137731cffda882560b6695c</td><td>686765762</td><td>faab18e1a137731cffda882560062776</td></tr><tr><th>28</th><td>faab18e1a137731cffda8825605bede5</td><td>404239096</td><td>faab18e1a137731cffda88256004db77</td></tr><tr><th>29</th><td>faab18e1a137731cffda8825605bede5</td><td>404239096</td><td>faab18e1a137731cffda88256004db77</td></tr><tr><th>30</th><td>faab18e1a137731cffda8825605bede5</td><td>404239096</td><td>faab18e1a137731cffda88256004db77</td></tr><tr><th>&vellip;</th><td>&vellip;</td><td>&vellip;</td><td>&vellip;</td></tr></tbody></table>"
      ],
      "text/latex": [
       "\\begin{tabular}{r|cccc}\n",
       "\t& sample\\_id & subject\\_id & subject\\_uuid & \\\\\n",
       "\t\\hline\n",
       "\t& String & Int64 & String & \\\\\n",
       "\t\\hline\n",
       "\t1 & faab18e1a137731cffda8825601f2494 & 158155345 & faab18e1a137731cffda882560003f87 & $\\dots$ \\\\\n",
       "\t2 & faab18e1a137731cffda88256074d4c8 & 370425937 & faab18e1a137731cffda88256004c73e & $\\dots$ \\\\\n",
       "\t3 & faab18e1a137731cffda88256074d4c8 & 370425937 & faab18e1a137731cffda88256004c73e & $\\dots$ \\\\\n",
       "\t4 & faab18e1a137731cffda88256095a055 & 764447348 & faab18e1a137731cffda882560078dfb & $\\dots$ \\\\\n",
       "\t5 & faab18e1a137731cffda88256095a055 & 764447348 & faab18e1a137731cffda882560078dfb & $\\dots$ \\\\\n",
       "\t6 & 596fc2de57601ec08a01fdee59357d78 & 147406386 & faab18e1a137731cffda8825600012e8 & $\\dots$ \\\\\n",
       "\t7 & faab18e1a137731cffda88256020fa0c & 158802708 & faab18e1a137731cffda88256000cbcc & $\\dots$ \\\\\n",
       "\t8 & faab18e1a137731cffda88256020fa0c & 158802708 & faab18e1a137731cffda88256000cbcc & $\\dots$ \\\\\n",
       "\t9 & faab18e1a137731cffda88256020fa0c & 158802708 & faab18e1a137731cffda88256000cbcc & $\\dots$ \\\\\n",
       "\t10 & faab18e1a137731cffda8825604940ed & 160603188 & faab18e1a137731cffda88256002d282 & $\\dots$ \\\\\n",
       "\t11 & faab18e1a137731cffda8825604940ed & 160603188 & faab18e1a137731cffda88256002d282 & $\\dots$ \\\\\n",
       "\t12 & faab18e1a137731cffda882560236d6a & 159247771 & faab18e1a137731cffda88256001465c & $\\dots$ \\\\\n",
       "\t13 & faab18e1a137731cffda882560236d6a & 159247771 & faab18e1a137731cffda88256001465c & $\\dots$ \\\\\n",
       "\t14 & faab18e1a137731cffda88256044e8b3 & 159510762 & faab18e1a137731cffda88256001b19a & $\\dots$ \\\\\n",
       "\t15 & faab18e1a137731cffda88256044e8b3 & 159510762 & faab18e1a137731cffda88256001b19a & $\\dots$ \\\\\n",
       "\t16 & faab18e1a137731cffda8825604ba15c & 160158126 & faab18e1a137731cffda88256002330b & $\\dots$ \\\\\n",
       "\t17 & faab18e1a137731cffda8825604ba15c & 160158126 & faab18e1a137731cffda88256002330b & $\\dots$ \\\\\n",
       "\t18 & faab18e1a137731cffda882560408347 & 159733294 & faab18e1a137731cffda88256001df4f & $\\dots$ \\\\\n",
       "\t19 & faab18e1a137731cffda882560408347 & 159733294 & faab18e1a137731cffda88256001df4f & $\\dots$ \\\\\n",
       "\t20 & faab18e1a137731cffda882560408347 & 159733294 & faab18e1a137731cffda88256001df4f & $\\dots$ \\\\\n",
       "\t21 & faab18e1a137731cffda8825604f2ce3 & 765094712 & faab18e1a137731cffda882560085330 & $\\dots$ \\\\\n",
       "\t22 & faab18e1a137731cffda8825604f2ce3 & 765094712 & faab18e1a137731cffda882560085330 & $\\dots$ \\\\\n",
       "\t23 & faab18e1a137731cffda8825604f2ce3 & 765094712 & faab18e1a137731cffda882560085330 & $\\dots$ \\\\\n",
       "\t24 & faab18e1a137731cffda8825602bb2c4 & 763577454 & faab18e1a137731cffda88256006a2da & $\\dots$ \\\\\n",
       "\t25 & faab18e1a137731cffda8825602bb2c4 & 763577454 & faab18e1a137731cffda88256006a2da & $\\dots$ \\\\\n",
       "\t26 & faab18e1a137731cffda882560b6695c & 686765762 & faab18e1a137731cffda882560062776 & $\\dots$ \\\\\n",
       "\t27 & faab18e1a137731cffda882560b6695c & 686765762 & faab18e1a137731cffda882560062776 & $\\dots$ \\\\\n",
       "\t28 & faab18e1a137731cffda8825605bede5 & 404239096 & faab18e1a137731cffda88256004db77 & $\\dots$ \\\\\n",
       "\t29 & faab18e1a137731cffda8825605bede5 & 404239096 & faab18e1a137731cffda88256004db77 & $\\dots$ \\\\\n",
       "\t30 & faab18e1a137731cffda8825605bede5 & 404239096 & faab18e1a137731cffda88256004db77 & $\\dots$ \\\\\n",
       "\t$\\dots$ & $\\dots$ & $\\dots$ & $\\dots$ &  \\\\\n",
       "\\end{tabular}\n"
      ],
      "text/plain": [
       "719×13 DataFrame. Omitted printing of 11 columns\n",
       "│ Row │ sample_id                        │ subject_id │\n",
       "│     │ \u001b[90mString\u001b[39m                           │ \u001b[90mInt64\u001b[39m      │\n",
       "├─────┼──────────────────────────────────┼────────────┤\n",
       "│ 1   │ faab18e1a137731cffda8825601f2494 │ 158155345  │\n",
       "│ 2   │ faab18e1a137731cffda88256074d4c8 │ 370425937  │\n",
       "│ 3   │ faab18e1a137731cffda88256074d4c8 │ 370425937  │\n",
       "│ 4   │ faab18e1a137731cffda88256095a055 │ 764447348  │\n",
       "│ 5   │ faab18e1a137731cffda88256095a055 │ 764447348  │\n",
       "│ 6   │ 596fc2de57601ec08a01fdee59357d78 │ 147406386  │\n",
       "│ 7   │ faab18e1a137731cffda88256020fa0c │ 158802708  │\n",
       "│ 8   │ faab18e1a137731cffda88256020fa0c │ 158802708  │\n",
       "│ 9   │ faab18e1a137731cffda88256020fa0c │ 158802708  │\n",
       "│ 10  │ faab18e1a137731cffda8825604940ed │ 160603188  │\n",
       "⋮\n",
       "│ 709 │ faab18e1a137731cffda882560264252 │ 159227541  │\n",
       "│ 710 │ faab18e1a137731cffda88256020d394 │ 158742018  │\n",
       "│ 711 │ faab18e1a137731cffda882560b02573 │ 161412393  │\n",
       "│ 712 │ faab18e1a137731cffda8825603d5e85 │ 159429842  │\n",
       "│ 713 │ faab18e1a137731cffda882560f500bb │ 604812005  │\n",
       "│ 714 │ faab18e1a137731cffda8825603df6ff │ 159753524  │\n",
       "│ 715 │ faab18e1a137731cffda882560f54fda │ 638754422  │\n",
       "│ 716 │ faab18e1a137731cffda88256020a528 │ 158883629  │\n",
       "│ 717 │ faab18e1a137731cffda8825606fbc6b │ 638754422  │\n",
       "│ 718 │ faab18e1a137731cffda882560aa661f │ 638754422  │\n",
       "│ 719 │ faab18e1a137731cffda8825607e02a5 │ 158883629  │"
      ]
     },
     "execution_count": 16,
     "metadata": {},
     "output_type": "execute_result"
    }
   ],
   "source": [
    "hmp_manifest_metadata = DataFrames.innerjoin(hmp_manifest_metadata, hmp_manifest, on=:sample_id)"
   ]
  },
  {
   "cell_type": "code",
   "execution_count": 18,
   "metadata": {},
   "outputs": [
    {
     "name": "stdout",
     "output_type": "stream",
     "text": [
      "10×13 DataFrame\n",
      "│ Row │ sample_id                        │ subject_id │\n",
      "│     │ \u001b[90mString\u001b[39m                           │ \u001b[90mInt64\u001b[39m      │\n",
      "├─────┼──────────────────────────────────┼────────────┤\n",
      "│ 1   │ faab18e1a137731cffda8825601f2494 │ 158155345  │\n",
      "│ 2   │ faab18e1a137731cffda88256074d4c8 │ 370425937  │\n",
      "│ 3   │ faab18e1a137731cffda88256074d4c8 │ 370425937  │\n",
      "│ 4   │ faab18e1a137731cffda88256095a055 │ 764447348  │\n",
      "│ 5   │ faab18e1a137731cffda88256095a055 │ 764447348  │\n",
      "│ 6   │ 596fc2de57601ec08a01fdee59357d78 │ 147406386  │\n",
      "│ 7   │ faab18e1a137731cffda88256020fa0c │ 158802708  │\n",
      "│ 8   │ faab18e1a137731cffda88256020fa0c │ 158802708  │\n",
      "│ 9   │ faab18e1a137731cffda88256020fa0c │ 158802708  │\n",
      "│ 10  │ faab18e1a137731cffda8825604940ed │ 160603188  │\n",
      "\n",
      "│ Row │ subject_uuid                     │ sample_body_site │ visit_number │\n",
      "│     │ \u001b[90mString\u001b[39m                           │ \u001b[90mString\u001b[39m           │ \u001b[90mInt64\u001b[39m        │\n",
      "├─────┼──────────────────────────────────┼──────────────────┼──────────────┤\n",
      "│ 1   │ faab18e1a137731cffda882560003f87 │ feces            │ 1            │\n",
      "│ 2   │ faab18e1a137731cffda88256004c73e │ feces            │ 1            │\n",
      "│ 3   │ faab18e1a137731cffda88256004c73e │ feces            │ 1            │\n",
      "│ 4   │ faab18e1a137731cffda882560078dfb │ feces            │ 2            │\n",
      "│ 5   │ faab18e1a137731cffda882560078dfb │ feces            │ 2            │\n",
      "│ 6   │ faab18e1a137731cffda8825600012e8 │ feces            │ 3            │\n",
      "│ 7   │ faab18e1a137731cffda88256000cbcc │ feces            │ 1            │\n",
      "│ 8   │ faab18e1a137731cffda88256000cbcc │ feces            │ 1            │\n",
      "│ 9   │ faab18e1a137731cffda88256000cbcc │ feces            │ 1            │\n",
      "│ 10  │ faab18e1a137731cffda88256002d282 │ feces            │ 1            │\n",
      "\n",
      "│ Row │ subject_gender │ subject_race │ study_full_name        │\n",
      "│     │ \u001b[90mString\u001b[39m         │ \u001b[90mString\u001b[39m       │ \u001b[90mString\u001b[39m                 │\n",
      "├─────┼────────────────┼──────────────┼────────────────────────┤\n",
      "│ 1   │ male           │ None         │ Healthy Human Subjects │\n",
      "│ 2   │ female         │ None         │ Healthy Human Subjects │\n",
      "│ 3   │ female         │ None         │ Healthy Human Subjects │\n",
      "│ 4   │ male           │ None         │ Healthy Human Subjects │\n",
      "│ 5   │ male           │ None         │ Healthy Human Subjects │\n",
      "│ 6   │ male           │ None         │ Healthy Human Subjects │\n",
      "│ 7   │ male           │ None         │ Healthy Human Subjects │\n",
      "│ 8   │ male           │ None         │ Healthy Human Subjects │\n",
      "│ 9   │ male           │ None         │ Healthy Human Subjects │\n",
      "│ 10  │ male           │ None         │ Healthy Human Subjects │\n",
      "\n",
      "│ Row │ project_name                   │ file_id                          │\n",
      "│     │ \u001b[90mString\u001b[39m                         │ \u001b[90mString\u001b[39m                           │\n",
      "├─────┼────────────────────────────────┼──────────────────────────────────┤\n",
      "│ 1   │ Human Microbiome Project (HMP) │ 596fc2de57601ec08a01fdee59b355cf │\n",
      "│ 2   │ Human Microbiome Project (HMP) │ 596fc2de57601ec08a01fdee59aac1dd │\n",
      "│ 3   │ Human Microbiome Project (HMP) │ 596fc2de57601ec08a01fdee59cbccc8 │\n",
      "│ 4   │ Human Microbiome Project (HMP) │ 596fc2de57601ec08a01fdee59d2699a │\n",
      "│ 5   │ Human Microbiome Project (HMP) │ 596fc2de57601ec08a01fdee59af123b │\n",
      "│ 6   │ Human Microbiome Project (HMP) │ 596fc2de57601ec08a01fdee59f7231c │\n",
      "│ 7   │ Human Microbiome Project (HMP) │ 596fc2de57601ec08a01fdee59b509b1 │\n",
      "│ 8   │ Human Microbiome Project (HMP) │ 596fc2de57601ec08a01fdee599d44bf │\n",
      "│ 9   │ Human Microbiome Project (HMP) │ 596fc2de57601ec08a01fdee59b51322 │\n",
      "│ 10  │ Human Microbiome Project (HMP) │ 596fc2de57601ec08a01fdee59a4c74e │\n",
      "\n",
      "│ Row │ md5                              │ size       │\n",
      "│     │ \u001b[90mString\u001b[39m                           │ \u001b[90mInt64\u001b[39m      │\n",
      "├─────┼──────────────────────────────────┼────────────┤\n",
      "│ 1   │ 4d14e1e6f2fccdb96da8e9eda8b57ab5 │ 1578638759 │\n",
      "│ 2   │ ec7f99c4e0cde99528f2b15cde98a09b │ 17462835   │\n",
      "│ 3   │ a9c10a312b4931c46f2fabde2eb08466 │ 6306825384 │\n",
      "│ 4   │ e241246ce3eada62542f93316109dcff │ 7031649766 │\n",
      "│ 5   │ e241246ce3eada62542f93316109dcff │ 37495761   │\n",
      "│ 6   │ 0b3188856bc47e1a9ca64d403df58f65 │ 1028493456 │\n",
      "│ 7   │ e1e617a0217514c4e4d2de1d3bda2f2c │ 7848634243 │\n",
      "│ 8   │ edd5a1f7f4e2d3529622c935fc7c524e │ 51152162   │\n",
      "│ 9   │ edd5a1f7f4e2d3529622c935fc7c524e │ 9130425607 │\n",
      "│ 10  │ 5bd1b98557bcbd8d78d04e4c5af882cf │ 42623668   │\n",
      "\n",
      "│ Row │ urls                                                                                                                                                 │\n",
      "│     │ \u001b[90mString\u001b[39m                                                                                                                                               │\n",
      "├─────┼──────────────────────────────────────────────────────────────────────────────────────────────────────────────────────────────────────────────────────┤\n",
      "│ 1   │ https://downloads.hmpdacc.org/dacc/hhs/genome/microbiome/wgs/analysis/hmwgsqc/v2/SRS1041031.tar.bz2,s3://nih-hmp-hhs/hmwgsqc2/SRS1041031.tar.bz2     │\n",
      "│ 2   │ https://downloads.hmpdacc.org/dacc/hhs/genome/microbiome/wgs/analysis/hmwgsqc/v1/SRS022713.tar.bz2,s3://nih-hmp-hhs/hmasm/SRS022713.scaffolds.fa.bz2 │\n",
      "│ 3   │ https://downloads.hmpdacc.org/dacc/hhs/genome/microbiome/wgs/analysis/hmwgsqc/v2/SRS022713.tar.bz2,s3://nih-hmp-hhs/hmwgsqc2/SRS022713.tar.bz2       │\n",
      "│ 4   │ https://downloads.hmpdacc.org/dacc/hhs/genome/microbiome/wgs/analysis/hmwgsqc/v2/SRS042628.tar.bz2,s3://nih-hmp-hhs/hmwgsqc2/SRS042628.tar.bz2       │\n",
      "│ 5   │ https://downloads.hmpdacc.org/dacc/hhs/genome/microbiome/wgs/analysis/hmwgsqc/v1/SRS042628.tar.bz2,s3://nih-hmp-hhs/hmasm/SRS042628.scaffolds.fa.bz2 │\n",
      "│ 6   │ https://downloads.hmpdacc.org/dacc/hhs/genome/microbiome/wgs/analysis/hmwgsqc/v2/SRS147088.tar.bz2,s3://nih-hmp-hhs/hmwgsqc2/SRS147088.tar.bz2       │\n",
      "│ 7   │ https://downloads.hmpdacc.org/dacc/hhs/genome/microbiome/wgs/analysis/hmwgsqc/v2/SRS012969.tar.bz2,s3://nih-hmp-hhs/hmwgsqc2/SRS012969.tar.bz2       │\n",
      "│ 8   │ https://downloads.hmpdacc.org/dacc/hhs/genome/microbiome/wgs/analysis/hmwgsqc/v1/SRS011271.tar.bz2,s3://nih-hmp-hhs/hmasm/SRS011271.scaffolds.fa.bz2 │\n",
      "│ 9   │ https://downloads.hmpdacc.org/dacc/hhs/genome/microbiome/wgs/analysis/hmwgsqc/v2/SRS011271.tar.bz2,s3://nih-hmp-hhs/hmwgsqc2/SRS011271.tar.bz2       │\n",
      "│ 10  │ https://downloads.hmpdacc.org/dacc/hhs/genome/microbiome/wgs/analysis/hmwgsqc/v1/SRS017821.tar.bz2,s3://nih-hmp-hhs/hmasm/SRS017821.scaffolds.fa.bz2 │"
     ]
    }
   ],
   "source": [
    "show(hmp_manifest_metadata[1:10, :], allcols=true)"
   ]
  },
  {
   "cell_type": "code",
   "execution_count": null,
   "metadata": {},
   "outputs": [],
   "source": [
    "# drop urls containing scaffolds"
   ]
  },
  {
   "cell_type": "code",
   "execution_count": 22,
   "metadata": {},
   "outputs": [
    {
     "data": {
      "text/html": [
       "<table class=\"data-frame\"><thead><tr><th></th><th>sample_id</th><th>subject_id</th><th>subject_uuid</th></tr><tr><th></th><th>String</th><th>Int64</th><th>String</th></tr></thead><tbody><p>571 rows × 13 columns (omitted printing of 10 columns)</p><tr><th>1</th><td>faab18e1a137731cffda8825601f2494</td><td>158155345</td><td>faab18e1a137731cffda882560003f87</td></tr><tr><th>2</th><td>faab18e1a137731cffda88256074d4c8</td><td>370425937</td><td>faab18e1a137731cffda88256004c73e</td></tr><tr><th>3</th><td>faab18e1a137731cffda88256095a055</td><td>764447348</td><td>faab18e1a137731cffda882560078dfb</td></tr><tr><th>4</th><td>596fc2de57601ec08a01fdee59357d78</td><td>147406386</td><td>faab18e1a137731cffda8825600012e8</td></tr><tr><th>5</th><td>faab18e1a137731cffda88256020fa0c</td><td>158802708</td><td>faab18e1a137731cffda88256000cbcc</td></tr><tr><th>6</th><td>faab18e1a137731cffda88256020fa0c</td><td>158802708</td><td>faab18e1a137731cffda88256000cbcc</td></tr><tr><th>7</th><td>faab18e1a137731cffda8825604940ed</td><td>160603188</td><td>faab18e1a137731cffda88256002d282</td></tr><tr><th>8</th><td>faab18e1a137731cffda882560236d6a</td><td>159247771</td><td>faab18e1a137731cffda88256001465c</td></tr><tr><th>9</th><td>faab18e1a137731cffda88256044e8b3</td><td>159510762</td><td>faab18e1a137731cffda88256001b19a</td></tr><tr><th>10</th><td>faab18e1a137731cffda8825604ba15c</td><td>160158126</td><td>faab18e1a137731cffda88256002330b</td></tr><tr><th>11</th><td>faab18e1a137731cffda882560408347</td><td>159733294</td><td>faab18e1a137731cffda88256001df4f</td></tr><tr><th>12</th><td>faab18e1a137731cffda882560408347</td><td>159733294</td><td>faab18e1a137731cffda88256001df4f</td></tr><tr><th>13</th><td>faab18e1a137731cffda8825604f2ce3</td><td>765094712</td><td>faab18e1a137731cffda882560085330</td></tr><tr><th>14</th><td>faab18e1a137731cffda8825604f2ce3</td><td>765094712</td><td>faab18e1a137731cffda882560085330</td></tr><tr><th>15</th><td>faab18e1a137731cffda8825602bb2c4</td><td>763577454</td><td>faab18e1a137731cffda88256006a2da</td></tr><tr><th>16</th><td>faab18e1a137731cffda882560b6695c</td><td>686765762</td><td>faab18e1a137731cffda882560062776</td></tr><tr><th>17</th><td>faab18e1a137731cffda8825605bede5</td><td>404239096</td><td>faab18e1a137731cffda88256004db77</td></tr><tr><th>18</th><td>faab18e1a137731cffda8825605bede5</td><td>404239096</td><td>faab18e1a137731cffda88256004db77</td></tr><tr><th>19</th><td>faab18e1a137731cffda882560840370</td><td>159571453</td><td>faab18e1a137731cffda88256001be7d</td></tr><tr><th>20</th><td>faab18e1a137731cffda882560470e96</td><td>160502038</td><td>faab18e1a137731cffda88256002ba12</td></tr><tr><th>21</th><td>faab18e1a137731cffda882560788abb</td><td>158924089</td><td>faab18e1a137731cffda88256000e362</td></tr><tr><th>22</th><td>faab18e1a137731cffda882560226ddc</td><td>159369152</td><td>faab18e1a137731cffda882560017cd5</td></tr><tr><th>23</th><td>faab18e1a137731cffda8825609a5f46</td><td>338793263</td><td>faab18e1a137731cffda8825600486c6</td></tr><tr><th>24</th><td>faab18e1a137731cffda882560464cc1</td><td>160319967</td><td>faab18e1a137731cffda8825600261ea</td></tr><tr><th>25</th><td>faab18e1a137731cffda882560c78425</td><td>763840445</td><td>faab18e1a137731cffda88256006dda2</td></tr><tr><th>26</th><td>faab18e1a137731cffda88256059e68f</td><td>764892411</td><td>faab18e1a137731cffda882560082081</td></tr><tr><th>27</th><td>faab18e1a137731cffda8825607b8e21</td><td>158802708</td><td>faab18e1a137731cffda88256000cbcc</td></tr><tr><th>28</th><td>faab18e1a137731cffda8825609bf5f8</td><td>764224817</td><td>faab18e1a137731cffda882560074416</td></tr><tr><th>29</th><td>faab18e1a137731cffda8825609bf5f8</td><td>764224817</td><td>faab18e1a137731cffda882560074416</td></tr><tr><th>30</th><td>faab18e1a137731cffda88256025d2f7</td><td>159207311</td><td>faab18e1a137731cffda882560012baa</td></tr><tr><th>&vellip;</th><td>&vellip;</td><td>&vellip;</td><td>&vellip;</td></tr></tbody></table>"
      ],
      "text/latex": [
       "\\begin{tabular}{r|cccc}\n",
       "\t& sample\\_id & subject\\_id & subject\\_uuid & \\\\\n",
       "\t\\hline\n",
       "\t& String & Int64 & String & \\\\\n",
       "\t\\hline\n",
       "\t1 & faab18e1a137731cffda8825601f2494 & 158155345 & faab18e1a137731cffda882560003f87 & $\\dots$ \\\\\n",
       "\t2 & faab18e1a137731cffda88256074d4c8 & 370425937 & faab18e1a137731cffda88256004c73e & $\\dots$ \\\\\n",
       "\t3 & faab18e1a137731cffda88256095a055 & 764447348 & faab18e1a137731cffda882560078dfb & $\\dots$ \\\\\n",
       "\t4 & 596fc2de57601ec08a01fdee59357d78 & 147406386 & faab18e1a137731cffda8825600012e8 & $\\dots$ \\\\\n",
       "\t5 & faab18e1a137731cffda88256020fa0c & 158802708 & faab18e1a137731cffda88256000cbcc & $\\dots$ \\\\\n",
       "\t6 & faab18e1a137731cffda88256020fa0c & 158802708 & faab18e1a137731cffda88256000cbcc & $\\dots$ \\\\\n",
       "\t7 & faab18e1a137731cffda8825604940ed & 160603188 & faab18e1a137731cffda88256002d282 & $\\dots$ \\\\\n",
       "\t8 & faab18e1a137731cffda882560236d6a & 159247771 & faab18e1a137731cffda88256001465c & $\\dots$ \\\\\n",
       "\t9 & faab18e1a137731cffda88256044e8b3 & 159510762 & faab18e1a137731cffda88256001b19a & $\\dots$ \\\\\n",
       "\t10 & faab18e1a137731cffda8825604ba15c & 160158126 & faab18e1a137731cffda88256002330b & $\\dots$ \\\\\n",
       "\t11 & faab18e1a137731cffda882560408347 & 159733294 & faab18e1a137731cffda88256001df4f & $\\dots$ \\\\\n",
       "\t12 & faab18e1a137731cffda882560408347 & 159733294 & faab18e1a137731cffda88256001df4f & $\\dots$ \\\\\n",
       "\t13 & faab18e1a137731cffda8825604f2ce3 & 765094712 & faab18e1a137731cffda882560085330 & $\\dots$ \\\\\n",
       "\t14 & faab18e1a137731cffda8825604f2ce3 & 765094712 & faab18e1a137731cffda882560085330 & $\\dots$ \\\\\n",
       "\t15 & faab18e1a137731cffda8825602bb2c4 & 763577454 & faab18e1a137731cffda88256006a2da & $\\dots$ \\\\\n",
       "\t16 & faab18e1a137731cffda882560b6695c & 686765762 & faab18e1a137731cffda882560062776 & $\\dots$ \\\\\n",
       "\t17 & faab18e1a137731cffda8825605bede5 & 404239096 & faab18e1a137731cffda88256004db77 & $\\dots$ \\\\\n",
       "\t18 & faab18e1a137731cffda8825605bede5 & 404239096 & faab18e1a137731cffda88256004db77 & $\\dots$ \\\\\n",
       "\t19 & faab18e1a137731cffda882560840370 & 159571453 & faab18e1a137731cffda88256001be7d & $\\dots$ \\\\\n",
       "\t20 & faab18e1a137731cffda882560470e96 & 160502038 & faab18e1a137731cffda88256002ba12 & $\\dots$ \\\\\n",
       "\t21 & faab18e1a137731cffda882560788abb & 158924089 & faab18e1a137731cffda88256000e362 & $\\dots$ \\\\\n",
       "\t22 & faab18e1a137731cffda882560226ddc & 159369152 & faab18e1a137731cffda882560017cd5 & $\\dots$ \\\\\n",
       "\t23 & faab18e1a137731cffda8825609a5f46 & 338793263 & faab18e1a137731cffda8825600486c6 & $\\dots$ \\\\\n",
       "\t24 & faab18e1a137731cffda882560464cc1 & 160319967 & faab18e1a137731cffda8825600261ea & $\\dots$ \\\\\n",
       "\t25 & faab18e1a137731cffda882560c78425 & 763840445 & faab18e1a137731cffda88256006dda2 & $\\dots$ \\\\\n",
       "\t26 & faab18e1a137731cffda88256059e68f & 764892411 & faab18e1a137731cffda882560082081 & $\\dots$ \\\\\n",
       "\t27 & faab18e1a137731cffda8825607b8e21 & 158802708 & faab18e1a137731cffda88256000cbcc & $\\dots$ \\\\\n",
       "\t28 & faab18e1a137731cffda8825609bf5f8 & 764224817 & faab18e1a137731cffda882560074416 & $\\dots$ \\\\\n",
       "\t29 & faab18e1a137731cffda8825609bf5f8 & 764224817 & faab18e1a137731cffda882560074416 & $\\dots$ \\\\\n",
       "\t30 & faab18e1a137731cffda88256025d2f7 & 159207311 & faab18e1a137731cffda882560012baa & $\\dots$ \\\\\n",
       "\t$\\dots$ & $\\dots$ & $\\dots$ & $\\dots$ &  \\\\\n",
       "\\end{tabular}\n"
      ],
      "text/plain": [
       "571×13 DataFrame. Omitted printing of 11 columns\n",
       "│ Row │ sample_id                        │ subject_id │\n",
       "│     │ \u001b[90mString\u001b[39m                           │ \u001b[90mInt64\u001b[39m      │\n",
       "├─────┼──────────────────────────────────┼────────────┤\n",
       "│ 1   │ faab18e1a137731cffda8825601f2494 │ 158155345  │\n",
       "│ 2   │ faab18e1a137731cffda88256074d4c8 │ 370425937  │\n",
       "│ 3   │ faab18e1a137731cffda88256095a055 │ 764447348  │\n",
       "│ 4   │ 596fc2de57601ec08a01fdee59357d78 │ 147406386  │\n",
       "│ 5   │ faab18e1a137731cffda88256020fa0c │ 158802708  │\n",
       "│ 6   │ faab18e1a137731cffda88256020fa0c │ 158802708  │\n",
       "│ 7   │ faab18e1a137731cffda8825604940ed │ 160603188  │\n",
       "│ 8   │ faab18e1a137731cffda882560236d6a │ 159247771  │\n",
       "│ 9   │ faab18e1a137731cffda88256044e8b3 │ 159510762  │\n",
       "│ 10  │ faab18e1a137731cffda8825604ba15c │ 160158126  │\n",
       "⋮\n",
       "│ 561 │ faab18e1a137731cffda882560264252 │ 159227541  │\n",
       "│ 562 │ faab18e1a137731cffda88256020d394 │ 158742018  │\n",
       "│ 563 │ faab18e1a137731cffda882560b02573 │ 161412393  │\n",
       "│ 564 │ faab18e1a137731cffda8825603d5e85 │ 159429842  │\n",
       "│ 565 │ faab18e1a137731cffda882560f500bb │ 604812005  │\n",
       "│ 566 │ faab18e1a137731cffda8825603df6ff │ 159753524  │\n",
       "│ 567 │ faab18e1a137731cffda882560f54fda │ 638754422  │\n",
       "│ 568 │ faab18e1a137731cffda88256020a528 │ 158883629  │\n",
       "│ 569 │ faab18e1a137731cffda8825606fbc6b │ 638754422  │\n",
       "│ 570 │ faab18e1a137731cffda882560aa661f │ 638754422  │\n",
       "│ 571 │ faab18e1a137731cffda8825607e02a5 │ 158883629  │"
      ]
     },
     "execution_count": 22,
     "metadata": {},
     "output_type": "execute_result"
    }
   ],
   "source": [
    "hmp_manifest_metadata = hmp_manifest_metadata[map(x -> !occursin(\"scaffolds\", x), hmp_manifest_metadata[!, \"urls\"]), :]"
   ]
  },
  {
   "cell_type": "code",
   "execution_count": 23,
   "metadata": {},
   "outputs": [
    {
     "name": "stdout",
     "output_type": "stream",
     "text": [
      "10×13 DataFrame\n",
      "│ Row │ sample_id                        │ subject_id │\n",
      "│     │ \u001b[90mString\u001b[39m                           │ \u001b[90mInt64\u001b[39m      │\n",
      "├─────┼──────────────────────────────────┼────────────┤\n",
      "│ 1   │ faab18e1a137731cffda8825601f2494 │ 158155345  │\n",
      "│ 2   │ faab18e1a137731cffda88256074d4c8 │ 370425937  │\n",
      "│ 3   │ faab18e1a137731cffda88256095a055 │ 764447348  │\n",
      "│ 4   │ 596fc2de57601ec08a01fdee59357d78 │ 147406386  │\n",
      "│ 5   │ faab18e1a137731cffda88256020fa0c │ 158802708  │\n",
      "│ 6   │ faab18e1a137731cffda88256020fa0c │ 158802708  │\n",
      "│ 7   │ faab18e1a137731cffda8825604940ed │ 160603188  │\n",
      "│ 8   │ faab18e1a137731cffda882560236d6a │ 159247771  │\n",
      "│ 9   │ faab18e1a137731cffda88256044e8b3 │ 159510762  │\n",
      "│ 10  │ faab18e1a137731cffda8825604ba15c │ 160158126  │\n",
      "\n",
      "│ Row │ subject_uuid                     │ sample_body_site │ visit_number │\n",
      "│     │ \u001b[90mString\u001b[39m                           │ \u001b[90mString\u001b[39m           │ \u001b[90mInt64\u001b[39m        │\n",
      "├─────┼──────────────────────────────────┼──────────────────┼──────────────┤\n",
      "│ 1   │ faab18e1a137731cffda882560003f87 │ feces            │ 1            │\n",
      "│ 2   │ faab18e1a137731cffda88256004c73e │ feces            │ 1            │\n",
      "│ 3   │ faab18e1a137731cffda882560078dfb │ feces            │ 2            │\n",
      "│ 4   │ faab18e1a137731cffda8825600012e8 │ feces            │ 3            │\n",
      "│ 5   │ faab18e1a137731cffda88256000cbcc │ feces            │ 1            │\n",
      "│ 6   │ faab18e1a137731cffda88256000cbcc │ feces            │ 1            │\n",
      "│ 7   │ faab18e1a137731cffda88256002d282 │ feces            │ 1            │\n",
      "│ 8   │ faab18e1a137731cffda88256001465c │ feces            │ 1            │\n",
      "│ 9   │ faab18e1a137731cffda88256001b19a │ feces            │ 1            │\n",
      "│ 10  │ faab18e1a137731cffda88256002330b │ feces            │ 1            │\n",
      "\n",
      "│ Row │ subject_gender │ subject_race │ study_full_name        │\n",
      "│     │ \u001b[90mString\u001b[39m         │ \u001b[90mString\u001b[39m       │ \u001b[90mString\u001b[39m                 │\n",
      "├─────┼────────────────┼──────────────┼────────────────────────┤\n",
      "│ 1   │ male           │ None         │ Healthy Human Subjects │\n",
      "│ 2   │ female         │ None         │ Healthy Human Subjects │\n",
      "│ 3   │ male           │ None         │ Healthy Human Subjects │\n",
      "│ 4   │ male           │ None         │ Healthy Human Subjects │\n",
      "│ 5   │ male           │ None         │ Healthy Human Subjects │\n",
      "│ 6   │ male           │ None         │ Healthy Human Subjects │\n",
      "│ 7   │ male           │ None         │ Healthy Human Subjects │\n",
      "│ 8   │ female         │ None         │ Healthy Human Subjects │\n",
      "│ 9   │ male           │ None         │ Healthy Human Subjects │\n",
      "│ 10  │ male           │ None         │ Healthy Human Subjects │\n",
      "\n",
      "│ Row │ project_name                   │ file_id                          │\n",
      "│     │ \u001b[90mString\u001b[39m                         │ \u001b[90mString\u001b[39m                           │\n",
      "├─────┼────────────────────────────────┼──────────────────────────────────┤\n",
      "│ 1   │ Human Microbiome Project (HMP) │ 596fc2de57601ec08a01fdee59b355cf │\n",
      "│ 2   │ Human Microbiome Project (HMP) │ 596fc2de57601ec08a01fdee59cbccc8 │\n",
      "│ 3   │ Human Microbiome Project (HMP) │ 596fc2de57601ec08a01fdee59d2699a │\n",
      "│ 4   │ Human Microbiome Project (HMP) │ 596fc2de57601ec08a01fdee59f7231c │\n",
      "│ 5   │ Human Microbiome Project (HMP) │ 596fc2de57601ec08a01fdee59b509b1 │\n",
      "│ 6   │ Human Microbiome Project (HMP) │ 596fc2de57601ec08a01fdee59b51322 │\n",
      "│ 7   │ Human Microbiome Project (HMP) │ 596fc2de57601ec08a01fdee59c1e465 │\n",
      "│ 8   │ Human Microbiome Project (HMP) │ 596fc2de57601ec08a01fdee59b5d844 │\n",
      "│ 9   │ Human Microbiome Project (HMP) │ 596fc2de57601ec08a01fdee59c06efe │\n",
      "│ 10  │ Human Microbiome Project (HMP) │ 596fc2de57601ec08a01fdee59c22585 │\n",
      "\n",
      "│ Row │ md5                              │ size       │\n",
      "│     │ \u001b[90mString\u001b[39m                           │ \u001b[90mInt64\u001b[39m      │\n",
      "├─────┼──────────────────────────────────┼────────────┤\n",
      "│ 1   │ 4d14e1e6f2fccdb96da8e9eda8b57ab5 │ 1578638759 │\n",
      "│ 2   │ a9c10a312b4931c46f2fabde2eb08466 │ 6306825384 │\n",
      "│ 3   │ e241246ce3eada62542f93316109dcff │ 7031649766 │\n",
      "│ 4   │ 0b3188856bc47e1a9ca64d403df58f65 │ 1028493456 │\n",
      "│ 5   │ e1e617a0217514c4e4d2de1d3bda2f2c │ 7848634243 │\n",
      "│ 6   │ edd5a1f7f4e2d3529622c935fc7c524e │ 9130425607 │\n",
      "│ 7   │ 5bd1b98557bcbd8d78d04e4c5af882cf │ 7183549186 │\n",
      "│ 8   │ d764dd5c06ea433c45075f970500edf5 │ 8808562205 │\n",
      "│ 9   │ 54a5eab82e72db2a772b297fcd526442 │ 5996742787 │\n",
      "│ 10  │ 35332f63c242a7b0093aee8dca63930c │ 8372215007 │\n",
      "\n",
      "│ Row │ urls                                                                                                                                             │\n",
      "│     │ \u001b[90mString\u001b[39m                                                                                                                                           │\n",
      "├─────┼──────────────────────────────────────────────────────────────────────────────────────────────────────────────────────────────────────────────────┤\n",
      "│ 1   │ https://downloads.hmpdacc.org/dacc/hhs/genome/microbiome/wgs/analysis/hmwgsqc/v2/SRS1041031.tar.bz2,s3://nih-hmp-hhs/hmwgsqc2/SRS1041031.tar.bz2 │\n",
      "│ 2   │ https://downloads.hmpdacc.org/dacc/hhs/genome/microbiome/wgs/analysis/hmwgsqc/v2/SRS022713.tar.bz2,s3://nih-hmp-hhs/hmwgsqc2/SRS022713.tar.bz2   │\n",
      "│ 3   │ https://downloads.hmpdacc.org/dacc/hhs/genome/microbiome/wgs/analysis/hmwgsqc/v2/SRS042628.tar.bz2,s3://nih-hmp-hhs/hmwgsqc2/SRS042628.tar.bz2   │\n",
      "│ 4   │ https://downloads.hmpdacc.org/dacc/hhs/genome/microbiome/wgs/analysis/hmwgsqc/v2/SRS147088.tar.bz2,s3://nih-hmp-hhs/hmwgsqc2/SRS147088.tar.bz2   │\n",
      "│ 5   │ https://downloads.hmpdacc.org/dacc/hhs/genome/microbiome/wgs/analysis/hmwgsqc/v2/SRS012969.tar.bz2,s3://nih-hmp-hhs/hmwgsqc2/SRS012969.tar.bz2   │\n",
      "│ 6   │ https://downloads.hmpdacc.org/dacc/hhs/genome/microbiome/wgs/analysis/hmwgsqc/v2/SRS011271.tar.bz2,s3://nih-hmp-hhs/hmwgsqc2/SRS011271.tar.bz2   │\n",
      "│ 7   │ https://downloads.hmpdacc.org/dacc/hhs/genome/microbiome/wgs/analysis/hmwgsqc/v2/SRS017821.tar.bz2,s3://nih-hmp-hhs/hmwgsqc2/SRS017821.tar.bz2   │\n",
      "│ 8   │ https://downloads.hmpdacc.org/dacc/hhs/genome/microbiome/wgs/analysis/hmwgsqc/v2/SRS011405.tar.bz2,s3://nih-hmp-hhs/hmwgsqc2/SRS011405.tar.bz2   │\n",
      "│ 9   │ https://downloads.hmpdacc.org/dacc/hhs/genome/microbiome/wgs/analysis/hmwgsqc/v2/SRS017247.tar.bz2,s3://nih-hmp-hhs/hmwgsqc2/SRS017247.tar.bz2   │\n",
      "│ 10  │ https://downloads.hmpdacc.org/dacc/hhs/genome/microbiome/wgs/analysis/hmwgsqc/v2/SRS018133.tar.bz2,s3://nih-hmp-hhs/hmwgsqc2/SRS018133.tar.bz2   │"
     ]
    }
   ],
   "source": [
    "show(hmp_manifest_metadata[1:10, :], allcols=true)"
   ]
  },
  {
   "cell_type": "code",
   "execution_count": 27,
   "metadata": {},
   "outputs": [
    {
     "data": {
      "text/plain": [
       "\"https://downloads.hmpdacc.org/dacc/hhs/genome/microbiome/wgs/analysis/hmwgsqc/v2/SRS1041031.tar.bz2\""
      ]
     },
     "execution_count": 27,
     "metadata": {},
     "output_type": "execute_result"
    }
   ],
   "source": [
    "remote_url = first(split(hmp_manifest_metadata[1, \"urls\"], ','))"
   ]
  },
  {
   "cell_type": "code",
   "execution_count": 28,
   "metadata": {},
   "outputs": [
    {
     "data": {
      "text/plain": [
       "\"/Users/cameronprybol/Repos/applied-paper/data/fastqs/SRS1041031.tar.bz2\""
      ]
     },
     "execution_count": 28,
     "metadata": {},
     "output_type": "execute_result"
    }
   ],
   "source": [
    "local_path = \"$(FASTQ_DIR)/$(basename(remote_url))\""
   ]
  },
  {
   "cell_type": "code",
   "execution_count": 30,
   "metadata": {},
   "outputs": [
    {
     "name": "stderr",
     "output_type": "stream",
     "text": [
      "  % Total    % Received % Xferd  Average Speed   Time    Time     Time  Current\n",
      "                                 Dload  Upload   Total   Spent    Left  Speed\n",
      "100 1505M  100 1505M    0     0  3887k      0  0:06:36  0:06:36 --:--:-- 2374k0:01:12  0:06:06 3651k5830k:02:53  0:04:11 5109k 0:03:33 5961k:03:18  0:03:20 5497k4:24  0:02:03 2819k  0:01:42 4771k05:21  0:01:09 2064k 2934k6:11  0:00:19 4920k\n"
     ]
    },
    {
     "data": {
      "text/plain": [
       "Process(`\u001b[4mcurl\u001b[24m \u001b[4m--output\u001b[24m \u001b[4m/Users/cameronprybol/Repos/applied-paper/data/fastqs/SRS1041031.tar.bz2\u001b[24m \u001b[4mhttps://downloads.hmpdacc.org/dacc/hhs/genome/microbiome/wgs/analysis/hmwgsqc/v2/SRS1041031.tar.bz2\u001b[24m`, ProcessExited(0))"
      ]
     },
     "execution_count": 30,
     "metadata": {},
     "output_type": "execute_result"
    }
   ],
   "source": [
    "run(`curl --output $(local_path) $(remote_url)`)"
   ]
  },
  {
   "cell_type": "code",
   "execution_count": null,
   "metadata": {},
   "outputs": [],
   "source": [
    "run(`tar --directory $(dirname(local_path)) -xf $(local_path)`)"
   ]
  },
  {
   "cell_type": "code",
   "execution_count": null,
   "metadata": {},
   "outputs": [],
   "source": [
    "# conda install -c bioconda kmer-jellyfish"
   ]
  },
  {
   "cell_type": "code",
   "execution_count": null,
   "metadata": {},
   "outputs": [],
   "source": [
    "# count, bc, info, stats, histo, dump, merge, query, cite, mem, jf"
   ]
  },
  {
   "cell_type": "code",
   "execution_count": null,
   "metadata": {},
   "outputs": [],
   "source": [
    "# Usage: jellyfish count [options] file:path+\n",
    "\n",
    "# Count k-mers in fasta or fastq files\n",
    "\n",
    "# Options (default value in (), *required):\n",
    "#  -m, --mer-len=uint32                    *Length of mer\n",
    "#  -s, --size=uint64                       *Initial hash size\n",
    "#  -t, --threads=uint32                     Number of threads (1)\n",
    "#      --sam=PATH                           SAM/BAM/CRAM formatted input file\n",
    "#  -F, --Files=uint32                       Number files open simultaneously (1)\n",
    "#  -g, --generator=path                     File of commands generating fast[aq]\n",
    "#  -G, --Generators=uint32                  Number of generators run simultaneously (1)\n",
    "#  -S, --shell=string                       Shell used to run generator commands ($SHELL or /bin/sh)\n",
    "#  -o, --output=string                      Output file (mer_counts.jf)\n",
    "#  -c, --counter-len=Length in bits         Length bits of counting field (7)\n",
    "#      --out-counter-len=Length in bytes    Length in bytes of counter field in output (4)\n",
    "#  -C, --canonical                          Count both strand, canonical representation (false)\n",
    "#      --bc=peath                           Bloom counter to filter out singleton mers\n",
    "#      --bf-size=uint64                     Use bloom filter to count high-frequency mers\n",
    "#      --bf-fp=double                       False positive rate of bloom filter (0.01)\n",
    "#      --if=path                            Count only k-mers in this files\n",
    "#  -Q, --min-qual-char=string               Any base with quality below this character is changed to N\n",
    "#      --quality-start=int32                ASCII for quality values (64)\n",
    "#      --min-quality=int32                  Minimum quality. A base with lesser quality becomes an N\n",
    "#  -p, --reprobes=uint32                    Maximum number of reprobes (126)\n",
    "#      --text                               Dump in text format (false)\n",
    "#      --disk                               Disk operation. Do not do size doubling (false)\n",
    "#  -L, --lower-count=uint64                 Don't output k-mer with count < lower-count\n",
    "#  -U, --upper-count=uint64                 Don't output k-mer with count > upper-count\n",
    "#      --timing=Timing file                 Print timing information\n",
    "#      --usage                              Usage\n",
    "#  -h, --help                               This message\n",
    "#      --full-help                          Detailed help\n",
    "#  -V, --version                            Version"
   ]
  },
  {
   "cell_type": "code",
   "execution_count": null,
   "metadata": {},
   "outputs": [],
   "source": [
    "# jellyfish stats --output"
   ]
  },
  {
   "cell_type": "code",
   "execution_count": null,
   "metadata": {},
   "outputs": [],
   "source": [
    "# Usage: jellyfish histo [options] db:path\n",
    "#  -l, --low=uint64                         Low count value of histogram (1)\n",
    "#  -h, --high=uint64                        High count value of histogram (10000)\n",
    "#  -f, --full                               Full histo. Don't skip count 0. (false)\n",
    "#  -o, --output=string                      Output file"
   ]
  },
  {
   "cell_type": "code",
   "execution_count": null,
   "metadata": {},
   "outputs": [],
   "source": [
    "# Usage: jellyfish dump [options] db:path\n",
    "\n",
    "# Dump k-mer counts\n",
    "\n",
    "# By default, dump in a fasta format where the header is the count and\n",
    "# the sequence is the sequence of the k-mer. The column format is a 2\n",
    "# column output: k-mer count.\n",
    "\n",
    "# Options (default value in (), *required):\n",
    "#  -c, --column                             Column format (false)\n",
    "#  -t, --tab                                Tab separator (false)\n",
    "#  -L, --lower-count=uint64                 Don't output k-mer with count < lower-count\n",
    "#  -U, --upper-count=uint64                 Don't output k-mer with count > upper-count\n",
    "#  -o, --output=string                      Output file\n",
    "#      --usage                              Usage\n",
    "#  -h, --help                               This message\n",
    "#  -V, --version                            Version"
   ]
  },
  {
   "cell_type": "code",
   "execution_count": null,
   "metadata": {},
   "outputs": [],
   "source": [
    "# Usage: jellyfish merge [options] input:string+\n",
    "\n",
    "# Merge jellyfish databases\n",
    "\n",
    "# Options (default value in (), *required):\n",
    "#  -o, --output=string                      Output file (mer_counts_merged.jf)\n",
    "#  -m, --min                                Compute min count instead of sum (false)\n",
    "#  -M, --max                                Compute max count instead of sum (false)\n",
    "#  -j, --jaccard                            Compute the jaccard and weighted jaccard similarities (false)\n",
    "#  -L, --lower-count=uint64                 Don't output k-mer with count < lower-count\n",
    "#  -U, --upper-count=uint64                 Don't output k-mer with count > upper-count\n",
    "#      --usage                              Usage\n",
    "#  -h, --help                               This message\n",
    "#  -V, --version                            Version"
   ]
  },
  {
   "cell_type": "code",
   "execution_count": null,
   "metadata": {},
   "outputs": [],
   "source": [
    "# Usage: jellyfish query [options] file:path mers:string+\n",
    "\n",
    "# Query a Jellyfish database\n",
    "\n",
    "# Options (default value in (), *required):\n",
    "#  -s, --sequence=path                      Output counts for all mers in sequence\n",
    "#  -o, --output=path                        Output file (stdout)\n",
    "#  -i, --interactive                        Interactive, queries from stdin (false)\n",
    "#  -l, --load                               Force pre-loading of database file into memory (false)\n",
    "#  -L, --no-load                            Disable pre-loading of database file into memory (false)\n",
    "#  -U, --usage                              Usage\n",
    "#  -h, --help                               This message\n",
    "#  -V, --version                            Version"
   ]
  },
  {
   "cell_type": "code",
   "execution_count": null,
   "metadata": {},
   "outputs": [],
   "source": [
    "# Usage: jellyfish mem [options] file:path+\n",
    "\n",
    "# Give memory usage information\n",
    "\n",
    "# The mem subcommand gives some information about the memory usage of\n",
    "# Jellyfish when counting mers. If one replace 'count' by 'mem' in the\n",
    "# command line, it displays the amount of memory needed. All the\n",
    "# switches of the count subcommand are supported, although only the\n",
    "# meaningful one for computing the memory usage are used.\n",
    "\n",
    "# If the '--size' (-s) switch is omitted and the --mem switch is passed\n",
    "# with an amount of memory in bytes, then the largest size that fit in\n",
    "# that amount of memory is returned.\n",
    "\n",
    "# The memory usage information only takes into account the hash to store\n",
    "# the k-mers, not various buffers (e.g. in parsing the input files). But\n",
    "# typically those will be small in comparison to the hash.\n",
    "\n",
    "# Options (default value in (), *required):\n",
    "#  -m, --mer-len=uint32                    *Length of mer\n",
    "#  -s, --size=uint64                        Initial hash size\n",
    "#  -c, --counter-len=Length in bits         Length bits of counting field (7)\n",
    "#  -p, --reprobes=uint32                    Maximum number of reprobes (126)\n",
    "#      --mem=uint64                         Return maximum size to fit within that memory\n",
    "#      --bc=peath                           Ignored switch\n",
    "#      --usage                              Usage\n",
    "#  -h, --help                               This message\n",
    "#      --full-help                          Detailed help\n",
    "#  -V, --version                            Version"
   ]
  },
  {
   "cell_type": "code",
   "execution_count": null,
   "metadata": {},
   "outputs": [],
   "source": [
    "# [21-05-09T9:13:06] cameronprybol@Camerons-MacBook-Pro ~/Repos/applied-paper % jellyfish mem --mer-len=61 -s 1000000000\n",
    "# 14725627056 (13G)"
   ]
  },
  {
   "cell_type": "code",
   "execution_count": null,
   "metadata": {},
   "outputs": [],
   "source": [
    "# jellyfish mem --mer-len 61 --mem 4000000000\n",
    "\n",
    "# [21-05-09T9:14:34] cameronprybol@Camerons-MacBook-Pro ~/Repos/applied-paper % jellyfish mem --mer-len 61 --mem 4000000000\n",
    "# 268435456 (268M)"
   ]
  },
  {
   "cell_type": "code",
   "execution_count": 33,
   "metadata": {},
   "outputs": [
    {
     "data": {
      "text/plain": [
       "3"
      ]
     },
     "execution_count": 33,
     "metadata": {},
     "output_type": "execute_result"
    }
   ],
   "source": [
    "k = 3"
   ]
  },
  {
   "cell_type": "code",
   "execution_count": 35,
   "metadata": {},
   "outputs": [
    {
     "data": {
      "text/plain": [
       "4000000000"
      ]
     },
     "execution_count": 35,
     "metadata": {},
     "output_type": "execute_result"
    }
   ],
   "source": [
    "max_memory = 4_000_000_000 # 4Gb"
   ]
  },
  {
   "cell_type": "code",
   "execution_count": 42,
   "metadata": {},
   "outputs": [
    {
     "data": {
      "text/plain": [
       "1073741824"
      ]
     },
     "execution_count": 42,
     "metadata": {},
     "output_type": "execute_result"
    }
   ],
   "source": [
    "jellyfish_buffer_size = parse(Int, first(split(read(`jellyfish mem --mer-len $(k) --mem $(max_memory)`, String))))"
   ]
  },
  {
   "cell_type": "code",
   "execution_count": null,
   "metadata": {},
   "outputs": [],
   "source": [
    "jellyfish stats"
   ]
  }
 ],
 "metadata": {
  "kernelspec": {
   "display_name": "Julia 1.6.3",
   "language": "julia",
   "name": "julia-1.6"
  },
  "language_info": {
   "file_extension": ".jl",
   "mimetype": "application/julia",
   "name": "julia",
   "version": "1.6.3"
  }
 },
 "nbformat": 4,
 "nbformat_minor": 4
}
