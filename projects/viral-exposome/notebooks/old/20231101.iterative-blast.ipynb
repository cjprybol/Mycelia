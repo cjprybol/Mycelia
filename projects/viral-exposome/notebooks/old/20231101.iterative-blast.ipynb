{
 "cells": [
  {
   "cell_type": "markdown",
   "id": "08691468-3618-4425-875a-a1ae5487e530",
   "metadata": {},
   "source": [
    "objectives\n",
    "- find the top hit for each contig in the blast output\n",
    "- determine what percentage of contigs were classified\n",
    "- determine what percentage of reads were classified\n",
    "- compare this to kraken - what is the gain?!"
   ]
  },
  {
   "cell_type": "markdown",
   "id": "0c657b2d-a605-43d5-b857-fa6bdf0d38db",
   "metadata": {},
   "source": [
    "find the top hit for each contig in the blast output"
   ]
  },
  {
   "cell_type": "code",
   "execution_count": null,
   "id": "12c5a71f-aa6e-444b-a807-f25795d85a5f",
   "metadata": {},
   "outputs": [],
   "source": [
    "ENV[\"LD_LIBRARY_PATH\"]"
   ]
  },
  {
   "cell_type": "code",
   "execution_count": null,
   "id": "28717f71-b8e6-49a1-a568-0e4b702c3c65",
   "metadata": {},
   "outputs": [],
   "source": [
    "pkgs = [\n",
    "    \"DataFrames\",\n",
    "    \"StatsBase\",\n",
    "    \"ProgressMeter\",\n",
    "    \"uCSV\",\n",
    "    \"FASTX\"\n",
    "]\n",
    "import Pkg\n",
    "Pkg.activate(; temp=true)\n",
    "Pkg.add(pkgs)\n",
    "for pkg in pkgs\n",
    "    eval(Meta.parse(\"import $pkg\"))\n",
    "end"
   ]
  },
  {
   "cell_type": "code",
   "execution_count": null,
   "id": "6b723217-3c7e-4805-93db-9901f348c058",
   "metadata": {},
   "outputs": [],
   "source": [
    "memory=64\n",
    "threads=max(1, Int(memory//8))\n",
    "blast_task = \"blastn\"\n",
    "db = \"nt\""
   ]
  },
  {
   "cell_type": "code",
   "execution_count": null,
   "id": "fa72d16d-406a-4e4d-881b-c8e55dfde776",
   "metadata": {},
   "outputs": [],
   "source": [
    "base_dir = dirname(pwd())\n",
    "data_dir = joinpath(base_dir, \"data\")"
   ]
  },
  {
   "cell_type": "code",
   "execution_count": null,
   "id": "b965f435-240a-403d-814c-f67e2de91683",
   "metadata": {},
   "outputs": [],
   "source": [
    "# fasta_files = filter(x -> occursin(r\"\\.fasta$\", x), readdir(joinpath(data_dir, \"exposome_data\", \"Expo_pliot1_extracted_hifi_fastqs\"), join=true))\n",
    "# fasta_files = vcat(fasta_files, filter(x -> occursin(r\"\\.fasta$\", x), readdir(joinpath(data_dir, \"exposome_data\", \"extracted1\"), join=true)))\n",
    "\n",
    "# ProgressMeter.@showprogress for fasta_file in fasta_files\n",
    "#     megablast_result = fasta_file * \".blastn.$(db).megablast.txt\"\n",
    "#     @assert isfile(megablast_result)\n",
    "#     megablast_result_summary_file = megablast_result * \".summary.tsv\"\n",
    "#     if !isfile(megablast_result_summary_file)\n",
    "#         hit_strings = readlines(`grep -F \"hits found\" $(megablast_result)`)\n",
    "#         hits = map(hit_string -> parse(Int, first(match(r\"# (\\d+) hits found\", hit_string).captures)), hit_strings)\n",
    "#         query_strings = readlines(`grep -F \"# Query:\" $(megablast_result)`)\n",
    "#         query_ids = map(query_string -> first(match(r\"# Query: ([^\\s]+)\", query_string).captures), query_strings)\n",
    "#         blast_results_summary = DataFrames.DataFrame(;query_ids, hits)\n",
    "#         uCSV.write(megablast_result_summary_file, blast_results_summary, delim='\\t')\n",
    "#     else\n",
    "#         blast_results_summary = DataFrames.DataFrame(uCSV.read(megablast_result_summary_file, delim='\\t', header=1))\n",
    "#     end\n",
    "#     missed_fasta_file = megablast_result * \".missed.fna\"\n",
    "#     missed_ids = Set(blast_results_summary[blast_results_summary[!, \"hits\"] .== 0, \"query_ids\"])\n",
    "#     # @show length(missed_ids)\n",
    "#     if !isfile(missed_fasta_file)\n",
    "#         open(missed_fasta_file, \"w\") do io\n",
    "#             fastx_io = FASTX.FASTA.Writer(io)\n",
    "#             for record in FASTX.FASTA.Reader(open(fasta_file))\n",
    "#                 if FASTX.identifier(record) in missed_ids\n",
    "#                     write(fastx_io, record)\n",
    "#                 end\n",
    "#             end\n",
    "#             close(fastx_io)\n",
    "#         end\n",
    "#     end\n",
    "#     # @show filesize(missed_fasta_file)\n",
    "#     target_outfile = missed_fasta_file * \".blastn.$(db).$(blast_task).txt\"\n",
    "#     out_directory = dirname(megablast_result)\n",
    "#     # @show out_directory\n",
    "#     if !isfile(target_outfile)\n",
    "    \n",
    "#         cmd = \"julia $(homedir())/workspace/Mycelia/scripts/run-blastn.jl --fasta $(missed_fasta_file) --blast_db $(db) --task $(blast_task) --out_directory $(dirname(megablast_result)) --threads $(threads)\"\n",
    "#         # @show cmd\n",
    "#         submission = \n",
    "#         `sbatch \n",
    "#         --mail-user=cameron.prybol@gmail.com\n",
    "#         --mail-type=ALL\n",
    "#         --error=%x-%j.err\n",
    "#         --output=%x-%j.out\n",
    "#         --partition=batch\n",
    "#         --account=mpsnyder\n",
    "#         --nodes=1\n",
    "#         --ntasks=1\n",
    "#         --time=1-00:00:00    \n",
    "#         --cpus-per-task=$(threads)\n",
    "#         --mem=$(memory)G\n",
    "#         --job-name=blastn\n",
    "#         --wrap $cmd\n",
    "#         `\n",
    "#         run(submission)\n",
    "#     end\n",
    "# end"
   ]
  },
  {
   "cell_type": "code",
   "execution_count": null,
   "id": "23109ba9-812c-4b56-a4d1-2ecb4a868dbf",
   "metadata": {},
   "outputs": [],
   "source": [
    "sample_directories = readdir(joinpath(data_dir, \"SRA\"), join=true)"
   ]
  },
  {
   "cell_type": "code",
   "execution_count": null,
   "id": "9ffcf44d-1ee3-4d75-a2a1-4b2ef90b47cd",
   "metadata": {},
   "outputs": [],
   "source": [
    "# classification_rates_table = DataFrames.DataFrame()\n",
    "# still need to run 250!!\n",
    "ProgressMeter.@showprogress for sample_directory in sample_directories\n",
    "# sample_directory = first(sample_directories)\n",
    "    # @show sample_directory\n",
    "    blastn_directory = joinpath(sample_directory, \"blastn\")\n",
    "    megablast_result = first(filter(x -> occursin(\"megablast\", x), readdir(blastn_directory, join=true)))\n",
    "    megablast_result_summary_file = megablast_result * \".summary.tsv\"\n",
    "    try\n",
    "        if !isfile(megablast_result_summary_file)\n",
    "            hit_strings = readlines(`grep -F \"hits found\" $(megablast_result)`)\n",
    "            hits = map(hit_string -> parse(Int, first(match(r\"# (\\d+) hits found\", hit_string).captures)), hit_strings)\n",
    "            query_strings = readlines(`grep -F \"# Query:\" $(megablast_result)`)\n",
    "            query_ids = map(query_string -> first(match(r\"# Query: ([^\\s]+)\", query_string).captures), query_strings)\n",
    "            blast_results_summary = DataFrames.DataFrame(;query_ids, hits)\n",
    "            uCSV.write(megablast_result_summary_file, blast_results_summary, delim='\\t')\n",
    "        else\n",
    "            blast_results_summary = DataFrames.DataFrame(uCSV.read(megablast_result_summary_file, delim='\\t', header=1))\n",
    "        end\n",
    "        missed_fasta_file = megablast_result * \".missed.fna\"\n",
    "        fasta_file = joinpath(sample_directory, \"megahit\", \"final.contigs.fastg.gfa.fna\")\n",
    "        missed_ids = Set(blast_results_summary[blast_results_summary[!, \"hits\"] .== 0, \"query_ids\"])\n",
    "        if !isfile(missed_fasta_file) && length(missed_ids) > 0\n",
    "            open(missed_fasta_file, \"w\") do io\n",
    "                fastx_io = FASTX.FASTA.Writer(io)\n",
    "                for record in FASTX.FASTA.Reader(open(fasta_file))\n",
    "                    if FASTX.identifier(record) in missed_ids\n",
    "                        write(fastx_io, record)\n",
    "                    end\n",
    "                end\n",
    "                close(fastx_io)\n",
    "            end\n",
    "        end\n",
    "        if length(missed_ids) > 0\n",
    "            @assert isfile(missed_fasta_file) && (filesize(missed_fasta_file) > 0)\n",
    "        end\n",
    "        target_outfile = missed_fasta_file * \".blastn.$(db).$(blast_task).txt\"\n",
    "        if !isfile(target_outfile) && isfile(missed_fasta_file) && (filesize(missed_fasta_file) > 0)\n",
    "            cmd = \"julia $(homedir())/workspace/Mycelia/scripts/run-blastn.jl --fasta $(missed_fasta_file) --blast_db $(db) --task $(blast_task) --out_directory $(blastn_directory) --threads $(threads)\"\n",
    "            @show cmd\n",
    "            submission = \n",
    "            `sbatch \n",
    "            --mail-user=cameron.prybol@gmail.com\n",
    "            --mail-type=ALL\n",
    "            --error=%x-%j.err\n",
    "            --output=%x-%j.out\n",
    "            --partition=batch\n",
    "            --account=mpsnyder\n",
    "            --nodes=1\n",
    "            --ntasks=1\n",
    "            --time=1-00:00:00    \n",
    "            --cpus-per-task=$(threads)\n",
    "            --mem=$(memory)G\n",
    "            --job-name=blastn\n",
    "            --wrap $cmd\n",
    "            `\n",
    "            run(submission)\n",
    "        else\n",
    "            println(\"sample $(sample_directory) already run(ning)\")\n",
    "        end\n",
    "    catch\n",
    "        println(\"issue on sample $(sample_directory)\")\n",
    "    end\n",
    "end"
   ]
  },
  {
   "cell_type": "code",
   "execution_count": null,
   "id": "0aa730c3-f9e1-43ff-80cd-0065f277c6df",
   "metadata": {},
   "outputs": [],
   "source": [
    "# sort -k1,1 -k13,13nr -k12,12n  blastout.txt | uniq -k1,1\n",
    "\n",
    "# sort -u -k1,1 --merge\n",
    "\n",
    "# bit score"
   ]
  },
  {
   "cell_type": "code",
   "execution_count": null,
   "id": "2b032c50-055b-435b-b0ee-2393fb0b531c",
   "metadata": {},
   "outputs": [],
   "source": [
    "# query id\n",
    "# subject id\n",
    "# subject acc.\n",
    "# subject acc.ver\n",
    "# subject title\n",
    "# query length\n",
    "# subject length\n",
    "# q. start\n",
    "# q. end\n",
    "# s. start\n",
    "# s. end\n",
    "# evalue\n",
    "# bit score\n",
    "# alignment length\n",
    "# % identity\n",
    "# identical\n",
    "# mismatches\n",
    "# subject tax ids"
   ]
  },
  {
   "cell_type": "code",
   "execution_count": null,
   "id": "1e7e4519-5ce9-4f56-936f-4666d263e802",
   "metadata": {},
   "outputs": [],
   "source": [
    "# sort -k 1 ' < input_file > sorted_file"
   ]
  },
  {
   "cell_type": "code",
   "execution_count": null,
   "id": "adcf1a55-ad07-496c-913f-7e189a76b9cb",
   "metadata": {},
   "outputs": [],
   "source": [
    " # -k12,12n\n",
    "# grep -v \"^#\" /oak/stanford/scg/lab_mpsnyder/cjprybol/Mycelia/projects/viral-exposome-discovery/data/SRA/SRR6399459/blastn/final.contigs.fastg.gfa.fna.blastn.nt.megablast.txt | \\\n",
    "# sort -t $'\\t' -k1,1 -k13,13nr | \\\n",
    "# uniq -f 1 | \\\n",
    "# less"
   ]
  },
  {
   "cell_type": "markdown",
   "id": "80e5cf29-1f4a-490a-9671-155675541336",
   "metadata": {},
   "source": [
    "determine what percentage of reads were classified"
   ]
  },
  {
   "cell_type": "markdown",
   "id": "8f5874fd-29d4-429e-9e87-968c2c5ea800",
   "metadata": {},
   "source": [
    "compare this to kraken - what is the gain?!"
   ]
  }
 ],
 "metadata": {
  "kernelspec": {
   "display_name": "Julia 1.9.3",
   "language": "julia",
   "name": "julia-1.9"
  },
  "language_info": {
   "file_extension": ".jl",
   "mimetype": "application/julia",
   "name": "julia",
   "version": "1.9.3"
  }
 },
 "nbformat": 4,
 "nbformat_minor": 5
}
