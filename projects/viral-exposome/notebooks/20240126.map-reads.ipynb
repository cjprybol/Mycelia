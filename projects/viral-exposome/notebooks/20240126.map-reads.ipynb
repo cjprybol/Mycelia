{
 "cells": [
  {
   "cell_type": "code",
   "execution_count": 1,
   "id": "fcf147cc-a2a0-418d-9aa6-48aa8b505efe",
   "metadata": {},
   "outputs": [
    {
     "name": "stderr",
     "output_type": "stream",
     "text": [
      "\u001b[36m\u001b[1m[ \u001b[22m\u001b[39m\u001b[36m\u001b[1mInfo: \u001b[22m\u001b[39mPrecompiling Mycelia [453d265d-8292-4a7b-a57c-dce3f9ae6acd]\n",
      "\u001b[36m\u001b[1m[ \u001b[22m\u001b[39m\u001b[36m\u001b[1mInfo: \u001b[22m\u001b[39mSkipping precompilation since __precompile__(false). Importing Mycelia [453d265d-8292-4a7b-a57c-dce3f9ae6acd].\n"
     ]
    }
   ],
   "source": [
    "@assert ENV[\"LD_LIBRARY_PATH\"] == \"\"\n",
    "import Pkg\n",
    "pkgs = [\n",
    "    \"Revise\",\n",
    "    \"DataFrames\",\n",
    "    \"uCSV\"\n",
    "]\n",
    "# Pkg.add(pkgs)\n",
    "for pkg in pkgs\n",
    "    eval(Meta.parse(\"import $pkg\"))\n",
    "end\n",
    "import Mycelia"
   ]
  },
  {
   "cell_type": "code",
   "execution_count": 2,
   "id": "457402c5-0c5a-4f91-880c-cc7ddad9b8f8",
   "metadata": {},
   "outputs": [
    {
     "data": {
      "text/plain": [
       "\"/oak/stanford/scg/lab_mpsnyder/cjprybol/Mycelia/projects/viral-exposome/data\""
      ]
     },
     "execution_count": 2,
     "metadata": {},
     "output_type": "execute_result"
    }
   ],
   "source": [
    "project_dir = dirname(pwd())\n",
    "data_dir = mkpath(joinpath(project_dir, \"data\"))"
   ]
  },
  {
   "cell_type": "code",
   "execution_count": 13,
   "id": "1fe9dff3-0afc-4e17-9457-cce1ce9cf33f",
   "metadata": {},
   "outputs": [
    {
     "data": {
      "text/plain": [
       "5-element Vector{String}:\n",
       " \"/oak/stanford/scg/lab_mpsnyder/cjprybol/Mycelia/projects/viral-exposome/data/viral-reference-fastas/GCF_000001405.40_GRCh38.p14_genomic.fna.gz\"\n",
       " \"/oak/stanford/scg/lab_mpsnyder/cjprybol/Mycelia/projects/viral-exposome/data/viral-reference-fastas/ictv-examplar-viruses.fna.gz\"\n",
       " \"/oak/stanford/scg/lab_mpsnyder/cjprybol/Mycelia/projects/viral-exposome/data/viral-reference-fastas/ref_viruses_rep_genomes.fasta.gz\"\n",
       " \"/oak/stanford/scg/lab_mpsnyder/cjprybol/Mycelia/projects/viral-exposome/data/viral-reference-fastas/IMGVR_all_nucleotides-high_confidence.fna.gz\"\n",
       " \"/oak/stanford/scg/lab_mpsnyder/cjprybol/Mycelia/projects/viral-exposome/data/viral-reference-fastas/nt_viruses.fasta.gz\""
      ]
     },
     "execution_count": 13,
     "metadata": {},
     "output_type": "execute_result"
    }
   ],
   "source": [
    "viral_reference_fastas_dir = mkpath(joinpath(data_dir, \"viral-reference-fastas\"))\n",
    "reference_fastas = sort(filter(x -> occursin(r\"\\.f(na|asta)\\.gz$\", x), readdir(viral_reference_fastas_dir, join=true)), by=x->filesize(x))"
   ]
  },
  {
   "cell_type": "code",
   "execution_count": 4,
   "id": "7fbe69ac-743d-4c16-9d11-9dae7ba3af28",
   "metadata": {},
   "outputs": [
    {
     "data": {
      "text/plain": [
       "\"/home/cjprybol/workspace/slurmlogs\""
      ]
     },
     "execution_count": 4,
     "metadata": {},
     "output_type": "execute_result"
    }
   ],
   "source": [
    "slurm_logdir = mkpath(\"$(homedir())/workspace/slurmlogs\")"
   ]
  },
  {
   "cell_type": "code",
   "execution_count": 5,
   "id": "36fd11e8-8ad7-4145-8f7c-103528530ad3",
   "metadata": {},
   "outputs": [],
   "source": [
    "# samples = readdir(joinpath(dirname(project_dir), \"viral-exposome-discovery\", \"data\", \"SRA\"), join=true)"
   ]
  },
  {
   "cell_type": "code",
   "execution_count": 6,
   "id": "72b41b14-b206-4310-a950-3e075df01e8c",
   "metadata": {},
   "outputs": [
    {
     "data": {
      "text/plain": [
       "\"/oak/stanford/scg/lab_mpsnyder/cjprybol/Mycelia/projects/viral-exposome/metadata\""
      ]
     },
     "execution_count": 6,
     "metadata": {},
     "output_type": "execute_result"
    }
   ],
   "source": [
    "exposome_metadata_dir = joinpath(project_dir, \"metadata\")"
   ]
  },
  {
   "cell_type": "code",
   "execution_count": 7,
   "id": "60e4fb46-168f-4262-a4f1-a9b4de1f6181",
   "metadata": {},
   "outputs": [
    {
     "name": "stderr",
     "output_type": "stream",
     "text": [
      "\u001b[33m\u001b[1m┌ \u001b[22m\u001b[39m\u001b[33m\u001b[1mWarning: \u001b[22m\u001b[39mLarge values for `typedetectrows` will reduce performance. Consider manually declaring the types of columns using the `types` argument instead.\n",
      "\u001b[33m\u001b[1m└ \u001b[22m\u001b[39m\u001b[90m@ uCSV ~/.julia/packages/uCSV/goLRH/src/read.jl:213\u001b[39m\n",
      "\u001b[33m\u001b[1m┌ \u001b[22m\u001b[39m\u001b[33m\u001b[1mWarning: \u001b[22m\u001b[39mLarge values for `typedetectrows` will reduce performance. Consider manually declaring the types of columns using the `types` argument instead.\n",
      "\u001b[33m\u001b[1m└ \u001b[22m\u001b[39m\u001b[90m@ uCSV ~/.julia/packages/uCSV/goLRH/src/read.jl:213\u001b[39m\n"
     ]
    },
    {
     "data": {
      "text/plain": [
       "213-element Vector{String}:\n",
       " \"/oak/stanford/scg/lab_mpsnyder/cjprybol/Mycelia/projects/viral-exposome/data/SRA/SRR6399459\"\n",
       " \"/oak/stanford/scg/lab_mpsnyder/cjprybol/Mycelia/projects/viral-exposome/data/SRA/SRR6399460\"\n",
       " \"/oak/stanford/scg/lab_mpsnyder/cjprybol/Mycelia/projects/viral-exposome/data/SRA/SRR6399461\"\n",
       " \"/oak/stanford/scg/lab_mpsnyder/cjprybol/Mycelia/projects/viral-exposome/data/SRA/SRR6399462\"\n",
       " \"/oak/stanford/scg/lab_mpsnyder/cjprybol/Mycelia/projects/viral-exposome/data/SRA/SRR6399464\"\n",
       " \"/oak/stanford/scg/lab_mpsnyder/cjprybol/Mycelia/projects/viral-exposome/data/SRA/SRR6399485\"\n",
       " \"/oak/stanford/scg/lab_mpsnyder/cjprybol/Mycelia/projects/viral-exposome/data/SRA/SRR6399486\"\n",
       " \"/oak/stanford/scg/lab_mpsnyder/cjprybol/Mycelia/projects/viral-exposome/data/SRA/SRR6399487\"\n",
       " \"/oak/stanford/scg/lab_mpsnyder/cjprybol/Mycelia/projects/viral-exposome/data/SRA/SRR6399488\"\n",
       " \"/oak/stanford/scg/lab_mpsnyder/cjprybol/Mycelia/projects/viral-exposome/data/SRA/SRR6399490\"\n",
       " \"/oak/stanford/scg/lab_mpsnyder/cjprybol/Mycelia/projects/viral-exposome/data/SRA/SRR6399491\"\n",
       " \"/oak/stanford/scg/lab_mpsnyder/cjprybol/Mycelia/projects/viral-exposome/data/SRA/SRR6399492\"\n",
       " \"/oak/stanford/scg/lab_mpsnyder/cjprybol/Mycelia/projects/viral-exposome/data/SRA/SRR6399494\"\n",
       " ⋮\n",
       " \"/oak/stanford/scg/lab_mpsnyder/cjprybol/Mycelia/projects/viral-exposome/data/SRA/SRR6399977\"\n",
       " \"/oak/stanford/scg/lab_mpsnyder/cjprybol/Mycelia/projects/viral-exposome/data/SRA/SRR6399986\"\n",
       " \"/oak/stanford/scg/lab_mpsnyder/cjprybol/Mycelia/projects/viral-exposome/data/SRA/SRR6399988\"\n",
       " \"/oak/stanford/scg/lab_mpsnyder/cjprybol/Mycelia/projects/viral-exposome/data/SRA/SRR6399991\"\n",
       " \"/oak/stanford/scg/lab_mpsnyder/cjprybol/Mycelia/projects/viral-exposome/data/SRA/SRR6400014\"\n",
       " \"/oak/stanford/scg/lab_mpsnyder/cjprybol/Mycelia/projects/viral-exposome/data/SRA/SRR6400015\"\n",
       " \"/oak/stanford/scg/lab_mpsnyder/cjprybol/Mycelia/projects/viral-exposome/data/SRA/SRR6400017\"\n",
       " \"/oak/stanford/scg/lab_mpsnyder/cjprybol/Mycelia/projects/viral-exposome/data/SRA/SRR6400018\"\n",
       " \"/oak/stanford/scg/lab_mpsnyder/cjprybol/Mycelia/projects/viral-exposome/data/SRA/SRR6400019\"\n",
       " \"/oak/stanford/scg/lab_mpsnyder/cjprybol/Mycelia/projects/viral-exposome/data/SRA/SRR6400022\"\n",
       " \"/oak/stanford/scg/lab_mpsnyder/cjprybol/Mycelia/projects/viral-exposome/data/SRA/SRR6400023\"\n",
       " \"/oak/stanford/scg/lab_mpsnyder/cjprybol/Mycelia/projects/viral-exposome/data/SRA/SRR6400024\""
      ]
     },
     "execution_count": 7,
     "metadata": {},
     "output_type": "execute_result"
    }
   ],
   "source": [
    "exposome_environmental_data = DataFrames.DataFrame(uCSV.read(\n",
    "    joinpath(exposome_metadata_dir, \"metadata_exposome.rds.tsv\"),\n",
    "    delim='\\t',\n",
    "    header=1,\n",
    "    typedetectrows=300\n",
    "))\n",
    "\n",
    "joint_sample_metadata = DataFrames.DataFrame(uCSV.read(\n",
    "    joinpath(exposome_metadata_dir, \"exposome/joint_sample_metadata.tsv\"),\n",
    "    delim='\\t',\n",
    "    header=1,\n",
    "    typedetectrows=300\n",
    "))\n",
    "\n",
    "@assert joint_sample_metadata[!, \"Library Name\"] == joint_sample_metadata[!, \"LibraryName\"]\n",
    "\n",
    "joint_metadata = DataFrames.innerjoin(\n",
    "    joint_sample_metadata,\n",
    "    exposome_environmental_data,\n",
    "    on=\"Library Name\" => \"samplenames\")\n",
    "\n",
    "sample_directories = sort(joinpath.(project_dir, \"data\", \"SRA\", joint_metadata[!, \"Run\"]))"
   ]
  },
  {
   "cell_type": "code",
   "execution_count": 14,
   "id": "0b887c28-b8b0-49d5-9a6c-9e9c4901164d",
   "metadata": {},
   "outputs": [
    {
     "data": {
      "text/plain": [
       "\"/oak/stanford/scg/lab_mpsnyder/cjprybol/Mycelia/projects/viral-exposome/data/viral-reference-fastas/ref_viruses_rep_genomes.fasta.gz\""
      ]
     },
     "execution_count": 14,
     "metadata": {},
     "output_type": "execute_result"
    }
   ],
   "source": [
    "# 64 ictv-examplar-viruses.fna.gz\n",
    "# 64 ref_viruses_rep_genomes.fasta.gz\n",
    "# fasta_file = reference_fastas[2]\n",
    "# fasta_file = reference_fastas[3]\n",
    "memory = 64\n",
    "threads = 8"
   ]
  },
  {
   "cell_type": "code",
   "execution_count": 17,
   "id": "7a2f9ca6-1869-43b8-baa7-84da81b5c851",
   "metadata": {},
   "outputs": [
    {
     "data": {
      "text/plain": [
       "\"/oak/stanford/scg/lab_mpsnyder/cjprybol/Mycelia/projects/viral-exposome/data/viral-reference-fastas/GCF_000001405.40_GRCh38.p14_genomic.fna.gz\""
      ]
     },
     "execution_count": 17,
     "metadata": {},
     "output_type": "execute_result"
    }
   ],
   "source": [
    "fasta_file = reference_fastas[1]"
   ]
  },
  {
   "cell_type": "code",
   "execution_count": 18,
   "id": "dcd7e2ae-20a1-4ec7-8aaf-09bea5750f67",
   "metadata": {},
   "outputs": [
    {
     "data": {
      "text/plain": [
       "16"
      ]
     },
     "execution_count": 18,
     "metadata": {},
     "output_type": "execute_result"
    }
   ],
   "source": [
    "memory = 128\n",
    "threads = 16\n",
    "# 128 GCF_000001405.40_GRCh38.p14_genomic.fna.gz"
   ]
  },
  {
   "cell_type": "code",
   "execution_count": 19,
   "id": "d35bedb5-3bd7-4c32-b640-2bff5b0759df",
   "metadata": {},
   "outputs": [
    {
     "name": "stdout",
     "output_type": "stream",
     "text": [
      "Submitted batch job 42474709\n",
      "Submitted batch job 42474710\n",
      "Submitted batch job 42474711\n",
      "Submitted batch job 42474712\n",
      "Submitted batch job 42474713\n",
      "Submitted batch job 42474714\n",
      "Submitted batch job 42474715\n",
      "Submitted batch job 42474716\n",
      "Submitted batch job 42474717\n",
      "Submitted batch job 42474718\n",
      "Submitted batch job 42474719\n",
      "Submitted batch job 42474720\n",
      "Submitted batch job 42474721\n",
      "Submitted batch job 42474722\n",
      "Submitted batch job 42474723\n",
      "Submitted batch job 42474724\n",
      "Submitted batch job 42474725\n",
      "Submitted batch job 42474726\n",
      "Submitted batch job 42474727\n",
      "Submitted batch job 42474728\n",
      "Submitted batch job 42474729\n",
      "Submitted batch job 42474730\n",
      "Submitted batch job 42474731\n",
      "Submitted batch job 42474732\n",
      "Submitted batch job 42474733\n",
      "Submitted batch job 42474734\n",
      "Submitted batch job 42474735\n",
      "Submitted batch job 42474736\n",
      "Submitted batch job 42474737\n",
      "Submitted batch job 42474738\n",
      "Submitted batch job 42474739\n",
      "Submitted batch job 42474740\n",
      "Submitted batch job 42474741\n",
      "Submitted batch job 42474742\n",
      "Submitted batch job 42474743\n",
      "Submitted batch job 42474744\n",
      "Submitted batch job 42474745\n",
      "Submitted batch job 42474746\n",
      "Submitted batch job 42474747\n",
      "Submitted batch job 42474748\n",
      "Submitted batch job 42474749\n",
      "Submitted batch job 42474750\n",
      "Submitted batch job 42474751\n",
      "Submitted batch job 42474752\n",
      "Submitted batch job 42474753\n",
      "Submitted batch job 42474754\n",
      "Submitted batch job 42474755\n",
      "Submitted batch job 42474756\n",
      "Submitted batch job 42474757\n",
      "Submitted batch job 42474758\n",
      "Submitted batch job 42474759\n",
      "Submitted batch job 42474760\n",
      "Submitted batch job 42474761\n",
      "Submitted batch job 42474762\n",
      "Submitted batch job 42474763\n",
      "Submitted batch job 42474764\n",
      "Submitted batch job 42474765\n",
      "Submitted batch job 42474766\n",
      "Submitted batch job 42474767\n",
      "Submitted batch job 42474768\n",
      "Submitted batch job 42474769\n",
      "Submitted batch job 42474770\n",
      "Submitted batch job 42474771\n",
      "Submitted batch job 42474772\n",
      "Submitted batch job 42474773\n",
      "Submitted batch job 42474774\n",
      "Submitted batch job 42474775\n",
      "Submitted batch job 42474776\n",
      "Submitted batch job 42474777\n",
      "Submitted batch job 42474778\n",
      "Submitted batch job 42474779\n",
      "Submitted batch job 42474780\n",
      "Submitted batch job 42474781\n",
      "Submitted batch job 42474782\n",
      "Submitted batch job 42474783\n",
      "Submitted batch job 42474784\n",
      "Submitted batch job 42474785\n",
      "Submitted batch job 42474786\n",
      "Submitted batch job 42474787\n",
      "Submitted batch job 42474788\n",
      "Submitted batch job 42474789\n",
      "Submitted batch job 42474790\n",
      "Submitted batch job 42474791\n",
      "Submitted batch job 42474792\n",
      "Submitted batch job 42474793\n",
      "Submitted batch job 42474794\n",
      "Submitted batch job 42474795\n",
      "Submitted batch job 42474796\n",
      "Submitted batch job 42474797\n",
      "Submitted batch job 42474798\n",
      "Submitted batch job 42474799\n",
      "Submitted batch job 42474800\n",
      "Submitted batch job 42474801\n",
      "Submitted batch job 42474802\n",
      "Submitted batch job 42474803\n",
      "Submitted batch job 42474804\n",
      "Submitted batch job 42474805\n",
      "Submitted batch job 42474806\n",
      "Submitted batch job 42474807\n",
      "Submitted batch job 42474808\n",
      "Submitted batch job 42474809\n",
      "Submitted batch job 42474810\n",
      "Submitted batch job 42474811\n",
      "Submitted batch job 42474812\n",
      "Submitted batch job 42474813\n",
      "Submitted batch job 42474814\n",
      "Submitted batch job 42474815\n",
      "Submitted batch job 42474816\n",
      "Submitted batch job 42474817\n",
      "Submitted batch job 42474818\n",
      "Submitted batch job 42474819\n",
      "Submitted batch job 42474820\n",
      "Submitted batch job 42474821\n",
      "Submitted batch job 42474822\n",
      "Submitted batch job 42474823\n",
      "Submitted batch job 42474824\n",
      "Submitted batch job 42474825\n",
      "Submitted batch job 42474826\n",
      "Submitted batch job 42474827\n",
      "Submitted batch job 42474828\n",
      "Submitted batch job 42474829\n",
      "Submitted batch job 42474830\n",
      "Submitted batch job 42474831\n",
      "Submitted batch job 42474832\n",
      "Submitted batch job 42474833\n",
      "Submitted batch job 42474834\n",
      "Submitted batch job 42474835\n",
      "Submitted batch job 42474836\n",
      "Submitted batch job 42474837\n",
      "Submitted batch job 42474838\n",
      "Submitted batch job 42474839\n",
      "Submitted batch job 42474840\n",
      "Submitted batch job 42474841\n",
      "Submitted batch job 42474842\n",
      "Submitted batch job 42474843\n",
      "Submitted batch job 42474844\n",
      "Submitted batch job 42474845\n",
      "Submitted batch job 42474846\n",
      "Submitted batch job 42474847\n",
      "Submitted batch job 42474848\n",
      "Submitted batch job 42474849\n",
      "Submitted batch job 42474850\n",
      "Submitted batch job 42474851\n",
      "Submitted batch job 42474852\n",
      "Submitted batch job 42474853\n",
      "Submitted batch job 42474854\n",
      "Submitted batch job 42474855\n",
      "Submitted batch job 42474856\n",
      "Submitted batch job 42474857\n",
      "Submitted batch job 42474858\n",
      "Submitted batch job 42474859\n",
      "Submitted batch job 42474860\n",
      "Submitted batch job 42474861\n",
      "Submitted batch job 42474862\n",
      "Submitted batch job 42474863\n",
      "Submitted batch job 42474864\n",
      "Submitted batch job 42474865\n",
      "Submitted batch job 42474866\n",
      "Submitted batch job 42474867\n",
      "Submitted batch job 42474868\n",
      "Submitted batch job 42474869\n",
      "Submitted batch job 42474870\n",
      "Submitted batch job 42474871\n",
      "Submitted batch job 42474872\n",
      "Submitted batch job 42474873\n",
      "Submitted batch job 42474874\n",
      "Submitted batch job 42474875\n",
      "Submitted batch job 42474876\n",
      "Submitted batch job 42474877\n",
      "Submitted batch job 42474878\n",
      "Submitted batch job 42474879\n",
      "Submitted batch job 42474880\n",
      "Submitted batch job 42474881\n",
      "Submitted batch job 42474882\n",
      "Submitted batch job 42474883\n",
      "Submitted batch job 42474884\n",
      "Submitted batch job 42474885\n",
      "Submitted batch job 42474886\n",
      "Submitted batch job 42474887\n",
      "Submitted batch job 42474888\n",
      "Submitted batch job 42474889\n",
      "Submitted batch job 42474890\n",
      "Submitted batch job 42474891\n",
      "Submitted batch job 42474892\n",
      "Submitted batch job 42474893\n",
      "Submitted batch job 42474894\n",
      "Submitted batch job 42474895\n",
      "Submitted batch job 42474896\n",
      "Submitted batch job 42474897\n",
      "Submitted batch job 42474898\n",
      "Submitted batch job 42474899\n",
      "Submitted batch job 42474900\n",
      "Submitted batch job 42474901\n",
      "Submitted batch job 42474902\n",
      "Submitted batch job 42474903\n",
      "Submitted batch job 42474904\n",
      "Submitted batch job 42474905\n",
      "Submitted batch job 42474906\n",
      "Submitted batch job 42474907\n",
      "Submitted batch job 42474908\n",
      "Submitted batch job 42474909\n",
      "Submitted batch job 42474910\n",
      "Submitted batch job 42474911\n",
      "Submitted batch job 42474912\n",
      "Submitted batch job 42474913\n",
      "Submitted batch job 42474914\n",
      "Submitted batch job 42474915\n",
      "Submitted batch job 42474916\n",
      "Submitted batch job 42474917\n",
      "Submitted batch job 42474918\n",
      "Submitted batch job 42474919\n",
      "Submitted batch job 42474920\n",
      "Submitted batch job 42474921\n"
     ]
    }
   ],
   "source": [
    "for sample in sample_directories\n",
    "    forward = joinpath(sample, \"trim_galore\", \"$(basename(sample))_1_val_1.fq.gz\")\n",
    "    reverse = joinpath(sample, \"trim_galore\", \"$(basename(sample))_2_val_2.fq.gz\")\n",
    "    outdir = mkpath(joinpath(sample, \"alignments\"))\n",
    "    outfile = joinpath(outdir, basename(fasta_file) * \".sorted.bam\")\n",
    "    # @show outfile\n",
    "    if !isfile(outfile) || (filesize(outfile) == 0)\n",
    "        cmd =\n",
    "        \"\"\"\n",
    "        $(Mycelia.MAMBA) run --live-stream -n bwa-mem2 bwa-mem2 mem -t $(threads) $(fasta_file) $(forward) $(reverse) \\\\\n",
    "        | $(Mycelia.MAMBA) run --live-stream -n samtools samtools sort -u --threads $(threads) \\\\\n",
    "        | $(Mycelia.MAMBA) run --live-stream -n samtools samtools view --bam --with-header --output $(outfile)\n",
    "        \"\"\"\n",
    "        Mycelia.sbatch(\n",
    "            job_name = \"bwa-mem2.$(basename(fasta_file)).$(basename(sample))\",\n",
    "            mail_user = \"cameron.prybol@gmail.com\",\n",
    "            logdir = slurm_logdir,\n",
    "            partition = \"batch\",\n",
    "            account = \"mpsnyder\",\n",
    "            mem_gb = memory,\n",
    "            cpus_per_task= threads,\n",
    "            cmd = cmd)\n",
    "    else\n",
    "        @info \"$(outfile) already present...\"\n",
    "    end\n",
    "end"
   ]
  }
 ],
 "metadata": {
  "kernelspec": {
   "display_name": "Julia 1.6.7",
   "language": "julia",
   "name": "julia-1.6"
  },
  "language_info": {
   "file_extension": ".jl",
   "mimetype": "application/julia",
   "name": "julia",
   "version": "1.6.7"
  }
 },
 "nbformat": 4,
 "nbformat_minor": 5
}
