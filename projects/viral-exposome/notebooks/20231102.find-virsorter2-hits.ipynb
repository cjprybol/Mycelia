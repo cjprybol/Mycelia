{
 "cells": [
  {
   "cell_type": "markdown",
   "id": "600fe921-e7cb-43e9-8566-7ff0597071bf",
   "metadata": {},
   "source": [
    "Verdict - not helpful"
   ]
  },
  {
   "cell_type": "markdown",
   "id": "08691468-3618-4425-875a-a1ae5487e530",
   "metadata": {},
   "source": [
    "objectives\n",
    "- find the what contigs were classified as viral by virsorter2\n",
    "- determine the lengths\n",
    "- find alignments in NCBI blast"
   ]
  },
  {
   "cell_type": "code",
   "execution_count": 1,
   "id": "28717f71-b8e6-49a1-a568-0e4b702c3c65",
   "metadata": {},
   "outputs": [
    {
     "name": "stderr",
     "output_type": "stream",
     "text": [
      "\u001b[36m\u001b[1m[ \u001b[22m\u001b[39m\u001b[36m\u001b[1mInfo: \u001b[22m\u001b[39mPrecompiling Mycelia [453d265d-8292-4a7b-a57c-dce3f9ae6acd]\n",
      "\u001b[36m\u001b[1m[ \u001b[22m\u001b[39m\u001b[36m\u001b[1mInfo: \u001b[22m\u001b[39mSkipping precompilation since __precompile__(false). Importing Mycelia [453d265d-8292-4a7b-a57c-dce3f9ae6acd].\n"
     ]
    }
   ],
   "source": [
    "import Pkg\n",
    "pkgs = [\n",
    "    \"Revise\",\n",
    "    \"DataFrames\",\n",
    "    \"StatsBase\",\n",
    "    \"ProgressMeter\"\n",
    "]\n",
    "# Pkg.activate(; temp=true)\n",
    "# Pkg.add(pkgs)\n",
    "for pkg in pkgs\n",
    "    eval(Meta.parse(\"import $pkg\"))\n",
    "end\n",
    "import Mycelia"
   ]
  },
  {
   "cell_type": "code",
   "execution_count": 2,
   "id": "23109ba9-812c-4b56-a4d1-2ecb4a868dbf",
   "metadata": {},
   "outputs": [
    {
     "data": {
      "text/plain": [
       "594-element Vector{String}:\n",
       " \"/oak/stanford/scg/lab_mpsnyder/\" ⋯ 39 bytes ⋯ \"e-discovery/data/SRA/SRR6399459\"\n",
       " \"/oak/stanford/scg/lab_mpsnyder/\" ⋯ 39 bytes ⋯ \"e-discovery/data/SRA/SRR6399460\"\n",
       " \"/oak/stanford/scg/lab_mpsnyder/\" ⋯ 39 bytes ⋯ \"e-discovery/data/SRA/SRR6399461\"\n",
       " \"/oak/stanford/scg/lab_mpsnyder/\" ⋯ 39 bytes ⋯ \"e-discovery/data/SRA/SRR6399462\"\n",
       " \"/oak/stanford/scg/lab_mpsnyder/\" ⋯ 39 bytes ⋯ \"e-discovery/data/SRA/SRR6399463\"\n",
       " \"/oak/stanford/scg/lab_mpsnyder/\" ⋯ 39 bytes ⋯ \"e-discovery/data/SRA/SRR6399464\"\n",
       " \"/oak/stanford/scg/lab_mpsnyder/\" ⋯ 39 bytes ⋯ \"e-discovery/data/SRA/SRR6399465\"\n",
       " \"/oak/stanford/scg/lab_mpsnyder/\" ⋯ 39 bytes ⋯ \"e-discovery/data/SRA/SRR6399466\"\n",
       " \"/oak/stanford/scg/lab_mpsnyder/\" ⋯ 39 bytes ⋯ \"e-discovery/data/SRA/SRR6399467\"\n",
       " \"/oak/stanford/scg/lab_mpsnyder/\" ⋯ 39 bytes ⋯ \"e-discovery/data/SRA/SRR6399468\"\n",
       " \"/oak/stanford/scg/lab_mpsnyder/\" ⋯ 39 bytes ⋯ \"e-discovery/data/SRA/SRR6399469\"\n",
       " \"/oak/stanford/scg/lab_mpsnyder/\" ⋯ 39 bytes ⋯ \"e-discovery/data/SRA/SRR6399470\"\n",
       " \"/oak/stanford/scg/lab_mpsnyder/\" ⋯ 39 bytes ⋯ \"e-discovery/data/SRA/SRR6399471\"\n",
       " ⋮\n",
       " \"/oak/stanford/scg/lab_mpsnyder/\" ⋯ 39 bytes ⋯ \"e-discovery/data/SRA/SRR7365474\"\n",
       " \"/oak/stanford/scg/lab_mpsnyder/\" ⋯ 39 bytes ⋯ \"e-discovery/data/SRA/SRR7365475\"\n",
       " \"/oak/stanford/scg/lab_mpsnyder/\" ⋯ 39 bytes ⋯ \"e-discovery/data/SRA/SRR7365476\"\n",
       " \"/oak/stanford/scg/lab_mpsnyder/\" ⋯ 39 bytes ⋯ \"e-discovery/data/SRA/SRR7365477\"\n",
       " \"/oak/stanford/scg/lab_mpsnyder/\" ⋯ 39 bytes ⋯ \"e-discovery/data/SRA/SRR7365478\"\n",
       " \"/oak/stanford/scg/lab_mpsnyder/\" ⋯ 39 bytes ⋯ \"e-discovery/data/SRA/SRR7365479\"\n",
       " \"/oak/stanford/scg/lab_mpsnyder/\" ⋯ 39 bytes ⋯ \"e-discovery/data/SRA/SRR7365480\"\n",
       " \"/oak/stanford/scg/lab_mpsnyder/\" ⋯ 39 bytes ⋯ \"e-discovery/data/SRA/SRR7365481\"\n",
       " \"/oak/stanford/scg/lab_mpsnyder/\" ⋯ 39 bytes ⋯ \"e-discovery/data/SRA/SRR7365482\"\n",
       " \"/oak/stanford/scg/lab_mpsnyder/\" ⋯ 39 bytes ⋯ \"e-discovery/data/SRA/SRR7365483\"\n",
       " \"/oak/stanford/scg/lab_mpsnyder/\" ⋯ 39 bytes ⋯ \"e-discovery/data/SRA/SRR7365484\"\n",
       " \"/oak/stanford/scg/lab_mpsnyder/\" ⋯ 39 bytes ⋯ \"e-discovery/data/SRA/SRR7365485\""
      ]
     },
     "execution_count": 2,
     "metadata": {},
     "output_type": "execute_result"
    }
   ],
   "source": [
    "base_dir = dirname(pwd())\n",
    "data_dir = joinpath(base_dir, \"data\")\n",
    "sample_directories = readdir(joinpath(data_dir, \"SRA\"), join=true)"
   ]
  },
  {
   "cell_type": "code",
   "execution_count": 3,
   "id": "2ac234c0-8ecc-46d5-9bd5-c6b1ee751857",
   "metadata": {},
   "outputs": [
    {
     "data": {
      "text/plain": [
       "\"/oak/stanford/scg/lab_mpsnyder/cjprybol/Mycelia/projects/viral-exposome-discovery/data/SRA/SRR6399459\""
      ]
     },
     "execution_count": 3,
     "metadata": {},
     "output_type": "execute_result"
    }
   ],
   "source": [
    "sample_directory = first(sample_directories)"
   ]
  },
  {
   "cell_type": "code",
   "execution_count": 4,
   "id": "bf6d84bc-ebe3-42ec-953d-b9330734fb1b",
   "metadata": {},
   "outputs": [
    {
     "data": {
      "text/html": [
       "<div><div style = \"float: left;\"><span>30×9 DataFrame</span></div><div style = \"float: right;\"><span style = \"font-style: italic;\">5 rows omitted</span></div><div style = \"clear: both;\"></div></div><div class = \"data-frame\" style = \"overflow-x: scroll;\"><table class = \"data-frame\" style = \"margin-bottom: 6px;\"><thead><tr class = \"header\"><th class = \"rowNumber\" style = \"font-weight: bold; text-align: right;\">Row</th><th style = \"text-align: left;\">seqname</th><th style = \"text-align: left;\">dsDNAphage</th><th style = \"text-align: left;\">ssDNA</th><th style = \"text-align: left;\">max_score</th><th style = \"text-align: left;\">max_score_group</th><th style = \"text-align: left;\">length</th><th style = \"text-align: left;\">hallmark</th><th style = \"text-align: left;\">viral</th><th style = \"text-align: left;\">cellular</th></tr><tr class = \"subheader headerLastRow\"><th class = \"rowNumber\" style = \"font-weight: bold; text-align: right;\"></th><th title = \"Int64\" style = \"text-align: left;\">Int64</th><th title = \"Float64\" style = \"text-align: left;\">Float64</th><th title = \"Float64\" style = \"text-align: left;\">Float64</th><th title = \"Float64\" style = \"text-align: left;\">Float64</th><th title = \"String\" style = \"text-align: left;\">String</th><th title = \"Int64\" style = \"text-align: left;\">Int64</th><th title = \"Int64\" style = \"text-align: left;\">Int64</th><th title = \"Float64\" style = \"text-align: left;\">Float64</th><th title = \"Float64\" style = \"text-align: left;\">Float64</th></tr></thead><tbody><tr><td class = \"rowNumber\" style = \"font-weight: bold; text-align: right;\">1</td><td style = \"text-align: right;\">1214</td><td style = \"text-align: right;\">0.96</td><td style = \"text-align: right;\">0.993</td><td style = \"text-align: right;\">0.993</td><td style = \"text-align: left;\">ssDNA</td><td style = \"text-align: right;\">827</td><td style = \"text-align: right;\">0</td><td style = \"text-align: right;\">50.0</td><td style = \"text-align: right;\">0.0</td></tr><tr><td class = \"rowNumber\" style = \"font-weight: bold; text-align: right;\">2</td><td style = \"text-align: right;\">1480</td><td style = \"text-align: right;\">0.913</td><td style = \"text-align: right;\">0.967</td><td style = \"text-align: right;\">0.967</td><td style = \"text-align: left;\">ssDNA</td><td style = \"text-align: right;\">373</td><td style = \"text-align: right;\">0</td><td style = \"text-align: right;\">50.0</td><td style = \"text-align: right;\">0.0</td></tr><tr><td class = \"rowNumber\" style = \"font-weight: bold; text-align: right;\">3</td><td style = \"text-align: right;\">1678</td><td style = \"text-align: right;\">0.313</td><td style = \"text-align: right;\">0.987</td><td style = \"text-align: right;\">0.987</td><td style = \"text-align: left;\">ssDNA</td><td style = \"text-align: right;\">1174</td><td style = \"text-align: right;\">0</td><td style = \"text-align: right;\">50.0</td><td style = \"text-align: right;\">0.0</td></tr><tr><td class = \"rowNumber\" style = \"font-weight: bold; text-align: right;\">4</td><td style = \"text-align: right;\">1774</td><td style = \"text-align: right;\">0.92</td><td style = \"text-align: right;\">0.94</td><td style = \"text-align: right;\">0.94</td><td style = \"text-align: left;\">ssDNA</td><td style = \"text-align: right;\">472</td><td style = \"text-align: right;\">0</td><td style = \"text-align: right;\">100.0</td><td style = \"text-align: right;\">0.0</td></tr><tr><td class = \"rowNumber\" style = \"font-weight: bold; text-align: right;\">5</td><td style = \"text-align: right;\">2034</td><td style = \"text-align: right;\">0.387</td><td style = \"text-align: right;\">0.7</td><td style = \"text-align: right;\">0.7</td><td style = \"text-align: left;\">ssDNA</td><td style = \"text-align: right;\">2497</td><td style = \"text-align: right;\">0</td><td style = \"text-align: right;\">33.3</td><td style = \"text-align: right;\">0.0</td></tr><tr><td class = \"rowNumber\" style = \"font-weight: bold; text-align: right;\">6</td><td style = \"text-align: right;\">2602</td><td style = \"text-align: right;\">0.913</td><td style = \"text-align: right;\">0.96</td><td style = \"text-align: right;\">0.96</td><td style = \"text-align: left;\">ssDNA</td><td style = \"text-align: right;\">993</td><td style = \"text-align: right;\">0</td><td style = \"text-align: right;\">100.0</td><td style = \"text-align: right;\">0.0</td></tr><tr><td class = \"rowNumber\" style = \"font-weight: bold; text-align: right;\">7</td><td style = \"text-align: right;\">2927</td><td style = \"text-align: right;\">0.74</td><td style = \"text-align: right;\">0.253</td><td style = \"text-align: right;\">0.74</td><td style = \"text-align: left;\">dsDNAphage</td><td style = \"text-align: right;\">10396</td><td style = \"text-align: right;\">0</td><td style = \"text-align: right;\">12.5</td><td style = \"text-align: right;\">0.0</td></tr><tr><td class = \"rowNumber\" style = \"font-weight: bold; text-align: right;\">8</td><td style = \"text-align: right;\">3198</td><td style = \"text-align: right;\">0.373</td><td style = \"text-align: right;\">0.793</td><td style = \"text-align: right;\">0.793</td><td style = \"text-align: left;\">ssDNA</td><td style = \"text-align: right;\">1437</td><td style = \"text-align: right;\">0</td><td style = \"text-align: right;\">50.0</td><td style = \"text-align: right;\">0.0</td></tr><tr><td class = \"rowNumber\" style = \"font-weight: bold; text-align: right;\">9</td><td style = \"text-align: right;\">33</td><td style = \"text-align: right;\">0.927</td><td style = \"text-align: right;\">0.96</td><td style = \"text-align: right;\">0.96</td><td style = \"text-align: left;\">ssDNA</td><td style = \"text-align: right;\">443</td><td style = \"text-align: right;\">0</td><td style = \"text-align: right;\">100.0</td><td style = \"text-align: right;\">0.0</td></tr><tr><td class = \"rowNumber\" style = \"font-weight: bold; text-align: right;\">10</td><td style = \"text-align: right;\">3317</td><td style = \"text-align: right;\">0.54</td><td style = \"text-align: right;\">0.613</td><td style = \"text-align: right;\">0.613</td><td style = \"text-align: left;\">ssDNA</td><td style = \"text-align: right;\">2832</td><td style = \"text-align: right;\">0</td><td style = \"text-align: right;\">33.3</td><td style = \"text-align: right;\">0.0</td></tr><tr><td class = \"rowNumber\" style = \"font-weight: bold; text-align: right;\">11</td><td style = \"text-align: right;\">3534</td><td style = \"text-align: right;\">0.687</td><td style = \"text-align: right;\">0.633</td><td style = \"text-align: right;\">0.687</td><td style = \"text-align: left;\">dsDNAphage</td><td style = \"text-align: right;\">2696</td><td style = \"text-align: right;\">0</td><td style = \"text-align: right;\">100.0</td><td style = \"text-align: right;\">0.0</td></tr><tr><td class = \"rowNumber\" style = \"font-weight: bold; text-align: right;\">12</td><td style = \"text-align: right;\">3714</td><td style = \"text-align: right;\">0.487</td><td style = \"text-align: right;\">0.893</td><td style = \"text-align: right;\">0.893</td><td style = \"text-align: left;\">ssDNA</td><td style = \"text-align: right;\">2533</td><td style = \"text-align: right;\">0</td><td style = \"text-align: right;\">50.0</td><td style = \"text-align: right;\">0.0</td></tr><tr><td class = \"rowNumber\" style = \"font-weight: bold; text-align: right;\">13</td><td style = \"text-align: right;\">4150</td><td style = \"text-align: right;\">0.907</td><td style = \"text-align: right;\">0.933</td><td style = \"text-align: right;\">0.933</td><td style = \"text-align: left;\">ssDNA</td><td style = \"text-align: right;\">411</td><td style = \"text-align: right;\">0</td><td style = \"text-align: right;\">66.7</td><td style = \"text-align: right;\">0.0</td></tr><tr><td style = \"text-align: right;\">&vellip;</td><td style = \"text-align: right;\">&vellip;</td><td style = \"text-align: right;\">&vellip;</td><td style = \"text-align: right;\">&vellip;</td><td style = \"text-align: right;\">&vellip;</td><td style = \"text-align: right;\">&vellip;</td><td style = \"text-align: right;\">&vellip;</td><td style = \"text-align: right;\">&vellip;</td><td style = \"text-align: right;\">&vellip;</td><td style = \"text-align: right;\">&vellip;</td></tr><tr><td class = \"rowNumber\" style = \"font-weight: bold; text-align: right;\">19</td><td style = \"text-align: right;\">5789</td><td style = \"text-align: right;\">0.833</td><td style = \"text-align: right;\">0.18</td><td style = \"text-align: right;\">0.833</td><td style = \"text-align: left;\">dsDNAphage</td><td style = \"text-align: right;\">2241</td><td style = \"text-align: right;\">0</td><td style = \"text-align: right;\">50.0</td><td style = \"text-align: right;\">0.0</td></tr><tr><td class = \"rowNumber\" style = \"font-weight: bold; text-align: right;\">20</td><td style = \"text-align: right;\">6155</td><td style = \"text-align: right;\">0.427</td><td style = \"text-align: right;\">0.7</td><td style = \"text-align: right;\">0.7</td><td style = \"text-align: left;\">ssDNA</td><td style = \"text-align: right;\">2524</td><td style = \"text-align: right;\">0</td><td style = \"text-align: right;\">25.0</td><td style = \"text-align: right;\">0.0</td></tr><tr><td class = \"rowNumber\" style = \"font-weight: bold; text-align: right;\">21</td><td style = \"text-align: right;\">6790</td><td style = \"text-align: right;\">0.607</td><td style = \"text-align: right;\">0.26</td><td style = \"text-align: right;\">0.607</td><td style = \"text-align: left;\">dsDNAphage</td><td style = \"text-align: right;\">5325</td><td style = \"text-align: right;\">0</td><td style = \"text-align: right;\">33.3</td><td style = \"text-align: right;\">0.0</td></tr><tr><td class = \"rowNumber\" style = \"font-weight: bold; text-align: right;\">22</td><td style = \"text-align: right;\">6800</td><td style = \"text-align: right;\">0.427</td><td style = \"text-align: right;\">0.747</td><td style = \"text-align: right;\">0.747</td><td style = \"text-align: left;\">ssDNA</td><td style = \"text-align: right;\">6147</td><td style = \"text-align: right;\">0</td><td style = \"text-align: right;\">25.0</td><td style = \"text-align: right;\">0.0</td></tr><tr><td class = \"rowNumber\" style = \"font-weight: bold; text-align: right;\">23</td><td style = \"text-align: right;\">6981</td><td style = \"text-align: right;\">0.66</td><td style = \"text-align: right;\">0.9</td><td style = \"text-align: right;\">0.9</td><td style = \"text-align: left;\">ssDNA</td><td style = \"text-align: right;\">818</td><td style = \"text-align: right;\">0</td><td style = \"text-align: right;\">50.0</td><td style = \"text-align: right;\">0.0</td></tr><tr><td class = \"rowNumber\" style = \"font-weight: bold; text-align: right;\">24</td><td style = \"text-align: right;\">7354</td><td style = \"text-align: right;\">0.633</td><td style = \"text-align: right;\">0.407</td><td style = \"text-align: right;\">0.633</td><td style = \"text-align: left;\">dsDNAphage</td><td style = \"text-align: right;\">4639</td><td style = \"text-align: right;\">0</td><td style = \"text-align: right;\">28.6</td><td style = \"text-align: right;\">0.0</td></tr><tr><td class = \"rowNumber\" style = \"font-weight: bold; text-align: right;\">25</td><td style = \"text-align: right;\">7465</td><td style = \"text-align: right;\">0.98</td><td style = \"text-align: right;\">0.84</td><td style = \"text-align: right;\">0.98</td><td style = \"text-align: left;\">dsDNAphage</td><td style = \"text-align: right;\">3147</td><td style = \"text-align: right;\">1</td><td style = \"text-align: right;\">16.7</td><td style = \"text-align: right;\">0.0</td></tr><tr><td class = \"rowNumber\" style = \"font-weight: bold; text-align: right;\">26</td><td style = \"text-align: right;\">7581</td><td style = \"text-align: right;\">0.933</td><td style = \"text-align: right;\">0.953</td><td style = \"text-align: right;\">0.953</td><td style = \"text-align: left;\">ssDNA</td><td style = \"text-align: right;\">277</td><td style = \"text-align: right;\">0</td><td style = \"text-align: right;\">100.0</td><td style = \"text-align: right;\">0.0</td></tr><tr><td class = \"rowNumber\" style = \"font-weight: bold; text-align: right;\">27</td><td style = \"text-align: right;\">980</td><td style = \"text-align: right;\">0.913</td><td style = \"text-align: right;\">0.993</td><td style = \"text-align: right;\">0.993</td><td style = \"text-align: left;\">ssDNA</td><td style = \"text-align: right;\">627</td><td style = \"text-align: right;\">0</td><td style = \"text-align: right;\">50.0</td><td style = \"text-align: right;\">0.0</td></tr><tr><td class = \"rowNumber\" style = \"font-weight: bold; text-align: right;\">28</td><td style = \"text-align: right;\">1273</td><td style = \"text-align: right;\">0.64</td><td style = \"text-align: right;\">0.607</td><td style = \"text-align: right;\">0.64</td><td style = \"text-align: left;\">dsDNAphage</td><td style = \"text-align: right;\">3841</td><td style = \"text-align: right;\">0</td><td style = \"text-align: right;\">12.5</td><td style = \"text-align: right;\">0.0</td></tr><tr><td class = \"rowNumber\" style = \"font-weight: bold; text-align: right;\">29</td><td style = \"text-align: right;\">2192</td><td style = \"text-align: right;\">0.487</td><td style = \"text-align: right;\">0.613</td><td style = \"text-align: right;\">0.613</td><td style = \"text-align: left;\">ssDNA</td><td style = \"text-align: right;\">5386</td><td style = \"text-align: right;\">0</td><td style = \"text-align: right;\">66.7</td><td style = \"text-align: right;\">0.0</td></tr><tr><td class = \"rowNumber\" style = \"font-weight: bold; text-align: right;\">30</td><td style = \"text-align: right;\">686</td><td style = \"text-align: right;\">0.953</td><td style = \"text-align: right;\">0.473</td><td style = \"text-align: right;\">0.953</td><td style = \"text-align: left;\">dsDNAphage</td><td style = \"text-align: right;\">1894</td><td style = \"text-align: right;\">0</td><td style = \"text-align: right;\">100.0</td><td style = \"text-align: right;\">0.0</td></tr></tbody></table></div>"
      ],
      "text/latex": [
       "\\begin{tabular}{r|ccccccccc}\n",
       "\t& seqname & dsDNAphage & ssDNA & max\\_score & max\\_score\\_group & length & hallmark & viral & \\\\\n",
       "\t\\hline\n",
       "\t& Int64 & Float64 & Float64 & Float64 & String & Int64 & Int64 & Float64 & \\\\\n",
       "\t\\hline\n",
       "\t1 & 1214 & 0.96 & 0.993 & 0.993 & ssDNA & 827 & 0 & 50.0 & $\\dots$ \\\\\n",
       "\t2 & 1480 & 0.913 & 0.967 & 0.967 & ssDNA & 373 & 0 & 50.0 & $\\dots$ \\\\\n",
       "\t3 & 1678 & 0.313 & 0.987 & 0.987 & ssDNA & 1174 & 0 & 50.0 & $\\dots$ \\\\\n",
       "\t4 & 1774 & 0.92 & 0.94 & 0.94 & ssDNA & 472 & 0 & 100.0 & $\\dots$ \\\\\n",
       "\t5 & 2034 & 0.387 & 0.7 & 0.7 & ssDNA & 2497 & 0 & 33.3 & $\\dots$ \\\\\n",
       "\t6 & 2602 & 0.913 & 0.96 & 0.96 & ssDNA & 993 & 0 & 100.0 & $\\dots$ \\\\\n",
       "\t7 & 2927 & 0.74 & 0.253 & 0.74 & dsDNAphage & 10396 & 0 & 12.5 & $\\dots$ \\\\\n",
       "\t8 & 3198 & 0.373 & 0.793 & 0.793 & ssDNA & 1437 & 0 & 50.0 & $\\dots$ \\\\\n",
       "\t9 & 33 & 0.927 & 0.96 & 0.96 & ssDNA & 443 & 0 & 100.0 & $\\dots$ \\\\\n",
       "\t10 & 3317 & 0.54 & 0.613 & 0.613 & ssDNA & 2832 & 0 & 33.3 & $\\dots$ \\\\\n",
       "\t11 & 3534 & 0.687 & 0.633 & 0.687 & dsDNAphage & 2696 & 0 & 100.0 & $\\dots$ \\\\\n",
       "\t12 & 3714 & 0.487 & 0.893 & 0.893 & ssDNA & 2533 & 0 & 50.0 & $\\dots$ \\\\\n",
       "\t13 & 4150 & 0.907 & 0.933 & 0.933 & ssDNA & 411 & 0 & 66.7 & $\\dots$ \\\\\n",
       "\t14 & 4841 & 0.78 & 0.907 & 0.907 & ssDNA & 805 & 0 & 33.3 & $\\dots$ \\\\\n",
       "\t15 & 5227 & 0.447 & 0.62 & 0.62 & ssDNA & 2676 & 0 & 33.3 & $\\dots$ \\\\\n",
       "\t16 & 5253 & 0.3 & 0.947 & 0.947 & ssDNA & 1878 & 0 & 33.3 & $\\dots$ \\\\\n",
       "\t17 & 5483 & 0.967 & 0.98 & 0.98 & ssDNA & 1699 & 0 & 100.0 & $\\dots$ \\\\\n",
       "\t18 & 5753 & 0.707 & 0.113 & 0.707 & dsDNAphage & 4573 & 0 & 11.1 & $\\dots$ \\\\\n",
       "\t19 & 5789 & 0.833 & 0.18 & 0.833 & dsDNAphage & 2241 & 0 & 50.0 & $\\dots$ \\\\\n",
       "\t20 & 6155 & 0.427 & 0.7 & 0.7 & ssDNA & 2524 & 0 & 25.0 & $\\dots$ \\\\\n",
       "\t21 & 6790 & 0.607 & 0.26 & 0.607 & dsDNAphage & 5325 & 0 & 33.3 & $\\dots$ \\\\\n",
       "\t22 & 6800 & 0.427 & 0.747 & 0.747 & ssDNA & 6147 & 0 & 25.0 & $\\dots$ \\\\\n",
       "\t23 & 6981 & 0.66 & 0.9 & 0.9 & ssDNA & 818 & 0 & 50.0 & $\\dots$ \\\\\n",
       "\t24 & 7354 & 0.633 & 0.407 & 0.633 & dsDNAphage & 4639 & 0 & 28.6 & $\\dots$ \\\\\n",
       "\t25 & 7465 & 0.98 & 0.84 & 0.98 & dsDNAphage & 3147 & 1 & 16.7 & $\\dots$ \\\\\n",
       "\t26 & 7581 & 0.933 & 0.953 & 0.953 & ssDNA & 277 & 0 & 100.0 & $\\dots$ \\\\\n",
       "\t27 & 980 & 0.913 & 0.993 & 0.993 & ssDNA & 627 & 0 & 50.0 & $\\dots$ \\\\\n",
       "\t28 & 1273 & 0.64 & 0.607 & 0.64 & dsDNAphage & 3841 & 0 & 12.5 & $\\dots$ \\\\\n",
       "\t29 & 2192 & 0.487 & 0.613 & 0.613 & ssDNA & 5386 & 0 & 66.7 & $\\dots$ \\\\\n",
       "\t30 & 686 & 0.953 & 0.473 & 0.953 & dsDNAphage & 1894 & 0 & 100.0 & $\\dots$ \\\\\n",
       "\\end{tabular}\n"
      ],
      "text/plain": [
       "\u001b[1m30×9 DataFrame\u001b[0m\n",
       "\u001b[1m Row \u001b[0m│\u001b[1m seqname \u001b[0m\u001b[1m dsDNAphage \u001b[0m\u001b[1m ssDNA   \u001b[0m\u001b[1m max_score \u001b[0m\u001b[1m max_score_group \u001b[0m\u001b[1m length \u001b[0m\u001b[1m hallm\u001b[0m ⋯\n",
       "     │\u001b[90m Int64   \u001b[0m\u001b[90m Float64    \u001b[0m\u001b[90m Float64 \u001b[0m\u001b[90m Float64   \u001b[0m\u001b[90m String          \u001b[0m\u001b[90m Int64  \u001b[0m\u001b[90m Int64\u001b[0m ⋯\n",
       "─────┼──────────────────────────────────────────────────────────────────────────\n",
       "   1 │    1214       0.96     0.993      0.993  ssDNA               827        ⋯\n",
       "   2 │    1480       0.913    0.967      0.967  ssDNA               373\n",
       "   3 │    1678       0.313    0.987      0.987  ssDNA              1174\n",
       "   4 │    1774       0.92     0.94       0.94   ssDNA               472\n",
       "   5 │    2034       0.387    0.7        0.7    ssDNA              2497        ⋯\n",
       "   6 │    2602       0.913    0.96       0.96   ssDNA               993\n",
       "   7 │    2927       0.74     0.253      0.74   dsDNAphage        10396\n",
       "   8 │    3198       0.373    0.793      0.793  ssDNA              1437\n",
       "   9 │      33       0.927    0.96       0.96   ssDNA               443        ⋯\n",
       "  10 │    3317       0.54     0.613      0.613  ssDNA              2832\n",
       "  11 │    3534       0.687    0.633      0.687  dsDNAphage         2696\n",
       "  ⋮  │    ⋮         ⋮          ⋮         ⋮             ⋮           ⋮        ⋮  ⋱\n",
       "  21 │    6790       0.607    0.26       0.607  dsDNAphage         5325\n",
       "  22 │    6800       0.427    0.747      0.747  ssDNA              6147        ⋯\n",
       "  23 │    6981       0.66     0.9        0.9    ssDNA               818\n",
       "  24 │    7354       0.633    0.407      0.633  dsDNAphage         4639\n",
       "  25 │    7465       0.98     0.84       0.98   dsDNAphage         3147\n",
       "  26 │    7581       0.933    0.953      0.953  ssDNA               277        ⋯\n",
       "  27 │     980       0.913    0.993      0.993  ssDNA               627\n",
       "  28 │    1273       0.64     0.607      0.64   dsDNAphage         3841\n",
       "  29 │    2192       0.487    0.613      0.613  ssDNA              5386\n",
       "  30 │     686       0.953    0.473      0.953  dsDNAphage         1894        ⋯\n",
       "\u001b[36m                                                    3 columns and 9 rows omitted\u001b[0m"
      ]
     },
     "execution_count": 4,
     "metadata": {},
     "output_type": "execute_result"
    }
   ],
   "source": [
    "virsorter_score_tsv = joinpath(sample_directory, \"virsorter\", \"final-viral-score.tsv\")\n",
    "virsorter_results = Mycelia.parse_virsorter_score_tsv(virsorter_score_tsv)\n",
    "virsorter_results[!, \"seqname\"] = parse.(Int, first.(split.(virsorter_results[!, \"seqname\"], '|')))\n",
    "virsorter_results"
   ]
  },
  {
   "cell_type": "markdown",
   "id": "80e5cf29-1f4a-490a-9671-155675541336",
   "metadata": {},
   "source": [
    "determine what percentage of reads were classified"
   ]
  },
  {
   "cell_type": "markdown",
   "id": "8f5874fd-29d4-429e-9e87-968c2c5ea800",
   "metadata": {},
   "source": [
    "compare this to kraken - what is the gain?!"
   ]
  }
 ],
 "metadata": {
  "kernelspec": {
   "display_name": "Julia 1.9.3",
   "language": "julia",
   "name": "julia-1.9"
  },
  "language_info": {
   "file_extension": ".jl",
   "mimetype": "application/julia",
   "name": "julia",
   "version": "1.9.3"
  }
 },
 "nbformat": 4,
 "nbformat_minor": 5
}
