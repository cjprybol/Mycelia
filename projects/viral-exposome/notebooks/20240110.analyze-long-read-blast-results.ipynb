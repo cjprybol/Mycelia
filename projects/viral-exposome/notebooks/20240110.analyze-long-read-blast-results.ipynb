{
 "cells": [
  {
   "cell_type": "code",
   "execution_count": null,
   "id": "b1ec3ac0-e197-418f-86be-f2e8a5fadb82",
   "metadata": {},
   "outputs": [],
   "source": [
    "# run(`conda create --channel conda-forge --channel bioconda --channel defaults --strict-channel-priority --name blast blast`)"
   ]
  },
  {
   "cell_type": "code",
   "execution_count": null,
   "id": "c17e93fe-d82c-45fa-8fee-1e86d080538c",
   "metadata": {},
   "outputs": [],
   "source": [
    "import Pkg\n",
    "pkgs = [\n",
    "    \"Revise\",\n",
    "    \"DataFrames\",\n",
    "    \"uCSV\",\n",
    "    \"StatsPlots\",\n",
    "    \"FASTX\",\n",
    "    \"Conda\",\n",
    "    \"XAM\",\n",
    "    \"StatsBase\"\n",
    "]\n",
    "# Pkg.add(pkgs)\n",
    "for pkg in pkgs\n",
    "    eval(Meta.parse(\"import $pkg\"))\n",
    "end\n",
    "import Mycelia"
   ]
  },
  {
   "cell_type": "code",
   "execution_count": null,
   "id": "909f13b4-7e9d-429b-8b83-33c99af653c9",
   "metadata": {},
   "outputs": [],
   "source": [
    "data_dir = joinpath(dirname(pwd()), \"data\")"
   ]
  },
  {
   "cell_type": "code",
   "execution_count": null,
   "id": "a9438577-5730-4322-8500-f6ffd2dae382",
   "metadata": {},
   "outputs": [],
   "source": [
    "db_fasta = joinpath(data_dir, \"results/high-confidence-hiv-contigs.fna.gz\")\n",
    "ungzipped_db_fasta = replace(db_fasta, \".gz\" => \"\")\n",
    "db = \"hiv-high-confidence\"\n",
    "# db_fasta = joinpath(data_dir, \"results/high-confidence-viral-contigs.fna.gz\")\n",
    "# db = \"viral-high-confidence\"\n",
    "blast_task = \"megablast\""
   ]
  },
  {
   "cell_type": "code",
   "execution_count": null,
   "id": "2c58ebf0-253f-48a7-ba0f-ee756d150d9a",
   "metadata": {},
   "outputs": [],
   "source": [
    "fasta_paths = filter(x -> !occursin(\".ipynb_checkpoints\", x) && occursin(r\"\\.fasta$\", x), readdir(joinpath(data_dir, \"exposome_data\", \"joint-reads\"), join=true))\n",
    "# sample_paths = filter(x -> isfile(joinpath.(x, \"megahit\", \"final.contigs.fastg.gfa.fna\")), sample_paths)"
   ]
  },
  {
   "cell_type": "code",
   "execution_count": null,
   "id": "d44e3869-93b6-4286-9015-afaa9d65ee5a",
   "metadata": {},
   "outputs": [],
   "source": [
    "joint_blast_reports = DataFrames.DataFrame()\n",
    "for fasta_path in fasta_paths\n",
    "    sample = basename(fasta_path)\n",
    "    blastn_directory = dirname(fasta_path)\n",
    "    assembled_fasta = fasta_path\n",
    "    blast_report_file = joinpath(blastn_directory, basename(assembled_fasta) * \".blastn.$(db).$(blast_task).txt\")\n",
    "    if isfile(blast_report_file)\n",
    "        append!(joint_blast_reports, Mycelia.parse_blast_report(blast_report_file))\n",
    "    end\n",
    "end"
   ]
  },
  {
   "cell_type": "code",
   "execution_count": null,
   "id": "7a94b06e-1b9f-416f-87d2-256bcf6ac937",
   "metadata": {},
   "outputs": [],
   "source": [
    "top_hits_table = DataFrames.DataFrame()\n",
    "for g in DataFrames.groupby(joint_blast_reports, \"query id\")\n",
    "    push!(top_hits_table, sort(g, \"evalue\")[1, :])\n",
    "end\n",
    "top_hits_table"
   ]
  },
  {
   "cell_type": "code",
   "execution_count": null,
   "id": "2087c334-8367-4ab8-906e-ca2f783a59b9",
   "metadata": {},
   "outputs": [],
   "source": [
    "ratio = (4, 3)\n",
    "StatsPlots.scatter(\n",
    "    top_hits_table[!, \"alignment length\"],\n",
    "    top_hits_table[!, \"% identity\"],\n",
    "    title = \"PacBio HiFi alignments against 'HIV-like' short-read assembly contigs\",\n",
    "    size=ratio .* 200,\n",
    "    dpi=300,\n",
    "    legend=false,\n",
    "    xlabel = \"alignment length\",\n",
    "    ylabel = \"% identity\",\n",
    "    title_font_size = 12\n",
    ")"
   ]
  },
  {
   "cell_type": "code",
   "execution_count": null,
   "id": "c9f46783-eabc-4be1-8809-55392054ea17",
   "metadata": {},
   "outputs": [],
   "source": [
    "reference_fasta_records = collect(Mycelia.open_fastx(db_fasta))\n",
    "joint_observations = []\n",
    "query_ids_of_interest = Set(top_hits_table[!, \"query id\"])\n",
    "for fasta_path in fasta_paths\n",
    "    sample = basename(fasta_path)\n",
    "    for record in Mycelia.open_fastx(fasta_path)\n",
    "        if FASTX.identifier(record) in query_ids_of_interest\n",
    "            push!(joint_observations, record)\n",
    "        end\n",
    "    end\n",
    "end\n",
    "joint_observations"
   ]
  },
  {
   "cell_type": "code",
   "execution_count": null,
   "id": "9ef463da-4b2f-45b8-9314-c925bdf4bb65",
   "metadata": {},
   "outputs": [],
   "source": [
    "blast_hits_fasta_file = db_fasta * \".pacbio-blast-hits.fasta\"\n",
    "open(blast_hits_fasta_file, \"w\") do io\n",
    "    fastx_io = FASTX.FASTA.Writer(io)\n",
    "    for record in joint_observations\n",
    "        write(fastx_io, record)\n",
    "    end\n",
    "    close(fastx_io)\n",
    "end"
   ]
  },
  {
   "cell_type": "code",
   "execution_count": null,
   "id": "faac3dd8-55d7-4110-a4ec-65e833739e56",
   "metadata": {},
   "outputs": [],
   "source": [
    "Conda.create(:minimap2)\n",
    "Conda.runconda(`install --channel conda-forge --channel bioconda --strict-channel-priority minimap2`, :minimap2)"
   ]
  },
  {
   "cell_type": "code",
   "execution_count": null,
   "id": "6bdd9949-2f20-4668-a8e2-754dd6b28668",
   "metadata": {},
   "outputs": [],
   "source": [
    "blast_hits_alignments_file = blast_hits_fasta_file * \".sam\""
   ]
  },
  {
   "cell_type": "code",
   "execution_count": null,
   "id": "ff9c875a-4bb3-4eb6-9fc0-afb7c6095de6",
   "metadata": {},
   "outputs": [],
   "source": [
    "run(pipeline(`conda run -n minimap2 --live-stream minimap2 -a $(ungzipped_db_fasta) $(blast_hits_fasta_file)`, blast_hits_alignments_file))"
   ]
  },
  {
   "cell_type": "code",
   "execution_count": null,
   "id": "2d477b44-f89c-414a-83d5-fd4678fefdfb",
   "metadata": {},
   "outputs": [],
   "source": [
    "filtered_blast_hits_alignment_file = replace(blast_hits_alignments_file, \".sam\" => \".filtered-and-sorted.sam\")\n",
    "xam = Mycelia.parse_xam(blast_hits_alignments_file, filter_unmapped=true, primary_only=true, min_mapping_quality=30, min_align_length=100)\n",
    "open(filtered_blast_hits_alignment_file, \"w\") do io\n",
    "    sam_writer = XAM.SAM.Writer(io, xam.header)\n",
    "    for record in xam.records\n",
    "        write(sam_writer, record)\n",
    "    end\n",
    "    close(sam_writer)\n",
    "end"
   ]
  },
  {
   "cell_type": "code",
   "execution_count": null,
   "id": "0583311a-4d56-40e4-819a-de1f389f4c14",
   "metadata": {},
   "outputs": [],
   "source": [
    "run(`conda run --live-stream -n samtools samtools faidx $(ungzipped_db_fasta)`)"
   ]
  },
  {
   "cell_type": "code",
   "execution_count": null,
   "id": "770c17d1-1dfa-458f-b335-9a08b6035e83",
   "metadata": {},
   "outputs": [],
   "source": [
    "filtered_blast_hits_alignment_file_bam = filtered_blast_hits_alignment_file * \".bam\"\n",
    "run(pipeline(`conda run --live-stream -n samtools samtools view -bh $(filtered_blast_hits_alignment_file)`, filtered_blast_hits_alignment_file_bam))"
   ]
  },
  {
   "cell_type": "code",
   "execution_count": null,
   "id": "bda36534-5508-4372-b9f9-a3ef3e80e2b2",
   "metadata": {},
   "outputs": [],
   "source": [
    "run(`conda run --live-stream -n samtools samtools index $(filtered_blast_hits_alignment_file_bam)`)"
   ]
  },
  {
   "cell_type": "code",
   "execution_count": null,
   "id": "b92f36c9-4180-4410-9b22-66da141aa396",
   "metadata": {},
   "outputs": [],
   "source": [
    "contig_alignments = sort(collect(StatsBase.countmap(XAM.SAM.refname.(xam.records))), by=x->x[2], rev=true)"
   ]
  },
  {
   "cell_type": "code",
   "execution_count": null,
   "id": "db35fe97-02f1-49a4-a671-9c8eb53d157a",
   "metadata": {},
   "outputs": [],
   "source": [
    "contigs_with_alignments = Set(first.(contig_alignments))\n",
    "ref_sequence_hits = Dict(FASTX.identifier(record) => FASTX.sequence(record) for record in filter(x -> FASTX.identifier(x) in contigs_with_alignments, collect(Mycelia.open_fastx(db_fasta))))"
   ]
  },
  {
   "cell_type": "code",
   "execution_count": null,
   "id": "336d3e24-9f93-4558-9852-c4417cd44e31",
   "metadata": {},
   "outputs": [],
   "source": [
    "# 11-element Vector{Pair{String, Int64}}:\n",
    "  # \"3965\" => 69 # human\n",
    "   # \"982\" => 47  #human\n",
    " # \"14459\" => 9 #human\n",
    " # \"13041\" => 3 #human\n",
    " # \"42270\" => 1 # human\n",
    "  # \"1101\" => 1 # human\n",
    " # \"18373\" => 1 # human\n",
    "  # \"7830\" => 1 # human\n",
    "\n",
    "# \"96992\" => 2 # human - LINE, endo/exo nuclease, RNA directed DNA polymerase\n",
    " # \"75088\" => 1 # human, conserved uncharacterized protein\n",
    " \"19160\" => 1 # human, DNA directed RNA polymerase"
   ]
  },
  {
   "cell_type": "code",
   "execution_count": null,
   "id": "d018d1a0-811a-4f16-bc08-fccd54b15cb9",
   "metadata": {},
   "outputs": [],
   "source": [
    "# println(ref_sequence_hits[\"7830\"])"
   ]
  }
 ],
 "metadata": {
  "kernelspec": {
   "display_name": "Julia 1.6.7",
   "language": "julia",
   "name": "julia-1.6"
  },
  "language_info": {
   "file_extension": ".jl",
   "mimetype": "application/julia",
   "name": "julia",
   "version": "1.6.7"
  }
 },
 "nbformat": 4,
 "nbformat_minor": 5
}
