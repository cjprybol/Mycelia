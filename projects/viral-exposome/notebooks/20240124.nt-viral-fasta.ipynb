{
 "cells": [
  {
   "cell_type": "code",
   "execution_count": null,
   "id": "fcf147cc-a2a0-418d-9aa6-48aa8b505efe",
   "metadata": {},
   "outputs": [],
   "source": [
    "@assert ENV[\"LD_LIBRARY_PATH\"] == \"\"\n",
    "import Pkg\n",
    "pkgs = [\n",
    "    \"Revise\",\n",
    "]\n",
    "# Pkg.add(pkgs)\n",
    "for pkg in pkgs\n",
    "    eval(Meta.parse(\"import $pkg\"))\n",
    "end\n",
    "import Mycelia"
   ]
  },
  {
   "cell_type": "code",
   "execution_count": null,
   "id": "537ff2b3-d7e9-4124-bb2d-b666bb633981",
   "metadata": {},
   "outputs": [],
   "source": [
    "# Pkg.build(\"Mycelia\")"
   ]
  },
  {
   "cell_type": "code",
   "execution_count": null,
   "id": "457402c5-0c5a-4f91-880c-cc7ddad9b8f8",
   "metadata": {},
   "outputs": [],
   "source": [
    "project_dir = dirname(pwd())\n",
    "data_dir = mkpath(joinpath(project_dir, \"data\"))"
   ]
  },
  {
   "cell_type": "code",
   "execution_count": null,
   "id": "159112b6-acde-4efd-92f4-30efec1af31c",
   "metadata": {},
   "outputs": [],
   "source": [
    "readdir(data_dir)"
   ]
  },
  {
   "cell_type": "code",
   "execution_count": null,
   "id": "0829fa8f-aaec-4c27-8449-2e1ff6302dcf",
   "metadata": {},
   "outputs": [],
   "source": [
    "accession=\"GCF_000001405.40\"\n",
    "# run(`$(Mycelia.MAMBA) run --live-stream -n ncbi-datasets-cli datasets download genome accession $(accession) --dehydrated --no-progressbar --filename $(data_dir)/$(accession).zip`)\n",
    "`$(Mycelia.MAMBA) run --live-stream -n ncbi-datasets-cli datasets download genome accession $(accession) --dehydrated --filename $(data_dir)/$(accession).zip`\n",
    "run(`unzip -d $(data_dir)/$(accession) $(data_dir)/$(accession).zip`)\n",
    "rm(\"$(data_dir)/$(accession).zip\")\n",
    "`$(Mycelia.MAMBA) run --live-stream -n ncbi-datasets-cli datasets rehydrate --gzip --directory $(data_dir)/$(accession)`"
   ]
  },
  {
   "cell_type": "code",
   "execution_count": null,
   "id": "c2d5a267-f833-484d-a701-6c44735c2f7d",
   "metadata": {},
   "outputs": [],
   "source": [
    "# Mycelia.download_blast_db(db=\"ref_viruses_rep_genomes\", source=\"ncbi\")\n",
    "# @time Mycelia.blastdb_to_fasta(db=\"ref_viruses_rep_genomes\")"
   ]
  },
  {
   "cell_type": "code",
   "execution_count": null,
   "id": "f6544d98-d694-42d3-8de6-a66970e76a98",
   "metadata": {},
   "outputs": [],
   "source": [
    "# Mycelia.download_blast_db(db=\"nt_viruses\", source=\"ncbi\")\n",
    "# maybe can use pigz instead of gzip to speed up?\n",
    "# not sure if compression or blast output is the limiting factor\n",
    "# 32881.801359 seconds\n",
    "# 10 hours!!\n",
    "# @time Mycelia.blastdb_to_fasta(db=\"nt_viruses\")"
   ]
  }
 ],
 "metadata": {
  "kernelspec": {
   "display_name": "Julia 1.6.7",
   "language": "julia",
   "name": "julia-1.6"
  },
  "language_info": {
   "file_extension": ".jl",
   "mimetype": "application/julia",
   "name": "julia",
   "version": "1.6.7"
  }
 },
 "nbformat": 4,
 "nbformat_minor": 5
}
