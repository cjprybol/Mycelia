{
 "cells": [
  {
   "cell_type": "code",
   "execution_count": null,
   "id": "335bf35f-c55e-4857-83f0-ed03dc666f4e",
   "metadata": {
    "tags": []
   },
   "outputs": [],
   "source": [
    "# if hit plotting library issues, try resetting LD path for julia\n",
    "# can set in ~/.local/share/jupyter/kernels/\n",
    "# @assert ENV[\"LD_LIBRARY_PATH\"] == \"\"\n",
    "import Pkg\n",
    "# ENV[\"CONDA_JL_USE_MINIFORGE\"] = \"1\"\n",
    "pkgs = [\n",
    "    \"Revise\",\n",
    "    \"FASTX\",\n",
    "    # \"VariantCallFormat\",\n",
    "    \"StatsBase\",\n",
    "    \"Distributions\",\n",
    "    \"StatsPlots\",\n",
    "    \"Random\",\n",
    "    \"Dates\",\n",
    "    \"DataFrames\",\n",
    "    \"BioSequences\",\n",
    "    \"Conda\",\n",
    "    \"Downloads\"\n",
    "]\n",
    "# Pkg.add(pkgs)\n",
    "for pkg in pkgs\n",
    "    eval(Meta.parse(\"import $pkg\"))\n",
    "end\n",
    "# Pkg.develop(path=\"/global/cfs/projectdirs/m4269/cjprybol/Mycelia\")\n",
    "# Pkg.develop(path=\"../../..\")\n",
    "import Mycelia"
   ]
  },
  {
   "cell_type": "code",
   "execution_count": null,
   "id": "e7be350e-3d85-43e0-ade5-074ee73a6960",
   "metadata": {},
   "outputs": [],
   "source": [
    "Pkg.build(\"Mycelia\")"
   ]
  },
  {
   "cell_type": "code",
   "execution_count": null,
   "id": "128cc1e1-929a-42e1-8376-4c81832fd40c",
   "metadata": {
    "tags": []
   },
   "outputs": [],
   "source": [
    "PROJECT_BASEDIR = dirname(pwd())\n",
    "data_dir = joinpath(PROJECT_BASEDIR, \"data\")\n",
    "genome_dir = mkpath(joinpath(data_dir, \"genomes\"))"
   ]
  },
  {
   "cell_type": "code",
   "execution_count": null,
   "id": "d73a3b2f-2945-4e69-8143-a28c5b989ca3",
   "metadata": {},
   "outputs": [],
   "source": [
    "modified_fasta_files = sort(filter(x -> occursin(r\"\\.fna$\", x) && occursin(\".vcf\", x) && occursin(\"normalized\", x), readdir(genome_dir, join=true)), by=x->filesize(x))"
   ]
  },
  {
   "cell_type": "code",
   "execution_count": null,
   "id": "3660c67f-1a6a-4258-baaa-233ce4d6d311",
   "metadata": {},
   "outputs": [],
   "source": [
    "coverages = [10, 100, 1000]"
   ]
  },
  {
   "cell_type": "code",
   "execution_count": null,
   "id": "930ad951-a808-41e4-8a7d-967a2d9dfd9c",
   "metadata": {},
   "outputs": [],
   "source": [
    "# !badread --help\n",
    "# have to manually encode circularity in the fasta file\n",
    "# https://github.com/rrwick/Badread#reference-fasta\n",
    "# GPL\n",
    "# 50x e coli > 1 hr\n",
    "# run(`pip3 install git+https://github.com/rrwick/Badread.git`)\n",
    "# fasta_file = first(fasta_files)\n",
    "# coverage = first(coverages)\n",
    "\n",
    "threads = 1\n",
    "memory = 8\n",
    "for fasta_file in modified_fasta_files\n",
    "    for coverage in coverages\n",
    "        outfile = fasta_file * \".badread.$(coverage)x.fq.gz\"\n",
    "        if !isfile(outfile) || (filesize(outfile) == 0)\n",
    "            cmd = \n",
    "            \"\"\"\n",
    "            $(Mycelia.MAMBA) run --live-stream -n badread badread simulate --reference $(fasta_file) --quantity $(coverage)x | gzip > $(outfile)\n",
    "            \"\"\"\n",
    "            Mycelia.sbatch(\n",
    "                job_name = \"$(basename(outfile))\",\n",
    "                mail_user = \"cameron.prybol@gmail.com\",\n",
    "                logdir = mkpath(\"$(homedir())/workspace/slurmlogs\"),\n",
    "                partition = \"batch\",\n",
    "                account = \"mpsnyder\",\n",
    "                mem_gb = memory,\n",
    "                cpus_per_task= threads,\n",
    "                cmd = cmd)\n",
    "        else\n",
    "            @info \"$(outfile) already present\"\n",
    "        end\n",
    "    end\n",
    "end"
   ]
  },
  {
   "cell_type": "code",
   "execution_count": null,
   "id": "7f4ad260-ff5a-45d0-a6fa-db86b58f38d4",
   "metadata": {},
   "outputs": [],
   "source": [
    "# couldn't get nanosim to work\n",
    "# nanosim-h is too out of date\n",
    "\n",
    "# nanosim_model_dir = mkpath(joinpath(homedir(), \"workspace\", \"nanosim\"))\n",
    "# nanosim_model_url = \"https://github.com/bcgsc/NanoSim/raw/master/pre-trained_models/human_giab_hg002_sub1M_kitv14_dorado.tar.gz\"\n",
    "# nanosim_model_file = last(split(nanosim_model_url, '/'))\n",
    "# nanosim_model_file_path = joinpath(nanosim_model_dir, nanosim_model_file)\n",
    "# nanosim_model_directory = replace(nanosim_model_file_path, \".tar.gz\" => \"\")\n",
    "# if !isdir(nanosim_model_directory)\n",
    "#     Downloads.download(nanosim_model_url, nanosim_model_file_path)\n",
    "#     run(`tar --extract --file $(nanosim_model_file_path) --directory $(nanosim_model_dir)`)\n",
    "# end\n",
    "\n",
    "# # readdir(nanosim_model_directory, join=true)\n",
    "# nanosim_model_prefix = nanosim_model_directory * \"/hg002_nanosim_sub1M\"\n",
    "\n",
    "# fasta_file = first(fasta_files)\n",
    "\n",
    "# genome_size = Mycelia.fasta_genome_size(fasta_file)\n",
    "# read_length = 10_000\n",
    "# coverage = 10\n",
    "# read_count = Int(ceil(genome_size / read_length * coverage))\n",
    "\n",
    "# nanosim_output = fasta_file * \"nanosim.$(coverage)x\"\n",
    "\n",
    "# # run(`$(Mycelia.MAMBA) run --live-stream -n nanosim simulator.py genome --model_prefix $(nanosim_model_prefix) --number $(read_count) --ref_g $(fasta_file) --num_threads 1 --output $(nanosim_output) --median_len 10000 --sd_len 1.05 --max_len 100000 --min_len 1000`)\n",
    "\n",
    "# # for fasta_file in fasta_files\n",
    "# #     for coverage in [10, 100, 1000]\n",
    "# fasta_file = first(fasta_files)\n",
    "# coverage = first(coverages)\n",
    "# outprefix = \"$(fasta_file).art.$(coverage)x.\"\n",
    "# forward = outprefix * \"1.fq.gz\"\n",
    "# reverse = outprefix * \"2.fq.gz\"\n",
    "# if isfile(forward) && isfile(reverse) && (filesize(forward) > 0) && (filesize(reverse) > 0)\n",
    "#     @info \"$(forward) and $(reverse) found, skipping...\"\n",
    "#     continue\n",
    "# end\n",
    "# run(`$(Mycelia.MAMBA) run --live-stream -n art art_illumina --noALN --seqSys HS25 --paired --len 150 --mflen 500 --sdev 10 --in $(fasta_file) --fcov $(coverage) --out $(fasta_file).art.$(coverage)x.`)\n",
    "# run(`gzip $(fasta_file).art.$(coverage)x.1.fq`)\n",
    "# run(`gzip $(fasta_file).art.$(coverage)x.2.fq`)\n",
    "# #     end\n",
    "# # end"
   ]
  }
 ],
 "metadata": {
  "kernelspec": {
   "display_name": "Julia 1.6.7",
   "language": "julia",
   "name": "julia-1.6"
  },
  "language_info": {
   "file_extension": ".jl",
   "mimetype": "application/julia",
   "name": "julia",
   "version": "1.6.7"
  }
 },
 "nbformat": 4,
 "nbformat_minor": 5
}
