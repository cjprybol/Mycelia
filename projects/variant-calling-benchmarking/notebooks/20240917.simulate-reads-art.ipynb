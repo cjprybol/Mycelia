{
 "cells": [
  {
   "cell_type": "code",
   "execution_count": null,
   "id": "d004eb06-b4bd-47cd-aa04-c6f9d5c4d441",
   "metadata": {},
   "outputs": [],
   "source": [
    "# if hit plotting library issues, try resetting LD path for julia\n",
    "# can set in ~/.local/share/jupyter/kernels/\n",
    "@assert ENV[\"LD_LIBRARY_PATH\"] == \"\"\n",
    "import Pkg\n",
    "Pkg.activate(;temp=true)\n",
    "Pkg.add(\"Revise\")\n",
    "import Revise\n",
    "\n",
    "Pkg.develop(path=\"$(homedir())/workspace/Mycelia\")\n",
    "import Mycelia\n",
    "\n",
    "pkgs = String[\n",
    "    \"ProgressMeter\",\n",
    "]\n",
    "Pkg.add(pkgs)\n",
    "for pkg in pkgs\n",
    "    eval(Meta.parse(\"import $pkg\"))\n",
    "end"
   ]
  },
  {
   "cell_type": "code",
   "execution_count": null,
   "id": "128cc1e1-929a-42e1-8376-4c81832fd40c",
   "metadata": {
    "tags": []
   },
   "outputs": [],
   "source": [
    "PROJECT_BASEDIR = dirname(pwd())\n",
    "data_dir = joinpath(PROJECT_BASEDIR, \"data\")\n",
    "genome_dir = mkpath(joinpath(data_dir, \"genomes\"))"
   ]
  },
  {
   "cell_type": "code",
   "execution_count": null,
   "id": "d73a3b2f-2945-4e69-8143-a28c5b989ca3",
   "metadata": {},
   "outputs": [],
   "source": [
    "modified_fasta_files = sort(filter(x -> occursin(r\"\\.fna$\", x) && occursin(\".vcf\", x) && occursin(\"normalized\", x), readdir(genome_dir, join=true)), by=x->filesize(x))"
   ]
  },
  {
   "cell_type": "code",
   "execution_count": null,
   "id": "8115ccc5-9116-4913-864a-d10181e02767",
   "metadata": {},
   "outputs": [],
   "source": [
    "for fasta_file in modified_fasta_files\n",
    "    ProgressMeter.@showprogress for coverage in [2^i for i in 0:10]\n",
    "        outprefix = \"$(fasta_file).art.$(coverage)x.\"\n",
    "        forward = outprefix * \"1.fq.gz\"\n",
    "        reverse = outprefix * \"2.fq.gz\"\n",
    "        if isfile(forward) && isfile(reverse) && (filesize(forward) > 0) && (filesize(reverse) > 0)\n",
    "            # @info \"$(forward) and $(reverse) found, skipping...\"\n",
    "            continue\n",
    "        else\n",
    "            Mycelia.simulate_short_reads(in_fasta = fasta_file, coverage = coverage)\n",
    "        end\n",
    "    end\n",
    "end"
   ]
  }
 ],
 "metadata": {
  "kernelspec": {
   "display_name": "julia 1.10.5",
   "language": "julia",
   "name": "julia-1.10"
  },
  "language_info": {
   "file_extension": ".jl",
   "mimetype": "application/julia",
   "name": "julia",
   "version": "1.10.5"
  }
 },
 "nbformat": 4,
 "nbformat_minor": 5
}
