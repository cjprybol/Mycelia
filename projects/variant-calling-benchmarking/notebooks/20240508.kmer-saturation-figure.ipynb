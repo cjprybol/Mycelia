{
 "cells": [
  {
   "cell_type": "code",
   "execution_count": null,
   "id": "335bf35f-c55e-4857-83f0-ed03dc666f4e",
   "metadata": {
    "tags": []
   },
   "outputs": [],
   "source": [
    "# if hit plotting library issues, try resetting LD path for julia\n",
    "# can set in ~/.local/share/jupyter/kernels/\n",
    "haskey(ENV, \"LD_LIBRARY_PATH\") && @assert ENV[\"LD_LIBRARY_PATH\"] == \"\"\n",
    "import Pkg\n",
    "pkgs = [\n",
    "    \"Revise\",\n",
    "    \"FASTX\",\n",
    "    \"ProgressMeter\",\n",
    "    \"DataFrames\",\n",
    "    \"StatsBase\",\n",
    "    \"StatsPlots\",\n",
    "    \"OrderedCollections\",\n",
    "    \"ColorSchemes\",\n",
    "    \"uCSV\"\n",
    "]\n",
    "Pkg.add(pkgs)\n",
    "for pkg in pkgs\n",
    "    eval(Meta.parse(\"import $pkg\"))\n",
    "end\n",
    "# Pkg.develop(path=\"/global/cfs/projectdirs/m4269/cjprybol/Mycelia\")\n",
    "# Pkg.develop(path=\"../../..\")\n",
    "import Mycelia"
   ]
  },
  {
   "cell_type": "code",
   "execution_count": null,
   "id": "caab51db-26ef-4314-b4ac-a37928aaa991",
   "metadata": {
    "tags": []
   },
   "outputs": [],
   "source": [
    "PROJECT_BASEDIR = dirname(pwd())\n",
    "data_dir = joinpath(PROJECT_BASEDIR, \"data\")\n",
    "genome_dir = mkpath(joinpath(data_dir, \"genomes\"))\n",
    "results_dir = joinpath(PROJECT_BASEDIR, \"results\")"
   ]
  },
  {
   "cell_type": "code",
   "execution_count": null,
   "id": "6c7ad3ae-d0dc-4fd6-a119-fe784fd9a403",
   "metadata": {
    "tags": []
   },
   "outputs": [],
   "source": [
    "original_fastas = sort(filter(x -> occursin(r\"\\.fna$\", x) && !occursin(\"normalized\", x), readdir(genome_dir, join=true)), by=x->filesize(x))\n",
    "reference_variant_fastas = original_fastas .* \".normalized.vcf.fna\"\n",
    "@assert all(isfile.(reference_variant_fastas))\n",
    "fastqs = filter(x -> occursin(r\"\\.fq\\.gz$\", x), readdir(genome_dir, join=true))\n",
    "long_read_fastqs = sort(filter(x -> occursin(\"filtlong.fq.gz\", x), fastqs), by=x->filesize(x))\n",
    "fastq = last(long_read_fastqs)"
   ]
  },
  {
   "cell_type": "code",
   "execution_count": null,
   "id": "570fe551-e7a0-46cd-b75a-e32d7fcda22b",
   "metadata": {
    "tags": []
   },
   "outputs": [],
   "source": [
    "Mycelia.assess_dnamer_saturation([fastq], outdir=results_dir)"
   ]
  }
 ],
 "metadata": {
  "kernelspec": {
   "display_name": "Julia 1.10.2",
   "language": "julia",
   "name": "julia-1.10"
  },
  "language_info": {
   "file_extension": ".jl",
   "mimetype": "application/julia",
   "name": "julia",
   "version": "1.10.2"
  }
 },
 "nbformat": 4,
 "nbformat_minor": 5
}
