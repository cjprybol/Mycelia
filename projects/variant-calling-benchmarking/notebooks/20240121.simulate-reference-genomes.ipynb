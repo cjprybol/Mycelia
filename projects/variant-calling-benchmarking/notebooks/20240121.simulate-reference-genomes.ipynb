{
 "cells": [
  {
   "cell_type": "code",
   "execution_count": null,
   "id": "335bf35f-c55e-4857-83f0-ed03dc666f4e",
   "metadata": {
    "tags": []
   },
   "outputs": [],
   "source": [
    "# if hit plotting library issues, try resetting LD path for julia\n",
    "# can set in ~/.local/share/jupyter/kernels/\n",
    "# @assert ENV[\"LD_LIBRARY_PATH\"] == \"\"\n",
    "import Pkg\n",
    "pkgs = [\n",
    "    \"Revise\",\n",
    "    \"FASTX\",\n",
    "    \"Dates\"\n",
    "]\n",
    "# Pkg.add(pkgs)\n",
    "for pkg in pkgs\n",
    "    eval(Meta.parse(\"import $pkg\"))\n",
    "end\n",
    "# Pkg.develop(path=\"/global/cfs/projectdirs/m4269/cjprybol/Mycelia\")\n",
    "# Pkg.develop(path=\"../../..\")\n",
    "import Mycelia"
   ]
  },
  {
   "cell_type": "code",
   "execution_count": null,
   "id": "128cc1e1-929a-42e1-8376-4c81832fd40c",
   "metadata": {
    "tags": []
   },
   "outputs": [],
   "source": [
    "PROJECT_BASEDIR = dirname(pwd())\n",
    "data_dir = joinpath(PROJECT_BASEDIR, \"data\")\n",
    "genome_dir = mkpath(joinpath(data_dir, \"genomes\"))"
   ]
  },
  {
   "cell_type": "code",
   "execution_count": null,
   "id": "cc22ec3a-60bf-4f72-8494-37242ec68d67",
   "metadata": {
    "tags": []
   },
   "outputs": [],
   "source": [
    "genome_sizes = [10^i for i in 5:7]"
   ]
  },
  {
   "cell_type": "code",
   "execution_count": null,
   "id": "6991f77f-f1c5-4344-bd24-3be0ccfb81f1",
   "metadata": {
    "tags": []
   },
   "outputs": [],
   "source": [
    "# seed = parse(Int, replace(string(Dates.today()), \"-\" => \"\"))\n",
    "seed = 20240121\n",
    "genomes = [Mycelia.random_fasta_record(seed=seed, L=genome_size) for genome_size in genome_sizes]"
   ]
  },
  {
   "cell_type": "code",
   "execution_count": null,
   "id": "4e8b2fe9-09ed-42c2-9db7-fd08390b27fe",
   "metadata": {
    "tags": []
   },
   "outputs": [],
   "source": [
    "for (genome_size, genome_record) in zip(genome_sizes, genomes)\n",
    "    record_id = FASTX.description(genome_record)\n",
    "    outfile = joinpath(genome_dir, \"$(record_id).fna\")\n",
    "    Mycelia.write_fasta(outfile = outfile, records = [genome_record])\n",
    "end"
   ]
  }
 ],
 "metadata": {
  "kernelspec": {
   "display_name": "Julia 1.9.4",
   "language": "julia",
   "name": "julia-1.9.4"
  },
  "language_info": {
   "file_extension": ".jl",
   "mimetype": "application/julia",
   "name": "julia",
   "version": "1.9.4"
  }
 },
 "nbformat": 4,
 "nbformat_minor": 5
}
