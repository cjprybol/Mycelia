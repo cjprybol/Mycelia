{
 "cells": [
  {
   "cell_type": "code",
   "execution_count": null,
   "id": "335bf35f-c55e-4857-83f0-ed03dc666f4e",
   "metadata": {
    "tags": []
   },
   "outputs": [],
   "source": [
    "# if hit plotting library issues, try resetting LD path for julia\n",
    "# can set in ~/.local/share/jupyter/kernels/\n",
    "haskey(ENV, \"LD_LIBRARY_PATH\") && @assert ENV[\"LD_LIBRARY_PATH\"] == \"\"\n",
    "import Pkg\n",
    "pkgs = [\n",
    "    \"Revise\",\n",
    "    \"FASTX\",\n",
    "    \"ProgressMeter\",\n",
    "    \"DataFrames\",\n",
    "    \"uCSV\"\n",
    "]\n",
    "# Pkg.add(pkgs)\n",
    "for pkg in pkgs\n",
    "    eval(Meta.parse(\"import $pkg\"))\n",
    "end\n",
    "# Pkg.develop(path=\"/global/cfs/projectdirs/m4269/cjprybol/Mycelia\")\n",
    "# Pkg.develop(path=\"../../..\")\n",
    "import Mycelia"
   ]
  },
  {
   "cell_type": "code",
   "execution_count": null,
   "id": "128cc1e1-929a-42e1-8376-4c81832fd40c",
   "metadata": {
    "tags": []
   },
   "outputs": [],
   "source": [
    "PROJECT_BASEDIR = dirname(pwd())\n",
    "data_dir = joinpath(PROJECT_BASEDIR, \"data\")\n",
    "genome_dir = mkpath(joinpath(data_dir, \"genomes\"))"
   ]
  },
  {
   "cell_type": "code",
   "execution_count": null,
   "id": "4c6c5a8b-86e0-4c62-baeb-bbb3aa913fa6",
   "metadata": {
    "tags": []
   },
   "outputs": [],
   "source": [
    "reference_assemblies = filter(x -> occursin(r\"\\.fna$\", x) && !occursin(\"normalized\", x), readdir(genome_dir, join=true))"
   ]
  },
  {
   "cell_type": "code",
   "execution_count": null,
   "id": "ad327dee-af72-472a-a7f0-6e3b29e7f0ce",
   "metadata": {
    "tags": []
   },
   "outputs": [],
   "source": [
    "reference_assembly = first(reference_assemblies)"
   ]
  },
  {
   "cell_type": "code",
   "execution_count": null,
   "id": "9a22a40a-6cad-4fb5-94f2-d8c42bc0696e",
   "metadata": {
    "tags": []
   },
   "outputs": [],
   "source": [
    "assembly_table = DataFrames.DataFrame(\n",
    "    reference_assembly = String[],\n",
    "    assembler = String[],\n",
    "    coverage = String[],\n",
    "    directory = String[],\n",
    "    fasta = String[]\n",
    ")\n",
    "\n",
    "assemblers = [\n",
    "    \"megahit\",\n",
    "    \"spades_isolate\",\n",
    "    \"flye\",\n",
    "    \"raven\",\n",
    "    # \"hifiasm\",\n",
    "    # \"hicanu\",\n",
    "    # \"mycelia\"\n",
    "]\n",
    "coverages = [\"10x\", \"100x\", \"1000x\"]\n",
    "\n",
    "for reference_assembly in reference_assemblies\n",
    "    for assembler in assemblers\n",
    "        for coverage in coverages\n",
    "            # occursin(\"$(coverage)_$(assembler)\", x)\n",
    "            directories = filter(x -> occursin(reference_assembly, x) && isdir(x) && occursin(assembler, x) && occursin(coverage, x), readdir(genome_dir, join=true))\n",
    "            # @assert length(directories) == 1 directories\n",
    "            if isempty(directories)\n",
    "                directory = missing\n",
    "            else\n",
    "                @assert length(directories) == 1 \"$(reference_assembly) $(assembler) $(coverage)\"\n",
    "                directory = first(directories)\n",
    "            end\n",
    "            if assembler == \"megahit\"\n",
    "                fasta = joinpath(directory, \"final.contigs.fa\")\n",
    "            elseif assembler == \"spades_isolate\"\n",
    "                fasta = joinpath(directory, \"scaffolds.fasta\")\n",
    "            elseif assembler == \"flye\"\n",
    "                fasta = joinpath(directory, \"assembly.fasta\")\n",
    "            elseif assembler == \"raven\"\n",
    "                fasta = joinpath(directory, \"assembly.fasta\")\n",
    "            end\n",
    "            # elseif assembler = \n",
    "            push!(assembly_table, (;reference_assembly, assembler, coverage, directory, fasta))\n",
    "        end\n",
    "    end\n",
    "end\n",
    "assembly_table[!, \"reference_assembly\"] = replace.(assembly_table[!, \"reference_assembly\"], \"$(genome_dir)/\" => \"\")\n",
    "assembly_table[!, \"fasta\"] = replace.(assembly_table[!, \"fasta\"], \"$(genome_dir)/\" => \"\")\n",
    "assembly_table"
   ]
  },
  {
   "cell_type": "code",
   "execution_count": null,
   "id": "da3755d1-d4cb-44cc-8f73-13ac5bac835f",
   "metadata": {
    "tags": []
   },
   "outputs": [],
   "source": [
    "CORES = 8\n",
    "MEMORY = CORES * 4\n",
    "ProgressMeter.@showprogress for row in DataFrames.eachrow(assembly_table)\n",
    "    outdir = joinpath(genome_dir, row[\"fasta\"] * \"-cactus\")\n",
    "    if !isdir(outdir)\n",
    "\n",
    "        table = DataFrames.DataFrame(\n",
    "            samples = [\"REFERENCE\", \"ALTERNATE\"],\n",
    "            file_paths = [row[\"reference_assembly\"], row[\"fasta\"]]\n",
    "        )\n",
    "        cactus_config_file = \"$(joinpath(genome_dir, row[\"fasta\"]))-cactus-config.txt\"\n",
    "        uCSV.write(cactus_config_file, data=collect(DataFrames.eachcol(table)), header=missing, delim='\\t')\n",
    "        jobstore = row[\"fasta\"] * \"-cactus-job-store\"\n",
    "        # @show jobstore\n",
    "        config = replace(cactus_config_file, \"$(genome_dir)/\" => \"\")\n",
    "        # @show config\n",
    "        out = row[\"fasta\"] * \"-cactus\"\n",
    "        \n",
    "        \n",
    "        # too small to need to use sbatch - NERSC doesn't really have allocations this small\n",
    "#         cmd = \"\"\"\n",
    "#         podman-hpc run -it -v $(genome_dir):/app -w /app quay.io/comparative-genomics-toolkit/cactus:v2.8.1 cactus-pangenome \\\n",
    "#         ./$(jobstore) \\\n",
    "#         ./$(config) \\\n",
    "#         --maxCores $(CORES) \\\n",
    "#         --maxMemory $(MEMORY)Gb \\\n",
    "#         --outDir $(out) \\\n",
    "#         --outName $(out) \\\n",
    "#         --reference REFERENCE \\\n",
    "#         --gbz \\\n",
    "#         --gfa \\\n",
    "#         --vcf \\\n",
    "#         --odgi\n",
    "#         \"\"\"\n",
    "\n",
    "#         Mycelia.nersc_sbatch(\n",
    "#             job_name=eplace(out, \"/\" => \"_\"),\n",
    "#             mail_user=\"cameron.prybol@gmail.com\",\n",
    "#             cpus_per_task=CORES,\n",
    "#             mem_gb=MEMORY,\n",
    "#             logdir=mkpath(\"$(homedir())/workspace/slurmlogs\"),\n",
    "#             cmd=cmd)\n",
    "        \n",
    "        cmd = `\n",
    "        podman-hpc run -it -v $(genome_dir):/app -w /app quay.io/comparative-genomics-toolkit/cactus:v2.8.1 cactus-pangenome\n",
    "        ./$(jobstore)\n",
    "        ./$(config)\n",
    "        --maxCores $(CORES)\n",
    "        --maxMemory $(MEMORY)Gb\n",
    "        --outDir $(out)\n",
    "        --outName $(out)\n",
    "        --reference REFERENCE\n",
    "        --gbz\n",
    "        --gfa\n",
    "        --vcf\n",
    "        --odgi\n",
    "        `\n",
    "        \n",
    "        logpath = \"$(homedir())/workspace/slurmlogs/$(replace(out, \"/\" => \"_\"))\"\n",
    "        \n",
    "        try\n",
    "            run(pipeline(cmd, stdout=logpath, stderr=logpath))\n",
    "        catch\n",
    "            @info \"check logs @ $(logpath)\"\n",
    "        end\n",
    "    else\n",
    "        @info \"$(outdir) already exists\"\n",
    "    end\n",
    "end"
   ]
  },
  {
   "cell_type": "code",
   "execution_count": null,
   "id": "91764485-05f9-4121-864d-294dd9aac251",
   "metadata": {
    "tags": []
   },
   "outputs": [],
   "source": [
    "# isdir(joinpath(genome_dir, \"cactus-job-store\")) && rm(joinpath(genome_dir, \"cactus-job-store\"), recursive=true)"
   ]
  }
 ],
 "metadata": {
  "kernelspec": {
   "display_name": "Julia 1.10.2",
   "language": "julia",
   "name": "julia-1.10"
  },
  "language_info": {
   "file_extension": ".jl",
   "mimetype": "application/julia",
   "name": "julia",
   "version": "1.10.2"
  }
 },
 "nbformat": 4,
 "nbformat_minor": 5
}
