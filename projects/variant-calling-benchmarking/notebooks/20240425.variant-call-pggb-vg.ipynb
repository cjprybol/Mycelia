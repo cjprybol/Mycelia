{
 "cells": [
  {
   "cell_type": "code",
   "execution_count": null,
   "id": "335bf35f-c55e-4857-83f0-ed03dc666f4e",
   "metadata": {
    "tags": []
   },
   "outputs": [],
   "source": [
    "# if hit plotting library issues, try resetting LD path for julia\n",
    "# can set in ~/.local/share/jupyter/kernels/\n",
    "haskey(ENV, \"LD_LIBRARY_PATH\") && @assert ENV[\"LD_LIBRARY_PATH\"] == \"\"\n",
    "import Pkg\n",
    "pkgs = [\n",
    "    \"Revise\",\n",
    "    \"FASTX\",\n",
    "    \"ProgressMeter\",\n",
    "    \"DataFrames\"\n",
    "]\n",
    "# Pkg.add(pkgs)\n",
    "for pkg in pkgs\n",
    "    eval(Meta.parse(\"import $pkg\"))\n",
    "end\n",
    "# Pkg.develop(path=\"/global/cfs/projectdirs/m4269/cjprybol/Mycelia\")\n",
    "# Pkg.develop(path=\"../../..\")\n",
    "import Mycelia"
   ]
  },
  {
   "cell_type": "code",
   "execution_count": null,
   "id": "caab51db-26ef-4314-b4ac-a37928aaa991",
   "metadata": {
    "tags": []
   },
   "outputs": [],
   "source": [
    "PROJECT_BASEDIR = dirname(pwd())\n",
    "data_dir = joinpath(PROJECT_BASEDIR, \"data\")\n",
    "genome_dir = mkpath(joinpath(data_dir, \"genomes\"))"
   ]
  },
  {
   "cell_type": "code",
   "execution_count": null,
   "id": "5abe5af0-4de2-4691-bd28-c6630e10f2f5",
   "metadata": {
    "tags": []
   },
   "outputs": [],
   "source": [
    "reference_assemblies = filter(x -> occursin(r\"\\.fna$\", x) && !occursin(\"normalized\", x), readdir(genome_dir, join=true))"
   ]
  },
  {
   "cell_type": "code",
   "execution_count": null,
   "id": "e20d3adc-7b3d-41db-9192-25ae22999cae",
   "metadata": {
    "tags": []
   },
   "outputs": [],
   "source": [
    "reference_assembly = first(reference_assemblies)"
   ]
  },
  {
   "cell_type": "code",
   "execution_count": null,
   "id": "fe2152d8-bcc2-48dc-8b82-50a83e4c6cf8",
   "metadata": {
    "tags": []
   },
   "outputs": [],
   "source": [
    "assembly_table = DataFrames.DataFrame(\n",
    "    reference_assembly = String[],\n",
    "    assembler = String[],\n",
    "    coverage = String[],\n",
    "    directory = String[],\n",
    "    fasta = String[]\n",
    ")\n",
    "\n",
    "assemblers = [\n",
    "    \"megahit\",\n",
    "    \"spades_isolate\",\n",
    "    \"flye\",\n",
    "    \"raven\",\n",
    "    \"hifiasm\",\n",
    "    # \"hicanu\",\n",
    "    # \"mycelia\"\n",
    "]\n",
    "coverages = [\"10x\", \"100x\", \"1000x\"]\n",
    "\n",
    "for reference_assembly in reference_assemblies\n",
    "    for assembler in assemblers\n",
    "        for coverage in coverages\n",
    "            # occursin(\"$(coverage)_$(assembler)\", x)\n",
    "            directories = filter(x -> occursin(reference_assembly, x) && isdir(x) && occursin(assembler, x) && occursin(coverage, x), readdir(genome_dir, join=true))\n",
    "            # @assert length(directories) == 1 directories\n",
    "            if isempty(directories)\n",
    "                directory = missing\n",
    "            else\n",
    "                @assert length(directories) == 1 \"$(reference_assembly) $(assembler) $(coverage)\"\n",
    "                directory = first(directories)\n",
    "            end\n",
    "            if assembler == \"megahit\"\n",
    "                fasta = joinpath(directory, \"final.contigs.fa\")\n",
    "            elseif assembler == \"spades_isolate\"\n",
    "                fasta = joinpath(directory, \"scaffolds.fasta\")\n",
    "            elseif assembler == \"flye\"\n",
    "                fasta = joinpath(directory, \"assembly.fasta\")\n",
    "            elseif assembler == \"raven\"\n",
    "                fasta = joinpath(directory, \"assembly.fasta\")\n",
    "            elseif assembler == \"hifiasm\"\n",
    "                directory_fastas = filter(x -> occursin(r\"\\.hifiasm\\.p_ctg\\.gfa\\.fna$\", x), readdir(directory))\n",
    "                # @show directory_fastas\n",
    "                @assert length(directory_fastas) <= 1\n",
    "                if length(directory_fastas) == 0\n",
    "                    continue\n",
    "                else\n",
    "                    original_fasta = joinpath(directory, first(directory_fastas))\n",
    "                end\n",
    "                fasta = joinpath(directory, \"assembly.fasta\")\n",
    "                if !isfile(fasta)\n",
    "                    cp(original_fasta, fasta)\n",
    "                end\n",
    "            end\n",
    "            # elseif assembler = \n",
    "            push!(assembly_table, (;reference_assembly, assembler, coverage, directory, fasta))\n",
    "        end\n",
    "    end\n",
    "end\n",
    "# assembly_table[!, \"reference_assembly\"] = replace.(assembly_table[!, \"reference_assembly\"], \"$(genome_dir)/\" => \"\")\n",
    "# assembly_table[!, \"fasta\"] = replace.(assembly_table[!, \"fasta\"], \"$(genome_dir)/\" => \"\")\n",
    "assembly_table"
   ]
  },
  {
   "cell_type": "code",
   "execution_count": null,
   "id": "dea28da8-086f-45de-aa97-86871e9c74f1",
   "metadata": {
    "tags": []
   },
   "outputs": [],
   "source": [
    "assembly_table = assembly_table[assembly_table[!, \"assembler\"] .== \"hifiasm\", :]"
   ]
  },
  {
   "cell_type": "code",
   "execution_count": null,
   "id": "c944ac78-f32f-4f48-8d9c-717883fbb800",
   "metadata": {
    "tags": []
   },
   "outputs": [],
   "source": [
    "Mycelia.add_bioconda_env(\"vg\")\n",
    "Mycelia.add_bioconda_env(\"pggb\")"
   ]
  },
  {
   "cell_type": "code",
   "execution_count": null,
   "id": "a584b541-531b-4cb0-8fe5-771f3d5af6bc",
   "metadata": {
    "tags": []
   },
   "outputs": [],
   "source": [
    "ProgressMeter.@showprogress for row in DataFrames.eachrow(assembly_table)\n",
    "    if (isfile(row[\"reference_assembly\"]) && isfile(row[\"fasta\"]))\n",
    "        genomes = [row[\"reference_assembly\"], row[\"fasta\"]]\n",
    "        joint_fasta = row[\"fasta\"] * \".\" * \"joint.fna\"\n",
    "        outdir = joint_fasta * \"__PGGB\"\n",
    "        if !isfile(joint_fasta)\n",
    "            # don't merge since that adds the filename into the identifier and PGGB doesn't like the file names\n",
    "            # Mycelia.merge_fasta_files(fasta_files=genomes, fasta_file=joint_fasta)\n",
    "            Mycelia.concatenate_files(files=genomes, file=joint_fasta)\n",
    "        end\n",
    "        if !isfile(joint_fasta * \".fai\")\n",
    "            Mycelia.samtools_index_fasta(fasta=joint_fasta)\n",
    "        end\n",
    "        if !isdir(outdir)\n",
    "            cmd = `$(Mycelia.CONDA_RUNNER) run --live-stream -n pggb pggb -i $(joint_fasta) -o $(outdir) -t 2 -n 2`\n",
    "            run(cmd)\n",
    "        end\n",
    "        gfa_file = first(filter(x -> occursin(r\"\\.gfa\", x), readdir(outdir, join=true)))\n",
    "        # @show gfa_file\n",
    "        final_vcf = gfa_file * \".vcf\"\n",
    "        @assert isfile(gfa_file)\n",
    "        if !isfile(final_vcf) || (filesize(final_vcf) == 0)\n",
    "            path_prefix = replace(basename(row[\"reference_assembly\"]), Mycelia.FASTA_REGEX => \"\")\n",
    "            # path_prefix = first(split(basename(row[\"reference_assembly\"]), '.'))\n",
    "            cmd = `$(Mycelia.CONDA_RUNNER) run --live-stream -n vg vg deconstruct --path-prefix $(path_prefix) --ploidy 1 --path-traversals --all-snarls --threads 2 $(gfa_file)`\n",
    "            logs = final_vcf * \".logs\"\n",
    "            # stdout=logs\n",
    "            try\n",
    "                run(pipeline(cmd, final_vcf))\n",
    "            catch\n",
    "                @info final_vcf\n",
    "            end\n",
    "        end\n",
    "    else\n",
    "        @show isfile(row[\"reference_assembly\"])\n",
    "        @show isfile(row[\"fasta\"])\n",
    "    end\n",
    "end"
   ]
  },
  {
   "cell_type": "code",
   "execution_count": null,
   "id": "d3e3a221-4bdc-4779-83ee-887587ae5f5c",
   "metadata": {
    "tags": []
   },
   "outputs": [],
   "source": [
    "# CORES = 8\n",
    "# MEMORY = CORES * 4\n",
    "# ProgressMeter.@showprogress for row in DataFrames.eachrow(assembly_table)\n",
    "#     outdir = joinpath(genome_dir, row[\"fasta\"] * \"-cactus\")\n",
    "#     if !isdir(outdir)\n",
    "\n",
    "#         table = DataFrames.DataFrame(\n",
    "#             samples = [\"REFERENCE\", \"ALTERNATE\"],\n",
    "#             file_paths = [row[\"reference_assembly\"], row[\"fasta\"]]\n",
    "#         )\n",
    "#         cactus_config_file = \"$(joinpath(genome_dir, row[\"fasta\"]))-cactus-config.txt\"\n",
    "#         uCSV.write(cactus_config_file, data=collect(DataFrames.eachcol(table)), header=missing, delim='\\t')\n",
    "#         jobstore = row[\"fasta\"] * \"-cactus-job-store\"\n",
    "#         # @show jobstore\n",
    "#         config = replace(cactus_config_file, \"$(genome_dir)/\" => \"\")\n",
    "#         # @show config\n",
    "#         out = row[\"fasta\"] * \"-cactus\"\n",
    "        \n",
    "        \n",
    "#         # too small to need to use sbatch - NERSC doesn't really have allocations this small\n",
    "# #         cmd = \"\"\"\n",
    "# #         podman-hpc run -it -v $(genome_dir):/app -w /app quay.io/comparative-genomics-toolkit/cactus:v2.8.1 cactus-pangenome \\\n",
    "# #         ./$(jobstore) \\\n",
    "# #         ./$(config) \\\n",
    "# #         --maxCores $(CORES) \\\n",
    "# #         --maxMemory $(MEMORY)Gb \\\n",
    "# #         --outDir $(out) \\\n",
    "# #         --outName $(out) \\\n",
    "# #         --reference REFERENCE \\\n",
    "# #         --gbz \\\n",
    "# #         --gfa \\\n",
    "# #         --vcf \\\n",
    "# #         --odgi\n",
    "# #         \"\"\"\n",
    "\n",
    "# #         Mycelia.nersc_sbatch(\n",
    "# #             job_name=eplace(out, \"/\" => \"_\"),\n",
    "# #             mail_user=\"cameron.prybol@gmail.com\",\n",
    "# #             cpus_per_task=CORES,\n",
    "# #             mem_gb=MEMORY,\n",
    "# #             logdir=mkpath(\"$(homedir())/workspace/slurmlogs\"),\n",
    "# #             cmd=cmd)\n",
    "        \n",
    "#         cmd = `\n",
    "#         podman-hpc run -it -v $(genome_dir):/app -w /app quay.io/comparative-genomics-toolkit/cactus:v2.8.1 cactus-pangenome\n",
    "#         ./$(jobstore)\n",
    "#         ./$(config)\n",
    "#         --maxCores $(CORES)\n",
    "#         --maxMemory $(MEMORY)Gb\n",
    "#         --outDir $(out)\n",
    "#         --outName $(out)\n",
    "#         --reference REFERENCE\n",
    "#         --gbz\n",
    "#         --gfa\n",
    "#         --vcf\n",
    "#         --odgi\n",
    "#         `\n",
    "        \n",
    "#         logpath = \"$(homedir())/workspace/slurmlogs/$(replace(out, \"/\" => \"_\"))\"\n",
    "        \n",
    "#         try\n",
    "#             run(pipeline(cmd, stdout=logpath, stderr=logpath))\n",
    "#         catch\n",
    "#             @info \"check logs @ $(logpath)\"\n",
    "#         end\n",
    "#     else\n",
    "#         @info \"$(outdir) already exists\"\n",
    "#     end\n",
    "# end"
   ]
  }
 ],
 "metadata": {
  "kernelspec": {
   "display_name": "Julia 1.10.2",
   "language": "julia",
   "name": "julia-1.10"
  },
  "language_info": {
   "file_extension": ".jl",
   "mimetype": "application/julia",
   "name": "julia",
   "version": "1.10.2"
  }
 },
 "nbformat": 4,
 "nbformat_minor": 5
}
