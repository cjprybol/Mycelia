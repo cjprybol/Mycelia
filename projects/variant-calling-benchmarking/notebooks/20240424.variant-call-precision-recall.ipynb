{
 "cells": [
  {
   "cell_type": "code",
   "execution_count": null,
   "id": "335bf35f-c55e-4857-83f0-ed03dc666f4e",
   "metadata": {
    "tags": []
   },
   "outputs": [],
   "source": [
    "# if hit plotting library issues, try resetting LD path for julia\n",
    "# can set in ~/.local/share/jupyter/kernels/\n",
    "haskey(ENV, \"LD_LIBRARY_PATH\") && @assert ENV[\"LD_LIBRARY_PATH\"] == \"\"\n",
    "import Pkg\n",
    "pkgs = [\n",
    "    \"Revise\",\n",
    "    \"DataFrames\",\n",
    "]\n",
    "Pkg.add(pkgs)\n",
    "for pkg in pkgs\n",
    "    eval(Meta.parse(\"import $pkg\"))\n",
    "end\n",
    "# Pkg.develop(path=\"/global/cfs/projectdirs/m4269/cjprybol/Mycelia\")\n",
    "# Pkg.develop(path=\"../../..\")\n",
    "import Mycelia"
   ]
  },
  {
   "cell_type": "code",
   "execution_count": null,
   "id": "128cc1e1-929a-42e1-8376-4c81832fd40c",
   "metadata": {
    "tags": []
   },
   "outputs": [],
   "source": [
    "PROJECT_BASEDIR = dirname(pwd())\n",
    "data_dir = joinpath(PROJECT_BASEDIR, \"data\")\n",
    "genome_dir = mkpath(joinpath(data_dir, \"genomes\"))"
   ]
  },
  {
   "cell_type": "code",
   "execution_count": null,
   "id": "7e5f9c3d-e401-468e-8dcc-3288fdb27ab2",
   "metadata": {
    "tags": []
   },
   "outputs": [],
   "source": [
    "reference_fastas = sort(filter(x -> occursin(r\"\\.fna$\", x) && !occursin(\"normalized\", x), readdir(genome_dir, join=true)), by=x->filesize(x))\n",
    "for reference_fasta in reference_fastas\n",
    "    if !isdir(reference_fasta * \"_RTG\")\n",
    "        run(`$(Mycelia.MAMBA) run --live-stream -n rtg-tools rtg format -o $(reference_fasta)_RTG $(reference_fasta)`)\n",
    "    end\n",
    "end\n",
    "identifier_to_reference_fasta = Dict(first(split(basename(x), '.')) => x for x in reference_fastas)\n",
    "reference_variants = sort(filter(x -> occursin(r\"fna\\.normalized\\.vcf\\.gz$\", x), readdir(genome_dir, join=true)), by=x->filesize(x))"
   ]
  },
  {
   "cell_type": "code",
   "execution_count": null,
   "id": "db438e37-d8b0-4b29-94c0-98e315b547c6",
   "metadata": {
    "tags": []
   },
   "outputs": [],
   "source": [
    "identifiers = [first(split(basename(x), '.')) for x in reference_variants]\n",
    "identifier_to_reference_variants = Dict(first(split(basename(x), '.')) => x for x in reference_variants)"
   ]
  },
  {
   "cell_type": "code",
   "execution_count": null,
   "id": "90754ca7-0fbc-4a21-99cf-318eb3815acf",
   "metadata": {
    "tags": []
   },
   "outputs": [],
   "source": [
    "cactus_dirs = filter(x -> occursin(r\"cactus\"i, x) && isdir(x), readdir(genome_dir, join=true))\n",
    "pggb_dirs = filter(x -> occursin(r\"pggb\"i, x), readdir(genome_dir, join=true))\n",
    "clair3_dirs = filter(x -> occursin(r\"clair3$\"i, x) && isdir(x), readdir(genome_dir, join=true))\n",
    "other_vcfs = filter(x -> occursin(r\"vcf$\", x) && isfile(x) && (occursin(r\"bcftools\", x) || occursin(r\"freebayes\", x)) && !occursin(r\"\\.sorted\\.vcf$\", x), readdir(genome_dir, join=true))\n",
    "clair3_vcfs = joinpath.(clair3_dirs, \"merge_output.vcf.gz\")\n",
    "pggb_vcfs = filter(x -> occursin(r\"\\.vcf$\", x), reduce(vcat, readdir.(pggb_dirs, join=true)))\n",
    "cactus_vcfs = filter(x -> occursin(r\"cactus\\.vcf\\.gz$\", x), reduce(vcat, readdir.(cactus_dirs, join=true)))\n",
    "vcfs = vcat(cactus_vcfs, pggb_vcfs, clair3_vcfs, other_vcfs)"
   ]
  },
  {
   "cell_type": "code",
   "execution_count": null,
   "id": "e56faf28-a9b5-4fdc-b336-866ff5fc3cf8",
   "metadata": {
    "tags": []
   },
   "outputs": [],
   "source": [
    "vcfs = filter(x -> !occursin(\"fixed\", x), vcfs)"
   ]
  },
  {
   "cell_type": "code",
   "execution_count": null,
   "id": "afa76f17-72ee-45f7-8a11-822ac254327b",
   "metadata": {
    "tags": []
   },
   "outputs": [],
   "source": [
    "# Mycelia.add_bioconda_env(\"rtg-tools\")"
   ]
  },
  {
   "cell_type": "code",
   "execution_count": null,
   "id": "e05a2163-3dfe-42cf-abaf-670154a76893",
   "metadata": {
    "tags": []
   },
   "outputs": [],
   "source": [
    "# make a table that lists calling method, identifier, file path"
   ]
  },
  {
   "cell_type": "code",
   "execution_count": null,
   "id": "b2cb8d0c-f318-4733-96ff-8017f0084908",
   "metadata": {
    "tags": []
   },
   "outputs": [],
   "source": [
    "vcf_table = DataFrames.DataFrame(\n",
    "    identifier = String[],\n",
    "    variant_caller = String[],\n",
    "    coverage = String[],\n",
    "    vcf = String[]\n",
    ")\n",
    "for vcf in vcfs\n",
    "    identifier = first(filter(identifier -> occursin(identifier, vcf), identifiers))\n",
    "    variant_callers = [\n",
    "        \"cactus\",\n",
    "        \"PGGB\",\n",
    "        \"bcftools\",\n",
    "        \"freebayes\",\n",
    "        \"clair3\"\n",
    "    ]\n",
    "    variant_caller = first(filter(variant_caller -> occursin(variant_caller, vcf), variant_callers))\n",
    "    if variant_caller in [\"cactus\", \"PGGB\"]\n",
    "        coverage = \"N/A\"\n",
    "    else\n",
    "        if occursin(\"10x\", vcf)\n",
    "            coverage = \"10x\"\n",
    "        elseif occursin(\"100x\", vcf)\n",
    "            coverage = \"100x\"\n",
    "        elseif occursin(\"1000x\", vcf)\n",
    "            coverage = \"1000x\"\n",
    "        end\n",
    "    end\n",
    "    push!(vcf_table, (;identifier, variant_caller, coverage, vcf))\n",
    "end\n",
    "vcf_table"
   ]
  },
  {
   "cell_type": "code",
   "execution_count": null,
   "id": "693b78c8-7332-46f1-8e11-0dbba03523b1",
   "metadata": {
    "tags": []
   },
   "outputs": [],
   "source": [
    "vcf_table"
   ]
  },
  {
   "cell_type": "code",
   "execution_count": null,
   "id": "5a3c6420-52eb-4d87-95f9-297e07b2b9b9",
   "metadata": {
    "tags": []
   },
   "outputs": [],
   "source": [
    "function fix_vcf(;vcf, outvcf = replace(vcf, r\"\\.vcf$\" => \".fixed.vcf\"))\n",
    "    open(outvcf, \"w\") do io\n",
    "        for line in eachline(vcf)\n",
    "            if occursin(r\"^##\", line)\n",
    "                println(io, line)\n",
    "            elseif occursin(r\"^#\", line)\n",
    "                println(io, line * \"\\tsample\")\n",
    "            else\n",
    "                # println(io, replace(line, r\"\\s+\" => \"\\t\"))\n",
    "                println(io, line * \"\\t1\")\n",
    "            end\n",
    "        end\n",
    "    end\n",
    "    return outvcf\n",
    "end"
   ]
  },
  {
   "cell_type": "code",
   "execution_count": null,
   "id": "acb5d1c5-0e01-4eac-9644-fafc7aed9b0d",
   "metadata": {
    "tags": []
   },
   "outputs": [],
   "source": [
    "vcf_table"
   ]
  },
  {
   "cell_type": "code",
   "execution_count": null,
   "id": "b4616201-5289-41bc-b731-59fdb593b546",
   "metadata": {
    "tags": []
   },
   "outputs": [],
   "source": [
    "outdirs = String[]\n",
    "for row in DataFrames.eachrow(vcf_table)\n",
    "    vcf = row[\"vcf\"]\n",
    "    reference_fasta = identifier_to_reference_fasta[row[\"identifier\"]]\n",
    "    baseline_variants = identifier_to_reference_variants[row[\"identifier\"]]\n",
    "    if row[\"variant_caller\"] == \"PGGB\"\n",
    "        vcf = fix_vcf(vcf=vcf)\n",
    "        processed_vcf = replace(vcf, r\"\\.vcf(?:\\.gz)?$\" => \".sorted.normalized.vcf.gz\")\n",
    "        outdir = joinpath(baseline_variants * \"_RTG\", basename(processed_vcf))\n",
    "    else\n",
    "        processed_vcf = replace(vcf, r\"\\.vcf(?:\\.gz)?$\" => \".sorted.normalized.vcf.gz\")\n",
    "        outdir = joinpath(baseline_variants * \"_RTG\", basename(processed_vcf))\n",
    "    end\n",
    "    push!(outdirs, outdir)\n",
    "    if isdir(outdir)\n",
    "        rm(outdir, recursive=true)\n",
    "    end\n",
    "    try\n",
    "        processed_vcf = Mycelia.normalize_vcf(reference_fasta=reference_fasta, vcf_file=vcf)\n",
    "        run(`$(Mycelia.CONDA_RUNNER) run --live-stream -n rtg-tools rtg RTG_MEM=8G vcfeval --all-records --vcf-score-field QUAL --threads=1 --template $(reference_fasta)_RTG --baseline $(baseline_variants) --calls $(processed_vcf) --squash-ploidy --output $(outdir)`)\n",
    "        non_snp_roc = joinpath(outdir, \"non_snp_roc.tsv.gz\")\n",
    "        snp_roc = joinpath(outdir, \"snp_roc.tsv.gz\")\n",
    "        weighted_roc = joinpath(outdir, \"weighted_roc.tsv.gz\")\n",
    "        roc_png = joinpath(outdir, \"roc.png\")\n",
    "        roc_svg = joinpath(outdir, \"roc.svg\")\n",
    "        run(`$(Mycelia.CONDA_RUNNER) run --live-stream -n rtg-tools rtg RTG_MEM=8G rocplot --png $(roc_png) --svg $(roc_svg) --curve $(non_snp_roc)=non_snp_roc --curve $(snp_roc)=snp_roc --curve $(weighted_roc)=weighted_roc `)\n",
    "    catch e\n",
    "        println(e)\n",
    "    end\n",
    "end\n",
    "outdirs"
   ]
  },
  {
   "cell_type": "code",
   "execution_count": null,
   "id": "cacb4faf-cdce-4fe1-90e0-8714cbb2cb3d",
   "metadata": {},
   "outputs": [],
   "source": [
    "# do PGGB & ???"
   ]
  },
  {
   "cell_type": "code",
   "execution_count": null,
   "id": "592a80e9-f650-4ad1-b63a-df93c3ae01fc",
   "metadata": {
    "tags": []
   },
   "outputs": [],
   "source": [
    "# count([isdir(dir) for dir in outdirs])"
   ]
  },
  {
   "cell_type": "markdown",
   "id": "53bed6b1-c7d1-4879-8283-c34452265a8b",
   "metadata": {},
   "source": [
    "Performance Metrics: Start by calculating key metrics for each variant calling method, including precision (positive predictive value), recall (sensitivity), accuracy, and F1 score. These metrics will provide a comprehensive view of each method's performance."
   ]
  },
  {
   "cell_type": "markdown",
   "id": "27860c48-cad6-4178-9693-36e37c72d6d3",
   "metadata": {},
   "source": [
    "Confusion Matrix: For each method, create a confusion matrix that shows the number of true positives, false positives, true negatives, and false negatives. This will give you a clear picture of the type of errors made by each method."
   ]
  },
  {
   "cell_type": "markdown",
   "id": "8227fc43-4bb6-4b82-a75b-78436d77bc18",
   "metadata": {},
   "source": [
    "Receiver Operating Characteristic (ROC) Curve: Plot ROC curves for each method. This plot shows the trade-off between true positive rate and false positive rate and is useful for comparing the performance of different methods."
   ]
  },
  {
   "cell_type": "markdown",
   "id": "eba2488e-2dd1-4a67-821f-81e186e59352",
   "metadata": {},
   "source": [
    "Precision-Recall Curve: Especially when dealing with imbalanced datasets (where variants are rare), precision-recall curves can be more informative than ROC curves."
   ]
  },
  {
   "cell_type": "markdown",
   "id": "badc9dbd-a68a-40a6-83c4-c940a3ea5f29",
   "metadata": {},
   "source": [
    "Heatmaps: Use heatmaps to visualize the performance metrics across different genomes and depths of coverage. This can provide an intuitive understanding of how performance varies with these factors.\n",
    "\n",
    "jaccard similarity?\n",
    "AUC"
   ]
  }
 ],
 "metadata": {
  "kernelspec": {
   "display_name": "Julia 1.10.2",
   "language": "julia",
   "name": "julia-1.10"
  },
  "language_info": {
   "file_extension": ".jl",
   "mimetype": "application/julia",
   "name": "julia",
   "version": "1.10.2"
  }
 },
 "nbformat": 4,
 "nbformat_minor": 5
}
