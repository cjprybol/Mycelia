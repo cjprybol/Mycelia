{
 "cells": [
  {
   "cell_type": "code",
   "execution_count": null,
   "id": "335bf35f-c55e-4857-83f0-ed03dc666f4e",
   "metadata": {
    "tags": []
   },
   "outputs": [],
   "source": [
    "# if hit plotting library issues, try resetting LD path for julia\n",
    "# can set in ~/.local/share/jupyter/kernels/\n",
    "# @assert ENV[\"LD_LIBRARY_PATH\"] == \"\"\n",
    "import Pkg\n",
    "pkgs = [\n",
    "    \"Revise\",\n",
    "    \"DataFrames\",\n",
    "    \"uCSV\",\n",
    "    \"StatsBase\",\n",
    "    \"Statistics\",\n",
    "    \"Dates\",\n",
    "    \"FASTX\"\n",
    "]\n",
    "# Pkg.add(pkgs)\n",
    "for pkg in pkgs\n",
    "    eval(Meta.parse(\"import $pkg\"))\n",
    "end\n",
    "# Pkg.develop(path=\"/global/cfs/projectdirs/m4269/cjprybol/Mycelia\")\n",
    "Pkg.develop(path=\"../../..\")\n",
    "import Mycelia"
   ]
  },
  {
   "cell_type": "code",
   "execution_count": null,
   "id": "128cc1e1-929a-42e1-8376-4c81832fd40c",
   "metadata": {
    "tags": []
   },
   "outputs": [],
   "source": [
    "PROJECT_BASEDIR = dirname(pwd())\n",
    "ncbi_metadata = Mycelia.load_refseq_metadata()\n",
    "\n",
    "filtered_ncbi_metadata = \n",
    "ncbi_metadata[\n",
    "    (ncbi_metadata[!, \"excluded_from_refseq\"] .== \"na\") .&\n",
    "    (ncbi_metadata[!, \"genome_rep\"] .== \"Full\") .&\n",
    "    map(x -> x in Set([\"Chromosome\", \"Complete Genome\"]), ncbi_metadata[!, \"assembly_level\"]) .&\n",
    "    map(x -> x in Set([\"reference genome\", \"representative genome\"]), ncbi_metadata[!, \"refseq_category\"]) .&\n",
    "    (ncbi_metadata[!, \"genome_size\"] .> 10_000), :]\n",
    "\n",
    "smallest_genomes = DataFrames.DataFrame()\n",
    "for group_dataframe in DataFrames.groupby(filtered_ncbi_metadata, \"group\")\n",
    "    smallest_genome_row = sort(group_dataframe, \"genome_size\")[1, :]\n",
    "    push!(smallest_genomes, smallest_genome_row)\n",
    "end\n",
    "sort!(smallest_genomes, \"genome_size\")\n",
    "selected_genomes = smallest_genomes[1:3, :]"
   ]
  },
  {
   "cell_type": "code",
   "execution_count": null,
   "id": "7155b16e-f900-4ad0-8949-7dfdc63984b7",
   "metadata": {},
   "outputs": [],
   "source": [
    "data_dir = joinpath(PROJECT_BASEDIR, \"data\")\n",
    "genome_dir = mkpath(joinpath(data_dir, \"genomes\"))\n",
    "for row in DataFrames.eachrow(selected_genomes)\n",
    "    records = collect(Mycelia.get_sequence(db=\"nuccore\", ftp=Mycelia.ncbi_ftp_path_to_url(ftp_path=row[\"ftp_path\"], extension=\"genomic.fna.gz\"))) \n",
    "    outfile = joinpath(genome_dir, row[\"#assembly_accession\"] * \".fna\")\n",
    "    Mycelia.write_fasta(outfile = outfile, records = records)\n",
    "end"
   ]
  }
 ],
 "metadata": {
  "kernelspec": {
   "display_name": "Julia 1.9.4",
   "language": "julia",
   "name": "julia-1.9.4"
  },
  "language_info": {
   "file_extension": ".jl",
   "mimetype": "application/julia",
   "name": "julia",
   "version": "1.9.4"
  }
 },
 "nbformat": 4,
 "nbformat_minor": 5
}
