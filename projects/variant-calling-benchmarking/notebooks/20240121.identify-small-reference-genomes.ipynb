{
 "cells": [
  {
   "cell_type": "code",
   "execution_count": 1,
   "id": "335bf35f-c55e-4857-83f0-ed03dc666f4e",
   "metadata": {
    "tags": []
   },
   "outputs": [
    {
     "name": "stderr",
     "output_type": "stream",
     "text": [
      "\u001b[36m\u001b[1m[ \u001b[22m\u001b[39m\u001b[36m\u001b[1mInfo: \u001b[22m\u001b[39mPrecompiling Mycelia [453d265d-8292-4a7b-a57c-dce3f9ae6acd]\n",
      "\u001b[36m\u001b[1m[ \u001b[22m\u001b[39m\u001b[36m\u001b[1mInfo: \u001b[22m\u001b[39mSkipping precompilation since __precompile__(false). Importing Mycelia [453d265d-8292-4a7b-a57c-dce3f9ae6acd].\n"
     ]
    }
   ],
   "source": [
    "# if hit plotting library issues, try resetting LD path for julia\n",
    "# can set in ~/.local/share/jupyter/kernels/\n",
    "# @assert ENV[\"LD_LIBRARY_PATH\"] == \"\"\n",
    "import Pkg\n",
    "pkgs = [\n",
    "    \"Revise\",\n",
    "    \"DataFrames\",\n",
    "    \"uCSV\",\n",
    "    \"StatsBase\",\n",
    "    \"Statistics\",\n",
    "    \"Dates\",\n",
    "    \"FASTX\"\n",
    "]\n",
    "# Pkg.add(pkgs)\n",
    "for pkg in pkgs\n",
    "    eval(Meta.parse(\"import $pkg\"))\n",
    "end\n",
    "# Pkg.develop(path=\"/global/cfs/projectdirs/m4269/cjprybol/Mycelia\")\n",
    "# Pkg.develop(path=\"../../..\")\n",
    "import Mycelia"
   ]
  },
  {
   "cell_type": "code",
   "execution_count": 2,
   "id": "128cc1e1-929a-42e1-8376-4c81832fd40c",
   "metadata": {
    "tags": []
   },
   "outputs": [
    {
     "data": {
      "text/html": [
       "<div><div style = \"float: left;\"><span>3×38 DataFrame</span></div><div style = \"clear: both;\"></div></div><div class = \"data-frame\" style = \"overflow-x: scroll;\"><table class = \"data-frame\" style = \"margin-bottom: 6px;\"><thead><tr class = \"header\"><th class = \"rowNumber\" style = \"font-weight: bold; text-align: right;\">Row</th><th style = \"text-align: left;\">#assembly_accession</th><th style = \"text-align: left;\">bioproject</th><th style = \"text-align: left;\">biosample</th><th style = \"text-align: left;\">wgs_master</th><th style = \"text-align: left;\">refseq_category</th><th style = \"text-align: left;\">taxid</th><th style = \"text-align: left;\">species_taxid</th><th style = \"text-align: left;\">organism_name</th><th style = \"text-align: left;\">infraspecific_name</th><th style = \"text-align: left;\">isolate</th><th style = \"text-align: left;\">version_status</th><th style = \"text-align: left;\">assembly_level</th><th style = \"text-align: left;\">release_type</th><th style = \"text-align: left;\">genome_rep</th><th style = \"text-align: left;\">seq_rel_date</th><th style = \"text-align: left;\">asm_name</th><th style = \"text-align: left;\">asm_submitter</th><th style = \"text-align: left;\">gbrs_paired_asm</th><th style = \"text-align: left;\">paired_asm_comp</th><th style = \"text-align: left;\">ftp_path</th><th style = \"text-align: left;\">excluded_from_refseq</th><th style = \"text-align: left;\">relation_to_type_material</th><th style = \"text-align: left;\">asm_not_live_date</th><th style = \"text-align: left;\">assembly_type</th><th style = \"text-align: left;\">group</th><th style = \"text-align: left;\">genome_size</th><th style = \"text-align: left;\">genome_size_ungapped</th><th style = \"text-align: left;\">gc_percent</th><th style = \"text-align: left;\">replicon_count</th><th style = \"text-align: left;\">scaffold_count</th><th style = \"text-align: left;\">contig_count</th><th style = \"text-align: left;\">annotation_provider</th><th style = \"text-align: left;\">annotation_name</th><th style = \"text-align: left;\">annotation_date</th><th style = \"text-align: left;\">total_gene_count</th><th style = \"text-align: left;\">protein_coding_gene_count</th><th style = \"text-align: left;\">non_coding_gene_count</th><th style = \"text-align: left;\">pubmed_id</th></tr><tr class = \"subheader headerLastRow\"><th class = \"rowNumber\" style = \"font-weight: bold; text-align: right;\"></th><th title = \"String\" style = \"text-align: left;\">String</th><th title = \"String\" style = \"text-align: left;\">String</th><th title = \"String\" style = \"text-align: left;\">String</th><th title = \"String\" style = \"text-align: left;\">String</th><th title = \"String\" style = \"text-align: left;\">String</th><th title = \"Int64\" style = \"text-align: left;\">Int64</th><th title = \"Int64\" style = \"text-align: left;\">Int64</th><th title = \"String\" style = \"text-align: left;\">String</th><th title = \"String\" style = \"text-align: left;\">String</th><th title = \"String\" style = \"text-align: left;\">String</th><th title = \"String\" style = \"text-align: left;\">String</th><th title = \"String\" style = \"text-align: left;\">String</th><th title = \"String\" style = \"text-align: left;\">String</th><th title = \"String\" style = \"text-align: left;\">String</th><th title = \"Dates.Date\" style = \"text-align: left;\">Date</th><th title = \"String\" style = \"text-align: left;\">String</th><th title = \"String\" style = \"text-align: left;\">String</th><th title = \"String\" style = \"text-align: left;\">String</th><th title = \"String\" style = \"text-align: left;\">String</th><th title = \"String\" style = \"text-align: left;\">String</th><th title = \"String\" style = \"text-align: left;\">String</th><th title = \"String\" style = \"text-align: left;\">String</th><th title = \"String\" style = \"text-align: left;\">String</th><th title = \"String\" style = \"text-align: left;\">String</th><th title = \"String\" style = \"text-align: left;\">String</th><th title = \"Int64\" style = \"text-align: left;\">Int64</th><th title = \"Int64\" style = \"text-align: left;\">Int64</th><th title = \"Float64\" style = \"text-align: left;\">Float64</th><th title = \"Int64\" style = \"text-align: left;\">Int64</th><th title = \"Int64\" style = \"text-align: left;\">Int64</th><th title = \"Int64\" style = \"text-align: left;\">Int64</th><th title = \"String\" style = \"text-align: left;\">String</th><th title = \"String\" style = \"text-align: left;\">String</th><th title = \"Dates.Date\" style = \"text-align: left;\">Date</th><th title = \"Int64\" style = \"text-align: left;\">Int64</th><th title = \"Int64\" style = \"text-align: left;\">Int64</th><th title = \"Int64\" style = \"text-align: left;\">Int64</th><th title = \"String\" style = \"text-align: left;\">String</th></tr></thead><tbody><tr><td class = \"rowNumber\" style = \"font-weight: bold; text-align: right;\">1</td><td style = \"text-align: left;\">GCF_001610725.1</td><td style = \"text-align: left;\">PRJNA485481</td><td style = \"text-align: left;\">na</td><td style = \"text-align: left;\">na</td><td style = \"text-align: left;\">reference genome</td><td style = \"text-align: right;\">64318</td><td style = \"text-align: right;\">64318</td><td style = \"text-align: left;\">Spondweni virus</td><td style = \"text-align: left;\">strain=SM-6 V-1</td><td style = \"text-align: left;\">na</td><td style = \"text-align: left;\">latest</td><td style = \"text-align: left;\">Complete Genome</td><td style = \"text-align: left;\">Major</td><td style = \"text-align: left;\">Full</td><td style = \"text-align: left;\">2016-02-05</td><td style = \"text-align: left;\">ViralProj311759</td><td style = \"text-align: left;\">Unite des Virus Emergents</td><td style = \"text-align: left;\">GCA_001610725.1</td><td style = \"text-align: left;\">identical</td><td style = \"text-align: left;\">https://ftp.ncbi.nlm.nih.gov/genomes/all/GCF/001/610/725/GCF_001610725.1_ViralProj311759</td><td style = \"text-align: left;\">na</td><td style = \"text-align: left;\">na</td><td style = \"text-align: left;\">na</td><td style = \"text-align: left;\">haploid</td><td style = \"text-align: left;\">viral</td><td style = \"text-align: right;\">10290</td><td style = \"text-align: right;\">10290</td><td style = \"text-align: right;\">52.5</td><td style = \"text-align: right;\">1</td><td style = \"text-align: right;\">1</td><td style = \"text-align: right;\">1</td><td style = \"text-align: left;\">NCBI RefSeq</td><td style = \"text-align: left;\">Annotation submitted by NCBI RefSeq</td><td style = \"text-align: left;\">2019-08-01</td><td style = \"text-align: right;\">1</td><td style = \"text-align: right;\">1</td><td style = \"text-align: right;\">0</td><td style = \"text-align: left;\">19741066;17195954</td></tr><tr><td class = \"rowNumber\" style = \"font-weight: bold; text-align: right;\">2</td><td style = \"text-align: left;\">GCF_024820135.1</td><td style = \"text-align: left;\">PRJNA224116</td><td style = \"text-align: left;\">SAMN26686293</td><td style = \"text-align: left;\">na</td><td style = \"text-align: left;\">representative genome</td><td style = \"text-align: right;\">1160784</td><td style = \"text-align: right;\">1160784</td><td style = \"text-align: left;\">Candidatus Nasuia deltocephalinicola</td><td style = \"text-align: left;\">strain=HICO</td><td style = \"text-align: left;\">na</td><td style = \"text-align: left;\">latest</td><td style = \"text-align: left;\">Chromosome</td><td style = \"text-align: left;\">Major</td><td style = \"text-align: left;\">Full</td><td style = \"text-align: left;\">2022-09-01</td><td style = \"text-align: left;\">ASM2482013v1</td><td style = \"text-align: left;\">University of California Merced</td><td style = \"text-align: left;\">GCA_024820135.1</td><td style = \"text-align: left;\">identical</td><td style = \"text-align: left;\">https://ftp.ncbi.nlm.nih.gov/genomes/all/GCF/024/820/135/GCF_024820135.1_ASM2482013v1</td><td style = \"text-align: left;\">na</td><td style = \"text-align: left;\">na</td><td style = \"text-align: left;\">na</td><td style = \"text-align: left;\">haploid</td><td style = \"text-align: left;\">bacteria</td><td style = \"text-align: right;\">112590</td><td style = \"text-align: right;\">112299</td><td style = \"text-align: right;\">17.5</td><td style = \"text-align: right;\">1</td><td style = \"text-align: right;\">1</td><td style = \"text-align: right;\">1</td><td style = \"text-align: left;\">NCBI RefSeq</td><td style = \"text-align: left;\">NCBI Prokaryotic Genome Annotation Pipeline (PGAP)</td><td style = \"text-align: left;\">2023-12-03</td><td style = \"text-align: right;\">160</td><td style = \"text-align: right;\">133</td><td style = \"text-align: right;\">27</td><td style = \"text-align: left;\">35982793</td></tr><tr><td class = \"rowNumber\" style = \"font-weight: bold; text-align: right;\">3</td><td style = \"text-align: left;\">GCF_023169545.1</td><td style = \"text-align: left;\">PRJNA224116</td><td style = \"text-align: left;\">SAMD00173595</td><td style = \"text-align: left;\">na</td><td style = \"text-align: left;\">representative genome</td><td style = \"text-align: right;\">2586965</td><td style = \"text-align: right;\">2586965</td><td style = \"text-align: left;\">Nanobdella aerobiophila</td><td style = \"text-align: left;\">strain=MJ1</td><td style = \"text-align: left;\">na</td><td style = \"text-align: left;\">latest</td><td style = \"text-align: left;\">Complete Genome</td><td style = \"text-align: left;\">Major</td><td style = \"text-align: left;\">Full</td><td style = \"text-align: left;\">2022-02-22</td><td style = \"text-align: left;\">ASM2316954v1</td><td style = \"text-align: left;\">RIKEN</td><td style = \"text-align: left;\">GCA_023169545.1</td><td style = \"text-align: left;\">identical</td><td style = \"text-align: left;\">https://ftp.ncbi.nlm.nih.gov/genomes/all/GCF/023/169/545/GCF_023169545.1_ASM2316954v1</td><td style = \"text-align: left;\">na</td><td style = \"text-align: left;\">assembly from type material</td><td style = \"text-align: left;\">na</td><td style = \"text-align: left;\">haploid</td><td style = \"text-align: left;\">archaea</td><td style = \"text-align: right;\">668961</td><td style = \"text-align: right;\">668961</td><td style = \"text-align: right;\">24.5</td><td style = \"text-align: right;\">1</td><td style = \"text-align: right;\">1</td><td style = \"text-align: right;\">1</td><td style = \"text-align: left;\">NCBI RefSeq</td><td style = \"text-align: left;\">NCBI Prokaryotic Genome Annotation Pipeline (PGAP)</td><td style = \"text-align: left;\">2023-09-20</td><td style = \"text-align: right;\">765</td><td style = \"text-align: right;\">719</td><td style = \"text-align: right;\">46</td><td style = \"text-align: left;\">35993221</td></tr></tbody></table></div>"
      ],
      "text/latex": [
       "\\begin{tabular}{r|cccccc}\n",
       "\t& \\#assembly\\_accession & bioproject & biosample & wgs\\_master & refseq\\_category & \\\\\n",
       "\t\\hline\n",
       "\t& String & String & String & String & String & \\\\\n",
       "\t\\hline\n",
       "\t1 & GCF\\_001610725.1 & PRJNA485481 & na & na & reference genome & $\\dots$ \\\\\n",
       "\t2 & GCF\\_024820135.1 & PRJNA224116 & SAMN26686293 & na & representative genome & $\\dots$ \\\\\n",
       "\t3 & GCF\\_023169545.1 & PRJNA224116 & SAMD00173595 & na & representative genome & $\\dots$ \\\\\n",
       "\\end{tabular}\n"
      ],
      "text/plain": [
       "\u001b[1m3×38 DataFrame\u001b[0m\n",
       "\u001b[1m Row \u001b[0m│\u001b[1m #assembly_accession \u001b[0m\u001b[1m bioproject  \u001b[0m\u001b[1m biosample    \u001b[0m\u001b[1m wgs_master \u001b[0m\u001b[1m refseq_cate\u001b[0m ⋯\n",
       "     │\u001b[90m String              \u001b[0m\u001b[90m String      \u001b[0m\u001b[90m String       \u001b[0m\u001b[90m String     \u001b[0m\u001b[90m String     \u001b[0m ⋯\n",
       "─────┼──────────────────────────────────────────────────────────────────────────\n",
       "   1 │ GCF_001610725.1      PRJNA485481  na            na          reference g ⋯\n",
       "   2 │ GCF_024820135.1      PRJNA224116  SAMN26686293  na          representat\n",
       "   3 │ GCF_023169545.1      PRJNA224116  SAMD00173595  na          representat\n",
       "\u001b[36m                                                              34 columns omitted\u001b[0m"
      ]
     },
     "execution_count": 2,
     "metadata": {},
     "output_type": "execute_result"
    }
   ],
   "source": [
    "PROJECT_BASEDIR = dirname(pwd())\n",
    "ncbi_metadata = Mycelia.load_refseq_metadata()\n",
    "\n",
    "filtered_ncbi_metadata = \n",
    "ncbi_metadata[\n",
    "    (ncbi_metadata[!, \"excluded_from_refseq\"] .== \"na\") .&\n",
    "    (ncbi_metadata[!, \"genome_rep\"] .== \"Full\") .&\n",
    "    map(x -> x in Set([\"Chromosome\", \"Complete Genome\"]), ncbi_metadata[!, \"assembly_level\"]) .&\n",
    "    map(x -> x in Set([\"reference genome\", \"representative genome\"]), ncbi_metadata[!, \"refseq_category\"]) .&\n",
    "    (ncbi_metadata[!, \"genome_size\"] .> 10_000), :]\n",
    "\n",
    "smallest_genomes = DataFrames.DataFrame()\n",
    "for group_dataframe in DataFrames.groupby(filtered_ncbi_metadata, \"group\")\n",
    "    smallest_genome_row = sort(group_dataframe, \"genome_size\")[1, :]\n",
    "    push!(smallest_genomes, smallest_genome_row)\n",
    "end\n",
    "sort!(smallest_genomes, \"genome_size\")\n",
    "selected_genomes = smallest_genomes[1:3, :]"
   ]
  },
  {
   "cell_type": "code",
   "execution_count": 3,
   "id": "7155b16e-f900-4ad0-8949-7dfdc63984b7",
   "metadata": {},
   "outputs": [],
   "source": [
    "data_dir = joinpath(PROJECT_BASEDIR, \"data\")\n",
    "genome_dir = mkpath(joinpath(data_dir, \"genomes\"))\n",
    "for row in DataFrames.eachrow(selected_genomes)\n",
    "    records = collect(Mycelia.get_sequence(db=\"nuccore\", ftp=Mycelia.ncbi_ftp_path_to_url(ftp_path=row[\"ftp_path\"], extension=\"genomic.fna.gz\"))) \n",
    "    outfile = joinpath(genome_dir, row[\"#assembly_accession\"] * \".fna\")\n",
    "    Mycelia.write_fasta(outfile = outfile, records = records)\n",
    "end"
   ]
  }
 ],
 "metadata": {
  "kernelspec": {
   "display_name": "Julia 1.6.7",
   "language": "julia",
   "name": "julia-1.6"
  },
  "language_info": {
   "file_extension": ".jl",
   "mimetype": "application/julia",
   "name": "julia",
   "version": "1.6.7"
  }
 },
 "nbformat": 4,
 "nbformat_minor": 5
}
