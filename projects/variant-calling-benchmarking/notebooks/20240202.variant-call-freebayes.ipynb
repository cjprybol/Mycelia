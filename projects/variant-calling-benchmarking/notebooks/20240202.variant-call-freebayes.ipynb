{
 "cells": [
  {
   "cell_type": "code",
   "execution_count": null,
   "id": "335bf35f-c55e-4857-83f0-ed03dc666f4e",
   "metadata": {
    "tags": []
   },
   "outputs": [],
   "source": [
    "# if hit plotting library issues, try resetting LD path for julia\n",
    "# can set in ~/.local/share/jupyter/kernels/\n",
    "# @assert ENV[\"LD_LIBRARY_PATH\"] == \"\"\n",
    "import Pkg\n",
    "pkgs = [\n",
    "    \"Revise\",\n",
    "    # \"FASTX\",\n",
    "    # \"StatsBase\",\n",
    "    # \"Distributions\",\n",
    "    # \"StatsPlots\",\n",
    "    # \"Random\",\n",
    "    # \"Dates\",\n",
    "    # \"DataFrames\",\n",
    "    # \"BioSequences\",\n",
    "    # \"Conda\",\n",
    "    # \"Downloads\"\n",
    "]\n",
    "# Pkg.add(pkgs)\n",
    "for pkg in pkgs\n",
    "    eval(Meta.parse(\"import $pkg\"))\n",
    "end\n",
    "# Pkg.develop(path=\"/global/cfs/projectdirs/m4269/cjprybol/Mycelia\")\n",
    "# Pkg.develop(path=\"../../..\")\n",
    "import Mycelia"
   ]
  },
  {
   "cell_type": "code",
   "execution_count": null,
   "id": "128cc1e1-929a-42e1-8376-4c81832fd40c",
   "metadata": {
    "tags": []
   },
   "outputs": [],
   "source": [
    "PROJECT_BASEDIR = dirname(pwd())\n",
    "data_dir = joinpath(PROJECT_BASEDIR, \"data\")\n",
    "genome_dir = mkpath(joinpath(data_dir, \"genomes\"))"
   ]
  },
  {
   "cell_type": "code",
   "execution_count": null,
   "id": "ed286651-361d-432f-9fc6-0e1fbe29ff07",
   "metadata": {
    "tags": []
   },
   "outputs": [],
   "source": [
    "bams = sort(filter(x -> occursin(r\"\\.sorted\\.bam$\", x), readdir(genome_dir, join=true)), by=x->filesize(x))"
   ]
  },
  {
   "cell_type": "code",
   "execution_count": null,
   "id": "32f5af96-5414-47d0-ae33-e8ba09271721",
   "metadata": {
    "tags": []
   },
   "outputs": [],
   "source": [
    "software_dir = mkpath(\"$(homedir())/software\")\n",
    "freebayes = joinpath(software_dir, \"bin\", \"freebayes-1.3.6-linux-amd64-static\")\n",
    "if !isfile(freebayes)\n",
    "    import Downloads\n",
    "    # url = \"https://github.com/freebayes/freebayes/archive/refs/tags/v1.3.7.zip\"\n",
    "    # url = \"https://github.com/freebayes/freebayes/archive/refs/tags/v1.3.7.tar.gz\"\n",
    "    url = \"https://github.com/freebayes/freebayes/releases/download/v1.3.6/freebayes-1.3.6-linux-amd64-static.gz\"\n",
    "    output = joinpath(software_dir, \"bin\", basename(url))\n",
    "    Downloads.download(url, output)\n",
    "    # run(`unzip $(output) -d $(software_dir)`)\n",
    "    # tar $(output) -d $(software_dir)`)\n",
    "    # run(`tar --extract --file=$(output) --directory=$(software_dir)`)\n",
    "    # rm(output)\n",
    "    run(`gzip -d $(output)`)\n",
    "end\n",
    "run(`chmod +x $(freebayes)`)"
   ]
  },
  {
   "cell_type": "code",
   "execution_count": null,
   "id": "3fc6a339-9387-4dd4-bf57-13619f808123",
   "metadata": {
    "tags": []
   },
   "outputs": [],
   "source": [
    "# bams = [\n",
    "#     # \"3NEzu1DmBy.fna.normalized.vcf.fna.badread.1000x.filtlong.fq.gz.minimap2.sorted.bam\",\n",
    "#     # \"GCF_024820135.1.fna.normalized.vcf.fna.badread.1000x.filtlong.fq.gz.minimap2.sorted.bam\",\n",
    "#     # \"19tEIXfKKdzr.fna.normalized.vcf.fna.badread.1000x.filtlong.fq.gz.minimap2.sorted.bam\",\n",
    "#     \"PyN5Z2YLzh7c97.fna.normalized.vcf.fna.badread.1000x.filtlong.fq.gz.minimap2.sorted.bam\",\n",
    "#     \"GCF_023169545.1.fna.normalized.vcf.fna.badread.1000x.filtlong.fq.gz.minimap2.sorted.bam\"\n",
    "# ]\n",
    "\n",
    "# bams = joinpath.(genome_dir, bams)"
   ]
  },
  {
   "cell_type": "code",
   "execution_count": null,
   "id": "16d1a6ca-9760-4be5-8aff-5f3d9d58aadb",
   "metadata": {
    "tags": []
   },
   "outputs": [],
   "source": [
    "threads = 4\n",
    "for bam in bams\n",
    "    outfile = bam * \".freebayes.vcf\"\n",
    "    fasta_reference = replace(bam, r\"\\.normalized\\.vcf\\.fna.*\" => \"\")\n",
    "    # if !isfile(outfile) || (filesize(outfile) == 0)\n",
    "    # @info \"$(outfile) not present, generating...\"        \n",
    "    cmd = \n",
    "    \"\"\"\n",
    "    $(freebayes) --ploidy 1 --use-best-n-alleles 1 --fasta-reference $(fasta_reference) --bam $(bam) --vcf $(outfile)\n",
    "    \"\"\"\n",
    "    Mycelia.nersc_sbatch(\n",
    "        job_name = \"$(basename(outfile))\",\n",
    "        mail_user = \"cameron.prybol@gmail.com\",\n",
    "        logdir = mkpath(\"$(homedir())/workspace/slurmlogs\"),\n",
    "        qos = \"shared\",\n",
    "        cpus_per_task= threads,\n",
    "        cmd = cmd)\n",
    "    # else\n",
    "    #     @info \"$(outfile) already present...\"\n",
    "    # end\n",
    "end"
   ]
  }
 ],
 "metadata": {
  "kernelspec": {
   "display_name": "Julia 1.6.7",
   "language": "julia",
   "name": "julia-1.6"
  },
  "language_info": {
   "file_extension": ".jl",
   "mimetype": "application/julia",
   "name": "julia",
   "version": "1.6.7"
  }
 },
 "nbformat": 4,
 "nbformat_minor": 5
}
