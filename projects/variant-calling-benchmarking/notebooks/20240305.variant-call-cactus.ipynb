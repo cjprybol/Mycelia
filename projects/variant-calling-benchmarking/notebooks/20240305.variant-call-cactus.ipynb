{
 "cells": [
  {
   "cell_type": "code",
   "execution_count": null,
   "id": "c12c4703-db14-4376-b8a9-cb86994f7bba",
   "metadata": {
    "tags": []
   },
   "outputs": [],
   "source": [
    "# import Pkg\n",
    "# Pkg.gc()\n",
    "# run(`$(Mycelia.MAMBA) clean --all -y`)\n",
    "\n",
    "# conda   # Get a list of your environments\n",
    "# conda env remove --name <env1> <env2> ... \n",
    "\n",
    "# run(`$(Mycelia.MAMBA) env list`)\n",
    "# run(`$(Mycelia.MAMBA) env remove --name deepvariant`)\n",
    "# run(`$(Mycelia.MAMBA) env remove --name gatk4`)\n",
    "# run(`$(Mycelia.MAMBA) env remove --name medaka`)\n",
    "# run(`$(Mycelia.MAMBA) env remove --name nanocaller`)\n",
    "# run(`$(Mycelia.MAMBA) env remove --name polypolish`)\n",
    "# run(`$(Mycelia.MAMBA) env remove --name picard`)\n",
    "# run(`$(Mycelia.MAMBA) env remove --name nanovar`)\n",
    "# run(`$(Mycelia.MAMBA) env remove --name nanoq`)"
   ]
  },
  {
   "cell_type": "code",
   "execution_count": null,
   "id": "335bf35f-c55e-4857-83f0-ed03dc666f4e",
   "metadata": {
    "tags": []
   },
   "outputs": [],
   "source": [
    "# if hit plotting library issues, try resetting LD path for julia\n",
    "# can set in ~/.local/share/jupyter/kernels/\n",
    "# @assert ENV[\"LD_LIBRARY_PATH\"] == \"\"\n",
    "import Pkg\n",
    "pkgs = [\n",
    "    \"Revise\",\n",
    "    \"FASTX\",\n",
    "    \"ProgressMeter\",\n",
    "    # \"StatsBase\",\n",
    "    # \"Distributions\",\n",
    "    # \"StatsPlots\",\n",
    "    # \"Random\",\n",
    "    # \"Dates\",\n",
    "    \"DataFrames\",\n",
    "    \"uCSV\"\n",
    "    # \"BioSequences\",\n",
    "    # \"Conda\",\n",
    "    # \"Downloads\"\n",
    "]\n",
    "# Pkg.add(pkgs)\n",
    "for pkg in pkgs\n",
    "    eval(Meta.parse(\"import $pkg\"))\n",
    "end\n",
    "# Pkg.develop(path=\"/global/cfs/projectdirs/m4269/cjprybol/Mycelia\")\n",
    "# Pkg.develop(path=\"../../..\")\n",
    "import Mycelia"
   ]
  },
  {
   "cell_type": "code",
   "execution_count": null,
   "id": "3b73d9e6-3917-45f4-8bad-415f27f191e8",
   "metadata": {
    "tags": []
   },
   "outputs": [],
   "source": [
    "# Pkg.build(\"Mycelia\")"
   ]
  },
  {
   "cell_type": "code",
   "execution_count": null,
   "id": "128cc1e1-929a-42e1-8376-4c81832fd40c",
   "metadata": {
    "tags": []
   },
   "outputs": [],
   "source": [
    "PROJECT_BASEDIR = dirname(pwd())\n",
    "data_dir = joinpath(PROJECT_BASEDIR, \"data\")\n",
    "genome_dir = mkpath(joinpath(data_dir, \"genomes\"))"
   ]
  },
  {
   "cell_type": "code",
   "execution_count": null,
   "id": "67e6ccc8-5b5c-47ff-8c0a-033849f05660",
   "metadata": {
    "tags": []
   },
   "outputs": [],
   "source": [
    "# run(`$(Mycelia.MAMBA) env remove --name cactus`)\n",
    "# Mycelia.add_bioconda_env(\"cactus\")"
   ]
  },
  {
   "cell_type": "code",
   "execution_count": null,
   "id": "4c6c5a8b-86e0-4c62-baeb-bbb3aa913fa6",
   "metadata": {
    "tags": []
   },
   "outputs": [],
   "source": [
    "reference_assemblies = filter(x -> occursin(r\"\\.fna$\", x) && !occursin(\"normalized\", x), readdir(genome_dir))"
   ]
  },
  {
   "cell_type": "code",
   "execution_count": null,
   "id": "c6c11f61-2e51-4f84-86bf-806550f7e844",
   "metadata": {
    "tags": []
   },
   "outputs": [],
   "source": [
    "reference_variant_assemblies = filter(x -> occursin(r\"\\.fna$\", x) && occursin(\"normalized\", x) && !occursin(\"joint\", x), readdir(genome_dir))"
   ]
  },
  {
   "cell_type": "code",
   "execution_count": null,
   "id": "4e031ebf-af7b-49e1-a57f-e46ee93b8711",
   "metadata": {
    "tags": []
   },
   "outputs": [],
   "source": [
    "reference_assemblies_by_id = Dict(first(split(x, '.')) => x for x in reference_assemblies)"
   ]
  },
  {
   "cell_type": "code",
   "execution_count": null,
   "id": "e9c7c7e8-230d-45bc-aac9-b391c14ec8ae",
   "metadata": {
    "tags": []
   },
   "outputs": [],
   "source": [
    "reference_variant_assemblies_by_id = Dict(first(split(x, '.')) => x for x in reference_variant_assemblies)"
   ]
  },
  {
   "cell_type": "code",
   "execution_count": null,
   "id": "31c75bba-f559-4e27-97d3-69cb2068a99f",
   "metadata": {
    "tags": []
   },
   "outputs": [],
   "source": [
    "identifiers = intersect(keys(reference_assemblies_by_id), keys(reference_variant_assemblies_by_id))"
   ]
  },
  {
   "cell_type": "code",
   "execution_count": null,
   "id": "4c4c3172-244e-4b59-9daf-81fd9792ef3f",
   "metadata": {
    "tags": []
   },
   "outputs": [],
   "source": [
    "identifiers = sort(collect(identifiers), by=x->length(x))"
   ]
  },
  {
   "cell_type": "code",
   "execution_count": null,
   "id": "4693fadb-0647-4bec-9d81-270bd28ffa73",
   "metadata": {
    "tags": []
   },
   "outputs": [],
   "source": [
    "# identifier = identifiers[1]\n",
    "# identifier = identifiers[2]\n",
    "# identifier = identifiers[3]\n",
    "# identifier = identifiers[4]\n",
    "# identifier = identifiers[5]\n",
    "# todo\n",
    "identifier = identifiers[6]\n",
    "\n",
    "table = DataFrames.DataFrame(\n",
    "    samples = [\"REFERENCE\", \"ALTERNATE\"],\n",
    "    file_paths = [reference_assemblies_by_id[identifier],reference_variant_assemblies_by_id[identifier]]\n",
    ")\n",
    "cactus_config_file = \"$(genome_dir)/$(identifier)-cactus-config.txt\"\n",
    "\n",
    "uCSV.write(data=collect(DataFrames.eachcol(table)), cactus_config_file, header=missing, delim='\\t')\n",
    "\n",
    "CORES = 8\n",
    "MEMORY = 64\n",
    "\n",
    "# cmd = \n",
    "# `$(Mycelia.MAMBA) run --live-stream -n cactus cactus-pangenome \n",
    "# --mgCores $CORES\n",
    "# --mapCores $CORES\n",
    "# --consCores $CORES\n",
    "# --indexCores $CORES\n",
    "# --mgMemory $MEMORY\n",
    "# --consMemory $MEMORY\n",
    "# --indexMemory $MEMORY\n",
    "# --maxMemory $MEMORY\n",
    "# --gbz\n",
    "# --gfa\n",
    "# --vcf\n",
    "# --odgi\n",
    "# --reference REFERENCE\n",
    "# --outName cactus-test-prefix\n",
    "# --outDir ./cactus-test-out\n",
    "# ./cactus-job-store cactus-test.txt`\n",
    "\n",
    "# rm(joinpath(genome_dir, \"cactus-job-store\"), recursive=true)\n",
    "cmd = `podman-hpc run -it -v $(genome_dir):/app -w /app quay.io/comparative-genomics-toolkit/cactus:v2.7.2 cactus-pangenome\n",
    "--mgCores $CORES\n",
    "--mapCores $CORES\n",
    "--consCores $CORES\n",
    "--indexCores $CORES\n",
    "--mgMemory $(MEMORY)Gb\n",
    "--consMemory $(MEMORY)Gb\n",
    "--indexMemory $(MEMORY)Gb\n",
    "--maxMemory $(MEMORY)Gb\n",
    "--gbz\n",
    "--gfa\n",
    "--vcf\n",
    "--odgi\n",
    "--reference REFERENCE\n",
    "--outName $(identifier)-cactus\n",
    "--outDir $(identifier)-cactus\n",
    "./cactus-job-store $(basename(cactus_config_file))`\n",
    "run(cmd)\n",
    "isdir(joinpath(genome_dir, \"cactus-job-store\")) && rm(joinpath(genome_dir, \"cactus-job-store\"), recursive=true)"
   ]
  }
 ],
 "metadata": {
  "kernelspec": {
   "display_name": "Julia 1.6.7",
   "language": "julia",
   "name": "julia-1.6"
  },
  "language_info": {
   "file_extension": ".jl",
   "mimetype": "application/julia",
   "name": "julia",
   "version": "1.6.7"
  }
 },
 "nbformat": 4,
 "nbformat_minor": 5
}
