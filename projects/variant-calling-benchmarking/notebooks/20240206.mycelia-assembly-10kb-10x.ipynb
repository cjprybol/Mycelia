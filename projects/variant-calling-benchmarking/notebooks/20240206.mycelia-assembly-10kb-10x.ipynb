{
 "cells": [
  {
   "cell_type": "code",
   "execution_count": 1,
   "id": "335bf35f-c55e-4857-83f0-ed03dc666f4e",
   "metadata": {
    "tags": []
   },
   "outputs": [
    {
     "name": "stderr",
     "output_type": "stream",
     "text": [
      "\u001b[36m\u001b[1m[ \u001b[22m\u001b[39m\u001b[36m\u001b[1mInfo: \u001b[22m\u001b[39mPrecompiling Mycelia [453d265d-8292-4a7b-a57c-dce3f9ae6acd]\n",
      "\u001b[36m\u001b[1m[ \u001b[22m\u001b[39m\u001b[36m\u001b[1mInfo: \u001b[22m\u001b[39mSkipping precompilation since __precompile__(false). Importing Mycelia [453d265d-8292-4a7b-a57c-dce3f9ae6acd].\n"
     ]
    },
    {
     "ename": "KeyError",
     "evalue": "KeyError: key \"usage_request\" not found",
     "output_type": "error",
     "traceback": [
      "KERNEL EXCEPTION",
      "KeyError: key \"usage_request\" not found",
      "",
      "Stacktrace:",
      " [1] getindex(h::Dict{String, Function}, key::String)",
      "   @ Base ./dict.jl:482",
      " [2] eventloop(socket::ZMQ.Socket)",
      "   @ IJulia ~/.julia/packages/IJulia/Vo51o/src/eventloop.jl:8",
      " [3] (::IJulia.var\"#14#17\")()",
      "   @ IJulia ./task.jl:417"
     ]
    },
    {
     "ename": "KeyError",
     "evalue": "KeyError: key \"usage_request\" not found",
     "output_type": "error",
     "traceback": [
      "KERNEL EXCEPTION",
      "KeyError: key \"usage_request\" not found",
      "",
      "Stacktrace:",
      " [1] getindex(h::Dict{String, Function}, key::String)",
      "   @ Base ./dict.jl:482",
      " [2] eventloop(socket::ZMQ.Socket)",
      "   @ IJulia ~/.julia/packages/IJulia/Vo51o/src/eventloop.jl:8",
      " [3] (::IJulia.var\"#14#17\")()",
      "   @ IJulia ./task.jl:417"
     ]
    },
    {
     "ename": "KeyError",
     "evalue": "KeyError: key \"usage_request\" not found",
     "output_type": "error",
     "traceback": [
      "KERNEL EXCEPTION",
      "KeyError: key \"usage_request\" not found",
      "",
      "Stacktrace:",
      " [1] getindex(h::Dict{String, Function}, key::String)",
      "   @ Base ./dict.jl:482",
      " [2] eventloop(socket::ZMQ.Socket)",
      "   @ IJulia ~/.julia/packages/IJulia/Vo51o/src/eventloop.jl:8",
      " [3] (::IJulia.var\"#14#17\")()",
      "   @ IJulia ./task.jl:417"
     ]
    }
   ],
   "source": [
    "# if hit plotting library issues, try resetting LD path for julia\n",
    "# can set in ~/.local/share/jupyter/kernels/\n",
    "# @assert ENV[\"LD_LIBRARY_PATH\"] == \"\"\n",
    "import Pkg\n",
    "pkgs = [\n",
    "    \"Revise\",\n",
    "    \"FASTX\",\n",
    "    \"BioSequences\",\n",
    "    \"Kmers\"\n",
    "]\n",
    "# Pkg.add(pkgs)\n",
    "for pkg in pkgs\n",
    "    eval(Meta.parse(\"import $pkg\"))\n",
    "end\n",
    "# Pkg.develop(path=\"/global/cfs/projectdirs/m4269/cjprybol/Mycelia\")\n",
    "# Pkg.develop(path=\"../../..\")\n",
    "import Mycelia"
   ]
  },
  {
   "cell_type": "code",
   "execution_count": null,
   "id": "128cc1e1-929a-42e1-8376-4c81832fd40c",
   "metadata": {
    "tags": []
   },
   "outputs": [],
   "source": [
    "PROJECT_BASEDIR = dirname(pwd())\n",
    "data_dir = joinpath(PROJECT_BASEDIR, \"data\")\n",
    "genome_dir = mkpath(joinpath(data_dir, \"genomes\"))"
   ]
  },
  {
   "cell_type": "code",
   "execution_count": null,
   "id": "01ad975e-4976-45af-8157-a8f8656cdd1a",
   "metadata": {
    "tags": []
   },
   "outputs": [],
   "source": [
    "reference_fastas = sort(filter(x -> occursin(r\"\\.fna$\", x) && !occursin(\"normalized\", x), readdir(genome_dir, join=true)), by=x->filesize(x))"
   ]
  },
  {
   "cell_type": "code",
   "execution_count": null,
   "id": "d8bdbaf8-d1a0-471c-a077-eab949fda355",
   "metadata": {
    "tags": []
   },
   "outputs": [],
   "source": [
    "reference_fasta = first(reference_fastas)"
   ]
  },
  {
   "cell_type": "code",
   "execution_count": null,
   "id": "ea39a3f1-b82e-4ed8-a99c-4c9ed1642836",
   "metadata": {
    "tags": []
   },
   "outputs": [],
   "source": [
    "filter(x -> occursin(reference_fasta, x) && occursin(\"10x\", x) && occursin(r\"\\.fq\\.gz$\", x), readdir(genome_dir, join=true))"
   ]
  },
  {
   "cell_type": "code",
   "execution_count": null,
   "id": "1ffc059b-cec6-4165-b446-b44f6ca88c0d",
   "metadata": {
    "tags": []
   },
   "outputs": [],
   "source": [
    "fastq = filter(x -> occursin(reference_fasta, x) && occursin(\"10x\", x) && occursin(\"filtlong\", x) && occursin(r\"\\.fq\\.gz$\", x), readdir(genome_dir, join=true))"
   ]
  },
  {
   "cell_type": "code",
   "execution_count": null,
   "id": "ebdc9d43-8c88-4ae4-827b-e387e09784af",
   "metadata": {
    "tags": []
   },
   "outputs": [],
   "source": [
    "initial_k = Mycelia.assess_dnamer_saturation(fastq, plot=false)"
   ]
  },
  {
   "cell_type": "code",
   "execution_count": null,
   "id": "2c335dce-e4e1-48bd-a0c6-3bae14493904",
   "metadata": {
    "tags": []
   },
   "outputs": [],
   "source": [
    "initial_kmer_type = Kmers.DNAKmer{initial_k}"
   ]
  },
  {
   "cell_type": "code",
   "execution_count": null,
   "id": "eae4ac2b-e629-4601-b1c4-e24b1ed73e88",
   "metadata": {
    "tags": []
   },
   "outputs": [],
   "source": [
    "kmer_iterator = Kmers.EveryKmer{initial_kmer_type}(BioSequences.LongDNA{2}(FASTX.sequence(first(collect(Mycelia.open_fastx(first(fastq)))))))"
   ]
  },
  {
   "cell_type": "code",
   "execution_count": null,
   "id": "a2aca0d5-2921-427d-a8b3-2e0253a98692",
   "metadata": {
    "tags": []
   },
   "outputs": [],
   "source": [
    "graph = Mycelia.fastx_to_kmer_graph(initial_kmer_type, fastq)"
   ]
  }
 ],
 "metadata": {
  "kernelspec": {
   "display_name": "Julia 1.6.7",
   "language": "julia",
   "name": "julia-1.6"
  },
  "language_info": {
   "file_extension": ".jl",
   "mimetype": "application/julia",
   "name": "julia",
   "version": "1.6.7"
  }
 },
 "nbformat": 4,
 "nbformat_minor": 5
}
