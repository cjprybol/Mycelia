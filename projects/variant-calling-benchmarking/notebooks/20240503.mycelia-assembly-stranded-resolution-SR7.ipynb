{
 "cells": [
  {
   "cell_type": "code",
   "execution_count": 1,
   "id": "335bf35f-c55e-4857-83f0-ed03dc666f4e",
   "metadata": {
    "tags": []
   },
   "outputs": [
    {
     "name": "stderr",
     "output_type": "stream",
     "text": [
      "\u001b[33m\u001b[1m┌ \u001b[22m\u001b[39m\u001b[33m\u001b[1mWarning: \u001b[22m\u001b[39mThe active manifest file is an older format with no julia version entry. Dependencies may have been resolved with a different julia version.\n",
      "\u001b[33m\u001b[1m└ \u001b[22m\u001b[39m\u001b[90m@ /global/cfs/cdirs/m4269/cjprybol/Mycelia/Manifest.toml:0\u001b[39m\n",
      "\u001b[36m\u001b[1m[ \u001b[22m\u001b[39m\u001b[36m\u001b[1mInfo: \u001b[22m\u001b[39mPrecompiling Mycelia [453d265d-8292-4a7b-a57c-dce3f9ae6acd]\n",
      "\u001b[36m\u001b[1m[ \u001b[22m\u001b[39m\u001b[36m\u001b[1mInfo: \u001b[22m\u001b[39mSkipping precompilation since __precompile__(false). Importing Mycelia [453d265d-8292-4a7b-a57c-dce3f9ae6acd].\n"
     ]
    }
   ],
   "source": [
    "# if hit plotting library issues, try resetting LD path for julia\n",
    "# can set in ~/.local/share/jupyter/kernels/\n",
    "haskey(ENV, \"LD_LIBRARY_PATH\") && @assert ENV[\"LD_LIBRARY_PATH\"] == \"\"\n",
    "import Pkg\n",
    "pkgs = [\n",
    "    \"Revise\",\n",
    "    \"FASTX\",\n",
    "    \"BioSequences\",\n",
    "    \"Kmers\",\n",
    "    \"Graphs\",\n",
    "    \"MetaGraphs\",\n",
    "    \"SparseArrays\",\n",
    "    \"ProgressMeter\",\n",
    "    \"Distributions\",\n",
    "    \"HiddenMarkovModels\",\n",
    "    \"BioAlignments\",\n",
    "    \"StatsBase\",\n",
    "    \"Random\",\n",
    "    \"StatsPlots\",\n",
    "    \"Statistics\",\n",
    "    \"IterTools\",\n",
    "    \"Primes\",\n",
    "    \"OnlineStats\",\n",
    "    \"IteratorSampling\",\n",
    "    \"HypothesisTests\",\n",
    "    \"Clustering\",\n",
    "    \"Distances\",\n",
    "    \"BioAlignments\",\n",
    "    \"Statistics\",\n",
    "    \"Primes\",\n",
    "    \"DataFrames\",\n",
    "    \"BioSymbols\",\n",
    "    \"LinearAlgebra\"\n",
    "]\n",
    "# Pkg.add(pkgs)\n",
    "for pkg in pkgs\n",
    "    eval(Meta.parse(\"import $pkg\"))\n",
    "end\n",
    "# Pkg.develop(path=\"/global/cfs/projectdirs/m4269/cjprybol/Mycelia\")\n",
    "# Pkg.develop(path=\"../../..\")\n",
    "import Mycelia"
   ]
  },
  {
   "cell_type": "code",
   "execution_count": 2,
   "id": "128cc1e1-929a-42e1-8376-4c81832fd40c",
   "metadata": {
    "tags": []
   },
   "outputs": [
    {
     "data": {
      "text/plain": [
       "\"/global/cfs/cdirs/m4269/cjprybol/Mycelia/projects/variant-calling-benchmarking/data/genomes\""
      ]
     },
     "execution_count": 2,
     "metadata": {},
     "output_type": "execute_result"
    }
   ],
   "source": [
    "PROJECT_BASEDIR = dirname(pwd())\n",
    "data_dir = joinpath(PROJECT_BASEDIR, \"data\")\n",
    "genome_dir = mkpath(joinpath(data_dir, \"genomes\"))"
   ]
  },
  {
   "cell_type": "code",
   "execution_count": 3,
   "id": "00736937-92d0-4cb6-a933-0cb068457ad1",
   "metadata": {
    "tags": []
   },
   "outputs": [
    {
     "data": {
      "text/plain": [
       "\"/global/cfs/cdirs/m4269/cjprybol/Mycelia/projects/variant-calling-benchmarking/data/test\""
      ]
     },
     "execution_count": 3,
     "metadata": {},
     "output_type": "execute_result"
    }
   ],
   "source": [
    "working_dir = joinpath(data_dir, \"test\")\n",
    "mkpath(working_dir)"
   ]
  },
  {
   "cell_type": "code",
   "execution_count": 4,
   "id": "2e294dc9-dc3d-4a15-8e15-70e649200874",
   "metadata": {
    "tags": []
   },
   "outputs": [
    {
     "data": {
      "text/plain": [
       "18-element Vector{SubString{String}}:\n",
       " \"/global/cfs/cdirs/m4269/cjprybo\"\u001b[93m\u001b[1m ⋯ 68 bytes ⋯ \u001b[22m\u001b[39m\".fna.normalized.vcf.fna.art.10x\"\n",
       " \"/global/cfs/cdirs/m4269/cjprybo\"\u001b[93m\u001b[1m ⋯ 69 bytes ⋯ \u001b[22m\u001b[39m\"fna.normalized.vcf.fna.art.100x\"\n",
       " \"/global/cfs/cdirs/m4269/cjprybo\"\u001b[93m\u001b[1m ⋯ 71 bytes ⋯ \u001b[22m\u001b[39m\".fna.normalized.vcf.fna.art.10x\"\n",
       " \"/global/cfs/cdirs/m4269/cjprybo\"\u001b[93m\u001b[1m ⋯ 76 bytes ⋯ \u001b[22m\u001b[39m\".fna.normalized.vcf.fna.art.10x\"\n",
       " \"/global/cfs/cdirs/m4269/cjprybo\"\u001b[93m\u001b[1m ⋯ 70 bytes ⋯ \u001b[22m\u001b[39m\"na.normalized.vcf.fna.art.1000x\"\n",
       " \"/global/cfs/cdirs/m4269/cjprybo\"\u001b[93m\u001b[1m ⋯ 77 bytes ⋯ \u001b[22m\u001b[39m\"fna.normalized.vcf.fna.art.100x\"\n",
       " \"/global/cfs/cdirs/m4269/cjprybo\"\u001b[93m\u001b[1m ⋯ 72 bytes ⋯ \u001b[22m\u001b[39m\"fna.normalized.vcf.fna.art.100x\"\n",
       " \"/global/cfs/cdirs/m4269/cjprybo\"\u001b[93m\u001b[1m ⋯ 73 bytes ⋯ \u001b[22m\u001b[39m\".fna.normalized.vcf.fna.art.10x\"\n",
       " \"/global/cfs/cdirs/m4269/cjprybo\"\u001b[93m\u001b[1m ⋯ 76 bytes ⋯ \u001b[22m\u001b[39m\".fna.normalized.vcf.fna.art.10x\"\n",
       " \"/global/cfs/cdirs/m4269/cjprybo\"\u001b[93m\u001b[1m ⋯ 76 bytes ⋯ \u001b[22m\u001b[39m\".fna.normalized.vcf.fna.art.10x\"\n",
       " \"/global/cfs/cdirs/m4269/cjprybo\"\u001b[93m\u001b[1m ⋯ 78 bytes ⋯ \u001b[22m\u001b[39m\"na.normalized.vcf.fna.art.1000x\"\n",
       " \"/global/cfs/cdirs/m4269/cjprybo\"\u001b[93m\u001b[1m ⋯ 73 bytes ⋯ \u001b[22m\u001b[39m\"na.normalized.vcf.fna.art.1000x\"\n",
       " \"/global/cfs/cdirs/m4269/cjprybo\"\u001b[93m\u001b[1m ⋯ 74 bytes ⋯ \u001b[22m\u001b[39m\"fna.normalized.vcf.fna.art.100x\"\n",
       " \"/global/cfs/cdirs/m4269/cjprybo\"\u001b[93m\u001b[1m ⋯ 77 bytes ⋯ \u001b[22m\u001b[39m\"fna.normalized.vcf.fna.art.100x\"\n",
       " \"/global/cfs/cdirs/m4269/cjprybo\"\u001b[93m\u001b[1m ⋯ 77 bytes ⋯ \u001b[22m\u001b[39m\"fna.normalized.vcf.fna.art.100x\"\n",
       " \"/global/cfs/cdirs/m4269/cjprybo\"\u001b[93m\u001b[1m ⋯ 75 bytes ⋯ \u001b[22m\u001b[39m\"na.normalized.vcf.fna.art.1000x\"\n",
       " \"/global/cfs/cdirs/m4269/cjprybo\"\u001b[93m\u001b[1m ⋯ 78 bytes ⋯ \u001b[22m\u001b[39m\"na.normalized.vcf.fna.art.1000x\"\n",
       " \"/global/cfs/cdirs/m4269/cjprybo\"\u001b[93m\u001b[1m ⋯ 78 bytes ⋯ \u001b[22m\u001b[39m\"na.normalized.vcf.fna.art.1000x\""
      ]
     },
     "execution_count": 4,
     "metadata": {},
     "output_type": "execute_result"
    }
   ],
   "source": [
    "short_read_sets = unique(map(x -> match(r\"^(.+\\.\\d+x)\\.\", x).captures[1], filter(x -> occursin(r\"\\.fna\\.art\", x) && occursin(r\"\\.fq\\.gz\", x) && !occursin(\"trimming_report\", x) && !occursin(\"_val_\", x), sort(readdir(genome_dir, join=true), by=x->filesize(x)))))\n"
   ]
  },
  {
   "cell_type": "code",
   "execution_count": 5,
   "id": "967ce2ab-604d-409d-ba6d-6cd4aba42b07",
   "metadata": {
    "tags": []
   },
   "outputs": [
    {
     "data": {
      "text/plain": [
       "\"/global/cfs/cdirs/m4269/cjprybol/Mycelia/projects/variant-calling-benchmarking/data/genomes/3NEzu1DmBy.fna.normalized.vcf.fna.art.100x\""
      ]
     },
     "execution_count": 5,
     "metadata": {},
     "output_type": "execute_result"
    }
   ],
   "source": [
    "# short_read_set = short_read_sets[1]\n",
    "# short_read_set = short_read_sets[2]\n",
    "# short_read_set = short_read_sets[3]\n",
    "# short_read_set = short_read_sets[4]\n",
    "# short_read_set = short_read_sets[5]\n",
    "# short_read_set = short_read_sets[6]\n",
    "# 2 hours\n",
    "short_read_set = short_read_sets[7]"
   ]
  },
  {
   "cell_type": "code",
   "execution_count": 6,
   "id": "4adb5dde-6425-4a04-815e-bc1c9c403133",
   "metadata": {
    "tags": []
   },
   "outputs": [
    {
     "data": {
      "text/plain": [
       "\"/global/cfs/cdirs/m4269/cjprybol/Mycelia/projects/variant-calling-benchmarking/data/genomes/3NEzu1DmBy.fna.normalized.vcf.fna.art.100x.2_val_2.fq.gz\""
      ]
     },
     "execution_count": 6,
     "metadata": {},
     "output_type": "execute_result"
    }
   ],
   "source": [
    "forward = short_read_set * \".1_val_1.fq.gz\"\n",
    "reverse = short_read_set * \".2_val_2.fq.gz\""
   ]
  },
  {
   "cell_type": "code",
   "execution_count": 7,
   "id": "de838ce1-69d1-44eb-862a-2c05d01f3c11",
   "metadata": {
    "tags": []
   },
   "outputs": [
    {
     "data": {
      "text/plain": [
       "\"/global/cfs/cdirs/m4269/cjprybol/Mycelia/projects/variant-calling-benchmarking/data/genomes/3NEzu1DmBy.fna.normalized.vcf.fna.art.100x.joint.fq.gz\""
      ]
     },
     "execution_count": 7,
     "metadata": {},
     "output_type": "execute_result"
    }
   ],
   "source": [
    "short_read_set_joint_fastq = short_read_set * \".joint.fq.gz\"\n",
    "if !isfile(short_read_set_joint_fastq)\n",
    "    run(pipeline(`cat $(forward) $(reverse)`, short_read_set_joint_fastq))\n",
    "end\n",
    "short_read_set_joint_fastq\n",
    "original_fastq = short_read_set_joint_fastq"
   ]
  },
  {
   "cell_type": "code",
   "execution_count": 8,
   "id": "55e89dcb-8a32-4a0c-855a-e7f3c2cc411c",
   "metadata": {
    "tags": []
   },
   "outputs": [],
   "source": [
    "# almost no time at all for short reads\n",
    "# polishing_results = Mycelia.iterative_polishing(original_fastq)"
   ]
  },
  {
   "cell_type": "code",
   "execution_count": 10,
   "id": "74011f18-19de-4c9c-a72e-aa3883f0e1d2",
   "metadata": {
    "tags": []
   },
   "outputs": [
    {
     "data": {
      "text/plain": [
       "\"/global/cfs/cdirs/m4269/cjprybol/Mycelia/projects/variant-calling-benchmarking/data/genomes/3NEzu1DmBy.fna.normalized.vcf.fna.art.100x.joint.k11.k13.k17.k19.k23.k31.k53.k89.fq.gz\""
      ]
     },
     "execution_count": 10,
     "metadata": {},
     "output_type": "execute_result"
    }
   ],
   "source": [
    "# assembly_fastq = last(polishing_results).fastq\n",
    "assembly_fastq = \"/global/cfs/cdirs/m4269/cjprybol/Mycelia/projects/variant-calling-benchmarking/data/genomes/3NEzu1DmBy.fna.normalized.vcf.fna.art.100x.joint.k11.k13.k17.k19.k23.k31.k53.k89.fq.gz\""
   ]
  },
  {
   "cell_type": "code",
   "execution_count": 11,
   "id": "0855968b-f020-4cfc-8146-48e6fc22cc90",
   "metadata": {
    "tags": []
   },
   "outputs": [
    {
     "data": {
      "text/plain": [
       "89"
      ]
     },
     "execution_count": 11,
     "metadata": {},
     "output_type": "execute_result"
    }
   ],
   "source": [
    "# assembly_k = last(polishing_results).k\n",
    "assembly_k = 89"
   ]
  },
  {
   "cell_type": "code",
   "execution_count": 12,
   "id": "f2c258bb-3d78-40b3-841f-5d3ef9797309",
   "metadata": {
    "tags": []
   },
   "outputs": [
    {
     "data": {
      "text/plain": [
       "147.80863636363637"
      ]
     },
     "execution_count": 12,
     "metadata": {},
     "output_type": "execute_result"
    }
   ],
   "source": [
    "mean_read_length = Statistics.mean([length(FASTX.sequence(record)) for record in Mycelia.open_fastx(assembly_fastq)])"
   ]
  },
  {
   "cell_type": "code",
   "execution_count": 13,
   "id": "6247e054-fcc8-45c0-992c-6f84ba3b762d",
   "metadata": {
    "tags": []
   },
   "outputs": [
    {
     "data": {
      "text/plain": [
       "{21503, 21478} directed Int64 metagraph with Float64 weights defined by :weight (default weight 1.0)"
      ]
     },
     "execution_count": 13,
     "metadata": {},
     "output_type": "execute_result"
    }
   ],
   "source": [
    "kmer_graph = Mycelia.build_directed_kmer_graph(fastq=assembly_fastq, k=assembly_k)"
   ]
  },
  {
   "cell_type": "code",
   "execution_count": 14,
   "id": "aa5dae89-be5d-4679-9dbb-ef2341d424e5",
   "metadata": {
    "tags": []
   },
   "outputs": [
    {
     "name": "stdout",
     "output_type": "stream",
     "text": [
      "coverage_threshold = 0\n"
     ]
    },
    {
     "data": {
      "text/plain": [
       "({21503, 21478} directed Int64 metagraph with Float64 weights defined by :weight (default weight 1.0), [1, 2, 3, 4, 5, 6, 7, 8, 9, 10  …  21494, 21495, 21496, 21497, 21498, 21499, 21500, 21501, 21502, 21503])"
      ]
     },
     "execution_count": 14,
     "metadata": {},
     "output_type": "execute_result"
    }
   ],
   "source": [
    "# heuristic - should be based on something better or removed altogether\n",
    "max_filter = 5\n",
    "\n",
    "initial_connected_components = length(Graphs.connected_components(kmer_graph))\n",
    "coverage_threshold = 1\n",
    "tresholded_vertices = [i for (i, (kmer, count)) in enumerate(MetaGraphs.get_prop(kmer_graph, :kmer_counts)) if count > coverage_threshold]\n",
    "candidate_subgraph, vertex_map = Graphs.induced_subgraph(kmer_graph, tresholded_vertices)\n",
    "while (length(Graphs.connected_components(candidate_subgraph)) == initial_connected_components) && (coverage_threshold < max_filter)\n",
    "    coverage_threshold += 1\n",
    "    tresholded_vertices = [i for (i, (kmer, count)) in enumerate(MetaGraphs.get_prop(kmer_graph, :kmer_counts)) if count > coverage_threshold]\n",
    "    candidate_subgraph, vertex_map = Graphs.induced_subgraph(kmer_graph, tresholded_vertices)\n",
    "end\n",
    "coverage_threshold -= 1\n",
    "@show coverage_threshold\n",
    "\n",
    "tresholded_vertices = [i for (i, (kmer, count)) in enumerate(MetaGraphs.get_prop(kmer_graph, :kmer_counts)) if count > coverage_threshold]\n",
    "filtered_graph, filtered_graph_vertex_map = Graphs.induced_subgraph(kmer_graph, tresholded_vertices)\n",
    "# candidate_subgraph, vertex_map = Graphs.induced_subgraph(kmer_graph, [v for v in Graphs.vertices(kmer_graph) if kmer_graph.vprops[v][:count] >= coverage_threshold])"
   ]
  },
  {
   "cell_type": "code",
   "execution_count": 15,
   "id": "7f9a8a55-df91-4e63-bd4c-a01dde8e5539",
   "metadata": {
    "tags": []
   },
   "outputs": [
    {
     "data": {
      "text/plain": [
       "25-element Vector{Vector{Int64}}:\n",
       " [4, 5, 8, 12, 13, 14, 17, 18, 20, 21  …  21485, 21486, 21492, 21493, 21496, 21497, 21498, 21501, 21502, 21503]\n",
       " [1, 3, 6, 9, 10, 15, 16, 19, 22, 24  …  21484, 21487, 21488, 21489, 21490, 21491, 21494, 21495, 21499, 21500]\n",
       " [7, 126, 131, 134, 139, 140, 147, 150, 151, 155  …  21220, 21253, 21254, 21277, 21304, 21339, 21340, 21408, 21410, 21412]\n",
       " [200, 234, 236, 237, 457, 458, 474, 718, 762, 763  …  21145, 21146, 21176, 21275, 21276, 21296, 21299, 21330, 21375, 21376]\n",
       " [2, 11, 67, 68, 322, 323, 936, 937, 1308, 1309  …  19401, 19402, 19669, 19670, 20002, 20003, 20144, 20145, 20917, 20918]\n",
       " [128, 136, 545, 559, 1158, 1810, 2246, 2300, 2484, 3532  …  17755, 18137, 18404, 18429, 18444, 18455, 18479, 19264, 20764, 21336]\n",
       " [129, 137, 546, 560, 1159, 1695, 1811, 2247, 2301, 2485  …  17756, 18138, 18405, 18430, 18445, 18456, 18480, 19265, 20765, 21337]\n",
       " [130, 138, 547, 561, 1160, 1812, 2248, 2302, 2486, 3849  …  18139, 18406, 18431, 18446, 18457, 18485, 18530, 19267, 20766, 21338]\n",
       " [133, 462, 556, 1807, 1910, 2297, 3530, 3693, 4678, 5433  …  18023, 18277, 18441, 18477, 18618, 19262, 19271, 20646, 20714, 21303]\n",
       " [146, 303, 608, 617, 1258, 1350, 1384, 1434, 2258, 2495  …  18256, 18540, 19776, 19879, 20019, 20112, 20214, 20277, 21157, 21217]\n",
       " [149, 305, 611, 620, 779, 1260, 1346, 1353, 1387, 1442  …  16721, 16784, 17493, 17654, 18212, 18259, 19468, 19882, 20217, 20298]\n",
       " [152, 308, 614, 622, 1263, 1356, 1389, 1445, 1628, 2262  …  18215, 18261, 19779, 19885, 20022, 20116, 20220, 20281, 21160, 21221]\n",
       " [196, 829, 2665, 3053, 3127, 3139, 3152, 3276, 3884, 3974  …  19012, 19087, 19244, 19794, 20027, 20154, 20332, 20455, 20602, 21236]\n",
       " [235, 987, 1885, 2337, 2353, 3245, 3818, 3935, 4012, 4758  …  18736, 18789, 19229, 19602, 19954, 20596, 20632, 20972, 21144, 21298]\n",
       " [473, 717, 1797, 1946, 2087, 2767, 2894, 2899, 2929, 3330  …  18145, 18184, 18316, 18742, 19395, 19714, 19723, 20383, 20687, 21014]\n",
       " [475, 719, 1754, 1799, 1948, 2090, 2769, 2896, 2902, 2932  …  17047, 17071, 17325, 18187, 18745, 19716, 19725, 20245, 20385, 20690]\n",
       " [476, 720, 1755, 1800, 1949, 2091, 2770, 2897, 2903, 2933  …  17048, 17072, 18188, 18752, 19717, 19726, 20246, 20386, 20691, 21101]\n",
       " [764, 1208, 1922, 2095, 2442, 2599, 2961, 3062, 3191, 3440  …  16729, 17547, 18034, 18634, 19196, 19301, 19481, 19491, 19623, 20963]\n",
       " [148, 610, 619, 1352, 1386, 2260, 2475, 2497, 2509, 2815  …  18211, 18258, 18541, 19777, 19881, 20020, 20114, 20279, 21158, 21219]\n",
       " [2418, 3337, 3493, 3509, 3925, 4552, 6054, 7550, 7631, 7796  …  19270, 19304, 19441, 19626, 20358, 20707, 20808, 20991, 21070, 21409]\n",
       " [127, 135, 463, 544, 558, 1157, 1809, 1911, 2245, 2299  …  17709, 17754, 18403, 18428, 18443, 18454, 18478, 19263, 20763, 21335]\n",
       " [233, 985, 1883, 2352, 3243, 3430, 3799, 3816, 3934, 4010  …  17944, 17964, 18734, 18787, 19600, 19952, 20595, 20630, 21142, 21297]\n",
       " [796, 1178, 1284, 1432, 1457, 1537, 1789, 1844, 2269, 2861  …  14901, 15494, 16387, 17096, 17449, 17879, 18701, 19477, 20504, 20607]\n",
       " [532, 760, 772, 1110, 1402, 2195, 2243, 2822, 3042, 3077  …  15544, 15651, 17559, 17796, 18199, 19349, 19666, 19922, 20012, 21005]\n",
       " [15772]"
      ]
     },
     "execution_count": 15,
     "metadata": {},
     "output_type": "execute_result"
    }
   ],
   "source": [
    "connected_components = sort(Graphs.connected_components(filtered_graph), by=x->length(x), rev=true)"
   ]
  },
  {
   "cell_type": "code",
   "execution_count": 18,
   "id": "2b23133a-ea2b-4744-8405-7cefb38ebd09",
   "metadata": {
    "tags": []
   },
   "outputs": [
    {
     "data": {
      "text/plain": [
       "24-element Vector{Vector{Int64}}:\n",
       " [4, 5, 8, 12, 13, 14, 17, 18, 20, 21  …  21485, 21486, 21492, 21493, 21496, 21497, 21498, 21501, 21502, 21503]\n",
       " [1, 3, 6, 9, 10, 15, 16, 19, 22, 24  …  21484, 21487, 21488, 21489, 21490, 21491, 21494, 21495, 21499, 21500]\n",
       " [7, 126, 131, 134, 139, 140, 147, 150, 151, 155  …  21220, 21253, 21254, 21277, 21304, 21339, 21340, 21408, 21410, 21412]\n",
       " [200, 234, 236, 237, 457, 458, 474, 718, 762, 763  …  21145, 21146, 21176, 21275, 21276, 21296, 21299, 21330, 21375, 21376]\n",
       " [2, 11, 67, 68, 322, 323, 936, 937, 1308, 1309  …  19401, 19402, 19669, 19670, 20002, 20003, 20144, 20145, 20917, 20918]\n",
       " [128, 136, 545, 559, 1158, 1810, 2246, 2300, 2484, 3532  …  17755, 18137, 18404, 18429, 18444, 18455, 18479, 19264, 20764, 21336]\n",
       " [129, 137, 546, 560, 1159, 1695, 1811, 2247, 2301, 2485  …  17756, 18138, 18405, 18430, 18445, 18456, 18480, 19265, 20765, 21337]\n",
       " [130, 138, 547, 561, 1160, 1812, 2248, 2302, 2486, 3849  …  18139, 18406, 18431, 18446, 18457, 18485, 18530, 19267, 20766, 21338]\n",
       " [133, 462, 556, 1807, 1910, 2297, 3530, 3693, 4678, 5433  …  18023, 18277, 18441, 18477, 18618, 19262, 19271, 20646, 20714, 21303]\n",
       " [146, 303, 608, 617, 1258, 1350, 1384, 1434, 2258, 2495  …  18256, 18540, 19776, 19879, 20019, 20112, 20214, 20277, 21157, 21217]\n",
       " [149, 305, 611, 620, 779, 1260, 1346, 1353, 1387, 1442  …  16721, 16784, 17493, 17654, 18212, 18259, 19468, 19882, 20217, 20298]\n",
       " [152, 308, 614, 622, 1263, 1356, 1389, 1445, 1628, 2262  …  18215, 18261, 19779, 19885, 20022, 20116, 20220, 20281, 21160, 21221]\n",
       " [196, 829, 2665, 3053, 3127, 3139, 3152, 3276, 3884, 3974  …  19012, 19087, 19244, 19794, 20027, 20154, 20332, 20455, 20602, 21236]\n",
       " [235, 987, 1885, 2337, 2353, 3245, 3818, 3935, 4012, 4758  …  18736, 18789, 19229, 19602, 19954, 20596, 20632, 20972, 21144, 21298]\n",
       " [473, 717, 1797, 1946, 2087, 2767, 2894, 2899, 2929, 3330  …  18145, 18184, 18316, 18742, 19395, 19714, 19723, 20383, 20687, 21014]\n",
       " [475, 719, 1754, 1799, 1948, 2090, 2769, 2896, 2902, 2932  …  17047, 17071, 17325, 18187, 18745, 19716, 19725, 20245, 20385, 20690]\n",
       " [476, 720, 1755, 1800, 1949, 2091, 2770, 2897, 2903, 2933  …  17048, 17072, 18188, 18752, 19717, 19726, 20246, 20386, 20691, 21101]\n",
       " [764, 1208, 1922, 2095, 2442, 2599, 2961, 3062, 3191, 3440  …  16729, 17547, 18034, 18634, 19196, 19301, 19481, 19491, 19623, 20963]\n",
       " [148, 610, 619, 1352, 1386, 2260, 2475, 2497, 2509, 2815  …  18211, 18258, 18541, 19777, 19881, 20020, 20114, 20279, 21158, 21219]\n",
       " [2418, 3337, 3493, 3509, 3925, 4552, 6054, 7550, 7631, 7796  …  19270, 19304, 19441, 19626, 20358, 20707, 20808, 20991, 21070, 21409]\n",
       " [127, 135, 463, 544, 558, 1157, 1809, 1911, 2245, 2299  …  17709, 17754, 18403, 18428, 18443, 18454, 18478, 19263, 20763, 21335]\n",
       " [233, 985, 1883, 2352, 3243, 3430, 3799, 3816, 3934, 4010  …  17944, 17964, 18734, 18787, 19600, 19952, 20595, 20630, 21142, 21297]\n",
       " [796, 1178, 1284, 1432, 1457, 1537, 1789, 1844, 2269, 2861  …  14901, 15494, 16387, 17096, 17449, 17879, 18701, 19477, 20504, 20607]\n",
       " [532, 760, 772, 1110, 1402, 2195, 2243, 2822, 3042, 3077  …  15544, 15651, 17559, 17796, 18199, 19349, 19666, 19922, 20012, 21005]"
      ]
     },
     "execution_count": 18,
     "metadata": {},
     "output_type": "execute_result"
    }
   ],
   "source": [
    "connected_components = filter(cc -> length(cc) > 1, connected_components)"
   ]
  },
  {
   "cell_type": "code",
   "execution_count": 19,
   "id": "6afaecbe-cc56-41a0-8d51-b752810c4c6b",
   "metadata": {
    "tags": []
   },
   "outputs": [
    {
     "data": {
      "text/plain": [
       "24-element Vector{Int64}:\n",
       " 9632\n",
       " 9497\n",
       "  589\n",
       "  521\n",
       "  111\n",
       "   62\n",
       "   62\n",
       "   62\n",
       "   62\n",
       "   62\n",
       "   62\n",
       "   62\n",
       "   62\n",
       "   62\n",
       "   62\n",
       "   61\n",
       "   61\n",
       "   61\n",
       "   60\n",
       "   60\n",
       "   59\n",
       "   59\n",
       "   59\n",
       "   52"
      ]
     },
     "execution_count": 19,
     "metadata": {},
     "output_type": "execute_result"
    }
   ],
   "source": [
    "length.(connected_components)"
   ]
  },
  {
   "cell_type": "code",
   "execution_count": 21,
   "id": "65725c3e-a680-4169-833e-0a4bee994bbc",
   "metadata": {
    "tags": []
   },
   "outputs": [
    {
     "data": {
      "text/plain": [
       "24-element Vector{Int64}:\n",
       " 1403\n",
       " 1739\n",
       "  267\n",
       "  359\n",
       "  150\n",
       "  150\n",
       "  150\n",
       "  150\n",
       "  150\n",
       "  150\n",
       "  150\n",
       "  150\n",
       "  150\n",
       "  150\n",
       "  150\n",
       "  149\n",
       "  149\n",
       "  149\n",
       "  148\n",
       "  148\n",
       "  147\n",
       "  147\n",
       "  147\n",
       "  140"
      ]
     },
     "execution_count": 21,
     "metadata": {},
     "output_type": "execute_result"
    }
   ],
   "source": [
    "connected_component_sequences = BioSequences.LongDNA{2}[]\n",
    "for connected_component in connected_components\n",
    "    connected_component_subgraph, connected_component_subgraph_vertex_map = Graphs.induced_subgraph(filtered_graph, connected_component)\n",
    "    sorted_connected_component_subgraph = Graphs.topological_sort_by_dfs(connected_component_subgraph)\n",
    "    dsp_result = Graphs.dijkstra_shortest_paths(connected_component_subgraph, first(sorted_connected_component_subgraph))\n",
    "    maxdist, maxdist_index = findmax(map(d -> d == Inf ? zero(d) : d, dsp_result.dists))\n",
    "    connected_component_subgraph_longest_path = Graphs.enumerate_paths(dsp_result, maxdist_index)\n",
    "    # @show connected_component_subgraph_longest_path\n",
    "    original_graph_kmer_indices = filtered_graph_vertex_map[connected_component_subgraph_vertex_map[connected_component_subgraph_longest_path]]\n",
    "    connected_component_subgraph_longest_path_reconstructed_sequence = Mycelia.kmer_path_to_sequence(kmer_graph.gprops[:ordered_kmers][original_graph_kmer_indices])\n",
    "    push!(connected_component_sequences, connected_component_subgraph_longest_path_reconstructed_sequence)\n",
    "end\n",
    "connected_component_sequences\n",
    "length.(connected_component_sequences)"
   ]
  },
  {
   "cell_type": "code",
   "execution_count": 22,
   "id": "e43537ee-b737-4deb-865f-e301fe1f2ec1",
   "metadata": {
    "tags": []
   },
   "outputs": [],
   "source": [
    "# first_sequence_canonical_kmers = unique(last.(collect(Kmers.EveryCanonicalKmer{Kmers.DNAKmer{assembly_k}}(connected_component_sequences[1]))))\n",
    "# second_sequence_canonical_kmers = unique(last.(collect(Kmers.EveryCanonicalKmer{Kmers.DNAKmer{assembly_k}}(connected_component_sequences[2]))))\n",
    "# intersect(first_sequence_canonical_kmers, second_sequence_canonical_kmers)"
   ]
  },
  {
   "cell_type": "code",
   "execution_count": 23,
   "id": "1321fbf7-df41-4a50-9a67-cbe67e1eb806",
   "metadata": {
    "tags": []
   },
   "outputs": [
    {
     "name": "stderr",
     "output_type": "stream",
     "text": [
      "\u001b[32mProgress: 100%|█████████████████████████████████████████| Time: 0:00:11\u001b[39m\n",
      "\u001b[32mProgress: 100%|█████████████████████████████████████████| Time: 0:00:01\u001b[39m\n",
      "\u001b[32mProgress: 100%|█████████████████████████████████████████| Time: 0:00:01\u001b[39m\n",
      "\u001b[32mProgress: 100%|█████████████████████████████████████████| Time: 0:00:01\u001b[39m\n",
      "\u001b[32mProgress: 100%|█████████████████████████████████████████| Time: 0:00:01\u001b[39m\n",
      "\u001b[32mProgress: 100%|█████████████████████████████████████████| Time: 0:00:01\u001b[39m\n",
      "\u001b[32mProgress: 100%|█████████████████████████████████████████| Time: 0:00:01\u001b[39m\n",
      "\u001b[32mProgress: 100%|█████████████████████████████████████████| Time: 0:00:01\u001b[39m\n",
      "\u001b[32mProgress: 100%|█████████████████████████████████████████| Time: 0:00:01\u001b[39m\n",
      "\u001b[32mProgress: 100%|█████████████████████████████████████████| Time: 0:00:01\u001b[39m\n",
      "\u001b[32mProgress: 100%|█████████████████████████████████████████| Time: 0:00:01\u001b[39m\n",
      "\u001b[32mProgress: 100%|█████████████████████████████████████████| Time: 0:00:01\u001b[39m\n",
      "\u001b[32mProgress: 100%|█████████████████████████████████████████| Time: 0:00:01\u001b[39m\n",
      "\u001b[32mProgress: 100%|█████████████████████████████████████████| Time: 0:00:01\u001b[39m\n",
      "\u001b[32mProgress: 100%|█████████████████████████████████████████| Time: 0:00:01\u001b[39m\n",
      "\u001b[32mProgress: 100%|█████████████████████████████████████████| Time: 0:00:02\u001b[39m\n",
      "\u001b[32mProgress: 100%|█████████████████████████████████████████| Time: 0:00:01\u001b[39m\n",
      "\u001b[32mProgress: 100%|█████████████████████████████████████████| Time: 0:00:01\u001b[39m\n",
      "\u001b[32mProgress: 100%|█████████████████████████████████████████| Time: 0:00:01\u001b[39m\n",
      "\u001b[32mProgress: 100%|█████████████████████████████████████████| Time: 0:00:01\u001b[39m\n",
      "\u001b[32mProgress: 100%|█████████████████████████████████████████| Time: 0:00:01\u001b[39m\n",
      "\u001b[32mProgress: 100%|█████████████████████████████████████████| Time: 0:00:01\u001b[39m\n",
      "\u001b[32mProgress: 100%|█████████████████████████████████████████| Time: 0:00:01\u001b[39m\n",
      "\u001b[32mProgress: 100%|█████████████████████████████████████████| Time: 0:00:01\u001b[39m\n"
     ]
    },
    {
     "data": {
      "text/html": [
       "<div><div style = \"float: left;\"><span>168×6 DataFrame</span></div><div style = \"float: right;\"><span style = \"font-style: italic;\">143 rows omitted</span></div><div style = \"clear: both;\"></div></div><div class = \"data-frame\" style = \"overflow-x: scroll;\"><table class = \"data-frame\" style = \"margin-bottom: 6px;\"><thead><tr class = \"header\"><th class = \"rowNumber\" style = \"font-weight: bold; text-align: right;\">Row</th><th style = \"text-align: left;\">k</th><th style = \"text-align: left;\">cosine_distance</th><th style = \"text-align: left;\">js_divergence</th><th style = \"text-align: left;\">qv</th><th style = \"text-align: left;\">contig</th><th style = \"text-align: left;\">contig_length</th></tr><tr class = \"subheader headerLastRow\"><th class = \"rowNumber\" style = \"font-weight: bold; text-align: right;\"></th><th title = \"Int64\" style = \"text-align: left;\">Int64</th><th title = \"Float64\" style = \"text-align: left;\">Float64</th><th title = \"Float64\" style = \"text-align: left;\">Float64</th><th title = \"Float64\" style = \"text-align: left;\">Float64</th><th title = \"String\" style = \"text-align: left;\">String</th><th title = \"Int64\" style = \"text-align: left;\">Int64</th></tr></thead><tbody><tr><td class = \"rowNumber\" style = \"font-weight: bold; text-align: right;\">1</td><td style = \"text-align: right;\">11</td><td style = \"text-align: right;\">0.0</td><td style = \"text-align: right;\">0.0</td><td style = \"text-align: right;\">Inf</td><td style = \"text-align: left;\">1</td><td style = \"text-align: right;\">1403</td></tr><tr><td class = \"rowNumber\" style = \"font-weight: bold; text-align: right;\">2</td><td style = \"text-align: right;\">13</td><td style = \"text-align: right;\">0.0</td><td style = \"text-align: right;\">0.0</td><td style = \"text-align: right;\">Inf</td><td style = \"text-align: left;\">1</td><td style = \"text-align: right;\">1403</td></tr><tr><td class = \"rowNumber\" style = \"font-weight: bold; text-align: right;\">3</td><td style = \"text-align: right;\">17</td><td style = \"text-align: right;\">2.22045e-16</td><td style = \"text-align: right;\">0.0</td><td style = \"text-align: right;\">Inf</td><td style = \"text-align: left;\">1</td><td style = \"text-align: right;\">1403</td></tr><tr><td class = \"rowNumber\" style = \"font-weight: bold; text-align: right;\">4</td><td style = \"text-align: right;\">19</td><td style = \"text-align: right;\">2.22045e-16</td><td style = \"text-align: right;\">0.0</td><td style = \"text-align: right;\">Inf</td><td style = \"text-align: left;\">1</td><td style = \"text-align: right;\">1403</td></tr><tr><td class = \"rowNumber\" style = \"font-weight: bold; text-align: right;\">5</td><td style = \"text-align: right;\">23</td><td style = \"text-align: right;\">0.0</td><td style = \"text-align: right;\">0.0</td><td style = \"text-align: right;\">Inf</td><td style = \"text-align: left;\">1</td><td style = \"text-align: right;\">1403</td></tr><tr><td class = \"rowNumber\" style = \"font-weight: bold; text-align: right;\">6</td><td style = \"text-align: right;\">31</td><td style = \"text-align: right;\">0.0</td><td style = \"text-align: right;\">0.0</td><td style = \"text-align: right;\">Inf</td><td style = \"text-align: left;\">1</td><td style = \"text-align: right;\">1403</td></tr><tr><td class = \"rowNumber\" style = \"font-weight: bold; text-align: right;\">7</td><td style = \"text-align: right;\">53</td><td style = \"text-align: right;\">0.0</td><td style = \"text-align: right;\">0.0</td><td style = \"text-align: right;\">Inf</td><td style = \"text-align: left;\">1</td><td style = \"text-align: right;\">1403</td></tr><tr><td class = \"rowNumber\" style = \"font-weight: bold; text-align: right;\">8</td><td style = \"text-align: right;\">11</td><td style = \"text-align: right;\">0.0</td><td style = \"text-align: right;\">0.0</td><td style = \"text-align: right;\">Inf</td><td style = \"text-align: left;\">2</td><td style = \"text-align: right;\">1739</td></tr><tr><td class = \"rowNumber\" style = \"font-weight: bold; text-align: right;\">9</td><td style = \"text-align: right;\">13</td><td style = \"text-align: right;\">0.0</td><td style = \"text-align: right;\">0.0</td><td style = \"text-align: right;\">Inf</td><td style = \"text-align: left;\">2</td><td style = \"text-align: right;\">1739</td></tr><tr><td class = \"rowNumber\" style = \"font-weight: bold; text-align: right;\">10</td><td style = \"text-align: right;\">17</td><td style = \"text-align: right;\">2.22045e-16</td><td style = \"text-align: right;\">0.0</td><td style = \"text-align: right;\">Inf</td><td style = \"text-align: left;\">2</td><td style = \"text-align: right;\">1739</td></tr><tr><td class = \"rowNumber\" style = \"font-weight: bold; text-align: right;\">11</td><td style = \"text-align: right;\">19</td><td style = \"text-align: right;\">2.22045e-16</td><td style = \"text-align: right;\">0.0</td><td style = \"text-align: right;\">Inf</td><td style = \"text-align: left;\">2</td><td style = \"text-align: right;\">1739</td></tr><tr><td class = \"rowNumber\" style = \"font-weight: bold; text-align: right;\">12</td><td style = \"text-align: right;\">23</td><td style = \"text-align: right;\">0.0</td><td style = \"text-align: right;\">0.0</td><td style = \"text-align: right;\">Inf</td><td style = \"text-align: left;\">2</td><td style = \"text-align: right;\">1739</td></tr><tr><td class = \"rowNumber\" style = \"font-weight: bold; text-align: right;\">13</td><td style = \"text-align: right;\">31</td><td style = \"text-align: right;\">0.0</td><td style = \"text-align: right;\">0.0</td><td style = \"text-align: right;\">Inf</td><td style = \"text-align: left;\">2</td><td style = \"text-align: right;\">1739</td></tr><tr><td style = \"text-align: right;\">&vellip;</td><td style = \"text-align: right;\">&vellip;</td><td style = \"text-align: right;\">&vellip;</td><td style = \"text-align: right;\">&vellip;</td><td style = \"text-align: right;\">&vellip;</td><td style = \"text-align: right;\">&vellip;</td><td style = \"text-align: right;\">&vellip;</td></tr><tr><td class = \"rowNumber\" style = \"font-weight: bold; text-align: right;\">157</td><td style = \"text-align: right;\">17</td><td style = \"text-align: right;\">2.22045e-16</td><td style = \"text-align: right;\">0.0</td><td style = \"text-align: right;\">Inf</td><td style = \"text-align: left;\">23</td><td style = \"text-align: right;\">147</td></tr><tr><td class = \"rowNumber\" style = \"font-weight: bold; text-align: right;\">158</td><td style = \"text-align: right;\">19</td><td style = \"text-align: right;\">2.22045e-16</td><td style = \"text-align: right;\">0.0</td><td style = \"text-align: right;\">Inf</td><td style = \"text-align: left;\">23</td><td style = \"text-align: right;\">147</td></tr><tr><td class = \"rowNumber\" style = \"font-weight: bold; text-align: right;\">159</td><td style = \"text-align: right;\">23</td><td style = \"text-align: right;\">0.0</td><td style = \"text-align: right;\">0.0</td><td style = \"text-align: right;\">28.4984</td><td style = \"text-align: left;\">23</td><td style = \"text-align: right;\">147</td></tr><tr><td class = \"rowNumber\" style = \"font-weight: bold; text-align: right;\">160</td><td style = \"text-align: right;\">31</td><td style = \"text-align: right;\">0.0</td><td style = \"text-align: right;\">0.0</td><td style = \"text-align: right;\">24.9758</td><td style = \"text-align: left;\">23</td><td style = \"text-align: right;\">147</td></tr><tr><td class = \"rowNumber\" style = \"font-weight: bold; text-align: right;\">161</td><td style = \"text-align: right;\">53</td><td style = \"text-align: right;\">0.0</td><td style = \"text-align: right;\">0.0</td><td style = \"text-align: right;\">20.9586</td><td style = \"text-align: left;\">23</td><td style = \"text-align: right;\">147</td></tr><tr><td class = \"rowNumber\" style = \"font-weight: bold; text-align: right;\">162</td><td style = \"text-align: right;\">11</td><td style = \"text-align: right;\">0.0</td><td style = \"text-align: right;\">0.0</td><td style = \"text-align: right;\">Inf</td><td style = \"text-align: left;\">24</td><td style = \"text-align: right;\">140</td></tr><tr><td class = \"rowNumber\" style = \"font-weight: bold; text-align: right;\">163</td><td style = \"text-align: right;\">13</td><td style = \"text-align: right;\">0.0</td><td style = \"text-align: right;\">0.0</td><td style = \"text-align: right;\">Inf</td><td style = \"text-align: left;\">24</td><td style = \"text-align: right;\">140</td></tr><tr><td class = \"rowNumber\" style = \"font-weight: bold; text-align: right;\">164</td><td style = \"text-align: right;\">17</td><td style = \"text-align: right;\">2.22045e-16</td><td style = \"text-align: right;\">0.0</td><td style = \"text-align: right;\">Inf</td><td style = \"text-align: left;\">24</td><td style = \"text-align: right;\">140</td></tr><tr><td class = \"rowNumber\" style = \"font-weight: bold; text-align: right;\">165</td><td style = \"text-align: right;\">19</td><td style = \"text-align: right;\">2.22045e-16</td><td style = \"text-align: right;\">0.0</td><td style = \"text-align: right;\">Inf</td><td style = \"text-align: left;\">24</td><td style = \"text-align: right;\">140</td></tr><tr><td class = \"rowNumber\" style = \"font-weight: bold; text-align: right;\">166</td><td style = \"text-align: right;\">23</td><td style = \"text-align: right;\">0.0</td><td style = \"text-align: right;\">0.0</td><td style = \"text-align: right;\">Inf</td><td style = \"text-align: left;\">24</td><td style = \"text-align: right;\">140</td></tr><tr><td class = \"rowNumber\" style = \"font-weight: bold; text-align: right;\">167</td><td style = \"text-align: right;\">31</td><td style = \"text-align: right;\">0.0</td><td style = \"text-align: right;\">0.0</td><td style = \"text-align: right;\">Inf</td><td style = \"text-align: left;\">24</td><td style = \"text-align: right;\">140</td></tr><tr><td class = \"rowNumber\" style = \"font-weight: bold; text-align: right;\">168</td><td style = \"text-align: right;\">53</td><td style = \"text-align: right;\">0.0</td><td style = \"text-align: right;\">0.0</td><td style = \"text-align: right;\">Inf</td><td style = \"text-align: left;\">24</td><td style = \"text-align: right;\">140</td></tr></tbody></table></div>"
      ],
      "text/latex": [
       "\\begin{tabular}{r|cccccc}\n",
       "\t& k & cosine\\_distance & js\\_divergence & qv & contig & contig\\_length\\\\\n",
       "\t\\hline\n",
       "\t& Int64 & Float64 & Float64 & Float64 & String & Int64\\\\\n",
       "\t\\hline\n",
       "\t1 & 11 & 0.0 & 0.0 & Inf & 1 & 1403 \\\\\n",
       "\t2 & 13 & 0.0 & 0.0 & Inf & 1 & 1403 \\\\\n",
       "\t3 & 17 & 2.22045e-16 & 0.0 & Inf & 1 & 1403 \\\\\n",
       "\t4 & 19 & 2.22045e-16 & 0.0 & Inf & 1 & 1403 \\\\\n",
       "\t5 & 23 & 0.0 & 0.0 & Inf & 1 & 1403 \\\\\n",
       "\t6 & 31 & 0.0 & 0.0 & Inf & 1 & 1403 \\\\\n",
       "\t7 & 53 & 0.0 & 0.0 & Inf & 1 & 1403 \\\\\n",
       "\t8 & 11 & 0.0 & 0.0 & Inf & 2 & 1739 \\\\\n",
       "\t9 & 13 & 0.0 & 0.0 & Inf & 2 & 1739 \\\\\n",
       "\t10 & 17 & 2.22045e-16 & 0.0 & Inf & 2 & 1739 \\\\\n",
       "\t11 & 19 & 2.22045e-16 & 0.0 & Inf & 2 & 1739 \\\\\n",
       "\t12 & 23 & 0.0 & 0.0 & Inf & 2 & 1739 \\\\\n",
       "\t13 & 31 & 0.0 & 0.0 & Inf & 2 & 1739 \\\\\n",
       "\t14 & 53 & 0.0 & 0.0 & Inf & 2 & 1739 \\\\\n",
       "\t15 & 11 & 0.0 & 0.0 & Inf & 3 & 267 \\\\\n",
       "\t16 & 13 & 0.0 & 0.0 & Inf & 3 & 267 \\\\\n",
       "\t17 & 17 & 2.22045e-16 & 0.0 & Inf & 3 & 267 \\\\\n",
       "\t18 & 19 & 2.22045e-16 & 0.0 & Inf & 3 & 267 \\\\\n",
       "\t19 & 23 & 0.0 & 0.0 & Inf & 3 & 267 \\\\\n",
       "\t20 & 31 & 0.0 & 0.0 & Inf & 3 & 267 \\\\\n",
       "\t21 & 53 & 0.0 & 0.0 & Inf & 3 & 267 \\\\\n",
       "\t22 & 11 & 0.0 & 0.0 & Inf & 4 & 359 \\\\\n",
       "\t23 & 13 & 0.0 & 0.0 & Inf & 4 & 359 \\\\\n",
       "\t24 & 17 & 2.22045e-16 & 0.0 & Inf & 4 & 359 \\\\\n",
       "\t25 & 19 & 2.22045e-16 & 0.0 & Inf & 4 & 359 \\\\\n",
       "\t26 & 23 & 0.0 & 0.0 & Inf & 4 & 359 \\\\\n",
       "\t27 & 31 & 0.0 & 0.0 & Inf & 4 & 359 \\\\\n",
       "\t28 & 53 & 0.0 & 0.0 & Inf & 4 & 359 \\\\\n",
       "\t29 & 11 & 0.0 & 0.0 & Inf & 5 & 150 \\\\\n",
       "\t30 & 13 & 0.0 & 0.0 & Inf & 5 & 150 \\\\\n",
       "\t$\\dots$ & $\\dots$ & $\\dots$ & $\\dots$ & $\\dots$ & $\\dots$ & $\\dots$ \\\\\n",
       "\\end{tabular}\n"
      ],
      "text/plain": [
       "\u001b[1m168×6 DataFrame\u001b[0m\n",
       "\u001b[1m Row \u001b[0m│\u001b[1m k     \u001b[0m\u001b[1m cosine_distance \u001b[0m\u001b[1m js_divergence \u001b[0m\u001b[1m qv       \u001b[0m\u001b[1m contig \u001b[0m\u001b[1m contig_length \u001b[0m\n",
       "     │\u001b[90m Int64 \u001b[0m\u001b[90m Float64         \u001b[0m\u001b[90m Float64       \u001b[0m\u001b[90m Float64  \u001b[0m\u001b[90m String \u001b[0m\u001b[90m Int64         \u001b[0m\n",
       "─────┼────────────────────────────────────────────────────────────────────────\n",
       "   1 │    11      0.0                    0.0  Inf       1                1403\n",
       "   2 │    13      0.0                    0.0  Inf       1                1403\n",
       "   3 │    17      2.22045e-16            0.0  Inf       1                1403\n",
       "   4 │    19      2.22045e-16            0.0  Inf       1                1403\n",
       "   5 │    23      0.0                    0.0  Inf       1                1403\n",
       "   6 │    31      0.0                    0.0  Inf       1                1403\n",
       "   7 │    53      0.0                    0.0  Inf       1                1403\n",
       "   8 │    11      0.0                    0.0  Inf       2                1739\n",
       "   9 │    13      0.0                    0.0  Inf       2                1739\n",
       "  10 │    17      2.22045e-16            0.0  Inf       2                1739\n",
       "  11 │    19      2.22045e-16            0.0  Inf       2                1739\n",
       "  ⋮  │   ⋮           ⋮               ⋮           ⋮        ⋮           ⋮\n",
       " 159 │    23      0.0                    0.0   28.4984  23                147\n",
       " 160 │    31      0.0                    0.0   24.9758  23                147\n",
       " 161 │    53      0.0                    0.0   20.9586  23                147\n",
       " 162 │    11      0.0                    0.0  Inf       24                140\n",
       " 163 │    13      0.0                    0.0  Inf       24                140\n",
       " 164 │    17      2.22045e-16            0.0  Inf       24                140\n",
       " 165 │    19      2.22045e-16            0.0  Inf       24                140\n",
       " 166 │    23      0.0                    0.0  Inf       24                140\n",
       " 167 │    31      0.0                    0.0  Inf       24                140\n",
       " 168 │    53      0.0                    0.0  Inf       24                140\n",
       "\u001b[36m                                                              147 rows omitted\u001b[0m"
      ]
     },
     "execution_count": 23,
     "metadata": {},
     "output_type": "execute_result"
    }
   ],
   "source": [
    "assembled_contig_quality_table = DataFrames.DataFrame()\n",
    "for (i, connected_component_sequence) in enumerate(connected_component_sequences)\n",
    "    this_table = Mycelia.assess_assembly_quality(assembled_sequence=connected_component_sequence, fastq=original_fastq)\n",
    "    this_table[!, \"contig\"] .= \"$(i)\"\n",
    "    this_table[!, \"contig_length\"] .= length(connected_component_sequence)\n",
    "    append!(assembled_contig_quality_table, this_table)\n",
    "end\n",
    "assembled_contig_quality_table"
   ]
  },
  {
   "cell_type": "code",
   "execution_count": 24,
   "id": "0ef7a17d-111a-4c6b-a62d-84447777f7fc",
   "metadata": {
    "tags": []
   },
   "outputs": [
    {
     "data": {
      "text/plain": [
       "consensus_sequence"
      ]
     },
     "execution_count": 24,
     "metadata": {},
     "output_type": "execute_result"
    }
   ],
   "source": [
    "function find_canonical_kmer_overlaps(sequences, k)\n",
    "    sequence_canonical_kmers = keys.(Mycelia.count_canonical_kmers.(Kmers.DNAKmer{k}, sequences))\n",
    "    canonical_kmer_intersect_sizes = zeros(length(sequence_canonical_kmers), length(sequence_canonical_kmers))\n",
    "    for (a, aset) in enumerate(sequence_canonical_kmers)\n",
    "        for (b, bset) in enumerate(sequence_canonical_kmers)\n",
    "            canonical_kmer_intersect_sizes[a, b] = length(intersect(aset, bset))\n",
    "        end\n",
    "    end\n",
    "    canonical_kmer_intersect_sizes\n",
    "end\n",
    "\n",
    "function find_best_kmer_intersect(canonical_kmer_intersect_sizes)\n",
    "    off_diagonal_mask = .!Matrix(LinearAlgebra.I, size(canonical_kmer_intersect_sizes))\n",
    "    max_off_diagonal_score = maximum(canonical_kmer_intersect_sizes[off_diagonal_mask])\n",
    "    @assert max_off_diagonal_score > 0\n",
    "    return findfirst(canonical_kmer_intersect_sizes .== max_off_diagonal_score)\n",
    "end\n",
    "\n",
    "function dna_pair_align(seq1, seq2, scoremodel = BioAlignments.AffineGapScoreModel(BioAlignments.EDNAFULL, gap_open=-5, gap_extend=-1))\n",
    "    BioAlignments.pairalign(BioAlignments.OverlapAlignment(), seq1, seq2, scoremodel)\n",
    "end\n",
    "\n",
    "function find_best_alignment(seq1, seq2, scoremodel = BioAlignments.AffineGapScoreModel(BioAlignments.EDNAFULL, gap_open=-5, gap_extend=-1))\n",
    "    forward_alignment = dna_pair_align(seq1, seq2, scoremodel)\n",
    "    reverse_complement_alignment = dna_pair_align(seq1, BioSequences.reverse_complement(seq2), scoremodel)\n",
    "    if BioAlignments.score(forward_alignment) > BioAlignments.score(reverse_complement_alignment)\n",
    "        best_alignment = forward_alignment\n",
    "    else\n",
    "        best_alignment = reverse_complement_alignment\n",
    "    end\n",
    "    return best_alignment\n",
    "end\n",
    "\n",
    "function pairwise_align_sequences(sequences)\n",
    "    best_pairwise_alignments = Array{Any}(undef, length(sequences), length(sequences))\n",
    "    ProgressMeter.@showprogress for (a, a_seq) in enumerate(sequences)\n",
    "        for (b, b_seq) in enumerate(sequences)\n",
    "            best_pairwise_alignments[a, b] = find_best_alignment(a_seq, b_seq)\n",
    "        end\n",
    "    end\n",
    "    best_pairwise_alignments\n",
    "end\n",
    "\n",
    "function find_best_alignment(best_pairwise_alignments)\n",
    "    alignment_scores = BioAlignments.score.(best_pairwise_alignments)\n",
    "    off_diagonal_mask = .!Matrix(LinearAlgebra.I, size(best_pairwise_alignments))\n",
    "    max_off_diagonal_score = maximum(alignment_scores[off_diagonal_mask])\n",
    "    return findfirst(alignment_scores .== max_off_diagonal_score)\n",
    "end\n",
    "\n",
    "\"\"\"\n",
    "pass in alignment_result.aln or BioAlignments.alignment(alignment_result)\n",
    "\"\"\"\n",
    "function consensus_sequence(alignment)\n",
    "    consensus_symbols = BioSymbols.DNA[]\n",
    "    for alignment_tuple in collect(alignment)\n",
    "        push!(consensus_symbols, rand(filter(x -> x != BioSymbols.DNA_Gap, alignment_tuple)))\n",
    "    end\n",
    "    consensus_seq = BioSequences.LongDNA{2}(consensus_symbols)\n",
    "    return consensus_seq\n",
    "end"
   ]
  },
  {
   "cell_type": "code",
   "execution_count": 25,
   "id": "e6a318bb-348f-484d-8ddf-8524582ff01b",
   "metadata": {
    "tags": []
   },
   "outputs": [
    {
     "data": {
      "text/plain": [
       "24-element Vector{BioSequences.LongSequence{BioSequences.DNAAlphabet{2}}}:\n",
       " TTATTAGCCACGAGCCCTTTTAGAAATTCATTTTAGTTC…AACCCGAGTACTAGGTCATAAGGGAAGTATCAAGGCTGC\n",
       " TTAGTCCTGAGTGCACTAAATAATTAACAGCTTCCTTTG…GGTGGCTGGCGGCGTTGTCTTTAAAAACACTGCACTGCT\n",
       " TCACCGCGTTAGTCGCCTTTGGGAGCTATCCGAGTGCTT…GGGGTAAAGCAGTGCAGTGTTTTTAAAGACAACGCCGCC\n",
       " TTACTTTCGTTCCTTCAAGCATAGGAGTCACGTTTCCAG…AAACGGCGCGGGAGCTCTTAGCGGAAATCGTTATTACGC\n",
       " GACAGCTCTCTGGGGATGAGCGCAGTGTGCTCTATAAGT…ACTTCCCTTATGACCTAGTACTCGGGTTTCTTAAATATT\n",
       " CGCTGCCGTCTAGGCTCCAAACGTCATCTACCCATAAAC…CGAAGGTCCTGAGATAGCTCTCACGAATCCTCTAGAGTG\n",
       " GCTGCCGTCTAGGCTCCAAACGTCATCTACCCATAAACG…GAAGGTCCTGAGATAGCTCTCACGAATCCTCTAGAGTGG\n",
       " CGCTGCCGTCTAGTCTCCAAACGTCATCTACCCATAAAC…CGAAGGTCCTGAGATAGCTCTCACGAATCCTCTAGAGTG\n",
       " TCTGCCGTTCGGCCCTAGGTTTCCTCCAACCGCTGCCGT…GCAGTACGCCCTCGAGCCAAAAACACCACTCGAAGGTCC\n",
       " CTCTCCCAGTTGTGGTGTTTACGGTCAGTAGACAACTCG…TAGGCGCCTTTGGGAGCTATCCGAGTGCTTGCAAGGCCG\n",
       " GTCAGTAGACAACTCGGATGTCACAAACTCGCTAAATTA…AGTGCTTGCAAGGCCGTTCTGCCGTTCGGCCCTAGGTTT\n",
       " GTTGTGGTGTTTACGGTCAGTAGACAACTCGGATGTCAC…TTTGGGAGCTATCCGAGTGCTTGCAAGGCCGTTCTGCCG\n",
       " CCGGGTGATTAAAGCGGAGCATGCCGGAGATTCCCACTT…AGATTGCACGTCAAATACTACAACTGTGCACTAAATTCG\n",
       " GTCACGTTTCCAGTGGCTTGTGAAAGTTCCGCGGCAGCG…CTGGGAGCCCCAAGATTGCCAATGCGAGAGGTTATTACC\n",
       " TTAGTGGTAACCGTGGTACCCAGAAGAGAGAGCTAGTTC…AAGTATAGCGTTAAAATTGAACGATAAAAAACGGCGCGG\n",
       " TATTACCAGGCATTAGTGGTAACCGTGGTACCCAGAAGA…CAGTGTGCTCTATAAGTATAGCGTTGAAATTGAACGATA\n",
       " TTACCAGGCATTAGTGGTAACCGTGGTACCCAGAAGAGA…GTGTGCTCTATAAGTATAGCGTTAAAATTGAACGATAAA\n",
       " AGGATCCTCTGGACCGGCGCTGGACTCACGATACTGGGA…TAGTTCGCCTACGAGTCTTGCTCGATCGGTCGCCGTTTC\n",
       " ACTCCTCTCCCAGTTGTGGTGTTTACGGTCAGTAGACAA…CCGCGTTAGGCGCCTTTGGGAGCTATCCGAGTGCTTGCA\n",
       " CCGCGTTAGGCGCCTTTGGGAGCTATCCGAGTGCTTGCG…ATAAACGGGTCTAATCGTTTCTACTCGATACATTTATAC\n",
       " AACCGCTGCCGTCTAGGCTCCAAACGTCATCTACCCATA…ACCACTCGAAGGTCCTGAGATAGCTCTCACGAATCCTCT\n",
       " GCATAGGAGTCACGTTTCCAGTGGCTTGTGAAAGTTCCG…GACTCACGATACTGGGAGCCCCAAGATTGCCAATGCGAG\n",
       " CAATCTTCAAGCCACACCCACACAGACGGTGGACCCGAG…CGACGATCAAGGGAACAGAACCTGTCTCTATTTGAGGTT\n",
       " AATCACGGGGTGTGGGGAAGATGTCGCGCCATTGCGTCC…CCTATTAGCTTCCAGTGTCTAGCCATCCGCAATATTTCT"
      ]
     },
     "execution_count": 25,
     "metadata": {},
     "output_type": "execute_result"
    },
    {
     "ename": "KeyError",
     "evalue": "KeyError: key \"usage_request\" not found",
     "output_type": "error",
     "traceback": [
      "KERNEL EXCEPTION",
      "KeyError: key \"usage_request\" not found",
      "",
      "Stacktrace:",
      " [1] getindex(h::Dict{String, Function}, key::String)",
      "   @ Base ./dict.jl:498",
      " [2] eventloop(socket::ZMQ.Socket)",
      "   @ IJulia ~/.julia/packages/IJulia/Vo51o/src/eventloop.jl:8",
      " [3] (::IJulia.var\"#14#17\")()",
      "   @ IJulia ~/.julia/packages/IJulia/Vo51o/src/eventloop.jl:37"
     ]
    }
   ],
   "source": [
    "assembly_sequences = deepcopy(connected_component_sequences)"
   ]
  },
  {
   "cell_type": "code",
   "execution_count": 26,
   "id": "9a9203c5-2ae4-47ba-8435-a3f83e2d5685",
   "metadata": {
    "tags": []
   },
   "outputs": [
    {
     "ename": "LoadError",
     "evalue": "AssertionError: max_off_diagonal_score > 0",
     "output_type": "error",
     "traceback": [
      "AssertionError: max_off_diagonal_score > 0",
      "",
      "Stacktrace:",
      " [1] find_best_kmer_intersect(canonical_kmer_intersect_sizes::Matrix{Float64})",
      "   @ Main ./In[24]:15",
      " [2] top-level scope",
      "   @ In[26]:2"
     ]
    }
   ],
   "source": [
    "canonical_kmer_intersect_sizes = find_canonical_kmer_overlaps(assembly_sequences, assembly_k)\n",
    "max_canonical_kmer_intersect_index = find_best_kmer_intersect(canonical_kmer_intersect_sizes)\n",
    "best_alignment = find_best_alignment(assembly_sequences[[Tuple(max_canonical_kmer_intersect_index)...]]..., BioAlignments.AffineGapScoreModel(BioAlignments.EDNAFULL, gap_open=-5, gap_extend=-2))"
   ]
  },
  {
   "cell_type": "code",
   "execution_count": 27,
   "id": "ea423941-2c44-48e0-b22a-db4d9002ac17",
   "metadata": {
    "tags": []
   },
   "outputs": [],
   "source": [
    "# alignment_consensus = consensus_sequence(BioAlignments.alignment(best_alignment))\n",
    "# assembly_sequences = [alignment_consensus, [assembly_sequence for (i, assembly_sequence) in enumerate(assembly_sequences) if !(i in Tuple(max_canonical_kmer_intersect_index))]...]\n",
    "# canonical_kmer_intersect_sizes = find_canonical_kmer_overlaps(assembly_sequences, assembly_k)\n",
    "# max_canonical_kmer_intersect_index = find_best_kmer_intersect(canonical_kmer_intersect_sizes)\n",
    "# best_alignment = find_best_alignment(assembly_sequences[[Tuple(max_canonical_kmer_intersect_index)...]]..., BioAlignments.AffineGapScoreModel(BioAlignments.EDNAFULL, gap_open=-5, gap_extend=-2))"
   ]
  },
  {
   "cell_type": "code",
   "execution_count": 28,
   "id": "5fc3f913-932e-48c2-a3db-e44bb8d60adc",
   "metadata": {
    "tags": []
   },
   "outputs": [],
   "source": [
    "# alignment_consensus = consensus_sequence(BioAlignments.alignment(best_alignment))"
   ]
  },
  {
   "cell_type": "code",
   "execution_count": 30,
   "id": "c1187140-296b-4492-830f-22e756f41992",
   "metadata": {
    "tags": []
   },
   "outputs": [
    {
     "data": {
      "text/plain": [
       "24-element Vector{BioSequences.LongSequence{BioSequences.DNAAlphabet{2}}}:\n",
       " TTATTAGCCACGAGCCCTTTTAGAAATTCATTTTAGTTC…AACCCGAGTACTAGGTCATAAGGGAAGTATCAAGGCTGC\n",
       " TTAGTCCTGAGTGCACTAAATAATTAACAGCTTCCTTTG…GGTGGCTGGCGGCGTTGTCTTTAAAAACACTGCACTGCT\n",
       " TCACCGCGTTAGTCGCCTTTGGGAGCTATCCGAGTGCTT…GGGGTAAAGCAGTGCAGTGTTTTTAAAGACAACGCCGCC\n",
       " TTACTTTCGTTCCTTCAAGCATAGGAGTCACGTTTCCAG…AAACGGCGCGGGAGCTCTTAGCGGAAATCGTTATTACGC\n",
       " GACAGCTCTCTGGGGATGAGCGCAGTGTGCTCTATAAGT…ACTTCCCTTATGACCTAGTACTCGGGTTTCTTAAATATT\n",
       " CGCTGCCGTCTAGGCTCCAAACGTCATCTACCCATAAAC…CGAAGGTCCTGAGATAGCTCTCACGAATCCTCTAGAGTG\n",
       " GCTGCCGTCTAGGCTCCAAACGTCATCTACCCATAAACG…GAAGGTCCTGAGATAGCTCTCACGAATCCTCTAGAGTGG\n",
       " CGCTGCCGTCTAGTCTCCAAACGTCATCTACCCATAAAC…CGAAGGTCCTGAGATAGCTCTCACGAATCCTCTAGAGTG\n",
       " TCTGCCGTTCGGCCCTAGGTTTCCTCCAACCGCTGCCGT…GCAGTACGCCCTCGAGCCAAAAACACCACTCGAAGGTCC\n",
       " CTCTCCCAGTTGTGGTGTTTACGGTCAGTAGACAACTCG…TAGGCGCCTTTGGGAGCTATCCGAGTGCTTGCAAGGCCG\n",
       " GTCAGTAGACAACTCGGATGTCACAAACTCGCTAAATTA…AGTGCTTGCAAGGCCGTTCTGCCGTTCGGCCCTAGGTTT\n",
       " GTTGTGGTGTTTACGGTCAGTAGACAACTCGGATGTCAC…TTTGGGAGCTATCCGAGTGCTTGCAAGGCCGTTCTGCCG\n",
       " CCGGGTGATTAAAGCGGAGCATGCCGGAGATTCCCACTT…AGATTGCACGTCAAATACTACAACTGTGCACTAAATTCG\n",
       " GTCACGTTTCCAGTGGCTTGTGAAAGTTCCGCGGCAGCG…CTGGGAGCCCCAAGATTGCCAATGCGAGAGGTTATTACC\n",
       " TTAGTGGTAACCGTGGTACCCAGAAGAGAGAGCTAGTTC…AAGTATAGCGTTAAAATTGAACGATAAAAAACGGCGCGG\n",
       " TATTACCAGGCATTAGTGGTAACCGTGGTACCCAGAAGA…CAGTGTGCTCTATAAGTATAGCGTTGAAATTGAACGATA\n",
       " TTACCAGGCATTAGTGGTAACCGTGGTACCCAGAAGAGA…GTGTGCTCTATAAGTATAGCGTTAAAATTGAACGATAAA\n",
       " AGGATCCTCTGGACCGGCGCTGGACTCACGATACTGGGA…TAGTTCGCCTACGAGTCTTGCTCGATCGGTCGCCGTTTC\n",
       " ACTCCTCTCCCAGTTGTGGTGTTTACGGTCAGTAGACAA…CCGCGTTAGGCGCCTTTGGGAGCTATCCGAGTGCTTGCA\n",
       " CCGCGTTAGGCGCCTTTGGGAGCTATCCGAGTGCTTGCG…ATAAACGGGTCTAATCGTTTCTACTCGATACATTTATAC\n",
       " AACCGCTGCCGTCTAGGCTCCAAACGTCATCTACCCATA…ACCACTCGAAGGTCCTGAGATAGCTCTCACGAATCCTCT\n",
       " GCATAGGAGTCACGTTTCCAGTGGCTTGTGAAAGTTCCG…GACTCACGATACTGGGAGCCCCAAGATTGCCAATGCGAG\n",
       " CAATCTTCAAGCCACACCCACACAGACGGTGGACCCGAG…CGACGATCAAGGGAACAGAACCTGTCTCTATTTGAGGTT\n",
       " AATCACGGGGTGTGGGGAAGATGTCGCGCCATTGCGTCC…CCTATTAGCTTCCAGTGTCTAGCCATCCGCAATATTTCT"
      ]
     },
     "execution_count": 30,
     "metadata": {},
     "output_type": "execute_result"
    }
   ],
   "source": [
    "final_assembly_sequences = assembly_sequences"
   ]
  },
  {
   "cell_type": "code",
   "execution_count": 31,
   "id": "8302d7e4-04da-42ff-98d2-1a2ad2bc8a53",
   "metadata": {
    "tags": []
   },
   "outputs": [
    {
     "data": {
      "text/plain": [
       "6742"
      ]
     },
     "execution_count": 31,
     "metadata": {},
     "output_type": "execute_result"
    }
   ],
   "source": [
    "sum(length.(final_assembly_sequences))"
   ]
  },
  {
   "cell_type": "code",
   "execution_count": 32,
   "id": "a0d73794-076a-4d4f-95c8-7fb26f93ea96",
   "metadata": {
    "tags": []
   },
   "outputs": [
    {
     "data": {
      "text/plain": [
       "\"/global/cfs/cdirs/m4269/cjprybol/Mycelia/projects/variant-calling-benchmarking/data/genomes/3NEzu1DmBy.fna.normalized.vcf.fna.art.100x.joint.k11.k13.k17.k19.k23.k31.k53.k89.assembly_k89.fna\""
      ]
     },
     "execution_count": 32,
     "metadata": {},
     "output_type": "execute_result"
    }
   ],
   "source": [
    "assembly_fasta = replace(assembly_fastq, Mycelia.FASTQ_REGEX => \".assembly_k$(assembly_k).fna\")\n",
    "open(assembly_fasta, \"w\") do io\n",
    "    fastx_io = FASTX.FASTA.Writer(io)\n",
    "    for (i, sequence) in enumerate(final_assembly_sequences)\n",
    "        identifier = \"contig$(i)_length=$(length(sequence))\"\n",
    "        fasta_record = FASTX.FASTA.Record(identifier, sequence)\n",
    "        write(fastx_io, fasta_record)\n",
    "    end\n",
    "    close(fastx_io)\n",
    "end\n",
    "assembly_fasta"
   ]
  }
 ],
 "metadata": {
  "kernelspec": {
   "display_name": "Julia 1.10.2",
   "language": "julia",
   "name": "julia-1.10"
  },
  "language_info": {
   "file_extension": ".jl",
   "mimetype": "application/julia",
   "name": "julia",
   "version": "1.10.2"
  }
 },
 "nbformat": 4,
 "nbformat_minor": 5
}
