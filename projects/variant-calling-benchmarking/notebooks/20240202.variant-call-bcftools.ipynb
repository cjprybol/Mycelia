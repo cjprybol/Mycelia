{
 "cells": [
  {
   "cell_type": "code",
   "execution_count": null,
   "id": "335bf35f-c55e-4857-83f0-ed03dc666f4e",
   "metadata": {
    "tags": []
   },
   "outputs": [],
   "source": [
    "# if hit plotting library issues, try resetting LD path for julia\n",
    "# can set in ~/.local/share/jupyter/kernels/\n",
    "# @assert ENV[\"LD_LIBRARY_PATH\"] == \"\"\n",
    "import Pkg\n",
    "pkgs = [\n",
    "    \"Revise\",\n",
    "    # \"FASTX\",\n",
    "    # \"StatsBase\",\n",
    "    # \"Distributions\",\n",
    "    # \"StatsPlots\",\n",
    "    # \"Random\",\n",
    "    # \"Dates\",\n",
    "    # \"DataFrames\",\n",
    "    # \"BioSequences\",\n",
    "    # \"Conda\",\n",
    "    # \"Downloads\"\n",
    "]\n",
    "# Pkg.add(pkgs)\n",
    "for pkg in pkgs\n",
    "    eval(Meta.parse(\"import $pkg\"))\n",
    "end\n",
    "# Pkg.develop(path=\"/global/cfs/projectdirs/m4269/cjprybol/Mycelia\")\n",
    "# Pkg.develop(path=\"../../..\")\n",
    "import Mycelia"
   ]
  },
  {
   "cell_type": "code",
   "execution_count": null,
   "id": "128cc1e1-929a-42e1-8376-4c81832fd40c",
   "metadata": {
    "tags": []
   },
   "outputs": [],
   "source": [
    "PROJECT_BASEDIR = dirname(pwd())\n",
    "data_dir = joinpath(PROJECT_BASEDIR, \"data\")\n",
    "genome_dir = mkpath(joinpath(data_dir, \"genomes\"))"
   ]
  },
  {
   "cell_type": "code",
   "execution_count": null,
   "id": "ed286651-361d-432f-9fc6-0e1fbe29ff07",
   "metadata": {
    "tags": []
   },
   "outputs": [],
   "source": [
    "bams = sort(filter(x -> occursin(r\"\\.sorted\\.bam$\", x), readdir(genome_dir, join=true)), by=x->filesize(x))"
   ]
  },
  {
   "cell_type": "code",
   "execution_count": null,
   "id": "3625e22e-bee9-45d1-8dc9-7f230454ca2f",
   "metadata": {
    "tags": []
   },
   "outputs": [],
   "source": [
    "# run(`$(Mycelia.MAMBA) run --live-stream -n bcftools bcftools mpileup`)"
   ]
  },
  {
   "cell_type": "code",
   "execution_count": null,
   "id": "17a06f10-f6eb-409a-aa09-112c275f891c",
   "metadata": {},
   "outputs": [],
   "source": [
    "run(`$(Mycelia.MAMBA) run --live-stream -n bcftools bcftools mpileup -h`)"
   ]
  },
  {
   "cell_type": "code",
   "execution_count": null,
   "id": "0fafd877-021d-463c-8819-293452e41bec",
   "metadata": {
    "tags": []
   },
   "outputs": [],
   "source": [
    "bam = first(bams)\n",
    "fasta_reference = replace(bam, r\"\\.normalized\\.vcf\\.fna.*\" => \"\")\n",
    "outfile = bam * \".bcftools.vcf\""
   ]
  },
  {
   "cell_type": "code",
   "execution_count": null,
   "id": "a886d663-70fa-48bd-a05a-0c1e83a54a9b",
   "metadata": {
    "tags": []
   },
   "outputs": [],
   "source": [
    "run(`$(Mycelia.MAMBA) run --live-stream -n bcftools bcftools call -h`)"
   ]
  },
  {
   "cell_type": "code",
   "execution_count": null,
   "id": "16d1a6ca-9760-4be5-8aff-5f3d9d58aadb",
   "metadata": {
    "tags": []
   },
   "outputs": [],
   "source": [
    "threads = 1\n",
    "for bam in bams[2:end]\n",
    "    outfile = bam * \".bcftools.vcf\"\n",
    "    fasta_reference = replace(bam, r\"\\.normalized\\.vcf\\.fna.*\" => \"\")\n",
    "    if !isfile(outfile) || (filesize(outfile) == 0)\n",
    "        @info \"$(outfile) not present, generating...\"        \n",
    "        cmd = \n",
    "        \"\"\"\n",
    "        $(Mycelia.MAMBA) run --live-stream -n bcftools bcftools mpileup --threads $(threads) --output-type u --fasta-ref $(fasta_reference) $(bam) \\\\\n",
    "        | $(Mycelia.MAMBA) run --live-stream -n bcftools bcftools call --threads $(threads) --multiallelic-caller --variants-only --output-type v --output $(outfile)\n",
    "        \"\"\"\n",
    "        Mycelia.nersc_sbatch(\n",
    "            job_name = \"$(basename(outfile))\",\n",
    "            mail_user = \"cameron.prybol@gmail.com\",\n",
    "            logdir = mkpath(\"$(homedir())/workspace/slurmlogs\"),\n",
    "            qos = \"shared\",\n",
    "            cpus_per_task= threads,\n",
    "            cmd = cmd)\n",
    "    else\n",
    "        @info \"$(outfile) already present...\"\n",
    "    end\n",
    "end"
   ]
  }
 ],
 "metadata": {
  "kernelspec": {
   "display_name": "Julia 1.6.7",
   "language": "julia",
   "name": "julia-1.6"
  },
  "language_info": {
   "file_extension": ".jl",
   "mimetype": "application/julia",
   "name": "julia",
   "version": "1.6.7"
  }
 },
 "nbformat": 4,
 "nbformat_minor": 5
}
