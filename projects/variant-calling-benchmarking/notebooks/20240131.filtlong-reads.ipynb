{
 "cells": [
  {
   "cell_type": "code",
   "execution_count": null,
   "id": "335bf35f-c55e-4857-83f0-ed03dc666f4e",
   "metadata": {
    "tags": []
   },
   "outputs": [],
   "source": [
    "# if hit plotting library issues, try resetting LD path for julia\n",
    "# can set in ~/.local/share/jupyter/kernels/\n",
    "# @assert ENV[\"LD_LIBRARY_PATH\"] == \"\"\n",
    "import Pkg\n",
    "pkgs = [\n",
    "    \"Revise\",\n",
    "]\n",
    "# Pkg.add(pkgs)\n",
    "for pkg in pkgs\n",
    "    eval(Meta.parse(\"import $pkg\"))\n",
    "end\n",
    "# Pkg.develop(path=\"/global/cfs/projectdirs/m4269/cjprybol/Mycelia\")\n",
    "# Pkg.develop(path=\"../../..\")\n",
    "import Mycelia"
   ]
  },
  {
   "cell_type": "code",
   "execution_count": null,
   "id": "128cc1e1-929a-42e1-8376-4c81832fd40c",
   "metadata": {
    "tags": []
   },
   "outputs": [],
   "source": [
    "PROJECT_BASEDIR = dirname(pwd())\n",
    "data_dir = joinpath(PROJECT_BASEDIR, \"data\")\n",
    "genome_dir = mkpath(joinpath(data_dir, \"genomes\"))"
   ]
  },
  {
   "cell_type": "code",
   "execution_count": null,
   "id": "0f01fc13-bfd2-4627-a2b9-6ab15fd95f64",
   "metadata": {
    "tags": []
   },
   "outputs": [],
   "source": [
    "long_reads = sort(filter(x -> occursin(r\"\\.fna\\.badread\", x) && !occursin(\"filtlong\", x), readdir(genome_dir, join=true)), by=x->filesize(x))\n",
    "fasta_files = sort(filter(x -> occursin(r\"\\.fna$\", x) && !occursin(\".vcf\", x) && !occursin(\"normalized\", x), readdir(genome_dir, join=true)), by=x->filesize(x))\n",
    "# done through 3\n",
    "# filtered_long_reads = filter(x -> occursin(fasta_files[6], x), long_reads)"
   ]
  },
  {
   "cell_type": "code",
   "execution_count": null,
   "id": "67e92404-e8ec-41cd-a4e3-864cde7355a8",
   "metadata": {
    "tags": []
   },
   "outputs": [],
   "source": [
    "threads = 1\n",
    "memory = 2\n",
    "# need to run on 1000x from \n",
    "for in_fastq in long_reads\n",
    "    out_fastq = replace(in_fastq, \".fq.gz\" => \".filtlong.fq.gz\")\n",
    "    if !isfile(out_fastq)\n",
    "        # --min_length 1000\n",
    "        # removed from small genome simulation filterings\n",
    "        cmd = \n",
    "        \"\"\"\n",
    "        $(Mycelia.MAMBA) run --live-stream -n filtlong filtlong --min_mean_q 10 --keep_percent 90 $(in_fastq) | gzip > $(out_fastq)\n",
    "        \"\"\"\n",
    "        # Mycelia.scg_sbatch(\n",
    "        #     job_name = \"$(basename(out_fastq))\",\n",
    "        #     mail_user = \"cameron.prybol@gmail.com\",\n",
    "        #     logdir = mkpath(\"$(homedir())/workspace/slurmlogs\"),\n",
    "        #     partition = \"batch\",\n",
    "        #     account = \"mpsnyder\",\n",
    "        #     mem_gb = memory,\n",
    "        #     cpus_per_task= threads,\n",
    "        #     cmd = cmd)\n",
    "    Mycelia.nersc_sbatch(\n",
    "        job_name = \"$(basename(out_fastq))\",\n",
    "        mail_user = \"cameron.prybol@gmail.com\",\n",
    "        logdir = mkpath(\"$(homedir())/workspace/slurmlogs\"),\n",
    "        qos = \"shared\",\n",
    "        mem_gb = memory,\n",
    "        cpus_per_task = threads,\n",
    "        cmd = cmd)\n",
    "    else\n",
    "        @info \"$(out_fastq) already present\"\n",
    "    end\n",
    "end"
   ]
  },
  {
   "cell_type": "code",
   "execution_count": null,
   "id": "a6c5db3a-6c06-423d-9aab-fe5b3c4a4f1a",
   "metadata": {},
   "outputs": [],
   "source": [
    "# nanoq 0.10.0\n",
    "\n",
    "# Filters and summary reports for nanopore reads\n",
    "\n",
    "# USAGE:\n",
    "#     nanoq [FLAGS] [OPTIONS]\n",
    "\n",
    "# FLAGS:\n",
    "#     # -f, --fast       Ignore quality values if present\n",
    "#     # -h, --help       Prints help information\n",
    "#     # -H, --header     Header for summary output\n",
    "#     # -j, --json       Summary report in JSON format\n",
    "#     # -s, --stats      Summary report only [stdout]\n",
    "#     # -V, --version    Prints version information\n",
    "#     # -v, --verbose    Verbose output statistics [multiple, up to -vvv]\n",
    "\n",
    "# OPTIONS:\n",
    "#     # -c, --compress-level <1-9>     Compression level to use if compressing output [default: 6]\n",
    "#     -i, --input <input>            Fast{a,q}.{gz,xz,bz}, stdin if not present\n",
    "#     # -m, --max-len <INT>            Maximum read length filter (bp) [default: 0]\n",
    "#     # -w, --max-qual <FLOAT>         Maximum average read quality filter (Q) [default: 0]\n",
    "#     -l, --min-len <INT>            Minimum read length filter (bp) [default: 0]\n",
    "#     -q, --min-qual <FLOAT>         Minimum average read quality filter (Q) [default: 0]\n",
    "#     -o, --output <output>          Output filepath, stdout if not present\n",
    "#     -O, --output-type <u|b|g|l>    u: uncompressed; b: Bzip2; g: Gzip; l: Lzma\n",
    "#     -r, --report <FILE>            Summary read statistics report output file\n",
    "#     -t, --top <INT>                Number of top reads in verbose summary [default: 5]\n",
    "#     -L, --read-lengths <FILE>      Output read lengths of surviving reads to file\n",
    "#     -Q, --read-qualities <FILE>    Output read qualities of surviving reads to file\n",
    "#     -S, --trim-start <INT>         Trim bases from the start of each read [default: 0]\n",
    "#     -E, --trim-end <INT>           Trim bases from the end of each read [default: 0]\n",
    "# # MIT\n",
    "# # https://github.com/esteinig/nanoq\n",
    "\n",
    "# !mamba install -c conda-forge -c bioconda nanoq\n",
    "# !nanoq \\\n",
    "# -vvv \\\n",
    "# --min-len 1000 \\\n",
    "# --min-qual 10 \\\n",
    "# --json \\\n",
    "# --input /content/drive/MyDrive/20231103.simulate-long-reads/GCF_000005845.2_ASM584v2_genomic.annotated.fna.50x.fastq.gz \\\n",
    "# --report /content/drive/MyDrive/20231103.simulate-long-reads/GCF_000005845.2_ASM584v2_genomic.annotated.fna.50x.fastq.nanoq.report.json \\\n",
    "# --output /content/drive/MyDrive/20231103.simulate-long-reads/GCF_000005845.2_ASM584v2_genomic.annotated.fna.50x.fastq.nanoq.fq.gz\n",
    "\n",
    "# filtlong "
   ]
  }
 ],
 "metadata": {
  "kernelspec": {
   "display_name": "Julia 1.6.7",
   "language": "julia",
   "name": "julia-1.6"
  },
  "language_info": {
   "file_extension": ".jl",
   "mimetype": "application/julia",
   "name": "julia",
   "version": "1.6.7"
  }
 },
 "nbformat": 4,
 "nbformat_minor": 5
}
