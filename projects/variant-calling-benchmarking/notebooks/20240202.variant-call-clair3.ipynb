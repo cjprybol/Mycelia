{
 "cells": [
  {
   "cell_type": "code",
   "execution_count": null,
   "id": "335bf35f-c55e-4857-83f0-ed03dc666f4e",
   "metadata": {
    "tags": []
   },
   "outputs": [],
   "source": [
    "# if hit plotting library issues, try resetting LD path for julia\n",
    "# can set in ~/.local/share/jupyter/kernels/\n",
    "# @assert ENV[\"LD_LIBRARY_PATH\"] == \"\"\n",
    "import Pkg\n",
    "pkgs = [\n",
    "    \"Revise\",\n",
    "    # \"FASTX\",\n",
    "    # \"StatsBase\",\n",
    "    # \"Distributions\",\n",
    "    # \"StatsPlots\",\n",
    "    # \"Random\",\n",
    "    # \"Dates\",\n",
    "    # \"DataFrames\",\n",
    "    # \"BioSequences\",\n",
    "    \"Conda\",\n",
    "    # \"Downloads\"\n",
    "]\n",
    "# Pkg.add(pkgs)\n",
    "for pkg in pkgs\n",
    "    eval(Meta.parse(\"import $pkg\"))\n",
    "end\n",
    "# Pkg.develop(path=\"/global/cfs/projectdirs/m4269/cjprybol/Mycelia\")\n",
    "# Pkg.develop(path=\"../../..\")\n",
    "import Mycelia"
   ]
  },
  {
   "cell_type": "code",
   "execution_count": null,
   "id": "6d998dfb-358d-4bee-8d56-88437be4bf16",
   "metadata": {
    "tags": []
   },
   "outputs": [],
   "source": [
    "# run(`$(Mycelia.MAMBA) clean --all -y`)\n",
    "# run(`$(Mycelia.MAMBA) remove --name clair3-illumina --all`)"
   ]
  },
  {
   "cell_type": "code",
   "execution_count": null,
   "id": "d6fd3716-5459-43c0-b7b6-a8c4357d2a56",
   "metadata": {
    "tags": []
   },
   "outputs": [],
   "source": [
    "# Pkg.build(\"Mycelia\")"
   ]
  },
  {
   "cell_type": "code",
   "execution_count": null,
   "id": "128cc1e1-929a-42e1-8376-4c81832fd40c",
   "metadata": {
    "tags": []
   },
   "outputs": [],
   "source": [
    "PROJECT_BASEDIR = dirname(pwd())\n",
    "data_dir = joinpath(PROJECT_BASEDIR, \"data\")\n",
    "genome_dir = mkpath(joinpath(data_dir, \"genomes\"))"
   ]
  },
  {
   "cell_type": "code",
   "execution_count": null,
   "id": "ed286651-361d-432f-9fc6-0e1fbe29ff07",
   "metadata": {
    "tags": []
   },
   "outputs": [],
   "source": [
    "bams = sort(filter(x -> occursin(r\"\\.sorted\\.bam$\", x), readdir(genome_dir, join=true)), by=x->filesize(x))"
   ]
  },
  {
   "cell_type": "code",
   "execution_count": null,
   "id": "16d1a6ca-9760-4be5-8aff-5f3d9d58aadb",
   "metadata": {
    "tags": []
   },
   "outputs": [],
   "source": [
    "threads = 1\n",
    "for bam in bams\n",
    "    if !isfile(bam * \".bai\")\n",
    "        run(`$(Mycelia.MAMBA) run --live-stream -n samtools samtools index $(bam)`)\n",
    "    end\n",
    "    outdir = bam * \".clair3\"\n",
    "    outfile = joinpath(outdir, \"merge_output.vcf.gz\")\n",
    "    # output = bam * \".clair3.vcf\"\n",
    "    fasta_reference = replace(bam, r\"\\.normalized\\.vcf\\.fna.*\" => \"\")\n",
    "    if !isfile(outfile) || (filesize(outfile) == 0)\n",
    "        if occursin(\".art.\", bam)\n",
    "            cmd = \n",
    "            \"\"\"\n",
    "            $(Mycelia.MAMBA) run --live-stream -n clair3 run_clair3.sh --haploid_precise --no_phasing_for_fa --include_all_ctgs --platform=\"ilmn\" --model_path=\"$(Conda.prefix(Symbol(\"clair3-illumina\")))/bin/models/ilmn\" --bam_fn=$(bam) --ref_fn=$(fasta_reference) --threads=$(threads) --output=$(outdir)\n",
    "            \"\"\"\n",
    "            # cmd = `$(Mycelia.MAMBA) run --live-stream -n clair3-illumina run_clair3.sh --haploid_precise --no_phasing_for_fa --include_all_ctgs --platform=\"ilmn\" --model_path=\"$(Conda.prefix(Symbol(\"clair3-illumina\")))/bin/models/ilmn\" --bam_fn=$(bam) --ref_fn=$(fasta_reference) --threads=$(threads) --output=$(output)`\n",
    "        elseif occursin(\".badread.\", bam)\n",
    "            cmd = \n",
    "            \"\"\"\n",
    "            $(Mycelia.MAMBA) run --live-stream -n clair3 run_clair3.sh --haploid_precise --no_phasing_for_fa --include_all_ctgs --platform=\"ont\" --model_path=\"$(Conda.prefix(:clair3))/bin/models/r941_prom_sup_g5014\" --bam_fn=$(bam) --ref_fn=$(fasta_reference) --threads=$(threads) --output=$(outdir)\n",
    "            \"\"\"\n",
    "            # cmd = `$(Mycelia.MAMBA) run --live-stream -n clair3 run_clair3.sh run_clair3.sh --haploid_precise --no_phasing_for_fa --include_all_ctgs --platform=\"ont\" --model_path=\"$(Conda.prefix(:clair3))/bin/models/r941_prom_sup_g5014\" --bam_fn=$(bam) --ref_fn=$(fasta_reference) --threads=$(threads) --output=$(output)`\n",
    "        else\n",
    "            error()\n",
    "        end\n",
    "    # run(cmd)\n",
    "    Mycelia.nersc_sbatch(\n",
    "        job_name = \"$(basename(outdir))\",\n",
    "        mail_user = \"cameron.prybol@gmail.com\",\n",
    "        logdir = mkpath(\"$(homedir())/workspace/slurmlogs\"),\n",
    "        qos = \"shared\",\n",
    "        cpus_per_task= threads,\n",
    "        cmd = cmd)\n",
    "    else\n",
    "        @info \"$(outfile) already present...\"\n",
    "    end\n",
    "end"
   ]
  }
 ],
 "metadata": {
  "kernelspec": {
   "display_name": "Julia 1.6.7",
   "language": "julia",
   "name": "julia-1.6"
  },
  "language_info": {
   "file_extension": ".jl",
   "mimetype": "application/julia",
   "name": "julia",
   "version": "1.6.7"
  }
 },
 "nbformat": 4,
 "nbformat_minor": 5
}
