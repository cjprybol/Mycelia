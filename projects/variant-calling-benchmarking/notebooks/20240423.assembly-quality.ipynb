{
 "cells": [
  {
   "cell_type": "code",
   "execution_count": null,
   "id": "35a171e9-adce-45e0-a230-1aa08384ac94",
   "metadata": {},
   "outputs": [],
   "source": [
    "# can't get Meryl + merqury environment to work"
   ]
  },
  {
   "cell_type": "code",
   "execution_count": null,
   "id": "335bf35f-c55e-4857-83f0-ed03dc666f4e",
   "metadata": {
    "tags": []
   },
   "outputs": [],
   "source": [
    "# if hit plotting library issues, try resetting LD path for julia\n",
    "# can set in ~/.local/share/jupyter/kernels/\n",
    "haskey(ENV, \"LD_LIBRARY_PATH\") && @assert ENV[\"LD_LIBRARY_PATH\"] == \"\"\n",
    "import Pkg\n",
    "pkgs = [\n",
    "    \"Revise\",\n",
    "    \"DataFrames\",\n",
    "]\n",
    "Pkg.add(pkgs)\n",
    "for pkg in pkgs\n",
    "    eval(Meta.parse(\"import $pkg\"))\n",
    "end\n",
    "# Pkg.develop(path=\"/global/cfs/projectdirs/m4269/cjprybol/Mycelia\")\n",
    "# Pkg.develop(path=\"../../..\")\n",
    "import Mycelia"
   ]
  },
  {
   "cell_type": "code",
   "execution_count": null,
   "id": "128cc1e1-929a-42e1-8376-4c81832fd40c",
   "metadata": {
    "tags": []
   },
   "outputs": [],
   "source": [
    "PROJECT_BASEDIR = dirname(pwd())\n",
    "data_dir = joinpath(PROJECT_BASEDIR, \"data\")\n",
    "genome_dir = mkpath(joinpath(data_dir, \"genomes\"))\n",
    "\n",
    "# Mycelia.add_bioconda_env(\"meryl\")\n",
    "# Mycelia.add_bioconda_env(\"merqury\")"
   ]
  },
  {
   "cell_type": "code",
   "execution_count": null,
   "id": "30002856-bd6c-47ee-ae77-10dc8b771660",
   "metadata": {
    "tags": []
   },
   "outputs": [],
   "source": [
    "# find reference fastas\n",
    "reference_fastas = sort(filter(x -> occursin(r\"\\.fna$\", x) && !occursin(\"normalized\", x), readdir(genome_dir, join=true)), by=x->filesize(x))\n",
    "reference_fasta = reference_fastas[end]"
   ]
  },
  {
   "cell_type": "code",
   "execution_count": null,
   "id": "571435c9-4522-44b5-a59d-e85dcc15d8ff",
   "metadata": {},
   "outputs": [],
   "source": [
    "# short_read_sets = unique(map(x -> match(r\"^(.+\\.\\d+x)\\.\", x).captures[1], filter(x -> occursin(r\"\\.fna\\.art\", x) && occursin(r\"\\.fq\\.gz\", x) && !occursin(\"trimming_report\", x) && !occursin(\"_val_\", x), sort(readdir(genome_dir, join=true), by=x->filesize(x)))))\n",
    "# # forward = short_read_set * \".1_val_1.fq.gz\"\n",
    "# # reverse = short_read_set * \".2_val_2.fq.gz\"\n",
    "\n",
    "# spades\n",
    "# megahit\n",
    "# mycelia"
   ]
  },
  {
   "cell_type": "code",
   "execution_count": null,
   "id": "13273b48-fdc5-449b-8dae-7225a4db1525",
   "metadata": {
    "tags": []
   },
   "outputs": [],
   "source": [
    "# find read set\n",
    "long_read_fastqs = sort(filter(x -> occursin(reference_fasta, x) && occursin(r\"\\.filtlong\\.fq\\.gz$\", x), readdir(genome_dir, join=true)), by=x->filesize(x))\n",
    "fastq = long_read_fastqs[end]\n",
    "\n",
    "# flye\n",
    "# raven\n",
    "# hifiasm\n",
    "# hicanu\n",
    "# mycelia"
   ]
  },
  {
   "cell_type": "code",
   "execution_count": null,
   "id": "b47c28f4-fb71-4210-b037-638ab76582bf",
   "metadata": {},
   "outputs": [],
   "source": [
    "# and aggregate all assemblies\n",
    "# find assembly"
   ]
  },
  {
   "cell_type": "code",
   "execution_count": null,
   "id": "6a8b15b8-a729-4d36-b184-b961c05c10a1",
   "metadata": {
    "tags": []
   },
   "outputs": [],
   "source": [
    "fastq_directories = filter(x -> occursin(fastq, x) && isdir(x), readdir(genome_dir, join=true))"
   ]
  },
  {
   "cell_type": "code",
   "execution_count": null,
   "id": "4a5df607-4a0c-4649-96f7-dea4db097f99",
   "metadata": {
    "tags": []
   },
   "outputs": [],
   "source": [
    "raven_directory = first(filter(x -> occursin(r\"\\_raven$\", x), fastq_directories))"
   ]
  },
  {
   "cell_type": "code",
   "execution_count": null,
   "id": "116f0b32-775c-4232-9004-5cf00d4179bd",
   "metadata": {
    "tags": []
   },
   "outputs": [],
   "source": [
    "flye_directory = first(filter(x -> occursin(r\"\\_flye$\", x), fastq_directories))"
   ]
  },
  {
   "cell_type": "code",
   "execution_count": null,
   "id": "133764b2-3810-4779-a04e-9951928e8da1",
   "metadata": {
    "tags": []
   },
   "outputs": [],
   "source": [
    "raven_assembly = joinpath(raven_directory, \"assembly.fna\")"
   ]
  },
  {
   "cell_type": "code",
   "execution_count": null,
   "id": "d7ccff0a-2dc6-420d-9f78-7d1cc0eb23c6",
   "metadata": {
    "tags": []
   },
   "outputs": [],
   "source": [
    "flye_assembly = joinpath(flye_directory, \"assembly.fasta\")"
   ]
  },
  {
   "cell_type": "code",
   "execution_count": null,
   "id": "36e5655f-0a8f-45a9-a7ab-6e2895316b64",
   "metadata": {
    "tags": []
   },
   "outputs": [],
   "source": [
    "meryl_k = 17"
   ]
  },
  {
   "cell_type": "code",
   "execution_count": null,
   "id": "df6d8c03-22f1-47dd-8a9a-ab9991e34a59",
   "metadata": {
    "tags": []
   },
   "outputs": [],
   "source": [
    "meryl_out = \"$(fastq).k_$(meryl_k).meryl\""
   ]
  },
  {
   "cell_type": "code",
   "execution_count": null,
   "id": "8064dae6-10f0-400a-9db2-d0ba049f99ba",
   "metadata": {
    "tags": []
   },
   "outputs": [],
   "source": [
    "isdir(meryl_out) && rm(meryl_out, recursive=true)"
   ]
  },
  {
   "cell_type": "code",
   "execution_count": null,
   "id": "32940a59-be23-48dd-b5d4-a77b78e658f0",
   "metadata": {
    "tags": []
   },
   "outputs": [],
   "source": [
    "# conda install --channel conda-forge --channel bioconda --channel defaults --strict-channel-priority meryl merqury\n",
    "# conda create --channel conda-forge --channel bioconda --channel defaults --strict-channel-priority -n mequry meryl merqury"
   ]
  },
  {
   "cell_type": "code",
   "execution_count": null,
   "id": "f5a68c4f-a7b8-4ae5-aeed-af4d350ae9e1",
   "metadata": {
    "tags": []
   },
   "outputs": [],
   "source": [
    "# run(`$(Mycelia.CONDA_RUNNER) run --live-stream -n merqury meryl count k=17 $(fastq) output $(meryl_out)`)\n",
    "run(`/global/u1/c/cjprybol/conda/bin/meryl count k=17 $(fastq) output $(meryl_out)`)\n",
    "# "
   ]
  },
  {
   "cell_type": "code",
   "execution_count": null,
   "id": "1bd1270b-89a6-4548-aca4-e5db9a2198f6",
   "metadata": {},
   "outputs": [],
   "source": [
    "# conda create -n merqury -c conda-forge -c bioconda merqury openjdk=11\n",
    "\n",
    "# $MERQURY/merqury.sh\n",
    "\n",
    "# current_directory = pwd()\n",
    "# cd(meryl_out)\n",
    "# # # mkpath(\"$(reference_fasta).meryl\")\n",
    "# `$(Mycelia.CONDA_RUNNER) run --live-stream -n merqury $MERQURY/merqury.sh $(meryl_out) $(reference_fasta) merqury`\n",
    "\n",
    "# conda activate merqury\n",
    "\n",
    "`\\$MERQURY/merqury.sh $(meryl_out) $(reference_fasta) merqury`\n",
    "# run(`/global/u1/c/cjprybol/conda/bin/merqury merqury.sh $(meryl_out) $(reference_fasta) merqury`)\n",
    "# cd(current_directory)\n",
    "\n",
    "\n",
    "$MERQURY/merqury.sh /global/cfs/cdirs/m4269/cjprybol/Mycelia/projects/variant-calling-benchmarking/data/genomes/GCF_023169545.1.fna.normalized.vcf.fna.badread.1000x.filtlong.fq.gz.k_17.meryl /global/cfs/cdirs/m4269/cjprybol/Mycelia/projects/variant-calling-benchmarking/data/genomes/GCF_023169545.1.fna merqury\n",
    "\n",
    "\n",
    "\n",
    "Rscript $MERQURY/plot/plot_spectra_cn.R -f merqury.spectra-asm.hist -o merqury.spectra-asm -z merqury.dist_only.hist\n",
    "\n",
    "\n",
    "Rscript $MERQURY/plot/plot_spectra_cn.R --file"
   ]
  },
  {
   "cell_type": "code",
   "execution_count": null,
   "id": "bdb92a47-8fc6-4847-be2b-b640342f5fea",
   "metadata": {
    "tags": []
   },
   "outputs": [],
   "source": [
    "# current_directory = pwd()\n",
    "# cd(meryl_out)\n",
    "# # mkpath(\"$(reference_fasta).meryl\")\n",
    "# run(`$(Mycelia.CONDA_RUNNER) run --live-stream -n merqury merqury.sh . $(reference_fasta) merqury`)\n",
    "# cd(current_directory)"
   ]
  },
  {
   "cell_type": "code",
   "execution_count": null,
   "id": "1c49113a-60a6-4a8b-bd23-aa762330f5b0",
   "metadata": {},
   "outputs": [],
   "source": [
    "# # tools to use\n",
    "\n",
    "# meryl count k=21 input.fastx output=read-db.meryl\n",
    "# merqury.sh read-db.meryl final.purged.p_ctg.fasta merqury_pacbio\n",
    "\n",
    "# $MERQURY/merqury.sh read-db.meryl asm1.fasta out_prefix"
   ]
  }
 ],
 "metadata": {
  "kernelspec": {
   "display_name": "Julia 1.10.2",
   "language": "julia",
   "name": "julia-1.10"
  },
  "language_info": {
   "file_extension": ".jl",
   "mimetype": "application/julia",
   "name": "julia",
   "version": "1.10.2"
  }
 },
 "nbformat": 4,
 "nbformat_minor": 5
}
