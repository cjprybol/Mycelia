{
 "cells": [
  {
   "cell_type": "code",
   "execution_count": null,
   "id": "335bf35f-c55e-4857-83f0-ed03dc666f4e",
   "metadata": {
    "tags": []
   },
   "outputs": [],
   "source": [
    "# if hit plotting library issues, try resetting LD path for julia\n",
    "# can set in ~/.local/share/jupyter/kernels/\n",
    "# @assert ENV[\"LD_LIBRARY_PATH\"] == \"\"\n",
    "import Pkg\n",
    "pkgs = [\n",
    "    \"Revise\",\n",
    "    # \"FASTX\",\n",
    "    # \"StatsBase\",\n",
    "    # \"Distributions\",\n",
    "    # \"StatsPlots\",\n",
    "    # \"Random\",\n",
    "    # \"Dates\",\n",
    "    # \"DataFrames\",\n",
    "    # \"BioSequences\",\n",
    "    # \"Conda\",\n",
    "    # \"Downloads\"\n",
    "]\n",
    "# Pkg.add(pkgs)\n",
    "for pkg in pkgs\n",
    "    eval(Meta.parse(\"import $pkg\"))\n",
    "end\n",
    "# Pkg.develop(path=\"/global/cfs/projectdirs/m4269/cjprybol/Mycelia\")\n",
    "# Pkg.develop(path=\"../../..\")\n",
    "import Mycelia"
   ]
  },
  {
   "cell_type": "code",
   "execution_count": null,
   "id": "b16669e1-07a3-4dbf-be79-deb779b5ddcc",
   "metadata": {},
   "outputs": [],
   "source": [
    "# Pkg.build(\"Mycelia\")"
   ]
  },
  {
   "cell_type": "code",
   "execution_count": null,
   "id": "128cc1e1-929a-42e1-8376-4c81832fd40c",
   "metadata": {
    "tags": []
   },
   "outputs": [],
   "source": [
    "PROJECT_BASEDIR = dirname(pwd())\n",
    "data_dir = joinpath(PROJECT_BASEDIR, \"data\")\n",
    "genome_dir = mkpath(joinpath(data_dir, \"genomes\"))"
   ]
  },
  {
   "cell_type": "code",
   "execution_count": null,
   "id": "ed286651-361d-432f-9fc6-0e1fbe29ff07",
   "metadata": {
    "tags": []
   },
   "outputs": [],
   "source": [
    "bams = sort(filter(x -> occursin(r\"\\.sorted\\.bam$\", x), readdir(genome_dir, join=true)), by=x->filesize(x))"
   ]
  },
  {
   "cell_type": "code",
   "execution_count": null,
   "id": "50091f99-a42c-45ee-a7fe-963c196d00b7",
   "metadata": {
    "tags": []
   },
   "outputs": [],
   "source": [
    "# # WGS for Illumina\n",
    "# # [WGS,WES,PACBIO,ONT_R104,HYBRID_PACBIO_ILLUMINA]**\n",
    "\n",
    "# podman run \\\n",
    "#   -v \".\":\"/deepvariant\" \\\n",
    "#   google/deepvariant:\"1.6.0\" \\\n",
    "#   /opt/deepvariant/bin/run_deepvariant \\\n",
    "#   --model_type=WGS \\\n",
    "#   --ref=/deepvariant/3NEzu1DmBy.fna.normalized.vcf.fna \\\n",
    "#   --reads=/deepvariant/3NEzu1DmBy.fna.normalized.vcf.fna.art.10x.minimap2.sorted.bam \\\n",
    "#   --output_vcf=/deepvariant/3NEzu1DmBy.fna.normalized.vcf.fna.art.10x.minimap2.sorted.bam.deepvariant.vcf \\\n",
    "#   --output_gvcf=/deepvariant/3NEzu1DmBy.fna.normalized.vcf.fna.art.10x.minimap2.sorted.bam.deepvariant.gvcf \\\n",
    "#   --num_shards=1 \\\n",
    "#   --logging_dir=/logs \\\n",
    "#   --dry_run=false"
   ]
  }
 ],
 "metadata": {
  "kernelspec": {
   "display_name": "Julia 1.6.7",
   "language": "julia",
   "name": "julia-1.6"
  },
  "language_info": {
   "file_extension": ".jl",
   "mimetype": "application/julia",
   "name": "julia",
   "version": "1.6.7"
  }
 },
 "nbformat": 4,
 "nbformat_minor": 5
}
