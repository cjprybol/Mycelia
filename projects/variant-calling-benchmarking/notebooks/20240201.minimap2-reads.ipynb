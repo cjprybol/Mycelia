{
 "cells": [
  {
   "cell_type": "code",
   "execution_count": null,
   "id": "335bf35f-c55e-4857-83f0-ed03dc666f4e",
   "metadata": {
    "tags": []
   },
   "outputs": [],
   "source": [
    "# if hit plotting library issues, try resetting LD path for julia\n",
    "# can set in ~/.local/share/jupyter/kernels/\n",
    "# @assert ENV[\"LD_LIBRARY_PATH\"] == \"\"\n",
    "import Pkg\n",
    "pkgs = [\n",
    "    \"Revise\",\n",
    "    # \"FASTX\",\n",
    "    # \"StatsBase\",\n",
    "    # \"Distributions\",\n",
    "    # \"StatsPlots\",\n",
    "    # \"Random\",\n",
    "    # \"Dates\",\n",
    "    # \"DataFrames\",\n",
    "    # \"BioSequences\",\n",
    "    # \"Conda\",\n",
    "    # \"Downloads\"\n",
    "]\n",
    "# Pkg.add(pkgs)\n",
    "for pkg in pkgs\n",
    "    eval(Meta.parse(\"import $pkg\"))\n",
    "end\n",
    "# Pkg.develop(path=\"/global/cfs/projectdirs/m4269/cjprybol/Mycelia\")\n",
    "# Pkg.develop(path=\"../../..\")\n",
    "import Mycelia"
   ]
  },
  {
   "cell_type": "code",
   "execution_count": null,
   "id": "128cc1e1-929a-42e1-8376-4c81832fd40c",
   "metadata": {
    "tags": []
   },
   "outputs": [],
   "source": [
    "PROJECT_BASEDIR = dirname(pwd())\n",
    "data_dir = joinpath(PROJECT_BASEDIR, \"data\")\n",
    "genome_dir = mkpath(joinpath(data_dir, \"genomes\"))"
   ]
  },
  {
   "cell_type": "code",
   "execution_count": null,
   "id": "d2d0e2a2-5365-42d6-8bcc-1de74d045890",
   "metadata": {
    "tags": []
   },
   "outputs": [],
   "source": [
    "fasta_files = sort(filter(x -> occursin(r\"\\.fna$\", x) && !occursin(\".vcf\", x) && !occursin(\"normalized\", x), readdir(genome_dir, join=true)), by=x->filesize(x))"
   ]
  },
  {
   "cell_type": "code",
   "execution_count": null,
   "id": "7846cfd9-f2ef-4467-b92e-2fd5720815e9",
   "metadata": {
    "tags": []
   },
   "outputs": [],
   "source": [
    "short_read_sets = unique(map(x -> match(r\"^(.+\\.\\d+x)\\.\", x).captures[1], filter(x -> occursin(r\"\\.fna\\.art\", x) && occursin(r\"\\.fq\\.gz\", x) && !occursin(\"trimming_report\", x) && !occursin(\"_val_\", x), readdir(genome_dir, join=true))))"
   ]
  },
  {
   "cell_type": "code",
   "execution_count": null,
   "id": "9d5c03f4-13c9-45a5-8788-f7af55e7edaf",
   "metadata": {
    "tags": []
   },
   "outputs": [],
   "source": [
    "threads = 8\n",
    "# memory = 64\n",
    "for short_read_set in short_read_sets\n",
    "    forward = short_read_set * \".1_val_1.fq.gz\"\n",
    "    reverse = short_read_set * \".2_val_2.fq.gz\"\n",
    "    # @show forward reverse\n",
    "    outdir = dirname(short_read_set)\n",
    "    sam_outfile = short_read_set * \".minimap2.sam\"\n",
    "    outfile = replace(sam_outfile, \".sam\" => \".sorted.bam\")\n",
    "    # DON'T USE MODIFIED FASTA!!\n",
    "    reference_fasta = replace(short_read_set, r\"\\.normalized\\.vcf\\.fna\\.art\\..*$\" => \"\")\n",
    "    # @show reference_fasta\n",
    "    # @show outfile\n",
    "    if !isfile(outfile) || (filesize(outfile) == 0)\n",
    "        @info \"$(outfile) not present, generating...\"\n",
    "        # https://github.com/lh3/minimap2/blob/master/FAQ.md#3-the-output-sam-doesnt-have-a-header\n",
    "        # can use index prefix to split the memory\n",
    "        # cmd =\n",
    "        # \"\"\"\n",
    "        # $(Mycelia.MAMBA) run --live-stream -n minimap2 minimap2 -t $(threads) -ax sr $(reference_fasta) $(forward) $(reverse) --split-prefix=$(sam_outfile).tmp -o $(sam_outfile) \\\\\n",
    "        # && $(Mycelia.MAMBA) run --live-stream -n samtools samtools sort --threads $(threads) $(sam_outfile) \\\\\n",
    "        # | $(Mycelia.MAMBA) run --live-stream -n samtools samtools view --bam --with-header --output $(outfile) \\\\\n",
    "        # && rm $(sam_outfile)\n",
    "        # \"\"\"\n",
    "        # Mycelia.sbatch(\n",
    "        #     job_name = \"$(basename(outfile))\",\n",
    "        #     mail_user = \"cameron.prybol@gmail.com\",\n",
    "        #     logdir = mkpath(\"$(homedir())/workspace/slurmlogs\"),\n",
    "        #     partition = \"batch\",\n",
    "        #     account = \"mpsnyder\",\n",
    "        #     mem_gb = memory,\n",
    "        #     cpus_per_task= threads,\n",
    "        #     cmd = cmd)\n",
    "        cmd =\n",
    "        \"\"\"\n",
    "        $(Mycelia.MAMBA) run --live-stream -n minimap2 minimap2 -t $(threads) -ax sr $(reference_fasta) $(forward) $(reverse) --split-prefix=$(sam_outfile).tmp -o $(sam_outfile) \\\\\n",
    "        && $(Mycelia.MAMBA) run --live-stream -n samtools samtools sort --threads $(threads) $(sam_outfile) \\\\\n",
    "        | $(Mycelia.MAMBA) run --live-stream -n samtools samtools view -bh -o $(outfile) \\\\\n",
    "        && rm $(sam_outfile)\n",
    "        \"\"\"\n",
    "        Mycelia.nersc_sbatch(\n",
    "            job_name = \"$(basename(outfile))\",\n",
    "            mail_user = \"cameron.prybol@gmail.com\",\n",
    "            logdir = mkpath(\"$(homedir())/workspace/slurmlogs\"),\n",
    "            qos = \"shared\",\n",
    "            cpus_per_task= threads,\n",
    "            cmd = cmd)\n",
    "    else\n",
    "        @info \"$(outfile) already present...\"\n",
    "    end\n",
    "end"
   ]
  },
  {
   "cell_type": "code",
   "execution_count": null,
   "id": "339870f5-2d9c-49ab-a2af-f1220d63fd83",
   "metadata": {
    "tags": []
   },
   "outputs": [],
   "source": [
    "long_read_fastqs = sort(filter(x -> occursin(r\"\\.filtlong\\.fq\\.gz$\", x), readdir(genome_dir, join=true)), by=x->filesize(x))"
   ]
  },
  {
   "cell_type": "code",
   "execution_count": null,
   "id": "930ad951-a808-41e4-8a7d-967a2d9dfd9c",
   "metadata": {
    "tags": []
   },
   "outputs": [],
   "source": [
    "threads = 8\n",
    "# memory = 64\n",
    "for long_read_fastq in long_read_fastqs\n",
    "    sam_outfile = long_read_fastq * \".minimap2.sam\"\n",
    "    # DON'T USE MODIFIED FASTA!\n",
    "    reference_fasta = replace(long_read_fastq, r\"\\.normalized\\.vcf\\.fna\\.badread\\.\\d+x\\.filtlong\\.fq\\.gz\" => \"\")\n",
    "    # @show reference_fasta\n",
    "    outfile = replace(sam_outfile, \".sam\" => \".sorted.bam\")\n",
    "    if !isfile(outfile) || (filesize(outfile) == 0)\n",
    "        # https://github.com/lh3/minimap2/blob/master/FAQ.md#3-the-output-sam-doesnt-have-a-header\n",
    "        # can use index prefix to split the memory\n",
    "        @info \"$(outfile) not present, generating...\"\n",
    "        cmd =\n",
    "        \"\"\"\n",
    "        $(Mycelia.MAMBA) run --live-stream -n minimap2 minimap2 -t $(threads) -ax map-pb $(reference_fasta) $(long_read_fastq) --split-prefix=$(sam_outfile).tmp -o $(sam_outfile) \\\\\n",
    "        && $(Mycelia.MAMBA) run --live-stream -n samtools samtools sort --threads $(threads) $(sam_outfile) \\\\\n",
    "        | $(Mycelia.MAMBA) run --live-stream -n samtools samtools view -bh -o $(outfile) \\\\\n",
    "        && rm $(sam_outfile)\n",
    "        \"\"\"\n",
    "        # Mycelia.sbatch(\n",
    "        #     job_name = \"$(basename(outfile))\",\n",
    "        #     mail_user = \"cameron.prybol@gmail.com\",\n",
    "        #     logdir = mkpath(\"$(homedir())/workspace/slurmlogs\"),\n",
    "        #     partition = \"batch\",\n",
    "        #     account = \"mpsnyder\",\n",
    "        #     mem_gb = memory,\n",
    "        #     cpus_per_task= threads,\n",
    "        #     cmd = cmd)\n",
    "        Mycelia.nersc_sbatch(\n",
    "            job_name = \"$(basename(outfile))\",\n",
    "            mail_user = \"cameron.prybol@gmail.com\",\n",
    "            logdir = mkpath(\"$(homedir())/workspace/slurmlogs\"),\n",
    "            qos = \"shared\",\n",
    "            cpus_per_task= threads,\n",
    "            cmd = cmd)\n",
    "    else\n",
    "        @info \"$(outfile) already present...\"\n",
    "    end\n",
    "end"
   ]
  }
 ],
 "metadata": {
  "kernelspec": {
   "display_name": "Julia 1.6.7",
   "language": "julia",
   "name": "julia-1.6"
  },
  "language_info": {
   "file_extension": ".jl",
   "mimetype": "application/julia",
   "name": "julia",
   "version": "1.6.7"
  }
 },
 "nbformat": 4,
 "nbformat_minor": 5
}
