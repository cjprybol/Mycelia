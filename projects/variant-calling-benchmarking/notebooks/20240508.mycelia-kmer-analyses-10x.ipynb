{
 "cells": [
  {
   "cell_type": "code",
   "execution_count": null,
   "id": "335bf35f-c55e-4857-83f0-ed03dc666f4e",
   "metadata": {
    "tags": []
   },
   "outputs": [],
   "source": [
    "# if hit plotting library issues, try resetting LD path for julia\n",
    "# can set in ~/.local/share/jupyter/kernels/\n",
    "@assert ENV[\"LD_LIBRARY_PATH\"] == \"\"\n",
    "import Pkg\n",
    "pkgs = [\n",
    "    \"Revise\",\n",
    "    \"FASTX\",\n",
    "    \"BioSequences\",\n",
    "    \"Kmers\",\n",
    "    \"Graphs\",\n",
    "    \"MetaGraphs\",\n",
    "    \"SparseArrays\",\n",
    "    \"ProgressMeter\",\n",
    "    \"Distributions\",\n",
    "    \"HiddenMarkovModels\",\n",
    "    \"BioAlignments\",\n",
    "    \"StatsBase\",\n",
    "    \"Random\",\n",
    "    \"StatsPlots\",\n",
    "    \"Statistics\",\n",
    "    # \"GraphMakie\",\n",
    "    \"IterTools\",\n",
    "    \"Primes\",\n",
    "    \"OnlineStats\",\n",
    "    \"IteratorSampling\",\n",
    "    \"HypothesisTests\",\n",
    "    \"Distributions\"\n",
    "]\n",
    "# Pkg.add(pkgs)\n",
    "for pkg in pkgs\n",
    "    eval(Meta.parse(\"import $pkg\"))\n",
    "end\n",
    "# Pkg.develop(path=\"/global/cfs/projectdirs/m4269/cjprybol/Mycelia\")\n",
    "# Pkg.develop(path=\"../../..\")\n",
    "import Mycelia"
   ]
  },
  {
   "cell_type": "code",
   "execution_count": null,
   "id": "3c71fe23-b761-414b-9e53-8ed680e113f8",
   "metadata": {
    "tags": []
   },
   "outputs": [],
   "source": [
    "PROJECT_BASEDIR = dirname(pwd())\n",
    "data_dir = joinpath(PROJECT_BASEDIR, \"data\")\n",
    "genome_dir = mkpath(joinpath(data_dir, \"genomes\"))\n",
    "results_dir = joinpath(PROJECT_BASEDIR, \"results\")\n",
    "working_dir = joinpath(data_dir, \"test\")\n",
    "mkpath(working_dir)"
   ]
  },
  {
   "cell_type": "code",
   "execution_count": null,
   "id": "2e294dc9-dc3d-4a15-8e15-70e649200874",
   "metadata": {
    "tags": []
   },
   "outputs": [],
   "source": [
    "# short_read_sets = unique(map(x -> match(r\"^(.+\\.\\d+x)\\.\", x).captures[1], filter(x -> occursin(r\"\\.fna\\.art\", x) && occursin(r\"\\.fq\\.gz\", x) && !occursin(\"trimming_report\", x) && !occursin(\"_val_\", x), sort(readdir(genome_dir, join=true), by=x->filesize(x)))))\n",
    "# # forward = short_read_set * \".1_val_1.fq.gz\"\n",
    "# # reverse = short_read_set * \".2_val_2.fq.gz\""
   ]
  },
  {
   "cell_type": "code",
   "execution_count": null,
   "id": "c4ab3b27-b540-4f4d-8bd3-093e58e0304d",
   "metadata": {
    "tags": []
   },
   "outputs": [],
   "source": [
    "long_read_fastqs = sort(filter(x -> occursin(r\"\\.filtlong\\.fq\\.gz$\", x), readdir(genome_dir, join=true)), by=x->filesize(x))\n",
    "fastq = long_read_fastqs[1]"
   ]
  },
  {
   "cell_type": "code",
   "execution_count": null,
   "id": "9de34fec-79aa-419f-a1a1-dd7dfe664a7b",
   "metadata": {
    "tags": []
   },
   "outputs": [],
   "source": [
    "reference_fasta = replace(fastq, r\"\\.badread.*\" => \"\")"
   ]
  },
  {
   "cell_type": "code",
   "execution_count": null,
   "id": "544857ef-c3a2-4910-b10e-56e28c79b18b",
   "metadata": {
    "tags": []
   },
   "outputs": [],
   "source": [
    "fontsize = 14"
   ]
  },
  {
   "cell_type": "code",
   "execution_count": null,
   "id": "fcf7b7eb-45d6-4265-80f5-69d68db1b95c",
   "metadata": {
    "tags": []
   },
   "outputs": [],
   "source": [
    "k = Mycelia.assess_dnamer_saturation([fastq])\n",
    "\n",
    "kmer_type = Kmers.DNAKmer{k, 1}\n",
    "\n",
    "# reference_kmers = Set(keys(fasta_to_reference_kmer_counts(kmer_type = kmer_type, fasta = reference_fasta)))\n",
    "reference_kmer_counts = Mycelia.fasta_to_reference_kmer_counts(kmer_type=kmer_type, fasta=reference_fasta)\n",
    "\n",
    "records = collect(Mycelia.open_fastx(fastq))\n",
    "\n",
    "fit_mean = OnlineStats.fit!(OnlineStats.Mean(), IterTools.chain(FASTX.quality_scores(record) for record in records))\n",
    "fit_mean_value = OnlineStats.value(fit_mean)\n",
    "\n",
    "fit_extrema = OnlineStats.fit!(OnlineStats.Extrema(), IterTools.chain(FASTX.quality_scores(record) for record in records))\n",
    "\n",
    "fit_variance = OnlineStats.fit!(OnlineStats.Variance(), IterTools.chain(FASTX.quality_scores(record) for record in records))\n",
    "standard_deviation = sqrt(OnlineStats.value(fit_variance))\n",
    "\n",
    "read_quality_scores = [collect(FASTX.quality_scores(record)) for record in records]\n",
    "\n",
    "p = StatsPlots.scatter(\n",
    "    IteratorSampling.itsample(IterTools.chain(read_quality_scores...), 10^4),\n",
    "    title = \"base quality scores\",\n",
    "    xlabel = \"read index\",\n",
    "    ylabel = \"quality score (PHRED)\",\n",
    "    # color = :black,\n",
    "    xtickfontsize = fontsize-2,\n",
    "    ytickfontsize = fontsize-2,\n",
    "    xguidefontsize = fontsize,\n",
    "    yguidefontsize = fontsize,\n",
    "    titlefontsize = fontsize,\n",
    "    legendfontsize = fontsize,\n",
    "    alpha = 0.25,\n",
    "    label = nothing)\n",
    "\n",
    "StatsPlots.hline!(\n",
    "    p,\n",
    "    [OnlineStats.value(fit_mean)],\n",
    "    labels = \"mean = $(round(fit_mean_value, digits=1))\",\n",
    "    linestyle = :dash\n",
    ")\n",
    "\n",
    "one_sigma_quality = fit_mean_value - standard_deviation\n",
    "StatsPlots.hline!(p, [one_sigma_quality], label = \"(mean - 1σ) = $(round(one_sigma_quality, digits=1))\")\n",
    "StatsPlots.savefig(p, joinpath(results_dir, \"base_quality_scores.svg\"))\n",
    "p"
   ]
  },
  {
   "cell_type": "code",
   "execution_count": null,
   "id": "06c8ceee-5316-4c50-981f-28d767a67e2f",
   "metadata": {
    "tags": []
   },
   "outputs": [],
   "source": [
    "@assert one_sigma_quality > 0\n",
    "OnlineStats.value(fit_mean) * k"
   ]
  },
  {
   "cell_type": "code",
   "execution_count": null,
   "id": "4bcb6de2-938e-483c-8d4e-de1f3efffe30",
   "metadata": {
    "tags": []
   },
   "outputs": [],
   "source": [
    "k\n",
    "one_sigma_quality * k"
   ]
  },
  {
   "cell_type": "code",
   "execution_count": null,
   "id": "178477ee-80ab-4534-b057-b9bf60cf1c53",
   "metadata": {
    "tags": []
   },
   "outputs": [],
   "source": [
    "# make a dictionary associating all kmers with their quality scores\n",
    "all_kmer_quality_support = Dict{kmer_type, Vector{Float64}}()\n",
    "for record in records\n",
    "    record_quality_scores = collect(FASTX.quality_scores(record))\n",
    "    record_quality_score_slices = [record_quality_scores[i:i+k-1] for i in 1:length(record_quality_scores)-k+1]\n",
    "    sequence = BioSequences.LongDNA{2}(FASTX.sequence(record))\n",
    "    for ((i, kmer), kmer_base_qualities) in zip(Kmers.EveryKmer{kmer_type}(sequence), record_quality_score_slices)\n",
    "        if haskey(all_kmer_quality_support, kmer)\n",
    "            all_kmer_quality_support[kmer] = all_kmer_quality_support[kmer] .+ kmer_base_qualities\n",
    "        else\n",
    "            all_kmer_quality_support[kmer] = kmer_base_qualities\n",
    "        end\n",
    "    end\n",
    "end\n",
    "all_kmer_quality_support\n",
    "kmer_counts = Mycelia.count_kmers(kmer_type, fastq)\n",
    "kmer_indices = Dict(kmer => i for (i, kmer) in enumerate(keys(kmer_counts)))\n",
    "\n",
    "# StatsPlots.histogram(\n",
    "#     collect(values(kmer_counts)),\n",
    "#     legend=false,\n",
    "#     title = \"kmer counts\",\n",
    "#     xlabel = \"# of occurances\",\n",
    "#     ylabel = \"# of kmers\",\n",
    "#     # yscale = :log2,\n",
    "#     ylims = (0, maximum(collect(values(kmer_counts))))\n",
    "#     # color = :black\n",
    "# )\n",
    "\n",
    "canonical_kmer_counts = Mycelia.count_canonical_kmers(kmer_type, fastq)\n",
    "canonical_kmer_indices = Dict(kmer => i for (i, kmer) in enumerate(keys(canonical_kmer_counts)))\n",
    "\n",
    "# StatsPlots.histogram(\n",
    "#     collect(values(canonical_kmer_counts)),\n",
    "#     legend=false,\n",
    "#     title = \"canonical kmer counts\",\n",
    "#     xlabel = \"# of occurances\",\n",
    "#     ylabel = \"# of kmers\",\n",
    "#     yscale = :log2\n",
    "#     # color = :black\n",
    "# )\n",
    "\n",
    "valid_kmer_counts = [count for (kmer, count) in kmer_counts if (kmer in keys(reference_kmer_counts))]\n",
    "invalid_kmer_counts = [count for (kmer, count) in kmer_counts if !(kmer in keys(reference_kmer_counts))]\n",
    "\n",
    "p = StatsPlots.density(\n",
    "    [invalid_kmer_counts, valid_kmer_counts],\n",
    "    title = \"canonical kmer counts\",\n",
    "    legend = :topright,\n",
    "    labels = [\"sequencing artifacts\" \"valid kmer counts\"],\n",
    "    xlabel = \"# of occurances\",\n",
    "    ylabel = \"# of kmers\",\n",
    "    xtickfontsize = fontsize-2,\n",
    "    ytickfontsize = fontsize-2,\n",
    "    xguidefontsize = fontsize,\n",
    "    yguidefontsize = fontsize,\n",
    "    titlefontsize = fontsize,\n",
    "    legendfontsize = fontsize,\n",
    ")\n",
    "StatsPlots.savefig(p, joinpath(results_dir, \"canonical_kmer_counts.svg\"))\n",
    "p"
   ]
  },
  {
   "cell_type": "code",
   "execution_count": null,
   "id": "405b97b3-c4c5-4ab1-a6f3-ad996439f184",
   "metadata": {
    "tags": []
   },
   "outputs": [],
   "source": [
    "reference_kmers = sort(collect(keys(reference_kmer_counts)))\n",
    "\n",
    "valid_average_qualities = Float64[]\n",
    "invalid_average_qualities = Float64[]\n",
    "for (kmer, quality_values) in all_kmer_quality_support\n",
    "    averages = Statistics.mean.(quality_values)\n",
    "    if kmer in reference_kmers\n",
    "        append!(valid_average_qualities, averages)\n",
    "    else\n",
    "        append!(invalid_average_qualities, averages)\n",
    "    end\n",
    "end\n",
    "\n",
    "p = StatsPlots.scatter(\n",
    "    [Mycelia.jitter(2, length(invalid_average_qualities)), Mycelia.jitter(1, length(valid_average_qualities))],\n",
    "    [invalid_average_qualities, valid_average_qualities],\n",
    "    alpha=0.2,\n",
    "    title = \"Mean across observations - strand-specific\",\n",
    "    xticks = ((1, 2), (\"valid kmers\", \"sequencing artifacts\")),\n",
    "    ylabel = \"kmer quality score\",\n",
    "    labels = nothing,\n",
    "    xtickfontsize = fontsize-2,\n",
    "    ytickfontsize = fontsize-2,\n",
    "    xguidefontsize = fontsize,\n",
    "    yguidefontsize = fontsize,\n",
    "    titlefontsize = fontsize,\n",
    "    legendfontsize = fontsize,\n",
    ")\n",
    "StatsPlots.plot!(p, \n",
    "    [0.75, 1.25],\n",
    "    [Statistics.mean(valid_average_qualities), Statistics.mean(valid_average_qualities)],\n",
    "    linewidth=4,\n",
    "    color=:orange,\n",
    "    label = \"mean = $(round(Statistics.mean(valid_average_qualities), digits=3))\")\n",
    "StatsPlots.plot!(p,\n",
    "    [1.75, 2.25],\n",
    "    [Statistics.mean(invalid_average_qualities), Statistics.mean(invalid_average_qualities)],\n",
    "    linewidth=4,\n",
    "    color=:blue,\n",
    "    label=\"mean = $(round(Statistics.mean(invalid_average_qualities), digits=3))\")\n",
    "\n",
    "StatsPlots.savefig(p, joinpath(results_dir, \"mean-kmer-qual-scores-stranded.svg\"))\n",
    "p"
   ]
  },
  {
   "cell_type": "code",
   "execution_count": null,
   "id": "a7483aef-99c3-467b-933c-f7d9b7c4e4be",
   "metadata": {
    "tags": []
   },
   "outputs": [],
   "source": [
    "valid_total_qualities = Float64[]\n",
    "invalid_total_qualities = Float64[]\n",
    "for (kmer, quality_values) in strand_normalized_quality_support\n",
    "    if kmer in reference_kmers\n",
    "        append!(valid_total_qualities, sum(quality_values))\n",
    "    else\n",
    "        append!(invalid_total_qualities, sum(quality_values))\n",
    "    end\n",
    "end\n",
    "\n",
    "p = StatsPlots.scatter(\n",
    "    [Mycelia.jitter(2, length(invalid_total_qualities)), Mycelia.jitter(1, length(valid_total_qualities))],\n",
    "    [invalid_total_qualities, valid_total_qualities],\n",
    "    alpha=0.2,\n",
    "    title = \"Total across observations - canonical\",\n",
    "    xticks = ((1, 2), (\"valid kmers\", \"sequencing artifacts\")),\n",
    "    ylabel = \"kmer quality score\",\n",
    "    labels = nothing,\n",
    "    xtickfontsize = fontsize-2,\n",
    "    ytickfontsize = fontsize-2,\n",
    "    xguidefontsize = fontsize,\n",
    "    yguidefontsize = fontsize,\n",
    "    titlefontsize = fontsize,\n",
    "    legendfontsize = fontsize,\n",
    ")\n",
    "StatsPlots.plot!(p, \n",
    "    [0.75, 1.25],\n",
    "    [Statistics.mean(valid_total_qualities), Statistics.mean(valid_total_qualities)],\n",
    "    linewidth=4,\n",
    "    color=:orange,\n",
    "    label = \"mean = $(round(Statistics.mean(valid_total_qualities), digits=3))\")\n",
    "StatsPlots.plot!(p,\n",
    "    [1.75, 2.25],\n",
    "    [Statistics.mean(invalid_total_qualities), Statistics.mean(invalid_total_qualities)],\n",
    "    linewidth=4,\n",
    "    color=:blue,\n",
    "    label=\"mean = $(round(Statistics.mean(invalid_total_qualities), digits=3))\")\n",
    "\n",
    "StatsPlots.savefig(p, joinpath(results_dir, \"total-kmer-qual-scores-shared.svg\"))\n",
    "p"
   ]
  }
 ],
 "metadata": {
  "kernelspec": {
   "display_name": "Julia 1.10.2",
   "language": "julia",
   "name": "julia-1.10"
  },
  "language_info": {
   "file_extension": ".jl",
   "mimetype": "application/julia",
   "name": "julia",
   "version": "1.10.2"
  }
 },
 "nbformat": 4,
 "nbformat_minor": 5
}
