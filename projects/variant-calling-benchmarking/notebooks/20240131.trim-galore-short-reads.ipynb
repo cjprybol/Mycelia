{
 "cells": [
  {
   "cell_type": "code",
   "execution_count": null,
   "id": "335bf35f-c55e-4857-83f0-ed03dc666f4e",
   "metadata": {
    "tags": []
   },
   "outputs": [],
   "source": [
    "# if hit plotting library issues, try resetting LD path for julia\n",
    "# can set in ~/.local/share/jupyter/kernels/\n",
    "# @assert ENV[\"LD_LIBRARY_PATH\"] == \"\"\n",
    "import Pkg\n",
    "# ENV[\"CONDA_JL_USE_MINIFORGE\"] = \"1\"\n",
    "pkgs = [\n",
    "    \"Revise\",\n",
    "]\n",
    "# Pkg.add(pkgs)\n",
    "for pkg in pkgs\n",
    "    eval(Meta.parse(\"import $pkg\"))\n",
    "end\n",
    "# Pkg.develop(path=\"/global/cfs/projectdirs/m4269/cjprybol/Mycelia\")\n",
    "# Pkg.develop(path=\"../../..\")\n",
    "import Mycelia"
   ]
  },
  {
   "cell_type": "code",
   "execution_count": null,
   "id": "128cc1e1-929a-42e1-8376-4c81832fd40c",
   "metadata": {
    "tags": []
   },
   "outputs": [],
   "source": [
    "PROJECT_BASEDIR = dirname(pwd())\n",
    "data_dir = joinpath(PROJECT_BASEDIR, \"data\")\n",
    "genome_dir = mkpath(joinpath(data_dir, \"genomes\"))"
   ]
  },
  {
   "cell_type": "code",
   "execution_count": null,
   "id": "d73a3b2f-2945-4e69-8143-a28c5b989ca3",
   "metadata": {},
   "outputs": [],
   "source": [
    "# fasta_files = sort(filter(x -> occursin(r\"\\.fna$\", x) && !occursin(\".vcf\", x) && !occursin(\"normalized\", x), readdir(genome_dir, join=true)), by=x->filesize(x))"
   ]
  },
  {
   "cell_type": "code",
   "execution_count": null,
   "id": "f574e3ec-ef59-4e1c-ba30-ee291ca44079",
   "metadata": {},
   "outputs": [],
   "source": [
    "# coverages = [10, 100, 1000]"
   ]
  },
  {
   "cell_type": "code",
   "execution_count": null,
   "id": "96b7fb1b-4857-4e4a-a188-d77ed3a28f7c",
   "metadata": {},
   "outputs": [],
   "source": [
    "# fasta_files"
   ]
  },
  {
   "cell_type": "code",
   "execution_count": null,
   "id": "897ef3a1-f60c-428e-86d9-2711056ec4f3",
   "metadata": {},
   "outputs": [],
   "source": [
    "# fasta_file = first(fasta_files)"
   ]
  },
  {
   "cell_type": "code",
   "execution_count": null,
   "id": "978cefd4-73b8-40c0-83c1-dcf017ea0381",
   "metadata": {},
   "outputs": [],
   "source": [
    "short_read_sets = unique(replace.(filter(x -> occursin(r\"\\.fna\\.art\", x), readdir(genome_dir, join=true)), r\"\\.[12]\\.fq\\.gz\" => \"\"))"
   ]
  },
  {
   "cell_type": "code",
   "execution_count": null,
   "id": "c3794d53-0a33-434e-be17-a916ccd52c9e",
   "metadata": {},
   "outputs": [],
   "source": [
    "threads = 2\n",
    "memory = 16\n",
    "for short_read_set in short_read_sets\n",
    "    forward = short_read_set * \".1.fq.gz\"\n",
    "    reverse = short_read_set * \".2.fq.gz\"\n",
    "    outdir = dirname(short_read_set)\n",
    "    cmd =\n",
    "    \"\"\"\n",
    "    $(Mycelia.MAMBA) run -n trim_galore trim_galore --suppress_warn --cores $(threads) --output_dir $(outdir) --paired $(forward) $(reverse)\n",
    "    \"\"\"\n",
    "    Mycelia.sbatch(\n",
    "        job_name = \"trimgalore.$(basename(short_read_set))\",\n",
    "        mail_user = \"cameron.prybol@gmail.com\",\n",
    "        logdir = \"$(homedir())/workspace/slurmlogs\",\n",
    "        partition = \"batch\",\n",
    "        account = \"mpsnyder\",\n",
    "        mem_gb = memory,\n",
    "        cpus_per_task = threads,\n",
    "        cmd = cmd)\n",
    "end"
   ]
  }
 ],
 "metadata": {
  "kernelspec": {
   "display_name": "Julia 1.6.7",
   "language": "julia",
   "name": "julia-1.6"
  },
  "language_info": {
   "file_extension": ".jl",
   "mimetype": "application/julia",
   "name": "julia",
   "version": "1.6.7"
  }
 },
 "nbformat": 4,
 "nbformat_minor": 5
}
