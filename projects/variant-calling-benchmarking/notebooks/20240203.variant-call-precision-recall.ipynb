{
 "cells": [
  {
   "cell_type": "code",
   "execution_count": null,
   "id": "335bf35f-c55e-4857-83f0-ed03dc666f4e",
   "metadata": {
    "tags": []
   },
   "outputs": [],
   "source": [
    "# if hit plotting library issues, try resetting LD path for julia\n",
    "# can set in ~/.local/share/jupyter/kernels/\n",
    "# @assert ENV[\"LD_LIBRARY_PATH\"] == \"\"\n",
    "import Pkg\n",
    "pkgs = [\n",
    "    \"Revise\",\n",
    "    # \"FASTX\",\n",
    "    # \"StatsBase\",\n",
    "    # \"Distributions\",\n",
    "    # \"StatsPlots\",\n",
    "    # \"Random\",\n",
    "    # \"Dates\",\n",
    "    # \"DataFrames\",\n",
    "    # \"BioSequences\",\n",
    "    # \"Conda\",\n",
    "    # \"Downloads\"\n",
    "]\n",
    "# Pkg.add(pkgs)\n",
    "for pkg in pkgs\n",
    "    eval(Meta.parse(\"import $pkg\"))\n",
    "end\n",
    "# Pkg.develop(path=\"/global/cfs/projectdirs/m4269/cjprybol/Mycelia\")\n",
    "# Pkg.develop(path=\"../../..\")\n",
    "import Mycelia"
   ]
  },
  {
   "cell_type": "code",
   "execution_count": null,
   "id": "128cc1e1-929a-42e1-8376-4c81832fd40c",
   "metadata": {
    "tags": []
   },
   "outputs": [],
   "source": [
    "PROJECT_BASEDIR = dirname(pwd())\n",
    "data_dir = joinpath(PROJECT_BASEDIR, \"data\")\n",
    "genome_dir = mkpath(joinpath(data_dir, \"genomes\"))"
   ]
  },
  {
   "cell_type": "code",
   "execution_count": null,
   "id": "550b9140-36b8-41e2-94aa-3b65ebba1264",
   "metadata": {
    "tags": []
   },
   "outputs": [],
   "source": [
    "run(`$(Mycelia.MAMBA) create -c conda-forge -c bioconda -c defaults --strict-channel-priority -n rtg-tools rtg-tools -y`)"
   ]
  },
  {
   "cell_type": "code",
   "execution_count": null,
   "id": "01ad975e-4976-45af-8157-a8f8656cdd1a",
   "metadata": {
    "tags": []
   },
   "outputs": [],
   "source": [
    "reference_fastas = sort(filter(x -> occursin(r\"\\.fna$\", x) && !occursin(\"normalized\", x), readdir(genome_dir, join=true)), by=x->filesize(x))"
   ]
  },
  {
   "cell_type": "code",
   "execution_count": null,
   "id": "7ae7551e-66ad-4116-8af5-6630a4a2a8b5",
   "metadata": {
    "tags": []
   },
   "outputs": [],
   "source": [
    "# 1\n",
    "reference_fasta = reference_fastas[2]\n",
    "if !isdir(reference_fasta * \"_RTG\")\n",
    "    run(`$(Mycelia.MAMBA) run --live-stream -n rtg-tools rtg format -o $(reference_fasta)_RTG $(reference_fasta)`)\n",
    "end\n",
    "\n",
    "baseline_variants = first(filter(x -> occursin(reference_fasta, x) && occursin(r\"\\.normalized\\.vcf\\.gz$\", x), readdir(genome_dir, join=true)))\n",
    "\n",
    "# need to add variants from Clair3 which are currently in folders\n",
    "variant_calls = filter(x -> filesize(x) > 0 && isfile(x) && !isdir(x), sort(filter(x -> occursin(reference_fasta, x) && occursin(r\"\\.vcf$\", x), readdir(genome_dir, join=true)), by=x->filesize(x)))\n",
    "\n",
    "for calls in variant_calls\n",
    "    sorted_calls = replace(calls, \".vcf\" => \".sorted.vcf\")\n",
    "    sorted_bgzip_calls = sorted_calls * \".gz\"\n",
    "    outdir = joinpath(baseline_variants * \"_RTG\", basename(sorted_bgzip_calls))\n",
    "    # @show outdir\n",
    "        \n",
    "    if !isfile(sorted_calls)\n",
    "        run(`$(Mycelia.MAMBA) run --live-stream -n bcftools bcftools sort $(calls) --output $(sorted_calls)`)\n",
    "    end\n",
    "    if !isfile(sorted_bgzip_calls)\n",
    "        run(`$(Mycelia.MAMBA) run --live-stream -n rtg-tools rtg bgzip $(sorted_calls)`)\n",
    "    end\n",
    "    if !isfile(sorted_bgzip_calls * \".tbi\")\n",
    "        run(`$(Mycelia.MAMBA) run --live-stream -n rtg-tools rtg index $(sorted_bgzip_calls)`)\n",
    "    end\n",
    "    if !isdir(outdir)\n",
    "        # rm(outdir, recursive=true)\n",
    "        run(`$(Mycelia.MAMBA) run --live-stream -n rtg-tools rtg RTG_MEM=8G vcfeval --all-records --vcf-score-field QUAL --threads=1 --template $(reference_fasta)_RTG --baseline $(baseline_variants) --calls $(sorted_bgzip_calls) --squash-ploidy -o $(outdir)`)\n",
    "        non_snp_roc = joinpath(outdir, \"non_snp_roc.tsv.gz\")\n",
    "        snp_roc = joinpath(outdir, \"snp_roc.tsv.gz\")\n",
    "        weighted_roc = joinpath(outdir, \"weighted_roc.tsv.gz\")\n",
    "        roc_png = joinpath(outdir, \"roc.png\")\n",
    "        roc_svg = joinpath(outdir, \"roc.svg\")\n",
    "        run(`$(Mycelia.MAMBA) run --live-stream -n rtg-tools rtg RTG_MEM=8G rocplot --png $(roc_png) --svg $(roc_svg) --curve $(non_snp_roc)=non_snp_roc --curve $(snp_roc)=snp_roc --curve $(weighted_roc)=weighted_roc `)\n",
    "    else\n",
    "        @info \"$(outdir) already exists\"\n",
    "    end\n",
    "    # mkpath(outdir)\n",
    "end"
   ]
  },
  {
   "cell_type": "code",
   "execution_count": null,
   "id": "1f388b68-d5cd-4669-8476-9b2a8defb4ce",
   "metadata": {},
   "outputs": [],
   "source": [
    "# pip install --user vcftoolz\n",
    "# https://github.com/CFSAN-Biostatistics/vcftoolz\n",
    "# https://vcftoolz.readthedocs.io/en/latest/usage.html#compare"
   ]
  },
  {
   "cell_type": "code",
   "execution_count": null,
   "id": "21338237-8c23-4dfc-b60a-912185bfcf20",
   "metadata": {},
   "outputs": [],
   "source": [
    "# https://mlbasejl.readthedocs.io/en/latest/perfeval.html"
   ]
  },
  {
   "cell_type": "code",
   "execution_count": null,
   "id": "b32ec16c-aa2d-439f-b650-09c7caa55bd7",
   "metadata": {},
   "outputs": [],
   "source": [
    "# normalize and index all vcf files before comparing"
   ]
  },
  {
   "cell_type": "code",
   "execution_count": null,
   "id": "4584e2cc-e60b-4074-9fe9-610efa7b38ba",
   "metadata": {},
   "outputs": [],
   "source": [
    "# https://vcftools.sourceforge.net/documentation.html#:~:text=Comparing%20two%20files,%2C%20or%20%2D%2Ddiff%2Dbcf.\n",
    "# https://vcftools.github.io/perl_module.html#vcf-compare\n",
    "# ./vcftools --vcf input_data.vcf --diff other_data.vcf --out compare\n",
    "# * vcf-compare provides additional statistics from BEDTools including the number of duplicate sites and Venn-Diagram Numbers, which show the number of exclusive variants in each respective VCF file\n",
    "# vcf-compare snp.vcf.gz snp.vcf.gz"
   ]
  },
  {
   "cell_type": "code",
   "execution_count": null,
   "id": "5cdd12de-07f8-4813-9091-650885f165ba",
   "metadata": {},
   "outputs": [],
   "source": [
    "# https://davetang.org/muse/2019/09/02/comparing-vcf-files/"
   ]
  },
  {
   "cell_type": "code",
   "execution_count": null,
   "id": "18a42d1d-7d27-4e9a-b95a-3979b3f02f80",
   "metadata": {},
   "outputs": [],
   "source": [
    "# * BEDTools can be used to compare VCF files but only by comparing genomic coordinates; this can provide a quick answer to how many variants overlap and can be used to calculate a Jaccard index, indicating the amount of overall overlap\n",
    "# intersect reports results with respect to -a\n",
    "# bedtools intersect -u -a first.vcf.gz -b second.vcf.gz | wc -l\n",
    "# 70446\n",
    " \n",
    "# # results differ when the second file is used as -a\n",
    "# bedtools intersect -u -a second.vcf.gz -b first.vcf.gz | wc -l\n",
    "# 70454\n",
    " \n",
    "# bedtools jaccard -a first.vcf.gz -b second.vcf.gz\n",
    "# intersection    union   jaccard n_intersections\n",
    "# 70367   210677  0.334004        70156"
   ]
  },
  {
   "cell_type": "code",
   "execution_count": null,
   "id": "b9d08ddc-93bc-4b9a-9b84-5ac03e80347d",
   "metadata": {},
   "outputs": [],
   "source": [
    "# * bcftools isec also provides Venn-Diagram Numbers and additionally creates VCF files based on these intersections\n",
    "# bcftools isec snp.vcf.gz snp.vcf.gz -p isec"
   ]
  },
  {
   "cell_type": "code",
   "execution_count": null,
   "id": "801d4cd5-fa17-4d84-8ae1-866ad0aa8dea",
   "metadata": {},
   "outputs": [],
   "source": [
    "# https://samtools.github.io/bcftools/bcftools.html#sort\n",
    "# * SnpSift concordance provides intersection counts as well as genotype differences between two VCF files; this is particularly useful for comparing variant calls from two different tools\n",
    "# SnpSift concordance -v snp.vcf snp.vcf > snp_concordance.txt\n",
    "# It is assumed that both VCF files are sorted by chromosome and position.\n",
    "# java -Xmx1g -jar SnpSift.jar concordance -v genotype.vcf sequencing.vcf > concordance.txt\n",
    "# https://pcingola.github.io/SnpEff/snpsift/introduction/"
   ]
  },
  {
   "cell_type": "markdown",
   "id": "53bed6b1-c7d1-4879-8283-c34452265a8b",
   "metadata": {},
   "source": [
    "Performance Metrics: Start by calculating key metrics for each variant calling method, including precision (positive predictive value), recall (sensitivity), accuracy, and F1 score. These metrics will provide a comprehensive view of each method's performance."
   ]
  },
  {
   "cell_type": "markdown",
   "id": "27860c48-cad6-4178-9693-36e37c72d6d3",
   "metadata": {},
   "source": [
    "Confusion Matrix: For each method, create a confusion matrix that shows the number of true positives, false positives, true negatives, and false negatives. This will give you a clear picture of the type of errors made by each method."
   ]
  },
  {
   "cell_type": "markdown",
   "id": "8227fc43-4bb6-4b82-a75b-78436d77bc18",
   "metadata": {},
   "source": [
    "Receiver Operating Characteristic (ROC) Curve: Plot ROC curves for each method. This plot shows the trade-off between true positive rate and false positive rate and is useful for comparing the performance of different methods."
   ]
  },
  {
   "cell_type": "markdown",
   "id": "eba2488e-2dd1-4a67-821f-81e186e59352",
   "metadata": {},
   "source": [
    "Precision-Recall Curve: Especially when dealing with imbalanced datasets (where variants are rare), precision-recall curves can be more informative than ROC curves."
   ]
  },
  {
   "cell_type": "markdown",
   "id": "badc9dbd-a68a-40a6-83c4-c940a3ea5f29",
   "metadata": {},
   "source": [
    "Heatmaps: Use heatmaps to visualize the performance metrics across different genomes and depths of coverage. This can provide an intuitive understanding of how performance varies with these factors.\n",
    "\n",
    "jaccard similarity?\n",
    "AUC"
   ]
  }
 ],
 "metadata": {
  "kernelspec": {
   "display_name": "Julia 1.6.7",
   "language": "julia",
   "name": "julia-1.6"
  },
  "language_info": {
   "file_extension": ".jl",
   "mimetype": "application/julia",
   "name": "julia",
   "version": "1.6.7"
  }
 },
 "nbformat": 4,
 "nbformat_minor": 5
}
