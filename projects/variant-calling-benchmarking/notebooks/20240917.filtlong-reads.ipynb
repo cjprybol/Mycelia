{
 "cells": [
  {
   "cell_type": "code",
   "execution_count": null,
   "id": "92c12118-ef43-4c2b-84cb-b3f18c909fdc",
   "metadata": {},
   "outputs": [],
   "source": [
    "# if hit plotting library issues, try resetting LD path for julia\n",
    "# can set in ~/.local/share/jupyter/kernels/\n",
    "@assert ENV[\"LD_LIBRARY_PATH\"] == \"\"\n",
    "import Pkg\n",
    "Pkg.activate(;temp=true)\n",
    "Pkg.add(\"Revise\")\n",
    "import Revise\n",
    "\n",
    "Pkg.develop(path=\"$(homedir())/workspace/Mycelia\")\n",
    "import Mycelia\n",
    "\n",
    "pkgs = String[\n",
    "    \"ProgressMeter\",\n",
    "]\n",
    "Pkg.add(pkgs)\n",
    "for pkg in pkgs\n",
    "    eval(Meta.parse(\"import $pkg\"))\n",
    "end"
   ]
  },
  {
   "cell_type": "code",
   "execution_count": null,
   "id": "128cc1e1-929a-42e1-8376-4c81832fd40c",
   "metadata": {
    "tags": []
   },
   "outputs": [],
   "source": [
    "PROJECT_BASEDIR = dirname(pwd())\n",
    "data_dir = joinpath(PROJECT_BASEDIR, \"data\")\n",
    "genome_dir = mkpath(joinpath(data_dir, \"genomes\"))"
   ]
  },
  {
   "cell_type": "code",
   "execution_count": null,
   "id": "0f01fc13-bfd2-4627-a2b9-6ab15fd95f64",
   "metadata": {
    "tags": []
   },
   "outputs": [],
   "source": [
    "long_reads = sort(filter(x -> occursin(r\".badread.nanopore2023.\", x) && !occursin(\"filtlong\", x), readdir(genome_dir, join=true)), by=x->filesize(x))"
   ]
  },
  {
   "cell_type": "code",
   "execution_count": null,
   "id": "18fdfc89-ad86-4c69-9d0d-f9deb5376f18",
   "metadata": {},
   "outputs": [],
   "source": [
    "fasta_files = sort(filter(x -> occursin(r\"\\.fna$\", x) && !occursin(\".vcf\", x) && !occursin(\"normalized\", x), readdir(genome_dir, join=true)), by=x->filesize(x))"
   ]
  },
  {
   "cell_type": "code",
   "execution_count": null,
   "id": "67e92404-e8ec-41cd-a4e3-864cde7355a8",
   "metadata": {
    "tags": []
   },
   "outputs": [],
   "source": [
    "ProgressMeter.@showprogress for in_fastq in long_reads\n",
    "    out_fastq = replace(in_fastq, \".fq.gz\" => \".filtlong.fq.gz\")\n",
    "    if !isfile(out_fastq)\n",
    "        @time run(Mycelia.filter_long_reads(in_fastq = in_fastq))\n",
    "        @assert isfile(out_fastq)\n",
    "    else\n",
    "        @info \"$(out_fastq) already present\"\n",
    "    end\n",
    "end"
   ]
  }
 ],
 "metadata": {
  "kernelspec": {
   "display_name": "julia 1.10.5",
   "language": "julia",
   "name": "julia-1.10"
  },
  "language_info": {
   "file_extension": ".jl",
   "mimetype": "application/julia",
   "name": "julia",
   "version": "1.10.5"
  }
 },
 "nbformat": 4,
 "nbformat_minor": 5
}
