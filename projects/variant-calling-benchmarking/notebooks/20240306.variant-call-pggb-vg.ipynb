{
 "cells": [
  {
   "cell_type": "code",
   "execution_count": null,
   "id": "335bf35f-c55e-4857-83f0-ed03dc666f4e",
   "metadata": {
    "tags": []
   },
   "outputs": [],
   "source": [
    "# if hit plotting library issues, try resetting LD path for julia\n",
    "# can set in ~/.local/share/jupyter/kernels/\n",
    "# @assert ENV[\"LD_LIBRARY_PATH\"] == \"\"\n",
    "import Pkg\n",
    "pkgs = [\n",
    "    \"Revise\",\n",
    "    \"FASTX\",\n",
    "    \"ProgressMeter\"\n",
    "    # \"StatsBase\",\n",
    "    # \"Distributions\",\n",
    "    # \"StatsPlots\",\n",
    "    # \"Random\",\n",
    "    # \"Dates\",\n",
    "    # \"DataFrames\",\n",
    "    # \"BioSequences\",\n",
    "    # \"Conda\",\n",
    "    # \"Downloads\"\n",
    "]\n",
    "# Pkg.add(pkgs)\n",
    "for pkg in pkgs\n",
    "    eval(Meta.parse(\"import $pkg\"))\n",
    "end\n",
    "# Pkg.develop(path=\"/global/cfs/projectdirs/m4269/cjprybol/Mycelia\")\n",
    "# Pkg.develop(path=\"../../..\")\n",
    "import Mycelia"
   ]
  },
  {
   "cell_type": "code",
   "execution_count": null,
   "id": "3b73d9e6-3917-45f4-8bad-415f27f191e8",
   "metadata": {
    "tags": []
   },
   "outputs": [],
   "source": [
    "# Pkg.build(\"Mycelia\")"
   ]
  },
  {
   "cell_type": "code",
   "execution_count": null,
   "id": "128cc1e1-929a-42e1-8376-4c81832fd40c",
   "metadata": {
    "tags": []
   },
   "outputs": [],
   "source": [
    "PROJECT_BASEDIR = dirname(pwd())\n",
    "data_dir = joinpath(PROJECT_BASEDIR, \"data\")\n",
    "genome_dir = mkpath(joinpath(data_dir, \"genomes\"))"
   ]
  },
  {
   "cell_type": "code",
   "execution_count": null,
   "id": "a2c51c93-10c4-4e58-b6d6-7523321bd8eb",
   "metadata": {
    "tags": []
   },
   "outputs": [],
   "source": [
    "# https://pggb.readthedocs.io/en/latest/rst/installation.html#bioconda\n",
    "# https://pggb.readthedocs.io/en/latest/rst/installation.html#docker\n",
    "# Mycelia.add_bioconda_env(\"pggb\")"
   ]
  },
  {
   "cell_type": "code",
   "execution_count": null,
   "id": "4cc61d54-e891-4880-8f32-68302a422e8f",
   "metadata": {
    "tags": []
   },
   "outputs": [],
   "source": [
    "# https://github.com/pangenome/PanSN-spec\n",
    "function merge_fasta_files(;fasta_files, fasta_file)\n",
    "    open(fasta_file, \"w\") do io\n",
    "        fastx_io = FASTX.FASTA.Writer(io)\n",
    "        ProgressMeter.@showprogress for f in fasta_files\n",
    "            for (i, record) in enumerate(Mycelia.open_fastx(f))\n",
    "                if occursin(r\"normalized\", f)\n",
    "                    original_record_identifier = FASTX.identifier(record)\n",
    "                    updated_record_identifier = join([basename(f), i, original_record_identifier], \"#\")\n",
    "                    new_record = FASTX.FASTA.Record(updated_record_identifier, FASTX.sequence(record))\n",
    "                    write(fastx_io, new_record)\n",
    "                else\n",
    "                    write(fastx_io, record)\n",
    "                end\n",
    "            end\n",
    "        end\n",
    "        close(fastx_io)\n",
    "    end\n",
    "    return fasta_file\n",
    "end"
   ]
  },
  {
   "cell_type": "code",
   "execution_count": null,
   "id": "4c6c5a8b-86e0-4c62-baeb-bbb3aa913fa6",
   "metadata": {
    "tags": []
   },
   "outputs": [],
   "source": [
    "reference_assemblies = filter(x -> occursin(r\"\\.fna$\", x) && !occursin(\"normalized\", x), readdir(genome_dir))"
   ]
  },
  {
   "cell_type": "code",
   "execution_count": null,
   "id": "c6c11f61-2e51-4f84-86bf-806550f7e844",
   "metadata": {
    "tags": []
   },
   "outputs": [],
   "source": [
    "reference_variant_assemblies = filter(x -> occursin(r\"\\.fna$\", x) && occursin(\"normalized\", x) && !occursin(\"joint\", x), readdir(genome_dir))"
   ]
  },
  {
   "cell_type": "code",
   "execution_count": null,
   "id": "4e031ebf-af7b-49e1-a57f-e46ee93b8711",
   "metadata": {
    "tags": []
   },
   "outputs": [],
   "source": [
    "reference_assemblies_by_id = Dict(first(split(x, '.')) => x for x in reference_assemblies)"
   ]
  },
  {
   "cell_type": "code",
   "execution_count": null,
   "id": "e9c7c7e8-230d-45bc-aac9-b391c14ec8ae",
   "metadata": {
    "tags": []
   },
   "outputs": [],
   "source": [
    "reference_variant_assemblies_by_id = Dict(first(split(x, '.')) => x for x in reference_variant_assemblies)"
   ]
  },
  {
   "cell_type": "code",
   "execution_count": null,
   "id": "31c75bba-f559-4e27-97d3-69cb2068a99f",
   "metadata": {
    "tags": []
   },
   "outputs": [],
   "source": [
    "identifiers = intersect(keys(reference_assemblies_by_id), keys(reference_variant_assemblies_by_id))"
   ]
  },
  {
   "cell_type": "code",
   "execution_count": null,
   "id": "9d950335-9ae2-41fa-9c18-2b3b1a64e538",
   "metadata": {
    "tags": []
   },
   "outputs": [],
   "source": [
    "identifiers = sort(collect(identifiers), by=x->length(x))"
   ]
  },
  {
   "cell_type": "code",
   "execution_count": null,
   "id": "b221a737-3d4a-4d06-ba19-7ef75ec7e065",
   "metadata": {
    "tags": []
   },
   "outputs": [],
   "source": [
    "# identifier = identifiers[1]\n",
    "# identifier = identifiers[2]\n",
    "# identifier = identifiers[3]\n",
    "# identifier = identifiers[4]\n",
    "# identifier = identifiers[5]\n",
    "# identifier = identifiers[6]\n",
    "\n",
    "genomes = [\n",
    "    joinpath(genome_dir, reference_assemblies_by_id[identifier]),\n",
    "    joinpath(genome_dir, reference_variant_assemblies_by_id[identifier])\n",
    "]\n",
    "\n",
    "joint_fasta = \n",
    "join([reference_assemblies_by_id[identifier], reference_variant_assemblies_by_id[identifier]], \"__\") * \".joint.fna\"\n",
    "joint_fasta = joinpath(genome_dir, joint_fasta)\n",
    "\n",
    "merge_fasta_files(fasta_files=genomes, fasta_file=joint_fasta)\n",
    "\n",
    "# Mycelia.add_bioconda_env(\"samtools\")\n",
    "\n",
    "run(`$(Mycelia.MAMBA) run --live-stream -n samtools samtools faidx $(joint_fasta)`)\n",
    "\n",
    "# for record in Mycelia.open_fastx(joint_fasta)\n",
    "#     display(FASTX.identifier(record))\n",
    "# end\n",
    "\n",
    "variant_string = \"$(identifier):#\"\n",
    "\n",
    "outdir = joint_fasta * \"__PGGB\"\n",
    "\n",
    "# # cmd = \"$(Mycelia.MAMBA) run --live-stream -n pggb pggb -i in.fa.gz -o out1 -t 2 -n 2\"\n",
    "# # -V $(variant_string)\n",
    "# # can't get this to work\n",
    "# -V $(variant_string)\n",
    "cmd = `$(Mycelia.MAMBA) run --live-stream -n pggb pggb -i $(joint_fasta) -o $(outdir) -t 2 -n 2`\n",
    "run(cmd)\n",
    "\n",
    "gfa_file = first(filter(x -> occursin(r\"\\.gfa\", x), readdir(outdir, join=true)))\n",
    "\n",
    "path_prefix = first(split(reference_assemblies_by_id[identifier], '.'))\n",
    "\n",
    "cmd = `$(Mycelia.MAMBA) run --live-stream -n vg vg deconstruct --path-prefix $(path_prefix) --ploidy 1 --path-traversals --all-snarls --threads 2 $(gfa_file)`\n",
    "run(pipeline(cmd, gfa_file * \".vcf\"))"
   ]
  }
 ],
 "metadata": {
  "kernelspec": {
   "display_name": "Julia 1.6.7",
   "language": "julia",
   "name": "julia-1.6"
  },
  "language_info": {
   "file_extension": ".jl",
   "mimetype": "application/julia",
   "name": "julia",
   "version": "1.6.7"
  }
 },
 "nbformat": 4,
 "nbformat_minor": 5
}
