{
 "cells": [
  {
   "cell_type": "code",
   "execution_count": null,
   "id": "335bf35f-c55e-4857-83f0-ed03dc666f4e",
   "metadata": {
    "tags": []
   },
   "outputs": [],
   "source": [
    "# if hit plotting library issues, try resetting LD path for julia\n",
    "# can set in ~/.local/share/jupyter/kernels/\n",
    "# @assert ENV[\"LD_LIBRARY_PATH\"] == \"\"\n",
    "import Pkg\n",
    "pkgs = [\n",
    "    \"Revise\",\n",
    "]\n",
    "for pkg in pkgs\n",
    "    eval(Meta.parse(\"import $pkg\"))\n",
    "end\n",
    "import Mycelia"
   ]
  },
  {
   "cell_type": "code",
   "execution_count": null,
   "id": "128cc1e1-929a-42e1-8376-4c81832fd40c",
   "metadata": {
    "tags": []
   },
   "outputs": [],
   "source": [
    "PROJECT_BASEDIR = dirname(pwd())\n",
    "data_dir = joinpath(PROJECT_BASEDIR, \"data\")\n",
    "genome_dir = mkpath(joinpath(data_dir, \"genomes\"))"
   ]
  },
  {
   "cell_type": "code",
   "execution_count": null,
   "id": "3bb1cdac-0817-4522-a7f0-ccd38027f820",
   "metadata": {
    "tags": []
   },
   "outputs": [],
   "source": [
    "short_read_sets = unique(map(x -> match(r\"^(.+\\.\\d+x)\\.\", x).captures[1], filter(x -> occursin(r\"\\.fna\\.art\", x) && occursin(r\"\\.fq\\.gz\", x) && !occursin(\"trimming_report\", x) && !occursin(\"_val_\", x), sort(readdir(genome_dir, join=true), by=x->filesize(x)))))"
   ]
  },
  {
   "cell_type": "code",
   "execution_count": null,
   "id": "12ebeab4-96d6-4e03-952a-6a09b8e17859",
   "metadata": {
    "tags": []
   },
   "outputs": [],
   "source": [
    "threads = 16\n",
    "memory = threads * 2\n",
    "for short_read_set in short_read_sets\n",
    "    # short_read_set = first(short_read_sets)\n",
    "    forward = short_read_set * \".1_val_1.fq.gz\"\n",
    "    reverse = short_read_set * \".2_val_2.fq.gz\"\n",
    "    outdir = short_read_set * \"_megahit\"\n",
    "    if !isdir(outdir)\n",
    "        cmd = \"$(Mycelia.MAMBA) run --live-stream -n megahit megahit --num-cpu-threads $(threads) -1 $(forward) -2 $(reverse) --out-dir $(outdir)\"\n",
    "        Mycelia.nersc_sbatch(\n",
    "            job_name = \"$(basename(outdir))\",\n",
    "            mail_user = \"cameron.prybol@gmail.com\",\n",
    "            logdir = mkpath(\"$(homedir())/workspace/slurmlogs\"),\n",
    "            qos = \"shared\",\n",
    "            cpus_per_task= threads,\n",
    "            cmd = cmd)\n",
    "    else\n",
    "        @info \"$(outdir) already present\"\n",
    "    end\n",
    "end"
   ]
  }
 ],
 "metadata": {
  "kernelspec": {
   "display_name": "Julia 1.6.7",
   "language": "julia",
   "name": "julia-1.6"
  },
  "language_info": {
   "file_extension": ".jl",
   "mimetype": "application/julia",
   "name": "julia",
   "version": "1.6.7"
  }
 },
 "nbformat": 4,
 "nbformat_minor": 5
}
