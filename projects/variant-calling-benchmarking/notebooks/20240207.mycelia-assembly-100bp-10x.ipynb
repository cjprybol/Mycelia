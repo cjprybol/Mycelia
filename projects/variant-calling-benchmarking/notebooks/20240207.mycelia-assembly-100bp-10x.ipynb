{
 "cells": [
  {
   "cell_type": "code",
   "execution_count": null,
   "id": "335bf35f-c55e-4857-83f0-ed03dc666f4e",
   "metadata": {
    "tags": []
   },
   "outputs": [],
   "source": [
    "# if hit plotting library issues, try resetting LD path for julia\n",
    "# can set in ~/.local/share/jupyter/kernels/\n",
    "# @assert ENV[\"LD_LIBRARY_PATH\"] == \"\"\n",
    "import Pkg\n",
    "pkgs = [\n",
    "    \"Revise\",\n",
    "    \"FASTX\",\n",
    "    \"BioSequences\",\n",
    "    \"Kmers\",\n",
    "    \"Graphs\",\n",
    "    \"MetaGraphs\",\n",
    "    \"SparseArrays\",\n",
    "    \"ProgressMeter\",\n",
    "    \"Distributions\",\n",
    "    \"HiddenMarkovModels\",\n",
    "    \"BioAlignments\",\n",
    "    \"StatsBase\"\n",
    "]\n",
    "# Pkg.add(pkgs)\n",
    "for pkg in pkgs\n",
    "    eval(Meta.parse(\"import $pkg\"))\n",
    "end\n",
    "# Pkg.develop(path=\"/global/cfs/projectdirs/m4269/cjprybol/Mycelia\")\n",
    "# Pkg.develop(path=\"../../..\")\n",
    "import Mycelia"
   ]
  },
  {
   "cell_type": "code",
   "execution_count": null,
   "id": "128cc1e1-929a-42e1-8376-4c81832fd40c",
   "metadata": {
    "tags": []
   },
   "outputs": [],
   "source": [
    "PROJECT_BASEDIR = dirname(pwd())\n",
    "data_dir = joinpath(PROJECT_BASEDIR, \"data\")\n",
    "genome_dir = mkpath(joinpath(data_dir, \"genomes\"))"
   ]
  },
  {
   "cell_type": "code",
   "execution_count": null,
   "id": "01ad975e-4976-45af-8157-a8f8656cdd1a",
   "metadata": {
    "tags": []
   },
   "outputs": [],
   "source": [
    "reference_fastas = sort(filter(x -> occursin(r\"\\.fna$\", x) && !occursin(\"normalized\", x), readdir(genome_dir, join=true)), by=x->filesize(x))"
   ]
  },
  {
   "cell_type": "code",
   "execution_count": null,
   "id": "d8bdbaf8-d1a0-471c-a077-eab949fda355",
   "metadata": {
    "tags": []
   },
   "outputs": [],
   "source": [
    "reference_fasta = first(reference_fastas)"
   ]
  },
  {
   "cell_type": "code",
   "execution_count": null,
   "id": "ea39a3f1-b82e-4ed8-a99c-4c9ed1642836",
   "metadata": {
    "tags": []
   },
   "outputs": [],
   "source": [
    "filter(x -> occursin(reference_fasta, x) && occursin(\"10x\", x) && occursin(r\"\\.fq\\.gz$\", x), readdir(genome_dir, join=true))"
   ]
  },
  {
   "cell_type": "code",
   "execution_count": null,
   "id": "1ffc059b-cec6-4165-b446-b44f6ca88c0d",
   "metadata": {
    "tags": []
   },
   "outputs": [],
   "source": [
    "fastq = first(filter(x -> occursin(reference_fasta, x) && occursin(\"10x\", x) && occursin(\"filtlong\", x) && occursin(r\"\\.fq\\.gz$\", x), readdir(genome_dir, join=true)))"
   ]
  },
  {
   "cell_type": "code",
   "execution_count": null,
   "id": "ebdc9d43-8c88-4ae4-827b-e387e09784af",
   "metadata": {
    "tags": []
   },
   "outputs": [],
   "source": [
    "initial_k = Mycelia.assess_dnamer_saturation([fastq], plot=false)"
   ]
  },
  {
   "cell_type": "code",
   "execution_count": null,
   "id": "2c335dce-e4e1-48bd-a0c6-3bae14493904",
   "metadata": {
    "tags": []
   },
   "outputs": [],
   "source": [
    "initial_kmer_type = Kmers.DNAKmer{initial_k}"
   ]
  },
  {
   "cell_type": "code",
   "execution_count": null,
   "id": "51d90756-cb27-4dbf-a24d-08f647eb95af",
   "metadata": {
    "tags": []
   },
   "outputs": [],
   "source": [
    "canonical_kmers = collect(keys(Mycelia.count_canonical_kmers(Kmers.DNAKmer{initial_k}, fastq)))"
   ]
  },
  {
   "cell_type": "code",
   "execution_count": null,
   "id": "9873c23d-1899-409e-a5c0-b16941caa362",
   "metadata": {
    "tags": []
   },
   "outputs": [],
   "source": [
    "stranded_kmer_graph = Mycelia.build_stranded_kmer_graph(canonical_kmers, Mycelia.open_fastx(fastq))"
   ]
  },
  {
   "cell_type": "code",
   "execution_count": null,
   "id": "1d64890c-7d05-4db7-aef8-d9d40ac2f8bf",
   "metadata": {
    "tags": []
   },
   "outputs": [],
   "source": [
    "Mycelia.viterbi_maximum_likelihood_traversals(stranded_kmer_graph)"
   ]
  },
  {
   "cell_type": "code",
   "execution_count": null,
   "id": "edac6d24-d913-4384-aa3a-d004d787c9b8",
   "metadata": {},
   "outputs": [],
   "source": []
  }
 ],
 "metadata": {
  "kernelspec": {
   "display_name": "Julia 1.6.7",
   "language": "julia",
   "name": "julia-1.6"
  },
  "language_info": {
   "file_extension": ".jl",
   "mimetype": "application/julia",
   "name": "julia",
   "version": "1.6.7"
  }
 },
 "nbformat": 4,
 "nbformat_minor": 5
}
