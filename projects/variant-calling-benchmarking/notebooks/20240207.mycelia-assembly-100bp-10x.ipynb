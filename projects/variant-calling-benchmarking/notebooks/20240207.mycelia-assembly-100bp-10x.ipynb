{
 "cells": [
  {
   "cell_type": "code",
   "execution_count": null,
   "id": "335bf35f-c55e-4857-83f0-ed03dc666f4e",
   "metadata": {
    "tags": []
   },
   "outputs": [],
   "source": [
    "# if hit plotting library issues, try resetting LD path for julia\n",
    "# can set in ~/.local/share/jupyter/kernels/\n",
    "# @assert ENV[\"LD_LIBRARY_PATH\"] == \"\"\n",
    "import Pkg\n",
    "pkgs = [\n",
    "    \"Revise\",\n",
    "    \"FASTX\",\n",
    "    \"BioSequences\",\n",
    "    \"Kmers\",\n",
    "    \"Graphs\",\n",
    "    \"MetaGraphs\",\n",
    "    \"SparseArrays\",\n",
    "    \"ProgressMeter\",\n",
    "    \"Distributions\",\n",
    "    \"HiddenMarkovModels\",\n",
    "    \"BioAlignments\",\n",
    "    \"StatsBase\",\n",
    "    \"Primes\"\n",
    "]\n",
    "# Pkg.add(pkgs)\n",
    "for pkg in pkgs\n",
    "    eval(Meta.parse(\"import $pkg\"))\n",
    "end\n",
    "# Pkg.develop(path=\"/global/cfs/projectdirs/m4269/cjprybol/Mycelia\")\n",
    "# Pkg.develop(path=\"../../..\")\n",
    "import Mycelia"
   ]
  },
  {
   "cell_type": "code",
   "execution_count": null,
   "id": "128cc1e1-929a-42e1-8376-4c81832fd40c",
   "metadata": {
    "tags": []
   },
   "outputs": [],
   "source": [
    "PROJECT_BASEDIR = dirname(pwd())\n",
    "data_dir = joinpath(PROJECT_BASEDIR, \"data\")\n",
    "genome_dir = mkpath(joinpath(data_dir, \"genomes\"))"
   ]
  },
  {
   "cell_type": "code",
   "execution_count": null,
   "id": "01ad975e-4976-45af-8157-a8f8656cdd1a",
   "metadata": {
    "tags": []
   },
   "outputs": [],
   "source": [
    "reference_fastas = sort(filter(x -> occursin(r\"\\.fna$\", x) && !occursin(\"normalized\", x), readdir(genome_dir, join=true)), by=x->filesize(x))"
   ]
  },
  {
   "cell_type": "code",
   "execution_count": null,
   "id": "d8bdbaf8-d1a0-471c-a077-eab949fda355",
   "metadata": {
    "tags": []
   },
   "outputs": [],
   "source": [
    "reference_fasta = first(reference_fastas)"
   ]
  },
  {
   "cell_type": "code",
   "execution_count": null,
   "id": "ea39a3f1-b82e-4ed8-a99c-4c9ed1642836",
   "metadata": {
    "tags": []
   },
   "outputs": [],
   "source": [
    "filter(x -> occursin(reference_fasta, x) && occursin(\"10x\", x) && occursin(r\"\\.fq\\.gz$\", x), readdir(genome_dir, join=true))"
   ]
  },
  {
   "cell_type": "code",
   "execution_count": null,
   "id": "1ffc059b-cec6-4165-b446-b44f6ca88c0d",
   "metadata": {
    "tags": []
   },
   "outputs": [],
   "source": [
    "fastq = first(filter(x -> occursin(reference_fasta, x) && occursin(\"10x\", x) && occursin(\"filtlong\", x) && occursin(r\"\\.fq\\.gz$\", x), readdir(genome_dir, join=true)))"
   ]
  },
  {
   "cell_type": "code",
   "execution_count": null,
   "id": "60ebecd8-b3e0-401d-9c04-8a69d8d69c26",
   "metadata": {
    "tags": []
   },
   "outputs": [],
   "source": [
    "k = Mycelia.assess_dnamer_saturation([fastq], plot=false)\n",
    "stranded_kmer_graph = Mycelia.build_stranded_kmer_graph(Kmers.DNAKmer{k}, collect(Mycelia.open_fastx(fastq)))\n",
    "# 141.457417 seconds\n",
    "@time updated_records = Mycelia.viterbi_maximum_likelihood_traversals(stranded_kmer_graph)"
   ]
  },
  {
   "cell_type": "code",
   "execution_count": null,
   "id": "6d0d457c-4f6b-417a-91ad-cde4996dcd4f",
   "metadata": {
    "tags": []
   },
   "outputs": [],
   "source": [
    "k = Primes.nextprime(k + 1)\n",
    "stranded_kmer_graph = Mycelia.build_stranded_kmer_graph(Kmers.DNAKmer{k}, updated_records)\n",
    "@time updated_records = Mycelia.viterbi_maximum_likelihood_traversals(stranded_kmer_graph)"
   ]
  },
  {
   "cell_type": "code",
   "execution_count": null,
   "id": "78e538ad-0a10-4336-921c-eb0bfce8f34f",
   "metadata": {
    "tags": []
   },
   "outputs": [],
   "source": [
    "k = Primes.nextprime(k + 1)\n",
    "stranded_kmer_graph = Mycelia.build_stranded_kmer_graph(Kmers.DNAKmer{k}, updated_records)\n",
    "@time updated_records = Mycelia.viterbi_maximum_likelihood_traversals(stranded_kmer_graph)"
   ]
  },
  {
   "cell_type": "code",
   "execution_count": null,
   "id": "f2b7f2b5-1fe8-45f2-89d8-eae48588cd46",
   "metadata": {
    "tags": []
   },
   "outputs": [],
   "source": [
    "k = Primes.nextprime(k + 1)\n",
    "stranded_kmer_graph = Mycelia.build_stranded_kmer_graph(Kmers.DNAKmer{k}, updated_records)\n",
    "@time updated_records = Mycelia.viterbi_maximum_likelihood_traversals(stranded_kmer_graph)"
   ]
  },
  {
   "cell_type": "code",
   "execution_count": null,
   "id": "b3a8bc7b-333a-4e21-88ae-3edd2b2e8818",
   "metadata": {},
   "outputs": [],
   "source": [
    "temp_fasta = Mycelia.write_fasta(records = updated_records)"
   ]
  },
  {
   "cell_type": "code",
   "execution_count": null,
   "id": "4d88b466-78b0-457f-9e05-d51b5e651e3f",
   "metadata": {
    "tags": []
   },
   "outputs": [],
   "source": [
    "# make my own kmer graph\n",
    "assembly_graph = Mycelia.fastx_to_kmer_graph(Kmers.DNAKmer{k}, temp_fasta)"
   ]
  },
  {
   "cell_type": "code",
   "execution_count": null,
   "id": "b5240719-2f65-404a-93c9-cb079a0d82ed",
   "metadata": {
    "tags": []
   },
   "outputs": [],
   "source": [
    "gfa_file = temp_fasta * \".gfa\""
   ]
  },
  {
   "cell_type": "code",
   "execution_count": null,
   "id": "484513a2-364d-4cd6-bbb4-11d4e8ebea69",
   "metadata": {
    "tags": []
   },
   "outputs": [],
   "source": [
    "Mycelia.graph_to_gfa(graph=assembly_graph, outfile=temp_fasta * \".gfa\")"
   ]
  },
  {
   "cell_type": "code",
   "execution_count": null,
   "id": "170980be-73c4-4897-a6a8-6b060d37846c",
   "metadata": {
    "tags": []
   },
   "outputs": [],
   "source": [
    "image = fastq * \".mycelia.gfa.jpg\""
   ]
  },
  {
   "cell_type": "code",
   "execution_count": null,
   "id": "4c4f61b8-6457-488e-a11f-3483e6823398",
   "metadata": {
    "tags": []
   },
   "outputs": [],
   "source": [
    "# run(`chmod +x $(homedir())/software/bin/Bandage`)\n",
    "run(`$(homedir())/software/bin/Bandage image $(gfa_file) $(image)`)"
   ]
  },
  {
   "cell_type": "code",
   "execution_count": null,
   "id": "20f24d58-0327-4bef-94df-05b4189b6dcd",
   "metadata": {},
   "outputs": [],
   "source": [
    "run(``)"
   ]
  },
  {
   "cell_type": "code",
   "execution_count": null,
   "id": "8fee4e09-eca3-4da8-8f55-8201947aa845",
   "metadata": {},
   "outputs": [],
   "source": [
    "Mycelia.ban"
   ]
  },
  {
   "cell_type": "code",
   "execution_count": null,
   "id": "679a11d3-7725-4738-a008-28e0a45e8203",
   "metadata": {},
   "outputs": [],
   "source": [
    "# simplify it (if I still have that code)"
   ]
  },
  {
   "cell_type": "code",
   "execution_count": null,
   "id": "43607562-cb30-491b-a5b1-68e4ff82da20",
   "metadata": {},
   "outputs": [],
   "source": [
    "# write it to .gfa"
   ]
  },
  {
   "cell_type": "code",
   "execution_count": null,
   "id": "39759568-72cd-4ff9-b06f-a4cc15badcbd",
   "metadata": {},
   "outputs": [],
   "source": [
    "# pass .gfa into PGGB & VG"
   ]
  },
  {
   "cell_type": "code",
   "execution_count": null,
   "id": "01c2564a-9b91-45da-a406-e3e21327350b",
   "metadata": {},
   "outputs": [],
   "source": [
    "# call variants of original against modified"
   ]
  }
 ],
 "metadata": {
  "kernelspec": {
   "display_name": "Julia 1.6.7",
   "language": "julia",
   "name": "julia-1.6"
  },
  "language_info": {
   "file_extension": ".jl",
   "mimetype": "application/julia",
   "name": "julia",
   "version": "1.6.7"
  }
 },
 "nbformat": 4,
 "nbformat_minor": 5
}
