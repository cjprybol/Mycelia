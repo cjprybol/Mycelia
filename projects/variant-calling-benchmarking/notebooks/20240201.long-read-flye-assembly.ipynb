{
 "cells": [
  {
   "cell_type": "code",
   "execution_count": 1,
   "id": "335bf35f-c55e-4857-83f0-ed03dc666f4e",
   "metadata": {
    "tags": []
   },
   "outputs": [
    {
     "name": "stderr",
     "output_type": "stream",
     "text": [
      "\u001b[36m\u001b[1m[ \u001b[22m\u001b[39m\u001b[36m\u001b[1mInfo: \u001b[22m\u001b[39mPrecompiling Mycelia [453d265d-8292-4a7b-a57c-dce3f9ae6acd]\n",
      "\u001b[36m\u001b[1m[ \u001b[22m\u001b[39m\u001b[36m\u001b[1mInfo: \u001b[22m\u001b[39mSkipping precompilation since __precompile__(false). Importing Mycelia [453d265d-8292-4a7b-a57c-dce3f9ae6acd].\n"
     ]
    }
   ],
   "source": [
    "# if hit plotting library issues, try resetting LD path for julia\n",
    "# can set in ~/.local/share/jupyter/kernels/\n",
    "# @assert ENV[\"LD_LIBRARY_PATH\"] == \"\"\n",
    "import Pkg\n",
    "# ENV[\"CONDA_JL_USE_MINIFORGE\"] = \"1\"\n",
    "pkgs = [\n",
    "    \"Revise\",\n",
    "    # \"FASTX\",\n",
    "    # # \"VariantCallFormat\",\n",
    "    # \"StatsBase\",\n",
    "    # \"Distributions\",\n",
    "    # \"StatsPlots\",\n",
    "    # \"Random\",\n",
    "    # \"Dates\",\n",
    "    # \"DataFrames\",\n",
    "    # \"BioSequences\",\n",
    "    # \"Conda\",\n",
    "    # \"Downloads\"\n",
    "]\n",
    "# Pkg.add(pkgs)\n",
    "for pkg in pkgs\n",
    "    eval(Meta.parse(\"import $pkg\"))\n",
    "end\n",
    "# Pkg.develop(path=\"/global/cfs/projectdirs/m4269/cjprybol/Mycelia\")\n",
    "# Pkg.develop(path=\"../../..\")\n",
    "import Mycelia"
   ]
  },
  {
   "cell_type": "code",
   "execution_count": 2,
   "id": "128cc1e1-929a-42e1-8376-4c81832fd40c",
   "metadata": {
    "tags": []
   },
   "outputs": [
    {
     "data": {
      "text/plain": [
       "\"/global/cfs/cdirs/m4269/cjprybol/Mycelia/projects/variant-calling-benchmarking/data/genomes\""
      ]
     },
     "execution_count": 2,
     "metadata": {},
     "output_type": "execute_result"
    }
   ],
   "source": [
    "PROJECT_BASEDIR = dirname(pwd())\n",
    "data_dir = joinpath(PROJECT_BASEDIR, \"data\")\n",
    "genome_dir = mkpath(joinpath(data_dir, \"genomes\"))"
   ]
  },
  {
   "cell_type": "code",
   "execution_count": 3,
   "id": "77897e45-fd85-4ce1-92ed-3b364c198f82",
   "metadata": {
    "tags": []
   },
   "outputs": [
    {
     "data": {
      "text/plain": [
       "18-element Vector{String}:\n",
       " \"/global/cfs/cdirs/m4269/cjprybol/Mycelia/projects/variant-calling-benchmarking/data/genomes/GCF_001610725.1.fna.normalized.vcf.fna.badread.10x.filtlong.fq.gz\"\n",
       " \"/global/cfs/cdirs/m4269/cjprybol/Mycelia/projects/variant-calling-benchmarking/data/genomes/3NEzu1DmBy.fna.normalized.vcf.fna.badread.10x.filtlong.fq.gz\"\n",
       " \"/global/cfs/cdirs/m4269/cjprybol/Mycelia/projects/variant-calling-benchmarking/data/genomes/GCF_001610725.1.fna.normalized.vcf.fna.badread.100x.filtlong.fq.gz\"\n",
       " \"/global/cfs/cdirs/m4269/cjprybol/Mycelia/projects/variant-calling-benchmarking/data/genomes/3NEzu1DmBy.fna.normalized.vcf.fna.badread.100x.filtlong.fq.gz\"\n",
       " \"/global/cfs/cdirs/m4269/cjprybol/Mycelia/projects/variant-calling-benchmarking/data/genomes/19tEIXfKKdzr.fna.normalized.vcf.fna.badread.10x.filtlong.fq.gz\"\n",
       " \"/global/cfs/cdirs/m4269/cjprybol/Mycelia/projects/variant-calling-benchmarking/data/genomes/GCF_024820135.1.fna.normalized.vcf.fna.badread.10x.filtlong.fq.gz\"\n",
       " \"/global/cfs/cdirs/m4269/cjprybol/Mycelia/projects/variant-calling-benchmarking/data/genomes/GCF_023169545.1.fna.normalized.vcf.fna.badread.10x.filtlong.fq.gz\"\n",
       " \"/global/cfs/cdirs/m4269/cjprybol/Mycelia/projects/variant-calling-benchmarking/data/genomes/3NEzu1DmBy.fna.normalized.vcf.fna.badread.1000x.filtlong.fq.gz\"\n",
       " \"/global/cfs/cdirs/m4269/cjprybol/Mycelia/projects/variant-calling-benchmarking/data/genomes/GCF_001610725.1.fna.normalized.vcf.fna.badread.1000x.filtlong.fq.gz\"\n",
       " \"/global/cfs/cdirs/m4269/cjprybol/Mycelia/projects/variant-calling-benchmarking/data/genomes/19tEIXfKKdzr.fna.normalized.vcf.fna.badread.100x.filtlong.fq.gz\"\n",
       " \"/global/cfs/cdirs/m4269/cjprybol/Mycelia/projects/variant-calling-benchmarking/data/genomes/PyN5Z2YLzh7c97.fna.normalized.vcf.fna.badread.10x.filtlong.fq.gz\"\n",
       " \"/global/cfs/cdirs/m4269/cjprybol/Mycelia/projects/variant-calling-benchmarking/data/genomes/GCF_024820135.1.fna.normalized.vcf.fna.badread.100x.filtlong.fq.gz\"\n",
       " \"/global/cfs/cdirs/m4269/cjprybol/Mycelia/projects/variant-calling-benchmarking/data/genomes/GCF_023169545.1.fna.normalized.vcf.fna.badread.100x.filtlong.fq.gz\"\n",
       " \"/global/cfs/cdirs/m4269/cjprybol/Mycelia/projects/variant-calling-benchmarking/data/genomes/PyN5Z2YLzh7c97.fna.normalized.vcf.fna.badread.100x.filtlong.fq.gz\"\n",
       " \"/global/cfs/cdirs/m4269/cjprybol/Mycelia/projects/variant-calling-benchmarking/data/genomes/19tEIXfKKdzr.fna.normalized.vcf.fna.badread.1000x.filtlong.fq.gz\"\n",
       " \"/global/cfs/cdirs/m4269/cjprybol/Mycelia/projects/variant-calling-benchmarking/data/genomes/GCF_024820135.1.fna.normalized.vcf.fna.badread.1000x.filtlong.fq.gz\"\n",
       " \"/global/cfs/cdirs/m4269/cjprybol/Mycelia/projects/variant-calling-benchmarking/data/genomes/GCF_023169545.1.fna.normalized.vcf.fna.badread.1000x.filtlong.fq.gz\"\n",
       " \"/global/cfs/cdirs/m4269/cjprybol/Mycelia/projects/variant-calling-benchmarking/data/genomes/PyN5Z2YLzh7c97.fna.normalized.vcf.fna.badread.1000x.filtlong.fq.gz\""
      ]
     },
     "execution_count": 3,
     "metadata": {},
     "output_type": "execute_result"
    }
   ],
   "source": [
    "long_read_fastqs = sort(filter(x -> occursin(r\"\\.filtlong\\.fq\\.gz$\", x), readdir(genome_dir, join=true)), by=x->filesize(x))"
   ]
  },
  {
   "cell_type": "code",
   "execution_count": null,
   "id": "8317b8e5-ef5d-4a74-9592-c491b133717e",
   "metadata": {
    "tags": []
   },
   "outputs": [],
   "source": [
    "# # metagenomic mode\n",
    "# fastqs_to_rerun = [\n",
    "#     # \"GCF_024820135.1.fna.normalized.vcf.fna.badread.1000x.filtlong.fq.gz\",\n",
    "#     # \"19tEIXfKKdzr.fna.normalized.vcf.fna.badread.1000x.filtlong.fq.gz\",\n",
    "#     # \"GCF_001610725.1.fna.normalized.vcf.fna.badread.1000x.filtlong.fq.gz\",\n",
    "#     # \"3NEzu1DmBy.fna.normalized.vcf.fna.badread.1000x.filtlong.fq.gz\"\n",
    "#     # \"GCF_023169545.1.fna.normalized.vcf.fna.badread.1000x.filtlong.fq.gz\"\n",
    "#     \"PyN5Z2YLzh7c97.fna.normalized.vcf.fna.badread.1000x.filtlong.fq.gz\"\n",
    "# ]\n",
    "# long_read_fastqs = joinpath.(genome_dir, fastqs_to_rerun)"
   ]
  },
  {
   "cell_type": "code",
   "execution_count": 5,
   "id": "0fdb26cf-4dda-4c35-924b-1368a6d75684",
   "metadata": {
    "tags": []
   },
   "outputs": [],
   "source": [
    "threads = 8\n",
    "for long_read_fastq in long_read_fastqs\n",
    "    outdir = mkpath(long_read_fastq * \"_flye\")\n",
    "    outfile = joinpath(outdir, \"assembly.fasta\")\n",
    "    # outfile = joinpath(outdir, \"assembly.fna\")\n",
    "    # if !isdir(outdir) || isempty(readdir(outdir))\n",
    "    if !isfile(outfile) || isempty(outfile)\n",
    "        @info \"$(outfile) not present, generating...\"\n",
    "        # 1000x samples didn't assemble with nano-hq, trying nano-raw\n",
    "        # cmd =\n",
    "        # \"\"\"\n",
    "        # $(Mycelia.MAMBA) run --live-stream -n flye flye --threads $(threads) --meta --nano-hq $(long_read_fastq) --out-dir $(outdir)\n",
    "        # \"\"\"\n",
    "        # Mycelia.nersc_sbatch(\n",
    "        #     job_name = \"$(basename(outdir))\",\n",
    "        #     mail_user = \"cameron.prybol@gmail.com\",\n",
    "        #     logdir = mkpath(\"$(homedir())/workspace/slurmlogs\"),\n",
    "        #     qos = \"shared\",\n",
    "        #     cpus_per_task= threads,\n",
    "        #     cmd = cmd)\n",
    "    else\n",
    "        # @info \"$(outfile) already present...\"\n",
    "    end\n",
    "end"
   ]
  }
 ],
 "metadata": {
  "kernelspec": {
   "display_name": "Julia 1.6.7",
   "language": "julia",
   "name": "julia-1.6"
  },
  "language_info": {
   "file_extension": ".jl",
   "mimetype": "application/julia",
   "name": "julia",
   "version": "1.6.7"
  }
 },
 "nbformat": 4,
 "nbformat_minor": 5
}
