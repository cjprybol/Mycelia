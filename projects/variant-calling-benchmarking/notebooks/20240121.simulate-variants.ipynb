{
 "cells": [
  {
   "cell_type": "code",
   "execution_count": null,
   "id": "335bf35f-c55e-4857-83f0-ed03dc666f4e",
   "metadata": {
    "tags": []
   },
   "outputs": [],
   "source": [
    "# if hit plotting library issues, try resetting LD path for julia\n",
    "# can set in ~/.local/share/jupyter/kernels/\n",
    "# @assert ENV[\"LD_LIBRARY_PATH\"] == \"\"\n",
    "import Pkg\n",
    "pkgs = [\n",
    "    \"Revise\",\n",
    "    \"Random\"\n",
    "]\n",
    "# Pkg.add(pkgs)\n",
    "for pkg in pkgs\n",
    "    eval(Meta.parse(\"import $pkg\"))\n",
    "end\n",
    "# Pkg.develop(path=\"../../..\")\n",
    "import Mycelia"
   ]
  },
  {
   "cell_type": "code",
   "execution_count": null,
   "id": "128cc1e1-929a-42e1-8376-4c81832fd40c",
   "metadata": {
    "tags": []
   },
   "outputs": [],
   "source": [
    "PROJECT_BASEDIR = dirname(pwd())\n",
    "data_dir = joinpath(PROJECT_BASEDIR, \"data\")\n",
    "genome_dir = mkpath(joinpath(data_dir, \"genomes\"))"
   ]
  },
  {
   "cell_type": "code",
   "execution_count": null,
   "id": "5f595137-9815-4ab8-ab49-ec0968af9743",
   "metadata": {
    "tags": []
   },
   "outputs": [],
   "source": [
    "# seed = parse(Int, replace(string(Dates.today()), \"-\" => \"\"))\n",
    "seed = 20240121\n",
    "Random.seed!(seed)"
   ]
  },
  {
   "cell_type": "code",
   "execution_count": null,
   "id": "d73a3b2f-2945-4e69-8143-a28c5b989ca3",
   "metadata": {
    "tags": []
   },
   "outputs": [],
   "source": [
    "fasta_files = sort(filter(x -> occursin(r\"\\.fna$\", x) && !occursin(\".vcf\", x) && !occursin(\"normalized\", x), readdir(genome_dir, join=true)), by=x->filesize(x))"
   ]
  },
  {
   "cell_type": "code",
   "execution_count": null,
   "id": "70cb2022-7d7f-418c-8917-740a7dae2c7a",
   "metadata": {
    "tags": []
   },
   "outputs": [],
   "source": [
    "for fasta_file in fasta_files\n",
    "    outfile = fasta_file * \".normalized.vcf.fna\"\n",
    "    if !isfile(outfile)\n",
    "        @info \"missing $(outfile)\"\n",
    "        Mycelia.simulate_variants(fasta_file)\n",
    "    end\n",
    "end"
   ]
  }
 ],
 "metadata": {
  "kernelspec": {
   "display_name": "Julia 1.6.7",
   "language": "julia",
   "name": "julia-1.6"
  },
  "language_info": {
   "file_extension": ".jl",
   "mimetype": "application/julia",
   "name": "julia",
   "version": "1.6.7"
  }
 },
 "nbformat": 4,
 "nbformat_minor": 5
}
