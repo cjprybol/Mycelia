{
 "cells": [
  {
   "cell_type": "code",
   "execution_count": null,
   "id": "335bf35f-c55e-4857-83f0-ed03dc666f4e",
   "metadata": {
    "tags": []
   },
   "outputs": [],
   "source": [
    "# if hit plotting library issues, try resetting LD path for julia\n",
    "# can set in ~/.local/share/jupyter/kernels/\n",
    "@assert ENV[\"LD_LIBRARY_PATH\"] == \"\"\n",
    "import Pkg\n",
    "pkgs = [\n",
    "    \"Revise\",\n",
    "    \"FASTX\",\n",
    "    \"BioSequences\",\n",
    "    \"Kmers\",\n",
    "    \"Graphs\",\n",
    "    \"MetaGraphs\",\n",
    "    \"SparseArrays\",\n",
    "    \"ProgressMeter\",\n",
    "    \"Distributions\",\n",
    "    \"HiddenMarkovModels\",\n",
    "    \"BioAlignments\",\n",
    "    \"StatsBase\",\n",
    "    \"Random\",\n",
    "    \"StatsPlots\",\n",
    "    \"Statistics\",\n",
    "    # \"GraphMakie\",\n",
    "    \"IterTools\",\n",
    "    \"Primes\",\n",
    "    \"OnlineStats\",\n",
    "    \"IteratorSampling\"\n",
    "]\n",
    "# Pkg.add(pkgs)\n",
    "for pkg in pkgs\n",
    "    eval(Meta.parse(\"import $pkg\"))\n",
    "end\n",
    "# Pkg.develop(path=\"/global/cfs/projectdirs/m4269/cjprybol/Mycelia\")\n",
    "# Pkg.develop(path=\"../../..\")\n",
    "import Mycelia"
   ]
  },
  {
   "cell_type": "code",
   "execution_count": null,
   "id": "128cc1e1-929a-42e1-8376-4c81832fd40c",
   "metadata": {
    "tags": []
   },
   "outputs": [],
   "source": [
    "PROJECT_BASEDIR = dirname(pwd())\n",
    "data_dir = joinpath(PROJECT_BASEDIR, \"data\")\n",
    "genome_dir = mkpath(joinpath(data_dir, \"genomes\"))"
   ]
  },
  {
   "cell_type": "code",
   "execution_count": null,
   "id": "00736937-92d0-4cb6-a933-0cb068457ad1",
   "metadata": {
    "tags": []
   },
   "outputs": [],
   "source": [
    "working_dir = joinpath(data_dir, \"test\")\n",
    "mkpath(working_dir)"
   ]
  },
  {
   "cell_type": "code",
   "execution_count": null,
   "id": "2e294dc9-dc3d-4a15-8e15-70e649200874",
   "metadata": {
    "tags": []
   },
   "outputs": [],
   "source": [
    "# short_read_sets = unique(map(x -> match(r\"^(.+\\.\\d+x)\\.\", x).captures[1], filter(x -> occursin(r\"\\.fna\\.art\", x) && occursin(r\"\\.fq\\.gz\", x) && !occursin(\"trimming_report\", x) && !occursin(\"_val_\", x), sort(readdir(genome_dir, join=true), by=x->filesize(x)))))\n",
    "# # forward = short_read_set * \".1_val_1.fq.gz\"\n",
    "# # reverse = short_read_set * \".2_val_2.fq.gz\""
   ]
  },
  {
   "cell_type": "code",
   "execution_count": null,
   "id": "c4ab3b27-b540-4f4d-8bd3-093e58e0304d",
   "metadata": {
    "tags": []
   },
   "outputs": [],
   "source": [
    "long_read_fastqs = sort(filter(x -> occursin(r\"\\.filtlong\\.fq\\.gz$\", x), readdir(genome_dir, join=true)), by=x->filesize(x))\n",
    "fastq = long_read_fastqs[1]"
   ]
  },
  {
   "cell_type": "code",
   "execution_count": null,
   "id": "9de34fec-79aa-419f-a1a1-dd7dfe664a7b",
   "metadata": {
    "tags": []
   },
   "outputs": [],
   "source": [
    "reference_fasta = replace(fastq, r\"\\.badread.*\" => \"\")"
   ]
  },
  {
   "cell_type": "code",
   "execution_count": null,
   "id": "579257eb-0de0-49a8-9381-d8938a806165",
   "metadata": {
    "tags": []
   },
   "outputs": [],
   "source": [
    "k = Mycelia.assess_dnamer_saturation([fastq])"
   ]
  },
  {
   "cell_type": "code",
   "execution_count": null,
   "id": "05f13336-f70e-4df7-9aaa-2d6388eee430",
   "metadata": {
    "tags": []
   },
   "outputs": [],
   "source": [
    "kmer_type = Kmers.DNAKmer{k, 1}"
   ]
  },
  {
   "cell_type": "code",
   "execution_count": null,
   "id": "6063d332-0f41-41d2-85b8-dd61b512c5b9",
   "metadata": {
    "tags": []
   },
   "outputs": [],
   "source": [
    "reference_kmer_counts = Mycelia.fasta_to_reference_kmer_counts(kmer_type=kmer_type, fasta=reference_fasta)\n",
    "records = collect(Mycelia.open_fastx(fastq))"
   ]
  },
  {
   "cell_type": "code",
   "execution_count": null,
   "id": "279f9c7a-5fca-4933-bd7f-b3a2bd6d5b3b",
   "metadata": {
    "tags": []
   },
   "outputs": [],
   "source": [
    "fit_mean = OnlineStats.fit!(OnlineStats.Mean(), IterTools.chain(FASTX.quality_scores(record) for record in records))"
   ]
  },
  {
   "cell_type": "code",
   "execution_count": null,
   "id": "f2a5a57d-57e5-4318-8951-a3b08f72695e",
   "metadata": {
    "tags": []
   },
   "outputs": [],
   "source": [
    "fit_extrema = OnlineStats.fit!(OnlineStats.Extrema(), IterTools.chain(FASTX.quality_scores(record) for record in records))"
   ]
  },
  {
   "cell_type": "code",
   "execution_count": null,
   "id": "d8a8c62a-c482-43d9-b239-1a9c76151e2c",
   "metadata": {
    "tags": []
   },
   "outputs": [],
   "source": [
    "fit_variance = OnlineStats.fit!(OnlineStats.Variance(), IterTools.chain(FASTX.quality_scores(record) for record in records))\n",
    "standard_deviation = sqrt(OnlineStats.value(fit_variance))"
   ]
  },
  {
   "cell_type": "code",
   "execution_count": null,
   "id": "1f625efd-5846-48af-a6dd-ad89d4045e36",
   "metadata": {
    "tags": []
   },
   "outputs": [],
   "source": [
    "read_quality_scores = [collect(FASTX.quality_scores(record)) for record in records]"
   ]
  },
  {
   "cell_type": "code",
   "execution_count": null,
   "id": "ec214160-5b53-452a-bbb6-9aaf9ec6390a",
   "metadata": {
    "tags": []
   },
   "outputs": [],
   "source": [
    "# make a dictionary associating all kmers with their quality scores\n",
    "all_kmer_quality_support = Dict{kmer_type, Vector{Float64}}()\n",
    "for record in records\n",
    "    record_quality_scores = collect(FASTX.quality_scores(record))\n",
    "    record_quality_score_slices = [record_quality_scores[i:i+k-1] for i in 1:length(record_quality_scores)-k+1]\n",
    "    sequence = BioSequences.LongDNA{2}(FASTX.sequence(record))\n",
    "    for ((i, kmer), kmer_base_qualities) in zip(Kmers.EveryKmer{kmer_type}(sequence), record_quality_score_slices)\n",
    "        if haskey(all_kmer_quality_support, kmer)\n",
    "            all_kmer_quality_support[kmer] = all_kmer_quality_support[kmer] .+ kmer_base_qualities\n",
    "        else\n",
    "            all_kmer_quality_support[kmer] = kmer_base_qualities\n",
    "        end\n",
    "    end\n",
    "end\n",
    "\n",
    "kmer_counts = Mycelia.count_kmers(kmer_type, fastq)\n",
    "kmer_indices = Dict(kmer => i for (i, kmer) in enumerate(keys(kmer_counts)))\n",
    "canonical_kmer_counts = Mycelia.count_canonical_kmers(kmer_type, fastq)\n",
    "canonical_kmer_indices = Dict(kmer => i for (i, kmer) in enumerate(keys(canonical_kmer_counts)))\n",
    "reference_kmers = sort(collect(keys(reference_kmer_counts)))\n",
    "\n",
    "strand_normalized_quality_support = Dict{kmer_type, Vector{Float64}}()\n",
    "for (kmer, support) in all_kmer_quality_support\n",
    "    strand_normalized_quality_support[kmer] = support\n",
    "    if haskey(all_kmer_quality_support, BioSequences.reverse_complement(kmer))\n",
    "        strand_normalized_quality_support[kmer] .+= all_kmer_quality_support[BioSequences.reverse_complement(kmer)]\n",
    "    end\n",
    "end"
   ]
  },
  {
   "cell_type": "code",
   "execution_count": null,
   "id": "fef75c16-f177-44bf-9f79-2f2113d71f2c",
   "metadata": {
    "tags": []
   },
   "outputs": [],
   "source": [
    "kmer_total_quality = Dict(kmer => sum(quality_values) for (kmer, quality_values) in strand_normalized_quality_support)\n",
    "# state_likelihoods = Dict(kmer => kmer_count / total_kmers for (kmer, kmer_count) in kmer_counts)\n",
    "state_likelihoods = Dict(kmer => total_quality / sum(values(kmer_total_quality)) for (kmer, total_quality) in kmer_total_quality)"
   ]
  },
  {
   "cell_type": "code",
   "execution_count": null,
   "id": "38e20080-95f8-4f69-8b2f-b0b0cd3c3ad5",
   "metadata": {
    "tags": []
   },
   "outputs": [],
   "source": [
    "total_states = length(state_likelihoods)"
   ]
  },
  {
   "cell_type": "code",
   "execution_count": null,
   "id": "b7888ae2-e1dc-4985-8c4a-55cd2d08ca86",
   "metadata": {
    "tags": []
   },
   "outputs": [],
   "source": [
    "transition_likelihoods = SparseArrays.spzeros(total_states, total_states)\n",
    "for record in records\n",
    "    sequence = BioSequences.LongDNA{4}(FASTX.sequence(record))\n",
    "    sources = Kmers.EveryKmer{kmer_type}(sequence[1:end-1])\n",
    "    destinations = Kmers.EveryKmer{kmer_type}(sequence[2:end])\n",
    "    for ((source_i, source), (destination_i, destination)) in zip(sources, destinations)\n",
    "        source_index = kmer_indices[source]\n",
    "        destination_index = kmer_indices[destination]\n",
    "        transition_likelihoods[source_index, destination_index] += 1\n",
    "    end\n",
    "end\n",
    "for source in 1:total_states\n",
    "    # @show source\n",
    "    outgoing_transition_counts = transition_likelihoods[source, :]\n",
    "    if sum(outgoing_transition_counts) > 0\n",
    "        transition_likelihoods[source, :] .= transition_likelihoods[source, :] ./ sum(transition_likelihoods[source, :]) \n",
    "    end\n",
    "end\n",
    "transition_likelihoods"
   ]
  },
  {
   "cell_type": "code",
   "execution_count": null,
   "id": "b4c6762a-3974-464e-aff9-8f5b01fd344b",
   "metadata": {
    "tags": []
   },
   "outputs": [],
   "source": [
    "g = Graphs.SimpleDiGraph(total_states)\n",
    "row_indices, column_indices, cell_values = SparseArrays.findnz(transition_likelihoods)\n",
    "for (row, col) in zip(row_indices, column_indices)\n",
    "    Graphs.add_edge!(g, row, col)\n",
    "end\n",
    "g"
   ]
  },
  {
   "cell_type": "code",
   "execution_count": null,
   "id": "312f8853-00c7-4d47-8de8-29cf989ac3ec",
   "metadata": {
    "tags": []
   },
   "outputs": [],
   "source": [
    "unbranching_nodes = Set(Int[])\n",
    "for node in Graphs.vertices(g)\n",
    "    if (Graphs.indegree(g, node) <= 1) && (Graphs.outdegree(g, node) <= 1)\n",
    "        push!(unbranching_nodes, node)\n",
    "    end\n",
    "end\n",
    "unvisited_unbranching_nodes = Set(unbranching_nodes)\n",
    "\n",
    "branching_nodes = setdiff(Graphs.vertices(g), unbranching_nodes)\n",
    "for branching_node in branching_nodes\n",
    "    @assert Graphs.degree(g, branching_node) >= 2\n",
    "end\n",
    "inbranching_nodes = filter(node -> Graphs.indegree(g, node) > 1, branching_nodes)\n",
    "outbranching_nodes = filter(node -> Graphs.outdegree(g, node) > 1, branching_nodes)\n",
    "\n",
    "unbranching_paths = []\n",
    "while !isempty(unvisited_unbranching_nodes)\n",
    "    current_path = [rand(unvisited_unbranching_nodes)]\n",
    "    delete!(unvisited_unbranching_nodes, first(current_path))\n",
    "\n",
    "    outneighbors = Graphs.outneighbors(g, last(current_path))\n",
    "\n",
    "    while length(outneighbors) == 1\n",
    "        outneighbor = first(outneighbors)\n",
    "        outneighbors_inneighbors = Graphs.inneighbors(g, outneighbor)\n",
    "        if outneighbors_inneighbors == [last(current_path)]\n",
    "            push!(current_path, outneighbor)\n",
    "            delete!(unvisited_unbranching_nodes, outneighbor)\n",
    "            outneighbors = Graphs.outneighbors(g, outneighbor)\n",
    "        else\n",
    "            @assert length(outneighbors_inneighbors) > 1\n",
    "            push!(current_path, outneighbor)\n",
    "            delete!(unvisited_unbranching_nodes, outneighbor)\n",
    "            break\n",
    "        end\n",
    "    end\n",
    "    inneighbors = Graphs.inneighbors(g, first(current_path))\n",
    "    while length(inneighbors) == 1\n",
    "        inneighbor = first(inneighbors)\n",
    "        inneighbors_outneighbors = Graphs.outneighbors(g, inneighbor)\n",
    "        if inneighbors_outneighbors == [first(current_path)]\n",
    "            pushfirst!(current_path, inneighbor)\n",
    "            delete!(unvisited_unbranching_nodes, inneighbor)\n",
    "            inneighbors = Graphs.inneighbors(g, inneighbor)\n",
    "        else\n",
    "            @assert length(inneighbors_outneighbors) > 1\n",
    "            pushfirst!(current_path, inneighbor)\n",
    "            delete!(unvisited_unbranching_nodes, inneighbor)\n",
    "            break\n",
    "        end\n",
    "    end\n",
    "    push!(unbranching_paths, current_path)\n",
    "end\n",
    "unbranching_paths\n",
    "\n",
    "ordered_kmers = collect(keys(kmer_counts))"
   ]
  },
  {
   "cell_type": "code",
   "execution_count": null,
   "id": "8e3f6f4c-f749-4889-8b3b-323d281b37f2",
   "metadata": {},
   "outputs": [],
   "source": [
    "total_strand_normalized_quality_support = sum.(collect(values(strand_normalized_quality_support)))\n",
    "# minimum_average = min(Statistics.mean(total_strand_normalized_quality_support), Statistics.median(total_strand_normalized_quality_support))\n",
    "mean_total_support = Statistics.mean(total_strand_normalized_quality_support)\n",
    "Statistics.std(total_strand_normalized_quality_support)\n",
    "test_is_single_distribution = HypothesisTests.ExactOneSampleKSTest(total_strand_normalized_quality_support, Distributions.Normal())\n",
    "if HypothesisTests.pvalue(test_is_single_distribution) < 1e-3\n",
    "    @show \"p = $(HypothesisTests.pvalue(test_is_single_distribution)) rejecting error-free hypothesis & entering error correction\"\n",
    "else\n",
    "    @show \"single distribution detected, this data may be error-free\"\n",
    "end"
   ]
  },
  {
   "cell_type": "code",
   "execution_count": null,
   "id": "e255f07a-1c8d-43fc-9af3-80cbe30c72b9",
   "metadata": {
    "tags": []
   },
   "outputs": [],
   "source": [
    "path_support = Vector{Float64}[]\n",
    "for unbranching_path in unbranching_paths\n",
    "    push!(path_support, [state_likelihoods[collect(keys(kmer_counts))[state]] for state in unbranching_path])\n",
    "    # push!(path_support, [kmer_quality_support[collect(keys(kmer_counts))[state]] for state in unbranching_path])\n",
    "end\n",
    "path_support\n",
    "\n",
    "p = StatsPlots.scatter(\n",
    "    # sort(Statistics.mean.(path_support)),\n",
    "    sort(Statistics.median.(path_support)),\n",
    "    title = \"median kmer likelihood of unbranching paths\",\n",
    "    legend=false,\n",
    "    ylabel = \"\"\n",
    ")\n",
    "\n",
    "# low_support_path_unbranching_path_indices = findall(Statistics.mean.(path_support) .< Statistics.median(Statistics.mean.(path_support)))\n",
    "# low_support_path_unbranching_path_indices = findall(Statistics.mean.(path_support) .< Statistics.median(Statistics.mean.(path_support)))\n",
    "\n",
    "StatsPlots.hline!(p, [Statistics.mean(Statistics.median.(path_support))], label = \"mean of the medians\")"
   ]
  },
  {
   "cell_type": "code",
   "execution_count": null,
   "id": "2ce46254-66bd-4602-90b2-978d75384f67",
   "metadata": {},
   "outputs": [],
   "source": [
    "# now use the shortest path algorithm"
   ]
  },
  {
   "cell_type": "code",
   "execution_count": null,
   "id": "377145f2-426c-43a0-9c1e-48eba66052ad",
   "metadata": {},
   "outputs": [],
   "source": [
    "Use yen k shortest paths to find the best replacement route for flagged routes that we are going to drop\n",
    "    \n",
    "distances = 1 / median"
   ]
  },
  {
   "cell_type": "code",
   "execution_count": null,
   "id": "2acaaf2b-fac1-4cba-807a-315f876c86de",
   "metadata": {},
   "outputs": [],
   "source": [
    "distance matrix is "
   ]
  },
  {
   "cell_type": "code",
   "execution_count": null,
   "id": "29eb6990-df8b-409e-ae16-00f04368c70f",
   "metadata": {},
   "outputs": [],
   "source": [
    "# let's read in the original genome in the forward and backward orientations to identify which kmers are actually true"
   ]
  },
  {
   "cell_type": "code",
   "execution_count": null,
   "id": "45cec0c7-c622-46c8-9691-8bfba9e6a1f2",
   "metadata": {},
   "outputs": [],
   "source": [
    "# which nodes are not in the unbranching paths - should only be the hub nodes that would be the basis of the simplified graph?\n"
   ]
  },
  {
   "cell_type": "code",
   "execution_count": null,
   "id": "d30495eb-2b8c-4e80-ba2b-c83e3c8d5486",
   "metadata": {},
   "outputs": [],
   "source": [
    "Graphs.inneighbors(g, unbranching_paths[1])"
   ]
  },
  {
   "cell_type": "code",
   "execution_count": null,
   "id": "89ebe989-4dfb-4c99-a87d-23f0ad8cc4be",
   "metadata": {
    "tags": []
   },
   "outputs": [],
   "source": [
    "unbranching_paths"
   ]
  },
  {
   "cell_type": "code",
   "execution_count": null,
   "id": "d8c6a9ae-1446-4ad0-afb3-f9e391cd89d0",
   "metadata": {
    "tags": []
   },
   "outputs": [],
   "source": [
    "\n",
    "\n",
    "# low_support_path_unbranching_path_indices = findall(Statistics.mean.(path_support) .< Statistics.median(Statistics.mean.(path_support)))\n",
    "# low_support_path_unbranching_path_indices = findall(Statistics.mean.(path_support) .< Statistics.median(Statistics.mean.(path_support)))\n",
    "\n",
    "# StatsPlots.hline!(p, [Statistics.mean(Statistics.median.(path_support))], label = \"mean of the medians\")\n",
    "# StatsPlots.hline!(p, [Statistics.median(Statistics.mean.(path_support))], label = \"median of the means\")"
   ]
  },
  {
   "cell_type": "code",
   "execution_count": null,
   "id": "c0a787a8-9d2a-41d3-b87b-81efce9a463c",
   "metadata": {
    "tags": []
   },
   "outputs": [],
   "source": [
    "path_support = Vector{Float64}[]\n",
    "for unbranching_path in unbranching_paths\n",
    "    # push!(path_support, [state_likelihoods[collect(keys(kmer_counts))[state]] for state in unbranching_path])\n",
    "    push!(path_support, [kmer_quality_support[collect(keys(kmer_counts))[state]] for state in unbranching_path])\n",
    "end\n",
    "path_support\n",
    "\n",
    "p = StatsPlots.scatter(\n",
    "    sort(Statistics.mean.(path_support)),\n",
    "    title = \"average kmer quality score of unbranching paths\",\n",
    "    labels=\"mean unbranching path likelihood\",\n",
    "    ylabel = \"\"\n",
    ")\n",
    "\n",
    "low_support_path_unbranching_path_indices = findall(Statistics.mean.(path_support) .< Statistics.median(Statistics.mean.(path_support)))\n",
    "\n",
    "# StatsPlots.hline!(p, [Statistics.mean(Statistics.median.(path_support))], label = \"mean of the medians\")\n",
    "StatsPlots.hline!(p, [Statistics.median(Statistics.mean.(path_support))], label = \"median of the means\")"
   ]
  },
  {
   "cell_type": "code",
   "execution_count": null,
   "id": "504d9c44-e629-43aa-98a1-b558f32ddbac",
   "metadata": {
    "tags": []
   },
   "outputs": [],
   "source": [
    "quality_threshold = min(Statistics.median(quality_scores), Statistics.mean(quality_scores))"
   ]
  },
  {
   "cell_type": "code",
   "execution_count": null,
   "id": "dadeceda-e13c-4db2-add0-6e9a01d005dc",
   "metadata": {
    "tags": []
   },
   "outputs": [],
   "source": [
    "state_likelihood_threshold = min(Statistics.mean(collect(values(state_likelihoods))), Statistics.median(collect(values(state_likelihoods))))"
   ]
  },
  {
   "cell_type": "code",
   "execution_count": null,
   "id": "60c8e1c6-c0a5-457a-b0a0-fd51e4aa0085",
   "metadata": {
    "tags": []
   },
   "outputs": [],
   "source": [
    "nonzero_transition_likelihoods = filter(x -> x > 0, vec(transition_likelihoods))"
   ]
  },
  {
   "cell_type": "code",
   "execution_count": null,
   "id": "fb31b8ff-38fb-44a0-82c4-23a92876a9cb",
   "metadata": {
    "tags": []
   },
   "outputs": [],
   "source": [
    "transition_likelihood_treshold = min(Statistics.mean(nonzero_transition_likelihoods), Statistics.median(nonzero_transition_likelihoods))"
   ]
  },
  {
   "cell_type": "code",
   "execution_count": null,
   "id": "64d11987-2148-45f4-bdf6-738f81011de7",
   "metadata": {
    "tags": []
   },
   "outputs": [],
   "source": [
    "kmer_count_threshold = Statistics.mean(collect(values(kmer_counts)))"
   ]
  },
  {
   "cell_type": "code",
   "execution_count": null,
   "id": "0f73428d-ddb3-4b3b-82d2-18ea79c0408a",
   "metadata": {
    "tags": []
   },
   "outputs": [],
   "source": [
    "record = first(records)\n",
    "\n",
    "sequence = BioSequences.LongDNA{4}(FASTX.sequence(record))\n",
    "\n",
    "record_kmers = Kmers.EveryKmer{kmer_type}(sequence)\n",
    "\n",
    "record_quality_scores = collect(FASTX.quality_scores(record))\n",
    "record_quality_score_slices = [record_quality_scores[i:i+k-1] for i in 1:length(record_quality_scores)-k+1]\n",
    "\n",
    "kmer_count_values = [kmer_counts[kmer] for kmer in last.(Kmers.EveryKmer{kmer_type}(sequence))]\n",
    "p = StatsPlots.plot(\n",
    "    kmer_count_values,\n",
    "    title = \"state frequency across fastq record\",\n",
    "    xlabel = \"read index\",\n",
    "    ylabel = \"total equivalent observations\",\n",
    "    labels = \"# of equivalent observations\"\n",
    ")\n",
    "StatsPlots.hline!(p, [kmer_count_threshold], label = \"threshold\")"
   ]
  },
  {
   "cell_type": "code",
   "execution_count": null,
   "id": "56272766-1da8-451e-9487-c16c5090dde9",
   "metadata": {
    "tags": []
   },
   "outputs": [],
   "source": [
    "p = StatsPlots.plot(\n",
    "    [\n",
    "        Statistics.mean.(record_quality_score_slices),\n",
    "    ],\n",
    "    ylabel = \"quality score\",\n",
    "    xlabel = \"read index\",\n",
    "    title = \"quality scores across fastq record\",\n",
    "    labels = \"mean\"\n",
    ")\n",
    "StatsPlots.hline!(p, [quality_threshold], labels = \"quality threshold\")"
   ]
  },
  {
   "cell_type": "code",
   "execution_count": null,
   "id": "21cb6bdf-54e9-46a8-a014-828bd5602363",
   "metadata": {
    "tags": []
   },
   "outputs": [],
   "source": [
    "sources = Kmers.EveryKmer{kmer_type}(sequence[1:end-1])\n",
    "destinations = Kmers.EveryKmer{kmer_type}(sequence[2:end])\n",
    "transition_likelihood_values = [transition_likelihoods[kmer_indices[source], kmer_indices[destination]] for ((source_i, source), (destination_i, destination)) in zip(sources, destinations)]\n",
    "\n",
    "p = StatsPlots.plot(\n",
    "    transition_likelihood_values,\n",
    "    title = \"transition likelihoods across fastq record\",\n",
    "    label = false,\n",
    "    ylabel = \"relative likelihood\",\n",
    "    xlabel = \"read index\"\n",
    ")\n",
    "StatsPlots.hline!(p, [transition_likelihood_treshold], label = \"threshold\")"
   ]
  },
  {
   "cell_type": "code",
   "execution_count": null,
   "id": "89a84806-707a-4cb5-8080-50a995830466",
   "metadata": {
    "tags": []
   },
   "outputs": [],
   "source": [
    "kmer_count_flags = findall(kmer_count_values .< kmer_count_threshold)"
   ]
  },
  {
   "cell_type": "code",
   "execution_count": null,
   "id": "176aa2ce-25e2-4f49-a369-c207fbec2ad4",
   "metadata": {
    "tags": []
   },
   "outputs": [],
   "source": [
    "quality_score_flags = findall(Statistics.mean.(record_quality_score_slices) .< quality_threshold)"
   ]
  },
  {
   "cell_type": "code",
   "execution_count": null,
   "id": "55705900-7969-4723-9b7d-3cf77058dcad",
   "metadata": {
    "tags": []
   },
   "outputs": [],
   "source": [
    "\n",
    "\n",
    "transition_likelihood_flags = findall(transition_likelihood_values .< transition_likelihood_treshold)\n",
    "hit_results = StatsBase.countmap(vcat(kmer_count_flags, quality_score_flags, transition_likelihood_flags))\n",
    "StatsPlots.scatter(\n",
    "    first.(sort(collect(hit_results))),\n",
    "    last.(sort(collect(hit_results))),\n",
    "    legend = false,\n",
    "    title = \"# of flags thrown at record index\",\n",
    "    ylabel = \"# of flags\",\n",
    "    xlabel = \"record index\"\n",
    ")"
   ]
  },
  {
   "cell_type": "code",
   "execution_count": null,
   "id": "607463df-c852-489a-9ce3-02d4b9c0b293",
   "metadata": {
    "tags": []
   },
   "outputs": [],
   "source": [
    "universally_flagged_indices = sort(collect(keys(filter(hit_result -> hit_result[2] == maximum(values(hit_results)), hit_results))))\n",
    "universally_flagged_kmers = last.(collect(record_kmers))[universally_flagged_indices]\n",
    "universally_flagged_kmer_indices = sort([kmer_indices[universally_flagged_kmer] for universally_flagged_kmer in universally_flagged_kmers])\n",
    "\n",
    "intersect(universally_flagged_kmer_indices, reduce(vcat, unbranching_paths[low_support_path_unbranching_path_indices]))"
   ]
  },
  {
   "cell_type": "code",
   "execution_count": null,
   "id": "a1b2ae89-72e1-49cd-a20a-90701a46a3bc",
   "metadata": {
    "tags": []
   },
   "outputs": [],
   "source": [
    "universally_flagged_kmer_indices"
   ]
  },
  {
   "cell_type": "code",
   "execution_count": null,
   "id": "66d44982-f7a9-4032-a71c-0479927ab786",
   "metadata": {
    "tags": []
   },
   "outputs": [],
   "source": [
    "reduce(vcat, unbranching_paths[low_support_path_unbranching_path_indices])"
   ]
  },
  {
   "cell_type": "code",
   "execution_count": null,
   "id": "97e892ba-dcfe-4531-b42e-c160767438ce",
   "metadata": {
    "tags": []
   },
   "outputs": [],
   "source": [
    "# flag low quality kmers to resample\n",
    "# with yen_k\n",
    "# strand_normalized_quality_support"
   ]
  },
  {
   "cell_type": "code",
   "execution_count": null,
   "id": "6fe0f9b7-88b1-4938-9e7c-ff1d96aed3fe",
   "metadata": {},
   "outputs": [],
   "source": [
    "# simplify graph"
   ]
  },
  {
   "cell_type": "code",
   "execution_count": null,
   "id": "24b0b49f-69a8-4184-af93-ad0b3f9719f6",
   "metadata": {},
   "outputs": [],
   "source": [
    "# if low quality kmer present, backtrack to drop entire segment and resample"
   ]
  },
  {
   "cell_type": "code",
   "execution_count": null,
   "id": "51441544-19bf-43ac-98cb-1ad7966a43f4",
   "metadata": {
    "tags": []
   },
   "outputs": [],
   "source": [
    "# low_support_unbranching_paths = Dict(x => iunbranching_paths[low_support_paths]"
   ]
  },
  {
   "cell_type": "code",
   "execution_count": null,
   "id": "61eb6dcf-b2c6-4968-92ee-569f31b5d3d4",
   "metadata": {},
   "outputs": [],
   "source": [
    "# for low_support_unbranching_paths"
   ]
  },
  {
   "cell_type": "code",
   "execution_count": null,
   "id": "8318abc0-60c6-42a2-a921-db30aa55957a",
   "metadata": {
    "tags": []
   },
   "outputs": [],
   "source": [
    "# function polish_fastx(fastx; k=Mycelia.assess_dnamer_saturation([fastx], plot=false))\n",
    "#     kmer_type = Kmers.DNAKmer{k}\n",
    "#     canonical_kmer_counts = Mycelia.count_canonical_kmers(kmer_type, fastx)\n",
    "    \n",
    "    \n",
    "#     solid_threshold = floor(Statistics.mean(values(canonical_kmer_counts)))\n",
    "#     # solid_threshold\n",
    "#     @show solid_threshold\n",
    "    \n",
    "#     stranded_kmer_counts = copy(canonical_kmer_counts)\n",
    "#     for (canonical_kmer, count) in canonical_kmer_counts\n",
    "#         stranded_kmer_counts[BioSequences.reverse_complement(canonical_kmer)] = count\n",
    "#     end\n",
    "#     sort!(stranded_kmer_counts)\n",
    "\n",
    "#     stranded_kmer_graph = MetaGraphs.MetaDiGraph(length(stranded_kmer_counts))\n",
    "#     MetaGraphs.set_prop!(stranded_kmer_graph, :k, k)\n",
    "#     for (i, (stranded_kmer, count)) in enumerate(stranded_kmer_counts)\n",
    "#         MetaGraphs.set_prop!(stranded_kmer_graph, i, :kmer, stranded_kmer)\n",
    "#         MetaGraphs.set_prop!(stranded_kmer_graph, i, :count, count)\n",
    "#     end\n",
    "#     MetaGraphs.set_indexing_prop!(stranded_kmer_graph, :kmer)\n",
    "#     # stranded_kmer_graph\n",
    "#     records = collect(Mycelia.open_fastx(fastx))\n",
    "#     for record in records\n",
    "#         sequence = BioSequences.LongDNA{4}(FASTX.sequence(record))\n",
    "#         sources = Kmers.EveryKmer{kmer_type}(sequence[1:end-1])\n",
    "#         destinations = Kmers.EveryKmer{kmer_type}(sequence[2:end])\n",
    "#         for (i, ((source_i, source), (destination_i, destination))) in enumerate(zip(sources, destinations))\n",
    "#             source_vertex = stranded_kmer_graph[source, :kmer]\n",
    "#             destination_vertex = stranded_kmer_graph[destination, :kmer]\n",
    "#             edge = Graphs.Edge(source_vertex, destination_vertex)\n",
    "#             observation = (record_identifier = FASTX.description(record), index = i, orientation = true)\n",
    "#             if !Graphs.has_edge(stranded_kmer_graph, edge)\n",
    "#                 Graphs.add_edge!(stranded_kmer_graph, edge)\n",
    "#                 MetaGraphs.set_prop!(stranded_kmer_graph, edge, :observations, Set([observation]))\n",
    "#             else\n",
    "#                 observations = push!(MetaGraphs.get_prop(stranded_kmer_graph, edge, :observations), observation)\n",
    "#                 MetaGraphs.set_prop!(stranded_kmer_graph, edge, :observations, observations)\n",
    "#             end\n",
    "\n",
    "#             # reverse_complement!\n",
    "#             source_vertex = stranded_kmer_graph[BioSequences.reverse_complement(destination), :kmer]\n",
    "#             destination_vertex = stranded_kmer_graph[BioSequences.reverse_complement(source), :kmer]\n",
    "#             edge = Graphs.Edge(source_vertex, destination_vertex)\n",
    "#             observation = (record_identifier = FASTX.description(record), index = i, orientation = false)\n",
    "#             if !Graphs.has_edge(stranded_kmer_graph, edge)\n",
    "#                 Graphs.add_edge!(stranded_kmer_graph, edge)\n",
    "#                 MetaGraphs.set_prop!(stranded_kmer_graph, edge, :observations, Set([observation]))\n",
    "#             else\n",
    "#                 observations = push!(MetaGraphs.get_prop(stranded_kmer_graph, edge, :observations), observation)\n",
    "#                 MetaGraphs.set_prop!(stranded_kmer_graph, edge, :observations, observations)\n",
    "#             end\n",
    "#         end\n",
    "#     end\n",
    "#     stranded_kmer_graph\n",
    "\n",
    "#     unbranching_nodes = Int[]\n",
    "#     for node in Graphs.vertices(stranded_kmer_graph)\n",
    "#         if (Graphs.indegree(stranded_kmer_graph, node) == 1) && (Graphs.outdegree(stranded_kmer_graph, node) == 1)\n",
    "#             push!(unbranching_nodes, node)\n",
    "#         end\n",
    "#     end\n",
    "#     unvisited_unbranching_nodes = Set(unbranching_nodes)\n",
    "\n",
    "#     unbranching_paths = []\n",
    "#     while !isempty(unvisited_unbranching_nodes)\n",
    "#         current_path = [rand(unvisited_unbranching_nodes)]\n",
    "#         delete!(unvisited_unbranching_nodes, first(current_path))\n",
    "\n",
    "#         outneighbors = Graphs.outneighbors(stranded_kmer_graph, last(current_path))\n",
    "\n",
    "#         while length(outneighbors) == 1\n",
    "#             outneighbor = first(outneighbors)\n",
    "#             outneighbors_inneighbors = Graphs.inneighbors(stranded_kmer_graph, outneighbor)\n",
    "#             if outneighbors_inneighbors == [last(current_path)]\n",
    "#                 push!(current_path, outneighbor)\n",
    "#                 delete!(unvisited_unbranching_nodes, outneighbor)\n",
    "#                 outneighbors = Graphs.outneighbors(stranded_kmer_graph, outneighbor)\n",
    "#             else\n",
    "#                 @assert length(outneighbors_inneighbors) > 1\n",
    "#                 push!(current_path, outneighbor)\n",
    "#                 delete!(unvisited_unbranching_nodes, outneighbor)\n",
    "#                 break\n",
    "#             end\n",
    "#         end\n",
    "#         # @show Graphs.outneighbors(stranded_kmer_graph, current_node)\n",
    "#         inneighbors = Graphs.inneighbors(stranded_kmer_graph, first(current_path))\n",
    "#         while length(inneighbors) == 1\n",
    "#             inneighbor = first(inneighbors)\n",
    "#             inneighbors_outneighbors = Graphs.outneighbors(stranded_kmer_graph, inneighbor)\n",
    "#             if inneighbors_outneighbors == [first(current_path)]\n",
    "#                 pushfirst!(current_path, inneighbor)\n",
    "#                 delete!(unvisited_unbranching_nodes, inneighbor)\n",
    "#                 inneighbors = Graphs.inneighbors(stranded_kmer_graph, inneighbor)\n",
    "#             else\n",
    "#                 @assert length(inneighbors_outneighbors) > 1\n",
    "#                 pushfirst!(current_path, inneighbor)\n",
    "#                 delete!(unvisited_unbranching_nodes, inneighbor)\n",
    "#                 break\n",
    "#             end\n",
    "#         end\n",
    "#         push!(unbranching_paths, current_path)\n",
    "#     end\n",
    "#     unbranching_paths\n",
    "\n",
    "#     unbranching_path_state_weights = [map(v -> MetaGraphs.get_prop(stranded_kmer_graph, v, :count), path) for path in unbranching_paths]\n",
    "\n",
    "#     solid_unbranching_paths = unbranching_paths[minimum.(unbranching_path_state_weights) .>= solid_threshold]\n",
    "\n",
    "#     # beginnings = filter(path -> Graphs.indegree(stranded_kmer_graph, first(path)) == 0, solid_unbranching_paths)\n",
    "#     # ends = filter(path -> Graphs.outdegree(stranded_kmer_graph, last(path)) == 0, solid_unbranching_paths)\n",
    "#     # mids = setdiff(setdiff(solid_unbranching_paths, beginnings), ends)\n",
    "#     # branch_points = filter(v -> Graphs.indegree(stranded_kmer_graph, v) > 1 || Graphs.outdegree(stranded_kmer_graph, v) > 1, Graphs.vertices(stranded_kmer_graph))\n",
    "#     # @assert all(x -> x in branch_points, first.(mids))\n",
    "#     # @assert all(x -> x in branch_points, last.(mids))\n",
    "#     # @assert all(x -> x in branch_points, first.(ends))\n",
    "#     # @assert all(x -> x in branch_points, last.(beginnings))\n",
    "\n",
    "#     solid_kmers = Set(collect(keys(filter(x -> x[2] >= solid_threshold, stranded_kmer_counts))))\n",
    "\n",
    "#     solid_vertices = filter(v -> MetaGraphs.get_prop(stranded_kmer_graph, v, :count) >= solid_threshold, Graphs.vertices(stranded_kmer_graph))\n",
    "\n",
    "#     solid_subgraph, vertex_map = Graphs.induced_subgraph(stranded_kmer_graph, solid_vertices)\n",
    "#     MetaGraphs.set_indexing_prop!(solid_subgraph, :kmer)\n",
    "#     distance_matrix = SparseArrays.spzeros(Graphs.nv(solid_subgraph), Graphs.nv(solid_subgraph))\n",
    "#     for edge in Graphs.edges(solid_subgraph)\n",
    "#         # @show edge\n",
    "#         observations = MetaGraphs.get_prop(solid_subgraph, edge, :observations)\n",
    "#         # @show length(observations)\n",
    "#         distance_matrix[edge.src, edge.dst] = distance_matrix[edge.dst, edge.src] = 1/length(observations)\n",
    "#     end\n",
    "#     distance_matrix\n",
    "\n",
    "#     updated_records = FASTX.FASTA.Record[]\n",
    "#     for record in records\n",
    "#         record_kmers = last.(collect(Kmers.EveryKmer{kmer_type}(BioSequences.LongDNA{4}(FASTX.sequence(record)))))\n",
    "#         kmer_is_solid = map(kmer -> kmer in solid_kmers, record_kmers)\n",
    "#         if all(kmer_is_solid)\n",
    "#             push!(updated_records, record)\n",
    "#         else\n",
    "#             junctions_to_resample = find_weak_runs(kmer_is_solid)\n",
    "#             while !isempty(junctions_to_resample)\n",
    "#                 junction_to_resample = first(junctions_to_resample)\n",
    "#                 start_index = first(junction_to_resample)\n",
    "#                 if start_index > 1\n",
    "#                     start_index -= 1\n",
    "#                 end\n",
    "#                 stop_index = last(junction_to_resample)\n",
    "#                 if stop_index < length(record_kmers)\n",
    "#                     stop_index += 1\n",
    "#                 end\n",
    "#                 # @show start_index\n",
    "#                 # @show stop_index\n",
    "\n",
    "#                 if first(junction_to_resample) == 1\n",
    "#                     record_kmers = [record_kmers[stop_index:end]...]\n",
    "#                 elseif last(junction_to_resample) == length(record_kmers)\n",
    "#                     record_kmers = [record_kmers[1:start_index]...]\n",
    "#                 else\n",
    "#                     # @assert haskey(solid_kmers, start_index)\n",
    "#                     # @assert haskey(solid_kmers, stop_index)\n",
    "#                     start_vertex = solid_subgraph[record_kmers[start_index], :kmer]\n",
    "#                     stop_vertex = solid_subgraph[record_kmers[stop_index], :kmer]\n",
    "#                     replacement_path = Graphs.a_star(solid_subgraph, start_vertex, stop_vertex, distance_matrix)\n",
    "#                     record_kmers = [record_kmers[1:start_index]..., [solid_subgraph[edge.dst, :kmer] for edge in replacement_path[1:end-1]]..., record_kmers[stop_index:end]...]\n",
    "#                 end\n",
    "#                 kmer_is_solid = map(kmer -> kmer in solid_kmers, record_kmers)\n",
    "#                 junctions_to_resample = find_weak_runs(kmer_is_solid)\n",
    "#             end\n",
    "#             new_sequence = BioSequences.LongDNA{4}(first(record_kmers))\n",
    "#             for kmer in record_kmers[2:end]\n",
    "#                 push!(new_sequence, last(kmer))\n",
    "#             end\n",
    "#             push!(updated_records, FASTX.FASTA.Record(FASTX.description(record), new_sequence))\n",
    "#         end\n",
    "#     end\n",
    "#     return (;updated_records, k)\n",
    "# end"
   ]
  },
  {
   "cell_type": "code",
   "execution_count": null,
   "id": "f6adf921-9591-40c9-aafd-fb3b7b3d5943",
   "metadata": {
    "tags": []
   },
   "outputs": [],
   "source": [
    "# kmer_type = Kmers.DNAKmer{k}\n",
    "# kmer_counts = Mycelia.count_kmers(kmer_type, fasta)"
   ]
  },
  {
   "cell_type": "code",
   "execution_count": null,
   "id": "a3ddab4c-3f5f-4dbf-a27b-3f573590c104",
   "metadata": {},
   "outputs": [],
   "source": [
    "\n",
    "\n",
    "#     unbranching_nodes = Int[]\n",
    "#     for node in Graphs.vertices(stranded_kmer_graph)\n",
    "#         if (Graphs.indegree(stranded_kmer_graph, node) == 1) && (Graphs.outdegree(stranded_kmer_graph, node) == 1)\n",
    "#             push!(unbranching_nodes, node)\n",
    "#         end\n",
    "#     end\n",
    "#     unvisited_unbranching_nodes = Set(unbranching_nodes)\n",
    "\n",
    "#     unbranching_paths = []\n",
    "#     while !isempty(unvisited_unbranching_nodes)\n",
    "#         current_path = [rand(unvisited_unbranching_nodes)]\n",
    "#         delete!(unvisited_unbranching_nodes, first(current_path))\n",
    "\n",
    "#         outneighbors = Graphs.outneighbors(stranded_kmer_graph, last(current_path))\n",
    "\n",
    "#         while length(outneighbors) == 1\n",
    "#             outneighbor = first(outneighbors)\n",
    "#             outneighbors_inneighbors = Graphs.inneighbors(stranded_kmer_graph, outneighbor)\n",
    "#             if outneighbors_inneighbors == [last(current_path)]\n",
    "#                 push!(current_path, outneighbor)\n",
    "#                 delete!(unvisited_unbranching_nodes, outneighbor)\n",
    "#                 outneighbors = Graphs.outneighbors(stranded_kmer_graph, outneighbor)\n",
    "#             else\n",
    "#                 @assert length(outneighbors_inneighbors) > 1\n",
    "#                 push!(current_path, outneighbor)\n",
    "#                 delete!(unvisited_unbranching_nodes, outneighbor)\n",
    "#                 break\n",
    "#             end\n",
    "#         end\n",
    "#         # @show Graphs.outneighbors(stranded_kmer_graph, current_node)\n",
    "#         inneighbors = Graphs.inneighbors(stranded_kmer_graph, first(current_path))\n",
    "#         while length(inneighbors) == 1\n",
    "#             inneighbor = first(inneighbors)\n",
    "#             inneighbors_outneighbors = Graphs.outneighbors(stranded_kmer_graph, inneighbor)\n",
    "#             if inneighbors_outneighbors == [first(current_path)]\n",
    "#                 pushfirst!(current_path, inneighbor)\n",
    "#                 delete!(unvisited_unbranching_nodes, inneighbor)\n",
    "#                 inneighbors = Graphs.inneighbors(stranded_kmer_graph, inneighbor)\n",
    "#             else\n",
    "#                 @assert length(inneighbors_outneighbors) > 1\n",
    "#                 pushfirst!(current_path, inneighbor)\n",
    "#                 delete!(unvisited_unbranching_nodes, inneighbor)\n",
    "#                 break\n",
    "#             end\n",
    "#         end\n",
    "#         push!(unbranching_paths, current_path)\n",
    "#     end\n",
    "#     unbranching_paths\n",
    "\n",
    "#     unbranching_path_state_weights = [map(v -> MetaGraphs.get_prop(stranded_kmer_graph, v, :count), path) for path in unbranching_paths]\n",
    "\n",
    "#     solid_unbranching_paths = unbranching_paths[minimum.(unbranching_path_state_weights) .>= solid_threshold]\n",
    "\n",
    "#     # beginnings = filter(path -> Graphs.indegree(stranded_kmer_graph, first(path)) == 0, solid_unbranching_paths)\n",
    "#     # ends = filter(path -> Graphs.outdegree(stranded_kmer_graph, last(path)) == 0, solid_unbranching_paths)\n",
    "#     # mids = setdiff(setdiff(solid_unbranching_paths, beginnings), ends)\n",
    "#     # branch_points = filter(v -> Graphs.indegree(stranded_kmer_graph, v) > 1 || Graphs.outdegree(stranded_kmer_graph, v) > 1, Graphs.vertices(stranded_kmer_graph))\n",
    "#     # @assert all(x -> x in branch_points, first.(mids))\n",
    "#     # @assert all(x -> x in branch_points, last.(mids))\n",
    "#     # @assert all(x -> x in branch_points, first.(ends))\n",
    "#     # @assert all(x -> x in branch_points, last.(beginnings))\n",
    "\n",
    "#     solid_kmers = Set(collect(keys(filter(x -> x[2] >= solid_threshold, stranded_kmer_counts))))\n",
    "\n",
    "#     solid_vertices = filter(v -> MetaGraphs.get_prop(stranded_kmer_graph, v, :count) >= solid_threshold, Graphs.vertices(stranded_kmer_graph))\n",
    "\n",
    "#     solid_subgraph, vertex_map = Graphs.induced_subgraph(stranded_kmer_graph, solid_vertices)\n",
    "#     MetaGraphs.set_indexing_prop!(solid_subgraph, :kmer)\n",
    "#     distance_matrix = SparseArrays.spzeros(Graphs.nv(solid_subgraph), Graphs.nv(solid_subgraph))\n",
    "#     for edge in Graphs.edges(solid_subgraph)\n",
    "#         # @show edge\n",
    "#         observations = MetaGraphs.get_prop(solid_subgraph, edge, :observations)\n",
    "#         # @show length(observations)\n",
    "#         distance_matrix[edge.src, edge.dst] = distance_matrix[edge.dst, edge.src] = 1/length(observations)\n",
    "#     end\n",
    "#     distance_matrix\n",
    "\n",
    "#     updated_records = FASTX.FASTA.Record[]\n",
    "#     for record in records\n",
    "#         record_kmers = last.(collect(Kmers.EveryKmer{kmer_type}(BioSequences.LongDNA{4}(FASTX.sequence(record)))))\n",
    "#         kmer_is_solid = map(kmer -> kmer in solid_kmers, record_kmers)\n",
    "#         if all(kmer_is_solid)\n",
    "#             push!(updated_records, record)\n",
    "#         else\n",
    "#             junctions_to_resample = find_weak_runs(kmer_is_solid)\n",
    "#             while !isempty(junctions_to_resample)\n",
    "#                 junction_to_resample = first(junctions_to_resample)\n",
    "#                 start_index = first(junction_to_resample)\n",
    "#                 if start_index > 1\n",
    "#                     start_index -= 1\n",
    "#                 end\n",
    "#                 stop_index = last(junction_to_resample)\n",
    "#                 if stop_index < length(record_kmers)\n",
    "#                     stop_index += 1\n",
    "#                 end\n",
    "#                 # @show start_index\n",
    "#                 # @show stop_index\n",
    "\n",
    "#                 if first(junction_to_resample) == 1\n",
    "#                     record_kmers = [record_kmers[stop_index:end]...]\n",
    "#                 elseif last(junction_to_resample) == length(record_kmers)\n",
    "#                     record_kmers = [record_kmers[1:start_index]...]\n",
    "#                 else\n",
    "#                     # @assert haskey(solid_kmers, start_index)\n",
    "#                     # @assert haskey(solid_kmers, stop_index)\n",
    "#                     start_vertex = solid_subgraph[record_kmers[start_index], :kmer]\n",
    "#                     stop_vertex = solid_subgraph[record_kmers[stop_index], :kmer]\n",
    "#                     replacement_path = Graphs.a_star(solid_subgraph, start_vertex, stop_vertex, distance_matrix)\n",
    "#                     record_kmers = [record_kmers[1:start_index]..., [solid_subgraph[edge.dst, :kmer] for edge in replacement_path[1:end-1]]..., record_kmers[stop_index:end]...]\n",
    "#                 end\n",
    "#                 kmer_is_solid = map(kmer -> kmer in solid_kmers, record_kmers)\n",
    "#                 junctions_to_resample = find_weak_runs(kmer_is_solid)\n",
    "#             end\n",
    "#             new_sequence = BioSequences.LongDNA{4}(first(record_kmers))\n",
    "#             for kmer in record_kmers[2:end]\n",
    "#                 push!(new_sequence, last(kmer))\n",
    "#             end\n",
    "#             push!(updated_records, FASTX.FASTA.Record(FASTX.description(record), new_sequence))\n",
    "#         end\n",
    "#     end\n",
    "#     return (;updated_records, k)"
   ]
  },
  {
   "cell_type": "code",
   "execution_count": null,
   "id": "e5aa8342-8f82-4724-8500-c9f24a0bae8e",
   "metadata": {},
   "outputs": [],
   "source": [
    "#NEED TO FIX CANONICAL KMER GRAPHS AND GFA OUTPUT - THE REST SEEMS CORRECT"
   ]
  },
  {
   "cell_type": "code",
   "execution_count": null,
   "id": "c29caa40-3131-4abc-bc6e-92b13720fe82",
   "metadata": {},
   "outputs": [],
   "source": [
    "# k = Primes.nextprime(k+1)\n",
    "# # make my own kmer graph\n",
    "# assembly_graph = Mycelia.fastx_to_kmer_graph(Kmers.DNAKmer{k}, updated_fasta)\n",
    "# gfa_file = updated_fasta * \".gfa\"\n",
    "# Mycelia.graph_to_gfa(graph=assembly_graph, outfile=gfa_file)\n",
    "# image = gfa_file * \".mycelia.gfa.jpg\"\n",
    "# # run(`chmod +x $(homedir())/software/bin/Bandage`)\n",
    "# run(`$(homedir())/software/bin/Bandage image $(gfa_file) $(image)`)"
   ]
  }
 ],
 "metadata": {
  "kernelspec": {
   "display_name": "Julia 1.10.2",
   "language": "julia",
   "name": "julia-1.10"
  },
  "language_info": {
   "file_extension": ".jl",
   "mimetype": "application/julia",
   "name": "julia",
   "version": "1.10.2"
  }
 },
 "nbformat": 4,
 "nbformat_minor": 5
}
