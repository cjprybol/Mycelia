{
 "cells": [
  {
   "cell_type": "code",
   "execution_count": null,
   "id": "335bf35f-c55e-4857-83f0-ed03dc666f4e",
   "metadata": {
    "tags": []
   },
   "outputs": [],
   "source": [
    "# if hit plotting library issues, try resetting LD path for julia\n",
    "# can set in ~/.local/share/jupyter/kernels/\n",
    "# @assert ENV[\"LD_LIBRARY_PATH\"] == \"\"\n",
    "import Pkg\n",
    "pkgs = [\n",
    "    \"Revise\",\n",
    "    \"FASTX\",\n",
    "    \"BioSequences\",\n",
    "    \"Kmers\",\n",
    "    \"Graphs\",\n",
    "    \"MetaGraphs\",\n",
    "    \"SparseArrays\",\n",
    "    \"ProgressMeter\",\n",
    "    \"Distributions\",\n",
    "    \"HiddenMarkovModels\",\n",
    "    \"BioAlignments\",\n",
    "    \"StatsBase\",\n",
    "    \"Random\",\n",
    "    \"StatsPlots\",\n",
    "    \"Statistics\",\n",
    "    # \"GraphMakie\",\n",
    "    \"IterTools\",\n",
    "    \"Primes\",\n",
    "]\n",
    "# Pkg.add(pkgs)\n",
    "for pkg in pkgs\n",
    "    eval(Meta.parse(\"import $pkg\"))\n",
    "end\n",
    "# Pkg.develop(path=\"/global/cfs/projectdirs/m4269/cjprybol/Mycelia\")\n",
    "# Pkg.develop(path=\"../../..\")\n",
    "import Mycelia"
   ]
  },
  {
   "cell_type": "code",
   "execution_count": null,
   "id": "128cc1e1-929a-42e1-8376-4c81832fd40c",
   "metadata": {
    "tags": []
   },
   "outputs": [],
   "source": [
    "PROJECT_BASEDIR = dirname(pwd())\n",
    "data_dir = joinpath(PROJECT_BASEDIR, \"data\")\n",
    "genome_dir = mkpath(joinpath(data_dir, \"genomes\"))"
   ]
  },
  {
   "cell_type": "code",
   "execution_count": null,
   "id": "00736937-92d0-4cb6-a933-0cb068457ad1",
   "metadata": {
    "tags": []
   },
   "outputs": [],
   "source": [
    "working_dir = joinpath(data_dir, \"test\")\n",
    "mkpath(working_dir)"
   ]
  },
  {
   "cell_type": "code",
   "execution_count": null,
   "id": "2e294dc9-dc3d-4a15-8e15-70e649200874",
   "metadata": {
    "tags": []
   },
   "outputs": [],
   "source": [
    "# short_read_sets = unique(map(x -> match(r\"^(.+\\.\\d+x)\\.\", x).captures[1], filter(x -> occursin(r\"\\.fna\\.art\", x) && occursin(r\"\\.fq\\.gz\", x) && !occursin(\"trimming_report\", x) && !occursin(\"_val_\", x), sort(readdir(genome_dir, join=true), by=x->filesize(x)))))\n",
    "# # forward = short_read_set * \".1_val_1.fq.gz\"\n",
    "# # reverse = short_read_set * \".2_val_2.fq.gz\""
   ]
  },
  {
   "cell_type": "code",
   "execution_count": null,
   "id": "36067726-42d3-4da2-b97a-dc3be10caa21",
   "metadata": {
    "tags": []
   },
   "outputs": [],
   "source": [
    "long_read_fastqs = sort(filter(x -> occursin(r\"\\.filtlong\\.fq\\.gz$\", x), readdir(genome_dir, join=true)), by=x->filesize(x))\n",
    "fastq = first(long_read_fastqs)"
   ]
  },
  {
   "cell_type": "code",
   "execution_count": null,
   "id": "733df226-2b99-4d1b-9746-18c34ef4aab2",
   "metadata": {
    "tags": []
   },
   "outputs": [],
   "source": [
    "records = collect(Mycelia.open_fastx(fastq))"
   ]
  },
  {
   "cell_type": "code",
   "execution_count": null,
   "id": "a9728353-7cff-4144-9628-c0d870ae448d",
   "metadata": {
    "tags": []
   },
   "outputs": [],
   "source": [
    "quality_scores = reduce(vcat, [collect(FASTX.quality_scores(record)) for record in records])\n",
    "\n",
    "StatsPlots.scatter(\n",
    "    quality_scores,\n",
    "    title = \"fastq quality scores\",\n",
    "    xlabel = \"read index\",\n",
    "    ylabel = \"quality score (PHRED)\",\n",
    "    legend=false)"
   ]
  },
  {
   "cell_type": "code",
   "execution_count": null,
   "id": "e2af69f5-137c-43ee-b57d-88072795032d",
   "metadata": {},
   "outputs": [],
   "source": [
    "StatsPlots.histogram(\n",
    "    quality_scores,\n",
    "    title = \"fastq quality scores\",\n",
    "    xlabel = \"quality score (PHRED)\",\n",
    "    ylabel = \"number of observed bases\",\n",
    "    legend=false)"
   ]
  },
  {
   "cell_type": "code",
   "execution_count": null,
   "id": "c1acc1be-6154-4674-b5f7-82d2ffc14b4c",
   "metadata": {
    "tags": []
   },
   "outputs": [],
   "source": [
    "k = 11\n",
    "kmer_type = Kmers.DNAKmer{k, 1}"
   ]
  },
  {
   "cell_type": "code",
   "execution_count": null,
   "id": "3b3f63f7-1f7d-4a21-8a9c-1000a81d0439",
   "metadata": {
    "tags": []
   },
   "outputs": [],
   "source": [
    "total_kmer_quality_support = Dict{kmer_type, Float64}()\n",
    "for record in records\n",
    "    record_quality_scores = collect(FASTX.quality_scores(record))\n",
    "    record_quality_score_slices = [record_quality_scores[i:i+k-1] for i in 1:length(record_quality_scores)-k+1]\n",
    "    sequence = BioSequences.LongDNA{4}(FASTX.sequence(record))\n",
    "    for ((i, kmer), kmer_base_qualities) in zip(Kmers.EveryKmer{kmer_type}(sequence), record_quality_score_slices)\n",
    "        if haskey(total_kmer_quality_support, kmer)\n",
    "            total_kmer_quality_support[kmer] += Statistics.mean(kmer_base_qualities)\n",
    "        else\n",
    "            total_kmer_quality_support[kmer] = Statistics.mean(kmer_base_qualities)\n",
    "        end\n",
    "    end\n",
    "end\n",
    "# kmer_quality_support = sort(kmer_quality_support)\n",
    "kmer_counts = Mycelia.count_kmers(kmer_type, fastq)\n",
    "kmer_indices = Dict(kmer => i for (i, kmer) in enumerate(keys(kmer_counts)))\n",
    "kmers = collect(keys(kmer_counts))\n",
    "average_kmer_quality = [total_kmer_quality_support[kmer]/kmer_counts[kmer] for kmer in kmers]"
   ]
  },
  {
   "cell_type": "code",
   "execution_count": null,
   "id": "bb0582bc-99d8-41b8-9102-7fe5515d5d87",
   "metadata": {
    "tags": []
   },
   "outputs": [],
   "source": [
    "kmer_counts = Mycelia.count_kmers(kmer_type, fastq)\n",
    "kmer_indices = Dict(kmer => i for (i, kmer) in enumerate(keys(kmer_counts)))\n",
    "\n",
    "StatsPlots.histogram(\n",
    "    collect(values(kmer_counts)),\n",
    "    legend=false,\n",
    "    title = \"kmer counts\",\n",
    "    xlabel = \"# of occurances\",\n",
    "    ylabel = \"# of kmers with that occurance count\"\n",
    ")"
   ]
  },
  {
   "cell_type": "code",
   "execution_count": null,
   "id": "dd4beb91-0042-4d8f-a98d-204930b5a75e",
   "metadata": {
    "tags": []
   },
   "outputs": [],
   "source": [
    "StatsPlots.histogram(average_kmer_quality)"
   ]
  },
  {
   "cell_type": "code",
   "execution_count": null,
   "id": "55ae3e79-547d-498b-b3e6-c4f82010ff73",
   "metadata": {
    "tags": []
   },
   "outputs": [],
   "source": [
    "StatsPlots.histogram(collect(values(kmer_quality_support)))"
   ]
  },
  {
   "cell_type": "code",
   "execution_count": null,
   "id": "bba9778e-5778-420b-ba99-19ab6cdeb4bd",
   "metadata": {
    "tags": []
   },
   "outputs": [],
   "source": [
    "total_kmers = sum(values(kmer_counts))\n",
    "\n",
    "total_states = length(kmer_counts)\n",
    "\n",
    "state_likelihoods = Dict(kmer => kmer_count / total_kmers for (kmer, kmer_count) in kmer_counts)\n",
    "\n",
    "transition_likelihoods = SparseArrays.spzeros(total_states, total_states)\n",
    "for record in records\n",
    "    sequence = BioSequences.LongDNA{4}(FASTX.sequence(record))\n",
    "    sources = Kmers.EveryKmer{kmer_type}(sequence[1:end-1])\n",
    "    destinations = Kmers.EveryKmer{kmer_type}(sequence[2:end])\n",
    "    for ((source_i, source), (destination_i, destination)) in zip(sources, destinations)\n",
    "        source_index = kmer_indices[source]\n",
    "        destination_index = kmer_indices[destination]\n",
    "        transition_likelihoods[source_index, destination_index] += 1\n",
    "    end\n",
    "end\n",
    "for source in 1:total_states\n",
    "    # @show source\n",
    "    outgoing_transition_counts = transition_likelihoods[source, :]\n",
    "    if sum(outgoing_transition_counts) > 0\n",
    "        transition_likelihoods[source, :] .= transition_likelihoods[source, :] ./ sum(transition_likelihoods[source, :]) \n",
    "    end\n",
    "end"
   ]
  },
  {
   "cell_type": "code",
   "execution_count": null,
   "id": "3ba93006-aeb6-4e92-b9e6-68bed097977f",
   "metadata": {
    "tags": []
   },
   "outputs": [],
   "source": [
    "g = Graphs.SimpleDiGraph(total_states)\n",
    "\n",
    "row_indices, column_indices, cell_values = SparseArrays.findnz(transition_likelihoods)\n",
    "\n",
    "for (row, col) in zip(row_indices, column_indices)\n",
    "    Graphs.add_edge!(g, row, col)\n",
    "end\n",
    "g\n",
    "\n",
    "unbranching_nodes = Int[]\n",
    "for node in Graphs.vertices(g)\n",
    "    if (Graphs.indegree(g, node) == 1) && (Graphs.outdegree(g, node) == 1)\n",
    "        push!(unbranching_nodes, node)\n",
    "    end\n",
    "end\n",
    "unvisited_unbranching_nodes = Set(unbranching_nodes)\n",
    "\n",
    "unbranching_paths = []\n",
    "while !isempty(unvisited_unbranching_nodes)\n",
    "    current_path = [rand(unvisited_unbranching_nodes)]\n",
    "    delete!(unvisited_unbranching_nodes, first(current_path))\n",
    "\n",
    "    outneighbors = Graphs.outneighbors(g, last(current_path))\n",
    "\n",
    "    while length(outneighbors) == 1\n",
    "        outneighbor = first(outneighbors)\n",
    "        outneighbors_inneighbors = Graphs.inneighbors(g, outneighbor)\n",
    "        if outneighbors_inneighbors == [last(current_path)]\n",
    "            push!(current_path, outneighbor)\n",
    "            delete!(unvisited_unbranching_nodes, outneighbor)\n",
    "            outneighbors = Graphs.outneighbors(g, outneighbor)\n",
    "        else\n",
    "            @assert length(outneighbors_inneighbors) > 1\n",
    "            push!(current_path, outneighbor)\n",
    "            delete!(unvisited_unbranching_nodes, outneighbor)\n",
    "            break\n",
    "        end\n",
    "    end\n",
    "    inneighbors = Graphs.inneighbors(g, first(current_path))\n",
    "    while length(inneighbors) == 1\n",
    "        inneighbor = first(inneighbors)\n",
    "        inneighbors_outneighbors = Graphs.outneighbors(g, inneighbor)\n",
    "        if inneighbors_outneighbors == [first(current_path)]\n",
    "            pushfirst!(current_path, inneighbor)\n",
    "            delete!(unvisited_unbranching_nodes, inneighbor)\n",
    "            inneighbors = Graphs.inneighbors(g, inneighbor)\n",
    "        else\n",
    "            @assert length(inneighbors_outneighbors) > 1\n",
    "            pushfirst!(current_path, inneighbor)\n",
    "            delete!(unvisited_unbranching_nodes, inneighbor)\n",
    "            break\n",
    "        end\n",
    "    end\n",
    "    push!(unbranching_paths, current_path)\n",
    "end\n",
    "unbranching_paths"
   ]
  },
  {
   "cell_type": "code",
   "execution_count": null,
   "id": "b3426f37-2a8f-4433-a8ab-5b02089d8140",
   "metadata": {
    "tags": []
   },
   "outputs": [],
   "source": [
    "kmer_quality_support"
   ]
  },
  {
   "cell_type": "code",
   "execution_count": null,
   "id": "ac9578f5-2e96-484e-8db1-da6ef5a5cd5e",
   "metadata": {
    "tags": []
   },
   "outputs": [],
   "source": [
    "unbranching_path"
   ]
  },
  {
   "cell_type": "code",
   "execution_count": null,
   "id": "9833f243-df6e-46e6-a9b0-33d198c24160",
   "metadata": {
    "tags": []
   },
   "outputs": [],
   "source": [
    "path_support = Vector{Float64}[]\n",
    "for unbranching_path in unbranching_paths\n",
    "    push!(path_support, [state_likelihoods[collect(keys(kmer_counts))[state]] for state in unbranching_path])\n",
    "    # push!(path_support, [kmer_quality_support[collect(keys(kmer_counts))[state]] for state in unbranching_path])\n",
    "end\n",
    "path_support\n",
    "\n",
    "p = StatsPlots.scatter(\n",
    "    sort(Statistics.mean.(path_support)),\n",
    "    title = \"average kmer likelihood of unbranching paths\",\n",
    "    labels=\"mean unbranching path likelihood\",\n",
    "    ylabel = \"\"\n",
    ")\n",
    "\n",
    "low_support_path_unbranching_path_indices = findall(Statistics.mean.(path_support) .< Statistics.median(Statistics.mean.(path_support)))\n",
    "\n",
    "# StatsPlots.hline!(p, [Statistics.mean(Statistics.median.(path_support))], label = \"mean of the medians\")\n",
    "StatsPlots.hline!(p, [Statistics.median(Statistics.mean.(path_support))], label = \"median of the means\")"
   ]
  },
  {
   "cell_type": "code",
   "execution_count": null,
   "id": "eb11f2f9-7f6f-43bf-9809-00e96da382c7",
   "metadata": {
    "tags": []
   },
   "outputs": [],
   "source": [
    "path_support = Vector{Float64}[]\n",
    "for unbranching_path in unbranching_paths\n",
    "    # push!(path_support, [state_likelihoods[collect(keys(kmer_counts))[state]] for state in unbranching_path])\n",
    "    push!(path_support, [kmer_quality_support[collect(keys(kmer_counts))[state]] for state in unbranching_path])\n",
    "end\n",
    "path_support\n",
    "\n",
    "p = StatsPlots.scatter(\n",
    "    sort(Statistics.mean.(path_support)),\n",
    "    title = \"average kmer quality score of unbranching paths\",\n",
    "    labels=\"mean unbranching path likelihood\",\n",
    "    ylabel = \"\"\n",
    ")\n",
    "\n",
    "low_support_path_unbranching_path_indices = findall(Statistics.mean.(path_support) .< Statistics.median(Statistics.mean.(path_support)))\n",
    "\n",
    "# StatsPlots.hline!(p, [Statistics.mean(Statistics.median.(path_support))], label = \"mean of the medians\")\n",
    "StatsPlots.hline!(p, [Statistics.median(Statistics.mean.(path_support))], label = \"median of the means\")"
   ]
  },
  {
   "cell_type": "code",
   "execution_count": null,
   "id": "f2ea1104-0c7f-4e6d-8138-a7fd3209688f",
   "metadata": {
    "tags": []
   },
   "outputs": [],
   "source": [
    "quality_threshold = min(Statistics.median(quality_scores), Statistics.mean(quality_scores))"
   ]
  },
  {
   "cell_type": "code",
   "execution_count": null,
   "id": "7b9f3bff-84e7-4e9f-98fe-6034e43974b6",
   "metadata": {
    "tags": []
   },
   "outputs": [],
   "source": [
    "state_likelihood_threshold = min(Statistics.mean(collect(values(state_likelihoods))), Statistics.median(collect(values(state_likelihoods))))"
   ]
  },
  {
   "cell_type": "code",
   "execution_count": null,
   "id": "f1618706-c5f7-494b-99fd-a77e3b852378",
   "metadata": {
    "tags": []
   },
   "outputs": [],
   "source": [
    "nonzero_transition_likelihoods = filter(x -> x > 0, vec(transition_likelihoods))"
   ]
  },
  {
   "cell_type": "code",
   "execution_count": null,
   "id": "a3fa1627-762f-4e1a-9d91-cc7d77e52b25",
   "metadata": {
    "tags": []
   },
   "outputs": [],
   "source": [
    "transition_likelihood_treshold = min(Statistics.mean(nonzero_transition_likelihoods), Statistics.median(nonzero_transition_likelihoods))"
   ]
  },
  {
   "cell_type": "code",
   "execution_count": null,
   "id": "073f3e61-e744-4d94-a673-03f932aabb86",
   "metadata": {
    "tags": []
   },
   "outputs": [],
   "source": [
    "kmer_count_threshold = Statistics.mean(collect(values(kmer_counts)))"
   ]
  },
  {
   "cell_type": "code",
   "execution_count": null,
   "id": "b0d274f8-b036-451f-aac0-68890d7d7b24",
   "metadata": {
    "tags": []
   },
   "outputs": [],
   "source": [
    "record = first(records)\n",
    "\n",
    "sequence = BioSequences.LongDNA{4}(FASTX.sequence(record))\n",
    "\n",
    "record_kmers = Kmers.EveryKmer{kmer_type}(sequence)\n",
    "\n",
    "record_quality_scores = collect(FASTX.quality_scores(record))\n",
    "record_quality_score_slices = [record_quality_scores[i:i+k-1] for i in 1:length(record_quality_scores)-k+1]\n",
    "\n",
    "kmer_count_values = [kmer_counts[kmer] for kmer in last.(Kmers.EveryKmer{kmer_type}(sequence))]\n",
    "# p = StatsPlots.plot(\n",
    "#     kmer_count_values,\n",
    "#     title = \"state frequency across fastq record\",\n",
    "#     xlabel = \"read index\",\n",
    "#     ylabel = \"total equivalent observations\",\n",
    "#     legend = false\n",
    "# )\n",
    "# StatsPlots.hline!(p, [kmer_count_threshold])\n",
    "\n",
    "# p = StatsPlots.plot(\n",
    "#     [\n",
    "#         Statistics.mean.(record_quality_score_slices),\n",
    "#     ],\n",
    "#     ylabel = \"quality score\",\n",
    "#     xlabel = \"read index\",\n",
    "#     title = \"quality scores across fastq record\",\n",
    "#     labels = \"mean\"\n",
    "# )\n",
    "# StatsPlots.hline!(p, [quality_threshold], labels = \"quality threshold\")\n",
    "\n",
    "sources = Kmers.EveryKmer{kmer_type}(sequence[1:end-1])\n",
    "destinations = Kmers.EveryKmer{kmer_type}(sequence[2:end])\n",
    "transition_likelihood_values = [transition_likelihoods[kmer_indices[source], kmer_indices[destination]] for ((source_i, source), (destination_i, destination)) in zip(sources, destinations)]\n",
    "\n",
    "# p = StatsPlots.plot(\n",
    "#     transition_likelihood_values,\n",
    "#     title = \"transition likelihoods across fastq record\",\n",
    "#     label = false,\n",
    "#     ylabel = \"relative likelihood\",\n",
    "#     xlabel = \"read index\"\n",
    "# )\n",
    "# StatsPlots.hline!(p, [transition_likelihood_treshold], label = \"threshold\")\n",
    "\n",
    "kmer_count_flags = findall(kmer_count_values .< kmer_count_threshold)\n",
    "quality_score_flags = findall(Statistics.mean.(record_quality_score_slices) .< quality_threshold)\n",
    "transition_likelihood_flags = findall(transition_likelihood_values .< transition_likelihood_treshold)\n",
    "hit_results = StatsBase.countmap(vcat(kmer_count_flags, quality_score_flags, transition_likelihood_flags))\n",
    "StatsPlots.scatter(\n",
    "    first.(sort(collect(hit_results))),\n",
    "    last.(sort(collect(hit_results))),\n",
    "    legend = false,\n",
    "    title = \"# of flags thrown at record index\",\n",
    "    ylabel = \"# of flags\",\n",
    "    xlabel = \"record index\"\n",
    ")"
   ]
  },
  {
   "cell_type": "code",
   "execution_count": null,
   "id": "08c87dab-967f-4581-8c15-ed2c40b51717",
   "metadata": {
    "tags": []
   },
   "outputs": [],
   "source": [
    "universally_flagged_indices = sort(collect(keys(filter(hit_result -> hit_result[2] == maximum(values(hit_results)), hit_results))))\n",
    "universally_flagged_kmers = last.(collect(record_kmers))[universally_flagged_indices]\n",
    "universally_flagged_kmer_indices = sort([kmer_indices[universally_flagged_kmer] for universally_flagged_kmer in universally_flagged_kmers])"
   ]
  },
  {
   "cell_type": "code",
   "execution_count": null,
   "id": "c0bda17d-56d1-469e-a918-e9bad4a3fc9a",
   "metadata": {
    "tags": []
   },
   "outputs": [],
   "source": [
    "intersect(universally_flagged_kmer_indices, reduce(vcat, unbranching_paths[low_support_path_unbranching_path_indices]))"
   ]
  },
  {
   "cell_type": "code",
   "execution_count": null,
   "id": "14dc92c7-ea35-4076-8c06-ffc91d462504",
   "metadata": {
    "tags": []
   },
   "outputs": [],
   "source": []
  },
  {
   "cell_type": "code",
   "execution_count": null,
   "id": "ff039d66-e500-40aa-a9d6-1543493a11ff",
   "metadata": {
    "tags": []
   },
   "outputs": [],
   "source": [
    "# low_support_unbranching_paths = Dict(x => iunbranching_paths[low_support_paths]"
   ]
  },
  {
   "cell_type": "code",
   "execution_count": null,
   "id": "399a48cc-4c79-4604-b314-dcaffe8efec0",
   "metadata": {},
   "outputs": [],
   "source": [
    "# for low_support_unbranching_paths"
   ]
  },
  {
   "cell_type": "code",
   "execution_count": null,
   "id": "3753ab02-db47-4e46-99ef-77487ad22e5f",
   "metadata": {},
   "outputs": [],
   "source": []
  },
  {
   "cell_type": "code",
   "execution_count": null,
   "id": "06561c80-144b-46a5-ac03-db186c07084b",
   "metadata": {},
   "outputs": [],
   "source": []
  },
  {
   "cell_type": "code",
   "execution_count": null,
   "id": "c26c68bf-b7d5-4104-93bd-60888d5cfa1d",
   "metadata": {},
   "outputs": [],
   "source": []
  },
  {
   "cell_type": "code",
   "execution_count": null,
   "id": "5ad9a299-6e9b-4b5b-ab43-bbd7f0d3ad72",
   "metadata": {
    "tags": []
   },
   "outputs": [],
   "source": [
    "function polish_fastx(fastx; k=Mycelia.assess_dnamer_saturation([fastx], plot=false))\n",
    "    kmer_type = Kmers.DNAKmer{k}\n",
    "    canonical_kmer_counts = Mycelia.count_canonical_kmers(kmer_type, fastx)\n",
    "    \n",
    "    \n",
    "    solid_threshold = floor(Statistics.mean(values(canonical_kmer_counts)))\n",
    "    # solid_threshold\n",
    "    @show solid_threshold\n",
    "    \n",
    "    stranded_kmer_counts = copy(canonical_kmer_counts)\n",
    "    for (canonical_kmer, count) in canonical_kmer_counts\n",
    "        stranded_kmer_counts[BioSequences.reverse_complement(canonical_kmer)] = count\n",
    "    end\n",
    "    sort!(stranded_kmer_counts)\n",
    "\n",
    "    stranded_kmer_graph = MetaGraphs.MetaDiGraph(length(stranded_kmer_counts))\n",
    "    MetaGraphs.set_prop!(stranded_kmer_graph, :k, k)\n",
    "    for (i, (stranded_kmer, count)) in enumerate(stranded_kmer_counts)\n",
    "        MetaGraphs.set_prop!(stranded_kmer_graph, i, :kmer, stranded_kmer)\n",
    "        MetaGraphs.set_prop!(stranded_kmer_graph, i, :count, count)\n",
    "    end\n",
    "    MetaGraphs.set_indexing_prop!(stranded_kmer_graph, :kmer)\n",
    "    # stranded_kmer_graph\n",
    "    records = collect(Mycelia.open_fastx(fastx))\n",
    "    for record in records\n",
    "        sequence = BioSequences.LongDNA{4}(FASTX.sequence(record))\n",
    "        sources = Kmers.EveryKmer{kmer_type}(sequence[1:end-1])\n",
    "        destinations = Kmers.EveryKmer{kmer_type}(sequence[2:end])\n",
    "        for (i, ((source_i, source), (destination_i, destination))) in enumerate(zip(sources, destinations))\n",
    "            source_vertex = stranded_kmer_graph[source, :kmer]\n",
    "            destination_vertex = stranded_kmer_graph[destination, :kmer]\n",
    "            edge = Graphs.Edge(source_vertex, destination_vertex)\n",
    "            observation = (record_identifier = FASTX.description(record), index = i, orientation = true)\n",
    "            if !Graphs.has_edge(stranded_kmer_graph, edge)\n",
    "                Graphs.add_edge!(stranded_kmer_graph, edge)\n",
    "                MetaGraphs.set_prop!(stranded_kmer_graph, edge, :observations, Set([observation]))\n",
    "            else\n",
    "                observations = push!(MetaGraphs.get_prop(stranded_kmer_graph, edge, :observations), observation)\n",
    "                MetaGraphs.set_prop!(stranded_kmer_graph, edge, :observations, observations)\n",
    "            end\n",
    "\n",
    "            # reverse_complement!\n",
    "            source_vertex = stranded_kmer_graph[BioSequences.reverse_complement(destination), :kmer]\n",
    "            destination_vertex = stranded_kmer_graph[BioSequences.reverse_complement(source), :kmer]\n",
    "            edge = Graphs.Edge(source_vertex, destination_vertex)\n",
    "            observation = (record_identifier = FASTX.description(record), index = i, orientation = false)\n",
    "            if !Graphs.has_edge(stranded_kmer_graph, edge)\n",
    "                Graphs.add_edge!(stranded_kmer_graph, edge)\n",
    "                MetaGraphs.set_prop!(stranded_kmer_graph, edge, :observations, Set([observation]))\n",
    "            else\n",
    "                observations = push!(MetaGraphs.get_prop(stranded_kmer_graph, edge, :observations), observation)\n",
    "                MetaGraphs.set_prop!(stranded_kmer_graph, edge, :observations, observations)\n",
    "            end\n",
    "        end\n",
    "    end\n",
    "    stranded_kmer_graph\n",
    "\n",
    "    unbranching_nodes = Int[]\n",
    "    for node in Graphs.vertices(stranded_kmer_graph)\n",
    "        if (Graphs.indegree(stranded_kmer_graph, node) == 1) && (Graphs.outdegree(stranded_kmer_graph, node) == 1)\n",
    "            push!(unbranching_nodes, node)\n",
    "        end\n",
    "    end\n",
    "    unvisited_unbranching_nodes = Set(unbranching_nodes)\n",
    "\n",
    "    unbranching_paths = []\n",
    "    while !isempty(unvisited_unbranching_nodes)\n",
    "        current_path = [rand(unvisited_unbranching_nodes)]\n",
    "        delete!(unvisited_unbranching_nodes, first(current_path))\n",
    "\n",
    "        outneighbors = Graphs.outneighbors(stranded_kmer_graph, last(current_path))\n",
    "\n",
    "        while length(outneighbors) == 1\n",
    "            outneighbor = first(outneighbors)\n",
    "            outneighbors_inneighbors = Graphs.inneighbors(stranded_kmer_graph, outneighbor)\n",
    "            if outneighbors_inneighbors == [last(current_path)]\n",
    "                push!(current_path, outneighbor)\n",
    "                delete!(unvisited_unbranching_nodes, outneighbor)\n",
    "                outneighbors = Graphs.outneighbors(stranded_kmer_graph, outneighbor)\n",
    "            else\n",
    "                @assert length(outneighbors_inneighbors) > 1\n",
    "                push!(current_path, outneighbor)\n",
    "                delete!(unvisited_unbranching_nodes, outneighbor)\n",
    "                break\n",
    "            end\n",
    "        end\n",
    "        # @show Graphs.outneighbors(stranded_kmer_graph, current_node)\n",
    "        inneighbors = Graphs.inneighbors(stranded_kmer_graph, first(current_path))\n",
    "        while length(inneighbors) == 1\n",
    "            inneighbor = first(inneighbors)\n",
    "            inneighbors_outneighbors = Graphs.outneighbors(stranded_kmer_graph, inneighbor)\n",
    "            if inneighbors_outneighbors == [first(current_path)]\n",
    "                pushfirst!(current_path, inneighbor)\n",
    "                delete!(unvisited_unbranching_nodes, inneighbor)\n",
    "                inneighbors = Graphs.inneighbors(stranded_kmer_graph, inneighbor)\n",
    "            else\n",
    "                @assert length(inneighbors_outneighbors) > 1\n",
    "                pushfirst!(current_path, inneighbor)\n",
    "                delete!(unvisited_unbranching_nodes, inneighbor)\n",
    "                break\n",
    "            end\n",
    "        end\n",
    "        push!(unbranching_paths, current_path)\n",
    "    end\n",
    "    unbranching_paths\n",
    "\n",
    "    unbranching_path_state_weights = [map(v -> MetaGraphs.get_prop(stranded_kmer_graph, v, :count), path) for path in unbranching_paths]\n",
    "\n",
    "    solid_unbranching_paths = unbranching_paths[minimum.(unbranching_path_state_weights) .>= solid_threshold]\n",
    "\n",
    "    # beginnings = filter(path -> Graphs.indegree(stranded_kmer_graph, first(path)) == 0, solid_unbranching_paths)\n",
    "    # ends = filter(path -> Graphs.outdegree(stranded_kmer_graph, last(path)) == 0, solid_unbranching_paths)\n",
    "    # mids = setdiff(setdiff(solid_unbranching_paths, beginnings), ends)\n",
    "    # branch_points = filter(v -> Graphs.indegree(stranded_kmer_graph, v) > 1 || Graphs.outdegree(stranded_kmer_graph, v) > 1, Graphs.vertices(stranded_kmer_graph))\n",
    "    # @assert all(x -> x in branch_points, first.(mids))\n",
    "    # @assert all(x -> x in branch_points, last.(mids))\n",
    "    # @assert all(x -> x in branch_points, first.(ends))\n",
    "    # @assert all(x -> x in branch_points, last.(beginnings))\n",
    "\n",
    "    solid_kmers = Set(collect(keys(filter(x -> x[2] >= solid_threshold, stranded_kmer_counts))))\n",
    "\n",
    "    solid_vertices = filter(v -> MetaGraphs.get_prop(stranded_kmer_graph, v, :count) >= solid_threshold, Graphs.vertices(stranded_kmer_graph))\n",
    "\n",
    "    solid_subgraph, vertex_map = Graphs.induced_subgraph(stranded_kmer_graph, solid_vertices)\n",
    "    MetaGraphs.set_indexing_prop!(solid_subgraph, :kmer)\n",
    "    distance_matrix = SparseArrays.spzeros(Graphs.nv(solid_subgraph), Graphs.nv(solid_subgraph))\n",
    "    for edge in Graphs.edges(solid_subgraph)\n",
    "        # @show edge\n",
    "        observations = MetaGraphs.get_prop(solid_subgraph, edge, :observations)\n",
    "        # @show length(observations)\n",
    "        distance_matrix[edge.src, edge.dst] = distance_matrix[edge.dst, edge.src] = 1/length(observations)\n",
    "    end\n",
    "    distance_matrix\n",
    "\n",
    "    updated_records = FASTX.FASTA.Record[]\n",
    "    for record in records\n",
    "        record_kmers = last.(collect(Kmers.EveryKmer{kmer_type}(BioSequences.LongDNA{4}(FASTX.sequence(record)))))\n",
    "        kmer_is_solid = map(kmer -> kmer in solid_kmers, record_kmers)\n",
    "        if all(kmer_is_solid)\n",
    "            push!(updated_records, record)\n",
    "        else\n",
    "            junctions_to_resample = find_weak_runs(kmer_is_solid)\n",
    "            while !isempty(junctions_to_resample)\n",
    "                junction_to_resample = first(junctions_to_resample)\n",
    "                start_index = first(junction_to_resample)\n",
    "                if start_index > 1\n",
    "                    start_index -= 1\n",
    "                end\n",
    "                stop_index = last(junction_to_resample)\n",
    "                if stop_index < length(record_kmers)\n",
    "                    stop_index += 1\n",
    "                end\n",
    "                # @show start_index\n",
    "                # @show stop_index\n",
    "\n",
    "                if first(junction_to_resample) == 1\n",
    "                    record_kmers = [record_kmers[stop_index:end]...]\n",
    "                elseif last(junction_to_resample) == length(record_kmers)\n",
    "                    record_kmers = [record_kmers[1:start_index]...]\n",
    "                else\n",
    "                    # @assert haskey(solid_kmers, start_index)\n",
    "                    # @assert haskey(solid_kmers, stop_index)\n",
    "                    start_vertex = solid_subgraph[record_kmers[start_index], :kmer]\n",
    "                    stop_vertex = solid_subgraph[record_kmers[stop_index], :kmer]\n",
    "                    replacement_path = Graphs.a_star(solid_subgraph, start_vertex, stop_vertex, distance_matrix)\n",
    "                    record_kmers = [record_kmers[1:start_index]..., [solid_subgraph[edge.dst, :kmer] for edge in replacement_path[1:end-1]]..., record_kmers[stop_index:end]...]\n",
    "                end\n",
    "                kmer_is_solid = map(kmer -> kmer in solid_kmers, record_kmers)\n",
    "                junctions_to_resample = find_weak_runs(kmer_is_solid)\n",
    "            end\n",
    "            new_sequence = BioSequences.LongDNA{4}(first(record_kmers))\n",
    "            for kmer in record_kmers[2:end]\n",
    "                push!(new_sequence, last(kmer))\n",
    "            end\n",
    "            push!(updated_records, FASTX.FASTA.Record(FASTX.description(record), new_sequence))\n",
    "        end\n",
    "    end\n",
    "    return (;updated_records, k)\n",
    "end"
   ]
  },
  {
   "cell_type": "code",
   "execution_count": null,
   "id": "e4fd4b5d-d9f8-4e49-885f-906238e437e9",
   "metadata": {
    "tags": []
   },
   "outputs": [],
   "source": [
    "kmer_type = Kmers.DNAKmer{k}\n",
    "kmer_counts = Mycelia.count_kmers(kmer_type, fasta)"
   ]
  },
  {
   "cell_type": "code",
   "execution_count": null,
   "id": "d8c6efc9-4d88-46dd-a542-902da3dc4beb",
   "metadata": {},
   "outputs": [],
   "source": [
    "\n",
    "\n",
    "    unbranching_nodes = Int[]\n",
    "    for node in Graphs.vertices(stranded_kmer_graph)\n",
    "        if (Graphs.indegree(stranded_kmer_graph, node) == 1) && (Graphs.outdegree(stranded_kmer_graph, node) == 1)\n",
    "            push!(unbranching_nodes, node)\n",
    "        end\n",
    "    end\n",
    "    unvisited_unbranching_nodes = Set(unbranching_nodes)\n",
    "\n",
    "    unbranching_paths = []\n",
    "    while !isempty(unvisited_unbranching_nodes)\n",
    "        current_path = [rand(unvisited_unbranching_nodes)]\n",
    "        delete!(unvisited_unbranching_nodes, first(current_path))\n",
    "\n",
    "        outneighbors = Graphs.outneighbors(stranded_kmer_graph, last(current_path))\n",
    "\n",
    "        while length(outneighbors) == 1\n",
    "            outneighbor = first(outneighbors)\n",
    "            outneighbors_inneighbors = Graphs.inneighbors(stranded_kmer_graph, outneighbor)\n",
    "            if outneighbors_inneighbors == [last(current_path)]\n",
    "                push!(current_path, outneighbor)\n",
    "                delete!(unvisited_unbranching_nodes, outneighbor)\n",
    "                outneighbors = Graphs.outneighbors(stranded_kmer_graph, outneighbor)\n",
    "            else\n",
    "                @assert length(outneighbors_inneighbors) > 1\n",
    "                push!(current_path, outneighbor)\n",
    "                delete!(unvisited_unbranching_nodes, outneighbor)\n",
    "                break\n",
    "            end\n",
    "        end\n",
    "        # @show Graphs.outneighbors(stranded_kmer_graph, current_node)\n",
    "        inneighbors = Graphs.inneighbors(stranded_kmer_graph, first(current_path))\n",
    "        while length(inneighbors) == 1\n",
    "            inneighbor = first(inneighbors)\n",
    "            inneighbors_outneighbors = Graphs.outneighbors(stranded_kmer_graph, inneighbor)\n",
    "            if inneighbors_outneighbors == [first(current_path)]\n",
    "                pushfirst!(current_path, inneighbor)\n",
    "                delete!(unvisited_unbranching_nodes, inneighbor)\n",
    "                inneighbors = Graphs.inneighbors(stranded_kmer_graph, inneighbor)\n",
    "            else\n",
    "                @assert length(inneighbors_outneighbors) > 1\n",
    "                pushfirst!(current_path, inneighbor)\n",
    "                delete!(unvisited_unbranching_nodes, inneighbor)\n",
    "                break\n",
    "            end\n",
    "        end\n",
    "        push!(unbranching_paths, current_path)\n",
    "    end\n",
    "    unbranching_paths\n",
    "\n",
    "    unbranching_path_state_weights = [map(v -> MetaGraphs.get_prop(stranded_kmer_graph, v, :count), path) for path in unbranching_paths]\n",
    "\n",
    "    solid_unbranching_paths = unbranching_paths[minimum.(unbranching_path_state_weights) .>= solid_threshold]\n",
    "\n",
    "    # beginnings = filter(path -> Graphs.indegree(stranded_kmer_graph, first(path)) == 0, solid_unbranching_paths)\n",
    "    # ends = filter(path -> Graphs.outdegree(stranded_kmer_graph, last(path)) == 0, solid_unbranching_paths)\n",
    "    # mids = setdiff(setdiff(solid_unbranching_paths, beginnings), ends)\n",
    "    # branch_points = filter(v -> Graphs.indegree(stranded_kmer_graph, v) > 1 || Graphs.outdegree(stranded_kmer_graph, v) > 1, Graphs.vertices(stranded_kmer_graph))\n",
    "    # @assert all(x -> x in branch_points, first.(mids))\n",
    "    # @assert all(x -> x in branch_points, last.(mids))\n",
    "    # @assert all(x -> x in branch_points, first.(ends))\n",
    "    # @assert all(x -> x in branch_points, last.(beginnings))\n",
    "\n",
    "    solid_kmers = Set(collect(keys(filter(x -> x[2] >= solid_threshold, stranded_kmer_counts))))\n",
    "\n",
    "    solid_vertices = filter(v -> MetaGraphs.get_prop(stranded_kmer_graph, v, :count) >= solid_threshold, Graphs.vertices(stranded_kmer_graph))\n",
    "\n",
    "    solid_subgraph, vertex_map = Graphs.induced_subgraph(stranded_kmer_graph, solid_vertices)\n",
    "    MetaGraphs.set_indexing_prop!(solid_subgraph, :kmer)\n",
    "    distance_matrix = SparseArrays.spzeros(Graphs.nv(solid_subgraph), Graphs.nv(solid_subgraph))\n",
    "    for edge in Graphs.edges(solid_subgraph)\n",
    "        # @show edge\n",
    "        observations = MetaGraphs.get_prop(solid_subgraph, edge, :observations)\n",
    "        # @show length(observations)\n",
    "        distance_matrix[edge.src, edge.dst] = distance_matrix[edge.dst, edge.src] = 1/length(observations)\n",
    "    end\n",
    "    distance_matrix\n",
    "\n",
    "    updated_records = FASTX.FASTA.Record[]\n",
    "    for record in records\n",
    "        record_kmers = last.(collect(Kmers.EveryKmer{kmer_type}(BioSequences.LongDNA{4}(FASTX.sequence(record)))))\n",
    "        kmer_is_solid = map(kmer -> kmer in solid_kmers, record_kmers)\n",
    "        if all(kmer_is_solid)\n",
    "            push!(updated_records, record)\n",
    "        else\n",
    "            junctions_to_resample = find_weak_runs(kmer_is_solid)\n",
    "            while !isempty(junctions_to_resample)\n",
    "                junction_to_resample = first(junctions_to_resample)\n",
    "                start_index = first(junction_to_resample)\n",
    "                if start_index > 1\n",
    "                    start_index -= 1\n",
    "                end\n",
    "                stop_index = last(junction_to_resample)\n",
    "                if stop_index < length(record_kmers)\n",
    "                    stop_index += 1\n",
    "                end\n",
    "                # @show start_index\n",
    "                # @show stop_index\n",
    "\n",
    "                if first(junction_to_resample) == 1\n",
    "                    record_kmers = [record_kmers[stop_index:end]...]\n",
    "                elseif last(junction_to_resample) == length(record_kmers)\n",
    "                    record_kmers = [record_kmers[1:start_index]...]\n",
    "                else\n",
    "                    # @assert haskey(solid_kmers, start_index)\n",
    "                    # @assert haskey(solid_kmers, stop_index)\n",
    "                    start_vertex = solid_subgraph[record_kmers[start_index], :kmer]\n",
    "                    stop_vertex = solid_subgraph[record_kmers[stop_index], :kmer]\n",
    "                    replacement_path = Graphs.a_star(solid_subgraph, start_vertex, stop_vertex, distance_matrix)\n",
    "                    record_kmers = [record_kmers[1:start_index]..., [solid_subgraph[edge.dst, :kmer] for edge in replacement_path[1:end-1]]..., record_kmers[stop_index:end]...]\n",
    "                end\n",
    "                kmer_is_solid = map(kmer -> kmer in solid_kmers, record_kmers)\n",
    "                junctions_to_resample = find_weak_runs(kmer_is_solid)\n",
    "            end\n",
    "            new_sequence = BioSequences.LongDNA{4}(first(record_kmers))\n",
    "            for kmer in record_kmers[2:end]\n",
    "                push!(new_sequence, last(kmer))\n",
    "            end\n",
    "            push!(updated_records, FASTX.FASTA.Record(FASTX.description(record), new_sequence))\n",
    "        end\n",
    "    end\n",
    "    return (;updated_records, k)"
   ]
  },
  {
   "cell_type": "code",
   "execution_count": null,
   "id": "0eaf0980-a501-4f39-9dfc-a19acd092a7f",
   "metadata": {},
   "outputs": [],
   "source": []
  },
  {
   "cell_type": "code",
   "execution_count": null,
   "id": "555d8c18-d04d-458c-81ce-020da48bc91d",
   "metadata": {},
   "outputs": [],
   "source": []
  },
  {
   "cell_type": "code",
   "execution_count": null,
   "id": "4a46b6c0-8700-41aa-8cac-dd8552b949e6",
   "metadata": {
    "tags": []
   },
   "outputs": [],
   "source": [
    "Random.seed!(20240209)\n",
    "genome = BioSequences.randdnaseq(100)\n",
    "initial_records = [FASTX.FASTA.Record(Random.randstring(), Mycelia.observe(genome, error_rate=0.01)) for i in 1:100]\n",
    "prior_records = initial_records\n",
    "fasta = Mycelia.write_fasta(records = prior_records, outfile = joinpath(working_dir, Random.randstring() * \".fna\"))\n",
    "updated_records, k = polish_fastx(fasta)\n",
    "prior_records == updated_records"
   ]
  },
  {
   "cell_type": "code",
   "execution_count": null,
   "id": "6b30405c-0dc1-4ee8-8732-95520350c016",
   "metadata": {
    "tags": []
   },
   "outputs": [],
   "source": [
    "prior_records = updated_records\n",
    "temp_fasta = Mycelia.write_fasta(records = prior_records)\n",
    "updated_records, k = polish_fastx(temp_fasta, k = Primes.nextprime(k+1))\n",
    "prior_records == updated_records"
   ]
  },
  {
   "cell_type": "code",
   "execution_count": null,
   "id": "f51b61d7-6fb3-49b8-9294-6182577e8b9f",
   "metadata": {
    "tags": []
   },
   "outputs": [],
   "source": [
    "prior_records = updated_records\n",
    "temp_fasta = Mycelia.write_fasta(records = prior_records)\n",
    "updated_records, k = polish_fastx(temp_fasta, k = Primes.nextprime(k+1))\n",
    "prior_records == updated_records"
   ]
  },
  {
   "cell_type": "code",
   "execution_count": null,
   "id": "f1929fb0-ec14-4dbf-ac8c-37e4365de95c",
   "metadata": {
    "tags": []
   },
   "outputs": [],
   "source": [
    "prior_records = updated_records\n",
    "temp_fasta = Mycelia.write_fasta(records = prior_records)\n",
    "updated_records, k = polish_fastx(temp_fasta, k = Primes.nextprime(k+1))\n",
    "prior_records == updated_records"
   ]
  },
  {
   "cell_type": "code",
   "execution_count": null,
   "id": "2f6ba33e-141f-4ac3-87cc-d871cbfb53a2",
   "metadata": {
    "tags": []
   },
   "outputs": [],
   "source": [
    "fasta"
   ]
  },
  {
   "cell_type": "code",
   "execution_count": null,
   "id": "579bac8e-ae44-4275-91da-2f206ca877ac",
   "metadata": {
    "tags": []
   },
   "outputs": [],
   "source": [
    "updated_fasta = Mycelia.write_fasta(records = updated_records, outfile = fasta * \".updated.fna\")"
   ]
  },
  {
   "cell_type": "code",
   "execution_count": null,
   "id": "6b307f4e-8437-4504-a31e-c6139b9bc98c",
   "metadata": {},
   "outputs": [],
   "source": [
    "#NEED TO FIX CANONICAL KMER GRAPHS AND GFA OUTPUT - THE REST SEEMS CORRECT"
   ]
  },
  {
   "cell_type": "code",
   "execution_count": null,
   "id": "70989874-ddde-4ace-8037-6a4a2ff9bd1d",
   "metadata": {},
   "outputs": [],
   "source": [
    "k = Primes.nextprime(k+1)\n",
    "# make my own kmer graph\n",
    "assembly_graph = Mycelia.fastx_to_kmer_graph(Kmers.DNAKmer{k}, updated_fasta)\n",
    "gfa_file = updated_fasta * \".gfa\"\n",
    "Mycelia.graph_to_gfa(graph=assembly_graph, outfile=gfa_file)\n",
    "image = gfa_file * \".mycelia.gfa.jpg\"\n",
    "# run(`chmod +x $(homedir())/software/bin/Bandage`)\n",
    "run(`$(homedir())/software/bin/Bandage image $(gfa_file) $(image)`)"
   ]
  }
 ],
 "metadata": {
  "kernelspec": {
   "display_name": "Julia 1.6.7",
   "language": "julia",
   "name": "julia-1.6"
  },
  "language_info": {
   "file_extension": ".jl",
   "mimetype": "application/julia",
   "name": "julia",
   "version": "1.6.7"
  }
 },
 "nbformat": 4,
 "nbformat_minor": 5
}
