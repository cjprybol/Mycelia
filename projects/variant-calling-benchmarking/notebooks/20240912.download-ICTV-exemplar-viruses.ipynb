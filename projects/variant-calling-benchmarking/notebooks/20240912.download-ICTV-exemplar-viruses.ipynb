{
 "cells": [
  {
   "cell_type": "code",
   "execution_count": null,
   "id": "11875bd2-f458-4064-8877-9472f0507fe7",
   "metadata": {},
   "outputs": [],
   "source": [
    "# if hit plotting library issues, try resetting LD path for julia\n",
    "# can set in ~/.local/share/jupyter/kernels/\n",
    "haskey(ENV, \"LD_LIBRARY_PATH\") && @assert ENV[\"LD_LIBRARY_PATH\"] == \"\"\n",
    "\n",
    "import Pkg\n",
    "# use temp or named environment to avoid package clashes across development projects\n",
    "Pkg.activate(;temp=true)\n",
    "Pkg.add(\"Revise\")\n",
    "import Revise\n",
    "\n",
    "Pkg.develop(path=\"$(homedir())/workspace/Mycelia\")\n",
    "import Mycelia\n",
    "\n",
    "pkgs = [\n",
    "    \"DataFrames\",\n",
    "    \"CSV\",\n",
    "    \"uCSV\"\n",
    "]\n",
    "Pkg.add(pkgs)\n",
    "for pkg in pkgs\n",
    "    eval(Meta.parse(\"import $pkg\"))\n",
    "end"
   ]
  },
  {
   "cell_type": "code",
   "execution_count": null,
   "id": "48e112c8-03e1-4aeb-9c20-d67798742d90",
   "metadata": {},
   "outputs": [],
   "source": [
    "PROJECT_BASEDIR = dirname(pwd())\n",
    "data_dir = joinpath(PROJECT_BASEDIR, \"data\")\n",
    "genome_dir = mkpath(joinpath(data_dir, \"genomes\"))"
   ]
  },
  {
   "cell_type": "code",
   "execution_count": null,
   "id": "3ede5293-c58e-4b42-bf7a-b45448885971",
   "metadata": {},
   "outputs": [],
   "source": [
    "readdir(data_dir)"
   ]
  },
  {
   "cell_type": "code",
   "execution_count": null,
   "id": "6424f742-acf4-4280-9f56-605ade207f35",
   "metadata": {},
   "outputs": [],
   "source": [
    "VMR_MSL_file = joinpath(data_dir, \"VMR_MSL39_v1.tsv\")\n",
    "VMR_MSL_table = DataFrames.DataFrame(uCSV.read(VMR_MSL_file, delim='\\t', header=1))\n",
    "is_examplar = VMR_MSL_table[!, \"Exemplar or additional isolate\"] .== \"E\"\n",
    "in_refseq = .!isempty.(VMR_MSL_table[!, \"Virus REFSEQ accession\"]) .& .!occursin.(\";\", VMR_MSL_table[!, \"Virus REFSEQ accession\"])\n",
    "refseq_exemplar_table = VMR_MSL_table[is_examplar .& in_refseq, :]"
   ]
  },
  {
   "cell_type": "code",
   "execution_count": null,
   "id": "64d76d20-4d1d-4249-ba99-15d64feb8c7f",
   "metadata": {},
   "outputs": [],
   "source": [
    "# 7\n",
    "# unique(exemplar_table[!, \"Realm\"])\n",
    "\n",
    "# 11\n",
    "# unique(exemplar_table[!, \"Kingdom\"])\n",
    "\n",
    "# 19\n",
    "# unique(exemplar_table[!, \"Phylum\"])\n",
    "\n",
    "one_per_realm_df = DataFrames.DataFrame()\n",
    "for gdf in DataFrames.groupby(refseq_exemplar_table, \"Realm\")\n",
    "    @assert issorted(gdf, \"Sort\")\n",
    "    push!(one_per_realm_df, gdf[1, :])\n",
    "end\n",
    "one_per_realm_df"
   ]
  },
  {
   "cell_type": "code",
   "execution_count": null,
   "id": "6a0a1a40-16d9-4f88-aa67-7da9d4e76808",
   "metadata": {},
   "outputs": [],
   "source": [
    "for row in DataFrames.eachrow(one_per_realm_df)\n",
    "    outfile = Mycelia.download_genome_by_accession(accession = row[\"Virus REFSEQ accession\"], outdir = genome_dir, compressed=false)\n",
    "end"
   ]
  }
 ],
 "metadata": {
  "kernelspec": {
   "display_name": "julia 1.10.5",
   "language": "julia",
   "name": "julia-1.10"
  },
  "language_info": {
   "file_extension": ".jl",
   "mimetype": "application/julia",
   "name": "julia",
   "version": "1.10.5"
  }
 },
 "nbformat": 4,
 "nbformat_minor": 5
}
