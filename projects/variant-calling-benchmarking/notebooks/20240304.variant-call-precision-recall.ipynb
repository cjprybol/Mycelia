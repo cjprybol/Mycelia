{
 "cells": [
  {
   "cell_type": "code",
   "execution_count": 2,
   "id": "335bf35f-c55e-4857-83f0-ed03dc666f4e",
   "metadata": {
    "tags": []
   },
   "outputs": [
    {
     "name": "stderr",
     "output_type": "stream",
     "text": [
      "\u001b[36m\u001b[1m[ \u001b[22m\u001b[39m\u001b[36m\u001b[1mInfo: \u001b[22m\u001b[39mPrecompiling Mycelia [453d265d-8292-4a7b-a57c-dce3f9ae6acd]\n",
      "\u001b[36m\u001b[1m[ \u001b[22m\u001b[39m\u001b[36m\u001b[1mInfo: \u001b[22m\u001b[39mSkipping precompilation since __precompile__(false). Importing Mycelia [453d265d-8292-4a7b-a57c-dce3f9ae6acd].\n"
     ]
    }
   ],
   "source": [
    "# if hit plotting library issues, try resetting LD path for julia\n",
    "# can set in ~/.local/share/jupyter/kernels/\n",
    "# @assert ENV[\"LD_LIBRARY_PATH\"] == \"\"\n",
    "import Pkg\n",
    "pkgs = [\n",
    "    \"Revise\",\n",
    "    # \"FASTX\",\n",
    "    # \"StatsBase\",\n",
    "    # \"Distributions\",\n",
    "    # \"StatsPlots\",\n",
    "    # \"Random\",\n",
    "    # \"Dates\",\n",
    "    \"DataFrames\",\n",
    "    # \"BioSequences\",\n",
    "    # \"Conda\",\n",
    "    # \"Downloads\"\n",
    "]\n",
    "# Pkg.add(pkgs)\n",
    "for pkg in pkgs\n",
    "    eval(Meta.parse(\"import $pkg\"))\n",
    "end\n",
    "# Pkg.develop(path=\"/global/cfs/projectdirs/m4269/cjprybol/Mycelia\")\n",
    "# Pkg.develop(path=\"../../..\")\n",
    "import Mycelia"
   ]
  },
  {
   "cell_type": "code",
   "execution_count": 3,
   "id": "128cc1e1-929a-42e1-8376-4c81832fd40c",
   "metadata": {
    "tags": []
   },
   "outputs": [
    {
     "data": {
      "text/plain": [
       "\"/global/cfs/cdirs/m4269/cjprybol/Mycelia/projects/variant-calling-benchmarking/data/genomes\""
      ]
     },
     "execution_count": 3,
     "metadata": {},
     "output_type": "execute_result"
    }
   ],
   "source": [
    "PROJECT_BASEDIR = dirname(pwd())\n",
    "data_dir = joinpath(PROJECT_BASEDIR, \"data\")\n",
    "genome_dir = mkpath(joinpath(data_dir, \"genomes\"))"
   ]
  },
  {
   "cell_type": "code",
   "execution_count": 15,
   "id": "9d17fbd2-9885-449b-916e-569d83f14579",
   "metadata": {
    "tags": []
   },
   "outputs": [
    {
     "data": {
      "text/plain": [
       "6-element Vector{String}:\n",
       " \"/global/cfs/cdirs/m4269/cjprybol/Mycelia/projects/variant-calling-benchmarking/data/genomes/fF3EHHs.fna\"\n",
       " \"/global/cfs/cdirs/m4269/cjprybol/Mycelia/projects/variant-calling-benchmarking/data/genomes/3NEzu1DmBy.fna\"\n",
       " \"/global/cfs/cdirs/m4269/cjprybol/Mycelia/projects/variant-calling-benchmarking/data/genomes/GCF_001610725.1.fna\"\n",
       " \"/global/cfs/cdirs/m4269/cjprybol/Mycelia/projects/variant-calling-benchmarking/data/genomes/19tEIXfKKdzr.fna\"\n",
       " \"/global/cfs/cdirs/m4269/cjprybol/Mycelia/projects/variant-calling-benchmarking/data/genomes/GCF_024820135.1.fna\"\n",
       " \"/global/cfs/cdirs/m4269/cjprybol/Mycelia/projects/variant-calling-benchmarking/data/genomes/GCF_023169545.1.fna\""
      ]
     },
     "execution_count": 15,
     "metadata": {},
     "output_type": "execute_result"
    }
   ],
   "source": [
    "reference_fastas"
   ]
  },
  {
   "cell_type": "code",
   "execution_count": 18,
   "id": "7e5f9c3d-e401-468e-8dcc-3288fdb27ab2",
   "metadata": {
    "tags": []
   },
   "outputs": [
    {
     "data": {
      "text/plain": [
       "6-element Vector{String}:\n",
       " \"/global/cfs/cdirs/m4269/cjprybol/Mycelia/projects/variant-calling-benchmarking/data/genomes/fF3EHHs.fna.normalized.vcf.gz\"\n",
       " \"/global/cfs/cdirs/m4269/cjprybol/Mycelia/projects/variant-calling-benchmarking/data/genomes/3NEzu1DmBy.fna.normalized.vcf.gz\"\n",
       " \"/global/cfs/cdirs/m4269/cjprybol/Mycelia/projects/variant-calling-benchmarking/data/genomes/GCF_001610725.1.fna.normalized.vcf.gz\"\n",
       " \"/global/cfs/cdirs/m4269/cjprybol/Mycelia/projects/variant-calling-benchmarking/data/genomes/19tEIXfKKdzr.fna.normalized.vcf.gz\"\n",
       " \"/global/cfs/cdirs/m4269/cjprybol/Mycelia/projects/variant-calling-benchmarking/data/genomes/GCF_024820135.1.fna.normalized.vcf.gz\"\n",
       " \"/global/cfs/cdirs/m4269/cjprybol/Mycelia/projects/variant-calling-benchmarking/data/genomes/GCF_023169545.1.fna.normalized.vcf.gz\""
      ]
     },
     "execution_count": 18,
     "metadata": {},
     "output_type": "execute_result"
    }
   ],
   "source": [
    "reference_fastas = sort(filter(x -> occursin(r\"\\.fna$\", x) && !occursin(\"normalized\", x), readdir(genome_dir, join=true)), by=x->filesize(x))\n",
    "for reference_fasta in reference_fastas\n",
    "    if !isdir(reference_fasta * \"_RTG\")\n",
    "        run(`$(Mycelia.MAMBA) run --live-stream -n rtg-tools rtg format -o $(reference_fasta)_RTG $(reference_fasta)`)\n",
    "    end\n",
    "end\n",
    "identifier_to_reference_fasta = Dict(first(split(basename(x), '.')) => x for x in reference_fastas)\n",
    "reference_variants = sort(filter(x -> occursin(r\"fna\\.normalized\\.vcf\\.gz$\", x), readdir(genome_dir, join=true)), by=x->filesize(x))"
   ]
  },
  {
   "cell_type": "code",
   "execution_count": 19,
   "id": "db438e37-d8b0-4b29-94c0-98e315b547c6",
   "metadata": {
    "tags": []
   },
   "outputs": [
    {
     "data": {
      "text/plain": [
       "Dict{SubString{String}, String} with 6 entries:\n",
       "  \"GCF_024820135\" => \"/global/cfs/cdirs/m4269/cjprybol/Mycelia/projects/variant…\n",
       "  \"GCF_023169545\" => \"/global/cfs/cdirs/m4269/cjprybol/Mycelia/projects/variant…\n",
       "  \"3NEzu1DmBy\"    => \"/global/cfs/cdirs/m4269/cjprybol/Mycelia/projects/variant…\n",
       "  \"GCF_001610725\" => \"/global/cfs/cdirs/m4269/cjprybol/Mycelia/projects/variant…\n",
       "  \"19tEIXfKKdzr\"  => \"/global/cfs/cdirs/m4269/cjprybol/Mycelia/projects/variant…\n",
       "  \"fF3EHHs\"       => \"/global/cfs/cdirs/m4269/cjprybol/Mycelia/projects/variant…"
      ]
     },
     "execution_count": 19,
     "metadata": {},
     "output_type": "execute_result"
    }
   ],
   "source": [
    "identifiers = [first(split(basename(x), '.')) for x in reference_variants]\n",
    "identifier_to_reference_variants = Dict(first(split(basename(x), '.')) => x for x in reference_variants)"
   ]
  },
  {
   "cell_type": "code",
   "execution_count": 20,
   "id": "90754ca7-0fbc-4a21-99cf-318eb3815acf",
   "metadata": {
    "tags": []
   },
   "outputs": [
    {
     "data": {
      "text/plain": [
       "127-element Vector{String}:\n",
       " \"/global/cfs/cdirs/m4269/cjprybol/Mycelia/projects/variant-calling-benchmarking/data/genomes/19tEIXfKKdzr-cactus/19tEIXfKKdzr-cactus.vcf.gz\"\n",
       " \"/global/cfs/cdirs/m4269/cjprybol/Mycelia/projects/variant-calling-benchmarking/data/genomes/3NEzu1DmBy-cactus/3NEzu1DmBy-cactus.vcf.gz\"\n",
       " \"/global/cfs/cdirs/m4269/cjprybol/Mycelia/projects/variant-calling-benchmarking/data/genomes/GCF_001610725-cactus/GCF_001610725-cactus.vcf.gz\"\n",
       " \"/global/cfs/cdirs/m4269/cjprybol/Mycelia/projects/variant-calling-benchmarking/data/genomes/GCF_023169545-cactus/GCF_023169545-cactus.vcf.gz\"\n",
       " \"/global/cfs/cdirs/m4269/cjprybol/Mycelia/projects/variant-calling-benchmarking/data/genomes/GCF_024820135-cactus/GCF_024820135-cactus.vcf.gz\"\n",
       " \"/global/cfs/cdirs/m4269/cjprybol/Mycelia/projects/variant-calling-benchmarking/data/genomes/fF3EHHs-cactus/fF3EHHs-cactus.vcf.gz\"\n",
       " \"/global/cfs/cdirs/m4269/cjprybol/Mycelia/projects/variant-calling-benchmarking/data/genomes/19tEIXfKKdzr.fna__19tEIXfKKdzr.fna.normalized.vcf.fna.joint.fna__PGGB/19tEIXfKKdzr.fna__19tEIXfKKdzr.fna.normalized.vcf.fna.joint.fna.e316b50.417fcdf.db7e83b.smooth.final.gfa.fixed.vcf\"\n",
       " \"/global/cfs/cdirs/m4269/cjprybol/Mycelia/projects/variant-calling-benchmarking/data/genomes/19tEIXfKKdzr.fna__19tEIXfKKdzr.fna.normalized.vcf.fna.joint.fna__PGGB/19tEIXfKKdzr.fna__19tEIXfKKdzr.fna.normalized.vcf.fna.joint.fna.e316b50.417fcdf.db7e83b.smooth.final.gfa.vcf\"\n",
       " \"/global/cfs/cdirs/m4269/cjprybol/Mycelia/projects/variant-calling-benchmarking/data/genomes/3NEzu1DmBy.fna__3NEzu1DmBy.fna.normalized.vcf.fna.joint.fna__PGGB/3NEzu1DmBy.fna__3NEzu1DmBy.fna.normalized.vcf.fna.joint.fna.e316b50.417fcdf.db7e83b.smooth.final.gfa.fixed.vcf\"\n",
       " \"/global/cfs/cdirs/m4269/cjprybol/Mycelia/projects/variant-calling-benchmarking/data/genomes/3NEzu1DmBy.fna__3NEzu1DmBy.fna.normalized.vcf.fna.joint.fna__PGGB/3NEzu1DmBy.fna__3NEzu1DmBy.fna.normalized.vcf.fna.joint.fna.e316b50.417fcdf.db7e83b.smooth.final.gfa.vcf\"\n",
       " \"/global/cfs/cdirs/m4269/cjprybol/Mycelia/projects/variant-calling-benchmarking/data/genomes/GCF_001610725.1.fna__GCF_001610725.1.fna.normalized.vcf.fna.joint.fna__PGGB/GCF_001610725.1.fna__GCF_001610725.1.fna.normalized.vcf.fna.joint.fna.e316b50.417fcdf.db7e83b.smooth.final.gfa.fixed.fixed.vcf\"\n",
       " \"/global/cfs/cdirs/m4269/cjprybol/Mycelia/projects/variant-calling-benchmarking/data/genomes/GCF_001610725.1.fna__GCF_001610725.1.fna.normalized.vcf.fna.joint.fna__PGGB/GCF_001610725.1.fna__GCF_001610725.1.fna.normalized.vcf.fna.joint.fna.e316b50.417fcdf.db7e83b.smooth.final.gfa.fixed.vcf\"\n",
       " \"/global/cfs/cdirs/m4269/cjprybol/Mycelia/projects/variant-calling-benchmarking/data/genomes/GCF_001610725.1.fna__GCF_001610725.1.fna.normalized.vcf.fna.joint.fna__PGGB/GCF_001610725.1.fna__GCF_001610725.1.fna.normalized.vcf.fna.joint.fna.e316b50.417fcdf.db7e83b.smooth.final.gfa.vcf\"\n",
       " ⋮\n",
       " \"/global/cfs/cdirs/m4269/cjprybol/Mycelia/projects/variant-calling-benchmarking/data/genomes/fF3EHHs.fna.normalized.vcf.fna.art.1000x.minimap2.sorted.bam.bcftools.vcf\"\n",
       " \"/global/cfs/cdirs/m4269/cjprybol/Mycelia/projects/variant-calling-benchmarking/data/genomes/fF3EHHs.fna.normalized.vcf.fna.art.1000x.minimap2.sorted.bam.freebayes.vcf\"\n",
       " \"/global/cfs/cdirs/m4269/cjprybol/Mycelia/projects/variant-calling-benchmarking/data/genomes/fF3EHHs.fna.normalized.vcf.fna.art.100x.minimap2.sorted.bam.bcftools.vcf\"\n",
       " \"/global/cfs/cdirs/m4269/cjprybol/Mycelia/projects/variant-calling-benchmarking/data/genomes/fF3EHHs.fna.normalized.vcf.fna.art.100x.minimap2.sorted.bam.freebayes.vcf\"\n",
       " \"/global/cfs/cdirs/m4269/cjprybol/Mycelia/projects/variant-calling-benchmarking/data/genomes/fF3EHHs.fna.normalized.vcf.fna.art.10x.minimap2.sorted.bam.bcftools.vcf\"\n",
       " \"/global/cfs/cdirs/m4269/cjprybol/Mycelia/projects/variant-calling-benchmarking/data/genomes/fF3EHHs.fna.normalized.vcf.fna.art.10x.minimap2.sorted.bam.freebayes.vcf\"\n",
       " \"/global/cfs/cdirs/m4269/cjprybol/Mycelia/projects/variant-calling-benchmarking/data/genomes/fF3EHHs.fna.normalized.vcf.fna.badread.1000x.filtlong.fq.gz.minimap2.sorted.bam.bcftools.vcf\"\n",
       " \"/global/cfs/cdirs/m4269/cjprybol/Mycelia/projects/variant-calling-benchmarking/data/genomes/fF3EHHs.fna.normalized.vcf.fna.badread.1000x.filtlong.fq.gz.minimap2.sorted.bam.freebayes.vcf\"\n",
       " \"/global/cfs/cdirs/m4269/cjprybol/Mycelia/projects/variant-calling-benchmarking/data/genomes/fF3EHHs.fna.normalized.vcf.fna.badread.100x.filtlong.fq.gz.minimap2.sorted.bam.bcftools.vcf\"\n",
       " \"/global/cfs/cdirs/m4269/cjprybol/Mycelia/projects/variant-calling-benchmarking/data/genomes/fF3EHHs.fna.normalized.vcf.fna.badread.100x.filtlong.fq.gz.minimap2.sorted.bam.freebayes.vcf\"\n",
       " \"/global/cfs/cdirs/m4269/cjprybol/Mycelia/projects/variant-calling-benchmarking/data/genomes/fF3EHHs.fna.normalized.vcf.fna.badread.10x.filtlong.fq.gz.minimap2.sorted.bam.bcftools.vcf\"\n",
       " \"/global/cfs/cdirs/m4269/cjprybol/Mycelia/projects/variant-calling-benchmarking/data/genomes/fF3EHHs.fna.normalized.vcf.fna.badread.10x.filtlong.fq.gz.minimap2.sorted.bam.freebayes.vcf\""
      ]
     },
     "execution_count": 20,
     "metadata": {},
     "output_type": "execute_result"
    }
   ],
   "source": [
    "\n",
    "\n",
    "cactus_dirs = filter(x -> occursin(r\"cactus\"i, x) && isdir(x), readdir(genome_dir, join=true))\n",
    "pggb_dirs = filter(x -> occursin(r\"pggb\"i, x), readdir(genome_dir, join=true))\n",
    "clair3_dirs = filter(x -> occursin(r\"clair3$\"i, x) && isdir(x), readdir(genome_dir, join=true))\n",
    "other_vcfs = filter(x -> occursin(r\"vcf$\", x) && isfile(x) && (occursin(r\"bcftools\", x) || occursin(r\"freebayes\", x)) && !occursin(r\"\\.sorted\\.vcf$\", x), readdir(genome_dir, join=true))\n",
    "clair3_vcfs = joinpath.(clair3_dirs, \"merge_output.vcf.gz\")\n",
    "pggb_vcfs = filter(x -> occursin(r\"\\.vcf$\", x), reduce(vcat, readdir.(pggb_dirs, join=true)))\n",
    "cactus_vcfs = filter(x -> occursin(r\"cactus\\.vcf\\.gz$\", x), reduce(vcat, readdir.(cactus_dirs, join=true)))\n",
    "vcfs = vcat(cactus_vcfs, pggb_vcfs, clair3_vcfs, other_vcfs)"
   ]
  },
  {
   "cell_type": "code",
   "execution_count": 21,
   "id": "e56faf28-a9b5-4fdc-b336-866ff5fc3cf8",
   "metadata": {
    "tags": []
   },
   "outputs": [
    {
     "data": {
      "text/plain": [
       "120-element Vector{String}:\n",
       " \"/global/cfs/cdirs/m4269/cjprybol/Mycelia/projects/variant-calling-benchmarking/data/genomes/19tEIXfKKdzr-cactus/19tEIXfKKdzr-cactus.vcf.gz\"\n",
       " \"/global/cfs/cdirs/m4269/cjprybol/Mycelia/projects/variant-calling-benchmarking/data/genomes/3NEzu1DmBy-cactus/3NEzu1DmBy-cactus.vcf.gz\"\n",
       " \"/global/cfs/cdirs/m4269/cjprybol/Mycelia/projects/variant-calling-benchmarking/data/genomes/GCF_001610725-cactus/GCF_001610725-cactus.vcf.gz\"\n",
       " \"/global/cfs/cdirs/m4269/cjprybol/Mycelia/projects/variant-calling-benchmarking/data/genomes/GCF_023169545-cactus/GCF_023169545-cactus.vcf.gz\"\n",
       " \"/global/cfs/cdirs/m4269/cjprybol/Mycelia/projects/variant-calling-benchmarking/data/genomes/GCF_024820135-cactus/GCF_024820135-cactus.vcf.gz\"\n",
       " \"/global/cfs/cdirs/m4269/cjprybol/Mycelia/projects/variant-calling-benchmarking/data/genomes/fF3EHHs-cactus/fF3EHHs-cactus.vcf.gz\"\n",
       " \"/global/cfs/cdirs/m4269/cjprybol/Mycelia/projects/variant-calling-benchmarking/data/genomes/19tEIXfKKdzr.fna__19tEIXfKKdzr.fna.normalized.vcf.fna.joint.fna__PGGB/19tEIXfKKdzr.fna__19tEIXfKKdzr.fna.normalized.vcf.fna.joint.fna.e316b50.417fcdf.db7e83b.smooth.final.gfa.vcf\"\n",
       " \"/global/cfs/cdirs/m4269/cjprybol/Mycelia/projects/variant-calling-benchmarking/data/genomes/3NEzu1DmBy.fna__3NEzu1DmBy.fna.normalized.vcf.fna.joint.fna__PGGB/3NEzu1DmBy.fna__3NEzu1DmBy.fna.normalized.vcf.fna.joint.fna.e316b50.417fcdf.db7e83b.smooth.final.gfa.vcf\"\n",
       " \"/global/cfs/cdirs/m4269/cjprybol/Mycelia/projects/variant-calling-benchmarking/data/genomes/GCF_001610725.1.fna__GCF_001610725.1.fna.normalized.vcf.fna.joint.fna__PGGB/GCF_001610725.1.fna__GCF_001610725.1.fna.normalized.vcf.fna.joint.fna.e316b50.417fcdf.db7e83b.smooth.final.gfa.vcf\"\n",
       " \"/global/cfs/cdirs/m4269/cjprybol/Mycelia/projects/variant-calling-benchmarking/data/genomes/GCF_023169545.1.fna__GCF_023169545.1.fna.normalized.vcf.fna.joint.fna__PGGB/GCF_023169545.1.fna__GCF_023169545.1.fna.normalized.vcf.fna.joint.fna.e316b50.417fcdf.db7e83b.smooth.final.gfa.vcf\"\n",
       " \"/global/cfs/cdirs/m4269/cjprybol/Mycelia/projects/variant-calling-benchmarking/data/genomes/GCF_024820135.1.fna__GCF_024820135.1.fna.normalized.vcf.fna.joint.fna__PGGB/GCF_024820135.1.fna__GCF_024820135.1.fna.normalized.vcf.fna.joint.fna.e316b50.417fcdf.db7e83b.smooth.final.gfa.vcf\"\n",
       " \"/global/cfs/cdirs/m4269/cjprybol/Mycelia/projects/variant-calling-benchmarking/data/genomes/fF3EHHs.fna__fF3EHHs.fna.normalized.vcf.fna.joint.fna__PGGB/fF3EHHs.fna__fF3EHHs.fna.normalized.vcf.fna.joint.fna.e316b50.417fcdf.db7e83b.smooth.final.gfa.vcf\"\n",
       " \"/global/cfs/cdirs/m4269/cjprybol/Mycelia/projects/variant-calling-benchmarking/data/genomes/19tEIXfKKdzr.fna.normalized.vcf.fna.art.1000x.minimap2.sorted.bam.clair3/merge_output.vcf.gz\"\n",
       " ⋮\n",
       " \"/global/cfs/cdirs/m4269/cjprybol/Mycelia/projects/variant-calling-benchmarking/data/genomes/fF3EHHs.fna.normalized.vcf.fna.art.1000x.minimap2.sorted.bam.bcftools.vcf\"\n",
       " \"/global/cfs/cdirs/m4269/cjprybol/Mycelia/projects/variant-calling-benchmarking/data/genomes/fF3EHHs.fna.normalized.vcf.fna.art.1000x.minimap2.sorted.bam.freebayes.vcf\"\n",
       " \"/global/cfs/cdirs/m4269/cjprybol/Mycelia/projects/variant-calling-benchmarking/data/genomes/fF3EHHs.fna.normalized.vcf.fna.art.100x.minimap2.sorted.bam.bcftools.vcf\"\n",
       " \"/global/cfs/cdirs/m4269/cjprybol/Mycelia/projects/variant-calling-benchmarking/data/genomes/fF3EHHs.fna.normalized.vcf.fna.art.100x.minimap2.sorted.bam.freebayes.vcf\"\n",
       " \"/global/cfs/cdirs/m4269/cjprybol/Mycelia/projects/variant-calling-benchmarking/data/genomes/fF3EHHs.fna.normalized.vcf.fna.art.10x.minimap2.sorted.bam.bcftools.vcf\"\n",
       " \"/global/cfs/cdirs/m4269/cjprybol/Mycelia/projects/variant-calling-benchmarking/data/genomes/fF3EHHs.fna.normalized.vcf.fna.art.10x.minimap2.sorted.bam.freebayes.vcf\"\n",
       " \"/global/cfs/cdirs/m4269/cjprybol/Mycelia/projects/variant-calling-benchmarking/data/genomes/fF3EHHs.fna.normalized.vcf.fna.badread.1000x.filtlong.fq.gz.minimap2.sorted.bam.bcftools.vcf\"\n",
       " \"/global/cfs/cdirs/m4269/cjprybol/Mycelia/projects/variant-calling-benchmarking/data/genomes/fF3EHHs.fna.normalized.vcf.fna.badread.1000x.filtlong.fq.gz.minimap2.sorted.bam.freebayes.vcf\"\n",
       " \"/global/cfs/cdirs/m4269/cjprybol/Mycelia/projects/variant-calling-benchmarking/data/genomes/fF3EHHs.fna.normalized.vcf.fna.badread.100x.filtlong.fq.gz.minimap2.sorted.bam.bcftools.vcf\"\n",
       " \"/global/cfs/cdirs/m4269/cjprybol/Mycelia/projects/variant-calling-benchmarking/data/genomes/fF3EHHs.fna.normalized.vcf.fna.badread.100x.filtlong.fq.gz.minimap2.sorted.bam.freebayes.vcf\"\n",
       " \"/global/cfs/cdirs/m4269/cjprybol/Mycelia/projects/variant-calling-benchmarking/data/genomes/fF3EHHs.fna.normalized.vcf.fna.badread.10x.filtlong.fq.gz.minimap2.sorted.bam.bcftools.vcf\"\n",
       " \"/global/cfs/cdirs/m4269/cjprybol/Mycelia/projects/variant-calling-benchmarking/data/genomes/fF3EHHs.fna.normalized.vcf.fna.badread.10x.filtlong.fq.gz.minimap2.sorted.bam.freebayes.vcf\""
      ]
     },
     "execution_count": 21,
     "metadata": {},
     "output_type": "execute_result"
    }
   ],
   "source": [
    "vcfs = filter(x -> !occursin(\"fixed\", x), vcfs)"
   ]
  },
  {
   "cell_type": "code",
   "execution_count": 22,
   "id": "e05a2163-3dfe-42cf-abaf-670154a76893",
   "metadata": {
    "tags": []
   },
   "outputs": [],
   "source": [
    "# make a table that lists calling method, identifier, file path"
   ]
  },
  {
   "cell_type": "code",
   "execution_count": 23,
   "id": "b2cb8d0c-f318-4733-96ff-8017f0084908",
   "metadata": {
    "tags": []
   },
   "outputs": [
    {
     "data": {
      "text/html": [
       "<div><div style = \"float: left;\"><span>120×4 DataFrame</span></div><div style = \"float: right;\"><span style = \"font-style: italic;\">95 rows omitted</span></div><div style = \"clear: both;\"></div></div><div class = \"data-frame\" style = \"overflow-x: scroll;\"><table class = \"data-frame\" style = \"margin-bottom: 6px;\"><thead><tr class = \"header\"><th class = \"rowNumber\" style = \"font-weight: bold; text-align: right;\">Row</th><th style = \"text-align: left;\">identifier</th><th style = \"text-align: left;\">variant_caller</th><th style = \"text-align: left;\">coverage</th><th style = \"text-align: left;\">vcf</th></tr><tr class = \"subheader headerLastRow\"><th class = \"rowNumber\" style = \"font-weight: bold; text-align: right;\"></th><th title = \"String\" style = \"text-align: left;\">String</th><th title = \"String\" style = \"text-align: left;\">String</th><th title = \"String\" style = \"text-align: left;\">String</th><th title = \"String\" style = \"text-align: left;\">String</th></tr></thead><tbody><tr><td class = \"rowNumber\" style = \"font-weight: bold; text-align: right;\">1</td><td style = \"text-align: left;\">19tEIXfKKdzr</td><td style = \"text-align: left;\">cactus</td><td style = \"text-align: left;\">N/A</td><td style = \"text-align: left;\">/global/cfs/cdirs/m4269/cjprybol/Mycelia/projects/variant-calling-benchmarking/data/genomes/19tEIXfKKdzr-cactus/19tEIXfKKdzr-cactus.vcf.gz</td></tr><tr><td class = \"rowNumber\" style = \"font-weight: bold; text-align: right;\">2</td><td style = \"text-align: left;\">3NEzu1DmBy</td><td style = \"text-align: left;\">cactus</td><td style = \"text-align: left;\">N/A</td><td style = \"text-align: left;\">/global/cfs/cdirs/m4269/cjprybol/Mycelia/projects/variant-calling-benchmarking/data/genomes/3NEzu1DmBy-cactus/3NEzu1DmBy-cactus.vcf.gz</td></tr><tr><td class = \"rowNumber\" style = \"font-weight: bold; text-align: right;\">3</td><td style = \"text-align: left;\">GCF_001610725</td><td style = \"text-align: left;\">cactus</td><td style = \"text-align: left;\">N/A</td><td style = \"text-align: left;\">/global/cfs/cdirs/m4269/cjprybol/Mycelia/projects/variant-calling-benchmarking/data/genomes/GCF_001610725-cactus/GCF_001610725-cactus.vcf.gz</td></tr><tr><td class = \"rowNumber\" style = \"font-weight: bold; text-align: right;\">4</td><td style = \"text-align: left;\">GCF_023169545</td><td style = \"text-align: left;\">cactus</td><td style = \"text-align: left;\">N/A</td><td style = \"text-align: left;\">/global/cfs/cdirs/m4269/cjprybol/Mycelia/projects/variant-calling-benchmarking/data/genomes/GCF_023169545-cactus/GCF_023169545-cactus.vcf.gz</td></tr><tr><td class = \"rowNumber\" style = \"font-weight: bold; text-align: right;\">5</td><td style = \"text-align: left;\">GCF_024820135</td><td style = \"text-align: left;\">cactus</td><td style = \"text-align: left;\">N/A</td><td style = \"text-align: left;\">/global/cfs/cdirs/m4269/cjprybol/Mycelia/projects/variant-calling-benchmarking/data/genomes/GCF_024820135-cactus/GCF_024820135-cactus.vcf.gz</td></tr><tr><td class = \"rowNumber\" style = \"font-weight: bold; text-align: right;\">6</td><td style = \"text-align: left;\">fF3EHHs</td><td style = \"text-align: left;\">cactus</td><td style = \"text-align: left;\">N/A</td><td style = \"text-align: left;\">/global/cfs/cdirs/m4269/cjprybol/Mycelia/projects/variant-calling-benchmarking/data/genomes/fF3EHHs-cactus/fF3EHHs-cactus.vcf.gz</td></tr><tr><td class = \"rowNumber\" style = \"font-weight: bold; text-align: right;\">7</td><td style = \"text-align: left;\">19tEIXfKKdzr</td><td style = \"text-align: left;\">PGGB</td><td style = \"text-align: left;\">N/A</td><td style = \"text-align: left;\">/global/cfs/cdirs/m4269/cjprybol/Mycelia/projects/variant-calling-benchmarking/data/genomes/19tEIXfKKdzr.fna__19tEIXfKKdzr.fna.normalized.vcf.fna.joint.fna__PGGB/19tEIXfKKdzr.fna__19tEIXfKKdzr.fna.normalized.vcf.fna.joint.fna.e316b50.417fcdf.db7e83b.smooth.final.gfa.vcf</td></tr><tr><td class = \"rowNumber\" style = \"font-weight: bold; text-align: right;\">8</td><td style = \"text-align: left;\">3NEzu1DmBy</td><td style = \"text-align: left;\">PGGB</td><td style = \"text-align: left;\">N/A</td><td style = \"text-align: left;\">/global/cfs/cdirs/m4269/cjprybol/Mycelia/projects/variant-calling-benchmarking/data/genomes/3NEzu1DmBy.fna__3NEzu1DmBy.fna.normalized.vcf.fna.joint.fna__PGGB/3NEzu1DmBy.fna__3NEzu1DmBy.fna.normalized.vcf.fna.joint.fna.e316b50.417fcdf.db7e83b.smooth.final.gfa.vcf</td></tr><tr><td class = \"rowNumber\" style = \"font-weight: bold; text-align: right;\">9</td><td style = \"text-align: left;\">GCF_001610725</td><td style = \"text-align: left;\">PGGB</td><td style = \"text-align: left;\">N/A</td><td style = \"text-align: left;\">/global/cfs/cdirs/m4269/cjprybol/Mycelia/projects/variant-calling-benchmarking/data/genomes/GCF_001610725.1.fna__GCF_001610725.1.fna.normalized.vcf.fna.joint.fna__PGGB/GCF_001610725.1.fna__GCF_001610725.1.fna.normalized.vcf.fna.joint.fna.e316b50.417fcdf.db7e83b.smooth.final.gfa.vcf</td></tr><tr><td class = \"rowNumber\" style = \"font-weight: bold; text-align: right;\">10</td><td style = \"text-align: left;\">GCF_023169545</td><td style = \"text-align: left;\">PGGB</td><td style = \"text-align: left;\">N/A</td><td style = \"text-align: left;\">/global/cfs/cdirs/m4269/cjprybol/Mycelia/projects/variant-calling-benchmarking/data/genomes/GCF_023169545.1.fna__GCF_023169545.1.fna.normalized.vcf.fna.joint.fna__PGGB/GCF_023169545.1.fna__GCF_023169545.1.fna.normalized.vcf.fna.joint.fna.e316b50.417fcdf.db7e83b.smooth.final.gfa.vcf</td></tr><tr><td class = \"rowNumber\" style = \"font-weight: bold; text-align: right;\">11</td><td style = \"text-align: left;\">GCF_024820135</td><td style = \"text-align: left;\">PGGB</td><td style = \"text-align: left;\">N/A</td><td style = \"text-align: left;\">/global/cfs/cdirs/m4269/cjprybol/Mycelia/projects/variant-calling-benchmarking/data/genomes/GCF_024820135.1.fna__GCF_024820135.1.fna.normalized.vcf.fna.joint.fna__PGGB/GCF_024820135.1.fna__GCF_024820135.1.fna.normalized.vcf.fna.joint.fna.e316b50.417fcdf.db7e83b.smooth.final.gfa.vcf</td></tr><tr><td class = \"rowNumber\" style = \"font-weight: bold; text-align: right;\">12</td><td style = \"text-align: left;\">fF3EHHs</td><td style = \"text-align: left;\">PGGB</td><td style = \"text-align: left;\">N/A</td><td style = \"text-align: left;\">/global/cfs/cdirs/m4269/cjprybol/Mycelia/projects/variant-calling-benchmarking/data/genomes/fF3EHHs.fna__fF3EHHs.fna.normalized.vcf.fna.joint.fna__PGGB/fF3EHHs.fna__fF3EHHs.fna.normalized.vcf.fna.joint.fna.e316b50.417fcdf.db7e83b.smooth.final.gfa.vcf</td></tr><tr><td class = \"rowNumber\" style = \"font-weight: bold; text-align: right;\">13</td><td style = \"text-align: left;\">19tEIXfKKdzr</td><td style = \"text-align: left;\">clair3</td><td style = \"text-align: left;\">1000x</td><td style = \"text-align: left;\">/global/cfs/cdirs/m4269/cjprybol/Mycelia/projects/variant-calling-benchmarking/data/genomes/19tEIXfKKdzr.fna.normalized.vcf.fna.art.1000x.minimap2.sorted.bam.clair3/merge_output.vcf.gz</td></tr><tr><td style = \"text-align: right;\">&vellip;</td><td style = \"text-align: right;\">&vellip;</td><td style = \"text-align: right;\">&vellip;</td><td style = \"text-align: right;\">&vellip;</td><td style = \"text-align: right;\">&vellip;</td></tr><tr><td class = \"rowNumber\" style = \"font-weight: bold; text-align: right;\">109</td><td style = \"text-align: left;\">fF3EHHs</td><td style = \"text-align: left;\">bcftools</td><td style = \"text-align: left;\">1000x</td><td style = \"text-align: left;\">/global/cfs/cdirs/m4269/cjprybol/Mycelia/projects/variant-calling-benchmarking/data/genomes/fF3EHHs.fna.normalized.vcf.fna.art.1000x.minimap2.sorted.bam.bcftools.vcf</td></tr><tr><td class = \"rowNumber\" style = \"font-weight: bold; text-align: right;\">110</td><td style = \"text-align: left;\">fF3EHHs</td><td style = \"text-align: left;\">freebayes</td><td style = \"text-align: left;\">1000x</td><td style = \"text-align: left;\">/global/cfs/cdirs/m4269/cjprybol/Mycelia/projects/variant-calling-benchmarking/data/genomes/fF3EHHs.fna.normalized.vcf.fna.art.1000x.minimap2.sorted.bam.freebayes.vcf</td></tr><tr><td class = \"rowNumber\" style = \"font-weight: bold; text-align: right;\">111</td><td style = \"text-align: left;\">fF3EHHs</td><td style = \"text-align: left;\">bcftools</td><td style = \"text-align: left;\">100x</td><td style = \"text-align: left;\">/global/cfs/cdirs/m4269/cjprybol/Mycelia/projects/variant-calling-benchmarking/data/genomes/fF3EHHs.fna.normalized.vcf.fna.art.100x.minimap2.sorted.bam.bcftools.vcf</td></tr><tr><td class = \"rowNumber\" style = \"font-weight: bold; text-align: right;\">112</td><td style = \"text-align: left;\">fF3EHHs</td><td style = \"text-align: left;\">freebayes</td><td style = \"text-align: left;\">100x</td><td style = \"text-align: left;\">/global/cfs/cdirs/m4269/cjprybol/Mycelia/projects/variant-calling-benchmarking/data/genomes/fF3EHHs.fna.normalized.vcf.fna.art.100x.minimap2.sorted.bam.freebayes.vcf</td></tr><tr><td class = \"rowNumber\" style = \"font-weight: bold; text-align: right;\">113</td><td style = \"text-align: left;\">fF3EHHs</td><td style = \"text-align: left;\">bcftools</td><td style = \"text-align: left;\">10x</td><td style = \"text-align: left;\">/global/cfs/cdirs/m4269/cjprybol/Mycelia/projects/variant-calling-benchmarking/data/genomes/fF3EHHs.fna.normalized.vcf.fna.art.10x.minimap2.sorted.bam.bcftools.vcf</td></tr><tr><td class = \"rowNumber\" style = \"font-weight: bold; text-align: right;\">114</td><td style = \"text-align: left;\">fF3EHHs</td><td style = \"text-align: left;\">freebayes</td><td style = \"text-align: left;\">10x</td><td style = \"text-align: left;\">/global/cfs/cdirs/m4269/cjprybol/Mycelia/projects/variant-calling-benchmarking/data/genomes/fF3EHHs.fna.normalized.vcf.fna.art.10x.minimap2.sorted.bam.freebayes.vcf</td></tr><tr><td class = \"rowNumber\" style = \"font-weight: bold; text-align: right;\">115</td><td style = \"text-align: left;\">fF3EHHs</td><td style = \"text-align: left;\">bcftools</td><td style = \"text-align: left;\">1000x</td><td style = \"text-align: left;\">/global/cfs/cdirs/m4269/cjprybol/Mycelia/projects/variant-calling-benchmarking/data/genomes/fF3EHHs.fna.normalized.vcf.fna.badread.1000x.filtlong.fq.gz.minimap2.sorted.bam.bcftools.vcf</td></tr><tr><td class = \"rowNumber\" style = \"font-weight: bold; text-align: right;\">116</td><td style = \"text-align: left;\">fF3EHHs</td><td style = \"text-align: left;\">freebayes</td><td style = \"text-align: left;\">1000x</td><td style = \"text-align: left;\">/global/cfs/cdirs/m4269/cjprybol/Mycelia/projects/variant-calling-benchmarking/data/genomes/fF3EHHs.fna.normalized.vcf.fna.badread.1000x.filtlong.fq.gz.minimap2.sorted.bam.freebayes.vcf</td></tr><tr><td class = \"rowNumber\" style = \"font-weight: bold; text-align: right;\">117</td><td style = \"text-align: left;\">fF3EHHs</td><td style = \"text-align: left;\">bcftools</td><td style = \"text-align: left;\">100x</td><td style = \"text-align: left;\">/global/cfs/cdirs/m4269/cjprybol/Mycelia/projects/variant-calling-benchmarking/data/genomes/fF3EHHs.fna.normalized.vcf.fna.badread.100x.filtlong.fq.gz.minimap2.sorted.bam.bcftools.vcf</td></tr><tr><td class = \"rowNumber\" style = \"font-weight: bold; text-align: right;\">118</td><td style = \"text-align: left;\">fF3EHHs</td><td style = \"text-align: left;\">freebayes</td><td style = \"text-align: left;\">100x</td><td style = \"text-align: left;\">/global/cfs/cdirs/m4269/cjprybol/Mycelia/projects/variant-calling-benchmarking/data/genomes/fF3EHHs.fna.normalized.vcf.fna.badread.100x.filtlong.fq.gz.minimap2.sorted.bam.freebayes.vcf</td></tr><tr><td class = \"rowNumber\" style = \"font-weight: bold; text-align: right;\">119</td><td style = \"text-align: left;\">fF3EHHs</td><td style = \"text-align: left;\">bcftools</td><td style = \"text-align: left;\">10x</td><td style = \"text-align: left;\">/global/cfs/cdirs/m4269/cjprybol/Mycelia/projects/variant-calling-benchmarking/data/genomes/fF3EHHs.fna.normalized.vcf.fna.badread.10x.filtlong.fq.gz.minimap2.sorted.bam.bcftools.vcf</td></tr><tr><td class = \"rowNumber\" style = \"font-weight: bold; text-align: right;\">120</td><td style = \"text-align: left;\">fF3EHHs</td><td style = \"text-align: left;\">freebayes</td><td style = \"text-align: left;\">10x</td><td style = \"text-align: left;\">/global/cfs/cdirs/m4269/cjprybol/Mycelia/projects/variant-calling-benchmarking/data/genomes/fF3EHHs.fna.normalized.vcf.fna.badread.10x.filtlong.fq.gz.minimap2.sorted.bam.freebayes.vcf</td></tr></tbody></table></div>"
      ],
      "text/latex": [
       "\\begin{tabular}{r|cccc}\n",
       "\t& identifier & variant\\_caller & coverage & vcf\\\\\n",
       "\t\\hline\n",
       "\t& String & String & String & String\\\\\n",
       "\t\\hline\n",
       "\t1 & 19tEIXfKKdzr & cactus & N/A & /global/cfs/cdirs/m4269/cjprybol/Mycelia/projects/variant-calling-benchmarking/data/genomes/19tEIXfKKdzr-cactus/19tEIXfKKdzr-cactus.vcf.gz \\\\\n",
       "\t2 & 3NEzu1DmBy & cactus & N/A & /global/cfs/cdirs/m4269/cjprybol/Mycelia/projects/variant-calling-benchmarking/data/genomes/3NEzu1DmBy-cactus/3NEzu1DmBy-cactus.vcf.gz \\\\\n",
       "\t3 & GCF\\_001610725 & cactus & N/A & /global/cfs/cdirs/m4269/cjprybol/Mycelia/projects/variant-calling-benchmarking/data/genomes/GCF\\_001610725-cactus/GCF\\_001610725-cactus.vcf.gz \\\\\n",
       "\t4 & GCF\\_023169545 & cactus & N/A & /global/cfs/cdirs/m4269/cjprybol/Mycelia/projects/variant-calling-benchmarking/data/genomes/GCF\\_023169545-cactus/GCF\\_023169545-cactus.vcf.gz \\\\\n",
       "\t5 & GCF\\_024820135 & cactus & N/A & /global/cfs/cdirs/m4269/cjprybol/Mycelia/projects/variant-calling-benchmarking/data/genomes/GCF\\_024820135-cactus/GCF\\_024820135-cactus.vcf.gz \\\\\n",
       "\t6 & fF3EHHs & cactus & N/A & /global/cfs/cdirs/m4269/cjprybol/Mycelia/projects/variant-calling-benchmarking/data/genomes/fF3EHHs-cactus/fF3EHHs-cactus.vcf.gz \\\\\n",
       "\t7 & 19tEIXfKKdzr & PGGB & N/A & /global/cfs/cdirs/m4269/cjprybol/Mycelia/projects/variant-calling-benchmarking/data/genomes/19tEIXfKKdzr.fna\\_\\_19tEIXfKKdzr.fna.normalized.vcf.fna.joint.fna\\_\\_PGGB/19tEIXfKKdzr.fna\\_\\_19tEIXfKKdzr.fna.normalized.vcf.fna.joint.fna.e316b50.417fcdf.db7e83b.smooth.final.gfa.vcf \\\\\n",
       "\t8 & 3NEzu1DmBy & PGGB & N/A & /global/cfs/cdirs/m4269/cjprybol/Mycelia/projects/variant-calling-benchmarking/data/genomes/3NEzu1DmBy.fna\\_\\_3NEzu1DmBy.fna.normalized.vcf.fna.joint.fna\\_\\_PGGB/3NEzu1DmBy.fna\\_\\_3NEzu1DmBy.fna.normalized.vcf.fna.joint.fna.e316b50.417fcdf.db7e83b.smooth.final.gfa.vcf \\\\\n",
       "\t9 & GCF\\_001610725 & PGGB & N/A & /global/cfs/cdirs/m4269/cjprybol/Mycelia/projects/variant-calling-benchmarking/data/genomes/GCF\\_001610725.1.fna\\_\\_GCF\\_001610725.1.fna.normalized.vcf.fna.joint.fna\\_\\_PGGB/GCF\\_001610725.1.fna\\_\\_GCF\\_001610725.1.fna.normalized.vcf.fna.joint.fna.e316b50.417fcdf.db7e83b.smooth.final.gfa.vcf \\\\\n",
       "\t10 & GCF\\_023169545 & PGGB & N/A & /global/cfs/cdirs/m4269/cjprybol/Mycelia/projects/variant-calling-benchmarking/data/genomes/GCF\\_023169545.1.fna\\_\\_GCF\\_023169545.1.fna.normalized.vcf.fna.joint.fna\\_\\_PGGB/GCF\\_023169545.1.fna\\_\\_GCF\\_023169545.1.fna.normalized.vcf.fna.joint.fna.e316b50.417fcdf.db7e83b.smooth.final.gfa.vcf \\\\\n",
       "\t11 & GCF\\_024820135 & PGGB & N/A & /global/cfs/cdirs/m4269/cjprybol/Mycelia/projects/variant-calling-benchmarking/data/genomes/GCF\\_024820135.1.fna\\_\\_GCF\\_024820135.1.fna.normalized.vcf.fna.joint.fna\\_\\_PGGB/GCF\\_024820135.1.fna\\_\\_GCF\\_024820135.1.fna.normalized.vcf.fna.joint.fna.e316b50.417fcdf.db7e83b.smooth.final.gfa.vcf \\\\\n",
       "\t12 & fF3EHHs & PGGB & N/A & /global/cfs/cdirs/m4269/cjprybol/Mycelia/projects/variant-calling-benchmarking/data/genomes/fF3EHHs.fna\\_\\_fF3EHHs.fna.normalized.vcf.fna.joint.fna\\_\\_PGGB/fF3EHHs.fna\\_\\_fF3EHHs.fna.normalized.vcf.fna.joint.fna.e316b50.417fcdf.db7e83b.smooth.final.gfa.vcf \\\\\n",
       "\t13 & 19tEIXfKKdzr & clair3 & 1000x & /global/cfs/cdirs/m4269/cjprybol/Mycelia/projects/variant-calling-benchmarking/data/genomes/19tEIXfKKdzr.fna.normalized.vcf.fna.art.1000x.minimap2.sorted.bam.clair3/merge\\_output.vcf.gz \\\\\n",
       "\t14 & 19tEIXfKKdzr & clair3 & 100x & /global/cfs/cdirs/m4269/cjprybol/Mycelia/projects/variant-calling-benchmarking/data/genomes/19tEIXfKKdzr.fna.normalized.vcf.fna.art.100x.minimap2.sorted.bam.clair3/merge\\_output.vcf.gz \\\\\n",
       "\t15 & 19tEIXfKKdzr & clair3 & 10x & /global/cfs/cdirs/m4269/cjprybol/Mycelia/projects/variant-calling-benchmarking/data/genomes/19tEIXfKKdzr.fna.normalized.vcf.fna.art.10x.minimap2.sorted.bam.clair3/merge\\_output.vcf.gz \\\\\n",
       "\t16 & 19tEIXfKKdzr & clair3 & 1000x & /global/cfs/cdirs/m4269/cjprybol/Mycelia/projects/variant-calling-benchmarking/data/genomes/19tEIXfKKdzr.fna.normalized.vcf.fna.badread.1000x.filtlong.fq.gz.minimap2.sorted.bam.clair3/merge\\_output.vcf.gz \\\\\n",
       "\t17 & 19tEIXfKKdzr & clair3 & 100x & /global/cfs/cdirs/m4269/cjprybol/Mycelia/projects/variant-calling-benchmarking/data/genomes/19tEIXfKKdzr.fna.normalized.vcf.fna.badread.100x.filtlong.fq.gz.minimap2.sorted.bam.clair3/merge\\_output.vcf.gz \\\\\n",
       "\t18 & 19tEIXfKKdzr & clair3 & 10x & /global/cfs/cdirs/m4269/cjprybol/Mycelia/projects/variant-calling-benchmarking/data/genomes/19tEIXfKKdzr.fna.normalized.vcf.fna.badread.10x.filtlong.fq.gz.minimap2.sorted.bam.clair3/merge\\_output.vcf.gz \\\\\n",
       "\t19 & 3NEzu1DmBy & clair3 & 1000x & /global/cfs/cdirs/m4269/cjprybol/Mycelia/projects/variant-calling-benchmarking/data/genomes/3NEzu1DmBy.fna.normalized.vcf.fna.art.1000x.minimap2.sorted.bam.clair3/merge\\_output.vcf.gz \\\\\n",
       "\t20 & 3NEzu1DmBy & clair3 & 100x & /global/cfs/cdirs/m4269/cjprybol/Mycelia/projects/variant-calling-benchmarking/data/genomes/3NEzu1DmBy.fna.normalized.vcf.fna.art.100x.minimap2.sorted.bam.clair3/merge\\_output.vcf.gz \\\\\n",
       "\t21 & 3NEzu1DmBy & clair3 & 10x & /global/cfs/cdirs/m4269/cjprybol/Mycelia/projects/variant-calling-benchmarking/data/genomes/3NEzu1DmBy.fna.normalized.vcf.fna.art.10x.minimap2.sorted.bam.clair3/merge\\_output.vcf.gz \\\\\n",
       "\t22 & 3NEzu1DmBy & clair3 & 1000x & /global/cfs/cdirs/m4269/cjprybol/Mycelia/projects/variant-calling-benchmarking/data/genomes/3NEzu1DmBy.fna.normalized.vcf.fna.badread.1000x.filtlong.fq.gz.minimap2.sorted.bam.clair3/merge\\_output.vcf.gz \\\\\n",
       "\t23 & 3NEzu1DmBy & clair3 & 100x & /global/cfs/cdirs/m4269/cjprybol/Mycelia/projects/variant-calling-benchmarking/data/genomes/3NEzu1DmBy.fna.normalized.vcf.fna.badread.100x.filtlong.fq.gz.minimap2.sorted.bam.clair3/merge\\_output.vcf.gz \\\\\n",
       "\t24 & 3NEzu1DmBy & clair3 & 10x & /global/cfs/cdirs/m4269/cjprybol/Mycelia/projects/variant-calling-benchmarking/data/genomes/3NEzu1DmBy.fna.normalized.vcf.fna.badread.10x.filtlong.fq.gz.minimap2.sorted.bam.clair3/merge\\_output.vcf.gz \\\\\n",
       "\t25 & GCF\\_001610725 & clair3 & 1000x & /global/cfs/cdirs/m4269/cjprybol/Mycelia/projects/variant-calling-benchmarking/data/genomes/GCF\\_001610725.1.fna.normalized.vcf.fna.art.1000x.minimap2.sorted.bam.clair3/merge\\_output.vcf.gz \\\\\n",
       "\t26 & GCF\\_001610725 & clair3 & 100x & /global/cfs/cdirs/m4269/cjprybol/Mycelia/projects/variant-calling-benchmarking/data/genomes/GCF\\_001610725.1.fna.normalized.vcf.fna.art.100x.minimap2.sorted.bam.clair3/merge\\_output.vcf.gz \\\\\n",
       "\t27 & GCF\\_001610725 & clair3 & 10x & /global/cfs/cdirs/m4269/cjprybol/Mycelia/projects/variant-calling-benchmarking/data/genomes/GCF\\_001610725.1.fna.normalized.vcf.fna.art.10x.minimap2.sorted.bam.clair3/merge\\_output.vcf.gz \\\\\n",
       "\t28 & GCF\\_001610725 & clair3 & 1000x & /global/cfs/cdirs/m4269/cjprybol/Mycelia/projects/variant-calling-benchmarking/data/genomes/GCF\\_001610725.1.fna.normalized.vcf.fna.badread.1000x.filtlong.fq.gz.minimap2.sorted.bam.clair3/merge\\_output.vcf.gz \\\\\n",
       "\t29 & GCF\\_001610725 & clair3 & 100x & /global/cfs/cdirs/m4269/cjprybol/Mycelia/projects/variant-calling-benchmarking/data/genomes/GCF\\_001610725.1.fna.normalized.vcf.fna.badread.100x.filtlong.fq.gz.minimap2.sorted.bam.clair3/merge\\_output.vcf.gz \\\\\n",
       "\t30 & GCF\\_001610725 & clair3 & 10x & /global/cfs/cdirs/m4269/cjprybol/Mycelia/projects/variant-calling-benchmarking/data/genomes/GCF\\_001610725.1.fna.normalized.vcf.fna.badread.10x.filtlong.fq.gz.minimap2.sorted.bam.clair3/merge\\_output.vcf.gz \\\\\n",
       "\t$\\dots$ & $\\dots$ & $\\dots$ & $\\dots$ & $\\dots$ \\\\\n",
       "\\end{tabular}\n"
      ],
      "text/plain": [
       "\u001b[1m120×4 DataFrame\u001b[0m\n",
       "\u001b[1m Row \u001b[0m│\u001b[1m identifier    \u001b[0m\u001b[1m variant_caller \u001b[0m\u001b[1m coverage \u001b[0m\u001b[1m vcf                           \u001b[0m ⋯\n",
       "     │\u001b[90m String        \u001b[0m\u001b[90m String         \u001b[0m\u001b[90m String   \u001b[0m\u001b[90m String                        \u001b[0m ⋯\n",
       "─────┼──────────────────────────────────────────────────────────────────────────\n",
       "   1 │ 19tEIXfKKdzr   cactus          N/A       /global/cfs/cdirs/m4269/cjpryb ⋯\n",
       "   2 │ 3NEzu1DmBy     cactus          N/A       /global/cfs/cdirs/m4269/cjpryb\n",
       "   3 │ GCF_001610725  cactus          N/A       /global/cfs/cdirs/m4269/cjpryb\n",
       "   4 │ GCF_023169545  cactus          N/A       /global/cfs/cdirs/m4269/cjpryb\n",
       "   5 │ GCF_024820135  cactus          N/A       /global/cfs/cdirs/m4269/cjpryb ⋯\n",
       "   6 │ fF3EHHs        cactus          N/A       /global/cfs/cdirs/m4269/cjpryb\n",
       "   7 │ 19tEIXfKKdzr   PGGB            N/A       /global/cfs/cdirs/m4269/cjpryb\n",
       "   8 │ 3NEzu1DmBy     PGGB            N/A       /global/cfs/cdirs/m4269/cjpryb\n",
       "   9 │ GCF_001610725  PGGB            N/A       /global/cfs/cdirs/m4269/cjpryb ⋯\n",
       "  10 │ GCF_023169545  PGGB            N/A       /global/cfs/cdirs/m4269/cjpryb\n",
       "  11 │ GCF_024820135  PGGB            N/A       /global/cfs/cdirs/m4269/cjpryb\n",
       "  ⋮  │       ⋮              ⋮            ⋮                      ⋮              ⋱\n",
       " 111 │ fF3EHHs        bcftools        100x      /global/cfs/cdirs/m4269/cjpryb\n",
       " 112 │ fF3EHHs        freebayes       100x      /global/cfs/cdirs/m4269/cjpryb ⋯\n",
       " 113 │ fF3EHHs        bcftools        10x       /global/cfs/cdirs/m4269/cjpryb\n",
       " 114 │ fF3EHHs        freebayes       10x       /global/cfs/cdirs/m4269/cjpryb\n",
       " 115 │ fF3EHHs        bcftools        1000x     /global/cfs/cdirs/m4269/cjpryb\n",
       " 116 │ fF3EHHs        freebayes       1000x     /global/cfs/cdirs/m4269/cjpryb ⋯\n",
       " 117 │ fF3EHHs        bcftools        100x      /global/cfs/cdirs/m4269/cjpryb\n",
       " 118 │ fF3EHHs        freebayes       100x      /global/cfs/cdirs/m4269/cjpryb\n",
       " 119 │ fF3EHHs        bcftools        10x       /global/cfs/cdirs/m4269/cjpryb\n",
       " 120 │ fF3EHHs        freebayes       10x       /global/cfs/cdirs/m4269/cjpryb ⋯\n",
       "\u001b[36m                                                    1 column and 99 rows omitted\u001b[0m"
      ]
     },
     "execution_count": 23,
     "metadata": {},
     "output_type": "execute_result"
    }
   ],
   "source": [
    "vcf_table = DataFrames.DataFrame(\n",
    "    identifier = String[],\n",
    "    variant_caller = String[],\n",
    "    coverage = String[],\n",
    "    vcf = String[]\n",
    ")\n",
    "for vcf in vcfs\n",
    "    identifier = first(filter(identifier -> occursin(identifier, vcf), identifiers))\n",
    "    variant_callers = [\n",
    "        \"cactus\",\n",
    "        \"PGGB\",\n",
    "        \"bcftools\",\n",
    "        \"freebayes\",\n",
    "        \"clair3\"\n",
    "    ]\n",
    "    variant_caller = first(filter(variant_caller -> occursin(variant_caller, vcf), variant_callers))\n",
    "    if variant_caller in [\"cactus\", \"PGGB\"]\n",
    "        coverage = \"N/A\"\n",
    "    else\n",
    "        if occursin(\"10x\", vcf)\n",
    "            coverage = \"10x\"\n",
    "        elseif occursin(\"100x\", vcf)\n",
    "            coverage = \"100x\"\n",
    "        elseif occursin(\"1000x\", vcf)\n",
    "            coverage = \"1000x\"\n",
    "        end\n",
    "    end\n",
    "    push!(vcf_table, (;identifier, variant_caller, coverage, vcf))\n",
    "end\n",
    "vcf_table"
   ]
  },
  {
   "cell_type": "code",
   "execution_count": 24,
   "id": "5a3c6420-52eb-4d87-95f9-297e07b2b9b9",
   "metadata": {
    "tags": []
   },
   "outputs": [
    {
     "data": {
      "text/plain": [
       "fix_vcf (generic function with 1 method)"
      ]
     },
     "execution_count": 24,
     "metadata": {},
     "output_type": "execute_result"
    }
   ],
   "source": [
    "function fix_vcf(;vcf, outvcf = replace(vcf, r\"\\.vcf$\" => \".fixed.vcf\"))\n",
    "    open(outvcf, \"w\") do io\n",
    "        for line in eachline(vcf)\n",
    "            if occursin(r\"^##\", line)\n",
    "                println(io, line)\n",
    "            elseif occursin(r\"^#\", line)\n",
    "                println(io, line * \"\\tsample\")\n",
    "            else\n",
    "                # println(io, replace(line, r\"\\s+\" => \"\\t\"))\n",
    "                println(io, line * \"\\t1\")\n",
    "            end\n",
    "        end\n",
    "    end\n",
    "    return outvcf\n",
    "end"
   ]
  },
  {
   "cell_type": "code",
   "execution_count": 9,
   "id": "63a03686-2ced-47a3-bb2a-6f06221e0d81",
   "metadata": {
    "tags": []
   },
   "outputs": [],
   "source": [
    "# # skipped PGGB - need to rerun\n",
    "\n",
    "\n",
    "\n",
    "# indices = findall(vcf_table[!, \"variant_caller\"] .== \"PGGB\")\n",
    "# # 3, 4, 5\n",
    "# for row in DataFrames.eachrow(vcf_table[indices[7:end], :])\n",
    "#     vcf = row[\"vcf\"]\n",
    "#     reference_fasta = identifier_to_reference_fasta[row[\"identifier\"]]\n",
    "#     baseline_variants = identifier_to_reference_variants[row[\"identifier\"]]\n",
    "#     fixed_vcf = fix_vcf(vcf=vcf)\n",
    "#     processed_vcf = Mycelia.preprocess_vcf(vcf=fixed_vcf, fasta=reference_fasta)\n",
    "#     outdir = joinpath(baseline_variants * \"_RTG\", basename(processed_vcf))\n",
    "#     if !isfile(processed_vcf * \".tbi\")\n",
    "#         @show filesize(processed_vcf)\n",
    "#         run(`$(Mycelia.MAMBA) run --live-stream -n rtg-tools rtg index --format vcf $(processed_vcf)`)\n",
    "#     end\n",
    "#     if !isdir(outdir)\n",
    "#         run(`$(Mycelia.MAMBA) run --live-stream -n rtg-tools rtg RTG_MEM=8G vcfeval --all-records --vcf-score-field QUAL --threads=1 --template $(reference_fasta)_RTG --baseline $(baseline_variants) --calls $(processed_vcf) --squash-ploidy --output $(outdir)`)\n",
    "#         non_snp_roc = joinpath(outdir, \"non_snp_roc.tsv.gz\")\n",
    "#         snp_roc = joinpath(outdir, \"snp_roc.tsv.gz\")\n",
    "#         weighted_roc = joinpath(outdir, \"weighted_roc.tsv.gz\")\n",
    "#         roc_png = joinpath(outdir, \"roc.png\")\n",
    "#         roc_svg = joinpath(outdir, \"roc.svg\")\n",
    "#         run(`$(Mycelia.MAMBA) run --live-stream -n rtg-tools rtg RTG_MEM=8G rocplot --png $(roc_png) --svg $(roc_svg) --curve $(non_snp_roc)=non_snp_roc --curve $(snp_roc)=snp_roc --curve $(weighted_roc)=weighted_roc `)\n",
    "#     else\n",
    "#         @info \"$(outdir) already exists\"\n",
    "#     end\n",
    "# end"
   ]
  },
  {
   "cell_type": "code",
   "execution_count": 28,
   "id": "b4616201-5289-41bc-b731-59fdb593b546",
   "metadata": {
    "tags": []
   },
   "outputs": [
    {
     "name": "stderr",
     "output_type": "stream",
     "text": [
      "Writing to /tmp/bcftools.bncOI0\n",
      "Merging 1 temporary files\n",
      "Cleaning\n",
      "Done\n",
      "Lines   total/split/joined/realigned/skipped:\t1257/0/0/105/0\n"
     ]
    },
    {
     "name": "stdout",
     "output_type": "stream",
     "text": [
      "Selected score threshold using: maximized F-measure\n",
      "Threshold  True-pos-baseline  True-pos-call  False-pos  False-neg  Precision  Sensitivity  F-measure\n",
      "----------------------------------------------------------------------------------------------------\n",
      "   60.000                315           1257          0          0     1.0000       1.0000     1.0000\n",
      "     None                315           1257          0          0     1.0000       1.0000     1.0000\n",
      "\n"
     ]
    },
    {
     "name": "stderr",
     "output_type": "stream",
     "text": [
      "Writing to /tmp/bcftools.JEbHwn\n",
      "Merging 1 temporary files\n",
      "Cleaning\n",
      "Done\n",
      "Lines   total/split/joined/realigned/skipped:\t266/0/0/19/0\n"
     ]
    },
    {
     "name": "stdout",
     "output_type": "stream",
     "text": [
      "Selected score threshold using: maximized F-measure\n",
      "Threshold  True-pos-baseline  True-pos-call  False-pos  False-neg  Precision  Sensitivity  F-measure\n",
      "----------------------------------------------------------------------------------------------------\n",
      "   60.000                100            266          0          0     1.0000       1.0000     1.0000\n",
      "     None                100            266          0          0     1.0000       1.0000     1.0000\n",
      "\n"
     ]
    },
    {
     "name": "stderr",
     "output_type": "stream",
     "text": [
      "Writing to /tmp/bcftools.NK8d0Y\n",
      "Merging 1 temporary files\n",
      "Cleaning\n",
      "Done\n",
      "Lines   total/split/joined/realigned/skipped:\t299/0/0/24/0\n"
     ]
    },
    {
     "name": "stdout",
     "output_type": "stream",
     "text": [
      "Selected score threshold using: maximized F-measure\n",
      "Threshold  True-pos-baseline  True-pos-call  False-pos  False-neg  Precision  Sensitivity  F-measure\n",
      "----------------------------------------------------------------------------------------------------\n",
      "   60.000                 99            299          0          0     1.0000       1.0000     1.0000\n",
      "     None                 99            299          0          0     1.0000       1.0000     1.0000\n",
      "\n"
     ]
    },
    {
     "name": "stderr",
     "output_type": "stream",
     "text": [
      "Writing to /tmp/bcftools.fNCaXS\n",
      "Merging 1 temporary files\n",
      "Cleaning\n",
      "Done\n",
      "Lines   total/split/joined/realigned/skipped:\t4253/0/0/427/0\n"
     ]
    },
    {
     "name": "stdout",
     "output_type": "stream",
     "text": [
      "Selected score threshold using: maximized F-measure\n",
      "Threshold  True-pos-baseline  True-pos-call  False-pos  False-neg  Precision  Sensitivity  F-measure\n",
      "----------------------------------------------------------------------------------------------------\n",
      "   60.000                811           4171         82          5     0.9807       0.9939     0.9873\n",
      "     None                811           4171         82          5     0.9807       0.9939     0.9873\n",
      "\n"
     ]
    },
    {
     "name": "stderr",
     "output_type": "stream",
     "text": [
      "Writing to /tmp/bcftools.XtmIcA\n",
      "Merging 1 temporary files\n",
      "Cleaning\n",
      "Done\n",
      "Lines   total/split/joined/realigned/skipped:\t1429/0/0/111/0\n"
     ]
    },
    {
     "name": "stdout",
     "output_type": "stream",
     "text": [
      "Selected score threshold using: maximized F-measure\n",
      "Threshold  True-pos-baseline  True-pos-call  False-pos  False-neg  Precision  Sensitivity  F-measure\n",
      "----------------------------------------------------------------------------------------------------\n",
      "   60.000                333           1427          2          1     0.9986       0.9970     0.9978\n",
      "     None                333           1427          2          1     0.9986       0.9970     0.9978\n",
      "\n"
     ]
    },
    {
     "name": "stderr",
     "output_type": "stream",
     "text": [
      "Writing to /tmp/bcftools.28q0n6\n",
      "Merging 0 temporary files\n",
      "Cleaning\n",
      "Done\n",
      "Lines   total/split/joined/realigned/skipped:\t0/0/0/0/0\n",
      "Reference sequence fF3EHHs is used in baseline but not in calls.\n"
     ]
    },
    {
     "name": "stdout",
     "output_type": "stream",
     "text": [
      "Threshold  True-pos-baseline  True-pos-call  False-pos  False-neg  Precision  Sensitivity  F-measure\n",
      "----------------------------------------------------------------------------------------------------\n",
      "     None                  0              0          0         30        NaN       0.0000        NaN\n",
      "\n"
     ]
    },
    {
     "name": "stderr",
     "output_type": "stream",
     "text": [
      "Could not select maximized F-measure threshold from ROC data, only un-thresholded statistics will be shown. Consider selecting a different scoring attribute with --vcf-score-field\n",
      "Writing to /tmp/bcftools.b9ILPN\n",
      "Merging 1 temporary files\n",
      "Cleaning\n",
      "Done\n",
      "Lines   total/split/joined/realigned/skipped:\t1484/0/0/164/0\n"
     ]
    },
    {
     "name": "stdout",
     "output_type": "stream",
     "text": [
      "Selected score threshold using: maximized F-measure\n",
      "Threshold  True-pos-baseline  True-pos-call  False-pos  False-neg  Precision  Sensitivity  F-measure\n",
      "----------------------------------------------------------------------------------------------------\n",
      "   60.000                315           1484          0          0     1.0000       1.0000     1.0000\n",
      "     None                315           1484          0          0     1.0000       1.0000     1.0000\n",
      "\n"
     ]
    },
    {
     "name": "stderr",
     "output_type": "stream",
     "text": [
      "Writing to /tmp/bcftools.lizjVf\n",
      "Merging 1 temporary files\n",
      "Cleaning\n",
      "Done\n",
      "Lines   total/split/joined/realigned/skipped:\t308/0/0/29/0\n"
     ]
    },
    {
     "name": "stdout",
     "output_type": "stream",
     "text": [
      "Selected score threshold using: maximized F-measure\n",
      "Threshold  True-pos-baseline  True-pos-call  False-pos  False-neg  Precision  Sensitivity  F-measure\n",
      "----------------------------------------------------------------------------------------------------\n",
      "   60.000                100            308          0          0     1.0000       1.0000     1.0000\n",
      "     None                100            308          0          0     1.0000       1.0000     1.0000\n",
      "\n",
      "filesize(processed_vcf) = 28\n"
     ]
    },
    {
     "name": "stderr",
     "output_type": "stream",
     "text": [
      "Cannot create index for /global/cfs/cdirs/m4269/cjprybol/Mycelia/projects/variant-calling-benchmarking/data/genomes/GCF_001610725.1.fna__GCF_001610725.1.fna.normalized.vcf.fna.joint.fna__PGGB/GCF_001610725.1.fna__GCF_001610725.1.fna.normalized.vcf.fna.joint.fna.e316b50.417fcdf.db7e83b.smooth.final.gfa.fixed.sorted.normalized.vcf.gz as it is not in VCF format.\n",
      "ERROR conda.cli.main_run:execute(124): `conda run rtg index --format vcf /global/cfs/cdirs/m4269/cjprybol/Mycelia/projects/variant-calling-benchmarking/data/genomes/GCF_001610725.1.fna__GCF_001610725.1.fna.normalized.vcf.fna.joint.fna__PGGB/GCF_001610725.1.fna__GCF_001610725.1.fna.normalized.vcf.fna.joint.fna.e316b50.417fcdf.db7e83b.smooth.final.gfa.fixed.sorted.normalized.vcf.gz` failed. (See above for error)\n"
     ]
    },
    {
     "name": "stdout",
     "output_type": "stream",
     "text": [
      "ProcessFailedException(Base.Process[Process(`\u001b[4m/global/homes/c/cjprybol/.julia/conda/3/x86_64/bin/mamba\u001b[24m \u001b[4mrun\u001b[24m \u001b[4m--live-stream\u001b[24m \u001b[4m-n\u001b[24m \u001b[4mrtg-tools\u001b[24m \u001b[4mrtg\u001b[24m \u001b[4mindex\u001b[24m \u001b[4m--format\u001b[24m \u001b[4mvcf\u001b[24m \u001b[4m/global/cfs/cdirs/m4269/cjprybol/Mycelia/projects/variant-calling-benchmarking/data/genomes/GCF_001610725.1.fna__GCF_001610725.1.fna.normalized.vcf.fna.joint.fna__PGGB/GCF_001610725.1.fna__GCF_001610725.1.fna.normalized.vcf.fna.joint.fna.e316b50.417fcdf.db7e83b.smooth.final.gfa.fixed.sorted.normalized.vcf.gz\u001b[24m`, ProcessExited(1))])\n"
     ]
    },
    {
     "name": "stderr",
     "output_type": "stream",
     "text": [
      "Writing to /tmp/bcftools.8vFFD6\n",
      "Merging 1 temporary files\n",
      "Cleaning\n",
      "Done\n"
     ]
    },
    {
     "name": "stdout",
     "output_type": "stream",
     "text": [
      "ProcessFailedException(Base.Process[Process(`\u001b[4m/global/homes/c/cjprybol/.julia/conda/3/x86_64/bin/mamba\u001b[24m \u001b[4mrun\u001b[24m \u001b[4m--live-stream\u001b[24m \u001b[4m-n\u001b[24m \u001b[4mbcftools\u001b[24m \u001b[4mbcftools\u001b[24m \u001b[4mnorm\u001b[24m \u001b[4m--output\u001b[24m \u001b[4m/global/cfs/cdirs/m4269/cjprybol/Mycelia/projects/variant-calling-benchmarking/data/genomes/GCF_023169545.1.fna__GCF_023169545.1.fna.normalized.vcf.fna.joint.fna__PGGB/GCF_023169545.1.fna__GCF_023169545.1.fna.normalized.vcf.fna.joint.fna.e316b50.417fcdf.db7e83b.smooth.final.gfa.fixed.sorted.normalized.vcf\u001b[24m \u001b[4m--fasta-ref\u001b[24m \u001b[4m/global/cfs/cdirs/m4269/cjprybol/Mycelia/projects/variant-calling-benchmarking/data/genomes/GCF_023169545.1.fna\u001b[24m \u001b[4m/global/cfs/cdirs/m4269/cjprybol/Mycelia/projects/variant-calling-benchmarking/data/genomes/GCF_023169545.1.fna__GCF_023169545.1.fna.normalized.vcf.fna.joint.fna__PGGB/GCF_023169545.1.fna__GCF_023169545.1.fna.normalized.vcf.fna.joint.fna.e316b50.417fcdf.db7e83b.smooth.final.gfa.fixed.sorted.vcf\u001b[24m`, ProcessExited(255))])\n"
     ]
    },
    {
     "name": "stderr",
     "output_type": "stream",
     "text": [
      "[E::faidx_adjust_position] The sequence \"GCF_023169545.1.fna.normalized.vcf.fna#1#NZ_AP019769.1\" was not found\n",
      "faidx_fetch_seq failed at GCF_023169545.1.fna.normalized.vcf.fna#1#NZ_AP019769.1:540\n",
      "ERROR conda.cli.main_run:execute(124): `conda run bcftools norm --output /global/cfs/cdirs/m4269/cjprybol/Mycelia/projects/variant-calling-benchmarking/data/genomes/GCF_023169545.1.fna__GCF_023169545.1.fna.normalized.vcf.fna.joint.fna__PGGB/GCF_023169545.1.fna__GCF_023169545.1.fna.normalized.vcf.fna.joint.fna.e316b50.417fcdf.db7e83b.smooth.final.gfa.fixed.sorted.normalized.vcf --fasta-ref /global/cfs/cdirs/m4269/cjprybol/Mycelia/projects/variant-calling-benchmarking/data/genomes/GCF_023169545.1.fna /global/cfs/cdirs/m4269/cjprybol/Mycelia/projects/variant-calling-benchmarking/data/genomes/GCF_023169545.1.fna__GCF_023169545.1.fna.normalized.vcf.fna.joint.fna__PGGB/GCF_023169545.1.fna__GCF_023169545.1.fna.normalized.vcf.fna.joint.fna.e316b50.417fcdf.db7e83b.smooth.final.gfa.fixed.sorted.vcf` failed. (See above for error)\n",
      "Writing to /tmp/bcftools.iwaKSE\n",
      "Merging 1 temporary files\n",
      "Cleaning\n",
      "Done\n"
     ]
    },
    {
     "name": "stdout",
     "output_type": "stream",
     "text": [
      "ProcessFailedException(Base.Process[Process(`\u001b[4m/global/homes/c/cjprybol/.julia/conda/3/x86_64/bin/mamba\u001b[24m \u001b[4mrun\u001b[24m \u001b[4m--live-stream\u001b[24m \u001b[4m-n\u001b[24m \u001b[4mbcftools\u001b[24m \u001b[4mbcftools\u001b[24m \u001b[4mnorm\u001b[24m \u001b[4m--output\u001b[24m \u001b[4m/global/cfs/cdirs/m4269/cjprybol/Mycelia/projects/variant-calling-benchmarking/data/genomes/GCF_024820135.1.fna__GCF_024820135.1.fna.normalized.vcf.fna.joint.fna__PGGB/GCF_024820135.1.fna__GCF_024820135.1.fna.normalized.vcf.fna.joint.fna.e316b50.417fcdf.db7e83b.smooth.final.gfa.fixed.sorted.normalized.vcf\u001b[24m \u001b[4m--fasta-ref\u001b[24m \u001b[4m/global/cfs/cdirs/m4269/cjprybol/Mycelia/projects/variant-calling-benchmarking/data/genomes/GCF_024820135.1.fna\u001b[24m \u001b[4m/global/cfs/cdirs/m4269/cjprybol/Mycelia/projects/variant-calling-benchmarking/data/genomes/GCF_024820135.1.fna__GCF_024820135.1.fna.normalized.vcf.fna.joint.fna__PGGB/GCF_024820135.1.fna__GCF_024820135.1.fna.normalized.vcf.fna.joint.fna.e316b50.417fcdf.db7e83b.smooth.final.gfa.fixed.sorted.vcf\u001b[24m`, ProcessExited(255))])\n"
     ]
    },
    {
     "name": "stderr",
     "output_type": "stream",
     "text": [
      "[E::faidx_adjust_position] The sequence \"GCF_024820135.1.fna.normalized.vcf.fna#1#NZ_CP094197.1\" was not found\n",
      "faidx_fetch_seq failed at GCF_024820135.1.fna.normalized.vcf.fna#1#NZ_CP094197.1:114\n",
      "ERROR conda.cli.main_run:execute(124): `conda run bcftools norm --output /global/cfs/cdirs/m4269/cjprybol/Mycelia/projects/variant-calling-benchmarking/data/genomes/GCF_024820135.1.fna__GCF_024820135.1.fna.normalized.vcf.fna.joint.fna__PGGB/GCF_024820135.1.fna__GCF_024820135.1.fna.normalized.vcf.fna.joint.fna.e316b50.417fcdf.db7e83b.smooth.final.gfa.fixed.sorted.normalized.vcf --fasta-ref /global/cfs/cdirs/m4269/cjprybol/Mycelia/projects/variant-calling-benchmarking/data/genomes/GCF_024820135.1.fna /global/cfs/cdirs/m4269/cjprybol/Mycelia/projects/variant-calling-benchmarking/data/genomes/GCF_024820135.1.fna__GCF_024820135.1.fna.normalized.vcf.fna.joint.fna__PGGB/GCF_024820135.1.fna__GCF_024820135.1.fna.normalized.vcf.fna.joint.fna.e316b50.417fcdf.db7e83b.smooth.final.gfa.fixed.sorted.vcf` failed. (See above for error)\n",
      "Writing to /tmp/bcftools.BGb6Cs\n",
      "Merging 1 temporary files\n",
      "Cleaning\n",
      "Done\n",
      "Lines   total/split/joined/realigned/skipped:\t51/0/0/6/0\n"
     ]
    },
    {
     "name": "stdout",
     "output_type": "stream",
     "text": [
      "Selected score threshold using: maximized F-measure\n",
      "Threshold  True-pos-baseline  True-pos-call  False-pos  False-neg  Precision  Sensitivity  F-measure\n",
      "----------------------------------------------------------------------------------------------------\n",
      "   60.000                 30             51          0          0     1.0000       1.0000     1.0000\n",
      "     None                 30             51          0          0     1.0000       1.0000     1.0000\n",
      "\n"
     ]
    },
    {
     "name": "stderr",
     "output_type": "stream",
     "text": [
      "Writing to /tmp/bcftools.UllAU0\n",
      "Merging 0 temporary files\n",
      "Cleaning\n",
      "Done\n",
      "Lines   total/split/joined/realigned/skipped:\t0/0/0/0/0\n",
      "Reference sequence 19tEIXfKKdzr is used in baseline but not in calls.\n"
     ]
    },
    {
     "name": "stdout",
     "output_type": "stream",
     "text": [
      "Threshold  True-pos-baseline  True-pos-call  False-pos  False-neg  Precision  Sensitivity  F-measure\n",
      "----------------------------------------------------------------------------------------------------\n",
      "     None                  0              0          0        315        NaN       0.0000        NaN\n",
      "\n"
     ]
    },
    {
     "name": "stderr",
     "output_type": "stream",
     "text": [
      "Could not select maximized F-measure threshold from ROC data, only un-thresholded statistics will be shown. Consider selecting a different scoring attribute with --vcf-score-field\n",
      "Writing to /tmp/bcftools.23e1GH\n",
      "Merging 0 temporary files\n",
      "Cleaning\n",
      "Done\n",
      "Lines   total/split/joined/realigned/skipped:\t0/0/0/0/0\n",
      "Reference sequence 19tEIXfKKdzr is used in baseline but not in calls.\n"
     ]
    },
    {
     "name": "stdout",
     "output_type": "stream",
     "text": [
      "Threshold  True-pos-baseline  True-pos-call  False-pos  False-neg  Precision  Sensitivity  F-measure\n",
      "----------------------------------------------------------------------------------------------------\n",
      "     None                  0              0          0        315        NaN       0.0000        NaN\n",
      "\n"
     ]
    },
    {
     "name": "stderr",
     "output_type": "stream",
     "text": [
      "Could not select maximized F-measure threshold from ROC data, only un-thresholded statistics will be shown. Consider selecting a different scoring attribute with --vcf-score-field\n",
      "Writing to /tmp/bcftools.ciBpZW\n",
      "Merging 0 temporary files\n",
      "Cleaning\n",
      "Done\n",
      "Lines   total/split/joined/realigned/skipped:\t0/0/0/0/0\n",
      "Reference sequence 19tEIXfKKdzr is used in baseline but not in calls.\n",
      "Could not select maximized F-measure threshold from ROC data, only un-thresholded statistics will be shown. Consider selecting a different scoring attribute with --vcf-score-field\n"
     ]
    },
    {
     "name": "stdout",
     "output_type": "stream",
     "text": [
      "Threshold  True-pos-baseline  True-pos-call  False-pos  False-neg  Precision  Sensitivity  F-measure\n",
      "----------------------------------------------------------------------------------------------------\n",
      "     None                  0              0          0        315        NaN       0.0000        NaN\n",
      "\n"
     ]
    },
    {
     "name": "stderr",
     "output_type": "stream",
     "text": [
      "Writing to /tmp/bcftools.ksr0v0\n",
      "Merging 1 temporary files\n",
      "Cleaning\n",
      "Done\n",
      "Lines   total/split/joined/realigned/skipped:\t539/0/0/0/0\n"
     ]
    },
    {
     "name": "stdout",
     "output_type": "stream",
     "text": [
      "Selected score threshold using: maximized F-measure\n",
      "Threshold  True-pos-baseline  True-pos-call  False-pos  False-neg  Precision  Sensitivity  F-measure\n",
      "----------------------------------------------------------------------------------------------------\n",
      "   18.010                102            190        214        213     0.4703       0.3231     0.3830\n",
      "     None                109            202        337        206     0.3748       0.3460     0.3598\n",
      "\n"
     ]
    },
    {
     "name": "stderr",
     "output_type": "stream",
     "text": [
      "Writing to /tmp/bcftools.CCAEnI\n",
      "Merging 1 temporary files\n",
      "Cleaning\n",
      "Done\n",
      "Lines   total/split/joined/realigned/skipped:\t547/0/0/0/0\n"
     ]
    },
    {
     "name": "stdout",
     "output_type": "stream",
     "text": [
      "Selected score threshold using: maximized F-measure\n",
      "Threshold  True-pos-baseline  True-pos-call  False-pos  False-neg  Precision  Sensitivity  F-measure\n",
      "----------------------------------------------------------------------------------------------------\n",
      "   19.630                103            200        217        212     0.4796       0.3283     0.3898\n",
      "     None                111            218        329        204     0.3985       0.3524     0.3740\n",
      "\n"
     ]
    },
    {
     "name": "stderr",
     "output_type": "stream",
     "text": [
      "Writing to /tmp/bcftools.bjHIaa\n",
      "Merging 1 temporary files\n",
      "Cleaning\n",
      "Done\n",
      "Lines   total/split/joined/realigned/skipped:\t490/0/0/0/0\n"
     ]
    },
    {
     "name": "stdout",
     "output_type": "stream",
     "text": [
      "Selected score threshold using: maximized F-measure\n",
      "Threshold  True-pos-baseline  True-pos-call  False-pos  False-neg  Precision  Sensitivity  F-measure\n",
      "----------------------------------------------------------------------------------------------------\n",
      "   11.010                102            201        250        213     0.4457       0.3251     0.3760\n",
      "     None                104            204        286        211     0.4163       0.3302     0.3683\n",
      "\n"
     ]
    },
    {
     "name": "stderr",
     "output_type": "stream",
     "text": [
      "Writing to /tmp/bcftools.wnie7S\n",
      "Merging 0 temporary files\n",
      "Cleaning\n",
      "Done\n",
      "Lines   total/split/joined/realigned/skipped:\t0/0/0/0/0\n",
      "Reference sequence 3NEzu1DmBy is used in baseline but not in calls.\n",
      "Could not select maximized F-measure threshold from ROC data, only un-thresholded statistics will be shown. Consider selecting a different scoring attribute with --vcf-score-field\n"
     ]
    },
    {
     "name": "stdout",
     "output_type": "stream",
     "text": [
      "Threshold  True-pos-baseline  True-pos-call  False-pos  False-neg  Precision  Sensitivity  F-measure\n",
      "----------------------------------------------------------------------------------------------------\n",
      "     None                  0              0          0        100        NaN       0.0000        NaN\n",
      "\n"
     ]
    },
    {
     "name": "stderr",
     "output_type": "stream",
     "text": [
      "Writing to /tmp/bcftools.fJpeo6\n",
      "Merging 0 temporary files\n",
      "Cleaning\n",
      "Done\n",
      "Lines   total/split/joined/realigned/skipped:\t0/0/0/0/0\n",
      "Reference sequence 3NEzu1DmBy is used in baseline but not in calls.\n"
     ]
    },
    {
     "name": "stdout",
     "output_type": "stream",
     "text": [
      "Threshold  True-pos-baseline  True-pos-call  False-pos  False-neg  Precision  Sensitivity  F-measure\n",
      "----------------------------------------------------------------------------------------------------\n",
      "     None                  0              0          0        100        NaN       0.0000        NaN\n",
      "\n"
     ]
    },
    {
     "name": "stderr",
     "output_type": "stream",
     "text": [
      "Could not select maximized F-measure threshold from ROC data, only un-thresholded statistics will be shown. Consider selecting a different scoring attribute with --vcf-score-field\n",
      "Writing to /tmp/bcftools.5hWbJ3\n",
      "Merging 0 temporary files\n",
      "Cleaning\n",
      "Done\n",
      "Lines   total/split/joined/realigned/skipped:\t0/0/0/0/0\n",
      "Reference sequence 3NEzu1DmBy is used in baseline but not in calls.\n",
      "Could not select maximized F-measure threshold from ROC data, only un-thresholded statistics will be shown. Consider selecting a different scoring attribute with --vcf-score-field\n"
     ]
    },
    {
     "name": "stdout",
     "output_type": "stream",
     "text": [
      "Threshold  True-pos-baseline  True-pos-call  False-pos  False-neg  Precision  Sensitivity  F-measure\n",
      "----------------------------------------------------------------------------------------------------\n",
      "     None                  0              0          0        100        NaN       0.0000        NaN\n",
      "\n"
     ]
    },
    {
     "name": "stderr",
     "output_type": "stream",
     "text": [
      "Writing to /tmp/bcftools.a35z4Y\n",
      "Merging 1 temporary files\n",
      "Cleaning\n",
      "Done\n",
      "Lines   total/split/joined/realigned/skipped:\t131/0/0/0/0\n"
     ]
    },
    {
     "name": "stdout",
     "output_type": "stream",
     "text": [
      "Selected score threshold using: maximized F-measure\n",
      "Threshold  True-pos-baseline  True-pos-call  False-pos  False-neg  Precision  Sensitivity  F-measure\n",
      "----------------------------------------------------------------------------------------------------\n",
      "   19.710                 38             70         61         62     0.5344       0.3800     0.4441\n",
      "     None                 38             70         61         62     0.5344       0.3800     0.4441\n",
      "\n"
     ]
    },
    {
     "name": "stderr",
     "output_type": "stream",
     "text": [
      "Writing to /tmp/bcftools.M1tS9Q\n",
      "Merging 1 temporary files\n",
      "Cleaning\n",
      "Done\n",
      "Lines   total/split/joined/realigned/skipped:\t133/0/0/0/0\n"
     ]
    },
    {
     "name": "stdout",
     "output_type": "stream",
     "text": [
      "Selected score threshold using: maximized F-measure\n",
      "Threshold  True-pos-baseline  True-pos-call  False-pos  False-neg  Precision  Sensitivity  F-measure\n",
      "----------------------------------------------------------------------------------------------------\n",
      "   22.330                 39             75         28         61     0.7282       0.3933     0.5108\n",
      "     None                 42             79         54         58     0.5940       0.4200     0.4921\n",
      "\n"
     ]
    },
    {
     "name": "stderr",
     "output_type": "stream",
     "text": [
      "Writing to /tmp/bcftools.QL7BkI\n",
      "Merging 1 temporary files\n",
      "Cleaning\n",
      "Done\n",
      "Lines   total/split/joined/realigned/skipped:\t123/0/0/0/0\n"
     ]
    },
    {
     "name": "stdout",
     "output_type": "stream",
     "text": [
      "Selected score threshold using: maximized F-measure\n",
      "Threshold  True-pos-baseline  True-pos-call  False-pos  False-neg  Precision  Sensitivity  F-measure\n",
      "----------------------------------------------------------------------------------------------------\n",
      "   12.720                 36             67         55         64     0.5492       0.3600     0.4349\n",
      "     None                 36             67         56         64     0.5447       0.3600     0.4335\n",
      "\n"
     ]
    },
    {
     "name": "stderr",
     "output_type": "stream",
     "text": [
      "Writing to /tmp/bcftools.woDJRY\n",
      "Merging 0 temporary files\n",
      "Cleaning\n",
      "Done\n",
      "Lines   total/split/joined/realigned/skipped:\t0/0/0/0/0\n",
      "Reference sequence NC_029055.1 is used in baseline but not in calls.\n"
     ]
    },
    {
     "name": "stdout",
     "output_type": "stream",
     "text": [
      "Threshold  True-pos-baseline  True-pos-call  False-pos  False-neg  Precision  Sensitivity  F-measure\n",
      "----------------------------------------------------------------------------------------------------\n",
      "     None                  0              0          0         99        NaN       0.0000        NaN\n",
      "\n"
     ]
    },
    {
     "name": "stderr",
     "output_type": "stream",
     "text": [
      "Could not select maximized F-measure threshold from ROC data, only un-thresholded statistics will be shown. Consider selecting a different scoring attribute with --vcf-score-field\n",
      "Writing to /tmp/bcftools.lTQM9J\n",
      "Merging 0 temporary files\n",
      "Cleaning\n",
      "Done\n",
      "Lines   total/split/joined/realigned/skipped:\t0/0/0/0/0\n",
      "Reference sequence NC_029055.1 is used in baseline but not in calls.\n"
     ]
    },
    {
     "name": "stdout",
     "output_type": "stream",
     "text": [
      "Threshold  True-pos-baseline  True-pos-call  False-pos  False-neg  Precision  Sensitivity  F-measure\n",
      "----------------------------------------------------------------------------------------------------\n",
      "     None                  0              0          0         99        NaN       0.0000        NaN\n",
      "\n"
     ]
    },
    {
     "name": "stderr",
     "output_type": "stream",
     "text": [
      "Could not select maximized F-measure threshold from ROC data, only un-thresholded statistics will be shown. Consider selecting a different scoring attribute with --vcf-score-field\n",
      "Writing to /tmp/bcftools.uEJajU\n",
      "Merging 0 temporary files\n",
      "Cleaning\n",
      "Done\n",
      "Lines   total/split/joined/realigned/skipped:\t0/0/0/0/0\n",
      "Reference sequence NC_029055.1 is used in baseline but not in calls.\n"
     ]
    },
    {
     "name": "stdout",
     "output_type": "stream",
     "text": [
      "Threshold  True-pos-baseline  True-pos-call  False-pos  False-neg  Precision  Sensitivity  F-measure\n",
      "----------------------------------------------------------------------------------------------------\n",
      "     None                  0              0          0         99        NaN       0.0000        NaN\n",
      "\n"
     ]
    },
    {
     "name": "stderr",
     "output_type": "stream",
     "text": [
      "Could not select maximized F-measure threshold from ROC data, only un-thresholded statistics will be shown. Consider selecting a different scoring attribute with --vcf-score-field\n",
      "Writing to /tmp/bcftools.zcDPGo\n",
      "Merging 1 temporary files\n",
      "Cleaning\n",
      "Done\n",
      "Lines   total/split/joined/realigned/skipped:\t147/0/0/0/0\n"
     ]
    },
    {
     "name": "stdout",
     "output_type": "stream",
     "text": [
      "Selected score threshold using: maximized F-measure\n",
      "Threshold  True-pos-baseline  True-pos-call  False-pos  False-neg  Precision  Sensitivity  F-measure\n",
      "----------------------------------------------------------------------------------------------------\n",
      "   19.040                 32             55         92         67     0.3741       0.3232     0.3468\n",
      "     None                 32             55         92         67     0.3741       0.3232     0.3468\n",
      "\n"
     ]
    },
    {
     "name": "stderr",
     "output_type": "stream",
     "text": [
      "Writing to /tmp/bcftools.JCNdRp\n",
      "Merging 1 temporary files\n",
      "Cleaning\n",
      "Done\n",
      "Lines   total/split/joined/realigned/skipped:\t149/0/0/0/0\n"
     ]
    },
    {
     "name": "stdout",
     "output_type": "stream",
     "text": [
      "Selected score threshold using: maximized F-measure\n",
      "Threshold  True-pos-baseline  True-pos-call  False-pos  False-neg  Precision  Sensitivity  F-measure\n",
      "----------------------------------------------------------------------------------------------------\n",
      "   20.090                 36             71         74         63     0.4897       0.3636     0.4173\n",
      "     None                 36             71         78         63     0.4765       0.3636     0.4125\n",
      "\n"
     ]
    },
    {
     "name": "stderr",
     "output_type": "stream",
     "text": [
      "Writing to /tmp/bcftools.aZ75WQ\n",
      "Merging 1 temporary files\n",
      "Cleaning\n",
      "Done\n",
      "Lines   total/split/joined/realigned/skipped:\t131/0/0/0/0\n"
     ]
    },
    {
     "name": "stdout",
     "output_type": "stream",
     "text": [
      "Selected score threshold using: maximized F-measure\n",
      "Threshold  True-pos-baseline  True-pos-call  False-pos  False-neg  Precision  Sensitivity  F-measure\n",
      "----------------------------------------------------------------------------------------------------\n",
      "   12.640                 28             53         68         71     0.4380       0.2795     0.3412\n",
      "     None                 28             54         77         71     0.4122       0.2828     0.3355\n",
      "\n"
     ]
    },
    {
     "name": "stderr",
     "output_type": "stream",
     "text": [
      "Writing to /tmp/bcftools.vucc5Z\n",
      "Merging 0 temporary files\n",
      "Cleaning\n",
      "Done\n",
      "Lines   total/split/joined/realigned/skipped:\t0/0/0/0/0\n",
      "Reference sequence NZ_AP019769.1 is used in baseline but not in calls.\n"
     ]
    },
    {
     "name": "stdout",
     "output_type": "stream",
     "text": [
      "Threshold  True-pos-baseline  True-pos-call  False-pos  False-neg  Precision  Sensitivity  F-measure\n",
      "----------------------------------------------------------------------------------------------------\n",
      "     None                  0              0          0        816        NaN       0.0000        NaN\n",
      "\n"
     ]
    },
    {
     "name": "stderr",
     "output_type": "stream",
     "text": [
      "Could not select maximized F-measure threshold from ROC data, only un-thresholded statistics will be shown. Consider selecting a different scoring attribute with --vcf-score-field\n",
      "Writing to /tmp/bcftools.lk7J3Y\n",
      "Merging 0 temporary files\n",
      "Cleaning\n",
      "Done\n",
      "Lines   total/split/joined/realigned/skipped:\t0/0/0/0/0\n",
      "Reference sequence NZ_AP019769.1 is used in baseline but not in calls.\n"
     ]
    },
    {
     "name": "stdout",
     "output_type": "stream",
     "text": [
      "Threshold  True-pos-baseline  True-pos-call  False-pos  False-neg  Precision  Sensitivity  F-measure\n",
      "----------------------------------------------------------------------------------------------------\n",
      "     None                  0              0          0        816        NaN       0.0000        NaN\n",
      "\n"
     ]
    },
    {
     "name": "stderr",
     "output_type": "stream",
     "text": [
      "Could not select maximized F-measure threshold from ROC data, only un-thresholded statistics will be shown. Consider selecting a different scoring attribute with --vcf-score-field\n",
      "Writing to /tmp/bcftools.VzPrJv\n",
      "Merging 0 temporary files\n",
      "Cleaning\n",
      "Done\n",
      "Lines   total/split/joined/realigned/skipped:\t0/0/0/0/0\n",
      "Reference sequence NZ_AP019769.1 is used in baseline but not in calls.\n",
      "Could not select maximized F-measure threshold from ROC data, only un-thresholded statistics will be shown. Consider selecting a different scoring attribute with --vcf-score-field\n"
     ]
    },
    {
     "name": "stdout",
     "output_type": "stream",
     "text": [
      "Threshold  True-pos-baseline  True-pos-call  False-pos  False-neg  Precision  Sensitivity  F-measure\n",
      "----------------------------------------------------------------------------------------------------\n",
      "     None                  0              0          0        816        NaN       0.0000        NaN\n",
      "\n"
     ]
    },
    {
     "name": "stderr",
     "output_type": "stream",
     "text": [
      "Writing to /tmp/bcftools.1IBFur\n",
      "Merging 1 temporary files\n",
      "Cleaning\n",
      "Done\n",
      "Lines   total/split/joined/realigned/skipped:\t2035/0/0/0/0\n"
     ]
    },
    {
     "name": "stdout",
     "output_type": "stream",
     "text": [
      "Selected score threshold using: maximized F-measure\n",
      "Threshold  True-pos-baseline  True-pos-call  False-pos  False-neg  Precision  Sensitivity  F-measure\n",
      "----------------------------------------------------------------------------------------------------\n",
      "   17.440                216            464        867        600     0.3486       0.2643     0.3007\n",
      "     None                237            513       1522        579     0.2521       0.2904     0.2699\n",
      "\n"
     ]
    },
    {
     "name": "stderr",
     "output_type": "stream",
     "text": [
      "Writing to /tmp/bcftools.SJjhYF\n",
      "Merging 1 temporary files\n",
      "Cleaning\n",
      "Done\n",
      "Lines   total/split/joined/realigned/skipped:\t1964/0/0/0/0\n"
     ]
    },
    {
     "name": "stdout",
     "output_type": "stream",
     "text": [
      "Selected score threshold using: maximized F-measure\n",
      "Threshold  True-pos-baseline  True-pos-call  False-pos  False-neg  Precision  Sensitivity  F-measure\n",
      "----------------------------------------------------------------------------------------------------\n",
      "   18.150                222            516        766        594     0.4025       0.2722     0.3248\n",
      "     None                258            616       1348        558     0.3136       0.3162     0.3149\n",
      "\n"
     ]
    },
    {
     "name": "stderr",
     "output_type": "stream",
     "text": [
      "Writing to /tmp/bcftools.vmhxs0\n",
      "Merging 1 temporary files\n",
      "Cleaning\n",
      "Done\n",
      "Lines   total/split/joined/realigned/skipped:\t1438/0/0/0/0\n"
     ]
    },
    {
     "name": "stdout",
     "output_type": "stream",
     "text": [
      "Selected score threshold using: maximized F-measure\n",
      "Threshold  True-pos-baseline  True-pos-call  False-pos  False-neg  Precision  Sensitivity  F-measure\n",
      "----------------------------------------------------------------------------------------------------\n",
      "   10.080                216            470        794        600     0.3718       0.2645     0.3091\n",
      "     None                227            489        949        589     0.3401       0.2782     0.3060\n",
      "\n"
     ]
    },
    {
     "name": "stderr",
     "output_type": "stream",
     "text": [
      "Writing to /tmp/bcftools.lGjTVd\n",
      "Merging 0 temporary files\n",
      "Cleaning\n",
      "Done\n",
      "Lines   total/split/joined/realigned/skipped:\t0/0/0/0/0\n",
      "Reference sequence NZ_CP094197.1 is used in baseline but not in calls.\n",
      "Could not select maximized F-measure threshold from ROC data, only un-thresholded statistics will be shown. Consider selecting a different scoring attribute with --vcf-score-field\n"
     ]
    },
    {
     "name": "stdout",
     "output_type": "stream",
     "text": [
      "Threshold  True-pos-baseline  True-pos-call  False-pos  False-neg  Precision  Sensitivity  F-measure\n",
      "----------------------------------------------------------------------------------------------------\n",
      "     None                  0              0          0        334        NaN       0.0000        NaN\n",
      "\n"
     ]
    },
    {
     "name": "stderr",
     "output_type": "stream",
     "text": [
      "Writing to /tmp/bcftools.OOFyG9\n",
      "Merging 0 temporary files\n",
      "Cleaning\n",
      "Done\n",
      "Lines   total/split/joined/realigned/skipped:\t0/0/0/0/0\n",
      "Reference sequence NZ_CP094197.1 is used in baseline but not in calls.\n"
     ]
    },
    {
     "name": "stdout",
     "output_type": "stream",
     "text": [
      "Threshold  True-pos-baseline  True-pos-call  False-pos  False-neg  Precision  Sensitivity  F-measure\n",
      "----------------------------------------------------------------------------------------------------\n",
      "     None                  0              0          0        334        NaN       0.0000        NaN\n",
      "\n"
     ]
    },
    {
     "name": "stderr",
     "output_type": "stream",
     "text": [
      "Could not select maximized F-measure threshold from ROC data, only un-thresholded statistics will be shown. Consider selecting a different scoring attribute with --vcf-score-field\n",
      "Writing to /tmp/bcftools.9mTma7\n",
      "Merging 0 temporary files\n",
      "Cleaning\n",
      "Done\n",
      "Lines   total/split/joined/realigned/skipped:\t0/0/0/0/0\n",
      "Reference sequence NZ_CP094197.1 is used in baseline but not in calls.\n",
      "Could not select maximized F-measure threshold from ROC data, only un-thresholded statistics will be shown. Consider selecting a different scoring attribute with --vcf-score-field\n"
     ]
    },
    {
     "name": "stdout",
     "output_type": "stream",
     "text": [
      "Threshold  True-pos-baseline  True-pos-call  False-pos  False-neg  Precision  Sensitivity  F-measure\n",
      "----------------------------------------------------------------------------------------------------\n",
      "     None                  0              0          0        334        NaN       0.0000        NaN\n",
      "\n"
     ]
    },
    {
     "name": "stderr",
     "output_type": "stream",
     "text": [
      "Writing to /tmp/bcftools.dbatzr\n",
      "Merging 1 temporary files\n",
      "Cleaning\n",
      "Done\n",
      "Lines   total/split/joined/realigned/skipped:\t740/0/0/0/0\n"
     ]
    },
    {
     "name": "stdout",
     "output_type": "stream",
     "text": [
      "Selected score threshold using: maximized F-measure\n",
      "Threshold  True-pos-baseline  True-pos-call  False-pos  False-neg  Precision  Sensitivity  F-measure\n",
      "----------------------------------------------------------------------------------------------------\n",
      "   15.930                100            236        330        234     0.4170       0.3004     0.3492\n",
      "     None                105            252        488        229     0.3405       0.3144     0.3269\n",
      "\n"
     ]
    },
    {
     "name": "stderr",
     "output_type": "stream",
     "text": [
      "Writing to /tmp/bcftools.Dfxsr4\n",
      "Merging 1 temporary files\n",
      "Cleaning\n",
      "Done\n",
      "Lines   total/split/joined/realigned/skipped:\t714/0/0/0/0\n"
     ]
    },
    {
     "name": "stdout",
     "output_type": "stream",
     "text": [
      "Selected score threshold using: maximized F-measure\n",
      "Threshold  True-pos-baseline  True-pos-call  False-pos  False-neg  Precision  Sensitivity  F-measure\n",
      "----------------------------------------------------------------------------------------------------\n",
      "   16.170                108            242        384        226     0.3866       0.3222     0.3515\n",
      "     None                110            249        465        224     0.3487       0.3293     0.3388\n",
      "\n"
     ]
    },
    {
     "name": "stderr",
     "output_type": "stream",
     "text": [
      "Writing to /tmp/bcftools.caVVcQ\n",
      "Merging 1 temporary files\n",
      "Cleaning\n",
      "Done\n",
      "Lines   total/split/joined/realigned/skipped:\t491/0/0/0/0\n"
     ]
    },
    {
     "name": "stdout",
     "output_type": "stream",
     "text": [
      "Selected score threshold using: maximized F-measure\n",
      "Threshold  True-pos-baseline  True-pos-call  False-pos  False-neg  Precision  Sensitivity  F-measure\n",
      "----------------------------------------------------------------------------------------------------\n",
      "    9.720                 91            193        287        243     0.4021       0.2725     0.3248\n",
      "     None                 91            193        298        243     0.3931       0.2725     0.3218\n",
      "\n"
     ]
    },
    {
     "name": "stderr",
     "output_type": "stream",
     "text": [
      "Writing to /tmp/bcftools.WMJgJc\n",
      "Merging 0 temporary files\n",
      "Cleaning\n",
      "Done\n",
      "Lines   total/split/joined/realigned/skipped:\t0/0/0/0/0\n",
      "Reference sequence fF3EHHs is used in baseline but not in calls.\n",
      "Could not select maximized F-measure threshold from ROC data, only un-thresholded statistics will be shown. Consider selecting a different scoring attribute with --vcf-score-field\n"
     ]
    },
    {
     "name": "stdout",
     "output_type": "stream",
     "text": [
      "Threshold  True-pos-baseline  True-pos-call  False-pos  False-neg  Precision  Sensitivity  F-measure\n",
      "----------------------------------------------------------------------------------------------------\n",
      "     None                  0              0          0         30        NaN       0.0000        NaN\n",
      "\n"
     ]
    },
    {
     "name": "stderr",
     "output_type": "stream",
     "text": [
      "Writing to /tmp/bcftools.Q2yWCI\n",
      "Merging 0 temporary files\n",
      "Cleaning\n",
      "Done\n",
      "Lines   total/split/joined/realigned/skipped:\t0/0/0/0/0\n",
      "Reference sequence fF3EHHs is used in baseline but not in calls.\n",
      "Could not select maximized F-measure threshold from ROC data, only un-thresholded statistics will be shown. Consider selecting a different scoring attribute with --vcf-score-field\n"
     ]
    },
    {
     "name": "stdout",
     "output_type": "stream",
     "text": [
      "Threshold  True-pos-baseline  True-pos-call  False-pos  False-neg  Precision  Sensitivity  F-measure\n",
      "----------------------------------------------------------------------------------------------------\n",
      "     None                  0              0          0         30        NaN       0.0000        NaN\n",
      "\n"
     ]
    },
    {
     "name": "stderr",
     "output_type": "stream",
     "text": [
      "Writing to /tmp/bcftools.QiZDUa\n",
      "Merging 0 temporary files\n",
      "Cleaning\n",
      "Done\n",
      "Lines   total/split/joined/realigned/skipped:\t0/0/0/0/0\n",
      "Reference sequence fF3EHHs is used in baseline but not in calls.\n",
      "Could not select maximized F-measure threshold from ROC data, only un-thresholded statistics will be shown. Consider selecting a different scoring attribute with --vcf-score-field\n"
     ]
    },
    {
     "name": "stdout",
     "output_type": "stream",
     "text": [
      "Threshold  True-pos-baseline  True-pos-call  False-pos  False-neg  Precision  Sensitivity  F-measure\n",
      "----------------------------------------------------------------------------------------------------\n",
      "     None                  0              0          0         30        NaN       0.0000        NaN\n",
      "\n"
     ]
    },
    {
     "name": "stderr",
     "output_type": "stream",
     "text": [
      "Writing to /tmp/bcftools.VPSnor\n",
      "Merging 1 temporary files\n",
      "Cleaning\n",
      "Done\n",
      "Lines   total/split/joined/realigned/skipped:\t26/0/0/0/0\n"
     ]
    },
    {
     "name": "stdout",
     "output_type": "stream",
     "text": [
      "Selected score threshold using: maximized F-measure\n",
      "Threshold  True-pos-baseline  True-pos-call  False-pos  False-neg  Precision  Sensitivity  F-measure\n",
      "----------------------------------------------------------------------------------------------------\n",
      "   23.000                 13             13         12         17     0.5200       0.4333     0.4727\n",
      "     None                 13             13         13         17     0.5000       0.4333     0.4643\n",
      "\n"
     ]
    },
    {
     "name": "stderr",
     "output_type": "stream",
     "text": [
      "Writing to /tmp/bcftools.0byYbd\n",
      "Merging 1 temporary files\n",
      "Cleaning\n",
      "Done\n",
      "Lines   total/split/joined/realigned/skipped:\t26/0/0/0/0\n"
     ]
    },
    {
     "name": "stdout",
     "output_type": "stream",
     "text": [
      "Selected score threshold using: maximized F-measure\n",
      "Threshold  True-pos-baseline  True-pos-call  False-pos  False-neg  Precision  Sensitivity  F-measure\n",
      "----------------------------------------------------------------------------------------------------\n",
      "   23.280                 13             13         13         17     0.5000       0.4333     0.4643\n",
      "     None                 13             13         13         17     0.5000       0.4333     0.4643\n",
      "\n"
     ]
    },
    {
     "name": "stderr",
     "output_type": "stream",
     "text": [
      "Writing to /tmp/bcftools.5EsmDh\n",
      "Merging 1 temporary files\n",
      "Cleaning\n",
      "Done\n",
      "Lines   total/split/joined/realigned/skipped:\t27/0/0/0/0\n"
     ]
    },
    {
     "name": "stdout",
     "output_type": "stream",
     "text": [
      "Selected score threshold using: maximized F-measure\n",
      "Threshold  True-pos-baseline  True-pos-call  False-pos  False-neg  Precision  Sensitivity  F-measure\n",
      "----------------------------------------------------------------------------------------------------\n",
      "   14.260                  7             11          9         23     0.5500       0.2250     0.3194\n",
      "     None                  7             12         15         23     0.4444       0.2333     0.3060\n",
      "\n"
     ]
    },
    {
     "name": "stderr",
     "output_type": "stream",
     "text": [
      "Writing to /tmp/bcftools.I9PQUD\n",
      "Merging 1 temporary files\n",
      "Cleaning\n",
      "Done\n",
      "Lines   total/split/joined/realigned/skipped:\t1257/0/0/29/0\n"
     ]
    },
    {
     "name": "stdout",
     "output_type": "stream",
     "text": [
      "Selected score threshold using: maximized F-measure\n",
      "Threshold  True-pos-baseline  True-pos-call  False-pos  False-neg  Precision  Sensitivity  F-measure\n",
      "----------------------------------------------------------------------------------------------------\n",
      "  191.454                215           1006         42        100     0.9599       0.6825     0.7978\n",
      "     None                217           1021        236         98     0.8123       0.6889     0.7455\n",
      "\n"
     ]
    },
    {
     "name": "stderr",
     "output_type": "stream",
     "text": [
      "Writing to /tmp/bcftools.VTVCes\n",
      "Merging 1 temporary files\n",
      "Cleaning\n",
      "Done\n",
      "Lines   total/split/joined/realigned/skipped:\t375/0/0/132/0\n"
     ]
    },
    {
     "name": "stdout",
     "output_type": "stream",
     "text": [
      "Selected score threshold using: maximized F-measure\n",
      "Threshold  True-pos-baseline  True-pos-call  False-pos  False-neg  Precision  Sensitivity  F-measure\n",
      "----------------------------------------------------------------------------------------------------\n",
      " 3216.270                258            288         14         57     0.9536       0.8190     0.8812\n",
      "     None                259            292         83         56     0.7787       0.8222     0.7999\n",
      "\n"
     ]
    },
    {
     "name": "stderr",
     "output_type": "stream",
     "text": [
      "Writing to /tmp/bcftools.XrFexd\n",
      "Merging 1 temporary files\n",
      "Cleaning\n",
      "Done\n",
      "Lines   total/split/joined/realigned/skipped:\t1187/0/0/31/0\n"
     ]
    },
    {
     "name": "stdout",
     "output_type": "stream",
     "text": [
      "Selected score threshold using: maximized F-measure\n",
      "Threshold  True-pos-baseline  True-pos-call  False-pos  False-neg  Precision  Sensitivity  F-measure\n",
      "----------------------------------------------------------------------------------------------------\n",
      "  218.635                219           1009         17         96     0.9834       0.6949     0.8144\n",
      "     None                219           1010        177         96     0.8509       0.6952     0.7652\n",
      "\n"
     ]
    },
    {
     "name": "stderr",
     "output_type": "stream",
     "text": [
      "Writing to /tmp/bcftools.JaKWp0\n",
      "Merging 1 temporary files\n",
      "Cleaning\n",
      "Done\n",
      "Lines   total/split/joined/realigned/skipped:\t315/0/0/125/0\n"
     ]
    },
    {
     "name": "stdout",
     "output_type": "stream",
     "text": [
      "Selected score threshold using: maximized F-measure\n",
      "Threshold  True-pos-baseline  True-pos-call  False-pos  False-neg  Precision  Sensitivity  F-measure\n",
      "----------------------------------------------------------------------------------------------------\n",
      "  887.136                252            284         11         63     0.9627       0.8011     0.8745\n",
      "     None                254            287         28         61     0.9111       0.8063     0.8555\n",
      "\n"
     ]
    },
    {
     "name": "stderr",
     "output_type": "stream",
     "text": [
      "Writing to /tmp/bcftools.phWkGw\n",
      "Merging 1 temporary files\n",
      "Cleaning\n",
      "Done\n",
      "Lines   total/split/joined/realigned/skipped:\t1064/0/0/28/0\n"
     ]
    },
    {
     "name": "stdout",
     "output_type": "stream",
     "text": [
      "Selected score threshold using: maximized F-measure\n",
      "Threshold  True-pos-baseline  True-pos-call  False-pos  False-neg  Precision  Sensitivity  F-measure\n",
      "----------------------------------------------------------------------------------------------------\n",
      "   32.827                211            984         36        104     0.9647       0.6714     0.7917\n",
      "     None                213            995         69        102     0.9352       0.6762     0.7849\n",
      "\n"
     ]
    },
    {
     "name": "stderr",
     "output_type": "stream",
     "text": [
      "Writing to /tmp/bcftools.HJYRNf\n",
      "Merging 1 temporary files\n",
      "Cleaning\n",
      "Done\n",
      "Lines   total/split/joined/realigned/skipped:\t299/0/0/119/0\n"
     ]
    },
    {
     "name": "stdout",
     "output_type": "stream",
     "text": [
      "Selected score threshold using: maximized F-measure\n",
      "Threshold  True-pos-baseline  True-pos-call  False-pos  False-neg  Precision  Sensitivity  F-measure\n",
      "----------------------------------------------------------------------------------------------------\n",
      "   54.426                240            268         13         75     0.9537       0.7610     0.8465\n",
      "     None                245            275         24         70     0.9197       0.7778     0.8428\n",
      "\n"
     ]
    },
    {
     "name": "stderr",
     "output_type": "stream",
     "text": [
      "Writing to /tmp/bcftools.dytYIG\n",
      "Merging 1 temporary files\n",
      "Cleaning\n",
      "Done\n",
      "Lines   total/split/joined/realigned/skipped:\t1998/0/0/0/0\n"
     ]
    },
    {
     "name": "stdout",
     "output_type": "stream",
     "text": [
      "Selected score threshold using: maximized F-measure\n",
      "Threshold  True-pos-baseline  True-pos-call  False-pos  False-neg  Precision  Sensitivity  F-measure\n",
      "----------------------------------------------------------------------------------------------------\n",
      "  227.955                 84            289        656        231     0.3058       0.2655     0.2842\n",
      "     None                 93            342       1656        222     0.1712       0.2952     0.2167\n",
      "\n"
     ]
    },
    {
     "name": "stderr",
     "output_type": "stream",
     "text": [
      "Writing to /tmp/bcftools.W7Ssu4\n",
      "Merging 1 temporary files\n",
      "Cleaning\n",
      "Done\n",
      "Lines   total/split/joined/realigned/skipped:\t281/0/0/192/0\n"
     ]
    },
    {
     "name": "stdout",
     "output_type": "stream",
     "text": [
      "Selected score threshold using: maximized F-measure\n",
      "Threshold  True-pos-baseline  True-pos-call  False-pos  False-neg  Precision  Sensitivity  F-measure\n",
      "----------------------------------------------------------------------------------------------------\n",
      "  609.814                219            274          5         96     0.9821       0.6952     0.8141\n",
      "     None                219            274          7         96     0.9751       0.6952     0.8117\n",
      "\n"
     ]
    },
    {
     "name": "stderr",
     "output_type": "stream",
     "text": [
      "Writing to /tmp/bcftools.yBydpm\n",
      "Merging 1 temporary files\n",
      "Cleaning\n",
      "Done\n",
      "Lines   total/split/joined/realigned/skipped:\t2087/0/0/67/0\n"
     ]
    },
    {
     "name": "stdout",
     "output_type": "stream",
     "text": [
      "Selected score threshold using: maximized F-measure\n",
      "Threshold  True-pos-baseline  True-pos-call  False-pos  False-neg  Precision  Sensitivity  F-measure\n",
      "----------------------------------------------------------------------------------------------------\n",
      "  225.417                129            345        627        186     0.3549       0.4110     0.3809\n",
      "     None                167            449       1638        148     0.2151       0.5302     0.3061\n",
      "\n"
     ]
    },
    {
     "name": "stderr",
     "output_type": "stream",
     "text": [
      "Writing to /tmp/bcftools.PIEVBy\n",
      "Merging 1 temporary files\n",
      "Cleaning\n",
      "Done\n",
      "Lines   total/split/joined/realigned/skipped:\t390/0/0/259/0\n"
     ]
    },
    {
     "name": "stdout",
     "output_type": "stream",
     "text": [
      "Selected score threshold using: maximized F-measure\n",
      "Threshold  True-pos-baseline  True-pos-call  False-pos  False-neg  Precision  Sensitivity  F-measure\n",
      "----------------------------------------------------------------------------------------------------\n",
      "   70.812                304            376         10         11     0.9741       0.9651     0.9696\n",
      "     None                305            377         13         10     0.9667       0.9683     0.9675\n",
      "\n"
     ]
    },
    {
     "name": "stderr",
     "output_type": "stream",
     "text": [
      "Writing to /tmp/bcftools.vYXu55\n",
      "Merging 1 temporary files\n",
      "Cleaning\n",
      "Done\n",
      "Lines   total/split/joined/realigned/skipped:\t1680/0/0/46/0\n"
     ]
    },
    {
     "name": "stdout",
     "output_type": "stream",
     "text": [
      "Selected score threshold using: maximized F-measure\n",
      "Threshold  True-pos-baseline  True-pos-call  False-pos  False-neg  Precision  Sensitivity  F-measure\n",
      "----------------------------------------------------------------------------------------------------\n",
      "  102.415                124            301        627        191     0.3244       0.3922     0.3550\n",
      "     None                159            410       1270        156     0.2440       0.5048     0.3290\n",
      "\n"
     ]
    },
    {
     "name": "stderr",
     "output_type": "stream",
     "text": [
      "Writing to /tmp/bcftools.ILNcnj\n",
      "Merging 1 temporary files\n",
      "Cleaning\n",
      "Done\n",
      "Lines   total/split/joined/realigned/skipped:\t444/0/0/258/0\n"
     ]
    },
    {
     "name": "stdout",
     "output_type": "stream",
     "text": [
      "Selected score threshold using: maximized F-measure\n",
      "Threshold  True-pos-baseline  True-pos-call  False-pos  False-neg  Precision  Sensitivity  F-measure\n",
      "----------------------------------------------------------------------------------------------------\n",
      "    2.556                269            339         98         46     0.7757       0.8540     0.8130\n",
      "     None                270            340        101         45     0.7710       0.8571     0.8118\n",
      "\n"
     ]
    },
    {
     "name": "stderr",
     "output_type": "stream",
     "text": [
      "Writing to /tmp/bcftools.n7CbWl\n",
      "Merging 1 temporary files\n",
      "Cleaning\n",
      "Done\n",
      "Lines   total/split/joined/realigned/skipped:\t406/0/0/5/0\n"
     ]
    },
    {
     "name": "stdout",
     "output_type": "stream",
     "text": [
      "Selected score threshold using: maximized F-measure\n",
      "Threshold  True-pos-baseline  True-pos-call  False-pos  False-neg  Precision  Sensitivity  F-measure\n",
      "----------------------------------------------------------------------------------------------------\n",
      "  196.778                 79            344          7         21     0.9801       0.7900     0.8748\n",
      "     None                 79            344         62         21     0.8473       0.7900     0.8176\n",
      "\n"
     ]
    },
    {
     "name": "stderr",
     "output_type": "stream",
     "text": [
      "Writing to /tmp/bcftools.PFXUbC\n",
      "Merging 1 temporary files\n",
      "Cleaning\n",
      "Done\n",
      "Lines   total/split/joined/realigned/skipped:\t110/0/0/33/0\n"
     ]
    },
    {
     "name": "stdout",
     "output_type": "stream",
     "text": [
      "Selected score threshold using: maximized F-measure\n",
      "Threshold  True-pos-baseline  True-pos-call  False-pos  False-neg  Precision  Sensitivity  F-measure\n",
      "----------------------------------------------------------------------------------------------------\n",
      " 4011.790                 93             99          3          7     0.9706       0.9300     0.9499\n",
      "     None                 93             99         11          7     0.9000       0.9300     0.9148\n",
      "\n"
     ]
    },
    {
     "name": "stderr",
     "output_type": "stream",
     "text": [
      "Writing to /tmp/bcftools.0d9HR1\n",
      "Merging 1 temporary files\n",
      "Cleaning\n",
      "Done\n",
      "Lines   total/split/joined/realigned/skipped:\t401/0/0/7/0\n"
     ]
    },
    {
     "name": "stdout",
     "output_type": "stream",
     "text": [
      "Selected score threshold using: maximized F-measure\n",
      "Threshold  True-pos-baseline  True-pos-call  False-pos  False-neg  Precision  Sensitivity  F-measure\n",
      "----------------------------------------------------------------------------------------------------\n",
      "  169.416                 82            346          4         18     0.9886       0.8183     0.8954\n",
      "     None                 82            347         54         18     0.8653       0.8200     0.8421\n",
      "\n"
     ]
    },
    {
     "name": "stderr",
     "output_type": "stream",
     "text": [
      "Writing to /tmp/bcftools.J8tkR3\n",
      "Merging 1 temporary files\n",
      "Cleaning\n",
      "Done\n",
      "Lines   total/split/joined/realigned/skipped:\t104/0/0/34/0\n"
     ]
    },
    {
     "name": "stdout",
     "output_type": "stream",
     "text": [
      "Selected score threshold using: maximized F-measure\n",
      "Threshold  True-pos-baseline  True-pos-call  False-pos  False-neg  Precision  Sensitivity  F-measure\n",
      "----------------------------------------------------------------------------------------------------\n",
      "  343.008                 93            102          1          7     0.9903       0.9300     0.9592\n",
      "     None                 93            102          2          7     0.9808       0.9300     0.9547\n",
      "\n"
     ]
    },
    {
     "name": "stderr",
     "output_type": "stream",
     "text": [
      "Writing to /tmp/bcftools.O8SeBq\n",
      "Merging 1 temporary files\n",
      "Cleaning\n",
      "Done\n",
      "Lines   total/split/joined/realigned/skipped:\t362/0/0/8/0\n"
     ]
    },
    {
     "name": "stdout",
     "output_type": "stream",
     "text": [
      "Selected score threshold using: maximized F-measure\n",
      "Threshold  True-pos-baseline  True-pos-call  False-pos  False-neg  Precision  Sensitivity  F-measure\n",
      "----------------------------------------------------------------------------------------------------\n",
      "   30.418                 80            339          8         20     0.9769       0.8000     0.8797\n",
      "     None                 81            345         17         19     0.9530       0.8100     0.8757\n",
      "\n"
     ]
    },
    {
     "name": "stderr",
     "output_type": "stream",
     "text": [
      "Writing to /tmp/bcftools.6dduOW\n",
      "Merging 1 temporary files\n",
      "Cleaning\n",
      "Done\n",
      "Lines   total/split/joined/realigned/skipped:\t100/0/0/34/0\n"
     ]
    },
    {
     "name": "stdout",
     "output_type": "stream",
     "text": [
      "Selected score threshold using: maximized F-measure\n",
      "Threshold  True-pos-baseline  True-pos-call  False-pos  False-neg  Precision  Sensitivity  F-measure\n",
      "----------------------------------------------------------------------------------------------------\n",
      "   41.154                 91            100          0          9     1.0000       0.9100     0.9529\n",
      "     None                 91            100          0          9     1.0000       0.9100     0.9529\n",
      "\n"
     ]
    },
    {
     "name": "stderr",
     "output_type": "stream",
     "text": [
      "Writing to /tmp/bcftools.LFowXa\n",
      "Merging 1 temporary files\n",
      "Cleaning\n",
      "Done\n",
      "Lines   total/split/joined/realigned/skipped:\t437/0/0/0/0\n"
     ]
    },
    {
     "name": "stdout",
     "output_type": "stream",
     "text": [
      "Selected score threshold using: maximized F-measure\n",
      "Threshold  True-pos-baseline  True-pos-call  False-pos  False-neg  Precision  Sensitivity  F-measure\n",
      "----------------------------------------------------------------------------------------------------\n",
      "  228.038                 38            114        117         62     0.4935       0.3798     0.4292\n",
      "     None                 42            138        299         58     0.3158       0.4200     0.3605\n",
      "\n"
     ]
    },
    {
     "name": "stderr",
     "output_type": "stream",
     "text": [
      "Writing to /tmp/bcftools.2Ouwml\n",
      "Merging 1 temporary files\n",
      "Cleaning\n",
      "Done\n",
      "Lines   total/split/joined/realigned/skipped:\t116/0/0/66/0\n"
     ]
    },
    {
     "name": "stdout",
     "output_type": "stream",
     "text": [
      "Selected score threshold using: maximized F-measure\n",
      "Threshold  True-pos-baseline  True-pos-call  False-pos  False-neg  Precision  Sensitivity  F-measure\n",
      "----------------------------------------------------------------------------------------------------\n",
      " 1693.860                 99            115          1          1     0.9914       0.9900     0.9907\n",
      "     None                 99            115          1          1     0.9914       0.9900     0.9907\n",
      "\n"
     ]
    },
    {
     "name": "stderr",
     "output_type": "stream",
     "text": [
      "Writing to /tmp/bcftools.DWs7f9\n",
      "Merging 1 temporary files\n",
      "Cleaning\n",
      "Done\n",
      "Lines   total/split/joined/realigned/skipped:\t457/0/0/17/0\n"
     ]
    },
    {
     "name": "stdout",
     "output_type": "stream",
     "text": [
      "Selected score threshold using: maximized F-measure\n",
      "Threshold  True-pos-baseline  True-pos-call  False-pos  False-neg  Precision  Sensitivity  F-measure\n",
      "----------------------------------------------------------------------------------------------------\n",
      "  222.299                 50            129        124         50     0.5099       0.5024     0.5061\n",
      "     None                 58            158        299         42     0.3457       0.5800     0.4332\n",
      "\n"
     ]
    },
    {
     "name": "stderr",
     "output_type": "stream",
     "text": [
      "Writing to /tmp/bcftools.AGu6DH\n",
      "Merging 1 temporary files\n",
      "Cleaning\n",
      "Done\n",
      "Lines   total/split/joined/realigned/skipped:\t115/0/0/65/0\n"
     ]
    },
    {
     "name": "stdout",
     "output_type": "stream",
     "text": [
      "Selected score threshold using: maximized F-measure\n",
      "Threshold  True-pos-baseline  True-pos-call  False-pos  False-neg  Precision  Sensitivity  F-measure\n",
      "----------------------------------------------------------------------------------------------------\n",
      "  239.771                 98            114          1          2     0.9913       0.9800     0.9856\n",
      "     None                 98            114          1          2     0.9913       0.9800     0.9856\n",
      "\n"
     ]
    },
    {
     "name": "stderr",
     "output_type": "stream",
     "text": [
      "Writing to /tmp/bcftools.TMpyn1\n",
      "Merging 1 temporary files\n",
      "Cleaning\n",
      "Done\n",
      "Lines   total/split/joined/realigned/skipped:\t394/0/0/11/0\n"
     ]
    },
    {
     "name": "stdout",
     "output_type": "stream",
     "text": [
      "Selected score threshold using: maximized F-measure\n",
      "Threshold  True-pos-baseline  True-pos-call  False-pos  False-neg  Precision  Sensitivity  F-measure\n",
      "----------------------------------------------------------------------------------------------------\n",
      "   87.233                 52            145        159         48     0.4770       0.5184     0.4968\n",
      "     None                 55            154        240         45     0.3909       0.5500     0.4570\n",
      "\n"
     ]
    },
    {
     "name": "stderr",
     "output_type": "stream",
     "text": [
      "Writing to /tmp/bcftools.aBnbPn\n",
      "Merging 1 temporary files\n",
      "Cleaning\n",
      "Done\n",
      "Lines   total/split/joined/realigned/skipped:\t126/0/0/63/0\n"
     ]
    },
    {
     "name": "stdout",
     "output_type": "stream",
     "text": [
      "Selected score threshold using: maximized F-measure\n",
      "Threshold  True-pos-baseline  True-pos-call  False-pos  False-neg  Precision  Sensitivity  F-measure\n",
      "----------------------------------------------------------------------------------------------------\n",
      "   57.045                 87            100         11         13     0.9009       0.8700     0.8852\n",
      "     None                 90            103         23         10     0.8175       0.9000     0.8567\n",
      "\n"
     ]
    },
    {
     "name": "stderr",
     "output_type": "stream",
     "text": [
      "Writing to /tmp/bcftools.iajvH9\n",
      "Merging 1 temporary files\n",
      "Cleaning\n",
      "Done\n",
      "Lines   total/split/joined/realigned/skipped:\t395/0/0/6/0\n"
     ]
    },
    {
     "name": "stdout",
     "output_type": "stream",
     "text": [
      "Selected score threshold using: maximized F-measure\n",
      "Threshold  True-pos-baseline  True-pos-call  False-pos  False-neg  Precision  Sensitivity  F-measure\n",
      "----------------------------------------------------------------------------------------------------\n",
      "  192.029                 72            362          9         27     0.9757       0.7273     0.8334\n",
      "     None                 72            362         33         27     0.9165       0.7273     0.8110\n",
      "\n"
     ]
    },
    {
     "name": "stderr",
     "output_type": "stream",
     "text": [
      "Writing to /tmp/bcftools.tPb3kK\n",
      "Merging 1 temporary files\n",
      "Cleaning\n",
      "Done\n",
      "Lines   total/split/joined/realigned/skipped:\t112/0/0/39/0\n"
     ]
    },
    {
     "name": "stdout",
     "output_type": "stream",
     "text": [
      "Selected score threshold using: maximized F-measure\n",
      "Threshold  True-pos-baseline  True-pos-call  False-pos  False-neg  Precision  Sensitivity  F-measure\n",
      "----------------------------------------------------------------------------------------------------\n",
      " 7684.470                 90             99          2          9     0.9802       0.9091     0.9433\n",
      "     None                 90             99         13          9     0.8839       0.9091     0.8963\n",
      "\n"
     ]
    },
    {
     "name": "stderr",
     "output_type": "stream",
     "text": [
      "Writing to /tmp/bcftools.NOcqcP\n",
      "Merging 1 temporary files\n",
      "Cleaning\n",
      "Done\n",
      "Lines   total/split/joined/realigned/skipped:\t383/0/0/9/0\n"
     ]
    },
    {
     "name": "stdout",
     "output_type": "stream",
     "text": [
      "Selected score threshold using: maximized F-measure\n",
      "Threshold  True-pos-baseline  True-pos-call  False-pos  False-neg  Precision  Sensitivity  F-measure\n",
      "----------------------------------------------------------------------------------------------------\n",
      "   29.338                 78            371          9         21     0.9763       0.7879     0.8720\n",
      "     None                 78            371         12         21     0.9687       0.7879     0.8690\n",
      "\n"
     ]
    },
    {
     "name": "stderr",
     "output_type": "stream",
     "text": [
      "Writing to /tmp/bcftools.ct9VJ3\n",
      "Merging 1 temporary files\n",
      "Cleaning\n",
      "Done\n",
      "Lines   total/split/joined/realigned/skipped:\t101/0/0/37/0\n"
     ]
    },
    {
     "name": "stdout",
     "output_type": "stream",
     "text": [
      "Selected score threshold using: maximized F-measure\n",
      "Threshold  True-pos-baseline  True-pos-call  False-pos  False-neg  Precision  Sensitivity  F-measure\n",
      "----------------------------------------------------------------------------------------------------\n",
      "  572.361                 90             99          1          9     0.9900       0.9091     0.9478\n",
      "     None                 90             99          2          9     0.9802       0.9091     0.9433\n",
      "\n"
     ]
    },
    {
     "name": "stderr",
     "output_type": "stream",
     "text": [
      "Writing to /tmp/bcftools.Gze6j6\n",
      "Merging 1 temporary files\n",
      "Cleaning\n",
      "Done\n",
      "Lines   total/split/joined/realigned/skipped:\t380/0/0/9/0\n"
     ]
    },
    {
     "name": "stdout",
     "output_type": "stream",
     "text": [
      "Selected score threshold using: maximized F-measure\n",
      "Threshold  True-pos-baseline  True-pos-call  False-pos  False-neg  Precision  Sensitivity  F-measure\n",
      "----------------------------------------------------------------------------------------------------\n",
      "   32.417                 76            364         10         23     0.9733       0.7649     0.8566\n",
      "     None                 76            366         14         23     0.9632       0.7677     0.8544\n",
      "\n"
     ]
    },
    {
     "name": "stderr",
     "output_type": "stream",
     "text": [
      "Writing to /tmp/bcftools.tmYppe\n",
      "Merging 1 temporary files\n",
      "Cleaning\n",
      "Done\n",
      "Lines   total/split/joined/realigned/skipped:\t99/0/0/36/0\n"
     ]
    },
    {
     "name": "stdout",
     "output_type": "stream",
     "text": [
      "Selected score threshold using: maximized F-measure\n",
      "Threshold  True-pos-baseline  True-pos-call  False-pos  False-neg  Precision  Sensitivity  F-measure\n",
      "----------------------------------------------------------------------------------------------------\n",
      "   47.797                 89             97          2         10     0.9798       0.8990     0.9377\n",
      "     None                 89             97          2         10     0.9798       0.8990     0.9377\n",
      "\n"
     ]
    },
    {
     "name": "stderr",
     "output_type": "stream",
     "text": [
      "Writing to /tmp/bcftools.qE6L02\n",
      "Merging 1 temporary files\n",
      "Cleaning\n",
      "Done\n",
      "Lines   total/split/joined/realigned/skipped:\t462/0/0/0/0\n"
     ]
    },
    {
     "name": "stdout",
     "output_type": "stream",
     "text": [
      "Selected score threshold using: maximized F-measure\n",
      "Threshold  True-pos-baseline  True-pos-call  False-pos  False-neg  Precision  Sensitivity  F-measure\n",
      "----------------------------------------------------------------------------------------------------\n",
      "  212.362                 36            147        220         63     0.4005       0.3611     0.3798\n",
      "     None                 36            149        313         63     0.3225       0.3636     0.3418\n",
      "\n"
     ]
    },
    {
     "name": "stderr",
     "output_type": "stream",
     "text": [
      "Writing to /tmp/bcftools.LFj6Oi\n",
      "Merging 1 temporary files\n",
      "Cleaning\n",
      "Done\n",
      "Lines   total/split/joined/realigned/skipped:\t113/0/0/65/0\n"
     ]
    },
    {
     "name": "stdout",
     "output_type": "stream",
     "text": [
      "Selected score threshold using: maximized F-measure\n",
      "Threshold  True-pos-baseline  True-pos-call  False-pos  False-neg  Precision  Sensitivity  F-measure\n",
      "----------------------------------------------------------------------------------------------------\n",
      " 4167.600                 98            112          1          1     0.9912       0.9899     0.9905\n",
      "     None                 98            112          1          1     0.9912       0.9899     0.9905\n",
      "\n"
     ]
    },
    {
     "name": "stderr",
     "output_type": "stream",
     "text": [
      "Writing to /tmp/bcftools.Y1M4ny\n",
      "Merging 1 temporary files\n",
      "Cleaning\n",
      "Done\n",
      "Lines   total/split/joined/realigned/skipped:\t482/0/0/14/0\n"
     ]
    },
    {
     "name": "stdout",
     "output_type": "stream",
     "text": [
      "Selected score threshold using: maximized F-measure\n",
      "Threshold  True-pos-baseline  True-pos-call  False-pos  False-neg  Precision  Sensitivity  F-measure\n",
      "----------------------------------------------------------------------------------------------------\n",
      "  193.051                 52            168        214         47     0.4398       0.5269     0.4794\n",
      "     None                 56            177        305         43     0.3672       0.5657     0.4453\n",
      "\n"
     ]
    },
    {
     "name": "stderr",
     "output_type": "stream",
     "text": [
      "Writing to /tmp/bcftools.PyAu5n\n",
      "Merging 1 temporary files\n",
      "Cleaning\n",
      "Done\n",
      "Lines   total/split/joined/realigned/skipped:\t113/0/0/65/0\n"
     ]
    },
    {
     "name": "stdout",
     "output_type": "stream",
     "text": [
      "Selected score threshold using: maximized F-measure\n",
      "Threshold  True-pos-baseline  True-pos-call  False-pos  False-neg  Precision  Sensitivity  F-measure\n",
      "----------------------------------------------------------------------------------------------------\n",
      "  320.469                 98            112          1          1     0.9912       0.9899     0.9905\n",
      "     None                 98            112          1          1     0.9912       0.9899     0.9905\n",
      "\n"
     ]
    },
    {
     "name": "stderr",
     "output_type": "stream",
     "text": [
      "Writing to /tmp/bcftools.Acak1H\n",
      "Merging 1 temporary files\n",
      "Cleaning\n",
      "Done\n",
      "Lines   total/split/joined/realigned/skipped:\t427/0/0/13/0\n"
     ]
    },
    {
     "name": "stdout",
     "output_type": "stream",
     "text": [
      "Selected score threshold using: maximized F-measure\n",
      "Threshold  True-pos-baseline  True-pos-call  False-pos  False-neg  Precision  Sensitivity  F-measure\n",
      "----------------------------------------------------------------------------------------------------\n",
      "   34.711                 51            163        222         48     0.4234       0.5156     0.4650\n",
      "     None                 52            167        260         47     0.3911       0.5253     0.4484\n",
      "\n"
     ]
    },
    {
     "name": "stderr",
     "output_type": "stream",
     "text": [
      "Writing to /tmp/bcftools.YzRcbj\n",
      "Merging 1 temporary files\n",
      "Cleaning\n",
      "Done\n",
      "Lines   total/split/joined/realigned/skipped:\t115/0/0/64/0\n"
     ]
    },
    {
     "name": "stdout",
     "output_type": "stream",
     "text": [
      "Selected score threshold using: maximized F-measure\n",
      "Threshold  True-pos-baseline  True-pos-call  False-pos  False-neg  Precision  Sensitivity  F-measure\n",
      "----------------------------------------------------------------------------------------------------\n",
      "   22.563                 96            112          3          3     0.9739       0.9697     0.9718\n",
      "     None                 96            112          3          3     0.9739       0.9697     0.9718\n",
      "\n"
     ]
    },
    {
     "name": "stderr",
     "output_type": "stream",
     "text": [
      "Writing to /tmp/bcftools.8ft4Jy\n",
      "Merging 1 temporary files\n",
      "Cleaning\n",
      "Done\n",
      "Lines   total/split/joined/realigned/skipped:\t2806/0/0/58/0\n"
     ]
    },
    {
     "name": "stdout",
     "output_type": "stream",
     "text": [
      "Selected score threshold using: maximized F-measure\n",
      "Threshold  True-pos-baseline  True-pos-call  False-pos  False-neg  Precision  Sensitivity  F-measure\n",
      "----------------------------------------------------------------------------------------------------\n",
      "  195.588                439           2163        122        377     0.9466       0.5385     0.6865\n",
      "     None                445           2178        628        371     0.7762       0.5453     0.6406\n",
      "\n"
     ]
    },
    {
     "name": "stderr",
     "output_type": "stream",
     "text": [
      "Writing to /tmp/bcftools.gUJvuw\n",
      "Merging 1 temporary files\n",
      "Cleaning\n",
      "Done\n",
      "Lines   total/split/joined/realigned/skipped:\t1042/0/0/274/0\n"
     ]
    },
    {
     "name": "stdout",
     "output_type": "stream",
     "text": [
      "Selected score threshold using: maximized F-measure\n",
      "Threshold  True-pos-baseline  True-pos-call  False-pos  False-neg  Precision  Sensitivity  F-measure\n",
      "----------------------------------------------------------------------------------------------------\n",
      " 6710.460                535            584         39        281     0.9374       0.6556     0.7716\n",
      "     None                535            584        458        281     0.5605       0.6556     0.6043\n",
      "\n"
     ]
    },
    {
     "name": "stderr",
     "output_type": "stream",
     "text": [
      "Writing to /tmp/bcftools.rEStUx\n",
      "Merging 1 temporary files\n",
      "Cleaning\n",
      "Done\n",
      "Lines   total/split/joined/realigned/skipped:\t2597/0/0/61/0\n"
     ]
    },
    {
     "name": "stdout",
     "output_type": "stream",
     "text": [
      "Selected score threshold using: maximized F-measure\n",
      "Threshold  True-pos-baseline  True-pos-call  False-pos  False-neg  Precision  Sensitivity  F-measure\n",
      "----------------------------------------------------------------------------------------------------\n",
      "  190.643                448           2178         24        368     0.9891       0.5495     0.7065\n",
      "     None                453           2199        398        363     0.8467       0.5551     0.6706\n",
      "\n"
     ]
    },
    {
     "name": "stderr",
     "output_type": "stream",
     "text": [
      "Writing to /tmp/bcftools.CIjFtL\n",
      "Merging 1 temporary files\n",
      "Cleaning\n",
      "Done\n",
      "Lines   total/split/joined/realigned/skipped:\t731/0/0/243/0\n"
     ]
    },
    {
     "name": "stdout",
     "output_type": "stream",
     "text": [
      "Selected score threshold using: maximized F-measure\n",
      "Threshold  True-pos-baseline  True-pos-call  False-pos  False-neg  Precision  Sensitivity  F-measure\n",
      "----------------------------------------------------------------------------------------------------\n",
      "  599.858                525            571         41        291     0.9330       0.6434     0.7616\n",
      "     None                525            571        160        291     0.7811       0.6434     0.7056\n",
      "\n"
     ]
    },
    {
     "name": "stderr",
     "output_type": "stream",
     "text": [
      "Writing to /tmp/bcftools.lruG0b\n",
      "Merging 1 temporary files\n",
      "Cleaning\n",
      "Done\n",
      "Lines   total/split/joined/realigned/skipped:\t2312/0/0/55/0\n"
     ]
    },
    {
     "name": "stdout",
     "output_type": "stream",
     "text": [
      "Selected score threshold using: maximized F-measure\n",
      "Threshold  True-pos-baseline  True-pos-call  False-pos  False-neg  Precision  Sensitivity  F-measure\n",
      "----------------------------------------------------------------------------------------------------\n",
      "   21.446                438           2134         65        378     0.9704       0.5370     0.6914\n",
      "     None                442           2160        152        374     0.9343       0.5417     0.6857\n",
      "\n"
     ]
    },
    {
     "name": "stderr",
     "output_type": "stream",
     "text": [
      "Writing to /tmp/bcftools.ZDy5QY\n",
      "Merging 1 temporary files\n",
      "Cleaning\n",
      "Done\n",
      "Lines   total/split/joined/realigned/skipped:\t591/0/0/214/0\n"
     ]
    },
    {
     "name": "stdout",
     "output_type": "stream",
     "text": [
      "Selected score threshold using: maximized F-measure\n",
      "Threshold  True-pos-baseline  True-pos-call  False-pos  False-neg  Precision  Sensitivity  F-measure\n",
      "----------------------------------------------------------------------------------------------------\n",
      "   44.610                497            546         39        319     0.9333       0.6091     0.7371\n",
      "     None                499            548         43        317     0.9272       0.6115     0.7370\n",
      "\n"
     ]
    },
    {
     "name": "stderr",
     "output_type": "stream",
     "text": [
      "Writing to /tmp/bcftools.eZQy0J\n",
      "Merging 1 temporary files\n",
      "Cleaning\n",
      "Done\n",
      "Lines   total/split/joined/realigned/skipped:\t8845/0/0/0/0\n"
     ]
    },
    {
     "name": "stdout",
     "output_type": "stream",
     "text": [
      "Selected score threshold using: maximized F-measure\n",
      "Threshold  True-pos-baseline  True-pos-call  False-pos  False-neg  Precision  Sensitivity  F-measure\n",
      "----------------------------------------------------------------------------------------------------\n",
      "  228.131                148            544       2192        668     0.1988       0.1810     0.1895\n",
      "     None                188            761       8084        628     0.0860       0.2304     0.1253\n",
      "\n"
     ]
    },
    {
     "name": "stderr",
     "output_type": "stream",
     "text": [
      "Writing to /tmp/bcftools.4kQlVY\n",
      "Merging 1 temporary files\n",
      "Cleaning\n",
      "Done\n",
      "Lines   total/split/joined/realigned/skipped:\t145/0/0/94/0\n"
     ]
    },
    {
     "name": "stdout",
     "output_type": "stream",
     "text": [
      "Selected score threshold using: maximized F-measure\n",
      "Threshold  True-pos-baseline  True-pos-call  False-pos  False-neg  Precision  Sensitivity  F-measure\n",
      "----------------------------------------------------------------------------------------------------\n",
      "  777.234                100            135          8        716     0.9441       0.1225     0.2169\n",
      "     None                100            135         10        716     0.9310       0.1225     0.2166\n",
      "\n"
     ]
    },
    {
     "name": "stderr",
     "output_type": "stream",
     "text": [
      "Writing to /tmp/bcftools.cawMV3\n",
      "Merging 1 temporary files\n",
      "Cleaning\n",
      "Done\n",
      "Lines   total/split/joined/realigned/skipped:\t8998/0/0/143/0\n"
     ]
    },
    {
     "name": "stdout",
     "output_type": "stream",
     "text": [
      "Selected score threshold using: maximized F-measure\n",
      "Threshold  True-pos-baseline  True-pos-call  False-pos  False-neg  Precision  Sensitivity  F-measure\n",
      "----------------------------------------------------------------------------------------------------\n",
      "  225.175                259            743       2703        557     0.2156       0.3177     0.2569\n",
      "     None                344           1009       7989        472     0.1121       0.4216     0.1772\n",
      "\n"
     ]
    },
    {
     "name": "stderr",
     "output_type": "stream",
     "text": [
      "Writing to /tmp/bcftools.XygGRq\n",
      "Merging 1 temporary files\n",
      "Cleaning\n",
      "Done\n",
      "Lines   total/split/joined/realigned/skipped:\t878/0/0/610/0\n"
     ]
    },
    {
     "name": "stdout",
     "output_type": "stream",
     "text": [
      "Selected score threshold using: maximized F-measure\n",
      "Threshold  True-pos-baseline  True-pos-call  False-pos  False-neg  Precision  Sensitivity  F-measure\n",
      "----------------------------------------------------------------------------------------------------\n",
      "   94.851                544            827         40        272     0.9539       0.6667     0.7848\n",
      "     None                545            828         50        271     0.9431       0.6679     0.7820\n",
      "\n"
     ]
    },
    {
     "name": "stderr",
     "output_type": "stream",
     "text": [
      "Writing to /tmp/bcftools.TXC0i8\n",
      "Merging 1 temporary files\n",
      "Cleaning\n",
      "Done\n",
      "Lines   total/split/joined/realigned/skipped:\t7234/0/0/142/0\n"
     ]
    },
    {
     "name": "stdout",
     "output_type": "stream",
     "text": [
      "Selected score threshold using: maximized F-measure\n",
      "Threshold  True-pos-baseline  True-pos-call  False-pos  False-neg  Precision  Sensitivity  F-measure\n",
      "----------------------------------------------------------------------------------------------------\n",
      "   80.415                258            713       3526        558     0.1682       0.3164     0.2196\n",
      "     None                307            853       6381        509     0.1179       0.3762     0.1796\n",
      "\n"
     ]
    },
    {
     "name": "stderr",
     "output_type": "stream",
     "text": [
      "Writing to /tmp/bcftools.LVnNcd\n",
      "Merging 1 temporary files\n",
      "Cleaning\n",
      "Done\n",
      "Lines   total/split/joined/realigned/skipped:\t1805/0/0/858/0\n"
     ]
    },
    {
     "name": "stdout",
     "output_type": "stream",
     "text": [
      "Selected score threshold using: maximized F-measure\n",
      "Threshold  True-pos-baseline  True-pos-call  False-pos  False-neg  Precision  Sensitivity  F-measure\n",
      "----------------------------------------------------------------------------------------------------\n",
      "   41.329                556            808        617        260     0.5670       0.6818     0.6191\n",
      "     None                615            873        911        201     0.4893       0.7537     0.5934\n",
      "\n"
     ]
    },
    {
     "name": "stderr",
     "output_type": "stream",
     "text": [
      "Writing to /tmp/bcftools.5EQaFz\n",
      "Merging 1 temporary files\n",
      "Cleaning\n",
      "Done\n",
      "Lines   total/split/joined/realigned/skipped:\t1278/0/0/15/0\n"
     ]
    },
    {
     "name": "stdout",
     "output_type": "stream",
     "text": [
      "Selected score threshold using: maximized F-measure\n",
      "Threshold  True-pos-baseline  True-pos-call  False-pos  False-neg  Precision  Sensitivity  F-measure\n",
      "----------------------------------------------------------------------------------------------------\n",
      "  204.361                208           1014         40        126     0.9620       0.6228     0.7561\n",
      "     None                210           1016        262        124     0.7950       0.6287     0.7022\n",
      "\n"
     ]
    },
    {
     "name": "stderr",
     "output_type": "stream",
     "text": [
      "Writing to /tmp/bcftools.b2jX4g\n",
      "Merging 1 temporary files\n",
      "Cleaning\n",
      "Done\n",
      "Lines   total/split/joined/realigned/skipped:\t401/0/0/115/0\n"
     ]
    },
    {
     "name": "stdout",
     "output_type": "stream",
     "text": [
      "Selected score threshold using: maximized F-measure\n",
      "Threshold  True-pos-baseline  True-pos-call  False-pos  False-neg  Precision  Sensitivity  F-measure\n",
      "----------------------------------------------------------------------------------------------------\n",
      " 8389.170                253            273          8         81     0.9715       0.7575     0.8513\n",
      "     None                253            273        128         81     0.6808       0.7575     0.7171\n",
      "\n"
     ]
    },
    {
     "name": "stderr",
     "output_type": "stream",
     "text": [
      "Writing to /tmp/bcftools.2IzUHv\n",
      "Merging 1 temporary files\n",
      "Cleaning\n",
      "Done\n",
      "Lines   total/split/joined/realigned/skipped:\t1174/0/0/20/0\n"
     ]
    },
    {
     "name": "stdout",
     "output_type": "stream",
     "text": [
      "Selected score threshold using: maximized F-measure\n",
      "Threshold  True-pos-baseline  True-pos-call  False-pos  False-neg  Precision  Sensitivity  F-measure\n",
      "----------------------------------------------------------------------------------------------------\n",
      "  175.154                213           1019         15        121     0.9855       0.6377     0.7744\n",
      "     None                214           1020        154        120     0.8688       0.6407     0.7375\n",
      "\n"
     ]
    },
    {
     "name": "stderr",
     "output_type": "stream",
     "text": [
      "Writing to /tmp/bcftools.VMArAZ\n",
      "Merging 1 temporary files\n",
      "Cleaning\n",
      "Done\n",
      "Lines   total/split/joined/realigned/skipped:\t317/0/0/107/0\n"
     ]
    },
    {
     "name": "stdout",
     "output_type": "stream",
     "text": [
      "Selected score threshold using: maximized F-measure\n",
      "Threshold  True-pos-baseline  True-pos-call  False-pos  False-neg  Precision  Sensitivity  F-measure\n",
      "----------------------------------------------------------------------------------------------------\n",
      "  798.742                251            270         14         83     0.9507       0.7515     0.8394\n",
      "     None                251            270         47         83     0.8517       0.7515     0.7985\n",
      "\n"
     ]
    },
    {
     "name": "stderr",
     "output_type": "stream",
     "text": [
      "Writing to /tmp/bcftools.9iPejz\n",
      "Merging 1 temporary files\n",
      "Cleaning\n",
      "Done\n",
      "Lines   total/split/joined/realigned/skipped:\t1080/0/0/20/0\n"
     ]
    },
    {
     "name": "stdout",
     "output_type": "stream",
     "text": [
      "Selected score threshold using: maximized F-measure\n",
      "Threshold  True-pos-baseline  True-pos-call  False-pos  False-neg  Precision  Sensitivity  F-measure\n",
      "----------------------------------------------------------------------------------------------------\n",
      "   23.434                211           1009         38        123     0.9637       0.6317     0.7632\n",
      "     None                211           1009         71        123     0.9343       0.6317     0.7538\n",
      "\n"
     ]
    },
    {
     "name": "stderr",
     "output_type": "stream",
     "text": [
      "Writing to /tmp/bcftools.Iju7bE\n",
      "Merging 1 temporary files\n",
      "Cleaning\n",
      "Done\n",
      "Lines   total/split/joined/realigned/skipped:\t272/0/0/88/0\n"
     ]
    },
    {
     "name": "stdout",
     "output_type": "stream",
     "text": [
      "Selected score threshold using: maximized F-measure\n",
      "Threshold  True-pos-baseline  True-pos-call  False-pos  False-neg  Precision  Sensitivity  F-measure\n",
      "----------------------------------------------------------------------------------------------------\n",
      "   23.754                239            259         11         95     0.9593       0.7156     0.8197\n",
      "     None                239            259         13         95     0.9522       0.7156     0.8171\n",
      "\n"
     ]
    },
    {
     "name": "stderr",
     "output_type": "stream",
     "text": [
      "Writing to /tmp/bcftools.K0ljac\n",
      "Merging 1 temporary files\n",
      "Cleaning\n",
      "Done\n",
      "Lines   total/split/joined/realigned/skipped:\t2935/0/0/0/0\n"
     ]
    },
    {
     "name": "stdout",
     "output_type": "stream",
     "text": [
      "Selected score threshold using: maximized F-measure\n",
      "Threshold  True-pos-baseline  True-pos-call  False-pos  False-neg  Precision  Sensitivity  F-measure\n",
      "----------------------------------------------------------------------------------------------------\n",
      "  222.957                 91            349       1157        243     0.2317       0.2712     0.2499\n",
      "     None                104            435       2500        230     0.1482       0.3114     0.2008\n",
      "\n"
     ]
    },
    {
     "name": "stderr",
     "output_type": "stream",
     "text": [
      "Writing to /tmp/bcftools.bnZ8Bi\n",
      "Merging 1 temporary files\n",
      "Cleaning\n",
      "Done\n",
      "Lines   total/split/joined/realigned/skipped:\t645/0/0/229/0\n"
     ]
    },
    {
     "name": "stdout",
     "output_type": "stream",
     "text": [
      "Selected score threshold using: maximized F-measure\n",
      "Threshold  True-pos-baseline  True-pos-call  False-pos  False-neg  Precision  Sensitivity  F-measure\n",
      "----------------------------------------------------------------------------------------------------\n",
      " 1550.790                257            328         47         77     0.8747       0.7695     0.8187\n",
      "     None                261            332        313         73     0.5147       0.7814     0.6206\n",
      "\n"
     ]
    },
    {
     "name": "stderr",
     "output_type": "stream",
     "text": [
      "Writing to /tmp/bcftools.vWEwzo\n",
      "Merging 1 temporary files\n",
      "Cleaning\n",
      "Done\n",
      "Lines   total/split/joined/realigned/skipped:\t3068/0/0/70/0\n"
     ]
    },
    {
     "name": "stdout",
     "output_type": "stream",
     "text": [
      "Selected score threshold using: maximized F-measure\n",
      "Threshold  True-pos-baseline  True-pos-call  False-pos  False-neg  Precision  Sensitivity  F-measure\n",
      "----------------------------------------------------------------------------------------------------\n",
      "  224.355                119            351        910        215     0.2784       0.3562     0.3125\n",
      "     None                166            546       2522        168     0.1780       0.4970     0.2621\n",
      "\n"
     ]
    },
    {
     "name": "stderr",
     "output_type": "stream",
     "text": [
      "Writing to /tmp/bcftools.RlIisK\n",
      "Merging 1 temporary files\n",
      "Cleaning\n",
      "Done\n",
      "Lines   total/split/joined/realigned/skipped:\t724/0/0/282/0\n"
     ]
    },
    {
     "name": "stdout",
     "output_type": "stream",
     "text": [
      "Selected score threshold using: maximized F-measure\n",
      "Threshold  True-pos-baseline  True-pos-call  False-pos  False-neg  Precision  Sensitivity  F-measure\n",
      "----------------------------------------------------------------------------------------------------\n",
      "  141.597                307            391         56         27     0.8747       0.9177     0.8957\n",
      "     None                315            400        324         19     0.5525       0.9431     0.6968\n",
      "\n"
     ]
    },
    {
     "name": "stderr",
     "output_type": "stream",
     "text": [
      "Writing to /tmp/bcftools.IlmNfM\n",
      "Merging 1 temporary files\n",
      "Cleaning\n",
      "Done\n",
      "Lines   total/split/joined/realigned/skipped:\t2536/0/0/50/0\n"
     ]
    },
    {
     "name": "stdout",
     "output_type": "stream",
     "text": [
      "Selected score threshold using: maximized F-measure\n",
      "Threshold  True-pos-baseline  True-pos-call  False-pos  False-neg  Precision  Sensitivity  F-measure\n",
      "----------------------------------------------------------------------------------------------------\n",
      "   29.953                136            439       1657        198     0.2094       0.4068     0.2765\n",
      "     None                143            465       2071        191     0.1834       0.4281     0.2568\n",
      "\n"
     ]
    },
    {
     "name": "stderr",
     "output_type": "stream",
     "text": [
      "Writing to /tmp/bcftools.A18bL5\n",
      "Merging 1 temporary files\n",
      "Cleaning\n",
      "Done\n",
      "Lines   total/split/joined/realigned/skipped:\t851/0/0/280/0\n"
     ]
    },
    {
     "name": "stdout",
     "output_type": "stream",
     "text": [
      "Selected score threshold using: maximized F-measure\n",
      "Threshold  True-pos-baseline  True-pos-call  False-pos  False-neg  Precision  Sensitivity  F-measure\n",
      "----------------------------------------------------------------------------------------------------\n",
      "   40.388                237            299        256         97     0.5387       0.7093     0.6124\n",
      "     None                255            322        526         79     0.3797       0.7635     0.5072\n",
      "\n"
     ]
    },
    {
     "name": "stderr",
     "output_type": "stream",
     "text": [
      "Writing to /tmp/bcftools.4fmG92\n",
      "Merging 1 temporary files\n",
      "Cleaning\n",
      "Done\n",
      "Lines   total/split/joined/realigned/skipped:\t59/0/0/2/0\n"
     ]
    },
    {
     "name": "stdout",
     "output_type": "stream",
     "text": [
      "Selected score threshold using: maximized F-measure\n",
      "Threshold  True-pos-baseline  True-pos-call  False-pos  False-neg  Precision  Sensitivity  F-measure\n",
      "----------------------------------------------------------------------------------------------------\n",
      "  134.416                 22             54          4          8     0.9310       0.7333     0.8204\n",
      "     None                 22             54          5          8     0.9153       0.7333     0.8143\n",
      "\n"
     ]
    },
    {
     "name": "stderr",
     "output_type": "stream",
     "text": [
      "Writing to /tmp/bcftools.BxFWkh\n",
      "Merging 1 temporary files\n",
      "Cleaning\n",
      "Done\n",
      "Lines   total/split/joined/realigned/skipped:\t31/0/0/13/0\n"
     ]
    },
    {
     "name": "stdout",
     "output_type": "stream",
     "text": [
      "Selected score threshold using: maximized F-measure\n",
      "Threshold  True-pos-baseline  True-pos-call  False-pos  False-neg  Precision  Sensitivity  F-measure\n",
      "----------------------------------------------------------------------------------------------------\n",
      "  699.311                 29             30          1          1     0.9677       0.9667     0.9672\n",
      "     None                 29             30          1          1     0.9677       0.9667     0.9672\n",
      "\n"
     ]
    },
    {
     "name": "stderr",
     "output_type": "stream",
     "text": [
      "Writing to /tmp/bcftools.9Lzeym\n",
      "Merging 1 temporary files\n",
      "Cleaning\n",
      "Done\n",
      "Lines   total/split/joined/realigned/skipped:\t62/0/0/3/0\n"
     ]
    },
    {
     "name": "stdout",
     "output_type": "stream",
     "text": [
      "Selected score threshold using: maximized F-measure\n",
      "Threshold  True-pos-baseline  True-pos-call  False-pos  False-neg  Precision  Sensitivity  F-measure\n",
      "----------------------------------------------------------------------------------------------------\n",
      "   34.416                 24             61          1          6     0.9839       0.8000     0.8825\n",
      "     None                 24             61          1          6     0.9839       0.8000     0.8825\n",
      "\n"
     ]
    },
    {
     "name": "stderr",
     "output_type": "stream",
     "text": [
      "Writing to /tmp/bcftools.bZL2DH\n",
      "Merging 1 temporary files\n",
      "Cleaning\n",
      "Done\n",
      "Lines   total/split/joined/realigned/skipped:\t31/0/0/12/0\n"
     ]
    },
    {
     "name": "stdout",
     "output_type": "stream",
     "text": [
      "Selected score threshold using: maximized F-measure\n",
      "Threshold  True-pos-baseline  True-pos-call  False-pos  False-neg  Precision  Sensitivity  F-measure\n",
      "----------------------------------------------------------------------------------------------------\n",
      "   53.555                 29             30          1          1     0.9677       0.9667     0.9672\n",
      "     None                 29             30          1          1     0.9677       0.9667     0.9672\n",
      "\n"
     ]
    },
    {
     "name": "stderr",
     "output_type": "stream",
     "text": [
      "Writing to /tmp/bcftools.6Ylff7\n",
      "Merging 1 temporary files\n",
      "Cleaning\n",
      "Done\n",
      "Lines   total/split/joined/realigned/skipped:\t59/0/0/2/0\n"
     ]
    },
    {
     "name": "stdout",
     "output_type": "stream",
     "text": [
      "Selected score threshold using: maximized F-measure\n",
      "Threshold  True-pos-baseline  True-pos-call  False-pos  False-neg  Precision  Sensitivity  F-measure\n",
      "----------------------------------------------------------------------------------------------------\n",
      "    5.046                 22             56          3          8     0.9492       0.7333     0.8274\n",
      "     None                 22             56          3          8     0.9492       0.7333     0.8274\n",
      "\n"
     ]
    },
    {
     "name": "stderr",
     "output_type": "stream",
     "text": [
      "Writing to /tmp/bcftools.m6FMRX\n",
      "Merging 1 temporary files\n",
      "Cleaning\n",
      "Done\n",
      "Lines   total/split/joined/realigned/skipped:\t25/0/0/8/0\n"
     ]
    },
    {
     "name": "stdout",
     "output_type": "stream",
     "text": [
      "Selected score threshold using: maximized F-measure\n",
      "Threshold  True-pos-baseline  True-pos-call  False-pos  False-neg  Precision  Sensitivity  F-measure\n",
      "----------------------------------------------------------------------------------------------------\n",
      "   36.450                 25             25          0          5     1.0000       0.8333     0.9091\n",
      "     None                 25             25          0          5     1.0000       0.8333     0.9091\n",
      "\n"
     ]
    },
    {
     "name": "stderr",
     "output_type": "stream",
     "text": [
      "Writing to /tmp/bcftools.vdRb7s\n",
      "Merging 1 temporary files\n",
      "Cleaning\n",
      "Done\n",
      "Lines   total/split/joined/realigned/skipped:\t72/0/0/0/0\n"
     ]
    },
    {
     "name": "stdout",
     "output_type": "stream",
     "text": [
      "Selected score threshold using: maximized F-measure\n",
      "Threshold  True-pos-baseline  True-pos-call  False-pos  False-neg  Precision  Sensitivity  F-measure\n",
      "----------------------------------------------------------------------------------------------------\n",
      "  163.652                 17             39         23         13     0.6290       0.5667     0.5962\n",
      "     None                 17             39         33         13     0.5417       0.5667     0.5539\n",
      "\n"
     ]
    },
    {
     "name": "stderr",
     "output_type": "stream",
     "text": [
      "Writing to /tmp/bcftools.PJtM1H\n",
      "Merging 1 temporary files\n",
      "Cleaning\n",
      "Done\n",
      "Lines   total/split/joined/realigned/skipped:\t31/0/0/14/0\n"
     ]
    },
    {
     "name": "stdout",
     "output_type": "stream",
     "text": [
      "Selected score threshold using: maximized F-measure\n",
      "Threshold  True-pos-baseline  True-pos-call  False-pos  False-neg  Precision  Sensitivity  F-measure\n",
      "----------------------------------------------------------------------------------------------------\n",
      " 2091.280                 30             31          0          0     1.0000       1.0000     1.0000\n",
      "     None                 30             31          0          0     1.0000       1.0000     1.0000\n",
      "\n"
     ]
    },
    {
     "name": "stderr",
     "output_type": "stream",
     "text": [
      "Writing to /tmp/bcftools.gVXiWd\n",
      "Merging 1 temporary files\n",
      "Cleaning\n",
      "Done\n",
      "Lines   total/split/joined/realigned/skipped:\t74/0/0/3/0\n"
     ]
    },
    {
     "name": "stdout",
     "output_type": "stream",
     "text": [
      "Selected score threshold using: maximized F-measure\n",
      "Threshold  True-pos-baseline  True-pos-call  False-pos  False-neg  Precision  Sensitivity  F-measure\n",
      "----------------------------------------------------------------------------------------------------\n",
      "   58.982                 20             42         27         10     0.6087       0.6667     0.6364\n",
      "     None                 20             42         32         10     0.5676       0.6667     0.6131\n",
      "\n"
     ]
    },
    {
     "name": "stderr",
     "output_type": "stream",
     "text": [
      "Writing to /tmp/bcftools.TmYKAa\n",
      "Merging 1 temporary files\n",
      "Cleaning\n",
      "Done\n",
      "Lines   total/split/joined/realigned/skipped:\t31/0/0/14/0\n"
     ]
    },
    {
     "name": "stdout",
     "output_type": "stream",
     "text": [
      "Selected score threshold using: maximized F-measure\n",
      "Threshold  True-pos-baseline  True-pos-call  False-pos  False-neg  Precision  Sensitivity  F-measure\n",
      "----------------------------------------------------------------------------------------------------\n",
      "  205.601                 30             31          0          0     1.0000       1.0000     1.0000\n",
      "     None                 30             31          0          0     1.0000       1.0000     1.0000\n",
      "\n"
     ]
    },
    {
     "name": "stderr",
     "output_type": "stream",
     "text": [
      "Writing to /tmp/bcftools.J96Ubb\n",
      "Merging 1 temporary files\n",
      "Cleaning\n",
      "Done\n",
      "Lines   total/split/joined/realigned/skipped:\t67/0/0/0/0\n"
     ]
    },
    {
     "name": "stdout",
     "output_type": "stream",
     "text": [
      "Selected score threshold using: maximized F-measure\n",
      "Threshold  True-pos-baseline  True-pos-call  False-pos  False-neg  Precision  Sensitivity  F-measure\n",
      "----------------------------------------------------------------------------------------------------\n",
      "   41.586                 18             40         22         12     0.6452       0.6000     0.6218\n",
      "     None                 18             40         27         12     0.5970       0.6000     0.5985\n",
      "\n"
     ]
    },
    {
     "name": "stderr",
     "output_type": "stream",
     "text": [
      "Writing to /tmp/bcftools.Jylfvm\n",
      "Merging 1 temporary files\n",
      "Cleaning\n",
      "Done\n",
      "Lines   total/split/joined/realigned/skipped:\t31/0/0/14/0\n"
     ]
    },
    {
     "name": "stdout",
     "output_type": "stream",
     "text": [
      "Selected score threshold using: maximized F-measure\n",
      "Threshold  True-pos-baseline  True-pos-call  False-pos  False-neg  Precision  Sensitivity  F-measure\n",
      "----------------------------------------------------------------------------------------------------\n",
      "    1.593                 30             31          0          0     1.0000       1.0000     1.0000\n",
      "     None                 30             31          0          0     1.0000       1.0000     1.0000\n",
      "\n"
     ]
    },
    {
     "data": {
      "text/plain": [
       "120-element Vector{String}:\n",
       " \"/global/cfs/cdirs/m4269/cjprybol/Mycelia/projects/variant-calling-benchmarking/data/genomes/19tEIXfKKdzr.fna.normalized.vcf.gz_RTG/19tEIXfKKdzr-cactus.sorted.normalized.vcf.gz\"\n",
       " \"/global/cfs/cdirs/m4269/cjprybol/Mycelia/projects/variant-calling-benchmarking/data/genomes/3NEzu1DmBy.fna.normalized.vcf.gz_RTG/3NEzu1DmBy-cactus.sorted.normalized.vcf.gz\"\n",
       " \"/global/cfs/cdirs/m4269/cjprybol/Mycelia/projects/variant-calling-benchmarking/data/genomes/GCF_001610725.1.fna.normalized.vcf.gz_RTG/GCF_001610725-cactus.sorted.normalized.vcf.gz\"\n",
       " \"/global/cfs/cdirs/m4269/cjprybol/Mycelia/projects/variant-calling-benchmarking/data/genomes/GCF_023169545.1.fna.normalized.vcf.gz_RTG/GCF_023169545-cactus.sorted.normalized.vcf.gz\"\n",
       " \"/global/cfs/cdirs/m4269/cjprybol/Mycelia/projects/variant-calling-benchmarking/data/genomes/GCF_024820135.1.fna.normalized.vcf.gz_RTG/GCF_024820135-cactus.sorted.normalized.vcf.gz\"\n",
       " \"/global/cfs/cdirs/m4269/cjprybol/Mycelia/projects/variant-calling-benchmarking/data/genomes/fF3EHHs.fna.normalized.vcf.gz_RTG/fF3EHHs-cactus.sorted.normalized.vcf.gz\"\n",
       " \"/global/cfs/cdirs/m4269/cjprybol/Mycelia/projects/variant-calling-benchmarking/data/genomes/19tEIXfKKdzr.fna.normalized.vcf.gz_RTG/19tEIXfKKdzr.fna__19tEIXfKKdzr.fna.normalized.vcf.fna.joint.fna.e316b50.417fcdf.db7e83b.smooth.final.gfa.fixed.sorted.normalized.vcf.gz\"\n",
       " \"/global/cfs/cdirs/m4269/cjprybol/Mycelia/projects/variant-calling-benchmarking/data/genomes/3NEzu1DmBy.fna.normalized.vcf.gz_RTG/3NEzu1DmBy.fna__3NEzu1DmBy.fna.normalized.vcf.fna.joint.fna.e316b50.417fcdf.db7e83b.smooth.final.gfa.fixed.sorted.normalized.vcf.gz\"\n",
       " \"/global/cfs/cdirs/m4269/cjprybol/Mycelia/projects/variant-calling-benchmarking/data/genomes/GCF_001610725.1.fna.normalized.vcf.gz_RTG/GCF_001610725.1.fna__GCF_001610725.1.fna.normalized.vcf.fna.joint.fna.e316b50.417fcdf.db7e83b.smooth.final.gfa.fixed.sorted.normalized.vcf.gz\"\n",
       " \"/global/cfs/cdirs/m4269/cjprybol/Mycelia/projects/variant-calling-benchmarking/data/genomes/GCF_023169545.1.fna.normalized.vcf.gz_RTG/GCF_023169545.1.fna__GCF_023169545.1.fna.normalized.vcf.fna.joint.fna.e316b50.417fcdf.db7e83b.smooth.final.gfa.fixed.sorted.normalized.vcf.gz\"\n",
       " \"/global/cfs/cdirs/m4269/cjprybol/Mycelia/projects/variant-calling-benchmarking/data/genomes/GCF_024820135.1.fna.normalized.vcf.gz_RTG/GCF_024820135.1.fna__GCF_024820135.1.fna.normalized.vcf.fna.joint.fna.e316b50.417fcdf.db7e83b.smooth.final.gfa.fixed.sorted.normalized.vcf.gz\"\n",
       " \"/global/cfs/cdirs/m4269/cjprybol/Mycelia/projects/variant-calling-benchmarking/data/genomes/fF3EHHs.fna.normalized.vcf.gz_RTG/fF3EHHs.fna__fF3EHHs.fna.normalized.vcf.fna.joint.fna.e316b50.417fcdf.db7e83b.smooth.final.gfa.fixed.sorted.normalized.vcf.gz\"\n",
       " \"/global/cfs/cdirs/m4269/cjprybol/Mycelia/projects/variant-calling-benchmarking/data/genomes/19tEIXfKKdzr.fna.normalized.vcf.gz_RTG/19tEIXfKKdzr.fna.normalized.vcf.fna.art.1000x.minimap2.sorted.bam.clair3\"\n",
       " ⋮\n",
       " \"/global/cfs/cdirs/m4269/cjprybol/Mycelia/projects/variant-calling-benchmarking/data/genomes/fF3EHHs.fna.normalized.vcf.gz_RTG/fF3EHHs.fna.normalized.vcf.fna.art.1000x.minimap2.sorted.bam.bcftools.sorted.normalized.vcf.gz\"\n",
       " \"/global/cfs/cdirs/m4269/cjprybol/Mycelia/projects/variant-calling-benchmarking/data/genomes/fF3EHHs.fna.normalized.vcf.gz_RTG/fF3EHHs.fna.normalized.vcf.fna.art.1000x.minimap2.sorted.bam.freebayes.sorted.normalized.vcf.gz\"\n",
       " \"/global/cfs/cdirs/m4269/cjprybol/Mycelia/projects/variant-calling-benchmarking/data/genomes/fF3EHHs.fna.normalized.vcf.gz_RTG/fF3EHHs.fna.normalized.vcf.fna.art.100x.minimap2.sorted.bam.bcftools.sorted.normalized.vcf.gz\"\n",
       " \"/global/cfs/cdirs/m4269/cjprybol/Mycelia/projects/variant-calling-benchmarking/data/genomes/fF3EHHs.fna.normalized.vcf.gz_RTG/fF3EHHs.fna.normalized.vcf.fna.art.100x.minimap2.sorted.bam.freebayes.sorted.normalized.vcf.gz\"\n",
       " \"/global/cfs/cdirs/m4269/cjprybol/Mycelia/projects/variant-calling-benchmarking/data/genomes/fF3EHHs.fna.normalized.vcf.gz_RTG/fF3EHHs.fna.normalized.vcf.fna.art.10x.minimap2.sorted.bam.bcftools.sorted.normalized.vcf.gz\"\n",
       " \"/global/cfs/cdirs/m4269/cjprybol/Mycelia/projects/variant-calling-benchmarking/data/genomes/fF3EHHs.fna.normalized.vcf.gz_RTG/fF3EHHs.fna.normalized.vcf.fna.art.10x.minimap2.sorted.bam.freebayes.sorted.normalized.vcf.gz\"\n",
       " \"/global/cfs/cdirs/m4269/cjprybol/Mycelia/projects/variant-calling-benchmarking/data/genomes/fF3EHHs.fna.normalized.vcf.gz_RTG/fF3EHHs.fna.normalized.vcf.fna.badread.1000x.filtlong.fq.gz.minimap2.sorted.bam.bcftools.sorted.normalized.vcf.gz\"\n",
       " \"/global/cfs/cdirs/m4269/cjprybol/Mycelia/projects/variant-calling-benchmarking/data/genomes/fF3EHHs.fna.normalized.vcf.gz_RTG/fF3EHHs.fna.normalized.vcf.fna.badread.1000x.filtlong.fq.gz.minimap2.sorted.bam.freebayes.sorted.normalized.vcf.gz\"\n",
       " \"/global/cfs/cdirs/m4269/cjprybol/Mycelia/projects/variant-calling-benchmarking/data/genomes/fF3EHHs.fna.normalized.vcf.gz_RTG/fF3EHHs.fna.normalized.vcf.fna.badread.100x.filtlong.fq.gz.minimap2.sorted.bam.bcftools.sorted.normalized.vcf.gz\"\n",
       " \"/global/cfs/cdirs/m4269/cjprybol/Mycelia/projects/variant-calling-benchmarking/data/genomes/fF3EHHs.fna.normalized.vcf.gz_RTG/fF3EHHs.fna.normalized.vcf.fna.badread.100x.filtlong.fq.gz.minimap2.sorted.bam.freebayes.sorted.normalized.vcf.gz\"\n",
       " \"/global/cfs/cdirs/m4269/cjprybol/Mycelia/projects/variant-calling-benchmarking/data/genomes/fF3EHHs.fna.normalized.vcf.gz_RTG/fF3EHHs.fna.normalized.vcf.fna.badread.10x.filtlong.fq.gz.minimap2.sorted.bam.bcftools.sorted.normalized.vcf.gz\"\n",
       " \"/global/cfs/cdirs/m4269/cjprybol/Mycelia/projects/variant-calling-benchmarking/data/genomes/fF3EHHs.fna.normalized.vcf.gz_RTG/fF3EHHs.fna.normalized.vcf.fna.badread.10x.filtlong.fq.gz.minimap2.sorted.bam.freebayes.sorted.normalized.vcf.gz\""
      ]
     },
     "execution_count": 28,
     "metadata": {},
     "output_type": "execute_result"
    }
   ],
   "source": [
    "outdirs = String[]\n",
    "for row in DataFrames.eachrow(vcf_table)\n",
    "    vcf = row[\"vcf\"]\n",
    "    reference_fasta = identifier_to_reference_fasta[row[\"identifier\"]]\n",
    "    baseline_variants = identifier_to_reference_variants[row[\"identifier\"]]\n",
    "    if row[\"variant_caller\"] == \"PGGB\"\n",
    "        vcf = fix_vcf(vcf=vcf)\n",
    "        processed_vcf = replace(vcf, r\"\\.vcf(?:\\.gz)?$\" => \".sorted.normalized.vcf.gz\")\n",
    "        outdir = joinpath(baseline_variants * \"_RTG\", basename(processed_vcf))\n",
    "    elseif row[\"variant_caller\"] == \"clair3\"\n",
    "        processed_vcf = replace(vcf, r\"\\.vcf(?:\\.gz)?$\" => \".sorted.normalized.vcf.gz\")\n",
    "        outdir = joinpath(baseline_variants * \"_RTG\", basename(dirname(processed_vcf)))\n",
    "    else\n",
    "        processed_vcf = replace(vcf, r\"\\.vcf(?:\\.gz)?$\" => \".sorted.normalized.vcf.gz\")\n",
    "        outdir = joinpath(baseline_variants * \"_RTG\", basename(processed_vcf))\n",
    "    end\n",
    "    push!(outdirs, outdir)\n",
    "    if isdir(outdir)\n",
    "        rm(outdir, recursive=true)\n",
    "    end\n",
    "    # if !isdir(outdir)\n",
    "    try\n",
    "        processed_vcf = Mycelia.preprocess_vcf(vcf=vcf, fasta=reference_fasta)\n",
    "        if !isfile(processed_vcf * \".tbi\")\n",
    "            @show filesize(processed_vcf)\n",
    "            run(`$(Mycelia.MAMBA) run --live-stream -n rtg-tools rtg index --format vcf $(processed_vcf)`)\n",
    "        end\n",
    "        run(`$(Mycelia.MAMBA) run --live-stream -n rtg-tools rtg RTG_MEM=8G vcfeval --all-records --vcf-score-field QUAL --threads=1 --template $(reference_fasta)_RTG --baseline $(baseline_variants) --calls $(processed_vcf) --squash-ploidy --output $(outdir)`)\n",
    "        non_snp_roc = joinpath(outdir, \"non_snp_roc.tsv.gz\")\n",
    "        snp_roc = joinpath(outdir, \"snp_roc.tsv.gz\")\n",
    "        weighted_roc = joinpath(outdir, \"weighted_roc.tsv.gz\")\n",
    "        roc_png = joinpath(outdir, \"roc.png\")\n",
    "        roc_svg = joinpath(outdir, \"roc.svg\")\n",
    "        run(`$(Mycelia.MAMBA) run --live-stream -n rtg-tools rtg RTG_MEM=8G rocplot --png $(roc_png) --svg $(roc_svg) --curve $(non_snp_roc)=non_snp_roc --curve $(snp_roc)=snp_roc --curve $(weighted_roc)=weighted_roc `)\n",
    "    catch e\n",
    "        println(e)\n",
    "    end\n",
    "        # else\n",
    "    #     @info \"$(outdir) already exists\"\n",
    "    # end\n",
    "end\n",
    "outdirs"
   ]
  },
  {
   "cell_type": "code",
   "execution_count": 30,
   "id": "592a80e9-f650-4ad1-b63a-df93c3ae01fc",
   "metadata": {
    "tags": []
   },
   "outputs": [
    {
     "data": {
      "text/plain": [
       "117"
      ]
     },
     "execution_count": 30,
     "metadata": {},
     "output_type": "execute_result"
    }
   ],
   "source": [
    "count([isdir(dir) for dir in outdirs])"
   ]
  },
  {
   "cell_type": "markdown",
   "id": "53bed6b1-c7d1-4879-8283-c34452265a8b",
   "metadata": {},
   "source": [
    "Performance Metrics: Start by calculating key metrics for each variant calling method, including precision (positive predictive value), recall (sensitivity), accuracy, and F1 score. These metrics will provide a comprehensive view of each method's performance."
   ]
  },
  {
   "cell_type": "markdown",
   "id": "27860c48-cad6-4178-9693-36e37c72d6d3",
   "metadata": {},
   "source": [
    "Confusion Matrix: For each method, create a confusion matrix that shows the number of true positives, false positives, true negatives, and false negatives. This will give you a clear picture of the type of errors made by each method."
   ]
  },
  {
   "cell_type": "markdown",
   "id": "8227fc43-4bb6-4b82-a75b-78436d77bc18",
   "metadata": {},
   "source": [
    "Receiver Operating Characteristic (ROC) Curve: Plot ROC curves for each method. This plot shows the trade-off between true positive rate and false positive rate and is useful for comparing the performance of different methods."
   ]
  },
  {
   "cell_type": "markdown",
   "id": "eba2488e-2dd1-4a67-821f-81e186e59352",
   "metadata": {},
   "source": [
    "Precision-Recall Curve: Especially when dealing with imbalanced datasets (where variants are rare), precision-recall curves can be more informative than ROC curves."
   ]
  },
  {
   "cell_type": "markdown",
   "id": "badc9dbd-a68a-40a6-83c4-c940a3ea5f29",
   "metadata": {},
   "source": [
    "Heatmaps: Use heatmaps to visualize the performance metrics across different genomes and depths of coverage. This can provide an intuitive understanding of how performance varies with these factors.\n",
    "\n",
    "jaccard similarity?\n",
    "AUC"
   ]
  }
 ],
 "metadata": {
  "kernelspec": {
   "display_name": "Julia 1.6.7",
   "language": "julia",
   "name": "julia-1.6"
  },
  "language_info": {
   "file_extension": ".jl",
   "mimetype": "application/julia",
   "name": "julia",
   "version": "1.6.7"
  }
 },
 "nbformat": 4,
 "nbformat_minor": 5
}
