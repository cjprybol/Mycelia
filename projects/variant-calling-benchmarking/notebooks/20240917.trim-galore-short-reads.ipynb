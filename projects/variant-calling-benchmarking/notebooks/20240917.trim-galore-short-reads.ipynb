{
 "cells": [
  {
   "cell_type": "code",
   "execution_count": null,
   "id": "a1626aa8-0914-41aa-ad20-9225d90795c3",
   "metadata": {},
   "outputs": [],
   "source": [
    "# if hit plotting library issues, try resetting LD path for julia\n",
    "# can set in ~/.local/share/jupyter/kernels/\n",
    "@assert ENV[\"LD_LIBRARY_PATH\"] == \"\"\n",
    "import Pkg\n",
    "Pkg.activate(;temp=true)\n",
    "Pkg.add(\"Revise\")\n",
    "import Revise\n",
    "\n",
    "Pkg.develop(path=\"$(homedir())/workspace/Mycelia\")\n",
    "import Mycelia\n",
    "\n",
    "pkgs = String[\n",
    "    \"ProgressMeter\"\n",
    "]\n",
    "Pkg.add(pkgs)\n",
    "for pkg in pkgs\n",
    "    eval(Meta.parse(\"import $pkg\"))\n",
    "end"
   ]
  },
  {
   "cell_type": "code",
   "execution_count": null,
   "id": "128cc1e1-929a-42e1-8376-4c81832fd40c",
   "metadata": {
    "tags": []
   },
   "outputs": [],
   "source": [
    "PROJECT_BASEDIR = dirname(pwd())\n",
    "data_dir = joinpath(PROJECT_BASEDIR, \"data\")\n",
    "genome_dir = mkpath(joinpath(data_dir, \"genomes\"))"
   ]
  },
  {
   "cell_type": "code",
   "execution_count": null,
   "id": "d73a3b2f-2945-4e69-8143-a28c5b989ca3",
   "metadata": {
    "tags": []
   },
   "outputs": [],
   "source": [
    "# fasta_files = sort(filter(x -> occursin(r\"\\.fna$\", x) && !occursin(\".vcf\", x) && !occursin(\"normalized\", x), readdir(genome_dir, join=true)), by=x->filesize(x))"
   ]
  },
  {
   "cell_type": "code",
   "execution_count": null,
   "id": "978cefd4-73b8-40c0-83c1-dcf017ea0381",
   "metadata": {
    "tags": []
   },
   "outputs": [],
   "source": [
    "short_read_sets = unique(replace.(filter(x -> occursin(r\"\\.fna\\.art\", x) && !occursin(\"minimap2\", x) && !occursin(\"_val_\", x) && !isdir(x), sort(readdir(genome_dir, join=true), by=x->filesize(x))), r\"\\.[12]\\.fq.*\" => \"\"))"
   ]
  },
  {
   "cell_type": "code",
   "execution_count": null,
   "id": "c3794d53-0a33-434e-be17-a916ccd52c9e",
   "metadata": {
    "tags": []
   },
   "outputs": [],
   "source": [
    "function trim_and_filter_short_reads(;forward, reverse, outdir, threads = min(8, Sys.CPU_THREADS))\n",
    "    Mycelia.add_bioconda_env(\"trim-galore\")\n",
    "    run(`$(Mycelia.CONDA_RUNNER) run -n trim-galore trim_galore --suppress_warn --cores $(threads) --output_dir $(outdir) --paired $(forward) $(reverse)`)\n",
    "end\n",
    "\n",
    "for short_read_set in short_read_sets\n",
    "    forward = short_read_set * \".1.fq.gz\"\n",
    "    reverse = short_read_set * \".2.fq.gz\"\n",
    "    outdir = dirname(short_read_set)\n",
    "    # @show outdir\n",
    "    # x = Mycelia.find_matching_prefix(forward, reverse)÷\n",
    "    # @show x\n",
    "    outforward = replace(forward, \".fq.gz\" => \"_val_1.fq.gz\")\n",
    "    outreverse = replace(reverse, \".fq.gz\" => \"_val_2.fq.gz\")\n",
    "    if !(isfile(outforward) && isfile(outreverse))\n",
    "        try\n",
    "            trim_and_filter_short_reads(forward=forward, reverse=reverse, outdir=outdir)\n",
    "        catch e\n",
    "            # no reads for 100bp genome??\n",
    "            display(e)\n",
    "        end\n",
    "    end\n",
    "end"
   ]
  }
 ],
 "metadata": {
  "kernelspec": {
   "display_name": "julia 1.10.5",
   "language": "julia",
   "name": "julia-1.10"
  },
  "language_info": {
   "file_extension": ".jl",
   "mimetype": "application/julia",
   "name": "julia",
   "version": "1.10.5"
  }
 },
 "nbformat": 4,
 "nbformat_minor": 5
}
