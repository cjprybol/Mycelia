{
 "cells": [
  {
   "cell_type": "code",
   "execution_count": null,
   "id": "be951eef-9341-4dd1-81c7-51e65177f784",
   "metadata": {},
   "outputs": [],
   "source": [
    "# if hit plotting library issues, try resetting LD path for julia\n",
    "# can set in ~/.local/share/jupyter/kernels/\n",
    "haskey(ENV, \"LD_LIBRARY_PATH\") && @assert ENV[\"LD_LIBRARY_PATH\"] == \"\"\n",
    "\n",
    "import Pkg\n",
    "# use temp or named environment to avoid package clashes across development projects\n",
    "Pkg.activate(;temp=true)\n",
    "Pkg.add(\"Revise\")\n",
    "import Revise\n",
    "\n",
    "# Pkg.develop(path=\"/global/cfs/projectdirs/m4269/cjprybol/Mycelia\")\n",
    "# Pkg.develop(path=\"../../..\")\n",
    "Pkg.develop(path=\"$(homedir())/workspace/Mycelia\")\n",
    "import Mycelia\n",
    "\n",
    "pkgs = [\n",
    "    \"Revise\",\n",
    "    \"FASTX\",\n",
    "    \"Dates\"\n",
    "]\n",
    "Pkg.add(pkgs)\n",
    "for pkg in pkgs\n",
    "    eval(Meta.parse(\"import $pkg\"))\n",
    "end"
   ]
  },
  {
   "cell_type": "code",
   "execution_count": null,
   "id": "128cc1e1-929a-42e1-8376-4c81832fd40c",
   "metadata": {
    "tags": []
   },
   "outputs": [],
   "source": [
    "PROJECT_BASEDIR = dirname(pwd())\n",
    "data_dir = joinpath(PROJECT_BASEDIR, \"data\")\n",
    "genome_dir = mkpath(joinpath(data_dir, \"genomes\"))"
   ]
  },
  {
   "cell_type": "code",
   "execution_count": null,
   "id": "cc22ec3a-60bf-4f72-8494-37242ec68d67",
   "metadata": {
    "tags": []
   },
   "outputs": [],
   "source": [
    "genome_sizes = [10^i for i in 2:6]"
   ]
  },
  {
   "cell_type": "code",
   "execution_count": null,
   "id": "feee98e8-47cd-442f-b250-504fe1479c26",
   "metadata": {},
   "outputs": [],
   "source": [
    "seed = parse(Int, replace(string(Dates.today()), \"-\" => \"\"))\n",
    "# seed = 20240912"
   ]
  },
  {
   "cell_type": "code",
   "execution_count": null,
   "id": "6991f77f-f1c5-4344-bd24-3be0ccfb81f1",
   "metadata": {
    "tags": []
   },
   "outputs": [],
   "source": [
    "genomes = [Mycelia.random_fasta_record(seed=seed, L=genome_size) for genome_size in genome_sizes]"
   ]
  },
  {
   "cell_type": "code",
   "execution_count": null,
   "id": "4e8b2fe9-09ed-42c2-9db7-fd08390b27fe",
   "metadata": {
    "tags": []
   },
   "outputs": [],
   "source": [
    "for (genome_size, genome_record) in zip(genome_sizes, genomes)\n",
    "    record_id = FASTX.description(genome_record)\n",
    "    outfile = joinpath(genome_dir, \"$(record_id).fna\")\n",
    "    Mycelia.write_fasta(outfile = outfile, records = [genome_record])\n",
    "end"
   ]
  }
 ],
 "metadata": {
  "kernelspec": {
   "display_name": "julia 1.10.5",
   "language": "julia",
   "name": "julia-1.10"
  },
  "language_info": {
   "file_extension": ".jl",
   "mimetype": "application/julia",
   "name": "julia",
   "version": "1.10.5"
  }
 },
 "nbformat": 4,
 "nbformat_minor": 5
}
