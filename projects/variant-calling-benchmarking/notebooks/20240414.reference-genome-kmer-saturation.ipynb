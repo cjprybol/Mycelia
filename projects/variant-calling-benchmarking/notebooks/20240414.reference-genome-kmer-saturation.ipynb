{
 "cells": [
  {
   "cell_type": "code",
   "execution_count": null,
   "id": "335bf35f-c55e-4857-83f0-ed03dc666f4e",
   "metadata": {
    "tags": []
   },
   "outputs": [],
   "source": [
    "# if hit plotting library issues, try resetting LD path for julia\n",
    "# can set in ~/.local/share/jupyter/kernels/\n",
    "@assert ENV[\"LD_LIBRARY_PATH\"] == \"\"\n",
    "import Pkg\n",
    "Pkg.activate(;temp=true)\n",
    "Pkg.add(\"Revise\")\n",
    "import Revise\n",
    "\n",
    "# Pkg.develop(path=\"/global/cfs/projectdirs/m4269/cjprybol/Mycelia\")\n",
    "# Pkg.develop(path=\"../../..\")\n",
    "Pkg.develop(path=\"$(homedir())/workspace/Mycelia\")\n",
    "import Mycelia\n",
    "\n",
    "pkgs = String[\n",
    "    \"DataFrames\"\n",
    "]\n",
    "Pkg.add(pkgs)\n",
    "for pkg in pkgs\n",
    "    eval(Meta.parse(\"import $pkg\"))\n",
    "end"
   ]
  },
  {
   "cell_type": "code",
   "execution_count": null,
   "id": "128cc1e1-929a-42e1-8376-4c81832fd40c",
   "metadata": {
    "tags": []
   },
   "outputs": [],
   "source": [
    "PROJECT_BASEDIR = dirname(pwd())\n",
    "data_dir = joinpath(PROJECT_BASEDIR, \"data\")\n",
    "genome_dir = mkpath(joinpath(data_dir, \"genomes\"))"
   ]
  },
  {
   "cell_type": "code",
   "execution_count": null,
   "id": "1c2889b8-d3a3-4134-aeea-59480a0417f8",
   "metadata": {
    "tags": []
   },
   "outputs": [],
   "source": [
    "# refseq_metadata = Mycelia.load_refseq_metadata()"
   ]
  },
  {
   "cell_type": "code",
   "execution_count": null,
   "id": "3a7ec1a6-2e80-4e39-9bba-cebc2d64f573",
   "metadata": {
    "tags": []
   },
   "outputs": [],
   "source": [
    "refseq_groups = DataFrames.groupby(refseq_metadata, \"group\");"
   ]
  },
  {
   "cell_type": "code",
   "execution_count": null,
   "id": "67ddd13c-1d9f-44bb-936d-063953050eeb",
   "metadata": {
    "tags": []
   },
   "outputs": [],
   "source": [
    "# refseq_metadata[map(x -> occursin(\"vertebrate\", x), refseq_metadata[!, \"group\"]) .& (refseq_metadata[!, \"refseq_category\"] .== \"reference genome\"), :]"
   ]
  },
  {
   "cell_type": "code",
   "execution_count": null,
   "id": "8f873132-fd8c-4c1e-83bd-0183592dd5ab",
   "metadata": {},
   "outputs": [],
   "source": [
    "# get smallest vertebrate other, mouse, human\n",
    "# Danio rerio\n",
    "# 7955\n",
    "# GCF_000002035.6\n",
    "# Mycelia.\n",
    "\n",
    "# Mus musculus\n",
    "# 10090\n",
    "# GCF_000001635.27\n",
    "\n",
    "# Homo sapiens\n",
    "# 9606\n",
    "# GCF_000001405.40"
   ]
  },
  {
   "cell_type": "code",
   "execution_count": null,
   "id": "2e3b96da-97dd-489c-b9da-2419fd405a26",
   "metadata": {},
   "outputs": [],
   "source": []
  }
 ],
 "metadata": {
  "kernelspec": {
   "display_name": "Julia 1.10.2",
   "language": "julia",
   "name": "julia-1.10"
  },
  "language_info": {
   "file_extension": ".jl",
   "mimetype": "application/julia",
   "name": "julia",
   "version": "1.10.2"
  }
 },
 "nbformat": 4,
 "nbformat_minor": 5
}
