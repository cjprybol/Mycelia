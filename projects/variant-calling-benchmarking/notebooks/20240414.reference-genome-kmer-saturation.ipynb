{
 "cells": [
  {
   "cell_type": "code",
   "execution_count": null,
   "id": "335bf35f-c55e-4857-83f0-ed03dc666f4e",
   "metadata": {
    "tags": []
   },
   "outputs": [],
   "source": [
    "# if hit plotting library issues, try resetting LD path for julia\n",
    "# can set in ~/.local/share/jupyter/kernels/\n",
    "@assert ENV[\"LD_LIBRARY_PATH\"] == \"\"\n",
    "import Pkg\n",
    "Pkg.activate(;temp=true)\n",
    "Pkg.add(\"Revise\")\n",
    "import Revise\n",
    "\n",
    "# Pkg.develop(path=\"/global/cfs/projectdirs/m4269/cjprybol/Mycelia\")\n",
    "# Pkg.develop(path=\"../../..\")\n",
    "Pkg.develop(path=\"$(homedir())/workspace/Mycelia\")\n",
    "import Mycelia\n",
    "\n",
    "pkgs = String[\n",
    "    \"DataFrames\",\n",
    "    \"uCSV\",\n",
    "    \"Kmers\",\n",
    "    \"CodecZlib\",\n",
    "    \"StatsPlots\",\n",
    "    \"GLM\",\n",
    "    \"StatsBase\",\n",
    "    \"CSV\"\n",
    "]\n",
    "Pkg.add(pkgs)\n",
    "for pkg in pkgs\n",
    "    eval(Meta.parse(\"import $pkg\"))\n",
    "end"
   ]
  },
  {
   "cell_type": "code",
   "execution_count": null,
   "id": "128cc1e1-929a-42e1-8376-4c81832fd40c",
   "metadata": {
    "tags": []
   },
   "outputs": [],
   "source": [
    "PROJECT_BASEDIR = dirname(pwd())\n",
    "data_dir = joinpath(PROJECT_BASEDIR, \"data\")\n",
    "genome_dir = mkpath(joinpath(data_dir, \"genomes\"))"
   ]
  },
  {
   "cell_type": "code",
   "execution_count": null,
   "id": "f450e45a-7cfc-4275-bb46-1a8331bb8800",
   "metadata": {
    "tags": []
   },
   "outputs": [],
   "source": [
    "refseq_metadata = Mycelia.load_refseq_metadata();\n",
    "# filter to reference genomes only\n",
    "refseq_metadata = refseq_metadata[\n",
    "    (refseq_metadata[!, \"refseq_category\"] .== \"reference genome\") .&\n",
    "    map(x -> !ismissing(x) && x >= 100, refseq_metadata[!, \"total_gene_count\"]) .&\n",
    "    map(x -> x >= 10_000, refseq_metadata[!, \"genome_size\"])\n",
    "    , :]\n",
    "summary_df = DataFrames.combine(DataFrames.groupby(refseq_metadata, \"group\"), :genome_size => minimum => :genome_size)\n",
    "summary_df = DataFrames.innerjoin(refseq_metadata, summary_df, on=[:group, :genome_size])\n",
    "push!(summary_df, refseq_metadata[findfirst(refseq_metadata[!, \"#assembly_accession\"] .== \"GCF_000001405.40\"), :])\n",
    "sort!(summary_df, \"genome_size\")"
   ]
  },
  {
   "cell_type": "code",
   "execution_count": null,
   "id": "ee73848f-caed-4d30-92c7-082c91b13369",
   "metadata": {
    "tags": []
   },
   "outputs": [],
   "source": [
    "# make title font smaller!\n",
    "\n",
    "function accession_to_kmer_frequency_plots(;refseq_row, basedir=pwd(), ks=[7, 11, 13, 17])\n",
    "    accession = refseq_row[\"#assembly_accession\"]\n",
    "    outdir=joinpath(basedir, accession)\n",
    "    outdir = mkpath(joinpath(genome_dir, accession))\n",
    "    fasta = Mycelia.download_genome_by_ftp(ftp=refseq_row[\"ftp_path\"], outdir=outdir)\n",
    "    organism_name = refseq_row[\"organism_name\"]\n",
    "    # organism_name = join(split.(refseq_row[\"organism_name\"])[1:2], \" \")\n",
    "    group_name = refseq_row[\"group\"]\n",
    "\n",
    "    kmer_counts_dict = Dict()\n",
    "    for k in ks\n",
    "        @time jellyfish_counts_file = Mycelia.jellyfish_count(fastx=fasta, k = k, canonical=true)\n",
    "        @time count_histogram_file = Mycelia.jellyfish_counts_to_kmer_frequency_histogram(jellyfish_counts_file)\n",
    "        kmer_counts_dict[k] = CSV.read(count_histogram_file, DataFrames.DataFrame, delim='\\t')\n",
    "    end\n",
    "    kmer_counts_dict\n",
    "    \n",
    "    p = StatsPlots.plot(\n",
    "        layout = (length(ks), 1),\n",
    "        xlabel = \"log2(observed frequency)\",\n",
    "        ylabel = \"log2(# of kmers)\"\n",
    "    )\n",
    "    x_max = 0.0\n",
    "    y_max = 0.0\n",
    "    for (i, k) in enumerate(ks)\n",
    "        kmer_counts_histogram_table = kmer_counts_dict[k]\n",
    "        xs = log2.(kmer_counts_histogram_table[!, \"number of observations\"])\n",
    "        ys = log2.(kmer_counts_histogram_table[!, \"number of kmers\"])\n",
    "        model = GLM.lm(GLM.@formula(_ys ~ _xs), DataFrames.DataFrame(_xs=xs, _ys=ys))\n",
    "        r2_value = GLM.r2(model)\n",
    "        x_max = max(x_max, maximum(xs))\n",
    "        y_max = max(y_max, maximum(ys))\n",
    "        StatsPlots.plot!(\n",
    "            p,\n",
    "            xs,\n",
    "            ys,\n",
    "            seriestype = :scatter,\n",
    "            title = \"$(group_name) ($(organism_name)) @ k=$(k)\",\n",
    "            label = missing,\n",
    "            subplot = i\n",
    "        )\n",
    "        StatsPlots.plot!(\n",
    "            p,\n",
    "            xs,\n",
    "            GLM.predict(model),\n",
    "            label=\"r=$(round(r2_value, digits=3))\",\n",
    "            subplot = i\n",
    "        )\n",
    "    end\n",
    "    p = StatsPlots.plot!(\n",
    "        p,\n",
    "        xlims = (0, x_max + max(1, ceil(0.1 * x_max))),\n",
    "        ylims = (0, y_max + max(1, ceil(0.1 * y_max))),\n",
    "        size = (600, length(ks) * 300),\n",
    "        leftmargin = 6StatsPlots.Plots.PlotMeasures.mm\n",
    "    )\n",
    "    StatsPlots.savefig(p, joinpath(outdir, accession * \".kmer-spectra.svg\"))\n",
    "    StatsPlots.savefig(p, joinpath(outdir, accession * \".kmer-spectra.pdf\"))\n",
    "    # StatsPlots.savefig(p, joinpath(outdir, accession * \".kmer-spectra.png\"))\n",
    "    return p\n",
    "end\n",
    "accession_to_kmer_frequency_plots(refseq_row=summary_df[1, :], basedir=genome_dir)"
   ]
  },
  {
   "cell_type": "code",
   "execution_count": null,
   "id": "3468124a-b3d4-4569-9dbf-7d4d4becb884",
   "metadata": {
    "tags": []
   },
   "outputs": [],
   "source": [
    "p = accession_to_kmer_frequency_plots(refseq_row=summary_df[2, :], basedir=genome_dir)"
   ]
  },
  {
   "cell_type": "code",
   "execution_count": null,
   "id": "2b7d1c81-85a8-4f4e-9f1b-c0fd497b9752",
   "metadata": {
    "tags": []
   },
   "outputs": [],
   "source": [
    "p = accession_to_kmer_frequency_plots(refseq_row=summary_df[3, :], basedir=genome_dir)"
   ]
  },
  {
   "cell_type": "code",
   "execution_count": null,
   "id": "28cd937a-bf5c-4014-b294-4f205f1e6f32",
   "metadata": {
    "tags": []
   },
   "outputs": [],
   "source": [
    "p = accession_to_kmer_frequency_plots(refseq_row=summary_df[4, :], basedir=genome_dir)"
   ]
  },
  {
   "cell_type": "code",
   "execution_count": null,
   "id": "ae15ea07-2cdc-4ae8-9807-94bb5ffe203b",
   "metadata": {
    "tags": []
   },
   "outputs": [],
   "source": [
    "p = accession_to_kmer_frequency_plots(refseq_row=summary_df[5, :], basedir=genome_dir)"
   ]
  },
  {
   "cell_type": "code",
   "execution_count": null,
   "id": "fdfc82c6-5655-4d4e-accc-7e3f4501a1b5",
   "metadata": {
    "tags": []
   },
   "outputs": [],
   "source": [
    "# Danio rerio\n",
    "# 7955\n",
    "# GCF_000002035.6\n",
    "\n",
    "# [ Info: conda environment kmer-jellyfish already present; set force=true to update/re-install\n",
    "#   2.059938 seconds (617 allocations: 309.625 KiB)\n",
    "#   0.000201 seconds (116 allocations: 9.531 KiB)\n",
    "# [ Info: /global/cfs/cdirs/m4269/cjprybol/Mycelia/projects/variant-calling-benchmarking/data/genomes/GCF_000002035.6/GCF_000002035.6_GRCz11_genomic.fna.gz.k7.canonical.jf.count_histogram.tsv already exists\n",
    "# [ Info: conda environment kmer-jellyfish already present; set force=true to update/re-install\n",
    "#   2.051873 seconds (617 allocations: 309.641 KiB)\n",
    "#   1.875662 seconds (181.84 k allocations: 11.496 MiB)\n",
    "# [ Info: conda environment kmer-jellyfish already present; set force=true to update/re-install\n",
    "#   1.962617 seconds (613 allocations: 309.562 KiB)\n",
    "#  21.618736 seconds (116.74 k allocations: 9.253 MiB)\n",
    "# [ Info: conda environment kmer-jellyfish already present; set force=true to update/re-install\n",
    "#   1.977223 seconds (734 allocations: 320.039 KiB)\n",
    "# 479.764688 seconds (100.25 k allocations: 8.412 MiB)\n",
    "p = accession_to_kmer_frequency_plots(refseq_row=summary_df[6, :], basedir=genome_dir)"
   ]
  },
  {
   "cell_type": "code",
   "execution_count": null,
   "id": "4f7ff1cb-dd58-430f-9f56-96b97a2a5801",
   "metadata": {
    "tags": []
   },
   "outputs": [],
   "source": [
    "# [ Info: conda environment kmer-jellyfish already present; set force=true to update/re-install\n",
    "#   2.707734 seconds (632 allocations: 310.141 KiB)\n",
    "#   0.462371 seconds (101.25 k allocations: 8.673 MiB)\n",
    "# [ Info: conda environment kmer-jellyfish already present; set force=true to update/re-install\n",
    "#   2.008665 seconds (615 allocations: 309.594 KiB)\n",
    "#   2.110626 seconds (229.84 k allocations: 13.199 MiB)\n",
    "# [ Info: conda environment kmer-jellyfish already present; set force=true to update/re-install\n",
    "#   2.025346 seconds (615 allocations: 309.594 KiB)\n",
    "#  21.925132 seconds (175.54 k allocations: 11.459 MiB)\n",
    "# [ Info: conda environment kmer-jellyfish already present; set force=true to update/re-install\n",
    "#   2.024590 seconds (615 allocations: 309.594 KiB)\n",
    "# 832.700463 seconds (170.55 k allocations: 11.121 MiB)\n",
    "\n",
    "# Mus musculus\n",
    "# 10090\n",
    "# GCF_000001635.27\n",
    "# accession = \"GCF_000001635.27\"\n",
    "\n",
    "p = accession_to_kmer_frequency_plots(refseq_row=summary_df[7, :], basedir=genome_dir)"
   ]
  },
  {
   "cell_type": "code",
   "execution_count": null,
   "id": "4699fa3f-25ee-4c87-86f4-b856be373f9a",
   "metadata": {
    "tags": []
   },
   "outputs": [],
   "source": [
    "# Homo sapiens\n",
    "# 9606\n",
    "# GCF_000001405.40\n",
    "\n",
    "# [ Info: conda environment kmer-jellyfish already present; set force=true to update/re-install\n",
    "#   2.123828 seconds (620 allocations: 309.953 KiB)\n",
    "#   0.425395 seconds (101.41 k allocations: 8.880 MiB)\n",
    "# [ Info: conda environment kmer-jellyfish already present; set force=true to update/re-install\n",
    "#   1.656025 seconds (606 allocations: 309.172 KiB)\n",
    "#   1.583714 seconds (251.21 k allocations: 15.355 MiB)\n",
    "# [ Info: conda environment kmer-jellyfish already present; set force=true to update/re-install\n",
    "#   1.745315 seconds (609 allocations: 309.500 KiB)\n",
    "#  20.587222 seconds (181.83 k allocations: 11.732 MiB)\n",
    "# [ Info: conda environment kmer-jellyfish already present; set force=true to update/re-install\n",
    "#   1.816905 seconds (608 allocations: 309.203 KiB)\n",
    "# 991.531925 seconds (176.60 k allocations: 11.345 MiB)\n",
    "\n",
    "# accession = \"GCF_000001405.40\"\n",
    "\n",
    "p = accession_to_kmer_frequency_plots(refseq_row=summary_df[8, :], basedir=genome_dir)"
   ]
  }
 ],
 "metadata": {
  "kernelspec": {
   "display_name": "Julia 1.10.2",
   "language": "julia",
   "name": "julia-1.10"
  },
  "language_info": {
   "file_extension": ".jl",
   "mimetype": "application/julia",
   "name": "julia",
   "version": "1.10.2"
  }
 },
 "nbformat": 4,
 "nbformat_minor": 5
}
