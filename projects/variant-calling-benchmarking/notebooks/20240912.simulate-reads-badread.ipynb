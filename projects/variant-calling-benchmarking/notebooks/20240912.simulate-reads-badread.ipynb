{
 "cells": [
  {
   "cell_type": "code",
   "execution_count": null,
   "id": "12b95d57-1cd2-491b-809e-b51225c47d0f",
   "metadata": {
    "tags": []
   },
   "outputs": [],
   "source": [
    "# if hit plotting library issues, try resetting LD path for julia\n",
    "# can set in ~/.local/share/jupyter/kernels/\n",
    "haskey(ENV, \"LD_LIBRARY_PATH\") && @assert ENV[\"LD_LIBRARY_PATH\"] == \"\"\n",
    "\n",
    "import Pkg\n",
    "# use temp or named environment to avoid package clashes across development projects\n",
    "Pkg.activate(;temp=true)\n",
    "Pkg.add(\"Revise\")\n",
    "import Revise\n",
    "\n",
    "Pkg.develop(path=\"$(homedir())/workspace/Mycelia\")\n",
    "import Mycelia\n",
    "\n",
    "pkgs = [\n",
    "    \"ProgressMeter\"\n",
    "]\n",
    "Pkg.add(pkgs)\n",
    "for pkg in pkgs\n",
    "    eval(Meta.parse(\"import $pkg\"))\n",
    "end"
   ]
  },
  {
   "cell_type": "code",
   "execution_count": null,
   "id": "128cc1e1-929a-42e1-8376-4c81832fd40c",
   "metadata": {
    "tags": []
   },
   "outputs": [],
   "source": [
    "PROJECT_BASEDIR = dirname(pwd())\n",
    "data_dir = joinpath(PROJECT_BASEDIR, \"data\")\n",
    "genome_dir = mkpath(joinpath(data_dir, \"genomes\"))"
   ]
  },
  {
   "cell_type": "code",
   "execution_count": null,
   "id": "d73a3b2f-2945-4e69-8143-a28c5b989ca3",
   "metadata": {
    "tags": []
   },
   "outputs": [],
   "source": [
    "modified_fasta_files = sort(filter(x -> occursin(r\"\\.fna$\", x) && occursin(\".vcf\", x) && occursin(\"normalized\", x), readdir(genome_dir, join=true)), by=x->filesize(x))"
   ]
  },
  {
   "cell_type": "code",
   "execution_count": null,
   "id": "eab3a6a5-0d6b-4517-abfc-ba6b63e06881",
   "metadata": {
    "tags": []
   },
   "outputs": [],
   "source": [
    "for (i, fasta_file) in enumerate(modified_fasta_files)\n",
    "    @info \"$(fasta_file) = $(i) of $(length(modified_fasta_files))\"\n",
    "    ProgressMeter.@showprogress for coverage in [2^i for i in 0:10]\n",
    "        @info \"simulating $(coverage)x coverage for fasta file $(i) of $(length(modified_fasta_files))\"\n",
    "        Mycelia.simulate_nanopore_reads(fasta = fasta_file, quantity = \"$(coverage)x\")\n",
    "    end\n",
    "end"
   ]
  }
 ],
 "metadata": {
  "kernelspec": {
   "display_name": "julia 1.10.6",
   "language": "julia",
   "name": "julia-1.10"
  },
  "language_info": {
   "file_extension": ".jl",
   "mimetype": "application/julia",
   "name": "julia",
   "version": "1.10.6"
  }
 },
 "nbformat": 4,
 "nbformat_minor": 5
}
