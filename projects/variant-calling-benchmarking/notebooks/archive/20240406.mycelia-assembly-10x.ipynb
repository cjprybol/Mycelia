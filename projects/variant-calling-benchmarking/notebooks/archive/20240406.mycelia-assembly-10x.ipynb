{
 "cells": [
  {
   "cell_type": "code",
   "execution_count": null,
   "id": "335bf35f-c55e-4857-83f0-ed03dc666f4e",
   "metadata": {
    "tags": []
   },
   "outputs": [],
   "source": [
    "# if hit plotting library issues, try resetting LD path for julia\n",
    "# can set in ~/.local/share/jupyter/kernels/\n",
    "@assert ENV[\"LD_LIBRARY_PATH\"] == \"\"\n",
    "import Pkg\n",
    "pkgs = [\n",
    "    \"Revise\",\n",
    "    \"FASTX\",\n",
    "    \"BioSequences\",\n",
    "    \"Kmers\",\n",
    "    \"Graphs\",\n",
    "    \"MetaGraphs\",\n",
    "    \"SparseArrays\",\n",
    "    \"ProgressMeter\",\n",
    "    \"Distributions\",\n",
    "    \"HiddenMarkovModels\",\n",
    "    \"BioAlignments\",\n",
    "    \"StatsBase\",\n",
    "    \"Random\",\n",
    "    \"StatsPlots\",\n",
    "    \"Statistics\",\n",
    "    # \"GraphMakie\",\n",
    "    \"IterTools\",\n",
    "    \"Primes\",\n",
    "    \"OnlineStats\",\n",
    "    \"IteratorSampling\"\n",
    "]\n",
    "# Pkg.add(pkgs)\n",
    "for pkg in pkgs\n",
    "    eval(Meta.parse(\"import $pkg\"))\n",
    "end\n",
    "# Pkg.develop(path=\"/global/cfs/projectdirs/m4269/cjprybol/Mycelia\")\n",
    "# Pkg.develop(path=\"../../..\")\n",
    "import Mycelia"
   ]
  },
  {
   "cell_type": "code",
   "execution_count": null,
   "id": "128cc1e1-929a-42e1-8376-4c81832fd40c",
   "metadata": {
    "tags": []
   },
   "outputs": [],
   "source": [
    "PROJECT_BASEDIR = dirname(pwd())\n",
    "data_dir = joinpath(PROJECT_BASEDIR, \"data\")\n",
    "genome_dir = mkpath(joinpath(data_dir, \"genomes\"))"
   ]
  },
  {
   "cell_type": "code",
   "execution_count": null,
   "id": "00736937-92d0-4cb6-a933-0cb068457ad1",
   "metadata": {
    "tags": []
   },
   "outputs": [],
   "source": [
    "working_dir = joinpath(data_dir, \"test\")\n",
    "mkpath(working_dir)"
   ]
  },
  {
   "cell_type": "code",
   "execution_count": null,
   "id": "2e294dc9-dc3d-4a15-8e15-70e649200874",
   "metadata": {
    "tags": []
   },
   "outputs": [],
   "source": [
    "# short_read_sets = unique(map(x -> match(r\"^(.+\\.\\d+x)\\.\", x).captures[1], filter(x -> occursin(r\"\\.fna\\.art\", x) && occursin(r\"\\.fq\\.gz\", x) && !occursin(\"trimming_report\", x) && !occursin(\"_val_\", x), sort(readdir(genome_dir, join=true), by=x->filesize(x)))))\n",
    "# # forward = short_read_set * \".1_val_1.fq.gz\"\n",
    "# # reverse = short_read_set * \".2_val_2.fq.gz\""
   ]
  },
  {
   "cell_type": "code",
   "execution_count": null,
   "id": "c4ab3b27-b540-4f4d-8bd3-093e58e0304d",
   "metadata": {
    "tags": []
   },
   "outputs": [],
   "source": [
    "long_read_fastqs = sort(filter(x -> occursin(r\"\\.filtlong\\.fq\\.gz$\", x), readdir(genome_dir, join=true)), by=x->filesize(x))\n",
    "fastq = long_read_fastqs[1]"
   ]
  },
  {
   "cell_type": "code",
   "execution_count": null,
   "id": "9de34fec-79aa-419f-a1a1-dd7dfe664a7b",
   "metadata": {
    "tags": []
   },
   "outputs": [],
   "source": [
    "reference_fasta = replace(fastq, r\"\\.badread.*\" => \"\")"
   ]
  },
  {
   "cell_type": "code",
   "execution_count": null,
   "id": "579257eb-0de0-49a8-9381-d8938a806165",
   "metadata": {
    "tags": []
   },
   "outputs": [],
   "source": [
    "k = Mycelia.assess_dnamer_saturation([fastq])"
   ]
  },
  {
   "cell_type": "code",
   "execution_count": null,
   "id": "05f13336-f70e-4df7-9aaa-2d6388eee430",
   "metadata": {
    "tags": []
   },
   "outputs": [],
   "source": [
    "kmer_type = Kmers.DNAKmer{k, 1}"
   ]
  },
  {
   "cell_type": "code",
   "execution_count": null,
   "id": "6063d332-0f41-41d2-85b8-dd61b512c5b9",
   "metadata": {
    "tags": []
   },
   "outputs": [],
   "source": [
    "reference_kmer_counts = Mycelia.fasta_to_reference_kmer_counts(kmer_type=kmer_type, fasta=reference_fasta)\n",
    "records = collect(Mycelia.open_fastx(fastq))"
   ]
  },
  {
   "cell_type": "code",
   "execution_count": null,
   "id": "279f9c7a-5fca-4933-bd7f-b3a2bd6d5b3b",
   "metadata": {
    "tags": []
   },
   "outputs": [],
   "source": [
    "fit_mean = OnlineStats.fit!(OnlineStats.Mean(), IterTools.chain(FASTX.quality_scores(record) for record in records))"
   ]
  },
  {
   "cell_type": "code",
   "execution_count": null,
   "id": "f2a5a57d-57e5-4318-8951-a3b08f72695e",
   "metadata": {
    "tags": []
   },
   "outputs": [],
   "source": [
    "fit_extrema = OnlineStats.fit!(OnlineStats.Extrema(), IterTools.chain(FASTX.quality_scores(record) for record in records))"
   ]
  },
  {
   "cell_type": "code",
   "execution_count": null,
   "id": "d8a8c62a-c482-43d9-b239-1a9c76151e2c",
   "metadata": {
    "tags": []
   },
   "outputs": [],
   "source": [
    "fit_variance = OnlineStats.fit!(OnlineStats.Variance(), IterTools.chain(FASTX.quality_scores(record) for record in records))\n",
    "standard_deviation = sqrt(OnlineStats.value(fit_variance))"
   ]
  },
  {
   "cell_type": "code",
   "execution_count": null,
   "id": "1f625efd-5846-48af-a6dd-ad89d4045e36",
   "metadata": {
    "tags": []
   },
   "outputs": [],
   "source": [
    "read_quality_scores = [collect(FASTX.quality_scores(record)) for record in records]\n",
    "\n",
    "p = StatsPlots.scatter(\n",
    "    IteratorSampling.itsample(IterTools.chain(read_quality_scores...), 10^4),\n",
    "    title = \"base quality scores\",\n",
    "    xlabel = \"read index\",\n",
    "    ylabel = \"quality score (PHRED)\",\n",
    "    # color = :black,\n",
    "    alpha = 0.25,\n",
    "    label = nothing)\n",
    "\n",
    "StatsPlots.hline!(\n",
    "    p,\n",
    "    [OnlineStats.value(fit_mean)],\n",
    "    labels = \"mean = $(round(OnlineStats.value(fit_mean), digits=3))\",\n",
    "    linestyle = :dash\n",
    ")\n",
    "\n",
    "StatsPlots.hline!(p, [floor(OnlineStats.value(fit_mean) - standard_deviation)], label = \"(mean - 1σ)\")"
   ]
  },
  {
   "cell_type": "code",
   "execution_count": null,
   "id": "ec214160-5b53-452a-bbb6-9aaf9ec6390a",
   "metadata": {
    "tags": []
   },
   "outputs": [],
   "source": [
    "# make a dictionary associating all kmers with their quality scores\n",
    "all_kmer_quality_support = Dict{kmer_type, Vector{Float64}}()\n",
    "for record in records\n",
    "    record_quality_scores = collect(FASTX.quality_scores(record))\n",
    "    record_quality_score_slices = [record_quality_scores[i:i+k-1] for i in 1:length(record_quality_scores)-k+1]\n",
    "    sequence = BioSequences.LongDNA{2}(FASTX.sequence(record))\n",
    "    for ((i, kmer), kmer_base_qualities) in zip(Kmers.EveryKmer{kmer_type}(sequence), record_quality_score_slices)\n",
    "        if haskey(all_kmer_quality_support, kmer)\n",
    "            all_kmer_quality_support[kmer] = all_kmer_quality_support[kmer] .+ kmer_base_qualities\n",
    "        else\n",
    "            all_kmer_quality_support[kmer] = kmer_base_qualities\n",
    "        end\n",
    "    end\n",
    "end\n",
    "\n",
    "kmer_counts = Mycelia.count_kmers(kmer_type, fastq)\n",
    "kmer_indices = Dict(kmer => i for (i, kmer) in enumerate(keys(kmer_counts)))\n",
    "canonical_kmer_counts = Mycelia.count_canonical_kmers(kmer_type, fastq)\n",
    "canonical_kmer_indices = Dict(kmer => i for (i, kmer) in enumerate(keys(canonical_kmer_counts)))\n",
    "\n",
    "valid_kmer_counts = [count for (kmer, count) in canonical_kmer_counts if !(kmer in keys(reference_kmer_counts))]\n",
    "invalid_kmer_counts = [count for (kmer, count) in canonical_kmer_counts if (kmer in keys(reference_kmer_counts))]\n",
    "\n",
    "reference_kmers = sort(collect(keys(reference_kmer_counts)))\n",
    "\n",
    "strand_normalized_quality_support = Dict{kmer_type, Vector{Float64}}()\n",
    "for (kmer, support) in all_kmer_quality_support\n",
    "    strand_normalized_quality_support[kmer] = support\n",
    "    if haskey(all_kmer_quality_support, BioSequences.reverse_complement(kmer))\n",
    "        strand_normalized_quality_support[kmer] .+= all_kmer_quality_support[BioSequences.reverse_complement(kmer)]\n",
    "    end\n",
    "end"
   ]
  },
  {
   "cell_type": "code",
   "execution_count": null,
   "id": "a7483aef-99c3-467b-933c-f7d9b7c4e4be",
   "metadata": {
    "tags": []
   },
   "outputs": [],
   "source": [
    "valid_total_qualities = Float64[]\n",
    "invalid_total_qualities = Float64[]\n",
    "for (kmer, quality_values) in strand_normalized_quality_support\n",
    "    if kmer in reference_kmers\n",
    "        append!(valid_total_qualities, sum(quality_values))\n",
    "    else\n",
    "        append!(invalid_total_qualities, sum(quality_values))\n",
    "    end\n",
    "end\n",
    "\n",
    "p = StatsPlots.scatter(\n",
    "    [Mycelia.jitter(2, length(invalid_total_qualities)), Mycelia.jitter(1, length(valid_total_qualities))],\n",
    "    [invalid_total_qualities, valid_total_qualities],\n",
    "    alpha=0.2,\n",
    "    title = \"Total adjusted joint-Q value for each Kmer\",\n",
    "    xticks = ((1, 2), (\"valid kmers\", \"sequencing artifacts\")),\n",
    "    labels = nothing\n",
    ")\n",
    "StatsPlots.plot!(p, \n",
    "    [0.75, 1.25],\n",
    "    [Statistics.mean(valid_total_qualities), Statistics.mean(valid_total_qualities)],\n",
    "    linewidth=4,\n",
    "    color=:orange,\n",
    "    label = \"mean = $(round(Statistics.mean(valid_total_qualities), digits=3))\")\n",
    "StatsPlots.plot!(p,\n",
    "    [1.75, 2.25],\n",
    "    [Statistics.mean(invalid_total_qualities), Statistics.mean(invalid_total_qualities)],\n",
    "    linewidth=4,\n",
    "    color=:blue,\n",
    "    label=\"mean = $(round(Statistics.mean(invalid_total_qualities), digits=3))\")"
   ]
  },
  {
   "cell_type": "code",
   "execution_count": null,
   "id": "fef75c16-f177-44bf-9f79-2f2113d71f2c",
   "metadata": {
    "tags": []
   },
   "outputs": [],
   "source": [
    "kmer_total_quality = Dict(kmer => sum(quality_values) for (kmer, quality_values) in strand_normalized_quality_support)\n",
    "# state_likelihoods = Dict(kmer => kmer_count / total_kmers for (kmer, kmer_count) in kmer_counts)\n",
    "state_likelihoods = Dict(kmer => total_quality / sum(values(kmer_total_quality)) for (kmer, total_quality) in kmer_total_quality)"
   ]
  },
  {
   "cell_type": "code",
   "execution_count": null,
   "id": "38e20080-95f8-4f69-8b2f-b0b0cd3c3ad5",
   "metadata": {
    "tags": []
   },
   "outputs": [],
   "source": [
    "total_states = length(state_likelihoods)"
   ]
  },
  {
   "cell_type": "code",
   "execution_count": null,
   "id": "b7888ae2-e1dc-4985-8c4a-55cd2d08ca86",
   "metadata": {
    "tags": []
   },
   "outputs": [],
   "source": [
    "transition_likelihoods = SparseArrays.spzeros(total_states, total_states)\n",
    "for record in records\n",
    "    sequence = BioSequences.LongDNA{4}(FASTX.sequence(record))\n",
    "    sources = Kmers.EveryKmer{kmer_type}(sequence[1:end-1])\n",
    "    destinations = Kmers.EveryKmer{kmer_type}(sequence[2:end])\n",
    "    for ((source_i, source), (destination_i, destination)) in zip(sources, destinations)\n",
    "        source_index = kmer_indices[source]\n",
    "        destination_index = kmer_indices[destination]\n",
    "        transition_likelihoods[source_index, destination_index] += 1\n",
    "    end\n",
    "end\n",
    "for source in 1:total_states\n",
    "    # @show source\n",
    "    outgoing_transition_counts = transition_likelihoods[source, :]\n",
    "    if sum(outgoing_transition_counts) > 0\n",
    "        transition_likelihoods[source, :] .= transition_likelihoods[source, :] ./ sum(transition_likelihoods[source, :]) \n",
    "    end\n",
    "end\n",
    "transition_likelihoods"
   ]
  },
  {
   "cell_type": "code",
   "execution_count": null,
   "id": "b4c6762a-3974-464e-aff9-8f5b01fd344b",
   "metadata": {
    "tags": []
   },
   "outputs": [],
   "source": [
    "g = Graphs.SimpleDiGraph(total_states)\n",
    "row_indices, column_indices, cell_values = SparseArrays.findnz(transition_likelihoods)\n",
    "for (row, col) in zip(row_indices, column_indices)\n",
    "    Graphs.add_edge!(g, row, col)\n",
    "end\n",
    "g"
   ]
  },
  {
   "cell_type": "code",
   "execution_count": null,
   "id": "317f411c-acc7-420f-9b73-9ce464d0618e",
   "metadata": {
    "tags": []
   },
   "outputs": [],
   "source": [
    "unbranching_nodes = Set(Int[])\n",
    "for node in Graphs.vertices(g)\n",
    "    if (Graphs.indegree(g, node) <= 1) && (Graphs.outdegree(g, node) <= 1)\n",
    "        push!(unbranching_nodes, node)\n",
    "    end\n",
    "end\n",
    "unvisited_unbranching_nodes = Set(unbranching_nodes)\n",
    "\n",
    "branching_nodes = setdiff(Graphs.vertices(g), unbranching_nodes)\n",
    "for branching_node in branching_nodes\n",
    "    @assert Graphs.degree(g, branching_node) >= 2\n",
    "end\n",
    "inbranching_nodes = filter(node -> Graphs.indegree(g, node) > 1, branching_nodes)\n",
    "outbranching_nodes = filter(node -> Graphs.outdegree(g, node) > 1, branching_nodes)\n",
    "\n",
    "unbranching_paths = []\n",
    "while !isempty(unvisited_unbranching_nodes)\n",
    "    current_path = [rand(unvisited_unbranching_nodes)]\n",
    "    delete!(unvisited_unbranching_nodes, first(current_path))\n",
    "\n",
    "    outneighbors = Graphs.outneighbors(g, last(current_path))\n",
    "\n",
    "    while length(outneighbors) == 1\n",
    "        outneighbor = first(outneighbors)\n",
    "        outneighbors_inneighbors = Graphs.inneighbors(g, outneighbor)\n",
    "        if outneighbors_inneighbors == [last(current_path)]\n",
    "            push!(current_path, outneighbor)\n",
    "            delete!(unvisited_unbranching_nodes, outneighbor)\n",
    "            outneighbors = Graphs.outneighbors(g, outneighbor)\n",
    "        else\n",
    "            @assert length(outneighbors_inneighbors) > 1\n",
    "            push!(current_path, outneighbor)\n",
    "            delete!(unvisited_unbranching_nodes, outneighbor)\n",
    "            break\n",
    "        end\n",
    "    end\n",
    "    inneighbors = Graphs.inneighbors(g, first(current_path))\n",
    "    while length(inneighbors) == 1\n",
    "        inneighbor = first(inneighbors)\n",
    "        inneighbors_outneighbors = Graphs.outneighbors(g, inneighbor)\n",
    "        if inneighbors_outneighbors == [first(current_path)]\n",
    "            pushfirst!(current_path, inneighbor)\n",
    "            delete!(unvisited_unbranching_nodes, inneighbor)\n",
    "            inneighbors = Graphs.inneighbors(g, inneighbor)\n",
    "        else\n",
    "            @assert length(inneighbors_outneighbors) > 1\n",
    "            pushfirst!(current_path, inneighbor)\n",
    "            delete!(unvisited_unbranching_nodes, inneighbor)\n",
    "            break\n",
    "        end\n",
    "    end\n",
    "    push!(unbranching_paths, current_path)\n",
    "end\n",
    "unbranching_paths"
   ]
  },
  {
   "cell_type": "code",
   "execution_count": null,
   "id": "d5216821-cd0d-4094-a0f0-a20095127135",
   "metadata": {
    "tags": []
   },
   "outputs": [],
   "source": [
    "unbranching_path_scores = Float64[]\n",
    "state_scores = collect(values(sort(kmer_total_quality)))\n",
    "for unbranching_path in unbranching_paths\n",
    "    push!(unbranching_path_scores, Statistics.mean(state_scores[state] for state in unbranching_path))\n",
    "end\n",
    "StatsPlots.histogram(unbranching_path_scores)"
   ]
  },
  {
   "cell_type": "code",
   "execution_count": null,
   "id": "c13b23dc-b17a-4069-90c1-83649e82848d",
   "metadata": {
    "tags": []
   },
   "outputs": [],
   "source": [
    "ordered_kmers = collect(keys(kmer_counts))\n",
    "solid_states = findall(x -> x in reference_kmers, ordered_kmers)"
   ]
  },
  {
   "cell_type": "code",
   "execution_count": null,
   "id": "1c12f337-aff1-4501-b3c8-053312c8f01c",
   "metadata": {
    "tags": []
   },
   "outputs": [],
   "source": [
    "unbranching_path_solidity = [count(s -> s in solid_states, unbranching_path)/length(unbranching_path) for unbranching_path in unbranching_paths]"
   ]
  },
  {
   "cell_type": "code",
   "execution_count": null,
   "id": "d65ac0ef-f6cf-4249-98b5-841f68f7b059",
   "metadata": {
    "tags": []
   },
   "outputs": [],
   "source": [
    "solid_unbranching_paths = findall(unbranching_path_solidity .== 1.0)"
   ]
  },
  {
   "cell_type": "code",
   "execution_count": null,
   "id": "d5949a13-b22c-49c0-82c8-01f74977bf43",
   "metadata": {
    "tags": []
   },
   "outputs": [],
   "source": [
    "valid_unbranching_path_scores = Float64[]\n",
    "invalid_unbranching_path_scores = Float64[]\n",
    "for (i, s) in enumerate(unbranching_path_scores)\n",
    "    if i in solid_unbranching_paths\n",
    "        push!(valid_unbranching_path_scores, s)\n",
    "    else\n",
    "        push!(invalid_unbranching_path_scores, s)\n",
    "    end\n",
    "end"
   ]
  },
  {
   "cell_type": "code",
   "execution_count": null,
   "id": "58b558fb-4e21-4719-a4d7-bed877f0f693",
   "metadata": {
    "tags": []
   },
   "outputs": [],
   "source": [
    "p = StatsPlots.scatter(\n",
    "    [Mycelia.jitter(2, length(invalid_unbranching_path_scores)), Mycelia.jitter(1, length(valid_unbranching_path_scores))],\n",
    "    [invalid_unbranching_path_scores, valid_unbranching_path_scores],\n",
    "    alpha=0.2,\n",
    "    title = \"mean total adjusted joint-Q value for untigs\",\n",
    "    xticks = ((1, 2), (\"valid paths\", \"sequencing artifacts\")),\n",
    "    labels = nothing\n",
    ")\n",
    "\n",
    "\n",
    "StatsPlots.plot!(p, \n",
    "    [0.75, 1.25],\n",
    "    [Statistics.mean(valid_unbranching_path_scores), Statistics.mean(valid_unbranching_path_scores)],\n",
    "    linewidth=4,\n",
    "    color=:orange,\n",
    "    label = \"mean = $(round(Statistics.mean(valid_unbranching_path_scores), digits=3))\")\n",
    "StatsPlots.plot!(p,\n",
    "    [1.75, 2.25],\n",
    "    [Statistics.mean(invalid_unbranching_path_scores), Statistics.mean(invalid_unbranching_path_scores)],\n",
    "    linewidth=4,\n",
    "    color=:blue,\n",
    "    label=\"mean = $(round(Statistics.mean(invalid_unbranching_path_scores), digits=3))\")"
   ]
  }
 ],
 "metadata": {
  "kernelspec": {
   "display_name": "Julia 1.10.2",
   "language": "julia",
   "name": "julia-1.10"
  },
  "language_info": {
   "file_extension": ".jl",
   "mimetype": "application/julia",
   "name": "julia",
   "version": "1.10.2"
  }
 },
 "nbformat": 4,
 "nbformat_minor": 5
}
