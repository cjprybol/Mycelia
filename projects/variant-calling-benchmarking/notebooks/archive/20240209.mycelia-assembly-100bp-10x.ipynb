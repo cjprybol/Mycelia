{
 "cells": [
  {
   "cell_type": "code",
   "execution_count": null,
   "id": "335bf35f-c55e-4857-83f0-ed03dc666f4e",
   "metadata": {
    "tags": []
   },
   "outputs": [],
   "source": [
    "# if hit plotting library issues, try resetting LD path for julia\n",
    "# can set in ~/.local/share/jupyter/kernels/\n",
    "# @assert ENV[\"LD_LIBRARY_PATH\"] == \"\"\n",
    "import Pkg\n",
    "pkgs = [\n",
    "    \"Revise\",\n",
    "    \"FASTX\",\n",
    "    \"BioSequences\",\n",
    "    \"Kmers\",\n",
    "    \"Graphs\",\n",
    "    \"MetaGraphs\",\n",
    "    \"SparseArrays\",\n",
    "    \"ProgressMeter\",\n",
    "    \"Distributions\",\n",
    "    \"HiddenMarkovModels\",\n",
    "    \"BioAlignments\",\n",
    "    \"StatsBase\",\n",
    "    \"Random\",\n",
    "    \"StatsPlots\",\n",
    "    \"Statistics\",\n",
    "    # \"GraphMakie\",\n",
    "    \"IterTools\",\n",
    "    \"Primes\"\n",
    "]\n",
    "# Pkg.add(pkgs)\n",
    "for pkg in pkgs\n",
    "    eval(Meta.parse(\"import $pkg\"))\n",
    "end\n",
    "# Pkg.develop(path=\"/global/cfs/projectdirs/m4269/cjprybol/Mycelia\")\n",
    "# Pkg.develop(path=\"../../..\")\n",
    "import Mycelia"
   ]
  },
  {
   "cell_type": "code",
   "execution_count": null,
   "id": "128cc1e1-929a-42e1-8376-4c81832fd40c",
   "metadata": {
    "tags": []
   },
   "outputs": [],
   "source": [
    "PROJECT_BASEDIR = dirname(pwd())\n",
    "data_dir = joinpath(PROJECT_BASEDIR, \"data\")\n",
    "genome_dir = mkpath(joinpath(data_dir, \"genomes\"))"
   ]
  },
  {
   "cell_type": "code",
   "execution_count": null,
   "id": "00736937-92d0-4cb6-a933-0cb068457ad1",
   "metadata": {
    "tags": []
   },
   "outputs": [],
   "source": [
    "working_dir = joinpath(data_dir, \"test\")\n",
    "mkpath(working_dir)"
   ]
  },
  {
   "cell_type": "code",
   "execution_count": null,
   "id": "191038be-0d52-41e9-8b6e-6ac35fd8ba94",
   "metadata": {
    "tags": []
   },
   "outputs": [],
   "source": [
    "# function find_junctions_to_resample(x)\n",
    "#     false_indices = findall(!, x)\n",
    "#     ranges = []\n",
    "#     start = false_indices[1]\n",
    "#     for i in 2:length(false_indices)\n",
    "#         if false_indices[i] - false_indices[i-1] > 1\n",
    "#           push!(ranges, start:false_indices[i-1])\n",
    "#           start = false_indices[i]\n",
    "#         end\n",
    "#     end\n",
    "#     push!(ranges, start:false_indices[end])\n",
    "#     return ranges\n",
    "# end"
   ]
  },
  {
   "cell_type": "code",
   "execution_count": null,
   "id": "02cd6753-0f5b-4daf-ae48-f06cb1fd8030",
   "metadata": {
    "tags": []
   },
   "outputs": [],
   "source": [
    "function find_weak_runs(bool_list)\n",
    "    ranges = UnitRange{Int64}[]\n",
    "    grouped_runs = IterTools.groupby(identity, bool_list)\n",
    "    i = 0\n",
    "    for grouped_run in grouped_runs\n",
    "        if all(.!grouped_run)\n",
    "            i += 1\n",
    "            range_start = i\n",
    "            for x in grouped_run[2:end]\n",
    "                i += 1\n",
    "            end\n",
    "            range_stop = i\n",
    "            push!(ranges, range_start:range_stop)\n",
    "        else\n",
    "            for x in grouped_run\n",
    "                i += 1\n",
    "            end\n",
    "        end\n",
    "    end\n",
    "    return ranges\n",
    "end"
   ]
  },
  {
   "cell_type": "code",
   "execution_count": null,
   "id": "5ad9a299-6e9b-4b5b-ab43-bbd7f0d3ad72",
   "metadata": {
    "tags": []
   },
   "outputs": [],
   "source": [
    "function polish_fastx(fastx; k=Mycelia.assess_dnamer_saturation([fastx], plot=false))\n",
    "    kmer_type = Kmers.DNAKmer{k}\n",
    "    canonical_kmer_counts = Mycelia.count_canonical_kmers(kmer_type, fastx)\n",
    "    \n",
    "    \n",
    "    solid_threshold = floor(Statistics.mean(values(canonical_kmer_counts)))\n",
    "    # solid_threshold\n",
    "    @show solid_threshold\n",
    "    \n",
    "    stranded_kmer_counts = copy(canonical_kmer_counts)\n",
    "    for (canonical_kmer, count) in canonical_kmer_counts\n",
    "        stranded_kmer_counts[BioSequences.reverse_complement(canonical_kmer)] = count\n",
    "    end\n",
    "    sort!(stranded_kmer_counts)\n",
    "\n",
    "    stranded_kmer_graph = MetaGraphs.MetaDiGraph(length(stranded_kmer_counts))\n",
    "    MetaGraphs.set_prop!(stranded_kmer_graph, :k, k)\n",
    "    for (i, (stranded_kmer, count)) in enumerate(stranded_kmer_counts)\n",
    "        MetaGraphs.set_prop!(stranded_kmer_graph, i, :kmer, stranded_kmer)\n",
    "        MetaGraphs.set_prop!(stranded_kmer_graph, i, :count, count)\n",
    "    end\n",
    "    MetaGraphs.set_indexing_prop!(stranded_kmer_graph, :kmer)\n",
    "    # stranded_kmer_graph\n",
    "    records = collect(Mycelia.open_fastx(fastx))\n",
    "    for record in records\n",
    "        sequence = BioSequences.LongDNA{4}(FASTX.sequence(record))\n",
    "        sources = Kmers.EveryKmer{kmer_type}(sequence[1:end-1])\n",
    "        destinations = Kmers.EveryKmer{kmer_type}(sequence[2:end])\n",
    "        for (i, ((source_i, source), (destination_i, destination))) in enumerate(zip(sources, destinations))\n",
    "            source_vertex = stranded_kmer_graph[source, :kmer]\n",
    "            destination_vertex = stranded_kmer_graph[destination, :kmer]\n",
    "            edge = Graphs.Edge(source_vertex, destination_vertex)\n",
    "            observation = (record_identifier = FASTX.description(record), index = i, orientation = true)\n",
    "            if !Graphs.has_edge(stranded_kmer_graph, edge)\n",
    "                Graphs.add_edge!(stranded_kmer_graph, edge)\n",
    "                MetaGraphs.set_prop!(stranded_kmer_graph, edge, :observations, Set([observation]))\n",
    "            else\n",
    "                observations = push!(MetaGraphs.get_prop(stranded_kmer_graph, edge, :observations), observation)\n",
    "                MetaGraphs.set_prop!(stranded_kmer_graph, edge, :observations, observations)\n",
    "            end\n",
    "\n",
    "            # reverse_complement!\n",
    "            source_vertex = stranded_kmer_graph[BioSequences.reverse_complement(destination), :kmer]\n",
    "            destination_vertex = stranded_kmer_graph[BioSequences.reverse_complement(source), :kmer]\n",
    "            edge = Graphs.Edge(source_vertex, destination_vertex)\n",
    "            observation = (record_identifier = FASTX.description(record), index = i, orientation = false)\n",
    "            if !Graphs.has_edge(stranded_kmer_graph, edge)\n",
    "                Graphs.add_edge!(stranded_kmer_graph, edge)\n",
    "                MetaGraphs.set_prop!(stranded_kmer_graph, edge, :observations, Set([observation]))\n",
    "            else\n",
    "                observations = push!(MetaGraphs.get_prop(stranded_kmer_graph, edge, :observations), observation)\n",
    "                MetaGraphs.set_prop!(stranded_kmer_graph, edge, :observations, observations)\n",
    "            end\n",
    "        end\n",
    "    end\n",
    "    stranded_kmer_graph\n",
    "\n",
    "    unbranching_nodes = Int[]\n",
    "    for node in Graphs.vertices(stranded_kmer_graph)\n",
    "        if (Graphs.indegree(stranded_kmer_graph, node) == 1) && (Graphs.outdegree(stranded_kmer_graph, node) == 1)\n",
    "            push!(unbranching_nodes, node)\n",
    "        end\n",
    "    end\n",
    "    unvisited_unbranching_nodes = Set(unbranching_nodes)\n",
    "\n",
    "    unbranching_paths = []\n",
    "    while !isempty(unvisited_unbranching_nodes)\n",
    "        current_path = [rand(unvisited_unbranching_nodes)]\n",
    "        delete!(unvisited_unbranching_nodes, first(current_path))\n",
    "\n",
    "        outneighbors = Graphs.outneighbors(stranded_kmer_graph, last(current_path))\n",
    "\n",
    "        while length(outneighbors) == 1\n",
    "            outneighbor = first(outneighbors)\n",
    "            outneighbors_inneighbors = Graphs.inneighbors(stranded_kmer_graph, outneighbor)\n",
    "            if outneighbors_inneighbors == [last(current_path)]\n",
    "                push!(current_path, outneighbor)\n",
    "                delete!(unvisited_unbranching_nodes, outneighbor)\n",
    "                outneighbors = Graphs.outneighbors(stranded_kmer_graph, outneighbor)\n",
    "            else\n",
    "                @assert length(outneighbors_inneighbors) > 1\n",
    "                push!(current_path, outneighbor)\n",
    "                delete!(unvisited_unbranching_nodes, outneighbor)\n",
    "                break\n",
    "            end\n",
    "        end\n",
    "        # @show Graphs.outneighbors(stranded_kmer_graph, current_node)\n",
    "        inneighbors = Graphs.inneighbors(stranded_kmer_graph, first(current_path))\n",
    "        while length(inneighbors) == 1\n",
    "            inneighbor = first(inneighbors)\n",
    "            inneighbors_outneighbors = Graphs.outneighbors(stranded_kmer_graph, inneighbor)\n",
    "            if inneighbors_outneighbors == [first(current_path)]\n",
    "                pushfirst!(current_path, inneighbor)\n",
    "                delete!(unvisited_unbranching_nodes, inneighbor)\n",
    "                inneighbors = Graphs.inneighbors(stranded_kmer_graph, inneighbor)\n",
    "            else\n",
    "                @assert length(inneighbors_outneighbors) > 1\n",
    "                pushfirst!(current_path, inneighbor)\n",
    "                delete!(unvisited_unbranching_nodes, inneighbor)\n",
    "                break\n",
    "            end\n",
    "        end\n",
    "        push!(unbranching_paths, current_path)\n",
    "    end\n",
    "    unbranching_paths\n",
    "\n",
    "    unbranching_path_state_weights = [map(v -> MetaGraphs.get_prop(stranded_kmer_graph, v, :count), path) for path in unbranching_paths]\n",
    "\n",
    "    solid_unbranching_paths = unbranching_paths[minimum.(unbranching_path_state_weights) .>= solid_threshold]\n",
    "\n",
    "    # beginnings = filter(path -> Graphs.indegree(stranded_kmer_graph, first(path)) == 0, solid_unbranching_paths)\n",
    "    # ends = filter(path -> Graphs.outdegree(stranded_kmer_graph, last(path)) == 0, solid_unbranching_paths)\n",
    "    # mids = setdiff(setdiff(solid_unbranching_paths, beginnings), ends)\n",
    "    # branch_points = filter(v -> Graphs.indegree(stranded_kmer_graph, v) > 1 || Graphs.outdegree(stranded_kmer_graph, v) > 1, Graphs.vertices(stranded_kmer_graph))\n",
    "    # @assert all(x -> x in branch_points, first.(mids))\n",
    "    # @assert all(x -> x in branch_points, last.(mids))\n",
    "    # @assert all(x -> x in branch_points, first.(ends))\n",
    "    # @assert all(x -> x in branch_points, last.(beginnings))\n",
    "\n",
    "    solid_kmers = Set(collect(keys(filter(x -> x[2] >= solid_threshold, stranded_kmer_counts))))\n",
    "\n",
    "    solid_vertices = filter(v -> MetaGraphs.get_prop(stranded_kmer_graph, v, :count) >= solid_threshold, Graphs.vertices(stranded_kmer_graph))\n",
    "\n",
    "    solid_subgraph, vertex_map = Graphs.induced_subgraph(stranded_kmer_graph, solid_vertices)\n",
    "    MetaGraphs.set_indexing_prop!(solid_subgraph, :kmer)\n",
    "    distance_matrix = SparseArrays.spzeros(Graphs.nv(solid_subgraph), Graphs.nv(solid_subgraph))\n",
    "    for edge in Graphs.edges(solid_subgraph)\n",
    "        # @show edge\n",
    "        observations = MetaGraphs.get_prop(solid_subgraph, edge, :observations)\n",
    "        # @show length(observations)\n",
    "        distance_matrix[edge.src, edge.dst] = distance_matrix[edge.dst, edge.src] = 1/length(observations)\n",
    "    end\n",
    "    distance_matrix\n",
    "\n",
    "    updated_records = FASTX.FASTA.Record[]\n",
    "    for record in records\n",
    "        record_kmers = last.(collect(Kmers.EveryKmer{kmer_type}(BioSequences.LongDNA{4}(FASTX.sequence(record)))))\n",
    "        kmer_is_solid = map(kmer -> kmer in solid_kmers, record_kmers)\n",
    "        if all(kmer_is_solid)\n",
    "            push!(updated_records, record)\n",
    "        else\n",
    "            junctions_to_resample = find_weak_runs(kmer_is_solid)\n",
    "            while !isempty(junctions_to_resample)\n",
    "                junction_to_resample = first(junctions_to_resample)\n",
    "                start_index = first(junction_to_resample)\n",
    "                if start_index > 1\n",
    "                    start_index -= 1\n",
    "                end\n",
    "                stop_index = last(junction_to_resample)\n",
    "                if stop_index < length(record_kmers)\n",
    "                    stop_index += 1\n",
    "                end\n",
    "                # @show start_index\n",
    "                # @show stop_index\n",
    "\n",
    "                if first(junction_to_resample) == 1\n",
    "                    record_kmers = [record_kmers[stop_index:end]...]\n",
    "                elseif last(junction_to_resample) == length(record_kmers)\n",
    "                    record_kmers = [record_kmers[1:start_index]...]\n",
    "                else\n",
    "                    # @assert haskey(solid_kmers, start_index)\n",
    "                    # @assert haskey(solid_kmers, stop_index)\n",
    "                    start_vertex = solid_subgraph[record_kmers[start_index], :kmer]\n",
    "                    stop_vertex = solid_subgraph[record_kmers[stop_index], :kmer]\n",
    "                    replacement_path = Graphs.a_star(solid_subgraph, start_vertex, stop_vertex, distance_matrix)\n",
    "                    record_kmers = [record_kmers[1:start_index]..., [solid_subgraph[edge.dst, :kmer] for edge in replacement_path[1:end-1]]..., record_kmers[stop_index:end]...]\n",
    "                end\n",
    "                kmer_is_solid = map(kmer -> kmer in solid_kmers, record_kmers)\n",
    "                junctions_to_resample = find_weak_runs(kmer_is_solid)\n",
    "            end\n",
    "            new_sequence = BioSequences.LongDNA{4}(first(record_kmers))\n",
    "            for kmer in record_kmers[2:end]\n",
    "                push!(new_sequence, last(kmer))\n",
    "            end\n",
    "            push!(updated_records, FASTX.FASTA.Record(FASTX.description(record), new_sequence))\n",
    "        end\n",
    "    end\n",
    "    return (;updated_records, k)\n",
    "end"
   ]
  },
  {
   "cell_type": "code",
   "execution_count": null,
   "id": "e4fd4b5d-d9f8-4e49-885f-906238e437e9",
   "metadata": {
    "tags": []
   },
   "outputs": [],
   "source": [
    "kmer_type = Kmers.DNAKmer{k}\n",
    "kmer_counts = Mycelia.count_kmers(kmer_type, fasta)"
   ]
  },
  {
   "cell_type": "code",
   "execution_count": null,
   "id": "d41620f1-f4bd-4d06-810d-7bbdfb9b5c2f",
   "metadata": {
    "tags": []
   },
   "outputs": [],
   "source": [
    "\n",
    "kmer_indices = Dict(kmer => i for (i, kmer) in enumerate(keys(kmer_counts)))"
   ]
  },
  {
   "cell_type": "code",
   "execution_count": null,
   "id": "1ce7418b-9f71-434b-a768-c060a3cf24b3",
   "metadata": {
    "tags": []
   },
   "outputs": [],
   "source": [
    "total_kmers = sum(values(kmer_counts))"
   ]
  },
  {
   "cell_type": "code",
   "execution_count": null,
   "id": "74dc7817-80ec-451c-ac33-45db29166adc",
   "metadata": {
    "tags": []
   },
   "outputs": [],
   "source": [
    "state_likelihoods = Dict(kmer => kmer_count / total_kmers for (kmer, kmer_count) in kmer_counts)"
   ]
  },
  {
   "cell_type": "code",
   "execution_count": null,
   "id": "d5628fc0-1321-4a57-8e41-de1ddab8b490",
   "metadata": {
    "tags": []
   },
   "outputs": [],
   "source": [
    "total_states = length(state_likelihoods)"
   ]
  },
  {
   "cell_type": "code",
   "execution_count": null,
   "id": "c3ae31dd-434e-4f6f-a310-1c03e1e9cd86",
   "metadata": {
    "tags": []
   },
   "outputs": [],
   "source": [
    "records = collect(Mycelia.open_fastx(fasta))"
   ]
  },
  {
   "cell_type": "code",
   "execution_count": null,
   "id": "8b94a539-cfa2-4fbd-9bde-cd5027884138",
   "metadata": {
    "tags": []
   },
   "outputs": [],
   "source": [
    "transition_likelihoods = SparseArrays.spzeros(total_states, total_states)\n",
    "for record in records\n",
    "    sequence = BioSequences.LongDNA{4}(FASTX.sequence(record))\n",
    "    sources = Kmers.EveryKmer{kmer_type}(sequence[1:end-1])\n",
    "    destinations = Kmers.EveryKmer{kmer_type}(sequence[2:end])\n",
    "    for ((source_i, source), (destination_i, destination)) in zip(sources, destinations)\n",
    "        source_index = kmer_indices[source]\n",
    "        destination_index = kmer_indices[destination]\n",
    "        transition_likelihoods[source_index, destination_index] += 1\n",
    "    end\n",
    "end\n",
    "sum(transition_likelihoods)"
   ]
  },
  {
   "cell_type": "code",
   "execution_count": null,
   "id": "f7ad93cf-06d3-43ea-bffa-075da1e4447f",
   "metadata": {
    "tags": []
   },
   "outputs": [],
   "source": [
    "for source in 1:total_states\n",
    "    # @show source\n",
    "    outgoing_transition_counts = transition_likelihoods[source, :]\n",
    "    if sum(outgoing_transition_counts) > 0\n",
    "        transition_likelihoods[source, :] .= transition_likelihoods[source, :] ./ sum(transition_likelihoods[source, :]) \n",
    "    end\n",
    "end\n",
    "sum(transition_likelihoods)"
   ]
  },
  {
   "cell_type": "code",
   "execution_count": null,
   "id": "d8c6efc9-4d88-46dd-a542-902da3dc4beb",
   "metadata": {},
   "outputs": [],
   "source": [
    "\n",
    "\n",
    "    unbranching_nodes = Int[]\n",
    "    for node in Graphs.vertices(stranded_kmer_graph)\n",
    "        if (Graphs.indegree(stranded_kmer_graph, node) == 1) && (Graphs.outdegree(stranded_kmer_graph, node) == 1)\n",
    "            push!(unbranching_nodes, node)\n",
    "        end\n",
    "    end\n",
    "    unvisited_unbranching_nodes = Set(unbranching_nodes)\n",
    "\n",
    "    unbranching_paths = []\n",
    "    while !isempty(unvisited_unbranching_nodes)\n",
    "        current_path = [rand(unvisited_unbranching_nodes)]\n",
    "        delete!(unvisited_unbranching_nodes, first(current_path))\n",
    "\n",
    "        outneighbors = Graphs.outneighbors(stranded_kmer_graph, last(current_path))\n",
    "\n",
    "        while length(outneighbors) == 1\n",
    "            outneighbor = first(outneighbors)\n",
    "            outneighbors_inneighbors = Graphs.inneighbors(stranded_kmer_graph, outneighbor)\n",
    "            if outneighbors_inneighbors == [last(current_path)]\n",
    "                push!(current_path, outneighbor)\n",
    "                delete!(unvisited_unbranching_nodes, outneighbor)\n",
    "                outneighbors = Graphs.outneighbors(stranded_kmer_graph, outneighbor)\n",
    "            else\n",
    "                @assert length(outneighbors_inneighbors) > 1\n",
    "                push!(current_path, outneighbor)\n",
    "                delete!(unvisited_unbranching_nodes, outneighbor)\n",
    "                break\n",
    "            end\n",
    "        end\n",
    "        # @show Graphs.outneighbors(stranded_kmer_graph, current_node)\n",
    "        inneighbors = Graphs.inneighbors(stranded_kmer_graph, first(current_path))\n",
    "        while length(inneighbors) == 1\n",
    "            inneighbor = first(inneighbors)\n",
    "            inneighbors_outneighbors = Graphs.outneighbors(stranded_kmer_graph, inneighbor)\n",
    "            if inneighbors_outneighbors == [first(current_path)]\n",
    "                pushfirst!(current_path, inneighbor)\n",
    "                delete!(unvisited_unbranching_nodes, inneighbor)\n",
    "                inneighbors = Graphs.inneighbors(stranded_kmer_graph, inneighbor)\n",
    "            else\n",
    "                @assert length(inneighbors_outneighbors) > 1\n",
    "                pushfirst!(current_path, inneighbor)\n",
    "                delete!(unvisited_unbranching_nodes, inneighbor)\n",
    "                break\n",
    "            end\n",
    "        end\n",
    "        push!(unbranching_paths, current_path)\n",
    "    end\n",
    "    unbranching_paths\n",
    "\n",
    "    unbranching_path_state_weights = [map(v -> MetaGraphs.get_prop(stranded_kmer_graph, v, :count), path) for path in unbranching_paths]\n",
    "\n",
    "    solid_unbranching_paths = unbranching_paths[minimum.(unbranching_path_state_weights) .>= solid_threshold]\n",
    "\n",
    "    # beginnings = filter(path -> Graphs.indegree(stranded_kmer_graph, first(path)) == 0, solid_unbranching_paths)\n",
    "    # ends = filter(path -> Graphs.outdegree(stranded_kmer_graph, last(path)) == 0, solid_unbranching_paths)\n",
    "    # mids = setdiff(setdiff(solid_unbranching_paths, beginnings), ends)\n",
    "    # branch_points = filter(v -> Graphs.indegree(stranded_kmer_graph, v) > 1 || Graphs.outdegree(stranded_kmer_graph, v) > 1, Graphs.vertices(stranded_kmer_graph))\n",
    "    # @assert all(x -> x in branch_points, first.(mids))\n",
    "    # @assert all(x -> x in branch_points, last.(mids))\n",
    "    # @assert all(x -> x in branch_points, first.(ends))\n",
    "    # @assert all(x -> x in branch_points, last.(beginnings))\n",
    "\n",
    "    solid_kmers = Set(collect(keys(filter(x -> x[2] >= solid_threshold, stranded_kmer_counts))))\n",
    "\n",
    "    solid_vertices = filter(v -> MetaGraphs.get_prop(stranded_kmer_graph, v, :count) >= solid_threshold, Graphs.vertices(stranded_kmer_graph))\n",
    "\n",
    "    solid_subgraph, vertex_map = Graphs.induced_subgraph(stranded_kmer_graph, solid_vertices)\n",
    "    MetaGraphs.set_indexing_prop!(solid_subgraph, :kmer)\n",
    "    distance_matrix = SparseArrays.spzeros(Graphs.nv(solid_subgraph), Graphs.nv(solid_subgraph))\n",
    "    for edge in Graphs.edges(solid_subgraph)\n",
    "        # @show edge\n",
    "        observations = MetaGraphs.get_prop(solid_subgraph, edge, :observations)\n",
    "        # @show length(observations)\n",
    "        distance_matrix[edge.src, edge.dst] = distance_matrix[edge.dst, edge.src] = 1/length(observations)\n",
    "    end\n",
    "    distance_matrix\n",
    "\n",
    "    updated_records = FASTX.FASTA.Record[]\n",
    "    for record in records\n",
    "        record_kmers = last.(collect(Kmers.EveryKmer{kmer_type}(BioSequences.LongDNA{4}(FASTX.sequence(record)))))\n",
    "        kmer_is_solid = map(kmer -> kmer in solid_kmers, record_kmers)\n",
    "        if all(kmer_is_solid)\n",
    "            push!(updated_records, record)\n",
    "        else\n",
    "            junctions_to_resample = find_weak_runs(kmer_is_solid)\n",
    "            while !isempty(junctions_to_resample)\n",
    "                junction_to_resample = first(junctions_to_resample)\n",
    "                start_index = first(junction_to_resample)\n",
    "                if start_index > 1\n",
    "                    start_index -= 1\n",
    "                end\n",
    "                stop_index = last(junction_to_resample)\n",
    "                if stop_index < length(record_kmers)\n",
    "                    stop_index += 1\n",
    "                end\n",
    "                # @show start_index\n",
    "                # @show stop_index\n",
    "\n",
    "                if first(junction_to_resample) == 1\n",
    "                    record_kmers = [record_kmers[stop_index:end]...]\n",
    "                elseif last(junction_to_resample) == length(record_kmers)\n",
    "                    record_kmers = [record_kmers[1:start_index]...]\n",
    "                else\n",
    "                    # @assert haskey(solid_kmers, start_index)\n",
    "                    # @assert haskey(solid_kmers, stop_index)\n",
    "                    start_vertex = solid_subgraph[record_kmers[start_index], :kmer]\n",
    "                    stop_vertex = solid_subgraph[record_kmers[stop_index], :kmer]\n",
    "                    replacement_path = Graphs.a_star(solid_subgraph, start_vertex, stop_vertex, distance_matrix)\n",
    "                    record_kmers = [record_kmers[1:start_index]..., [solid_subgraph[edge.dst, :kmer] for edge in replacement_path[1:end-1]]..., record_kmers[stop_index:end]...]\n",
    "                end\n",
    "                kmer_is_solid = map(kmer -> kmer in solid_kmers, record_kmers)\n",
    "                junctions_to_resample = find_weak_runs(kmer_is_solid)\n",
    "            end\n",
    "            new_sequence = BioSequences.LongDNA{4}(first(record_kmers))\n",
    "            for kmer in record_kmers[2:end]\n",
    "                push!(new_sequence, last(kmer))\n",
    "            end\n",
    "            push!(updated_records, FASTX.FASTA.Record(FASTX.description(record), new_sequence))\n",
    "        end\n",
    "    end\n",
    "    return (;updated_records, k)"
   ]
  },
  {
   "cell_type": "code",
   "execution_count": null,
   "id": "555d8c18-d04d-458c-81ce-020da48bc91d",
   "metadata": {},
   "outputs": [],
   "source": []
  },
  {
   "cell_type": "code",
   "execution_count": null,
   "id": "4a46b6c0-8700-41aa-8cac-dd8552b949e6",
   "metadata": {
    "tags": []
   },
   "outputs": [],
   "source": [
    "Random.seed!(20240209)\n",
    "genome = BioSequences.randdnaseq(100)\n",
    "initial_records = [FASTX.FASTA.Record(Random.randstring(), Mycelia.observe(genome, error_rate=0.01)) for i in 1:100]\n",
    "prior_records = initial_records\n",
    "fasta = Mycelia.write_fasta(records = prior_records, outfile = joinpath(working_dir, Random.randstring() * \".fna\"))\n",
    "updated_records, k = polish_fastx(fasta)\n",
    "prior_records == updated_records"
   ]
  },
  {
   "cell_type": "code",
   "execution_count": null,
   "id": "6b30405c-0dc1-4ee8-8732-95520350c016",
   "metadata": {
    "tags": []
   },
   "outputs": [],
   "source": [
    "prior_records = updated_records\n",
    "temp_fasta = Mycelia.write_fasta(records = prior_records)\n",
    "updated_records, k = polish_fastx(temp_fasta, k = Primes.nextprime(k+1))\n",
    "prior_records == updated_records"
   ]
  },
  {
   "cell_type": "code",
   "execution_count": null,
   "id": "f51b61d7-6fb3-49b8-9294-6182577e8b9f",
   "metadata": {
    "tags": []
   },
   "outputs": [],
   "source": [
    "prior_records = updated_records\n",
    "temp_fasta = Mycelia.write_fasta(records = prior_records)\n",
    "updated_records, k = polish_fastx(temp_fasta, k = Primes.nextprime(k+1))\n",
    "prior_records == updated_records"
   ]
  },
  {
   "cell_type": "code",
   "execution_count": null,
   "id": "f1929fb0-ec14-4dbf-ac8c-37e4365de95c",
   "metadata": {
    "tags": []
   },
   "outputs": [],
   "source": [
    "prior_records = updated_records\n",
    "temp_fasta = Mycelia.write_fasta(records = prior_records)\n",
    "updated_records, k = polish_fastx(temp_fasta, k = Primes.nextprime(k+1))\n",
    "prior_records == updated_records"
   ]
  },
  {
   "cell_type": "code",
   "execution_count": null,
   "id": "2f6ba33e-141f-4ac3-87cc-d871cbfb53a2",
   "metadata": {
    "tags": []
   },
   "outputs": [],
   "source": [
    "fasta"
   ]
  },
  {
   "cell_type": "code",
   "execution_count": null,
   "id": "579bac8e-ae44-4275-91da-2f206ca877ac",
   "metadata": {
    "tags": []
   },
   "outputs": [],
   "source": [
    "updated_fasta = Mycelia.write_fasta(records = updated_records, outfile = fasta * \".updated.fna\")"
   ]
  },
  {
   "cell_type": "code",
   "execution_count": null,
   "id": "6b307f4e-8437-4504-a31e-c6139b9bc98c",
   "metadata": {},
   "outputs": [],
   "source": [
    "#NEED TO FIX CANONICAL KMER GRAPHS AND GFA OUTPUT - THE REST SEEMS CORRECT"
   ]
  },
  {
   "cell_type": "code",
   "execution_count": null,
   "id": "70989874-ddde-4ace-8037-6a4a2ff9bd1d",
   "metadata": {},
   "outputs": [],
   "source": [
    "k = Primes.nextprime(k+1)\n",
    "# make my own kmer graph\n",
    "assembly_graph = Mycelia.fastx_to_kmer_graph(Kmers.DNAKmer{k}, updated_fasta)\n",
    "gfa_file = updated_fasta * \".gfa\"\n",
    "Mycelia.graph_to_gfa(graph=assembly_graph, outfile=gfa_file)\n",
    "image = gfa_file * \".mycelia.gfa.jpg\"\n",
    "# run(`chmod +x $(homedir())/software/bin/Bandage`)\n",
    "run(`$(homedir())/software/bin/Bandage image $(gfa_file) $(image)`)"
   ]
  }
 ],
 "metadata": {
  "kernelspec": {
   "display_name": "Julia 1.6.7",
   "language": "julia",
   "name": "julia-1.6"
  },
  "language_info": {
   "file_extension": ".jl",
   "mimetype": "application/julia",
   "name": "julia",
   "version": "1.6.7"
  }
 },
 "nbformat": 4,
 "nbformat_minor": 5
}
