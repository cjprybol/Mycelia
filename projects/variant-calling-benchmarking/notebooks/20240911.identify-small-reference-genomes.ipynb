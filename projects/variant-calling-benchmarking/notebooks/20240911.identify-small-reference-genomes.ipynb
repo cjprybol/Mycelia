{
 "cells": [
  {
   "cell_type": "code",
   "execution_count": null,
   "id": "11875bd2-f458-4064-8877-9472f0507fe7",
   "metadata": {},
   "outputs": [],
   "source": [
    "# if hit plotting library issues, try resetting LD path for julia\n",
    "# can set in ~/.local/share/jupyter/kernels/\n",
    "haskey(ENV, \"LD_LIBRARY_PATH\") && @assert ENV[\"LD_LIBRARY_PATH\"] == \"\"\n",
    "\n",
    "import Pkg\n",
    "# use temp or named environment to avoid package clashes across development projects\n",
    "Pkg.activate(;temp=true)\n",
    "Pkg.add(\"Revise\")\n",
    "import Revise\n",
    "\n",
    "Pkg.develop(path=\"$(homedir())/workspace/Mycelia\")\n",
    "import Mycelia\n",
    "\n",
    "pkgs = [\n",
    "    \"DataFrames\"\n",
    "]\n",
    "Pkg.add(pkgs)\n",
    "for pkg in pkgs\n",
    "    eval(Meta.parse(\"import $pkg\"))\n",
    "end"
   ]
  },
  {
   "cell_type": "code",
   "execution_count": null,
   "id": "128cc1e1-929a-42e1-8376-4c81832fd40c",
   "metadata": {
    "tags": []
   },
   "outputs": [],
   "source": [
    "PROJECT_BASEDIR = dirname(pwd())\n",
    "ncbi_metadata = Mycelia.load_refseq_metadata()\n",
    "\n",
    "filtered_ncbi_metadata = \n",
    "ncbi_metadata[\n",
    "    (ncbi_metadata[!, \"excluded_from_refseq\"] .== \"na\") .&\n",
    "    (ncbi_metadata[!, \"genome_rep\"] .== \"Full\") .&\n",
    "    map(x -> x in Set([\"Chromosome\", \"Complete Genome\"]), ncbi_metadata[!, \"assembly_level\"]) .&\n",
    "    map(x -> x in Set([\"reference genome\", \"representative genome\"]), ncbi_metadata[!, \"refseq_category\"]) .&\n",
    "    (ncbi_metadata[!, \"genome_size\"] .> 10_000), :]\n",
    "\n",
    "smallest_genomes = DataFrames.DataFrame()\n",
    "for group_dataframe in DataFrames.groupby(filtered_ncbi_metadata, \"group\")\n",
    "    smallest_genome_row = sort(group_dataframe, \"genome_size\")[1, :]\n",
    "    push!(smallest_genomes, smallest_genome_row)\n",
    "end\n",
    "sort!(smallest_genomes, \"genome_size\")"
   ]
  },
  {
   "cell_type": "code",
   "execution_count": null,
   "id": "e910c260-7dc2-44e5-b284-ef302ca5dc99",
   "metadata": {},
   "outputs": [],
   "source": [
    "selected_genomes = smallest_genomes[1:3, :]"
   ]
  },
  {
   "cell_type": "code",
   "execution_count": null,
   "id": "7155b16e-f900-4ad0-8949-7dfdc63984b7",
   "metadata": {
    "tags": []
   },
   "outputs": [],
   "source": [
    "data_dir = joinpath(PROJECT_BASEDIR, \"data\")\n",
    "genome_dir = mkpath(joinpath(data_dir, \"genomes\"))\n",
    "for row in DataFrames.eachrow(selected_genomes)\n",
    "    records = collect(Mycelia.get_sequence(db=\"nuccore\", ftp=Mycelia.ncbi_ftp_path_to_url(ftp_path=row[\"ftp_path\"], extension=\"genomic.fna.gz\"))) \n",
    "    outfile = joinpath(genome_dir, row[\"#assembly_accession\"] * \".fna\")\n",
    "    Mycelia.write_fasta(outfile = outfile, records = records)\n",
    "end"
   ]
  }
 ],
 "metadata": {
  "kernelspec": {
   "display_name": "julia 1.10.5",
   "language": "julia",
   "name": "julia-1.10"
  },
  "language_info": {
   "file_extension": ".jl",
   "mimetype": "application/julia",
   "name": "julia",
   "version": "1.10.5"
  }
 },
 "nbformat": 4,
 "nbformat_minor": 5
}
