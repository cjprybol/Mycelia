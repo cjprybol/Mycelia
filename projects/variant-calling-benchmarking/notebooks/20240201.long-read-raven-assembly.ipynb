{
 "cells": [
  {
   "cell_type": "code",
   "execution_count": null,
   "id": "335bf35f-c55e-4857-83f0-ed03dc666f4e",
   "metadata": {
    "tags": []
   },
   "outputs": [],
   "source": [
    "# if hit plotting library issues, try resetting LD path for julia\n",
    "# can set in ~/.local/share/jupyter/kernels/\n",
    "# @assert ENV[\"LD_LIBRARY_PATH\"] == \"\"\n",
    "import Pkg\n",
    "pkgs = [\n",
    "    \"Revise\",\n",
    "    # \"FASTX\",\n",
    "    # # \"VariantCallFormat\",\n",
    "    # \"StatsBase\",\n",
    "    # \"Distributions\",\n",
    "    # \"StatsPlots\",\n",
    "    # \"Random\",\n",
    "    # \"Dates\",\n",
    "    # \"DataFrames\",\n",
    "    # \"BioSequences\",\n",
    "    # \"Conda\",\n",
    "    # \"Downloads\"\n",
    "]\n",
    "# Pkg.add(pkgs)\n",
    "for pkg in pkgs\n",
    "    eval(Meta.parse(\"import $pkg\"))\n",
    "end\n",
    "# Pkg.develop(path=\"/global/cfs/projectdirs/m4269/cjprybol/Mycelia\")\n",
    "# Pkg.develop(path=\"../../..\")\n",
    "import Mycelia"
   ]
  },
  {
   "cell_type": "code",
   "execution_count": null,
   "id": "128cc1e1-929a-42e1-8376-4c81832fd40c",
   "metadata": {
    "tags": []
   },
   "outputs": [],
   "source": [
    "PROJECT_BASEDIR = dirname(pwd())\n",
    "data_dir = joinpath(PROJECT_BASEDIR, \"data\")\n",
    "genome_dir = mkpath(joinpath(data_dir, \"genomes\"))"
   ]
  },
  {
   "cell_type": "code",
   "execution_count": null,
   "id": "339870f5-2d9c-49ab-a2af-f1220d63fd83",
   "metadata": {
    "tags": []
   },
   "outputs": [],
   "source": [
    "long_read_fastqs = sort(filter(x -> occursin(r\"\\.filtlong\\.fq\\.gz$\", x), readdir(genome_dir, join=true)), by=x->filesize(x))"
   ]
  },
  {
   "cell_type": "code",
   "execution_count": null,
   "id": "930ad951-a808-41e4-8a7d-967a2d9dfd9c",
   "metadata": {},
   "outputs": [],
   "source": [
    "threads = 8\n",
    "for long_read_fastq in long_read_fastqs[end:end]\n",
    "    outdir = mkpath(long_read_fastq * \"_raven\")\n",
    "    outfile = joinpath(outdir, \"assembly.fna\")\n",
    "    if !isfile(outfile) || (filesize(outfile) == 0)\n",
    "        # --graphical-fragment-assembly\n",
    "        @show basename(long_read_fastq)\n",
    "        cmd =\n",
    "        \"\"\"\n",
    "        $(Mycelia.MAMBA) run --live-stream -n raven-assembler raven --threads $(threads) $(long_read_fastq) > $(outfile)\n",
    "        \"\"\"\n",
    "        Mycelia.nersc_sbatch(\n",
    "            job_name = \"$(basename(outdir))\",\n",
    "            mail_user = \"cameron.prybol@gmail.com\",\n",
    "            logdir = mkpath(\"$(homedir())/workspace/slurmlogs\"),\n",
    "            qos = \"shared\",\n",
    "            cpus_per_task= threads,\n",
    "            cmd = cmd)\n",
    "        # run(`$(Mycelia.MAMBA) run --live-stream -n raven-assembler raven --threads $(threads) $(long_read_fastq)`)\n",
    "    else\n",
    "        @info \"$(outfile) already present...\"\n",
    "    end\n",
    "end"
   ]
  }
 ],
 "metadata": {
  "kernelspec": {
   "display_name": "Julia 1.6.7",
   "language": "julia",
   "name": "julia-1.6"
  },
  "language_info": {
   "file_extension": ".jl",
   "mimetype": "application/julia",
   "name": "julia",
   "version": "1.6.7"
  }
 },
 "nbformat": 4,
 "nbformat_minor": 5
}
