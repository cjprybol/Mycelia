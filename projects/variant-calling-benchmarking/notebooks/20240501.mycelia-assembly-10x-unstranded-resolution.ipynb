{
 "cells": [
  {
   "cell_type": "code",
   "execution_count": null,
   "id": "335bf35f-c55e-4857-83f0-ed03dc666f4e",
   "metadata": {
    "tags": []
   },
   "outputs": [],
   "source": [
    "# if hit plotting library issues, try resetting LD path for julia\n",
    "# can set in ~/.local/share/jupyter/kernels/\n",
    "haskey(ENV, \"LD_LIBRARY_PATH\") && @assert ENV[\"LD_LIBRARY_PATH\"] == \"\"\n",
    "import Pkg\n",
    "pkgs = [\n",
    "    \"Revise\",\n",
    "    \"FASTX\",\n",
    "    \"BioSequences\",\n",
    "    \"Kmers\",\n",
    "    \"Graphs\",\n",
    "    \"MetaGraphs\",\n",
    "    \"SparseArrays\",\n",
    "    \"ProgressMeter\",\n",
    "    \"Distributions\",\n",
    "    \"HiddenMarkovModels\",\n",
    "    \"BioAlignments\",\n",
    "    \"StatsBase\",\n",
    "    \"Random\",\n",
    "    \"StatsPlots\",\n",
    "    \"Statistics\",\n",
    "    # \"GraphMakie\",\n",
    "    \"IterTools\",\n",
    "    \"Primes\",\n",
    "    \"OnlineStats\",\n",
    "    \"IteratorSampling\",\n",
    "    \"HypothesisTests\",\n",
    "    \"Clustering\",\n",
    "    \"Distances\",\n",
    "    \"BioAlignments\",\n",
    "    \"Statistics\",\n",
    "    \"Primes\"\n",
    "]\n",
    "# Pkg.add(pkgs)\n",
    "for pkg in pkgs\n",
    "    eval(Meta.parse(\"import $pkg\"))\n",
    "end\n",
    "# Pkg.develop(path=\"/global/cfs/projectdirs/m4269/cjprybol/Mycelia\")\n",
    "# Pkg.develop(path=\"../../..\")\n",
    "import Mycelia"
   ]
  },
  {
   "cell_type": "code",
   "execution_count": null,
   "id": "128cc1e1-929a-42e1-8376-4c81832fd40c",
   "metadata": {
    "tags": []
   },
   "outputs": [],
   "source": [
    "PROJECT_BASEDIR = dirname(pwd())\n",
    "data_dir = joinpath(PROJECT_BASEDIR, \"data\")\n",
    "genome_dir = mkpath(joinpath(data_dir, \"genomes\"))"
   ]
  },
  {
   "cell_type": "code",
   "execution_count": null,
   "id": "00736937-92d0-4cb6-a933-0cb068457ad1",
   "metadata": {
    "tags": []
   },
   "outputs": [],
   "source": [
    "working_dir = joinpath(data_dir, \"test\")\n",
    "mkpath(working_dir)"
   ]
  },
  {
   "cell_type": "code",
   "execution_count": null,
   "id": "2e294dc9-dc3d-4a15-8e15-70e649200874",
   "metadata": {
    "tags": []
   },
   "outputs": [],
   "source": [
    "# short_read_sets = unique(map(x -> match(r\"^(.+\\.\\d+x)\\.\", x).captures[1], filter(x -> occursin(r\"\\.fna\\.art\", x) && occursin(r\"\\.fq\\.gz\", x) && !occursin(\"trimming_report\", x) && !occursin(\"_val_\", x), sort(readdir(genome_dir, join=true), by=x->filesize(x)))))\n",
    "# # forward = short_read_set * \".1_val_1.fq.gz\"\n",
    "# # reverse = short_read_set * \".2_val_2.fq.gz\""
   ]
  },
  {
   "cell_type": "code",
   "execution_count": null,
   "id": "c4ab3b27-b540-4f4d-8bd3-093e58e0304d",
   "metadata": {
    "tags": []
   },
   "outputs": [],
   "source": [
    "long_read_fastqs = sort(filter(x -> occursin(r\"\\.filtlong\\.fq\\.gz$\", x), readdir(genome_dir, join=true)), by=x->filesize(x))\n",
    "fastq = long_read_fastqs[1]"
   ]
  },
  {
   "cell_type": "code",
   "execution_count": null,
   "id": "9de34fec-79aa-419f-a1a1-dd7dfe664a7b",
   "metadata": {
    "tags": []
   },
   "outputs": [],
   "source": [
    "# reference_fasta = replace(fastq, r\"\\.badread.*\" => \"\")"
   ]
  },
  {
   "cell_type": "code",
   "execution_count": null,
   "id": "61eb94ad-bbf5-4d29-aaa6-e96941303ff6",
   "metadata": {
    "tags": []
   },
   "outputs": [],
   "source": [
    "function find_resampling_stretches(;record_kmer_solidity, solid_branching_kmer_indices)\n",
    "    indices = findall(.!record_kmer_solidity)  # Find the indices of false values\n",
    "    if isempty(indices)\n",
    "        return UnitRange{Int64}[]\n",
    "    end\n",
    "    \n",
    "    diffs = diff(indices)  # Calculate the differences between consecutive indices\n",
    "    # @show diffs\n",
    "    range_starts = [indices[1]]  # Start with the first false index\n",
    "    range_ends = Int[]\n",
    "    \n",
    "    for (i, d) in enumerate(diffs)\n",
    "        if d > 1\n",
    "            push!(range_ends, indices[i])\n",
    "            push!(range_starts, indices[i+1])\n",
    "        end\n",
    "    end\n",
    "    \n",
    "    push!(range_ends, indices[end])  # Add the last false index as a range end\n",
    "    \n",
    "    low_quality_runs = [(start, stop) for (start, stop) in zip(range_starts, range_ends)]\n",
    "    \n",
    "    resampling_stretches = UnitRange{Int64}[]\n",
    "    \n",
    "    for low_quality_run in low_quality_runs\n",
    "        unders = filter(solid_branching_kmer -> solid_branching_kmer < first(low_quality_run), solid_branching_kmer_indices)\n",
    "        overs = filter(solid_branching_kmer -> solid_branching_kmer > last(low_quality_run), solid_branching_kmer_indices)\n",
    "        if isempty(overs) || isempty(unders)\n",
    "            continue\n",
    "        else\n",
    "            nearest_under = maximum(unders)\n",
    "            nearest_over = minimum(overs)\n",
    "            push!(resampling_stretches, nearest_under:nearest_over)\n",
    "        end\n",
    "    end\n",
    "    if !allunique(resampling_stretches)\n",
    "        resampling_stretches = unique!(resampling_stretches)\n",
    "    end\n",
    "    return resampling_stretches\n",
    "end"
   ]
  },
  {
   "cell_type": "code",
   "execution_count": null,
   "id": "d5e75667-f28c-470a-922c-34cf64227eb2",
   "metadata": {
    "tags": []
   },
   "outputs": [],
   "source": [
    "function fastq_record(;identifier, sequence, quality_scores)\n",
    "    # Fastx wont parse anything higher than 93\n",
    "    quality_scores = min.(quality_scores, 93)\n",
    "    record_string = join([\"@\" * identifier, sequence, \"+\", join([Char(x+33) for x in quality_scores])], \"\\n\")\n",
    "    return FASTX.parse(FASTX.FASTQRecord, record_string)\n",
    "end"
   ]
  },
  {
   "cell_type": "code",
   "execution_count": null,
   "id": "8f2671df-62ab-4f6a-be06-a70dfc1f4438",
   "metadata": {
    "tags": []
   },
   "outputs": [],
   "source": [
    "function process_fastq_record(;record, kmer_graph, yen_k_shortest_paths_and_weights, yen_k=7)\n",
    "    ordered_kmers = MetaGraphs.get_prop(kmer_graph, :ordered_kmers)\n",
    "    likely_valid_kmers = Set(ordered_kmers[MetaGraphs.get_prop(kmer_graph, :likely_valid_kmer_indices)])\n",
    "    kmer_to_index_map = MetaGraphs.get_prop(kmer_graph, :kmer_indices)\n",
    "    branching_nodes_set = MetaGraphs.get_prop(kmer_graph, :branching_nodes)\n",
    "    assembly_k = MetaGraphs.get_prop(kmer_graph, :assembly_k)\n",
    "    transition_likelihoods = MetaGraphs.get_prop(kmer_graph, :transition_likelihoods)\n",
    "    kmer_mean_quality = MetaGraphs.get_prop(kmer_graph, :kmer_mean_quality)\n",
    "    kmer_total_quality = MetaGraphs.get_prop(kmer_graph, :kmer_total_quality)\n",
    "    \n",
    "    new_record_identifier = FASTX.identifier(record) * \".k$(assembly_k)\"\n",
    "    record_sequence = BioSequences.LongDNA{4}(FASTX.sequence(record))\n",
    "\n",
    "    kmer_type = Kmers.DNAKmer{assembly_k}\n",
    "    record_kmers = last.(collect(Kmers.EveryKmer{kmer_type}(record_sequence)))\n",
    "    record_quality_scores = collect(FASTX.quality_scores(record))\n",
    "    record_kmer_quality_scores = [record_quality_scores[i:i+assembly_k-1] for i in 1:length(record_quality_scores)-assembly_k+1]\n",
    "    \n",
    "    record_kmer_solidity = map(kmer -> kmer in likely_valid_kmers, record_kmers)\n",
    "    record_branching_kmers = [kmer_to_index_map[kmer] in branching_nodes_set for kmer in record_kmers]\n",
    "    record_solid_branching_kmers = record_kmer_solidity .& record_branching_kmers\n",
    "    \n",
    "    # trim beginning of fastq\n",
    "    initial_solid_kmer = findfirst(record_kmer_solidity)\n",
    "    if isnothing(initial_solid_kmer)\n",
    "        return record\n",
    "    elseif initial_solid_kmer > 1\n",
    "        record_kmers = record_kmers[initial_solid_kmer:end]\n",
    "        record_kmer_quality_scores = record_kmer_quality_scores[initial_solid_kmer:end]\n",
    "        record_kmer_solidity = map(kmer -> kmer in likely_valid_kmers, record_kmers)\n",
    "        record_branching_kmers = [kmer_to_index_map[kmer] in branching_nodes_set for kmer in record_kmers]\n",
    "        record_solid_branching_kmers = record_kmer_solidity .& record_branching_kmers\n",
    "    end\n",
    "    initial_solid_kmer = 1\n",
    "    \n",
    "    # trim end of fastq\n",
    "    last_solid_kmer = findlast(record_kmer_solidity)\n",
    "    if last_solid_kmer != length(record_kmer_solidity)\n",
    "        record_kmers = record_kmers[1:last_solid_kmer]\n",
    "        record_kmer_quality_scores = record_kmer_quality_scores[1:last_solid_kmer]\n",
    "        record_kmer_solidity = map(kmer -> kmer in likely_valid_kmers, record_kmers)\n",
    "        record_branching_kmers = [kmer_to_index_map[kmer] in branching_nodes_set for kmer in record_kmers]\n",
    "        record_solid_branching_kmers = record_kmer_solidity .& record_branching_kmers\n",
    "    end\n",
    "    \n",
    "    # identify low quality runs and the solid branchpoints we will use for resampling\n",
    "    solid_branching_kmer_indices = findall(record_solid_branching_kmers)\n",
    "    resampling_stretches = find_resampling_stretches(;record_kmer_solidity, solid_branching_kmer_indices)\n",
    "\n",
    "    # nothing to do\n",
    "    if isempty(resampling_stretches)\n",
    "        return record\n",
    "    end\n",
    "    trusted_range = 1:max(first(first(resampling_stretches))-1, 1)\n",
    "    \n",
    "    new_record_kmers = record_kmers[trusted_range]\n",
    "    new_record_kmer_qualities = record_kmer_quality_scores[trusted_range]\n",
    "    \n",
    "    \n",
    "    for (i, resampling_stretch) in enumerate(resampling_stretches)\n",
    "        starting_solid_kmer = record_kmers[first(resampling_stretch)]\n",
    "        ending_solid_kmer = record_kmers[last(resampling_stretch)]\n",
    "        \n",
    "        current_quality_scores = record_quality_scores[resampling_stretch]\n",
    "        u = kmer_to_index_map[starting_solid_kmer]\n",
    "        v = kmer_to_index_map[ending_solid_kmer]\n",
    "        if !haskey(yen_k_shortest_paths_and_weights, u => v)\n",
    "            yen_k_result = Graphs.yen_k_shortest_paths(kmer_graph, u, v, Graphs.weights(kmer_graph), yen_k)\n",
    "            yen_k_shortest_paths_and_weights[u => v] = Vector{Pair{Vector{Int}, Float64}}()\n",
    "            for path in yen_k_result.paths\n",
    "                path_weight = Statistics.mean([kmer_total_quality[ordered_kmers[node]] for node in path])\n",
    "                path_transition_likelihoods = 1.0\n",
    "                for (a, b) in zip(path[1:end-1], path[2:end])\n",
    "                    path_transition_likelihoods *= transition_likelihoods[a, b]\n",
    "                end\n",
    "                joint_weight = path_weight * path_transition_likelihoods\n",
    "                push!(yen_k_shortest_paths_and_weights[u => v], path => joint_weight)\n",
    "            end\n",
    "        end\n",
    "        yen_k_path_weights = yen_k_shortest_paths_and_weights[u => v]      \n",
    "        if length(yen_k_path_weights) > 1\n",
    "            current_distance = length(resampling_stretch)\n",
    "            initial_weights = last.(yen_k_path_weights)\n",
    "            path_lengths = length.(first.(yen_k_path_weights))\n",
    "            deltas = map(l -> abs(l-current_distance), path_lengths)\n",
    "            adjusted_weights = initial_weights .* map(d -> exp(-d * log(2)), deltas)\n",
    "            # make it more severe?\n",
    "            # adjusted_weights = adjusted_weights.^2\n",
    "            \n",
    "            # and a bonus for usually being correct\n",
    "            \n",
    "            selected_path_index = StatsBase.sample(StatsBase.weights(adjusted_weights))\n",
    "            selected_path, selected_path_weights = yen_k_path_weights[selected_path_index]\n",
    "            selected_path_kmers = [ordered_kmers[kmer_index] for kmer_index in selected_path]\n",
    "            \n",
    "            if last(new_record_kmers) == first(selected_path_kmers)\n",
    "                selected_path_kmers = selected_path_kmers[2:end]\n",
    "            end\n",
    "            append!(new_record_kmers, selected_path_kmers)\n",
    "            selected_kmer_qualities = [Int8.(min.(typemax(Int8), floor.(kmer_mean_quality[kmer]))) for kmer in selected_path_kmers]\n",
    "            append!(new_record_kmer_qualities, selected_kmer_qualities)\n",
    "        else\n",
    "            selected_path_kmers = record_kmers[resampling_stretch]\n",
    "            if last(new_record_kmers) == first(selected_path_kmers)\n",
    "                selected_path_kmers = selected_path_kmers[2:end]\n",
    "            end\n",
    "            append!(new_record_kmers, selected_path_kmers)\n",
    "            selected_kmer_qualities = [Int8.(min.(typemax(Int8), floor.(kmer_mean_quality[kmer]))) for kmer in selected_path_kmers]\n",
    "            append!(new_record_kmer_qualities, selected_kmer_qualities)\n",
    "        end\n",
    "        if i < length(resampling_stretches) # append high quality gap\n",
    "            next_solid_start = last(resampling_stretch)+1\n",
    "            next_resampling_stretch = resampling_stretches[i+1]\n",
    "            next_solid_stop = first(next_resampling_stretch)-1\n",
    "            if !isempty(next_solid_start:next_solid_stop)\n",
    "                selected_path_kmers = record_kmers[next_solid_start:next_solid_stop]\n",
    "                append!(new_record_kmers, selected_path_kmers)\n",
    "                selected_kmer_qualities = record_kmer_quality_scores[next_solid_start:next_solid_stop]\n",
    "                append!(new_record_kmer_qualities, selected_kmer_qualities)\n",
    "            end\n",
    "        else # append remainder of sequence\n",
    "            @assert i == length(resampling_stretches)\n",
    "            next_solid_start = last(resampling_stretch)+1\n",
    "            if next_solid_start < length(record_kmers)\n",
    "                selected_path_kmers = record_kmers[next_solid_start:end]\n",
    "                append!(new_record_kmers, selected_path_kmers)\n",
    "                selected_kmer_qualities = record_kmer_quality_scores[next_solid_start:end]\n",
    "                append!(new_record_kmer_qualities, selected_kmer_qualities)\n",
    "            end\n",
    "        end\n",
    "    end\n",
    "    \n",
    "    for (a, b) in zip(new_record_kmers[1:end-1], new_record_kmers[2:end])\n",
    "        @assert a != b\n",
    "    end\n",
    "    new_record_sequence = Mycelia.kmer_path_to_sequence(new_record_kmers)\n",
    "    new_record_quality_scores = new_record_kmer_qualities[1]\n",
    "    for new_record_kmer_quality in new_record_kmer_qualities[2:end]\n",
    "        push!(new_record_quality_scores, last(new_record_kmer_quality))\n",
    "    end\n",
    "    new_record = fastq_record(identifier=new_record_identifier, sequence=new_record_sequence, quality_scores=new_record_quality_scores)\n",
    "    return new_record\n",
    "end"
   ]
  },
  {
   "cell_type": "code",
   "execution_count": null,
   "id": "ee32804e-a25e-4e8c-a9c2-d2ca407a447d",
   "metadata": {
    "tags": []
   },
   "outputs": [],
   "source": [
    "function polish_fastq(;fastq, k=1)\n",
    "    kmer_graph = build_directed_kmer_graph(fastq=fastq, k=k)\n",
    "    assembly_k = MetaGraphs.get_prop(kmer_graph, :assembly_k)\n",
    "    @info \"polishing with k = $(assembly_k)\"\n",
    "    revised_records = []\n",
    "    yen_k_shortest_paths_and_weights = Dict{Pair{Int, Int}, Vector{Pair{Vector{Int}, Float64}}}()\n",
    "    ProgressMeter.@showprogress for record in collect(Mycelia.open_fastx(fastq))\n",
    "        revised_record = process_fastq_record(;record, kmer_graph, yen_k_shortest_paths_and_weights)\n",
    "        push!(revised_records, revised_record)\n",
    "    end\n",
    "    \n",
    "    fastq_out = replace(fastq, Mycelia.FASTQ_REGEX => \".k$(assembly_k).fq\")\n",
    "    open(fastq_out, \"w\") do io\n",
    "        fastx_io = FASTX.FASTQ.Writer(io)\n",
    "        for record in revised_records\n",
    "            write(fastx_io, record)\n",
    "        end\n",
    "        close(fastx_io)\n",
    "    end\n",
    "    run(`gzip --force $(fastq_out)`)\n",
    "    return (fastq = fastq_out * \".gz\", k=assembly_k)\n",
    "end"
   ]
  },
  {
   "cell_type": "code",
   "execution_count": null,
   "id": "847ada76-5897-40ea-b895-51533ff92962",
   "metadata": {
    "tags": []
   },
   "outputs": [],
   "source": [
    "function build_directed_kmer_graph(;fastq, k=1, plot=true)\n",
    "    if k == 1\n",
    "        assembly_k = Mycelia.assess_dnamer_saturation([fastq])\n",
    "    else\n",
    "        @assert isodd(k)\n",
    "        @assert Primes.isprime(k)\n",
    "        assembly_k = k\n",
    "    end\n",
    "    kmer_type = Kmers.DNAKmer{assembly_k}\n",
    "\n",
    "    # initializing the graph with kmer counts\n",
    "    kmer_counts = Mycelia.count_kmers(kmer_type, fastq)\n",
    "    ordered_kmers = collect(keys(kmer_counts))\n",
    "    total_states = length(ordered_kmers)\n",
    "    graph = MetaGraphs.MetaDiGraph(total_states)\n",
    "    MetaGraphs.set_prop!(graph, :assembly_k, assembly_k)\n",
    "    MetaGraphs.set_prop!(graph, :kmer_counts, kmer_counts)\n",
    "    MetaGraphs.set_prop!(graph, :total_states, total_states)\n",
    "    MetaGraphs.set_prop!(graph, :ordered_kmers, ordered_kmers)\n",
    "    kmer_indices = Dict(kmer => i for (i, kmer) in enumerate(keys(kmer_counts)))\n",
    "    MetaGraphs.set_prop!(graph, :kmer_indices, kmer_indices)\n",
    "    canonical_kmer_counts = Mycelia.count_canonical_kmers(kmer_type, fastq)\n",
    "    MetaGraphs.set_prop!(graph, :canonical_kmer_counts, canonical_kmer_counts)\n",
    "    canonical_kmer_indices = Dict(kmer => i for (i, kmer) in enumerate(keys(canonical_kmer_counts)))\n",
    "    MetaGraphs.set_prop!(graph, :canonical_kmer_indices, canonical_kmer_indices)\n",
    "    \n",
    "    \n",
    "    # kmer quality and likelihoods\n",
    "    \n",
    "    records = collect(Mycelia.open_fastx(fastq))\n",
    "    read_quality_scores = [collect(FASTX.quality_scores(record)) for record in records]\n",
    "    all_kmer_quality_support = Dict{kmer_type, Vector{Float64}}()\n",
    "    for record in records\n",
    "        record_quality_scores = collect(FASTX.quality_scores(record))\n",
    "        record_quality_score_slices = [record_quality_scores[i:i+assembly_k-1] for i in 1:length(record_quality_scores)-assembly_k+1]\n",
    "        sequence = BioSequences.LongDNA{2}(FASTX.sequence(record))\n",
    "        for ((i, kmer), kmer_base_qualities) in zip(Kmers.EveryKmer{kmer_type}(sequence), record_quality_score_slices)\n",
    "            if haskey(all_kmer_quality_support, kmer)\n",
    "                all_kmer_quality_support[kmer] = all_kmer_quality_support[kmer] .+ kmer_base_qualities\n",
    "            else\n",
    "                all_kmer_quality_support[kmer] = kmer_base_qualities\n",
    "            end\n",
    "        end\n",
    "    end\n",
    "    \n",
    "    # strand normalization shares observational quality across strands - only relevant for non-stranded DNA genome assembly\n",
    "    strand_normalized_quality_support = Dict{kmer_type, Vector{Float64}}()\n",
    "    for (kmer, support) in all_kmer_quality_support\n",
    "        strand_normalized_quality_support[kmer] = support\n",
    "        if haskey(all_kmer_quality_support, BioSequences.reverse_complement(kmer))\n",
    "            strand_normalized_quality_support[kmer] .+= all_kmer_quality_support[BioSequences.reverse_complement(kmer)]\n",
    "        end\n",
    "    end\n",
    "    strand_normalized_quality_support\n",
    "    kmer_mean_quality = sort(Dict(kmer => strand_normalized_quality_support[kmer] ./ canonical_kmer_counts[BioSequences.canonical(kmer)] for kmer in ordered_kmers))\n",
    "    MetaGraphs.set_prop!(graph, :kmer_mean_quality, kmer_mean_quality)\n",
    "    kmer_total_quality = sort(Dict(kmer => sum(quality_values) for (kmer, quality_values) in strand_normalized_quality_support))\n",
    "    MetaGraphs.set_prop!(graph, :kmer_total_quality, kmer_total_quality)\n",
    "    state_likelihoods = sort(Dict(kmer => total_quality / sum(values(kmer_total_quality)) for (kmer, total_quality) in kmer_total_quality))\n",
    "    MetaGraphs.set_prop!(graph, :state_likelihoods, state_likelihoods)\n",
    "\n",
    "\n",
    "    # all transition likelihood calculation\n",
    "    transition_likelihoods = SparseArrays.spzeros(total_states, total_states)\n",
    "    for record in records\n",
    "        sequence = BioSequences.LongDNA{4}(FASTX.sequence(record))\n",
    "        sources = Kmers.EveryKmer{kmer_type}(sequence[1:end-1])\n",
    "        destinations = Kmers.EveryKmer{kmer_type}(sequence[2:end])\n",
    "        for ((source_i, source), (destination_i, destination)) in zip(sources, destinations)\n",
    "            source_index = kmer_indices[source]\n",
    "            destination_index = kmer_indices[destination]\n",
    "            transition_likelihoods[source_index, destination_index] += 1\n",
    "        end\n",
    "    end\n",
    "    for source in 1:total_states\n",
    "        outgoing_transition_counts = transition_likelihoods[source, :]\n",
    "        if sum(outgoing_transition_counts) > 0\n",
    "            transition_likelihoods[source, :] .= transition_likelihoods[source, :] ./ sum(transition_likelihoods[source, :]) \n",
    "        end\n",
    "    end\n",
    "    row_indices, column_indices, cell_values = SparseArrays.findnz(transition_likelihoods)\n",
    "    for (row, col, value) in zip(row_indices, column_indices, cell_values)\n",
    "        Graphs.add_edge!(graph, row, col)\n",
    "        MetaGraphs.set_prop!(graph, row, col, :transition_likelihood, value)\n",
    "    end\n",
    "    MetaGraphs.set_prop!(graph, :transition_likelihoods, transition_likelihoods)\n",
    "\n",
    "    # helpful for downstream processing\n",
    "    unbranching_nodes = Set(Int[])\n",
    "    for node in Graphs.vertices(graph)\n",
    "        if (Graphs.indegree(graph, node) <= 1) && (Graphs.outdegree(graph, node) <= 1)\n",
    "            push!(unbranching_nodes, node)\n",
    "        end\n",
    "    end\n",
    "    branching_nodes = Set(setdiff(Graphs.vertices(graph), unbranching_nodes))\n",
    "    MetaGraphs.set_prop!(graph, :unbranching_nodes, unbranching_nodes)\n",
    "    MetaGraphs.set_prop!(graph, :branching_nodes, branching_nodes)\n",
    "    \n",
    "    \n",
    "    # total_strand_normalized_quality_support = sum.(collect(values(strand_normalized_quality_support)))\n",
    "    mean_total_support = Statistics.mean(collect(values(kmer_total_quality)))\n",
    "    sorted_kmer_total_quality_values = collect(values(kmer_total_quality))\n",
    "    mean_quality_value = Statistics.mean(sorted_kmer_total_quality_values)\n",
    "    threshold = mean_quality_value\n",
    "\n",
    "    xs = [\n",
    "        [i for (i, y) in enumerate(sorted_kmer_total_quality_values) if y > threshold],\n",
    "        [i for (i, y) in enumerate(sorted_kmer_total_quality_values) if y <= threshold]\n",
    "        ]\n",
    "    \n",
    "    likely_valid_kmer_indices = xs[1]\n",
    "    MetaGraphs.set_prop!(graph, :likely_valid_kmer_indices, likely_valid_kmer_indices)\n",
    "    likely_sequencing_artifact_indices = xs[2]\n",
    "    MetaGraphs.set_prop!(graph, :likely_sequencing_artifact_indices, likely_sequencing_artifact_indices)\n",
    "    # likely_sequencing_artifact_kmers = Set(ordered_kmers[likely_sequencing_artifact_indices])\n",
    "    # likely_valid_kmers = Set(ordered_kmers[likely_valid_kmer_indices])\n",
    "    # kmer_to_index_map = Dict(kmer => i for (i, kmer) in enumerate(ordered_kmers))\n",
    "    \n",
    "    \n",
    "    if plot\n",
    "        ys = [\n",
    "            [y for y in sorted_kmer_total_quality_values if y > threshold],\n",
    "            [y for y in sorted_kmer_total_quality_values if y <= threshold]\n",
    "        ]\n",
    "\n",
    "        p = StatsPlots.scatter(\n",
    "            xs,\n",
    "            ys,\n",
    "            title = \"kmer qualities\",\n",
    "            ylabel = \"canonical kmer cumulative QUAL value\",\n",
    "            label = [\"above\" \"below\"],\n",
    "            legend = :outertopright,\n",
    "            # size = (900, 500),\n",
    "            margins=10StatsPlots.Plots.PlotMeasures.mm,\n",
    "            xticks = false\n",
    "        )\n",
    "        p = StatsPlots.hline!(p, [mean_quality_value], label=\"mean\")\n",
    "        display(p)\n",
    "    end\n",
    "    return graph\n",
    "end"
   ]
  },
  {
   "cell_type": "code",
   "execution_count": null,
   "id": "c00045ec-02af-4853-a901-999f77691e13",
   "metadata": {},
   "outputs": [],
   "source": [
    "# selected after trialing previous and next ks and finding those to be too unstable\n",
    "function iterative_polishing(fastq, max_k = 89)\n",
    "    # initial polishing\n",
    "    polishing_results = [polish_fastq(fastq=fastq)]\n",
    "    while (!ismissing(last(polishing_results).k)) && (last(polishing_results).k < max_k)\n",
    "        next_k = first(filter(k -> k > last(polishing_results).k, Mycelia.ks()))\n",
    "        # @show next_k\n",
    "        push!(polishing_results, polish_fastq(fastq=last(polishing_results).fastq, k=next_k))\n",
    "    end\n",
    "    return polishing_results\n",
    "end"
   ]
  },
  {
   "cell_type": "code",
   "execution_count": null,
   "id": "f4592962-5f19-4c36-842a-a87d4f005e43",
   "metadata": {},
   "outputs": [],
   "source": [
    "# polishing_results = iterative_polishing(fastq)"
   ]
  },
  {
   "cell_type": "code",
   "execution_count": null,
   "id": "77e9e11e-ea94-4191-a8f8-95474720b89d",
   "metadata": {},
   "outputs": [],
   "source": []
  },
  {
   "cell_type": "code",
   "execution_count": null,
   "id": "d55886d1-622b-4f04-beb0-d9a9798bc2dc",
   "metadata": {
    "tags": []
   },
   "outputs": [],
   "source": [
    "average_read_length = Statistics.mean(length.(FASTX.sequence.(collect(Mycelia.open_fastx(assembly_fastq)))))"
   ]
  },
  {
   "cell_type": "code",
   "execution_count": null,
   "id": "4afb6767-c1aa-4c58-b403-7a60fe2b5de3",
   "metadata": {
    "tags": []
   },
   "outputs": [],
   "source": [
    "assembly_k = last(filter(x -> x <= average_read_length/2, Mycelia.ks()))"
   ]
  },
  {
   "cell_type": "code",
   "execution_count": null,
   "id": "26cb7964-0b75-40e0-812c-1930f20a6b7c",
   "metadata": {
    "tags": []
   },
   "outputs": [],
   "source": [
    "# assembly_k = last(polishing_results).k\n",
    "# assembly_fastq = last(polishing_results).fastq\n",
    "# # kmer_graph = build_directed_kmer_graph(fastq=assembly_fastq, k=assembly_k)\n",
    "\n",
    "# restart point\n",
    "assembly_fastq = \"/global/cfs/cdirs/m4269/cjprybol/Mycelia/projects/variant-calling-benchmarking/data/genomes/fF3EHHs.fna.normalized.vcf.fna.badread.10x.filtlong.k11.k13.k17.k19.k23.k31.k53.k89.fq.gz\"\n",
    "# assembly_k = 89"
   ]
  },
  {
   "cell_type": "code",
   "execution_count": null,
   "id": "f89bd856-a11f-4d5b-9523-7fba2a8ca6b1",
   "metadata": {
    "tags": []
   },
   "outputs": [],
   "source": [
    "kmer_graph = Mycelia.fastx_to_kmer_graph(Kmers.DNAKmer{assembly_k}, [assembly_fastq])"
   ]
  },
  {
   "cell_type": "code",
   "execution_count": null,
   "id": "ebac7252-6364-4c9e-a2c3-7a1d4a77edab",
   "metadata": {
    "tags": []
   },
   "outputs": [],
   "source": [
    "StatsBase.countmap([kmer_graph.vprops[v][:count] for v in Graphs.vertices(kmer_graph)])"
   ]
  },
  {
   "cell_type": "code",
   "execution_count": null,
   "id": "c71187a0-180f-4d69-9ae2-57116198e31b",
   "metadata": {
    "tags": []
   },
   "outputs": [],
   "source": [
    "# heuristic - should be based on something better or removed altogether\n",
    "max_filter = 5\n",
    "\n",
    "initial_connected_components = length(Graphs.connected_components(kmer_graph))\n",
    "coverage_threshold = 1\n",
    "candidate_subgraph, vertex_map = Graphs.induced_subgraph(kmer_graph, [v for v in Graphs.vertices(kmer_graph) if kmer_graph.vprops[v][:count] > coverage_threshold])\n",
    "while (length(Graphs.connected_components(candidate_subgraph)) == initial_connected_components) && (coverage_threshold < max_filter)\n",
    "    coverage_threshold += 1\n",
    "    candidate_subgraph, vertex_map = Graphs.induced_subgraph(kmer_graph, [v for v in Graphs.vertices(kmer_graph) if kmer_graph.vprops[v][:count] > coverage_threshold])\n",
    "end\n",
    "@show coverage_threshold\n",
    "\n",
    "candidate_subgraph, vertex_map = Graphs.induced_subgraph(kmer_graph, [v for v in Graphs.vertices(kmer_graph) if kmer_graph.vprops[v][:count] >= coverage_threshold])"
   ]
  },
  {
   "cell_type": "code",
   "execution_count": null,
   "id": "12fd9918-9bda-4349-8aa8-dbea4786051a",
   "metadata": {
    "tags": []
   },
   "outputs": [],
   "source": [
    "candidate_subgraph.vprops"
   ]
  },
  {
   "cell_type": "code",
   "execution_count": null,
   "id": "1bb30f38-d83c-41b2-9fff-ed2d6e02b571",
   "metadata": {
    "tags": []
   },
   "outputs": [],
   "source": [
    "# import Graphs\n",
    "\n",
    "function find_unbranching_walks(undirected_graph)\n",
    "    unbranching_walks = Vector{Vector{Int}}()\n",
    "    visited = falses(Graphs.nv(undirected_graph))\n",
    "    \n",
    "    for v in Graphs.vertices(undirected_graph)\n",
    "        if !visited[v]\n",
    "            if Graphs.degree(undirected_graph, v) == 1 || Graphs.degree(undirected_graph, v) > 2\n",
    "                # Start a walk from a terminal vertex or branch point\n",
    "                walk = [v]\n",
    "                visited[v] = true\n",
    "                \n",
    "                # Traverse in one direction\n",
    "                current = v\n",
    "                while Graphs.degree(undirected_graph, current) == 2 && any(!visited[neighbor] for neighbor in Graphs.neighbors(undirected_graph, current))\n",
    "                    current = Graphs.neighbors(undirected_graph, current)[findfirst(!visited[neighbor] for neighbor in Graphs.neighbors(undirected_graph, current))]\n",
    "                    push!(walk, current)\n",
    "                    visited[current] = true\n",
    "                end\n",
    "                \n",
    "                # Traverse in the opposite direction\n",
    "                current = v\n",
    "                while Graphs.degree(undirected_graph, current) == 2 && any(!visited[neighbor] for neighbor in Graphs.neighbors(undirected_graph, current))\n",
    "                    current = Graphs.neighbors(undirected_graph, current)[findfirst(!visited[neighbor] for neighbor in Graphs.neighbors(undirected_graph, current))]\n",
    "                    pushfirst!(walk, current)\n",
    "                    visited[current] = true\n",
    "                end\n",
    "                \n",
    "                push!(unbranching_walks, walk)\n",
    "            elseif Graphs.degree(undirected_graph, v) == 2\n",
    "                # Start a walk from a non-branch point\n",
    "                walk = [v]\n",
    "                visited[v] = true\n",
    "                \n",
    "                # Traverse in one direction\n",
    "                current = v\n",
    "                while Graphs.degree(undirected_graph, current) == 2 && any(!visited[neighbor] for neighbor in Graphs.neighbors(undirected_graph, current))\n",
    "                    current = Graphs.neighbors(undirected_graph, current)[findfirst(!visited[neighbor] for neighbor in Graphs.neighbors(undirected_graph, current))]\n",
    "                    push!(walk, current)\n",
    "                    visited[current] = true\n",
    "                end\n",
    "                push!(walk, current)\n",
    "                \n",
    "                # Traverse in the opposite direction\n",
    "                current = v\n",
    "                while Graphs.degree(undirected_graph, current) == 2 && any(!visited[neighbor] for neighbor in Graphs.neighbors(undirected_graph, current))\n",
    "                    current = Graphs.neighbors(undirected_graph, current)[findfirst(!visited[neighbor] for neighbor in Graphs.neighbors(undirected_graph, current))]\n",
    "                    pushfirst!(walk, current)\n",
    "                    visited[current] = true\n",
    "                end\n",
    "                pushfirst!(walk, current)\n",
    "                \n",
    "                push!(unbranching_walks, walk)\n",
    "            end\n",
    "        end\n",
    "    end    \n",
    "    return unbranching_walks\n",
    "end"
   ]
  },
  {
   "cell_type": "code",
   "execution_count": null,
   "id": "42ae37a5-079f-4501-8f8a-763dfd6964c0",
   "metadata": {
    "tags": []
   },
   "outputs": [],
   "source": [
    "unbranching_walks = find_unbranching_walks(candidate_subgraph)\n",
    "# quirk\n",
    "unbranching_walks = [ubw[2:end-1] for ubw in unbranching_walks]"
   ]
  },
  {
   "cell_type": "code",
   "execution_count": null,
   "id": "f68756c8-84e6-4f6d-a78f-1fe13aae15eb",
   "metadata": {
    "tags": []
   },
   "outputs": [],
   "source": [
    "# kmer_slice(kmer, slice) = [kmer[i] for i in slice]\n",
    "\n",
    "# function reorient_kmers(kmers)\n",
    "#     oriented_kmers = []\n",
    "    \n",
    "#     for i in 1:length(kmers)-1\n",
    "#         kmer1 = kmers[i]\n",
    "#         kmer2 = kmers[i+1]\n",
    "        \n",
    "#         if all(kmer_slice(kmer1, 2:k) .== kmer_slice(kmer2, 1:k-1)\n",
    "#             push!(oriented_kmers, kmer1)\n",
    "#         else\n",
    "#             push!(oriented_kmers, BioSequences.reverse_complement(kmer1))\n",
    "#         end\n",
    "#     end\n",
    "    \n",
    "#     last_kmer = kmers[end]\n",
    "#     if startswith(last_kmer, oriented_kmers[end][2:end])\n",
    "#         push!(oriented_kmers, last_kmer)\n",
    "#     else\n",
    "#         push!(oriented_kmers, BioSequences.reverse_complement(last_kmer))\n",
    "#     end\n",
    "    \n",
    "#     return oriented_kmers\n",
    "# end"
   ]
  },
  {
   "cell_type": "code",
   "execution_count": null,
   "id": "07a47acc-90cf-4cd8-a7c9-71e2ed6be42c",
   "metadata": {
    "tags": []
   },
   "outputs": [],
   "source": [
    "walk_kmers = [candidate_subgraph.vprops[v][:kmer] for v in unbranching_walks[1]]"
   ]
  },
  {
   "cell_type": "code",
   "execution_count": null,
   "id": "a78a0906-7071-45b1-8935-1bdfc25e2ee9",
   "metadata": {
    "tags": []
   },
   "outputs": [],
   "source": [
    "walk_sequence = BioSequences.LongDNA{2}(walk_kmers[1])"
   ]
  },
  {
   "cell_type": "code",
   "execution_count": null,
   "id": "17d6aba8-66e0-498d-9476-2eefdf92e43d",
   "metadata": {
    "tags": []
   },
   "outputs": [],
   "source": [
    "k = assembly_k"
   ]
  },
  {
   "cell_type": "code",
   "execution_count": null,
   "id": "f6002c43-2508-4d4d-a6f7-a028929c9649",
   "metadata": {
    "tags": []
   },
   "outputs": [],
   "source": [
    "for walk_kmer in walk_kmers[2:2]\n",
    "    \n",
    "    \n",
    "    \n",
    "    walk_kmer_sequence = BioSequences.LongDNA{2}(walk_kmer)\n",
    "    if walk_sequence[end-k+1:end] == walk_kmer_sequence[1:end-1]\n",
    "        @show \"match\"\n",
    "    elseif walk_sequence[end-k+1:end] == BioSequences.reverse_complement(walk_kmer_sequence)[1:end-1]\n",
    "        @show \"alt_match\"\n",
    "    end\n",
    "end"
   ]
  },
  {
   "cell_type": "code",
   "execution_count": null,
   "id": "01852da3-bbf0-46c1-a7b5-77dabcbf98eb",
   "metadata": {
    "tags": []
   },
   "outputs": [],
   "source": [
    "reorient_kmers([])"
   ]
  },
  {
   "cell_type": "code",
   "execution_count": null,
   "id": "2699ad75-74d8-494a-a5e4-8946e928f715",
   "metadata": {
    "tags": []
   },
   "outputs": [],
   "source": [
    "# vertex_map"
   ]
  },
  {
   "cell_type": "code",
   "execution_count": null,
   "id": "8b9f679b-0836-439a-bfe3-f3a59da87dfb",
   "metadata": {
    "tags": []
   },
   "outputs": [],
   "source": [
    "# StatsBase.countmap([Graphs.degree(candidate_subgraph, v) for v in Graphs.vertices(candidate_subgraph)])"
   ]
  },
  {
   "cell_type": "code",
   "execution_count": null,
   "id": "122f6005-78dd-4c0b-a23c-cc05ce6b6bef",
   "metadata": {
    "tags": []
   },
   "outputs": [],
   "source": [
    "# sorted_unbranching_walks = sort(find_unbranching_walks(candidate_subgraph), by=x->length(x), rev=true)"
   ]
  },
  {
   "cell_type": "code",
   "execution_count": null,
   "id": "60f9239c-99bf-4000-b8c3-f0291fa5bd7b",
   "metadata": {
    "tags": []
   },
   "outputs": [],
   "source": []
  },
  {
   "cell_type": "code",
   "execution_count": null,
   "id": "92a74e71-380e-4383-b5bb-a4348042905c",
   "metadata": {
    "tags": []
   },
   "outputs": [],
   "source": [
    "# length.(sorted_unbranching_walks)"
   ]
  },
  {
   "cell_type": "code",
   "execution_count": null,
   "id": "2992e540-83c8-4b4e-97ed-54f058b70584",
   "metadata": {
    "tags": []
   },
   "outputs": [],
   "source": []
  },
  {
   "cell_type": "code",
   "execution_count": null,
   "id": "589ceac8-274a-4fca-93b6-97b30db17f79",
   "metadata": {
    "tags": []
   },
   "outputs": [],
   "source": [
    "# candidate_subgraph"
   ]
  },
  {
   "cell_type": "code",
   "execution_count": null,
   "id": "95f93bfb-cac7-43d1-861e-7f2d4d00d3b4",
   "metadata": {
    "tags": []
   },
   "outputs": [],
   "source": [
    "# StatsBase.countmap([Graphs.degree(kmer_graph, v) for v in Graphs.vertices(kmer_graph)])"
   ]
  },
  {
   "cell_type": "code",
   "execution_count": null,
   "id": "226e4bcd-1c83-4aac-82c3-84fb5b3ceb31",
   "metadata": {
    "tags": []
   },
   "outputs": [],
   "source": [
    "# ends = [v for v in Graphs.vertices(candidate_subgraph) if Graphs.degree(candidate_subgraph, v) == 1]"
   ]
  },
  {
   "cell_type": "code",
   "execution_count": null,
   "id": "019fe6de-af5b-41a3-941a-0e4c921f6e11",
   "metadata": {
    "tags": []
   },
   "outputs": [],
   "source": [
    "# no branch points!\n",
    "# StatsBase.countmap(map(v -> Graphs.degree(candidate_subgraph, v), Graphs.vertices(candidate_subgraph)))"
   ]
  },
  {
   "cell_type": "code",
   "execution_count": null,
   "id": "96212ed3-e19b-4ac9-a4ca-d4a6284369d0",
   "metadata": {},
   "outputs": [],
   "source": [
    "# candidate_subgraph"
   ]
  },
  {
   "cell_type": "code",
   "execution_count": null,
   "id": "e8cd9cdb-df7c-4cf5-9de4-0b550c0b13b6",
   "metadata": {
    "tags": []
   },
   "outputs": [],
   "source": [
    "# solve later\n",
    "# branch_points = [v for v in Graphs.vertices(candidate_subgraph) if Graphs.degree(candidate_subgraph, v) >= 3]\n",
    "# branch_point_shortest_paths = Array{Vector{Int}}(undef, length(branch_points), length(branch_points))"
   ]
  },
  {
   "cell_type": "code",
   "execution_count": null,
   "id": "e5fcf2a8-33ea-4a3f-b38b-86820f1b96ed",
   "metadata": {
    "tags": []
   },
   "outputs": [],
   "source": [
    "# Graphs.enumerate_paths(Graphs.dijkstra_shortest_paths(kmer_graph, ends[1]), ends[2])"
   ]
  },
  {
   "cell_type": "code",
   "execution_count": null,
   "id": "04a4a82e-d429-49f9-baf9-3e5a0697305e",
   "metadata": {
    "tags": []
   },
   "outputs": [],
   "source": [
    "# function point_to_point_shortest_path(graph, source, source)\n",
    "#     Graphs.enumerate_paths(Graphs.dijkstra_shortest_paths(kmer_graph, end_1), end_2)\n",
    "# end"
   ]
  },
  {
   "cell_type": "code",
   "execution_count": null,
   "id": "73b24a72-feda-4d16-b50f-76641f918073",
   "metadata": {},
   "outputs": [],
   "source": [
    "# graphs"
   ]
  },
  {
   "cell_type": "code",
   "execution_count": null,
   "id": "c0c63cac-f752-4651-ba62-e9bd0c9740d8",
   "metadata": {},
   "outputs": [],
   "source": []
  },
  {
   "cell_type": "code",
   "execution_count": null,
   "id": "1e1b2103-2fdf-4e01-b4ac-2e380eb9ff68",
   "metadata": {},
   "outputs": [],
   "source": [
    "# dijkstras_end_1, ends[2])"
   ]
  },
  {
   "cell_type": "code",
   "execution_count": null,
   "id": "656667c6-d7af-4181-aa9a-f9e673d54279",
   "metadata": {},
   "outputs": [],
   "source": [
    "# candidate_subgraph"
   ]
  },
  {
   "cell_type": "code",
   "execution_count": null,
   "id": "26ea868f-f6d4-49d9-986a-2b2bcb7d6fc5",
   "metadata": {
    "tags": []
   },
   "outputs": [],
   "source": [
    "# yen_k_shortest_paths(g, source, target,  distmx=weights(g), K=1; maxdist=typemax(T))"
   ]
  },
  {
   "cell_type": "code",
   "execution_count": null,
   "id": "8d5ca610-e138-4e03-bcde-5d7e0452bb2c",
   "metadata": {
    "tags": []
   },
   "outputs": [],
   "source": [
    "# dijkstras_end_2 = Graphs.dijkstra_shortest_paths(kmer_graph, ends[2])"
   ]
  },
  {
   "cell_type": "code",
   "execution_count": null,
   "id": "654cb85b-573c-477f-9974-49612f4aa5f8",
   "metadata": {
    "tags": []
   },
   "outputs": [],
   "source": [
    "# dijkstras_end_3 = Graphs.dijkstra_shortest_paths(kmer_graph, ends[3])"
   ]
  },
  {
   "cell_type": "code",
   "execution_count": null,
   "id": "90f140f1-0a55-4770-9e58-ff58de39d04f",
   "metadata": {
    "tags": []
   },
   "outputs": [],
   "source": [
    "# findmax(dijkstras_end_1.dists)"
   ]
  },
  {
   "cell_type": "code",
   "execution_count": null,
   "id": "50da121a-9604-44c6-9b92-2c0e44b1fbd1",
   "metadata": {
    "tags": []
   },
   "outputs": [],
   "source": [
    "# findmax(dijkstras_end_2.dists)"
   ]
  },
  {
   "cell_type": "code",
   "execution_count": null,
   "id": "743bf382-ebce-46fb-a830-4c4f9e8df32c",
   "metadata": {
    "tags": []
   },
   "outputs": [],
   "source": [
    "# Graphs.enumerate_paths(dijkstras_end_1, ends[2])\n",
    "# StatsBase.countmap([kmer_graph.vprops[v][:count] for v in Graphs.enumerate_paths(dijkstras_end_1, ends[2])])\n",
    "# [kmer_graph.vprops[v][:kmer] for v in Graphs.enumerate_paths(dijkstras_end_1, ends[2])]"
   ]
  },
  {
   "cell_type": "code",
   "execution_count": null,
   "id": "b6301986-6927-4482-993b-c4f090e1e1e7",
   "metadata": {
    "tags": []
   },
   "outputs": [],
   "source": [
    "# kmer_graph.gprops"
   ]
  },
  {
   "cell_type": "code",
   "execution_count": null,
   "id": "1ed93dfe-9536-484c-a4e6-d3c0075e02d5",
   "metadata": {
    "tags": []
   },
   "outputs": [],
   "source": [
    "# ?Mycelia.path_to_sequence"
   ]
  },
  {
   "cell_type": "code",
   "execution_count": null,
   "id": "cb2b4484-4e29-4e37-9448-79248301d675",
   "metadata": {
    "tags": []
   },
   "outputs": [],
   "source": [
    "# Graphs.topological_sort_by_dfs(candidate_subgraph)"
   ]
  },
  {
   "cell_type": "code",
   "execution_count": null,
   "id": "603f1c41-5d86-4996-a48c-0f338d5306e9",
   "metadata": {
    "tags": []
   },
   "outputs": [],
   "source": [
    "# connected_components = Graphs.connected_components(kmer_graph)"
   ]
  },
  {
   "cell_type": "code",
   "execution_count": null,
   "id": "c9453b1b-7bbd-41fc-97fa-eb3782d5233a",
   "metadata": {
    "tags": []
   },
   "outputs": [],
   "source": [
    "# minimum_component_value, minimum_component_index = findmin(sum.(Graphs.connected_components(kmer_graph)))"
   ]
  },
  {
   "cell_type": "code",
   "execution_count": null,
   "id": "4885d3da-d7cd-4333-99df-3200272dedc5",
   "metadata": {
    "tags": []
   },
   "outputs": [],
   "source": [
    "# topological_ordering = Graphs.topological_sort(kmer_graph)\n",
    "# Graphs.topological_sort_by_dfs(kmer_graph)"
   ]
  },
  {
   "cell_type": "code",
   "execution_count": null,
   "id": "ac3b89e8-b6fb-4e9e-9403-088c4ba81039",
   "metadata": {
    "tags": []
   },
   "outputs": [],
   "source": [
    "# connected_component = first(connected_components)"
   ]
  },
  {
   "cell_type": "code",
   "execution_count": null,
   "id": "a0af17d6-322d-4d2f-9609-67ac09938776",
   "metadata": {
    "tags": []
   },
   "outputs": [],
   "source": [
    "# for e in Graphs.edges(kmer_graph)\n",
    "#     # @show e\n",
    "#     # @show MetaGraphs.props(kmer_graph, e)\n",
    "#     transition_likelihood = MetaGraphs.get_prop(kmer_graph, e, :transition_likelihood)\n",
    "#     MetaGraphs.set_prop!(kmer_graph, e, :weight, 1/transition_likelihood)\n",
    "# end"
   ]
  },
  {
   "cell_type": "code",
   "execution_count": null,
   "id": "b3d1b558-40d5-43c4-badc-8df012ab9ccc",
   "metadata": {
    "tags": []
   },
   "outputs": [],
   "source": [
    "# size_sorted_components = sort(Graphs.connected_components(kmer_graph), by=x->length(x), rev=true)"
   ]
  },
  {
   "cell_type": "code",
   "execution_count": null,
   "id": "695f0fde-9736-4783-acf0-c8dee5efed7e",
   "metadata": {
    "tags": []
   },
   "outputs": [],
   "source": [
    "# larger_component = size_sorted_components[1]\n",
    "# smaller_component = size_sorted_components[2]\n",
    "# smaller_component_kmers = MetaGraphs.get_prop(kmer_graph, :ordered_kmers)[smaller_component]\n"
   ]
  },
  {
   "cell_type": "code",
   "execution_count": null,
   "id": "9e8ba16b-d0a8-4599-8530-1a0d5bb507ce",
   "metadata": {
    "tags": []
   },
   "outputs": [],
   "source": [
    "# count(ismissing, [get(MetaGraphs.get_prop(kmer_graph, :kmer_indices), BioSequences.reverse_complement(kmer), missing) for kmer in smaller_component_kmers])"
   ]
  },
  {
   "cell_type": "code",
   "execution_count": null,
   "id": "212218d2-a020-431d-bf36-e9b583191473",
   "metadata": {
    "tags": []
   },
   "outputs": [],
   "source": [
    "# "
   ]
  },
  {
   "cell_type": "code",
   "execution_count": null,
   "id": "c8d8cd3a-d7c4-4df3-ae6d-3822375d07b9",
   "metadata": {
    "tags": []
   },
   "outputs": [],
   "source": [
    "# induced_subraphs_and_node_maps = [Graphs.induced_subgraph(kmer_graph, connected_component) for connected_component in Graphs.connected_components(kmer_graph)]\n",
    "# largest components first\n",
    "# sort!(induced_subraphs_and_node_maps, by=x->Graphs.nv(x[1]), rev=true)"
   ]
  },
  {
   "cell_type": "code",
   "execution_count": null,
   "id": "ba7b2396-2f30-4804-8711-7601960c550f",
   "metadata": {},
   "outputs": [],
   "source": []
  },
  {
   "cell_type": "code",
   "execution_count": null,
   "id": "8183488b-2323-400b-be1f-a488f49ca892",
   "metadata": {
    "tags": []
   },
   "outputs": [],
   "source": [
    "# (induced_subgraph, node_map) = first(induced_subraphs_and_node_maps)"
   ]
  },
  {
   "cell_type": "code",
   "execution_count": null,
   "id": "ccbd8140-5090-4825-9c1b-cb5579ad6b89",
   "metadata": {
    "tags": []
   },
   "outputs": [],
   "source": [
    "# sorted_subgraph = Graphs.topological_sort_by_dfs(induced_subgraph)"
   ]
  },
  {
   "cell_type": "code",
   "execution_count": null,
   "id": "201afb94-a51a-497b-9f9d-b42894fe3494",
   "metadata": {
    "tags": []
   },
   "outputs": [],
   "source": [
    "# source = first(sorted_subgraph)"
   ]
  },
  {
   "cell_type": "code",
   "execution_count": null,
   "id": "9cfb18a7-8645-4a93-8ed8-397e63b1ddf7",
   "metadata": {
    "tags": []
   },
   "outputs": [],
   "source": [
    "\n",
    "# \n",
    "# sink = last(sorted_subgraph)"
   ]
  },
  {
   "cell_type": "code",
   "execution_count": null,
   "id": "d581f167-19d8-4dde-8117-9babd1eaa1f8",
   "metadata": {
    "tags": []
   },
   "outputs": [],
   "source": [
    "# # Find the shortest path using Dijkstra's algorithm\n",
    "# shortest_path = Graphs.dijkstra_shortest_paths(induced_subgraph, source)"
   ]
  },
  {
   "cell_type": "code",
   "execution_count": null,
   "id": "c12cfda9-9b93-475c-be70-117f5d7932e2",
   "metadata": {
    "tags": []
   },
   "outputs": [],
   "source": [
    "# Extract the maximum likelihood path\n",
    "# max_likelihood_path = Graphs.enumerate_paths(Graphs.dijkstra_shortest_paths(induced_subgraph, source), sink)"
   ]
  },
  {
   "cell_type": "code",
   "execution_count": null,
   "id": "62ed248d-c468-4852-91a8-214c62a5ebd2",
   "metadata": {},
   "outputs": [],
   "source": [
    "\n",
    "\n",
    "# # Extract the maximum likelihood path\n",
    "# max_likelihood_path = enumerate_paths(dijkstra_shortest_paths(g, source), sink)"
   ]
  },
  {
   "cell_type": "code",
   "execution_count": null,
   "id": "3bdacea3-c5b6-4593-99cb-da5f7002314c",
   "metadata": {
    "tags": []
   },
   "outputs": [],
   "source": [
    "# Find the shortest path using Dijkstra's algorithm\n",
    "# shortest_path = dijkstra_shortest_paths(g, source, sink)\n",
    "\n",
    "# Extract the maximum likelihood path\n",
    "# max_likelihood_path = enumerate_paths(dijkstra_shortest_paths(g, source), sink)"
   ]
  },
  {
   "cell_type": "code",
   "execution_count": null,
   "id": "828e6950-bc8d-4a9d-8de0-a49fb4305eaf",
   "metadata": {},
   "outputs": [],
   "source": []
  },
  {
   "cell_type": "code",
   "execution_count": null,
   "id": "822374a1-485d-4426-a7c4-4255b1f099b6",
   "metadata": {
    "tags": []
   },
   "outputs": [],
   "source": [
    "# only works for undirected graphs\n",
    "# Graphs.is_eulerian(kmer_graph)\n",
    "# Graphs.is_cyclic(kmer_graph)"
   ]
  },
  {
   "cell_type": "code",
   "execution_count": null,
   "id": "fc9475c3-ad59-43e1-884f-03a4c13529df",
   "metadata": {
    "tags": []
   },
   "outputs": [],
   "source": [
    "# Graphs.saw(kmer_graph)"
   ]
  },
  {
   "cell_type": "code",
   "execution_count": null,
   "id": "453bd888-355a-4528-8512-429cb55239fe",
   "metadata": {},
   "outputs": [],
   "source": []
  },
  {
   "cell_type": "code",
   "execution_count": null,
   "id": "e0d75e3c-c73c-465d-9b6e-d402691f5af5",
   "metadata": {},
   "outputs": [],
   "source": [
    "# component_subgraph, component_subgraph_vertex_map = Graphs.induced_subgraph()"
   ]
  },
  {
   "cell_type": "code",
   "execution_count": null,
   "id": "367d8013-dbcd-4855-8d02-1288c101ee03",
   "metadata": {
    "tags": []
   },
   "outputs": [],
   "source": [
    "# Graphs.topological_sort(kmer_graph)"
   ]
  },
  {
   "cell_type": "code",
   "execution_count": null,
   "id": "2d599a9c-fcd9-43c4-ac89-44557f5f0ff2",
   "metadata": {
    "tags": []
   },
   "outputs": [],
   "source": [
    "# Graphs.topological_sort_by_dfs(kmer_graph)"
   ]
  },
  {
   "cell_type": "code",
   "execution_count": null,
   "id": "cf88bae2-badd-4f43-bc4e-8efa99bf6333",
   "metadata": {
    "tags": []
   },
   "outputs": [],
   "source": [
    "# Graphs.eulerian(kmer_graph)"
   ]
  },
  {
   "cell_type": "code",
   "execution_count": null,
   "id": "3c68b220-9bed-4dc2-bc03-ef3795c605fb",
   "metadata": {
    "tags": []
   },
   "outputs": [],
   "source": [
    "# Graphs.is_cyclic(kmer_graph)"
   ]
  },
  {
   "cell_type": "code",
   "execution_count": null,
   "id": "599902d0-7102-4a2b-92be-833118c52f67",
   "metadata": {
    "tags": []
   },
   "outputs": [],
   "source": [
    "# MetaGraphs.get_prop(kmer_graph, :transition_likelihoods)"
   ]
  },
  {
   "cell_type": "code",
   "execution_count": null,
   "id": "f313d1f3-1ddc-4b68-b1c4-9cf70f5326c5",
   "metadata": {
    "tags": []
   },
   "outputs": [],
   "source": [
    "# transition_likelihoods = MetaGraphs.get_prop(kmer_graph, :transition_likelihoods)\n",
    "# edge_distances = map(x -> x == 0 ? zero(x) : 1/x, transition_likelihoods)"
   ]
  },
  {
   "cell_type": "code",
   "execution_count": null,
   "id": "8c86e4d1-7843-4a1d-b9b0-343a2cf3fc9a",
   "metadata": {
    "tags": []
   },
   "outputs": [],
   "source": [
    "# Graphs.dag_longest_path(kmer_graph, transition_likelihoods)\n",
    "# Graphs.saw(kmer_graph)\n",
    "# randomwalk(g, s, niter; seed=-1)\n",
    "# non_backtracking_randomwalk(g, s, niter; seed=-1)\n",
    "# self_avoiding_walk(g, s, niter; seed=-1)\n",
    "# dag_longest_path(g, distmx=weights(g); topological_order=topological_sort_by_dfs(g))"
   ]
  },
  {
   "cell_type": "code",
   "execution_count": null,
   "id": "8feb470c-2951-4fab-9beb-461a7ff00104",
   "metadata": {
    "tags": []
   },
   "outputs": [],
   "source": [
    "# kmer_graph.gprops"
   ]
  },
  {
   "cell_type": "code",
   "execution_count": null,
   "id": "2d14d7c1-9b37-48fb-922d-66847db19291",
   "metadata": {
    "tags": []
   },
   "outputs": [],
   "source": [
    "# # heuristic - should be based on something better or removed altogether\n",
    "# max_filter = 5\n",
    "\n",
    "# initial_connected_components = length(Graphs.connected_components(kmer_graph))\n",
    "# coverage_threshold = 1\n",
    "# candidate_subgraph, vertex_map = Graphs.induced_subgraph(kmer_graph, [v for v in Graphs.vertices(kmer_graph) if kmer_graph.vprops[v][:count] > coverage_threshold])\n",
    "# while (length(Graphs.connected_components(candidate_subgraph)) == initial_connected_components) && (coverage_threshold < max_filter)\n",
    "#     coverage_threshold += 1\n",
    "#     candidate_subgraph, vertex_map = Graphs.induced_subgraph(kmer_graph, [v for v in Graphs.vertices(kmer_graph) if kmer_graph.vprops[v][:count] > coverage_threshold])\n",
    "# end\n",
    "# @show coverage_threshold\n",
    "\n",
    "\n",
    "# candidate_subgraph, vertex_map = Graphs.induced_subgraph(kmer_graph, [v for v in Graphs.vertices(kmer_graph) if kmer_graph.vprops[v][:count] >= coverage_threshold])"
   ]
  },
  {
   "cell_type": "code",
   "execution_count": null,
   "id": "0479fa40-dbf2-4bfe-9c64-157d6e9702bd",
   "metadata": {},
   "outputs": [],
   "source": []
  },
  {
   "cell_type": "code",
   "execution_count": null,
   "id": "0ebf5ac9-faaf-4981-b23f-6df8e3579760",
   "metadata": {},
   "outputs": [],
   "source": []
  },
  {
   "cell_type": "code",
   "execution_count": null,
   "id": "1daa4859-65b1-4ca6-9a9f-4c31b12fb433",
   "metadata": {},
   "outputs": [],
   "source": []
  },
  {
   "cell_type": "code",
   "execution_count": null,
   "id": "6b17d3af-fe52-49ff-b543-344b7899105e",
   "metadata": {
    "tags": []
   },
   "outputs": [],
   "source": [
    "# component_subgraphs_and_vertex_maps = [Graphs.induced_subgraph(candidate_subgraph, connected_component) for connected_component in Graphs.connected_components(candidate_subgraph)]"
   ]
  },
  {
   "cell_type": "code",
   "execution_count": null,
   "id": "1a404f8d-9114-462a-8b39-86278787e263",
   "metadata": {
    "tags": []
   },
   "outputs": [],
   "source": [
    "# component_subgraph, component_subgraph_vertex_map = first(component_subgraphs_and_vertex_maps)"
   ]
  },
  {
   "cell_type": "code",
   "execution_count": null,
   "id": "f799d144-49ff-4486-b603-3cb05c02b0dd",
   "metadata": {
    "tags": []
   },
   "outputs": [],
   "source": [
    "# Graphs.topological_sort(component_subgraph)"
   ]
  },
  {
   "cell_type": "code",
   "execution_count": null,
   "id": "fa0058e5-6dd2-4342-ba0a-fc27a525565f",
   "metadata": {
    "tags": []
   },
   "outputs": [],
   "source": [
    "# Graphs.topological_sort_by_dfs(component_subgraph)"
   ]
  },
  {
   "cell_type": "code",
   "execution_count": null,
   "id": "4232d761-94ca-4635-9166-2e1127b27ca8",
   "metadata": {
    "tags": []
   },
   "outputs": [],
   "source": [
    "# Graphs.eulerian(component_subgraph)"
   ]
  },
  {
   "cell_type": "code",
   "execution_count": null,
   "id": "61ef38b4-49f1-4b38-99e7-475a29078a39",
   "metadata": {
    "tags": []
   },
   "outputs": [],
   "source": [
    "# Graphs.is_cyclic(component_subgraph)"
   ]
  },
  {
   "cell_type": "code",
   "execution_count": null,
   "id": "6804cea6-8ab0-43c2-82c4-6efeb8162458",
   "metadata": {
    "tags": []
   },
   "outputs": [],
   "source": [
    "# Graphs.saw(component_subgraph)"
   ]
  },
  {
   "cell_type": "code",
   "execution_count": null,
   "id": "2402327a-8ad0-42bb-b6c5-04802a83ab12",
   "metadata": {
    "tags": []
   },
   "outputs": [],
   "source": [
    "# component_subgraph"
   ]
  },
  {
   "cell_type": "code",
   "execution_count": null,
   "id": "e16e58e8-75be-4d48-ad9e-3a31b768a6a8",
   "metadata": {
    "tags": []
   },
   "outputs": [],
   "source": [
    "# component_subgraph_vertex_map"
   ]
  },
  {
   "cell_type": "code",
   "execution_count": null,
   "id": "edf12b0a-cb52-4a1a-9b28-02a8b0e49066",
   "metadata": {},
   "outputs": [],
   "source": []
  },
  {
   "cell_type": "code",
   "execution_count": null,
   "id": "44b33ac5-5611-4e4b-a97b-0cfcaac49fa9",
   "metadata": {},
   "outputs": [],
   "source": [
    "# write out final assembly"
   ]
  },
  {
   "cell_type": "code",
   "execution_count": null,
   "id": "2b530abc-7146-4439-872f-12f4aca53ed7",
   "metadata": {},
   "outputs": [],
   "source": [
    "# call variants"
   ]
  },
  {
   "cell_type": "code",
   "execution_count": null,
   "id": "30f38987-1550-4fee-bd1d-135dedc4ef6b",
   "metadata": {},
   "outputs": [],
   "source": [
    "# assess accuracy"
   ]
  }
 ],
 "metadata": {
  "kernelspec": {
   "display_name": "Julia 1.10.2",
   "language": "julia",
   "name": "julia-1.10"
  },
  "language_info": {
   "file_extension": ".jl",
   "mimetype": "application/julia",
   "name": "julia",
   "version": "1.10.2"
  }
 },
 "nbformat": 4,
 "nbformat_minor": 5
}
