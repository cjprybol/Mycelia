{
 "cells": [
  {
   "cell_type": "code",
   "execution_count": 1,
   "id": "335bf35f-c55e-4857-83f0-ed03dc666f4e",
   "metadata": {
    "tags": []
   },
   "outputs": [
    {
     "name": "stderr",
     "output_type": "stream",
     "text": [
      "\u001b[36m\u001b[1m[ \u001b[22m\u001b[39m\u001b[36m\u001b[1mInfo: \u001b[22m\u001b[39mPrecompiling Mycelia [453d265d-8292-4a7b-a57c-dce3f9ae6acd]\n",
      "\u001b[36m\u001b[1m[ \u001b[22m\u001b[39m\u001b[36m\u001b[1mInfo: \u001b[22m\u001b[39mSkipping precompilation since __precompile__(false). Importing Mycelia [453d265d-8292-4a7b-a57c-dce3f9ae6acd].\n"
     ]
    }
   ],
   "source": [
    "# if hit plotting library issues, try resetting LD path for julia\n",
    "# can set in ~/.local/share/jupyter/kernels/\n",
    "# @assert ENV[\"LD_LIBRARY_PATH\"] == \"\"\n",
    "import Pkg\n",
    "# ENV[\"CONDA_JL_USE_MINIFORGE\"] = \"1\"\n",
    "pkgs = [\n",
    "    \"Revise\",\n",
    "    \"FASTX\",\n",
    "    # \"VariantCallFormat\",\n",
    "    \"StatsBase\",\n",
    "    \"Distributions\",\n",
    "    \"StatsPlots\",\n",
    "    \"Random\",\n",
    "    \"Dates\",\n",
    "    \"DataFrames\",\n",
    "    \"BioSequences\",\n",
    "    \"Conda\"\n",
    "]\n",
    "# Pkg.add(pkgs)\n",
    "for pkg in pkgs\n",
    "    eval(Meta.parse(\"import $pkg\"))\n",
    "end\n",
    "# Pkg.develop(path=\"/global/cfs/projectdirs/m4269/cjprybol/Mycelia\")\n",
    "# Pkg.develop(path=\"../../..\")\n",
    "import Mycelia"
   ]
  },
  {
   "cell_type": "code",
   "execution_count": 2,
   "id": "128cc1e1-929a-42e1-8376-4c81832fd40c",
   "metadata": {
    "tags": []
   },
   "outputs": [
    {
     "data": {
      "text/plain": [
       "\"/oak/stanford/scg/lab_mpsnyder/cjprybol/Mycelia/projects/variant-calling-benchmarking/data/genomes\""
      ]
     },
     "execution_count": 2,
     "metadata": {},
     "output_type": "execute_result"
    }
   ],
   "source": [
    "PROJECT_BASEDIR = dirname(pwd())\n",
    "data_dir = joinpath(PROJECT_BASEDIR, \"data\")\n",
    "genome_dir = mkpath(joinpath(data_dir, \"genomes\"))"
   ]
  },
  {
   "cell_type": "code",
   "execution_count": 3,
   "id": "d73a3b2f-2945-4e69-8143-a28c5b989ca3",
   "metadata": {},
   "outputs": [
    {
     "data": {
      "text/plain": [
       "6-element Vector{String}:\n",
       " \"/oak/stanford/scg/lab_mpsnyder/cjprybol/Mycelia/projects/variant-calling-benchmarking/data/genomes/GCF_001610725.1.fna\"\n",
       " \"/oak/stanford/scg/lab_mpsnyder/cjprybol/Mycelia/projects/variant-calling-benchmarking/data/genomes/RjXNhGNbmpt9.fna\"\n",
       " \"/oak/stanford/scg/lab_mpsnyder/cjprybol/Mycelia/projects/variant-calling-benchmarking/data/genomes/GCF_024820135.1.fna\"\n",
       " \"/oak/stanford/scg/lab_mpsnyder/cjprybol/Mycelia/projects/variant-calling-benchmarking/data/genomes/GCF_023169545.1.fna\"\n",
       " \"/oak/stanford/scg/lab_mpsnyder/cjprybol/Mycelia/projects/variant-calling-benchmarking/data/genomes/PyN5Z2YLzh7c97.fna\"\n",
       " \"/oak/stanford/scg/lab_mpsnyder/cjprybol/Mycelia/projects/variant-calling-benchmarking/data/genomes/QCrcgDOI6tdWA9fZ3.fna\""
      ]
     },
     "execution_count": 3,
     "metadata": {},
     "output_type": "execute_result"
    }
   ],
   "source": [
    "fasta_files = sort(filter(x -> occursin(r\"\\.fna$\", x) && !occursin(\".vcf\", x) && !occursin(\"normalized\", x), readdir(genome_dir, join=true)), by=x->filesize(x))"
   ]
  },
  {
   "cell_type": "code",
   "execution_count": 6,
   "id": "f409816f-a305-4024-92bf-f63c3a4d9572",
   "metadata": {},
   "outputs": [
    {
     "data": {
      "text/plain": [
       "10"
      ]
     },
     "execution_count": 6,
     "metadata": {},
     "output_type": "execute_result"
    }
   ],
   "source": [
    "fasta_file = first(fasta_files)\n",
    "coverage = 10\n",
    "# coverage = 100\n",
    "# coverage = 1000"
   ]
  },
  {
   "cell_type": "code",
   "execution_count": null,
   "id": "8115ccc5-9116-4913-864a-d10181e02767",
   "metadata": {},
   "outputs": [
    {
     "name": "stderr",
     "output_type": "stream",
     "text": [
      "\u001b[36m\u001b[1m[ \u001b[22m\u001b[39m\u001b[36m\u001b[1mInfo: \u001b[22m\u001b[39m/oak/stanford/scg/lab_mpsnyder/cjprybol/Mycelia/projects/variant-calling-benchmarking/data/genomes/GCF_001610725.1.fna.art.10x.1.fq.gz and /oak/stanford/scg/lab_mpsnyder/cjprybol/Mycelia/projects/variant-calling-benchmarking/data/genomes/GCF_001610725.1.fna.art.10x.2.fq.gz found, skipping...\n"
     ]
    },
    {
     "name": "stdout",
     "output_type": "stream",
     "text": [
      "\n",
      "    ====================ART====================\n",
      "             ART_Illumina (2008-2016)          \n",
      "          Q Version 2.5.8 (June 6, 2016)       \n",
      "     Contact: Weichun Huang <whduke@gmail.com> \n",
      "    -------------------------------------------\n",
      "\n"
     ]
    },
    {
     "name": "stderr",
     "output_type": "stream",
     "text": [
      "Warning: your simulation will not output any ALN or SAM file with your parameter settings!\n"
     ]
    },
    {
     "name": "stdout",
     "output_type": "stream",
     "text": [
      "                  Paired-end sequencing simulation\n",
      "\n",
      "Total CPU time used: 0.4\n",
      "\n",
      "The random seed for the run: 1706728095\n",
      "\n",
      "Parameters used during run\n",
      "\tRead Length:\t150\n",
      "\tGenome masking 'N' cutoff frequency: \t1 in 150\n",
      "\tFold Coverage:            100X\n",
      "\tMean Fragment Length:     500\n",
      "\tStandard Deviation:       10\n",
      "\tProfile Type:             Combined\n",
      "\tID Tag:                   \n",
      "\n",
      "Quality Profile(s)\n",
      "\tFirst Read:   HiSeq 2500 Length 150 R1 (built-in profile) \n",
      "\tFirst Read:   HiSeq 2500 Length 150 R2 (built-in profile) \n",
      "\n",
      "Output files\n",
      "\n",
      "  FASTQ Sequence Files:\n",
      "\t the 1st reads: /oak/stanford/scg/lab_mpsnyder/cjprybol/Mycelia/projects/variant-calling-benchmarking/data/genomes/GCF_001610725.1.fna.art.100x.1.fq\n",
      "\t the 2nd reads: /oak/stanford/scg/lab_mpsnyder/cjprybol/Mycelia/projects/variant-calling-benchmarking/data/genomes/GCF_001610725.1.fna.art.100x.2.fq\n",
      "\n",
      "\n",
      "    ====================ART====================\n",
      "             ART_Illumina (2008-2016)          \n",
      "          Q Version 2.5.8 (June 6, 2016)       \n",
      "     Contact: Weichun Huang <whduke@gmail.com> \n",
      "    -------------------------------------------\n",
      "\n"
     ]
    },
    {
     "name": "stderr",
     "output_type": "stream",
     "text": [
      "Warning: your simulation will not output any ALN or SAM file with your parameter settings!\n"
     ]
    },
    {
     "name": "stdout",
     "output_type": "stream",
     "text": [
      "                  Paired-end sequencing simulation\n",
      "\n",
      "Total CPU time used: 2.46\n",
      "\n",
      "The random seed for the run: 1706728097\n",
      "\n",
      "Parameters used during run\n",
      "\tRead Length:\t150\n",
      "\tGenome masking 'N' cutoff frequency: \t1 in 150\n",
      "\tFold Coverage:            1000X\n",
      "\tMean Fragment Length:     500\n",
      "\tStandard Deviation:       10\n",
      "\tProfile Type:             Combined\n",
      "\tID Tag:                   \n",
      "\n",
      "Quality Profile(s)\n",
      "\tFirst Read:   HiSeq 2500 Length 150 R1 (built-in profile) \n",
      "\tFirst Read:   HiSeq 2500 Length 150 R2 (built-in profile) \n",
      "\n",
      "Output files\n",
      "\n",
      "  FASTQ Sequence Files:\n",
      "\t the 1st reads: /oak/stanford/scg/lab_mpsnyder/cjprybol/Mycelia/projects/variant-calling-benchmarking/data/genomes/GCF_001610725.1.fna.art.1000x.1.fq\n",
      "\t the 2nd reads: /oak/stanford/scg/lab_mpsnyder/cjprybol/Mycelia/projects/variant-calling-benchmarking/data/genomes/GCF_001610725.1.fna.art.1000x.2.fq\n",
      "\n",
      "\n",
      "    ====================ART====================\n",
      "             ART_Illumina (2008-2016)          \n",
      "          Q Version 2.5.8 (June 6, 2016)       \n",
      "     Contact: Weichun Huang <whduke@gmail.com> \n",
      "    -------------------------------------------\n",
      "\n"
     ]
    },
    {
     "name": "stderr",
     "output_type": "stream",
     "text": [
      "Warning: your simulation will not output any ALN or SAM file with your parameter settings!\n"
     ]
    },
    {
     "name": "stdout",
     "output_type": "stream",
     "text": [
      "                  Paired-end sequencing simulation\n",
      "\n",
      "Total CPU time used: 0.38\n",
      "\n",
      "The random seed for the run: 1706728105\n",
      "\n",
      "Parameters used during run\n",
      "\tRead Length:\t150\n",
      "\tGenome masking 'N' cutoff frequency: \t1 in 150\n",
      "\tFold Coverage:            10X\n",
      "\tMean Fragment Length:     500\n",
      "\tStandard Deviation:       10\n",
      "\tProfile Type:             Combined\n",
      "\tID Tag:                   \n",
      "\n",
      "Quality Profile(s)\n",
      "\tFirst Read:   HiSeq 2500 Length 150 R1 (built-in profile) \n",
      "\tFirst Read:   HiSeq 2500 Length 150 R2 (built-in profile) \n",
      "\n",
      "Output files\n",
      "\n",
      "  FASTQ Sequence Files:\n",
      "\t the 1st reads: /oak/stanford/scg/lab_mpsnyder/cjprybol/Mycelia/projects/variant-calling-benchmarking/data/genomes/RjXNhGNbmpt9.fna.art.10x.1.fq\n",
      "\t the 2nd reads: /oak/stanford/scg/lab_mpsnyder/cjprybol/Mycelia/projects/variant-calling-benchmarking/data/genomes/RjXNhGNbmpt9.fna.art.10x.2.fq\n",
      "\n",
      "\n",
      "    ====================ART====================\n",
      "             ART_Illumina (2008-2016)          \n",
      "          Q Version 2.5.8 (June 6, 2016)       \n",
      "     Contact: Weichun Huang <whduke@gmail.com> \n",
      "    -------------------------------------------\n",
      "\n"
     ]
    },
    {
     "name": "stderr",
     "output_type": "stream",
     "text": [
      "Warning: your simulation will not output any ALN or SAM file with your parameter settings!\n"
     ]
    },
    {
     "name": "stdout",
     "output_type": "stream",
     "text": [
      "                  Paired-end sequencing simulation\n",
      "\n",
      "Total CPU time used: 2.39\n",
      "\n",
      "The random seed for the run: 1706728107\n",
      "\n",
      "Parameters used during run\n",
      "\tRead Length:\t150\n",
      "\tGenome masking 'N' cutoff frequency: \t1 in 150\n",
      "\tFold Coverage:            100X\n",
      "\tMean Fragment Length:     500\n",
      "\tStandard Deviation:       10\n",
      "\tProfile Type:             Combined\n",
      "\tID Tag:                   \n",
      "\n",
      "Quality Profile(s)\n",
      "\tFirst Read:   HiSeq 2500 Length 150 R1 (built-in profile) \n",
      "\tFirst Read:   HiSeq 2500 Length 150 R2 (built-in profile) \n",
      "\n",
      "Output files\n",
      "\n",
      "  FASTQ Sequence Files:\n",
      "\t the 1st reads: /oak/stanford/scg/lab_mpsnyder/cjprybol/Mycelia/projects/variant-calling-benchmarking/data/genomes/RjXNhGNbmpt9.fna.art.100x.1.fq\n",
      "\t the 2nd reads: /oak/stanford/scg/lab_mpsnyder/cjprybol/Mycelia/projects/variant-calling-benchmarking/data/genomes/RjXNhGNbmpt9.fna.art.100x.2.fq\n",
      "\n",
      "\n",
      "    ====================ART====================\n",
      "             ART_Illumina (2008-2016)          \n",
      "          Q Version 2.5.8 (June 6, 2016)       \n",
      "     Contact: Weichun Huang <whduke@gmail.com> \n",
      "    -------------------------------------------\n",
      "\n"
     ]
    },
    {
     "name": "stderr",
     "output_type": "stream",
     "text": [
      "Warning: your simulation will not output any ALN or SAM file with your parameter settings!\n"
     ]
    },
    {
     "name": "stdout",
     "output_type": "stream",
     "text": [
      "                  Paired-end sequencing simulation\n",
      "\n",
      "Total CPU time used: 22.53\n",
      "\n",
      "The random seed for the run: 1706728116\n",
      "\n",
      "Parameters used during run\n",
      "\tRead Length:\t150\n",
      "\tGenome masking 'N' cutoff frequency: \t1 in 150\n",
      "\tFold Coverage:            1000X\n",
      "\tMean Fragment Length:     500\n",
      "\tStandard Deviation:       10\n",
      "\tProfile Type:             Combined\n",
      "\tID Tag:                   \n",
      "\n",
      "Quality Profile(s)\n",
      "\tFirst Read:   HiSeq 2500 Length 150 R1 (built-in profile) \n",
      "\tFirst Read:   HiSeq 2500 Length 150 R2 (built-in profile) \n",
      "\n",
      "Output files\n",
      "\n",
      "  FASTQ Sequence Files:\n",
      "\t the 1st reads: /oak/stanford/scg/lab_mpsnyder/cjprybol/Mycelia/projects/variant-calling-benchmarking/data/genomes/RjXNhGNbmpt9.fna.art.1000x.1.fq\n",
      "\t the 2nd reads: /oak/stanford/scg/lab_mpsnyder/cjprybol/Mycelia/projects/variant-calling-benchmarking/data/genomes/RjXNhGNbmpt9.fna.art.1000x.2.fq\n",
      "\n",
      "\n",
      "    ====================ART====================\n",
      "             ART_Illumina (2008-2016)          \n",
      "          Q Version 2.5.8 (June 6, 2016)       \n",
      "     Contact: Weichun Huang <whduke@gmail.com> \n",
      "    -------------------------------------------\n",
      "\n"
     ]
    },
    {
     "name": "stderr",
     "output_type": "stream",
     "text": [
      "Warning: your simulation will not output any ALN or SAM file with your parameter settings!\n"
     ]
    },
    {
     "name": "stdout",
     "output_type": "stream",
     "text": [
      "                  Paired-end sequencing simulation\n",
      "\n",
      "Total CPU time used: 0.41\n",
      "\n",
      "The random seed for the run: 1706728186\n",
      "\n",
      "Parameters used during run\n",
      "\tRead Length:\t150\n",
      "\tGenome masking 'N' cutoff frequency: \t1 in 150\n",
      "\tFold Coverage:            10X\n",
      "\tMean Fragment Length:     500\n",
      "\tStandard Deviation:       10\n",
      "\tProfile Type:             Combined\n",
      "\tID Tag:                   \n",
      "\n",
      "Quality Profile(s)\n",
      "\tFirst Read:   HiSeq 2500 Length 150 R1 (built-in profile) \n",
      "\tFirst Read:   HiSeq 2500 Length 150 R2 (built-in profile) \n",
      "\n",
      "Output files\n",
      "\n",
      "  FASTQ Sequence Files:\n",
      "\t the 1st reads: /oak/stanford/scg/lab_mpsnyder/cjprybol/Mycelia/projects/variant-calling-benchmarking/data/genomes/GCF_024820135.1.fna.art.10x.1.fq\n",
      "\t the 2nd reads: /oak/stanford/scg/lab_mpsnyder/cjprybol/Mycelia/projects/variant-calling-benchmarking/data/genomes/GCF_024820135.1.fna.art.10x.2.fq\n",
      "\n",
      "\n",
      "    ====================ART====================\n",
      "             ART_Illumina (2008-2016)          \n",
      "          Q Version 2.5.8 (June 6, 2016)       \n",
      "     Contact: Weichun Huang <whduke@gmail.com> \n",
      "    -------------------------------------------\n",
      "\n"
     ]
    },
    {
     "name": "stderr",
     "output_type": "stream",
     "text": [
      "Warning: your simulation will not output any ALN or SAM file with your parameter settings!\n"
     ]
    },
    {
     "name": "stdout",
     "output_type": "stream",
     "text": [
      "                  Paired-end sequencing simulation\n",
      "\n",
      "Total CPU time used: 2.69\n",
      "\n",
      "The random seed for the run: 1706728189\n",
      "\n",
      "Parameters used during run\n",
      "\tRead Length:\t150\n",
      "\tGenome masking 'N' cutoff frequency: \t1 in 150\n",
      "\tFold Coverage:            100X\n",
      "\tMean Fragment Length:     500\n",
      "\tStandard Deviation:       10\n",
      "\tProfile Type:             Combined\n",
      "\tID Tag:                   \n",
      "\n",
      "Quality Profile(s)\n",
      "\tFirst Read:   HiSeq 2500 Length 150 R1 (built-in profile) \n",
      "\tFirst Read:   HiSeq 2500 Length 150 R2 (built-in profile) \n",
      "\n",
      "Output files\n",
      "\n",
      "  FASTQ Sequence Files:\n",
      "\t the 1st reads: /oak/stanford/scg/lab_mpsnyder/cjprybol/Mycelia/projects/variant-calling-benchmarking/data/genomes/GCF_024820135.1.fna.art.100x.1.fq\n",
      "\t the 2nd reads: /oak/stanford/scg/lab_mpsnyder/cjprybol/Mycelia/projects/variant-calling-benchmarking/data/genomes/GCF_024820135.1.fna.art.100x.2.fq\n",
      "\n",
      "\n",
      "    ====================ART====================\n",
      "             ART_Illumina (2008-2016)          \n",
      "          Q Version 2.5.8 (June 6, 2016)       \n",
      "     Contact: Weichun Huang <whduke@gmail.com> \n",
      "    -------------------------------------------\n",
      "\n"
     ]
    },
    {
     "name": "stderr",
     "output_type": "stream",
     "text": [
      "Warning: your simulation will not output any ALN or SAM file with your parameter settings!\n"
     ]
    },
    {
     "name": "stdout",
     "output_type": "stream",
     "text": [
      "                  Paired-end sequencing simulation\n",
      "\n",
      "Total CPU time used: 25.9\n",
      "\n",
      "The random seed for the run: 1706728197\n",
      "\n",
      "Parameters used during run\n",
      "\tRead Length:\t150\n",
      "\tGenome masking 'N' cutoff frequency: \t1 in 150\n",
      "\tFold Coverage:            1000X\n",
      "\tMean Fragment Length:     500\n",
      "\tStandard Deviation:       10\n",
      "\tProfile Type:             Combined\n",
      "\tID Tag:                   \n",
      "\n",
      "Quality Profile(s)\n",
      "\tFirst Read:   HiSeq 2500 Length 150 R1 (built-in profile) \n",
      "\tFirst Read:   HiSeq 2500 Length 150 R2 (built-in profile) \n",
      "\n",
      "Output files\n",
      "\n",
      "  FASTQ Sequence Files:\n",
      "\t the 1st reads: /oak/stanford/scg/lab_mpsnyder/cjprybol/Mycelia/projects/variant-calling-benchmarking/data/genomes/GCF_024820135.1.fna.art.1000x.1.fq\n",
      "\t the 2nd reads: /oak/stanford/scg/lab_mpsnyder/cjprybol/Mycelia/projects/variant-calling-benchmarking/data/genomes/GCF_024820135.1.fna.art.1000x.2.fq\n",
      "\n",
      "\n",
      "    ====================ART====================\n",
      "             ART_Illumina (2008-2016)          \n",
      "          Q Version 2.5.8 (June 6, 2016)       \n",
      "     Contact: Weichun Huang <whduke@gmail.com> \n",
      "    -------------------------------------------\n",
      "\n"
     ]
    },
    {
     "name": "stderr",
     "output_type": "stream",
     "text": [
      "Warning: your simulation will not output any ALN or SAM file with your parameter settings!\n"
     ]
    },
    {
     "name": "stdout",
     "output_type": "stream",
     "text": [
      "                  Paired-end sequencing simulation\n",
      "\n",
      "Total CPU time used: 1.74\n",
      "\n",
      "The random seed for the run: 1706728274\n",
      "\n",
      "Parameters used during run\n",
      "\tRead Length:\t150\n",
      "\tGenome masking 'N' cutoff frequency: \t1 in 150\n",
      "\tFold Coverage:            10X\n",
      "\tMean Fragment Length:     500\n",
      "\tStandard Deviation:       10\n",
      "\tProfile Type:             Combined\n",
      "\tID Tag:                   \n",
      "\n",
      "Quality Profile(s)\n",
      "\tFirst Read:   HiSeq 2500 Length 150 R1 (built-in profile) \n",
      "\tFirst Read:   HiSeq 2500 Length 150 R2 (built-in profile) \n",
      "\n",
      "Output files\n",
      "\n",
      "  FASTQ Sequence Files:\n",
      "\t the 1st reads: /oak/stanford/scg/lab_mpsnyder/cjprybol/Mycelia/projects/variant-calling-benchmarking/data/genomes/GCF_023169545.1.fna.art.10x.1.fq\n",
      "\t the 2nd reads: /oak/stanford/scg/lab_mpsnyder/cjprybol/Mycelia/projects/variant-calling-benchmarking/data/genomes/GCF_023169545.1.fna.art.10x.2.fq\n",
      "\n",
      "\n",
      "    ====================ART====================\n",
      "             ART_Illumina (2008-2016)          \n",
      "          Q Version 2.5.8 (June 6, 2016)       \n",
      "     Contact: Weichun Huang <whduke@gmail.com> \n",
      "    -------------------------------------------\n",
      "\n"
     ]
    },
    {
     "name": "stderr",
     "output_type": "stream",
     "text": [
      "Warning: your simulation will not output any ALN or SAM file with your parameter settings!\n"
     ]
    },
    {
     "name": "stdout",
     "output_type": "stream",
     "text": [
      "                  Paired-end sequencing simulation\n",
      "\n",
      "Total CPU time used: 15.9\n",
      "\n",
      "The random seed for the run: 1706728280\n",
      "\n",
      "Parameters used during run\n",
      "\tRead Length:\t150\n",
      "\tGenome masking 'N' cutoff frequency: \t1 in 150\n",
      "\tFold Coverage:            100X\n",
      "\tMean Fragment Length:     500\n",
      "\tStandard Deviation:       10\n",
      "\tProfile Type:             Combined\n",
      "\tID Tag:                   \n",
      "\n",
      "Quality Profile(s)\n",
      "\tFirst Read:   HiSeq 2500 Length 150 R1 (built-in profile) \n",
      "\tFirst Read:   HiSeq 2500 Length 150 R2 (built-in profile) \n",
      "\n",
      "Output files\n",
      "\n",
      "  FASTQ Sequence Files:\n",
      "\t the 1st reads: /oak/stanford/scg/lab_mpsnyder/cjprybol/Mycelia/projects/variant-calling-benchmarking/data/genomes/GCF_023169545.1.fna.art.100x.1.fq\n",
      "\t the 2nd reads: /oak/stanford/scg/lab_mpsnyder/cjprybol/Mycelia/projects/variant-calling-benchmarking/data/genomes/GCF_023169545.1.fna.art.100x.2.fq\n",
      "\n",
      "\n",
      "    ====================ART====================\n",
      "             ART_Illumina (2008-2016)          \n",
      "          Q Version 2.5.8 (June 6, 2016)       \n",
      "     Contact: Weichun Huang <whduke@gmail.com> \n",
      "    -------------------------------------------\n",
      "\n"
     ]
    },
    {
     "name": "stderr",
     "output_type": "stream",
     "text": [
      "Warning: your simulation will not output any ALN or SAM file with your parameter settings!\n"
     ]
    },
    {
     "name": "stdout",
     "output_type": "stream",
     "text": [
      "                  Paired-end sequencing simulation\n",
      "\n",
      "Total CPU time used: 154.92\n",
      "\n",
      "The random seed for the run: 1706728328\n",
      "\n",
      "Parameters used during run\n",
      "\tRead Length:\t150\n",
      "\tGenome masking 'N' cutoff frequency: \t1 in 150\n",
      "\tFold Coverage:            1000X\n",
      "\tMean Fragment Length:     500\n",
      "\tStandard Deviation:       10\n",
      "\tProfile Type:             Combined\n",
      "\tID Tag:                   \n",
      "\n",
      "Quality Profile(s)\n",
      "\tFirst Read:   HiSeq 2500 Length 150 R1 (built-in profile) \n",
      "\tFirst Read:   HiSeq 2500 Length 150 R2 (built-in profile) \n",
      "\n",
      "Output files\n",
      "\n",
      "  FASTQ Sequence Files:\n",
      "\t the 1st reads: /oak/stanford/scg/lab_mpsnyder/cjprybol/Mycelia/projects/variant-calling-benchmarking/data/genomes/GCF_023169545.1.fna.art.1000x.1.fq\n",
      "\t the 2nd reads: /oak/stanford/scg/lab_mpsnyder/cjprybol/Mycelia/projects/variant-calling-benchmarking/data/genomes/GCF_023169545.1.fna.art.1000x.2.fq\n",
      "\n",
      "\n",
      "    ====================ART====================\n",
      "             ART_Illumina (2008-2016)          \n",
      "          Q Version 2.5.8 (June 6, 2016)       \n",
      "     Contact: Weichun Huang <whduke@gmail.com> \n",
      "    -------------------------------------------\n",
      "\n"
     ]
    },
    {
     "name": "stderr",
     "output_type": "stream",
     "text": [
      "Warning: your simulation will not output any ALN or SAM file with your parameter settings!\n"
     ]
    },
    {
     "name": "stdout",
     "output_type": "stream",
     "text": [
      "                  Paired-end sequencing simulation\n",
      "\n",
      "Total CPU time used: 2.44\n",
      "\n",
      "The random seed for the run: 1706728787\n",
      "\n",
      "Parameters used during run\n",
      "\tRead Length:\t150\n",
      "\tGenome masking 'N' cutoff frequency: \t1 in 150\n",
      "\tFold Coverage:            10X\n",
      "\tMean Fragment Length:     500\n",
      "\tStandard Deviation:       10\n",
      "\tProfile Type:             Combined\n",
      "\tID Tag:                   \n",
      "\n",
      "Quality Profile(s)\n",
      "\tFirst Read:   HiSeq 2500 Length 150 R1 (built-in profile) \n",
      "\tFirst Read:   HiSeq 2500 Length 150 R2 (built-in profile) \n",
      "\n",
      "Output files\n",
      "\n",
      "  FASTQ Sequence Files:\n",
      "\t the 1st reads: /oak/stanford/scg/lab_mpsnyder/cjprybol/Mycelia/projects/variant-calling-benchmarking/data/genomes/PyN5Z2YLzh7c97.fna.art.10x.1.fq\n",
      "\t the 2nd reads: /oak/stanford/scg/lab_mpsnyder/cjprybol/Mycelia/projects/variant-calling-benchmarking/data/genomes/PyN5Z2YLzh7c97.fna.art.10x.2.fq\n",
      "\n",
      "\n",
      "    ====================ART====================\n",
      "             ART_Illumina (2008-2016)          \n",
      "          Q Version 2.5.8 (June 6, 2016)       \n",
      "     Contact: Weichun Huang <whduke@gmail.com> \n",
      "    -------------------------------------------\n",
      "\n"
     ]
    },
    {
     "name": "stderr",
     "output_type": "stream",
     "text": [
      "Warning: your simulation will not output any ALN or SAM file with your parameter settings!\n"
     ]
    },
    {
     "name": "stdout",
     "output_type": "stream",
     "text": [
      "                  Paired-end sequencing simulation\n",
      "\n",
      "Total CPU time used: 22.54\n",
      "\n",
      "The random seed for the run: 1706728795\n",
      "\n",
      "Parameters used during run\n",
      "\tRead Length:\t150\n",
      "\tGenome masking 'N' cutoff frequency: \t1 in 150\n",
      "\tFold Coverage:            100X\n",
      "\tMean Fragment Length:     500\n",
      "\tStandard Deviation:       10\n",
      "\tProfile Type:             Combined\n",
      "\tID Tag:                   \n",
      "\n",
      "Quality Profile(s)\n",
      "\tFirst Read:   HiSeq 2500 Length 150 R1 (built-in profile) \n",
      "\tFirst Read:   HiSeq 2500 Length 150 R2 (built-in profile) \n",
      "\n",
      "Output files\n",
      "\n",
      "  FASTQ Sequence Files:\n",
      "\t the 1st reads: /oak/stanford/scg/lab_mpsnyder/cjprybol/Mycelia/projects/variant-calling-benchmarking/data/genomes/PyN5Z2YLzh7c97.fna.art.100x.1.fq\n",
      "\t the 2nd reads: /oak/stanford/scg/lab_mpsnyder/cjprybol/Mycelia/projects/variant-calling-benchmarking/data/genomes/PyN5Z2YLzh7c97.fna.art.100x.2.fq\n",
      "\n",
      "\n",
      "    ====================ART====================\n",
      "             ART_Illumina (2008-2016)          \n",
      "          Q Version 2.5.8 (June 6, 2016)       \n",
      "     Contact: Weichun Huang <whduke@gmail.com> \n",
      "    -------------------------------------------\n",
      "\n"
     ]
    },
    {
     "name": "stderr",
     "output_type": "stream",
     "text": [
      "Warning: your simulation will not output any ALN or SAM file with your parameter settings!\n"
     ]
    },
    {
     "name": "stdout",
     "output_type": "stream",
     "text": [
      "                  Paired-end sequencing simulation\n",
      "\n",
      "Total CPU time used: 224.91\n",
      "\n",
      "The random seed for the run: 1706728866\n",
      "\n",
      "Parameters used during run\n",
      "\tRead Length:\t150\n",
      "\tGenome masking 'N' cutoff frequency: \t1 in 150\n",
      "\tFold Coverage:            1000X\n",
      "\tMean Fragment Length:     500\n",
      "\tStandard Deviation:       10\n",
      "\tProfile Type:             Combined\n",
      "\tID Tag:                   \n",
      "\n",
      "Quality Profile(s)\n",
      "\tFirst Read:   HiSeq 2500 Length 150 R1 (built-in profile) \n",
      "\tFirst Read:   HiSeq 2500 Length 150 R2 (built-in profile) \n",
      "\n",
      "Output files\n",
      "\n",
      "  FASTQ Sequence Files:\n",
      "\t the 1st reads: /oak/stanford/scg/lab_mpsnyder/cjprybol/Mycelia/projects/variant-calling-benchmarking/data/genomes/PyN5Z2YLzh7c97.fna.art.1000x.1.fq\n",
      "\t the 2nd reads: /oak/stanford/scg/lab_mpsnyder/cjprybol/Mycelia/projects/variant-calling-benchmarking/data/genomes/PyN5Z2YLzh7c97.fna.art.1000x.2.fq\n",
      "\n",
      "\n",
      "    ====================ART====================\n",
      "             ART_Illumina (2008-2016)          \n",
      "          Q Version 2.5.8 (June 6, 2016)       \n",
      "     Contact: Weichun Huang <whduke@gmail.com> \n",
      "    -------------------------------------------\n",
      "\n"
     ]
    },
    {
     "name": "stderr",
     "output_type": "stream",
     "text": [
      "Warning: your simulation will not output any ALN or SAM file with your parameter settings!\n"
     ]
    },
    {
     "name": "stdout",
     "output_type": "stream",
     "text": [
      "                  Paired-end sequencing simulation\n",
      "\n",
      "Total CPU time used: 23.47\n",
      "\n",
      "The random seed for the run: 1706729570\n",
      "\n",
      "Parameters used during run\n",
      "\tRead Length:\t150\n",
      "\tGenome masking 'N' cutoff frequency: \t1 in 150\n",
      "\tFold Coverage:            10X\n",
      "\tMean Fragment Length:     500\n",
      "\tStandard Deviation:       10\n",
      "\tProfile Type:             Combined\n",
      "\tID Tag:                   \n",
      "\n",
      "Quality Profile(s)\n",
      "\tFirst Read:   HiSeq 2500 Length 150 R1 (built-in profile) \n",
      "\tFirst Read:   HiSeq 2500 Length 150 R2 (built-in profile) \n",
      "\n",
      "Output files\n",
      "\n",
      "  FASTQ Sequence Files:\n",
      "\t the 1st reads: /oak/stanford/scg/lab_mpsnyder/cjprybol/Mycelia/projects/variant-calling-benchmarking/data/genomes/QCrcgDOI6tdWA9fZ3.fna.art.10x.1.fq\n",
      "\t the 2nd reads: /oak/stanford/scg/lab_mpsnyder/cjprybol/Mycelia/projects/variant-calling-benchmarking/data/genomes/QCrcgDOI6tdWA9fZ3.fna.art.10x.2.fq\n",
      "\n",
      "\n",
      "    ====================ART====================\n",
      "             ART_Illumina (2008-2016)          \n",
      "          Q Version 2.5.8 (June 6, 2016)       \n",
      "     Contact: Weichun Huang <whduke@gmail.com> \n",
      "    -------------------------------------------\n",
      "\n"
     ]
    },
    {
     "name": "stderr",
     "output_type": "stream",
     "text": [
      "Warning: your simulation will not output any ALN or SAM file with your parameter settings!\n"
     ]
    },
    {
     "name": "stdout",
     "output_type": "stream",
     "text": [
      "                  Paired-end sequencing simulation\n",
      "\n",
      "Total CPU time used: 227.33\n",
      "\n",
      "The random seed for the run: 1706729643\n",
      "\n",
      "Parameters used during run\n",
      "\tRead Length:\t150\n",
      "\tGenome masking 'N' cutoff frequency: \t1 in 150\n",
      "\tFold Coverage:            100X\n",
      "\tMean Fragment Length:     500\n",
      "\tStandard Deviation:       10\n",
      "\tProfile Type:             Combined\n",
      "\tID Tag:                   \n",
      "\n",
      "Quality Profile(s)\n",
      "\tFirst Read:   HiSeq 2500 Length 150 R1 (built-in profile) \n",
      "\tFirst Read:   HiSeq 2500 Length 150 R2 (built-in profile) \n",
      "\n",
      "Output files\n",
      "\n",
      "  FASTQ Sequence Files:\n",
      "\t the 1st reads: /oak/stanford/scg/lab_mpsnyder/cjprybol/Mycelia/projects/variant-calling-benchmarking/data/genomes/QCrcgDOI6tdWA9fZ3.fna.art.100x.1.fq\n",
      "\t the 2nd reads: /oak/stanford/scg/lab_mpsnyder/cjprybol/Mycelia/projects/variant-calling-benchmarking/data/genomes/QCrcgDOI6tdWA9fZ3.fna.art.100x.2.fq\n",
      "\n",
      "\n",
      "    ====================ART====================\n",
      "             ART_Illumina (2008-2016)          \n",
      "          Q Version 2.5.8 (June 6, 2016)       \n",
      "     Contact: Weichun Huang <whduke@gmail.com> \n",
      "    -------------------------------------------\n",
      "\n"
     ]
    },
    {
     "name": "stderr",
     "output_type": "stream",
     "text": [
      "Warning: your simulation will not output any ALN or SAM file with your parameter settings!\n"
     ]
    },
    {
     "name": "stdout",
     "output_type": "stream",
     "text": [
      "                  Paired-end sequencing simulation\n",
      "\n",
      "Total CPU time used: 2360.11\n",
      "\n",
      "The random seed for the run: 1706730366\n",
      "\n",
      "Parameters used during run\n",
      "\tRead Length:\t150\n",
      "\tGenome masking 'N' cutoff frequency: \t1 in 150\n",
      "\tFold Coverage:            1000X\n",
      "\tMean Fragment Length:     500\n",
      "\tStandard Deviation:       10\n",
      "\tProfile Type:             Combined\n",
      "\tID Tag:                   \n",
      "\n",
      "Quality Profile(s)\n",
      "\tFirst Read:   HiSeq 2500 Length 150 R1 (built-in profile) \n",
      "\tFirst Read:   HiSeq 2500 Length 150 R2 (built-in profile) \n",
      "\n",
      "Output files\n",
      "\n",
      "  FASTQ Sequence Files:\n",
      "\t the 1st reads: /oak/stanford/scg/lab_mpsnyder/cjprybol/Mycelia/projects/variant-calling-benchmarking/data/genomes/QCrcgDOI6tdWA9fZ3.fna.art.1000x.1.fq\n",
      "\t the 2nd reads: /oak/stanford/scg/lab_mpsnyder/cjprybol/Mycelia/projects/variant-calling-benchmarking/data/genomes/QCrcgDOI6tdWA9fZ3.fna.art.1000x.2.fq\n",
      "\n"
     ]
    }
   ],
   "source": [
    "for fasta_file in fasta_files\n",
    "    for coverage in [10, 100, 1000]\n",
    "        outprefix = \"$(fasta_file).art.$(coverage)x.\"\n",
    "        forward = outprefix * \"1.fq.gz\"\n",
    "        reverse = outprefix * \"2.fq.gz\"\n",
    "        if isfile(forward) && isfile(reverse) && (filesize(forward) > 0) && (filesize(reverse) > 0)\n",
    "            @info \"$(forward) and $(reverse) found, skipping...\"\n",
    "            continue\n",
    "        end\n",
    "        run(`$(Mycelia.MAMBA) run --live-stream -n art art_illumina --noALN --seqSys HS25 --paired --len 150 --mflen 500 --sdev 10 --in $(fasta_file) --fcov $(coverage) --out $(fasta_file).art.$(coverage)x.`)\n",
    "        run(`gzip $(fasta_file).art.$(coverage)x.1.fq`)\n",
    "        run(`gzip $(fasta_file).art.$(coverage)x.2.fq`)\n",
    "    end\n",
    "end"
   ]
  }
 ],
 "metadata": {
  "kernelspec": {
   "display_name": "Julia 1.6.7",
   "language": "julia",
   "name": "julia-1.6"
  },
  "language_info": {
   "file_extension": ".jl",
   "mimetype": "application/julia",
   "name": "julia",
   "version": "1.6.7"
  }
 },
 "nbformat": 4,
 "nbformat_minor": 5
}
