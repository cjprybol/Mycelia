{
 "cells": [
  {
   "cell_type": "code",
   "execution_count": null,
   "id": "335bf35f-c55e-4857-83f0-ed03dc666f4e",
   "metadata": {
    "tags": []
   },
   "outputs": [],
   "source": [
    "# if hit plotting library issues, try resetting LD path for julia\n",
    "# can set in ~/.local/share/jupyter/kernels/\n",
    "# @assert ENV[\"LD_LIBRARY_PATH\"] == \"\"\n",
    "import Pkg\n",
    "pkgs = [\n",
    "    \"Revise\",\n",
    "]\n",
    "# Pkg.add(pkgs)\n",
    "for pkg in pkgs\n",
    "    eval(Meta.parse(\"import $pkg\"))\n",
    "end\n",
    "# Pkg.develop(path=\"/global/cfs/projectdirs/m4269/cjprybol/Mycelia\")\n",
    "# Pkg.develop(path=\"../../..\")\n",
    "import Mycelia"
   ]
  },
  {
   "cell_type": "code",
   "execution_count": null,
   "id": "128cc1e1-929a-42e1-8376-4c81832fd40c",
   "metadata": {
    "tags": []
   },
   "outputs": [],
   "source": [
    "PROJECT_BASEDIR = dirname(pwd())\n",
    "data_dir = joinpath(PROJECT_BASEDIR, \"data\")\n",
    "genome_dir = mkpath(joinpath(data_dir, \"genomes\"))"
   ]
  },
  {
   "cell_type": "code",
   "execution_count": null,
   "id": "d73a3b2f-2945-4e69-8143-a28c5b989ca3",
   "metadata": {},
   "outputs": [],
   "source": [
    "modified_fasta_files = sort(filter(x -> occursin(r\"\\.fna$\", x) && occursin(\".vcf\", x) && occursin(\"normalized\", x), readdir(genome_dir, join=true)), by=x->filesize(x))"
   ]
  },
  {
   "cell_type": "code",
   "execution_count": null,
   "id": "f409816f-a305-4024-92bf-f63c3a4d9572",
   "metadata": {},
   "outputs": [],
   "source": [
    "# fasta_file = first(fasta_files)\n",
    "# coverage = 10\n",
    "# # coverage = 100\n",
    "# # coverage = 1000"
   ]
  },
  {
   "cell_type": "code",
   "execution_count": null,
   "id": "8115ccc5-9116-4913-864a-d10181e02767",
   "metadata": {},
   "outputs": [],
   "source": [
    "threads = 1\n",
    "memory = 2\n",
    "for fasta_file in modified_fasta_files\n",
    "    for coverage in [10, 100, 1000]\n",
    "        outprefix = \"$(fasta_file).art.$(coverage)x.\"\n",
    "        forward = outprefix * \"1.fq.gz\"\n",
    "        reverse = outprefix * \"2.fq.gz\"\n",
    "        if isfile(forward) && isfile(reverse) && (filesize(forward) > 0) && (filesize(reverse) > 0)\n",
    "            @info \"$(forward) and $(reverse) found, skipping...\"\n",
    "            continue\n",
    "        end        \n",
    "        cmd = \n",
    "        \"\"\"\n",
    "        $(Mycelia.MAMBA) run --live-stream -n art art_illumina --noALN --seqSys HS25 --paired --len 150 --mflen 500 --sdev 10 --in $(fasta_file) --fcov $(coverage) --out $(fasta_file).art.$(coverage)x. \\\\\n",
    "        && gzip $(fasta_file).art.$(coverage)x.1.fq \\\\\n",
    "        && gzip $(fasta_file).art.$(coverage)x.2.fq\n",
    "        \"\"\"\n",
    "        Mycelia.nersc_sbatch(\n",
    "            job_name = \"$(basename(outprefix))\",\n",
    "            mail_user = \"cameron.prybol@gmail.com\",\n",
    "            logdir = mkpath(\"$(homedir())/workspace/slurmlogs\"),\n",
    "            qos = \"shared\",\n",
    "            mem_gb = memory,\n",
    "            cpus_per_task= threads,\n",
    "            cmd = cmd)\n",
    "    end\n",
    "end"
   ]
  }
 ],
 "metadata": {
  "kernelspec": {
   "display_name": "Julia 1.6.7",
   "language": "julia",
   "name": "julia-1.6"
  },
  "language_info": {
   "file_extension": ".jl",
   "mimetype": "application/julia",
   "name": "julia",
   "version": "1.6.7"
  }
 },
 "nbformat": 4,
 "nbformat_minor": 5
}
