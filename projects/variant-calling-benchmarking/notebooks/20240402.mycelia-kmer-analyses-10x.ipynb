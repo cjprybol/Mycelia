{
 "cells": [
  {
   "cell_type": "code",
   "execution_count": null,
   "id": "335bf35f-c55e-4857-83f0-ed03dc666f4e",
   "metadata": {
    "tags": []
   },
   "outputs": [],
   "source": [
    "# if hit plotting library issues, try resetting LD path for julia\n",
    "# can set in ~/.local/share/jupyter/kernels/\n",
    "@assert ENV[\"LD_LIBRARY_PATH\"] == \"\"\n",
    "import Pkg\n",
    "pkgs = [\n",
    "    \"Revise\",\n",
    "    \"FASTX\",\n",
    "    \"BioSequences\",\n",
    "    \"Kmers\",\n",
    "    \"Graphs\",\n",
    "    \"MetaGraphs\",\n",
    "    \"SparseArrays\",\n",
    "    \"ProgressMeter\",\n",
    "    \"Distributions\",\n",
    "    \"HiddenMarkovModels\",\n",
    "    \"BioAlignments\",\n",
    "    \"StatsBase\",\n",
    "    \"Random\",\n",
    "    \"StatsPlots\",\n",
    "    \"Statistics\",\n",
    "    # \"GraphMakie\",\n",
    "    \"IterTools\",\n",
    "    \"Primes\",\n",
    "    \"OnlineStats\",\n",
    "    \"IteratorSampling\"\n",
    "]\n",
    "# Pkg.add(pkgs)\n",
    "for pkg in pkgs\n",
    "    eval(Meta.parse(\"import $pkg\"))\n",
    "end\n",
    "# Pkg.develop(path=\"/global/cfs/projectdirs/m4269/cjprybol/Mycelia\")\n",
    "# Pkg.develop(path=\"../../..\")\n",
    "import Mycelia"
   ]
  },
  {
   "cell_type": "code",
   "execution_count": null,
   "id": "128cc1e1-929a-42e1-8376-4c81832fd40c",
   "metadata": {
    "tags": []
   },
   "outputs": [],
   "source": [
    "PROJECT_BASEDIR = dirname(pwd())\n",
    "data_dir = joinpath(PROJECT_BASEDIR, \"data\")\n",
    "genome_dir = mkpath(joinpath(data_dir, \"genomes\"))"
   ]
  },
  {
   "cell_type": "code",
   "execution_count": null,
   "id": "00736937-92d0-4cb6-a933-0cb068457ad1",
   "metadata": {
    "tags": []
   },
   "outputs": [],
   "source": [
    "working_dir = joinpath(data_dir, \"test\")\n",
    "mkpath(working_dir)"
   ]
  },
  {
   "cell_type": "code",
   "execution_count": null,
   "id": "2e294dc9-dc3d-4a15-8e15-70e649200874",
   "metadata": {
    "tags": []
   },
   "outputs": [],
   "source": [
    "# short_read_sets = unique(map(x -> match(r\"^(.+\\.\\d+x)\\.\", x).captures[1], filter(x -> occursin(r\"\\.fna\\.art\", x) && occursin(r\"\\.fq\\.gz\", x) && !occursin(\"trimming_report\", x) && !occursin(\"_val_\", x), sort(readdir(genome_dir, join=true), by=x->filesize(x)))))\n",
    "# # forward = short_read_set * \".1_val_1.fq.gz\"\n",
    "# # reverse = short_read_set * \".2_val_2.fq.gz\""
   ]
  },
  {
   "cell_type": "code",
   "execution_count": null,
   "id": "c4ab3b27-b540-4f4d-8bd3-093e58e0304d",
   "metadata": {
    "tags": []
   },
   "outputs": [],
   "source": [
    "long_read_fastqs = sort(filter(x -> occursin(r\"\\.filtlong\\.fq\\.gz$\", x), readdir(genome_dir, join=true)), by=x->filesize(x))\n",
    "fastq = long_read_fastqs[1]"
   ]
  },
  {
   "cell_type": "code",
   "execution_count": null,
   "id": "9de34fec-79aa-419f-a1a1-dd7dfe664a7b",
   "metadata": {
    "tags": []
   },
   "outputs": [],
   "source": [
    "reference_fasta = replace(fastq, r\"\\.badread.*\" => \"\")"
   ]
  },
  {
   "cell_type": "code",
   "execution_count": null,
   "id": "579257eb-0de0-49a8-9381-d8938a806165",
   "metadata": {
    "tags": []
   },
   "outputs": [],
   "source": [
    "k = Mycelia.assess_dnamer_saturation([fastq])"
   ]
  },
  {
   "cell_type": "code",
   "execution_count": null,
   "id": "05f13336-f70e-4df7-9aaa-2d6388eee430",
   "metadata": {
    "tags": []
   },
   "outputs": [],
   "source": [
    "kmer_type = Kmers.DNAKmer{k, 1}"
   ]
  },
  {
   "cell_type": "code",
   "execution_count": null,
   "id": "c6c3465d-7acf-47f3-996c-6f6107b01938",
   "metadata": {
    "tags": []
   },
   "outputs": [],
   "source": [
    "function fasta_to_reference_kmer_counts(;kmer_type, fasta)\n",
    "    kmer_counts = Dict{kmer_type, Int}()\n",
    "    for record in Mycelia.open_fastx(fasta)\n",
    "        record_sequence = BioSequences.LongDNA{2}(FASTX.sequence(record))\n",
    "        forward_counts = StatsBase.countmap(kmer for (i, kmer) in Kmers.EveryKmer{kmer_type}(record_sequence))\n",
    "        reverse_counts = StatsBase.countmap(kmer for (i, kmer) in Kmers.EveryKmer{kmer_type}(BioSequences.reverse_complement(record_sequence)))\n",
    "        record_counts = merge(+, forward_counts, reverse_counts)\n",
    "        merge!(+, kmer_counts, record_counts)\n",
    "    end\n",
    "    return kmer_counts\n",
    "end\n",
    "\n",
    "# reference_kmers = Set(keys(fasta_to_reference_kmer_counts(kmer_type = kmer_type, fasta = reference_fasta)))\n",
    "reference_kmer_counts = fasta_to_reference_kmer_counts(kmer_type=kmer_type, fasta=reference_fasta)"
   ]
  },
  {
   "cell_type": "code",
   "execution_count": null,
   "id": "733df226-2b99-4d1b-9746-18c34ef4aab2",
   "metadata": {
    "tags": []
   },
   "outputs": [],
   "source": [
    "records = collect(Mycelia.open_fastx(fastq))"
   ]
  },
  {
   "cell_type": "code",
   "execution_count": null,
   "id": "279f9c7a-5fca-4933-bd7f-b3a2bd6d5b3b",
   "metadata": {
    "tags": []
   },
   "outputs": [],
   "source": [
    "fit_mean = OnlineStats.fit!(OnlineStats.Mean(), IterTools.chain(FASTX.quality_scores(record) for record in records))"
   ]
  },
  {
   "cell_type": "code",
   "execution_count": null,
   "id": "f2a5a57d-57e5-4318-8951-a3b08f72695e",
   "metadata": {
    "tags": []
   },
   "outputs": [],
   "source": [
    "fit_extrema = OnlineStats.fit!(OnlineStats.Extrema(), IterTools.chain(FASTX.quality_scores(record) for record in records))"
   ]
  },
  {
   "cell_type": "code",
   "execution_count": null,
   "id": "d8a8c62a-c482-43d9-b239-1a9c76151e2c",
   "metadata": {
    "tags": []
   },
   "outputs": [],
   "source": [
    "fit_variance = OnlineStats.fit!(OnlineStats.Variance(), IterTools.chain(FASTX.quality_scores(record) for record in records))\n",
    "standard_deviation = sqrt(OnlineStats.value(fit_variance))"
   ]
  },
  {
   "cell_type": "code",
   "execution_count": null,
   "id": "b5dd4f46-221e-494a-a5a9-0edee618a227",
   "metadata": {
    "tags": []
   },
   "outputs": [],
   "source": [
    "read_quality_scores = [collect(FASTX.quality_scores(record)) for record in records]"
   ]
  },
  {
   "cell_type": "code",
   "execution_count": null,
   "id": "29d1037e-c918-4942-8849-e87f6cbed58b",
   "metadata": {
    "tags": []
   },
   "outputs": [],
   "source": [
    "p = StatsPlots.scatter(\n",
    "    IteratorSampling.itsample(IterTools.chain(read_quality_scores...), 10^4),\n",
    "    title = \"base quality scores\",\n",
    "    xlabel = \"read index\",\n",
    "    ylabel = \"quality score (PHRED)\",\n",
    "    # color = :black,\n",
    "    alpha = 0.25,\n",
    "    label = nothing)\n",
    "\n",
    "StatsPlots.hline!(\n",
    "    p,\n",
    "    [OnlineStats.value(fit_mean)],\n",
    "    labels = \"mean = $(round(OnlineStats.value(fit_mean), digits=3))\",\n",
    "    linestyle = :dash\n",
    ")\n",
    "\n",
    "StatsPlots.hline!(p, [floor(OnlineStats.value(fit_mean) - standard_deviation)], label = \"(mean - 1σ)\")"
   ]
  },
  {
   "cell_type": "code",
   "execution_count": null,
   "id": "5f036a09-bffa-4053-a1af-95ae3c9ed293",
   "metadata": {
    "tags": []
   },
   "outputs": [],
   "source": [
    "# make a dictionary associating all kmers with their quality scores\n",
    "all_kmer_quality_support = Dict{kmer_type, Vector{Float64}}()\n",
    "for record in records\n",
    "    record_quality_scores = collect(FASTX.quality_scores(record))\n",
    "    record_quality_score_slices = [record_quality_scores[i:i+k-1] for i in 1:length(record_quality_scores)-k+1]\n",
    "    sequence = BioSequences.LongDNA{2}(FASTX.sequence(record))\n",
    "    for ((i, kmer), kmer_base_qualities) in zip(Kmers.EveryKmer{kmer_type}(sequence), record_quality_score_slices)\n",
    "        if haskey(all_kmer_quality_support, kmer)\n",
    "            all_kmer_quality_support[kmer] = all_kmer_quality_support[kmer] .+ kmer_base_qualities\n",
    "        else\n",
    "            all_kmer_quality_support[kmer] = kmer_base_qualities\n",
    "        end\n",
    "    end\n",
    "end\n",
    "all_kmer_quality_support"
   ]
  },
  {
   "cell_type": "code",
   "execution_count": null,
   "id": "57cdc6ab-c7ed-4f92-9fab-979b5f47728e",
   "metadata": {
    "tags": []
   },
   "outputs": [],
   "source": [
    "kmer_counts = Mycelia.count_kmers(kmer_type, fastq)"
   ]
  },
  {
   "cell_type": "code",
   "execution_count": null,
   "id": "9ba5ed93-48d8-4ea6-bee4-f8d51bb3e833",
   "metadata": {
    "tags": []
   },
   "outputs": [],
   "source": [
    "kmer_indices = Dict(kmer => i for (i, kmer) in enumerate(keys(kmer_counts)))\n",
    "\n",
    "StatsPlots.histogram(\n",
    "    collect(values(kmer_counts)),\n",
    "    legend=false,\n",
    "    title = \"kmer counts\",\n",
    "    xlabel = \"# of occurances\",\n",
    "    ylabel = \"# of kmers\",\n",
    "    yscale = :log2\n",
    "    # color = :black\n",
    ")"
   ]
  },
  {
   "cell_type": "code",
   "execution_count": null,
   "id": "25e7ae9b-a209-4591-ad71-66dd4bff601a",
   "metadata": {},
   "outputs": [],
   "source": [
    "canonical_kmer_counts = Mycelia.count_canonical_kmers(kmer_type, fastq)\n",
    "kmer_indices = Dict(kmer => i for (i, kmer) in enumerate(keys(canonical_kmer_counts)))\n",
    "\n",
    "StatsPlots.histogram(\n",
    "    collect(values(canonical_kmer_counts)),\n",
    "    legend=false,\n",
    "    title = \"canonical kmer counts\",\n",
    "    xlabel = \"# of occurances\",\n",
    "    ylabel = \"# of kmers\",\n",
    "    yscale = :log2\n",
    "    # color = :black\n",
    ")"
   ]
  },
  {
   "cell_type": "code",
   "execution_count": null,
   "id": "a8c93778-158d-410e-a9fb-a53d5664ec52",
   "metadata": {
    "tags": []
   },
   "outputs": [],
   "source": [
    "valid_kmer_counts = [count for (kmer, count) in kmer_counts if !(kmer in keys(reference_kmer_counts))]\n",
    "invalid_kmer_counts = [count for (kmer, count) in kmer_counts if (kmer in keys(reference_kmer_counts))]\n",
    "\n",
    "StatsPlots.density(\n",
    "    [valid_kmer_counts, invalid_kmer_counts],\n",
    "    title = \"kmer counts\",\n",
    "    legend = :topright,\n",
    "    labels = [\"valid kmer counts\" \"sequencing artifacts\"],\n",
    "    xlabel = \"# of occurances\",\n",
    "    ylabel = \"# of kmers\",\n",
    ")"
   ]
  },
  {
   "cell_type": "code",
   "execution_count": null,
   "id": "4c4b2636-dd20-44d6-9723-49ed29621050",
   "metadata": {
    "tags": []
   },
   "outputs": [],
   "source": [
    "all_kmer_quality_support\n",
    "\n",
    "function jitter(x, n)\n",
    "    return [x + rand() / 3 * (ifelse(rand(Bool), 1, -1)) for i in 1:n]\n",
    "end\n",
    "\n",
    "reference_kmers = sort(collect(keys(reference_kmer_counts)))\n",
    "\n",
    "valid_average_qualities = Float64[]\n",
    "invalid_average_qualities = Float64[]\n",
    "for (kmer, quality_values) in all_kmer_quality_support\n",
    "    averages = Statistics.mean.(quality_values)\n",
    "    if kmer in reference_kmers\n",
    "        append!(valid_average_qualities, averages)\n",
    "    else\n",
    "        append!(invalid_average_qualities, averages)\n",
    "    end\n",
    "end\n",
    "\n",
    "p = StatsPlots.scatter(\n",
    "    [jitter(2, length(invalid_average_qualities)), jitter(1, length(valid_average_qualities))],\n",
    "    [invalid_average_qualities, valid_average_qualities],\n",
    "    alpha=0.2,\n",
    "    title = \"Average joint-Q value for each Kmer\",\n",
    "    xticks = ((1, 2), (\"valid kmers\", \"sequencing artifacts\")),\n",
    "    labels = nothing\n",
    ")\n",
    "StatsPlots.plot!(p, \n",
    "    [0.75, 1.25],\n",
    "    [Statistics.mean(valid_average_qualities), Statistics.mean(valid_average_qualities)],\n",
    "    linewidth=4,\n",
    "    color=:orange,\n",
    "    label = \"mean = $(round(Statistics.mean(valid_average_qualities), digits=3))\")\n",
    "StatsPlots.plot!(p,\n",
    "    [1.75, 2.25],\n",
    "    [Statistics.mean(invalid_average_qualities), Statistics.mean(invalid_average_qualities)],\n",
    "    linewidth=4,\n",
    "    color=:blue,\n",
    "    label=\"mean = $(round(Statistics.mean(invalid_average_qualities), digits=3))\")"
   ]
  },
  {
   "cell_type": "code",
   "execution_count": null,
   "id": "c7fadeb9-8bec-4b9d-9ce3-7fd7c8244172",
   "metadata": {
    "tags": []
   },
   "outputs": [],
   "source": [
    "strand_normalized_quality_support = Dict{kmer_type, Vector{Float64}}()\n",
    "for (kmer, support) in all_kmer_quality_support\n",
    "    strand_normalized_quality_support[kmer] = support\n",
    "    if haskey(all_kmer_quality_support, BioSequences.reverse_complement(kmer))\n",
    "        strand_normalized_quality_support[kmer] .+= all_kmer_quality_support[BioSequences.reverse_complement(kmer)]\n",
    "    end\n",
    "end\n",
    "strand_normalized_quality_support\n",
    "\n",
    "function jitter(x, n)\n",
    "    return [x + rand() / 3 * (ifelse(rand(Bool), 1, -1)) for i in 1:n]\n",
    "end\n",
    "\n",
    "reference_kmers = sort(collect(keys(reference_kmer_counts)))\n",
    "\n",
    "valid_average_qualities = Float64[]\n",
    "invalid_average_qualities = Float64[]\n",
    "for (kmer, quality_values) in strand_normalized_quality_support\n",
    "    averages = Statistics.mean.(quality_values)\n",
    "    if kmer in reference_kmers\n",
    "        append!(valid_average_qualities, averages)\n",
    "    else\n",
    "        append!(invalid_average_qualities, averages)\n",
    "    end\n",
    "end\n",
    "\n",
    "p = StatsPlots.scatter(\n",
    "    [jitter(2, length(invalid_average_qualities)), jitter(1, length(valid_average_qualities))],\n",
    "    [invalid_average_qualities, valid_average_qualities],\n",
    "    alpha=0.2,\n",
    "    title = \"Average adjusted joint-Q value for each Kmer\",\n",
    "    xticks = ((1, 2), (\"valid kmers\", \"sequencing artifacts\")),\n",
    "    labels = nothing\n",
    ")\n",
    "StatsPlots.plot!(p, \n",
    "    [0.75, 1.25],\n",
    "    [Statistics.mean(valid_average_qualities), Statistics.mean(valid_average_qualities)],\n",
    "    linewidth=4,\n",
    "    color=:orange,\n",
    "    label = \"mean = $(round(Statistics.mean(valid_average_qualities), digits=3))\")\n",
    "StatsPlots.plot!(p,\n",
    "    [1.75, 2.25],\n",
    "    [Statistics.mean(invalid_average_qualities), Statistics.mean(invalid_average_qualities)],\n",
    "    linewidth=4,\n",
    "    color=:blue,\n",
    "    label=\"mean = $(round(Statistics.mean(invalid_average_qualities), digits=3))\")"
   ]
  },
  {
   "cell_type": "code",
   "execution_count": null,
   "id": "a7483aef-99c3-467b-933c-f7d9b7c4e4be",
   "metadata": {
    "tags": []
   },
   "outputs": [],
   "source": [
    "valid_total_qualities = Float64[]\n",
    "invalid_total_qualities = Float64[]\n",
    "for (kmer, quality_values) in strand_normalized_quality_support\n",
    "    if kmer in reference_kmers\n",
    "        append!(valid_total_qualities, sum(quality_values))\n",
    "    else\n",
    "        append!(invalid_total_qualities, sum(quality_values))\n",
    "    end\n",
    "end\n",
    "\n",
    "p = StatsPlots.scatter(\n",
    "    [jitter(2, length(invalid_total_qualities)), jitter(1, length(valid_total_qualities))],\n",
    "    [invalid_total_qualities, valid_total_qualities],\n",
    "    alpha=0.2,\n",
    "    title = \"Total adjusted joint-Q value for each Kmer\",\n",
    "    xticks = ((1, 2), (\"valid kmers\", \"sequencing artifacts\")),\n",
    "    labels = nothing\n",
    ")\n",
    "StatsPlots.plot!(p, \n",
    "    [0.75, 1.25],\n",
    "    [Statistics.mean(valid_total_qualities), Statistics.mean(valid_total_qualities)],\n",
    "    linewidth=4,\n",
    "    color=:orange,\n",
    "    label = \"mean = $(round(Statistics.mean(valid_total_qualities), digits=3))\")\n",
    "StatsPlots.plot!(p,\n",
    "    [1.75, 2.25],\n",
    "    [Statistics.mean(invalid_total_qualities), Statistics.mean(invalid_total_qualities)],\n",
    "    linewidth=4,\n",
    "    color=:blue,\n",
    "    label=\"mean = $(round(Statistics.mean(invalid_total_qualities), digits=3))\")"
   ]
  }
 ],
 "metadata": {
  "kernelspec": {
   "display_name": "Julia 1.10.2",
   "language": "julia",
   "name": "julia-1.10"
  },
  "language_info": {
   "file_extension": ".jl",
   "mimetype": "application/julia",
   "name": "julia",
   "version": "1.10.2"
  }
 },
 "nbformat": 4,
 "nbformat_minor": 5
}
