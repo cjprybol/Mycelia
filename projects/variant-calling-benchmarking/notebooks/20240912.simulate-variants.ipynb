{
 "cells": [
  {
   "cell_type": "code",
   "execution_count": null,
   "id": "36bf4986-b6b2-45ff-af3d-64edd9bc3390",
   "metadata": {},
   "outputs": [],
   "source": [
    "# if hit plotting library issues, try resetting LD path for julia\n",
    "# can set in ~/.local/share/jupyter/kernels/\n",
    "haskey(ENV, \"LD_LIBRARY_PATH\") && @assert ENV[\"LD_LIBRARY_PATH\"] == \"\"\n",
    "\n",
    "import Pkg\n",
    "# use temp or named environment to avoid package clashes across development projects\n",
    "Pkg.activate(;temp=true)\n",
    "Pkg.add(\"Revise\")\n",
    "import Revise\n",
    "\n",
    "# Pkg.develop(path=\"/global/cfs/projectdirs/m4269/cjprybol/Mycelia\")\n",
    "# Pkg.develop(path=\"../../..\")\n",
    "Pkg.develop(path=\"$(homedir())/workspace/Mycelia\")\n",
    "import Mycelia\n",
    "\n",
    "pkgs = [\n",
    "    \"Random\",\n",
    "    \"Dates\"\n",
    "]\n",
    "Pkg.add(pkgs)\n",
    "for pkg in pkgs\n",
    "    eval(Meta.parse(\"import $pkg\"))\n",
    "end"
   ]
  },
  {
   "cell_type": "code",
   "execution_count": null,
   "id": "128cc1e1-929a-42e1-8376-4c81832fd40c",
   "metadata": {
    "tags": []
   },
   "outputs": [],
   "source": [
    "PROJECT_BASEDIR = dirname(pwd())\n",
    "data_dir = joinpath(PROJECT_BASEDIR, \"data\")\n",
    "genome_dir = mkpath(joinpath(data_dir, \"genomes\"))"
   ]
  },
  {
   "cell_type": "code",
   "execution_count": null,
   "id": "36995ecb-8302-4fcc-82d7-f4c1e0da736c",
   "metadata": {},
   "outputs": [],
   "source": [
    "# seed = parse(Int, replace(string(Dates.today()), \"-\" => \"\"))\n",
    "seed = 20240912"
   ]
  },
  {
   "cell_type": "code",
   "execution_count": null,
   "id": "5f595137-9815-4ab8-ab49-ec0968af9743",
   "metadata": {
    "tags": []
   },
   "outputs": [],
   "source": [
    "Random.seed!(seed)"
   ]
  },
  {
   "cell_type": "code",
   "execution_count": null,
   "id": "d73a3b2f-2945-4e69-8143-a28c5b989ca3",
   "metadata": {
    "tags": []
   },
   "outputs": [],
   "source": [
    "fasta_files = sort(filter(x -> occursin(r\"\\.fna$\", x) && !occursin(\".vcf\", x) && !occursin(\"normalized\", x), readdir(genome_dir, join=true)), by=x->filesize(x))"
   ]
  },
  {
   "cell_type": "code",
   "execution_count": null,
   "id": "70cb2022-7d7f-418c-8917-740a7dae2c7a",
   "metadata": {
    "tags": []
   },
   "outputs": [],
   "source": [
    "for fasta_file in fasta_files\n",
    "    outfile = fasta_file * \".normalized.vcf.fna\"\n",
    "    if !isfile(outfile)\n",
    "        @info \"missing $(outfile)\"\n",
    "        Mycelia.simulate_variants(fasta_file)\n",
    "    end\n",
    "end"
   ]
  }
 ],
 "metadata": {
  "kernelspec": {
   "display_name": "julia 1.10.5",
   "language": "julia",
   "name": "julia-1.10"
  },
  "language_info": {
   "file_extension": ".jl",
   "mimetype": "application/julia",
   "name": "julia",
   "version": "1.10.5"
  }
 },
 "nbformat": 4,
 "nbformat_minor": 5
}
