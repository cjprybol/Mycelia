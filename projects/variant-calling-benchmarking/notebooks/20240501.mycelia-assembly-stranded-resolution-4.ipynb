{
 "cells": [
  {
   "cell_type": "code",
   "execution_count": null,
   "id": "335bf35f-c55e-4857-83f0-ed03dc666f4e",
   "metadata": {
    "tags": []
   },
   "outputs": [],
   "source": [
    "# if hit plotting library issues, try resetting LD path for julia\n",
    "# can set in ~/.local/share/jupyter/kernels/\n",
    "haskey(ENV, \"LD_LIBRARY_PATH\") && @assert ENV[\"LD_LIBRARY_PATH\"] == \"\"\n",
    "import Pkg\n",
    "pkgs = [\n",
    "    \"Revise\",\n",
    "    \"FASTX\",\n",
    "    \"BioSequences\",\n",
    "    \"Kmers\",\n",
    "    \"Graphs\",\n",
    "    \"MetaGraphs\",\n",
    "    \"SparseArrays\",\n",
    "    \"ProgressMeter\",\n",
    "    \"Distributions\",\n",
    "    \"HiddenMarkovModels\",\n",
    "    \"BioAlignments\",\n",
    "    \"StatsBase\",\n",
    "    \"Random\",\n",
    "    \"StatsPlots\",\n",
    "    \"Statistics\",\n",
    "    # \"GraphMakie\",\n",
    "    \"IterTools\",\n",
    "    \"Primes\",\n",
    "    \"OnlineStats\",\n",
    "    \"IteratorSampling\",\n",
    "    \"HypothesisTests\",\n",
    "    \"Clustering\",\n",
    "    \"Distances\",\n",
    "    \"BioAlignments\",\n",
    "    \"Statistics\",\n",
    "    \"Primes\",\n",
    "    \"DataFrames\"\n",
    "]\n",
    "# Pkg.add(pkgs)\n",
    "for pkg in pkgs\n",
    "    eval(Meta.parse(\"import $pkg\"))\n",
    "end\n",
    "# Pkg.develop(path=\"/global/cfs/projectdirs/m4269/cjprybol/Mycelia\")\n",
    "# Pkg.develop(path=\"../../..\")\n",
    "import Mycelia"
   ]
  },
  {
   "cell_type": "code",
   "execution_count": null,
   "id": "128cc1e1-929a-42e1-8376-4c81832fd40c",
   "metadata": {
    "tags": []
   },
   "outputs": [],
   "source": [
    "PROJECT_BASEDIR = dirname(pwd())\n",
    "data_dir = joinpath(PROJECT_BASEDIR, \"data\")\n",
    "genome_dir = mkpath(joinpath(data_dir, \"genomes\"))"
   ]
  },
  {
   "cell_type": "code",
   "execution_count": null,
   "id": "00736937-92d0-4cb6-a933-0cb068457ad1",
   "metadata": {
    "tags": []
   },
   "outputs": [],
   "source": [
    "working_dir = joinpath(data_dir, \"test\")\n",
    "mkpath(working_dir)"
   ]
  },
  {
   "cell_type": "code",
   "execution_count": null,
   "id": "2e294dc9-dc3d-4a15-8e15-70e649200874",
   "metadata": {
    "tags": []
   },
   "outputs": [],
   "source": [
    "# short_read_sets = unique(map(x -> match(r\"^(.+\\.\\d+x)\\.\", x).captures[1], filter(x -> occursin(r\"\\.fna\\.art\", x) && occursin(r\"\\.fq\\.gz\", x) && !occursin(\"trimming_report\", x) && !occursin(\"_val_\", x), sort(readdir(genome_dir, join=true), by=x->filesize(x)))))\n",
    "# # forward = short_read_set * \".1_val_1.fq.gz\"\n",
    "# # reverse = short_read_set * \".2_val_2.fq.gz\""
   ]
  },
  {
   "cell_type": "code",
   "execution_count": null,
   "id": "c4ab3b27-b540-4f4d-8bd3-093e58e0304d",
   "metadata": {
    "tags": []
   },
   "outputs": [],
   "source": [
    "long_read_fastqs = sort(filter(x -> occursin(r\"\\.filtlong\\.fq\\.gz$\", x), readdir(genome_dir, join=true)), by=x->filesize(x))\n",
    "# fastq = long_read_fastqs[1]\n",
    "# fastq = long_read_fastqs[2]\n",
    "# fastq = long_read_fastqs[3]\n",
    "original_fastq = long_read_fastqs[4]"
   ]
  },
  {
   "cell_type": "code",
   "execution_count": null,
   "id": "55e89dcb-8a32-4a0c-855a-e7f3c2cc411c",
   "metadata": {
    "tags": []
   },
   "outputs": [],
   "source": [
    "# # 1 hour runtime\n",
    "# polishing_results = Mycelia.iterative_polishing(original_fastq)"
   ]
  },
  {
   "cell_type": "code",
   "execution_count": null,
   "id": "600e5b0e-a75f-4d9b-85a6-9bdef03671c1",
   "metadata": {
    "tags": []
   },
   "outputs": [],
   "source": [
    "# assembly_fastq = last(polishing_results).fastq"
   ]
  },
  {
   "cell_type": "code",
   "execution_count": null,
   "id": "e5402112-20cd-44a2-a151-a19531c41af0",
   "metadata": {},
   "outputs": [],
   "source": [
    "# assembly_k = last(polishing_results).k"
   ]
  },
  {
   "cell_type": "code",
   "execution_count": null,
   "id": "7b0ce0c8-f8f3-4eb5-bbb2-1b303e195664",
   "metadata": {
    "tags": []
   },
   "outputs": [],
   "source": [
    "assembly_fastq = \"/global/cfs/cdirs/m4269/cjprybol/Mycelia/projects/variant-calling-benchmarking/data/genomes/3NEzu1DmBy.fna.normalized.vcf.fna.badread.10x.filtlong.k11.k13.k17.k19.k23.k31.k53.k89.fq.gz\"\n",
    "assembly_k = 89"
   ]
  },
  {
   "cell_type": "code",
   "execution_count": null,
   "id": "f2c258bb-3d78-40b3-841f-5d3ef9797309",
   "metadata": {
    "tags": []
   },
   "outputs": [],
   "source": [
    "mean_read_length = Statistics.mean([length(FASTX.sequence(record)) for record in Mycelia.open_fastx(assembly_fastq)])"
   ]
  },
  {
   "cell_type": "code",
   "execution_count": null,
   "id": "b26e2c53-d751-49af-8b7e-765686ce01df",
   "metadata": {
    "tags": []
   },
   "outputs": [],
   "source": [
    "# assembly_k = maximum(filter(k -> k < mean_read_length/2, Mycelia.ks()))"
   ]
  },
  {
   "cell_type": "code",
   "execution_count": null,
   "id": "c05cfabb-0515-4e85-942b-52984a1826db",
   "metadata": {
    "tags": []
   },
   "outputs": [],
   "source": [
    "assembly_ks_to_try = filter(k -> k < mean_read_length/2, Mycelia.ks())\n",
    "assembly_ks_to_try = filter(k -> k >= assembly_k, assembly_ks_to_try)"
   ]
  },
  {
   "cell_type": "code",
   "execution_count": null,
   "id": "32f52d49-7024-4bf6-9cc6-b6fcebd225af",
   "metadata": {
    "tags": []
   },
   "outputs": [],
   "source": [
    "for k in assembly_ks_to_try\n",
    "    kmer_graph = Mycelia.build_directed_kmer_graph(fastq=assembly_fastq, k=assembly_k)\n",
    "    initial_connected_components = length(Graphs.connected_components(kmer_graph))\n",
    "    @show k, initial_connected_components\n",
    "end"
   ]
  },
  {
   "cell_type": "code",
   "execution_count": null,
   "id": "2bd0027f-9804-40e0-83c3-9d1fa5383e15",
   "metadata": {
    "tags": []
   },
   "outputs": [],
   "source": [
    "# score: 47549\n",
    "# assembly_k = 89\n",
    "# score: 47549\n",
    "# assembly_k = 139\n",
    "# score: 47549\n",
    "# assembly_k = 233\n",
    "assembly_k = 379\n",
    "# assembly_k = 607\n",
    "# assembly_k = 983\n",
    "# assembly_k = 1597\n",
    "# assembly_k = 2579\n",
    "# assembly_k = 4177"
   ]
  },
  {
   "cell_type": "code",
   "execution_count": null,
   "id": "6247e054-fcc8-45c0-992c-6f84ba3b762d",
   "metadata": {
    "tags": []
   },
   "outputs": [],
   "source": [
    "kmer_graph = Mycelia.build_directed_kmer_graph(fastq=assembly_fastq, k=assembly_k)"
   ]
  },
  {
   "cell_type": "code",
   "execution_count": null,
   "id": "aa5dae89-be5d-4679-9dbb-ef2341d424e5",
   "metadata": {
    "tags": []
   },
   "outputs": [],
   "source": [
    "# heuristic - should be based on something better or removed altogether\n",
    "max_filter = 5\n",
    "\n",
    "initial_connected_components = length(Graphs.connected_components(kmer_graph))\n",
    "coverage_threshold = 1\n",
    "tresholded_vertices = [i for (i, (kmer, count)) in enumerate(MetaGraphs.get_prop(kmer_graph, :kmer_counts)) if count > coverage_threshold]\n",
    "candidate_subgraph, vertex_map = Graphs.induced_subgraph(kmer_graph, tresholded_vertices)\n",
    "while (length(Graphs.connected_components(candidate_subgraph)) == initial_connected_components) && (coverage_threshold < max_filter)\n",
    "    coverage_threshold += 1\n",
    "    tresholded_vertices = [i for (i, (kmer, count)) in enumerate(MetaGraphs.get_prop(kmer_graph, :kmer_counts)) if count > coverage_threshold]\n",
    "    candidate_subgraph, vertex_map = Graphs.induced_subgraph(kmer_graph, tresholded_vertices)\n",
    "end\n",
    "coverage_threshold -= 1\n",
    "@show coverage_threshold\n",
    "\n",
    "tresholded_vertices = [i for (i, (kmer, count)) in enumerate(MetaGraphs.get_prop(kmer_graph, :kmer_counts)) if count > coverage_threshold]\n",
    "filtered_graph, filtered_graph_vertex_map = Graphs.induced_subgraph(kmer_graph, tresholded_vertices)\n",
    "# candidate_subgraph, vertex_map = Graphs.induced_subgraph(kmer_graph, [v for v in Graphs.vertices(kmer_graph) if kmer_graph.vprops[v][:count] >= coverage_threshold])"
   ]
  },
  {
   "cell_type": "code",
   "execution_count": null,
   "id": "7f9a8a55-df91-4e63-bd4c-a01dde8e5539",
   "metadata": {
    "tags": []
   },
   "outputs": [],
   "source": [
    "connected_components = sort(Graphs.connected_components(filtered_graph), by=x->length(x), rev=true)"
   ]
  },
  {
   "cell_type": "code",
   "execution_count": null,
   "id": "6afaecbe-cc56-41a0-8d51-b752810c4c6b",
   "metadata": {
    "tags": []
   },
   "outputs": [],
   "source": [
    "length.(connected_components)"
   ]
  },
  {
   "cell_type": "code",
   "execution_count": null,
   "id": "65725c3e-a680-4169-833e-0a4bee994bbc",
   "metadata": {
    "tags": []
   },
   "outputs": [],
   "source": [
    "connected_component_sequences = BioSequences.LongDNA{2}[]\n",
    "for connected_component in connected_components\n",
    "    connected_component_subgraph, connected_component_subgraph_vertex_map = Graphs.induced_subgraph(filtered_graph, connected_component)\n",
    "    sorted_connected_component_subgraph = Graphs.topological_sort_by_dfs(connected_component_subgraph)\n",
    "    dsp_result = Graphs.dijkstra_shortest_paths(connected_component_subgraph, first(sorted_connected_component_subgraph))\n",
    "    maxdist, maxdist_index = findmax(map(d -> d == Inf ? zero(d) : d, dsp_result.dists))\n",
    "    connected_component_subgraph_longest_path = Graphs.enumerate_paths(dsp_result, maxdist_index)\n",
    "    # @show connected_component_subgraph_longest_path\n",
    "    original_graph_kmer_indices = filtered_graph_vertex_map[connected_component_subgraph_vertex_map[connected_component_subgraph_longest_path]]\n",
    "    connected_component_subgraph_longest_path_reconstructed_sequence = Mycelia.kmer_path_to_sequence(kmer_graph.gprops[:ordered_kmers][original_graph_kmer_indices])\n",
    "    push!(connected_component_sequences, connected_component_subgraph_longest_path_reconstructed_sequence)\n",
    "end\n",
    "connected_component_sequences\n",
    "length.(connected_component_sequences)"
   ]
  },
  {
   "cell_type": "code",
   "execution_count": null,
   "id": "e43537ee-b737-4deb-865f-e301fe1f2ec1",
   "metadata": {
    "tags": []
   },
   "outputs": [],
   "source": [
    "first_sequence_canonical_kmers = unique(last.(collect(Kmers.EveryCanonicalKmer{Kmers.DNAKmer{assembly_k}}(connected_component_sequences[1]))))\n",
    "second_sequence_canonical_kmers = unique(last.(collect(Kmers.EveryCanonicalKmer{Kmers.DNAKmer{assembly_k}}(connected_component_sequences[2]))))\n",
    "intersect(first_sequence_canonical_kmers, second_sequence_canonical_kmers)"
   ]
  },
  {
   "cell_type": "code",
   "execution_count": null,
   "id": "0d9c28fb-132c-4aab-9d17-82485e3730b0",
   "metadata": {
    "tags": []
   },
   "outputs": [],
   "source": [
    "import BioAlignments\n",
    "scoremodel = BioAlignments.AffineGapScoreModel(BioAlignments.EDNAFULL, gap_open=-5, gap_extend=-1)\n",
    "forward_alignment = BioAlignments.pairalign(BioAlignments.OverlapAlignment(), connected_component_sequences[1], connected_component_sequences[2], scoremodel)\n",
    "reverse_complement_alignment = BioAlignments.pairalign(BioAlignments.OverlapAlignment(), connected_component_sequences[1], BioSequences.reverse_complement(connected_component_sequences[2]), scoremodel)\n",
    "if BioAlignments.score(forward_alignment) > BioAlignments.score(reverse_complement_alignment)\n",
    "    best_alignment = forward_alignment\n",
    "else\n",
    "    best_alignment = reverse_complement_alignment\n",
    "end\n",
    "best_alignment"
   ]
  },
  {
   "cell_type": "code",
   "execution_count": null,
   "id": "47d93ccb-dcff-47c8-873f-b5ca2bd64ff4",
   "metadata": {
    "tags": []
   },
   "outputs": [],
   "source": [
    "candidate_assemblies = [connected_component_sequences[1], BioSequences.reverse_complement(connected_component_sequences[2])]"
   ]
  },
  {
   "cell_type": "code",
   "execution_count": null,
   "id": "69593140-9d22-4e2a-b988-c34064609b85",
   "metadata": {
    "tags": []
   },
   "outputs": [],
   "source": [
    "candidate_1_canonical_kmer_counts = Mycelia.count_canonical_kmers(Kmers.DNAKmer{original_k}, first(candidate_assemblies))\n",
    "candidate_2_canonical_kmer_counts = Mycelia.count_canonical_kmers(Kmers.DNAKmer{original_k}, last(candidate_assemblies))\n",
    "raw_data_canonical_kmer_counts = Mycelia.count_canonical_kmers(Kmers.DNAKmer{original_k}, original_fastq)"
   ]
  },
  {
   "cell_type": "code",
   "execution_count": null,
   "id": "ab299099-9c9d-431c-9006-e2fe22bcba5a",
   "metadata": {},
   "outputs": [],
   "source": [
    "# candidate_1_canonical_kmer_counts\n"
   ]
  },
  {
   "cell_type": "code",
   "execution_count": null,
   "id": "735a3673-e494-4429-aea4-7a4c35691e43",
   "metadata": {},
   "outputs": [],
   "source": [
    "# raw_data_canonical_kmer_counts"
   ]
  },
  {
   "cell_type": "code",
   "execution_count": null,
   "id": "6917ac4f-93af-490f-932a-8f37324c7c4f",
   "metadata": {
    "tags": []
   },
   "outputs": [],
   "source": [
    "# sorted_shared_keys = sort(collect(union(keys(candidate_1_canonical_kmer_counts), keys(raw_data_canonical_kmer_counts))))"
   ]
  },
  {
   "cell_type": "code",
   "execution_count": null,
   "id": "d33cd114-ab25-4670-adfd-297b84a20fd2",
   "metadata": {
    "tags": []
   },
   "outputs": [],
   "source": [
    "function assess_assembly_quality(;assembled_sequence::BioSequences.LongDNA{2}, fastq::String, ks::Vector{Int}=filter(x -> 13 <= x <= 89, Mycelia.ks()))\n",
    "    results = DataFrames.DataFrame()\n",
    "    for k in ks\n",
    "        observed_canonical_kmer_counts = Mycelia.count_canonical_kmers(Kmers.DNAKmer{k}, fastq)\n",
    "        assembled_canonical_kmer_counts = Mycelia.count_canonical_kmers(Kmers.DNAKmer{k}, assembled_sequence)\n",
    "        cosine_distance = kmer_counts_to_cosine_similarity(observed_canonical_kmer_counts, assembled_canonical_kmer_counts)\n",
    "        js_divergence = kmer_counts_to_js_divergence(observed_canonical_kmer_counts, assembled_canonical_kmer_counts)\n",
    "        qv = kmer_counts_to_merqury_qv(raw_data_counts=observed_canonical_kmer_counts, assembly_counts=assembled_canonical_kmer_counts)\n",
    "        push!(results, (;k, cosine_distance, js_divergence, qv))\n",
    "    end\n",
    "    return results\n",
    "end\n",
    "\n",
    "# function assess_assembly_quality(;assembled_sequence::BioSequences.LongDNA{2}, fastq::String, k::Int)\n",
    "#     observed_canonical_kmer_counts = Mycelia.count_canonical_kmers(Kmers.DNAKmer{k}, fastq)\n",
    "#     assembled_canonical_kmer_counts = \n",
    "# end\n",
    "\n",
    "function kmer_counts_to_cosine_similarity(kmer_counts_1, kmer_counts_2)\n",
    "    sorted_shared_keys = sort(collect(union(keys(kmer_counts_1), keys(kmer_counts_2))))\n",
    "    a = [get(kmer_counts_1, kmer, 0) for kmer in sorted_shared_keys]\n",
    "    b = [get(kmer_counts_1, kmer, 0) for kmer in sorted_shared_keys]\n",
    "    # Distances.cosine_dist(a, b) == Distances.cosine_dist(b, a) == Distances.cosine_dist(a ./ sum(a), b ./ sum(b)) == Distances.cosine_dist(b ./ sum(b), a ./ sum(a))\n",
    "    return Distances.cosine_dist(a, b)\n",
    "end\n",
    "\n",
    "function kmer_counts_to_js_divergence(kmer_counts_1, kmer_counts_2)\n",
    "    sorted_shared_keys = sort(collect(union(keys(kmer_counts_1), keys(kmer_counts_2))))\n",
    "    a = [get(kmer_counts_1, kmer, 0) for kmer in sorted_shared_keys]\n",
    "    b = [get(kmer_counts_1, kmer, 0) for kmer in sorted_shared_keys]\n",
    "    a_norm = a ./ sum(a)\n",
    "    b_norm = b ./ sum(b)\n",
    "    # Distances.js_divergence(a ./ sum(a), b ./ sum(b)) == Distances.js_divergence(b ./ sum(b), a ./ sum(a))\n",
    "    # Distances.js_divergence(a, b) != Distances.js_divergence(a ./ sum(a), b ./ sum(b))\n",
    "    return Distances.js_divergence(a_norm, b_norm)\n",
    "end\n",
    "\n",
    "# function jaccard(set1, set2)\n",
    "#     union_size = length(union(set1, set2))\n",
    "#     if union_size == 0\n",
    "#         return 0.0\n",
    "#     else\n",
    "#         return 1.0 - (length(intersect(set1, set2)) / union_size)\n",
    "#     end\n",
    "# end\n",
    "\n",
    "# function kmer_counts_to_jaccard(kmer_counts_1::AbstractDict{Kmers.DNAKmer{k}, Int64}, kmer_counts_2::AbstractDict{Kmers.DNAKmer{k}, Int64}) where k\n",
    "#     # sorted_shared_keys = sort(collect(union(keys(kmer_counts_1), keys(kmer_counts_2))))\n",
    "#     # a = [get(kmer_counts_1, kmer, 0) for kmer in sorted_shared_keys]\n",
    "#     # b = [get(kmer_counts_1, kmer, 0) for kmer in sorted_shared_keys]\n",
    "#     # a_indices = findall(a .> 0)\n",
    "#     # b_indices = findall(b .> 0)\n",
    "#     # return Distances.jaccard(a_indices, b_indices)\n",
    "#     return jaccard(collect(keys(kmer_counts_1)), collect(keys(kmer_counts_2)))\n",
    "# end\n",
    "\n",
    "function kmer_counts_to_merqury_qv(;raw_data_counts::AbstractDict{Kmers.DNAKmer{k,N}, Int}, assembly_counts::AbstractDict{Kmers.DNAKmer{k,N}, Int}) where {k<:Int, N<:Int}\n",
    "    # Ktotal = # of kmers found in assembly\n",
    "    Ktotal = length(keys(assembly_counts))\n",
    "    # Kshared = # of shared kmers between assembly and readset\n",
    "    Kshared = length(intersect(keys(raw_data_canonical_kmer_counts), keys(candidate_1_canonical_kmer_counts)))\n",
    "    # probabilitiy_base_in_assembly_correct\n",
    "    P = (Kshared/Ktotal)^(1/k)\n",
    "    # # Error rate\n",
    "    E = 1-P\n",
    "    QV = -10log10(E)\n",
    "    # return (;P, E, QV)\n",
    "    return QV\n",
    "end"
   ]
  },
  {
   "cell_type": "code",
   "execution_count": null,
   "id": "cb654b64-a6b0-44eb-a401-a2c85e5334c7",
   "metadata": {
    "tags": []
   },
   "outputs": [],
   "source": [
    "# function process_kmer_dict(kmer_dict::AbstractDict{Kmers.DNAKmer{k,N},Int}) where {k,N}\n",
    "#     return k, N\n",
    "# end"
   ]
  },
  {
   "cell_type": "code",
   "execution_count": null,
   "id": "a1632cde-96c5-4ff3-82ca-6eebccf90f07",
   "metadata": {
    "tags": []
   },
   "outputs": [],
   "source": [
    "# process_kmer_dict(candidate_1_canonical_kmer_counts)"
   ]
  },
  {
   "cell_type": "code",
   "execution_count": null,
   "id": "2ea2e4fa-d585-48cc-997c-6eb9cf79b1d5",
   "metadata": {
    "tags": []
   },
   "outputs": [],
   "source": [
    "# import OrderedCollections"
   ]
  },
  {
   "cell_type": "code",
   "execution_count": null,
   "id": "b8912d93-8a93-4ffc-802c-e6e21b181d1a",
   "metadata": {
    "tags": []
   },
   "outputs": [],
   "source": [
    "# OrderedCollections.OrderedDict <: AbstractDict"
   ]
  },
  {
   "cell_type": "code",
   "execution_count": null,
   "id": "f5b6b405-f057-47fd-96d8-639177df136b",
   "metadata": {
    "tags": []
   },
   "outputs": [],
   "source": [
    "# connected_component_sequences[1], original_fastq\n",
    "\n",
    "assess_assembly_quality(assembled_sequence=connected_component_sequences[1], fastq=original_fastq)"
   ]
  },
  {
   "cell_type": "code",
   "execution_count": null,
   "id": "4e837839-e102-4a2a-925b-513a0ebc7423",
   "metadata": {
    "tags": []
   },
   "outputs": [],
   "source": [
    "# function kmer_counts_to_approx2sidedKS(kmer_counts_1::AbstractDict{Kmers.DNAKmer{k}, Int64}, kmer_counts_2::AbstractDict{Kmers.DNAKmer{k}, Int64}) where k\n",
    "#     sorted_shared_keys = sort(collect(union(keys(kmer_counts_1), keys(kmer_counts_2))))\n",
    "#     a = [get(kmer_counts_1, kmer, 0) for kmer in sorted_shared_keys]\n",
    "#     b = [get(kmer_counts_1, kmer, 0) for kmer in sorted_shared_keys]\n",
    "#     HypothesisTests.pvalue(HypothesisTests.ApproximateTwoSampleKSTest(a, b))\n",
    "# end"
   ]
  },
  {
   "cell_type": "code",
   "execution_count": null,
   "id": "c0619076-2eb7-4d46-bff0-ef88af639e94",
   "metadata": {},
   "outputs": [],
   "source": []
  },
  {
   "cell_type": "code",
   "execution_count": null,
   "id": "34b727be-7159-403d-b083-2233ac2d4d3c",
   "metadata": {},
   "outputs": [],
   "source": [
    "# 1 calculate most likely of the two paths from the original data"
   ]
  },
  {
   "cell_type": "code",
   "execution_count": null,
   "id": "cbb66411-bdf0-49cf-8846-b49e7d4db5e0",
   "metadata": {},
   "outputs": [],
   "source": [
    "# 2 calculate most likely of the two paths from the final fastq"
   ]
  },
  {
   "cell_type": "code",
   "execution_count": null,
   "id": "ca2caf1c-b906-468a-9a44-1285a2620fad",
   "metadata": {},
   "outputs": [],
   "source": [
    "# 3 report out both alleles"
   ]
  },
  {
   "cell_type": "code",
   "execution_count": null,
   "id": "17ec8891-903f-4528-9d01-6c48912e7f91",
   "metadata": {},
   "outputs": [],
   "source": []
  },
  {
   "cell_type": "code",
   "execution_count": null,
   "id": "27941d85-e1ce-48dc-bf68-acb8486f9cf0",
   "metadata": {},
   "outputs": [],
   "source": []
  },
  {
   "cell_type": "code",
   "execution_count": null,
   "id": "026d39ba-9c62-46ec-ab43-e09209333c63",
   "metadata": {},
   "outputs": [],
   "source": []
  },
  {
   "cell_type": "code",
   "execution_count": null,
   "id": "63e0fead-048d-4209-a946-d26abc44ba5f",
   "metadata": {
    "tags": []
   },
   "outputs": [],
   "source": [
    "# take the longer of the two!\n",
    "connected_component_sequences = sort(connected_component_sequences, by=x->length(x), rev=true)[1:1]"
   ]
  },
  {
   "cell_type": "code",
   "execution_count": null,
   "id": "97ef3cb8-2bb1-460d-9206-a19fc80735d9",
   "metadata": {
    "tags": []
   },
   "outputs": [],
   "source": [
    "assembly_fasta = replace(assembly_fastq, Mycelia.FASTQ_REGEX => \".assembly_k$(assembly_k).fna\")"
   ]
  },
  {
   "cell_type": "code",
   "execution_count": null,
   "id": "fcc34d9d-de40-4c22-a806-e8a06b42e1ab",
   "metadata": {
    "tags": []
   },
   "outputs": [],
   "source": [
    "open(assembly_fasta, \"w\") do io\n",
    "    fastx_io = FASTX.FASTA.Writer(io)\n",
    "    for (i, sequence) in enumerate(connected_component_sequences)\n",
    "        identifier = \"contig$(i)_length=$(length(sequence))\"\n",
    "        fasta_record = FASTX.FASTA.Record(identifier, sequence)\n",
    "        write(fastx_io, fasta_record)\n",
    "    end\n",
    "    close(fastx_io)\n",
    "end"
   ]
  },
  {
   "cell_type": "code",
   "execution_count": null,
   "id": "cd5aae8e-c276-43f3-9891-4c2163157b5c",
   "metadata": {
    "tags": []
   },
   "outputs": [],
   "source": [
    "# readlines(assembly_fasta)"
   ]
  }
 ],
 "metadata": {
  "kernelspec": {
   "display_name": "Julia 1.10.2",
   "language": "julia",
   "name": "julia-1.10"
  },
  "language_info": {
   "file_extension": ".jl",
   "mimetype": "application/julia",
   "name": "julia",
   "version": "1.10.2"
  }
 },
 "nbformat": 4,
 "nbformat_minor": 5
}
