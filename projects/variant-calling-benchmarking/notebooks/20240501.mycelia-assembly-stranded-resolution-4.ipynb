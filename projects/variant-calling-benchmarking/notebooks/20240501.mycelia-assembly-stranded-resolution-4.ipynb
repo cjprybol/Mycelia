{
 "cells": [
  {
   "cell_type": "code",
   "execution_count": null,
   "id": "335bf35f-c55e-4857-83f0-ed03dc666f4e",
   "metadata": {
    "tags": []
   },
   "outputs": [],
   "source": [
    "# if hit plotting library issues, try resetting LD path for julia\n",
    "# can set in ~/.local/share/jupyter/kernels/\n",
    "haskey(ENV, \"LD_LIBRARY_PATH\") && @assert ENV[\"LD_LIBRARY_PATH\"] == \"\"\n",
    "import Pkg\n",
    "pkgs = [\n",
    "    \"Revise\",\n",
    "    \"FASTX\",\n",
    "    \"BioSequences\",\n",
    "    \"Kmers\",\n",
    "    \"Graphs\",\n",
    "    \"MetaGraphs\",\n",
    "    \"SparseArrays\",\n",
    "    \"ProgressMeter\",\n",
    "    \"Distributions\",\n",
    "    \"HiddenMarkovModels\",\n",
    "    \"BioAlignments\",\n",
    "    \"StatsBase\",\n",
    "    \"Random\",\n",
    "    \"StatsPlots\",\n",
    "    \"Statistics\",\n",
    "    # \"GraphMakie\",\n",
    "    \"IterTools\",\n",
    "    \"Primes\",\n",
    "    \"OnlineStats\",\n",
    "    \"IteratorSampling\",\n",
    "    \"HypothesisTests\",\n",
    "    \"Clustering\",\n",
    "    \"Distances\",\n",
    "    \"BioAlignments\",\n",
    "    \"Statistics\",\n",
    "    \"Primes\"\n",
    "]\n",
    "# Pkg.add(pkgs)\n",
    "for pkg in pkgs\n",
    "    eval(Meta.parse(\"import $pkg\"))\n",
    "end\n",
    "# Pkg.develop(path=\"/global/cfs/projectdirs/m4269/cjprybol/Mycelia\")\n",
    "# Pkg.develop(path=\"../../..\")\n",
    "import Mycelia"
   ]
  },
  {
   "cell_type": "code",
   "execution_count": null,
   "id": "128cc1e1-929a-42e1-8376-4c81832fd40c",
   "metadata": {
    "tags": []
   },
   "outputs": [],
   "source": [
    "PROJECT_BASEDIR = dirname(pwd())\n",
    "data_dir = joinpath(PROJECT_BASEDIR, \"data\")\n",
    "genome_dir = mkpath(joinpath(data_dir, \"genomes\"))"
   ]
  },
  {
   "cell_type": "code",
   "execution_count": null,
   "id": "00736937-92d0-4cb6-a933-0cb068457ad1",
   "metadata": {
    "tags": []
   },
   "outputs": [],
   "source": [
    "working_dir = joinpath(data_dir, \"test\")\n",
    "mkpath(working_dir)"
   ]
  },
  {
   "cell_type": "code",
   "execution_count": null,
   "id": "2e294dc9-dc3d-4a15-8e15-70e649200874",
   "metadata": {
    "tags": []
   },
   "outputs": [],
   "source": [
    "# short_read_sets = unique(map(x -> match(r\"^(.+\\.\\d+x)\\.\", x).captures[1], filter(x -> occursin(r\"\\.fna\\.art\", x) && occursin(r\"\\.fq\\.gz\", x) && !occursin(\"trimming_report\", x) && !occursin(\"_val_\", x), sort(readdir(genome_dir, join=true), by=x->filesize(x)))))\n",
    "# # forward = short_read_set * \".1_val_1.fq.gz\"\n",
    "# # reverse = short_read_set * \".2_val_2.fq.gz\""
   ]
  },
  {
   "cell_type": "code",
   "execution_count": null,
   "id": "c4ab3b27-b540-4f4d-8bd3-093e58e0304d",
   "metadata": {
    "tags": []
   },
   "outputs": [],
   "source": [
    "long_read_fastqs = sort(filter(x -> occursin(r\"\\.filtlong\\.fq\\.gz$\", x), readdir(genome_dir, join=true)), by=x->filesize(x))\n",
    "# fastq = long_read_fastqs[1]\n",
    "# fastq = long_read_fastqs[2]\n",
    "# fastq = long_read_fastqs[3]\n",
    "fastq = long_read_fastqs[4]"
   ]
  },
  {
   "cell_type": "code",
   "execution_count": null,
   "id": "55e89dcb-8a32-4a0c-855a-e7f3c2cc411c",
   "metadata": {
    "tags": []
   },
   "outputs": [],
   "source": [
    "# 1 hour runtime\n",
    "polishing_results = Mycelia.iterative_polishing(fastq)"
   ]
  },
  {
   "cell_type": "code",
   "execution_count": null,
   "id": "600e5b0e-a75f-4d9b-85a6-9bdef03671c1",
   "metadata": {
    "tags": []
   },
   "outputs": [],
   "source": [
    "assembly_fastq = last(polishing_results).fastq"
   ]
  },
  {
   "cell_type": "code",
   "execution_count": null,
   "id": "e5402112-20cd-44a2-a151-a19531c41af0",
   "metadata": {},
   "outputs": [],
   "source": [
    "assembly_k = last(polishing_results).k"
   ]
  },
  {
   "cell_type": "code",
   "execution_count": null,
   "id": "7b0ce0c8-f8f3-4eb5-bbb2-1b303e195664",
   "metadata": {
    "tags": []
   },
   "outputs": [],
   "source": [
    "assembly_fastq = \"/global/cfs/cdirs/m4269/cjprybol/Mycelia/projects/variant-calling-benchmarking/data/genomes/GCF_001610725.1.fna.normalized.vcf.fna.badread.10x.filtlong.k11.k13.k17.k19.k23.k31.k53.k89.fq.gz\"\n",
    "assembly_k = 89"
   ]
  },
  {
   "cell_type": "code",
   "execution_count": null,
   "id": "f2c258bb-3d78-40b3-841f-5d3ef9797309",
   "metadata": {
    "tags": []
   },
   "outputs": [],
   "source": [
    "mean_read_length = Statistics.mean([length(FASTX.sequence(record)) for record in Mycelia.open_fastx(assembly_fastq)])"
   ]
  },
  {
   "cell_type": "code",
   "execution_count": null,
   "id": "b26e2c53-d751-49af-8b7e-765686ce01df",
   "metadata": {
    "tags": []
   },
   "outputs": [],
   "source": [
    "# assembly_k = maximum(filter(k -> k < mean_read_length/2, Mycelia.ks()))"
   ]
  },
  {
   "cell_type": "code",
   "execution_count": null,
   "id": "c05cfabb-0515-4e85-942b-52984a1826db",
   "metadata": {
    "tags": []
   },
   "outputs": [],
   "source": [
    "assembly_ks_to_try = filter(k -> k < mean_read_length/2, Mycelia.ks())\n",
    "assembly_ks_to_try = filter(k -> k >= assembly_k, assembly_ks_to_try)"
   ]
  },
  {
   "cell_type": "code",
   "execution_count": null,
   "id": "32f52d49-7024-4bf6-9cc6-b6fcebd225af",
   "metadata": {
    "tags": []
   },
   "outputs": [],
   "source": [
    "for k in assembly_ks_to_try\n",
    "    kmer_graph = Mycelia.build_directed_kmer_graph(fastq=assembly_fastq, k=assembly_k)\n",
    "    initial_connected_components = length(Graphs.connected_components(kmer_graph))\n",
    "    @show initial_connected_components\n",
    "end"
   ]
  },
  {
   "cell_type": "code",
   "execution_count": null,
   "id": "2bd0027f-9804-40e0-83c3-9d1fa5383e15",
   "metadata": {
    "tags": []
   },
   "outputs": [],
   "source": [
    "# assembly_k = 2579 too high?\n",
    "\n",
    "# assembly_k = 89\n",
    "# assembly_k = 139\n",
    "# assembly_k = 233\n",
    "# assembly_k = 379\n",
    "\n",
    "# so many overlaps found!\n",
    " # 9500\n",
    " # 9923\n",
    "assembly_k = 607\n",
    "\n",
    "# same assembly as below, no overlaps\n",
    " # 9505\n",
    " # 9923\n",
    "# assembly_k = 983\n",
    "\n",
    "# same assembly as 2579, still no overlaps\n",
    " # 9505\n",
    " # 9923\n",
    "# assembly_k = 1597\n",
    "# good assembly but no overlaps found\n",
    " # 9505\n",
    " # 9923\n",
    "# assembly_k = 2579"
   ]
  },
  {
   "cell_type": "code",
   "execution_count": null,
   "id": "6247e054-fcc8-45c0-992c-6f84ba3b762d",
   "metadata": {
    "tags": []
   },
   "outputs": [],
   "source": [
    "kmer_graph = Mycelia.build_directed_kmer_graph(fastq=assembly_fastq, k=assembly_k)"
   ]
  },
  {
   "cell_type": "code",
   "execution_count": null,
   "id": "aa5dae89-be5d-4679-9dbb-ef2341d424e5",
   "metadata": {
    "tags": []
   },
   "outputs": [],
   "source": [
    "# heuristic - should be based on something better or removed altogether\n",
    "max_filter = 5\n",
    "\n",
    "initial_connected_components = length(Graphs.connected_components(kmer_graph))\n",
    "coverage_threshold = 1\n",
    "tresholded_vertices = [i for (i, (kmer, count)) in enumerate(MetaGraphs.get_prop(kmer_graph, :kmer_counts)) if count > coverage_threshold]\n",
    "candidate_subgraph, vertex_map = Graphs.induced_subgraph(kmer_graph, tresholded_vertices)\n",
    "while (length(Graphs.connected_components(candidate_subgraph)) == initial_connected_components) && (coverage_threshold < max_filter)\n",
    "    coverage_threshold += 1\n",
    "    tresholded_vertices = [i for (i, (kmer, count)) in enumerate(MetaGraphs.get_prop(kmer_graph, :kmer_counts)) if count > coverage_threshold]\n",
    "    candidate_subgraph, vertex_map = Graphs.induced_subgraph(kmer_graph, tresholded_vertices)\n",
    "end\n",
    "coverage_threshold -= 1\n",
    "@show coverage_threshold\n",
    "\n",
    "tresholded_vertices = [i for (i, (kmer, count)) in enumerate(MetaGraphs.get_prop(kmer_graph, :kmer_counts)) if count > coverage_threshold]\n",
    "filtered_graph, filtered_graph_vertex_map = Graphs.induced_subgraph(kmer_graph, tresholded_vertices)\n",
    "# candidate_subgraph, vertex_map = Graphs.induced_subgraph(kmer_graph, [v for v in Graphs.vertices(kmer_graph) if kmer_graph.vprops[v][:count] >= coverage_threshold])"
   ]
  },
  {
   "cell_type": "code",
   "execution_count": null,
   "id": "7f9a8a55-df91-4e63-bd4c-a01dde8e5539",
   "metadata": {
    "tags": []
   },
   "outputs": [],
   "source": [
    "connected_components = sort(Graphs.connected_components(filtered_graph), by=x->length(x), rev=true)"
   ]
  },
  {
   "cell_type": "code",
   "execution_count": null,
   "id": "6afaecbe-cc56-41a0-8d51-b752810c4c6b",
   "metadata": {
    "tags": []
   },
   "outputs": [],
   "source": [
    "length.(connected_components)"
   ]
  },
  {
   "cell_type": "code",
   "execution_count": null,
   "id": "65725c3e-a680-4169-833e-0a4bee994bbc",
   "metadata": {
    "tags": []
   },
   "outputs": [],
   "source": [
    "connected_component_sequences = BioSequences.LongDNA{2}[]\n",
    "for connected_component in connected_components\n",
    "    connected_component_subgraph, connected_component_subgraph_vertex_map = Graphs.induced_subgraph(filtered_graph, connected_component)\n",
    "    sorted_connected_component_subgraph = Graphs.topological_sort_by_dfs(connected_component_subgraph)\n",
    "    dsp_result = Graphs.dijkstra_shortest_paths(connected_component_subgraph, first(sorted_connected_component_subgraph))\n",
    "    maxdist, maxdist_index = findmax(map(d -> d == Inf ? zero(d) : d, dsp_result.dists))\n",
    "    connected_component_subgraph_longest_path = Graphs.enumerate_paths(dsp_result, maxdist_index)\n",
    "    # @show connected_component_subgraph_longest_path\n",
    "    original_graph_kmer_indices = filtered_graph_vertex_map[connected_component_subgraph_vertex_map[connected_component_subgraph_longest_path]]\n",
    "    connected_component_subgraph_longest_path_reconstructed_sequence = Mycelia.kmer_path_to_sequence(kmer_graph.gprops[:ordered_kmers][original_graph_kmer_indices])\n",
    "    push!(connected_component_sequences, connected_component_subgraph_longest_path_reconstructed_sequence)\n",
    "end\n",
    "connected_component_sequences"
   ]
  },
  {
   "cell_type": "code",
   "execution_count": null,
   "id": "0ba24e02-0eb4-4190-9edb-001b51433e18",
   "metadata": {
    "tags": []
   },
   "outputs": [],
   "source": [
    "length.(connected_component_sequences)"
   ]
  },
  {
   "cell_type": "code",
   "execution_count": null,
   "id": "698be325-a349-410c-a2e2-8cff70d0bb3e",
   "metadata": {
    "tags": []
   },
   "outputs": [],
   "source": [
    "first_sequence_canonical_kmers = unique(last.(collect(Kmers.EveryCanonicalKmer{Kmers.DNAKmer{assembly_k}}(connected_component_sequences[1]))))"
   ]
  },
  {
   "cell_type": "code",
   "execution_count": null,
   "id": "9803cc59-ecc5-4fe4-b197-173b689f920d",
   "metadata": {
    "tags": []
   },
   "outputs": [],
   "source": [
    "second_sequence_canonical_kmers = unique(last.(collect(Kmers.EveryCanonicalKmer{Kmers.DNAKmer{assembly_k}}(connected_component_sequences[2]))))"
   ]
  },
  {
   "cell_type": "code",
   "execution_count": null,
   "id": "b5882805-620c-40b5-a5e8-a2eb946168d7",
   "metadata": {
    "tags": []
   },
   "outputs": [],
   "source": [
    "intersect(first_sequence_canonical_kmers, second_sequence_canonical_kmers)"
   ]
  },
  {
   "cell_type": "code",
   "execution_count": null,
   "id": "ad9caa1e-861d-450f-9394-16da10ca1cab",
   "metadata": {},
   "outputs": [],
   "source": []
  },
  {
   "cell_type": "code",
   "execution_count": null,
   "id": "24e3e27d-d580-4582-b472-c0bd5d0eb6d8",
   "metadata": {},
   "outputs": [],
   "source": []
  },
  {
   "cell_type": "code",
   "execution_count": null,
   "id": "dcdf64a6-76e4-47d3-877e-a3cbdcb1909d",
   "metadata": {},
   "outputs": [],
   "source": []
  },
  {
   "cell_type": "code",
   "execution_count": null,
   "id": "ddcc4ed3-6cd6-46ed-9359-e96aebe66ceb",
   "metadata": {},
   "outputs": [],
   "source": [
    "# skip second because it's so similar to the first"
   ]
  },
  {
   "cell_type": "code",
   "execution_count": null,
   "id": "57d3ed84-0116-4901-83b8-0ded774a7ef6",
   "metadata": {
    "tags": []
   },
   "outputs": [],
   "source": [
    "import BioAlignments\n",
    "scoremodel = BioAlignments.AffineGapScoreModel(BioAlignments.EDNAFULL, gap_open=-5, gap_extend=-1)\n",
    "forward_alignment = BioAlignments.pairalign(BioAlignments.OverlapAlignment(), connected_component_sequences[1], connected_component_sequences[2], scoremodel)"
   ]
  },
  {
   "cell_type": "code",
   "execution_count": null,
   "id": "52b32665-d19a-4beb-b387-46f899c26899",
   "metadata": {
    "tags": []
   },
   "outputs": [],
   "source": [
    "BioAlignments.score(forward_alignment)"
   ]
  },
  {
   "cell_type": "code",
   "execution_count": null,
   "id": "132bb9a8-012c-444a-8163-541dd2d9b374",
   "metadata": {
    "tags": []
   },
   "outputs": [],
   "source": [
    "reverse_complement_alignment = BioAlignments.pairalign(BioAlignments.OverlapAlignment(), connected_component_sequences[1], BioSequences.reverse_complement(connected_component_sequences[2]), scoremodel)"
   ]
  },
  {
   "cell_type": "code",
   "execution_count": null,
   "id": "63e0fead-048d-4209-a946-d26abc44ba5f",
   "metadata": {
    "tags": []
   },
   "outputs": [],
   "source": [
    "# take the longer of the two!\n",
    "connected_component_sequences = sort(connected_component_sequences, by=x->length(x), rev=true)[1:1]"
   ]
  },
  {
   "cell_type": "code",
   "execution_count": null,
   "id": "97ef3cb8-2bb1-460d-9206-a19fc80735d9",
   "metadata": {
    "tags": []
   },
   "outputs": [],
   "source": [
    "assembly_fasta = replace(assembly_fastq, Mycelia.FASTQ_REGEX => \".assembly_k$(assembly_k).fna\")"
   ]
  },
  {
   "cell_type": "code",
   "execution_count": null,
   "id": "fcc34d9d-de40-4c22-a806-e8a06b42e1ab",
   "metadata": {
    "tags": []
   },
   "outputs": [],
   "source": [
    "open(assembly_fasta, \"w\") do io\n",
    "    fastx_io = FASTX.FASTA.Writer(io)\n",
    "    for (i, sequence) in enumerate(connected_component_sequences)\n",
    "        identifier = \"contig$(i)_length=$(length(sequence))\"\n",
    "        fasta_record = FASTX.FASTA.Record(identifier, sequence)\n",
    "        write(fastx_io, fasta_record)\n",
    "    end\n",
    "    close(fastx_io)\n",
    "end"
   ]
  },
  {
   "cell_type": "code",
   "execution_count": null,
   "id": "cd5aae8e-c276-43f3-9891-4c2163157b5c",
   "metadata": {
    "tags": []
   },
   "outputs": [],
   "source": [
    "# readlines(assembly_fasta)"
   ]
  }
 ],
 "metadata": {
  "kernelspec": {
   "display_name": "Julia 1.10.2",
   "language": "julia",
   "name": "julia-1.10"
  },
  "language_info": {
   "file_extension": ".jl",
   "mimetype": "application/julia",
   "name": "julia",
   "version": "1.10.2"
  }
 },
 "nbformat": 4,
 "nbformat_minor": 5
}
