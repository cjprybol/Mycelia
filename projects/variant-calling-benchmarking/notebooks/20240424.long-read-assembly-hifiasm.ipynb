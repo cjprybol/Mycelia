{
 "cells": [
  {
   "cell_type": "code",
   "execution_count": null,
   "id": "335bf35f-c55e-4857-83f0-ed03dc666f4e",
   "metadata": {
    "tags": []
   },
   "outputs": [],
   "source": [
    "# if hit plotting library issues, try resetting LD path for julia\n",
    "# can set in ~/.local/share/jupyter/kernels/\n",
    "haskey(ENV, \"LD_LIBRARY_PATH\") && @assert ENV[\"LD_LIBRARY_PATH\"] == \"\"\n",
    "import Pkg\n",
    "pkgs = [\n",
    "    \"Revise\",\n",
    "]\n",
    "# Pkg.add(pkgs)\n",
    "for pkg in pkgs\n",
    "    eval(Meta.parse(\"import $pkg\"))\n",
    "end\n",
    "# Pkg.develop(path=\"/global/cfs/projectdirs/m4269/cjprybol/Mycelia\")\n",
    "# Pkg.develop(path=\"../../..\")\n",
    "import Mycelia"
   ]
  },
  {
   "cell_type": "code",
   "execution_count": null,
   "id": "128cc1e1-929a-42e1-8376-4c81832fd40c",
   "metadata": {
    "tags": []
   },
   "outputs": [],
   "source": [
    "PROJECT_BASEDIR = dirname(pwd())\n",
    "data_dir = joinpath(PROJECT_BASEDIR, \"data\")\n",
    "genome_dir = mkpath(joinpath(data_dir, \"genomes\"))"
   ]
  },
  {
   "cell_type": "code",
   "execution_count": null,
   "id": "77897e45-fd85-4ce1-92ed-3b364c198f82",
   "metadata": {
    "tags": []
   },
   "outputs": [],
   "source": [
    "long_read_fastqs = sort(filter(x -> occursin(r\"\\.filtlong\\.fq\\.gz$\", x), readdir(genome_dir, join=true)), by=x->filesize(x))"
   ]
  },
  {
   "cell_type": "code",
   "execution_count": null,
   "id": "4f177047-388f-4ad5-b906-3e1ef8bd20d2",
   "metadata": {
    "tags": []
   },
   "outputs": [],
   "source": [
    "# # Mycelia.add_bioconda_env(\"hifiasm\")\n",
    "# threads = 16\n",
    "# for fastq in long_read_fastqs\n",
    "# # fastq = first(long_read_fastqs)\n",
    "#     outdir = mkpath(fastq * \"_hifiasm\")\n",
    "#     out_prefix = joinpath(outdir, basename(fastq) * \".hifiasm\")\n",
    "#     primary_assembly_gfa = \"$(out_prefix).p_ctg.gfa\"\n",
    "#     primary_assembly_fasta = primary_assembly_gfa * \".fna\"\n",
    "\n",
    "#     if !isfile(primary_assembly_gfa) || (filesize(primary_assembly_gfa) == 0)\n",
    "#         # @show primary_assembly_gfa\n",
    "#         # run the assembly\n",
    "#         # https://hifiasm.readthedocs.io/en/latest/faq.html#are-inbred-homozygous-genomes-supported\n",
    "#         # cmd = \"$(Mycelia.CONDA_RUNNER) run --live-stream -n hifiasm hifiasm --primary -l0 -o $(out_prefix) -t $(threads) $(fastq)\"\n",
    "\n",
    "#     # Mycelia.nersc_sbatch_shared(\n",
    "#     #     job_name=basename(out_prefix),\n",
    "#     #     mail_user=\"cameron.prybol@gmail.com\",\n",
    "#     #     cpus_per_task=16,\n",
    "#     #     logdir=mkpath(\"$(homedir())/workspace/slurmlogs\"),\n",
    "#     #     cmd=cmd)\n",
    "#     else\n",
    "#         @show primary_assembly_gfa\n",
    "#     end\n",
    "# end"
   ]
  },
  {
   "cell_type": "code",
   "execution_count": null,
   "id": "6fe758cf-823a-41b2-bcf9-00aa45904737",
   "metadata": {},
   "outputs": [],
   "source": [
    "# threads = 16\n",
    "# for fastq in long_read_fastqs\n",
    "# # fastq = first(long_read_fastqs)\n",
    "#     outdir = mkpath(fastq * \"_hifiasm\")\n",
    "#     out_prefix = joinpath(outdir, basename(fastq) * \".hifiasm\")\n",
    "#     primary_assembly_gfa = \"$(out_prefix).p_ctg.gfa\"\n",
    "#     primary_assembly_fasta = primary_assembly_gfa * \".fna\"\n",
    "\n",
    "#     if !isfile(primary_assembly_fasta) || isempty(primary_assembly_fasta)\n",
    "#         try\n",
    "#             if !isfile(primary_assembly_gfa) || isempty(primary_assembly_gfa)\n",
    "#                 @show primary_assembly_gfa\n",
    "#                 Mycelia.add_bioconda_env(\"hifiasm\")\n",
    "#                 # run the assembly\n",
    "#                 # https://hifiasm.readthedocs.io/en/latest/faq.html#are-inbred-homozygous-genomes-supported\n",
    "#                 cmd = \"$(Mycelia.CONDA_RUNNER) run --live-stream -n hifiasm hifiasm --primary -l0 -o $(out_prefix) -t $(threads) $(fastq)\"\n",
    "\n",
    "#             Mycelia.nersc_sbatch_shared(\n",
    "#                 job_name=basename(out_prefix),\n",
    "#                 mail_user=\"cameron.prybol@gmail.com\",\n",
    "#                 threads=16,\n",
    "#                 logdir=mkpath(\"$(homedir())/workspace/slurmlogs\"),\n",
    "#                 cmd=cmd)\n",
    "                \n",
    "                \n",
    "\n",
    "#             end\n",
    "#             # run(`$(Mycelia.CONDA_RUNNER) run --live-stream -n hifiasm hifiasm --primary -l0 -o $(out_prefix) -t $(threads) $(fastq)`)\n",
    "#             for f in filter(x -> occursin(\".noseq.\", x), readdir(outdir, join=true))\n",
    "#                 rm(f)\n",
    "#             end\n",
    "\n",
    "#             for f in filter(x -> occursin(r\"\\.bin$\", x), readdir(outdir, join=true))\n",
    "#                 rm(f)\n",
    "#             end\n",
    "#             @assert isfile(primary_assembly_gfa)\n",
    "#             Mycelia.add_bioconda_env(\"gfatools\")\n",
    "#             run(pipeline(`$(Mycelia.CONDA_RUNNER) run --live-stream -n gfatools gfatools gfa2fa $(primary_assembly_gfa)`, primary_assembly_fasta))\n",
    "#         catch e\n",
    "#             display(e)\n",
    "#         end\n",
    "#     else\n",
    "#         @info \"$(primary_assembly_fasta) already exists\"\n",
    "#     end\n",
    "# end"
   ]
  }
 ],
 "metadata": {
  "kernelspec": {
   "display_name": "Julia 1.10.2",
   "language": "julia",
   "name": "julia-1.10"
  },
  "language_info": {
   "file_extension": ".jl",
   "mimetype": "application/julia",
   "name": "julia",
   "version": "1.10.2"
  }
 },
 "nbformat": 4,
 "nbformat_minor": 5
}
