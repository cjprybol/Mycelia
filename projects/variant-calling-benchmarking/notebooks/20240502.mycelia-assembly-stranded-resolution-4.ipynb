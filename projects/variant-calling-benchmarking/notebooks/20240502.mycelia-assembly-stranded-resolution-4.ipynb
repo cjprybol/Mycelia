{
 "cells": [
  {
   "cell_type": "code",
   "execution_count": 1,
   "id": "335bf35f-c55e-4857-83f0-ed03dc666f4e",
   "metadata": {
    "tags": []
   },
   "outputs": [
    {
     "name": "stderr",
     "output_type": "stream",
     "text": [
      "\u001b[33m\u001b[1m┌ \u001b[22m\u001b[39m\u001b[33m\u001b[1mWarning: \u001b[22m\u001b[39mThe active manifest file is an older format with no julia version entry. Dependencies may have been resolved with a different julia version.\n",
      "\u001b[33m\u001b[1m└ \u001b[22m\u001b[39m\u001b[90m@ /global/cfs/cdirs/m4269/cjprybol/Mycelia/Manifest.toml:0\u001b[39m\n",
      "\u001b[36m\u001b[1m[ \u001b[22m\u001b[39m\u001b[36m\u001b[1mInfo: \u001b[22m\u001b[39mPrecompiling Mycelia [453d265d-8292-4a7b-a57c-dce3f9ae6acd]\n",
      "\u001b[36m\u001b[1m[ \u001b[22m\u001b[39m\u001b[36m\u001b[1mInfo: \u001b[22m\u001b[39mSkipping precompilation since __precompile__(false). Importing Mycelia [453d265d-8292-4a7b-a57c-dce3f9ae6acd].\n"
     ]
    }
   ],
   "source": [
    "# if hit plotting library issues, try resetting LD path for julia\n",
    "# can set in ~/.local/share/jupyter/kernels/\n",
    "haskey(ENV, \"LD_LIBRARY_PATH\") && @assert ENV[\"LD_LIBRARY_PATH\"] == \"\"\n",
    "import Pkg\n",
    "pkgs = [\n",
    "    \"Revise\",\n",
    "    \"FASTX\",\n",
    "    \"BioSequences\",\n",
    "    \"Kmers\",\n",
    "    \"Graphs\",\n",
    "    \"MetaGraphs\",\n",
    "    \"SparseArrays\",\n",
    "    \"ProgressMeter\",\n",
    "    \"Distributions\",\n",
    "    \"HiddenMarkovModels\",\n",
    "    \"BioAlignments\",\n",
    "    \"StatsBase\",\n",
    "    \"Random\",\n",
    "    \"StatsPlots\",\n",
    "    \"Statistics\",\n",
    "    # \"GraphMakie\",\n",
    "    \"IterTools\",\n",
    "    \"Primes\",\n",
    "    \"OnlineStats\",\n",
    "    \"IteratorSampling\",\n",
    "    \"HypothesisTests\",\n",
    "    \"Clustering\",\n",
    "    \"Distances\",\n",
    "    \"BioAlignments\",\n",
    "    \"Statistics\",\n",
    "    \"Primes\",\n",
    "    \"DataFrames\"\n",
    "]\n",
    "# Pkg.add(pkgs)\n",
    "for pkg in pkgs\n",
    "    eval(Meta.parse(\"import $pkg\"))\n",
    "end\n",
    "# Pkg.develop(path=\"/global/cfs/projectdirs/m4269/cjprybol/Mycelia\")\n",
    "# Pkg.develop(path=\"../../..\")\n",
    "import Mycelia"
   ]
  },
  {
   "cell_type": "code",
   "execution_count": 2,
   "id": "128cc1e1-929a-42e1-8376-4c81832fd40c",
   "metadata": {
    "tags": []
   },
   "outputs": [
    {
     "data": {
      "text/plain": [
       "\"/global/cfs/cdirs/m4269/cjprybol/Mycelia/projects/variant-calling-benchmarking/data/genomes\""
      ]
     },
     "execution_count": 2,
     "metadata": {},
     "output_type": "execute_result"
    }
   ],
   "source": [
    "PROJECT_BASEDIR = dirname(pwd())\n",
    "data_dir = joinpath(PROJECT_BASEDIR, \"data\")\n",
    "genome_dir = mkpath(joinpath(data_dir, \"genomes\"))"
   ]
  },
  {
   "cell_type": "code",
   "execution_count": 3,
   "id": "00736937-92d0-4cb6-a933-0cb068457ad1",
   "metadata": {
    "tags": []
   },
   "outputs": [
    {
     "data": {
      "text/plain": [
       "\"/global/cfs/cdirs/m4269/cjprybol/Mycelia/projects/variant-calling-benchmarking/data/test\""
      ]
     },
     "execution_count": 3,
     "metadata": {},
     "output_type": "execute_result"
    }
   ],
   "source": [
    "working_dir = joinpath(data_dir, \"test\")\n",
    "mkpath(working_dir)"
   ]
  },
  {
   "cell_type": "code",
   "execution_count": 4,
   "id": "2e294dc9-dc3d-4a15-8e15-70e649200874",
   "metadata": {
    "tags": []
   },
   "outputs": [],
   "source": [
    "# short_read_sets = unique(map(x -> match(r\"^(.+\\.\\d+x)\\.\", x).captures[1], filter(x -> occursin(r\"\\.fna\\.art\", x) && occursin(r\"\\.fq\\.gz\", x) && !occursin(\"trimming_report\", x) && !occursin(\"_val_\", x), sort(readdir(genome_dir, join=true), by=x->filesize(x)))))\n",
    "# # forward = short_read_set * \".1_val_1.fq.gz\"\n",
    "# # reverse = short_read_set * \".2_val_2.fq.gz\""
   ]
  },
  {
   "cell_type": "code",
   "execution_count": 5,
   "id": "c4ab3b27-b540-4f4d-8bd3-093e58e0304d",
   "metadata": {
    "tags": []
   },
   "outputs": [
    {
     "data": {
      "text/plain": [
       "\"/global/cfs/cdirs/m4269/cjprybol/Mycelia/projects/variant-calling-benchmarking/data/genomes/3NEzu1DmBy.fna.normalized.vcf.fna.badread.10x.filtlong.fq.gz\""
      ]
     },
     "execution_count": 5,
     "metadata": {},
     "output_type": "execute_result"
    }
   ],
   "source": [
    "long_read_fastqs = sort(filter(x -> occursin(r\"\\.filtlong\\.fq\\.gz$\", x), readdir(genome_dir, join=true)), by=x->filesize(x))\n",
    "# fastq = long_read_fastqs[1]\n",
    "# fastq = long_read_fastqs[2]\n",
    "# fastq = long_read_fastqs[3]\n",
    "original_fastq = long_read_fastqs[4]"
   ]
  },
  {
   "cell_type": "code",
   "execution_count": 6,
   "id": "55e89dcb-8a32-4a0c-855a-e7f3c2cc411c",
   "metadata": {
    "tags": []
   },
   "outputs": [],
   "source": [
    "# # 1 hour runtime\n",
    "# polishing_results = Mycelia.iterative_polishing(original_fastq)"
   ]
  },
  {
   "cell_type": "code",
   "execution_count": 7,
   "id": "600e5b0e-a75f-4d9b-85a6-9bdef03671c1",
   "metadata": {
    "tags": []
   },
   "outputs": [],
   "source": [
    "# assembly_fastq = last(polishing_results).fastq"
   ]
  },
  {
   "cell_type": "code",
   "execution_count": 8,
   "id": "e5402112-20cd-44a2-a151-a19531c41af0",
   "metadata": {},
   "outputs": [],
   "source": [
    "# assembly_k = last(polishing_results).k"
   ]
  },
  {
   "cell_type": "code",
   "execution_count": 9,
   "id": "7b0ce0c8-f8f3-4eb5-bbb2-1b303e195664",
   "metadata": {
    "tags": []
   },
   "outputs": [
    {
     "data": {
      "text/plain": [
       "89"
      ]
     },
     "execution_count": 9,
     "metadata": {},
     "output_type": "execute_result"
    }
   ],
   "source": [
    "assembly_fastq = \"/global/cfs/cdirs/m4269/cjprybol/Mycelia/projects/variant-calling-benchmarking/data/genomes/3NEzu1DmBy.fna.normalized.vcf.fna.badread.10x.filtlong.k11.k13.k17.k19.k23.k31.k53.k89.fq.gz\"\n",
    "assembly_k = 89"
   ]
  },
  {
   "cell_type": "code",
   "execution_count": 10,
   "id": "f2c258bb-3d78-40b3-841f-5d3ef9797309",
   "metadata": {
    "tags": []
   },
   "outputs": [
    {
     "data": {
      "text/plain": [
       "8487.583333333334"
      ]
     },
     "execution_count": 10,
     "metadata": {},
     "output_type": "execute_result"
    }
   ],
   "source": [
    "mean_read_length = Statistics.mean([length(FASTX.sequence(record)) for record in Mycelia.open_fastx(assembly_fastq)])"
   ]
  },
  {
   "cell_type": "code",
   "execution_count": 11,
   "id": "b26e2c53-d751-49af-8b7e-765686ce01df",
   "metadata": {
    "tags": []
   },
   "outputs": [],
   "source": [
    "# assembly_k = maximum(filter(k -> k < mean_read_length/2, Mycelia.ks()))"
   ]
  },
  {
   "cell_type": "code",
   "execution_count": null,
   "id": "c05cfabb-0515-4e85-942b-52984a1826db",
   "metadata": {
    "tags": []
   },
   "outputs": [],
   "source": [
    "# assembly_ks_to_try = filter(k -> k < mean_read_length/2, Mycelia.ks())\n",
    "# assembly_ks_to_try = filter(k -> k >= assembly_k, assembly_ks_to_try)"
   ]
  },
  {
   "cell_type": "code",
   "execution_count": 12,
   "id": "32f52d49-7024-4bf6-9cc6-b6fcebd225af",
   "metadata": {
    "tags": []
   },
   "outputs": [],
   "source": [
    "# for k in assembly_ks_to_try\n",
    "#     kmer_graph = Mycelia.build_directed_kmer_graph(fastq=assembly_fastq, k=assembly_k)\n",
    "#     initial_connected_components = length(Graphs.connected_components(kmer_graph))\n",
    "#     @show k, initial_connected_components\n",
    "# end"
   ]
  },
  {
   "cell_type": "code",
   "execution_count": 13,
   "id": "2bd0027f-9804-40e0-83c3-9d1fa5383e15",
   "metadata": {
    "tags": []
   },
   "outputs": [
    {
     "data": {
      "text/plain": [
       "379"
      ]
     },
     "execution_count": 13,
     "metadata": {},
     "output_type": "execute_result"
    }
   ],
   "source": [
    "# score: 47549\n",
    "# assembly_k = 89\n",
    "# score: 47549\n",
    "# assembly_k = 139\n",
    "# score: 47549\n",
    "# assembly_k = 233\n",
    "# score: 47549\n",
    "assembly_k = 379\n",
    "# assembly_k = 607\n",
    "# assembly_k = 983\n",
    "# assembly_k = 1597\n",
    "# assembly_k = 2579\n",
    "# assembly_k = 4177"
   ]
  },
  {
   "cell_type": "code",
   "execution_count": 14,
   "id": "6247e054-fcc8-45c0-992c-6f84ba3b762d",
   "metadata": {
    "tags": []
   },
   "outputs": [
    {
     "data": {
      "text/plain": [
       "{23944, 23954} directed Int64 metagraph with Float64 weights defined by :weight (default weight 1.0)"
      ]
     },
     "execution_count": 14,
     "metadata": {},
     "output_type": "execute_result"
    }
   ],
   "source": [
    "kmer_graph = Mycelia.build_directed_kmer_graph(fastq=assembly_fastq, k=assembly_k)"
   ]
  },
  {
   "cell_type": "code",
   "execution_count": 15,
   "id": "aa5dae89-be5d-4679-9dbb-ef2341d424e5",
   "metadata": {
    "tags": []
   },
   "outputs": [
    {
     "name": "stdout",
     "output_type": "stream",
     "text": [
      "coverage_threshold = 2\n"
     ]
    },
    {
     "data": {
      "text/plain": [
       "({18772, 18770} directed Int64 metagraph with Float64 weights defined by :weight (default weight 1.0), [1, 3, 4, 5, 6, 7, 9, 10, 11, 12  …  23934, 23935, 23936, 23937, 23938, 23939, 23941, 23942, 23943, 23944])"
      ]
     },
     "execution_count": 15,
     "metadata": {},
     "output_type": "execute_result"
    }
   ],
   "source": [
    "# heuristic - should be based on something better or removed altogether\n",
    "max_filter = 5\n",
    "\n",
    "initial_connected_components = length(Graphs.connected_components(kmer_graph))\n",
    "coverage_threshold = 1\n",
    "tresholded_vertices = [i for (i, (kmer, count)) in enumerate(MetaGraphs.get_prop(kmer_graph, :kmer_counts)) if count > coverage_threshold]\n",
    "candidate_subgraph, vertex_map = Graphs.induced_subgraph(kmer_graph, tresholded_vertices)\n",
    "while (length(Graphs.connected_components(candidate_subgraph)) == initial_connected_components) && (coverage_threshold < max_filter)\n",
    "    coverage_threshold += 1\n",
    "    tresholded_vertices = [i for (i, (kmer, count)) in enumerate(MetaGraphs.get_prop(kmer_graph, :kmer_counts)) if count > coverage_threshold]\n",
    "    candidate_subgraph, vertex_map = Graphs.induced_subgraph(kmer_graph, tresholded_vertices)\n",
    "end\n",
    "coverage_threshold -= 1\n",
    "@show coverage_threshold\n",
    "\n",
    "tresholded_vertices = [i for (i, (kmer, count)) in enumerate(MetaGraphs.get_prop(kmer_graph, :kmer_counts)) if count > coverage_threshold]\n",
    "filtered_graph, filtered_graph_vertex_map = Graphs.induced_subgraph(kmer_graph, tresholded_vertices)\n",
    "# candidate_subgraph, vertex_map = Graphs.induced_subgraph(kmer_graph, [v for v in Graphs.vertices(kmer_graph) if kmer_graph.vprops[v][:count] >= coverage_threshold])"
   ]
  },
  {
   "cell_type": "code",
   "execution_count": 16,
   "id": "7f9a8a55-df91-4e63-bd4c-a01dde8e5539",
   "metadata": {
    "tags": []
   },
   "outputs": [
    {
     "data": {
      "text/plain": [
       "2-element Vector{Vector{Int64}}:\n",
       " [4, 5, 7, 8, 12, 13, 14, 17, 18, 20  …  18755, 18756, 18761, 18762, 18766, 18767, 18768, 18769, 18770, 18772]\n",
       " [1, 2, 3, 6, 9, 10, 11, 15, 16, 19  …  18748, 18751, 18757, 18758, 18759, 18760, 18763, 18764, 18765, 18771]"
      ]
     },
     "execution_count": 16,
     "metadata": {},
     "output_type": "execute_result"
    }
   ],
   "source": [
    "connected_components = sort(Graphs.connected_components(filtered_graph), by=x->length(x), rev=true)"
   ]
  },
  {
   "cell_type": "code",
   "execution_count": 17,
   "id": "6afaecbe-cc56-41a0-8d51-b752810c4c6b",
   "metadata": {
    "tags": []
   },
   "outputs": [
    {
     "data": {
      "text/plain": [
       "2-element Vector{Int64}:\n",
       " 9458\n",
       " 9314"
      ]
     },
     "execution_count": 17,
     "metadata": {},
     "output_type": "execute_result"
    }
   ],
   "source": [
    "length.(connected_components)"
   ]
  },
  {
   "cell_type": "code",
   "execution_count": 18,
   "id": "65725c3e-a680-4169-833e-0a4bee994bbc",
   "metadata": {
    "tags": []
   },
   "outputs": [
    {
     "data": {
      "text/plain": [
       "2-element Vector{Int64}:\n",
       " 9740\n",
       " 9692"
      ]
     },
     "execution_count": 18,
     "metadata": {},
     "output_type": "execute_result"
    }
   ],
   "source": [
    "connected_component_sequences = BioSequences.LongDNA{2}[]\n",
    "for connected_component in connected_components\n",
    "    connected_component_subgraph, connected_component_subgraph_vertex_map = Graphs.induced_subgraph(filtered_graph, connected_component)\n",
    "    sorted_connected_component_subgraph = Graphs.topological_sort_by_dfs(connected_component_subgraph)\n",
    "    dsp_result = Graphs.dijkstra_shortest_paths(connected_component_subgraph, first(sorted_connected_component_subgraph))\n",
    "    maxdist, maxdist_index = findmax(map(d -> d == Inf ? zero(d) : d, dsp_result.dists))\n",
    "    connected_component_subgraph_longest_path = Graphs.enumerate_paths(dsp_result, maxdist_index)\n",
    "    # @show connected_component_subgraph_longest_path\n",
    "    original_graph_kmer_indices = filtered_graph_vertex_map[connected_component_subgraph_vertex_map[connected_component_subgraph_longest_path]]\n",
    "    connected_component_subgraph_longest_path_reconstructed_sequence = Mycelia.kmer_path_to_sequence(kmer_graph.gprops[:ordered_kmers][original_graph_kmer_indices])\n",
    "    push!(connected_component_sequences, connected_component_subgraph_longest_path_reconstructed_sequence)\n",
    "end\n",
    "connected_component_sequences\n",
    "length.(connected_component_sequences)"
   ]
  },
  {
   "cell_type": "code",
   "execution_count": 19,
   "id": "e43537ee-b737-4deb-865f-e301fe1f2ec1",
   "metadata": {
    "tags": []
   },
   "outputs": [
    {
     "data": {
      "text/plain": [
       "1572-element Vector{Kmers.DNAKmer{379, 12}}:\n",
       " AAGTTGCAGAGGGGGAGCGTGCTACCTCGGGGAATCACT…AGTCGACGTTGAGAAACGCCGAAAGGCACTCTTTTAACA\n",
       " AGTTGCAGAGGGGGAGCGTGCTACCTCGGGGAATCACTG…GTCGACGTTGAGAAACGCCGAAAGGCACTCTTTTAACAT\n",
       " CATGTTAAAAGAGTGCCTTTCGGCGTTTCTCAACGTCGA…ACAGTGATTCCCCGAGGTAGCACGCTCCCCCTCTGCAAC\n",
       " CCATGTTAAAAGAGTGCCTTTCGGCGTTTCTCAACGTCG…GACAGTGATTCCCCGAGGTAGCACGCTCCCCCTCTGCAA\n",
       " CCCATGTTAAAAGAGTGCCTTTCGGCGTTTCTCAACGTC…GGACAGTGATTCCCCGAGGTAGCACGCTCCCCCTCTGCA\n",
       " GCAGAGGGGGAGCGTGCTACCTCGGGGAATCACTGTCCA…ACGTTGAGAAACGCCGAAAGGCACTCTTTTAACATGGGA\n",
       " CAGAGGGGGAGCGTGCTACCTCGGGGAATCACTGTCCAC…CGTTGAGAAACGCCGAAAGGCACTCTTTTAACATGGGAC\n",
       " AGAGGGGGAGCGTGCTACCTCGGGGAATCACTGTCCACG…GTTGAGAAACGCCGAAAGGCACTCTTTTAACATGGGACC\n",
       " CGGTCCCATGTTAAAAGAGTGCCTTTCGGCGTTTCTCAA…CCGTGGACAGTGATTCCCCGAGGTAGCACGCTCCCCCTC\n",
       " AGGGGGAGCGTGCTACCTCGGGGAATCACTGTCCACGGT…TGAGAAACGCCGAAAGGCACTCTTTTAACATGGGACCGC\n",
       " CGCGGTCCCATGTTAAAAGAGTGCCTTTCGGCGTTTCTC…CACCGTGGACAGTGATTCCCCGAGGTAGCACGCTCCCCC\n",
       " CCGCGGTCCCATGTTAAAAGAGTGCCTTTCGGCGTTTCT…TCACCGTGGACAGTGATTCCCCGAGGTAGCACGCTCCCC\n",
       " GGGAGCGTGCTACCTCGGGGAATCACTGTCCACGGTGAT…GAAACGCCGAAAGGCACTCTTTTAACATGGGACCGCGGA\n",
       " ⋮\n",
       " AGACCTCAGGTTCCAGGCTTCCTAAAACATGGACGCCGA…AGTGAAGCTCGCTTATCCAATCAACAGCGTAGGCGCCCG\n",
       " CAGACCTCAGGTTCCAGGCTTCCTAAAACATGGACGCCG…AAGTGAAGCTCGCTTATCCAATCAACAGCGTAGGCGCCC\n",
       " GCAGACCTCAGGTTCCAGGCTTCCTAAAACATGGACGCC…TAAGTGAAGCTCGCTTATCCAATCAACAGCGTAGGCGCC\n",
       " GCGCCTACGCTGTTGATTGGATAAGCGAGCTTCACTTAC…GCGTCCATGTTTTAGGAAGCCTGGAACCTGAGGTCTGCC\n",
       " CGCCTACGCTGTTGATTGGATAAGCGAGCTTCACTTACT…CGTCCATGTTTTAGGAAGCCTGGAACCTGAGGTCTGCCC\n",
       " GCCTACGCTGTTGATTGGATAAGCGAGCTTCACTTACTG…GTCCATGTTTTAGGAAGCCTGGAACCTGAGGTCTGCCCA\n",
       " CCTACGCTGTTGATTGGATAAGCGAGCTTCACTTACTGG…TCCATGTTTTAGGAAGCCTGGAACCTGAGGTCTGCCCAG\n",
       " ACTGGGCAGACCTCAGGTTCCAGGCTTCCTAAAACATGG…TCCAGTAAGTGAAGCTCGCTTATCCAATCAACAGCGTAG\n",
       " AACTGGGCAGACCTCAGGTTCCAGGCTTCCTAAAACATG…ATCCAGTAAGTGAAGCTCGCTTATCCAATCAACAGCGTA\n",
       " ACGCTGTTGATTGGATAAGCGAGCTTCACTTACTGGATC…ATGTTTTAGGAAGCCTGGAACCTGAGGTCTGCCCAGTTG\n",
       " CCAACTGGGCAGACCTCAGGTTCCAGGCTTCCTAAAACA…GGATCCAGTAAGTGAAGCTCGCTTATCCAATCAACAGCG\n",
       " CCCAACTGGGCAGACCTCAGGTTCCAGGCTTCCTAAAAC…GGGATCCAGTAAGTGAAGCTCGCTTATCCAATCAACAGC"
      ]
     },
     "execution_count": 19,
     "metadata": {},
     "output_type": "execute_result"
    }
   ],
   "source": [
    "first_sequence_canonical_kmers = unique(last.(collect(Kmers.EveryCanonicalKmer{Kmers.DNAKmer{assembly_k}}(connected_component_sequences[1]))))\n",
    "second_sequence_canonical_kmers = unique(last.(collect(Kmers.EveryCanonicalKmer{Kmers.DNAKmer{assembly_k}}(connected_component_sequences[2]))))\n",
    "intersect(first_sequence_canonical_kmers, second_sequence_canonical_kmers)"
   ]
  },
  {
   "cell_type": "code",
   "execution_count": 20,
   "id": "0d9c28fb-132c-4aab-9d17-82485e3730b0",
   "metadata": {
    "tags": []
   },
   "outputs": [
    {
     "data": {
      "text/plain": [
       "BioAlignments.PairwiseAlignmentResult{Int64, BioSequences.LongSequence{BioSequences.DNAAlphabet{2}}, BioSequences.LongSequence{BioSequences.DNAAlphabet{2}}}:\n",
       "  score: 47549\n",
       "  seq:    0 ----CGGATGTCACAAACTCGCTAAATTACACATACTAAGCACTTACTGGACAAACTGAT   56\n",
       "                ||||||||||||||||||||||||||||||||||||||||||||||||||||||||\n",
       "  ref:    1 AACTCGGATGTCACAAACTCGCTAAATTACACATACTAAGCACTTACTGGACAAACTGAT   60\n",
       "\n",
       "  seq:   57 CTATAGCATTCACCGCGTTAGGCGCCTTTGGGAGCTATCCGAGTGCTTGCAAGGCCGTTC  116\n",
       "            ||||||||||||||||||||||||||||||||||||||||||||||||||||||||||||\n",
       "  ref:   61 CTATAGCATTCACCGCGTTAGGCGCCTTTGGGAGCTATCCGAGTGCTTGCAAGGCCGTTC  120\n",
       "\n",
       "  seq:  117 TGCCGTTCGGCCCTAGGTTTCCTCCAACCGCTGCCGTCTAGGCTCCAAACGTCATCTACC  176\n",
       "            ||||||||||||||||||||||||||||||||||||||||||||||||||||||||||||\n",
       "  ref:  121 TGCCGTTCGGCCCTAGGTTTCCTCCAACCGCTGCCGTCTAGGCTCCAAACGTCATCTACC  180\n",
       "\n",
       "  seq:  177 CATAAACGGGTCTAATCGTTTCTACTCGATACATTTATACAGGCGTGCGGCAGTACGCCC  236\n",
       "            ||||||||||||||||||||||||||||||||||||||||||||||||||||||||||||\n",
       "  ref:  181 CATAAACGGGTCTAATCGTTTCTACTCGATACATTTATACAGGCGTGCGGCAGTACGCCC  240\n",
       "\n",
       "  seq:  237 TCGAGCCAAAAACACCACTCGAAGGTCCTGAGATAGCTCTCACGAATCCTCTAGAGTGGG  296\n",
       "            ||||||||||||||||||||||||||||||||||||||||||||||||||||||||||||\n",
       "  ref:  241 TCGAGCCAAAAACACCACTCGAAGGTCCTGAGATAGCTCTCACGAATCCTCTAGAGTGGG  300\n",
       "\n",
       "  seq:  297 GTAAAGCAGTGCAGTGTTTTTAAAGACAACGCCGCCAGCCACCGCCTTTAAAGAGTTGAT  356\n",
       "            ||||||||||||||||||||||||||||||||||||||||||||||||||||||||||||\n",
       "  ref:  301 GTAAAGCAGTGCAGTGTTTTTAAAGACAACGCCGCCAGCCACCGCCTTTAAAGAGTTGAT  360\n",
       "\n",
       "  seq:  357 TCTATCCGCCGTTTATATTGAGGCTGGGAGAAGCCCGTAAACTGTTTGGCTTGCAAGATT  416\n",
       "            ||||||||||||||||||| ||||||||||||||||||||||||||||||||||||||||\n",
       "  ref:  361 TCTATCCGCCGTTTATATTCAGGCTGGGAGAAGCCCGTAAACTGTTTGGCTTGCAAGATT  420\n",
       "\n",
       "  seq:  417 TTAGAACTTCAAATTGATGTTTGATTCCGGTTCACGTACCTATTTTATGTTAGGCGATAC  476\n",
       "            ||||||||||||||||||||||||||||||||||||||||||||||||||||||||||||\n",
       "  ref:  421 TTAGAACTTCAAATTGATGTTTGATTCCGGTTCACGTACCTATTTTATGTTAGGCGATAC  480\n",
       "\n",
       "  seq:  477 CAGTACT-GCTCAA-GCCTCCGGTTATAGCACACCATATAGTATCAATCGGGTGACGCTT  534\n",
       "            ||||||  |||||| |||||||||||||||||||||||||||||||||||||||||||||\n",
       "  ref:  481 CAGTACGAGCTCAAAGCCTCCGGTTATAGCACACCATATAGTATCAATCGGGTGACGCTT  540\n",
       "\n",
       "  seq:  535 ATGTTCAGTTATGCCGGCACAGAGCTGAGCTCGTAAGTTTACACCAATAGACGCAACACA  594\n",
       "            ||||||||||||||||||||||||||||||||||||||||||||||||||||||||||||\n",
       "  ref:  541 ATGTTCAGTTATGCCGGCACAGAGCTGAGCTCGTAAGTTTACACCAATAGACGCAACACA  600\n",
       "\n",
       "  seq:  595 AACCACTTTAATGTTAGTGCCCGTTGGCGAGTGAATGCGCGCCTCTCGGCATCATACCAC  654\n",
       "            ||||||||||||||||||||||||||||||||||||||||||||||||||||||||||||\n",
       "  ref:  601 AACCACTTTAATGTTAGTGCCCGTTGGCGAGTGAATGCGCGCCTCTCGGCATCATACCAC  660\n",
       "\n",
       "  seq:  655 CTATCCAGCGTCTTTTAAGTCCAATTGGGAGCAGGCACTCTGGTTCTGGAGTGAGTACAA  714\n",
       "            ||||||||||||||||||||||||||||||||||||||||||||||||||||||||||||\n",
       "  ref:  661 CTATCCAGCGTCTTTTAAGTCCAATTGGGAGCAGGCACTCTGGTTCTGGAGTGAGTACAA  720\n",
       "\n",
       "  seq:  715 TTCGTGTTAATATCTTTGTCGTCCACATCATTACATGGAGTACGTGTCTGTCTTGCTCGT  774\n",
       "            ||||||||||||||||||||||||||||||||||||||||||||||||||||||||||||\n",
       "  ref:  721 TTCGTGTTAATATCTTTGTCGTCCACATCATTACATGGAGTACGTGTCTGTCTTGCTCGT  780\n",
       "\n",
       "  seq:  775 AGTAACTTGCTGGTGCAGGGTTCCCAACTACTTTCGTAGAAATTTTACGAATTTCGACAC  834\n",
       "            |||||||||||||||||||||||||||||||||||||||||| |||||||||||||||||\n",
       "  ref:  781 AGTAACTTGCTGGTGCAGGGTTCCCAACTACTTTCGTAGAAAATTTACGAATTTCGACAC  840\n",
       "\n",
       "  seq:  835 CCAGAGCCCACCGGTGCGATGGGGCTAAGCCTCATGACGAAACAACATGACACGCAGTGG  894\n",
       "            ||||||||||||||||||||||||||||||||||||||||||||||||||||||||||||\n",
       "  ref:  841 CCAGAGCCCACCGGTGCGATGGGGCTAAGCCTCATGACGAAACAACATGACACGCAGTGG  900\n",
       "\n",
       "  seq:  895 TATTTTGGTGGTAGATACTAGGTAGTTTCAAGAGGTCAAAAGAGGCGTGCTCTTGACCGC  954\n",
       "            ||||||||||||||||||||||||||||||||||||||||||||||||||||||||||||\n",
       "  ref:  901 TATTTTGGTGGTAGATACTAGGTAGTTTCAAGAGGTCAAAAGAGGCGTGCTCTTGACCGC  960\n",
       "\n",
       "  seq:  955 ACCTATTATGGACATCAACGCAACTTATCTGCTGTCCTCACCAGCACGACTTACAATGGG 1014\n",
       "            ||||||||||||||||||||||||||||||||||||||||||||||||||||||||||||\n",
       "  ref:  961 ACCTATTATGGACATCAACGCAACTTATCTGCTGTCCTCACCAGCACGACTTACAATGGG 1020\n",
       "\n",
       "  seq: 1015 GGCGCGATAATCCAATAAGATTTACTACCGCCCATTCCAGCTGTCTCAGTTCTCTCAGCG 1074\n",
       "            ||||||||||||||||||||||||||||||||||||||||||||||||||||||||||||\n",
       "  ref: 1021 GGCGCGATAATCCAATAAGATTTACTACCGCCCATTCCAGCTGTCTCAGTTCTCTCAGCG 1080\n",
       "\n",
       "  seq: 1075 TTAGGCTATCCAGAGGACCGCCTCAGATAGGATTGCTCAAGAGTCGCAAGCTATATTACG 1134\n",
       "            | ||||||||||||||||||||||||||||||||||||||||||||||||||||||||||\n",
       "  ref: 1081 T-AGGCTATCCAGAGGACCGCCTCAGATAGGATTGCTCAAGAGTCGCAAGCTATATTACG 1139\n",
       "\n",
       "  seq: 1135 CTCAAGGCACACACCCTGAGTAAAAAGCGTCTCCTATTACATACCACCAATCGGCATACG 1194\n",
       "            ||||||||||||||||||||||||||||||||||||||||||||||||||||||||||||\n",
       "  ref: 1140 CTCAAGGCACACACCCTGAGTAAAAAGCGTCTCCTATTACATACCACCAATCGGCATACG 1199\n",
       "\n",
       "  seq: 1195 GTCGACGGACGTAACACAGGACCCCAAGAAATGGATTGA--GGGGGGTGGGCCTAACACA 1252\n",
       "            ||||||||||||| ||||||||||||||||||||||| |  |||||||||||||||||||\n",
       "  ref: 1200 GTCGACGGACGTA-CACAGGACCCCAAGAAATGGATTCAAGGGGGGGTGGGCCTAACACA 1258\n",
       "\n",
       "  seq: 1253 TTGTTTCGTGCCCAATAGGAAGAACACCCACACATAAGGAAGCCTGAGTACCCAAGATCC 1312\n",
       "            ||||||||||||||||||||||||||||||||||||||||||||||||||||||||||||\n",
       "  ref: 1259 TTGTTTCGTGCCCAATAGGAAGAACACCCACACATAAGGAAGCCTGAGTACCCAAGATCC 1318\n",
       "\n",
       "  seq: 1313 GATGTATATGTACACGACACAGCATGGGGATATGGGCGAGTGGGATCGACCTGCATCCTT 1372\n",
       "            |||||||||||||||||||||||||| |  ||||||||||||||||||||||||||||||\n",
       "  ref: 1319 GATGTATATGTACACGACACAGCATGAG--TATGGGCGAGTGGGATCGACCTGCATCCTT 1376\n",
       "\n",
       "  seq: 1373 GTTAAATGCCAGATAAAAACATCCAGTATCCGTTTCCTAGAGGCCCGCGGGATATACTGT 1432\n",
       "            ||||||||||||||||||||||||||||||||||||||||||||||||||||||||||||\n",
       "  ref: 1377 GTTAAATGCCAGATAAAAACATCCAGTATCCGTTTCCTAGAGGCCCGCGGGATATACTGT 1436\n",
       "\n",
       "  seq: 1433 GCTCCGCCATACACCATTGGTCATTGTTTCGAGTCGGAAGGTGCAAAAAGCTTATTCACT 1492\n",
       "            ||||||||||||||||||||||||||||||||||||||||||||||||||||||||||||\n",
       "  ref: 1437 GCTCCGCCATACACCATTGGTCATTGTTTCGAGTCGGAAGGTGCAAAAAGCTTATTCACT 1496\n",
       "\n",
       "  seq: 1493 CGGCTAGTGCGTGTGTTTGAAATAATTGCGTCATATGAAAGTTGCAGAGGGGGAGCGTGC 1552\n",
       "            ||||||||||||||||||||||||||||||||||||||| ||||||||||||||||||||\n",
       "  ref: 1497 CGGCTAGTGCGTGTGTTTGAAATAATTGCGTCATATGAA-GTTGCAGAGGGGGAGCGTGC 1555\n",
       "\n",
       "  seq: 1553 TACCTCGGGGAATCACTGTCCACGGTGATCCCAATTAGGCGTGTCTAGCCGTACACATCT 1612\n",
       "            ||||||||||||||||||||||||||||||||||||||||||||||||||||||||||||\n",
       "  ref: 1556 TACCTCGGGGAATCACTGTCCACGGTGATCCCAATTAGGCGTGTCTAGCCGTACACATCT 1615\n",
       "\n",
       "  seq: 1613 GGGAGTGAGCACGCAAACAACGTTCAAACACCAAGGCGCATGTAAGATCTTTGTTTGGCC 1672\n",
       "            ||||||||||||||||||||||||||||||||||||||||||||||||||||||||||||\n",
       "  ref: 1616 GGGAGTGAGCACGCAAACAACGTTCAAACACCAAGGCGCATGTAAGATCTTTGTTTGGCC 1675\n",
       "\n",
       "  seq: 1673 CTGGGTTTAGGGGCCTAGAGTATACTCAAGGCGAATTTGTCCTAGTGGAGTTGCTAACCA 1732\n",
       "            ||||||||||||||||||||||||||||||||||||||||||||||||||||||||||||\n",
       "  ref: 1676 CTGGGTTTAGGGGCCTAGAGTATACTCAAGGCGAATTTGTCCTAGTGGAGTTGCTAACCA 1735\n",
       "\n",
       "  seq: 1733 TTAGGTTGAACCTAAATAGAGTATCACTCACCGATTAGACCTAACTACGGCAAGAGCCGT 1792\n",
       "            ||||||||||||||||||||||||||||||||||||||||||||||||||||||||||||\n",
       "  ref: 1736 TTAGGTTGAACCTAAATAGAGTATCACTCACCGATTAGACCTAACTACGGCAAGAGCCGT 1795\n",
       "\n",
       "  seq: 1793 GCCGAGTACCAGATAAAATACAGATTATCAGGGGGAAGGACGTTGACCAGATCACTCAGT 1852\n",
       "            ||||||||||||||||||||||||||||||||||||||||||||||||||||||||||||\n",
       "  ref: 1796 GCCGAGTACCAGATAAAATACAGATTATCAGGGGGAAGGACGTTGACCAGATCACTCAGT 1855\n",
       "\n",
       "  seq: 1853 CATTATTAATAAGACTGCAGTCGACGTTGAGAAACGCCGAAAGGCACTCTTTTAACATGG 1912\n",
       "            ||||||||||||||||||||||||||||||||||||||||||||||||||||||||||||\n",
       "  ref: 1856 CATTATTAATAAGACTGCAGTCGACGTTGAGAAACGCCGAAAGGCACTCTTTTAACATGG 1915\n",
       "\n",
       "  seq: 1913 GACCGCGGAGATCCGCTTCTCTTTGACCAGGAAAAAAGTCCGAGCGCCAGGTTTTATATG 1972\n",
       "            |||||||||||||||||||||||||||||||||||| |||||||||||||||||||||||\n",
       "  ref: 1916 GACCGCGGAGATCCGCTTCTCTTTGACCAGGAAAAA-GTCCGAGCGCCAGGTTTTATATG 1974\n",
       "\n",
       "  seq: 1973 TGATGCTATGATTTACCCTAACTTTCAAAGGAAGCTGTTAATTATT-AGTGCACTCGGGA 2031\n",
       "            |||||||||| ||||||||||||||||||||||||||||||||||| |||||||||||||\n",
       "  ref: 1975 TGATGCTATGGTTTACCCTAACTTTCAAAGGAAGCTGTTAATTATTTAGTGCACTCGGGA 2034\n",
       "\n",
       "  seq: 2032 CTAAATTGGTACAGCAATCTCACTGCCACTGAACCTTTGCAATCATCCTCTTTAGAGGCT 2091\n",
       "            ||||||||||||||||||||||||||||||||||||||||||||||||||||||||||||\n",
       "  ref: 2035 CTAAATTGGTACAGCAATCTCACTGCCACTGAACCTTTGCAATCATCCTCTTTAGAGGCT 2094\n",
       "\n",
       "  seq: 2092 GCTTCGTATGTGTAACGTCAGGGGAAGCCAGCATAATTTTCACTGACCA-GTCTGCGGCC 2150\n",
       "            ||||||||||||||||||||||||||||||||||||||||||| ||||| | ||||| ||\n",
       "  ref: 2095 GCTTCGTATGTGTAACGTCAGGGGAAGCCAGCATAATTTTCAC-GACCAAG-CTGCG-CC 2151\n",
       "\n",
       "  seq: 2151 GGATCGGGGGCTTCAACCCATACAGAGCGTGATCGTTGGAACCTCACGAACAACTACAGA 2210\n",
       "            ||||||||||||||||||||||||||||||||||||||||||||||||||||||||||||\n",
       "  ref: 2152 GGATCGGGGGCTTCAACCCATACAGAGCGTGATCGTTGGAACCTCACGAACAACTACAGA 2211\n",
       "\n",
       "  seq: 2211 ATGCCTGCGTGCTTACGCCTTAGTGTCATCTCACAATACGCAGAAAGGAAGTCCGATGGT 2270\n",
       "            ||||||||||||||||||||||||||||||||||||||||||||||||||||||||||||\n",
       "  ref: 2212 ATGCCTGCGTGCTTACGCCTTAGTGTCATCTCACAATACGCAGAAAGGAAGTCCGATGGT 2271\n",
       "\n",
       "  seq: 2271 TTGCCACGGCCAAGGCTACTGATCAATTTACCACTGG-TCATT-TTAAT-GTGACCAAAT 2327\n",
       "            ||||||||||||||||||||||||||||||||||||| ||||| || || ||||||||||\n",
       "  ref: 2272 TTGCCACGGCCAAGGCTACTGATCAATTTACCACTGGCTCATTCTTGATCGTGACCAAAT 2331\n",
       "\n",
       "  seq: 2328 CCACTCC-ACGCTAGCTGTATCACTAAACAGGACTTGAGTAACAAGAGCGTCCACTTCGC 2386\n",
       "             |||||| ||||||||||||||||||||||||||||||||||||||||||||||||||||\n",
       "  ref: 2332 GCACTCCCACGCTAGCTGTATCACTAAACAGGACTTGAGTAACAAGAGCGTCCACTTCGC 2391\n",
       "\n",
       "  seq: 2387 GCGTTTTTGTGAATCTCCGAGTCGTGTCGCACTGTATCCGAAGAAACAGAAAATGGGAGC 2446\n",
       "            ||||||||||||||||||||||||||||||||||||||||||||||||||||||||||||\n",
       "  ref: 2392 GCGTTTTTGTGAATCTCCGAGTCGTGTCGCACTGTATCCGAAGAAACAGAAAATGGGAGC 2451\n",
       "\n",
       "  seq: 2447 TAAAATCATACAAGAGCGCGATTGCTGCATACTACAACCTTCCGACCGCGTCCGTTAATA 2506\n",
       "            |||||||||||||||||||||||||||||||||||||||||||||||||||||||| || \n",
       "  ref: 2452 TAAAATCATACAAGAGCGCGATTGCTGCATACTACAACCTTCCGACCGCGTCCGTTCATG 2511\n",
       "\n",
       "  seq: 2507 AGTGGTTCCCTTATCGAAAGAAGTGACATCGTTACGCCAGGATGCGGCGGTGTAACACTG 2566\n",
       "            ||||||||||||||||||||||||||||||||||||||||||||||||||||||||||||\n",
       "  ref: 2512 AGTGGTTCCCTTATCGAAAGAAGTGACATCGTTACGCCAGGATGCGGCGGTGTAACACTG 2571\n",
       "\n",
       "  seq: 2567 AACCAATCGACAATCCCTTCTGGGTCATTACCTAAACAGTTTGGTAGTGGATAGAACTCG 2626\n",
       "            ||||||||||| ||| ||||||||  ||||||||||||||||||||||||||||||||||\n",
       "  ref: 2572 AACCAATCGACGATCTCTTCTGGG--ATTACCTAAACAGTTTGGTAGTGGATAGAACTCG 2629\n",
       "\n",
       "  seq: 2627 ATTTGGGCATCGGAGGCAGTCTACCCAC-GGTAGGACATATGAACACTACGTACTTGATT 2685\n",
       "            |||||||||||||||||||||||||||| |||||||||||||||||||||||||||||||\n",
       "  ref: 2630 ATTTGGGCATCGGAGGCAGTCTACCCACCGGTAGGACATATGAACACTACGTACTTGATT 2689\n",
       "\n",
       "  seq: 2686 ACGTGGCTCCCCTGAAAAAGGCAGGGAGACTGGGGTTTTTTCTCGGAACCCCCTCTTTCG 2745\n",
       "            ||||||||||||||||||||||||||||||||||||||||||||||||||||||||||||\n",
       "  ref: 2690 ACGTGGCTCCCCTGAAAAAGGCAGGGAGACTGGGGTTTTTTCTCGGAACCCCCTCTTTCG 2749\n",
       "\n",
       "  seq: 2746 CCGGTTCTTACATTACTCGTTTAATGATACTCCTCCGTTAAAACCGGTGTGGTCTCTCGT 2805\n",
       "            |||||||||||||||||||||||||||||||| || ||||||||||||||||||||||||\n",
       "  ref: 2750 CCGGTTCTTACATTACTCGTTTAATGATACTC-TC-GTTAAAACCGGTGTGGTCTCTCGT 2807\n",
       "\n",
       "  seq: 2806 GTGCGCTTGTTGCGAAAACGAGTTGACCTCAAGCAATCATAGAAGAAACTTGAAGTTATC 2865\n",
       "            ||||||||||||||||||||||||||||||||||||||||||||||||||||||||||||\n",
       "  ref: 2808 GTGCGCTTGTTGCGAAAACGAGTTGACCTCAAGCAATCATAGAAGAAACTTGAAGTTATC 2867\n",
       "\n",
       "  seq: 2866 CTTTGCCGTACCTTTAATCAACAGGCCGTTATATCTTCCAATATCTCTCGCTACGCTGAG 2925\n",
       "            ||||||||||||||||||||||||||||||||||||||||||||||||||||||||||||\n",
       "  ref: 2868 CTTTGCCGTACCTTTAATCAACAGGCCGTTATATCTTCCAATATCTCTCGCTACGCTGAG 2927\n",
       "\n",
       "  seq: 2926 TAGGAAGTCGCTAAACTCATCTGGAGAAAGTTTAACTCAGCGCTCCTCCGGGCGCCTCGA 2985\n",
       "            ||||||||||||||||||||||||||||||||||||||||||||||||||||||||||||\n",
       "  ref: 2928 TAGGAAGTCGCTAAACTCATCTGGAGAAAGTTTAACTCAGCGCTCCTCCGGGCGCCTCGA 2987\n",
       "\n",
       "  seq: 2986 ACGTTATTGAGCGTGAGCAGGGGCGATACACACCCCATGAAATCGATTGTTGTGGTTGCG 3045\n",
       "            ||||||||||||||||||||||||||||||||||||||||||||||||||||||||||||\n",
       "  ref: 2988 ACGTTATTGAGCGTGAGCAGGGGCGATACACACCCCATGAAATCGATTGTTGTGGTTGCG 3047\n",
       "\n",
       "  seq: 3046 GATCAGGATACGCGGCCATGCAAGAGAAGGGCTCCTGCTCTGCTCCCAATGAGAAGCAGA 3105\n",
       "            ||||||||||||||||||||||||||||||||||||||||||||||||||||||||||||\n",
       "  ref: 3048 GATCAGGATACGCGGCCATGCAAGAGAAGGGCTCCTGCTCTGCTCCCAATGAGAAGCAGA 3107\n",
       "\n",
       "  seq: 3106 AAA-TTCGCTTAGTGTAATAGTGTGCAGACCGGTGTATGCTAACCCGCACGGAATCACTG 3164\n",
       "            ||| ||||||||||||||||||||||||||||||||||||||||||||||||||||||||\n",
       "  ref: 3108 AAAATTCGCTTAGTGTAATAGTGTGCAGACCGGTGTATGCTAACCCGCACGGAATCACTG 3167\n",
       "\n",
       "  seq: 3165 TATTTCTCCAGACTACAGTGATGGAGTGCAGTAGGGCCATTATGAAGCCGGGATTTCGAA 3224\n",
       "            ||||||||||||||||||||||||||||||||||||||||||||||||||||||||||||\n",
       "  ref: 3168 TATTTCTCCAGACTACAGTGATGGAGTGCAGTAGGGCCATTATGAAGCCGGGATTTCGAA 3227\n",
       "\n",
       "  seq: 3225 CAGCACTGTCGCCCGATAACCATTCGTTTCTCGGCGCTTGAGCATTCGGACTGCAGGCCA 3284\n",
       "            ||||||||||||||||||||||||||||||||||||||||||||||||||||||||||||\n",
       "  ref: 3228 CAGCACTGTCGCCCGATAACCATTCGTTTCTCGGCGCTTGAGCATTCGGACTGCAGGCCA 3287\n",
       "\n",
       "  seq: 3285 GCGATACAGTGGGCGGTATTGTGGACAACATGACCCTCGGCGTCGCGCCCTACGCAGTAC 3344\n",
       "            ||||||||||||||||||||||||||||||||||||||||||||||||||||||||||||\n",
       "  ref: 3288 GCGATACAGTGGGCGGTATTGTGGACAACATGACCCTCGGCGTCGCGCCCTACGCAGTAC 3347\n",
       "\n",
       "  seq: 3345 TGTTACCGTTAAACAGTTCACTCGCACTACATGACACGTCTGATACTATTGTTACACGCA 3404\n",
       "            |||||||||||||||||||||||||||||||||||||||||||| || ||| ||||| ||\n",
       "  ref: 3348 TGTTACCGTTAAACAGTTCACTCGCACTACATGACACGTCTGATGCTCTTGCTACACACA 3407\n",
       "\n",
       "  seq: 3405 GTCTAA-GTAT-GGAGATTGATCT--TCGTTGGTCACTTTGCCGAGCATGCATACGGAAG 3460\n",
       "            || ||| | || ||||||||||||  ||||||||||||||||||||||||||||||||||\n",
       "  ref: 3408 GTATAACGGATCGGAGATTGATCTCTTCGTTGGTCACTTTGCCGAGCATGCATACGGAAG 3467\n",
       "\n",
       "  seq: 3461 TGACATGTTGAGTTCCTGGAGACCAGGGCAAGCTTCTGAATGTAGAAACGCTGTTCGGGC 3520\n",
       "            ||||||||||||||||||||||||||||||||||||||||||||||||||||||||||||\n",
       "  ref: 3468 TGACATGTTGAGTTCCTGGAGACCAGGGCAAGCTTCTGAATGTAGAAACGCTGTTCGGGC 3527\n",
       "\n",
       "  seq: 3521 CTATTTGGCTCTTACTTAGCTAACACCTGGCGGGCCTCGGGACCATTCGATGCTGAACTT 3580\n",
       "            ||||||||||||||||||||||||||||||||||||||||||||||||||||||||||  \n",
       "  ref: 3528 CTATTTGGCTCTTACTTAGCTAACACCTGGCGGGCCTCGGGACCATTCGATGCTGAAC-- 3585\n",
       "\n",
       "  seq: 3581 CAAGATACAAATCCCACCGCGTATTTGTAGCATAAAATCCCTTAGCATCTCAGTGTAATT 3640\n",
       "            |||||||||||||||||||||||||||||||||||| |||| ||||||||||||||||||\n",
       "  ref: 3586 CAAGATACAAATCCCACCGCGTATTTGTAGCATAAA-TCCCCTAGCATCTCAGTGTAATT 3644\n",
       "\n",
       "  seq: 3641 GATTGCGGAGGGCGCTAAGCGATATCGCCCAAGGTTATTGATATTGCCTACGGCTGGAAA 3700\n",
       "            ||||||||||||||||||||||||||||||||||||||||||||||||||||||||||||\n",
       "  ref: 3645 GATTGCGGAGGGCGCTAAGCGATATCGCCCAAGGTTATTGATATTGCCTACGGCTGGAAA 3704\n",
       "\n",
       "  seq: 3701 GATAAGGATCTTCTCC-AAGACGGTGAATAGAACTTCATACCACTTGATTGACTAGAAAT 3759\n",
       "            |||||||||||||||| |||||||||||||||||||||||||||||||||||||||||||\n",
       "  ref: 3705 GATAAGGATCTTCTCCCAAGACGGTGAATAGAACTTCATACCACTTGATTGACTAGAAAT 3764\n",
       "\n",
       "  seq: 3760 ATACAGTAAGTATAATCCATTCTACTTGCGGATCTGAGAGACCATGTTACCACACTTCTT 3819\n",
       "            ||||||||||||||||||||||||||||||||||||||||||||||||||||||||||||\n",
       "  ref: 3765 ATACAGTAAGTATAATCCATTCTACTTGCGGATCTGAGAGACCATGTTACCACACTTCTT 3824\n",
       "\n",
       "  seq: 3820 ATCAAGACATTTTTTCGACACCAAGAAGGGTCAGACAGTTGGAACCCTAGAGCCCCTGCT 3879\n",
       "            ||||||||||||||||||||||||||||||||||||||||||||||||||||||||||||\n",
       "  ref: 3825 ATCAAGACATTTTTTCGACACCAAGAAGGGTCAGACAGTTGGAACCCTAGAGCCCCTGCT 3884\n",
       "\n",
       "  seq: 3880 TTATCCGCCTCGTAACAATAACCTGAAAGCATTCCAACACCTGTAGATTGGGCCGTCGGC 3939\n",
       "            ||||||||||||||||||||||||||||||||||||||||||||||||||||||||||||\n",
       "  ref: 3885 TTATCCGCCTCGTAACAATAACCTGAAAGCATTCCAACACCTGTAGATTGGGCCGTCGGC 3944\n",
       "\n",
       "  seq: 3940 AGGATTTGGGCTCTCTCGGAAGGGATCAAATTGGTGCTGGTTGGACGAAACAGATATGGA 3999\n",
       "            ||||||||||||||||||||||||||||||||||||||||||||||||||||       |\n",
       "  ref: 3945 AGGATTTGGGCTCTCTCGGAAGGGATCAAATTGGTGCTGGTTGGACGAAACA-------A 3997\n",
       "\n",
       "  seq: 4000 CAAAAGTGCTGAGACGTTAACTGGAGTCGCGAAGGGTAATTCTAAGAGAATCACTCCCTG 4059\n",
       "            |      ||                  ||| ||    ||       ||  ||||  ||||\n",
       "  ref: 3998 C------GC------------------CGCAAA----AA-------AGTTTCAC--CCTG 4020\n",
       "\n",
       "  seq: 4060 CGGTAAGAAGTTGGTTTACCAGTGAAGAATATCCGTCA--CGACTGCGCTTACTGGGGTG 4117\n",
       "            |||||||||||||||||||||||||||||||||| | |  ||||||||||||||||||||\n",
       "  ref: 4021 CGGTAAGAAGTTGGTTTACCAGTGAAGAATATCC-T-AGGCGACTGCGCTTACTGGGGTG 4078\n",
       "\n",
       "  seq: 4118 GGACCTAATTATTGCCTCC-AAATAACTGAGGTGACTATGAACCGCTGACGAGCTAGGTC 4176\n",
       "            ||||||||||||||||||| ||||||||||||||||||||||||||||||||||||||||\n",
       "  ref: 4079 GGACCTAATTATTGCCTCCCAAATAACTGAGGTGACTATGAACCGCTGACGAGCTAGGTC 4138\n",
       "\n",
       "  seq: 4177 AGTACCATATTCAGTGTAGGTGCCGGCATCACTGGGTGGCGCTAAGTTGCATAACATCTA 4236\n",
       "            |||||||||||||||||||||||||||||||||||||||||||||||||||||||||| |\n",
       "  ref: 4139 AGTACCATATTCAGTGTAGGTGCCGGCATCACTGGGTGGCGCTAAGTTGCATAACATCCA 4198\n",
       "\n",
       "  seq: 4237 CCCTGTCGGCACCTTCAGTGAGTCTGGATATTGGCTTACATCAATGGATGTCTTGAGGGG 4296\n",
       "            |||| |||||||||||||||||||||||||||||||||||||||||||||||||||||||\n",
       "  ref: 4199 CCCTCTCGGCACCTTCAGTGAGTCTGGATATTGGCTTACATCAATGGATGTCTTGAGGGG 4258\n",
       "\n",
       "  seq: 4297 TCCGGTCCATGGGTAAGAAGGCACGCTTGTCGTAGCCTTCTGCTAATGTTTACCCTTGTG 4356\n",
       "            ||||||||||||||||||||||||||||||||||||||||||||||||||||||||||||\n",
       "  ref: 4259 TCCGGTCCATGGGTAAGAAGGCACGCTTGTCGTAGCCTTCTGCTAATGTTTACCCTTGTG 4318\n",
       "\n",
       "  seq: 4357 CCCGAGCTCCCTCGATGGGTTCACT-ATTATTTCGTATTCCGATCGCCCAGGGATGATCC 4415\n",
       "            ||||||||||||| ||||||||| | |  ||||| |||||||||||||||||||||||||\n",
       "  ref: 4319 CCCGAGCTCCCTCAATGGGTTCA-TGA--ATTTC-TATTCCGATCGCCCAGGGATGATCC 4374\n",
       "\n",
       "  seq: 4416 CGATGTTGGGCGGTTGCGCCTACTTATGGGAATGGACCTTTTTTGCTTGATTCGAGTGTA 4475\n",
       "            ||||||||||||||||||||||||||||||||||||||||||||||||||||| ||||||\n",
       "  ref: 4375 CGATGTTGGGCGGTTGCGCCTACTTATGGGAATGGACCTTTTTTGCTTGATTCCAGTGTA 4434\n",
       "\n",
       "  seq: 4476 GAGTCAAGCAAACGAATTTCGGGGTCATTCGGCCCAAAGTGGCCGAACCCTACCGCAGCC 4535\n",
       "            ||||||||||||||||||||||||||||||||||||||||||||||||||||||||||||\n",
       "  ref: 4435 GAGTCAAGCAAACGAATTTCGGGGTCATTCGGCCCAAAGTGGCCGAACCCTACCGCAGCC 4494\n",
       "\n",
       "  seq: 4536 GGCACCGACCGGCCCGCTCTAAGCATCTGCTGACCGTATTAACCCAAGATGTAGGGATAT 4595\n",
       "            ||||||||||||||||||||||||||||||||||||||||||||||||||||||||||||\n",
       "  ref: 4495 GGCACCGACCGGCCCGCTCTAAGCATCTGCTGACCGTATTAACCCAAGATGTAGGGATAT 4554\n",
       "\n",
       "  seq: 4596 ACGAGGCGCACGACGGGCACTCACTCGAGGTGAGCAGATACTTGGCATAATCTAATCGAT 4655\n",
       "            ||||||||||||||||||||||||||||||||||||||||||||||||||||||||||||\n",
       "  ref: 4555 ACGAGGCGCACGACGGGCACTCACTCGAGGTGAGCAGATACTTGGCATAATCTAATCGAT 4614\n",
       "\n",
       "  seq: 4656 TGATAGTGCATATTTGTAGACGATTAAATGCTATACGTTCTTGTCCCGGCCAATCAGTGC 4715\n",
       "            ||||||||||||||||||||||||||||||||||||||||||||||||||||||||||||\n",
       "  ref: 4615 TGATAGTGCATATTTGTAGACGATTAAATGCTATACGTTCTTGTCCCGGCCAATCAGTGC 4674\n",
       "\n",
       "  seq: 4716 TTAGACTCGACGATGGGAGTACGATAGTGACTACTGTGACACATCTCATTCAGGCGAACG 4775\n",
       "            ||||||||||||||||||||||||||||||||||||||||||||||||||||||||||||\n",
       "  ref: 4675 TTAGACTCGACGATGGGAGTACGATAGTGACTACTGTGACACATCTCATTCAGGCGAACG 4734\n",
       "\n",
       "  seq: 4776 ACTAAAACTATCTATAGACCGAATTGCCGTAAAGGCGCAGC--GAATAACGGACCCGGGG 4833\n",
       "            |||||||||||||||||||||||||||||||||||||||||  |||||||||||||||||\n",
       "  ref: 4735 ACTAAAACTATCTATAGACCGAATTGCCGTAAAGGCGCAGCCAGAATAACGGACCCGGGG 4794\n",
       "\n",
       "  seq: 4834 TGGGCAACCTGTTACTACAGTCACAGTAGCAGGAAATAACTCCTGCGATCTCATCTCCCG 4893\n",
       "            ||||||||||||||||||||||||||||||||||||||||||||||||||||||||||||\n",
       "  ref: 4795 TGGGCAACCTGTTACTACAGTCACAGTAGCAGGAAATAACTCCTGCGATCTCATCTCCCG 4854\n",
       "\n",
       "  seq: 4894 TTCCGAATCATACTTTCACACCATATCACACACCCTATACGATCAATTGGTAATAGAATT 4953\n",
       "            ||||||||||||||||||||||||||||||||||||||||||||||||||||||||||||\n",
       "  ref: 4855 TTCCGAATCATACTTTCACACCATATCACACACCCTATACGATCAATTGGTAATAGAATT 4914\n",
       "\n",
       "  seq: 4954 CGTGTAACATGAAGAATTACGTGTATATAATCAATTTTAGAACATTTAGACGATGACAGA 5013\n",
       "            ||||||||||||||||||||||||||||||||||||||||||||||||||||||||||||\n",
       "  ref: 4915 CGTGTAACATGAAGAATTACGTGTATATAATCAATTTTAGAACATTTAGACGATGACAGA 4974\n",
       "\n",
       "  seq: 5014 GAAAGCACCAGTAATTTGTAGAAAACTCACGATGGCTAGTGTGAAGGCATGGGGTGAAGA 5073\n",
       "            ||||||||||||||||||||||||||||||||||||||||||||||||||||||||||||\n",
       "  ref: 4975 GAAAGCACCAGTAATTTGTAGAAAACTCACGATGGCTAGTGTGAAGGCATGGGGTGAAGA 5034\n",
       "\n",
       "  seq: 5074 TGTTATCAAGGGCCTATAATGTTACTGCTAGGTGTTTTATCGGGTGGTTGTCAGACAGTA 5133\n",
       "            ||||||||||||||||||||||||||||||||||||||||||||||||||||||||||||\n",
       "  ref: 5035 TGTTATCAAGGGCCTATAATGTTACTGCTAGGTGTTTTATCGGGTGGTTGTCAGACAGTA 5094\n",
       "\n",
       "  seq: 5134 GGGAGTGGTGGAAAAAATGCTTTACTATCCTTTAT-CACGGAATTGTGATGCTTACGCTA 5192\n",
       "            |||||||||||||||  |||||||||||| ||||| ||||||||||||||||||||||||\n",
       "  ref: 5095 GGGAGTGGTGGAAAA--TGCTTTACTATC-TTTATTCACGGAATTGTGATGCTTACGCTA 5151\n",
       "\n",
       "  seq: 5193 TTGGAGAAACATATTAATCGCCATACGCCACGGTCATTGCTGTTGCAACGGTGTGGGTAT 5252\n",
       "            ||||||||||||||||||||||||||||||||||||||||||||||||||||||||||||\n",
       "  ref: 5152 TTGGAGAAACATATTAATCGCCATACGCCACGGTCATTGCTGTTGCAACGGTGTGGGTAT 5211\n",
       "\n",
       "  seq: 5253 AACTCAGTAACATAAGGCTCGCAGCACACAAAGTGCTCACAGACA-GAGCATTACATGCT 5311\n",
       "            ||||||||||||||||||||||||||||||||||||||||||||| |||||| |||||||\n",
       "  ref: 5212 AACTCAGTAACATAAGGCTCGCAGCACACAAAGTGCTCACAGACAAGAGCAT-ACATGCT 5270\n",
       "\n",
       "  seq: 5312 GGGTGTTATCTAGGCGTATCAAGGAGGGATAACGTGACGAGGTACCGTCCTATGTAATGG 5371\n",
       "            ||||||||||||||||||||||||||||||||||||||||||||||||||||||||||||\n",
       "  ref: 5271 GGGTGTTATCTAGGCGTATCAAGGAGGGATAACGTGACGAGGTACCGTCCTATGTAATGG 5330\n",
       "\n",
       "  seq: 5372 TAGATCACCTAGTATAAGCCGTATCAAACGTACAGACGCGCAGTCGACTGTTCGTGAACC 5431\n",
       "            ||||||||||||||||||||||||||||||||||||||||||||||||||||||||||||\n",
       "  ref: 5331 TAGATCACCTAGTATAAGCCGTATCAAACGTACAGACGCGCAGTCGACTGTTCGTGAACC 5390\n",
       "\n",
       "  seq: 5432 GAGACATCCTTCCTGATTAGCTACTGATGAAATCGTTGCCTTGACTAATAACCCTAGTTA 5491\n",
       "            ||||||||||||||||||||||||||||||||||||||||||||||||||||||||||||\n",
       "  ref: 5391 GAGACATCCTTCCTGATTAGCTACTGATGAAATCGTTGCCTTGACTAATAACCCTAGTTA 5450\n",
       "\n",
       "  seq: 5492 CTACGGGCCTCTTAAACCAAGTTAGATCGTACAGCGAAATATAGCGGAGCCGTCCCAAAA 5551\n",
       "            ||||||||||||||||||||||||||||||||||||||||||||||||||||||||||||\n",
       "  ref: 5451 CTACGGGCCTCTTAAACCAAGTTAGATCGTACAGCGAAATATAGCGGAGCCGTCCCAAAA 5510\n",
       "\n",
       "  seq: 5552 CTGCTATGAACTTCAAAGTCGAGATTTACGGCGCAAGTCTCTTAAGCCGCTAACACCTGT 5611\n",
       "            |||||||||||||| |||||||||||||||||||||||||||||||||||||||||||||\n",
       "  ref: 5511 CTGCTATGAACTTCGAAGTCGAGATTTACGGCGCAAGTCTCTTAAGCCGCTAACACCTGT 5570\n",
       "\n",
       "  seq: 5612 CCCGCGCGTGCATACGTCTCCGCACATAATGGCGTGTTACACTAGGTGTAAATCTTCTTA 5671\n",
       "            ||||||||||||||||||||||||||||||||||||||||||||||||||||||||||||\n",
       "  ref: 5571 CCCGCGCGTGCATACGTCTCCGCACATAATGGCGTGTTACACTAGGTGTAAATCTTCTTA 5630\n",
       "\n",
       "  seq: 5672 TCACCTGAACGTTAAGCGAAGAGTACGGGGATGGTAGGCCGTATGGAGATTGATTCCTGT 5731\n",
       "            ||||||||||||||||||||||||||||||||||||||||||||||||||||||||||||\n",
       "  ref: 5631 TCACCTGAACGTTAAGCGAAGAGTACGGGGATGGTAGGCCGTATGGAGATTGATTCCTGT 5690\n",
       "\n",
       "  seq: 5732 TCCCCTCTGCCCTGGCAGACGGGTTGTCGAACAGCTCATAGCGTAGTTACCATATTGGAA 5791\n",
       "            ||||||||||||||||||||||||||||||||||||||||||||||||||||||||||||\n",
       "  ref: 5691 TCCCCTCTGCCCTGGCAGACGGGTTGTCGAACAGCTCATAGCGTAGTTACCATATTGGAA 5750\n",
       "\n",
       "  seq: 5792 ACTTAAGCTATGTTCGGCACTTACTTCACATACTTAAAGCTACAGTTAAGTGCCCACGGC 5851\n",
       "            ||||||||||||||||||||||||||||||||||||||||||||||||||||||||||||\n",
       "  ref: 5751 ACTTAAGCTATGTTCGGCACTTACTTCACATACTTAAAGCTACAGTTAAGTGCCCACGGC 5810\n",
       "\n",
       "  seq: 5852 TTCTACCTAGGCGTTTCATATCTAGACAGCGCTTGGGTCCAGAGAACACATGAGTACGCC 5911\n",
       "            ||||||||||||||||||||||||||||||||||||||||||||||||||||||||||||\n",
       "  ref: 5811 TTCTACCTAGGCGTTTCATATCTAGACAGCGCTTGGGTCCAGAGAACACATGAGTACGCC 5870\n",
       "\n",
       "  seq: 5912 TCATAATGTCGTAGTCTACTTATTCTTACGGGATCATTCGTGATCTGCCGGTCACGGGGG 5971\n",
       "            ||||||||||||||||||||||||||||||||||||||||||||||||||||||||||||\n",
       "  ref: 5871 TCATAATGTCGTAGTCTACTTATTCTTACGGGATCATTCGTGATCTGCCGGTCACGGGGG 5930\n",
       "\n",
       "  seq: 5972 CAAAGGCCATTCTGTCTTACCAATGGATTTTCTGATGGCCCAGTTCACAGGAAGTCACAC 6031\n",
       "            ||||||||||||||||||||||||||||||||||||||||||||||||||||||||||||\n",
       "  ref: 5931 CAAAGGCCATTCTGTCTTACCAATGGATTTTCTGATGGCCCAGTTCACAGGAAGTCACAC 5990\n",
       "\n",
       "  seq: 6032 GTCCAGTAAATAGATGCAAGAGTAGCCAGTAAAATACTTTATGCACATTACGGCTCCACG 6091\n",
       "            ||||||||||||||||||||||||||||||||||||||||||||||||||||||||||||\n",
       "  ref: 5991 GTCCAGTAAATAGATGCAAGAGTAGCCAGTAAAATACTTTATGCACATTACGGCTCCACG 6050\n",
       "\n",
       "  seq: 6092 GGAAACCGTGGCGCTGTACGGTCGAGATCAAACT-AGCCTCTTCACTACACTGACATATT 6150\n",
       "            ||||||||||||||||||||||||||||  |||| ||||| |||||||||||||||||||\n",
       "  ref: 6051 GGAAACCGTGGCGCTGTACGGTCGAGATGGAACTTAGCCTGTTCACTACACTGACATATT 6110\n",
       "\n",
       "  seq: 6151 TCTAGCT-AGAATGGAGAGTATAAACGAAGTACCCGGACACGGTAATCTGGGGCAGGGAT 6209\n",
       "            ||||||| ||||||||||||||||||||||||||||||||||||||||||||||||||||\n",
       "  ref: 6111 TCTAGCTCAGAATGGAGAGTATAAACGAAGTACCCGGACACGGTAATCTGGGGCAGGGAT 6170\n",
       "\n",
       "  seq: 6210 GTTCGGCCAAACGGACCAGGGGTGAACTTATCACCAACGATAGCTTAAGTTTCGCTCAGT 6269\n",
       "            ||||||||||||||||||||||||||||||||||||||||||||||||||||||||||||\n",
       "  ref: 6171 GTTCGGCCAAACGGACCAGGGGTGAACTTATCACCAACGATAGCTTAAGTTTCGCTCAGT 6230\n",
       "\n",
       "  seq: 6270 AGGGCGTCATACCGTGATGTAAACGAATAAGGATTGTGGTTGGTCCGGTTGATTTGTTAT 6329\n",
       "            ||||||||||||||||||||||||||||||||||||||||||||||||||||||||||||\n",
       "  ref: 6231 AGGGCGTCATACCGTGATGTAAACGAATAAGGATTGTGGTTGGTCCGGTTGATTTGTTAT 6290\n",
       "\n",
       "  seq: 6330 CGAGAACTAAGCCCACTAGCACAATTTGGAAAGCCAAGTTCTAGACCCACCGTTGTCCCT 6389\n",
       "            ||||||||||||||||||||||||||||||||||||||||||||||||||||||||||||\n",
       "  ref: 6291 CGAGAACTAAGCCCACTAGCACAATTTGGAAAGCCAAGTTCTAGACCCACCGTTGTCCCT 6350\n",
       "\n",
       "  seq: 6390 CGTGGCCACACGCTGGGAATGAAATCCCGATAACGGTCGATCGGAAGGAAACTTAGCGAG 6449\n",
       "            ||||||||||||||||||||||||||||||||||||||||||||||||||||||||||||\n",
       "  ref: 6351 CGTGGCCACACGCTGGGAATGAAATCCCGATAACGGTCGATCGGAAGGAAACTTAGCGAG 6410\n",
       "\n",
       "  seq: 6450 GAATAATGTCAATTATGTTGGTAAAGGTAAACATCAGCAGATCCACACGCTTGCCAGAGT 6509\n",
       "            ||||||||||||||||||||||||||||||||||||||||||||||||||||||||||||\n",
       "  ref: 6411 GAATAATGTCAATTATGTTGGTAAAGGTAAACATCAGCAGATCCACACGCTTGCCAGAGT 6470\n",
       "\n",
       "  seq: 6510 ATGTAGTCATTGGCACGAACTCGCTTTCTGTATTAGTTCGCCACGGGCACAGCATCACTA 6569\n",
       "            ||||||||||||||||||||||||||||||||||||||||||||||||||||||||||||\n",
       "  ref: 6471 ATGTAGTCATTGGCACGAACTCGCTTTCTGTATTAGTTCGCCACGGGCACAGCATCACTA 6530\n",
       "\n",
       "  seq: 6570 CCTCGAGACGGCTGCGTACGGTGGCTTGATGAGTACAACTCAATAACGGACTCGTCATGC 6629\n",
       "            ||||||||||||||||||||||||||||||||||||||||||||||||||||||||||||\n",
       "  ref: 6531 CCTCGAGACGGCTGCGTACGGTGGCTTGATGAGTACAACTCAATAACGGACTCGTCATGC 6590\n",
       "\n",
       "  seq: 6630 TTTAGATGTGAAACTGCCGGCTGCCGGAGGAGCCCTCTTGTCGCCTGGAAGTCGTTGTAT 6689\n",
       "            ||||||||||||||||||||||||||||||||||||||||||||||||||||||||||||\n",
       "  ref: 6591 TTTAGATGTGAAACTGCCGGCTGCCGGAGGAGCCCTCTTGTCGCCTGGAAGTCGTTGTAT 6650\n",
       "\n",
       "  seq: 6690 TTAGGCGACCAGGTTTGGCCTTGAAGAACACATGGTTTCGAATTCCGCCTCTACTA-TAT 6748\n",
       "            ||||||||||||||||||||||||||||||||||||||| ||| ||||    |||| |||\n",
       "  ref: 6651 TTAGGCGACCAGGTTTGGCCTTGAAGAACACATGGTTTCAAATACCGC----ACTAATAT 6706\n",
       "\n",
       "  seq: 6749 GACACGAATCTCATATCTCCGTGACGTGCGTCGGTGTATGGACTGCCTCTGTCGGCTACT 6808\n",
       "            ||||| ||||| |||| |||| ||||||||||||||||||||||||||||||||||||||\n",
       "  ref: 6707 GACACCAATCT-ATAT-TCCGCGACGTGCGTCGGTGTATGGACTGCCTCTGTCGGCTACT 6764\n",
       "\n",
       "  seq: 6809 GGTCTACGGGCATGGTAAACTGAATGTGACCCCTACATACCCTCATCTTCACCTCCCTGG 6868\n",
       "            ||||||||||||||||||||||||||||||||||||||||||||||||||||||||||||\n",
       "  ref: 6765 GGTCTACGGGCATGGTAAACTGAATGTGACCCCTACATACCCTCATCTTCACCTCCCTGG 6824\n",
       "\n",
       "  seq: 6869 ATCGGCGGCTTGAGATCCGTCGGGGCCCTCCTTAAGAGGAGGCACGTCATACGCCTGACA 6928\n",
       "            ||||||||||||||||||||||||||||||||||||||||||||||||||||||||||||\n",
       "  ref: 6825 ATCGGCGGCTTGAGATCCGTCGGGGCCCTCCTTAAGAGGAGGCACGTCATACGCCTGACA 6884\n",
       "\n",
       "  seq: 6929 CTGCACCCCTGATAACATCCCCCATACACGCATTTTATCTAGTTCCACAATTCTTGCAGG 6988\n",
       "            ||||||||||||||||||||||||||||||||||||||||||||||||||||||||||||\n",
       "  ref: 6885 CTGCACCCCTGATAACATCCCCCATACACGCATTTTATCTAGTTCCACAATTCTTGCAGG 6944\n",
       "\n",
       "  seq: 6989 TGCCCTTAACTCCTGGGGCACAGCGTGAACTCCTTGTCCCTTGCCGAAGTGGTTCACCCC 7048\n",
       "            ||||||||||||||||||||||||||||||||||||||||||||||||||||||||||||\n",
       "  ref: 6945 TGCCCTTAACTCCTGGGGCACAGCGTGAACTCCTTGTCCCTTGCCGAAGTGGTTCACCCC 7004\n",
       "\n",
       "  seq: 7049 AGACTTCTGGTCTGGGTCAAGAAAATGGGCCTCTACGTATGGATGGCTCATACGCTAGTG 7108\n",
       "            ||||||||||||||||||||||||||||||||||||||||||||||||||||||||||||\n",
       "  ref: 7005 AGACTTCTGGTCTGGGTCAAGAAAATGGGCCTCTACGTATGGATGGCTCATACGCTAGTG 7064\n",
       "\n",
       "  seq: 7109 TATCTAAGTTGCGAAGCCAAATTAGTTGTGCCACCCCGACTACTCTCATCTCATTTTACA 7168\n",
       "            ||||||||||||||||||||||||||||||||||||||||||||||||||||||||||||\n",
       "  ref: 7065 TATCTAAGTTGCGAAGCCAAATTAGTTGTGCCACCCCGACTACTCTCATCTCATTTTACA 7124\n",
       "\n",
       "  seq: 7169 TGAGTTCGCGATAAGGATTCAGTGATTGCAGCAAAACAAGAGTAACACCTTGGGAAGGCA 7228\n",
       "            ||||||||||||||||||||||||||||||||||||||||||||||||||||||||||||\n",
       "  ref: 7125 TGAGTTCGCGATAAGGATTCAGTGATTGCAGCAAAACAAGAGTAACACCTTGGGAAGGCA 7184\n",
       "\n",
       "  seq: 7229 AGTCCATCTCGCACGTGCATGCT-AAGGTCGGACACCCCAACCTATCTTCTGGTCGGCGT 7287\n",
       "            ||||||||||||||||||||||| ||||||||||||||||||||||||||||||||| ||\n",
       "  ref: 7185 AGTCCATCTCGCACGTGCATGCTTAAGGTCGGACACCCCAACCTATCTTCTGGTCGG-GT 7243\n",
       "\n",
       "  seq: 7288 GTGACAGTTACAGTAAACATATATCCCAACTTCCAACGCTCAACGCACAAAGTAGCCTAT 7347\n",
       "            ||||||||||||||||||||||||||||||||||||||||||||||||||||||||||||\n",
       "  ref: 7244 GTGACAGTTACAGTAAACATATATCCCAACTTCCAACGCTCAACGCACAAAGTAGCCTAT 7303\n",
       "\n",
       "  seq: 7348 CACCTAGTGTGCCATCTTCAACTGGATTCGGGGCTGGTCCAAGTTCGTCCTGCAATCGCA 7407\n",
       "            ||||||||||||||||||||||||||||||||||||||||||||||||||||||||||||\n",
       "  ref: 7304 CACCTAGTGTGCCATCTTCAACTGGATTCGGGGCTGGTCCAAGTTCGTCCTGCAATCGCA 7363\n",
       "\n",
       "  seq: 7408 CATTTATATCCCACTGGCAGAGAAAATAGCAGTGCCGGCGGGGTACAAACGGCACACGAA 7467\n",
       "            ||||||||||||||||||||||||||||||||||||||||||||||||||||||||||||\n",
       "  ref: 7364 CATTTATATCCCACTGGCAGAGAAAATAGCAGTGCCGGCGGGGTACAAACGGCACACGAA 7423\n",
       "\n",
       "  seq: 7468 CAGGAGAGCTGTCTGAATTCCTTCTCGACTGGAGCGTTGGGTTGTATGTTGACACGATCA 7527\n",
       "            ||||||||||||||||||||||||||||||||||||||||||||||||||||||||||||\n",
       "  ref: 7424 CAGGAGAGCTGTCTGAATTCCTTCTCGACTGGAGCGTTGGGTTGTATGTTGACACGATCA 7483\n",
       "\n",
       "  seq: 7528 GGCTCGCTATACATCAATGTCCCAGACACTAACGAGAATGCAATATCCGTATTCGTATGC 7587\n",
       "            ||||||||||||||||||||||||||||||||||||||||||||||||||||||||||||\n",
       "  ref: 7484 GGCTCGCTATACATCAATGTCCCAGACACTAACGAGAATGCAATATCCGTATTCGTATGC 7543\n",
       "\n",
       "  seq: 7588 TGAAAGTTTCTCAATGGATTTGAGACGCAAAATAAATGAACGGACTGCTGGTGGAGCTGA 7647\n",
       "            ||||||||||||||||||||||||||||||||||||||||||||||||||||||||||||\n",
       "  ref: 7544 TGAAAGTTTCTCAATGGATTTGAGACGCAAAATAAATGAACGGACTGCTGGTGGAGCTGA 7603\n",
       "\n",
       "  seq: 7648 TCGGGCTAAGGTGGATGACCGAAACGAACGACGAAGACGTGACCCACCGACACCGCAGGC 7707\n",
       "            ||||||||||||||||||||||||||||||||||||||||||||||||||||||||||||\n",
       "  ref: 7604 TCGGGCTAAGGTGGATGACCGAAACGAACGACGAAGACGTGACCCACCGACACCGCAGGC 7663\n",
       "\n",
       "  seq: 7708 ACACGCTCTCAACCAACTGCGCGCAAGCGAGAGTATACACGCCAAGTGGATTGTTAGTAC 7767\n",
       "            ||||||||||||||||||||||||||||||||||||||||||||||||||||||||||||\n",
       "  ref: 7664 ACACGCTCTCAACCAACTGCGCGCAAGCGAGAGTATACACGCCAAGTGGATTGTTAGTAC 7723\n",
       "\n",
       "  seq: 7768 TCTGTTTCATGCAGGTCGGGTGATTCTCCTTCTATGCTCTGAGGTCCGAGTAGACGTTCC 7827\n",
       "            ||||||||||||||||||||||||||||||||||||||||||||||||||||||||||||\n",
       "  ref: 7724 TCTGTTTCATGCAGGTCGGGTGATTCTCCTTCTATGCTCTGAGGTCCGAGTAGACGTTCC 7783\n",
       "\n",
       "  seq: 7828 GCTACCACGCTCAGGTGGAAGTGATCTAGCCACCCCCTCTGGGCAAGCCCTTAAGTGGTG 7887\n",
       "            ||||||||||||||||||||||||||||||||||||||||||||||||||||||||||||\n",
       "  ref: 7784 GCTACCACGCTCAGGTGGAAGTGATCTAGCCACCCCCTCTGGGCAAGCCCTTAAGTGGTG 7843\n",
       "\n",
       "  seq: 7888 GACTAACCTAGCGTCAGTCCCGTAATAGTCCGGTTAGGGTTCCTTCACTTATCGGAACTA 7947\n",
       "            |||||||||||||||||||||||||||||||||||||||||||||||||||| |||||||\n",
       "  ref: 7844 GACTAACCTAGCGTCAGTCCCGTAATAGTCCGGTTAGGGTTCCTTCACTTATTGGAACTA 7903\n",
       "\n",
       "  seq: 7948 GATTTGGCCTCACCTACCGCGCAAGTTCATCGCCC-TACCGTCATTCGAATCACGGGGTG 8006\n",
       "            ||||||||||||||||||||||||||||||||||| ||||||||||||||||||||||||\n",
       "  ref: 7904 GATTTGGCCTCACCTACCGCGCAAGTTCATCGCCCCTACCGTCATTCGAATCACGGGGTG 7963\n",
       "\n",
       "  seq: 8007 TGGGGAAGATGTCGCGCCATTGCGTCCAGACAAGCAACGGAATCGGGCCGAAATCTCATG 8066\n",
       "            ||||||||||||||||||||||||||||||||||||||||||||||||||||||||||||\n",
       "  ref: 7964 TGGGGAAGATGTCGCGCCATTGCGTCCAGACAAGCAACGGAATCGGGCCGAAATCTCATG 8023\n",
       "\n",
       "  seq: 8067 GTGCTCCTGTGCCATCCCTCGTACTGGATCCTATTAGCTTCCAGTGTCTAGCCATCCGCA 8126\n",
       "            ||||||||||||||||||||||||||||||||||||||||||||||||||||||||||||\n",
       "  ref: 8024 GTGCTCCTGTGCCATCCCTCGTACTGGATCCTATTAGCTTCCAGTGTCTAGCCATCCGCA 8083\n",
       "\n",
       "  seq: 8127 ATATTTCTTACTAAGTGCCTGTACAGATCTCCTGTGCAGGCCGCCAGACTCACAAACCGT 8186\n",
       "            ||||||||||||||||||||||||||||||||||||||||||||||||||||||||||||\n",
       "  ref: 8084 ATATTTCTTACTAAGTGCCTGTACAGATCTCCTGTGCAGGCCGCCAGACTCACAAACCGT 8143\n",
       "\n",
       "  seq: 8187 AAACTTATTAGCCACGAGCCCTTTTAGAAATTCATTTTAGTTCCTTGACTCGATTGAGTA 8246\n",
       "            ||||||||||||||||||||||||||  ||||||||||||||||||||||||||||||||\n",
       "  ref: 8144 AAACTTATTAGCCACGAGCCCTTTTA--AATTCATTTTAGTTCCTTGACTCGATTGAGTA 8201\n",
       "\n",
       "  seq: 8247 TGCACACCGCACCTTATATTCACCTTTTTGGGAGAATCCGACAAGAGTCAGCC-GACGGG 8305\n",
       "            ||||||||||||||||||||||||||||||||||||||||||||||||||||| ||||||\n",
       "  ref: 8202 TGCACACCGCACCTTATATTCACCTTTTTGGGAGAATCCGACAAGAGTCAGCCCGACGGG 8261\n",
       "\n",
       "  seq: 8306 CACTAGTGTCCCAGCAACGGACTGAAAGGGCGCTCGCCAGGCCGATCCTTACCAGTCTAT 8365\n",
       "            ||||||||||||||||||||||||||||||||||||||||||||||||||||||||||||\n",
       "  ref: 8262 CACTAGTGTCCCAGCAACGGACTGAAAGGGCGCTCGCCAGGCCGATCCTTACCAGTCTAT 8321\n",
       "\n",
       "  seq: 8366 TAATTACACGTGTGAGGTCCCATAATGATCTGAATATCACCGAGCCGGGTGATTAAAGCG 8425\n",
       "            ||||||||||||||||||||||||||||||||||||||||||||||||||||||||||||\n",
       "  ref: 8322 TAATTACACGTGTGAGGTCCCATAATGATCTGAATATCACCGAGCCGGGTGATTAAAGCG 8381\n",
       "\n",
       "  seq: 8426 GAGCATGCCGGAGATTCCCACTTATGGTTTAGCATAGCAGTGAGTGTGTACTCAATCACG 8485\n",
       "            ||||||||||||||||||||||||||||||||||||||||||||||||||||||||||||\n",
       "  ref: 8382 GAGCATGCCGGAGATTCCCACTTATGGTTTAGCATAGCAGTGAGTGTGTACTCAATCACG 8441\n",
       "\n",
       "  seq: 8486 ACGCTAGACCCTCACTGGAGAGTTCGGGCACTCTGAGATTGCACGTCAAATACTACAACT 8545\n",
       "            ||||||||||||||||||||||||||||||||||||||||||||||||||||||||||||\n",
       "  ref: 8442 ACGCTAGACCCTCACTGGAGAGTTCGGGCACTCTGAGATTGCACGTCAAATACTACAACT 8501\n",
       "\n",
       "  seq: 8546 GTGCACTAAATTCGGTTTCAACATGTAAAGCACCCCCGTCAACGTCGTTCAACACCGTCT 8605\n",
       "            ||||||||||||||||||||||||||||||||||||||||||||||||||||||||||||\n",
       "  ref: 8502 GTGCACTAAATTCGGTTTCAACATGTAAAGCACCCCCGTCAACGTCGTTCAACACCGTCT 8561\n",
       "\n",
       "  seq: 8606 TCGGATCACTTCAAAGGTCTGAATACTAGAGCTACGTGGTAGGCATCCTACGGACGGCAA 8665\n",
       "            ||||||||||||||||||||||||||||||||||||||||||||||||||||||||||||\n",
       "  ref: 8562 TCGGATCACTTCAAAGGTCTGAATACTAGAGCTACGTGGTAGGCATCCTACGGACGGCAA 8621\n",
       "\n",
       "  seq: 8666 CCTTAGCTGCTAATCCAATCTTCAAGCCACACCCACACAGACGGTGGACCCGAGAGCCCG 8725\n",
       "            ||||||||||||||||||||||||||||||||||||||||||||||||||||||||||||\n",
       "  ref: 8622 CCTTAGCTGCTAATCCAATCTTCAAGCCACACCCACACAGACGGTGGACCCGAGAGCCCG 8681\n",
       "\n",
       "  seq: 8726 TATAATTCCCCCGGCACGGCATGCCTGCCCAGGCGGGCCCGGGGACGCGAGAGGACGGAC 8785\n",
       "            ||||||||||||||||||||||||||||||||||||||||||||||||||||||||||||\n",
       "  ref: 8682 TATAATTCCCCCGGCACGGCATGCCTGCCCAGGCGGGCCCGGGGACGCGAGAGGACGGAC 8741\n",
       "\n",
       "  seq: 8786 CCACGACGATCAAGGGAACAGAACCTGTCTCTATTTGAGGTTCAGGAAGGTTCCGATAGG 8845\n",
       "            ||||||||||||||||||||||||||||||||||||||||||||||||||||||||||||\n",
       "  ref: 8742 CCACGACGATCAAGGGAACAGAACCTGTCTCTATTTGAGGTTCAGGAAGGTTCCGATAGG 8801\n",
       "\n",
       "  seq: 8846 TTATCTGATCCCCATCTGAGCGACGCACGAAATACAGCTGGCCGTAGCGGGTTAACCCTG 8905\n",
       "            ||||||||||||||||||||||||||||||||||||||||||||||||||||||||||||\n",
       "  ref: 8802 TTATCTGATCCCCATCTGAGCGACGCACGAAATACAGCTGGCCGTAGCGGGTTAACCCTG 8861\n",
       "\n",
       "  seq: 8906 TGACCCTCTATGGGTAATTCACAGCTAGTCACTCATCGCGCCGCAGCTTCCGAGTTGATG 8965\n",
       "            ||||||||||||||||||||||||||||||||||||||||||||||||||||||||||||\n",
       "  ref: 8862 TGACCCTCTATGGGTAATTCACAGCTAGTCACTCATCGCGCCGCAGCTTCCGAGTTGATG 8921\n",
       "\n",
       "  seq: 8966 TCGCTGCACCAACTAACCCCCCGAGGGCGCGAGGTCTGCGAGTGCCGTGACATTCCGATG 9025\n",
       "            ||||||||||||||||||||||||||||||||||||||||||||||||||||||||||||\n",
       "  ref: 8922 TCGCTGCACCAACTAACCCCCCGAGGGCGCGAGGTCTGCGAGTGCCGTGACATTCCGATG 8981\n",
       "\n",
       "  seq: 9026 GGCTACGACGTAGGCATGATACCCTCTGGCCGAATGCCCTAGGTTCGGGCGCCTACGCTG 9085\n",
       "            ||||||||||||||||||||||||||||||||||||||||||||||||||||||||||||\n",
       "  ref: 8982 GGCTACGACGTAGGCATGATACCCTCTGGCCGAATGCCCTAGGTTCGGGCGCCTACGCTG 9041\n",
       "\n",
       "  seq: 9086 TTGATTGGATAAGCGAGCTTCACTTACTGGATCCCATTGCGGTAGTCATAGGATCGCTTT 9145\n",
       "            ||||||||||||||||||||||||||||||||||||||||||||||||||||||||||||\n",
       "  ref: 9042 TTGATTGGATAAGCGAGCTTCACTTACTGGATCCCATTGCGGTAGTCATAGGATCGCTTT 9101\n",
       "\n",
       "  seq: 9146 TCGCTTCTCATCGGCGTGGCTTATCCTCTTGCCATAATCACAGTGTTTGCGCCACGACCC 9205\n",
       "            ||||||||||||||||||||||||||||||||||||||||||||||||||||||||||||\n",
       "  ref: 9102 TCGCTTCTCATCGGCGTGGCTTATCCTCTTGCCATAATCACAGTGTTTGCGCCACGACCC 9161\n",
       "\n",
       "  seq: 9206 AAGTTACTTGGCTAAACTCCCTCCTTTTGGGTCCAACACTGCGCCGCCAGTTACCGTGAA 9265\n",
       "            ||||||||||||||||||||||||||||||||||||||||||||||||||||||||||||\n",
       "  ref: 9162 AAGTTACTTGGCTAAACTCCCTCCTTTTGGGTCCAACACTGCGCCGCCAGTTACCGTGAA 9221\n",
       "\n",
       "  seq: 9266 CGCAGATACGAGTTTTGGCATCAAACAAGTTTCCTACCTCCAGATAAAATATTCCGAGTG 9325\n",
       "            ||||||||||||||||||||||||||||||||||||||||||||||||||||||||||||\n",
       "  ref: 9222 CGCAGATACGAGTTTTGGCATCAAACAAGTTTCCTACCTCCAGATAAAATATTCCGAGTG 9281\n",
       "\n",
       "  seq: 9326 CTCGTTTGATTAGCTTCTTGGCGGATGTGCCTTTAAACTTAGAGGTTGAGAGCGTGCACC 9385\n",
       "            ||||||||||||||||||||||||||||||||||||||||||||||||||||||||||||\n",
       "  ref: 9282 CTCGTTTGATTAGCTTCTTGGCGGATGTGCCTTTAAACTTAGAGGTTGAGAGCGTGCACC 9341\n",
       "\n",
       "  seq: 9386 CGAAGCCTTTCAAAGGGCAGTATATTCGGCGTCCATGTTTTAGGAAGCCTGGAACCTGAG 9445\n",
       "            ||||||||||||||||||||||||||||||||||||||||||||||||||||||||||||\n",
       "  ref: 9342 CGAAGCCTTTCAAAGGGCAGTATATTCGGCGTCCATGTTTTAGGAAGCCTGGAACCTGAG 9401\n",
       "\n",
       "  seq: 9446 GTCTGCCCAGTTGGGGCGCATTGAAGCACGACCGAACATCTCTGCCACGTCTTCTCGATC 9505\n",
       "            ||||||||||||||| ||||||||||||||||||||||||||||||||||||||  ||||\n",
       "  ref: 9402 GTCTGCCCAGTTGGGCCGCATTGAAGCACGACCGAACATCTCTGCCACGTCTTC--GATC 9459\n",
       "\n",
       "  seq: 9506 GCCCTCAATTTCGAATTCTACTCAGCGCAGCGTCGTAAATATTTAAGAAACCCGAGTACT 9565\n",
       "            ||||||||||||||||||||||||||||||||||||||||||||||||||||||||||||\n",
       "  ref: 9460 GCCCTCAATTTCGAATTCTACTCAGCGCAGCGTCGTAAATATTTAAGAAACCCGAGTACT 9519\n",
       "\n",
       "  seq: 9566 AGGTCATAAGGGAAGTATCAAGGCTGCGTAATAACGATTTCCGCTAAGAGCTCCCGCGCC 9625\n",
       "            ||||||||||||||||||||||||||||||||||||||||||||||||||||||||||||\n",
       "  ref: 9520 AGGTCATAAGGGAAGTATCAAGGCTGCGTAATAACGATTTCCGCTAAGAGCTCCCGCGCC 9579\n",
       "\n",
       "  seq: 9626 GTTTTTTATCGTTCAATTTTAACGCTATACTTATAGAGCACACTGCGCTCATCCCCAGAG 9685\n",
       "            ||||||||||||||||||||||||||||||||||||||||||||||||||||||||||||\n",
       "  ref: 9580 GTTTTTTATCGTTCAATTTTAACGCTATACTTATAGAGCACACTGCGCTCATCCCCAGAG 9639\n",
       "\n",
       "  seq: 9686 AGCTGTCGGTTGAAACGGCGACCGATCGAGCAAGACTCGTAGGCGAACTAGCTCT 9740\n",
       "            |||||||||||||||||||||||||||||||||||||||||||||||||||||  \n",
       "  ref: 9640 AGCTGTCGGTTGAAACGGCGACCGATCGAGCAAGACTCGTAGGCGAACTAGCT-- 9692\n"
      ]
     },
     "execution_count": 20,
     "metadata": {},
     "output_type": "execute_result"
    }
   ],
   "source": [
    "import BioAlignments\n",
    "scoremodel = BioAlignments.AffineGapScoreModel(BioAlignments.EDNAFULL, gap_open=-5, gap_extend=-1)\n",
    "forward_alignment = BioAlignments.pairalign(BioAlignments.OverlapAlignment(), connected_component_sequences[1], connected_component_sequences[2], scoremodel)\n",
    "reverse_complement_alignment = BioAlignments.pairalign(BioAlignments.OverlapAlignment(), connected_component_sequences[1], BioSequences.reverse_complement(connected_component_sequences[2]), scoremodel)\n",
    "if BioAlignments.score(forward_alignment) > BioAlignments.score(reverse_complement_alignment)\n",
    "    best_alignment = forward_alignment\n",
    "else\n",
    "    best_alignment = reverse_complement_alignment\n",
    "end\n",
    "best_alignment"
   ]
  },
  {
   "cell_type": "code",
   "execution_count": 21,
   "id": "47d93ccb-dcff-47c8-873f-b5ca2bd64ff4",
   "metadata": {
    "tags": []
   },
   "outputs": [
    {
     "data": {
      "text/plain": [
       "2-element Vector{BioSequences.LongSequence{BioSequences.DNAAlphabet{2}}}:\n",
       " CGGATGTCACAAACTCGCTAAATTACACATACTAAGCAC…GGCGACCGATCGAGCAAGACTCGTAGGCGAACTAGCTCT\n",
       " AACTCGGATGTCACAAACTCGCTAAATTACACATACTAA…ACGGCGACCGATCGAGCAAGACTCGTAGGCGAACTAGCT"
      ]
     },
     "execution_count": 21,
     "metadata": {},
     "output_type": "execute_result"
    }
   ],
   "source": [
    "candidate_assemblies = [connected_component_sequences[1], BioSequences.reverse_complement(connected_component_sequences[2])]"
   ]
  },
  {
   "cell_type": "code",
   "execution_count": 23,
   "id": "69593140-9d22-4e2a-b988-c34064609b85",
   "metadata": {
    "tags": []
   },
   "outputs": [],
   "source": [
    "# candidate_1_canonical_kmer_counts = Mycelia.count_canonical_kmers(Kmers.DNAKmer{original_k}, first(candidate_assemblies))\n",
    "# candidate_2_canonical_kmer_counts = Mycelia.count_canonical_kmers(Kmers.DNAKmer{original_k}, last(candidate_assemblies))\n",
    "# raw_data_canonical_kmer_counts = Mycelia.count_canonical_kmers(Kmers.DNAKmer{original_k}, original_fastq)"
   ]
  },
  {
   "cell_type": "code",
   "execution_count": null,
   "id": "ab299099-9c9d-431c-9006-e2fe22bcba5a",
   "metadata": {},
   "outputs": [],
   "source": [
    "# candidate_1_canonical_kmer_counts\n"
   ]
  },
  {
   "cell_type": "code",
   "execution_count": null,
   "id": "735a3673-e494-4429-aea4-7a4c35691e43",
   "metadata": {},
   "outputs": [],
   "source": [
    "# raw_data_canonical_kmer_counts"
   ]
  },
  {
   "cell_type": "code",
   "execution_count": null,
   "id": "6917ac4f-93af-490f-932a-8f37324c7c4f",
   "metadata": {
    "tags": []
   },
   "outputs": [],
   "source": [
    "# sorted_shared_keys = sort(collect(union(keys(candidate_1_canonical_kmer_counts), keys(raw_data_canonical_kmer_counts))))"
   ]
  },
  {
   "cell_type": "code",
   "execution_count": 47,
   "id": "d33cd114-ab25-4670-adfd-297b84a20fd2",
   "metadata": {
    "tags": []
   },
   "outputs": [
    {
     "data": {
      "text/plain": [
       "kmer_counts_to_merqury_qv (generic function with 1 method)"
      ]
     },
     "execution_count": 47,
     "metadata": {},
     "output_type": "execute_result"
    }
   ],
   "source": [
    "function assess_assembly_quality(;assembled_sequence::BioSequences.LongDNA{2}, fastq::String, ks::Vector{Int}=filter(x -> 11 <= x <= 53, Mycelia.ks()))\n",
    "    results = DataFrames.DataFrame()\n",
    "    ProgressMeter.@showprogress for k in ks\n",
    "        observed_canonical_kmer_counts = Mycelia.count_canonical_kmers(Kmers.DNAKmer{k}, fastq)\n",
    "        assembled_canonical_kmer_counts = Mycelia.count_canonical_kmers(Kmers.DNAKmer{k}, assembled_sequence)\n",
    "        cosine_distance = kmer_counts_to_cosine_similarity(observed_canonical_kmer_counts, assembled_canonical_kmer_counts)\n",
    "        js_divergence = kmer_counts_to_js_divergence(observed_canonical_kmer_counts, assembled_canonical_kmer_counts)\n",
    "        qv = kmer_counts_to_merqury_qv(raw_data_counts=observed_canonical_kmer_counts, assembly_counts=assembled_canonical_kmer_counts)\n",
    "        push!(results, (;k, cosine_distance, js_divergence, qv))\n",
    "    end\n",
    "    return results\n",
    "end\n",
    "\n",
    "# function assess_assembly_quality(;assembled_sequence::BioSequences.LongDNA{2}, fastq::String, k::Int)\n",
    "#     assess_assembly_quality(assembled_sequence=assembled_sequence, fastq=fastq, ks=[k])\n",
    "# end\n",
    "\n",
    "function kmer_counts_to_cosine_similarity(kmer_counts_1, kmer_counts_2)\n",
    "    sorted_shared_keys = sort(collect(union(keys(kmer_counts_1), keys(kmer_counts_2))))\n",
    "    a = [get(kmer_counts_1, kmer, 0) for kmer in sorted_shared_keys]\n",
    "    b = [get(kmer_counts_1, kmer, 0) for kmer in sorted_shared_keys]\n",
    "    # Distances.cosine_dist(a, b) == Distances.cosine_dist(b, a) == Distances.cosine_dist(a ./ sum(a), b ./ sum(b)) == Distances.cosine_dist(b ./ sum(b), a ./ sum(a))\n",
    "    return Distances.cosine_dist(a, b)\n",
    "end\n",
    "\n",
    "function kmer_counts_to_js_divergence(kmer_counts_1, kmer_counts_2)\n",
    "    sorted_shared_keys = sort(collect(union(keys(kmer_counts_1), keys(kmer_counts_2))))\n",
    "    a = [get(kmer_counts_1, kmer, 0) for kmer in sorted_shared_keys]\n",
    "    b = [get(kmer_counts_1, kmer, 0) for kmer in sorted_shared_keys]\n",
    "    a_norm = a ./ sum(a)\n",
    "    b_norm = b ./ sum(b)\n",
    "    # Distances.js_divergence(a ./ sum(a), b ./ sum(b)) == Distances.js_divergence(b ./ sum(b), a ./ sum(a))\n",
    "    # Distances.js_divergence(a, b) != Distances.js_divergence(a ./ sum(a), b ./ sum(b))\n",
    "    return Distances.js_divergence(a_norm, b_norm)\n",
    "end\n",
    "\n",
    "# function jaccard(set1, set2)\n",
    "#     union_size = length(union(set1, set2))\n",
    "#     if union_size == 0\n",
    "#         return 0.0\n",
    "#     else\n",
    "#         return 1.0 - (length(intersect(set1, set2)) / union_size)\n",
    "#     end\n",
    "# end\n",
    "\n",
    "# function kmer_counts_to_jaccard(kmer_counts_1::AbstractDict{Kmers.DNAKmer{k}, Int64}, kmer_counts_2::AbstractDict{Kmers.DNAKmer{k}, Int64}) where k\n",
    "#     # sorted_shared_keys = sort(collect(union(keys(kmer_counts_1), keys(kmer_counts_2))))\n",
    "#     # a = [get(kmer_counts_1, kmer, 0) for kmer in sorted_shared_keys]\n",
    "#     # b = [get(kmer_counts_1, kmer, 0) for kmer in sorted_shared_keys]\n",
    "#     # a_indices = findall(a .> 0)\n",
    "#     # b_indices = findall(b .> 0)\n",
    "#     # return Distances.jaccard(a_indices, b_indices)\n",
    "#     return jaccard(collect(keys(kmer_counts_1)), collect(keys(kmer_counts_2)))\n",
    "# end\n",
    "\n",
    "function kmer_counts_to_merqury_qv(;raw_data_counts::AbstractDict{Kmers.DNAKmer{k,N}, Int}, assembly_counts::AbstractDict{Kmers.DNAKmer{k,N}, Int}) where {k,N}\n",
    "    # Ktotal = # of kmers found in assembly\n",
    "    Ktotal = length(keys(assembly_counts))\n",
    "    # Kshared = # of shared kmers between assembly and readset\n",
    "    Kshared = length(intersect(keys(raw_data_counts), keys(assembly_counts)))\n",
    "    # probabilitiy_base_in_assembly_correct\n",
    "    P = (Kshared/Ktotal)^(1/k)\n",
    "    # # Error rate\n",
    "    E = 1-P\n",
    "    QV = -10log10(E)\n",
    "    # return (;P, E, QV)\n",
    "    return QV\n",
    "end"
   ]
  },
  {
   "cell_type": "code",
   "execution_count": 48,
   "id": "f5b6b405-f057-47fd-96d8-639177df136b",
   "metadata": {
    "tags": []
   },
   "outputs": [
    {
     "name": "stderr",
     "output_type": "stream",
     "text": [
      "\u001b[32mProgress: 100%|█████████████████████████████████████████| Time: 0:00:02\u001b[39m\n"
     ]
    },
    {
     "data": {
      "text/html": [
       "<div><div style = \"float: left;\"><span>7×4 DataFrame</span></div><div style = \"clear: both;\"></div></div><div class = \"data-frame\" style = \"overflow-x: scroll;\"><table class = \"data-frame\" style = \"margin-bottom: 6px;\"><thead><tr class = \"header\"><th class = \"rowNumber\" style = \"font-weight: bold; text-align: right;\">Row</th><th style = \"text-align: left;\">k</th><th style = \"text-align: left;\">cosine_distance</th><th style = \"text-align: left;\">js_divergence</th><th style = \"text-align: left;\">qv</th></tr><tr class = \"subheader headerLastRow\"><th class = \"rowNumber\" style = \"font-weight: bold; text-align: right;\"></th><th title = \"Int64\" style = \"text-align: left;\">Int64</th><th title = \"Float64\" style = \"text-align: left;\">Float64</th><th title = \"Float64\" style = \"text-align: left;\">Float64</th><th title = \"Float64\" style = \"text-align: left;\">Float64</th></tr></thead><tbody><tr><td class = \"rowNumber\" style = \"font-weight: bold; text-align: right;\">1</td><td style = \"text-align: right;\">11</td><td style = \"text-align: right;\">0.0</td><td style = \"text-align: right;\">0.0</td><td style = \"text-align: right;\">Inf</td></tr><tr><td class = \"rowNumber\" style = \"font-weight: bold; text-align: right;\">2</td><td style = \"text-align: right;\">13</td><td style = \"text-align: right;\">1.11022e-16</td><td style = \"text-align: right;\">0.0</td><td style = \"text-align: right;\">43.2347</td></tr><tr><td class = \"rowNumber\" style = \"font-weight: bold; text-align: right;\">3</td><td style = \"text-align: right;\">17</td><td style = \"text-align: right;\">0.0</td><td style = \"text-align: right;\">0.0</td><td style = \"text-align: right;\">37.4054</td></tr><tr><td class = \"rowNumber\" style = \"font-weight: bold; text-align: right;\">4</td><td style = \"text-align: right;\">19</td><td style = \"text-align: right;\">0.0</td><td style = \"text-align: right;\">0.0</td><td style = \"text-align: right;\">35.5786</td></tr><tr><td class = \"rowNumber\" style = \"font-weight: bold; text-align: right;\">5</td><td style = \"text-align: right;\">23</td><td style = \"text-align: right;\">0.0</td><td style = \"text-align: right;\">0.0</td><td style = \"text-align: right;\">32.2259</td></tr><tr><td class = \"rowNumber\" style = \"font-weight: bold; text-align: right;\">6</td><td style = \"text-align: right;\">31</td><td style = \"text-align: right;\">1.11022e-16</td><td style = \"text-align: right;\">0.0</td><td style = \"text-align: right;\">28.2846</td></tr><tr><td class = \"rowNumber\" style = \"font-weight: bold; text-align: right;\">7</td><td style = \"text-align: right;\">53</td><td style = \"text-align: right;\">0.0</td><td style = \"text-align: right;\">0.0</td><td style = \"text-align: right;\">23.2896</td></tr></tbody></table></div>"
      ],
      "text/latex": [
       "\\begin{tabular}{r|cccc}\n",
       "\t& k & cosine\\_distance & js\\_divergence & qv\\\\\n",
       "\t\\hline\n",
       "\t& Int64 & Float64 & Float64 & Float64\\\\\n",
       "\t\\hline\n",
       "\t1 & 11 & 0.0 & 0.0 & Inf \\\\\n",
       "\t2 & 13 & 1.11022e-16 & 0.0 & 43.2347 \\\\\n",
       "\t3 & 17 & 0.0 & 0.0 & 37.4054 \\\\\n",
       "\t4 & 19 & 0.0 & 0.0 & 35.5786 \\\\\n",
       "\t5 & 23 & 0.0 & 0.0 & 32.2259 \\\\\n",
       "\t6 & 31 & 1.11022e-16 & 0.0 & 28.2846 \\\\\n",
       "\t7 & 53 & 0.0 & 0.0 & 23.2896 \\\\\n",
       "\\end{tabular}\n"
      ],
      "text/plain": [
       "\u001b[1m7×4 DataFrame\u001b[0m\n",
       "\u001b[1m Row \u001b[0m│\u001b[1m k     \u001b[0m\u001b[1m cosine_distance \u001b[0m\u001b[1m js_divergence \u001b[0m\u001b[1m qv       \u001b[0m\n",
       "     │\u001b[90m Int64 \u001b[0m\u001b[90m Float64         \u001b[0m\u001b[90m Float64       \u001b[0m\u001b[90m Float64  \u001b[0m\n",
       "─────┼─────────────────────────────────────────────────\n",
       "   1 │    11      0.0                    0.0  Inf\n",
       "   2 │    13      1.11022e-16            0.0   43.2347\n",
       "   3 │    17      0.0                    0.0   37.4054\n",
       "   4 │    19      0.0                    0.0   35.5786\n",
       "   5 │    23      0.0                    0.0   32.2259\n",
       "   6 │    31      1.11022e-16            0.0   28.2846\n",
       "   7 │    53      0.0                    0.0   23.2896"
      ]
     },
     "execution_count": 48,
     "metadata": {},
     "output_type": "execute_result"
    }
   ],
   "source": [
    "assess_assembly_quality(assembled_sequence=connected_component_sequences[1], fastq=original_fastq)"
   ]
  },
  {
   "cell_type": "code",
   "execution_count": 49,
   "id": "3d56bb61-6bf4-4cb4-8392-de0ce587a085",
   "metadata": {
    "tags": []
   },
   "outputs": [
    {
     "name": "stderr",
     "output_type": "stream",
     "text": [
      "\u001b[32mProgress: 100%|█████████████████████████████████████████| Time: 0:00:00\u001b[39m\n"
     ]
    },
    {
     "data": {
      "text/html": [
       "<div><div style = \"float: left;\"><span>7×4 DataFrame</span></div><div style = \"clear: both;\"></div></div><div class = \"data-frame\" style = \"overflow-x: scroll;\"><table class = \"data-frame\" style = \"margin-bottom: 6px;\"><thead><tr class = \"header\"><th class = \"rowNumber\" style = \"font-weight: bold; text-align: right;\">Row</th><th style = \"text-align: left;\">k</th><th style = \"text-align: left;\">cosine_distance</th><th style = \"text-align: left;\">js_divergence</th><th style = \"text-align: left;\">qv</th></tr><tr class = \"subheader headerLastRow\"><th class = \"rowNumber\" style = \"font-weight: bold; text-align: right;\"></th><th title = \"Int64\" style = \"text-align: left;\">Int64</th><th title = \"Float64\" style = \"text-align: left;\">Float64</th><th title = \"Float64\" style = \"text-align: left;\">Float64</th><th title = \"Float64\" style = \"text-align: left;\">Float64</th></tr></thead><tbody><tr><td class = \"rowNumber\" style = \"font-weight: bold; text-align: right;\">1</td><td style = \"text-align: right;\">11</td><td style = \"text-align: right;\">0.0</td><td style = \"text-align: right;\">0.0</td><td style = \"text-align: right;\">Inf</td></tr><tr><td class = \"rowNumber\" style = \"font-weight: bold; text-align: right;\">2</td><td style = \"text-align: right;\">13</td><td style = \"text-align: right;\">1.11022e-16</td><td style = \"text-align: right;\">0.0</td><td style = \"text-align: right;\">50.9966</td></tr><tr><td class = \"rowNumber\" style = \"font-weight: bold; text-align: right;\">3</td><td style = \"text-align: right;\">17</td><td style = \"text-align: right;\">0.0</td><td style = \"text-align: right;\">0.0</td><td style = \"text-align: right;\">40.3974</td></tr><tr><td class = \"rowNumber\" style = \"font-weight: bold; text-align: right;\">4</td><td style = \"text-align: right;\">19</td><td style = \"text-align: right;\">0.0</td><td style = \"text-align: right;\">0.0</td><td style = \"text-align: right;\">38.3242</td></tr><tr><td class = \"rowNumber\" style = \"font-weight: bold; text-align: right;\">5</td><td style = \"text-align: right;\">23</td><td style = \"text-align: right;\">0.0</td><td style = \"text-align: right;\">0.0</td><td style = \"text-align: right;\">34.0077</td></tr><tr><td class = \"rowNumber\" style = \"font-weight: bold; text-align: right;\">6</td><td style = \"text-align: right;\">31</td><td style = \"text-align: right;\">1.11022e-16</td><td style = \"text-align: right;\">0.0</td><td style = \"text-align: right;\">28.8476</td></tr><tr><td class = \"rowNumber\" style = \"font-weight: bold; text-align: right;\">7</td><td style = \"text-align: right;\">53</td><td style = \"text-align: right;\">0.0</td><td style = \"text-align: right;\">0.0</td><td style = \"text-align: right;\">23.4312</td></tr></tbody></table></div>"
      ],
      "text/latex": [
       "\\begin{tabular}{r|cccc}\n",
       "\t& k & cosine\\_distance & js\\_divergence & qv\\\\\n",
       "\t\\hline\n",
       "\t& Int64 & Float64 & Float64 & Float64\\\\\n",
       "\t\\hline\n",
       "\t1 & 11 & 0.0 & 0.0 & Inf \\\\\n",
       "\t2 & 13 & 1.11022e-16 & 0.0 & 50.9966 \\\\\n",
       "\t3 & 17 & 0.0 & 0.0 & 40.3974 \\\\\n",
       "\t4 & 19 & 0.0 & 0.0 & 38.3242 \\\\\n",
       "\t5 & 23 & 0.0 & 0.0 & 34.0077 \\\\\n",
       "\t6 & 31 & 1.11022e-16 & 0.0 & 28.8476 \\\\\n",
       "\t7 & 53 & 0.0 & 0.0 & 23.4312 \\\\\n",
       "\\end{tabular}\n"
      ],
      "text/plain": [
       "\u001b[1m7×4 DataFrame\u001b[0m\n",
       "\u001b[1m Row \u001b[0m│\u001b[1m k     \u001b[0m\u001b[1m cosine_distance \u001b[0m\u001b[1m js_divergence \u001b[0m\u001b[1m qv       \u001b[0m\n",
       "     │\u001b[90m Int64 \u001b[0m\u001b[90m Float64         \u001b[0m\u001b[90m Float64       \u001b[0m\u001b[90m Float64  \u001b[0m\n",
       "─────┼─────────────────────────────────────────────────\n",
       "   1 │    11      0.0                    0.0  Inf\n",
       "   2 │    13      1.11022e-16            0.0   50.9966\n",
       "   3 │    17      0.0                    0.0   40.3974\n",
       "   4 │    19      0.0                    0.0   38.3242\n",
       "   5 │    23      0.0                    0.0   34.0077\n",
       "   6 │    31      1.11022e-16            0.0   28.8476\n",
       "   7 │    53      0.0                    0.0   23.4312"
      ]
     },
     "execution_count": 49,
     "metadata": {},
     "output_type": "execute_result"
    }
   ],
   "source": [
    "assess_assembly_quality(assembled_sequence=connected_component_sequences[2], fastq=original_fastq)"
   ]
  },
  {
   "cell_type": "code",
   "execution_count": null,
   "id": "34b727be-7159-403d-b083-2233ac2d4d3c",
   "metadata": {},
   "outputs": [],
   "source": [
    "# 1 calculate most likely of the two paths from the original data"
   ]
  },
  {
   "cell_type": "code",
   "execution_count": null,
   "id": "cbb66411-bdf0-49cf-8846-b49e7d4db5e0",
   "metadata": {},
   "outputs": [],
   "source": [
    "# 2 calculate most likely of the two paths from the final fastq"
   ]
  },
  {
   "cell_type": "code",
   "execution_count": null,
   "id": "ca2caf1c-b906-468a-9a44-1285a2620fad",
   "metadata": {},
   "outputs": [],
   "source": [
    "# 3 report out both alleles"
   ]
  },
  {
   "cell_type": "code",
   "execution_count": 52,
   "id": "a0d73794-076a-4d4f-95c8-7fb26f93ea96",
   "metadata": {
    "tags": []
   },
   "outputs": [
    {
     "data": {
      "text/plain": [
       "\"/global/cfs/cdirs/m4269/cjprybol/Mycelia/projects/variant-calling-benchmarking/data/genomes/3NEzu1DmBy.fna.normalized.vcf.fna.badread.10x.filtlong.k11.k13.k17.k19.k23.k31.k53.k89.assembly_k379.fna\""
      ]
     },
     "execution_count": 52,
     "metadata": {},
     "output_type": "execute_result"
    }
   ],
   "source": [
    "# take the second - it's higher QV\n",
    "final_assembly_sequences = [connected_component_sequences[2]]\n",
    "assembly_fasta = replace(assembly_fastq, Mycelia.FASTQ_REGEX => \".assembly_k$(assembly_k).fna\")\n",
    "open(assembly_fasta, \"w\") do io\n",
    "    fastx_io = FASTX.FASTA.Writer(io)\n",
    "    for (i, sequence) in enumerate(final_assembly_sequences)\n",
    "        identifier = \"contig$(i)_length=$(length(sequence))\"\n",
    "        fasta_record = FASTX.FASTA.Record(identifier, sequence)\n",
    "        write(fastx_io, fasta_record)\n",
    "    end\n",
    "    close(fastx_io)\n",
    "end\n",
    "assembly_fasta"
   ]
  },
  {
   "cell_type": "code",
   "execution_count": null,
   "id": "cd5aae8e-c276-43f3-9891-4c2163157b5c",
   "metadata": {
    "tags": []
   },
   "outputs": [],
   "source": [
    "# readlines(assembly_fasta)"
   ]
  }
 ],
 "metadata": {
  "kernelspec": {
   "display_name": "Julia 1.10.2",
   "language": "julia",
   "name": "julia-1.10"
  },
  "language_info": {
   "file_extension": ".jl",
   "mimetype": "application/julia",
   "name": "julia",
   "version": "1.10.2"
  }
 },
 "nbformat": 4,
 "nbformat_minor": 5
}
