{
 "cells": [
  {
   "cell_type": "code",
   "execution_count": null,
   "id": "89b5c9fd-a800-4d1c-a007-ea67dbd0d9ef",
   "metadata": {
    "tags": []
   },
   "outputs": [],
   "source": [
    "# # if hit plotting library issues, try resetting LD path for julia\n",
    "# # can set in ~/.local/share/jupyter/kernels/\n",
    "# @assert ENV[\"LD_LIBRARY_PATH\"] == \"\"\n",
    "# import Pkg\n",
    "# Pkg.activate(;temp=true)\n",
    "# Pkg.add(\"Revise\")\n",
    "# import Revise\n",
    "\n",
    "# # Pkg.develop(path=\"/global/cfs/projectdirs/m4269/cjprybol/Mycelia\")\n",
    "# # Pkg.develop(path=\"../../..\")\n",
    "# Pkg.develop(path=\"$(homedir())/workspace/Mycelia\")\n",
    "# import Mycelia\n",
    "\n",
    "# pkgs = String[\n",
    "#     \"DataFrames\"\n",
    "# ]\n",
    "# Pkg.add(pkgs)\n",
    "# for pkg in pkgs\n",
    "#     eval(Meta.parse(\"import $pkg\"))\n",
    "# end"
   ]
  },
  {
   "cell_type": "code",
   "execution_count": null,
   "id": "6e5a39ba-b505-4d40-b843-5334bae7975f",
   "metadata": {},
   "outputs": [],
   "source": [
    "# rclone copy --progress --verbose --drive-chunk-size 2G --drive-upload-cutoff 1T --tpslimit 1 locus_data_warehouse:Genomics/SequelIIe/r64342e_20240416_185917/1_A01/bc2056--bc2056/m64342e_240416_193427.hifi_reads.bc2056--bc2056.bam /global/homes/c/cjprybol/workspace/Mycelia/projects/metagenome/data\n",
    "\n",
    "\n",
    "# /global/homes/c/cjprybol/workspace/Mycelia/projects/metagenome/data"
   ]
  }
 ],
 "metadata": {
  "kernelspec": {
   "display_name": "Julia 1.10.2",
   "language": "julia",
   "name": "julia-1.10"
  },
  "language_info": {
   "file_extension": ".jl",
   "mimetype": "application/julia",
   "name": "julia",
   "version": "1.10.2"
  }
 },
 "nbformat": 4,
 "nbformat_minor": 5
}
