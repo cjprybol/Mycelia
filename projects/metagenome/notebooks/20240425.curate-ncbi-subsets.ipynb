{
 "cells": [
  {
   "cell_type": "code",
   "execution_count": null,
   "metadata": {
    "tags": []
   },
   "outputs": [],
   "source": [
    "# parameters"
   ]
  },
  {
   "cell_type": "code",
   "execution_count": null,
   "metadata": {
    "tags": []
   },
   "outputs": [],
   "source": [
    "import Pkg\n",
    "Pkg.activate(;temp=true)\n",
    "Pkg.add(\"Revise\")\n",
    "import Revise\n",
    "import Downloads\n",
    "\n",
    "Pkg.develop(path=\"$(homedir())/workspace/Mycelia\")\n",
    "import Mycelia\n",
    "\n",
    "pkgs = String[\n",
    "    \"DataFrames\",\n",
    "    \"StatsBase\",\n",
    "    \"ProgressMeter\",\n",
    "]\n",
    "Pkg.add(pkgs)\n",
    "for pkg in pkgs\n",
    "    eval(Meta.parse(\"import $pkg\"))\n",
    "end"
   ]
  },
  {
   "cell_type": "code",
   "execution_count": null,
   "metadata": {
    "tags": []
   },
   "outputs": [],
   "source": [
    "genbank_metadata = Mycelia.load_genbank_metadata();"
   ]
  },
  {
   "cell_type": "code",
   "execution_count": null,
   "metadata": {
    "tags": []
   },
   "outputs": [],
   "source": [
    "refseq_metadata = Mycelia.load_refseq_metadata();"
   ]
  },
  {
   "cell_type": "code",
   "execution_count": null,
   "metadata": {
    "tags": []
   },
   "outputs": [],
   "source": [
    "# seems plenty large enough?\n",
    "# nt_viruses - 60Gb\n",
    "# # IMG/VR - 25Gb\n",
    "# prokaryotes (bacteria + archaea) nt_prok.fna.gz - 69G\n",
    "# nt_other - 1.6Gb"
   ]
  },
  {
   "cell_type": "code",
   "execution_count": null,
   "metadata": {
    "tags": []
   },
   "outputs": [],
   "source": [
    "genbank_representative_non_excluded = \n",
    "genbank_metadata[\n",
    "    map(x -> x in [\"reference genome\", \"representative genome\"], genbank_metadata[!, \"refseq_category\"]) .&\n",
    "    (genbank_metadata[!, \"excluded_from_refseq\"] .== \"na\"), :\n",
    "];"
   ]
  },
  {
   "cell_type": "code",
   "execution_count": null,
   "metadata": {
    "tags": []
   },
   "outputs": [],
   "source": [
    "# protozoa - genbank representative non-excluded\n",
    "# 20G     protozoa/\n",
    "group = \"protozoa\"\n",
    "outdir = mkpath(joinpath(\"$(homedir())/workspace/blastdb/$(group)\"))\n",
    "ftps = genbank_representative_non_excluded[genbank_representative_non_excluded[!, \"group\"] .== group, \"ftp_path\"]\n",
    "# 12 minutes\n",
    "ProgressMeter.@showprogress for ftp in ftps\n",
    "    try\n",
    "        Mycelia.download_genome_by_ftp(ftp=ftp, outdir=outdir)\n",
    "    catch e\n",
    "        display(e)\n",
    "    end\n",
    "end\n",
    "fasta_list = filter(x -> occursin(Mycelia.FASTA_REGEX, x), readdir(outdir, join=true))\n",
    "outfasta = outdir * \".fna.gz\"\n",
    "if !isfile(outfasta)\n",
    "    Mycelia.concatenate_files(files=fasta_list, file=outfasta)\n",
    "end"
   ]
  },
  {
   "cell_type": "code",
   "execution_count": null,
   "metadata": {
    "tags": []
   },
   "outputs": [],
   "source": [
    "# fungi - genbank representative non-excluded\n",
    "# 57G     fungi/\n",
    "group = \"fungi\"\n",
    "outdir = mkpath(joinpath(\"$(homedir())/workspace/blastdb/$(group)\"))\n",
    "ftps = genbank_representative_non_excluded[genbank_representative_non_excluded[!, \"group\"] .== group, \"ftp_path\"]\n",
    "ProgressMeter.@showprogress for ftp in ftps\n",
    "    try\n",
    "        Mycelia.download_genome_by_ftp(ftp=ftp, outdir=outdir)\n",
    "    catch e\n",
    "        display(e)\n",
    "    end\n",
    "end\n",
    "fasta_list = filter(x -> occursin(Mycelia.FASTA_REGEX, x), readdir(outdir, join=true))\n",
    "outfasta = outdir * \".fna.gz\"\n",
    "if !isfile(outfasta)\n",
    "    Mycelia.concatenate_fasta_files(fasta_files=fasta_list, fasta_file=outfasta)\n",
    "end"
   ]
  },
  {
   "cell_type": "code",
   "execution_count": null,
   "metadata": {
    "tags": []
   },
   "outputs": [],
   "source": [
    "refseq_representative = refseq_metadata[map(x -> x in [\"reference genome\", \"representative genome\"], refseq_metadata[!, \"refseq_category\"]), :];"
   ]
  },
  {
   "cell_type": "code",
   "execution_count": null,
   "metadata": {
    "tags": []
   },
   "outputs": [],
   "source": [
    "# plant - refseq representative\n",
    "# 52G     plant/\n",
    "group = \"plant\"\n",
    "outdir = mkpath(joinpath(\"$(homedir())/workspace/blastdb/$(group)\"))\n",
    "ftps = refseq_representative[refseq_representative[!, \"group\"] .== group, \"ftp_path\"]\n",
    "ProgressMeter.@showprogress for ftp in ftps\n",
    "    try\n",
    "        Mycelia.download_genome_by_ftp(ftp=ftp, outdir=outdir)\n",
    "    catch e\n",
    "        display(e)\n",
    "    end\n",
    "end\n",
    "fasta_list = filter(x -> occursin(Mycelia.FASTA_REGEX, x), readdir(outdir, join=true))\n",
    "outfasta = outdir * \".fna.gz\"\n",
    "if !isfile(outfasta)\n",
    "    Mycelia.concatenate_fasta_files(fasta_files=fasta_list, fasta_file=outfasta)\n",
    "end"
   ]
  },
  {
   "cell_type": "code",
   "execution_count": null,
   "metadata": {
    "tags": []
   },
   "outputs": [],
   "source": [
    "# invertebrate - refseq representative\n",
    "# 75G     invertebrate/\n",
    "group = \"invertebrate\"\n",
    "outdir = mkpath(joinpath(\"$(homedir())/workspace/blastdb/$(group)\"))\n",
    "ftps = refseq_representative[refseq_representative[!, \"group\"] .== group, \"ftp_path\"]\n",
    "ProgressMeter.@showprogress for ftp in ftps\n",
    "    try\n",
    "        Mycelia.download_genome_by_ftp(ftp=ftp, outdir=outdir)\n",
    "    catch e\n",
    "        display(e)\n",
    "    end\n",
    "end\n",
    "fasta_list = filter(x -> occursin(Mycelia.FASTA_REGEX, x), readdir(outdir, join=true))\n",
    "outfasta = outdir * \".fna.gz\"\n",
    "if !isfile(outfasta)\n",
    "    Mycelia.concatenate_fasta_files(fasta_files=fasta_list, fasta_file=outfasta)\n",
    "    # special case just for bad invertebrate seqs with duplicate identifiers\n",
    "    Mycelia.add_bioconda_env(\"seqkit\")\n",
    "    deduped_fasta = replace(outfasta, Mycelia.FASTA_REGEX => \".deduped.fna.gz\")\n",
    "    run(`$(Mycelia.CONDA_RUNNER) run --live-stream -n seqkit seqkit rmdup -i -o $(deduped_fasta) $(outfasta)`)\n",
    "    mv(deduped_fasta, outfasta)\n",
    "end"
   ]
  },
  {
   "cell_type": "code",
   "execution_count": null,
   "metadata": {
    "tags": []
   },
   "outputs": [],
   "source": [
    "# 164Gb\n",
    "# vertebrate - other - refseq representative\n",
    "group = \"vertebrate_other\"\n",
    "outdir = mkpath(joinpath(\"$(homedir())/workspace/blastdb/$(group)\"))\n",
    "ftps = refseq_representative[refseq_representative[!, \"group\"] .== group, \"ftp_path\"]\n",
    "ProgressMeter.@showprogress for ftp in ftps\n",
    "    try\n",
    "        Mycelia.download_genome_by_ftp(ftp=ftp, outdir=outdir)\n",
    "    catch e\n",
    "        display(e)\n",
    "    end\n",
    "end\n",
    "fasta_list = filter(x -> occursin(Mycelia.FASTA_REGEX, x), readdir(outdir, join=true))\n",
    "outfasta = outdir * \".fna.gz\"\n",
    "if !isfile(outfasta)\n",
    "    Mycelia.concatenate_fasta_files(fasta_files=fasta_list, fasta_file=outfasta)\n",
    "end"
   ]
  },
  {
   "cell_type": "code",
   "execution_count": null,
   "metadata": {
    "tags": []
   },
   "outputs": [],
   "source": [
    "# vertebrate - mammal - refseq representative\n",
    "# 168Gb\n",
    "group = \"vertebrate_mammalian\"\n",
    "outdir = mkpath(joinpath(\"$(homedir())/workspace/blastdb/$(group)\"))\n",
    "ftps = refseq_representative[refseq_representative[!, \"group\"] .== group, \"ftp_path\"]\n",
    "ProgressMeter.@showprogress for ftp in ftps\n",
    "    try\n",
    "        Mycelia.download_genome_by_ftp(ftp=ftp, outdir=outdir)\n",
    "    catch e\n",
    "        display(e)\n",
    "    end\n",
    "end\n",
    "fasta_list = filter(x -> occursin(Mycelia.FASTA_REGEX, x), readdir(outdir, join=true))\n",
    "outfasta = outdir * \".fna.gz\"\n",
    "if !isfile(outfasta)\n",
    "    Mycelia.concatenate_fasta_files(fasta_files=fasta_list, fasta_file=outfasta)\n",
    "end"
   ]
  },
  {
   "cell_type": "code",
   "execution_count": null,
   "metadata": {
    "tags": []
   },
   "outputs": [],
   "source": [
    "# # 3 days to download like this!\n",
    "# ProgressMeter.@showprogress for row in DataFrames.eachrow(subset)\n",
    "#     Mycelia.ncbi_genome_download_accession(\n",
    "#         accession=row[\"#assembly_accession\"],\n",
    "#         outdir=outdir\n",
    "#     )\n",
    "# end"
   ]
  }
 ],
 "metadata": {
  "@webio": {
   "lastCommId": "e1c5def0-417c-492c-9f95-7ebb02ff6f77",
   "lastKernelId": "2e8da3ed-de43-45b2-883e-263efa7d5229"
  },
  "kernelspec": {
   "display_name": "Julia 1.10.2",
   "language": "julia",
   "name": "julia-1.10"
  },
  "language_info": {
   "file_extension": ".jl",
   "mimetype": "application/julia",
   "name": "julia",
   "version": "1.10.2"
  }
 },
 "nbformat": 4,
 "nbformat_minor": 4
}
