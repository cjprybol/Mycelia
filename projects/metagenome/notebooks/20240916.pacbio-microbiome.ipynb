{
 "cells": [
  {
   "cell_type": "code",
   "execution_count": null,
   "id": "89b5c9fd-a800-4d1c-a007-ea67dbd0d9ef",
   "metadata": {
    "tags": []
   },
   "outputs": [],
   "source": [
    "# if hit plotting library issues, try resetting LD path for julia\n",
    "# can set in ~/.local/share/jupyter/kernels/\n",
    "haskey(ENV, \"LD_LIBRARY_PATH\") && @assert ENV[\"LD_LIBRARY_PATH\"] == \"\"\n",
    "import Pkg\n",
    "Pkg.activate(;temp=true)\n",
    "Pkg.add(\"Revise\")\n",
    "import Revise\n",
    "\n",
    "# Pkg.develop(path=\"/global/cfs/projectdirs/m4269/cjprybol/Mycelia\")\n",
    "# Pkg.develop(path=\"../../..\")\n",
    "Pkg.develop(path=\"$(homedir())/workspace/Mycelia\")\n",
    "import Mycelia\n",
    "\n",
    "pkgs = String[\n",
    "    \"DataFrames\",\n",
    "    \"FASTX\",\n",
    "    \"XAM\",\n",
    "    \"uCSV\",\n",
    "    \"CodecZlib\",\n",
    "    \"ProgressMeter\",\n",
    "    \"StatsBase\",\n",
    "    \"Statistics\",\n",
    "    \"CSV\",\n",
    "    \"Random\",\n",
    "    \"Distributions\",\n",
    "    \"Plots\",\n",
    "    \"OrderedCollections\",\n",
    "    \"StatsPlots\",\n",
    "    \"Colors\"\n",
    "]\n",
    "Pkg.add(pkgs)\n",
    "for pkg in pkgs\n",
    "    eval(Meta.parse(\"import $pkg\"))\n",
    "end"
   ]
  },
  {
   "cell_type": "code",
   "execution_count": null,
   "id": "9c4d0f09-d6bf-47f3-bc27-60fe4259943b",
   "metadata": {
    "tags": []
   },
   "outputs": [],
   "source": [
    "basedir = dirname(pwd())\n",
    "data_dir = joinpath(basedir, \"data\")"
   ]
  },
  {
   "cell_type": "code",
   "execution_count": null,
   "id": "7c9209a6-9590-4818-8cd1-280e883a3317",
   "metadata": {
    "tags": []
   },
   "outputs": [],
   "source": [
    "RUN_ID = \"r64342e_20240910_225812\""
   ]
  },
  {
   "cell_type": "code",
   "execution_count": null,
   "id": "9c7d0fe1-ba3c-4638-ac79-3308ea3f768b",
   "metadata": {
    "tags": []
   },
   "outputs": [],
   "source": [
    "# copy over\n",
    "# run(`rclone copy locus_data_warehouse:Genomics/SequelIIe/$(RUN_ID) $(data_dir)/$(RUN_ID)`)"
   ]
  },
  {
   "cell_type": "code",
   "execution_count": null,
   "id": "ebf17b12-7fd5-41b4-aa35-509a16ab2441",
   "metadata": {
    "tags": []
   },
   "outputs": [],
   "source": [
    "xml = first(filter(x -> occursin(r\"\\.run\\.metadata\\.xml\", x), readdir(joinpath(data_dir, RUN_ID, \"1_A01\"), join=true)))"
   ]
  },
  {
   "cell_type": "code",
   "execution_count": null,
   "id": "c3741efc-4602-4a03-a286-9bfcc1f44e88",
   "metadata": {
    "tags": []
   },
   "outputs": [],
   "source": [
    "sample_to_barcode_table = Mycelia.extract_pacbiosample_information(xml)\n",
    "sample_to_barcode_table = sample_to_barcode_table[map(x -> !occursin(r\"urine\"i, x), sample_to_barcode_table[!, \"BioSampleName\"]), :]"
   ]
  },
  {
   "cell_type": "code",
   "execution_count": null,
   "id": "43dfa072-0dd3-4422-a33b-f85004e5f6be",
   "metadata": {
    "tags": []
   },
   "outputs": [],
   "source": [
    "barcode_directories = filter(x -> occursin(r\"^bc\\d+\", basename(x)) && (basename(x) in Set(sample_to_barcode_table[!, \"BarcodeName\"])), readdir(joinpath(data_dir, RUN_ID, \"1_A01\"), join=true))"
   ]
  },
  {
   "cell_type": "code",
   "execution_count": null,
   "id": "307d6602-1c24-4497-beea-8747e39a26fe",
   "metadata": {
    "tags": []
   },
   "outputs": [],
   "source": [
    "# map to blast NT\n",
    "blast_db = \"20240418.nt\"\n",
    "blast_dbs_dir = joinpath([homedir(), \"workspace\", \"blastdb\"])\n",
    "# path_to_db = joinpath(homedir(), \"workspace\", \"blastdb\", blast_db)\n",
    "blast_db_path = joinpath(blast_dbs_dir, blast_db)\n",
    "\n",
    "# # path_to_db = Mycelia.download_blast_db(db=db, source=\"ncbi\")\n",
    "# # compressed_fasta_export = Mycelia.export_blast_db(path_to_db = path_to_db)\n",
    "compressed_fasta_export = blast_db_path * \".fna.gz\"\n",
    "@assert isfile(compressed_fasta_export)"
   ]
  },
  {
   "cell_type": "code",
   "execution_count": null,
   "id": "2f838dea-a8bc-4b97-8672-624c9aa23700",
   "metadata": {},
   "outputs": [],
   "source": [
    "# # map to Locus internal genomes\n",
    "# # locus_fasta = \"/global/homes/c/cjprybol/workspace/Mycelia/projects/metagenome/data/locus-internal.fna.gz\"\n",
    "\n",
    "# locus_c_strain_fasta = joinpath(data_dir, \"locus-c-strains.fna\")"
   ]
  },
  {
   "cell_type": "code",
   "execution_count": null,
   "id": "bb108ec0-be41-4771-b5be-884a50c585ff",
   "metadata": {
    "tags": []
   },
   "outputs": [],
   "source": [
    "function filesize_human_readable(f)\n",
    "    return Base.format_bytes(filesize(f))\n",
    "end"
   ]
  },
  {
   "cell_type": "code",
   "execution_count": null,
   "id": "daabc737-88a2-4ce3-bc36-c445c0de0607",
   "metadata": {},
   "outputs": [],
   "source": [
    "# function minimap_map_with_index(\n",
    "#         fasta = compressed_fasta_export,\n",
    "#         mem_gb = Mycelia.NERSC_MEM,\n",
    "#         mapping_type = \"map-hifi\",\n",
    "#         threads = Mycelia.NERSC_CPU,\n",
    "#         fastq\n",
    "#         as_string=false,\n",
    "#         denominator=6\n",
    "#     )"
   ]
  },
  {
   "cell_type": "code",
   "execution_count": null,
   "id": "5aeee9a1-5879-4b28-99b4-d689a17670f2",
   "metadata": {},
   "outputs": [],
   "source": [
    "# Mycelia.minimap_map_with_index(\n",
    "#         fasta = compressed_fasta_export,\n",
    "#         mem_gb = Mycelia.NERSC_MEM,\n",
    "#         mapping_type = \"map-hifi\",\n",
    "#         threads = Mycelia.NERSC_CPU,\n",
    "#         fastq = fastq_file,\n",
    "#         as_string=true,\n",
    "#         denominator=6\n",
    "#     )"
   ]
  },
  {
   "cell_type": "code",
   "execution_count": null,
   "id": "091059c5-43de-4704-bb4a-4b34e9206703",
   "metadata": {
    "tags": []
   },
   "outputs": [],
   "source": [
    "cmd, outfile = Mycelia.minimap_index(\n",
    "    fasta=compressed_fasta_export,\n",
    "    mem_gb=Mycelia.NERSC_MEM,\n",
    "    mapping_type=\"map-hifi\",\n",
    "    threads=1,\n",
    "    as_string=true,\n",
    "    denominator=6)\n",
    "isfile(outfile)"
   ]
  },
  {
   "cell_type": "code",
   "execution_count": null,
   "id": "f6073359-7162-437e-8a3b-a967d2322773",
   "metadata": {
    "tags": []
   },
   "outputs": [],
   "source": [
    "present_xams = String[]\n",
    "\n",
    "# here I made a copy of the fastq file to try submitting to the premium queue\n",
    "# premium queue jumps straight to the front of the line, but caps @ 5 submissions\n",
    "\n",
    "for (i, d) in enumerate(barcode_directories)\n",
    "    # println(\"$(i)\\t$(d)\")\n",
    "    # println(d)\n",
    "    bam_file = first(filter(x -> occursin(r\"\\.bam\", x), readdir(d, join=true)))\n",
    "    # display(filesize_human_readable(bam_file))\n",
    "    # 5655.810957 seconds\n",
    "    # 111.551031 seconds (70.00 k allocations: 4.719 MiB, 0.11% compilation time)\n",
    "    fastq_file = Mycelia.bam_to_fastq(bam=bam_file)\n",
    "    # println(filesize_human_readable(fastq_file))\n",
    "\n",
    "    cmd, outfile = Mycelia.minimap_map_with_index(\n",
    "            fasta = compressed_fasta_export,\n",
    "            mem_gb = Mycelia.NERSC_MEM,\n",
    "            mapping_type = \"map-hifi\",\n",
    "            threads = Mycelia.NERSC_CPU,\n",
    "            fastq = fastq_file,\n",
    "            as_string=true,\n",
    "            denominator=6\n",
    "        )\n",
    "\n",
    "    # cmd, outfile = Mycelia.minimap_map(fasta=locus_c_strain_fasta, fastq=fastq_file, mem_gb=Mycelia.NERSC_MEM, mapping_type=\"map-hifi\", threads=Mycelia.NERSC_CPU, as_string=true)\n",
    "    # cmd, outfile = Mycelia.minimap_map(fasta=compressed_fasta_export, fastq=fastq_file, mem_gb=Mycelia.NERSC_MEM, mapping_type=\"map-hifi\", threads=Mycelia.NERSC_CPU, as_string=true)\n",
    "    # display(outfile)\n",
    "    # display(cmd)\n",
    "    # display(outfile)\n",
    "    if !isfile(outfile)\n",
    "        println(outfile)\n",
    "        # Mycelia.nersc_sbatch_premium(\n",
    "        # Mycelia.nersc_sbatch_regular(\n",
    "        #     job_name=basename(outfile),\n",
    "        #     mail_user=\"cameron.prybol@gmail.com\",\n",
    "        #     logdir=mkpath(\"$(homedir())/workspace/slurmlogs\"),\n",
    "        #     mem_gb=Mycelia.NERSC_MEM,\n",
    "        #     cpus_per_task=Mycelia.NERSC_CPU,\n",
    "        #     cmd=cmd)\n",
    "    else\n",
    "        push!(present_xams, outfile)\n",
    "    end\n",
    "end\n",
    "present_xams"
   ]
  },
  {
   "cell_type": "code",
   "execution_count": null,
   "id": "48a64da0-3d5b-4703-ba05-1cf2714f6409",
   "metadata": {},
   "outputs": [],
   "source": [
    "# trigger analysis\n",
    "\n",
    "# find bam files and read them in - use standard microbiome taxonomy analysis from \n",
    "\n",
    "barcode_to_xam = Dict(basename(dirname(x)) => x for x in present_xams)\n",
    "\n",
    "# barcode_to_xam = Dict()\n",
    "# for barcode_directory in barcode_directories\n",
    "#     barcode = basename(barcode_directory)\n",
    "#     # && occursin(\"locus-c-strains.fna\", x)\n",
    "#     xams = filter(x -> occursin(Mycelia.XAM_REGEX, x) && occursin(\".nt.fna.gz\", x), readdir(barcode_directory, join=true))\n",
    "#     @show xams\n",
    "#     xam = first(xams)\n",
    "#     # println(\"$(barcode)\\t$(xam)\")\n",
    "#     barcode_to_xam[barcode] = xam\n",
    "# end\n",
    "# barcode_to_xam\n",
    "sample_to_barcode_table[!, \"xam\"] = [haskey(barcode_to_xam, barcode) ? barcode_to_xam[barcode] : missing for barcode in sample_to_barcode_table[!, \"BarcodeName\"]]\n",
    "sample_to_barcode_table = DataFrames.dropmissing(sample_to_barcode_table)\n",
    "\n",
    "# Define the data as a multi-line string\n",
    "data_str = \"\"\"\n",
    "Sample Type\tVisit\tTime (hr)\tLIMS ID\tPrimary/Backup\tPatient ID\n",
    "Stool\t1\t0\t897\tPrimary\t103-005\n",
    "Stool\t2\t0\t898\tPrimary\t103-005\n",
    "Stool\t5\t0\t907\tPrimary\t103-005\n",
    "Stool\t7\t0\t1013\tPrimary\t103-005\n",
    "Stool\t8\t0\t1576\tPrimary\t103-005\n",
    "Stool\t1\t0\t1551\tPrimary\t103-007\n",
    "Stool\t2\t0\t1552\tPrimary\t103-007\n",
    "Stool\t5\t0\t1563\tPrimary\t103-007\n",
    "Stool\t7\t0\t1738\tPrimary\t103-007\n",
    "Stool\t8\t0\t2539\tPrimary\t103-007\n",
    "Stool\t1\t0\t1728\tPrimary\t103-008\n",
    "Stool\t2\t0\t1739\tPrimary\t103-008\n",
    "Stool\t5\t0\t1748\tPrimary\t103-008\n",
    "Stool\t7\t0\t1911\tPrimary\t103-008\n",
    "Stool\t8\t0\t2645\tPrimary\t103-008\n",
    "Stool\t1\t0\t5226\tPrimary\t103-013\n",
    "Stool\t5\t0\t5312\tPrimary\t103-013\n",
    "Stool\t7\t0\t5502\tPrimary\t103-013\n",
    "Stool\t8\t0\t6856\tPrimary\t103-013\n",
    "Stool\t1\t0\t5479\tPrimary\t103-015\n",
    "Stool\t2\t0\t5503\tPrimary\t103-015\n",
    "Stool\t5\t0\t5541\tPrimary\t103-015\n",
    "Stool\t7\t0\t5998\tPrimary\t103-015\n",
    "Stool\t8\t0\t6890\tPrimary\t103-015\n",
    "Stool\t1\t0\t2803\tPrimary\t106-006\n",
    "Stool\t5\t0\t3048\tPrimary\t106-006\n",
    "Stool\t7\t0\t3084\tPrimary\t106-006\n",
    "\"\"\"\n",
    "\n",
    "# Read the data using CSV.jl\n",
    "metadata_table = CSV.read(IOBuffer(data_str), DataFrames.DataFrame; delim='\\t', ignorerepeated=true)\n",
    "\n",
    "sample_to_barcode_table[!, \"LIMS ID\"] = parse.(Int, last.(split.(sample_to_barcode_table[!, \"BioSampleName\"], \"_\")))\n",
    "\n",
    "metadata_table = DataFrames.innerjoin(metadata_table, sample_to_barcode_table, on=\"LIMS ID\")\n",
    "\n",
    "# visit time is all 0\n",
    "# , \"T\" * string(r[\"Time (hr)\"])"
   ]
  },
  {
   "cell_type": "code",
   "execution_count": null,
   "id": "dfb4269f-873c-435d-a6b2-141e6893e346",
   "metadata": {
    "tags": []
   },
   "outputs": [],
   "source": [
    "metadata_table[!, \"patient_first_id\"] = [join([r[\"Patient ID\"], \"V\" * string(r[\"Visit\"])], \" \") for r in DataFrames.eachrow(metadata_table)]"
   ]
  },
  {
   "cell_type": "code",
   "execution_count": null,
   "id": "afe031fb-820a-4603-b251-32f85dc7858a",
   "metadata": {
    "tags": []
   },
   "outputs": [],
   "source": [
    "metadata_table[!, \"visit_first_id\"] = [join([ \"V\" * string(r[\"Visit\"]), r[\"Patient ID\"]], \" \") for r in DataFrames.eachrow(metadata_table)]"
   ]
  },
  {
   "cell_type": "code",
   "execution_count": null,
   "id": "b603db67-7bf2-4643-aa8b-ecaf337d00c9",
   "metadata": {
    "tags": []
   },
   "outputs": [],
   "source": [
    "metadata_table"
   ]
  },
  {
   "cell_type": "code",
   "execution_count": null,
   "id": "95f09b2c-9641-4c56-8f37-b5b44ce42e1e",
   "metadata": {
    "tags": []
   },
   "outputs": [],
   "source": [
    "# map to blast NT\n",
    "blast_db = \"nt\"\n",
    "blast_dbs_dir = joinpath([homedir(), \"workspace\", \"blastdb\"])\n",
    "# path_to_db = joinpath(homedir(), \"workspace\", \"blastdb\", blast_db)\n",
    "blast_db_path = joinpath(blast_dbs_dir, blast_db)\n",
    "\n",
    "# # path_to_db = Mycelia.download_blast_db(db=db, source=\"ncbi\")\n",
    "# # compressed_fasta_export = Mycelia.export_blast_db(path_to_db = path_to_db)"
   ]
  },
  {
   "cell_type": "code",
   "execution_count": null,
   "id": "c1aef156-b01f-45a8-8e8e-39b822fc1530",
   "metadata": {
    "tags": []
   },
   "outputs": [],
   "source": [
    "@time blast_db_taxonomy_table = Mycelia.load_blast_db_taxonomy_table(Mycelia.export_blast_db_taxonomy_table(path_to_db = blast_db_path))"
   ]
  },
  {
   "cell_type": "code",
   "execution_count": null,
   "id": "a551b86b-d11d-476e-9da8-fbbe98cc685c",
   "metadata": {
    "tags": []
   },
   "outputs": [],
   "source": [
    "# taxa_level = \"species\"\n",
    "taxa_level = \"genus\"\n",
    "file_to_taxa_relative_abundances = OrderedCollections.OrderedDict{String, Dict{Union{Missing, String}, Float64}}()\n",
    "ProgressMeter.@showprogress for xam in metadata_table[!, \"xam\"]\n",
    "    @time record_table = Mycelia.parse_xam_to_mapped_records_table(xam)\n",
    "    record_table = record_table[record_table[!, \"isprimary\"], :]\n",
    "    record_table = DataFrames.innerjoin(record_table, blast_db_taxonomy_table, on=\"reference\" => \"sequence_id\")\n",
    "    unique_taxids = sort(unique(record_table[!, \"taxid\"]))\n",
    "    record_table = DataFrames.innerjoin(record_table, Mycelia.taxids2taxonkit_summarized_lineage_table(unique_taxids), on=\"taxid\")\n",
    "    file_to_taxa_relative_abundances[xam] = Mycelia.normalize_countmap(StatsBase.countmap(record_table[!, taxa_level]))\n",
    "end\n",
    "file_to_taxa_relative_abundances"
   ]
  },
  {
   "cell_type": "code",
   "execution_count": null,
   "id": "d1ae0c0c-70d4-4b11-b1e4-a6dad1afa383",
   "metadata": {
    "tags": []
   },
   "outputs": [],
   "source": [
    "unique_sorted_taxa = unique(sort(collect(reduce(union, keys.(values(file_to_taxa_relative_abundances))))))\n",
    "n_samples = length(file_to_taxa_relative_abundances)\n",
    "abundance_matrix = zeros(length(unique_sorted_taxa), n_samples)\n",
    "taxa_names_to_indices = Dict(t => i for (i, t) in enumerate(unique_sorted_taxa))\n",
    "for (column, (file, abundances)) in enumerate(file_to_taxa_relative_abundances)\n",
    "    # @show column, sample\n",
    "    for (taxa, relative_abundance) in abundances\n",
    "        row = taxa_names_to_indices[taxa]\n",
    "        abundance_matrix[row, column] = relative_abundance\n",
    "    end\n",
    "end\n",
    "abundance_matrix\n",
    "\n",
    "file_to_identifier = Dict(row[\"xam\"] => row[\"patient_first_id\"] for row in DataFrames.eachrow(metadata_table))\n",
    "# file_to_identifier = Dict(row[\"xam\"] => row[\"visit_first_id\"] for row in DataFrames.eachrow(metadata_table))\n",
    "\n",
    "file_labels = [file_to_identifier[k] for k in keys(file_to_taxa_relative_abundances)]\n",
    "\n",
    "abundance_matrix = abundance_matrix[:, sortperm(file_labels)]\n",
    "file_labels = sort(file_labels)\n",
    "\n",
    "# drop human and missing\n",
    "filtered_indices = findall(x -> !(x in Set([\"Homo\", missing])), vec(unique_sorted_taxa))\n",
    "unique_sorted_taxa = unique_sorted_taxa[filtered_indices]\n",
    "abundance_matrix = abundance_matrix[filtered_indices, :]\n",
    "\n",
    "# Calculate the sum of each col\n",
    "col_sums = sum(abundance_matrix, dims=1)\n",
    "# Normalize each element by dividing by the col sum\n",
    "abundance_matrix = abundance_matrix ./ col_sums\n",
    "\n",
    "# # vaginal_indices\n",
    "# indices = [1, 2, 5, 6]\n",
    "# label = \"vaginal\"\n",
    "# top_N = 6\n",
    "\n",
    "# perianal_indices\n",
    "# indices = [3, 4, 7, 8]\n",
    "# label = \"perianal\"\n",
    "top_N = 50\n",
    "\n",
    "# file_labels_subset = file_labels[indices]\n",
    "# abundance_matrix_subset = abundance_matrix[:, indices]\n",
    "\n",
    "sort_perm = sortperm(vec(Statistics.sum(abundance_matrix, dims=2)))\n",
    "unique_sorted_taxa_subset = unique_sorted_taxa[sort_perm]\n",
    "abundance_matrix_subset = abundance_matrix[sort_perm, :]\n",
    "non_zero_indices = findall(vec(Statistics.sum(abundance_matrix_subset, dims=2)) .> 0.0)\n",
    "unique_sorted_taxa_subset = unique_sorted_taxa_subset[non_zero_indices]\n",
    "abundance_matrix_subset = abundance_matrix_subset[non_zero_indices, :]\n",
    "colorscheme = Colors.distinguishable_colors(length(unique_sorted_taxa_subset), [Colors.RGB(1,1,1), Colors.RGB(0,0,0)], dropseed=true)\n",
    "\n",
    "scaler = 800\n",
    "\n",
    "StatsPlots.groupedbar(\n",
    "    abundance_matrix_subset'[:, end-(top_N-1):end],\n",
    "    bar_position = :stack,\n",
    "    bar_width=0.7, \n",
    "    label = hcat(unique_sorted_taxa_subset...)[:, end-(top_N-1):end], \n",
    "    xticks = (1:length(file_labels), sort(file_labels)), \n",
    "    xrotation = 45,\n",
    "    ylabel = \"proportion of reads\",\n",
    "    # xlabel = \"$(label) sample\",\n",
    "    # title = \"$(taxa_level) relative abundance (top $(top_N-2))\",\n",
    "    title = \"$(taxa_level) relative abundance (top $(top_N) classified and non-human)\",\n",
    "    legend = :outertopright,\n",
    "    # legend = false,\n",
    "    size = (2*scaler, scaler),\n",
    "    margins = 15StatsPlots.Plots.PlotMeasures.mm,\n",
    "    seriescolor = hcat(reverse(colorscheme)...)[:, end-(top_N-1):end]\n",
    ")"
   ]
  }
 ],
 "metadata": {
  "kernelspec": {
   "display_name": "Julia 1.10.2",
   "language": "julia",
   "name": "julia-1.10"
  },
  "language_info": {
   "file_extension": ".jl",
   "mimetype": "application/julia",
   "name": "julia",
   "version": "1.10.2"
  }
 },
 "nbformat": 4,
 "nbformat_minor": 5
}
