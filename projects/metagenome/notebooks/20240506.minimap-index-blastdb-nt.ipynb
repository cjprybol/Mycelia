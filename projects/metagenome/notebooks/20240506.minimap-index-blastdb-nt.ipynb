{
 "cells": [
  {
   "cell_type": "code",
   "execution_count": null,
   "id": "89b5c9fd-a800-4d1c-a007-ea67dbd0d9ef",
   "metadata": {
    "tags": []
   },
   "outputs": [],
   "source": [
    "# if hit plotting library issues, try resetting LD path for julia\n",
    "# can set in ~/.local/share/jupyter/kernels/\n",
    "@assert ENV[\"LD_LIBRARY_PATH\"] == \"\"\n",
    "import Pkg\n",
    "Pkg.activate(;temp=true)\n",
    "Pkg.add(\"Revise\")\n",
    "import Revise\n",
    "\n",
    "# Pkg.develop(path=\"/global/cfs/projectdirs/m4269/cjprybol/Mycelia\")\n",
    "# Pkg.develop(path=\"../../..\")\n",
    "Pkg.develop(path=\"$(homedir())/workspace/Mycelia\")\n",
    "import Mycelia\n",
    "\n",
    "pkgs = String[\n",
    "    \"DataFrames\"\n",
    "]\n",
    "Pkg.add(pkgs)\n",
    "for pkg in pkgs\n",
    "    eval(Meta.parse(\"import $pkg\"))\n",
    "end"
   ]
  },
  {
   "cell_type": "code",
   "execution_count": null,
   "id": "1e7840b2-86e8-4e9b-9d6e-54052b32c9ad",
   "metadata": {
    "tags": []
   },
   "outputs": [],
   "source": [
    "db = \"nt\""
   ]
  },
  {
   "cell_type": "code",
   "execution_count": null,
   "id": "338b790c-2b50-42a3-918d-37bf5a6b7cf6",
   "metadata": {
    "tags": []
   },
   "outputs": [],
   "source": [
    "path_to_db = joinpath(homedir(), \"workspace\", \"blastdb\", db)\n",
    "# path_to_db = Mycelia.download_blast_db(db=db, source=\"ncbi\")"
   ]
  },
  {
   "cell_type": "code",
   "execution_count": null,
   "id": "9ccc5708-0d36-49d3-9ab7-1f170cc4d3e8",
   "metadata": {
    "tags": []
   },
   "outputs": [],
   "source": [
    "function system_mem_to_minimap_index_size(;system_mem_gb, denominator=6)\n",
    "    # heuristic I arrived at by trial and error\n",
    "    # this value should be larger for larger memory machines, and smaller for smaller ones\n",
    "    # denominator = 5 # produced OOM for NT on NERSC\n",
    "    # 10 was only 56% efficient\n",
    "    value = Int(floor(system_mem_gb/denominator))\n",
    "    return \"$(value)G\"\n",
    "end\n",
    "system_mem_to_minimap_index_size(Mycelia.NERSC_MEM)\n",
    "\n",
    "\"\"\"\n",
    "Run this on the machine you intend to use to map the reads to confirm the index will fit\n",
    "\"\"\"\n",
    "function minimap_index(;fasta, mem_gb, mapping_type, threads, as_string=false, denominator=6)\n",
    "    @assert mapping_type in [\"map-hifi\", \"map-ont\", \"map-pb\", \"sr\", \"lr:hq\"]\n",
    "    index_size = system_mem_to_minimap_index_size(system_mem_gb=mem_gb, denominator=denominator)\n",
    "    outfile = \"$(fasta).x$(mapping_type).I$(index_size).mmi\"\n",
    "    if as_string\n",
    "        cmd = \"$(Mycelia.CONDA_RUNNER) run --live-stream -n minimap2 minimap2 -t $(threads) -x $(mapping_type) -I$(index_size) -d $(outfile) $(fasta)\"\n",
    "    else\n",
    "        cmd = `$(Mycelia.CONDA_RUNNER) run --live-stream -n minimap2 minimap2 -t $(threads) -x $(mapping_type) -I$(index_size) -d $(index_file) $(fasta)`\n",
    "    end\n",
    "    return (;cmd, outfile)\n",
    "end"
   ]
  },
  {
   "cell_type": "code",
   "execution_count": null,
   "id": "0c7b6312-b888-47bc-a73c-5bc39d32db4f",
   "metadata": {
    "tags": []
   },
   "outputs": [],
   "source": [
    "# compressed_fasta_export = Mycelia.export_blast_db(path_to_db = path_to_db)\n",
    "compressed_fasta_export = path_to_db * \".fna.gz\""
   ]
  },
  {
   "cell_type": "code",
   "execution_count": null,
   "id": "3c931e43-53ef-4aa8-91d5-1d04b640ffda",
   "metadata": {
    "tags": []
   },
   "outputs": [],
   "source": [
    "# inefficient memory usage, but did succeed\n",
    "# cmd, outfile = minimap_index(fasta=compressed_fasta_export, mem_gb=Mycelia.NERSC_MEM, mapping_type=\"map-hifi\", threads=Mycelia.NERSC_CPU, as_string=true, denominator=5)\n",
    "# inefficient memory usage, but did succeed\n",
    "# cmd, outfile = minimap_index(fasta=compressed_fasta_export, mem_gb=Mycelia.NERSC_MEM, mapping_type=\"map-hifi\", threads=Mycelia.NERSC_CPU, as_string=true, denominator=10)\n",
    "cmd, outfile = minimap_index(fasta=compressed_fasta_export, mem_gb=Mycelia.NERSC_MEM, mapping_type=\"map-hifi\", threads=Mycelia.NERSC_CPU, as_string=true, denominator=6)"
   ]
  },
  {
   "cell_type": "code",
   "execution_count": null,
   "id": "dc5e674f-7f1a-4db0-ba8a-de11803dc459",
   "metadata": {
    "tags": []
   },
   "outputs": [],
   "source": [
    "if !isfile(outfile)\n",
    "    println(outfile)\n",
    "    Mycelia.nersc_sbatch_premium(\n",
    "        job_name=basename(outfile),\n",
    "        mail_user=\"cameron.prybol@gmail.com\",\n",
    "        logdir=mkpath(\"$(homedir())/workspace/slurmlogs\"),\n",
    "        mem_gb=Mycelia.NERSC_MEM,\n",
    "        cpus_per_task=Mycelia.NERSC_CPU,\n",
    "        cmd=cmd)\n",
    "# else\n",
    "#     @show isfile(outfile)\n",
    "end"
   ]
  }
 ],
 "metadata": {
  "kernelspec": {
   "display_name": "Julia 1.10.2",
   "language": "julia",
   "name": "julia-1.10"
  },
  "language_info": {
   "file_extension": ".jl",
   "mimetype": "application/julia",
   "name": "julia",
   "version": "1.10.2"
  }
 },
 "nbformat": 4,
 "nbformat_minor": 5
}
