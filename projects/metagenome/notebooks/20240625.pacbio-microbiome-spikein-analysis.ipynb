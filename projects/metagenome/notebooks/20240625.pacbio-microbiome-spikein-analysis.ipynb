{
 "cells": [
  {
   "cell_type": "code",
   "execution_count": null,
   "id": "89b5c9fd-a800-4d1c-a007-ea67dbd0d9ef",
   "metadata": {
    "tags": []
   },
   "outputs": [],
   "source": [
    "# if hit plotting library issues, try resetting LD path for julia\n",
    "# can set in ~/.local/share/jupyter/kernels/\n",
    "haskey(ENV, \"LD_LIBRARY_PATH\") && @assert ENV[\"LD_LIBRARY_PATH\"] == \"\"\n",
    "import Pkg\n",
    "Pkg.activate(;temp=true)\n",
    "Pkg.add(\"Revise\")\n",
    "import Revise\n",
    "\n",
    "# Pkg.develop(path=\"/global/cfs/projectdirs/m4269/cjprybol/Mycelia\")\n",
    "# Pkg.develop(path=\"../../..\")\n",
    "Pkg.develop(path=\"$(homedir())/workspace/Mycelia\")\n",
    "import Mycelia\n",
    "\n",
    "pkgs = String[\n",
    "    \"DataFrames\",\n",
    "    \"FASTX\",\n",
    "    \"XAM\",\n",
    "    \"uCSV\",\n",
    "    \"CodecZlib\",\n",
    "    \"ProgressMeter\",\n",
    "    \"StatsBase\",\n",
    "    \"Statistics\",\n",
    "    \"CSV\",\n",
    "    \"Random\",\n",
    "    \"Distributions\",\n",
    "    \"Plots\",\n",
    "    \"OrderedCollections\",\n",
    "    \"StatsPlots\",\n",
    "    \"Colors\"\n",
    "]\n",
    "Pkg.add(pkgs)\n",
    "for pkg in pkgs\n",
    "    eval(Meta.parse(\"import $pkg\"))\n",
    "end"
   ]
  },
  {
   "cell_type": "code",
   "execution_count": null,
   "id": "9c4d0f09-d6bf-47f3-bc27-60fe4259943b",
   "metadata": {
    "tags": []
   },
   "outputs": [],
   "source": [
    "basedir = dirname(pwd())\n",
    "data_dir = joinpath(basedir, \"data\")"
   ]
  },
  {
   "cell_type": "code",
   "execution_count": null,
   "id": "7c9209a6-9590-4818-8cd1-280e883a3317",
   "metadata": {
    "tags": []
   },
   "outputs": [],
   "source": [
    "RUN_ID = \"r64342e_20240621_140056\""
   ]
  },
  {
   "cell_type": "code",
   "execution_count": null,
   "id": "9c7d0fe1-ba3c-4638-ac79-3308ea3f768b",
   "metadata": {
    "tags": []
   },
   "outputs": [],
   "source": [
    "# copy over\n",
    "# run(`rclone copy locus_data_warehouse:Genomics/SequelIIe/$(RUN_ID) $(data_dir)/$(RUN_ID)`)"
   ]
  },
  {
   "cell_type": "code",
   "execution_count": null,
   "id": "ebf17b12-7fd5-41b4-aa35-509a16ab2441",
   "metadata": {
    "tags": []
   },
   "outputs": [],
   "source": [
    "xml = first(filter(x -> occursin(r\"\\.run\\.metadata\\.xml\", x), readdir(joinpath(data_dir, RUN_ID, \"1_A01\"), join=true)))"
   ]
  },
  {
   "cell_type": "code",
   "execution_count": null,
   "id": "db3b13a3-a740-4b0a-815a-cc3bced6b124",
   "metadata": {
    "tags": []
   },
   "outputs": [],
   "source": [
    "sample_to_barcode_table = Mycelia.extract_pacbiosample_information(xml)"
   ]
  },
  {
   "cell_type": "code",
   "execution_count": null,
   "id": "43dfa072-0dd3-4422-a33b-f85004e5f6be",
   "metadata": {
    "tags": []
   },
   "outputs": [],
   "source": [
    "barcode_directories = filter(x -> occursin(r\"^bc\\d+\", basename(x)), readdir(joinpath(data_dir, RUN_ID, \"1_A01\"), join=true))"
   ]
  },
  {
   "cell_type": "code",
   "execution_count": null,
   "id": "307d6602-1c24-4497-beea-8747e39a26fe",
   "metadata": {
    "tags": []
   },
   "outputs": [],
   "source": [
    "# map to blast NT\n",
    "blast_db = \"nt\"\n",
    "blast_dbs_dir = joinpath([homedir(), \"workspace\", \"blastdb\"])\n",
    "# path_to_db = joinpath(homedir(), \"workspace\", \"blastdb\", blast_db)\n",
    "blast_db_path = joinpath(blast_dbs_dir, blast_db)\n",
    "\n",
    "# # path_to_db = Mycelia.download_blast_db(db=db, source=\"ncbi\")\n",
    "# # compressed_fasta_export = Mycelia.export_blast_db(path_to_db = path_to_db)\n",
    "# compressed_fasta_export = blast_db_path * \".fna.gz\""
   ]
  },
  {
   "cell_type": "code",
   "execution_count": null,
   "id": "ca153470-ce63-4d48-85f2-5aab6bb4ef39",
   "metadata": {},
   "outputs": [],
   "source": [
    "# map to Locus internal genomes\n",
    "# locus_fasta = \"/global/homes/c/cjprybol/workspace/Mycelia/projects/metagenome/data/locus-internal.fna.gz\""
   ]
  },
  {
   "cell_type": "code",
   "execution_count": null,
   "id": "8b16f501-ba5e-46a6-9581-c21704c63784",
   "metadata": {
    "tags": []
   },
   "outputs": [],
   "source": [
    "# for d in barcode_directories\n",
    "#     bam_file = first(filter(x -> occursin(r\"\\.bam\", x), readdir(d, join=true)))\n",
    "#     # 5655.810957 seconds\n",
    "#     # 111.551031 seconds (70.00 k allocations: 4.719 MiB, 0.11% compilation time)\n",
    "#     fastq_file = Mycelia.bam_to_fastq(bam=bam_file)\n",
    "\n",
    "#     cmd, outfile = Mycelia.minimap_map(fasta=compressed_fasta_export, fastq=fastq_file, mem_gb=Mycelia.NERSC_MEM, mapping_type=\"map-hifi\", threads=Mycelia.NERSC_CPU, as_string=true)\n",
    "#     # display(outfile)\n",
    "#     if !isfile(outfile)\n",
    "#         println(outfile)\n",
    "#         Mycelia.nersc_sbatch_regular(\n",
    "#             job_name=basename(outfile),\n",
    "#             mail_user=\"cameron.prybol@gmail.com\",\n",
    "#             logdir=mkpath(\"$(homedir())/workspace/slurmlogs\"),\n",
    "#             mem_gb=Mycelia.NERSC_MEM,\n",
    "#             cpus_per_task=Mycelia.NERSC_CPU,\n",
    "#             cmd=cmd)\n",
    "#     end\n",
    "# end"
   ]
  },
  {
   "cell_type": "code",
   "execution_count": null,
   "id": "0694657b-246a-4db6-82be-9342e3999c9c",
   "metadata": {
    "tags": []
   },
   "outputs": [],
   "source": [
    "# here I made a copy of the fastq file to try submitting to the premium queue\n",
    "# premium queue jumps straight to the front of the line, but caps @ 5 submissions\n",
    "\n",
    "# for d in barcode_directories\n",
    "#     bam_file = first(filter(x -> occursin(r\"\\.bam\", x), readdir(d, join=true)))\n",
    "#     # 5655.810957 seconds\n",
    "#     # 111.551031 seconds (70.00 k allocations: 4.719 MiB, 0.11% compilation time)\n",
    "#     fastq_file = Mycelia.bam_to_fastq(bam=bam_file)\n",
    "#     fastq_file_alt = replace(fastq_file, \".gz\" => \".copy.gz\")\n",
    "#     # display(fastq_file_alt)\n",
    "#     if !isfile(fastq_file_alt)\n",
    "#         cp(fastq_file, fastq_file_alt)\n",
    "#     end\n",
    "\n",
    "#     cmd, outfile = Mycelia.minimap_map(fasta=compressed_fasta_export, fastq=fastq_file_alt, mem_gb=Mycelia.NERSC_MEM, mapping_type=\"map-hifi\", threads=Mycelia.NERSC_CPU, as_string=true)\n",
    "#     # display(outfile)\n",
    "#     if !isfile(outfile)\n",
    "#         println(outfile)\n",
    "#         Mycelia.nersc_sbatch_premium(\n",
    "#             job_name=basename(outfile),\n",
    "#             mail_user=\"cameron.prybol@gmail.com\",\n",
    "#             logdir=mkpath(\"$(homedir())/workspace/slurmlogs\"),\n",
    "#             mem_gb=Mycelia.NERSC_MEM,\n",
    "#             cpus_per_task=Mycelia.NERSC_CPU,\n",
    "#             cmd=cmd)\n",
    "#     end\n",
    "# end"
   ]
  },
  {
   "cell_type": "code",
   "execution_count": null,
   "id": "2a8db99e-504b-4313-a123-181d99e72311",
   "metadata": {},
   "outputs": [],
   "source": [
    "# trigger analysis"
   ]
  },
  {
   "cell_type": "code",
   "execution_count": null,
   "id": "c11736a1-5a5c-4d51-ac54-345c498286ae",
   "metadata": {
    "tags": []
   },
   "outputs": [],
   "source": [
    "# find bam files and read them in - use standard microbiome taxonomy analysis from "
   ]
  },
  {
   "cell_type": "code",
   "execution_count": null,
   "id": "48fc2bfa-6fec-4f06-9c6e-327982865840",
   "metadata": {
    "tags": []
   },
   "outputs": [],
   "source": [
    "barcode_to_xam = Dict()\n",
    "for barcode_directory in barcode_directories\n",
    "    barcode = basename(barcode_directory)\n",
    "    xams = filter(x -> occursin(Mycelia.XAM_REGEX, x) && occursin(\"nt.fna.gz\", x), readdir(barcode_directory, join=true))\n",
    "    xam = first(xams)\n",
    "    # println(\"$(barcode)\\t$(xam)\")\n",
    "    barcode_to_xam[barcode] = xam\n",
    "end\n",
    "barcode_to_xam\n",
    "sample_to_barcode_table[!, \"xam\"] = [barcode_to_xam[barcode] for barcode in sample_to_barcode_table[!, \"BarcodeName\"]]\n",
    "sample_to_barcode_table"
   ]
  },
  {
   "cell_type": "code",
   "execution_count": null,
   "id": "cf761b2d-261c-411e-86da-54b128638867",
   "metadata": {
    "tags": []
   },
   "outputs": [],
   "source": [
    "xams = sample_to_barcode_table[!, \"xam\"]"
   ]
  },
  {
   "cell_type": "code",
   "execution_count": null,
   "id": "c1aef156-b01f-45a8-8e8e-39b822fc1530",
   "metadata": {
    "tags": []
   },
   "outputs": [],
   "source": [
    "@time blast_db_taxonomy_table = Mycelia.load_blast_db_taxonomy_table(Mycelia.export_blast_db_taxonomy_table(path_to_db = blast_db_path))"
   ]
  },
  {
   "cell_type": "code",
   "execution_count": null,
   "id": "44983e6e-8784-4e54-9c66-7846c823ea78",
   "metadata": {
    "tags": []
   },
   "outputs": [],
   "source": [
    "# taxa_level = \"species\"\n",
    "taxa_level = \"genus\"\n",
    "# taxa_level = \"family\"\n",
    "file_to_taxa_relative_abundances = OrderedCollections.OrderedDict{String, Dict{Union{Missing, String}, Float64}}()\n",
    "ProgressMeter.@showprogress for xam in xams\n",
    "    @time record_table = Mycelia.parse_xam_to_mapped_records_table(xam)\n",
    "    record_table = record_table[record_table[!, \"isprimary\"], :]\n",
    "    record_table = DataFrames.innerjoin(record_table, blast_db_taxonomy_table, on=\"reference\" => \"sequence_id\")\n",
    "    unique_taxids = sort(unique(record_table[!, \"taxid\"]))\n",
    "    record_table = DataFrames.innerjoin(record_table, Mycelia.taxids2taxonkit_summarized_lineage_table(unique_taxids), on=\"taxid\")\n",
    "    Mycelia.normalize_countmap(StatsBase.countmap(record_table[!, taxa_level]))\n",
    "    file_to_taxa_relative_abundances[xam] = Mycelia.normalize_countmap(StatsBase.countmap(record_table[!, taxa_level]))\n",
    "end\n",
    "file_to_taxa_relative_abundances"
   ]
  },
  {
   "cell_type": "code",
   "execution_count": null,
   "id": "3a38a9d8-d975-4bc1-bf27-0403351615de",
   "metadata": {
    "tags": []
   },
   "outputs": [],
   "source": [
    "unique_sorted_taxa = sort(collect(reduce(union, keys.(values(file_to_taxa_relative_abundances)))))"
   ]
  },
  {
   "cell_type": "code",
   "execution_count": null,
   "id": "f1445072-0711-4d55-a017-4f3808c277b4",
   "metadata": {
    "tags": []
   },
   "outputs": [],
   "source": [
    "n_samples = length(file_to_taxa_relative_abundances)"
   ]
  },
  {
   "cell_type": "code",
   "execution_count": null,
   "id": "8a252df6-4ebe-4fa4-a3e0-6cab5eaae2f8",
   "metadata": {
    "tags": []
   },
   "outputs": [],
   "source": [
    "abundance_matrix = zeros(length(unique_sorted_taxa), n_samples)\n",
    "taxa_names_to_indices = Dict(t => i for (i, t) in enumerate(unique_sorted_taxa))\n",
    "for (column, (file, abundances)) in enumerate(file_to_taxa_relative_abundances)\n",
    "    # @show column, sample\n",
    "    for (taxa, relative_abundance) in abundances\n",
    "        row = taxa_names_to_indices[taxa]\n",
    "        abundance_matrix[row, column] = relative_abundance\n",
    "    end\n",
    "end\n",
    "abundance_matrix"
   ]
  },
  {
   "cell_type": "code",
   "execution_count": null,
   "id": "682449ca-4a16-43cd-98cc-62b71b9aa8f3",
   "metadata": {
    "tags": []
   },
   "outputs": [],
   "source": [
    "abundance_sort_perm = sortperm(abundance_matrix, dims=1)"
   ]
  },
  {
   "cell_type": "code",
   "execution_count": null,
   "id": "9ad18f24-1a25-4c47-84c4-a7bcdabb0305",
   "metadata": {
    "tags": []
   },
   "outputs": [],
   "source": [
    "abundance_matrix[abundance_sort_perm]"
   ]
  },
  {
   "cell_type": "code",
   "execution_count": null,
   "id": "d959df01-5bb9-46b7-861c-e00bede543e9",
   "metadata": {
    "tags": []
   },
   "outputs": [],
   "source": [
    "file_to_identifier = Dict(row[\"xam\"] => row[\"BioSampleName\"] for row in DataFrames.eachrow(sample_to_barcode_table))"
   ]
  },
  {
   "cell_type": "code",
   "execution_count": null,
   "id": "e7ab685c-d337-424f-87fe-e9c96b81d586",
   "metadata": {
    "tags": []
   },
   "outputs": [],
   "source": [
    "colorscheme = Colors.distinguishable_colors(length(unique_sorted_taxa), [Colors.RGB(1,1,1), Colors.RGB(0,0,0)], dropseed=true)"
   ]
  },
  {
   "cell_type": "code",
   "execution_count": null,
   "id": "c503232d-0863-4d51-9c74-702e11ae9f64",
   "metadata": {
    "tags": []
   },
   "outputs": [],
   "source": [
    "sortperm(file_labels)"
   ]
  },
  {
   "cell_type": "code",
   "execution_count": null,
   "id": "3508dcb7-2e67-4726-a8fe-7240edb9eb06",
   "metadata": {
    "tags": []
   },
   "outputs": [],
   "source": [
    "## BASE - INCLUDES EVERYTHING\n",
    "# Find the sort permutation of the row means vector\n",
    "sort_perm = sortperm(vec(Statistics.mean(abundance_matrix, dims=2)))\n",
    "file_labels = [file_to_identifier[k] for k in keys(file_to_taxa_relative_abundances)]\n",
    "label_sort_perm = sortperm(file_labels)\n",
    "\n",
    "StatsPlots.groupedbar(\n",
    "    abundance_matrix[sort_perm, label_sort_perm]',\n",
    "    bar_position = :stack,\n",
    "    bar_width=0.7, \n",
    "    # label = permutedims(unique_sorted_taxa[sort_perm]),\n",
    "    label = false,\n",
    "    xticks = (1:size(abundance_matrix, 2), file_labels[label_sort_perm]), \n",
    "    xrotation = 45,\n",
    "    ylabel = \"proportion of reads\", \n",
    "    xlabel = \"Subsampling proportion\",\n",
    "    title = \"$(taxa_level) relative abundance\",\n",
    "    legend = :outertopright,\n",
    "    size = (1000, 500),\n",
    "    margins = 10StatsPlots.Plots.PlotMeasures.mm,\n",
    "    seriescolor = hcat(reverse(colorscheme)...)\n",
    ")"
   ]
  },
  {
   "cell_type": "code",
   "execution_count": null,
   "id": "72b14e56-4752-4a6c-9bba-67139009224b",
   "metadata": {
    "tags": []
   },
   "outputs": [],
   "source": [
    "top_N = 30\n",
    "# Find the sort permutation of the row means vector\n",
    "sort_perm = sortperm(vec(Statistics.mean(abundance_matrix, dims=2)))\n",
    "file_labels = [file_to_identifier[k] for k in keys(file_to_taxa_relative_abundances)]\n",
    "label_sort_perm = sortperm(file_labels)\n",
    "StatsPlots.groupedbar(\n",
    "    abundance_matrix[sort_perm, label_sort_perm]'[:, end-(top_N-1):end],\n",
    "    bar_position = :stack,\n",
    "    bar_width=0.7, \n",
    "    label = permutedims(unique_sorted_taxa[sort_perm])[:, end-(top_N-1):end], \n",
    "    xticks = (1:size(abundance_matrix, 2), file_labels[label_sort_perm]), \n",
    "    xrotation = 45,\n",
    "    ylabel = \"proportion of reads\", \n",
    "    xlabel = \"Subsampling proportion\",\n",
    "    title = \"$(taxa_level) relative abundance (Top $(top_N))\",\n",
    "    legend = :outertopright,\n",
    "    size = (1000, 500),\n",
    "    margins = 10StatsPlots.Plots.PlotMeasures.mm,\n",
    "    seriescolor = hcat(reverse(colorscheme)...)[:, end-(top_N-1):end]\n",
    ")"
   ]
  }
 ],
 "metadata": {
  "kernelspec": {
   "display_name": "Julia 1.6.7",
   "language": "julia",
   "name": "julia-1.6"
  },
  "language_info": {
   "file_extension": ".jl",
   "mimetype": "application/julia",
   "name": "julia",
   "version": "1.6.7"
  }
 },
 "nbformat": 4,
 "nbformat_minor": 5
}
