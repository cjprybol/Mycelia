{
 "cells": [
  {
   "cell_type": "code",
   "execution_count": null,
   "id": "89b5c9fd-a800-4d1c-a007-ea67dbd0d9ef",
   "metadata": {
    "tags": []
   },
   "outputs": [],
   "source": [
    "# if hit plotting library issues, try resetting LD path for julia\n",
    "# can set in ~/.local/share/jupyter/kernels/\n",
    "haskey(ENV, \"LD_LIBRARY_PATH\") && @assert ENV[\"LD_LIBRARY_PATH\"] == \"\"\n",
    "import Pkg\n",
    "Pkg.activate(;temp=true)\n",
    "Pkg.add(\"Revise\")\n",
    "import Revise\n",
    "\n",
    "# Pkg.develop(path=\"/global/cfs/projectdirs/m4269/cjprybol/Mycelia\")\n",
    "# Pkg.develop(path=\"../../..\")\n",
    "Pkg.develop(path=\"$(homedir())/workspace/Mycelia\")\n",
    "import Mycelia\n",
    "\n",
    "pkgs = String[\n",
    "    \"DataFrames\",\n",
    "    \"FASTX\",\n",
    "    \"XAM\",\n",
    "    \"uCSV\",\n",
    "    \"CodecZlib\",\n",
    "    \"ProgressMeter\",\n",
    "    \"StatsBase\"\n",
    "]\n",
    "Pkg.add(pkgs)\n",
    "for pkg in pkgs\n",
    "    eval(Meta.parse(\"import $pkg\"))\n",
    "end"
   ]
  },
  {
   "cell_type": "code",
   "execution_count": null,
   "id": "2f7caaf1-caa0-4ff1-a65e-10003e24e884",
   "metadata": {},
   "outputs": [],
   "source": [
    "# rclone copy --progress --verbose --drive-chunk-size 2G --drive-upload-cutoff 1T --tpslimit 1 locus_data_warehouse:Genomics/SequelIIe/r64342e_20240416_185917/1_A01/bc2056--bc2056/m64342e_240416_193427.hifi_reads.bc2056--bc2056.bam /global/homes/c/cjprybol/workspace/Mycelia/projects/metagenome/data\n",
    "# /global/homes/c/cjprybol/workspace/Mycelia/projects/metagenome/data\n",
    "# tarchive = \"/global/homes/c/cjprybol/workspace/Mycelia/projects/metagenome/data/locus-reference-genomes.tar.gz\"\n",
    "# tarchive = \"/global/homes/c/cjprybol/workspace/Mycelia/projects/metagenome/data/SRR9202034.tar.gz\"\n",
    "# Mycelia.tar_extract(tarchive=tarchive)"
   ]
  },
  {
   "cell_type": "code",
   "execution_count": null,
   "id": "b82e22a3-7f09-4bdb-936b-194786cab341",
   "metadata": {
    "tags": []
   },
   "outputs": [],
   "source": [
    "blast_db = \"nt_prok\"\n",
    "blast_dbs_dir = joinpath([homedir(), \"workspace\", \"blastdb\"])\n",
    "blast_db_path = joinpath(blast_dbs_dir, blast_db)\n",
    "@time blast_db_taxonomy_table = Mycelia.load_blast_db_taxonomy_table(Mycelia.export_blast_db_taxonomy_table(path_to_db = blast_db_path))"
   ]
  },
  {
   "cell_type": "code",
   "execution_count": null,
   "id": "12d05bc0-bee4-41eb-b64d-1a1f914c84d2",
   "metadata": {
    "tags": []
   },
   "outputs": [],
   "source": [
    "basedir = dirname(pwd())\n",
    "data_dir = joinpath(basedir, \"data\")\n",
    "sample_dir = joinpath(data_dir, \"SRR9202034\")\n",
    "\n",
    "mapped_reads = sort(filter(x -> occursin(r\"\\.sam\\.gz\", x), readdir(sample_dir, join=true)), by=x->filesize(x))\n",
    "for x in mapped_reads\n",
    "    println(x)\n",
    "end"
   ]
  },
  {
   "cell_type": "code",
   "execution_count": null,
   "id": "0a26b97c-ba4a-497e-86db-79c61789ef4a",
   "metadata": {
    "tags": []
   },
   "outputs": [],
   "source": [
    "file_to_counts = Dict{String, Vector{Int}}()"
   ]
  },
  {
   "cell_type": "code",
   "execution_count": null,
   "id": "bf54f29c-45df-479c-becf-4d8f79e6541e",
   "metadata": {
    "tags": []
   },
   "outputs": [],
   "source": [
    "ProgressMeter.@showprogress for f in mapped_reads[1:3]\n",
    "    if !haskey(file_to_counts, f)\n",
    "        records, header = Mycelia.parse_xam(f)\n",
    "        records_table = Mycelia.xam_records_to_dataframe(records)\n",
    "        records_table_with_taxids = DataFrames.innerjoin(records_table, blast_db_taxonomy_table, on=\"reference\" => \"sequence_id\")\n",
    "        primary_mapping_taxids = records_table_with_taxids[records_table_with_taxids[!, \"ismapped\"] .& records_table_with_taxids[!, \"isprimary\"], \"taxid\"]\n",
    "        file_to_counts[f] = primary_mapping_taxids\n",
    "    end\n",
    "end"
   ]
  },
  {
   "cell_type": "code",
   "execution_count": null,
   "id": "0aa106d0-9755-49ab-8b6b-5b629a2dcb27",
   "metadata": {
    "tags": []
   },
   "outputs": [],
   "source": [
    "length.(values(file_to_counts))"
   ]
  },
  {
   "cell_type": "code",
   "execution_count": null,
   "id": "a8313800-db4a-4fc6-9131-84b6399d9f75",
   "metadata": {
    "tags": []
   },
   "outputs": [],
   "source": [
    "species_relative_abundances = [\n",
    "    \"Acinetobacter baumannii\" => 0.18,\n",
    "    \"Bacillus pacificus\" => 1.80,\n",
    "    \"Phocaeicola vulgatus\" => 0.02,\n",
    "    \"Bifidobacterium adolescentis\" => 0.02,\n",
    "    \"Clostridium beijerinckii\" => 1.80,\n",
    "    \"Cutibacterium acnes\" => 0.18,\n",
    "    \"Deinococcus radiodurans\" => 0.02,\n",
    "    \"Enterococcus faecalis\" => 0.02,\n",
    "    \"Escherichia coli\" => 18.0,\n",
    "    \"Helicobacter pylori\" => 0.18,\n",
    "    \"Lactobacillus gasseri\" => 0.18,\n",
    "    \"Neisseria meningitidis\" => 0.18,\n",
    "    \"Porphyromonas gingivalis\" => 18.0,\n",
    "    \"Pseudomonas paraeruginosa\" => 1.80,\n",
    "    \"Cereibacter sphaeroides\" => 18.0,\n",
    "    \"Schaalia odontolytica\" => 0.02,\n",
    "    \"Staphylococcus aureus\" => 1.80,\n",
    "    \"Staphylococcus epidermidis\" => 18.0,\n",
    "    \"Streptococcus agalactiae\" => 1.80,\n",
    "    \"Streptococcus mutans\" => 18.0\n",
    "]"
   ]
  },
  {
   "cell_type": "code",
   "execution_count": null,
   "id": "7448e7a9-36af-4fc4-a503-4cec2dba95be",
   "metadata": {
    "tags": []
   },
   "outputs": [],
   "source": [
    "names2taxid_table = Mycelia.names2taxids(first.(species_relative_abundances))"
   ]
  },
  {
   "cell_type": "code",
   "execution_count": null,
   "id": "f59c2254-4fc2-4f8f-8093-8ede8995a342",
   "metadata": {
    "tags": []
   },
   "outputs": [],
   "source": [
    "if !isdefined(Main, :taxonomy_table)\n",
    "    # Call the function if variable_name is not defined\n",
    "    taxonomy_table = Mycelia.list_full_taxonomy()\n",
    "end\n",
    "if !isdefined(Main, :species_table)\n",
    "    # Call the function if variable_name is not defined\n",
    "    species_table = Mycelia.list_species()\n",
    "end\n",
    "taxids = Set(species_table[!, \"taxid\"])\n",
    "\n",
    "# 5s\n",
    "@time species_taxonomy_table = taxonomy_table[map(x -> x in taxids, taxonomy_table[!, \"taxid\"]), :]\n",
    "species_taxonomy_table = species_taxonomy_table[map(x -> !isempty(x), species_taxonomy_table[!, \"superkingdom_taxid\"]), :]"
   ]
  },
  {
   "cell_type": "code",
   "execution_count": null,
   "id": "d05c9f8e-230b-45c7-8980-fb325ae50d67",
   "metadata": {
    "tags": []
   },
   "outputs": [],
   "source": [
    "# names2taxids_dict = Dict(row[\"name\"] => row[\"taxid\"] for row in DataFrames.eachrow(names2taxid_table))"
   ]
  },
  {
   "cell_type": "code",
   "execution_count": null,
   "id": "8f0cbf34-2260-440f-82b7-90d4ebb9e6dc",
   "metadata": {},
   "outputs": [],
   "source": [
    "file_to_taxhits = Dict(f => StatsBase.countmap(counts) for (f, counts) in file_to_counts)"
   ]
  },
  {
   "cell_type": "code",
   "execution_count": null,
   "id": "d20dcb4f-1796-4ee7-bb0f-701356d3e8b8",
   "metadata": {},
   "outputs": [],
   "source": [
    "# use taxonomy table to link whatever the final taxa id (subspecies or strain usually) to species taxid\n",
    "taxonomy_table[map(x -> x in sorted_observed_taxids_set, taxonomy_table[!, \"taxid\"]), :]"
   ]
  },
  {
   "cell_type": "code",
   "execution_count": null,
   "id": "93083c74-54fa-421e-a068-81febfc46567",
   "metadata": {},
   "outputs": [],
   "source": [
    "taxid_to_relative_abundances_reference = Dict(names2taxids_dict[n] => v for (n, v) in species_relative_abundances)"
   ]
  },
  {
   "cell_type": "code",
   "execution_count": null,
   "id": "868cc658-2bba-4554-8932-ac7e4398a6c4",
   "metadata": {},
   "outputs": [],
   "source": [
    "\n",
    "file_to_tax_relative_abundances = Dict{String, Dict{Int, Float64}}()\n",
    "for (f, tax_counts) in file_to_taxcounts\n",
    "    total_count = sum(values(tax_counts))\n",
    "    file_to_tax_relative_abundances[f] = Dict(tax => count / total_count for (tax, count) in tax_counts)\n",
    "end\n",
    "file_to_tax_relative_abundances = Dict(basename(f) => v for (f,v) in file_to_tax_relative_abundances)\n",
    "file_to_tax_relative_abundances"
   ]
  },
  {
   "cell_type": "code",
   "execution_count": null,
   "id": "7b42b8c5-5e8a-4e71-835f-ec55c67db3fd",
   "metadata": {
    "tags": []
   },
   "outputs": [],
   "source": [
    "sorted_observed_taxids = sort(reduce(union, collect.(keys.(values(file_to_tax_relative_abundances)))))"
   ]
  },
  {
   "cell_type": "code",
   "execution_count": null,
   "id": "90d3ed7f-6889-4225-9487-491879a813e6",
   "metadata": {
    "tags": []
   },
   "outputs": [],
   "source": [
    "taxid_to_sorted_index = Dict(taxid => i for (i, taxid) in enumerate(sorted_observed_taxids))"
   ]
  },
  {
   "cell_type": "code",
   "execution_count": null,
   "id": "ebe739d6-444f-4ecd-b44a-951189e0c777",
   "metadata": {
    "tags": []
   },
   "outputs": [],
   "source": [
    "ordered_samples = [\n",
    "    \"SRR9202034.seqkit.P0.0001.fq.gz.nt_prok.fna.gz.minimap2.sam.gz\",\n",
    "    \"SRR9202034.seqkit.P0.001.fq.gz.nt_prok.fna.gz.minimap2.sam.gz\",\n",
    "    \"SRR9202034.seqkit.P0.01.fq.gz.nt_prok.fna.gz.minimap2.sam.gz\"\n",
    "]"
   ]
  },
  {
   "cell_type": "code",
   "execution_count": null,
   "id": "ab9e8c43-3d62-4c4f-a020-0c3aeea81a74",
   "metadata": {
    "tags": []
   },
   "outputs": [],
   "source": [
    "taxids_to_relative_abundances = [taxid_to_relative_abundances_reference, [file_to_tax_relative_abundances[f] for f in ordered_samples]...]"
   ]
  },
  {
   "cell_type": "code",
   "execution_count": null,
   "id": "cf43d746-c418-48c9-a9d7-c7142c1d2656",
   "metadata": {
    "tags": []
   },
   "outputs": [],
   "source": [
    "labels = vcat([\"reference\"], ordered_samples)"
   ]
  },
  {
   "cell_type": "code",
   "execution_count": null,
   "id": "ba6ab567-9f74-4af9-89fa-dbadffd4c54c",
   "metadata": {
    "tags": []
   },
   "outputs": [],
   "source": [
    "sorted_observed_taxids_set = Set(sorted_observed_taxids)"
   ]
  },
  {
   "cell_type": "code",
   "execution_count": null,
   "id": "0c336e66-72e3-460d-9a9b-d4f0e0f61e50",
   "metadata": {
    "tags": []
   },
   "outputs": [],
   "source": [
    "counts_matrix = zeros(length(sorted_observed_taxids), length(labels))\n",
    "for (column, sample) in enumerate(taxids_to_relative_abundances)\n",
    "    # @show column, sample\n",
    "    for (taxid, count) in sample\n",
    "        row = taxid_to_sorted_index[taxid]\n",
    "        counts_matrix[row, column] = count\n",
    "    end\n",
    "end\n",
    "counts_matrix"
   ]
  },
  {
   "cell_type": "code",
   "execution_count": null,
   "id": "4ce2f975-46fc-4712-8d1e-23599fed4f51",
   "metadata": {},
   "outputs": [],
   "source": [
    "column_names = first.(results)\n",
    "\n",
    "row_names = names2taxid_table[!, \"name\"]\n",
    "\n",
    "# Create the stacked barplot\n",
    "    # \n",
    "StatsPlots.groupedbar(\n",
    "    counts_matrix',\n",
    "    bar_position = :stack,\n",
    "    bar_width=0.7, \n",
    "    label = permutedims(row_names), \n",
    "    xticks = (1:size(counts_matrix, 2), column_names), \n",
    "    xrotation = 45,\n",
    "    ylabel = \"# of reads\", \n",
    "    xlabel = \"Sample\", \n",
    "    title = \"Species absolute abundance plot\",\n",
    "    legend = :outertopright,\n",
    "    size = (1000, 500),\n",
    "    margins = 10StatsPlots.Plots.PlotMeasures.mm\n",
    ")"
   ]
  },
  {
   "cell_type": "code",
   "execution_count": null,
   "id": "c849ba91-034a-4736-a0b4-0ed10b14b3d1",
   "metadata": {},
   "outputs": [],
   "source": [
    "relative_abundance_matrix = Mycelia.count_matrix_to_probability_matrix(counts_matrix)\n",
    "\n",
    "StatsPlots.groupedbar(\n",
    "    relative_abundance_matrix',\n",
    "    bar_position = :stack,\n",
    "    bar_width=0.7, \n",
    "    label = permutedims(row_names), \n",
    "    xticks = (1:size(counts_matrix, 2), column_names), \n",
    "    xrotation = 45,\n",
    "    ylabel = \"proportion of reads\", \n",
    "    xlabel = \"Sample\", \n",
    "    title = \"Species relative abundance plot\",\n",
    "    legend = :outertopright,\n",
    "    size = (1000, 500),\n",
    "    margins = 10StatsPlots.Plots.PlotMeasures.mm\n",
    ")"
   ]
  },
  {
   "cell_type": "code",
   "execution_count": null,
   "id": "695d5e6b-b74d-40af-b4e0-5196561fe857",
   "metadata": {},
   "outputs": [],
   "source": [
    "cosine_distance_matrix = Mycelia.frequency_matrix_to_cosine_distance_matrix(relative_abundance_matrix)"
   ]
  },
  {
   "cell_type": "code",
   "execution_count": null,
   "id": "c38d051d-28a0-40a3-bd05-274a10e78cef",
   "metadata": {},
   "outputs": [],
   "source": [
    "fit_pca = MultivariateStats.fit(MultivariateStats.PCA, cosine_distance_matrix)\n",
    "transformed_observations = MultivariateStats.transform(fit_pca, cosine_distance_matrix')\n",
    "\n",
    "xs = [[transformed_observations[1, i]] for i in 1:9]\n",
    "ys = [[transformed_observations[2, i]] for i in 1:9]\n",
    "\n",
    "plot = \n",
    "StatsPlots.scatter(\n",
    "    xs,\n",
    "    ys,\n",
    "    xlabel = \"PC1\",\n",
    "    ylabel = \"PC2\",\n",
    "    labels = permutedims(column_names),\n",
    "    title = \"PCA of relative abundance data\",\n",
    "    legend = :outertopright,\n",
    "    margins = 20StatsPlots.px,\n",
    "    dpi=300,\n",
    "    size=(600, 400)\n",
    ")"
   ]
  }
 ],
 "metadata": {
  "kernelspec": {
   "display_name": "Julia 1.10.2",
   "language": "julia",
   "name": "julia-1.10"
  },
  "language_info": {
   "file_extension": ".jl",
   "mimetype": "application/julia",
   "name": "julia",
   "version": "1.10.2"
  }
 },
 "nbformat": 4,
 "nbformat_minor": 5
}
