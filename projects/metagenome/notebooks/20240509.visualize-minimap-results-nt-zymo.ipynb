{
 "cells": [
  {
   "cell_type": "code",
   "execution_count": null,
   "id": "89b5c9fd-a800-4d1c-a007-ea67dbd0d9ef",
   "metadata": {
    "tags": []
   },
   "outputs": [],
   "source": [
    "# if hit plotting library issues, try resetting LD path for julia\n",
    "# can set in ~/.local/share/jupyter/kernels/\n",
    "haskey(ENV, \"LD_LIBRARY_PATH\") && @assert ENV[\"LD_LIBRARY_PATH\"] == \"\"\n",
    "import Pkg\n",
    "Pkg.activate(;temp=true)\n",
    "Pkg.add(\"Revise\")\n",
    "import Revise\n",
    "\n",
    "# Pkg.develop(path=\"/global/cfs/projectdirs/m4269/cjprybol/Mycelia\")\n",
    "# Pkg.develop(path=\"../../..\")\n",
    "Pkg.develop(path=\"$(homedir())/workspace/Mycelia\")\n",
    "import Mycelia\n",
    "\n",
    "pkgs = String[\n",
    "    \"DataFrames\",\n",
    "    \"FASTX\",\n",
    "    \"XAM\",\n",
    "    \"uCSV\",\n",
    "    \"CodecZlib\",\n",
    "    \"ProgressMeter\",\n",
    "    \"StatsBase\",\n",
    "    \"BioAlignments\",\n",
    "    \"OrderedCollections\",\n",
    "    \"StatsPlots\",\n",
    "    \"Statistics\",\n",
    "    \"CSV\"\n",
    "]\n",
    "Pkg.add(pkgs)\n",
    "for pkg in pkgs\n",
    "    eval(Meta.parse(\"import $pkg\"))\n",
    "end"
   ]
  },
  {
   "cell_type": "code",
   "execution_count": null,
   "id": "5b06a5c2-1066-4c42-90f9-094ec4a3d113",
   "metadata": {},
   "outputs": [],
   "source": [
    "blast_db = \"nt_prok\"\n",
    "blast_dbs_dir = joinpath([homedir(), \"workspace\", \"blastdb\"])\n",
    "blast_db_path = joinpath(blast_dbs_dir, blast_db)"
   ]
  },
  {
   "cell_type": "code",
   "execution_count": null,
   "id": "b82e22a3-7f09-4bdb-936b-194786cab341",
   "metadata": {
    "tags": []
   },
   "outputs": [],
   "source": [
    "# 476.069645 seconds (123.76 k allocations: 8.292 MiB, 0.05% compilation time: 38% of which was recompilation)\n",
    "# 4321.050357 seconds (1.38 G allocations: 74.524 GiB, 86.31% gc time, 0.01% compilation time: 38% of which was recompilation)\n",
    "@time blast_db_taxonomy_table = Mycelia.load_blast_db_taxonomy_table(Mycelia.export_blast_db_taxonomy_table(path_to_db = blast_db_path))"
   ]
  },
  {
   "cell_type": "code",
   "execution_count": null,
   "id": "9c4d0f09-d6bf-47f3-bc27-60fe4259943b",
   "metadata": {
    "tags": []
   },
   "outputs": [],
   "source": [
    "basedir = dirname(pwd())\n",
    "data_dir = joinpath(basedir, \"data\")"
   ]
  },
  {
   "cell_type": "code",
   "execution_count": null,
   "id": "8b80dbe0-0191-41f1-9d04-cfa7f7a3284e",
   "metadata": {
    "tags": []
   },
   "outputs": [],
   "source": [
    "xams = sort(filter(x -> occursin(r\"\\.sam\\.gz$\", x), readdir(joinpath(data_dir, \"SRR9202034\"), join=true)), by=x->filesize(x))[1:3]"
   ]
  },
  {
   "cell_type": "code",
   "execution_count": null,
   "id": "b5098730-4e0c-4303-a508-f7fb8d1e7284",
   "metadata": {
    "tags": []
   },
   "outputs": [],
   "source": [
    "species_percent_abundances = sort([\n",
    "    \"Acinetobacter baumannii\" => 0.18,\n",
    "    \"Bacillus pacificus\" => 1.80,\n",
    "    \"Phocaeicola vulgatus\" => 0.02,\n",
    "    \"Bifidobacterium adolescentis\" => 0.02,\n",
    "    \"Clostridium beijerinckii\" => 1.80,\n",
    "    \"Cutibacterium acnes\" => 0.18,\n",
    "    \"Deinococcus radiodurans\" => 0.02,\n",
    "    \"Enterococcus faecalis\" => 0.02,\n",
    "    \"Escherichia coli\" => 18.0,\n",
    "    \"Helicobacter pylori\" => 0.18,\n",
    "    \"Lactobacillus gasseri\" => 0.18,\n",
    "    \"Neisseria meningitidis\" => 0.18,\n",
    "    \"Porphyromonas gingivalis\" => 18.0,\n",
    "    \"Pseudomonas paraeruginosa\" => 1.80,\n",
    "    \"Cereibacter sphaeroides\" => 18.0,\n",
    "    \"Schaalia odontolytica\" => 0.02,\n",
    "    \"Staphylococcus aureus\" => 1.80,\n",
    "    \"Staphylococcus epidermidis\" => 18.0,\n",
    "    \"Streptococcus agalactiae\" => 1.80,\n",
    "    \"Streptococcus mutans\" => 18.0\n",
    "])\n",
    "\n",
    "value_total = sum(last.(species_percent_abundances))\n",
    "genus_relative_abundances = Dict(String(first(split(k))) => v/value_total for (k,v) in species_percent_abundances)"
   ]
  },
  {
   "cell_type": "code",
   "execution_count": null,
   "id": "e5911142-8ab3-4459-b3df-9d06f56bfd68",
   "metadata": {
    "tags": []
   },
   "outputs": [],
   "source": [
    "taxa_level = \"genus\"\n",
    "file_to_taxa_relative_abundances = OrderedCollections.OrderedDict{String, Dict{String, Float64}}()\n",
    "file_to_taxa_relative_abundances[\"reference\"] = genus_relative_abundances\n",
    "\n",
    "ProgressMeter.@showprogress for xam in xams\n",
    "    @time record_table = Mycelia.parse_xam_to_mapped_records_table(xam)\n",
    "    record_table = record_table[record_table[!, \"isprimary\"], :]\n",
    "    record_table = DataFrames.innerjoin(record_table, blast_db_taxonomy_table, on=\"reference\" => \"sequence_id\")\n",
    "    unique_taxids = sort(unique(record_table[!, \"taxid\"]))\n",
    "    record_table = DataFrames.innerjoin(record_table, Mycelia.taxids2taxonkit_summarized_lineage_table(unique_taxids), on=\"taxid\")\n",
    "    file_to_taxa_relative_abundances[basename(xam)] = Mycelia.normalize_countmap(StatsBase.countmap(record_table[!, taxa_level]))\n",
    "end\n",
    "file_to_taxa_relative_abundances"
   ]
  },
  {
   "cell_type": "code",
   "execution_count": null,
   "id": "3a38a9d8-d975-4bc1-bf27-0403351615de",
   "metadata": {
    "tags": []
   },
   "outputs": [],
   "source": [
    "unique_sorted_taxa = sort(collect(reduce(union, keys.(values(file_to_taxa_relative_abundances)))))"
   ]
  },
  {
   "cell_type": "code",
   "execution_count": null,
   "id": "f1445072-0711-4d55-a017-4f3808c277b4",
   "metadata": {
    "tags": []
   },
   "outputs": [],
   "source": [
    "n_samples = length(file_to_taxa_relative_abundances)"
   ]
  },
  {
   "cell_type": "code",
   "execution_count": null,
   "id": "8a252df6-4ebe-4fa4-a3e0-6cab5eaae2f8",
   "metadata": {
    "tags": []
   },
   "outputs": [],
   "source": [
    "abundance_matrix = zeros(length(unique_sorted_taxa), n_samples)\n",
    "taxa_names_to_indices = Dict(t => i for (i, t) in enumerate(unique_sorted_taxa))\n",
    "for (column, (file, abundances)) in enumerate(file_to_taxa_relative_abundances)\n",
    "    # @show column, sample\n",
    "    for (taxa, relative_abundance) in abundances\n",
    "        row = taxa_names_to_indices[taxa]\n",
    "        abundance_matrix[row, column] = relative_abundance\n",
    "    end\n",
    "end\n",
    "abundance_matrix"
   ]
  },
  {
   "cell_type": "code",
   "execution_count": null,
   "id": "682449ca-4a16-43cd-98cc-62b71b9aa8f3",
   "metadata": {
    "tags": []
   },
   "outputs": [],
   "source": [
    "abundance_sort_perm = sortperm(abundance_matrix, dims=1)"
   ]
  },
  {
   "cell_type": "code",
   "execution_count": null,
   "id": "3508dcb7-2e67-4726-a8fe-7240edb9eb06",
   "metadata": {
    "tags": []
   },
   "outputs": [],
   "source": [
    "# Find the sort permutation of the row means vector\n",
    "sort_perm = sortperm(vec(Statistics.mean(abundance_matrix, dims=2)))\n",
    "file_labels = map(x -> !isnothing(match(r\"P\\d+(\\.\\d+)?(e-\\d+)?\", x)) ? match(r\"P\\d+(\\.\\d+)?(e-\\d+)?\", x).match : \"reference\", basename.(keys(file_to_taxa_relative_abundances)))\n",
    "StatsPlots.groupedbar(\n",
    "    abundance_matrix[sort_perm, :]',\n",
    "    bar_position = :stack,\n",
    "    bar_width=0.7, \n",
    "    label = permutedims(unique_sorted_taxa[sort_perm]), \n",
    "    xticks = (1:size(abundance_matrix, 2), file_labels), \n",
    "    xrotation = 45,\n",
    "    ylabel = \"proportion of reads\", \n",
    "    xlabel = \"Subsampling proportion\",\n",
    "    title = \"ATCC MSA-1003 reference\",\n",
    "    legend = :outertopright,\n",
    "    size = (1000, 500),\n",
    "    margins = 10StatsPlots.Plots.PlotMeasures.mm\n",
    ")"
   ]
  }
 ],
 "metadata": {
  "kernelspec": {
   "display_name": "Julia 1.10.2",
   "language": "julia",
   "name": "julia-1.10"
  },
  "language_info": {
   "file_extension": ".jl",
   "mimetype": "application/julia",
   "name": "julia",
   "version": "1.10.2"
  }
 },
 "nbformat": 4,
 "nbformat_minor": 5
}
