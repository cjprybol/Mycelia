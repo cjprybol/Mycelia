{
 "cells": [
  {
   "cell_type": "code",
   "execution_count": null,
   "id": "89b5c9fd-a800-4d1c-a007-ea67dbd0d9ef",
   "metadata": {
    "tags": []
   },
   "outputs": [],
   "source": [
    "# if hit plotting library issues, try resetting LD path for julia\n",
    "# can set in ~/.local/share/jupyter/kernels/\n",
    "@assert ENV[\"LD_LIBRARY_PATH\"] == \"\"\n",
    "import Pkg\n",
    "Pkg.activate(;temp=true)\n",
    "Pkg.add(\"Revise\")\n",
    "import Revise\n",
    "\n",
    "# Pkg.develop(path=\"/global/cfs/projectdirs/m4269/cjprybol/Mycelia\")\n",
    "# Pkg.develop(path=\"../../..\")\n",
    "Pkg.develop(path=\"$(homedir())/workspace/Mycelia\")\n",
    "import Mycelia\n",
    "\n",
    "pkgs = String[\n",
    "    \"DataFrames\"\n",
    "]\n",
    "Pkg.add(pkgs)\n",
    "for pkg in pkgs\n",
    "    eval(Meta.parse(\"import $pkg\"))\n",
    "end"
   ]
  },
  {
   "cell_type": "code",
   "execution_count": null,
   "id": "1e7840b2-86e8-4e9b-9d6e-54052b32c9ad",
   "metadata": {
    "tags": []
   },
   "outputs": [],
   "source": [
    "db = \"nt\""
   ]
  },
  {
   "cell_type": "code",
   "execution_count": null,
   "id": "338b790c-2b50-42a3-918d-37bf5a6b7cf6",
   "metadata": {
    "tags": []
   },
   "outputs": [],
   "source": [
    "path_to_db = joinpath(homedir(), \"workspace\", \"blastdb\", db)\n",
    "# path_to_db = Mycelia.download_blast_db(db=db, source=\"ncbi\")"
   ]
  },
  {
   "cell_type": "code",
   "execution_count": null,
   "id": "b5018ffa-74f9-4ae3-960b-ed35c1120d32",
   "metadata": {
    "tags": []
   },
   "outputs": [],
   "source": [
    "# compressed_fasta_export = Mycelia.export_blast_db(path_to_db = path_to_db)\n",
    "compressed_fasta_export = path_to_db * \".fna.gz\""
   ]
  },
  {
   "cell_type": "code",
   "execution_count": null,
   "id": "bfbecd62-0734-4f03-86e5-ea5946002001",
   "metadata": {
    "tags": []
   },
   "outputs": [],
   "source": [
    "bam_file = \"/global/homes/c/cjprybol/workspace/Mycelia/projects/metagenome/data/m64342e_240416_193427.hifi_reads.bc2056--bc2056.bam\""
   ]
  },
  {
   "cell_type": "code",
   "execution_count": null,
   "id": "4957338f-fec2-4cec-88f6-2f8677e44561",
   "metadata": {
    "tags": []
   },
   "outputs": [],
   "source": [
    "# 5655.810957 seconds\n",
    "fastq_file = Mycelia.bam_to_fastq(bam=bam_file)"
   ]
  },
  {
   "cell_type": "code",
   "execution_count": null,
   "id": "0959e67f-475f-4d0b-b700-02bc5f955214",
   "metadata": {
    "tags": []
   },
   "outputs": [],
   "source": [
    "subsampled_fastq = Mycelia.subsample_reads_seqkit(\n",
    "    in_fastq=fastq_file,\n",
    "    proportion_reads=0.000001)\n",
    "@show subsampled_fastq\n",
    "cmd, outfile = Mycelia.minimap_map(fasta=compressed_fasta_export, fastq=subsampled_fastq, mem_gb=Mycelia.NERSC_MEM, mapping_type=\"map-hifi\", threads=Mycelia.NERSC_CPU, as_string=true)\n",
    "# if !isfile(outfile)\n",
    "#     println(outfile)\n",
    "#     Mycelia.nersc_sbatch_premium(\n",
    "#         job_name=basename(outfile),\n",
    "#         mail_user=\"cameron.prybol@gmail.com\",\n",
    "#         logdir=mkpath(\"$(homedir())/workspace/slurmlogs\"),\n",
    "#         mem_gb=Mycelia.NERSC_MEM,\n",
    "#         cpus_per_task=Mycelia.NERSC_CPU,\n",
    "#         cmd=cmd)\n",
    "# end"
   ]
  },
  {
   "cell_type": "code",
   "execution_count": null,
   "id": "63f8c95d-05c4-41bd-b5b1-a03ca922b2df",
   "metadata": {
    "tags": []
   },
   "outputs": [],
   "source": [
    "subsampled_fastq = Mycelia.subsample_reads_seqkit(\n",
    "    in_fastq=fastq_file,\n",
    "    proportion_reads=0.00001)\n",
    "cmd, outfile = Mycelia.minimap_map(fasta=compressed_fasta_export, fastq=subsampled_fastq, mem_gb=Mycelia.NERSC_MEM, mapping_type=\"map-hifi\", threads=Mycelia.NERSC_CPU, as_string=true)\n",
    "# if !isfile(outfile)\n",
    "#     println(outfile)\n",
    "#     Mycelia.nersc_sbatch_premium(\n",
    "#         job_name=basename(outfile),\n",
    "#         mail_user=\"cameron.prybol@gmail.com\",\n",
    "#         logdir=mkpath(\"$(homedir())/workspace/slurmlogs\"),\n",
    "#         mem_gb=Mycelia.NERSC_MEM,\n",
    "#         cpus_per_task=Mycelia.NERSC_CPU,\n",
    "#         cmd=cmd)\n",
    "# end"
   ]
  },
  {
   "cell_type": "code",
   "execution_count": null,
   "id": "db22a151-8258-4727-9196-f14c2efa22eb",
   "metadata": {
    "tags": []
   },
   "outputs": [],
   "source": [
    "subsampled_fastq = Mycelia.subsample_reads_seqkit(\n",
    "    in_fastq=fastq_file,\n",
    "    proportion_reads=0.0001)\n",
    "cmd, outfile = Mycelia.minimap_map(fasta=compressed_fasta_export, fastq=subsampled_fastq, mem_gb=Mycelia.NERSC_MEM, mapping_type=\"map-hifi\", threads=Mycelia.NERSC_CPU, as_string=true)\n",
    "# if !isfile(outfile)\n",
    "#     println(outfile)\n",
    "#     Mycelia.nersc_sbatch_premium(\n",
    "#         job_name=basename(outfile),\n",
    "#         mail_user=\"cameron.prybol@gmail.com\",\n",
    "#         logdir=mkpath(\"$(homedir())/workspace/slurmlogs\"),\n",
    "#         mem_gb=Mycelia.NERSC_MEM,\n",
    "#         cpus_per_task=Mycelia.NERSC_CPU,\n",
    "#         cmd=cmd)\n",
    "# end"
   ]
  },
  {
   "cell_type": "code",
   "execution_count": null,
   "id": "2f88116c-333d-44e3-83d3-f908b5313758",
   "metadata": {
    "tags": []
   },
   "outputs": [],
   "source": [
    "subsampled_fastq = Mycelia.subsample_reads_seqkit(\n",
    "    in_fastq=fastq_file,\n",
    "    proportion_reads=0.001)\n",
    "cmd, outfile = Mycelia.minimap_map(fasta=compressed_fasta_export, fastq=subsampled_fastq, mem_gb=Mycelia.NERSC_MEM, mapping_type=\"map-hifi\", threads=Mycelia.NERSC_CPU, as_string=true)\n",
    "# if !isfile(outfile)\n",
    "#     println(outfile)\n",
    "#     Mycelia.nersc_sbatch_premium(\n",
    "#         job_name=basename(outfile),\n",
    "#         mail_user=\"cameron.prybol@gmail.com\",\n",
    "#         logdir=mkpath(\"$(homedir())/workspace/slurmlogs\"),\n",
    "#         mem_gb=Mycelia.NERSC_MEM,\n",
    "#         cpus_per_task=Mycelia.NERSC_CPU,\n",
    "#         cmd=cmd)\n",
    "# end"
   ]
  },
  {
   "cell_type": "code",
   "execution_count": null,
   "id": "70db8c55-05ce-4257-b488-90668885d95a",
   "metadata": {
    "tags": []
   },
   "outputs": [],
   "source": [
    "subsampled_fastq = Mycelia.subsample_reads_seqkit(\n",
    "    in_fastq=fastq_file,\n",
    "    proportion_reads=0.01)\n",
    "cmd, outfile = Mycelia.minimap_map(fasta=compressed_fasta_export, fastq=subsampled_fastq, mem_gb=Mycelia.NERSC_MEM, mapping_type=\"map-hifi\", threads=Mycelia.NERSC_CPU, as_string=true)\n",
    "# if !isfile(outfile)\n",
    "#     println(outfile)\n",
    "#     Mycelia.nersc_sbatch_premium(\n",
    "#         job_name=basename(outfile),\n",
    "#         mail_user=\"cameron.prybol@gmail.com\",\n",
    "#         logdir=mkpath(\"$(homedir())/workspace/slurmlogs\"),\n",
    "#         mem_gb=Mycelia.NERSC_MEM,\n",
    "#         cpus_per_task=Mycelia.NERSC_CPU,\n",
    "#         cmd=cmd)\n",
    "# end"
   ]
  },
  {
   "cell_type": "code",
   "execution_count": null,
   "id": "0b324cf4-f02c-4755-a47d-7aa9b46924c1",
   "metadata": {
    "tags": []
   },
   "outputs": [],
   "source": [
    "subsampled_fastq = Mycelia.subsample_reads_seqkit(\n",
    "    in_fastq=fastq_file,\n",
    "    proportion_reads=0.1)\n",
    "cmd, outfile = Mycelia.minimap_map(fasta=compressed_fasta_export, fastq=subsampled_fastq, mem_gb=Mycelia.NERSC_MEM, mapping_type=\"map-hifi\", threads=Mycelia.NERSC_CPU, as_string=true)\n",
    "# if !isfile(outfile)\n",
    "#     println(outfile)\n",
    "#     Mycelia.nersc_sbatch_premium(\n",
    "#         job_name=basename(outfile),\n",
    "#         mail_user=\"cameron.prybol@gmail.com\",\n",
    "#         logdir=mkpath(\"$(homedir())/workspace/slurmlogs\"),\n",
    "#         mem_gb=Mycelia.NERSC_MEM,\n",
    "#         cpus_per_task=Mycelia.NERSC_CPU,\n",
    "#         cmd=cmd)\n",
    "# end"
   ]
  },
  {
   "cell_type": "code",
   "execution_count": null,
   "id": "64dd3d91-a348-42b7-9996-3fc5013fd0fc",
   "metadata": {
    "tags": []
   },
   "outputs": [],
   "source": [
    "# full!!\n",
    "cmd, outfile = Mycelia.minimap_map(fasta=compressed_fasta_export, fastq=fastq_file, mem_gb=Mycelia.NERSC_MEM, mapping_type=\"map-hifi\", threads=Mycelia.NERSC_CPU, as_string=true)\n",
    "# if !isfile(outfile)\n",
    "#     println(outfile)\n",
    "#     Mycelia.nersc_sbatch_premium(\n",
    "#         job_name=basename(outfile),\n",
    "#         mail_user=\"cameron.prybol@gmail.com\",\n",
    "#         logdir=mkpath(\"$(homedir())/workspace/slurmlogs\"),\n",
    "#         mem_gb=Mycelia.NERSC_MEM,\n",
    "#         cpus_per_task=Mycelia.NERSC_CPU,\n",
    "#         cmd=cmd)\n",
    "# end"
   ]
  },
  {
   "cell_type": "code",
   "execution_count": null,
   "id": "14d45cac-a210-42f0-bdd0-8f1c7fecfdba",
   "metadata": {
    "tags": []
   },
   "outputs": [],
   "source": [
    "# map to internal locus genomes"
   ]
  },
  {
   "cell_type": "code",
   "execution_count": null,
   "id": "c7a44209-ff27-450a-aa98-fbc578a9ed14",
   "metadata": {
    "tags": []
   },
   "outputs": [],
   "source": [
    "locus_fasta = \"/global/homes/c/cjprybol/workspace/Mycelia/projects/metagenome/data/locus-internal.fna.gz\""
   ]
  },
  {
   "cell_type": "code",
   "execution_count": null,
   "id": "fd82003f-c301-4a9e-a871-bdc73d39859d",
   "metadata": {
    "tags": []
   },
   "outputs": [],
   "source": [
    "interactive_mem_gb = 32\n",
    "interactive_threads = 4"
   ]
  },
  {
   "cell_type": "code",
   "execution_count": null,
   "id": "03f25e4a-eefe-4071-ba15-56275df48796",
   "metadata": {
    "tags": []
   },
   "outputs": [],
   "source": [
    "# cmd, outfile = minimap_index(\n",
    "#     fasta=locus_fasta,\n",
    "#     mem_gb=interactive_mem_gb,\n",
    "#     mapping_type=\"map-hifi\",\n",
    "#     threads=interactive_threads)\n",
    "# if !isfile(outfile)\n",
    "#     run(cmd)\n",
    "# end"
   ]
  },
  {
   "cell_type": "code",
   "execution_count": null,
   "id": "75898354-c278-4c31-84d9-034363f7fdd1",
   "metadata": {
    "tags": []
   },
   "outputs": [],
   "source": [
    "subsampled_fastq = Mycelia.subsample_reads_seqkit(in_fastq=fastq_file, proportion_reads=0.000001)\n",
    "cmd, outfile = Mycelia.minimap_map(fasta=locus_fasta, fastq=subsampled_fastq, mem_gb=interactive_mem_gb, mapping_type=\"map-hifi\", threads=interactive_threads)\n",
    "# !isfile(outfile) && [run(c) for c in cmd]"
   ]
  },
  {
   "cell_type": "code",
   "execution_count": null,
   "id": "bb486bbe-d30b-4a20-953b-d8b58398a53a",
   "metadata": {
    "tags": []
   },
   "outputs": [],
   "source": [
    "subsampled_fastq = Mycelia.subsample_reads_seqkit(in_fastq=fastq_file, proportion_reads=0.00001)\n",
    "cmd, outfile = Mycelia.minimap_map(fasta=locus_fasta, fastq=subsampled_fastq, mem_gb=interactive_mem_gb, mapping_type=\"map-hifi\", threads=interactive_threads)\n",
    "# !isfile(outfile) && [run(c) for c in cmd]"
   ]
  },
  {
   "cell_type": "code",
   "execution_count": null,
   "id": "f6fe271c-0c04-49cd-8848-7292087e7c14",
   "metadata": {
    "tags": []
   },
   "outputs": [],
   "source": [
    "subsampled_fastq = Mycelia.subsample_reads_seqkit(in_fastq=fastq_file, proportion_reads=0.0001)\n",
    "cmd, outfile = Mycelia.minimap_map(fasta=locus_fasta, fastq=subsampled_fastq, mem_gb=interactive_mem_gb, mapping_type=\"map-hifi\", threads=interactive_threads)\n",
    "# !isfile(outfile) && [run(c) for c in cmd]"
   ]
  },
  {
   "cell_type": "code",
   "execution_count": null,
   "id": "9895dfbb-61f0-42a8-b72d-c24153027cc4",
   "metadata": {
    "tags": []
   },
   "outputs": [],
   "source": [
    "subsampled_fastq = Mycelia.subsample_reads_seqkit(in_fastq=fastq_file, proportion_reads=0.001)\n",
    "cmd, outfile = Mycelia.minimap_map(fasta=locus_fasta, fastq=subsampled_fastq, mem_gb=interactive_mem_gb, mapping_type=\"map-hifi\", threads=interactive_threads)\n",
    "# !isfile(outfile) && [run(c) for c in cmd]"
   ]
  },
  {
   "cell_type": "code",
   "execution_count": null,
   "id": "9c6946c2-c0ff-4ce3-927b-0d9f63c05881",
   "metadata": {
    "tags": []
   },
   "outputs": [],
   "source": [
    "subsampled_fastq = Mycelia.subsample_reads_seqkit(in_fastq=fastq_file, proportion_reads=0.01)\n",
    "cmd, outfile = Mycelia.minimap_map(fasta=locus_fasta, fastq=subsampled_fastq, mem_gb=interactive_mem_gb, mapping_type=\"map-hifi\", threads=interactive_threads)\n",
    "# !isfile(outfile) && [run(c) for c in cmd]"
   ]
  },
  {
   "cell_type": "code",
   "execution_count": null,
   "id": "302f9e4d-16aa-4902-a2a3-37925bc66766",
   "metadata": {
    "tags": []
   },
   "outputs": [],
   "source": [
    "# Real time: 622.986 sec; CPU: 2419.817 sec; Peak RSS: 3.894 GB\n",
    "subsampled_fastq = Mycelia.subsample_reads_seqkit(in_fastq=fastq_file, proportion_reads=0.1)\n",
    "cmd, outfile = Mycelia.minimap_map(fasta=locus_fasta, fastq=subsampled_fastq, mem_gb=interactive_mem_gb, mapping_type=\"map-hifi\", threads=interactive_threads)\n",
    "# !isfile(outfile) && [run(c) for c in cmd]"
   ]
  },
  {
   "cell_type": "code",
   "execution_count": null,
   "id": "78638f40-eefd-4406-83b9-e52b69b15b34",
   "metadata": {
    "tags": []
   },
   "outputs": [],
   "source": [
    "# [M::main] Real time: 6293.871 sec; CPU: 24693.852 sec; Peak RSS: 4.014 GB\n",
    "cmd, outfile = Mycelia.minimap_map(fasta=locus_fasta, fastq=fastq_file, mem_gb=interactive_mem_gb, mapping_type=\"map-hifi\", threads=interactive_threads)\n",
    "# !isfile(outfile) && [run(c) for c in cmd]"
   ]
  }
 ],
 "metadata": {
  "kernelspec": {
   "display_name": "Julia 1.10.2",
   "language": "julia",
   "name": "julia-1.10"
  },
  "language_info": {
   "file_extension": ".jl",
   "mimetype": "application/julia",
   "name": "julia",
   "version": "1.10.2"
  }
 },
 "nbformat": 4,
 "nbformat_minor": 5
}
