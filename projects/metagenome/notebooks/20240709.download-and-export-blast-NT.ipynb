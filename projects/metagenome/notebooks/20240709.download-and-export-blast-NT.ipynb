{
 "cells": [
  {
   "cell_type": "code",
   "execution_count": null,
   "id": "89b5c9fd-a800-4d1c-a007-ea67dbd0d9ef",
   "metadata": {
    "tags": []
   },
   "outputs": [],
   "source": [
    "# if hit plotting library issues, try resettProgressMeterath for julia\n",
    "# can set in ~/.local/share/jupyter/kernels/\n",
    "@assert ENV[\"LD_LIBRARY_PATH\"] == \"\"\n",
    "import Pkg\n",
    "Pkg.activate(;temp=true)\n",
    "Pkg.add(\"Revise\")\n",
    "import Revise\n",
    "\n",
    "# Pkg.develop(path=\"/global/cfs/projectdirs/m4269/cjprybol/Mycelia\")\n",
    "# Pkg.develop(path=\"../../..\")\n",
    "Pkg.develop(path=\"$(homedir())/workspace/Mycelia\")\n",
    "import Mycelia\n",
    "\n",
    "pkgs = String[\n",
    "    \"DataFrames\",\n",
    "    \"ProgressMeter\"\n",
    "]\n",
    "Pkg.add(pkgs)\n",
    "for pkg in pkgs\n",
    "    eval(Meta.parse(\"import $pkg\"))\n",
    "end"
   ]
  },
  {
   "cell_type": "code",
   "execution_count": null,
   "id": "0e3ced5d-0140-4f25-bc45-948bf8d4a1cd",
   "metadata": {
    "tags": []
   },
   "outputs": [],
   "source": [
    "# db = \"nt\"\n",
    "# @time path_to_db = Mycelia.download_blast_db(db=db, source=\"ncbi\")\n",
    "# catch the .tar.gzs that weren't extracted\n",
    "# ProgressMeter.@showprogress for x in filter(x -> occursin(path_to_db * \".\", x) && occursin(r\"\\.tar\\.gz$\", x), readdir(dirname(path_to_db), join=true))\n",
    "#     @show x\n",
    "#     run(`tar -C $(dirname(x)) -xf $(x)`)\n",
    "#     if isfile(x)\n",
    "#         rm(x)\n",
    "#     end\n",
    "# end"
   ]
  },
  {
   "cell_type": "code",
   "execution_count": null,
   "id": "ef6dc94c-23cc-40e1-9a06-5e179c04c9b1",
   "metadata": {},
   "outputs": [],
   "source": [
    "# path_to_db = \"/home/cjprybol/workspace/blastdb/nt\"\n",
    "# will require ~ 3-4 days to export on SCG3, had to kill job and start over!\n",
    "@time Mycelia.export_blast_db(path_to_db = path_to_db)"
   ]
  }
 ],
 "metadata": {
  "kernelspec": {
   "display_name": "Julia 1.6.7",
   "language": "julia",
   "name": "julia-1.6"
  },
  "language_info": {
   "file_extension": ".jl",
   "mimetype": "application/julia",
   "name": "julia",
   "version": "1.6.7"
  }
 },
 "nbformat": 4,
 "nbformat_minor": 5
}
