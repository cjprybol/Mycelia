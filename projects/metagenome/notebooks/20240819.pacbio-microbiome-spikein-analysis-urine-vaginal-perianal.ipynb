{
 "cells": [
  {
   "cell_type": "code",
   "execution_count": null,
   "id": "89b5c9fd-a800-4d1c-a007-ea67dbd0d9ef",
   "metadata": {
    "tags": []
   },
   "outputs": [],
   "source": [
    "# if hit plotting library issues, try resetting LD path for julia\n",
    "# can set in ~/.local/share/jupyter/kernels/\n",
    "haskey(ENV, \"LD_LIBRARY_PATH\") && @assert ENV[\"LD_LIBRARY_PATH\"] == \"\"\n",
    "import Pkg\n",
    "Pkg.activate(;temp=true)\n",
    "Pkg.add(\"Revise\")\n",
    "import Revise\n",
    "\n",
    "# Pkg.develop(path=\"/global/cfs/projectdirs/m4269/cjprybol/Mycelia\")\n",
    "# Pkg.develop(path=\"../../..\")\n",
    "Pkg.develop(path=\"$(homedir())/workspace/Mycelia\")\n",
    "import Mycelia\n",
    "\n",
    "pkgs = String[\n",
    "    \"DataFrames\",\n",
    "    \"FASTX\",\n",
    "    \"XAM\",\n",
    "    \"uCSV\",\n",
    "    \"CodecZlib\",\n",
    "    \"ProgressMeter\",\n",
    "    \"StatsBase\",\n",
    "    \"Statistics\",\n",
    "    \"CSV\",\n",
    "    \"Random\",\n",
    "    \"Distributions\",\n",
    "    \"Plots\",\n",
    "    \"OrderedCollections\",\n",
    "    \"StatsPlots\",\n",
    "    \"Colors\"\n",
    "]\n",
    "Pkg.add(pkgs)\n",
    "for pkg in pkgs\n",
    "    eval(Meta.parse(\"import $pkg\"))\n",
    "end"
   ]
  },
  {
   "cell_type": "code",
   "execution_count": null,
   "id": "9c4d0f09-d6bf-47f3-bc27-60fe4259943b",
   "metadata": {
    "tags": []
   },
   "outputs": [],
   "source": [
    "basedir = dirname(pwd())\n",
    "data_dir = joinpath(basedir, \"data\")"
   ]
  },
  {
   "cell_type": "code",
   "execution_count": null,
   "id": "7c9209a6-9590-4818-8cd1-280e883a3317",
   "metadata": {
    "tags": []
   },
   "outputs": [],
   "source": [
    "RUN_ID = \"r64342e_20240621_140056\""
   ]
  },
  {
   "cell_type": "code",
   "execution_count": null,
   "id": "9c7d0fe1-ba3c-4638-ac79-3308ea3f768b",
   "metadata": {
    "tags": []
   },
   "outputs": [],
   "source": [
    "# copy over\n",
    "# run(`rclone copy locus_data_warehouse:Genomics/SequelIIe/$(RUN_ID) $(data_dir)/$(RUN_ID)`)"
   ]
  },
  {
   "cell_type": "code",
   "execution_count": null,
   "id": "ebf17b12-7fd5-41b4-aa35-509a16ab2441",
   "metadata": {
    "tags": []
   },
   "outputs": [],
   "source": [
    "xml = first(filter(x -> occursin(r\"\\.run\\.metadata\\.xml\", x), readdir(joinpath(data_dir, RUN_ID, \"1_A01\"), join=true)))"
   ]
  },
  {
   "cell_type": "code",
   "execution_count": null,
   "id": "c3741efc-4602-4a03-a286-9bfcc1f44e88",
   "metadata": {
    "tags": []
   },
   "outputs": [],
   "source": [
    "sample_to_barcode_table = Mycelia.extract_pacbiosample_information(xml)\n",
    "sample_to_barcode_table = sample_to_barcode_table[map(x -> !occursin(r\"urine\"i, x), sample_to_barcode_table[!, \"BioSampleName\"]), :]"
   ]
  },
  {
   "cell_type": "code",
   "execution_count": null,
   "id": "43dfa072-0dd3-4422-a33b-f85004e5f6be",
   "metadata": {
    "tags": []
   },
   "outputs": [],
   "source": [
    "barcode_directories = filter(x -> occursin(r\"^bc\\d+\", basename(x)) && (basename(x) in Set(sample_to_barcode_table[!, \"BarcodeName\"])), readdir(joinpath(data_dir, RUN_ID, \"1_A01\"), join=true))"
   ]
  },
  {
   "cell_type": "code",
   "execution_count": null,
   "id": "307d6602-1c24-4497-beea-8747e39a26fe",
   "metadata": {
    "tags": []
   },
   "outputs": [],
   "source": [
    "# map to blast NT\n",
    "blast_db = \"nt\"\n",
    "blast_dbs_dir = joinpath([homedir(), \"workspace\", \"blastdb\"])\n",
    "# path_to_db = joinpath(homedir(), \"workspace\", \"blastdb\", blast_db)\n",
    "blast_db_path = joinpath(blast_dbs_dir, blast_db)\n",
    "\n",
    "# # path_to_db = Mycelia.download_blast_db(db=db, source=\"ncbi\")\n",
    "# # compressed_fasta_export = Mycelia.export_blast_db(path_to_db = path_to_db)\n",
    "# compressed_fasta_export = blast_db_path * \".fna.gz\""
   ]
  },
  {
   "cell_type": "code",
   "execution_count": null,
   "id": "2f838dea-a8bc-4b97-8672-624c9aa23700",
   "metadata": {},
   "outputs": [],
   "source": [
    "# # map to Locus internal genomes\n",
    "# # locus_fasta = \"/global/homes/c/cjprybol/workspace/Mycelia/projects/metagenome/data/locus-internal.fna.gz\"\n",
    "\n",
    "# locus_remote_drive = \"locus_genomics_storefront:Reference-Genomes/_Bacterial-Strains/Escherichia\"\n",
    "# folder_contents = readlines(`rclone lsf $(locus_remote_drive)`)\n",
    "# c_strain_folders = filter(x -> occursin(r\"^c\\d{6}\", x), folder_contents)\n",
    "# locus_c_strain_directory = mkpath(joinpath(data_dir, \"locus-c-strains\"))\n",
    "\n",
    "# # didn't work - used them all!!\n",
    "# # ENV[\"JULIA_NUM_THREADS\"] = 4\n",
    "# # Threads.@threads \n",
    "# for c_strain_folder in c_strain_folders\n",
    "#     dir = joinpath(locus_remote_drive, c_strain_folder)\n",
    "#     folder_contents = readlines(`rclone lsf $(dir)`)\n",
    "#     fastas = filter(x -> occursin(Mycelia.FASTA_REGEX, x), folder_contents)\n",
    "#     # display(folder_contents)\n",
    "#     for fasta in fastas\n",
    "#         local_file = joinpath(locus_c_strain_directory, fasta)\n",
    "#         if !isfile(local_file)\n",
    "#             display(fasta)\n",
    "#             remote_file = dir * fasta\n",
    "#             run(`rclone copy $(remote_file) $(locus_c_strain_directory)`)\n",
    "#             @assert isfile(local_file)\n",
    "#         end\n",
    "#     end\n",
    "# end\n",
    "# in_fastas = filter(x -> occursin(Mycelia.FASTA_REGEX, x), readdir(locus_c_strain_directory, join=true))\n",
    "# locus_c_strain_fasta = joinpath(data_dir, \"locus-c-strains.fna\")\n",
    "# Mycelia.merge_fasta_files(fasta_files=in_fastas, fasta_file=locus_c_strain_fasta)\n",
    "\n",
    "locus_c_strain_fasta = joinpath(data_dir, \"locus-c-strains.fna\")"
   ]
  },
  {
   "cell_type": "code",
   "execution_count": null,
   "id": "0694657b-246a-4db6-82be-9342e3999c9c",
   "metadata": {
    "tags": []
   },
   "outputs": [],
   "source": [
    "# # here I made a copy of the fastq file to try submitting to the premium queue\n",
    "# # premium queue jumps straight to the front of the line, but caps @ 5 submissions\n",
    "\n",
    "# for d in barcode_directories\n",
    "#     bam_file = first(filter(x -> occursin(r\"\\.bam\", x), readdir(d, join=true)))\n",
    "#     # 5655.810957 seconds\n",
    "#     # 111.551031 seconds (70.00 k allocations: 4.719 MiB, 0.11% compilation time)\n",
    "#     fastq_file = Mycelia.bam_to_fastq(bam=bam_file)\n",
    "\n",
    "#     cmd, outfile = Mycelia.minimap_map(fasta=locus_c_strain_fasta, fastq=fastq_file, mem_gb=Mycelia.NERSC_MEM, mapping_type=\"map-hifi\", threads=Mycelia.NERSC_CPU, as_string=true)\n",
    "#     # display(outfile)\n",
    "#     # display(cmd)\n",
    "#     # display(outfile)\n",
    "#     if !isfile(outfile)\n",
    "#         println(outfile)\n",
    "#         Mycelia.nersc_sbatch_premium(\n",
    "#             job_name=basename(outfile),\n",
    "#             mail_user=\"cameron.prybol@gmail.com\",\n",
    "#             logdir=mkpath(\"$(homedir())/workspace/slurmlogs\"),\n",
    "#             mem_gb=Mycelia.NERSC_MEM,\n",
    "#             cpus_per_task=Mycelia.NERSC_CPU,\n",
    "#             cmd=cmd)\n",
    "#     end\n",
    "# end"
   ]
  },
  {
   "cell_type": "code",
   "execution_count": null,
   "id": "2a8db99e-504b-4313-a123-181d99e72311",
   "metadata": {},
   "outputs": [],
   "source": [
    "# trigger analysis"
   ]
  },
  {
   "cell_type": "code",
   "execution_count": null,
   "id": "c11736a1-5a5c-4d51-ac54-345c498286ae",
   "metadata": {
    "tags": []
   },
   "outputs": [],
   "source": [
    "# find bam files and read them in - use standard microbiome taxonomy analysis from "
   ]
  },
  {
   "cell_type": "code",
   "execution_count": null,
   "id": "48fc2bfa-6fec-4f06-9c6e-327982865840",
   "metadata": {
    "tags": []
   },
   "outputs": [],
   "source": [
    "barcode_to_xam = Dict()\n",
    "for barcode_directory in barcode_directories\n",
    "    barcode = basename(barcode_directory)\n",
    "    # && occursin(\"locus-c-strains.fna\", x)\n",
    "    xams = filter(x -> occursin(Mycelia.XAM_REGEX, x) && occursin(\".nt.fna.gz\", x), readdir(barcode_directory, join=true))\n",
    "    @show xams\n",
    "    xam = first(xams)\n",
    "    # println(\"$(barcode)\\t$(xam)\")\n",
    "    barcode_to_xam[barcode] = xam\n",
    "end\n",
    "barcode_to_xam\n",
    "sample_to_barcode_table[!, \"xam\"] = [barcode_to_xam[barcode] for barcode in sample_to_barcode_table[!, \"BarcodeName\"]]\n",
    "sample_to_barcode_table"
   ]
  },
  {
   "cell_type": "code",
   "execution_count": null,
   "id": "cf761b2d-261c-411e-86da-54b128638867",
   "metadata": {
    "tags": []
   },
   "outputs": [],
   "source": [
    "xams = sample_to_barcode_table[!, \"xam\"]"
   ]
  },
  {
   "cell_type": "code",
   "execution_count": null,
   "id": "c1aef156-b01f-45a8-8e8e-39b822fc1530",
   "metadata": {
    "tags": []
   },
   "outputs": [],
   "source": [
    "@time blast_db_taxonomy_table = Mycelia.load_blast_db_taxonomy_table(Mycelia.export_blast_db_taxonomy_table(path_to_db = blast_db_path))"
   ]
  },
  {
   "cell_type": "code",
   "execution_count": null,
   "id": "a551b86b-d11d-476e-9da8-fbbe98cc685c",
   "metadata": {
    "tags": []
   },
   "outputs": [],
   "source": [
    "# taxa_level = \"species\"\n",
    "taxa_level = \"genus\"\n",
    "file_to_taxa_relative_abundances = OrderedCollections.OrderedDict{String, Dict{Union{Missing, String}, Float64}}()\n",
    "ProgressMeter.@showprogress for xam in xams\n",
    "    @time record_table = Mycelia.parse_xam_to_mapped_records_table(xam)\n",
    "    record_table = record_table[record_table[!, \"isprimary\"], :]\n",
    "    record_table = DataFrames.innerjoin(record_table, blast_db_taxonomy_table, on=\"reference\" => \"sequence_id\")\n",
    "    unique_taxids = sort(unique(record_table[!, \"taxid\"]))\n",
    "    record_table = DataFrames.innerjoin(record_table, Mycelia.taxids2taxonkit_summarized_lineage_table(unique_taxids), on=\"taxid\")\n",
    "    file_to_taxa_relative_abundances[xam] = Mycelia.normalize_countmap(StatsBase.countmap(record_table[!, taxa_level]))\n",
    "end\n",
    "file_to_taxa_relative_abundances"
   ]
  },
  {
   "cell_type": "code",
   "execution_count": null,
   "id": "7a5c7653-165c-4a41-8f68-0e79cb2e1989",
   "metadata": {
    "tags": []
   },
   "outputs": [],
   "source": [
    "unique_sorted_taxa = unique(sort(collect(reduce(union, keys.(values(file_to_taxa_relative_abundances))))))\n",
    "\n",
    "n_samples = length(file_to_taxa_relative_abundances)\n",
    "\n",
    "abundance_matrix = zeros(length(unique_sorted_taxa), n_samples)\n",
    "taxa_names_to_indices = Dict(t => i for (i, t) in enumerate(unique_sorted_taxa))\n",
    "for (column, (file, abundances)) in enumerate(file_to_taxa_relative_abundances)\n",
    "    # @show column, sample\n",
    "    for (taxa, relative_abundance) in abundances\n",
    "        row = taxa_names_to_indices[taxa]\n",
    "        abundance_matrix[row, column] = relative_abundance\n",
    "    end\n",
    "end\n",
    "abundance_matrix\n",
    "\n",
    "file_to_identifier = Dict(row[\"xam\"] => row[\"BioSampleName\"] for row in DataFrames.eachrow(sample_to_barcode_table))\n",
    "file_labels = [file_to_identifier[k] for k in keys(file_to_taxa_relative_abundances)]\n",
    "abundance_matrix = abundance_matrix[:, sortperm(file_labels)]\n",
    "file_labels = sort(file_labels)\n",
    "\n",
    "# drop human and missing\n",
    "filtered_indices = findall(x -> !(x in Set([\"Homo\", missing])), vec(unique_sorted_taxa))\n",
    "unique_sorted_taxa = unique_sorted_taxa[filtered_indices]\n",
    "abundance_matrix = abundance_matrix[filtered_indices, :]\n",
    "\n",
    "# Calculate the sum of each col\n",
    "col_sums = sum(abundance_matrix, dims=1)\n",
    "# Normalize each element by dividing by the col sum\n",
    "abundance_matrix = abundance_matrix ./ row_sums"
   ]
  },
  {
   "cell_type": "code",
   "execution_count": null,
   "id": "5f020dc8-023a-4d2a-a0f9-50e413516832",
   "metadata": {
    "tags": []
   },
   "outputs": [],
   "source": [
    "# # vaginal_indices\n",
    "# indices = [1, 2, 5, 6]\n",
    "# label = \"vaginal\"\n",
    "# top_N = 10\n",
    "\n",
    "# perianal_indices\n",
    "indices = [3, 4, 7, 8]\n",
    "label = \"perianal\"\n",
    "top_N = 25\n",
    "\n",
    "file_labels_subset = file_labels[indices]\n",
    "abundance_matrix_subset = abundance_matrix[:, indices]\n",
    "\n",
    "sort_perm = sortperm(vec(Statistics.sum(abundance_matrix_subset, dims=2)))\n",
    "unique_sorted_taxa_subset = unique_sorted_taxa[sort_perm]\n",
    "abundance_matrix_subset = abundance_matrix_subset[sort_perm, :]\n",
    "non_zero_indices = findall(vec(Statistics.sum(abundance_matrix_subset, dims=2)) .> 0.0)\n",
    "unique_sorted_taxa_subset = unique_sorted_taxa_subset[non_zero_indices]\n",
    "abundance_matrix_subset = abundance_matrix_subset[non_zero_indices, :]\n",
    "colorscheme = Colors.distinguishable_colors(length(unique_sorted_taxa_subset), [Colors.RGB(1,1,1), Colors.RGB(0,0,0)], dropseed=true)\n",
    "\n",
    "\n",
    "StatsPlots.groupedbar(\n",
    "    abundance_matrix_subset'[:, end-(top_N-1):end],\n",
    "    bar_position = :stack,\n",
    "    bar_width=0.7, \n",
    "    label = hcat(unique_sorted_taxa_subset...)[:, end-(top_N-1):end], \n",
    "    xticks = (1:length(file_labels_subset), sort(file_labels_subset)), \n",
    "    xrotation = 45,\n",
    "    ylabel = \"proportion of reads\",\n",
    "    xlabel = \"$(label) sample\",\n",
    "    # title = \"$(taxa_level) relative abundance (top $(top_N-2))\",\n",
    "    title = \"$(taxa_level) relative abundance (top $(top_N) classified and non-human)\",\n",
    "    legend = :outertopright,\n",
    "    # legend = false,\n",
    "    size = (1000, 500),\n",
    "    margins = 15StatsPlots.Plots.PlotMeasures.mm,\n",
    "    seriescolor = hcat(reverse(colorscheme)...)[:, end-(top_N-1):end]\n",
    ")"
   ]
  }
 ],
 "metadata": {
  "kernelspec": {
   "display_name": "Julia 1.10.2",
   "language": "julia",
   "name": "julia-1.10"
  },
  "language_info": {
   "file_extension": ".jl",
   "mimetype": "application/julia",
   "name": "julia",
   "version": "1.10.2"
  }
 },
 "nbformat": 4,
 "nbformat_minor": 5
}
