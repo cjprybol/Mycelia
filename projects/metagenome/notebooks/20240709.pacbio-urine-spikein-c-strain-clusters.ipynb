{
 "cells": [
  {
   "cell_type": "code",
   "execution_count": null,
   "id": "89b5c9fd-a800-4d1c-a007-ea67dbd0d9ef",
   "metadata": {
    "tags": []
   },
   "outputs": [],
   "source": [
    "# if hit plotting library issues, try resetting LD path for julia\n",
    "# can set in ~/.local/share/jupyter/kernels/\n",
    "haskey(ENV, \"LD_LIBRARY_PATH\") && @assert ENV[\"LD_LIBRARY_PATH\"] == \"\"\n",
    "import Pkg\n",
    "Pkg.activate(;temp=true)\n",
    "Pkg.add(\"Revise\")\n",
    "import Revise\n",
    "\n",
    "# Pkg.develop(path=\"/global/cfs/projectdirs/m4269/cjprybol/Mycelia\")\n",
    "# Pkg.develop(path=\"../../..\")\n",
    "Pkg.develop(path=\"$(homedir())/workspace/Mycelia\")\n",
    "import Mycelia\n",
    "\n",
    "pkgs = String[\n",
    "    \"DataFrames\",\n",
    "    \"FASTX\",\n",
    "    \"XAM\",\n",
    "    \"uCSV\",\n",
    "    \"CodecZlib\",\n",
    "    \"ProgressMeter\",\n",
    "    \"StatsBase\",\n",
    "    \"Statistics\",\n",
    "    \"CSV\",\n",
    "    \"Random\",\n",
    "    \"Distributions\",\n",
    "    \"Plots\",\n",
    "    \"OrderedCollections\",\n",
    "    \"StatsPlots\",\n",
    "    \"Colors\",\n",
    "    \"Clustering\"\n",
    "]\n",
    "Pkg.add(pkgs)\n",
    "for pkg in pkgs\n",
    "    eval(Meta.parse(\"import $pkg\"))\n",
    "end"
   ]
  },
  {
   "cell_type": "code",
   "execution_count": null,
   "id": "c27cea10",
   "metadata": {
    "tags": []
   },
   "outputs": [],
   "source": [
    "basedir = dirname(pwd())\n",
    "data_dir = joinpath(basedir, \"data\")"
   ]
  },
  {
   "cell_type": "code",
   "execution_count": null,
   "id": "f3a68218-6bb4-462a-8708-536108d35fe9",
   "metadata": {
    "tags": []
   },
   "outputs": [],
   "source": [
    "locus_c_strain_directory = mkpath(joinpath(data_dir, \"locus-c-strains\"))"
   ]
  },
  {
   "cell_type": "code",
   "execution_count": null,
   "id": "9fbbce7e-093e-42bc-9524-31b7f8533510",
   "metadata": {
    "tags": []
   },
   "outputs": [],
   "source": [
    "in_fastas = filter(x -> occursin(Mycelia.FASTA_REGEX, x), readdir(locus_c_strain_directory, join=true))\n",
    "# locus_c_strain_fasta = joinpath(data_dir, \"locus-c-strains.fna\")\n",
    "outfile = joinpath(basedir, \"results\", \"20240702.c-strain-ani-analysis.txt\")\n",
    "fasta_list_file = joinpath(data_dir, \"locus-c-strain-file-list.txt\")\n",
    "# open(fasta_list_file, \"w\") do io\n",
    "#     for f in in_fastas\n",
    "#         println(io, f)\n",
    "#     end\n",
    "# end\n",
    "# readlines(fasta_list_file)"
   ]
  },
  {
   "cell_type": "markdown",
   "id": "60e2018b-a4fe-4379-b20d-aba3b133602b",
   "metadata": {},
   "source": [
    "Here we generate clusters so that we can summarize the Urine mapping more cleanly"
   ]
  },
  {
   "cell_type": "code",
   "execution_count": null,
   "id": "97c6a4dc-4fec-404c-be7a-2fb340adbf89",
   "metadata": {
    "tags": []
   },
   "outputs": [],
   "source": [
    "# defaults to using all cores in the system\n",
    "# Mycelia.fastani_list(query_list = fasta_list_file, reference_list = fasta_list_file, threads=8, outfile = outfile)\n",
    "\n",
    "fastani_results = Mycelia.read_fastani(outfile)\n",
    "fastani_results[!, \"query_strain\"] = map(x -> lowercase(match(r\"(c\\d{6})\"i, x).captures[1]), basename.(fastani_results[!, \"query\"]))\n",
    "fastani_results[!, \"reference_strain\"] = map(x -> lowercase(match(r\"(c\\d{6})\"i, x).captures[1]), basename.(fastani_results[!, \"reference\"]))\n",
    "unique_strains = sort(collect(union(fastani_results[!, \"query_strain\"], fastani_results[!, \"reference_strain\"])))\n",
    "\n",
    "strain_to_index_map = Dict(s => i for (i, s) in enumerate(unique_strains))\n",
    "\n",
    "ani_distance_matrix = Array{Float64}(undef, length(unique_strains), length(unique_strains))\n",
    "ani_distance_matrix .= Inf\n",
    "for group in DataFrames.groupby(fastani_results, [\"query_strain\", \"reference_strain\"])\n",
    "    row_index = strain_to_index_map[group[1, \"query_strain\"]]\n",
    "    column_index = strain_to_index_map[group[1, \"reference_strain\"]]\n",
    "    average_percent_identity = Statistics.mean(group[!, \"%_identity\"])\n",
    "    ani_distance_matrix[row_index, column_index] = average_percent_identity\n",
    "end\n",
    "\n",
    "# average across the diagonals to ensure they are symmetric\n",
    "for i in 1:size(ani_distance_matrix, 1)\n",
    "    for j in i+1:size(ani_distance_matrix, 1)\n",
    "        ani_distance_matrix[i, j] = ani_distance_matrix[j, i] = Statistics.mean([ani_distance_matrix[i, j], ani_distance_matrix[j, i]])\n",
    "    end\n",
    "end\n",
    "ani_distance_matrix\n",
    "\n",
    "# convert % ani into a distance\n",
    "for i in eachindex(ani_distance_matrix)\n",
    "    ani_distance_matrix[i] = 1 - (ani_distance_matrix[i] / 100)\n",
    "    if ani_distance_matrix[i] == -Inf\n",
    "        ani_distance_matrix[i] = 1\n",
    "    end\n",
    "end\n",
    "ani_distance_matrix\n",
    "\n",
    "# ?Clustering.hclust\n",
    "hclust_result = Clustering.hclust(ani_distance_matrix, linkage=:average)\n",
    "\n",
    "clusters_995 = Clustering.cutree(hclust_result, h=0.005)\n",
    "\n",
    "# Create a dictionary to store clusters\n",
    "cluster_dict = Dict{Int, Vector{String}}()\n",
    "\n",
    "for (idx, cluster_id) in enumerate(clusters_995)\n",
    "    if haskey(cluster_dict, cluster_id)\n",
    "        push!(cluster_dict[cluster_id], unique_strains[idx])\n",
    "    else\n",
    "        cluster_dict[cluster_id] = [unique_strains[idx]]\n",
    "    end\n",
    "end\n",
    "\n",
    "cluster_dict = sort(cluster_dict)\n",
    "\n",
    "cstrain_to_cluster_map = Dict{String, Int}()\n",
    "for (cluster_id, cluster_members) in cluster_dict\n",
    "    for cluster_member in cluster_members\n",
    "        cstrain_to_cluster_map[cluster_member] = cluster_id\n",
    "    end\n",
    "end\n",
    "cstrain_to_cluster_map"
   ]
  },
  {
   "cell_type": "markdown",
   "id": "d28a48bf-0b9c-4560-96fa-e6dbc9abbf56",
   "metadata": {},
   "source": [
    "Now we load in the Urine data and reanalyze it, reporting cluster identities rather than individual strains"
   ]
  },
  {
   "cell_type": "code",
   "execution_count": null,
   "id": "7c9209a6-9590-4818-8cd1-280e883a3317",
   "metadata": {
    "tags": []
   },
   "outputs": [],
   "source": [
    "RUN_ID = \"r64342e_20240621_140056\""
   ]
  },
  {
   "cell_type": "code",
   "execution_count": null,
   "id": "ebf17b12-7fd5-41b4-aa35-509a16ab2441",
   "metadata": {
    "tags": []
   },
   "outputs": [],
   "source": [
    "xml = first(filter(x -> occursin(r\"\\.run\\.metadata\\.xml\", x), readdir(joinpath(data_dir, RUN_ID, \"1_A01\"), join=true)))"
   ]
  },
  {
   "cell_type": "code",
   "execution_count": null,
   "id": "c3741efc-4602-4a03-a286-9bfcc1f44e88",
   "metadata": {
    "tags": []
   },
   "outputs": [],
   "source": [
    "sample_to_barcode_table = Mycelia.extract_pacbiosample_information(xml)\n",
    "sample_to_barcode_table = sample_to_barcode_table[map(x -> occursin(r\"urine\"i, x), sample_to_barcode_table[!, \"BioSampleName\"]), :]"
   ]
  },
  {
   "cell_type": "code",
   "execution_count": null,
   "id": "43dfa072-0dd3-4422-a33b-f85004e5f6be",
   "metadata": {
    "tags": []
   },
   "outputs": [],
   "source": [
    "barcode_directories = filter(x -> occursin(r\"^bc\\d+\", basename(x)) && (basename(x) in Set(sample_to_barcode_table[!, \"BarcodeName\"])), readdir(joinpath(data_dir, RUN_ID, \"1_A01\"), join=true))"
   ]
  },
  {
   "cell_type": "code",
   "execution_count": null,
   "id": "307d6602-1c24-4497-beea-8747e39a26fe",
   "metadata": {
    "tags": []
   },
   "outputs": [],
   "source": [
    "# map to blast NT\n",
    "blast_db = \"nt\"\n",
    "blast_dbs_dir = joinpath([homedir(), \"workspace\", \"blastdb\"])\n",
    "blast_db_path = joinpath(blast_dbs_dir, blast_db)"
   ]
  },
  {
   "cell_type": "code",
   "execution_count": null,
   "id": "2f838dea-a8bc-4b97-8672-624c9aa23700",
   "metadata": {
    "tags": []
   },
   "outputs": [],
   "source": [
    "locus_c_strain_fasta = joinpath(data_dir, \"locus-c-strains.fna\")"
   ]
  },
  {
   "cell_type": "code",
   "execution_count": null,
   "id": "48fc2bfa-6fec-4f06-9c6e-327982865840",
   "metadata": {
    "tags": []
   },
   "outputs": [],
   "source": [
    "barcode_to_xam = Dict()\n",
    "for barcode_directory in barcode_directories\n",
    "    barcode = basename(barcode_directory)\n",
    "    xams = filter(x -> occursin(Mycelia.XAM_REGEX, x) && occursin(\"locus-c-strains.fna\", x), readdir(barcode_directory, join=true))\n",
    "    xam = first(xams)\n",
    "    # println(\"$(barcode)\\t$(xam)\")\n",
    "    barcode_to_xam[barcode] = xam\n",
    "end\n",
    "barcode_to_xam\n",
    "sample_to_barcode_table[!, \"xam\"] = [barcode_to_xam[barcode] for barcode in sample_to_barcode_table[!, \"BarcodeName\"]]\n",
    "sample_to_barcode_table"
   ]
  },
  {
   "cell_type": "code",
   "execution_count": null,
   "id": "cf761b2d-261c-411e-86da-54b128638867",
   "metadata": {
    "tags": []
   },
   "outputs": [],
   "source": [
    "xams = sample_to_barcode_table[!, \"xam\"]"
   ]
  },
  {
   "cell_type": "code",
   "execution_count": null,
   "id": "44983e6e-8784-4e54-9c66-7846c823ea78",
   "metadata": {
    "tags": []
   },
   "outputs": [],
   "source": [
    "# taxa_level = \"species\"\n",
    "# when using cnumbers\n",
    "# file_to_taxa_relative_abundances = OrderedCollections.OrderedDict{String, Dict{Union{Missing, String}, Float64}}()\n",
    "# when using cluster IDs\n",
    "file_to_taxa_relative_abundances = OrderedCollections.OrderedDict{String, Dict{Union{Missing, Int}, Float64}}()\n",
    "ProgressMeter.@showprogress for xam in xams\n",
    "    @time record_table = Mycelia.parse_xam_to_mapped_records_table(xam)\n",
    "    record_table = record_table[record_table[!, \"isprimary\"], :]\n",
    "    record_table[!, \"top_hit_strain\"] = map(x -> lowercase(match(r\"(c\\d{6})\"i, x).captures[1]), record_table[!, \"reference\"])\n",
    "    # NEW! HERE WE CONVERT FROM STRAIN TO CLUSTER\n",
    "    record_table[!, \"strain_cluster\"] = map(x -> cstrain_to_cluster_map[x], record_table[!, \"top_hit_strain\"])\n",
    "    file_to_taxa_relative_abundances[xam] =  Mycelia.normalize_countmap(StatsBase.countmap(record_table[!, \"strain_cluster\"]))\n",
    "end\n",
    "file_to_taxa_relative_abundances"
   ]
  },
  {
   "cell_type": "code",
   "execution_count": null,
   "id": "3a38a9d8-d975-4bc1-bf27-0403351615de",
   "metadata": {
    "tags": []
   },
   "outputs": [],
   "source": [
    "unique_sorted_taxa = unique(sort(collect(reduce(union, keys.(values(file_to_taxa_relative_abundances))))))"
   ]
  },
  {
   "cell_type": "code",
   "execution_count": null,
   "id": "f1445072-0711-4d55-a017-4f3808c277b4",
   "metadata": {
    "tags": []
   },
   "outputs": [],
   "source": [
    "n_samples = length(file_to_taxa_relative_abundances)"
   ]
  },
  {
   "cell_type": "code",
   "execution_count": null,
   "id": "8a252df6-4ebe-4fa4-a3e0-6cab5eaae2f8",
   "metadata": {
    "tags": []
   },
   "outputs": [],
   "source": [
    "abundance_matrix = zeros(length(unique_sorted_taxa), n_samples)\n",
    "taxa_names_to_indices = Dict(t => i for (i, t) in enumerate(unique_sorted_taxa))\n",
    "for (column, (file, abundances)) in enumerate(file_to_taxa_relative_abundances)\n",
    "    # @show column, sample\n",
    "    for (taxa, relative_abundance) in abundances\n",
    "        row = taxa_names_to_indices[taxa]\n",
    "        abundance_matrix[row, column] = relative_abundance\n",
    "    end\n",
    "end\n",
    "abundance_matrix"
   ]
  },
  {
   "cell_type": "code",
   "execution_count": null,
   "id": "682449ca-4a16-43cd-98cc-62b71b9aa8f3",
   "metadata": {
    "tags": []
   },
   "outputs": [],
   "source": [
    "abundance_sort_perm = sortperm(abundance_matrix, dims=1)"
   ]
  },
  {
   "cell_type": "code",
   "execution_count": null,
   "id": "9ad18f24-1a25-4c47-84c4-a7bcdabb0305",
   "metadata": {
    "tags": []
   },
   "outputs": [],
   "source": [
    "abundance_matrix[abundance_sort_perm]"
   ]
  },
  {
   "cell_type": "code",
   "execution_count": null,
   "id": "d959df01-5bb9-46b7-861c-e00bede543e9",
   "metadata": {
    "tags": []
   },
   "outputs": [],
   "source": [
    "file_to_identifier = Dict(row[\"xam\"] => row[\"BioSampleName\"] for row in DataFrames.eachrow(sample_to_barcode_table))"
   ]
  },
  {
   "cell_type": "code",
   "execution_count": null,
   "id": "e7ab685c-d337-424f-87fe-e9c96b81d586",
   "metadata": {
    "tags": []
   },
   "outputs": [],
   "source": [
    "colorscheme = Colors.distinguishable_colors(length(unique_sorted_taxa), [Colors.RGB(1,1,1), Colors.RGB(0,0,0)], dropseed=true)"
   ]
  },
  {
   "cell_type": "code",
   "execution_count": null,
   "id": "3508dcb7-2e67-4726-a8fe-7240edb9eb06",
   "metadata": {
    "tags": []
   },
   "outputs": [],
   "source": [
    "# ## BASE - INCLUDES EVERYTHING\n",
    "# # Find the sort permutation of the row means vector\n",
    "# sort_perm = sortperm(vec(Statistics.mean(abundance_matrix, dims=2)))\n",
    "# file_labels = [file_to_identifier[k] for k in keys(file_to_taxa_relative_abundances)]\n",
    "# StatsPlots.groupedbar(\n",
    "#     abundance_matrix[sort_perm, :]',\n",
    "#     bar_position = :stack,\n",
    "#     bar_width=0.7, \n",
    "#     # label = permutedims(unique_sorted_taxa[sort_perm]),\n",
    "#     label = false,\n",
    "#     xticks = (1:size(abundance_matrix, 2), file_labels), \n",
    "#     xrotation = 45,\n",
    "#     ylabel = \"proportion of reads\", \n",
    "#     xlabel = \"Subsampling proportion\",\n",
    "#     title = \"Species relative abundance\",\n",
    "#     legend = :outertopright,\n",
    "#     size = (1000, 500),\n",
    "#     margins = 10StatsPlots.Plots.PlotMeasures.mm,\n",
    "#     seriescolor = hcat(reverse(colorscheme)...)\n",
    "# )"
   ]
  },
  {
   "cell_type": "code",
   "execution_count": null,
   "id": "72b14e56-4752-4a6c-9bba-67139009224b",
   "metadata": {
    "tags": []
   },
   "outputs": [],
   "source": [
    "top_N = 10\n",
    "# Find the sort permutation of the row means vector\n",
    "sort_perm = sortperm(vec(Statistics.mean(abundance_matrix, dims=2)))\n",
    "file_labels = [file_to_identifier[k] for k in keys(file_to_taxa_relative_abundances)]\n",
    "StatsPlots.groupedbar(\n",
    "    abundance_matrix[sort_perm, :]'[:, end-(top_N-1):end],\n",
    "    bar_position = :stack,\n",
    "    bar_width=0.7,\n",
    "    label = permutedims(unique_sorted_taxa[sort_perm])[:, end-(top_N-1):end], \n",
    "    xticks = (1:size(abundance_matrix, 2), file_labels), \n",
    "    xrotation = 45,\n",
    "    ylabel = \"proportion of reads\", \n",
    "    xlabel = \"Subsampling proportion\",\n",
    "    title = \"Strain relative abundance\",\n",
    "    legend = :outertopright,\n",
    "    legendtitle = \"cluster ID\",\n",
    "    size = (1000, 500),\n",
    "    margins = 10StatsPlots.Plots.PlotMeasures.mm,\n",
    "    seriescolor = hcat(reverse(colorscheme)...)[:, end-(top_N-1):end]\n",
    ")"
   ]
  },
  {
   "cell_type": "code",
   "execution_count": null,
   "id": "bacc400a-d700-4fec-bf2f-349a8012513f",
   "metadata": {
    "tags": []
   },
   "outputs": [],
   "source": [
    "uCSV.write(joinpath(data_dir, \"c-strain-clusterings-99.5ANI.tsv\"), DataFrames.DataFrame(strain = unique_strains, cluster_995 = clusters_995), delim='\\t')"
   ]
  }
 ],
 "metadata": {
  "kernelspec": {
   "display_name": "Julia 1.10.2",
   "language": "julia",
   "name": "julia-1.10"
  },
  "language_info": {
   "file_extension": ".jl",
   "mimetype": "application/julia",
   "name": "julia",
   "version": "1.10.2"
  }
 },
 "nbformat": 4,
 "nbformat_minor": 5
}
