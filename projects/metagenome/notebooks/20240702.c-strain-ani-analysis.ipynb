{
 "cells": [
  {
   "cell_type": "code",
   "execution_count": null,
   "id": "89b5c9fd-a800-4d1c-a007-ea67dbd0d9ef",
   "metadata": {
    "tags": []
   },
   "outputs": [],
   "source": [
    "# if hit plotting library issues, try resetting LD path for julia\n",
    "# can set in ~/.local/share/jupyter/kernels/\n",
    "haskey(ENV, \"LD_LIBRARY_PATH\") && @assert ENV[\"LD_LIBRARY_PATH\"] == \"\"\n",
    "import Pkg\n",
    "Pkg.activate(;temp=true)\n",
    "Pkg.add(\"Revise\")\n",
    "import Revise\n",
    "\n",
    "# Pkg.develop(path=\"/global/cfs/projectdirs/m4269/cjprybol/Mycelia\")\n",
    "# Pkg.develop(path=\"../../..\")\n",
    "Pkg.develop(path=\"$(homedir())/workspace/Mycelia\")\n",
    "import Mycelia\n",
    "\n",
    "pkgs = String[\n",
    "    \"DataFrames\",\n",
    "    \"FASTX\",\n",
    "    \"XAM\",\n",
    "    \"uCSV\",\n",
    "    \"CodecZlib\",\n",
    "    \"ProgressMeter\",\n",
    "    \"StatsBase\",\n",
    "    \"Statistics\",\n",
    "    \"CSV\",\n",
    "    \"Random\",\n",
    "    \"Distributions\",\n",
    "    \"Plots\",\n",
    "    \"OrderedCollections\",\n",
    "    \"StatsPlots\",\n",
    "    \"Colors\",\n",
    "    \"Clustering\"\n",
    "]\n",
    "Pkg.add(pkgs)\n",
    "for pkg in pkgs\n",
    "    eval(Meta.parse(\"import $pkg\"))\n",
    "end"
   ]
  },
  {
   "cell_type": "code",
   "execution_count": null,
   "id": "9c4d0f09-d6bf-47f3-bc27-60fe4259943b",
   "metadata": {
    "tags": []
   },
   "outputs": [],
   "source": [
    "basedir = dirname(pwd())\n",
    "data_dir = joinpath(basedir, \"data\")"
   ]
  },
  {
   "cell_type": "code",
   "execution_count": null,
   "id": "f3a68218-6bb4-462a-8708-536108d35fe9",
   "metadata": {
    "tags": []
   },
   "outputs": [],
   "source": [
    "locus_c_strain_directory = mkpath(joinpath(data_dir, \"locus-c-strains\"))"
   ]
  },
  {
   "cell_type": "code",
   "execution_count": null,
   "id": "9fbbce7e-093e-42bc-9524-31b7f8533510",
   "metadata": {},
   "outputs": [],
   "source": [
    "in_fastas = filter(x -> occursin(Mycelia.FASTA_REGEX, x), readdir(locus_c_strain_directory, join=true))\n",
    "# locus_c_strain_fasta = joinpath(data_dir, \"locus-c-strains.fna\")\n",
    "outfile = joinpath(basedir, \"results\", \"20240702.c-strain-ani-analysis.txt\")\n",
    "fasta_list_file = joinpath(data_dir, \"locus-c-strain-file-list.txt\")\n",
    "open(fasta_list_file, \"w\") do io\n",
    "    for f in in_fastas\n",
    "        println(io, f)\n",
    "    end\n",
    "end\n",
    "readlines(fasta_list_file)"
   ]
  },
  {
   "cell_type": "code",
   "execution_count": null,
   "id": "5a05b502-a62c-4886-b315-198e5778dbfa",
   "metadata": {
    "tags": []
   },
   "outputs": [],
   "source": [
    "# defaults to using all cores in the system\n",
    "# Mycelia.fastani_list(query_list = fasta_list_file, reference_list = fasta_list_file, threads=8, outfile = outfile)\n",
    "\n",
    "fastani_results = Mycelia.read_fastani(outfile)\n",
    "fastani_results[!, \"query_strain\"] = map(x -> lowercase(match(r\"(c\\d{6})\"i, x).captures[1]), basename.(fastani_results[!, \"query\"]))\n",
    "fastani_results[!, \"reference_strain\"] = map(x -> lowercase(match(r\"(c\\d{6})\"i, x).captures[1]), basename.(fastani_results[!, \"reference\"]))\n",
    "unique_strains = sort(collect(union(fastani_results[!, \"query_strain\"], fastani_results[!, \"reference_strain\"])))"
   ]
  },
  {
   "cell_type": "code",
   "execution_count": null,
   "id": "62ce8e8c-daa3-4682-a938-de05b17c7eb0",
   "metadata": {
    "tags": []
   },
   "outputs": [],
   "source": [
    "strain_to_index_map = Dict(s => i for (i, s) in enumerate(unique_strains))"
   ]
  },
  {
   "cell_type": "code",
   "execution_count": null,
   "id": "27f1a6a9-5ced-4c91-b2b4-e83517d56f65",
   "metadata": {
    "tags": []
   },
   "outputs": [],
   "source": [
    "ani_distance_matrix = Array{Float64}(undef, length(unique_strains), length(unique_strains))\n",
    "ani_distance_matrix .= Inf\n",
    "for group in DataFrames.groupby(fastani_results, [\"query_strain\", \"reference_strain\"])\n",
    "    row_index = strain_to_index_map[group[1, \"query_strain\"]]\n",
    "    column_index = strain_to_index_map[group[1, \"reference_strain\"]]\n",
    "    average_percent_identity = Statistics.mean(group[!, \"%_identity\"])\n",
    "    ani_distance_matrix[row_index, column_index] = average_percent_identity\n",
    "end\n",
    "\n",
    "# average across the diagonals to ensure they are symmetric\n",
    "for i in 1:size(ani_distance_matrix, 1)\n",
    "    for j in i+1:size(ani_distance_matrix, 1)\n",
    "        ani_distance_matrix[i, j] = ani_distance_matrix[j, i] = Statistics.mean([ani_distance_matrix[i, j], ani_distance_matrix[j, i]])\n",
    "    end\n",
    "end\n",
    "ani_distance_matrix\n",
    "\n",
    "# convert % ani into a distance\n",
    "for i in eachindex(ani_distance_matrix)\n",
    "    ani_distance_matrix[i] = 1 - (ani_distance_matrix[i] / 100)\n",
    "    if ani_distance_matrix[i] == -Inf\n",
    "        ani_distance_matrix[i] = 1\n",
    "    end\n",
    "end\n",
    "ani_distance_matrix"
   ]
  },
  {
   "cell_type": "code",
   "execution_count": null,
   "id": "3622df39-8309-4aa7-a140-d57f76eff879",
   "metadata": {
    "tags": []
   },
   "outputs": [],
   "source": [
    "optimal_clustering_assessment = Mycelia.fit_optimal_number_of_clusters(ani_distance_matrix)"
   ]
  },
  {
   "cell_type": "code",
   "execution_count": null,
   "id": "baa24338-aa81-43e2-a135-eb854950df61",
   "metadata": {
    "tags": []
   },
   "outputs": [],
   "source": [
    "clustering_result = Clustering.kmeans(ani_distance_matrix, optimal_clustering_assessment.optimal_number_of_clusters)"
   ]
  },
  {
   "cell_type": "code",
   "execution_count": null,
   "id": "3101ddd6-2904-4d54-a5c3-14566285985a",
   "metadata": {
    "tags": []
   },
   "outputs": [],
   "source": [
    "clustering_result.assignments"
   ]
  },
  {
   "cell_type": "code",
   "execution_count": null,
   "id": "d796daa3-f697-4e33-932e-0cac25fa54a1",
   "metadata": {
    "tags": []
   },
   "outputs": [],
   "source": [
    "group_1_strains = unique_strains[clustering_result.assignments .== 1]"
   ]
  },
  {
   "cell_type": "code",
   "execution_count": null,
   "id": "997ed3b2-94b0-464e-aa75-d3301ae7e758",
   "metadata": {
    "tags": []
   },
   "outputs": [],
   "source": [
    "group_2_strains = unique_strains[clustering_result.assignments .== 2]"
   ]
  },
  {
   "cell_type": "code",
   "execution_count": null,
   "id": "01e50d48-2855-4227-a813-2db3dc354346",
   "metadata": {
    "tags": []
   },
   "outputs": [],
   "source": [
    "group_3_strains = unique_strains[clustering_result.assignments .== 3]"
   ]
  },
  {
   "cell_type": "code",
   "execution_count": null,
   "id": "06a9059a-0e21-47d2-af8f-a9e33e19526b",
   "metadata": {
    "tags": []
   },
   "outputs": [],
   "source": [
    "(1 .- ani_distance_matrix[clustering_result.assignments .== 1, clustering_result.assignments .== 1]) .* 100"
   ]
  },
  {
   "cell_type": "code",
   "execution_count": null,
   "id": "d217de99-709f-4d3f-b357-1482ea585f75",
   "metadata": {
    "tags": []
   },
   "outputs": [],
   "source": [
    "(1 .- ani_distance_matrix[clustering_result.assignments .== 2, clustering_result.assignments .== 2]) .* 100"
   ]
  },
  {
   "cell_type": "code",
   "execution_count": null,
   "id": "1bcc22d9-ad09-40c8-89ed-988220a6e044",
   "metadata": {
    "tags": []
   },
   "outputs": [],
   "source": [
    "(1 .- ani_distance_matrix[clustering_result.assignments .== 3, clustering_result.assignments .== 3]) .* 100"
   ]
  },
  {
   "cell_type": "code",
   "execution_count": null,
   "id": "61b43880-4728-4be8-be7f-337924ec3a93",
   "metadata": {
    "tags": []
   },
   "outputs": [],
   "source": [
    "newick_outfile = outfile * \".newick\""
   ]
  },
  {
   "cell_type": "code",
   "execution_count": null,
   "id": "c17ccb65-97e7-42dc-8d12-e012b9acf485",
   "metadata": {
    "tags": []
   },
   "outputs": [],
   "source": [
    "Mycelia.distance_matrix_to_newick(distance_matrix = ani_distance_matrix, labels = unique_strains, outfile = newick_outfile)"
   ]
  },
  {
   "cell_type": "code",
   "execution_count": null,
   "id": "f0db7db5-2781-4fed-929e-5c270f1f5816",
   "metadata": {},
   "outputs": [],
   "source": [
    "unique_strains"
   ]
  },
  {
   "cell_type": "code",
   "execution_count": null,
   "id": "d4857b43-d2e6-4352-b4ee-b19c8d2bfa7b",
   "metadata": {
    "tags": []
   },
   "outputs": [],
   "source": [
    "strains_of_interest = [\n",
    "    strain_to_index_map[\"c000835\"],\n",
    "    strain_to_index_map[\"c000836\"],\n",
    "    strain_to_index_map[\"c000837\"],\n",
    "    strain_to_index_map[\"c000838\"],\n",
    "    strain_to_index_map[\"c000839\"]\n",
    "]\n",
    "\n",
    "(1 .- ani_distance_matrix[strains_of_interest, strains_of_interest]) .* 100"
   ]
  },
  {
   "cell_type": "code",
   "execution_count": null,
   "id": "d628ae4e-c52c-46f3-874a-954f00729b14",
   "metadata": {
    "tags": []
   },
   "outputs": [],
   "source": [
    "ani_similarity_matrix = (1 .- ani_distance_matrix) .* 100"
   ]
  },
  {
   "cell_type": "code",
   "execution_count": null,
   "id": "ba32545f-1e1b-43d0-9e22-b9c997b7bec1",
   "metadata": {
    "tags": []
   },
   "outputs": [],
   "source": [
    "similar_indices = Int[]\n",
    "for s in strains_of_interest\n",
    "    append!(similar_indices, findall(ani_similarity_matrix[s, :] .>= 99.5))\n",
    "end\n",
    "similar_indices = sort(unique(similar_indices))"
   ]
  },
  {
   "cell_type": "code",
   "execution_count": null,
   "id": "1e304943-9948-420e-8df0-04a39d6846fb",
   "metadata": {
    "tags": []
   },
   "outputs": [],
   "source": [
    "tagged_strains = deepcopy(unique_strains)\n",
    "for s in similar_indices\n",
    "    tagged_strains[s] = tagged_strains[s] * \"_99.5\"\n",
    "end\n",
    "tagged_strains"
   ]
  },
  {
   "cell_type": "code",
   "execution_count": null,
   "id": "0e7809bd-39a5-43c3-9050-8e76e96caeea",
   "metadata": {
    "tags": []
   },
   "outputs": [],
   "source": [
    "tagged_newick = Mycelia.distance_matrix_to_newick(distance_matrix = ani_distance_matrix, labels = tagged_strains, outfile = newick_outfile = outfile * \".tagged.newick\")"
   ]
  },
  {
   "cell_type": "code",
   "execution_count": null,
   "id": "e6ec3b80-2d69-4daf-99d4-9a89b3599d99",
   "metadata": {},
   "outputs": [],
   "source": [
    "# ./fastANI --ql [QUERY_LIST] --rl [REFERENCE_LIST] -o [OUTPUT_FILE]"
   ]
  }
 ],
 "metadata": {
  "kernelspec": {
   "display_name": "Julia 1.10.2",
   "language": "julia",
   "name": "julia-1.10"
  },
  "language_info": {
   "file_extension": ".jl",
   "mimetype": "application/julia",
   "name": "julia",
   "version": "1.10.2"
  }
 },
 "nbformat": 4,
 "nbformat_minor": 5
}
