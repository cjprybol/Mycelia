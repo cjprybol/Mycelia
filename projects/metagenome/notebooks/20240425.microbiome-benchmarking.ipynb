{
 "cells": [
  {
   "cell_type": "code",
   "execution_count": null,
   "metadata": {
    "tags": []
   },
   "outputs": [],
   "source": [
    "# parameters"
   ]
  },
  {
   "cell_type": "code",
   "execution_count": null,
   "metadata": {
    "tags": []
   },
   "outputs": [],
   "source": [
    "import Pkg\n",
    "Pkg.activate(;temp=true)\n",
    "Pkg.add(\"Revise\")\n",
    "import Revise\n",
    "\n",
    "Pkg.develop(path=\"$(homedir())/workspace/Mycelia\")\n",
    "import Mycelia\n",
    "\n",
    "pkgs = String[\n",
    "    \"DataFrames\"\n",
    "]\n",
    "Pkg.add(pkgs)\n",
    "for pkg in pkgs\n",
    "    eval(Meta.parse(\"import $pkg\"))\n",
    "end"
   ]
  },
  {
   "cell_type": "code",
   "execution_count": null,
   "metadata": {
    "tags": []
   },
   "outputs": [],
   "source": [
    "Mycelia.NERSC_CPU"
   ]
  },
  {
   "cell_type": "code",
   "execution_count": null,
   "metadata": {
    "tags": []
   },
   "outputs": [],
   "source": [
    "mem_gb = Int(floor(Mycelia.NERSC_MEM * .9))"
   ]
  },
  {
   "cell_type": "code",
   "execution_count": null,
   "metadata": {
    "tags": []
   },
   "outputs": [],
   "source": [
    "cores = Mycelia.NERSC_CPU"
   ]
  },
  {
   "cell_type": "code",
   "execution_count": null,
   "metadata": {},
   "outputs": [],
   "source": [
    "# minimap2 [-x preset] -d target.mmi target.fa\n",
    "# minimap2 -a [-x preset] target.mmi query.fa > output.sam"
   ]
  },
  {
   "cell_type": "code",
   "execution_count": null,
   "metadata": {
    "tags": []
   },
   "outputs": [],
   "source": [
    "function minimap_pacbio_index(;\n",
    "        reference_fasta,\n",
    "        outfile = reference_fasta * \"\",\n",
    "        threads = 4,\n",
    "        memory = Sys.total_memory(),\n",
    "        shell_only = false\n",
    "    )\n",
    "    # 4G is the default\n",
    "    # smaller, higher diversity databases do better with 5+ as the denominator - w/ <=4 they run out of memory\n",
    "    index_chunk_size = \"$(Int(floor(memory/5e9)))G\"\n",
    "    @show index_chunk_size\n",
    "    @show threads\n",
    "    Mycelia.add_bioconda_env(\"minimap2\")\n",
    "    outfile = \"$(reference_fasta).I$(index_chunk_size).x_map-hifi.mmi\"\n",
    "    if shell_only\n",
    "        cmd =\n",
    "        \"\"\"\n",
    "        $(Mycelia.CONDA_RUNNER) run --live-stream -n minimap2 minimap2 -t $(threads) -I$(index_chunk_size) -x map-hifi $(reference_fasta) -d $(outfile)\n",
    "        \"\"\"\n",
    "        return cmd\n",
    "    else\n",
    "        if !isfile(outfile)\n",
    "            cmd = `$(Mycelia.CONDA_RUNNER) run --live-stream -n minimap2 minimap2 -t $(threads) -I$(index_chunk_size) -x map-hifi $(reference_fasta) -d $(outfile)`\n",
    "            run(cmd)\n",
    "            @assert isfile(outfile)\n",
    "        else\n",
    "            @info \"$(outfile) already present\"\n",
    "        end\n",
    "    end\n",
    "end\n",
    "\n",
    "# sample 1 - prokaryotic only\n",
    "cmd = minimap_pacbio_index(\n",
    "    reference_fasta = reference_fasta,\n",
    "    shell_only = true,\n",
    "    threads = cores,\n",
    "    memory = mem_gb * 1e9\n",
    ")"
   ]
  },
  {
   "cell_type": "code",
   "execution_count": null,
   "metadata": {
    "tags": []
   },
   "outputs": [],
   "source": [
    "job_name = \"$(basename(reference_fasta)).mmi\"\n",
    "println(job_name)\n",
    "\n",
    "Mycelia.nersc_sbatch_premium(\n",
    "    job_name=job_name,\n",
    "    mail_user=\"cameron.prybol@gmail.com\",\n",
    "    logdir=mkpath(\"$(homedir())/workspace/slurmlogs\"),\n",
    "    mem_gb=mem_gb,\n",
    "    cpus_per_task=cores,\n",
    "    cmd=cmd)"
   ]
  },
  {
   "cell_type": "code",
   "execution_count": null,
   "metadata": {
    "tags": []
   },
   "outputs": [],
   "source": [
    "# reference_fasta = \"$(homedir())/workspace/blastdb/nt_prok.fna.gz\"\n",
    "reference_fasta = \"$(homedir())/workspace/blastdb/nt.fna.gz\"\n",
    "\n",
    "# fastq = \"/global/homes/c/cjprybol/workspace/Mycelia/projects/metagenome/data/SRR9202034/SRR9202034.seqkit.P0.0001.fq.gz\"\n",
    "# fastq = \"/global/homes/c/cjprybol/workspace/Mycelia/projects/metagenome/data/SRR9202034/SRR9202034.seqkit.P0.001.fq.gz\"\n",
    "# fastq = \"/global/homes/c/cjprybol/workspace/Mycelia/projects/metagenome/data/SRR9202034/SRR9202034.seqkit.P0.01.fq.gz\"\n",
    "# fastq = \"/global/homes/c/cjprybol/workspace/Mycelia/projects/metagenome/data/SRR9202034/SRR9202034.seqkit.P0.1.fq.gz\"\n",
    "fastq = \"/global/homes/c/cjprybol/workspace/Mycelia/projects/metagenome/data/SRR9202034/SRR9202034.fastq.gz\"\n",
    "\n",
    "# sample 1 - prokaryotic only\n",
    "cmd = Mycelia.map_pacbio_reads(\n",
    "    fastq = fastq,\n",
    "    reference_fasta = reference_fasta,\n",
    "    shell_only = true,\n",
    "    threads = cores,\n",
    "    memory = mem_gb * 1e9\n",
    ")\n",
    "\n",
    "\n",
    "\n",
    "job_name = basename(fastq) * \"_\" * basename(reference_fasta)\n",
    "print(job_name)\n",
    "# Mycelia.nersc_sbatch(\n",
    "#     job_name=job_name,\n",
    "#     mail_user=\"cameron.prybol@gmail.com\",\n",
    "#     cpus_per_task=cores,\n",
    "#     mem_gb=mem_gb,\n",
    "#     qos=\"premium\",\n",
    "#     logdir=mkpath(\"$(homedir())/workspace/slurmlogs\"),\n",
    "#     cmd=cmd)\n",
    "\n",
    "Mycelia.nersc_sbatch_regular(\n",
    "    job_name=job_name,\n",
    "    mail_user=\"cameron.prybol@gmail.com\",\n",
    "    logdir=mkpath(\"$(homedir())/workspace/slurmlogs\"),\n",
    "    mem_gb=mem_gb,\n",
    "    cpus_per_task=cores,\n",
    "    cmd=cmd)"
   ]
  },
  {
   "cell_type": "code",
   "execution_count": null,
   "metadata": {
    "tags": []
   },
   "outputs": [],
   "source": [
    "@time Mycelia.map_pacbio_reads(\n",
    "    fastq = fastq,\n",
    "    reference_fasta = \"$(homedir())/workspace/blastdb/nt_viruses.fna.gz\",\n",
    ")"
   ]
  },
  {
   "cell_type": "code",
   "execution_count": null,
   "metadata": {
    "tags": []
   },
   "outputs": [],
   "source": [
    "@time Mycelia.map_pacbio_reads(\n",
    "    fastq = fastq,\n",
    "    reference_fasta = \"$(homedir())/workspace/blastdb/nt_others.fna.gz\",\n",
    ")"
   ]
  },
  {
   "cell_type": "code",
   "execution_count": null,
   "metadata": {
    "tags": []
   },
   "outputs": [],
   "source": [
    "# sample 1 - protozoa\n",
    "@time Mycelia.map_pacbio_reads(\n",
    "    fastq = fastq,\n",
    "    reference_fasta = \"$(homedir())/workspace/blastdb/protozoa.fna.gz\",\n",
    ")"
   ]
  },
  {
   "cell_type": "code",
   "execution_count": null,
   "metadata": {
    "tags": []
   },
   "outputs": [],
   "source": [
    "@time Mycelia.map_pacbio_reads(\n",
    "    fastq = fastq,\n",
    "    reference_fasta = \"$(homedir())/workspace/blastdb/fungi.fna.gz\",\n",
    ")"
   ]
  },
  {
   "cell_type": "code",
   "execution_count": null,
   "metadata": {
    "tags": []
   },
   "outputs": [],
   "source": [
    "# sample 1 - plant only\n",
    "@time Mycelia.map_pacbio_reads(\n",
    "    fastq = fastq,\n",
    "    reference_fasta = \"$(homedir())/workspace/blastdb/plant.fna.gz\",\n",
    ")"
   ]
  },
  {
   "cell_type": "code",
   "execution_count": null,
   "metadata": {
    "tags": []
   },
   "outputs": [],
   "source": [
    "# sample 1 - invertebrate only\n",
    "@time Mycelia.map_pacbio_reads(\n",
    "    fastq = fastq,\n",
    "    # reference_fasta = \"$(homedir())/workspace/blastdb/invertebrate.fna.gz\",\n",
    "    reference_fasta = \"$(homedir())/workspace/blastdb/invertebrate.deduped.fna.gz\"\n",
    ")"
   ]
  },
  {
   "cell_type": "code",
   "execution_count": null,
   "metadata": {
    "tags": []
   },
   "outputs": [],
   "source": [
    "# sample 1 - vertebrate_other\n",
    "@time Mycelia.map_pacbio_reads(\n",
    "    fastq = fastq,\n",
    "    reference_fasta = \"$(homedir())/workspace/blastdb/vertebrate_other.fna.gz\",\n",
    ")"
   ]
  },
  {
   "cell_type": "code",
   "execution_count": null,
   "metadata": {
    "tags": []
   },
   "outputs": [],
   "source": [
    "# sample 1 - vertebrate_mammal\n",
    "@time Mycelia.map_pacbio_reads(\n",
    "    fastq = fastq,\n",
    "    reference_fasta = \"$(homedir())/workspace/blastdb/vertebrate_mammalian.fna.gz\",\n",
    ")"
   ]
  },
  {
   "cell_type": "code",
   "execution_count": null,
   "metadata": {},
   "outputs": [],
   "source": [
    "## QUESTION 1 - ARE ALIGNMENTS & MAPQ STABLE OR DO THEY CHANGE WITH DATABASE SIZE?"
   ]
  }
 ],
 "metadata": {
  "@webio": {
   "lastCommId": "e1c5def0-417c-492c-9f95-7ebb02ff6f77",
   "lastKernelId": "2e8da3ed-de43-45b2-883e-263efa7d5229"
  },
  "kernelspec": {
   "display_name": "Julia 1.10.2",
   "language": "julia",
   "name": "julia-1.10"
  },
  "language_info": {
   "file_extension": ".jl",
   "mimetype": "application/julia",
   "name": "julia",
   "version": "1.10.2"
  }
 },
 "nbformat": 4,
 "nbformat_minor": 4
}
