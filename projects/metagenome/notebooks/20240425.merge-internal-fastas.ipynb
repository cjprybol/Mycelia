{
 "cells": [
  {
   "cell_type": "code",
   "execution_count": null,
   "id": "89b5c9fd-a800-4d1c-a007-ea67dbd0d9ef",
   "metadata": {
    "tags": []
   },
   "outputs": [],
   "source": [
    "# if hit plotting library issues, try resetting LD path for julia\n",
    "# can set in ~/.local/share/jupyter/kernels/\n",
    "haskey(ENV, \"LD_LIBRARY_PATH\") && @assert ENV[\"LD_LIBRARY_PATH\"] == \"\"\n",
    "import Pkg\n",
    "Pkg.activate(;temp=true)\n",
    "Pkg.add(\"Revise\")\n",
    "import Revise\n",
    "\n",
    "# Pkg.develop(path=\"/global/cfs/projectdirs/m4269/cjprybol/Mycelia\")\n",
    "# Pkg.develop(path=\"../../..\")\n",
    "Pkg.develop(path=\"$(homedir())/workspace/Mycelia\")\n",
    "import Mycelia\n",
    "\n",
    "pkgs = String[\n",
    "    \"DataFrames\"\n",
    "]\n",
    "Pkg.add(pkgs)\n",
    "for pkg in pkgs\n",
    "    eval(Meta.parse(\"import $pkg\"))\n",
    "end"
   ]
  },
  {
   "cell_type": "code",
   "execution_count": null,
   "id": "1f7cdf3f-5ac9-4c2e-9b12-b550bc877636",
   "metadata": {
    "tags": []
   },
   "outputs": [],
   "source": [
    "basedir = dirname(pwd())\n",
    "data_dir = joinpath(basedir, \"data\")\n",
    "locus_reference_genomes_dir = joinpath(data_dir, \"locus-reference-genomes\")"
   ]
  },
  {
   "cell_type": "code",
   "execution_count": null,
   "id": "76dc1428-5e62-400e-9549-86994cbb0bf5",
   "metadata": {
    "tags": []
   },
   "outputs": [],
   "source": [
    "fastas_to_merge = filter(x -> occursin(r\"\\.fna$\", x) || occursin(r\"\\.fasta$\", x), readdir(locus_reference_genomes_dir, join=true))"
   ]
  },
  {
   "cell_type": "code",
   "execution_count": null,
   "id": "dc043323-52f5-46ff-ba96-11af692b2c28",
   "metadata": {
    "tags": []
   },
   "outputs": [],
   "source": [
    "joint_fasta_file = joinpath(locus_reference_genomes_dir, \"joint.fna\")\n",
    "gzipped_joint_fasta_file = joint_fasta_file * \".gz\"\n",
    "if !isfile(gzipped_joint_fasta_file)\n",
    "    Mycelia.merge_fasta_files(fasta_files=fastas_to_merge, fasta_file=joint_fasta_file)\n",
    "    # gzip it\n",
    "    run(`gzip $(joint_fasta_file)`)\n",
    "    @assert isfile(gzipped_joint_fasta_file)\n",
    "end"
   ]
  }
 ],
 "metadata": {
  "kernelspec": {
   "display_name": "Julia 1.10.2",
   "language": "julia",
   "name": "julia-1.10"
  },
  "language_info": {
   "file_extension": ".jl",
   "mimetype": "application/julia",
   "name": "julia",
   "version": "1.10.2"
  }
 },
 "nbformat": 4,
 "nbformat_minor": 5
}
