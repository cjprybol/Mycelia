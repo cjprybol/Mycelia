{
 "cells": [
  {
   "cell_type": "code",
   "execution_count": null,
   "id": "89b5c9fd-a800-4d1c-a007-ea67dbd0d9ef",
   "metadata": {
    "tags": []
   },
   "outputs": [],
   "source": [
    "# if hit plotting library issues, try resetting LD path for julia\n",
    "# can set in ~/.local/share/jupyter/kernels/\n",
    "@assert ENV[\"LD_LIBRARY_PATH\"] == \"\"\n",
    "import Pkg\n",
    "Pkg.activate(;temp=true)\n",
    "Pkg.add(\"Revise\")\n",
    "import Revise\n",
    "\n",
    "# Pkg.develop(path=\"/global/cfs/projectdirs/m4269/cjprybol/Mycelia\")\n",
    "# Pkg.develop(path=\"../../..\")\n",
    "Pkg.develop(path=\"$(homedir())/workspace/Mycelia\")\n",
    "import Mycelia\n",
    "\n",
    "pkgs = String[\n",
    "    \"DataFrames\"\n",
    "]\n",
    "Pkg.add(pkgs)\n",
    "for pkg in pkgs\n",
    "    eval(Meta.parse(\"import $pkg\"))\n",
    "end"
   ]
  },
  {
   "cell_type": "code",
   "execution_count": null,
   "id": "1e7840b2-86e8-4e9b-9d6e-54052b32c9ad",
   "metadata": {
    "tags": []
   },
   "outputs": [],
   "source": [
    "db = \"nt\""
   ]
  },
  {
   "cell_type": "code",
   "execution_count": null,
   "id": "338b790c-2b50-42a3-918d-37bf5a6b7cf6",
   "metadata": {
    "tags": []
   },
   "outputs": [],
   "source": [
    "path_to_db = joinpath(homedir(), \"workspace\", \"blastdb\", db)\n",
    "# path_to_db = Mycelia.download_blast_db(db=db, source=\"ncbi\")"
   ]
  },
  {
   "cell_type": "code",
   "execution_count": null,
   "id": "0c7b6312-b888-47bc-a73c-5bc39d32db4f",
   "metadata": {
    "tags": []
   },
   "outputs": [],
   "source": [
    "# compressed_fasta_export = Mycelia.export_blast_db(path_to_db = path_to_db)\n",
    "compressed_fasta_export = path_to_db * \".fna.gz\""
   ]
  },
  {
   "cell_type": "code",
   "execution_count": null,
   "id": "6c4f15d3-ddf6-45e1-a2cb-06e6be085196",
   "metadata": {},
   "outputs": [],
   "source": [
    "@assert isfile(compressed_fasta_export)"
   ]
  },
  {
   "cell_type": "code",
   "execution_count": null,
   "id": "2b5c7c19-4b3a-4acc-8947-4c8ce76aaa39",
   "metadata": {},
   "outputs": [],
   "source": [
    "threads = 12\n",
    "mem_gb = threads * 32\n",
    "cmd, outfile = Mycelia.minimap_index(fasta=compressed_fasta_export, mem_gb=Int(floor(mem_gb * .8)), threads=threads, mapping_type=\"sr\", as_string=true)"
   ]
  },
  {
   "cell_type": "code",
   "execution_count": null,
   "id": "dc5e674f-7f1a-4db0-ba8a-de11803dc459",
   "metadata": {
    "tags": []
   },
   "outputs": [],
   "source": [
    "# resubmit if we run out of time\n",
    "if !isfile(outfile)\n",
    "    println(outfile)\n",
    "    Mycelia.scg_sbatch(\n",
    "        job_name=basename(outfile),\n",
    "        mail_user=\"cameron.prybol@gmail.com\",\n",
    "        logdir=mkpath(\"$(homedir())/workspace/slurmlogs\"),\n",
    "        mem_gb=mem_gb,\n",
    "        cpus_per_task=threads,\n",
    "        partition=\"batch\",\n",
    "        account=\"mpsnyder\",\n",
    "        time=\"7-00:00:00\",\n",
    "        cmd=cmd)\n",
    "end"
   ]
  },
  {
   "cell_type": "code",
   "execution_count": null,
   "id": "cf189344-b607-4b39-a1df-b5895036efb1",
   "metadata": {},
   "outputs": [],
   "source": [
    "# try mapping something to it"
   ]
  }
 ],
 "metadata": {
  "kernelspec": {
   "display_name": "Julia 1.6.7",
   "language": "julia",
   "name": "julia-1.6"
  },
  "language_info": {
   "file_extension": ".jl",
   "mimetype": "application/julia",
   "name": "julia",
   "version": "1.6.7"
  }
 },
 "nbformat": 4,
 "nbformat_minor": 5
}
