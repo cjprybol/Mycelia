{
 "cells": [
  {
   "cell_type": "code",
   "execution_count": 1,
   "id": "89b5c9fd-a800-4d1c-a007-ea67dbd0d9ef",
   "metadata": {
    "tags": []
   },
   "outputs": [
    {
     "name": "stderr",
     "output_type": "stream",
     "text": [
      "\u001b[32m\u001b[1m  Activating\u001b[22m\u001b[39m new project at `/tmp/jl_sZYaJ9`\n",
      "\u001b[32m\u001b[1m   Resolving\u001b[22m\u001b[39m package versions...\n",
      "\u001b[32m\u001b[1m    Updating\u001b[22m\u001b[39m `/tmp/jl_sZYaJ9/Project.toml`\n",
      "  \u001b[90m[295af30f] \u001b[39m\u001b[92m+ Revise v3.5.14\u001b[39m\n",
      "\u001b[32m\u001b[1m    Updating\u001b[22m\u001b[39m `/tmp/jl_sZYaJ9/Manifest.toml`\n",
      "  \u001b[90m[da1fd8a2] \u001b[39m\u001b[92m+ CodeTracking v1.3.5\u001b[39m\n",
      "  \u001b[90m[aa1ae85d] \u001b[39m\u001b[92m+ JuliaInterpreter v0.9.32\u001b[39m\n",
      "  \u001b[90m[6f1432cf] \u001b[39m\u001b[92m+ LoweredCodeUtils v2.4.6\u001b[39m\n",
      "  \u001b[90m[bac558e1] \u001b[39m\u001b[92m+ OrderedCollections v1.6.3\u001b[39m\n",
      "  \u001b[90m[ae029012] \u001b[39m\u001b[92m+ Requires v1.3.0\u001b[39m\n",
      "  \u001b[90m[295af30f] \u001b[39m\u001b[92m+ Revise v3.5.14\u001b[39m\n",
      "  \u001b[90m[0dad84c5] \u001b[39m\u001b[92m+ ArgTools v1.1.1\u001b[39m\n",
      "  \u001b[90m[56f22d72] \u001b[39m\u001b[92m+ Artifacts\u001b[39m\n",
      "  \u001b[90m[2a0f44e3] \u001b[39m\u001b[92m+ Base64\u001b[39m\n",
      "  \u001b[90m[ade2ca70] \u001b[39m\u001b[92m+ Dates\u001b[39m\n",
      "  \u001b[90m[8ba89e20] \u001b[39m\u001b[92m+ Distributed\u001b[39m\n",
      "  \u001b[90m[f43a241f] \u001b[39m\u001b[92m+ Downloads v1.6.0\u001b[39m\n",
      "  \u001b[90m[7b1f6079] \u001b[39m\u001b[92m+ FileWatching\u001b[39m\n",
      "  \u001b[90m[b77e0a4c] \u001b[39m\u001b[92m+ InteractiveUtils\u001b[39m\n",
      "  \u001b[90m[b27032c2] \u001b[39m\u001b[92m+ LibCURL v0.6.4\u001b[39m\n",
      "  \u001b[90m[76f85450] \u001b[39m\u001b[92m+ LibGit2\u001b[39m\n",
      "  \u001b[90m[8f399da3] \u001b[39m\u001b[92m+ Libdl\u001b[39m\n",
      "  \u001b[90m[56ddb016] \u001b[39m\u001b[92m+ Logging\u001b[39m\n",
      "  \u001b[90m[d6f4376e] \u001b[39m\u001b[92m+ Markdown\u001b[39m\n",
      "  \u001b[90m[ca575930] \u001b[39m\u001b[92m+ NetworkOptions v1.2.0\u001b[39m\n",
      "  \u001b[90m[44cfe95a] \u001b[39m\u001b[92m+ Pkg v1.10.0\u001b[39m\n",
      "  \u001b[90m[de0858da] \u001b[39m\u001b[92m+ Printf\u001b[39m\n",
      "  \u001b[90m[3fa0cd96] \u001b[39m\u001b[92m+ REPL\u001b[39m\n",
      "  \u001b[90m[9a3f8284] \u001b[39m\u001b[92m+ Random\u001b[39m\n",
      "  \u001b[90m[ea8e919c] \u001b[39m\u001b[92m+ SHA v0.7.0\u001b[39m\n",
      "  \u001b[90m[9e88b42a] \u001b[39m\u001b[92m+ Serialization\u001b[39m\n",
      "  \u001b[90m[6462fe0b] \u001b[39m\u001b[92m+ Sockets\u001b[39m\n",
      "  \u001b[90m[fa267f1f] \u001b[39m\u001b[92m+ TOML v1.0.3\u001b[39m\n",
      "  \u001b[90m[a4e569a6] \u001b[39m\u001b[92m+ Tar v1.10.0\u001b[39m\n",
      "  \u001b[90m[cf7118a7] \u001b[39m\u001b[92m+ UUIDs\u001b[39m\n",
      "  \u001b[90m[4ec0a83e] \u001b[39m\u001b[92m+ Unicode\u001b[39m\n",
      "  \u001b[90m[deac9b47] \u001b[39m\u001b[92m+ LibCURL_jll v8.4.0+0\u001b[39m\n",
      "  \u001b[90m[e37daf67] \u001b[39m\u001b[92m+ LibGit2_jll v1.6.4+0\u001b[39m\n",
      "  \u001b[90m[29816b5a] \u001b[39m\u001b[92m+ LibSSH2_jll v1.11.0+1\u001b[39m\n",
      "  \u001b[90m[c8ffd9c3] \u001b[39m\u001b[92m+ MbedTLS_jll v2.28.2+1\u001b[39m\n",
      "  \u001b[90m[14a3606d] \u001b[39m\u001b[92m+ MozillaCACerts_jll v2023.1.10\u001b[39m\n",
      "  \u001b[90m[83775a58] \u001b[39m\u001b[92m+ Zlib_jll v1.2.13+1\u001b[39m\n",
      "  \u001b[90m[8e850ede] \u001b[39m\u001b[92m+ nghttp2_jll v1.52.0+1\u001b[39m\n",
      "  \u001b[90m[3f19e933] \u001b[39m\u001b[92m+ p7zip_jll v17.4.0+2\u001b[39m\n",
      "\u001b[32m\u001b[1m   Resolving\u001b[22m\u001b[39m package versions...\n",
      "\u001b[32m\u001b[1m    Updating\u001b[22m\u001b[39m `/tmp/jl_sZYaJ9/Project.toml`\n",
      "  \u001b[90m[453d265d] \u001b[39m\u001b[92m+ Mycelia v0.1.0 `~/workspace/Mycelia`\u001b[39m\n",
      "\u001b[32m\u001b[1m    Updating\u001b[22m\u001b[39m `/tmp/jl_sZYaJ9/Manifest.toml`\n",
      "  \u001b[90m[da404889] \u001b[39m\u001b[92m+ ARFFFiles v1.4.1\u001b[39m\n",
      "  \u001b[90m[621f4979] \u001b[39m\u001b[92m+ AbstractFFTs v1.5.0\u001b[39m\n",
      "  \u001b[90m[1520ce14] \u001b[39m\u001b[92m+ AbstractTrees v0.4.5\u001b[39m\n",
      "  \u001b[90m[79e6a3ab] \u001b[39m\u001b[92m+ Adapt v4.0.4\u001b[39m\n",
      "  \u001b[90m[66dad0bd] \u001b[39m\u001b[92m+ AliasTables v1.1.3\u001b[39m\n",
      "  \u001b[90m[27a7e980] \u001b[39m\u001b[92m+ Animations v0.4.1\u001b[39m\n",
      "  \u001b[90m[dce04be8] \u001b[39m\u001b[92m+ ArgCheck v2.3.0\u001b[39m\n",
      "  \u001b[90m[c7e460c6] \u001b[39m\u001b[92m+ ArgParse v1.2.0\u001b[39m\n",
      "  \u001b[90m[ec485272] \u001b[39m\u001b[92m+ ArnoldiMethod v0.4.0\u001b[39m\n",
      "  \u001b[90m[7d9fca2a] \u001b[39m\u001b[92m+ Arpack v0.5.4\u001b[39m\n",
      "  \u001b[90m[4fba245c] \u001b[39m\u001b[92m+ ArrayInterface v7.11.0\u001b[39m\n",
      "  \u001b[90m[a9b6321e] \u001b[39m\u001b[92m+ Atomix v0.1.0\u001b[39m\n",
      "\u001b[33m⌅\u001b[39m \u001b[90m[67c07d97] \u001b[39m\u001b[92m+ Automa v0.8.3\u001b[39m\n",
      "  \u001b[90m[13072b0f] \u001b[39m\u001b[92m+ AxisAlgorithms v1.1.0\u001b[39m\n",
      "  \u001b[90m[39de3d68] \u001b[39m\u001b[92m+ AxisArrays v0.4.7\u001b[39m\n",
      "  \u001b[90m[28d598bf] \u001b[39m\u001b[92m+ BGZFStreams v0.3.2\u001b[39m\n",
      "\u001b[33m⌅\u001b[39m \u001b[90m[198e06fe] \u001b[39m\u001b[92m+ BangBang v0.3.40\u001b[39m\n",
      "  \u001b[90m[9718e550] \u001b[39m\u001b[92m+ Baselet v0.1.1\u001b[39m\n",
      "  \u001b[90m[00701ae9] \u001b[39m\u001b[92m+ BioAlignments v3.1.0\u001b[39m\n",
      "  \u001b[90m[47718e42] \u001b[39m\u001b[92m+ BioGenerics v0.1.4\u001b[39m\n",
      "  \u001b[90m[7e6ae17a] \u001b[39m\u001b[92m+ BioSequences v3.1.6\u001b[39m\n",
      "  \u001b[90m[3c28c6f8] \u001b[39m\u001b[92m+ BioSymbols v5.1.3\u001b[39m\n",
      "  \u001b[90m[d1d4a3ce] \u001b[39m\u001b[92m+ BitFlags v0.1.9\u001b[39m\n",
      "  \u001b[90m[fa961155] \u001b[39m\u001b[92m+ CEnum v0.5.0\u001b[39m\n",
      "  \u001b[90m[336ed68f] \u001b[39m\u001b[92m+ CSV v0.10.14\u001b[39m\n",
      "  \u001b[90m[159f3aea] \u001b[39m\u001b[92m+ Cairo v1.0.5\u001b[39m\n",
      "  \u001b[90m[13f3f980] \u001b[39m\u001b[92m+ CairoMakie v0.12.3\u001b[39m\n",
      "  \u001b[90m[49dc2e85] \u001b[39m\u001b[92m+ Calculus v0.5.1\u001b[39m\n",
      "  \u001b[90m[324d7699] \u001b[39m\u001b[92m+ CategoricalArrays v0.10.8\u001b[39m\n",
      "  \u001b[90m[af321ab8] \u001b[39m\u001b[92m+ CategoricalDistributions v0.1.15\u001b[39m\n",
      "  \u001b[90m[d360d2e6] \u001b[39m\u001b[92m+ ChainRulesCore v1.24.0\u001b[39m\n",
      "  \u001b[90m[aaaa29a8] \u001b[39m\u001b[92m+ Clustering v0.15.7\u001b[39m\n",
      "  \u001b[90m[944b1d66] \u001b[39m\u001b[92m+ CodecZlib v0.7.4\u001b[39m\n",
      "  \u001b[90m[a2cac450] \u001b[39m\u001b[92m+ ColorBrewer v0.4.0\u001b[39m\n",
      "  \u001b[90m[35d6a980] \u001b[39m\u001b[92m+ ColorSchemes v3.25.0\u001b[39m\n",
      "  \u001b[90m[3da002f7] \u001b[39m\u001b[92m+ ColorTypes v0.11.5\u001b[39m\n",
      "  \u001b[90m[c3611d14] \u001b[39m\u001b[92m+ ColorVectorSpace v0.10.0\u001b[39m\n",
      "  \u001b[90m[5ae59095] \u001b[39m\u001b[92m+ Colors v0.12.11\u001b[39m\n",
      "  \u001b[90m[861a8166] \u001b[39m\u001b[92m+ Combinatorics v1.0.2\u001b[39m\n",
      "  \u001b[90m[bbf7d656] \u001b[39m\u001b[92m+ CommonSubexpressions v0.3.0\u001b[39m\n",
      "  \u001b[90m[34da2185] \u001b[39m\u001b[92m+ Compat v4.15.0\u001b[39m\n",
      "  \u001b[90m[a33af91c] \u001b[39m\u001b[92m+ CompositionsBase v0.1.2\u001b[39m\n",
      "  \u001b[90m[ed09eef8] \u001b[39m\u001b[92m+ ComputationalResources v0.3.2\u001b[39m\n",
      "  \u001b[90m[f0e56b4a] \u001b[39m\u001b[92m+ ConcurrentUtilities v2.4.1\u001b[39m\n",
      "  \u001b[90m[8f4d0f93] \u001b[39m\u001b[92m+ Conda v1.10.2\u001b[39m\n",
      "  \u001b[90m[187b0558] \u001b[39m\u001b[92m+ ConstructionBase v1.5.5\u001b[39m\n",
      "  \u001b[90m[6add18c4] \u001b[39m\u001b[92m+ ContextVariablesX v0.1.3\u001b[39m\n",
      "  \u001b[90m[d38c429a] \u001b[39m\u001b[92m+ Contour v0.6.3\u001b[39m\n",
      "  \u001b[90m[150eb455] \u001b[39m\u001b[92m+ CoordinateTransformations v0.6.3\u001b[39m\n",
      "  \u001b[90m[a8cc5b0e] \u001b[39m\u001b[92m+ Crayons v4.1.1\u001b[39m\n",
      "  \u001b[90m[9a962f9c] \u001b[39m\u001b[92m+ DataAPI v1.16.0\u001b[39m\n",
      "  \u001b[90m[a93c6f00] \u001b[39m\u001b[92m+ DataFrames v1.6.1\u001b[39m\n",
      "  \u001b[90m[864edb3b] \u001b[39m\u001b[92m+ DataStructures v0.18.20\u001b[39m\n",
      "  \u001b[90m[e2d170a0] \u001b[39m\u001b[92m+ DataValueInterfaces v1.0.0\u001b[39m\n",
      "  \u001b[90m[244e2a9f] \u001b[39m\u001b[92m+ DefineSingletons v0.1.2\u001b[39m\n",
      "  \u001b[90m[927a84f5] \u001b[39m\u001b[92m+ DelaunayTriangulation v1.0.3\u001b[39m\n",
      "  \u001b[90m[8bb1440f] \u001b[39m\u001b[92m+ DelimitedFiles v1.9.1\u001b[39m\n",
      "  \u001b[90m[b429d917] \u001b[39m\u001b[92m+ DensityInterface v0.4.0\u001b[39m\n",
      "  \u001b[90m[163ba53b] \u001b[39m\u001b[92m+ DiffResults v1.1.0\u001b[39m\n",
      "  \u001b[90m[b552c78f] \u001b[39m\u001b[92m+ DiffRules v1.15.1\u001b[39m\n",
      "  \u001b[90m[b4f34e82] \u001b[39m\u001b[92m+ Distances v0.10.11\u001b[39m\n",
      "  \u001b[90m[31c24e10] \u001b[39m\u001b[92m+ Distributions v0.25.109\u001b[39m\n",
      "  \u001b[90m[ffbed154] \u001b[39m\u001b[92m+ DocStringExtensions v0.9.3\u001b[39m\n",
      "  \u001b[90m[fa6b7ba4] \u001b[39m\u001b[92m+ DualNumbers v0.6.8\u001b[39m\n",
      "  \u001b[90m[792122b4] \u001b[39m\u001b[92m+ EarlyStopping v0.3.0\u001b[39m\n",
      "  \u001b[90m[4e289a0a] \u001b[39m\u001b[92m+ EnumX v1.0.4\u001b[39m\n",
      "  \u001b[90m[429591f6] \u001b[39m\u001b[92m+ ExactPredicates v2.2.8\u001b[39m\n",
      "  \u001b[90m[460bff9d] \u001b[39m\u001b[92m+ ExceptionUnwrapping v0.1.10\u001b[39m\n",
      "  \u001b[90m[411431e0] \u001b[39m\u001b[92m+ Extents v0.1.3\u001b[39m\n",
      "\u001b[32m⌃\u001b[39m \u001b[90m[c2308a5c] \u001b[39m\u001b[92m+ FASTX v2.1.2\u001b[39m\n",
      "  \u001b[90m[c87230d0] \u001b[39m\u001b[92m+ FFMPEG v0.4.1\u001b[39m\n",
      "  \u001b[90m[7a1cc6ca] \u001b[39m\u001b[92m+ FFTW v1.8.0\u001b[39m\n",
      "  \u001b[90m[cc61a311] \u001b[39m\u001b[92m+ FLoops v0.2.1\u001b[39m\n",
      "  \u001b[90m[b9860ae5] \u001b[39m\u001b[92m+ FLoopsBase v0.1.1\u001b[39m\n",
      "  \u001b[90m[33837fe5] \u001b[39m\u001b[92m+ FeatureSelection v0.1.1\u001b[39m\n",
      "  \u001b[90m[5789e2e9] \u001b[39m\u001b[92m+ FileIO v1.16.3\u001b[39m\n",
      "  \u001b[90m[8fc22ac5] \u001b[39m\u001b[92m+ FilePaths v0.8.3\u001b[39m\n",
      "  \u001b[90m[48062228] \u001b[39m\u001b[92m+ FilePathsBase v0.9.21\u001b[39m\n",
      "  \u001b[90m[1a297f60] \u001b[39m\u001b[92m+ FillArrays v1.11.0\u001b[39m\n",
      "  \u001b[90m[6a86dc24] \u001b[39m\u001b[92m+ FiniteDiff v2.23.1\u001b[39m\n",
      "  \u001b[90m[53c48c17] \u001b[39m\u001b[92m+ FixedPointNumbers v0.8.5\u001b[39m\n",
      "  \u001b[90m[1fa38f19] \u001b[39m\u001b[92m+ Format v1.3.7\u001b[39m\n",
      "  \u001b[90m[f6369f11] \u001b[39m\u001b[92m+ ForwardDiff v0.10.36\u001b[39m\n",
      "  \u001b[90m[b38be410] \u001b[39m\u001b[92m+ FreeType v4.1.1\u001b[39m\n",
      "  \u001b[90m[663a7486] \u001b[39m\u001b[92m+ FreeTypeAbstraction v0.10.3\u001b[39m\n",
      "  \u001b[90m[da1fdf0e] \u001b[39m\u001b[92m+ FreqTables v0.4.6\u001b[39m\n",
      "  \u001b[90m[af1dc308] \u001b[39m\u001b[92m+ GFF3 v0.2.3\u001b[39m\n",
      "  \u001b[90m[38e38edf] \u001b[39m\u001b[92m+ GLM v1.9.0\u001b[39m\n",
      "  \u001b[90m[46192b85] \u001b[39m\u001b[92m+ GPUArraysCore v0.1.6\u001b[39m\n",
      "  \u001b[90m[28b8d3ca] \u001b[39m\u001b[92m+ GR v0.73.6\u001b[39m\n",
      "  \u001b[90m[4f8a0a0a] \u001b[39m\u001b[92m+ GenomicAnnotations v0.3.8\u001b[39m\n",
      "\u001b[33m⌅\u001b[39m \u001b[90m[899a7d2d] \u001b[39m\u001b[92m+ GenomicFeatures v2.1.0\u001b[39m\n",
      "  \u001b[90m[68eda718] \u001b[39m\u001b[92m+ GeoFormatTypes v0.4.2\u001b[39m\n",
      "  \u001b[90m[cf35fbd7] \u001b[39m\u001b[92m+ GeoInterface v1.3.4\u001b[39m\n",
      "  \u001b[90m[0edc0954] \u001b[39m\u001b[92m+ GeoInterfaceMakie v0.1.6\u001b[39m\n",
      "  \u001b[90m[0329782f] \u001b[39m\u001b[92m+ GeoInterfaceRecipes v1.0.2\u001b[39m\n",
      "  \u001b[90m[61d90e0f] \u001b[39m\u001b[92m+ GeoJSON v0.8.1\u001b[39m\n",
      "  \u001b[90m[db073c08] \u001b[39m\u001b[92m+ GeoMakie v0.7.2\u001b[39m\n",
      "  \u001b[90m[0ef565a4] \u001b[39m\u001b[92m+ Geodesy v1.1.0\u001b[39m\n",
      "  \u001b[90m[5c1252a2] \u001b[39m\u001b[92m+ GeometryBasics v0.4.11\u001b[39m\n",
      "  \u001b[90m[3251bfac] \u001b[39m\u001b[92m+ GeometryOps v0.1.10\u001b[39m\n",
      "  \u001b[90m[4d00f742] \u001b[39m\u001b[92m+ GeometryTypes v0.8.5\u001b[39m\n",
      "  \u001b[90m[1ecd5474] \u001b[39m\u001b[92m+ GraphMakie v0.5.11\u001b[39m\n",
      "  \u001b[90m[bd48cda9] \u001b[39m\u001b[92m+ GraphRecipes v0.5.13\u001b[39m\n",
      "  \u001b[90m[a2bd30eb] \u001b[39m\u001b[92m+ Graphics v1.1.2\u001b[39m\n",
      "  \u001b[90m[86223c79] \u001b[39m\u001b[92m+ Graphs v1.11.1\u001b[39m\n",
      "  \u001b[90m[3955a311] \u001b[39m\u001b[92m+ GridLayoutBase v0.11.0\u001b[39m\n",
      "  \u001b[90m[42e2da0e] \u001b[39m\u001b[92m+ Grisu v1.0.2\u001b[39m\n",
      "  \u001b[90m[cd3eb016] \u001b[39m\u001b[92m+ HTTP v1.10.8\u001b[39m\n",
      "  \u001b[90m[84ca31d5] \u001b[39m\u001b[92m+ HiddenMarkovModels v0.5.3\u001b[39m\n",
      "  \u001b[90m[34004b35] \u001b[39m\u001b[92m+ HypergeometricFunctions v0.3.23\u001b[39m\n",
      "  \u001b[90m[2803e5a7] \u001b[39m\u001b[92m+ ImageAxes v0.6.11\u001b[39m\n",
      "  \u001b[90m[c817782e] \u001b[39m\u001b[92m+ ImageBase v0.1.7\u001b[39m\n",
      "  \u001b[90m[a09fc81d] \u001b[39m\u001b[92m+ ImageCore v0.10.2\u001b[39m\n",
      "  \u001b[90m[82e4d734] \u001b[39m\u001b[92m+ ImageIO v0.6.8\u001b[39m\n",
      "  \u001b[90m[bc367c6b] \u001b[39m\u001b[92m+ ImageMetadata v0.9.9\u001b[39m\n",
      "\u001b[33m⌅\u001b[39m \u001b[90m[4ffb77ac] \u001b[39m\u001b[92m+ Indexes v0.1.3\u001b[39m\n",
      "  \u001b[90m[9b13fd28] \u001b[39m\u001b[92m+ IndirectArrays v1.0.0\u001b[39m\n",
      "  \u001b[90m[d25df0c9] \u001b[39m\u001b[92m+ Inflate v0.1.5\u001b[39m\n",
      "  \u001b[90m[22cec73e] \u001b[39m\u001b[92m+ InitialValues v0.3.1\u001b[39m\n",
      "  \u001b[90m[842dd82b] \u001b[39m\u001b[92m+ InlineStrings v1.4.1\u001b[39m\n",
      "  \u001b[90m[18e54dd8] \u001b[39m\u001b[92m+ IntegerMathUtils v0.1.2\u001b[39m\n",
      "  \u001b[90m[a98d9a8b] \u001b[39m\u001b[92m+ Interpolations v0.15.1\u001b[39m\n",
      "  \u001b[90m[d1acc4aa] \u001b[39m\u001b[92m+ IntervalArithmetic v0.22.14\u001b[39m\n",
      "  \u001b[90m[8197267c] \u001b[39m\u001b[92m+ IntervalSets v0.7.10\u001b[39m\n",
      "  \u001b[90m[524e6230] \u001b[39m\u001b[92m+ IntervalTrees v1.1.0\u001b[39m\n",
      "  \u001b[90m[3587e190] \u001b[39m\u001b[92m+ InverseFunctions v0.1.14\u001b[39m\n",
      "  \u001b[90m[41ab1584] \u001b[39m\u001b[92m+ InvertedIndices v1.3.0\u001b[39m\n",
      "  \u001b[90m[92d709cd] \u001b[39m\u001b[92m+ IrrationalConstants v0.2.2\u001b[39m\n",
      "  \u001b[90m[f1662d9f] \u001b[39m\u001b[92m+ Isoband v0.1.1\u001b[39m\n",
      "  \u001b[90m[c8e1da08] \u001b[39m\u001b[92m+ IterTools v1.10.0\u001b[39m\n",
      "  \u001b[90m[b3c1a2ee] \u001b[39m\u001b[92m+ IterationControl v0.5.4\u001b[39m\n",
      "  \u001b[90m[82899510] \u001b[39m\u001b[92m+ IteratorInterfaceExtensions v1.0.0\u001b[39m\n",
      "  \u001b[90m[ef79a3d2] \u001b[39m\u001b[92m+ IteratorSampling v0.2.11\u001b[39m\n",
      "  \u001b[90m[033835bb] \u001b[39m\u001b[92m+ JLD2 v0.4.48\u001b[39m\n",
      "  \u001b[90m[1019f520] \u001b[39m\u001b[92m+ JLFzf v0.1.7\u001b[39m\n",
      "  \u001b[90m[692b3bcd] \u001b[39m\u001b[92m+ JLLWrappers v1.5.0\u001b[39m\n",
      "  \u001b[90m[682c06a0] \u001b[39m\u001b[92m+ JSON v0.21.4\u001b[39m\n",
      "  \u001b[90m[0f8b85d8] \u001b[39m\u001b[92m+ JSON3 v1.14.0\u001b[39m\n",
      "  \u001b[90m[b835a17e] \u001b[39m\u001b[92m+ JpegTurbo v0.1.5\u001b[39m\n",
      "  \u001b[90m[b14d175d] \u001b[39m\u001b[92m+ JuliaVariables v0.2.4\u001b[39m\n",
      "  \u001b[90m[63c18a36] \u001b[39m\u001b[92m+ KernelAbstractions v0.9.21\u001b[39m\n",
      "  \u001b[90m[5ab0869b] \u001b[39m\u001b[92m+ KernelDensity v0.6.9\u001b[39m\n",
      "  \u001b[90m[445028e4] \u001b[39m\u001b[92m+ Kmers v0.1.0\u001b[39m\n",
      "  \u001b[90m[929cbde3] \u001b[39m\u001b[92m+ LLVM v8.0.0\u001b[39m\n",
      "  \u001b[90m[b964fa9f] \u001b[39m\u001b[92m+ LaTeXStrings v1.3.1\u001b[39m\n",
      "  \u001b[90m[23fbe1c1] \u001b[39m\u001b[92m+ Latexify v0.16.3\u001b[39m\n",
      "  \u001b[90m[a5e1c1ea] \u001b[39m\u001b[92m+ LatinHypercubeSampling v1.9.0\u001b[39m\n",
      "  \u001b[90m[8cdb02fc] \u001b[39m\u001b[92m+ LazyModules v0.3.1\u001b[39m\n",
      "  \u001b[90m[92ad9a40] \u001b[39m\u001b[92m+ LearnAPI v0.1.0\u001b[39m\n",
      "  \u001b[90m[2ab3a3ac] \u001b[39m\u001b[92m+ LogExpFunctions v0.3.28\u001b[39m\n",
      "  \u001b[90m[e6f89c97] \u001b[39m\u001b[92m+ LoggingExtras v1.0.3\u001b[39m\n",
      "  \u001b[90m[2fda8390] \u001b[39m\u001b[92m+ LsqFit v0.15.0\u001b[39m\n",
      "  \u001b[90m[64a0f543] \u001b[39m\u001b[92m+ MLFlowClient v0.5.1\u001b[39m\n",
      "  \u001b[90m[add582a8] \u001b[39m\u001b[92m+ MLJ v0.20.6\u001b[39m\n",
      "  \u001b[90m[45f359ea] \u001b[39m\u001b[92m+ MLJBalancing v0.1.5\u001b[39m\n",
      "  \u001b[90m[a7f614a8] \u001b[39m\u001b[92m+ MLJBase v1.5.0\u001b[39m\n",
      "  \u001b[90m[50ed68f4] \u001b[39m\u001b[92m+ MLJEnsembles v0.4.3\u001b[39m\n",
      "  \u001b[90m[7b7b8358] \u001b[39m\u001b[92m+ MLJFlow v0.5.0\u001b[39m\n",
      "  \u001b[90m[614be32b] \u001b[39m\u001b[92m+ MLJIteration v0.6.2\u001b[39m\n",
      "  \u001b[90m[e80e1ace] \u001b[39m\u001b[92m+ MLJModelInterface v1.11.0\u001b[39m\n",
      "  \u001b[90m[d491faf4] \u001b[39m\u001b[92m+ MLJModels v0.17.2\u001b[39m\n",
      "  \u001b[90m[03970b2e] \u001b[39m\u001b[92m+ MLJTuning v0.8.7\u001b[39m\n",
      "  \u001b[90m[d8e11817] \u001b[39m\u001b[92m+ MLStyle v0.4.17\u001b[39m\n",
      "  \u001b[90m[f1d291b0] \u001b[39m\u001b[92m+ MLUtils v0.4.4\u001b[39m\n",
      "  \u001b[90m[1914dd2f] \u001b[39m\u001b[92m+ MacroTools v0.5.13\u001b[39m\n",
      "  \u001b[90m[ee78f7c6] \u001b[39m\u001b[92m+ Makie v0.21.3\u001b[39m\n",
      "  \u001b[90m[20f20a25] \u001b[39m\u001b[92m+ MakieCore v0.8.3\u001b[39m\n",
      "  \u001b[90m[dbb5928d] \u001b[39m\u001b[92m+ MappedArrays v0.4.2\u001b[39m\n",
      "\u001b[32m⌃\u001b[39m \u001b[90m[0a4f8689] \u001b[39m\u001b[92m+ MathTeXEngine v0.5.6\u001b[39m\n",
      "  \u001b[90m[739be429] \u001b[39m\u001b[92m+ MbedTLS v1.1.9\u001b[39m\n",
      "  \u001b[90m[442fdcdd] \u001b[39m\u001b[92m+ Measures v0.3.2\u001b[39m\n",
      "  \u001b[90m[626554b9] \u001b[39m\u001b[92m+ MetaGraphs v0.7.2\u001b[39m\n",
      "\u001b[33m⌅\u001b[39m \u001b[90m[128add7d] \u001b[39m\u001b[92m+ MicroCollections v0.1.4\u001b[39m\n",
      "  \u001b[90m[e1d29d7a] \u001b[39m\u001b[92m+ Missings v1.2.0\u001b[39m\n",
      "  \u001b[90m[e94cdb99] \u001b[39m\u001b[92m+ MosaicViews v0.3.4\u001b[39m\n",
      "  \u001b[90m[6f286f6a] \u001b[39m\u001b[92m+ MultivariateStats v0.10.3\u001b[39m\n",
      "  \u001b[90m[453d265d] \u001b[39m\u001b[92m+ Mycelia v0.1.0 `~/workspace/Mycelia`\u001b[39m\n",
      "  \u001b[90m[d41bc354] \u001b[39m\u001b[92m+ NLSolversBase v7.8.3\u001b[39m\n",
      "  \u001b[90m[872c559c] \u001b[39m\u001b[92m+ NNlib v0.9.18\u001b[39m\n",
      "  \u001b[90m[77ba4419] \u001b[39m\u001b[92m+ NaNMath v1.0.2\u001b[39m\n",
      "  \u001b[90m[71a1bf82] \u001b[39m\u001b[92m+ NameResolution v0.1.5\u001b[39m\n",
      "  \u001b[90m[86f7a689] \u001b[39m\u001b[92m+ NamedArrays v0.10.2\u001b[39m\n",
      "  \u001b[90m[436b0209] \u001b[39m\u001b[92m+ NaturalEarth v0.1.0\u001b[39m\n",
      "  \u001b[90m[b8a86587] \u001b[39m\u001b[92m+ NearestNeighbors v0.4.18\u001b[39m\n",
      "  \u001b[90m[f09324ee] \u001b[39m\u001b[92m+ Netpbm v1.1.1\u001b[39m\n",
      "  \u001b[90m[46757867] \u001b[39m\u001b[92m+ NetworkLayout v0.4.6\u001b[39m\n",
      "  \u001b[90m[510215fc] \u001b[39m\u001b[92m+ Observables v0.5.5\u001b[39m\n",
      "  \u001b[90m[6fe1bfb0] \u001b[39m\u001b[92m+ OffsetArrays v1.14.0\u001b[39m\n",
      "  \u001b[90m[a15396b6] \u001b[39m\u001b[92m+ OnlineStats v1.7.0\u001b[39m\n",
      "  \u001b[90m[925886fa] \u001b[39m\u001b[92m+ OnlineStatsBase v1.7.0\u001b[39m\n",
      "  \u001b[90m[52e1d378] \u001b[39m\u001b[92m+ OpenEXR v0.3.2\u001b[39m\n",
      "  \u001b[90m[8b6db2d4] \u001b[39m\u001b[92m+ OpenML v0.3.1\u001b[39m\n",
      "  \u001b[90m[4d8831e6] \u001b[39m\u001b[92m+ OpenSSL v1.4.3\u001b[39m\n",
      "  \u001b[90m[90014a1f] \u001b[39m\u001b[92m+ PDMats v0.11.31\u001b[39m\n",
      "  \u001b[90m[f57f5aa1] \u001b[39m\u001b[92m+ PNGFiles v0.4.3\u001b[39m\n",
      "  \u001b[90m[19eb6ba3] \u001b[39m\u001b[92m+ Packing v0.5.0\u001b[39m\n",
      "  \u001b[90m[5432bcbf] \u001b[39m\u001b[92m+ PaddedViews v0.5.12\u001b[39m\n",
      "  \u001b[90m[d96e819e] \u001b[39m\u001b[92m+ Parameters v0.12.3\u001b[39m\n",
      "  \u001b[90m[69de0a69] \u001b[39m\u001b[92m+ Parsers v2.8.1\u001b[39m\n",
      "  \u001b[90m[b98c9c47] \u001b[39m\u001b[92m+ Pipe v1.3.0\u001b[39m\n",
      "  \u001b[90m[eebad327] \u001b[39m\u001b[92m+ PkgVersion v0.3.3\u001b[39m\n",
      "  \u001b[90m[ccf2f8ad] \u001b[39m\u001b[92m+ PlotThemes v3.2.0\u001b[39m\n",
      "  \u001b[90m[995b91a9] \u001b[39m\u001b[92m+ PlotUtils v1.4.1\u001b[39m\n",
      "  \u001b[90m[91a5bcdd] \u001b[39m\u001b[92m+ Plots v1.40.4\u001b[39m\n",
      "  \u001b[90m[647866c9] \u001b[39m\u001b[92m+ PolygonOps v0.1.2\u001b[39m\n",
      "  \u001b[90m[3a141323] \u001b[39m\u001b[92m+ PolynomialRoots v1.0.0\u001b[39m\n",
      "  \u001b[90m[2dfb63ee] \u001b[39m\u001b[92m+ PooledArrays v1.4.3\u001b[39m\n",
      "  \u001b[90m[aea7be01] \u001b[39m\u001b[92m+ PrecompileTools v1.2.1\u001b[39m\n",
      "  \u001b[90m[21216c6a] \u001b[39m\u001b[92m+ Preferences v1.4.3\u001b[39m\n",
      "  \u001b[90m[8162dcfd] \u001b[39m\u001b[92m+ PrettyPrint v0.2.0\u001b[39m\n",
      "  \u001b[90m[54e16d92] \u001b[39m\u001b[92m+ PrettyPrinting v0.4.2\u001b[39m\n",
      "  \u001b[90m[08abe8d2] \u001b[39m\u001b[92m+ PrettyTables v2.3.2\u001b[39m\n",
      "  \u001b[90m[27ebfcd6] \u001b[39m\u001b[92m+ Primes v0.5.6\u001b[39m\n",
      "  \u001b[90m[92933f4c] \u001b[39m\u001b[92m+ ProgressMeter v1.10.0\u001b[39m\n",
      "  \u001b[90m[c94c279d] \u001b[39m\u001b[92m+ Proj v1.7.1\u001b[39m\n",
      "  \u001b[90m[43287f4e] \u001b[39m\u001b[92m+ PtrArrays v1.2.0\u001b[39m\n",
      "  \u001b[90m[4b34888f] \u001b[39m\u001b[92m+ QOI v1.0.0\u001b[39m\n",
      "  \u001b[90m[1fd47b50] \u001b[39m\u001b[92m+ QuadGK v2.9.4\u001b[39m\n",
      "  \u001b[90m[b3c3ace0] \u001b[39m\u001b[92m+ RangeArrays v0.3.2\u001b[39m\n",
      "  \u001b[90m[c84ed2f1] \u001b[39m\u001b[92m+ Ratios v0.4.5\u001b[39m\n",
      "  \u001b[90m[3cdcf5f2] \u001b[39m\u001b[92m+ RecipesBase v1.3.4\u001b[39m\n",
      "  \u001b[90m[01d81517] \u001b[39m\u001b[92m+ RecipesPipeline v0.6.12\u001b[39m\n",
      "  \u001b[90m[189a3867] \u001b[39m\u001b[92m+ Reexport v1.2.2\u001b[39m\n",
      "  \u001b[90m[05181044] \u001b[39m\u001b[92m+ RelocatableFolders v1.0.1\u001b[39m\n",
      "  \u001b[90m[c5292f4c] \u001b[39m\u001b[92m+ ResumableFunctions v0.6.9\u001b[39m\n",
      "  \u001b[90m[79098fc4] \u001b[39m\u001b[92m+ Rmath v0.7.1\u001b[39m\n",
      "  \u001b[90m[5eaf0fd0] \u001b[39m\u001b[92m+ RoundingEmulator v0.2.1\u001b[39m\n",
      "  \u001b[90m[fdea26ae] \u001b[39m\u001b[92m+ SIMD v3.5.0\u001b[39m\n",
      "  \u001b[90m[7b38b023] \u001b[39m\u001b[92m+ ScanByte v0.4.0\u001b[39m\n",
      "  \u001b[90m[321657f4] \u001b[39m\u001b[92m+ ScientificTypes v3.0.2\u001b[39m\n",
      "  \u001b[90m[30f210dd] \u001b[39m\u001b[92m+ ScientificTypesBase v3.0.0\u001b[39m\n",
      "  \u001b[90m[6c6a2e73] \u001b[39m\u001b[92m+ Scratch v1.2.1\u001b[39m\n",
      "  \u001b[90m[91c51154] \u001b[39m\u001b[92m+ SentinelArrays v1.4.3\u001b[39m\n",
      "  \u001b[90m[efcf1570] \u001b[39m\u001b[92m+ Setfield v1.1.1\u001b[39m\n",
      "  \u001b[90m[65257c39] \u001b[39m\u001b[92m+ ShaderAbstractions v0.4.1\u001b[39m\n",
      "  \u001b[90m[1277b4bf] \u001b[39m\u001b[92m+ ShiftedArrays v2.0.0\u001b[39m\n",
      "  \u001b[90m[605ecd9f] \u001b[39m\u001b[92m+ ShowCases v0.1.0\u001b[39m\n",
      "  \u001b[90m[992d4aef] \u001b[39m\u001b[92m+ Showoff v1.0.3\u001b[39m\n",
      "  \u001b[90m[73760f76] \u001b[39m\u001b[92m+ SignedDistanceFields v0.4.0\u001b[39m\n",
      "  \u001b[90m[777ac1f9] \u001b[39m\u001b[92m+ SimpleBufferStream v1.1.0\u001b[39m\n",
      "  \u001b[90m[699a6c99] \u001b[39m\u001b[92m+ SimpleTraits v0.9.4\u001b[39m\n",
      "  \u001b[90m[45858cf5] \u001b[39m\u001b[92m+ Sixel v0.1.3\u001b[39m\n",
      "  \u001b[90m[746ee33f] \u001b[39m\u001b[92m+ SortTileRecursiveTree v0.1.1\u001b[39m\n",
      "  \u001b[90m[a2af1166] \u001b[39m\u001b[92m+ SortingAlgorithms v1.2.1\u001b[39m\n",
      "  \u001b[90m[276daf66] \u001b[39m\u001b[92m+ SpecialFunctions v2.4.0\u001b[39m\n",
      "  \u001b[90m[171d559e] \u001b[39m\u001b[92m+ SplittablesBase v0.1.15\u001b[39m\n",
      "  \u001b[90m[860ef19b] \u001b[39m\u001b[92m+ StableRNGs v1.0.2\u001b[39m\n",
      "  \u001b[90m[cae243ae] \u001b[39m\u001b[92m+ StackViews v0.1.1\u001b[39m\n",
      "  \u001b[90m[90137ffa] \u001b[39m\u001b[92m+ StaticArrays v1.9.6\u001b[39m\n",
      "  \u001b[90m[1e83bf80] \u001b[39m\u001b[92m+ StaticArraysCore v1.4.3\u001b[39m\n",
      "  \u001b[90m[a19d573c] \u001b[39m\u001b[92m+ StatisticalMeasures v0.1.6\u001b[39m\n",
      "  \u001b[90m[c062fc1d] \u001b[39m\u001b[92m+ StatisticalMeasuresBase v0.1.1\u001b[39m\n",
      "  \u001b[90m[64bff920] \u001b[39m\u001b[92m+ StatisticalTraits v3.4.0\u001b[39m\n",
      "  \u001b[90m[82ae8749] \u001b[39m\u001b[92m+ StatsAPI v1.7.0\u001b[39m\n",
      "  \u001b[90m[2913bbd2] \u001b[39m\u001b[92m+ StatsBase v0.34.3\u001b[39m\n",
      "  \u001b[90m[4c63d2b9] \u001b[39m\u001b[92m+ StatsFuns v1.3.1\u001b[39m\n",
      "  \u001b[90m[3eaba693] \u001b[39m\u001b[92m+ StatsModels v0.7.3\u001b[39m\n",
      "  \u001b[90m[f3b207a7] \u001b[39m\u001b[92m+ StatsPlots v0.15.7\u001b[39m\n",
      "  \u001b[90m[892a3eda] \u001b[39m\u001b[92m+ StringManipulation v0.3.4\u001b[39m\n",
      "  \u001b[90m[354b36f9] \u001b[39m\u001b[92m+ StringViews v1.3.3\u001b[39m\n",
      "  \u001b[90m[09ab397b] \u001b[39m\u001b[92m+ StructArrays v0.6.18\u001b[39m\n",
      "  \u001b[90m[856f2bd8] \u001b[39m\u001b[92m+ StructTypes v1.10.0\u001b[39m\n",
      "  \u001b[90m[ab02a1b2] \u001b[39m\u001b[92m+ TableOperations v1.2.0\u001b[39m\n",
      "  \u001b[90m[3783bdb8] \u001b[39m\u001b[92m+ TableTraits v1.0.1\u001b[39m\n",
      "  \u001b[90m[bd369af6] \u001b[39m\u001b[92m+ Tables v1.11.1\u001b[39m\n",
      "  \u001b[90m[62fd8b95] \u001b[39m\u001b[92m+ TensorCore v0.1.1\u001b[39m\n",
      "  \u001b[90m[b718987f] \u001b[39m\u001b[92m+ TextWrap v1.0.2\u001b[39m\n",
      "  \u001b[90m[731e570b] \u001b[39m\u001b[92m+ TiffImages v0.10.0\u001b[39m\n",
      "\u001b[33m⌅\u001b[39m \u001b[90m[3bb67fe8] \u001b[39m\u001b[92m+ TranscodingStreams v0.9.13\u001b[39m\n",
      "\u001b[32m⌃\u001b[39m \u001b[90m[28d57a85] \u001b[39m\u001b[92m+ Transducers v0.4.80\u001b[39m\n",
      "  \u001b[90m[981d1d27] \u001b[39m\u001b[92m+ TriplotBase v0.1.0\u001b[39m\n",
      "  \u001b[90m[7200193e] \u001b[39m\u001b[92m+ Twiddle v1.1.2\u001b[39m\n",
      "  \u001b[90m[30578b45] \u001b[39m\u001b[92m+ URIParser v0.4.1\u001b[39m\n",
      "  \u001b[90m[5c2747f8] \u001b[39m\u001b[92m+ URIs v1.5.1\u001b[39m\n",
      "  \u001b[90m[3a884ed6] \u001b[39m\u001b[92m+ UnPack v1.0.2\u001b[39m\n",
      "  \u001b[90m[1cfade01] \u001b[39m\u001b[92m+ UnicodeFun v0.4.1\u001b[39m\n",
      "  \u001b[90m[1986cc42] \u001b[39m\u001b[92m+ Unitful v1.20.0\u001b[39m\n",
      "  \u001b[90m[45397f5d] \u001b[39m\u001b[92m+ UnitfulLatexify v1.6.3\u001b[39m\n",
      "  \u001b[90m[013be700] \u001b[39m\u001b[92m+ UnsafeAtomics v0.2.1\u001b[39m\n",
      "  \u001b[90m[d80eeb9a] \u001b[39m\u001b[92m+ UnsafeAtomicsLLVM v0.1.5\u001b[39m\n",
      "  \u001b[90m[41fe7b60] \u001b[39m\u001b[92m+ Unzip v0.2.0\u001b[39m\n",
      "  \u001b[90m[81def892] \u001b[39m\u001b[92m+ VersionParsing v1.3.0\u001b[39m\n",
      "  \u001b[90m[ea10d353] \u001b[39m\u001b[92m+ WeakRefStrings v1.4.2\u001b[39m\n",
      "  \u001b[90m[cc8bc4a8] \u001b[39m\u001b[92m+ Widgets v0.6.6\u001b[39m\n",
      "  \u001b[90m[efce3f68] \u001b[39m\u001b[92m+ WoodburyMatrices v1.0.0\u001b[39m\n",
      "  \u001b[90m[76eceee3] \u001b[39m\u001b[92m+ WorkerUtilities v1.6.1\u001b[39m\n",
      "\u001b[32m⌃\u001b[39m \u001b[90m[d759349c] \u001b[39m\u001b[92m+ XAM v0.3.1\u001b[39m\n",
      "  \u001b[90m[e0b4c2ea] \u001b[39m\u001b[92m+ uCSV v0.1.6\u001b[39m\n",
      "\u001b[33m⌅\u001b[39m \u001b[90m[68821587] \u001b[39m\u001b[92m+ Arpack_jll v3.5.1+1\u001b[39m\n",
      "  \u001b[90m[6e34b625] \u001b[39m\u001b[92m+ Bzip2_jll v1.0.8+1\u001b[39m\n",
      "  \u001b[90m[4e9b3aee] \u001b[39m\u001b[92m+ CRlibm_jll v1.0.1+0\u001b[39m\n",
      "  \u001b[90m[83423d85] \u001b[39m\u001b[92m+ Cairo_jll v1.18.0+2\u001b[39m\n",
      "  \u001b[90m[5ae413db] \u001b[39m\u001b[92m+ EarCut_jll v2.2.4+0\u001b[39m\n",
      "  \u001b[90m[2702e6a9] \u001b[39m\u001b[92m+ EpollShim_jll v0.0.20230411+0\u001b[39m\n",
      "  \u001b[90m[2e619515] \u001b[39m\u001b[92m+ Expat_jll v2.6.2+0\u001b[39m\n",
      "\u001b[33m⌅\u001b[39m \u001b[90m[b22a6f82] \u001b[39m\u001b[92m+ FFMPEG_jll v4.4.4+1\u001b[39m\n",
      "  \u001b[90m[f5851436] \u001b[39m\u001b[92m+ FFTW_jll v3.3.10+0\u001b[39m\n",
      "  \u001b[90m[a3f928ae] \u001b[39m\u001b[92m+ Fontconfig_jll v2.13.96+0\u001b[39m\n",
      "  \u001b[90m[d7e528f0] \u001b[39m\u001b[92m+ FreeType2_jll v2.13.2+0\u001b[39m\n",
      "  \u001b[90m[559328eb] \u001b[39m\u001b[92m+ FriBidi_jll v1.0.14+0\u001b[39m\n",
      "  \u001b[90m[0656b61e] \u001b[39m\u001b[92m+ GLFW_jll v3.3.9+0\u001b[39m\n",
      "  \u001b[90m[d2c73de3] \u001b[39m\u001b[92m+ GR_jll v0.73.6+0\u001b[39m\n",
      "  \u001b[90m[78b55507] \u001b[39m\u001b[92m+ Gettext_jll v0.21.0+0\u001b[39m\n",
      "  \u001b[90m[7746bdde] \u001b[39m\u001b[92m+ Glib_jll v2.80.2+0\u001b[39m\n",
      "  \u001b[90m[3b182d85] \u001b[39m\u001b[92m+ Graphite2_jll v1.3.14+0\u001b[39m\n",
      "  \u001b[90m[2e76f6c2] \u001b[39m\u001b[92m+ HarfBuzz_jll v2.8.1+1\u001b[39m\n",
      "  \u001b[90m[905a6f67] \u001b[39m\u001b[92m+ Imath_jll v3.1.11+0\u001b[39m\n",
      "  \u001b[90m[1d5cc7b8] \u001b[39m\u001b[92m+ IntelOpenMP_jll v2024.1.0+0\u001b[39m\n",
      "  \u001b[90m[aacddb02] \u001b[39m\u001b[92m+ JpegTurbo_jll v3.0.3+0\u001b[39m\n",
      "  \u001b[90m[c1c5ebd0] \u001b[39m\u001b[92m+ LAME_jll v3.100.2+0\u001b[39m\n",
      "\u001b[33m⌅\u001b[39m \u001b[90m[88015f11] \u001b[39m\u001b[92m+ LERC_jll v3.0.0+1\u001b[39m\n",
      "  \u001b[90m[dad2f222] \u001b[39m\u001b[92m+ LLVMExtra_jll v0.0.30+0\u001b[39m\n",
      "  \u001b[90m[1d63c593] \u001b[39m\u001b[92m+ LLVMOpenMP_jll v15.0.7+0\u001b[39m\n",
      "  \u001b[90m[dd4b983a] \u001b[39m\u001b[92m+ LZO_jll v2.10.2+0\u001b[39m\n",
      "\u001b[33m⌅\u001b[39m \u001b[90m[e9f186c6] \u001b[39m\u001b[92m+ Libffi_jll v3.2.2+1\u001b[39m\n",
      "  \u001b[90m[d4300ac3] \u001b[39m\u001b[92m+ Libgcrypt_jll v1.8.11+0\u001b[39m\n",
      "  \u001b[90m[7e76a0d4] \u001b[39m\u001b[92m+ Libglvnd_jll v1.6.0+0\u001b[39m\n",
      "  \u001b[90m[7add5ba3] \u001b[39m\u001b[92m+ Libgpg_error_jll v1.49.0+0\u001b[39m\n",
      "  \u001b[90m[94ce4f54] \u001b[39m\u001b[92m+ Libiconv_jll v1.17.0+0\u001b[39m\n",
      "  \u001b[90m[4b2f31a3] \u001b[39m\u001b[92m+ Libmount_jll v2.40.1+0\u001b[39m\n",
      "\u001b[33m⌅\u001b[39m \u001b[90m[89763e89] \u001b[39m\u001b[92m+ Libtiff_jll v4.5.1+1\u001b[39m\n",
      "  \u001b[90m[38a345b3] \u001b[39m\u001b[92m+ Libuuid_jll v2.40.1+0\u001b[39m\n",
      "  \u001b[90m[856f044c] \u001b[39m\u001b[92m+ MKL_jll v2024.1.0+0\u001b[39m\n",
      "  \u001b[90m[e7412a2a] \u001b[39m\u001b[92m+ Ogg_jll v1.3.5+1\u001b[39m\n",
      "  \u001b[90m[18a262bb] \u001b[39m\u001b[92m+ OpenEXR_jll v3.2.4+0\u001b[39m\n",
      "  \u001b[90m[458c3c95] \u001b[39m\u001b[92m+ OpenSSL_jll v3.0.14+0\u001b[39m\n",
      "  \u001b[90m[efe28fd5] \u001b[39m\u001b[92m+ OpenSpecFun_jll v0.5.5+0\u001b[39m\n",
      "  \u001b[90m[91d4177d] \u001b[39m\u001b[92m+ Opus_jll v1.3.2+0\u001b[39m\n",
      "  \u001b[90m[58948b4f] \u001b[39m\u001b[92m+ PROJ_jll v901.300.0+1\u001b[39m\n",
      "  \u001b[90m[36c8627f] \u001b[39m\u001b[92m+ Pango_jll v1.52.2+0\u001b[39m\n",
      "  \u001b[90m[30392449] \u001b[39m\u001b[92m+ Pixman_jll v0.43.4+0\u001b[39m\n",
      "  \u001b[90m[c0090381] \u001b[39m\u001b[92m+ Qt6Base_jll v6.7.1+1\u001b[39m\n",
      "  \u001b[90m[f50d1b31] \u001b[39m\u001b[92m+ Rmath_jll v0.4.2+0\u001b[39m\n",
      "  \u001b[90m[76ed43ae] \u001b[39m\u001b[92m+ SQLite_jll v3.45.3+0\u001b[39m\n",
      "  \u001b[90m[a44049a8] \u001b[39m\u001b[92m+ Vulkan_Loader_jll v1.3.243+0\u001b[39m\n",
      "  \u001b[90m[a2964d1f] \u001b[39m\u001b[92m+ Wayland_jll v1.21.0+1\u001b[39m\n",
      "  \u001b[90m[2381bf8a] \u001b[39m\u001b[92m+ Wayland_protocols_jll v1.31.0+0\u001b[39m\n",
      "  \u001b[90m[02c8fc9c] \u001b[39m\u001b[92m+ XML2_jll v2.12.7+0\u001b[39m\n",
      "  \u001b[90m[aed1982a] \u001b[39m\u001b[92m+ XSLT_jll v1.1.34+0\u001b[39m\n",
      "  \u001b[90m[ffd25f8a] \u001b[39m\u001b[92m+ XZ_jll v5.4.6+0\u001b[39m\n",
      "  \u001b[90m[f67eecfb] \u001b[39m\u001b[92m+ Xorg_libICE_jll v1.1.1+0\u001b[39m\n",
      "  \u001b[90m[c834827a] \u001b[39m\u001b[92m+ Xorg_libSM_jll v1.2.4+0\u001b[39m\n",
      "  \u001b[90m[4f6342f7] \u001b[39m\u001b[92m+ Xorg_libX11_jll v1.8.6+0\u001b[39m\n",
      "  \u001b[90m[0c0b7dd1] \u001b[39m\u001b[92m+ Xorg_libXau_jll v1.0.11+0\u001b[39m\n",
      "  \u001b[90m[935fb764] \u001b[39m\u001b[92m+ Xorg_libXcursor_jll v1.2.0+4\u001b[39m\n",
      "  \u001b[90m[a3789734] \u001b[39m\u001b[92m+ Xorg_libXdmcp_jll v1.1.4+0\u001b[39m\n",
      "  \u001b[90m[1082639a] \u001b[39m\u001b[92m+ Xorg_libXext_jll v1.3.6+0\u001b[39m\n",
      "  \u001b[90m[d091e8ba] \u001b[39m\u001b[92m+ Xorg_libXfixes_jll v5.0.3+4\u001b[39m\n",
      "  \u001b[90m[a51aa0fd] \u001b[39m\u001b[92m+ Xorg_libXi_jll v1.7.10+4\u001b[39m\n",
      "  \u001b[90m[d1454406] \u001b[39m\u001b[92m+ Xorg_libXinerama_jll v1.1.4+4\u001b[39m\n",
      "  \u001b[90m[ec84b674] \u001b[39m\u001b[92m+ Xorg_libXrandr_jll v1.5.2+4\u001b[39m\n",
      "  \u001b[90m[ea2f1a96] \u001b[39m\u001b[92m+ Xorg_libXrender_jll v0.9.11+0\u001b[39m\n",
      "  \u001b[90m[14d82f49] \u001b[39m\u001b[92m+ Xorg_libpthread_stubs_jll v0.1.1+0\u001b[39m\n",
      "  \u001b[90m[c7cfdc94] \u001b[39m\u001b[92m+ Xorg_libxcb_jll v1.17.0+0\u001b[39m\n",
      "  \u001b[90m[cc61e674] \u001b[39m\u001b[92m+ Xorg_libxkbfile_jll v1.1.2+0\u001b[39m\n",
      "  \u001b[90m[e920d4aa] \u001b[39m\u001b[92m+ Xorg_xcb_util_cursor_jll v0.1.4+0\u001b[39m\n",
      "  \u001b[90m[12413925] \u001b[39m\u001b[92m+ Xorg_xcb_util_image_jll v0.4.0+1\u001b[39m\n",
      "  \u001b[90m[2def613f] \u001b[39m\u001b[92m+ Xorg_xcb_util_jll v0.4.0+1\u001b[39m\n",
      "  \u001b[90m[975044d2] \u001b[39m\u001b[92m+ Xorg_xcb_util_keysyms_jll v0.4.0+1\u001b[39m\n",
      "  \u001b[90m[0d47668e] \u001b[39m\u001b[92m+ Xorg_xcb_util_renderutil_jll v0.3.9+1\u001b[39m\n",
      "  \u001b[90m[c22f9ab0] \u001b[39m\u001b[92m+ Xorg_xcb_util_wm_jll v0.4.1+1\u001b[39m\n",
      "  \u001b[90m[35661453] \u001b[39m\u001b[92m+ Xorg_xkbcomp_jll v1.4.6+0\u001b[39m\n",
      "  \u001b[90m[33bec58e] \u001b[39m\u001b[92m+ Xorg_xkeyboard_config_jll v2.39.0+0\u001b[39m\n",
      "  \u001b[90m[c5fb5394] \u001b[39m\u001b[92m+ Xorg_xtrans_jll v1.5.0+0\u001b[39m\n",
      "  \u001b[90m[3161d3a3] \u001b[39m\u001b[92m+ Zstd_jll v1.5.6+0\u001b[39m\n",
      "  \u001b[90m[35ca27e7] \u001b[39m\u001b[92m+ eudev_jll v3.2.9+0\u001b[39m\n",
      "\u001b[33m⌅\u001b[39m \u001b[90m[214eeab7] \u001b[39m\u001b[92m+ fzf_jll v0.43.0+0\u001b[39m\n",
      "  \u001b[90m[1a1c6b14] \u001b[39m\u001b[92m+ gperf_jll v3.1.1+0\u001b[39m\n",
      "  \u001b[90m[9a68df92] \u001b[39m\u001b[92m+ isoband_jll v0.2.3+0\u001b[39m\n",
      "  \u001b[90m[a4ae2306] \u001b[39m\u001b[92m+ libaom_jll v3.9.0+0\u001b[39m\n",
      "  \u001b[90m[0ac62f75] \u001b[39m\u001b[92m+ libass_jll v0.15.1+0\u001b[39m\n",
      "  \u001b[90m[2db6ffa8] \u001b[39m\u001b[92m+ libevdev_jll v1.11.0+0\u001b[39m\n",
      "  \u001b[90m[f638f0a6] \u001b[39m\u001b[92m+ libfdk_aac_jll v2.0.2+0\u001b[39m\n",
      "  \u001b[90m[36db933b] \u001b[39m\u001b[92m+ libinput_jll v1.18.0+0\u001b[39m\n",
      "  \u001b[90m[b53b4c65] \u001b[39m\u001b[92m+ libpng_jll v1.6.43+1\u001b[39m\n",
      "  \u001b[90m[075b6546] \u001b[39m\u001b[92m+ libsixel_jll v1.10.3+0\u001b[39m\n",
      "  \u001b[90m[f27f6e37] \u001b[39m\u001b[92m+ libvorbis_jll v1.3.7+1\u001b[39m\n",
      "  \u001b[90m[009596ad] \u001b[39m\u001b[92m+ mtdev_jll v1.1.6+0\u001b[39m\n",
      "  \u001b[90m[1317d2d5] \u001b[39m\u001b[92m+ oneTBB_jll v2021.12.0+0\u001b[39m\n",
      "  \u001b[90m[1270edf5] \u001b[39m\u001b[92m+ x264_jll v2021.5.5+0\u001b[39m\n",
      "  \u001b[90m[dfaa095f] \u001b[39m\u001b[92m+ x265_jll v3.5.0+0\u001b[39m\n",
      "  \u001b[90m[d8fb68d0] \u001b[39m\u001b[92m+ xkbcommon_jll v1.4.1+1\u001b[39m\n",
      "  \u001b[90m[8bf52ea8] \u001b[39m\u001b[92m+ CRC32c\u001b[39m\n",
      "  \u001b[90m[9fa8497b] \u001b[39m\u001b[92m+ Future\u001b[39m\n",
      "  \u001b[90m[4af54fe1] \u001b[39m\u001b[92m+ LazyArtifacts\u001b[39m\n",
      "  \u001b[90m[37e2e46d] \u001b[39m\u001b[92m+ LinearAlgebra\u001b[39m\n",
      "  \u001b[90m[a63ad114] \u001b[39m\u001b[92m+ Mmap\u001b[39m\n",
      "  \u001b[90m[1a1011a3] \u001b[39m\u001b[92m+ SharedArrays\u001b[39m\n",
      "  \u001b[90m[2f01184e] \u001b[39m\u001b[92m+ SparseArrays v1.10.0\u001b[39m\n",
      "  \u001b[90m[10745b16] \u001b[39m\u001b[92m+ Statistics v1.10.0\u001b[39m\n",
      "  \u001b[90m[4607b0f0] \u001b[39m\u001b[92m+ SuiteSparse\u001b[39m\n",
      "  \u001b[90m[8dfed614] \u001b[39m\u001b[92m+ Test\u001b[39m\n",
      "  \u001b[90m[e66e0078] \u001b[39m\u001b[92m+ CompilerSupportLibraries_jll v1.1.0+0\u001b[39m\n",
      "  \u001b[90m[4536629a] \u001b[39m\u001b[92m+ OpenBLAS_jll v0.3.23+4\u001b[39m\n",
      "  \u001b[90m[05823500] \u001b[39m\u001b[92m+ OpenLibm_jll v0.8.1+2\u001b[39m\n",
      "  \u001b[90m[efcefdf7] \u001b[39m\u001b[92m+ PCRE2_jll v10.42.0+1\u001b[39m\n",
      "  \u001b[90m[bea87d4a] \u001b[39m\u001b[92m+ SuiteSparse_jll v7.2.1+1\u001b[39m\n",
      "  \u001b[90m[8e850b90] \u001b[39m\u001b[92m+ libblastrampoline_jll v5.8.0+1\u001b[39m\n",
      "\u001b[36m\u001b[1m        Info\u001b[22m\u001b[39m Packages marked with \u001b[32m⌃\u001b[39m and \u001b[33m⌅\u001b[39m have new versions available. Those with \u001b[32m⌃\u001b[39m may be upgradable, but those with \u001b[33m⌅\u001b[39m are restricted by compatibility constraints from upgrading. To see why use `status --outdated -m`\n",
      "\u001b[36m\u001b[1m[ \u001b[22m\u001b[39m\u001b[36m\u001b[1mInfo: \u001b[22m\u001b[39mPrecompiling Mycelia [453d265d-8292-4a7b-a57c-dce3f9ae6acd]\n",
      "\u001b[36m\u001b[1m[ \u001b[22m\u001b[39m\u001b[36m\u001b[1mInfo: \u001b[22m\u001b[39mSkipping precompilation since __precompile__(false). Importing Mycelia [453d265d-8292-4a7b-a57c-dce3f9ae6acd].\n",
      "\u001b[32m\u001b[1m   Resolving\u001b[22m\u001b[39m package versions...\n",
      "\u001b[32m\u001b[1m    Updating\u001b[22m\u001b[39m `/tmp/jl_sZYaJ9/Project.toml`\n",
      "  \u001b[90m[336ed68f] \u001b[39m\u001b[92m+ CSV v0.10.14\u001b[39m\n",
      "  \u001b[90m[944b1d66] \u001b[39m\u001b[92m+ CodecZlib v0.7.4\u001b[39m\n",
      "  \u001b[90m[a93c6f00] \u001b[39m\u001b[92m+ DataFrames v1.6.1\u001b[39m\n",
      "  \u001b[90m[31c24e10] \u001b[39m\u001b[92m+ Distributions v0.25.109\u001b[39m\n",
      "\u001b[32m⌃\u001b[39m \u001b[90m[c2308a5c] \u001b[39m\u001b[92m+ FASTX v2.1.2\u001b[39m\n",
      "  \u001b[90m[91a5bcdd] \u001b[39m\u001b[92m+ Plots v1.40.4\u001b[39m\n",
      "  \u001b[90m[92933f4c] \u001b[39m\u001b[92m+ ProgressMeter v1.10.0\u001b[39m\n",
      "  \u001b[90m[2913bbd2] \u001b[39m\u001b[92m+ StatsBase v0.34.3\u001b[39m\n",
      "\u001b[32m⌃\u001b[39m \u001b[90m[d759349c] \u001b[39m\u001b[92m+ XAM v0.3.1\u001b[39m\n",
      "  \u001b[90m[e0b4c2ea] \u001b[39m\u001b[92m+ uCSV v0.1.6\u001b[39m\n",
      "  \u001b[90m[9a3f8284] \u001b[39m\u001b[92m+ Random\u001b[39m\n",
      "  \u001b[90m[10745b16] \u001b[39m\u001b[92m+ Statistics v1.10.0\u001b[39m\n",
      "\u001b[32m\u001b[1m  No Changes\u001b[22m\u001b[39m to `/tmp/jl_sZYaJ9/Manifest.toml`\n"
     ]
    }
   ],
   "source": [
    "# if hit plotting library issues, try resetting LD path for julia\n",
    "# can set in ~/.local/share/jupyter/kernels/\n",
    "haskey(ENV, \"LD_LIBRARY_PATH\") && @assert ENV[\"LD_LIBRARY_PATH\"] == \"\"\n",
    "import Pkg\n",
    "Pkg.activate(;temp=true)\n",
    "Pkg.add(\"Revise\")\n",
    "import Revise\n",
    "\n",
    "# Pkg.develop(path=\"/global/cfs/projectdirs/m4269/cjprybol/Mycelia\")\n",
    "# Pkg.develop(path=\"../../..\")\n",
    "Pkg.develop(path=\"$(homedir())/workspace/Mycelia\")\n",
    "import Mycelia\n",
    "\n",
    "pkgs = String[\n",
    "    \"DataFrames\",\n",
    "    \"FASTX\",\n",
    "    \"XAM\",\n",
    "    \"uCSV\",\n",
    "    \"CodecZlib\",\n",
    "    \"ProgressMeter\",\n",
    "    \"StatsBase\",\n",
    "    \"Statistics\",\n",
    "    \"CSV\",\n",
    "    \"Random\",\n",
    "    \"Distributions\",\n",
    "    \"Plots\"\n",
    "]\n",
    "Pkg.add(pkgs)\n",
    "for pkg in pkgs\n",
    "    eval(Meta.parse(\"import $pkg\"))\n",
    "end"
   ]
  },
  {
   "cell_type": "code",
   "execution_count": 2,
   "id": "9564297f-ef3e-40a9-9f9e-3f0adf9ef26f",
   "metadata": {
    "tags": []
   },
   "outputs": [
    {
     "data": {
      "text/plain": [
       "dirichlet_distribution (generic function with 1 method)"
      ]
     },
     "execution_count": 2,
     "metadata": {},
     "output_type": "execute_result"
    }
   ],
   "source": [
    "function zipf_distribution(n)\n",
    "  return 1 ./ collect(1:n)\n",
    "end\n",
    "\n",
    "function dirichlet_distribution(alpha)\n",
    "  return rand(Distributions.Dirichlet(alpha))\n",
    "end"
   ]
  },
  {
   "cell_type": "code",
   "execution_count": 3,
   "id": "9c4d0f09-d6bf-47f3-bc27-60fe4259943b",
   "metadata": {
    "tags": []
   },
   "outputs": [
    {
     "data": {
      "text/plain": [
       "\"/global/cfs/cdirs/m4269/cjprybol/Mycelia/projects/metagenome/data\""
      ]
     },
     "execution_count": 3,
     "metadata": {},
     "output_type": "execute_result"
    }
   ],
   "source": [
    "basedir = dirname(pwd())\n",
    "data_dir = joinpath(basedir, \"data\")"
   ]
  },
  {
   "cell_type": "code",
   "execution_count": 4,
   "id": "6d56202e-a9ef-40bd-a909-3e80d4902448",
   "metadata": {
    "tags": []
   },
   "outputs": [
    {
     "name": "stdout",
     "output_type": "stream",
     "text": [
      " 10.974639 seconds (27.40 M allocations: 1.486 GiB, 14.26% gc time, 5.59% compilation time: 6% of which was recompilation)\n"
     ]
    }
   ],
   "source": [
    "@time ncbi_species_table = Mycelia.list_species();"
   ]
  },
  {
   "cell_type": "code",
   "execution_count": 5,
   "id": "47de0466-140b-49b5-9307-277ca4a883f8",
   "metadata": {
    "tags": []
   },
   "outputs": [
    {
     "name": "stdout",
     "output_type": "stream",
     "text": [
      " 24.445105 seconds (55.64 M allocations: 3.614 GiB, 12.89% gc time, 42.91% compilation time: 1% of which was recompilation)\n"
     ]
    }
   ],
   "source": [
    "@time refseq_metadata_table = Mycelia.load_refseq_metadata();"
   ]
  },
  {
   "cell_type": "code",
   "execution_count": 6,
   "id": "7ecef10b-b61e-4716-a126-cea9f2a99f55",
   "metadata": {
    "tags": []
   },
   "outputs": [
    {
     "data": {
      "text/plain": [
       "Random.TaskLocalRNG()"
      ]
     },
     "execution_count": 6,
     "metadata": {},
     "output_type": "execute_result"
    }
   ],
   "source": [
    "# function subsample(t, n)\n",
    "#     return t[StatsBase.sample(1:DataFrames.nrow(t), N, ordered=true, replace=false), :]\n",
    "# end\n",
    "\n",
    "function sample_evenly_by_group(df, column, N)\n",
    "    gdf = collect(DataFrames.groupby(df, column))\n",
    "    return_df = DataFrames.DataFrame()\n",
    "    while DataFrames.nrow(return_df) < N\n",
    "        this_gdf = rand(gdf)\n",
    "        row = rand(1:DataFrames.nrow(this_gdf))\n",
    "        sampled_row = this_gdf[row, :]\n",
    "        push!(return_df, sampled_row)\n",
    "    end\n",
    "    return return_df\n",
    "end\n",
    "\n",
    "N = 1\n",
    "Random.seed!(N)"
   ]
  },
  {
   "cell_type": "code",
   "execution_count": 7,
   "id": "a6b04887-b8a8-4c1b-80b7-26c3a80bd86d",
   "metadata": {
    "tags": []
   },
   "outputs": [
    {
     "data": {
      "text/html": [
       "<div><div style = \"float: left;\"><span>1×38 DataFrame</span></div><div style = \"clear: both;\"></div></div><div class = \"data-frame\" style = \"overflow-x: scroll;\"><table class = \"data-frame\" style = \"margin-bottom: 6px;\"><thead><tr class = \"header\"><th class = \"rowNumber\" style = \"font-weight: bold; text-align: right;\">Row</th><th style = \"text-align: left;\">#assembly_accession</th><th style = \"text-align: left;\">bioproject</th><th style = \"text-align: left;\">biosample</th><th style = \"text-align: left;\">wgs_master</th><th style = \"text-align: left;\">refseq_category</th><th style = \"text-align: left;\">taxid</th><th style = \"text-align: left;\">species_taxid</th><th style = \"text-align: left;\">organism_name</th><th style = \"text-align: left;\">infraspecific_name</th><th style = \"text-align: left;\">isolate</th><th style = \"text-align: left;\">version_status</th><th style = \"text-align: left;\">assembly_level</th><th style = \"text-align: left;\">release_type</th><th style = \"text-align: left;\">genome_rep</th><th style = \"text-align: left;\">seq_rel_date</th><th style = \"text-align: left;\">asm_name</th><th style = \"text-align: left;\">asm_submitter</th><th style = \"text-align: left;\">gbrs_paired_asm</th><th style = \"text-align: left;\">paired_asm_comp</th><th style = \"text-align: left;\">ftp_path</th><th style = \"text-align: left;\">excluded_from_refseq</th><th style = \"text-align: left;\">relation_to_type_material</th><th style = \"text-align: left;\">asm_not_live_date</th><th style = \"text-align: left;\">assembly_type</th><th style = \"text-align: left;\">group</th><th style = \"text-align: left;\">genome_size</th><th style = \"text-align: left;\">genome_size_ungapped</th><th style = \"text-align: left;\">gc_percent</th><th style = \"text-align: left;\">replicon_count</th><th style = \"text-align: left;\">scaffold_count</th><th style = \"text-align: left;\">contig_count</th><th style = \"text-align: left;\">annotation_provider</th><th style = \"text-align: left;\">annotation_name</th><th style = \"text-align: left;\">annotation_date</th><th style = \"text-align: left;\">total_gene_count</th><th style = \"text-align: left;\">protein_coding_gene_count</th><th style = \"text-align: left;\">non_coding_gene_count</th><th style = \"text-align: left;\">pubmed_id</th></tr><tr class = \"subheader headerLastRow\"><th class = \"rowNumber\" style = \"font-weight: bold; text-align: right;\"></th><th title = \"String\" style = \"text-align: left;\">String</th><th title = \"String\" style = \"text-align: left;\">String</th><th title = \"String\" style = \"text-align: left;\">String</th><th title = \"String\" style = \"text-align: left;\">String</th><th title = \"String\" style = \"text-align: left;\">String</th><th title = \"Int64\" style = \"text-align: left;\">Int64</th><th title = \"Int64\" style = \"text-align: left;\">Int64</th><th title = \"String\" style = \"text-align: left;\">String</th><th title = \"String\" style = \"text-align: left;\">String</th><th title = \"String\" style = \"text-align: left;\">String</th><th title = \"String\" style = \"text-align: left;\">String</th><th title = \"String\" style = \"text-align: left;\">String</th><th title = \"String\" style = \"text-align: left;\">String</th><th title = \"String\" style = \"text-align: left;\">String</th><th title = \"Dates.Date\" style = \"text-align: left;\">Date</th><th title = \"String\" style = \"text-align: left;\">String</th><th title = \"String\" style = \"text-align: left;\">String</th><th title = \"String\" style = \"text-align: left;\">String</th><th title = \"String\" style = \"text-align: left;\">String</th><th title = \"String\" style = \"text-align: left;\">String</th><th title = \"String\" style = \"text-align: left;\">String</th><th title = \"String\" style = \"text-align: left;\">String</th><th title = \"String\" style = \"text-align: left;\">String</th><th title = \"String\" style = \"text-align: left;\">String</th><th title = \"String\" style = \"text-align: left;\">String</th><th title = \"Int64\" style = \"text-align: left;\">Int64</th><th title = \"Int64\" style = \"text-align: left;\">Int64</th><th title = \"Float64\" style = \"text-align: left;\">Float64</th><th title = \"Int64\" style = \"text-align: left;\">Int64</th><th title = \"Int64\" style = \"text-align: left;\">Int64</th><th title = \"Int64\" style = \"text-align: left;\">Int64</th><th title = \"String\" style = \"text-align: left;\">String</th><th title = \"String\" style = \"text-align: left;\">String</th><th title = \"Dates.Date\" style = \"text-align: left;\">Date</th><th title = \"Int64\" style = \"text-align: left;\">Int64</th><th title = \"Int64\" style = \"text-align: left;\">Int64</th><th title = \"Int64\" style = \"text-align: left;\">Int64</th><th title = \"String\" style = \"text-align: left;\">String</th></tr></thead><tbody><tr><td class = \"rowNumber\" style = \"font-weight: bold; text-align: right;\">1</td><td style = \"text-align: left;\">GCF_003627195.1</td><td style = \"text-align: left;\">PRJNA224116</td><td style = \"text-align: left;\">SAMN10139565</td><td style = \"text-align: left;\">na</td><td style = \"text-align: left;\">na</td><td style = \"text-align: right;\">511145</td><td style = \"text-align: right;\">562</td><td style = \"text-align: left;\">Escherichia coli str. K-12 substr. MG1655</td><td style = \"text-align: left;\">strain=K-12 substr. MG1655</td><td style = \"text-align: left;\">na</td><td style = \"text-align: left;\">latest</td><td style = \"text-align: left;\">Complete Genome</td><td style = \"text-align: left;\">Major</td><td style = \"text-align: left;\">Full</td><td style = \"text-align: left;\">2018-10-08</td><td style = \"text-align: left;\">ASM362719v1</td><td style = \"text-align: left;\">None</td><td style = \"text-align: left;\">GCA_003627195.1</td><td style = \"text-align: left;\">identical</td><td style = \"text-align: left;\">https://ftp.ncbi.nlm.nih.gov/genomes/all/GCF/003/627/195/GCF_003627195.1_ASM362719v1</td><td style = \"text-align: left;\">na</td><td style = \"text-align: left;\">na</td><td style = \"text-align: left;\">na</td><td style = \"text-align: left;\">haploid</td><td style = \"text-align: left;\">bacteria</td><td style = \"text-align: right;\">4639694</td><td style = \"text-align: right;\">4639694</td><td style = \"text-align: right;\">51.0</td><td style = \"text-align: right;\">1</td><td style = \"text-align: right;\">1</td><td style = \"text-align: right;\">1</td><td style = \"text-align: left;\">NCBI RefSeq</td><td style = \"text-align: left;\">NCBI Prokaryotic Genome Annotation Pipeline (PGAP)</td><td style = \"text-align: left;\">2024-03-06</td><td style = \"text-align: right;\">4532</td><td style = \"text-align: right;\">4219</td><td style = \"text-align: right;\">123</td><td style = \"text-align: left;\">na</td></tr></tbody></table></div>"
      ],
      "text/latex": [
       "\\begin{tabular}{r|ccccccc}\n",
       "\t& \\#assembly\\_accession & bioproject & biosample & wgs\\_master & refseq\\_category & taxid & \\\\\n",
       "\t\\hline\n",
       "\t& String & String & String & String & String & Int64 & \\\\\n",
       "\t\\hline\n",
       "\t1 & GCF\\_003627195.1 & PRJNA224116 & SAMN10139565 & na & na & 511145 & $\\dots$ \\\\\n",
       "\\end{tabular}\n"
      ],
      "text/plain": [
       "\u001b[1m1×38 DataFrame\u001b[0m\n",
       "\u001b[1m Row \u001b[0m│\u001b[1m #assembly_accession \u001b[0m\u001b[1m bioproject  \u001b[0m\u001b[1m biosample    \u001b[0m\u001b[1m wgs_master \u001b[0m\u001b[1m refseq_cate\u001b[0m ⋯\n",
       "     │\u001b[90m String              \u001b[0m\u001b[90m String      \u001b[0m\u001b[90m String       \u001b[0m\u001b[90m String     \u001b[0m\u001b[90m String     \u001b[0m ⋯\n",
       "─────┼──────────────────────────────────────────────────────────────────────────\n",
       "   1 │ GCF_003627195.1      PRJNA224116  SAMN10139565  na          na          ⋯\n",
       "\u001b[36m                                                              34 columns omitted\u001b[0m"
      ]
     },
     "execution_count": 7,
     "metadata": {},
     "output_type": "execute_result"
    }
   ],
   "source": [
    "# e coli\n",
    "# ec_taxa_ids = Set(Mycelia.list_subtaxa(562))\n",
    "# ec_metadata_table = refseq_metadata_table[map(x -> x in ec_taxa_ids, refseq_metadata_table[!, \"species_taxid\"]), :]\n",
    "# 37891 distinct accessions\n",
    "ec_metadata_table = refseq_metadata_table[refseq_metadata_table[!, \"species_taxid\"] .== 562, :]\n",
    "ec_metadata_table = sample_evenly_by_group(ec_metadata_table, \"taxid\", N)\n",
    "# 2271 distinct taxids\n",
    "# sort(collect(StatsBase.countmap(ec_metadata_table[!, \"taxid\"])), by=x->x[2], rev=true)\n",
    "# ec_metadata_table = subsample(ec_metadata_table, N)"
   ]
  },
  {
   "cell_type": "code",
   "execution_count": 8,
   "id": "93190bd5-2bfe-4b36-a188-2c6255b47a69",
   "metadata": {
    "tags": []
   },
   "outputs": [
    {
     "data": {
      "text/html": [
       "<div><div style = \"float: left;\"><span>1×38 DataFrame</span></div><div style = \"clear: both;\"></div></div><div class = \"data-frame\" style = \"overflow-x: scroll;\"><table class = \"data-frame\" style = \"margin-bottom: 6px;\"><thead><tr class = \"header\"><th class = \"rowNumber\" style = \"font-weight: bold; text-align: right;\">Row</th><th style = \"text-align: left;\">#assembly_accession</th><th style = \"text-align: left;\">bioproject</th><th style = \"text-align: left;\">biosample</th><th style = \"text-align: left;\">wgs_master</th><th style = \"text-align: left;\">refseq_category</th><th style = \"text-align: left;\">taxid</th><th style = \"text-align: left;\">species_taxid</th><th style = \"text-align: left;\">organism_name</th><th style = \"text-align: left;\">infraspecific_name</th><th style = \"text-align: left;\">isolate</th><th style = \"text-align: left;\">version_status</th><th style = \"text-align: left;\">assembly_level</th><th style = \"text-align: left;\">release_type</th><th style = \"text-align: left;\">genome_rep</th><th style = \"text-align: left;\">seq_rel_date</th><th style = \"text-align: left;\">asm_name</th><th style = \"text-align: left;\">asm_submitter</th><th style = \"text-align: left;\">gbrs_paired_asm</th><th style = \"text-align: left;\">paired_asm_comp</th><th style = \"text-align: left;\">ftp_path</th><th style = \"text-align: left;\">excluded_from_refseq</th><th style = \"text-align: left;\">relation_to_type_material</th><th style = \"text-align: left;\">asm_not_live_date</th><th style = \"text-align: left;\">assembly_type</th><th style = \"text-align: left;\">group</th><th style = \"text-align: left;\">genome_size</th><th style = \"text-align: left;\">genome_size_ungapped</th><th style = \"text-align: left;\">gc_percent</th><th style = \"text-align: left;\">replicon_count</th><th style = \"text-align: left;\">scaffold_count</th><th style = \"text-align: left;\">contig_count</th><th style = \"text-align: left;\">annotation_provider</th><th style = \"text-align: left;\">annotation_name</th><th style = \"text-align: left;\">annotation_date</th><th style = \"text-align: left;\">total_gene_count</th><th style = \"text-align: left;\">protein_coding_gene_count</th><th style = \"text-align: left;\">non_coding_gene_count</th><th style = \"text-align: left;\">pubmed_id</th></tr><tr class = \"subheader headerLastRow\"><th class = \"rowNumber\" style = \"font-weight: bold; text-align: right;\"></th><th title = \"String\" style = \"text-align: left;\">String</th><th title = \"String\" style = \"text-align: left;\">String</th><th title = \"String\" style = \"text-align: left;\">String</th><th title = \"String\" style = \"text-align: left;\">String</th><th title = \"String\" style = \"text-align: left;\">String</th><th title = \"Int64\" style = \"text-align: left;\">Int64</th><th title = \"Int64\" style = \"text-align: left;\">Int64</th><th title = \"String\" style = \"text-align: left;\">String</th><th title = \"String\" style = \"text-align: left;\">String</th><th title = \"String\" style = \"text-align: left;\">String</th><th title = \"String\" style = \"text-align: left;\">String</th><th title = \"String\" style = \"text-align: left;\">String</th><th title = \"String\" style = \"text-align: left;\">String</th><th title = \"String\" style = \"text-align: left;\">String</th><th title = \"Dates.Date\" style = \"text-align: left;\">Date</th><th title = \"String\" style = \"text-align: left;\">String</th><th title = \"String\" style = \"text-align: left;\">String</th><th title = \"String\" style = \"text-align: left;\">String</th><th title = \"String\" style = \"text-align: left;\">String</th><th title = \"String\" style = \"text-align: left;\">String</th><th title = \"String\" style = \"text-align: left;\">String</th><th title = \"String\" style = \"text-align: left;\">String</th><th title = \"String\" style = \"text-align: left;\">String</th><th title = \"String\" style = \"text-align: left;\">String</th><th title = \"String\" style = \"text-align: left;\">String</th><th title = \"Int64\" style = \"text-align: left;\">Int64</th><th title = \"Int64\" style = \"text-align: left;\">Int64</th><th title = \"Float64\" style = \"text-align: left;\">Float64</th><th title = \"Int64\" style = \"text-align: left;\">Int64</th><th title = \"Int64\" style = \"text-align: left;\">Int64</th><th title = \"Int64\" style = \"text-align: left;\">Int64</th><th title = \"String\" style = \"text-align: left;\">String</th><th title = \"String\" style = \"text-align: left;\">String</th><th title = \"Dates.Date\" style = \"text-align: left;\">Date</th><th title = \"Int64\" style = \"text-align: left;\">Int64</th><th title = \"Int64\" style = \"text-align: left;\">Int64</th><th title = \"Int64\" style = \"text-align: left;\">Int64</th><th title = \"String\" style = \"text-align: left;\">String</th></tr></thead><tbody><tr><td class = \"rowNumber\" style = \"font-weight: bold; text-align: right;\">1</td><td style = \"text-align: left;\">GCF_000561005.1</td><td style = \"text-align: left;\">PRJNA224116</td><td style = \"text-align: left;\">SAMN02383712</td><td style = \"text-align: left;\">JDKJ00000000.1</td><td style = \"text-align: left;\">na</td><td style = \"text-align: right;\">1410792</td><td style = \"text-align: right;\">1280</td><td style = \"text-align: left;\">Staphylococcus aureus S72396</td><td style = \"text-align: left;\">strain=S72396</td><td style = \"text-align: left;\">na</td><td style = \"text-align: left;\">latest</td><td style = \"text-align: left;\">Scaffold</td><td style = \"text-align: left;\">Major</td><td style = \"text-align: left;\">Full</td><td style = \"text-align: left;\">2014-02-06</td><td style = \"text-align: left;\">Stap_aure_S72396_V1</td><td style = \"text-align: left;\">Broad Institute</td><td style = \"text-align: left;\">GCA_000561005.1</td><td style = \"text-align: left;\">identical</td><td style = \"text-align: left;\">https://ftp.ncbi.nlm.nih.gov/genomes/all/GCF/000/561/005/GCF_000561005.1_Stap_aure_S72396_V1</td><td style = \"text-align: left;\">na</td><td style = \"text-align: left;\">na</td><td style = \"text-align: left;\">na</td><td style = \"text-align: left;\">haploid</td><td style = \"text-align: left;\">bacteria</td><td style = \"text-align: right;\">2865640</td><td style = \"text-align: right;\">2864782</td><td style = \"text-align: right;\">33.0</td><td style = \"text-align: right;\">0</td><td style = \"text-align: right;\">63</td><td style = \"text-align: right;\">67</td><td style = \"text-align: left;\">NCBI RefSeq</td><td style = \"text-align: left;\">NCBI Prokaryotic Genome Annotation Pipeline (PGAP)</td><td style = \"text-align: left;\">2023-10-30</td><td style = \"text-align: right;\">2919</td><td style = \"text-align: right;\">2745</td><td style = \"text-align: right;\">74</td><td style = \"text-align: left;\">na</td></tr></tbody></table></div>"
      ],
      "text/latex": [
       "\\begin{tabular}{r|cccccc}\n",
       "\t& \\#assembly\\_accession & bioproject & biosample & wgs\\_master & refseq\\_category & \\\\\n",
       "\t\\hline\n",
       "\t& String & String & String & String & String & \\\\\n",
       "\t\\hline\n",
       "\t1 & GCF\\_000561005.1 & PRJNA224116 & SAMN02383712 & JDKJ00000000.1 & na & $\\dots$ \\\\\n",
       "\\end{tabular}\n"
      ],
      "text/plain": [
       "\u001b[1m1×38 DataFrame\u001b[0m\n",
       "\u001b[1m Row \u001b[0m│\u001b[1m #assembly_accession \u001b[0m\u001b[1m bioproject  \u001b[0m\u001b[1m biosample    \u001b[0m\u001b[1m wgs_master     \u001b[0m\u001b[1m refseq_\u001b[0m ⋯\n",
       "     │\u001b[90m String              \u001b[0m\u001b[90m String      \u001b[0m\u001b[90m String       \u001b[0m\u001b[90m String         \u001b[0m\u001b[90m String \u001b[0m ⋯\n",
       "─────┼──────────────────────────────────────────────────────────────────────────\n",
       "   1 │ GCF_000561005.1      PRJNA224116  SAMN02383712  JDKJ00000000.1  na      ⋯\n",
       "\u001b[36m                                                              34 columns omitted\u001b[0m"
      ]
     },
     "execution_count": 8,
     "metadata": {},
     "output_type": "execute_result"
    }
   ],
   "source": [
    "# staph\n",
    "# sa_taxa_ids = Set(Mycelia.list_subtaxa(1280))\n",
    "# 16411 distinct accessions\n",
    "sa_metadata_table = refseq_metadata_table[refseq_metadata_table[!, \"species_taxid\"] .== 1280, :]\n",
    "# 4109 distinct taxids\n",
    "# sort(collect(StatsBase.countmap(sa_metadata_table[!, \"taxid\"])), by=x->x[2], rev=true)\n",
    "sa_metadata_table = sample_evenly_by_group(sa_metadata_table, \"taxid\", N)"
   ]
  },
  {
   "cell_type": "code",
   "execution_count": 9,
   "id": "6a301210-5436-4306-b730-b50a9fe64abe",
   "metadata": {
    "tags": []
   },
   "outputs": [
    {
     "data": {
      "text/html": [
       "<div><div style = \"float: left;\"><span>1×38 DataFrame</span></div><div style = \"clear: both;\"></div></div><div class = \"data-frame\" style = \"overflow-x: scroll;\"><table class = \"data-frame\" style = \"margin-bottom: 6px;\"><thead><tr class = \"header\"><th class = \"rowNumber\" style = \"font-weight: bold; text-align: right;\">Row</th><th style = \"text-align: left;\">#assembly_accession</th><th style = \"text-align: left;\">bioproject</th><th style = \"text-align: left;\">biosample</th><th style = \"text-align: left;\">wgs_master</th><th style = \"text-align: left;\">refseq_category</th><th style = \"text-align: left;\">taxid</th><th style = \"text-align: left;\">species_taxid</th><th style = \"text-align: left;\">organism_name</th><th style = \"text-align: left;\">infraspecific_name</th><th style = \"text-align: left;\">isolate</th><th style = \"text-align: left;\">version_status</th><th style = \"text-align: left;\">assembly_level</th><th style = \"text-align: left;\">release_type</th><th style = \"text-align: left;\">genome_rep</th><th style = \"text-align: left;\">seq_rel_date</th><th style = \"text-align: left;\">asm_name</th><th style = \"text-align: left;\">asm_submitter</th><th style = \"text-align: left;\">gbrs_paired_asm</th><th style = \"text-align: left;\">paired_asm_comp</th><th style = \"text-align: left;\">ftp_path</th><th style = \"text-align: left;\">excluded_from_refseq</th><th style = \"text-align: left;\">relation_to_type_material</th><th style = \"text-align: left;\">asm_not_live_date</th><th style = \"text-align: left;\">assembly_type</th><th style = \"text-align: left;\">group</th><th style = \"text-align: left;\">genome_size</th><th style = \"text-align: left;\">genome_size_ungapped</th><th style = \"text-align: left;\">gc_percent</th><th style = \"text-align: left;\">replicon_count</th><th style = \"text-align: left;\">scaffold_count</th><th style = \"text-align: left;\">contig_count</th><th style = \"text-align: left;\">annotation_provider</th><th style = \"text-align: left;\">annotation_name</th><th style = \"text-align: left;\">annotation_date</th><th style = \"text-align: left;\">total_gene_count</th><th style = \"text-align: left;\">protein_coding_gene_count</th><th style = \"text-align: left;\">non_coding_gene_count</th><th style = \"text-align: left;\">pubmed_id</th></tr><tr class = \"subheader headerLastRow\"><th class = \"rowNumber\" style = \"font-weight: bold; text-align: right;\"></th><th title = \"String\" style = \"text-align: left;\">String</th><th title = \"String\" style = \"text-align: left;\">String</th><th title = \"String\" style = \"text-align: left;\">String</th><th title = \"String\" style = \"text-align: left;\">String</th><th title = \"String\" style = \"text-align: left;\">String</th><th title = \"Int64\" style = \"text-align: left;\">Int64</th><th title = \"Int64\" style = \"text-align: left;\">Int64</th><th title = \"String\" style = \"text-align: left;\">String</th><th title = \"String\" style = \"text-align: left;\">String</th><th title = \"String\" style = \"text-align: left;\">String</th><th title = \"String\" style = \"text-align: left;\">String</th><th title = \"String\" style = \"text-align: left;\">String</th><th title = \"String\" style = \"text-align: left;\">String</th><th title = \"String\" style = \"text-align: left;\">String</th><th title = \"Dates.Date\" style = \"text-align: left;\">Date</th><th title = \"String\" style = \"text-align: left;\">String</th><th title = \"String\" style = \"text-align: left;\">String</th><th title = \"String\" style = \"text-align: left;\">String</th><th title = \"String\" style = \"text-align: left;\">String</th><th title = \"String\" style = \"text-align: left;\">String</th><th title = \"String\" style = \"text-align: left;\">String</th><th title = \"String\" style = \"text-align: left;\">String</th><th title = \"String\" style = \"text-align: left;\">String</th><th title = \"String\" style = \"text-align: left;\">String</th><th title = \"String\" style = \"text-align: left;\">String</th><th title = \"Int64\" style = \"text-align: left;\">Int64</th><th title = \"Int64\" style = \"text-align: left;\">Int64</th><th title = \"Float64\" style = \"text-align: left;\">Float64</th><th title = \"Int64\" style = \"text-align: left;\">Int64</th><th title = \"Int64\" style = \"text-align: left;\">Int64</th><th title = \"Int64\" style = \"text-align: left;\">Int64</th><th title = \"String\" style = \"text-align: left;\">String</th><th title = \"String\" style = \"text-align: left;\">String</th><th title = \"Dates.Date\" style = \"text-align: left;\">Date</th><th title = \"Int64\" style = \"text-align: left;\">Int64</th><th title = \"Int64\" style = \"text-align: left;\">Int64</th><th title = \"Int64\" style = \"text-align: left;\">Int64</th><th title = \"String\" style = \"text-align: left;\">String</th></tr></thead><tbody><tr><td class = \"rowNumber\" style = \"font-weight: bold; text-align: right;\">1</td><td style = \"text-align: left;\">GCF_000496605.2</td><td style = \"text-align: left;\">PRJNA224116</td><td style = \"text-align: left;\">SAMN02603191</td><td style = \"text-align: left;\">na</td><td style = \"text-align: left;\">na</td><td style = \"text-align: right;\">1279007</td><td style = \"text-align: right;\">287</td><td style = \"text-align: left;\">Pseudomonas aeruginosa PA1</td><td style = \"text-align: left;\">strain=PA1</td><td style = \"text-align: left;\">na</td><td style = \"text-align: left;\">latest</td><td style = \"text-align: left;\">Complete Genome</td><td style = \"text-align: left;\">Major</td><td style = \"text-align: left;\">Full</td><td style = \"text-align: left;\">2015-09-11</td><td style = \"text-align: left;\">ASM49660v2</td><td style = \"text-align: left;\">Department of Microbiology, The Third Military Medical University</td><td style = \"text-align: left;\">GCA_000496605.2</td><td style = \"text-align: left;\">identical</td><td style = \"text-align: left;\">https://ftp.ncbi.nlm.nih.gov/genomes/all/GCF/000/496/605/GCF_000496605.2_ASM49660v2</td><td style = \"text-align: left;\">na</td><td style = \"text-align: left;\">na</td><td style = \"text-align: left;\">na</td><td style = \"text-align: left;\">haploid</td><td style = \"text-align: left;\">bacteria</td><td style = \"text-align: right;\">6498072</td><td style = \"text-align: right;\">6498072</td><td style = \"text-align: right;\">66.5</td><td style = \"text-align: right;\">1</td><td style = \"text-align: right;\">1</td><td style = \"text-align: right;\">1</td><td style = \"text-align: left;\">NCBI RefSeq</td><td style = \"text-align: left;\">NCBI Prokaryotic Genome Annotation Pipeline (PGAP)</td><td style = \"text-align: left;\">2023-12-08</td><td style = \"text-align: right;\">6067</td><td style = \"text-align: right;\">5937</td><td style = \"text-align: right;\">81</td><td style = \"text-align: left;\">26659688</td></tr></tbody></table></div>"
      ],
      "text/latex": [
       "\\begin{tabular}{r|ccccccc}\n",
       "\t& \\#assembly\\_accession & bioproject & biosample & wgs\\_master & refseq\\_category & taxid & \\\\\n",
       "\t\\hline\n",
       "\t& String & String & String & String & String & Int64 & \\\\\n",
       "\t\\hline\n",
       "\t1 & GCF\\_000496605.2 & PRJNA224116 & SAMN02603191 & na & na & 1279007 & $\\dots$ \\\\\n",
       "\\end{tabular}\n"
      ],
      "text/plain": [
       "\u001b[1m1×38 DataFrame\u001b[0m\n",
       "\u001b[1m Row \u001b[0m│\u001b[1m #assembly_accession \u001b[0m\u001b[1m bioproject  \u001b[0m\u001b[1m biosample    \u001b[0m\u001b[1m wgs_master \u001b[0m\u001b[1m refseq_cate\u001b[0m ⋯\n",
       "     │\u001b[90m String              \u001b[0m\u001b[90m String      \u001b[0m\u001b[90m String       \u001b[0m\u001b[90m String     \u001b[0m\u001b[90m String     \u001b[0m ⋯\n",
       "─────┼──────────────────────────────────────────────────────────────────────────\n",
       "   1 │ GCF_000496605.2      PRJNA224116  SAMN02603191  na          na          ⋯\n",
       "\u001b[36m                                                              34 columns omitted\u001b[0m"
      ]
     },
     "execution_count": 9,
     "metadata": {},
     "output_type": "execute_result"
    }
   ],
   "source": [
    "# pseudomonas\n",
    "# pa_taxa_ids = Set(Mycelia.list_subtaxa(287))\n",
    "# 9555 distinct accessions\n",
    "pa_metadata_table = refseq_metadata_table[refseq_metadata_table[!, \"species_taxid\"] .== 287, :]\n",
    "# 248 distinct taxids\n",
    "# sort(collect(StatsBase.countmap(pa_metadata_table[!, \"taxid\"])), by=x->x[2], rev=true)\n",
    "pa_metadata_table = sample_evenly_by_group(pa_metadata_table, \"taxid\", N)"
   ]
  },
  {
   "cell_type": "code",
   "execution_count": 10,
   "id": "7abf46f0-e555-491b-adba-e632e55d2687",
   "metadata": {
    "tags": []
   },
   "outputs": [],
   "source": [
    "# taxa_ids_of_interest = Set(union(ec_taxa_ids, sa_taxa_ids, pa_taxa_ids))\n",
    "# accessions_of_interest_metadata_table = refseq_metadata_table[map(x -> x in taxa_ids_of_interest, refseq_metadata_table[!, \"taxid\"]) .| map(x -> x in taxa_ids_of_interest, refseq_metadata_table[!, \"species_taxid\"]), :]"
   ]
  },
  {
   "cell_type": "code",
   "execution_count": 11,
   "id": "de2cb3ff-c6a7-4a57-bcf2-b590e358ffdf",
   "metadata": {
    "tags": []
   },
   "outputs": [
    {
     "data": {
      "text/html": [
       "<div><div style = \"float: left;\"><span>3×38 DataFrame</span></div><div style = \"clear: both;\"></div></div><div class = \"data-frame\" style = \"overflow-x: scroll;\"><table class = \"data-frame\" style = \"margin-bottom: 6px;\"><thead><tr class = \"header\"><th class = \"rowNumber\" style = \"font-weight: bold; text-align: right;\">Row</th><th style = \"text-align: left;\">#assembly_accession</th><th style = \"text-align: left;\">bioproject</th><th style = \"text-align: left;\">biosample</th><th style = \"text-align: left;\">wgs_master</th><th style = \"text-align: left;\">refseq_category</th><th style = \"text-align: left;\">taxid</th><th style = \"text-align: left;\">species_taxid</th><th style = \"text-align: left;\">organism_name</th><th style = \"text-align: left;\">infraspecific_name</th><th style = \"text-align: left;\">isolate</th><th style = \"text-align: left;\">version_status</th><th style = \"text-align: left;\">assembly_level</th><th style = \"text-align: left;\">release_type</th><th style = \"text-align: left;\">genome_rep</th><th style = \"text-align: left;\">seq_rel_date</th><th style = \"text-align: left;\">asm_name</th><th style = \"text-align: left;\">asm_submitter</th><th style = \"text-align: left;\">gbrs_paired_asm</th><th style = \"text-align: left;\">paired_asm_comp</th><th style = \"text-align: left;\">ftp_path</th><th style = \"text-align: left;\">excluded_from_refseq</th><th style = \"text-align: left;\">relation_to_type_material</th><th style = \"text-align: left;\">asm_not_live_date</th><th style = \"text-align: left;\">assembly_type</th><th style = \"text-align: left;\">group</th><th style = \"text-align: left;\">genome_size</th><th style = \"text-align: left;\">genome_size_ungapped</th><th style = \"text-align: left;\">gc_percent</th><th style = \"text-align: left;\">replicon_count</th><th style = \"text-align: left;\">scaffold_count</th><th style = \"text-align: left;\">contig_count</th><th style = \"text-align: left;\">annotation_provider</th><th style = \"text-align: left;\">annotation_name</th><th style = \"text-align: left;\">annotation_date</th><th style = \"text-align: left;\">total_gene_count</th><th style = \"text-align: left;\">protein_coding_gene_count</th><th style = \"text-align: left;\">non_coding_gene_count</th><th style = \"text-align: left;\">pubmed_id</th></tr><tr class = \"subheader headerLastRow\"><th class = \"rowNumber\" style = \"font-weight: bold; text-align: right;\"></th><th title = \"String\" style = \"text-align: left;\">String</th><th title = \"String\" style = \"text-align: left;\">String</th><th title = \"String\" style = \"text-align: left;\">String</th><th title = \"String\" style = \"text-align: left;\">String</th><th title = \"String\" style = \"text-align: left;\">String</th><th title = \"Int64\" style = \"text-align: left;\">Int64</th><th title = \"Int64\" style = \"text-align: left;\">Int64</th><th title = \"String\" style = \"text-align: left;\">String</th><th title = \"String\" style = \"text-align: left;\">String</th><th title = \"String\" style = \"text-align: left;\">String</th><th title = \"String\" style = \"text-align: left;\">String</th><th title = \"String\" style = \"text-align: left;\">String</th><th title = \"String\" style = \"text-align: left;\">String</th><th title = \"String\" style = \"text-align: left;\">String</th><th title = \"Dates.Date\" style = \"text-align: left;\">Date</th><th title = \"String\" style = \"text-align: left;\">String</th><th title = \"String\" style = \"text-align: left;\">String</th><th title = \"String\" style = \"text-align: left;\">String</th><th title = \"String\" style = \"text-align: left;\">String</th><th title = \"String\" style = \"text-align: left;\">String</th><th title = \"String\" style = \"text-align: left;\">String</th><th title = \"String\" style = \"text-align: left;\">String</th><th title = \"String\" style = \"text-align: left;\">String</th><th title = \"String\" style = \"text-align: left;\">String</th><th title = \"String\" style = \"text-align: left;\">String</th><th title = \"Int64\" style = \"text-align: left;\">Int64</th><th title = \"Int64\" style = \"text-align: left;\">Int64</th><th title = \"Float64\" style = \"text-align: left;\">Float64</th><th title = \"Int64\" style = \"text-align: left;\">Int64</th><th title = \"Int64\" style = \"text-align: left;\">Int64</th><th title = \"Int64\" style = \"text-align: left;\">Int64</th><th title = \"String\" style = \"text-align: left;\">String</th><th title = \"String\" style = \"text-align: left;\">String</th><th title = \"Dates.Date\" style = \"text-align: left;\">Date</th><th title = \"Int64\" style = \"text-align: left;\">Int64</th><th title = \"Int64\" style = \"text-align: left;\">Int64</th><th title = \"Int64\" style = \"text-align: left;\">Int64</th><th title = \"String\" style = \"text-align: left;\">String</th></tr></thead><tbody><tr><td class = \"rowNumber\" style = \"font-weight: bold; text-align: right;\">1</td><td style = \"text-align: left;\">GCF_003627195.1</td><td style = \"text-align: left;\">PRJNA224116</td><td style = \"text-align: left;\">SAMN10139565</td><td style = \"text-align: left;\">na</td><td style = \"text-align: left;\">na</td><td style = \"text-align: right;\">511145</td><td style = \"text-align: right;\">562</td><td style = \"text-align: left;\">Escherichia coli str. K-12 substr. MG1655</td><td style = \"text-align: left;\">strain=K-12 substr. MG1655</td><td style = \"text-align: left;\">na</td><td style = \"text-align: left;\">latest</td><td style = \"text-align: left;\">Complete Genome</td><td style = \"text-align: left;\">Major</td><td style = \"text-align: left;\">Full</td><td style = \"text-align: left;\">2018-10-08</td><td style = \"text-align: left;\">ASM362719v1</td><td style = \"text-align: left;\">None</td><td style = \"text-align: left;\">GCA_003627195.1</td><td style = \"text-align: left;\">identical</td><td style = \"text-align: left;\">https://ftp.ncbi.nlm.nih.gov/genomes/all/GCF/003/627/195/GCF_003627195.1_ASM362719v1</td><td style = \"text-align: left;\">na</td><td style = \"text-align: left;\">na</td><td style = \"text-align: left;\">na</td><td style = \"text-align: left;\">haploid</td><td style = \"text-align: left;\">bacteria</td><td style = \"text-align: right;\">4639694</td><td style = \"text-align: right;\">4639694</td><td style = \"text-align: right;\">51.0</td><td style = \"text-align: right;\">1</td><td style = \"text-align: right;\">1</td><td style = \"text-align: right;\">1</td><td style = \"text-align: left;\">NCBI RefSeq</td><td style = \"text-align: left;\">NCBI Prokaryotic Genome Annotation Pipeline (PGAP)</td><td style = \"text-align: left;\">2024-03-06</td><td style = \"text-align: right;\">4532</td><td style = \"text-align: right;\">4219</td><td style = \"text-align: right;\">123</td><td style = \"text-align: left;\">na</td></tr><tr><td class = \"rowNumber\" style = \"font-weight: bold; text-align: right;\">2</td><td style = \"text-align: left;\">GCF_000561005.1</td><td style = \"text-align: left;\">PRJNA224116</td><td style = \"text-align: left;\">SAMN02383712</td><td style = \"text-align: left;\">JDKJ00000000.1</td><td style = \"text-align: left;\">na</td><td style = \"text-align: right;\">1410792</td><td style = \"text-align: right;\">1280</td><td style = \"text-align: left;\">Staphylococcus aureus S72396</td><td style = \"text-align: left;\">strain=S72396</td><td style = \"text-align: left;\">na</td><td style = \"text-align: left;\">latest</td><td style = \"text-align: left;\">Scaffold</td><td style = \"text-align: left;\">Major</td><td style = \"text-align: left;\">Full</td><td style = \"text-align: left;\">2014-02-06</td><td style = \"text-align: left;\">Stap_aure_S72396_V1</td><td style = \"text-align: left;\">Broad Institute</td><td style = \"text-align: left;\">GCA_000561005.1</td><td style = \"text-align: left;\">identical</td><td style = \"text-align: left;\">https://ftp.ncbi.nlm.nih.gov/genomes/all/GCF/000/561/005/GCF_000561005.1_Stap_aure_S72396_V1</td><td style = \"text-align: left;\">na</td><td style = \"text-align: left;\">na</td><td style = \"text-align: left;\">na</td><td style = \"text-align: left;\">haploid</td><td style = \"text-align: left;\">bacteria</td><td style = \"text-align: right;\">2865640</td><td style = \"text-align: right;\">2864782</td><td style = \"text-align: right;\">33.0</td><td style = \"text-align: right;\">0</td><td style = \"text-align: right;\">63</td><td style = \"text-align: right;\">67</td><td style = \"text-align: left;\">NCBI RefSeq</td><td style = \"text-align: left;\">NCBI Prokaryotic Genome Annotation Pipeline (PGAP)</td><td style = \"text-align: left;\">2023-10-30</td><td style = \"text-align: right;\">2919</td><td style = \"text-align: right;\">2745</td><td style = \"text-align: right;\">74</td><td style = \"text-align: left;\">na</td></tr><tr><td class = \"rowNumber\" style = \"font-weight: bold; text-align: right;\">3</td><td style = \"text-align: left;\">GCF_000496605.2</td><td style = \"text-align: left;\">PRJNA224116</td><td style = \"text-align: left;\">SAMN02603191</td><td style = \"text-align: left;\">na</td><td style = \"text-align: left;\">na</td><td style = \"text-align: right;\">1279007</td><td style = \"text-align: right;\">287</td><td style = \"text-align: left;\">Pseudomonas aeruginosa PA1</td><td style = \"text-align: left;\">strain=PA1</td><td style = \"text-align: left;\">na</td><td style = \"text-align: left;\">latest</td><td style = \"text-align: left;\">Complete Genome</td><td style = \"text-align: left;\">Major</td><td style = \"text-align: left;\">Full</td><td style = \"text-align: left;\">2015-09-11</td><td style = \"text-align: left;\">ASM49660v2</td><td style = \"text-align: left;\">Department of Microbiology, The Third Military Medical University</td><td style = \"text-align: left;\">GCA_000496605.2</td><td style = \"text-align: left;\">identical</td><td style = \"text-align: left;\">https://ftp.ncbi.nlm.nih.gov/genomes/all/GCF/000/496/605/GCF_000496605.2_ASM49660v2</td><td style = \"text-align: left;\">na</td><td style = \"text-align: left;\">na</td><td style = \"text-align: left;\">na</td><td style = \"text-align: left;\">haploid</td><td style = \"text-align: left;\">bacteria</td><td style = \"text-align: right;\">6498072</td><td style = \"text-align: right;\">6498072</td><td style = \"text-align: right;\">66.5</td><td style = \"text-align: right;\">1</td><td style = \"text-align: right;\">1</td><td style = \"text-align: right;\">1</td><td style = \"text-align: left;\">NCBI RefSeq</td><td style = \"text-align: left;\">NCBI Prokaryotic Genome Annotation Pipeline (PGAP)</td><td style = \"text-align: left;\">2023-12-08</td><td style = \"text-align: right;\">6067</td><td style = \"text-align: right;\">5937</td><td style = \"text-align: right;\">81</td><td style = \"text-align: left;\">26659688</td></tr></tbody></table></div>"
      ],
      "text/latex": [
       "\\begin{tabular}{r|cccccc}\n",
       "\t& \\#assembly\\_accession & bioproject & biosample & wgs\\_master & refseq\\_category & \\\\\n",
       "\t\\hline\n",
       "\t& String & String & String & String & String & \\\\\n",
       "\t\\hline\n",
       "\t1 & GCF\\_003627195.1 & PRJNA224116 & SAMN10139565 & na & na & $\\dots$ \\\\\n",
       "\t2 & GCF\\_000561005.1 & PRJNA224116 & SAMN02383712 & JDKJ00000000.1 & na & $\\dots$ \\\\\n",
       "\t3 & GCF\\_000496605.2 & PRJNA224116 & SAMN02603191 & na & na & $\\dots$ \\\\\n",
       "\\end{tabular}\n"
      ],
      "text/plain": [
       "\u001b[1m3×38 DataFrame\u001b[0m\n",
       "\u001b[1m Row \u001b[0m│\u001b[1m #assembly_accession \u001b[0m\u001b[1m bioproject  \u001b[0m\u001b[1m biosample    \u001b[0m\u001b[1m wgs_master     \u001b[0m\u001b[1m refseq_\u001b[0m ⋯\n",
       "     │\u001b[90m String              \u001b[0m\u001b[90m String      \u001b[0m\u001b[90m String       \u001b[0m\u001b[90m String         \u001b[0m\u001b[90m String \u001b[0m ⋯\n",
       "─────┼──────────────────────────────────────────────────────────────────────────\n",
       "   1 │ GCF_003627195.1      PRJNA224116  SAMN10139565  na              na      ⋯\n",
       "   2 │ GCF_000561005.1      PRJNA224116  SAMN02383712  JDKJ00000000.1  na\n",
       "   3 │ GCF_000496605.2      PRJNA224116  SAMN02603191  na              na\n",
       "\u001b[36m                                                              34 columns omitted\u001b[0m"
      ]
     },
     "execution_count": 11,
     "metadata": {},
     "output_type": "execute_result"
    }
   ],
   "source": [
    "accessions_of_interest_metadata_table = vcat(ec_metadata_table, sa_metadata_table, pa_metadata_table)"
   ]
  },
  {
   "cell_type": "code",
   "execution_count": 12,
   "id": "41a99fdc-aca4-449e-b543-39e3a8511ba8",
   "metadata": {
    "tags": []
   },
   "outputs": [
    {
     "name": "stderr",
     "output_type": "stream",
     "text": [
      "New version of client (16.22.1) available at https://ftp.ncbi.nlm.nih.gov/pub/datasets/command-line/LATEST/linux-amd64/datasets.\n",
      "New version of client (16.22.1) available at https://ftp.ncbi.nlm.nih.gov/pub/datasets/command-line/LATEST/linux-amd64/datasets.\n",
      "\u001b[32mProgress: 100%|█████████████████████████████████████████| Time: 0:00:12\u001b[39m\n"
     ]
    },
    {
     "data": {
      "text/plain": [
       "3-element Vector{String}:\n",
       " \"/global/cfs/cdirs/m4269/cjprybo\"\u001b[93m\u001b[1m ⋯ 66 bytes ⋯ \u001b[22m\u001b[39m\"bi_dataset/data/GCF_003627195.1\"\n",
       " \"/global/cfs/cdirs/m4269/cjprybo\"\u001b[93m\u001b[1m ⋯ 66 bytes ⋯ \u001b[22m\u001b[39m\"bi_dataset/data/GCF_000561005.1\"\n",
       " \"/global/cfs/cdirs/m4269/cjprybo\"\u001b[93m\u001b[1m ⋯ 66 bytes ⋯ \u001b[22m\u001b[39m\"bi_dataset/data/GCF_000496605.2\""
      ]
     },
     "execution_count": 12,
     "metadata": {},
     "output_type": "execute_result"
    }
   ],
   "source": [
    "accessions_of_interest_metadata_table[!, \"out_directory\"] .= \"\"\n",
    "ProgressMeter.@showprogress for (i, accession) in enumerate(accessions_of_interest_metadata_table[!, \"#assembly_accession\"])\n",
    "    # @show accession\n",
    "    # Mycelia.ncbi_genome_download_accession\n",
    "    accessions_of_interest_metadata_table[i, \"out_directory\"] = Mycelia.ncbi_genome_download_accession(\n",
    "        accession=accession,\n",
    "        outdir = joinpath(data_dir, \"ncbi-genomes\")\n",
    "        # include_string=\"gbff\"\n",
    "    )\n",
    "end\n",
    "accessions_of_interest_metadata_table[!, \"out_directory\"]"
   ]
  },
  {
   "cell_type": "code",
   "execution_count": 13,
   "id": "6933a731-bc09-44d7-afbb-2cf4e06e421a",
   "metadata": {},
   "outputs": [],
   "source": [
    "# I can use the LOCUS line in the genbank files to specify genome topology, but don't bother with that right now"
   ]
  },
  {
   "cell_type": "code",
   "execution_count": 14,
   "id": "ed7b6bed-ce91-4599-918f-484939143afc",
   "metadata": {},
   "outputs": [],
   "source": [
    "# read in each genome, and tag the relative abundance (and eventually, topology) in the joined fasta files"
   ]
  },
  {
   "cell_type": "code",
   "execution_count": 15,
   "id": "377a69e2-b53e-4ad3-92a0-2a505c8dfbff",
   "metadata": {
    "tags": []
   },
   "outputs": [
    {
     "data": {
      "text/plain": [
       "3"
      ]
     },
     "execution_count": 15,
     "metadata": {},
     "output_type": "execute_result"
    }
   ],
   "source": [
    "n_genomes = DataFrames.nrow(accessions_of_interest_metadata_table)"
   ]
  },
  {
   "cell_type": "code",
   "execution_count": 16,
   "id": "b3c70cd2-37b7-4500-9a18-b73a5e6f65d5",
   "metadata": {
    "tags": []
   },
   "outputs": [
    {
     "data": {
      "text/plain": [
       "3-element Vector{Float64}:\n",
       " 0.5454545454545455\n",
       " 0.27272727272727276\n",
       " 0.18181818181818182"
      ]
     },
     "execution_count": 16,
     "metadata": {},
     "output_type": "execute_result"
    }
   ],
   "source": [
    "# dirichlet_distribution(zipf_distribution(10^3))\n",
    "raw_abundances = zipf_distribution(n_genomes)\n",
    "normalized_abundances = raw_abundances ./ sum(raw_abundances)"
   ]
  },
  {
   "cell_type": "code",
   "execution_count": 17,
   "id": "9926bf03-334b-4b45-8d91-8903ba7135ab",
   "metadata": {
    "tags": []
   },
   "outputs": [
    {
     "data": {
      "text/html": [
       "<div><div style = \"float: left;\"><span>3×39 DataFrame</span></div><div style = \"clear: both;\"></div></div><div class = \"data-frame\" style = \"overflow-x: scroll;\"><table class = \"data-frame\" style = \"margin-bottom: 6px;\"><thead><tr class = \"header\"><th class = \"rowNumber\" style = \"font-weight: bold; text-align: right;\">Row</th><th style = \"text-align: left;\">#assembly_accession</th><th style = \"text-align: left;\">bioproject</th><th style = \"text-align: left;\">biosample</th><th style = \"text-align: left;\">wgs_master</th><th style = \"text-align: left;\">refseq_category</th><th style = \"text-align: left;\">taxid</th><th style = \"text-align: left;\">species_taxid</th><th style = \"text-align: left;\">organism_name</th><th style = \"text-align: left;\">infraspecific_name</th><th style = \"text-align: left;\">isolate</th><th style = \"text-align: left;\">version_status</th><th style = \"text-align: left;\">assembly_level</th><th style = \"text-align: left;\">release_type</th><th style = \"text-align: left;\">genome_rep</th><th style = \"text-align: left;\">seq_rel_date</th><th style = \"text-align: left;\">asm_name</th><th style = \"text-align: left;\">asm_submitter</th><th style = \"text-align: left;\">gbrs_paired_asm</th><th style = \"text-align: left;\">paired_asm_comp</th><th style = \"text-align: left;\">ftp_path</th><th style = \"text-align: left;\">excluded_from_refseq</th><th style = \"text-align: left;\">relation_to_type_material</th><th style = \"text-align: left;\">asm_not_live_date</th><th style = \"text-align: left;\">assembly_type</th><th style = \"text-align: left;\">group</th><th style = \"text-align: left;\">genome_size</th><th style = \"text-align: left;\">genome_size_ungapped</th><th style = \"text-align: left;\">gc_percent</th><th style = \"text-align: left;\">replicon_count</th><th style = \"text-align: left;\">scaffold_count</th><th style = \"text-align: left;\">contig_count</th><th style = \"text-align: left;\">annotation_provider</th><th style = \"text-align: left;\">annotation_name</th><th style = \"text-align: left;\">annotation_date</th><th style = \"text-align: left;\">total_gene_count</th><th style = \"text-align: left;\">protein_coding_gene_count</th><th style = \"text-align: left;\">non_coding_gene_count</th><th style = \"text-align: left;\">pubmed_id</th><th style = \"text-align: left;\">out_directory</th></tr><tr class = \"subheader headerLastRow\"><th class = \"rowNumber\" style = \"font-weight: bold; text-align: right;\"></th><th title = \"String\" style = \"text-align: left;\">String</th><th title = \"String\" style = \"text-align: left;\">String</th><th title = \"String\" style = \"text-align: left;\">String</th><th title = \"String\" style = \"text-align: left;\">String</th><th title = \"String\" style = \"text-align: left;\">String</th><th title = \"Int64\" style = \"text-align: left;\">Int64</th><th title = \"Int64\" style = \"text-align: left;\">Int64</th><th title = \"String\" style = \"text-align: left;\">String</th><th title = \"String\" style = \"text-align: left;\">String</th><th title = \"String\" style = \"text-align: left;\">String</th><th title = \"String\" style = \"text-align: left;\">String</th><th title = \"String\" style = \"text-align: left;\">String</th><th title = \"String\" style = \"text-align: left;\">String</th><th title = \"String\" style = \"text-align: left;\">String</th><th title = \"Dates.Date\" style = \"text-align: left;\">Date</th><th title = \"String\" style = \"text-align: left;\">String</th><th title = \"String\" style = \"text-align: left;\">String</th><th title = \"String\" style = \"text-align: left;\">String</th><th title = \"String\" style = \"text-align: left;\">String</th><th title = \"String\" style = \"text-align: left;\">String</th><th title = \"String\" style = \"text-align: left;\">String</th><th title = \"String\" style = \"text-align: left;\">String</th><th title = \"String\" style = \"text-align: left;\">String</th><th title = \"String\" style = \"text-align: left;\">String</th><th title = \"String\" style = \"text-align: left;\">String</th><th title = \"Int64\" style = \"text-align: left;\">Int64</th><th title = \"Int64\" style = \"text-align: left;\">Int64</th><th title = \"Float64\" style = \"text-align: left;\">Float64</th><th title = \"Int64\" style = \"text-align: left;\">Int64</th><th title = \"Int64\" style = \"text-align: left;\">Int64</th><th title = \"Int64\" style = \"text-align: left;\">Int64</th><th title = \"String\" style = \"text-align: left;\">String</th><th title = \"String\" style = \"text-align: left;\">String</th><th title = \"Dates.Date\" style = \"text-align: left;\">Date</th><th title = \"Int64\" style = \"text-align: left;\">Int64</th><th title = \"Int64\" style = \"text-align: left;\">Int64</th><th title = \"Int64\" style = \"text-align: left;\">Int64</th><th title = \"String\" style = \"text-align: left;\">String</th><th title = \"String\" style = \"text-align: left;\">String</th></tr></thead><tbody><tr><td class = \"rowNumber\" style = \"font-weight: bold; text-align: right;\">1</td><td style = \"text-align: left;\">GCF_003627195.1</td><td style = \"text-align: left;\">PRJNA224116</td><td style = \"text-align: left;\">SAMN10139565</td><td style = \"text-align: left;\">na</td><td style = \"text-align: left;\">na</td><td style = \"text-align: right;\">511145</td><td style = \"text-align: right;\">562</td><td style = \"text-align: left;\">Escherichia coli str. K-12 substr. MG1655</td><td style = \"text-align: left;\">strain=K-12 substr. MG1655</td><td style = \"text-align: left;\">na</td><td style = \"text-align: left;\">latest</td><td style = \"text-align: left;\">Complete Genome</td><td style = \"text-align: left;\">Major</td><td style = \"text-align: left;\">Full</td><td style = \"text-align: left;\">2018-10-08</td><td style = \"text-align: left;\">ASM362719v1</td><td style = \"text-align: left;\">None</td><td style = \"text-align: left;\">GCA_003627195.1</td><td style = \"text-align: left;\">identical</td><td style = \"text-align: left;\">https://ftp.ncbi.nlm.nih.gov/genomes/all/GCF/003/627/195/GCF_003627195.1_ASM362719v1</td><td style = \"text-align: left;\">na</td><td style = \"text-align: left;\">na</td><td style = \"text-align: left;\">na</td><td style = \"text-align: left;\">haploid</td><td style = \"text-align: left;\">bacteria</td><td style = \"text-align: right;\">4639694</td><td style = \"text-align: right;\">4639694</td><td style = \"text-align: right;\">51.0</td><td style = \"text-align: right;\">1</td><td style = \"text-align: right;\">1</td><td style = \"text-align: right;\">1</td><td style = \"text-align: left;\">NCBI RefSeq</td><td style = \"text-align: left;\">NCBI Prokaryotic Genome Annotation Pipeline (PGAP)</td><td style = \"text-align: left;\">2024-03-06</td><td style = \"text-align: right;\">4532</td><td style = \"text-align: right;\">4219</td><td style = \"text-align: right;\">123</td><td style = \"text-align: left;\">na</td><td style = \"text-align: left;\">/global/cfs/cdirs/m4269/cjprybol/Mycelia/projects/metagenome/data/ncbi-genomes/GCF_003627195.1/ncbi_dataset/data/GCF_003627195.1</td></tr><tr><td class = \"rowNumber\" style = \"font-weight: bold; text-align: right;\">2</td><td style = \"text-align: left;\">GCF_000561005.1</td><td style = \"text-align: left;\">PRJNA224116</td><td style = \"text-align: left;\">SAMN02383712</td><td style = \"text-align: left;\">JDKJ00000000.1</td><td style = \"text-align: left;\">na</td><td style = \"text-align: right;\">1410792</td><td style = \"text-align: right;\">1280</td><td style = \"text-align: left;\">Staphylococcus aureus S72396</td><td style = \"text-align: left;\">strain=S72396</td><td style = \"text-align: left;\">na</td><td style = \"text-align: left;\">latest</td><td style = \"text-align: left;\">Scaffold</td><td style = \"text-align: left;\">Major</td><td style = \"text-align: left;\">Full</td><td style = \"text-align: left;\">2014-02-06</td><td style = \"text-align: left;\">Stap_aure_S72396_V1</td><td style = \"text-align: left;\">Broad Institute</td><td style = \"text-align: left;\">GCA_000561005.1</td><td style = \"text-align: left;\">identical</td><td style = \"text-align: left;\">https://ftp.ncbi.nlm.nih.gov/genomes/all/GCF/000/561/005/GCF_000561005.1_Stap_aure_S72396_V1</td><td style = \"text-align: left;\">na</td><td style = \"text-align: left;\">na</td><td style = \"text-align: left;\">na</td><td style = \"text-align: left;\">haploid</td><td style = \"text-align: left;\">bacteria</td><td style = \"text-align: right;\">2865640</td><td style = \"text-align: right;\">2864782</td><td style = \"text-align: right;\">33.0</td><td style = \"text-align: right;\">0</td><td style = \"text-align: right;\">63</td><td style = \"text-align: right;\">67</td><td style = \"text-align: left;\">NCBI RefSeq</td><td style = \"text-align: left;\">NCBI Prokaryotic Genome Annotation Pipeline (PGAP)</td><td style = \"text-align: left;\">2023-10-30</td><td style = \"text-align: right;\">2919</td><td style = \"text-align: right;\">2745</td><td style = \"text-align: right;\">74</td><td style = \"text-align: left;\">na</td><td style = \"text-align: left;\">/global/cfs/cdirs/m4269/cjprybol/Mycelia/projects/metagenome/data/ncbi-genomes/GCF_000561005.1/ncbi_dataset/data/GCF_000561005.1</td></tr><tr><td class = \"rowNumber\" style = \"font-weight: bold; text-align: right;\">3</td><td style = \"text-align: left;\">GCF_000496605.2</td><td style = \"text-align: left;\">PRJNA224116</td><td style = \"text-align: left;\">SAMN02603191</td><td style = \"text-align: left;\">na</td><td style = \"text-align: left;\">na</td><td style = \"text-align: right;\">1279007</td><td style = \"text-align: right;\">287</td><td style = \"text-align: left;\">Pseudomonas aeruginosa PA1</td><td style = \"text-align: left;\">strain=PA1</td><td style = \"text-align: left;\">na</td><td style = \"text-align: left;\">latest</td><td style = \"text-align: left;\">Complete Genome</td><td style = \"text-align: left;\">Major</td><td style = \"text-align: left;\">Full</td><td style = \"text-align: left;\">2015-09-11</td><td style = \"text-align: left;\">ASM49660v2</td><td style = \"text-align: left;\">Department of Microbiology, The Third Military Medical University</td><td style = \"text-align: left;\">GCA_000496605.2</td><td style = \"text-align: left;\">identical</td><td style = \"text-align: left;\">https://ftp.ncbi.nlm.nih.gov/genomes/all/GCF/000/496/605/GCF_000496605.2_ASM49660v2</td><td style = \"text-align: left;\">na</td><td style = \"text-align: left;\">na</td><td style = \"text-align: left;\">na</td><td style = \"text-align: left;\">haploid</td><td style = \"text-align: left;\">bacteria</td><td style = \"text-align: right;\">6498072</td><td style = \"text-align: right;\">6498072</td><td style = \"text-align: right;\">66.5</td><td style = \"text-align: right;\">1</td><td style = \"text-align: right;\">1</td><td style = \"text-align: right;\">1</td><td style = \"text-align: left;\">NCBI RefSeq</td><td style = \"text-align: left;\">NCBI Prokaryotic Genome Annotation Pipeline (PGAP)</td><td style = \"text-align: left;\">2023-12-08</td><td style = \"text-align: right;\">6067</td><td style = \"text-align: right;\">5937</td><td style = \"text-align: right;\">81</td><td style = \"text-align: left;\">26659688</td><td style = \"text-align: left;\">/global/cfs/cdirs/m4269/cjprybol/Mycelia/projects/metagenome/data/ncbi-genomes/GCF_000496605.2/ncbi_dataset/data/GCF_000496605.2</td></tr></tbody></table></div>"
      ],
      "text/latex": [
       "\\begin{tabular}{r|cccccc}\n",
       "\t& \\#assembly\\_accession & bioproject & biosample & wgs\\_master & refseq\\_category & \\\\\n",
       "\t\\hline\n",
       "\t& String & String & String & String & String & \\\\\n",
       "\t\\hline\n",
       "\t1 & GCF\\_003627195.1 & PRJNA224116 & SAMN10139565 & na & na & $\\dots$ \\\\\n",
       "\t2 & GCF\\_000561005.1 & PRJNA224116 & SAMN02383712 & JDKJ00000000.1 & na & $\\dots$ \\\\\n",
       "\t3 & GCF\\_000496605.2 & PRJNA224116 & SAMN02603191 & na & na & $\\dots$ \\\\\n",
       "\\end{tabular}\n"
      ],
      "text/plain": [
       "\u001b[1m3×39 DataFrame\u001b[0m\n",
       "\u001b[1m Row \u001b[0m│\u001b[1m #assembly_accession \u001b[0m\u001b[1m bioproject  \u001b[0m\u001b[1m biosample    \u001b[0m\u001b[1m wgs_master     \u001b[0m\u001b[1m refseq_\u001b[0m ⋯\n",
       "     │\u001b[90m String              \u001b[0m\u001b[90m String      \u001b[0m\u001b[90m String       \u001b[0m\u001b[90m String         \u001b[0m\u001b[90m String \u001b[0m ⋯\n",
       "─────┼──────────────────────────────────────────────────────────────────────────\n",
       "   1 │ GCF_003627195.1      PRJNA224116  SAMN10139565  na              na      ⋯\n",
       "   2 │ GCF_000561005.1      PRJNA224116  SAMN02383712  JDKJ00000000.1  na\n",
       "   3 │ GCF_000496605.2      PRJNA224116  SAMN02603191  na              na\n",
       "\u001b[36m                                                              35 columns omitted\u001b[0m"
      ]
     },
     "execution_count": 17,
     "metadata": {},
     "output_type": "execute_result"
    }
   ],
   "source": [
    "accessions_of_interest_metadata_table"
   ]
  },
  {
   "cell_type": "code",
   "execution_count": 18,
   "id": "1cad5d85-0519-4eed-a373-768fb6ab2cca",
   "metadata": {
    "tags": []
   },
   "outputs": [
    {
     "data": {
      "text/plain": [
       "3-element Vector{Float64}:\n",
       " 0.5454545454545455\n",
       " 0.27272727272727276\n",
       " 0.18181818181818182"
      ]
     },
     "execution_count": 18,
     "metadata": {},
     "output_type": "execute_result"
    }
   ],
   "source": [
    "accessions_of_interest_metadata_table[!, \"relative_abundances\"] = normalized_abundances"
   ]
  },
  {
   "cell_type": "code",
   "execution_count": 19,
   "id": "a7cddf78-1595-46c1-8368-bdb0e1d6c1b3",
   "metadata": {
    "tags": []
   },
   "outputs": [
    {
     "data": {
      "text/plain": [
       "\"/global/cfs/cdirs/m4269/cjprybol/Mycelia/projects/metagenome/data/ncbi-genomes/GCF_003627195.1/ncbi_dataset/data/GCF_003627195.1\""
      ]
     },
     "execution_count": 19,
     "metadata": {},
     "output_type": "execute_result"
    }
   ],
   "source": [
    "accession_dir = first(accessions_of_interest_metadata_table[!, \"out_directory\"])"
   ]
  },
  {
   "cell_type": "code",
   "execution_count": 20,
   "id": "b72f7dc2-7b0d-45eb-acfe-5ba3a71af4f6",
   "metadata": {
    "tags": []
   },
   "outputs": [
    {
     "data": {
      "text/plain": [
       "\"/global/cfs/cdirs/m4269/cjprybol/Mycelia/projects/metagenome/data/ncbi-genomes/GCF_003627195.1/ncbi_dataset/data/GCF_003627195.1/GCF_003627195.1_ASM362719v1_genomic.fna\""
      ]
     },
     "execution_count": 20,
     "metadata": {},
     "output_type": "execute_result"
    },
    {
     "ename": "KeyError",
     "evalue": "KeyError: key \"usage_request\" not found",
     "output_type": "error",
     "traceback": [
      "KERNEL EXCEPTION",
      "KeyError: key \"usage_request\" not found",
      "",
      "Stacktrace:",
      " [1] getindex(h::Dict{String, Function}, key::String)",
      "   @ Base ./dict.jl:498",
      " [2] eventloop(socket::ZMQ.Socket)",
      "   @ IJulia ~/.julia/packages/IJulia/Vo51o/src/eventloop.jl:8",
      " [3] (::IJulia.var\"#14#17\")()",
      "   @ IJulia ~/.julia/packages/IJulia/Vo51o/src/eventloop.jl:37"
     ]
    },
    {
     "ename": "KeyError",
     "evalue": "KeyError: key \"usage_request\" not found",
     "output_type": "error",
     "traceback": [
      "KERNEL EXCEPTION",
      "KeyError: key \"usage_request\" not found",
      "",
      "Stacktrace:",
      " [1] getindex(h::Dict{String, Function}, key::String)",
      "   @ Base ./dict.jl:498",
      " [2] eventloop(socket::ZMQ.Socket)",
      "   @ IJulia ~/.julia/packages/IJulia/Vo51o/src/eventloop.jl:8",
      " [3] (::IJulia.var\"#14#17\")()",
      "   @ IJulia ~/.julia/packages/IJulia/Vo51o/src/eventloop.jl:37"
     ]
    },
    {
     "ename": "KeyError",
     "evalue": "KeyError: key \"usage_request\" not found",
     "output_type": "error",
     "traceback": [
      "KERNEL EXCEPTION",
      "KeyError: key \"usage_request\" not found",
      "",
      "Stacktrace:",
      " [1] getindex(h::Dict{String, Function}, key::String)",
      "   @ Base ./dict.jl:498",
      " [2] eventloop(socket::ZMQ.Socket)",
      "   @ IJulia ~/.julia/packages/IJulia/Vo51o/src/eventloop.jl:8",
      " [3] (::IJulia.var\"#14#17\")()",
      "   @ IJulia ~/.julia/packages/IJulia/Vo51o/src/eventloop.jl:37"
     ]
    },
    {
     "ename": "KeyError",
     "evalue": "KeyError: key \"usage_request\" not found",
     "output_type": "error",
     "traceback": [
      "KERNEL EXCEPTION",
      "KeyError: key \"usage_request\" not found",
      "",
      "Stacktrace:",
      " [1] getindex(h::Dict{String, Function}, key::String)",
      "   @ Base ./dict.jl:498",
      " [2] eventloop(socket::ZMQ.Socket)",
      "   @ IJulia ~/.julia/packages/IJulia/Vo51o/src/eventloop.jl:8",
      " [3] (::IJulia.var\"#14#17\")()",
      "   @ IJulia ~/.julia/packages/IJulia/Vo51o/src/eventloop.jl:37"
     ]
    },
    {
     "ename": "KeyError",
     "evalue": "KeyError: key \"usage_request\" not found",
     "output_type": "error",
     "traceback": [
      "KERNEL EXCEPTION",
      "KeyError: key \"usage_request\" not found",
      "",
      "Stacktrace:",
      " [1] getindex(h::Dict{String, Function}, key::String)",
      "   @ Base ./dict.jl:498",
      " [2] eventloop(socket::ZMQ.Socket)",
      "   @ IJulia ~/.julia/packages/IJulia/Vo51o/src/eventloop.jl:8",
      " [3] (::IJulia.var\"#14#17\")()",
      "   @ IJulia ~/.julia/packages/IJulia/Vo51o/src/eventloop.jl:37"
     ]
    },
    {
     "ename": "KeyError",
     "evalue": "KeyError: key \"usage_request\" not found",
     "output_type": "error",
     "traceback": [
      "KERNEL EXCEPTION",
      "KeyError: key \"usage_request\" not found",
      "",
      "Stacktrace:",
      " [1] getindex(h::Dict{String, Function}, key::String)",
      "   @ Base ./dict.jl:498",
      " [2] eventloop(socket::ZMQ.Socket)",
      "   @ IJulia ~/.julia/packages/IJulia/Vo51o/src/eventloop.jl:8",
      " [3] (::IJulia.var\"#14#17\")()",
      "   @ IJulia ~/.julia/packages/IJulia/Vo51o/src/eventloop.jl:37"
     ]
    },
    {
     "ename": "KeyError",
     "evalue": "KeyError: key \"usage_request\" not found",
     "output_type": "error",
     "traceback": [
      "KERNEL EXCEPTION",
      "KeyError: key \"usage_request\" not found",
      "",
      "Stacktrace:",
      " [1] getindex(h::Dict{String, Function}, key::String)",
      "   @ Base ./dict.jl:498",
      " [2] eventloop(socket::ZMQ.Socket)",
      "   @ IJulia ~/.julia/packages/IJulia/Vo51o/src/eventloop.jl:8",
      " [3] (::IJulia.var\"#14#17\")()",
      "   @ IJulia ~/.julia/packages/IJulia/Vo51o/src/eventloop.jl:37"
     ]
    },
    {
     "ename": "KeyError",
     "evalue": "KeyError: key \"usage_request\" not found",
     "output_type": "error",
     "traceback": [
      "KERNEL EXCEPTION",
      "KeyError: key \"usage_request\" not found",
      "",
      "Stacktrace:",
      " [1] getindex(h::Dict{String, Function}, key::String)",
      "   @ Base ./dict.jl:498",
      " [2] eventloop(socket::ZMQ.Socket)",
      "   @ IJulia ~/.julia/packages/IJulia/Vo51o/src/eventloop.jl:8",
      " [3] (::IJulia.var\"#14#17\")()",
      "   @ IJulia ~/.julia/packages/IJulia/Vo51o/src/eventloop.jl:37"
     ]
    },
    {
     "ename": "KeyError",
     "evalue": "KeyError: key \"usage_request\" not found",
     "output_type": "error",
     "traceback": [
      "KERNEL EXCEPTION",
      "KeyError: key \"usage_request\" not found",
      "",
      "Stacktrace:",
      " [1] getindex(h::Dict{String, Function}, key::String)",
      "   @ Base ./dict.jl:498",
      " [2] eventloop(socket::ZMQ.Socket)",
      "   @ IJulia ~/.julia/packages/IJulia/Vo51o/src/eventloop.jl:8",
      " [3] (::IJulia.var\"#14#17\")()",
      "   @ IJulia ~/.julia/packages/IJulia/Vo51o/src/eventloop.jl:37"
     ]
    },
    {
     "ename": "KeyError",
     "evalue": "KeyError: key \"usage_request\" not found",
     "output_type": "error",
     "traceback": [
      "KERNEL EXCEPTION",
      "KeyError: key \"usage_request\" not found",
      "",
      "Stacktrace:",
      " [1] getindex(h::Dict{String, Function}, key::String)",
      "   @ Base ./dict.jl:498",
      " [2] eventloop(socket::ZMQ.Socket)",
      "   @ IJulia ~/.julia/packages/IJulia/Vo51o/src/eventloop.jl:8",
      " [3] (::IJulia.var\"#14#17\")()",
      "   @ IJulia ~/.julia/packages/IJulia/Vo51o/src/eventloop.jl:37"
     ]
    }
   ],
   "source": [
    "accession_fasta = first(filter(x -> occursin(Mycelia.FASTA_REGEX, x), readdir(accession_dir, join=true)))"
   ]
  },
  {
   "cell_type": "code",
   "execution_count": null,
   "id": "9d3dd623-a0ed-4d7f-8ad9-46caadf59abb",
   "metadata": {},
   "outputs": [],
   "source": []
  }
 ],
 "metadata": {
  "kernelspec": {
   "display_name": "Julia 1.10.2",
   "language": "julia",
   "name": "julia-1.10"
  },
  "language_info": {
   "file_extension": ".jl",
   "mimetype": "application/julia",
   "name": "julia",
   "version": "1.10.2"
  }
 },
 "nbformat": 4,
 "nbformat_minor": 5
}
