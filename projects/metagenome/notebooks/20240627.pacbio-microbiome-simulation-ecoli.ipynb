{
 "cells": [
  {
   "cell_type": "code",
   "execution_count": null,
   "id": "89b5c9fd-a800-4d1c-a007-ea67dbd0d9ef",
   "metadata": {
    "tags": []
   },
   "outputs": [],
   "source": [
    "# if hit plotting library issues, try resetting LD path for julia\n",
    "# can set in ~/.local/share/jupyter/kernels/\n",
    "haskey(ENV, \"LD_LIBRARY_PATH\") && @assert ENV[\"LD_LIBRARY_PATH\"] == \"\"\n",
    "import Pkg\n",
    "Pkg.activate(;temp=true)\n",
    "Pkg.add(\"Revise\")\n",
    "import Revise\n",
    "\n",
    "# Pkg.develop(path=\"/global/cfs/projectdirs/m4269/cjprybol/Mycelia\")\n",
    "# Pkg.develop(path=\"../../..\")\n",
    "Pkg.develop(path=\"$(homedir())/workspace/Mycelia\")\n",
    "import Mycelia\n",
    "\n",
    "pkgs = String[\n",
    "    \"DataFrames\",\n",
    "    \"FASTX\",\n",
    "    \"XAM\",\n",
    "    \"uCSV\",\n",
    "    \"CodecZlib\",\n",
    "    \"ProgressMeter\",\n",
    "    \"StatsBase\",\n",
    "    \"Statistics\",\n",
    "    \"CSV\",\n",
    "    \"Random\",\n",
    "    \"Distributions\",\n",
    "    \"Plots\"\n",
    "]\n",
    "Pkg.add(pkgs)\n",
    "for pkg in pkgs\n",
    "    eval(Meta.parse(\"import $pkg\"))\n",
    "end"
   ]
  },
  {
   "cell_type": "code",
   "execution_count": null,
   "id": "9564297f-ef3e-40a9-9f9e-3f0adf9ef26f",
   "metadata": {
    "tags": []
   },
   "outputs": [],
   "source": [
    "function zipf_distribution(n)\n",
    "  return 1 ./ collect(1:n)\n",
    "end\n",
    "\n",
    "function dirichlet_distribution(alpha)\n",
    "  return rand(Distributions.Dirichlet(alpha))\n",
    "end"
   ]
  },
  {
   "cell_type": "code",
   "execution_count": null,
   "id": "9c4d0f09-d6bf-47f3-bc27-60fe4259943b",
   "metadata": {
    "tags": []
   },
   "outputs": [],
   "source": [
    "basedir = dirname(pwd())\n",
    "data_dir = joinpath(basedir, \"data\")"
   ]
  },
  {
   "cell_type": "code",
   "execution_count": null,
   "id": "6d56202e-a9ef-40bd-a909-3e80d4902448",
   "metadata": {
    "tags": []
   },
   "outputs": [],
   "source": [
    "@time ncbi_species_table = Mycelia.list_species();"
   ]
  },
  {
   "cell_type": "code",
   "execution_count": null,
   "id": "47de0466-140b-49b5-9307-277ca4a883f8",
   "metadata": {
    "tags": []
   },
   "outputs": [],
   "source": [
    "@time refseq_metadata_table = Mycelia.load_refseq_metadata();"
   ]
  },
  {
   "cell_type": "code",
   "execution_count": null,
   "id": "7ecef10b-b61e-4716-a126-cea9f2a99f55",
   "metadata": {
    "tags": []
   },
   "outputs": [],
   "source": [
    "# function subsample(t, n)\n",
    "#     return t[StatsBase.sample(1:DataFrames.nrow(t), N, ordered=true, replace=false), :]\n",
    "# end\n",
    "\n",
    "function sample_evenly_by_group(df, column, N)\n",
    "    gdf = collect(DataFrames.groupby(df, column))\n",
    "    return_df = DataFrames.DataFrame()\n",
    "    while DataFrames.nrow(return_df) < N\n",
    "        this_gdf = rand(gdf)\n",
    "        row = rand(1:DataFrames.nrow(this_gdf))\n",
    "        sampled_row = this_gdf[row, :]\n",
    "        push!(return_df, sampled_row)\n",
    "    end\n",
    "    return return_df\n",
    "end\n",
    "\n",
    "N = 1\n",
    "Random.seed!(N)"
   ]
  },
  {
   "cell_type": "code",
   "execution_count": null,
   "id": "a6b04887-b8a8-4c1b-80b7-26c3a80bd86d",
   "metadata": {
    "tags": []
   },
   "outputs": [],
   "source": [
    "# e coli\n",
    "# ec_taxa_ids = Set(Mycelia.list_subtaxa(562))\n",
    "# ec_metadata_table = refseq_metadata_table[map(x -> x in ec_taxa_ids, refseq_metadata_table[!, \"species_taxid\"]), :]\n",
    "# 37891 distinct accessions\n",
    "ec_metadata_table = refseq_metadata_table[refseq_metadata_table[!, \"species_taxid\"] .== 562, :]\n",
    "ec_metadata_table = sample_evenly_by_group(ec_metadata_table, \"taxid\", N)\n",
    "# 2271 distinct taxids\n",
    "# sort(collect(StatsBase.countmap(ec_metadata_table[!, \"taxid\"])), by=x->x[2], rev=true)\n",
    "# ec_metadata_table = subsample(ec_metadata_table, N)"
   ]
  },
  {
   "cell_type": "code",
   "execution_count": null,
   "id": "93190bd5-2bfe-4b36-a188-2c6255b47a69",
   "metadata": {
    "tags": []
   },
   "outputs": [],
   "source": [
    "# staph\n",
    "# sa_taxa_ids = Set(Mycelia.list_subtaxa(1280))\n",
    "# 16411 distinct accessions\n",
    "sa_metadata_table = refseq_metadata_table[refseq_metadata_table[!, \"species_taxid\"] .== 1280, :]\n",
    "# 4109 distinct taxids\n",
    "# sort(collect(StatsBase.countmap(sa_metadata_table[!, \"taxid\"])), by=x->x[2], rev=true)\n",
    "sa_metadata_table = sample_evenly_by_group(sa_metadata_table, \"taxid\", N)"
   ]
  },
  {
   "cell_type": "code",
   "execution_count": null,
   "id": "6a301210-5436-4306-b730-b50a9fe64abe",
   "metadata": {
    "tags": []
   },
   "outputs": [],
   "source": [
    "# pseudomonas\n",
    "# pa_taxa_ids = Set(Mycelia.list_subtaxa(287))\n",
    "# 9555 distinct accessions\n",
    "pa_metadata_table = refseq_metadata_table[refseq_metadata_table[!, \"species_taxid\"] .== 287, :]\n",
    "# 248 distinct taxids\n",
    "# sort(collect(StatsBase.countmap(pa_metadata_table[!, \"taxid\"])), by=x->x[2], rev=true)\n",
    "pa_metadata_table = sample_evenly_by_group(pa_metadata_table, \"taxid\", N)"
   ]
  },
  {
   "cell_type": "code",
   "execution_count": null,
   "id": "7abf46f0-e555-491b-adba-e632e55d2687",
   "metadata": {
    "tags": []
   },
   "outputs": [],
   "source": [
    "# taxa_ids_of_interest = Set(union(ec_taxa_ids, sa_taxa_ids, pa_taxa_ids))\n",
    "# accessions_of_interest_metadata_table = refseq_metadata_table[map(x -> x in taxa_ids_of_interest, refseq_metadata_table[!, \"taxid\"]) .| map(x -> x in taxa_ids_of_interest, refseq_metadata_table[!, \"species_taxid\"]), :]"
   ]
  },
  {
   "cell_type": "code",
   "execution_count": null,
   "id": "de2cb3ff-c6a7-4a57-bcf2-b590e358ffdf",
   "metadata": {
    "tags": []
   },
   "outputs": [],
   "source": [
    "accessions_of_interest_metadata_table = vcat(ec_metadata_table, sa_metadata_table, pa_metadata_table)"
   ]
  },
  {
   "cell_type": "code",
   "execution_count": null,
   "id": "41a99fdc-aca4-449e-b543-39e3a8511ba8",
   "metadata": {
    "tags": []
   },
   "outputs": [],
   "source": [
    "accessions_of_interest_metadata_table[!, \"out_directory\"] .= \"\"\n",
    "ProgressMeter.@showprogress for (i, accession) in enumerate(accessions_of_interest_metadata_table[!, \"#assembly_accession\"])\n",
    "    # @show accession\n",
    "    # Mycelia.ncbi_genome_download_accession\n",
    "    accessions_of_interest_metadata_table[i, \"out_directory\"] = Mycelia.ncbi_genome_download_accession(\n",
    "        accession=accession,\n",
    "        outdir = joinpath(data_dir, \"ncbi-genomes\")\n",
    "        # include_string=\"gbff\"\n",
    "    )\n",
    "end\n",
    "accessions_of_interest_metadata_table[!, \"out_directory\"]"
   ]
  },
  {
   "cell_type": "code",
   "execution_count": null,
   "id": "6933a731-bc09-44d7-afbb-2cf4e06e421a",
   "metadata": {},
   "outputs": [],
   "source": [
    "# I can use the LOCUS line in the genbank files to specify genome topology, but don't bother with that right now"
   ]
  },
  {
   "cell_type": "code",
   "execution_count": null,
   "id": "ed7b6bed-ce91-4599-918f-484939143afc",
   "metadata": {},
   "outputs": [],
   "source": [
    "# read in each genome, and tag the relative abundance (and eventually, topology) in the joined fasta files"
   ]
  },
  {
   "cell_type": "code",
   "execution_count": null,
   "id": "377a69e2-b53e-4ad3-92a0-2a505c8dfbff",
   "metadata": {
    "tags": []
   },
   "outputs": [],
   "source": [
    "n_genomes = DataFrames.nrow(accessions_of_interest_metadata_table)"
   ]
  },
  {
   "cell_type": "code",
   "execution_count": null,
   "id": "b3c70cd2-37b7-4500-9a18-b73a5e6f65d5",
   "metadata": {
    "tags": []
   },
   "outputs": [],
   "source": [
    "# dirichlet_distribution(zipf_distribution(10^3))\n",
    "raw_abundances = zipf_distribution(n_genomes)\n",
    "normalized_abundances = raw_abundances ./ sum(raw_abundances)"
   ]
  },
  {
   "cell_type": "code",
   "execution_count": null,
   "id": "9926bf03-334b-4b45-8d91-8903ba7135ab",
   "metadata": {
    "tags": []
   },
   "outputs": [],
   "source": [
    "accessions_of_interest_metadata_table"
   ]
  },
  {
   "cell_type": "code",
   "execution_count": null,
   "id": "1cad5d85-0519-4eed-a373-768fb6ab2cca",
   "metadata": {
    "tags": []
   },
   "outputs": [],
   "source": [
    "accessions_of_interest_metadata_table[!, \"relative_abundances\"] = normalized_abundances"
   ]
  },
  {
   "cell_type": "code",
   "execution_count": null,
   "id": "a7cddf78-1595-46c1-8368-bdb0e1d6c1b3",
   "metadata": {
    "tags": []
   },
   "outputs": [],
   "source": [
    "accession_dir = first(accessions_of_interest_metadata_table[!, \"out_directory\"])"
   ]
  },
  {
   "cell_type": "code",
   "execution_count": null,
   "id": "b72f7dc2-7b0d-45eb-acfe-5ba3a71af4f6",
   "metadata": {
    "tags": []
   },
   "outputs": [],
   "source": [
    "accession_fasta = first(filter(x -> occursin(Mycelia.FASTA_REGEX, x), readdir(accession_dir, join=true)))"
   ]
  }
 ],
 "metadata": {
  "kernelspec": {
   "display_name": "Julia 1.6.7",
   "language": "julia",
   "name": "julia-1.6"
  },
  "language_info": {
   "file_extension": ".jl",
   "mimetype": "application/julia",
   "name": "julia",
   "version": "1.6.7"
  }
 },
 "nbformat": 4,
 "nbformat_minor": 5
}
