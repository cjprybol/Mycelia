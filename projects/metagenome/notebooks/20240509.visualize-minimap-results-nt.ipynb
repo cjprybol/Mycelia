{
 "cells": [
  {
   "cell_type": "code",
   "execution_count": null,
   "id": "89b5c9fd-a800-4d1c-a007-ea67dbd0d9ef",
   "metadata": {
    "tags": []
   },
   "outputs": [],
   "source": [
    "# if hit plotting library issues, try resetting LD path for julia\n",
    "# can set in ~/.local/share/jupyter/kernels/\n",
    "haskey(ENV, \"LD_LIBRARY_PATH\") && @assert ENV[\"LD_LIBRARY_PATH\"] == \"\"\n",
    "import Pkg\n",
    "Pkg.activate(;temp=true)\n",
    "Pkg.add(\"Revise\")\n",
    "import Revise\n",
    "\n",
    "# Pkg.develop(path=\"/global/cfs/projectdirs/m4269/cjprybol/Mycelia\")\n",
    "# Pkg.develop(path=\"../../..\")\n",
    "Pkg.develop(path=\"$(homedir())/workspace/Mycelia\")\n",
    "import Mycelia\n",
    "\n",
    "pkgs = String[\n",
    "    \"DataFrames\",\n",
    "    \"FASTX\",\n",
    "    \"XAM\",\n",
    "    \"uCSV\",\n",
    "    \"CodecZlib\",\n",
    "    \"ProgressMeter\",\n",
    "    \"StatsBase\",\n",
    "    \"BioAlignments\",\n",
    "    \"OrderedCollections\",\n",
    "    \"StatsPlots\",\n",
    "    \"Statistics\"\n",
    "]\n",
    "Pkg.add(pkgs)\n",
    "for pkg in pkgs\n",
    "    eval(Meta.parse(\"import $pkg\"))\n",
    "end"
   ]
  },
  {
   "cell_type": "code",
   "execution_count": null,
   "id": "2f7caaf1-caa0-4ff1-a65e-10003e24e884",
   "metadata": {},
   "outputs": [],
   "source": [
    "# rclone copy --progress --verbose --drive-chunk-size 2G --drive-upload-cutoff 1T --tpslimit 1 locus_data_warehouse:Genomics/SequelIIe/r64342e_20240416_185917/1_A01/bc2056--bc2056/m64342e_240416_193427.hifi_reads.bc2056--bc2056.bam /global/homes/c/cjprybol/workspace/Mycelia/projects/metagenome/data\n",
    "# /global/homes/c/cjprybol/workspace/Mycelia/projects/metagenome/data\n",
    "# tarchive = \"/global/homes/c/cjprybol/workspace/Mycelia/projects/metagenome/data/locus-reference-genomes.tar.gz\"\n",
    "# tarchive = \"/global/homes/c/cjprybol/workspace/Mycelia/projects/metagenome/data/SRR9202034.tar.gz\"\n",
    "# Mycelia.tar_extract(tarchive=tarchive)"
   ]
  },
  {
   "cell_type": "code",
   "execution_count": null,
   "id": "b82e22a3-7f09-4bdb-936b-194786cab341",
   "metadata": {
    "tags": []
   },
   "outputs": [],
   "source": [
    "# blast_db = \"nt\"\n",
    "# blast_dbs_dir = joinpath([homedir(), \"workspace\", \"blastdb\"])\n",
    "# blast_db_path = joinpath(blast_dbs_dir, blast_db)\n",
    "# # 476.069645 seconds (123.76 k allocations: 8.292 MiB, 0.05% compilation time: 38% of which was recompilation)\n",
    "# # 4321.050357 seconds (1.38 G allocations: 74.524 GiB, 86.31% gc time, 0.01% compilation time: 38% of which was recompilation)\n",
    "# @time blast_db_taxonomy_table = Mycelia.load_blast_db_taxonomy_table(Mycelia.export_blast_db_taxonomy_table(path_to_db = blast_db_path))"
   ]
  },
  {
   "cell_type": "code",
   "execution_count": null,
   "id": "9c4d0f09-d6bf-47f3-bc27-60fe4259943b",
   "metadata": {
    "tags": []
   },
   "outputs": [],
   "source": [
    "basedir = dirname(pwd())\n",
    "data_dir = joinpath(basedir, \"data\")"
   ]
  },
  {
   "cell_type": "code",
   "execution_count": null,
   "id": "f7ba5988-2150-4e4a-af08-d45f64b3a797",
   "metadata": {
    "tags": []
   },
   "outputs": [],
   "source": [
    "read_mapping_files = sort(filter(x -> occursin(\"m64342e_240416_193427.hifi_reads.bc2056--bc2056.bam\", x) && occursin(r\"\\.sam\\.gz$\", x), readdir(data_dir, join=true)), by=x->filesize(x))"
   ]
  },
  {
   "cell_type": "code",
   "execution_count": null,
   "id": "cf761b2d-261c-411e-86da-54b128638867",
   "metadata": {
    "tags": []
   },
   "outputs": [],
   "source": [
    "fastqs = sort(filter(x -> occursin(r\"\\.fq\\.gz$\", x), readdir(data_dir, join=true)), by=x->filesize(x))\n",
    "# nt_mappings = filter(x -> occursin(\"nt.fna.gz\", x), read_mapping_files)[1:5]\n",
    "locus_internal_mappings = filter(x -> occursin(\"locus\", x), read_mapping_files)"
   ]
  },
  {
   "cell_type": "code",
   "execution_count": null,
   "id": "e5911142-8ab3-4459-b3df-9d06f56bfd68",
   "metadata": {
    "tags": []
   },
   "outputs": [],
   "source": [
    "file_to_strain_relative_abundances = OrderedCollections.OrderedDict{String, Dict{String, Float64}}()\n",
    "ProgressMeter.@showprogress for xam in locus_internal_mappings\n",
    "    records_table = Mycelia.parse_xam_to_summary_table(xam)\n",
    "    strain_relative_abundances = Mycelia.normalize_countmap(StatsBase.countmap(String.(first.(split.(records_table[records_table[!, \"ismapped\"] .& records_table[!, \"isprimary\"], \"reference\"], \"__\")))))\n",
    "    file_to_strain_relative_abundances[xam] = strain_relative_abundances\n",
    "end\n",
    "file_to_strain_relative_abundances"
   ]
  },
  {
   "cell_type": "code",
   "execution_count": null,
   "id": "3a38a9d8-d975-4bc1-bf27-0403351615de",
   "metadata": {
    "tags": []
   },
   "outputs": [],
   "source": [
    "unique_sorted_taxa = sort(collect(reduce(union, keys.(values(file_to_strain_relative_abundances)))))"
   ]
  },
  {
   "cell_type": "code",
   "execution_count": null,
   "id": "f1445072-0711-4d55-a017-4f3808c277b4",
   "metadata": {
    "tags": []
   },
   "outputs": [],
   "source": [
    "n_samples = length(file_to_strain_relative_abundances)"
   ]
  },
  {
   "cell_type": "code",
   "execution_count": null,
   "id": "8a252df6-4ebe-4fa4-a3e0-6cab5eaae2f8",
   "metadata": {
    "tags": []
   },
   "outputs": [],
   "source": [
    "abundance_matrix = zeros(length(unique_sorted_taxa), n_samples)\n",
    "taxa_names_to_indices = Dict(t => i for (i, t) in enumerate(unique_sorted_taxa))\n",
    "for (column, (file, abundances)) in enumerate(file_to_strain_relative_abundances)\n",
    "    # @show column, sample\n",
    "    for (taxa, relative_abundance) in abundances\n",
    "        row = taxa_names_to_indices[taxa]\n",
    "        abundance_matrix[row, column] = relative_abundance\n",
    "    end\n",
    "end\n",
    "abundance_matrix"
   ]
  },
  {
   "cell_type": "code",
   "execution_count": null,
   "id": "682449ca-4a16-43cd-98cc-62b71b9aa8f3",
   "metadata": {
    "tags": []
   },
   "outputs": [],
   "source": [
    "abundance_sort_perm = sortperm(abundance_matrix, dims=1)"
   ]
  },
  {
   "cell_type": "code",
   "execution_count": null,
   "id": "9ad18f24-1a25-4c47-84c4-a7bcdabb0305",
   "metadata": {
    "tags": []
   },
   "outputs": [],
   "source": [
    "abundance_matrix[abundance_sort_perm]"
   ]
  },
  {
   "cell_type": "code",
   "execution_count": null,
   "id": "3508dcb7-2e67-4726-a8fe-7240edb9eb06",
   "metadata": {
    "tags": []
   },
   "outputs": [],
   "source": [
    "# Find the sort permutation of the row means vector\n",
    "sort_perm = sortperm(vec(Statistics.mean(abundance_matrix, dims=2)))\n",
    "file_labels = map(x -> !isnothing(match(r\"P\\d+(\\.\\d+)?(e-\\d+)?\", x)) ? match(r\"P\\d+(\\.\\d+)?(e-\\d+)?\", x).match : \"full\", basename.(keys(file_to_strain_relative_abundances)))\n",
    "StatsPlots.groupedbar(\n",
    "    abundance_matrix[sort_perm, :]',\n",
    "    bar_position = :stack,\n",
    "    bar_width=0.7, \n",
    "    label = permutedims(unique_sorted_taxa[sort_perm]), \n",
    "    xticks = (1:size(abundance_matrix, 2), file_labels), \n",
    "    xrotation = 45,\n",
    "    ylabel = \"proportion of reads\", \n",
    "    xlabel = \"Subsampling proportion\",\n",
    "    title = \"Strain relative abundance (Urine spike in)\",\n",
    "    legend = :outertopright,\n",
    "    size = (1000, 500),\n",
    "    margins = 10StatsPlots.Plots.PlotMeasures.mm\n",
    ")"
   ]
  }
 ],
 "metadata": {
  "kernelspec": {
   "display_name": "Julia 1.10.2",
   "language": "julia",
   "name": "julia-1.10"
  },
  "language_info": {
   "file_extension": ".jl",
   "mimetype": "application/julia",
   "name": "julia",
   "version": "1.10.2"
  }
 },
 "nbformat": 4,
 "nbformat_minor": 5
}
