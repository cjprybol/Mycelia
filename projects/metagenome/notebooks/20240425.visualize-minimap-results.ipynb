{
 "cells": [
  {
   "cell_type": "code",
   "execution_count": null,
   "id": "89b5c9fd-a800-4d1c-a007-ea67dbd0d9ef",
   "metadata": {
    "tags": []
   },
   "outputs": [],
   "source": [
    "# if hit plotting library issues, try resetting LD path for julia\n",
    "# can set in ~/.local/share/jupyter/kernels/\n",
    "haskey(ENV, \"LD_LIBRARY_PATH\") && @assert ENV[\"LD_LIBRARY_PATH\"] == \"\"\n",
    "import Pkg\n",
    "Pkg.activate(;temp=true)\n",
    "Pkg.add(\"Revise\")\n",
    "import Revise\n",
    "\n",
    "# Pkg.develop(path=\"/global/cfs/projectdirs/m4269/cjprybol/Mycelia\")\n",
    "# Pkg.develop(path=\"../../..\")\n",
    "Pkg.develop(path=\"$(homedir())/workspace/Mycelia\")\n",
    "import Mycelia\n",
    "\n",
    "pkgs = String[\n",
    "    \"DataFrames\",\n",
    "    \"FASTX\"\n",
    "]\n",
    "Pkg.add(pkgs)\n",
    "for pkg in pkgs\n",
    "    eval(Meta.parse(\"import $pkg\"))\n",
    "end"
   ]
  },
  {
   "cell_type": "code",
   "execution_count": null,
   "id": "6e5a39ba-b505-4d40-b843-5334bae7975f",
   "metadata": {},
   "outputs": [],
   "source": [
    "# rclone copy --progress --verbose --drive-chunk-size 2G --drive-upload-cutoff 1T --tpslimit 1 locus_data_warehouse:Genomics/SequelIIe/r64342e_20240416_185917/1_A01/bc2056--bc2056/m64342e_240416_193427.hifi_reads.bc2056--bc2056.bam /global/homes/c/cjprybol/workspace/Mycelia/projects/metagenome/data\n",
    "# /global/homes/c/cjprybol/workspace/Mycelia/projects/metagenome/data"
   ]
  },
  {
   "cell_type": "code",
   "execution_count": null,
   "id": "89ff1ae4-488f-4d1f-9afb-b5550d479d14",
   "metadata": {
    "tags": []
   },
   "outputs": [],
   "source": [
    "# tarchive = \"/global/homes/c/cjprybol/workspace/Mycelia/projects/metagenome/data/locus-reference-genomes.tar.gz\"\n",
    "# tarchive = \"/global/homes/c/cjprybol/workspace/Mycelia/projects/metagenome/data/SRR9202034.tar.gz\"\n",
    "# Mycelia.tar_extract(tarchive=tarchive)"
   ]
  },
  {
   "cell_type": "code",
   "execution_count": null,
   "id": "5c8287f7-fabe-4160-a687-f2c8a859b36b",
   "metadata": {
    "tags": []
   },
   "outputs": [],
   "source": [
    "basedir = dirname(pwd())\n",
    "data_dir = joinpath(basedir, \"data\")\n",
    "sample_dir = joinpath(data_dir, \"SRR9202034\")\n",
    "groups = [\n",
    "    \".seqkit.P0.0001.\",\n",
    "    \".seqkit.P0.001.\",\n",
    "    \".seqkit.P0.01.\",\n",
    "    \".seqkit.P0.1.\",\n",
    "    \"\"\n",
    "]\n",
    "group = first(groups)\n",
    "group_files = filter(x -> occursin(group, x), readdir(sample_dir, join=true))\n",
    "for x in group_files\n",
    "    println(x)\n",
    "end\n",
    "reads = joinpath(sample_dir, \"SRR9202034.seqkit.P0.0001.fq.gz\")\n",
    "read_table = DataFrames.DataFrame(read_identifiers = [FASTX.identifier(read) for read in Mycelia.open_fastx(reads)])"
   ]
  },
  {
   "cell_type": "code",
   "execution_count": null,
   "id": "8ec6dae4-d5ce-4710-8f43-3427b108d358",
   "metadata": {
    "tags": []
   },
   "outputs": [],
   "source": [
    "sam_files = filter(x -> occursin(r\"\\.sam\\.gz$\", x), group_files)"
   ]
  },
  {
   "cell_type": "code",
   "execution_count": null,
   "id": "5efa64c0-1aab-4a8a-aa19-314ff0262523",
   "metadata": {},
   "outputs": [],
   "source": []
  },
  {
   "cell_type": "code",
   "execution_count": null,
   "id": "176edd5f-c471-4fc4-b03c-51565fc16192",
   "metadata": {
    "tags": []
   },
   "outputs": [],
   "source": [
    "# Mycelia.parse_xam(sam_files[10])"
   ]
  },
  {
   "cell_type": "code",
   "execution_count": null,
   "id": "42408d22-30c1-4ede-83a5-2c35b4a82602",
   "metadata": {},
   "outputs": [],
   "source": []
  },
  {
   "cell_type": "code",
   "execution_count": null,
   "id": "57b7d663-c9e6-4a58-9f54-bcad4340cccc",
   "metadata": {
    "tags": []
   },
   "outputs": [],
   "source": [
    "# readdir(sample_dir)"
   ]
  },
  {
   "cell_type": "code",
   "execution_count": null,
   "id": "ef6e1252-7f07-421e-a1ac-69b909090eec",
   "metadata": {},
   "outputs": [],
   "source": []
  }
 ],
 "metadata": {
  "kernelspec": {
   "display_name": "Julia 1.10.2",
   "language": "julia",
   "name": "julia-1.10"
  },
  "language_info": {
   "file_extension": ".jl",
   "mimetype": "application/julia",
   "name": "julia",
   "version": "1.10.2"
  }
 },
 "nbformat": 4,
 "nbformat_minor": 5
}
