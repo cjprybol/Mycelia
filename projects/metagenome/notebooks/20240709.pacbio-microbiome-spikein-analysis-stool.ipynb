{
 "cells": [
  {
   "cell_type": "code",
   "execution_count": null,
   "id": "89b5c9fd-a800-4d1c-a007-ea67dbd0d9ef",
   "metadata": {
    "tags": []
   },
   "outputs": [],
   "source": [
    "# if hit plotting library issues, try resetting LD path for julia\n",
    "# can set in ~/.local/share/jupyter/kernels/\n",
    "haskey(ENV, \"LD_LIBRARY_PATH\") && @assert ENV[\"LD_LIBRARY_PATH\"] == \"\"\n",
    "import Pkg\n",
    "Pkg.activate(;temp=true)\n",
    "Pkg.add(\"Revise\")\n",
    "import Revise\n",
    "\n",
    "# Pkg.develop(path=\"/global/cfs/projectdirs/m4269/cjprybol/Mycelia\")\n",
    "# Pkg.develop(path=\"../../..\")\n",
    "Pkg.develop(path=\"$(homedir())/workspace/Mycelia\")\n",
    "import Mycelia\n",
    "\n",
    "pkgs = String[\n",
    "    \"DataFrames\",\n",
    "    \"FASTX\",\n",
    "    \"XAM\",\n",
    "    \"uCSV\",\n",
    "    \"CodecZlib\",\n",
    "    \"ProgressMeter\",\n",
    "    \"StatsBase\",\n",
    "    \"Statistics\",\n",
    "    \"CSV\",\n",
    "    \"Random\",\n",
    "    \"Distributions\",\n",
    "    \"Plots\",\n",
    "    \"OrderedCollections\",\n",
    "    \"StatsPlots\",\n",
    "    \"Colors\",\n",
    "    \"MultivariateStats\",\n",
    "    \"Clustering\"\n",
    "]\n",
    "Pkg.add(pkgs)\n",
    "for pkg in pkgs\n",
    "    eval(Meta.parse(\"import $pkg\"))\n",
    "end"
   ]
  },
  {
   "cell_type": "code",
   "execution_count": null,
   "id": "9c4d0f09-d6bf-47f3-bc27-60fe4259943b",
   "metadata": {
    "tags": []
   },
   "outputs": [],
   "source": [
    "basedir = dirname(pwd())\n",
    "data_dir = joinpath(basedir, \"data\")"
   ]
  },
  {
   "cell_type": "code",
   "execution_count": null,
   "id": "a086a277-f9b5-4655-84fe-1b07507da99f",
   "metadata": {
    "tags": []
   },
   "outputs": [],
   "source": [
    "RUN_ID = \"r64342e_20240705_213312\"\n",
    "# copy over\n",
    "# run(`rclone copy locus_data_warehouse:Genomics/SequelIIe/$(RUN_ID) $(data_dir)/$(RUN_ID)`)"
   ]
  },
  {
   "cell_type": "code",
   "execution_count": null,
   "id": "4bb8211b",
   "metadata": {
    "tags": []
   },
   "outputs": [],
   "source": [
    "xml = first(filter(x -> occursin(r\"\\.run\\.metadata\\.xml\", x), readdir(joinpath(data_dir, RUN_ID, \"1_A01\"), join=true)))"
   ]
  },
  {
   "cell_type": "code",
   "execution_count": null,
   "id": "3eb61446",
   "metadata": {
    "tags": []
   },
   "outputs": [],
   "source": [
    "sample_to_barcode_table = Mycelia.extract_pacbiosample_information(xml)\n",
    "sample_to_barcode_table = sample_to_barcode_table[map(x -> occursin(r\"urine\"i, x), sample_to_barcode_table[!, \"BioSampleName\"]), :]"
   ]
  },
  {
   "cell_type": "code",
   "execution_count": null,
   "id": "5e74582e",
   "metadata": {
    "tags": []
   },
   "outputs": [],
   "source": [
    "barcode_directories = filter(x -> occursin(r\"^bc\\d+\", basename(x)) && (basename(x) in Set(sample_to_barcode_table[!, \"BarcodeName\"])), readdir(joinpath(data_dir, RUN_ID, \"1_A01\"), join=true))"
   ]
  },
  {
   "cell_type": "code",
   "execution_count": null,
   "id": "214989c3",
   "metadata": {
    "tags": []
   },
   "outputs": [],
   "source": [
    "# map to blast NT\n",
    "blast_db = \"nt\"\n",
    "blast_dbs_dir = joinpath([homedir(), \"workspace\", \"blastdb\"])\n",
    "blast_db_path = joinpath(blast_dbs_dir, blast_db)"
   ]
  },
  {
   "cell_type": "code",
   "execution_count": null,
   "id": "8beb1a67",
   "metadata": {
    "tags": []
   },
   "outputs": [],
   "source": [
    "locus_c_strain_fasta = joinpath(data_dir, \"locus-c-strains.fna\")"
   ]
  },
  {
   "cell_type": "code",
   "execution_count": null,
   "id": "0694657b-246a-4db6-82be-9342e3999c9c",
   "metadata": {
    "tags": []
   },
   "outputs": [],
   "source": [
    "reference_fasta = locus_c_strain_fasta\n",
    "# reference_fasta = compressed_fasta_export\n",
    "\n",
    "# for d in barcode_directories\n",
    "#     bam_file = first(filter(x -> occursin(r\"\\.bam\", x), readdir(d, join=true)))\n",
    "#     # 5655.810957 seconds\n",
    "#     # 111.551031 seconds (70.00 k allocations: 4.719 MiB, 0.11% compilation time)\n",
    "#     fastq_file = Mycelia.bam_to_fastq(bam=bam_file)\n",
    "\n",
    "#     cmd, outfile = Mycelia.minimap_map(fasta=reference_fasta, fastq=fastq_file, mem_gb=Mycelia.NERSC_MEM, mapping_type=\"map-hifi\", threads=Mycelia.NERSC_CPU, as_string=true)\n",
    "#     # display(outfile)\n",
    "#     # display(cmd)\n",
    "#     # display(outfile)\n",
    "#     if !isfile(outfile)\n",
    "#         println(outfile)\n",
    "#         Mycelia.nersc_sbatch_regular(\n",
    "#             job_name=basename(outfile),\n",
    "#             mail_user=\"cameron.prybol@gmail.com\",\n",
    "#             logdir=mkpath(\"$(homedir())/workspace/slurmlogs\"),\n",
    "#             mem_gb=Mycelia.NERSC_MEM,\n",
    "#             cpus_per_task=Mycelia.NERSC_CPU,\n",
    "#             cmd=cmd)\n",
    "#     end\n",
    "# end"
   ]
  },
  {
   "cell_type": "code",
   "execution_count": null,
   "id": "2a8db99e-504b-4313-a123-181d99e72311",
   "metadata": {},
   "outputs": [],
   "source": [
    "# trigger analysis"
   ]
  },
  {
   "cell_type": "code",
   "execution_count": null,
   "id": "c11736a1-5a5c-4d51-ac54-345c498286ae",
   "metadata": {
    "tags": []
   },
   "outputs": [],
   "source": [
    "# find bam files and read them in - use standard microbiome taxonomy analysis from "
   ]
  },
  {
   "cell_type": "code",
   "execution_count": null,
   "id": "2f74858a-19de-4dd5-a161-5eb055ab4811",
   "metadata": {
    "tags": []
   },
   "outputs": [],
   "source": [
    "barcode_to_nt_xam = Dict()\n",
    "barcode_to_internal_xam = Dict()\n",
    "for barcode_directory in barcode_directories\n",
    "    barcode = basename(barcode_directory)\n",
    "    xams = filter(x -> occursin(Mycelia.XAM_REGEX, x), readdir(barcode_directory, join=true))\n",
    "    barcode_to_nt_xam[barcode] = first(filter(x -> occursin(basename(compressed_fasta_export), x), xams))\n",
    "    barcode_to_internal_xam[barcode] = first(filter(x -> occursin(\"locus-c-strains.fna\", x), xams))\n",
    "    @show xams\n",
    "end\n",
    "barcode_to_nt_xam\n",
    "barcode_to_internal_xam"
   ]
  },
  {
   "cell_type": "markdown",
   "id": "4849592d-634f-44e0-bab1-fc194ab1fa70",
   "metadata": {},
   "source": [
    "# NT"
   ]
  },
  {
   "cell_type": "code",
   "execution_count": null,
   "id": "44983e6e-8784-4e54-9c66-7846c823ea78",
   "metadata": {
    "tags": []
   },
   "outputs": [],
   "source": [
    "# taxa_level = \"species\"\n",
    "# when using cnumbers\n",
    "# file_to_taxa_relative_abundances = OrderedCollections.OrderedDict{String, Dict{Union{Missing, String}, Float64}}()\n",
    "# when using cluster IDs\n",
    "file_to_taxa_relative_abundances = OrderedCollections.OrderedDict{String, Dict{Union{Missing, Int}, Float64}}()\n",
    "ProgressMeter.@showprogress for xam in xams\n",
    "    @time record_table = Mycelia.parse_xam_to_mapped_records_table(xam)\n",
    "    record_table = record_table[record_table[!, \"isprimary\"], :]\n",
    "    record_table[!, \"top_hit_strain\"] = map(x -> lowercase(match(r\"(c\\d{6})\"i, x).captures[1]), record_table[!, \"reference\"])\n",
    "    # NEW! HERE WE CONVERT FROM STRAIN TO CLUSTER\n",
    "    record_table[!, \"strain_cluster\"] = map(x -> cstrain_to_cluster_map[x], record_table[!, \"top_hit_strain\"])\n",
    "    file_to_taxa_relative_abundances[xam] =  Mycelia.normalize_countmap(StatsBase.countmap(record_table[!, \"strain_cluster\"]))\n",
    "end\n",
    "file_to_taxa_relative_abundances"
   ]
  },
  {
   "cell_type": "code",
   "execution_count": null,
   "id": "d164411e-fa09-4db9-96e1-2325483e61e0",
   "metadata": {
    "tags": []
   },
   "outputs": [],
   "source": [
    "unique_sorted_taxa = unique(sort(collect(reduce(union, keys.(values(file_to_taxa_relative_abundances))))))"
   ]
  },
  {
   "cell_type": "code",
   "execution_count": null,
   "id": "3f8351b3-2d64-4c0a-8bea-d6120b231c03",
   "metadata": {
    "tags": []
   },
   "outputs": [],
   "source": [
    "n_samples = length(file_to_taxa_relative_abundances)"
   ]
  },
  {
   "cell_type": "code",
   "execution_count": null,
   "id": "aa3a8655-5612-44d4-955d-514734d4c36d",
   "metadata": {
    "tags": []
   },
   "outputs": [],
   "source": [
    "abundance_matrix = zeros(length(unique_sorted_taxa), n_samples)\n",
    "taxa_names_to_indices = Dict(t => i for (i, t) in enumerate(unique_sorted_taxa))\n",
    "for (column, (file, abundances)) in enumerate(file_to_taxa_relative_abundances)\n",
    "    # @show column, sample\n",
    "    for (taxa, relative_abundance) in abundances\n",
    "        row = taxa_names_to_indices[taxa]\n",
    "        abundance_matrix[row, column] = relative_abundance\n",
    "    end\n",
    "end\n",
    "abundance_matrix"
   ]
  },
  {
   "cell_type": "code",
   "execution_count": null,
   "id": "18d3f3d3-9f1a-4bbc-85d9-7d9401c1d7b3",
   "metadata": {
    "tags": []
   },
   "outputs": [],
   "source": [
    "file_to_identifier = Dict(row[\"xam\"] => row[\"BioSampleName\"] for row in DataFrames.eachrow(sample_to_barcode_table))"
   ]
  },
  {
   "cell_type": "code",
   "execution_count": null,
   "id": "a076ba91-36ca-4fbe-88bd-ecc33631be10",
   "metadata": {
    "tags": []
   },
   "outputs": [],
   "source": [
    "colorscheme = Colors.distinguishable_colors(length(unique_sorted_taxa), [Colors.RGB(1,1,1), Colors.RGB(0,0,0)], dropseed=true)"
   ]
  },
  {
   "cell_type": "code",
   "execution_count": null,
   "id": "68d0c021-cf25-4ff7-853e-5509fdc84c9b",
   "metadata": {
    "tags": []
   },
   "outputs": [],
   "source": [
    "# ## BASE - INCLUDES EVERYTHING\n",
    "# # Find the sort permutation of the row means vector\n",
    "# sort_perm = sortperm(vec(Statistics.mean(abundance_matrix, dims=2)))\n",
    "# file_labels = [file_to_identifier[k] for k in keys(file_to_taxa_relative_abundances)]\n",
    "# StatsPlots.groupedbar(\n",
    "#     abundance_matrix[sort_perm, :]',\n",
    "#     bar_position = :stack,\n",
    "#     bar_width=0.7, \n",
    "#     # label = permutedims(unique_sorted_taxa[sort_perm]),\n",
    "#     label = false,\n",
    "#     xticks = (1:size(abundance_matrix, 2), file_labels), \n",
    "#     xrotation = 45,\n",
    "#     ylabel = \"proportion of reads\", \n",
    "#     xlabel = \"Subsampling proportion\",\n",
    "#     title = \"Species relative abundance\",\n",
    "#     legend = :outertopright,\n",
    "#     size = (1000, 500),\n",
    "#     margins = 10StatsPlots.Plots.PlotMeasures.mm,\n",
    "#     seriescolor = hcat(reverse(colorscheme)...)\n",
    "# )"
   ]
  },
  {
   "cell_type": "code",
   "execution_count": null,
   "id": "d4ec1b2a-e39b-4b77-8312-5a0816bcff48",
   "metadata": {
    "tags": []
   },
   "outputs": [],
   "source": [
    "top_N = 30\n",
    "# Find the sort permutation of the row means vector\n",
    "sort_perm = sortperm(vec(Statistics.mean(abundance_matrix, dims=2)))\n",
    "file_labels = [file_to_identifier[k] for k in keys(file_to_taxa_relative_abundances)]\n",
    "StatsPlots.groupedbar(\n",
    "    abundance_matrix[sort_perm, :]'[:, end-(top_N-1):end],\n",
    "    bar_position = :stack,\n",
    "    bar_width=0.7, \n",
    "    label = permutedims(unique_sorted_taxa[sort_perm])[:, end-(top_N-1):end], \n",
    "    xticks = (1:size(abundance_matrix, 2), file_labels), \n",
    "    xrotation = 45,\n",
    "    ylabel = \"proportion of reads\", \n",
    "    xlabel = \"sample\",\n",
    "    title = \"taxa relative abundance (top $(top_N))\",\n",
    "    legend = :outertopright,\n",
    "    size = (1000, 500),\n",
    "    margins = 10StatsPlots.Plots.PlotMeasures.mm,\n",
    "    bottommargin = 15StatsPlots.Plots.PlotMeasures.mm,\n",
    "    seriescolor = hcat(reverse(colorscheme)...)[:, end-(top_N-1):end]\n",
    ")"
   ]
  },
  {
   "cell_type": "code",
   "execution_count": null,
   "id": "6d972da5-2b70-4e46-98d5-a817e82c91c1",
   "metadata": {
    "tags": []
   },
   "outputs": [],
   "source": [
    "cosine_distance_matrix = Mycelia.frequency_matrix_to_cosine_distance_matrix(abundance_matrix)\n",
    "fit_pca = MultivariateStats.fit(MultivariateStats.PCA, cosine_distance_matrix)\n",
    "transformed_observations = MultivariateStats.transform(fit_pca, cosine_distance_matrix')"
   ]
  },
  {
   "cell_type": "code",
   "execution_count": null,
   "id": "79cd665b-0a58-4985-be6a-31ae1fcbca47",
   "metadata": {
    "tags": []
   },
   "outputs": [],
   "source": [
    "cosine_distance_matrix"
   ]
  },
  {
   "cell_type": "code",
   "execution_count": null,
   "id": "190a2edd-d238-4f45-8d54-69d1ea244138",
   "metadata": {
    "tags": []
   },
   "outputs": [],
   "source": [
    "StatsPlots.heatmap(\n",
    "    cosine_distance_matrix,\n",
    "    xticks = (1:length(file_labels), file_labels),\n",
    "    xrotation = 45,\n",
    "    yticks = (1:length(file_labels), file_labels),\n",
    "    margins = 50StatsPlots.px,\n",
    "    title = \"pairwise cosine distance (0 = identical)\",\n",
    "    size = (1000, 600)\n",
    ")"
   ]
  },
  {
   "cell_type": "code",
   "execution_count": null,
   "id": "8e105bd3-1df0-4c04-8075-078de4e20e7c",
   "metadata": {
    "tags": []
   },
   "outputs": [],
   "source": [
    "markers = filter(x -> !(x in [:+, :auto, :x, :none, :heptagon, :octagon, :pentagon, :pixel, :hline, :vline]), StatsPlots.Plots.supported_markers())\n",
    "\n",
    "plot = \n",
    "StatsPlots.scatter(\n",
    "    [[x] for x in transformed_observations[1, :]],\n",
    "    [[y] for y in transformed_observations[2, :]],\n",
    "    [[z] for z in transformed_observations[3, :]],\n",
    "    xlabel = \"PC1\",\n",
    "    ylabel = \"PC2\",\n",
    "    zlabel = \"PC3\",\n",
    "    labels = permutedims(file_labels),\n",
    "    markershape = permutedims(markers),\n",
    "    title = \"PCA of relative abundance data\",\n",
    "    legend = :outertopright,\n",
    "    margins = 20StatsPlots.px,\n",
    "    dpi=300,\n",
    "    size=(800, 600),\n",
    "    markersize=7,\n",
    "    alpha=0.5\n",
    ")"
   ]
  },
  {
   "cell_type": "markdown",
   "id": "5e6ce5e8-a630-436d-924b-a4e50440e619",
   "metadata": {},
   "source": [
    "# Internal"
   ]
  },
  {
   "cell_type": "code",
   "execution_count": null,
   "id": "7e7a3be6-dd30-42e4-b98a-9123123dc9c7",
   "metadata": {
    "tags": []
   },
   "outputs": [],
   "source": [
    "sample_to_barcode_table[!, \"xam\"] = [barcode_to_internal_xam[barcode] for barcode in sample_to_barcode_table[!, \"BarcodeName\"]]\n",
    "xams = sample_to_barcode_table[!, \"xam\"]\n",
    "\n",
    "file_to_taxa_relative_abundances = OrderedCollections.OrderedDict{String, Dict{Union{Missing, String}, Float64}}()\n",
    "ProgressMeter.@showprogress for xam in xams\n",
    "    @time record_table = Mycelia.parse_xam_to_mapped_records_table(xam)\n",
    "    record_table = record_table[record_table[!, \"isprimary\"], :]\n",
    "    record_table[!, \"top_hit_strain\"] = map(x -> lowercase(match(r\"(c\\d{6})\"i, x).captures[1]), record_table[!, \"reference\"])\n",
    "    file_to_taxa_relative_abundances[xam] =  Mycelia.normalize_countmap(StatsBase.countmap(record_table[!, \"top_hit_strain\"]))\n",
    "end\n",
    "file_to_taxa_relative_abundances"
   ]
  },
  {
   "cell_type": "code",
   "execution_count": null,
   "id": "3a38a9d8-d975-4bc1-bf27-0403351615de",
   "metadata": {
    "tags": []
   },
   "outputs": [],
   "source": [
    "unique_sorted_taxa = unique(sort(collect(reduce(union, keys.(values(file_to_taxa_relative_abundances))))))"
   ]
  },
  {
   "cell_type": "code",
   "execution_count": null,
   "id": "f1445072-0711-4d55-a017-4f3808c277b4",
   "metadata": {
    "tags": []
   },
   "outputs": [],
   "source": [
    "n_samples = length(file_to_taxa_relative_abundances)"
   ]
  },
  {
   "cell_type": "code",
   "execution_count": null,
   "id": "8a252df6-4ebe-4fa4-a3e0-6cab5eaae2f8",
   "metadata": {
    "tags": []
   },
   "outputs": [],
   "source": [
    "abundance_matrix = zeros(length(unique_sorted_taxa), n_samples)\n",
    "taxa_names_to_indices = Dict(t => i for (i, t) in enumerate(unique_sorted_taxa))\n",
    "for (column, (file, abundances)) in enumerate(file_to_taxa_relative_abundances)\n",
    "    # @show column, sample\n",
    "    for (taxa, relative_abundance) in abundances\n",
    "        row = taxa_names_to_indices[taxa]\n",
    "        abundance_matrix[row, column] = relative_abundance\n",
    "    end\n",
    "end\n",
    "abundance_matrix"
   ]
  },
  {
   "cell_type": "code",
   "execution_count": null,
   "id": "d959df01-5bb9-46b7-861c-e00bede543e9",
   "metadata": {
    "tags": []
   },
   "outputs": [],
   "source": [
    "file_to_identifier = Dict(row[\"xam\"] => row[\"BioSampleName\"] for row in DataFrames.eachrow(sample_to_barcode_table))"
   ]
  },
  {
   "cell_type": "code",
   "execution_count": null,
   "id": "e7ab685c-d337-424f-87fe-e9c96b81d586",
   "metadata": {
    "tags": []
   },
   "outputs": [],
   "source": [
    "colorscheme = Colors.distinguishable_colors(length(unique_sorted_taxa), [Colors.RGB(1,1,1), Colors.RGB(0,0,0)], dropseed=true)"
   ]
  },
  {
   "cell_type": "code",
   "execution_count": null,
   "id": "3508dcb7-2e67-4726-a8fe-7240edb9eb06",
   "metadata": {
    "tags": []
   },
   "outputs": [],
   "source": [
    "# ## BASE - INCLUDES EVERYTHING\n",
    "# # Find the sort permutation of the row means vector\n",
    "# sort_perm = sortperm(vec(Statistics.mean(abundance_matrix, dims=2)))\n",
    "# file_labels = [file_to_identifier[k] for k in keys(file_to_taxa_relative_abundances)]\n",
    "# StatsPlots.groupedbar(\n",
    "#     abundance_matrix[sort_perm, :]',\n",
    "#     bar_position = :stack,\n",
    "#     bar_width=0.7, \n",
    "#     # label = permutedims(unique_sorted_taxa[sort_perm]),\n",
    "#     label = false,\n",
    "#     xticks = (1:size(abundance_matrix, 2), file_labels), \n",
    "#     xrotation = 45,\n",
    "#     ylabel = \"proportion of reads\", \n",
    "#     xlabel = \"Subsampling proportion\",\n",
    "#     title = \"Species relative abundance\",\n",
    "#     legend = :outertopright,\n",
    "#     size = (1000, 500),\n",
    "#     margins = 10StatsPlots.Plots.PlotMeasures.mm,\n",
    "#     seriescolor = hcat(reverse(colorscheme)...)\n",
    "# )"
   ]
  },
  {
   "cell_type": "code",
   "execution_count": null,
   "id": "72b14e56-4752-4a6c-9bba-67139009224b",
   "metadata": {
    "tags": []
   },
   "outputs": [],
   "source": [
    "top_N = 10\n",
    "# Find the sort permutation of the row means vector\n",
    "sort_perm = sortperm(vec(Statistics.mean(abundance_matrix, dims=2)))\n",
    "file_labels = [file_to_identifier[k] for k in keys(file_to_taxa_relative_abundances)]\n",
    "StatsPlots.groupedbar(\n",
    "    abundance_matrix[sort_perm, :]'[:, end-(top_N-1):end],\n",
    "    bar_position = :stack,\n",
    "    bar_width=0.7,\n",
    "    label = permutedims(unique_sorted_taxa[sort_perm])[:, end-(top_N-1):end], \n",
    "    xticks = (1:size(abundance_matrix, 2), file_labels), \n",
    "    xrotation = 45,\n",
    "    ylabel = \"proportion of reads\", \n",
    "    xlabel = \"Subsampling proportion\",\n",
    "    title = \"Strain relative abundance\",\n",
    "    legend = :outertopright,\n",
    "    legendtitle = \"cluster ID\",\n",
    "    size = (1000, 500),\n",
    "    margins = 20StatsPlots.Plots.PlotMeasures.mm,\n",
    "    seriescolor = hcat(reverse(colorscheme)...)[:, end-(top_N-1):end]\n",
    ")"
   ]
  },
  {
   "cell_type": "markdown",
   "id": "1eeaea34-0e2d-42ae-9636-cfd94a9304f3",
   "metadata": {},
   "source": [
    "# Revisualize by cluster"
   ]
  },
  {
   "cell_type": "code",
   "execution_count": null,
   "id": "c27cea10",
   "metadata": {
    "tags": []
   },
   "outputs": [],
   "source": [
    "basedir = dirname(pwd())\n",
    "data_dir = joinpath(basedir, \"data\")"
   ]
  },
  {
   "cell_type": "code",
   "execution_count": null,
   "id": "f3a68218-6bb4-462a-8708-536108d35fe9",
   "metadata": {
    "tags": []
   },
   "outputs": [],
   "source": [
    "locus_c_strain_directory = mkpath(joinpath(data_dir, \"locus-c-strains\"))"
   ]
  },
  {
   "cell_type": "code",
   "execution_count": null,
   "id": "9fbbce7e-093e-42bc-9524-31b7f8533510",
   "metadata": {
    "tags": []
   },
   "outputs": [],
   "source": [
    "in_fastas = filter(x -> occursin(Mycelia.FASTA_REGEX, x), readdir(locus_c_strain_directory, join=true))\n",
    "# locus_c_strain_fasta = joinpath(data_dir, \"locus-c-strains.fna\")\n",
    "outfile = joinpath(basedir, \"results\", \"20240702.c-strain-ani-analysis.txt\")\n",
    "fasta_list_file = joinpath(data_dir, \"locus-c-strain-file-list.txt\")\n",
    "# open(fasta_list_file, \"w\") do io\n",
    "#     for f in in_fastas\n",
    "#         println(io, f)\n",
    "#     end\n",
    "# end\n",
    "# readlines(fasta_list_file)"
   ]
  },
  {
   "cell_type": "markdown",
   "id": "a38171c5-cf9c-4001-a798-39f02cbfd13f",
   "metadata": {},
   "source": [
    "Here we generate clusters so that we can summarize the Urine mapping more cleanly"
   ]
  },
  {
   "cell_type": "code",
   "execution_count": null,
   "id": "97c6a4dc-4fec-404c-be7a-2fb340adbf89",
   "metadata": {
    "tags": []
   },
   "outputs": [],
   "source": [
    "# defaults to using all cores in the system\n",
    "# Mycelia.fastani_list(query_list = fasta_list_file, reference_list = fasta_list_file, threads=8, outfile = outfile)\n",
    "\n",
    "fastani_results = Mycelia.read_fastani(outfile)\n",
    "fastani_results[!, \"query_strain\"] = map(x -> lowercase(match(r\"(c\\d{6})\"i, x).captures[1]), basename.(fastani_results[!, \"query\"]))\n",
    "fastani_results[!, \"reference_strain\"] = map(x -> lowercase(match(r\"(c\\d{6})\"i, x).captures[1]), basename.(fastani_results[!, \"reference\"]))\n",
    "unique_strains = sort(collect(union(fastani_results[!, \"query_strain\"], fastani_results[!, \"reference_strain\"])))\n",
    "\n",
    "strain_to_index_map = Dict(s => i for (i, s) in enumerate(unique_strains))\n",
    "\n",
    "ani_distance_matrix = Array{Float64}(undef, length(unique_strains), length(unique_strains))\n",
    "ani_distance_matrix .= Inf\n",
    "for group in DataFrames.groupby(fastani_results, [\"query_strain\", \"reference_strain\"])\n",
    "    row_index = strain_to_index_map[group[1, \"query_strain\"]]\n",
    "    column_index = strain_to_index_map[group[1, \"reference_strain\"]]\n",
    "    average_percent_identity = Statistics.mean(group[!, \"%_identity\"])\n",
    "    ani_distance_matrix[row_index, column_index] = average_percent_identity\n",
    "end\n",
    "\n",
    "# average across the diagonals to ensure they are symmetric\n",
    "for i in 1:size(ani_distance_matrix, 1)\n",
    "    for j in i+1:size(ani_distance_matrix, 1)\n",
    "        ani_distance_matrix[i, j] = ani_distance_matrix[j, i] = Statistics.mean([ani_distance_matrix[i, j], ani_distance_matrix[j, i]])\n",
    "    end\n",
    "end\n",
    "ani_distance_matrix\n",
    "\n",
    "# convert % ani into a distance\n",
    "for i in eachindex(ani_distance_matrix)\n",
    "    ani_distance_matrix[i] = 1 - (ani_distance_matrix[i] / 100)\n",
    "    if ani_distance_matrix[i] == -Inf\n",
    "        ani_distance_matrix[i] = 1\n",
    "    end\n",
    "end\n",
    "ani_distance_matrix\n",
    "\n",
    "# ?Clustering.hclust\n",
    "hclust_result = Clustering.hclust(ani_distance_matrix, linkage=:average)\n",
    "\n",
    "clusters_995 = Clustering.cutree(hclust_result, h=0.005)\n",
    "\n",
    "# Create a dictionary to store clusters\n",
    "cluster_dict = Dict{Int, Vector{String}}()\n",
    "\n",
    "for (idx, cluster_id) in enumerate(clusters_995)\n",
    "    if haskey(cluster_dict, cluster_id)\n",
    "        push!(cluster_dict[cluster_id], unique_strains[idx])\n",
    "    else\n",
    "        cluster_dict[cluster_id] = [unique_strains[idx]]\n",
    "    end\n",
    "end\n",
    "\n",
    "cluster_dict = sort(cluster_dict)\n",
    "\n",
    "cstrain_to_cluster_map = Dict{String, Int}()\n",
    "for (cluster_id, cluster_members) in cluster_dict\n",
    "    for cluster_member in cluster_members\n",
    "        cstrain_to_cluster_map[cluster_member] = cluster_id\n",
    "    end\n",
    "end\n",
    "cstrain_to_cluster_map"
   ]
  },
  {
   "cell_type": "markdown",
   "id": "d69be639-6ccc-49f6-9f3a-3efe4691bd84",
   "metadata": {},
   "source": [
    "Now we load in the Urine data and reanalyze it, reporting cluster identities rather than individual strains"
   ]
  },
  {
   "cell_type": "code",
   "execution_count": null,
   "id": "005c69fb",
   "metadata": {
    "tags": []
   },
   "outputs": [],
   "source": [
    "# taxa_level = \"species\"\n",
    "# when using cnumbers\n",
    "# file_to_taxa_relative_abundances = OrderedCollections.OrderedDict{String, Dict{Union{Missing, String}, Float64}}()\n",
    "# when using cluster IDs\n",
    "file_to_taxa_relative_abundances = OrderedCollections.OrderedDict{String, Dict{Union{Missing, Int}, Float64}}()\n",
    "ProgressMeter.@showprogress for xam in xams\n",
    "    @time record_table = Mycelia.parse_xam_to_mapped_records_table(xam)\n",
    "    record_table = record_table[record_table[!, \"isprimary\"], :]\n",
    "    record_table[!, \"top_hit_strain\"] = map(x -> lowercase(match(r\"(c\\d{6})\"i, x).captures[1]), record_table[!, \"reference\"])\n",
    "    # NEW! HERE WE CONVERT FROM STRAIN TO CLUSTER\n",
    "    record_table[!, \"strain_cluster\"] = map(x -> cstrain_to_cluster_map[x], record_table[!, \"top_hit_strain\"])\n",
    "    file_to_taxa_relative_abundances[xam] =  Mycelia.normalize_countmap(StatsBase.countmap(record_table[!, \"strain_cluster\"]))\n",
    "end\n",
    "file_to_taxa_relative_abundances"
   ]
  },
  {
   "cell_type": "code",
   "execution_count": null,
   "id": "a3f1d90e",
   "metadata": {
    "tags": []
   },
   "outputs": [],
   "source": [
    "unique_sorted_taxa = unique(sort(collect(reduce(union, keys.(values(file_to_taxa_relative_abundances))))))"
   ]
  },
  {
   "cell_type": "code",
   "execution_count": null,
   "id": "16fc86a2",
   "metadata": {
    "tags": []
   },
   "outputs": [],
   "source": [
    "n_samples = length(file_to_taxa_relative_abundances)"
   ]
  },
  {
   "cell_type": "code",
   "execution_count": null,
   "id": "580de6bd",
   "metadata": {
    "tags": []
   },
   "outputs": [],
   "source": [
    "abundance_matrix = zeros(length(unique_sorted_taxa), n_samples)\n",
    "taxa_names_to_indices = Dict(t => i for (i, t) in enumerate(unique_sorted_taxa))\n",
    "for (column, (file, abundances)) in enumerate(file_to_taxa_relative_abundances)\n",
    "    # @show column, sample\n",
    "    for (taxa, relative_abundance) in abundances\n",
    "        row = taxa_names_to_indices[taxa]\n",
    "        abundance_matrix[row, column] = relative_abundance\n",
    "    end\n",
    "end\n",
    "abundance_matrix"
   ]
  },
  {
   "cell_type": "code",
   "execution_count": null,
   "id": "e2ea09dc",
   "metadata": {
    "tags": []
   },
   "outputs": [],
   "source": [
    "file_to_identifier = Dict(row[\"xam\"] => row[\"BioSampleName\"] for row in DataFrames.eachrow(sample_to_barcode_table))"
   ]
  },
  {
   "cell_type": "code",
   "execution_count": null,
   "id": "b4531824",
   "metadata": {
    "tags": []
   },
   "outputs": [],
   "source": [
    "colorscheme = Colors.distinguishable_colors(length(unique_sorted_taxa), [Colors.RGB(1,1,1), Colors.RGB(0,0,0)], dropseed=true)"
   ]
  },
  {
   "cell_type": "code",
   "execution_count": null,
   "id": "9a5e9c2f",
   "metadata": {
    "tags": []
   },
   "outputs": [],
   "source": [
    "# ## BASE - INCLUDES EVERYTHING\n",
    "# # Find the sort permutation of the row means vector\n",
    "# sort_perm = sortperm(vec(Statistics.mean(abundance_matrix, dims=2)))\n",
    "# file_labels = [file_to_identifier[k] for k in keys(file_to_taxa_relative_abundances)]\n",
    "# StatsPlots.groupedbar(\n",
    "#     abundance_matrix[sort_perm, :]',\n",
    "#     bar_position = :stack,\n",
    "#     bar_width=0.7, \n",
    "#     # label = permutedims(unique_sorted_taxa[sort_perm]),\n",
    "#     label = false,\n",
    "#     xticks = (1:size(abundance_matrix, 2), file_labels), \n",
    "#     xrotation = 45,\n",
    "#     ylabel = \"proportion of reads\", \n",
    "#     xlabel = \"Subsampling proportion\",\n",
    "#     title = \"Species relative abundance\",\n",
    "#     legend = :outertopright,\n",
    "#     size = (1000, 500),\n",
    "#     margins = 10StatsPlots.Plots.PlotMeasures.mm,\n",
    "#     seriescolor = hcat(reverse(colorscheme)...)\n",
    "# )"
   ]
  },
  {
   "cell_type": "code",
   "execution_count": null,
   "id": "6ea2daf3",
   "metadata": {
    "tags": []
   },
   "outputs": [],
   "source": [
    "top_N = 10\n",
    "# Find the sort permutation of the row means vector\n",
    "sort_perm = sortperm(vec(Statistics.mean(abundance_matrix, dims=2)))\n",
    "file_labels = [file_to_identifier[k] for k in keys(file_to_taxa_relative_abundances)]\n",
    "StatsPlots.groupedbar(\n",
    "    abundance_matrix[sort_perm, :]'[:, end-(top_N-1):end],\n",
    "    bar_position = :stack,\n",
    "    bar_width=0.7,\n",
    "    label = permutedims(unique_sorted_taxa[sort_perm])[:, end-(top_N-1):end], \n",
    "    xticks = (1:size(abundance_matrix, 2), file_labels), \n",
    "    xrotation = 45,\n",
    "    ylabel = \"proportion of reads\", \n",
    "    xlabel = \"Subsampling proportion\",\n",
    "    title = \"Strain relative abundance\",\n",
    "    legend = :outertopright,\n",
    "    legendtitle = \"cluster ID\",\n",
    "    size = (1000, 500),\n",
    "    margins = 20StatsPlots.Plots.PlotMeasures.mm,\n",
    "    seriescolor = hcat(reverse(colorscheme)...)[:, end-(top_N-1):end]\n",
    ")"
   ]
  }
 ],
 "metadata": {
  "kernelspec": {
   "display_name": "Julia 1.10.2",
   "language": "julia",
   "name": "julia-1.10"
  },
  "language_info": {
   "file_extension": ".jl",
   "mimetype": "application/julia",
   "name": "julia",
   "version": "1.10.2"
  }
 },
 "nbformat": 4,
 "nbformat_minor": 5
}
