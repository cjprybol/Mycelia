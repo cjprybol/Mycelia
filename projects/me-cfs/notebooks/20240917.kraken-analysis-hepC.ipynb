{
 "cells": [
  {
   "cell_type": "code",
   "execution_count": null,
   "id": "2f3a155c-bf83-4f23-9bc1-e171d323e97b",
   "metadata": {},
   "outputs": [],
   "source": [
    "# if hit plotting library issues, try resetting LD path for julia\n",
    "# can set in ~/.local/share/jupyter/kernels/\n",
    "@assert ENV[\"LD_LIBRARY_PATH\"] == \"\"\n",
    "import Pkg\n",
    "Pkg.activate(;temp=true)\n",
    "Pkg.add(\"Revise\")\n",
    "import Revise\n",
    "\n",
    "Pkg.develop(path=\"$(homedir())/workspace/Mycelia\")\n",
    "import Mycelia\n",
    "\n",
    "pkgs = [\n",
    "    \"DataFrames\",\n",
    "    \"StatsBase\",\n",
    "    \"StatsPlots\",\n",
    "    \"uCSV\",\n",
    "    \"ProgressMeter\",\n",
    "    \"Distances\",\n",
    "    \"Clustering\",\n",
    "    \"Colors\",\n",
    "    \"MultivariateStats\",\n",
    "    \"Dates\",\n",
    "    \"CategoricalArrays\",\n",
    "    \"GLM\",\n",
    "    \"Statistics\",\n",
    "]\n",
    "Pkg.add(pkgs)\n",
    "for pkg in pkgs\n",
    "    eval(Meta.parse(\"import $pkg\"))\n",
    "end"
   ]
  },
  {
   "cell_type": "code",
   "execution_count": null,
   "id": "cb118c02-c216-4da0-b13e-cc39c5efd605",
   "metadata": {},
   "outputs": [],
   "source": [
    "base_dir = dirname(pwd())\n",
    "data_directory = joinpath(base_dir, \"data\")\n",
    "results_dir = mkpath(joinpath(base_dir, \"results\"))"
   ]
  },
  {
   "cell_type": "code",
   "execution_count": null,
   "id": "1f4613b4-0be3-49a5-943c-4cf3658b34a3",
   "metadata": {},
   "outputs": [],
   "source": [
    "sample_directories = readdir(joinpath(data_directory, \"samples\"), join=true)"
   ]
  },
  {
   "cell_type": "code",
   "execution_count": null,
   "id": "d7c9aed1-2ed4-44a6-ad0f-52000970e25f",
   "metadata": {},
   "outputs": [],
   "source": [
    "kraken_dbs = filter(x -> isdir(x), readdir(\"$(homedir())/workspace/kraken\", join=true))"
   ]
  },
  {
   "cell_type": "code",
   "execution_count": null,
   "id": "2a54d4f5-f2b4-469d-84e8-60ff11ee31dc",
   "metadata": {},
   "outputs": [],
   "source": [
    "# kraken_db = \"/home/cjprybol/workspace/kraken/k2_pluspfp_20231009\"\n",
    "kraken_db = \"k2_pluspfp_20231009\""
   ]
  },
  {
   "cell_type": "code",
   "execution_count": null,
   "id": "c1a6e9fc-c855-44ec-9c0d-c731e5e326aa",
   "metadata": {},
   "outputs": [],
   "source": [
    "kraken_reports = String[]\n",
    "for sample_directory in sample_directories\n",
    "    trim_galore_directories = filter(x -> occursin(r\"trimgalore$\", x), readdir(sample_directory, join=true))\n",
    "    for trim_galore_directory in trim_galore_directories\n",
    "        # @show trim_galore_directory\n",
    "        kraken_directories = filter(x -> occursin(r\"kraken\", x), readdir(trim_galore_directory, join=true))\n",
    "        for kraken_directory in kraken_directories\n",
    "            reports = filter(x -> occursin(r\"kraken-report\\.tsv$\", x), readdir(kraken_directory, join=true))\n",
    "            append!(kraken_reports, reports)\n",
    "        end\n",
    "    end\n",
    "end\n",
    "kraken_reports = filter(x -> occursin(kraken_db, x), kraken_reports)"
   ]
  },
  {
   "cell_type": "code",
   "execution_count": null,
   "id": "6935acbc-b3f8-4f20-82c3-c6abf7139a4d",
   "metadata": {},
   "outputs": [],
   "source": [
    "taxon_levels = Mycelia.list_ranks()"
   ]
  },
  {
   "cell_type": "code",
   "execution_count": null,
   "id": "205bbbe4-46d1-4aa6-9e6d-f68e9d91455a",
   "metadata": {},
   "outputs": [],
   "source": [
    "# i = 1\n",
    "# i = 2\n",
    "# i = 3\n",
    "# i = 4\n",
    "# i = 5\n",
    "# i = 6\n",
    "# i = 7\n",
    "i = 8\n",
    "# i = 9\n",
    "\n",
    "(taxon_index, taxon_level) = collect(enumerate(taxon_levels))[i]\n",
    "println(\"$(taxon_index) - $(taxon_level)\")\n",
    "rank_table = Mycelia.list_rank(taxon_level)"
   ]
  },
  {
   "cell_type": "code",
   "execution_count": null,
   "id": "771858a6-5fd1-4f3b-ac33-49d22d209b34",
   "metadata": {},
   "outputs": [],
   "source": [
    "# turn me into a function that accepts a rank table and a list of kraken reports as well as an output\n",
    "rank_taxids = Set(rank_table[!, \"taxid\"])\n",
    "cross_sample_taxon_report_table = DataFrames.DataFrame()\n",
    "ProgressMeter.@showprogress for kraken_report in kraken_reports\n",
    "    report_table = Mycelia.read_kraken_report(kraken_report)\n",
    "    taxon_level_report = report_table[map(x -> x in rank_taxids, report_table[!, \"ncbi_taxonid\"]), :]\n",
    "    taxon_level_report[!, \"sample_identifier\"] .= basename(kraken_report)\n",
    "    append!(cross_sample_taxon_report_table, taxon_level_report)\n",
    "end\n",
    "cross_sample_taxon_report_table"
   ]
  },
  {
   "cell_type": "code",
   "execution_count": null,
   "id": "106be925-0662-4972-a26d-107e26d7809d",
   "metadata": {},
   "outputs": [],
   "source": [
    "cross_sample_taxon_report_table[cross_sample_taxon_report_table[!, \"ncbi_taxonid\"] .== 11102, :]"
   ]
  },
  {
   "cell_type": "code",
   "execution_count": null,
   "id": "91d3df29-21eb-4af3-a9ff-3cfbf789d921",
   "metadata": {},
   "outputs": [],
   "source": [
    "any(cross_sample_taxon_report_table[cross_sample_taxon_report_table[!, \"ncbi_taxonid\"] .== 11102, \"number_of_fragments_at_or_below_taxon\"] .> 0)"
   ]
  }
 ],
 "metadata": {
  "kernelspec": {
   "display_name": "Julia 1.10.5 1.10.5",
   "language": "julia",
   "name": "julia-1.10.5-1.10"
  },
  "language_info": {
   "file_extension": ".jl",
   "mimetype": "application/julia",
   "name": "julia",
   "version": "1.10.5"
  }
 },
 "nbformat": 4,
 "nbformat_minor": 5
}
