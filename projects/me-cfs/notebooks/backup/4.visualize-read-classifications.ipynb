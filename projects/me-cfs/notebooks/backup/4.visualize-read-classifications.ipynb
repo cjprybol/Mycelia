{
 "cells": [
  {
   "cell_type": "code",
   "execution_count": 2,
   "id": "28afd0da-a1e3-48ad-a12a-8bbb3a8d19c2",
   "metadata": {
    "tags": []
   },
   "outputs": [
    {
     "name": "stderr",
     "output_type": "stream",
     "text": [
      "\u001b[36m\u001b[1m[ \u001b[22m\u001b[39m\u001b[36m\u001b[1mInfo: \u001b[22m\u001b[39mPrecompiling Mycelia [453d265d-8292-4a7b-a57c-dce3f9ae6acd]\n",
      "\u001b[36m\u001b[1m[ \u001b[22m\u001b[39m\u001b[36m\u001b[1mInfo: \u001b[22m\u001b[39mSkipping precompilation since __precompile__(false). Importing Mycelia [453d265d-8292-4a7b-a57c-dce3f9ae6acd].\n"
     ]
    }
   ],
   "source": [
    "import Pkg\n",
    "\n",
    "pkgs = [\n",
    "\"DataFrames\",\n",
    "\"StatsBase\",\n",
    "\"StatsPlots\",\n",
    "\"uCSV\",\n",
    "\"ProgressMeter\",\n",
    "\"Distances\",\n",
    "\"Clustering\",\n",
    "\"Colors\",\n",
    "\"MultivariateStats\"\n",
    "]\n",
    "# Pkg.add(pkgs)\n",
    "for pkg in pkgs\n",
    "    eval(Meta.parse(\"import $pkg\"))\n",
    "end\n",
    "\n",
    "import Mycelia"
   ]
  },
  {
   "cell_type": "code",
   "execution_count": 3,
   "id": "9840a8cc-e195-483d-8301-1bddc7df374b",
   "metadata": {
    "tags": []
   },
   "outputs": [
    {
     "data": {
      "text/plain": [
       "\"k2_pluspfp_20231009\""
      ]
     },
     "execution_count": 3,
     "metadata": {},
     "output_type": "execute_result"
    }
   ],
   "source": [
    "# kraken_db = \"k2_pluspfp_20221209\"\n",
    "# kraken_db = \"k2_pluspfp_08gb_20231009\"\n",
    "# kraken_db = \"k2_pluspfp_16gb_20231009\"\n",
    "kraken_db = \"k2_pluspfp_20231009\""
   ]
  },
  {
   "cell_type": "code",
   "execution_count": 6,
   "id": "659bf83b-0381-415b-bf61-9587444ade6a",
   "metadata": {
    "tags": []
   },
   "outputs": [
    {
     "data": {
      "text/plain": [
       "51-element Vector{String}:\n",
       " \"/oak/stanford/scg/lab_mpsnyder/\" ⋯ 305 bytes ⋯ \"pfp_20231009.kraken-report.tsv\"\n",
       " \"/oak/stanford/scg/lab_mpsnyder/\" ⋯ 305 bytes ⋯ \"pfp_20231009.kraken-report.tsv\"\n",
       " \"/oak/stanford/scg/lab_mpsnyder/\" ⋯ 305 bytes ⋯ \"pfp_20231009.kraken-report.tsv\"\n",
       " \"/oak/stanford/scg/lab_mpsnyder/\" ⋯ 305 bytes ⋯ \"pfp_20231009.kraken-report.tsv\"\n",
       " \"/oak/stanford/scg/lab_mpsnyder/\" ⋯ 305 bytes ⋯ \"pfp_20231009.kraken-report.tsv\"\n",
       " \"/oak/stanford/scg/lab_mpsnyder/\" ⋯ 305 bytes ⋯ \"pfp_20231009.kraken-report.tsv\"\n",
       " \"/oak/stanford/scg/lab_mpsnyder/\" ⋯ 305 bytes ⋯ \"pfp_20231009.kraken-report.tsv\"\n",
       " \"/oak/stanford/scg/lab_mpsnyder/\" ⋯ 305 bytes ⋯ \"pfp_20231009.kraken-report.tsv\"\n",
       " \"/oak/stanford/scg/lab_mpsnyder/\" ⋯ 313 bytes ⋯ \"pfp_20231009.kraken-report.tsv\"\n",
       " \"/oak/stanford/scg/lab_mpsnyder/\" ⋯ 313 bytes ⋯ \"pfp_20231009.kraken-report.tsv\"\n",
       " \"/oak/stanford/scg/lab_mpsnyder/\" ⋯ 313 bytes ⋯ \"pfp_20231009.kraken-report.tsv\"\n",
       " \"/oak/stanford/scg/lab_mpsnyder/\" ⋯ 313 bytes ⋯ \"pfp_20231009.kraken-report.tsv\"\n",
       " \"/oak/stanford/scg/lab_mpsnyder/\" ⋯ 313 bytes ⋯ \"pfp_20231009.kraken-report.tsv\"\n",
       " ⋮\n",
       " \"/oak/stanford/scg/lab_mpsnyder/\" ⋯ 313 bytes ⋯ \"pfp_20231009.kraken-report.tsv\"\n",
       " \"/oak/stanford/scg/lab_mpsnyder/\" ⋯ 313 bytes ⋯ \"pfp_20231009.kraken-report.tsv\"\n",
       " \"/oak/stanford/scg/lab_mpsnyder/\" ⋯ 313 bytes ⋯ \"pfp_20231009.kraken-report.tsv\"\n",
       " \"/oak/stanford/scg/lab_mpsnyder/\" ⋯ 313 bytes ⋯ \"pfp_20231009.kraken-report.tsv\"\n",
       " \"/oak/stanford/scg/lab_mpsnyder/\" ⋯ 313 bytes ⋯ \"pfp_20231009.kraken-report.tsv\"\n",
       " \"/oak/stanford/scg/lab_mpsnyder/\" ⋯ 305 bytes ⋯ \"pfp_20231009.kraken-report.tsv\"\n",
       " \"/oak/stanford/scg/lab_mpsnyder/\" ⋯ 305 bytes ⋯ \"pfp_20231009.kraken-report.tsv\"\n",
       " \"/oak/stanford/scg/lab_mpsnyder/\" ⋯ 305 bytes ⋯ \"pfp_20231009.kraken-report.tsv\"\n",
       " \"/oak/stanford/scg/lab_mpsnyder/\" ⋯ 305 bytes ⋯ \"pfp_20231009.kraken-report.tsv\"\n",
       " \"/oak/stanford/scg/lab_mpsnyder/\" ⋯ 313 bytes ⋯ \"pfp_20231009.kraken-report.tsv\"\n",
       " \"/oak/stanford/scg/lab_mpsnyder/\" ⋯ 313 bytes ⋯ \"pfp_20231009.kraken-report.tsv\"\n",
       " \"/oak/stanford/scg/lab_mpsnyder/\" ⋯ 313 bytes ⋯ \"pfp_20231009.kraken-report.tsv\""
      ]
     },
     "execution_count": 6,
     "metadata": {},
     "output_type": "execute_result"
    }
   ],
   "source": [
    "data_dir = joinpath(dirname(pwd()), \"data\")\n",
    "\n",
    "results_dir = mkpath(joinpath(dirname(pwd()), \"results\"))\n",
    "\n",
    "sample_directories = readdir(joinpath(data_dir, \"samples\"), join=true)\n",
    "\n",
    "kraken_reports = String[]\n",
    "for sample_directory in sample_directories\n",
    "    trim_galore_directories = filter(x -> occursin(r\"trimgalore$\", x), readdir(sample_directory, join=true))\n",
    "    for trim_galore_directory in trim_galore_directories\n",
    "        # @show trim_galore_directory\n",
    "        kraken_directories = filter(x -> occursin(r\"kraken\", x), readdir(trim_galore_directory, join=true))\n",
    "        for kraken_directory in kraken_directories\n",
    "            reports = filter(x -> occursin(r\"kraken-report\\.tsv$\", x), readdir(kraken_directory, join=true))\n",
    "            append!(kraken_reports, reports)\n",
    "        end\n",
    "    end\n",
    "end\n",
    "kraken_reports = filter(x -> occursin(kraken_db, x), kraken_reports)"
   ]
  },
  {
   "cell_type": "code",
   "execution_count": 7,
   "id": "0c9d3c0d-6ca1-47f9-802b-d352ee889822",
   "metadata": {
    "tags": []
   },
   "outputs": [
    {
     "data": {
      "text/plain": [
       "9-element Vector{String}:\n",
       " \"top\"\n",
       " \"superkingdom\"\n",
       " \"kingdom\"\n",
       " \"phylum\"\n",
       " \"class\"\n",
       " \"order\"\n",
       " \"family\"\n",
       " \"genus\"\n",
       " \"species\""
      ]
     },
     "execution_count": 7,
     "metadata": {},
     "output_type": "execute_result"
    }
   ],
   "source": [
    "taxon_levels = Mycelia.list_ranks()"
   ]
  },
  {
   "cell_type": "code",
   "execution_count": 184,
   "id": "3a6be592-0df7-49ea-ba1c-ab66b5ff7ea2",
   "metadata": {
    "tags": []
   },
   "outputs": [
    {
     "name": "stdout",
     "output_type": "stream",
     "text": [
      "9 - species\n"
     ]
    },
    {
     "data": {
      "text/html": [
       "<div><div style = \"float: left;\"><span>2074858×2 DataFrame</span></div><div style = \"float: right;\"><span style = \"font-style: italic;\">2074833 rows omitted</span></div><div style = \"clear: both;\"></div></div><div class = \"data-frame\" style = \"overflow-x: scroll;\"><table class = \"data-frame\" style = \"margin-bottom: 6px;\"><thead><tr class = \"header\"><th class = \"rowNumber\" style = \"font-weight: bold; text-align: right;\">Row</th><th style = \"text-align: left;\">taxid</th><th style = \"text-align: left;\">name</th></tr><tr class = \"subheader headerLastRow\"><th class = \"rowNumber\" style = \"font-weight: bold; text-align: right;\"></th><th title = \"Int64\" style = \"text-align: left;\">Int64</th><th title = \"String\" style = \"text-align: left;\">String</th></tr></thead><tbody><tr><td class = \"rowNumber\" style = \"font-weight: bold; text-align: right;\">1</td><td style = \"text-align: right;\">46014</td><td style = \"text-align: left;\">Plasmavirus L2</td></tr><tr><td class = \"rowNumber\" style = \"font-weight: bold; text-align: right;\">2</td><td style = \"text-align: right;\">174676</td><td style = \"text-align: left;\">unidentified Fusellovirus</td></tr><tr><td class = \"rowNumber\" style = \"font-weight: bold; text-align: right;\">3</td><td style = \"text-align: right;\">244589</td><td style = \"text-align: left;\">Sulfolobus spindle-shaped virus 1</td></tr><tr><td class = \"rowNumber\" style = \"font-weight: bold; text-align: right;\">4</td><td style = \"text-align: right;\">244590</td><td style = \"text-align: left;\">Sulfolobus spindle-shaped virus 2</td></tr><tr><td class = \"rowNumber\" style = \"font-weight: bold; text-align: right;\">5</td><td style = \"text-align: right;\">459290</td><td style = \"text-align: left;\">Sulfolobus spindle-shaped virus 4</td></tr><tr><td class = \"rowNumber\" style = \"font-weight: bold; text-align: right;\">6</td><td style = \"text-align: right;\">459291</td><td style = \"text-align: left;\">Sulfolobus spindle-shaped virus 5</td></tr><tr><td class = \"rowNumber\" style = \"font-weight: bold; text-align: right;\">7</td><td style = \"text-align: right;\">693628</td><td style = \"text-align: left;\">Sulfolobus spindle-shaped virus 7</td></tr><tr><td class = \"rowNumber\" style = \"font-weight: bold; text-align: right;\">8</td><td style = \"text-align: right;\">2032563</td><td style = \"text-align: left;\">Sulfolobus spindle-shaped virus 8</td></tr><tr><td class = \"rowNumber\" style = \"font-weight: bold; text-align: right;\">9</td><td style = \"text-align: right;\">2032573</td><td style = \"text-align: left;\">Sulfolobus spindle-shaped virus 9</td></tr><tr><td class = \"rowNumber\" style = \"font-weight: bold; text-align: right;\">10</td><td style = \"text-align: right;\">1959008</td><td style = \"text-align: left;\">Sulfolobus spindle-shaped virus Lassen</td></tr><tr><td class = \"rowNumber\" style = \"font-weight: bold; text-align: right;\">11</td><td style = \"text-align: right;\">1959009</td><td style = \"text-align: left;\">Sulfolobus spindle-shaped virus 3</td></tr><tr><td class = \"rowNumber\" style = \"font-weight: bold; text-align: right;\">12</td><td style = \"text-align: right;\">2491899</td><td style = \"text-align: left;\">Sulfolobus spindle-shaped virus</td></tr><tr><td class = \"rowNumber\" style = \"font-weight: bold; text-align: right;\">13</td><td style = \"text-align: right;\">1298531</td><td style = \"text-align: left;\">Sulfolobales Mexican fusellovirus 1</td></tr><tr><td style = \"text-align: right;\">&vellip;</td><td style = \"text-align: right;\">&vellip;</td><td style = \"text-align: right;\">&vellip;</td></tr><tr><td class = \"rowNumber\" style = \"font-weight: bold; text-align: right;\">2074847</td><td style = \"text-align: right;\">2026680</td><td style = \"text-align: left;\">Synthetic Enterobacteria phage CryptX174</td></tr><tr><td class = \"rowNumber\" style = \"font-weight: bold; text-align: right;\">2074848</td><td style = \"text-align: right;\">2302378</td><td style = \"text-align: left;\">Synthetic phage</td></tr><tr><td class = \"rowNumber\" style = \"font-weight: bold; text-align: right;\">2074849</td><td style = \"text-align: right;\">2005392</td><td style = \"text-align: left;\">synthetic gene</td></tr><tr><td class = \"rowNumber\" style = \"font-weight: bold; text-align: right;\">2074850</td><td style = \"text-align: right;\">2005482</td><td style = \"text-align: left;\">synthetic construct (code 12)</td></tr><tr><td class = \"rowNumber\" style = \"font-weight: bold; text-align: right;\">2074851</td><td style = \"text-align: right;\">2086595</td><td style = \"text-align: left;\">synthetic RNA</td></tr><tr><td class = \"rowNumber\" style = \"font-weight: bold; text-align: right;\">2074852</td><td style = \"text-align: right;\">2577081</td><td style = \"text-align: left;\">synthetic construct (code 3)</td></tr><tr><td class = \"rowNumber\" style = \"font-weight: bold; text-align: right;\">2074853</td><td style = \"text-align: right;\">2582415</td><td style = \"text-align: left;\">blank sample</td></tr><tr><td class = \"rowNumber\" style = \"font-weight: bold; text-align: right;\">2074854</td><td style = \"text-align: right;\">2725005</td><td style = \"text-align: left;\">virus synthetic construct</td></tr><tr><td class = \"rowNumber\" style = \"font-weight: bold; text-align: right;\">2074855</td><td style = \"text-align: right;\">2419498</td><td style = \"text-align: left;\">Yeast minichromosome spTALS1</td></tr><tr><td class = \"rowNumber\" style = \"font-weight: bold; text-align: right;\">2074856</td><td style = \"text-align: right;\">2419499</td><td style = \"text-align: left;\">Yeast minichromosome spTALS2</td></tr><tr><td class = \"rowNumber\" style = \"font-weight: bold; text-align: right;\">2074857</td><td style = \"text-align: right;\">2419500</td><td style = \"text-align: left;\">Yeast minichromosome spTALS3</td></tr><tr><td class = \"rowNumber\" style = \"font-weight: bold; text-align: right;\">2074858</td><td style = \"text-align: right;\">2419501</td><td style = \"text-align: left;\">Yeast minichromosome spTALS4</td></tr></tbody></table></div>"
      ],
      "text/latex": [
       "\\begin{tabular}{r|cc}\n",
       "\t& taxid & name\\\\\n",
       "\t\\hline\n",
       "\t& Int64 & String\\\\\n",
       "\t\\hline\n",
       "\t1 & 46014 & Plasmavirus L2 \\\\\n",
       "\t2 & 174676 & unidentified Fusellovirus \\\\\n",
       "\t3 & 244589 & Sulfolobus spindle-shaped virus 1 \\\\\n",
       "\t4 & 244590 & Sulfolobus spindle-shaped virus 2 \\\\\n",
       "\t5 & 459290 & Sulfolobus spindle-shaped virus 4 \\\\\n",
       "\t6 & 459291 & Sulfolobus spindle-shaped virus 5 \\\\\n",
       "\t7 & 693628 & Sulfolobus spindle-shaped virus 7 \\\\\n",
       "\t8 & 2032563 & Sulfolobus spindle-shaped virus 8 \\\\\n",
       "\t9 & 2032573 & Sulfolobus spindle-shaped virus 9 \\\\\n",
       "\t10 & 1959008 & Sulfolobus spindle-shaped virus Lassen \\\\\n",
       "\t11 & 1959009 & Sulfolobus spindle-shaped virus 3 \\\\\n",
       "\t12 & 2491899 & Sulfolobus spindle-shaped virus \\\\\n",
       "\t13 & 1298531 & Sulfolobales Mexican fusellovirus 1 \\\\\n",
       "\t14 & 2655037 & Sulfolobus super-elliptical virus \\\\\n",
       "\t15 & 2866665 & Lokiarchaeota virus WyrdV1 \\\\\n",
       "\t16 & 693627 & Sulfolobus spindle-shaped virus 6 \\\\\n",
       "\t17 & 693629 & Acidianus spindle-shaped virus 1 \\\\\n",
       "\t18 & 3035230 & Sulfolobus spindle-shaped virus SSV19 \\\\\n",
       "\t19 & 12340 & Enterobacteria phage 933J \\\\\n",
       "\t20 & 12347 & Actinophage JHJ-1 \\\\\n",
       "\t21 & 12366 & Streptococcus pyogenes phage H4489A \\\\\n",
       "\t22 & 12371 & Phage h30 \\\\\n",
       "\t23 & 12374 & Lactococcus phage \\\\\n",
       "\t24 & 12375 & Lactococcus phage (ISOLATE 7-9) \\\\\n",
       "\t25 & 12386 & Lactococcus phage mi7-9 \\\\\n",
       "\t26 & 12388 & Mycobacterium phage FRAT1 \\\\\n",
       "\t27 & 12392 & Lactobacillus phage mv4 \\\\\n",
       "\t28 & 12403 & Leuconostoc phage P32 \\\\\n",
       "\t29 & 12404 & Leuconostoc phage P37 \\\\\n",
       "\t30 & 12405 & Leuconostoc phage P54 \\\\\n",
       "\t$\\dots$ & $\\dots$ & $\\dots$ \\\\\n",
       "\\end{tabular}\n"
      ],
      "text/plain": [
       "\u001b[1m2074858×2 DataFrame\u001b[0m\n",
       "\u001b[1m     Row \u001b[0m│\u001b[1m taxid   \u001b[0m\u001b[1m name                              \u001b[0m\n",
       "         │\u001b[90m Int64   \u001b[0m\u001b[90m String                            \u001b[0m\n",
       "─────────┼────────────────────────────────────────────\n",
       "       1 │   46014  Plasmavirus L2\n",
       "       2 │  174676  unidentified Fusellovirus\n",
       "       3 │  244589  Sulfolobus spindle-shaped virus 1\n",
       "       4 │  244590  Sulfolobus spindle-shaped virus 2\n",
       "       5 │  459290  Sulfolobus spindle-shaped virus 4\n",
       "       6 │  459291  Sulfolobus spindle-shaped virus 5\n",
       "       7 │  693628  Sulfolobus spindle-shaped virus 7\n",
       "       8 │ 2032563  Sulfolobus spindle-shaped virus 8\n",
       "       9 │ 2032573  Sulfolobus spindle-shaped virus 9\n",
       "      10 │ 1959008  Sulfolobus spindle-shaped virus …\n",
       "      11 │ 1959009  Sulfolobus spindle-shaped virus 3\n",
       "    ⋮    │    ⋮                     ⋮\n",
       " 2074849 │ 2005392  synthetic gene\n",
       " 2074850 │ 2005482  synthetic construct (code 12)\n",
       " 2074851 │ 2086595  synthetic RNA\n",
       " 2074852 │ 2577081  synthetic construct (code 3)\n",
       " 2074853 │ 2582415  blank sample\n",
       " 2074854 │ 2725005  virus synthetic construct\n",
       " 2074855 │ 2419498  Yeast minichromosome spTALS1\n",
       " 2074856 │ 2419499  Yeast minichromosome spTALS2\n",
       " 2074857 │ 2419500  Yeast minichromosome spTALS3\n",
       " 2074858 │ 2419501  Yeast minichromosome spTALS4\n",
       "\u001b[36m                                  2074837 rows omitted\u001b[0m"
      ]
     },
     "execution_count": 184,
     "metadata": {},
     "output_type": "execute_result"
    }
   ],
   "source": [
    "# i = 1\n",
    "# i = 2\n",
    "# i = 3\n",
    "# i = 4\n",
    "# i = 5\n",
    "# i = 6\n",
    "# i = 7\n",
    "# i = 8\n",
    "i = 9\n",
    "\n",
    "(taxon_index, taxon_level) = collect(enumerate(taxon_levels))[i]\n",
    "println(\"$(taxon_index) - $(taxon_level)\")\n",
    "rank_table = Mycelia.list_rank(taxon_level)"
   ]
  },
  {
   "cell_type": "code",
   "execution_count": 185,
   "id": "633b8ff5-5874-4f87-bbfa-b2920b04216a",
   "metadata": {
    "tags": []
   },
   "outputs": [],
   "source": [
    "# HERE IS WHERE WE APPLY VIRAL FILTERING\n",
    "# if taxon_index > 2\n",
    "# viral_taxids = Set(Mycelia.list_subtaxa(10239))\n",
    "#     taxid_is_viral = map(taxid -> taxid in viral_taxids, rank_table[!, \"taxid\"])\n",
    "#     rank_table = rank_table[taxid_is_viral, :]\n",
    "# end\n",
    "# rank_table"
   ]
  },
  {
   "cell_type": "code",
   "execution_count": 186,
   "id": "a393c14c-b288-4af2-a840-3939b00e2e86",
   "metadata": {
    "tags": []
   },
   "outputs": [
    {
     "data": {
      "text/html": [
       "<div><div style = \"float: left;\"><span>1282803×7 DataFrame</span></div><div style = \"float: right;\"><span style = \"font-style: italic;\">1282778 rows omitted</span></div><div style = \"clear: both;\"></div></div><div class = \"data-frame\" style = \"overflow-x: scroll;\"><table class = \"data-frame\" style = \"margin-bottom: 6px;\"><thead><tr class = \"header\"><th class = \"rowNumber\" style = \"font-weight: bold; text-align: right;\">Row</th><th style = \"text-align: left;\">percentage_of_fragments_at_or_below_taxon</th><th style = \"text-align: left;\">number_of_fragments_at_or_below_taxon</th><th style = \"text-align: left;\">number_of_fragments_assigned_directly_to_taxon</th><th style = \"text-align: left;\">rank</th><th style = \"text-align: left;\">ncbi_taxonid</th><th style = \"text-align: left;\">scientific_name</th><th style = \"text-align: left;\">sample_identifier</th></tr><tr class = \"subheader headerLastRow\"><th class = \"rowNumber\" style = \"font-weight: bold; text-align: right;\"></th><th title = \"Float64\" style = \"text-align: left;\">Float64</th><th title = \"Int64\" style = \"text-align: left;\">Int64</th><th title = \"Int64\" style = \"text-align: left;\">Int64</th><th title = \"String\" style = \"text-align: left;\">String</th><th title = \"Int64\" style = \"text-align: left;\">Int64</th><th title = \"String\" style = \"text-align: left;\">String</th><th title = \"String\" style = \"text-align: left;\">String</th></tr></thead><tbody><tr><td class = \"rowNumber\" style = \"font-weight: bold; text-align: right;\">1</td><td style = \"text-align: right;\">30.18</td><td style = \"text-align: right;\">16102</td><td style = \"text-align: right;\">16102</td><td style = \"text-align: left;\">S</td><td style = \"text-align: right;\">9606</td><td style = \"text-align: left;\">Homo sapiens</td><td style = \"text-align: left;\">LO_FA_CKDN230005699-1A_H3TLGDSX7_L1.GCF_000001405.40_GRCh38.p14_genomic.fna.sorted.bam.unmapped.k2_pluspfp_20231009.kraken-report.tsv</td></tr><tr><td class = \"rowNumber\" style = \"font-weight: bold; text-align: right;\">2</td><td style = \"text-align: right;\">0.01</td><td style = \"text-align: right;\">5</td><td style = \"text-align: right;\">0</td><td style = \"text-align: left;\">S</td><td style = \"text-align: right;\">1071379</td><td style = \"text-align: left;\">Tetrapisispora blattae</td><td style = \"text-align: left;\">LO_FA_CKDN230005699-1A_H3TLGDSX7_L1.GCF_000001405.40_GRCh38.p14_genomic.fna.sorted.bam.unmapped.k2_pluspfp_20231009.kraken-report.tsv</td></tr><tr><td class = \"rowNumber\" style = \"font-weight: bold; text-align: right;\">3</td><td style = \"text-align: right;\">0.0</td><td style = \"text-align: right;\">0</td><td style = \"text-align: right;\">0</td><td style = \"text-align: left;\">S</td><td style = \"text-align: right;\">113608</td><td style = \"text-align: left;\">Tetrapisispora phaffii</td><td style = \"text-align: left;\">LO_FA_CKDN230005699-1A_H3TLGDSX7_L1.GCF_000001405.40_GRCh38.p14_genomic.fna.sorted.bam.unmapped.k2_pluspfp_20231009.kraken-report.tsv</td></tr><tr><td class = \"rowNumber\" style = \"font-weight: bold; text-align: right;\">4</td><td style = \"text-align: right;\">0.0</td><td style = \"text-align: right;\">2</td><td style = \"text-align: right;\">2</td><td style = \"text-align: left;\">S</td><td style = \"text-align: right;\">28985</td><td style = \"text-align: left;\">Kluyveromyces lactis</td><td style = \"text-align: left;\">LO_FA_CKDN230005699-1A_H3TLGDSX7_L1.GCF_000001405.40_GRCh38.p14_genomic.fna.sorted.bam.unmapped.k2_pluspfp_20231009.kraken-report.tsv</td></tr><tr><td class = \"rowNumber\" style = \"font-weight: bold; text-align: right;\">5</td><td style = \"text-align: right;\">0.0</td><td style = \"text-align: right;\">1</td><td style = \"text-align: right;\">0</td><td style = \"text-align: left;\">S</td><td style = \"text-align: right;\">4911</td><td style = \"text-align: left;\">Kluyveromyces marxianus</td><td style = \"text-align: left;\">LO_FA_CKDN230005699-1A_H3TLGDSX7_L1.GCF_000001405.40_GRCh38.p14_genomic.fna.sorted.bam.unmapped.k2_pluspfp_20231009.kraken-report.tsv</td></tr><tr><td class = \"rowNumber\" style = \"font-weight: bold; text-align: right;\">6</td><td style = \"text-align: right;\">0.0</td><td style = \"text-align: right;\">2</td><td style = \"text-align: right;\">0</td><td style = \"text-align: left;\">S</td><td style = \"text-align: right;\">27288</td><td style = \"text-align: left;\">Naumovozyma castellii</td><td style = \"text-align: left;\">LO_FA_CKDN230005699-1A_H3TLGDSX7_L1.GCF_000001405.40_GRCh38.p14_genomic.fna.sorted.bam.unmapped.k2_pluspfp_20231009.kraken-report.tsv</td></tr><tr><td class = \"rowNumber\" style = \"font-weight: bold; text-align: right;\">7</td><td style = \"text-align: right;\">0.0</td><td style = \"text-align: right;\">1</td><td style = \"text-align: right;\">0</td><td style = \"text-align: left;\">S</td><td style = \"text-align: right;\">27289</td><td style = \"text-align: left;\">Naumovozyma dairenensis</td><td style = \"text-align: left;\">LO_FA_CKDN230005699-1A_H3TLGDSX7_L1.GCF_000001405.40_GRCh38.p14_genomic.fna.sorted.bam.unmapped.k2_pluspfp_20231009.kraken-report.tsv</td></tr><tr><td class = \"rowNumber\" style = \"font-weight: bold; text-align: right;\">8</td><td style = \"text-align: right;\">0.01</td><td style = \"text-align: right;\">3</td><td style = \"text-align: right;\">3</td><td style = \"text-align: left;\">S</td><td style = \"text-align: right;\">42260</td><td style = \"text-align: left;\">Zygotorulaspora mrakii</td><td style = \"text-align: left;\">LO_FA_CKDN230005699-1A_H3TLGDSX7_L1.GCF_000001405.40_GRCh38.p14_genomic.fna.sorted.bam.unmapped.k2_pluspfp_20231009.kraken-report.tsv</td></tr><tr><td class = \"rowNumber\" style = \"font-weight: bold; text-align: right;\">9</td><td style = \"text-align: right;\">0.0</td><td style = \"text-align: right;\">1</td><td style = \"text-align: right;\">1</td><td style = \"text-align: left;\">S</td><td style = \"text-align: right;\">27291</td><td style = \"text-align: left;\">Saccharomyces paradoxus</td><td style = \"text-align: left;\">LO_FA_CKDN230005699-1A_H3TLGDSX7_L1.GCF_000001405.40_GRCh38.p14_genomic.fna.sorted.bam.unmapped.k2_pluspfp_20231009.kraken-report.tsv</td></tr><tr><td class = \"rowNumber\" style = \"font-weight: bold; text-align: right;\">10</td><td style = \"text-align: right;\">0.0</td><td style = \"text-align: right;\">0</td><td style = \"text-align: right;\">0</td><td style = \"text-align: left;\">S</td><td style = \"text-align: right;\">4932</td><td style = \"text-align: left;\">Saccharomyces cerevisiae</td><td style = \"text-align: left;\">LO_FA_CKDN230005699-1A_H3TLGDSX7_L1.GCF_000001405.40_GRCh38.p14_genomic.fna.sorted.bam.unmapped.k2_pluspfp_20231009.kraken-report.tsv</td></tr><tr><td class = \"rowNumber\" style = \"font-weight: bold; text-align: right;\">11</td><td style = \"text-align: right;\">0.0</td><td style = \"text-align: right;\">0</td><td style = \"text-align: right;\">0</td><td style = \"text-align: left;\">S</td><td style = \"text-align: right;\">114524</td><td style = \"text-align: left;\">Saccharomyces kudriavzevii</td><td style = \"text-align: left;\">LO_FA_CKDN230005699-1A_H3TLGDSX7_L1.GCF_000001405.40_GRCh38.p14_genomic.fna.sorted.bam.unmapped.k2_pluspfp_20231009.kraken-report.tsv</td></tr><tr><td class = \"rowNumber\" style = \"font-weight: bold; text-align: right;\">12</td><td style = \"text-align: right;\">0.0</td><td style = \"text-align: right;\">0</td><td style = \"text-align: right;\">0</td><td style = \"text-align: left;\">S</td><td style = \"text-align: right;\">114525</td><td style = \"text-align: left;\">Saccharomyces mikatae</td><td style = \"text-align: left;\">LO_FA_CKDN230005699-1A_H3TLGDSX7_L1.GCF_000001405.40_GRCh38.p14_genomic.fna.sorted.bam.unmapped.k2_pluspfp_20231009.kraken-report.tsv</td></tr><tr><td class = \"rowNumber\" style = \"font-weight: bold; text-align: right;\">13</td><td style = \"text-align: right;\">0.0</td><td style = \"text-align: right;\">0</td><td style = \"text-align: right;\">0</td><td style = \"text-align: left;\">S</td><td style = \"text-align: right;\">1080349</td><td style = \"text-align: left;\">Saccharomyces eubayanus</td><td style = \"text-align: left;\">LO_FA_CKDN230005699-1A_H3TLGDSX7_L1.GCF_000001405.40_GRCh38.p14_genomic.fna.sorted.bam.unmapped.k2_pluspfp_20231009.kraken-report.tsv</td></tr><tr><td style = \"text-align: right;\">&vellip;</td><td style = \"text-align: right;\">&vellip;</td><td style = \"text-align: right;\">&vellip;</td><td style = \"text-align: right;\">&vellip;</td><td style = \"text-align: right;\">&vellip;</td><td style = \"text-align: right;\">&vellip;</td><td style = \"text-align: right;\">&vellip;</td><td style = \"text-align: right;\">&vellip;</td></tr><tr><td class = \"rowNumber\" style = \"font-weight: bold; text-align: right;\">1282792</td><td style = \"text-align: right;\">0.0</td><td style = \"text-align: right;\">0</td><td style = \"text-align: right;\">0</td><td style = \"text-align: left;\">S</td><td style = \"text-align: right;\">2641</td><td style = \"text-align: left;\">Plasmid pTB913</td><td style = \"text-align: left;\">VA_PROB_CKDN230005701-1A_H5HYWDSX7_L2.GCF_000001405.40_GRCh38.p14_genomic.fna.sorted.bam.unmapped.k2_pluspfp_20231009.kraken-report.tsv</td></tr><tr><td class = \"rowNumber\" style = \"font-weight: bold; text-align: right;\">1282793</td><td style = \"text-align: right;\">0.0</td><td style = \"text-align: right;\">0</td><td style = \"text-align: right;\">0</td><td style = \"text-align: left;\">S</td><td style = \"text-align: right;\">2609</td><td style = \"text-align: left;\">Plasmid pNG2</td><td style = \"text-align: left;\">VA_PROB_CKDN230005701-1A_H5HYWDSX7_L2.GCF_000001405.40_GRCh38.p14_genomic.fna.sorted.bam.unmapped.k2_pluspfp_20231009.kraken-report.tsv</td></tr><tr><td class = \"rowNumber\" style = \"font-weight: bold; text-align: right;\">1282794</td><td style = \"text-align: right;\">0.0</td><td style = \"text-align: right;\">0</td><td style = \"text-align: right;\">0</td><td style = \"text-align: left;\">S</td><td style = \"text-align: right;\">2468</td><td style = \"text-align: left;\">Plasmid NR79</td><td style = \"text-align: left;\">VA_PROB_CKDN230005701-1A_H5HYWDSX7_L2.GCF_000001405.40_GRCh38.p14_genomic.fna.sorted.bam.unmapped.k2_pluspfp_20231009.kraken-report.tsv</td></tr><tr><td class = \"rowNumber\" style = \"font-weight: bold; text-align: right;\">1282795</td><td style = \"text-align: right;\">0.0</td><td style = \"text-align: right;\">0</td><td style = \"text-align: right;\">0</td><td style = \"text-align: left;\">S</td><td style = \"text-align: right;\">2575</td><td style = \"text-align: left;\">Plasmid pIP630</td><td style = \"text-align: left;\">VA_PROB_CKDN230005701-1A_H5HYWDSX7_L2.GCF_000001405.40_GRCh38.p14_genomic.fna.sorted.bam.unmapped.k2_pluspfp_20231009.kraken-report.tsv</td></tr><tr><td class = \"rowNumber\" style = \"font-weight: bold; text-align: right;\">1282796</td><td style = \"text-align: right;\">0.0</td><td style = \"text-align: right;\">0</td><td style = \"text-align: right;\">0</td><td style = \"text-align: left;\">S</td><td style = \"text-align: right;\">2571</td><td style = \"text-align: left;\">Plasmid pIP1527</td><td style = \"text-align: left;\">VA_PROB_CKDN230005701-1A_H5HYWDSX7_L2.GCF_000001405.40_GRCh38.p14_genomic.fna.sorted.bam.unmapped.k2_pluspfp_20231009.kraken-report.tsv</td></tr><tr><td class = \"rowNumber\" style = \"font-weight: bold; text-align: right;\">1282797</td><td style = \"text-align: right;\">0.0</td><td style = \"text-align: right;\">0</td><td style = \"text-align: right;\">0</td><td style = \"text-align: left;\">S</td><td style = \"text-align: right;\">2525</td><td style = \"text-align: left;\">Plasmid pAZ1</td><td style = \"text-align: left;\">VA_PROB_CKDN230005701-1A_H5HYWDSX7_L2.GCF_000001405.40_GRCh38.p14_genomic.fna.sorted.bam.unmapped.k2_pluspfp_20231009.kraken-report.tsv</td></tr><tr><td class = \"rowNumber\" style = \"font-weight: bold; text-align: right;\">1282798</td><td style = \"text-align: right;\">0.0</td><td style = \"text-align: right;\">0</td><td style = \"text-align: right;\">0</td><td style = \"text-align: left;\">S</td><td style = \"text-align: right;\">2524</td><td style = \"text-align: left;\">Plasmid pAM77</td><td style = \"text-align: left;\">VA_PROB_CKDN230005701-1A_H5HYWDSX7_L2.GCF_000001405.40_GRCh38.p14_genomic.fna.sorted.bam.unmapped.k2_pluspfp_20231009.kraken-report.tsv</td></tr><tr><td class = \"rowNumber\" style = \"font-weight: bold; text-align: right;\">1282799</td><td style = \"text-align: right;\">0.0</td><td style = \"text-align: right;\">0</td><td style = \"text-align: right;\">0</td><td style = \"text-align: left;\">S</td><td style = \"text-align: right;\">2508</td><td style = \"text-align: left;\">Plasmid R</td><td style = \"text-align: left;\">VA_PROB_CKDN230005701-1A_H5HYWDSX7_L2.GCF_000001405.40_GRCh38.p14_genomic.fna.sorted.bam.unmapped.k2_pluspfp_20231009.kraken-report.tsv</td></tr><tr><td class = \"rowNumber\" style = \"font-weight: bold; text-align: right;\">1282800</td><td style = \"text-align: right;\">0.0</td><td style = \"text-align: right;\">0</td><td style = \"text-align: right;\">0</td><td style = \"text-align: left;\">S</td><td style = \"text-align: right;\">2503</td><td style = \"text-align: left;\">Plasmid RP4</td><td style = \"text-align: left;\">VA_PROB_CKDN230005701-1A_H5HYWDSX7_L2.GCF_000001405.40_GRCh38.p14_genomic.fna.sorted.bam.unmapped.k2_pluspfp_20231009.kraken-report.tsv</td></tr><tr><td class = \"rowNumber\" style = \"font-weight: bold; text-align: right;\">1282801</td><td style = \"text-align: right;\">0.0</td><td style = \"text-align: right;\">0</td><td style = \"text-align: right;\">0</td><td style = \"text-align: left;\">S</td><td style = \"text-align: right;\">2488</td><td style = \"text-align: left;\">Plasmid R46</td><td style = \"text-align: left;\">VA_PROB_CKDN230005701-1A_H5HYWDSX7_L2.GCF_000001405.40_GRCh38.p14_genomic.fna.sorted.bam.unmapped.k2_pluspfp_20231009.kraken-report.tsv</td></tr><tr><td class = \"rowNumber\" style = \"font-weight: bold; text-align: right;\">1282802</td><td style = \"text-align: right;\">0.0</td><td style = \"text-align: right;\">0</td><td style = \"text-align: right;\">0</td><td style = \"text-align: left;\">S</td><td style = \"text-align: right;\">2486</td><td style = \"text-align: left;\">Plasmid R387</td><td style = \"text-align: left;\">VA_PROB_CKDN230005701-1A_H5HYWDSX7_L2.GCF_000001405.40_GRCh38.p14_genomic.fna.sorted.bam.unmapped.k2_pluspfp_20231009.kraken-report.tsv</td></tr><tr><td class = \"rowNumber\" style = \"font-weight: bold; text-align: right;\">1282803</td><td style = \"text-align: right;\">0.0</td><td style = \"text-align: right;\">0</td><td style = \"text-align: right;\">0</td><td style = \"text-align: left;\">S</td><td style = \"text-align: right;\">2474</td><td style = \"text-align: left;\">Plasmid PDS075</td><td style = \"text-align: left;\">VA_PROB_CKDN230005701-1A_H5HYWDSX7_L2.GCF_000001405.40_GRCh38.p14_genomic.fna.sorted.bam.unmapped.k2_pluspfp_20231009.kraken-report.tsv</td></tr></tbody></table></div>"
      ],
      "text/latex": [
       "\\begin{tabular}{r|ccc}\n",
       "\t& percentage\\_of\\_fragments\\_at\\_or\\_below\\_taxon & number\\_of\\_fragments\\_at\\_or\\_below\\_taxon & \\\\\n",
       "\t\\hline\n",
       "\t& Float64 & Int64 & \\\\\n",
       "\t\\hline\n",
       "\t1 & 30.18 & 16102 & $\\dots$ \\\\\n",
       "\t2 & 0.01 & 5 & $\\dots$ \\\\\n",
       "\t3 & 0.0 & 0 & $\\dots$ \\\\\n",
       "\t4 & 0.0 & 2 & $\\dots$ \\\\\n",
       "\t5 & 0.0 & 1 & $\\dots$ \\\\\n",
       "\t6 & 0.0 & 2 & $\\dots$ \\\\\n",
       "\t7 & 0.0 & 1 & $\\dots$ \\\\\n",
       "\t8 & 0.01 & 3 & $\\dots$ \\\\\n",
       "\t9 & 0.0 & 1 & $\\dots$ \\\\\n",
       "\t10 & 0.0 & 0 & $\\dots$ \\\\\n",
       "\t11 & 0.0 & 0 & $\\dots$ \\\\\n",
       "\t12 & 0.0 & 0 & $\\dots$ \\\\\n",
       "\t13 & 0.0 & 0 & $\\dots$ \\\\\n",
       "\t14 & 0.0 & 1 & $\\dots$ \\\\\n",
       "\t15 & 0.0 & 0 & $\\dots$ \\\\\n",
       "\t16 & 0.0 & 1 & $\\dots$ \\\\\n",
       "\t17 & 0.0 & 0 & $\\dots$ \\\\\n",
       "\t18 & 0.0 & 0 & $\\dots$ \\\\\n",
       "\t19 & 0.0 & 0 & $\\dots$ \\\\\n",
       "\t20 & 0.0 & 0 & $\\dots$ \\\\\n",
       "\t21 & 0.0 & 0 & $\\dots$ \\\\\n",
       "\t22 & 0.0 & 0 & $\\dots$ \\\\\n",
       "\t23 & 0.0 & 0 & $\\dots$ \\\\\n",
       "\t24 & 0.01 & 4 & $\\dots$ \\\\\n",
       "\t25 & 0.0 & 2 & $\\dots$ \\\\\n",
       "\t26 & 0.0 & 0 & $\\dots$ \\\\\n",
       "\t27 & 0.0 & 1 & $\\dots$ \\\\\n",
       "\t28 & 0.0 & 0 & $\\dots$ \\\\\n",
       "\t29 & 0.0 & 0 & $\\dots$ \\\\\n",
       "\t30 & 0.01 & 3 & $\\dots$ \\\\\n",
       "\t$\\dots$ & $\\dots$ & $\\dots$ &  \\\\\n",
       "\\end{tabular}\n"
      ],
      "text/plain": [
       "\u001b[1m1282803×7 DataFrame\u001b[0m\n",
       "\u001b[1m     Row \u001b[0m│\u001b[1m percentage_of_fragments_at_or_below_taxon \u001b[0m\u001b[1m number_of_fragments_at_o\u001b[0m ⋯\n",
       "         │\u001b[90m Float64                                   \u001b[0m\u001b[90m Int64                   \u001b[0m ⋯\n",
       "─────────┼──────────────────────────────────────────────────────────────────────\n",
       "       1 │                                     30.18                           ⋯\n",
       "       2 │                                      0.01\n",
       "       3 │                                      0.0\n",
       "       4 │                                      0.0\n",
       "       5 │                                      0.0                            ⋯\n",
       "       6 │                                      0.0\n",
       "       7 │                                      0.0\n",
       "       8 │                                      0.01\n",
       "       9 │                                      0.0                            ⋯\n",
       "      10 │                                      0.0\n",
       "      11 │                                      0.0\n",
       "    ⋮    │                     ⋮                                        ⋮      ⋱\n",
       " 1282794 │                                      0.0\n",
       " 1282795 │                                      0.0                            ⋯\n",
       " 1282796 │                                      0.0\n",
       " 1282797 │                                      0.0\n",
       " 1282798 │                                      0.0\n",
       " 1282799 │                                      0.0                            ⋯\n",
       " 1282800 │                                      0.0\n",
       " 1282801 │                                      0.0\n",
       " 1282802 │                                      0.0\n",
       " 1282803 │                                      0.0                            ⋯\n",
       "\u001b[36m                                              6 columns and 1282782 rows omitted\u001b[0m"
      ]
     },
     "execution_count": 186,
     "metadata": {},
     "output_type": "execute_result"
    }
   ],
   "source": [
    "# turn me into a function that accepts a rank table and a list of kraken reports as well as an output\n",
    "\n",
    "rank_taxids = Set(rank_table[!, \"taxid\"])\n",
    "cross_sample_taxon_report = joinpath(results_dir, \"$(kraken_db).$(taxon_level).tsv\")\n",
    "# cross_sample_taxon_report_table = DataFrames.DataFrame()\n",
    "# ProgressMeter.@showprogress for kraken_report in kraken_reports\n",
    "#     report_table = Mycelia.read_kraken_report(kraken_report)\n",
    "#     taxon_level_report = report_table[map(x -> x in rank_taxids, report_table[!, \"ncbi_taxonid\"]), :]\n",
    "#     taxon_level_report[!, \"sample_identifier\"] .= basename(kraken_report)\n",
    "#     append!(cross_sample_taxon_report_table, taxon_level_report)\n",
    "# end\n",
    "# uCSV.write(cross_sample_taxon_report, cross_sample_taxon_report_table, delim='\\t')\n",
    "cross_sample_taxon_report_table = DataFrames.DataFrame(uCSV.read(cross_sample_taxon_report, delim='\\t', header=1))"
   ]
  },
  {
   "cell_type": "code",
   "execution_count": 187,
   "id": "78cee49a-5b5a-48e6-a8e6-9d4b270f38a8",
   "metadata": {
    "tags": []
   },
   "outputs": [],
   "source": [
    "# this could be a function here"
   ]
  },
  {
   "cell_type": "code",
   "execution_count": 188,
   "id": "5a1b0ada-b277-4b36-b785-633d63d72522",
   "metadata": {
    "tags": []
   },
   "outputs": [
    {
     "data": {
      "text/html": [
       "<div><div style = \"float: left;\"><span>1282803×3 DataFrame</span></div><div style = \"float: right;\"><span style = \"font-style: italic;\">1282778 rows omitted</span></div><div style = \"clear: both;\"></div></div><div class = \"data-frame\" style = \"overflow-x: scroll;\"><table class = \"data-frame\" style = \"margin-bottom: 6px;\"><thead><tr class = \"header\"><th class = \"rowNumber\" style = \"font-weight: bold; text-align: right;\">Row</th><th style = \"text-align: left;\">number_of_fragments_at_or_below_taxon</th><th style = \"text-align: left;\">sample_identifier</th><th style = \"text-align: left;\">taxon</th></tr><tr class = \"subheader headerLastRow\"><th class = \"rowNumber\" style = \"font-weight: bold; text-align: right;\"></th><th title = \"Int64\" style = \"text-align: left;\">Int64</th><th title = \"String\" style = \"text-align: left;\">String</th><th title = \"String\" style = \"text-align: left;\">String</th></tr></thead><tbody><tr><td class = \"rowNumber\" style = \"font-weight: bold; text-align: right;\">1</td><td style = \"text-align: right;\">0</td><td style = \"text-align: left;\">LO_FA_CKDN230005699-1A_H3TLGDSX7_L1.GCF_000001405.40_GRCh38.p14_genomic.fna.sorted.bam.unmapped.k2_pluspfp_20231009.kraken-report.tsv</td><td style = \"text-align: left;\">1000373_Rosellinia necatrix quadrivirus 1</td></tr><tr><td class = \"rowNumber\" style = \"font-weight: bold; text-align: right;\">2</td><td style = \"text-align: right;\">0</td><td style = \"text-align: left;\">LO_FA_CKDN230005699-1A_H3TLGDSX7_L1.GCF_000001405.40_GRCh38.p14_genomic.fna.sorted.bam.unmapped.k2_pluspfp_20231009.kraken-report.tsv</td><td style = \"text-align: left;\">1001341_Vernonia yellow vein Fujian virus</td></tr><tr><td class = \"rowNumber\" style = \"font-weight: bold; text-align: right;\">3</td><td style = \"text-align: right;\">0</td><td style = \"text-align: left;\">LO_FA_CKDN230005699-1A_H3TLGDSX7_L1.GCF_000001405.40_GRCh38.p14_genomic.fna.sorted.bam.unmapped.k2_pluspfp_20231009.kraken-report.tsv</td><td style = \"text-align: left;\">100177_Borreliella lusitaniae</td></tr><tr><td class = \"rowNumber\" style = \"font-weight: bold; text-align: right;\">4</td><td style = \"text-align: right;\">0</td><td style = \"text-align: left;\">LO_FA_CKDN230005699-1A_H3TLGDSX7_L1.GCF_000001405.40_GRCh38.p14_genomic.fna.sorted.bam.unmapped.k2_pluspfp_20231009.kraken-report.tsv</td><td style = \"text-align: left;\">100217_Epizootic haematopoietic necrosis virus</td></tr><tr><td class = \"rowNumber\" style = \"font-weight: bold; text-align: right;\">5</td><td style = \"text-align: right;\">0</td><td style = \"text-align: left;\">LO_FA_CKDN230005699-1A_H3TLGDSX7_L1.GCF_000001405.40_GRCh38.p14_genomic.fna.sorted.bam.unmapped.k2_pluspfp_20231009.kraken-report.tsv</td><td style = \"text-align: left;\">100225_Austwickia chelonae</td></tr><tr><td class = \"rowNumber\" style = \"font-weight: bold; text-align: right;\">6</td><td style = \"text-align: right;\">0</td><td style = \"text-align: left;\">LO_FA_CKDN230005699-1A_H3TLGDSX7_L1.GCF_000001405.40_GRCh38.p14_genomic.fna.sorted.bam.unmapped.k2_pluspfp_20231009.kraken-report.tsv</td><td style = \"text-align: left;\">1002672_Candidatus Pelagibacter sp. IMCC9063</td></tr><tr><td class = \"rowNumber\" style = \"font-weight: bold; text-align: right;\">7</td><td style = \"text-align: right;\">0</td><td style = \"text-align: left;\">LO_FA_CKDN230005699-1A_H3TLGDSX7_L1.GCF_000001405.40_GRCh38.p14_genomic.fna.sorted.bam.unmapped.k2_pluspfp_20231009.kraken-report.tsv</td><td style = \"text-align: left;\">1002681_Sida golden mosaic Lara virus</td></tr><tr><td class = \"rowNumber\" style = \"font-weight: bold; text-align: right;\">8</td><td style = \"text-align: right;\">0</td><td style = \"text-align: left;\">LO_FA_CKDN230005699-1A_H3TLGDSX7_L1.GCF_000001405.40_GRCh38.p14_genomic.fna.sorted.bam.unmapped.k2_pluspfp_20231009.kraken-report.tsv</td><td style = \"text-align: left;\">1002689_Occallatibacter riparius</td></tr><tr><td class = \"rowNumber\" style = \"font-weight: bold; text-align: right;\">9</td><td style = \"text-align: right;\">0</td><td style = \"text-align: left;\">LO_FA_CKDN230005699-1A_H3TLGDSX7_L1.GCF_000001405.40_GRCh38.p14_genomic.fna.sorted.bam.unmapped.k2_pluspfp_20231009.kraken-report.tsv</td><td style = \"text-align: left;\">1002724_Tunavirus Shfl1</td></tr><tr><td class = \"rowNumber\" style = \"font-weight: bold; text-align: right;\">10</td><td style = \"text-align: right;\">0</td><td style = \"text-align: left;\">LO_FA_CKDN230005699-1A_H3TLGDSX7_L1.GCF_000001405.40_GRCh38.p14_genomic.fna.sorted.bam.unmapped.k2_pluspfp_20231009.kraken-report.tsv</td><td style = \"text-align: left;\">1003110_Micromonospora maris</td></tr><tr><td class = \"rowNumber\" style = \"font-weight: bold; text-align: right;\">11</td><td style = \"text-align: right;\">0</td><td style = \"text-align: left;\">LO_FA_CKDN230005699-1A_H3TLGDSX7_L1.GCF_000001405.40_GRCh38.p14_genomic.fna.sorted.bam.unmapped.k2_pluspfp_20231009.kraken-report.tsv</td><td style = \"text-align: left;\">1003114_Lysobacter yananisis</td></tr><tr><td class = \"rowNumber\" style = \"font-weight: bold; text-align: right;\">12</td><td style = \"text-align: right;\">0</td><td style = \"text-align: left;\">LO_FA_CKDN230005699-1A_H3TLGDSX7_L1.GCF_000001405.40_GRCh38.p14_genomic.fna.sorted.bam.unmapped.k2_pluspfp_20231009.kraken-report.tsv</td><td style = \"text-align: left;\">1003177_Vibrio phage qdvp001</td></tr><tr><td class = \"rowNumber\" style = \"font-weight: bold; text-align: right;\">13</td><td style = \"text-align: right;\">0</td><td style = \"text-align: left;\">LO_FA_CKDN230005699-1A_H3TLGDSX7_L1.GCF_000001405.40_GRCh38.p14_genomic.fna.sorted.bam.unmapped.k2_pluspfp_20231009.kraken-report.tsv</td><td style = \"text-align: left;\">100379_Onion yellows phytoplasma</td></tr><tr><td style = \"text-align: right;\">&vellip;</td><td style = \"text-align: right;\">&vellip;</td><td style = \"text-align: right;\">&vellip;</td><td style = \"text-align: right;\">&vellip;</td></tr><tr><td class = \"rowNumber\" style = \"font-weight: bold; text-align: right;\">1282792</td><td style = \"text-align: right;\">0</td><td style = \"text-align: left;\">VA_PROB_CKDN230005701-1A_H5HYWDSX7_L2.GCF_000001405.40_GRCh38.p14_genomic.fna.sorted.bam.unmapped.k2_pluspfp_20231009.kraken-report.tsv</td><td style = \"text-align: left;\">996_Flavobacterium columnare</td></tr><tr><td class = \"rowNumber\" style = \"font-weight: bold; text-align: right;\">1282793</td><td style = \"text-align: right;\">0</td><td style = \"text-align: left;\">VA_PROB_CKDN230005701-1A_H5HYWDSX7_L2.GCF_000001405.40_GRCh38.p14_genomic.fna.sorted.bam.unmapped.k2_pluspfp_20231009.kraken-report.tsv</td><td style = \"text-align: left;\">997078_Tomato leaf curl Comoros virus</td></tr><tr><td class = \"rowNumber\" style = \"font-weight: bold; text-align: right;\">1282794</td><td style = \"text-align: right;\">0</td><td style = \"text-align: left;\">VA_PROB_CKDN230005701-1A_H5HYWDSX7_L2.GCF_000001405.40_GRCh38.p14_genomic.fna.sorted.bam.unmapped.k2_pluspfp_20231009.kraken-report.tsv</td><td style = \"text-align: left;\">99807_Corynebacterium auriscanis</td></tr><tr><td class = \"rowNumber\" style = \"font-weight: bold; text-align: right;\">1282795</td><td style = \"text-align: right;\">0</td><td style = \"text-align: left;\">VA_PROB_CKDN230005701-1A_H5HYWDSX7_L2.GCF_000001405.40_GRCh38.p14_genomic.fna.sorted.bam.unmapped.k2_pluspfp_20231009.kraken-report.tsv</td><td style = \"text-align: left;\">998086_Pseudomonas phage PhiPA3</td></tr><tr><td class = \"rowNumber\" style = \"font-weight: bold; text-align: right;\">1282796</td><td style = \"text-align: right;\">0</td><td style = \"text-align: left;\">VA_PROB_CKDN230005701-1A_H5HYWDSX7_L2.GCF_000001405.40_GRCh38.p14_genomic.fna.sorted.bam.unmapped.k2_pluspfp_20231009.kraken-report.tsv</td><td style = \"text-align: left;\">998845_Flavobacterium jumunjinense</td></tr><tr><td class = \"rowNumber\" style = \"font-weight: bold; text-align: right;\">1282797</td><td style = \"text-align: right;\">0</td><td style = \"text-align: left;\">VA_PROB_CKDN230005701-1A_H5HYWDSX7_L2.GCF_000001405.40_GRCh38.p14_genomic.fna.sorted.bam.unmapped.k2_pluspfp_20231009.kraken-report.tsv</td><td style = \"text-align: left;\">999141_Halomonas sp. TD01</td></tr><tr><td class = \"rowNumber\" style = \"font-weight: bold; text-align: right;\">1282798</td><td style = \"text-align: right;\">0</td><td style = \"text-align: left;\">VA_PROB_CKDN230005701-1A_H5HYWDSX7_L2.GCF_000001405.40_GRCh38.p14_genomic.fna.sorted.bam.unmapped.k2_pluspfp_20231009.kraken-report.tsv</td><td style = \"text-align: left;\">999183_Arcanobacterium canis</td></tr><tr><td class = \"rowNumber\" style = \"font-weight: bold; text-align: right;\">1282799</td><td style = \"text-align: right;\">0</td><td style = \"text-align: left;\">VA_PROB_CKDN230005701-1A_H5HYWDSX7_L2.GCF_000001405.40_GRCh38.p14_genomic.fna.sorted.bam.unmapped.k2_pluspfp_20231009.kraken-report.tsv</td><td style = \"text-align: left;\">999288_Sweet potato leaf curl South Carolina virus</td></tr><tr><td class = \"rowNumber\" style = \"font-weight: bold; text-align: right;\">1282800</td><td style = \"text-align: right;\">0</td><td style = \"text-align: left;\">VA_PROB_CKDN230005701-1A_H5HYWDSX7_L2.GCF_000001405.40_GRCh38.p14_genomic.fna.sorted.bam.unmapped.k2_pluspfp_20231009.kraken-report.tsv</td><td style = \"text-align: left;\">99930_Blackcurrant reversion virus satellite RNA</td></tr><tr><td class = \"rowNumber\" style = \"font-weight: bold; text-align: right;\">1282801</td><td style = \"text-align: right;\">0</td><td style = \"text-align: left;\">VA_PROB_CKDN230005701-1A_H5HYWDSX7_L2.GCF_000001405.40_GRCh38.p14_genomic.fna.sorted.bam.unmapped.k2_pluspfp_20231009.kraken-report.tsv</td><td style = \"text-align: left;\">999883_Lausannevirus</td></tr><tr><td class = \"rowNumber\" style = \"font-weight: bold; text-align: right;\">1282802</td><td style = \"text-align: right;\">0</td><td style = \"text-align: left;\">VA_PROB_CKDN230005701-1A_H5HYWDSX7_L2.GCF_000001405.40_GRCh38.p14_genomic.fna.sorted.bam.unmapped.k2_pluspfp_20231009.kraken-report.tsv</td><td style = \"text-align: left;\">999_Bernardetia litoralis</td></tr><tr><td class = \"rowNumber\" style = \"font-weight: bold; text-align: right;\">1282803</td><td style = \"text-align: right;\">1</td><td style = \"text-align: left;\">VA_PROB_CKDN230005701-1A_H5HYWDSX7_L2.GCF_000001405.40_GRCh38.p14_genomic.fna.sorted.bam.unmapped.k2_pluspfp_20231009.kraken-report.tsv</td><td style = \"text-align: left;\">9_Buchnera aphidicola</td></tr></tbody></table></div>"
      ],
      "text/latex": [
       "\\begin{tabular}{r|ccc}\n",
       "\t& number\\_of\\_fragments\\_at\\_or\\_below\\_taxon & sample\\_identifier & \\\\\n",
       "\t\\hline\n",
       "\t& Int64 & String & \\\\\n",
       "\t\\hline\n",
       "\t1 & 0 & LO\\_FA\\_CKDN230005699-1A\\_H3TLGDSX7\\_L1.GCF\\_000001405.40\\_GRCh38.p14\\_genomic.fna.sorted.bam.unmapped.k2\\_pluspfp\\_20231009.kraken-report.tsv & $\\dots$ \\\\\n",
       "\t2 & 0 & LO\\_FA\\_CKDN230005699-1A\\_H3TLGDSX7\\_L1.GCF\\_000001405.40\\_GRCh38.p14\\_genomic.fna.sorted.bam.unmapped.k2\\_pluspfp\\_20231009.kraken-report.tsv & $\\dots$ \\\\\n",
       "\t3 & 0 & LO\\_FA\\_CKDN230005699-1A\\_H3TLGDSX7\\_L1.GCF\\_000001405.40\\_GRCh38.p14\\_genomic.fna.sorted.bam.unmapped.k2\\_pluspfp\\_20231009.kraken-report.tsv & $\\dots$ \\\\\n",
       "\t4 & 0 & LO\\_FA\\_CKDN230005699-1A\\_H3TLGDSX7\\_L1.GCF\\_000001405.40\\_GRCh38.p14\\_genomic.fna.sorted.bam.unmapped.k2\\_pluspfp\\_20231009.kraken-report.tsv & $\\dots$ \\\\\n",
       "\t5 & 0 & LO\\_FA\\_CKDN230005699-1A\\_H3TLGDSX7\\_L1.GCF\\_000001405.40\\_GRCh38.p14\\_genomic.fna.sorted.bam.unmapped.k2\\_pluspfp\\_20231009.kraken-report.tsv & $\\dots$ \\\\\n",
       "\t6 & 0 & LO\\_FA\\_CKDN230005699-1A\\_H3TLGDSX7\\_L1.GCF\\_000001405.40\\_GRCh38.p14\\_genomic.fna.sorted.bam.unmapped.k2\\_pluspfp\\_20231009.kraken-report.tsv & $\\dots$ \\\\\n",
       "\t7 & 0 & LO\\_FA\\_CKDN230005699-1A\\_H3TLGDSX7\\_L1.GCF\\_000001405.40\\_GRCh38.p14\\_genomic.fna.sorted.bam.unmapped.k2\\_pluspfp\\_20231009.kraken-report.tsv & $\\dots$ \\\\\n",
       "\t8 & 0 & LO\\_FA\\_CKDN230005699-1A\\_H3TLGDSX7\\_L1.GCF\\_000001405.40\\_GRCh38.p14\\_genomic.fna.sorted.bam.unmapped.k2\\_pluspfp\\_20231009.kraken-report.tsv & $\\dots$ \\\\\n",
       "\t9 & 0 & LO\\_FA\\_CKDN230005699-1A\\_H3TLGDSX7\\_L1.GCF\\_000001405.40\\_GRCh38.p14\\_genomic.fna.sorted.bam.unmapped.k2\\_pluspfp\\_20231009.kraken-report.tsv & $\\dots$ \\\\\n",
       "\t10 & 0 & LO\\_FA\\_CKDN230005699-1A\\_H3TLGDSX7\\_L1.GCF\\_000001405.40\\_GRCh38.p14\\_genomic.fna.sorted.bam.unmapped.k2\\_pluspfp\\_20231009.kraken-report.tsv & $\\dots$ \\\\\n",
       "\t11 & 0 & LO\\_FA\\_CKDN230005699-1A\\_H3TLGDSX7\\_L1.GCF\\_000001405.40\\_GRCh38.p14\\_genomic.fna.sorted.bam.unmapped.k2\\_pluspfp\\_20231009.kraken-report.tsv & $\\dots$ \\\\\n",
       "\t12 & 0 & LO\\_FA\\_CKDN230005699-1A\\_H3TLGDSX7\\_L1.GCF\\_000001405.40\\_GRCh38.p14\\_genomic.fna.sorted.bam.unmapped.k2\\_pluspfp\\_20231009.kraken-report.tsv & $\\dots$ \\\\\n",
       "\t13 & 0 & LO\\_FA\\_CKDN230005699-1A\\_H3TLGDSX7\\_L1.GCF\\_000001405.40\\_GRCh38.p14\\_genomic.fna.sorted.bam.unmapped.k2\\_pluspfp\\_20231009.kraken-report.tsv & $\\dots$ \\\\\n",
       "\t14 & 0 & LO\\_FA\\_CKDN230005699-1A\\_H3TLGDSX7\\_L1.GCF\\_000001405.40\\_GRCh38.p14\\_genomic.fna.sorted.bam.unmapped.k2\\_pluspfp\\_20231009.kraken-report.tsv & $\\dots$ \\\\\n",
       "\t15 & 0 & LO\\_FA\\_CKDN230005699-1A\\_H3TLGDSX7\\_L1.GCF\\_000001405.40\\_GRCh38.p14\\_genomic.fna.sorted.bam.unmapped.k2\\_pluspfp\\_20231009.kraken-report.tsv & $\\dots$ \\\\\n",
       "\t16 & 0 & LO\\_FA\\_CKDN230005699-1A\\_H3TLGDSX7\\_L1.GCF\\_000001405.40\\_GRCh38.p14\\_genomic.fna.sorted.bam.unmapped.k2\\_pluspfp\\_20231009.kraken-report.tsv & $\\dots$ \\\\\n",
       "\t17 & 0 & LO\\_FA\\_CKDN230005699-1A\\_H3TLGDSX7\\_L1.GCF\\_000001405.40\\_GRCh38.p14\\_genomic.fna.sorted.bam.unmapped.k2\\_pluspfp\\_20231009.kraken-report.tsv & $\\dots$ \\\\\n",
       "\t18 & 0 & LO\\_FA\\_CKDN230005699-1A\\_H3TLGDSX7\\_L1.GCF\\_000001405.40\\_GRCh38.p14\\_genomic.fna.sorted.bam.unmapped.k2\\_pluspfp\\_20231009.kraken-report.tsv & $\\dots$ \\\\\n",
       "\t19 & 0 & LO\\_FA\\_CKDN230005699-1A\\_H3TLGDSX7\\_L1.GCF\\_000001405.40\\_GRCh38.p14\\_genomic.fna.sorted.bam.unmapped.k2\\_pluspfp\\_20231009.kraken-report.tsv & $\\dots$ \\\\\n",
       "\t20 & 0 & LO\\_FA\\_CKDN230005699-1A\\_H3TLGDSX7\\_L1.GCF\\_000001405.40\\_GRCh38.p14\\_genomic.fna.sorted.bam.unmapped.k2\\_pluspfp\\_20231009.kraken-report.tsv & $\\dots$ \\\\\n",
       "\t21 & 0 & LO\\_FA\\_CKDN230005699-1A\\_H3TLGDSX7\\_L1.GCF\\_000001405.40\\_GRCh38.p14\\_genomic.fna.sorted.bam.unmapped.k2\\_pluspfp\\_20231009.kraken-report.tsv & $\\dots$ \\\\\n",
       "\t22 & 0 & LO\\_FA\\_CKDN230005699-1A\\_H3TLGDSX7\\_L1.GCF\\_000001405.40\\_GRCh38.p14\\_genomic.fna.sorted.bam.unmapped.k2\\_pluspfp\\_20231009.kraken-report.tsv & $\\dots$ \\\\\n",
       "\t23 & 0 & LO\\_FA\\_CKDN230005699-1A\\_H3TLGDSX7\\_L1.GCF\\_000001405.40\\_GRCh38.p14\\_genomic.fna.sorted.bam.unmapped.k2\\_pluspfp\\_20231009.kraken-report.tsv & $\\dots$ \\\\\n",
       "\t24 & 0 & LO\\_FA\\_CKDN230005699-1A\\_H3TLGDSX7\\_L1.GCF\\_000001405.40\\_GRCh38.p14\\_genomic.fna.sorted.bam.unmapped.k2\\_pluspfp\\_20231009.kraken-report.tsv & $\\dots$ \\\\\n",
       "\t25 & 0 & LO\\_FA\\_CKDN230005699-1A\\_H3TLGDSX7\\_L1.GCF\\_000001405.40\\_GRCh38.p14\\_genomic.fna.sorted.bam.unmapped.k2\\_pluspfp\\_20231009.kraken-report.tsv & $\\dots$ \\\\\n",
       "\t26 & 0 & LO\\_FA\\_CKDN230005699-1A\\_H3TLGDSX7\\_L1.GCF\\_000001405.40\\_GRCh38.p14\\_genomic.fna.sorted.bam.unmapped.k2\\_pluspfp\\_20231009.kraken-report.tsv & $\\dots$ \\\\\n",
       "\t27 & 0 & LO\\_FA\\_CKDN230005699-1A\\_H3TLGDSX7\\_L1.GCF\\_000001405.40\\_GRCh38.p14\\_genomic.fna.sorted.bam.unmapped.k2\\_pluspfp\\_20231009.kraken-report.tsv & $\\dots$ \\\\\n",
       "\t28 & 0 & LO\\_FA\\_CKDN230005699-1A\\_H3TLGDSX7\\_L1.GCF\\_000001405.40\\_GRCh38.p14\\_genomic.fna.sorted.bam.unmapped.k2\\_pluspfp\\_20231009.kraken-report.tsv & $\\dots$ \\\\\n",
       "\t29 & 0 & LO\\_FA\\_CKDN230005699-1A\\_H3TLGDSX7\\_L1.GCF\\_000001405.40\\_GRCh38.p14\\_genomic.fna.sorted.bam.unmapped.k2\\_pluspfp\\_20231009.kraken-report.tsv & $\\dots$ \\\\\n",
       "\t30 & 0 & LO\\_FA\\_CKDN230005699-1A\\_H3TLGDSX7\\_L1.GCF\\_000001405.40\\_GRCh38.p14\\_genomic.fna.sorted.bam.unmapped.k2\\_pluspfp\\_20231009.kraken-report.tsv & $\\dots$ \\\\\n",
       "\t$\\dots$ & $\\dots$ & $\\dots$ &  \\\\\n",
       "\\end{tabular}\n"
      ],
      "text/plain": [
       "\u001b[1m1282803×3 DataFrame\u001b[0m\n",
       "\u001b[1m     Row \u001b[0m│\u001b[1m number_of_fragments_at_or_below_taxon \u001b[0m\u001b[1m sample_identifier           \u001b[0m ⋯\n",
       "         │\u001b[90m Int64                                 \u001b[0m\u001b[90m String                      \u001b[0m ⋯\n",
       "─────────┼──────────────────────────────────────────────────────────────────────\n",
       "       1 │                                     0  LO_FA_CKDN230005699-1A_H3TLG ⋯\n",
       "       2 │                                     0  LO_FA_CKDN230005699-1A_H3TLG\n",
       "       3 │                                     0  LO_FA_CKDN230005699-1A_H3TLG\n",
       "       4 │                                     0  LO_FA_CKDN230005699-1A_H3TLG\n",
       "       5 │                                     0  LO_FA_CKDN230005699-1A_H3TLG ⋯\n",
       "       6 │                                     0  LO_FA_CKDN230005699-1A_H3TLG\n",
       "       7 │                                     0  LO_FA_CKDN230005699-1A_H3TLG\n",
       "       8 │                                     0  LO_FA_CKDN230005699-1A_H3TLG\n",
       "       9 │                                     0  LO_FA_CKDN230005699-1A_H3TLG ⋯\n",
       "      10 │                                     0  LO_FA_CKDN230005699-1A_H3TLG\n",
       "      11 │                                     0  LO_FA_CKDN230005699-1A_H3TLG\n",
       "    ⋮    │                   ⋮                                    ⋮            ⋱\n",
       " 1282794 │                                     0  VA_PROB_CKDN230005701-1A_H5H\n",
       " 1282795 │                                     0  VA_PROB_CKDN230005701-1A_H5H ⋯\n",
       " 1282796 │                                     0  VA_PROB_CKDN230005701-1A_H5H\n",
       " 1282797 │                                     0  VA_PROB_CKDN230005701-1A_H5H\n",
       " 1282798 │                                     0  VA_PROB_CKDN230005701-1A_H5H\n",
       " 1282799 │                                     0  VA_PROB_CKDN230005701-1A_H5H ⋯\n",
       " 1282800 │                                     0  VA_PROB_CKDN230005701-1A_H5H\n",
       " 1282801 │                                     0  VA_PROB_CKDN230005701-1A_H5H\n",
       " 1282802 │                                     0  VA_PROB_CKDN230005701-1A_H5H\n",
       " 1282803 │                                     1  VA_PROB_CKDN230005701-1A_H5H ⋯\n",
       "\u001b[36m                                              2 columns and 1282782 rows omitted\u001b[0m"
      ]
     },
     "execution_count": 188,
     "metadata": {},
     "output_type": "execute_result"
    }
   ],
   "source": [
    "cross_sample_taxon_report_summary = cross_sample_taxon_report_table[!, \n",
    "    DataFrames.Not([\n",
    "            \"percentage_of_fragments_at_or_below_taxon\",\n",
    "            \"number_of_fragments_assigned_directly_to_taxon\",\n",
    "            \"rank\"\n",
    "        ])]\n",
    "cross_sample_taxon_report_summary[!, \"taxon\"] = map(row -> string(row[\"ncbi_taxonid\"]) * \"_\" * row[\"scientific_name\"], DataFrames.eachrow(cross_sample_taxon_report_summary))\n",
    "cross_sample_taxon_report_summary = cross_sample_taxon_report_summary[!, DataFrames.Not([\n",
    "            \"ncbi_taxonid\",\n",
    "            \"scientific_name\"\n",
    "        ])]\n",
    "\n",
    "# assert sortedness & uniqueness (should be a no-op)\n",
    "unique!(DataFrames.sort!(cross_sample_taxon_report_summary, [\"sample_identifier\", \"taxon\"]))"
   ]
  },
  {
   "cell_type": "code",
   "execution_count": 189,
   "id": "75fe1bcf-c7a3-4996-8e5b-21b19b0eb26e",
   "metadata": {
    "tags": []
   },
   "outputs": [
    {
     "name": "stderr",
     "output_type": "stream",
     "text": [
      "\u001b[32mProgress: 100%|█████████████████████████████████████████| Time: 0:00:03\u001b[39m\n"
     ]
    },
    {
     "data": {
      "text/plain": [
       "51×25153 Matrix{Float64}:\n",
       " 0.0  0.0  0.0  0.0  0.0  0.0  0.0  …  0.0  0.0  0.0  0.0  0.0  1.0   3.0\n",
       " 0.0  0.0  0.0  0.0  0.0  0.0  0.0     0.0  0.0  0.0  0.0  0.0  0.0   0.0\n",
       " 0.0  0.0  0.0  0.0  0.0  0.0  0.0     0.0  0.0  0.0  0.0  0.0  0.0   0.0\n",
       " 0.0  0.0  0.0  0.0  0.0  0.0  0.0     0.0  0.0  0.0  0.0  0.0  0.0   0.0\n",
       " 0.0  0.0  1.0  0.0  0.0  0.0  0.0     0.0  0.0  0.0  0.0  0.0  1.0   8.0\n",
       " 0.0  0.0  0.0  0.0  0.0  0.0  0.0  …  0.0  0.0  0.0  0.0  0.0  1.0   3.0\n",
       " 0.0  0.0  0.0  0.0  0.0  0.0  0.0     0.0  0.0  0.0  0.0  0.0  0.0   1.0\n",
       " 0.0  0.0  0.0  0.0  0.0  0.0  0.0     0.0  0.0  0.0  0.0  0.0  0.0   1.0\n",
       " 0.0  0.0  0.0  0.0  0.0  0.0  0.0     0.0  0.0  0.0  0.0  0.0  1.0  15.0\n",
       " 0.0  0.0  0.0  0.0  0.0  0.0  0.0     0.0  0.0  0.0  0.0  0.0  0.0   2.0\n",
       " 0.0  0.0  0.0  0.0  0.0  1.0  0.0  …  0.0  0.0  0.0  0.0  0.0  1.0  11.0\n",
       " 0.0  0.0  0.0  0.0  0.0  0.0  0.0     0.0  0.0  0.0  0.0  0.0  0.0   1.0\n",
       " 0.0  0.0  1.0  0.0  0.0  0.0  0.0     0.0  0.0  0.0  0.0  0.0  0.0   3.0\n",
       " ⋮                        ⋮         ⋱                      ⋮         \n",
       " 0.0  0.0  1.0  0.0  0.0  0.0  0.0     0.0  0.0  0.0  0.0  0.0  0.0   2.0\n",
       " 0.0  0.0  0.0  0.0  0.0  0.0  0.0  …  0.0  0.0  0.0  0.0  0.0  0.0   7.0\n",
       " 0.0  0.0  0.0  0.0  0.0  0.0  0.0     0.0  0.0  0.0  0.0  0.0  0.0   0.0\n",
       " 0.0  0.0  0.0  0.0  0.0  1.0  0.0     0.0  0.0  0.0  0.0  0.0  0.0   1.0\n",
       " 0.0  0.0  0.0  0.0  0.0  0.0  0.0     0.0  0.0  0.0  0.0  0.0  0.0   1.0\n",
       " 0.0  0.0  0.0  0.0  0.0  0.0  0.0     0.0  0.0  0.0  0.0  0.0  0.0   4.0\n",
       " 0.0  0.0  0.0  0.0  0.0  0.0  0.0  …  0.0  0.0  0.0  0.0  0.0  0.0   0.0\n",
       " 0.0  0.0  0.0  0.0  0.0  0.0  0.0     0.0  0.0  0.0  0.0  0.0  0.0   0.0\n",
       " 0.0  0.0  0.0  0.0  0.0  0.0  0.0     0.0  0.0  0.0  0.0  0.0  0.0   0.0\n",
       " 0.0  0.0  0.0  0.0  0.0  0.0  0.0     0.0  0.0  0.0  0.0  0.0  4.0   9.0\n",
       " 0.0  0.0  0.0  0.0  0.0  0.0  0.0     0.0  0.0  0.0  0.0  0.0  0.0   1.0\n",
       " 0.0  0.0  0.0  0.0  0.0  0.0  0.0  …  0.0  0.0  0.0  0.0  0.0  0.0   1.0"
      ]
     },
     "execution_count": 189,
     "metadata": {},
     "output_type": "execute_result"
    }
   ],
   "source": [
    "# taxa = String[]\n",
    "# samples = String[]\n",
    "# n_samples = length(unique(cross_sample_taxon_report_summary[!, \"sample_identifier\"]))\n",
    "# n_taxa = length(unique(cross_sample_taxon_report_summary[!, \"taxon\"]))\n",
    "# values = zeros(n_samples, n_taxa)\n",
    "\n",
    "taxa = sort(unique(cross_sample_taxon_report_summary[!, \"taxon\"]))\n",
    "samples = sort(unique(cross_sample_taxon_report_summary[!, \"sample_identifier\"]))\n",
    "values = zeros(length(samples), length(taxa))\n",
    "ProgressMeter.@showprogress for (column_index, taxon_table) in enumerate(DataFrames.groupby(cross_sample_taxon_report_summary, \"taxon\"))\n",
    "    taxon = taxon_table[1, \"taxon\"]\n",
    "    @assert taxa[column_index] == taxon\n",
    "    for (row_index, sample_table) in enumerate(DataFrames.groupby(taxon_table, \"sample_identifier\"))\n",
    "        @assert DataFrames.nrow(sample_table) == 1\n",
    "        row = sample_table[1, :]\n",
    "        sample = row[\"sample_identifier\"]\n",
    "        @assert samples[row_index] == sample\n",
    "        values[row_index, column_index] = row[\"number_of_fragments_at_or_below_taxon\"]\n",
    "    end\n",
    "end\n",
    "values"
   ]
  },
  {
   "cell_type": "code",
   "execution_count": 190,
   "id": "3586e295-8e6f-4dbf-9ef5-a22db24f3899",
   "metadata": {
    "tags": []
   },
   "outputs": [
    {
     "data": {
      "text/plain": [
       "596-element Vector{String}:\n",
       " \"101571_Burkholderia ubonensis\"\n",
       " \"104270_Tenacibaculum ovolyticum\"\n",
       " \"1054033_Arcobacter venerupis\"\n",
       " \"106590_Cupriavidus necator\"\n",
       " \"1069201_Aspergillus luchuensis\"\n",
       " \"110321_Sinorhizobium medicae\"\n",
       " \"114525_Saccharomyces mikatae\"\n",
       " \"114885_Mycoplasmopsis maculosa\"\n",
       " \"1159556_Ustilaginoidea virens\"\n",
       " \"116188_Streptomyces coeruleorubidus\"\n",
       " \"1165_Anabaena cylindrica\"\n",
       " \"1177216_Candidatus Profftia tarda\"\n",
       " \"118060_Enterococcus rotai\"\n",
       " ⋮\n",
       " \"3469_Papaver somniferum\"\n",
       " \"33011_Cutibacterium granulosum\"\n",
       " \"61646_Lelliottia amnigena\"\n",
       " \"3911_Vicia villosa\"\n",
       " \"4232_Helianthus annuus\"\n",
       " \"4236_Lactuca sativa\"\n",
       " \"35269_Woodchuck hepatitis virus\"\n",
       " \"3888_Pisum sativum\"\n",
       " \"4072_Capsicum annuum\"\n",
       " \"3369_Cryptomeria japonica\"\n",
       " \"1747_Cutibacterium acnes\"\n",
       " \"9606_Homo sapiens\""
      ]
     },
     "execution_count": 190,
     "metadata": {},
     "output_type": "execute_result"
    }
   ],
   "source": [
    "# sort taxa so largest single sample taxa is first\n",
    "taxa_frequency_ordering = sortperm(maximum.(eachcol(values)))\n",
    "values = values[:, taxa_frequency_ordering]\n",
    "taxa = taxa[taxa_frequency_ordering]\n",
    "# find taxa that have no representation, and filter them out\n",
    "taxa_is_detected = [maximum(col) >= 3 for col in eachcol(values)]\n",
    "values = values[:, taxa_is_detected]\n",
    "taxa = taxa[taxa_is_detected]"
   ]
  },
  {
   "cell_type": "code",
   "execution_count": 191,
   "id": "6f4fa609-bebf-4229-9c37-8c0ebe2dc813",
   "metadata": {
    "tags": []
   },
   "outputs": [
    {
     "data": {
      "text/plain": [
       "51-element Vector{String}:\n",
       " \"LO_FA_CKDN230005699-1A_H3TLGDSX7_L1\"\n",
       " \"LO_FA_CKDN230005699-1A_H5HNJDSX7_L2\"\n",
       " \"LO_FA_CKDN230005699-1A_H5HVHDSX7_L1\"\n",
       " \"LO_FA_CKDN230005699-1A_H5HYWDSX7_L2\"\n",
       " \"LO_MO_CKDN230005698-1A_H3TLGDSX7_L1\"\n",
       " \"LO_MO_CKDN230005698-1A_H5HVHDSX7_L1\"\n",
       " \"LO_MO_CKDN230005698-1A_H5M5FDSX7_L2\"\n",
       " \"LO_MO_CKDN230005698-1A_H5MWHDSX7_L1\"\n",
       " \"LO_PROB_CKDN230005697-1A_H3TJYDSX7_L3\"\n",
       " \"LO_PROB_CKDN230005697-1A_H5HNJDSX7_L2\"\n",
       " \"RA_PROB_CKDN230005700-1A_H3TLGDSX7_L1\"\n",
       " \"RA_PROB_CKDN230005700-1A_H5HNJDSX7_L2\"\n",
       " \"RI_1BRO_CKDN230005691-1A_H3TJYDSX7_L1\"\n",
       " ⋮\n",
       " \"RI_MaUn_CKDN230005694-1A_H5MWHDSX7_L1\"\n",
       " \"RI_PROB_CKDN230005690-1A_H3TJYDSX7_L1\"\n",
       " \"RI_PROB_CKDN230005690-1A_H5HNJDSX7_L2\"\n",
       " \"RI_PROB_CKDN230005690-1A_H5HVHDSX7_L1\"\n",
       " \"RI_PROB_CKDN230005690-1A_H5HYWDSX7_L2\"\n",
       " \"RI_UC_CKDN230005693-1A_H3TJYDSX7_L2\"\n",
       " \"RI_UC_CKDN230005693-1A_H5HNJDSX7_L2\"\n",
       " \"RI_UC_CKDN230005693-1A_H5HVHDSX7_L1\"\n",
       " \"RI_UC_CKDN230005693-1A_H5HYWDSX7_L2\"\n",
       " \"VA_PROB_CKDN230005701-1A_H3TLGDSX7_L1\"\n",
       " \"VA_PROB_CKDN230005701-1A_H5HNJDSX7_L2\"\n",
       " \"VA_PROB_CKDN230005701-1A_H5HYWDSX7_L2\""
      ]
     },
     "execution_count": 191,
     "metadata": {},
     "output_type": "execute_result"
    }
   ],
   "source": [
    "colorscheme = Colors.distinguishable_colors(length(taxa), [Colors.RGB(1,1,1), Colors.RGB(0,0,0)], dropseed=true)\n",
    "normalized_values = values ./ sum(values, dims=2)\n",
    "samples = string.(first.(split.(samples, '.')))"
   ]
  },
  {
   "cell_type": "code",
   "execution_count": 192,
   "id": "fd1e8338-c46c-4ec4-80b5-4005e3e90e61",
   "metadata": {
    "tags": []
   },
   "outputs": [],
   "source": [
    "# fit_pca = MultivariateStats.fit(MultivariateStats.PCA, normalized_values')\n",
    "\n",
    "# fit_pca = MultivariateStats.fit(MultivariateStats.PCA, normalized_values')\n",
    "# transformed_observations = MultivariateStats.transform(fit_pca, normalized_values')\n",
    "\n",
    "# top_level_groups = unique(map(x -> join(split(x, '_')[1:2], '_'), samples))\n",
    "# # Colors.RGB(0,0,0), Colors.RGB(0.78, 0.129, 0.867)\n",
    "# colorscheme = Colors.distinguishable_colors(length(top_level_groups), [Colors.RGB(1,1,1), Colors.RGB(0,0,0)], dropseed=true)\n",
    "# xs = [Float64[] for group in top_level_groups]\n",
    "# ys = [Float64[] for group in top_level_groups]\n",
    "# zs = [Float64[] for group in top_level_groups]\n",
    "\n",
    "# raw_xs = transformed_observations[1, :]\n",
    "# if size(transformed_observations, 1) >= 2\n",
    "#     raw_ys = transformed_observations[2, :]\n",
    "# else\n",
    "#     raw_ys = zeros(length(raw_xs))\n",
    "# end\n",
    "\n",
    "# if size(transformed_observations, 1) >= 3\n",
    "#     raw_zs = transformed_observations[3, :]\n",
    "# else\n",
    "#     raw_zs = zeros(length(raw_xs))\n",
    "# end\n",
    "\n",
    "# for (sample, x, y, z) in zip(samples, raw_xs, raw_ys, raw_zs)\n",
    "#     # @show sample, x, y\n",
    "#     sample_groups = findall(x -> occursin(x, sample), top_level_groups)\n",
    "#     @assert length(sample_groups) == 1\n",
    "#     sample_group = first(sample_groups)\n",
    "#     push!(xs[sample_group], x)\n",
    "#     push!(ys[sample_group], y)\n",
    "#     push!(zs[sample_group], z)\n",
    "# end\n",
    "\n",
    "# plot = \n",
    "# StatsPlots.scatter(\n",
    "#     xs,\n",
    "#     ys,\n",
    "#     # zs,\n",
    "#     xlabel = \"PC1\",\n",
    "#     ylabel = \"PC2\",\n",
    "#     # zlabel = \"PC3\",\n",
    "#     labels = hcat(top_level_groups...),\n",
    "#     title = \"read-classification - kraken - $(kraken_db) - $(taxon_level)\",\n",
    "#     titlefontsize = 10,\n",
    "#     legend = :outertopright,\n",
    "#     size = (640, 480),\n",
    "#     margins = 20StatsPlots.px,\n",
    "#     seriescolor = hcat(colorscheme...)\n",
    "# )\n",
    "\n",
    "# display(plot)\n",
    "# for extension in [\".png\"]\n",
    "#     file = joinpath(results_dir, \"taxonomic-breakdowns.kraken.$(kraken_db).$(taxon_index).$(taxon_level).pca\") * extension\n",
    "#     StatsPlots.savefig(plot, file)\n",
    "# end"
   ]
  },
  {
   "cell_type": "code",
   "execution_count": 193,
   "id": "978925e1-c04a-4f18-91a8-5b5a929770c8",
   "metadata": {
    "tags": []
   },
   "outputs": [],
   "source": [
    "# - loop through the above\n",
    "# - make a matrix where each row is a taxon rank and each column is a dataset\n",
    "# - make stacked barplots for each sample"
   ]
  },
  {
   "cell_type": "code",
   "execution_count": 194,
   "id": "90c08969-dbc4-4abb-a298-364af5ed3ef2",
   "metadata": {
    "tags": []
   },
   "outputs": [],
   "source": [
    "colorscheme = Colors.distinguishable_colors(length(taxa), [Colors.RGB(1,1,1), Colors.RGB(0,0,0)], dropseed=true)\n",
    "# top level classification rank to show absolute reads per sample\n",
    "# not very helpful at lower ranks since low read depth samples are too hard to see breakdowns\n",
    "\n",
    "bottommargin = (maximum(length.(samples)) * 3)\n",
    "leftmargin = 150\n",
    "rightmargin = 25\n",
    "topmargin = 25\n",
    "\n",
    "width = max(1920, (length(samples) * 10) + 300)\n",
    "height = max(1080, bottommargin + 600)\n",
    "\n",
    "if taxon_index in [1, 2]\n",
    "    plot = StatsPlots.groupedbar(\n",
    "        values,\n",
    "        title = \"read-classification - kraken - $(kraken_db) - $(taxon_level)\",\n",
    "        titlefontsize = 12,\n",
    "        xticks = (1:length(samples), samples),\n",
    "        xlims = (0, length(samples)+1),\n",
    "        xtickfontsize = 6,\n",
    "        size= (width, height),\n",
    "        xrotation=90,\n",
    "        ylabel = \"number of reads\",\n",
    "        labels = hcat(taxa...),\n",
    "        leftmargin = (leftmargin)StatsPlots.Plots.PlotMeasures.px,\n",
    "        topmargin = (topmargin)StatsPlots.Plots.PlotMeasures.px,\n",
    "        rightmargin = (rightmargin)StatsPlots.Plots.PlotMeasures.px,\n",
    "        bottommargin = (bottommargin)StatsPlots.Plots.PlotMeasures.px,\n",
    "        legendmargins = 0,\n",
    "        legend = :outertopright,\n",
    "        legendfontsize = 6,\n",
    "        bar_position = :stack,\n",
    "        bar_width=0.7,\n",
    "        seriescolor = hcat(reverse(colorscheme)...)\n",
    "    )\n",
    "    # display(plot)\n",
    "    # for extension in [\".png\", \".svg\"]\n",
    "    for extension in [\".png\"]\n",
    "        file = joinpath(results_dir, \"taxonomic-breakdowns.kraken.$(kraken_db).$(taxon_index).$(taxon_level).total-reads\") * extension\n",
    "        StatsPlots.savefig(plot, file)\n",
    "    end\n",
    "end\n",
    "\n",
    "################################################################################################\n",
    "\n",
    "# re-tune height to be proportional to size of taxa list (tall legends)\n",
    "height = max(height, length(taxa)*11)\n",
    "plot = StatsPlots.groupedbar(\n",
    "    normalized_values,\n",
    "    title = \"read-classification - kraken - $(kraken_db) - $(taxon_level)\",\n",
    "    titlefontsize = 12,\n",
    "    xticks = (1:length(samples), samples),\n",
    "    xlims = (0, length(samples)+1),\n",
    "    xtickfontsize = 6,\n",
    "    size= (width, height),\n",
    "    xrotation=90,\n",
    "    ylabel = \"proportion of reads\",\n",
    "    labels = hcat(taxa...),\n",
    "    leftmargin = (leftmargin)StatsPlots.Plots.PlotMeasures.px,\n",
    "    topmargin = (topmargin)StatsPlots.Plots.PlotMeasures.px,\n",
    "    rightmargin = (rightmargin)StatsPlots.Plots.PlotMeasures.px,\n",
    "    bottommargin = (bottommargin)StatsPlots.Plots.PlotMeasures.px,\n",
    "    legendmargins = 0,\n",
    "    legend = :outertopright,\n",
    "    bar_position = :stack,\n",
    "    bar_width=0.7,\n",
    "    seriescolor = hcat(reverse(colorscheme)...),\n",
    "    legendfontsize = 6,\n",
    ")\n",
    "\n",
    "# for extension in [\".png\", \".svg\"]\n",
    "for extension in [\".png\"]\n",
    "    file = joinpath(results_dir, \"taxonomic-breakdowns.kraken.$(kraken_db).$(taxon_index).$(taxon_level).normalized-reads\") * extension\n",
    "    StatsPlots.savefig(plot, file)\n",
    "end\n",
    "\n",
    "################################################################################################\n",
    "distance_matrix = Distances.pairwise(Distances.Euclidean(), normalized_values, dims=1)\n",
    "clustering = Clustering.hclust(distance_matrix, branchorder=:optimal)\n",
    "cluster_plot = StatsPlots.plot(\n",
    "    clustering,\n",
    "    xlims = (0, length(samples)+1),\n",
    "    title = \"read-classification - kraken - $(kraken_db) - $(taxon_level)\",\n",
    "    titlefontsize = 12,\n",
    "    bottommargin = 0StatsPlots.Plots.PlotMeasures.px,\n",
    "    leftmargin = (leftmargin)StatsPlots.Plots.PlotMeasures.px,\n",
    "    rightmargin = (rightmargin)StatsPlots.Plots.PlotMeasures.px,\n",
    "    topmargin = (topmargin)StatsPlots.Plots.PlotMeasures.px,\n",
    "    xticks = false,\n",
    "    yticks = false,\n",
    "    yaxis = false,\n",
    "    xaxis = false\n",
    ")\n",
    "taxonomy_plot = StatsPlots.groupedbar(\n",
    "    normalized_values[clustering.order, :],\n",
    "    bar_position = :stack,\n",
    "    leftmargin = (leftmargin)StatsPlots.Plots.PlotMeasures.px,\n",
    "    topmargin = 0StatsPlots.Plots.PlotMeasures.px,\n",
    "    rightmargin = (rightmargin)StatsPlots.Plots.PlotMeasures.px,\n",
    "    bottommargin = (bottommargin)StatsPlots.Plots.PlotMeasures.px,\n",
    "    legendmargins = 0,\n",
    "    xticks = (1:length(samples), samples[clustering.order]),\n",
    "    xtickfontsize = 4,\n",
    "    xrotation=90,\n",
    "    xlims = (0, length(samples)+1),\n",
    "    size= (width, height),\n",
    "    ylabel = \"proportion of reads\",\n",
    "    seriescolor = hcat(reverse(colorscheme)...),\n",
    "    legend = false,\n",
    "    labels = hcat(taxa...),\n",
    "    legendfontsize = 6,\n",
    ")\n",
    "\n",
    "plot = StatsPlots.plot(\n",
    "    cluster_plot,\n",
    "    taxonomy_plot,\n",
    "    margins = 0StatsPlots.Plots.PlotMeasures.px,\n",
    "    layout=StatsPlots.grid(2,1, heights=[0.2,0.8])\n",
    ")\n",
    "# display(plot)\n",
    "# for extension in [\".png\", \".svg\"]\n",
    "for extension in [\".png\"]\n",
    "    file = joinpath(results_dir, \"taxonomic-breakdowns.kraken.$(kraken_db).$(taxon_index).$(taxon_level).normalized-reads.clustered\") * extension\n",
    "    StatsPlots.savefig(plot, file)\n",
    "end"
   ]
  }
 ],
 "metadata": {
  "kernelspec": {
   "display_name": "Julia 1.6.7",
   "language": "julia",
   "name": "julia-1.6"
  },
  "language_info": {
   "file_extension": ".jl",
   "mimetype": "application/julia",
   "name": "julia",
   "version": "1.6.7"
  }
 },
 "nbformat": 4,
 "nbformat_minor": 5
}
