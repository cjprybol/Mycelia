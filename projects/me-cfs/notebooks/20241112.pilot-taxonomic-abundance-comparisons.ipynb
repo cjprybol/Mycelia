{
 "cells": [
  {
   "cell_type": "code",
   "execution_count": null,
   "id": "ce23d7a1-3e01-467b-8a3b-3af4f2fa92a5",
   "metadata": {},
   "outputs": [],
   "source": [
    "# if hit plotting library issues, try resetting LD path for julia\n",
    "# can set in ~/.local/share/jupyter/kernels/\n",
    "@assert ENV[\"LD_LIBRARY_PATH\"] == \"\"\n",
    "import Pkg\n",
    "Pkg.activate(;temp=true)\n",
    "Pkg.add(\"Revise\")\n",
    "import Revise\n",
    "\n",
    "# Pkg.develop(path=\"/global/cfs/projectdirs/m4269/cjprybol/Mycelia\")\n",
    "# Pkg.develop(path=\"../../..\")\n",
    "Pkg.develop(path=\"$(homedir())/workspace/Mycelia\")\n",
    "import Mycelia\n",
    "\n",
    "pkgs = String[\n",
    "    \"DataFrames\",\n",
    "    \"uCSV\",\n",
    "    \"OrderedCollections\",\n",
    "    \"CSV\",\n",
    "    \"XAM\",\n",
    "    \"CodecZlib\",\n",
    "    \"ProgressMeter\",\n",
    "    \"StatsPlots\"\n",
    "]\n",
    "Pkg.add(pkgs)\n",
    "for pkg in pkgs\n",
    "    eval(Meta.parse(\"import $pkg\"))\n",
    "end"
   ]
  },
  {
   "cell_type": "code",
   "execution_count": null,
   "id": "457402c5-0c5a-4f91-880c-cc7ddad9b8f8",
   "metadata": {},
   "outputs": [],
   "source": [
    "project_dir = dirname(pwd())\n",
    "data_dir = mkpath(joinpath(project_dir, \"data\"))"
   ]
  },
  {
   "cell_type": "code",
   "execution_count": null,
   "id": "8eb89de9-00f3-4822-8ef6-31088e557b70",
   "metadata": {},
   "outputs": [],
   "source": [
    "pilot_samples = readdir(joinpath(data_dir, \"samples\"), join=true)"
   ]
  },
  {
   "cell_type": "code",
   "execution_count": null,
   "id": "f6dd6c3b-28e5-46ab-8062-01180dc1bf49",
   "metadata": {},
   "outputs": [],
   "source": [
    "pilot_sample_table = DataFrames.DataFrame(\n",
    "    sample_ID = String[],\n",
    "    forward_reads = String[],\n",
    "    reverse_reads = String[],\n",
    "    filesize = Int[]\n",
    ")\n",
    "\n",
    "# run on just non-human reads first\n",
    "for pilot_sample in pilot_samples\n",
    "    qc_filtered_batches = filter(x -> occursin(r\"trimgalore$\", x), readdir(pilot_sample, join=true))\n",
    "    for qc_filtered_batch in qc_filtered_batches\n",
    "        forward_reads = filter(x -> occursin(r\"\\.unmapped\\.1\\.fq\\.gz$\", x), readdir(qc_filtered_batch, join=true))\n",
    "        # forward_reads = filter(x -> occursin(r\"1_val_1\\.fq\\.gz$\", x), readdir(qc_filtered_batch, join=true))\n",
    "        @assert length(forward_reads) == 1\n",
    "        forward_reads = first(forward_reads)\n",
    "        reverse_reads = filter(x -> occursin(r\"\\.unmapped\\.2\\.fq\\.gz$\", x), readdir(qc_filtered_batch, join=true))\n",
    "        # reverse_reads = filter(x -> occursin(r\"2_val_2\\.fq\\.gz$\", x), readdir(qc_filtered_batch, join=true))\n",
    "        @assert length(reverse_reads) == 1\n",
    "        reverse_reads = first(reverse_reads)\n",
    "        joint_filesize = filesize(forward_reads) + filesize(reverse_reads)\n",
    "        row = (sample_ID = pilot_sample, forward_reads = forward_reads, reverse_reads = reverse_reads, filesize = joint_filesize)\n",
    "        push!(pilot_sample_table, row)\n",
    "    end\n",
    "end\n",
    "pilot_sample_table"
   ]
  },
  {
   "cell_type": "code",
   "execution_count": null,
   "id": "ca8f5d66-bbea-4848-bb2f-d005f4b80648",
   "metadata": {},
   "outputs": [],
   "source": [
    "sort!(pilot_sample_table, \"filesize\")"
   ]
  },
  {
   "cell_type": "code",
   "execution_count": null,
   "id": "44058758-d3fa-459c-b9e1-029765c7961f",
   "metadata": {},
   "outputs": [],
   "source": [
    "kraken_directories = replace.(pilot_sample_table[!, \"forward_reads\"], \".1.fq.gz\" => \"_kraken\")\n",
    "pilot_sample_table[!, \"kraken_results\"] = [first(filter(x -> occursin(r\"k2_pluspfp_20231009\\.kraken\\-report\\.tsv$\", x), readdir(kraken_directory, join=true))) for kraken_directory in kraken_directories]\n",
    "pilot_sample_table[!, \"mapped_reads\"] = replace.(pilot_sample_table[!, \"forward_reads\"], \".1.fq.gz\" => \".nt.fna.gz.xsr.I51G.mmi.minimap2.sam.gz\")\n",
    "pilot_sample_table"
   ]
  },
  {
   "cell_type": "code",
   "execution_count": null,
   "id": "9bd39dbb-2ad3-4965-a932-cea12b9109fe",
   "metadata": {},
   "outputs": [],
   "source": [
    "pilot_sample_table[!, \"%classified_kraken\"] .= 0.0\n",
    "pilot_sample_table[!, \"%classified_mapping\"] .= 0.0\n",
    "for (i, row) in enumerate(DataFrames.eachrow(pilot_sample_table))\n",
    "    kraken_report = Mycelia.read_kraken_report(row[\"kraken_results\"])\n",
    "    pilot_sample_table[i, \"%classified_kraken\"] = kraken_report[findfirst(kraken_report[!, \"ncbi_taxonid\"] .== 1), \"percentage_of_fragments_at_or_below_taxon\"]\n",
    "end\n",
    "pilot_sample_table[!, \"%classified_kraken\"]"
   ]
  },
  {
   "cell_type": "code",
   "execution_count": null,
   "id": "bafd8b6a-2588-458b-8ae0-bbbfe12984ba",
   "metadata": {},
   "outputs": [],
   "source": [
    "function parse_xam_to_classification_stats(xam)\n",
    "# merge name conflicts, leaving breadcrumb for reference\n",
    "# function xam_records_to_dataframe(records)\n",
    "    record_table = DataFrames.DataFrame(\n",
    "        template = String[],\n",
    "        flag = UInt16[],\n",
    "        reference = String[],\n",
    "        position = UnitRange{Int}[],\n",
    "        mappingquality = UInt8[],\n",
    "        tlen = Int[],\n",
    "        alignlength = Int[],\n",
    "        ismapped = Bool[],\n",
    "        isprimary = Bool[],\n",
    "        alignment_score = Int[],\n",
    "        mismatches = Int[]\n",
    "    )\n",
    "    if occursin(r\"\\.bam$\", xam)\n",
    "        MODULE = XAM.BAM\n",
    "        io = open(xam)\n",
    "    elseif occursin(r\"\\.sam$\", xam)\n",
    "        MODULE = XAM.SAM\n",
    "        io = open(xam)\n",
    "    elseif occursin(r\"\\.sam.gz$\", xam)\n",
    "        MODULE = XAM.SAM\n",
    "        io = CodecZlib.GzipDecompressorStream(open(xam))\n",
    "    else\n",
    "        error(\"unrecognized file extension in file: $xam\")\n",
    "    end\n",
    "    # filter out header lines\n",
    "    reader = MODULE.Reader(IOBuffer(join(Iterators.filter(line -> !startswith(line, '@'), eachline(io)), '\\n')))\n",
    "    # reader = MODULE.Reader(io)\n",
    "    mapped_ids = Set{String}()\n",
    "    unmapped_ids = Set{String}()\n",
    "    for record in reader\n",
    "        if XAM.SAM.ismapped(record)\n",
    "            push!(mapped_ids, XAM.SAM.tempname(record))\n",
    "        else\n",
    "            push!(unmapped_ids, XAM.SAM.tempname(record))\n",
    "        end\n",
    "    end\n",
    "    close(io)\n",
    "    filter!(read -> !(read in mapped_ids), unmapped_ids)\n",
    "    return (;mapped_ids, unmapped_ids)\n",
    "end\n",
    "\n",
    "mapping_id_sets = parse_xam_to_classification_stats(pilot_sample_table[1, \"mapped_reads\"])"
   ]
  },
  {
   "cell_type": "code",
   "execution_count": null,
   "id": "e72e0741-223d-4bed-99c4-7cef0ce67831",
   "metadata": {},
   "outputs": [],
   "source": [
    "ProgressMeter.@showprogress for (i, row) in enumerate(DataFrames.eachrow(pilot_sample_table))\n",
    "    sam_file = row[\"mapped_reads\"]\n",
    "    mapping_id_sets = parse_xam_to_classification_stats(sam_file)\n",
    "    percent_mapped = length(mapping_id_sets.mapped_ids) / (length(mapping_id_sets.mapped_ids) + length(mapping_id_sets.unmapped_ids)) * 100\n",
    "    pilot_sample_table[i, \"%classified_mapping\"] = percent_mapped\n",
    "end\n",
    "\n",
    "pilot_sample_table[!, \"%classified_mapping\"]"
   ]
  },
  {
   "cell_type": "code",
   "execution_count": null,
   "id": "c2b182e8-09c5-464b-afe7-1733823f6d5e",
   "metadata": {},
   "outputs": [],
   "source": [
    "p = StatsPlots.scatter(\n",
    "    pilot_sample_table[!, \"%classified_kraken\"],\n",
    "    pilot_sample_table[!, \"%classified_mapping\"],\n",
    "    xlabel = \"% classified kraken NT (OLD)\",\n",
    "    ylabel = \"% classified mapping NT (NEW)\",\n",
    "    title = \"relative classification gains for NONHUMAN reads\",\n",
    "    xlims=[0, 100],\n",
    "    ylims=[0, 100])\n",
    "StatsPlots.plot(p, 0:100, 0:100)"
   ]
  }
 ],
 "metadata": {
  "kernelspec": {
   "display_name": "Julia 1.10.5 1.10.5",
   "language": "julia",
   "name": "julia-1.10.5-1.10"
  },
  "language_info": {
   "file_extension": ".jl",
   "mimetype": "application/julia",
   "name": "julia",
   "version": "1.10.5"
  }
 },
 "nbformat": 4,
 "nbformat_minor": 5
}
