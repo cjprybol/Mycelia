{
 "cells": [
  {
   "cell_type": "code",
   "execution_count": null,
   "id": "10224e9c-251c-4ee0-b996-f96bbdcf9b10",
   "metadata": {},
   "outputs": [],
   "source": [
    "import Pkg\n",
    "\n",
    "pkgs = [\n",
    "\"DataFrames\",\n",
    "\"StatsBase\",\n",
    "\"StatsPlots\",\n",
    "\"uCSV\",\n",
    "\"ProgressMeter\",\n",
    "\"Distances\",\n",
    "\"Clustering\",\n",
    "\"Colors\",\n",
    "\"MultivariateStats\",\n",
    "\"Dates\",\n",
    "\"CategoricalArrays\",\n",
    "\"GLM\",\n",
    "\"Statistics\",\n",
    "]\n",
    "# Pkg.add(pkgs)\n",
    "for pkg in pkgs\n",
    "    eval(Meta.parse(\"import $pkg\"))\n",
    "end\n",
    "\n",
    "import Mycelia"
   ]
  },
  {
   "cell_type": "code",
   "execution_count": null,
   "id": "cb118c02-c216-4da0-b13e-cc39c5efd605",
   "metadata": {},
   "outputs": [],
   "source": [
    "base_dir = dirname(pwd())\n",
    "data_directory = joinpath(base_dir, \"data\")\n",
    "results_dir = mkpath(joinpath(base_dir, \"results\"))"
   ]
  },
  {
   "cell_type": "code",
   "execution_count": null,
   "id": "1f4613b4-0be3-49a5-943c-4cf3658b34a3",
   "metadata": {},
   "outputs": [],
   "source": [
    "sample_directories = readdir(joinpath(data_directory, \"samples\"), join=true)"
   ]
  },
  {
   "cell_type": "code",
   "execution_count": null,
   "id": "d7c9aed1-2ed4-44a6-ad0f-52000970e25f",
   "metadata": {},
   "outputs": [],
   "source": [
    "kraken_dbs = filter(x -> isdir(x), readdir(\"$(homedir())/workspace/kraken\", join=true))"
   ]
  },
  {
   "cell_type": "code",
   "execution_count": null,
   "id": "2a54d4f5-f2b4-469d-84e8-60ff11ee31dc",
   "metadata": {},
   "outputs": [],
   "source": [
    "# kraken_db = \"/home/cjprybol/workspace/kraken/k2_pluspfp_20231009\"\n",
    "kraken_db = \"k2_pluspfp_20231009\""
   ]
  },
  {
   "cell_type": "code",
   "execution_count": null,
   "id": "c1a6e9fc-c855-44ec-9c0d-c731e5e326aa",
   "metadata": {},
   "outputs": [],
   "source": [
    "kraken_reports = String[]\n",
    "for sample_directory in sample_directories\n",
    "    trim_galore_directories = filter(x -> occursin(r\"trimgalore$\", x), readdir(sample_directory, join=true))\n",
    "    for trim_galore_directory in trim_galore_directories\n",
    "        # @show trim_galore_directory\n",
    "        kraken_directories = filter(x -> occursin(r\"kraken\", x), readdir(trim_galore_directory, join=true))\n",
    "        for kraken_directory in kraken_directories\n",
    "            reports = filter(x -> occursin(r\"kraken-report\\.tsv$\", x), readdir(kraken_directory, join=true))\n",
    "            append!(kraken_reports, reports)\n",
    "        end\n",
    "    end\n",
    "end\n",
    "kraken_reports = filter(x -> occursin(kraken_db, x), kraken_reports)"
   ]
  },
  {
   "cell_type": "code",
   "execution_count": null,
   "id": "6935acbc-b3f8-4f20-82c3-c6abf7139a4d",
   "metadata": {},
   "outputs": [],
   "source": [
    "taxon_levels = Mycelia.list_ranks()"
   ]
  },
  {
   "cell_type": "code",
   "execution_count": null,
   "id": "205bbbe4-46d1-4aa6-9e6d-f68e9d91455a",
   "metadata": {},
   "outputs": [],
   "source": [
    "# i = 1\n",
    "# i = 2\n",
    "# i = 3\n",
    "# i = 4\n",
    "# i = 5\n",
    "# i = 6\n",
    "# i = 7\n",
    "# i = 8\n",
    "i = 9\n",
    "\n",
    "(taxon_index, taxon_level) = collect(enumerate(taxon_levels))[i]\n",
    "println(\"$(taxon_index) - $(taxon_level)\")\n",
    "rank_table = Mycelia.list_rank(taxon_level)"
   ]
  },
  {
   "cell_type": "code",
   "execution_count": null,
   "id": "771858a6-5fd1-4f3b-ac33-49d22d209b34",
   "metadata": {},
   "outputs": [],
   "source": [
    "# turn me into a function that accepts a rank table and a list of kraken reports as well as an output\n",
    "rank_taxids = Set(rank_table[!, \"taxid\"])\n",
    "cross_sample_taxon_report_table = DataFrames.DataFrame()\n",
    "ProgressMeter.@showprogress for kraken_report in kraken_reports\n",
    "    report_table = Mycelia.read_kraken_report(kraken_report)\n",
    "    taxon_level_report = report_table[map(x -> x in rank_taxids, report_table[!, \"ncbi_taxonid\"]), :]\n",
    "    taxon_level_report[!, \"sample_identifier\"] .= basename(kraken_report)\n",
    "    append!(cross_sample_taxon_report_table, taxon_level_report)\n",
    "end\n",
    "cross_sample_taxon_report_table"
   ]
  },
  {
   "cell_type": "code",
   "execution_count": null,
   "id": "d247dbfa-066c-42cb-8cb2-949252288584",
   "metadata": {},
   "outputs": [],
   "source": [
    "# drop human reads\n",
    "filtered_cross_sample_taxon_report = cross_sample_taxon_report_table[cross_sample_taxon_report_table[!, \"ncbi_taxonid\"] .!= 9606, :]\n",
    "\n",
    "cross_sample_taxon_report_summary = filtered_cross_sample_taxon_report[!, \n",
    "    DataFrames.Not([\n",
    "            \"percentage_of_fragments_at_or_below_taxon\",\n",
    "            \"number_of_fragments_assigned_directly_to_taxon\",\n",
    "            \"rank\"\n",
    "        ])]\n",
    "cross_sample_taxon_report_summary[!, \"taxon\"] = map(row -> string(row[\"ncbi_taxonid\"]) * \"_\" * row[\"scientific_name\"], DataFrames.eachrow(cross_sample_taxon_report_summary))\n",
    "cross_sample_taxon_report_summary = cross_sample_taxon_report_summary[!, DataFrames.Not([\n",
    "            \"ncbi_taxonid\",\n",
    "            \"scientific_name\"\n",
    "        ])]\n",
    "\n",
    "# assert sortedness & uniqueness (should be a no-op)\n",
    "cross_sample_taxon_report_summary[!, \"participant\"] = map(x -> join(split(x, '_')[1:2], \"_\"), cross_sample_taxon_report_summary[!, \"sample_identifier\"])\n",
    "unique!(DataFrames.sort!(cross_sample_taxon_report_summary, [\"sample_identifier\", \"taxon\"]))\n"
   ]
  },
  {
   "cell_type": "code",
   "execution_count": null,
   "id": "82ea02af-25f0-4f79-9573-2be5bd7db0a1",
   "metadata": {},
   "outputs": [],
   "source": [
    "# KEEP FILTERS\n",
    "# cross_sample_taxon_report_summary = cross_sample_taxon_report_summary[map(x -> occursin(r\"^LO_\", string(x)), cross_sample_taxon_report_summary[!, \"participant\"]), :]\n",
    "# cross_sample_taxon_report_summary = cross_sample_taxon_report_summary[map(x -> occursin(r\"^RI_\", string(x)), cross_sample_taxon_report_summary[!, \"participant\"]), :]\n",
    "\n",
    "# EXCLUDE FILTERS\n",
    "# remove RA_PROB - all\n",
    "cross_sample_taxon_report_summary = cross_sample_taxon_report_summary[map(x -> !occursin(r\"^RA_PROB\", string(x)), cross_sample_taxon_report_summary[!, \"participant\"]), :]\n",
    "\n",
    "# remove second RI_3BRO_L2, not first\n",
    "# filter(x -> occursin(r\"\\^RI_3BRO\", x), sort(unique(cross_sample_taxon_report_summary[!, \"sample_identifier\"])))\n",
    "cross_sample_taxon_report_summary = cross_sample_taxon_report_summary[map(x -> !occursin(\"RI_3BRO_CKDN230005692-1A_H5HYWDSX7_L2\", string(x)), cross_sample_taxon_report_summary[!, \"sample_identifier\"]), :]\n",
    "\n",
    "# remove RI_MGF\n",
    "cross_sample_taxon_report_summary = cross_sample_taxon_report_summary[map(x -> !occursin(r\"^RI_MGF\", string(x)), cross_sample_taxon_report_summary[!, \"participant\"]), :]"
   ]
  },
  {
   "cell_type": "code",
   "execution_count": null,
   "id": "a242a18e-ba3c-46a2-8014-a786124daad4",
   "metadata": {},
   "outputs": [],
   "source": []
  },
  {
   "cell_type": "code",
   "execution_count": null,
   "id": "e91dcbe0-acfc-4dcc-8006-9b927ad88e90",
   "metadata": {},
   "outputs": [],
   "source": [
    "# cross_sample_taxon_report_summary_summary = DataFrames.combine(\n",
    "#     DataFrames.groupby(cross_sample_taxon_report_summary[!, DataFrames.Not(\"sample_identifier\")], [\"participant\", \"taxon\"]),\n",
    "#     \"number_of_fragments_at_or_below_taxon\" => sum)\n",
    "\n",
    "# cross_sample_taxon_report_summary_summary[!, \"participant\"] = CategoricalArrays.categorical(cross_sample_taxon_report_summary_summary[!, \"participant\"])\n",
    "\n",
    "# cross_sample_taxon_report_summary_summary[!, \"taxon\"] = CategoricalArrays.categorical(cross_sample_taxon_report_summary_summary[!, \"taxon\"])\n",
    "\n",
    "# cross_sample_taxon_report_summary_summary\n",
    "\n",
    "# always_missing_taxa = Set([])\n",
    "# for g in DataFrames.groupby(cross_sample_taxon_report_summary_summary, \"taxon\")\n",
    "#     if sum(g[!, \"number_of_fragments_at_or_below_taxon_sum\"]) == 0\n",
    "#         push!(always_missing_taxa, g[1, \"taxon\"])\n",
    "#     end\n",
    "# end\n",
    "# always_missing_taxa\n",
    "\n",
    "# cross_sample_taxon_report_summary_summary = cross_sample_taxon_report_summary_summary[map(x -> !(x in always_missing_taxa), cross_sample_taxon_report_summary_summary[!, \"taxon\"]), :]"
   ]
  },
  {
   "cell_type": "code",
   "execution_count": null,
   "id": "8a727004-e70f-4294-adaa-1bfc16e2eaa7",
   "metadata": {},
   "outputs": [],
   "source": [
    "# cross_sample_taxon_report_summary_summary = cross_sample_taxon_report_summary_summary[map(x -> occursin(r\"^LO_\", string(x)), cross_sample_taxon_report_summary_summary[!, \"participant\"]), :]\n",
    "# cross_sample_taxon_report_summary_summary = cross_sample_taxon_report_summary_summary[map(x -> occursin(r\"^RI_\", string(x)), cross_sample_taxon_report_summary_summary[!, \"participant\"]), :]"
   ]
  },
  {
   "cell_type": "code",
   "execution_count": null,
   "id": "43530642-aed2-48fb-8473-d8670310228d",
   "metadata": {},
   "outputs": [],
   "source": [
    "# sample_mask = map(x -> !occursin(r\"^RA_PROB\", x) && !occursin(r\"^RI_MGF\", x) && !occursin(r\"^RI_3BRO_CKDN230005692-1A_H5HYWDSX7_L2\", x), samples)\n",
    "# filtered_values = values[sample_mask, :]\n",
    "# filtered_samples = samples[sample_mask]\n",
    "# normalized_values = filtered_values ./ sum(filtered_values, dims=2)"
   ]
  },
  {
   "cell_type": "code",
   "execution_count": null,
   "id": "04832bff-d6a5-4196-bd6d-bf52336fe641",
   "metadata": {},
   "outputs": [],
   "source": [
    "# model = GLM.lm(GLM.@formula(number_of_fragments_at_or_below_taxon_sum ~ participant + taxon), cross_sample_taxon_report_summary_summary)\n",
    "# coeftable = GLM.coeftable(model)"
   ]
  },
  {
   "cell_type": "code",
   "execution_count": null,
   "id": "ddbfbd3c-1fec-4d69-8ea0-89a55924b61c",
   "metadata": {},
   "outputs": [],
   "source": [
    "# coeftable[!, coeftable.pvalcol]"
   ]
  },
  {
   "cell_type": "code",
   "execution_count": null,
   "id": "030485ff-6dde-4c5a-b96a-affb4241d774",
   "metadata": {},
   "outputs": [],
   "source": [
    "# model = GLM.lm(GLM.@formula(number_of_fragments_at_or_below_taxon_sum ~ participant + taxon), cross_sample_taxon_report_summary_summary)\n",
    "# coeftable = GLM.coeftable(model)"
   ]
  },
  {
   "cell_type": "code",
   "execution_count": null,
   "id": "8803b6f5-399e-45e7-a161-d62231e40338",
   "metadata": {},
   "outputs": [],
   "source": [
    "# pvalues = coeftable.cols[coeftable.pvalcol]\n",
    "# pvalue_ordering = sortperm(pvalues)\n",
    "# ordered_features = coeftable.rownms[pvalue_ordering]\n",
    "# ordered_pvalues = pvalues[pvalue_ordering]\n",
    "# ordered_pvalues .*= length(ordered_pvalues)"
   ]
  },
  {
   "cell_type": "code",
   "execution_count": null,
   "id": "0d4db3d5-c071-4289-acaf-66ff12d2f007",
   "metadata": {},
   "outputs": [],
   "source": [
    "# is_signficant = ordered_pvalues .<= 0.001"
   ]
  },
  {
   "cell_type": "code",
   "execution_count": null,
   "id": "c2fb27a5-8012-4d86-8863-5fcf94f4d651",
   "metadata": {},
   "outputs": [],
   "source": [
    "# ordered_features = ordered_features[is_signficant]\n",
    "# ordered_pvalues = ordered_pvalues[is_signficant]"
   ]
  },
  {
   "cell_type": "code",
   "execution_count": null,
   "id": "1866a431-b742-4f64-a7b7-5a8d0cd0b047",
   "metadata": {},
   "outputs": [],
   "source": [
    "# uCSV.write(\n",
    "#     joinpath(results_dir, \"significance_table.tsv\"),\n",
    "#     DataFrames.DataFrame(\n",
    "#     feature = ordered_features,\n",
    "#     pvalue = ordered_pvalues),\n",
    "#     delim='\\t')"
   ]
  },
  {
   "cell_type": "code",
   "execution_count": null,
   "id": "c8731920-093d-4147-827f-df6321d74231",
   "metadata": {},
   "outputs": [],
   "source": [
    "# model"
   ]
  },
  {
   "cell_type": "code",
   "execution_count": null,
   "id": "195f07ff-f9d1-4354-b36f-cc054d5f5ad2",
   "metadata": {},
   "outputs": [],
   "source": [
    "# filtered_cross_sample_taxon_report"
   ]
  },
  {
   "cell_type": "code",
   "execution_count": null,
   "id": "75fe1bcf-c7a3-4996-8e5b-21b19b0eb26e",
   "metadata": {
    "tags": []
   },
   "outputs": [],
   "source": [
    "# taxa = String[]\n",
    "# samples = String[]\n",
    "# n_samples = length(unique(cross_sample_taxon_report_summary[!, \"sample_identifier\"]))\n",
    "# n_taxa = length(unique(cross_sample_taxon_report_summary[!, \"taxon\"]))\n",
    "# values = zeros(n_samples, n_taxa)\n",
    "\n",
    "taxa = sort(unique(cross_sample_taxon_report_summary[!, \"taxon\"]))\n",
    "samples = sort(unique(cross_sample_taxon_report_summary[!, \"sample_identifier\"]))\n",
    "values = zeros(length(samples), length(taxa))\n",
    "ProgressMeter.@showprogress for (column_index, taxon_table) in enumerate(DataFrames.groupby(cross_sample_taxon_report_summary, \"taxon\"))\n",
    "    taxon = taxon_table[1, \"taxon\"]\n",
    "    # push!(taxa, taxon)\n",
    "    # @show taxon\n",
    "    @assert taxa[column_index] == taxon\n",
    "    for (row_index, sample_table) in enumerate(DataFrames.groupby(taxon_table, \"sample_identifier\"))\n",
    "        @assert DataFrames.nrow(sample_table) == 1\n",
    "        row = sample_table[1, :]\n",
    "        sample = row[\"sample_identifier\"]\n",
    "        # if column_index == 1\n",
    "        #     push!(samples, sample)\n",
    "        # else\n",
    "        @assert samples[row_index] == sample\n",
    "        # end\n",
    "        values[row_index, column_index] = row[\"number_of_fragments_at_or_below_taxon\"]\n",
    "    end\n",
    "end\n",
    "values"
   ]
  },
  {
   "cell_type": "code",
   "execution_count": null,
   "id": "3586e295-8e6f-4dbf-9ef5-a22db24f3899",
   "metadata": {
    "tags": []
   },
   "outputs": [],
   "source": [
    "# sort taxa so largest single sample taxa is first\n",
    "taxa_frequency_ordering = sortperm(maximum.(eachcol(values)))\n",
    "values = values[:, taxa_frequency_ordering]\n",
    "taxa = taxa[taxa_frequency_ordering]\n",
    "# find taxa that have no representation, and filter them out\n",
    "taxa_is_detected = [sum(col) > 0 for col in eachcol(values)]\n",
    "values = values[:, taxa_is_detected]\n",
    "taxa = taxa[taxa_is_detected]\n",
    "samples = string.(first.(split.(samples, '.')))\n",
    "normalized_values = values ./ sum(values, dims=2)"
   ]
  },
  {
   "cell_type": "code",
   "execution_count": null,
   "id": "5b52967b-d8d4-41f5-8aae-54eac0dd83c0",
   "metadata": {},
   "outputs": [],
   "source": [
    "# for x in reverse(taxa)[1:10]\n",
    "#     println(x)\n",
    "# end"
   ]
  },
  {
   "cell_type": "code",
   "execution_count": null,
   "id": "159d9e83-0593-4cfd-b400-7d5f0373d79b",
   "metadata": {},
   "outputs": [],
   "source": [
    "# for (sample, row) in zip(samples, eachrow(values))\n",
    "#     @show sample, taxa[last(findmax(row))]\n",
    "# end"
   ]
  },
  {
   "cell_type": "code",
   "execution_count": null,
   "id": "e789ed57-3ea2-435f-a170-fdca3a91917a",
   "metadata": {},
   "outputs": [],
   "source": [
    "fit_pca = MultivariateStats.fit(MultivariateStats.PCA, normalized_values')"
   ]
  },
  {
   "cell_type": "code",
   "execution_count": null,
   "id": "3a2a39d1-091a-4c2b-9031-1f0d2ac70f62",
   "metadata": {},
   "outputs": [],
   "source": [
    "?MultivariateStats.transform"
   ]
  },
  {
   "cell_type": "code",
   "execution_count": null,
   "id": "a08db8b7-e17e-4a12-9cc5-cd625a25b5a7",
   "metadata": {},
   "outputs": [],
   "source": [
    "transformed_observations = MultivariateStats.transform(fit_pca, normalized_values')"
   ]
  },
  {
   "cell_type": "code",
   "execution_count": null,
   "id": "97f2634b-cef9-465f-8ded-a916b3d0eafd",
   "metadata": {},
   "outputs": [],
   "source": [
    "# HSD vs not"
   ]
  },
  {
   "cell_type": "code",
   "execution_count": null,
   "id": "71ab08f7-0b6e-41ea-9e08-e7bfde1b5756",
   "metadata": {},
   "outputs": [],
   "source": [
    "# top_level_groups = unique(map(x -> join(split(x, '_')[1:2], '_'), samples))\n",
    "top_level_groups = [\"HSD\", \"non-HSD\"]"
   ]
  },
  {
   "cell_type": "code",
   "execution_count": null,
   "id": "6f1276e1-1423-49ef-b6c1-87d791cbf65f",
   "metadata": {},
   "outputs": [],
   "source": [
    "HSD = [\n",
    "    \"RI_3BRO\",\n",
    "    \"RI_PROB\",\n",
    "    \"LO_PROB\",\n",
    "    \"VA_PROB\"\n",
    "]\n",
    "\n",
    "# colorscheme = Colors.distinguishable_colors(length(top_level_groups), [Colors.RGB(1,1,1), Colors.RGB(0,0,0)], dropseed=true)"
   ]
  },
  {
   "cell_type": "code",
   "execution_count": null,
   "id": "df350b33-8e3b-4223-8526-f8e16f2e1376",
   "metadata": {},
   "outputs": [],
   "source": [
    "# colorscheme = Colors.distinguishable_colors(length(top_level_groups), [Colors.RGB(1,1,1), Colors.RGB(0,0,0)], dropseed=true)\n",
    "xs = [Float64[] for group in top_level_groups]\n",
    "ys = [Float64[] for group in top_level_groups]\n",
    "zs = [Float64[] for group in top_level_groups]\n",
    "raw_xs = transformed_observations[1, :]\n",
    "if size(transformed_observations, 1) >= 2\n",
    "    raw_ys = transformed_observations[2, :]\n",
    "else\n",
    "    raw_ys = zeros(length(raw_xs))\n",
    "end\n",
    "\n",
    "if size(transformed_observations, 1) >= 3\n",
    "    raw_zs = transformed_observations[3, :]\n",
    "else\n",
    "    raw_zs = zeros(length(raw_xs))\n",
    "end\n"
   ]
  },
  {
   "cell_type": "code",
   "execution_count": null,
   "id": "c196e1ec-21bc-4b30-ab58-d9eaadc0c68d",
   "metadata": {},
   "outputs": [],
   "source": [
    "for (sample, x, y, z) in zip(samples, raw_xs, raw_ys, raw_zs)\n",
    "    # @show sample, x, y\n",
    "    # @show sample\n",
    "    sample_group = 2\n",
    "    for prefix in HSD\n",
    "        if occursin(prefix, sample)\n",
    "            # @show prefix, sample\n",
    "            sample_group = 1\n",
    "        end\n",
    "    end\n",
    "    # sample_groups = findall(x -> occursin(x, sample), top_level_groups)\n",
    "    # @assert length(sample_groups) == 1\n",
    "    # sample_group = first(sample_groups)\n",
    "    push!(xs[sample_group], x)\n",
    "    push!(ys[sample_group], y)\n",
    "    push!(zs[sample_group], z)\n",
    "end"
   ]
  },
  {
   "cell_type": "code",
   "execution_count": null,
   "id": "8b95ae4d-9e0a-4793-8909-3318c2ce2fd8",
   "metadata": {
    "tags": []
   },
   "outputs": [],
   "source": [
    "plot = \n",
    "StatsPlots.scatter(\n",
    "    xs,\n",
    "    ys,\n",
    "    # zs,\n",
    "    xlabel = \"PC1\",\n",
    "    ylabel = \"PC2\",\n",
    "    # zlabel = \"PC3\",\n",
    "    labels = hcat(top_level_groups...),\n",
    "    title = \"participant clustering after removing human reads and outlier samples\",\n",
    "    legend = :outertopright,\n",
    "    margins = 20StatsPlots.px,\n",
    "    # seriescolor = hcat(colorscheme...),\n",
    "    dpi=300,\n",
    "    size=(900, 600)\n",
    ")\n",
    "\n",
    "# display(plot)\n",
    "# for extension in [\".png\"]\n",
    "#     file = joinpath(results_dir, \"taxonomic-breakdowns.kraken.$(kraken_db).$(taxon_index).$(taxon_level).outliers-removed.pca\") * extension\n",
    "#     StatsPlots.savefig(plot, file)\n",
    "# end"
   ]
  },
  {
   "cell_type": "code",
   "execution_count": null,
   "id": "48b7ced0-dae3-4782-9ee3-85c27c600d48",
   "metadata": {},
   "outputs": [],
   "source": [
    "println(\"Top 10 features in principle component 1\")\n",
    "pc1_table = DataFrames.DataFrame(\n",
    "    taxa = taxa,\n",
    "    weight = MultivariateStats.loadings(fit_pca)[:, 1]\n",
    ")\n",
    "sort!(pc1_table, \"weight\", rev=true)\n",
    "pc1_table[1:10, :]"
   ]
  },
  {
   "cell_type": "code",
   "execution_count": null,
   "id": "b946bdff-61f1-4077-ba87-d4ff0e4ca9fd",
   "metadata": {},
   "outputs": [],
   "source": [
    "println(\"Top 10 features in principle component 2\")\n",
    "pc2_table = DataFrames.DataFrame(\n",
    "    taxa = taxa,\n",
    "    weight = MultivariateStats.loadings(fit_pca)[:, 2]\n",
    ")\n",
    "sort!(pc2_table, \"weight\", rev=true)\n",
    "pc2_table[1:10, :]"
   ]
  },
  {
   "cell_type": "code",
   "execution_count": null,
   "id": "d2fa937c-9f9b-45ca-bd5c-2f1d1523db2b",
   "metadata": {},
   "outputs": [],
   "source": [
    "# Returns the projection matrix (of size (d, p)). Each column of the projection matrix corresponds to a principal component. The principal components are arranged in descending order of the corresponding variances.\n",
    "MultivariateStats.projection(fit_pca)"
   ]
  },
  {
   "cell_type": "code",
   "execution_count": null,
   "id": "b92582f6-e937-4af5-ae7c-c9d0ee22e1a0",
   "metadata": {},
   "outputs": [],
   "source": [
    "# Returns the ratio of variance preserved in the principal subspace, which is equal to tprincipalvar(M) / var(M).\n",
    "MultivariateStats.principalratio(fit_pca)"
   ]
  }
 ],
 "metadata": {
  "kernelspec": {
   "display_name": "Julia 1.6.7",
   "language": "julia",
   "name": "julia-1.6"
  },
  "language_info": {
   "file_extension": ".jl",
   "mimetype": "application/julia",
   "name": "julia",
   "version": "1.6.7"
  }
 },
 "nbformat": 4,
 "nbformat_minor": 5
}
