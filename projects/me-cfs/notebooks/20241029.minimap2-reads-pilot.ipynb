{
 "cells": [
  {
   "cell_type": "code",
   "execution_count": null,
   "id": "ce23d7a1-3e01-467b-8a3b-3af4f2fa92a5",
   "metadata": {},
   "outputs": [],
   "source": [
    "# if hit plotting library issues, try resetting LD path for julia\n",
    "# can set in ~/.local/share/jupyter/kernels/\n",
    "@assert ENV[\"LD_LIBRARY_PATH\"] == \"\"\n",
    "import Pkg\n",
    "Pkg.activate(;temp=true)\n",
    "Pkg.add(\"Revise\")\n",
    "import Revise\n",
    "\n",
    "# Pkg.develop(path=\"/global/cfs/projectdirs/m4269/cjprybol/Mycelia\")\n",
    "# Pkg.develop(path=\"../../..\")\n",
    "Pkg.develop(path=\"$(homedir())/workspace/Mycelia\")\n",
    "import Mycelia\n",
    "\n",
    "pkgs = String[\n",
    "    \"DataFrames\",\n",
    "    \"uCSV\",\n",
    "    \"OrderedCollections\",\n",
    "    \"CSV\"\n",
    "    # \"XAM\",\n",
    "    # \"CodecZlib\"\n",
    "]\n",
    "Pkg.add(pkgs)\n",
    "for pkg in pkgs\n",
    "    eval(Meta.parse(\"import $pkg\"))\n",
    "end"
   ]
  },
  {
   "cell_type": "code",
   "execution_count": null,
   "id": "457402c5-0c5a-4f91-880c-cc7ddad9b8f8",
   "metadata": {},
   "outputs": [],
   "source": [
    "project_dir = dirname(pwd())\n",
    "data_dir = mkpath(joinpath(project_dir, \"data\"))"
   ]
  },
  {
   "cell_type": "code",
   "execution_count": null,
   "id": "feef2282-3f45-4442-9013-e6627d3577da",
   "metadata": {
    "tags": []
   },
   "outputs": [],
   "source": [
    "db = \"nt\"\n",
    "path_to_db = joinpath(homedir(), \"workspace\", \"blastdb\", db)\n",
    "# path_to_db = Mycelia.download_blast_db(db=db, source=\"ncbi\")\n",
    "# compressed_fasta_export = Mycelia.export_blast_db(path_to_db = path_to_db)\n",
    "compressed_fasta_export = path_to_db * \".fna.gz\""
   ]
  },
  {
   "cell_type": "code",
   "execution_count": null,
   "id": "8f24576f-d8d8-42b6-8e83-57ee0e802e52",
   "metadata": {},
   "outputs": [],
   "source": [
    "threads = 12\n",
    "mem_gb = threads * 32\n",
    "# mem_gb = # Int(floor(mem_gb * .8))"
   ]
  },
  {
   "cell_type": "code",
   "execution_count": null,
   "id": "8eb89de9-00f3-4822-8ef6-31088e557b70",
   "metadata": {},
   "outputs": [],
   "source": [
    "pilot_samples = readdir(joinpath(data_dir, \"samples\"), join=true)"
   ]
  },
  {
   "cell_type": "code",
   "execution_count": null,
   "id": "207ac91c-87e1-4677-8127-f13993d5c8ad",
   "metadata": {},
   "outputs": [],
   "source": [
    "pilot_sample = first(pilot_samples)\n",
    "qc_filtered_batches = filter(x -> occursin(r\"trimgalore$\", x), readdir(pilot_sample, join=true))\n",
    "qc_filtered_batch = first(qc_filtered_batches)\n",
    "readdir(qc_filtered_batch, join=true)"
   ]
  },
  {
   "cell_type": "code",
   "execution_count": null,
   "id": "f6dd6c3b-28e5-46ab-8062-01180dc1bf49",
   "metadata": {},
   "outputs": [],
   "source": [
    "pilot_sample_table = DataFrames.DataFrame(\n",
    "    sample_ID = String[],\n",
    "    forward_reads = String[],\n",
    "    reverse_reads = String[],\n",
    "    filesize = Int[]\n",
    ")\n",
    "\n",
    "# run on just non-human reads first\n",
    "for pilot_sample in pilot_samples\n",
    "    qc_filtered_batches = filter(x -> occursin(r\"trimgalore$\", x), readdir(pilot_sample, join=true))\n",
    "    for qc_filtered_batch in qc_filtered_batches\n",
    "        forward_reads = filter(x -> occursin(r\"\\.unmapped\\.1\\.fq\\.gz$\", x), readdir(qc_filtered_batch, join=true))\n",
    "        # forward_reads = filter(x -> occursin(r\"1_val_1\\.fq\\.gz$\", x), readdir(qc_filtered_batch, join=true))\n",
    "        @assert length(forward_reads) == 1\n",
    "        forward_reads = first(forward_reads)\n",
    "        reverse_reads = filter(x -> occursin(r\"\\.unmapped\\.2\\.fq\\.gz$\", x), readdir(qc_filtered_batch, join=true))\n",
    "        # reverse_reads = filter(x -> occursin(r\"2_val_2\\.fq\\.gz$\", x), readdir(qc_filtered_batch, join=true))\n",
    "        @assert length(reverse_reads) == 1\n",
    "        reverse_reads = first(reverse_reads)\n",
    "        joint_filesize = filesize(forward_reads) + filesize(reverse_reads)\n",
    "        row = (sample_ID = pilot_sample, forward_reads = forward_reads, reverse_reads = reverse_reads, filesize = joint_filesize)\n",
    "        push!(pilot_sample_table, row)\n",
    "    end\n",
    "end\n",
    "pilot_sample_table"
   ]
  },
  {
   "cell_type": "code",
   "execution_count": null,
   "id": "ca8f5d66-bbea-4848-bb2f-d005f4b80648",
   "metadata": {},
   "outputs": [],
   "source": [
    "sort!(pilot_sample_table, \"filesize\")"
   ]
  },
  {
   "cell_type": "code",
   "execution_count": null,
   "id": "1b956df6-3ded-4876-8f56-339b297431fb",
   "metadata": {},
   "outputs": [],
   "source": [
    "for row in DataFrames.eachrow(pilot_sample_table)\n",
    "    \n",
    "    forward = row[\"forward_reads\"]\n",
    "    reverse = row[\"reverse_reads\"]\n",
    "    outdir = dirname(row[\"forward_reads\"])\n",
    "    \n",
    "    map_result = Mycelia.minimap_map_paired_end_with_index(\n",
    "        fasta = compressed_fasta_export,\n",
    "        outdir = outdir,\n",
    "        forward = forward,\n",
    "        reverse = reverse,\n",
    "        mem_gb = Int(floor(mem_gb * .8)),\n",
    "        threads = threads,\n",
    "        denominator = 6,\n",
    "        as_string = true\n",
    "    )\n",
    "    \n",
    "    outfile = map_result.outfile\n",
    "    cmd = map_result.cmd\n",
    "    \n",
    "    # Check if the output file exists\n",
    "    if !isfile(outfile)\n",
    "        println(\"submitting job to produce $(outfile)\")\n",
    "        # Mycelia.scg_sbatch(\n",
    "        #     job_name=basename(outfile),\n",
    "        #     mail_user=\"cameron.prybol@gmail.com\",\n",
    "        #     logdir=mkpath(\"$(homedir())/workspace/slurmlogs\"),\n",
    "        #     mem_gb=mem_gb,\n",
    "        #     cpus_per_task=threads,\n",
    "        #     partition=\"nih_s10\",\n",
    "        #     account=\"mpsnyder\",\n",
    "        #     time=\"7-00:00:00\",\n",
    "        #     cmd=cmd\n",
    "        # )\n",
    "        # sleep(60)  # Pause for 60 seconds\n",
    "    else\n",
    "        @show outfile\n",
    "        @show Base.format_bytes(filesize(outfile))\n",
    "    end\n",
    "end"
   ]
  }
 ],
 "metadata": {
  "kernelspec": {
   "display_name": "Julia 1.10.5 1.10.5",
   "language": "julia",
   "name": "julia-1.10.5-1.10"
  },
  "language_info": {
   "file_extension": ".jl",
   "mimetype": "application/julia",
   "name": "julia",
   "version": "1.10.5"
  }
 },
 "nbformat": 4,
 "nbformat_minor": 5
}
