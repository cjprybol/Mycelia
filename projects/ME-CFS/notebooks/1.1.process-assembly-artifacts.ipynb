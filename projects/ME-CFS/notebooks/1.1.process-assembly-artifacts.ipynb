{
 "cells": [
  {
   "cell_type": "code",
   "execution_count": null,
   "id": "504b2382-d3aa-43f7-b02d-73f283cb5c0d",
   "metadata": {},
   "outputs": [],
   "source": [
    "# ENV[\"LD_LIBRARY_PATH\"] = \"\""
   ]
  },
  {
   "cell_type": "code",
   "execution_count": null,
   "id": "5dc3978e-ff48-4959-a5d1-2fb3c0b34ae1",
   "metadata": {},
   "outputs": [],
   "source": [
    "import Pkg\n",
    "Pkg.activate(\".\")\n",
    "# Pkg.update()\n",
    "\n",
    "# Pkg.develop(url=\"https://github.com/cjprybol/Mycelia.git\")\n",
    "# import Mycelia\n",
    "pkgs = [\n",
    "\"FASTX\",\n",
    "\"Graphs\",\n",
    "\"MetaGraphs\",\n",
    "]\n",
    "Pkg.add(pkgs)\n",
    "for pkg in pkgs\n",
    "    eval(Meta.parse(\"import $pkg\"))\n",
    "end"
   ]
  },
  {
   "cell_type": "code",
   "execution_count": null,
   "id": "204efdbb-289f-49e5-99e4-81c845107175",
   "metadata": {},
   "outputs": [],
   "source": [
    "function parse_gfa(gfa)\n",
    "    \n",
    "    gfa_record_types = Dict(\n",
    "        '#' => \"Comment\",\n",
    "        'H' => \"Header\",\n",
    "        'S' => \"Segment\",\n",
    "        'L' => \"Link\",\n",
    "        'J' => \"Jump\",\n",
    "        'C' => \"Containment\",\n",
    "        'P' => \"Path\",\n",
    "        'W' => \"Walk\"\n",
    "    )\n",
    "\n",
    "    gfa_graph = MetaGraphs.MetaDiGraph()\n",
    "    MetaGraphs.set_prop!(gfa_graph, :paths, Dict{String, Any}())\n",
    "    for line in eachline(gfa)\n",
    "        record_type = gfa_record_types[line[1]]\n",
    "        if record_type == \"Header\"\n",
    "            # metadata\n",
    "            sline = split(line)\n",
    "            # add me later\n",
    "        elseif record_type == \"Comment\"\n",
    "            # metadata\n",
    "            # add me later\n",
    "        elseif record_type == \"Segment\"\n",
    "            # node\n",
    "            record_type, record_name, sequence = split(line, '\\t')\n",
    "            Graphs.add_vertex!(gfa_graph)\n",
    "            node_index = Graphs.nv(gfa_graph)\n",
    "            MetaGraphs.set_prop!(gfa_graph, node_index, :identifier, record_name)\n",
    "            MetaGraphs.set_indexing_prop!(gfa_graph, :identifier)\n",
    "            MetaGraphs.set_prop!(gfa_graph, node_index, :sequence, sequence)\n",
    "        elseif record_type == \"Link\"\n",
    "            record_type, source_identifier, source_orientation, destination_identifier, destination_orientation, overlap_CIGAR = split(line, '\\t')\n",
    "            source_index = gfa_graph[source_identifier, :identifier]\n",
    "            destination_index = gfa_graph[destination_identifier, :identifier]\n",
    "            edge = Graphs.Edge(source_index, destination_index)\n",
    "            Graphs.add_edge!(gfa_graph, edge)\n",
    "            MetaGraphs.set_prop!(gfa_graph, edge, :source_identifier, source_identifier)\n",
    "            MetaGraphs.set_prop!(gfa_graph, edge, :source_orientation, source_orientation)\n",
    "            MetaGraphs.set_prop!(gfa_graph, edge, :destination_identifier, destination_identifier)\n",
    "            MetaGraphs.set_prop!(gfa_graph, edge, :destination_orientation, destination_orientation)\n",
    "            MetaGraphs.set_prop!(gfa_graph, edge, :overlap_CIGAR, overlap_CIGAR)\n",
    "        elseif record_type == \"Path\"\n",
    "            record_type, path_identifier, segments, overlaps = split(line, '\\t')\n",
    "            gfa_graph.gprops[:paths][path_identifier] = Dict(\"segments\" => segments, \"overlaps\" => overlaps)\n",
    "        else\n",
    "            @warn \"GFA line type $(record_type) not currently handled by the import - please add\"\n",
    "        end\n",
    "    end\n",
    "    return gfa_graph\n",
    "end"
   ]
  },
  {
   "cell_type": "code",
   "execution_count": null,
   "id": "16b78fcf-5a2f-40dc-b136-db19875d8861",
   "metadata": {},
   "outputs": [],
   "source": [
    "data_directory = joinpath(dirname(pwd()), \"data\")"
   ]
  },
  {
   "cell_type": "code",
   "execution_count": null,
   "id": "7c214121-4c1c-40cb-90d7-bc1b0e573d11",
   "metadata": {},
   "outputs": [],
   "source": [
    "sample_directories = readdir(data_directory, join=true)\n",
    "trim_galore_directories = filter(x -> isdir(x) && !occursin(\".ipynb_checkpoints\", x), reduce(vcat, readdir.(sample_directories, join=true)))"
   ]
  },
  {
   "cell_type": "code",
   "execution_count": null,
   "id": "7a9ab145-60c3-4397-b4c3-642c9495448d",
   "metadata": {},
   "outputs": [],
   "source": [
    "megahit_directories = filter(x -> occursin.(\"_megahit\", x), reduce(vcat, readdir.(trim_galore_directories, join=true)))"
   ]
  },
  {
   "cell_type": "code",
   "execution_count": null,
   "id": "e9f2aea5-91c3-4f4b-a1a7-de6b5199fa20",
   "metadata": {},
   "outputs": [],
   "source": [
    "readdir(first(megahit_directories))"
   ]
  },
  {
   "cell_type": "code",
   "execution_count": null,
   "id": "f56746fd-6258-4912-b064-dde22bfdaa2a",
   "metadata": {
    "tags": []
   },
   "outputs": [],
   "source": [
    "for megahit_directory in megahit_directories\n",
    "    println(megahit_directory)\n",
    "\n",
    "    initial_assembled_fasta = \"$(megahit_directory)/final.contigs.fa\"\n",
    "    assembled_fastg = replace(initial_assembled_fasta, \".fa\" => \".fastg\")\n",
    "\n",
    "    # read in the assembled fasta file and parse contig identifiers to get final k length\n",
    "    final_k_lengths = unique([replace(first(split(FASTX.identifier(record), '_')), r\"^k\" => \"\") for record in FASTX.FASTA.Reader(open(initial_assembled_fasta))])\n",
    "    @assert length(final_k_lengths) == 1\n",
    "    final_k_length = parse(Int, first(final_k_lengths))\n",
    "    if !isfile(assembled_fastg)\n",
    "        # run(pipeline(`megahit_toolkit contig2fastg $(final_k_length) $(initial_assembled_fasta)`, assembled_fastg))\n",
    "        run(pipeline(`conda run --live-stream --no-capture-output -n megahit megahit_toolkit contig2fastg $(final_k_length) $(initial_assembled_fasta)`, assembled_fastg))\n",
    "    end\n",
    "\n",
    "    # conda create -n bandage -c bioconda bandage\n",
    "    assembled_gfa = \"$(assembled_fastg).gfa\"\n",
    "    if !isfile(assembled_gfa) || (filesize(assembled_gfa) == 0)\n",
    "        # run(`Bandage reduce $(assembled_fastg) $(assembled_gfa)`)\n",
    "        run(`conda run --live-stream --no-capture-output -n bandage Bandage reduce $(assembled_fastg) $(assembled_gfa)`)\n",
    "    end\n",
    "\n",
    "    assembled_fasta = assembled_gfa * \".fna\"\n",
    "    if !isfile(assembled_fasta)\n",
    "        open(assembled_fasta, \"w\") do io\n",
    "            fastx_io = FASTX.FASTA.Writer(io)\n",
    "            # gfa_graph = Mycelia.parse_gfa(assembled_gfa)\n",
    "            gfa_graph = parse_gfa(assembled_gfa)\n",
    "            for v in Graphs.vertices(gfa_graph)\n",
    "                record = FASTX.FASTA.Record(gfa_graph.vprops[v][:identifier], gfa_graph.vprops[v][:sequence])\n",
    "                write(fastx_io, record)\n",
    "            end\n",
    "            close(fastx_io)\n",
    "        end\n",
    "    end\n",
    "\n",
    "    # generate a bandage plot of the assembly graph\n",
    "    bandage_outfile = \"$(assembled_gfa).bandage.jpg\"\n",
    "    if !isfile(bandage_outfile)\n",
    "        run(`conda run --live-stream --no-capture-output -n bandage Bandage image $(assembled_gfa) $bandage_outfile`)\n",
    "    end\n",
    "end"
   ]
  },
  {
   "cell_type": "code",
   "execution_count": null,
   "id": "140bdd9a-ca96-4d99-ac78-88c28ddeba47",
   "metadata": {},
   "outputs": [],
   "source": []
  }
 ],
 "metadata": {
  "kernelspec": {
   "display_name": "Julia 1.6.7",
   "language": "julia",
   "name": "julia-1.6"
  },
  "language_info": {
   "file_extension": ".jl",
   "mimetype": "application/julia",
   "name": "julia",
   "version": "1.6.7"
  }
 },
 "nbformat": 4,
 "nbformat_minor": 5
}
