{
 "cells": [
  {
   "cell_type": "code",
   "execution_count": null,
   "id": "504b2382-d3aa-43f7-b02d-73f283cb5c0d",
   "metadata": {},
   "outputs": [],
   "source": [
    "ENV[\"LD_LIBRARY_PATH\"] = \"\""
   ]
  },
  {
   "cell_type": "code",
   "execution_count": null,
   "id": "5dc3978e-ff48-4959-a5d1-2fb3c0b34ae1",
   "metadata": {},
   "outputs": [],
   "source": [
    "import Pkg\n",
    "Pkg.activate(\".\")\n",
    "Pkg.update()\n",
    "\n",
    "pkgs = [\n",
    "\"FASTX\",\n",
    "\"Graphs\",\n",
    "\"MetaGraphs\",\n",
    "]\n",
    "Pkg.add(pkgs)\n",
    "Pkg.develop(url=\"https://github.com/cjprybol/Mycelia.git\")\n",
    "for pkg in pkgs\n",
    "    eval(Meta.parse(\"import $pkg\"))\n",
    "end\n",
    "import Mycelia"
   ]
  },
  {
   "cell_type": "code",
   "execution_count": null,
   "id": "16b78fcf-5a2f-40dc-b136-db19875d8861",
   "metadata": {},
   "outputs": [],
   "source": [
    "data_dir = joinpath(dirname(pwd()), \"data\")"
   ]
  },
  {
   "cell_type": "code",
   "execution_count": null,
   "id": "b47aae98-1bca-4d5b-9dae-cd9698c5bb89",
   "metadata": {},
   "outputs": [],
   "source": [
    "SRR_paths = filter(x -> !occursin(\".ipynb_checkpoints\", x), readdir(joinpath(data_dir, \"SRA\"), join=true))\n",
    "SRR_paths = filter(x -> \"trim_galore\" in readdir(x), SRR_paths)"
   ]
  },
  {
   "cell_type": "code",
   "execution_count": null,
   "id": "f56746fd-6258-4912-b064-dde22bfdaa2a",
   "metadata": {
    "tags": []
   },
   "outputs": [],
   "source": [
    "ProgressMeter.@showprogress for SRR_path in SRR_paths\n",
    "    SRR = basename(SRR_path)\n",
    "\n",
    "    out_dir = joinpath(SRR_path, \"megahit\")\n",
    "\n",
    "    trimmed_forward_reads = joinpath(SRR_path, \"trim_galore\", \"$(SRR)_1_val_1.fq.gz\")\n",
    "    trimmed_reverse_reads = joinpath(SRR_path, \"trim_galore\", \"$(SRR)_2_val_2.fq.gz\")\n",
    "\n",
    "    initial_assembled_fasta = \"$(out_dir)/final.contigs.fa\"\n",
    "    assembled_fastg = replace(initial_assembled_fasta, \".fa\" => \".fastg\")\n",
    "\n",
    "    # read in the assembled fasta file and parse contig identifiers to get final k length\n",
    "    final_k_lengths = unique([replace(first(split(FASTX.identifier(record), '_')), r\"^k\" => \"\") for record in Mycelia.open_fastx(initial_assembled_fasta)])\n",
    "    @assert length(final_k_lengths) == 1\n",
    "    final_k_length = parse(Int, first(final_k_lengths))\n",
    "    if !isfile(assembled_fastg)\n",
    "        run(pipeline(`megahit_toolkit contig2fastg $(final_k_length) $(initial_assembled_fasta)`, assembled_fastg))\n",
    "    end\n",
    "\n",
    "    assembled_gfa = \"$(assembled_fastg).gfa\"\n",
    "    if !isfile(assembled_gfa)\n",
    "        run(`Bandage reduce $(assembled_fastg) $(assembled_gfa)`)\n",
    "    end\n",
    "\n",
    "    assembled_fasta = assembled_gfa * \".fna\"\n",
    "    if !isfile(assembled_fasta)\n",
    "        open(assembled_fasta, \"w\") do io\n",
    "            fastx_io = FASTX.FASTA.Writer(io)\n",
    "            gfa_graph = Mycelia.parse_gfa(assembled_gfa)\n",
    "            for v in Graphs.vertices(gfa_graph)\n",
    "                record = FASTX.FASTA.Record(gfa_graph.vprops[v][:identifier], gfa_graph.vprops[v][:sequence])\n",
    "                write(fastx_io, record)\n",
    "            end\n",
    "            close(fastx_io)\n",
    "        end\n",
    "    end\n",
    "\n",
    "    # generate a bandage plot of the assembly graph\n",
    "    bandage_outfile = \"$(assembled_gfa).bandage.jpg\"\n",
    "    if !isfile(bandage_outfile)\n",
    "        run(`Bandage image $(assembled_gfa) $bandage_outfile`)\n",
    "    end\n",
    "end"
   ]
  }
 ],
 "metadata": {
  "kernelspec": {
   "display_name": "Julia 1.6.7",
   "language": "julia",
   "name": "julia-1.6"
  },
  "language_info": {
   "file_extension": ".jl",
   "mimetype": "application/julia",
   "name": "julia",
   "version": "1.6.7"
  }
 },
 "nbformat": 4,
 "nbformat_minor": 5
}
