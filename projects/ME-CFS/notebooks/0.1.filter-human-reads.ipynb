{
 "cells": [
  {
   "cell_type": "code",
   "execution_count": null,
   "id": "ea9a488c-65e4-4108-8d0c-c3e392b34da4",
   "metadata": {},
   "outputs": [],
   "source": [
    "# import Pkg\n",
    "# Pkg.activate(\".\")\n",
    "\n",
    "# pkgs = [\n",
    "#     \"Revise\"\n",
    "# ]\n",
    "# Pkg.add(pkgs)\n",
    "# for pkg in pkgs\n",
    "#     eval(Meta.parse(\"import $pkg\"))\n",
    "# end\n",
    "\n",
    "# ENV[\"LD_LIBRARY_PATH\"] = \"\"\n",
    "\n",
    "# Pkg.develop(path=\"../../..\")\n",
    "# # Pkg.develop(url=\"https://github.com/cjprybol/Mycelia.git\")\n",
    "# import Mycelia"
   ]
  },
  {
   "cell_type": "code",
   "execution_count": null,
   "id": "cb118c02-c216-4da0-b13e-cc39c5efd605",
   "metadata": {},
   "outputs": [],
   "source": [
    "# data_directory = joinpath(dirname(pwd()), \"data\")"
   ]
  },
  {
   "cell_type": "code",
   "execution_count": null,
   "id": "1f4613b4-0be3-49a5-943c-4cf3658b34a3",
   "metadata": {},
   "outputs": [],
   "source": [
    "# sample_directories = readdir(data_directory, join=true)"
   ]
  },
  {
   "cell_type": "code",
   "execution_count": null,
   "id": "da9cb455-75da-41c7-8492-5de40c72e3d3",
   "metadata": {},
   "outputs": [],
   "source": [
    "reference_data_dir = mkpath(joinpath(dirname(pwd()), \"reference_data\"))"
   ]
  },
  {
   "cell_type": "code",
   "execution_count": null,
   "id": "152b70c8-ce88-4adc-8881-b48f56f9150b",
   "metadata": {},
   "outputs": [],
   "source": [
    "# manually download and unzip\n",
    "\n",
    "# target_genome = joinpath(reference_data_dir, \"GCF_000001405.40_GRCh38.p14_genomic.fna\")\n",
    "# if !isdir(target_folder)\n",
    "#     run(`curl -OJX GET \"https://api.ncbi.nlm.nih.gov/datasets/v2alpha/genome/accession/GCF_000001405.40/download?include_annotation_type=GENOME_FASTA&filename=GCF_000001405.40.zip\" -H \"Accept: application/zip\"`)\n",
    "#     target_zip = joinpath(reference_data_dir, \"GCF_000001405.40.zip\")\n",
    "#     mv(\"GCF_000001405.40.zip\", target_zip)\n",
    "#     run(`unzip $(target_zip)`)\n",
    "# end\n",
    "# mv(GCF_000001405.40_GRCh38.p14_genomic.fna)"
   ]
  },
  {
   "cell_type": "code",
   "execution_count": null,
   "id": "9249a9d0-8f15-42bc-aa32-5994ddaa887b",
   "metadata": {},
   "outputs": [],
   "source": [
    "# conda create -n bwa-mem2 -c bioconda bwa-mem2\n",
    "srun --partition=interactive --account=mpsnyder --time=24:00:00 --nodes=1 --ntasks=1 --cpus-per-task=8 conda run --no-capture-output -n bwa-mem2 bwa-mem2 index $HOME/workspace/Mycelia/projects/ME-CFS/reference_data/ncbi_dataset/data/GCF_000001405.40/GCF_000001405.40_GRCh38.p14_genomic.fna\n",
    "bwa-mem2-2.2.1_x64-linux/bwa-mem2 mem ref.fa read1.fq read2.fq > out.sam"
   ]
  },
  {
   "cell_type": "code",
   "execution_count": null,
   "id": "32877f52-8b18-4c2e-844c-c421ad26f9d6",
   "metadata": {},
   "outputs": [],
   "source": [
    "for sample_directory in sample_directories[2:end]\n",
    "    fastq_files = filter(x -> occursin(r\"\\.fq\\.gz$\", x), readdir(sample_directory, join=true))\n",
    "    sample_ids = unique(replace.(basename.(fastq_files), r\"_[12]\\.fq\\.gz\" => \"\"))\n",
    "    for sample_id in sample_ids\n",
    "        forward = joinpath(sample_directory, sample_id * \"_1.fq.gz\")\n",
    "        reverse = joinpath(sample_directory, sample_id * \"_2.fq.gz\")\n",
    "        output_directory = joinpath(sample_directory, sample_id * \"_trimgalore\")\n",
    "        run(`sbatch trim-galore.sh $(output_directory) $(forward) $(reverse)`)\n",
    "    end\n",
    "end"
   ]
  }
 ],
 "metadata": {
  "kernelspec": {
   "display_name": "Julia 1.6.7",
   "language": "julia",
   "name": "julia-1.6"
  },
  "language_info": {
   "file_extension": ".jl",
   "mimetype": "application/julia",
   "name": "julia",
   "version": "1.6.7"
  }
 },
 "nbformat": 4,
 "nbformat_minor": 5
}
