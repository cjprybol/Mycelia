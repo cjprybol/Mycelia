{
 "cells": [
  {
   "cell_type": "code",
   "execution_count": null,
   "id": "ea9a488c-65e4-4108-8d0c-c3e392b34da4",
   "metadata": {},
   "outputs": [],
   "source": [
    "# import Pkg\n",
    "# Pkg.activate(\".\")\n",
    "\n",
    "# pkgs = [\n",
    "#     \"Revise\"\n",
    "# ]\n",
    "# Pkg.add(pkgs)\n",
    "# for pkg in pkgs\n",
    "#     eval(Meta.parse(\"import $pkg\"))\n",
    "# end\n",
    "\n",
    "# ENV[\"LD_LIBRARY_PATH\"] = \"\"\n",
    "\n",
    "# Pkg.develop(path=\"../../..\")\n",
    "# # Pkg.develop(url=\"https://github.com/cjprybol/Mycelia.git\")\n",
    "# import Mycelia"
   ]
  },
  {
   "cell_type": "code",
   "execution_count": null,
   "id": "cb118c02-c216-4da0-b13e-cc39c5efd605",
   "metadata": {},
   "outputs": [],
   "source": [
    "data_directory = joinpath(dirname(pwd()), \"data\")"
   ]
  },
  {
   "cell_type": "code",
   "execution_count": null,
   "id": "1f4613b4-0be3-49a5-943c-4cf3658b34a3",
   "metadata": {},
   "outputs": [],
   "source": [
    "sample_directories = readdir(data_directory, join=true)"
   ]
  },
  {
   "cell_type": "code",
   "execution_count": null,
   "id": "da9cb455-75da-41c7-8492-5de40c72e3d3",
   "metadata": {},
   "outputs": [],
   "source": [
    "reference_data_dir = mkpath(joinpath(dirname(pwd()), \"reference_data\"))"
   ]
  },
  {
   "cell_type": "code",
   "execution_count": null,
   "id": "152b70c8-ce88-4adc-8881-b48f56f9150b",
   "metadata": {},
   "outputs": [],
   "source": [
    "# manually download and unzip\n",
    "\n",
    "# target_genome = joinpath(reference_data_dir, \"GCF_000001405.40_GRCh38.p14_genomic.fna\")\n",
    "# if !isdir(target_folder)\n",
    "#     run(`curl -OJX GET \"https://api.ncbi.nlm.nih.gov/datasets/v2alpha/genome/accession/GCF_000001405.40/download?include_annotation_type=GENOME_FASTA&filename=GCF_000001405.40.zip\" -H \"Accept: application/zip\"`)\n",
    "#     target_zip = joinpath(reference_data_dir, \"GCF_000001405.40.zip\")\n",
    "#     mv(\"GCF_000001405.40.zip\", target_zip)\n",
    "#     run(`unzip $(target_zip)`)\n",
    "# end\n",
    "# mv(GCF_000001405.40_GRCh38.p14_genomic.fna)"
   ]
  },
  {
   "cell_type": "code",
   "execution_count": null,
   "id": "9249a9d0-8f15-42bc-aa32-5994ddaa887b",
   "metadata": {},
   "outputs": [],
   "source": [
    "# conda create -n bwa-mem2 -c bioconda bwa-mem2\n",
    "# srun --partition=interactive --account=mpsnyder --time=24:00:00 --nodes=1 --ntasks=1 --cpus-per-task=8 conda run --no-capture-output -n bwa-mem2 bwa-mem2 index $HOME/workspace/Mycelia/projects/ME-CFS/reference_data/ncbi_dataset/data/GCF_000001405.40/GCF_000001405.40_GRCh38.p14_genomic.fna\n",
    "# conda run --no-capture-output -n bwa-mem2 bwa-mem2 index $HOME/workspace/Mycelia/projects/ME-CFS/reference_data/ncbi_dataset/data/GCF_000001405.40/GCF_000001405.40_GRCh38.p14_genomic.fna\n",
    "# bwa-mem2-2.2.1_x64-linux/bwa-mem2 mem ref.fa read1.fq read2.fq > out.sam"
   ]
  },
  {
   "cell_type": "code",
   "execution_count": null,
   "id": "da6a6a03-5a15-426f-894b-9e66b5f3aeba",
   "metadata": {},
   "outputs": [],
   "source": [
    "fasta = joinpath(reference_data_dir, \"ncbi_dataset\", \"data\", \"GCF_000001405.40\", \"GCF_000001405.40_GRCh38.p14_genomic.fna\")"
   ]
  },
  {
   "cell_type": "code",
   "execution_count": null,
   "id": "32877f52-8b18-4c2e-844c-c421ad26f9d6",
   "metadata": {},
   "outputs": [],
   "source": [
    "for sample_directory in sample_directories\n",
    "    fastq_files = filter(x -> occursin(r\"\\.fq\\.gz$\", x), readdir(sample_directory, join=true))\n",
    "    sample_ids = unique(replace.(basename.(fastq_files), r\"_[12]\\.fq\\.gz\" => \"\"))\n",
    "    for sample_id in sample_ids\n",
    "        trim_galore_directory = joinpath(sample_directory, sample_id * \"_trimgalore\")\n",
    "        forward = joinpath(trim_galore_directory, sample_id * \"_1_val_1.fq.gz\")\n",
    "        reverse = joinpath(trim_galore_directory, sample_id * \"_2_val_2.fq.gz\")\n",
    "        @assert isfile(forward) && isfile(reverse)\n",
    "        \n",
    "        outfile = joinpath(trim_galore_directory, sample_id * \".\" * basename(fasta) * \".sorted.bam\")\n",
    "        if !isfile(outfile)\n",
    "            # @show \"need to run\"\n",
    "            run(`sbatch 0.1.bwa-mem.sh $(fasta) $(forward) $(reverse) $(outfile)`)\n",
    "        else\n",
    "            @show \"$(outfile) already exists\"\n",
    "        end\n",
    "    end\n",
    "end"
   ]
  },
  {
   "cell_type": "code",
   "execution_count": null,
   "id": "708740ae-352b-4e64-a9bd-d90d48431a6c",
   "metadata": {},
   "outputs": [],
   "source": [
    "# conda run --live-stream --no-capture-output -n samtools samtools -h\n",
    "# conda create -n bedtools -c bioconda bedtools"
   ]
  },
  {
   "cell_type": "code",
   "execution_count": null,
   "id": "264e1334-2fa4-4c77-b012-b9658b925819",
   "metadata": {},
   "outputs": [],
   "source": [
    "# conda create -n bedtools -c bioconda bedtools\n",
    "# conda run --live-stream --no-capture-output -n bedtools bedtools\n",
    "for sample_directory in sample_directories\n",
    "    fastq_files = filter(x -> occursin(r\"\\.fq\\.gz$\", x), readdir(sample_directory, join=true))\n",
    "    sample_ids = unique(replace.(basename.(fastq_files), r\"_[12]\\.fq\\.gz\" => \"\"))\n",
    "    for sample_id in sample_ids\n",
    "        trim_galore_directory = joinpath(sample_directory, sample_id * \"_trimgalore\")\n",
    "        bamfile = joinpath(trim_galore_directory, sample_id * \".\" * basename(fasta) * \".sorted.bam\")\n",
    "        unmapped_forward = \"$(bamfile).unmapped.1.fq\"\n",
    "        unmapped_reverse = \"$(bamfile).unmapped.2.fq\"\n",
    "        unmapped_singletons = \"$(bamfile).unmapped.fq\"\n",
    "        gzipped_unmapped_forward = \"$(unmapped_forward).gz\"\n",
    "        gzipped_unmapped_reverse = \"$(unmapped_reverse).gz\"\n",
    "        gzipped_unmapped_singletons = \"$(unmapped_singletons).gz\"\n",
    "        if (!isfile(gzipped_unmapped_forward) || !isfile(gzipped_unmapped_reverse))\n",
    "            if (!isfile(unmapped_forward) || !isfile(unmapped_reverse))\n",
    "                run(`conda run --live-stream --no-capture-output -n samtools samtools fastq -f 4 -1 $(unmapped_forward) -2 $(unmapped_reverse) -0 /dev/null -s $(unmapped_singletons) -n $(bamfile)`)\n",
    "            end\n",
    "            isfile(unmapped_forward) && run(`gzip $(unmapped_forward)`)\n",
    "            isfile(unmapped_reverse) && run(`gzip $(unmapped_reverse)`)\n",
    "            isfile(unmapped_singletons) && run(`gzip $(unmapped_singletons)`)\n",
    "        else\n",
    "            println(\"$(bamfile) unmapped reads already extracted\")\n",
    "        end\n",
    "    end\n",
    "end"
   ]
  }
 ],
 "metadata": {
  "kernelspec": {
   "display_name": "Julia 1.6.7",
   "language": "julia",
   "name": "julia-1.6"
  },
  "language_info": {
   "file_extension": ".jl",
   "mimetype": "application/julia",
   "name": "julia",
   "version": "1.6.7"
  }
 },
 "nbformat": 4,
 "nbformat_minor": 5
}
