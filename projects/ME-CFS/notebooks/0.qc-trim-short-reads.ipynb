{
 "cells": [
  {
   "cell_type": "code",
   "execution_count": null,
   "id": "d721fa48-b788-4576-9cab-b93b33daf55e",
   "metadata": {
    "tags": []
   },
   "outputs": [],
   "source": [
    "import Pkg\n",
    "Pkg.activate(\".\")\n",
    "\n",
    "pkgs = [\n",
    "    \"Revise\"\n",
    "]\n",
    "Pkg.add(pkgs)\n",
    "for pkg in pkgs\n",
    "    eval(Meta.parse(\"import $pkg\"))\n",
    "end\n",
    "\n",
    "# Pkg.develop(path=\"../../..\")\n",
    "Pkg.develop(url=\"https://github.com/cjprybol/Mycelia.git\")\n",
    "import Mycelia"
   ]
  },
  {
   "cell_type": "code",
   "execution_count": null,
   "id": "ef1233a4-12ec-480e-ac90-215b77c315e6",
   "metadata": {},
   "outputs": [],
   "source": [
    "# get the list of files"
   ]
  },
  {
   "cell_type": "code",
   "execution_count": null,
   "id": "be34ce03-ca94-498f-adae-195bdbb044c2",
   "metadata": {},
   "outputs": [],
   "source": [
    "# trim and pre-process them all"
   ]
  },
  {
   "cell_type": "code",
   "execution_count": null,
   "id": "9767c539-d540-498f-8ff2-55b450287543",
   "metadata": {
    "tags": []
   },
   "outputs": [],
   "source": [
    "Mycelia.trim_galore(;outdir=\"\", identifier=\"\")"
   ]
  }
 ],
 "metadata": {
  "kernelspec": {
   "display_name": "Julia 1.6.7",
   "language": "julia",
   "name": "julia-1.6"
  },
  "language_info": {
   "file_extension": ".jl",
   "mimetype": "application/julia",
   "name": "julia",
   "version": "1.6.7"
  }
 },
 "nbformat": 4,
 "nbformat_minor": 5
}
