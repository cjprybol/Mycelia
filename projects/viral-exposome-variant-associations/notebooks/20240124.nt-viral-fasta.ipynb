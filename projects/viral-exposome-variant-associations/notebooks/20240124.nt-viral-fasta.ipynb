{
 "cells": [
  {
   "cell_type": "code",
   "execution_count": null,
   "id": "fcf147cc-a2a0-418d-9aa6-48aa8b505efe",
   "metadata": {},
   "outputs": [],
   "source": [
    "import Pkg\n",
    "pkgs = [\n",
    "    \"Revise\",\n",
    "    # \"DataFrames\",\n",
    "    # \"uCSV\",\n",
    "    # \"Random\",\n",
    "    # \"ProgressMeter\",\n",
    "    # \"FASTX\",\n",
    "]\n",
    "# Pkg.add(pkgs)\n",
    "for pkg in pkgs\n",
    "    eval(Meta.parse(\"import $pkg\"))\n",
    "end\n",
    "import Mycelia"
   ]
  },
  {
   "cell_type": "code",
   "execution_count": null,
   "id": "457402c5-0c5a-4f91-880c-cc7ddad9b8f8",
   "metadata": {},
   "outputs": [],
   "source": [
    "project_dir = dirname(pwd())\n",
    "data_dir = mkpath(joinpath(project_dir, \"data\"))"
   ]
  },
  {
   "cell_type": "code",
   "execution_count": null,
   "id": "159112b6-acde-4efd-92f4-30efec1af31c",
   "metadata": {},
   "outputs": [],
   "source": [
    "readdir(data_dir)"
   ]
  },
  {
   "cell_type": "code",
   "execution_count": null,
   "id": "2b766ec3-897c-4649-9542-cca1da31d0b7",
   "metadata": {},
   "outputs": [],
   "source": [
    "Pkg.build(\"Mycelia\")"
   ]
  },
  {
   "cell_type": "code",
   "execution_count": null,
   "id": "e9a28307-5725-4102-9502-fbc49b21229b",
   "metadata": {},
   "outputs": [],
   "source": [
    "?Mycelia.download_blast_db"
   ]
  },
  {
   "cell_type": "code",
   "execution_count": null,
   "id": "27c0d313-8eb9-4765-aa7d-cab9cafe8128",
   "metadata": {},
   "outputs": [],
   "source": []
  }
 ],
 "metadata": {
  "kernelspec": {
   "display_name": "Julia 1.6.7",
   "language": "julia",
   "name": "julia-1.6"
  },
  "language_info": {
   "file_extension": ".jl",
   "mimetype": "application/julia",
   "name": "julia",
   "version": "1.6.7"
  }
 },
 "nbformat": 4,
 "nbformat_minor": 5
}
