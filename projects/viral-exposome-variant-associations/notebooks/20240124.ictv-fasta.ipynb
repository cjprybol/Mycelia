{
 "cells": [
  {
   "cell_type": "code",
   "execution_count": null,
   "id": "61bc3637-25f1-4693-bce8-1b29a904b3f8",
   "metadata": {},
   "outputs": [],
   "source": [
    "import Pkg\n",
    "pkgs = [\n",
    "    \"Revise\",\n",
    "    \"DataFrames\",\n",
    "    \"uCSV\",\n",
    "    \"Random\",\n",
    "    \"ProgressMeter\",\n",
    "    \"FASTX\",\n",
    "]\n",
    "# Pkg.add(pkgs)\n",
    "for pkg in pkgs\n",
    "    eval(Meta.parse(\"import $pkg\"))\n",
    "end\n",
    "import Mycelia"
   ]
  },
  {
   "cell_type": "code",
   "execution_count": null,
   "id": "612c08fc-bc12-474f-9709-a2fe6f0c0231",
   "metadata": {},
   "outputs": [],
   "source": [
    "project_dir = dirname(pwd())\n",
    "data_dir = mkpath(joinpath(project_dir, \"data\"))\n",
    "# https://ictv.global/vmr/current"
   ]
  },
  {
   "cell_type": "code",
   "execution_count": null,
   "id": "4ff1a26e-6d80-4081-b0d1-cf8117e72ad1",
   "metadata": {},
   "outputs": [],
   "source": [
    "readdir(data_dir)"
   ]
  },
  {
   "cell_type": "code",
   "execution_count": null,
   "id": "45d00884-4750-441f-90ba-0618b5676f64",
   "metadata": {},
   "outputs": [],
   "source": [
    "ictv_vmr_file = joinpath(data_dir, \"VMR_MSL38_v2.tsv\")"
   ]
  },
  {
   "cell_type": "code",
   "execution_count": null,
   "id": "ccdee7ce-1e23-4434-b21f-c816297e32f3",
   "metadata": {},
   "outputs": [],
   "source": [
    "ictv_table = DataFrames.DataFrame(uCSV.read(ictv_vmr_file, delim='\\t', header=1, typedetectrows=100))"
   ]
  },
  {
   "cell_type": "code",
   "execution_count": null,
   "id": "83523124-ef34-4650-8441-333def0e124d",
   "metadata": {},
   "outputs": [],
   "source": [
    "outdir = mkpath(joinpath(data_dir, \"ictv_genomes\"))"
   ]
  },
  {
   "cell_type": "code",
   "execution_count": null,
   "id": "8c6c2bd2-f567-4368-b5f0-c2a43efbe297",
   "metadata": {},
   "outputs": [],
   "source": [
    "accessions = reduce(vcat, map(x -> strip.(last.(split.(split(x, ';'), ':'))), unique(filter(!isempty, ictv_table[!, \"Virus GENBANK accession\"]))))\n",
    "accessions = unique(first.(split.(accessions)))"
   ]
  },
  {
   "cell_type": "code",
   "execution_count": null,
   "id": "d52cd8cb-dbc3-438f-b264-a4f7e5a6d176",
   "metadata": {},
   "outputs": [],
   "source": [
    "ProgressMeter.@showprogress for accession in Random.shuffle(accessions)\n",
    "    outfile = joinpath(outdir, accession * \".fna\")\n",
    "    if !isfile(outfile) || (filesize(outfile) == 0)\n",
    "        try\n",
    "            fasta_records = collect(Mycelia.get_sequence(db = \"nuccore\", accession = accession))\n",
    "            open(outfile, \"w\") do io\n",
    "                fastx_io = FASTX.FASTA.Writer(io)\n",
    "                for fasta_record in fasta_records\n",
    "                    write(fastx_io, fasta_record)\n",
    "                end\n",
    "                close(fastx_io)\n",
    "            end\n",
    "        catch e\n",
    "            println(\"An error occurred: \", e)\n",
    "        end\n",
    "    end\n",
    "end"
   ]
  }
 ],
 "metadata": {
  "kernelspec": {
   "display_name": "Julia 1.6.7",
   "language": "julia",
   "name": "julia-1.6"
  },
  "language_info": {
   "file_extension": ".jl",
   "mimetype": "application/julia",
   "name": "julia",
   "version": "1.6.7"
  }
 },
 "nbformat": 4,
 "nbformat_minor": 5
}
