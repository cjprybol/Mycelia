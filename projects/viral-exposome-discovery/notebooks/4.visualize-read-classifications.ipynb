{
 "cells": [
  {
   "cell_type": "code",
   "execution_count": null,
   "id": "28afd0da-a1e3-48ad-a12a-8bbb3a8d19c2",
   "metadata": {
    "tags": []
   },
   "outputs": [],
   "source": [
    "import Pkg\n",
    "\n",
    "# clean environment on each run to get around unregistered package issues\n",
    "isfile(\"Project.toml\") && rm(\"Project.toml\")\n",
    "isfile(\"Manifest.toml\") && rm(\"Manifest.toml\")\n",
    "Pkg.activate(\".\")\n",
    "Pkg.add(\"Revise\")\n",
    "import Revise\n",
    "\n",
    "Pkg.develop(url=\"../../..\")\n",
    "import Mycelia\n",
    "\n",
    "pkgs = [\n",
    "\"DataFrames\",\n",
    "\"StatsBase\",\n",
    "\"StatsPlots\",\n",
    "\"uCSV\",\n",
    "\"ProgressMeter\",\n",
    "\"Distances\",\n",
    "\"Clustering\",\n",
    "\"Colors\",\n",
    "\"MultivariateStats\"\n",
    "]\n",
    "Pkg.add(pkgs)\n",
    "for pkg in pkgs\n",
    "    eval(Meta.parse(\"import $pkg\"))\n",
    "end"
   ]
  },
  {
   "cell_type": "code",
   "execution_count": null,
   "id": "9840a8cc-e195-483d-8301-1bddc7df374b",
   "metadata": {
    "tags": []
   },
   "outputs": [],
   "source": [
    "kraken_db = \"k2_pluspfp_20221209\"\n",
    "# kraken_db = \"k2_pluspfp_08gb_20231009\"\n",
    "# kraken_db = \"k2_pluspfp_16gb_20231009\""
   ]
  },
  {
   "cell_type": "code",
   "execution_count": null,
   "id": "fe2d85c2-e4b1-49a7-a1dc-f63d077d8e84",
   "metadata": {
    "tags": []
   },
   "outputs": [],
   "source": [
    "data_dir = joinpath(dirname(pwd()), \"data\")"
   ]
  },
  {
   "cell_type": "code",
   "execution_count": null,
   "id": "f3304aff-17bb-48c4-9726-6a597b321da9",
   "metadata": {
    "tags": []
   },
   "outputs": [],
   "source": [
    "results_dir = joinpath(data_dir, \"results\")"
   ]
  },
  {
   "cell_type": "code",
   "execution_count": null,
   "id": "9f1d50c8-9095-4757-9b20-9b54ffec3c95",
   "metadata": {
    "tags": []
   },
   "outputs": [],
   "source": [
    "kraken_reports = readdir(joinpath(results_dir, \"kraken\"), join=true)"
   ]
  },
  {
   "cell_type": "code",
   "execution_count": null,
   "id": "0c9d3c0d-6ca1-47f9-802b-d352ee889822",
   "metadata": {
    "tags": []
   },
   "outputs": [],
   "source": [
    "taxon_levels = Mycelia.list_ranks()"
   ]
  },
  {
   "cell_type": "code",
   "execution_count": null,
   "id": "8d13bdac-1a2e-454a-8f9d-430a3f49663d",
   "metadata": {
    "tags": []
   },
   "outputs": [],
   "source": [
    "viral_taxids = Set(Mycelia.list_subtaxa(10239))"
   ]
  },
  {
   "cell_type": "code",
   "execution_count": null,
   "id": "3a6be592-0df7-49ea-ba1c-ab66b5ff7ea2",
   "metadata": {
    "tags": []
   },
   "outputs": [],
   "source": [
    "# i = 1\n",
    "# i = 2\n",
    "# i = 3\n",
    "# i = 4\n",
    "# i = 5\n",
    "# i = 6\n",
    "# i = 7\n",
    "# i = 8\n",
    "i = 9\n",
    "\n",
    "(taxon_index, taxon_level) = collect(enumerate(taxon_levels))[i]\n",
    "println(\"$(taxon_index) - $(taxon_level)\")\n",
    "rank_table = Mycelia.list_rank(taxon_level)"
   ]
  },
  {
   "cell_type": "code",
   "execution_count": null,
   "id": "633b8ff5-5874-4f87-bbfa-b2920b04216a",
   "metadata": {
    "tags": []
   },
   "outputs": [],
   "source": [
    "# HERE IS WHERE WE APPLY VIRAL FILTERING\n",
    "if taxon_index > 2\n",
    "    taxid_is_viral = map(taxid -> taxid in viral_taxids, rank_table[!, \"taxid\"])\n",
    "    rank_table = rank_table[taxid_is_viral, :]\n",
    "end\n",
    "rank_table"
   ]
  },
  {
   "cell_type": "code",
   "execution_count": null,
   "id": "a393c14c-b288-4af2-a840-3939b00e2e86",
   "metadata": {
    "tags": []
   },
   "outputs": [],
   "source": [
    "# turn me into a function that accepts a rank table and a list of kraken reports as well as an output\n",
    "rank_taxids = Set(rank_table[!, \"taxid\"])\n",
    "cross_sample_taxon_report = joinpath(results_dir, \"$(kraken_db).$(taxon_level).tsv\")\n",
    "# if !isfile(cross_sample_taxon_report)\n",
    "cross_sample_taxon_report_table = DataFrames.DataFrame()\n",
    "ProgressMeter.@showprogress for kraken_report in kraken_reports\n",
    "    report_table = Mycelia.read_kraken_report(kraken_report)\n",
    "    taxon_level_report = report_table[map(x -> x in rank_taxids, report_table[!, \"ncbi_taxonid\"]), :]\n",
    "    taxon_level_report[!, \"sample_identifier\"] .= basename(kraken_report)\n",
    "    append!(cross_sample_taxon_report_table, taxon_level_report)\n",
    "end\n",
    "cross_sample_taxon_report_table = cross_sample_taxon_report_table[map(x -> !isnan(x), cross_sample_taxon_report_table[!, \"percentage_of_fragments_at_or_below_taxon\"]), :]\n",
    "uCSV.write(cross_sample_taxon_report, cross_sample_taxon_report_table, delim='\\t')\n",
    "# else\n",
    "# cross_sample_taxon_report_table = DataFrames.DataFrame(uCSV.read(cross_sample_taxon_report, delim='\\t', header=1))\n",
    "# end"
   ]
  },
  {
   "cell_type": "code",
   "execution_count": null,
   "id": "2a832504-74b7-4877-afc5-37d8bd643b63",
   "metadata": {
    "tags": []
   },
   "outputs": [],
   "source": [
    "# cross_sample_taxon_report_table = cross_sample_taxon_report_table[map(x -> !isnan(x), cross_sample_taxon_report_table[!, \"percentage_of_fragments_at_or_below_taxon\"]), :]\n",
    "# uCSV.write(cross_sample_taxon_report, cross_sample_taxon_report_table, delim='\\t')"
   ]
  },
  {
   "cell_type": "code",
   "execution_count": null,
   "id": "78cee49a-5b5a-48e6-a8e6-9d4b270f38a8",
   "metadata": {
    "tags": []
   },
   "outputs": [],
   "source": [
    "# this could be a function here"
   ]
  },
  {
   "cell_type": "code",
   "execution_count": null,
   "id": "5a1b0ada-b277-4b36-b785-633d63d72522",
   "metadata": {
    "tags": []
   },
   "outputs": [],
   "source": [
    "cross_sample_taxon_report_summary = cross_sample_taxon_report_table[!, \n",
    "    DataFrames.Not([\n",
    "            \"percentage_of_fragments_at_or_below_taxon\",\n",
    "            \"number_of_fragments_assigned_directly_to_taxon\",\n",
    "            \"rank\"\n",
    "        ])]\n",
    "cross_sample_taxon_report_summary[!, \"taxon\"] = map(row -> string(row[\"ncbi_taxonid\"]) * \"_\" * row[\"scientific_name\"], DataFrames.eachrow(cross_sample_taxon_report_summary))\n",
    "cross_sample_taxon_report_summary = cross_sample_taxon_report_summary[!, DataFrames.Not([\n",
    "            \"ncbi_taxonid\",\n",
    "            \"scientific_name\"\n",
    "        ])]\n",
    "\n",
    "# assert sortedness & uniqueness (should be a no-op)\n",
    "unique!(DataFrames.sort!(cross_sample_taxon_report_summary, [\"sample_identifier\", \"taxon\"]))"
   ]
  },
  {
   "cell_type": "code",
   "execution_count": null,
   "id": "75fe1bcf-c7a3-4996-8e5b-21b19b0eb26e",
   "metadata": {
    "tags": []
   },
   "outputs": [],
   "source": [
    "taxa = sort(unique(cross_sample_taxon_report_summary[!, \"taxon\"]))\n",
    "samples = sort(unique(cross_sample_taxon_report_summary[!, \"sample_identifier\"]))\n",
    "values = zeros(length(samples), length(taxa))\n",
    "ProgressMeter.@showprogress for (column_index, taxon_table) in enumerate(DataFrames.groupby(cross_sample_taxon_report_summary, \"taxon\"))\n",
    "    taxon = taxon_table[1, \"taxon\"]\n",
    "    @assert taxa[column_index] == taxon\n",
    "    for (row_index, sample_table) in enumerate(DataFrames.groupby(taxon_table, \"sample_identifier\"))\n",
    "        @assert DataFrames.nrow(sample_table) == 1\n",
    "        row = sample_table[1, :]\n",
    "        sample = row[\"sample_identifier\"]\n",
    "        @assert samples[row_index] == sample\n",
    "        values[row_index, column_index] = row[\"number_of_fragments_at_or_below_taxon\"]\n",
    "    end\n",
    "end\n",
    "values"
   ]
  },
  {
   "cell_type": "code",
   "execution_count": null,
   "id": "3586e295-8e6f-4dbf-9ef5-a22db24f3899",
   "metadata": {
    "tags": []
   },
   "outputs": [],
   "source": [
    "# sort taxa so largest single sample taxa is first\n",
    "taxa_frequency_ordering = sortperm(maximum.(eachcol(values)))\n",
    "values = values[:, taxa_frequency_ordering]\n",
    "taxa = taxa[taxa_frequency_ordering]\n",
    "# find taxa that have no representation, and filter them out\n",
    "taxa_is_detected = [sum(col) > 0 for col in eachcol(values)]\n",
    "values = values[:, taxa_is_detected]\n",
    "taxa = taxa[taxa_is_detected]"
   ]
  },
  {
   "cell_type": "code",
   "execution_count": null,
   "id": "6f4fa609-bebf-4229-9c37-8c0ebe2dc813",
   "metadata": {
    "tags": []
   },
   "outputs": [],
   "source": [
    "normalized_values = values ./ sum(values, dims=2)\n",
    "samples = string.(first.(split.(samples, '.')))"
   ]
  },
  {
   "cell_type": "code",
   "execution_count": null,
   "id": "5911e46d-b6b1-43ef-a4e6-3d2c3f0ae144",
   "metadata": {
    "tags": []
   },
   "outputs": [],
   "source": [
    "colorscheme = Colors.distinguishable_colors(length(taxa), [Colors.RGB(1,1,1), Colors.RGB(0,0,0)], dropseed=true)\n",
    "# top level classification rank to show absolute reads per sample\n",
    "# not very helpful at lower ranks since low read depth samples are too hard to see breakdowns\n",
    "\n",
    "bottommargin = max(100, maximum(length.(samples)) * 3)\n",
    "leftmargin = 150\n",
    "rightmargin = 25\n",
    "topmargin = 25\n",
    "\n",
    "width = max(1920, (length(samples) * 10) + 300)\n",
    "height = max(1080, bottommargin + 600)\n",
    "\n",
    "if taxon_index in [1, 2]\n",
    "    plot = StatsPlots.groupedbar(\n",
    "        values,\n",
    "        title = \"read-classification - kraken - $(kraken_db) - $(taxon_level)\",\n",
    "        titlefontsize = 12,\n",
    "        xticks = (1:length(samples), samples),\n",
    "        xlims = (0, length(samples)+1),\n",
    "        xtickfontsize = 6,\n",
    "        size= (width, height),\n",
    "        xrotation=90,\n",
    "        ylabel = \"number of reads\",\n",
    "        labels = hcat(taxa...),\n",
    "        leftmargin = (leftmargin)StatsPlots.Plots.PlotMeasures.px,\n",
    "        topmargin = (topmargin)StatsPlots.Plots.PlotMeasures.px,\n",
    "        rightmargin = (rightmargin)StatsPlots.Plots.PlotMeasures.px,\n",
    "        bottommargin = (bottommargin)StatsPlots.Plots.PlotMeasures.px,\n",
    "        legendmargins = 0,\n",
    "        legend = :outertopright,\n",
    "        legendfontsize = 6,\n",
    "        bar_position = :stack,\n",
    "        bar_width=0.7,\n",
    "        seriescolor = hcat(reverse(colorscheme)...)\n",
    "    )\n",
    "    # display(plot)\n",
    "    # for extension in [\".png\", \".svg\"]\n",
    "    for extension in [\".png\"]\n",
    "        file = joinpath(results_dir, \"taxonomic-breakdowns.kraken.$(kraken_db).$(taxon_index).$(taxon_level).total-reads\") * extension\n",
    "        StatsPlots.savefig(plot, file)\n",
    "    end\n",
    "end"
   ]
  },
  {
   "cell_type": "code",
   "execution_count": null,
   "id": "863a02ba-c481-43b5-9180-7bafe8cdcb5e",
   "metadata": {
    "tags": []
   },
   "outputs": [],
   "source": [
    "################################################################################################\n",
    "\n",
    "# re-tune height to be proportional to size of taxa list (tall legends)\n",
    "height = max(height, length(taxa)*11)\n",
    "plot = StatsPlots.groupedbar(\n",
    "    normalized_values,\n",
    "    title = \"read-classification - kraken - $(kraken_db) - $(taxon_level)\",\n",
    "    titlefontsize = 12,\n",
    "    xticks = (1:length(samples), samples),\n",
    "    xlims = (0, length(samples)+1),\n",
    "    xtickfontsize = 6,\n",
    "    size= (width, height),\n",
    "    xrotation=90,\n",
    "    ylabel = \"proportion of reads\",\n",
    "    labels = hcat(taxa...),\n",
    "    leftmargin = (leftmargin)StatsPlots.Plots.PlotMeasures.px,\n",
    "    topmargin = (topmargin)StatsPlots.Plots.PlotMeasures.px,\n",
    "    rightmargin = (rightmargin)StatsPlots.Plots.PlotMeasures.px,\n",
    "    bottommargin = (bottommargin)StatsPlots.Plots.PlotMeasures.px,\n",
    "    legendmargins = 0,\n",
    "    legend = :outertopright,\n",
    "    bar_position = :stack,\n",
    "    bar_width=0.7,\n",
    "    seriescolor = hcat(reverse(colorscheme)...),\n",
    "    legendfontsize = 6,\n",
    ")\n",
    "\n",
    "# for extension in [\".png\", \".svg\"]\n",
    "for extension in [\".png\"]\n",
    "    file = joinpath(results_dir, \"taxonomic-breakdowns.kraken.$(kraken_db).$(taxon_index).$(taxon_level).normalized-reads\") * extension\n",
    "    StatsPlots.savefig(plot, file)\n",
    "end"
   ]
  },
  {
   "cell_type": "code",
   "execution_count": null,
   "id": "feffb323-efb1-4f83-8f0f-93bde0d6ed31",
   "metadata": {
    "tags": []
   },
   "outputs": [],
   "source": [
    "################################################################################################\n",
    "distance_matrix = Distances.pairwise(Distances.Euclidean(), normalized_values, dims=1)\n",
    "clustering = Clustering.hclust(distance_matrix, branchorder=:optimal)\n",
    "cluster_plot = StatsPlots.plot(\n",
    "    clustering,\n",
    "    xlims = (0, length(samples)+1),\n",
    "    title = \"read-classification - kraken - $(kraken_db) - $(taxon_level)\",\n",
    "    titlefontsize = 12,\n",
    "    bottommargin = 0StatsPlots.Plots.PlotMeasures.px,\n",
    "    leftmargin = (leftmargin)StatsPlots.Plots.PlotMeasures.px,\n",
    "    rightmargin = (rightmargin)StatsPlots.Plots.PlotMeasures.px,\n",
    "    topmargin = (topmargin)StatsPlots.Plots.PlotMeasures.px,\n",
    "    xticks = false,\n",
    "    yticks = false,\n",
    "    yaxis = false,\n",
    "    xaxis = false\n",
    ")\n",
    "taxonomy_plot = StatsPlots.groupedbar(\n",
    "    normalized_values[clustering.order, :],\n",
    "    bar_position = :stack,\n",
    "    leftmargin = (leftmargin)StatsPlots.Plots.PlotMeasures.px,\n",
    "    topmargin = 0StatsPlots.Plots.PlotMeasures.px,\n",
    "    rightmargin = (rightmargin)StatsPlots.Plots.PlotMeasures.px,\n",
    "    bottommargin = (bottommargin)StatsPlots.Plots.PlotMeasures.px,\n",
    "    legendmargins = 0,\n",
    "    xticks = (1:length(samples), samples[clustering.order]),\n",
    "    xtickfontsize = 4,\n",
    "    xrotation=90,\n",
    "    xlims = (0, length(samples)+1),\n",
    "    size= (width, height),\n",
    "    ylabel = \"proportion of reads\",\n",
    "    seriescolor = hcat(reverse(colorscheme)...),\n",
    "    legend = false,\n",
    "    labels = hcat(taxa...),\n",
    "    legendfontsize = 6,\n",
    ")\n",
    "\n",
    "plot = StatsPlots.plot(\n",
    "    cluster_plot,\n",
    "    taxonomy_plot,\n",
    "    margins = 0StatsPlots.Plots.PlotMeasures.px,\n",
    "    layout=StatsPlots.grid(2,1, heights=[0.2,0.8])\n",
    ")\n",
    "# display(plot)\n",
    "# for extension in [\".png\", \".svg\"]\n",
    "for extension in [\".png\"]\n",
    "    file = joinpath(results_dir, \"taxonomic-breakdowns.kraken.$(kraken_db).$(taxon_index).$(taxon_level).normalized-reads.clustered\") * extension\n",
    "    StatsPlots.savefig(plot, file)\n",
    "end"
   ]
  },
  {
   "cell_type": "code",
   "execution_count": null,
   "id": "755b2845-6a2b-4ff8-9ec4-e023a6fa6119",
   "metadata": {
    "tags": []
   },
   "outputs": [],
   "source": [
    "fit_pca = MultivariateStats.fit(MultivariateStats.PCA, normalized_values')\n",
    "transformed_observations = MultivariateStats.transform(fit_pca, normalized_values')\n",
    "\n",
    "xs = transformed_observations[1, :]\n",
    "if size(transformed_observations, 1) >= 2\n",
    "    ys = transformed_observations[2, :]\n",
    "else\n",
    "    ys = zeros(length(xs))\n",
    "end\n",
    "if size(transformed_observations, 1) >= 3\n",
    "    zs = transformed_observations[3, :]\n",
    "else\n",
    "    zs = zeros(length(xs))\n",
    "end\n",
    "\n",
    "plot = \n",
    "StatsPlots.scatter(\n",
    "    xs,\n",
    "    ys,\n",
    "    zs,\n",
    "    xlabel = \"PC1\",\n",
    "    ylabel = \"PC2\",\n",
    "    zlabel = \"PC3\",\n",
    "    legend=false,\n",
    "    title = \"read-classification - kraken - $(kraken_db) - $(taxon_level)\",\n",
    "    titlefontsize = 10,\n",
    "    size = (640, 480),\n",
    "    margins = 20StatsPlots.px,\n",
    ")\n",
    "\n",
    "display(plot)\n",
    "for extension in [\".png\"]\n",
    "    file = joinpath(results_dir, \"taxonomic-breakdowns.kraken.$(kraken_db).$(taxon_index).$(taxon_level).pca\") * extension\n",
    "    StatsPlots.savefig(plot, file)\n",
    "end"
   ]
  },
  {
   "cell_type": "code",
   "execution_count": null,
   "id": "978925e1-c04a-4f18-91a8-5b5a929770c8",
   "metadata": {
    "tags": []
   },
   "outputs": [],
   "source": [
    "# - loop through the above\n",
    "# - make a matrix where each row is a taxon rank and each column is a dataset\n",
    "# - make stacked barplots for each sample"
   ]
  },
  {
   "cell_type": "code",
   "execution_count": null,
   "id": "90c08969-dbc4-4abb-a298-364af5ed3ef2",
   "metadata": {
    "tags": []
   },
   "outputs": [],
   "source": [
    "# colorscheme = Colors.distinguishable_colors(length(taxa), [Colors.RGB(1,1,1), Colors.RGB(0,0,0)], dropseed=true)\n",
    "# # top level classification rank to show absolute reads per sample\n",
    "# # not very helpful at lower ranks since low read depth samples are too hard to see breakdowns\n",
    "\n",
    "# bottommargin = (maximum(length.(samples)) * 3)\n",
    "# leftmargin = 150\n",
    "# rightmargin = 25\n",
    "# topmargin = 25\n",
    "\n",
    "# width = max(1920, (length(samples) * 10) + 300)\n",
    "# height = max(1080, bottommargin + 600)\n",
    "\n",
    "# if taxon_index in [1, 2]\n",
    "#     plot = StatsPlots.groupedbar(\n",
    "#         values,\n",
    "#         title = \"read-classification - kraken - $(kraken_db) - $(taxon_level)\",\n",
    "#         titlefontsize = 12,\n",
    "#         xticks = (1:length(samples), samples),\n",
    "#         xlims = (0, length(samples)+1),\n",
    "#         xtickfontsize = 6,\n",
    "#         size= (width, height),\n",
    "#         xrotation=90,\n",
    "#         ylabel = \"number of reads\",\n",
    "#         labels = hcat(taxa...),\n",
    "#         leftmargin = (leftmargin)StatsPlots.Plots.PlotMeasures.px,\n",
    "#         topmargin = (topmargin)StatsPlots.Plots.PlotMeasures.px,\n",
    "#         rightmargin = (rightmargin)StatsPlots.Plots.PlotMeasures.px,\n",
    "#         bottommargin = (bottommargin)StatsPlots.Plots.PlotMeasures.px,\n",
    "#         legendmargins = 0,\n",
    "#         legend = :outertopright,\n",
    "#         legendfontsize = 6,\n",
    "#         bar_position = :stack,\n",
    "#         bar_width=0.7,\n",
    "#         seriescolor = hcat(reverse(colorscheme)...)\n",
    "#     )\n",
    "#     # display(plot)\n",
    "#     # for extension in [\".png\", \".svg\"]\n",
    "#     for extension in [\".png\"]\n",
    "#         file = joinpath(results_dir, \"taxonomic-breakdowns.kraken.$(kraken_db).$(taxon_index).$(taxon_level).total-reads\") * extension\n",
    "#         StatsPlots.savefig(plot, file)\n",
    "#     end\n",
    "# end\n",
    "\n",
    "# ################################################################################################\n",
    "\n",
    "# # re-tune height to be proportional to size of taxa list (tall legends)\n",
    "# height = max(height, length(taxa)*11)\n",
    "# plot = StatsPlots.groupedbar(\n",
    "#     normalized_values,\n",
    "#     title = \"read-classification - kraken - $(kraken_db) - $(taxon_level)\",\n",
    "#     titlefontsize = 12,\n",
    "#     xticks = (1:length(samples), samples),\n",
    "#     xlims = (0, length(samples)+1),\n",
    "#     xtickfontsize = 6,\n",
    "#     size= (width, height),\n",
    "#     xrotation=90,\n",
    "#     ylabel = \"proportion of reads\",\n",
    "#     labels = hcat(taxa...),\n",
    "#     leftmargin = (leftmargin)StatsPlots.Plots.PlotMeasures.px,\n",
    "#     topmargin = (topmargin)StatsPlots.Plots.PlotMeasures.px,\n",
    "#     rightmargin = (rightmargin)StatsPlots.Plots.PlotMeasures.px,\n",
    "#     bottommargin = (bottommargin)StatsPlots.Plots.PlotMeasures.px,\n",
    "#     legendmargins = 0,\n",
    "#     legend = :outertopright,\n",
    "#     bar_position = :stack,\n",
    "#     bar_width=0.7,\n",
    "#     seriescolor = hcat(reverse(colorscheme)...),\n",
    "#     legendfontsize = 6,\n",
    "# )\n",
    "\n",
    "# # for extension in [\".png\", \".svg\"]\n",
    "# for extension in [\".png\"]\n",
    "#     file = joinpath(results_dir, \"taxonomic-breakdowns.kraken.$(kraken_db).$(taxon_index).$(taxon_level).normalized-reads\") * extension\n",
    "#     StatsPlots.savefig(plot, file)\n",
    "# end\n",
    "\n",
    "# ################################################################################################\n",
    "# distance_matrix = Distances.pairwise(Distances.Euclidean(), normalized_values, dims=1)\n",
    "# clustering = Clustering.hclust(distance_matrix, branchorder=:optimal)\n",
    "# cluster_plot = StatsPlots.plot(\n",
    "#     clustering,\n",
    "#     xlims = (0, length(samples)+1),\n",
    "#     title = \"read-classification - kraken - $(kraken_db) - $(taxon_level)\",\n",
    "#     titlefontsize = 12,\n",
    "#     bottommargin = 0StatsPlots.Plots.PlotMeasures.px,\n",
    "#     leftmargin = (leftmargin)StatsPlots.Plots.PlotMeasures.px,\n",
    "#     rightmargin = (rightmargin)StatsPlots.Plots.PlotMeasures.px,\n",
    "#     topmargin = (topmargin)StatsPlots.Plots.PlotMeasures.px,\n",
    "#     xticks = false,\n",
    "#     yticks = false,\n",
    "#     yaxis = false,\n",
    "#     xaxis = false\n",
    "# )\n",
    "# taxonomy_plot = StatsPlots.groupedbar(\n",
    "#     normalized_values[clustering.order, :],\n",
    "#     bar_position = :stack,\n",
    "#     leftmargin = (leftmargin)StatsPlots.Plots.PlotMeasures.px,\n",
    "#     topmargin = 0StatsPlots.Plots.PlotMeasures.px,\n",
    "#     rightmargin = (rightmargin)StatsPlots.Plots.PlotMeasures.px,\n",
    "#     bottommargin = (bottommargin)StatsPlots.Plots.PlotMeasures.px,\n",
    "#     legendmargins = 0,\n",
    "#     xticks = (1:length(samples), samples[clustering.order]),\n",
    "#     xtickfontsize = 4,\n",
    "#     xrotation=90,\n",
    "#     xlims = (0, length(samples)+1),\n",
    "#     size= (width, height),\n",
    "#     ylabel = \"proportion of reads\",\n",
    "#     seriescolor = hcat(reverse(colorscheme)...),\n",
    "#     legend = false,\n",
    "#     labels = hcat(taxa...),\n",
    "#     legendfontsize = 6,\n",
    "# )\n",
    "\n",
    "# plot = StatsPlots.plot(\n",
    "#     cluster_plot,\n",
    "#     taxonomy_plot,\n",
    "#     margins = 0StatsPlots.Plots.PlotMeasures.px,\n",
    "#     layout=StatsPlots.grid(2,1, heights=[0.2,0.8])\n",
    "# )\n",
    "# # display(plot)\n",
    "# # for extension in [\".png\", \".svg\"]\n",
    "# for extension in [\".png\"]\n",
    "#     file = joinpath(results_dir, \"taxonomic-breakdowns.kraken.$(kraken_db).$(taxon_index).$(taxon_level).normalized-reads.clustered\") * extension\n",
    "#     StatsPlots.savefig(plot, file)\n",
    "# end"
   ]
  },
  {
   "cell_type": "markdown",
   "id": "388fbcba-9a43-4b7d-88c4-d3e3ffcb0b10",
   "metadata": {},
   "source": [
    "\n",
    "- run PCA and k-means cluster to find meaningful groups\n",
    "- repeat for mmseqs protein and blast nt"
   ]
  },
  {
   "cell_type": "code",
   "execution_count": null,
   "id": "99b2eaae-23dc-4352-9d04-0f5f04f9d9bd",
   "metadata": {},
   "outputs": [],
   "source": []
  },
  {
   "cell_type": "code",
   "execution_count": null,
   "id": "627651f1-f786-472b-b69e-9a212aa76fdb",
   "metadata": {},
   "outputs": [],
   "source": []
  }
 ],
 "metadata": {
  "kernelspec": {
   "display_name": "Julia 1.6.7",
   "language": "julia",
   "name": "julia-1.6"
  },
  "language_info": {
   "file_extension": ".jl",
   "mimetype": "application/julia",
   "name": "julia",
   "version": "1.6.7"
  }
 },
 "nbformat": 4,
 "nbformat_minor": 5
}
