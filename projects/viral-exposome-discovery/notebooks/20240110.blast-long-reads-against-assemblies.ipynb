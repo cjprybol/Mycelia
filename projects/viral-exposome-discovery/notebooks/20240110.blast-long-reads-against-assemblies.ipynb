{
 "cells": [
  {
   "cell_type": "code",
   "execution_count": null,
   "id": "b1ec3ac0-e197-418f-86be-f2e8a5fadb82",
   "metadata": {},
   "outputs": [],
   "source": [
    "# run(`conda create --channel conda-forge --channel bioconda --channel defaults --strict-channel-priority --name blast blast`)"
   ]
  },
  {
   "cell_type": "code",
   "execution_count": null,
   "id": "c17e93fe-d82c-45fa-8fee-1e86d080538c",
   "metadata": {},
   "outputs": [],
   "source": [
    "import Pkg\n",
    "pkgs = [\n",
    "    \"Revise\",\n",
    "    \"DataFrames\",\n",
    "    \"uCSV\",\n",
    "    \"StatsPlots\"\n",
    "]\n",
    "# Pkg.add(pkgs)\n",
    "for pkg in pkgs\n",
    "    eval(Meta.parse(\"import $pkg\"))\n",
    "end\n",
    "import Mycelia"
   ]
  },
  {
   "cell_type": "code",
   "execution_count": null,
   "id": "909f13b4-7e9d-429b-8b83-33c99af653c9",
   "metadata": {},
   "outputs": [],
   "source": [
    "data_dir = joinpath(dirname(pwd()), \"data\")"
   ]
  },
  {
   "cell_type": "code",
   "execution_count": null,
   "id": "88edbeff-947b-4254-a295-54b4f9a8cb7a",
   "metadata": {},
   "outputs": [],
   "source": [
    "total_mem = 64\n",
    "threads = max(1, Int(total_mem//8))\n",
    "mem_per_cpu = Int(total_mem//threads)"
   ]
  },
  {
   "cell_type": "code",
   "execution_count": null,
   "id": "a9438577-5730-4322-8500-f6ffd2dae382",
   "metadata": {},
   "outputs": [],
   "source": [
    "db_fasta = joinpath(data_dir, \"results/high-confidence-hiv-contigs.fna.gz\")\n",
    "db = \"hiv-high-confidence\"\n",
    "\n",
    "# db_fasta = joinpath(data_dir, \"results/high-confidence-viral-contigs.fna.gz\")\n",
    "# db = \"viral-high-confidence\"\n",
    "\n",
    "blast_task = \"megablast\"\n",
    "blastdbs_dir = mkpath(joinpath(homedir(), \"workspace\", \"blastdbs\"))\n",
    "blast_db = joinpath(blastdbs_dir, db)\n",
    "# build new db with all of the input sequences from all of the assemblies\n",
    "run(pipeline(`gzip -dc $(db_fasta)`, `conda run --live-stream -n blast makeblastdb -in - -out $(blast_db) -parse_seqids -title \"$(db)\" -dbtype nucl`))\n",
    "# conda run -n blast update_blastdb.pl --showall\n",
    "# Mycelia.download_blast_db(db=db, outdir=blastdbs_dir, source=\"ncbi\", conda_env=\"blast\")"
   ]
  },
  {
   "cell_type": "code",
   "execution_count": null,
   "id": "2c58ebf0-253f-48a7-ba0f-ee756d150d9a",
   "metadata": {},
   "outputs": [],
   "source": [
    "fasta_paths = filter(x -> !occursin(\".ipynb_checkpoints\", x) && occursin(r\"\\.fasta$\", x), readdir(joinpath(data_dir, \"exposome_data\", \"joint-reads\"), join=true))\n",
    "# sample_paths = filter(x -> isfile(joinpath.(x, \"megahit\", \"final.contigs.fastg.gfa.fna\")), sample_paths)"
   ]
  },
  {
   "cell_type": "code",
   "execution_count": null,
   "id": "d44e3869-93b6-4286-9015-afaa9d65ee5a",
   "metadata": {},
   "outputs": [],
   "source": [
    "for fasta_path in fasta_paths\n",
    "    # sample = basename(fasta_path)\n",
    "    blastn_directory = dirname(fasta_path)\n",
    "    assembled_fasta = fasta_path\n",
    "    target_outfile = joinpath(blastn_directory, basename(assembled_fasta) * \".blastn.$(db).$(blast_task).txt\")\n",
    "    # # --mem=$(memory)G\n",
    "    # if isfile(target_outfile)\n",
    "    #         # @show sample, filesize(target_outfile)\n",
    "    #     push!(file_sizes, filesize(target_outfile))\n",
    "    # else\n",
    "    #     @show sample\n",
    "    # end\n",
    "\n",
    "    cmd = \"julia $(homedir())/workspace/Mycelia/scripts/run-blastn.jl --fasta $(assembled_fasta) --blast_db $(blast_db) --task $(blast_task) --out_directory $(blastn_directory) --threads $(threads)\"\n",
    "    submission = \n",
    "    `sbatch \n",
    "    --mail-user=cameron.prybol@gmail.com\n",
    "    --mail-type=ALL\n",
    "    --error=%x-%j.err\n",
    "    --output=%x-%j.out\n",
    "    --partition=batch\n",
    "    --account=mpsnyder\n",
    "    --nodes=1\n",
    "    --ntasks=1\n",
    "    --time=1-00:00:00    \n",
    "    --cpus-per-task=$(threads)\n",
    "    --mem-per-cpu=$(mem_per_cpu)G\n",
    "    --job-name=blastn\n",
    "    --wrap $cmd\n",
    "    `\n",
    "    run(submission)\n",
    "    # don't submit too quickly! We can hit issues when the jobs all start at once due to so many processes hitting the same databases\n",
    "    # 10 felt too slow, some jobs finish in ~10-15 seconds\n",
    "    sleep(1)\n",
    "end"
   ]
  }
 ],
 "metadata": {
  "kernelspec": {
   "display_name": "Julia 1.6.7",
   "language": "julia",
   "name": "julia-1.6"
  },
  "language_info": {
   "file_extension": ".jl",
   "mimetype": "application/julia",
   "name": "julia",
   "version": "1.6.7"
  }
 },
 "nbformat": 4,
 "nbformat_minor": 5
}
