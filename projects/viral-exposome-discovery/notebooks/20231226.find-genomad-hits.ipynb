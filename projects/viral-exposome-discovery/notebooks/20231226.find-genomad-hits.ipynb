{
 "cells": [
  {
   "cell_type": "markdown",
   "id": "08691468-3618-4425-875a-a1ae5487e530",
   "metadata": {},
   "source": [
    "objectives\n",
    "- find the what contigs were classified as viral by genomad\n",
    "- determine the lengths\n",
    "- find alignments in NCBI blast"
   ]
  },
  {
   "cell_type": "code",
   "execution_count": null,
   "id": "28717f71-b8e6-49a1-a568-0e4b702c3c65",
   "metadata": {},
   "outputs": [],
   "source": [
    "import Pkg\n",
    "pkgs = [\n",
    "    \"Revise\",\n",
    "    \"DataFrames\",\n",
    "    \"ProgressMeter\",\n",
    "    \"uCSV\",\n",
    "    \"StatsPlots\",\n",
    "    \"StatsBase\",\n",
    "    \"FASTX\"\n",
    "]\n",
    "# Pkg.activate(; temp=true)\n",
    "# Pkg.add(pkgs)\n",
    "for pkg in pkgs\n",
    "    eval(Meta.parse(\"import $pkg\"))\n",
    "end\n",
    "import Mycelia"
   ]
  },
  {
   "cell_type": "code",
   "execution_count": null,
   "id": "bf4c6da9-87bd-4a0f-8f4b-9fca15cb971d",
   "metadata": {},
   "outputs": [],
   "source": [
    "base_dir = dirname(pwd())\n",
    "data_dir = joinpath(base_dir, \"data\")\n",
    "\n",
    "# load in metadata\n",
    "metadata_dir = joinpath(dirname(pwd()), \"metadata\")\n",
    "\n",
    "exposome_environmental_data = DataFrames.DataFrame(uCSV.read(\n",
    "    joinpath(metadata_dir, \"metadata_exposome.rds.tsv\"),\n",
    "    delim='\\t',\n",
    "    header=1,\n",
    "    typedetectrows=300\n",
    "))\n",
    "\n",
    "joint_sample_metadata = DataFrames.DataFrame(uCSV.read(\n",
    "    joinpath(metadata_dir, \"exposome/joint_sample_metadata.tsv\"),\n",
    "    delim='\\t',\n",
    "    header=1,\n",
    "    typedetectrows=300\n",
    "))\n",
    "\n",
    "@assert joint_sample_metadata[!, \"Library Name\"] == joint_sample_metadata[!, \"LibraryName\"]\n",
    "\n",
    "joint_metadata = DataFrames.innerjoin(\n",
    "    joint_sample_metadata,\n",
    "    exposome_environmental_data,\n",
    "    on=\"Library Name\" => \"samplenames\")\n",
    "\n",
    "sample_directories = joinpath.(data_dir, \"SRA\", joint_metadata[!, \"Run\"])"
   ]
  },
  {
   "cell_type": "code",
   "execution_count": null,
   "id": "8036b15e-7135-4fca-a9a2-1fec96afbc38",
   "metadata": {},
   "outputs": [],
   "source": [
    "joint_genomad_results = DataFrames.DataFrame()\n",
    "# sample_directory = first(sample_directories)\n",
    "ProgressMeter.@showprogress for sample_directory in sample_directories\n",
    "    genomad_virus_summary = joinpath(sample_directory, \"genomad\", \"final.contigs.fastg.gfa_summary\", \"final.contigs.fastg.gfa_virus_summary.tsv\")\n",
    "    genomad_results = DataFrames.DataFrame(uCSV.read(genomad_virus_summary, delim='\\t', header=1, typedetectrows=100)...)\n",
    "    genomad_results[!, \"sample_id\"] .= basename(sample_directory)\n",
    "    append!(joint_genomad_results, genomad_results, promote=true)\n",
    "end\n",
    "joint_genomad_results[!, \"seq_name\"] = string.(joint_genomad_results[!, \"seq_name\"])"
   ]
  },
  {
   "cell_type": "code",
   "execution_count": null,
   "id": "283f7ce1-9f28-4b1a-96bb-357977910236",
   "metadata": {},
   "outputs": [],
   "source": [
    "StatsBase.describe(joint_genomad_results[!, \"length\"])"
   ]
  },
  {
   "cell_type": "code",
   "execution_count": null,
   "id": "962571c0-d2a9-43bd-a78e-1a73acd5a98f",
   "metadata": {},
   "outputs": [],
   "source": [
    "p = StatsPlots.scatter(\n",
    "    joint_genomad_results[!, \"length\"],\n",
    "    joint_genomad_results[!, \"virus_score\"],\n",
    "    legend=false,\n",
    "    title = \"Genomad Viral Classification Confidence by Assembled Contig Length\",\n",
    "    titlefontsize=10,\n",
    "    ylabel = \"Classification Confidence\",\n",
    "    xlabel = \"Assembled Contig Length\",\n",
    "    dpi=300\n",
    ")\n",
    "StatsPlots.savefig(p, joinpath(base_dir, \"data\", \"results\", \"genomad-classification-confidence-by-contig-length.png\"))\n",
    "display(p)"
   ]
  }
 ],
 "metadata": {
  "kernelspec": {
   "display_name": "Julia 1.9.3",
   "language": "julia",
   "name": "julia-1.9"
  },
  "language_info": {
   "file_extension": ".jl",
   "mimetype": "application/julia",
   "name": "julia",
   "version": "1.9.3"
  }
 },
 "nbformat": 4,
 "nbformat_minor": 5
}
