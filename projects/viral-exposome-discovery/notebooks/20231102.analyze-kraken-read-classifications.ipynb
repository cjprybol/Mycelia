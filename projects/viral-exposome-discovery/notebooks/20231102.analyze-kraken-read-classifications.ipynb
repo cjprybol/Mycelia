{
 "cells": [
  {
   "cell_type": "code",
   "execution_count": null,
   "id": "28afd0da-a1e3-48ad-a12a-8bbb3a8d19c2",
   "metadata": {
    "tags": []
   },
   "outputs": [],
   "source": [
    "import Pkg\n",
    "pkgs = [\n",
    "    \"Revise\",\n",
    "    \"DataFrames\",\n",
    "    \"StatsBase\",\n",
    "    \"StatsPlots\",\n",
    "    \"uCSV\",\n",
    "    \"ProgressMeter\",\n",
    "    \"Distances\",\n",
    "    \"Clustering\",\n",
    "    \"Colors\",\n",
    "    \"MultivariateStats\"\n",
    "]\n",
    "# Pkg.add(pkgs)\n",
    "for pkg in pkgs\n",
    "    eval(Meta.parse(\"import $pkg\"))\n",
    "end\n",
    "import Mycelia"
   ]
  },
  {
   "cell_type": "code",
   "execution_count": null,
   "id": "ebc54d53-21ec-4098-b1c9-8c8e67d4193a",
   "metadata": {
    "tags": []
   },
   "outputs": [],
   "source": [
    "data_dir = joinpath(dirname(pwd()), \"data\")"
   ]
  },
  {
   "cell_type": "code",
   "execution_count": null,
   "id": "a9282e23-ea48-4be0-8acb-67d044e0ca48",
   "metadata": {
    "tags": []
   },
   "outputs": [],
   "source": [
    "sample_paths = filter(x -> !occursin(\".ipynb_checkpoints\", x), readdir(joinpath(data_dir, \"SRA\"), join=true))"
   ]
  },
  {
   "cell_type": "code",
   "execution_count": null,
   "id": "51c29934-2fb9-44fb-968e-1cf5a8c907ed",
   "metadata": {
    "tags": []
   },
   "outputs": [],
   "source": [
    "results_dir = joinpath(data_dir, \"results\")"
   ]
  },
  {
   "cell_type": "code",
   "execution_count": null,
   "id": "0c9d3c0d-6ca1-47f9-802b-d352ee889822",
   "metadata": {
    "tags": []
   },
   "outputs": [],
   "source": [
    "taxon_levels = Mycelia.list_ranks()"
   ]
  },
  {
   "cell_type": "code",
   "execution_count": null,
   "id": "3a6be592-0df7-49ea-ba1c-ab66b5ff7ea2",
   "metadata": {
    "tags": []
   },
   "outputs": [],
   "source": [
    "i = 9\n",
    "\n",
    "(taxon_index, taxon_level) = collect(enumerate(taxon_levels))[i]\n",
    "println(\"$(taxon_index) - $(taxon_level)\")\n",
    "rank_table = Mycelia.list_rank(taxon_level)"
   ]
  },
  {
   "cell_type": "code",
   "execution_count": null,
   "id": "b05038e6-a117-46f6-ae0a-3c70770ac539",
   "metadata": {},
   "outputs": [],
   "source": [
    "# NCBI host metadata\n",
    "ncbi_metadata_file = joinpath(dirname(pwd()), \"metadata\", \"NCBI-virus-refseq.transformed.tsv\")\n",
    "ncbi_host_metadata = DataFrames.DataFrame(uCSV.read(ncbi_metadata_file, header=1, delim='\\t', encodings=Dict(\"false\" => false, \"true\" => true)))\n",
    "\n",
    "# ICTV host metadata\n",
    "ictv_metadata_file = joinpath(dirname(pwd()), \"metadata\", \"VMR_MSL38_v1 - VMR MSL38 v1.transformed.tsv\")\n",
    "ictv_host_metadata = DataFrames.DataFrame(uCSV.read(ictv_metadata_file, header=1, delim='\\t', typedetectrows=100))\n",
    "ictv_host_metadata = ictv_host_metadata[.!isempty.(ictv_host_metadata[!, \"taxid\"]), :]\n",
    "ictv_host_metadata[!, \"taxid\"] = parse.(Int, ictv_host_metadata[!, \"taxid\"])\n",
    "\n",
    "# # VirusHostDB metadata\n",
    "virushostdb_metadata_file = joinpath(dirname(pwd()), \"metadata\", \"virushostdb.transformed.tsv\")\n",
    "virushostdb_metadata = DataFrames.DataFrame(uCSV.read(virushostdb_metadata_file, header=1, delim='\\t', typedetectrows=1086, encodings=Dict(\"missing\" => missing, \"false\" => false, \"true\" => true)))\n",
    "\n",
    "# vertebrate_taxids = Set(union(\n",
    "#     ictv_host_metadata[ictv_host_metadata[!, \"Host source\"] .== \"vertebrates\", \"taxid\"],\n",
    "#     ncbi_host_metadata[ncbi_host_metadata[!, \"host_is_vertebrate\"], \"taxid\"],\n",
    "#     virushostdb_metadata[virushostdb_metadata[!, \"host_is_vertebrate\"], \"virus_taxid\"]\n",
    "# ))\n",
    "\n",
    "# human_taxids = Set(union(\n",
    "#     ncbi_host_metadata[ncbi_host_metadata[!, \"host_is_human\"], \"taxid\"],\n",
    "#     virushostdb_metadata[virushostdb_metadata[!, \"host_is_human\"], \"virus_taxid\"]\n",
    "# ))"
   ]
  },
  {
   "cell_type": "code",
   "execution_count": null,
   "id": "633b8ff5-5874-4f87-bbfa-b2920b04216a",
   "metadata": {
    "tags": []
   },
   "outputs": [],
   "source": [
    "filtered_rank_table = rank_table[map(taxid -> taxid in human_taxids, rank_table[!, \"taxid\"]), :]"
   ]
  },
  {
   "cell_type": "code",
   "execution_count": null,
   "id": "2133abe8-04c9-4700-b852-b033fc52e83f",
   "metadata": {},
   "outputs": [],
   "source": [
    "# println(\"$(taxon_index) - $(taxon_level)\")\n",
    "# rank_table = Mycelia.list_rank(taxon_level)\n",
    "rank_taxids = Set(filtered_rank_table[!, \"taxid\"])"
   ]
  },
  {
   "cell_type": "code",
   "execution_count": null,
   "id": "477dcf28-6921-467f-b36f-7e1be885160f",
   "metadata": {},
   "outputs": [],
   "source": [
    "kraken_db = \"k2_pluspfp\"\n",
    "kraken_db_regex = Regex(\"$(kraken_db)_\\\\d{8}\")"
   ]
  },
  {
   "cell_type": "code",
   "execution_count": null,
   "id": "b707ef57-5cf6-4878-a84a-12277dc6f74b",
   "metadata": {},
   "outputs": [],
   "source": [
    "cross_sample_taxon_report = joinpath(results_dir, \"$(kraken_db).$(taxon_level).tsv\")"
   ]
  },
  {
   "cell_type": "code",
   "execution_count": null,
   "id": "7936cf77-b694-456c-8582-016f2f6022f5",
   "metadata": {},
   "outputs": [],
   "source": [
    "cross_sample_taxon_figure_png = joinpath(results_dir, \"$(kraken_db).$(taxon_level).png\")"
   ]
  },
  {
   "cell_type": "code",
   "execution_count": null,
   "id": "0863e742-0010-4108-82a2-cb5eff68f81d",
   "metadata": {},
   "outputs": [],
   "source": [
    "cross_sample_taxon_report_table = DataFrames.DataFrame()\n",
    "# sample_path = first(sample_paths)\n",
    "ProgressMeter.@showprogress for sample_path in sample_paths\n",
    "    sample = basename(sample_path)\n",
    "    kraken_dir = joinpath(sample_path, \"kraken\")\n",
    "    report_file = first(filter(x -> occursin(kraken_db_regex, x) && occursin(r\"kraken-report\\.tsv$\", x), readdir(kraken_dir, join=true)))\n",
    "    report_table = Mycelia.read_kraken_report(report_file)\n",
    "    taxon_level_report = report_table[map(x -> x in rank_taxids, report_table[!, \"ncbi_taxonid\"]), :]\n",
    "    taxon_level_report[!, \"sample_identifier\"] .= sample\n",
    "    append!(cross_sample_taxon_report_table, taxon_level_report)\n",
    "end\n",
    "cross_sample_taxon_report_summary = cross_sample_taxon_report_table[!, DataFrames.Not([\"percentage_of_fragments_at_or_below_taxon\", \"number_of_fragments_assigned_directly_to_taxon\", \"rank\"])]\n",
    "# uCSV.write(cross_sample_taxon_report, cross_sample_taxon_report_table, delim='\\t')"
   ]
  },
  {
   "cell_type": "code",
   "execution_count": null,
   "id": "a5d655bf-141e-44ae-b499-15e330b65d5d",
   "metadata": {},
   "outputs": [],
   "source": [
    "cross_sample_taxon_report_summary[!, \"taxon\"] = map(row -> string(row[\"ncbi_taxonid\"]) * \"_\" * row[\"scientific_name\"], DataFrames.eachrow(cross_sample_taxon_report_summary))\n",
    "cross_sample_taxon_report_summary = cross_sample_taxon_report_summary[!, DataFrames.Not([\n",
    "            \"ncbi_taxonid\",\n",
    "            \"scientific_name\"\n",
    "        ])]"
   ]
  },
  {
   "cell_type": "code",
   "execution_count": null,
   "id": "6e327e1d-78bd-411c-9bc3-5798b0138812",
   "metadata": {},
   "outputs": [],
   "source": [
    "# assert sortedness & uniqueness (should be a no-op)\n",
    "unique!(DataFrames.sort!(cross_sample_taxon_report_summary, [\"sample_identifier\", \"taxon\"]))"
   ]
  },
  {
   "cell_type": "code",
   "execution_count": null,
   "id": "1bbba5e4-f102-42c6-8089-5792b80f16c7",
   "metadata": {
    "tags": []
   },
   "outputs": [],
   "source": [
    "# taxa = String[]\n",
    "# samples = String[]\n",
    "# n_samples = length(unique(cross_sample_taxon_report_summary[!, \"sample_identifier\"]))\n",
    "# n_taxa = length(unique(cross_sample_taxon_report_summary[!, \"taxon\"]))\n",
    "# values = zeros(n_samples, n_taxa)\n",
    "\n",
    "taxa = sort(unique(cross_sample_taxon_report_summary[!, \"taxon\"]))\n",
    "taxa_map = Dict(taxon => i for (i, taxon) in enumerate(taxa))\n",
    "samples = sort(unique(cross_sample_taxon_report_summary[!, \"sample_identifier\"]))\n",
    "samples_map = Dict(sample => i for (i, sample) in enumerate(samples))\n",
    "values = zeros(length(samples), length(taxa))\n",
    "ProgressMeter.@showprogress for taxon_table in DataFrames.groupby(cross_sample_taxon_report_summary, \"taxon\")\n",
    "    taxon = taxon_table[1, \"taxon\"]\n",
    "    column_index = taxa_map[taxon]\n",
    "    for sample_table in DataFrames.groupby(taxon_table, \"sample_identifier\")\n",
    "        @assert DataFrames.nrow(sample_table) == 1\n",
    "        sample = sample_table[1, \"sample_identifier\"]\n",
    "        row_index = samples_map[sample]\n",
    "        value = sample_table[1, \"number_of_fragments_at_or_below_taxon\"]\n",
    "        values[row_index, column_index] = value\n",
    "    end\n",
    "end\n",
    "values\n",
    "\n",
    "# sort taxa so largest single sample taxa is first\n",
    "taxa_frequency_ordering = sortperm(maximum.(eachcol(values)))\n",
    "values = values[:, taxa_frequency_ordering]\n",
    "taxa = taxa[taxa_frequency_ordering]\n",
    "# find taxa that have no representation, and filter them out\n",
    "taxa_is_detected = [sum(col) >= 3 for col in eachcol(values)]\n",
    "values = values[:, taxa_is_detected]\n",
    "taxa = taxa[taxa_is_detected]\n",
    "sample_has_classifications = [sum(row) > 0 for row in eachrow(values)]\n",
    "values = values[sample_has_classifications, :]\n",
    "samples = samples[sample_has_classifications]\n",
    "taxa"
   ]
  },
  {
   "cell_type": "code",
   "execution_count": null,
   "id": "92f50390-0585-439b-a809-2a6696353989",
   "metadata": {},
   "outputs": [],
   "source": [
    "# mmseqs_hits =  \n",
    "# [\n",
    "# 61673,\n",
    "#  1862825,\n",
    "#    45617,\n",
    "#  1647924,\n",
    "#    10566,\n",
    "#   931209,\n",
    "#   493803,\n",
    "#    11676,\n",
    "#    28312,\n",
    "#    37955,\n",
    "#   765052,\n",
    "#   463676,\n",
    "#  3052230,\n",
    "#  1891726\n",
    "#     ]"
   ]
  },
  {
   "cell_type": "code",
   "execution_count": null,
   "id": "ef1df6a1-91c3-4257-b769-549bf6dacc84",
   "metadata": {},
   "outputs": [],
   "source": [
    "println(\"[\")\n",
    "for x in parse.(Int, first.(split.(taxa, '_')))\n",
    "    println(\"$(x),\")\n",
    "end\n",
    "println(\"]\")"
   ]
  },
  {
   "cell_type": "code",
   "execution_count": null,
   "id": "3efbadaf-e907-435f-ad7c-d65f288469a1",
   "metadata": {
    "tags": []
   },
   "outputs": [],
   "source": [
    "colorscheme = Colors.distinguishable_colors(length(taxa), [Colors.RGB(1,1,1), Colors.RGB(0,0,0)], dropseed=true)"
   ]
  },
  {
   "cell_type": "code",
   "execution_count": null,
   "id": "bb272d73-5485-4a31-8e83-a4c85f234497",
   "metadata": {
    "tags": []
   },
   "outputs": [],
   "source": [
    "normalized_values = values ./ sum(values, dims=2)"
   ]
  },
  {
   "cell_type": "code",
   "execution_count": null,
   "id": "52ed6bcc-c91d-46dc-a977-d7c48654834b",
   "metadata": {
    "tags": []
   },
   "outputs": [],
   "source": [
    "distance_matrix = Distances.pairwise(Distances.Euclidean(), normalized_values, dims=1)\n",
    "clustering = Clustering.hclust(distance_matrix, branchorder=:optimal)"
   ]
  },
  {
   "cell_type": "code",
   "execution_count": null,
   "id": "f9c4255d-f194-4236-9ec7-8c748f2c557a",
   "metadata": {},
   "outputs": [],
   "source": [
    "bottommargin = (maximum(length.(samples)) * 5)\n",
    "leftmargin = 150\n",
    "rightmargin = 25\n",
    "topmargin = 25\n",
    "\n",
    "width = max(1920, (length(samples) * 10) + 300)\n",
    "height = max(1080, bottommargin + 600)\n",
    "height = max(height, length(taxa)*11)\n",
    "\n",
    "plot = StatsPlots.groupedbar(\n",
    "    log10.(values),\n",
    "    title = \"read-classification - kraken - $(kraken_db) - $(taxon_level)\",\n",
    "    titlefontsize = 12,\n",
    "    xticks = (1:length(samples), samples),\n",
    "    xlims = (0, length(samples)+1),\n",
    "    xtickfontsize = 6,\n",
    "    size= (width, height),\n",
    "    xrotation=90,\n",
    "    ylabel = \"log10(number of reads)\",\n",
    "    labels = hcat(taxa...),\n",
    "    leftmargin = (leftmargin)StatsPlots.Plots.PlotMeasures.px,\n",
    "    topmargin = (topmargin)StatsPlots.Plots.PlotMeasures.px,\n",
    "    rightmargin = (rightmargin)StatsPlots.Plots.PlotMeasures.px,\n",
    "    bottommargin = (bottommargin)StatsPlots.Plots.PlotMeasures.px,\n",
    "    legendmargins = 0,\n",
    "    legend = :outertopright,\n",
    "    legendfontsize = 6,\n",
    "    bar_position = :stack,\n",
    "    bar_width=0.7,\n",
    "    seriescolor = hcat(reverse(colorscheme)...),\n",
    ")\n",
    "for extension in [\".png\"]\n",
    "    file = joinpath(results_dir, \"taxonomic-breakdowns.kraken.$(kraken_db).$(taxon_index).$(taxon_level).total-reads\") * extension\n",
    "    StatsPlots.savefig(plot, file)\n",
    "end"
   ]
  },
  {
   "cell_type": "code",
   "execution_count": null,
   "id": "ff8e157f-1a9a-4d12-a33c-aa3a1d39e754",
   "metadata": {},
   "outputs": [],
   "source": [
    "plot = StatsPlots.groupedbar(\n",
    "    normalized_values,\n",
    "    title = \"read-classification - kraken - $(kraken_db) - $(taxon_level)\",\n",
    "    titlefontsize = 12,\n",
    "    xticks = (1:length(samples), samples),\n",
    "    xlims = (0, length(samples)+1),\n",
    "    xtickfontsize = 6,\n",
    "    size= (width, height),\n",
    "    xrotation=90,\n",
    "    ylabel = \"proportion of reads\",\n",
    "    labels = hcat(taxa...),\n",
    "    leftmargin = (leftmargin)StatsPlots.Plots.PlotMeasures.px,\n",
    "    topmargin = (topmargin)StatsPlots.Plots.PlotMeasures.px,\n",
    "    rightmargin = (rightmargin)StatsPlots.Plots.PlotMeasures.px,\n",
    "    bottommargin = (bottommargin)StatsPlots.Plots.PlotMeasures.px,\n",
    "    legendmargins = 0,\n",
    "    legend = :outertopright,\n",
    "    bar_position = :stack,\n",
    "    bar_width=0.7,\n",
    "    seriescolor = hcat(reverse(colorscheme)...),\n",
    "    legendfontsize = 6,\n",
    ")\n",
    "\n",
    "# for extension in [\".png\", \".svg\"]\n",
    "for extension in [\".png\"]\n",
    "    file = joinpath(results_dir, \"taxonomic-breakdowns.kraken.$(kraken_db).$(taxon_index).$(taxon_level).normalized-reads\") * extension\n",
    "    StatsPlots.savefig(plot, file)\n",
    "end"
   ]
  },
  {
   "cell_type": "code",
   "execution_count": null,
   "id": "8a311c8e-de3a-4da7-9b16-ac6060718775",
   "metadata": {},
   "outputs": [],
   "source": [
    "################################################################################################\n",
    "distance_matrix = Distances.pairwise(Distances.Euclidean(), normalized_values, dims=1)\n",
    "clustering = Clustering.hclust(distance_matrix, branchorder=:optimal)\n",
    "cluster_plot = StatsPlots.plot(\n",
    "    clustering,\n",
    "    xlims = (0, length(samples)+1),\n",
    "    title = \"read-classification - kraken - $(kraken_db) - $(taxon_level)\",\n",
    "    titlefontsize = 12,\n",
    "    bottommargin = 0StatsPlots.Plots.PlotMeasures.px,\n",
    "    leftmargin = (leftmargin)StatsPlots.Plots.PlotMeasures.px,\n",
    "    rightmargin = (rightmargin)StatsPlots.Plots.PlotMeasures.px,\n",
    "    topmargin = (topmargin)StatsPlots.Plots.PlotMeasures.px,\n",
    "    xticks = false,\n",
    "    yticks = false,\n",
    "    yaxis = false,\n",
    "    xaxis = false\n",
    ")\n",
    "taxonomy_plot = StatsPlots.groupedbar(\n",
    "    normalized_values[clustering.order, :],\n",
    "    bar_position = :stack,\n",
    "    leftmargin = (leftmargin)StatsPlots.Plots.PlotMeasures.px,\n",
    "    topmargin = 0StatsPlots.Plots.PlotMeasures.px,\n",
    "    rightmargin = (rightmargin)StatsPlots.Plots.PlotMeasures.px,\n",
    "    bottommargin = (bottommargin)StatsPlots.Plots.PlotMeasures.px,\n",
    "    legendmargins = 0,\n",
    "    xticks = (1:length(samples), samples[clustering.order]),\n",
    "    xtickfontsize = 4,\n",
    "    xrotation=90,\n",
    "    xlims = (0, length(samples)+1),\n",
    "    size= (width, height),\n",
    "    ylabel = \"proportion of reads\",\n",
    "    seriescolor = hcat(reverse(colorscheme)...),\n",
    "    legend = false,\n",
    "    labels = hcat(taxa...),\n",
    "    legendfontsize = 6,\n",
    ")\n",
    "\n",
    "plot = StatsPlots.plot(\n",
    "    cluster_plot,\n",
    "    taxonomy_plot,\n",
    "    margins = 0StatsPlots.Plots.PlotMeasures.px,\n",
    "    layout=StatsPlots.grid(2,1, heights=[0.2,0.8])\n",
    ")\n",
    "# # display(plot)\n",
    "# # for extension in [\".png\", \".svg\"]\n",
    "for extension in [\".png\"]\n",
    "    file = joinpath(results_dir, \"taxonomic-breakdowns.kraken.$(kraken_db).$(taxon_index).$(taxon_level).normalized-reads.clustered\") * extension\n",
    "    StatsPlots.savefig(plot, file)\n",
    "end"
   ]
  },
  {
   "cell_type": "code",
   "execution_count": null,
   "id": "431950f4-cab7-43c2-a97f-93c88088ac88",
   "metadata": {
    "tags": []
   },
   "outputs": [],
   "source": [
    "# fit_pca = MultivariateStats.fit(MultivariateStats.PCA, normalized_values')\n",
    "# transformed_observations = MultivariateStats.transform(fit_pca, normalized_values')\n",
    "\n",
    "# # x = transformed_observations[1, :]\n",
    "# # y = transformed_observations[2, :]\n",
    "\n",
    "# # pc_plot = \n",
    "# # StatsPlots.scatter(\n",
    "# #     x,\n",
    "# #     y,\n",
    "# #     # [z[control_indices], z[case_indices]],\n",
    "# #     xlabel = \"PC1\",\n",
    "# #     ylabel = \"PC2\",\n",
    "# #     # zlabel = \"PC3\",\n",
    "# #     # labels = hcat([\"sample ID goes here\"]...),\n",
    "# #     # title = \"Case vs. Control\",\n",
    "# #     legend = :outertopright,\n",
    "# #     size = (1000, 500),\n",
    "# #     # margins = 5StatsPlots.mm,\n",
    "# # )\n",
    "\n",
    "# # display(pc_plot)"
   ]
  },
  {
   "cell_type": "code",
   "execution_count": null,
   "id": "e2fa0ee5-210f-4ee8-852c-cb1d4164120a",
   "metadata": {
    "tags": []
   },
   "outputs": [],
   "source": [
    "# # top level classification rank to show absolute reads per sample\n",
    "# # not very helpful at lower ranks since low read depth samples are too hard to see breakdowns\n",
    "# if taxon_index in [1, 2]\n",
    "#     aspect_ratio = [9, 2]\n",
    "#     scale = 500\n",
    "#     plot = StatsPlots.groupedbar(\n",
    "#         values,\n",
    "#         title = \"read-classification - $(taxon_level)\",\n",
    "#         xticks = (1:length(samples), samples),\n",
    "#         xlims = (0, length(samples)+1),\n",
    "#         xtickfontsize = 6,\n",
    "#         size= aspect_ratio .* scale,\n",
    "#         xrotation=90,\n",
    "#         ylabel = \"number of reads\",\n",
    "#         labels = hcat(taxa...),\n",
    "#         margins = 100StatsPlots.Plots.PlotMeasures.px,\n",
    "#         legendmargins = 0,\n",
    "#         legend = :outertopright,\n",
    "#         legendfontsize = 6,\n",
    "#         bar_position = :stack,\n",
    "#         bar_width=0.7,\n",
    "#         seriescolor = hcat(reverse(colorscheme)...)\n",
    "#     )\n",
    "#     # display(plot)\n",
    "#     for extension in [\".png\", \".svg\"]\n",
    "#         file = joinpath(results_dir, \"taxonomic-breakdowns.kraken.$(taxon_index).$(taxon_level).total-reads\") * extension\n",
    "#         StatsPlots.savefig(plot, file)\n",
    "#     end\n",
    "# end"
   ]
  },
  {
   "cell_type": "code",
   "execution_count": null,
   "id": "64fe1738-06b4-49ab-89cd-e0becefbf3f5",
   "metadata": {},
   "outputs": [],
   "source": [
    "fit_pca = MultivariateStats.fit(MultivariateStats.PCA, normalized_values')\n",
    "\n",
    "fit_pca = MultivariateStats.fit(MultivariateStats.PCA, normalized_values')\n",
    "transformed_observations = MultivariateStats.transform(fit_pca, normalized_values')\n",
    "\n",
    "top_level_groups = unique(map(x -> join(split(x, '_')[1:2], '_'), samples))\n",
    "# Colors.RGB(0,0,0), Colors.RGB(0.78, 0.129, 0.867)\n",
    "colorscheme = Colors.distinguishable_colors(length(top_level_groups), [Colors.RGB(1,1,1), Colors.RGB(0,0,0)], dropseed=true)\n",
    "xs = [Float64[] for group in top_level_groups]\n",
    "ys = [Float64[] for group in top_level_groups]\n",
    "zs = [Float64[] for group in top_level_groups]\n",
    "\n",
    "raw_xs = transformed_observations[1, :]\n",
    "if size(transformed_observations, 1) >= 2\n",
    "    raw_ys = transformed_observations[2, :]\n",
    "else\n",
    "    raw_ys = zeros(length(raw_xs))\n",
    "end\n",
    "\n",
    "if size(transformed_observations, 1) >= 3\n",
    "    raw_zs = transformed_observations[3, :]\n",
    "else\n",
    "    raw_zs = zeros(length(raw_xs))\n",
    "end\n",
    "\n",
    "for (sample, x, y, z) in zip(samples, raw_xs, raw_ys, raw_zs)\n",
    "    # @show sample, x, y\n",
    "    sample_groups = findall(x -> occursin(x, sample), top_level_groups)\n",
    "    @assert length(sample_groups) == 1\n",
    "    sample_group = first(sample_groups)\n",
    "    push!(xs[sample_group], x)\n",
    "    push!(ys[sample_group], y)\n",
    "    push!(zs[sample_group], z)\n",
    "end\n",
    "\n",
    "plot = \n",
    "StatsPlots.scatter(\n",
    "    xs,\n",
    "    ys,\n",
    "    # zs,\n",
    "    xlabel = \"PC1\",\n",
    "    ylabel = \"PC2\",\n",
    "    # zlabel = \"PC3\",\n",
    "    labels = hcat(top_level_groups...),\n",
    "    title = \"read-classification - kraken - $(kraken_db) - $(taxon_level)\",\n",
    "    titlefontsize = 10,\n",
    "    legend = :outertopright,\n",
    "    size = (640, 480),\n",
    "    margins = 20StatsPlots.px,\n",
    "    seriescolor = hcat(colorscheme...)\n",
    ")\n",
    "\n",
    "display(plot)\n",
    "for extension in [\".png\"]\n",
    "    file = joinpath(results_dir, \"taxonomic-breakdowns.kraken.$(kraken_db).$(taxon_index).$(taxon_level).pca\") * extension\n",
    "    StatsPlots.savefig(plot, file)\n",
    "end"
   ]
  },
  {
   "cell_type": "code",
   "execution_count": null,
   "id": "e1a0276e-c00c-45a5-9126-6a3edc9a222b",
   "metadata": {
    "tags": []
   },
   "outputs": [],
   "source": [
    "# # need to tune this to be proportional to the # of taxa in the list\n",
    "# aspect_ratio = [9, 40]\n",
    "# scale = 500\n",
    "# plot = StatsPlots.groupedbar(\n",
    "#     normalized_values,\n",
    "#     title = \"read-classification - $(taxon_level)\",\n",
    "#     xticks = (1:length(samples), samples),\n",
    "#     xlims = (0, length(samples)+1),\n",
    "#     xtickfontsize = 6,\n",
    "#     size= aspect_ratio .* scale,\n",
    "#     xrotation=90,\n",
    "#     ylabel = \"proportion of reads\",\n",
    "#     labels = hcat(taxa...),\n",
    "#     margins = 100StatsPlots.Plots.PlotMeasures.px,\n",
    "#     legend = :outertopright,\n",
    "#     bar_position = :stack,\n",
    "#     bar_width=0.7,\n",
    "#     seriescolor = hcat(reverse(colorscheme)...),\n",
    "#     legendfontsize = 6,\n",
    "# )\n",
    "\n",
    "# for extension in [\".png\", \".svg\"]\n",
    "#     file = joinpath(results_dir, \"taxonomic-breakdowns.kraken.$(taxon_index).$(taxon_level).normalized-reads\") * extension\n",
    "#     StatsPlots.savefig(plot, file)\n",
    "# end"
   ]
  },
  {
   "cell_type": "code",
   "execution_count": null,
   "id": "4d83ba91-034a-4cad-b7dd-7ab167d57a78",
   "metadata": {
    "tags": []
   },
   "outputs": [],
   "source": [
    "# aspect_ratio = [2, 1]\n",
    "# scale = 1000\n",
    "\n",
    "# cluster_plot = StatsPlots.plot(\n",
    "#     clustering,\n",
    "#     xlims = (1, length(samples)),\n",
    "#     title = \"read-classification - $(taxon_level)\",\n",
    "#     xticks = false,\n",
    "#     yticks = false,\n",
    "#     yaxis = false\n",
    "# )\n",
    "# taxonomy_plot = StatsPlots.groupedbar(\n",
    "#     normalized_values[clustering.order, :],\n",
    "#     bar_position = :stack,\n",
    "#     bottommargin = 50StatsPlots.Plots.PlotMeasures.px,\n",
    "#     leftmargin = 50StatsPlots.Plots.PlotMeasures.px,\n",
    "#     xticks = (1:length(samples), samples[clustering.order]),\n",
    "#     xtickfontsize = 4,\n",
    "#     xrotation=90,\n",
    "#     xlims = (0, length(samples)+1),\n",
    "#     size= aspect_ratio .* scale,\n",
    "#     ylabel = \"proportion of reads\",\n",
    "#     seriescolor = hcat(reverse(colorscheme)...),\n",
    "#     # bar_width=0.7,\n",
    "#     legend = false,\n",
    "#     labels = hcat(taxa...),\n",
    "#     legendfontsize = 6,\n",
    "# )\n",
    "\n",
    "# # Create a separate subplot as a legend\n",
    "# # legend_plot = StatsPlots.groupedbar(normalized_values[clustering.order, :], legend=true)\n",
    "# # plot!(legend_subplot, label=\"Series 1\", legend=:best, linecolor=1)\n",
    "# # plot!(legend_subplot, label=\"Series 2\", legend=:best, linecolor=2)\n",
    "\n",
    "# # Layout the main plot and the legend subplot\n",
    "# # l = @layout [a{0.7w}; b{0.3w}]\n",
    "# # plot(p, legend_subplot, layout=l)\n",
    "\n",
    "# plot = StatsPlots.plot(\n",
    "#     cluster_plot, \n",
    "#     taxonomy_plot,\n",
    "#     layout=StatsPlots.grid(2,1, heights=[0.2,0.8])\n",
    "# )\n",
    "# # display(plot)\n",
    "# for extension in [\".png\", \".svg\"]\n",
    "#     file = joinpath(results_dir, \"taxonomic-breakdowns.kraken.$(taxon_index).$(taxon_level).normalized-reads.clustered\") * extension\n",
    "#     StatsPlots.savefig(plot, file)\n",
    "# end\n",
    "# # end"
   ]
  },
  {
   "cell_type": "code",
   "execution_count": null,
   "id": "2a003e4c-4e54-497a-8776-43400d591ae2",
   "metadata": {
    "tags": []
   },
   "outputs": [],
   "source": [
    "# for g in DataFrames.groupby(cross_sample_taxon_report_table, \"sample_identifier\")\n",
    "#     # @show sum(g[!, \"percentage_of_fragments_at_or_below_taxon\"])\n",
    "#     if sum(g[!, \"percentage_of_fragments_at_or_below_taxon\"]) == 100\n",
    "#     else\n",
    "#         identifier = g[1, \"sample_identifier\"]\n",
    "#         println(\"\\\"$(identifier)\\\",\")\n",
    "#     end\n",
    "# end"
   ]
  },
  {
   "cell_type": "code",
   "execution_count": null,
   "id": "4776661d-29a6-4caf-b980-f68331927aba",
   "metadata": {},
   "outputs": [],
   "source": [
    "# [number_of_fragments_at_or_below_taxon\tncbi_taxonid\tscientific_name\tsample_identifier"
   ]
  },
  {
   "cell_type": "code",
   "execution_count": null,
   "id": "aff6119c-780d-4487-824e-e3f68d3fdf37",
   "metadata": {
    "tags": []
   },
   "outputs": [],
   "source": [
    "\n",
    "# Mycelia.list_rank(\"kingdom\")\n",
    "# Mycelia.list_rank(\"phylum\")\n",
    "# Mycelia.list_rank(\"class\")\n",
    "# Mycelia.list_rank(\"order\")\n",
    "# Mycelia.list_rank(\"family\")\n",
    "# Mycelia.list_rank(\"genus\")\n",
    "# Mycelia.list_rank(\"species\")"
   ]
  },
  {
   "cell_type": "markdown",
   "id": "388fbcba-9a43-4b7d-88c4-d3e3ffcb0b10",
   "metadata": {},
   "source": [
    "- loop through the above\n",
    "- make a matrix where each row is a taxon rank and each column is a dataset\n",
    "- make stacked barplots for each sample\n",
    "- run PCA and k-means cluster to find meaningful groups\n",
    "- repeat for mmseqs protein and blast nt"
   ]
  }
 ],
 "metadata": {
  "kernelspec": {
   "display_name": "Julia 1.9.3",
   "language": "julia",
   "name": "julia-1.9"
  },
  "language_info": {
   "file_extension": ".jl",
   "mimetype": "application/julia",
   "name": "julia",
   "version": "1.9.3"
  }
 },
 "nbformat": 4,
 "nbformat_minor": 5
}
