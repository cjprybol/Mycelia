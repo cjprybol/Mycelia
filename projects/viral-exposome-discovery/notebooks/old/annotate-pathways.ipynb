{
 "cells": [
  {
   "cell_type": "code",
   "execution_count": null,
   "id": "071f311a-aa17-4c81-a665-417874a821d2",
   "metadata": {
    "tags": []
   },
   "outputs": [],
   "source": [
    "import Pkg\n",
    "Pkg.activate(\".\")\n",
    "\n",
    "pkgs = [\n",
    "    \"Revise\",\n",
    "    \"ProgressMeter\"\n",
    "]\n",
    "Pkg.add(pkgs)\n",
    "for pkg in pkgs\n",
    "    eval(Meta.parse(\"import $pkg\"))\n",
    "end\n",
    "\n",
    "# point me to remote upon deployment\n",
    "# Pkg.develop(path=\"$(homedir())/workspace/Mycelia\")\n",
    "# can point to a specific git commit\n",
    "# Pkg.add(url=\"https://github.com/cjprybol/Mycelia\", rev=\"master\")\n",
    "import Mycelia"
   ]
  },
  {
   "cell_type": "code",
   "execution_count": null,
   "id": "387550f2-05ab-4fa8-8256-b8a2f9b44ab3",
   "metadata": {
    "tags": []
   },
   "outputs": [],
   "source": [
    "data_dir = joinpath(dirname(pwd()), \"data\")\n",
    "SRR_paths = filter(x -> !occursin(\".ipynb_checkpoints\", x), readdir(joinpath(data_dir, \"SRA\"), join=true))\n",
    "\n",
    "ProgressMeter.@showprogress for SRR_path in SRR_paths\n",
    "    assembled_fasta = joinpath(SRR_path, \"megahit\", \"final.contigs.fastg.gfa.fna\")\n",
    "    prodigal_directory = Mycelia.run_prodigal(fasta_file=assembled_fasta, use_conda=true)\n",
    "end"
   ]
  }
 ],
 "metadata": {
  "kernelspec": {
   "display_name": "Julia 1.6.7",
   "language": "julia",
   "name": "julia-1.6"
  },
  "language_info": {
   "file_extension": ".jl",
   "mimetype": "application/julia",
   "name": "julia",
   "version": "1.6.7"
  }
 },
 "nbformat": 4,
 "nbformat_minor": 5
}
