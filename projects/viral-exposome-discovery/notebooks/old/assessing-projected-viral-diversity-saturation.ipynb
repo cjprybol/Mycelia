{
 "cells": [
  {
   "cell_type": "code",
   "execution_count": null,
   "id": "ef5721be-ff96-4b54-a19f-469323695e20",
   "metadata": {},
   "outputs": [],
   "source": [
    "# papermill parameters\n",
    "project=\"viral-pangenome-discovery\"\n",
    "base=\"$(homedir())/workspace/$(project)\"\n",
    "ncbi_data_dir=\"$(base)/data/taxon_10239.genbank\""
   ]
  },
  {
   "cell_type": "code",
   "execution_count": null,
   "id": "894fd651-0dae-49e2-8fb8-adc95afdca93",
   "metadata": {},
   "outputs": [],
   "source": [
    "import Pkg\n",
    "\n",
    "# Pkg.add(url=\"https://github.com/cjprybol/Mycelia.git\", rev=\"master\")\n",
    "Pkg.add(path=\"../../Mycelia\")\n",
    "import Mycelia\n",
    "\n",
    "# Pkg.update()\n",
    "\n",
    "pkgs = [\n",
    "    \"Revise\",\n",
    "    \"DataFrames\",\n",
    "    \"uCSV\",\n",
    "    \"ProgressMeter\",\n",
    "    \"FASTX\",\n",
    "    \"Revise\",\n",
    "    \"Kmers\"\n",
    "]\n",
    "\n",
    "for pkg in pkgs\n",
    "    try\n",
    "        eval(Meta.parse(\"import $pkg\"))\n",
    "    catch\n",
    "        Pkg.add(pkg)\n",
    "        eval(Meta.parse(\"import $pkg\"))\n",
    "    end\n",
    "end"
   ]
  },
  {
   "cell_type": "code",
   "execution_count": null,
   "id": "4c3a211e-cec7-4125-9e6c-77c503df7413",
   "metadata": {},
   "outputs": [],
   "source": [
    "entity_directories = filter(x -> isdir(x), readdir(joinpath(ncbi_data_dir, \"ncbi_dataset\", \"data\"), join=true))"
   ]
  },
  {
   "cell_type": "code",
   "execution_count": null,
   "id": "044698eb-8444-44d8-87b3-47d07330c5d3",
   "metadata": {},
   "outputs": [],
   "source": [
    "fastas = String[]\n",
    "for dir in entity_directories\n",
    "    matching_fastas = filter(x -> occursin(basename(dir), basename(x)) && occursin(\".fna\", x), readdir(dir, join=true))\n",
    "    @assert length(matching_fastas) <= 1 \"$(matching_fastas)\"\n",
    "    if !isempty(matching_fastas)\n",
    "        push!(fastas, first(matching_fastas))\n",
    "    end\n",
    "end "
   ]
  },
  {
   "cell_type": "code",
   "execution_count": null,
   "id": "312ca929-75a7-4276-bc24-80676361de9d",
   "metadata": {},
   "outputs": [],
   "source": [
    "Mycelia.assess_dnamer_saturation(fastas)"
   ]
  },
  {
   "cell_type": "code",
   "execution_count": null,
   "id": "57afd142-2207-4e7b-952b-048bf0552007",
   "metadata": {},
   "outputs": [],
   "source": [
    "# 1_552_665_911\n",
    "expected_17mer_diversity_of_all_viruses = Int(round(8248849 / 0.0053127005230635405))"
   ]
  },
  {
   "cell_type": "code",
   "execution_count": null,
   "id": "dfd09287-0397-4875-bff6-99005385b81f",
   "metadata": {},
   "outputs": [],
   "source": [
    "# 9_831_668\n",
    "expected_13mer_diversity_saturation_of_all_viruses = Int(ceil(6128230/0.6233153939247131))"
   ]
  },
  {
   "cell_type": "code",
   "execution_count": null,
   "id": "c1b29625-2146-497b-9d84-00bc4c654a45",
   "metadata": {},
   "outputs": [],
   "source": [
    "# this would probably go into the supplement\n",
    "# have joint with observed be a main figure"
   ]
  }
 ],
 "metadata": {
  "kernelspec": {
   "display_name": "Julia 1.6.3",
   "language": "julia",
   "name": "julia-1.6"
  },
  "language_info": {
   "file_extension": ".jl",
   "mimetype": "application/julia",
   "name": "julia",
   "version": "1.6.3"
  }
 },
 "nbformat": 4,
 "nbformat_minor": 5
}
