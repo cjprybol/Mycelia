{
 "cells": [
  {
   "cell_type": "code",
   "execution_count": null,
   "id": "b1ec3ac0-e197-418f-86be-f2e8a5fadb82",
   "metadata": {},
   "outputs": [],
   "source": [
    "# run(`conda create --channel conda-forge --channel bioconda --channel defaults --strict-channel-priority --name blast blast`)\n",
    "# run(`conda create --channel conda-forge --channel bioconda --channel defaults --strict-channel-priority --name taxonkit taxonkit`)"
   ]
  },
  {
   "cell_type": "code",
   "execution_count": 40,
   "id": "c17e93fe-d82c-45fa-8fee-1e86d080538c",
   "metadata": {},
   "outputs": [
    {
     "name": "stderr",
     "output_type": "stream",
     "text": [
      "\u001b[32m\u001b[1m   Resolving\u001b[22m\u001b[39m package versions...\n",
      "\u001b[32m\u001b[1m    Updating\u001b[22m\u001b[39m `/oak/stanford/scg/lab_mpsnyder/cjprybol/Mycelia/Project.toml`\n",
      "  \u001b[90m[08abe8d2] \u001b[39m\u001b[92m+ PrettyTables v2.3.1\u001b[39m\n",
      "\u001b[32m\u001b[1m  No Changes\u001b[22m\u001b[39m to `/oak/stanford/scg/lab_mpsnyder/cjprybol/Mycelia/Manifest.toml`\n",
      "\u001b[32m\u001b[1mPrecompiling\u001b[22m\u001b[39m project...\n",
      "\u001b[32m  ✓ \u001b[39m\u001b[90mlibsixel_jll\u001b[39m\n",
      "\u001b[32m  ✓ \u001b[39m\u001b[90mJpegTurbo\u001b[39m\n",
      "\u001b[32m  ✓ \u001b[39m\u001b[90mSixel\u001b[39m\n",
      "\u001b[32m  ✓ \u001b[39m\u001b[90mPNGFiles\u001b[39m\n",
      "\u001b[32m  ✓ \u001b[39m\u001b[90mImageIO\u001b[39m\n",
      "\u001b[32m  ✓ \u001b[39mMakie\n",
      "\u001b[32m  ✓ \u001b[39mGeoMakie\n",
      "\u001b[32m  ✓ \u001b[39mCairoMakie\n",
      "  8 dependencies successfully precompiled in 242 seconds. 436 already precompiled.\n"
     ]
    }
   ],
   "source": [
    "import Pkg\n",
    "pkgs = [\n",
    "    \"Revise\",\n",
    "    \"DataFrames\",\n",
    "    \"uCSV\",\n",
    "    \"StatsPlots\",\n",
    "    \"StatsBase\",\n",
    "    \"FreqTables\",\n",
    "    \"Conda\",\n",
    "    \"ProgressMeter\",\n",
    "    \"PrettyTables\"\n",
    "]\n",
    "# Pkg.add(pkgs)\n",
    "for pkg in pkgs\n",
    "    eval(Meta.parse(\"import $pkg\"))\n",
    "end\n",
    "import Mycelia"
   ]
  },
  {
   "cell_type": "code",
   "execution_count": 2,
   "id": "909f13b4-7e9d-429b-8b83-33c99af653c9",
   "metadata": {},
   "outputs": [
    {
     "data": {
      "text/plain": [
       "\"/oak/stanford/scg/lab_mpsnyder/cjprybol/Mycelia/projects/viral-exposome-discovery/data\""
      ]
     },
     "execution_count": 2,
     "metadata": {},
     "output_type": "execute_result"
    }
   ],
   "source": [
    "data_dir = joinpath(dirname(pwd()), \"data\")"
   ]
  },
  {
   "cell_type": "code",
   "execution_count": 3,
   "id": "0609f79c-54bf-48ff-8603-4abebe5c7220",
   "metadata": {},
   "outputs": [
    {
     "data": {
      "text/plain": [
       "\"megablast\""
      ]
     },
     "execution_count": 3,
     "metadata": {},
     "output_type": "execute_result"
    }
   ],
   "source": [
    "blast_task = \"megablast\""
   ]
  },
  {
   "cell_type": "code",
   "execution_count": 4,
   "id": "6bf44df1-e7e1-46f8-899a-883bc26e3673",
   "metadata": {},
   "outputs": [
    {
     "data": {
      "text/plain": [
       "\"nt_viruses\""
      ]
     },
     "execution_count": 4,
     "metadata": {},
     "output_type": "execute_result"
    }
   ],
   "source": [
    "db = \"nt_viruses\""
   ]
  },
  {
   "cell_type": "code",
   "execution_count": 5,
   "id": "b2c296c8-6eb4-4330-96f0-c8367d1d8798",
   "metadata": {},
   "outputs": [
    {
     "data": {
      "text/plain": [
       "\"/oak/stanford/scg/lab_mpsnyder/cjprybol/Mycelia/projects/viral-exposome-discovery/data/exposome_data/joint-reads\""
      ]
     },
     "execution_count": 5,
     "metadata": {},
     "output_type": "execute_result"
    }
   ],
   "source": [
    "dir = joinpath(data_dir, \"exposome_data\", \"joint-reads\")"
   ]
  },
  {
   "cell_type": "code",
   "execution_count": 6,
   "id": "2c58ebf0-253f-48a7-ba0f-ee756d150d9a",
   "metadata": {},
   "outputs": [
    {
     "data": {
      "text/plain": [
       "24-element Vector{String}:\n",
       " \"/oak/stanford/scg/lab_mpsnyder/\" ⋯ 104 bytes ⋯ \"bcAd1001T--bcAd1001T.bam.fasta\"\n",
       " \"/oak/stanford/scg/lab_mpsnyder/\" ⋯ 104 bytes ⋯ \"bcAd1002T--bcAd1002T.bam.fasta\"\n",
       " \"/oak/stanford/scg/lab_mpsnyder/\" ⋯ 104 bytes ⋯ \"bcAd1003T--bcAd1003T.bam.fasta\"\n",
       " \"/oak/stanford/scg/lab_mpsnyder/\" ⋯ 104 bytes ⋯ \"bcAd1004T--bcAd1004T.bam.fasta\"\n",
       " \"/oak/stanford/scg/lab_mpsnyder/\" ⋯ 104 bytes ⋯ \"bcAd1006T--bcAd1006T.bam.fasta\"\n",
       " \"/oak/stanford/scg/lab_mpsnyder/\" ⋯ 104 bytes ⋯ \"bcAd1007T--bcAd1007T.bam.fasta\"\n",
       " \"/oak/stanford/scg/lab_mpsnyder/\" ⋯ 104 bytes ⋯ \"bcAd1008T--bcAd1008T.bam.fasta\"\n",
       " \"/oak/stanford/scg/lab_mpsnyder/\" ⋯ 104 bytes ⋯ \"bcAd1009T--bcAd1009T.bam.fasta\"\n",
       " \"/oak/stanford/scg/lab_mpsnyder/\" ⋯ 104 bytes ⋯ \"bcAd1010T--bcAd1010T.bam.fasta\"\n",
       " \"/oak/stanford/scg/lab_mpsnyder/\" ⋯ 104 bytes ⋯ \"bcAd1011T--bcAd1011T.bam.fasta\"\n",
       " \"/oak/stanford/scg/lab_mpsnyder/\" ⋯ 104 bytes ⋯ \"bcAd1012T--bcAd1012T.bam.fasta\"\n",
       " \"/oak/stanford/scg/lab_mpsnyder/\" ⋯ 104 bytes ⋯ \"bcAd1013T--bcAd1013T.bam.fasta\"\n",
       " \"/oak/stanford/scg/lab_mpsnyder/\" ⋯ 104 bytes ⋯ \"bcAd1015T--bcAd1015T.bam.fasta\"\n",
       " \"/oak/stanford/scg/lab_mpsnyder/\" ⋯ 104 bytes ⋯ \"bcAd1016T--bcAd1016T.bam.fasta\"\n",
       " \"/oak/stanford/scg/lab_mpsnyder/\" ⋯ 104 bytes ⋯ \"bcAd1017T--bcAd1017T.bam.fasta\"\n",
       " \"/oak/stanford/scg/lab_mpsnyder/\" ⋯ 104 bytes ⋯ \"bcAd1018T--bcAd1018T.bam.fasta\"\n",
       " \"/oak/stanford/scg/lab_mpsnyder/\" ⋯ 104 bytes ⋯ \"bcAd1019T--bcAd1019T.bam.fasta\"\n",
       " \"/oak/stanford/scg/lab_mpsnyder/\" ⋯ 104 bytes ⋯ \"bcAd1020T--bcAd1020T.bam.fasta\"\n",
       " \"/oak/stanford/scg/lab_mpsnyder/\" ⋯ 104 bytes ⋯ \"bcAd1021T--bcAd1021T.bam.fasta\"\n",
       " \"/oak/stanford/scg/lab_mpsnyder/\" ⋯ 104 bytes ⋯ \"bcAd1022T--bcAd1022T.bam.fasta\"\n",
       " \"/oak/stanford/scg/lab_mpsnyder/\" ⋯ 103 bytes ⋯ \"s2.hifi_reads.bc1001.bam.fasta\"\n",
       " \"/oak/stanford/scg/lab_mpsnyder/\" ⋯ 103 bytes ⋯ \"s2.hifi_reads.bc1002.bam.fasta\"\n",
       " \"/oak/stanford/scg/lab_mpsnyder/\" ⋯ 103 bytes ⋯ \"s2.hifi_reads.bc1004.bam.fasta\"\n",
       " \"/oak/stanford/scg/lab_mpsnyder/\" ⋯ 107 bytes ⋯ \"ifi_reads.unassigned.bam.fasta\""
      ]
     },
     "execution_count": 6,
     "metadata": {},
     "output_type": "execute_result"
    }
   ],
   "source": [
    "fasta_paths = filter(x -> !occursin(\".ipynb_checkpoints\", x) && occursin(r\"\\.fasta$\", x), readdir(dir, join=true))\n",
    "# sample_paths = filter(x -> isfile(joinpath.(x, \"megahit\", \"final.contigs.fastg.gfa.fna\")), sample_paths)"
   ]
  },
  {
   "cell_type": "code",
   "execution_count": 7,
   "id": "c2714a23-e2a0-40f0-8715-bdd02f41a31c",
   "metadata": {},
   "outputs": [
    {
     "data": {
      "text/plain": [
       "24-element Vector{String}:\n",
       " \"/oak/stanford/scg/lab_mpsnyder/\" ⋯ 136 bytes ⋯ \"lastn.nt_viruses.megablast.txt\"\n",
       " \"/oak/stanford/scg/lab_mpsnyder/\" ⋯ 136 bytes ⋯ \"lastn.nt_viruses.megablast.txt\"\n",
       " \"/oak/stanford/scg/lab_mpsnyder/\" ⋯ 136 bytes ⋯ \"lastn.nt_viruses.megablast.txt\"\n",
       " \"/oak/stanford/scg/lab_mpsnyder/\" ⋯ 136 bytes ⋯ \"lastn.nt_viruses.megablast.txt\"\n",
       " \"/oak/stanford/scg/lab_mpsnyder/\" ⋯ 136 bytes ⋯ \"lastn.nt_viruses.megablast.txt\"\n",
       " \"/oak/stanford/scg/lab_mpsnyder/\" ⋯ 136 bytes ⋯ \"lastn.nt_viruses.megablast.txt\"\n",
       " \"/oak/stanford/scg/lab_mpsnyder/\" ⋯ 136 bytes ⋯ \"lastn.nt_viruses.megablast.txt\"\n",
       " \"/oak/stanford/scg/lab_mpsnyder/\" ⋯ 136 bytes ⋯ \"lastn.nt_viruses.megablast.txt\"\n",
       " \"/oak/stanford/scg/lab_mpsnyder/\" ⋯ 136 bytes ⋯ \"lastn.nt_viruses.megablast.txt\"\n",
       " \"/oak/stanford/scg/lab_mpsnyder/\" ⋯ 136 bytes ⋯ \"lastn.nt_viruses.megablast.txt\"\n",
       " \"/oak/stanford/scg/lab_mpsnyder/\" ⋯ 136 bytes ⋯ \"lastn.nt_viruses.megablast.txt\"\n",
       " \"/oak/stanford/scg/lab_mpsnyder/\" ⋯ 136 bytes ⋯ \"lastn.nt_viruses.megablast.txt\"\n",
       " \"/oak/stanford/scg/lab_mpsnyder/\" ⋯ 136 bytes ⋯ \"lastn.nt_viruses.megablast.txt\"\n",
       " \"/oak/stanford/scg/lab_mpsnyder/\" ⋯ 136 bytes ⋯ \"lastn.nt_viruses.megablast.txt\"\n",
       " \"/oak/stanford/scg/lab_mpsnyder/\" ⋯ 136 bytes ⋯ \"lastn.nt_viruses.megablast.txt\"\n",
       " \"/oak/stanford/scg/lab_mpsnyder/\" ⋯ 136 bytes ⋯ \"lastn.nt_viruses.megablast.txt\"\n",
       " \"/oak/stanford/scg/lab_mpsnyder/\" ⋯ 136 bytes ⋯ \"lastn.nt_viruses.megablast.txt\"\n",
       " \"/oak/stanford/scg/lab_mpsnyder/\" ⋯ 136 bytes ⋯ \"lastn.nt_viruses.megablast.txt\"\n",
       " \"/oak/stanford/scg/lab_mpsnyder/\" ⋯ 136 bytes ⋯ \"lastn.nt_viruses.megablast.txt\"\n",
       " \"/oak/stanford/scg/lab_mpsnyder/\" ⋯ 136 bytes ⋯ \"lastn.nt_viruses.megablast.txt\"\n",
       " \"/oak/stanford/scg/lab_mpsnyder/\" ⋯ 135 bytes ⋯ \"lastn.nt_viruses.megablast.txt\"\n",
       " \"/oak/stanford/scg/lab_mpsnyder/\" ⋯ 135 bytes ⋯ \"lastn.nt_viruses.megablast.txt\"\n",
       " \"/oak/stanford/scg/lab_mpsnyder/\" ⋯ 135 bytes ⋯ \"lastn.nt_viruses.megablast.txt\"\n",
       " \"/oak/stanford/scg/lab_mpsnyder/\" ⋯ 139 bytes ⋯ \"lastn.nt_viruses.megablast.txt\""
      ]
     },
     "execution_count": 7,
     "metadata": {},
     "output_type": "execute_result"
    }
   ],
   "source": [
    "target_outfiles = [joinpath(dir, basename(fp) * \".blastn.$(db).$(blast_task).txt\") for fp in fasta_paths]"
   ]
  },
  {
   "cell_type": "code",
   "execution_count": 116,
   "id": "7b4c3d47-d31f-42a9-8e8b-dc0b5c3a9f78",
   "metadata": {},
   "outputs": [
    {
     "data": {
      "text/plain": [
       "Set{Int64} with 241049 elements:\n",
       "  2956278\n",
       "  656260\n",
       "  1742422\n",
       "  1427858\n",
       "  2783550\n",
       "  1599415\n",
       "  300190\n",
       "  2901373\n",
       "  468417\n",
       "  864692\n",
       "  1149619\n",
       "  2798297\n",
       "  2946055\n",
       "  2764961\n",
       "  2827923\n",
       "  1431632\n",
       "  1733762\n",
       "  1924399\n",
       "  1613832\n",
       "  2558856\n",
       "  2822896\n",
       "  1686811\n",
       "  438298\n",
       "  438823\n",
       "  1347503\n",
       "  ⋮ "
      ]
     },
     "execution_count": 116,
     "metadata": {},
     "output_type": "execute_result"
    }
   ],
   "source": [
    "# NCBI host metadata\n",
    "ncbi_metadata_file = joinpath(dirname(pwd()), \"metadata\", \"NCBI-virus-refseq.transformed.tsv\")\n",
    "ncbi_host_metadata = DataFrames.DataFrame(uCSV.read(ncbi_metadata_file, header=1, delim='\\t', encodings=Dict(\"false\" => false, \"true\" => true)))\n",
    "\n",
    "# ICTV host metadata\n",
    "ictv_metadata_file = joinpath(dirname(pwd()), \"metadata\", \"VMR_MSL38_v1 - VMR MSL38 v1.transformed.tsv\")\n",
    "ictv_host_metadata = DataFrames.DataFrame(uCSV.read(ictv_metadata_file, header=1, delim='\\t', typedetectrows=100))\n",
    "ictv_host_metadata = ictv_host_metadata[.!isempty.(ictv_host_metadata[!, \"taxid\"]), :]\n",
    "ictv_host_metadata[!, \"taxid\"] = parse.(Int, ictv_host_metadata[!, \"taxid\"])\n",
    "\n",
    "viral_tax_ids = Set(Mycelia.list_subtaxa(10239))"
   ]
  },
  {
   "cell_type": "code",
   "execution_count": 122,
   "id": "7b90af91-3dd1-4809-8c77-3622818864f4",
   "metadata": {},
   "outputs": [
    {
     "data": {
      "text/plain": [
       "3248-element Vector{Int64}:\n",
       " 3050346\n",
       " 3050347\n",
       " 3048291\n",
       " 3050136\n",
       " 3050269\n",
       " 3050270\n",
       " 3050271\n",
       " 3050133\n",
       " 3050301\n",
       " 3050302\n",
       " 3050351\n",
       " 3050352\n",
       " 3050353\n",
       "       ⋮\n",
       " 3052751\n",
       " 3052752\n",
       " 3052775\n",
       " 3052778\n",
       " 3052780\n",
       " 3052783\n",
       " 3052820\n",
       " 3052821\n",
       " 3052822\n",
       " 3052829\n",
       " 3052830\n",
       " 3048379"
      ]
     },
     "execution_count": 122,
     "metadata": {},
     "output_type": "execute_result"
    }
   ],
   "source": []
  },
  {
   "cell_type": "code",
   "execution_count": 130,
   "id": "02bcbd87-d736-4b14-83e9-610e710c5e97",
   "metadata": {},
   "outputs": [
    {
     "name": "stderr",
     "output_type": "stream",
     "text": [
      "\u001b[32mProgress:  58%|███████████████████████▉                 |  ETA: 0:00:03\u001b[39m\u001b[36m\u001b[1m[ \u001b[22m\u001b[39m\u001b[36m\u001b[1mInfo: \u001b[22m\u001b[39mnot hits found, returning empty table\n",
      "\u001b[32mProgress: 100%|█████████████████████████████████████████| Time: 0:00:04\u001b[39m\n",
      "08:54:54.722 \u001b[33m[WARN]\u001b[0m taxid 3077354 was deleted\n"
     ]
    },
    {
     "data": {
      "text/html": [
       "<div><div style = \"float: left;\"><span>276×21 DataFrame</span></div><div style = \"float: right;\"><span style = \"font-style: italic;\">251 rows omitted</span></div><div style = \"clear: both;\"></div></div><div class = \"data-frame\" style = \"overflow-x: scroll;\"><table class = \"data-frame\" style = \"margin-bottom: 6px;\"><thead><tr class = \"header\"><th class = \"rowNumber\" style = \"font-weight: bold; text-align: right;\">Row</th><th style = \"text-align: left;\">query id</th><th style = \"text-align: left;\">subject id</th><th style = \"text-align: left;\">subject acc.</th><th style = \"text-align: left;\">subject acc.ver</th><th style = \"text-align: left;\">subject title</th><th style = \"text-align: left;\">query length</th><th style = \"text-align: left;\">subject length</th><th style = \"text-align: left;\">q. start</th><th style = \"text-align: left;\">q. end</th><th style = \"text-align: left;\">s. start</th><th style = \"text-align: left;\">s. end</th><th style = \"text-align: left;\">evalue</th><th style = \"text-align: left;\">bit score</th><th style = \"text-align: left;\">alignment length</th><th style = \"text-align: left;\">% identity</th><th style = \"text-align: left;\">identical</th><th style = \"text-align: left;\">mismatches</th><th style = \"text-align: left;\">subject tax id</th><th style = \"text-align: left;\">subject tax ids</th><th style = \"text-align: left;\">sample_id</th><th style = \"text-align: left;\">subject tax name</th></tr><tr class = \"subheader headerLastRow\"><th class = \"rowNumber\" style = \"font-weight: bold; text-align: right;\"></th><th title = \"String\" style = \"text-align: left;\">String</th><th title = \"String\" style = \"text-align: left;\">String</th><th title = \"String\" style = \"text-align: left;\">String</th><th title = \"String\" style = \"text-align: left;\">String</th><th title = \"String\" style = \"text-align: left;\">String</th><th title = \"Int64\" style = \"text-align: left;\">Int64</th><th title = \"Int64\" style = \"text-align: left;\">Int64</th><th title = \"Int64\" style = \"text-align: left;\">Int64</th><th title = \"Int64\" style = \"text-align: left;\">Int64</th><th title = \"Int64\" style = \"text-align: left;\">Int64</th><th title = \"Int64\" style = \"text-align: left;\">Int64</th><th title = \"Float64\" style = \"text-align: left;\">Float64</th><th title = \"Float64\" style = \"text-align: left;\">Float64</th><th title = \"Int64\" style = \"text-align: left;\">Int64</th><th title = \"Float64\" style = \"text-align: left;\">Float64</th><th title = \"Int64\" style = \"text-align: left;\">Int64</th><th title = \"Int64\" style = \"text-align: left;\">Int64</th><th title = \"Int64\" style = \"text-align: left;\">Int64</th><th title = \"String\" style = \"text-align: left;\">String</th><th title = \"String\" style = \"text-align: left;\">String</th><th title = \"String\" style = \"text-align: left;\">String</th></tr></thead><tbody><tr><td class = \"rowNumber\" style = \"font-weight: bold; text-align: right;\">1</td><td style = \"text-align: left;\">m64283e_231026_230505/2295915/ccs</td><td style = \"text-align: left;\">gi|2500378567|ref|NC_076305.1|</td><td style = \"text-align: left;\">NC_076305</td><td style = \"text-align: left;\">NC_076305.1</td><td style = \"text-align: left;\">MAG: Genomoviridae sp. isolate ctbh806, complete genome</td><td style = \"text-align: right;\">2761</td><td style = \"text-align: right;\">2214</td><td style = \"text-align: right;\">2079</td><td style = \"text-align: right;\">2634</td><td style = \"text-align: right;\">2155</td><td style = \"text-align: right;\">1600</td><td style = \"text-align: right;\">1.88604e-166</td><td style = \"text-align: right;\">612.0</td><td style = \"text-align: right;\">571</td><td style = \"text-align: right;\">86.865</td><td style = \"text-align: right;\">496</td><td style = \"text-align: right;\">45</td><td style = \"text-align: right;\">2202565</td><td style = \"text-align: left;\">2202565</td><td style = \"text-align: left;\">m64283e_231026_230505</td><td style = \"text-align: left;\">Genomoviridae sp.</td></tr><tr><td class = \"rowNumber\" style = \"font-weight: bold; text-align: right;\">2</td><td style = \"text-align: left;\">m64283e_231026_230505/19466738/ccs</td><td style = \"text-align: left;\">gi|1829760864|gb|MT154980.1|</td><td style = \"text-align: left;\">MT154980</td><td style = \"text-align: left;\">MT154980.1</td><td style = \"text-align: left;\">HIV-1 isolate HK_JIDLNBL_S071 from Switzerland nonfunctional gag protein (gag) gene, complete sequence; and nonfunctional pol protein (pol) gene, partial sequence</td><td style = \"text-align: right;\">1296</td><td style = \"text-align: right;\">13714</td><td style = \"text-align: right;\">42</td><td style = \"text-align: right;\">96</td><td style = \"text-align: right;\">5262</td><td style = \"text-align: right;\">5208</td><td style = \"text-align: right;\">5.09167e-5</td><td style = \"text-align: right;\">75.0</td><td style = \"text-align: right;\">55</td><td style = \"text-align: right;\">90.909</td><td style = \"text-align: right;\">50</td><td style = \"text-align: right;\">5</td><td style = \"text-align: right;\">11676</td><td style = \"text-align: left;\">11676</td><td style = \"text-align: left;\">m64283e_231026_230505</td><td style = \"text-align: left;\">Human immunodeficiency virus 1</td></tr><tr><td class = \"rowNumber\" style = \"font-weight: bold; text-align: right;\">3</td><td style = \"text-align: left;\">m64283e_231026_230505/19073653/ccs</td><td style = \"text-align: left;\">gi|2577276572|gb|OM892313.1|</td><td style = \"text-align: left;\">OM892313</td><td style = \"text-align: left;\">OM892313.1</td><td style = \"text-align: left;\">MAG: Genomoviridae sp. isolate 213Gen-1, complete genome</td><td style = \"text-align: right;\">3347</td><td style = \"text-align: right;\">2272</td><td style = \"text-align: right;\">30</td><td style = \"text-align: right;\">1256</td><td style = \"text-align: right;\">1023</td><td style = \"text-align: right;\">2265</td><td style = \"text-align: right;\">0.0</td><td style = \"text-align: right;\">1328.0</td><td style = \"text-align: right;\">1249</td><td style = \"text-align: right;\">86.229</td><td style = \"text-align: right;\">1077</td><td style = \"text-align: right;\">144</td><td style = \"text-align: right;\">2202565</td><td style = \"text-align: left;\">2202565</td><td style = \"text-align: left;\">m64283e_231026_230505</td><td style = \"text-align: left;\">Genomoviridae sp.</td></tr><tr><td class = \"rowNumber\" style = \"font-weight: bold; text-align: right;\">4</td><td style = \"text-align: left;\">m64283e_231026_230505/26675086/ccs</td><td style = \"text-align: left;\">gi|2597793305|gb|OR661080.1|</td><td style = \"text-align: left;\">OR661080</td><td style = \"text-align: left;\">OR661080.1</td><td style = \"text-align: left;\">HIV-1 isolate GB1WS100380 from USA, partial genome</td><td style = \"text-align: right;\">299</td><td style = \"text-align: right;\">9226</td><td style = \"text-align: right;\">5</td><td style = \"text-align: right;\">267</td><td style = \"text-align: right;\">3182</td><td style = \"text-align: right;\">3419</td><td style = \"text-align: right;\">9.97735e-56</td><td style = \"text-align: right;\">241.0</td><td style = \"text-align: right;\">266</td><td style = \"text-align: right;\">84.962</td><td style = \"text-align: right;\">226</td><td style = \"text-align: right;\">9</td><td style = \"text-align: right;\">11676</td><td style = \"text-align: left;\">11676</td><td style = \"text-align: left;\">m64283e_231026_230505</td><td style = \"text-align: left;\">Human immunodeficiency virus 1</td></tr><tr><td class = \"rowNumber\" style = \"font-weight: bold; text-align: right;\">5</td><td style = \"text-align: left;\">m64283e_231026_230505/28116828/ccs</td><td style = \"text-align: left;\">gi|2519784627|gb|OQ779178.1|</td><td style = \"text-align: left;\">OQ779178</td><td style = \"text-align: left;\">OQ779178.1</td><td style = \"text-align: left;\">MAG: Genomoviridae sp. isolate R-SYS-XD/55, complete genome</td><td style = \"text-align: right;\">1194</td><td style = \"text-align: right;\">2128</td><td style = \"text-align: right;\">322</td><td style = \"text-align: right;\">1152</td><td style = \"text-align: right;\">978</td><td style = \"text-align: right;\">1766</td><td style = \"text-align: right;\">0.0</td><td style = \"text-align: right;\">715.0</td><td style = \"text-align: right;\">844</td><td style = \"text-align: right;\">83.294</td><td style = \"text-align: right;\">703</td><td style = \"text-align: right;\">73</td><td style = \"text-align: right;\">2202565</td><td style = \"text-align: left;\">2202565</td><td style = \"text-align: left;\">m64283e_231026_230505</td><td style = \"text-align: left;\">Genomoviridae sp.</td></tr><tr><td class = \"rowNumber\" style = \"font-weight: bold; text-align: right;\">6</td><td style = \"text-align: left;\">m64283e_231026_230505/35523289/ccs</td><td style = \"text-align: left;\">gi|2514203914|gb|OQ751943.1|</td><td style = \"text-align: left;\">OQ751943</td><td style = \"text-align: left;\">OQ751943.1</td><td style = \"text-align: left;\">HIV-1 isolate BC003_proviral_154_Chimera from Canada defective provirus genomic sequence</td><td style = \"text-align: right;\">1977</td><td style = \"text-align: right;\">3666</td><td style = \"text-align: right;\">262</td><td style = \"text-align: right;\">362</td><td style = \"text-align: right;\">1422</td><td style = \"text-align: right;\">1525</td><td style = \"text-align: right;\">2.78078e-14</td><td style = \"text-align: right;\">106.0</td><td style = \"text-align: right;\">105</td><td style = \"text-align: right;\">85.714</td><td style = \"text-align: right;\">90</td><td style = \"text-align: right;\">10</td><td style = \"text-align: right;\">11676</td><td style = \"text-align: left;\">11676</td><td style = \"text-align: left;\">m64283e_231026_230505</td><td style = \"text-align: left;\">Human immunodeficiency virus 1</td></tr><tr><td class = \"rowNumber\" style = \"font-weight: bold; text-align: right;\">7</td><td style = \"text-align: left;\">m64283e_231026_230505/35129973/ccs</td><td style = \"text-align: left;\">gi|1110843055|gb|KY094066.1|</td><td style = \"text-align: left;\">KY094066</td><td style = \"text-align: left;\">KY094066.1</td><td style = \"text-align: left;\">BeAn 58058 virus strain BeAn58058, complete genome</td><td style = \"text-align: right;\">1441</td><td style = \"text-align: right;\">163005</td><td style = \"text-align: right;\">291</td><td style = \"text-align: right;\">589</td><td style = \"text-align: right;\">8319</td><td style = \"text-align: right;\">8606</td><td style = \"text-align: right;\">3.16057e-57</td><td style = \"text-align: right;\">248.0</td><td style = \"text-align: right;\">300</td><td style = \"text-align: right;\">82.333</td><td style = \"text-align: right;\">247</td><td style = \"text-align: right;\">40</td><td style = \"text-align: right;\">67082</td><td style = \"text-align: left;\">67082</td><td style = \"text-align: left;\">m64283e_231026_230505</td><td style = \"text-align: left;\">BeAn 58058 virus</td></tr><tr><td class = \"rowNumber\" style = \"font-weight: bold; text-align: right;\">8</td><td style = \"text-align: left;\">m64283e_231026_230505/38995231/ccs</td><td style = \"text-align: left;\">gi|1625847241|gb|MK384293.1|</td><td style = \"text-align: left;\">MK384293</td><td style = \"text-align: left;\">MK384293.1</td><td style = \"text-align: left;\">HIV-1 isolate 1Pt1-2008-P1A3 from USA defective genome</td><td style = \"text-align: right;\">810</td><td style = \"text-align: right;\">6016</td><td style = \"text-align: right;\">361</td><td style = \"text-align: right;\">439</td><td style = \"text-align: right;\">4495</td><td style = \"text-align: right;\">4415</td><td style = \"text-align: right;\">8.62558e-11</td><td style = \"text-align: right;\">93.5</td><td style = \"text-align: right;\">81</td><td style = \"text-align: right;\">87.654</td><td style = \"text-align: right;\">71</td><td style = \"text-align: right;\">8</td><td style = \"text-align: right;\">11676</td><td style = \"text-align: left;\">11676</td><td style = \"text-align: left;\">m64283e_231026_230505</td><td style = \"text-align: left;\">Human immunodeficiency virus 1</td></tr><tr><td class = \"rowNumber\" style = \"font-weight: bold; text-align: right;\">9</td><td style = \"text-align: left;\">m64283e_231026_230505/45221156/ccs</td><td style = \"text-align: left;\">gi|2519784627|gb|OQ779178.1|</td><td style = \"text-align: left;\">OQ779178</td><td style = \"text-align: left;\">OQ779178.1</td><td style = \"text-align: left;\">MAG: Genomoviridae sp. isolate R-SYS-XD/55, complete genome</td><td style = \"text-align: right;\">1502</td><td style = \"text-align: right;\">2128</td><td style = \"text-align: right;\">35</td><td style = \"text-align: right;\">735</td><td style = \"text-align: right;\">965</td><td style = \"text-align: right;\">1661</td><td style = \"text-align: right;\">0.0</td><td style = \"text-align: right;\">987.0</td><td style = \"text-align: right;\">704</td><td style = \"text-align: right;\">92.188</td><td style = \"text-align: right;\">649</td><td style = \"text-align: right;\">45</td><td style = \"text-align: right;\">2202565</td><td style = \"text-align: left;\">2202565</td><td style = \"text-align: left;\">m64283e_231026_230505</td><td style = \"text-align: left;\">Genomoviridae sp.</td></tr><tr><td class = \"rowNumber\" style = \"font-weight: bold; text-align: right;\">10</td><td style = \"text-align: left;\">m64283e_231026_230505/49218681/ccs</td><td style = \"text-align: left;\">gi|2597793305|gb|OR661080.1|</td><td style = \"text-align: left;\">OR661080</td><td style = \"text-align: left;\">OR661080.1</td><td style = \"text-align: left;\">HIV-1 isolate GB1WS100380 from USA, partial genome</td><td style = \"text-align: right;\">380</td><td style = \"text-align: right;\">9226</td><td style = \"text-align: right;\">220</td><td style = \"text-align: right;\">310</td><td style = \"text-align: right;\">3959</td><td style = \"text-align: right;\">4053</td><td style = \"text-align: right;\">2.25939e-28</td><td style = \"text-align: right;\">150.0</td><td style = \"text-align: right;\">95</td><td style = \"text-align: right;\">95.789</td><td style = \"text-align: right;\">91</td><td style = \"text-align: right;\">0</td><td style = \"text-align: right;\">11676</td><td style = \"text-align: left;\">11676</td><td style = \"text-align: left;\">m64283e_231026_230505</td><td style = \"text-align: left;\">Human immunodeficiency virus 1</td></tr><tr><td class = \"rowNumber\" style = \"font-weight: bold; text-align: right;\">11</td><td style = \"text-align: left;\">m64283e_231026_230505/61472950/ccs</td><td style = \"text-align: left;\">gi|1945660887|gb|MW062906.1|</td><td style = \"text-align: left;\">MW062906</td><td style = \"text-align: left;\">MW062906.1</td><td style = \"text-align: left;\">HIV-1 isolate UNC_432_PL4_N13 from USA defective genome</td><td style = \"text-align: right;\">1748</td><td style = \"text-align: right;\">3570</td><td style = \"text-align: right;\">1176</td><td style = \"text-align: right;\">1431</td><td style = \"text-align: right;\">3175</td><td style = \"text-align: right;\">3420</td><td style = \"text-align: right;\">8.23936e-64</td><td style = \"text-align: right;\">270.0</td><td style = \"text-align: right;\">264</td><td style = \"text-align: right;\">86.742</td><td style = \"text-align: right;\">229</td><td style = \"text-align: right;\">9</td><td style = \"text-align: right;\">11676</td><td style = \"text-align: left;\">11676</td><td style = \"text-align: left;\">m64283e_231026_230505</td><td style = \"text-align: left;\">Human immunodeficiency virus 1</td></tr><tr><td class = \"rowNumber\" style = \"font-weight: bold; text-align: right;\">12</td><td style = \"text-align: left;\">m64283e_231026_230505/66127909/ccs</td><td style = \"text-align: left;\">gi|2567179267|gb|OR245780.1|</td><td style = \"text-align: left;\">OR245780</td><td style = \"text-align: left;\">OR245780.1</td><td style = \"text-align: left;\">HIV-1 isolate MRC008_umi406bins_ubs-42_rep06_count-1 from Belgium defective genome</td><td style = \"text-align: right;\">5532</td><td style = \"text-align: right;\">5352</td><td style = \"text-align: right;\">3417</td><td style = \"text-align: right;\">3728</td><td style = \"text-align: right;\">1874</td><td style = \"text-align: right;\">1585</td><td style = \"text-align: right;\">2.14352e-29</td><td style = \"text-align: right;\">158.0</td><td style = \"text-align: right;\">316</td><td style = \"text-align: right;\">77.215</td><td style = \"text-align: right;\">244</td><td style = \"text-align: right;\">42</td><td style = \"text-align: right;\">11676</td><td style = \"text-align: left;\">11676</td><td style = \"text-align: left;\">m64283e_231026_230505</td><td style = \"text-align: left;\">Human immunodeficiency virus 1</td></tr><tr><td class = \"rowNumber\" style = \"font-weight: bold; text-align: right;\">13</td><td style = \"text-align: left;\">m64283e_231026_230505/73138261/ccs</td><td style = \"text-align: left;\">gi|2597793041|gb|OR660783.1|</td><td style = \"text-align: left;\">OR660783</td><td style = \"text-align: left;\">OR660783.1</td><td style = \"text-align: left;\">HIV-1 isolate GB1WS100083 from USA, partial genome</td><td style = \"text-align: right;\">1157</td><td style = \"text-align: right;\">13313</td><td style = \"text-align: right;\">28</td><td style = \"text-align: right;\">142</td><td style = \"text-align: right;\">9645</td><td style = \"text-align: right;\">9531</td><td style = \"text-align: right;\">9.33365e-37</td><td style = \"text-align: right;\">180.0</td><td style = \"text-align: right;\">115</td><td style = \"text-align: right;\">94.783</td><td style = \"text-align: right;\">109</td><td style = \"text-align: right;\">6</td><td style = \"text-align: right;\">11676</td><td style = \"text-align: left;\">11676</td><td style = \"text-align: left;\">m64283e_231026_230505</td><td style = \"text-align: left;\">Human immunodeficiency virus 1</td></tr><tr><td style = \"text-align: right;\">&vellip;</td><td style = \"text-align: right;\">&vellip;</td><td style = \"text-align: right;\">&vellip;</td><td style = \"text-align: right;\">&vellip;</td><td style = \"text-align: right;\">&vellip;</td><td style = \"text-align: right;\">&vellip;</td><td style = \"text-align: right;\">&vellip;</td><td style = \"text-align: right;\">&vellip;</td><td style = \"text-align: right;\">&vellip;</td><td style = \"text-align: right;\">&vellip;</td><td style = \"text-align: right;\">&vellip;</td><td style = \"text-align: right;\">&vellip;</td><td style = \"text-align: right;\">&vellip;</td><td style = \"text-align: right;\">&vellip;</td><td style = \"text-align: right;\">&vellip;</td><td style = \"text-align: right;\">&vellip;</td><td style = \"text-align: right;\">&vellip;</td><td style = \"text-align: right;\">&vellip;</td><td style = \"text-align: right;\">&vellip;</td><td style = \"text-align: right;\">&vellip;</td><td style = \"text-align: right;\">&vellip;</td><td style = \"text-align: right;\">&vellip;</td></tr><tr><td class = \"rowNumber\" style = \"font-weight: bold; text-align: right;\">265</td><td style = \"text-align: left;\">m64283e_231026_230505/21891130/ccs</td><td style = \"text-align: left;\">gi|2052683904|gb|MW828677.1|</td><td style = \"text-align: left;\">MW828677</td><td style = \"text-align: left;\">MW828677.1</td><td style = \"text-align: left;\">Genomoviridae sp. isolate 11BAMI.2199, complete sequence</td><td style = \"text-align: right;\">632</td><td style = \"text-align: right;\">2199</td><td style = \"text-align: right;\">263</td><td style = \"text-align: right;\">341</td><td style = \"text-align: right;\">1698</td><td style = \"text-align: right;\">1774</td><td style = \"text-align: right;\">1.78446e-14</td><td style = \"text-align: right;\">106.0</td><td style = \"text-align: right;\">80</td><td style = \"text-align: right;\">91.25</td><td style = \"text-align: right;\">73</td><td style = \"text-align: right;\">3</td><td style = \"text-align: right;\">2202565</td><td style = \"text-align: left;\">2202565</td><td style = \"text-align: left;\">m64283e_231026_230505</td><td style = \"text-align: left;\">Genomoviridae sp.</td></tr><tr><td class = \"rowNumber\" style = \"font-weight: bold; text-align: right;\">266</td><td style = \"text-align: left;\">m64283e_231026_230505/67044234/ccs</td><td style = \"text-align: left;\">gi|2519784627|gb|OQ779178.1|</td><td style = \"text-align: left;\">OQ779178</td><td style = \"text-align: left;\">OQ779178.1</td><td style = \"text-align: left;\">MAG: Genomoviridae sp. isolate R-SYS-XD/55, complete genome</td><td style = \"text-align: right;\">3987</td><td style = \"text-align: right;\">2128</td><td style = \"text-align: right;\">571</td><td style = \"text-align: right;\">1750</td><td style = \"text-align: right;\">2114</td><td style = \"text-align: right;\">991</td><td style = \"text-align: right;\">0.0</td><td style = \"text-align: right;\">965.0</td><td style = \"text-align: right;\">1200</td><td style = \"text-align: right;\">82.5</td><td style = \"text-align: right;\">990</td><td style = \"text-align: right;\">114</td><td style = \"text-align: right;\">2202565</td><td style = \"text-align: left;\">2202565</td><td style = \"text-align: left;\">m64283e_231026_230505</td><td style = \"text-align: left;\">Genomoviridae sp.</td></tr><tr><td class = \"rowNumber\" style = \"font-weight: bold; text-align: right;\">267</td><td style = \"text-align: left;\">m64283e_231026_230505/112921418/ccs</td><td style = \"text-align: left;\">gi|1154325763|gb|KT982185.1|</td><td style = \"text-align: left;\">KT982185</td><td style = \"text-align: left;\">KT982185.1</td><td style = \"text-align: left;\">HIV-1 isolate M0107v1d14-5M15-C1 from USA genomic sequence</td><td style = \"text-align: right;\">967</td><td style = \"text-align: right;\">687</td><td style = \"text-align: right;\">276</td><td style = \"text-align: right;\">543</td><td style = \"text-align: right;\">637</td><td style = \"text-align: right;\">378</td><td style = \"text-align: right;\">5.84981e-31</td><td style = \"text-align: right;\">161.0</td><td style = \"text-align: right;\">275</td><td style = \"text-align: right;\">78.545</td><td style = \"text-align: right;\">216</td><td style = \"text-align: right;\">37</td><td style = \"text-align: right;\">11676</td><td style = \"text-align: left;\">11676</td><td style = \"text-align: left;\">m64283e_231026_230505</td><td style = \"text-align: left;\">Human immunodeficiency virus 1</td></tr><tr><td class = \"rowNumber\" style = \"font-weight: bold; text-align: right;\">268</td><td style = \"text-align: left;\">m64283e_231026_230505/156698313/ccs</td><td style = \"text-align: left;\">gi|2577276572|gb|OM892313.1|</td><td style = \"text-align: left;\">OM892313</td><td style = \"text-align: left;\">OM892313.1</td><td style = \"text-align: left;\">MAG: Genomoviridae sp. isolate 213Gen-1, complete genome</td><td style = \"text-align: right;\">12420</td><td style = \"text-align: right;\">2272</td><td style = \"text-align: right;\">336</td><td style = \"text-align: right;\">606</td><td style = \"text-align: right;\">2258</td><td style = \"text-align: right;\">2011</td><td style = \"text-align: right;\">4.61545e-37</td><td style = \"text-align: right;\">185.0</td><td style = \"text-align: right;\">276</td><td style = \"text-align: right;\">80.797</td><td style = \"text-align: right;\">223</td><td style = \"text-align: right;\">20</td><td style = \"text-align: right;\">2202565</td><td style = \"text-align: left;\">2202565</td><td style = \"text-align: left;\">m64283e_231026_230505</td><td style = \"text-align: left;\">Genomoviridae sp.</td></tr><tr><td class = \"rowNumber\" style = \"font-weight: bold; text-align: right;\">269</td><td style = \"text-align: left;\">m64283e_231026_230505/22219600/ccs</td><td style = \"text-align: left;\">gi|2519784627|gb|OQ779178.1|</td><td style = \"text-align: left;\">OQ779178</td><td style = \"text-align: left;\">OQ779178.1</td><td style = \"text-align: left;\">MAG: Genomoviridae sp. isolate R-SYS-XD/55, complete genome</td><td style = \"text-align: right;\">2335</td><td style = \"text-align: right;\">2128</td><td style = \"text-align: right;\">1347</td><td style = \"text-align: right;\">2334</td><td style = \"text-align: right;\">965</td><td style = \"text-align: right;\">1938</td><td style = \"text-align: right;\">0.0</td><td style = \"text-align: right;\">1147.0</td><td style = \"text-align: right;\">1008</td><td style = \"text-align: right;\">88.095</td><td style = \"text-align: right;\">888</td><td style = \"text-align: right;\">66</td><td style = \"text-align: right;\">2202565</td><td style = \"text-align: left;\">2202565</td><td style = \"text-align: left;\">m64283e_231026_230505</td><td style = \"text-align: left;\">Genomoviridae sp.</td></tr><tr><td class = \"rowNumber\" style = \"font-weight: bold; text-align: right;\">270</td><td style = \"text-align: left;\">m64283e_231026_230505/65274498/ccs</td><td style = \"text-align: left;\">gi|2519784627|gb|OQ779178.1|</td><td style = \"text-align: left;\">OQ779178</td><td style = \"text-align: left;\">OQ779178.1</td><td style = \"text-align: left;\">MAG: Genomoviridae sp. isolate R-SYS-XD/55, complete genome</td><td style = \"text-align: right;\">1939</td><td style = \"text-align: right;\">2128</td><td style = \"text-align: right;\">28</td><td style = \"text-align: right;\">931</td><td style = \"text-align: right;\">1868</td><td style = \"text-align: right;\">965</td><td style = \"text-align: right;\">0.0</td><td style = \"text-align: right;\">1365.0</td><td style = \"text-align: right;\">905</td><td style = \"text-align: right;\">93.923</td><td style = \"text-align: right;\">850</td><td style = \"text-align: right;\">53</td><td style = \"text-align: right;\">2202565</td><td style = \"text-align: left;\">2202565</td><td style = \"text-align: left;\">m64283e_231026_230505</td><td style = \"text-align: left;\">Genomoviridae sp.</td></tr><tr><td class = \"rowNumber\" style = \"font-weight: bold; text-align: right;\">271</td><td style = \"text-align: left;\">m64283e_231026_230505/165021547/ccs</td><td style = \"text-align: left;\">gi|2519784627|gb|OQ779178.1|</td><td style = \"text-align: left;\">OQ779178</td><td style = \"text-align: left;\">OQ779178.1</td><td style = \"text-align: left;\">MAG: Genomoviridae sp. isolate R-SYS-XD/55, complete genome</td><td style = \"text-align: right;\">1410</td><td style = \"text-align: right;\">2128</td><td style = \"text-align: right;\">256</td><td style = \"text-align: right;\">544</td><td style = \"text-align: right;\">1255</td><td style = \"text-align: right;\">965</td><td style = \"text-align: right;\">3.29745e-90</td><td style = \"text-align: right;\">359.0</td><td style = \"text-align: right;\">296</td><td style = \"text-align: right;\">89.189</td><td style = \"text-align: right;\">264</td><td style = \"text-align: right;\">20</td><td style = \"text-align: right;\">2202565</td><td style = \"text-align: left;\">2202565</td><td style = \"text-align: left;\">m64283e_231026_230505</td><td style = \"text-align: left;\">Genomoviridae sp.</td></tr><tr><td class = \"rowNumber\" style = \"font-weight: bold; text-align: right;\">272</td><td style = \"text-align: left;\">m64283e_231026_230505/166527552/ccs</td><td style = \"text-align: left;\">gi|2519784627|gb|OQ779178.1|</td><td style = \"text-align: left;\">OQ779178</td><td style = \"text-align: left;\">OQ779178.1</td><td style = \"text-align: left;\">MAG: Genomoviridae sp. isolate R-SYS-XD/55, complete genome</td><td style = \"text-align: right;\">1700</td><td style = \"text-align: right;\">2128</td><td style = \"text-align: right;\">310</td><td style = \"text-align: right;\">1459</td><td style = \"text-align: right;\">965</td><td style = \"text-align: right;\">2114</td><td style = \"text-align: right;\">0.0</td><td style = \"text-align: right;\">1736.0</td><td style = \"text-align: right;\">1151</td><td style = \"text-align: right;\">93.918</td><td style = \"text-align: right;\">1081</td><td style = \"text-align: right;\">68</td><td style = \"text-align: right;\">2202565</td><td style = \"text-align: left;\">2202565</td><td style = \"text-align: left;\">m64283e_231026_230505</td><td style = \"text-align: left;\">Genomoviridae sp.</td></tr><tr><td class = \"rowNumber\" style = \"font-weight: bold; text-align: right;\">273</td><td style = \"text-align: left;\">m64283e_231026_230505/82182288/ccs</td><td style = \"text-align: left;\">gi|1829760855|gb|MT154976.1|</td><td style = \"text-align: left;\">MT154976</td><td style = \"text-align: left;\">MT154976.1</td><td style = \"text-align: left;\">HIV-1 isolate HK_JIDLNBL_S066 from Switzerland nonfunctional nef protein (nef) gene, complete sequence</td><td style = \"text-align: right;\">643</td><td style = \"text-align: right;\">9499</td><td style = \"text-align: right;\">46</td><td style = \"text-align: right;\">320</td><td style = \"text-align: right;\">6509</td><td style = \"text-align: right;\">6250</td><td style = \"text-align: right;\">8.8363e-53</td><td style = \"text-align: right;\">228.0</td><td style = \"text-align: right;\">279</td><td style = \"text-align: right;\">82.796</td><td style = \"text-align: right;\">231</td><td style = \"text-align: right;\">25</td><td style = \"text-align: right;\">11676</td><td style = \"text-align: left;\">11676</td><td style = \"text-align: left;\">m64283e_231026_230505</td><td style = \"text-align: left;\">Human immunodeficiency virus 1</td></tr><tr><td class = \"rowNumber\" style = \"font-weight: bold; text-align: right;\">274</td><td style = \"text-align: left;\">m64283e_231026_230505/18155197/ccs</td><td style = \"text-align: left;\">gi|2567179311|gb|OR245824.1|</td><td style = \"text-align: left;\">OR245824</td><td style = \"text-align: left;\">OR245824.1</td><td style = \"text-align: left;\">HIV-1 isolate MRC023_Cluster241_size-6_count-1 from Belgium defective genome</td><td style = \"text-align: right;\">1071</td><td style = \"text-align: right;\">3389</td><td style = \"text-align: right;\">178</td><td style = \"text-align: right;\">228</td><td style = \"text-align: right;\">1850</td><td style = \"text-align: right;\">1801</td><td style = \"text-align: right;\">0.000249777</td><td style = \"text-align: right;\">71.3</td><td style = \"text-align: right;\">51</td><td style = \"text-align: right;\">92.157</td><td style = \"text-align: right;\">47</td><td style = \"text-align: right;\">3</td><td style = \"text-align: right;\">11676</td><td style = \"text-align: left;\">11676</td><td style = \"text-align: left;\">m64283e_231026_230505</td><td style = \"text-align: left;\">Human immunodeficiency virus 1</td></tr><tr><td class = \"rowNumber\" style = \"font-weight: bold; text-align: right;\">275</td><td style = \"text-align: left;\">m84085_231013_185624_s2/112329369/ccs</td><td style = \"text-align: left;\">gi|1829760864|gb|MT154980.1|</td><td style = \"text-align: left;\">MT154980</td><td style = \"text-align: left;\">MT154980.1</td><td style = \"text-align: left;\">HIV-1 isolate HK_JIDLNBL_S071 from Switzerland nonfunctional gag protein (gag) gene, complete sequence; and nonfunctional pol protein (pol) gene, partial sequence</td><td style = \"text-align: right;\">1074</td><td style = \"text-align: right;\">13714</td><td style = \"text-align: right;\">180</td><td style = \"text-align: right;\">469</td><td style = \"text-align: right;\">3592</td><td style = \"text-align: right;\">3876</td><td style = \"text-align: right;\">2.0956e-64</td><td style = \"text-align: right;\">270.0</td><td style = \"text-align: right;\">293</td><td style = \"text-align: right;\">83.959</td><td style = \"text-align: right;\">246</td><td style = \"text-align: right;\">36</td><td style = \"text-align: right;\">11676</td><td style = \"text-align: left;\">11676</td><td style = \"text-align: left;\">m84085_231013_185624_s2</td><td style = \"text-align: left;\">Human immunodeficiency virus 1</td></tr><tr><td class = \"rowNumber\" style = \"font-weight: bold; text-align: right;\">276</td><td style = \"text-align: left;\">m84085_231013_185624_s2/186713087/ccs</td><td style = \"text-align: left;\">gi|1829760855|gb|MT154976.1|</td><td style = \"text-align: left;\">MT154976</td><td style = \"text-align: left;\">MT154976.1</td><td style = \"text-align: left;\">HIV-1 isolate HK_JIDLNBL_S066 from Switzerland nonfunctional nef protein (nef) gene, complete sequence</td><td style = \"text-align: right;\">1584</td><td style = \"text-align: right;\">9499</td><td style = \"text-align: right;\">526</td><td style = \"text-align: right;\">826</td><td style = \"text-align: right;\">6246</td><td style = \"text-align: right;\">6541</td><td style = \"text-align: right;\">5.0024e-92</td><td style = \"text-align: right;\">363.0</td><td style = \"text-align: right;\">301</td><td style = \"text-align: right;\">88.704</td><td style = \"text-align: right;\">267</td><td style = \"text-align: right;\">29</td><td style = \"text-align: right;\">11676</td><td style = \"text-align: left;\">11676</td><td style = \"text-align: left;\">m84085_231013_185624_s2</td><td style = \"text-align: left;\">Human immunodeficiency virus 1</td></tr></tbody></table></div>"
      ],
      "text/latex": [
       "\\begin{tabular}{r|cccc}\n",
       "\t& query id & subject id & subject acc. & \\\\\n",
       "\t\\hline\n",
       "\t& String & String & String & \\\\\n",
       "\t\\hline\n",
       "\t1 & m64283e\\_231026\\_230505/2295915/ccs & gi|2500378567|ref|NC\\_076305.1| & NC\\_076305 & $\\dots$ \\\\\n",
       "\t2 & m64283e\\_231026\\_230505/19466738/ccs & gi|1829760864|gb|MT154980.1| & MT154980 & $\\dots$ \\\\\n",
       "\t3 & m64283e\\_231026\\_230505/19073653/ccs & gi|2577276572|gb|OM892313.1| & OM892313 & $\\dots$ \\\\\n",
       "\t4 & m64283e\\_231026\\_230505/26675086/ccs & gi|2597793305|gb|OR661080.1| & OR661080 & $\\dots$ \\\\\n",
       "\t5 & m64283e\\_231026\\_230505/28116828/ccs & gi|2519784627|gb|OQ779178.1| & OQ779178 & $\\dots$ \\\\\n",
       "\t6 & m64283e\\_231026\\_230505/35523289/ccs & gi|2514203914|gb|OQ751943.1| & OQ751943 & $\\dots$ \\\\\n",
       "\t7 & m64283e\\_231026\\_230505/35129973/ccs & gi|1110843055|gb|KY094066.1| & KY094066 & $\\dots$ \\\\\n",
       "\t8 & m64283e\\_231026\\_230505/38995231/ccs & gi|1625847241|gb|MK384293.1| & MK384293 & $\\dots$ \\\\\n",
       "\t9 & m64283e\\_231026\\_230505/45221156/ccs & gi|2519784627|gb|OQ779178.1| & OQ779178 & $\\dots$ \\\\\n",
       "\t10 & m64283e\\_231026\\_230505/49218681/ccs & gi|2597793305|gb|OR661080.1| & OR661080 & $\\dots$ \\\\\n",
       "\t11 & m64283e\\_231026\\_230505/61472950/ccs & gi|1945660887|gb|MW062906.1| & MW062906 & $\\dots$ \\\\\n",
       "\t12 & m64283e\\_231026\\_230505/66127909/ccs & gi|2567179267|gb|OR245780.1| & OR245780 & $\\dots$ \\\\\n",
       "\t13 & m64283e\\_231026\\_230505/73138261/ccs & gi|2597793041|gb|OR660783.1| & OR660783 & $\\dots$ \\\\\n",
       "\t14 & m64283e\\_231026\\_230505/74974729/ccs & gi|2567179267|gb|OR245780.1| & OR245780 & $\\dots$ \\\\\n",
       "\t15 & m64283e\\_231026\\_230505/90638621/ccs & gi|2577276572|gb|OM892313.1| & OM892313 & $\\dots$ \\\\\n",
       "\t16 & m64283e\\_231026\\_230505/92210918/ccs & gi|2567179267|gb|OR245780.1| & OR245780 & $\\dots$ \\\\\n",
       "\t17 & m64283e\\_231026\\_230505/97061124/ccs & gi|2567179267|gb|OR245780.1| & OR245780 & $\\dots$ \\\\\n",
       "\t18 & m64283e\\_231026\\_230505/102893421/ccs & gi|2519784627|gb|OQ779178.1| & OQ779178 & $\\dots$ \\\\\n",
       "\t19 & m64283e\\_231026\\_230505/104858717/ccs & gi|2519784627|gb|OQ779178.1| & OQ779178 & $\\dots$ \\\\\n",
       "\t20 & m64283e\\_231026\\_230505/108399237/ccs & gi|168829271|gb|EU308856.1| & EU308856 & $\\dots$ \\\\\n",
       "\t21 & m64283e\\_231026\\_230505/110626710/ccs & gi|2519784627|gb|OQ779178.1| & OQ779178 & $\\dots$ \\\\\n",
       "\t22 & m64283e\\_231026\\_230505/124454155/ccs & gi|2567179267|gb|OR245780.1| & OR245780 & $\\dots$ \\\\\n",
       "\t23 & m64283e\\_231026\\_230505/130549924/ccs & gi|2519784627|gb|OQ779178.1| & OQ779178 & $\\dots$ \\\\\n",
       "\t24 & m64283e\\_231026\\_230505/133104945/ccs & gi|2597793305|gb|OR661080.1| & OR661080 & $\\dots$ \\\\\n",
       "\t25 & m64283e\\_231026\\_230505/136644795/ccs & gi|2577276572|gb|OM892313.1| & OM892313 & $\\dots$ \\\\\n",
       "\t26 & m64283e\\_231026\\_230505/141822350/ccs & gi|2519784627|gb|OQ779178.1| & OQ779178 & $\\dots$ \\\\\n",
       "\t27 & m64283e\\_231026\\_230505/146801248/ccs & gi|2514204986|gb|OQ753015.1| & OQ753015 & $\\dots$ \\\\\n",
       "\t28 & m64283e\\_231026\\_230505/150997110/ccs & gi|2519784627|gb|OQ779178.1| & OQ779178 & $\\dots$ \\\\\n",
       "\t29 & m64283e\\_231026\\_230505/151585555/ccs & gi|2567179267|gb|OR245780.1| & OR245780 & $\\dots$ \\\\\n",
       "\t30 & m64283e\\_231026\\_230505/155910475/ccs & gi|1836405433|gb|MT138093.1| & MT138093 & $\\dots$ \\\\\n",
       "\t$\\dots$ & $\\dots$ & $\\dots$ & $\\dots$ &  \\\\\n",
       "\\end{tabular}\n"
      ],
      "text/plain": [
       "\u001b[1m276×21 DataFrame\u001b[0m\n",
       "\u001b[1m Row \u001b[0m│\u001b[1m query id                          \u001b[0m\u001b[1m subject id                     \u001b[0m\u001b[1m subj\u001b[0m ⋯\n",
       "     │\u001b[90m String                            \u001b[0m\u001b[90m String                         \u001b[0m\u001b[90m Stri\u001b[0m ⋯\n",
       "─────┼──────────────────────────────────────────────────────────────────────────\n",
       "   1 │ m64283e_231026_230505/2295915/ccs  gi|2500378567|ref|NC_076305.1|  NC_0 ⋯\n",
       "   2 │ m64283e_231026_230505/19466738/c…  gi|1829760864|gb|MT154980.1|    MT15\n",
       "   3 │ m64283e_231026_230505/19073653/c…  gi|2577276572|gb|OM892313.1|    OM89\n",
       "   4 │ m64283e_231026_230505/26675086/c…  gi|2597793305|gb|OR661080.1|    OR66\n",
       "   5 │ m64283e_231026_230505/28116828/c…  gi|2519784627|gb|OQ779178.1|    OQ77 ⋯\n",
       "   6 │ m64283e_231026_230505/35523289/c…  gi|2514203914|gb|OQ751943.1|    OQ75\n",
       "   7 │ m64283e_231026_230505/35129973/c…  gi|1110843055|gb|KY094066.1|    KY09\n",
       "   8 │ m64283e_231026_230505/38995231/c…  gi|1625847241|gb|MK384293.1|    MK38\n",
       "   9 │ m64283e_231026_230505/45221156/c…  gi|2519784627|gb|OQ779178.1|    OQ77 ⋯\n",
       "  10 │ m64283e_231026_230505/49218681/c…  gi|2597793305|gb|OR661080.1|    OR66\n",
       "  11 │ m64283e_231026_230505/61472950/c…  gi|1945660887|gb|MW062906.1|    MW06\n",
       "  ⋮  │                 ⋮                                ⋮                      ⋱\n",
       " 267 │ m64283e_231026_230505/112921418/…  gi|1154325763|gb|KT982185.1|    KT98\n",
       " 268 │ m64283e_231026_230505/156698313/…  gi|2577276572|gb|OM892313.1|    OM89 ⋯\n",
       " 269 │ m64283e_231026_230505/22219600/c…  gi|2519784627|gb|OQ779178.1|    OQ77\n",
       " 270 │ m64283e_231026_230505/65274498/c…  gi|2519784627|gb|OQ779178.1|    OQ77\n",
       " 271 │ m64283e_231026_230505/165021547/…  gi|2519784627|gb|OQ779178.1|    OQ77\n",
       " 272 │ m64283e_231026_230505/166527552/…  gi|2519784627|gb|OQ779178.1|    OQ77 ⋯\n",
       " 273 │ m64283e_231026_230505/82182288/c…  gi|1829760855|gb|MT154976.1|    MT15\n",
       " 274 │ m64283e_231026_230505/18155197/c…  gi|2567179311|gb|OR245824.1|    OR24\n",
       " 275 │ m84085_231013_185624_s2/11232936…  gi|1829760864|gb|MT154980.1|    MT15\n",
       " 276 │ m84085_231013_185624_s2/18671308…  gi|1829760855|gb|MT154976.1|    MT15 ⋯\n",
       "\u001b[36m                                                 19 columns and 255 rows omitted\u001b[0m"
      ]
     },
     "execution_count": 130,
     "metadata": {},
     "output_type": "execute_result"
    }
   ],
   "source": [
    "joint_top_hits = DataFrames.DataFrame()\n",
    "ProgressMeter.@showprogress for f in target_outfiles\n",
    "    this_blast_table = Mycelia.parse_blast_report(f)\n",
    "    if isempty(this_blast_table)\n",
    "        continue\n",
    "    else\n",
    "        # bonferonni correction on raw tests\n",
    "        this_blast_table[!, \"evalue\"] = this_blast_table[!, \"evalue\"] .* DataFrames.nrow(this_blast_table)\n",
    "        \n",
    "        # filter to top hits to avoid ballooning memory just to throw it away later\n",
    "        this_top_hits = DataFrames.DataFrame()\n",
    "        for gdf in DataFrames.groupby(this_blast_table, \"query id\")\n",
    "            push!(this_top_hits, first(sort(gdf, \"bit score\", rev=true)))\n",
    "        end\n",
    "        append!(joint_top_hits, this_top_hits)\n",
    "    end\n",
    "end\n",
    "# DataFrames.nrow(joint_top_hits)\n",
    "\n",
    "joint_top_hits[!, \"sample_id\"] = string.(first.(split.(joint_top_hits[!, \"query id\"], '/')))\n",
    "\n",
    "taxids = unique(joint_top_hits[!, \"subject tax id\"])\n",
    "taxid2name_map = Dict(row[\"taxid\"] => row[\"tax_name\"] for row in DataFrames.eachrow(Mycelia.taxids2lineage_name_and_rank(taxids)))\n",
    "joint_top_hits[!, \"subject tax name\"] = map(taxid -> taxid2name_map[taxid], joint_top_hits[!, \"subject tax id\"])\n",
    "\n",
    "# filter to good hits even after bonferroni correction\n",
    "joint_top_hits = joint_top_hits[joint_top_hits[!, \"evalue\"] .<= 0.001, :]\n",
    "\n",
    "# filter to viral only\n",
    "viral_hits_df = joint_top_hits[map(x -> x in viral_tax_ids, joint_top_hits[!, \"subject tax id\"]), :]\n",
    "\n",
    "current_host = \"host_is_vertebrate\"\n",
    "# current_host = \"host_is_mammal\"\n",
    "# current_host = \"host_is_primate\"\n",
    "# current_host = \"host_is_human\"\n",
    "host_viral_tax_ids = Set(ncbi_host_metadata[ncbi_host_metadata[!, current_host] .== true, \"taxid\"])\n",
    "\n",
    "# host_viral_taxids = ictv_host_metadata[map(x -> x in [\"vertebrates\", \"invertebrates, vertebrates\"], ictv_host_metadata[!, \"Host source\"]), \"taxid\"]\n",
    "host_hits_df = viral_hits_df[map(x -> x in host_viral_tax_ids, viral_hits_df[!, \"subject tax id\"]), :]"
   ]
  },
  {
   "cell_type": "code",
   "execution_count": 133,
   "id": "5e6948ea-c9e7-48d8-9c15-16416cffac4c",
   "metadata": {},
   "outputs": [
    {
     "data": {
      "text/plain": [
       "2×6 Named Matrix{Int64}\n",
       "sample_id ╲ subject tax name │   …  \n",
       "─────────────────────────────┼──────\n",
       "m64283e_231026_230505        │   …  \n",
       "m84085_231013_185624_s2      │   …  "
      ]
     },
     "execution_count": 133,
     "metadata": {},
     "output_type": "execute_result"
    }
   ],
   "source": [
    "ft = FreqTables.freqtable(host_hits_df, \"sample_id\", \"subject tax name\")"
   ]
  },
  {
   "cell_type": "code",
   "execution_count": 134,
   "id": "26d9d6f1-9394-42df-b0a9-c0460d2c1ee5",
   "metadata": {},
   "outputs": [
    {
     "data": {
      "text/html": [
       "<div><div style = \"float: left;\"><span>2×7 DataFrame</span></div><div style = \"clear: both;\"></div></div><div class = \"data-frame\" style = \"overflow-x: scroll;\"><table class = \"data-frame\" style = \"margin-bottom: 6px;\"><thead><tr class = \"header\"><th class = \"rowNumber\" style = \"font-weight: bold; text-align: right;\">Row</th><th style = \"text-align: left;\">sample_id \\\\ subject tax name</th><th style = \"text-align: left;\">BeAn 58058 virus</th><th style = \"text-align: left;\">Cressdnaviricota sp.</th><th style = \"text-align: left;\">Genomoviridae sp.</th><th style = \"text-align: left;\">Human endogenous retrovirus K</th><th style = \"text-align: left;\">Human immunodeficiency virus 1</th><th style = \"text-align: left;\">Mamastrovirus 3</th></tr><tr class = \"subheader headerLastRow\"><th class = \"rowNumber\" style = \"font-weight: bold; text-align: right;\"></th><th title = \"String\" style = \"text-align: left;\">String</th><th title = \"Int64\" style = \"text-align: left;\">Int64</th><th title = \"Int64\" style = \"text-align: left;\">Int64</th><th title = \"Int64\" style = \"text-align: left;\">Int64</th><th title = \"Int64\" style = \"text-align: left;\">Int64</th><th title = \"Int64\" style = \"text-align: left;\">Int64</th><th title = \"Int64\" style = \"text-align: left;\">Int64</th></tr></thead><tbody><tr><td class = \"rowNumber\" style = \"font-weight: bold; text-align: right;\">1</td><td style = \"text-align: left;\">m64283e_231026_230505</td><td style = \"text-align: right;\">2</td><td style = \"text-align: right;\">2</td><td style = \"text-align: right;\">110</td><td style = \"text-align: right;\">1</td><td style = \"text-align: right;\">158</td><td style = \"text-align: right;\">1</td></tr><tr><td class = \"rowNumber\" style = \"font-weight: bold; text-align: right;\">2</td><td style = \"text-align: left;\">m84085_231013_185624_s2</td><td style = \"text-align: right;\">0</td><td style = \"text-align: right;\">0</td><td style = \"text-align: right;\">0</td><td style = \"text-align: right;\">0</td><td style = \"text-align: right;\">2</td><td style = \"text-align: right;\">0</td></tr></tbody></table></div>"
      ],
      "text/latex": [
       "\\begin{tabular}{r|ccccc}\n",
       "\t& sample\\_id \\textbackslash{} subject tax name & BeAn 58058 virus & Cressdnaviricota sp. & Genomoviridae sp. & \\\\\n",
       "\t\\hline\n",
       "\t& String & Int64 & Int64 & Int64 & \\\\\n",
       "\t\\hline\n",
       "\t1 & m64283e\\_231026\\_230505 & 2 & 2 & 110 & $\\dots$ \\\\\n",
       "\t2 & m84085\\_231013\\_185624\\_s2 & 0 & 0 & 0 & $\\dots$ \\\\\n",
       "\\end{tabular}\n"
      ],
      "text/plain": [
       "\u001b[1m2×7 DataFrame\u001b[0m\n",
       "\u001b[1m Row \u001b[0m│\u001b[1m sample_id \\\\ subject tax name \u001b[0m\u001b[1m BeAn 58058 virus \u001b[0m\u001b[1m Cressdnaviricota sp. \u001b[0m\u001b[1m \u001b[0m ⋯\n",
       "     │\u001b[90m String                        \u001b[0m\u001b[90m Int64            \u001b[0m\u001b[90m Int64                \u001b[0m\u001b[90m \u001b[0m ⋯\n",
       "─────┼──────────────────────────────────────────────────────────────────────────\n",
       "   1 │ m64283e_231026_230505                         2                     2   ⋯\n",
       "   2 │ m84085_231013_185624_s2                       0                     0\n",
       "\u001b[36m                                                               4 columns omitted\u001b[0m"
      ]
     },
     "execution_count": 134,
     "metadata": {},
     "output_type": "execute_result"
    }
   ],
   "source": [
    "data = [collect(keys(ft.dicts[1])), [col for col in eachcol(ft.array)]...]\n",
    "header = [\"$(ft.dimnames[1]) \\\\ $(ft.dimnames[2])\", collect(keys(ft.dicts[2]))...]\n",
    "summary_table = DataFrames.DataFrame(data, header)"
   ]
  },
  {
   "cell_type": "code",
   "execution_count": null,
   "id": "700845ff-b87a-4759-8088-d3c3b3bdbc9d",
   "metadata": {},
   "outputs": [],
   "source": [
    "uCSV.write(summary_table"
   ]
  },
  {
   "cell_type": "code",
   "execution_count": 106,
   "id": "1811028c-eaaa-4daf-bfdc-a499104143a5",
   "metadata": {},
   "outputs": [
    {
     "name": "stdout",
     "output_type": "stream",
     "text": [
      "\"sample_id \\ subject tax name\",\"Human endogenous retrovirus K\",\"Human immunodeficiency virus 1\"\n",
      "\"m64283e_231026_230505\",1,158\n",
      "\"m84085_231013_185624_s2\",0,2\n"
     ]
    }
   ],
   "source": [
    "# m = \"text/plain\"\n",
    "# m = \"text/html\"\n",
    "# m =  \"text/latex\"\n",
    "# m = \"text/csv\"\n",
    "# m = \"text/tab-separated-values\"\n",
    "\n",
    "# show(stdout, MIME(m), summary_table)"
   ]
  },
  {
   "cell_type": "code",
   "execution_count": 115,
   "id": "0fd2c102-007b-4672-b6ac-fcd777a4fa20",
   "metadata": {},
   "outputs": [
    {
     "name": "stdout",
     "output_type": "stream",
     "text": [
      "┌───────────────────────────────┬───────────────────────────────┬────────────────────────────────┐\n",
      "│\u001b[1m sample_id \\\\ subject tax name \u001b[0m│\u001b[1m Human endogenous retrovirus K \u001b[0m│\u001b[1m Human immunodeficiency virus 1 \u001b[0m│\n",
      "│\u001b[90m                        String \u001b[0m│\u001b[90m                         Int64 \u001b[0m│\u001b[90m                          Int64 \u001b[0m│\n",
      "├───────────────────────────────┼───────────────────────────────┼────────────────────────────────┤\n",
      "│         m64283e_231026_230505 │                             1 │                            158 │\n",
      "│       m84085_231013_185624_s2 │                             0 │                              2 │\n",
      "└───────────────────────────────┴───────────────────────────────┴────────────────────────────────┘\n"
     ]
    }
   ],
   "source": [
    "# show(stdout, MIME(\"text/html\"), )\n",
    "# PrettyTables.pretty_table(summary_table, backend = Val(:markdown))\n",
    "# PrettyTables.pretty_table(summary_table, backend = Val(:latex))\n",
    "# PrettyTables.pretty_table(summary_table, backend = Val(:html))\n",
    "PrettyTables.pretty_table(summary_table, backend = Val(:text))"
   ]
  },
  {
   "cell_type": "code",
   "execution_count": null,
   "id": "7f0f0a92-9297-45c9-8d90-69d83006b3e4",
   "metadata": {},
   "outputs": [],
   "source": [
    "show(stdout, \"text/plain\", matrix)"
   ]
  }
 ],
 "metadata": {
  "kernelspec": {
   "display_name": "Julia 1.9.3",
   "language": "julia",
   "name": "julia-1.9"
  },
  "language_info": {
   "file_extension": ".jl",
   "mimetype": "application/julia",
   "name": "julia",
   "version": "1.9.3"
  }
 },
 "nbformat": 4,
 "nbformat_minor": 5
}
