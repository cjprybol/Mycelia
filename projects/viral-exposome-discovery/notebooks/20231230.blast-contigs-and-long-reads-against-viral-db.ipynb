{
 "cells": [
  {
   "cell_type": "code",
   "execution_count": null,
   "id": "b1ec3ac0-e197-418f-86be-f2e8a5fadb82",
   "metadata": {},
   "outputs": [],
   "source": [
    "# run(`conda create --channel conda-forge --channel bioconda --channel defaults --strict-channel-priority --name blast blast`)"
   ]
  },
  {
   "cell_type": "code",
   "execution_count": null,
   "id": "c17e93fe-d82c-45fa-8fee-1e86d080538c",
   "metadata": {},
   "outputs": [],
   "source": [
    "import Pkg\n",
    "pkgs = [\n",
    "    \"Revise\",\n",
    "    \"DataFrames\",\n",
    "    \"uCSV\",\n",
    "    \"StatsPlots\"\n",
    "]\n",
    "# Pkg.add(pkgs)\n",
    "for pkg in pkgs\n",
    "    eval(Meta.parse(\"import $pkg\"))\n",
    "end\n",
    "import Mycelia"
   ]
  },
  {
   "cell_type": "code",
   "execution_count": null,
   "id": "909f13b4-7e9d-429b-8b83-33c99af653c9",
   "metadata": {},
   "outputs": [],
   "source": [
    "data_dir = joinpath(dirname(pwd()), \"data\")"
   ]
  },
  {
   "cell_type": "code",
   "execution_count": null,
   "id": "88edbeff-947b-4254-a295-54b4f9a8cb7a",
   "metadata": {},
   "outputs": [],
   "source": [
    "total_mem = 64\n",
    "threads = max(1, Int(total_mem//8))\n",
    "mem_per_cpu = Int(total_mem//threads)"
   ]
  },
  {
   "cell_type": "code",
   "execution_count": null,
   "id": "0609f79c-54bf-48ff-8603-4abebe5c7220",
   "metadata": {},
   "outputs": [],
   "source": [
    "blast_task = \"megablast\""
   ]
  },
  {
   "cell_type": "code",
   "execution_count": null,
   "id": "6bf44df1-e7e1-46f8-899a-883bc26e3673",
   "metadata": {},
   "outputs": [],
   "source": [
    "db = \"nt_viruses\""
   ]
  },
  {
   "cell_type": "code",
   "execution_count": null,
   "id": "ad5a7e45-3c81-44f9-888b-293815d7146e",
   "metadata": {},
   "outputs": [],
   "source": [
    "blastdbs_dir = mkpath(joinpath(homedir(), \"workspace\", \"blastdbs\"))"
   ]
  },
  {
   "cell_type": "code",
   "execution_count": null,
   "id": "ed062fb7-9617-4d6a-b28b-44da27eb21fd",
   "metadata": {},
   "outputs": [],
   "source": [
    "blast_db = joinpath(blastdbs_dir, db)"
   ]
  },
  {
   "cell_type": "code",
   "execution_count": null,
   "id": "58a242ee-8c26-4c79-a8a1-0ac751dcd149",
   "metadata": {},
   "outputs": [],
   "source": [
    "# conda run -n blast update_blastdb.pl --showall"
   ]
  },
  {
   "cell_type": "code",
   "execution_count": null,
   "id": "c7dfb436-83fa-43f1-87b5-4dc075301dc0",
   "metadata": {},
   "outputs": [],
   "source": [
    "# Mycelia.download_blast_db(db=db, outdir=blastdbs_dir, source=\"ncbi\", conda_env=\"blast\")"
   ]
  },
  {
   "cell_type": "code",
   "execution_count": null,
   "id": "e374fa44-a749-4c12-884d-cd1e657bd72b",
   "metadata": {},
   "outputs": [],
   "source": [
    "# load in metadata\n",
    "metadata_dir = joinpath(dirname(pwd()), \"metadata\")\n",
    "\n",
    "exposome_environmental_data = DataFrames.DataFrame(uCSV.read(\n",
    "    joinpath(metadata_dir, \"metadata_exposome.rds.tsv\"),\n",
    "    delim='\\t',\n",
    "    header=1,\n",
    "    typedetectrows=300\n",
    "))\n",
    "\n",
    "joint_sample_metadata = DataFrames.DataFrame(uCSV.read(\n",
    "    joinpath(metadata_dir, \"exposome/joint_sample_metadata.tsv\"),\n",
    "    delim='\\t',\n",
    "    header=1,\n",
    "    typedetectrows=300\n",
    "))\n",
    "\n",
    "@assert joint_sample_metadata[!, \"Library Name\"] == joint_sample_metadata[!, \"LibraryName\"]\n",
    "\n",
    "joint_metadata = DataFrames.innerjoin(\n",
    "    joint_sample_metadata,\n",
    "    exposome_environmental_data,\n",
    "    on=\"Library Name\" => \"samplenames\")\n",
    "\n",
    "run_ids = sort(joint_metadata[!, \"Run\"])\n",
    "\n",
    "sample_paths = joinpath.(data_dir, \"SRA\", run_ids)"
   ]
  },
  {
   "cell_type": "code",
   "execution_count": null,
   "id": "8662108c-dea7-46d9-83a3-36e1e2c1cc17",
   "metadata": {},
   "outputs": [],
   "source": [
    "# sample_paths = filter(x -> !occursin(\".ipynb_checkpoints\", x), readdir(joinpath(data_dir, \"SRA\"), join=true))\n",
    "# sample_paths = filter(x -> isfile(joinpath.(x, \"megahit\", \"final.contigs.fastg.gfa.fna\")), sample_paths)"
   ]
  },
  {
   "cell_type": "code",
   "execution_count": null,
   "id": "f249de4f-18be-4338-89ff-eb1ff67ac795",
   "metadata": {},
   "outputs": [],
   "source": [
    "for sample_path in sample_paths[1:end]\n",
    "    sample = basename(sample_path)\n",
    "    blastn_directory = mkpath(joinpath(sample_path, \"blastn\"))\n",
    "    assembled_fasta = joinpath(sample_path, \"megahit\", \"final.contigs.fastg.gfa.fna\")\n",
    "    target_outfile = joinpath(blastn_directory, basename(assembled_fasta) * \".blastn.$(db).$(blast_task).txt\")\n",
    "    # # --mem=$(memory)G\n",
    "    # if isfile(target_outfile)\n",
    "    #         # @show sample, filesize(target_outfile)\n",
    "    #     push!(file_sizes, filesize(target_outfile))\n",
    "    # else\n",
    "    #     @show sample\n",
    "    # end\n",
    "\n",
    "    cmd = \"julia $(homedir())/workspace/Mycelia/scripts/run-blastn.jl --fasta $(assembled_fasta) --blast_db $(blast_db) --task $(blast_task) --out_directory $(blastn_directory) --threads $(threads)\"\n",
    "    submission = \n",
    "    `sbatch \n",
    "    --mail-user=cameron.prybol@gmail.com\n",
    "    --mail-type=ALL\n",
    "    --error=%x-%j.err\n",
    "    --output=%x-%j.out\n",
    "    --partition=batch\n",
    "    --account=mpsnyder\n",
    "    --nodes=1\n",
    "    --ntasks=1\n",
    "    --time=1-00:00:00    \n",
    "    --cpus-per-task=$(threads)\n",
    "    --mem-per-cpu=$(mem_per_cpu)G\n",
    "    --job-name=blastn\n",
    "    --wrap $cmd\n",
    "    `\n",
    "    run(submission)\n",
    "end"
   ]
  },
  {
   "cell_type": "code",
   "execution_count": null,
   "id": "2c58ebf0-253f-48a7-ba0f-ee756d150d9a",
   "metadata": {},
   "outputs": [],
   "source": [
    "fasta_paths = filter(x -> !occursin(\".ipynb_checkpoints\", x) && occursin(r\"\\.fasta$\", x), readdir(joinpath(data_dir, \"exposome_data\", \"joint-reads\"), join=true))\n",
    "# sample_paths = filter(x -> isfile(joinpath.(x, \"megahit\", \"final.contigs.fastg.gfa.fna\")), sample_paths)"
   ]
  },
  {
   "cell_type": "code",
   "execution_count": null,
   "id": "d44e3869-93b6-4286-9015-afaa9d65ee5a",
   "metadata": {},
   "outputs": [],
   "source": [
    "for fasta_path in fasta_paths\n",
    "    # sample = basename(fasta_path)\n",
    "    blastn_directory = dirname(fasta_path)\n",
    "    assembled_fasta = fasta_path\n",
    "    target_outfile = joinpath(blastn_directory, basename(assembled_fasta) * \".blastn.$(db).$(blast_task).txt\")\n",
    "    # # --mem=$(memory)G\n",
    "    # if isfile(target_outfile)\n",
    "    #         # @show sample, filesize(target_outfile)\n",
    "    #     push!(file_sizes, filesize(target_outfile))\n",
    "    # else\n",
    "    #     @show sample\n",
    "    # end\n",
    "\n",
    "    cmd = \"julia $(homedir())/workspace/Mycelia/scripts/run-blastn.jl --fasta $(assembled_fasta) --blast_db $(blast_db) --task $(blast_task) --out_directory $(blastn_directory) --threads $(threads)\"\n",
    "    submission = \n",
    "    `sbatch \n",
    "    --mail-user=cameron.prybol@gmail.com\n",
    "    --mail-type=ALL\n",
    "    --error=%x-%j.err\n",
    "    --output=%x-%j.out\n",
    "    --partition=batch\n",
    "    --account=mpsnyder\n",
    "    --nodes=1\n",
    "    --ntasks=1\n",
    "    --time=1-00:00:00    \n",
    "    --cpus-per-task=$(threads)\n",
    "    --mem-per-cpu=$(mem_per_cpu)G\n",
    "    --job-name=blastn\n",
    "    --wrap $cmd\n",
    "    `\n",
    "    run(submission)\n",
    "end"
   ]
  }
 ],
 "metadata": {
  "kernelspec": {
   "display_name": "Julia 1.9.3",
   "language": "julia",
   "name": "julia-1.9"
  },
  "language_info": {
   "file_extension": ".jl",
   "mimetype": "application/julia",
   "name": "julia",
   "version": "1.9.3"
  }
 },
 "nbformat": 4,
 "nbformat_minor": 5
}
