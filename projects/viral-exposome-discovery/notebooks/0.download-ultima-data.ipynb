{
 "cells": [
  {
   "cell_type": "code",
   "execution_count": null,
   "id": "d721fa48-b788-4576-9cab-b93b33daf55e",
   "metadata": {
    "tags": []
   },
   "outputs": [],
   "source": [
    "import Pkg\n",
    "\n",
    "pkgs = [\n",
    "\"ProgressMeter\",\n",
    "\"uCSV\",\n",
    "\"DataFrames\"\n",
    "]\n",
    "Pkg.add(pkgs)\n",
    "for pkg in pkgs\n",
    "    eval(Meta.parse(\"import $pkg\"))\n",
    "end"
   ]
  },
  {
   "cell_type": "code",
   "execution_count": null,
   "id": "67709473-e3d6-4992-8481-5996bc7e778f",
   "metadata": {},
   "outputs": [],
   "source": [
    "base_directory = dirname(pwd())\n",
    "metadata_file_path = joinpath(base_directory, \"metadata\", \"ultima\", \"Snyder_delivery_1.xlsx - Sheet1.tsv\")\n",
    "metadata_table = DataFrames.DataFrame(uCSV.read(metadata_file_path, delim='\\t', header=1))\n",
    "sort!(metadata_table, \"Customer ID\")\n",
    "ultima_data_dir = joinpath(base_directory, \"data\", \"Ultima\")"
   ]
  },
  {
   "cell_type": "code",
   "execution_count": null,
   "id": "3e7fee9b-03ae-427c-96e0-5caa003da65e",
   "metadata": {},
   "outputs": [],
   "source": [
    "for sample_metadata in DataFrames.eachrow(metadata_table)\n",
    "    sample_directory = mkpath(joinpath(ultima_data_dir, sample_metadata[\"Customer ID\"]))\n",
    "    for remote_file in [\n",
    "        sample_metadata[\"raw fastq\"],\n",
    "        sample_metadata[\"non-human fastq\"],\n",
    "        sample_metadata[\"kraken report all data, incl human\"]\n",
    "    ]\n",
    "        local_file = joinpath(sample_directory, basename(remote_file))\n",
    "        if !isfile(local_file)\n",
    "            cmd = `aws s3 cp $(remote_file) $(local_file)`\n",
    "            run(cmd)\n",
    "        else\n",
    "            println(\"$(remote_file) already downloaded...\")\n",
    "        end\n",
    "    end\n",
    "end"
   ]
  },
  {
   "cell_type": "code",
   "execution_count": null,
   "id": "d58f5f52-2b30-40a9-8217-db97b1fbad39",
   "metadata": {},
   "outputs": [],
   "source": [
    "# samples are unique by ID & pool, but same IDs are on multiple pools\n",
    "# unique(metadata_table[!, [\"pool nexus\", \"Customer ID\"]])"
   ]
  },
  {
   "cell_type": "code",
   "execution_count": null,
   "id": "26b7505a-4c97-404a-982b-75523508f677",
   "metadata": {},
   "outputs": [],
   "source": [
    "# conda create -n awscli -c conda-forge awscli\n",
    "# pip3 install awscli --upgrade --user"
   ]
  }
 ],
 "metadata": {
  "kernelspec": {
   "display_name": "Julia 1.6.7",
   "language": "julia",
   "name": "julia-1.6"
  },
  "language_info": {
   "file_extension": ".jl",
   "mimetype": "application/julia",
   "name": "julia",
   "version": "1.6.7"
  }
 },
 "nbformat": 4,
 "nbformat_minor": 5
}
