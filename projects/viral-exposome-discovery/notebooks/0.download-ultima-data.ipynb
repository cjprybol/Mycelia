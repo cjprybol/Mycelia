{
 "cells": [
  {
   "cell_type": "code",
   "execution_count": null,
   "id": "d721fa48-b788-4576-9cab-b93b33daf55e",
   "metadata": {
    "tags": []
   },
   "outputs": [],
   "source": [
    "import Pkg\n",
    "\n",
    "pkgs = [\n",
    "\"ProgressMeter\",\n",
    "\"uCSV\",\n",
    "\"DataFrames\",\n",
    "\"StatsPlots\"\n",
    "]\n",
    "Pkg.add(pkgs)\n",
    "for pkg in pkgs\n",
    "    eval(Meta.parse(\"import $pkg\"))\n",
    "end"
   ]
  },
  {
   "cell_type": "code",
   "execution_count": null,
   "id": "95cd8670-92a2-49fb-8564-fc7f205578bc",
   "metadata": {},
   "outputs": [],
   "source": [
    "base_directory = dirname(pwd())\n",
    "ultima_data_dir = joinpath(base_directory, \"data\", \"Ultima\")"
   ]
  },
  {
   "cell_type": "code",
   "execution_count": null,
   "id": "d5d0d2ab-208c-446d-81a3-637380c6ab28",
   "metadata": {},
   "outputs": [],
   "source": [
    "# metadata_file_path = joinpath(base_directory, \"metadata\", \"ultima\", \"Snyder_delivery_1.xlsx - Sheet1.tsv\")\n",
    "# metadata_table = DataFrames.DataFrame(uCSV.read(metadata_file_path, delim='\\t', header=1))\n",
    "# sort!(metadata_table, \"Customer ID\")\n",
    "# ultima_data_dir = joinpath(base_directory, \"data\", \"Ultima\")\n",
    "# for sample_metadata in DataFrames.eachrow(metadata_table)\n",
    "#     sample_directory = mkpath(joinpath(ultima_data_dir, sample_metadata[\"Customer ID\"]))\n",
    "#     for remote_file in [\n",
    "#         sample_metadata[\"raw fastq\"],\n",
    "#         sample_metadata[\"non-human fastq\"],\n",
    "#         sample_metadata[\"kraken report all data, incl human\"]\n",
    "#     ]\n",
    "#         local_file = joinpath(sample_directory, basename(remote_file))\n",
    "#         if !isfile(local_file)\n",
    "#             cmd = `aws s3 cp $(remote_file) $(local_file)`\n",
    "#             run(cmd)\n",
    "#         else\n",
    "#             println(\"$(remote_file) already downloaded...\")\n",
    "#         end\n",
    "#     end\n",
    "# end"
   ]
  },
  {
   "cell_type": "code",
   "execution_count": null,
   "id": "5548c86c-78fe-4427-8a5c-8d5966fe9f08",
   "metadata": {},
   "outputs": [],
   "source": [
    "# metadata_file_path = joinpath(base_directory, \"metadata\", \"ultima\", \"snyder_ipop_plates_1_2_delivery - Sheet1.tsv\")\n",
    "# metadata_table = DataFrames.DataFrame(uCSV.read(metadata_file_path, delim='\\t', header=1))"
   ]
  },
  {
   "cell_type": "code",
   "execution_count": null,
   "id": "dafac5a8-48a7-4058-a04f-4a7e2b55e384",
   "metadata": {},
   "outputs": [],
   "source": [
    "# s3://ultimagen-snyder/ipop/kraken2/\n",
    "# aws s3 cp s3://ultimagen-snyder/ipop/fastqs/ $HOME/workspace/Mycelia/projects/viral-exposome-discovery/data/ultima/ipop/fastqs/\n",
    "# aws s3 cp s3://ultimagen-snyder/ipop/kraken2/*"
   ]
  },
  {
   "cell_type": "code",
   "execution_count": null,
   "id": "d58f5f52-2b30-40a9-8217-db97b1fbad39",
   "metadata": {},
   "outputs": [],
   "source": [
    "# samples are unique by ID & pool, but same IDs are on multiple pools\n",
    "# unique(metadata_table[!, [\"pool nexus\", \"Customer ID\"]])"
   ]
  },
  {
   "cell_type": "code",
   "execution_count": null,
   "id": "26b7505a-4c97-404a-982b-75523508f677",
   "metadata": {},
   "outputs": [],
   "source": [
    "# conda create -n awscli -c conda-forge awscli\n",
    "# pip3 install awscli --upgrade --user"
   ]
  },
  {
   "cell_type": "code",
   "execution_count": null,
   "id": "d7f3ccd7-d51f-4f32-817b-128d7215233e",
   "metadata": {},
   "outputs": [],
   "source": [
    "# # aws s3api list-objects --bucket BUCKET_NAME --query \"[sum(Contents[].Size)]\" --output text\n",
    "\n",
    "# aws s3api list-objects --bucket ultimagen-snyder --query \"[sum(Contents[].Size)]\" --output text"
   ]
  },
  {
   "cell_type": "code",
   "execution_count": null,
   "id": "3484afe1-48af-4463-9f94-79977c57e1dc",
   "metadata": {},
   "outputs": [],
   "source": [
    "# aws s3 ls s3://ultimagen-snyder --recursive"
   ]
  },
  {
   "cell_type": "code",
   "execution_count": null,
   "id": "b248e25c-7ae1-4dfa-9366-c36bd017cf81",
   "metadata": {},
   "outputs": [],
   "source": [
    "# prioritize kraken reports first!\n",
    "# aws s3 cp s3://ultimagen-snyder/Kraken2_Pool1 $HOME/workspace/Mycelia/projects/viral-exposome-discovery/data/ultimagen-snyder/Kraken2_Pool1 --recursive\n",
    "# aws s3 cp s3://ultimagen-snyder/Kraken2_Pool2 $HOME/workspace/Mycelia/projects/viral-exposome-discovery/data/ultimagen-snyder/Kraken2_Pool2 --recursive\n",
    "# aws s3 cp s3://ultimagen-snyder/Kraken2_Pool3 $HOME/workspace/Mycelia/projects/viral-exposome-discovery/data/ultimagen-snyder/Kraken2_Pool3 --recursive\n",
    "# aws s3 cp s3://ultimagen-snyder/Kraken2_Pool4 $HOME/workspace/Mycelia/projects/viral-exposome-discovery/data/ultimagen-snyder/Kraken2_Pool4 --recursive\n",
    "# aws s3 cp s3://ultimagen-snyder/ipop/kraken2 $HOME/workspace/Mycelia/projects/viral-exposome-discovery/data/ultimagen-snyder/ipop/kraken2 --recursive"
   ]
  },
  {
   "cell_type": "code",
   "execution_count": null,
   "id": "dc25a90c-b4a2-4490-a335-093eb23cf446",
   "metadata": {},
   "outputs": [],
   "source": [
    "# copy will always copy again even if it's new!!!\n",
    "# aws s3 cp s3://ultimagen-snyder $HOME/workspace/Mycelia/projects/viral-exposome-discovery/data/ultimagen-snyder --recursive\n",
    "# aws s3 sync s3://ultimagen-snyder $HOME/workspace/Mycelia/projects/viral-exposome-discovery/data/ultimagen-snyder"
   ]
  }
 ],
 "metadata": {
  "kernelspec": {
   "display_name": "Julia 1.9.3",
   "language": "julia",
   "name": "julia-1.9"
  },
  "language_info": {
   "file_extension": ".jl",
   "mimetype": "application/julia",
   "name": "julia",
   "version": "1.9.3"
  }
 },
 "nbformat": 4,
 "nbformat_minor": 5
}
