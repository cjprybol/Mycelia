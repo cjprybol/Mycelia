{
 "cells": [
  {
   "cell_type": "markdown",
   "id": "08691468-3618-4425-875a-a1ae5487e530",
   "metadata": {},
   "source": [
    "objectives\n",
    "- find the what contigs were classified as viral by virsorter2\n",
    "- determine the lengths\n",
    "- find alignments in NCBI blast"
   ]
  },
  {
   "cell_type": "markdown",
   "id": "0c657b2d-a605-43d5-b857-fa6bdf0d38db",
   "metadata": {},
   "source": [
    "find the top hit for each contig in the blast output"
   ]
  },
  {
   "cell_type": "code",
   "execution_count": 2,
   "id": "28717f71-b8e6-49a1-a568-0e4b702c3c65",
   "metadata": {},
   "outputs": [
    {
     "name": "stderr",
     "output_type": "stream",
     "text": [
      "\u001b[36m\u001b[1m[ \u001b[22m\u001b[39m\u001b[36m\u001b[1mInfo: \u001b[22m\u001b[39mPrecompiling DataFrames [a93c6f00-e57d-5684-b7b6-d8193f3e46c0]\n",
      "\u001b[36m\u001b[1m[ \u001b[22m\u001b[39m\u001b[36m\u001b[1mInfo: \u001b[22m\u001b[39mPrecompiling Mycelia [453d265d-8292-4a7b-a57c-dce3f9ae6acd]\n",
      "\u001b[36m\u001b[1m[ \u001b[22m\u001b[39m\u001b[36m\u001b[1mInfo: \u001b[22m\u001b[39mSkipping precompilation since __precompile__(false). Importing Mycelia [453d265d-8292-4a7b-a57c-dce3f9ae6acd].\n",
      "\u001b[36m\u001b[1m[ \u001b[22m\u001b[39m\u001b[36m\u001b[1mInfo: \u001b[22m\u001b[39mPrecompiling GenomicAnnotations [4f8a0a0a-376d-5ac0-ab14-e88793df67f0]\n",
      "\u001b[36m\u001b[1m[ \u001b[22m\u001b[39m\u001b[36m\u001b[1mInfo: \u001b[22m\u001b[39mPrecompiling GraphRecipes [bd48cda9-67a9-57be-86fa-5b3c104eda73]\n",
      "\u001b[36m\u001b[1m[ \u001b[22m\u001b[39m\u001b[36m\u001b[1mInfo: \u001b[22m\u001b[39mPrecompiling MetaGraphs [626554b9-1ddb-594c-aa3c-2596fe9399a5]\n",
      "\u001b[36m\u001b[1m[ \u001b[22m\u001b[39m\u001b[36m\u001b[1mInfo: \u001b[22m\u001b[39mPrecompiling FileIOExt [f5f51d8f-5827-5d2e-939b-192fcd6ec70c]\n",
      "\u001b[36m\u001b[1m[ \u001b[22m\u001b[39m\u001b[36m\u001b[1mInfo: \u001b[22m\u001b[39mPrecompiling GeometryBasicsExt [b238bd29-021f-5edc-8b0e-16b9cda5f63a]\n"
     ]
    }
   ],
   "source": [
    "import Pkg\n",
    "pkgs = [\n",
    "    \"Revise\",\n",
    "    \"DataFrames\",\n",
    "    \"StatsBase\",\n",
    "    \"ProgressMeter\"\n",
    "]\n",
    "# Pkg.activate(; temp=true)\n",
    "# Pkg.add(pkgs)\n",
    "for pkg in pkgs\n",
    "    eval(Meta.parse(\"import $pkg\"))\n",
    "end\n",
    "import Mycelia"
   ]
  },
  {
   "cell_type": "code",
   "execution_count": 3,
   "id": "23109ba9-812c-4b56-a4d1-2ecb4a868dbf",
   "metadata": {},
   "outputs": [
    {
     "data": {
      "text/plain": [
       "594-element Vector{String}:\n",
       " \"/oak/stanford/scg/lab_mpsnyder/\" ⋯ 39 bytes ⋯ \"e-discovery/data/SRA/SRR6399459\"\n",
       " \"/oak/stanford/scg/lab_mpsnyder/\" ⋯ 39 bytes ⋯ \"e-discovery/data/SRA/SRR6399460\"\n",
       " \"/oak/stanford/scg/lab_mpsnyder/\" ⋯ 39 bytes ⋯ \"e-discovery/data/SRA/SRR6399461\"\n",
       " \"/oak/stanford/scg/lab_mpsnyder/\" ⋯ 39 bytes ⋯ \"e-discovery/data/SRA/SRR6399462\"\n",
       " \"/oak/stanford/scg/lab_mpsnyder/\" ⋯ 39 bytes ⋯ \"e-discovery/data/SRA/SRR6399463\"\n",
       " \"/oak/stanford/scg/lab_mpsnyder/\" ⋯ 39 bytes ⋯ \"e-discovery/data/SRA/SRR6399464\"\n",
       " \"/oak/stanford/scg/lab_mpsnyder/\" ⋯ 39 bytes ⋯ \"e-discovery/data/SRA/SRR6399465\"\n",
       " \"/oak/stanford/scg/lab_mpsnyder/\" ⋯ 39 bytes ⋯ \"e-discovery/data/SRA/SRR6399466\"\n",
       " \"/oak/stanford/scg/lab_mpsnyder/\" ⋯ 39 bytes ⋯ \"e-discovery/data/SRA/SRR6399467\"\n",
       " \"/oak/stanford/scg/lab_mpsnyder/\" ⋯ 39 bytes ⋯ \"e-discovery/data/SRA/SRR6399468\"\n",
       " \"/oak/stanford/scg/lab_mpsnyder/\" ⋯ 39 bytes ⋯ \"e-discovery/data/SRA/SRR6399469\"\n",
       " \"/oak/stanford/scg/lab_mpsnyder/\" ⋯ 39 bytes ⋯ \"e-discovery/data/SRA/SRR6399470\"\n",
       " \"/oak/stanford/scg/lab_mpsnyder/\" ⋯ 39 bytes ⋯ \"e-discovery/data/SRA/SRR6399471\"\n",
       " ⋮\n",
       " \"/oak/stanford/scg/lab_mpsnyder/\" ⋯ 39 bytes ⋯ \"e-discovery/data/SRA/SRR7365474\"\n",
       " \"/oak/stanford/scg/lab_mpsnyder/\" ⋯ 39 bytes ⋯ \"e-discovery/data/SRA/SRR7365475\"\n",
       " \"/oak/stanford/scg/lab_mpsnyder/\" ⋯ 39 bytes ⋯ \"e-discovery/data/SRA/SRR7365476\"\n",
       " \"/oak/stanford/scg/lab_mpsnyder/\" ⋯ 39 bytes ⋯ \"e-discovery/data/SRA/SRR7365477\"\n",
       " \"/oak/stanford/scg/lab_mpsnyder/\" ⋯ 39 bytes ⋯ \"e-discovery/data/SRA/SRR7365478\"\n",
       " \"/oak/stanford/scg/lab_mpsnyder/\" ⋯ 39 bytes ⋯ \"e-discovery/data/SRA/SRR7365479\"\n",
       " \"/oak/stanford/scg/lab_mpsnyder/\" ⋯ 39 bytes ⋯ \"e-discovery/data/SRA/SRR7365480\"\n",
       " \"/oak/stanford/scg/lab_mpsnyder/\" ⋯ 39 bytes ⋯ \"e-discovery/data/SRA/SRR7365481\"\n",
       " \"/oak/stanford/scg/lab_mpsnyder/\" ⋯ 39 bytes ⋯ \"e-discovery/data/SRA/SRR7365482\"\n",
       " \"/oak/stanford/scg/lab_mpsnyder/\" ⋯ 39 bytes ⋯ \"e-discovery/data/SRA/SRR7365483\"\n",
       " \"/oak/stanford/scg/lab_mpsnyder/\" ⋯ 39 bytes ⋯ \"e-discovery/data/SRA/SRR7365484\"\n",
       " \"/oak/stanford/scg/lab_mpsnyder/\" ⋯ 39 bytes ⋯ \"e-discovery/data/SRA/SRR7365485\""
      ]
     },
     "execution_count": 3,
     "metadata": {},
     "output_type": "execute_result"
    }
   ],
   "source": [
    "base_dir = dirname(pwd())\n",
    "data_dir = joinpath(base_dir, \"data\")\n",
    "sample_directories = readdir(joinpath(data_dir, \"SRA\"), join=true)"
   ]
  },
  {
   "cell_type": "code",
   "execution_count": null,
   "id": "94ae28a9-b819-4098-8ab2-dc55a41dd427",
   "metadata": {},
   "outputs": [],
   "source": [
    "Mycelia.parse_virsorter_score_tsv"
   ]
  },
  {
   "cell_type": "code",
   "execution_count": null,
   "id": "bf6d84bc-ebe3-42ec-953d-b9330734fb1b",
   "metadata": {},
   "outputs": [],
   "source": [
    "virsorter_score_tsv = joinpath(SRR_path, \"virsorter\", \"final-viral-score.tsv\")\n",
    "virsorter_results = Mycelia.parse_virsorter_score_tsv(virsorter_score_tsv)\n",
    "virsorter_results[!, \"seqname\"] = parse.(Int, first.(split.(virsorter_results[!, \"seqname\"], '|')))\n",
    "# virsorter_results"
   ]
  },
  {
   "cell_type": "markdown",
   "id": "80e5cf29-1f4a-490a-9671-155675541336",
   "metadata": {},
   "source": [
    "determine what percentage of reads were classified"
   ]
  },
  {
   "cell_type": "markdown",
   "id": "8f5874fd-29d4-429e-9e87-968c2c5ea800",
   "metadata": {},
   "source": [
    "compare this to kraken - what is the gain?!"
   ]
  }
 ],
 "metadata": {
  "kernelspec": {
   "display_name": "Julia 1.9.3",
   "language": "julia",
   "name": "julia-1.9"
  },
  "language_info": {
   "file_extension": ".jl",
   "mimetype": "application/julia",
   "name": "julia",
   "version": "1.9.3"
  }
 },
 "nbformat": 4,
 "nbformat_minor": 5
}
