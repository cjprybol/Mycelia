{
 "cells": [
  {
   "cell_type": "markdown",
   "id": "08691468-3618-4425-875a-a1ae5487e530",
   "metadata": {},
   "source": [
    "objectives\n",
    "- find the top hit for each contig in the mmseqs output, across all dbs\n",
    "- determine what percentage of contigs were classified\n",
    "- determine what percentage of reads were classified"
   ]
  },
  {
   "cell_type": "markdown",
   "id": "0c657b2d-a605-43d5-b857-fa6bdf0d38db",
   "metadata": {},
   "source": [
    "find the top hit for each contig in the blast output"
   ]
  },
  {
   "cell_type": "code",
   "execution_count": 1,
   "id": "28717f71-b8e6-49a1-a568-0e4b702c3c65",
   "metadata": {},
   "outputs": [
    {
     "name": "stderr",
     "output_type": "stream",
     "text": [
      "\u001b[36m\u001b[1m[ \u001b[22m\u001b[39m\u001b[36m\u001b[1mInfo: \u001b[22m\u001b[39mPrecompiling Mycelia [453d265d-8292-4a7b-a57c-dce3f9ae6acd]\n",
      "\u001b[36m\u001b[1m[ \u001b[22m\u001b[39m\u001b[36m\u001b[1mInfo: \u001b[22m\u001b[39mSkipping precompilation since __precompile__(false). Importing Mycelia [453d265d-8292-4a7b-a57c-dce3f9ae6acd].\n"
     ]
    }
   ],
   "source": [
    "import Pkg\n",
    "pkgs = [\n",
    "    \"Revise\",\n",
    "    \"DataFrames\",\n",
    "    \"StatsBase\",\n",
    "    \"ProgressMeter\",\n",
    "    \"uCSV\"\n",
    "]\n",
    "# Pkg.activate(; temp=true)\n",
    "# Pkg.add(pkgs)\n",
    "for pkg in pkgs\n",
    "    eval(Meta.parse(\"import $pkg\"))\n",
    "end\n",
    "import Mycelia"
   ]
  },
  {
   "cell_type": "code",
   "execution_count": null,
   "id": "cc507c43-9896-4416-bff1-7f3afee49669",
   "metadata": {},
   "outputs": [],
   "source": [
    "# load in metadata\n",
    "metadata_dir = joinpath(dirname(pwd()), \"metadata\")\n",
    "\n",
    "exposome_environmental_data = DataFrames.DataFrame(uCSV.read(\n",
    "    joinpath(metadata_dir, \"metadata_exposome.rds.tsv\"),\n",
    "    delim='\\t',\n",
    "    header=1,\n",
    "    typedetectrows=300\n",
    "))\n",
    "\n",
    "joint_sample_metadata = DataFrames.DataFrame(uCSV.read(\n",
    "    joinpath(metadata_dir, \"exposome/joint_sample_metadata.tsv\"),\n",
    "    delim='\\t',\n",
    "    header=1,\n",
    "    typedetectrows=300\n",
    "))\n",
    "\n",
    "@assert joint_sample_metadata[!, \"Library Name\"] == joint_sample_metadata[!, \"LibraryName\"]\n",
    "\n",
    "joint_metadata = DataFrames.innerjoin(\n",
    "    joint_sample_metadata,\n",
    "    exposome_environmental_data,\n",
    "    on=\"Library Name\" => \"samplenames\")"
   ]
  },
  {
   "cell_type": "code",
   "execution_count": 2,
   "id": "04672bb0-b0ce-4dc6-bea3-7720553cad07",
   "metadata": {},
   "outputs": [
    {
     "name": "stderr",
     "output_type": "stream",
     "text": [
      "\u001b[33m\u001b[1m┌ \u001b[22m\u001b[39m\u001b[33m\u001b[1mWarning: \u001b[22m\u001b[39mLarge values for `typedetectrows` will reduce performance. Consider manually declaring the types of columns using the `types` argument instead.\n",
      "\u001b[33m\u001b[1m└ \u001b[22m\u001b[39m\u001b[90m@ uCSV ~/.julia/packages/uCSV/goLRH/src/read.jl:213\u001b[39m\n"
     ]
    },
    {
     "data": {
      "text/plain": [
       "1559-element Vector{Int64}:\n",
       "  351073\n",
       " 3051992\n",
       " 3052643\n",
       " 3052759\n",
       " 2795181\n",
       " 2304647\n",
       " 2825847\n",
       "   11029\n",
       " 3052040\n",
       " 2845899\n",
       " 2055263\n",
       "   95342\n",
       " 1965018\n",
       "       ⋮\n",
       "  356663\n",
       "  356664\n",
       "  373193\n",
       "   11837\n",
       "   38804\n",
       "  132475\n",
       "   11089\n",
       "  617102\n",
       " 2053026\n",
       "  186538\n",
       " 1764086\n",
       "   64320"
      ]
     },
     "execution_count": 2,
     "metadata": {},
     "output_type": "execute_result"
    }
   ],
   "source": [
    "# NCBI host metadata\n",
    "ncbi_metadata_file = joinpath(dirname(pwd()), \"metadata\", \"NCBI-virus-refseq.transformed.tsv\")\n",
    "ncbi_host_metadata = DataFrames.DataFrame(uCSV.read(ncbi_metadata_file, header=1, delim='\\t', encodings=Dict(\"false\" => false, \"true\" => true)))\n",
    "\n",
    "# ICTV host metadata\n",
    "ictv_metadata_file = joinpath(dirname(pwd()), \"metadata\", \"VMR_MSL38_v1 - VMR MSL38 v1.transformed.tsv\")\n",
    "ictv_host_metadata = DataFrames.DataFrame(uCSV.read(ictv_metadata_file, header=1, delim='\\t', typedetectrows=100))\n",
    "ictv_host_metadata = ictv_host_metadata[.!isempty.(ictv_host_metadata[!, \"taxid\"]), :]\n",
    "ictv_host_metadata[!, \"taxid\"] = parse.(Int, ictv_host_metadata[!, \"taxid\"])\n",
    "\n",
    "# # VirusHostDB metadata\n",
    "virushostdb_metadata_file = joinpath(dirname(pwd()), \"metadata\", \"virushostdb.transformed.tsv\")\n",
    "virushostdb_metadata = DataFrames.DataFrame(uCSV.read(virushostdb_metadata_file, header=1, delim='\\t', typedetectrows=1086, encodings=Dict(\"missing\" => missing, \"false\" => false, \"true\" => true)))\n",
    "\n",
    "vertebrate_taxids = union(\n",
    "    ictv_host_metadata[ictv_host_metadata[!, \"Host source\"] .== \"vertebrates\", \"taxid\"],\n",
    "    ncbi_host_metadata[ncbi_host_metadata[!, \"host_is_vertebrate\"], \"taxid\"],\n",
    "    virushostdb_metadata[virushostdb_metadata[!, \"host_is_vertebrate\"], \"virus_taxid\"]\n",
    ")\n",
    "\n",
    "human_taxids = union(\n",
    "    ncbi_host_metadata[ncbi_host_metadata[!, \"host_is_human\"], \"taxid\"],\n",
    "    virushostdb_metadata[virushostdb_metadata[!, \"host_is_human\"], \"virus_taxid\"]\n",
    ")"
   ]
  },
  {
   "cell_type": "code",
   "execution_count": 3,
   "id": "23109ba9-812c-4b56-a4d1-2ecb4a868dbf",
   "metadata": {},
   "outputs": [
    {
     "data": {
      "text/plain": [
       "594-element Vector{String}:\n",
       " \"/oak/stanford/scg/lab_mpsnyder/\" ⋯ 39 bytes ⋯ \"e-discovery/data/SRA/SRR6399459\"\n",
       " \"/oak/stanford/scg/lab_mpsnyder/\" ⋯ 39 bytes ⋯ \"e-discovery/data/SRA/SRR6399460\"\n",
       " \"/oak/stanford/scg/lab_mpsnyder/\" ⋯ 39 bytes ⋯ \"e-discovery/data/SRA/SRR6399461\"\n",
       " \"/oak/stanford/scg/lab_mpsnyder/\" ⋯ 39 bytes ⋯ \"e-discovery/data/SRA/SRR6399462\"\n",
       " \"/oak/stanford/scg/lab_mpsnyder/\" ⋯ 39 bytes ⋯ \"e-discovery/data/SRA/SRR6399463\"\n",
       " \"/oak/stanford/scg/lab_mpsnyder/\" ⋯ 39 bytes ⋯ \"e-discovery/data/SRA/SRR6399464\"\n",
       " \"/oak/stanford/scg/lab_mpsnyder/\" ⋯ 39 bytes ⋯ \"e-discovery/data/SRA/SRR6399465\"\n",
       " \"/oak/stanford/scg/lab_mpsnyder/\" ⋯ 39 bytes ⋯ \"e-discovery/data/SRA/SRR6399466\"\n",
       " \"/oak/stanford/scg/lab_mpsnyder/\" ⋯ 39 bytes ⋯ \"e-discovery/data/SRA/SRR6399467\"\n",
       " \"/oak/stanford/scg/lab_mpsnyder/\" ⋯ 39 bytes ⋯ \"e-discovery/data/SRA/SRR6399468\"\n",
       " \"/oak/stanford/scg/lab_mpsnyder/\" ⋯ 39 bytes ⋯ \"e-discovery/data/SRA/SRR6399469\"\n",
       " \"/oak/stanford/scg/lab_mpsnyder/\" ⋯ 39 bytes ⋯ \"e-discovery/data/SRA/SRR6399470\"\n",
       " \"/oak/stanford/scg/lab_mpsnyder/\" ⋯ 39 bytes ⋯ \"e-discovery/data/SRA/SRR6399471\"\n",
       " ⋮\n",
       " \"/oak/stanford/scg/lab_mpsnyder/\" ⋯ 39 bytes ⋯ \"e-discovery/data/SRA/SRR7365474\"\n",
       " \"/oak/stanford/scg/lab_mpsnyder/\" ⋯ 39 bytes ⋯ \"e-discovery/data/SRA/SRR7365475\"\n",
       " \"/oak/stanford/scg/lab_mpsnyder/\" ⋯ 39 bytes ⋯ \"e-discovery/data/SRA/SRR7365476\"\n",
       " \"/oak/stanford/scg/lab_mpsnyder/\" ⋯ 39 bytes ⋯ \"e-discovery/data/SRA/SRR7365477\"\n",
       " \"/oak/stanford/scg/lab_mpsnyder/\" ⋯ 39 bytes ⋯ \"e-discovery/data/SRA/SRR7365478\"\n",
       " \"/oak/stanford/scg/lab_mpsnyder/\" ⋯ 39 bytes ⋯ \"e-discovery/data/SRA/SRR7365479\"\n",
       " \"/oak/stanford/scg/lab_mpsnyder/\" ⋯ 39 bytes ⋯ \"e-discovery/data/SRA/SRR7365480\"\n",
       " \"/oak/stanford/scg/lab_mpsnyder/\" ⋯ 39 bytes ⋯ \"e-discovery/data/SRA/SRR7365481\"\n",
       " \"/oak/stanford/scg/lab_mpsnyder/\" ⋯ 39 bytes ⋯ \"e-discovery/data/SRA/SRR7365482\"\n",
       " \"/oak/stanford/scg/lab_mpsnyder/\" ⋯ 39 bytes ⋯ \"e-discovery/data/SRA/SRR7365483\"\n",
       " \"/oak/stanford/scg/lab_mpsnyder/\" ⋯ 39 bytes ⋯ \"e-discovery/data/SRA/SRR7365484\"\n",
       " \"/oak/stanford/scg/lab_mpsnyder/\" ⋯ 39 bytes ⋯ \"e-discovery/data/SRA/SRR7365485\""
      ]
     },
     "execution_count": 3,
     "metadata": {},
     "output_type": "execute_result"
    }
   ],
   "source": [
    "base_dir = dirname(pwd())\n",
    "data_dir = joinpath(base_dir, \"data\")\n",
    "sample_directories = readdir(joinpath(data_dir, \"SRA\"), join=true)"
   ]
  },
  {
   "cell_type": "code",
   "execution_count": 4,
   "id": "aa1a4e6e-e1f7-4da6-b41e-ac110d38a2e6",
   "metadata": {},
   "outputs": [
    {
     "data": {
      "text/plain": [
       "1782-element Vector{String}:\n",
       " \"/oak/stanford/scg/lab_mpsnyder/\" ⋯ 128 bytes ⋯ \"asy_taxonomy.UniRef100_lca.tsv\"\n",
       " \"/oak/stanford/scg/lab_mpsnyder/\" ⋯ 127 bytes ⋯ \"easy_taxonomy.UniRef50_lca.tsv\"\n",
       " \"/oak/stanford/scg/lab_mpsnyder/\" ⋯ 127 bytes ⋯ \"easy_taxonomy.UniRef90_lca.tsv\"\n",
       " \"/oak/stanford/scg/lab_mpsnyder/\" ⋯ 128 bytes ⋯ \"asy_taxonomy.UniRef100_lca.tsv\"\n",
       " \"/oak/stanford/scg/lab_mpsnyder/\" ⋯ 127 bytes ⋯ \"easy_taxonomy.UniRef50_lca.tsv\"\n",
       " \"/oak/stanford/scg/lab_mpsnyder/\" ⋯ 127 bytes ⋯ \"easy_taxonomy.UniRef90_lca.tsv\"\n",
       " \"/oak/stanford/scg/lab_mpsnyder/\" ⋯ 128 bytes ⋯ \"asy_taxonomy.UniRef100_lca.tsv\"\n",
       " \"/oak/stanford/scg/lab_mpsnyder/\" ⋯ 127 bytes ⋯ \"easy_taxonomy.UniRef50_lca.tsv\"\n",
       " \"/oak/stanford/scg/lab_mpsnyder/\" ⋯ 127 bytes ⋯ \"easy_taxonomy.UniRef90_lca.tsv\"\n",
       " \"/oak/stanford/scg/lab_mpsnyder/\" ⋯ 128 bytes ⋯ \"asy_taxonomy.UniRef100_lca.tsv\"\n",
       " \"/oak/stanford/scg/lab_mpsnyder/\" ⋯ 127 bytes ⋯ \"easy_taxonomy.UniRef50_lca.tsv\"\n",
       " \"/oak/stanford/scg/lab_mpsnyder/\" ⋯ 127 bytes ⋯ \"easy_taxonomy.UniRef90_lca.tsv\"\n",
       " \"/oak/stanford/scg/lab_mpsnyder/\" ⋯ 128 bytes ⋯ \"asy_taxonomy.UniRef100_lca.tsv\"\n",
       " ⋮\n",
       " \"/oak/stanford/scg/lab_mpsnyder/\" ⋯ 128 bytes ⋯ \"asy_taxonomy.UniRef100_lca.tsv\"\n",
       " \"/oak/stanford/scg/lab_mpsnyder/\" ⋯ 127 bytes ⋯ \"easy_taxonomy.UniRef50_lca.tsv\"\n",
       " \"/oak/stanford/scg/lab_mpsnyder/\" ⋯ 127 bytes ⋯ \"easy_taxonomy.UniRef90_lca.tsv\"\n",
       " \"/oak/stanford/scg/lab_mpsnyder/\" ⋯ 128 bytes ⋯ \"asy_taxonomy.UniRef100_lca.tsv\"\n",
       " \"/oak/stanford/scg/lab_mpsnyder/\" ⋯ 127 bytes ⋯ \"easy_taxonomy.UniRef50_lca.tsv\"\n",
       " \"/oak/stanford/scg/lab_mpsnyder/\" ⋯ 127 bytes ⋯ \"easy_taxonomy.UniRef90_lca.tsv\"\n",
       " \"/oak/stanford/scg/lab_mpsnyder/\" ⋯ 128 bytes ⋯ \"asy_taxonomy.UniRef100_lca.tsv\"\n",
       " \"/oak/stanford/scg/lab_mpsnyder/\" ⋯ 127 bytes ⋯ \"easy_taxonomy.UniRef50_lca.tsv\"\n",
       " \"/oak/stanford/scg/lab_mpsnyder/\" ⋯ 127 bytes ⋯ \"easy_taxonomy.UniRef90_lca.tsv\"\n",
       " \"/oak/stanford/scg/lab_mpsnyder/\" ⋯ 128 bytes ⋯ \"asy_taxonomy.UniRef100_lca.tsv\"\n",
       " \"/oak/stanford/scg/lab_mpsnyder/\" ⋯ 127 bytes ⋯ \"easy_taxonomy.UniRef50_lca.tsv\"\n",
       " \"/oak/stanford/scg/lab_mpsnyder/\" ⋯ 127 bytes ⋯ \"easy_taxonomy.UniRef90_lca.tsv\""
      ]
     },
     "execution_count": 4,
     "metadata": {},
     "output_type": "execute_result"
    }
   ],
   "source": [
    "easy_taxonomy_lca_reports = String[]\n",
    "for sample_directory in sample_directories\n",
    "    mmseqs_directory_contents = readdir(joinpath(sample_directory, \"mmseqs_easy_taxonomy\"), join=true)\n",
    "    sample_lca_reports = filter(x -> occursin(\"final.contigs.fastg.gfa.fna.mmseqs_easy_taxonomy.\", x) && occursin(\"_lca.tsv\", x), mmseqs_directory_contents)\n",
    "    append!(easy_taxonomy_lca_reports, sample_lca_reports)\n",
    "end\n",
    "easy_taxonomy_lca_reports"
   ]
  },
  {
   "cell_type": "code",
   "execution_count": 5,
   "id": "a2914720-fda5-46d4-8818-353e41698490",
   "metadata": {},
   "outputs": [
    {
     "data": {
      "text/plain": [
       "\"/oak/stanford/scg/lab_mpsnyder/cjprybol/Mycelia/projects/viral-exposome-discovery/data/SRA/SRR6399459/mmseqs_easy_taxonomy/final.contigs.fastg.gfa.fna.mmseqs_easy_taxonomy.UniRef100_lca.tsv\""
      ]
     },
     "execution_count": 5,
     "metadata": {},
     "output_type": "execute_result"
    }
   ],
   "source": [
    "lca_tsv = first(easy_taxonomy_lca_reports)"
   ]
  },
  {
   "cell_type": "code",
   "execution_count": 6,
   "id": "2bafcb1c-2741-4cd4-9b3f-8c84469eb27d",
   "metadata": {},
   "outputs": [
    {
     "name": "stderr",
     "output_type": "stream",
     "text": [
      "\u001b[32mProgress: 100%|█████████████████████████████████████████| Time: 0:05:19\u001b[39m\n"
     ]
    },
    {
     "data": {
      "text/html": [
       "<div><div style = \"float: left;\"><span>27612605×10 DataFrame</span></div><div style = \"float: right;\"><span style = \"font-style: italic;\">27612580 rows omitted</span></div><div style = \"clear: both;\"></div></div><div class = \"data-frame\" style = \"overflow-x: scroll;\"><table class = \"data-frame\" style = \"margin-bottom: 6px;\"><thead><tr class = \"header\"><th class = \"rowNumber\" style = \"font-weight: bold; text-align: right;\">Row</th><th style = \"text-align: left;\">contig_id</th><th style = \"text-align: left;\">taxon_id</th><th style = \"text-align: left;\">taxon_rank</th><th style = \"text-align: left;\">taxon_name</th><th style = \"text-align: left;\">fragments_retained</th><th style = \"text-align: left;\">fragments_taxonomically_assigned</th><th style = \"text-align: left;\">fragments_in_agreement_with_assignment</th><th style = \"text-align: left;\">support -log(E-value)</th><th style = \"text-align: left;\">sample</th><th style = \"text-align: left;\">method</th></tr><tr class = \"subheader headerLastRow\"><th class = \"rowNumber\" style = \"font-weight: bold; text-align: right;\"></th><th title = \"Int64\" style = \"text-align: left;\">Int64</th><th title = \"Int64\" style = \"text-align: left;\">Int64</th><th title = \"String\" style = \"text-align: left;\">String</th><th title = \"String\" style = \"text-align: left;\">String</th><th title = \"Int64\" style = \"text-align: left;\">Int64</th><th title = \"Int64\" style = \"text-align: left;\">Int64</th><th title = \"Int64\" style = \"text-align: left;\">Int64</th><th title = \"Float64\" style = \"text-align: left;\">Float64</th><th title = \"String\" style = \"text-align: left;\">String</th><th title = \"String\" style = \"text-align: left;\">String</th></tr></thead><tbody><tr><td class = \"rowNumber\" style = \"font-weight: bold; text-align: right;\">1</td><td style = \"text-align: right;\">6611</td><td style = \"text-align: right;\">147550</td><td style = \"text-align: left;\">class</td><td style = \"text-align: left;\">Sordariomycetes</td><td style = \"text-align: right;\">1</td><td style = \"text-align: right;\">1</td><td style = \"text-align: right;\">1</td><td style = \"text-align: right;\">1.0</td><td style = \"text-align: left;\">SRR6399459</td><td style = \"text-align: left;\">mmseqs_easy_taxonomy.UniRef100</td></tr><tr><td class = \"rowNumber\" style = \"font-weight: bold; text-align: right;\">2</td><td style = \"text-align: right;\">6612</td><td style = \"text-align: right;\">229535</td><td style = \"text-align: left;\">species</td><td style = \"text-align: left;\">Penicillium nordicum</td><td style = \"text-align: right;\">1</td><td style = \"text-align: right;\">1</td><td style = \"text-align: right;\">1</td><td style = \"text-align: right;\">1.0</td><td style = \"text-align: left;\">SRR6399459</td><td style = \"text-align: left;\">mmseqs_easy_taxonomy.UniRef100</td></tr><tr><td class = \"rowNumber\" style = \"font-weight: bold; text-align: right;\">3</td><td style = \"text-align: right;\">6617</td><td style = \"text-align: right;\">470</td><td style = \"text-align: left;\">species</td><td style = \"text-align: left;\">Acinetobacter baumannii</td><td style = \"text-align: right;\">1</td><td style = \"text-align: right;\">1</td><td style = \"text-align: right;\">1</td><td style = \"text-align: right;\">1.0</td><td style = \"text-align: left;\">SRR6399459</td><td style = \"text-align: left;\">mmseqs_easy_taxonomy.UniRef100</td></tr><tr><td class = \"rowNumber\" style = \"font-weight: bold; text-align: right;\">4</td><td style = \"text-align: right;\">6620</td><td style = \"text-align: right;\">9597</td><td style = \"text-align: left;\">species</td><td style = \"text-align: left;\">Pan paniscus</td><td style = \"text-align: right;\">3</td><td style = \"text-align: right;\">2</td><td style = \"text-align: right;\">1</td><td style = \"text-align: right;\">0.61</td><td style = \"text-align: left;\">SRR6399459</td><td style = \"text-align: left;\">mmseqs_easy_taxonomy.UniRef100</td></tr><tr><td class = \"rowNumber\" style = \"font-weight: bold; text-align: right;\">5</td><td style = \"text-align: right;\">6621</td><td style = \"text-align: right;\">469</td><td style = \"text-align: left;\">genus</td><td style = \"text-align: left;\">Acinetobacter</td><td style = \"text-align: right;\">1</td><td style = \"text-align: right;\">1</td><td style = \"text-align: right;\">1</td><td style = \"text-align: right;\">1.0</td><td style = \"text-align: left;\">SRR6399459</td><td style = \"text-align: left;\">mmseqs_easy_taxonomy.UniRef100</td></tr><tr><td class = \"rowNumber\" style = \"font-weight: bold; text-align: right;\">6</td><td style = \"text-align: right;\">6622</td><td style = \"text-align: right;\">286661</td><td style = \"text-align: left;\">species</td><td style = \"text-align: left;\">Peltaster fructicola</td><td style = \"text-align: right;\">3</td><td style = \"text-align: right;\">3</td><td style = \"text-align: right;\">1</td><td style = \"text-align: right;\">0.91</td><td style = \"text-align: left;\">SRR6399459</td><td style = \"text-align: left;\">mmseqs_easy_taxonomy.UniRef100</td></tr><tr><td class = \"rowNumber\" style = \"font-weight: bold; text-align: right;\">7</td><td style = \"text-align: right;\">6623</td><td style = \"text-align: right;\">207598</td><td style = \"text-align: left;\">subfamily</td><td style = \"text-align: left;\">Homininae</td><td style = \"text-align: right;\">5</td><td style = \"text-align: right;\">5</td><td style = \"text-align: right;\">3</td><td style = \"text-align: right;\">0.61</td><td style = \"text-align: left;\">SRR6399459</td><td style = \"text-align: left;\">mmseqs_easy_taxonomy.UniRef100</td></tr><tr><td class = \"rowNumber\" style = \"font-weight: bold; text-align: right;\">8</td><td style = \"text-align: right;\">6625</td><td style = \"text-align: right;\">5139</td><td style = \"text-align: left;\">order</td><td style = \"text-align: left;\">Sordariales</td><td style = \"text-align: right;\">1</td><td style = \"text-align: right;\">1</td><td style = \"text-align: right;\">1</td><td style = \"text-align: right;\">1.0</td><td style = \"text-align: left;\">SRR6399459</td><td style = \"text-align: left;\">mmseqs_easy_taxonomy.UniRef100</td></tr><tr><td class = \"rowNumber\" style = \"font-weight: bold; text-align: right;\">9</td><td style = \"text-align: right;\">6626</td><td style = \"text-align: right;\">1</td><td style = \"text-align: left;\">no rank</td><td style = \"text-align: left;\">root</td><td style = \"text-align: right;\">5</td><td style = \"text-align: right;\">4</td><td style = \"text-align: right;\">4</td><td style = \"text-align: right;\">1.0</td><td style = \"text-align: left;\">SRR6399459</td><td style = \"text-align: left;\">mmseqs_easy_taxonomy.UniRef100</td></tr><tr><td class = \"rowNumber\" style = \"font-weight: bold; text-align: right;\">10</td><td style = \"text-align: right;\">6628</td><td style = \"text-align: right;\">222544</td><td style = \"text-align: left;\">subclass</td><td style = \"text-align: left;\">Sordariomycetidae</td><td style = \"text-align: right;\">8</td><td style = \"text-align: right;\">6</td><td style = \"text-align: right;\">4</td><td style = \"text-align: right;\">0.75</td><td style = \"text-align: left;\">SRR6399459</td><td style = \"text-align: left;\">mmseqs_easy_taxonomy.UniRef100</td></tr><tr><td class = \"rowNumber\" style = \"font-weight: bold; text-align: right;\">11</td><td style = \"text-align: right;\">2542</td><td style = \"text-align: right;\">117571</td><td style = \"text-align: left;\">clade</td><td style = \"text-align: left;\">Euteleostomi</td><td style = \"text-align: right;\">4</td><td style = \"text-align: right;\">4</td><td style = \"text-align: right;\">4</td><td style = \"text-align: right;\">1.0</td><td style = \"text-align: left;\">SRR6399459</td><td style = \"text-align: left;\">mmseqs_easy_taxonomy.UniRef100</td></tr><tr><td class = \"rowNumber\" style = \"font-weight: bold; text-align: right;\">12</td><td style = \"text-align: right;\">2545</td><td style = \"text-align: right;\">2</td><td style = \"text-align: left;\">superkingdom</td><td style = \"text-align: left;\">Bacteria</td><td style = \"text-align: right;\">5</td><td style = \"text-align: right;\">5</td><td style = \"text-align: right;\">5</td><td style = \"text-align: right;\">1.0</td><td style = \"text-align: left;\">SRR6399459</td><td style = \"text-align: left;\">mmseqs_easy_taxonomy.UniRef100</td></tr><tr><td class = \"rowNumber\" style = \"font-weight: bold; text-align: right;\">13</td><td style = \"text-align: right;\">2547</td><td style = \"text-align: right;\">469</td><td style = \"text-align: left;\">genus</td><td style = \"text-align: left;\">Acinetobacter</td><td style = \"text-align: right;\">3</td><td style = \"text-align: right;\">2</td><td style = \"text-align: right;\">2</td><td style = \"text-align: right;\">1.0</td><td style = \"text-align: left;\">SRR6399459</td><td style = \"text-align: left;\">mmseqs_easy_taxonomy.UniRef100</td></tr><tr><td style = \"text-align: right;\">&vellip;</td><td style = \"text-align: right;\">&vellip;</td><td style = \"text-align: right;\">&vellip;</td><td style = \"text-align: right;\">&vellip;</td><td style = \"text-align: right;\">&vellip;</td><td style = \"text-align: right;\">&vellip;</td><td style = \"text-align: right;\">&vellip;</td><td style = \"text-align: right;\">&vellip;</td><td style = \"text-align: right;\">&vellip;</td><td style = \"text-align: right;\">&vellip;</td><td style = \"text-align: right;\">&vellip;</td></tr><tr><td class = \"rowNumber\" style = \"font-weight: bold; text-align: right;\">27612594</td><td style = \"text-align: right;\">7152</td><td style = \"text-align: right;\">104408</td><td style = \"text-align: left;\">species</td><td style = \"text-align: left;\">Naganishia liquefaciens</td><td style = \"text-align: right;\">2</td><td style = \"text-align: right;\">2</td><td style = \"text-align: right;\">2</td><td style = \"text-align: right;\">1.0</td><td style = \"text-align: left;\">SRR7365485</td><td style = \"text-align: left;\">mmseqs_easy_taxonomy.UniRef90</td></tr><tr><td class = \"rowNumber\" style = \"font-weight: bold; text-align: right;\">27612595</td><td style = \"text-align: right;\">7154</td><td style = \"text-align: right;\">1161412</td><td style = \"text-align: left;\">species</td><td style = \"text-align: left;\">Prevotella sp. ICM33</td><td style = \"text-align: right;\">2</td><td style = \"text-align: right;\">2</td><td style = \"text-align: right;\">1</td><td style = \"text-align: right;\">0.81</td><td style = \"text-align: left;\">SRR7365485</td><td style = \"text-align: left;\">mmseqs_easy_taxonomy.UniRef90</td></tr><tr><td class = \"rowNumber\" style = \"font-weight: bold; text-align: right;\">27612596</td><td style = \"text-align: right;\">7311</td><td style = \"text-align: right;\">587735</td><td style = \"text-align: left;\">species</td><td style = \"text-align: left;\">Jeotgalibacillus terrae</td><td style = \"text-align: right;\">1</td><td style = \"text-align: right;\">1</td><td style = \"text-align: right;\">1</td><td style = \"text-align: right;\">1.0</td><td style = \"text-align: left;\">SRR7365485</td><td style = \"text-align: left;\">mmseqs_easy_taxonomy.UniRef90</td></tr><tr><td class = \"rowNumber\" style = \"font-weight: bold; text-align: right;\">27612597</td><td style = \"text-align: right;\">7312</td><td style = \"text-align: right;\">5073</td><td style = \"text-align: left;\">genus</td><td style = \"text-align: left;\">Penicillium</td><td style = \"text-align: right;\">1</td><td style = \"text-align: right;\">1</td><td style = \"text-align: right;\">1</td><td style = \"text-align: right;\">1.0</td><td style = \"text-align: left;\">SRR7365485</td><td style = \"text-align: left;\">mmseqs_easy_taxonomy.UniRef90</td></tr><tr><td class = \"rowNumber\" style = \"font-weight: bold; text-align: right;\">27612598</td><td style = \"text-align: right;\">7313</td><td style = \"text-align: right;\">1</td><td style = \"text-align: left;\">no rank</td><td style = \"text-align: left;\">root</td><td style = \"text-align: right;\">1</td><td style = \"text-align: right;\">1</td><td style = \"text-align: right;\">1</td><td style = \"text-align: right;\">1.0</td><td style = \"text-align: left;\">SRR7365485</td><td style = \"text-align: left;\">mmseqs_easy_taxonomy.UniRef90</td></tr><tr><td class = \"rowNumber\" style = \"font-weight: bold; text-align: right;\">27612599</td><td style = \"text-align: right;\">7316</td><td style = \"text-align: right;\">91061</td><td style = \"text-align: left;\">class</td><td style = \"text-align: left;\">Bacilli</td><td style = \"text-align: right;\">1</td><td style = \"text-align: right;\">1</td><td style = \"text-align: right;\">1</td><td style = \"text-align: right;\">1.0</td><td style = \"text-align: left;\">SRR7365485</td><td style = \"text-align: left;\">mmseqs_easy_taxonomy.UniRef90</td></tr><tr><td class = \"rowNumber\" style = \"font-weight: bold; text-align: right;\">27612600</td><td style = \"text-align: right;\">732</td><td style = \"text-align: right;\">314293</td><td style = \"text-align: left;\">infraorder</td><td style = \"text-align: left;\">Simiiformes</td><td style = \"text-align: right;\">8</td><td style = \"text-align: right;\">8</td><td style = \"text-align: right;\">5</td><td style = \"text-align: right;\">0.57</td><td style = \"text-align: left;\">SRR7365485</td><td style = \"text-align: left;\">mmseqs_easy_taxonomy.UniRef90</td></tr><tr><td class = \"rowNumber\" style = \"font-weight: bold; text-align: right;\">27612601</td><td style = \"text-align: right;\">7320</td><td style = \"text-align: right;\">2</td><td style = \"text-align: left;\">superkingdom</td><td style = \"text-align: left;\">Bacteria</td><td style = \"text-align: right;\">6</td><td style = \"text-align: right;\">6</td><td style = \"text-align: right;\">6</td><td style = \"text-align: right;\">1.0</td><td style = \"text-align: left;\">SRR7365485</td><td style = \"text-align: left;\">mmseqs_easy_taxonomy.UniRef90</td></tr><tr><td class = \"rowNumber\" style = \"font-weight: bold; text-align: right;\">27612602</td><td style = \"text-align: right;\">7321</td><td style = \"text-align: right;\">9528</td><td style = \"text-align: left;\">subfamily</td><td style = \"text-align: left;\">Cercopithecinae</td><td style = \"text-align: right;\">5</td><td style = \"text-align: right;\">5</td><td style = \"text-align: right;\">2</td><td style = \"text-align: right;\">0.53</td><td style = \"text-align: left;\">SRR7365485</td><td style = \"text-align: left;\">mmseqs_easy_taxonomy.UniRef90</td></tr><tr><td class = \"rowNumber\" style = \"font-weight: bold; text-align: right;\">27612603</td><td style = \"text-align: right;\">7322</td><td style = \"text-align: right;\">104408</td><td style = \"text-align: left;\">species</td><td style = \"text-align: left;\">Naganishia liquefaciens</td><td style = \"text-align: right;\">2</td><td style = \"text-align: right;\">2</td><td style = \"text-align: right;\">2</td><td style = \"text-align: right;\">1.0</td><td style = \"text-align: left;\">SRR7365485</td><td style = \"text-align: left;\">mmseqs_easy_taxonomy.UniRef90</td></tr><tr><td class = \"rowNumber\" style = \"font-weight: bold; text-align: right;\">27612604</td><td style = \"text-align: right;\">7324</td><td style = \"text-align: right;\">186817</td><td style = \"text-align: left;\">family</td><td style = \"text-align: left;\">Bacillaceae</td><td style = \"text-align: right;\">2</td><td style = \"text-align: right;\">2</td><td style = \"text-align: right;\">2</td><td style = \"text-align: right;\">1.0</td><td style = \"text-align: left;\">SRR7365485</td><td style = \"text-align: left;\">mmseqs_easy_taxonomy.UniRef90</td></tr><tr><td class = \"rowNumber\" style = \"font-weight: bold; text-align: right;\">27612605</td><td style = \"text-align: right;\">7325</td><td style = \"text-align: right;\">131567</td><td style = \"text-align: left;\">no rank</td><td style = \"text-align: left;\">cellular organisms</td><td style = \"text-align: right;\">3</td><td style = \"text-align: right;\">3</td><td style = \"text-align: right;\">3</td><td style = \"text-align: right;\">1.0</td><td style = \"text-align: left;\">SRR7365485</td><td style = \"text-align: left;\">mmseqs_easy_taxonomy.UniRef90</td></tr></tbody></table></div>"
      ],
      "text/latex": [
       "\\begin{tabular}{r|ccccc}\n",
       "\t& contig\\_id & taxon\\_id & taxon\\_rank & taxon\\_name & \\\\\n",
       "\t\\hline\n",
       "\t& Int64 & Int64 & String & String & \\\\\n",
       "\t\\hline\n",
       "\t1 & 6611 & 147550 & class & Sordariomycetes & $\\dots$ \\\\\n",
       "\t2 & 6612 & 229535 & species & Penicillium nordicum & $\\dots$ \\\\\n",
       "\t3 & 6617 & 470 & species & Acinetobacter baumannii & $\\dots$ \\\\\n",
       "\t4 & 6620 & 9597 & species & Pan paniscus & $\\dots$ \\\\\n",
       "\t5 & 6621 & 469 & genus & Acinetobacter & $\\dots$ \\\\\n",
       "\t6 & 6622 & 286661 & species & Peltaster fructicola & $\\dots$ \\\\\n",
       "\t7 & 6623 & 207598 & subfamily & Homininae & $\\dots$ \\\\\n",
       "\t8 & 6625 & 5139 & order & Sordariales & $\\dots$ \\\\\n",
       "\t9 & 6626 & 1 & no rank & root & $\\dots$ \\\\\n",
       "\t10 & 6628 & 222544 & subclass & Sordariomycetidae & $\\dots$ \\\\\n",
       "\t11 & 2542 & 117571 & clade & Euteleostomi & $\\dots$ \\\\\n",
       "\t12 & 2545 & 2 & superkingdom & Bacteria & $\\dots$ \\\\\n",
       "\t13 & 2547 & 469 & genus & Acinetobacter & $\\dots$ \\\\\n",
       "\t14 & 2549 & 470 & species & Acinetobacter baumannii & $\\dots$ \\\\\n",
       "\t15 & 255 & 1380685 & species & Kroppenstedtia pulmonis & $\\dots$ \\\\\n",
       "\t16 & 2550 & 1428 & species & Bacillus thuringiensis & $\\dots$ \\\\\n",
       "\t17 & 2552 & 716546 & clade & leotiomyceta & $\\dots$ \\\\\n",
       "\t18 & 2553 & 909768 & species group & Acinetobacter calcoaceticus/baumannii complex & $\\dots$ \\\\\n",
       "\t19 & 2554 & 469 & genus & Acinetobacter & $\\dots$ \\\\\n",
       "\t20 & 2555 & 155619 & class & Agaricomycetes & $\\dots$ \\\\\n",
       "\t21 & 6239 & 469 & genus & Acinetobacter & $\\dots$ \\\\\n",
       "\t22 & 6240 & 167371 & species & Phellinidium pouzarii & $\\dots$ \\\\\n",
       "\t23 & 6242 & 147550 & class & Sordariomycetes & $\\dots$ \\\\\n",
       "\t24 & 6243 & 2070413 & species & Rutstroemia sp. NJR-2017a BVV2 & $\\dots$ \\\\\n",
       "\t25 & 6244 & 9526 & parvorder & Catarrhini & $\\dots$ \\\\\n",
       "\t26 & 6245 & 5073 & genus & Penicillium & $\\dots$ \\\\\n",
       "\t27 & 6246 & 9544 & species & Macaca mulatta & $\\dots$ \\\\\n",
       "\t28 & 6247 & 470 & species & Acinetobacter baumannii & $\\dots$ \\\\\n",
       "\t29 & 6249 & 9526 & parvorder & Catarrhini & $\\dots$ \\\\\n",
       "\t30 & 6250 & 1432307 & strain & Sclerotinia borealis F-4128 & $\\dots$ \\\\\n",
       "\t$\\dots$ & $\\dots$ & $\\dots$ & $\\dots$ & $\\dots$ &  \\\\\n",
       "\\end{tabular}\n"
      ],
      "text/plain": [
       "\u001b[1m27612605×10 DataFrame\u001b[0m\n",
       "\u001b[1m      Row \u001b[0m│\u001b[1m contig_id \u001b[0m\u001b[1m taxon_id \u001b[0m\u001b[1m taxon_rank   \u001b[0m\u001b[1m taxon_name              \u001b[0m\u001b[1m fragme\u001b[0m ⋯\n",
       "          │\u001b[90m Int64     \u001b[0m\u001b[90m Int64    \u001b[0m\u001b[90m String       \u001b[0m\u001b[90m String                  \u001b[0m\u001b[90m Int64 \u001b[0m ⋯\n",
       "──────────┼─────────────────────────────────────────────────────────────────────\n",
       "        1 │      6611    147550  class         Sordariomycetes                 ⋯\n",
       "        2 │      6612    229535  species       Penicillium nordicum\n",
       "        3 │      6617       470  species       Acinetobacter baumannii\n",
       "        4 │      6620      9597  species       Pan paniscus\n",
       "        5 │      6621       469  genus         Acinetobacter                   ⋯\n",
       "        6 │      6622    286661  species       Peltaster fructicola\n",
       "        7 │      6623    207598  subfamily     Homininae\n",
       "        8 │      6625      5139  order         Sordariales\n",
       "        9 │      6626         1  no rank       root                            ⋯\n",
       "       10 │      6628    222544  subclass      Sordariomycetidae\n",
       "       11 │      2542    117571  clade         Euteleostomi\n",
       "    ⋮     │     ⋮         ⋮           ⋮                   ⋮                    ⋱\n",
       " 27612596 │      7311    587735  species       Jeotgalibacillus terrae\n",
       " 27612597 │      7312      5073  genus         Penicillium                     ⋯\n",
       " 27612598 │      7313         1  no rank       root\n",
       " 27612599 │      7316     91061  class         Bacilli\n",
       " 27612600 │       732    314293  infraorder    Simiiformes\n",
       " 27612601 │      7320         2  superkingdom  Bacteria                        ⋯\n",
       " 27612602 │      7321      9528  subfamily     Cercopithecinae\n",
       " 27612603 │      7322    104408  species       Naganishia liquefaciens\n",
       " 27612604 │      7324    186817  family        Bacillaceae\n",
       " 27612605 │      7325    131567  no rank       cellular organisms              ⋯\n",
       "\u001b[36m                                             6 columns and 27612584 rows omitted\u001b[0m"
      ]
     },
     "execution_count": 6,
     "metadata": {},
     "output_type": "execute_result"
    }
   ],
   "source": [
    "joint_lca_table = DataFrames.DataFrame()\n",
    "ProgressMeter.@showprogress for lca_tsv in easy_taxonomy_lca_reports\n",
    "    method = replace(replace(basename(lca_tsv), \"final.contigs.fastg.gfa.fna.\" => \"\"), \"_lca.tsv\" => \"\")\n",
    "    # @show method\n",
    "    this_lca_table = Mycelia.parse_mmseqs_easy_taxonomy_lca_tsv(lca_tsv)\n",
    "    this_lca_table[!, \"sample\"] .= basename(dirname(dirname(lca_tsv)))\n",
    "    this_lca_table[!, \"method\"] .= method\n",
    "    append!(joint_lca_table, this_lca_table)\n",
    "end\n",
    "joint_lca_table"
   ]
  },
  {
   "cell_type": "code",
   "execution_count": 7,
   "id": "80208ad3-9cdf-4349-a01d-5a3eaa14eb96",
   "metadata": {},
   "outputs": [
    {
     "data": {
      "text/html": [
       "<div><div style = \"float: left;\"><span>451×10 DataFrame</span></div><div style = \"float: right;\"><span style = \"font-style: italic;\">426 rows omitted</span></div><div style = \"clear: both;\"></div></div><div class = \"data-frame\" style = \"overflow-x: scroll;\"><table class = \"data-frame\" style = \"margin-bottom: 6px;\"><thead><tr class = \"header\"><th class = \"rowNumber\" style = \"font-weight: bold; text-align: right;\">Row</th><th style = \"text-align: left;\">contig_id</th><th style = \"text-align: left;\">taxon_id</th><th style = \"text-align: left;\">taxon_rank</th><th style = \"text-align: left;\">taxon_name</th><th style = \"text-align: left;\">fragments_retained</th><th style = \"text-align: left;\">fragments_taxonomically_assigned</th><th style = \"text-align: left;\">fragments_in_agreement_with_assignment</th><th style = \"text-align: left;\">support -log(E-value)</th><th style = \"text-align: left;\">sample</th><th style = \"text-align: left;\">method</th></tr><tr class = \"subheader headerLastRow\"><th class = \"rowNumber\" style = \"font-weight: bold; text-align: right;\"></th><th title = \"Int64\" style = \"text-align: left;\">Int64</th><th title = \"Int64\" style = \"text-align: left;\">Int64</th><th title = \"String\" style = \"text-align: left;\">String</th><th title = \"String\" style = \"text-align: left;\">String</th><th title = \"Int64\" style = \"text-align: left;\">Int64</th><th title = \"Int64\" style = \"text-align: left;\">Int64</th><th title = \"Int64\" style = \"text-align: left;\">Int64</th><th title = \"Float64\" style = \"text-align: left;\">Float64</th><th title = \"String\" style = \"text-align: left;\">String</th><th title = \"String\" style = \"text-align: left;\">String</th></tr></thead><tbody><tr><td class = \"rowNumber\" style = \"font-weight: bold; text-align: right;\">1</td><td style = \"text-align: right;\">11702</td><td style = \"text-align: right;\">61673</td><td style = \"text-align: left;\">no rank</td><td style = \"text-align: left;\">Porcine endogenous retrovirus</td><td style = \"text-align: right;\">2</td><td style = \"text-align: right;\">2</td><td style = \"text-align: right;\">1</td><td style = \"text-align: right;\">0.95</td><td style = \"text-align: left;\">SRR6399469</td><td style = \"text-align: left;\">mmseqs_easy_taxonomy.UniRef100</td></tr><tr><td class = \"rowNumber\" style = \"font-weight: bold; text-align: right;\">2</td><td style = \"text-align: right;\">11702</td><td style = \"text-align: right;\">61673</td><td style = \"text-align: left;\">no rank</td><td style = \"text-align: left;\">Porcine endogenous retrovirus</td><td style = \"text-align: right;\">2</td><td style = \"text-align: right;\">2</td><td style = \"text-align: right;\">1</td><td style = \"text-align: right;\">0.95</td><td style = \"text-align: left;\">SRR6399469</td><td style = \"text-align: left;\">mmseqs_easy_taxonomy.UniRef90</td></tr><tr><td class = \"rowNumber\" style = \"font-weight: bold; text-align: right;\">3</td><td style = \"text-align: right;\">12729</td><td style = \"text-align: right;\">61673</td><td style = \"text-align: left;\">no rank</td><td style = \"text-align: left;\">Porcine endogenous retrovirus</td><td style = \"text-align: right;\">2</td><td style = \"text-align: right;\">2</td><td style = \"text-align: right;\">1</td><td style = \"text-align: right;\">0.55</td><td style = \"text-align: left;\">SRR6399478</td><td style = \"text-align: left;\">mmseqs_easy_taxonomy.UniRef100</td></tr><tr><td class = \"rowNumber\" style = \"font-weight: bold; text-align: right;\">4</td><td style = \"text-align: right;\">12729</td><td style = \"text-align: right;\">61673</td><td style = \"text-align: left;\">no rank</td><td style = \"text-align: left;\">Porcine endogenous retrovirus</td><td style = \"text-align: right;\">2</td><td style = \"text-align: right;\">2</td><td style = \"text-align: right;\">1</td><td style = \"text-align: right;\">0.55</td><td style = \"text-align: left;\">SRR6399478</td><td style = \"text-align: left;\">mmseqs_easy_taxonomy.UniRef90</td></tr><tr><td class = \"rowNumber\" style = \"font-weight: bold; text-align: right;\">5</td><td style = \"text-align: right;\">27515</td><td style = \"text-align: right;\">1862825</td><td style = \"text-align: left;\">no rank</td><td style = \"text-align: left;\">Gemycircularvirus HV-GcV2</td><td style = \"text-align: right;\">3</td><td style = \"text-align: right;\">3</td><td style = \"text-align: right;\">2</td><td style = \"text-align: right;\">0.6</td><td style = \"text-align: left;\">SRR6399485</td><td style = \"text-align: left;\">mmseqs_easy_taxonomy.UniRef100</td></tr><tr><td class = \"rowNumber\" style = \"font-weight: bold; text-align: right;\">6</td><td style = \"text-align: right;\">27368</td><td style = \"text-align: right;\">1862825</td><td style = \"text-align: left;\">no rank</td><td style = \"text-align: left;\">Gemycircularvirus HV-GcV2</td><td style = \"text-align: right;\">1</td><td style = \"text-align: right;\">1</td><td style = \"text-align: right;\">1</td><td style = \"text-align: right;\">1.0</td><td style = \"text-align: left;\">SRR6399485</td><td style = \"text-align: left;\">mmseqs_easy_taxonomy.UniRef100</td></tr><tr><td class = \"rowNumber\" style = \"font-weight: bold; text-align: right;\">7</td><td style = \"text-align: right;\">6298</td><td style = \"text-align: right;\">1862825</td><td style = \"text-align: left;\">no rank</td><td style = \"text-align: left;\">Gemycircularvirus HV-GcV2</td><td style = \"text-align: right;\">1</td><td style = \"text-align: right;\">1</td><td style = \"text-align: right;\">1</td><td style = \"text-align: right;\">1.0</td><td style = \"text-align: left;\">SRR6399485</td><td style = \"text-align: left;\">mmseqs_easy_taxonomy.UniRef100</td></tr><tr><td class = \"rowNumber\" style = \"font-weight: bold; text-align: right;\">8</td><td style = \"text-align: right;\">3075</td><td style = \"text-align: right;\">1862825</td><td style = \"text-align: left;\">no rank</td><td style = \"text-align: left;\">Gemycircularvirus HV-GcV2</td><td style = \"text-align: right;\">3</td><td style = \"text-align: right;\">3</td><td style = \"text-align: right;\">3</td><td style = \"text-align: right;\">1.0</td><td style = \"text-align: left;\">SRR6399485</td><td style = \"text-align: left;\">mmseqs_easy_taxonomy.UniRef100</td></tr><tr><td class = \"rowNumber\" style = \"font-weight: bold; text-align: right;\">9</td><td style = \"text-align: right;\">27683</td><td style = \"text-align: right;\">1862825</td><td style = \"text-align: left;\">no rank</td><td style = \"text-align: left;\">Gemycircularvirus HV-GcV2</td><td style = \"text-align: right;\">1</td><td style = \"text-align: right;\">1</td><td style = \"text-align: right;\">1</td><td style = \"text-align: right;\">1.0</td><td style = \"text-align: left;\">SRR6399485</td><td style = \"text-align: left;\">mmseqs_easy_taxonomy.UniRef100</td></tr><tr><td class = \"rowNumber\" style = \"font-weight: bold; text-align: right;\">10</td><td style = \"text-align: right;\">23241</td><td style = \"text-align: right;\">1862825</td><td style = \"text-align: left;\">no rank</td><td style = \"text-align: left;\">Gemycircularvirus HV-GcV2</td><td style = \"text-align: right;\">3</td><td style = \"text-align: right;\">2</td><td style = \"text-align: right;\">2</td><td style = \"text-align: right;\">1.0</td><td style = \"text-align: left;\">SRR6399485</td><td style = \"text-align: left;\">mmseqs_easy_taxonomy.UniRef100</td></tr><tr><td class = \"rowNumber\" style = \"font-weight: bold; text-align: right;\">11</td><td style = \"text-align: right;\">20661</td><td style = \"text-align: right;\">1862825</td><td style = \"text-align: left;\">no rank</td><td style = \"text-align: left;\">Gemycircularvirus HV-GcV2</td><td style = \"text-align: right;\">1</td><td style = \"text-align: right;\">1</td><td style = \"text-align: right;\">1</td><td style = \"text-align: right;\">1.0</td><td style = \"text-align: left;\">SRR6399485</td><td style = \"text-align: left;\">mmseqs_easy_taxonomy.UniRef100</td></tr><tr><td class = \"rowNumber\" style = \"font-weight: bold; text-align: right;\">12</td><td style = \"text-align: right;\">20667</td><td style = \"text-align: right;\">1862825</td><td style = \"text-align: left;\">no rank</td><td style = \"text-align: left;\">Gemycircularvirus HV-GcV2</td><td style = \"text-align: right;\">1</td><td style = \"text-align: right;\">1</td><td style = \"text-align: right;\">1</td><td style = \"text-align: right;\">1.0</td><td style = \"text-align: left;\">SRR6399485</td><td style = \"text-align: left;\">mmseqs_easy_taxonomy.UniRef100</td></tr><tr><td class = \"rowNumber\" style = \"font-weight: bold; text-align: right;\">13</td><td style = \"text-align: right;\">18366</td><td style = \"text-align: right;\">1862825</td><td style = \"text-align: left;\">no rank</td><td style = \"text-align: left;\">Gemycircularvirus HV-GcV2</td><td style = \"text-align: right;\">2</td><td style = \"text-align: right;\">2</td><td style = \"text-align: right;\">1</td><td style = \"text-align: right;\">0.64</td><td style = \"text-align: left;\">SRR6399485</td><td style = \"text-align: left;\">mmseqs_easy_taxonomy.UniRef100</td></tr><tr><td style = \"text-align: right;\">&vellip;</td><td style = \"text-align: right;\">&vellip;</td><td style = \"text-align: right;\">&vellip;</td><td style = \"text-align: right;\">&vellip;</td><td style = \"text-align: right;\">&vellip;</td><td style = \"text-align: right;\">&vellip;</td><td style = \"text-align: right;\">&vellip;</td><td style = \"text-align: right;\">&vellip;</td><td style = \"text-align: right;\">&vellip;</td><td style = \"text-align: right;\">&vellip;</td><td style = \"text-align: right;\">&vellip;</td></tr><tr><td class = \"rowNumber\" style = \"font-weight: bold; text-align: right;\">440</td><td style = \"text-align: right;\">86803</td><td style = \"text-align: right;\">61673</td><td style = \"text-align: left;\">no rank</td><td style = \"text-align: left;\">Porcine endogenous retrovirus</td><td style = \"text-align: right;\">7</td><td style = \"text-align: right;\">7</td><td style = \"text-align: right;\">1</td><td style = \"text-align: right;\">0.79</td><td style = \"text-align: left;\">SRR6399988</td><td style = \"text-align: left;\">mmseqs_easy_taxonomy.UniRef100</td></tr><tr><td class = \"rowNumber\" style = \"font-weight: bold; text-align: right;\">441</td><td style = \"text-align: right;\">86803</td><td style = \"text-align: right;\">61673</td><td style = \"text-align: left;\">no rank</td><td style = \"text-align: left;\">Porcine endogenous retrovirus</td><td style = \"text-align: right;\">7</td><td style = \"text-align: right;\">7</td><td style = \"text-align: right;\">1</td><td style = \"text-align: right;\">0.79</td><td style = \"text-align: left;\">SRR6399988</td><td style = \"text-align: left;\">mmseqs_easy_taxonomy.UniRef90</td></tr><tr><td class = \"rowNumber\" style = \"font-weight: bold; text-align: right;\">442</td><td style = \"text-align: right;\">71619</td><td style = \"text-align: right;\">11676</td><td style = \"text-align: left;\">species</td><td style = \"text-align: left;\">Human immunodeficiency virus 1</td><td style = \"text-align: right;\">1</td><td style = \"text-align: right;\">1</td><td style = \"text-align: right;\">1</td><td style = \"text-align: right;\">1.0</td><td style = \"text-align: left;\">SRR6399994</td><td style = \"text-align: left;\">mmseqs_easy_taxonomy.UniRef90</td></tr><tr><td class = \"rowNumber\" style = \"font-weight: bold; text-align: right;\">443</td><td style = \"text-align: right;\">5410</td><td style = \"text-align: right;\">28312</td><td style = \"text-align: left;\">serotype</td><td style = \"text-align: left;\">Human papillomavirus 65</td><td style = \"text-align: right;\">2</td><td style = \"text-align: right;\">1</td><td style = \"text-align: right;\">1</td><td style = \"text-align: right;\">1.0</td><td style = \"text-align: left;\">SRR6400001</td><td style = \"text-align: left;\">mmseqs_easy_taxonomy.UniRef100</td></tr><tr><td class = \"rowNumber\" style = \"font-weight: bold; text-align: right;\">444</td><td style = \"text-align: right;\">3947</td><td style = \"text-align: right;\">61673</td><td style = \"text-align: left;\">no rank</td><td style = \"text-align: left;\">Porcine endogenous retrovirus</td><td style = \"text-align: right;\">3</td><td style = \"text-align: right;\">3</td><td style = \"text-align: right;\">1</td><td style = \"text-align: right;\">0.53</td><td style = \"text-align: left;\">SRR6400001</td><td style = \"text-align: left;\">mmseqs_easy_taxonomy.UniRef100</td></tr><tr><td class = \"rowNumber\" style = \"font-weight: bold; text-align: right;\">445</td><td style = \"text-align: right;\">3947</td><td style = \"text-align: right;\">61673</td><td style = \"text-align: left;\">no rank</td><td style = \"text-align: left;\">Porcine endogenous retrovirus</td><td style = \"text-align: right;\">3</td><td style = \"text-align: right;\">3</td><td style = \"text-align: right;\">1</td><td style = \"text-align: right;\">0.53</td><td style = \"text-align: left;\">SRR6400001</td><td style = \"text-align: left;\">mmseqs_easy_taxonomy.UniRef90</td></tr><tr><td class = \"rowNumber\" style = \"font-weight: bold; text-align: right;\">446</td><td style = \"text-align: right;\">11006</td><td style = \"text-align: right;\">1862825</td><td style = \"text-align: left;\">no rank</td><td style = \"text-align: left;\">Gemycircularvirus HV-GcV2</td><td style = \"text-align: right;\">5</td><td style = \"text-align: right;\">5</td><td style = \"text-align: right;\">4</td><td style = \"text-align: right;\">0.75</td><td style = \"text-align: left;\">SRR7365476</td><td style = \"text-align: left;\">mmseqs_easy_taxonomy.UniRef100</td></tr><tr><td class = \"rowNumber\" style = \"font-weight: bold; text-align: right;\">447</td><td style = \"text-align: right;\">11006</td><td style = \"text-align: right;\">1862825</td><td style = \"text-align: left;\">no rank</td><td style = \"text-align: left;\">Gemycircularvirus HV-GcV2</td><td style = \"text-align: right;\">5</td><td style = \"text-align: right;\">5</td><td style = \"text-align: right;\">4</td><td style = \"text-align: right;\">0.75</td><td style = \"text-align: left;\">SRR7365476</td><td style = \"text-align: left;\">mmseqs_easy_taxonomy.UniRef90</td></tr><tr><td class = \"rowNumber\" style = \"font-weight: bold; text-align: right;\">448</td><td style = \"text-align: right;\">1038</td><td style = \"text-align: right;\">493803</td><td style = \"text-align: left;\">no rank</td><td style = \"text-align: left;\">Merkel cell polyomavirus</td><td style = \"text-align: right;\">6</td><td style = \"text-align: right;\">5</td><td style = \"text-align: right;\">4</td><td style = \"text-align: right;\">0.99</td><td style = \"text-align: left;\">SRR7365482</td><td style = \"text-align: left;\">mmseqs_easy_taxonomy.UniRef100</td></tr><tr><td class = \"rowNumber\" style = \"font-weight: bold; text-align: right;\">449</td><td style = \"text-align: right;\">1038</td><td style = \"text-align: right;\">1891726</td><td style = \"text-align: left;\">species</td><td style = \"text-align: left;\">Alphapolyomavirus quintihominis</td><td style = \"text-align: right;\">6</td><td style = \"text-align: right;\">6</td><td style = \"text-align: right;\">5</td><td style = \"text-align: right;\">0.99</td><td style = \"text-align: left;\">SRR7365482</td><td style = \"text-align: left;\">mmseqs_easy_taxonomy.UniRef90</td></tr><tr><td class = \"rowNumber\" style = \"font-weight: bold; text-align: right;\">450</td><td style = \"text-align: right;\">67452</td><td style = \"text-align: right;\">61673</td><td style = \"text-align: left;\">no rank</td><td style = \"text-align: left;\">Porcine endogenous retrovirus</td><td style = \"text-align: right;\">8</td><td style = \"text-align: right;\">8</td><td style = \"text-align: right;\">1</td><td style = \"text-align: right;\">0.71</td><td style = \"text-align: left;\">SRR7365484</td><td style = \"text-align: left;\">mmseqs_easy_taxonomy.UniRef100</td></tr><tr><td class = \"rowNumber\" style = \"font-weight: bold; text-align: right;\">451</td><td style = \"text-align: right;\">67452</td><td style = \"text-align: right;\">61673</td><td style = \"text-align: left;\">no rank</td><td style = \"text-align: left;\">Porcine endogenous retrovirus</td><td style = \"text-align: right;\">8</td><td style = \"text-align: right;\">8</td><td style = \"text-align: right;\">1</td><td style = \"text-align: right;\">0.71</td><td style = \"text-align: left;\">SRR7365484</td><td style = \"text-align: left;\">mmseqs_easy_taxonomy.UniRef90</td></tr></tbody></table></div>"
      ],
      "text/latex": [
       "\\begin{tabular}{r|cccccc}\n",
       "\t& contig\\_id & taxon\\_id & taxon\\_rank & taxon\\_name & fragments\\_retained & \\\\\n",
       "\t\\hline\n",
       "\t& Int64 & Int64 & String & String & Int64 & \\\\\n",
       "\t\\hline\n",
       "\t1 & 11702 & 61673 & no rank & Porcine endogenous retrovirus & 2 & $\\dots$ \\\\\n",
       "\t2 & 11702 & 61673 & no rank & Porcine endogenous retrovirus & 2 & $\\dots$ \\\\\n",
       "\t3 & 12729 & 61673 & no rank & Porcine endogenous retrovirus & 2 & $\\dots$ \\\\\n",
       "\t4 & 12729 & 61673 & no rank & Porcine endogenous retrovirus & 2 & $\\dots$ \\\\\n",
       "\t5 & 27515 & 1862825 & no rank & Gemycircularvirus HV-GcV2 & 3 & $\\dots$ \\\\\n",
       "\t6 & 27368 & 1862825 & no rank & Gemycircularvirus HV-GcV2 & 1 & $\\dots$ \\\\\n",
       "\t7 & 6298 & 1862825 & no rank & Gemycircularvirus HV-GcV2 & 1 & $\\dots$ \\\\\n",
       "\t8 & 3075 & 1862825 & no rank & Gemycircularvirus HV-GcV2 & 3 & $\\dots$ \\\\\n",
       "\t9 & 27683 & 1862825 & no rank & Gemycircularvirus HV-GcV2 & 1 & $\\dots$ \\\\\n",
       "\t10 & 23241 & 1862825 & no rank & Gemycircularvirus HV-GcV2 & 3 & $\\dots$ \\\\\n",
       "\t11 & 20661 & 1862825 & no rank & Gemycircularvirus HV-GcV2 & 1 & $\\dots$ \\\\\n",
       "\t12 & 20667 & 1862825 & no rank & Gemycircularvirus HV-GcV2 & 1 & $\\dots$ \\\\\n",
       "\t13 & 18366 & 1862825 & no rank & Gemycircularvirus HV-GcV2 & 2 & $\\dots$ \\\\\n",
       "\t14 & 5368 & 1862825 & no rank & Gemycircularvirus HV-GcV2 & 5 & $\\dots$ \\\\\n",
       "\t15 & 4729 & 1862825 & no rank & Gemycircularvirus HV-GcV2 & 1 & $\\dots$ \\\\\n",
       "\t16 & 21913 & 1862825 & no rank & Gemycircularvirus HV-GcV2 & 2 & $\\dots$ \\\\\n",
       "\t17 & 9871 & 1862825 & no rank & Gemycircularvirus HV-GcV2 & 1 & $\\dots$ \\\\\n",
       "\t18 & 18325 & 1862825 & no rank & Gemycircularvirus HV-GcV2 & 2 & $\\dots$ \\\\\n",
       "\t19 & 13411 & 1862825 & no rank & Gemycircularvirus HV-GcV2 & 1 & $\\dots$ \\\\\n",
       "\t20 & 19455 & 1862825 & no rank & Gemycircularvirus HV-GcV2 & 4 & $\\dots$ \\\\\n",
       "\t21 & 2795 & 1862825 & no rank & Gemycircularvirus HV-GcV2 & 2 & $\\dots$ \\\\\n",
       "\t22 & 27534 & 1862825 & no rank & Gemycircularvirus HV-GcV2 & 3 & $\\dots$ \\\\\n",
       "\t23 & 13483 & 1862825 & no rank & Gemycircularvirus HV-GcV2 & 2 & $\\dots$ \\\\\n",
       "\t24 & 19271 & 1862825 & no rank & Gemycircularvirus HV-GcV2 & 1 & $\\dots$ \\\\\n",
       "\t25 & 24850 & 1862825 & no rank & Gemycircularvirus HV-GcV2 & 1 & $\\dots$ \\\\\n",
       "\t26 & 18333 & 1862825 & no rank & Gemycircularvirus HV-GcV2 & 1 & $\\dots$ \\\\\n",
       "\t27 & 5412 & 1862825 & no rank & Gemycircularvirus HV-GcV2 & 2 & $\\dots$ \\\\\n",
       "\t28 & 11696 & 1862825 & no rank & Gemycircularvirus HV-GcV2 & 2 & $\\dots$ \\\\\n",
       "\t29 & 15122 & 1862825 & no rank & Gemycircularvirus HV-GcV2 & 3 & $\\dots$ \\\\\n",
       "\t30 & 17828 & 1862825 & no rank & Gemycircularvirus HV-GcV2 & 1 & $\\dots$ \\\\\n",
       "\t$\\dots$ & $\\dots$ & $\\dots$ & $\\dots$ & $\\dots$ & $\\dots$ &  \\\\\n",
       "\\end{tabular}\n"
      ],
      "text/plain": [
       "\u001b[1m451×10 DataFrame\u001b[0m\n",
       "\u001b[1m Row \u001b[0m│\u001b[1m contig_id \u001b[0m\u001b[1m taxon_id \u001b[0m\u001b[1m taxon_rank \u001b[0m\u001b[1m taxon_name                      \u001b[0m\u001b[1m fragm\u001b[0m ⋯\n",
       "     │\u001b[90m Int64     \u001b[0m\u001b[90m Int64    \u001b[0m\u001b[90m String     \u001b[0m\u001b[90m String                          \u001b[0m\u001b[90m Int64\u001b[0m ⋯\n",
       "─────┼──────────────────────────────────────────────────────────────────────────\n",
       "   1 │     11702     61673  no rank     Porcine endogenous retrovirus          ⋯\n",
       "   2 │     11702     61673  no rank     Porcine endogenous retrovirus\n",
       "   3 │     12729     61673  no rank     Porcine endogenous retrovirus\n",
       "   4 │     12729     61673  no rank     Porcine endogenous retrovirus\n",
       "   5 │     27515   1862825  no rank     Gemycircularvirus HV-GcV2              ⋯\n",
       "   6 │     27368   1862825  no rank     Gemycircularvirus HV-GcV2\n",
       "   7 │      6298   1862825  no rank     Gemycircularvirus HV-GcV2\n",
       "   8 │      3075   1862825  no rank     Gemycircularvirus HV-GcV2\n",
       "   9 │     27683   1862825  no rank     Gemycircularvirus HV-GcV2              ⋯\n",
       "  10 │     23241   1862825  no rank     Gemycircularvirus HV-GcV2\n",
       "  11 │     20661   1862825  no rank     Gemycircularvirus HV-GcV2\n",
       "  ⋮  │     ⋮         ⋮          ⋮                      ⋮                       ⋱\n",
       " 442 │     71619     11676  species     Human immunodeficiency virus 1\n",
       " 443 │      5410     28312  serotype    Human papillomavirus 65                ⋯\n",
       " 444 │      3947     61673  no rank     Porcine endogenous retrovirus\n",
       " 445 │      3947     61673  no rank     Porcine endogenous retrovirus\n",
       " 446 │     11006   1862825  no rank     Gemycircularvirus HV-GcV2\n",
       " 447 │     11006   1862825  no rank     Gemycircularvirus HV-GcV2              ⋯\n",
       " 448 │      1038    493803  no rank     Merkel cell polyomavirus\n",
       " 449 │      1038   1891726  species     Alphapolyomavirus quintihominis\n",
       " 450 │     67452     61673  no rank     Porcine endogenous retrovirus\n",
       " 451 │     67452     61673  no rank     Porcine endogenous retrovirus          ⋯\n",
       "\u001b[36m                                                  6 columns and 430 rows omitted\u001b[0m"
      ]
     },
     "execution_count": 7,
     "metadata": {},
     "output_type": "execute_result"
    }
   ],
   "source": [
    "filtered_lca_table = joint_lca_table[map(x -> x in human_taxids, joint_lca_table[!, \"taxon_id\"]), :]"
   ]
  },
  {
   "cell_type": "code",
   "execution_count": 8,
   "id": "374656af-4060-4f2b-a3bd-bb5fc88a0bfd",
   "metadata": {},
   "outputs": [
    {
     "data": {
      "text/html": [
       "<div><div style = \"float: left;\"><span>14×2 DataFrame</span></div><div style = \"clear: both;\"></div></div><div class = \"data-frame\" style = \"overflow-x: scroll;\"><table class = \"data-frame\" style = \"margin-bottom: 6px;\"><thead><tr class = \"header\"><th class = \"rowNumber\" style = \"font-weight: bold; text-align: right;\">Row</th><th style = \"text-align: left;\">taxon_name</th><th style = \"text-align: left;\">counts</th></tr><tr class = \"subheader headerLastRow\"><th class = \"rowNumber\" style = \"font-weight: bold; text-align: right;\"></th><th title = \"String\" style = \"text-align: left;\">String</th><th title = \"Int64\" style = \"text-align: left;\">Int64</th></tr></thead><tbody><tr><td class = \"rowNumber\" style = \"font-weight: bold; text-align: right;\">1</td><td style = \"text-align: left;\">Gemycircularvirus HV-GcV2</td><td style = \"text-align: right;\">282</td></tr><tr><td class = \"rowNumber\" style = \"font-weight: bold; text-align: right;\">2</td><td style = \"text-align: left;\">Porcine endogenous retrovirus</td><td style = \"text-align: right;\">123</td></tr><tr><td class = \"rowNumber\" style = \"font-weight: bold; text-align: right;\">3</td><td style = \"text-align: left;\">Human endogenous retrovirus K</td><td style = \"text-align: right;\">12</td></tr><tr><td class = \"rowNumber\" style = \"font-weight: bold; text-align: right;\">4</td><td style = \"text-align: left;\">Human immunodeficiency virus 1</td><td style = \"text-align: right;\">7</td></tr><tr><td class = \"rowNumber\" style = \"font-weight: bold; text-align: right;\">5</td><td style = \"text-align: left;\">Human papillomavirus type 128</td><td style = \"text-align: right;\">6</td></tr><tr><td class = \"rowNumber\" style = \"font-weight: bold; text-align: right;\">6</td><td style = \"text-align: left;\">Human papillomavirus</td><td style = \"text-align: right;\">5</td></tr><tr><td class = \"rowNumber\" style = \"font-weight: bold; text-align: right;\">7</td><td style = \"text-align: left;\">Human papillomavirus 65</td><td style = \"text-align: right;\">4</td></tr><tr><td class = \"rowNumber\" style = \"font-weight: bold; text-align: right;\">8</td><td style = \"text-align: left;\">Human papillomavirus 23</td><td style = \"text-align: right;\">4</td></tr><tr><td class = \"rowNumber\" style = \"font-weight: bold; text-align: right;\">9</td><td style = \"text-align: left;\">Merkel cell polyomavirus</td><td style = \"text-align: right;\">3</td></tr><tr><td class = \"rowNumber\" style = \"font-weight: bold; text-align: right;\">10</td><td style = \"text-align: left;\">Human papillomavirus KC5</td><td style = \"text-align: right;\">1</td></tr><tr><td class = \"rowNumber\" style = \"font-weight: bold; text-align: right;\">11</td><td style = \"text-align: left;\">Human papillomavirus 120</td><td style = \"text-align: right;\">1</td></tr><tr><td class = \"rowNumber\" style = \"font-weight: bold; text-align: right;\">12</td><td style = \"text-align: left;\">Rhinovirus C</td><td style = \"text-align: right;\">1</td></tr><tr><td class = \"rowNumber\" style = \"font-weight: bold; text-align: right;\">13</td><td style = \"text-align: left;\">Hepacivirus hominis</td><td style = \"text-align: right;\">1</td></tr><tr><td class = \"rowNumber\" style = \"font-weight: bold; text-align: right;\">14</td><td style = \"text-align: left;\">Alphapolyomavirus quintihominis</td><td style = \"text-align: right;\">1</td></tr></tbody></table></div>"
      ],
      "text/latex": [
       "\\begin{tabular}{r|cc}\n",
       "\t& taxon\\_name & counts\\\\\n",
       "\t\\hline\n",
       "\t& String & Int64\\\\\n",
       "\t\\hline\n",
       "\t1 & Gemycircularvirus HV-GcV2 & 282 \\\\\n",
       "\t2 & Porcine endogenous retrovirus & 123 \\\\\n",
       "\t3 & Human endogenous retrovirus K & 12 \\\\\n",
       "\t4 & Human immunodeficiency virus 1 & 7 \\\\\n",
       "\t5 & Human papillomavirus type 128 & 6 \\\\\n",
       "\t6 & Human papillomavirus & 5 \\\\\n",
       "\t7 & Human papillomavirus 65 & 4 \\\\\n",
       "\t8 & Human papillomavirus 23 & 4 \\\\\n",
       "\t9 & Merkel cell polyomavirus & 3 \\\\\n",
       "\t10 & Human papillomavirus KC5 & 1 \\\\\n",
       "\t11 & Human papillomavirus 120 & 1 \\\\\n",
       "\t12 & Rhinovirus C & 1 \\\\\n",
       "\t13 & Hepacivirus hominis & 1 \\\\\n",
       "\t14 & Alphapolyomavirus quintihominis & 1 \\\\\n",
       "\\end{tabular}\n"
      ],
      "text/plain": [
       "\u001b[1m14×2 DataFrame\u001b[0m\n",
       "\u001b[1m Row \u001b[0m│\u001b[1m taxon_name                      \u001b[0m\u001b[1m counts \u001b[0m\n",
       "     │\u001b[90m String                          \u001b[0m\u001b[90m Int64  \u001b[0m\n",
       "─────┼─────────────────────────────────────────\n",
       "   1 │ Gemycircularvirus HV-GcV2           282\n",
       "   2 │ Porcine endogenous retrovirus       123\n",
       "   3 │ Human endogenous retrovirus K        12\n",
       "   4 │ Human immunodeficiency virus 1        7\n",
       "   5 │ Human papillomavirus type 128         6\n",
       "   6 │ Human papillomavirus                  5\n",
       "   7 │ Human papillomavirus 65               4\n",
       "   8 │ Human papillomavirus 23               4\n",
       "   9 │ Merkel cell polyomavirus              3\n",
       "  10 │ Human papillomavirus KC5              1\n",
       "  11 │ Human papillomavirus 120              1\n",
       "  12 │ Rhinovirus C                          1\n",
       "  13 │ Hepacivirus hominis                   1\n",
       "  14 │ Alphapolyomavirus quintihominis       1"
      ]
     },
     "execution_count": 8,
     "metadata": {},
     "output_type": "execute_result"
    }
   ],
   "source": [
    "taxon_counts = collect(StatsBase.countmap(filtered_lca_table[!, \"taxon_name\"]))\n",
    "taxon_counts = DataFrames.DataFrame(taxon_name = first.(taxon_counts), counts = last.(taxon_counts))\n",
    "sort!(taxon_counts, \"counts\", rev=true)"
   ]
  },
  {
   "cell_type": "code",
   "execution_count": 11,
   "id": "3c51fdf7-26e6-42b4-9147-80f725ace9fa",
   "metadata": {},
   "outputs": [
    {
     "data": {
      "text/html": [
       "<div><div style = \"float: left;\"><span>7×10 DataFrame</span></div><div style = \"clear: both;\"></div></div><div class = \"data-frame\" style = \"overflow-x: scroll;\"><table class = \"data-frame\" style = \"margin-bottom: 6px;\"><thead><tr class = \"header\"><th class = \"rowNumber\" style = \"font-weight: bold; text-align: right;\">Row</th><th style = \"text-align: left;\">contig_id</th><th style = \"text-align: left;\">taxon_id</th><th style = \"text-align: left;\">taxon_rank</th><th style = \"text-align: left;\">taxon_name</th><th style = \"text-align: left;\">fragments_retained</th><th style = \"text-align: left;\">fragments_taxonomically_assigned</th><th style = \"text-align: left;\">fragments_in_agreement_with_assignment</th><th style = \"text-align: left;\">support -log(E-value)</th><th style = \"text-align: left;\">sample</th><th style = \"text-align: left;\">method</th></tr><tr class = \"subheader headerLastRow\"><th class = \"rowNumber\" style = \"font-weight: bold; text-align: right;\"></th><th title = \"Int64\" style = \"text-align: left;\">Int64</th><th title = \"Int64\" style = \"text-align: left;\">Int64</th><th title = \"String\" style = \"text-align: left;\">String</th><th title = \"String\" style = \"text-align: left;\">String</th><th title = \"Int64\" style = \"text-align: left;\">Int64</th><th title = \"Int64\" style = \"text-align: left;\">Int64</th><th title = \"Int64\" style = \"text-align: left;\">Int64</th><th title = \"Float64\" style = \"text-align: left;\">Float64</th><th title = \"String\" style = \"text-align: left;\">String</th><th title = \"String\" style = \"text-align: left;\">String</th></tr></thead><tbody><tr><td class = \"rowNumber\" style = \"font-weight: bold; text-align: right;\">1</td><td style = \"text-align: right;\">106241</td><td style = \"text-align: right;\">11676</td><td style = \"text-align: left;\">species</td><td style = \"text-align: left;\">Human immunodeficiency virus 1</td><td style = \"text-align: right;\">1</td><td style = \"text-align: right;\">1</td><td style = \"text-align: right;\">1</td><td style = \"text-align: right;\">1.0</td><td style = \"text-align: left;\">SRR6399695</td><td style = \"text-align: left;\">mmseqs_easy_taxonomy.UniRef100</td></tr><tr><td class = \"rowNumber\" style = \"font-weight: bold; text-align: right;\">2</td><td style = \"text-align: right;\">129207</td><td style = \"text-align: right;\">11676</td><td style = \"text-align: left;\">species</td><td style = \"text-align: left;\">Human immunodeficiency virus 1</td><td style = \"text-align: right;\">2</td><td style = \"text-align: right;\">1</td><td style = \"text-align: right;\">1</td><td style = \"text-align: right;\">1.0</td><td style = \"text-align: left;\">SRR6399727</td><td style = \"text-align: left;\">mmseqs_easy_taxonomy.UniRef100</td></tr><tr><td class = \"rowNumber\" style = \"font-weight: bold; text-align: right;\">3</td><td style = \"text-align: right;\">107543</td><td style = \"text-align: right;\">11676</td><td style = \"text-align: left;\">species</td><td style = \"text-align: left;\">Human immunodeficiency virus 1</td><td style = \"text-align: right;\">1</td><td style = \"text-align: right;\">1</td><td style = \"text-align: right;\">1</td><td style = \"text-align: right;\">1.0</td><td style = \"text-align: left;\">SRR6399772</td><td style = \"text-align: left;\">mmseqs_easy_taxonomy.UniRef100</td></tr><tr><td class = \"rowNumber\" style = \"font-weight: bold; text-align: right;\">4</td><td style = \"text-align: right;\">107543</td><td style = \"text-align: right;\">11676</td><td style = \"text-align: left;\">species</td><td style = \"text-align: left;\">Human immunodeficiency virus 1</td><td style = \"text-align: right;\">1</td><td style = \"text-align: right;\">1</td><td style = \"text-align: right;\">1</td><td style = \"text-align: right;\">1.0</td><td style = \"text-align: left;\">SRR6399772</td><td style = \"text-align: left;\">mmseqs_easy_taxonomy.UniRef50</td></tr><tr><td class = \"rowNumber\" style = \"font-weight: bold; text-align: right;\">5</td><td style = \"text-align: right;\">107543</td><td style = \"text-align: right;\">11676</td><td style = \"text-align: left;\">species</td><td style = \"text-align: left;\">Human immunodeficiency virus 1</td><td style = \"text-align: right;\">1</td><td style = \"text-align: right;\">1</td><td style = \"text-align: right;\">1</td><td style = \"text-align: right;\">1.0</td><td style = \"text-align: left;\">SRR6399772</td><td style = \"text-align: left;\">mmseqs_easy_taxonomy.UniRef90</td></tr><tr><td class = \"rowNumber\" style = \"font-weight: bold; text-align: right;\">6</td><td style = \"text-align: right;\">28979</td><td style = \"text-align: right;\">11676</td><td style = \"text-align: left;\">species</td><td style = \"text-align: left;\">Human immunodeficiency virus 1</td><td style = \"text-align: right;\">2</td><td style = \"text-align: right;\">1</td><td style = \"text-align: right;\">1</td><td style = \"text-align: right;\">1.0</td><td style = \"text-align: left;\">SRR6399977</td><td style = \"text-align: left;\">mmseqs_easy_taxonomy.UniRef100</td></tr><tr><td class = \"rowNumber\" style = \"font-weight: bold; text-align: right;\">7</td><td style = \"text-align: right;\">71619</td><td style = \"text-align: right;\">11676</td><td style = \"text-align: left;\">species</td><td style = \"text-align: left;\">Human immunodeficiency virus 1</td><td style = \"text-align: right;\">1</td><td style = \"text-align: right;\">1</td><td style = \"text-align: right;\">1</td><td style = \"text-align: right;\">1.0</td><td style = \"text-align: left;\">SRR6399994</td><td style = \"text-align: left;\">mmseqs_easy_taxonomy.UniRef90</td></tr></tbody></table></div>"
      ],
      "text/latex": [
       "\\begin{tabular}{r|cccccc}\n",
       "\t& contig\\_id & taxon\\_id & taxon\\_rank & taxon\\_name & fragments\\_retained & \\\\\n",
       "\t\\hline\n",
       "\t& Int64 & Int64 & String & String & Int64 & \\\\\n",
       "\t\\hline\n",
       "\t1 & 106241 & 11676 & species & Human immunodeficiency virus 1 & 1 & $\\dots$ \\\\\n",
       "\t2 & 129207 & 11676 & species & Human immunodeficiency virus 1 & 2 & $\\dots$ \\\\\n",
       "\t3 & 107543 & 11676 & species & Human immunodeficiency virus 1 & 1 & $\\dots$ \\\\\n",
       "\t4 & 107543 & 11676 & species & Human immunodeficiency virus 1 & 1 & $\\dots$ \\\\\n",
       "\t5 & 107543 & 11676 & species & Human immunodeficiency virus 1 & 1 & $\\dots$ \\\\\n",
       "\t6 & 28979 & 11676 & species & Human immunodeficiency virus 1 & 2 & $\\dots$ \\\\\n",
       "\t7 & 71619 & 11676 & species & Human immunodeficiency virus 1 & 1 & $\\dots$ \\\\\n",
       "\\end{tabular}\n"
      ],
      "text/plain": [
       "\u001b[1m7×10 DataFrame\u001b[0m\n",
       "\u001b[1m Row \u001b[0m│\u001b[1m contig_id \u001b[0m\u001b[1m taxon_id \u001b[0m\u001b[1m taxon_rank \u001b[0m\u001b[1m taxon_name                     \u001b[0m\u001b[1m fragme\u001b[0m ⋯\n",
       "     │\u001b[90m Int64     \u001b[0m\u001b[90m Int64    \u001b[0m\u001b[90m String     \u001b[0m\u001b[90m String                         \u001b[0m\u001b[90m Int64 \u001b[0m ⋯\n",
       "─────┼──────────────────────────────────────────────────────────────────────────\n",
       "   1 │    106241     11676  species     Human immunodeficiency virus 1         ⋯\n",
       "   2 │    129207     11676  species     Human immunodeficiency virus 1\n",
       "   3 │    107543     11676  species     Human immunodeficiency virus 1\n",
       "   4 │    107543     11676  species     Human immunodeficiency virus 1\n",
       "   5 │    107543     11676  species     Human immunodeficiency virus 1         ⋯\n",
       "   6 │     28979     11676  species     Human immunodeficiency virus 1\n",
       "   7 │     71619     11676  species     Human immunodeficiency virus 1\n",
       "\u001b[36m                                                               6 columns omitted\u001b[0m"
      ]
     },
     "execution_count": 11,
     "metadata": {},
     "output_type": "execute_result"
    }
   ],
   "source": [
    "filtered_lca_table[map(x -> x == \"Human immunodeficiency virus 1\", filtered_lca_table[!, \"taxon_name\"]), :]"
   ]
  },
  {
   "cell_type": "code",
   "execution_count": 9,
   "id": "178a97f1-a810-43fe-bc06-e79665508bca",
   "metadata": {},
   "outputs": [
    {
     "data": {
      "text/plain": [
       "14-element Vector{Int64}:\n",
       "   61673\n",
       " 1862825\n",
       "   45617\n",
       " 1647924\n",
       "   10566\n",
       "  931209\n",
       "  493803\n",
       "   11676\n",
       "   28312\n",
       "   37955\n",
       "  765052\n",
       "  463676\n",
       " 3052230\n",
       " 1891726"
      ]
     },
     "execution_count": 9,
     "metadata": {},
     "output_type": "execute_result"
    }
   ],
   "source": [
    "mmseqs_taxid_hits = unique(filtered_lca_table[!, \"taxon_id\"])"
   ]
  },
  {
   "cell_type": "code",
   "execution_count": null,
   "id": "932718c1-3208-44b0-8b1b-8b2fec12b386",
   "metadata": {
    "tags": []
   },
   "outputs": [],
   "source": [
    "# kraken_taxid_hits = [\n",
    "# 10566,\n",
    "# 1175849,\n",
    "# 2017081,\n",
    "# 2025360,\n",
    "# 2734294,\n",
    "# 277944,\n",
    "# 2955291,\n",
    "# 2955746,\n",
    "# 3050300,\n",
    "# 3052399,\n",
    "# 36427,\n",
    "# 59304,\n",
    "# 642022,\n",
    "# 93678,\n",
    "# 11137,\n",
    "# 11676,\n",
    "# 1239573,\n",
    "# 1978540,\n",
    "# 2304647,\n",
    "# 290028,\n",
    "# 3050298,\n",
    "# 694009,\n",
    "# 10243,\n",
    "# 10245,\n",
    "# 1513260,\n",
    "# 1513263,\n",
    "# 1961678,\n",
    "# 3052317,\n",
    "# 3052458,\n",
    "# 3052499,\n",
    "# 568715,\n",
    "# 129875,\n",
    "# 1678143,\n",
    "# 1780507,\n",
    "# 1891764,\n",
    "# 1961681,\n",
    "# 1987017,\n",
    "# 291484,\n",
    "# 1961680,\n",
    "# 3048383,\n",
    "# 1904876,\n",
    "# 3050294,\n",
    "# 1513256,\n",
    "# 2200830,\n",
    "# 393049,\n",
    "# 129951,\n",
    "# 130308,\n",
    "# 2055263,\n",
    "# 68887,\n",
    "# 204269,\n",
    "# 2049444,\n",
    "# 2825847,\n",
    "# 38170,\n",
    "# 10244,\n",
    "# 1962300,\n",
    "# 944645,\n",
    "# 1972576,\n",
    "# 3048384,\n",
    "# 45617,\n",
    "# 2170195,\n",
    "# 3050295,\n",
    "# 1513257,\n",
    "# 2025396,\n",
    "# 3047956,\n",
    "# 2844583,\n",
    "# 1513258,\n",
    "# 11983,\n",
    "# 3050297,\n",
    "# 3052413,\n",
    "# 3050299,\n",
    "# 10255,\n",
    "# 2844646,\n",
    "# 2021738,\n",
    "# 2170197,\n",
    "# 2956268,\n",
    "# 1518574,\n",
    "# 3050296,\n",
    "# 130310,\n",
    "# 1647924,\n",
    "# 99000,\n",
    "# 1511805,\n",
    "# 10258,\n",
    "# 3047957,\n",
    "# 1891726,\n",
    "# 38804,\n",
    "# 108098,\n",
    "# 1335626,\n",
    "# 1922246,\n",
    "# 2844585,\n",
    "# ];"
   ]
  },
  {
   "cell_type": "code",
   "execution_count": null,
   "id": "b4ff3e22-69cd-4dc1-9200-8acac7de24fd",
   "metadata": {},
   "outputs": [],
   "source": [
    "# for x in unique(filtered_lca_table[map(x -> x in intersect(kraken_taxid_hits, mmseqs_taxid_hits), filtered_lca_table[!, \"taxon_id\"]), \"taxon_name\"])\n",
    "#     println(x)\n",
    "# end"
   ]
  },
  {
   "cell_type": "code",
   "execution_count": null,
   "id": "0abb7a8a-032d-462d-aa6d-04807022e8e4",
   "metadata": {},
   "outputs": [],
   "source": [
    "# Human endogenous retrovirus K\n",
    "# Human papillomavirus KC5\n",
    "# Human papillomavirus\n",
    "# Human immunodeficiency virus 1\n",
    "# Alphapolyomavirus quintihominis"
   ]
  }
 ],
 "metadata": {
  "kernelspec": {
   "display_name": "Julia 1.9.3",
   "language": "julia",
   "name": "julia-1.9"
  },
  "language_info": {
   "file_extension": ".jl",
   "mimetype": "application/julia",
   "name": "julia",
   "version": "1.9.3"
  }
 },
 "nbformat": 4,
 "nbformat_minor": 5
}
