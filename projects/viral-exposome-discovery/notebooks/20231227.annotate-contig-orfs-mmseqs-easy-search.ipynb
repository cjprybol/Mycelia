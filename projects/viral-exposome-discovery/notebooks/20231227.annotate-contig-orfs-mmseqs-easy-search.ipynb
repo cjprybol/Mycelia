{
 "cells": [
  {
   "cell_type": "code",
   "execution_count": 1,
   "id": "ce59cd77-c0f0-4b90-8de8-3c5f071935ae",
   "metadata": {
    "tags": []
   },
   "outputs": [
    {
     "name": "stderr",
     "output_type": "stream",
     "text": [
      "\u001b[36m\u001b[1m[ \u001b[22m\u001b[39m\u001b[36m\u001b[1mInfo: \u001b[22m\u001b[39mPrecompiling Mycelia [453d265d-8292-4a7b-a57c-dce3f9ae6acd]\n",
      "\u001b[36m\u001b[1m[ \u001b[22m\u001b[39m\u001b[36m\u001b[1mInfo: \u001b[22m\u001b[39mSkipping precompilation since __precompile__(false). Importing Mycelia [453d265d-8292-4a7b-a57c-dce3f9ae6acd].\n"
     ]
    }
   ],
   "source": [
    "import Pkg\n",
    "pkgs = [\n",
    "\"DataFrames\",\n",
    "\"Dates\",\n",
    "\"uCSV\",\n",
    "\"Revise\",\n",
    "]\n",
    "for pkg in pkgs\n",
    "    eval(Meta.parse(\"import $pkg\"))\n",
    "end\n",
    "import Mycelia"
   ]
  },
  {
   "cell_type": "code",
   "execution_count": null,
   "id": "efc49516-b1b7-485f-a2ad-e64e0438eb50",
   "metadata": {},
   "outputs": [],
   "source": [
    "# mamba create -n mmseqs2 -c bioconda mmseqs2\n",
    "\n",
    "# conda run --no-capture-output -n mmseqs2 mmseqs "
   ]
  },
  {
   "cell_type": "code",
   "execution_count": null,
   "id": "812f165a-a024-4c5f-b59a-cb4e894feb70",
   "metadata": {},
   "outputs": [],
   "source": [
    "# MMSeqs Easy taxonomy\n",
    "# amino acid\n",
    "# ~ 5 hour download time may not be tolerable?\n",
    "# processing\n",
    "# 7930.350543 seconds (710.71 k allocations: 40.309 MiB, 0.00% gc time, 0.00% compilation time)\n",
    "# 2 hours 12m\n",
    "# 1.5 hours for iterative search with varying sensitivity\n",
    "# Mycelia.download_mmseqs_db(db=\"UniRef100\", conda_env=\"viral-pangenome-discovery\")\n",
    "# --force-reuse 1\n",
    "# --remove-tmp-files 1\n",
    "# conda run --live-stream -n viral-pangenome-discovery\n",
    "\n",
    "# download on NERSC is way too slow - going to skip for now but will consider retrying later\n",
    "# mkdir -p $HOME/workspace/mmseqs\n",
    "# conda run --no-capture-output -n mmseqs2 mmseqs databases --compressed 1 UniRef100 $HOME/workspace/mmseqs/UniRef100 $HOME/workspace/mmseqs/tmp\n",
    "# conda run --no-capture-output -n mmseqs2 mmseqs databases --compressed 1 UniRef90 $HOME/workspace/mmseqs/UniRef90 $HOME/workspace/mmseqs/tmp\n",
    "# conda run --no-capture-output -n mmseqs2 mmseqs databases --compressed 1 UniRef50 $HOME/workspace/mmseqs/UniRef50 $HOME/workspace/mmseqs/tmp"
   ]
  },
  {
   "cell_type": "code",
   "execution_count": 2,
   "id": "909f13b4-7e9d-429b-8b83-33c99af653c9",
   "metadata": {},
   "outputs": [
    {
     "data": {
      "text/plain": [
       "\"/oak/stanford/scg/lab_mpsnyder/cjprybol/Mycelia/projects/viral-exposome-discovery/data\""
      ]
     },
     "execution_count": 2,
     "metadata": {},
     "output_type": "execute_result"
    }
   ],
   "source": [
    "data_dir = joinpath(dirname(pwd()), \"data\")"
   ]
  },
  {
   "cell_type": "code",
   "execution_count": 3,
   "id": "1ed0cada-73ac-4c3c-8d8c-e50e1115e414",
   "metadata": {},
   "outputs": [
    {
     "data": {
      "text/plain": [
       "594-element Vector{String}:\n",
       " \"/oak/stanford/scg/lab_mpsnyder/\" ⋯ 39 bytes ⋯ \"e-discovery/data/SRA/SRR6399459\"\n",
       " \"/oak/stanford/scg/lab_mpsnyder/\" ⋯ 39 bytes ⋯ \"e-discovery/data/SRA/SRR6399460\"\n",
       " \"/oak/stanford/scg/lab_mpsnyder/\" ⋯ 39 bytes ⋯ \"e-discovery/data/SRA/SRR6399461\"\n",
       " \"/oak/stanford/scg/lab_mpsnyder/\" ⋯ 39 bytes ⋯ \"e-discovery/data/SRA/SRR6399462\"\n",
       " \"/oak/stanford/scg/lab_mpsnyder/\" ⋯ 39 bytes ⋯ \"e-discovery/data/SRA/SRR6399463\"\n",
       " \"/oak/stanford/scg/lab_mpsnyder/\" ⋯ 39 bytes ⋯ \"e-discovery/data/SRA/SRR6399464\"\n",
       " \"/oak/stanford/scg/lab_mpsnyder/\" ⋯ 39 bytes ⋯ \"e-discovery/data/SRA/SRR6399465\"\n",
       " \"/oak/stanford/scg/lab_mpsnyder/\" ⋯ 39 bytes ⋯ \"e-discovery/data/SRA/SRR6399466\"\n",
       " \"/oak/stanford/scg/lab_mpsnyder/\" ⋯ 39 bytes ⋯ \"e-discovery/data/SRA/SRR6399467\"\n",
       " \"/oak/stanford/scg/lab_mpsnyder/\" ⋯ 39 bytes ⋯ \"e-discovery/data/SRA/SRR6399468\"\n",
       " \"/oak/stanford/scg/lab_mpsnyder/\" ⋯ 39 bytes ⋯ \"e-discovery/data/SRA/SRR6399469\"\n",
       " \"/oak/stanford/scg/lab_mpsnyder/\" ⋯ 39 bytes ⋯ \"e-discovery/data/SRA/SRR6399470\"\n",
       " \"/oak/stanford/scg/lab_mpsnyder/\" ⋯ 39 bytes ⋯ \"e-discovery/data/SRA/SRR6399471\"\n",
       " ⋮\n",
       " \"/oak/stanford/scg/lab_mpsnyder/\" ⋯ 39 bytes ⋯ \"e-discovery/data/SRA/SRR7365474\"\n",
       " \"/oak/stanford/scg/lab_mpsnyder/\" ⋯ 39 bytes ⋯ \"e-discovery/data/SRA/SRR7365475\"\n",
       " \"/oak/stanford/scg/lab_mpsnyder/\" ⋯ 39 bytes ⋯ \"e-discovery/data/SRA/SRR7365476\"\n",
       " \"/oak/stanford/scg/lab_mpsnyder/\" ⋯ 39 bytes ⋯ \"e-discovery/data/SRA/SRR7365477\"\n",
       " \"/oak/stanford/scg/lab_mpsnyder/\" ⋯ 39 bytes ⋯ \"e-discovery/data/SRA/SRR7365478\"\n",
       " \"/oak/stanford/scg/lab_mpsnyder/\" ⋯ 39 bytes ⋯ \"e-discovery/data/SRA/SRR7365479\"\n",
       " \"/oak/stanford/scg/lab_mpsnyder/\" ⋯ 39 bytes ⋯ \"e-discovery/data/SRA/SRR7365480\"\n",
       " \"/oak/stanford/scg/lab_mpsnyder/\" ⋯ 39 bytes ⋯ \"e-discovery/data/SRA/SRR7365481\"\n",
       " \"/oak/stanford/scg/lab_mpsnyder/\" ⋯ 39 bytes ⋯ \"e-discovery/data/SRA/SRR7365482\"\n",
       " \"/oak/stanford/scg/lab_mpsnyder/\" ⋯ 39 bytes ⋯ \"e-discovery/data/SRA/SRR7365483\"\n",
       " \"/oak/stanford/scg/lab_mpsnyder/\" ⋯ 39 bytes ⋯ \"e-discovery/data/SRA/SRR7365484\"\n",
       " \"/oak/stanford/scg/lab_mpsnyder/\" ⋯ 39 bytes ⋯ \"e-discovery/data/SRA/SRR7365485\""
      ]
     },
     "execution_count": 3,
     "metadata": {},
     "output_type": "execute_result"
    }
   ],
   "source": [
    "SRR_paths = filter(x -> !occursin(\".ipynb_checkpoints\", x), readdir(joinpath(data_dir, \"SRA\"), join=true))\n",
    "SRR_paths = filter(x -> isfile(joinpath(x, \"megahit\", \"final.contigs.fastg.gfa.fna\")), SRR_paths)\n",
    "# filter out samples that have already been processed\n",
    "# SRR_paths = filter(x -> !isfile(joinpath(x, basename(x) * \".contig_info.tsv\")), SRR_paths)"
   ]
  },
  {
   "cell_type": "code",
   "execution_count": 7,
   "id": "c06fe840-6f84-4901-bd9a-394d3093af45",
   "metadata": {
    "tags": []
   },
   "outputs": [
    {
     "name": "stdout",
     "output_type": "stream",
     "text": [
      "Submitted batch job 42295280\n"
     ]
    }
   ],
   "source": [
    "target_database = \"$(homedir())/workspace/mmseqs/UniRef100\"\n",
    "for SRR_path in SRR_paths[1:1]\n",
    "    SRR = basename(SRR_path)\n",
    "    assembled_fasta = joinpath(SRR_path, \"megahit\", \"final.contigs.fastg.gfa.fna\")\n",
    "    out_dir = mkpath(joinpath(SRR_path, \"mmseqs_easy_search\"))\n",
    "    outfile_base = joinpath(out_dir, basename(assembled_fasta) * \".mmseqs_easy_search.\" * basename(target_database))\n",
    "    run(`sbatch $(homedir())/workspace/Mycelia/scripts/mmseqs-easy-search.sh $assembled_fasta $target_database $out_dir`)\n",
    "    # println(\"conda run --no-capture-output -n mmseqs2 mmseqs easy-taxonomy $(assembled_fasta) $(target_database) $(outfile_base) $(joinpath(out_dir, \"tmp\"))\")\n",
    "    # Mycelia.run_mmseqs_easy_search(out_dir=SRR_path, query_fasta=assembled_fasta, target_database=target_database, outfile=SRR)\n",
    "end"
   ]
  }
 ],
 "metadata": {
  "kernelspec": {
   "display_name": "Julia 1.9.3",
   "language": "julia",
   "name": "julia-1.9"
  },
  "language_info": {
   "file_extension": ".jl",
   "mimetype": "application/julia",
   "name": "julia",
   "version": "1.9.3"
  }
 },
 "nbformat": 4,
 "nbformat_minor": 5
}
