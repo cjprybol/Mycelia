{
 "cells": [
  {
   "cell_type": "code",
   "execution_count": null,
   "id": "ce59cd77-c0f0-4b90-8de8-3c5f071935ae",
   "metadata": {
    "tags": []
   },
   "outputs": [],
   "source": [
    "import Pkg\n",
    "pkgs = [\n",
    "\"DataFrames\",\n",
    "\"Dates\",\n",
    "\"uCSV\",\n",
    "\"Revise\",\n",
    "]\n",
    "for pkg in pkgs\n",
    "    eval(Meta.parse(\"import $pkg\"))\n",
    "end\n",
    "import Mycelia"
   ]
  },
  {
   "cell_type": "code",
   "execution_count": null,
   "id": "efc49516-b1b7-485f-a2ad-e64e0438eb50",
   "metadata": {},
   "outputs": [],
   "source": [
    "# mamba create -n mmseqs2 -c bioconda mmseqs2\n",
    "\n",
    "# conda run --no-capture-output -n mmseqs2 mmseqs "
   ]
  },
  {
   "cell_type": "code",
   "execution_count": null,
   "id": "812f165a-a024-4c5f-b59a-cb4e894feb70",
   "metadata": {},
   "outputs": [],
   "source": [
    "# MMSeqs Easy taxonomy\n",
    "# amino acid\n",
    "# ~ 5 hour download time may not be tolerable?\n",
    "# processing\n",
    "# 7930.350543 seconds (710.71 k allocations: 40.309 MiB, 0.00% gc time, 0.00% compilation time)\n",
    "# 2 hours 12m\n",
    "# 1.5 hours for iterative search with varying sensitivity\n",
    "# Mycelia.download_mmseqs_db(db=\"UniRef100\", conda_env=\"viral-pangenome-discovery\")\n",
    "# --force-reuse 1\n",
    "# --remove-tmp-files 1\n",
    "# conda run --live-stream -n viral-pangenome-discovery\n",
    "\n",
    "# download on NERSC is way too slow - going to skip for now but will consider retrying later\n",
    "# mkdir -p $HOME/workspace/mmseqs\n",
    "# conda run --no-capture-output -n mmseqs2 mmseqs databases --compressed 1 UniRef100 $HOME/workspace/mmseqs/UniRef100 $HOME/workspace/mmseqs/tmp\n",
    "# conda run --no-capture-output -n mmseqs2 mmseqs databases --compressed 1 UniRef90 $HOME/workspace/mmseqs/UniRef90 $HOME/workspace/mmseqs/tmp\n",
    "# conda run --no-capture-output -n mmseqs2 mmseqs databases --compressed 1 UniRef50 $HOME/workspace/mmseqs/UniRef50 $HOME/workspace/mmseqs/tmp"
   ]
  },
  {
   "cell_type": "code",
   "execution_count": null,
   "id": "909f13b4-7e9d-429b-8b83-33c99af653c9",
   "metadata": {},
   "outputs": [],
   "source": [
    "data_dir = joinpath(dirname(pwd()), \"data\")"
   ]
  },
  {
   "cell_type": "code",
   "execution_count": null,
   "id": "1ed0cada-73ac-4c3c-8d8c-e50e1115e414",
   "metadata": {},
   "outputs": [],
   "source": [
    "SRR_paths = filter(x -> !occursin(\".ipynb_checkpoints\", x), readdir(joinpath(data_dir, \"SRA\"), join=true))\n",
    "SRR_paths = filter(x -> isfile(joinpath(x, \"megahit\", \"final.contigs.fastg.gfa.fna\")), SRR_paths)\n",
    "# filter out samples that have already been processed\n",
    "# SRR_paths = filter(x -> !isfile(joinpath(x, basename(x) * \".contig_info.tsv\")), SRR_paths)"
   ]
  },
  {
   "cell_type": "code",
   "execution_count": null,
   "id": "e94cebf8-27dc-4897-a9ac-ca63f21e6dc9",
   "metadata": {},
   "outputs": [],
   "source": [
    "# load in metadata\n",
    "metadata_dir = joinpath(dirname(pwd()), \"metadata\")\n",
    "\n",
    "exposome_environmental_data = DataFrames.DataFrame(uCSV.read(\n",
    "    joinpath(metadata_dir, \"metadata_exposome.rds.tsv\"),\n",
    "    delim='\\t',\n",
    "    header=1,\n",
    "    typedetectrows=300\n",
    "))\n",
    "\n",
    "joint_sample_metadata = DataFrames.DataFrame(uCSV.read(\n",
    "    joinpath(metadata_dir, \"exposome/joint_sample_metadata.tsv\"),\n",
    "    delim='\\t',\n",
    "    header=1,\n",
    "    typedetectrows=300\n",
    "))\n",
    "\n",
    "@assert joint_sample_metadata[!, \"Library Name\"] == joint_sample_metadata[!, \"LibraryName\"]\n",
    "\n",
    "joint_metadata = DataFrames.innerjoin(\n",
    "    joint_sample_metadata,\n",
    "    exposome_environmental_data,\n",
    "    on=\"Library Name\" => \"samplenames\")\n",
    "\n",
    "run_ids = sort(joint_metadata[!, \"Run\"])\n",
    "\n",
    "sample_paths = joinpath.(data_dir, \"SRA\", run_ids)"
   ]
  },
  {
   "cell_type": "code",
   "execution_count": null,
   "id": "c06fe840-6f84-4901-bd9a-394d3093af45",
   "metadata": {
    "tags": []
   },
   "outputs": [],
   "source": [
    "target_database = \"$(homedir())/workspace/mmseqs/UniRef100\"\n",
    "for sample_path in sample_paths[2:end]\n",
    "    SRR = basename(sample_path)\n",
    "    assembled_fasta = joinpath(sample_path, \"megahit\", \"final.contigs.fastg.gfa.fna\")\n",
    "    out_dir = mkpath(joinpath(sample_path, \"mmseqs_easy_search\"))\n",
    "    outfile_base = joinpath(out_dir, basename(assembled_fasta) * \".mmseqs_easy_search.\" * basename(target_database))\n",
    "    run(`sbatch $(homedir())/workspace/Mycelia/scripts/mmseqs-easy-search.sh $assembled_fasta $target_database $outfile_base`)\n",
    "    # println(\"conda run --no-capture-output -n mmseqs2 mmseqs easy-taxonomy $(assembled_fasta) $(target_database) $(outfile_base) $(joinpath(out_dir, \"tmp\"))\")\n",
    "    # Mycelia.run_mmseqs_easy_search(out_dir=SRR_path, query_fasta=assembled_fasta, target_database=target_database, outfile=SRR)\n",
    "end"
   ]
  }
 ],
 "metadata": {
  "kernelspec": {
   "display_name": "Julia 1.9.3",
   "language": "julia",
   "name": "julia-1.9"
  },
  "language_info": {
   "file_extension": ".jl",
   "mimetype": "application/julia",
   "name": "julia",
   "version": "1.9.3"
  }
 },
 "nbformat": 4,
 "nbformat_minor": 5
}
