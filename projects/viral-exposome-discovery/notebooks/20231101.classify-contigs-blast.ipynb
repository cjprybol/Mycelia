{
 "cells": [
  {
   "cell_type": "code",
   "execution_count": null,
   "id": "909f13b4-7e9d-429b-8b83-33c99af653c9",
   "metadata": {},
   "outputs": [],
   "source": [
    "data_dir = joinpath(dirname(pwd()), \"data\")"
   ]
  },
  {
   "cell_type": "code",
   "execution_count": null,
   "id": "88edbeff-947b-4254-a295-54b4f9a8cb7a",
   "metadata": {},
   "outputs": [],
   "source": [
    "memory=64\n",
    "threads=max(1, Int(memory//8))"
   ]
  },
  {
   "cell_type": "code",
   "execution_count": null,
   "id": "0609f79c-54bf-48ff-8603-4abebe5c7220",
   "metadata": {},
   "outputs": [],
   "source": [
    "blast_task = \"megablast\""
   ]
  },
  {
   "cell_type": "code",
   "execution_count": null,
   "id": "6bf44df1-e7e1-46f8-899a-883bc26e3673",
   "metadata": {},
   "outputs": [],
   "source": [
    "db = \"nt\""
   ]
  },
  {
   "cell_type": "code",
   "execution_count": null,
   "id": "f8795f74-84ae-464d-b9f3-107619326292",
   "metadata": {},
   "outputs": [],
   "source": [
    "# fastas = filter(x -> occursin(r\"\\.fasta$\",x), readdir(joinpath(data_dir, \"exposome_data\", \"Expo_pliot1_extracted_hifi_fastqs\"), join=true))\n",
    "# fastas = vcat(fastas, filter(x -> occursin(r\"\\.fasta$\",x), readdir(joinpath(data_dir, \"exposome_data\", \"extracted1\"), join=true)))\n",
    "# for fasta in fastas\n",
    "#     outdir = dirname(fasta)\n",
    "#     target_outfile = fasta * \".blastn.$(db).$(blast_task).txt\"\n",
    "#     @show isfile(target_outfile)\n",
    "#     # || filesize(target_outfile) == 0\n",
    "#     if !isfile(target_outfile) \n",
    "#         cmd = \"julia $(homedir())/workspace/Mycelia/scripts/run-blastn.jl --fasta $(fasta) --blast_db $(db) --task $(blast_task) --out_directory $(outdir) --threads $(threads)\"\n",
    "#         println(cmd)\n",
    "#         submission = \n",
    "#         `sbatch \n",
    "#         --mail-user=cameron.prybol@gmail.com\n",
    "#         --mail-type=ALL\n",
    "#         --error=%x-%j.err\n",
    "#         --output=%x-%j.out\n",
    "#         --partition=batch\n",
    "#         --account=mpsnyder\n",
    "#         --nodes=1\n",
    "#         --ntasks=1\n",
    "#         --time=1-00:00:00    \n",
    "#         --cpus-per-task=$(threads)\n",
    "#         --mem=$(memory)G\n",
    "#         --job-name=blastn\n",
    "#         --wrap $cmd\n",
    "#         `\n",
    "#         run(submission)\n",
    "#     end\n",
    "# end"
   ]
  },
  {
   "cell_type": "code",
   "execution_count": null,
   "id": "8662108c-dea7-46d9-83a3-36e1e2c1cc17",
   "metadata": {},
   "outputs": [],
   "source": [
    "sample_paths = filter(x -> !occursin(\".ipynb_checkpoints\", x), readdir(joinpath(data_dir, \"SRA\"), join=true))\n",
    "sample_paths = filter(x -> isfile(joinpath(x, \"megahit\", \"final.contigs.fastg.gfa.fna\")), sample_paths)"
   ]
  },
  {
   "cell_type": "code",
   "execution_count": null,
   "id": "f249de4f-18be-4338-89ff-eb1ff67ac795",
   "metadata": {},
   "outputs": [],
   "source": [
    "for sample_path in sample_paths\n",
    "    sample = basename(sample_path)\n",
    "    blastn_directory = joinpath(sample_path, \"blastn\")\n",
    "    assembled_fasta = joinpath(sample_path, \"megahit\", \"final.contigs.fastg.gfa.fna\")\n",
    "    target_outfile = joinpath(blastn_directory, basename(assembled_fasta) * \".blastn.$(db).$(blast_task).txt\")\n",
    "    if !isfile(target_outfile)\n",
    "        @show sample\n",
    "        cmd = \"julia $(homedir())/workspace/Mycelia/scripts/run-blastn.jl --fasta $(assembled_fasta) --blast_db $(db) --task $(blast_task) --out_directory $(blastn_directory) --threads $(threads)\"\n",
    "        submission = \n",
    "        `sbatch \n",
    "        --mail-user=cameron.prybol@gmail.com\n",
    "        --mail-type=ALL\n",
    "        --error=%x-%j.err\n",
    "        --output=%x-%j.out\n",
    "        --partition=batch\n",
    "        --account=mpsnyder\n",
    "        --nodes=1\n",
    "        --ntasks=1\n",
    "        --time=1-00:00:00    \n",
    "        --cpus-per-task=$(threads)\n",
    "        --mem=$(memory)G\n",
    "        --job-name=blastn\n",
    "        --wrap $cmd\n",
    "        `\n",
    "        run(submission)\n",
    "    end\n",
    "end"
   ]
  },
  {
   "cell_type": "code",
   "execution_count": null,
   "id": "d4daaa2f-df34-4b59-96f6-5a34724d49e8",
   "metadata": {},
   "outputs": [],
   "source": [
    "# findlast(sample_path -> !isempty(readdir(joinpath(sample_path, \"blastn\"))), sample_paths)"
   ]
  },
  {
   "cell_type": "code",
   "execution_count": null,
   "id": "0ab35248-9309-4f62-839f-01b679097a0c",
   "metadata": {},
   "outputs": [],
   "source": [
    "# sample_paths = filter(x -> !occursin(\".ipynb_checkpoints\", x), readdir(joinpath(data_dir, \"SRA\"), join=true))\n",
    "# sample_paths = filter(x -> isfile(joinpath(x, \"megahit\", \"final.contigs.fastg.gfa.fna\")), sample_paths)\n",
    "\n",
    "# for sample_path in sample_paths\n",
    "#     sample = basename(sample_path)\n",
    "#     blastn_directory = joinpath(sample_path, \"blastn\")\n",
    "#     @show readdir(blastn_directory)\n",
    "#     target_outfile = joinpath(sample_path, \"blastn\", \"final.contigs.fastg.gfa.fna.blastn.nt.$(blast_task).txt\")\n",
    "#     # || filesize(target_outfile) == 0\n",
    "#     if !isfile(target_outfile) \n",
    "#         assembled_fasta = joinpath(sample_path, \"megahit\", \"final.contigs.fastg.gfa.fna\")\n",
    "#         cmd = \"julia $(homedir())/workspace/Mycelia/scripts/run-blastn.jl --fasta $(assembled_fasta) --blast_db nt --task $(blast_task) --out_directory $(blastn_directory) --threads $(threads)\"\n",
    "#         submission = \n",
    "#         `sbatch \n",
    "#         --mail-user=cameron.prybol@gmail.com\n",
    "#         --mail-type=ALL\n",
    "#         --error=%x-%j.err\n",
    "#         --output=%x-%j.out\n",
    "#         --partition=batch\n",
    "#         --account=mpsnyder\n",
    "#         --nodes=1\n",
    "#         --ntasks=1\n",
    "#         --time=1-00:00:00    \n",
    "#         --cpus-per-task=$(threads)\n",
    "#         --mem=$(memory)G\n",
    "#         --job-name=blastn\n",
    "#         --wrap $cmd\n",
    "#         `\n",
    "#         run(submission)\n",
    "#         # end\n",
    "#     end\n",
    "# end"
   ]
  },
  {
   "cell_type": "code",
   "execution_count": null,
   "id": "43e33d0a-64ea-47e6-aa6c-f3582d1ea607",
   "metadata": {},
   "outputs": [],
   "source": []
  }
 ],
 "metadata": {
  "kernelspec": {
   "display_name": "Julia 1.9.3",
   "language": "julia",
   "name": "julia-1.9"
  },
  "language_info": {
   "file_extension": ".jl",
   "mimetype": "application/julia",
   "name": "julia",
   "version": "1.9.3"
  }
 },
 "nbformat": 4,
 "nbformat_minor": 5
}
