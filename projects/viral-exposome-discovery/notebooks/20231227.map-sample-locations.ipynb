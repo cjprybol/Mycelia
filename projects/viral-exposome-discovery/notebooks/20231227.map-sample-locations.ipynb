{
 "cells": [
  {
   "cell_type": "markdown",
   "id": "2f670684-0b08-4679-b2bd-f5851ec0d2d8",
   "metadata": {},
   "source": [
    "The objective of this notebook is to map the samples for each individual in the dataset"
   ]
  },
  {
   "cell_type": "code",
   "execution_count": null,
   "id": "28afd0da-a1e3-48ad-a12a-8bbb3a8d19c2",
   "metadata": {
    "tags": []
   },
   "outputs": [],
   "source": [
    "import Pkg\n",
    "pkgs = [\n",
    "    \"Revise\",\n",
    "    \"DataFrames\",\n",
    "    \"StatsBase\",\n",
    "    \"StatsPlots\",\n",
    "    \"uCSV\",\n",
    "    \"ProgressMeter\",\n",
    "    \"Distances\",\n",
    "    \"Clustering\",\n",
    "    \"Colors\",\n",
    "    \"MultivariateStats\",\n",
    "    \"GeoMakie\",\n",
    "    \"CairoMakie\",\n",
    "    \"DataStructures\"\n",
    "]\n",
    "# Pkg.add(pkgs)\n",
    "for pkg in pkgs\n",
    "    eval(Meta.parse(\"import $pkg\"))\n",
    "end\n",
    "import Mycelia"
   ]
  },
  {
   "cell_type": "code",
   "execution_count": null,
   "id": "ebc54d53-21ec-4098-b1c9-8c8e67d4193a",
   "metadata": {
    "tags": []
   },
   "outputs": [],
   "source": [
    "data_dir = joinpath(dirname(pwd()), \"data\")"
   ]
  },
  {
   "cell_type": "code",
   "execution_count": null,
   "id": "a9282e23-ea48-4be0-8acb-67d044e0ca48",
   "metadata": {
    "tags": []
   },
   "outputs": [],
   "source": [
    "sample_paths = filter(x -> !occursin(\".ipynb_checkpoints\", x), readdir(joinpath(data_dir, \"SRA\"), join=true))"
   ]
  },
  {
   "cell_type": "code",
   "execution_count": null,
   "id": "51c29934-2fb9-44fb-968e-1cf5a8c907ed",
   "metadata": {
    "tags": []
   },
   "outputs": [],
   "source": [
    "results_dir = joinpath(data_dir, \"results\")"
   ]
  },
  {
   "cell_type": "code",
   "execution_count": null,
   "id": "43e55e4d-e131-4da2-9fbf-1878d06e70ea",
   "metadata": {},
   "outputs": [],
   "source": [
    "# load in metadata\n",
    "metadata_dir = joinpath(dirname(pwd()), \"metadata\")"
   ]
  },
  {
   "cell_type": "code",
   "execution_count": null,
   "id": "6b5014eb-63ed-4a19-ab47-b69c5be504c5",
   "metadata": {},
   "outputs": [],
   "source": [
    "exposome_environmental_data = DataFrames.DataFrame(uCSV.read(\n",
    "    joinpath(metadata_dir, \"metadata_exposome.rds.tsv\"),\n",
    "    delim='\\t',\n",
    "    header=1,\n",
    "    typedetectrows=300\n",
    "))"
   ]
  },
  {
   "cell_type": "code",
   "execution_count": null,
   "id": "b8dfcb2e-94a3-45cf-ac79-791ff90b1b1b",
   "metadata": {},
   "outputs": [],
   "source": [
    "joint_sample_metadata = DataFrames.DataFrame(uCSV.read(\n",
    "    joinpath(metadata_dir, \"exposome/joint_sample_metadata.tsv\"),\n",
    "    delim='\\t',\n",
    "    header=1,\n",
    "    typedetectrows=300\n",
    "))\n",
    "\n",
    "@assert joint_sample_metadata[!, \"Library Name\"] == joint_sample_metadata[!, \"LibraryName\"]"
   ]
  },
  {
   "cell_type": "code",
   "execution_count": null,
   "id": "757ce5f3-2191-46ac-972e-77f9d91c5471",
   "metadata": {},
   "outputs": [],
   "source": [
    "joint_metadata = DataFrames.innerjoin(\n",
    "    joint_sample_metadata,\n",
    "    exposome_environmental_data,\n",
    "    on=\"Library Name\" => \"samplenames\")"
   ]
  },
  {
   "cell_type": "code",
   "execution_count": null,
   "id": "d3739ee1-caf8-477f-a9a8-4be493a0f268",
   "metadata": {},
   "outputs": [],
   "source": [
    "metadata_by_owner = DataFrames.groupby(joint_metadata, \"aownership\")"
   ]
  },
  {
   "cell_type": "code",
   "execution_count": null,
   "id": "177229c6-2525-40d3-8415-984187b53ba7",
   "metadata": {},
   "outputs": [],
   "source": [
    "participant_to_lat_longs = DataStructures.OrderedDict{Any, Any}(\n",
    "    x => missing for x in [\"P1\", \"P2\", \"P3\", \"P4\", \"P5\", \"P6\", \"P7\", \"P8\", \"Others\"]\n",
    ")\n",
    "for individual_metadata_table in metadata_by_owner\n",
    "    participant_id = individual_metadata_table[1, \"aownership\"]\n",
    "    df = individual_metadata_table[:, [\"latitude\", \"longitude\"]]\n",
    "    df[!, \"latitude\"] = something.(tryparse.(Float64, df[!, \"latitude\"]), missing)\n",
    "    df[!, \"longitude\"] = something.(tryparse.(Float64, df[!, \"longitude\"]), missing)\n",
    "    participant_to_lat_longs[participant_id] = DataFrames.dropmissing(df)\n",
    "end\n",
    "participant_to_lat_longs"
   ]
  },
  {
   "cell_type": "code",
   "execution_count": null,
   "id": "5c07d60d-396a-4072-9c86-bb90739d6c2b",
   "metadata": {},
   "outputs": [],
   "source": [
    "colorscheme = Colors.distinguishable_colors(length(participant_to_lat_longs), [Colors.RGB(1,1,1), Colors.RGB(0,0,0)], dropseed=true)"
   ]
  },
  {
   "cell_type": "code",
   "execution_count": null,
   "id": "fada717a-e224-4ab2-80cb-b520998963c6",
   "metadata": {},
   "outputs": [],
   "source": [
    "# https://docs.makie.org/stable/explanations/figure/#matching_figure_and_font_sizes_to_documents\n",
    "# 1 in == 72 pt\n",
    "# Let's say your desired output size is 5 x 4 inches and you should use a font size of 12 pt.\n",
    "# You multiply 5 x 4 by 72 to get 360 x 288 pt.\n",
    "# The size you need to set on your Figure depends on the pt_per_unit value you want to use.\n",
    "# When making plots for publications, you should usually just save with pt_per_unit = 1.\n",
    "# So in our example, we would use Figure(size = (360, 288)) and for text set fontsize = 12 to match the 12 pt requirement.\n",
    "        \n",
    "\n",
    "# f = Figure(resolution = (5, 4) .* 72)\n",
    "\n",
    "# fig = GeoMakie.Figure(\n",
    "#     size=dims .* 72\n",
    "# )\n",
    "\n",
    "# If you save as a bitmap, multiply your size in inches by your desired dpi to get the resolution in pixels.\n",
    "# Then save with px_per_unit = 1 (that is the default anyway but can be changed).\n",
    "\n",
    "\n",
    "# if savings as PNG or JPG or other bit-mapped image files, multiple desired final image size in inches by the disired DPI to get image size\n",
    "# if saving as SVG or PDF or other vector-graphic image file, multiply desired final image size in inches by 72 pt/in\n",
    "fig = GeoMakie.Figure(size = (5, 4) .* 300)\n",
    "\n",
    "ga = GeoMakie.GeoAxis(\n",
    "    fig[1, 1]; # any cell of the figure's layout\n",
    "    title = \"Exposome sampling locations by participant\",\n",
    "    dest = \"+proj=wintri\", # the CRS in which you want to plot\n",
    "    coastlines = true # plot coastlines from Natural Earth, as a reference.\n",
    ")\n",
    "ga.xticklabelsvisible[] = false\n",
    "ga.yticklabelsvisible[] = false\n",
    "\n",
    "P1 = GeoMakie.scatter!(ga, participant_to_lat_longs[\"P1\"][!, \"longitude\"], participant_to_lat_longs[\"P1\"][!, \"latitude\"]; color=colorscheme[1])\n",
    "P2 = GeoMakie.scatter!(ga, participant_to_lat_longs[\"P2\"][!, \"longitude\"], participant_to_lat_longs[\"P2\"][!, \"latitude\"]; color=colorscheme[2])\n",
    "P3 = GeoMakie.scatter!(ga, participant_to_lat_longs[\"P3\"][!, \"longitude\"], participant_to_lat_longs[\"P3\"][!, \"latitude\"]; color=colorscheme[3])\n",
    "P4 = GeoMakie.scatter!(ga, participant_to_lat_longs[\"P4\"][!, \"longitude\"], participant_to_lat_longs[\"P4\"][!, \"latitude\"]; color=colorscheme[4])\n",
    "P5 = GeoMakie.scatter!(ga, participant_to_lat_longs[\"P5\"][!, \"longitude\"], participant_to_lat_longs[\"P5\"][!, \"latitude\"]; color=colorscheme[5])\n",
    "P6 = GeoMakie.scatter!(ga, participant_to_lat_longs[\"P6\"][!, \"longitude\"], participant_to_lat_longs[\"P6\"][!, \"latitude\"]; color=colorscheme[6])\n",
    "P7 = GeoMakie.scatter!(ga, participant_to_lat_longs[\"P7\"][!, \"longitude\"], participant_to_lat_longs[\"P7\"][!, \"latitude\"]; color=colorscheme[7])\n",
    "P8 = GeoMakie.scatter!(ga, participant_to_lat_longs[\"P8\"][!, \"longitude\"], participant_to_lat_longs[\"P8\"][!, \"latitude\"]; color=colorscheme[8])\n",
    "Other = GeoMakie.scatter!(ga, participant_to_lat_longs[\"Others\"][!, \"longitude\"], participant_to_lat_longs[\"Others\"][!, \"latitude\"]; color=colorscheme[9])\n",
    "GeoMakie.Legend(\n",
    "    fig[1, 2],\n",
    "    [P1, P2, P3, P4, P5, P6, P7, P8, Other],\n",
    "    collect(keys(participant_to_lat_longs))\n",
    ")\n",
    "\n",
    "GeoMakie.save(\n",
    "    \"exposome-sampling-locations.png\",\n",
    "    fig,\n",
    "    px_per_unit=1,\n",
    "    )\n",
    "\n",
    "# GeoMakie.save(\n",
    "#     \"test.pdf\",\n",
    "#     fig,\n",
    "#     pt_per_unit=1,\n",
    "#     )"
   ]
  }
 ],
 "metadata": {
  "kernelspec": {
   "display_name": "Julia 1.9.3",
   "language": "julia",
   "name": "julia-1.9"
  },
  "language_info": {
   "file_extension": ".jl",
   "mimetype": "application/julia",
   "name": "julia",
   "version": "1.9.3"
  }
 },
 "nbformat": 4,
 "nbformat_minor": 5
}
