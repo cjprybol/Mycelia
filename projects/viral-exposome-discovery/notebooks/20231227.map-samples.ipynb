{
 "cells": [
  {
   "cell_type": "markdown",
   "id": "2f670684-0b08-4679-b2bd-f5851ec0d2d8",
   "metadata": {},
   "source": [
    "The objective of this notebook is to map the samples for each individual in the dataset"
   ]
  },
  {
   "cell_type": "code",
   "execution_count": 26,
   "id": "28afd0da-a1e3-48ad-a12a-8bbb3a8d19c2",
   "metadata": {
    "tags": []
   },
   "outputs": [],
   "source": [
    "import Pkg\n",
    "pkgs = [\n",
    "    \"Revise\",\n",
    "    \"DataFrames\",\n",
    "    \"StatsBase\",\n",
    "    \"StatsPlots\",\n",
    "    \"uCSV\",\n",
    "    \"ProgressMeter\",\n",
    "    \"Distances\",\n",
    "    \"Clustering\",\n",
    "    \"Colors\",\n",
    "    \"MultivariateStats\",\n",
    "    \"GeoMakie\",\n",
    "    \"CairoMakie\",\n",
    "    \"DataStructures\"\n",
    "]\n",
    "# Pkg.add(pkgs)\n",
    "for pkg in pkgs\n",
    "    eval(Meta.parse(\"import $pkg\"))\n",
    "end\n",
    "import Mycelia"
   ]
  },
  {
   "cell_type": "code",
   "execution_count": 2,
   "id": "ebc54d53-21ec-4098-b1c9-8c8e67d4193a",
   "metadata": {
    "tags": []
   },
   "outputs": [
    {
     "data": {
      "text/plain": [
       "\"/oak/stanford/scg/lab_mpsnyder/cjprybol/Mycelia/projects/viral-exposome-discovery/data\""
      ]
     },
     "execution_count": 2,
     "metadata": {},
     "output_type": "execute_result"
    }
   ],
   "source": [
    "data_dir = joinpath(dirname(pwd()), \"data\")"
   ]
  },
  {
   "cell_type": "code",
   "execution_count": 3,
   "id": "a9282e23-ea48-4be0-8acb-67d044e0ca48",
   "metadata": {
    "tags": []
   },
   "outputs": [
    {
     "data": {
      "text/plain": [
       "594-element Vector{String}:\n",
       " \"/oak/stanford/scg/lab_mpsnyder/\" ⋯ 39 bytes ⋯ \"e-discovery/data/SRA/SRR6399459\"\n",
       " \"/oak/stanford/scg/lab_mpsnyder/\" ⋯ 39 bytes ⋯ \"e-discovery/data/SRA/SRR6399460\"\n",
       " \"/oak/stanford/scg/lab_mpsnyder/\" ⋯ 39 bytes ⋯ \"e-discovery/data/SRA/SRR6399461\"\n",
       " \"/oak/stanford/scg/lab_mpsnyder/\" ⋯ 39 bytes ⋯ \"e-discovery/data/SRA/SRR6399462\"\n",
       " \"/oak/stanford/scg/lab_mpsnyder/\" ⋯ 39 bytes ⋯ \"e-discovery/data/SRA/SRR6399463\"\n",
       " \"/oak/stanford/scg/lab_mpsnyder/\" ⋯ 39 bytes ⋯ \"e-discovery/data/SRA/SRR6399464\"\n",
       " \"/oak/stanford/scg/lab_mpsnyder/\" ⋯ 39 bytes ⋯ \"e-discovery/data/SRA/SRR6399465\"\n",
       " \"/oak/stanford/scg/lab_mpsnyder/\" ⋯ 39 bytes ⋯ \"e-discovery/data/SRA/SRR6399466\"\n",
       " \"/oak/stanford/scg/lab_mpsnyder/\" ⋯ 39 bytes ⋯ \"e-discovery/data/SRA/SRR6399467\"\n",
       " \"/oak/stanford/scg/lab_mpsnyder/\" ⋯ 39 bytes ⋯ \"e-discovery/data/SRA/SRR6399468\"\n",
       " \"/oak/stanford/scg/lab_mpsnyder/\" ⋯ 39 bytes ⋯ \"e-discovery/data/SRA/SRR6399469\"\n",
       " \"/oak/stanford/scg/lab_mpsnyder/\" ⋯ 39 bytes ⋯ \"e-discovery/data/SRA/SRR6399470\"\n",
       " \"/oak/stanford/scg/lab_mpsnyder/\" ⋯ 39 bytes ⋯ \"e-discovery/data/SRA/SRR6399471\"\n",
       " ⋮\n",
       " \"/oak/stanford/scg/lab_mpsnyder/\" ⋯ 39 bytes ⋯ \"e-discovery/data/SRA/SRR7365474\"\n",
       " \"/oak/stanford/scg/lab_mpsnyder/\" ⋯ 39 bytes ⋯ \"e-discovery/data/SRA/SRR7365475\"\n",
       " \"/oak/stanford/scg/lab_mpsnyder/\" ⋯ 39 bytes ⋯ \"e-discovery/data/SRA/SRR7365476\"\n",
       " \"/oak/stanford/scg/lab_mpsnyder/\" ⋯ 39 bytes ⋯ \"e-discovery/data/SRA/SRR7365477\"\n",
       " \"/oak/stanford/scg/lab_mpsnyder/\" ⋯ 39 bytes ⋯ \"e-discovery/data/SRA/SRR7365478\"\n",
       " \"/oak/stanford/scg/lab_mpsnyder/\" ⋯ 39 bytes ⋯ \"e-discovery/data/SRA/SRR7365479\"\n",
       " \"/oak/stanford/scg/lab_mpsnyder/\" ⋯ 39 bytes ⋯ \"e-discovery/data/SRA/SRR7365480\"\n",
       " \"/oak/stanford/scg/lab_mpsnyder/\" ⋯ 39 bytes ⋯ \"e-discovery/data/SRA/SRR7365481\"\n",
       " \"/oak/stanford/scg/lab_mpsnyder/\" ⋯ 39 bytes ⋯ \"e-discovery/data/SRA/SRR7365482\"\n",
       " \"/oak/stanford/scg/lab_mpsnyder/\" ⋯ 39 bytes ⋯ \"e-discovery/data/SRA/SRR7365483\"\n",
       " \"/oak/stanford/scg/lab_mpsnyder/\" ⋯ 39 bytes ⋯ \"e-discovery/data/SRA/SRR7365484\"\n",
       " \"/oak/stanford/scg/lab_mpsnyder/\" ⋯ 39 bytes ⋯ \"e-discovery/data/SRA/SRR7365485\""
      ]
     },
     "execution_count": 3,
     "metadata": {},
     "output_type": "execute_result"
    }
   ],
   "source": [
    "sample_paths = filter(x -> !occursin(\".ipynb_checkpoints\", x), readdir(joinpath(data_dir, \"SRA\"), join=true))"
   ]
  },
  {
   "cell_type": "code",
   "execution_count": 4,
   "id": "51c29934-2fb9-44fb-968e-1cf5a8c907ed",
   "metadata": {
    "tags": []
   },
   "outputs": [
    {
     "data": {
      "text/plain": [
       "\"/oak/stanford/scg/lab_mpsnyder/cjprybol/Mycelia/projects/viral-exposome-discovery/data/results\""
      ]
     },
     "execution_count": 4,
     "metadata": {},
     "output_type": "execute_result"
    }
   ],
   "source": [
    "results_dir = joinpath(data_dir, \"results\")"
   ]
  },
  {
   "cell_type": "code",
   "execution_count": 5,
   "id": "43e55e4d-e131-4da2-9fbf-1878d06e70ea",
   "metadata": {},
   "outputs": [
    {
     "data": {
      "text/plain": [
       "\"/oak/stanford/scg/lab_mpsnyder/cjprybol/Mycelia/projects/viral-exposome-discovery/metadata\""
      ]
     },
     "execution_count": 5,
     "metadata": {},
     "output_type": "execute_result"
    }
   ],
   "source": [
    "# load in metadata\n",
    "metadata_dir = joinpath(dirname(pwd()), \"metadata\")"
   ]
  },
  {
   "cell_type": "code",
   "execution_count": null,
   "id": "6b5014eb-63ed-4a19-ab47-b69c5be504c5",
   "metadata": {},
   "outputs": [],
   "source": [
    "exposome_environmental_data = DataFrames.DataFrame(uCSV.read(\n",
    "    joinpath(metadata_dir, \"metadata_exposome.rds.tsv\"),\n",
    "    delim='\\t',\n",
    "    header=1,\n",
    "    typedetectrows=300\n",
    "))"
   ]
  },
  {
   "cell_type": "code",
   "execution_count": 7,
   "id": "b8dfcb2e-94a3-45cf-ac79-791ff90b1b1b",
   "metadata": {},
   "outputs": [
    {
     "name": "stderr",
     "output_type": "stream",
     "text": [
      "\u001b[33m\u001b[1m┌ \u001b[22m\u001b[39m\u001b[33m\u001b[1mWarning: \u001b[22m\u001b[39mLarge values for `typedetectrows` will reduce performance. Consider manually declaring the types of columns using the `types` argument instead.\n",
      "\u001b[33m\u001b[1m└ \u001b[22m\u001b[39m\u001b[90m@ uCSV ~/.julia/packages/uCSV/goLRH/src/read.jl:213\u001b[39m\n"
     ]
    }
   ],
   "source": [
    "joint_sample_metadata = DataFrames.DataFrame(uCSV.read(\n",
    "    joinpath(metadata_dir, \"exposome/joint_sample_metadata.tsv\"),\n",
    "    delim='\\t',\n",
    "    header=1,\n",
    "    typedetectrows=300\n",
    "))\n",
    "\n",
    "@assert joint_sample_metadata[!, \"Library Name\"] == joint_sample_metadata[!, \"LibraryName\"]"
   ]
  },
  {
   "cell_type": "code",
   "execution_count": null,
   "id": "757ce5f3-2191-46ac-972e-77f9d91c5471",
   "metadata": {},
   "outputs": [],
   "source": [
    "joint_metadata = DataFrames.innerjoin(\n",
    "    joint_sample_metadata,\n",
    "    exposome_environmental_data,\n",
    "    on=\"Library Name\" => \"samplenames\")"
   ]
  },
  {
   "cell_type": "code",
   "execution_count": null,
   "id": "d3739ee1-caf8-477f-a9a8-4be493a0f268",
   "metadata": {},
   "outputs": [],
   "source": [
    "metadata_by_owner = DataFrames.groupby(joint_metadata, \"aownership\")"
   ]
  },
  {
   "cell_type": "code",
   "execution_count": 39,
   "id": "177229c6-2525-40d3-8415-984187b53ba7",
   "metadata": {},
   "outputs": [
    {
     "data": {
      "text/plain": [
       "OrderedCollections.OrderedDict{Any, Any} with 9 entries:\n",
       "  \"P1\"     => \u001b[1m155×2 DataFrame\u001b[0m\u001b[0m…\n",
       "  \"P2\"     => \u001b[1m17×2 DataFrame\u001b[0m\u001b[0m…\n",
       "  \"P3\"     => \u001b[1m12×2 DataFrame\u001b[0m\u001b[0m…\n",
       "  \"P4\"     => \u001b[1m4×2 DataFrame\u001b[0m\u001b[0m…\n",
       "  \"P5\"     => \u001b[1m4×2 DataFrame\u001b[0m\u001b[0m…\n",
       "  \"P6\"     => \u001b[1m2×2 DataFrame\u001b[0m\u001b[0m…\n",
       "  \"P7\"     => \u001b[1m2×2 DataFrame\u001b[0m\u001b[0m…\n",
       "  \"P8\"     => \u001b[1m5×2 DataFrame\u001b[0m\u001b[0m…\n",
       "  \"Others\" => \u001b[1m11×2 DataFrame\u001b[0m\u001b[0m…"
      ]
     },
     "execution_count": 39,
     "metadata": {},
     "output_type": "execute_result"
    }
   ],
   "source": [
    "participant_to_lat_longs = DataStructures.OrderedDict{Any, Any}(\n",
    "    x => missing for x in [\"P1\", \"P2\", \"P3\", \"P4\", \"P5\", \"P6\", \"P7\", \"P8\", \"Others\"]\n",
    ")\n",
    "for individual_metadata_table in metadata_by_owner\n",
    "    participant_id = individual_metadata_table[1, \"aownership\"]\n",
    "    df = individual_metadata_table[:, [\"latitude\", \"longitude\"]]\n",
    "    df[!, \"latitude\"] = something.(tryparse.(Float64, df[!, \"latitude\"]), missing)\n",
    "    df[!, \"longitude\"] = something.(tryparse.(Float64, df[!, \"longitude\"]), missing)\n",
    "    participant_to_lat_longs[participant_id] = DataFrames.dropmissing(df)\n",
    "end\n",
    "participant_to_lat_longs"
   ]
  },
  {
   "cell_type": "code",
   "execution_count": 42,
   "id": "5c07d60d-396a-4072-9c86-bb90739d6c2b",
   "metadata": {},
   "outputs": [
    {
     "data": {
      "image/svg+xml": [
       "<?xml version=\"1.0\" encoding=\"UTF-8\"?>\n",
       "<!DOCTYPE svg PUBLIC \"-//W3C//DTD SVG 1.1//EN\"\n",
       " \"http://www.w3.org/Graphics/SVG/1.1/DTD/svg11.dtd\">\n",
       "<svg xmlns=\"http://www.w3.org/2000/svg\" version=\"1.1\"\n",
       "     width=\"180mm\" height=\"25mm\"\n",
       "     viewBox=\"0 0 9 1\" preserveAspectRatio=\"none\"\n",
       "     shape-rendering=\"crispEdges\" stroke=\"none\">\n",
       "<rect width=\".95\" height=\".96\" x=\"0\" y=\"0\" fill=\"#C721DD\" />\n",
       "<rect width=\".95\" height=\".96\" x=\"1\" y=\"0\" fill=\"#D14A00\" />\n",
       "<rect width=\".95\" height=\".96\" x=\"2\" y=\"0\" fill=\"#008C00\" />\n",
       "<rect width=\".95\" height=\".96\" x=\"3\" y=\"0\" fill=\"#007FB1\" />\n",
       "<rect width=\".95\" height=\".96\" x=\"4\" y=\"0\" fill=\"#D1AC00\" />\n",
       "<rect width=\".95\" height=\".96\" x=\"5\" y=\"0\" fill=\"#870036\" />\n",
       "<rect width=\".95\" height=\".96\" x=\"6\" y=\"0\" fill=\"#FF8FA1\" />\n",
       "<rect width=\".95\" height=\".96\" x=\"7\" y=\"0\" fill=\"#00008B\" />\n",
       "<rect width=\".95\" height=\".96\" x=\"8\" y=\"0\" fill=\"#2EFF71\" />\n",
       "</svg>"
      ],
      "text/plain": [
       "9-element Array{RGB{N0f8},1} with eltype ColorTypes.RGB{FixedPointNumbers.N0f8}:\n",
       " RGB{N0f8}(0.78,0.129,0.867)\n",
       " RGB{N0f8}(0.82,0.29,0.0)\n",
       " RGB{N0f8}(0.0,0.549,0.0)\n",
       " RGB{N0f8}(0.0,0.498,0.694)\n",
       " RGB{N0f8}(0.82,0.675,0.0)\n",
       " RGB{N0f8}(0.529,0.0,0.212)\n",
       " RGB{N0f8}(1.0,0.561,0.631)\n",
       " RGB{N0f8}(0.0,0.0,0.545)\n",
       " RGB{N0f8}(0.18,1.0,0.443)"
      ]
     },
     "execution_count": 42,
     "metadata": {},
     "output_type": "execute_result"
    }
   ],
   "source": [
    "colorscheme = Colors.distinguishable_colors(length(participant_to_lat_longs), [Colors.RGB(1,1,1), Colors.RGB(0,0,0)], dropseed=true)"
   ]
  },
  {
   "cell_type": "code",
   "execution_count": 65,
   "id": "fada717a-e224-4ab2-80cb-b520998963c6",
   "metadata": {},
   "outputs": [
    {
     "data": {
      "text/plain": [
       "CairoMakie.Screen{IMAGE}\n"
      ]
     },
     "execution_count": 65,
     "metadata": {},
     "output_type": "execute_result"
    }
   ],
   "source": [
    "# https://docs.makie.org/stable/explanations/figure/#matching_figure_and_font_sizes_to_documents\n",
    "# 1 in == 72 pt\n",
    "# Let's say your desired output size is 5 x 4 inches and you should use a font size of 12 pt.\n",
    "# You multiply 5 x 4 by 72 to get 360 x 288 pt.\n",
    "# The size you need to set on your Figure depends on the pt_per_unit value you want to use.\n",
    "# When making plots for publications, you should usually just save with pt_per_unit = 1.\n",
    "# So in our example, we would use Figure(size = (360, 288)) and for text set fontsize = 12 to match the 12 pt requirement.\n",
    "        \n",
    "\n",
    "# f = Figure(resolution = (5, 4) .* 72)\n",
    "\n",
    "# fig = GeoMakie.Figure(\n",
    "#     size=dims .* 72\n",
    "# )\n",
    "\n",
    "# If you save as a bitmap, multiply your size in inches by your desired dpi to get the resolution in pixels.\n",
    "# Then save with px_per_unit = 1 (that is the default anyway but can be changed).\n",
    "\n",
    "\n",
    "# if savings as PNG or JPG or other bit-mapped image files, multiple desired final image size in inches by the disired DPI to get image size\n",
    "# if saving as SVG or PDF or other vector-graphic image file, multiply desired final image size in inches by 72 pt/in\n",
    "fig = GeoMakie.Figure(size = (5, 4) .* 300)\n",
    "\n",
    "ga = GeoMakie.GeoAxis(\n",
    "    fig[1, 1]; # any cell of the figure's layout\n",
    "    title = \"Exposome sampling locations by participant\",\n",
    "    dest = \"+proj=wintri\", # the CRS in which you want to plot\n",
    "    coastlines = true # plot coastlines from Natural Earth, as a reference.\n",
    ")\n",
    "ga.xticklabelsvisible[] = false\n",
    "ga.yticklabelsvisible[] = false\n",
    "\n",
    "P1 = GeoMakie.scatter!(ga, participant_to_lat_longs[\"P1\"][!, \"longitude\"], participant_to_lat_longs[\"P1\"][!, \"latitude\"]; color=colorscheme[1])\n",
    "P2 = GeoMakie.scatter!(ga, participant_to_lat_longs[\"P2\"][!, \"longitude\"], participant_to_lat_longs[\"P2\"][!, \"latitude\"]; color=colorscheme[2])\n",
    "P3 = GeoMakie.scatter!(ga, participant_to_lat_longs[\"P3\"][!, \"longitude\"], participant_to_lat_longs[\"P3\"][!, \"latitude\"]; color=colorscheme[3])\n",
    "P4 = GeoMakie.scatter!(ga, participant_to_lat_longs[\"P4\"][!, \"longitude\"], participant_to_lat_longs[\"P4\"][!, \"latitude\"]; color=colorscheme[4])\n",
    "P5 = GeoMakie.scatter!(ga, participant_to_lat_longs[\"P5\"][!, \"longitude\"], participant_to_lat_longs[\"P5\"][!, \"latitude\"]; color=colorscheme[5])\n",
    "P6 = GeoMakie.scatter!(ga, participant_to_lat_longs[\"P6\"][!, \"longitude\"], participant_to_lat_longs[\"P6\"][!, \"latitude\"]; color=colorscheme[6])\n",
    "P7 = GeoMakie.scatter!(ga, participant_to_lat_longs[\"P7\"][!, \"longitude\"], participant_to_lat_longs[\"P7\"][!, \"latitude\"]; color=colorscheme[7])\n",
    "P8 = GeoMakie.scatter!(ga, participant_to_lat_longs[\"P8\"][!, \"longitude\"], participant_to_lat_longs[\"P8\"][!, \"latitude\"]; color=colorscheme[8])\n",
    "Other = GeoMakie.scatter!(ga, participant_to_lat_longs[\"Others\"][!, \"longitude\"], participant_to_lat_longs[\"Others\"][!, \"latitude\"]; color=colorscheme[9])\n",
    "GeoMakie.Legend(\n",
    "    fig[1, 2],\n",
    "    [P1, P2, P3, P4, P5, P6, P7, P8, Other],\n",
    "    collect(keys(participant_to_lat_longs))\n",
    ")\n",
    "\n",
    "GeoMakie.save(\n",
    "    \"exposome-sampling-locations.png\",\n",
    "    fig,\n",
    "    px_per_unit=1,\n",
    "    )\n",
    "\n",
    "# GeoMakie.save(\n",
    "#     \"test.pdf\",\n",
    "#     fig,\n",
    "#     pt_per_unit=1,\n",
    "#     )"
   ]
  }
 ],
 "metadata": {
  "kernelspec": {
   "display_name": "Julia 1.9.3",
   "language": "julia",
   "name": "julia-1.9"
  },
  "language_info": {
   "file_extension": ".jl",
   "mimetype": "application/julia",
   "name": "julia",
   "version": "1.9.3"
  }
 },
 "nbformat": 4,
 "nbformat_minor": 5
}
