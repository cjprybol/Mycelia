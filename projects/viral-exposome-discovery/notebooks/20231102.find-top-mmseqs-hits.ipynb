{
 "cells": [
  {
   "cell_type": "markdown",
   "id": "08691468-3618-4425-875a-a1ae5487e530",
   "metadata": {},
   "source": [
    "objectives\n",
    "- find the top hit for each contig in the mmseqs output, across all dbs\n",
    "- determine what percentage of contigs were classified\n",
    "- determine what percentage of reads were classified"
   ]
  },
  {
   "cell_type": "markdown",
   "id": "0c657b2d-a605-43d5-b857-fa6bdf0d38db",
   "metadata": {},
   "source": [
    "find the top hit for each contig in the blast output"
   ]
  },
  {
   "cell_type": "code",
   "execution_count": null,
   "id": "28717f71-b8e6-49a1-a568-0e4b702c3c65",
   "metadata": {},
   "outputs": [],
   "source": [
    "import Pkg\n",
    "pkgs = [\n",
    "    \"Revise\",\n",
    "    \"DataFrames\",\n",
    "    \"StatsBase\",\n",
    "    \"ProgressMeter\",\n",
    "    \"uCSV\"\n",
    "]\n",
    "# Pkg.activate(; temp=true)\n",
    "# Pkg.add(pkgs)\n",
    "for pkg in pkgs\n",
    "    eval(Meta.parse(\"import $pkg\"))\n",
    "end\n",
    "import Mycelia"
   ]
  },
  {
   "cell_type": "code",
   "execution_count": null,
   "id": "23109ba9-812c-4b56-a4d1-2ecb4a868dbf",
   "metadata": {},
   "outputs": [],
   "source": [
    "base_dir = dirname(pwd())\n",
    "data_dir = joinpath(base_dir, \"data\")\n",
    "sample_directories = readdir(joinpath(data_dir, \"SRA\"), join=true)"
   ]
  },
  {
   "cell_type": "code",
   "execution_count": null,
   "id": "aa1a4e6e-e1f7-4da6-b41e-ac110d38a2e6",
   "metadata": {},
   "outputs": [],
   "source": [
    "easy_taxonomy_lca_reports = String[]\n",
    "for sample_directory in sample_directories\n",
    "    mmseqs_directory_contents = readdir(joinpath(sample_directory, \"mmseqs_easy_taxonomy\"), join=true)\n",
    "    sample_lca_reports = filter(x -> occursin(\"final.contigs.fastg.gfa.fna.mmseqs_easy_taxonomy.\", x) && occursin(\"_lca.tsv\", x), mmseqs_directory_contents)\n",
    "    append!(easy_taxonomy_lca_reports, sample_lca_reports)\n",
    "end\n",
    "easy_taxonomy_lca_reports"
   ]
  },
  {
   "cell_type": "code",
   "execution_count": null,
   "id": "a2914720-fda5-46d4-8818-353e41698490",
   "metadata": {},
   "outputs": [],
   "source": [
    "lca_tsv = first(easy_taxonomy_lca_reports)"
   ]
  },
  {
   "cell_type": "code",
   "execution_count": null,
   "id": "980cb231-949a-4ff1-a17e-7c80e0d9ca44",
   "metadata": {},
   "outputs": [],
   "source": [
    "# replace(replace(basename(lca_tsv), \"final.contigs.fastg.gfa.fna.\" => \"\"), \"_lca.tsv\" => \"\")"
   ]
  },
  {
   "cell_type": "code",
   "execution_count": null,
   "id": "3e47e15a-0f03-44d5-9594-dae20f088bf5",
   "metadata": {},
   "outputs": [],
   "source": [
    "viral_tax_ids = Set(parse.(Int, filter(!isempty, readlines(`conda run -n taxonkit taxonkit list --ids 10239 --indent \"\"`))))"
   ]
  },
  {
   "cell_type": "code",
   "execution_count": null,
   "id": "2bafcb1c-2741-4cd4-9b3f-8c84469eb27d",
   "metadata": {},
   "outputs": [],
   "source": [
    "joint_lca_table = DataFrames.DataFrame()\n",
    "ProgressMeter.@showprogress for lca_tsv in easy_taxonomy_lca_reports\n",
    "    method = replace(replace(basename(lca_tsv), \"final.contigs.fastg.gfa.fna.\" => \"\"), \"_lca.tsv\" => \"\")\n",
    "    # @show method\n",
    "    this_lca_table = Mycelia.parse_mmseqs_easy_taxonomy_lca_tsv(lca_tsv)\n",
    "    this_lca_table[!, \"sample\"] .= basename(dirname(dirname(lca_tsv)))\n",
    "    this_lca_table[!, \"method\"] .= method\n",
    "    append!(joint_lca_table, this_lca_table)\n",
    "end\n",
    "sort!(joint_lca_table, \"contig_id\")"
   ]
  },
  {
   "cell_type": "code",
   "execution_count": null,
   "id": "8daf1757-294c-49a9-a81a-145ea912ef57",
   "metadata": {},
   "outputs": [],
   "source": [
    "# StatsBase.describe(joint_lca_table[!, \"support -log(E-value)\"])"
   ]
  },
  {
   "cell_type": "code",
   "execution_count": null,
   "id": "06cd3ff8-5d86-454a-bc06-66018f9d5cc4",
   "metadata": {},
   "outputs": [],
   "source": [
    "# -log(0.3)"
   ]
  },
  {
   "cell_type": "code",
   "execution_count": null,
   "id": "c6d38ad1-b6f5-4243-b50e-adbf9fde3a06",
   "metadata": {},
   "outputs": [],
   "source": [
    "joint_lca_table = joint_lca_table[map(x -> x in viral_tax_ids, joint_lca_table[!, \"taxon_id\"]), :]"
   ]
  },
  {
   "cell_type": "code",
   "execution_count": null,
   "id": "af460019-2f51-4412-8ae9-4a12657433a7",
   "metadata": {},
   "outputs": [],
   "source": [
    "joint_lca_table[!, \"taxon_id\"]"
   ]
  },
  {
   "cell_type": "code",
   "execution_count": null,
   "id": "f7c21f18-fcbd-4efa-8ad5-87efb363414b",
   "metadata": {},
   "outputs": [],
   "source": [
    "# NCBI host metadata\n",
    "ncbi_metadata_file = joinpath(dirname(pwd()), \"metadata\", \"NCBI-virus-refseq.transformed.tsv\")\n",
    "ncbi_host_metadata = DataFrames.DataFrame(uCSV.read(ncbi_metadata_file, header=1, delim='\\t'))"
   ]
  },
  {
   "cell_type": "code",
   "execution_count": null,
   "id": "ed859ac0-ab68-48e1-b1cf-f9965213236a",
   "metadata": {},
   "outputs": [],
   "source": [
    "joint_lca_ncbi_table = DataFrames.innerjoin(joint_lca_table, ncbi_host_metadata, on=\"taxon_id\" => \"taxid\")\n",
    "joint_lca_ncbi_table[1:1, :]"
   ]
  },
  {
   "cell_type": "code",
   "execution_count": null,
   "id": "190d245d-17dc-445f-b831-235b9e25dc50",
   "metadata": {},
   "outputs": [],
   "source": [
    "count(parse.(Bool, joint_lca_ncbi_table[!, \"host_is_vertebrate\"]))"
   ]
  },
  {
   "cell_type": "code",
   "execution_count": null,
   "id": "35649790-4b8d-4ae0-a40d-f9ededcb48fd",
   "metadata": {},
   "outputs": [],
   "source": [
    "count(parse.(Bool, joint_lca_ncbi_table[!, \"host_is_mammal\"]))"
   ]
  },
  {
   "cell_type": "code",
   "execution_count": null,
   "id": "5d2ecf34-b4dc-4e25-86a9-8a8e4f9b7861",
   "metadata": {},
   "outputs": [],
   "source": [
    "count(parse.(Bool, joint_lca_ncbi_table[!, \"host_is_primate\"]))"
   ]
  },
  {
   "cell_type": "code",
   "execution_count": null,
   "id": "0d9919f4-b13e-4832-8634-b01edcfbf37d",
   "metadata": {},
   "outputs": [],
   "source": [
    "count(parse.(Bool, joint_lca_ncbi_table[!, \"host_is_human\"]))"
   ]
  },
  {
   "cell_type": "code",
   "execution_count": null,
   "id": "dee71bd9-e1b4-4e19-ab1e-f223620e6714",
   "metadata": {},
   "outputs": [],
   "source": [
    "joint_lca_ncbi_table[!, \"host_is_human\"] = parse.(Bool, joint_lca_ncbi_table[!, \"host_is_human\"])\n",
    "joint_lca_ncbi_table = joint_lca_ncbi_table[joint_lca_ncbi_table[!, \"host_is_human\"], :]"
   ]
  },
  {
   "cell_type": "code",
   "execution_count": null,
   "id": "b51cfe2d-2452-4e91-b60f-b29756884568",
   "metadata": {},
   "outputs": [],
   "source": [
    "for x in sort(unique(joint_lca_ncbi_table[!, \"taxon_name\"]))\n",
    "    println(x)\n",
    "end"
   ]
  },
  {
   "cell_type": "code",
   "execution_count": null,
   "id": "16d4c313-6879-445b-be44-50b99b0d11b4",
   "metadata": {},
   "outputs": [],
   "source": [
    "# ICTV host metadata\n",
    "ictv_metadata_file = joinpath(dirname(pwd()), \"metadata\", \"VMR_MSL38_v1 - VMR MSL38 v1.transformed.tsv\")\n",
    "ictv_host_metadata = DataFrames.DataFrame(uCSV.read(ictv_metadata_file, header=1, delim='\\t', typedetectrows=100))\n",
    "ictv_host_metadata = ictv_host_metadata[.!isempty.(ictv_host_metadata[!, \"taxid\"]), :]\n",
    "ictv_host_metadata[!, \"taxid\"] = parse.(Int, ictv_host_metadata[!, \"taxid\"])\n",
    "joint_lca_ictv_table = DataFrames.innerjoin(joint_lca_table, ictv_host_metadata, on=\"taxon_id\" => \"taxid\")\n",
    "\n",
    "# StatsBase.countmap(joint_lca_ictv_table[!, \"Host source\"])"
   ]
  },
  {
   "cell_type": "code",
   "execution_count": null,
   "id": "8151bd17-1b63-48e7-b057-cbcd87ed99af",
   "metadata": {},
   "outputs": [],
   "source": [
    "joint_lca_ictv_table_hits = joint_lca_ictv_table[joint_lca_ictv_table[!, \"Host source\"] .== \"vertebrates\", :]\n",
    "for x in sort(unique(joint_lca_ictv_table_hits[!, \"Virus name(s)\"]))\n",
    "    println(x)\n",
    "end"
   ]
  },
  {
   "cell_type": "code",
   "execution_count": null,
   "id": "7b825324-b0eb-447d-94b7-bf94ca1b1d3b",
   "metadata": {},
   "outputs": [],
   "source": [
    "# # VirusHostDB metadata\n",
    "virushostdb_metadata_file = joinpath(dirname(pwd()), \"metadata\", \"virushostdb.transformed.tsv\")\n",
    "virushostdb_metadata = DataFrames.DataFrame(uCSV.read(virushostdb_metadata_file, header=1, delim='\\t', typedetectrows=1086, encodings=Dict(\"missing\" => missing)))"
   ]
  },
  {
   "cell_type": "code",
   "execution_count": null,
   "id": "44483c54-6a52-4ede-9beb-bca073ae642f",
   "metadata": {},
   "outputs": [],
   "source": [
    "joint_lca_virushostdb_table = DataFrames.innerjoin(joint_lca_table, virushostdb_metadata, on=\"taxon_id\" => \"virus_taxid\")"
   ]
  },
  {
   "cell_type": "code",
   "execution_count": null,
   "id": "d5dfc11e-cccd-4949-bb5a-cd766c511ae3",
   "metadata": {},
   "outputs": [],
   "source": [
    "count(parse.(Bool, joint_lca_virushostdb_table[!, \"host_is_vertebrate\"]))"
   ]
  },
  {
   "cell_type": "code",
   "execution_count": null,
   "id": "d4b5c6e4-754e-49c3-8c8d-0a40acbf956e",
   "metadata": {},
   "outputs": [],
   "source": [
    "count(parse.(Bool, joint_lca_virushostdb_table[!, \"host_is_mammal\"]))"
   ]
  },
  {
   "cell_type": "code",
   "execution_count": null,
   "id": "f8a26305-dde7-44a7-bb2e-f8673933e70e",
   "metadata": {},
   "outputs": [],
   "source": [
    "count(parse.(Bool, joint_lca_virushostdb_table[!, \"host_is_primate\"]))"
   ]
  },
  {
   "cell_type": "code",
   "execution_count": null,
   "id": "6e804ee8-3713-4208-bb42-b3f30285bf40",
   "metadata": {},
   "outputs": [],
   "source": [
    "count(parse.(Bool, joint_lca_virushostdb_table[!, \"host_is_human\"]))"
   ]
  },
  {
   "cell_type": "code",
   "execution_count": null,
   "id": "873743f3-eb6f-47de-bee9-c71d13c78854",
   "metadata": {},
   "outputs": [],
   "source": [
    "joint_lca_virushostdb_table[!, \"host_is_human\"] = parse.(Bool, joint_lca_virushostdb_table[!, \"host_is_human\"])\n",
    "joint_lca_virushostdb_table = joint_lca_virushostdb_table[joint_lca_virushostdb_table[!, \"host_is_human\"], :]"
   ]
  },
  {
   "cell_type": "code",
   "execution_count": null,
   "id": "b0eb19f5-658b-4b18-9532-660ec69d3b84",
   "metadata": {},
   "outputs": [],
   "source": [
    "sort(unique(joint_lca_virushostdb_table[!, \"taxon_name\"]))"
   ]
  },
  {
   "cell_type": "code",
   "execution_count": null,
   "id": "3ed8774c-8b3c-4e4c-bf8e-d7b4dce773f7",
   "metadata": {},
   "outputs": [],
   "source": [
    "joint_lca_ictv_table_hits[!, \"Virus name(s)\"]"
   ]
  },
  {
   "cell_type": "code",
   "execution_count": null,
   "id": "eadf52aa-7d44-44d1-a835-5de808c9ebb3",
   "metadata": {},
   "outputs": [],
   "source": [
    "StatsBase.countmap(vcat(\n",
    "    joint_lca_virushostdb_table[!, \"taxon_name\"],\n",
    "    joint_lca_ncbi_table[!, \"taxon_name\"],\n",
    "    ))"
   ]
  },
  {
   "cell_type": "code",
   "execution_count": null,
   "id": "dbe0a39d-b6a7-441c-ad06-9ca0e8e57f2b",
   "metadata": {},
   "outputs": [],
   "source": [
    "for x in unique(sort(union(\n",
    "    sort(unique(joint_lca_virushostdb_table[!, \"taxon_name\"])),\n",
    "    sort(unique(joint_lca_ncbi_table[!, \"taxon_name\"]))\n",
    ")))\n",
    "    println(x)\n",
    "end"
   ]
  },
  {
   "cell_type": "code",
   "execution_count": null,
   "id": "f7d59f45-4eb8-4e09-b359-8274ba902ece",
   "metadata": {},
   "outputs": [],
   "source": [
    "for x in sort(unique(joint_lca_ictv_table_hits[!, \"Virus name(s)\"]))\n",
    "    println(x)\n",
    "end"
   ]
  }
 ],
 "metadata": {
  "kernelspec": {
   "display_name": "Julia 1.9.3",
   "language": "julia",
   "name": "julia-1.9"
  },
  "language_info": {
   "file_extension": ".jl",
   "mimetype": "application/julia",
   "name": "julia",
   "version": "1.9.3"
  }
 },
 "nbformat": 4,
 "nbformat_minor": 5
}
