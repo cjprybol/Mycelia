{
 "cells": [
  {
   "cell_type": "code",
   "execution_count": 1,
   "id": "28afd0da-a1e3-48ad-a12a-8bbb3a8d19c2",
   "metadata": {
    "tags": []
   },
   "outputs": [],
   "source": [
    "import Pkg\n",
    "pkgs = [\n",
    "\"DataFrames\",\n",
    "\"uCSV\",\n",
    "\"ProgressMeter\",\n",
    "\"StatsPlots\",\n",
    "\"StatsBase\",\n",
    "\"FASTX\"\n",
    "]\n",
    "for pkg in pkgs\n",
    "    eval(Meta.parse(\"import $pkg\"))\n",
    "end"
   ]
  },
  {
   "cell_type": "code",
   "execution_count": null,
   "id": "397eda9f-2187-4112-bfa6-670cd2e62770",
   "metadata": {},
   "outputs": [],
   "source": [
    "# viral_tax_ids = Set(parse.(Int, filter(!isempty, readlines(`conda run -n taxonkit taxonkit list --ids 10239 --indent \"\"`))))"
   ]
  },
  {
   "cell_type": "code",
   "execution_count": 2,
   "id": "074d7a7c-5c17-402e-8f09-10bf281707fc",
   "metadata": {},
   "outputs": [
    {
     "name": "stderr",
     "output_type": "stream",
     "text": [
      "\u001b[33m\u001b[1m┌ \u001b[22m\u001b[39m\u001b[33m\u001b[1mWarning: \u001b[22m\u001b[39mLarge values for `typedetectrows` will reduce performance. Consider manually declaring the types of columns using the `types` argument instead.\n",
      "\u001b[33m\u001b[1m└ \u001b[22m\u001b[39m\u001b[90m@ uCSV ~/.julia/packages/uCSV/goLRH/src/read.jl:213\u001b[39m\n"
     ]
    },
    {
     "data": {
      "text/plain": [
       "1559-element Vector{Int64}:\n",
       "  351073\n",
       " 3051992\n",
       " 3052643\n",
       " 3052759\n",
       " 2795181\n",
       " 2304647\n",
       " 2825847\n",
       "   11029\n",
       " 3052040\n",
       " 2845899\n",
       " 2055263\n",
       "   95342\n",
       " 1965018\n",
       "       ⋮\n",
       "  356663\n",
       "  356664\n",
       "  373193\n",
       "   11837\n",
       "   38804\n",
       "  132475\n",
       "   11089\n",
       "  617102\n",
       " 2053026\n",
       "  186538\n",
       " 1764086\n",
       "   64320"
      ]
     },
     "execution_count": 2,
     "metadata": {},
     "output_type": "execute_result"
    }
   ],
   "source": [
    "# NCBI host metadata\n",
    "ncbi_metadata_file = joinpath(dirname(pwd()), \"metadata\", \"NCBI-virus-refseq.transformed.tsv\")\n",
    "ncbi_host_metadata = DataFrames.DataFrame(uCSV.read(ncbi_metadata_file, header=1, delim='\\t', encodings=Dict(\"false\" => false, \"true\" => true)))\n",
    "\n",
    "# ICTV host metadata\n",
    "ictv_metadata_file = joinpath(dirname(pwd()), \"metadata\", \"VMR_MSL38_v1 - VMR MSL38 v1.transformed.tsv\")\n",
    "ictv_host_metadata = DataFrames.DataFrame(uCSV.read(ictv_metadata_file, header=1, delim='\\t', typedetectrows=100))\n",
    "ictv_host_metadata = ictv_host_metadata[.!isempty.(ictv_host_metadata[!, \"taxid\"]), :]\n",
    "ictv_host_metadata[!, \"taxid\"] = parse.(Int, ictv_host_metadata[!, \"taxid\"])\n",
    "\n",
    "# # VirusHostDB metadata\n",
    "virushostdb_metadata_file = joinpath(dirname(pwd()), \"metadata\", \"virushostdb.transformed.tsv\")\n",
    "virushostdb_metadata = DataFrames.DataFrame(uCSV.read(virushostdb_metadata_file, header=1, delim='\\t', typedetectrows=1086, encodings=Dict(\"missing\" => missing, \"false\" => false, \"true\" => true)))\n",
    "\n",
    "vertebrate_taxids = union(\n",
    "    ictv_host_metadata[ictv_host_metadata[!, \"Host source\"] .== \"vertebrates\", \"taxid\"],\n",
    "    ncbi_host_metadata[ncbi_host_metadata[!, \"host_is_vertebrate\"], \"taxid\"],\n",
    "    virushostdb_metadata[virushostdb_metadata[!, \"host_is_vertebrate\"], \"virus_taxid\"]\n",
    ")\n",
    "\n",
    "human_taxids = union(\n",
    "    ncbi_host_metadata[ncbi_host_metadata[!, \"host_is_human\"], \"taxid\"],\n",
    "    virushostdb_metadata[virushostdb_metadata[!, \"host_is_human\"], \"virus_taxid\"]\n",
    ")"
   ]
  },
  {
   "cell_type": "code",
   "execution_count": 5,
   "id": "8cad9414-3ac2-4865-a861-0bd5b275bfcc",
   "metadata": {},
   "outputs": [
    {
     "data": {
      "text/plain": [
       "594-element Vector{String}:\n",
       " \"/oak/stanford/scg/lab_mpsnyder/\" ⋯ 39 bytes ⋯ \"e-discovery/data/SRA/SRR6399459\"\n",
       " \"/oak/stanford/scg/lab_mpsnyder/\" ⋯ 39 bytes ⋯ \"e-discovery/data/SRA/SRR6399460\"\n",
       " \"/oak/stanford/scg/lab_mpsnyder/\" ⋯ 39 bytes ⋯ \"e-discovery/data/SRA/SRR6399461\"\n",
       " \"/oak/stanford/scg/lab_mpsnyder/\" ⋯ 39 bytes ⋯ \"e-discovery/data/SRA/SRR6399462\"\n",
       " \"/oak/stanford/scg/lab_mpsnyder/\" ⋯ 39 bytes ⋯ \"e-discovery/data/SRA/SRR6399463\"\n",
       " \"/oak/stanford/scg/lab_mpsnyder/\" ⋯ 39 bytes ⋯ \"e-discovery/data/SRA/SRR6399464\"\n",
       " \"/oak/stanford/scg/lab_mpsnyder/\" ⋯ 39 bytes ⋯ \"e-discovery/data/SRA/SRR6399465\"\n",
       " \"/oak/stanford/scg/lab_mpsnyder/\" ⋯ 39 bytes ⋯ \"e-discovery/data/SRA/SRR6399466\"\n",
       " \"/oak/stanford/scg/lab_mpsnyder/\" ⋯ 39 bytes ⋯ \"e-discovery/data/SRA/SRR6399467\"\n",
       " \"/oak/stanford/scg/lab_mpsnyder/\" ⋯ 39 bytes ⋯ \"e-discovery/data/SRA/SRR6399468\"\n",
       " \"/oak/stanford/scg/lab_mpsnyder/\" ⋯ 39 bytes ⋯ \"e-discovery/data/SRA/SRR6399469\"\n",
       " \"/oak/stanford/scg/lab_mpsnyder/\" ⋯ 39 bytes ⋯ \"e-discovery/data/SRA/SRR6399470\"\n",
       " \"/oak/stanford/scg/lab_mpsnyder/\" ⋯ 39 bytes ⋯ \"e-discovery/data/SRA/SRR6399471\"\n",
       " ⋮\n",
       " \"/oak/stanford/scg/lab_mpsnyder/\" ⋯ 39 bytes ⋯ \"e-discovery/data/SRA/SRR7365474\"\n",
       " \"/oak/stanford/scg/lab_mpsnyder/\" ⋯ 39 bytes ⋯ \"e-discovery/data/SRA/SRR7365475\"\n",
       " \"/oak/stanford/scg/lab_mpsnyder/\" ⋯ 39 bytes ⋯ \"e-discovery/data/SRA/SRR7365476\"\n",
       " \"/oak/stanford/scg/lab_mpsnyder/\" ⋯ 39 bytes ⋯ \"e-discovery/data/SRA/SRR7365477\"\n",
       " \"/oak/stanford/scg/lab_mpsnyder/\" ⋯ 39 bytes ⋯ \"e-discovery/data/SRA/SRR7365478\"\n",
       " \"/oak/stanford/scg/lab_mpsnyder/\" ⋯ 39 bytes ⋯ \"e-discovery/data/SRA/SRR7365479\"\n",
       " \"/oak/stanford/scg/lab_mpsnyder/\" ⋯ 39 bytes ⋯ \"e-discovery/data/SRA/SRR7365480\"\n",
       " \"/oak/stanford/scg/lab_mpsnyder/\" ⋯ 39 bytes ⋯ \"e-discovery/data/SRA/SRR7365481\"\n",
       " \"/oak/stanford/scg/lab_mpsnyder/\" ⋯ 39 bytes ⋯ \"e-discovery/data/SRA/SRR7365482\"\n",
       " \"/oak/stanford/scg/lab_mpsnyder/\" ⋯ 39 bytes ⋯ \"e-discovery/data/SRA/SRR7365483\"\n",
       " \"/oak/stanford/scg/lab_mpsnyder/\" ⋯ 39 bytes ⋯ \"e-discovery/data/SRA/SRR7365484\"\n",
       " \"/oak/stanford/scg/lab_mpsnyder/\" ⋯ 39 bytes ⋯ \"e-discovery/data/SRA/SRR7365485\""
      ]
     },
     "execution_count": 5,
     "metadata": {},
     "output_type": "execute_result"
    }
   ],
   "source": [
    "data_dir = joinpath(dirname(pwd()), \"data\")\n",
    "sample_directories = filter(x -> !occursin(\".ipynb_checkpoints\", x), readdir(joinpath(data_dir, \"SRA\"), join=true))\n",
    "sample_directories = filter(x -> isfile(joinpath(x, \"megahit\", \"final.contigs.fastg.gfa.fna\")), sample_directories)"
   ]
  },
  {
   "cell_type": "code",
   "execution_count": 6,
   "id": "8eb6cce1-0484-4c7e-806a-5533ec5c1b14",
   "metadata": {},
   "outputs": [],
   "source": [
    "megablast_results = String[]\n",
    "blastn_results = String[]\n",
    "for sample_directory in sample_directories\n",
    "    blastn_directory = joinpath(sample_directory, \"blastn\")\n",
    "    for x in filter(x -> occursin(r\"\\.nt\\.megablast\\.txt$\", x), readdir(blastn_directory, join=true))\n",
    "        push!(megablast_results, x)\n",
    "    end\n",
    "    for x in filter(x -> occursin(r\"\\.nt\\.blastn\\.txt$\", x), readdir(blastn_directory, join=true))\n",
    "        push!(blastn_results, x)\n",
    "    end\n",
    "end"
   ]
  },
  {
   "cell_type": "code",
   "execution_count": 9,
   "id": "596df4fa-f1dc-4621-9947-22da7f1f48c7",
   "metadata": {},
   "outputs": [
    {
     "data": {
      "text/plain": [
       "Dict{String, DataType} with 30 entries:\n",
       "  \"q. end\"                 => Int64\n",
       "  \"query length\"           => Int64\n",
       "  \"subject tax ids\"        => String\n",
       "  \"subject title\"          => String\n",
       "  \"subject length\"         => Int64\n",
       "  \"subject blast names\"    => String\n",
       "  \"alignment length\"       => Int64\n",
       "  \"subject id\"             => String\n",
       "  \"bit score\"              => Float64\n",
       "  \"identical\"              => Int64\n",
       "  \"query title\"            => String\n",
       "  \"subject tax id\"         => Int64\n",
       "  \"% identity\"             => Float64\n",
       "  \"subject acc.ver\"        => String\n",
       "  \"subject blast name\"     => String\n",
       "  \"subject super kingdoms\" => String\n",
       "  \"query id\"               => String\n",
       "  \"s. start\"               => Int64\n",
       "  \"s. end\"                 => Int64\n",
       "  \"q. start\"               => Int64\n",
       "  \"subject super kingdom\"  => String\n",
       "  \"subject sci name\"       => String\n",
       "  \"mismatches\"             => Int64\n",
       "  \"score\"                  => Float64\n",
       "  \"subject acc.\"           => String\n",
       "  ⋮                        => ⋮"
      ]
     },
     "execution_count": 9,
     "metadata": {},
     "output_type": "execute_result"
    }
   ],
   "source": [
    "joint_blast_results_table = DataFrames.DataFrame()\n",
    "\n",
    "blast_col_types = Dict(\n",
    "    \"query id\" => String,\n",
    "    \"query title\" => String,\n",
    "    \"subject id\" => String,\n",
    "    \"subject gi\" => String,\n",
    "    \"subject acc.\" => String,\n",
    "    \"subject acc.ver\" => String,\n",
    "    \"subject title\" => String,\n",
    "    \"query length\" => Int,\n",
    "    \"subject length\" => Int,\n",
    "    \"q. start\" => Int,\n",
    "    \"q. end\" => Int,\n",
    "    \"s. start\" => Int,\n",
    "    \"s. end\" => Int,\n",
    "    \"evalue\" => Float64,\n",
    "    \"bit score\" => Float64,\n",
    "    \"score\" => Float64,\n",
    "    \"alignment length\" => Int,\n",
    "    \"% identity\" => Float64,\n",
    "    \"identical\" => Int,\n",
    "    \"mismatches\" => Int,\n",
    "    \"subject tax id\" => Int,\n",
    "    \"subject sci name\" => String,\n",
    "    \"subject com names\" => String,\n",
    "    \"subject blast name\" => String,\n",
    "    \"subject super kingdom\" => String,\n",
    "    \"subject tax ids\" => String,\n",
    "    \"subject sci names\" => String,\n",
    "    \"subject com names\" => String,\n",
    "    \"subject blast names\" => String,\n",
    "    \"subject super kingdoms\" => String,\n",
    "    \"subject title\" => String,\n",
    "    \"subject titles\" => String\n",
    ")"
   ]
  },
  {
   "cell_type": "code",
   "execution_count": null,
   "id": "6af3d414-3409-48ca-8aef-3918abdd3026",
   "metadata": {},
   "outputs": [],
   "source": [
    "grep -P \"fixed_string1|fixed_string2|...\" < input_file"
   ]
  },
  {
   "cell_type": "code",
   "execution_count": 13,
   "id": "1b8b9f30-3be2-4cfb-ad21-d73ad6e54da0",
   "metadata": {},
   "outputs": [
    {
     "data": {
      "text/plain": [
       "\"/oak/stanford/scg/lab_mpsnyder/cjprybol/Mycelia/projects/viral-exposome-discovery/data/SRA/SRR6399459/blastn/final.contigs.fastg.gfa.fna.blastn.nt.megablast.txt\""
      ]
     },
     "execution_count": 13,
     "metadata": {},
     "output_type": "execute_result"
    }
   ],
   "source": [
    "first(megablast_results)"
   ]
  },
  {
   "cell_type": "code",
   "execution_count": 11,
   "id": "13a9bb07-3d3a-462b-a6f4-94a474db9cc4",
   "metadata": {},
   "outputs": [
    {
     "ename": "LoadError",
     "evalue": "InterruptException:",
     "output_type": "error",
     "traceback": [
      "InterruptException:",
      "",
      "Stacktrace:",
      " [1] macro expansion",
      "   @ In[11]:8 [inlined]",
      " [2] top-level scope",
      "   @ ~/.julia/packages/ProgressMeter/vnCY0/src/ProgressMeter.jl:957"
     ]
    }
   ],
   "source": [
    "ProgressMeter.@showprogress for blast_report in megablast_results\n",
    "    header_line = first(Iterators.filter(x -> occursin(r\"# Fields:\", x), eachline(blast_report)))\n",
    "    header = split(last(split(header_line, \": \")), \", \")\n",
    "    viral_lines = String[]\n",
    "    for line in eachline(blast_report)\n",
    "        if !occursin(\"#\", line)\n",
    "            subject_tax_ids = map(x -> parse(Int, x), split(last(split(line, '\\t')), ';'))\n",
    "            if any(x -> x in human_taxids, subject_tax_ids)\n",
    "                push!(viral_lines, line)\n",
    "            end\n",
    "        end\n",
    "    end\n",
    "    data, _ = uCSV.read(IOBuffer(join(viral_lines, '\\n')), delim='\\t', typedetectrows=100, encodings=Dict(\"N/A\" => missing))\n",
    "    results_table = DataFrames.DataFrame(data, header)\n",
    "    results_table[!, \"method\"] .= \"megablast\"\n",
    "    results_table[!, \"sample\"] .= replace(basename(blast_report), \".bam.fasta.blastn.nt.megablast.txt\" => \"\")\n",
    "    append!(joint_blast_results_table, results_table, promote=true)\n",
    "end"
   ]
  },
  {
   "cell_type": "code",
   "execution_count": null,
   "id": "3f2e11dc-5ce7-4f7d-9a2f-e596b3d120ca",
   "metadata": {},
   "outputs": [],
   "source": [
    "ProgressMeter.@showprogress for blast_report in blastn_results\n",
    "    try\n",
    "        header_line = first(Iterators.filter(x -> occursin(r\"# Fields:\", x), eachline(blast_report)))\n",
    "        header = split(last(split(header_line, \": \")), \", \")\n",
    "        viral_lines = String[]\n",
    "        for line in eachline(blast_report)\n",
    "            if !occursin(\"#\", line)\n",
    "                subject_tax_ids = map(x -> parse(Int, x), split(last(split(line, '\\t')), ';'))\n",
    "                if any(x -> x in human_taxids, subject_tax_ids)\n",
    "                    push!(viral_lines, line)\n",
    "                end\n",
    "            end\n",
    "        end\n",
    "        data, _ = uCSV.read(IOBuffer(join(viral_lines, '\\n')), delim='\\t', types=[blast_col_types[h] for h in header])\n",
    "        results_table = DataFrames.DataFrame(data, header)\n",
    "        results_table[!, \"method\"] .= \"blastn\"\n",
    "        results_table[!, \"sample\"] .= replace(basename(blast_report), \".bam.fasta.blastn.nt.blastn.txt\" => \"\")\n",
    "        append!(joint_blast_results_table, results_table, promote=true)\n",
    "    catch\n",
    "        println(\"skipping $(blast_report)\")\n",
    "    end\n",
    "end"
   ]
  },
  {
   "cell_type": "code",
   "execution_count": null,
   "id": "ef4d11ae-0b37-40c0-a9b9-aad648bc2687",
   "metadata": {},
   "outputs": [],
   "source": [
    "StatsBase.describe(joint_blast_results_table[!, \"alignment length\"])"
   ]
  },
  {
   "cell_type": "code",
   "execution_count": null,
   "id": "d4447af5-c4fc-44b6-8156-88033c6358e5",
   "metadata": {},
   "outputs": [],
   "source": [
    "# StatsPlots.histogram(joint_blast_results_table[!, \"alignment length\"])"
   ]
  },
  {
   "cell_type": "code",
   "execution_count": null,
   "id": "62de6476-88ea-41c3-a15d-3aa8be54f576",
   "metadata": {},
   "outputs": [],
   "source": [
    "sort!(joint_blast_results_table, \"alignment length\", rev=true)"
   ]
  },
  {
   "cell_type": "code",
   "execution_count": null,
   "id": "72c1b85b-27de-484b-8b6c-75a933c435d1",
   "metadata": {},
   "outputs": [],
   "source": [
    "joint_blast_results_table_filtered = joint_blast_results_table[joint_blast_results_table[!, \"alignment length\"] .> 1000, :]"
   ]
  },
  {
   "cell_type": "code",
   "execution_count": null,
   "id": "f8520813-62a4-48e8-831e-8f81791dfa9c",
   "metadata": {},
   "outputs": [],
   "source": [
    "sequence_identifiers_of_interest = Set(unique(joint_blast_results_table_filtered[!, \"query id\"]))"
   ]
  },
  {
   "cell_type": "code",
   "execution_count": null,
   "id": "308cec2c-ba6d-4262-b2ae-53bf4822d50f",
   "metadata": {},
   "outputs": [],
   "source": [
    "fasta_sequences = []\n",
    "ProgressMeter.@showprogress for fasta_file in replace.(megablast_results, \".blastn.nt.megablast.txt\" => \"\")\n",
    "    for record in FASTX.FASTA.Reader(open(fasta_file))\n",
    "        if FASTX.identifier(record) in sequence_identifiers_of_interest\n",
    "            push!(fasta_sequences, record)\n",
    "        end\n",
    "    end\n",
    "end\n",
    "fasta_sequences"
   ]
  },
  {
   "cell_type": "code",
   "execution_count": null,
   "id": "2456e89d-390c-4243-b029-f87c8e8fef37",
   "metadata": {},
   "outputs": [],
   "source": [
    "# i = 1 labrador retriever\n",
    "# i = 2 unknown\n",
    "# i = 3 bacteriophage\n",
    "# i = 4 bacteriophage\n",
    "# i = 5 dog\n",
    "# i = 6 dog\n",
    "# i = 7 dog\n",
    "# i = 8 dog\n",
    "# i = 9 dog\n",
    "# i = 10 dog\n",
    "# i = 11 e. coli or e. coli phage\n",
    "# i = 12 e. coli or e. coli phage\n",
    "# i = 13 e. coli or e. coli phage\n",
    "# i = 14  e. coli or e. coli phage\n",
    "# i = 15  e. coli or e. coli phage\n",
    "# i = 16  e. coli or e. coli phage\n",
    "record = fasta_sequences[i]\n",
    "println(record)"
   ]
  },
  {
   "cell_type": "code",
   "execution_count": null,
   "id": "ea5210f5-22a1-4c56-ba7e-9412294d04a8",
   "metadata": {},
   "outputs": [],
   "source": [
    "# for x in sort(unique(joint_blast_results_table_filtered[!, \"subject title\"]))\n",
    "#     println(x)\n",
    "# end"
   ]
  },
  {
   "cell_type": "code",
   "execution_count": null,
   "id": "2cd31fbe-d509-498e-8eb9-41a01fd50ed0",
   "metadata": {},
   "outputs": [],
   "source": []
  }
 ],
 "metadata": {
  "kernelspec": {
   "display_name": "Julia 1.9.3",
   "language": "julia",
   "name": "julia-1.9"
  },
  "language_info": {
   "file_extension": ".jl",
   "mimetype": "application/julia",
   "name": "julia",
   "version": "1.9.3"
  }
 },
 "nbformat": 4,
 "nbformat_minor": 5
}
