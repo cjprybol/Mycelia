{
 "cells": [
  {
   "cell_type": "code",
   "execution_count": null,
   "id": "909f13b4-7e9d-429b-8b83-33c99af653c9",
   "metadata": {},
   "outputs": [],
   "source": [
    "data_dir = joinpath(dirname(pwd()), \"data\")"
   ]
  },
  {
   "cell_type": "code",
   "execution_count": null,
   "id": "e9551555-94c9-4c63-b1b1-eb3bcd4ac087",
   "metadata": {},
   "outputs": [],
   "source": [
    "# db_path = joinpath(blastdb_dir, blast_db)"
   ]
  },
  {
   "cell_type": "code",
   "execution_count": null,
   "id": "5685b842-daff-4e86-9235-4b8094979ca1",
   "metadata": {},
   "outputs": [],
   "source": [
    "sample_paths = filter(x -> !occursin(\".ipynb_checkpoints\", x), readdir(joinpath(data_dir, \"SRA\"), join=true))\n",
    "sample_paths = filter(x -> isfile(joinpath(x, \"megahit\", \"final.contigs.fastg.gfa.fna\")), sample_paths)"
   ]
  },
  {
   "cell_type": "code",
   "execution_count": null,
   "id": "10ce943a-2150-4401-a955-6083f7d84571",
   "metadata": {},
   "outputs": [],
   "source": [
    "memory=64\n",
    "threads=Int(memory//8)"
   ]
  },
  {
   "cell_type": "code",
   "execution_count": null,
   "id": "8aa2a040-84a8-4a98-a6e1-e79c2379fcea",
   "metadata": {},
   "outputs": [],
   "source": [
    "for sample_path in sample_paths\n",
    "    sample = basename(sample_path)\n",
    "    target_outfile = joinpath(sample_path, \"blastn\", \"final.contigs.fastg.gfa.fna.blastn.nt.megablast.txt\")\n",
    "    \n",
    "    if !isfile(target_outfile)\n",
    "        @show sample_path\n",
    "        @show sample\n",
    "        assembled_fasta = joinpath(sample_path, \"megahit\", \"final.contigs.fastg.gfa.fna\")    \n",
    "        cmd = \"julia $(homedir())/workspace/Mycelia/scripts/run-blastn.jl --fasta $(assembled_fasta) --blast_db nt --out_directory $(sample_path) --threads $(threads)\"\n",
    "        submission = \n",
    "        `sbatch \n",
    "        --mail-user=cameron.prybol@gmail.com\n",
    "        --mail-type=ALL\n",
    "        --error=%x-%j.err\n",
    "        --output=%x-%j.out\n",
    "        --partition=batch\n",
    "        --account=mpsnyder\n",
    "        --nodes=1\n",
    "        --ntasks=1\n",
    "        --time=1-00:00:00    \n",
    "        --cpus-per-task=$(threads)\n",
    "        --mem=$(memory)G\n",
    "        --job-name=blastn\n",
    "        --wrap $cmd\n",
    "        `\n",
    "        run(submission)\n",
    "    end\n",
    "end"
   ]
  }
 ],
 "metadata": {
  "kernelspec": {
   "display_name": "Julia 1.9.3",
   "language": "julia",
   "name": "julia-1.9"
  },
  "language_info": {
   "file_extension": ".jl",
   "mimetype": "application/julia",
   "name": "julia",
   "version": "1.9.3"
  }
 },
 "nbformat": 4,
 "nbformat_minor": 5
}
