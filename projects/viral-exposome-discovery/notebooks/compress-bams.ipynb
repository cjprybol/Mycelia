{
 "cells": [
  {
   "cell_type": "code",
   "execution_count": null,
   "id": "8a92e92f-1f3d-4a5a-b608-ae5dd2f66e36",
   "metadata": {},
   "outputs": [],
   "source": [
    "base_dir = dirname(pwd())"
   ]
  },
  {
   "cell_type": "code",
   "execution_count": null,
   "id": "525f76db-edd6-4dad-98b0-ec43c3ccc014",
   "metadata": {},
   "outputs": [],
   "source": [
    "readdir(base_dir)"
   ]
  },
  {
   "cell_type": "code",
   "execution_count": null,
   "id": "9af78a04-0b36-49c5-a5b9-76e351092fbe",
   "metadata": {},
   "outputs": [],
   "source": [
    "sra_dir = joinpath(base_dir, \"data\", \"SRA\")"
   ]
  },
  {
   "cell_type": "code",
   "execution_count": null,
   "id": "d1a36abe-8042-4b23-b5a2-dd6742f429b9",
   "metadata": {},
   "outputs": [],
   "source": [
    "srr_list = readdir(sra_dir)"
   ]
  },
  {
   "cell_type": "code",
   "execution_count": null,
   "id": "58cf0b11-f2c5-4d4a-87e2-57650f9a3ab7",
   "metadata": {},
   "outputs": [],
   "source": [
    "for srr in srr_list\n",
    "    srr_dir = joinpath(sra_dir, srr)\n",
    "    megahit_dir = joinpath(srr_dir, \"megahit\")\n",
    "    readdir(megahit_dir)\n",
    "    original_bam_file = joinpath(megahit_dir, \"final.contigs.fastg.gfa.fna.bwa.bam\")\n",
    "    current_file_size = filesize(original_bam_file) / 1e9\n",
    "    @show current_file_size\n",
    "    if current_file_size >= 20\n",
    "        compressed_bam = original_bam_file * \".compressed.bam\"\n",
    "        @time run(pipeline(`samtools view -bh $(original_bam_file)`, compressed_bam))\n",
    "        new_file_size = filesize(compressed_bam) / 1e9\n",
    "        @show new_file_size\n",
    "        if new_file_size < current_file_size\n",
    "            mv(compressed_bam, original_bam_file, force=true)\n",
    "        end\n",
    "    end\n",
    "end"
   ]
  }
 ],
 "metadata": {
  "kernelspec": {
   "display_name": "Julia 1.6.3",
   "language": "julia",
   "name": "julia-1.6"
  },
  "language_info": {
   "file_extension": ".jl",
   "mimetype": "application/julia",
   "name": "julia",
   "version": "1.6.3"
  }
 },
 "nbformat": 4,
 "nbformat_minor": 5
}
