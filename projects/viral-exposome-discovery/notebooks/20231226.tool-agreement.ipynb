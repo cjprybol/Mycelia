{
 "cells": [
  {
   "cell_type": "markdown",
   "id": "dc68ba2f-909a-4054-af66-e3cae6166403",
   "metadata": {},
   "source": [
    "The objective of this notebook is to load all of the 6 classifications:\n",
    "- mmseqs\n",
    "    - UniRef50\n",
    "    - UniRef90\n",
    "    - UniRef100\n",
    "    \n",
    "- genomand\n",
    "- kraken\n",
    "- blast\n",
    "\n",
    "- and then for each sample and each assembled contig, determine what the call was for each tool\n",
    "- visualize a correlation matrix showing the average agreement and disagreement rates between tools"
   ]
  },
  {
   "cell_type": "code",
   "execution_count": 1,
   "id": "28717f71-b8e6-49a1-a568-0e4b702c3c65",
   "metadata": {},
   "outputs": [
    {
     "name": "stderr",
     "output_type": "stream",
     "text": [
      "\u001b[36m\u001b[1m[ \u001b[22m\u001b[39m\u001b[36m\u001b[1mInfo: \u001b[22m\u001b[39mPrecompiling Mycelia [453d265d-8292-4a7b-a57c-dce3f9ae6acd]\n",
      "\u001b[36m\u001b[1m[ \u001b[22m\u001b[39m\u001b[36m\u001b[1mInfo: \u001b[22m\u001b[39mSkipping precompilation since __precompile__(false). Importing Mycelia [453d265d-8292-4a7b-a57c-dce3f9ae6acd].\n"
     ]
    }
   ],
   "source": [
    "import Pkg\n",
    "pkgs = [\n",
    "    \"Revise\",\n",
    "    \"DataFrames\",\n",
    "    \"StatsBase\",\n",
    "    \"ProgressMeter\",\n",
    "    \"uCSV\"\n",
    "]\n",
    "# Pkg.activate(; temp=true)\n",
    "# Pkg.add(pkgs)\n",
    "for pkg in pkgs\n",
    "    eval(Meta.parse(\"import $pkg\"))\n",
    "end\n",
    "import Mycelia"
   ]
  },
  {
   "cell_type": "code",
   "execution_count": null,
   "id": "dd4cce6b-0a88-4c5b-8bae-cdaf8201850e",
   "metadata": {},
   "outputs": [],
   "source": [
    "# load in metadata\n",
    "metadata_dir = joinpath(dirname(pwd()), \"metadata\")\n",
    "\n",
    "exposome_environmental_data = DataFrames.DataFrame(uCSV.read(\n",
    "    joinpath(metadata_dir, \"metadata_exposome.rds.tsv\"),\n",
    "    delim='\\t',\n",
    "    header=1,\n",
    "    typedetectrows=300\n",
    "))\n",
    "\n",
    "joint_sample_metadata = DataFrames.DataFrame(uCSV.read(\n",
    "    joinpath(metadata_dir, \"exposome/joint_sample_metadata.tsv\"),\n",
    "    delim='\\t',\n",
    "    header=1,\n",
    "    typedetectrows=300\n",
    "))\n",
    "\n",
    "@assert joint_sample_metadata[!, \"Library Name\"] == joint_sample_metadata[!, \"LibraryName\"]\n",
    "\n",
    "joint_metadata = DataFrames.innerjoin(\n",
    "    joint_sample_metadata,\n",
    "    exposome_environmental_data,\n",
    "    on=\"Library Name\" => \"samplenames\")"
   ]
  },
  {
   "cell_type": "code",
   "execution_count": 2,
   "id": "23109ba9-812c-4b56-a4d1-2ecb4a868dbf",
   "metadata": {},
   "outputs": [
    {
     "data": {
      "text/plain": [
       "594-element Vector{String}:\n",
       " \"/oak/stanford/scg/lab_mpsnyder/\" ⋯ 39 bytes ⋯ \"e-discovery/data/SRA/SRR6399459\"\n",
       " \"/oak/stanford/scg/lab_mpsnyder/\" ⋯ 39 bytes ⋯ \"e-discovery/data/SRA/SRR6399460\"\n",
       " \"/oak/stanford/scg/lab_mpsnyder/\" ⋯ 39 bytes ⋯ \"e-discovery/data/SRA/SRR6399461\"\n",
       " \"/oak/stanford/scg/lab_mpsnyder/\" ⋯ 39 bytes ⋯ \"e-discovery/data/SRA/SRR6399462\"\n",
       " \"/oak/stanford/scg/lab_mpsnyder/\" ⋯ 39 bytes ⋯ \"e-discovery/data/SRA/SRR6399463\"\n",
       " \"/oak/stanford/scg/lab_mpsnyder/\" ⋯ 39 bytes ⋯ \"e-discovery/data/SRA/SRR6399464\"\n",
       " \"/oak/stanford/scg/lab_mpsnyder/\" ⋯ 39 bytes ⋯ \"e-discovery/data/SRA/SRR6399465\"\n",
       " \"/oak/stanford/scg/lab_mpsnyder/\" ⋯ 39 bytes ⋯ \"e-discovery/data/SRA/SRR6399466\"\n",
       " \"/oak/stanford/scg/lab_mpsnyder/\" ⋯ 39 bytes ⋯ \"e-discovery/data/SRA/SRR6399467\"\n",
       " \"/oak/stanford/scg/lab_mpsnyder/\" ⋯ 39 bytes ⋯ \"e-discovery/data/SRA/SRR6399468\"\n",
       " \"/oak/stanford/scg/lab_mpsnyder/\" ⋯ 39 bytes ⋯ \"e-discovery/data/SRA/SRR6399469\"\n",
       " \"/oak/stanford/scg/lab_mpsnyder/\" ⋯ 39 bytes ⋯ \"e-discovery/data/SRA/SRR6399470\"\n",
       " \"/oak/stanford/scg/lab_mpsnyder/\" ⋯ 39 bytes ⋯ \"e-discovery/data/SRA/SRR6399471\"\n",
       " ⋮\n",
       " \"/oak/stanford/scg/lab_mpsnyder/\" ⋯ 39 bytes ⋯ \"e-discovery/data/SRA/SRR7365474\"\n",
       " \"/oak/stanford/scg/lab_mpsnyder/\" ⋯ 39 bytes ⋯ \"e-discovery/data/SRA/SRR7365475\"\n",
       " \"/oak/stanford/scg/lab_mpsnyder/\" ⋯ 39 bytes ⋯ \"e-discovery/data/SRA/SRR7365476\"\n",
       " \"/oak/stanford/scg/lab_mpsnyder/\" ⋯ 39 bytes ⋯ \"e-discovery/data/SRA/SRR7365477\"\n",
       " \"/oak/stanford/scg/lab_mpsnyder/\" ⋯ 39 bytes ⋯ \"e-discovery/data/SRA/SRR7365478\"\n",
       " \"/oak/stanford/scg/lab_mpsnyder/\" ⋯ 39 bytes ⋯ \"e-discovery/data/SRA/SRR7365479\"\n",
       " \"/oak/stanford/scg/lab_mpsnyder/\" ⋯ 39 bytes ⋯ \"e-discovery/data/SRA/SRR7365480\"\n",
       " \"/oak/stanford/scg/lab_mpsnyder/\" ⋯ 39 bytes ⋯ \"e-discovery/data/SRA/SRR7365481\"\n",
       " \"/oak/stanford/scg/lab_mpsnyder/\" ⋯ 39 bytes ⋯ \"e-discovery/data/SRA/SRR7365482\"\n",
       " \"/oak/stanford/scg/lab_mpsnyder/\" ⋯ 39 bytes ⋯ \"e-discovery/data/SRA/SRR7365483\"\n",
       " \"/oak/stanford/scg/lab_mpsnyder/\" ⋯ 39 bytes ⋯ \"e-discovery/data/SRA/SRR7365484\"\n",
       " \"/oak/stanford/scg/lab_mpsnyder/\" ⋯ 39 bytes ⋯ \"e-discovery/data/SRA/SRR7365485\""
      ]
     },
     "execution_count": 2,
     "metadata": {},
     "output_type": "execute_result"
    }
   ],
   "source": [
    "base_dir = dirname(pwd())\n",
    "data_dir = joinpath(base_dir, \"data\")\n",
    "sample_directories = readdir(joinpath(data_dir, \"SRA\"), join=true)"
   ]
  },
  {
   "cell_type": "code",
   "execution_count": 3,
   "id": "aa1a4e6e-e1f7-4da6-b41e-ac110d38a2e6",
   "metadata": {},
   "outputs": [
    {
     "data": {
      "text/plain": [
       "1782-element Vector{String}:\n",
       " \"/oak/stanford/scg/lab_mpsnyder/\" ⋯ 128 bytes ⋯ \"asy_taxonomy.UniRef100_lca.tsv\"\n",
       " \"/oak/stanford/scg/lab_mpsnyder/\" ⋯ 127 bytes ⋯ \"easy_taxonomy.UniRef50_lca.tsv\"\n",
       " \"/oak/stanford/scg/lab_mpsnyder/\" ⋯ 127 bytes ⋯ \"easy_taxonomy.UniRef90_lca.tsv\"\n",
       " \"/oak/stanford/scg/lab_mpsnyder/\" ⋯ 128 bytes ⋯ \"asy_taxonomy.UniRef100_lca.tsv\"\n",
       " \"/oak/stanford/scg/lab_mpsnyder/\" ⋯ 127 bytes ⋯ \"easy_taxonomy.UniRef50_lca.tsv\"\n",
       " \"/oak/stanford/scg/lab_mpsnyder/\" ⋯ 127 bytes ⋯ \"easy_taxonomy.UniRef90_lca.tsv\"\n",
       " \"/oak/stanford/scg/lab_mpsnyder/\" ⋯ 128 bytes ⋯ \"asy_taxonomy.UniRef100_lca.tsv\"\n",
       " \"/oak/stanford/scg/lab_mpsnyder/\" ⋯ 127 bytes ⋯ \"easy_taxonomy.UniRef50_lca.tsv\"\n",
       " \"/oak/stanford/scg/lab_mpsnyder/\" ⋯ 127 bytes ⋯ \"easy_taxonomy.UniRef90_lca.tsv\"\n",
       " \"/oak/stanford/scg/lab_mpsnyder/\" ⋯ 128 bytes ⋯ \"asy_taxonomy.UniRef100_lca.tsv\"\n",
       " \"/oak/stanford/scg/lab_mpsnyder/\" ⋯ 127 bytes ⋯ \"easy_taxonomy.UniRef50_lca.tsv\"\n",
       " \"/oak/stanford/scg/lab_mpsnyder/\" ⋯ 127 bytes ⋯ \"easy_taxonomy.UniRef90_lca.tsv\"\n",
       " \"/oak/stanford/scg/lab_mpsnyder/\" ⋯ 128 bytes ⋯ \"asy_taxonomy.UniRef100_lca.tsv\"\n",
       " ⋮\n",
       " \"/oak/stanford/scg/lab_mpsnyder/\" ⋯ 128 bytes ⋯ \"asy_taxonomy.UniRef100_lca.tsv\"\n",
       " \"/oak/stanford/scg/lab_mpsnyder/\" ⋯ 127 bytes ⋯ \"easy_taxonomy.UniRef50_lca.tsv\"\n",
       " \"/oak/stanford/scg/lab_mpsnyder/\" ⋯ 127 bytes ⋯ \"easy_taxonomy.UniRef90_lca.tsv\"\n",
       " \"/oak/stanford/scg/lab_mpsnyder/\" ⋯ 128 bytes ⋯ \"asy_taxonomy.UniRef100_lca.tsv\"\n",
       " \"/oak/stanford/scg/lab_mpsnyder/\" ⋯ 127 bytes ⋯ \"easy_taxonomy.UniRef50_lca.tsv\"\n",
       " \"/oak/stanford/scg/lab_mpsnyder/\" ⋯ 127 bytes ⋯ \"easy_taxonomy.UniRef90_lca.tsv\"\n",
       " \"/oak/stanford/scg/lab_mpsnyder/\" ⋯ 128 bytes ⋯ \"asy_taxonomy.UniRef100_lca.tsv\"\n",
       " \"/oak/stanford/scg/lab_mpsnyder/\" ⋯ 127 bytes ⋯ \"easy_taxonomy.UniRef50_lca.tsv\"\n",
       " \"/oak/stanford/scg/lab_mpsnyder/\" ⋯ 127 bytes ⋯ \"easy_taxonomy.UniRef90_lca.tsv\"\n",
       " \"/oak/stanford/scg/lab_mpsnyder/\" ⋯ 128 bytes ⋯ \"asy_taxonomy.UniRef100_lca.tsv\"\n",
       " \"/oak/stanford/scg/lab_mpsnyder/\" ⋯ 127 bytes ⋯ \"easy_taxonomy.UniRef50_lca.tsv\"\n",
       " \"/oak/stanford/scg/lab_mpsnyder/\" ⋯ 127 bytes ⋯ \"easy_taxonomy.UniRef90_lca.tsv\""
      ]
     },
     "execution_count": 3,
     "metadata": {},
     "output_type": "execute_result"
    }
   ],
   "source": [
    "easy_taxonomy_lca_reports = String[]\n",
    "for sample_directory in sample_directories\n",
    "    mmseqs_directory_contents = readdir(joinpath(sample_directory, \"mmseqs_easy_taxonomy\"), join=true)\n",
    "    sample_lca_reports = filter(x -> occursin(\"final.contigs.fastg.gfa.fna.mmseqs_easy_taxonomy.\", x) && occursin(\"_lca.tsv\", x), mmseqs_directory_contents)\n",
    "    append!(easy_taxonomy_lca_reports, sample_lca_reports)\n",
    "end\n",
    "easy_taxonomy_lca_reports"
   ]
  },
  {
   "cell_type": "code",
   "execution_count": 4,
   "id": "2bafcb1c-2741-4cd4-9b3f-8c84469eb27d",
   "metadata": {},
   "outputs": [
    {
     "name": "stderr",
     "output_type": "stream",
     "text": [
      "\u001b[32mProgress: 100%|█████████████████████████████████████████| Time: 0:05:00\u001b[39m\n"
     ]
    },
    {
     "data": {
      "text/html": [
       "<div><div style = \"float: left;\"><span>27612605×10 DataFrame</span></div><div style = \"float: right;\"><span style = \"font-style: italic;\">27612580 rows omitted</span></div><div style = \"clear: both;\"></div></div><div class = \"data-frame\" style = \"overflow-x: scroll;\"><table class = \"data-frame\" style = \"margin-bottom: 6px;\"><thead><tr class = \"header\"><th class = \"rowNumber\" style = \"font-weight: bold; text-align: right;\">Row</th><th style = \"text-align: left;\">contig_id</th><th style = \"text-align: left;\">taxon_id</th><th style = \"text-align: left;\">taxon_rank</th><th style = \"text-align: left;\">taxon_name</th><th style = \"text-align: left;\">fragments_retained</th><th style = \"text-align: left;\">fragments_taxonomically_assigned</th><th style = \"text-align: left;\">fragments_in_agreement_with_assignment</th><th style = \"text-align: left;\">support -log(E-value)</th><th style = \"text-align: left;\">sample</th><th style = \"text-align: left;\">method</th></tr><tr class = \"subheader headerLastRow\"><th class = \"rowNumber\" style = \"font-weight: bold; text-align: right;\"></th><th title = \"Int64\" style = \"text-align: left;\">Int64</th><th title = \"Int64\" style = \"text-align: left;\">Int64</th><th title = \"String\" style = \"text-align: left;\">String</th><th title = \"String\" style = \"text-align: left;\">String</th><th title = \"Int64\" style = \"text-align: left;\">Int64</th><th title = \"Int64\" style = \"text-align: left;\">Int64</th><th title = \"Int64\" style = \"text-align: left;\">Int64</th><th title = \"Float64\" style = \"text-align: left;\">Float64</th><th title = \"String\" style = \"text-align: left;\">String</th><th title = \"String\" style = \"text-align: left;\">String</th></tr></thead><tbody><tr><td class = \"rowNumber\" style = \"font-weight: bold; text-align: right;\">1</td><td style = \"text-align: right;\">6611</td><td style = \"text-align: right;\">147550</td><td style = \"text-align: left;\">class</td><td style = \"text-align: left;\">Sordariomycetes</td><td style = \"text-align: right;\">1</td><td style = \"text-align: right;\">1</td><td style = \"text-align: right;\">1</td><td style = \"text-align: right;\">1.0</td><td style = \"text-align: left;\">SRR6399459</td><td style = \"text-align: left;\">mmseqs_easy_taxonomy.UniRef100</td></tr><tr><td class = \"rowNumber\" style = \"font-weight: bold; text-align: right;\">2</td><td style = \"text-align: right;\">6612</td><td style = \"text-align: right;\">229535</td><td style = \"text-align: left;\">species</td><td style = \"text-align: left;\">Penicillium nordicum</td><td style = \"text-align: right;\">1</td><td style = \"text-align: right;\">1</td><td style = \"text-align: right;\">1</td><td style = \"text-align: right;\">1.0</td><td style = \"text-align: left;\">SRR6399459</td><td style = \"text-align: left;\">mmseqs_easy_taxonomy.UniRef100</td></tr><tr><td class = \"rowNumber\" style = \"font-weight: bold; text-align: right;\">3</td><td style = \"text-align: right;\">6617</td><td style = \"text-align: right;\">470</td><td style = \"text-align: left;\">species</td><td style = \"text-align: left;\">Acinetobacter baumannii</td><td style = \"text-align: right;\">1</td><td style = \"text-align: right;\">1</td><td style = \"text-align: right;\">1</td><td style = \"text-align: right;\">1.0</td><td style = \"text-align: left;\">SRR6399459</td><td style = \"text-align: left;\">mmseqs_easy_taxonomy.UniRef100</td></tr><tr><td class = \"rowNumber\" style = \"font-weight: bold; text-align: right;\">4</td><td style = \"text-align: right;\">6620</td><td style = \"text-align: right;\">9597</td><td style = \"text-align: left;\">species</td><td style = \"text-align: left;\">Pan paniscus</td><td style = \"text-align: right;\">3</td><td style = \"text-align: right;\">2</td><td style = \"text-align: right;\">1</td><td style = \"text-align: right;\">0.61</td><td style = \"text-align: left;\">SRR6399459</td><td style = \"text-align: left;\">mmseqs_easy_taxonomy.UniRef100</td></tr><tr><td class = \"rowNumber\" style = \"font-weight: bold; text-align: right;\">5</td><td style = \"text-align: right;\">6621</td><td style = \"text-align: right;\">469</td><td style = \"text-align: left;\">genus</td><td style = \"text-align: left;\">Acinetobacter</td><td style = \"text-align: right;\">1</td><td style = \"text-align: right;\">1</td><td style = \"text-align: right;\">1</td><td style = \"text-align: right;\">1.0</td><td style = \"text-align: left;\">SRR6399459</td><td style = \"text-align: left;\">mmseqs_easy_taxonomy.UniRef100</td></tr><tr><td class = \"rowNumber\" style = \"font-weight: bold; text-align: right;\">6</td><td style = \"text-align: right;\">6622</td><td style = \"text-align: right;\">286661</td><td style = \"text-align: left;\">species</td><td style = \"text-align: left;\">Peltaster fructicola</td><td style = \"text-align: right;\">3</td><td style = \"text-align: right;\">3</td><td style = \"text-align: right;\">1</td><td style = \"text-align: right;\">0.91</td><td style = \"text-align: left;\">SRR6399459</td><td style = \"text-align: left;\">mmseqs_easy_taxonomy.UniRef100</td></tr><tr><td class = \"rowNumber\" style = \"font-weight: bold; text-align: right;\">7</td><td style = \"text-align: right;\">6623</td><td style = \"text-align: right;\">207598</td><td style = \"text-align: left;\">subfamily</td><td style = \"text-align: left;\">Homininae</td><td style = \"text-align: right;\">5</td><td style = \"text-align: right;\">5</td><td style = \"text-align: right;\">3</td><td style = \"text-align: right;\">0.61</td><td style = \"text-align: left;\">SRR6399459</td><td style = \"text-align: left;\">mmseqs_easy_taxonomy.UniRef100</td></tr><tr><td class = \"rowNumber\" style = \"font-weight: bold; text-align: right;\">8</td><td style = \"text-align: right;\">6625</td><td style = \"text-align: right;\">5139</td><td style = \"text-align: left;\">order</td><td style = \"text-align: left;\">Sordariales</td><td style = \"text-align: right;\">1</td><td style = \"text-align: right;\">1</td><td style = \"text-align: right;\">1</td><td style = \"text-align: right;\">1.0</td><td style = \"text-align: left;\">SRR6399459</td><td style = \"text-align: left;\">mmseqs_easy_taxonomy.UniRef100</td></tr><tr><td class = \"rowNumber\" style = \"font-weight: bold; text-align: right;\">9</td><td style = \"text-align: right;\">6626</td><td style = \"text-align: right;\">1</td><td style = \"text-align: left;\">no rank</td><td style = \"text-align: left;\">root</td><td style = \"text-align: right;\">5</td><td style = \"text-align: right;\">4</td><td style = \"text-align: right;\">4</td><td style = \"text-align: right;\">1.0</td><td style = \"text-align: left;\">SRR6399459</td><td style = \"text-align: left;\">mmseqs_easy_taxonomy.UniRef100</td></tr><tr><td class = \"rowNumber\" style = \"font-weight: bold; text-align: right;\">10</td><td style = \"text-align: right;\">6628</td><td style = \"text-align: right;\">222544</td><td style = \"text-align: left;\">subclass</td><td style = \"text-align: left;\">Sordariomycetidae</td><td style = \"text-align: right;\">8</td><td style = \"text-align: right;\">6</td><td style = \"text-align: right;\">4</td><td style = \"text-align: right;\">0.75</td><td style = \"text-align: left;\">SRR6399459</td><td style = \"text-align: left;\">mmseqs_easy_taxonomy.UniRef100</td></tr><tr><td class = \"rowNumber\" style = \"font-weight: bold; text-align: right;\">11</td><td style = \"text-align: right;\">2542</td><td style = \"text-align: right;\">117571</td><td style = \"text-align: left;\">clade</td><td style = \"text-align: left;\">Euteleostomi</td><td style = \"text-align: right;\">4</td><td style = \"text-align: right;\">4</td><td style = \"text-align: right;\">4</td><td style = \"text-align: right;\">1.0</td><td style = \"text-align: left;\">SRR6399459</td><td style = \"text-align: left;\">mmseqs_easy_taxonomy.UniRef100</td></tr><tr><td class = \"rowNumber\" style = \"font-weight: bold; text-align: right;\">12</td><td style = \"text-align: right;\">2545</td><td style = \"text-align: right;\">2</td><td style = \"text-align: left;\">superkingdom</td><td style = \"text-align: left;\">Bacteria</td><td style = \"text-align: right;\">5</td><td style = \"text-align: right;\">5</td><td style = \"text-align: right;\">5</td><td style = \"text-align: right;\">1.0</td><td style = \"text-align: left;\">SRR6399459</td><td style = \"text-align: left;\">mmseqs_easy_taxonomy.UniRef100</td></tr><tr><td class = \"rowNumber\" style = \"font-weight: bold; text-align: right;\">13</td><td style = \"text-align: right;\">2547</td><td style = \"text-align: right;\">469</td><td style = \"text-align: left;\">genus</td><td style = \"text-align: left;\">Acinetobacter</td><td style = \"text-align: right;\">3</td><td style = \"text-align: right;\">2</td><td style = \"text-align: right;\">2</td><td style = \"text-align: right;\">1.0</td><td style = \"text-align: left;\">SRR6399459</td><td style = \"text-align: left;\">mmseqs_easy_taxonomy.UniRef100</td></tr><tr><td style = \"text-align: right;\">&vellip;</td><td style = \"text-align: right;\">&vellip;</td><td style = \"text-align: right;\">&vellip;</td><td style = \"text-align: right;\">&vellip;</td><td style = \"text-align: right;\">&vellip;</td><td style = \"text-align: right;\">&vellip;</td><td style = \"text-align: right;\">&vellip;</td><td style = \"text-align: right;\">&vellip;</td><td style = \"text-align: right;\">&vellip;</td><td style = \"text-align: right;\">&vellip;</td><td style = \"text-align: right;\">&vellip;</td></tr><tr><td class = \"rowNumber\" style = \"font-weight: bold; text-align: right;\">27612594</td><td style = \"text-align: right;\">7152</td><td style = \"text-align: right;\">104408</td><td style = \"text-align: left;\">species</td><td style = \"text-align: left;\">Naganishia liquefaciens</td><td style = \"text-align: right;\">2</td><td style = \"text-align: right;\">2</td><td style = \"text-align: right;\">2</td><td style = \"text-align: right;\">1.0</td><td style = \"text-align: left;\">SRR7365485</td><td style = \"text-align: left;\">mmseqs_easy_taxonomy.UniRef90</td></tr><tr><td class = \"rowNumber\" style = \"font-weight: bold; text-align: right;\">27612595</td><td style = \"text-align: right;\">7154</td><td style = \"text-align: right;\">1161412</td><td style = \"text-align: left;\">species</td><td style = \"text-align: left;\">Prevotella sp. ICM33</td><td style = \"text-align: right;\">2</td><td style = \"text-align: right;\">2</td><td style = \"text-align: right;\">1</td><td style = \"text-align: right;\">0.81</td><td style = \"text-align: left;\">SRR7365485</td><td style = \"text-align: left;\">mmseqs_easy_taxonomy.UniRef90</td></tr><tr><td class = \"rowNumber\" style = \"font-weight: bold; text-align: right;\">27612596</td><td style = \"text-align: right;\">7311</td><td style = \"text-align: right;\">587735</td><td style = \"text-align: left;\">species</td><td style = \"text-align: left;\">Jeotgalibacillus terrae</td><td style = \"text-align: right;\">1</td><td style = \"text-align: right;\">1</td><td style = \"text-align: right;\">1</td><td style = \"text-align: right;\">1.0</td><td style = \"text-align: left;\">SRR7365485</td><td style = \"text-align: left;\">mmseqs_easy_taxonomy.UniRef90</td></tr><tr><td class = \"rowNumber\" style = \"font-weight: bold; text-align: right;\">27612597</td><td style = \"text-align: right;\">7312</td><td style = \"text-align: right;\">5073</td><td style = \"text-align: left;\">genus</td><td style = \"text-align: left;\">Penicillium</td><td style = \"text-align: right;\">1</td><td style = \"text-align: right;\">1</td><td style = \"text-align: right;\">1</td><td style = \"text-align: right;\">1.0</td><td style = \"text-align: left;\">SRR7365485</td><td style = \"text-align: left;\">mmseqs_easy_taxonomy.UniRef90</td></tr><tr><td class = \"rowNumber\" style = \"font-weight: bold; text-align: right;\">27612598</td><td style = \"text-align: right;\">7313</td><td style = \"text-align: right;\">1</td><td style = \"text-align: left;\">no rank</td><td style = \"text-align: left;\">root</td><td style = \"text-align: right;\">1</td><td style = \"text-align: right;\">1</td><td style = \"text-align: right;\">1</td><td style = \"text-align: right;\">1.0</td><td style = \"text-align: left;\">SRR7365485</td><td style = \"text-align: left;\">mmseqs_easy_taxonomy.UniRef90</td></tr><tr><td class = \"rowNumber\" style = \"font-weight: bold; text-align: right;\">27612599</td><td style = \"text-align: right;\">7316</td><td style = \"text-align: right;\">91061</td><td style = \"text-align: left;\">class</td><td style = \"text-align: left;\">Bacilli</td><td style = \"text-align: right;\">1</td><td style = \"text-align: right;\">1</td><td style = \"text-align: right;\">1</td><td style = \"text-align: right;\">1.0</td><td style = \"text-align: left;\">SRR7365485</td><td style = \"text-align: left;\">mmseqs_easy_taxonomy.UniRef90</td></tr><tr><td class = \"rowNumber\" style = \"font-weight: bold; text-align: right;\">27612600</td><td style = \"text-align: right;\">732</td><td style = \"text-align: right;\">314293</td><td style = \"text-align: left;\">infraorder</td><td style = \"text-align: left;\">Simiiformes</td><td style = \"text-align: right;\">8</td><td style = \"text-align: right;\">8</td><td style = \"text-align: right;\">5</td><td style = \"text-align: right;\">0.57</td><td style = \"text-align: left;\">SRR7365485</td><td style = \"text-align: left;\">mmseqs_easy_taxonomy.UniRef90</td></tr><tr><td class = \"rowNumber\" style = \"font-weight: bold; text-align: right;\">27612601</td><td style = \"text-align: right;\">7320</td><td style = \"text-align: right;\">2</td><td style = \"text-align: left;\">superkingdom</td><td style = \"text-align: left;\">Bacteria</td><td style = \"text-align: right;\">6</td><td style = \"text-align: right;\">6</td><td style = \"text-align: right;\">6</td><td style = \"text-align: right;\">1.0</td><td style = \"text-align: left;\">SRR7365485</td><td style = \"text-align: left;\">mmseqs_easy_taxonomy.UniRef90</td></tr><tr><td class = \"rowNumber\" style = \"font-weight: bold; text-align: right;\">27612602</td><td style = \"text-align: right;\">7321</td><td style = \"text-align: right;\">9528</td><td style = \"text-align: left;\">subfamily</td><td style = \"text-align: left;\">Cercopithecinae</td><td style = \"text-align: right;\">5</td><td style = \"text-align: right;\">5</td><td style = \"text-align: right;\">2</td><td style = \"text-align: right;\">0.53</td><td style = \"text-align: left;\">SRR7365485</td><td style = \"text-align: left;\">mmseqs_easy_taxonomy.UniRef90</td></tr><tr><td class = \"rowNumber\" style = \"font-weight: bold; text-align: right;\">27612603</td><td style = \"text-align: right;\">7322</td><td style = \"text-align: right;\">104408</td><td style = \"text-align: left;\">species</td><td style = \"text-align: left;\">Naganishia liquefaciens</td><td style = \"text-align: right;\">2</td><td style = \"text-align: right;\">2</td><td style = \"text-align: right;\">2</td><td style = \"text-align: right;\">1.0</td><td style = \"text-align: left;\">SRR7365485</td><td style = \"text-align: left;\">mmseqs_easy_taxonomy.UniRef90</td></tr><tr><td class = \"rowNumber\" style = \"font-weight: bold; text-align: right;\">27612604</td><td style = \"text-align: right;\">7324</td><td style = \"text-align: right;\">186817</td><td style = \"text-align: left;\">family</td><td style = \"text-align: left;\">Bacillaceae</td><td style = \"text-align: right;\">2</td><td style = \"text-align: right;\">2</td><td style = \"text-align: right;\">2</td><td style = \"text-align: right;\">1.0</td><td style = \"text-align: left;\">SRR7365485</td><td style = \"text-align: left;\">mmseqs_easy_taxonomy.UniRef90</td></tr><tr><td class = \"rowNumber\" style = \"font-weight: bold; text-align: right;\">27612605</td><td style = \"text-align: right;\">7325</td><td style = \"text-align: right;\">131567</td><td style = \"text-align: left;\">no rank</td><td style = \"text-align: left;\">cellular organisms</td><td style = \"text-align: right;\">3</td><td style = \"text-align: right;\">3</td><td style = \"text-align: right;\">3</td><td style = \"text-align: right;\">1.0</td><td style = \"text-align: left;\">SRR7365485</td><td style = \"text-align: left;\">mmseqs_easy_taxonomy.UniRef90</td></tr></tbody></table></div>"
      ],
      "text/latex": [
       "\\begin{tabular}{r|ccccc}\n",
       "\t& contig\\_id & taxon\\_id & taxon\\_rank & taxon\\_name & \\\\\n",
       "\t\\hline\n",
       "\t& Int64 & Int64 & String & String & \\\\\n",
       "\t\\hline\n",
       "\t1 & 6611 & 147550 & class & Sordariomycetes & $\\dots$ \\\\\n",
       "\t2 & 6612 & 229535 & species & Penicillium nordicum & $\\dots$ \\\\\n",
       "\t3 & 6617 & 470 & species & Acinetobacter baumannii & $\\dots$ \\\\\n",
       "\t4 & 6620 & 9597 & species & Pan paniscus & $\\dots$ \\\\\n",
       "\t5 & 6621 & 469 & genus & Acinetobacter & $\\dots$ \\\\\n",
       "\t6 & 6622 & 286661 & species & Peltaster fructicola & $\\dots$ \\\\\n",
       "\t7 & 6623 & 207598 & subfamily & Homininae & $\\dots$ \\\\\n",
       "\t8 & 6625 & 5139 & order & Sordariales & $\\dots$ \\\\\n",
       "\t9 & 6626 & 1 & no rank & root & $\\dots$ \\\\\n",
       "\t10 & 6628 & 222544 & subclass & Sordariomycetidae & $\\dots$ \\\\\n",
       "\t11 & 2542 & 117571 & clade & Euteleostomi & $\\dots$ \\\\\n",
       "\t12 & 2545 & 2 & superkingdom & Bacteria & $\\dots$ \\\\\n",
       "\t13 & 2547 & 469 & genus & Acinetobacter & $\\dots$ \\\\\n",
       "\t14 & 2549 & 470 & species & Acinetobacter baumannii & $\\dots$ \\\\\n",
       "\t15 & 255 & 1380685 & species & Kroppenstedtia pulmonis & $\\dots$ \\\\\n",
       "\t16 & 2550 & 1428 & species & Bacillus thuringiensis & $\\dots$ \\\\\n",
       "\t17 & 2552 & 716546 & clade & leotiomyceta & $\\dots$ \\\\\n",
       "\t18 & 2553 & 909768 & species group & Acinetobacter calcoaceticus/baumannii complex & $\\dots$ \\\\\n",
       "\t19 & 2554 & 469 & genus & Acinetobacter & $\\dots$ \\\\\n",
       "\t20 & 2555 & 155619 & class & Agaricomycetes & $\\dots$ \\\\\n",
       "\t21 & 6239 & 469 & genus & Acinetobacter & $\\dots$ \\\\\n",
       "\t22 & 6240 & 167371 & species & Phellinidium pouzarii & $\\dots$ \\\\\n",
       "\t23 & 6242 & 147550 & class & Sordariomycetes & $\\dots$ \\\\\n",
       "\t24 & 6243 & 2070413 & species & Rutstroemia sp. NJR-2017a BVV2 & $\\dots$ \\\\\n",
       "\t25 & 6244 & 9526 & parvorder & Catarrhini & $\\dots$ \\\\\n",
       "\t26 & 6245 & 5073 & genus & Penicillium & $\\dots$ \\\\\n",
       "\t27 & 6246 & 9544 & species & Macaca mulatta & $\\dots$ \\\\\n",
       "\t28 & 6247 & 470 & species & Acinetobacter baumannii & $\\dots$ \\\\\n",
       "\t29 & 6249 & 9526 & parvorder & Catarrhini & $\\dots$ \\\\\n",
       "\t30 & 6250 & 1432307 & strain & Sclerotinia borealis F-4128 & $\\dots$ \\\\\n",
       "\t$\\dots$ & $\\dots$ & $\\dots$ & $\\dots$ & $\\dots$ &  \\\\\n",
       "\\end{tabular}\n"
      ],
      "text/plain": [
       "\u001b[1m27612605×10 DataFrame\u001b[0m\n",
       "\u001b[1m      Row \u001b[0m│\u001b[1m contig_id \u001b[0m\u001b[1m taxon_id \u001b[0m\u001b[1m taxon_rank   \u001b[0m\u001b[1m taxon_name              \u001b[0m\u001b[1m fragme\u001b[0m ⋯\n",
       "          │\u001b[90m Int64     \u001b[0m\u001b[90m Int64    \u001b[0m\u001b[90m String       \u001b[0m\u001b[90m String                  \u001b[0m\u001b[90m Int64 \u001b[0m ⋯\n",
       "──────────┼─────────────────────────────────────────────────────────────────────\n",
       "        1 │      6611    147550  class         Sordariomycetes                 ⋯\n",
       "        2 │      6612    229535  species       Penicillium nordicum\n",
       "        3 │      6617       470  species       Acinetobacter baumannii\n",
       "        4 │      6620      9597  species       Pan paniscus\n",
       "        5 │      6621       469  genus         Acinetobacter                   ⋯\n",
       "        6 │      6622    286661  species       Peltaster fructicola\n",
       "        7 │      6623    207598  subfamily     Homininae\n",
       "        8 │      6625      5139  order         Sordariales\n",
       "        9 │      6626         1  no rank       root                            ⋯\n",
       "       10 │      6628    222544  subclass      Sordariomycetidae\n",
       "       11 │      2542    117571  clade         Euteleostomi\n",
       "    ⋮     │     ⋮         ⋮           ⋮                   ⋮                    ⋱\n",
       " 27612596 │      7311    587735  species       Jeotgalibacillus terrae\n",
       " 27612597 │      7312      5073  genus         Penicillium                     ⋯\n",
       " 27612598 │      7313         1  no rank       root\n",
       " 27612599 │      7316     91061  class         Bacilli\n",
       " 27612600 │       732    314293  infraorder    Simiiformes\n",
       " 27612601 │      7320         2  superkingdom  Bacteria                        ⋯\n",
       " 27612602 │      7321      9528  subfamily     Cercopithecinae\n",
       " 27612603 │      7322    104408  species       Naganishia liquefaciens\n",
       " 27612604 │      7324    186817  family        Bacillaceae\n",
       " 27612605 │      7325    131567  no rank       cellular organisms              ⋯\n",
       "\u001b[36m                                             6 columns and 27612584 rows omitted\u001b[0m"
      ]
     },
     "execution_count": 4,
     "metadata": {},
     "output_type": "execute_result"
    }
   ],
   "source": [
    "joint_lca_table = DataFrames.DataFrame()\n",
    "ProgressMeter.@showprogress for lca_tsv in easy_taxonomy_lca_reports\n",
    "    method = replace(replace(basename(lca_tsv), \"final.contigs.fastg.gfa.fna.\" => \"\"), \"_lca.tsv\" => \"\")\n",
    "    # @show method\n",
    "    this_lca_table = Mycelia.parse_mmseqs_easy_taxonomy_lca_tsv(lca_tsv)\n",
    "    this_lca_table[!, \"sample\"] .= basename(dirname(dirname(lca_tsv)))\n",
    "    this_lca_table[!, \"method\"] .= method\n",
    "    append!(joint_lca_table, this_lca_table)\n",
    "end\n",
    "joint_lca_table"
   ]
  },
  {
   "cell_type": "code",
   "execution_count": null,
   "id": "359f9ca6-b5fe-46a8-b5d8-2d05e21815dc",
   "metadata": {},
   "outputs": [],
   "source": []
  }
 ],
 "metadata": {
  "kernelspec": {
   "display_name": "Julia 1.9.3",
   "language": "julia",
   "name": "julia-1.9"
  },
  "language_info": {
   "file_extension": ".jl",
   "mimetype": "application/julia",
   "name": "julia",
   "version": "1.9.3"
  }
 },
 "nbformat": 4,
 "nbformat_minor": 5
}
