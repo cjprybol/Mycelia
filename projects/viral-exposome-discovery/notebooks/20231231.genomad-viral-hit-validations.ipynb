{
 "cells": [
  {
   "cell_type": "code",
   "execution_count": null,
   "id": "b1ec3ac0-e197-418f-86be-f2e8a5fadb82",
   "metadata": {},
   "outputs": [],
   "source": [
    "# run(`conda create --channel conda-forge --channel bioconda --channel defaults --strict-channel-priority --name blast blast`)\n",
    "# run(`conda create --channel conda-forge --channel bioconda --channel defaults --strict-channel-priority --name taxonkit taxonkit`)"
   ]
  },
  {
   "cell_type": "code",
   "execution_count": null,
   "id": "c17e93fe-d82c-45fa-8fee-1e86d080538c",
   "metadata": {},
   "outputs": [],
   "source": [
    "import Pkg\n",
    "pkgs = [\n",
    "    \"Revise\",\n",
    "    \"DataFrames\",\n",
    "    \"uCSV\",\n",
    "    \"StatsPlots\",\n",
    "    \"StatsBase\",\n",
    "    \"FreqTables\",\n",
    "    \"Conda\",\n",
    "    \"ProgressMeter\",\n",
    "    \"PrettyTables\",\n",
    "    \"Distances\",\n",
    "    \"Statistics\",\n",
    "    \"Kmers\"\n",
    "]\n",
    "# Pkg.add(pkgs)\n",
    "for pkg in pkgs\n",
    "    eval(Meta.parse(\"import $pkg\"))\n",
    "end\n",
    "import Mycelia"
   ]
  },
  {
   "cell_type": "code",
   "execution_count": null,
   "id": "6acc8f99-b7d5-4460-92cc-10ed09c64177",
   "metadata": {},
   "outputs": [],
   "source": [
    "base_dir = dirname(pwd())\n",
    "data_dir = joinpath(base_dir, \"data\")\n",
    "results_dir = joinpath(data_dir, \"results\")\n",
    "\n",
    "# load in metadata\n",
    "metadata_dir = joinpath(dirname(pwd()), \"metadata\")\n",
    "\n",
    "exposome_environmental_data = DataFrames.DataFrame(uCSV.read(\n",
    "    joinpath(metadata_dir, \"metadata_exposome.rds.tsv\"),\n",
    "    delim='\\t',\n",
    "    header=1,\n",
    "    typedetectrows=300\n",
    "))\n",
    "\n",
    "joint_sample_metadata = DataFrames.DataFrame(uCSV.read(\n",
    "    joinpath(metadata_dir, \"exposome/joint_sample_metadata.tsv\"),\n",
    "    delim='\\t',\n",
    "    header=1,\n",
    "    typedetectrows=300\n",
    "))\n",
    "\n",
    "@assert joint_sample_metadata[!, \"Library Name\"] == joint_sample_metadata[!, \"LibraryName\"]\n",
    "\n",
    "joint_metadata = DataFrames.innerjoin(\n",
    "    joint_sample_metadata,\n",
    "    exposome_environmental_data,\n",
    "    on=\"Library Name\" => \"samplenames\")\n",
    "\n",
    "sample_directories = joinpath.(data_dir, \"SRA\", joint_metadata[!, \"Run\"])"
   ]
  },
  {
   "cell_type": "code",
   "execution_count": null,
   "id": "63c59f16-14e7-49a2-af66-4ebff7900b04",
   "metadata": {},
   "outputs": [],
   "source": [
    "viral_contigs_by_tool = Dict{String, Dict{String, Set{String}}}()"
   ]
  },
  {
   "cell_type": "code",
   "execution_count": null,
   "id": "f33c8913-6313-494e-aa11-bd1b30208e17",
   "metadata": {},
   "outputs": [],
   "source": [
    "joint_genomad_results = DataFrames.DataFrame()\n",
    "# sample_directory = first(sample_directories)\n",
    "ProgressMeter.@showprogress for sample_directory in sample_directories\n",
    "    genomad_virus_summary = joinpath(sample_directory, \"genomad\", \"final.contigs.fastg.gfa_summary\", \"final.contigs.fastg.gfa_virus_summary.tsv\")\n",
    "    genomad_results = DataFrames.DataFrame(uCSV.read(genomad_virus_summary, delim='\\t', header=1, typedetectrows=100)...)\n",
    "    genomad_results[!, \"sample_id\"] .= basename(sample_directory)\n",
    "    append!(joint_genomad_results, genomad_results, promote=true)\n",
    "end\n",
    "joint_genomad_results[!, \"seq_name\"] = string.(joint_genomad_results[!, \"seq_name\"])\n",
    "joint_genomad_results"
   ]
  },
  {
   "cell_type": "code",
   "execution_count": null,
   "id": "e5968f35-50d8-49f2-9a6c-fc356ca87a13",
   "metadata": {},
   "outputs": [],
   "source": [
    "viral_contigs_by_tool[\"genomad\"] = Dict{String, Set{String}}()\n",
    "for gdf in DataFrames.groupby(joint_genomad_results, \"sample_id\")\n",
    "    sample_id = gdf[1, \"sample_id\"]\n",
    "    viral_contigs_by_tool[\"genomad\"][sample_id] = Set()\n",
    "    for row in DataFrames.eachrow(gdf)\n",
    "        push!(viral_contigs_by_tool[\"genomad\"][sample_id], row[\"seq_name\"])\n",
    "    end\n",
    "end\n",
    "viral_contigs_by_tool[\"genomad\"]"
   ]
  },
  {
   "cell_type": "code",
   "execution_count": null,
   "id": "0609f79c-54bf-48ff-8603-4abebe5c7220",
   "metadata": {},
   "outputs": [],
   "source": [
    "blast_task = \"megablast\""
   ]
  },
  {
   "cell_type": "code",
   "execution_count": null,
   "id": "6bf44df1-e7e1-46f8-899a-883bc26e3673",
   "metadata": {},
   "outputs": [],
   "source": [
    "db = \"nt_viruses\""
   ]
  },
  {
   "cell_type": "code",
   "execution_count": null,
   "id": "f9dfa381-2cfc-4f32-8c16-2937f1d4d445",
   "metadata": {},
   "outputs": [],
   "source": [
    "# load in metadata\n",
    "metadata_dir = joinpath(dirname(pwd()), \"metadata\")\n",
    "\n",
    "exposome_environmental_data = DataFrames.DataFrame(uCSV.read(\n",
    "    joinpath(metadata_dir, \"metadata_exposome.rds.tsv\"),\n",
    "    delim='\\t',\n",
    "    header=1,\n",
    "    typedetectrows=300\n",
    "))\n",
    "\n",
    "joint_sample_metadata = DataFrames.DataFrame(uCSV.read(\n",
    "    joinpath(metadata_dir, \"exposome/joint_sample_metadata.tsv\"),\n",
    "    delim='\\t',\n",
    "    header=1,\n",
    "    typedetectrows=300\n",
    "))\n",
    "\n",
    "@assert joint_sample_metadata[!, \"Library Name\"] == joint_sample_metadata[!, \"LibraryName\"]\n",
    "\n",
    "joint_metadata = DataFrames.innerjoin(\n",
    "    joint_sample_metadata,\n",
    "    exposome_environmental_data,\n",
    "    on=\"Library Name\" => \"samplenames\")\n",
    "\n",
    "run_ids = sort(joint_metadata[!, \"Run\"])\n",
    "\n",
    "sample_paths = joinpath.(data_dir, \"SRA\", run_ids)"
   ]
  },
  {
   "cell_type": "code",
   "execution_count": null,
   "id": "7b4c3d47-d31f-42a9-8e8b-dc0b5c3a9f78",
   "metadata": {},
   "outputs": [],
   "source": [
    "# NCBI host metadata\n",
    "ncbi_metadata_file = joinpath(dirname(pwd()), \"metadata\", \"NCBI-virus-refseq.transformed.tsv\")\n",
    "ncbi_host_metadata = DataFrames.DataFrame(uCSV.read(ncbi_metadata_file, header=1, delim='\\t', encodings=Dict(\"false\" => false, \"true\" => true)))\n",
    "\n",
    "# ICTV host metadata\n",
    "ictv_metadata_file = joinpath(dirname(pwd()), \"metadata\", \"VMR_MSL38_v1 - VMR MSL38 v1.transformed.tsv\")\n",
    "ictv_host_metadata = DataFrames.DataFrame(uCSV.read(ictv_metadata_file, header=1, delim='\\t', typedetectrows=100))\n",
    "ictv_host_metadata = ictv_host_metadata[.!isempty.(ictv_host_metadata[!, \"taxid\"]), :]\n",
    "ictv_host_metadata[!, \"taxid\"] = parse.(Int, ictv_host_metadata[!, \"taxid\"])\n",
    "\n",
    "viral_tax_ids = Set(Mycelia.list_subtaxa(10239))"
   ]
  },
  {
   "cell_type": "code",
   "execution_count": null,
   "id": "0be83fd9-a483-4c11-ad82-e8db2cf9a8fc",
   "metadata": {},
   "outputs": [],
   "source": [
    "joint_top_hits = DataFrames.DataFrame()\n",
    "ProgressMeter.@showprogress for sample_path in sample_paths[1:end]\n",
    "    sample = basename(sample_path)\n",
    "    blastn_directory = mkpath(joinpath(sample_path, \"blastn\"))\n",
    "    assembled_fasta = joinpath(sample_path, \"megahit\", \"final.contigs.fastg.gfa.fna\")\n",
    "    blast_file = joinpath(blastn_directory, basename(assembled_fasta) * \".blastn.$(db).$(blast_task).txt\")\n",
    "    this_blast_table = Mycelia.parse_blast_report(blast_file)\n",
    "    if isempty(this_blast_table)\n",
    "        continue\n",
    "    else\n",
    "        this_blast_table[!, \"sample_id\"] .= sample\n",
    "        # bonferonni correction on raw tests\n",
    "        this_blast_table[!, \"evalue\"] = this_blast_table[!, \"evalue\"] .* DataFrames.nrow(this_blast_table)\n",
    "        \n",
    "        # filter to top hits to avoid ballooning memory just to throw it away later\n",
    "        this_top_hits = DataFrames.DataFrame()\n",
    "        for gdf in DataFrames.groupby(this_blast_table, \"query id\")\n",
    "            push!(this_top_hits, first(sort(gdf, \"bit score\", rev=true)))\n",
    "        end\n",
    "        append!(joint_top_hits, this_top_hits)\n",
    "    end\n",
    "end"
   ]
  },
  {
   "cell_type": "code",
   "execution_count": null,
   "id": "947d37a2-1fc6-45db-b211-e9d8bb618534",
   "metadata": {},
   "outputs": [],
   "source": [
    "taxids = unique(joint_top_hits[!, \"subject tax id\"])\n",
    "taxid2name_map = Dict(row[\"taxid\"] => row[\"tax_name\"] for row in DataFrames.eachrow(Mycelia.taxids2lineage_name_and_rank(taxids)))\n",
    "joint_top_hits[!, \"subject tax name\"] = map(taxid -> taxid2name_map[taxid], joint_top_hits[!, \"subject tax id\"])\n",
    "\n",
    "# filter to good hits even after bonferroni correction\n",
    "joint_top_hits = joint_top_hits[joint_top_hits[!, \"evalue\"] .<= 0.001, :]\n",
    "\n",
    "# filter to viral only\n",
    "viral_hits_df = joint_top_hits[map(x -> x in viral_tax_ids, joint_top_hits[!, \"subject tax id\"]), :]\n",
    "\n",
    "# # current_host = \"host_is_vertebrate\"\n",
    "# # current_host = \"host_is_mammal\"\n",
    "# # current_host = \"host_is_primate\"\n",
    "# current_host = \"host_is_human\"\n",
    "# host_viral_tax_ids = Set(ncbi_host_metadata[ncbi_host_metadata[!, current_host] .== true, \"taxid\"])\n",
    "\n",
    "# # host_viral_taxids = ictv_host_metadata[map(x -> x in [\"vertebrates\", \"invertebrates, vertebrates\"], ictv_host_metadata[!, \"Host source\"]), \"taxid\"]\n",
    "# host_hits_df = viral_hits_df[map(x -> x in host_viral_tax_ids, viral_hits_df[!, \"subject tax id\"]), :]\n",
    "\n",
    "# blast_viral_contigs = Dict{String, Set{String}}()\n",
    "# for gdf in DataFrames.groupby(viral_hits_df, \"sample_id\")\n",
    "#     sample_id = gdf[1, \"sample_id\"]\n",
    "#     blast_viral_contigs[sample_id] = Set()\n",
    "#     for row in DataFrames.eachrow(gdf)\n",
    "#         push!(blast_viral_contigs[sample_id], row[\"query id\"])\n",
    "#     end\n",
    "# end\n",
    "# blast_viral_contigs\n",
    "\n",
    "viral_contigs_by_tool[\"blast\"] = Dict{String, Set{String}}()\n",
    "for gdf in DataFrames.groupby(viral_hits_df, \"sample_id\")\n",
    "    sample_id = gdf[1, \"sample_id\"]\n",
    "    viral_contigs_by_tool[\"blast\"][sample_id] = Set()\n",
    "    for row in DataFrames.eachrow(gdf)\n",
    "        push!(viral_contigs_by_tool[\"blast\"][sample_id], row[\"query id\"])\n",
    "    end\n",
    "end\n",
    "viral_contigs_by_tool[\"blast\"]"
   ]
  },
  {
   "cell_type": "code",
   "execution_count": null,
   "id": "058027fc-1097-4b2d-a074-1c510559fc7d",
   "metadata": {},
   "outputs": [],
   "source": [
    "uniref50_viral_df"
   ]
  },
  {
   "cell_type": "code",
   "execution_count": null,
   "id": "ea9bb32e-0cc6-40a5-ba24-e7de0648e6ec",
   "metadata": {},
   "outputs": [],
   "source": [
    "db = \"UniRef50\"\n",
    "uniref50_df = DataFrames.DataFrame()\n",
    "ProgressMeter.@showprogress for sample_path in sample_paths\n",
    "    sample_id = basename(sample_path)\n",
    "    mmseqs_lca_file = joinpath(sample_path, \"mmseqs_easy_taxonomy\", \"final.contigs.fastg.gfa.fna.mmseqs_easy_taxonomy.$(db)_lca.tsv\")\n",
    "    mmseqs_lca_table = Mycelia.parse_mmseqs_easy_taxonomy_lca_tsv(mmseqs_lca_file)\n",
    "    mmseqs_lca_table[!, \"sample_id\"] .= sample_id\n",
    "    append!(uniref50_df, mmseqs_lca_table)\n",
    "end\n",
    "uniref50_df\n",
    "uniref50_viral_df = uniref50_df[map(x -> x in viral_tax_ids, uniref50_df[!, \"taxon_id\"]), :]\n",
    "\n",
    "viral_contigs_by_tool[db] = Dict{String, Set{String}}()\n",
    "for gdf in DataFrames.groupby(uniref50_viral_df, \"sample_id\")\n",
    "    sample_id = gdf[1, \"sample_id\"]\n",
    "    viral_contigs_by_tool[db][sample_id] = Set()\n",
    "    for row in DataFrames.eachrow(gdf)\n",
    "        push!(viral_contigs_by_tool[db][sample_id], string(row[\"contig_id\"]))\n",
    "    end\n",
    "end\n",
    "viral_contigs_by_tool[db]"
   ]
  },
  {
   "cell_type": "code",
   "execution_count": null,
   "id": "2d56f1ae-b363-4774-9b6c-070c626498a8",
   "metadata": {},
   "outputs": [],
   "source": [
    "db = \"UniRef90\"\n",
    "uniref90_df = DataFrames.DataFrame()\n",
    "\n",
    "ProgressMeter.@showprogress for sample_path in sample_paths\n",
    "    sample_id = basename(sample_path)\n",
    "    mmseqs_lca_file = joinpath(sample_path, \"mmseqs_easy_taxonomy\", \"final.contigs.fastg.gfa.fna.mmseqs_easy_taxonomy.$(db)_lca.tsv\")\n",
    "    mmseqs_lca_table = Mycelia.parse_mmseqs_easy_taxonomy_lca_tsv(mmseqs_lca_file)\n",
    "    mmseqs_lca_table[!, \"sample_id\"] .= sample_id\n",
    "    append!(uniref90_df, mmseqs_lca_table)\n",
    "end\n",
    "uniref90_df\n",
    "uniref90_viral_df = uniref90_df[map(x -> x in viral_tax_ids, uniref90_df[!, \"taxon_id\"]), :]\n",
    "\n",
    "viral_contigs_by_tool[db] = Dict{String, Set{String}}()\n",
    "for gdf in DataFrames.groupby(uniref90_viral_df, \"sample_id\")\n",
    "    sample_id = gdf[1, \"sample_id\"]\n",
    "    viral_contigs_by_tool[db][sample_id] = Set()\n",
    "    for row in DataFrames.eachrow(gdf)\n",
    "        push!(viral_contigs_by_tool[db][sample_id], string(row[\"contig_id\"]))\n",
    "    end\n",
    "end\n",
    "viral_contigs_by_tool[db]"
   ]
  },
  {
   "cell_type": "code",
   "execution_count": null,
   "id": "dddc8749-2985-4ead-bb90-7e9fdb3d999a",
   "metadata": {},
   "outputs": [],
   "source": [
    "db = \"UniRef100\"\n",
    "uniref100_df = DataFrames.DataFrame()\n",
    "\n",
    "ProgressMeter.@showprogress for sample_path in sample_paths\n",
    "    sample_id = basename(sample_path)\n",
    "    mmseqs_lca_file = joinpath(sample_path, \"mmseqs_easy_taxonomy\", \"final.contigs.fastg.gfa.fna.mmseqs_easy_taxonomy.$(db)_lca.tsv\")\n",
    "    mmseqs_lca_table = Mycelia.parse_mmseqs_easy_taxonomy_lca_tsv(mmseqs_lca_file)\n",
    "    mmseqs_lca_table[!, \"sample_id\"] .= sample_id\n",
    "    append!(uniref100_df, mmseqs_lca_table)\n",
    "end\n",
    "uniref100_df\n",
    "uniref100_viral_df = uniref100_df[map(x -> x in viral_tax_ids, uniref100_df[!, \"taxon_id\"]), :]\n",
    "\n",
    "viral_contigs_by_tool[db] = Dict{String, Set{String}}()\n",
    "for gdf in DataFrames.groupby(uniref100_viral_df, \"sample_id\")\n",
    "    sample_id = gdf[1, \"sample_id\"]\n",
    "    viral_contigs_by_tool[db][sample_id] = Set()\n",
    "    for row in DataFrames.eachrow(gdf)\n",
    "        push!(viral_contigs_by_tool[db][sample_id], string(row[\"contig_id\"]))\n",
    "    end\n",
    "end\n",
    "viral_contigs_by_tool[db]"
   ]
  },
  {
   "cell_type": "code",
   "execution_count": null,
   "id": "bbeb0568-9b9a-4bea-8b32-2aa3346e5ded",
   "metadata": {},
   "outputs": [],
   "source": [
    "viral_contigs_by_tool"
   ]
  },
  {
   "cell_type": "code",
   "execution_count": null,
   "id": "41b8abe4-9658-4fa9-ad5d-0141743949a5",
   "metadata": {},
   "outputs": [],
   "source": [
    "Distances.jaccard(Set([1, 2, 3]), Set([1, 3, 4]))"
   ]
  },
  {
   "cell_type": "code",
   "execution_count": null,
   "id": "9d22d966-9401-4277-b36f-1a601e82ec47",
   "metadata": {},
   "outputs": [],
   "source": [
    "ordered_tools = \n",
    "[\"genomad\",\n",
    "\"blast\",\n",
    "\"UniRef50\",\n",
    "\"UniRef90\",\n",
    "\"UniRef100\"]\n",
    "\n",
    "ordered_samples = basename.(sample_paths)"
   ]
  },
  {
   "cell_type": "code",
   "execution_count": null,
   "id": "e7a8ba0a-c488-42e0-9cdb-993656f90373",
   "metadata": {},
   "outputs": [],
   "source": [
    "jaccard_similarity(a, b) = length(intersect(a, b)) / length(union(a, b))"
   ]
  },
  {
   "cell_type": "code",
   "execution_count": null,
   "id": "b635f98b-7216-488c-ad43-07fb2ebc0aa0",
   "metadata": {},
   "outputs": [],
   "source": [
    "jaccard_similarity_matrix = Array{Union{Missing, Float64}}(missing, length(ordered_tools), length(ordered_tools), length(ordered_samples))\n",
    "for (x, tool1) in enumerate(ordered_tools)\n",
    "    for (y, tool2) in enumerate(ordered_tools)\n",
    "        for (z, sample_id) in enumerate(ordered_samples)\n",
    "            try\n",
    "                a = viral_contigs_by_tool[tool1][sample_id]\n",
    "                b = viral_contigs_by_tool[tool2][sample_id]\n",
    "                jaccard_similarity_matrix[x, y, z] = jaccard_similarity(a, b)\n",
    "            catch\n",
    "                # @show tool1, tool2, sample_id\n",
    "                continue\n",
    "            end\n",
    "        end\n",
    "    end\n",
    "end\n",
    "jaccard_similarity_matrix"
   ]
  },
  {
   "cell_type": "code",
   "execution_count": null,
   "id": "3a85f6e5-6150-4a86-99cb-d3ea1996e89b",
   "metadata": {},
   "outputs": [],
   "source": [
    "jaccard_similarity_matrix_means = zeros(length(ordered_tools), length(ordered_tools))\n",
    "jaccard_similarity_matrix_medians = zeros(length(ordered_tools), length(ordered_tools))\n",
    "jaccard_similarity_matrix_stddevs = zeros(length(ordered_tools), length(ordered_tools))\n",
    "\n",
    "for x in 1:size(jaccard_similarity_matrix, 1)\n",
    "    for y in 1:size(jaccard_similarity_matrix, 1)\n",
    "        non_missing_values = filter(!ismissing, jaccard_similarity_matrix[x, y, :])\n",
    "        jaccard_similarity_matrix_means[x, y] = Statistics.mean(non_missing_values)\n",
    "        jaccard_similarity_matrix_medians[x, y] = Statistics.median(non_missing_values)\n",
    "        jaccard_similarity_matrix_stddevs[x, y] = Statistics.std(non_missing_values)\n",
    "    end\n",
    "end"
   ]
  },
  {
   "cell_type": "code",
   "execution_count": null,
   "id": "f8f846be-e214-4a25-a3dc-cc526fbf7ace",
   "metadata": {},
   "outputs": [],
   "source": [
    "hits_by_tool_per_sample = Dict{String, Vector{Int}}()\n",
    "for tool in ordered_tools\n",
    "    hits_by_tool_per_sample[tool] = Int[length(viral_contigs_by_tool[tool][sample]) for sample in keys(viral_contigs_by_tool[tool])]\n",
    "end     "
   ]
  },
  {
   "cell_type": "code",
   "execution_count": null,
   "id": "e549a986-1b69-4a6f-9104-315dfa92a105",
   "metadata": {},
   "outputs": [],
   "source": [
    "hits_by_tool_per_sample"
   ]
  },
  {
   "cell_type": "code",
   "execution_count": null,
   "id": "4533fd7a-ef2c-4466-a547-b2f2f12e68c2",
   "metadata": {},
   "outputs": [],
   "source": [
    "1920/2"
   ]
  },
  {
   "cell_type": "code",
   "execution_count": null,
   "id": "c57d82a9-ac2d-4049-bebb-088a51cf4de2",
   "metadata": {},
   "outputs": [],
   "source": [
    "StatsPlots.plot(\n",
    "    ordered_tools,\n",
    "    [Statistics.mean(hits_by_tool_per_sample[tool]) for tool in ordered_tools],\n",
    "    yerror = [Statistics.std(hits_by_tool_per_sample[tool]) for tool in ordered_tools],\n",
    "    legend=false,\n",
    "    title = \"mean +/- stddev # viral contigs classified by tool\\nacross samples\",\n",
    "    ylabel = \"value\",\n",
    "    xlabel = \"tool\",\n",
    "    size = (960, 540),\n",
    "    margins = 5StatsPlots.Plots.PlotMeasures.mm\n",
    ")"
   ]
  },
  {
   "cell_type": "code",
   "execution_count": null,
   "id": "6c61ac57-1abf-4be7-9b35-42346d7c4212",
   "metadata": {},
   "outputs": [],
   "source": [
    "hits_by_tool_per_sample\n",
    "\n",
    "StatsPlots.heatmap(\n",
    "    jaccard_similarity_matrix_means,\n",
    "    yticks = (1:length(ordered_tools), ordered_tools),\n",
    "    xticks = (1:length(ordered_tools), ordered_tools),\n",
    "    title = \"Mean Jaccard Similarity\",\n",
    "    xlabel = \"tool/database\",\n",
    "    ylabel = \"tool/database\",\n",
    "    size = (960, 540),\n",
    "    margins = 5StatsPlots.Plots.PlotMeasures.mm\n",
    ")\n"
   ]
  },
  {
   "cell_type": "code",
   "execution_count": null,
   "id": "cf480fde-1824-4269-990b-e053f288fa24",
   "metadata": {},
   "outputs": [],
   "source": [
    "StatsPlots.heatmap(\n",
    "    jaccard_similarity_matrix_means,\n",
    "    yticks = (1:length(ordered_tools), ordered_tools),\n",
    "    xticks = (1:length(ordered_tools), ordered_tools),\n",
    "    title = \"Mean Jaccard Similarity\",\n",
    "    xlabel = \"tool/database\",\n",
    "    ylabel = \"tool/database\",\n",
    "    size = (960, 540),\n",
    "    margins = 5StatsPlots.Plots.PlotMeasures.mm\n",
    ")"
   ]
  },
  {
   "cell_type": "code",
   "execution_count": null,
   "id": "24a771cc-6448-4d79-b353-d91376b738f7",
   "metadata": {},
   "outputs": [],
   "source": [
    "StatsPlots.heatmap(\n",
    "    jaccard_similarity_matrix_stddevs,\n",
    "    yticks = (1:length(ordered_tools), ordered_tools),\n",
    "    xticks = (1:length(ordered_tools), ordered_tools),\n",
    "    title = \"Standard Deviation of Jaccard Similarity\",\n",
    "    xlabel = \"tool/database\",\n",
    "    ylabel = \"tool/database\",\n",
    "    size = (960, 540),\n",
    "    margins = 5StatsPlots.Plots.PlotMeasures.mm\n",
    ")"
   ]
  },
  {
   "cell_type": "code",
   "execution_count": null,
   "id": "7d0bedbe-330a-4e23-9b23-c65975292da3",
   "metadata": {},
   "outputs": [],
   "source": [
    "unanimous_hits = Dict{String, Set{String}}()\n",
    "for sample in ordered_samples\n",
    "    unanimous_hits[sample] = Set(viral_contigs_by_tool[\"genomad\"][sample])\n",
    "    for other_tool in setdiff(ordered_tools, \"genomad\")\n",
    "        # @show other_tool\n",
    "        unanimous_hits[sample] = intersect(unanimous_hits[sample], viral_contigs_by_tool[\"genomad\"][sample])\n",
    "    end\n",
    "end\n",
    "unanimous_hits"
   ]
  },
  {
   "cell_type": "code",
   "execution_count": null,
   "id": "1496072a-0dc7-47d6-9cd6-40c7ba0136b5",
   "metadata": {},
   "outputs": [],
   "source": [
    "unanimous_blast_hits = viral_hits_df[[row[\"query id\"] in unanimous_hits[row[\"sample_id\"]] for row in DataFrames.eachrow(viral_hits_df)], :]\n",
    "current_host = \"host_is_human\"\n",
    "host_viral_tax_ids = Set(ncbi_host_metadata[ncbi_host_metadata[!, current_host] .== true, \"taxid\"])\n",
    "unanimous_blast_host_hits = unanimous_blast_hits[map(x -> x in host_viral_tax_ids, unanimous_blast_hits[!, \"subject tax id\"]), :]"
   ]
  },
  {
   "cell_type": "code",
   "execution_count": null,
   "id": "d1f11b64-c5f2-48d7-b366-33aa456056e6",
   "metadata": {},
   "outputs": [],
   "source": [
    "ft = FreqTables.freqtable(unanimous_blast_host_hits, \"sample_id\", \"subject tax name\")\n",
    "data = [collect(keys(ft.dicts[1])), [col for col in eachcol(ft.array)]...]\n",
    "header = [\"$(ft.dimnames[1]) \\\\ $(ft.dimnames[2])\", collect(keys(ft.dicts[2]))...]\n",
    "summary_table = DataFrames.DataFrame(data, header)\n",
    "summary_table = DataFrames.innerjoin(summary_table, joint_metadata[!, [\"Run\", \"aownership\", \"geo_loc_name\", \"date.end\"]], on=\"sample_id \\\\ subject tax name\" => \"Run\")\n",
    "summary_table = summary_table[!, [\n",
    "    [\"sample_id \\\\ subject tax name\", \"aownership\", \"geo_loc_name\", \"date.end\"]...,\n",
    "    setdiff(names(summary_table), [\"sample_id \\\\ subject tax name\", \"aownership\", \"geo_loc_name\", \"date.end\"])...]]\n",
    "DataFrames.rename!(\n",
    "    summary_table,\n",
    "    [\"aownership\" => \"participant\", \"geo_loc_name\" => \"location\", \"date.end\" => \"collection date\"]\n",
    ")"
   ]
  },
  {
   "cell_type": "code",
   "execution_count": null,
   "id": "bf1ace61-c59f-4a9a-ac5d-c5f2c4d88b48",
   "metadata": {},
   "outputs": [],
   "source": [
    "unanimous_blast_host_hits"
   ]
  },
  {
   "cell_type": "code",
   "execution_count": null,
   "id": "9f7a0866-877b-4616-8073-a99ceaab9787",
   "metadata": {},
   "outputs": [],
   "source": []
  },
  {
   "cell_type": "code",
   "execution_count": null,
   "id": "89f73ec2-2d77-4651-9c99-79f0a8d3c782",
   "metadata": {},
   "outputs": [],
   "source": [
    "# ProgressMeter.@showprogress for sample_path in sample_paths[1:end]\n",
    "\n",
    "\n",
    "\n",
    "\n",
    "\n",
    "# qualimap_coverage_table = parse_qualimap_contig_coverage(joinpath(SRR_path, \"megahit\", \"qualimap\", \"genome_results.txt\"))\n",
    "# mmseqs_lca_files = filter(x -> occursin(\"_lca.tsv\", x) && occursin(\"final.contigs.fastg.gfa.fna.mmseqs_easy_taxonomy\", x), readdir(joinpath(SRR_path, \"mmseqs_easy_taxonomy\"), join=true))\n",
    "\n",
    "# # mmseqs_lca_file = first(mmseqs_lca_files)\n",
    "# for mmseqs_lca_file in mmseqs_lca_files\n",
    "\n",
    "#     parse_mmseqs_easy_taxonomy_lca_tsv(mmseqs_lca_file)\n",
    "#     lca_table = parse_mmseqs_easy_taxonomy_lca_tsv(mmseqs_lca_file)\n",
    "\n",
    "\n",
    "# sample = basename(sample_path)\n",
    "# blastn_directory = mkpath(joinpath(sample_path, \"blastn\"))\n",
    "# assembled_fasta = joinpath(sample_path, \"megahit\", \"final.contigs.fastg.gfa.fna\")\n",
    "# blast_file = joinpath(blastn_directory, basename(assembled_fasta) * \".blastn.$(db).$(blast_task).txt\")\n",
    "# this_blast_table = Mycelia.parse_blast_report(blast_file)"
   ]
  },
  {
   "cell_type": "code",
   "execution_count": null,
   "id": "767cb7d1-3fa0-45c7-b721-06b2866dfaba",
   "metadata": {},
   "outputs": [],
   "source": [
    "# results_dir = joinpath(data_dir, \"results\")\n",
    "# # readdir(results_dir)\n",
    "\n",
    "# uCSV.write(joinpath(results_dir, \"blast_hits_summary_table.csv\"), summary_table)"
   ]
  },
  {
   "cell_type": "code",
   "execution_count": null,
   "id": "4fdcbf16-37a6-4f6a-b1e3-27e2f7bca6ef",
   "metadata": {},
   "outputs": [],
   "source": [
    "# results_dir"
   ]
  },
  {
   "cell_type": "code",
   "execution_count": null,
   "id": "1811028c-eaaa-4daf-bfdc-a499104143a5",
   "metadata": {},
   "outputs": [],
   "source": [
    "# m = \"text/plain\"\n",
    "# m = \"text/html\"\n",
    "# m =  \"text/latex\"\n",
    "# m = \"text/csv\"\n",
    "# m = \"text/tab-separated-values\"\n",
    "\n",
    "# show(stdout, MIME(m), summary_table)"
   ]
  },
  {
   "cell_type": "code",
   "execution_count": null,
   "id": "0fd2c102-007b-4672-b6ac-fcd777a4fa20",
   "metadata": {},
   "outputs": [],
   "source": [
    "# # show(stdout, MIME(\"text/html\"), )\n",
    "# # PrettyTables.pretty_table(summary_table, backend = Val(:markdown))\n",
    "# # PrettyTables.pretty_table(summary_table, backend = Val(:latex))\n",
    "# # PrettyTables.pretty_table(summary_table, backend = Val(:html))\n",
    "# PrettyTables.pretty_table(summary_table, backend = Val(:text))"
   ]
  },
  {
   "cell_type": "code",
   "execution_count": null,
   "id": "7f0f0a92-9297-45c9-8d90-69d83006b3e4",
   "metadata": {},
   "outputs": [],
   "source": [
    "# show(stdout, \"text/plain\", matrix)"
   ]
  }
 ],
 "metadata": {
  "kernelspec": {
   "display_name": "Julia 1.6.7",
   "language": "julia",
   "name": "julia-1.6"
  },
  "language_info": {
   "file_extension": ".jl",
   "mimetype": "application/julia",
   "name": "julia",
   "version": "1.6.7"
  }
 },
 "nbformat": 4,
 "nbformat_minor": 5
}
