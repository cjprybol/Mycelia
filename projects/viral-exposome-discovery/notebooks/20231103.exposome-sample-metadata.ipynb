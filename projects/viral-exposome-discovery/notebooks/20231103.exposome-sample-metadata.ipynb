{
 "cells": [
  {
   "cell_type": "code",
   "execution_count": null,
   "id": "28717f71-b8e6-49a1-a568-0e4b702c3c65",
   "metadata": {},
   "outputs": [],
   "source": [
    "import Pkg\n",
    "pkgs = [\n",
    "    \"Revise\",\n",
    "    \"DataFrames\",\n",
    "    \"StatsBase\",\n",
    "    \"uCSV\"\n",
    "]\n",
    "# Pkg.activate(; temp=true)\n",
    "# Pkg.add(pkgs)\n",
    "for pkg in pkgs\n",
    "    eval(Meta.parse(\"import $pkg\"))\n",
    "end\n",
    "import Mycelia"
   ]
  },
  {
   "cell_type": "code",
   "execution_count": null,
   "id": "2be70ba9-d576-474f-83f4-d8e4a752a4bc",
   "metadata": {},
   "outputs": [],
   "source": [
    "metadata_directory = joinpath(dirname(pwd()), \"metadata\")"
   ]
  },
  {
   "cell_type": "code",
   "execution_count": null,
   "id": "62a07f2d-9003-42f9-b97f-14f1134da4a1",
   "metadata": {},
   "outputs": [],
   "source": [
    "exposome_metadata = DataFrames.DataFrame(\n",
    "uCSV.read(\n",
    "    joinpath(metadata_directory, \"metadata_exposome.rds.tsv\"),\n",
    "    delim='\\t',\n",
    "    header=1,\n",
    "    typedetectrows=200\n",
    "))"
   ]
  },
  {
   "cell_type": "code",
   "execution_count": null,
   "id": "7ca763aa-e96f-496f-abd4-4ca3d3a0a48a",
   "metadata": {},
   "outputs": [],
   "source": [
    "for x in sort(unique(exposome_metadata[!, \"aownership\"]))\n",
    "    println(x)\n",
    "end"
   ]
  },
  {
   "cell_type": "code",
   "execution_count": null,
   "id": "04672bb0-b0ce-4dc6-bea3-7720553cad07",
   "metadata": {},
   "outputs": [],
   "source": [
    "# NCBI host metadata\n",
    "ncbi_metadata_file = joinpath(dirname(pwd()), \"metadata\", \"NCBI-virus-refseq.transformed.tsv\")\n",
    "ncbi_host_metadata = DataFrames.DataFrame(uCSV.read(ncbi_metadata_file, header=1, delim='\\t', encodings=Dict(\"false\" => false, \"true\" => true)))\n",
    "\n",
    "# ICTV host metadata\n",
    "ictv_metadata_file = joinpath(dirname(pwd()), \"metadata\", \"VMR_MSL38_v1 - VMR MSL38 v1.transformed.tsv\")\n",
    "ictv_host_metadata = DataFrames.DataFrame(uCSV.read(ictv_metadata_file, header=1, delim='\\t', typedetectrows=100))\n",
    "ictv_host_metadata = ictv_host_metadata[.!isempty.(ictv_host_metadata[!, \"taxid\"]), :]\n",
    "ictv_host_metadata[!, \"taxid\"] = parse.(Int, ictv_host_metadata[!, \"taxid\"])\n",
    "\n",
    "# # VirusHostDB metadata\n",
    "virushostdb_metadata_file = joinpath(dirname(pwd()), \"metadata\", \"virushostdb.transformed.tsv\")\n",
    "virushostdb_metadata = DataFrames.DataFrame(uCSV.read(virushostdb_metadata_file, header=1, delim='\\t', typedetectrows=1086, encodings=Dict(\"missing\" => missing, \"false\" => false, \"true\" => true)))\n",
    "\n",
    "vertebrate_taxids = union(\n",
    "    ictv_host_metadata[ictv_host_metadata[!, \"Host source\"] .== \"vertebrates\", \"taxid\"],\n",
    "    ncbi_host_metadata[ncbi_host_metadata[!, \"host_is_vertebrate\"], \"taxid\"],\n",
    "    virushostdb_metadata[virushostdb_metadata[!, \"host_is_vertebrate\"], \"virus_taxid\"]\n",
    ")\n",
    "\n",
    "human_taxids = union(\n",
    "    ncbi_host_metadata[ncbi_host_metadata[!, \"host_is_human\"], \"taxid\"],\n",
    "    virushostdb_metadata[virushostdb_metadata[!, \"host_is_human\"], \"virus_taxid\"]\n",
    ")"
   ]
  },
  {
   "cell_type": "code",
   "execution_count": null,
   "id": "23109ba9-812c-4b56-a4d1-2ecb4a868dbf",
   "metadata": {},
   "outputs": [],
   "source": [
    "base_dir = dirname(pwd())\n",
    "data_dir = joinpath(base_dir, \"data\")\n",
    "sample_directories = readdir(joinpath(data_dir, \"SRA\"), join=true)"
   ]
  },
  {
   "cell_type": "code",
   "execution_count": null,
   "id": "aa1a4e6e-e1f7-4da6-b41e-ac110d38a2e6",
   "metadata": {},
   "outputs": [],
   "source": [
    "easy_taxonomy_lca_reports = String[]\n",
    "for sample_directory in sample_directories\n",
    "    mmseqs_directory_contents = readdir(joinpath(sample_directory, \"mmseqs_easy_taxonomy\"), join=true)\n",
    "    sample_lca_reports = filter(x -> occursin(\"final.contigs.fastg.gfa.fna.mmseqs_easy_taxonomy.\", x) && occursin(\"_lca.tsv\", x), mmseqs_directory_contents)\n",
    "    append!(easy_taxonomy_lca_reports, sample_lca_reports)\n",
    "end\n",
    "easy_taxonomy_lca_reports"
   ]
  },
  {
   "cell_type": "code",
   "execution_count": null,
   "id": "a2914720-fda5-46d4-8818-353e41698490",
   "metadata": {},
   "outputs": [],
   "source": [
    "lca_tsv = first(easy_taxonomy_lca_reports)"
   ]
  },
  {
   "cell_type": "code",
   "execution_count": null,
   "id": "2bafcb1c-2741-4cd4-9b3f-8c84469eb27d",
   "metadata": {},
   "outputs": [],
   "source": [
    "joint_lca_table = DataFrames.DataFrame()\n",
    "ProgressMeter.@showprogress for lca_tsv in easy_taxonomy_lca_reports\n",
    "    method = replace(replace(basename(lca_tsv), \"final.contigs.fastg.gfa.fna.\" => \"\"), \"_lca.tsv\" => \"\")\n",
    "    # @show method\n",
    "    this_lca_table = Mycelia.parse_mmseqs_easy_taxonomy_lca_tsv(lca_tsv)\n",
    "    this_lca_table[!, \"sample\"] .= basename(dirname(dirname(lca_tsv)))\n",
    "    this_lca_table[!, \"method\"] .= method\n",
    "    append!(joint_lca_table, this_lca_table)\n",
    "end\n",
    "joint_lca_table"
   ]
  },
  {
   "cell_type": "code",
   "execution_count": null,
   "id": "80208ad3-9cdf-4349-a01d-5a3eaa14eb96",
   "metadata": {},
   "outputs": [],
   "source": [
    "filtered_lca_table = joint_lca_table[map(x -> x in human_taxids, joint_lca_table[!, \"taxon_id\"]), :]"
   ]
  },
  {
   "cell_type": "code",
   "execution_count": null,
   "id": "374656af-4060-4f2b-a3bd-bb5fc88a0bfd",
   "metadata": {},
   "outputs": [],
   "source": [
    "taxon_counts = collect(StatsBase.countmap(filtered_lca_table[!, \"taxon_name\"]))\n",
    "taxon_counts = DataFrames.DataFrame(taxon_name = first.(taxon_counts), counts = last.(taxon_counts))\n",
    "sort!(taxon_counts, \"counts\", rev=true)"
   ]
  },
  {
   "cell_type": "code",
   "execution_count": null,
   "id": "178a97f1-a810-43fe-bc06-e79665508bca",
   "metadata": {},
   "outputs": [],
   "source": [
    "mmseqs_taxid_hits = unique(filtered_lca_table[!, \"taxon_id\"])"
   ]
  },
  {
   "cell_type": "code",
   "execution_count": null,
   "id": "932718c1-3208-44b0-8b1b-8b2fec12b386",
   "metadata": {
    "tags": []
   },
   "outputs": [],
   "source": [
    "kraken_taxid_hits = [\n",
    "10566,\n",
    "1175849,\n",
    "2017081,\n",
    "2025360,\n",
    "2734294,\n",
    "277944,\n",
    "2955291,\n",
    "2955746,\n",
    "3050300,\n",
    "3052399,\n",
    "36427,\n",
    "59304,\n",
    "642022,\n",
    "93678,\n",
    "11137,\n",
    "11676,\n",
    "1239573,\n",
    "1978540,\n",
    "2304647,\n",
    "290028,\n",
    "3050298,\n",
    "694009,\n",
    "10243,\n",
    "10245,\n",
    "1513260,\n",
    "1513263,\n",
    "1961678,\n",
    "3052317,\n",
    "3052458,\n",
    "3052499,\n",
    "568715,\n",
    "129875,\n",
    "1678143,\n",
    "1780507,\n",
    "1891764,\n",
    "1961681,\n",
    "1987017,\n",
    "291484,\n",
    "1961680,\n",
    "3048383,\n",
    "1904876,\n",
    "3050294,\n",
    "1513256,\n",
    "2200830,\n",
    "393049,\n",
    "129951,\n",
    "130308,\n",
    "2055263,\n",
    "68887,\n",
    "204269,\n",
    "2049444,\n",
    "2825847,\n",
    "38170,\n",
    "10244,\n",
    "1962300,\n",
    "944645,\n",
    "1972576,\n",
    "3048384,\n",
    "45617,\n",
    "2170195,\n",
    "3050295,\n",
    "1513257,\n",
    "2025396,\n",
    "3047956,\n",
    "2844583,\n",
    "1513258,\n",
    "11983,\n",
    "3050297,\n",
    "3052413,\n",
    "3050299,\n",
    "10255,\n",
    "2844646,\n",
    "2021738,\n",
    "2170197,\n",
    "2956268,\n",
    "1518574,\n",
    "3050296,\n",
    "130310,\n",
    "1647924,\n",
    "99000,\n",
    "1511805,\n",
    "10258,\n",
    "3047957,\n",
    "1891726,\n",
    "38804,\n",
    "108098,\n",
    "1335626,\n",
    "1922246,\n",
    "2844585,\n",
    "];"
   ]
  },
  {
   "cell_type": "code",
   "execution_count": null,
   "id": "b4ff3e22-69cd-4dc1-9200-8acac7de24fd",
   "metadata": {},
   "outputs": [],
   "source": [
    "for x in unique(filtered_lca_table[map(x -> x in intersect(kraken_taxid_hits, mmseqs_taxid_hits), filtered_lca_table[!, \"taxon_id\"]), \"taxon_name\"])\n",
    "    println(x)\n",
    "end"
   ]
  },
  {
   "cell_type": "code",
   "execution_count": null,
   "id": "0abb7a8a-032d-462d-aa6d-04807022e8e4",
   "metadata": {},
   "outputs": [],
   "source": [
    "Human endogenous retrovirus K\n",
    "Human papillomavirus KC5\n",
    "Human papillomavirus\n",
    "Human immunodeficiency virus 1\n",
    "Alphapolyomavirus quintihominis"
   ]
  }
 ],
 "metadata": {
  "kernelspec": {
   "display_name": "Julia 1.9.3",
   "language": "julia",
   "name": "julia-1.9"
  },
  "language_info": {
   "file_extension": ".jl",
   "mimetype": "application/julia",
   "name": "julia",
   "version": "1.9.3"
  }
 },
 "nbformat": 4,
 "nbformat_minor": 5
}
