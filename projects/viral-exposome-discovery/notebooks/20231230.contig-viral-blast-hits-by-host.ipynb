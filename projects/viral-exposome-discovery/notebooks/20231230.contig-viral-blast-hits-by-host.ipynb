{
 "cells": [
  {
   "cell_type": "code",
   "execution_count": null,
   "id": "b1ec3ac0-e197-418f-86be-f2e8a5fadb82",
   "metadata": {},
   "outputs": [],
   "source": [
    "# run(`conda create --channel conda-forge --channel bioconda --channel defaults --strict-channel-priority --name blast blast`)\n",
    "# run(`conda create --channel conda-forge --channel bioconda --channel defaults --strict-channel-priority --name taxonkit taxonkit`)"
   ]
  },
  {
   "cell_type": "code",
   "execution_count": null,
   "id": "c17e93fe-d82c-45fa-8fee-1e86d080538c",
   "metadata": {},
   "outputs": [],
   "source": [
    "import Pkg\n",
    "pkgs = [\n",
    "    \"Revise\",\n",
    "    \"DataFrames\",\n",
    "    \"uCSV\",\n",
    "    \"StatsPlots\",\n",
    "    \"StatsBase\",\n",
    "    \"FreqTables\",\n",
    "    \"Conda\",\n",
    "    \"ProgressMeter\",\n",
    "    \"PrettyTables\"\n",
    "]\n",
    "# Pkg.add(pkgs)\n",
    "for pkg in pkgs\n",
    "    eval(Meta.parse(\"import $pkg\"))\n",
    "end\n",
    "import Mycelia"
   ]
  },
  {
   "cell_type": "code",
   "execution_count": null,
   "id": "909f13b4-7e9d-429b-8b83-33c99af653c9",
   "metadata": {},
   "outputs": [],
   "source": [
    "data_dir = joinpath(dirname(pwd()), \"data\")"
   ]
  },
  {
   "cell_type": "code",
   "execution_count": null,
   "id": "0609f79c-54bf-48ff-8603-4abebe5c7220",
   "metadata": {},
   "outputs": [],
   "source": [
    "blast_task = \"megablast\""
   ]
  },
  {
   "cell_type": "code",
   "execution_count": null,
   "id": "6bf44df1-e7e1-46f8-899a-883bc26e3673",
   "metadata": {},
   "outputs": [],
   "source": [
    "db = \"nt_viruses\""
   ]
  },
  {
   "cell_type": "code",
   "execution_count": null,
   "id": "f9dfa381-2cfc-4f32-8c16-2937f1d4d445",
   "metadata": {},
   "outputs": [],
   "source": [
    "# load in metadata\n",
    "metadata_dir = joinpath(dirname(pwd()), \"metadata\")\n",
    "\n",
    "exposome_environmental_data = DataFrames.DataFrame(uCSV.read(\n",
    "    joinpath(metadata_dir, \"metadata_exposome.rds.tsv\"),\n",
    "    delim='\\t',\n",
    "    header=1,\n",
    "    typedetectrows=300\n",
    "))\n",
    "\n",
    "joint_sample_metadata = DataFrames.DataFrame(uCSV.read(\n",
    "    joinpath(metadata_dir, \"exposome/joint_sample_metadata.tsv\"),\n",
    "    delim='\\t',\n",
    "    header=1,\n",
    "    typedetectrows=300\n",
    "))\n",
    "\n",
    "@assert joint_sample_metadata[!, \"Library Name\"] == joint_sample_metadata[!, \"LibraryName\"]\n",
    "\n",
    "joint_metadata = DataFrames.innerjoin(\n",
    "    joint_sample_metadata,\n",
    "    exposome_environmental_data,\n",
    "    on=\"Library Name\" => \"samplenames\")\n",
    "\n",
    "run_ids = sort(joint_metadata[!, \"Run\"])\n",
    "\n",
    "sample_paths = joinpath.(data_dir, \"SRA\", run_ids)"
   ]
  },
  {
   "cell_type": "code",
   "execution_count": null,
   "id": "7b4c3d47-d31f-42a9-8e8b-dc0b5c3a9f78",
   "metadata": {},
   "outputs": [],
   "source": [
    "# NCBI host metadata\n",
    "ncbi_metadata_file = joinpath(dirname(pwd()), \"metadata\", \"NCBI-virus-refseq.transformed.tsv\")\n",
    "ncbi_host_metadata = DataFrames.DataFrame(uCSV.read(ncbi_metadata_file, header=1, delim='\\t', encodings=Dict(\"false\" => false, \"true\" => true)))\n",
    "\n",
    "# ICTV host metadata\n",
    "ictv_metadata_file = joinpath(dirname(pwd()), \"metadata\", \"VMR_MSL38_v1 - VMR MSL38 v1.transformed.tsv\")\n",
    "ictv_host_metadata = DataFrames.DataFrame(uCSV.read(ictv_metadata_file, header=1, delim='\\t', typedetectrows=100))\n",
    "ictv_host_metadata = ictv_host_metadata[.!isempty.(ictv_host_metadata[!, \"taxid\"]), :]\n",
    "ictv_host_metadata[!, \"taxid\"] = parse.(Int, ictv_host_metadata[!, \"taxid\"])\n",
    "\n",
    "viral_tax_ids = Set(Mycelia.list_subtaxa(10239))"
   ]
  },
  {
   "cell_type": "code",
   "execution_count": null,
   "id": "0be83fd9-a483-4c11-ad82-e8db2cf9a8fc",
   "metadata": {},
   "outputs": [],
   "source": [
    "joint_top_hits = DataFrames.DataFrame()\n",
    "ProgressMeter.@showprogress for sample_path in sample_paths[1:end]\n",
    "    sample = basename(sample_path)\n",
    "    blastn_directory = mkpath(joinpath(sample_path, \"blastn\"))\n",
    "    assembled_fasta = joinpath(sample_path, \"megahit\", \"final.contigs.fastg.gfa.fna\")\n",
    "    blast_file = joinpath(blastn_directory, basename(assembled_fasta) * \".blastn.$(db).$(blast_task).txt\")\n",
    "    this_blast_table = Mycelia.parse_blast_report(blast_file)\n",
    "    if isempty(this_blast_table)\n",
    "        continue\n",
    "    else\n",
    "        this_blast_table[!, \"sample_id\"] .= sample\n",
    "        # bonferonni correction on raw tests\n",
    "        this_blast_table[!, \"evalue\"] = this_blast_table[!, \"evalue\"] .* DataFrames.nrow(this_blast_table)\n",
    "        \n",
    "        # filter to top hits to avoid ballooning memory just to throw it away later\n",
    "        this_top_hits = DataFrames.DataFrame()\n",
    "        for gdf in DataFrames.groupby(this_blast_table, \"query id\")\n",
    "            push!(this_top_hits, first(sort(gdf, \"bit score\", rev=true)))\n",
    "        end\n",
    "        append!(joint_top_hits, this_top_hits)\n",
    "    end\n",
    "end"
   ]
  },
  {
   "cell_type": "code",
   "execution_count": null,
   "id": "02bcbd87-d736-4b14-83e9-610e710c5e97",
   "metadata": {},
   "outputs": [],
   "source": [
    "taxids = unique(joint_top_hits[!, \"subject tax id\"])\n",
    "taxid2name_map = Dict(row[\"taxid\"] => row[\"tax_name\"] for row in DataFrames.eachrow(Mycelia.taxids2lineage_name_and_rank(taxids)))\n",
    "joint_top_hits[!, \"subject tax name\"] = map(taxid -> taxid2name_map[taxid], joint_top_hits[!, \"subject tax id\"])\n",
    "\n",
    "# filter to good hits even after bonferroni correction\n",
    "joint_top_hits = joint_top_hits[joint_top_hits[!, \"evalue\"] .<= 0.001, :]\n",
    "\n",
    "# filter to viral only\n",
    "viral_hits_df = joint_top_hits[map(x -> x in viral_tax_ids, joint_top_hits[!, \"subject tax id\"]), :]\n",
    "\n",
    "# current_host = \"host_is_vertebrate\"\n",
    "# current_host = \"host_is_mammal\"\n",
    "# current_host = \"host_is_primate\"\n",
    "current_host = \"host_is_human\"\n",
    "host_viral_tax_ids = Set(ncbi_host_metadata[ncbi_host_metadata[!, current_host] .== true, \"taxid\"])\n",
    "\n",
    "# host_viral_taxids = ictv_host_metadata[map(x -> x in [\"vertebrates\", \"invertebrates, vertebrates\"], ictv_host_metadata[!, \"Host source\"]), \"taxid\"]\n",
    "host_hits_df = viral_hits_df[map(x -> x in host_viral_tax_ids, viral_hits_df[!, \"subject tax id\"]), :]"
   ]
  },
  {
   "cell_type": "code",
   "execution_count": null,
   "id": "5e6948ea-c9e7-48d8-9c15-16416cffac4c",
   "metadata": {},
   "outputs": [],
   "source": [
    "ft = FreqTables.freqtable(host_hits_df, \"sample_id\", \"subject tax name\")"
   ]
  },
  {
   "cell_type": "code",
   "execution_count": null,
   "id": "26d9d6f1-9394-42df-b0a9-c0460d2c1ee5",
   "metadata": {},
   "outputs": [],
   "source": [
    "data = [collect(keys(ft.dicts[1])), [col for col in eachcol(ft.array)]...]\n",
    "header = [\"$(ft.dimnames[1]) \\\\ $(ft.dimnames[2])\", collect(keys(ft.dicts[2]))...]\n",
    "summary_table = DataFrames.DataFrame(data, header)\n",
    "\n",
    "# summary_table"
   ]
  },
  {
   "cell_type": "code",
   "execution_count": null,
   "id": "0c75b609-c500-416b-95bb-7454e8e74345",
   "metadata": {},
   "outputs": [],
   "source": [
    "summary_table = DataFrames.innerjoin(summary_table, joint_metadata[!, [\"Run\", \"aownership\", \"geo_loc_name\", \"date.end\"]], on=\"sample_id \\\\ subject tax name\" => \"Run\")"
   ]
  },
  {
   "cell_type": "code",
   "execution_count": null,
   "id": "767cb7d1-3fa0-45c7-b721-06b2866dfaba",
   "metadata": {},
   "outputs": [],
   "source": [
    "results_dir = joinpath(data_dir, \"results\")\n",
    "# readdir(results_dir)\n",
    "\n",
    "uCSV.write(joinpath(results_dir, \"blast_hits_summary_table.csv\"), summary_table)"
   ]
  },
  {
   "cell_type": "code",
   "execution_count": null,
   "id": "4fdcbf16-37a6-4f6a-b1e3-27e2f7bca6ef",
   "metadata": {},
   "outputs": [],
   "source": [
    "results_dir"
   ]
  },
  {
   "cell_type": "code",
   "execution_count": null,
   "id": "1811028c-eaaa-4daf-bfdc-a499104143a5",
   "metadata": {},
   "outputs": [],
   "source": [
    "# m = \"text/plain\"\n",
    "# m = \"text/html\"\n",
    "# m =  \"text/latex\"\n",
    "# m = \"text/csv\"\n",
    "# m = \"text/tab-separated-values\"\n",
    "\n",
    "# show(stdout, MIME(m), summary_table)"
   ]
  },
  {
   "cell_type": "code",
   "execution_count": null,
   "id": "0fd2c102-007b-4672-b6ac-fcd777a4fa20",
   "metadata": {},
   "outputs": [],
   "source": [
    "# show(stdout, MIME(\"text/html\"), )\n",
    "# PrettyTables.pretty_table(summary_table, backend = Val(:markdown))\n",
    "# PrettyTables.pretty_table(summary_table, backend = Val(:latex))\n",
    "# PrettyTables.pretty_table(summary_table, backend = Val(:html))\n",
    "PrettyTables.pretty_table(summary_table, backend = Val(:text))"
   ]
  },
  {
   "cell_type": "code",
   "execution_count": null,
   "id": "7f0f0a92-9297-45c9-8d90-69d83006b3e4",
   "metadata": {},
   "outputs": [],
   "source": [
    "show(stdout, \"text/plain\", matrix)"
   ]
  }
 ],
 "metadata": {
  "kernelspec": {
   "display_name": "Julia 1.9.3",
   "language": "julia",
   "name": "julia-1.9"
  },
  "language_info": {
   "file_extension": ".jl",
   "mimetype": "application/julia",
   "name": "julia",
   "version": "1.9.3"
  }
 },
 "nbformat": 4,
 "nbformat_minor": 5
}
