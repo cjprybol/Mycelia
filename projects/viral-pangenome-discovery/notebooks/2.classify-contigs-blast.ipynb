{
 "cells": [
  {
   "cell_type": "code",
   "execution_count": 1,
   "id": "ce59cd77-c0f0-4b90-8de8-3c5f071935ae",
   "metadata": {
    "tags": []
   },
   "outputs": [
    {
     "name": "stderr",
     "output_type": "stream",
     "text": [
      "\u001b[32m\u001b[1m  Activating\u001b[22m\u001b[39m environment at `~/work/Mycelia/projects/viral-pangenome-discovery/notebooks/Project.toml`\n",
      "\u001b[32m\u001b[1m    Updating\u001b[22m\u001b[39m registry at `/opt/julia/registries/General`\n",
      "\u001b[32m\u001b[1m   Resolving\u001b[22m\u001b[39m package versions...\n",
      "\u001b[32m\u001b[1m  No Changes\u001b[22m\u001b[39m to `~/work/Mycelia/projects/viral-pangenome-discovery/notebooks/Project.toml`\n",
      "\u001b[32m\u001b[1m  No Changes\u001b[22m\u001b[39m to `~/work/Mycelia/projects/viral-pangenome-discovery/notebooks/Manifest.toml`\n",
      "┌ Info: Precompiling Mycelia [453d265d-8292-4a7b-a57c-dce3f9ae6acd]\n",
      "└ @ Base loading.jl:1342\n",
      "WARNING: Method definition count_matrix_to_probability_matrix(Any) in module Mycelia at /home/jovyan/work/Mycelia/src/sequence-analysis.jl:164 overwritten at /home/jovyan/work/Mycelia/src/sequence-analysis.jl:181.\n",
      "  ** incremental compilation may be fatally broken for this module **\n",
      "\n"
     ]
    }
   ],
   "source": [
    "import Pkg\n",
    "Pkg.activate(\".\")\n",
    "\n",
    "# not for the faint of heart!\n",
    "# Pkg.update()\n",
    "\n",
    "pkgs = [\n",
    "\"ArgParse\",\n",
    "\"Base64\",\n",
    "\"BioSequences\",\n",
    "\"DataFrames\",\n",
    "\"Dates\",\n",
    "\"DelimitedFiles\",\n",
    "\"FASTX\",\n",
    "\"GLM\",\n",
    "\"HTTP\",\n",
    "\"JSON\",\n",
    "\"Graphs\",\n",
    "\"MetaGraphs\",\n",
    "\"MD5\",\n",
    "\"Statistics\",\n",
    "\"StatsPlots\",\n",
    "\"uCSV\",\n",
    "\"CodecZlib\",\n",
    "\"YAML\",\n",
    "\"Revise\",\n",
    "\"Kmers\",\n",
    "\"StatsBase\",\n",
    "\"ProgressMeter\"\n",
    "]\n",
    "Pkg.add(pkgs)\n",
    "for pkg in pkgs\n",
    "    eval(Meta.parse(\"import $pkg\"))\n",
    "end\n",
    "\n",
    "import Mycelia"
   ]
  },
  {
   "cell_type": "code",
   "execution_count": 2,
   "id": "909f13b4-7e9d-429b-8b83-33c99af653c9",
   "metadata": {},
   "outputs": [
    {
     "data": {
      "text/plain": [
       "\"/home/jovyan/work/Mycelia/projects/viral-pangenome-discovery/data\""
      ]
     },
     "execution_count": 2,
     "metadata": {},
     "output_type": "execute_result"
    }
   ],
   "source": [
    "data_dir = joinpath(dirname(pwd()), \"data\")"
   ]
  },
  {
   "cell_type": "markdown",
   "id": "c076f9f5-3cf3-4ec3-bfd1-4c67579bfd48",
   "metadata": {},
   "source": [
    "# create full refseq database with taxonomic IDs from scratch"
   ]
  },
  {
   "cell_type": "code",
   "execution_count": 3,
   "id": "d8873f2a-cd7d-456f-90d7-b00373326ebe",
   "metadata": {},
   "outputs": [],
   "source": [
    "# blastdb_dir = mkpath(\"$(homedir())/workspace/blastdbs/refseq\")\n",
    "\n",
    "# refseq_metadata = Mycelia.load_refseq_metadata();\n",
    "\n",
    "# gcf_to_url_map = Dict(row[\"# assembly_accession\"] => Mycelia.ncbi_ftp_path_to_url(ftp_path = row[\"ftp_path\"], extension = \"genomic.fna.gz\") for row in DataFrames.eachrow(refseq_metadata))\n",
    "\n",
    "# expected_list_of_fasta_files = basename.(values(gcf_to_url_map))\n",
    "# actual_list_of_fasta_files = filter(x -> occursin(r\"genomic\\.fna\\.gz$\", x), readdir(blastdb_dir))\n",
    "# fasta_files_to_remove = setdiff(actual_list_of_fasta_files, expected_list_of_fasta_files)\n",
    "\n",
    "# for f in fasta_files_to_remove\n",
    "#     rm(joinpath(blastdb_dir, f))\n",
    "# end\n",
    "\n",
    "# missing_fasta_files = setdiff(expected_list_of_fasta_files, actual_list_of_fasta_files)\n",
    "\n",
    "# # using ProgressMeter\n",
    "# # p = Progress(10)\n",
    "# # Threads.@threads for i in 1:10\n",
    "# #     sleep(2*rand())\n",
    "# #     next!(p)\n",
    "# # end\n",
    "# # finish!(p)\n",
    "\n",
    "# ProgressMeter.@showprogress for f in missing_fasta_files\n",
    "#     GCF_identifier = join(split(f, '_')[1:2], '_')\n",
    "#     url = gcf_to_url_map[GCF_identifier]\n",
    "#     out_f = joinpath(blastdb_dir, f)\n",
    "#     # @show f, out_f\n",
    "#     if !isfile(out_f)\n",
    "#         download(url, out_f)\n",
    "#     end\n",
    "# end\n",
    "\n",
    "# actual_list_of_fasta_files = filter(x -> occursin(r\"genomic\\.fna\\.gz$\", x), readdir(blastdb_dir))\n",
    "# # @assert actual_list_of_fasta_files == expected_list_of_fasta_files\n",
    "# list_of_fasta_files = intersect(actual_list_of_fasta_files, expected_list_of_fasta_files)\n",
    "\n",
    "# ProgressMeter.@showprogress for f in list_of_fasta_files\n",
    "#     f_path = joinpath(blastdb_dir, f)\n",
    "#     headers_file = f_path * \".headers.txt\"\n",
    "#     if !isfile(headers_file)\n",
    "#         p1 = pipeline(`gzip -dc $(f_path)`, `grep \"^>\"`)\n",
    "#         p2 = pipeline(p1, headers_file)\n",
    "#         run(p2)\n",
    "#     end\n",
    "# end\n",
    "\n",
    "# # find -name \"*_genomic.fna.gz\" > genome_list.txt\n",
    "# # head -n3 genome_list.txt > genome_list.3.txt\n",
    "\n",
    "# # $ parallel --shellquote\n",
    "# # parallel: Warning: Input is read from the terminal. You either know what you\n",
    "# # parallel: Warning: are doing (in which case: YOU ARE AWESOME!) or you forgot\n",
    "# # parallel: Warning: ::: or :::: or to pipe data into parallel. If so\n",
    "# # parallel: Warning: consider going through the tutorial: man parallel_tutorial\n",
    "# # parallel: Warning: Press CTRL-D to exit.\n",
    "# # gzip -dc {} | grep \"^>\" > {}.headers.txt\n",
    "# # parallel gzip\\ -dc\\ \\{\\}\\ \\|\\ grep\\ \\\"\\^\\>\\\"\\ \\>\\ \\{\\}.headers.txt :::: genome_list.3.txt\n",
    "\n",
    "# # parallel gzip\\ -dc\\ \\{\\}\\ \\|\\ grep\\ \\\"\\^\\>\\\"\\ \\>\\ \\{\\}.headers.txt :::: genome_list.txt\n",
    "\n",
    "# # NOTE instead of making a giant joint fasta, it seems possible to make a db for each fasta, and then link them\n",
    "# # this would be more efficient to update and revise on the fly\n",
    "# # would also probably be more storage efficient\n",
    "# # will try both\n",
    "\n",
    "# # blastdb_aliastool -dblist \"database_1 database_2 and so on\" -dbtype nucl -out your_linked_db_name -title \"My full DB\"\n",
    "# # Late to the conversation but I realized something important.\n",
    "# # The above may not work if your concatenation results in a fasta file larger than \"1000000000\" bytes. The makeblastdb output specifies this number.\n",
    "# # The safer option is to build a database from each fasta file (after verifying that the file is less than 1000000000B and splitting if necessary; latter can be done like this: https://biopython.org/wiki/Split_large_file).\n",
    "# # Then you can use the blastdb_aliastool like so (adapted from NCBI's manual):\n",
    "# # blastdb_aliastool -dblist \"database_1 database_2 and so on\" -dbtype nucl -out your_linked_db_name -title \"My full DB\"\n",
    "\n",
    "# # NOTE, CAN PROBABLY SKIP MAKING A JOINT FILE\n",
    "# joint_fasta_file = joinpath(blastdb_dir, \"refseq.fna.gz\")\n",
    "# if !isfile(joint_fasta_file)\n",
    "#     # 39311.386470 seconds\n",
    "#     # 10 hours!!\n",
    "#     @time Mycelia.merge_fasta_files(joinpath.(blastdb_dir, list_of_fasta_files), joint_fasta_file)\n",
    "# else\n",
    "#     @info \"$(joint_fasta_file) present, remove to regenerate...\"\n",
    "# end\n",
    "\n",
    "# fasta_to_taxon_id_map = gcf_to_url_map = Dict(basename(Mycelia.ncbi_ftp_path_to_url(ftp_path = row[\"ftp_path\"], extension = \"genomic.fna.gz\")) => row[\"taxid\"] for row in DataFrames.eachrow(refseq_metadata))\n",
    "\n",
    "#  # -taxid_map <File_In>\n",
    "#  #   Text file mapping sequence IDs to taxonomy IDs.\n",
    "#  #   Format:<SequenceId> <TaxonomyId><newline>\n",
    "#  #    * Requires:  parse_seqids\n",
    "#  #    * Incompatible with:  taxid\n",
    "\n",
    "# # Progress: 100%|█████████████████████████████████████████| Time: 1:16:56\n",
    "# taxon_map_file = joint_fasta_file * \".taxon_map.txt\"\n",
    "# if !isfile(taxon_map_file)\n",
    "#     open(taxon_map_file, \"w\") do io\n",
    "#         ProgressMeter.@showprogress for f in list_of_fasta_files\n",
    "#             f_path = joinpath(blastdb_dir, f)\n",
    "#             headers_file = f_path * \".headers.txt\"\n",
    "#             taxon_id = fasta_to_taxon_id_map[f]\n",
    "#             for line in eachline(headers_file)\n",
    "#                 sequence_id = replace(first(split(line)), \">\" => \"\")\n",
    "#                 println(io, \"$(sequence_id) $(taxon_id)\")\n",
    "#             end\n",
    "#         end\n",
    "#     end\n",
    "# else\n",
    "#     @info \"$(taxon_map_file) already present...\"\n",
    "# end\n",
    "\n",
    "# # consider trying these to improve performance later???\n",
    "# # @time run(`dustmasker -in $(decompressed_joint_fasta_file) -infmt fasta -parse_seqids -outfmt maskinfo_asn1_bin -out $(decompressed_joint_fasta_file).asnb`)\n",
    "# # dustmasker -in hs_chr -infmt blastdb -parse_seqids -outfmt maskinfo_asn1_bin -out hs_chr_dust.asnb\n",
    "# # makeblastdb -in hs_chr –input_type blastdb -dbtype nucl -parse_seqids -mask_data hs_chr_mask.asnb -out hs_chr -title \"Human Chromosome, Ref B37.1\"\n",
    "\n",
    "# db_title = \"Refseq $(Dates.today())\"\n",
    "\n",
    "# # refseq_db = decompressed_joint_fasta_file\n",
    "\n",
    "# # start time Building a new DB, current time: 03/16/2023 16:13:05\n",
    "# # end time ???\n",
    "\n",
    "# # (base) 2023-03-17T21:11:40 jovyan@76eefed4ebe2:~/.../blastdbs/refseq\n",
    "# # $ time gzip -dc refseq.fna.gz | makeblastdb -in - -dbtype nucl -parse_seqids -out refseq.fna.gz -title \"Refseq 2023-03-17\" -taxid_map refseq.fna.gz.taxon_map.txt\n",
    "\n",
    "\n",
    "# # Building a new DB, current time: 03/17/2023 21:11:44\n",
    "# # New DB name:   /home/jovyan/work/blastdbs/refseq/refseq.fna.gz\n",
    "# # New DB title:  Refseq 2023-03-17\n",
    "# # Sequence type: Nucleotide\n",
    "# # Deleted existing Nucleotide BLAST database named /home/jovyan/work/blastdbs/refseq/refseq.fna.gz\n",
    "# # Keep MBits: T\n",
    "# # Maximum file size: 3000000000B\n",
    "# # Adding sequences from FASTA; added 42462451 sequences in 42543.2 seconds.\n",
    "\n",
    "\n",
    "\n",
    "# # real    717m46.778s\n",
    "# # user    761m57.365s\n",
    "# # sys     51m2.045s\n",
    "\n",
    "\n",
    "# # p = pipeline(`gzip -dc $(joint_fasta_file)`, `makeblastdb -in - -dbtype nucl -parse_seqids -out $(joint_fasta_file) -title $(db_title) -taxid_map $(taxon_map_file)`)\n",
    "# # @time run(p)\n",
    "# # @time run(`makeblastdb -in $(decompressed_joint_fasta_file) -dbtype nucl -parse_seqids -out $(decompressed_joint_fasta_file) -title $(db_title) -taxid_map $(taxon_map_file)`)\n",
    "\n",
    "\n",
    "# # gzip -dc refseq.fna.gz | makeblastdb -in - -dbtype nucl -parse_seqids -out refseq.fna.gz -title \"Refseq 2023-03-17\" -taxid_map refseq.fna.gz.taxon_map.txt\n",
    "\n",
    "# # ll -tr refseq*"
   ]
  },
  {
   "cell_type": "markdown",
   "id": "71b7a8c1-1b82-43dc-85c5-3f29ed9c2f12",
   "metadata": {},
   "source": [
    "# windowmasker and dustmasker - not currently using"
   ]
  },
  {
   "cell_type": "code",
   "execution_count": 4,
   "id": "40d473c5-47cc-4844-a494-19f523aeffef",
   "metadata": {},
   "outputs": [],
   "source": [
    "# window_masker_step_1_outfile = \"$(joint_fasta_file).window_masker.1\"\n",
    "# @time run(`windowmasker -mk_counts -infmt fasta -in $(joint_fasta_file) -out $(window_masker_step_1_outfile)`)\n",
    "# window_masker_step_2_outfile = \"$(joint_fasta_file).window_masker.2\"\n",
    "# @time run(`windowmasker -ustat $(window_masker_step_1_outfile) -dust true -in $(joint_fasta_file) -infmt fasta -out $(window_masker_step_2_outfile)`)\n",
    "\n",
    "# run(`makeblastdb -in nt –input_type blastdb -dbtype nucl -parse_seqids -mask_data nt.wm.2 -out nt_masked_deduped -title \"nt masked and deduped\"`)\n",
    "\n",
    "    # windowmasker -mk_counts -checkdup true -infmt blastdb -in nt -out nt.wm.1\n",
    "    # windowmasker -ustat nt.wm.1 -dust true -in nt -infmt blastdb -out nt.wm.2\n",
    "    # makeblastdb -in nt –input_type blastdb -dbtype nucl -parse_seqids -mask_data nt.wm.2 -out nt_masked_deduped -title \"nt masked and deduped\""
   ]
  },
  {
   "cell_type": "code",
   "execution_count": 5,
   "id": "6d083e4a-8796-477b-8f1d-fd9139d396ed",
   "metadata": {},
   "outputs": [
    {
     "name": "stderr",
     "output_type": "stream",
     "text": [
      "┌ Info: blast db detected, using existing\n",
      "└ @ Main In[5]:4\n"
     ]
    }
   ],
   "source": [
    "blastdb_dir = mkpath(\"$(homedir())/workspace/blastdbs/refseq-viral\")\n",
    "blast_db = \"ref_viruses_rep_genomes\"\n",
    "if !isempty(readdir(blastdb_dir))\n",
    "    @info \"blast db detected, using existing\"\n",
    "else\n",
    "    # Mycelia.download_blast_db(db=blast_db, outdir=blastdb_dir, source=\"ncbi\", conda_env=\"viral-pangenome-discovery\")\n",
    "    Mycelia.download_blast_db(db=blast_db, outdir=blastdb_dir, source=\"ncbi\")\n",
    "end\n",
    "\n",
    "# # move me up to the initial download location\n",
    "# taxdump_tar = joinpath(blastdb_dir, \"taxdump.tar.gz\")\n",
    "# if !isfile(taxdump_tar)\n",
    "#     # run(`wget --quiet https://ftp.ncbi.nih.gov/pub/taxonomy/taxdump.tar.gz`)\n",
    "#     # mv(\"taxdump.tar.gz\", taxdump_tar)    \n",
    "#     run(`wget --quiet https://ftp.ncbi.nih.gov/pub/taxonomy/taxdump.tar.gz --directory-prefix=$(blastdb_dir)`)\n",
    "# end\n",
    "# taxdump_dir = mkpath(joinpath(blastdb_dir, \"taxdump\"))\n",
    "# if isempty(readdir(taxdump_dir))\n",
    "#     run(`tar -xvzf $(taxdump_tar) --directory $(taxdump_dir)`)\n",
    "# end"
   ]
  },
  {
   "cell_type": "markdown",
   "id": "94dc46d9-1941-44ee-8805-5eb5f5d057b1",
   "metadata": {},
   "source": [
    "# taxonomy - skip and pull in with taxonkit"
   ]
  },
  {
   "cell_type": "code",
   "execution_count": 7,
   "id": "f72309df-66e6-4b89-b000-15b6ab7365a8",
   "metadata": {},
   "outputs": [],
   "source": [
    "# note this is only needed if we want full taxonomy information - default blast will give taxid which we can use to lookup more taxonomy info later\n",
    "# # move me up to the initial download location\n",
    "# taxdump_tar = joinpath(blastdb_dir, \"taxdump.tar.gz\")\n",
    "# if !isfile(taxdump_tar)\n",
    "#     # run(`wget --quiet https://ftp.ncbi.nih.gov/pub/taxonomy/taxdump.tar.gz`)\n",
    "#     # mv(\"taxdump.tar.gz\", taxdump_tar)    \n",
    "#     run(`wget --quiet https://ftp.ncbi.nih.gov/pub/taxonomy/taxdump.tar.gz --directory-prefix=$(blastdb_dir)`)\n",
    "# end\n",
    "# taxdump_dir = mkpath(joinpath(blastdb_dir, \"taxdump\"))\n",
    "# if isempty(readdir(taxdump_dir))\n",
    "#     run(`tar -xvzf $(taxdump_tar) --directory $(taxdump_dir)`)\n",
    "# end"
   ]
  },
  {
   "cell_type": "code",
   "execution_count": 8,
   "id": "5685b842-daff-4e86-9235-4b8094979ca1",
   "metadata": {},
   "outputs": [
    {
     "data": {
      "text/plain": [
       "151-element Vector{String}:\n",
       " \"/home/jovyan/work/Mycelia/projects/viral-pangenome-discovery/data/SRA/SRR6399459\"\n",
       " \"/home/jovyan/work/Mycelia/projects/viral-pangenome-discovery/data/SRA/SRR6399460\"\n",
       " \"/home/jovyan/work/Mycelia/projects/viral-pangenome-discovery/data/SRA/SRR6399461\"\n",
       " \"/home/jovyan/work/Mycelia/projects/viral-pangenome-discovery/data/SRA/SRR6399462\"\n",
       " \"/home/jovyan/work/Mycelia/projects/viral-pangenome-discovery/data/SRA/SRR6399463\"\n",
       " \"/home/jovyan/work/Mycelia/projects/viral-pangenome-discovery/data/SRA/SRR6399464\"\n",
       " \"/home/jovyan/work/Mycelia/projects/viral-pangenome-discovery/data/SRA/SRR6399465\"\n",
       " \"/home/jovyan/work/Mycelia/projects/viral-pangenome-discovery/data/SRA/SRR6399466\"\n",
       " \"/home/jovyan/work/Mycelia/projects/viral-pangenome-discovery/data/SRA/SRR6399467\"\n",
       " \"/home/jovyan/work/Mycelia/projects/viral-pangenome-discovery/data/SRA/SRR6399468\"\n",
       " \"/home/jovyan/work/Mycelia/projects/viral-pangenome-discovery/data/SRA/SRR6399469\"\n",
       " \"/home/jovyan/work/Mycelia/projects/viral-pangenome-discovery/data/SRA/SRR6399470\"\n",
       " \"/home/jovyan/work/Mycelia/projects/viral-pangenome-discovery/data/SRA/SRR6399471\"\n",
       " ⋮\n",
       " \"/home/jovyan/work/Mycelia/projects/viral-pangenome-discovery/data/SRA/SRR6399598\"\n",
       " \"/home/jovyan/work/Mycelia/projects/viral-pangenome-discovery/data/SRA/SRR6399599\"\n",
       " \"/home/jovyan/work/Mycelia/projects/viral-pangenome-discovery/data/SRA/SRR6399600\"\n",
       " \"/home/jovyan/work/Mycelia/projects/viral-pangenome-discovery/data/SRA/SRR6399601\"\n",
       " \"/home/jovyan/work/Mycelia/projects/viral-pangenome-discovery/data/SRA/SRR6399602\"\n",
       " \"/home/jovyan/work/Mycelia/projects/viral-pangenome-discovery/data/SRA/SRR6399603\"\n",
       " \"/home/jovyan/work/Mycelia/projects/viral-pangenome-discovery/data/SRA/SRR6399604\"\n",
       " \"/home/jovyan/work/Mycelia/projects/viral-pangenome-discovery/data/SRA/SRR6399605\"\n",
       " \"/home/jovyan/work/Mycelia/projects/viral-pangenome-discovery/data/SRA/SRR6399606\"\n",
       " \"/home/jovyan/work/Mycelia/projects/viral-pangenome-discovery/data/SRA/SRR6399607\"\n",
       " \"/home/jovyan/work/Mycelia/projects/viral-pangenome-discovery/data/SRA/SRR6399608\"\n",
       " \"/home/jovyan/work/Mycelia/projects/viral-pangenome-discovery/data/SRA/SRR6399609\""
      ]
     },
     "execution_count": 8,
     "metadata": {},
     "output_type": "execute_result"
    }
   ],
   "source": [
    "SRR_paths = filter(x -> !occursin(\".ipynb_checkpoints\", x), readdir(joinpath(data_dir, \"SRA\"), join=true))\n",
    "SRR_paths = filter(x -> isfile(joinpath(x, \"megahit\", \"final.contigs.fastg.gfa.fna\")), SRR_paths)"
   ]
  },
  {
   "cell_type": "code",
   "execution_count": 9,
   "id": "e01cb376-0c6e-4375-8c1c-722c66280600",
   "metadata": {},
   "outputs": [
    {
     "name": "stdout",
     "output_type": "stream",
     "text": [
      "SRR = \"SRR6399459\"\n"
     ]
    }
   ],
   "source": [
    "# 10 hours per sample?!\n",
    "# for SRR_path in SRR_paths[6:end]\n",
    "SRR_path = SRR_paths[1]\n",
    "SRR = basename(SRR_path)\n",
    "@show SRR\n",
    "contig_info_tsv = \"$(SRR_path)/$(SRR).final.contigs.fastg.gfa.fna.blastn.$(blast_db).tsv\"\n",
    "if isfile(contig_info_tsv)\n",
    "    @info \"$(contig_info_tsv) already present, skipping...\"\n",
    "end"
   ]
  },
  {
   "cell_type": "code",
   "execution_count": 10,
   "id": "877f72f0-59c9-40b2-8d2e-6225669cc156",
   "metadata": {},
   "outputs": [],
   "source": [
    "assembled_fasta = joinpath(SRR_path, \"megahit\", \"final.contigs.fastg.gfa.fna\")\n",
    "@assert isfile(assembled_fasta)"
   ]
  },
  {
   "cell_type": "code",
   "execution_count": 11,
   "id": "f7d65241-3a02-452b-b51d-99ad7033a9fb",
   "metadata": {},
   "outputs": [
    {
     "data": {
      "text/plain": [
       "\"/home/jovyan/workspace/blastdbs/refseq-viral/ref_viruses_rep_genomes\""
      ]
     },
     "execution_count": 11,
     "metadata": {},
     "output_type": "execute_result"
    }
   ],
   "source": [
    "# db_path = joint_fasta_file\n",
    "db_path = joinpath(blastdb_dir, blast_db)\n",
    "# blast_db = basename(db_path)\n",
    "# blastdb_dir = dirname(db_path)"
   ]
  },
  {
   "cell_type": "code",
   "execution_count": 12,
   "id": "d5bb0083-18b5-42af-adce-23b9b0fce531",
   "metadata": {},
   "outputs": [
    {
     "name": "stdout",
     "output_type": "stream",
     "text": [
      "  0.144430 seconds (870.72 k allocations: 47.859 MiB, 99.03% compilation time)\n"
     ]
    },
    {
     "data": {
      "text/plain": [
       "\"/home/jovyan/work/Mycelia/projects/viral-pangenome-discovery/data/SRA/SRR6399459/blastn/final.contigs.fastg.gfa.fna.blastn.ref_viruses_rep_genomes.megablast.txt\""
      ]
     },
     "execution_count": 12,
     "metadata": {},
     "output_type": "execute_result"
    }
   ],
   "source": [
    "# run megablast to get first quick pass at species-level identifications\n",
    "# 12 seconds\n",
    "@time megablast_report = Mycelia.run_blastn(out_dir = SRR_path, fasta = assembled_fasta, blast_db = db_path, task = \"megablast\")"
   ]
  },
  {
   "cell_type": "code",
   "execution_count": 13,
   "id": "ebe8c3f9-ce89-4cf6-b060-09654ea2e73e",
   "metadata": {},
   "outputs": [
    {
     "name": "stdout",
     "output_type": "stream",
     "text": [
      "  0.000075 seconds (44 allocations: 3.172 KiB)\n"
     ]
    },
    {
     "data": {
      "text/plain": [
       "\"/home/jovyan/work/Mycelia/projects/viral-pangenome-discovery/data/SRA/SRR6399459/blastn/final.contigs.fastg.gfa.fna.blastn.ref_viruses_rep_genomes.dc-megablast.txt\""
      ]
     },
     "execution_count": 13,
     "metadata": {},
     "output_type": "execute_result"
    }
   ],
   "source": [
    "# 53 seconds\n",
    "@time dc_megablast_report = Mycelia.run_blastn(out_dir = SRR_path, fasta = assembled_fasta, blast_db = db_path, task = \"dc-megablast\")"
   ]
  },
  {
   "cell_type": "code",
   "execution_count": 14,
   "id": "95bfc5cc-fc17-4baf-9ac4-8054b1fe3e76",
   "metadata": {},
   "outputs": [
    {
     "name": "stderr",
     "output_type": "stream",
     "text": [
      "┌ Info: running cmd `blastn -num_threads 8 -outfmt '7 qseqid qtitle sseqid sacc saccver stitle qlen slen qstart qend sstart send evalue bitscore length pident nident mismatch staxid' -query /home/jovyan/work/Mycelia/projects/viral-pangenome-discovery/data/SRA/SRR6399459/megahit/final.contigs.fastg.gfa.fna -db /home/jovyan/workspace/blastdbs/refseq-viral/ref_viruses_rep_genomes -out /home/jovyan/work/Mycelia/projects/viral-pangenome-discovery/data/SRA/SRR6399459/blastn/final.contigs.fastg.gfa.fna.blastn.ref_viruses_rep_genomes.blastn.txt -max_target_seqs 10 -subject_besthit -task blastn -evalue 0.001`\n",
      "└ @ Mycelia /home/jovyan/work/Mycelia/src/annotation.jl:496\n"
     ]
    },
    {
     "name": "stdout",
     "output_type": "stream",
     "text": [
      " 98.688051 seconds (3.19 k allocations: 103.891 KiB)\n",
      " 98.860563 seconds (171.19 k allocations: 9.117 MiB, 0.17% compilation time)\n"
     ]
    },
    {
     "data": {
      "text/plain": [
       "\"/home/jovyan/work/Mycelia/projects/viral-pangenome-discovery/data/SRA/SRR6399459/blastn/final.contigs.fastg.gfa.fna.blastn.ref_viruses_rep_genomes.blastn.txt\""
      ]
     },
     "execution_count": 14,
     "metadata": {},
     "output_type": "execute_result"
    }
   ],
   "source": [
    "# 98 seconds\n",
    "@time blastn_report = Mycelia.run_blastn(out_dir = SRR_path, fasta = assembled_fasta, blast_db = db_path, task = \"blastn\")"
   ]
  },
  {
   "cell_type": "code",
   "execution_count": null,
   "id": "8817074a-c196-4f67-b723-9edf54d7fd65",
   "metadata": {},
   "outputs": [],
   "source": [
    "# 7747 contigs total\n",
    "\n",
    "# # 286 hits against 210 contigs\n",
    "# megablast_results = Mycelia.parse_blast_report(megablast_report)\n",
    "# @show DataFrames.nrow(megablast_results)\n",
    "# @show length(unique(megablast_results[!, \"query id\"]))\n",
    "\n",
    "# # 1370 hits across 625 contigs\n",
    "# dc_megablast_results = Mycelia.parse_blast_report(dc_megablast_report)\n",
    "# @show DataFrames.nrow(dc_megablast_results)\n",
    "# @show length(unique(dc_megablast_results[!, \"query id\"]))\n",
    "\n",
    "# # 2432 hits across 900 contigs\n",
    "blastn_results = Mycelia.parse_blast_report(blastn_report)\n",
    "# @show DataFrames.nrow(blastn_results)\n",
    "# @show length(unique(blastn_results[!, \"query id\"]))"
   ]
  },
  {
   "cell_type": "code",
   "execution_count": 48,
   "id": "374e21d0-5d12-4405-a5e1-8a3e9d0c017c",
   "metadata": {},
   "outputs": [],
   "source": [
    "viral_contigs = Set(unique(blastn_results[!, \"query id\"]));\n",
    "# take everything that is a sensitive blastn hit against the viruses db, and then blast those against NT to verify there aren't better non-viral hits\n",
    "viral_fasta = replace(assembled_fasta, \".fna\" => \".viral.fna\")\n",
    "open(viral_fasta, \"w\") do io\n",
    "    fastx_io = FASTX.FASTA.Writer(io)\n",
    "    for record in FASTX.FASTA.Reader(open(assembled_fasta))\n",
    "        if (FASTX.identifier(record) in viral_contigs)\n",
    "            write(fastx_io, record)\n",
    "        end\n",
    "    end\n",
    "    close(fastx_io)\n",
    "end\n",
    "@assert length(collect(Mycelia.open_fastx(viral_fasta))) == length(viral_contigs)"
   ]
  },
  {
   "cell_type": "markdown",
   "id": "7548988d-64cf-49d3-934a-c4fb93c6df7f",
   "metadata": {},
   "source": [
    "# blast nt - dropped as default because of insanely long runtime, but using to validate viral hits from round 1"
   ]
  },
  {
   "cell_type": "code",
   "execution_count": 53,
   "id": "3b8ecd57-0ea7-4e81-96f5-ceca22619bfa",
   "metadata": {},
   "outputs": [
    {
     "name": "stderr",
     "output_type": "stream",
     "text": [
      "┌ Info: blast db detected, using existing\n",
      "└ @ Main In[53]:5\n"
     ]
    }
   ],
   "source": [
    "nt_blastdb_dir = \"$(homedir())/workspace/blastdb\"\n",
    "nt_blast_db = \"nt\"\n",
    "nt_blastdb_path = joinpath(nt_blastdb_dir, nt_blast_db)\n",
    "if isdir(blastdb_dir) && !isempty(readdir(blastdb_dir))\n",
    "    @info \"blast db detected, using existing\"\n",
    "else\n",
    "    Mycelia.download_blast_db(db=nt_blast_db, outdir=nt_blastdb_dir, source=\"ncbi\")\n",
    "end"
   ]
  },
  {
   "cell_type": "code",
   "execution_count": null,
   "id": "a0bde1f1-e918-428e-a34c-9615f11c55d3",
   "metadata": {},
   "outputs": [
    {
     "name": "stderr",
     "output_type": "stream",
     "text": [
      "┌ Info: running cmd `blastn -num_threads 8 -outfmt '7 qseqid qtitle sseqid sacc saccver stitle qlen slen qstart qend sstart send evalue bitscore length pident nident mismatch staxid' -query /home/jovyan/work/Mycelia/projects/viral-pangenome-discovery/data/SRA/SRR6399459/megahit/final.contigs.fastg.gfa.viral.fna -db /home/jovyan/workspace/blastdb/nt -out /home/jovyan/work/Mycelia/projects/viral-pangenome-discovery/data/SRA/SRR6399459/blastn/final.contigs.fastg.gfa.viral.fna.blastn.nt.blastn.txt -max_target_seqs 10 -subject_besthit -task blastn -evalue 0.001`\n",
      "└ @ Mycelia /home/jovyan/work/Mycelia/src/annotation.jl:496\n"
     ]
    }
   ],
   "source": [
    "@time blastn_nt_report = Mycelia.run_blastn(out_dir = SRR_path, fasta = viral_fasta, blast_db = nt_blastdb_path, task = \"blastn\")"
   ]
  },
  {
   "cell_type": "code",
   "execution_count": 40,
   "id": "77b1c199-1b28-475c-bb5a-1481388fb89f",
   "metadata": {},
   "outputs": [],
   "source": [
    "# this actually had more viral hits than blastn against representative viruses, but only by a bit more\n",
    "# nt_megablast_report = joinpath(data_dir, \"SRA/SRR6399459/blastn/final.contigs.fastg.gfa.fna.blastn.nt.megablast.txt\")\n",
    "\n",
    "# intersect(hits, parse.(Int, blastn_results[!, \"query id\"]))\n",
    "\n",
    "# # 18741252 hits (too many!!) across 1142 contigs (not enough?!)\n",
    "# # only 17 contigs came back with viral classifications!!\n",
    "# nt_megablast_results = Mycelia.parse_blast_report(nt_megablast_report)\n",
    "# # @show DataFrames.nrow(nt_megablast_results)\n",
    "# # @show length(unique(nt_megablast_results[!, \"query id\"]))"
   ]
  },
  {
   "cell_type": "code",
   "execution_count": null,
   "id": "541fe522-dd23-493f-aa26-b6d83e5153ce",
   "metadata": {},
   "outputs": [],
   "source": [
    "# create filtered list of contigs not identified by first pass\n",
    "# run dc-megablast to get second quick pass at genus-level identifications\n",
    "\n",
    "# read fasta file to determine list of contigs\n",
    "# fastx_identifiers = [FASTX.identifier(record) for record in FASTX.FASTA.Reader(open(assembled_fasta))]\n",
    "# megablast_hits = unique(map(x -> first(split(x, '\\t')), Iterators.filter(l -> !occursin(r\"^#\", l), eachline(megablast_report))))\n",
    "# not_yet_annotated = setdiff(fastx_identifiers, megablast_hits)\n",
    "# not_yet_annotated_fasta = replace(assembled_fasta, \".fna\" => \".not_yet_annotated.fna\")\n",
    "# open(not_yet_annotated_fasta, \"w\") do io\n",
    "#     fastx_io = FASTX.FASTA.Writer(io)\n",
    "#     for record in FASTX.FASTA.Reader(open(assembled_fasta))\n",
    "#         if (FASTX.identifier(record) in not_yet_annotated)\n",
    "#             write(fastx_io, record)\n",
    "#         end\n",
    "#     end\n",
    "#     close(fastx_io)\n",
    "# end     \n",
    "# megablast_results = Mycelia.parse_blast_report(megablast_report)\n",
    "\n",
    "# Mycelia.run_blastn(out_dir = SRR_path, fasta = assembled_fasta, blast_db = db_path, task = \"dc-megablast\")\n",
    "\n",
    "# create filered list of contigs not identified by first or second pass\n",
    "\n",
    "# Mycelia.run_blastn(out_dir = SRR_path, fasta = assembled_fasta, blast_db = db_path, task = \"blastn\")"
   ]
  },
  {
   "cell_type": "code",
   "execution_count": null,
   "id": "0db1b0cd-0ef4-44fd-a838-b16adacce960",
   "metadata": {},
   "outputs": [],
   "source": [
    "# @time blast_report = Mycelia.run_blast(out_dir = SRR_path, fasta = assembled_fasta, blast_db = db_path, blast_command = \"blastn\")"
   ]
  },
  {
   "cell_type": "code",
   "execution_count": null,
   "id": "1a1a618d-77be-4274-8f98-e25e7703886e",
   "metadata": {},
   "outputs": [],
   "source": [
    "@info \"reading in blast report\"\n",
    "@time ncbi_blast_results = Mycelia.parse_blast_report(blast_report)\n",
    "detected_tax_id_file = \"$(assembled_fasta).detected_tax_ids.txt\"\n",
    "open(detected_tax_id_file, \"w\") do io\n",
    "    for taxid in unique(filter(!ismissing, ncbi_blast_results[!, \"subject tax id\"]))\n",
    "        println(io, taxid)\n",
    "    end\n",
    "end\n",
    "taxid_to_lineage_map = Dict(parse(Int, split_line[1]) => split_line[2] for split_line in split.(readlines(`taxonkit lineage --data-dir $(taxdump_dir) $(detected_tax_id_file)`), '\\t'))\n",
    "\n",
    "qualimap_report_txt = joinpath(SRR_path, \"megahit\", \"qualimap\", \"genome_results.txt\")\n",
    "qualimap_contig_coverage_table = Mycelia.parse_qualimap_contig_coverage(qualimap_report_txt)\n",
    "\n",
    "ncbi_blast_results[!, \"lineage\"] = map(x -> get(taxid_to_lineage_map, x, \"\"), ncbi_blast_results[!, \"subject tax id\"])\n",
    "ncbi_blast_results[!, \"% of subject length\"] = round.(ncbi_blast_results[!, \"query length\"] ./ ncbi_blast_results[!, \"subject length\"] * 100, digits=3)\n",
    "contig_info_table = DataFrames.leftjoin(qualimap_contig_coverage_table, ncbi_blast_results, on=\"Contig\" => \"query id\")\n",
    "\n",
    "# re-order columns based on utility\n",
    "reordered_columns = [\n",
    "    \"Contig\",\n",
    "    \"Length\",\n",
    "    \"Mapped bases\",\n",
    "    \"Mean coverage\",\n",
    "    \"Standard Deviation\",\n",
    "    \"% Mapped bases\",\n",
    "    \"subject id\",\n",
    "    \"subject acc.\",\n",
    "    \"subject title\",\n",
    "    \"subject tax id\",\n",
    "    \"lineage\",\n",
    "    \"% identity\",\n",
    "    \"% of subject length\",\n",
    "    \"evalue\",\n",
    "    \"bit score\",\n",
    "    \"query length\",\n",
    "    \"subject length\",\n",
    "    \"alignment length\",\n",
    "    \"q. start\",\n",
    "    \"q. end\",\n",
    "    \"s. start\",\n",
    "    \"s. end\",\n",
    "    \"identical\",\n",
    "    \"mismatches\"\n",
    "]\n",
    "contig_info_table = contig_info_table[!, reordered_columns]\n",
    "sort!(contig_info_table, [\"% Mapped bases\", \"bit score\"], rev=true)\n",
    "        # consider gzipping for large files!\n",
    "    uCSV.write(contig_info_tsv, contig_info_table, delim='\\t')\n",
    "end"
   ]
  }
 ],
 "metadata": {
  "kernelspec": {
   "display_name": "Julia 1.6.3",
   "language": "julia",
   "name": "julia-1.6"
  },
  "language_info": {
   "file_extension": ".jl",
   "mimetype": "application/julia",
   "name": "julia",
   "version": "1.6.3"
  }
 },
 "nbformat": 4,
 "nbformat_minor": 5
}
