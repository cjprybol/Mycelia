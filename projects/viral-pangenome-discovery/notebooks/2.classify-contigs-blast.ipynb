{
 "cells": [
  {
   "cell_type": "code",
   "execution_count": 1,
   "id": "ce59cd77-c0f0-4b90-8de8-3c5f071935ae",
   "metadata": {
    "tags": []
   },
   "outputs": [
    {
     "name": "stderr",
     "output_type": "stream",
     "text": [
      "\u001b[32m\u001b[1m  Activating\u001b[22m\u001b[39m environment at `~/work/Mycelia/projects/viral-pangenome-discovery/notebooks/Project.toml`\n",
      "\u001b[32m\u001b[1m    Updating\u001b[22m\u001b[39m registry at `/opt/julia/registries/General`\n",
      "\u001b[32m\u001b[1m   Resolving\u001b[22m\u001b[39m package versions...\n",
      "\u001b[32m\u001b[1m  No Changes\u001b[22m\u001b[39m to `~/work/Mycelia/projects/viral-pangenome-discovery/notebooks/Project.toml`\n",
      "\u001b[32m\u001b[1m  No Changes\u001b[22m\u001b[39m to `~/work/Mycelia/projects/viral-pangenome-discovery/notebooks/Manifest.toml`\n",
      "\u001b[32m\u001b[1mPrecompiling\u001b[22m\u001b[39m project...\n",
      "\u001b[32m  ✓ \u001b[39mMycelia\n",
      "  1 dependency successfully precompiled in 82 seconds (243 already precompiled)\n"
     ]
    }
   ],
   "source": [
    "import Pkg\n",
    "Pkg.activate(\".\")\n",
    "\n",
    "# not for the faint of heart!\n",
    "# Pkg.update()\n",
    "\n",
    "pkgs = [\n",
    "\"ArgParse\",\n",
    "\"Base64\",\n",
    "\"BioSequences\",\n",
    "\"DataFrames\",\n",
    "\"Dates\",\n",
    "\"DelimitedFiles\",\n",
    "\"FASTX\",\n",
    "\"GLM\",\n",
    "\"HTTP\",\n",
    "\"JSON\",\n",
    "\"Graphs\",\n",
    "\"MetaGraphs\",\n",
    "\"MD5\",\n",
    "\"Statistics\",\n",
    "\"StatsPlots\",\n",
    "\"uCSV\",\n",
    "\"CodecZlib\",\n",
    "\"YAML\",\n",
    "\"Revise\",\n",
    "\"Kmers\",\n",
    "\"StatsBase\"\n",
    "]\n",
    "Pkg.add(pkgs)\n",
    "for pkg in pkgs\n",
    "    eval(Meta.parse(\"import $pkg\"))\n",
    "end\n",
    "\n",
    "import Mycelia"
   ]
  },
  {
   "cell_type": "code",
   "execution_count": 2,
   "id": "909f13b4-7e9d-429b-8b83-33c99af653c9",
   "metadata": {},
   "outputs": [
    {
     "data": {
      "text/plain": [
       "\"/home/jovyan/work/Mycelia/projects/viral-pangenome-discovery/data\""
      ]
     },
     "execution_count": 2,
     "metadata": {},
     "output_type": "execute_result"
    }
   ],
   "source": [
    "data_dir = joinpath(dirname(pwd()), \"data\")"
   ]
  },
  {
   "cell_type": "code",
   "execution_count": 8,
   "id": "6e92373a-9477-4d55-8a80-75cc392470be",
   "metadata": {
    "tags": []
   },
   "outputs": [
    {
     "name": "stderr",
     "output_type": "stream",
     "text": [
      "┌ Info: blast db detected, using existing\n",
      "└ @ Main In[8]:8\n"
     ]
    }
   ],
   "source": [
    "# cpan -f App::cpan minus\n",
    "# cpanm List::MoreUtils\n",
    "# mamba install perl-list-moreutils\n",
    "\n",
    "blastdb_dir = \"$(homedir())/workspace/blastdb\"\n",
    "blast_db = \"nt\"\n",
    "if isdir(blastdb_dir) && !isempty(readdir(blastdb_dir))\n",
    "    @info \"blast db detected, using existing\"\n",
    "else\n",
    "    # Mycelia.download_blast_db(db=blast_db, outdir=blastdb_dir, source=\"ncbi\", conda_env=\"viral-pangenome-discovery\")\n",
    "    Mycelia.download_blast_db(db=blast_db, outdir=blastdb_dir, source=\"ncbi\")\n",
    "end"
   ]
  },
  {
   "cell_type": "code",
   "execution_count": 9,
   "id": "1ed0cada-73ac-4c3c-8d8c-e50e1115e414",
   "metadata": {},
   "outputs": [
    {
     "data": {
      "text/plain": [
       "34-element Vector{String}:\n",
       " \"/home/jovyan/work/Mycelia/projects/viral-pangenome-discovery/data/SRA/SRR6399459\"\n",
       " \"/home/jovyan/work/Mycelia/projects/viral-pangenome-discovery/data/SRA/SRR6399460\"\n",
       " \"/home/jovyan/work/Mycelia/projects/viral-pangenome-discovery/data/SRA/SRR6399461\"\n",
       " \"/home/jovyan/work/Mycelia/projects/viral-pangenome-discovery/data/SRA/SRR6399462\"\n",
       " \"/home/jovyan/work/Mycelia/projects/viral-pangenome-discovery/data/SRA/SRR6399463\"\n",
       " \"/home/jovyan/work/Mycelia/projects/viral-pangenome-discovery/data/SRA/SRR6399464\"\n",
       " \"/home/jovyan/work/Mycelia/projects/viral-pangenome-discovery/data/SRA/SRR6399465\"\n",
       " \"/home/jovyan/work/Mycelia/projects/viral-pangenome-discovery/data/SRA/SRR6399466\"\n",
       " \"/home/jovyan/work/Mycelia/projects/viral-pangenome-discovery/data/SRA/SRR6399467\"\n",
       " \"/home/jovyan/work/Mycelia/projects/viral-pangenome-discovery/data/SRA/SRR6399468\"\n",
       " \"/home/jovyan/work/Mycelia/projects/viral-pangenome-discovery/data/SRA/SRR6399469\"\n",
       " \"/home/jovyan/work/Mycelia/projects/viral-pangenome-discovery/data/SRA/SRR6399470\"\n",
       " \"/home/jovyan/work/Mycelia/projects/viral-pangenome-discovery/data/SRA/SRR6399471\"\n",
       " ⋮\n",
       " \"/home/jovyan/work/Mycelia/projects/viral-pangenome-discovery/data/SRA/SRR6399481\"\n",
       " \"/home/jovyan/work/Mycelia/projects/viral-pangenome-discovery/data/SRA/SRR6399482\"\n",
       " \"/home/jovyan/work/Mycelia/projects/viral-pangenome-discovery/data/SRA/SRR6399483\"\n",
       " \"/home/jovyan/work/Mycelia/projects/viral-pangenome-discovery/data/SRA/SRR6399484\"\n",
       " \"/home/jovyan/work/Mycelia/projects/viral-pangenome-discovery/data/SRA/SRR6399485\"\n",
       " \"/home/jovyan/work/Mycelia/projects/viral-pangenome-discovery/data/SRA/SRR6399486\"\n",
       " \"/home/jovyan/work/Mycelia/projects/viral-pangenome-discovery/data/SRA/SRR6399487\"\n",
       " \"/home/jovyan/work/Mycelia/projects/viral-pangenome-discovery/data/SRA/SRR6399488\"\n",
       " \"/home/jovyan/work/Mycelia/projects/viral-pangenome-discovery/data/SRA/SRR6399489\"\n",
       " \"/home/jovyan/work/Mycelia/projects/viral-pangenome-discovery/data/SRA/SRR6399490\"\n",
       " \"/home/jovyan/work/Mycelia/projects/viral-pangenome-discovery/data/SRA/SRR6399491\"\n",
       " \"/home/jovyan/work/Mycelia/projects/viral-pangenome-discovery/data/SRA/SRR6399492\""
      ]
     },
     "execution_count": 9,
     "metadata": {},
     "output_type": "execute_result"
    }
   ],
   "source": [
    "SRR_paths = filter(x -> !occursin(\".ipynb_checkpoints\", x), readdir(joinpath(data_dir, \"SRA\"), join=true))"
   ]
  },
  {
   "cell_type": "code",
   "execution_count": 10,
   "id": "3271d38e-b524-494d-9022-c09b21888acb",
   "metadata": {
    "tags": []
   },
   "outputs": [
    {
     "data": {
      "text/plain": [
       "\"/home/jovyan/work/Mycelia/projects/viral-pangenome-discovery/data/SRA/SRR6399459\""
      ]
     },
     "execution_count": 10,
     "metadata": {},
     "output_type": "execute_result"
    }
   ],
   "source": [
    "SRR_path = SRR_paths[1]\n",
    "# SRR_path = SRR_paths[2]\n",
    "# SRR_path = SRR_paths[3]"
   ]
  },
  {
   "cell_type": "code",
   "execution_count": 11,
   "id": "63038363-f144-4de2-bce3-c8040e61714e",
   "metadata": {
    "tags": []
   },
   "outputs": [
    {
     "data": {
      "text/plain": [
       "\"SRR6399459\""
      ]
     },
     "execution_count": 11,
     "metadata": {},
     "output_type": "execute_result"
    }
   ],
   "source": [
    "SRR = basename(SRR_path)"
   ]
  },
  {
   "cell_type": "code",
   "execution_count": 16,
   "id": "f9b3c98f-58a7-4842-b919-10567ee88ef5",
   "metadata": {},
   "outputs": [
    {
     "data": {
      "text/plain": [
       "2-element Vector{String}:\n",
       " \"megahit\"\n",
       " \"trim_galore\""
      ]
     },
     "execution_count": 16,
     "metadata": {},
     "output_type": "execute_result"
    }
   ],
   "source": [
    "readdir(SRR_path)"
   ]
  },
  {
   "cell_type": "code",
   "execution_count": 19,
   "id": "ae008b7c-ce6d-4e34-bbbc-cb8e9e1acb3f",
   "metadata": {},
   "outputs": [
    {
     "data": {
      "text/plain": [
       "\"/home/jovyan/work/Mycelia/projects/viral-pangenome-discovery/data/SRA/SRR6399459/megahit/final.contigs.fastg.gfa.fna\""
      ]
     },
     "execution_count": 19,
     "metadata": {},
     "output_type": "execute_result"
    }
   ],
   "source": [
    "assembled_fasta = joinpath(SRR_path, \"megahit\", \"final.contigs.fastg.gfa.fna\")"
   ]
  },
  {
   "cell_type": "code",
   "execution_count": 13,
   "id": "419eeae3-ccc7-4393-8f15-a72e97c7f3bd",
   "metadata": {},
   "outputs": [
    {
     "data": {
      "text/plain": [
       "\"nt\""
      ]
     },
     "execution_count": 13,
     "metadata": {},
     "output_type": "execute_result"
    }
   ],
   "source": [
    "blast_db = \"nt\""
   ]
  },
  {
   "cell_type": "code",
   "execution_count": 29,
   "id": "920442df-6424-43e7-8541-825024c5b5c4",
   "metadata": {},
   "outputs": [
    {
     "data": {
      "text/plain": [
       "\"/home/jovyan/workspace/blastdb/nt\""
      ]
     },
     "execution_count": 29,
     "metadata": {},
     "output_type": "execute_result"
    }
   ],
   "source": [
    "blastdb_dir = \"$(homedir())/workspace/blastdb\"\n",
    "db_path = joinpath(blastdb_dir, blast_db)"
   ]
  },
  {
   "cell_type": "code",
   "execution_count": 27,
   "id": "a9bb42c9-3995-4d65-8c2f-4c365129f612",
   "metadata": {},
   "outputs": [
    {
     "name": "stdout",
     "output_type": "stream",
     "text": [
      "  0.036050 seconds (43 allocations: 2.859 KiB)\n"
     ]
    },
    {
     "data": {
      "text/plain": [
       "\"/home/jovyan/work/Mycelia/projects/viral-pangenome-discovery/data/SRA/SRR6399459/blastn/final.contigs.fastg.gfa.fna.blastn.nt.txt\""
      ]
     },
     "execution_count": 27,
     "metadata": {},
     "output_type": "execute_result"
    }
   ],
   "source": [
    "@time blast_report = Mycelia.run_blast(out_dir = SRR_path, fasta = assembled_fasta, blast_db = db_path, blast_command = \"blastn\")"
   ]
  },
  {
   "cell_type": "code",
   "execution_count": 28,
   "id": "0189d8cd-8ddd-4eb1-9f64-f182e79bcecf",
   "metadata": {},
   "outputs": [
    {
     "data": {
      "text/html": [
       "<div><div style = \"float: left;\"><span>18741252×18 DataFrame</span></div><div style = \"float: right;\"><span style = \"font-style: italic;\">18741227 rows omitted</span></div><div style = \"clear: both;\"></div></div><div class = \"data-frame\" style = \"overflow-x: scroll;\"><table class = \"data-frame\" style = \"margin-bottom: 6px;\"><thead><tr class = \"header\"><th class = \"rowNumber\" style = \"font-weight: bold; text-align: right;\">Row</th><th style = \"text-align: left;\">query id</th><th style = \"text-align: left;\">subject id</th><th style = \"text-align: left;\">subject acc.</th><th style = \"text-align: left;\">subject acc.ver</th><th style = \"text-align: left;\">subject title</th><th style = \"text-align: left;\">query length</th><th style = \"text-align: left;\">subject length</th><th style = \"text-align: left;\">q. start</th><th style = \"text-align: left;\">q. end</th><th style = \"text-align: left;\">s. start</th><th style = \"text-align: left;\">s. end</th><th style = \"text-align: left;\">evalue</th><th style = \"text-align: left;\">bit score</th><th style = \"text-align: left;\">alignment length</th><th style = \"text-align: left;\">% identity</th><th style = \"text-align: left;\">identical</th><th style = \"text-align: left;\">mismatches</th><th style = \"text-align: left;\">subject tax id</th></tr><tr class = \"subheader headerLastRow\"><th class = \"rowNumber\" style = \"font-weight: bold; text-align: right;\"></th><th title = \"Union{Missing, String}\" style = \"text-align: left;\">String?</th><th title = \"Union{Missing, String}\" style = \"text-align: left;\">String?</th><th title = \"Union{Missing, String}\" style = \"text-align: left;\">String?</th><th title = \"Union{Missing, String}\" style = \"text-align: left;\">String?</th><th title = \"Union{Missing, String}\" style = \"text-align: left;\">String?</th><th title = \"Union{Missing, Int64}\" style = \"text-align: left;\">Int64?</th><th title = \"Union{Missing, Int64}\" style = \"text-align: left;\">Int64?</th><th title = \"Union{Missing, Int64}\" style = \"text-align: left;\">Int64?</th><th title = \"Union{Missing, Int64}\" style = \"text-align: left;\">Int64?</th><th title = \"Union{Missing, Int64}\" style = \"text-align: left;\">Int64?</th><th title = \"Union{Missing, Int64}\" style = \"text-align: left;\">Int64?</th><th title = \"Union{Missing, Float64}\" style = \"text-align: left;\">Float64?</th><th title = \"Union{Missing, Float64}\" style = \"text-align: left;\">Float64?</th><th title = \"Union{Missing, Int64}\" style = \"text-align: left;\">Int64?</th><th title = \"Union{Missing, Float64}\" style = \"text-align: left;\">Float64?</th><th title = \"Union{Missing, Int64}\" style = \"text-align: left;\">Int64?</th><th title = \"Union{Missing, Int64}\" style = \"text-align: left;\">Int64?</th><th title = \"Union{Missing, Int64}\" style = \"text-align: left;\">Int64?</th></tr></thead><tbody><tr><td class = \"rowNumber\" style = \"font-weight: bold; text-align: right;\">1</td><td style = \"text-align: left;\">1</td><td style = \"text-align: left;\">gi|1992539536|gb|MT497461.1|</td><td style = \"text-align: left;\">MT497461</td><td style = \"text-align: left;\">MT497461.1</td><td style = \"text-align: left;\">Homo sapiens genomic sequence</td><td style = \"text-align: right;\">332</td><td style = \"text-align: right;\">178804</td><td style = \"text-align: right;\">1</td><td style = \"text-align: right;\">199</td><td style = \"text-align: right;\">18005</td><td style = \"text-align: right;\">17808</td><td style = \"text-align: right;\">5.6e-95</td><td style = \"text-align: right;\">361.0</td><td style = \"text-align: right;\">199</td><td style = \"text-align: right;\">99.497</td><td style = \"text-align: right;\">198</td><td style = \"text-align: right;\">0</td><td style = \"text-align: right;\">9606</td></tr><tr><td class = \"rowNumber\" style = \"font-weight: bold; text-align: right;\">2</td><td style = \"text-align: left;\">1</td><td style = \"text-align: left;\">gi|1992539536|gb|MT497461.1|</td><td style = \"text-align: left;\">MT497461</td><td style = \"text-align: left;\">MT497461.1</td><td style = \"text-align: left;\">Homo sapiens genomic sequence</td><td style = \"text-align: right;\">332</td><td style = \"text-align: right;\">178804</td><td style = \"text-align: right;\">235</td><td style = \"text-align: right;\">332</td><td style = \"text-align: right;\">18597</td><td style = \"text-align: right;\">18500</td><td style = \"text-align: right;\">4.68e-41</td><td style = \"text-align: right;\">182.0</td><td style = \"text-align: right;\">98</td><td style = \"text-align: right;\">100.0</td><td style = \"text-align: right;\">98</td><td style = \"text-align: right;\">0</td><td style = \"text-align: right;\">9606</td></tr><tr><td class = \"rowNumber\" style = \"font-weight: bold; text-align: right;\">3</td><td style = \"text-align: left;\">1</td><td style = \"text-align: left;\">gi|1992539536|gb|MT497461.1|</td><td style = \"text-align: left;\">MT497461</td><td style = \"text-align: left;\">MT497461.1</td><td style = \"text-align: left;\">Homo sapiens genomic sequence</td><td style = \"text-align: right;\">332</td><td style = \"text-align: right;\">178804</td><td style = \"text-align: right;\">192</td><td style = \"text-align: right;\">243</td><td style = \"text-align: right;\">19218</td><td style = \"text-align: right;\">19269</td><td style = \"text-align: right;\">1.74e-15</td><td style = \"text-align: right;\">97.1</td><td style = \"text-align: right;\">52</td><td style = \"text-align: right;\">100.0</td><td style = \"text-align: right;\">52</td><td style = \"text-align: right;\">0</td><td style = \"text-align: right;\">9606</td></tr><tr><td class = \"rowNumber\" style = \"font-weight: bold; text-align: right;\">4</td><td style = \"text-align: left;\">1</td><td style = \"text-align: left;\">gi|1992539535|gb|MT497460.1|</td><td style = \"text-align: left;\">MT497460</td><td style = \"text-align: left;\">MT497460.1</td><td style = \"text-align: left;\">Homo sapiens clone BAC JH42 genomic sequence</td><td style = \"text-align: right;\">332</td><td style = \"text-align: right;\">60357</td><td style = \"text-align: right;\">1</td><td style = \"text-align: right;\">199</td><td style = \"text-align: right;\">18005</td><td style = \"text-align: right;\">17808</td><td style = \"text-align: right;\">5.6e-95</td><td style = \"text-align: right;\">361.0</td><td style = \"text-align: right;\">199</td><td style = \"text-align: right;\">99.497</td><td style = \"text-align: right;\">198</td><td style = \"text-align: right;\">0</td><td style = \"text-align: right;\">9606</td></tr><tr><td class = \"rowNumber\" style = \"font-weight: bold; text-align: right;\">5</td><td style = \"text-align: left;\">1</td><td style = \"text-align: left;\">gi|1992539535|gb|MT497460.1|</td><td style = \"text-align: left;\">MT497460</td><td style = \"text-align: left;\">MT497460.1</td><td style = \"text-align: left;\">Homo sapiens clone BAC JH42 genomic sequence</td><td style = \"text-align: right;\">332</td><td style = \"text-align: right;\">60357</td><td style = \"text-align: right;\">235</td><td style = \"text-align: right;\">332</td><td style = \"text-align: right;\">18597</td><td style = \"text-align: right;\">18500</td><td style = \"text-align: right;\">4.68e-41</td><td style = \"text-align: right;\">182.0</td><td style = \"text-align: right;\">98</td><td style = \"text-align: right;\">100.0</td><td style = \"text-align: right;\">98</td><td style = \"text-align: right;\">0</td><td style = \"text-align: right;\">9606</td></tr><tr><td class = \"rowNumber\" style = \"font-weight: bold; text-align: right;\">6</td><td style = \"text-align: left;\">1</td><td style = \"text-align: left;\">gi|1992539535|gb|MT497460.1|</td><td style = \"text-align: left;\">MT497460</td><td style = \"text-align: left;\">MT497460.1</td><td style = \"text-align: left;\">Homo sapiens clone BAC JH42 genomic sequence</td><td style = \"text-align: right;\">332</td><td style = \"text-align: right;\">60357</td><td style = \"text-align: right;\">192</td><td style = \"text-align: right;\">243</td><td style = \"text-align: right;\">19218</td><td style = \"text-align: right;\">19269</td><td style = \"text-align: right;\">1.74e-15</td><td style = \"text-align: right;\">97.1</td><td style = \"text-align: right;\">52</td><td style = \"text-align: right;\">100.0</td><td style = \"text-align: right;\">52</td><td style = \"text-align: right;\">0</td><td style = \"text-align: right;\">9606</td></tr><tr><td class = \"rowNumber\" style = \"font-weight: bold; text-align: right;\">7</td><td style = \"text-align: left;\">1</td><td style = \"text-align: left;\">gi|1548994296|gb|CP034500.1|</td><td style = \"text-align: left;\">CP034500</td><td style = \"text-align: left;\">CP034500.1</td><td style = \"text-align: left;\">Eukaryotic synthetic construct chromosome 21</td><td style = \"text-align: right;\">332</td><td style = \"text-align: right;\">38708702</td><td style = \"text-align: right;\">1</td><td style = \"text-align: right;\">199</td><td style = \"text-align: right;\">453925</td><td style = \"text-align: right;\">454122</td><td style = \"text-align: right;\">1.21e-91</td><td style = \"text-align: right;\">350.0</td><td style = \"text-align: right;\">199</td><td style = \"text-align: right;\">98.492</td><td style = \"text-align: right;\">196</td><td style = \"text-align: right;\">2</td><td style = \"text-align: right;\">111789</td></tr><tr><td class = \"rowNumber\" style = \"font-weight: bold; text-align: right;\">8</td><td style = \"text-align: left;\">1</td><td style = \"text-align: left;\">gi|1548994296|gb|CP034500.1|</td><td style = \"text-align: left;\">CP034500</td><td style = \"text-align: left;\">CP034500.1</td><td style = \"text-align: left;\">Eukaryotic synthetic construct chromosome 21</td><td style = \"text-align: right;\">332</td><td style = \"text-align: right;\">38708702</td><td style = \"text-align: right;\">1</td><td style = \"text-align: right;\">199</td><td style = \"text-align: right;\">1204376</td><td style = \"text-align: right;\">1204179</td><td style = \"text-align: right;\">2.64e-83</td><td style = \"text-align: right;\">322.0</td><td style = \"text-align: right;\">199</td><td style = \"text-align: right;\">95.98</td><td style = \"text-align: right;\">191</td><td style = \"text-align: right;\">7</td><td style = \"text-align: right;\">111789</td></tr><tr><td class = \"rowNumber\" style = \"font-weight: bold; text-align: right;\">9</td><td style = \"text-align: left;\">1</td><td style = \"text-align: left;\">gi|1548994296|gb|CP034500.1|</td><td style = \"text-align: left;\">CP034500</td><td style = \"text-align: left;\">CP034500.1</td><td style = \"text-align: left;\">Eukaryotic synthetic construct chromosome 21</td><td style = \"text-align: right;\">332</td><td style = \"text-align: right;\">38708702</td><td style = \"text-align: right;\">235</td><td style = \"text-align: right;\">332</td><td style = \"text-align: right;\">453336</td><td style = \"text-align: right;\">453433</td><td style = \"text-align: right;\">1.01e-37</td><td style = \"text-align: right;\">171.0</td><td style = \"text-align: right;\">98</td><td style = \"text-align: right;\">97.959</td><td style = \"text-align: right;\">96</td><td style = \"text-align: right;\">2</td><td style = \"text-align: right;\">111789</td></tr><tr><td class = \"rowNumber\" style = \"font-weight: bold; text-align: right;\">10</td><td style = \"text-align: left;\">1</td><td style = \"text-align: left;\">gi|1548994296|gb|CP034500.1|</td><td style = \"text-align: left;\">CP034500</td><td style = \"text-align: left;\">CP034500.1</td><td style = \"text-align: left;\">Eukaryotic synthetic construct chromosome 21</td><td style = \"text-align: right;\">332</td><td style = \"text-align: right;\">38708702</td><td style = \"text-align: right;\">235</td><td style = \"text-align: right;\">332</td><td style = \"text-align: right;\">1204967</td><td style = \"text-align: right;\">1204871</td><td style = \"text-align: right;\">7.94e-29</td><td style = \"text-align: right;\">141.0</td><td style = \"text-align: right;\">98</td><td style = \"text-align: right;\">92.857</td><td style = \"text-align: right;\">91</td><td style = \"text-align: right;\">6</td><td style = \"text-align: right;\">111789</td></tr><tr><td class = \"rowNumber\" style = \"font-weight: bold; text-align: right;\">11</td><td style = \"text-align: left;\">1</td><td style = \"text-align: left;\">gi|1548994296|gb|CP034500.1|</td><td style = \"text-align: left;\">CP034500</td><td style = \"text-align: left;\">CP034500.1</td><td style = \"text-align: left;\">Eukaryotic synthetic construct chromosome 21</td><td style = \"text-align: right;\">332</td><td style = \"text-align: right;\">38708702</td><td style = \"text-align: right;\">192</td><td style = \"text-align: right;\">243</td><td style = \"text-align: right;\">452716</td><td style = \"text-align: right;\">452665</td><td style = \"text-align: right;\">8.11e-14</td><td style = \"text-align: right;\">91.6</td><td style = \"text-align: right;\">52</td><td style = \"text-align: right;\">98.077</td><td style = \"text-align: right;\">51</td><td style = \"text-align: right;\">1</td><td style = \"text-align: right;\">111789</td></tr><tr><td class = \"rowNumber\" style = \"font-weight: bold; text-align: right;\">12</td><td style = \"text-align: left;\">1</td><td style = \"text-align: left;\">gi|2033716899|gb|CP068257.2|</td><td style = \"text-align: left;\">CP068257</td><td style = \"text-align: left;\">CP068257.2</td><td style = \"text-align: left;\">Homo sapiens isolate CHM13 chromosome 21</td><td style = \"text-align: right;\">332</td><td style = \"text-align: right;\">45090682</td><td style = \"text-align: right;\">1</td><td style = \"text-align: right;\">199</td><td style = \"text-align: right;\">5650489</td><td style = \"text-align: right;\">5650686</td><td style = \"text-align: right;\">1.21e-91</td><td style = \"text-align: right;\">350.0</td><td style = \"text-align: right;\">199</td><td style = \"text-align: right;\">98.492</td><td style = \"text-align: right;\">196</td><td style = \"text-align: right;\">2</td><td style = \"text-align: right;\">9606</td></tr><tr><td class = \"rowNumber\" style = \"font-weight: bold; text-align: right;\">13</td><td style = \"text-align: left;\">1</td><td style = \"text-align: left;\">gi|2033716899|gb|CP068257.2|</td><td style = \"text-align: left;\">CP068257</td><td style = \"text-align: left;\">CP068257.2</td><td style = \"text-align: left;\">Homo sapiens isolate CHM13 chromosome 21</td><td style = \"text-align: right;\">332</td><td style = \"text-align: right;\">45090682</td><td style = \"text-align: right;\">1</td><td style = \"text-align: right;\">199</td><td style = \"text-align: right;\">9750917</td><td style = \"text-align: right;\">9750720</td><td style = \"text-align: right;\">2.64e-83</td><td style = \"text-align: right;\">322.0</td><td style = \"text-align: right;\">199</td><td style = \"text-align: right;\">95.98</td><td style = \"text-align: right;\">191</td><td style = \"text-align: right;\">7</td><td style = \"text-align: right;\">9606</td></tr><tr><td style = \"text-align: right;\">&vellip;</td><td style = \"text-align: right;\">&vellip;</td><td style = \"text-align: right;\">&vellip;</td><td style = \"text-align: right;\">&vellip;</td><td style = \"text-align: right;\">&vellip;</td><td style = \"text-align: right;\">&vellip;</td><td style = \"text-align: right;\">&vellip;</td><td style = \"text-align: right;\">&vellip;</td><td style = \"text-align: right;\">&vellip;</td><td style = \"text-align: right;\">&vellip;</td><td style = \"text-align: right;\">&vellip;</td><td style = \"text-align: right;\">&vellip;</td><td style = \"text-align: right;\">&vellip;</td><td style = \"text-align: right;\">&vellip;</td><td style = \"text-align: right;\">&vellip;</td><td style = \"text-align: right;\">&vellip;</td><td style = \"text-align: right;\">&vellip;</td><td style = \"text-align: right;\">&vellip;</td><td style = \"text-align: right;\">&vellip;</td></tr><tr><td class = \"rowNumber\" style = \"font-weight: bold; text-align: right;\">18741241</td><td style = \"text-align: left;\">3280</td><td style = \"text-align: left;\">gi|2124450671|ref|XR_006515730.1|</td><td style = \"text-align: left;\">XR_006515730</td><td style = \"text-align: left;\">XR_006515730.1</td><td style = \"text-align: left;\">PREDICTED: Equus asinus transmembrane protein 50B (TMEM50B), transcript variant X2, misc_RNA</td><td style = \"text-align: right;\">1090</td><td style = \"text-align: right;\">1434</td><td style = \"text-align: right;\">605</td><td style = \"text-align: right;\">697</td><td style = \"text-align: right;\">1192</td><td style = \"text-align: right;\">1099</td><td style = \"text-align: right;\">2.25e-9</td><td style = \"text-align: right;\">78.7</td><td style = \"text-align: right;\">95</td><td style = \"text-align: right;\">82.105</td><td style = \"text-align: right;\">78</td><td style = \"text-align: right;\">14</td><td style = \"text-align: right;\">9793</td></tr><tr><td class = \"rowNumber\" style = \"font-weight: bold; text-align: right;\">18741242</td><td style = \"text-align: left;\">3280</td><td style = \"text-align: left;\">gi|2124450670|ref|XR_006515729.1|</td><td style = \"text-align: left;\">XR_006515729</td><td style = \"text-align: left;\">XR_006515729.1</td><td style = \"text-align: left;\">PREDICTED: Equus asinus transmembrane protein 50B (TMEM50B), transcript variant X1, misc_RNA</td><td style = \"text-align: right;\">1090</td><td style = \"text-align: right;\">1474</td><td style = \"text-align: right;\">605</td><td style = \"text-align: right;\">697</td><td style = \"text-align: right;\">1232</td><td style = \"text-align: right;\">1139</td><td style = \"text-align: right;\">2.25e-9</td><td style = \"text-align: right;\">78.7</td><td style = \"text-align: right;\">95</td><td style = \"text-align: right;\">82.105</td><td style = \"text-align: right;\">78</td><td style = \"text-align: right;\">14</td><td style = \"text-align: right;\">9793</td></tr><tr><td class = \"rowNumber\" style = \"font-weight: bold; text-align: right;\">18741243</td><td style = \"text-align: left;\">3280</td><td style = \"text-align: left;\">gi|1353793173|gb|CP027083.1|</td><td style = \"text-align: left;\">CP027083</td><td style = \"text-align: left;\">CP027083.1</td><td style = \"text-align: left;\">Bos mutus isolate yakQH1 chromosome 15</td><td style = \"text-align: right;\">1090</td><td style = \"text-align: right;\">79990276</td><td style = \"text-align: right;\">667</td><td style = \"text-align: right;\">843</td><td style = \"text-align: right;\">56260320</td><td style = \"text-align: right;\">56260145</td><td style = \"text-align: right;\">8.08e-9</td><td style = \"text-align: right;\">76.8</td><td style = \"text-align: right;\">179</td><td style = \"text-align: right;\">74.86</td><td style = \"text-align: right;\">134</td><td style = \"text-align: right;\">40</td><td style = \"text-align: right;\">72004</td></tr><tr><td class = \"rowNumber\" style = \"font-weight: bold; text-align: right;\">18741244</td><td style = \"text-align: left;\">3280</td><td style = \"text-align: left;\">gi|2233303905|emb|OW443372.1|</td><td style = \"text-align: left;\">OW443372</td><td style = \"text-align: left;\">OW443372.1</td><td style = \"text-align: left;\">Orcinus orca genome assembly, chromosome: 12</td><td style = \"text-align: right;\">1090</td><td style = \"text-align: right;\">93388644</td><td style = \"text-align: right;\">649</td><td style = \"text-align: right;\">694</td><td style = \"text-align: right;\">39490177</td><td style = \"text-align: right;\">39490222</td><td style = \"text-align: right;\">2.91e-8</td><td style = \"text-align: right;\">75.0</td><td style = \"text-align: right;\">46</td><td style = \"text-align: right;\">95.652</td><td style = \"text-align: right;\">44</td><td style = \"text-align: right;\">2</td><td style = \"text-align: right;\">9733</td></tr><tr><td class = \"rowNumber\" style = \"font-weight: bold; text-align: right;\">18741245</td><td style = \"text-align: left;\">3280</td><td style = \"text-align: left;\">gi|15281183|gb|AC008641.7|</td><td style = \"text-align: left;\">AC008641</td><td style = \"text-align: left;\">AC008641.7</td><td style = \"text-align: left;\">Homo sapiens chromosome 5 clone CTB-17P3, complete sequence</td><td style = \"text-align: right;\">1090</td><td style = \"text-align: right;\">176629</td><td style = \"text-align: right;\">116</td><td style = \"text-align: right;\">172</td><td style = \"text-align: right;\">9263</td><td style = \"text-align: right;\">9318</td><td style = \"text-align: right;\">3.76e-7</td><td style = \"text-align: right;\">71.3</td><td style = \"text-align: right;\">57</td><td style = \"text-align: right;\">89.474</td><td style = \"text-align: right;\">51</td><td style = \"text-align: right;\">5</td><td style = \"text-align: right;\">9606</td></tr><tr><td class = \"rowNumber\" style = \"font-weight: bold; text-align: right;\">18741246</td><td style = \"text-align: left;\">3280</td><td style = \"text-align: left;\">gi|13162497|gb|AC008666.5|AC008666</td><td style = \"text-align: left;\">AC008666</td><td style = \"text-align: left;\">AC008666.5</td><td style = \"text-align: left;\">Homo sapiens chromosome 5 clone CTB-35A8, complete sequence</td><td style = \"text-align: right;\">1090</td><td style = \"text-align: right;\">99108</td><td style = \"text-align: right;\">116</td><td style = \"text-align: right;\">172</td><td style = \"text-align: right;\">89641</td><td style = \"text-align: right;\">89586</td><td style = \"text-align: right;\">3.76e-7</td><td style = \"text-align: right;\">71.3</td><td style = \"text-align: right;\">57</td><td style = \"text-align: right;\">89.474</td><td style = \"text-align: right;\">51</td><td style = \"text-align: right;\">5</td><td style = \"text-align: right;\">9606</td></tr><tr><td class = \"rowNumber\" style = \"font-weight: bold; text-align: right;\">18741247</td><td style = \"text-align: left;\">3280</td><td style = \"text-align: left;\">gi|2233304102|emb|OW443373.1|</td><td style = \"text-align: left;\">OW443373</td><td style = \"text-align: left;\">OW443373.1</td><td style = \"text-align: left;\">Orcinus orca genome assembly, chromosome: 13</td><td style = \"text-align: right;\">1090</td><td style = \"text-align: right;\">91537726</td><td style = \"text-align: right;\">119</td><td style = \"text-align: right;\">170</td><td style = \"text-align: right;\">83150553</td><td style = \"text-align: right;\">83150604</td><td style = \"text-align: right;\">1.35e-6</td><td style = \"text-align: right;\">69.4</td><td style = \"text-align: right;\">53</td><td style = \"text-align: right;\">90.566</td><td style = \"text-align: right;\">48</td><td style = \"text-align: right;\">3</td><td style = \"text-align: right;\">9733</td></tr><tr><td class = \"rowNumber\" style = \"font-weight: bold; text-align: right;\">18741248</td><td style = \"text-align: left;\">3280</td><td style = \"text-align: left;\">gi|1795661392|emb|LR738415.1|</td><td style = \"text-align: left;\">LR738415</td><td style = \"text-align: left;\">LR738415.1</td><td style = \"text-align: left;\">Lutra lutra genome assembly, chromosome: 13</td><td style = \"text-align: right;\">1090</td><td style = \"text-align: right;\">95726014</td><td style = \"text-align: right;\">119</td><td style = \"text-align: right;\">172</td><td style = \"text-align: right;\">61816217</td><td style = \"text-align: right;\">61816164</td><td style = \"text-align: right;\">4.86e-6</td><td style = \"text-align: right;\">67.6</td><td style = \"text-align: right;\">54</td><td style = \"text-align: right;\">88.889</td><td style = \"text-align: right;\">48</td><td style = \"text-align: right;\">6</td><td style = \"text-align: right;\">9657</td></tr><tr><td class = \"rowNumber\" style = \"font-weight: bold; text-align: right;\">18741249</td><td style = \"text-align: left;\">3280</td><td style = \"text-align: left;\">gi|1828350095|gb|CP050585.1|</td><td style = \"text-align: left;\">CP050585</td><td style = \"text-align: left;\">CP050585.1</td><td style = \"text-align: left;\">Canis lupus familiaris breed Labrador retriever chromosome 38a</td><td style = \"text-align: right;\">1090</td><td style = \"text-align: right;\">24001931</td><td style = \"text-align: right;\">14</td><td style = \"text-align: right;\">164</td><td style = \"text-align: right;\">17046041</td><td style = \"text-align: right;\">17046194</td><td style = \"text-align: right;\">1.75e-5</td><td style = \"text-align: right;\">65.8</td><td style = \"text-align: right;\">156</td><td style = \"text-align: right;\">75.0</td><td style = \"text-align: right;\">117</td><td style = \"text-align: right;\">32</td><td style = \"text-align: right;\">9615</td></tr><tr><td class = \"rowNumber\" style = \"font-weight: bold; text-align: right;\">18741250</td><td style = \"text-align: left;\">3280</td><td style = \"text-align: left;\">gi|1828349976|gb|CP050641.1|</td><td style = \"text-align: left;\">CP050641</td><td style = \"text-align: left;\">CP050641.1</td><td style = \"text-align: left;\">Canis lupus familiaris breed Labrador retriever chromosome 38b</td><td style = \"text-align: right;\">1090</td><td style = \"text-align: right;\">23991203</td><td style = \"text-align: right;\">14</td><td style = \"text-align: right;\">164</td><td style = \"text-align: right;\">17034348</td><td style = \"text-align: right;\">17034501</td><td style = \"text-align: right;\">1.75e-5</td><td style = \"text-align: right;\">65.8</td><td style = \"text-align: right;\">156</td><td style = \"text-align: right;\">75.0</td><td style = \"text-align: right;\">117</td><td style = \"text-align: right;\">32</td><td style = \"text-align: right;\">9615</td></tr><tr><td class = \"rowNumber\" style = \"font-weight: bold; text-align: right;\">18741251</td><td style = \"text-align: left;\">3280</td><td style = \"text-align: left;\">gi|1997759836|emb|HG994420.1|</td><td style = \"text-align: left;\">HG994420</td><td style = \"text-align: left;\">HG994420.1</td><td style = \"text-align: left;\">Canis lupus genome assembly, chromosome: 38</td><td style = \"text-align: right;\">1090</td><td style = \"text-align: right;\">26441244</td><td style = \"text-align: right;\">14</td><td style = \"text-align: right;\">164</td><td style = \"text-align: right;\">19423687</td><td style = \"text-align: right;\">19423840</td><td style = \"text-align: right;\">1.75e-5</td><td style = \"text-align: right;\">65.8</td><td style = \"text-align: right;\">156</td><td style = \"text-align: right;\">75.0</td><td style = \"text-align: right;\">117</td><td style = \"text-align: right;\">32</td><td style = \"text-align: right;\">9612</td></tr><tr><td class = \"rowNumber\" style = \"font-weight: bold; text-align: right;\">18741252</td><td style = \"text-align: left;\">3280</td><td style = \"text-align: left;\">gi|850489648|gb|CP011900.1|</td><td style = \"text-align: left;\">CP011900</td><td style = \"text-align: left;\">CP011900.1</td><td style = \"text-align: left;\">Ovis canadensis canadensis isolate 43U chromosome 15 sequence</td><td style = \"text-align: right;\">1090</td><td style = \"text-align: right;\">81015546</td><td style = \"text-align: right;\">667</td><td style = \"text-align: right;\">843</td><td style = \"text-align: right;\">56977665</td><td style = \"text-align: right;\">56977491</td><td style = \"text-align: right;\">0.000814</td><td style = \"text-align: right;\">60.2</td><td style = \"text-align: right;\">178</td><td style = \"text-align: right;\">73.034</td><td style = \"text-align: right;\">130</td><td style = \"text-align: right;\">44</td><td style = \"text-align: right;\">112262</td></tr></tbody></table></div>"
      ],
      "text/latex": [
       "\\begin{tabular}{r|cccccc}\n",
       "\t& query id & subject id & subject acc. & subject acc.ver & subject title & \\\\\n",
       "\t\\hline\n",
       "\t& String? & String? & String? & String? & String? & \\\\\n",
       "\t\\hline\n",
       "\t1 & 1 & gi|1992539536|gb|MT497461.1| & MT497461 & MT497461.1 & Homo sapiens genomic sequence & $\\dots$ \\\\\n",
       "\t2 & 1 & gi|1992539536|gb|MT497461.1| & MT497461 & MT497461.1 & Homo sapiens genomic sequence & $\\dots$ \\\\\n",
       "\t3 & 1 & gi|1992539536|gb|MT497461.1| & MT497461 & MT497461.1 & Homo sapiens genomic sequence & $\\dots$ \\\\\n",
       "\t4 & 1 & gi|1992539535|gb|MT497460.1| & MT497460 & MT497460.1 & Homo sapiens clone BAC JH42 genomic sequence & $\\dots$ \\\\\n",
       "\t5 & 1 & gi|1992539535|gb|MT497460.1| & MT497460 & MT497460.1 & Homo sapiens clone BAC JH42 genomic sequence & $\\dots$ \\\\\n",
       "\t6 & 1 & gi|1992539535|gb|MT497460.1| & MT497460 & MT497460.1 & Homo sapiens clone BAC JH42 genomic sequence & $\\dots$ \\\\\n",
       "\t7 & 1 & gi|1548994296|gb|CP034500.1| & CP034500 & CP034500.1 & Eukaryotic synthetic construct chromosome 21 & $\\dots$ \\\\\n",
       "\t8 & 1 & gi|1548994296|gb|CP034500.1| & CP034500 & CP034500.1 & Eukaryotic synthetic construct chromosome 21 & $\\dots$ \\\\\n",
       "\t9 & 1 & gi|1548994296|gb|CP034500.1| & CP034500 & CP034500.1 & Eukaryotic synthetic construct chromosome 21 & $\\dots$ \\\\\n",
       "\t10 & 1 & gi|1548994296|gb|CP034500.1| & CP034500 & CP034500.1 & Eukaryotic synthetic construct chromosome 21 & $\\dots$ \\\\\n",
       "\t11 & 1 & gi|1548994296|gb|CP034500.1| & CP034500 & CP034500.1 & Eukaryotic synthetic construct chromosome 21 & $\\dots$ \\\\\n",
       "\t12 & 1 & gi|2033716899|gb|CP068257.2| & CP068257 & CP068257.2 & Homo sapiens isolate CHM13 chromosome 21 & $\\dots$ \\\\\n",
       "\t13 & 1 & gi|2033716899|gb|CP068257.2| & CP068257 & CP068257.2 & Homo sapiens isolate CHM13 chromosome 21 & $\\dots$ \\\\\n",
       "\t14 & 1 & gi|2033716899|gb|CP068257.2| & CP068257 & CP068257.2 & Homo sapiens isolate CHM13 chromosome 21 & $\\dots$ \\\\\n",
       "\t15 & 1 & gi|2033716899|gb|CP068257.2| & CP068257 & CP068257.2 & Homo sapiens isolate CHM13 chromosome 21 & $\\dots$ \\\\\n",
       "\t16 & 1 & gi|2033716899|gb|CP068257.2| & CP068257 & CP068257.2 & Homo sapiens isolate CHM13 chromosome 21 & $\\dots$ \\\\\n",
       "\t17 & 1 & gi|51241694|emb|CR392039.8| & CR392039 & CR392039.8 & Human DNA sequence from clone bP-2171C21 on chromosome 21, complete sequence & $\\dots$ \\\\\n",
       "\t18 & 1 & gi|51241694|emb|CR392039.8| & CR392039 & CR392039.8 & Human DNA sequence from clone bP-2171C21 on chromosome 21, complete sequence & $\\dots$ \\\\\n",
       "\t19 & 1 & gi|51241694|emb|CR392039.8| & CR392039 & CR392039.8 & Human DNA sequence from clone bP-2171C21 on chromosome 21, complete sequence & $\\dots$ \\\\\n",
       "\t20 & 1 & gi|2033711141|gb|CP068263.2| & CP068263 & CP068263.2 & Homo sapiens isolate CHM13 chromosome 15 & $\\dots$ \\\\\n",
       "\t21 & 1 & gi|2033711141|gb|CP068263.2| & CP068263 & CP068263.2 & Homo sapiens isolate CHM13 chromosome 15 & $\\dots$ \\\\\n",
       "\t22 & 1 & gi|2033711141|gb|CP068263.2| & CP068263 & CP068263.2 & Homo sapiens isolate CHM13 chromosome 15 & $\\dots$ \\\\\n",
       "\t23 & 1 & gi|1909942698|dbj|AP023717.1| & AP023717 & AP023717.1 & Homo sapiens DNA, sequence\\_id: unplaced\\_0232 & $\\dots$ \\\\\n",
       "\t24 & 1 & gi|1909942698|dbj|AP023717.1| & AP023717 & AP023717.1 & Homo sapiens DNA, sequence\\_id: unplaced\\_0232 & $\\dots$ \\\\\n",
       "\t25 & 1 & gi|1909942698|dbj|AP023717.1| & AP023717 & AP023717.1 & Homo sapiens DNA, sequence\\_id: unplaced\\_0232 & $\\dots$ \\\\\n",
       "\t26 & 1 & gi|34099007|gb|AC125394.27| & AC125394 & AC125394.27 & Pan troglodytes clone rp43-45i3, complete sequence & $\\dots$ \\\\\n",
       "\t27 & 1 & gi|34099007|gb|AC125394.27| & AC125394 & AC125394.27 & Pan troglodytes clone rp43-45i3, complete sequence & $\\dots$ \\\\\n",
       "\t28 & 1 & gi|34099007|gb|AC125394.27| & AC125394 & AC125394.27 & Pan troglodytes clone rp43-45i3, complete sequence & $\\dots$ \\\\\n",
       "\t29 & 1 & gi|62176920|gb|AC148028.2| & AC148028 & AC148028.2 & Homo sapiens chromosome UNKNOWN clone RP11-238G20, complete sequence & $\\dots$ \\\\\n",
       "\t30 & 1 & gi|62176920|gb|AC148028.2| & AC148028 & AC148028.2 & Homo sapiens chromosome UNKNOWN clone RP11-238G20, complete sequence & $\\dots$ \\\\\n",
       "\t$\\dots$ & $\\dots$ & $\\dots$ & $\\dots$ & $\\dots$ & $\\dots$ &  \\\\\n",
       "\\end{tabular}\n"
      ],
      "text/plain": [
       "\u001b[1m18741252×18 DataFrame\u001b[0m\n",
       "\u001b[1m      Row \u001b[0m│\u001b[1m query id \u001b[0m\u001b[1m subject id                        \u001b[0m\u001b[1m subject acc. \u001b[0m\u001b[1m subject\u001b[0m ⋯\n",
       "          │\u001b[90m String?  \u001b[0m\u001b[90m String?                           \u001b[0m\u001b[90m String?      \u001b[0m\u001b[90m String?\u001b[0m ⋯\n",
       "──────────┼─────────────────────────────────────────────────────────────────────\n",
       "        1 │ 1         gi|1992539536|gb|MT497461.1|       MT497461      MT49746 ⋯\n",
       "        2 │ 1         gi|1992539536|gb|MT497461.1|       MT497461      MT49746\n",
       "        3 │ 1         gi|1992539536|gb|MT497461.1|       MT497461      MT49746\n",
       "        4 │ 1         gi|1992539535|gb|MT497460.1|       MT497460      MT49746\n",
       "        5 │ 1         gi|1992539535|gb|MT497460.1|       MT497460      MT49746 ⋯\n",
       "        6 │ 1         gi|1992539535|gb|MT497460.1|       MT497460      MT49746\n",
       "        7 │ 1         gi|1548994296|gb|CP034500.1|       CP034500      CP03450\n",
       "        8 │ 1         gi|1548994296|gb|CP034500.1|       CP034500      CP03450\n",
       "        9 │ 1         gi|1548994296|gb|CP034500.1|       CP034500      CP03450 ⋯\n",
       "       10 │ 1         gi|1548994296|gb|CP034500.1|       CP034500      CP03450\n",
       "       11 │ 1         gi|1548994296|gb|CP034500.1|       CP034500      CP03450\n",
       "    ⋮     │    ⋮                      ⋮                       ⋮                ⋱\n",
       " 18741243 │ 3280      gi|1353793173|gb|CP027083.1|       CP027083      CP02708\n",
       " 18741244 │ 3280      gi|2233303905|emb|OW443372.1|      OW443372      OW44337 ⋯\n",
       " 18741245 │ 3280      gi|15281183|gb|AC008641.7|         AC008641      AC00864\n",
       " 18741246 │ 3280      gi|13162497|gb|AC008666.5|AC0086…  AC008666      AC00866\n",
       " 18741247 │ 3280      gi|2233304102|emb|OW443373.1|      OW443373      OW44337\n",
       " 18741248 │ 3280      gi|1795661392|emb|LR738415.1|      LR738415      LR73841 ⋯\n",
       " 18741249 │ 3280      gi|1828350095|gb|CP050585.1|       CP050585      CP05058\n",
       " 18741250 │ 3280      gi|1828349976|gb|CP050641.1|       CP050641      CP05064\n",
       " 18741251 │ 3280      gi|1997759836|emb|HG994420.1|      HG994420      HG99442\n",
       " 18741252 │ 3280      gi|850489648|gb|CP011900.1|        CP011900      CP01190 ⋯\n",
       "\u001b[36m                                            15 columns and 18741231 rows omitted\u001b[0m"
      ]
     },
     "execution_count": 28,
     "metadata": {},
     "output_type": "execute_result"
    }
   ],
   "source": [
    "# join the blast results to generate the contig info file\n",
    "ncbi_blast_results = Mycelia.parse_blast_report(blast_report)"
   ]
  },
  {
   "cell_type": "code",
   "execution_count": 37,
   "id": "0a694a31-3038-407f-8d96-5991efc53857",
   "metadata": {},
   "outputs": [],
   "source": [
    "# move me up to the initial download location\n",
    "taxdump_tar = joinpath(blastdb_dir, \"taxdump.tar.gz\")\n",
    "\n",
    "# move me up to the initial download location\n",
    "taxdump_tar = joinpath(blastdb_dir, \"taxdump.tar.gz\")\n",
    "if !isfile(taxdump_tar)\n",
    "    run(`wget --quiet https://ftp.ncbi.nih.gov/pub/taxonomy/taxdump.tar.gz`)\n",
    "end\n",
    "\n",
    "taxdump_dir = mkpath(joinpath(blastdb_dir, \"taxdump\"))\n",
    "\n",
    "taxdump_dir = mkpath(joinpath(blastdb_dir, \"taxdump\"))\n",
    "if isempty(readdir(taxdump_dir))\n",
    "    run(`tar -xvzf taxdump.tar.gz --directory $(taxdump_dir)`)\n",
    "end"
   ]
  },
  {
   "cell_type": "code",
   "execution_count": 32,
   "id": "75f2799b-0420-486d-abb5-9ba573bdafe1",
   "metadata": {},
   "outputs": [],
   "source": [
    "detected_tax_id_file = \"$(assembled_fasta).detected_tax_ids.txt\"\n",
    "open(detected_tax_id_file, \"w\") do io\n",
    "    for taxid in unique(filter(!ismissing, ncbi_blast_results[!, \"subject tax id\"]))\n",
    "        println(io, taxid)\n",
    "    end\n",
    "end"
   ]
  },
  {
   "cell_type": "code",
   "execution_count": 42,
   "id": "393ed814-f43d-457d-93bb-924006a62b27",
   "metadata": {},
   "outputs": [
    {
     "name": "stderr",
     "output_type": "stream",
     "text": [
      "14:19:07.920 \u001b[33m[WARN]\u001b[0m taxid 2202567 was merged into 2832643\n",
      "14:19:07.920 \u001b[33m[WARN]\u001b[0m taxid 2202564 was merged into 2832643\n"
     ]
    },
    {
     "data": {
      "text/plain": [
       "Dict{Int64, SubString{String}} with 1967 entries:\n",
       "  754477  => \"cellular organisms;Bacteria;Pseudomonadota;Gammaproteobacteria;Th…\n",
       "  1095194 => \"cellular organisms;Eukaryota;Opisthokonta;Fungi;Dikarya;Ascomycot…\n",
       "  2675053 => \"cellular organisms;Bacteria;Pseudomonadota;Gammaproteobacteria;Th…\n",
       "  2108    => \"cellular organisms;Bacteria;Terrabacteria group;Mycoplasmatota;Mo…\n",
       "  313498  => \"cellular organisms;Eukaryota;Opisthokonta;Metazoa;Eumetazoa;Cnida…\n",
       "  1978231 => \"cellular organisms;Bacteria;Acidobacteriota;unclassified Acidobac…\n",
       "  249586  => \"cellular organisms;Bacteria;Terrabacteria group;Actinomycetota;Ac…\n",
       "  47428   => \"cellular organisms;Eukaryota;Opisthokonta;Fungi;Dikarya;Basidiomy…\n",
       "  81572   => \"cellular organisms;Eukaryota;Opisthokonta;Metazoa;Eumetazoa;Bilat…\n",
       "  393921  => \"cellular organisms;Bacteria;FCB group;Bacteroidetes/Chlorobi grou…\n",
       "  45133   => \"cellular organisms;Eukaryota;Opisthokonta;Fungi;Dikarya;Ascomycot…\n",
       "  110093  => \"cellular organisms;Eukaryota;Opisthokonta;Fungi;Fungi incertae se…\n",
       "  2759528 => \"cellular organisms;Bacteria;FCB group;Bacteroidetes/Chlorobi grou…\n",
       "  326647  => \"cellular organisms;Eukaryota;Opisthokonta;Fungi;Dikarya;Ascomycot…\n",
       "  9568    => \"cellular organisms;Eukaryota;Opisthokonta;Metazoa;Eumetazoa;Bilat…\n",
       "  411903  => \"cellular organisms;Bacteria;Terrabacteria group;Actinomycetota;Co…\n",
       "  987985  => \"cellular organisms;Eukaryota;Opisthokonta;Metazoa;Eumetazoa;Bilat…\n",
       "  997538  => \"cellular organisms;Eukaryota;Opisthokonta;Metazoa;Eumetazoa;Bilat…\n",
       "  2662033 => \"cellular organisms;Bacteria;Pseudomonadota;Gammaproteobacteria;Ps…\n",
       "  823     => \"cellular organisms;Bacteria;FCB group;Bacteroidetes/Chlorobi grou…\n",
       "  227480  => \"cellular organisms;Eukaryota;Opisthokonta;Metazoa;Eumetazoa;Bilat…\n",
       "  1450537 => \"cellular organisms;Eukaryota;Opisthokonta;Fungi;Dikarya;Ascomycot…\n",
       "  664874  => \"cellular organisms;Eukaryota;Viridiplantae;Streptophyta;Streptoph…\n",
       "  2057246 => \"cellular organisms;Bacteria;Terrabacteria group;Actinomycetota;Ac…\n",
       "  2884263 => \"cellular organisms;Bacteria;Terrabacteria group;Actinomycetota;Ac…\n",
       "  ⋮       => ⋮"
      ]
     },
     "execution_count": 42,
     "metadata": {},
     "output_type": "execute_result"
    }
   ],
   "source": [
    "taxid_to_lineage_map = Dict(parse(Int, split_line[1]) => split_line[2] for split_line in split.(readlines(`taxonkit lineage --data-dir $(taxdump_dir) $(detected_tax_id_file)`), '\\t'))"
   ]
  },
  {
   "cell_type": "code",
   "execution_count": 60,
   "id": "5739bf51-e534-4cc7-8ac4-5c9b1793ec38",
   "metadata": {},
   "outputs": [
    {
     "data": {
      "text/html": [
       "<div><div style = \"float: left;\"><span>7747×6 DataFrame</span></div><div style = \"float: right;\"><span style = \"font-style: italic;\">7722 rows omitted</span></div><div style = \"clear: both;\"></div></div><div class = \"data-frame\" style = \"overflow-x: scroll;\"><table class = \"data-frame\" style = \"margin-bottom: 6px;\"><thead><tr class = \"header\"><th class = \"rowNumber\" style = \"font-weight: bold; text-align: right;\">Row</th><th style = \"text-align: left;\">Contig</th><th style = \"text-align: left;\">Length</th><th style = \"text-align: left;\">Mapped bases</th><th style = \"text-align: left;\">Mean coverage</th><th style = \"text-align: left;\">Standard Deviation</th><th style = \"text-align: left;\">% Mapped bases</th></tr><tr class = \"subheader headerLastRow\"><th class = \"rowNumber\" style = \"font-weight: bold; text-align: right;\"></th><th title = \"String\" style = \"text-align: left;\">String</th><th title = \"Int64\" style = \"text-align: left;\">Int64</th><th title = \"Int64\" style = \"text-align: left;\">Int64</th><th title = \"Float64\" style = \"text-align: left;\">Float64</th><th title = \"Float64\" style = \"text-align: left;\">Float64</th><th title = \"Float64\" style = \"text-align: left;\">Float64</th></tr></thead><tbody><tr><td class = \"rowNumber\" style = \"font-weight: bold; text-align: right;\">1</td><td style = \"text-align: left;\">1</td><td style = \"text-align: right;\">332</td><td style = \"text-align: right;\">2018</td><td style = \"text-align: right;\">6.07831</td><td style = \"text-align: right;\">2.18919</td><td style = \"text-align: right;\">1.2315e-5</td></tr><tr><td class = \"rowNumber\" style = \"font-weight: bold; text-align: right;\">2</td><td style = \"text-align: left;\">10</td><td style = \"text-align: right;\">282</td><td style = \"text-align: right;\">1248715</td><td style = \"text-align: right;\">4428.07</td><td style = \"text-align: right;\">2904.23</td><td style = \"text-align: right;\">0.00762041</td></tr><tr><td class = \"rowNumber\" style = \"font-weight: bold; text-align: right;\">3</td><td style = \"text-align: left;\">100</td><td style = \"text-align: right;\">283</td><td style = \"text-align: right;\">642477</td><td style = \"text-align: right;\">2270.24</td><td style = \"text-align: right;\">689.41</td><td style = \"text-align: right;\">0.00392078</td></tr><tr><td class = \"rowNumber\" style = \"font-weight: bold; text-align: right;\">4</td><td style = \"text-align: left;\">1000</td><td style = \"text-align: right;\">10303</td><td style = \"text-align: right;\">33922763</td><td style = \"text-align: right;\">3292.51</td><td style = \"text-align: right;\">3072.38</td><td style = \"text-align: right;\">0.207017</td></tr><tr><td class = \"rowNumber\" style = \"font-weight: bold; text-align: right;\">5</td><td style = \"text-align: left;\">1001</td><td style = \"text-align: right;\">283</td><td style = \"text-align: right;\">12193596</td><td style = \"text-align: right;\">43086.9</td><td style = \"text-align: right;\">15013.1</td><td style = \"text-align: right;\">0.0744126</td></tr><tr><td class = \"rowNumber\" style = \"font-weight: bold; text-align: right;\">6</td><td style = \"text-align: left;\">1002</td><td style = \"text-align: right;\">485</td><td style = \"text-align: right;\">7460</td><td style = \"text-align: right;\">15.3814</td><td style = \"text-align: right;\">8.97436</td><td style = \"text-align: right;\">4.55254e-5</td></tr><tr><td class = \"rowNumber\" style = \"font-weight: bold; text-align: right;\">7</td><td style = \"text-align: left;\">1003</td><td style = \"text-align: right;\">294</td><td style = \"text-align: right;\">1161940</td><td style = \"text-align: right;\">3952.18</td><td style = \"text-align: right;\">2969.1</td><td style = \"text-align: right;\">0.00709086</td></tr><tr><td class = \"rowNumber\" style = \"font-weight: bold; text-align: right;\">8</td><td style = \"text-align: left;\">1004</td><td style = \"text-align: right;\">2014</td><td style = \"text-align: right;\">23553</td><td style = \"text-align: right;\">11.6946</td><td style = \"text-align: right;\">4.67608</td><td style = \"text-align: right;\">0.000143735</td></tr><tr><td class = \"rowNumber\" style = \"font-weight: bold; text-align: right;\">9</td><td style = \"text-align: left;\">1005</td><td style = \"text-align: right;\">284</td><td style = \"text-align: right;\">634018</td><td style = \"text-align: right;\">2232.46</td><td style = \"text-align: right;\">1859.92</td><td style = \"text-align: right;\">0.00386916</td></tr><tr><td class = \"rowNumber\" style = \"font-weight: bold; text-align: right;\">10</td><td style = \"text-align: left;\">1006</td><td style = \"text-align: right;\">266</td><td style = \"text-align: right;\">7570</td><td style = \"text-align: right;\">28.4586</td><td style = \"text-align: right;\">12.1079</td><td style = \"text-align: right;\">4.61967e-5</td></tr><tr><td class = \"rowNumber\" style = \"font-weight: bold; text-align: right;\">11</td><td style = \"text-align: left;\">1007</td><td style = \"text-align: right;\">248</td><td style = \"text-align: right;\">956079</td><td style = \"text-align: right;\">3855.16</td><td style = \"text-align: right;\">2430.37</td><td style = \"text-align: right;\">0.00583457</td></tr><tr><td class = \"rowNumber\" style = \"font-weight: bold; text-align: right;\">12</td><td style = \"text-align: left;\">1008</td><td style = \"text-align: right;\">1245</td><td style = \"text-align: right;\">1831072</td><td style = \"text-align: right;\">1470.74</td><td style = \"text-align: right;\">209.571</td><td style = \"text-align: right;\">0.0111743</td></tr><tr><td class = \"rowNumber\" style = \"font-weight: bold; text-align: right;\">13</td><td style = \"text-align: left;\">1009</td><td style = \"text-align: right;\">298</td><td style = \"text-align: right;\">133180</td><td style = \"text-align: right;\">446.913</td><td style = \"text-align: right;\">246.272</td><td style = \"text-align: right;\">0.000812744</td></tr><tr><td style = \"text-align: right;\">&vellip;</td><td style = \"text-align: right;\">&vellip;</td><td style = \"text-align: right;\">&vellip;</td><td style = \"text-align: right;\">&vellip;</td><td style = \"text-align: right;\">&vellip;</td><td style = \"text-align: right;\">&vellip;</td><td style = \"text-align: right;\">&vellip;</td></tr><tr><td class = \"rowNumber\" style = \"font-weight: bold; text-align: right;\">7736</td><td style = \"text-align: left;\">989</td><td style = \"text-align: right;\">7001</td><td style = \"text-align: right;\">111044</td><td style = \"text-align: right;\">15.8612</td><td style = \"text-align: right;\">7.08031</td><td style = \"text-align: right;\">0.000677657</td></tr><tr><td class = \"rowNumber\" style = \"font-weight: bold; text-align: right;\">7737</td><td style = \"text-align: left;\">99</td><td style = \"text-align: right;\">280</td><td style = \"text-align: right;\">607371</td><td style = \"text-align: right;\">2169.18</td><td style = \"text-align: right;\">696.598</td><td style = \"text-align: right;\">0.00370654</td></tr><tr><td class = \"rowNumber\" style = \"font-weight: bold; text-align: right;\">7738</td><td style = \"text-align: left;\">990</td><td style = \"text-align: right;\">272</td><td style = \"text-align: right;\">22513</td><td style = \"text-align: right;\">82.7684</td><td style = \"text-align: right;\">46.7646</td><td style = \"text-align: right;\">0.000137388</td></tr><tr><td class = \"rowNumber\" style = \"font-weight: bold; text-align: right;\">7739</td><td style = \"text-align: left;\">991</td><td style = \"text-align: right;\">317</td><td style = \"text-align: right;\">8218</td><td style = \"text-align: right;\">25.9243</td><td style = \"text-align: right;\">11.5095</td><td style = \"text-align: right;\">5.01512e-5</td></tr><tr><td class = \"rowNumber\" style = \"font-weight: bold; text-align: right;\">7740</td><td style = \"text-align: left;\">992</td><td style = \"text-align: right;\">388</td><td style = \"text-align: right;\">44846</td><td style = \"text-align: right;\">115.582</td><td style = \"text-align: right;\">79.9246</td><td style = \"text-align: right;\">0.000273677</td></tr><tr><td class = \"rowNumber\" style = \"font-weight: bold; text-align: right;\">7741</td><td style = \"text-align: left;\">993</td><td style = \"text-align: right;\">307</td><td style = \"text-align: right;\">3025</td><td style = \"text-align: right;\">9.85342</td><td style = \"text-align: right;\">7.4017</td><td style = \"text-align: right;\">1.84604e-5</td></tr><tr><td class = \"rowNumber\" style = \"font-weight: bold; text-align: right;\">7742</td><td style = \"text-align: left;\">994</td><td style = \"text-align: right;\">383</td><td style = \"text-align: right;\">18406</td><td style = \"text-align: right;\">48.0574</td><td style = \"text-align: right;\">26.3126</td><td style = \"text-align: right;\">0.000112324</td></tr><tr><td class = \"rowNumber\" style = \"font-weight: bold; text-align: right;\">7743</td><td style = \"text-align: left;\">995</td><td style = \"text-align: right;\">240</td><td style = \"text-align: right;\">793537</td><td style = \"text-align: right;\">3306.4</td><td style = \"text-align: right;\">1841.56</td><td style = \"text-align: right;\">0.00484264</td></tr><tr><td class = \"rowNumber\" style = \"font-weight: bold; text-align: right;\">7744</td><td style = \"text-align: left;\">996</td><td style = \"text-align: right;\">315</td><td style = \"text-align: right;\">3665584</td><td style = \"text-align: right;\">11636.8</td><td style = \"text-align: right;\">3044.38</td><td style = \"text-align: right;\">0.0223696</td></tr><tr><td class = \"rowNumber\" style = \"font-weight: bold; text-align: right;\">7745</td><td style = \"text-align: left;\">997</td><td style = \"text-align: right;\">318</td><td style = \"text-align: right;\">6381595</td><td style = \"text-align: right;\">20067.9</td><td style = \"text-align: right;\">19082.2</td><td style = \"text-align: right;\">0.0389443</td></tr><tr><td class = \"rowNumber\" style = \"font-weight: bold; text-align: right;\">7746</td><td style = \"text-align: left;\">998</td><td style = \"text-align: right;\">282</td><td style = \"text-align: right;\">6562637</td><td style = \"text-align: right;\">23271.8</td><td style = \"text-align: right;\">17113.4</td><td style = \"text-align: right;\">0.0400492</td></tr><tr><td class = \"rowNumber\" style = \"font-weight: bold; text-align: right;\">7747</td><td style = \"text-align: left;\">999</td><td style = \"text-align: right;\">273</td><td style = \"text-align: right;\">5726</td><td style = \"text-align: right;\">20.9744</td><td style = \"text-align: right;\">10.9137</td><td style = \"text-align: right;\">3.49435e-5</td></tr></tbody></table></div>"
      ],
      "text/latex": [
       "\\begin{tabular}{r|cccccc}\n",
       "\t& Contig & Length & Mapped bases & Mean coverage & Standard Deviation & \\% Mapped bases\\\\\n",
       "\t\\hline\n",
       "\t& String & Int64 & Int64 & Float64 & Float64 & Float64\\\\\n",
       "\t\\hline\n",
       "\t1 & 1 & 332 & 2018 & 6.07831 & 2.18919 & 1.2315e-5 \\\\\n",
       "\t2 & 10 & 282 & 1248715 & 4428.07 & 2904.23 & 0.00762041 \\\\\n",
       "\t3 & 100 & 283 & 642477 & 2270.24 & 689.41 & 0.00392078 \\\\\n",
       "\t4 & 1000 & 10303 & 33922763 & 3292.51 & 3072.38 & 0.207017 \\\\\n",
       "\t5 & 1001 & 283 & 12193596 & 43086.9 & 15013.1 & 0.0744126 \\\\\n",
       "\t6 & 1002 & 485 & 7460 & 15.3814 & 8.97436 & 4.55254e-5 \\\\\n",
       "\t7 & 1003 & 294 & 1161940 & 3952.18 & 2969.1 & 0.00709086 \\\\\n",
       "\t8 & 1004 & 2014 & 23553 & 11.6946 & 4.67608 & 0.000143735 \\\\\n",
       "\t9 & 1005 & 284 & 634018 & 2232.46 & 1859.92 & 0.00386916 \\\\\n",
       "\t10 & 1006 & 266 & 7570 & 28.4586 & 12.1079 & 4.61967e-5 \\\\\n",
       "\t11 & 1007 & 248 & 956079 & 3855.16 & 2430.37 & 0.00583457 \\\\\n",
       "\t12 & 1008 & 1245 & 1831072 & 1470.74 & 209.571 & 0.0111743 \\\\\n",
       "\t13 & 1009 & 298 & 133180 & 446.913 & 246.272 & 0.000812744 \\\\\n",
       "\t14 & 101 & 554 & 1291 & 2.33032 & 1.08697 & 7.87846e-6 \\\\\n",
       "\t15 & 1010 & 295 & 843655 & 2859.85 & 1487.69 & 0.00514849 \\\\\n",
       "\t16 & 1011 & 328 & 983754 & 2999.25 & 2133.94 & 0.00600346 \\\\\n",
       "\t17 & 1012 & 231 & 6883918 & 29800.5 & 17139.5 & 0.0420098 \\\\\n",
       "\t18 & 1013 & 4206 & 210577 & 50.0659 & 19.1823 & 0.00128507 \\\\\n",
       "\t19 & 1014 & 1493 & 375179 & 251.292 & 112.336 & 0.00228957 \\\\\n",
       "\t20 & 1015 & 279 & 2236624 & 8016.57 & 3505.25 & 0.0136492 \\\\\n",
       "\t21 & 1016 & 629 & 1460 & 2.32114 & 0.932652 & 8.9098e-6 \\\\\n",
       "\t22 & 1017 & 289 & 821289 & 2841.83 & 2372.83 & 0.005012 \\\\\n",
       "\t23 & 1018 & 283 & 9407655 & 33242.6 & 16061.6 & 0.0574112 \\\\\n",
       "\t24 & 1019 & 282 & 1990001 & 7056.74 & 4115.0 & 0.0121442 \\\\\n",
       "\t25 & 102 & 225 & 1523499 & 6771.11 & 4488.72 & 0.00929731 \\\\\n",
       "\t26 & 1020 & 250 & 811657 & 3246.63 & 1852.4 & 0.00495322 \\\\\n",
       "\t27 & 1021 & 212 & 325724 & 1536.43 & 739.17 & 0.00198776 \\\\\n",
       "\t28 & 1022 & 1000 & 2923 & 2.923 & 0.947138 & 1.78379e-5 \\\\\n",
       "\t29 & 1023 & 298 & 116648 & 391.436 & 156.645 & 0.000711856 \\\\\n",
       "\t30 & 1024 & 281 & 5731093 & 20395.3 & 13580.0 & 0.0349746 \\\\\n",
       "\t$\\dots$ & $\\dots$ & $\\dots$ & $\\dots$ & $\\dots$ & $\\dots$ & $\\dots$ \\\\\n",
       "\\end{tabular}\n"
      ],
      "text/plain": [
       "\u001b[1m7747×6 DataFrame\u001b[0m\n",
       "\u001b[1m  Row \u001b[0m│\u001b[1m Contig \u001b[0m\u001b[1m Length \u001b[0m\u001b[1m Mapped bases \u001b[0m\u001b[1m Mean coverage \u001b[0m\u001b[1m Standard Deviation \u001b[0m\u001b[1m % Map\u001b[0m ⋯\n",
       "      │\u001b[90m String \u001b[0m\u001b[90m Int64  \u001b[0m\u001b[90m Int64        \u001b[0m\u001b[90m Float64       \u001b[0m\u001b[90m Float64            \u001b[0m\u001b[90m Float\u001b[0m ⋯\n",
       "──────┼─────────────────────────────────────────────────────────────────────────\n",
       "    1 │ 1          332          2018        6.07831             2.18919     1. ⋯\n",
       "    2 │ 10         282       1248715     4428.07             2904.23        0.\n",
       "    3 │ 100        283        642477     2270.24              689.41        0.\n",
       "    4 │ 1000     10303      33922763     3292.51             3072.38        0.\n",
       "    5 │ 1001       283      12193596    43086.9             15013.1         0. ⋯\n",
       "    6 │ 1002       485          7460       15.3814              8.97436     4.\n",
       "    7 │ 1003       294       1161940     3952.18             2969.1         0.\n",
       "    8 │ 1004      2014         23553       11.6946              4.67608     0.\n",
       "    9 │ 1005       284        634018     2232.46             1859.92        0. ⋯\n",
       "   10 │ 1006       266          7570       28.4586             12.1079      4.\n",
       "   11 │ 1007       248        956079     3855.16             2430.37        0.\n",
       "  ⋮   │   ⋮       ⋮          ⋮              ⋮                ⋮                 ⋱\n",
       " 7738 │ 990        272         22513       82.7684             46.7646      0.\n",
       " 7739 │ 991        317          8218       25.9243             11.5095      5. ⋯\n",
       " 7740 │ 992        388         44846      115.582              79.9246      0.\n",
       " 7741 │ 993        307          3025        9.85342             7.4017      1.\n",
       " 7742 │ 994        383         18406       48.0574             26.3126      0.\n",
       " 7743 │ 995        240        793537     3306.4              1841.56        0. ⋯\n",
       " 7744 │ 996        315       3665584    11636.8              3044.38        0.\n",
       " 7745 │ 997        318       6381595    20067.9             19082.2         0.\n",
       " 7746 │ 998        282       6562637    23271.8             17113.4         0.\n",
       " 7747 │ 999        273          5726       20.9744             10.9137      3. ⋯\n",
       "\u001b[36m                                                  1 column and 7726 rows omitted\u001b[0m"
      ]
     },
     "execution_count": 60,
     "metadata": {},
     "output_type": "execute_result"
    }
   ],
   "source": [
    "qualimap_report_txt = joinpath(SRR_path, \"megahit\", \"qualimap\", \"genome_results.txt\")\n",
    "qualimap_contig_coverage_table = Mycelia.parse_qualimap_contig_coverage(qualimap_report_txt)"
   ]
  },
  {
   "cell_type": "code",
   "execution_count": 61,
   "id": "2ee024c9-fa6c-4210-97a2-c220f9c7680b",
   "metadata": {},
   "outputs": [
    {
     "data": {
      "text/html": [
       "<div><div style = \"float: left;\"><span>18747857×25 DataFrame</span></div><div style = \"float: right;\"><span style = \"font-style: italic;\">18747832 rows omitted</span></div><div style = \"clear: both;\"></div></div><div class = \"data-frame\" style = \"overflow-x: scroll;\"><table class = \"data-frame\" style = \"margin-bottom: 6px;\"><thead><tr class = \"header\"><th class = \"rowNumber\" style = \"font-weight: bold; text-align: right;\">Row</th><th style = \"text-align: left;\">Contig</th><th style = \"text-align: left;\">Length</th><th style = \"text-align: left;\">Mapped bases</th><th style = \"text-align: left;\">Mean coverage</th><th style = \"text-align: left;\">Standard Deviation</th><th style = \"text-align: left;\">% Mapped bases</th><th style = \"text-align: left;\">subject id</th><th style = \"text-align: left;\">subject acc.</th><th style = \"text-align: left;\">subject acc.ver</th><th style = \"text-align: left;\">subject title</th><th style = \"text-align: left;\">query length</th><th style = \"text-align: left;\">subject length</th><th style = \"text-align: left;\">q. start</th><th style = \"text-align: left;\">q. end</th><th style = \"text-align: left;\">s. start</th><th style = \"text-align: left;\">s. end</th><th style = \"text-align: left;\">evalue</th><th style = \"text-align: left;\">bit score</th><th style = \"text-align: left;\">alignment length</th><th style = \"text-align: left;\">% identity</th><th style = \"text-align: left;\">identical</th><th style = \"text-align: left;\">mismatches</th><th style = \"text-align: left;\">subject tax id</th><th style = \"text-align: left;\">lineage</th><th style = \"text-align: left;\">% of subject length</th></tr><tr class = \"subheader headerLastRow\"><th class = \"rowNumber\" style = \"font-weight: bold; text-align: right;\"></th><th title = \"String\" style = \"text-align: left;\">String</th><th title = \"Int64\" style = \"text-align: left;\">Int64</th><th title = \"Int64\" style = \"text-align: left;\">Int64</th><th title = \"Float64\" style = \"text-align: left;\">Float64</th><th title = \"Float64\" style = \"text-align: left;\">Float64</th><th title = \"Float64\" style = \"text-align: left;\">Float64</th><th title = \"Union{Missing, String}\" style = \"text-align: left;\">String?</th><th title = \"Union{Missing, String}\" style = \"text-align: left;\">String?</th><th title = \"Union{Missing, String}\" style = \"text-align: left;\">String?</th><th title = \"Union{Missing, String}\" style = \"text-align: left;\">String?</th><th title = \"Union{Missing, Int64}\" style = \"text-align: left;\">Int64?</th><th title = \"Union{Missing, Int64}\" style = \"text-align: left;\">Int64?</th><th title = \"Union{Missing, Int64}\" style = \"text-align: left;\">Int64?</th><th title = \"Union{Missing, Int64}\" style = \"text-align: left;\">Int64?</th><th title = \"Union{Missing, Int64}\" style = \"text-align: left;\">Int64?</th><th title = \"Union{Missing, Int64}\" style = \"text-align: left;\">Int64?</th><th title = \"Union{Missing, Float64}\" style = \"text-align: left;\">Float64?</th><th title = \"Union{Missing, Float64}\" style = \"text-align: left;\">Float64?</th><th title = \"Union{Missing, Int64}\" style = \"text-align: left;\">Int64?</th><th title = \"Union{Missing, Float64}\" style = \"text-align: left;\">Float64?</th><th title = \"Union{Missing, Int64}\" style = \"text-align: left;\">Int64?</th><th title = \"Union{Missing, Int64}\" style = \"text-align: left;\">Int64?</th><th title = \"Union{Missing, Int64}\" style = \"text-align: left;\">Int64?</th><th title = \"Union{Missing, SubString{String}}\" style = \"text-align: left;\">SubStrin…?</th><th title = \"Union{Missing, Float64}\" style = \"text-align: left;\">Float64?</th></tr></thead><tbody><tr><td class = \"rowNumber\" style = \"font-weight: bold; text-align: right;\">1</td><td style = \"text-align: left;\">1</td><td style = \"text-align: right;\">332</td><td style = \"text-align: right;\">2018</td><td style = \"text-align: right;\">6.07831</td><td style = \"text-align: right;\">2.18919</td><td style = \"text-align: right;\">1.2315e-5</td><td style = \"text-align: left;\">gi|1992539536|gb|MT497461.1|</td><td style = \"text-align: left;\">MT497461</td><td style = \"text-align: left;\">MT497461.1</td><td style = \"text-align: left;\">Homo sapiens genomic sequence</td><td style = \"text-align: right;\">332</td><td style = \"text-align: right;\">178804</td><td style = \"text-align: right;\">1</td><td style = \"text-align: right;\">199</td><td style = \"text-align: right;\">18005</td><td style = \"text-align: right;\">17808</td><td style = \"text-align: right;\">5.6e-95</td><td style = \"text-align: right;\">361.0</td><td style = \"text-align: right;\">199</td><td style = \"text-align: right;\">99.497</td><td style = \"text-align: right;\">198</td><td style = \"text-align: right;\">0</td><td style = \"text-align: right;\">9606</td><td style = \"text-align: left;\">cellular organisms;Eukaryota;Opisthokonta;Metazoa;Eumetazoa;Bilateria;Deuterostomia;Chordata;Craniata;Vertebrata;Gnathostomata;Teleostomi;Euteleostomi;Sarcopterygii;Dipnotetrapodomorpha;Tetrapoda;Amniota;Mammalia;Theria;Eutheria;Boreoeutheria;Euarchontoglires;Primates;Haplorrhini;Simiiformes;Catarrhini;Hominoidea;Hominidae;Homininae;Homo;Homo sapiens</td><td style = \"text-align: right;\">0.186</td></tr><tr><td class = \"rowNumber\" style = \"font-weight: bold; text-align: right;\">2</td><td style = \"text-align: left;\">1</td><td style = \"text-align: right;\">332</td><td style = \"text-align: right;\">2018</td><td style = \"text-align: right;\">6.07831</td><td style = \"text-align: right;\">2.18919</td><td style = \"text-align: right;\">1.2315e-5</td><td style = \"text-align: left;\">gi|1992539536|gb|MT497461.1|</td><td style = \"text-align: left;\">MT497461</td><td style = \"text-align: left;\">MT497461.1</td><td style = \"text-align: left;\">Homo sapiens genomic sequence</td><td style = \"text-align: right;\">332</td><td style = \"text-align: right;\">178804</td><td style = \"text-align: right;\">235</td><td style = \"text-align: right;\">332</td><td style = \"text-align: right;\">18597</td><td style = \"text-align: right;\">18500</td><td style = \"text-align: right;\">4.68e-41</td><td style = \"text-align: right;\">182.0</td><td style = \"text-align: right;\">98</td><td style = \"text-align: right;\">100.0</td><td style = \"text-align: right;\">98</td><td style = \"text-align: right;\">0</td><td style = \"text-align: right;\">9606</td><td style = \"text-align: left;\">cellular organisms;Eukaryota;Opisthokonta;Metazoa;Eumetazoa;Bilateria;Deuterostomia;Chordata;Craniata;Vertebrata;Gnathostomata;Teleostomi;Euteleostomi;Sarcopterygii;Dipnotetrapodomorpha;Tetrapoda;Amniota;Mammalia;Theria;Eutheria;Boreoeutheria;Euarchontoglires;Primates;Haplorrhini;Simiiformes;Catarrhini;Hominoidea;Hominidae;Homininae;Homo;Homo sapiens</td><td style = \"text-align: right;\">0.186</td></tr><tr><td class = \"rowNumber\" style = \"font-weight: bold; text-align: right;\">3</td><td style = \"text-align: left;\">1</td><td style = \"text-align: right;\">332</td><td style = \"text-align: right;\">2018</td><td style = \"text-align: right;\">6.07831</td><td style = \"text-align: right;\">2.18919</td><td style = \"text-align: right;\">1.2315e-5</td><td style = \"text-align: left;\">gi|1992539536|gb|MT497461.1|</td><td style = \"text-align: left;\">MT497461</td><td style = \"text-align: left;\">MT497461.1</td><td style = \"text-align: left;\">Homo sapiens genomic sequence</td><td style = \"text-align: right;\">332</td><td style = \"text-align: right;\">178804</td><td style = \"text-align: right;\">192</td><td style = \"text-align: right;\">243</td><td style = \"text-align: right;\">19218</td><td style = \"text-align: right;\">19269</td><td style = \"text-align: right;\">1.74e-15</td><td style = \"text-align: right;\">97.1</td><td style = \"text-align: right;\">52</td><td style = \"text-align: right;\">100.0</td><td style = \"text-align: right;\">52</td><td style = \"text-align: right;\">0</td><td style = \"text-align: right;\">9606</td><td style = \"text-align: left;\">cellular organisms;Eukaryota;Opisthokonta;Metazoa;Eumetazoa;Bilateria;Deuterostomia;Chordata;Craniata;Vertebrata;Gnathostomata;Teleostomi;Euteleostomi;Sarcopterygii;Dipnotetrapodomorpha;Tetrapoda;Amniota;Mammalia;Theria;Eutheria;Boreoeutheria;Euarchontoglires;Primates;Haplorrhini;Simiiformes;Catarrhini;Hominoidea;Hominidae;Homininae;Homo;Homo sapiens</td><td style = \"text-align: right;\">0.186</td></tr><tr><td class = \"rowNumber\" style = \"font-weight: bold; text-align: right;\">4</td><td style = \"text-align: left;\">1</td><td style = \"text-align: right;\">332</td><td style = \"text-align: right;\">2018</td><td style = \"text-align: right;\">6.07831</td><td style = \"text-align: right;\">2.18919</td><td style = \"text-align: right;\">1.2315e-5</td><td style = \"text-align: left;\">gi|1992539535|gb|MT497460.1|</td><td style = \"text-align: left;\">MT497460</td><td style = \"text-align: left;\">MT497460.1</td><td style = \"text-align: left;\">Homo sapiens clone BAC JH42 genomic sequence</td><td style = \"text-align: right;\">332</td><td style = \"text-align: right;\">60357</td><td style = \"text-align: right;\">1</td><td style = \"text-align: right;\">199</td><td style = \"text-align: right;\">18005</td><td style = \"text-align: right;\">17808</td><td style = \"text-align: right;\">5.6e-95</td><td style = \"text-align: right;\">361.0</td><td style = \"text-align: right;\">199</td><td style = \"text-align: right;\">99.497</td><td style = \"text-align: right;\">198</td><td style = \"text-align: right;\">0</td><td style = \"text-align: right;\">9606</td><td style = \"text-align: left;\">cellular organisms;Eukaryota;Opisthokonta;Metazoa;Eumetazoa;Bilateria;Deuterostomia;Chordata;Craniata;Vertebrata;Gnathostomata;Teleostomi;Euteleostomi;Sarcopterygii;Dipnotetrapodomorpha;Tetrapoda;Amniota;Mammalia;Theria;Eutheria;Boreoeutheria;Euarchontoglires;Primates;Haplorrhini;Simiiformes;Catarrhini;Hominoidea;Hominidae;Homininae;Homo;Homo sapiens</td><td style = \"text-align: right;\">0.55</td></tr><tr><td class = \"rowNumber\" style = \"font-weight: bold; text-align: right;\">5</td><td style = \"text-align: left;\">1</td><td style = \"text-align: right;\">332</td><td style = \"text-align: right;\">2018</td><td style = \"text-align: right;\">6.07831</td><td style = \"text-align: right;\">2.18919</td><td style = \"text-align: right;\">1.2315e-5</td><td style = \"text-align: left;\">gi|1992539535|gb|MT497460.1|</td><td style = \"text-align: left;\">MT497460</td><td style = \"text-align: left;\">MT497460.1</td><td style = \"text-align: left;\">Homo sapiens clone BAC JH42 genomic sequence</td><td style = \"text-align: right;\">332</td><td style = \"text-align: right;\">60357</td><td style = \"text-align: right;\">235</td><td style = \"text-align: right;\">332</td><td style = \"text-align: right;\">18597</td><td style = \"text-align: right;\">18500</td><td style = \"text-align: right;\">4.68e-41</td><td style = \"text-align: right;\">182.0</td><td style = \"text-align: right;\">98</td><td style = \"text-align: right;\">100.0</td><td style = \"text-align: right;\">98</td><td style = \"text-align: right;\">0</td><td style = \"text-align: right;\">9606</td><td style = \"text-align: left;\">cellular organisms;Eukaryota;Opisthokonta;Metazoa;Eumetazoa;Bilateria;Deuterostomia;Chordata;Craniata;Vertebrata;Gnathostomata;Teleostomi;Euteleostomi;Sarcopterygii;Dipnotetrapodomorpha;Tetrapoda;Amniota;Mammalia;Theria;Eutheria;Boreoeutheria;Euarchontoglires;Primates;Haplorrhini;Simiiformes;Catarrhini;Hominoidea;Hominidae;Homininae;Homo;Homo sapiens</td><td style = \"text-align: right;\">0.55</td></tr><tr><td class = \"rowNumber\" style = \"font-weight: bold; text-align: right;\">6</td><td style = \"text-align: left;\">1</td><td style = \"text-align: right;\">332</td><td style = \"text-align: right;\">2018</td><td style = \"text-align: right;\">6.07831</td><td style = \"text-align: right;\">2.18919</td><td style = \"text-align: right;\">1.2315e-5</td><td style = \"text-align: left;\">gi|1992539535|gb|MT497460.1|</td><td style = \"text-align: left;\">MT497460</td><td style = \"text-align: left;\">MT497460.1</td><td style = \"text-align: left;\">Homo sapiens clone BAC JH42 genomic sequence</td><td style = \"text-align: right;\">332</td><td style = \"text-align: right;\">60357</td><td style = \"text-align: right;\">192</td><td style = \"text-align: right;\">243</td><td style = \"text-align: right;\">19218</td><td style = \"text-align: right;\">19269</td><td style = \"text-align: right;\">1.74e-15</td><td style = \"text-align: right;\">97.1</td><td style = \"text-align: right;\">52</td><td style = \"text-align: right;\">100.0</td><td style = \"text-align: right;\">52</td><td style = \"text-align: right;\">0</td><td style = \"text-align: right;\">9606</td><td style = \"text-align: left;\">cellular organisms;Eukaryota;Opisthokonta;Metazoa;Eumetazoa;Bilateria;Deuterostomia;Chordata;Craniata;Vertebrata;Gnathostomata;Teleostomi;Euteleostomi;Sarcopterygii;Dipnotetrapodomorpha;Tetrapoda;Amniota;Mammalia;Theria;Eutheria;Boreoeutheria;Euarchontoglires;Primates;Haplorrhini;Simiiformes;Catarrhini;Hominoidea;Hominidae;Homininae;Homo;Homo sapiens</td><td style = \"text-align: right;\">0.55</td></tr><tr><td class = \"rowNumber\" style = \"font-weight: bold; text-align: right;\">7</td><td style = \"text-align: left;\">1</td><td style = \"text-align: right;\">332</td><td style = \"text-align: right;\">2018</td><td style = \"text-align: right;\">6.07831</td><td style = \"text-align: right;\">2.18919</td><td style = \"text-align: right;\">1.2315e-5</td><td style = \"text-align: left;\">gi|1548994296|gb|CP034500.1|</td><td style = \"text-align: left;\">CP034500</td><td style = \"text-align: left;\">CP034500.1</td><td style = \"text-align: left;\">Eukaryotic synthetic construct chromosome 21</td><td style = \"text-align: right;\">332</td><td style = \"text-align: right;\">38708702</td><td style = \"text-align: right;\">1</td><td style = \"text-align: right;\">199</td><td style = \"text-align: right;\">453925</td><td style = \"text-align: right;\">454122</td><td style = \"text-align: right;\">1.21e-91</td><td style = \"text-align: right;\">350.0</td><td style = \"text-align: right;\">199</td><td style = \"text-align: right;\">98.492</td><td style = \"text-align: right;\">196</td><td style = \"text-align: right;\">2</td><td style = \"text-align: right;\">111789</td><td style = \"text-align: left;\">other entries;other sequences;artificial sequences;eukaryotic synthetic constructs;eukaryotic synthetic construct</td><td style = \"text-align: right;\">0.001</td></tr><tr><td class = \"rowNumber\" style = \"font-weight: bold; text-align: right;\">8</td><td style = \"text-align: left;\">1</td><td style = \"text-align: right;\">332</td><td style = \"text-align: right;\">2018</td><td style = \"text-align: right;\">6.07831</td><td style = \"text-align: right;\">2.18919</td><td style = \"text-align: right;\">1.2315e-5</td><td style = \"text-align: left;\">gi|1548994296|gb|CP034500.1|</td><td style = \"text-align: left;\">CP034500</td><td style = \"text-align: left;\">CP034500.1</td><td style = \"text-align: left;\">Eukaryotic synthetic construct chromosome 21</td><td style = \"text-align: right;\">332</td><td style = \"text-align: right;\">38708702</td><td style = \"text-align: right;\">1</td><td style = \"text-align: right;\">199</td><td style = \"text-align: right;\">1204376</td><td style = \"text-align: right;\">1204179</td><td style = \"text-align: right;\">2.64e-83</td><td style = \"text-align: right;\">322.0</td><td style = \"text-align: right;\">199</td><td style = \"text-align: right;\">95.98</td><td style = \"text-align: right;\">191</td><td style = \"text-align: right;\">7</td><td style = \"text-align: right;\">111789</td><td style = \"text-align: left;\">other entries;other sequences;artificial sequences;eukaryotic synthetic constructs;eukaryotic synthetic construct</td><td style = \"text-align: right;\">0.001</td></tr><tr><td class = \"rowNumber\" style = \"font-weight: bold; text-align: right;\">9</td><td style = \"text-align: left;\">1</td><td style = \"text-align: right;\">332</td><td style = \"text-align: right;\">2018</td><td style = \"text-align: right;\">6.07831</td><td style = \"text-align: right;\">2.18919</td><td style = \"text-align: right;\">1.2315e-5</td><td style = \"text-align: left;\">gi|1548994296|gb|CP034500.1|</td><td style = \"text-align: left;\">CP034500</td><td style = \"text-align: left;\">CP034500.1</td><td style = \"text-align: left;\">Eukaryotic synthetic construct chromosome 21</td><td style = \"text-align: right;\">332</td><td style = \"text-align: right;\">38708702</td><td style = \"text-align: right;\">235</td><td style = \"text-align: right;\">332</td><td style = \"text-align: right;\">453336</td><td style = \"text-align: right;\">453433</td><td style = \"text-align: right;\">1.01e-37</td><td style = \"text-align: right;\">171.0</td><td style = \"text-align: right;\">98</td><td style = \"text-align: right;\">97.959</td><td style = \"text-align: right;\">96</td><td style = \"text-align: right;\">2</td><td style = \"text-align: right;\">111789</td><td style = \"text-align: left;\">other entries;other sequences;artificial sequences;eukaryotic synthetic constructs;eukaryotic synthetic construct</td><td style = \"text-align: right;\">0.001</td></tr><tr><td class = \"rowNumber\" style = \"font-weight: bold; text-align: right;\">10</td><td style = \"text-align: left;\">1</td><td style = \"text-align: right;\">332</td><td style = \"text-align: right;\">2018</td><td style = \"text-align: right;\">6.07831</td><td style = \"text-align: right;\">2.18919</td><td style = \"text-align: right;\">1.2315e-5</td><td style = \"text-align: left;\">gi|1548994296|gb|CP034500.1|</td><td style = \"text-align: left;\">CP034500</td><td style = \"text-align: left;\">CP034500.1</td><td style = \"text-align: left;\">Eukaryotic synthetic construct chromosome 21</td><td style = \"text-align: right;\">332</td><td style = \"text-align: right;\">38708702</td><td style = \"text-align: right;\">235</td><td style = \"text-align: right;\">332</td><td style = \"text-align: right;\">1204967</td><td style = \"text-align: right;\">1204871</td><td style = \"text-align: right;\">7.94e-29</td><td style = \"text-align: right;\">141.0</td><td style = \"text-align: right;\">98</td><td style = \"text-align: right;\">92.857</td><td style = \"text-align: right;\">91</td><td style = \"text-align: right;\">6</td><td style = \"text-align: right;\">111789</td><td style = \"text-align: left;\">other entries;other sequences;artificial sequences;eukaryotic synthetic constructs;eukaryotic synthetic construct</td><td style = \"text-align: right;\">0.001</td></tr><tr><td class = \"rowNumber\" style = \"font-weight: bold; text-align: right;\">11</td><td style = \"text-align: left;\">1</td><td style = \"text-align: right;\">332</td><td style = \"text-align: right;\">2018</td><td style = \"text-align: right;\">6.07831</td><td style = \"text-align: right;\">2.18919</td><td style = \"text-align: right;\">1.2315e-5</td><td style = \"text-align: left;\">gi|1548994296|gb|CP034500.1|</td><td style = \"text-align: left;\">CP034500</td><td style = \"text-align: left;\">CP034500.1</td><td style = \"text-align: left;\">Eukaryotic synthetic construct chromosome 21</td><td style = \"text-align: right;\">332</td><td style = \"text-align: right;\">38708702</td><td style = \"text-align: right;\">192</td><td style = \"text-align: right;\">243</td><td style = \"text-align: right;\">452716</td><td style = \"text-align: right;\">452665</td><td style = \"text-align: right;\">8.11e-14</td><td style = \"text-align: right;\">91.6</td><td style = \"text-align: right;\">52</td><td style = \"text-align: right;\">98.077</td><td style = \"text-align: right;\">51</td><td style = \"text-align: right;\">1</td><td style = \"text-align: right;\">111789</td><td style = \"text-align: left;\">other entries;other sequences;artificial sequences;eukaryotic synthetic constructs;eukaryotic synthetic construct</td><td style = \"text-align: right;\">0.001</td></tr><tr><td class = \"rowNumber\" style = \"font-weight: bold; text-align: right;\">12</td><td style = \"text-align: left;\">1</td><td style = \"text-align: right;\">332</td><td style = \"text-align: right;\">2018</td><td style = \"text-align: right;\">6.07831</td><td style = \"text-align: right;\">2.18919</td><td style = \"text-align: right;\">1.2315e-5</td><td style = \"text-align: left;\">gi|2033716899|gb|CP068257.2|</td><td style = \"text-align: left;\">CP068257</td><td style = \"text-align: left;\">CP068257.2</td><td style = \"text-align: left;\">Homo sapiens isolate CHM13 chromosome 21</td><td style = \"text-align: right;\">332</td><td style = \"text-align: right;\">45090682</td><td style = \"text-align: right;\">1</td><td style = \"text-align: right;\">199</td><td style = \"text-align: right;\">5650489</td><td style = \"text-align: right;\">5650686</td><td style = \"text-align: right;\">1.21e-91</td><td style = \"text-align: right;\">350.0</td><td style = \"text-align: right;\">199</td><td style = \"text-align: right;\">98.492</td><td style = \"text-align: right;\">196</td><td style = \"text-align: right;\">2</td><td style = \"text-align: right;\">9606</td><td style = \"text-align: left;\">cellular organisms;Eukaryota;Opisthokonta;Metazoa;Eumetazoa;Bilateria;Deuterostomia;Chordata;Craniata;Vertebrata;Gnathostomata;Teleostomi;Euteleostomi;Sarcopterygii;Dipnotetrapodomorpha;Tetrapoda;Amniota;Mammalia;Theria;Eutheria;Boreoeutheria;Euarchontoglires;Primates;Haplorrhini;Simiiformes;Catarrhini;Hominoidea;Hominidae;Homininae;Homo;Homo sapiens</td><td style = \"text-align: right;\">0.001</td></tr><tr><td class = \"rowNumber\" style = \"font-weight: bold; text-align: right;\">13</td><td style = \"text-align: left;\">1</td><td style = \"text-align: right;\">332</td><td style = \"text-align: right;\">2018</td><td style = \"text-align: right;\">6.07831</td><td style = \"text-align: right;\">2.18919</td><td style = \"text-align: right;\">1.2315e-5</td><td style = \"text-align: left;\">gi|2033716899|gb|CP068257.2|</td><td style = \"text-align: left;\">CP068257</td><td style = \"text-align: left;\">CP068257.2</td><td style = \"text-align: left;\">Homo sapiens isolate CHM13 chromosome 21</td><td style = \"text-align: right;\">332</td><td style = \"text-align: right;\">45090682</td><td style = \"text-align: right;\">1</td><td style = \"text-align: right;\">199</td><td style = \"text-align: right;\">9750917</td><td style = \"text-align: right;\">9750720</td><td style = \"text-align: right;\">2.64e-83</td><td style = \"text-align: right;\">322.0</td><td style = \"text-align: right;\">199</td><td style = \"text-align: right;\">95.98</td><td style = \"text-align: right;\">191</td><td style = \"text-align: right;\">7</td><td style = \"text-align: right;\">9606</td><td style = \"text-align: left;\">cellular organisms;Eukaryota;Opisthokonta;Metazoa;Eumetazoa;Bilateria;Deuterostomia;Chordata;Craniata;Vertebrata;Gnathostomata;Teleostomi;Euteleostomi;Sarcopterygii;Dipnotetrapodomorpha;Tetrapoda;Amniota;Mammalia;Theria;Eutheria;Boreoeutheria;Euarchontoglires;Primates;Haplorrhini;Simiiformes;Catarrhini;Hominoidea;Hominidae;Homininae;Homo;Homo sapiens</td><td style = \"text-align: right;\">0.001</td></tr><tr><td style = \"text-align: right;\">&vellip;</td><td style = \"text-align: right;\">&vellip;</td><td style = \"text-align: right;\">&vellip;</td><td style = \"text-align: right;\">&vellip;</td><td style = \"text-align: right;\">&vellip;</td><td style = \"text-align: right;\">&vellip;</td><td style = \"text-align: right;\">&vellip;</td><td style = \"text-align: right;\">&vellip;</td><td style = \"text-align: right;\">&vellip;</td><td style = \"text-align: right;\">&vellip;</td><td style = \"text-align: right;\">&vellip;</td><td style = \"text-align: right;\">&vellip;</td><td style = \"text-align: right;\">&vellip;</td><td style = \"text-align: right;\">&vellip;</td><td style = \"text-align: right;\">&vellip;</td><td style = \"text-align: right;\">&vellip;</td><td style = \"text-align: right;\">&vellip;</td><td style = \"text-align: right;\">&vellip;</td><td style = \"text-align: right;\">&vellip;</td><td style = \"text-align: right;\">&vellip;</td><td style = \"text-align: right;\">&vellip;</td><td style = \"text-align: right;\">&vellip;</td><td style = \"text-align: right;\">&vellip;</td><td style = \"text-align: right;\">&vellip;</td><td style = \"text-align: right;\">&vellip;</td><td style = \"text-align: right;\">&vellip;</td></tr><tr><td class = \"rowNumber\" style = \"font-weight: bold; text-align: right;\">18747846</td><td style = \"text-align: left;\">989</td><td style = \"text-align: right;\">7001</td><td style = \"text-align: right;\">111044</td><td style = \"text-align: right;\">15.8612</td><td style = \"text-align: right;\">7.08031</td><td style = \"text-align: right;\">0.000677657</td><td style = \"text-align: left;\">missing</td><td style = \"text-align: left;\">missing</td><td style = \"text-align: left;\">missing</td><td style = \"text-align: left;\">missing</td><td style = \"text-align: right;\">missing</td><td style = \"text-align: right;\">missing</td><td style = \"text-align: right;\">missing</td><td style = \"text-align: right;\">missing</td><td style = \"text-align: right;\">missing</td><td style = \"text-align: right;\">missing</td><td style = \"text-align: right;\">missing</td><td style = \"text-align: right;\">missing</td><td style = \"text-align: right;\">missing</td><td style = \"text-align: right;\">missing</td><td style = \"text-align: right;\">missing</td><td style = \"text-align: right;\">missing</td><td style = \"text-align: right;\">missing</td><td style = \"text-align: left;\">missing</td><td style = \"text-align: right;\">missing</td></tr><tr><td class = \"rowNumber\" style = \"font-weight: bold; text-align: right;\">18747847</td><td style = \"text-align: left;\">99</td><td style = \"text-align: right;\">280</td><td style = \"text-align: right;\">607371</td><td style = \"text-align: right;\">2169.18</td><td style = \"text-align: right;\">696.598</td><td style = \"text-align: right;\">0.00370654</td><td style = \"text-align: left;\">missing</td><td style = \"text-align: left;\">missing</td><td style = \"text-align: left;\">missing</td><td style = \"text-align: left;\">missing</td><td style = \"text-align: right;\">missing</td><td style = \"text-align: right;\">missing</td><td style = \"text-align: right;\">missing</td><td style = \"text-align: right;\">missing</td><td style = \"text-align: right;\">missing</td><td style = \"text-align: right;\">missing</td><td style = \"text-align: right;\">missing</td><td style = \"text-align: right;\">missing</td><td style = \"text-align: right;\">missing</td><td style = \"text-align: right;\">missing</td><td style = \"text-align: right;\">missing</td><td style = \"text-align: right;\">missing</td><td style = \"text-align: right;\">missing</td><td style = \"text-align: left;\">missing</td><td style = \"text-align: right;\">missing</td></tr><tr><td class = \"rowNumber\" style = \"font-weight: bold; text-align: right;\">18747848</td><td style = \"text-align: left;\">990</td><td style = \"text-align: right;\">272</td><td style = \"text-align: right;\">22513</td><td style = \"text-align: right;\">82.7684</td><td style = \"text-align: right;\">46.7646</td><td style = \"text-align: right;\">0.000137388</td><td style = \"text-align: left;\">missing</td><td style = \"text-align: left;\">missing</td><td style = \"text-align: left;\">missing</td><td style = \"text-align: left;\">missing</td><td style = \"text-align: right;\">missing</td><td style = \"text-align: right;\">missing</td><td style = \"text-align: right;\">missing</td><td style = \"text-align: right;\">missing</td><td style = \"text-align: right;\">missing</td><td style = \"text-align: right;\">missing</td><td style = \"text-align: right;\">missing</td><td style = \"text-align: right;\">missing</td><td style = \"text-align: right;\">missing</td><td style = \"text-align: right;\">missing</td><td style = \"text-align: right;\">missing</td><td style = \"text-align: right;\">missing</td><td style = \"text-align: right;\">missing</td><td style = \"text-align: left;\">missing</td><td style = \"text-align: right;\">missing</td></tr><tr><td class = \"rowNumber\" style = \"font-weight: bold; text-align: right;\">18747849</td><td style = \"text-align: left;\">991</td><td style = \"text-align: right;\">317</td><td style = \"text-align: right;\">8218</td><td style = \"text-align: right;\">25.9243</td><td style = \"text-align: right;\">11.5095</td><td style = \"text-align: right;\">5.01512e-5</td><td style = \"text-align: left;\">missing</td><td style = \"text-align: left;\">missing</td><td style = \"text-align: left;\">missing</td><td style = \"text-align: left;\">missing</td><td style = \"text-align: right;\">missing</td><td style = \"text-align: right;\">missing</td><td style = \"text-align: right;\">missing</td><td style = \"text-align: right;\">missing</td><td style = \"text-align: right;\">missing</td><td style = \"text-align: right;\">missing</td><td style = \"text-align: right;\">missing</td><td style = \"text-align: right;\">missing</td><td style = \"text-align: right;\">missing</td><td style = \"text-align: right;\">missing</td><td style = \"text-align: right;\">missing</td><td style = \"text-align: right;\">missing</td><td style = \"text-align: right;\">missing</td><td style = \"text-align: left;\">missing</td><td style = \"text-align: right;\">missing</td></tr><tr><td class = \"rowNumber\" style = \"font-weight: bold; text-align: right;\">18747850</td><td style = \"text-align: left;\">992</td><td style = \"text-align: right;\">388</td><td style = \"text-align: right;\">44846</td><td style = \"text-align: right;\">115.582</td><td style = \"text-align: right;\">79.9246</td><td style = \"text-align: right;\">0.000273677</td><td style = \"text-align: left;\">missing</td><td style = \"text-align: left;\">missing</td><td style = \"text-align: left;\">missing</td><td style = \"text-align: left;\">missing</td><td style = \"text-align: right;\">missing</td><td style = \"text-align: right;\">missing</td><td style = \"text-align: right;\">missing</td><td style = \"text-align: right;\">missing</td><td style = \"text-align: right;\">missing</td><td style = \"text-align: right;\">missing</td><td style = \"text-align: right;\">missing</td><td style = \"text-align: right;\">missing</td><td style = \"text-align: right;\">missing</td><td style = \"text-align: right;\">missing</td><td style = \"text-align: right;\">missing</td><td style = \"text-align: right;\">missing</td><td style = \"text-align: right;\">missing</td><td style = \"text-align: left;\">missing</td><td style = \"text-align: right;\">missing</td></tr><tr><td class = \"rowNumber\" style = \"font-weight: bold; text-align: right;\">18747851</td><td style = \"text-align: left;\">993</td><td style = \"text-align: right;\">307</td><td style = \"text-align: right;\">3025</td><td style = \"text-align: right;\">9.85342</td><td style = \"text-align: right;\">7.4017</td><td style = \"text-align: right;\">1.84604e-5</td><td style = \"text-align: left;\">missing</td><td style = \"text-align: left;\">missing</td><td style = \"text-align: left;\">missing</td><td style = \"text-align: left;\">missing</td><td style = \"text-align: right;\">missing</td><td style = \"text-align: right;\">missing</td><td style = \"text-align: right;\">missing</td><td style = \"text-align: right;\">missing</td><td style = \"text-align: right;\">missing</td><td style = \"text-align: right;\">missing</td><td style = \"text-align: right;\">missing</td><td style = \"text-align: right;\">missing</td><td style = \"text-align: right;\">missing</td><td style = \"text-align: right;\">missing</td><td style = \"text-align: right;\">missing</td><td style = \"text-align: right;\">missing</td><td style = \"text-align: right;\">missing</td><td style = \"text-align: left;\">missing</td><td style = \"text-align: right;\">missing</td></tr><tr><td class = \"rowNumber\" style = \"font-weight: bold; text-align: right;\">18747852</td><td style = \"text-align: left;\">994</td><td style = \"text-align: right;\">383</td><td style = \"text-align: right;\">18406</td><td style = \"text-align: right;\">48.0574</td><td style = \"text-align: right;\">26.3126</td><td style = \"text-align: right;\">0.000112324</td><td style = \"text-align: left;\">missing</td><td style = \"text-align: left;\">missing</td><td style = \"text-align: left;\">missing</td><td style = \"text-align: left;\">missing</td><td style = \"text-align: right;\">missing</td><td style = \"text-align: right;\">missing</td><td style = \"text-align: right;\">missing</td><td style = \"text-align: right;\">missing</td><td style = \"text-align: right;\">missing</td><td style = \"text-align: right;\">missing</td><td style = \"text-align: right;\">missing</td><td style = \"text-align: right;\">missing</td><td style = \"text-align: right;\">missing</td><td style = \"text-align: right;\">missing</td><td style = \"text-align: right;\">missing</td><td style = \"text-align: right;\">missing</td><td style = \"text-align: right;\">missing</td><td style = \"text-align: left;\">missing</td><td style = \"text-align: right;\">missing</td></tr><tr><td class = \"rowNumber\" style = \"font-weight: bold; text-align: right;\">18747853</td><td style = \"text-align: left;\">995</td><td style = \"text-align: right;\">240</td><td style = \"text-align: right;\">793537</td><td style = \"text-align: right;\">3306.4</td><td style = \"text-align: right;\">1841.56</td><td style = \"text-align: right;\">0.00484264</td><td style = \"text-align: left;\">missing</td><td style = \"text-align: left;\">missing</td><td style = \"text-align: left;\">missing</td><td style = \"text-align: left;\">missing</td><td style = \"text-align: right;\">missing</td><td style = \"text-align: right;\">missing</td><td style = \"text-align: right;\">missing</td><td style = \"text-align: right;\">missing</td><td style = \"text-align: right;\">missing</td><td style = \"text-align: right;\">missing</td><td style = \"text-align: right;\">missing</td><td style = \"text-align: right;\">missing</td><td style = \"text-align: right;\">missing</td><td style = \"text-align: right;\">missing</td><td style = \"text-align: right;\">missing</td><td style = \"text-align: right;\">missing</td><td style = \"text-align: right;\">missing</td><td style = \"text-align: left;\">missing</td><td style = \"text-align: right;\">missing</td></tr><tr><td class = \"rowNumber\" style = \"font-weight: bold; text-align: right;\">18747854</td><td style = \"text-align: left;\">996</td><td style = \"text-align: right;\">315</td><td style = \"text-align: right;\">3665584</td><td style = \"text-align: right;\">11636.8</td><td style = \"text-align: right;\">3044.38</td><td style = \"text-align: right;\">0.0223696</td><td style = \"text-align: left;\">missing</td><td style = \"text-align: left;\">missing</td><td style = \"text-align: left;\">missing</td><td style = \"text-align: left;\">missing</td><td style = \"text-align: right;\">missing</td><td style = \"text-align: right;\">missing</td><td style = \"text-align: right;\">missing</td><td style = \"text-align: right;\">missing</td><td style = \"text-align: right;\">missing</td><td style = \"text-align: right;\">missing</td><td style = \"text-align: right;\">missing</td><td style = \"text-align: right;\">missing</td><td style = \"text-align: right;\">missing</td><td style = \"text-align: right;\">missing</td><td style = \"text-align: right;\">missing</td><td style = \"text-align: right;\">missing</td><td style = \"text-align: right;\">missing</td><td style = \"text-align: left;\">missing</td><td style = \"text-align: right;\">missing</td></tr><tr><td class = \"rowNumber\" style = \"font-weight: bold; text-align: right;\">18747855</td><td style = \"text-align: left;\">997</td><td style = \"text-align: right;\">318</td><td style = \"text-align: right;\">6381595</td><td style = \"text-align: right;\">20067.9</td><td style = \"text-align: right;\">19082.2</td><td style = \"text-align: right;\">0.0389443</td><td style = \"text-align: left;\">missing</td><td style = \"text-align: left;\">missing</td><td style = \"text-align: left;\">missing</td><td style = \"text-align: left;\">missing</td><td style = \"text-align: right;\">missing</td><td style = \"text-align: right;\">missing</td><td style = \"text-align: right;\">missing</td><td style = \"text-align: right;\">missing</td><td style = \"text-align: right;\">missing</td><td style = \"text-align: right;\">missing</td><td style = \"text-align: right;\">missing</td><td style = \"text-align: right;\">missing</td><td style = \"text-align: right;\">missing</td><td style = \"text-align: right;\">missing</td><td style = \"text-align: right;\">missing</td><td style = \"text-align: right;\">missing</td><td style = \"text-align: right;\">missing</td><td style = \"text-align: left;\">missing</td><td style = \"text-align: right;\">missing</td></tr><tr><td class = \"rowNumber\" style = \"font-weight: bold; text-align: right;\">18747856</td><td style = \"text-align: left;\">998</td><td style = \"text-align: right;\">282</td><td style = \"text-align: right;\">6562637</td><td style = \"text-align: right;\">23271.8</td><td style = \"text-align: right;\">17113.4</td><td style = \"text-align: right;\">0.0400492</td><td style = \"text-align: left;\">missing</td><td style = \"text-align: left;\">missing</td><td style = \"text-align: left;\">missing</td><td style = \"text-align: left;\">missing</td><td style = \"text-align: right;\">missing</td><td style = \"text-align: right;\">missing</td><td style = \"text-align: right;\">missing</td><td style = \"text-align: right;\">missing</td><td style = \"text-align: right;\">missing</td><td style = \"text-align: right;\">missing</td><td style = \"text-align: right;\">missing</td><td style = \"text-align: right;\">missing</td><td style = \"text-align: right;\">missing</td><td style = \"text-align: right;\">missing</td><td style = \"text-align: right;\">missing</td><td style = \"text-align: right;\">missing</td><td style = \"text-align: right;\">missing</td><td style = \"text-align: left;\">missing</td><td style = \"text-align: right;\">missing</td></tr><tr><td class = \"rowNumber\" style = \"font-weight: bold; text-align: right;\">18747857</td><td style = \"text-align: left;\">999</td><td style = \"text-align: right;\">273</td><td style = \"text-align: right;\">5726</td><td style = \"text-align: right;\">20.9744</td><td style = \"text-align: right;\">10.9137</td><td style = \"text-align: right;\">3.49435e-5</td><td style = \"text-align: left;\">missing</td><td style = \"text-align: left;\">missing</td><td style = \"text-align: left;\">missing</td><td style = \"text-align: left;\">missing</td><td style = \"text-align: right;\">missing</td><td style = \"text-align: right;\">missing</td><td style = \"text-align: right;\">missing</td><td style = \"text-align: right;\">missing</td><td style = \"text-align: right;\">missing</td><td style = \"text-align: right;\">missing</td><td style = \"text-align: right;\">missing</td><td style = \"text-align: right;\">missing</td><td style = \"text-align: right;\">missing</td><td style = \"text-align: right;\">missing</td><td style = \"text-align: right;\">missing</td><td style = \"text-align: right;\">missing</td><td style = \"text-align: right;\">missing</td><td style = \"text-align: left;\">missing</td><td style = \"text-align: right;\">missing</td></tr></tbody></table></div>"
      ],
      "text/latex": [
       "\\begin{tabular}{r|ccccccc}\n",
       "\t& Contig & Length & Mapped bases & Mean coverage & Standard Deviation & \\% Mapped bases & \\\\\n",
       "\t\\hline\n",
       "\t& String & Int64 & Int64 & Float64 & Float64 & Float64 & \\\\\n",
       "\t\\hline\n",
       "\t1 & 1 & 332 & 2018 & 6.07831 & 2.18919 & 1.2315e-5 & $\\dots$ \\\\\n",
       "\t2 & 1 & 332 & 2018 & 6.07831 & 2.18919 & 1.2315e-5 & $\\dots$ \\\\\n",
       "\t3 & 1 & 332 & 2018 & 6.07831 & 2.18919 & 1.2315e-5 & $\\dots$ \\\\\n",
       "\t4 & 1 & 332 & 2018 & 6.07831 & 2.18919 & 1.2315e-5 & $\\dots$ \\\\\n",
       "\t5 & 1 & 332 & 2018 & 6.07831 & 2.18919 & 1.2315e-5 & $\\dots$ \\\\\n",
       "\t6 & 1 & 332 & 2018 & 6.07831 & 2.18919 & 1.2315e-5 & $\\dots$ \\\\\n",
       "\t7 & 1 & 332 & 2018 & 6.07831 & 2.18919 & 1.2315e-5 & $\\dots$ \\\\\n",
       "\t8 & 1 & 332 & 2018 & 6.07831 & 2.18919 & 1.2315e-5 & $\\dots$ \\\\\n",
       "\t9 & 1 & 332 & 2018 & 6.07831 & 2.18919 & 1.2315e-5 & $\\dots$ \\\\\n",
       "\t10 & 1 & 332 & 2018 & 6.07831 & 2.18919 & 1.2315e-5 & $\\dots$ \\\\\n",
       "\t11 & 1 & 332 & 2018 & 6.07831 & 2.18919 & 1.2315e-5 & $\\dots$ \\\\\n",
       "\t12 & 1 & 332 & 2018 & 6.07831 & 2.18919 & 1.2315e-5 & $\\dots$ \\\\\n",
       "\t13 & 1 & 332 & 2018 & 6.07831 & 2.18919 & 1.2315e-5 & $\\dots$ \\\\\n",
       "\t14 & 1 & 332 & 2018 & 6.07831 & 2.18919 & 1.2315e-5 & $\\dots$ \\\\\n",
       "\t15 & 1 & 332 & 2018 & 6.07831 & 2.18919 & 1.2315e-5 & $\\dots$ \\\\\n",
       "\t16 & 1 & 332 & 2018 & 6.07831 & 2.18919 & 1.2315e-5 & $\\dots$ \\\\\n",
       "\t17 & 1 & 332 & 2018 & 6.07831 & 2.18919 & 1.2315e-5 & $\\dots$ \\\\\n",
       "\t18 & 1 & 332 & 2018 & 6.07831 & 2.18919 & 1.2315e-5 & $\\dots$ \\\\\n",
       "\t19 & 1 & 332 & 2018 & 6.07831 & 2.18919 & 1.2315e-5 & $\\dots$ \\\\\n",
       "\t20 & 1 & 332 & 2018 & 6.07831 & 2.18919 & 1.2315e-5 & $\\dots$ \\\\\n",
       "\t21 & 1 & 332 & 2018 & 6.07831 & 2.18919 & 1.2315e-5 & $\\dots$ \\\\\n",
       "\t22 & 1 & 332 & 2018 & 6.07831 & 2.18919 & 1.2315e-5 & $\\dots$ \\\\\n",
       "\t23 & 1 & 332 & 2018 & 6.07831 & 2.18919 & 1.2315e-5 & $\\dots$ \\\\\n",
       "\t24 & 1 & 332 & 2018 & 6.07831 & 2.18919 & 1.2315e-5 & $\\dots$ \\\\\n",
       "\t25 & 1 & 332 & 2018 & 6.07831 & 2.18919 & 1.2315e-5 & $\\dots$ \\\\\n",
       "\t26 & 1 & 332 & 2018 & 6.07831 & 2.18919 & 1.2315e-5 & $\\dots$ \\\\\n",
       "\t27 & 1 & 332 & 2018 & 6.07831 & 2.18919 & 1.2315e-5 & $\\dots$ \\\\\n",
       "\t28 & 1 & 332 & 2018 & 6.07831 & 2.18919 & 1.2315e-5 & $\\dots$ \\\\\n",
       "\t29 & 1 & 332 & 2018 & 6.07831 & 2.18919 & 1.2315e-5 & $\\dots$ \\\\\n",
       "\t30 & 1 & 332 & 2018 & 6.07831 & 2.18919 & 1.2315e-5 & $\\dots$ \\\\\n",
       "\t$\\dots$ & $\\dots$ & $\\dots$ & $\\dots$ & $\\dots$ & $\\dots$ & $\\dots$ &  \\\\\n",
       "\\end{tabular}\n"
      ],
      "text/plain": [
       "\u001b[1m18747857×25 DataFrame\u001b[0m\n",
       "\u001b[1m      Row \u001b[0m│\u001b[1m Contig \u001b[0m\u001b[1m Length \u001b[0m\u001b[1m Mapped bases \u001b[0m\u001b[1m Mean coverage \u001b[0m\u001b[1m Standard Deviation \u001b[0m\u001b[1m %\u001b[0m ⋯\n",
       "          │\u001b[90m String \u001b[0m\u001b[90m Int64  \u001b[0m\u001b[90m Int64        \u001b[0m\u001b[90m Float64       \u001b[0m\u001b[90m Float64            \u001b[0m\u001b[90m F\u001b[0m ⋯\n",
       "──────────┼─────────────────────────────────────────────────────────────────────\n",
       "        1 │ 1          332          2018        6.07831             2.18919    ⋯\n",
       "        2 │ 1          332          2018        6.07831             2.18919\n",
       "        3 │ 1          332          2018        6.07831             2.18919\n",
       "        4 │ 1          332          2018        6.07831             2.18919\n",
       "        5 │ 1          332          2018        6.07831             2.18919    ⋯\n",
       "        6 │ 1          332          2018        6.07831             2.18919\n",
       "        7 │ 1          332          2018        6.07831             2.18919\n",
       "        8 │ 1          332          2018        6.07831             2.18919\n",
       "        9 │ 1          332          2018        6.07831             2.18919    ⋯\n",
       "       10 │ 1          332          2018        6.07831             2.18919\n",
       "       11 │ 1          332          2018        6.07831             2.18919\n",
       "    ⋮     │   ⋮       ⋮          ⋮              ⋮                ⋮             ⋱\n",
       " 18747848 │ 990        272         22513       82.7684             46.7646\n",
       " 18747849 │ 991        317          8218       25.9243             11.5095     ⋯\n",
       " 18747850 │ 992        388         44846      115.582              79.9246\n",
       " 18747851 │ 993        307          3025        9.85342             7.4017\n",
       " 18747852 │ 994        383         18406       48.0574             26.3126\n",
       " 18747853 │ 995        240        793537     3306.4              1841.56       ⋯\n",
       " 18747854 │ 996        315       3665584    11636.8              3044.38\n",
       " 18747855 │ 997        318       6381595    20067.9             19082.2\n",
       " 18747856 │ 998        282       6562637    23271.8             17113.4\n",
       " 18747857 │ 999        273          5726       20.9744             10.9137     ⋯\n",
       "\u001b[36m                                            20 columns and 18747836 rows omitted\u001b[0m"
      ]
     },
     "execution_count": 61,
     "metadata": {},
     "output_type": "execute_result"
    }
   ],
   "source": [
    "ncbi_blast_results[!, \"lineage\"] = map(x -> get(taxid_to_lineage_map, x, \"\"), ncbi_blast_results[!, \"subject tax id\"])\n",
    "ncbi_blast_results[!, \"% of subject length\"] = round.(ncbi_blast_results[!, \"query length\"] ./ ncbi_blast_results[!, \"subject length\"] * 100, digits=3)\n",
    "contig_info_table = DataFrames.leftjoin(qualimap_contig_coverage_table, ncbi_blast_results, on=\"Contig\" => \"query id\")"
   ]
  },
  {
   "cell_type": "code",
   "execution_count": 62,
   "id": "62cf1292-bf21-4384-b1cb-1acc7b6b92a1",
   "metadata": {},
   "outputs": [
    {
     "data": {
      "text/html": [
       "<div><div style = \"float: left;\"><span>18747857×25 DataFrame</span></div><div style = \"float: right;\"><span style = \"font-style: italic;\">18747832 rows omitted</span></div><div style = \"clear: both;\"></div></div><div class = \"data-frame\" style = \"overflow-x: scroll;\"><table class = \"data-frame\" style = \"margin-bottom: 6px;\"><thead><tr class = \"header\"><th class = \"rowNumber\" style = \"font-weight: bold; text-align: right;\">Row</th><th style = \"text-align: left;\">Contig</th><th style = \"text-align: left;\">Length</th><th style = \"text-align: left;\">Mapped bases</th><th style = \"text-align: left;\">Mean coverage</th><th style = \"text-align: left;\">Standard Deviation</th><th style = \"text-align: left;\">% Mapped bases</th><th style = \"text-align: left;\">subject id</th><th style = \"text-align: left;\">subject acc.</th><th style = \"text-align: left;\">subject acc.ver</th><th style = \"text-align: left;\">subject title</th><th style = \"text-align: left;\">query length</th><th style = \"text-align: left;\">subject length</th><th style = \"text-align: left;\">q. start</th><th style = \"text-align: left;\">q. end</th><th style = \"text-align: left;\">s. start</th><th style = \"text-align: left;\">s. end</th><th style = \"text-align: left;\">evalue</th><th style = \"text-align: left;\">bit score</th><th style = \"text-align: left;\">alignment length</th><th style = \"text-align: left;\">% identity</th><th style = \"text-align: left;\">identical</th><th style = \"text-align: left;\">mismatches</th><th style = \"text-align: left;\">subject tax id</th><th style = \"text-align: left;\">lineage</th><th style = \"text-align: left;\">% of subject length</th></tr><tr class = \"subheader headerLastRow\"><th class = \"rowNumber\" style = \"font-weight: bold; text-align: right;\"></th><th title = \"String\" style = \"text-align: left;\">String</th><th title = \"Int64\" style = \"text-align: left;\">Int64</th><th title = \"Int64\" style = \"text-align: left;\">Int64</th><th title = \"Float64\" style = \"text-align: left;\">Float64</th><th title = \"Float64\" style = \"text-align: left;\">Float64</th><th title = \"Float64\" style = \"text-align: left;\">Float64</th><th title = \"Union{Missing, String}\" style = \"text-align: left;\">String?</th><th title = \"Union{Missing, String}\" style = \"text-align: left;\">String?</th><th title = \"Union{Missing, String}\" style = \"text-align: left;\">String?</th><th title = \"Union{Missing, String}\" style = \"text-align: left;\">String?</th><th title = \"Union{Missing, Int64}\" style = \"text-align: left;\">Int64?</th><th title = \"Union{Missing, Int64}\" style = \"text-align: left;\">Int64?</th><th title = \"Union{Missing, Int64}\" style = \"text-align: left;\">Int64?</th><th title = \"Union{Missing, Int64}\" style = \"text-align: left;\">Int64?</th><th title = \"Union{Missing, Int64}\" style = \"text-align: left;\">Int64?</th><th title = \"Union{Missing, Int64}\" style = \"text-align: left;\">Int64?</th><th title = \"Union{Missing, Float64}\" style = \"text-align: left;\">Float64?</th><th title = \"Union{Missing, Float64}\" style = \"text-align: left;\">Float64?</th><th title = \"Union{Missing, Int64}\" style = \"text-align: left;\">Int64?</th><th title = \"Union{Missing, Float64}\" style = \"text-align: left;\">Float64?</th><th title = \"Union{Missing, Int64}\" style = \"text-align: left;\">Int64?</th><th title = \"Union{Missing, Int64}\" style = \"text-align: left;\">Int64?</th><th title = \"Union{Missing, Int64}\" style = \"text-align: left;\">Int64?</th><th title = \"Union{Missing, SubString{String}}\" style = \"text-align: left;\">SubStrin…?</th><th title = \"Union{Missing, Float64}\" style = \"text-align: left;\">Float64?</th></tr></thead><tbody><tr><td class = \"rowNumber\" style = \"font-weight: bold; text-align: right;\">1</td><td style = \"text-align: left;\">1</td><td style = \"text-align: right;\">332</td><td style = \"text-align: right;\">2018</td><td style = \"text-align: right;\">6.07831</td><td style = \"text-align: right;\">2.18919</td><td style = \"text-align: right;\">1.2315e-5</td><td style = \"text-align: left;\">gi|1992539536|gb|MT497461.1|</td><td style = \"text-align: left;\">MT497461</td><td style = \"text-align: left;\">MT497461.1</td><td style = \"text-align: left;\">Homo sapiens genomic sequence</td><td style = \"text-align: right;\">332</td><td style = \"text-align: right;\">178804</td><td style = \"text-align: right;\">1</td><td style = \"text-align: right;\">199</td><td style = \"text-align: right;\">18005</td><td style = \"text-align: right;\">17808</td><td style = \"text-align: right;\">5.6e-95</td><td style = \"text-align: right;\">361.0</td><td style = \"text-align: right;\">199</td><td style = \"text-align: right;\">99.497</td><td style = \"text-align: right;\">198</td><td style = \"text-align: right;\">0</td><td style = \"text-align: right;\">9606</td><td style = \"text-align: left;\">cellular organisms;Eukaryota;Opisthokonta;Metazoa;Eumetazoa;Bilateria;Deuterostomia;Chordata;Craniata;Vertebrata;Gnathostomata;Teleostomi;Euteleostomi;Sarcopterygii;Dipnotetrapodomorpha;Tetrapoda;Amniota;Mammalia;Theria;Eutheria;Boreoeutheria;Euarchontoglires;Primates;Haplorrhini;Simiiformes;Catarrhini;Hominoidea;Hominidae;Homininae;Homo;Homo sapiens</td><td style = \"text-align: right;\">0.186</td></tr><tr><td class = \"rowNumber\" style = \"font-weight: bold; text-align: right;\">2</td><td style = \"text-align: left;\">1</td><td style = \"text-align: right;\">332</td><td style = \"text-align: right;\">2018</td><td style = \"text-align: right;\">6.07831</td><td style = \"text-align: right;\">2.18919</td><td style = \"text-align: right;\">1.2315e-5</td><td style = \"text-align: left;\">gi|1992539536|gb|MT497461.1|</td><td style = \"text-align: left;\">MT497461</td><td style = \"text-align: left;\">MT497461.1</td><td style = \"text-align: left;\">Homo sapiens genomic sequence</td><td style = \"text-align: right;\">332</td><td style = \"text-align: right;\">178804</td><td style = \"text-align: right;\">235</td><td style = \"text-align: right;\">332</td><td style = \"text-align: right;\">18597</td><td style = \"text-align: right;\">18500</td><td style = \"text-align: right;\">4.68e-41</td><td style = \"text-align: right;\">182.0</td><td style = \"text-align: right;\">98</td><td style = \"text-align: right;\">100.0</td><td style = \"text-align: right;\">98</td><td style = \"text-align: right;\">0</td><td style = \"text-align: right;\">9606</td><td style = \"text-align: left;\">cellular organisms;Eukaryota;Opisthokonta;Metazoa;Eumetazoa;Bilateria;Deuterostomia;Chordata;Craniata;Vertebrata;Gnathostomata;Teleostomi;Euteleostomi;Sarcopterygii;Dipnotetrapodomorpha;Tetrapoda;Amniota;Mammalia;Theria;Eutheria;Boreoeutheria;Euarchontoglires;Primates;Haplorrhini;Simiiformes;Catarrhini;Hominoidea;Hominidae;Homininae;Homo;Homo sapiens</td><td style = \"text-align: right;\">0.186</td></tr><tr><td class = \"rowNumber\" style = \"font-weight: bold; text-align: right;\">3</td><td style = \"text-align: left;\">1</td><td style = \"text-align: right;\">332</td><td style = \"text-align: right;\">2018</td><td style = \"text-align: right;\">6.07831</td><td style = \"text-align: right;\">2.18919</td><td style = \"text-align: right;\">1.2315e-5</td><td style = \"text-align: left;\">gi|1992539536|gb|MT497461.1|</td><td style = \"text-align: left;\">MT497461</td><td style = \"text-align: left;\">MT497461.1</td><td style = \"text-align: left;\">Homo sapiens genomic sequence</td><td style = \"text-align: right;\">332</td><td style = \"text-align: right;\">178804</td><td style = \"text-align: right;\">192</td><td style = \"text-align: right;\">243</td><td style = \"text-align: right;\">19218</td><td style = \"text-align: right;\">19269</td><td style = \"text-align: right;\">1.74e-15</td><td style = \"text-align: right;\">97.1</td><td style = \"text-align: right;\">52</td><td style = \"text-align: right;\">100.0</td><td style = \"text-align: right;\">52</td><td style = \"text-align: right;\">0</td><td style = \"text-align: right;\">9606</td><td style = \"text-align: left;\">cellular organisms;Eukaryota;Opisthokonta;Metazoa;Eumetazoa;Bilateria;Deuterostomia;Chordata;Craniata;Vertebrata;Gnathostomata;Teleostomi;Euteleostomi;Sarcopterygii;Dipnotetrapodomorpha;Tetrapoda;Amniota;Mammalia;Theria;Eutheria;Boreoeutheria;Euarchontoglires;Primates;Haplorrhini;Simiiformes;Catarrhini;Hominoidea;Hominidae;Homininae;Homo;Homo sapiens</td><td style = \"text-align: right;\">0.186</td></tr><tr><td class = \"rowNumber\" style = \"font-weight: bold; text-align: right;\">4</td><td style = \"text-align: left;\">1</td><td style = \"text-align: right;\">332</td><td style = \"text-align: right;\">2018</td><td style = \"text-align: right;\">6.07831</td><td style = \"text-align: right;\">2.18919</td><td style = \"text-align: right;\">1.2315e-5</td><td style = \"text-align: left;\">gi|1992539535|gb|MT497460.1|</td><td style = \"text-align: left;\">MT497460</td><td style = \"text-align: left;\">MT497460.1</td><td style = \"text-align: left;\">Homo sapiens clone BAC JH42 genomic sequence</td><td style = \"text-align: right;\">332</td><td style = \"text-align: right;\">60357</td><td style = \"text-align: right;\">1</td><td style = \"text-align: right;\">199</td><td style = \"text-align: right;\">18005</td><td style = \"text-align: right;\">17808</td><td style = \"text-align: right;\">5.6e-95</td><td style = \"text-align: right;\">361.0</td><td style = \"text-align: right;\">199</td><td style = \"text-align: right;\">99.497</td><td style = \"text-align: right;\">198</td><td style = \"text-align: right;\">0</td><td style = \"text-align: right;\">9606</td><td style = \"text-align: left;\">cellular organisms;Eukaryota;Opisthokonta;Metazoa;Eumetazoa;Bilateria;Deuterostomia;Chordata;Craniata;Vertebrata;Gnathostomata;Teleostomi;Euteleostomi;Sarcopterygii;Dipnotetrapodomorpha;Tetrapoda;Amniota;Mammalia;Theria;Eutheria;Boreoeutheria;Euarchontoglires;Primates;Haplorrhini;Simiiformes;Catarrhini;Hominoidea;Hominidae;Homininae;Homo;Homo sapiens</td><td style = \"text-align: right;\">0.55</td></tr><tr><td class = \"rowNumber\" style = \"font-weight: bold; text-align: right;\">5</td><td style = \"text-align: left;\">1</td><td style = \"text-align: right;\">332</td><td style = \"text-align: right;\">2018</td><td style = \"text-align: right;\">6.07831</td><td style = \"text-align: right;\">2.18919</td><td style = \"text-align: right;\">1.2315e-5</td><td style = \"text-align: left;\">gi|1992539535|gb|MT497460.1|</td><td style = \"text-align: left;\">MT497460</td><td style = \"text-align: left;\">MT497460.1</td><td style = \"text-align: left;\">Homo sapiens clone BAC JH42 genomic sequence</td><td style = \"text-align: right;\">332</td><td style = \"text-align: right;\">60357</td><td style = \"text-align: right;\">235</td><td style = \"text-align: right;\">332</td><td style = \"text-align: right;\">18597</td><td style = \"text-align: right;\">18500</td><td style = \"text-align: right;\">4.68e-41</td><td style = \"text-align: right;\">182.0</td><td style = \"text-align: right;\">98</td><td style = \"text-align: right;\">100.0</td><td style = \"text-align: right;\">98</td><td style = \"text-align: right;\">0</td><td style = \"text-align: right;\">9606</td><td style = \"text-align: left;\">cellular organisms;Eukaryota;Opisthokonta;Metazoa;Eumetazoa;Bilateria;Deuterostomia;Chordata;Craniata;Vertebrata;Gnathostomata;Teleostomi;Euteleostomi;Sarcopterygii;Dipnotetrapodomorpha;Tetrapoda;Amniota;Mammalia;Theria;Eutheria;Boreoeutheria;Euarchontoglires;Primates;Haplorrhini;Simiiformes;Catarrhini;Hominoidea;Hominidae;Homininae;Homo;Homo sapiens</td><td style = \"text-align: right;\">0.55</td></tr><tr><td class = \"rowNumber\" style = \"font-weight: bold; text-align: right;\">6</td><td style = \"text-align: left;\">1</td><td style = \"text-align: right;\">332</td><td style = \"text-align: right;\">2018</td><td style = \"text-align: right;\">6.07831</td><td style = \"text-align: right;\">2.18919</td><td style = \"text-align: right;\">1.2315e-5</td><td style = \"text-align: left;\">gi|1992539535|gb|MT497460.1|</td><td style = \"text-align: left;\">MT497460</td><td style = \"text-align: left;\">MT497460.1</td><td style = \"text-align: left;\">Homo sapiens clone BAC JH42 genomic sequence</td><td style = \"text-align: right;\">332</td><td style = \"text-align: right;\">60357</td><td style = \"text-align: right;\">192</td><td style = \"text-align: right;\">243</td><td style = \"text-align: right;\">19218</td><td style = \"text-align: right;\">19269</td><td style = \"text-align: right;\">1.74e-15</td><td style = \"text-align: right;\">97.1</td><td style = \"text-align: right;\">52</td><td style = \"text-align: right;\">100.0</td><td style = \"text-align: right;\">52</td><td style = \"text-align: right;\">0</td><td style = \"text-align: right;\">9606</td><td style = \"text-align: left;\">cellular organisms;Eukaryota;Opisthokonta;Metazoa;Eumetazoa;Bilateria;Deuterostomia;Chordata;Craniata;Vertebrata;Gnathostomata;Teleostomi;Euteleostomi;Sarcopterygii;Dipnotetrapodomorpha;Tetrapoda;Amniota;Mammalia;Theria;Eutheria;Boreoeutheria;Euarchontoglires;Primates;Haplorrhini;Simiiformes;Catarrhini;Hominoidea;Hominidae;Homininae;Homo;Homo sapiens</td><td style = \"text-align: right;\">0.55</td></tr><tr><td class = \"rowNumber\" style = \"font-weight: bold; text-align: right;\">7</td><td style = \"text-align: left;\">1</td><td style = \"text-align: right;\">332</td><td style = \"text-align: right;\">2018</td><td style = \"text-align: right;\">6.07831</td><td style = \"text-align: right;\">2.18919</td><td style = \"text-align: right;\">1.2315e-5</td><td style = \"text-align: left;\">gi|1548994296|gb|CP034500.1|</td><td style = \"text-align: left;\">CP034500</td><td style = \"text-align: left;\">CP034500.1</td><td style = \"text-align: left;\">Eukaryotic synthetic construct chromosome 21</td><td style = \"text-align: right;\">332</td><td style = \"text-align: right;\">38708702</td><td style = \"text-align: right;\">1</td><td style = \"text-align: right;\">199</td><td style = \"text-align: right;\">453925</td><td style = \"text-align: right;\">454122</td><td style = \"text-align: right;\">1.21e-91</td><td style = \"text-align: right;\">350.0</td><td style = \"text-align: right;\">199</td><td style = \"text-align: right;\">98.492</td><td style = \"text-align: right;\">196</td><td style = \"text-align: right;\">2</td><td style = \"text-align: right;\">111789</td><td style = \"text-align: left;\">other entries;other sequences;artificial sequences;eukaryotic synthetic constructs;eukaryotic synthetic construct</td><td style = \"text-align: right;\">0.001</td></tr><tr><td class = \"rowNumber\" style = \"font-weight: bold; text-align: right;\">8</td><td style = \"text-align: left;\">1</td><td style = \"text-align: right;\">332</td><td style = \"text-align: right;\">2018</td><td style = \"text-align: right;\">6.07831</td><td style = \"text-align: right;\">2.18919</td><td style = \"text-align: right;\">1.2315e-5</td><td style = \"text-align: left;\">gi|1548994296|gb|CP034500.1|</td><td style = \"text-align: left;\">CP034500</td><td style = \"text-align: left;\">CP034500.1</td><td style = \"text-align: left;\">Eukaryotic synthetic construct chromosome 21</td><td style = \"text-align: right;\">332</td><td style = \"text-align: right;\">38708702</td><td style = \"text-align: right;\">1</td><td style = \"text-align: right;\">199</td><td style = \"text-align: right;\">1204376</td><td style = \"text-align: right;\">1204179</td><td style = \"text-align: right;\">2.64e-83</td><td style = \"text-align: right;\">322.0</td><td style = \"text-align: right;\">199</td><td style = \"text-align: right;\">95.98</td><td style = \"text-align: right;\">191</td><td style = \"text-align: right;\">7</td><td style = \"text-align: right;\">111789</td><td style = \"text-align: left;\">other entries;other sequences;artificial sequences;eukaryotic synthetic constructs;eukaryotic synthetic construct</td><td style = \"text-align: right;\">0.001</td></tr><tr><td class = \"rowNumber\" style = \"font-weight: bold; text-align: right;\">9</td><td style = \"text-align: left;\">1</td><td style = \"text-align: right;\">332</td><td style = \"text-align: right;\">2018</td><td style = \"text-align: right;\">6.07831</td><td style = \"text-align: right;\">2.18919</td><td style = \"text-align: right;\">1.2315e-5</td><td style = \"text-align: left;\">gi|1548994296|gb|CP034500.1|</td><td style = \"text-align: left;\">CP034500</td><td style = \"text-align: left;\">CP034500.1</td><td style = \"text-align: left;\">Eukaryotic synthetic construct chromosome 21</td><td style = \"text-align: right;\">332</td><td style = \"text-align: right;\">38708702</td><td style = \"text-align: right;\">235</td><td style = \"text-align: right;\">332</td><td style = \"text-align: right;\">453336</td><td style = \"text-align: right;\">453433</td><td style = \"text-align: right;\">1.01e-37</td><td style = \"text-align: right;\">171.0</td><td style = \"text-align: right;\">98</td><td style = \"text-align: right;\">97.959</td><td style = \"text-align: right;\">96</td><td style = \"text-align: right;\">2</td><td style = \"text-align: right;\">111789</td><td style = \"text-align: left;\">other entries;other sequences;artificial sequences;eukaryotic synthetic constructs;eukaryotic synthetic construct</td><td style = \"text-align: right;\">0.001</td></tr><tr><td class = \"rowNumber\" style = \"font-weight: bold; text-align: right;\">10</td><td style = \"text-align: left;\">1</td><td style = \"text-align: right;\">332</td><td style = \"text-align: right;\">2018</td><td style = \"text-align: right;\">6.07831</td><td style = \"text-align: right;\">2.18919</td><td style = \"text-align: right;\">1.2315e-5</td><td style = \"text-align: left;\">gi|1548994296|gb|CP034500.1|</td><td style = \"text-align: left;\">CP034500</td><td style = \"text-align: left;\">CP034500.1</td><td style = \"text-align: left;\">Eukaryotic synthetic construct chromosome 21</td><td style = \"text-align: right;\">332</td><td style = \"text-align: right;\">38708702</td><td style = \"text-align: right;\">235</td><td style = \"text-align: right;\">332</td><td style = \"text-align: right;\">1204967</td><td style = \"text-align: right;\">1204871</td><td style = \"text-align: right;\">7.94e-29</td><td style = \"text-align: right;\">141.0</td><td style = \"text-align: right;\">98</td><td style = \"text-align: right;\">92.857</td><td style = \"text-align: right;\">91</td><td style = \"text-align: right;\">6</td><td style = \"text-align: right;\">111789</td><td style = \"text-align: left;\">other entries;other sequences;artificial sequences;eukaryotic synthetic constructs;eukaryotic synthetic construct</td><td style = \"text-align: right;\">0.001</td></tr><tr><td class = \"rowNumber\" style = \"font-weight: bold; text-align: right;\">11</td><td style = \"text-align: left;\">1</td><td style = \"text-align: right;\">332</td><td style = \"text-align: right;\">2018</td><td style = \"text-align: right;\">6.07831</td><td style = \"text-align: right;\">2.18919</td><td style = \"text-align: right;\">1.2315e-5</td><td style = \"text-align: left;\">gi|1548994296|gb|CP034500.1|</td><td style = \"text-align: left;\">CP034500</td><td style = \"text-align: left;\">CP034500.1</td><td style = \"text-align: left;\">Eukaryotic synthetic construct chromosome 21</td><td style = \"text-align: right;\">332</td><td style = \"text-align: right;\">38708702</td><td style = \"text-align: right;\">192</td><td style = \"text-align: right;\">243</td><td style = \"text-align: right;\">452716</td><td style = \"text-align: right;\">452665</td><td style = \"text-align: right;\">8.11e-14</td><td style = \"text-align: right;\">91.6</td><td style = \"text-align: right;\">52</td><td style = \"text-align: right;\">98.077</td><td style = \"text-align: right;\">51</td><td style = \"text-align: right;\">1</td><td style = \"text-align: right;\">111789</td><td style = \"text-align: left;\">other entries;other sequences;artificial sequences;eukaryotic synthetic constructs;eukaryotic synthetic construct</td><td style = \"text-align: right;\">0.001</td></tr><tr><td class = \"rowNumber\" style = \"font-weight: bold; text-align: right;\">12</td><td style = \"text-align: left;\">1</td><td style = \"text-align: right;\">332</td><td style = \"text-align: right;\">2018</td><td style = \"text-align: right;\">6.07831</td><td style = \"text-align: right;\">2.18919</td><td style = \"text-align: right;\">1.2315e-5</td><td style = \"text-align: left;\">gi|2033716899|gb|CP068257.2|</td><td style = \"text-align: left;\">CP068257</td><td style = \"text-align: left;\">CP068257.2</td><td style = \"text-align: left;\">Homo sapiens isolate CHM13 chromosome 21</td><td style = \"text-align: right;\">332</td><td style = \"text-align: right;\">45090682</td><td style = \"text-align: right;\">1</td><td style = \"text-align: right;\">199</td><td style = \"text-align: right;\">5650489</td><td style = \"text-align: right;\">5650686</td><td style = \"text-align: right;\">1.21e-91</td><td style = \"text-align: right;\">350.0</td><td style = \"text-align: right;\">199</td><td style = \"text-align: right;\">98.492</td><td style = \"text-align: right;\">196</td><td style = \"text-align: right;\">2</td><td style = \"text-align: right;\">9606</td><td style = \"text-align: left;\">cellular organisms;Eukaryota;Opisthokonta;Metazoa;Eumetazoa;Bilateria;Deuterostomia;Chordata;Craniata;Vertebrata;Gnathostomata;Teleostomi;Euteleostomi;Sarcopterygii;Dipnotetrapodomorpha;Tetrapoda;Amniota;Mammalia;Theria;Eutheria;Boreoeutheria;Euarchontoglires;Primates;Haplorrhini;Simiiformes;Catarrhini;Hominoidea;Hominidae;Homininae;Homo;Homo sapiens</td><td style = \"text-align: right;\">0.001</td></tr><tr><td class = \"rowNumber\" style = \"font-weight: bold; text-align: right;\">13</td><td style = \"text-align: left;\">1</td><td style = \"text-align: right;\">332</td><td style = \"text-align: right;\">2018</td><td style = \"text-align: right;\">6.07831</td><td style = \"text-align: right;\">2.18919</td><td style = \"text-align: right;\">1.2315e-5</td><td style = \"text-align: left;\">gi|2033716899|gb|CP068257.2|</td><td style = \"text-align: left;\">CP068257</td><td style = \"text-align: left;\">CP068257.2</td><td style = \"text-align: left;\">Homo sapiens isolate CHM13 chromosome 21</td><td style = \"text-align: right;\">332</td><td style = \"text-align: right;\">45090682</td><td style = \"text-align: right;\">1</td><td style = \"text-align: right;\">199</td><td style = \"text-align: right;\">9750917</td><td style = \"text-align: right;\">9750720</td><td style = \"text-align: right;\">2.64e-83</td><td style = \"text-align: right;\">322.0</td><td style = \"text-align: right;\">199</td><td style = \"text-align: right;\">95.98</td><td style = \"text-align: right;\">191</td><td style = \"text-align: right;\">7</td><td style = \"text-align: right;\">9606</td><td style = \"text-align: left;\">cellular organisms;Eukaryota;Opisthokonta;Metazoa;Eumetazoa;Bilateria;Deuterostomia;Chordata;Craniata;Vertebrata;Gnathostomata;Teleostomi;Euteleostomi;Sarcopterygii;Dipnotetrapodomorpha;Tetrapoda;Amniota;Mammalia;Theria;Eutheria;Boreoeutheria;Euarchontoglires;Primates;Haplorrhini;Simiiformes;Catarrhini;Hominoidea;Hominidae;Homininae;Homo;Homo sapiens</td><td style = \"text-align: right;\">0.001</td></tr><tr><td style = \"text-align: right;\">&vellip;</td><td style = \"text-align: right;\">&vellip;</td><td style = \"text-align: right;\">&vellip;</td><td style = \"text-align: right;\">&vellip;</td><td style = \"text-align: right;\">&vellip;</td><td style = \"text-align: right;\">&vellip;</td><td style = \"text-align: right;\">&vellip;</td><td style = \"text-align: right;\">&vellip;</td><td style = \"text-align: right;\">&vellip;</td><td style = \"text-align: right;\">&vellip;</td><td style = \"text-align: right;\">&vellip;</td><td style = \"text-align: right;\">&vellip;</td><td style = \"text-align: right;\">&vellip;</td><td style = \"text-align: right;\">&vellip;</td><td style = \"text-align: right;\">&vellip;</td><td style = \"text-align: right;\">&vellip;</td><td style = \"text-align: right;\">&vellip;</td><td style = \"text-align: right;\">&vellip;</td><td style = \"text-align: right;\">&vellip;</td><td style = \"text-align: right;\">&vellip;</td><td style = \"text-align: right;\">&vellip;</td><td style = \"text-align: right;\">&vellip;</td><td style = \"text-align: right;\">&vellip;</td><td style = \"text-align: right;\">&vellip;</td><td style = \"text-align: right;\">&vellip;</td><td style = \"text-align: right;\">&vellip;</td></tr><tr><td class = \"rowNumber\" style = \"font-weight: bold; text-align: right;\">18747846</td><td style = \"text-align: left;\">989</td><td style = \"text-align: right;\">7001</td><td style = \"text-align: right;\">111044</td><td style = \"text-align: right;\">15.8612</td><td style = \"text-align: right;\">7.08031</td><td style = \"text-align: right;\">0.000677657</td><td style = \"text-align: left;\">missing</td><td style = \"text-align: left;\">missing</td><td style = \"text-align: left;\">missing</td><td style = \"text-align: left;\">missing</td><td style = \"text-align: right;\">missing</td><td style = \"text-align: right;\">missing</td><td style = \"text-align: right;\">missing</td><td style = \"text-align: right;\">missing</td><td style = \"text-align: right;\">missing</td><td style = \"text-align: right;\">missing</td><td style = \"text-align: right;\">missing</td><td style = \"text-align: right;\">missing</td><td style = \"text-align: right;\">missing</td><td style = \"text-align: right;\">missing</td><td style = \"text-align: right;\">missing</td><td style = \"text-align: right;\">missing</td><td style = \"text-align: right;\">missing</td><td style = \"text-align: left;\">missing</td><td style = \"text-align: right;\">missing</td></tr><tr><td class = \"rowNumber\" style = \"font-weight: bold; text-align: right;\">18747847</td><td style = \"text-align: left;\">99</td><td style = \"text-align: right;\">280</td><td style = \"text-align: right;\">607371</td><td style = \"text-align: right;\">2169.18</td><td style = \"text-align: right;\">696.598</td><td style = \"text-align: right;\">0.00370654</td><td style = \"text-align: left;\">missing</td><td style = \"text-align: left;\">missing</td><td style = \"text-align: left;\">missing</td><td style = \"text-align: left;\">missing</td><td style = \"text-align: right;\">missing</td><td style = \"text-align: right;\">missing</td><td style = \"text-align: right;\">missing</td><td style = \"text-align: right;\">missing</td><td style = \"text-align: right;\">missing</td><td style = \"text-align: right;\">missing</td><td style = \"text-align: right;\">missing</td><td style = \"text-align: right;\">missing</td><td style = \"text-align: right;\">missing</td><td style = \"text-align: right;\">missing</td><td style = \"text-align: right;\">missing</td><td style = \"text-align: right;\">missing</td><td style = \"text-align: right;\">missing</td><td style = \"text-align: left;\">missing</td><td style = \"text-align: right;\">missing</td></tr><tr><td class = \"rowNumber\" style = \"font-weight: bold; text-align: right;\">18747848</td><td style = \"text-align: left;\">990</td><td style = \"text-align: right;\">272</td><td style = \"text-align: right;\">22513</td><td style = \"text-align: right;\">82.7684</td><td style = \"text-align: right;\">46.7646</td><td style = \"text-align: right;\">0.000137388</td><td style = \"text-align: left;\">missing</td><td style = \"text-align: left;\">missing</td><td style = \"text-align: left;\">missing</td><td style = \"text-align: left;\">missing</td><td style = \"text-align: right;\">missing</td><td style = \"text-align: right;\">missing</td><td style = \"text-align: right;\">missing</td><td style = \"text-align: right;\">missing</td><td style = \"text-align: right;\">missing</td><td style = \"text-align: right;\">missing</td><td style = \"text-align: right;\">missing</td><td style = \"text-align: right;\">missing</td><td style = \"text-align: right;\">missing</td><td style = \"text-align: right;\">missing</td><td style = \"text-align: right;\">missing</td><td style = \"text-align: right;\">missing</td><td style = \"text-align: right;\">missing</td><td style = \"text-align: left;\">missing</td><td style = \"text-align: right;\">missing</td></tr><tr><td class = \"rowNumber\" style = \"font-weight: bold; text-align: right;\">18747849</td><td style = \"text-align: left;\">991</td><td style = \"text-align: right;\">317</td><td style = \"text-align: right;\">8218</td><td style = \"text-align: right;\">25.9243</td><td style = \"text-align: right;\">11.5095</td><td style = \"text-align: right;\">5.01512e-5</td><td style = \"text-align: left;\">missing</td><td style = \"text-align: left;\">missing</td><td style = \"text-align: left;\">missing</td><td style = \"text-align: left;\">missing</td><td style = \"text-align: right;\">missing</td><td style = \"text-align: right;\">missing</td><td style = \"text-align: right;\">missing</td><td style = \"text-align: right;\">missing</td><td style = \"text-align: right;\">missing</td><td style = \"text-align: right;\">missing</td><td style = \"text-align: right;\">missing</td><td style = \"text-align: right;\">missing</td><td style = \"text-align: right;\">missing</td><td style = \"text-align: right;\">missing</td><td style = \"text-align: right;\">missing</td><td style = \"text-align: right;\">missing</td><td style = \"text-align: right;\">missing</td><td style = \"text-align: left;\">missing</td><td style = \"text-align: right;\">missing</td></tr><tr><td class = \"rowNumber\" style = \"font-weight: bold; text-align: right;\">18747850</td><td style = \"text-align: left;\">992</td><td style = \"text-align: right;\">388</td><td style = \"text-align: right;\">44846</td><td style = \"text-align: right;\">115.582</td><td style = \"text-align: right;\">79.9246</td><td style = \"text-align: right;\">0.000273677</td><td style = \"text-align: left;\">missing</td><td style = \"text-align: left;\">missing</td><td style = \"text-align: left;\">missing</td><td style = \"text-align: left;\">missing</td><td style = \"text-align: right;\">missing</td><td style = \"text-align: right;\">missing</td><td style = \"text-align: right;\">missing</td><td style = \"text-align: right;\">missing</td><td style = \"text-align: right;\">missing</td><td style = \"text-align: right;\">missing</td><td style = \"text-align: right;\">missing</td><td style = \"text-align: right;\">missing</td><td style = \"text-align: right;\">missing</td><td style = \"text-align: right;\">missing</td><td style = \"text-align: right;\">missing</td><td style = \"text-align: right;\">missing</td><td style = \"text-align: right;\">missing</td><td style = \"text-align: left;\">missing</td><td style = \"text-align: right;\">missing</td></tr><tr><td class = \"rowNumber\" style = \"font-weight: bold; text-align: right;\">18747851</td><td style = \"text-align: left;\">993</td><td style = \"text-align: right;\">307</td><td style = \"text-align: right;\">3025</td><td style = \"text-align: right;\">9.85342</td><td style = \"text-align: right;\">7.4017</td><td style = \"text-align: right;\">1.84604e-5</td><td style = \"text-align: left;\">missing</td><td style = \"text-align: left;\">missing</td><td style = \"text-align: left;\">missing</td><td style = \"text-align: left;\">missing</td><td style = \"text-align: right;\">missing</td><td style = \"text-align: right;\">missing</td><td style = \"text-align: right;\">missing</td><td style = \"text-align: right;\">missing</td><td style = \"text-align: right;\">missing</td><td style = \"text-align: right;\">missing</td><td style = \"text-align: right;\">missing</td><td style = \"text-align: right;\">missing</td><td style = \"text-align: right;\">missing</td><td style = \"text-align: right;\">missing</td><td style = \"text-align: right;\">missing</td><td style = \"text-align: right;\">missing</td><td style = \"text-align: right;\">missing</td><td style = \"text-align: left;\">missing</td><td style = \"text-align: right;\">missing</td></tr><tr><td class = \"rowNumber\" style = \"font-weight: bold; text-align: right;\">18747852</td><td style = \"text-align: left;\">994</td><td style = \"text-align: right;\">383</td><td style = \"text-align: right;\">18406</td><td style = \"text-align: right;\">48.0574</td><td style = \"text-align: right;\">26.3126</td><td style = \"text-align: right;\">0.000112324</td><td style = \"text-align: left;\">missing</td><td style = \"text-align: left;\">missing</td><td style = \"text-align: left;\">missing</td><td style = \"text-align: left;\">missing</td><td style = \"text-align: right;\">missing</td><td style = \"text-align: right;\">missing</td><td style = \"text-align: right;\">missing</td><td style = \"text-align: right;\">missing</td><td style = \"text-align: right;\">missing</td><td style = \"text-align: right;\">missing</td><td style = \"text-align: right;\">missing</td><td style = \"text-align: right;\">missing</td><td style = \"text-align: right;\">missing</td><td style = \"text-align: right;\">missing</td><td style = \"text-align: right;\">missing</td><td style = \"text-align: right;\">missing</td><td style = \"text-align: right;\">missing</td><td style = \"text-align: left;\">missing</td><td style = \"text-align: right;\">missing</td></tr><tr><td class = \"rowNumber\" style = \"font-weight: bold; text-align: right;\">18747853</td><td style = \"text-align: left;\">995</td><td style = \"text-align: right;\">240</td><td style = \"text-align: right;\">793537</td><td style = \"text-align: right;\">3306.4</td><td style = \"text-align: right;\">1841.56</td><td style = \"text-align: right;\">0.00484264</td><td style = \"text-align: left;\">missing</td><td style = \"text-align: left;\">missing</td><td style = \"text-align: left;\">missing</td><td style = \"text-align: left;\">missing</td><td style = \"text-align: right;\">missing</td><td style = \"text-align: right;\">missing</td><td style = \"text-align: right;\">missing</td><td style = \"text-align: right;\">missing</td><td style = \"text-align: right;\">missing</td><td style = \"text-align: right;\">missing</td><td style = \"text-align: right;\">missing</td><td style = \"text-align: right;\">missing</td><td style = \"text-align: right;\">missing</td><td style = \"text-align: right;\">missing</td><td style = \"text-align: right;\">missing</td><td style = \"text-align: right;\">missing</td><td style = \"text-align: right;\">missing</td><td style = \"text-align: left;\">missing</td><td style = \"text-align: right;\">missing</td></tr><tr><td class = \"rowNumber\" style = \"font-weight: bold; text-align: right;\">18747854</td><td style = \"text-align: left;\">996</td><td style = \"text-align: right;\">315</td><td style = \"text-align: right;\">3665584</td><td style = \"text-align: right;\">11636.8</td><td style = \"text-align: right;\">3044.38</td><td style = \"text-align: right;\">0.0223696</td><td style = \"text-align: left;\">missing</td><td style = \"text-align: left;\">missing</td><td style = \"text-align: left;\">missing</td><td style = \"text-align: left;\">missing</td><td style = \"text-align: right;\">missing</td><td style = \"text-align: right;\">missing</td><td style = \"text-align: right;\">missing</td><td style = \"text-align: right;\">missing</td><td style = \"text-align: right;\">missing</td><td style = \"text-align: right;\">missing</td><td style = \"text-align: right;\">missing</td><td style = \"text-align: right;\">missing</td><td style = \"text-align: right;\">missing</td><td style = \"text-align: right;\">missing</td><td style = \"text-align: right;\">missing</td><td style = \"text-align: right;\">missing</td><td style = \"text-align: right;\">missing</td><td style = \"text-align: left;\">missing</td><td style = \"text-align: right;\">missing</td></tr><tr><td class = \"rowNumber\" style = \"font-weight: bold; text-align: right;\">18747855</td><td style = \"text-align: left;\">997</td><td style = \"text-align: right;\">318</td><td style = \"text-align: right;\">6381595</td><td style = \"text-align: right;\">20067.9</td><td style = \"text-align: right;\">19082.2</td><td style = \"text-align: right;\">0.0389443</td><td style = \"text-align: left;\">missing</td><td style = \"text-align: left;\">missing</td><td style = \"text-align: left;\">missing</td><td style = \"text-align: left;\">missing</td><td style = \"text-align: right;\">missing</td><td style = \"text-align: right;\">missing</td><td style = \"text-align: right;\">missing</td><td style = \"text-align: right;\">missing</td><td style = \"text-align: right;\">missing</td><td style = \"text-align: right;\">missing</td><td style = \"text-align: right;\">missing</td><td style = \"text-align: right;\">missing</td><td style = \"text-align: right;\">missing</td><td style = \"text-align: right;\">missing</td><td style = \"text-align: right;\">missing</td><td style = \"text-align: right;\">missing</td><td style = \"text-align: right;\">missing</td><td style = \"text-align: left;\">missing</td><td style = \"text-align: right;\">missing</td></tr><tr><td class = \"rowNumber\" style = \"font-weight: bold; text-align: right;\">18747856</td><td style = \"text-align: left;\">998</td><td style = \"text-align: right;\">282</td><td style = \"text-align: right;\">6562637</td><td style = \"text-align: right;\">23271.8</td><td style = \"text-align: right;\">17113.4</td><td style = \"text-align: right;\">0.0400492</td><td style = \"text-align: left;\">missing</td><td style = \"text-align: left;\">missing</td><td style = \"text-align: left;\">missing</td><td style = \"text-align: left;\">missing</td><td style = \"text-align: right;\">missing</td><td style = \"text-align: right;\">missing</td><td style = \"text-align: right;\">missing</td><td style = \"text-align: right;\">missing</td><td style = \"text-align: right;\">missing</td><td style = \"text-align: right;\">missing</td><td style = \"text-align: right;\">missing</td><td style = \"text-align: right;\">missing</td><td style = \"text-align: right;\">missing</td><td style = \"text-align: right;\">missing</td><td style = \"text-align: right;\">missing</td><td style = \"text-align: right;\">missing</td><td style = \"text-align: right;\">missing</td><td style = \"text-align: left;\">missing</td><td style = \"text-align: right;\">missing</td></tr><tr><td class = \"rowNumber\" style = \"font-weight: bold; text-align: right;\">18747857</td><td style = \"text-align: left;\">999</td><td style = \"text-align: right;\">273</td><td style = \"text-align: right;\">5726</td><td style = \"text-align: right;\">20.9744</td><td style = \"text-align: right;\">10.9137</td><td style = \"text-align: right;\">3.49435e-5</td><td style = \"text-align: left;\">missing</td><td style = \"text-align: left;\">missing</td><td style = \"text-align: left;\">missing</td><td style = \"text-align: left;\">missing</td><td style = \"text-align: right;\">missing</td><td style = \"text-align: right;\">missing</td><td style = \"text-align: right;\">missing</td><td style = \"text-align: right;\">missing</td><td style = \"text-align: right;\">missing</td><td style = \"text-align: right;\">missing</td><td style = \"text-align: right;\">missing</td><td style = \"text-align: right;\">missing</td><td style = \"text-align: right;\">missing</td><td style = \"text-align: right;\">missing</td><td style = \"text-align: right;\">missing</td><td style = \"text-align: right;\">missing</td><td style = \"text-align: right;\">missing</td><td style = \"text-align: left;\">missing</td><td style = \"text-align: right;\">missing</td></tr></tbody></table></div>"
      ],
      "text/latex": [
       "\\begin{tabular}{r|ccccccc}\n",
       "\t& Contig & Length & Mapped bases & Mean coverage & Standard Deviation & \\% Mapped bases & \\\\\n",
       "\t\\hline\n",
       "\t& String & Int64 & Int64 & Float64 & Float64 & Float64 & \\\\\n",
       "\t\\hline\n",
       "\t1 & 1 & 332 & 2018 & 6.07831 & 2.18919 & 1.2315e-5 & $\\dots$ \\\\\n",
       "\t2 & 1 & 332 & 2018 & 6.07831 & 2.18919 & 1.2315e-5 & $\\dots$ \\\\\n",
       "\t3 & 1 & 332 & 2018 & 6.07831 & 2.18919 & 1.2315e-5 & $\\dots$ \\\\\n",
       "\t4 & 1 & 332 & 2018 & 6.07831 & 2.18919 & 1.2315e-5 & $\\dots$ \\\\\n",
       "\t5 & 1 & 332 & 2018 & 6.07831 & 2.18919 & 1.2315e-5 & $\\dots$ \\\\\n",
       "\t6 & 1 & 332 & 2018 & 6.07831 & 2.18919 & 1.2315e-5 & $\\dots$ \\\\\n",
       "\t7 & 1 & 332 & 2018 & 6.07831 & 2.18919 & 1.2315e-5 & $\\dots$ \\\\\n",
       "\t8 & 1 & 332 & 2018 & 6.07831 & 2.18919 & 1.2315e-5 & $\\dots$ \\\\\n",
       "\t9 & 1 & 332 & 2018 & 6.07831 & 2.18919 & 1.2315e-5 & $\\dots$ \\\\\n",
       "\t10 & 1 & 332 & 2018 & 6.07831 & 2.18919 & 1.2315e-5 & $\\dots$ \\\\\n",
       "\t11 & 1 & 332 & 2018 & 6.07831 & 2.18919 & 1.2315e-5 & $\\dots$ \\\\\n",
       "\t12 & 1 & 332 & 2018 & 6.07831 & 2.18919 & 1.2315e-5 & $\\dots$ \\\\\n",
       "\t13 & 1 & 332 & 2018 & 6.07831 & 2.18919 & 1.2315e-5 & $\\dots$ \\\\\n",
       "\t14 & 1 & 332 & 2018 & 6.07831 & 2.18919 & 1.2315e-5 & $\\dots$ \\\\\n",
       "\t15 & 1 & 332 & 2018 & 6.07831 & 2.18919 & 1.2315e-5 & $\\dots$ \\\\\n",
       "\t16 & 1 & 332 & 2018 & 6.07831 & 2.18919 & 1.2315e-5 & $\\dots$ \\\\\n",
       "\t17 & 1 & 332 & 2018 & 6.07831 & 2.18919 & 1.2315e-5 & $\\dots$ \\\\\n",
       "\t18 & 1 & 332 & 2018 & 6.07831 & 2.18919 & 1.2315e-5 & $\\dots$ \\\\\n",
       "\t19 & 1 & 332 & 2018 & 6.07831 & 2.18919 & 1.2315e-5 & $\\dots$ \\\\\n",
       "\t20 & 1 & 332 & 2018 & 6.07831 & 2.18919 & 1.2315e-5 & $\\dots$ \\\\\n",
       "\t21 & 1 & 332 & 2018 & 6.07831 & 2.18919 & 1.2315e-5 & $\\dots$ \\\\\n",
       "\t22 & 1 & 332 & 2018 & 6.07831 & 2.18919 & 1.2315e-5 & $\\dots$ \\\\\n",
       "\t23 & 1 & 332 & 2018 & 6.07831 & 2.18919 & 1.2315e-5 & $\\dots$ \\\\\n",
       "\t24 & 1 & 332 & 2018 & 6.07831 & 2.18919 & 1.2315e-5 & $\\dots$ \\\\\n",
       "\t25 & 1 & 332 & 2018 & 6.07831 & 2.18919 & 1.2315e-5 & $\\dots$ \\\\\n",
       "\t26 & 1 & 332 & 2018 & 6.07831 & 2.18919 & 1.2315e-5 & $\\dots$ \\\\\n",
       "\t27 & 1 & 332 & 2018 & 6.07831 & 2.18919 & 1.2315e-5 & $\\dots$ \\\\\n",
       "\t28 & 1 & 332 & 2018 & 6.07831 & 2.18919 & 1.2315e-5 & $\\dots$ \\\\\n",
       "\t29 & 1 & 332 & 2018 & 6.07831 & 2.18919 & 1.2315e-5 & $\\dots$ \\\\\n",
       "\t30 & 1 & 332 & 2018 & 6.07831 & 2.18919 & 1.2315e-5 & $\\dots$ \\\\\n",
       "\t$\\dots$ & $\\dots$ & $\\dots$ & $\\dots$ & $\\dots$ & $\\dots$ & $\\dots$ &  \\\\\n",
       "\\end{tabular}\n"
      ],
      "text/plain": [
       "\u001b[1m18747857×25 DataFrame\u001b[0m\n",
       "\u001b[1m      Row \u001b[0m│\u001b[1m Contig \u001b[0m\u001b[1m Length \u001b[0m\u001b[1m Mapped bases \u001b[0m\u001b[1m Mean coverage \u001b[0m\u001b[1m Standard Deviation \u001b[0m\u001b[1m %\u001b[0m ⋯\n",
       "          │\u001b[90m String \u001b[0m\u001b[90m Int64  \u001b[0m\u001b[90m Int64        \u001b[0m\u001b[90m Float64       \u001b[0m\u001b[90m Float64            \u001b[0m\u001b[90m F\u001b[0m ⋯\n",
       "──────────┼─────────────────────────────────────────────────────────────────────\n",
       "        1 │ 1          332          2018        6.07831             2.18919    ⋯\n",
       "        2 │ 1          332          2018        6.07831             2.18919\n",
       "        3 │ 1          332          2018        6.07831             2.18919\n",
       "        4 │ 1          332          2018        6.07831             2.18919\n",
       "        5 │ 1          332          2018        6.07831             2.18919    ⋯\n",
       "        6 │ 1          332          2018        6.07831             2.18919\n",
       "        7 │ 1          332          2018        6.07831             2.18919\n",
       "        8 │ 1          332          2018        6.07831             2.18919\n",
       "        9 │ 1          332          2018        6.07831             2.18919    ⋯\n",
       "       10 │ 1          332          2018        6.07831             2.18919\n",
       "       11 │ 1          332          2018        6.07831             2.18919\n",
       "    ⋮     │   ⋮       ⋮          ⋮              ⋮                ⋮             ⋱\n",
       " 18747848 │ 990        272         22513       82.7684             46.7646\n",
       " 18747849 │ 991        317          8218       25.9243             11.5095     ⋯\n",
       " 18747850 │ 992        388         44846      115.582              79.9246\n",
       " 18747851 │ 993        307          3025        9.85342             7.4017\n",
       " 18747852 │ 994        383         18406       48.0574             26.3126\n",
       " 18747853 │ 995        240        793537     3306.4              1841.56       ⋯\n",
       " 18747854 │ 996        315       3665584    11636.8              3044.38\n",
       " 18747855 │ 997        318       6381595    20067.9             19082.2\n",
       " 18747856 │ 998        282       6562637    23271.8             17113.4\n",
       " 18747857 │ 999        273          5726       20.9744             10.9137     ⋯\n",
       "\u001b[36m                                            20 columns and 18747836 rows omitted\u001b[0m"
      ]
     },
     "execution_count": 62,
     "metadata": {},
     "output_type": "execute_result"
    }
   ],
   "source": [
    "contig_info_table"
   ]
  },
  {
   "cell_type": "code",
   "execution_count": 63,
   "id": "be086702-974d-4147-8ddb-b30c0a77c5ec",
   "metadata": {},
   "outputs": [
    {
     "ename": "LoadError",
     "evalue": "UndefVarError: contig_info_table_top_hits not defined",
     "output_type": "error",
     "traceback": [
      "UndefVarError: contig_info_table_top_hits not defined",
      "",
      "Stacktrace:",
      " [1] top-level scope",
      "   @ In[63]:33",
      " [2] eval",
      "   @ ./boot.jl:360 [inlined]",
      " [3] include_string(mapexpr::typeof(REPL.softscope), mod::Module, code::String, filename::String)",
      "   @ Base ./loading.jl:1116"
     ]
    }
   ],
   "source": [
    "# re-order columns based on utility\n",
    "reordered_columns = [\n",
    "    \"Contig\",\n",
    "    \"Length\",\n",
    "    \"Mapped bases\",\n",
    "    \"Mean coverage\",\n",
    "    \"Standard Deviation\",\n",
    "    \"% Mapped bases\",\n",
    "    \"subject id\",\n",
    "    \"subject acc.\",\n",
    "    \"subject title\",\n",
    "    \"subject tax id\",\n",
    "    \"lineage\",\n",
    "    \"% identity\",\n",
    "    \"% of subject length\",\n",
    "    \"evalue\",\n",
    "    \"bit score\",\n",
    "    \"query length\",\n",
    "    \"subject length\",\n",
    "    \"alignment length\",\n",
    "    \"q. start\",\n",
    "    \"q. end\",\n",
    "    \"s. start\",\n",
    "    \"s. end\",\n",
    "    \"identical\",\n",
    "    \"mismatches\"\n",
    "]\n",
    "contig_info_table = contig_info_table[!, reordered_columns]\n",
    "sort!(contig_info_table, [\"% Mapped bases\", \"bit score\"], rev=true)"
   ]
  },
  {
   "cell_type": "code",
   "execution_count": null,
   "id": "c57fd625-023c-46d5-9dc1-ea04b2e5aad2",
   "metadata": {},
   "outputs": [],
   "source": [
    "contig_info_tsv = \"$(SRR_path)/$(SRR).contig_info.tsv\"\n",
    "uCSV.write(contig_info_tsv, contig_info_table)"
   ]
  }
 ],
 "metadata": {
  "kernelspec": {
   "display_name": "Julia 1.6.3",
   "language": "julia",
   "name": "julia-1.6"
  },
  "language_info": {
   "file_extension": ".jl",
   "mimetype": "application/julia",
   "name": "julia",
   "version": "1.6.3"
  }
 },
 "nbformat": 4,
 "nbformat_minor": 5
}
