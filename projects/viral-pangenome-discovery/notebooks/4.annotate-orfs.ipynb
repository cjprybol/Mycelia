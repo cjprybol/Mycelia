{
 "cells": [
  {
   "cell_type": "code",
   "execution_count": 1,
   "id": "ee7bcaf1",
   "metadata": {},
   "outputs": [
    {
     "data": {
      "text/plain": [
       "\"\""
      ]
     },
     "execution_count": 1,
     "metadata": {},
     "output_type": "execute_result"
    }
   ],
   "source": [
    "ENV[\"LD_LIBRARY_PATH\"] = \"\""
   ]
  },
  {
   "cell_type": "code",
   "execution_count": 2,
   "id": "6d903695",
   "metadata": {
    "tags": []
   },
   "outputs": [
    {
     "name": "stderr",
     "output_type": "stream",
     "text": [
      "\u001b[32m\u001b[1m  Activating\u001b[22m\u001b[39m environment at `/global/scratch/users/cameronprybol/Mycelia/projects/viral-pangenome-discovery/notebooks/Project.toml`\n",
      "\u001b[32m\u001b[1m    Updating\u001b[22m\u001b[39m registry at `~/.julia/registries/General`\n",
      "\u001b[32m\u001b[1m   Resolving\u001b[22m\u001b[39m package versions...\n",
      "\u001b[32m\u001b[1m  No Changes\u001b[22m\u001b[39m to `/global/scratch/users/cameronprybol/Mycelia/projects/viral-pangenome-discovery/notebooks/Project.toml`\n",
      "\u001b[32m\u001b[1m  No Changes\u001b[22m\u001b[39m to `/global/scratch/users/cameronprybol/Mycelia/projects/viral-pangenome-discovery/notebooks/Manifest.toml`\n"
     ]
    }
   ],
   "source": [
    "import Pkg\n",
    "Pkg.activate(\".\")\n",
    "\n",
    "pkgs = [\n",
    "    \"Revise\",\n",
    "#     \"ProgressMeter\"\n",
    "]\n",
    "Pkg.add(pkgs)\n",
    "for pkg in pkgs\n",
    "    eval(Meta.parse(\"import $pkg\"))\n",
    "end\n",
    "\n",
    "# point me to remote upon deployment\n",
    "# Pkg.develop(path=\"$(homedir())/workspace/Mycelia\")\n",
    "# can point to a specific git commit\n",
    "# Pkg.add(url=\"https://github.com/cjprybol/Mycelia\", rev=\"master\")\n",
    "# import Mycelia"
   ]
  },
  {
   "cell_type": "code",
   "execution_count": 3,
   "id": "760f84c3",
   "metadata": {},
   "outputs": [
    {
     "data": {
      "text/plain": [
       "594-element Vector{String}:\n",
       " \"/global/scratch/users/cameronprybol/Mycelia/projects/viral-pangenome-discovery/data/SRA/SRR6399459\"\n",
       " \"/global/scratch/users/cameronprybol/Mycelia/projects/viral-pangenome-discovery/data/SRA/SRR6399460\"\n",
       " \"/global/scratch/users/cameronprybol/Mycelia/projects/viral-pangenome-discovery/data/SRA/SRR6399461\"\n",
       " \"/global/scratch/users/cameronprybol/Mycelia/projects/viral-pangenome-discovery/data/SRA/SRR6399462\"\n",
       " \"/global/scratch/users/cameronprybol/Mycelia/projects/viral-pangenome-discovery/data/SRA/SRR6399463\"\n",
       " \"/global/scratch/users/cameronprybol/Mycelia/projects/viral-pangenome-discovery/data/SRA/SRR6399464\"\n",
       " \"/global/scratch/users/cameronprybol/Mycelia/projects/viral-pangenome-discovery/data/SRA/SRR6399465\"\n",
       " \"/global/scratch/users/cameronprybol/Mycelia/projects/viral-pangenome-discovery/data/SRA/SRR6399466\"\n",
       " \"/global/scratch/users/cameronprybol/Mycelia/projects/viral-pangenome-discovery/data/SRA/SRR6399467\"\n",
       " \"/global/scratch/users/cameronprybol/Mycelia/projects/viral-pangenome-discovery/data/SRA/SRR6399468\"\n",
       " \"/global/scratch/users/cameronprybol/Mycelia/projects/viral-pangenome-discovery/data/SRA/SRR6399469\"\n",
       " \"/global/scratch/users/cameronprybol/Mycelia/projects/viral-pangenome-discovery/data/SRA/SRR6399470\"\n",
       " \"/global/scratch/users/cameronprybol/Mycelia/projects/viral-pangenome-discovery/data/SRA/SRR6399471\"\n",
       " ⋮\n",
       " \"/global/scratch/users/cameronprybol/Mycelia/projects/viral-pangenome-discovery/data/SRA/SRR7365474\"\n",
       " \"/global/scratch/users/cameronprybol/Mycelia/projects/viral-pangenome-discovery/data/SRA/SRR7365475\"\n",
       " \"/global/scratch/users/cameronprybol/Mycelia/projects/viral-pangenome-discovery/data/SRA/SRR7365476\"\n",
       " \"/global/scratch/users/cameronprybol/Mycelia/projects/viral-pangenome-discovery/data/SRA/SRR7365477\"\n",
       " \"/global/scratch/users/cameronprybol/Mycelia/projects/viral-pangenome-discovery/data/SRA/SRR7365478\"\n",
       " \"/global/scratch/users/cameronprybol/Mycelia/projects/viral-pangenome-discovery/data/SRA/SRR7365479\"\n",
       " \"/global/scratch/users/cameronprybol/Mycelia/projects/viral-pangenome-discovery/data/SRA/SRR7365480\"\n",
       " \"/global/scratch/users/cameronprybol/Mycelia/projects/viral-pangenome-discovery/data/SRA/SRR7365481\"\n",
       " \"/global/scratch/users/cameronprybol/Mycelia/projects/viral-pangenome-discovery/data/SRA/SRR7365482\"\n",
       " \"/global/scratch/users/cameronprybol/Mycelia/projects/viral-pangenome-discovery/data/SRA/SRR7365483\"\n",
       " \"/global/scratch/users/cameronprybol/Mycelia/projects/viral-pangenome-discovery/data/SRA/SRR7365484\"\n",
       " \"/global/scratch/users/cameronprybol/Mycelia/projects/viral-pangenome-discovery/data/SRA/SRR7365485\""
      ]
     },
     "execution_count": 3,
     "metadata": {},
     "output_type": "execute_result"
    }
   ],
   "source": [
    "data_dir = joinpath(dirname(pwd()), \"data\")\n",
    "SRR_paths = filter(x -> !occursin(\".ipynb_checkpoints\", x), readdir(joinpath(data_dir, \"SRA\"), join=true))"
   ]
  },
  {
   "cell_type": "code",
   "execution_count": 11,
   "id": "2aa8239b",
   "metadata": {},
   "outputs": [
    {
     "data": {
      "text/plain": [
       "\"/global/scratch/users/cameronprybol/Mycelia/projects/viral-pangenome-discovery/data/SRA/SRR6399459\""
      ]
     },
     "execution_count": 11,
     "metadata": {},
     "output_type": "execute_result"
    }
   ],
   "source": [
    "SRR_path = SRR_paths[1]"
   ]
  },
  {
   "cell_type": "code",
   "execution_count": 14,
   "id": "acbaa463",
   "metadata": {},
   "outputs": [],
   "source": [
    "@assert isfile(fasta)"
   ]
  },
  {
   "cell_type": "code",
   "execution_count": null,
   "id": "a2b2cc9f",
   "metadata": {
    "tags": []
   },
   "outputs": [],
   "source": [
    "ProgressMeter.@showprogress for SRR_path in SRR_paths\n",
    "    assembled_fasta = joinpath(SRR_path, \"megahit\", \"final.contigs.fastg.gfa.fna\")\n",
    "    prodigal_directory = Mycelia.run_prodigal(fasta_file=assembled_fasta, use_conda=true)\n",
    "end\n",
    "\n",
    "for SRR_path in SRR_paths\n",
    "    fasta = joinpath(SRR_path, \"megahit\", \"final.contigs.fastg.gfa.fna_prodigal\", \"final.contigs.fastg.gfa.fna.prodigal.faa\")\n",
    "    database = \n",
    "    run(`conda run --no-capture-output -n mmseqs2 mmseqs easy-taxonomy --threads `nproc` $FASTA $DATABASE ${OUTPATH} ${OUTPATH}_TMP`)\n",
    "    \n",
    "    run(`conda run --no-capture-output -n prodigal prodigal -m -p meta -i $(fasta) -f gff -o $(base).prodigal.gff -a $(base).prodigal.faa -d $(base).prodigal.fna -s $(base).prodigal.all_potential_gene_scores.txt`)\n",
    "#         run(`sbatch 3.prodigal.sh $(assembled_fasta)`)\n",
    "#         Mycelia.run_prodigal()\n",
    "    end\n",
    "end"
   ]
  }
 ],
 "metadata": {
  "kernelspec": {
   "display_name": "Julia 1.6.7",
   "language": "julia",
   "name": "julia-1.6"
  },
  "language_info": {
   "file_extension": ".jl",
   "mimetype": "application/julia",
   "name": "julia",
   "version": "1.6.7"
  }
 },
 "nbformat": 4,
 "nbformat_minor": 5
}
