{
 "cells": [
  {
   "cell_type": "code",
   "execution_count": null,
   "id": "178cd0c2-cee7-4bcc-84f7-5afb5daf7cd0",
   "metadata": {},
   "outputs": [],
   "source": [
    "# ENV[\"LD_LIBRARY_PATH\"] = \"\"\n",
    "\n",
    "# import Pkg\n",
    "# Pkg.activate(\".\")\n",
    "\n",
    "# pkgs = [\n",
    "#     \"Revise\",\n",
    "# #     \"ProgressMeter\"\n",
    "# ]\n",
    "# Pkg.add(pkgs)\n",
    "# for pkg in pkgs\n",
    "#     eval(Meta.parse(\"import $pkg\"))\n",
    "# end\n",
    "\n",
    "# # point me to remote upon deployment\n",
    "# # Pkg.develop(path=\"$(homedir())/workspace/Mycelia\")\n",
    "# # can point to a specific git commit\n",
    "# # Pkg.add(url=\"https://github.com/cjprybol/Mycelia\", rev=\"master\")\n",
    "# # import Mycelia"
   ]
  },
  {
   "cell_type": "code",
   "execution_count": null,
   "id": "760f84c3",
   "metadata": {},
   "outputs": [],
   "source": [
    "data_dir = joinpath(dirname(pwd()), \"data\")\n",
    "SRR_paths = filter(x -> !occursin(\".ipynb_checkpoints\", x), readdir(joinpath(data_dir, \"SRA\"), join=true))"
   ]
  },
  {
   "cell_type": "code",
   "execution_count": null,
   "id": "c945c401-fe18-4dc5-92cc-52f5646151a0",
   "metadata": {},
   "outputs": [],
   "source": [
    "database = joinpath(homedir(), \"workspace\", \"mmseqsdb\", \"UniRef50\")"
   ]
  },
  {
   "cell_type": "code",
   "execution_count": null,
   "id": "2aa8239b",
   "metadata": {},
   "outputs": [],
   "source": [
    "SRR_path = SRR_paths[1]"
   ]
  },
  {
   "cell_type": "code",
   "execution_count": null,
   "id": "fac91115-bc59-4755-a0c6-221b3277e4b3",
   "metadata": {},
   "outputs": [],
   "source": [
    "# run(`conda create -n mmseqs2 -c bioconda mmseqs2`)"
   ]
  },
  {
   "cell_type": "code",
   "execution_count": null,
   "id": "a2b2cc9f",
   "metadata": {
    "tags": []
   },
   "outputs": [],
   "source": [
    "for SRR_path in SRR_paths[1:1]\n",
    "    fasta = joinpath(SRR_path, \"megahit\", \"final.contigs.fastg.gfa.fna_prodigal\", \"final.contigs.fastg.gfa.fna.prodigal.faa\")\n",
    "    outbase = \"$(fasta).mmseqs_easy_search.$(basename(database))\"\n",
    "    # outfiles = \n",
    "    # run(`conda run --no-capture-output -n mmseqs2 mmseqs easy-taxonomy --threads `nproc` $FASTA $DATABASE ${OUTPATH} ${OUTPATH}_TMP`)\n",
    "    run(`sbatch 4.mmseqs-easy-search.sh $(fasta) $(database) $(outbase)`)\n",
    "    # Mycelia.mmseqs_easy_search()\n",
    "end"
   ]
  }
 ],
 "metadata": {
  "kernelspec": {
   "display_name": "Julia 1.6.7",
   "language": "julia",
   "name": "julia-1.6"
  },
  "language_info": {
   "file_extension": ".jl",
   "mimetype": "application/julia",
   "name": "julia",
   "version": "1.6.7"
  }
 },
 "nbformat": 4,
 "nbformat_minor": 5
}
