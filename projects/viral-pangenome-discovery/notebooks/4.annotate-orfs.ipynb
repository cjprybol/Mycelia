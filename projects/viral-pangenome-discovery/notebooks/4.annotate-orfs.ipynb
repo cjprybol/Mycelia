{
 "cells": [
  {
   "cell_type": "code",
   "execution_count": null,
   "id": "d7537f7d",
   "metadata": {},
   "outputs": [],
   "source": [
    "ENV[\"LD_LIBRARY_PATH\"] = \"\""
   ]
  },
  {
   "cell_type": "code",
   "execution_count": null,
   "id": "20e11529",
   "metadata": {
    "tags": []
   },
   "outputs": [],
   "source": [
    "# ENV[\"LD_LIBRARY_PATH\"] = \"\"\n",
    "\n",
    "# import Pkg\n",
    "# Pkg.activate(\".\")\n",
    "\n",
    "# pkgs = [\n",
    "#     \"Revise\",\n",
    "# #     \"ProgressMeter\"\n",
    "# ]\n",
    "# Pkg.add(pkgs)\n",
    "# for pkg in pkgs\n",
    "#     eval(Meta.parse(\"import $pkg\"))\n",
    "# end\n",
    "\n",
    "# # point me to remote upon deployment\n",
    "# # Pkg.develop(path=\"$(homedir())/workspace/Mycelia\")\n",
    "# # can point to a specific git commit\n",
    "# # Pkg.add(url=\"https://github.com/cjprybol/Mycelia\", rev=\"master\")\n",
    "# # import Mycelia"
   ]
  },
  {
   "cell_type": "code",
   "execution_count": null,
   "id": "33c19eac",
   "metadata": {},
   "outputs": [],
   "source": [
    "data_dir = joinpath(dirname(pwd()), \"data\")\n",
    "SRR_paths = filter(x -> !occursin(\".ipynb_checkpoints\", x), readdir(joinpath(data_dir, \"SRA\"), join=true))"
   ]
  },
  {
   "cell_type": "code",
   "execution_count": null,
   "id": "c945c401-fe18-4dc5-92cc-52f5646151a0",
   "metadata": {},
   "outputs": [],
   "source": [
    "database = joinpath(homedir(), \"workspace\", \"mmseqsdb\", \"UniRef50\")"
   ]
  },
  {
   "cell_type": "code",
   "execution_count": null,
   "id": "2aa8239b",
   "metadata": {},
   "outputs": [],
   "source": [
    "SRR_path = SRR_paths[1]"
   ]
  },
  {
   "cell_type": "code",
   "execution_count": null,
   "id": "fac91115-bc59-4755-a0c6-221b3277e4b3",
   "metadata": {},
   "outputs": [],
   "source": [
    "# run(`conda create -n mmseqs2 -c bioconda mmseqs2`)"
   ]
  },
  {
   "cell_type": "code",
   "execution_count": null,
   "id": "d5f2f69e",
   "metadata": {
    "tags": []
   },
   "outputs": [],
   "source": [
    "# ProgressMeter.@showprogress for SRR_path in SRR_paths\n",
    "#     assembled_fasta = joinpath(SRR_path, \"megahit\", \"final.contigs.fastg.gfa.fna\")\n",
    "#     prodigal_directory = Mycelia.run_prodigal(fasta_file=assembled_fasta, use_conda=true)\n",
    "# end\n",
    "\n",
    "for SRR_path in SRR_paths[1:1]\n",
    "    fasta = joinpath(SRR_path, \"megahit\", \"final.contigs.fastg.gfa.fna_prodigal\", \"final.contigs.fastg.gfa.fna.prodigal.faa\")\n",
    "    outbase = \"$(fasta).mmseqs_easy_search.$(basename(database))\"\n",
    "    # outfiles = \n",
    "    # run(`conda run --no-capture-output -n mmseqs2 mmseqs easy-taxonomy --threads `nproc` $FASTA $DATABASE ${OUTPATH} ${OUTPATH}_TMP`)\n",
    "    run(`sbatch 4.mmseqs-easy-search.sh $(fasta) $(database) $(outbase)`)\n",
    "    # Mycelia.mmseqs_easy_search()\n",
    "end"
   ]
  }
 ],
 "metadata": {
  "kernelspec": {
   "display_name": "Julia 1.6.7",
   "language": "julia",
   "name": "julia-1.6"
  },
  "language_info": {
   "file_extension": ".jl",
   "mimetype": "application/julia",
   "name": "julia",
   "version": "1.6.7"
  }
 },
 "nbformat": 4,
 "nbformat_minor": 5
}
