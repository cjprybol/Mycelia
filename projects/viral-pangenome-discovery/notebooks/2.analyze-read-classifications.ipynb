{
 "cells": [
  {
   "cell_type": "code",
   "execution_count": null,
   "id": "28afd0da-a1e3-48ad-a12a-8bbb3a8d19c2",
   "metadata": {
    "tags": []
   },
   "outputs": [],
   "source": [
    "import Pkg\n",
    "Pkg.activate(\".\")\n",
    "Pkg.add(\"Revise\")\n",
    "import Revise\n",
    "\n",
    "Pkg.develop(path=\"../../..\")\n",
    "import Mycelia\n",
    "\n",
    "pkgs = [\n",
    "\"DataFrames\",\n",
    "\"StatsBase\",\n",
    "\"StatsPlots\",\n",
    "\"uCSV\",\n",
    "\"ProgressMeter\"\n",
    "]\n",
    "Pkg.add(pkgs)\n",
    "for pkg in pkgs\n",
    "    eval(Meta.parse(\"import $pkg\"))\n",
    "end"
   ]
  },
  {
   "cell_type": "code",
   "execution_count": null,
   "id": "ebc54d53-21ec-4098-b1c9-8c8e67d4193a",
   "metadata": {
    "tags": []
   },
   "outputs": [],
   "source": [
    "data_dir = joinpath(dirname(pwd()), \"data\")"
   ]
  },
  {
   "cell_type": "code",
   "execution_count": null,
   "id": "a9282e23-ea48-4be0-8acb-67d044e0ca48",
   "metadata": {
    "tags": []
   },
   "outputs": [],
   "source": [
    "SRR_paths = filter(x -> !occursin(\".ipynb_checkpoints\", x), readdir(joinpath(data_dir, \"SRA\"), join=true))\n",
    "\n",
    "identifiers_to_rerun = [\n",
    "\"SRR6399724\",\n",
    "\"SRR6399725\",\n",
    "\"SRR6399726\",\n",
    "\"SRR6399727\",\n",
    "\"SRR6399728\",\n",
    "\"SRR6399729\",\n",
    "\"SRR6399730\",\n",
    "\"SRR6399731\",\n",
    "\"SRR6399732\",\n",
    "\"SRR6399773\",\n",
    "\"SRR6399810\",\n",
    "\"SRR6399900\",\n",
    "\"SRR6399901\",\n",
    "\"SRR6399902\",\n",
    "\"SRR6399903\",\n",
    "\"SRR6399905\",\n",
    "\"SRR6399906\",\n",
    "\"SRR6399907\",\n",
    "\"SRR6399908\",\n",
    "\"SRR6399909\",\n",
    "\"SRR6399910\",\n",
    "\"SRR6399911\",\n",
    "\"SRR6399912\",\n",
    "\"SRR6399913\",\n",
    "\"SRR6399914\",\n",
    "\"SRR6399915\",\n",
    "\"SRR6399916\",\n",
    "\"SRR6399917\",\n",
    "\"SRR6399918\",\n",
    "\"SRR6399919\",\n",
    "\"SRR6399920\",\n",
    "\"SRR6399921\",\n",
    "\"SRR6399922\",\n",
    "\"SRR6399923\",\n",
    "\"SRR6399924\",\n",
    "\"SRR6399925\",\n",
    "\"SRR6399926\",\n",
    "\"SRR6399927\",\n",
    "\"SRR6399928\",\n",
    "\"SRR6399929\",\n",
    "\"SRR6399930\",\n",
    "\"SRR6399931\",\n",
    "\"SRR6399932\",\n",
    "\"SRR6399933\",\n",
    "\"SRR6399934\",\n",
    "\"SRR6399935\",\n",
    "\"SRR6399936\",\n",
    "\"SRR6399937\",\n",
    "\"SRR6399938\",\n",
    "\"SRR6399939\",\n",
    "\"SRR6399940\",\n",
    "\"SRR6399941\",\n",
    "\"SRR6399942\",\n",
    "\"SRR6399943\",\n",
    "\"SRR6399944\",\n",
    "\"SRR6399945\",\n",
    "\"SRR6399946\",\n",
    "\"SRR6399947\",\n",
    "\"SRR6399948\",\n",
    "\"SRR6399949\",\n",
    "\"SRR6399950\",\n",
    "\"SRR6399951\",\n",
    "\"SRR6399952\",\n",
    "\"SRR6399953\",\n",
    "\"SRR6399954\",\n",
    "\"SRR6399955\",\n",
    "\"SRR6399956\",\n",
    "\"SRR6399957\",\n",
    "\"SRR6399958\",\n",
    "\"SRR6399959\",\n",
    "\"SRR6399960\",\n",
    "\"SRR6399961\",\n",
    "\"SRR6399962\",\n",
    "\"SRR6399963\",\n",
    "\"SRR6399964\",\n",
    "\"SRR6399965\",\n",
    "\"SRR6399966\",\n",
    "\"SRR6399967\",\n",
    "\"SRR6399968\",\n",
    "\"SRR6399969\",\n",
    "\"SRR6399970\",\n",
    "\"SRR6399971\",\n",
    "\"SRR6399972\",\n",
    "\"SRR6399973\",\n",
    "\"SRR6399974\",\n",
    "\"SRR6399975\",\n",
    "\"SRR6399976\",\n",
    "\"SRR6399977\",\n",
    "\"SRR6399978\",\n",
    "\"SRR6399979\",\n",
    "\"SRR6399980\",\n",
    "\"SRR6399981\",\n",
    "\"SRR6399982\",\n",
    "\"SRR6399983\",\n",
    "\"SRR6399984\",\n",
    "\"SRR6399985\",\n",
    "\"SRR6399986\",\n",
    "\"SRR6399987\",\n",
    "\"SRR6399988\",\n",
    "\"SRR6399989\",\n",
    "\"SRR6399990\",\n",
    "\"SRR6399991\",\n",
    "\"SRR6399992\",\n",
    "\"SRR6399993\",\n",
    "\"SRR6399994\",\n",
    "\"SRR6399995\",\n",
    "\"SRR6399996\",\n",
    "\"SRR6399997\",\n",
    "\"SRR6399998\",\n",
    "\"SRR6399999\",\n",
    "\"SRR6400000\",\n",
    "\"SRR6400001\",\n",
    "\"SRR6400002\",\n",
    "\"SRR6400003\",\n",
    "\"SRR6400004\",\n",
    "\"SRR6400005\",\n",
    "\"SRR6400006\",\n",
    "\"SRR6400007\",\n",
    "\"SRR6400008\",\n",
    "\"SRR6400009\",\n",
    "\"SRR6400010\",\n",
    "\"SRR6400011\",\n",
    "\"SRR6400012\",\n",
    "\"SRR6400013\",\n",
    "\"SRR6400014\",\n",
    "\"SRR6400015\",\n",
    "\"SRR6400016\",\n",
    "\"SRR6400017\",\n",
    "\"SRR6400018\",\n",
    "\"SRR6400019\",\n",
    "\"SRR6400021\",\n",
    "\"SRR6400022\",\n",
    "\"SRR6400023\",\n",
    "\"SRR6400024\",\n",
    "\"SRR7365458\",\n",
    "\"SRR7365460\",\n",
    "\"SRR7365461\",\n",
    "\"SRR7365462\",\n",
    "\"SRR7365463\",\n",
    "\"SRR7365464\",\n",
    "\"SRR7365465\",\n",
    "\"SRR7365466\",\n",
    "\"SRR7365467\",\n",
    "\"SRR7365468\",\n",
    "\"SRR7365469\",\n",
    "\"SRR7365470\",\n",
    "\"SRR7365471\",\n",
    "\"SRR7365473\",\n",
    "\"SRR7365474\",\n",
    "\"SRR7365475\",\n",
    "\"SRR7365476\",\n",
    "\"SRR7365477\",\n",
    "\"SRR7365478\",\n",
    "\"SRR7365479\",\n",
    "\"SRR7365480\",\n",
    "\"SRR7365481\",\n",
    "\"SRR7365482\",\n",
    "\"SRR7365483\",\n",
    "\"SRR7365484\",\n",
    "\"SRR7365485\",\n",
    "]\n",
    "\n",
    "SRR_paths = filter(x -> !(basename(x) in identifiers_to_rerun), SRR_paths)"
   ]
  },
  {
   "cell_type": "code",
   "execution_count": null,
   "id": "51c29934-2fb9-44fb-968e-1cf5a8c907ed",
   "metadata": {
    "tags": []
   },
   "outputs": [],
   "source": [
    "results_dir = joinpath(data_dir, \"results\")"
   ]
  },
  {
   "cell_type": "code",
   "execution_count": null,
   "id": "ae8fdad2-6653-4ef9-b22a-63f795d183ca",
   "metadata": {
    "tags": []
   },
   "outputs": [],
   "source": [
    "kraken_db = \"k2_pluspfp_20221209\""
   ]
  },
  {
   "cell_type": "code",
   "execution_count": null,
   "id": "3d7b3e0e-d4cf-4c4d-b6a6-4efe319b1821",
   "metadata": {
    "tags": []
   },
   "outputs": [],
   "source": [
    "taxon_levels = Mycelia.list_ranks()"
   ]
  },
  {
   "cell_type": "code",
   "execution_count": null,
   "id": "93b134d1-b345-429f-b4d4-f869ca22b9b7",
   "metadata": {
    "tags": []
   },
   "outputs": [],
   "source": [
    "# for taxon_level in taxon_levels\n",
    "taxon_level = first(taxon_levels)\n",
    "rank_table = Mycelia.list_rank(taxon_level)\n",
    "rank_taxids = rank_table[!, \"taxid\"]"
   ]
  },
  {
   "cell_type": "code",
   "execution_count": null,
   "id": "d09719f4-371e-4d34-99f1-043a92283642",
   "metadata": {
    "tags": []
   },
   "outputs": [],
   "source": [
    "cross_sample_taxon_report = joinpath(results_dir, \"$(kraken_db).$(taxon_level).tsv\")\n",
    "cross_sample_taxon_figure_png = joinpath(results_dir, \"$(kraken_db).$(taxon_level).png\")\n",
    "# cross_sample_taxon_figure_svg = joinpath(results_dir, \"$(kraken_db).$(taxon_level).svg\")\n",
    "cross_sample_taxon_figure_skip_unclassified_png = joinpath(results_dir, \"$(kraken_db).$(taxon_level).skip_unclassified.png\")\n",
    "cross_sample_taxon_report_table = DataFrames.DataFrame()\n",
    "if !isfile(cross_sample_taxon_report)\n",
    "    ProgressMeter.@showprogress for SRR_path in SRR_paths\n",
    "        SRR = basename(SRR_path)\n",
    "        kraken_dir = mkpath(joinpath(SRR_path, \"kraken\"))\n",
    "        output_file = joinpath(kraken_dir, \"$(SRR).$(kraken_db).kraken-output.tsv\")\n",
    "        report_file = joinpath(kraken_dir, \"$(SRR).$(kraken_db).kraken-report.tsv\")\n",
    "        report_table = Mycelia.read_kraken_report(report_file)\n",
    "        taxon_level_report = report_table[map(x -> x in [rank_taxids..., 0], report_table[!, \"ncbi_taxonid\"]), :]\n",
    "        taxon_level_report[!, \"sample_identifier\"] .= SRR\n",
    "        append!(cross_sample_taxon_report_table, taxon_level_report)\n",
    "\n",
    "    end\n",
    "    uCSV.write(cross_sample_taxon_report, cross_sample_taxon_report_table, delim='\\t')\n",
    "else\n",
    "    cross_sample_taxon_report_table = DataFrames.DataFrame(uCSV.read(cross_sample_taxon_report, delim='\\t', header=1))\n",
    "end"
   ]
  },
  {
   "cell_type": "code",
   "execution_count": null,
   "id": "ee2d42d7-7d4c-4316-9224-808521938798",
   "metadata": {
    "tags": []
   },
   "outputs": [],
   "source": [
    "cross_sample_taxon_report_table"
   ]
  },
  {
   "cell_type": "code",
   "execution_count": null,
   "id": "12f10999-3caa-48d7-b150-65eed1684181",
   "metadata": {
    "tags": []
   },
   "outputs": [],
   "source": [
    "cross_sample_taxon_report_summary = cross_sample_taxon_report_table[!, \n",
    "    DataFrames.Not([\n",
    "            \"percentage_of_fragments_at_or_below_taxon\",\n",
    "            \"number_of_fragments_assigned_directly_to_taxon\",\n",
    "            \"rank\"\n",
    "        ])]\n",
    "cross_sample_taxon_report_summary[!, \"taxon\"] = map(row -> string(row[\"ncbi_taxonid\"]) * \"_\" * row[\"scientific_name\"], DataFrames.eachrow(cross_sample_taxon_report_summary))\n",
    "cross_sample_taxon_report_summary = cross_sample_taxon_report_summary[!, DataFrames.Not([\n",
    "            \"ncbi_taxonid\",\n",
    "            \"scientific_name\"\n",
    "        ])]\n",
    "\n",
    "# assert sortedness & uniqueness (should be a no-op)\n",
    "unique!(DataFrames.sort!(cross_sample_taxon_report_summary, [\"sample_identifier\", \"taxon\"]))"
   ]
  },
  {
   "cell_type": "code",
   "execution_count": null,
   "id": "ec60ebd4-0476-4b03-bc21-45f7374d30f0",
   "metadata": {
    "tags": []
   },
   "outputs": [],
   "source": [
    "samples = unique(sort(cross_sample_taxon_report_summary[!, \"sample_identifier\"]))\n",
    "taxons = unique(sort(cross_sample_taxon_report_summary[!, \"taxon\"]))\n",
    "values = zeros(length(samples), length(taxons))\n",
    "for (column, taxon) in enumerate(taxons)\n",
    "    is_taxon = cross_sample_taxon_report_summary[!, \"taxon\"] .== taxon\n",
    "    for (row, sample) in enumerate(samples)\n",
    "        is_sample = cross_sample_taxon_report_summary[!, \"sample_identifier\"] .== sample\n",
    "        index = findfirst(is_taxon .& is_sample)\n",
    "        value = cross_sample_taxon_report_summary[index, \"number_of_fragments_at_or_below_taxon\"]\n",
    "        values[row, column] = value\n",
    "    end\n",
    "end\n",
    "values"
   ]
  },
  {
   "cell_type": "code",
   "execution_count": null,
   "id": "9c182e00-124a-4711-a7ae-26fc91c44fbf",
   "metadata": {
    "tags": []
   },
   "outputs": [],
   "source": [
    "aspect_ratio = [9, 1]\n",
    "scale = 500\n",
    "StatsPlots.groupedbar(\n",
    "    values,\n",
    "    title = \"read-classification\\n$(taxon_level)\",\n",
    "    xticks = (1:length(samples), samples),\n",
    "    xlims = (0, length(samples)+1),\n",
    "    xtickfontsize = 6,\n",
    "    size= aspect_ratio .* scale,\n",
    "    xrotation=90,\n",
    "    ylabel = \"number of reads\",\n",
    "    labels = hcat(taxons...),\n",
    "    bottommargin =80StatsPlots.Plots.PlotMeasures.px,\n",
    "    leftmargin = 100StatsPlots.Plots.PlotMeasures.px,\n",
    "    leftbuffer = 0,\n",
    "    leftpadding = 0,\n",
    "    legend = :outertopright,\n",
    "    bar_position = :stack,\n",
    "    bar_width=0.7\n",
    ")"
   ]
  },
  {
   "cell_type": "code",
   "execution_count": null,
   "id": "bb8af922-d8fb-4e3e-bbc9-670ee76bec83",
   "metadata": {
    "tags": []
   },
   "outputs": [],
   "source": [
    "normalized_values = values ./ sum(values, dims=2)"
   ]
  },
  {
   "cell_type": "code",
   "execution_count": null,
   "id": "550221c8-12c1-4062-9eb5-5847bf1cbe12",
   "metadata": {
    "tags": []
   },
   "outputs": [],
   "source": [
    "StatsPlots.groupedbar(\n",
    "    normalized_values,\n",
    "    title = \"read-classification\\n$(taxon_level)\",\n",
    "    xticks = (1:length(samples), samples),\n",
    "    xlims = (0, length(samples)+1),\n",
    "    xtickfontsize = 6,\n",
    "    size= aspect_ratio .* scale,\n",
    "    xrotation=90,\n",
    "    ylabel = \"proportion of reads\",\n",
    "    labels = hcat(taxons...),\n",
    "    bottommargin =80StatsPlots.Plots.PlotMeasures.px,\n",
    "    leftmargin = 100StatsPlots.Plots.PlotMeasures.px,\n",
    "    leftbuffer = 0,\n",
    "    leftpadding = 0,\n",
    "    legend = :outertopright,\n",
    "    bar_position = :stack,\n",
    "    bar_width=0.7\n",
    ")"
   ]
  },
  {
   "cell_type": "code",
   "execution_count": null,
   "id": "2a003e4c-4e54-497a-8776-43400d591ae2",
   "metadata": {
    "tags": []
   },
   "outputs": [],
   "source": [
    "# for g in DataFrames.groupby(cross_sample_taxon_report_table, \"sample_identifier\")\n",
    "#     # @show sum(g[!, \"percentage_of_fragments_at_or_below_taxon\"])\n",
    "#     if sum(g[!, \"percentage_of_fragments_at_or_below_taxon\"]) == 100\n",
    "#     else\n",
    "#         identifier = g[1, \"sample_identifier\"]\n",
    "#         println(\"\\\"$(identifier)\\\",\")\n",
    "#     end\n",
    "# end"
   ]
  },
  {
   "cell_type": "code",
   "execution_count": null,
   "id": "1a17b623-34ae-4d11-b887-5738b077f38c",
   "metadata": {},
   "outputs": [],
   "source": []
  },
  {
   "cell_type": "code",
   "execution_count": null,
   "id": "4776661d-29a6-4caf-b980-f68331927aba",
   "metadata": {},
   "outputs": [],
   "source": [
    "[number_of_fragments_at_or_below_taxon\tncbi_taxonid\tscientific_name\tsample_identifier"
   ]
  },
  {
   "cell_type": "code",
   "execution_count": null,
   "id": "aff6119c-780d-4487-824e-e3f68d3fdf37",
   "metadata": {
    "tags": []
   },
   "outputs": [],
   "source": [
    "\n",
    "# Mycelia.list_rank(\"kingdom\")\n",
    "# Mycelia.list_rank(\"phylum\")\n",
    "# Mycelia.list_rank(\"class\")\n",
    "# Mycelia.list_rank(\"order\")\n",
    "# Mycelia.list_rank(\"family\")\n",
    "# Mycelia.list_rank(\"genus\")\n",
    "# Mycelia.list_rank(\"species\")"
   ]
  },
  {
   "cell_type": "markdown",
   "id": "388fbcba-9a43-4b7d-88c4-d3e3ffcb0b10",
   "metadata": {},
   "source": [
    "- loop through the above\n",
    "- make a matrix where each row is a taxon rank and each column is a dataset\n",
    "- make stacked barplots for each sample\n",
    "- run PCA and k-means cluster to find meaningful groups\n",
    "- repeat for mmseqs and blast nt"
   ]
  }
 ],
 "metadata": {
  "kernelspec": {
   "display_name": "Julia 1.6.7",
   "language": "julia",
   "name": "julia-1.6"
  },
  "language_info": {
   "file_extension": ".jl",
   "mimetype": "application/julia",
   "name": "julia",
   "version": "1.6.7"
  }
 },
 "nbformat": 4,
 "nbformat_minor": 5
}
