{
 "cells": [
  {
   "cell_type": "code",
   "execution_count": null,
   "id": "ce59cd77-c0f0-4b90-8de8-3c5f071935ae",
   "metadata": {
    "tags": []
   },
   "outputs": [],
   "source": [
    "import Pkg\n",
    "Pkg.activate(\".\")\n",
    "\n",
    "# not for the faint of heart!\n",
    "# Pkg.update()\n",
    "\n",
    "pkgs = [\n",
    "\"ArgParse\",\n",
    "\"Base64\",\n",
    "\"BioSequences\",\n",
    "\"DataFrames\",\n",
    "\"Dates\",\n",
    "\"DelimitedFiles\",\n",
    "\"FASTX\",\n",
    "\"GLM\",\n",
    "\"HTTP\",\n",
    "\"JSON\",\n",
    "\"Graphs\",\n",
    "\"MetaGraphs\",\n",
    "\"MD5\",\n",
    "\"Statistics\",\n",
    "\"StatsPlots\",\n",
    "\"uCSV\",\n",
    "\"CodecZlib\",\n",
    "\"YAML\",\n",
    "\"Revise\",\n",
    "\"Kmers\",\n",
    "\"StatsBase\"\n",
    "]\n",
    "Pkg.add(pkgs)\n",
    "for pkg in pkgs\n",
    "    eval(Meta.parse(\"import $pkg\"))\n",
    "end\n",
    "\n",
    "import Mycelia"
   ]
  },
  {
   "cell_type": "code",
   "execution_count": null,
   "id": "812f165a-a024-4c5f-b59a-cb4e894feb70",
   "metadata": {},
   "outputs": [],
   "source": [
    "# MMSeqs Easy taxonomy\n",
    "# amino acid\n",
    "# ~ 5 hour download time may not be tolerable?\n",
    "# processing\n",
    "# 7930.350543 seconds (710.71 k allocations: 40.309 MiB, 0.00% gc time, 0.00% compilation time)\n",
    "# 2 hours 12m\n",
    "# 1.5 hours for iterative search with varying sensitivity\n",
    "# Mycelia.download_mmseqs_db(db=\"UniRef100\", conda_env=\"viral-pangenome-discovery\")\n",
    "# --force-reuse 1\n",
    "# --remove-tmp-files 1\n",
    "# conda run --live-stream -n viral-pangenome-discovery \n",
    "# mmseqs databases --compressed 1 UniRef100 $HOME/workspace/mmseqs/UniRef100 $HOME/workspace/mmseqs/tmp"
   ]
  },
  {
   "cell_type": "code",
   "execution_count": null,
   "id": "909f13b4-7e9d-429b-8b83-33c99af653c9",
   "metadata": {},
   "outputs": [],
   "source": [
    "data_dir = joinpath(dirname(pwd()), \"data\")"
   ]
  },
  {
   "cell_type": "code",
   "execution_count": null,
   "id": "1ed0cada-73ac-4c3c-8d8c-e50e1115e414",
   "metadata": {},
   "outputs": [],
   "source": [
    "SRR_paths = filter(x -> !occursin(\".ipynb_checkpoints\", x), readdir(joinpath(data_dir, \"SRA\"), join=true))"
   ]
  },
  {
   "cell_type": "code",
   "execution_count": null,
   "id": "3271d38e-b524-494d-9022-c09b21888acb",
   "metadata": {
    "tags": []
   },
   "outputs": [],
   "source": [
    "SRR_path = SRR_paths[1]\n",
    "# SRR_path = SRR_paths[2]\n",
    "# SRR_path = SRR_paths[3]"
   ]
  },
  {
   "cell_type": "code",
   "execution_count": null,
   "id": "63038363-f144-4de2-bce3-c8040e61714e",
   "metadata": {
    "tags": []
   },
   "outputs": [],
   "source": [
    "SRR = basename(SRR_path)"
   ]
  },
  {
   "cell_type": "code",
   "execution_count": null,
   "id": "c7cbdf58-fa45-4e34-96ff-a50eef9ce778",
   "metadata": {},
   "outputs": [],
   "source": [
    "Mycelia.run_mmseqs_easy_search(out_dir=OUT_DIR, query_fasta=amino_acid_fasta, target_database=\"$(homedir())/mmseqs/UniRef100\", outfile=)\n",
    "# add taxonomic information to uniref classifications above!"
   ]
  }
 ],
 "metadata": {
  "kernelspec": {
   "display_name": "Julia 1.6.3",
   "language": "julia",
   "name": "julia-1.6"
  },
  "language_info": {
   "file_extension": ".jl",
   "mimetype": "application/julia",
   "name": "julia",
   "version": "1.6.3"
  }
 },
 "nbformat": 4,
 "nbformat_minor": 5
}
