{
 "cells": [
  {
   "cell_type": "code",
   "execution_count": null,
   "id": "620a9e43-6e85-4c22-8a30-e2182653bfe3",
   "metadata": {
    "tags": [
     "parameters"
    ]
   },
   "outputs": [],
   "source": [
    "# papermill default parameters\n",
    "sra_list = \"../metadata/usa_mt-pleasant-research-farm_cornell-university_new-york/SraAccList.txt\"\n",
    "output_directory = \"../data/usa_mt-pleasant-research-farm_cornell-university_new-york/\""
   ]
  },
  {
   "cell_type": "code",
   "execution_count": null,
   "id": "876f06c7-25e0-4274-a605-e4c7ff0f62b6",
   "metadata": {},
   "outputs": [],
   "source": [
    "import Distributed\n",
    "\n",
    "function run_sra_prefetch(srr_identifier, output_directory)    \n",
    "    cmd = [\n",
    "        \"prefetch\",\n",
    "        \"--progress\",\n",
    "        \"--output-directory\",\n",
    "        \"$(output_directory)\",\n",
    "        srr_identifier\n",
    "    ]\n",
    "    run(`$cmd`)\n",
    "end\n",
    "\n",
    "srr_identifiers = strip.(filter(x -> !isempty(x) && occursin(r\"^SRR\", x), readlines(sra_list)))\n",
    "\n",
    "Distributed.pmap(srr_identifier -> run_sra_prefetch(srr_identifier, output_directory), srr_identifiers)"
   ]
  }
 ],
 "metadata": {
  "kernelspec": {
   "display_name": "Julia 1.6.7",
   "language": "julia",
   "name": "julia-1.6"
  },
  "language_info": {
   "file_extension": ".jl",
   "mimetype": "application/julia",
   "name": "julia",
   "version": "1.6.7"
  }
 },
 "nbformat": 4,
 "nbformat_minor": 5
}
