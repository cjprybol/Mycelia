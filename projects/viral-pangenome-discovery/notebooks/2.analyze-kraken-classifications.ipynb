{
 "cells": [
  {
   "cell_type": "code",
   "execution_count": null,
   "id": "28afd0da-a1e3-48ad-a12a-8bbb3a8d19c2",
   "metadata": {
    "tags": []
   },
   "outputs": [],
   "source": [
    "import Pkg\n",
    "Pkg.activate(\".\")\n",
    "Pkg.add(\"Revise\")\n",
    "import Revise\n",
    "\n",
    "Pkg.develop(path=\"../../..\")\n",
    "import Mycelia\n",
    "\n",
    "pkgs = [\n",
    "\"DataFrames\",\n",
    "\"StatsBase\",\n",
    "\"StatsPlots\",\n",
    "\"uCSV\"\n",
    "]\n",
    "Pkg.add(pkgs)\n",
    "for pkg in pkgs\n",
    "    eval(Meta.parse(\"import $pkg\"))\n",
    "end"
   ]
  },
  {
   "cell_type": "code",
   "execution_count": null,
   "id": "ebc54d53-21ec-4098-b1c9-8c8e67d4193a",
   "metadata": {
    "tags": []
   },
   "outputs": [],
   "source": [
    "data_dir = joinpath(dirname(pwd()), \"data\")"
   ]
  },
  {
   "cell_type": "code",
   "execution_count": null,
   "id": "ae8fdad2-6653-4ef9-b22a-63f795d183ca",
   "metadata": {
    "tags": []
   },
   "outputs": [],
   "source": [
    "kraken_db = \"k2_pluspfp_20221209\""
   ]
  },
  {
   "cell_type": "code",
   "execution_count": null,
   "id": "a9d28d81-820d-408f-adcf-02476a04d650",
   "metadata": {
    "tags": []
   },
   "outputs": [],
   "source": [
    "SRR_paths = filter(x -> !occursin(\".ipynb_checkpoints\", x), readdir(joinpath(data_dir, \"SRA\"), join=true))"
   ]
  },
  {
   "cell_type": "code",
   "execution_count": null,
   "id": "fe661f51-9c19-4576-9330-acf7eb2e3f90",
   "metadata": {
    "tags": []
   },
   "outputs": [],
   "source": [
    "SRR_path = first(SRR_paths)"
   ]
  },
  {
   "cell_type": "code",
   "execution_count": null,
   "id": "abac210e-6c2d-4593-8604-3264d0347bd1",
   "metadata": {
    "tags": []
   },
   "outputs": [],
   "source": [
    "# for SRR_path in SRR_paths\n",
    "SRR = basename(SRR_path)\n",
    "kraken_dir = mkpath(joinpath(SRR_path, \"kraken\"))\n",
    "output_file = joinpath(kraken_dir, \"$(SRR).$(kraken_db).kraken-output.tsv\")\n",
    "report_file = joinpath(kraken_dir, \"$(SRR).$(kraken_db).kraken-report.tsv\")\n",
    "@show report_file\n",
    "# end"
   ]
  },
  {
   "cell_type": "code",
   "execution_count": null,
   "id": "9dc4f319-e4ca-4267-948e-a29346a57a27",
   "metadata": {
    "tags": []
   },
   "outputs": [],
   "source": [
    "report_table = Mycelia.read_kraken_report(report)"
   ]
  },
  {
   "cell_type": "code",
   "execution_count": null,
   "id": "546838c9-076f-47ee-80d1-56ccf5d09800",
   "metadata": {
    "tags": []
   },
   "outputs": [],
   "source": [
    "Mycelia.list_rank(\"superkingdom\")"
   ]
  },
  {
   "cell_type": "code",
   "execution_count": null,
   "id": "14211710-c09c-4270-9e58-89083f1ca5ab",
   "metadata": {
    "tags": []
   },
   "outputs": [],
   "source": []
  },
  {
   "cell_type": "code",
   "execution_count": null,
   "id": "87c8356b-319d-4da7-8d9b-fe18c929a90d",
   "metadata": {},
   "outputs": [],
   "source": [
    "# conda run --no-capture-output -n taxonkit taxonkit list --ids 1 | \\\n",
    "# conda run --no-capture-output -n taxonkit taxonkit filter --equal-to \"phylum\" | \\\n",
    "# conda run --no-capture-output -n taxonkit taxonkit reformat --taxid-field 1 --format '{p}'\n",
    "\n",
    "# conda run --no-capture-output -n taxonkit taxonkit list --ids 1 | \\\n",
    "# conda run --no-capture-output -n taxonkit taxonkit filter --equal-to \"class\" | \\\n",
    "# conda run --no-capture-output -n taxonkit taxonkit reformat --taxid-field 1 --format '{c}'\n",
    "\n",
    "# conda run --no-capture-output -n taxonkit taxonkit list --ids 1 | \\\n",
    "# conda run --no-capture-output -n taxonkit taxonkit filter --equal-to \"order\" | \\\n",
    "# conda run --no-capture-output -n taxonkit taxonkit reformat --taxid-field 1 --format '{o}'\n",
    "\n",
    "# conda run --no-capture-output -n taxonkit taxonkit list --ids 1 | \\\n",
    "# conda run --no-capture-output -n taxonkit taxonkit filter --equal-to \"family\" | \\\n",
    "# conda run --no-capture-output -n taxonkit taxonkit reformat --taxid-field 1 --format '{f}'\n",
    "\n",
    "# conda run --no-capture-output -n taxonkit taxonkit list --ids 1 | \\\n",
    "# conda run --no-capture-output -n taxonkit taxonkit filter --equal-to \"genus\" | \\\n",
    "# conda run --no-capture-output -n taxonkit taxonkit reformat --taxid-field 1 --format '{g}'\n",
    "\n",
    "# conda run --no-capture-output -n taxonkit taxonkit list --ids 1 | \\\n",
    "# conda run --no-capture-output -n taxonkit taxonkit filter --equal-to \"species\" | \\\n",
    "# conda run --no-capture-output -n taxonkit taxonkit reformat --taxid-field 1 --format '{s}'"
   ]
  }
 ],
 "metadata": {
  "kernelspec": {
   "display_name": "Julia 1.6.7",
   "language": "julia",
   "name": "julia-1.6"
  },
  "language_info": {
   "file_extension": ".jl",
   "mimetype": "application/julia",
   "name": "julia",
   "version": "1.6.7"
  }
 },
 "nbformat": 4,
 "nbformat_minor": 5
}
