{
 "cells": [
  {
   "cell_type": "code",
   "execution_count": null,
   "id": "79983c2b-6a3d-4f01-a3dd-772703a04db7",
   "metadata": {},
   "outputs": [],
   "source": [
    "#parameters\n",
    "ncbi_input_directory = \"../data/taxon_10239.genbank\"\n",
    "output_fasta = \"../data/taxon_10239.genbank/joint.fna\""
   ]
  },
  {
   "cell_type": "code",
   "execution_count": null,
   "id": "cc24077f-1285-4f0b-98b8-16f74492f2f9",
   "metadata": {},
   "outputs": [],
   "source": [
    "import ProgressMeter\n",
    "import FASTX"
   ]
  },
  {
   "cell_type": "code",
   "execution_count": null,
   "id": "8b0f65f9-d227-4ce3-9059-fa29fee1611e",
   "metadata": {},
   "outputs": [],
   "source": [
    "data_directory_contents = readdir(joinpath(ncbi_input_directory, \"ncbi_dataset\", \"data\"), join=true);"
   ]
  },
  {
   "cell_type": "code",
   "execution_count": null,
   "id": "b5f5cf9f-ba3a-4755-a205-05bc08d297e6",
   "metadata": {},
   "outputs": [],
   "source": [
    "fasta_list = String[]\n",
    "ProgressMeter.@showprogress for item in data_directory_contents\n",
    "    if !isdir(item)\n",
    "        continue\n",
    "    end\n",
    "    for x in readdir(item, join=true)\n",
    "        # why are other things not of interest?\n",
    "        is_fasta_of_interest = occursin(basename(item), basename(x)) && occursin(r\"_genomic\\.fna$\", x)\n",
    "        if is_fasta_of_interest\n",
    "            push!(fasta_list, x)\n",
    "        end\n",
    "    end\n",
    "end\n",
    "fasta_list"
   ]
  },
  {
   "cell_type": "code",
   "execution_count": null,
   "id": "9a1585d5-bfe9-4658-af58-e15022c15746",
   "metadata": {},
   "outputs": [],
   "source": [
    "fastx_id_set = Set()\n",
    "open(output_fasta, \"w\") do io\n",
    "    fastx_writer = FASTX.FASTA.Writer(io)\n",
    "    ProgressMeter.@showprogress for fasta in fasta_list\n",
    "        for fastx_record in FASTX.FASTA.Reader(open(fasta))\n",
    "            id = FASTX.identifier(fastx_record)\n",
    "            if !(id in fastx_id_set)\n",
    "                write(fastx_writer, fastx_record)\n",
    "                push!(fastx_id_set, id)\n",
    "            end\n",
    "        end\n",
    "    end\n",
    "    close(fastx_writer)\n",
    "end"
   ]
  },
  {
   "cell_type": "code",
   "execution_count": null,
   "id": "5848cdc9-132a-4a7a-a954-5243dfa96d0e",
   "metadata": {},
   "outputs": [],
   "source": [
    "length(fastx_id_set)"
   ]
  }
 ],
 "metadata": {
  "kernelspec": {
   "display_name": "Julia 1.6.7",
   "language": "julia",
   "name": "julia-1.6"
  },
  "language_info": {
   "file_extension": ".jl",
   "mimetype": "application/julia",
   "name": "julia",
   "version": "1.6.7"
  }
 },
 "nbformat": 4,
 "nbformat_minor": 5
}
