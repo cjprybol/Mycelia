{
 "cells": [
  {
   "cell_type": "code",
   "execution_count": 6,
   "id": "d721fa48-b788-4576-9cab-b93b33daf55e",
   "metadata": {
    "tags": []
   },
   "outputs": [
    {
     "name": "stderr",
     "output_type": "stream",
     "text": [
      "\u001b[32m\u001b[1m  Activating\u001b[22m\u001b[39m environment at `~/work/Mycelia/projects/viral-pangenome-discovery/notebooks/Project.toml`\n",
      "\u001b[32m\u001b[1m   Resolving\u001b[22m\u001b[39m package versions...\n",
      "\u001b[32m\u001b[1m  No Changes\u001b[22m\u001b[39m to `~/work/Mycelia/projects/viral-pangenome-discovery/notebooks/Project.toml`\n",
      "\u001b[32m\u001b[1m  No Changes\u001b[22m\u001b[39m to `~/work/Mycelia/projects/viral-pangenome-discovery/notebooks/Manifest.toml`\n",
      "\u001b[32m\u001b[1m   Resolving\u001b[22m\u001b[39m package versions...\n",
      "\u001b[32m\u001b[1m  No Changes\u001b[22m\u001b[39m to `~/work/Mycelia/projects/viral-pangenome-discovery/notebooks/Project.toml`\n",
      "\u001b[32m\u001b[1m  No Changes\u001b[22m\u001b[39m to `~/work/Mycelia/projects/viral-pangenome-discovery/notebooks/Manifest.toml`\n",
      "┌ Info: Precompiling Mycelia [453d265d-8292-4a7b-a57c-dce3f9ae6acd]\n",
      "└ @ Base loading.jl:1342\n",
      "WARNING: Method definition count_matrix_to_probability_matrix(Any) in module Mycelia at /home/jovyan/work/Mycelia/src/sequence-analysis.jl:164 overwritten at /home/jovyan/work/Mycelia/src/sequence-analysis.jl:181.\n",
      "  ** incremental compilation may be fatally broken for this module **\n",
      "\n"
     ]
    }
   ],
   "source": [
    "import Pkg\n",
    "Pkg.activate(\".\")\n",
    "\n",
    "# not for the faint of heart!\n",
    "# Pkg.update()\n",
    "\n",
    "pkgs = [\n",
    "\"ProgressMeter\",\n",
    "\"uCSV\",\n",
    "\"DataFrames\",\n",
    "\"StatsPlots\",\n",
    "\"StatsBase\",\n",
    "\"Statistics\",\n",
    "\"XAM\"\n",
    "]\n",
    "Pkg.add(pkgs)\n",
    "for pkg in pkgs\n",
    "    eval(Meta.parse(\"import $pkg\"))\n",
    "end\n",
    "\n",
    "Pkg.develop(path=\"../../..\")\n",
    "import Mycelia"
   ]
  },
  {
   "cell_type": "code",
   "execution_count": 7,
   "id": "876f3489-743e-4056-9b78-b0652ba840b3",
   "metadata": {
    "tags": []
   },
   "outputs": [
    {
     "data": {
      "text/plain": [
       "\"/home/jovyan/work/Mycelia/projects/viral-pangenome-discovery\""
      ]
     },
     "execution_count": 7,
     "metadata": {},
     "output_type": "execute_result"
    }
   ],
   "source": [
    "PROJECT_BASE = dirname(pwd())"
   ]
  },
  {
   "cell_type": "code",
   "execution_count": 8,
   "id": "e0baa95b-4da7-4673-9f89-dc87bb278f46",
   "metadata": {},
   "outputs": [
    {
     "data": {
      "text/plain": [
       "\"/home/jovyan/work/Mycelia/projects/viral-pangenome-discovery/data/SRA\""
      ]
     },
     "execution_count": 8,
     "metadata": {},
     "output_type": "execute_result"
    }
   ],
   "source": [
    "SRA_DIR = joinpath(PROJECT_BASE, \"data\", \"SRA\")"
   ]
  },
  {
   "cell_type": "code",
   "execution_count": 9,
   "id": "3a5ca32c-0be1-47c6-b7b9-ec693b25df36",
   "metadata": {
    "tags": []
   },
   "outputs": [
    {
     "data": {
      "text/plain": [
       "594-element Vector{String}:\n",
       " \"SRR6399459\"\n",
       " \"SRR6399460\"\n",
       " \"SRR6399461\"\n",
       " \"SRR6399462\"\n",
       " \"SRR6399463\"\n",
       " \"SRR6399464\"\n",
       " \"SRR6399465\"\n",
       " \"SRR6399466\"\n",
       " \"SRR6399467\"\n",
       " \"SRR6399468\"\n",
       " \"SRR6399469\"\n",
       " \"SRR6399470\"\n",
       " \"SRR6399471\"\n",
       " ⋮\n",
       " \"SRR7365474\"\n",
       " \"SRR7365475\"\n",
       " \"SRR7365476\"\n",
       " \"SRR7365477\"\n",
       " \"SRR7365478\"\n",
       " \"SRR7365479\"\n",
       " \"SRR7365480\"\n",
       " \"SRR7365481\"\n",
       " \"SRR7365482\"\n",
       " \"SRR7365483\"\n",
       " \"SRR7365484\"\n",
       " \"SRR7365485\""
      ]
     },
     "execution_count": 9,
     "metadata": {},
     "output_type": "execute_result"
    }
   ],
   "source": [
    "SRRs = filter(x -> occursin(r\"^SRR\", x), readdir(SRA_DIR))"
   ]
  },
  {
   "cell_type": "code",
   "execution_count": 24,
   "id": "b848c0b5-299f-4df2-8c84-c7b8e3ca650c",
   "metadata": {},
   "outputs": [
    {
     "data": {
      "text/plain": [
       "236501-element Vector{String}:\n",
       " \"10239\"\n",
       " \"10472\"\n",
       " \"10473\"\n",
       " \"46014\"\n",
       " \"10474\"\n",
       " \"10475\"\n",
       " \"174676\"\n",
       " \"244589\"\n",
       " \"244590\"\n",
       " \"459290\"\n",
       " \"459291\"\n",
       " \"693628\"\n",
       " \"2032563\"\n",
       " ⋮\n",
       " \"265522\"\n",
       " \"327830\"\n",
       " \"74492\"\n",
       " \"96779\"\n",
       " \"160841\"\n",
       " \"219164\"\n",
       " \"993492\"\n",
       " \"1329648\"\n",
       " \"1428464\"\n",
       " \"1623311\"\n",
       " \"2809481\"\n",
       " \"419435\""
      ]
     },
     "execution_count": 24,
     "metadata": {},
     "output_type": "execute_result"
    }
   ],
   "source": [
    "# run(`taxonkit list --ids 10239 --indent \"\"`)\n",
    "blastdbs_dir = \"$(homedir())/workspace/blastdbs\"\n",
    "taxdump_dir = mkpath(joinpath(blastdbs_dir, \"taxdump\"))\n",
    "viral_taxon = 10239\n",
    "# viral_taxon_file = \"viral-taxon-ids.txt\"\n",
    "# run(pipeline(`taxonkit list --ids 10239 --data-dir $(taxdump_dir) --indent \"\"`, viral_taxon_file))\n",
    "# viral_taxon_ids = Set(readlines(viral_taxon_file))\n",
    "viral_taxon_ids = filter(!isempty, readlines(open(`taxonkit list --ids $(viral_taxon) --data-dir $(taxdump_dir) --indent \"\"`)))"
   ]
  },
  {
   "cell_type": "code",
   "execution_count": null,
   "id": "697caefa-6d2e-4574-b93a-3868cd6ffc0b",
   "metadata": {},
   "outputs": [],
   "source": [
    "# read in kraken report"
   ]
  },
  {
   "cell_type": "code",
   "execution_count": 11,
   "id": "a2852750-e7a7-4040-84a0-4ba13df1a81e",
   "metadata": {},
   "outputs": [
    {
     "data": {
      "text/plain": [
       "\"/home/jovyan/work/Mycelia/projects/viral-pangenome-discovery/data/SRA/SRR6399459\""
      ]
     },
     "execution_count": 11,
     "metadata": {},
     "output_type": "execute_result"
    }
   ],
   "source": [
    "SRR = first(SRRs)\n",
    "SRR_dir = joinpath(SRA_DIR, SRR)"
   ]
  },
  {
   "cell_type": "code",
   "execution_count": 12,
   "id": "09f50793-71c2-48ec-94ca-a4c401109a31",
   "metadata": {},
   "outputs": [
    {
     "data": {
      "text/plain": [
       "\"/home/jovyan/work/Mycelia/projects/viral-pangenome-discovery/data/SRA/SRR6399459/kraken\""
      ]
     },
     "execution_count": 12,
     "metadata": {},
     "output_type": "execute_result"
    }
   ],
   "source": [
    "kraken_dir = joinpath(SRR_dir, \"kraken\")"
   ]
  },
  {
   "cell_type": "code",
   "execution_count": 13,
   "id": "f5786c47-a182-4dc2-ad21-3aef0a854c63",
   "metadata": {},
   "outputs": [
    {
     "data": {
      "text/plain": [
       "\"/home/jovyan/work/Mycelia/projects/viral-pangenome-discovery/data/SRA/SRR6399459/SRR6399459.final.contigs.fastg.gfa.fna.blastn.ref_viruses_rep_genomes.blastn.contig_info.tsv\""
      ]
     },
     "execution_count": 13,
     "metadata": {},
     "output_type": "execute_result"
    }
   ],
   "source": [
    "contig_info_file = \"/home/jovyan/work/Mycelia/projects/viral-pangenome-discovery/data/SRA/SRR6399459/SRR6399459.final.contigs.fastg.gfa.fna.blastn.ref_viruses_rep_genomes.blastn.contig_info.tsv\""
   ]
  },
  {
   "cell_type": "code",
   "execution_count": 14,
   "id": "b33e053e-6fc5-4b5f-9cb2-95f504667b1b",
   "metadata": {},
   "outputs": [
    {
     "data": {
      "text/html": [
       "<div><div style = \"float: left;\"><span>2432×24 DataFrame</span></div><div style = \"float: right;\"><span style = \"font-style: italic;\">2407 rows omitted</span></div><div style = \"clear: both;\"></div></div><div class = \"data-frame\" style = \"overflow-x: scroll;\"><table class = \"data-frame\" style = \"margin-bottom: 6px;\"><thead><tr class = \"header\"><th class = \"rowNumber\" style = \"font-weight: bold; text-align: right;\">Row</th><th style = \"text-align: left;\">Contig</th><th style = \"text-align: left;\">Length</th><th style = \"text-align: left;\">Mapped bases</th><th style = \"text-align: left;\">Mean coverage</th><th style = \"text-align: left;\">Standard Deviation</th><th style = \"text-align: left;\">% Mapped bases</th><th style = \"text-align: left;\">subject id</th><th style = \"text-align: left;\">subject acc.</th><th style = \"text-align: left;\">subject title</th><th style = \"text-align: left;\">subject tax id</th><th style = \"text-align: left;\">lineage</th><th style = \"text-align: left;\">% identity</th><th style = \"text-align: left;\">% of subject length</th><th style = \"text-align: left;\">evalue</th><th style = \"text-align: left;\">bit score</th><th style = \"text-align: left;\">query length</th><th style = \"text-align: left;\">subject length</th><th style = \"text-align: left;\">alignment length</th><th style = \"text-align: left;\">q. start</th><th style = \"text-align: left;\">q. end</th><th style = \"text-align: left;\">s. start</th><th style = \"text-align: left;\">s. end</th><th style = \"text-align: left;\">identical</th><th style = \"text-align: left;\">mismatches</th></tr><tr class = \"subheader headerLastRow\"><th class = \"rowNumber\" style = \"font-weight: bold; text-align: right;\"></th><th title = \"Int64\" style = \"text-align: left;\">Int64</th><th title = \"Int64\" style = \"text-align: left;\">Int64</th><th title = \"Int64\" style = \"text-align: left;\">Int64</th><th title = \"Float64\" style = \"text-align: left;\">Float64</th><th title = \"Float64\" style = \"text-align: left;\">Float64</th><th title = \"Float64\" style = \"text-align: left;\">Float64</th><th title = \"String\" style = \"text-align: left;\">String</th><th title = \"String\" style = \"text-align: left;\">String</th><th title = \"String\" style = \"text-align: left;\">String</th><th title = \"String\" style = \"text-align: left;\">String</th><th title = \"String\" style = \"text-align: left;\">String</th><th title = \"String\" style = \"text-align: left;\">String</th><th title = \"String\" style = \"text-align: left;\">String</th><th title = \"String\" style = \"text-align: left;\">String</th><th title = \"String\" style = \"text-align: left;\">String</th><th title = \"String\" style = \"text-align: left;\">String</th><th title = \"String\" style = \"text-align: left;\">String</th><th title = \"String\" style = \"text-align: left;\">String</th><th title = \"String\" style = \"text-align: left;\">String</th><th title = \"String\" style = \"text-align: left;\">String</th><th title = \"String\" style = \"text-align: left;\">String</th><th title = \"String\" style = \"text-align: left;\">String</th><th title = \"String\" style = \"text-align: left;\">String</th><th title = \"String\" style = \"text-align: left;\">String</th></tr></thead><tbody><tr><td class = \"rowNumber\" style = \"font-weight: bold; text-align: right;\">1</td><td style = \"text-align: right;\">5078</td><td style = \"text-align: right;\">4564</td><td style = \"text-align: right;\">177445068</td><td style = \"text-align: right;\">38879.3</td><td style = \"text-align: right;\">48292.9</td><td style = \"text-align: right;\">1.08288</td><td style = \"text-align: left;\">gi|1119035555|ref|NC_032111.1|</td><td style = \"text-align: left;\">NC_032111</td><td style = \"text-align: left;\">BeAn 58058 virus, complete genome</td><td style = \"text-align: left;\">67082</td><td style = \"text-align: left;\">Viruses;Varidnaviria;Bamfordvirae;Nucleocytoviricota;Pokkesviricetes;Chitovirales;Poxviridae;Chordopoxvirinae;Oryzopoxvirus;unclassified Oryzopoxvirus;BeAn 58058 virus</td><td style = \"text-align: left;\">83.0</td><td style = \"text-align: left;\">2.8</td><td style = \"text-align: left;\">1.2e-50</td><td style = \"text-align: left;\">206.0</td><td style = \"text-align: left;\">4564</td><td style = \"text-align: left;\">163005</td><td style = \"text-align: left;\">200</td><td style = \"text-align: left;\">3334</td><td style = \"text-align: left;\">3531</td><td style = \"text-align: left;\">8610</td><td style = \"text-align: left;\">8417</td><td style = \"text-align: left;\">166</td><td style = \"text-align: left;\">26</td></tr><tr><td class = \"rowNumber\" style = \"font-weight: bold; text-align: right;\">2</td><td style = \"text-align: right;\">5078</td><td style = \"text-align: right;\">4564</td><td style = \"text-align: right;\">177445068</td><td style = \"text-align: right;\">38879.3</td><td style = \"text-align: right;\">48292.9</td><td style = \"text-align: right;\">1.08288</td><td style = \"text-align: left;\">gi|1119035555|ref|NC_032111.1|</td><td style = \"text-align: left;\">NC_032111</td><td style = \"text-align: left;\">BeAn 58058 virus, complete genome</td><td style = \"text-align: left;\">67082</td><td style = \"text-align: left;\">Viruses;Varidnaviria;Bamfordvirae;Nucleocytoviricota;Pokkesviricetes;Chitovirales;Poxviridae;Chordopoxvirinae;Oryzopoxvirus;unclassified Oryzopoxvirus;BeAn 58058 virus</td><td style = \"text-align: left;\">90.977</td><td style = \"text-align: left;\">2.8</td><td style = \"text-align: left;\">1.36e-43</td><td style = \"text-align: left;\">184.0</td><td style = \"text-align: left;\">4564</td><td style = \"text-align: left;\">163005</td><td style = \"text-align: left;\">133</td><td style = \"text-align: left;\">4433</td><td style = \"text-align: left;\">4563</td><td style = \"text-align: left;\">8616</td><td style = \"text-align: left;\">8484</td><td style = \"text-align: left;\">121</td><td style = \"text-align: left;\">10</td></tr><tr><td class = \"rowNumber\" style = \"font-weight: bold; text-align: right;\">3</td><td style = \"text-align: right;\">5078</td><td style = \"text-align: right;\">4564</td><td style = \"text-align: right;\">177445068</td><td style = \"text-align: right;\">38879.3</td><td style = \"text-align: right;\">48292.9</td><td style = \"text-align: right;\">1.08288</td><td style = \"text-align: left;\">gi|2047109370|ref|NC_055235.1|</td><td style = \"text-align: left;\">NC_055235</td><td style = \"text-align: left;\">Baboon cytomegalovirus OCOM4-37, complete genome, *** SEQUENCING IN PROGRESS ***, 22 unordered pieces</td><td style = \"text-align: left;\">153301</td><td style = \"text-align: left;\">Viruses;Duplodnaviria;Heunggongvirae;Peploviricota;Herviviricetes;Herpesvirales;Herpesviridae;Betaherpesvirinae;Cytomegalovirus;Papiine betaherpesvirus 3;Baboon cytomegalovirus OCOM4-37</td><td style = \"text-align: left;\">78.061</td><td style = \"text-align: left;\">2.68</td><td style = \"text-align: left;\">5.43e-36</td><td style = \"text-align: left;\">159.0</td><td style = \"text-align: left;\">4564</td><td style = \"text-align: left;\">170275</td><td style = \"text-align: left;\">196</td><td style = \"text-align: left;\">3338</td><td style = \"text-align: left;\">3531</td><td style = \"text-align: left;\">65552</td><td style = \"text-align: left;\">65741</td><td style = \"text-align: left;\">153</td><td style = \"text-align: left;\">35</td></tr><tr><td class = \"rowNumber\" style = \"font-weight: bold; text-align: right;\">4</td><td style = \"text-align: right;\">5078</td><td style = \"text-align: right;\">4564</td><td style = \"text-align: right;\">177445068</td><td style = \"text-align: right;\">38879.3</td><td style = \"text-align: right;\">48292.9</td><td style = \"text-align: right;\">1.08288</td><td style = \"text-align: left;\">gi|1119035555|ref|NC_032111.1|</td><td style = \"text-align: left;\">NC_032111</td><td style = \"text-align: left;\">BeAn 58058 virus, complete genome</td><td style = \"text-align: left;\">67082</td><td style = \"text-align: left;\">Viruses;Varidnaviria;Bamfordvirae;Nucleocytoviricota;Pokkesviricetes;Chitovirales;Poxviridae;Chordopoxvirinae;Oryzopoxvirus;unclassified Oryzopoxvirus;BeAn 58058 virus</td><td style = \"text-align: left;\">85.593</td><td style = \"text-align: left;\">2.8</td><td style = \"text-align: left;\">6.2e-29</td><td style = \"text-align: left;\">134.0</td><td style = \"text-align: left;\">4564</td><td style = \"text-align: left;\">163005</td><td style = \"text-align: left;\">118</td><td style = \"text-align: left;\">2117</td><td style = \"text-align: left;\">2232</td><td style = \"text-align: left;\">8316</td><td style = \"text-align: left;\">8433</td><td style = \"text-align: left;\">101</td><td style = \"text-align: left;\">15</td></tr><tr><td class = \"rowNumber\" style = \"font-weight: bold; text-align: right;\">5</td><td style = \"text-align: right;\">5078</td><td style = \"text-align: right;\">4564</td><td style = \"text-align: right;\">177445068</td><td style = \"text-align: right;\">38879.3</td><td style = \"text-align: right;\">48292.9</td><td style = \"text-align: right;\">1.08288</td><td style = \"text-align: left;\">gi|2047109370|ref|NC_055235.1|</td><td style = \"text-align: left;\">NC_055235</td><td style = \"text-align: left;\">Baboon cytomegalovirus OCOM4-37, complete genome, *** SEQUENCING IN PROGRESS ***, 22 unordered pieces</td><td style = \"text-align: left;\">153301</td><td style = \"text-align: left;\">Viruses;Duplodnaviria;Heunggongvirae;Peploviricota;Herviviricetes;Herpesvirales;Herpesviridae;Betaherpesvirinae;Cytomegalovirus;Papiine betaherpesvirus 3;Baboon cytomegalovirus OCOM4-37</td><td style = \"text-align: left;\">80.645</td><td style = \"text-align: left;\">2.68</td><td style = \"text-align: left;\">3.01e-20</td><td style = \"text-align: left;\">106.0</td><td style = \"text-align: left;\">4564</td><td style = \"text-align: left;\">170275</td><td style = \"text-align: left;\">124</td><td style = \"text-align: left;\">4443</td><td style = \"text-align: left;\">4563</td><td style = \"text-align: left;\">65552</td><td style = \"text-align: left;\">65674</td><td style = \"text-align: left;\">100</td><td style = \"text-align: left;\">20</td></tr><tr><td class = \"rowNumber\" style = \"font-weight: bold; text-align: right;\">6</td><td style = \"text-align: right;\">7416</td><td style = \"text-align: right;\">4287</td><td style = \"text-align: right;\">142720790</td><td style = \"text-align: right;\">33291.5</td><td style = \"text-align: right;\">20659.6</td><td style = \"text-align: right;\">0.870968</td><td style = \"text-align: left;\">gi|1119035555|ref|NC_032111.1|</td><td style = \"text-align: left;\">NC_032111</td><td style = \"text-align: left;\">BeAn 58058 virus, complete genome</td><td style = \"text-align: left;\">67082</td><td style = \"text-align: left;\">Viruses;Varidnaviria;Bamfordvirae;Nucleocytoviricota;Pokkesviricetes;Chitovirales;Poxviridae;Chordopoxvirinae;Oryzopoxvirus;unclassified Oryzopoxvirus;BeAn 58058 virus</td><td style = \"text-align: left;\">84.688</td><td style = \"text-align: left;\">2.63</td><td style = \"text-align: left;\">5.08e-93</td><td style = \"text-align: left;\">347.0</td><td style = \"text-align: left;\">4287</td><td style = \"text-align: left;\">163005</td><td style = \"text-align: left;\">320</td><td style = \"text-align: left;\">3433</td><td style = \"text-align: left;\">3750</td><td style = \"text-align: left;\">8633</td><td style = \"text-align: left;\">8316</td><td style = \"text-align: left;\">271</td><td style = \"text-align: left;\">45</td></tr><tr><td class = \"rowNumber\" style = \"font-weight: bold; text-align: right;\">7</td><td style = \"text-align: right;\">7416</td><td style = \"text-align: right;\">4287</td><td style = \"text-align: right;\">142720790</td><td style = \"text-align: right;\">33291.5</td><td style = \"text-align: right;\">20659.6</td><td style = \"text-align: right;\">0.870968</td><td style = \"text-align: left;\">gi|2047109370|ref|NC_055235.1|</td><td style = \"text-align: left;\">NC_055235</td><td style = \"text-align: left;\">Baboon cytomegalovirus OCOM4-37, complete genome, *** SEQUENCING IN PROGRESS ***, 22 unordered pieces</td><td style = \"text-align: left;\">153301</td><td style = \"text-align: left;\">Viruses;Duplodnaviria;Heunggongvirae;Peploviricota;Herviviricetes;Herpesvirales;Herpesviridae;Betaherpesvirinae;Cytomegalovirus;Papiine betaherpesvirus 3;Baboon cytomegalovirus OCOM4-37</td><td style = \"text-align: left;\">79.646</td><td style = \"text-align: left;\">2.518</td><td style = \"text-align: left;\">5.81e-48</td><td style = \"text-align: left;\">197.0</td><td style = \"text-align: left;\">4287</td><td style = \"text-align: left;\">170275</td><td style = \"text-align: left;\">226</td><td style = \"text-align: left;\">3448</td><td style = \"text-align: left;\">3673</td><td style = \"text-align: left;\">65542</td><td style = \"text-align: left;\">65766</td><td style = \"text-align: left;\">180</td><td style = \"text-align: left;\">45</td></tr><tr><td class = \"rowNumber\" style = \"font-weight: bold; text-align: right;\">8</td><td style = \"text-align: right;\">5974</td><td style = \"text-align: right;\">5875</td><td style = \"text-align: right;\">130551371</td><td style = \"text-align: right;\">22221.5</td><td style = \"text-align: right;\">25141.6</td><td style = \"text-align: right;\">0.796703</td><td style = \"text-align: left;\">gi|1119035555|ref|NC_032111.1|</td><td style = \"text-align: left;\">NC_032111</td><td style = \"text-align: left;\">BeAn 58058 virus, complete genome</td><td style = \"text-align: left;\">67082</td><td style = \"text-align: left;\">Viruses;Varidnaviria;Bamfordvirae;Nucleocytoviricota;Pokkesviricetes;Chitovirales;Poxviridae;Chordopoxvirinae;Oryzopoxvirus;unclassified Oryzopoxvirus;BeAn 58058 virus</td><td style = \"text-align: left;\">85.284</td><td style = \"text-align: left;\">3.604</td><td style = \"text-align: left;\">1.26e-89</td><td style = \"text-align: left;\">337.0</td><td style = \"text-align: left;\">5875</td><td style = \"text-align: left;\">163005</td><td style = \"text-align: left;\">299</td><td style = \"text-align: left;\">3310</td><td style = \"text-align: left;\">3606</td><td style = \"text-align: left;\">8316</td><td style = \"text-align: left;\">8611</td><td style = \"text-align: left;\">255</td><td style = \"text-align: left;\">39</td></tr><tr><td class = \"rowNumber\" style = \"font-weight: bold; text-align: right;\">9</td><td style = \"text-align: right;\">5974</td><td style = \"text-align: right;\">5875</td><td style = \"text-align: right;\">130551371</td><td style = \"text-align: right;\">22221.5</td><td style = \"text-align: right;\">25141.6</td><td style = \"text-align: right;\">0.796703</td><td style = \"text-align: left;\">gi|2047109370|ref|NC_055235.1|</td><td style = \"text-align: left;\">NC_055235</td><td style = \"text-align: left;\">Baboon cytomegalovirus OCOM4-37, complete genome, *** SEQUENCING IN PROGRESS ***, 22 unordered pieces</td><td style = \"text-align: left;\">153301</td><td style = \"text-align: left;\">Viruses;Duplodnaviria;Heunggongvirae;Peploviricota;Herviviricetes;Herpesvirales;Herpesviridae;Betaherpesvirinae;Cytomegalovirus;Papiine betaherpesvirus 3;Baboon cytomegalovirus OCOM4-37</td><td style = \"text-align: left;\">75.17</td><td style = \"text-align: left;\">3.45</td><td style = \"text-align: left;\">1.18e-45</td><td style = \"text-align: left;\">190.0</td><td style = \"text-align: left;\">5875</td><td style = \"text-align: left;\">170275</td><td style = \"text-align: left;\">294</td><td style = \"text-align: left;\">3320</td><td style = \"text-align: left;\">3611</td><td style = \"text-align: left;\">65830</td><td style = \"text-align: left;\">65542</td><td style = \"text-align: left;\">221</td><td style = \"text-align: left;\">66</td></tr><tr><td class = \"rowNumber\" style = \"font-weight: bold; text-align: right;\">10</td><td style = \"text-align: right;\">5974</td><td style = \"text-align: right;\">5875</td><td style = \"text-align: right;\">130551371</td><td style = \"text-align: right;\">22221.5</td><td style = \"text-align: right;\">25141.6</td><td style = \"text-align: right;\">0.796703</td><td style = \"text-align: left;\">gi|1119035555|ref|NC_032111.1|</td><td style = \"text-align: left;\">NC_032111</td><td style = \"text-align: left;\">BeAn 58058 virus, complete genome</td><td style = \"text-align: left;\">67082</td><td style = \"text-align: left;\">Viruses;Varidnaviria;Bamfordvirae;Nucleocytoviricota;Pokkesviricetes;Chitovirales;Poxviridae;Chordopoxvirinae;Oryzopoxvirus;unclassified Oryzopoxvirus;BeAn 58058 virus</td><td style = \"text-align: left;\">78.453</td><td style = \"text-align: left;\">3.604</td><td style = \"text-align: left;\">1.54e-31</td><td style = \"text-align: left;\">144.0</td><td style = \"text-align: left;\">5875</td><td style = \"text-align: left;\">163005</td><td style = \"text-align: left;\">181</td><td style = \"text-align: left;\">3142</td><td style = \"text-align: left;\">3322</td><td style = \"text-align: left;\">8317</td><td style = \"text-align: left;\">8495</td><td style = \"text-align: left;\">142</td><td style = \"text-align: left;\">37</td></tr><tr><td class = \"rowNumber\" style = \"font-weight: bold; text-align: right;\">11</td><td style = \"text-align: right;\">5974</td><td style = \"text-align: right;\">5875</td><td style = \"text-align: right;\">130551371</td><td style = \"text-align: right;\">22221.5</td><td style = \"text-align: right;\">25141.6</td><td style = \"text-align: right;\">0.796703</td><td style = \"text-align: left;\">gi|2047109370|ref|NC_055235.1|</td><td style = \"text-align: left;\">NC_055235</td><td style = \"text-align: left;\">Baboon cytomegalovirus OCOM4-37, complete genome, *** SEQUENCING IN PROGRESS ***, 22 unordered pieces</td><td style = \"text-align: left;\">153301</td><td style = \"text-align: left;\">Viruses;Duplodnaviria;Heunggongvirae;Peploviricota;Herviviricetes;Herpesvirales;Herpesviridae;Betaherpesvirinae;Cytomegalovirus;Papiine betaherpesvirus 3;Baboon cytomegalovirus OCOM4-37</td><td style = \"text-align: left;\">70.892</td><td style = \"text-align: left;\">3.45</td><td style = \"text-align: left;\">8.54e-16</td><td style = \"text-align: left;\">92.4</td><td style = \"text-align: left;\">5875</td><td style = \"text-align: left;\">170275</td><td style = \"text-align: left;\">213</td><td style = \"text-align: left;\">3151</td><td style = \"text-align: left;\">3363</td><td style = \"text-align: left;\">65830</td><td style = \"text-align: left;\">65623</td><td style = \"text-align: left;\">151</td><td style = \"text-align: left;\">57</td></tr><tr><td class = \"rowNumber\" style = \"font-weight: bold; text-align: right;\">12</td><td style = \"text-align: right;\">5974</td><td style = \"text-align: right;\">5875</td><td style = \"text-align: right;\">130551371</td><td style = \"text-align: right;\">22221.5</td><td style = \"text-align: right;\">25141.6</td><td style = \"text-align: right;\">0.796703</td><td style = \"text-align: left;\">gi|1119035555|ref|NC_032111.1|</td><td style = \"text-align: left;\">NC_032111</td><td style = \"text-align: left;\">BeAn 58058 virus, complete genome</td><td style = \"text-align: left;\">67082</td><td style = \"text-align: left;\">Viruses;Varidnaviria;Bamfordvirae;Nucleocytoviricota;Pokkesviricetes;Chitovirales;Poxviridae;Chordopoxvirinae;Oryzopoxvirus;unclassified Oryzopoxvirus;BeAn 58058 virus</td><td style = \"text-align: left;\">79.73</td><td style = \"text-align: left;\">3.604</td><td style = \"text-align: left;\">1.76e-5</td><td style = \"text-align: left;\">57.2</td><td style = \"text-align: left;\">5875</td><td style = \"text-align: left;\">163005</td><td style = \"text-align: left;\">74</td><td style = \"text-align: left;\">3556</td><td style = \"text-align: left;\">3628</td><td style = \"text-align: left;\">8426</td><td style = \"text-align: left;\">8496</td><td style = \"text-align: left;\">59</td><td style = \"text-align: left;\">11</td></tr><tr><td class = \"rowNumber\" style = \"font-weight: bold; text-align: right;\">13</td><td style = \"text-align: right;\">976</td><td style = \"text-align: right;\">2434</td><td style = \"text-align: right;\">122770884</td><td style = \"text-align: right;\">50440.0</td><td style = \"text-align: right;\">20574.0</td><td style = \"text-align: right;\">0.749222</td><td style = \"text-align: left;\">gi|2047109370|ref|NC_055235.1|</td><td style = \"text-align: left;\">NC_055235</td><td style = \"text-align: left;\">Baboon cytomegalovirus OCOM4-37, complete genome, *** SEQUENCING IN PROGRESS ***, 22 unordered pieces</td><td style = \"text-align: left;\">153301</td><td style = \"text-align: left;\">Viruses;Duplodnaviria;Heunggongvirae;Peploviricota;Herviviricetes;Herpesvirales;Herpesviridae;Betaherpesvirinae;Cytomegalovirus;Papiine betaherpesvirus 3;Baboon cytomegalovirus OCOM4-37</td><td style = \"text-align: left;\">74.453</td><td style = \"text-align: left;\">1.429</td><td style = \"text-align: left;\">4.28e-15</td><td style = \"text-align: left;\">88.7</td><td style = \"text-align: left;\">2434</td><td style = \"text-align: left;\">170275</td><td style = \"text-align: left;\">137</td><td style = \"text-align: left;\">2301</td><td style = \"text-align: left;\">2434</td><td style = \"text-align: left;\">65722</td><td style = \"text-align: left;\">65586</td><td style = \"text-align: left;\">102</td><td style = \"text-align: left;\">32</td></tr><tr><td style = \"text-align: right;\">&vellip;</td><td style = \"text-align: right;\">&vellip;</td><td style = \"text-align: right;\">&vellip;</td><td style = \"text-align: right;\">&vellip;</td><td style = \"text-align: right;\">&vellip;</td><td style = \"text-align: right;\">&vellip;</td><td style = \"text-align: right;\">&vellip;</td><td style = \"text-align: right;\">&vellip;</td><td style = \"text-align: right;\">&vellip;</td><td style = \"text-align: right;\">&vellip;</td><td style = \"text-align: right;\">&vellip;</td><td style = \"text-align: right;\">&vellip;</td><td style = \"text-align: right;\">&vellip;</td><td style = \"text-align: right;\">&vellip;</td><td style = \"text-align: right;\">&vellip;</td><td style = \"text-align: right;\">&vellip;</td><td style = \"text-align: right;\">&vellip;</td><td style = \"text-align: right;\">&vellip;</td><td style = \"text-align: right;\">&vellip;</td><td style = \"text-align: right;\">&vellip;</td><td style = \"text-align: right;\">&vellip;</td><td style = \"text-align: right;\">&vellip;</td><td style = \"text-align: right;\">&vellip;</td><td style = \"text-align: right;\">&vellip;</td><td style = \"text-align: right;\">&vellip;</td></tr><tr><td class = \"rowNumber\" style = \"font-weight: bold; text-align: right;\">2421</td><td style = \"text-align: right;\">3205</td><td style = \"text-align: right;\">271</td><td style = \"text-align: right;\">428</td><td style = \"text-align: right;\">1.57934</td><td style = \"text-align: right;\">1.28339</td><td style = \"text-align: right;\">2.61191e-6</td><td style = \"text-align: left;\">gi|2047109370|ref|NC_055235.1|</td><td style = \"text-align: left;\">NC_055235</td><td style = \"text-align: left;\">Baboon cytomegalovirus OCOM4-37, complete genome, *** SEQUENCING IN PROGRESS ***, 22 unordered pieces</td><td style = \"text-align: left;\">153301</td><td style = \"text-align: left;\">Viruses;Duplodnaviria;Heunggongvirae;Peploviricota;Herviviricetes;Herpesvirales;Herpesviridae;Betaherpesvirinae;Cytomegalovirus;Papiine betaherpesvirus 3;Baboon cytomegalovirus OCOM4-37</td><td style = \"text-align: left;\">79.577</td><td style = \"text-align: left;\">0.159</td><td style = \"text-align: left;\">8.88e-25</td><td style = \"text-align: left;\">116.0</td><td style = \"text-align: left;\">271</td><td style = \"text-align: left;\">170275</td><td style = \"text-align: left;\">142</td><td style = \"text-align: left;\">1</td><td style = \"text-align: left;\">140</td><td style = \"text-align: left;\">65766</td><td style = \"text-align: left;\">65627</td><td style = \"text-align: left;\">113</td><td style = \"text-align: left;\">25</td></tr><tr><td class = \"rowNumber\" style = \"font-weight: bold; text-align: right;\">2422</td><td style = \"text-align: right;\">6413</td><td style = \"text-align: right;\">281</td><td style = \"text-align: right;\">416</td><td style = \"text-align: right;\">1.48043</td><td style = \"text-align: right;\">1.30717</td><td style = \"text-align: right;\">2.53868e-6</td><td style = \"text-align: left;\">gi|1119035555|ref|NC_032111.1|</td><td style = \"text-align: left;\">NC_032111</td><td style = \"text-align: left;\">BeAn 58058 virus, complete genome</td><td style = \"text-align: left;\">67082</td><td style = \"text-align: left;\">Viruses;Varidnaviria;Bamfordvirae;Nucleocytoviricota;Pokkesviricetes;Chitovirales;Poxviridae;Chordopoxvirinae;Oryzopoxvirus;unclassified Oryzopoxvirus;BeAn 58058 virus</td><td style = \"text-align: left;\">86.631</td><td style = \"text-align: left;\">0.172</td><td style = \"text-align: left;\">2.48e-57</td><td style = \"text-align: left;\">225.0</td><td style = \"text-align: left;\">281</td><td style = \"text-align: left;\">163005</td><td style = \"text-align: left;\">187</td><td style = \"text-align: left;\">1</td><td style = \"text-align: left;\">187</td><td style = \"text-align: left;\">8429</td><td style = \"text-align: left;\">8615</td><td style = \"text-align: left;\">162</td><td style = \"text-align: left;\">25</td></tr><tr><td class = \"rowNumber\" style = \"font-weight: bold; text-align: right;\">2423</td><td style = \"text-align: right;\">6413</td><td style = \"text-align: right;\">281</td><td style = \"text-align: right;\">416</td><td style = \"text-align: right;\">1.48043</td><td style = \"text-align: right;\">1.30717</td><td style = \"text-align: right;\">2.53868e-6</td><td style = \"text-align: left;\">gi|2047109370|ref|NC_055235.1|</td><td style = \"text-align: left;\">NC_055235</td><td style = \"text-align: left;\">Baboon cytomegalovirus OCOM4-37, complete genome, *** SEQUENCING IN PROGRESS ***, 22 unordered pieces</td><td style = \"text-align: left;\">153301</td><td style = \"text-align: left;\">Viruses;Duplodnaviria;Heunggongvirae;Peploviricota;Herviviricetes;Herpesvirales;Herpesviridae;Betaherpesvirinae;Cytomegalovirus;Papiine betaherpesvirus 3;Baboon cytomegalovirus OCOM4-37</td><td style = \"text-align: left;\">79.121</td><td style = \"text-align: left;\">0.165</td><td style = \"text-align: left;\">3.02e-37</td><td style = \"text-align: left;\">158.0</td><td style = \"text-align: left;\">281</td><td style = \"text-align: left;\">170275</td><td style = \"text-align: left;\">182</td><td style = \"text-align: left;\">2</td><td style = \"text-align: left;\">183</td><td style = \"text-align: left;\">65728</td><td style = \"text-align: left;\">65547</td><td style = \"text-align: left;\">144</td><td style = \"text-align: left;\">38</td></tr><tr><td class = \"rowNumber\" style = \"font-weight: bold; text-align: right;\">2424</td><td style = \"text-align: right;\">6413</td><td style = \"text-align: right;\">281</td><td style = \"text-align: right;\">416</td><td style = \"text-align: right;\">1.48043</td><td style = \"text-align: right;\">1.30717</td><td style = \"text-align: right;\">2.53868e-6</td><td style = \"text-align: left;\">gi|1119035555|ref|NC_032111.1|</td><td style = \"text-align: left;\">NC_032111</td><td style = \"text-align: left;\">BeAn 58058 virus, complete genome</td><td style = \"text-align: left;\">67082</td><td style = \"text-align: left;\">Viruses;Varidnaviria;Bamfordvirae;Nucleocytoviricota;Pokkesviricetes;Chitovirales;Poxviridae;Chordopoxvirinae;Oryzopoxvirus;unclassified Oryzopoxvirus;BeAn 58058 virus</td><td style = \"text-align: left;\">78.378</td><td style = \"text-align: left;\">0.172</td><td style = \"text-align: left;\">1.79e-8</td><td style = \"text-align: left;\">62.6</td><td style = \"text-align: left;\">281</td><td style = \"text-align: left;\">163005</td><td style = \"text-align: left;\">74</td><td style = \"text-align: left;\">121</td><td style = \"text-align: left;\">194</td><td style = \"text-align: left;\">8414</td><td style = \"text-align: left;\">8487</td><td style = \"text-align: left;\">58</td><td style = \"text-align: left;\">16</td></tr><tr><td class = \"rowNumber\" style = \"font-weight: bold; text-align: right;\">2425</td><td style = \"text-align: right;\">6413</td><td style = \"text-align: right;\">281</td><td style = \"text-align: right;\">416</td><td style = \"text-align: right;\">1.48043</td><td style = \"text-align: right;\">1.30717</td><td style = \"text-align: right;\">2.53868e-6</td><td style = \"text-align: left;\">gi|2047109370|ref|NC_055235.1|</td><td style = \"text-align: left;\">NC_055235</td><td style = \"text-align: left;\">Baboon cytomegalovirus OCOM4-37, complete genome, *** SEQUENCING IN PROGRESS ***, 22 unordered pieces</td><td style = \"text-align: left;\">153301</td><td style = \"text-align: left;\">Viruses;Duplodnaviria;Heunggongvirae;Peploviricota;Herviviricetes;Herpesvirales;Herpesviridae;Betaherpesvirinae;Cytomegalovirus;Papiine betaherpesvirus 3;Baboon cytomegalovirus OCOM4-37</td><td style = \"text-align: left;\">75.904</td><td style = \"text-align: left;\">0.165</td><td style = \"text-align: left;\">6.24e-8</td><td style = \"text-align: left;\">60.8</td><td style = \"text-align: left;\">281</td><td style = \"text-align: left;\">170275</td><td style = \"text-align: left;\">83</td><td style = \"text-align: left;\">112</td><td style = \"text-align: left;\">194</td><td style = \"text-align: left;\">65753</td><td style = \"text-align: left;\">65671</td><td style = \"text-align: left;\">63</td><td style = \"text-align: left;\">20</td></tr><tr><td class = \"rowNumber\" style = \"font-weight: bold; text-align: right;\">2426</td><td style = \"text-align: right;\">1710</td><td style = \"text-align: right;\">207</td><td style = \"text-align: right;\">382</td><td style = \"text-align: right;\">1.84541</td><td style = \"text-align: right;\">1.37446</td><td style = \"text-align: right;\">2.33119e-6</td><td style = \"text-align: left;\">gi|1119035555|ref|NC_032111.1|</td><td style = \"text-align: left;\">NC_032111</td><td style = \"text-align: left;\">BeAn 58058 virus, complete genome</td><td style = \"text-align: left;\">67082</td><td style = \"text-align: left;\">Viruses;Varidnaviria;Bamfordvirae;Nucleocytoviricota;Pokkesviricetes;Chitovirales;Poxviridae;Chordopoxvirinae;Oryzopoxvirus;unclassified Oryzopoxvirus;BeAn 58058 virus</td><td style = \"text-align: left;\">86.905</td><td style = \"text-align: left;\">0.127</td><td style = \"text-align: left;\">1.64e-51</td><td style = \"text-align: left;\">205.0</td><td style = \"text-align: left;\">207</td><td style = \"text-align: left;\">163005</td><td style = \"text-align: left;\">168</td><td style = \"text-align: left;\">3</td><td style = \"text-align: left;\">170</td><td style = \"text-align: left;\">8488</td><td style = \"text-align: left;\">8321</td><td style = \"text-align: left;\">146</td><td style = \"text-align: left;\">22</td></tr><tr><td class = \"rowNumber\" style = \"font-weight: bold; text-align: right;\">2427</td><td style = \"text-align: right;\">1710</td><td style = \"text-align: right;\">207</td><td style = \"text-align: right;\">382</td><td style = \"text-align: right;\">1.84541</td><td style = \"text-align: right;\">1.37446</td><td style = \"text-align: right;\">2.33119e-6</td><td style = \"text-align: left;\">gi|2047109370|ref|NC_055235.1|</td><td style = \"text-align: left;\">NC_055235</td><td style = \"text-align: left;\">Baboon cytomegalovirus OCOM4-37, complete genome, *** SEQUENCING IN PROGRESS ***, 22 unordered pieces</td><td style = \"text-align: left;\">153301</td><td style = \"text-align: left;\">Viruses;Duplodnaviria;Heunggongvirae;Peploviricota;Herviviricetes;Herpesvirales;Herpesviridae;Betaherpesvirinae;Cytomegalovirus;Papiine betaherpesvirus 3;Baboon cytomegalovirus OCOM4-37</td><td style = \"text-align: left;\">83.505</td><td style = \"text-align: left;\">0.122</td><td style = \"text-align: left;\">4.12e-21</td><td style = \"text-align: left;\">104.0</td><td style = \"text-align: left;\">207</td><td style = \"text-align: left;\">170275</td><td style = \"text-align: left;\">97</td><td style = \"text-align: left;\">3</td><td style = \"text-align: left;\">99</td><td style = \"text-align: left;\">65670</td><td style = \"text-align: left;\">65766</td><td style = \"text-align: left;\">81</td><td style = \"text-align: left;\">16</td></tr><tr><td class = \"rowNumber\" style = \"font-weight: bold; text-align: right;\">2428</td><td style = \"text-align: right;\">7378</td><td style = \"text-align: right;\">306</td><td style = \"text-align: right;\">297</td><td style = \"text-align: right;\">0.970588</td><td style = \"text-align: right;\">0.617647</td><td style = \"text-align: right;\">1.81247e-6</td><td style = \"text-align: left;\">gi|1119035555|ref|NC_032111.1|</td><td style = \"text-align: left;\">NC_032111</td><td style = \"text-align: left;\">BeAn 58058 virus, complete genome</td><td style = \"text-align: left;\">67082</td><td style = \"text-align: left;\">Viruses;Varidnaviria;Bamfordvirae;Nucleocytoviricota;Pokkesviricetes;Chitovirales;Poxviridae;Chordopoxvirinae;Oryzopoxvirus;unclassified Oryzopoxvirus;BeAn 58058 virus</td><td style = \"text-align: left;\">83.465</td><td style = \"text-align: left;\">0.188</td><td style = \"text-align: left;\">1.61e-28</td><td style = \"text-align: left;\">129.0</td><td style = \"text-align: left;\">306</td><td style = \"text-align: left;\">163005</td><td style = \"text-align: left;\">127</td><td style = \"text-align: left;\">182</td><td style = \"text-align: left;\">306</td><td style = \"text-align: left;\">8468</td><td style = \"text-align: left;\">8593</td><td style = \"text-align: left;\">106</td><td style = \"text-align: left;\">18</td></tr><tr><td class = \"rowNumber\" style = \"font-weight: bold; text-align: right;\">2429</td><td style = \"text-align: right;\">7378</td><td style = \"text-align: right;\">306</td><td style = \"text-align: right;\">297</td><td style = \"text-align: right;\">0.970588</td><td style = \"text-align: right;\">0.617647</td><td style = \"text-align: right;\">1.81247e-6</td><td style = \"text-align: left;\">gi|2047109370|ref|NC_055235.1|</td><td style = \"text-align: left;\">NC_055235</td><td style = \"text-align: left;\">Baboon cytomegalovirus OCOM4-37, complete genome, *** SEQUENCING IN PROGRESS ***, 22 unordered pieces</td><td style = \"text-align: left;\">153301</td><td style = \"text-align: left;\">Viruses;Duplodnaviria;Heunggongvirae;Peploviricota;Herviviricetes;Herpesvirales;Herpesviridae;Betaherpesvirinae;Cytomegalovirus;Papiine betaherpesvirus 3;Baboon cytomegalovirus OCOM4-37</td><td style = \"text-align: left;\">77.966</td><td style = \"text-align: left;\">0.18</td><td style = \"text-align: left;\">1.41e-16</td><td style = \"text-align: left;\">90.6</td><td style = \"text-align: left;\">306</td><td style = \"text-align: left;\">170275</td><td style = \"text-align: left;\">118</td><td style = \"text-align: left;\">189</td><td style = \"text-align: left;\">304</td><td style = \"text-align: left;\">65683</td><td style = \"text-align: left;\">65567</td><td style = \"text-align: left;\">92</td><td style = \"text-align: left;\">23</td></tr><tr><td class = \"rowNumber\" style = \"font-weight: bold; text-align: right;\">2430</td><td style = \"text-align: right;\">325</td><td style = \"text-align: right;\">248</td><td style = \"text-align: right;\">216</td><td style = \"text-align: right;\">0.870968</td><td style = \"text-align: right;\">1.20126</td><td style = \"text-align: right;\">1.31816e-6</td><td style = \"text-align: left;\">gi|1119035555|ref|NC_032111.1|</td><td style = \"text-align: left;\">NC_032111</td><td style = \"text-align: left;\">BeAn 58058 virus, complete genome</td><td style = \"text-align: left;\">67082</td><td style = \"text-align: left;\">Viruses;Varidnaviria;Bamfordvirae;Nucleocytoviricota;Pokkesviricetes;Chitovirales;Poxviridae;Chordopoxvirinae;Oryzopoxvirus;unclassified Oryzopoxvirus;BeAn 58058 virus</td><td style = \"text-align: left;\">82.0</td><td style = \"text-align: left;\">0.152</td><td style = \"text-align: left;\">6.18e-20</td><td style = \"text-align: left;\">100.0</td><td style = \"text-align: left;\">248</td><td style = \"text-align: left;\">163005</td><td style = \"text-align: left;\">100</td><td style = \"text-align: left;\">14</td><td style = \"text-align: left;\">113</td><td style = \"text-align: left;\">8516</td><td style = \"text-align: left;\">8615</td><td style = \"text-align: left;\">82</td><td style = \"text-align: left;\">18</td></tr><tr><td class = \"rowNumber\" style = \"font-weight: bold; text-align: right;\">2431</td><td style = \"text-align: right;\">6072</td><td style = \"text-align: right;\">211</td><td style = \"text-align: right;\">122</td><td style = \"text-align: right;\">0.578199</td><td style = \"text-align: right;\">1.15906</td><td style = \"text-align: right;\">7.44517e-7</td><td style = \"text-align: left;\">gi|1119035555|ref|NC_032111.1|</td><td style = \"text-align: left;\">NC_032111</td><td style = \"text-align: left;\">BeAn 58058 virus, complete genome</td><td style = \"text-align: left;\">67082</td><td style = \"text-align: left;\">Viruses;Varidnaviria;Bamfordvirae;Nucleocytoviricota;Pokkesviricetes;Chitovirales;Poxviridae;Chordopoxvirinae;Oryzopoxvirus;unclassified Oryzopoxvirus;BeAn 58058 virus</td><td style = \"text-align: left;\">78.919</td><td style = \"text-align: left;\">0.129</td><td style = \"text-align: left;\">3.24e-35</td><td style = \"text-align: left;\">151.0</td><td style = \"text-align: left;\">211</td><td style = \"text-align: left;\">163005</td><td style = \"text-align: left;\">185</td><td style = \"text-align: left;\">29</td><td style = \"text-align: left;\">211</td><td style = \"text-align: left;\">8615</td><td style = \"text-align: left;\">8431</td><td style = \"text-align: left;\">146</td><td style = \"text-align: left;\">37</td></tr><tr><td class = \"rowNumber\" style = \"font-weight: bold; text-align: right;\">2432</td><td style = \"text-align: right;\">6072</td><td style = \"text-align: right;\">211</td><td style = \"text-align: right;\">122</td><td style = \"text-align: right;\">0.578199</td><td style = \"text-align: right;\">1.15906</td><td style = \"text-align: right;\">7.44517e-7</td><td style = \"text-align: left;\">gi|2047109370|ref|NC_055235.1|</td><td style = \"text-align: left;\">NC_055235</td><td style = \"text-align: left;\">Baboon cytomegalovirus OCOM4-37, complete genome, *** SEQUENCING IN PROGRESS ***, 22 unordered pieces</td><td style = \"text-align: left;\">153301</td><td style = \"text-align: left;\">Viruses;Duplodnaviria;Heunggongvirae;Peploviricota;Herviviricetes;Herpesvirales;Herpesviridae;Betaherpesvirinae;Cytomegalovirus;Papiine betaherpesvirus 3;Baboon cytomegalovirus OCOM4-37</td><td style = \"text-align: left;\">73.143</td><td style = \"text-align: left;\">0.124</td><td style = \"text-align: left;\">6.26e-19</td><td style = \"text-align: left;\">97.8</td><td style = \"text-align: left;\">211</td><td style = \"text-align: left;\">170275</td><td style = \"text-align: left;\">175</td><td style = \"text-align: left;\">39</td><td style = \"text-align: left;\">211</td><td style = \"text-align: left;\">65553</td><td style = \"text-align: left;\">65727</td><td style = \"text-align: left;\">128</td><td style = \"text-align: left;\">45</td></tr></tbody></table></div>"
      ],
      "text/latex": [
       "\\begin{tabular}{r|ccccccc}\n",
       "\t& Contig & Length & Mapped bases & Mean coverage & Standard Deviation & \\% Mapped bases & \\\\\n",
       "\t\\hline\n",
       "\t& Int64 & Int64 & Int64 & Float64 & Float64 & Float64 & \\\\\n",
       "\t\\hline\n",
       "\t1 & 5078 & 4564 & 177445068 & 38879.3 & 48292.9 & 1.08288 & $\\dots$ \\\\\n",
       "\t2 & 5078 & 4564 & 177445068 & 38879.3 & 48292.9 & 1.08288 & $\\dots$ \\\\\n",
       "\t3 & 5078 & 4564 & 177445068 & 38879.3 & 48292.9 & 1.08288 & $\\dots$ \\\\\n",
       "\t4 & 5078 & 4564 & 177445068 & 38879.3 & 48292.9 & 1.08288 & $\\dots$ \\\\\n",
       "\t5 & 5078 & 4564 & 177445068 & 38879.3 & 48292.9 & 1.08288 & $\\dots$ \\\\\n",
       "\t6 & 7416 & 4287 & 142720790 & 33291.5 & 20659.6 & 0.870968 & $\\dots$ \\\\\n",
       "\t7 & 7416 & 4287 & 142720790 & 33291.5 & 20659.6 & 0.870968 & $\\dots$ \\\\\n",
       "\t8 & 5974 & 5875 & 130551371 & 22221.5 & 25141.6 & 0.796703 & $\\dots$ \\\\\n",
       "\t9 & 5974 & 5875 & 130551371 & 22221.5 & 25141.6 & 0.796703 & $\\dots$ \\\\\n",
       "\t10 & 5974 & 5875 & 130551371 & 22221.5 & 25141.6 & 0.796703 & $\\dots$ \\\\\n",
       "\t11 & 5974 & 5875 & 130551371 & 22221.5 & 25141.6 & 0.796703 & $\\dots$ \\\\\n",
       "\t12 & 5974 & 5875 & 130551371 & 22221.5 & 25141.6 & 0.796703 & $\\dots$ \\\\\n",
       "\t13 & 976 & 2434 & 122770884 & 50440.0 & 20574.0 & 0.749222 & $\\dots$ \\\\\n",
       "\t14 & 976 & 2434 & 122770884 & 50440.0 & 20574.0 & 0.749222 & $\\dots$ \\\\\n",
       "\t15 & 3234 & 2101 & 77960375 & 37106.3 & 12919.9 & 0.475761 & $\\dots$ \\\\\n",
       "\t16 & 3234 & 2101 & 77960375 & 37106.3 & 12919.9 & 0.475761 & $\\dots$ \\\\\n",
       "\t17 & 807 & 1278 & 72457356 & 56695.9 & 78575.1 & 0.442178 & $\\dots$ \\\\\n",
       "\t18 & 807 & 1278 & 72457356 & 56695.9 & 78575.1 & 0.442178 & $\\dots$ \\\\\n",
       "\t19 & 807 & 1278 & 72457356 & 56695.9 & 78575.1 & 0.442178 & $\\dots$ \\\\\n",
       "\t20 & 6580 & 3499 & 69145770 & 19761.6 & 27895.7 & 0.421969 & $\\dots$ \\\\\n",
       "\t21 & 6580 & 3499 & 69145770 & 19761.6 & 27895.7 & 0.421969 & $\\dots$ \\\\\n",
       "\t22 & 6580 & 3499 & 69145770 & 19761.6 & 27895.7 & 0.421969 & $\\dots$ \\\\\n",
       "\t23 & 6580 & 3499 & 69145770 & 19761.6 & 27895.7 & 0.421969 & $\\dots$ \\\\\n",
       "\t24 & 6580 & 3499 & 69145770 & 19761.6 & 27895.7 & 0.421969 & $\\dots$ \\\\\n",
       "\t25 & 6580 & 3499 & 69145770 & 19761.6 & 27895.7 & 0.421969 & $\\dots$ \\\\\n",
       "\t26 & 6580 & 3499 & 69145770 & 19761.6 & 27895.7 & 0.421969 & $\\dots$ \\\\\n",
       "\t27 & 2025 & 9403 & 58502697 & 6221.71 & 6021.15 & 0.357019 & $\\dots$ \\\\\n",
       "\t28 & 2025 & 9403 & 58502697 & 6221.71 & 6021.15 & 0.357019 & $\\dots$ \\\\\n",
       "\t29 & 3035 & 2341 & 47126741 & 20131.0 & 12861.2 & 0.287596 & $\\dots$ \\\\\n",
       "\t30 & 4788 & 1895 & 37812053 & 19953.6 & 5431.24 & 0.230752 & $\\dots$ \\\\\n",
       "\t$\\dots$ & $\\dots$ & $\\dots$ & $\\dots$ & $\\dots$ & $\\dots$ & $\\dots$ &  \\\\\n",
       "\\end{tabular}\n"
      ],
      "text/plain": [
       "\u001b[1m2432×24 DataFrame\u001b[0m\n",
       "\u001b[1m  Row \u001b[0m│\u001b[1m Contig \u001b[0m\u001b[1m Length \u001b[0m\u001b[1m Mapped bases \u001b[0m\u001b[1m Mean coverage \u001b[0m\u001b[1m Standard Deviation \u001b[0m\u001b[1m % Map\u001b[0m ⋯\n",
       "      │\u001b[90m Int64  \u001b[0m\u001b[90m Int64  \u001b[0m\u001b[90m Int64        \u001b[0m\u001b[90m Float64       \u001b[0m\u001b[90m Float64            \u001b[0m\u001b[90m Float\u001b[0m ⋯\n",
       "──────┼─────────────────────────────────────────────────────────────────────────\n",
       "    1 │   5078    4564     177445068   38879.3             48292.9           1 ⋯\n",
       "    2 │   5078    4564     177445068   38879.3             48292.9           1\n",
       "    3 │   5078    4564     177445068   38879.3             48292.9           1\n",
       "    4 │   5078    4564     177445068   38879.3             48292.9           1\n",
       "    5 │   5078    4564     177445068   38879.3             48292.9           1 ⋯\n",
       "    6 │   7416    4287     142720790   33291.5             20659.6           0\n",
       "    7 │   7416    4287     142720790   33291.5             20659.6           0\n",
       "    8 │   5974    5875     130551371   22221.5             25141.6           0\n",
       "    9 │   5974    5875     130551371   22221.5             25141.6           0 ⋯\n",
       "   10 │   5974    5875     130551371   22221.5             25141.6           0\n",
       "   11 │   5974    5875     130551371   22221.5             25141.6           0\n",
       "  ⋮   │   ⋮       ⋮          ⋮              ⋮                ⋮                 ⋱\n",
       " 2423 │   6413     281           416       1.48043             1.30717       2\n",
       " 2424 │   6413     281           416       1.48043             1.30717       2 ⋯\n",
       " 2425 │   6413     281           416       1.48043             1.30717       2\n",
       " 2426 │   1710     207           382       1.84541             1.37446       2\n",
       " 2427 │   1710     207           382       1.84541             1.37446       2\n",
       " 2428 │   7378     306           297       0.970588            0.617647      1 ⋯\n",
       " 2429 │   7378     306           297       0.970588            0.617647      1\n",
       " 2430 │    325     248           216       0.870968            1.20126       1\n",
       " 2431 │   6072     211           122       0.578199            1.15906       7\n",
       " 2432 │   6072     211           122       0.578199            1.15906       7 ⋯\n",
       "\u001b[36m                                                19 columns and 2411 rows omitted\u001b[0m"
      ]
     },
     "execution_count": 14,
     "metadata": {},
     "output_type": "execute_result"
    }
   ],
   "source": [
    "contig_info_table = DataFrames.DataFrame(uCSV.read(contig_info_file, delim='\\t', header=1)...)\n",
    "viral_contig_table = contig_info_table[map(x -> !isempty(x) && (x in viral_taxon_ids), contig_info_table[!, \"subject tax id\"]), :]"
   ]
  },
  {
   "cell_type": "code",
   "execution_count": 16,
   "id": "e906faa1-1acf-4762-bec2-a9484526517a",
   "metadata": {},
   "outputs": [
    {
     "data": {
      "text/plain": [
       "Set{String} with 900 elements:\n",
       "  \"7443\"\n",
       "  \"1695\"\n",
       "  \"475\"\n",
       "  \"4279\"\n",
       "  \"3548\"\n",
       "  \"5204\"\n",
       "  \"5581\"\n",
       "  \"7395\"\n",
       "  \"1062\"\n",
       "  \"1470\"\n",
       "  \"3497\"\n",
       "  \"4330\"\n",
       "  \"5944\"\n",
       "  \"332\"\n",
       "  \"4500\"\n",
       "  \"2284\"\n",
       "  \"4937\"\n",
       "  \"5492\"\n",
       "  \"2717\"\n",
       "  \"5830\"\n",
       "  \"6493\"\n",
       "  \"3408\"\n",
       "  \"6780\"\n",
       "  \"3215\"\n",
       "  \"289\"\n",
       "  ⋮ "
      ]
     },
     "execution_count": 16,
     "metadata": {},
     "output_type": "execute_result"
    }
   ],
   "source": [
    "viral_contigs = Set(string.(unique(viral_contig_table[!, \"Contig\"])))\n",
    "# viral_contigs_file = \"viral-contigs.txt\"\n",
    "# open(viral_contigs_file, \"w\") do io\n",
    "#     for c in sort(collect(viral_contigs))\n",
    "#         println(io, c)\n",
    "#     end\n",
    "# end"
   ]
  },
  {
   "cell_type": "code",
   "execution_count": 18,
   "id": "77a511a1-9112-424d-a75e-63a05c990bb4",
   "metadata": {},
   "outputs": [
    {
     "data": {
      "text/plain": [
       "Set{String} with 6559784 elements:\n",
       "  \"SRR6399459.53355486\"\n",
       "  \"SRR6399459.4264522\"\n",
       "  \"SRR6399459.232642\"\n",
       "  \"SRR6399459.20487110\"\n",
       "  \"SRR6399459.2430738\"\n",
       "  \"SRR6399459.4477130\"\n",
       "  \"SRR6399459.4984566\"\n",
       "  \"SRR6399459.1962832\"\n",
       "  \"SRR6399459.4299344\"\n",
       "  \"SRR6399459.6431134\"\n",
       "  \"SRR6399459.4743887\"\n",
       "  \"SRR6399459.1631937\"\n",
       "  \"SRR6399459.28366057\"\n",
       "  \"SRR6399459.1677658\"\n",
       "  \"SRR6399459.3913095\"\n",
       "  \"SRR6399459.1655641\"\n",
       "  \"SRR6399459.4400531\"\n",
       "  \"SRR6399459.4020534\"\n",
       "  \"SRR6399459.3357950\"\n",
       "  \"SRR6399459.4064551\"\n",
       "  \"SRR6399459.2273328\"\n",
       "  \"SRR6399459.5194330\"\n",
       "  \"SRR6399459.3190925\"\n",
       "  \"SRR6399459.240640\"\n",
       "  \"SRR6399459.3330294\"\n",
       "  ⋮ "
      ]
     },
     "execution_count": 18,
     "metadata": {},
     "output_type": "execute_result"
    }
   ],
   "source": [
    "function determine_reads_of_interest(bamfile, contigs_of_interest)\n",
    "    reads_of_interest = Set{String}()\n",
    "    reader = open(XAM.BAM.Reader, bamfile)\n",
    "    for record in reader\n",
    "        if XAM.BAM.ismapped(record) && (XAM.BAM.refname(record) in contigs_of_interest)\n",
    "            push!(reads_of_interest, XAM.BAM.tempname(record))\n",
    "        end\n",
    "    end\n",
    "    close(reader)\n",
    "    return reads_of_interest\n",
    "end\n",
    "\n",
    "bamfile = first(filter(x -> occursin(r\"\\.bam$\", x), readdir(joinpath(SRR_dir, \"megahit\"), join=true)))\n",
    "\n",
    "@time reads_of_interest = determine_reads_of_interest(bamfile, viral_contigs)"
   ]
  },
  {
   "cell_type": "code",
   "execution_count": 19,
   "id": "247641f4-a1f1-46df-8d4d-fb579041983e",
   "metadata": {},
   "outputs": [
    {
     "data": {
      "text/html": [
       "<div><div style = \"float: left;\"><span>6559784×6 DataFrame</span></div><div style = \"float: right;\"><span style = \"font-style: italic;\">6559759 rows omitted</span></div><div style = \"clear: both;\"></div></div><div class = \"data-frame\" style = \"overflow-x: scroll;\"><table class = \"data-frame\" style = \"margin-bottom: 6px;\"><thead><tr class = \"header\"><th class = \"rowNumber\" style = \"font-weight: bold; text-align: right;\">Row</th><th style = \"text-align: left;\">classification status</th><th style = \"text-align: left;\">sequence ID</th><th style = \"text-align: left;\">taxon ID</th><th style = \"text-align: left;\">sequence length</th><th style = \"text-align: left;\">LCA mappings</th><th style = \"text-align: left;\">parsed taxon ID</th></tr><tr class = \"subheader headerLastRow\"><th class = \"rowNumber\" style = \"font-weight: bold; text-align: right;\"></th><th title = \"String\" style = \"text-align: left;\">String</th><th title = \"String\" style = \"text-align: left;\">String</th><th title = \"String\" style = \"text-align: left;\">String</th><th title = \"String\" style = \"text-align: left;\">String</th><th title = \"String\" style = \"text-align: left;\">String</th><th title = \"SubString{String}\" style = \"text-align: left;\">SubStrin…</th></tr></thead><tbody><tr><td class = \"rowNumber\" style = \"font-weight: bold; text-align: right;\">1</td><td style = \"text-align: left;\">C</td><td style = \"text-align: left;\">SRR6399459.1</td><td style = \"text-align: left;\">Homo sapiens (taxid 9606)</td><td style = \"text-align: left;\">150|109</td><td style = \"text-align: left;\">9606:116 |:| 0:59 131567:3 0:13</td><td style = \"text-align: left;\">9606</td></tr><tr><td class = \"rowNumber\" style = \"font-weight: bold; text-align: right;\">2</td><td style = \"text-align: left;\">C</td><td style = \"text-align: left;\">SRR6399459.7</td><td style = \"text-align: left;\">Homo sapiens (taxid 9606)</td><td style = \"text-align: left;\">150|36</td><td style = \"text-align: left;\">9606:14 0:102 |:| 9606:2</td><td style = \"text-align: left;\">9606</td></tr><tr><td class = \"rowNumber\" style = \"font-weight: bold; text-align: right;\">3</td><td style = \"text-align: left;\">C</td><td style = \"text-align: left;\">SRR6399459.15</td><td style = \"text-align: left;\">Homo sapiens (taxid 9606)</td><td style = \"text-align: left;\">89|148</td><td style = \"text-align: left;\">9606:2 2759:2 1:5 2759:3 9606:5 0:21 9606:17 |:| 2759:2 9606:5 2759:1 9606:2 0:21 9606:5 2759:3 1:5 2759:2 9606:2 2759:5 9606:3 0:58</td><td style = \"text-align: left;\">9606</td></tr><tr><td class = \"rowNumber\" style = \"font-weight: bold; text-align: right;\">4</td><td style = \"text-align: left;\">C</td><td style = \"text-align: left;\">SRR6399459.16</td><td style = \"text-align: left;\">Homo sapiens (taxid 9606)</td><td style = \"text-align: left;\">151|151</td><td style = \"text-align: left;\">2759:4 9606:52 2759:2 131567:10 2759:9 9606:5 2759:1 9606:2 0:22 5855:4 2759:6 |:| 9606:5 0:5 9606:1 0:44 9606:6 0:6 9606:5 0:29 9606:10 0:2 9606:4</td><td style = \"text-align: left;\">9606</td></tr><tr><td class = \"rowNumber\" style = \"font-weight: bold; text-align: right;\">5</td><td style = \"text-align: left;\">C</td><td style = \"text-align: left;\">SRR6399459.18</td><td style = \"text-align: left;\">Homo sapiens (taxid 9606)</td><td style = \"text-align: left;\">151|151</td><td style = \"text-align: left;\">0:117 |:| 0:57 9606:22 0:1 9606:13 0:24</td><td style = \"text-align: left;\">9606</td></tr><tr><td class = \"rowNumber\" style = \"font-weight: bold; text-align: right;\">6</td><td style = \"text-align: left;\">C</td><td style = \"text-align: left;\">SRR6399459.19</td><td style = \"text-align: left;\">Homo sapiens (taxid 9606)</td><td style = \"text-align: left;\">150|151</td><td style = \"text-align: left;\">0:116 |:| 0:70 9606:1 0:11 9606:2 0:9 9606:24</td><td style = \"text-align: left;\">9606</td></tr><tr><td class = \"rowNumber\" style = \"font-weight: bold; text-align: right;\">7</td><td style = \"text-align: left;\">C</td><td style = \"text-align: left;\">SRR6399459.20</td><td style = \"text-align: left;\">Homo sapiens (taxid 9606)</td><td style = \"text-align: left;\">151|148</td><td style = \"text-align: left;\">0:62 9606:32 0:2 714518:2 89674:5 0:14 |:| 0:114</td><td style = \"text-align: left;\">9606</td></tr><tr><td class = \"rowNumber\" style = \"font-weight: bold; text-align: right;\">8</td><td style = \"text-align: left;\">C</td><td style = \"text-align: left;\">SRR6399459.21</td><td style = \"text-align: left;\">Homo sapiens (taxid 9606)</td><td style = \"text-align: left;\">151|149</td><td style = \"text-align: left;\">0:117 |:| 0:22 9606:20 229533:2 0:71</td><td style = \"text-align: left;\">9606</td></tr><tr><td class = \"rowNumber\" style = \"font-weight: bold; text-align: right;\">9</td><td style = \"text-align: left;\">C</td><td style = \"text-align: left;\">SRR6399459.36</td><td style = \"text-align: left;\">Homo sapiens (taxid 9606)</td><td style = \"text-align: left;\">149|151</td><td style = \"text-align: left;\">9606:48 0:27 9606:5 0:1 9606:34 |:| 9606:2 0:13 9606:5 2759:7 9606:31 0:37 9606:8 0:4 9606:5 0:3 9606:2</td><td style = \"text-align: left;\">9606</td></tr><tr><td class = \"rowNumber\" style = \"font-weight: bold; text-align: right;\">10</td><td style = \"text-align: left;\">C</td><td style = \"text-align: left;\">SRR6399459.37</td><td style = \"text-align: left;\">Homo sapiens (taxid 9606)</td><td style = \"text-align: left;\">149|82</td><td style = \"text-align: left;\">9606:48 0:27 9606:5 0:1 9606:34 |:| 9606:2 0:13 9606:5 2759:7 9606:21</td><td style = \"text-align: left;\">9606</td></tr><tr><td class = \"rowNumber\" style = \"font-weight: bold; text-align: right;\">11</td><td style = \"text-align: left;\">C</td><td style = \"text-align: left;\">SRR6399459.53</td><td style = \"text-align: left;\">Homo sapiens (taxid 9606)</td><td style = \"text-align: left;\">150|151</td><td style = \"text-align: left;\">9606:116 |:| 0:61 3755:3 0:7 158386:3 0:10 3817:2 0:31</td><td style = \"text-align: left;\">9606</td></tr><tr><td class = \"rowNumber\" style = \"font-weight: bold; text-align: right;\">12</td><td style = \"text-align: left;\">C</td><td style = \"text-align: left;\">SRR6399459.54</td><td style = \"text-align: left;\">Homo sapiens (taxid 9606)</td><td style = \"text-align: left;\">151|55</td><td style = \"text-align: left;\">9606:99 0:18 |:| 0:20 9606:1</td><td style = \"text-align: left;\">9606</td></tr><tr><td class = \"rowNumber\" style = \"font-weight: bold; text-align: right;\">13</td><td style = \"text-align: left;\">U</td><td style = \"text-align: left;\">SRR6399459.55</td><td style = \"text-align: left;\">unclassified (taxid 0)</td><td style = \"text-align: left;\">149|42</td><td style = \"text-align: left;\">0:115 |:| 9606:4 0:4</td><td style = \"text-align: left;\">0</td></tr><tr><td style = \"text-align: right;\">&vellip;</td><td style = \"text-align: right;\">&vellip;</td><td style = \"text-align: right;\">&vellip;</td><td style = \"text-align: right;\">&vellip;</td><td style = \"text-align: right;\">&vellip;</td><td style = \"text-align: right;\">&vellip;</td><td style = \"text-align: right;\">&vellip;</td></tr><tr><td class = \"rowNumber\" style = \"font-weight: bold; text-align: right;\">6559773</td><td style = \"text-align: left;\">U</td><td style = \"text-align: left;\">SRR6399459.56809648</td><td style = \"text-align: left;\">unclassified (taxid 0)</td><td style = \"text-align: left;\">149|147</td><td style = \"text-align: left;\">0:115 |:| 0:113</td><td style = \"text-align: left;\">0</td></tr><tr><td class = \"rowNumber\" style = \"font-weight: bold; text-align: right;\">6559774</td><td style = \"text-align: left;\">C</td><td style = \"text-align: left;\">SRR6399459.56809723</td><td style = \"text-align: left;\">root (taxid 1)</td><td style = \"text-align: left;\">151|151</td><td style = \"text-align: left;\">1:117 |:| 1:46 0:25 1:2 0:1 1:27 0:14 1:2</td><td style = \"text-align: left;\">1</td></tr><tr><td class = \"rowNumber\" style = \"font-weight: bold; text-align: right;\">6559775</td><td style = \"text-align: left;\">U</td><td style = \"text-align: left;\">SRR6399459.56809734</td><td style = \"text-align: left;\">unclassified (taxid 0)</td><td style = \"text-align: left;\">150|145</td><td style = \"text-align: left;\">0:116 |:| 0:49 2304600:5 0:57</td><td style = \"text-align: left;\">0</td></tr><tr><td class = \"rowNumber\" style = \"font-weight: bold; text-align: right;\">6559776</td><td style = \"text-align: left;\">U</td><td style = \"text-align: left;\">SRR6399459.56809780</td><td style = \"text-align: left;\">unclassified (taxid 0)</td><td style = \"text-align: left;\">151|151</td><td style = \"text-align: left;\">0:107 94328:5 0:5 |:| 0:117</td><td style = \"text-align: left;\">0</td></tr><tr><td class = \"rowNumber\" style = \"font-weight: bold; text-align: right;\">6559777</td><td style = \"text-align: left;\">U</td><td style = \"text-align: left;\">SRR6399459.56809792</td><td style = \"text-align: left;\">unclassified (taxid 0)</td><td style = \"text-align: left;\">149|130</td><td style = \"text-align: left;\">0:115 |:| 0:96</td><td style = \"text-align: left;\">0</td></tr><tr><td class = \"rowNumber\" style = \"font-weight: bold; text-align: right;\">6559778</td><td style = \"text-align: left;\">U</td><td style = \"text-align: left;\">SRR6399459.56809797</td><td style = \"text-align: left;\">unclassified (taxid 0)</td><td style = \"text-align: left;\">150|148</td><td style = \"text-align: left;\">0:116 |:| 0:114</td><td style = \"text-align: left;\">0</td></tr><tr><td class = \"rowNumber\" style = \"font-weight: bold; text-align: right;\">6559779</td><td style = \"text-align: left;\">U</td><td style = \"text-align: left;\">SRR6399459.56809829</td><td style = \"text-align: left;\">unclassified (taxid 0)</td><td style = \"text-align: left;\">151|149</td><td style = \"text-align: left;\">0:117 |:| 0:115</td><td style = \"text-align: left;\">0</td></tr><tr><td class = \"rowNumber\" style = \"font-weight: bold; text-align: right;\">6559780</td><td style = \"text-align: left;\">U</td><td style = \"text-align: left;\">SRR6399459.56809832</td><td style = \"text-align: left;\">unclassified (taxid 0)</td><td style = \"text-align: left;\">144|150</td><td style = \"text-align: left;\">0:110 |:| 0:116</td><td style = \"text-align: left;\">0</td></tr><tr><td class = \"rowNumber\" style = \"font-weight: bold; text-align: right;\">6559781</td><td style = \"text-align: left;\">C</td><td style = \"text-align: left;\">SRR6399459.56809862</td><td style = \"text-align: left;\">Hordeum vulgare subsp. vulgare (taxid 112509)</td><td style = \"text-align: left;\">151|150</td><td style = \"text-align: left;\">0:18 112509:5 0:94 |:| 0:75 112509:5 0:36</td><td style = \"text-align: left;\">112509</td></tr><tr><td class = \"rowNumber\" style = \"font-weight: bold; text-align: right;\">6559782</td><td style = \"text-align: left;\">U</td><td style = \"text-align: left;\">SRR6399459.56809907</td><td style = \"text-align: left;\">unclassified (taxid 0)</td><td style = \"text-align: left;\">148|151</td><td style = \"text-align: left;\">0:114 |:| 0:117</td><td style = \"text-align: left;\">0</td></tr><tr><td class = \"rowNumber\" style = \"font-weight: bold; text-align: right;\">6559783</td><td style = \"text-align: left;\">U</td><td style = \"text-align: left;\">SRR6399459.56809909</td><td style = \"text-align: left;\">unclassified (taxid 0)</td><td style = \"text-align: left;\">151|151</td><td style = \"text-align: left;\">0:117 |:| 0:117</td><td style = \"text-align: left;\">0</td></tr><tr><td class = \"rowNumber\" style = \"font-weight: bold; text-align: right;\">6559784</td><td style = \"text-align: left;\">U</td><td style = \"text-align: left;\">SRR6399459.56809918</td><td style = \"text-align: left;\">unclassified (taxid 0)</td><td style = \"text-align: left;\">151|151</td><td style = \"text-align: left;\">0:117 |:| 0:108 112509:5 0:4</td><td style = \"text-align: left;\">0</td></tr></tbody></table></div>"
      ],
      "text/latex": [
       "\\begin{tabular}{r|cccc}\n",
       "\t& classification status & sequence ID & taxon ID & \\\\\n",
       "\t\\hline\n",
       "\t& String & String & String & \\\\\n",
       "\t\\hline\n",
       "\t1 & C & SRR6399459.1 & Homo sapiens (taxid 9606) & $\\dots$ \\\\\n",
       "\t2 & C & SRR6399459.7 & Homo sapiens (taxid 9606) & $\\dots$ \\\\\n",
       "\t3 & C & SRR6399459.15 & Homo sapiens (taxid 9606) & $\\dots$ \\\\\n",
       "\t4 & C & SRR6399459.16 & Homo sapiens (taxid 9606) & $\\dots$ \\\\\n",
       "\t5 & C & SRR6399459.18 & Homo sapiens (taxid 9606) & $\\dots$ \\\\\n",
       "\t6 & C & SRR6399459.19 & Homo sapiens (taxid 9606) & $\\dots$ \\\\\n",
       "\t7 & C & SRR6399459.20 & Homo sapiens (taxid 9606) & $\\dots$ \\\\\n",
       "\t8 & C & SRR6399459.21 & Homo sapiens (taxid 9606) & $\\dots$ \\\\\n",
       "\t9 & C & SRR6399459.36 & Homo sapiens (taxid 9606) & $\\dots$ \\\\\n",
       "\t10 & C & SRR6399459.37 & Homo sapiens (taxid 9606) & $\\dots$ \\\\\n",
       "\t11 & C & SRR6399459.53 & Homo sapiens (taxid 9606) & $\\dots$ \\\\\n",
       "\t12 & C & SRR6399459.54 & Homo sapiens (taxid 9606) & $\\dots$ \\\\\n",
       "\t13 & U & SRR6399459.55 & unclassified (taxid 0) & $\\dots$ \\\\\n",
       "\t14 & U & SRR6399459.56 & unclassified (taxid 0) & $\\dots$ \\\\\n",
       "\t15 & C & SRR6399459.62 & Homo sapiens (taxid 9606) & $\\dots$ \\\\\n",
       "\t16 & C & SRR6399459.63 & Homo sapiens (taxid 9606) & $\\dots$ \\\\\n",
       "\t17 & C & SRR6399459.64 & Homo sapiens (taxid 9606) & $\\dots$ \\\\\n",
       "\t18 & C & SRR6399459.86 & Homo sapiens (taxid 9606) & $\\dots$ \\\\\n",
       "\t19 & C & SRR6399459.87 & Homo sapiens (taxid 9606) & $\\dots$ \\\\\n",
       "\t20 & C & SRR6399459.104 & Homo sapiens (taxid 9606) & $\\dots$ \\\\\n",
       "\t21 & C & SRR6399459.105 & Thermothelomyces thermophilus ATCC 42464 (taxid 573729) & $\\dots$ \\\\\n",
       "\t22 & C & SRR6399459.106 & Homo sapiens (taxid 9606) & $\\dots$ \\\\\n",
       "\t23 & C & SRR6399459.109 & Aspergillus fumigatus Af293 (taxid 330879) & $\\dots$ \\\\\n",
       "\t24 & C & SRR6399459.110 & Homo sapiens (taxid 9606) & $\\dots$ \\\\\n",
       "\t25 & C & SRR6399459.114 & Homo sapiens (taxid 9606) & $\\dots$ \\\\\n",
       "\t26 & C & SRR6399459.117 & Homo sapiens (taxid 9606) & $\\dots$ \\\\\n",
       "\t27 & C & SRR6399459.118 & Homo sapiens (taxid 9606) & $\\dots$ \\\\\n",
       "\t28 & C & SRR6399459.130 & Homo sapiens (taxid 9606) & $\\dots$ \\\\\n",
       "\t29 & C & SRR6399459.131 & Homo sapiens (taxid 9606) & $\\dots$ \\\\\n",
       "\t30 & C & SRR6399459.132 & Homo sapiens (taxid 9606) & $\\dots$ \\\\\n",
       "\t$\\dots$ & $\\dots$ & $\\dots$ & $\\dots$ &  \\\\\n",
       "\\end{tabular}\n"
      ],
      "text/plain": [
       "\u001b[1m6559784×6 DataFrame\u001b[0m\n",
       "\u001b[1m     Row \u001b[0m│\u001b[1m classification status \u001b[0m\u001b[1m sequence ID         \u001b[0m\u001b[1m taxon ID               \u001b[0m ⋯\n",
       "         │\u001b[90m String                \u001b[0m\u001b[90m String              \u001b[0m\u001b[90m String                 \u001b[0m ⋯\n",
       "─────────┼──────────────────────────────────────────────────────────────────────\n",
       "       1 │ C                      SRR6399459.1         Homo sapiens (taxid 960 ⋯\n",
       "       2 │ C                      SRR6399459.7         Homo sapiens (taxid 960\n",
       "       3 │ C                      SRR6399459.15        Homo sapiens (taxid 960\n",
       "       4 │ C                      SRR6399459.16        Homo sapiens (taxid 960\n",
       "       5 │ C                      SRR6399459.18        Homo sapiens (taxid 960 ⋯\n",
       "       6 │ C                      SRR6399459.19        Homo sapiens (taxid 960\n",
       "       7 │ C                      SRR6399459.20        Homo sapiens (taxid 960\n",
       "       8 │ C                      SRR6399459.21        Homo sapiens (taxid 960\n",
       "       9 │ C                      SRR6399459.36        Homo sapiens (taxid 960 ⋯\n",
       "      10 │ C                      SRR6399459.37        Homo sapiens (taxid 960\n",
       "      11 │ C                      SRR6399459.53        Homo sapiens (taxid 960\n",
       "    ⋮    │           ⋮                     ⋮                           ⋮       ⋱\n",
       " 6559775 │ U                      SRR6399459.56809734  unclassified (taxid 0)\n",
       " 6559776 │ U                      SRR6399459.56809780  unclassified (taxid 0)  ⋯\n",
       " 6559777 │ U                      SRR6399459.56809792  unclassified (taxid 0)\n",
       " 6559778 │ U                      SRR6399459.56809797  unclassified (taxid 0)\n",
       " 6559779 │ U                      SRR6399459.56809829  unclassified (taxid 0)\n",
       " 6559780 │ U                      SRR6399459.56809832  unclassified (taxid 0)  ⋯\n",
       " 6559781 │ C                      SRR6399459.56809862  Hordeum vulgare subsp.\n",
       " 6559782 │ U                      SRR6399459.56809907  unclassified (taxid 0)\n",
       " 6559783 │ U                      SRR6399459.56809909  unclassified (taxid 0)\n",
       " 6559784 │ U                      SRR6399459.56809918  unclassified (taxid 0)  ⋯\n",
       "\u001b[36m                                              4 columns and 6559763 rows omitted\u001b[0m"
      ]
     },
     "execution_count": 19,
     "metadata": {},
     "output_type": "execute_result"
    }
   ],
   "source": [
    "function read_kraken_output(kraken_output)\n",
    "    # read_kraken_report\n",
    "    header = [\n",
    "        \"classification status\",\n",
    "        \"sequence ID\",\n",
    "        \"taxon ID\",\n",
    "        \"sequence length\",\n",
    "        \"LCA mappings\"\n",
    "    ]\n",
    "    data, _ = uCSV.read(IOBuffer(join(filtered_lines, '\\n')), delim='\\t')\n",
    "    return DataFrames.DataFrame(data, header)\n",
    "end\n",
    "\n",
    "kraken_output = last(filter(x -> occursin(r\"\\.kraken-output\\.tsv\", x), readdir(kraken_dir, join=true)))\n",
    "if occursin(r\"\\.gz\", kraken_output)\n",
    "    kraken_buffer = open(`gzip -dc $(kraken_output)`)\n",
    "else\n",
    "    kraken_buffer = open(kraken_output)\n",
    "end\n",
    "\n",
    "filtered_lines = String[]\n",
    "for line in eachline(kraken_buffer)\n",
    "    split_line = split(line, '\\t')\n",
    "    if split_line[2] in reads_of_interest\n",
    "        push!(filtered_lines, line)\n",
    "    end\n",
    "end\n",
    "close(kraken_buffer)\n",
    "\n",
    "read_classifications = read_kraken_output(IOBuffer(join(filtered_lines, '\\n')))\n",
    "read_classifications[!, \"parsed taxon ID\"] = map(x -> match(r\"\\(taxid (\\d+)\\)\", x).captures[1], read_classifications[!, \"taxon ID\"])\n",
    "read_classifications"
   ]
  },
  {
   "cell_type": "code",
   "execution_count": 20,
   "id": "e90cca24-c5b5-434d-9bf8-c48dfb7cce57",
   "metadata": {},
   "outputs": [
    {
     "data": {
      "text/plain": [
       "6559784"
      ]
     },
     "execution_count": 20,
     "metadata": {},
     "output_type": "execute_result"
    }
   ],
   "source": [
    "total_reads = parse(Int, rstrip(read(pipeline(`samtools view $(bamfile)`, `wc -l`), String)))\n",
    "# total_reads = 119683439\n",
    "total_reads_classified_by_blast_as_viral = length(reads_of_interest)"
   ]
  },
  {
   "cell_type": "code",
   "execution_count": 21,
   "id": "3a0b4e9b-a6b4-479a-800c-4035a890bbe9",
   "metadata": {},
   "outputs": [
    {
     "data": {
      "text/plain": [
       "0.05480945446428891"
      ]
     },
     "execution_count": 21,
     "metadata": {},
     "output_type": "execute_result"
    }
   ],
   "source": [
    "total_reads_classified_by_blast_as_viral / total_reads"
   ]
  },
  {
   "cell_type": "code",
   "execution_count": 22,
   "id": "65f46b5b-5500-49e3-a12d-b85e1014717d",
   "metadata": {},
   "outputs": [
    {
     "data": {
      "text/plain": [
       "\"/home/jovyan/work/Mycelia/projects/viral-pangenome-discovery/data/SRA/SRR6399459/kraken/SRR6399459.k2_pluspfp_20221209.kraken-report.tsv\""
      ]
     },
     "execution_count": 22,
     "metadata": {},
     "output_type": "execute_result"
    }
   ],
   "source": [
    "kraken_report = last(filter(x -> occursin(r\"\\.kraken-report\\.tsv$\", x), readdir(kraken_dir, join=true)))"
   ]
  },
  {
   "cell_type": "code",
   "execution_count": 23,
   "id": "f52c659d-9c3a-4319-9c4d-cba18e027783",
   "metadata": {},
   "outputs": [
    {
     "data": {
      "text/html": [
       "<div><div style = \"float: left;\"><span>39056×6 DataFrame</span></div><div style = \"float: right;\"><span style = \"font-style: italic;\">39031 rows omitted</span></div><div style = \"clear: both;\"></div></div><div class = \"data-frame\" style = \"overflow-x: scroll;\"><table class = \"data-frame\" style = \"margin-bottom: 6px;\"><thead><tr class = \"header\"><th class = \"rowNumber\" style = \"font-weight: bold; text-align: right;\">Row</th><th style = \"text-align: left;\">percentage_of_fragments_at_or_below_taxon</th><th style = \"text-align: left;\">number_of_fragments_at_or_below_taxon</th><th style = \"text-align: left;\">number_of_fragments_assigned_directly_to_taxon</th><th style = \"text-align: left;\">rank</th><th style = \"text-align: left;\">ncbi_taxonid</th><th style = \"text-align: left;\">scientific_name</th></tr><tr class = \"subheader headerLastRow\"><th class = \"rowNumber\" style = \"font-weight: bold; text-align: right;\"></th><th title = \"Float64\" style = \"text-align: left;\">Float64</th><th title = \"Int64\" style = \"text-align: left;\">Int64</th><th title = \"Int64\" style = \"text-align: left;\">Int64</th><th title = \"String\" style = \"text-align: left;\">String</th><th title = \"Int64\" style = \"text-align: left;\">Int64</th><th title = \"String\" style = \"text-align: left;\">String</th></tr></thead><tbody><tr><td class = \"rowNumber\" style = \"font-weight: bold; text-align: right;\">1</td><td style = \"text-align: right;\">78.98</td><td style = \"text-align: right;\">44867639</td><td style = \"text-align: right;\">44867639</td><td style = \"text-align: left;\">U</td><td style = \"text-align: right;\">0</td><td style = \"text-align: left;\">unclassified</td></tr><tr><td class = \"rowNumber\" style = \"font-weight: bold; text-align: right;\">2</td><td style = \"text-align: right;\">21.02</td><td style = \"text-align: right;\">11939597</td><td style = \"text-align: right;\">50095</td><td style = \"text-align: left;\">R</td><td style = \"text-align: right;\">1</td><td style = \"text-align: left;\">root</td></tr><tr><td class = \"rowNumber\" style = \"font-weight: bold; text-align: right;\">3</td><td style = \"text-align: right;\">20.93</td><td style = \"text-align: right;\">11888990</td><td style = \"text-align: right;\">52111</td><td style = \"text-align: left;\">R1</td><td style = \"text-align: right;\">131567</td><td style = \"text-align: left;\">  cellular organisms</td></tr><tr><td class = \"rowNumber\" style = \"font-weight: bold; text-align: right;\">4</td><td style = \"text-align: right;\">18.67</td><td style = \"text-align: right;\">10606176</td><td style = \"text-align: right;\">24456</td><td style = \"text-align: left;\">D</td><td style = \"text-align: right;\">2759</td><td style = \"text-align: left;\">    Eukaryota</td></tr><tr><td class = \"rowNumber\" style = \"font-weight: bold; text-align: right;\">5</td><td style = \"text-align: right;\">17.88</td><td style = \"text-align: right;\">10156381</td><td style = \"text-align: right;\">1164</td><td style = \"text-align: left;\">D1</td><td style = \"text-align: right;\">33154</td><td style = \"text-align: left;\">      Opisthokonta</td></tr><tr><td class = \"rowNumber\" style = \"font-weight: bold; text-align: right;\">6</td><td style = \"text-align: right;\">15.04</td><td style = \"text-align: right;\">8544188</td><td style = \"text-align: right;\">0</td><td style = \"text-align: left;\">K</td><td style = \"text-align: right;\">33208</td><td style = \"text-align: left;\">        Metazoa</td></tr><tr><td class = \"rowNumber\" style = \"font-weight: bold; text-align: right;\">7</td><td style = \"text-align: right;\">15.04</td><td style = \"text-align: right;\">8544188</td><td style = \"text-align: right;\">0</td><td style = \"text-align: left;\">K1</td><td style = \"text-align: right;\">6072</td><td style = \"text-align: left;\">          Eumetazoa</td></tr><tr><td class = \"rowNumber\" style = \"font-weight: bold; text-align: right;\">8</td><td style = \"text-align: right;\">15.04</td><td style = \"text-align: right;\">8544188</td><td style = \"text-align: right;\">0</td><td style = \"text-align: left;\">K2</td><td style = \"text-align: right;\">33213</td><td style = \"text-align: left;\">            Bilateria</td></tr><tr><td class = \"rowNumber\" style = \"font-weight: bold; text-align: right;\">9</td><td style = \"text-align: right;\">15.04</td><td style = \"text-align: right;\">8544188</td><td style = \"text-align: right;\">0</td><td style = \"text-align: left;\">K3</td><td style = \"text-align: right;\">33511</td><td style = \"text-align: left;\">              Deuterostomia</td></tr><tr><td class = \"rowNumber\" style = \"font-weight: bold; text-align: right;\">10</td><td style = \"text-align: right;\">15.04</td><td style = \"text-align: right;\">8544188</td><td style = \"text-align: right;\">0</td><td style = \"text-align: left;\">P</td><td style = \"text-align: right;\">7711</td><td style = \"text-align: left;\">                Chordata</td></tr><tr><td class = \"rowNumber\" style = \"font-weight: bold; text-align: right;\">11</td><td style = \"text-align: right;\">15.04</td><td style = \"text-align: right;\">8544188</td><td style = \"text-align: right;\">0</td><td style = \"text-align: left;\">P1</td><td style = \"text-align: right;\">89593</td><td style = \"text-align: left;\">                  Craniata</td></tr><tr><td class = \"rowNumber\" style = \"font-weight: bold; text-align: right;\">12</td><td style = \"text-align: right;\">15.04</td><td style = \"text-align: right;\">8544188</td><td style = \"text-align: right;\">0</td><td style = \"text-align: left;\">P2</td><td style = \"text-align: right;\">7742</td><td style = \"text-align: left;\">                    Vertebrata</td></tr><tr><td class = \"rowNumber\" style = \"font-weight: bold; text-align: right;\">13</td><td style = \"text-align: right;\">15.04</td><td style = \"text-align: right;\">8544188</td><td style = \"text-align: right;\">0</td><td style = \"text-align: left;\">P3</td><td style = \"text-align: right;\">7776</td><td style = \"text-align: left;\">                      Gnathostomata</td></tr><tr><td style = \"text-align: right;\">&vellip;</td><td style = \"text-align: right;\">&vellip;</td><td style = \"text-align: right;\">&vellip;</td><td style = \"text-align: right;\">&vellip;</td><td style = \"text-align: right;\">&vellip;</td><td style = \"text-align: right;\">&vellip;</td><td style = \"text-align: right;\">&vellip;</td></tr><tr><td class = \"rowNumber\" style = \"font-weight: bold; text-align: right;\">39045</td><td style = \"text-align: right;\">0.0</td><td style = \"text-align: right;\">0</td><td style = \"text-align: right;\">0</td><td style = \"text-align: left;\">S</td><td style = \"text-align: right;\">2641</td><td style = \"text-align: left;\">        Plasmid pTB913</td></tr><tr><td class = \"rowNumber\" style = \"font-weight: bold; text-align: right;\">39046</td><td style = \"text-align: right;\">0.0</td><td style = \"text-align: right;\">0</td><td style = \"text-align: right;\">0</td><td style = \"text-align: left;\">S</td><td style = \"text-align: right;\">2609</td><td style = \"text-align: left;\">        Plasmid pNG2</td></tr><tr><td class = \"rowNumber\" style = \"font-weight: bold; text-align: right;\">39047</td><td style = \"text-align: right;\">0.0</td><td style = \"text-align: right;\">0</td><td style = \"text-align: right;\">0</td><td style = \"text-align: left;\">S</td><td style = \"text-align: right;\">2468</td><td style = \"text-align: left;\">        Plasmid NR79</td></tr><tr><td class = \"rowNumber\" style = \"font-weight: bold; text-align: right;\">39048</td><td style = \"text-align: right;\">0.0</td><td style = \"text-align: right;\">0</td><td style = \"text-align: right;\">0</td><td style = \"text-align: left;\">S</td><td style = \"text-align: right;\">2575</td><td style = \"text-align: left;\">        Plasmid pIP630</td></tr><tr><td class = \"rowNumber\" style = \"font-weight: bold; text-align: right;\">39049</td><td style = \"text-align: right;\">0.0</td><td style = \"text-align: right;\">0</td><td style = \"text-align: right;\">0</td><td style = \"text-align: left;\">S</td><td style = \"text-align: right;\">2571</td><td style = \"text-align: left;\">        Plasmid pIP1527</td></tr><tr><td class = \"rowNumber\" style = \"font-weight: bold; text-align: right;\">39050</td><td style = \"text-align: right;\">0.0</td><td style = \"text-align: right;\">0</td><td style = \"text-align: right;\">0</td><td style = \"text-align: left;\">S</td><td style = \"text-align: right;\">2525</td><td style = \"text-align: left;\">        Plasmid pAZ1</td></tr><tr><td class = \"rowNumber\" style = \"font-weight: bold; text-align: right;\">39051</td><td style = \"text-align: right;\">0.0</td><td style = \"text-align: right;\">0</td><td style = \"text-align: right;\">0</td><td style = \"text-align: left;\">S</td><td style = \"text-align: right;\">2524</td><td style = \"text-align: left;\">        Plasmid pAM77</td></tr><tr><td class = \"rowNumber\" style = \"font-weight: bold; text-align: right;\">39052</td><td style = \"text-align: right;\">0.0</td><td style = \"text-align: right;\">0</td><td style = \"text-align: right;\">0</td><td style = \"text-align: left;\">S</td><td style = \"text-align: right;\">2508</td><td style = \"text-align: left;\">        Plasmid R</td></tr><tr><td class = \"rowNumber\" style = \"font-weight: bold; text-align: right;\">39053</td><td style = \"text-align: right;\">0.0</td><td style = \"text-align: right;\">0</td><td style = \"text-align: right;\">0</td><td style = \"text-align: left;\">S</td><td style = \"text-align: right;\">2503</td><td style = \"text-align: left;\">        Plasmid RP4</td></tr><tr><td class = \"rowNumber\" style = \"font-weight: bold; text-align: right;\">39054</td><td style = \"text-align: right;\">0.0</td><td style = \"text-align: right;\">0</td><td style = \"text-align: right;\">0</td><td style = \"text-align: left;\">S</td><td style = \"text-align: right;\">2488</td><td style = \"text-align: left;\">        Plasmid R46</td></tr><tr><td class = \"rowNumber\" style = \"font-weight: bold; text-align: right;\">39055</td><td style = \"text-align: right;\">0.0</td><td style = \"text-align: right;\">0</td><td style = \"text-align: right;\">0</td><td style = \"text-align: left;\">S</td><td style = \"text-align: right;\">2486</td><td style = \"text-align: left;\">        Plasmid R387</td></tr><tr><td class = \"rowNumber\" style = \"font-weight: bold; text-align: right;\">39056</td><td style = \"text-align: right;\">0.0</td><td style = \"text-align: right;\">0</td><td style = \"text-align: right;\">0</td><td style = \"text-align: left;\">S</td><td style = \"text-align: right;\">2474</td><td style = \"text-align: left;\">        Plasmid PDS075</td></tr></tbody></table></div>"
      ],
      "text/latex": [
       "\\begin{tabular}{r|ccc}\n",
       "\t& percentage\\_of\\_fragments\\_at\\_or\\_below\\_taxon & number\\_of\\_fragments\\_at\\_or\\_below\\_taxon & \\\\\n",
       "\t\\hline\n",
       "\t& Float64 & Int64 & \\\\\n",
       "\t\\hline\n",
       "\t1 & 78.98 & 44867639 & $\\dots$ \\\\\n",
       "\t2 & 21.02 & 11939597 & $\\dots$ \\\\\n",
       "\t3 & 20.93 & 11888990 & $\\dots$ \\\\\n",
       "\t4 & 18.67 & 10606176 & $\\dots$ \\\\\n",
       "\t5 & 17.88 & 10156381 & $\\dots$ \\\\\n",
       "\t6 & 15.04 & 8544188 & $\\dots$ \\\\\n",
       "\t7 & 15.04 & 8544188 & $\\dots$ \\\\\n",
       "\t8 & 15.04 & 8544188 & $\\dots$ \\\\\n",
       "\t9 & 15.04 & 8544188 & $\\dots$ \\\\\n",
       "\t10 & 15.04 & 8544188 & $\\dots$ \\\\\n",
       "\t11 & 15.04 & 8544188 & $\\dots$ \\\\\n",
       "\t12 & 15.04 & 8544188 & $\\dots$ \\\\\n",
       "\t13 & 15.04 & 8544188 & $\\dots$ \\\\\n",
       "\t14 & 15.04 & 8544188 & $\\dots$ \\\\\n",
       "\t15 & 15.04 & 8544188 & $\\dots$ \\\\\n",
       "\t16 & 15.04 & 8544188 & $\\dots$ \\\\\n",
       "\t17 & 15.04 & 8544188 & $\\dots$ \\\\\n",
       "\t18 & 15.04 & 8544188 & $\\dots$ \\\\\n",
       "\t19 & 15.04 & 8544188 & $\\dots$ \\\\\n",
       "\t20 & 15.04 & 8544188 & $\\dots$ \\\\\n",
       "\t21 & 15.04 & 8544188 & $\\dots$ \\\\\n",
       "\t22 & 15.04 & 8544188 & $\\dots$ \\\\\n",
       "\t23 & 15.04 & 8544188 & $\\dots$ \\\\\n",
       "\t24 & 15.04 & 8544188 & $\\dots$ \\\\\n",
       "\t25 & 15.04 & 8544188 & $\\dots$ \\\\\n",
       "\t26 & 15.04 & 8544188 & $\\dots$ \\\\\n",
       "\t27 & 15.04 & 8544188 & $\\dots$ \\\\\n",
       "\t28 & 15.04 & 8544188 & $\\dots$ \\\\\n",
       "\t29 & 15.04 & 8544188 & $\\dots$ \\\\\n",
       "\t30 & 15.04 & 8544188 & $\\dots$ \\\\\n",
       "\t$\\dots$ & $\\dots$ & $\\dots$ &  \\\\\n",
       "\\end{tabular}\n"
      ],
      "text/plain": [
       "\u001b[1m39056×6 DataFrame\u001b[0m\n",
       "\u001b[1m   Row \u001b[0m│\u001b[1m percentage_of_fragments_at_or_below_taxon \u001b[0m\u001b[1m number_of_fragments_at_or_\u001b[0m ⋯\n",
       "       │\u001b[90m Float64                                   \u001b[0m\u001b[90m Int64                     \u001b[0m ⋯\n",
       "───────┼────────────────────────────────────────────────────────────────────────\n",
       "     1 │                                     78.98                             ⋯\n",
       "     2 │                                     21.02\n",
       "     3 │                                     20.93\n",
       "     4 │                                     18.67\n",
       "     5 │                                     17.88                             ⋯\n",
       "     6 │                                     15.04\n",
       "     7 │                                     15.04\n",
       "     8 │                                     15.04\n",
       "     9 │                                     15.04                             ⋯\n",
       "    10 │                                     15.04\n",
       "    11 │                                     15.04\n",
       "   ⋮   │                     ⋮                                        ⋮        ⋱\n",
       " 39047 │                                      0.0\n",
       " 39048 │                                      0.0                              ⋯\n",
       " 39049 │                                      0.0\n",
       " 39050 │                                      0.0\n",
       " 39051 │                                      0.0\n",
       " 39052 │                                      0.0                              ⋯\n",
       " 39053 │                                      0.0\n",
       " 39054 │                                      0.0\n",
       " 39055 │                                      0.0\n",
       " 39056 │                                      0.0                              ⋯\n",
       "\u001b[36m                                                5 columns and 39035 rows omitted\u001b[0m"
      ]
     },
     "execution_count": 23,
     "metadata": {},
     "output_type": "execute_result"
    }
   ],
   "source": [
    "kraken_report_table = Mycelia.read_kraken_report(kraken_report)"
   ]
  },
  {
   "cell_type": "code",
   "execution_count": 25,
   "id": "456aba14-2d96-4d2a-bd2b-32593b51cf7e",
   "metadata": {},
   "outputs": [
    {
     "data": {
      "text/html": [
       "<div><div style = \"float: left;\"><span>1×6 DataFrame</span></div><div style = \"clear: both;\"></div></div><div class = \"data-frame\" style = \"overflow-x: scroll;\"><table class = \"data-frame\" style = \"margin-bottom: 6px;\"><thead><tr class = \"header\"><th class = \"rowNumber\" style = \"font-weight: bold; text-align: right;\">Row</th><th style = \"text-align: left;\">percentage_of_fragments_at_or_below_taxon</th><th style = \"text-align: left;\">number_of_fragments_at_or_below_taxon</th><th style = \"text-align: left;\">number_of_fragments_assigned_directly_to_taxon</th><th style = \"text-align: left;\">rank</th><th style = \"text-align: left;\">ncbi_taxonid</th><th style = \"text-align: left;\">scientific_name</th></tr><tr class = \"subheader headerLastRow\"><th class = \"rowNumber\" style = \"font-weight: bold; text-align: right;\"></th><th title = \"Float64\" style = \"text-align: left;\">Float64</th><th title = \"Int64\" style = \"text-align: left;\">Int64</th><th title = \"Int64\" style = \"text-align: left;\">Int64</th><th title = \"String\" style = \"text-align: left;\">String</th><th title = \"Int64\" style = \"text-align: left;\">Int64</th><th title = \"String\" style = \"text-align: left;\">String</th></tr></thead><tbody><tr><td class = \"rowNumber\" style = \"font-weight: bold; text-align: right;\">1</td><td style = \"text-align: right;\">0.0</td><td style = \"text-align: right;\">355</td><td style = \"text-align: right;\">0</td><td style = \"text-align: left;\">D</td><td style = \"text-align: right;\">10239</td><td style = \"text-align: left;\">  Viruses</td></tr></tbody></table></div>"
      ],
      "text/latex": [
       "\\begin{tabular}{r|ccc}\n",
       "\t& percentage\\_of\\_fragments\\_at\\_or\\_below\\_taxon & number\\_of\\_fragments\\_at\\_or\\_below\\_taxon & \\\\\n",
       "\t\\hline\n",
       "\t& Float64 & Int64 & \\\\\n",
       "\t\\hline\n",
       "\t1 & 0.0 & 355 & $\\dots$ \\\\\n",
       "\\end{tabular}\n"
      ],
      "text/plain": [
       "\u001b[1m1×6 DataFrame\u001b[0m\n",
       "\u001b[1m Row \u001b[0m│\u001b[1m percentage_of_fragments_at_or_below_taxon \u001b[0m\u001b[1m number_of_fragments_at_or_be\u001b[0m ⋯\n",
       "     │\u001b[90m Float64                                   \u001b[0m\u001b[90m Int64                       \u001b[0m ⋯\n",
       "─────┼──────────────────────────────────────────────────────────────────────────\n",
       "   1 │                                       0.0                               ⋯\n",
       "\u001b[36m                                                               5 columns omitted\u001b[0m"
      ]
     },
     "execution_count": 25,
     "metadata": {},
     "output_type": "execute_result"
    }
   ],
   "source": [
    "kraken_report_table[kraken_report_table[!, \"ncbi_taxonid\"] .== viral_taxon, :]"
   ]
  },
  {
   "cell_type": "code",
   "execution_count": null,
   "id": "ba692f81-7d5f-40a8-abf8-01c55ac5b33f",
   "metadata": {},
   "outputs": [],
   "source": [
    "# count how many reads are viral from this"
   ]
  },
  {
   "cell_type": "code",
   "execution_count": null,
   "id": "94e65e84-c625-437c-89e4-09b32403741e",
   "metadata": {},
   "outputs": [],
   "source": [
    "read_classifications[!, \"parsed taxon ID\"]"
   ]
  },
  {
   "cell_type": "code",
   "execution_count": null,
   "id": "2f002a8a-b869-4b01-bc54-039e7bbc9e58",
   "metadata": {},
   "outputs": [],
   "source": [
    "map(x -> x in viral_taxon_ids, read_classifications[!, \"parsed taxon ID\"])"
   ]
  },
  {
   "cell_type": "code",
   "execution_count": null,
   "id": "a1db6162-feaa-4a60-a83f-f67dbbc418f4",
   "metadata": {},
   "outputs": [],
   "source": [
    "turn lines into table\n",
    "split out taxonomic id"
   ]
  },
  {
   "cell_type": "code",
   "execution_count": null,
   "id": "86c69154-d6a6-41f8-9561-8739a3f059d2",
   "metadata": {},
   "outputs": [],
   "source": [
    "for each contig"
   ]
  },
  {
   "cell_type": "code",
   "execution_count": null,
   "id": "75317699-0046-4e4e-9afc-c623b452f206",
   "metadata": {},
   "outputs": [],
   "source": [
    "# pipeline(`gzip -dc ``grep -F -f $(viral_taxon_file) huge.csv`)"
   ]
  },
  {
   "cell_type": "code",
   "execution_count": null,
   "id": "85fd6b96-9d29-42bb-b743-d6007c31e2fb",
   "metadata": {},
   "outputs": [],
   "source": [
    "# read in blast report"
   ]
  },
  {
   "cell_type": "code",
   "execution_count": null,
   "id": "966dd729-efb6-4ded-a3ae-4b8cba5b3e01",
   "metadata": {},
   "outputs": [],
   "source": [
    "# read in kraken read classifications"
   ]
  },
  {
   "cell_type": "code",
   "execution_count": null,
   "id": "7fa8bf9f-c032-4408-a378-98d55016bd4d",
   "metadata": {},
   "outputs": [],
   "source": [
    "# read in bam alignments"
   ]
  },
  {
   "cell_type": "code",
   "execution_count": null,
   "id": "659d700d-a9e9-40b5-87ef-33c37d311d56",
   "metadata": {},
   "outputs": [],
   "source": [
    "# determine agreement between methods"
   ]
  },
  {
   "cell_type": "code",
   "execution_count": null,
   "id": "92b8bc04-0594-4f73-b2cb-4fff7cce9e44",
   "metadata": {
    "tags": []
   },
   "outputs": [],
   "source": [
    "# joint_virus_table = DataFrames.DataFrame()\n",
    "# ProgressMeter.@showprogress for SRR in SRRs\n",
    "#     SRR_dir = joinpath(SRA_DIR, SRR)\n",
    "#     kraken_dir = joinpath(SRR_dir, \"kraken\")\n",
    "#     kraken_reports = filter(x -> occursin(r\"\\.kraken-report\\.tsv$\", x), readdir(kraken_dir))\n",
    "#     @assert length(kraken_reports) == 1\n",
    "#     kraken_report = first(kraken_reports)\n",
    "\n",
    "#     # ranks: (U)nclassified, (R)oot, (D)omain, (K)ingdom, (P)hylum, (C)lass, (O)rder, (F)amily, (G)enus, or (S)pecies.\n",
    "\n",
    "#     kraken_report_header = [\n",
    "#         \"percentage_of_fragments_at_or_below_taxon\",\n",
    "#         \"number_of_fragments_at_or_below_taxon\",\n",
    "#         \"number_of_fragments_assigned_directly_to_taxon\",\n",
    "#         \"rank\",\n",
    "#         \"ncbi_taxonid\",\n",
    "#         \"scientific_name\"\n",
    "#     ]\n",
    "\n",
    "#     data, header = uCSV.read(joinpath(kraken_dir, kraken_report), delim='\\t')\n",
    "#     kraken_report_table = DataFrames.DataFrame(data, kraken_report_header)\n",
    "#     kraken_report_table[!, \"sample_id\"] .= SRR\n",
    "#     for row in DataFrames.eachrow(kraken_report_table[kraken_report_table[!, \"ncbi_taxonid\"] .== 10239, :])\n",
    "#         push!(joint_virus_table, row)\n",
    "#     end\n",
    "# end\n",
    "# joint_virus_table"
   ]
  },
  {
   "cell_type": "code",
   "execution_count": null,
   "id": "dc33f97d-c2aa-4db5-b9d5-924fc5b2c59b",
   "metadata": {},
   "outputs": [],
   "source": [
    "# filtered_joint_virus_table = joint_virus_table[joint_virus_table[!, \"number_of_fragments_at_or_below_taxon\"] .> 0, :]"
   ]
  },
  {
   "cell_type": "code",
   "execution_count": null,
   "id": "7dd2ab2f-0674-48b6-a2c8-c18ef3727bc4",
   "metadata": {
    "tags": []
   },
   "outputs": [],
   "source": [
    "# StatsBase.describe(filtered_joint_virus_table[!, \"percentage_of_fragments_at_or_below_taxon\"])\n",
    "\n",
    "# # Summary Stats:\n",
    "# # Length:         434\n",
    "# # Missing Count:  0\n",
    "# # Mean:           0.076336\n",
    "# # Minimum:        0.000000\n",
    "# # 1st Quartile:   0.000000\n",
    "# # Median:         0.010000\n",
    "# # 3rd Quartile:   0.030000\n",
    "# # Maximum:        7.420000"
   ]
  },
  {
   "cell_type": "code",
   "execution_count": null,
   "id": "bd55e37a-8612-4156-83d5-a2dd445a84e8",
   "metadata": {},
   "outputs": [],
   "source": [
    "# StatsBase.describe(filtered_joint_virus_table[!, \"number_of_fragments_at_or_below_taxon\"])\n",
    "\n",
    "# # Summary Stats:\n",
    "# # Length:         434\n",
    "# # Missing Count:  0\n",
    "# # Mean:           36341.534562\n",
    "# # Minimum:        85.000000\n",
    "# # 1st Quartile:   1951.750000\n",
    "# # Median:         5345.000000\n",
    "# # 3rd Quartile:   13846.750000\n",
    "# # Maximum:        2694174.000000\n",
    "# # Type:           Int64\n",
    "\n",
    "# # Maximum:        2,694,174.000000"
   ]
  },
  {
   "cell_type": "code",
   "execution_count": null,
   "id": "7b3333e2-75a6-46b6-abd9-779cfe942a3b",
   "metadata": {
    "tags": []
   },
   "outputs": [],
   "source": [
    "# StatsPlots.histogram(\n",
    "#     filtered_joint_virus_table[!, \"percentage_of_fragments_at_or_below_taxon\"],\n",
    "#     ylabel = \"# of samples\",\n",
    "#     xlabel = \"% of reads classified as viral\",\n",
    "#     title = \"Relative abundance of viral sequences in exposome\",\n",
    "#     legend = false\n",
    "# )"
   ]
  },
  {
   "cell_type": "code",
   "execution_count": null,
   "id": "fda46225-f742-47b3-ba6b-643d0ef8d8fb",
   "metadata": {
    "tags": []
   },
   "outputs": [],
   "source": [
    "# StatsPlots.histogram(\n",
    "#     filtered_joint_virus_table[!, \"number_of_fragments_at_or_below_taxon\"],\n",
    "#     ylabel = \"# of samples\",\n",
    "#     xlabel = \"# of reads classified as viral\",\n",
    "#     title = \"Absolute abundance of viral sequences in exposome\",\n",
    "#     legend = false\n",
    "# )"
   ]
  },
  {
   "cell_type": "code",
   "execution_count": null,
   "id": "0ec8d49d-4268-4a77-9504-6feefd26e4f5",
   "metadata": {
    "tags": []
   },
   "outputs": [],
   "source": [
    "# sort(filtered_joint_virus_table, \"percentage_of_fragments_at_or_below_taxon\", rev=true)[1:10, :]"
   ]
  },
  {
   "cell_type": "code",
   "execution_count": null,
   "id": "2cf40a90-2ade-4bc1-8b67-bcbbf6ce87d6",
   "metadata": {
    "tags": []
   },
   "outputs": [],
   "source": [
    "# sort(filtered_joint_virus_table, \"number_of_fragments_at_or_below_taxon\", rev=true)[1:10, :]"
   ]
  }
 ],
 "metadata": {
  "kernelspec": {
   "display_name": "Julia 1.6.3",
   "language": "julia",
   "name": "julia-1.6"
  },
  "language_info": {
   "file_extension": ".jl",
   "mimetype": "application/julia",
   "name": "julia",
   "version": "1.6.3"
  }
 },
 "nbformat": 4,
 "nbformat_minor": 5
}
