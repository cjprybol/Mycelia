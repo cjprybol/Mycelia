{
 "cells": [
  {
   "cell_type": "code",
   "execution_count": 89,
   "id": "ce59cd77-c0f0-4b90-8de8-3c5f071935ae",
   "metadata": {
    "tags": []
   },
   "outputs": [
    {
     "name": "stderr",
     "output_type": "stream",
     "text": [
      "\u001b[32m\u001b[1m  Activating\u001b[22m\u001b[39m environment at `~/work/Mycelia/projects/viral-pangenome-discovery/notebooks/Project.toml`\n",
      "\u001b[32m\u001b[1m   Resolving\u001b[22m\u001b[39m package versions...\n",
      "\u001b[32m\u001b[1m    Updating\u001b[22m\u001b[39m `~/work/Mycelia/projects/viral-pangenome-discovery/notebooks/Project.toml`\n",
      " \u001b[90m [864edb3b] \u001b[39m\u001b[92m+ DataStructures v0.18.13\u001b[39m\n",
      "\u001b[32m\u001b[1m  No Changes\u001b[22m\u001b[39m to `~/work/Mycelia/projects/viral-pangenome-discovery/notebooks/Manifest.toml`\n"
     ]
    }
   ],
   "source": [
    "import Pkg\n",
    "Pkg.activate(\".\")\n",
    "\n",
    "# not for the faint of heart!\n",
    "# Pkg.update()\n",
    "\n",
    "pkgs = [\n",
    "\"ArgParse\",\n",
    "\"Base64\",\n",
    "\"BioSequences\",\n",
    "\"DataFrames\",\n",
    "\"Dates\",\n",
    "\"DelimitedFiles\",\n",
    "\"FASTX\",\n",
    "\"GLM\",\n",
    "\"HTTP\",\n",
    "\"JSON\",\n",
    "\"Graphs\",\n",
    "\"MetaGraphs\",\n",
    "\"MD5\",\n",
    "\"Statistics\",\n",
    "\"StatsPlots\",\n",
    "\"uCSV\",\n",
    "\"CodecZlib\",\n",
    "\"YAML\",\n",
    "\"Revise\",\n",
    "\"Kmers\",\n",
    "\"StatsBase\",\n",
    "\"ProgressMeter\",\n",
    "\"XAM\",\n",
    "\"DataStructures\"\n",
    "]\n",
    "Pkg.add(pkgs)\n",
    "for pkg in pkgs\n",
    "    eval(Meta.parse(\"import $pkg\"))\n",
    "end\n",
    "\n",
    "import Mycelia"
   ]
  },
  {
   "cell_type": "code",
   "execution_count": 2,
   "id": "909f13b4-7e9d-429b-8b83-33c99af653c9",
   "metadata": {},
   "outputs": [
    {
     "data": {
      "text/plain": [
       "\"/home/jovyan/work/Mycelia/projects/viral-pangenome-discovery/data\""
      ]
     },
     "execution_count": 2,
     "metadata": {},
     "output_type": "execute_result"
    }
   ],
   "source": [
    "data_dir = joinpath(dirname(pwd()), \"data\")"
   ]
  },
  {
   "cell_type": "code",
   "execution_count": 3,
   "id": "bbdf0fdc-def3-44bf-b0ba-58ef182cdeb8",
   "metadata": {},
   "outputs": [],
   "source": [
    "blastdbs_dir = \"$(homedir())/workspace/blastdbs\"\n",
    "taxdump_dir = mkpath(joinpath(blastdbs_dir, \"taxdump\"))\n",
    "taxdump_tar = joinpath(taxdump_dir, \"taxdump.tar.gz\")\n",
    "if !isfile(taxdump_tar)\n",
    "    run(`wget --quiet https://ftp.ncbi.nih.gov/pub/taxonomy/taxdump.tar.gz --directory-prefix=$(taxdump_dir)`)\n",
    "end\n",
    "if isempty(filter(x -> occursin(r\"\\.dmp$\", x), readdir(taxdump_dir)))\n",
    "    run(`tar -xvzf $(taxdump_tar) --directory $(taxdump_dir)`)\n",
    "end"
   ]
  },
  {
   "cell_type": "code",
   "execution_count": 4,
   "id": "3c4a27fb-9f40-4121-9c91-b87716eea130",
   "metadata": {},
   "outputs": [],
   "source": [
    "# # blast_db = \"nt\"\n",
    "# # note since starting this, there is now an nv_viruses blast db that was not available when I started this\n",
    "# blast_db = \"nt_viruses\"\n",
    "# # blast_db = \"ref_viruses_rep_genomes\"\n",
    "# blastdb_dir = mkpath(joinpath(blastdbs_dir, blast_db))\n",
    "# # if !isempty(readdir(blastdb_dir))\n",
    "#     # @info \"blast db detected, using existing\"\n",
    "# # else\n",
    "# # Mycelia.download_blast_db(db=blast_db, outdir=blastdb_dir, source=\"ncbi\")\n",
    "# # end\n",
    "\n",
    "# db_path = joinpath(blastdb_dir, blast_db)\n",
    "# blastn_task = \"megablast\""
   ]
  },
  {
   "cell_type": "code",
   "execution_count": 5,
   "id": "8d1927f3-4ed2-45e5-ada9-be4bfdb0a419",
   "metadata": {},
   "outputs": [
    {
     "data": {
      "text/plain": [
       "594-element Vector{String}:\n",
       " \"/home/jovyan/work/Mycelia/projects/viral-pangenome-discovery/data/SRA/SRR6399459\"\n",
       " \"/home/jovyan/work/Mycelia/projects/viral-pangenome-discovery/data/SRA/SRR6399460\"\n",
       " \"/home/jovyan/work/Mycelia/projects/viral-pangenome-discovery/data/SRA/SRR6399461\"\n",
       " \"/home/jovyan/work/Mycelia/projects/viral-pangenome-discovery/data/SRA/SRR6399462\"\n",
       " \"/home/jovyan/work/Mycelia/projects/viral-pangenome-discovery/data/SRA/SRR6399463\"\n",
       " \"/home/jovyan/work/Mycelia/projects/viral-pangenome-discovery/data/SRA/SRR6399464\"\n",
       " \"/home/jovyan/work/Mycelia/projects/viral-pangenome-discovery/data/SRA/SRR6399465\"\n",
       " \"/home/jovyan/work/Mycelia/projects/viral-pangenome-discovery/data/SRA/SRR6399466\"\n",
       " \"/home/jovyan/work/Mycelia/projects/viral-pangenome-discovery/data/SRA/SRR6399467\"\n",
       " \"/home/jovyan/work/Mycelia/projects/viral-pangenome-discovery/data/SRA/SRR6399468\"\n",
       " \"/home/jovyan/work/Mycelia/projects/viral-pangenome-discovery/data/SRA/SRR6399469\"\n",
       " \"/home/jovyan/work/Mycelia/projects/viral-pangenome-discovery/data/SRA/SRR6399470\"\n",
       " \"/home/jovyan/work/Mycelia/projects/viral-pangenome-discovery/data/SRA/SRR6399471\"\n",
       " ⋮\n",
       " \"/home/jovyan/work/Mycelia/projects/viral-pangenome-discovery/data/SRA/SRR7365474\"\n",
       " \"/home/jovyan/work/Mycelia/projects/viral-pangenome-discovery/data/SRA/SRR7365475\"\n",
       " \"/home/jovyan/work/Mycelia/projects/viral-pangenome-discovery/data/SRA/SRR7365476\"\n",
       " \"/home/jovyan/work/Mycelia/projects/viral-pangenome-discovery/data/SRA/SRR7365477\"\n",
       " \"/home/jovyan/work/Mycelia/projects/viral-pangenome-discovery/data/SRA/SRR7365478\"\n",
       " \"/home/jovyan/work/Mycelia/projects/viral-pangenome-discovery/data/SRA/SRR7365479\"\n",
       " \"/home/jovyan/work/Mycelia/projects/viral-pangenome-discovery/data/SRA/SRR7365480\"\n",
       " \"/home/jovyan/work/Mycelia/projects/viral-pangenome-discovery/data/SRA/SRR7365481\"\n",
       " \"/home/jovyan/work/Mycelia/projects/viral-pangenome-discovery/data/SRA/SRR7365482\"\n",
       " \"/home/jovyan/work/Mycelia/projects/viral-pangenome-discovery/data/SRA/SRR7365483\"\n",
       " \"/home/jovyan/work/Mycelia/projects/viral-pangenome-discovery/data/SRA/SRR7365484\"\n",
       " \"/home/jovyan/work/Mycelia/projects/viral-pangenome-discovery/data/SRA/SRR7365485\""
      ]
     },
     "execution_count": 5,
     "metadata": {},
     "output_type": "execute_result"
    }
   ],
   "source": [
    "SRR_paths = filter(x -> !occursin(\".ipynb_checkpoints\", x), readdir(joinpath(data_dir, \"SRA\"), join=true))\n",
    "SRR_paths = filter(x -> isfile(joinpath(x, \"megahit\", \"final.contigs.fastg.gfa.fna\")), SRR_paths)"
   ]
  },
  {
   "cell_type": "code",
   "execution_count": 6,
   "id": "ec90c6e5-01f4-4352-ba0f-cedf75b62469",
   "metadata": {},
   "outputs": [
    {
     "data": {
      "text/plain": [
       "\"SRR6399459\""
      ]
     },
     "execution_count": 6,
     "metadata": {},
     "output_type": "execute_result"
    }
   ],
   "source": [
    "# extract contigs that came back as viral in the targetted screen\n",
    "# blast back against NCBI nt and confirm they are still viral\n",
    "SRR_path = first(SRR_paths)\n",
    "SRR = basename(SRR_path)\n",
    "\n",
    "# ref_viruses_ref_genomes_blast_report = joinpath(SRR_path, \"blastn\", \"final.contigs.fastg.gfa.fna.blastn.ref_viruses_rep_genomes.blastn.txt\")\n",
    "# ref_viruses_ref_genomes_blast_results = Mycelia.parse_blast_report(ref_viruses_ref_genomes_blast_report)\n",
    "# possible_viral_contigs = Set(unique(ref_viruses_ref_genomes_blast_results[!, \"query id\"]))\n",
    "# assembled_fasta = joinpath(SRR_path, \"megahit\", \"final.contigs.fastg.gfa.fna\")\n",
    "# viral_fasta = replace(assembled_fasta, \".fna\" => \".potential_viral_contigs.fna\")\n",
    "# potential_viral_records = filter(x -> FASTX.identifier(x) in possible_viral_contigs, collect(Mycelia.open_fastx(assembled_fasta)))\n",
    "# open(viral_fasta, \"w\") do io\n",
    "#     fastx_io = FASTX.FASTA.Writer(io)\n",
    "#     for record in potential_viral_records\n",
    "#         write(fastx_io, record)\n",
    "#     end\n",
    "#     close(fastx_io)\n",
    "# end"
   ]
  },
  {
   "cell_type": "code",
   "execution_count": 7,
   "id": "14f373a9-a3cf-4384-a51c-763f50105972",
   "metadata": {},
   "outputs": [],
   "source": [
    "# potential_viral_records"
   ]
  },
  {
   "cell_type": "code",
   "execution_count": 8,
   "id": "defbfa9c-4a02-48d9-9e28-ada2dfd23a8a",
   "metadata": {},
   "outputs": [],
   "source": [
    "# 20 days of runtime using full NT database just on viral contigs subset :(\n",
    "# # seconds per sample * samples\n",
    "# total_runtime =  (3000 * 600)\n",
    "\n",
    "# # 60 seconds per minute, 60 minutes per hour, 24 hours per day\n",
    "# days_of_runtime = total_runtime / 60 / 60 / 24"
   ]
  },
  {
   "cell_type": "code",
   "execution_count": 9,
   "id": "14a970f9-42a5-456b-b45a-272ee30fac24",
   "metadata": {},
   "outputs": [
    {
     "data": {
      "text/html": [
       "<div><div style = \"float: left;\"><span>18511×18 DataFrame</span></div><div style = \"float: right;\"><span style = \"font-style: italic;\">18486 rows omitted</span></div><div style = \"clear: both;\"></div></div><div class = \"data-frame\" style = \"overflow-x: scroll;\"><table class = \"data-frame\" style = \"margin-bottom: 6px;\"><thead><tr class = \"header\"><th class = \"rowNumber\" style = \"font-weight: bold; text-align: right;\">Row</th><th style = \"text-align: left;\">query id</th><th style = \"text-align: left;\">subject id</th><th style = \"text-align: left;\">subject acc.</th><th style = \"text-align: left;\">subject acc.ver</th><th style = \"text-align: left;\">subject title</th><th style = \"text-align: left;\">query length</th><th style = \"text-align: left;\">subject length</th><th style = \"text-align: left;\">q. start</th><th style = \"text-align: left;\">q. end</th><th style = \"text-align: left;\">s. start</th><th style = \"text-align: left;\">s. end</th><th style = \"text-align: left;\">evalue</th><th style = \"text-align: left;\">bit score</th><th style = \"text-align: left;\">alignment length</th><th style = \"text-align: left;\">% identity</th><th style = \"text-align: left;\">identical</th><th style = \"text-align: left;\">mismatches</th><th style = \"text-align: left;\">subject tax id</th></tr><tr class = \"subheader headerLastRow\"><th class = \"rowNumber\" style = \"font-weight: bold; text-align: right;\"></th><th title = \"Union{Missing, String}\" style = \"text-align: left;\">String?</th><th title = \"Union{Missing, String}\" style = \"text-align: left;\">String?</th><th title = \"Union{Missing, String}\" style = \"text-align: left;\">String?</th><th title = \"Union{Missing, String}\" style = \"text-align: left;\">String?</th><th title = \"Union{Missing, String}\" style = \"text-align: left;\">String?</th><th title = \"Union{Missing, Int64}\" style = \"text-align: left;\">Int64?</th><th title = \"Union{Missing, Int64}\" style = \"text-align: left;\">Int64?</th><th title = \"Union{Missing, Int64}\" style = \"text-align: left;\">Int64?</th><th title = \"Union{Missing, Int64}\" style = \"text-align: left;\">Int64?</th><th title = \"Union{Missing, Int64}\" style = \"text-align: left;\">Int64?</th><th title = \"Union{Missing, Int64}\" style = \"text-align: left;\">Int64?</th><th title = \"Union{Missing, Float64}\" style = \"text-align: left;\">Float64?</th><th title = \"Union{Missing, Float64}\" style = \"text-align: left;\">Float64?</th><th title = \"Union{Missing, Int64}\" style = \"text-align: left;\">Int64?</th><th title = \"Union{Missing, Float64}\" style = \"text-align: left;\">Float64?</th><th title = \"Union{Missing, Int64}\" style = \"text-align: left;\">Int64?</th><th title = \"Union{Missing, Int64}\" style = \"text-align: left;\">Int64?</th><th title = \"Union{Missing, Int64}\" style = \"text-align: left;\">Int64?</th></tr></thead><tbody><tr><td class = \"rowNumber\" style = \"font-weight: bold; text-align: right;\">1</td><td style = \"text-align: left;\">1002</td><td style = \"text-align: left;\">gi|31126635|gb|AC144547.6|</td><td style = \"text-align: left;\">AC144547</td><td style = \"text-align: left;\">AC144547.6</td><td style = \"text-align: left;\">Homo sapiens 12 BAC RP13-653N12 (Roswell Park Cancer Institute Human BAC Library) complete sequence</td><td style = \"text-align: right;\">485</td><td style = \"text-align: right;\">59051</td><td style = \"text-align: right;\">137</td><td style = \"text-align: right;\">485</td><td style = \"text-align: right;\">52287</td><td style = \"text-align: right;\">52635</td><td style = \"text-align: right;\">2.39e-170</td><td style = \"text-align: right;\">612.0</td><td style = \"text-align: right;\">349</td><td style = \"text-align: right;\">98.281</td><td style = \"text-align: right;\">343</td><td style = \"text-align: right;\">6</td><td style = \"text-align: right;\">9606</td></tr><tr><td class = \"rowNumber\" style = \"font-weight: bold; text-align: right;\">2</td><td style = \"text-align: left;\">1002</td><td style = \"text-align: left;\">gi|31126635|gb|AC144547.6|</td><td style = \"text-align: left;\">AC144547</td><td style = \"text-align: left;\">AC144547.6</td><td style = \"text-align: left;\">Homo sapiens 12 BAC RP13-653N12 (Roswell Park Cancer Institute Human BAC Library) complete sequence</td><td style = \"text-align: right;\">485</td><td style = \"text-align: right;\">59051</td><td style = \"text-align: right;\">1</td><td style = \"text-align: right;\">151</td><td style = \"text-align: right;\">52436</td><td style = \"text-align: right;\">52287</td><td style = \"text-align: right;\">4.6e-68</td><td style = \"text-align: right;\">272.0</td><td style = \"text-align: right;\">151</td><td style = \"text-align: right;\">99.338</td><td style = \"text-align: right;\">150</td><td style = \"text-align: right;\">0</td><td style = \"text-align: right;\">9606</td></tr><tr><td class = \"rowNumber\" style = \"font-weight: bold; text-align: right;\">3</td><td style = \"text-align: left;\">1002</td><td style = \"text-align: left;\">gi|1796387707|ref|NG_009312.2|</td><td style = \"text-align: left;\">NG_009312</td><td style = \"text-align: left;\">NG_009312.2</td><td style = \"text-align: left;\">Homo sapiens Bardet-Biedl syndrome 2 (BBS2), RefSeqGene on chromosome 16</td><td style = \"text-align: right;\">485</td><td style = \"text-align: right;\">56622</td><td style = \"text-align: right;\">216</td><td style = \"text-align: right;\">485</td><td style = \"text-align: right;\">11848</td><td style = \"text-align: right;\">12120</td><td style = \"text-align: right;\">1.32e-43</td><td style = \"text-align: right;\">191.0</td><td style = \"text-align: right;\">278</td><td style = \"text-align: right;\">79.856</td><td style = \"text-align: right;\">222</td><td style = \"text-align: right;\">43</td><td style = \"text-align: right;\">9606</td></tr><tr><td class = \"rowNumber\" style = \"font-weight: bold; text-align: right;\">4</td><td style = \"text-align: left;\">1002</td><td style = \"text-align: left;\">gi|1548994290|gb|CP034494.1|</td><td style = \"text-align: left;\">CP034494</td><td style = \"text-align: left;\">CP034494.1</td><td style = \"text-align: left;\">Eukaryotic synthetic construct chromosome 16</td><td style = \"text-align: right;\">485</td><td style = \"text-align: right;\">98200793</td><td style = \"text-align: right;\">216</td><td style = \"text-align: right;\">485</td><td style = \"text-align: right;\">56487089</td><td style = \"text-align: right;\">56486817</td><td style = \"text-align: right;\">1.32e-43</td><td style = \"text-align: right;\">191.0</td><td style = \"text-align: right;\">278</td><td style = \"text-align: right;\">79.856</td><td style = \"text-align: right;\">222</td><td style = \"text-align: right;\">43</td><td style = \"text-align: right;\">111789</td></tr><tr><td class = \"rowNumber\" style = \"font-weight: bold; text-align: right;\">5</td><td style = \"text-align: left;\">1002</td><td style = \"text-align: left;\">gi|1548994290|gb|CP034494.1|</td><td style = \"text-align: left;\">CP034494</td><td style = \"text-align: left;\">CP034494.1</td><td style = \"text-align: left;\">Eukaryotic synthetic construct chromosome 16</td><td style = \"text-align: right;\">485</td><td style = \"text-align: right;\">98200793</td><td style = \"text-align: right;\">205</td><td style = \"text-align: right;\">485</td><td style = \"text-align: right;\">4903138</td><td style = \"text-align: right;\">4902857</td><td style = \"text-align: right;\">3.76e-29</td><td style = \"text-align: right;\">143.0</td><td style = \"text-align: right;\">289</td><td style = \"text-align: right;\">76.471</td><td style = \"text-align: right;\">221</td><td style = \"text-align: right;\">53</td><td style = \"text-align: right;\">111789</td></tr><tr><td class = \"rowNumber\" style = \"font-weight: bold; text-align: right;\">6</td><td style = \"text-align: left;\">1002</td><td style = \"text-align: left;\">gi|2033714908|gb|CP068262.2|</td><td style = \"text-align: left;\">CP068262</td><td style = \"text-align: left;\">CP068262.2</td><td style = \"text-align: left;\">Homo sapiens isolate CHM13 chromosome 16</td><td style = \"text-align: right;\">485</td><td style = \"text-align: right;\">96330374</td><td style = \"text-align: right;\">216</td><td style = \"text-align: right;\">485</td><td style = \"text-align: right;\">62308251</td><td style = \"text-align: right;\">62307979</td><td style = \"text-align: right;\">1.32e-43</td><td style = \"text-align: right;\">191.0</td><td style = \"text-align: right;\">278</td><td style = \"text-align: right;\">79.856</td><td style = \"text-align: right;\">222</td><td style = \"text-align: right;\">43</td><td style = \"text-align: right;\">9606</td></tr><tr><td class = \"rowNumber\" style = \"font-weight: bold; text-align: right;\">7</td><td style = \"text-align: left;\">1002</td><td style = \"text-align: left;\">gi|2033714908|gb|CP068262.2|</td><td style = \"text-align: left;\">CP068262</td><td style = \"text-align: left;\">CP068262.2</td><td style = \"text-align: left;\">Homo sapiens isolate CHM13 chromosome 16</td><td style = \"text-align: right;\">485</td><td style = \"text-align: right;\">96330374</td><td style = \"text-align: right;\">205</td><td style = \"text-align: right;\">485</td><td style = \"text-align: right;\">4942636</td><td style = \"text-align: right;\">4942355</td><td style = \"text-align: right;\">3.76e-29</td><td style = \"text-align: right;\">143.0</td><td style = \"text-align: right;\">289</td><td style = \"text-align: right;\">76.471</td><td style = \"text-align: right;\">221</td><td style = \"text-align: right;\">53</td><td style = \"text-align: right;\">9606</td></tr><tr><td class = \"rowNumber\" style = \"font-weight: bold; text-align: right;\">8</td><td style = \"text-align: left;\">1002</td><td style = \"text-align: left;\">gi|1909942457|dbj|AP023476.1|</td><td style = \"text-align: left;\">AP023476</td><td style = \"text-align: left;\">AP023476.1</td><td style = \"text-align: left;\">Homo sapiens DNA, chromosome 16, nearly complete genome</td><td style = \"text-align: right;\">485</td><td style = \"text-align: right;\">94690957</td><td style = \"text-align: right;\">216</td><td style = \"text-align: right;\">485</td><td style = \"text-align: right;\">60910220</td><td style = \"text-align: right;\">60909948</td><td style = \"text-align: right;\">1.32e-43</td><td style = \"text-align: right;\">191.0</td><td style = \"text-align: right;\">278</td><td style = \"text-align: right;\">79.856</td><td style = \"text-align: right;\">222</td><td style = \"text-align: right;\">43</td><td style = \"text-align: right;\">9606</td></tr><tr><td class = \"rowNumber\" style = \"font-weight: bold; text-align: right;\">9</td><td style = \"text-align: left;\">1002</td><td style = \"text-align: left;\">gi|1909942457|dbj|AP023476.1|</td><td style = \"text-align: left;\">AP023476</td><td style = \"text-align: left;\">AP023476.1</td><td style = \"text-align: left;\">Homo sapiens DNA, chromosome 16, nearly complete genome</td><td style = \"text-align: right;\">485</td><td style = \"text-align: right;\">94690957</td><td style = \"text-align: right;\">205</td><td style = \"text-align: right;\">485</td><td style = \"text-align: right;\">4953394</td><td style = \"text-align: right;\">4953113</td><td style = \"text-align: right;\">3.76e-29</td><td style = \"text-align: right;\">143.0</td><td style = \"text-align: right;\">289</td><td style = \"text-align: right;\">76.471</td><td style = \"text-align: right;\">221</td><td style = \"text-align: right;\">53</td><td style = \"text-align: right;\">9606</td></tr><tr><td class = \"rowNumber\" style = \"font-weight: bold; text-align: right;\">10</td><td style = \"text-align: left;\">1002</td><td style = \"text-align: left;\">gi|24429609|gb|AC006431.9|</td><td style = \"text-align: left;\">AC006431</td><td style = \"text-align: left;\">AC006431.9</td><td style = \"text-align: left;\">Homo sapiens 12 BAC RP11-451H11 (Roswell Park Cancer Institute Human BAC Library) complete sequence</td><td style = \"text-align: right;\">485</td><td style = \"text-align: right;\">126552</td><td style = \"text-align: right;\">216</td><td style = \"text-align: right;\">485</td><td style = \"text-align: right;\">30052</td><td style = \"text-align: right;\">29780</td><td style = \"text-align: right;\">1.32e-43</td><td style = \"text-align: right;\">191.0</td><td style = \"text-align: right;\">276</td><td style = \"text-align: right;\">79.71</td><td style = \"text-align: right;\">220</td><td style = \"text-align: right;\">47</td><td style = \"text-align: right;\">9606</td></tr><tr><td class = \"rowNumber\" style = \"font-weight: bold; text-align: right;\">11</td><td style = \"text-align: left;\">1002</td><td style = \"text-align: left;\">gi|7328722|gb|AC009155.3|AC009155</td><td style = \"text-align: left;\">AC009155</td><td style = \"text-align: left;\">AC009155.3</td><td style = \"text-align: left;\">Homo sapiens chromosome 16 clone RP11-5A3, complete sequence</td><td style = \"text-align: right;\">485</td><td style = \"text-align: right;\">143860</td><td style = \"text-align: right;\">216</td><td style = \"text-align: right;\">485</td><td style = \"text-align: right;\">50553</td><td style = \"text-align: right;\">50281</td><td style = \"text-align: right;\">1.32e-43</td><td style = \"text-align: right;\">191.0</td><td style = \"text-align: right;\">278</td><td style = \"text-align: right;\">79.856</td><td style = \"text-align: right;\">222</td><td style = \"text-align: right;\">43</td><td style = \"text-align: right;\">9606</td></tr><tr><td class = \"rowNumber\" style = \"font-weight: bold; text-align: right;\">12</td><td style = \"text-align: left;\">1002</td><td style = \"text-align: left;\">gi|1031987417|gb|AC270697.1|</td><td style = \"text-align: left;\">AC270697</td><td style = \"text-align: left;\">AC270697.1</td><td style = \"text-align: left;\">Pongo abelii chromosome 7 clone CH276-506E16, complete sequence</td><td style = \"text-align: right;\">485</td><td style = \"text-align: right;\">197711</td><td style = \"text-align: right;\">242</td><td style = \"text-align: right;\">484</td><td style = \"text-align: right;\">107370</td><td style = \"text-align: right;\">107618</td><td style = \"text-align: right;\">2.22e-41</td><td style = \"text-align: right;\">183.0</td><td style = \"text-align: right;\">252</td><td style = \"text-align: right;\">80.556</td><td style = \"text-align: right;\">203</td><td style = \"text-align: right;\">37</td><td style = \"text-align: right;\">9601</td></tr><tr><td class = \"rowNumber\" style = \"font-weight: bold; text-align: right;\">13</td><td style = \"text-align: left;\">1002</td><td style = \"text-align: left;\">gi|1031987417|gb|AC270697.1|</td><td style = \"text-align: left;\">AC270697</td><td style = \"text-align: left;\">AC270697.1</td><td style = \"text-align: left;\">Pongo abelii chromosome 7 clone CH276-506E16, complete sequence</td><td style = \"text-align: right;\">485</td><td style = \"text-align: right;\">197711</td><td style = \"text-align: right;\">216</td><td style = \"text-align: right;\">450</td><td style = \"text-align: right;\">30065</td><td style = \"text-align: right;\">30298</td><td style = \"text-align: right;\">1.06e-19</td><td style = \"text-align: right;\">111.0</td><td style = \"text-align: right;\">239</td><td style = \"text-align: right;\">75.732</td><td style = \"text-align: right;\">181</td><td style = \"text-align: right;\">49</td><td style = \"text-align: right;\">9601</td></tr><tr><td style = \"text-align: right;\">&vellip;</td><td style = \"text-align: right;\">&vellip;</td><td style = \"text-align: right;\">&vellip;</td><td style = \"text-align: right;\">&vellip;</td><td style = \"text-align: right;\">&vellip;</td><td style = \"text-align: right;\">&vellip;</td><td style = \"text-align: right;\">&vellip;</td><td style = \"text-align: right;\">&vellip;</td><td style = \"text-align: right;\">&vellip;</td><td style = \"text-align: right;\">&vellip;</td><td style = \"text-align: right;\">&vellip;</td><td style = \"text-align: right;\">&vellip;</td><td style = \"text-align: right;\">&vellip;</td><td style = \"text-align: right;\">&vellip;</td><td style = \"text-align: right;\">&vellip;</td><td style = \"text-align: right;\">&vellip;</td><td style = \"text-align: right;\">&vellip;</td><td style = \"text-align: right;\">&vellip;</td><td style = \"text-align: right;\">&vellip;</td></tr><tr><td class = \"rowNumber\" style = \"font-weight: bold; text-align: right;\">18500</td><td style = \"text-align: left;\">986</td><td style = \"text-align: left;\">gi|1909942460|dbj|AP023479.1|</td><td style = \"text-align: left;\">AP023479</td><td style = \"text-align: left;\">AP023479.1</td><td style = \"text-align: left;\">Homo sapiens DNA, chromosome 19, nearly complete genome</td><td style = \"text-align: right;\">700</td><td style = \"text-align: right;\">59105444</td><td style = \"text-align: right;\">633</td><td style = \"text-align: right;\">700</td><td style = \"text-align: right;\">22374659</td><td style = \"text-align: right;\">22374592</td><td style = \"text-align: right;\">1.22e-15</td><td style = \"text-align: right;\">99.0</td><td style = \"text-align: right;\">68</td><td style = \"text-align: right;\">92.647</td><td style = \"text-align: right;\">63</td><td style = \"text-align: right;\">5</td><td style = \"text-align: right;\">9606</td></tr><tr><td class = \"rowNumber\" style = \"font-weight: bold; text-align: right;\">18501</td><td style = \"text-align: left;\">986</td><td style = \"text-align: left;\">gi|1909942460|dbj|AP023479.1|</td><td style = \"text-align: left;\">AP023479</td><td style = \"text-align: left;\">AP023479.1</td><td style = \"text-align: left;\">Homo sapiens DNA, chromosome 19, nearly complete genome</td><td style = \"text-align: right;\">700</td><td style = \"text-align: right;\">59105444</td><td style = \"text-align: right;\">629</td><td style = \"text-align: right;\">696</td><td style = \"text-align: right;\">43941181</td><td style = \"text-align: right;\">43941247</td><td style = \"text-align: right;\">4.39e-15</td><td style = \"text-align: right;\">97.1</td><td style = \"text-align: right;\">68</td><td style = \"text-align: right;\">92.647</td><td style = \"text-align: right;\">63</td><td style = \"text-align: right;\">4</td><td style = \"text-align: right;\">9606</td></tr><tr><td class = \"rowNumber\" style = \"font-weight: bold; text-align: right;\">18502</td><td style = \"text-align: left;\">986</td><td style = \"text-align: left;\">gi|1909942460|dbj|AP023479.1|</td><td style = \"text-align: left;\">AP023479</td><td style = \"text-align: left;\">AP023479.1</td><td style = \"text-align: left;\">Homo sapiens DNA, chromosome 19, nearly complete genome</td><td style = \"text-align: right;\">700</td><td style = \"text-align: right;\">59105444</td><td style = \"text-align: right;\">612</td><td style = \"text-align: right;\">697</td><td style = \"text-align: right;\">32264535</td><td style = \"text-align: right;\">32264453</td><td style = \"text-align: right;\">1.59e-9</td><td style = \"text-align: right;\">78.7</td><td style = \"text-align: right;\">86</td><td style = \"text-align: right;\">83.721</td><td style = \"text-align: right;\">72</td><td style = \"text-align: right;\">11</td><td style = \"text-align: right;\">9606</td></tr><tr><td class = \"rowNumber\" style = \"font-weight: bold; text-align: right;\">18503</td><td style = \"text-align: left;\">986</td><td style = \"text-align: left;\">gi|21206230|gb|AC011492.8|</td><td style = \"text-align: left;\">AC011492</td><td style = \"text-align: left;\">AC011492.8</td><td style = \"text-align: left;\">Homo sapiens chromosome 19 clone CTB-187L3, complete sequence</td><td style = \"text-align: right;\">700</td><td style = \"text-align: right;\">153064</td><td style = \"text-align: right;\">1</td><td style = \"text-align: right;\">168</td><td style = \"text-align: right;\">50299</td><td style = \"text-align: right;\">50465</td><td style = \"text-align: right;\">2.46e-62</td><td style = \"text-align: right;\">254.0</td><td style = \"text-align: right;\">168</td><td style = \"text-align: right;\">94.048</td><td style = \"text-align: right;\">158</td><td style = \"text-align: right;\">9</td><td style = \"text-align: right;\">9606</td></tr><tr><td class = \"rowNumber\" style = \"font-weight: bold; text-align: right;\">18504</td><td style = \"text-align: left;\">986</td><td style = \"text-align: left;\">gi|21206230|gb|AC011492.8|</td><td style = \"text-align: left;\">AC011492</td><td style = \"text-align: left;\">AC011492.8</td><td style = \"text-align: left;\">Homo sapiens chromosome 19 clone CTB-187L3, complete sequence</td><td style = \"text-align: right;\">700</td><td style = \"text-align: right;\">153064</td><td style = \"text-align: right;\">7</td><td style = \"text-align: right;\">175</td><td style = \"text-align: right;\">93170</td><td style = \"text-align: right;\">93001</td><td style = \"text-align: right;\">4.17e-50</td><td style = \"text-align: right;\">213.0</td><td style = \"text-align: right;\">170</td><td style = \"text-align: right;\">89.412</td><td style = \"text-align: right;\">152</td><td style = \"text-align: right;\">17</td><td style = \"text-align: right;\">9606</td></tr><tr><td class = \"rowNumber\" style = \"font-weight: bold; text-align: right;\">18505</td><td style = \"text-align: left;\">986</td><td style = \"text-align: left;\">gi|21206230|gb|AC011492.8|</td><td style = \"text-align: left;\">AC011492</td><td style = \"text-align: left;\">AC011492.8</td><td style = \"text-align: left;\">Homo sapiens chromosome 19 clone CTB-187L3, complete sequence</td><td style = \"text-align: right;\">700</td><td style = \"text-align: right;\">153064</td><td style = \"text-align: right;\">1</td><td style = \"text-align: right;\">177</td><td style = \"text-align: right;\">58114</td><td style = \"text-align: right;\">58291</td><td style = \"text-align: right;\">1.5e-49</td><td style = \"text-align: right;\">211.0</td><td style = \"text-align: right;\">178</td><td style = \"text-align: right;\">88.202</td><td style = \"text-align: right;\">157</td><td style = \"text-align: right;\">20</td><td style = \"text-align: right;\">9606</td></tr><tr><td class = \"rowNumber\" style = \"font-weight: bold; text-align: right;\">18506</td><td style = \"text-align: left;\">986</td><td style = \"text-align: left;\">gi|301337156|gb|AC214149.4|</td><td style = \"text-align: left;\">AC214149</td><td style = \"text-align: left;\">AC214149.4</td><td style = \"text-align: left;\">Pongo abelii BAC clone CH276-122K19 from chromosome unknown, complete sequence</td><td style = \"text-align: right;\">700</td><td style = \"text-align: right;\">232196</td><td style = \"text-align: right;\">1</td><td style = \"text-align: right;\">176</td><td style = \"text-align: right;\">46538</td><td style = \"text-align: right;\">46712</td><td style = \"text-align: right;\">8.84e-62</td><td style = \"text-align: right;\">252.0</td><td style = \"text-align: right;\">176</td><td style = \"text-align: right;\">92.614</td><td style = \"text-align: right;\">163</td><td style = \"text-align: right;\">12</td><td style = \"text-align: right;\">9601</td></tr><tr><td class = \"rowNumber\" style = \"font-weight: bold; text-align: right;\">18507</td><td style = \"text-align: left;\">986</td><td style = \"text-align: left;\">gi|301337156|gb|AC214149.4|</td><td style = \"text-align: left;\">AC214149</td><td style = \"text-align: left;\">AC214149.4</td><td style = \"text-align: left;\">Pongo abelii BAC clone CH276-122K19 from chromosome unknown, complete sequence</td><td style = \"text-align: right;\">700</td><td style = \"text-align: right;\">232196</td><td style = \"text-align: right;\">9</td><td style = \"text-align: right;\">180</td><td style = \"text-align: right;\">130213</td><td style = \"text-align: right;\">130043</td><td style = \"text-align: right;\">3.3e-36</td><td style = \"text-align: right;\">167.0</td><td style = \"text-align: right;\">172</td><td style = \"text-align: right;\">84.302</td><td style = \"text-align: right;\">145</td><td style = \"text-align: right;\">26</td><td style = \"text-align: right;\">9601</td></tr><tr><td class = \"rowNumber\" style = \"font-weight: bold; text-align: right;\">18508</td><td style = \"text-align: left;\">986</td><td style = \"text-align: left;\">gi|657188879|ref|NG_021316.2|</td><td style = \"text-align: left;\">NG_021316</td><td style = \"text-align: left;\">NG_021316.2</td><td style = \"text-align: left;\">Homo sapiens family with sequence similarity 120C (FAM120C), RefSeqGene on chromosome X</td><td style = \"text-align: right;\">700</td><td style = \"text-align: right;\">121879</td><td style = \"text-align: right;\">1</td><td style = \"text-align: right;\">168</td><td style = \"text-align: right;\">95841</td><td style = \"text-align: right;\">96008</td><td style = \"text-align: right;\">3.18e-61</td><td style = \"text-align: right;\">250.0</td><td style = \"text-align: right;\">168</td><td style = \"text-align: right;\">93.452</td><td style = \"text-align: right;\">157</td><td style = \"text-align: right;\">11</td><td style = \"text-align: right;\">9606</td></tr><tr><td class = \"rowNumber\" style = \"font-weight: bold; text-align: right;\">18509</td><td style = \"text-align: left;\">986</td><td style = \"text-align: left;\">gi|657188879|ref|NG_021316.2|</td><td style = \"text-align: left;\">NG_021316</td><td style = \"text-align: left;\">NG_021316.2</td><td style = \"text-align: left;\">Homo sapiens family with sequence similarity 120C (FAM120C), RefSeqGene on chromosome X</td><td style = \"text-align: right;\">700</td><td style = \"text-align: right;\">121879</td><td style = \"text-align: right;\">634</td><td style = \"text-align: right;\">680</td><td style = \"text-align: right;\">51030</td><td style = \"text-align: right;\">51076</td><td style = \"text-align: right;\">1.24e-5</td><td style = \"text-align: right;\">65.8</td><td style = \"text-align: right;\">47</td><td style = \"text-align: right;\">91.489</td><td style = \"text-align: right;\">43</td><td style = \"text-align: right;\">4</td><td style = \"text-align: right;\">9606</td></tr><tr><td class = \"rowNumber\" style = \"font-weight: bold; text-align: right;\">18510</td><td style = \"text-align: left;\">986</td><td style = \"text-align: left;\">gi|15130741|emb|AL589872.9|</td><td style = \"text-align: left;\">AL589872</td><td style = \"text-align: left;\">AL589872.9</td><td style = \"text-align: left;\">Human DNA sequence from clone RP11-161N3 on chromosome X, complete sequence</td><td style = \"text-align: right;\">700</td><td style = \"text-align: right;\">113964</td><td style = \"text-align: right;\">7</td><td style = \"text-align: right;\">177</td><td style = \"text-align: right;\">48443</td><td style = \"text-align: right;\">48273</td><td style = \"text-align: right;\">3.18e-61</td><td style = \"text-align: right;\">250.0</td><td style = \"text-align: right;\">171</td><td style = \"text-align: right;\">92.982</td><td style = \"text-align: right;\">159</td><td style = \"text-align: right;\">12</td><td style = \"text-align: right;\">9606</td></tr><tr><td class = \"rowNumber\" style = \"font-weight: bold; text-align: right;\">18511</td><td style = \"text-align: left;\">986</td><td style = \"text-align: left;\">gi|15130741|emb|AL589872.9|</td><td style = \"text-align: left;\">AL589872</td><td style = \"text-align: left;\">AL589872.9</td><td style = \"text-align: left;\">Human DNA sequence from clone RP11-161N3 on chromosome X, complete sequence</td><td style = \"text-align: right;\">700</td><td style = \"text-align: right;\">113964</td><td style = \"text-align: right;\">634</td><td style = \"text-align: right;\">680</td><td style = \"text-align: right;\">93260</td><td style = \"text-align: right;\">93214</td><td style = \"text-align: right;\">1.24e-5</td><td style = \"text-align: right;\">65.8</td><td style = \"text-align: right;\">47</td><td style = \"text-align: right;\">91.489</td><td style = \"text-align: right;\">43</td><td style = \"text-align: right;\">4</td><td style = \"text-align: right;\">9606</td></tr></tbody></table></div>"
      ],
      "text/latex": [
       "\\begin{tabular}{r|cccccc}\n",
       "\t& query id & subject id & subject acc. & subject acc.ver & subject title & \\\\\n",
       "\t\\hline\n",
       "\t& String? & String? & String? & String? & String? & \\\\\n",
       "\t\\hline\n",
       "\t1 & 1002 & gi|31126635|gb|AC144547.6| & AC144547 & AC144547.6 & Homo sapiens 12 BAC RP13-653N12 (Roswell Park Cancer Institute Human BAC Library) complete sequence & $\\dots$ \\\\\n",
       "\t2 & 1002 & gi|31126635|gb|AC144547.6| & AC144547 & AC144547.6 & Homo sapiens 12 BAC RP13-653N12 (Roswell Park Cancer Institute Human BAC Library) complete sequence & $\\dots$ \\\\\n",
       "\t3 & 1002 & gi|1796387707|ref|NG\\_009312.2| & NG\\_009312 & NG\\_009312.2 & Homo sapiens Bardet-Biedl syndrome 2 (BBS2), RefSeqGene on chromosome 16 & $\\dots$ \\\\\n",
       "\t4 & 1002 & gi|1548994290|gb|CP034494.1| & CP034494 & CP034494.1 & Eukaryotic synthetic construct chromosome 16 & $\\dots$ \\\\\n",
       "\t5 & 1002 & gi|1548994290|gb|CP034494.1| & CP034494 & CP034494.1 & Eukaryotic synthetic construct chromosome 16 & $\\dots$ \\\\\n",
       "\t6 & 1002 & gi|2033714908|gb|CP068262.2| & CP068262 & CP068262.2 & Homo sapiens isolate CHM13 chromosome 16 & $\\dots$ \\\\\n",
       "\t7 & 1002 & gi|2033714908|gb|CP068262.2| & CP068262 & CP068262.2 & Homo sapiens isolate CHM13 chromosome 16 & $\\dots$ \\\\\n",
       "\t8 & 1002 & gi|1909942457|dbj|AP023476.1| & AP023476 & AP023476.1 & Homo sapiens DNA, chromosome 16, nearly complete genome & $\\dots$ \\\\\n",
       "\t9 & 1002 & gi|1909942457|dbj|AP023476.1| & AP023476 & AP023476.1 & Homo sapiens DNA, chromosome 16, nearly complete genome & $\\dots$ \\\\\n",
       "\t10 & 1002 & gi|24429609|gb|AC006431.9| & AC006431 & AC006431.9 & Homo sapiens 12 BAC RP11-451H11 (Roswell Park Cancer Institute Human BAC Library) complete sequence & $\\dots$ \\\\\n",
       "\t11 & 1002 & gi|7328722|gb|AC009155.3|AC009155 & AC009155 & AC009155.3 & Homo sapiens chromosome 16 clone RP11-5A3, complete sequence & $\\dots$ \\\\\n",
       "\t12 & 1002 & gi|1031987417|gb|AC270697.1| & AC270697 & AC270697.1 & Pongo abelii chromosome 7 clone CH276-506E16, complete sequence & $\\dots$ \\\\\n",
       "\t13 & 1002 & gi|1031987417|gb|AC270697.1| & AC270697 & AC270697.1 & Pongo abelii chromosome 7 clone CH276-506E16, complete sequence & $\\dots$ \\\\\n",
       "\t14 & 1002 & gi|1031987417|gb|AC270697.1| & AC270697 & AC270697.1 & Pongo abelii chromosome 7 clone CH276-506E16, complete sequence & $\\dots$ \\\\\n",
       "\t15 & 1002 & gi|29788951|emb|BX323046.3| & BX323046 & BX323046.3 & Human DNA sequence from clone RP11-11N7 on chromosome 1, complete sequence & $\\dots$ \\\\\n",
       "\t16 & 1002 & gi|1548994291|gb|CP034495.1| & CP034495 & CP034495.1 & Eukaryotic synthetic construct chromosome 17 & $\\dots$ \\\\\n",
       "\t17 & 1002 & gi|1548994291|gb|CP034495.1| & CP034495 & CP034495.1 & Eukaryotic synthetic construct chromosome 17 & $\\dots$ \\\\\n",
       "\t18 & 1002 & gi|1548994291|gb|CP034495.1| & CP034495 & CP034495.1 & Eukaryotic synthetic construct chromosome 17 & $\\dots$ \\\\\n",
       "\t19 & 1002 & gi|1548994291|gb|CP034495.1| & CP034495 & CP034495.1 & Eukaryotic synthetic construct chromosome 17 & $\\dots$ \\\\\n",
       "\t20 & 1004 & gi|28416170|gb|AC138069.3| & AC138069 & AC138069.3 & Homo sapiens chromosome 3 clone RP13-546I2, complete sequence & $\\dots$ \\\\\n",
       "\t21 & 1004 & gi|28416170|gb|AC138069.3| & AC138069 & AC138069.3 & Homo sapiens chromosome 3 clone RP13-546I2, complete sequence & $\\dots$ \\\\\n",
       "\t22 & 1004 & gi|28416170|gb|AC138069.3| & AC138069 & AC138069.3 & Homo sapiens chromosome 3 clone RP13-546I2, complete sequence & $\\dots$ \\\\\n",
       "\t23 & 1004 & gi|19526158|gb|AC093904.3| & AC093904 & AC093904.3 & Homo sapiens BAC clone RP11-734K21 from 2, complete sequence & $\\dots$ \\\\\n",
       "\t24 & 1004 & gi|1191704960|ref|NG\\_054753.1| & NG\\_054753 & NG\\_054753.1 & Homo sapiens von Willebrand factor A domain containing 3B (VWA3B), RefSeqGene on chromosome 2 & $\\dots$ \\\\\n",
       "\t25 & 1004 & gi|15638896|gb|AC092675.2| & AC092675 & AC092675.2 & Homo sapiens BAC clone RP11-629A22 from 2, complete sequence & $\\dots$ \\\\\n",
       "\t26 & 1004 & gi|15638896|gb|AC092675.2| & AC092675 & AC092675.2 & Homo sapiens BAC clone RP11-629A22 from 2, complete sequence & $\\dots$ \\\\\n",
       "\t27 & 1004 & gi|228008302|ref|NG\\_011965.1| & NG\\_011965 & NG\\_011965.1 & Homo sapiens mitogen-activated protein kinase kinase kinase 5 (MAP3K5), RefSeqGene on chromosome 6 & $\\dots$ \\\\\n",
       "\t28 & 1004 & gi|228008302|ref|NG\\_011965.1| & NG\\_011965 & NG\\_011965.1 & Homo sapiens mitogen-activated protein kinase kinase kinase 5 (MAP3K5), RefSeqGene on chromosome 6 & $\\dots$ \\\\\n",
       "\t29 & 1004 & gi|228008302|ref|NG\\_011965.1| & NG\\_011965 & NG\\_011965.1 & Homo sapiens mitogen-activated protein kinase kinase kinase 5 (MAP3K5), RefSeqGene on chromosome 6 & $\\dots$ \\\\\n",
       "\t30 & 1004 & gi|228008302|ref|NG\\_011965.1| & NG\\_011965 & NG\\_011965.1 & Homo sapiens mitogen-activated protein kinase kinase kinase 5 (MAP3K5), RefSeqGene on chromosome 6 & $\\dots$ \\\\\n",
       "\t$\\dots$ & $\\dots$ & $\\dots$ & $\\dots$ & $\\dots$ & $\\dots$ &  \\\\\n",
       "\\end{tabular}\n"
      ],
      "text/plain": [
       "\u001b[1m18511×18 DataFrame\u001b[0m\n",
       "\u001b[1m   Row \u001b[0m│\u001b[1m query id \u001b[0m\u001b[1m subject id                        \u001b[0m\u001b[1m subject acc. \u001b[0m\u001b[1m subject ac\u001b[0m ⋯\n",
       "       │\u001b[90m String?  \u001b[0m\u001b[90m String?                           \u001b[0m\u001b[90m String?      \u001b[0m\u001b[90m String?   \u001b[0m ⋯\n",
       "───────┼────────────────────────────────────────────────────────────────────────\n",
       "     1 │ 1002      gi|31126635|gb|AC144547.6|         AC144547      AC144547.6 ⋯\n",
       "     2 │ 1002      gi|31126635|gb|AC144547.6|         AC144547      AC144547.6\n",
       "     3 │ 1002      gi|1796387707|ref|NG_009312.2|     NG_009312     NG_009312.\n",
       "     4 │ 1002      gi|1548994290|gb|CP034494.1|       CP034494      CP034494.1\n",
       "     5 │ 1002      gi|1548994290|gb|CP034494.1|       CP034494      CP034494.1 ⋯\n",
       "     6 │ 1002      gi|2033714908|gb|CP068262.2|       CP068262      CP068262.2\n",
       "     7 │ 1002      gi|2033714908|gb|CP068262.2|       CP068262      CP068262.2\n",
       "     8 │ 1002      gi|1909942457|dbj|AP023476.1|      AP023476      AP023476.1\n",
       "     9 │ 1002      gi|1909942457|dbj|AP023476.1|      AP023476      AP023476.1 ⋯\n",
       "    10 │ 1002      gi|24429609|gb|AC006431.9|         AC006431      AC006431.9\n",
       "    11 │ 1002      gi|7328722|gb|AC009155.3|AC009155  AC009155      AC009155.3\n",
       "   ⋮   │    ⋮                      ⋮                       ⋮               ⋮   ⋱\n",
       " 18502 │ 986       gi|1909942460|dbj|AP023479.1|      AP023479      AP023479.1\n",
       " 18503 │ 986       gi|21206230|gb|AC011492.8|         AC011492      AC011492.8 ⋯\n",
       " 18504 │ 986       gi|21206230|gb|AC011492.8|         AC011492      AC011492.8\n",
       " 18505 │ 986       gi|21206230|gb|AC011492.8|         AC011492      AC011492.8\n",
       " 18506 │ 986       gi|301337156|gb|AC214149.4|        AC214149      AC214149.4\n",
       " 18507 │ 986       gi|301337156|gb|AC214149.4|        AC214149      AC214149.4 ⋯\n",
       " 18508 │ 986       gi|657188879|ref|NG_021316.2|      NG_021316     NG_021316.\n",
       " 18509 │ 986       gi|657188879|ref|NG_021316.2|      NG_021316     NG_021316.\n",
       " 18510 │ 986       gi|15130741|emb|AL589872.9|        AL589872      AL589872.9\n",
       " 18511 │ 986       gi|15130741|emb|AL589872.9|        AL589872      AL589872.9 ⋯\n",
       "\u001b[36m                                               15 columns and 18490 rows omitted\u001b[0m"
      ]
     },
     "execution_count": 9,
     "metadata": {},
     "output_type": "execute_result"
    }
   ],
   "source": [
    "# nt_megablast_file = \"final.contigs.fastg.gfa.fna.blastn.nt.megablast.txt\"\n",
    "ref_viruses_rep_genomes_blastn_file = \"final.contigs.fastg.gfa.fna.blastn.ref_viruses_rep_genomes.blastn.txt\"\n",
    "ref_viruses_rep_genomes_dcmegablast_file = \"final.contigs.fastg.gfa.fna.blastn.ref_viruses_rep_genomes.dc-megablast.txt\"\n",
    "ref_viruses_rep_genomes_megablast_file = \"final.contigs.fastg.gfa.fna.blastn.ref_viruses_rep_genomes.megablast.txt\"\n",
    "nt_viral_validation_megablast_file = \"final.contigs.fastg.gfa.potential_viral_contigs.fna.blastn.nt_viruses.megablast.txt\"\n",
    "nt_validation_megablast_file = \"final.contigs.fastg.gfa.potential_viral_contigs.fna.blastn.nt.megablast.txt\"\n",
    "\n",
    "# nt_megablast_results = Mycelia.parse_blast_report(joinpath(SRR_path, \"blastn\", nt_megablast_file))\n",
    "ref_viruses_rep_genomes_blastn_results = Mycelia.parse_blast_report(joinpath(SRR_path, \"blastn\", ref_viruses_rep_genomes_blastn_file))\n",
    "ref_viruses_rep_genomes_dcmegablast_results = Mycelia.parse_blast_report(joinpath(SRR_path, \"blastn\", ref_viruses_rep_genomes_dcmegablast_file))\n",
    "ref_viruses_rep_genomes_megablast_results = Mycelia.parse_blast_report(joinpath(SRR_path, \"blastn\", ref_viruses_rep_genomes_megablast_file))\n",
    "nt_viral_validation_megablast_results = Mycelia.parse_blast_report(joinpath(SRR_path, \"blastn\", nt_viral_validation_megablast_file))\n",
    "nt_validation_megablast_results = Mycelia.parse_blast_report(joinpath(SRR_path, \"blastn\", nt_validation_megablast_file))"
   ]
  },
  {
   "cell_type": "code",
   "execution_count": 10,
   "id": "e2efaf9a-089f-49c6-957a-9daf6c72798c",
   "metadata": {},
   "outputs": [],
   "source": [
    "# most generous\n",
    "# ref_viruses_rep_genomes_blastn_results\n",
    "# ref_viruses_rep_genomes_dcmegablast_results\n",
    "# ref_viruses_rep_genomes_megablast_results\n",
    "# nt_viral_validation_megablast_results\n",
    "# nt_validation_megablast_results\n",
    "# most strict"
   ]
  },
  {
   "cell_type": "code",
   "execution_count": 11,
   "id": "710744eb-70d0-4ea6-817d-686a1c96fd2b",
   "metadata": {},
   "outputs": [
    {
     "name": "stderr",
     "output_type": "stream",
     "text": [
      "\u001b[32mProgress: 100%|█████████████████████████████████████████| Time: 0:00:20\u001b[39m\n"
     ]
    }
   ],
   "source": [
    "taxon_id_to_kingdom_map = Dict{Int, String}()\n",
    "kingdom_to_taxon_id_map = Dict(\n",
    "    \"Viruses\" => 10239,\n",
    "    \"Archaea\" => 2157,\n",
    "    \"Bacteria\" => 2,\n",
    "    \"Eukaryota\" => 2759,\n",
    "    \"Other\" => 28384,\n",
    "    \"Unclassified\" => 12908\n",
    ")\n",
    "ProgressMeter.@showprogress for (kingdom, taxon_id) in kingdom_to_taxon_id_map\n",
    "    for child_taxon_id in parse.(Int, filter(!isempty, readlines(`taxonkit list --data-dir $(taxdump_dir) --ids $(taxon_id) --indent=\"\"`)))\n",
    "        taxon_id_to_kingdom_map[child_taxon_id] = kingdom\n",
    "    end\n",
    "end"
   ]
  },
  {
   "cell_type": "code",
   "execution_count": 12,
   "id": "85bcad01-ccf9-4613-b90d-3cbbc07bece1",
   "metadata": {},
   "outputs": [
    {
     "data": {
      "text/plain": [
       "900-element Vector{Union{Missing, String}}:\n",
       " \"1002\"\n",
       " \"1004\"\n",
       " \"1008\"\n",
       " \"1014\"\n",
       " \"1021\"\n",
       " \"1023\"\n",
       " \"1027\"\n",
       " \"1030\"\n",
       " \"1046\"\n",
       " \"1052\"\n",
       " \"1062\"\n",
       " \"107\"\n",
       " \"1075\"\n",
       " ⋮\n",
       " \"886\"\n",
       " \"895\"\n",
       " \"90\"\n",
       " \"907\"\n",
       " \"924\"\n",
       " \"946\"\n",
       " \"963\"\n",
       " \"971\"\n",
       " \"975\"\n",
       " \"976\"\n",
       " \"978\"\n",
       " \"986\""
      ]
     },
     "execution_count": 12,
     "metadata": {},
     "output_type": "execute_result"
    }
   ],
   "source": [
    "ref_viruses_rep_genomes_blastn_contigs = unique(ref_viruses_rep_genomes_blastn_results[!, \"query id\"])"
   ]
  },
  {
   "cell_type": "code",
   "execution_count": 13,
   "id": "a6ae85aa-b196-4d78-920c-6b89286862f8",
   "metadata": {},
   "outputs": [
    {
     "data": {
      "text/plain": [
       "625-element Vector{Union{Missing, String}}:\n",
       " \"1002\"\n",
       " \"1008\"\n",
       " \"1014\"\n",
       " \"1023\"\n",
       " \"1046\"\n",
       " \"1052\"\n",
       " \"1060\"\n",
       " \"1062\"\n",
       " \"107\"\n",
       " \"1075\"\n",
       " \"1079\"\n",
       " \"1088\"\n",
       " \"1091\"\n",
       " ⋮\n",
       " \"886\"\n",
       " \"895\"\n",
       " \"90\"\n",
       " \"907\"\n",
       " \"924\"\n",
       " \"946\"\n",
       " \"963\"\n",
       " \"971\"\n",
       " \"975\"\n",
       " \"976\"\n",
       " \"978\"\n",
       " \"986\""
      ]
     },
     "execution_count": 13,
     "metadata": {},
     "output_type": "execute_result"
    }
   ],
   "source": [
    "ref_viruses_rep_genomes_dcmegablast_contigs = unique(ref_viruses_rep_genomes_dcmegablast_results[!, \"query id\"])"
   ]
  },
  {
   "cell_type": "code",
   "execution_count": 14,
   "id": "ce7873af-d844-4bb2-a62a-9f03aa7b5cde",
   "metadata": {},
   "outputs": [],
   "source": [
    "# # 8 non-overlapping hits!\n",
    "# union(ref_viruses_rep_genomes_dcmegablast_contigs, ref_viruses_rep_genomes_blastn_contigs)\n",
    "# # these all have pretty low e-values, I'm not going to worry about them\n",
    "# dcmegablast_only = setdiff(ref_viruses_rep_genomes_dcmegablast_contigs, ref_viruses_rep_genomes_blastn_contigs)\n",
    "# ref_viruses_rep_genomes_dcmegablast_results[map(x -> x in dcmegablast_only, ref_viruses_rep_genomes_dcmegablast_results[!, \"query id\"]), :]"
   ]
  },
  {
   "cell_type": "code",
   "execution_count": 15,
   "id": "03a613c7-dd0a-4ab2-9d15-83896cbeb556",
   "metadata": {},
   "outputs": [
    {
     "data": {
      "text/plain": [
       "210-element Vector{Union{Missing, String}}:\n",
       " \"1014\"\n",
       " \"1062\"\n",
       " \"107\"\n",
       " \"1075\"\n",
       " \"1079\"\n",
       " \"1088\"\n",
       " \"1110\"\n",
       " \"1119\"\n",
       " \"1211\"\n",
       " \"1301\"\n",
       " \"1340\"\n",
       " \"1397\"\n",
       " \"140\"\n",
       " ⋮\n",
       " \"7628\"\n",
       " \"7683\"\n",
       " \"7684\"\n",
       " \"807\"\n",
       " \"810\"\n",
       " \"819\"\n",
       " \"833\"\n",
       " \"843\"\n",
       " \"879\"\n",
       " \"924\"\n",
       " \"975\"\n",
       " \"986\""
      ]
     },
     "execution_count": 15,
     "metadata": {},
     "output_type": "execute_result"
    }
   ],
   "source": [
    "ref_viruses_rep_genomes_megablast_contigs = unique(ref_viruses_rep_genomes_megablast_results[!, \"query id\"])\n",
    "# nt_viral_validation_megablast_results\n",
    "# nt_validation_megablast_results\n",
    "# all megablast hits are subset of blastn hits\n",
    "# union(ref_viruses_rep_genomes_megablast_contigs, ref_viruses_rep_genomes_blastn_contigs)"
   ]
  },
  {
   "cell_type": "code",
   "execution_count": 16,
   "id": "d14d8ee7-e501-4340-86a4-d325579cfde5",
   "metadata": {},
   "outputs": [
    {
     "data": {
      "text/plain": [
       "535-element Vector{Union{Missing, String}}:\n",
       " \"1004\"\n",
       " \"1014\"\n",
       " \"1023\"\n",
       " \"1046\"\n",
       " \"1052\"\n",
       " \"1062\"\n",
       " \"107\"\n",
       " \"1075\"\n",
       " \"1079\"\n",
       " \"1088\"\n",
       " \"1091\"\n",
       " \"1106\"\n",
       " \"1110\"\n",
       " ⋮\n",
       " \"852\"\n",
       " \"879\"\n",
       " \"886\"\n",
       " \"895\"\n",
       " \"90\"\n",
       " \"907\"\n",
       " \"924\"\n",
       " \"946\"\n",
       " \"963\"\n",
       " \"975\"\n",
       " \"978\"\n",
       " \"986\""
      ]
     },
     "execution_count": 16,
     "metadata": {},
     "output_type": "execute_result"
    }
   ],
   "source": [
    "nt_viral_validation_megablast_contigs = unique(nt_viral_validation_megablast_results[!, \"query id\"])\n",
    "# nt_validation_megablast_results"
   ]
  },
  {
   "cell_type": "code",
   "execution_count": 17,
   "id": "a43d5d60-a85c-47cf-9671-e77cc78aa1f3",
   "metadata": {},
   "outputs": [],
   "source": [
    "# union(nt_viral_validation_megablast_contigs, ref_viruses_rep_genomes_blastn_contigs)\n",
    "# map(x -> x in viral_taxon_ids, nt_viral_validation_megablast_results[!, \"subject tax id\"])"
   ]
  },
  {
   "cell_type": "code",
   "execution_count": 20,
   "id": "7bf277bd-ba40-4da3-a443-fa97df472e6b",
   "metadata": {},
   "outputs": [
    {
     "data": {
      "text/plain": [
       "Dict{Int64, String} with 2495417 entries:\n",
       "  1833455 => \"Eukaryota\"\n",
       "  939878  => \"Bacteria\"\n",
       "  1657194 => \"Eukaryota\"\n",
       "  1689468 => \"Eukaryota\"\n",
       "  1218847 => \"Bacteria\"\n",
       "  2437694 => \"Eukaryota\"\n",
       "  427681  => \"Bacteria\"\n",
       "  331451  => \"Eukaryota\"\n",
       "  1301117 => \"Eukaryota\"\n",
       "  2440406 => \"Eukaryota\"\n",
       "  2415901 => \"Eukaryota\"\n",
       "  1994307 => \"Eukaryota\"\n",
       "  1692473 => \"Eukaryota\"\n",
       "  1797564 => \"Bacteria\"\n",
       "  313905  => \"Eukaryota\"\n",
       "  2224718 => \"Eukaryota\"\n",
       "  2931701 => \"Eukaryota\"\n",
       "  1569729 => \"Eukaryota\"\n",
       "  1879756 => \"Eukaryota\"\n",
       "  1777250 => \"Bacteria\"\n",
       "  1260601 => \"Eukaryota\"\n",
       "  1723186 => \"Eukaryota\"\n",
       "  1143010 => \"Eukaryota\"\n",
       "  1952402 => \"Bacteria\"\n",
       "  1331727 => \"Bacteria\"\n",
       "  ⋮       => ⋮"
      ]
     },
     "execution_count": 20,
     "metadata": {},
     "output_type": "execute_result"
    }
   ],
   "source": [
    "taxon_id_to_kingdom_map"
   ]
  },
  {
   "cell_type": "code",
   "execution_count": 22,
   "id": "68d12617-25e0-4381-8f6e-8e863d07b005",
   "metadata": {},
   "outputs": [
    {
     "data": {
      "text/plain": [
       "12-element Vector{Union{Missing, String}}:\n",
       " \"1274\"\n",
       " \"1397\"\n",
       " \"1644\"\n",
       " \"2192\"\n",
       " \"2884\"\n",
       " \"2979\"\n",
       " \"3830\"\n",
       " \"4529\"\n",
       " \"7119\"\n",
       " \"7395\"\n",
       " \"7565\"\n",
       " \"7611\""
      ]
     },
     "execution_count": 22,
     "metadata": {},
     "output_type": "execute_result"
    }
   ],
   "source": [
    "# only 12 contigs are still considered viral contigs after mapping to nt complete, but the hits aren't very convicing (bacterial artificial chromosomes?)\n",
    "nt_validation_megablast_contigs = unique(nt_validation_megablast_results[map(x -> get(taxon_id_to_kingdom_map, x, \"\") == \"Viruses\", nt_validation_megablast_results[!, \"subject tax id\"]), \"query id\"])"
   ]
  },
  {
   "cell_type": "code",
   "execution_count": 23,
   "id": "7bfa6b9e-f57f-4b08-a9aa-6bffc5535537",
   "metadata": {},
   "outputs": [
    {
     "data": {
      "text/plain": [
       "908-element Vector{Union{Missing, String}}:\n",
       " \"1274\"\n",
       " \"1397\"\n",
       " \"1644\"\n",
       " \"2192\"\n",
       " \"2884\"\n",
       " \"2979\"\n",
       " \"3830\"\n",
       " \"4529\"\n",
       " \"7119\"\n",
       " \"7395\"\n",
       " \"7565\"\n",
       " \"7611\"\n",
       " \"1004\"\n",
       " ⋮\n",
       " \"821\"\n",
       " \"848\"\n",
       " \"971\"\n",
       " \"976\"\n",
       " \"1060\"\n",
       " \"1348\"\n",
       " \"2274\"\n",
       " \"3614\"\n",
       " \"4371\"\n",
       " \"4547\"\n",
       " \"5522\"\n",
       " \"6039\""
      ]
     },
     "execution_count": 23,
     "metadata": {},
     "output_type": "execute_result"
    }
   ],
   "source": [
    "full_contig_set = union(nt_validation_megablast_contigs, nt_viral_validation_megablast_contigs, ref_viruses_rep_genomes_blastn_contigs, ref_viruses_rep_genomes_dcmegablast_contigs, ref_viruses_rep_genomes_megablast_contigs)"
   ]
  },
  {
   "cell_type": "code",
   "execution_count": 24,
   "id": "f822e462-9e71-4d7d-a995-83ae12531d53",
   "metadata": {},
   "outputs": [],
   "source": [
    "# get all of the reads mapping to each"
   ]
  },
  {
   "cell_type": "code",
   "execution_count": 25,
   "id": "083357d6-f12d-455e-999e-a1061890bbf7",
   "metadata": {},
   "outputs": [
    {
     "data": {
      "text/plain": [
       "\"/home/jovyan/work/Mycelia/projects/viral-pangenome-discovery/data/SRA/SRR6399459/megahit/final.contigs.fastg.gfa.fna.bwa.bam\""
      ]
     },
     "execution_count": 25,
     "metadata": {},
     "output_type": "execute_result"
    }
   ],
   "source": [
    "bam_file = joinpath(SRR_path, \"megahit\", \"final.contigs.fastg.gfa.fna.bwa.bam\")\n",
    "# bamfile = first(filter(x -> occursin(r\"\\.bam$\", x), readdir(joinpath(SRR_dir, \"megahit\"), join=true)))"
   ]
  },
  {
   "cell_type": "code",
   "execution_count": 26,
   "id": "0ba6097a-cc84-4c63-9f18-7d1533ba9a21",
   "metadata": {},
   "outputs": [],
   "source": [
    "# implement as the following nested dictionary\n",
    "# contigs => reads => taxon_id"
   ]
  },
  {
   "cell_type": "code",
   "execution_count": 27,
   "id": "527dd6b4-7446-4a4c-a40b-43885be82e3f",
   "metadata": {},
   "outputs": [
    {
     "data": {
      "text/plain": [
       "generate_contig_to_reads_map (generic function with 1 method)"
      ]
     },
     "execution_count": 27,
     "metadata": {},
     "output_type": "execute_result"
    }
   ],
   "source": [
    "function generate_contig_to_reads_map(bamfile, contigs_of_interest)\n",
    "    contigs_to_reads_map = Dict(contig => Set{String}() for contig in contigs_of_interest)\n",
    "    # reads_of_interest = Set{String}()\n",
    "    reader = open(XAM.BAM.Reader, bamfile)\n",
    "    for record in reader\n",
    "        if XAM.BAM.ismapped(record) && (XAM.BAM.refname(record) in contigs_of_interest)\n",
    "            push!(contigs_to_reads_map[XAM.BAM.refname(record)], XAM.BAM.tempname(record))\n",
    "        end\n",
    "    end\n",
    "    close(reader)\n",
    "    return contigs_to_reads_map\n",
    "end"
   ]
  },
  {
   "cell_type": "code",
   "execution_count": 28,
   "id": "77a511a1-9112-424d-a75e-63a05c990bb4",
   "metadata": {},
   "outputs": [
    {
     "name": "stdout",
     "output_type": "stream",
     "text": [
      "1050.923433 seconds (390.17 M allocations: 63.869 GiB, 1.21% gc time, 0.18% compilation time)\n"
     ]
    },
    {
     "data": {
      "text/plain": [
       "Dict{String, Set{String}} with 908 entries:\n",
       "  \"1470\" => Set([\"SRR6399459.8389009\", \"SRR6399459.8390043\", \"SRR6399459.838358…\n",
       "  \"5944\" => Set([\"SRR6399459.8575188\", \"SRR6399459.8576385\", \"SRR6399459.857539…\n",
       "  \"332\"  => Set([\"SRR6399459.12057992\", \"SRR6399459.54509100\", \"SRR6399459.1968…\n",
       "  \"4500\" => Set([\"SRR6399459.1953406\", \"SRR6399459.192358\", \"SRR6399459.3092145…\n",
       "  \"5492\" => Set([\"SRR6399459.7704694\", \"SRR6399459.8548748\", \"SRR6399459.770464…\n",
       "  \"2717\" => Set([\"SRR6399459.8180730\", \"SRR6399459.8253709\", \"SRR6399459.817765…\n",
       "  \"3215\" => Set([\"SRR6399459.5140811\", \"SRR6399459.5059133\", \"SRR6399459.522222…\n",
       "  \"6780\" => Set([\"SRR6399459.8210219\", \"SRR6399459.8262764\", \"SRR6399459.324935…\n",
       "  \"4088\" => Set([\"SRR6399459.8658558\", \"SRR6399459.8658593\", \"SRR6399459.865856…\n",
       "  \"1106\" => Set([\"SRR6399459.7849552\", \"SRR6399459.7849673\", \"SRR6399459.784952…\n",
       "  \"6709\" => Set([\"SRR6399459.8658045\", \"SRR6399459.8658005\", \"SRR6399459.865799…\n",
       "  \"3823\" => Set([\"SRR6399459.1842067\", \"SRR6399459.1833144\", \"SRR6399459.183581…\n",
       "  \"6070\" => Set([\"SRR6399459.7961162\", \"SRR6399459.7909302\", \"SRR6399459.796803…\n",
       "  \"7378\" => Set([\"SRR6399459.6338614\", \"SRR6399459.6338596\"])\n",
       "  \"1863\" => Set([\"SRR6399459.24131755\", \"SRR6399459.42553108\", \"SRR6399459.5428…\n",
       "  \"6820\" => Set([\"SRR6399459.8301436\", \"SRR6399459.8304659\", \"SRR6399459.829584…\n",
       "  \"7069\" => Set([\"SRR6399459.243140\", \"SRR6399459.240852\", \"SRR6399459.2179282\"…\n",
       "  \"2527\" => Set([\"SRR6399459.3809457\", \"SRR6399459.3802119\", \"SRR6399459.384791…\n",
       "  \"6912\" => Set([\"SRR6399459.8294615\", \"SRR6399459.8323378\", \"SRR6399459.829177…\n",
       "  \"2270\" => Set([\"SRR6399459.8382520\", \"SRR6399459.8382528\", \"SRR6399459.838486…\n",
       "  \"1429\" => Set([\"SRR6399459.53208728\", \"SRR6399459.1736385\", \"SRR6399459.32075…\n",
       "  \"1588\" => Set([\"SRR6399459.3298515\", \"SRR6399459.3309660\", \"SRR6399459.336929…\n",
       "  \"843\"  => Set([\"SRR6399459.7979163\", \"SRR6399459.2923703\", \"SRR6399459.292367…\n",
       "  \"4308\" => Set([\"SRR6399459.6432222\", \"SRR6399459.6433094\", \"SRR6399459.643241…\n",
       "  \"3056\" => Set([\"SRR6399459.47525583\", \"SRR6399459.29289277\", \"SRR6399459.8585…\n",
       "  ⋮      => ⋮"
      ]
     },
     "execution_count": 28,
     "metadata": {},
     "output_type": "execute_result"
    }
   ],
   "source": [
    "# 1200 seconds\n",
    "@time contigs_to_reads_map = generate_contig_to_reads_map(bam_file, full_contig_set)"
   ]
  },
  {
   "cell_type": "code",
   "execution_count": 29,
   "id": "7d7b6453-1bce-43d2-8ab3-67fd422d7125",
   "metadata": {},
   "outputs": [
    {
     "data": {
      "text/plain": [
       "read_kraken_output (generic function with 1 method)"
      ]
     },
     "execution_count": 29,
     "metadata": {},
     "output_type": "execute_result"
    }
   ],
   "source": [
    "function read_kraken_output(kraken_output)\n",
    "    # read_kraken_report\n",
    "    header = [\n",
    "        \"classification status\",\n",
    "        \"sequence ID\",\n",
    "        \"taxon ID\",\n",
    "        \"sequence length\",\n",
    "        \"LCA mappings\"\n",
    "    ]\n",
    "    data, _ = uCSV.read(IOBuffer(join(filtered_lines, '\\n')), delim='\\t')\n",
    "    return DataFrames.DataFrame(data, header)\n",
    "end"
   ]
  },
  {
   "cell_type": "code",
   "execution_count": null,
   "id": "7c8a16f0-bee1-4cd3-a02f-a99f4a0900ba",
   "metadata": {},
   "outputs": [],
   "source": [
    "# readdir(joinpath(SRR_path, \"kraken\"))"
   ]
  },
  {
   "cell_type": "code",
   "execution_count": 33,
   "id": "805e5268-a853-48cd-957e-3fb6f4703f26",
   "metadata": {},
   "outputs": [
    {
     "data": {
      "text/plain": [
       "Set{String} with 6566601 elements:\n",
       "  \"SRR6399459.53355486\"\n",
       "  \"SRR6399459.4264522\"\n",
       "  \"SRR6399459.232642\"\n",
       "  \"SRR6399459.20487110\"\n",
       "  \"SRR6399459.2430738\"\n",
       "  \"SRR6399459.4477130\"\n",
       "  \"SRR6399459.1631937\"\n",
       "  \"SRR6399459.4984566\"\n",
       "  \"SRR6399459.6431134\"\n",
       "  \"SRR6399459.4299344\"\n",
       "  \"SRR6399459.4743887\"\n",
       "  \"SRR6399459.1962832\"\n",
       "  \"SRR6399459.28366057\"\n",
       "  \"SRR6399459.1677658\"\n",
       "  \"SRR6399459.1655641\"\n",
       "  \"SRR6399459.3913095\"\n",
       "  \"SRR6399459.4400531\"\n",
       "  \"SRR6399459.4020534\"\n",
       "  \"SRR6399459.3357950\"\n",
       "  \"SRR6399459.4064551\"\n",
       "  \"SRR6399459.2273328\"\n",
       "  \"SRR6399459.5194330\"\n",
       "  \"SRR6399459.3190925\"\n",
       "  \"SRR6399459.240640\"\n",
       "  \"SRR6399459.3330294\"\n",
       "  ⋮ "
      ]
     },
     "execution_count": 33,
     "metadata": {},
     "output_type": "execute_result"
    }
   ],
   "source": [
    "reads_of_interest = reduce(union, values(contigs_to_reads_map))"
   ]
  },
  {
   "cell_type": "code",
   "execution_count": 34,
   "id": "247641f4-a1f1-46df-8d4d-fb579041983e",
   "metadata": {},
   "outputs": [
    {
     "data": {
      "text/html": [
       "<div><div style = \"float: left;\"><span>6566601×6 DataFrame</span></div><div style = \"float: right;\"><span style = \"font-style: italic;\">6566576 rows omitted</span></div><div style = \"clear: both;\"></div></div><div class = \"data-frame\" style = \"overflow-x: scroll;\"><table class = \"data-frame\" style = \"margin-bottom: 6px;\"><thead><tr class = \"header\"><th class = \"rowNumber\" style = \"font-weight: bold; text-align: right;\">Row</th><th style = \"text-align: left;\">classification status</th><th style = \"text-align: left;\">sequence ID</th><th style = \"text-align: left;\">taxon ID</th><th style = \"text-align: left;\">sequence length</th><th style = \"text-align: left;\">LCA mappings</th><th style = \"text-align: left;\">parsed taxon ID</th></tr><tr class = \"subheader headerLastRow\"><th class = \"rowNumber\" style = \"font-weight: bold; text-align: right;\"></th><th title = \"String\" style = \"text-align: left;\">String</th><th title = \"String\" style = \"text-align: left;\">String</th><th title = \"String\" style = \"text-align: left;\">String</th><th title = \"String\" style = \"text-align: left;\">String</th><th title = \"String\" style = \"text-align: left;\">String</th><th title = \"SubString{String}\" style = \"text-align: left;\">SubStrin…</th></tr></thead><tbody><tr><td class = \"rowNumber\" style = \"font-weight: bold; text-align: right;\">1</td><td style = \"text-align: left;\">C</td><td style = \"text-align: left;\">SRR6399459.1</td><td style = \"text-align: left;\">Homo sapiens (taxid 9606)</td><td style = \"text-align: left;\">150|109</td><td style = \"text-align: left;\">9606:116 |:| 0:59 131567:3 0:13</td><td style = \"text-align: left;\">9606</td></tr><tr><td class = \"rowNumber\" style = \"font-weight: bold; text-align: right;\">2</td><td style = \"text-align: left;\">C</td><td style = \"text-align: left;\">SRR6399459.7</td><td style = \"text-align: left;\">Homo sapiens (taxid 9606)</td><td style = \"text-align: left;\">150|36</td><td style = \"text-align: left;\">9606:14 0:102 |:| 9606:2</td><td style = \"text-align: left;\">9606</td></tr><tr><td class = \"rowNumber\" style = \"font-weight: bold; text-align: right;\">3</td><td style = \"text-align: left;\">C</td><td style = \"text-align: left;\">SRR6399459.15</td><td style = \"text-align: left;\">Homo sapiens (taxid 9606)</td><td style = \"text-align: left;\">89|148</td><td style = \"text-align: left;\">9606:2 2759:2 1:5 2759:3 9606:5 0:21 9606:17 |:| 2759:2 9606:5 2759:1 9606:2 0:21 9606:5 2759:3 1:5 2759:2 9606:2 2759:5 9606:3 0:58</td><td style = \"text-align: left;\">9606</td></tr><tr><td class = \"rowNumber\" style = \"font-weight: bold; text-align: right;\">4</td><td style = \"text-align: left;\">C</td><td style = \"text-align: left;\">SRR6399459.16</td><td style = \"text-align: left;\">Homo sapiens (taxid 9606)</td><td style = \"text-align: left;\">151|151</td><td style = \"text-align: left;\">2759:4 9606:52 2759:2 131567:10 2759:9 9606:5 2759:1 9606:2 0:22 5855:4 2759:6 |:| 9606:5 0:5 9606:1 0:44 9606:6 0:6 9606:5 0:29 9606:10 0:2 9606:4</td><td style = \"text-align: left;\">9606</td></tr><tr><td class = \"rowNumber\" style = \"font-weight: bold; text-align: right;\">5</td><td style = \"text-align: left;\">C</td><td style = \"text-align: left;\">SRR6399459.18</td><td style = \"text-align: left;\">Homo sapiens (taxid 9606)</td><td style = \"text-align: left;\">151|151</td><td style = \"text-align: left;\">0:117 |:| 0:57 9606:22 0:1 9606:13 0:24</td><td style = \"text-align: left;\">9606</td></tr><tr><td class = \"rowNumber\" style = \"font-weight: bold; text-align: right;\">6</td><td style = \"text-align: left;\">C</td><td style = \"text-align: left;\">SRR6399459.19</td><td style = \"text-align: left;\">Homo sapiens (taxid 9606)</td><td style = \"text-align: left;\">150|151</td><td style = \"text-align: left;\">0:116 |:| 0:70 9606:1 0:11 9606:2 0:9 9606:24</td><td style = \"text-align: left;\">9606</td></tr><tr><td class = \"rowNumber\" style = \"font-weight: bold; text-align: right;\">7</td><td style = \"text-align: left;\">C</td><td style = \"text-align: left;\">SRR6399459.20</td><td style = \"text-align: left;\">Homo sapiens (taxid 9606)</td><td style = \"text-align: left;\">151|148</td><td style = \"text-align: left;\">0:62 9606:32 0:2 714518:2 89674:5 0:14 |:| 0:114</td><td style = \"text-align: left;\">9606</td></tr><tr><td class = \"rowNumber\" style = \"font-weight: bold; text-align: right;\">8</td><td style = \"text-align: left;\">C</td><td style = \"text-align: left;\">SRR6399459.21</td><td style = \"text-align: left;\">Homo sapiens (taxid 9606)</td><td style = \"text-align: left;\">151|149</td><td style = \"text-align: left;\">0:117 |:| 0:22 9606:20 229533:2 0:71</td><td style = \"text-align: left;\">9606</td></tr><tr><td class = \"rowNumber\" style = \"font-weight: bold; text-align: right;\">9</td><td style = \"text-align: left;\">C</td><td style = \"text-align: left;\">SRR6399459.36</td><td style = \"text-align: left;\">Homo sapiens (taxid 9606)</td><td style = \"text-align: left;\">149|151</td><td style = \"text-align: left;\">9606:48 0:27 9606:5 0:1 9606:34 |:| 9606:2 0:13 9606:5 2759:7 9606:31 0:37 9606:8 0:4 9606:5 0:3 9606:2</td><td style = \"text-align: left;\">9606</td></tr><tr><td class = \"rowNumber\" style = \"font-weight: bold; text-align: right;\">10</td><td style = \"text-align: left;\">C</td><td style = \"text-align: left;\">SRR6399459.37</td><td style = \"text-align: left;\">Homo sapiens (taxid 9606)</td><td style = \"text-align: left;\">149|82</td><td style = \"text-align: left;\">9606:48 0:27 9606:5 0:1 9606:34 |:| 9606:2 0:13 9606:5 2759:7 9606:21</td><td style = \"text-align: left;\">9606</td></tr><tr><td class = \"rowNumber\" style = \"font-weight: bold; text-align: right;\">11</td><td style = \"text-align: left;\">C</td><td style = \"text-align: left;\">SRR6399459.53</td><td style = \"text-align: left;\">Homo sapiens (taxid 9606)</td><td style = \"text-align: left;\">150|151</td><td style = \"text-align: left;\">9606:116 |:| 0:61 3755:3 0:7 158386:3 0:10 3817:2 0:31</td><td style = \"text-align: left;\">9606</td></tr><tr><td class = \"rowNumber\" style = \"font-weight: bold; text-align: right;\">12</td><td style = \"text-align: left;\">C</td><td style = \"text-align: left;\">SRR6399459.54</td><td style = \"text-align: left;\">Homo sapiens (taxid 9606)</td><td style = \"text-align: left;\">151|55</td><td style = \"text-align: left;\">9606:99 0:18 |:| 0:20 9606:1</td><td style = \"text-align: left;\">9606</td></tr><tr><td class = \"rowNumber\" style = \"font-weight: bold; text-align: right;\">13</td><td style = \"text-align: left;\">U</td><td style = \"text-align: left;\">SRR6399459.55</td><td style = \"text-align: left;\">unclassified (taxid 0)</td><td style = \"text-align: left;\">149|42</td><td style = \"text-align: left;\">0:115 |:| 9606:4 0:4</td><td style = \"text-align: left;\">0</td></tr><tr><td style = \"text-align: right;\">&vellip;</td><td style = \"text-align: right;\">&vellip;</td><td style = \"text-align: right;\">&vellip;</td><td style = \"text-align: right;\">&vellip;</td><td style = \"text-align: right;\">&vellip;</td><td style = \"text-align: right;\">&vellip;</td><td style = \"text-align: right;\">&vellip;</td></tr><tr><td class = \"rowNumber\" style = \"font-weight: bold; text-align: right;\">6566590</td><td style = \"text-align: left;\">U</td><td style = \"text-align: left;\">SRR6399459.56809648</td><td style = \"text-align: left;\">unclassified (taxid 0)</td><td style = \"text-align: left;\">149|147</td><td style = \"text-align: left;\">0:115 |:| 0:113</td><td style = \"text-align: left;\">0</td></tr><tr><td class = \"rowNumber\" style = \"font-weight: bold; text-align: right;\">6566591</td><td style = \"text-align: left;\">C</td><td style = \"text-align: left;\">SRR6399459.56809723</td><td style = \"text-align: left;\">root (taxid 1)</td><td style = \"text-align: left;\">151|151</td><td style = \"text-align: left;\">1:117 |:| 1:46 0:25 1:2 0:1 1:27 0:14 1:2</td><td style = \"text-align: left;\">1</td></tr><tr><td class = \"rowNumber\" style = \"font-weight: bold; text-align: right;\">6566592</td><td style = \"text-align: left;\">U</td><td style = \"text-align: left;\">SRR6399459.56809734</td><td style = \"text-align: left;\">unclassified (taxid 0)</td><td style = \"text-align: left;\">150|145</td><td style = \"text-align: left;\">0:116 |:| 0:49 2304600:5 0:57</td><td style = \"text-align: left;\">0</td></tr><tr><td class = \"rowNumber\" style = \"font-weight: bold; text-align: right;\">6566593</td><td style = \"text-align: left;\">U</td><td style = \"text-align: left;\">SRR6399459.56809780</td><td style = \"text-align: left;\">unclassified (taxid 0)</td><td style = \"text-align: left;\">151|151</td><td style = \"text-align: left;\">0:107 94328:5 0:5 |:| 0:117</td><td style = \"text-align: left;\">0</td></tr><tr><td class = \"rowNumber\" style = \"font-weight: bold; text-align: right;\">6566594</td><td style = \"text-align: left;\">U</td><td style = \"text-align: left;\">SRR6399459.56809792</td><td style = \"text-align: left;\">unclassified (taxid 0)</td><td style = \"text-align: left;\">149|130</td><td style = \"text-align: left;\">0:115 |:| 0:96</td><td style = \"text-align: left;\">0</td></tr><tr><td class = \"rowNumber\" style = \"font-weight: bold; text-align: right;\">6566595</td><td style = \"text-align: left;\">U</td><td style = \"text-align: left;\">SRR6399459.56809797</td><td style = \"text-align: left;\">unclassified (taxid 0)</td><td style = \"text-align: left;\">150|148</td><td style = \"text-align: left;\">0:116 |:| 0:114</td><td style = \"text-align: left;\">0</td></tr><tr><td class = \"rowNumber\" style = \"font-weight: bold; text-align: right;\">6566596</td><td style = \"text-align: left;\">U</td><td style = \"text-align: left;\">SRR6399459.56809829</td><td style = \"text-align: left;\">unclassified (taxid 0)</td><td style = \"text-align: left;\">151|149</td><td style = \"text-align: left;\">0:117 |:| 0:115</td><td style = \"text-align: left;\">0</td></tr><tr><td class = \"rowNumber\" style = \"font-weight: bold; text-align: right;\">6566597</td><td style = \"text-align: left;\">U</td><td style = \"text-align: left;\">SRR6399459.56809832</td><td style = \"text-align: left;\">unclassified (taxid 0)</td><td style = \"text-align: left;\">144|150</td><td style = \"text-align: left;\">0:110 |:| 0:116</td><td style = \"text-align: left;\">0</td></tr><tr><td class = \"rowNumber\" style = \"font-weight: bold; text-align: right;\">6566598</td><td style = \"text-align: left;\">C</td><td style = \"text-align: left;\">SRR6399459.56809862</td><td style = \"text-align: left;\">Hordeum vulgare subsp. vulgare (taxid 112509)</td><td style = \"text-align: left;\">151|150</td><td style = \"text-align: left;\">0:18 112509:5 0:94 |:| 0:75 112509:5 0:36</td><td style = \"text-align: left;\">112509</td></tr><tr><td class = \"rowNumber\" style = \"font-weight: bold; text-align: right;\">6566599</td><td style = \"text-align: left;\">U</td><td style = \"text-align: left;\">SRR6399459.56809907</td><td style = \"text-align: left;\">unclassified (taxid 0)</td><td style = \"text-align: left;\">148|151</td><td style = \"text-align: left;\">0:114 |:| 0:117</td><td style = \"text-align: left;\">0</td></tr><tr><td class = \"rowNumber\" style = \"font-weight: bold; text-align: right;\">6566600</td><td style = \"text-align: left;\">U</td><td style = \"text-align: left;\">SRR6399459.56809909</td><td style = \"text-align: left;\">unclassified (taxid 0)</td><td style = \"text-align: left;\">151|151</td><td style = \"text-align: left;\">0:117 |:| 0:117</td><td style = \"text-align: left;\">0</td></tr><tr><td class = \"rowNumber\" style = \"font-weight: bold; text-align: right;\">6566601</td><td style = \"text-align: left;\">U</td><td style = \"text-align: left;\">SRR6399459.56809918</td><td style = \"text-align: left;\">unclassified (taxid 0)</td><td style = \"text-align: left;\">151|151</td><td style = \"text-align: left;\">0:117 |:| 0:108 112509:5 0:4</td><td style = \"text-align: left;\">0</td></tr></tbody></table></div>"
      ],
      "text/latex": [
       "\\begin{tabular}{r|cccc}\n",
       "\t& classification status & sequence ID & taxon ID & \\\\\n",
       "\t\\hline\n",
       "\t& String & String & String & \\\\\n",
       "\t\\hline\n",
       "\t1 & C & SRR6399459.1 & Homo sapiens (taxid 9606) & $\\dots$ \\\\\n",
       "\t2 & C & SRR6399459.7 & Homo sapiens (taxid 9606) & $\\dots$ \\\\\n",
       "\t3 & C & SRR6399459.15 & Homo sapiens (taxid 9606) & $\\dots$ \\\\\n",
       "\t4 & C & SRR6399459.16 & Homo sapiens (taxid 9606) & $\\dots$ \\\\\n",
       "\t5 & C & SRR6399459.18 & Homo sapiens (taxid 9606) & $\\dots$ \\\\\n",
       "\t6 & C & SRR6399459.19 & Homo sapiens (taxid 9606) & $\\dots$ \\\\\n",
       "\t7 & C & SRR6399459.20 & Homo sapiens (taxid 9606) & $\\dots$ \\\\\n",
       "\t8 & C & SRR6399459.21 & Homo sapiens (taxid 9606) & $\\dots$ \\\\\n",
       "\t9 & C & SRR6399459.36 & Homo sapiens (taxid 9606) & $\\dots$ \\\\\n",
       "\t10 & C & SRR6399459.37 & Homo sapiens (taxid 9606) & $\\dots$ \\\\\n",
       "\t11 & C & SRR6399459.53 & Homo sapiens (taxid 9606) & $\\dots$ \\\\\n",
       "\t12 & C & SRR6399459.54 & Homo sapiens (taxid 9606) & $\\dots$ \\\\\n",
       "\t13 & U & SRR6399459.55 & unclassified (taxid 0) & $\\dots$ \\\\\n",
       "\t14 & U & SRR6399459.56 & unclassified (taxid 0) & $\\dots$ \\\\\n",
       "\t15 & C & SRR6399459.62 & Homo sapiens (taxid 9606) & $\\dots$ \\\\\n",
       "\t16 & C & SRR6399459.63 & Homo sapiens (taxid 9606) & $\\dots$ \\\\\n",
       "\t17 & C & SRR6399459.64 & Homo sapiens (taxid 9606) & $\\dots$ \\\\\n",
       "\t18 & C & SRR6399459.86 & Homo sapiens (taxid 9606) & $\\dots$ \\\\\n",
       "\t19 & C & SRR6399459.87 & Homo sapiens (taxid 9606) & $\\dots$ \\\\\n",
       "\t20 & C & SRR6399459.104 & Homo sapiens (taxid 9606) & $\\dots$ \\\\\n",
       "\t21 & C & SRR6399459.105 & Thermothelomyces thermophilus ATCC 42464 (taxid 573729) & $\\dots$ \\\\\n",
       "\t22 & C & SRR6399459.106 & Homo sapiens (taxid 9606) & $\\dots$ \\\\\n",
       "\t23 & C & SRR6399459.109 & Aspergillus fumigatus Af293 (taxid 330879) & $\\dots$ \\\\\n",
       "\t24 & C & SRR6399459.110 & Homo sapiens (taxid 9606) & $\\dots$ \\\\\n",
       "\t25 & C & SRR6399459.114 & Homo sapiens (taxid 9606) & $\\dots$ \\\\\n",
       "\t26 & C & SRR6399459.117 & Homo sapiens (taxid 9606) & $\\dots$ \\\\\n",
       "\t27 & C & SRR6399459.118 & Homo sapiens (taxid 9606) & $\\dots$ \\\\\n",
       "\t28 & C & SRR6399459.130 & Homo sapiens (taxid 9606) & $\\dots$ \\\\\n",
       "\t29 & C & SRR6399459.131 & Homo sapiens (taxid 9606) & $\\dots$ \\\\\n",
       "\t30 & C & SRR6399459.132 & Homo sapiens (taxid 9606) & $\\dots$ \\\\\n",
       "\t$\\dots$ & $\\dots$ & $\\dots$ & $\\dots$ &  \\\\\n",
       "\\end{tabular}\n"
      ],
      "text/plain": [
       "\u001b[1m6566601×6 DataFrame\u001b[0m\n",
       "\u001b[1m     Row \u001b[0m│\u001b[1m classification status \u001b[0m\u001b[1m sequence ID         \u001b[0m\u001b[1m taxon ID               \u001b[0m ⋯\n",
       "         │\u001b[90m String                \u001b[0m\u001b[90m String              \u001b[0m\u001b[90m String                 \u001b[0m ⋯\n",
       "─────────┼──────────────────────────────────────────────────────────────────────\n",
       "       1 │ C                      SRR6399459.1         Homo sapiens (taxid 960 ⋯\n",
       "       2 │ C                      SRR6399459.7         Homo sapiens (taxid 960\n",
       "       3 │ C                      SRR6399459.15        Homo sapiens (taxid 960\n",
       "       4 │ C                      SRR6399459.16        Homo sapiens (taxid 960\n",
       "       5 │ C                      SRR6399459.18        Homo sapiens (taxid 960 ⋯\n",
       "       6 │ C                      SRR6399459.19        Homo sapiens (taxid 960\n",
       "       7 │ C                      SRR6399459.20        Homo sapiens (taxid 960\n",
       "       8 │ C                      SRR6399459.21        Homo sapiens (taxid 960\n",
       "       9 │ C                      SRR6399459.36        Homo sapiens (taxid 960 ⋯\n",
       "      10 │ C                      SRR6399459.37        Homo sapiens (taxid 960\n",
       "      11 │ C                      SRR6399459.53        Homo sapiens (taxid 960\n",
       "    ⋮    │           ⋮                     ⋮                           ⋮       ⋱\n",
       " 6566592 │ U                      SRR6399459.56809734  unclassified (taxid 0)\n",
       " 6566593 │ U                      SRR6399459.56809780  unclassified (taxid 0)  ⋯\n",
       " 6566594 │ U                      SRR6399459.56809792  unclassified (taxid 0)\n",
       " 6566595 │ U                      SRR6399459.56809797  unclassified (taxid 0)\n",
       " 6566596 │ U                      SRR6399459.56809829  unclassified (taxid 0)\n",
       " 6566597 │ U                      SRR6399459.56809832  unclassified (taxid 0)  ⋯\n",
       " 6566598 │ C                      SRR6399459.56809862  Hordeum vulgare subsp.\n",
       " 6566599 │ U                      SRR6399459.56809907  unclassified (taxid 0)\n",
       " 6566600 │ U                      SRR6399459.56809909  unclassified (taxid 0)\n",
       " 6566601 │ U                      SRR6399459.56809918  unclassified (taxid 0)  ⋯\n",
       "\u001b[36m                                              4 columns and 6566580 rows omitted\u001b[0m"
      ]
     },
     "execution_count": 34,
     "metadata": {},
     "output_type": "execute_result"
    }
   ],
   "source": [
    "kraken_output = last(filter(x -> occursin(r\"\\.kraken-output\\.tsv\", x), readdir(joinpath(SRR_path, \"kraken\"), join=true)))\n",
    "if occursin(r\"\\.gz\", kraken_output)\n",
    "    kraken_buffer = open(`gzip -dc $(kraken_output)`)\n",
    "else\n",
    "    kraken_buffer = open(kraken_output)\n",
    "end\n",
    "\n",
    "filtered_lines = String[]\n",
    "for line in eachline(kraken_buffer)\n",
    "    split_line = split(line, '\\t')\n",
    "    if split_line[2] in reads_of_interest\n",
    "        push!(filtered_lines, line)\n",
    "    end\n",
    "end\n",
    "close(kraken_buffer)\n",
    "\n",
    "read_classifications = read_kraken_output(IOBuffer(join(filtered_lines, '\\n')))\n",
    "read_classifications[!, \"parsed taxon ID\"] = map(x -> match(r\"\\(taxid (\\d+)\\)\", x).captures[1], read_classifications[!, \"taxon ID\"])\n",
    "read_classifications"
   ]
  },
  {
   "cell_type": "code",
   "execution_count": 35,
   "id": "2dae40fd-ccbc-4430-bf47-0d0a84285a0b",
   "metadata": {},
   "outputs": [],
   "source": [
    "read_classifications_map = Dict(row[\"sequence ID\"] => parse(Int, row[\"parsed taxon ID\"]) for row in DataFrames.eachrow(read_classifications))\n",
    "\n",
    "contigs_to_taxon_counts_map = Dict()\n",
    "for (contig, reads) in contigs_to_reads_map\n",
    "    contigs_to_taxon_counts_map[contig] = StatsBase.countmap(get(taxon_id_to_kingdom_map, read_classifications_map[read], \"Unclassified\") for read in reads)\n",
    "end\n",
    "contigs_to_taxon_counts_map"
   ]
  },
  {
   "cell_type": "code",
   "execution_count": 46,
   "id": "6780fe7a-17bf-4a5c-96eb-ecbb7dba4d45",
   "metadata": {},
   "outputs": [
    {
     "data": {
      "text/plain": [
       "Dict{Any, Any} with 908 entries:\n",
       "  \"1470\" => Dict(\"Eukaryota\"=>1.0)\n",
       "  \"5944\" => Dict(\"Bacteria\"=>0.000749064, \"Eukaryota\"=>0.997004, \"Unclassified\"…\n",
       "  \"332\"  => Dict(\"Eukaryota\"=>0.00306748, \"Unclassified\"=>0.996933)\n",
       "  \"4500\" => Dict(\"Bacteria\"=>0.0011274, \"Eukaryota\"=>0.99549, \"Unclassified\"=>0…\n",
       "  \"5492\" => Dict(\"Bacteria\"=>0.00588235, \"Eukaryota\"=>0.970588, \"Unclassified\"=…\n",
       "  \"2717\" => Dict(\"Eukaryota\"=>0.99913, \"Unclassified\"=>0.000870322)\n",
       "  \"3215\" => Dict(\"Eukaryota\"=>0.997833, \"Unclassified\"=>0.00216685)\n",
       "  \"6780\" => Dict(\"Eukaryota\"=>0.999011, \"Unclassified\"=>0.00098912)\n",
       "  \"4088\" => Dict(\"Eukaryota\"=>1.0)\n",
       "  \"1106\" => Dict(\"Eukaryota\"=>0.996875, \"Unclassified\"=>0.003125)\n",
       "  \"6709\" => Dict(\"Eukaryota\"=>1.0)\n",
       "  \"3823\" => Dict(\"Eukaryota\"=>0.998476, \"Unclassified\"=>0.00152439)\n",
       "  \"6070\" => Dict(\"Eukaryota\"=>0.999507, \"Unclassified\"=>0.000492611)\n",
       "  \"7378\" => Dict(\"Eukaryota\"=>1.0)\n",
       "  \"1863\" => Dict(\"Bacteria\"=>0.00191144, \"Eukaryota\"=>0.00987576, \"Archaea\"=>0.…\n",
       "  \"6820\" => Dict(\"Eukaryota\"=>1.0)\n",
       "  \"7069\" => Dict(\"Eukaryota\"=>1.0)\n",
       "  \"2527\" => Dict(\"Bacteria\"=>9.73857e-5, \"Eukaryota\"=>0.999686, \"Unclassified\"=…\n",
       "  \"6912\" => Dict(\"Eukaryota\"=>1.0)\n",
       "  \"2270\" => Dict(\"Eukaryota\"=>0.999524, \"Unclassified\"=>0.000475662)\n",
       "  \"1429\" => Dict(\"Bacteria\"=>0.0588235, \"Eukaryota\"=>0.352941, \"Unclassified\"=>…\n",
       "  \"1588\" => Dict(\"Eukaryota\"=>0.999371, \"Unclassified\"=>0.000628536)\n",
       "  \"843\"  => Dict(\"Eukaryota\"=>1.0)\n",
       "  \"4308\" => Dict(\"Eukaryota\"=>1.0)\n",
       "  \"3056\" => Dict(\"Bacteria\"=>0.00917431, \"Eukaryota\"=>0.0856269, \"Unclassified\"…\n",
       "  ⋮      => ⋮"
      ]
     },
     "execution_count": 46,
     "metadata": {},
     "output_type": "execute_result"
    }
   ],
   "source": [
    "contigs_to_taxon_proportions_map = Dict()\n",
    "for (contig, taxon_counts) in contigs_to_taxon_counts_map\n",
    "    total_count = sum(values(taxon_counts))\n",
    "    contigs_to_taxon_proportions_map[contig] = Dict(kingdom => count / total_count for (kingdom, count) in taxon_counts)\n",
    "end\n",
    "contigs_to_taxon_proportions_map"
   ]
  },
  {
   "cell_type": "code",
   "execution_count": null,
   "id": "9f91792f-3186-4f65-a79b-fbe884be8ad5",
   "metadata": {},
   "outputs": [],
   "source": [
    "# ref_viruses_rep_genomes_blastn_results\n",
    "# ref_viruses_rep_genomes_dcmegablast_results\n",
    "# ref_viruses_rep_genomes_megablast_results\n",
    "# nt_viral_validation_megablast_results\n",
    "# nt_validation_megablast_results"
   ]
  },
  {
   "cell_type": "code",
   "execution_count": 116,
   "id": "e53fbc54-5ad9-4c08-abdd-922501b017af",
   "metadata": {},
   "outputs": [
    {
     "data": {
      "text/html": [
       "<div><div style = \"float: left;\"><span>908×14 DataFrame</span></div><div style = \"float: right;\"><span style = \"font-style: italic;\">883 rows omitted</span></div><div style = \"clear: both;\"></div></div><div class = \"data-frame\" style = \"overflow-x: scroll;\"><table class = \"data-frame\" style = \"margin-bottom: 6px;\"><thead><tr class = \"header\"><th class = \"rowNumber\" style = \"font-weight: bold; text-align: right;\">Row</th><th style = \"text-align: left;\">Contig</th><th style = \"text-align: left;\">Bacteria</th><th style = \"text-align: left;\">Eukaryota</th><th style = \"text-align: left;\">Other</th><th style = \"text-align: left;\">Archaea</th><th style = \"text-align: left;\">Unclassified</th><th style = \"text-align: left;\">Viruses</th><th style = \"text-align: left;\">ref_viruses_rep_genomes_blastn</th><th style = \"text-align: left;\">ref_viruses_rep_genomes_dcmegablast</th><th style = \"text-align: left;\">nt_viral_validation_megablast</th><th style = \"text-align: left;\">ref_viruses_rep_genomes_megablast</th><th style = \"text-align: left;\">nt_validation_megablast</th><th style = \"text-align: left;\">top_kingdom</th><th style = \"text-align: left;\">blast_hits</th></tr><tr class = \"subheader headerLastRow\"><th class = \"rowNumber\" style = \"font-weight: bold; text-align: right;\"></th><th title = \"String\" style = \"text-align: left;\">String</th><th title = \"Float64\" style = \"text-align: left;\">Float64</th><th title = \"Float64\" style = \"text-align: left;\">Float64</th><th title = \"Float64\" style = \"text-align: left;\">Float64</th><th title = \"Float64\" style = \"text-align: left;\">Float64</th><th title = \"Float64\" style = \"text-align: left;\">Float64</th><th title = \"Float64\" style = \"text-align: left;\">Float64</th><th title = \"Bool\" style = \"text-align: left;\">Bool</th><th title = \"Bool\" style = \"text-align: left;\">Bool</th><th title = \"Bool\" style = \"text-align: left;\">Bool</th><th title = \"Bool\" style = \"text-align: left;\">Bool</th><th title = \"Bool\" style = \"text-align: left;\">Bool</th><th title = \"String\" style = \"text-align: left;\">String</th><th title = \"Int64\" style = \"text-align: left;\">Int64</th></tr></thead><tbody><tr><td class = \"rowNumber\" style = \"font-weight: bold; text-align: right;\">1</td><td style = \"text-align: left;\">1470</td><td style = \"text-align: right;\">0.0</td><td style = \"text-align: right;\">1.0</td><td style = \"text-align: right;\">0.0</td><td style = \"text-align: right;\">0.0</td><td style = \"text-align: right;\">0.0</td><td style = \"text-align: right;\">0.0</td><td style = \"text-align: right;\">true</td><td style = \"text-align: right;\">true</td><td style = \"text-align: right;\">true</td><td style = \"text-align: right;\">true</td><td style = \"text-align: right;\">false</td><td style = \"text-align: left;\">Eukaryota</td><td style = \"text-align: right;\">4</td></tr><tr><td class = \"rowNumber\" style = \"font-weight: bold; text-align: right;\">2</td><td style = \"text-align: left;\">5944</td><td style = \"text-align: right;\">0.000749064</td><td style = \"text-align: right;\">0.997004</td><td style = \"text-align: right;\">0.0</td><td style = \"text-align: right;\">0.0</td><td style = \"text-align: right;\">0.00224719</td><td style = \"text-align: right;\">0.0</td><td style = \"text-align: right;\">true</td><td style = \"text-align: right;\">true</td><td style = \"text-align: right;\">true</td><td style = \"text-align: right;\">false</td><td style = \"text-align: right;\">false</td><td style = \"text-align: left;\">Eukaryota</td><td style = \"text-align: right;\">3</td></tr><tr><td class = \"rowNumber\" style = \"font-weight: bold; text-align: right;\">3</td><td style = \"text-align: left;\">332</td><td style = \"text-align: right;\">0.0</td><td style = \"text-align: right;\">0.00306748</td><td style = \"text-align: right;\">0.0</td><td style = \"text-align: right;\">0.0</td><td style = \"text-align: right;\">0.996933</td><td style = \"text-align: right;\">0.0</td><td style = \"text-align: right;\">true</td><td style = \"text-align: right;\">false</td><td style = \"text-align: right;\">false</td><td style = \"text-align: right;\">false</td><td style = \"text-align: right;\">false</td><td style = \"text-align: left;\">Unclassified</td><td style = \"text-align: right;\">1</td></tr><tr><td class = \"rowNumber\" style = \"font-weight: bold; text-align: right;\">4</td><td style = \"text-align: left;\">4500</td><td style = \"text-align: right;\">0.0011274</td><td style = \"text-align: right;\">0.99549</td><td style = \"text-align: right;\">0.0</td><td style = \"text-align: right;\">0.0</td><td style = \"text-align: right;\">0.00338219</td><td style = \"text-align: right;\">0.0</td><td style = \"text-align: right;\">true</td><td style = \"text-align: right;\">false</td><td style = \"text-align: right;\">true</td><td style = \"text-align: right;\">false</td><td style = \"text-align: right;\">false</td><td style = \"text-align: left;\">Eukaryota</td><td style = \"text-align: right;\">2</td></tr><tr><td class = \"rowNumber\" style = \"font-weight: bold; text-align: right;\">5</td><td style = \"text-align: left;\">5492</td><td style = \"text-align: right;\">0.00588235</td><td style = \"text-align: right;\">0.970588</td><td style = \"text-align: right;\">0.0</td><td style = \"text-align: right;\">0.0</td><td style = \"text-align: right;\">0.0235294</td><td style = \"text-align: right;\">0.0</td><td style = \"text-align: right;\">true</td><td style = \"text-align: right;\">true</td><td style = \"text-align: right;\">true</td><td style = \"text-align: right;\">true</td><td style = \"text-align: right;\">false</td><td style = \"text-align: left;\">Eukaryota</td><td style = \"text-align: right;\">4</td></tr><tr><td class = \"rowNumber\" style = \"font-weight: bold; text-align: right;\">6</td><td style = \"text-align: left;\">2717</td><td style = \"text-align: right;\">0.0</td><td style = \"text-align: right;\">0.99913</td><td style = \"text-align: right;\">0.0</td><td style = \"text-align: right;\">0.0</td><td style = \"text-align: right;\">0.000870322</td><td style = \"text-align: right;\">0.0</td><td style = \"text-align: right;\">true</td><td style = \"text-align: right;\">true</td><td style = \"text-align: right;\">false</td><td style = \"text-align: right;\">false</td><td style = \"text-align: right;\">false</td><td style = \"text-align: left;\">Eukaryota</td><td style = \"text-align: right;\">2</td></tr><tr><td class = \"rowNumber\" style = \"font-weight: bold; text-align: right;\">7</td><td style = \"text-align: left;\">3215</td><td style = \"text-align: right;\">0.0</td><td style = \"text-align: right;\">0.997833</td><td style = \"text-align: right;\">0.0</td><td style = \"text-align: right;\">0.0</td><td style = \"text-align: right;\">0.00216685</td><td style = \"text-align: right;\">0.0</td><td style = \"text-align: right;\">true</td><td style = \"text-align: right;\">false</td><td style = \"text-align: right;\">false</td><td style = \"text-align: right;\">false</td><td style = \"text-align: right;\">false</td><td style = \"text-align: left;\">Eukaryota</td><td style = \"text-align: right;\">1</td></tr><tr><td class = \"rowNumber\" style = \"font-weight: bold; text-align: right;\">8</td><td style = \"text-align: left;\">6780</td><td style = \"text-align: right;\">0.0</td><td style = \"text-align: right;\">0.999011</td><td style = \"text-align: right;\">0.0</td><td style = \"text-align: right;\">0.0</td><td style = \"text-align: right;\">0.00098912</td><td style = \"text-align: right;\">0.0</td><td style = \"text-align: right;\">true</td><td style = \"text-align: right;\">true</td><td style = \"text-align: right;\">false</td><td style = \"text-align: right;\">false</td><td style = \"text-align: right;\">false</td><td style = \"text-align: left;\">Eukaryota</td><td style = \"text-align: right;\">2</td></tr><tr><td class = \"rowNumber\" style = \"font-weight: bold; text-align: right;\">9</td><td style = \"text-align: left;\">4088</td><td style = \"text-align: right;\">0.0</td><td style = \"text-align: right;\">1.0</td><td style = \"text-align: right;\">0.0</td><td style = \"text-align: right;\">0.0</td><td style = \"text-align: right;\">0.0</td><td style = \"text-align: right;\">0.0</td><td style = \"text-align: right;\">true</td><td style = \"text-align: right;\">false</td><td style = \"text-align: right;\">true</td><td style = \"text-align: right;\">false</td><td style = \"text-align: right;\">false</td><td style = \"text-align: left;\">Eukaryota</td><td style = \"text-align: right;\">2</td></tr><tr><td class = \"rowNumber\" style = \"font-weight: bold; text-align: right;\">10</td><td style = \"text-align: left;\">1106</td><td style = \"text-align: right;\">0.0</td><td style = \"text-align: right;\">0.996875</td><td style = \"text-align: right;\">0.0</td><td style = \"text-align: right;\">0.0</td><td style = \"text-align: right;\">0.003125</td><td style = \"text-align: right;\">0.0</td><td style = \"text-align: right;\">true</td><td style = \"text-align: right;\">true</td><td style = \"text-align: right;\">true</td><td style = \"text-align: right;\">false</td><td style = \"text-align: right;\">false</td><td style = \"text-align: left;\">Eukaryota</td><td style = \"text-align: right;\">3</td></tr><tr><td class = \"rowNumber\" style = \"font-weight: bold; text-align: right;\">11</td><td style = \"text-align: left;\">6709</td><td style = \"text-align: right;\">0.0</td><td style = \"text-align: right;\">1.0</td><td style = \"text-align: right;\">0.0</td><td style = \"text-align: right;\">0.0</td><td style = \"text-align: right;\">0.0</td><td style = \"text-align: right;\">0.0</td><td style = \"text-align: right;\">true</td><td style = \"text-align: right;\">true</td><td style = \"text-align: right;\">true</td><td style = \"text-align: right;\">true</td><td style = \"text-align: right;\">false</td><td style = \"text-align: left;\">Eukaryota</td><td style = \"text-align: right;\">4</td></tr><tr><td class = \"rowNumber\" style = \"font-weight: bold; text-align: right;\">12</td><td style = \"text-align: left;\">3823</td><td style = \"text-align: right;\">0.0</td><td style = \"text-align: right;\">0.998476</td><td style = \"text-align: right;\">0.0</td><td style = \"text-align: right;\">0.0</td><td style = \"text-align: right;\">0.00152439</td><td style = \"text-align: right;\">0.0</td><td style = \"text-align: right;\">true</td><td style = \"text-align: right;\">false</td><td style = \"text-align: right;\">false</td><td style = \"text-align: right;\">false</td><td style = \"text-align: right;\">false</td><td style = \"text-align: left;\">Eukaryota</td><td style = \"text-align: right;\">1</td></tr><tr><td class = \"rowNumber\" style = \"font-weight: bold; text-align: right;\">13</td><td style = \"text-align: left;\">6070</td><td style = \"text-align: right;\">0.0</td><td style = \"text-align: right;\">0.999507</td><td style = \"text-align: right;\">0.0</td><td style = \"text-align: right;\">0.0</td><td style = \"text-align: right;\">0.000492611</td><td style = \"text-align: right;\">0.0</td><td style = \"text-align: right;\">true</td><td style = \"text-align: right;\">true</td><td style = \"text-align: right;\">true</td><td style = \"text-align: right;\">false</td><td style = \"text-align: right;\">false</td><td style = \"text-align: left;\">Eukaryota</td><td style = \"text-align: right;\">3</td></tr><tr><td style = \"text-align: right;\">&vellip;</td><td style = \"text-align: right;\">&vellip;</td><td style = \"text-align: right;\">&vellip;</td><td style = \"text-align: right;\">&vellip;</td><td style = \"text-align: right;\">&vellip;</td><td style = \"text-align: right;\">&vellip;</td><td style = \"text-align: right;\">&vellip;</td><td style = \"text-align: right;\">&vellip;</td><td style = \"text-align: right;\">&vellip;</td><td style = \"text-align: right;\">&vellip;</td><td style = \"text-align: right;\">&vellip;</td><td style = \"text-align: right;\">&vellip;</td><td style = \"text-align: right;\">&vellip;</td><td style = \"text-align: right;\">&vellip;</td><td style = \"text-align: right;\">&vellip;</td></tr><tr><td class = \"rowNumber\" style = \"font-weight: bold; text-align: right;\">897</td><td style = \"text-align: left;\">271</td><td style = \"text-align: right;\">0.000760456</td><td style = \"text-align: right;\">0.99924</td><td style = \"text-align: right;\">0.0</td><td style = \"text-align: right;\">0.0</td><td style = \"text-align: right;\">0.0</td><td style = \"text-align: right;\">0.0</td><td style = \"text-align: right;\">true</td><td style = \"text-align: right;\">true</td><td style = \"text-align: right;\">true</td><td style = \"text-align: right;\">false</td><td style = \"text-align: right;\">false</td><td style = \"text-align: left;\">Eukaryota</td><td style = \"text-align: right;\">3</td></tr><tr><td class = \"rowNumber\" style = \"font-weight: bold; text-align: right;\">898</td><td style = \"text-align: left;\">7477</td><td style = \"text-align: right;\">0.0</td><td style = \"text-align: right;\">0.999177</td><td style = \"text-align: right;\">0.0</td><td style = \"text-align: right;\">0.0</td><td style = \"text-align: right;\">0.000822707</td><td style = \"text-align: right;\">0.0</td><td style = \"text-align: right;\">true</td><td style = \"text-align: right;\">true</td><td style = \"text-align: right;\">true</td><td style = \"text-align: right;\">true</td><td style = \"text-align: right;\">false</td><td style = \"text-align: left;\">Eukaryota</td><td style = \"text-align: right;\">4</td></tr><tr><td class = \"rowNumber\" style = \"font-weight: bold; text-align: right;\">899</td><td style = \"text-align: left;\">6527</td><td style = \"text-align: right;\">1.0</td><td style = \"text-align: right;\">0.0</td><td style = \"text-align: right;\">0.0</td><td style = \"text-align: right;\">0.0</td><td style = \"text-align: right;\">0.0</td><td style = \"text-align: right;\">0.0</td><td style = \"text-align: right;\">true</td><td style = \"text-align: right;\">false</td><td style = \"text-align: right;\">false</td><td style = \"text-align: right;\">false</td><td style = \"text-align: right;\">false</td><td style = \"text-align: left;\">Bacteria</td><td style = \"text-align: right;\">1</td></tr><tr><td class = \"rowNumber\" style = \"font-weight: bold; text-align: right;\">900</td><td style = \"text-align: left;\">3756</td><td style = \"text-align: right;\">0.0</td><td style = \"text-align: right;\">1.0</td><td style = \"text-align: right;\">0.0</td><td style = \"text-align: right;\">0.0</td><td style = \"text-align: right;\">0.0</td><td style = \"text-align: right;\">0.0</td><td style = \"text-align: right;\">true</td><td style = \"text-align: right;\">true</td><td style = \"text-align: right;\">true</td><td style = \"text-align: right;\">true</td><td style = \"text-align: right;\">false</td><td style = \"text-align: left;\">Eukaryota</td><td style = \"text-align: right;\">4</td></tr><tr><td class = \"rowNumber\" style = \"font-weight: bold; text-align: right;\">901</td><td style = \"text-align: left;\">3032</td><td style = \"text-align: right;\">0.0</td><td style = \"text-align: right;\">1.0</td><td style = \"text-align: right;\">0.0</td><td style = \"text-align: right;\">0.0</td><td style = \"text-align: right;\">0.0</td><td style = \"text-align: right;\">0.0</td><td style = \"text-align: right;\">true</td><td style = \"text-align: right;\">true</td><td style = \"text-align: right;\">true</td><td style = \"text-align: right;\">false</td><td style = \"text-align: right;\">false</td><td style = \"text-align: left;\">Eukaryota</td><td style = \"text-align: right;\">3</td></tr><tr><td class = \"rowNumber\" style = \"font-weight: bold; text-align: right;\">902</td><td style = \"text-align: left;\">3488</td><td style = \"text-align: right;\">0.0</td><td style = \"text-align: right;\">0.995961</td><td style = \"text-align: right;\">0.0</td><td style = \"text-align: right;\">0.0</td><td style = \"text-align: right;\">0.00403877</td><td style = \"text-align: right;\">0.0</td><td style = \"text-align: right;\">true</td><td style = \"text-align: right;\">false</td><td style = \"text-align: right;\">true</td><td style = \"text-align: right;\">false</td><td style = \"text-align: right;\">false</td><td style = \"text-align: left;\">Eukaryota</td><td style = \"text-align: right;\">2</td></tr><tr><td class = \"rowNumber\" style = \"font-weight: bold; text-align: right;\">903</td><td style = \"text-align: left;\">1627</td><td style = \"text-align: right;\">1.0</td><td style = \"text-align: right;\">0.0</td><td style = \"text-align: right;\">0.0</td><td style = \"text-align: right;\">0.0</td><td style = \"text-align: right;\">0.0</td><td style = \"text-align: right;\">0.0</td><td style = \"text-align: right;\">true</td><td style = \"text-align: right;\">true</td><td style = \"text-align: right;\">false</td><td style = \"text-align: right;\">false</td><td style = \"text-align: right;\">false</td><td style = \"text-align: left;\">Bacteria</td><td style = \"text-align: right;\">2</td></tr><tr><td class = \"rowNumber\" style = \"font-weight: bold; text-align: right;\">904</td><td style = \"text-align: left;\">2497</td><td style = \"text-align: right;\">0.0</td><td style = \"text-align: right;\">1.0</td><td style = \"text-align: right;\">0.0</td><td style = \"text-align: right;\">0.0</td><td style = \"text-align: right;\">0.0</td><td style = \"text-align: right;\">0.0</td><td style = \"text-align: right;\">true</td><td style = \"text-align: right;\">true</td><td style = \"text-align: right;\">true</td><td style = \"text-align: right;\">true</td><td style = \"text-align: right;\">false</td><td style = \"text-align: left;\">Eukaryota</td><td style = \"text-align: right;\">4</td></tr><tr><td class = \"rowNumber\" style = \"font-weight: bold; text-align: right;\">905</td><td style = \"text-align: left;\">6085</td><td style = \"text-align: right;\">0.0</td><td style = \"text-align: right;\">1.0</td><td style = \"text-align: right;\">0.0</td><td style = \"text-align: right;\">0.0</td><td style = \"text-align: right;\">0.0</td><td style = \"text-align: right;\">0.0</td><td style = \"text-align: right;\">true</td><td style = \"text-align: right;\">true</td><td style = \"text-align: right;\">true</td><td style = \"text-align: right;\">false</td><td style = \"text-align: right;\">false</td><td style = \"text-align: left;\">Eukaryota</td><td style = \"text-align: right;\">3</td></tr><tr><td class = \"rowNumber\" style = \"font-weight: bold; text-align: right;\">906</td><td style = \"text-align: left;\">4036</td><td style = \"text-align: right;\">0.00024558</td><td style = \"text-align: right;\">0.999754</td><td style = \"text-align: right;\">0.0</td><td style = \"text-align: right;\">0.0</td><td style = \"text-align: right;\">0.0</td><td style = \"text-align: right;\">0.0</td><td style = \"text-align: right;\">true</td><td style = \"text-align: right;\">true</td><td style = \"text-align: right;\">true</td><td style = \"text-align: right;\">false</td><td style = \"text-align: right;\">false</td><td style = \"text-align: left;\">Eukaryota</td><td style = \"text-align: right;\">3</td></tr><tr><td class = \"rowNumber\" style = \"font-weight: bold; text-align: right;\">907</td><td style = \"text-align: left;\">2983</td><td style = \"text-align: right;\">0.0</td><td style = \"text-align: right;\">1.0</td><td style = \"text-align: right;\">0.0</td><td style = \"text-align: right;\">0.0</td><td style = \"text-align: right;\">0.0</td><td style = \"text-align: right;\">0.0</td><td style = \"text-align: right;\">true</td><td style = \"text-align: right;\">false</td><td style = \"text-align: right;\">false</td><td style = \"text-align: right;\">false</td><td style = \"text-align: right;\">false</td><td style = \"text-align: left;\">Eukaryota</td><td style = \"text-align: right;\">1</td></tr><tr><td class = \"rowNumber\" style = \"font-weight: bold; text-align: right;\">908</td><td style = \"text-align: left;\">4716</td><td style = \"text-align: right;\">0.0</td><td style = \"text-align: right;\">1.0</td><td style = \"text-align: right;\">0.0</td><td style = \"text-align: right;\">0.0</td><td style = \"text-align: right;\">0.0</td><td style = \"text-align: right;\">0.0</td><td style = \"text-align: right;\">true</td><td style = \"text-align: right;\">true</td><td style = \"text-align: right;\">true</td><td style = \"text-align: right;\">false</td><td style = \"text-align: right;\">false</td><td style = \"text-align: left;\">Eukaryota</td><td style = \"text-align: right;\">3</td></tr></tbody></table></div>"
      ],
      "text/latex": [
       "\\begin{tabular}{r|ccccccccc}\n",
       "\t& Contig & Bacteria & Eukaryota & Other & Archaea & Unclassified & Viruses & ref\\_viruses\\_rep\\_genomes\\_blastn & \\\\\n",
       "\t\\hline\n",
       "\t& String & Float64 & Float64 & Float64 & Float64 & Float64 & Float64 & Bool & \\\\\n",
       "\t\\hline\n",
       "\t1 & 1470 & 0.0 & 1.0 & 0.0 & 0.0 & 0.0 & 0.0 & 1 & $\\dots$ \\\\\n",
       "\t2 & 5944 & 0.000749064 & 0.997004 & 0.0 & 0.0 & 0.00224719 & 0.0 & 1 & $\\dots$ \\\\\n",
       "\t3 & 332 & 0.0 & 0.00306748 & 0.0 & 0.0 & 0.996933 & 0.0 & 1 & $\\dots$ \\\\\n",
       "\t4 & 4500 & 0.0011274 & 0.99549 & 0.0 & 0.0 & 0.00338219 & 0.0 & 1 & $\\dots$ \\\\\n",
       "\t5 & 5492 & 0.00588235 & 0.970588 & 0.0 & 0.0 & 0.0235294 & 0.0 & 1 & $\\dots$ \\\\\n",
       "\t6 & 2717 & 0.0 & 0.99913 & 0.0 & 0.0 & 0.000870322 & 0.0 & 1 & $\\dots$ \\\\\n",
       "\t7 & 3215 & 0.0 & 0.997833 & 0.0 & 0.0 & 0.00216685 & 0.0 & 1 & $\\dots$ \\\\\n",
       "\t8 & 6780 & 0.0 & 0.999011 & 0.0 & 0.0 & 0.00098912 & 0.0 & 1 & $\\dots$ \\\\\n",
       "\t9 & 4088 & 0.0 & 1.0 & 0.0 & 0.0 & 0.0 & 0.0 & 1 & $\\dots$ \\\\\n",
       "\t10 & 1106 & 0.0 & 0.996875 & 0.0 & 0.0 & 0.003125 & 0.0 & 1 & $\\dots$ \\\\\n",
       "\t11 & 6709 & 0.0 & 1.0 & 0.0 & 0.0 & 0.0 & 0.0 & 1 & $\\dots$ \\\\\n",
       "\t12 & 3823 & 0.0 & 0.998476 & 0.0 & 0.0 & 0.00152439 & 0.0 & 1 & $\\dots$ \\\\\n",
       "\t13 & 6070 & 0.0 & 0.999507 & 0.0 & 0.0 & 0.000492611 & 0.0 & 1 & $\\dots$ \\\\\n",
       "\t14 & 7378 & 0.0 & 1.0 & 0.0 & 0.0 & 0.0 & 0.0 & 1 & $\\dots$ \\\\\n",
       "\t15 & 1863 & 0.00191144 & 0.00987576 & 0.0 & 0.000159286 & 0.988054 & 0.0 & 1 & $\\dots$ \\\\\n",
       "\t16 & 6820 & 0.0 & 1.0 & 0.0 & 0.0 & 0.0 & 0.0 & 1 & $\\dots$ \\\\\n",
       "\t17 & 7069 & 0.0 & 1.0 & 0.0 & 0.0 & 0.0 & 0.0 & 1 & $\\dots$ \\\\\n",
       "\t18 & 2527 & 9.73857e-5 & 0.999686 & 0.0 & 0.0 & 0.000216413 & 0.0 & 1 & $\\dots$ \\\\\n",
       "\t19 & 6912 & 0.0 & 1.0 & 0.0 & 0.0 & 0.0 & 0.0 & 1 & $\\dots$ \\\\\n",
       "\t20 & 2270 & 0.0 & 0.999524 & 0.0 & 0.0 & 0.000475662 & 0.0 & 1 & $\\dots$ \\\\\n",
       "\t21 & 1429 & 0.0588235 & 0.352941 & 0.0 & 0.0 & 0.588235 & 0.0 & 1 & $\\dots$ \\\\\n",
       "\t22 & 1588 & 0.0 & 0.999371 & 0.0 & 0.0 & 0.000628536 & 0.0 & 1 & $\\dots$ \\\\\n",
       "\t23 & 843 & 0.0 & 1.0 & 0.0 & 0.0 & 0.0 & 0.0 & 1 & $\\dots$ \\\\\n",
       "\t24 & 4308 & 0.0 & 1.0 & 0.0 & 0.0 & 0.0 & 0.0 & 1 & $\\dots$ \\\\\n",
       "\t25 & 3056 & 0.00917431 & 0.0856269 & 0.0 & 0.0 & 0.905199 & 0.0 & 1 & $\\dots$ \\\\\n",
       "\t26 & 323 & 0.0551263 & 0.112265 & 0.0 & 0.0 & 0.832609 & 0.0 & 1 & $\\dots$ \\\\\n",
       "\t27 & 17 & 0.000261718 & 0.995408 & 0.0 & 0.0 & 0.00433024 & 0.0 & 1 & $\\dots$ \\\\\n",
       "\t28 & 333 & 0.0 & 0.285714 & 0.0 & 0.0 & 0.714286 & 0.0 & 1 & $\\dots$ \\\\\n",
       "\t29 & 3750 & 0.0 & 1.0 & 0.0 & 0.0 & 0.0 & 0.0 & 1 & $\\dots$ \\\\\n",
       "\t30 & 2321 & 0.0 & 0.999816 & 0.0 & 0.0 & 0.000183756 & 0.0 & 1 & $\\dots$ \\\\\n",
       "\t$\\dots$ & $\\dots$ & $\\dots$ & $\\dots$ & $\\dots$ & $\\dots$ & $\\dots$ & $\\dots$ & $\\dots$ &  \\\\\n",
       "\\end{tabular}\n"
      ],
      "text/plain": [
       "\u001b[1m908×14 DataFrame\u001b[0m\n",
       "\u001b[1m Row \u001b[0m│\u001b[1m Contig \u001b[0m\u001b[1m Bacteria    \u001b[0m\u001b[1m Eukaryota  \u001b[0m\u001b[1m Other   \u001b[0m\u001b[1m Archaea \u001b[0m\u001b[1m Unclassified \u001b[0m\u001b[1m Viruse\u001b[0m ⋯\n",
       "     │\u001b[90m String \u001b[0m\u001b[90m Float64     \u001b[0m\u001b[90m Float64    \u001b[0m\u001b[90m Float64 \u001b[0m\u001b[90m Float64 \u001b[0m\u001b[90m Float64      \u001b[0m\u001b[90m Float6\u001b[0m ⋯\n",
       "─────┼──────────────────────────────────────────────────────────────────────────\n",
       "   1 │ 1470    0.0          1.0             0.0      0.0   0.0              0. ⋯\n",
       "   2 │ 5944    0.000749064  0.997004        0.0      0.0   0.00224719       0.\n",
       "   3 │ 332     0.0          0.00306748      0.0      0.0   0.996933         0.\n",
       "   4 │ 4500    0.0011274    0.99549         0.0      0.0   0.00338219       0.\n",
       "   5 │ 5492    0.00588235   0.970588        0.0      0.0   0.0235294        0. ⋯\n",
       "   6 │ 2717    0.0          0.99913         0.0      0.0   0.000870322      0.\n",
       "   7 │ 3215    0.0          0.997833        0.0      0.0   0.00216685       0.\n",
       "   8 │ 6780    0.0          0.999011        0.0      0.0   0.00098912       0.\n",
       "   9 │ 4088    0.0          1.0             0.0      0.0   0.0              0. ⋯\n",
       "  10 │ 1106    0.0          0.996875        0.0      0.0   0.003125         0.\n",
       "  11 │ 6709    0.0          1.0             0.0      0.0   0.0              0.\n",
       "  ⋮  │   ⋮          ⋮           ⋮          ⋮        ⋮          ⋮           ⋮   ⋱\n",
       " 899 │ 6527    1.0          0.0             0.0      0.0   0.0              0.\n",
       " 900 │ 3756    0.0          1.0             0.0      0.0   0.0              0. ⋯\n",
       " 901 │ 3032    0.0          1.0             0.0      0.0   0.0              0.\n",
       " 902 │ 3488    0.0          0.995961        0.0      0.0   0.00403877       0.\n",
       " 903 │ 1627    1.0          0.0             0.0      0.0   0.0              0.\n",
       " 904 │ 2497    0.0          1.0             0.0      0.0   0.0              0. ⋯\n",
       " 905 │ 6085    0.0          1.0             0.0      0.0   0.0              0.\n",
       " 906 │ 4036    0.00024558   0.999754        0.0      0.0   0.0              0.\n",
       " 907 │ 2983    0.0          1.0             0.0      0.0   0.0              0.\n",
       " 908 │ 4716    0.0          1.0             0.0      0.0   0.0              0. ⋯\n",
       "\u001b[36m                                                  8 columns and 887 rows omitted\u001b[0m"
      ]
     },
     "execution_count": 116,
     "metadata": {},
     "output_type": "execute_result"
    }
   ],
   "source": [
    "contig_classification_results = \n",
    "DataFrames.DataFrame(\n",
    "    union(\n",
    "        DataStructures.OrderedDict(\"Contig\" => String[]),\n",
    "        DataStructures.OrderedDict(k => Float64[] for k in keys(kingdom_to_taxon_id_map)),\n",
    "        # these are ordered by most hits to fewest hits\n",
    "        DataStructures.OrderedDict(db_algorithm => Bool[] for db_algorithm in [\"ref_viruses_rep_genomes_blastn\", \"ref_viruses_rep_genomes_dcmegablast\", \"nt_viral_validation_megablast\", \"ref_viruses_rep_genomes_megablast\", \"nt_validation_megablast\"])\n",
    "    )\n",
    ")\n",
    "\n",
    "for (contig, taxon_proportions) in contigs_to_taxon_proportions_map\n",
    "    row = Dict{Any, Any}(\"Contig\" => contig)\n",
    "    for k in keys(kingdom_to_taxon_id_map)\n",
    "        row[k] = get(taxon_proportions, k, 0.0)\n",
    "    end\n",
    "    row[\"ref_viruses_rep_genomes_blastn\"] = contig in ref_viruses_rep_genomes_blastn_contigs\n",
    "    row[\"nt_viral_validation_megablast\"] = contig in nt_viral_validation_megablast_contigs\n",
    "    row[\"ref_viruses_rep_genomes_dcmegablast\"] = contig in ref_viruses_rep_genomes_dcmegablast_contigs\n",
    "    row[\"ref_viruses_rep_genomes_megablast\"] = contig in ref_viruses_rep_genomes_megablast_contigs\n",
    "    row[\"nt_validation_megablast\"] = contig in nt_validation_megablast_contigs\n",
    "    push!(contig_classification_results, row)\n",
    "end\n",
    "contig_classification_results[!, \"top_kingdom\"] .= \"\"\n",
    "for (i, row) in enumerate(DataFrames.eachrow(contig_classification_results))\n",
    "    max_hit = \"\"\n",
    "    max_value = 0.0\n",
    "    for k in keys(kingdom_to_taxon_id_map)\n",
    "        if row[k] > max_value\n",
    "            max_value = row[k]\n",
    "            max_hit = k\n",
    "        end\n",
    "    end\n",
    "    contig_classification_results[i, \"top_kingdom\"] = max_hit\n",
    "end\n",
    "\n",
    "m = Int.(Matrix(\n",
    "    contig_classification_results[!, [\n",
    "        \"ref_viruses_rep_genomes_blastn\",\n",
    "        \"ref_viruses_rep_genomes_dcmegablast\",\n",
    "        \"nt_viral_validation_megablast\",\n",
    "        \"ref_viruses_rep_genomes_megablast\",\n",
    "        \"nt_validation_megablast\"\n",
    "    ]\n",
    "]))\n",
    "\n",
    "contig_classification_results[!, \"blast_hits\"] = map(r -> sum(r), eachrow(m))\n",
    "\n",
    "contig_classification_results"
   ]
  },
  {
   "cell_type": "code",
   "execution_count": 117,
   "id": "0ee55e64-17b5-4deb-982f-00cb2aa75c8f",
   "metadata": {},
   "outputs": [
    {
     "data": {
      "text/plain": [
       "743.6754991113489"
      ]
     },
     "execution_count": 117,
     "metadata": {},
     "output_type": "execute_result"
    }
   ],
   "source": [
    "# eukaryotic top hit - kraken is asserting these are human contamination\n",
    "sum(contig_classification_results[!, \"Eukaryota\"])"
   ]
  },
  {
   "cell_type": "code",
   "execution_count": 118,
   "id": "4934422c-2b75-419a-8fc7-e0f5674670fa",
   "metadata": {},
   "outputs": [
    {
     "data": {
      "text/plain": [
       "148.02261268508656"
      ]
     },
     "execution_count": 118,
     "metadata": {},
     "output_type": "execute_result"
    }
   ],
   "source": [
    "# novel sequences are second hit, this is exciting!\n",
    "sum(contig_classification_results[!, \"Unclassified\"])"
   ]
  },
  {
   "cell_type": "code",
   "execution_count": 119,
   "id": "d44e09b0-0672-4f87-bcea-add20ae577fc",
   "metadata": {},
   "outputs": [
    {
     "data": {
      "text/plain": [
       "16.192216865491723"
      ]
     },
     "execution_count": 119,
     "metadata": {},
     "output_type": "execute_result"
    }
   ],
   "source": [
    "sum(contig_classification_results[!, \"Bacteria\"])"
   ]
  },
  {
   "cell_type": "code",
   "execution_count": 120,
   "id": "4eb6e674-a8f8-4be8-ae1d-6947f8cb7b94",
   "metadata": {},
   "outputs": [
    {
     "data": {
      "text/plain": [
       "0.09228711434034342"
      ]
     },
     "execution_count": 120,
     "metadata": {},
     "output_type": "execute_result"
    }
   ],
   "source": [
    "sum(contig_classification_results[!, \"Other\"])"
   ]
  },
  {
   "cell_type": "code",
   "execution_count": 121,
   "id": "6e47d053-cc6a-40dd-9954-ad9c920d670f",
   "metadata": {},
   "outputs": [
    {
     "data": {
      "text/plain": [
       "0.009006006991309174"
      ]
     },
     "execution_count": 121,
     "metadata": {},
     "output_type": "execute_result"
    }
   ],
   "source": [
    "sum(contig_classification_results[!, \"Viruses\"])"
   ]
  },
  {
   "cell_type": "code",
   "execution_count": 122,
   "id": "a351351f-a8bb-48c7-bc4a-1e30d1d48a63",
   "metadata": {},
   "outputs": [
    {
     "data": {
      "text/plain": [
       "0.008378216741209914"
      ]
     },
     "execution_count": 122,
     "metadata": {},
     "output_type": "execute_result"
    }
   ],
   "source": [
    "sum(contig_classification_results[!, \"Archaea\"])"
   ]
  },
  {
   "cell_type": "code",
   "execution_count": 125,
   "id": "3cdfe1ff-f174-4f90-972e-d17ac4239199",
   "metadata": {},
   "outputs": [
    {
     "data": {
      "text/html": [
       "<div><div style = \"float: left;\"><span>908×3 DataFrame</span></div><div style = \"float: right;\"><span style = \"font-style: italic;\">883 rows omitted</span></div><div style = \"clear: both;\"></div></div><div class = \"data-frame\" style = \"overflow-x: scroll;\"><table class = \"data-frame\" style = \"margin-bottom: 6px;\"><thead><tr class = \"header\"><th class = \"rowNumber\" style = \"font-weight: bold; text-align: right;\">Row</th><th style = \"text-align: left;\">Contig</th><th style = \"text-align: left;\">top_kingdom</th><th style = \"text-align: left;\">blast_hits</th></tr><tr class = \"subheader headerLastRow\"><th class = \"rowNumber\" style = \"font-weight: bold; text-align: right;\"></th><th title = \"String\" style = \"text-align: left;\">String</th><th title = \"String\" style = \"text-align: left;\">String</th><th title = \"Int64\" style = \"text-align: left;\">Int64</th></tr></thead><tbody><tr><td class = \"rowNumber\" style = \"font-weight: bold; text-align: right;\">1</td><td style = \"text-align: left;\">1470</td><td style = \"text-align: left;\">Eukaryota</td><td style = \"text-align: right;\">4</td></tr><tr><td class = \"rowNumber\" style = \"font-weight: bold; text-align: right;\">2</td><td style = \"text-align: left;\">5944</td><td style = \"text-align: left;\">Eukaryota</td><td style = \"text-align: right;\">3</td></tr><tr><td class = \"rowNumber\" style = \"font-weight: bold; text-align: right;\">3</td><td style = \"text-align: left;\">332</td><td style = \"text-align: left;\">Unclassified</td><td style = \"text-align: right;\">1</td></tr><tr><td class = \"rowNumber\" style = \"font-weight: bold; text-align: right;\">4</td><td style = \"text-align: left;\">4500</td><td style = \"text-align: left;\">Eukaryota</td><td style = \"text-align: right;\">2</td></tr><tr><td class = \"rowNumber\" style = \"font-weight: bold; text-align: right;\">5</td><td style = \"text-align: left;\">5492</td><td style = \"text-align: left;\">Eukaryota</td><td style = \"text-align: right;\">4</td></tr><tr><td class = \"rowNumber\" style = \"font-weight: bold; text-align: right;\">6</td><td style = \"text-align: left;\">2717</td><td style = \"text-align: left;\">Eukaryota</td><td style = \"text-align: right;\">2</td></tr><tr><td class = \"rowNumber\" style = \"font-weight: bold; text-align: right;\">7</td><td style = \"text-align: left;\">3215</td><td style = \"text-align: left;\">Eukaryota</td><td style = \"text-align: right;\">1</td></tr><tr><td class = \"rowNumber\" style = \"font-weight: bold; text-align: right;\">8</td><td style = \"text-align: left;\">6780</td><td style = \"text-align: left;\">Eukaryota</td><td style = \"text-align: right;\">2</td></tr><tr><td class = \"rowNumber\" style = \"font-weight: bold; text-align: right;\">9</td><td style = \"text-align: left;\">4088</td><td style = \"text-align: left;\">Eukaryota</td><td style = \"text-align: right;\">2</td></tr><tr><td class = \"rowNumber\" style = \"font-weight: bold; text-align: right;\">10</td><td style = \"text-align: left;\">1106</td><td style = \"text-align: left;\">Eukaryota</td><td style = \"text-align: right;\">3</td></tr><tr><td class = \"rowNumber\" style = \"font-weight: bold; text-align: right;\">11</td><td style = \"text-align: left;\">6709</td><td style = \"text-align: left;\">Eukaryota</td><td style = \"text-align: right;\">4</td></tr><tr><td class = \"rowNumber\" style = \"font-weight: bold; text-align: right;\">12</td><td style = \"text-align: left;\">3823</td><td style = \"text-align: left;\">Eukaryota</td><td style = \"text-align: right;\">1</td></tr><tr><td class = \"rowNumber\" style = \"font-weight: bold; text-align: right;\">13</td><td style = \"text-align: left;\">6070</td><td style = \"text-align: left;\">Eukaryota</td><td style = \"text-align: right;\">3</td></tr><tr><td style = \"text-align: right;\">&vellip;</td><td style = \"text-align: right;\">&vellip;</td><td style = \"text-align: right;\">&vellip;</td><td style = \"text-align: right;\">&vellip;</td></tr><tr><td class = \"rowNumber\" style = \"font-weight: bold; text-align: right;\">897</td><td style = \"text-align: left;\">271</td><td style = \"text-align: left;\">Eukaryota</td><td style = \"text-align: right;\">3</td></tr><tr><td class = \"rowNumber\" style = \"font-weight: bold; text-align: right;\">898</td><td style = \"text-align: left;\">7477</td><td style = \"text-align: left;\">Eukaryota</td><td style = \"text-align: right;\">4</td></tr><tr><td class = \"rowNumber\" style = \"font-weight: bold; text-align: right;\">899</td><td style = \"text-align: left;\">6527</td><td style = \"text-align: left;\">Bacteria</td><td style = \"text-align: right;\">1</td></tr><tr><td class = \"rowNumber\" style = \"font-weight: bold; text-align: right;\">900</td><td style = \"text-align: left;\">3756</td><td style = \"text-align: left;\">Eukaryota</td><td style = \"text-align: right;\">4</td></tr><tr><td class = \"rowNumber\" style = \"font-weight: bold; text-align: right;\">901</td><td style = \"text-align: left;\">3032</td><td style = \"text-align: left;\">Eukaryota</td><td style = \"text-align: right;\">3</td></tr><tr><td class = \"rowNumber\" style = \"font-weight: bold; text-align: right;\">902</td><td style = \"text-align: left;\">3488</td><td style = \"text-align: left;\">Eukaryota</td><td style = \"text-align: right;\">2</td></tr><tr><td class = \"rowNumber\" style = \"font-weight: bold; text-align: right;\">903</td><td style = \"text-align: left;\">1627</td><td style = \"text-align: left;\">Bacteria</td><td style = \"text-align: right;\">2</td></tr><tr><td class = \"rowNumber\" style = \"font-weight: bold; text-align: right;\">904</td><td style = \"text-align: left;\">2497</td><td style = \"text-align: left;\">Eukaryota</td><td style = \"text-align: right;\">4</td></tr><tr><td class = \"rowNumber\" style = \"font-weight: bold; text-align: right;\">905</td><td style = \"text-align: left;\">6085</td><td style = \"text-align: left;\">Eukaryota</td><td style = \"text-align: right;\">3</td></tr><tr><td class = \"rowNumber\" style = \"font-weight: bold; text-align: right;\">906</td><td style = \"text-align: left;\">4036</td><td style = \"text-align: left;\">Eukaryota</td><td style = \"text-align: right;\">3</td></tr><tr><td class = \"rowNumber\" style = \"font-weight: bold; text-align: right;\">907</td><td style = \"text-align: left;\">2983</td><td style = \"text-align: left;\">Eukaryota</td><td style = \"text-align: right;\">1</td></tr><tr><td class = \"rowNumber\" style = \"font-weight: bold; text-align: right;\">908</td><td style = \"text-align: left;\">4716</td><td style = \"text-align: left;\">Eukaryota</td><td style = \"text-align: right;\">3</td></tr></tbody></table></div>"
      ],
      "text/latex": [
       "\\begin{tabular}{r|ccc}\n",
       "\t& Contig & top\\_kingdom & blast\\_hits\\\\\n",
       "\t\\hline\n",
       "\t& String & String & Int64\\\\\n",
       "\t\\hline\n",
       "\t1 & 1470 & Eukaryota & 4 \\\\\n",
       "\t2 & 5944 & Eukaryota & 3 \\\\\n",
       "\t3 & 332 & Unclassified & 1 \\\\\n",
       "\t4 & 4500 & Eukaryota & 2 \\\\\n",
       "\t5 & 5492 & Eukaryota & 4 \\\\\n",
       "\t6 & 2717 & Eukaryota & 2 \\\\\n",
       "\t7 & 3215 & Eukaryota & 1 \\\\\n",
       "\t8 & 6780 & Eukaryota & 2 \\\\\n",
       "\t9 & 4088 & Eukaryota & 2 \\\\\n",
       "\t10 & 1106 & Eukaryota & 3 \\\\\n",
       "\t11 & 6709 & Eukaryota & 4 \\\\\n",
       "\t12 & 3823 & Eukaryota & 1 \\\\\n",
       "\t13 & 6070 & Eukaryota & 3 \\\\\n",
       "\t14 & 7378 & Eukaryota & 2 \\\\\n",
       "\t15 & 1863 & Unclassified & 1 \\\\\n",
       "\t16 & 6820 & Eukaryota & 1 \\\\\n",
       "\t17 & 7069 & Eukaryota & 3 \\\\\n",
       "\t18 & 2527 & Eukaryota & 3 \\\\\n",
       "\t19 & 6912 & Eukaryota & 1 \\\\\n",
       "\t20 & 2270 & Eukaryota & 4 \\\\\n",
       "\t21 & 1429 & Unclassified & 1 \\\\\n",
       "\t22 & 1588 & Eukaryota & 1 \\\\\n",
       "\t23 & 843 & Eukaryota & 4 \\\\\n",
       "\t24 & 4308 & Eukaryota & 3 \\\\\n",
       "\t25 & 3056 & Unclassified & 1 \\\\\n",
       "\t26 & 323 & Unclassified & 1 \\\\\n",
       "\t27 & 17 & Eukaryota & 4 \\\\\n",
       "\t28 & 333 & Unclassified & 1 \\\\\n",
       "\t29 & 3750 & Eukaryota & 4 \\\\\n",
       "\t30 & 2321 & Eukaryota & 4 \\\\\n",
       "\t$\\dots$ & $\\dots$ & $\\dots$ & $\\dots$ \\\\\n",
       "\\end{tabular}\n"
      ],
      "text/plain": [
       "\u001b[1m908×3 DataFrame\u001b[0m\n",
       "\u001b[1m Row \u001b[0m│\u001b[1m Contig \u001b[0m\u001b[1m top_kingdom  \u001b[0m\u001b[1m blast_hits \u001b[0m\n",
       "     │\u001b[90m String \u001b[0m\u001b[90m String       \u001b[0m\u001b[90m Int64      \u001b[0m\n",
       "─────┼──────────────────────────────────\n",
       "   1 │ 1470    Eukaryota              4\n",
       "   2 │ 5944    Eukaryota              3\n",
       "   3 │ 332     Unclassified           1\n",
       "   4 │ 4500    Eukaryota              2\n",
       "   5 │ 5492    Eukaryota              4\n",
       "   6 │ 2717    Eukaryota              2\n",
       "   7 │ 3215    Eukaryota              1\n",
       "   8 │ 6780    Eukaryota              2\n",
       "   9 │ 4088    Eukaryota              2\n",
       "  10 │ 1106    Eukaryota              3\n",
       "  11 │ 6709    Eukaryota              4\n",
       "  ⋮  │   ⋮          ⋮            ⋮\n",
       " 899 │ 6527    Bacteria               1\n",
       " 900 │ 3756    Eukaryota              4\n",
       " 901 │ 3032    Eukaryota              3\n",
       " 902 │ 3488    Eukaryota              2\n",
       " 903 │ 1627    Bacteria               2\n",
       " 904 │ 2497    Eukaryota              4\n",
       " 905 │ 6085    Eukaryota              3\n",
       " 906 │ 4036    Eukaryota              3\n",
       " 907 │ 2983    Eukaryota              1\n",
       " 908 │ 4716    Eukaryota              3\n",
       "\u001b[36m                        887 rows omitted\u001b[0m"
      ]
     },
     "execution_count": 125,
     "metadata": {},
     "output_type": "execute_result"
    }
   ],
   "source": [
    "contig_classification_results_summary = contig_classification_results[!, [\"Contig\", \"top_kingdom\", \"blast_hits\"]]"
   ]
  },
  {
   "cell_type": "code",
   "execution_count": 126,
   "id": "c61f0930-0d80-443c-8c2d-e4c3840a3b18",
   "metadata": {},
   "outputs": [
    {
     "data": {
      "text/html": [
       "<div><div style = \"float: left;\"><span>908×3 DataFrame</span></div><div style = \"float: right;\"><span style = \"font-style: italic;\">883 rows omitted</span></div><div style = \"clear: both;\"></div></div><div class = \"data-frame\" style = \"overflow-x: scroll;\"><table class = \"data-frame\" style = \"margin-bottom: 6px;\"><thead><tr class = \"header\"><th class = \"rowNumber\" style = \"font-weight: bold; text-align: right;\">Row</th><th style = \"text-align: left;\">Contig</th><th style = \"text-align: left;\">top_kingdom</th><th style = \"text-align: left;\">blast_hits</th></tr><tr class = \"subheader headerLastRow\"><th class = \"rowNumber\" style = \"font-weight: bold; text-align: right;\"></th><th title = \"String\" style = \"text-align: left;\">String</th><th title = \"String\" style = \"text-align: left;\">String</th><th title = \"Int64\" style = \"text-align: left;\">Int64</th></tr></thead><tbody><tr><td class = \"rowNumber\" style = \"font-weight: bold; text-align: right;\">1</td><td style = \"text-align: left;\">1470</td><td style = \"text-align: left;\">Eukaryota</td><td style = \"text-align: right;\">4</td></tr><tr><td class = \"rowNumber\" style = \"font-weight: bold; text-align: right;\">2</td><td style = \"text-align: left;\">5944</td><td style = \"text-align: left;\">Eukaryota</td><td style = \"text-align: right;\">3</td></tr><tr><td class = \"rowNumber\" style = \"font-weight: bold; text-align: right;\">3</td><td style = \"text-align: left;\">332</td><td style = \"text-align: left;\">Unclassified</td><td style = \"text-align: right;\">1</td></tr><tr><td class = \"rowNumber\" style = \"font-weight: bold; text-align: right;\">4</td><td style = \"text-align: left;\">4500</td><td style = \"text-align: left;\">Eukaryota</td><td style = \"text-align: right;\">2</td></tr><tr><td class = \"rowNumber\" style = \"font-weight: bold; text-align: right;\">5</td><td style = \"text-align: left;\">5492</td><td style = \"text-align: left;\">Eukaryota</td><td style = \"text-align: right;\">4</td></tr><tr><td class = \"rowNumber\" style = \"font-weight: bold; text-align: right;\">6</td><td style = \"text-align: left;\">2717</td><td style = \"text-align: left;\">Eukaryota</td><td style = \"text-align: right;\">2</td></tr><tr><td class = \"rowNumber\" style = \"font-weight: bold; text-align: right;\">7</td><td style = \"text-align: left;\">3215</td><td style = \"text-align: left;\">Eukaryota</td><td style = \"text-align: right;\">1</td></tr><tr><td class = \"rowNumber\" style = \"font-weight: bold; text-align: right;\">8</td><td style = \"text-align: left;\">6780</td><td style = \"text-align: left;\">Eukaryota</td><td style = \"text-align: right;\">2</td></tr><tr><td class = \"rowNumber\" style = \"font-weight: bold; text-align: right;\">9</td><td style = \"text-align: left;\">4088</td><td style = \"text-align: left;\">Eukaryota</td><td style = \"text-align: right;\">2</td></tr><tr><td class = \"rowNumber\" style = \"font-weight: bold; text-align: right;\">10</td><td style = \"text-align: left;\">1106</td><td style = \"text-align: left;\">Eukaryota</td><td style = \"text-align: right;\">3</td></tr><tr><td class = \"rowNumber\" style = \"font-weight: bold; text-align: right;\">11</td><td style = \"text-align: left;\">6709</td><td style = \"text-align: left;\">Eukaryota</td><td style = \"text-align: right;\">4</td></tr><tr><td class = \"rowNumber\" style = \"font-weight: bold; text-align: right;\">12</td><td style = \"text-align: left;\">3823</td><td style = \"text-align: left;\">Eukaryota</td><td style = \"text-align: right;\">1</td></tr><tr><td class = \"rowNumber\" style = \"font-weight: bold; text-align: right;\">13</td><td style = \"text-align: left;\">6070</td><td style = \"text-align: left;\">Eukaryota</td><td style = \"text-align: right;\">3</td></tr><tr><td style = \"text-align: right;\">&vellip;</td><td style = \"text-align: right;\">&vellip;</td><td style = \"text-align: right;\">&vellip;</td><td style = \"text-align: right;\">&vellip;</td></tr><tr><td class = \"rowNumber\" style = \"font-weight: bold; text-align: right;\">897</td><td style = \"text-align: left;\">271</td><td style = \"text-align: left;\">Eukaryota</td><td style = \"text-align: right;\">3</td></tr><tr><td class = \"rowNumber\" style = \"font-weight: bold; text-align: right;\">898</td><td style = \"text-align: left;\">7477</td><td style = \"text-align: left;\">Eukaryota</td><td style = \"text-align: right;\">4</td></tr><tr><td class = \"rowNumber\" style = \"font-weight: bold; text-align: right;\">899</td><td style = \"text-align: left;\">6527</td><td style = \"text-align: left;\">Bacteria</td><td style = \"text-align: right;\">1</td></tr><tr><td class = \"rowNumber\" style = \"font-weight: bold; text-align: right;\">900</td><td style = \"text-align: left;\">3756</td><td style = \"text-align: left;\">Eukaryota</td><td style = \"text-align: right;\">4</td></tr><tr><td class = \"rowNumber\" style = \"font-weight: bold; text-align: right;\">901</td><td style = \"text-align: left;\">3032</td><td style = \"text-align: left;\">Eukaryota</td><td style = \"text-align: right;\">3</td></tr><tr><td class = \"rowNumber\" style = \"font-weight: bold; text-align: right;\">902</td><td style = \"text-align: left;\">3488</td><td style = \"text-align: left;\">Eukaryota</td><td style = \"text-align: right;\">2</td></tr><tr><td class = \"rowNumber\" style = \"font-weight: bold; text-align: right;\">903</td><td style = \"text-align: left;\">1627</td><td style = \"text-align: left;\">Bacteria</td><td style = \"text-align: right;\">2</td></tr><tr><td class = \"rowNumber\" style = \"font-weight: bold; text-align: right;\">904</td><td style = \"text-align: left;\">2497</td><td style = \"text-align: left;\">Eukaryota</td><td style = \"text-align: right;\">4</td></tr><tr><td class = \"rowNumber\" style = \"font-weight: bold; text-align: right;\">905</td><td style = \"text-align: left;\">6085</td><td style = \"text-align: left;\">Eukaryota</td><td style = \"text-align: right;\">3</td></tr><tr><td class = \"rowNumber\" style = \"font-weight: bold; text-align: right;\">906</td><td style = \"text-align: left;\">4036</td><td style = \"text-align: left;\">Eukaryota</td><td style = \"text-align: right;\">3</td></tr><tr><td class = \"rowNumber\" style = \"font-weight: bold; text-align: right;\">907</td><td style = \"text-align: left;\">2983</td><td style = \"text-align: left;\">Eukaryota</td><td style = \"text-align: right;\">1</td></tr><tr><td class = \"rowNumber\" style = \"font-weight: bold; text-align: right;\">908</td><td style = \"text-align: left;\">4716</td><td style = \"text-align: left;\">Eukaryota</td><td style = \"text-align: right;\">3</td></tr></tbody></table></div>"
      ],
      "text/latex": [
       "\\begin{tabular}{r|ccc}\n",
       "\t& Contig & top\\_kingdom & blast\\_hits\\\\\n",
       "\t\\hline\n",
       "\t& String & String & Int64\\\\\n",
       "\t\\hline\n",
       "\t1 & 1470 & Eukaryota & 4 \\\\\n",
       "\t2 & 5944 & Eukaryota & 3 \\\\\n",
       "\t3 & 332 & Unclassified & 1 \\\\\n",
       "\t4 & 4500 & Eukaryota & 2 \\\\\n",
       "\t5 & 5492 & Eukaryota & 4 \\\\\n",
       "\t6 & 2717 & Eukaryota & 2 \\\\\n",
       "\t7 & 3215 & Eukaryota & 1 \\\\\n",
       "\t8 & 6780 & Eukaryota & 2 \\\\\n",
       "\t9 & 4088 & Eukaryota & 2 \\\\\n",
       "\t10 & 1106 & Eukaryota & 3 \\\\\n",
       "\t11 & 6709 & Eukaryota & 4 \\\\\n",
       "\t12 & 3823 & Eukaryota & 1 \\\\\n",
       "\t13 & 6070 & Eukaryota & 3 \\\\\n",
       "\t14 & 7378 & Eukaryota & 2 \\\\\n",
       "\t15 & 1863 & Unclassified & 1 \\\\\n",
       "\t16 & 6820 & Eukaryota & 1 \\\\\n",
       "\t17 & 7069 & Eukaryota & 3 \\\\\n",
       "\t18 & 2527 & Eukaryota & 3 \\\\\n",
       "\t19 & 6912 & Eukaryota & 1 \\\\\n",
       "\t20 & 2270 & Eukaryota & 4 \\\\\n",
       "\t21 & 1429 & Unclassified & 1 \\\\\n",
       "\t22 & 1588 & Eukaryota & 1 \\\\\n",
       "\t23 & 843 & Eukaryota & 4 \\\\\n",
       "\t24 & 4308 & Eukaryota & 3 \\\\\n",
       "\t25 & 3056 & Unclassified & 1 \\\\\n",
       "\t26 & 323 & Unclassified & 1 \\\\\n",
       "\t27 & 17 & Eukaryota & 4 \\\\\n",
       "\t28 & 333 & Unclassified & 1 \\\\\n",
       "\t29 & 3750 & Eukaryota & 4 \\\\\n",
       "\t30 & 2321 & Eukaryota & 4 \\\\\n",
       "\t$\\dots$ & $\\dots$ & $\\dots$ & $\\dots$ \\\\\n",
       "\\end{tabular}\n"
      ],
      "text/plain": [
       "\u001b[1m908×3 DataFrame\u001b[0m\n",
       "\u001b[1m Row \u001b[0m│\u001b[1m Contig \u001b[0m\u001b[1m top_kingdom  \u001b[0m\u001b[1m blast_hits \u001b[0m\n",
       "     │\u001b[90m String \u001b[0m\u001b[90m String       \u001b[0m\u001b[90m Int64      \u001b[0m\n",
       "─────┼──────────────────────────────────\n",
       "   1 │ 1470    Eukaryota              4\n",
       "   2 │ 5944    Eukaryota              3\n",
       "   3 │ 332     Unclassified           1\n",
       "   4 │ 4500    Eukaryota              2\n",
       "   5 │ 5492    Eukaryota              4\n",
       "   6 │ 2717    Eukaryota              2\n",
       "   7 │ 3215    Eukaryota              1\n",
       "   8 │ 6780    Eukaryota              2\n",
       "   9 │ 4088    Eukaryota              2\n",
       "  10 │ 1106    Eukaryota              3\n",
       "  11 │ 6709    Eukaryota              4\n",
       "  ⋮  │   ⋮          ⋮            ⋮\n",
       " 899 │ 6527    Bacteria               1\n",
       " 900 │ 3756    Eukaryota              4\n",
       " 901 │ 3032    Eukaryota              3\n",
       " 902 │ 3488    Eukaryota              2\n",
       " 903 │ 1627    Bacteria               2\n",
       " 904 │ 2497    Eukaryota              4\n",
       " 905 │ 6085    Eukaryota              3\n",
       " 906 │ 4036    Eukaryota              3\n",
       " 907 │ 2983    Eukaryota              1\n",
       " 908 │ 4716    Eukaryota              3\n",
       "\u001b[36m                        887 rows omitted\u001b[0m"
      ]
     },
     "execution_count": 126,
     "metadata": {},
     "output_type": "execute_result"
    }
   ],
   "source": [
    "contig_classification_results_summary"
   ]
  },
  {
   "cell_type": "code",
   "execution_count": 127,
   "id": "2a2e50fd-4614-49d5-b248-de19b464fa9a",
   "metadata": {},
   "outputs": [
    {
     "data": {
      "text/plain": [
       "Dict{Int64, Int64} with 5 entries:\n",
       "  5 => 7\n",
       "  4 => 198\n",
       "  2 => 174\n",
       "  3 => 289\n",
       "  1 => 240"
      ]
     },
     "execution_count": 127,
     "metadata": {},
     "output_type": "execute_result"
    }
   ],
   "source": [
    "StatsBase.countmap(contig_classification_results_summary[!, \"blast_hits\"])"
   ]
  },
  {
   "cell_type": "code",
   "execution_count": 128,
   "id": "6d964f53-bfe4-422b-8c66-0f533ab89adf",
   "metadata": {},
   "outputs": [
    {
     "data": {
      "text/html": [
       "<div><div style = \"float: left;\"><span>7×3 DataFrame</span></div><div style = \"clear: both;\"></div></div><div class = \"data-frame\" style = \"overflow-x: scroll;\"><table class = \"data-frame\" style = \"margin-bottom: 6px;\"><thead><tr class = \"header\"><th class = \"rowNumber\" style = \"font-weight: bold; text-align: right;\">Row</th><th style = \"text-align: left;\">Contig</th><th style = \"text-align: left;\">top_kingdom</th><th style = \"text-align: left;\">blast_hits</th></tr><tr class = \"subheader headerLastRow\"><th class = \"rowNumber\" style = \"font-weight: bold; text-align: right;\"></th><th title = \"String\" style = \"text-align: left;\">String</th><th title = \"String\" style = \"text-align: left;\">String</th><th title = \"Int64\" style = \"text-align: left;\">Int64</th></tr></thead><tbody><tr><td class = \"rowNumber\" style = \"font-weight: bold; text-align: right;\">1</td><td style = \"text-align: left;\">2192</td><td style = \"text-align: left;\">Unclassified</td><td style = \"text-align: right;\">5</td></tr><tr><td class = \"rowNumber\" style = \"font-weight: bold; text-align: right;\">2</td><td style = \"text-align: left;\">7565</td><td style = \"text-align: left;\">Unclassified</td><td style = \"text-align: right;\">5</td></tr><tr><td class = \"rowNumber\" style = \"font-weight: bold; text-align: right;\">3</td><td style = \"text-align: left;\">3830</td><td style = \"text-align: left;\">Eukaryota</td><td style = \"text-align: right;\">5</td></tr><tr><td class = \"rowNumber\" style = \"font-weight: bold; text-align: right;\">4</td><td style = \"text-align: left;\">4529</td><td style = \"text-align: left;\">Eukaryota</td><td style = \"text-align: right;\">5</td></tr><tr><td class = \"rowNumber\" style = \"font-weight: bold; text-align: right;\">5</td><td style = \"text-align: left;\">1644</td><td style = \"text-align: left;\">Eukaryota</td><td style = \"text-align: right;\">5</td></tr><tr><td class = \"rowNumber\" style = \"font-weight: bold; text-align: right;\">6</td><td style = \"text-align: left;\">7611</td><td style = \"text-align: left;\">Eukaryota</td><td style = \"text-align: right;\">5</td></tr><tr><td class = \"rowNumber\" style = \"font-weight: bold; text-align: right;\">7</td><td style = \"text-align: left;\">1397</td><td style = \"text-align: left;\">Eukaryota</td><td style = \"text-align: right;\">5</td></tr></tbody></table></div>"
      ],
      "text/latex": [
       "\\begin{tabular}{r|ccc}\n",
       "\t& Contig & top\\_kingdom & blast\\_hits\\\\\n",
       "\t\\hline\n",
       "\t& String & String & Int64\\\\\n",
       "\t\\hline\n",
       "\t1 & 2192 & Unclassified & 5 \\\\\n",
       "\t2 & 7565 & Unclassified & 5 \\\\\n",
       "\t3 & 3830 & Eukaryota & 5 \\\\\n",
       "\t4 & 4529 & Eukaryota & 5 \\\\\n",
       "\t5 & 1644 & Eukaryota & 5 \\\\\n",
       "\t6 & 7611 & Eukaryota & 5 \\\\\n",
       "\t7 & 1397 & Eukaryota & 5 \\\\\n",
       "\\end{tabular}\n"
      ],
      "text/plain": [
       "\u001b[1m7×3 DataFrame\u001b[0m\n",
       "\u001b[1m Row \u001b[0m│\u001b[1m Contig \u001b[0m\u001b[1m top_kingdom  \u001b[0m\u001b[1m blast_hits \u001b[0m\n",
       "     │\u001b[90m String \u001b[0m\u001b[90m String       \u001b[0m\u001b[90m Int64      \u001b[0m\n",
       "─────┼──────────────────────────────────\n",
       "   1 │ 2192    Unclassified           5\n",
       "   2 │ 7565    Unclassified           5\n",
       "   3 │ 3830    Eukaryota              5\n",
       "   4 │ 4529    Eukaryota              5\n",
       "   5 │ 1644    Eukaryota              5\n",
       "   6 │ 7611    Eukaryota              5\n",
       "   7 │ 1397    Eukaryota              5"
      ]
     },
     "execution_count": 128,
     "metadata": {},
     "output_type": "execute_result"
    }
   ],
   "source": [
    "contig_classification_results_summary[contig_classification_results_summary[!, \"blast_hits\"] .== 5, :]"
   ]
  },
  {
   "cell_type": "markdown",
   "id": "a6655bbe-5035-4621-89ba-4335dba973fa",
   "metadata": {},
   "source": [
    "Based on these results, we will go for a 3x confirmation via targetted blast where the sequence must have a high confidence match for a viral hit using:\n",
    "- ref_viruses_rep_genomes_blastn\n",
    "- ref_viruses_rep_genomes_dcmegablast\n",
    "- nt_viral_validation_megablast\n",
    "\n",
    "Full nt database attempts to validate viral contigs came back primarily with bacterial artificial chromosomes associated with human cell lines that did not seem like valuable hits to us. We also didn't expect to find *novel* viruses by megablasting against the ref_viruses_rep_genomes, given that it is a limited, representative set of all known viruses and the official description of the algorithm is \"Traditional megablast used to find very similar (e.g., intraspecies or closely related species) sequences\"\n",
    "https://www.ncbi.nlm.nih.gov/books/NBK569839/\n",
    "\n",
    "Because of this, we felt that getting a multiple redudant hits using the most flexibile algorithm (blastn) against the highest quality blast db (ref_viruses_rep_genomes), a less flexible, but still cross-species algorithm (dc-megablast: Discontiguous megablast used to find more distant (e.g., interspecies) sequences), and finally a 3rd validation hit against a potentially lower quality due to less manual curation viral database (nt_viral) using the strictest alogrithm, megablast.\n",
    "\n",
    "Because of the low concordance of "
   ]
  },
  {
   "cell_type": "code",
   "execution_count": null,
   "id": "33b3575e-2cb3-48f3-b423-c3400756ba56",
   "metadata": {},
   "outputs": [],
   "source": []
  }
 ],
 "metadata": {
  "kernelspec": {
   "display_name": "Julia 1.6.3",
   "language": "julia",
   "name": "julia-1.6"
  },
  "language_info": {
   "file_extension": ".jl",
   "mimetype": "application/julia",
   "name": "julia",
   "version": "1.6.3"
  }
 },
 "nbformat": 4,
 "nbformat_minor": 5
}
