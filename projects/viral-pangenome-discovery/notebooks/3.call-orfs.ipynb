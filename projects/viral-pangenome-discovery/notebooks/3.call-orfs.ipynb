{
 "cells": [
  {
   "cell_type": "code",
   "execution_count": null,
   "id": "d1fdf087",
   "metadata": {},
   "outputs": [],
   "source": [
    "ENV[\"LD_LIBRARY_PATH\"] = \"\""
   ]
  },
  {
   "cell_type": "code",
   "execution_count": null,
   "id": "7db4c159",
   "metadata": {},
   "outputs": [],
   "source": [
    "# import Pkg\n",
    "# Pkg.activate(\".\")\n",
    "# Pkg.update()\n",
    "# import Mycelia"
   ]
  },
  {
   "cell_type": "code",
   "execution_count": null,
   "id": "fb58ad1e",
   "metadata": {},
   "outputs": [],
   "source": [
    "data_dir = joinpath(dirname(pwd()), \"data\")\n",
    "SRR_paths = filter(x -> !occursin(\".ipynb_checkpoints\", x), readdir(joinpath(data_dir, \"SRA\"), join=true))"
   ]
  },
  {
   "cell_type": "code",
   "execution_count": null,
   "id": "24f10a5b",
   "metadata": {
    "tags": []
   },
   "outputs": [],
   "source": [
    "for SRR_path in SRR_paths\n",
    "    fasta = joinpath(SRR_path, \"megahit\", \"final.contigs.fastg.gfa.fna\")\n",
    "    prodigal_directory = fasta * \"_prodigal\"\n",
    "    base = prodigal_directory * \"/\" * basename(fasta)\n",
    "    expected_outputs = Set([\"$(base).prodigal.all_potential_gene_scores.txt\", \"$(base).prodigal.faa\", \"$(base).prodigal.fna\", \"$(base).prodigal.gff\"])\n",
    "    if isdir(prodigal_directory)\n",
    "        @assert isempty(setdiff(expected_outputs, readdir(prodigal_directory, join=true))) \"$(setdiff(readdir(prodigal_directory, join=true), expected_outputs))\"\n",
    "    else\n",
    "        mkpath(prodigal_directory)\n",
    "        run(`conda run --no-capture-output -n prodigal prodigal -m -p meta -i $(fasta) -f gff -o $(base).prodigal.gff -a $(base).prodigal.faa -d $(base).prodigal.fna -s $(base).prodigal.all_potential_gene_scores.txt`)\n",
    "#         run(`sbatch 3.prodigal.sh $(assembled_fasta)`)\n",
    "#         Mycelia.run_prodigal()\n",
    "    end\n",
    "end"
   ]
  }
 ],
 "metadata": {
  "kernelspec": {
   "display_name": "Julia 1.6.7",
   "language": "julia",
   "name": "julia-1.6"
  },
  "language_info": {
   "file_extension": ".jl",
   "mimetype": "application/julia",
   "name": "julia",
   "version": "1.6.7"
  }
 },
 "nbformat": 4,
 "nbformat_minor": 5
}
