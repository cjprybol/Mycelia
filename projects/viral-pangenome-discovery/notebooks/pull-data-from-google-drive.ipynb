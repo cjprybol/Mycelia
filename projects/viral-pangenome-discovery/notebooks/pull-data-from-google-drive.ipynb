{
 "cells": [
  {
   "cell_type": "code",
   "execution_count": null,
   "id": "14cfa7d6-8331-4c8d-ae07-58b7edbb3ee1",
   "metadata": {
    "tags": []
   },
   "outputs": [],
   "source": [
    "import Pkg\n",
    "Pkg.activate(\".\")\n",
    "\n",
    "# not for the faint of heart!\n",
    "# Pkg.update()\n",
    "\n",
    "pkgs = [\n",
    "\"ProgressMeter\",\n",
    "]\n",
    "Pkg.add(pkgs)\n",
    "for pkg in pkgs\n",
    "    eval(Meta.parse(\"import $pkg\"))\n",
    "end\n",
    "\n",
    "import Mycelia"
   ]
  },
  {
   "cell_type": "code",
   "execution_count": null,
   "id": "20dbf065-87e1-4c6e-988f-515d4eee1c9d",
   "metadata": {},
   "outputs": [],
   "source": [
    "project_dir = dirname(pwd())"
   ]
  },
  {
   "cell_type": "code",
   "execution_count": null,
   "id": "6988e47f-db42-4d9c-a398-4f017fddfde1",
   "metadata": {
    "tags": []
   },
   "outputs": [],
   "source": [
    "data_dir = joinpath(project_dir, \"data\")"
   ]
  },
  {
   "cell_type": "code",
   "execution_count": null,
   "id": "e8a54eec-177d-48d4-90ba-685c48fa3003",
   "metadata": {},
   "outputs": [],
   "source": [
    "sra_dir = joinpath(data_dir, \"SRA\")"
   ]
  },
  {
   "cell_type": "code",
   "execution_count": null,
   "id": "587cf2cc-c9d7-46a6-82a8-cd3c38152df6",
   "metadata": {
    "tags": []
   },
   "outputs": [],
   "source": [
    "sra_list = filter(x -> !occursin(r\"\\.\", x), readdir(sra_dir))"
   ]
  },
  {
   "cell_type": "code",
   "execution_count": null,
   "id": "3b09d843-494e-4182-9255-e84c732a2a64",
   "metadata": {},
   "outputs": [],
   "source": [
    "srr = first(sra_list)"
   ]
  },
  {
   "cell_type": "code",
   "execution_count": null,
   "id": "2d6801fc-769d-4e6f-8457-3cecf63f9847",
   "metadata": {},
   "outputs": [],
   "source": [
    "google_drive_srr = joinpath(google_drive_base, srr)\n",
    "folder_contents = readlines(`rclone lsf $(google_drive_srr)`)"
   ]
  },
  {
   "cell_type": "code",
   "execution_count": null,
   "id": "9e5d4c5a-1d6d-4f8b-953b-207970ab586a",
   "metadata": {},
   "outputs": [],
   "source": [
    "local_srr_directory = joinpath(sra_dir, srr)"
   ]
  },
  {
   "cell_type": "code",
   "execution_count": null,
   "id": "bd54b0d7-ba47-4d2c-b36c-c7050bc747e6",
   "metadata": {},
   "outputs": [],
   "source": [
    "for contig_info_file in filter(x -> occursin(r\"contig_info\\.tsv$\", x), folder_contents)\n",
    "    # @show contig_info_file\n",
    "    cmd = `rclone copy $(google_drive_srr)/$(contig_info_file) $(local_srr_directory)`\n",
    "    @show cmd\n",
    "    run(cmd)\n",
    "end"
   ]
  },
  {
   "cell_type": "code",
   "execution_count": null,
   "id": "a54f7a19-1ec6-4763-9bce-0e4d671541e1",
   "metadata": {},
   "outputs": [],
   "source": [
    "# get all contig info files"
   ]
  },
  {
   "cell_type": "code",
   "execution_count": null,
   "id": "a1ac6271-0fb2-4c8c-9a1f-0835773a97b1",
   "metadata": {},
   "outputs": [],
   "source": [
    "# blastn"
   ]
  },
  {
   "cell_type": "code",
   "execution_count": null,
   "id": "da87cce7-311c-40a6-8713-d6927e7a1f26",
   "metadata": {},
   "outputs": [],
   "source": [
    "# megahit"
   ]
  },
  {
   "cell_type": "code",
   "execution_count": null,
   "id": "3d677ef8-d2a1-4287-8bd0-9349785474c0",
   "metadata": {},
   "outputs": [],
   "source": [
    "# virsorter"
   ]
  },
  {
   "cell_type": "code",
   "execution_count": null,
   "id": "7056058c-bca6-4c97-bcf9-8e983e3a89bc",
   "metadata": {},
   "outputs": [],
   "source": [
    "get megahit directory"
   ]
  },
  {
   "cell_type": "code",
   "execution_count": null,
   "id": "3c6c1a10-7d52-4b20-a370-9ba520ddd44d",
   "metadata": {
    "tags": []
   },
   "outputs": [],
   "source": [
    "# # copy from local to google drive\n",
    "# ProgressMeter.@showprogress for srr in sra_list\n",
    "#     srr_dir = joinpath(sra_dir, srr)\n",
    "#     kraken_dir = joinpath(srr_dir, \"kraken\")\n",
    "#     if isdir(kraken_dir)\n",
    "#         google_drive_dir = \"google_drive:Projects/\" * kraken_dir[length(dirname(project_dir))+2:end]\n",
    "#         run(`rclone copy $(kraken_dir) $(google_drive_dir)`)\n",
    "#         trim_galore_dir = joinpath(srr_dir, \"trim_galore\")\n",
    "#         if isdir(trim_galore_dir)\n",
    "#             rm(trim_galore_dir, recursive=true)\n",
    "#         end\n",
    "#     end\n",
    "# end"
   ]
  },
  {
   "cell_type": "code",
   "execution_count": null,
   "id": "632608d3-ea32-4a85-ac66-d1b151ce4914",
   "metadata": {},
   "outputs": [],
   "source": [
    "# copy from google drive back to local\n",
    "ProgressMeter.@showprogress for srr in sra_list\n",
    "    srr_dir = joinpath(sra_dir, srr)\n",
    "    kraken_dir = joinpath(srr_dir, \"kraken\")\n",
    "    google_drive_dir = \"google_drive:Projects/\" * kraken_dir[length(dirname(project_dir))+2:end]\n",
    "    if !isdir(kraken_dir) || isempty(readdir(kraken_dir))\n",
    "        run(`rclone copy $(google_drive_dir) $(kraken_dir)`)\n",
    "    end\n",
    "end"
   ]
  }
 ],
 "metadata": {
  "kernelspec": {
   "display_name": "Julia 1.6.3",
   "language": "julia",
   "name": "julia-1.6"
  },
  "language_info": {
   "file_extension": ".jl",
   "mimetype": "application/julia",
   "name": "julia",
   "version": "1.6.3"
  }
 },
 "nbformat": 4,
 "nbformat_minor": 5
}
