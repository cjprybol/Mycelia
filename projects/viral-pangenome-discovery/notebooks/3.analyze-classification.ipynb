{
 "cells": [
  {
   "cell_type": "code",
   "execution_count": null,
   "id": "ce59cd77-c0f0-4b90-8de8-3c5f071935ae",
   "metadata": {
    "tags": []
   },
   "outputs": [],
   "source": [
    "import Pkg\n",
    "Pkg.activate(\".\")\n",
    "\n",
    "pkgs = [\n",
    "\"Revise\",\n",
    "\"DataFrames\",\n",
    "\"ProgressMeter\",\n",
    "\"Statistics\",\n",
    "\"uCSV\",\n",
    "\"StatsBase\",\n",
    "\"StatsPlots\",\n",
    "\"FASTX\",\n",
    "\"Kmers\"\n",
    "]\n",
    "Pkg.add(pkgs)\n",
    "for pkg in pkgs\n",
    "    eval(Meta.parse(\"import $pkg\"))\n",
    "end\n",
    "\n",
    "import Mycelia"
   ]
  },
  {
   "cell_type": "code",
   "execution_count": null,
   "id": "e4293aae-4ed8-42d1-b510-12ce9fb4c50c",
   "metadata": {
    "tags": []
   },
   "outputs": [],
   "source": [
    "RESULTS_DIR = mkpath(joinpath(dirname(pwd()), \"results\"))"
   ]
  },
  {
   "cell_type": "code",
   "execution_count": null,
   "id": "1e4ae30f-24df-49b3-9468-9bdb9cc33636",
   "metadata": {
    "tags": []
   },
   "outputs": [],
   "source": [
    "# get all taxonids at or below virus\n",
    "# mamba create -n taxonkit -c bioconda taxonkit\n",
    "# wget -c ftp://ftp.ncbi.nih.gov/pub/taxonomy/taxdump.tar.gz \n",
    "# tar -zxvf taxdump.tar.gz\n",
    "# mkdir -p $HOME/.taxonkit\n",
    "# cp names.dmp nodes.dmp delnodes.dmp merged.dmp $HOME/.taxonkit\n",
    "# --data-dir\n",
    "\n",
    "viral_tax_ids = Set(parse.(Int, filter(!isempty, readlines(`mamba run -n taxonkit taxonkit list --ids 10239 --indent \"\"`))))"
   ]
  },
  {
   "cell_type": "code",
   "execution_count": null,
   "id": "b54e14d0-ce7b-46df-ac83-b92b48c05576",
   "metadata": {
    "tags": []
   },
   "outputs": [],
   "source": [
    "n_methods = 8"
   ]
  },
  {
   "cell_type": "code",
   "execution_count": null,
   "id": "7626ee3e-5dab-413d-b487-8f998341d593",
   "metadata": {
    "tags": []
   },
   "outputs": [],
   "source": [
    "# uniref_dbs = [\n",
    "#     \"UniRef100\",\n",
    "#     \"UniRef90\",\n",
    "#     \"UniRef50\"\n",
    "# ]\n",
    "data_dir = joinpath(dirname(pwd()), \"data\")\n",
    "SRR_paths = filter(x -> !occursin(\".ipynb_checkpoints\", x), readdir(joinpath(data_dir, \"SRA\"), join=true))"
   ]
  },
  {
   "cell_type": "code",
   "execution_count": null,
   "id": "771dd4bd-aed3-415b-bf67-d73045eae71e",
   "metadata": {
    "tags": []
   },
   "outputs": [],
   "source": [
    "sample_summary_table = DataFrames.DataFrame(\n",
    "    # sample_id = String[],\n",
    "    # total_mapped_bases = Int[],\n",
    "    # total_contigs = Int[],\n",
    "    # total_assembly_size = Int[],\n",
    "    # percent_contigs_viral = Float64[],\n",
    "    # percent_mapped_bases_viral = Float64[]\n",
    ")\n",
    "\n",
    "ProgressMeter.@showprogress for SRR_path in SRR_paths\n",
    "\n",
    "    contig_info_pattern = basename(SRR_path) * \".final.contigs.fastg.gfa.fna\"\n",
    "    contig_info_files = filter(x -> occursin(contig_info_pattern, x), readdir(SRR_path, join=true))\n",
    "    joint_contig_info_table = DataFrames.DataFrame()\n",
    "    for f in contig_info_files\n",
    "        table_col_types = [\n",
    "            Int64,\n",
    "            Int64,\n",
    "            Int64,\n",
    "            Float64,\n",
    "            Float64,\n",
    "            Float64,\n",
    "            String,\n",
    "            String,\n",
    "            String,\n",
    "            Int64,\n",
    "            String,\n",
    "            Float64,\n",
    "            Float64,\n",
    "            Float64,\n",
    "            Float64,\n",
    "            Int64,\n",
    "            Int64,\n",
    "            Int64,\n",
    "            Int64,\n",
    "            Int64,\n",
    "            Int64,\n",
    "            Int64,\n",
    "            Int64,\n",
    "            Int64,\n",
    "        ]\n",
    "        method = replace(replace(basename(f), basename(SRR_path) * \".final.contigs.fastg.gfa.fna.\" => \"\"), \".contig_info.tsv\" => \"\")\n",
    "        this_contig_info_table = DataFrames.DataFrame(uCSV.read(f, delim='\\t', header=1, types=table_col_types, encodings=Dict(\"\" => missing), allowmissing=true)...)\n",
    "        this_contig_info_table[!, \"Method\"] .= method\n",
    "        this_contig_info_table[!, \"SRR\"] .= basename(SRR_path)\n",
    "        append!(joint_contig_info_table, this_contig_info_table)\n",
    "    end\n",
    "    sort!(joint_contig_info_table, \"Contig\")\n",
    "    contig_info_table = unique(joint_contig_info_table[!, [\"SRR\", \"Contig\", \"Length\", \"Mapped bases\", \"Mean coverage\", \"Standard Deviation\", \"% Mapped bases\"]])\n",
    "\n",
    "    blast_classifications_table = joint_contig_info_table[.!ismissing.(joint_contig_info_table[!, \"subject id\"]), DataFrames.Not(names(contig_info_table[!, DataFrames.Not(\"Contig\")]))]\n",
    "    sort!(blast_classifications_table, [\"Contig\", \"evalue\"])\n",
    "    blast_hits_top_hits_table = DataFrames.combine(DataFrames.groupby(blast_classifications_table, [\"Contig\", \"Method\"]), first)\n",
    "    blast_hits_top_hits_table = blast_hits_top_hits_table[map(x -> x in viral_tax_ids, blast_hits_top_hits_table[!, \"subject tax id\"]), :]\n",
    "\n",
    "    joint_lca_table = DataFrames.DataFrame()\n",
    "    easy_taxonomy_lca_reports = filter(x -> occursin(\"final.contigs.fastg.gfa.fna.mmseqs_easy_taxonomy.\", x) && occursin(\"_lca.tsv\", x), readdir(joinpath(SRR_path, \"mmseqs_easy_taxonomy\"), join=true))\n",
    "    for lca_tsv in easy_taxonomy_lca_reports\n",
    "        method = replace(replace(basename(lca_tsv), \"final.contigs.fastg.gfa.fna.\" => \"\"), \"_lca.tsv\" => \"\")\n",
    "        this_lca_table = Mycelia.parse_mmseqs_easy_taxonomy_lca_tsv(lca_tsv)\n",
    "        this_lca_table[!, \"SRR\"] .= basename(SRR_path)\n",
    "        this_lca_table[!, \"SRR\"] .= method\n",
    "        append!(joint_lca_table, this_lca_table)\n",
    "    end\n",
    "    sort!(joint_lca_table, \"contig_id\")\n",
    "    joint_lca_table = joint_lca_table[map(x -> x in viral_tax_ids, joint_lca_table[!, \"taxon_id\"]), :]\n",
    "\n",
    "    virsorter_score_tsv = joinpath(SRR_path, \"virsorter\", \"final-viral-score.tsv\")\n",
    "    virsorter_results = Mycelia.parse_virsorter_score_tsv(virsorter_score_tsv)\n",
    "    virsorter_results[!, \"seqname\"] = parse.(Int, first.(split.(virsorter_results[!, \"seqname\"], '|')))\n",
    "    # virsorter_results\n",
    "\n",
    "    genomad_virus_summary = joinpath(SRR_path, \"genomad\", \"final.contigs.fastg.gfa_summary\", \"final.contigs.fastg.gfa_virus_summary.tsv\")\n",
    "    genomad_results = DataFrames.DataFrame(uCSV.read(genomad_virus_summary, delim='\\t', header=1, typedetectrows=100)...)\n",
    "\n",
    "    number_of_hits = vcat(\n",
    "        blast_hits_top_hits_table[!, \"Contig\"],\n",
    "        joint_lca_table[!, \"contig_id\"],\n",
    "        virsorter_results[!, \"seqname\"],\n",
    "        genomad_results[!, \"seq_name\"]\n",
    "    )\n",
    "\n",
    "    contig_support_counts = StatsBase.countmap(number_of_hits)\n",
    "    \n",
    "    majority_support_contigs = Set(keys(filter(x -> x[2] >= (n_methods/2), contig_support_counts)))\n",
    "    fna_file = joinpath(SRR_path, \"megahit\", \"final.contigs.fastg.gfa.fna\")\n",
    "    fna_records = collect(Mycelia.open_fastx(fna_file))\n",
    "    viral_records = filter(x -> parse(Int, FASTX.identifier(x)) in majority_support_contigs, fna_records)\n",
    "\n",
    "    number_of_viral_contigs = length(viral_records)\n",
    "    viral_assembly_size = sum(length.(FASTX.sequence.(viral_records)))\n",
    "\n",
    "    # viral_7mers = length(Mycelia.count_canonical_kmers(Kmers.DNAKmer{7}, viral_records))\n",
    "    viral_11mers = length(Mycelia.count_canonical_kmers(Kmers.DNAKmer{11}, viral_records))\n",
    "    viral_13mers = length(Mycelia.count_canonical_kmers(Kmers.DNAKmer{13}, viral_records))\n",
    "    viral_17mers = length(Mycelia.count_canonical_kmers(Kmers.DNAKmer{17}, viral_records))\n",
    "    \n",
    "    # all_7mers = length(Mycelia.count_canonical_kmers(Kmers.DNAKmer{7}, fna_records))\n",
    "    all_11mers = length(Mycelia.count_canonical_kmers(Kmers.DNAKmer{11}, fna_records))\n",
    "    all_13mers = length(Mycelia.count_canonical_kmers(Kmers.DNAKmer{13}, fna_records))\n",
    "    all_17mers = length(Mycelia.count_canonical_kmers(Kmers.DNAKmer{17}, fna_records))\n",
    "\n",
    "    contig_info_table[!, \"viral_classification_count\"] = map(contig -> get(contig_support_counts, contig, 0), contig_info_table[!, \"Contig\"])\n",
    "\n",
    "    contig_info_table[!, \"viral_classification_percent\"] = round.((contig_info_table[!, \"viral_classification_count\"] ./ n_methods) .* 100, digits=1)\n",
    "    contig_info_table\n",
    "\n",
    "    sample_summary_row = (\n",
    "        sample_id = contig_info_table[1, \"SRR\"],\n",
    "        total_mapped_bases = sum(contig_info_table[!, \"Mapped bases\"]),\n",
    "        total_contigs = DataFrames.nrow(contig_info_table),\n",
    "        total_assembly_size = sum(contig_info_table[!, \"Length\"]),\n",
    "        percent_contigs_viral = round(count(contig_info_table[!, \"viral_classification_percent\"] .>= 50) / DataFrames.nrow(contig_info_table) * 100, digits=3),\n",
    "        percent_mapped_bases_viral = sum(contig_info_table[contig_info_table[!, \"viral_classification_percent\"] .>= 50, \"% Mapped bases\"]),\n",
    "        number_of_viral_contigs = number_of_viral_contigs,\n",
    "        viral_assembly_size = viral_assembly_size,\n",
    "        # viral_7mers = viral_7mers,\n",
    "        viral_11mers = viral_11mers,\n",
    "        viral_13mers = viral_13mers,\n",
    "        viral_17mers = viral_17mers,\n",
    "        # all_7mers = all_7mers,\n",
    "        all_11mers = all_11mers,\n",
    "        all_13mers = all_13mers,\n",
    "        all_17mers = all_17mers\n",
    "    )\n",
    "    push!(sample_summary_table, sample_summary_row)\n",
    "end\n",
    "sample_summary_table"
   ]
  },
  {
   "cell_type": "code",
   "execution_count": null,
   "id": "9fac130b-5874-4cbb-82ae-0cf894c8600d",
   "metadata": {
    "tags": []
   },
   "outputs": [],
   "source": [
    "uCSV.write(\"$(RESULTS_DIR)/sample_viral_summary_stats_table.tsv\", sample_summary_table, delim='\\t')"
   ]
  },
  {
   "cell_type": "code",
   "execution_count": null,
   "id": "6f93359c-23e1-4066-9ee5-fd3455142312",
   "metadata": {
    "tags": []
   },
   "outputs": [],
   "source": [
    "DataFrames.DataFrame(uCSV.read(\"$(RESULTS_DIR)/sample_viral_summary_stats_table.tsv\", header=1, delim='\\t')...)"
   ]
  },
  {
   "cell_type": "code",
   "execution_count": null,
   "id": "9652378d-ade6-4f0a-bfe9-057df714a4df",
   "metadata": {
    "tags": []
   },
   "outputs": [],
   "source": [
    "# contamination_load = sample_summary_table[findfirst(sample_summary_table[!, \"sample_id\"] .== \"SRR6399584\"), \"total_mapped_bases\"]"
   ]
  },
  {
   "cell_type": "code",
   "execution_count": null,
   "id": "ea776814-6082-4359-8f9c-85a0d7ecffb8",
   "metadata": {
    "tags": []
   },
   "outputs": [],
   "source": [
    "# mean_mapped_bases = Statistics.mean(sample_summary_table[!, \"total_mapped_bases\"])\n",
    "# std_mapped_bases = Statistics.std(sample_summary_table[!, \"total_mapped_bases\"])\n",
    "\n",
    "# p = StatsPlots.histogram(\n",
    "#     sample_summary_table[!, \"total_mapped_bases\"],\n",
    "#     ylabel = \"# of samples\",\n",
    "#     xlabel = \"# of mapped bases\",\n",
    "#     label=\"\"\n",
    "# )\n",
    "# # p = StatsPlots.vline!(\n",
    "# #     [mean_mapped_bases - 2.5std_mapped_bases],\n",
    "# #     label=\"-2.5 standard deviations\"\n",
    "# # )\n",
    "\n",
    "# p = StatsPlots.vline!(\n",
    "#         [sample_summary_table[findfirst(sample_summary_table[!, \"sample_id\"] .== \"SRR6399584\"), \"total_mapped_bases\"]],\n",
    "#         label=\"negative control\"\n",
    "#     )"
   ]
  },
  {
   "cell_type": "code",
   "execution_count": null,
   "id": "4dfd8acc-17a1-4b1d-84ac-15b843f31aba",
   "metadata": {},
   "outputs": [],
   "source": [
    "# first list\n",
    "\n",
    "# 1\tSRR6399584\tchaoexpo26_I6\n",
    "# 2\tSRR6399726\tchaoexpo62_I6\n",
    "# 3\tSRR6399596\tchaoexpo36_I15\n",
    "# 4\tSRR7365476\tchaoexpo27_I5\n",
    "# 5\tSRR6399525\tchaoexpo67_I12\n",
    "# 6\tSRR6399862\tchaoexpo17_I15\n",
    "# 7\tSRR6399652\txinexpo76_I5"
   ]
  },
  {
   "cell_type": "code",
   "execution_count": null,
   "id": "373ab6e5-f382-40c2-8a58-e084364f1955",
   "metadata": {
    "tags": []
   },
   "outputs": [],
   "source": [
    "# sort!(sample_summary_table, \"percent_mapped_bases_viral\", rev=true)[1:10, :]"
   ]
  },
  {
   "cell_type": "code",
   "execution_count": null,
   "id": "fdced3c2-d3fa-4134-bae3-e1d43800861c",
   "metadata": {
    "tags": []
   },
   "outputs": [],
   "source": [
    "# a = sort(sample_summary_table, \"total_mapped_bases_viral\", rev=true)[1:10, \"sample_id\"]\n",
    "# b = sort(sample_summary_table, \"percent_mapped_bases_viral\", rev=true)[1:10, \"sample_id\"]\n",
    "# ab = union(a, b)\n",
    "# # for x in union(a, b)\n",
    "# #     println(x)\n",
    "# # end"
   ]
  },
  {
   "cell_type": "code",
   "execution_count": null,
   "id": "b5be8e4e-e2f6-42da-b8b8-78ee2af69ee1",
   "metadata": {
    "tags": []
   },
   "outputs": [],
   "source": [
    "# sample_summary_table[, \"total_mapped_bases\"] .>= contamination_load\n",
    "# sample_summary_table[\n",
    "\n"
   ]
  },
  {
   "cell_type": "code",
   "execution_count": null,
   "id": "63a5933f-a804-4216-bc5d-e89d5ccefee1",
   "metadata": {
    "tags": []
   },
   "outputs": [],
   "source": [
    "# metadata_file = joinpath(dirname(pwd()), \"metadata\", \"exposome\", \"SraRunInfo.csv\")\n",
    "# metadata_table = DataFrames.DataFrame(uCSV.read(metadata_file, header=1)...)"
   ]
  },
  {
   "cell_type": "code",
   "execution_count": null,
   "id": "f3cc4148-3adc-49e1-937a-729b7d877144",
   "metadata": {
    "tags": []
   },
   "outputs": [],
   "source": [
    "# for x in metadata_table[map(x -> x in ab, metadata_table[!, \"Run\"]), \"LibraryName\"]\n",
    "#     println(x)\n",
    "# end"
   ]
  },
  {
   "cell_type": "code",
   "execution_count": null,
   "id": "63a71630-4496-4b69-9f89-a267befb6f15",
   "metadata": {
    "tags": []
   },
   "outputs": [],
   "source": [
    "# is_in_top_set = map(x -> x in ab, sample_summary_table[!, \"sample_id\"])\n",
    "# is_above_contamination_load = sample_summary_table[!, \"total_mapped_bases\"] .>= contamination_load\n",
    "# above_contamination = sample_summary_table[is_in_top_set .& is_above_contamination_load, \"sample_id\"]"
   ]
  },
  {
   "cell_type": "code",
   "execution_count": null,
   "id": "26f0ad5f-bad8-4107-9bbd-3819cccfd8b5",
   "metadata": {
    "tags": []
   },
   "outputs": [],
   "source": [
    "# for x in metadata_table[map(x -> x in above_contamination, metadata_table[!, \"Run\"]), \"LibraryName\"]\n",
    "#     println(x)\n",
    "# end"
   ]
  },
  {
   "cell_type": "code",
   "execution_count": null,
   "id": "f1a78738-6779-49dd-8d7d-f44b1c7637c4",
   "metadata": {},
   "outputs": [],
   "source": [
    "\n",
    "\n",
    "# joint_summary_table = DataFrames.innerjoin(summary_table, metadata_table, on=\"sample_identifier\" => \"Run\")"
   ]
  },
  {
   "cell_type": "code",
   "execution_count": null,
   "id": "4fb01865-2aa2-4306-9c53-e41259cfe2d8",
   "metadata": {},
   "outputs": [],
   "source": [
    "# intersect list above with library prep dataframe"
   ]
  },
  {
   "cell_type": "code",
   "execution_count": null,
   "id": "00c5c658-05c5-4d8c-b1af-fbe14e390666",
   "metadata": {
    "tags": []
   },
   "outputs": [],
   "source": [
    "# sample_summary_table[!, \"total_mapped_bases_viral\"] = sample_summary_table[!, \"total_mapped_bases\"] .* sample_summary_table[!, \"percent_mapped_bases_viral\"]"
   ]
  },
  {
   "cell_type": "code",
   "execution_count": null,
   "id": "91292357-3c09-4da1-9851-34da8a3be8c5",
   "metadata": {
    "tags": []
   },
   "outputs": [],
   "source": [
    "# findfirst(sample_summary_table[!, \"sample_id\"] .== \"SRR6399584\") / DataFrames.nrow(sample_summary_table)"
   ]
  },
  {
   "cell_type": "code",
   "execution_count": null,
   "id": "178bea5d-404f-438d-8d13-37176d1210ab",
   "metadata": {
    "tags": []
   },
   "outputs": [],
   "source": [
    "# negative_control = sample_summary_table[findfirst(sample_summary_table[!, \"sample_id\"] .== \"SRR6399584\"), \"total_mapped_bases\"]"
   ]
  },
  {
   "cell_type": "code",
   "execution_count": null,
   "id": "48b8fcf2-f74a-4fe6-b3aa-4dda0ebc4522",
   "metadata": {},
   "outputs": [],
   "source": []
  },
  {
   "cell_type": "code",
   "execution_count": null,
   "id": "5df1d241-8575-4fca-b607-71fe523b4efa",
   "metadata": {
    "tags": []
   },
   "outputs": [],
   "source": [
    "# negative_control = 6080239502"
   ]
  },
  {
   "cell_type": "code",
   "execution_count": null,
   "id": "dac3f347-a2be-4557-afa6-6178a72e0cae",
   "metadata": {
    "tags": []
   },
   "outputs": [],
   "source": [
    "# sample_summary_table[sample_summary_table[!, \"total_mapped_bases\"] .<= (mean_mapped_bases - 2std_mapped_bases), :]"
   ]
  },
  {
   "cell_type": "code",
   "execution_count": null,
   "id": "53b2aa97-d6f8-4fbb-8767-eee493a112a8",
   "metadata": {
    "tags": []
   },
   "outputs": [],
   "source": [
    "# sample_summary_table[sample_summary_table[!, \"total_mapped_bases\"] .>= (mean_mapped_bases - 2.5std_mapped_bases), :]"
   ]
  },
  {
   "cell_type": "code",
   "execution_count": null,
   "id": "d9231620-78b7-4d74-86ab-ff5cde5c70e3",
   "metadata": {
    "tags": []
   },
   "outputs": [],
   "source": []
  },
  {
   "cell_type": "code",
   "execution_count": null,
   "id": "7b389e1a-0b52-4045-9a9b-42dbcf5b11f0",
   "metadata": {
    "tags": []
   },
   "outputs": [],
   "source": [
    "# sort(sample_summary_table, \"percent_contigs_viral\", rev=true)"
   ]
  },
  {
   "cell_type": "code",
   "execution_count": null,
   "id": "bc33aeb6-320e-49d2-a8b9-43bc12f18384",
   "metadata": {
    "tags": []
   },
   "outputs": [],
   "source": [
    "# DataFrames.groupby(sort!(joint_contig_info_table[.!isempty.(joint_contig_info_table[!, \"subject id\"]), :], \"evalue\"), \"Method\")"
   ]
  },
  {
   "cell_type": "code",
   "execution_count": null,
   "id": "8bfc900d-a9be-4515-9442-896044071d20",
   "metadata": {
    "tags": []
   },
   "outputs": [],
   "source": [
    "# DataFrames.sort!(DataFrames.groupby(joint_contig_info_table, \"Method\"), \"\")"
   ]
  },
  {
   "cell_type": "code",
   "execution_count": null,
   "id": "4521d9ad-fe71-481b-a42c-f9ba4ebd470b",
   "metadata": {},
   "outputs": [],
   "source": []
  },
  {
   "cell_type": "code",
   "execution_count": null,
   "id": "46fce3a3-4b33-4eae-8a64-8719548c1af3",
   "metadata": {},
   "outputs": [],
   "source": [
    "# take genomad and virsorter results as binary"
   ]
  },
  {
   "cell_type": "code",
   "execution_count": null,
   "id": "29672a25-6c0c-43d2-a281-46ef1e505592",
   "metadata": {},
   "outputs": [],
   "source": [
    "# make "
   ]
  },
  {
   "cell_type": "code",
   "execution_count": null,
   "id": "b1868b15-467c-4435-8596-c3e213dd7fb4",
   "metadata": {
    "tags": []
   },
   "outputs": [],
   "source": [
    "# tophit_report = \"/global/cfs/cdirs/m4269/cjprybol/Mycelia/projects/viral-pangenome-discovery/data/SRA/SRR6399459/mmseqs_easy_taxonomy/final.contigs.fastg.gfa.fna.mmseqs_easy_taxonomy.UniRef100_tophit_report\"\n",
    "# Mycelia.parse_mmseqs_easy_taxonomy_tophit_report(tophit_report)"
   ]
  },
  {
   "cell_type": "code",
   "execution_count": null,
   "id": "18397664-b1ec-432c-8a2f-51549c1248f2",
   "metadata": {
    "tags": []
   },
   "outputs": [],
   "source": [
    "# tophit_aln = \"/global/cfs/cdirs/m4269/cjprybol/Mycelia/projects/viral-pangenome-discovery/data/SRA/SRR6399459/mmseqs_easy_taxonomy/final.contigs.fastg.gfa.fna.mmseqs_easy_taxonomy.UniRef100_tophit_aln\"\n",
    "# Mycelia.parse_mmseqs_tophit_aln(tophit_aln)"
   ]
  },
  {
   "cell_type": "code",
   "execution_count": null,
   "id": "6b2f128a-09de-4026-bba7-eca378fe786f",
   "metadata": {
    "tags": []
   },
   "outputs": [],
   "source": [
    "# report - this is tree-based relative frequencies - make krona plots from these!"
   ]
  },
  {
   "cell_type": "code",
   "execution_count": null,
   "id": "e7083596-3fa1-42fd-8208-003016453650",
   "metadata": {},
   "outputs": [],
   "source": [
    "# load in other classification approaches"
   ]
  },
  {
   "cell_type": "code",
   "execution_count": null,
   "id": "19108955-b91d-4bc9-97ea-718278ab7597",
   "metadata": {},
   "outputs": [],
   "source": [
    "# get number of contigs from each sample"
   ]
  },
  {
   "cell_type": "code",
   "execution_count": null,
   "id": "2c6f83ff-bbaf-45cf-8ecf-efacbbed59eb",
   "metadata": {
    "tags": []
   },
   "outputs": [],
   "source": [
    "# viral_frequency_table = DataFrames.DataFrame(\n",
    "#     sample_identifier = String[],\n",
    "#     classification_method = String[],\n",
    "#     percent_viral_contigs = Float64[]\n",
    "# )\n",
    "\n",
    "# ProgressMeter.@showprogress for SRR_path in SRR_paths\n",
    "#     mmseqs_dir = joinpath(SRR_path, \"mmseqs_easy_taxonomy\")\n",
    "#     for db in uniref_dbs\n",
    "#         kraken_report = \"$(mmseqs_dir)/final.contigs.fastg.gfa.fna.mmseqs_easy_taxonomy.$(db)_report\"\n",
    "#         # add something to determine everything below viruses with phylokit or whatever it's called\n",
    "#         viral_lines = collect(Iterators.filter(x -> occursin(r\"virus\"i, x) && occursin(r\"10239\"i, x), eachline(kraken_report)))\n",
    "#         if length(viral_lines) == 0\n",
    "#             percent_viral_contigs = 0.0\n",
    "#         elseif length(viral_lines) == 1\n",
    "#             viral_line_table = Mycelia.read_kraken_report(IOBuffer(join(viral_lines, '\\n')))\n",
    "#             percent_viral_contigs = viral_line_table[1, \"percentage_of_fragments_at_or_below_taxon\"]\n",
    "#         else\n",
    "#             display(viral_lines)\n",
    "#             error()\n",
    "#         end\n",
    "#         row = (\n",
    "#             sample_identifier = basename(SRR_path),\n",
    "#             classification_method = db,\n",
    "#             percent_viral_contigs = percent_viral_contigs\n",
    "#         )\n",
    "#         push!(viral_frequency_table, row)\n",
    "#     end\n",
    "# end\n",
    "# viral_frequency_table"
   ]
  },
  {
   "cell_type": "code",
   "execution_count": null,
   "id": "eea25da9-4f46-4d77-a422-561e6da5c3f0",
   "metadata": {
    "tags": []
   },
   "outputs": [],
   "source": [
    "# readdir()"
   ]
  },
  {
   "cell_type": "code",
   "execution_count": null,
   "id": "225f7a09-3361-4455-bfbc-432906bff63d",
   "metadata": {
    "tags": []
   },
   "outputs": [],
   "source": [
    "# summary_table = DataFrames.combine(DataFrames.groupby(viral_frequency_table, \"sample_identifier\"), \"percent_viral_contigs\" => Statistics.median)\n",
    "# metadata_file = joinpath(dirname(pwd()), \"metadata\", \"exposome\", \"SraRunInfo.csv\")\n",
    "# metadata_table = DataFrames.DataFrame(uCSV.read(metadata_file, header=1)...)\n",
    "# joint_summary_table = DataFrames.innerjoin(summary_table, metadata_table, on=\"sample_identifier\" => \"Run\")\n",
    "# joint_summary_table = sort(joint_summary_file, \"percent_viral_contigs_median\", rev=true)"
   ]
  },
  {
   "cell_type": "code",
   "execution_count": null,
   "id": "f9a90ace-4c99-4f9f-982b-d3312bbeedf1",
   "metadata": {
    "tags": []
   },
   "outputs": [],
   "source": [
    "# joint_summary_table[joint_summary_table[!, \"percent_viral_contigs_median\"] .>= 1, [\"sample_identifier\", \"LibraryName\"]]"
   ]
  },
  {
   "cell_type": "code",
   "execution_count": null,
   "id": "99c149c1-2ce5-4e2f-bf54-f42ce88a5d1e",
   "metadata": {
    "tags": []
   },
   "outputs": [],
   "source": [
    "# SRR_path = first(SRR_paths)"
   ]
  },
  {
   "cell_type": "code",
   "execution_count": null,
   "id": "fbb7a7fe-e317-40b2-a833-97c171d7ff98",
   "metadata": {},
   "outputs": [],
   "source": [
    "# make joint_contig_info reports"
   ]
  },
  {
   "cell_type": "code",
   "execution_count": null,
   "id": "0ad765a3-1ec5-401e-a3d9-5c91bd2a1795",
   "metadata": {
    "tags": []
   },
   "outputs": [],
   "source": [
    "# readdir(SRR_path)"
   ]
  },
  {
   "cell_type": "code",
   "execution_count": null,
   "id": "710466c0-6911-4ce0-be80-384c326e0dbe",
   "metadata": {
    "tags": []
   },
   "outputs": [],
   "source": [
    "# # \"genomad\"\n",
    "# readdir(joinpath(SRR_path, \"genomad\", \"final.contigs.fastg.gfa_summary\"))\n",
    "# # \"final.contigs.fastg.gfa_virus_genes.tsv\"\n",
    "# # \"final.contigs.fastg.gfa_virus_proteins.faa\"\n",
    "\n",
    "# # \"final.contigs.fastg.gfa_virus.fna\"\n",
    "# # \"final.contigs.fastg.gfa_virus_summary.tsv\""
   ]
  },
  {
   "cell_type": "code",
   "execution_count": null,
   "id": "9595eade-6bcf-45f6-a1c2-efc68794e6cb",
   "metadata": {},
   "outputs": [],
   "source": [
    "# hit vs no hit\n",
    "# \"blastn\""
   ]
  },
  {
   "cell_type": "code",
   "execution_count": null,
   "id": "61995565-0ec8-443b-8534-3d0ef52935cc",
   "metadata": {
    "tags": []
   },
   "outputs": [],
   "source": [
    "# \"virsorter\"\n",
    "# # final-viral-score.tsv - 1 line per viral contig\n",
    "# # final-viral-combined.fa - viral fasta records"
   ]
  },
  {
   "cell_type": "code",
   "execution_count": null,
   "id": "f39de630-bb60-4b42-8d9f-581e94c98ac5",
   "metadata": {
    "tags": []
   },
   "outputs": [],
   "source": [
    "# readdir(SRR_path)"
   ]
  },
  {
   "cell_type": "code",
   "execution_count": null,
   "id": "b899696d-43e3-49e6-8b8a-caed856b474a",
   "metadata": {},
   "outputs": [],
   "source": [
    "# summary_table = DataFrames.combine(DataFrames.groupby(viral_frequency_table, \"sample_identifier\"), \"percent_viral_contigs\" => Statistics.median)"
   ]
  },
  {
   "cell_type": "code",
   "execution_count": null,
   "id": "c06fe840-6f84-4901-bd9a-394d3093af45",
   "metadata": {
    "tags": []
   },
   "outputs": [],
   "source": [
    "\n",
    "# for SRR_path in SRR_paths\n",
    "#     SRR = basename(SRR_path)\n",
    "#     assembled_fasta = joinpath(SRR_path, \"megahit\", \"final.contigs.fastg.gfa.fna\")\n",
    "#     out_dir = mkpath(joinpath(SRR_path, \"mmseqs_easy_taxonomy\"))\n",
    "#     outfile_base = joinpath(out_dir, basename(assembled_fasta) * \".mmseqs_easy_taxonomy.\" * basename(target_database))\n",
    "#     outfiles = [outfile_base * ext for ext in [\"_lca.tsv\", \"_report\", \"_tophit_aln\", \"_tophit_report\"]]\n",
    "#     if !all(isfile, outfiles)\n",
    "#         println(\"need to run $target_database for $SRR\")\n",
    "#         # run(`sbatch mmseqs.sh $(assembled_fasta) $(target_database) $(outfile_base) $(joinpath(out_dir, \"tmp\"))`)\n",
    "#         # println(`sbatch mmseqs.sh $(assembled_fasta) $(target_database) $(outfile_base) $(joinpath(out_dir, \"tmp\"))`)\n",
    "#         # 73 minutes UniRef100\n",
    "#         # 35 minutes UniRef90\n",
    "#         # 10 minutes UniRef50\n",
    "#         # println(\"conda run --no-capture-output -n mmseqs2 mmseqs easy-taxonomy $(assembled_fasta) $(target_database) $(outfile_base) $(joinpath(out_dir, \"tmp\"))\")\n",
    "#         # Mycelia.run_mmseqs_easy_taxonomy(out_dir=SRR_path, query_fasta=assembled_fasta, target_database=target_database, outfile=SRR)\n",
    "#     else\n",
    "#         println(\"all outfiles already exists for $target_database and $SRR...\")\n",
    "#     end\n",
    "# end"
   ]
  },
  {
   "cell_type": "code",
   "execution_count": null,
   "id": "c7cbdf58-fa45-4e34-96ff-a50eef9ce778",
   "metadata": {},
   "outputs": [],
   "source": [
    "# python $HOME/workspace/Mycelia/projects/viral-pangenome-discovery/notebooks/kreport2krona.py -r $HOME/workspace/Mycelia/projects/viral-pangenome-discovery/data/SRA/SRR6399459/mmseqs_easy_taxonomy_default/SRR6399459.mmseqs_easy_taxonomy.UniRef100.txt_report -o $HOME/workspace/Mycelia/projects/viral-pangenome-discovery/data/SRA/SRR6399459/mmseqs_easy_taxonomy_default/SRR6399459.mmseqs_easy_taxonomy.UniRef100.txt_report.krona\n",
    "# mamba install -c bioconda krona\n",
    "# ktUpdateTaxonomy.sh\n",
    "# ktImportText $HOME/workspace/Mycelia/projects/viral-pangenome-discovery/data/SRA/SRR6399459/mmseqs_easy_taxonomy_default/SRR6399459.mmseqs_easy_taxonomy.UniRef100.txt_report.krona -o $HOME/workspace/Mycelia/projects/viral-pangenome-discovery/data/SRA/SRR6399459/mmseqs_easy_taxonomy_default/SRR6399459.mmseqs_easy_taxonomy.UniRef100.txt_report.krona.html\n",
    "# if !isfile(krona_file)\n",
    "#     run(`python kreport2krona.py -r $(report) -o $(krona_file)`)\n",
    "# end\n",
    "# if !isfile(krona_html)\n",
    "#     run(`ktImportText $(krona_file) -o $(krona_html)`)\n",
    "# end"
   ]
  }
 ],
 "metadata": {
  "kernelspec": {
   "display_name": "Julia 1.6.7",
   "language": "julia",
   "name": "julia-1.6"
  },
  "language_info": {
   "file_extension": ".jl",
   "mimetype": "application/julia",
   "name": "julia",
   "version": "1.6.7"
  }
 },
 "nbformat": 4,
 "nbformat_minor": 5
}
