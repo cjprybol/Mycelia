{
 "cells": [
  {
   "cell_type": "code",
   "execution_count": 42,
   "id": "ce59cd77-c0f0-4b90-8de8-3c5f071935ae",
   "metadata": {
    "tags": []
   },
   "outputs": [
    {
     "name": "stderr",
     "output_type": "stream",
     "text": [
      "\u001b[32m\u001b[1m  Activating\u001b[22m\u001b[39m environment at `/global/cfs/cdirs/m4269/cjprybol/Mycelia/projects/viral-pangenome-discovery/notebooks/Project.toml`\n",
      "\u001b[32m\u001b[1m   Resolving\u001b[22m\u001b[39m package versions...\n",
      "\u001b[32m\u001b[1m  No Changes\u001b[22m\u001b[39m to `/global/cfs/cdirs/m4269/cjprybol/Mycelia/projects/viral-pangenome-discovery/notebooks/Project.toml`\n",
      "\u001b[32m\u001b[1m  No Changes\u001b[22m\u001b[39m to `/global/cfs/cdirs/m4269/cjprybol/Mycelia/projects/viral-pangenome-discovery/notebooks/Manifest.toml`\n",
      "\u001b[32m\u001b[1mPrecompiling\u001b[22m\u001b[39m project...\n",
      "\u001b[33m  ✓ \u001b[39mMycelia\n",
      "  1 dependency successfully precompiled in 23 seconds (248 already precompiled)\n",
      "  \u001b[33m1\u001b[39m dependency precompiled but a different version is currently loaded. Restart julia to access the new version\n"
     ]
    }
   ],
   "source": [
    "import Pkg\n",
    "Pkg.activate(\".\")\n",
    "\n",
    "pkgs = [\n",
    "\"Revise\",\n",
    "\"DataFrames\",\n",
    "\"ProgressMeter\",\n",
    "\"Statistics\",\n",
    "\"uCSV\",\n",
    "\"StatsBase\",\n",
    "\"StatsPlots\"\n",
    "]\n",
    "Pkg.add(pkgs)\n",
    "for pkg in pkgs\n",
    "    eval(Meta.parse(\"import $pkg\"))\n",
    "end\n",
    "\n",
    "import Mycelia"
   ]
  },
  {
   "cell_type": "code",
   "execution_count": 2,
   "id": "1e4ae30f-24df-49b3-9468-9bdb9cc33636",
   "metadata": {
    "tags": []
   },
   "outputs": [
    {
     "data": {
      "text/plain": [
       "Set{Int64} with 239372 elements:\n",
       "  2956278\n",
       "  656260\n",
       "  1742422\n",
       "  1427858\n",
       "  2783550\n",
       "  1599415\n",
       "  300190\n",
       "  2901373\n",
       "  468417\n",
       "  864692\n",
       "  1149619\n",
       "  2798297\n",
       "  2946055\n",
       "  2764961\n",
       "  2827923\n",
       "  1431632\n",
       "  1733762\n",
       "  1924399\n",
       "  1613832\n",
       "  2558856\n",
       "  2822896\n",
       "  1686811\n",
       "  438298\n",
       "  438823\n",
       "  1347503\n",
       "  ⋮ "
      ]
     },
     "execution_count": 2,
     "metadata": {},
     "output_type": "execute_result"
    }
   ],
   "source": [
    "# get all taxonids at or below virus\n",
    "# mamba create -n taxonkit -c bioconda taxonkit\n",
    "# wget -c ftp://ftp.ncbi.nih.gov/pub/taxonomy/taxdump.tar.gz \n",
    "# tar -zxvf taxdump.tar.gz\n",
    "# mkdir -p $HOME/.taxonkit\n",
    "# cp names.dmp nodes.dmp delnodes.dmp merged.dmp $HOME/.taxonkit\n",
    "# --data-dir\n",
    "\n",
    "viral_tax_ids = Set(parse.(Int, filter(!isempty, readlines(`mamba run -n taxonkit taxonkit list --ids 10239 --indent \"\"`))))"
   ]
  },
  {
   "cell_type": "code",
   "execution_count": 3,
   "id": "b54e14d0-ce7b-46df-ac83-b92b48c05576",
   "metadata": {
    "tags": []
   },
   "outputs": [
    {
     "data": {
      "text/plain": [
       "8"
      ]
     },
     "execution_count": 3,
     "metadata": {},
     "output_type": "execute_result"
    }
   ],
   "source": [
    "n_methods = 8"
   ]
  },
  {
   "cell_type": "code",
   "execution_count": 4,
   "id": "7626ee3e-5dab-413d-b487-8f998341d593",
   "metadata": {
    "tags": []
   },
   "outputs": [
    {
     "data": {
      "text/plain": [
       "594-element Vector{String}:\n",
       " \"/global/cfs/cdirs/m4269/cjprybol/Mycelia/projects/viral-pangenome-discovery/data/SRA/SRR6399459\"\n",
       " \"/global/cfs/cdirs/m4269/cjprybol/Mycelia/projects/viral-pangenome-discovery/data/SRA/SRR6399460\"\n",
       " \"/global/cfs/cdirs/m4269/cjprybol/Mycelia/projects/viral-pangenome-discovery/data/SRA/SRR6399461\"\n",
       " \"/global/cfs/cdirs/m4269/cjprybol/Mycelia/projects/viral-pangenome-discovery/data/SRA/SRR6399462\"\n",
       " \"/global/cfs/cdirs/m4269/cjprybol/Mycelia/projects/viral-pangenome-discovery/data/SRA/SRR6399463\"\n",
       " \"/global/cfs/cdirs/m4269/cjprybol/Mycelia/projects/viral-pangenome-discovery/data/SRA/SRR6399464\"\n",
       " \"/global/cfs/cdirs/m4269/cjprybol/Mycelia/projects/viral-pangenome-discovery/data/SRA/SRR6399465\"\n",
       " \"/global/cfs/cdirs/m4269/cjprybol/Mycelia/projects/viral-pangenome-discovery/data/SRA/SRR6399466\"\n",
       " \"/global/cfs/cdirs/m4269/cjprybol/Mycelia/projects/viral-pangenome-discovery/data/SRA/SRR6399467\"\n",
       " \"/global/cfs/cdirs/m4269/cjprybol/Mycelia/projects/viral-pangenome-discovery/data/SRA/SRR6399468\"\n",
       " \"/global/cfs/cdirs/m4269/cjprybol/Mycelia/projects/viral-pangenome-discovery/data/SRA/SRR6399469\"\n",
       " \"/global/cfs/cdirs/m4269/cjprybol/Mycelia/projects/viral-pangenome-discovery/data/SRA/SRR6399470\"\n",
       " \"/global/cfs/cdirs/m4269/cjprybol/Mycelia/projects/viral-pangenome-discovery/data/SRA/SRR6399471\"\n",
       " ⋮\n",
       " \"/global/cfs/cdirs/m4269/cjprybol/Mycelia/projects/viral-pangenome-discovery/data/SRA/SRR7365474\"\n",
       " \"/global/cfs/cdirs/m4269/cjprybol/Mycelia/projects/viral-pangenome-discovery/data/SRA/SRR7365475\"\n",
       " \"/global/cfs/cdirs/m4269/cjprybol/Mycelia/projects/viral-pangenome-discovery/data/SRA/SRR7365476\"\n",
       " \"/global/cfs/cdirs/m4269/cjprybol/Mycelia/projects/viral-pangenome-discovery/data/SRA/SRR7365477\"\n",
       " \"/global/cfs/cdirs/m4269/cjprybol/Mycelia/projects/viral-pangenome-discovery/data/SRA/SRR7365478\"\n",
       " \"/global/cfs/cdirs/m4269/cjprybol/Mycelia/projects/viral-pangenome-discovery/data/SRA/SRR7365479\"\n",
       " \"/global/cfs/cdirs/m4269/cjprybol/Mycelia/projects/viral-pangenome-discovery/data/SRA/SRR7365480\"\n",
       " \"/global/cfs/cdirs/m4269/cjprybol/Mycelia/projects/viral-pangenome-discovery/data/SRA/SRR7365481\"\n",
       " \"/global/cfs/cdirs/m4269/cjprybol/Mycelia/projects/viral-pangenome-discovery/data/SRA/SRR7365482\"\n",
       " \"/global/cfs/cdirs/m4269/cjprybol/Mycelia/projects/viral-pangenome-discovery/data/SRA/SRR7365483\"\n",
       " \"/global/cfs/cdirs/m4269/cjprybol/Mycelia/projects/viral-pangenome-discovery/data/SRA/SRR7365484\"\n",
       " \"/global/cfs/cdirs/m4269/cjprybol/Mycelia/projects/viral-pangenome-discovery/data/SRA/SRR7365485\""
      ]
     },
     "execution_count": 4,
     "metadata": {},
     "output_type": "execute_result"
    }
   ],
   "source": [
    "# uniref_dbs = [\n",
    "#     \"UniRef100\",\n",
    "#     \"UniRef90\",\n",
    "#     \"UniRef50\"\n",
    "# ]\n",
    "data_dir = joinpath(dirname(pwd()), \"data\")\n",
    "SRR_paths = filter(x -> !occursin(\".ipynb_checkpoints\", x), readdir(joinpath(data_dir, \"SRA\"), join=true))"
   ]
  },
  {
   "cell_type": "code",
   "execution_count": 12,
   "id": "da3366b5-60ff-4100-afe2-792995068582",
   "metadata": {
    "tags": []
   },
   "outputs": [
    {
     "name": "stdout",
     "output_type": "stream",
     "text": [
      "search: \u001b[0m\u001b[1mn\u001b[22m\u001b[0m\u001b[1mo\u001b[22m\u001b[0m\u001b[1mn\u001b[22m\u001b[0m\u001b[1mm\u001b[22m\u001b[0m\u001b[1mi\u001b[22m\u001b[0m\u001b[1ms\u001b[22m\u001b[0m\u001b[1ms\u001b[22m\u001b[0m\u001b[1mi\u001b[22m\u001b[0m\u001b[1mn\u001b[22m\u001b[0m\u001b[1mg\u001b[22m\u001b[0m\u001b[1mt\u001b[22m\u001b[0m\u001b[1my\u001b[22m\u001b[0m\u001b[1mp\u001b[22m\u001b[0m\u001b[1me\u001b[22m\n",
      "\n"
     ]
    },
    {
     "data": {
      "text/latex": [
       "\\begin{verbatim}\n",
       "nonmissingtype(T::Type)\n",
       "\\end{verbatim}\n",
       "If \\texttt{T} is a union of types containing \\texttt{Missing}, return a new type with \\texttt{Missing} removed.\n",
       "\n",
       "\\section{Examples}\n",
       "\\begin{verbatim}\n",
       "julia> nonmissingtype(Union{Int64,Missing})\n",
       "Int64\n",
       "\n",
       "julia> nonmissingtype(Any)\n",
       "Any\n",
       "\\end{verbatim}\n",
       "\\begin{quote}\n",
       "\\textbf{compat}\n",
       "\n",
       "Julia 1.3\n",
       "\n",
       "This function is exported as of Julia 1.3.\n",
       "\n",
       "\\end{quote}\n"
      ],
      "text/markdown": [
       "```\n",
       "nonmissingtype(T::Type)\n",
       "```\n",
       "\n",
       "If `T` is a union of types containing `Missing`, return a new type with `Missing` removed.\n",
       "\n",
       "# Examples\n",
       "\n",
       "```jldoctest\n",
       "julia> nonmissingtype(Union{Int64,Missing})\n",
       "Int64\n",
       "\n",
       "julia> nonmissingtype(Any)\n",
       "Any\n",
       "```\n",
       "\n",
       "!!! compat \"Julia 1.3\"\n",
       "    This function is exported as of Julia 1.3.\n",
       "\n"
      ],
      "text/plain": [
       "\u001b[36m  nonmissingtype(T::Type)\u001b[39m\n",
       "\n",
       "  If \u001b[36mT\u001b[39m is a union of types containing \u001b[36mMissing\u001b[39m, return a new type with \u001b[36mMissing\u001b[39m\n",
       "  removed.\n",
       "\n",
       "\u001b[1m  Examples\u001b[22m\n",
       "\u001b[1m  ≡≡≡≡≡≡≡≡≡≡\u001b[22m\n",
       "\n",
       "\u001b[36m  julia> nonmissingtype(Union{Int64,Missing})\u001b[39m\n",
       "\u001b[36m  Int64\u001b[39m\n",
       "\u001b[36m  \u001b[39m\n",
       "\u001b[36m  julia> nonmissingtype(Any)\u001b[39m\n",
       "\u001b[36m  Any\u001b[39m\n",
       "\n",
       "\u001b[39m\u001b[1m  │ \u001b[22m\u001b[39m\u001b[1mJulia 1.3\u001b[22m\n",
       "\u001b[39m\u001b[1m  │\u001b[22m\n",
       "\u001b[39m\u001b[1m  │\u001b[22m  This function is exported as of Julia 1.3."
      ]
     },
     "execution_count": 12,
     "metadata": {},
     "output_type": "execute_result"
    }
   ],
   "source": [
    "?nonmissingtype"
   ]
  },
  {
   "cell_type": "code",
   "execution_count": 31,
   "id": "771dd4bd-aed3-415b-bf67-d73045eae71e",
   "metadata": {
    "tags": []
   },
   "outputs": [
    {
     "name": "stderr",
     "output_type": "stream",
     "text": [
      "\u001b[32mProgress: 100%|█████████████████████████████████████████| Time: 0:59:35\u001b[39m\n"
     ]
    },
    {
     "data": {
      "text/html": [
       "<div><div style = \"float: left;\"><span>594×6 DataFrame</span></div><div style = \"float: right;\"><span style = \"font-style: italic;\">569 rows omitted</span></div><div style = \"clear: both;\"></div></div><div class = \"data-frame\" style = \"overflow-x: scroll;\"><table class = \"data-frame\" style = \"margin-bottom: 6px;\"><thead><tr class = \"header\"><th class = \"rowNumber\" style = \"font-weight: bold; text-align: right;\">Row</th><th style = \"text-align: left;\">sample_id</th><th style = \"text-align: left;\">total_mapped_bases</th><th style = \"text-align: left;\">total_contigs</th><th style = \"text-align: left;\">total_assembly_size</th><th style = \"text-align: left;\">percent_contigs_viral</th><th style = \"text-align: left;\">percent_mapped_bases_viral</th></tr><tr class = \"subheader headerLastRow\"><th class = \"rowNumber\" style = \"font-weight: bold; text-align: right;\"></th><th title = \"String\" style = \"text-align: left;\">String</th><th title = \"Int64\" style = \"text-align: left;\">Int64</th><th title = \"Int64\" style = \"text-align: left;\">Int64</th><th title = \"Int64\" style = \"text-align: left;\">Int64</th><th title = \"Float64\" style = \"text-align: left;\">Float64</th><th title = \"Float64\" style = \"text-align: left;\">Float64</th></tr></thead><tbody><tr><td class = \"rowNumber\" style = \"font-weight: bold; text-align: right;\">1</td><td style = \"text-align: left;\">SRR6399459</td><td style = \"text-align: right;\">16386457381</td><td style = \"text-align: right;\">7747</td><td style = \"text-align: right;\">5200062</td><td style = \"text-align: right;\">0.065</td><td style = \"text-align: right;\">0.285856</td></tr><tr><td class = \"rowNumber\" style = \"font-weight: bold; text-align: right;\">2</td><td style = \"text-align: left;\">SRR6399460</td><td style = \"text-align: right;\">21427002050</td><td style = \"text-align: right;\">21998</td><td style = \"text-align: right;\">22489781</td><td style = \"text-align: right;\">0.055</td><td style = \"text-align: right;\">0.161512</td></tr><tr><td class = \"rowNumber\" style = \"font-weight: bold; text-align: right;\">3</td><td style = \"text-align: left;\">SRR6399461</td><td style = \"text-align: right;\">19314636016</td><td style = \"text-align: right;\">23833</td><td style = \"text-align: right;\">31325615</td><td style = \"text-align: right;\">0.067</td><td style = \"text-align: right;\">0.27753</td></tr><tr><td class = \"rowNumber\" style = \"font-weight: bold; text-align: right;\">4</td><td style = \"text-align: left;\">SRR6399462</td><td style = \"text-align: right;\">18092985381</td><td style = \"text-align: right;\">6084</td><td style = \"text-align: right;\">4459785</td><td style = \"text-align: right;\">0.066</td><td style = \"text-align: right;\">0.135212</td></tr><tr><td class = \"rowNumber\" style = \"font-weight: bold; text-align: right;\">5</td><td style = \"text-align: left;\">SRR6399463</td><td style = \"text-align: right;\">13321403277</td><td style = \"text-align: right;\">50457</td><td style = \"text-align: right;\">48726146</td><td style = \"text-align: right;\">2.24</td><td style = \"text-align: right;\">15.2251</td></tr><tr><td class = \"rowNumber\" style = \"font-weight: bold; text-align: right;\">6</td><td style = \"text-align: left;\">SRR6399464</td><td style = \"text-align: right;\">20725450703</td><td style = \"text-align: right;\">75040</td><td style = \"text-align: right;\">57435444</td><td style = \"text-align: right;\">0.036</td><td style = \"text-align: right;\">0.649916</td></tr><tr><td class = \"rowNumber\" style = \"font-weight: bold; text-align: right;\">7</td><td style = \"text-align: left;\">SRR6399465</td><td style = \"text-align: right;\">11069806252</td><td style = \"text-align: right;\">4707</td><td style = \"text-align: right;\">2026674</td><td style = \"text-align: right;\">0.34</td><td style = \"text-align: right;\">3.288</td></tr><tr><td class = \"rowNumber\" style = \"font-weight: bold; text-align: right;\">8</td><td style = \"text-align: left;\">SRR6399466</td><td style = \"text-align: right;\">10968660253</td><td style = \"text-align: right;\">14968</td><td style = \"text-align: right;\">5796353</td><td style = \"text-align: right;\">0.2</td><td style = \"text-align: right;\">1.37424</td></tr><tr><td class = \"rowNumber\" style = \"font-weight: bold; text-align: right;\">9</td><td style = \"text-align: left;\">SRR6399467</td><td style = \"text-align: right;\">8462067765</td><td style = \"text-align: right;\">7243</td><td style = \"text-align: right;\">3479369</td><td style = \"text-align: right;\">0.11</td><td style = \"text-align: right;\">1.39814</td></tr><tr><td class = \"rowNumber\" style = \"font-weight: bold; text-align: right;\">10</td><td style = \"text-align: left;\">SRR6399468</td><td style = \"text-align: right;\">13537390848</td><td style = \"text-align: right;\">13584</td><td style = \"text-align: right;\">5330297</td><td style = \"text-align: right;\">0.147</td><td style = \"text-align: right;\">1.49307</td></tr><tr><td class = \"rowNumber\" style = \"font-weight: bold; text-align: right;\">11</td><td style = \"text-align: left;\">SRR6399469</td><td style = \"text-align: right;\">20685438543</td><td style = \"text-align: right;\">17637</td><td style = \"text-align: right;\">6845740</td><td style = \"text-align: right;\">0.181</td><td style = \"text-align: right;\">1.35097</td></tr><tr><td class = \"rowNumber\" style = \"font-weight: bold; text-align: right;\">12</td><td style = \"text-align: left;\">SRR6399470</td><td style = \"text-align: right;\">15255709080</td><td style = \"text-align: right;\">12928</td><td style = \"text-align: right;\">5045464</td><td style = \"text-align: right;\">0.24</td><td style = \"text-align: right;\">1.4127</td></tr><tr><td class = \"rowNumber\" style = \"font-weight: bold; text-align: right;\">13</td><td style = \"text-align: left;\">SRR6399471</td><td style = \"text-align: right;\">13745639890</td><td style = \"text-align: right;\">12769</td><td style = \"text-align: right;\">5225466</td><td style = \"text-align: right;\">0.329</td><td style = \"text-align: right;\">1.84378</td></tr><tr><td style = \"text-align: right;\">&vellip;</td><td style = \"text-align: right;\">&vellip;</td><td style = \"text-align: right;\">&vellip;</td><td style = \"text-align: right;\">&vellip;</td><td style = \"text-align: right;\">&vellip;</td><td style = \"text-align: right;\">&vellip;</td><td style = \"text-align: right;\">&vellip;</td></tr><tr><td class = \"rowNumber\" style = \"font-weight: bold; text-align: right;\">583</td><td style = \"text-align: left;\">SRR7365474</td><td style = \"text-align: right;\">15763055940</td><td style = \"text-align: right;\">10171</td><td style = \"text-align: right;\">4599019</td><td style = \"text-align: right;\">0.049</td><td style = \"text-align: right;\">0.561237</td></tr><tr><td class = \"rowNumber\" style = \"font-weight: bold; text-align: right;\">584</td><td style = \"text-align: left;\">SRR7365475</td><td style = \"text-align: right;\">14388072667</td><td style = \"text-align: right;\">15285</td><td style = \"text-align: right;\">10914095</td><td style = \"text-align: right;\">0.216</td><td style = \"text-align: right;\">0.841294</td></tr><tr><td class = \"rowNumber\" style = \"font-weight: bold; text-align: right;\">585</td><td style = \"text-align: left;\">SRR7365476</td><td style = \"text-align: right;\">6210801271</td><td style = \"text-align: right;\">11736</td><td style = \"text-align: right;\">6871153</td><td style = \"text-align: right;\">1.057</td><td style = \"text-align: right;\">7.65266</td></tr><tr><td class = \"rowNumber\" style = \"font-weight: bold; text-align: right;\">586</td><td style = \"text-align: left;\">SRR7365477</td><td style = \"text-align: right;\">16762006116</td><td style = \"text-align: right;\">25964</td><td style = \"text-align: right;\">11155563</td><td style = \"text-align: right;\">0.054</td><td style = \"text-align: right;\">1.23722</td></tr><tr><td class = \"rowNumber\" style = \"font-weight: bold; text-align: right;\">587</td><td style = \"text-align: left;\">SRR7365478</td><td style = \"text-align: right;\">14285226365</td><td style = \"text-align: right;\">25180</td><td style = \"text-align: right;\">16585099</td><td style = \"text-align: right;\">0.107</td><td style = \"text-align: right;\">1.65006</td></tr><tr><td class = \"rowNumber\" style = \"font-weight: bold; text-align: right;\">588</td><td style = \"text-align: left;\">SRR7365479</td><td style = \"text-align: right;\">17899340702</td><td style = \"text-align: right;\">8068</td><td style = \"text-align: right;\">5175008</td><td style = \"text-align: right;\">0.05</td><td style = \"text-align: right;\">0.907373</td></tr><tr><td class = \"rowNumber\" style = \"font-weight: bold; text-align: right;\">589</td><td style = \"text-align: left;\">SRR7365480</td><td style = \"text-align: right;\">6382613481</td><td style = \"text-align: right;\">8211</td><td style = \"text-align: right;\">3526727</td><td style = \"text-align: right;\">0.049</td><td style = \"text-align: right;\">0.601706</td></tr><tr><td class = \"rowNumber\" style = \"font-weight: bold; text-align: right;\">590</td><td style = \"text-align: left;\">SRR7365481</td><td style = \"text-align: right;\">18581581530</td><td style = \"text-align: right;\">18094</td><td style = \"text-align: right;\">9499271</td><td style = \"text-align: right;\">0.033</td><td style = \"text-align: right;\">0.719603</td></tr><tr><td class = \"rowNumber\" style = \"font-weight: bold; text-align: right;\">591</td><td style = \"text-align: left;\">SRR7365482</td><td style = \"text-align: right;\">16008447888</td><td style = \"text-align: right;\">12024</td><td style = \"text-align: right;\">15847598</td><td style = \"text-align: right;\">0.158</td><td style = \"text-align: right;\">0.650463</td></tr><tr><td class = \"rowNumber\" style = \"font-weight: bold; text-align: right;\">592</td><td style = \"text-align: left;\">SRR7365483</td><td style = \"text-align: right;\">14322681431</td><td style = \"text-align: right;\">9771</td><td style = \"text-align: right;\">5722684</td><td style = \"text-align: right;\">0.184</td><td style = \"text-align: right;\">1.66798</td></tr><tr><td class = \"rowNumber\" style = \"font-weight: bold; text-align: right;\">593</td><td style = \"text-align: left;\">SRR7365484</td><td style = \"text-align: right;\">28879440207</td><td style = \"text-align: right;\">152473</td><td style = \"text-align: right;\">90627003</td><td style = \"text-align: right;\">0.148</td><td style = \"text-align: right;\">1.66077</td></tr><tr><td class = \"rowNumber\" style = \"font-weight: bold; text-align: right;\">594</td><td style = \"text-align: left;\">SRR7365485</td><td style = \"text-align: right;\">16663705330</td><td style = \"text-align: right;\">10010</td><td style = \"text-align: right;\">5225188</td><td style = \"text-align: right;\">0.02</td><td style = \"text-align: right;\">0.611627</td></tr></tbody></table></div>"
      ],
      "text/latex": [
       "\\begin{tabular}{r|cccccc}\n",
       "\t& sample\\_id & total\\_mapped\\_bases & total\\_contigs & total\\_assembly\\_size & percent\\_contigs\\_viral & \\\\\n",
       "\t\\hline\n",
       "\t& String & Int64 & Int64 & Int64 & Float64 & \\\\\n",
       "\t\\hline\n",
       "\t1 & SRR6399459 & 16386457381 & 7747 & 5200062 & 0.065 & $\\dots$ \\\\\n",
       "\t2 & SRR6399460 & 21427002050 & 21998 & 22489781 & 0.055 & $\\dots$ \\\\\n",
       "\t3 & SRR6399461 & 19314636016 & 23833 & 31325615 & 0.067 & $\\dots$ \\\\\n",
       "\t4 & SRR6399462 & 18092985381 & 6084 & 4459785 & 0.066 & $\\dots$ \\\\\n",
       "\t5 & SRR6399463 & 13321403277 & 50457 & 48726146 & 2.24 & $\\dots$ \\\\\n",
       "\t6 & SRR6399464 & 20725450703 & 75040 & 57435444 & 0.036 & $\\dots$ \\\\\n",
       "\t7 & SRR6399465 & 11069806252 & 4707 & 2026674 & 0.34 & $\\dots$ \\\\\n",
       "\t8 & SRR6399466 & 10968660253 & 14968 & 5796353 & 0.2 & $\\dots$ \\\\\n",
       "\t9 & SRR6399467 & 8462067765 & 7243 & 3479369 & 0.11 & $\\dots$ \\\\\n",
       "\t10 & SRR6399468 & 13537390848 & 13584 & 5330297 & 0.147 & $\\dots$ \\\\\n",
       "\t11 & SRR6399469 & 20685438543 & 17637 & 6845740 & 0.181 & $\\dots$ \\\\\n",
       "\t12 & SRR6399470 & 15255709080 & 12928 & 5045464 & 0.24 & $\\dots$ \\\\\n",
       "\t13 & SRR6399471 & 13745639890 & 12769 & 5225466 & 0.329 & $\\dots$ \\\\\n",
       "\t14 & SRR6399472 & 11503124750 & 4189 & 1886735 & 0.263 & $\\dots$ \\\\\n",
       "\t15 & SRR6399473 & 16164609007 & 4210 & 1881454 & 0.333 & $\\dots$ \\\\\n",
       "\t16 & SRR6399474 & 14350535617 & 14104 & 6334260 & 0.269 & $\\dots$ \\\\\n",
       "\t17 & SRR6399475 & 11845809306 & 13370 & 9453209 & 0.299 & $\\dots$ \\\\\n",
       "\t18 & SRR6399476 & 9647987496 & 7140 & 3187553 & 0.21 & $\\dots$ \\\\\n",
       "\t19 & SRR6399477 & 11677052476 & 8890 & 3696154 & 0.112 & $\\dots$ \\\\\n",
       "\t20 & SRR6399478 & 11523763299 & 18557 & 7507896 & 0.194 & $\\dots$ \\\\\n",
       "\t21 & SRR6399479 & 14158909156 & 8002 & 4770580 & 0.212 & $\\dots$ \\\\\n",
       "\t22 & SRR6399480 & 11707305337 & 4575 & 2052168 & 0.197 & $\\dots$ \\\\\n",
       "\t23 & SRR6399481 & 11847791480 & 10633 & 4112728 & 0.085 & $\\dots$ \\\\\n",
       "\t24 & SRR6399482 & 10625323784 & 13711 & 5578081 & 0.139 & $\\dots$ \\\\\n",
       "\t25 & SRR6399483 & 14742336202 & 12708 & 5191139 & 0.236 & $\\dots$ \\\\\n",
       "\t26 & SRR6399484 & 10398805751 & 3454 & 1407121 & 0.145 & $\\dots$ \\\\\n",
       "\t27 & SRR6399485 & 27544792014 & 29947 & 28493559 & 0.638 & $\\dots$ \\\\\n",
       "\t28 & SRR6399486 & 13656431538 & 15585 & 21629391 & 0.192 & $\\dots$ \\\\\n",
       "\t29 & SRR6399487 & 19877571759 & 30959 & 34258725 & 0.071 & $\\dots$ \\\\\n",
       "\t30 & SRR6399488 & 18592084143 & 283788 & 122148018 & 0.001 & $\\dots$ \\\\\n",
       "\t$\\dots$ & $\\dots$ & $\\dots$ & $\\dots$ & $\\dots$ & $\\dots$ &  \\\\\n",
       "\\end{tabular}\n"
      ],
      "text/plain": [
       "\u001b[1m594×6 DataFrame\u001b[0m\n",
       "\u001b[1m Row \u001b[0m│\u001b[1m sample_id  \u001b[0m\u001b[1m total_mapped_bases \u001b[0m\u001b[1m total_contigs \u001b[0m\u001b[1m total_assembly_size \u001b[0m\u001b[1m per\u001b[0m ⋯\n",
       "     │\u001b[90m String     \u001b[0m\u001b[90m Int64              \u001b[0m\u001b[90m Int64         \u001b[0m\u001b[90m Int64               \u001b[0m\u001b[90m Flo\u001b[0m ⋯\n",
       "─────┼──────────────────────────────────────────────────────────────────────────\n",
       "   1 │ SRR6399459         16386457381           7747              5200062      ⋯\n",
       "   2 │ SRR6399460         21427002050          21998             22489781\n",
       "   3 │ SRR6399461         19314636016          23833             31325615\n",
       "   4 │ SRR6399462         18092985381           6084              4459785\n",
       "   5 │ SRR6399463         13321403277          50457             48726146      ⋯\n",
       "   6 │ SRR6399464         20725450703          75040             57435444\n",
       "   7 │ SRR6399465         11069806252           4707              2026674\n",
       "   8 │ SRR6399466         10968660253          14968              5796353\n",
       "   9 │ SRR6399467          8462067765           7243              3479369      ⋯\n",
       "  10 │ SRR6399468         13537390848          13584              5330297\n",
       "  11 │ SRR6399469         20685438543          17637              6845740\n",
       "  ⋮  │     ⋮               ⋮                 ⋮                 ⋮               ⋱\n",
       " 585 │ SRR7365476          6210801271          11736              6871153\n",
       " 586 │ SRR7365477         16762006116          25964             11155563      ⋯\n",
       " 587 │ SRR7365478         14285226365          25180             16585099\n",
       " 588 │ SRR7365479         17899340702           8068              5175008\n",
       " 589 │ SRR7365480          6382613481           8211              3526727\n",
       " 590 │ SRR7365481         18581581530          18094              9499271      ⋯\n",
       " 591 │ SRR7365482         16008447888          12024             15847598\n",
       " 592 │ SRR7365483         14322681431           9771              5722684\n",
       " 593 │ SRR7365484         28879440207         152473             90627003\n",
       " 594 │ SRR7365485         16663705330          10010              5225188      ⋯\n",
       "\u001b[36m                                                  2 columns and 573 rows omitted\u001b[0m"
      ]
     },
     "execution_count": 31,
     "metadata": {},
     "output_type": "execute_result"
    }
   ],
   "source": [
    "sample_summary_table = DataFrames.DataFrame(\n",
    "    sample_id = String[],\n",
    "    total_mapped_bases = Int[],\n",
    "    total_contigs = Int[],\n",
    "    total_assembly_size = Int[],\n",
    "    percent_contigs_viral = Float64[],\n",
    "    percent_mapped_bases_viral = Float64[]\n",
    ")\n",
    "\n",
    "ProgressMeter.@showprogress for SRR_path in SRR_paths\n",
    "\n",
    "    contig_info_pattern = basename(SRR_path) * \".final.contigs.fastg.gfa.fna\"\n",
    "    contig_info_files = filter(x -> occursin(contig_info_pattern, x), readdir(SRR_path, join=true))\n",
    "    joint_contig_info_table = DataFrames.DataFrame()\n",
    "    for f in contig_info_files\n",
    "        table_col_types = [\n",
    "            Int64,\n",
    "            Int64,\n",
    "            Int64,\n",
    "            Float64,\n",
    "            Float64,\n",
    "            Float64,\n",
    "            String,\n",
    "            String,\n",
    "            String,\n",
    "            Int64,\n",
    "            String,\n",
    "            Float64,\n",
    "            Float64,\n",
    "            Float64,\n",
    "            Float64,\n",
    "            Int64,\n",
    "            Int64,\n",
    "            Int64,\n",
    "            Int64,\n",
    "            Int64,\n",
    "            Int64,\n",
    "            Int64,\n",
    "            Int64,\n",
    "            Int64,\n",
    "        ]\n",
    "        method = replace(replace(basename(f), basename(SRR_path) * \".final.contigs.fastg.gfa.fna.\" => \"\"), \".contig_info.tsv\" => \"\")\n",
    "        this_contig_info_table = DataFrames.DataFrame(uCSV.read(f, delim='\\t', header=1, types=table_col_types, encodings=Dict(\"\" => missing), allowmissing=true)...)\n",
    "        this_contig_info_table[!, \"Method\"] .= method\n",
    "        this_contig_info_table[!, \"SRR\"] .= basename(SRR_path)\n",
    "        append!(joint_contig_info_table, this_contig_info_table)\n",
    "    end\n",
    "    sort!(joint_contig_info_table, \"Contig\")\n",
    "    contig_info_table = unique(joint_contig_info_table[!, [\"SRR\", \"Contig\", \"Length\", \"Mapped bases\", \"Mean coverage\", \"Standard Deviation\", \"% Mapped bases\"]])\n",
    "\n",
    "    blast_classifications_table = joint_contig_info_table[.!ismissing.(joint_contig_info_table[!, \"subject id\"]), DataFrames.Not(names(contig_info_table[!, DataFrames.Not(\"Contig\")]))]\n",
    "    sort!(blast_classifications_table, [\"Contig\", \"evalue\"])\n",
    "    blast_hits_top_hits_table = DataFrames.combine(DataFrames.groupby(blast_classifications_table, [\"Contig\", \"Method\"]), first)\n",
    "    blast_hits_top_hits_table = blast_hits_top_hits_table[map(x -> x in viral_tax_ids, blast_hits_top_hits_table[!, \"subject tax id\"]), :]\n",
    "\n",
    "    joint_lca_table = DataFrames.DataFrame()\n",
    "    easy_taxonomy_lca_reports = filter(x -> occursin(\"final.contigs.fastg.gfa.fna.mmseqs_easy_taxonomy.\", x) && occursin(\"_lca.tsv\", x), readdir(joinpath(SRR_path, \"mmseqs_easy_taxonomy\"), join=true))\n",
    "    for lca_tsv in easy_taxonomy_lca_reports\n",
    "        method = replace(replace(basename(lca_tsv), \"final.contigs.fastg.gfa.fna.\" => \"\"), \"_lca.tsv\" => \"\")\n",
    "        this_lca_table = Mycelia.parse_mmseqs_easy_taxonomy_lca_tsv(lca_tsv)\n",
    "        this_lca_table[!, \"SRR\"] .= basename(SRR_path)\n",
    "        this_lca_table[!, \"SRR\"] .= method\n",
    "        append!(joint_lca_table, this_lca_table)\n",
    "    end\n",
    "    sort!(joint_lca_table, \"contig_id\")\n",
    "    joint_lca_table = joint_lca_table[map(x -> x in viral_tax_ids, joint_lca_table[!, \"taxon_id\"]), :]\n",
    "\n",
    "    virsorter_score_tsv = joinpath(SRR_path, \"virsorter\", \"final-viral-score.tsv\")\n",
    "    virsorter_results = Mycelia.parse_virsorter_score_tsv(virsorter_score_tsv)\n",
    "    virsorter_results[!, \"seqname\"] = parse.(Int, first.(split.(virsorter_results[!, \"seqname\"], '|')))\n",
    "    # virsorter_results\n",
    "\n",
    "    genomad_virus_summary = joinpath(SRR_path, \"genomad\", \"final.contigs.fastg.gfa_summary\", \"final.contigs.fastg.gfa_virus_summary.tsv\")\n",
    "    genomad_results = DataFrames.DataFrame(uCSV.read(genomad_virus_summary, delim='\\t', header=1, typedetectrows=100)...)\n",
    "\n",
    "    number_of_hits = vcat(\n",
    "        blast_hits_top_hits_table[!, \"Contig\"],\n",
    "        joint_lca_table[!, \"contig_id\"],\n",
    "        virsorter_results[!, \"seqname\"],\n",
    "        genomad_results[!, \"seq_name\"]\n",
    "    )\n",
    "\n",
    "    contig_support_counts = StatsBase.countmap(number_of_hits)\n",
    "\n",
    "    contig_info_table[!, \"viral_classification_count\"] = map(contig -> get(contig_support_counts, contig, 0), contig_info_table[!, \"Contig\"])\n",
    "\n",
    "    contig_info_table[!, \"viral_classification_percent\"] = round.((contig_info_table[!, \"viral_classification_count\"] ./ n_methods) .* 100, digits=1)\n",
    "    contig_info_table\n",
    "\n",
    "    sample_summary_row = (\n",
    "        sample_id = contig_info_table[1, \"SRR\"],\n",
    "        total_mapped_bases = sum(contig_info_table[!, \"Mapped bases\"]),\n",
    "        total_contigs = DataFrames.nrow(contig_info_table),\n",
    "        total_assembly_size = sum(contig_info_table[!, \"Length\"]),\n",
    "        percent_contigs_viral = round(count(contig_info_table[!, \"viral_classification_percent\"] .>= 50) / DataFrames.nrow(contig_info_table) * 100, digits=3),\n",
    "        percent_mapped_bases_viral = sum(contig_info_table[contig_info_table[!, \"viral_classification_percent\"] .>= 50, \"% Mapped bases\"])\n",
    "    )\n",
    "    push!(sample_summary_table, sample_summary_row)\n",
    "end\n",
    "sample_summary_table"
   ]
  },
  {
   "cell_type": "code",
   "execution_count": 43,
   "id": "9fac130b-5874-4cbb-82ae-0cf894c8600d",
   "metadata": {
    "tags": []
   },
   "outputs": [],
   "source": [
    "# uCSV.write(\"sample_summary_table.tsv\", sample_summary_table, delim='\\t')"
   ]
  },
  {
   "cell_type": "code",
   "execution_count": 101,
   "id": "9652378d-ade6-4f0a-bfe9-057df714a4df",
   "metadata": {
    "tags": []
   },
   "outputs": [
    {
     "data": {
      "text/plain": [
       "20828474377"
      ]
     },
     "execution_count": 101,
     "metadata": {},
     "output_type": "execute_result"
    }
   ],
   "source": [
    "contamination_load = sample_summary_table[findfirst(sample_summary_table[!, \"sample_id\"] .== \"SRR6399584\"), \"total_mapped_bases\"]"
   ]
  },
  {
   "cell_type": "code",
   "execution_count": 74,
   "id": "ea776814-6082-4359-8f9c-85a0d7ecffb8",
   "metadata": {
    "tags": []
   },
   "outputs": [
    {
     "data": {
      "image/svg+xml": [
       "<?xml version=\"1.0\" encoding=\"utf-8\"?>\n",
       "<svg xmlns=\"http://www.w3.org/2000/svg\" xmlns:xlink=\"http://www.w3.org/1999/xlink\" width=\"600\" height=\"400\" viewBox=\"0 0 2400 1600\">\n",
       "<defs>\n",
       "  <clipPath id=\"clip200\">\n",
       "    <rect x=\"0\" y=\"0\" width=\"2400\" height=\"1600\"/>\n",
       "  </clipPath>\n",
       "</defs>\n",
       "<path clip-path=\"url(#clip200)\" d=\"M0 1600 L2400 1600 L2400 0 L0 0  Z\" fill=\"#ffffff\" fill-rule=\"evenodd\" fill-opacity=\"1\"/>\n",
       "<defs>\n",
       "  <clipPath id=\"clip201\">\n",
       "    <rect x=\"480\" y=\"0\" width=\"1681\" height=\"1600\"/>\n",
       "  </clipPath>\n",
       "</defs>\n",
       "<path clip-path=\"url(#clip200)\" d=\"M205.121 1410.9 L2352.76 1410.9 L2352.76 47.2441 L205.121 47.2441  Z\" fill=\"#ffffff\" fill-rule=\"evenodd\" fill-opacity=\"1\"/>\n",
       "<defs>\n",
       "  <clipPath id=\"clip202\">\n",
       "    <rect x=\"205\" y=\"47\" width=\"2149\" height=\"1365\"/>\n",
       "  </clipPath>\n",
       "</defs>\n",
       "<polyline clip-path=\"url(#clip202)\" style=\"stroke:#000000; stroke-linecap:round; stroke-linejoin:round; stroke-width:2; stroke-opacity:0.1; fill:none\" points=\"323.245,1410.9 323.245,47.2441 \"/>\n",
       "<polyline clip-path=\"url(#clip202)\" style=\"stroke:#000000; stroke-linecap:round; stroke-linejoin:round; stroke-width:2; stroke-opacity:0.1; fill:none\" points=\"960.374,1410.9 960.374,47.2441 \"/>\n",
       "<polyline clip-path=\"url(#clip202)\" style=\"stroke:#000000; stroke-linecap:round; stroke-linejoin:round; stroke-width:2; stroke-opacity:0.1; fill:none\" points=\"1597.5,1410.9 1597.5,47.2441 \"/>\n",
       "<polyline clip-path=\"url(#clip202)\" style=\"stroke:#000000; stroke-linecap:round; stroke-linejoin:round; stroke-width:2; stroke-opacity:0.1; fill:none\" points=\"2234.63,1410.9 2234.63,47.2441 \"/>\n",
       "<polyline clip-path=\"url(#clip200)\" style=\"stroke:#000000; stroke-linecap:round; stroke-linejoin:round; stroke-width:4; stroke-opacity:1; fill:none\" points=\"205.121,1410.9 2352.76,1410.9 \"/>\n",
       "<polyline clip-path=\"url(#clip200)\" style=\"stroke:#000000; stroke-linecap:round; stroke-linejoin:round; stroke-width:4; stroke-opacity:1; fill:none\" points=\"323.245,1410.9 323.245,1392 \"/>\n",
       "<polyline clip-path=\"url(#clip200)\" style=\"stroke:#000000; stroke-linecap:round; stroke-linejoin:round; stroke-width:4; stroke-opacity:1; fill:none\" points=\"960.374,1410.9 960.374,1392 \"/>\n",
       "<polyline clip-path=\"url(#clip200)\" style=\"stroke:#000000; stroke-linecap:round; stroke-linejoin:round; stroke-width:4; stroke-opacity:1; fill:none\" points=\"1597.5,1410.9 1597.5,1392 \"/>\n",
       "<polyline clip-path=\"url(#clip200)\" style=\"stroke:#000000; stroke-linecap:round; stroke-linejoin:round; stroke-width:4; stroke-opacity:1; fill:none\" points=\"2234.63,1410.9 2234.63,1392 \"/>\n",
       "<path clip-path=\"url(#clip200)\" d=\"M323.245 1441.82 Q319.634 1441.82 317.805 1445.38 Q315.999 1448.92 315.999 1456.05 Q315.999 1463.16 317.805 1466.72 Q319.634 1470.26 323.245 1470.26 Q326.879 1470.26 328.685 1466.72 Q330.513 1463.16 330.513 1456.05 Q330.513 1448.92 328.685 1445.38 Q326.879 1441.82 323.245 1441.82 M323.245 1438.11 Q329.055 1438.11 332.11 1442.72 Q335.189 1447.3 335.189 1456.05 Q335.189 1464.78 332.11 1469.38 Q329.055 1473.97 323.245 1473.97 Q317.435 1473.97 314.356 1469.38 Q311.3 1464.78 311.3 1456.05 Q311.3 1447.3 314.356 1442.72 Q317.435 1438.11 323.245 1438.11 Z\" fill=\"#000000\" fill-rule=\"nonzero\" fill-opacity=\"1\" /><path clip-path=\"url(#clip200)\" d=\"M856.392 1485.02 L864.031 1485.02 L864.031 1458.66 L855.721 1460.32 L855.721 1456.06 L863.985 1454.4 L868.661 1454.4 L868.661 1485.02 L876.3 1485.02 L876.3 1488.96 L856.392 1488.96 L856.392 1485.02 Z\" fill=\"#000000\" fill-rule=\"nonzero\" fill-opacity=\"1\" /><path clip-path=\"url(#clip200)\" d=\"M885.744 1483.08 L890.628 1483.08 L890.628 1488.96 L885.744 1488.96 L885.744 1483.08 Z\" fill=\"#000000\" fill-rule=\"nonzero\" fill-opacity=\"1\" /><path clip-path=\"url(#clip200)\" d=\"M910.813 1457.48 Q907.202 1457.48 905.373 1461.04 Q903.568 1464.58 903.568 1471.71 Q903.568 1478.82 905.373 1482.38 Q907.202 1485.92 910.813 1485.92 Q914.447 1485.92 916.253 1482.38 Q918.082 1478.82 918.082 1471.71 Q918.082 1464.58 916.253 1461.04 Q914.447 1457.48 910.813 1457.48 M910.813 1453.77 Q916.623 1453.77 919.679 1458.38 Q922.758 1462.96 922.758 1471.71 Q922.758 1480.44 919.679 1485.04 Q916.623 1489.63 910.813 1489.63 Q905.003 1489.63 901.924 1485.04 Q898.869 1480.44 898.869 1471.71 Q898.869 1462.96 901.924 1458.38 Q905.003 1453.77 910.813 1453.77 Z\" fill=\"#000000\" fill-rule=\"nonzero\" fill-opacity=\"1\" /><path clip-path=\"url(#clip200)\" d=\"M959.146 1463.49 L948.568 1474.12 L959.146 1484.7 L956.392 1487.5 L945.767 1476.87 L935.142 1487.5 L932.41 1484.7 L942.966 1474.12 L932.41 1463.49 L935.142 1460.69 L945.767 1471.32 L956.392 1460.69 L959.146 1463.49 Z\" fill=\"#000000\" fill-rule=\"nonzero\" fill-opacity=\"1\" /><path clip-path=\"url(#clip200)\" d=\"M971.507 1485.02 L979.146 1485.02 L979.146 1458.66 L970.836 1460.32 L970.836 1456.06 L979.1 1454.4 L983.776 1454.4 L983.776 1485.02 L991.415 1485.02 L991.415 1488.96 L971.507 1488.96 L971.507 1485.02 Z\" fill=\"#000000\" fill-rule=\"nonzero\" fill-opacity=\"1\" /><path clip-path=\"url(#clip200)\" d=\"M1010.86 1457.48 Q1007.25 1457.48 1005.42 1461.04 Q1003.61 1464.58 1003.61 1471.71 Q1003.61 1478.82 1005.42 1482.38 Q1007.25 1485.92 1010.86 1485.92 Q1014.49 1485.92 1016.3 1482.38 Q1018.13 1478.82 1018.13 1471.71 Q1018.13 1464.58 1016.3 1461.04 Q1014.49 1457.48 1010.86 1457.48 M1010.86 1453.77 Q1016.67 1453.77 1019.72 1458.38 Q1022.8 1462.96 1022.8 1471.71 Q1022.8 1480.44 1019.72 1485.04 Q1016.67 1489.63 1010.86 1489.63 Q1005.05 1489.63 1001.97 1485.04 Q998.915 1480.44 998.915 1471.71 Q998.915 1462.96 1001.97 1458.38 Q1005.05 1453.77 1010.86 1453.77 Z\" fill=\"#000000\" fill-rule=\"nonzero\" fill-opacity=\"1\" /><path clip-path=\"url(#clip200)\" d=\"M1023.35 1458.35 L1029.56 1458.35 L1029.56 1436.93 L1022.8 1438.28 L1022.8 1434.82 L1029.52 1433.47 L1033.32 1433.47 L1033.32 1458.35 L1039.52 1458.35 L1039.52 1461.55 L1023.35 1461.55 L1023.35 1458.35 Z\" fill=\"#000000\" fill-rule=\"nonzero\" fill-opacity=\"1\" /><path clip-path=\"url(#clip200)\" d=\"M1055.32 1435.97 Q1052.39 1435.97 1050.9 1438.86 Q1049.44 1441.74 1049.44 1447.53 Q1049.44 1453.31 1050.9 1456.2 Q1052.39 1459.08 1055.32 1459.08 Q1058.27 1459.08 1059.74 1456.2 Q1061.23 1453.31 1061.23 1447.53 Q1061.23 1441.74 1059.74 1438.86 Q1058.27 1435.97 1055.32 1435.97 M1055.32 1432.96 Q1060.04 1432.96 1062.53 1436.7 Q1065.03 1440.43 1065.03 1447.53 Q1065.03 1454.62 1062.53 1458.37 Q1060.04 1462.09 1055.32 1462.09 Q1050.6 1462.09 1048.1 1458.37 Q1045.62 1454.62 1045.62 1447.53 Q1045.62 1440.43 1048.1 1436.7 Q1050.6 1432.96 1055.32 1432.96 Z\" fill=\"#000000\" fill-rule=\"nonzero\" fill-opacity=\"1\" /><path clip-path=\"url(#clip200)\" d=\"M1497.61 1485.02 L1513.93 1485.02 L1513.93 1488.96 L1491.98 1488.96 L1491.98 1485.02 Q1494.64 1482.27 1499.23 1477.64 Q1503.83 1472.98 1505.01 1471.64 Q1507.26 1469.12 1508.14 1467.38 Q1509.04 1465.62 1509.04 1463.93 Q1509.04 1461.18 1507.1 1459.44 Q1505.18 1457.71 1502.07 1457.71 Q1499.88 1457.71 1497.42 1458.47 Q1494.99 1459.23 1492.21 1460.79 L1492.21 1456.06 Q1495.04 1454.93 1497.49 1454.35 Q1499.94 1453.77 1501.98 1453.77 Q1507.35 1453.77 1510.55 1456.46 Q1513.74 1459.14 1513.74 1463.63 Q1513.74 1465.76 1512.93 1467.68 Q1512.14 1469.58 1510.04 1472.17 Q1509.46 1472.85 1506.36 1476.06 Q1503.26 1479.26 1497.61 1485.02 Z\" fill=\"#000000\" fill-rule=\"nonzero\" fill-opacity=\"1\" /><path clip-path=\"url(#clip200)\" d=\"M1523.74 1483.08 L1528.63 1483.08 L1528.63 1488.96 L1523.74 1488.96 L1523.74 1483.08 Z\" fill=\"#000000\" fill-rule=\"nonzero\" fill-opacity=\"1\" /><path clip-path=\"url(#clip200)\" d=\"M1548.81 1457.48 Q1545.2 1457.48 1543.37 1461.04 Q1541.57 1464.58 1541.57 1471.71 Q1541.57 1478.82 1543.37 1482.38 Q1545.2 1485.92 1548.81 1485.92 Q1552.44 1485.92 1554.25 1482.38 Q1556.08 1478.82 1556.08 1471.71 Q1556.08 1464.58 1554.25 1461.04 Q1552.44 1457.48 1548.81 1457.48 M1548.81 1453.77 Q1554.62 1453.77 1557.68 1458.38 Q1560.75 1462.96 1560.75 1471.71 Q1560.75 1480.44 1557.68 1485.04 Q1554.62 1489.63 1548.81 1489.63 Q1543 1489.63 1539.92 1485.04 Q1536.87 1480.44 1536.87 1471.71 Q1536.87 1462.96 1539.92 1458.38 Q1543 1453.77 1548.81 1453.77 Z\" fill=\"#000000\" fill-rule=\"nonzero\" fill-opacity=\"1\" /><path clip-path=\"url(#clip200)\" d=\"M1597.14 1463.49 L1586.56 1474.12 L1597.14 1484.7 L1594.39 1487.5 L1583.76 1476.87 L1573.14 1487.5 L1570.41 1484.7 L1580.96 1474.12 L1570.41 1463.49 L1573.14 1460.69 L1583.76 1471.32 L1594.39 1460.69 L1597.14 1463.49 Z\" fill=\"#000000\" fill-rule=\"nonzero\" fill-opacity=\"1\" /><path clip-path=\"url(#clip200)\" d=\"M1609.5 1485.02 L1617.14 1485.02 L1617.14 1458.66 L1608.83 1460.32 L1608.83 1456.06 L1617.1 1454.4 L1621.77 1454.4 L1621.77 1485.02 L1629.41 1485.02 L1629.41 1488.96 L1609.5 1488.96 L1609.5 1485.02 Z\" fill=\"#000000\" fill-rule=\"nonzero\" fill-opacity=\"1\" /><path clip-path=\"url(#clip200)\" d=\"M1648.86 1457.48 Q1645.25 1457.48 1643.42 1461.04 Q1641.61 1464.58 1641.61 1471.71 Q1641.61 1478.82 1643.42 1482.38 Q1645.25 1485.92 1648.86 1485.92 Q1652.49 1485.92 1654.3 1482.38 Q1656.12 1478.82 1656.12 1471.71 Q1656.12 1464.58 1654.3 1461.04 Q1652.49 1457.48 1648.86 1457.48 M1648.86 1453.77 Q1654.67 1453.77 1657.72 1458.38 Q1660.8 1462.96 1660.8 1471.71 Q1660.8 1480.44 1657.72 1485.04 Q1654.67 1489.63 1648.86 1489.63 Q1643.05 1489.63 1639.97 1485.04 Q1636.91 1480.44 1636.91 1471.71 Q1636.91 1462.96 1639.97 1458.38 Q1643.05 1453.77 1648.86 1453.77 Z\" fill=\"#000000\" fill-rule=\"nonzero\" fill-opacity=\"1\" /><path clip-path=\"url(#clip200)\" d=\"M1661.35 1458.35 L1667.55 1458.35 L1667.55 1436.93 L1660.8 1438.28 L1660.8 1434.82 L1667.51 1433.47 L1671.31 1433.47 L1671.31 1458.35 L1677.52 1458.35 L1677.52 1461.55 L1661.35 1461.55 L1661.35 1458.35 Z\" fill=\"#000000\" fill-rule=\"nonzero\" fill-opacity=\"1\" /><path clip-path=\"url(#clip200)\" d=\"M1693.32 1435.97 Q1690.39 1435.97 1688.9 1438.86 Q1687.43 1441.74 1687.43 1447.53 Q1687.43 1453.31 1688.9 1456.2 Q1690.39 1459.08 1693.32 1459.08 Q1696.27 1459.08 1697.74 1456.2 Q1699.22 1453.31 1699.22 1447.53 Q1699.22 1441.74 1697.74 1438.86 Q1696.27 1435.97 1693.32 1435.97 M1693.32 1432.96 Q1698.04 1432.96 1700.52 1436.7 Q1703.02 1440.43 1703.02 1447.53 Q1703.02 1454.62 1700.52 1458.37 Q1698.04 1462.09 1693.32 1462.09 Q1688.6 1462.09 1686.1 1458.37 Q1683.61 1454.62 1683.61 1447.53 Q1683.61 1440.43 1686.1 1436.7 Q1688.6 1432.96 1693.32 1432.96 Z\" fill=\"#000000\" fill-rule=\"nonzero\" fill-opacity=\"1\" /><path clip-path=\"url(#clip200)\" d=\"M2144.81 1470.32 Q2148.16 1471.04 2150.04 1473.31 Q2151.94 1475.58 2151.94 1478.91 Q2151.94 1484.03 2148.42 1486.83 Q2144.9 1489.63 2138.42 1489.63 Q2136.24 1489.63 2133.93 1489.19 Q2131.63 1488.77 2129.18 1487.91 L2129.18 1483.4 Q2131.13 1484.54 2133.44 1485.11 Q2135.75 1485.69 2138.28 1485.69 Q2142.68 1485.69 2144.97 1483.96 Q2147.28 1482.22 2147.28 1478.91 Q2147.28 1475.85 2145.13 1474.14 Q2143 1472.41 2139.18 1472.41 L2135.15 1472.41 L2135.15 1468.56 L2139.37 1468.56 Q2142.81 1468.56 2144.64 1467.2 Q2146.47 1465.81 2146.47 1463.22 Q2146.47 1460.55 2144.57 1459.14 Q2142.7 1457.71 2139.18 1457.71 Q2137.26 1457.71 2135.06 1458.12 Q2132.86 1458.54 2130.22 1459.42 L2130.22 1455.25 Q2132.88 1454.51 2135.2 1454.14 Q2137.54 1453.77 2139.6 1453.77 Q2144.92 1453.77 2148.02 1456.2 Q2151.12 1458.61 2151.12 1462.73 Q2151.12 1465.6 2149.48 1467.59 Q2147.84 1469.56 2144.81 1470.32 Z\" fill=\"#000000\" fill-rule=\"nonzero\" fill-opacity=\"1\" /><path clip-path=\"url(#clip200)\" d=\"M2160.8 1483.08 L2165.69 1483.08 L2165.69 1488.96 L2160.8 1488.96 L2160.8 1483.08 Z\" fill=\"#000000\" fill-rule=\"nonzero\" fill-opacity=\"1\" /><path clip-path=\"url(#clip200)\" d=\"M2185.87 1457.48 Q2182.26 1457.48 2180.43 1461.04 Q2178.62 1464.58 2178.62 1471.71 Q2178.62 1478.82 2180.43 1482.38 Q2182.26 1485.92 2185.87 1485.92 Q2189.5 1485.92 2191.31 1482.38 Q2193.14 1478.82 2193.14 1471.71 Q2193.14 1464.58 2191.31 1461.04 Q2189.5 1457.48 2185.87 1457.48 M2185.87 1453.77 Q2191.68 1453.77 2194.74 1458.38 Q2197.81 1462.96 2197.81 1471.71 Q2197.81 1480.44 2194.74 1485.04 Q2191.68 1489.63 2185.87 1489.63 Q2180.06 1489.63 2176.98 1485.04 Q2173.93 1480.44 2173.93 1471.71 Q2173.93 1462.96 2176.98 1458.38 Q2180.06 1453.77 2185.87 1453.77 Z\" fill=\"#000000\" fill-rule=\"nonzero\" fill-opacity=\"1\" /><path clip-path=\"url(#clip200)\" d=\"M2234.2 1463.49 L2223.62 1474.12 L2234.2 1484.7 L2231.45 1487.5 L2220.82 1476.87 L2210.2 1487.5 L2207.47 1484.7 L2218.02 1474.12 L2207.47 1463.49 L2210.2 1460.69 L2220.82 1471.32 L2231.45 1460.69 L2234.2 1463.49 Z\" fill=\"#000000\" fill-rule=\"nonzero\" fill-opacity=\"1\" /><path clip-path=\"url(#clip200)\" d=\"M2246.56 1485.02 L2254.2 1485.02 L2254.2 1458.66 L2245.89 1460.32 L2245.89 1456.06 L2254.16 1454.4 L2258.83 1454.4 L2258.83 1485.02 L2266.47 1485.02 L2266.47 1488.96 L2246.56 1488.96 L2246.56 1485.02 Z\" fill=\"#000000\" fill-rule=\"nonzero\" fill-opacity=\"1\" /><path clip-path=\"url(#clip200)\" d=\"M2285.92 1457.48 Q2282.3 1457.48 2280.48 1461.04 Q2278.67 1464.58 2278.67 1471.71 Q2278.67 1478.82 2280.48 1482.38 Q2282.3 1485.92 2285.92 1485.92 Q2289.55 1485.92 2291.36 1482.38 Q2293.18 1478.82 2293.18 1471.71 Q2293.18 1464.58 2291.36 1461.04 Q2289.55 1457.48 2285.92 1457.48 M2285.92 1453.77 Q2291.73 1453.77 2294.78 1458.38 Q2297.86 1462.96 2297.86 1471.71 Q2297.86 1480.44 2294.78 1485.04 Q2291.73 1489.63 2285.92 1489.63 Q2280.11 1489.63 2277.03 1485.04 Q2273.97 1480.44 2273.97 1471.71 Q2273.97 1462.96 2277.03 1458.38 Q2280.11 1453.77 2285.92 1453.77 Z\" fill=\"#000000\" fill-rule=\"nonzero\" fill-opacity=\"1\" /><path clip-path=\"url(#clip200)\" d=\"M2298.41 1458.35 L2304.61 1458.35 L2304.61 1436.93 L2297.86 1438.28 L2297.86 1434.82 L2304.57 1433.47 L2308.37 1433.47 L2308.37 1458.35 L2314.58 1458.35 L2314.58 1461.55 L2298.41 1461.55 L2298.41 1458.35 Z\" fill=\"#000000\" fill-rule=\"nonzero\" fill-opacity=\"1\" /><path clip-path=\"url(#clip200)\" d=\"M2330.38 1435.97 Q2327.44 1435.97 2325.96 1438.86 Q2324.49 1441.74 2324.49 1447.53 Q2324.49 1453.31 2325.96 1456.2 Q2327.44 1459.08 2330.38 1459.08 Q2333.33 1459.08 2334.8 1456.2 Q2336.28 1453.31 2336.28 1447.53 Q2336.28 1441.74 2334.8 1438.86 Q2333.33 1435.97 2330.38 1435.97 M2330.38 1432.96 Q2335.1 1432.96 2337.58 1436.7 Q2340.08 1440.43 2340.08 1447.53 Q2340.08 1454.62 2337.58 1458.37 Q2335.1 1462.09 2330.38 1462.09 Q2325.66 1462.09 2323.16 1458.37 Q2320.67 1454.62 2320.67 1447.53 Q2320.67 1440.43 2323.16 1436.7 Q2325.66 1432.96 2330.38 1432.96 Z\" fill=\"#000000\" fill-rule=\"nonzero\" fill-opacity=\"1\" /><path clip-path=\"url(#clip200)\" d=\"M993.023 1545.51 L983.761 1545.51 L981.087 1556.14 L990.413 1556.14 L993.023 1545.51 M988.248 1527.4 L984.938 1540.61 L994.232 1540.61 L997.574 1527.4 L1002.67 1527.4 L999.388 1540.61 L1009.32 1540.61 L1009.32 1545.51 L998.147 1545.51 L995.537 1556.14 L1005.66 1556.14 L1005.66 1561.01 L994.296 1561.01 L990.986 1574.19 L985.893 1574.19 L989.171 1561.01 L979.846 1561.01 L976.567 1574.19 L971.443 1574.19 L974.753 1561.01 L964.727 1561.01 L964.727 1556.14 L975.931 1556.14 L978.604 1545.51 L968.356 1545.51 L968.356 1540.61 L979.846 1540.61 L983.092 1527.4 L988.248 1527.4 Z\" fill=\"#000000\" fill-rule=\"nonzero\" fill-opacity=\"1\" /><path clip-path=\"url(#clip200)\" d=\"M1054.99 1542.64 Q1050.28 1542.64 1047.55 1546.34 Q1044.81 1550 1044.81 1556.39 Q1044.81 1562.79 1047.51 1566.48 Q1050.25 1570.14 1054.99 1570.14 Q1059.67 1570.14 1062.41 1566.45 Q1065.15 1562.76 1065.15 1556.39 Q1065.15 1550.06 1062.41 1546.37 Q1059.67 1542.64 1054.99 1542.64 M1054.99 1537.68 Q1062.63 1537.68 1066.99 1542.64 Q1071.35 1547.61 1071.35 1556.39 Q1071.35 1565.15 1066.99 1570.14 Q1062.63 1575.11 1054.99 1575.11 Q1047.32 1575.11 1042.96 1570.14 Q1038.63 1565.15 1038.63 1556.39 Q1038.63 1547.61 1042.96 1542.64 Q1047.32 1537.68 1054.99 1537.68 Z\" fill=\"#000000\" fill-rule=\"nonzero\" fill-opacity=\"1\" /><path clip-path=\"url(#clip200)\" d=\"M1099.11 1524.66 L1099.11 1529.53 L1093.51 1529.53 Q1090.35 1529.53 1089.11 1530.8 Q1087.9 1532.08 1087.9 1535.39 L1087.9 1538.54 L1097.55 1538.54 L1097.55 1543.09 L1087.9 1543.09 L1087.9 1574.19 L1082.02 1574.19 L1082.02 1543.09 L1076.41 1543.09 L1076.41 1538.54 L1082.02 1538.54 L1082.02 1536.05 Q1082.02 1530.1 1084.78 1527.4 Q1087.55 1524.66 1093.57 1524.66 L1099.11 1524.66 Z\" fill=\"#000000\" fill-rule=\"nonzero\" fill-opacity=\"1\" /><path clip-path=\"url(#clip200)\" d=\"M1152.48 1545.38 Q1154.68 1541.43 1157.74 1539.56 Q1160.79 1537.68 1164.93 1537.68 Q1170.5 1537.68 1173.52 1541.59 Q1176.55 1545.48 1176.55 1552.67 L1176.55 1574.19 L1170.66 1574.19 L1170.66 1552.86 Q1170.66 1547.74 1168.84 1545.25 Q1167.03 1542.77 1163.31 1542.77 Q1158.75 1542.77 1156.11 1545.79 Q1153.47 1548.82 1153.47 1554.04 L1153.47 1574.19 L1147.58 1574.19 L1147.58 1552.86 Q1147.58 1547.7 1145.77 1545.25 Q1143.95 1542.77 1140.17 1542.77 Q1135.68 1542.77 1133.04 1545.83 Q1130.39 1548.85 1130.39 1554.04 L1130.39 1574.19 L1124.51 1574.19 L1124.51 1538.54 L1130.39 1538.54 L1130.39 1544.08 Q1132.4 1540.8 1135.2 1539.24 Q1138 1537.68 1141.85 1537.68 Q1145.74 1537.68 1148.44 1539.65 Q1151.18 1541.62 1152.48 1545.38 Z\" fill=\"#000000\" fill-rule=\"nonzero\" fill-opacity=\"1\" /><path clip-path=\"url(#clip200)\" d=\"M1204.43 1556.27 Q1197.33 1556.27 1194.59 1557.89 Q1191.86 1559.51 1191.86 1563.43 Q1191.86 1566.55 1193.89 1568.39 Q1195.96 1570.21 1199.49 1570.21 Q1204.36 1570.21 1207.29 1566.77 Q1210.25 1563.3 1210.25 1557.57 L1210.25 1556.27 L1204.43 1556.27 M1216.11 1553.85 L1216.11 1574.19 L1210.25 1574.19 L1210.25 1568.77 Q1208.25 1572.02 1205.26 1573.58 Q1202.26 1575.11 1197.93 1575.11 Q1192.46 1575.11 1189.21 1572.05 Q1186 1568.97 1186 1563.81 Q1186 1557.79 1190.01 1554.74 Q1194.05 1551.68 1202.04 1551.68 L1210.25 1551.68 L1210.25 1551.11 Q1210.25 1547.07 1207.58 1544.87 Q1204.94 1542.64 1200.13 1542.64 Q1197.08 1542.64 1194.18 1543.38 Q1191.28 1544.11 1188.61 1545.57 L1188.61 1540.16 Q1191.82 1538.92 1194.85 1538.31 Q1197.87 1537.68 1200.74 1537.68 Q1208.47 1537.68 1212.29 1541.69 Q1216.11 1545.7 1216.11 1553.85 Z\" fill=\"#000000\" fill-rule=\"nonzero\" fill-opacity=\"1\" /><path clip-path=\"url(#clip200)\" d=\"M1233.84 1568.84 L1233.84 1587.74 L1227.95 1587.74 L1227.95 1538.54 L1233.84 1538.54 L1233.84 1543.95 Q1235.68 1540.77 1238.48 1539.24 Q1241.32 1537.68 1245.23 1537.68 Q1251.73 1537.68 1255.77 1542.83 Q1259.84 1547.99 1259.84 1556.39 Q1259.84 1564.8 1255.77 1569.95 Q1251.73 1575.11 1245.23 1575.11 Q1241.32 1575.11 1238.48 1573.58 Q1235.68 1572.02 1233.84 1568.84 M1253.76 1556.39 Q1253.76 1549.93 1251.09 1546.27 Q1248.45 1542.58 1243.8 1542.58 Q1239.15 1542.58 1236.48 1546.27 Q1233.84 1549.93 1233.84 1556.39 Q1233.84 1562.85 1236.48 1566.55 Q1239.15 1570.21 1243.8 1570.21 Q1248.45 1570.21 1251.09 1566.55 Q1253.76 1562.85 1253.76 1556.39 Z\" fill=\"#000000\" fill-rule=\"nonzero\" fill-opacity=\"1\" /><path clip-path=\"url(#clip200)\" d=\"M1275.21 1568.84 L1275.21 1587.74 L1269.33 1587.74 L1269.33 1538.54 L1275.21 1538.54 L1275.21 1543.95 Q1277.06 1540.77 1279.86 1539.24 Q1282.69 1537.68 1286.61 1537.68 Q1293.1 1537.68 1297.14 1542.83 Q1301.22 1547.99 1301.22 1556.39 Q1301.22 1564.8 1297.14 1569.95 Q1293.1 1575.11 1286.61 1575.11 Q1282.69 1575.11 1279.86 1573.58 Q1277.06 1572.02 1275.21 1568.84 M1295.14 1556.39 Q1295.14 1549.93 1292.47 1546.27 Q1289.82 1542.58 1285.18 1542.58 Q1280.53 1542.58 1277.86 1546.27 Q1275.21 1549.93 1275.21 1556.39 Q1275.21 1562.85 1277.86 1566.55 Q1280.53 1570.21 1285.18 1570.21 Q1289.82 1570.21 1292.47 1566.55 Q1295.14 1562.85 1295.14 1556.39 Z\" fill=\"#000000\" fill-rule=\"nonzero\" fill-opacity=\"1\" /><path clip-path=\"url(#clip200)\" d=\"M1341.42 1554.9 L1341.42 1557.76 L1314.49 1557.76 Q1314.87 1563.81 1318.12 1566.99 Q1321.4 1570.14 1327.22 1570.14 Q1330.6 1570.14 1333.75 1569.32 Q1336.93 1568.49 1340.05 1566.83 L1340.05 1572.37 Q1336.9 1573.71 1333.59 1574.41 Q1330.28 1575.11 1326.87 1575.11 Q1318.34 1575.11 1313.35 1570.14 Q1308.38 1565.18 1308.38 1556.71 Q1308.38 1547.96 1313.09 1542.83 Q1317.83 1537.68 1325.85 1537.68 Q1333.05 1537.68 1337.22 1542.33 Q1341.42 1546.94 1341.42 1554.9 M1335.56 1553.18 Q1335.5 1548.37 1332.86 1545.51 Q1330.25 1542.64 1325.92 1542.64 Q1321.02 1542.64 1318.06 1545.41 Q1315.13 1548.18 1314.68 1553.21 L1335.56 1553.18 Z\" fill=\"#000000\" fill-rule=\"nonzero\" fill-opacity=\"1\" /><path clip-path=\"url(#clip200)\" d=\"M1374.49 1543.95 L1374.49 1524.66 L1380.34 1524.66 L1380.34 1574.19 L1374.49 1574.19 L1374.49 1568.84 Q1372.64 1572.02 1369.81 1573.58 Q1367.01 1575.11 1363.06 1575.11 Q1356.6 1575.11 1352.53 1569.95 Q1348.48 1564.8 1348.48 1556.39 Q1348.48 1547.99 1352.53 1542.83 Q1356.6 1537.68 1363.06 1537.68 Q1367.01 1537.68 1369.81 1539.24 Q1372.64 1540.77 1374.49 1543.95 M1354.53 1556.39 Q1354.53 1562.85 1357.17 1566.55 Q1359.85 1570.21 1364.49 1570.21 Q1369.14 1570.21 1371.81 1566.55 Q1374.49 1562.85 1374.49 1556.39 Q1374.49 1549.93 1371.81 1546.27 Q1369.14 1542.58 1364.49 1542.58 Q1359.85 1542.58 1357.17 1546.27 Q1354.53 1549.93 1354.53 1556.39 Z\" fill=\"#000000\" fill-rule=\"nonzero\" fill-opacity=\"1\" /><path clip-path=\"url(#clip200)\" d=\"M1438.72 1556.39 Q1438.72 1549.93 1436.04 1546.27 Q1433.4 1542.58 1428.76 1542.58 Q1424.11 1542.58 1421.43 1546.27 Q1418.79 1549.93 1418.79 1556.39 Q1418.79 1562.85 1421.43 1566.55 Q1424.11 1570.21 1428.76 1570.21 Q1433.4 1570.21 1436.04 1566.55 Q1438.72 1562.85 1438.72 1556.39 M1418.79 1543.95 Q1420.64 1540.77 1423.44 1539.24 Q1426.27 1537.68 1430.19 1537.68 Q1436.68 1537.68 1440.72 1542.83 Q1444.8 1547.99 1444.8 1556.39 Q1444.8 1564.8 1440.72 1569.95 Q1436.68 1575.11 1430.19 1575.11 Q1426.27 1575.11 1423.44 1573.58 Q1420.64 1572.02 1418.79 1568.84 L1418.79 1574.19 L1412.9 1574.19 L1412.9 1524.66 L1418.79 1524.66 L1418.79 1543.95 Z\" fill=\"#000000\" fill-rule=\"nonzero\" fill-opacity=\"1\" /><path clip-path=\"url(#clip200)\" d=\"M1470.71 1556.27 Q1463.61 1556.27 1460.87 1557.89 Q1458.13 1559.51 1458.13 1563.43 Q1458.13 1566.55 1460.17 1568.39 Q1462.24 1570.21 1465.77 1570.21 Q1470.64 1570.21 1473.57 1566.77 Q1476.53 1563.3 1476.53 1557.57 L1476.53 1556.27 L1470.71 1556.27 M1482.39 1553.85 L1482.39 1574.19 L1476.53 1574.19 L1476.53 1568.77 Q1474.52 1572.02 1471.53 1573.58 Q1468.54 1575.11 1464.21 1575.11 Q1458.74 1575.11 1455.49 1572.05 Q1452.28 1568.97 1452.28 1563.81 Q1452.28 1557.79 1456.29 1554.74 Q1460.33 1551.68 1468.32 1551.68 L1476.53 1551.68 L1476.53 1551.11 Q1476.53 1547.07 1473.86 1544.87 Q1471.21 1542.64 1466.41 1542.64 Q1463.35 1542.64 1460.46 1543.38 Q1457.56 1544.11 1454.89 1545.57 L1454.89 1540.16 Q1458.1 1538.92 1461.12 1538.31 Q1464.15 1537.68 1467.01 1537.68 Q1474.75 1537.68 1478.57 1541.69 Q1482.39 1545.7 1482.39 1553.85 Z\" fill=\"#000000\" fill-rule=\"nonzero\" fill-opacity=\"1\" /><path clip-path=\"url(#clip200)\" d=\"M1517.18 1539.59 L1517.18 1545.13 Q1514.69 1543.85 1512.02 1543.22 Q1509.35 1542.58 1506.48 1542.58 Q1502.12 1542.58 1499.92 1543.92 Q1497.76 1545.25 1497.76 1547.93 Q1497.76 1549.96 1499.32 1551.14 Q1500.88 1552.29 1505.59 1553.34 L1507.59 1553.78 Q1513.83 1555.12 1516.44 1557.57 Q1519.08 1559.99 1519.08 1564.35 Q1519.08 1569.32 1515.14 1572.21 Q1511.22 1575.11 1504.35 1575.11 Q1501.48 1575.11 1498.36 1574.54 Q1495.28 1573.99 1491.84 1572.88 L1491.84 1566.83 Q1495.09 1568.52 1498.24 1569.38 Q1501.39 1570.21 1504.48 1570.21 Q1508.61 1570.21 1510.84 1568.81 Q1513.07 1567.37 1513.07 1564.8 Q1513.07 1562.41 1511.45 1561.14 Q1509.85 1559.86 1504.41 1558.68 L1502.37 1558.21 Q1496.93 1557.06 1494.51 1554.71 Q1492.09 1552.32 1492.09 1548.18 Q1492.09 1543.15 1495.66 1540.42 Q1499.22 1537.68 1505.78 1537.68 Q1509.03 1537.68 1511.89 1538.16 Q1514.76 1538.63 1517.18 1539.59 Z\" fill=\"#000000\" fill-rule=\"nonzero\" fill-opacity=\"1\" /><path clip-path=\"url(#clip200)\" d=\"M1558.9 1554.9 L1558.9 1557.76 L1531.98 1557.76 Q1532.36 1563.81 1535.6 1566.99 Q1538.88 1570.14 1544.71 1570.14 Q1548.08 1570.14 1551.23 1569.32 Q1554.41 1568.49 1557.53 1566.83 L1557.53 1572.37 Q1554.38 1573.71 1551.07 1574.41 Q1547.76 1575.11 1544.36 1575.11 Q1535.83 1575.11 1530.83 1570.14 Q1525.86 1565.18 1525.86 1556.71 Q1525.86 1547.96 1530.57 1542.83 Q1535.32 1537.68 1543.34 1537.68 Q1550.53 1537.68 1554.7 1542.33 Q1558.9 1546.94 1558.9 1554.9 M1553.05 1553.18 Q1552.98 1548.37 1550.34 1545.51 Q1547.73 1542.64 1543.4 1542.64 Q1538.5 1542.64 1535.54 1545.41 Q1532.61 1548.18 1532.17 1553.21 L1553.05 1553.18 Z\" fill=\"#000000\" fill-rule=\"nonzero\" fill-opacity=\"1\" /><path clip-path=\"url(#clip200)\" d=\"M1591.24 1539.59 L1591.24 1545.13 Q1588.76 1543.85 1586.08 1543.22 Q1583.41 1542.58 1580.55 1542.58 Q1576.19 1542.58 1573.99 1543.92 Q1571.82 1545.25 1571.82 1547.93 Q1571.82 1549.96 1573.38 1551.14 Q1574.94 1552.29 1579.65 1553.34 L1581.66 1553.78 Q1587.9 1555.12 1590.51 1557.57 Q1593.15 1559.99 1593.15 1564.35 Q1593.15 1569.32 1589.2 1572.21 Q1585.29 1575.11 1578.41 1575.11 Q1575.55 1575.11 1572.43 1574.54 Q1569.34 1573.99 1565.9 1572.88 L1565.9 1566.83 Q1569.15 1568.52 1572.3 1569.38 Q1575.45 1570.21 1578.54 1570.21 Q1582.68 1570.21 1584.91 1568.81 Q1587.13 1567.37 1587.13 1564.8 Q1587.13 1562.41 1585.51 1561.14 Q1583.92 1559.86 1578.48 1558.68 L1576.44 1558.21 Q1571 1557.06 1568.58 1554.71 Q1566.16 1552.32 1566.16 1548.18 Q1566.16 1543.15 1569.72 1540.42 Q1573.29 1537.68 1579.85 1537.68 Q1583.09 1537.68 1585.96 1538.16 Q1588.82 1538.63 1591.24 1539.59 Z\" fill=\"#000000\" fill-rule=\"nonzero\" fill-opacity=\"1\" /><polyline clip-path=\"url(#clip202)\" style=\"stroke:#000000; stroke-linecap:round; stroke-linejoin:round; stroke-width:2; stroke-opacity:0.1; fill:none\" points=\"205.121,1410.9 2352.76,1410.9 \"/>\n",
       "<polyline clip-path=\"url(#clip202)\" style=\"stroke:#000000; stroke-linecap:round; stroke-linejoin:round; stroke-width:2; stroke-opacity:0.1; fill:none\" points=\"205.121,1126.8 2352.76,1126.8 \"/>\n",
       "<polyline clip-path=\"url(#clip202)\" style=\"stroke:#000000; stroke-linecap:round; stroke-linejoin:round; stroke-width:2; stroke-opacity:0.1; fill:none\" points=\"205.121,842.708 2352.76,842.708 \"/>\n",
       "<polyline clip-path=\"url(#clip202)\" style=\"stroke:#000000; stroke-linecap:round; stroke-linejoin:round; stroke-width:2; stroke-opacity:0.1; fill:none\" points=\"205.121,558.614 2352.76,558.614 \"/>\n",
       "<polyline clip-path=\"url(#clip202)\" style=\"stroke:#000000; stroke-linecap:round; stroke-linejoin:round; stroke-width:2; stroke-opacity:0.1; fill:none\" points=\"205.121,274.52 2352.76,274.52 \"/>\n",
       "<polyline clip-path=\"url(#clip200)\" style=\"stroke:#000000; stroke-linecap:round; stroke-linejoin:round; stroke-width:4; stroke-opacity:1; fill:none\" points=\"205.121,1410.9 205.121,47.2441 \"/>\n",
       "<polyline clip-path=\"url(#clip200)\" style=\"stroke:#000000; stroke-linecap:round; stroke-linejoin:round; stroke-width:4; stroke-opacity:1; fill:none\" points=\"205.121,1410.9 224.019,1410.9 \"/>\n",
       "<polyline clip-path=\"url(#clip200)\" style=\"stroke:#000000; stroke-linecap:round; stroke-linejoin:round; stroke-width:4; stroke-opacity:1; fill:none\" points=\"205.121,1126.8 224.019,1126.8 \"/>\n",
       "<polyline clip-path=\"url(#clip200)\" style=\"stroke:#000000; stroke-linecap:round; stroke-linejoin:round; stroke-width:4; stroke-opacity:1; fill:none\" points=\"205.121,842.708 224.019,842.708 \"/>\n",
       "<polyline clip-path=\"url(#clip200)\" style=\"stroke:#000000; stroke-linecap:round; stroke-linejoin:round; stroke-width:4; stroke-opacity:1; fill:none\" points=\"205.121,558.614 224.019,558.614 \"/>\n",
       "<polyline clip-path=\"url(#clip200)\" style=\"stroke:#000000; stroke-linecap:round; stroke-linejoin:round; stroke-width:4; stroke-opacity:1; fill:none\" points=\"205.121,274.52 224.019,274.52 \"/>\n",
       "<path clip-path=\"url(#clip200)\" d=\"M157.177 1396.7 Q153.566 1396.7 151.737 1400.26 Q149.931 1403.8 149.931 1410.93 Q149.931 1418.04 151.737 1421.6 Q153.566 1425.14 157.177 1425.14 Q160.811 1425.14 162.616 1421.6 Q164.445 1418.04 164.445 1410.93 Q164.445 1403.8 162.616 1400.26 Q160.811 1396.7 157.177 1396.7 M157.177 1392.99 Q162.987 1392.99 166.042 1397.6 Q169.121 1402.18 169.121 1410.93 Q169.121 1419.66 166.042 1424.26 Q162.987 1428.85 157.177 1428.85 Q151.366 1428.85 148.288 1424.26 Q145.232 1419.66 145.232 1410.93 Q145.232 1402.18 148.288 1397.6 Q151.366 1392.99 157.177 1392.99 Z\" fill=\"#000000\" fill-rule=\"nonzero\" fill-opacity=\"1\" /><path clip-path=\"url(#clip200)\" d=\"M121.043 1140.15 L137.362 1140.15 L137.362 1144.08 L115.418 1144.08 L115.418 1140.15 Q118.08 1137.39 122.663 1132.76 Q127.269 1128.11 128.45 1126.77 Q130.695 1124.24 131.575 1122.51 Q132.478 1120.75 132.478 1119.06 Q132.478 1116.3 130.533 1114.57 Q128.612 1112.83 125.51 1112.83 Q123.311 1112.83 120.857 1113.6 Q118.427 1114.36 115.649 1115.91 L115.649 1111.19 Q118.473 1110.05 120.927 1109.48 Q123.38 1108.9 125.418 1108.9 Q130.788 1108.9 133.982 1111.58 Q137.177 1114.27 137.177 1118.76 Q137.177 1120.89 136.367 1122.81 Q135.579 1124.71 133.473 1127.3 Q132.894 1127.97 129.792 1131.19 Q126.691 1134.38 121.043 1140.15 Z\" fill=\"#000000\" fill-rule=\"nonzero\" fill-opacity=\"1\" /><path clip-path=\"url(#clip200)\" d=\"M157.177 1112.6 Q153.566 1112.6 151.737 1116.17 Q149.931 1119.71 149.931 1126.84 Q149.931 1133.94 151.737 1137.51 Q153.566 1141.05 157.177 1141.05 Q160.811 1141.05 162.616 1137.51 Q164.445 1133.94 164.445 1126.84 Q164.445 1119.71 162.616 1116.17 Q160.811 1112.6 157.177 1112.6 M157.177 1108.9 Q162.987 1108.9 166.042 1113.5 Q169.121 1118.09 169.121 1126.84 Q169.121 1135.56 166.042 1140.17 Q162.987 1144.75 157.177 1144.75 Q151.366 1144.75 148.288 1140.17 Q145.232 1135.56 145.232 1126.84 Q145.232 1118.09 148.288 1113.5 Q151.366 1108.9 157.177 1108.9 Z\" fill=\"#000000\" fill-rule=\"nonzero\" fill-opacity=\"1\" /><path clip-path=\"url(#clip200)\" d=\"M129.862 829.502 L118.056 847.951 L129.862 847.951 L129.862 829.502 M128.635 825.428 L134.515 825.428 L134.515 847.951 L139.445 847.951 L139.445 851.84 L134.515 851.84 L134.515 859.988 L129.862 859.988 L129.862 851.84 L114.26 851.84 L114.26 847.326 L128.635 825.428 Z\" fill=\"#000000\" fill-rule=\"nonzero\" fill-opacity=\"1\" /><path clip-path=\"url(#clip200)\" d=\"M157.177 828.507 Q153.566 828.507 151.737 832.072 Q149.931 835.613 149.931 842.743 Q149.931 849.849 151.737 853.414 Q153.566 856.956 157.177 856.956 Q160.811 856.956 162.616 853.414 Q164.445 849.849 164.445 842.743 Q164.445 835.613 162.616 832.072 Q160.811 828.507 157.177 828.507 M157.177 824.803 Q162.987 824.803 166.042 829.41 Q169.121 833.993 169.121 842.743 Q169.121 851.47 166.042 856.076 Q162.987 860.659 157.177 860.659 Q151.366 860.659 148.288 856.076 Q145.232 851.47 145.232 842.743 Q145.232 833.993 148.288 829.41 Q151.366 824.803 157.177 824.803 Z\" fill=\"#000000\" fill-rule=\"nonzero\" fill-opacity=\"1\" /><path clip-path=\"url(#clip200)\" d=\"M127.593 556.75 Q124.445 556.75 122.593 558.903 Q120.765 561.056 120.765 564.806 Q120.765 568.533 122.593 570.709 Q124.445 572.861 127.593 572.861 Q130.742 572.861 132.57 570.709 Q134.422 568.533 134.422 564.806 Q134.422 561.056 132.57 558.903 Q130.742 556.75 127.593 556.75 M136.876 542.098 L136.876 546.357 Q135.117 545.524 133.311 545.084 Q131.529 544.644 129.769 544.644 Q125.14 544.644 122.686 547.769 Q120.255 550.894 119.908 557.213 Q121.274 555.199 123.334 554.135 Q125.394 553.047 127.871 553.047 Q133.08 553.047 136.089 556.218 Q139.121 559.366 139.121 564.806 Q139.121 570.13 135.973 573.348 Q132.825 576.565 127.593 576.565 Q121.598 576.565 118.427 571.982 Q115.256 567.375 115.256 558.649 Q115.256 550.454 119.144 545.593 Q123.033 540.709 129.584 540.709 Q131.343 540.709 133.126 541.056 Q134.931 541.403 136.876 542.098 Z\" fill=\"#000000\" fill-rule=\"nonzero\" fill-opacity=\"1\" /><path clip-path=\"url(#clip200)\" d=\"M157.177 544.412 Q153.566 544.412 151.737 547.977 Q149.931 551.519 149.931 558.649 Q149.931 565.755 151.737 569.32 Q153.566 572.861 157.177 572.861 Q160.811 572.861 162.616 569.32 Q164.445 565.755 164.445 558.649 Q164.445 551.519 162.616 547.977 Q160.811 544.412 157.177 544.412 M157.177 540.709 Q162.987 540.709 166.042 545.315 Q169.121 549.899 169.121 558.649 Q169.121 567.375 166.042 571.982 Q162.987 576.565 157.177 576.565 Q151.366 576.565 148.288 571.982 Q145.232 567.375 145.232 558.649 Q145.232 549.899 148.288 545.315 Q151.366 540.709 157.177 540.709 Z\" fill=\"#000000\" fill-rule=\"nonzero\" fill-opacity=\"1\" /><path clip-path=\"url(#clip200)\" d=\"M127.015 275.388 Q123.681 275.388 121.76 277.17 Q119.862 278.952 119.862 282.077 Q119.862 285.202 121.76 286.985 Q123.681 288.767 127.015 288.767 Q130.348 288.767 132.269 286.985 Q134.191 285.179 134.191 282.077 Q134.191 278.952 132.269 277.17 Q130.371 275.388 127.015 275.388 M122.339 273.397 Q119.33 272.656 117.64 270.596 Q115.973 268.536 115.973 265.573 Q115.973 261.429 118.913 259.022 Q121.876 256.615 127.015 256.615 Q132.177 256.615 135.117 259.022 Q138.056 261.429 138.056 265.573 Q138.056 268.536 136.367 270.596 Q134.7 272.656 131.714 273.397 Q135.093 274.184 136.968 276.476 Q138.867 278.767 138.867 282.077 Q138.867 287.1 135.788 289.786 Q132.732 292.471 127.015 292.471 Q121.297 292.471 118.218 289.786 Q115.163 287.1 115.163 282.077 Q115.163 278.767 117.061 276.476 Q118.959 274.184 122.339 273.397 M120.626 266.013 Q120.626 268.698 122.293 270.202 Q123.982 271.707 127.015 271.707 Q130.024 271.707 131.714 270.202 Q133.427 268.698 133.427 266.013 Q133.427 263.327 131.714 261.823 Q130.024 260.318 127.015 260.318 Q123.982 260.318 122.293 261.823 Q120.626 263.327 120.626 266.013 Z\" fill=\"#000000\" fill-rule=\"nonzero\" fill-opacity=\"1\" /><path clip-path=\"url(#clip200)\" d=\"M157.177 260.318 Q153.566 260.318 151.737 263.883 Q149.931 267.425 149.931 274.554 Q149.931 281.661 151.737 285.225 Q153.566 288.767 157.177 288.767 Q160.811 288.767 162.616 285.225 Q164.445 281.661 164.445 274.554 Q164.445 267.425 162.616 263.883 Q160.811 260.318 157.177 260.318 M157.177 256.615 Q162.987 256.615 166.042 261.221 Q169.121 265.804 169.121 274.554 Q169.121 283.281 166.042 287.888 Q162.987 292.471 157.177 292.471 Q151.366 292.471 148.288 287.888 Q145.232 283.281 145.232 274.554 Q145.232 265.804 148.288 261.221 Q151.366 256.615 157.177 256.615 Z\" fill=\"#000000\" fill-rule=\"nonzero\" fill-opacity=\"1\" /><path clip-path=\"url(#clip200)\" d=\"M35.3266 911.591 L35.3266 920.853 L45.9574 923.527 L45.9574 914.201 L35.3266 911.591 M17.2162 916.365 L30.4251 919.676 L30.4251 910.382 L17.2162 907.04 L17.2162 901.947 L30.4251 905.225 L30.4251 895.295 L35.3266 895.295 L35.3266 906.467 L45.9574 909.077 L45.9574 898.955 L50.8271 898.955 L50.8271 910.318 L64.0042 913.628 L64.0042 918.721 L50.8271 915.442 L50.8271 924.768 L64.0042 928.046 L64.0042 933.171 L50.8271 929.861 L50.8271 939.887 L45.9574 939.887 L45.9574 928.683 L35.3266 926.009 L35.3266 936.258 L30.4251 936.258 L30.4251 924.768 L17.2162 921.522 L17.2162 916.365 Z\" fill=\"#000000\" fill-rule=\"nonzero\" fill-opacity=\"1\" /><path clip-path=\"url(#clip200)\" d=\"M32.4621 849.621 Q32.4621 854.332 36.1542 857.069 Q39.8145 859.806 46.212 859.806 Q52.6095 859.806 56.3017 857.101 Q59.9619 854.363 59.9619 849.621 Q59.9619 844.942 56.2698 842.205 Q52.5777 839.468 46.212 839.468 Q39.8781 839.468 36.186 842.205 Q32.4621 844.942 32.4621 849.621 M27.4968 849.621 Q27.4968 841.982 32.4621 837.622 Q37.4273 833.261 46.212 833.261 Q54.9649 833.261 59.9619 837.622 Q64.9272 841.982 64.9272 849.621 Q64.9272 857.292 59.9619 861.652 Q54.9649 865.981 46.212 865.981 Q37.4273 865.981 32.4621 861.652 Q27.4968 857.292 27.4968 849.621 Z\" fill=\"#000000\" fill-rule=\"nonzero\" fill-opacity=\"1\" /><path clip-path=\"url(#clip200)\" d=\"M14.479 805.507 L19.3487 805.507 L19.3487 811.108 Q19.3487 814.259 20.6219 815.501 Q21.895 816.71 25.2052 816.71 L28.3562 816.71 L28.3562 807.066 L32.9077 807.066 L32.9077 816.71 L64.0042 816.71 L64.0042 822.599 L32.9077 822.599 L32.9077 828.2 L28.3562 828.2 L28.3562 822.599 L25.8736 822.599 Q19.9216 822.599 17.2162 819.829 Q14.479 817.06 14.479 811.045 L14.479 805.507 Z\" fill=\"#000000\" fill-rule=\"nonzero\" fill-opacity=\"1\" /><path clip-path=\"url(#clip200)\" d=\"M29.4065 757.159 L34.9447 757.159 Q33.6716 759.642 33.035 762.315 Q32.3984 764.989 32.3984 767.853 Q32.3984 772.214 33.7352 774.41 Q35.072 776.574 37.7456 776.574 Q39.7826 776.574 40.9603 775.015 Q42.1061 773.455 43.1565 768.745 L43.6021 766.739 Q44.9389 760.501 47.3897 757.891 Q49.8086 755.249 54.1691 755.249 Q59.1344 755.249 62.0308 759.196 Q64.9272 763.111 64.9272 769.986 Q64.9272 772.851 64.3543 775.97 Q63.8132 779.057 62.6992 782.495 L56.6518 782.495 Q58.3387 779.248 59.198 776.097 Q60.0256 772.946 60.0256 769.859 Q60.0256 765.721 58.6251 763.493 Q57.1929 761.265 54.6147 761.265 Q52.2276 761.265 50.9545 762.888 Q49.6813 764.48 48.5037 769.922 L48.0262 771.959 Q46.8804 777.402 44.5251 779.821 Q42.138 782.24 38.0002 782.24 Q32.9713 782.24 30.2341 778.675 Q27.4968 775.11 27.4968 768.554 Q27.4968 765.307 27.9743 762.443 Q28.4517 759.578 29.4065 757.159 Z\" fill=\"#000000\" fill-rule=\"nonzero\" fill-opacity=\"1\" /><path clip-path=\"url(#clip200)\" d=\"M46.0847 729.723 Q46.0847 736.821 47.7079 739.558 Q49.3312 742.295 53.2461 742.295 Q56.3653 742.295 58.2114 740.258 Q60.0256 738.189 60.0256 734.656 Q60.0256 729.787 56.5881 726.858 Q53.1188 723.898 47.3897 723.898 L46.0847 723.898 L46.0847 729.723 M43.6657 718.042 L64.0042 718.042 L64.0042 723.898 L58.5933 723.898 Q61.8398 725.903 63.3994 728.895 Q64.9272 731.887 64.9272 736.216 Q64.9272 741.69 61.8716 744.937 Q58.7843 748.152 53.6281 748.152 Q47.6125 748.152 44.5569 744.141 Q41.5014 740.099 41.5014 732.11 L41.5014 723.898 L40.9285 723.898 Q36.8862 723.898 34.6901 726.572 Q32.4621 729.214 32.4621 734.02 Q32.4621 737.075 33.1941 739.972 Q33.9262 742.868 35.3903 745.542 L29.9795 745.542 Q28.7381 742.327 28.1334 739.303 Q27.4968 736.28 27.4968 733.415 Q27.4968 725.681 31.5072 721.861 Q35.5176 718.042 43.6657 718.042 Z\" fill=\"#000000\" fill-rule=\"nonzero\" fill-opacity=\"1\" /><path clip-path=\"url(#clip200)\" d=\"M35.1993 678.224 Q31.2526 676.028 29.3747 672.973 Q27.4968 669.917 27.4968 665.779 Q27.4968 660.209 31.4117 657.186 Q35.2948 654.162 42.4881 654.162 L64.0042 654.162 L64.0042 660.05 L42.679 660.05 Q37.5546 660.05 35.072 661.864 Q32.5894 663.679 32.5894 667.403 Q32.5894 671.954 35.6131 674.596 Q38.6368 677.238 43.8567 677.238 L64.0042 677.238 L64.0042 683.126 L42.679 683.126 Q37.5228 683.126 35.072 684.94 Q32.5894 686.754 32.5894 690.542 Q32.5894 695.03 35.6449 697.672 Q38.6686 700.313 43.8567 700.313 L64.0042 700.313 L64.0042 706.202 L28.3562 706.202 L28.3562 700.313 L33.8944 700.313 Q30.616 698.308 29.0564 695.507 Q27.4968 692.706 27.4968 688.855 Q27.4968 684.972 29.4702 682.267 Q31.4436 679.529 35.1993 678.224 Z\" fill=\"#000000\" fill-rule=\"nonzero\" fill-opacity=\"1\" /><path clip-path=\"url(#clip200)\" d=\"M58.657 636.815 L77.5631 636.815 L77.5631 642.704 L28.3562 642.704 L28.3562 636.815 L33.7671 636.815 Q30.5842 634.969 29.0564 632.168 Q27.4968 629.336 27.4968 625.421 Q27.4968 618.928 32.6531 614.886 Q37.8093 610.811 46.212 610.811 Q54.6147 610.811 59.771 614.886 Q64.9272 618.928 64.9272 625.421 Q64.9272 629.336 63.3994 632.168 Q61.8398 634.969 58.657 636.815 M46.212 616.891 Q39.7508 616.891 36.0905 619.564 Q32.3984 622.206 32.3984 626.853 Q32.3984 631.5 36.0905 634.174 Q39.7508 636.815 46.212 636.815 Q52.6732 636.815 56.3653 634.174 Q60.0256 631.5 60.0256 626.853 Q60.0256 622.206 56.3653 619.564 Q52.6732 616.891 46.212 616.891 Z\" fill=\"#000000\" fill-rule=\"nonzero\" fill-opacity=\"1\" /><path clip-path=\"url(#clip200)\" d=\"M14.479 601.104 L14.479 595.247 L64.0042 595.247 L64.0042 601.104 L14.479 601.104 Z\" fill=\"#000000\" fill-rule=\"nonzero\" fill-opacity=\"1\" /><path clip-path=\"url(#clip200)\" d=\"M44.7161 552.502 L47.5806 552.502 L47.5806 579.429 Q53.6281 579.047 56.8109 575.8 Q59.9619 572.522 59.9619 566.697 Q59.9619 563.323 59.1344 560.172 Q58.3069 556.989 56.6518 553.87 L62.1899 553.87 Q63.5267 557.021 64.227 560.331 Q64.9272 563.642 64.9272 567.047 Q64.9272 575.577 59.9619 580.574 Q54.9967 585.54 46.5303 585.54 Q37.7774 585.54 32.6531 580.829 Q27.4968 576.087 27.4968 568.066 Q27.4968 560.872 32.1438 556.703 Q36.7589 552.502 44.7161 552.502 M42.9973 558.358 Q38.1912 558.422 35.3266 561.063 Q32.4621 563.673 32.4621 568.002 Q32.4621 572.904 35.2312 575.864 Q38.0002 578.792 43.0292 579.238 L42.9973 558.358 Z\" fill=\"#000000\" fill-rule=\"nonzero\" fill-opacity=\"1\" /><path clip-path=\"url(#clip200)\" d=\"M29.4065 520.164 L34.9447 520.164 Q33.6716 522.646 33.035 525.32 Q32.3984 527.994 32.3984 530.858 Q32.3984 535.219 33.7352 537.415 Q35.072 539.579 37.7456 539.579 Q39.7826 539.579 40.9603 538.02 Q42.1061 536.46 43.1565 531.749 L43.6021 529.744 Q44.9389 523.506 47.3897 520.896 Q49.8086 518.254 54.1691 518.254 Q59.1344 518.254 62.0308 522.201 Q64.9272 526.116 64.9272 532.991 Q64.9272 535.855 64.3543 538.974 Q63.8132 542.062 62.6992 545.499 L56.6518 545.499 Q58.3387 542.253 59.198 539.102 Q60.0256 535.951 60.0256 532.863 Q60.0256 528.726 58.6251 526.498 Q57.1929 524.27 54.6147 524.27 Q52.2276 524.27 50.9545 525.893 Q49.6813 527.484 48.5037 532.927 L48.0262 534.964 Q46.8804 540.407 44.5251 542.826 Q42.138 545.245 38.0002 545.245 Q32.9713 545.245 30.2341 541.68 Q27.4968 538.115 27.4968 531.558 Q27.4968 528.312 27.9743 525.447 Q28.4517 522.583 29.4065 520.164 Z\" fill=\"#000000\" fill-rule=\"nonzero\" fill-opacity=\"1\" /><path clip-path=\"url(#clip202)\" d=\"M323.245 1396.69 L323.245 1410.9 L450.671 1410.9 L450.671 1396.69 L323.245 1396.69 L323.245 1396.69  Z\" fill=\"#009af9\" fill-rule=\"evenodd\" fill-opacity=\"1\"/>\n",
       "<polyline clip-path=\"url(#clip202)\" style=\"stroke:#000000; stroke-linecap:round; stroke-linejoin:round; stroke-width:4; stroke-opacity:1; fill:none\" points=\"323.245,1396.69 323.245,1410.9 450.671,1410.9 450.671,1396.69 323.245,1396.69 \"/>\n",
       "<path clip-path=\"url(#clip202)\" d=\"M450.671 1410.9 L450.671 1410.9 L578.096 1410.9 L578.096 1410.9 L450.671 1410.9 L450.671 1410.9  Z\" fill=\"#009af9\" fill-rule=\"evenodd\" fill-opacity=\"1\"/>\n",
       "<polyline clip-path=\"url(#clip202)\" style=\"stroke:#000000; stroke-linecap:round; stroke-linejoin:round; stroke-width:4; stroke-opacity:1; fill:none\" points=\"450.671,1410.9 450.671,1410.9 578.096,1410.9 450.671,1410.9 \"/>\n",
       "<path clip-path=\"url(#clip202)\" d=\"M578.096 1325.67 L578.096 1410.9 L705.522 1410.9 L705.522 1325.67 L578.096 1325.67 L578.096 1325.67  Z\" fill=\"#009af9\" fill-rule=\"evenodd\" fill-opacity=\"1\"/>\n",
       "<polyline clip-path=\"url(#clip202)\" style=\"stroke:#000000; stroke-linecap:round; stroke-linejoin:round; stroke-width:4; stroke-opacity:1; fill:none\" points=\"578.096,1325.67 578.096,1410.9 705.522,1410.9 705.522,1325.67 578.096,1325.67 \"/>\n",
       "<path clip-path=\"url(#clip202)\" d=\"M705.522 1155.21 L705.522 1410.9 L832.948 1410.9 L832.948 1155.21 L705.522 1155.21 L705.522 1155.21  Z\" fill=\"#009af9\" fill-rule=\"evenodd\" fill-opacity=\"1\"/>\n",
       "<polyline clip-path=\"url(#clip202)\" style=\"stroke:#000000; stroke-linecap:round; stroke-linejoin:round; stroke-width:4; stroke-opacity:1; fill:none\" points=\"705.522,1155.21 705.522,1410.9 832.948,1410.9 832.948,1155.21 705.522,1155.21 \"/>\n",
       "<path clip-path=\"url(#clip202)\" d=\"M832.948 757.48 L832.948 1410.9 L960.374 1410.9 L960.374 757.48 L832.948 757.48 L832.948 757.48  Z\" fill=\"#009af9\" fill-rule=\"evenodd\" fill-opacity=\"1\"/>\n",
       "<polyline clip-path=\"url(#clip202)\" style=\"stroke:#000000; stroke-linecap:round; stroke-linejoin:round; stroke-width:4; stroke-opacity:1; fill:none\" points=\"832.948,757.48 832.948,1410.9 960.374,1410.9 960.374,757.48 832.948,757.48 \"/>\n",
       "<path clip-path=\"url(#clip202)\" d=\"M960.374 104.063 L960.374 1410.9 L1087.8 1410.9 L1087.8 104.063 L960.374 104.063 L960.374 104.063  Z\" fill=\"#009af9\" fill-rule=\"evenodd\" fill-opacity=\"1\"/>\n",
       "<polyline clip-path=\"url(#clip202)\" style=\"stroke:#000000; stroke-linecap:round; stroke-linejoin:round; stroke-width:4; stroke-opacity:1; fill:none\" points=\"960.374,104.063 960.374,1410.9 1087.8,1410.9 1087.8,104.063 960.374,104.063 \"/>\n",
       "<path clip-path=\"url(#clip202)\" d=\"M1087.8 47.2441 L1087.8 1410.9 L1215.23 1410.9 L1215.23 47.2441 L1087.8 47.2441 L1087.8 47.2441  Z\" fill=\"#009af9\" fill-rule=\"evenodd\" fill-opacity=\"1\"/>\n",
       "<polyline clip-path=\"url(#clip202)\" style=\"stroke:#000000; stroke-linecap:round; stroke-linejoin:round; stroke-width:4; stroke-opacity:1; fill:none\" points=\"1087.8,47.2441 1087.8,1410.9 1215.23,1410.9 1215.23,47.2441 1087.8,47.2441 \"/>\n",
       "<path clip-path=\"url(#clip202)\" d=\"M1215.23 160.882 L1215.23 1410.9 L1342.65 1410.9 L1342.65 160.882 L1215.23 160.882 L1215.23 160.882  Z\" fill=\"#009af9\" fill-rule=\"evenodd\" fill-opacity=\"1\"/>\n",
       "<polyline clip-path=\"url(#clip202)\" style=\"stroke:#000000; stroke-linecap:round; stroke-linejoin:round; stroke-width:4; stroke-opacity:1; fill:none\" points=\"1215.23,160.882 1215.23,1410.9 1342.65,1410.9 1342.65,160.882 1215.23,160.882 \"/>\n",
       "<path clip-path=\"url(#clip202)\" d=\"M1342.65 203.496 L1342.65 1410.9 L1470.08 1410.9 L1470.08 203.496 L1342.65 203.496 L1342.65 203.496  Z\" fill=\"#009af9\" fill-rule=\"evenodd\" fill-opacity=\"1\"/>\n",
       "<polyline clip-path=\"url(#clip202)\" style=\"stroke:#000000; stroke-linecap:round; stroke-linejoin:round; stroke-width:4; stroke-opacity:1; fill:none\" points=\"1342.65,203.496 1342.65,1410.9 1470.08,1410.9 1470.08,203.496 1342.65,203.496 \"/>\n",
       "<path clip-path=\"url(#clip202)\" d=\"M1470.08 729.07 L1470.08 1410.9 L1597.5 1410.9 L1597.5 729.07 L1470.08 729.07 L1470.08 729.07  Z\" fill=\"#009af9\" fill-rule=\"evenodd\" fill-opacity=\"1\"/>\n",
       "<polyline clip-path=\"url(#clip202)\" style=\"stroke:#000000; stroke-linecap:round; stroke-linejoin:round; stroke-width:4; stroke-opacity:1; fill:none\" points=\"1470.08,729.07 1470.08,1410.9 1597.5,1410.9 1597.5,729.07 1470.08,729.07 \"/>\n",
       "<path clip-path=\"url(#clip202)\" d=\"M1597.5 814.299 L1597.5 1410.9 L1724.93 1410.9 L1724.93 814.299 L1597.5 814.299 L1597.5 814.299  Z\" fill=\"#009af9\" fill-rule=\"evenodd\" fill-opacity=\"1\"/>\n",
       "<polyline clip-path=\"url(#clip202)\" style=\"stroke:#000000; stroke-linecap:round; stroke-linejoin:round; stroke-width:4; stroke-opacity:1; fill:none\" points=\"1597.5,814.299 1597.5,1410.9 1724.93,1410.9 1724.93,814.299 1597.5,814.299 \"/>\n",
       "<path clip-path=\"url(#clip202)\" d=\"M1724.93 998.96 L1724.93 1410.9 L1852.35 1410.9 L1852.35 998.96 L1724.93 998.96 L1724.93 998.96  Z\" fill=\"#009af9\" fill-rule=\"evenodd\" fill-opacity=\"1\"/>\n",
       "<polyline clip-path=\"url(#clip202)\" style=\"stroke:#000000; stroke-linecap:round; stroke-linejoin:round; stroke-width:4; stroke-opacity:1; fill:none\" points=\"1724.93,998.96 1724.93,1410.9 1852.35,1410.9 1852.35,998.96 1724.93,998.96 \"/>\n",
       "<path clip-path=\"url(#clip202)\" d=\"M1852.35 1212.03 L1852.35 1410.9 L1979.78 1410.9 L1979.78 1212.03 L1852.35 1212.03 L1852.35 1212.03  Z\" fill=\"#009af9\" fill-rule=\"evenodd\" fill-opacity=\"1\"/>\n",
       "<polyline clip-path=\"url(#clip202)\" style=\"stroke:#000000; stroke-linecap:round; stroke-linejoin:round; stroke-width:4; stroke-opacity:1; fill:none\" points=\"1852.35,1212.03 1852.35,1410.9 1979.78,1410.9 1979.78,1212.03 1852.35,1212.03 \"/>\n",
       "<path clip-path=\"url(#clip202)\" d=\"M1979.78 1027.37 L1979.78 1410.9 L2107.21 1410.9 L2107.21 1027.37 L1979.78 1027.37 L1979.78 1027.37  Z\" fill=\"#009af9\" fill-rule=\"evenodd\" fill-opacity=\"1\"/>\n",
       "<polyline clip-path=\"url(#clip202)\" style=\"stroke:#000000; stroke-linecap:round; stroke-linejoin:round; stroke-width:4; stroke-opacity:1; fill:none\" points=\"1979.78,1027.37 1979.78,1410.9 2107.21,1410.9 2107.21,1027.37 1979.78,1027.37 \"/>\n",
       "<path clip-path=\"url(#clip202)\" d=\"M2107.21 1382.49 L2107.21 1410.9 L2234.63 1410.9 L2234.63 1382.49 L2107.21 1382.49 L2107.21 1382.49  Z\" fill=\"#009af9\" fill-rule=\"evenodd\" fill-opacity=\"1\"/>\n",
       "<polyline clip-path=\"url(#clip202)\" style=\"stroke:#000000; stroke-linecap:round; stroke-linejoin:round; stroke-width:4; stroke-opacity:1; fill:none\" points=\"2107.21,1382.49 2107.21,1410.9 2234.63,1410.9 2234.63,1382.49 2107.21,1382.49 \"/>\n",
       "<circle clip-path=\"url(#clip202)\" style=\"fill:#009af9; stroke:none; fill-opacity:0\" cx=\"386.958\" cy=\"1396.69\" r=\"2\"/>\n",
       "<circle clip-path=\"url(#clip202)\" style=\"fill:#009af9; stroke:none; fill-opacity:0\" cx=\"514.383\" cy=\"1410.9\" r=\"2\"/>\n",
       "<circle clip-path=\"url(#clip202)\" style=\"fill:#009af9; stroke:none; fill-opacity:0\" cx=\"641.809\" cy=\"1325.67\" r=\"2\"/>\n",
       "<circle clip-path=\"url(#clip202)\" style=\"fill:#009af9; stroke:none; fill-opacity:0\" cx=\"769.235\" cy=\"1155.21\" r=\"2\"/>\n",
       "<circle clip-path=\"url(#clip202)\" style=\"fill:#009af9; stroke:none; fill-opacity:0\" cx=\"896.661\" cy=\"757.48\" r=\"2\"/>\n",
       "<circle clip-path=\"url(#clip202)\" style=\"fill:#009af9; stroke:none; fill-opacity:0\" cx=\"1024.09\" cy=\"104.063\" r=\"2\"/>\n",
       "<circle clip-path=\"url(#clip202)\" style=\"fill:#009af9; stroke:none; fill-opacity:0\" cx=\"1151.51\" cy=\"47.2441\" r=\"2\"/>\n",
       "<circle clip-path=\"url(#clip202)\" style=\"fill:#009af9; stroke:none; fill-opacity:0\" cx=\"1278.94\" cy=\"160.882\" r=\"2\"/>\n",
       "<circle clip-path=\"url(#clip202)\" style=\"fill:#009af9; stroke:none; fill-opacity:0\" cx=\"1406.36\" cy=\"203.496\" r=\"2\"/>\n",
       "<circle clip-path=\"url(#clip202)\" style=\"fill:#009af9; stroke:none; fill-opacity:0\" cx=\"1533.79\" cy=\"729.07\" r=\"2\"/>\n",
       "<circle clip-path=\"url(#clip202)\" style=\"fill:#009af9; stroke:none; fill-opacity:0\" cx=\"1661.22\" cy=\"814.299\" r=\"2\"/>\n",
       "<circle clip-path=\"url(#clip202)\" style=\"fill:#009af9; stroke:none; fill-opacity:0\" cx=\"1788.64\" cy=\"998.96\" r=\"2\"/>\n",
       "<circle clip-path=\"url(#clip202)\" style=\"fill:#009af9; stroke:none; fill-opacity:0\" cx=\"1916.07\" cy=\"1212.03\" r=\"2\"/>\n",
       "<circle clip-path=\"url(#clip202)\" style=\"fill:#009af9; stroke:none; fill-opacity:0\" cx=\"2043.49\" cy=\"1027.37\" r=\"2\"/>\n",
       "<circle clip-path=\"url(#clip202)\" style=\"fill:#009af9; stroke:none; fill-opacity:0\" cx=\"2170.92\" cy=\"1382.49\" r=\"2\"/>\n",
       "<polyline clip-path=\"url(#clip202)\" style=\"stroke:#e26f46; stroke-linecap:round; stroke-linejoin:round; stroke-width:4; stroke-opacity:1; fill:none\" points=\"1650.29,2774.55 1650.29,-1316.41 \"/>\n",
       "<path clip-path=\"url(#clip200)\" d=\"M1688.42 196.379 L2281.17 196.379 L2281.17 92.6992 L1688.42 92.6992  Z\" fill=\"#ffffff\" fill-rule=\"evenodd\" fill-opacity=\"1\"/>\n",
       "<polyline clip-path=\"url(#clip200)\" style=\"stroke:#000000; stroke-linecap:round; stroke-linejoin:round; stroke-width:4; stroke-opacity:1; fill:none\" points=\"1688.42,196.379 2281.17,196.379 2281.17,92.6992 1688.42,92.6992 1688.42,196.379 \"/>\n",
       "<polyline clip-path=\"url(#clip200)\" style=\"stroke:#e26f46; stroke-linecap:round; stroke-linejoin:round; stroke-width:4; stroke-opacity:1; fill:none\" points=\"1712.28,144.539 1855.46,144.539 \"/>\n",
       "<path clip-path=\"url(#clip200)\" d=\"M1901.03 146.171 L1901.03 161.819 L1896.77 161.819 L1896.77 146.31 Q1896.77 142.629 1895.34 140.801 Q1893.9 138.972 1891.03 138.972 Q1887.59 138.972 1885.59 141.171 Q1883.6 143.37 1883.6 147.166 L1883.6 161.819 L1879.32 161.819 L1879.32 135.893 L1883.6 135.893 L1883.6 139.921 Q1885.13 137.583 1887.19 136.426 Q1889.28 135.268 1891.98 135.268 Q1896.45 135.268 1898.74 138.046 Q1901.03 140.801 1901.03 146.171 Z\" fill=\"#000000\" fill-rule=\"nonzero\" fill-opacity=\"1\" /><path clip-path=\"url(#clip200)\" d=\"M1931.71 147.791 L1931.71 149.875 L1912.12 149.875 Q1912.4 154.273 1914.76 156.588 Q1917.15 158.879 1921.38 158.879 Q1923.84 158.879 1926.13 158.278 Q1928.44 157.676 1930.71 156.472 L1930.71 160.5 Q1928.42 161.472 1926.01 161.981 Q1923.6 162.49 1921.13 162.49 Q1914.92 162.49 1911.29 158.879 Q1907.68 155.268 1907.68 149.111 Q1907.68 142.745 1911.1 139.018 Q1914.55 135.268 1920.39 135.268 Q1925.62 135.268 1928.65 138.648 Q1931.71 142.004 1931.71 147.791 M1927.45 146.541 Q1927.4 143.046 1925.48 140.963 Q1923.58 138.879 1920.43 138.879 Q1916.87 138.879 1914.71 140.893 Q1912.59 142.907 1912.26 146.565 L1927.45 146.541 Z\" fill=\"#000000\" fill-rule=\"nonzero\" fill-opacity=\"1\" /><path clip-path=\"url(#clip200)\" d=\"M1955.76 148.555 Q1955.76 143.926 1953.83 141.379 Q1951.94 138.833 1948.49 138.833 Q1945.06 138.833 1943.14 141.379 Q1941.24 143.926 1941.24 148.555 Q1941.24 153.162 1943.14 155.708 Q1945.06 158.254 1948.49 158.254 Q1951.94 158.254 1953.83 155.708 Q1955.76 153.162 1955.76 148.555 M1960.02 158.602 Q1960.02 165.222 1957.08 168.44 Q1954.14 171.68 1948.07 171.68 Q1945.83 171.68 1943.83 171.333 Q1941.84 171.009 1939.97 170.315 L1939.97 166.171 Q1941.84 167.19 1943.67 167.676 Q1945.5 168.162 1947.4 168.162 Q1951.59 168.162 1953.67 165.963 Q1955.76 163.787 1955.76 159.365 L1955.76 157.259 Q1954.44 159.551 1952.38 160.685 Q1950.32 161.819 1947.45 161.819 Q1942.68 161.819 1939.76 158.185 Q1936.84 154.551 1936.84 148.555 Q1936.84 142.537 1939.76 138.903 Q1942.68 135.268 1947.45 135.268 Q1950.32 135.268 1952.38 136.403 Q1954.44 137.537 1955.76 139.829 L1955.76 135.893 L1960.02 135.893 L1960.02 158.602 Z\" fill=\"#000000\" fill-rule=\"nonzero\" fill-opacity=\"1\" /><path clip-path=\"url(#clip200)\" d=\"M1980.57 148.787 Q1975.41 148.787 1973.42 149.967 Q1971.43 151.148 1971.43 153.995 Q1971.43 156.264 1972.91 157.606 Q1974.41 158.926 1976.98 158.926 Q1980.52 158.926 1982.65 156.426 Q1984.81 153.903 1984.81 149.736 L1984.81 148.787 L1980.57 148.787 M1989.07 147.028 L1989.07 161.819 L1984.81 161.819 L1984.81 157.884 Q1983.35 160.245 1981.17 161.379 Q1979 162.49 1975.85 162.49 Q1971.87 162.49 1969.51 160.268 Q1967.17 158.023 1967.17 154.273 Q1967.17 149.898 1970.08 147.676 Q1973.02 145.454 1978.83 145.454 L1984.81 145.454 L1984.81 145.037 Q1984.81 142.097 1982.86 140.5 Q1980.94 138.879 1977.45 138.879 Q1975.22 138.879 1973.12 139.412 Q1971.01 139.944 1969.07 141.009 L1969.07 137.074 Q1971.4 136.171 1973.6 135.731 Q1975.8 135.268 1977.89 135.268 Q1983.51 135.268 1986.29 138.185 Q1989.07 141.102 1989.07 147.028 Z\" fill=\"#000000\" fill-rule=\"nonzero\" fill-opacity=\"1\" /><path clip-path=\"url(#clip200)\" d=\"M2002.05 128.532 L2002.05 135.893 L2010.83 135.893 L2010.83 139.204 L2002.05 139.204 L2002.05 153.278 Q2002.05 156.449 2002.91 157.352 Q2003.79 158.254 2006.45 158.254 L2010.83 158.254 L2010.83 161.819 L2006.45 161.819 Q2001.52 161.819 1999.64 159.99 Q1997.77 158.139 1997.77 153.278 L1997.77 139.204 L1994.64 139.204 L1994.64 135.893 L1997.77 135.893 L1997.77 128.532 L2002.05 128.532 Z\" fill=\"#000000\" fill-rule=\"nonzero\" fill-opacity=\"1\" /><path clip-path=\"url(#clip200)\" d=\"M2016.43 135.893 L2020.69 135.893 L2020.69 161.819 L2016.43 161.819 L2016.43 135.893 M2016.43 125.801 L2020.69 125.801 L2020.69 131.194 L2016.43 131.194 L2016.43 125.801 Z\" fill=\"#000000\" fill-rule=\"nonzero\" fill-opacity=\"1\" /><path clip-path=\"url(#clip200)\" d=\"M2026.54 135.893 L2031.06 135.893 L2039.16 157.653 L2047.26 135.893 L2051.77 135.893 L2042.05 161.819 L2036.26 161.819 L2026.54 135.893 Z\" fill=\"#000000\" fill-rule=\"nonzero\" fill-opacity=\"1\" /><path clip-path=\"url(#clip200)\" d=\"M2079.83 147.791 L2079.83 149.875 L2060.25 149.875 Q2060.52 154.273 2062.89 156.588 Q2065.27 158.879 2069.51 158.879 Q2071.96 158.879 2074.25 158.278 Q2076.57 157.676 2078.83 156.472 L2078.83 160.5 Q2076.54 161.472 2074.14 161.981 Q2071.73 162.49 2069.25 162.49 Q2063.05 162.49 2059.41 158.879 Q2055.8 155.268 2055.8 149.111 Q2055.8 142.745 2059.23 139.018 Q2062.68 135.268 2068.51 135.268 Q2073.74 135.268 2076.77 138.648 Q2079.83 142.004 2079.83 147.791 M2075.57 146.541 Q2075.52 143.046 2073.6 140.963 Q2071.7 138.879 2068.56 138.879 Q2064.99 138.879 2062.84 140.893 Q2060.71 142.907 2060.39 146.565 L2075.57 146.541 Z\" fill=\"#000000\" fill-rule=\"nonzero\" fill-opacity=\"1\" /><path clip-path=\"url(#clip200)\" d=\"M2120.55 136.889 L2120.55 140.87 Q2118.74 139.875 2116.91 139.389 Q2115.11 138.879 2113.26 138.879 Q2109.11 138.879 2106.82 141.518 Q2104.53 144.134 2104.53 148.879 Q2104.53 153.625 2106.82 156.264 Q2109.11 158.879 2113.26 158.879 Q2115.11 158.879 2116.91 158.393 Q2118.74 157.884 2120.55 156.889 L2120.55 160.824 Q2118.76 161.657 2116.84 162.074 Q2114.95 162.49 2112.79 162.49 Q2106.94 162.49 2103.49 158.81 Q2100.04 155.129 2100.04 148.879 Q2100.04 142.537 2103.51 138.903 Q2107.01 135.268 2113.07 135.268 Q2115.04 135.268 2116.91 135.685 Q2118.79 136.079 2120.55 136.889 Z\" fill=\"#000000\" fill-rule=\"nonzero\" fill-opacity=\"1\" /><path clip-path=\"url(#clip200)\" d=\"M2138 138.879 Q2134.57 138.879 2132.58 141.565 Q2130.59 144.227 2130.59 148.879 Q2130.59 153.532 2132.56 156.217 Q2134.55 158.879 2138 158.879 Q2141.4 158.879 2143.39 156.194 Q2145.38 153.509 2145.38 148.879 Q2145.38 144.273 2143.39 141.588 Q2141.4 138.879 2138 138.879 M2138 135.268 Q2143.56 135.268 2146.73 138.879 Q2149.9 142.491 2149.9 148.879 Q2149.9 155.245 2146.73 158.879 Q2143.56 162.49 2138 162.49 Q2132.42 162.49 2129.25 158.879 Q2126.1 155.245 2126.1 148.879 Q2126.1 142.491 2129.25 138.879 Q2132.42 135.268 2138 135.268 Z\" fill=\"#000000\" fill-rule=\"nonzero\" fill-opacity=\"1\" /><path clip-path=\"url(#clip200)\" d=\"M2178.51 146.171 L2178.51 161.819 L2174.25 161.819 L2174.25 146.31 Q2174.25 142.629 2172.82 140.801 Q2171.38 138.972 2168.51 138.972 Q2165.06 138.972 2163.07 141.171 Q2161.08 143.37 2161.08 147.166 L2161.08 161.819 L2156.8 161.819 L2156.8 135.893 L2161.08 135.893 L2161.08 139.921 Q2162.61 137.583 2164.67 136.426 Q2166.75 135.268 2169.46 135.268 Q2173.93 135.268 2176.22 138.046 Q2178.51 140.801 2178.51 146.171 Z\" fill=\"#000000\" fill-rule=\"nonzero\" fill-opacity=\"1\" /><path clip-path=\"url(#clip200)\" d=\"M2191.22 128.532 L2191.22 135.893 L2199.99 135.893 L2199.99 139.204 L2191.22 139.204 L2191.22 153.278 Q2191.22 156.449 2192.07 157.352 Q2192.95 158.254 2195.62 158.254 L2199.99 158.254 L2199.99 161.819 L2195.62 161.819 Q2190.69 161.819 2188.81 159.99 Q2186.94 158.139 2186.94 153.278 L2186.94 139.204 L2183.81 139.204 L2183.81 135.893 L2186.94 135.893 L2186.94 128.532 L2191.22 128.532 Z\" fill=\"#000000\" fill-rule=\"nonzero\" fill-opacity=\"1\" /><path clip-path=\"url(#clip200)\" d=\"M2220.62 139.875 Q2219.9 139.458 2219.04 139.273 Q2218.21 139.065 2217.19 139.065 Q2213.58 139.065 2211.63 141.426 Q2209.71 143.764 2209.71 148.162 L2209.71 161.819 L2205.43 161.819 L2205.43 135.893 L2209.71 135.893 L2209.71 139.921 Q2211.06 137.56 2213.21 136.426 Q2215.36 135.268 2218.44 135.268 Q2218.88 135.268 2219.41 135.338 Q2219.94 135.384 2220.59 135.5 L2220.62 139.875 Z\" fill=\"#000000\" fill-rule=\"nonzero\" fill-opacity=\"1\" /><path clip-path=\"url(#clip200)\" d=\"M2234.09 138.879 Q2230.66 138.879 2228.67 141.565 Q2226.68 144.227 2226.68 148.879 Q2226.68 153.532 2228.65 156.217 Q2230.64 158.879 2234.09 158.879 Q2237.49 158.879 2239.48 156.194 Q2241.47 153.509 2241.47 148.879 Q2241.47 144.273 2239.48 141.588 Q2237.49 138.879 2234.09 138.879 M2234.09 135.268 Q2239.64 135.268 2242.81 138.879 Q2245.99 142.491 2245.99 148.879 Q2245.99 155.245 2242.81 158.879 Q2239.64 162.49 2234.09 162.49 Q2228.51 162.49 2225.34 158.879 Q2222.19 155.245 2222.19 148.879 Q2222.19 142.491 2225.34 138.879 Q2228.51 135.268 2234.09 135.268 Z\" fill=\"#000000\" fill-rule=\"nonzero\" fill-opacity=\"1\" /><path clip-path=\"url(#clip200)\" d=\"M2253.05 125.801 L2257.31 125.801 L2257.31 161.819 L2253.05 161.819 L2253.05 125.801 Z\" fill=\"#000000\" fill-rule=\"nonzero\" fill-opacity=\"1\" /></svg>\n"
      ]
     },
     "execution_count": 74,
     "metadata": {},
     "output_type": "execute_result"
    }
   ],
   "source": [
    "mean_mapped_bases = Statistics.mean(sample_summary_table[!, \"total_mapped_bases\"])\n",
    "std_mapped_bases = Statistics.std(sample_summary_table[!, \"total_mapped_bases\"])\n",
    "\n",
    "p = StatsPlots.histogram(\n",
    "    sample_summary_table[!, \"total_mapped_bases\"],\n",
    "    ylabel = \"# of samples\",\n",
    "    xlabel = \"# of mapped bases\",\n",
    "    label=\"\"\n",
    ")\n",
    "# p = StatsPlots.vline!(\n",
    "#     [mean_mapped_bases - 2.5std_mapped_bases],\n",
    "#     label=\"-2.5 standard deviations\"\n",
    "# )\n",
    "\n",
    "p = StatsPlots.vline!(\n",
    "        [sample_summary_table[findfirst(sample_summary_table[!, \"sample_id\"] .== \"SRR6399584\"), \"total_mapped_bases\"]],\n",
    "        label=\"negative control\"\n",
    "    )"
   ]
  },
  {
   "cell_type": "code",
   "execution_count": null,
   "id": "4dfd8acc-17a1-4b1d-84ac-15b843f31aba",
   "metadata": {},
   "outputs": [],
   "source": [
    "# first list\n",
    "\n",
    "# 1\tSRR6399584\tchaoexpo26_I6\n",
    "# 2\tSRR6399726\tchaoexpo62_I6\n",
    "# 3\tSRR6399596\tchaoexpo36_I15\n",
    "# 4\tSRR7365476\tchaoexpo27_I5\n",
    "# 5\tSRR6399525\tchaoexpo67_I12\n",
    "# 6\tSRR6399862\tchaoexpo17_I15\n",
    "# 7\tSRR6399652\txinexpo76_I5"
   ]
  },
  {
   "cell_type": "code",
   "execution_count": 80,
   "id": "373ab6e5-f382-40c2-8a58-e084364f1955",
   "metadata": {
    "tags": []
   },
   "outputs": [
    {
     "data": {
      "text/html": [
       "<div><div style = \"float: left;\"><span>10×6 DataFrame</span></div><div style = \"clear: both;\"></div></div><div class = \"data-frame\" style = \"overflow-x: scroll;\"><table class = \"data-frame\" style = \"margin-bottom: 6px;\"><thead><tr class = \"header\"><th class = \"rowNumber\" style = \"font-weight: bold; text-align: right;\">Row</th><th style = \"text-align: left;\">sample_id</th><th style = \"text-align: left;\">total_mapped_bases</th><th style = \"text-align: left;\">total_contigs</th><th style = \"text-align: left;\">total_assembly_size</th><th style = \"text-align: left;\">percent_contigs_viral</th><th style = \"text-align: left;\">percent_mapped_bases_viral</th></tr><tr class = \"subheader headerLastRow\"><th class = \"rowNumber\" style = \"font-weight: bold; text-align: right;\"></th><th title = \"String\" style = \"text-align: left;\">String</th><th title = \"Int64\" style = \"text-align: left;\">Int64</th><th title = \"Int64\" style = \"text-align: left;\">Int64</th><th title = \"Int64\" style = \"text-align: left;\">Int64</th><th title = \"Float64\" style = \"text-align: left;\">Float64</th><th title = \"Float64\" style = \"text-align: left;\">Float64</th></tr></thead><tbody><tr><td class = \"rowNumber\" style = \"font-weight: bold; text-align: right;\">1</td><td style = \"text-align: left;\">SRR7365468</td><td style = \"text-align: right;\">6080239502</td><td style = \"text-align: right;\">2794</td><td style = \"text-align: right;\">1518767</td><td style = \"text-align: right;\">7.695</td><td style = \"text-align: right;\">58.8741</td></tr><tr><td class = \"rowNumber\" style = \"font-weight: bold; text-align: right;\">2</td><td style = \"text-align: left;\">SRR6399623</td><td style = \"text-align: right;\">9640341032</td><td style = \"text-align: right;\">11671</td><td style = \"text-align: right;\">10777302</td><td style = \"text-align: right;\">2.562</td><td style = \"text-align: right;\">38.0192</td></tr><tr><td class = \"rowNumber\" style = \"font-weight: bold; text-align: right;\">3</td><td style = \"text-align: left;\">SRR7365469</td><td style = \"text-align: right;\">7342715424</td><td style = \"text-align: right;\">15088</td><td style = \"text-align: right;\">16836017</td><td style = \"text-align: right;\">1.306</td><td style = \"text-align: right;\">31.075</td></tr><tr><td class = \"rowNumber\" style = \"font-weight: bold; text-align: right;\">4</td><td style = \"text-align: left;\">SRR6399775</td><td style = \"text-align: right;\">12484379397</td><td style = \"text-align: right;\">13214</td><td style = \"text-align: right;\">11933173</td><td style = \"text-align: right;\">4.533</td><td style = \"text-align: right;\">27.6153</td></tr><tr><td class = \"rowNumber\" style = \"font-weight: bold; text-align: right;\">5</td><td style = \"text-align: left;\">SRR6399922</td><td style = \"text-align: right;\">12873397610</td><td style = \"text-align: right;\">9781</td><td style = \"text-align: right;\">12088982</td><td style = \"text-align: right;\">3.139</td><td style = \"text-align: right;\">24.3767</td></tr><tr><td class = \"rowNumber\" style = \"font-weight: bold; text-align: right;\">6</td><td style = \"text-align: left;\">SRR6399586</td><td style = \"text-align: right;\">10335671529</td><td style = \"text-align: right;\">18706</td><td style = \"text-align: right;\">18645284</td><td style = \"text-align: right;\">2.812</td><td style = \"text-align: right;\">22.4067</td></tr><tr><td class = \"rowNumber\" style = \"font-weight: bold; text-align: right;\">7</td><td style = \"text-align: left;\">SRR6399876</td><td style = \"text-align: right;\">15827208316</td><td style = \"text-align: right;\">41567</td><td style = \"text-align: right;\">47369804</td><td style = \"text-align: right;\">1.174</td><td style = \"text-align: right;\">22.02</td></tr><tr><td class = \"rowNumber\" style = \"font-weight: bold; text-align: right;\">8</td><td style = \"text-align: left;\">SRR6399929</td><td style = \"text-align: right;\">14638831124</td><td style = \"text-align: right;\">13225</td><td style = \"text-align: right;\">10185922</td><td style = \"text-align: right;\">5.444</td><td style = \"text-align: right;\">21.2176</td></tr><tr><td class = \"rowNumber\" style = \"font-weight: bold; text-align: right;\">9</td><td style = \"text-align: left;\">SRR6399668</td><td style = \"text-align: right;\">11422008610</td><td style = \"text-align: right;\">11418</td><td style = \"text-align: right;\">14556753</td><td style = \"text-align: right;\">1.147</td><td style = \"text-align: right;\">20.858</td></tr><tr><td class = \"rowNumber\" style = \"font-weight: bold; text-align: right;\">10</td><td style = \"text-align: left;\">SRR6399872</td><td style = \"text-align: right;\">12129841408</td><td style = \"text-align: right;\">31395</td><td style = \"text-align: right;\">38648315</td><td style = \"text-align: right;\">1.465</td><td style = \"text-align: right;\">19.8603</td></tr></tbody></table></div>"
      ],
      "text/latex": [
       "\\begin{tabular}{r|cccccc}\n",
       "\t& sample\\_id & total\\_mapped\\_bases & total\\_contigs & total\\_assembly\\_size & percent\\_contigs\\_viral & \\\\\n",
       "\t\\hline\n",
       "\t& String & Int64 & Int64 & Int64 & Float64 & \\\\\n",
       "\t\\hline\n",
       "\t1 & SRR7365468 & 6080239502 & 2794 & 1518767 & 7.695 & $\\dots$ \\\\\n",
       "\t2 & SRR6399623 & 9640341032 & 11671 & 10777302 & 2.562 & $\\dots$ \\\\\n",
       "\t3 & SRR7365469 & 7342715424 & 15088 & 16836017 & 1.306 & $\\dots$ \\\\\n",
       "\t4 & SRR6399775 & 12484379397 & 13214 & 11933173 & 4.533 & $\\dots$ \\\\\n",
       "\t5 & SRR6399922 & 12873397610 & 9781 & 12088982 & 3.139 & $\\dots$ \\\\\n",
       "\t6 & SRR6399586 & 10335671529 & 18706 & 18645284 & 2.812 & $\\dots$ \\\\\n",
       "\t7 & SRR6399876 & 15827208316 & 41567 & 47369804 & 1.174 & $\\dots$ \\\\\n",
       "\t8 & SRR6399929 & 14638831124 & 13225 & 10185922 & 5.444 & $\\dots$ \\\\\n",
       "\t9 & SRR6399668 & 11422008610 & 11418 & 14556753 & 1.147 & $\\dots$ \\\\\n",
       "\t10 & SRR6399872 & 12129841408 & 31395 & 38648315 & 1.465 & $\\dots$ \\\\\n",
       "\\end{tabular}\n"
      ],
      "text/plain": [
       "\u001b[1m10×6 DataFrame\u001b[0m\n",
       "\u001b[1m Row \u001b[0m│\u001b[1m sample_id  \u001b[0m\u001b[1m total_mapped_bases \u001b[0m\u001b[1m total_contigs \u001b[0m\u001b[1m total_assembly_size \u001b[0m\u001b[1m per\u001b[0m ⋯\n",
       "     │\u001b[90m String     \u001b[0m\u001b[90m Int64              \u001b[0m\u001b[90m Int64         \u001b[0m\u001b[90m Int64               \u001b[0m\u001b[90m Flo\u001b[0m ⋯\n",
       "─────┼──────────────────────────────────────────────────────────────────────────\n",
       "   1 │ SRR7365468          6080239502           2794              1518767      ⋯\n",
       "   2 │ SRR6399623          9640341032          11671             10777302\n",
       "   3 │ SRR7365469          7342715424          15088             16836017\n",
       "   4 │ SRR6399775         12484379397          13214             11933173\n",
       "   5 │ SRR6399922         12873397610           9781             12088982      ⋯\n",
       "   6 │ SRR6399586         10335671529          18706             18645284\n",
       "   7 │ SRR6399876         15827208316          41567             47369804\n",
       "   8 │ SRR6399929         14638831124          13225             10185922\n",
       "   9 │ SRR6399668         11422008610          11418             14556753      ⋯\n",
       "  10 │ SRR6399872         12129841408          31395             38648315\n",
       "\u001b[36m                                                               2 columns omitted\u001b[0m"
      ]
     },
     "execution_count": 80,
     "metadata": {},
     "output_type": "execute_result"
    }
   ],
   "source": [
    "sort!(sample_summary_table, \"percent_mapped_bases_viral\", rev=true)[1:10, :]"
   ]
  },
  {
   "cell_type": "code",
   "execution_count": 98,
   "id": "fdced3c2-d3fa-4134-bae3-e1d43800861c",
   "metadata": {
    "tags": []
   },
   "outputs": [
    {
     "data": {
      "text/plain": [
       "13-element Vector{String}:\n",
       " \"SRR6399623\"\n",
       " \"SRR7365468\"\n",
       " \"SRR6399876\"\n",
       " \"SRR6399775\"\n",
       " \"SRR6399584\"\n",
       " \"SRR6399922\"\n",
       " \"SRR6399929\"\n",
       " \"SRR6399878\"\n",
       " \"SRR6399505\"\n",
       " \"SRR6399872\"\n",
       " \"SRR7365469\"\n",
       " \"SRR6399586\"\n",
       " \"SRR6399668\""
      ]
     },
     "execution_count": 98,
     "metadata": {},
     "output_type": "execute_result"
    }
   ],
   "source": [
    "a = sort(sample_summary_table, \"total_mapped_bases_viral\", rev=true)[1:10, \"sample_id\"]\n",
    "b = sort(sample_summary_table, \"percent_mapped_bases_viral\", rev=true)[1:10, \"sample_id\"]\n",
    "ab = union(a, b)\n",
    "# for x in union(a, b)\n",
    "#     println(x)\n",
    "# end"
   ]
  },
  {
   "cell_type": "code",
   "execution_count": 112,
   "id": "b5be8e4e-e2f6-42da-b8b8-78ee2af69ee1",
   "metadata": {
    "tags": []
   },
   "outputs": [
    {
     "data": {
      "text/plain": [
       "2-element Vector{String}:\n",
       " \"SRR6399584\"\n",
       " \"SRR6399878\""
      ]
     },
     "execution_count": 112,
     "metadata": {},
     "output_type": "execute_result"
    }
   ],
   "source": [
    "# sample_summary_table[, \"total_mapped_bases\"] .>= contamination_load\n",
    "# sample_summary_table[\n",
    "\n"
   ]
  },
  {
   "cell_type": "code",
   "execution_count": 107,
   "id": "63a5933f-a804-4216-bc5d-e89d5ccefee1",
   "metadata": {
    "tags": []
   },
   "outputs": [
    {
     "data": {
      "text/html": [
       "<div><div style = \"float: left;\"><span>594×47 DataFrame</span></div><div style = \"float: right;\"><span style = \"font-style: italic;\">569 rows omitted</span></div><div style = \"clear: both;\"></div></div><div class = \"data-frame\" style = \"overflow-x: scroll;\"><table class = \"data-frame\" style = \"margin-bottom: 6px;\"><thead><tr class = \"header\"><th class = \"rowNumber\" style = \"font-weight: bold; text-align: right;\">Row</th><th style = \"text-align: left;\">Run</th><th style = \"text-align: left;\">ReleaseDate</th><th style = \"text-align: left;\">LoadDate</th><th style = \"text-align: left;\">spots</th><th style = \"text-align: left;\">bases</th><th style = \"text-align: left;\">spots_with_mates</th><th style = \"text-align: left;\">avgLength</th><th style = \"text-align: left;\">size_MB</th><th style = \"text-align: left;\">AssemblyName</th><th style = \"text-align: left;\">download_path</th><th style = \"text-align: left;\">Experiment</th><th style = \"text-align: left;\">LibraryName</th><th style = \"text-align: left;\">LibraryStrategy</th><th style = \"text-align: left;\">LibrarySelection</th><th style = \"text-align: left;\">LibrarySource</th><th style = \"text-align: left;\">LibraryLayout</th><th style = \"text-align: left;\">InsertSize</th><th style = \"text-align: left;\">InsertDev</th><th style = \"text-align: left;\">Platform</th><th style = \"text-align: left;\">Model</th><th style = \"text-align: left;\">SRAStudy</th><th style = \"text-align: left;\">BioProject</th><th style = \"text-align: left;\">Study_Pubmed_id</th><th style = \"text-align: left;\">ProjectID</th><th style = \"text-align: left;\">Sample</th><th style = \"text-align: left;\">BioSample</th><th style = \"text-align: left;\">SampleType</th><th style = \"text-align: left;\">TaxID</th><th style = \"text-align: left;\">ScientificName</th><th style = \"text-align: left;\">SampleName</th><th style = \"text-align: left;\">g1k_pop_code</th><th style = \"text-align: left;\">source</th><th style = \"text-align: left;\">g1k_analysis_group</th><th style = \"text-align: left;\">Subject_ID</th><th style = \"text-align: left;\">Sex</th><th style = \"text-align: left;\">Disease</th><th style = \"text-align: left;\">Tumor</th><th style = \"text-align: left;\">Affection_Status</th><th style = \"text-align: left;\">Analyte_Type</th><th style = \"text-align: left;\">Histological_Type</th><th style = \"text-align: left;\">Body_Site</th><th style = \"text-align: left;\">CenterName</th><th style = \"text-align: left;\">Submission</th><th style = \"text-align: left;\">dbgap_study_accession</th><th style = \"text-align: left;\">Consent</th><th style = \"text-align: left;\">RunHash</th><th style = \"text-align: left;\">ReadHash</th></tr><tr class = \"subheader headerLastRow\"><th class = \"rowNumber\" style = \"font-weight: bold; text-align: right;\"></th><th title = \"String\" style = \"text-align: left;\">String</th><th title = \"String\" style = \"text-align: left;\">String</th><th title = \"String\" style = \"text-align: left;\">String</th><th title = \"Int64\" style = \"text-align: left;\">Int64</th><th title = \"Int64\" style = \"text-align: left;\">Int64</th><th title = \"Int64\" style = \"text-align: left;\">Int64</th><th title = \"Int64\" style = \"text-align: left;\">Int64</th><th title = \"Int64\" style = \"text-align: left;\">Int64</th><th title = \"String\" style = \"text-align: left;\">String</th><th title = \"String\" style = \"text-align: left;\">String</th><th title = \"String\" style = \"text-align: left;\">String</th><th title = \"String\" style = \"text-align: left;\">String</th><th title = \"String\" style = \"text-align: left;\">String</th><th title = \"String\" style = \"text-align: left;\">String</th><th title = \"String\" style = \"text-align: left;\">String</th><th title = \"String\" style = \"text-align: left;\">String</th><th title = \"Int64\" style = \"text-align: left;\">Int64</th><th title = \"Int64\" style = \"text-align: left;\">Int64</th><th title = \"String\" style = \"text-align: left;\">String</th><th title = \"String\" style = \"text-align: left;\">String</th><th title = \"String\" style = \"text-align: left;\">String</th><th title = \"String\" style = \"text-align: left;\">String</th><th title = \"String\" style = \"text-align: left;\">String</th><th title = \"Int64\" style = \"text-align: left;\">Int64</th><th title = \"String\" style = \"text-align: left;\">String</th><th title = \"String\" style = \"text-align: left;\">String</th><th title = \"String\" style = \"text-align: left;\">String</th><th title = \"Int64\" style = \"text-align: left;\">Int64</th><th title = \"String\" style = \"text-align: left;\">String</th><th title = \"String\" style = \"text-align: left;\">String</th><th title = \"String\" style = \"text-align: left;\">String</th><th title = \"String\" style = \"text-align: left;\">String</th><th title = \"String\" style = \"text-align: left;\">String</th><th title = \"String\" style = \"text-align: left;\">String</th><th title = \"String\" style = \"text-align: left;\">String</th><th title = \"String\" style = \"text-align: left;\">String</th><th title = \"String\" style = \"text-align: left;\">String</th><th title = \"String\" style = \"text-align: left;\">String</th><th title = \"String\" style = \"text-align: left;\">String</th><th title = \"String\" style = \"text-align: left;\">String</th><th title = \"String\" style = \"text-align: left;\">String</th><th title = \"String\" style = \"text-align: left;\">String</th><th title = \"String\" style = \"text-align: left;\">String</th><th title = \"String\" style = \"text-align: left;\">String</th><th title = \"String\" style = \"text-align: left;\">String</th><th title = \"String\" style = \"text-align: left;\">String</th><th title = \"String\" style = \"text-align: left;\">String</th></tr></thead><tbody><tr><td class = \"rowNumber\" style = \"font-weight: bold; text-align: right;\">1</td><td style = \"text-align: left;\">SRR6399989</td><td style = \"text-align: left;\">2018-09-20 00:09:46</td><td style = \"text-align: left;\">2017-12-21 02:43:46</td><td style = \"text-align: right;\">69707244</td><td style = \"text-align: right;\">20779491232</td><td style = \"text-align: right;\">69707244</td><td style = \"text-align: right;\">298</td><td style = \"text-align: right;\">8471</td><td style = \"text-align: left;\">GCA_000001405.13</td><td style = \"text-align: left;\">https://sra-downloadb.be-md.ncbi.nlm.nih.gov/sos5/sra-pub-zq-14/SRR006/399/SRR6399989.sralite.1</td><td style = \"text-align: left;\">SRX3493025</td><td style = \"text-align: left;\">chaoexpo01_I12</td><td style = \"text-align: left;\">WGS</td><td style = \"text-align: left;\">MDA</td><td style = \"text-align: left;\">METAGENOMIC</td><td style = \"text-align: left;\">PAIRED</td><td style = \"text-align: right;\">0</td><td style = \"text-align: right;\">0</td><td style = \"text-align: left;\">ILLUMINA</td><td style = \"text-align: left;\">Illumina HiSeq 4000</td><td style = \"text-align: left;\">SRP127288</td><td style = \"text-align: left;\">PRJNA421162</td><td style = \"text-align: left;\"></td><td style = \"text-align: right;\">421162</td><td style = \"text-align: left;\">SRS2776627</td><td style = \"text-align: left;\">SAMN08215723</td><td style = \"text-align: left;\">simple</td><td style = \"text-align: right;\">655179</td><td style = \"text-align: left;\">air metagenome</td><td style = \"text-align: left;\">chaoexpo01_I12</td><td style = \"text-align: left;\"></td><td style = \"text-align: left;\"></td><td style = \"text-align: left;\"></td><td style = \"text-align: left;\"></td><td style = \"text-align: left;\"></td><td style = \"text-align: left;\"></td><td style = \"text-align: left;\">no</td><td style = \"text-align: left;\"></td><td style = \"text-align: left;\"></td><td style = \"text-align: left;\"></td><td style = \"text-align: left;\"></td><td style = \"text-align: left;\">STANFORD UNIVERSITY</td><td style = \"text-align: left;\">SRA640713</td><td style = \"text-align: left;\"></td><td style = \"text-align: left;\">public</td><td style = \"text-align: left;\">AE2671898D257022D2D7FCE54762110F</td><td style = \"text-align: left;\">4A3D148776DFCE8DDFD73EC823C417B0</td></tr><tr><td class = \"rowNumber\" style = \"font-weight: bold; text-align: right;\">2</td><td style = \"text-align: left;\">SRR6399861</td><td style = \"text-align: left;\">2018-09-20 00:09:49</td><td style = \"text-align: left;\">2017-12-21 01:31:21</td><td style = \"text-align: right;\">74776004</td><td style = \"text-align: right;\">22149677110</td><td style = \"text-align: right;\">74776004</td><td style = \"text-align: right;\">296</td><td style = \"text-align: right;\">8951</td><td style = \"text-align: left;\">GCA_000001405.13</td><td style = \"text-align: left;\">https://sra-downloadb.be-md.ncbi.nlm.nih.gov/sos5/sra-pub-zq-14/SRR006/399/SRR6399861.sralite.1</td><td style = \"text-align: left;\">SRX3493153</td><td style = \"text-align: left;\">chaoexpo01_I15</td><td style = \"text-align: left;\">WGS</td><td style = \"text-align: left;\">MDA</td><td style = \"text-align: left;\">METAGENOMIC</td><td style = \"text-align: left;\">PAIRED</td><td style = \"text-align: right;\">0</td><td style = \"text-align: right;\">0</td><td style = \"text-align: left;\">ILLUMINA</td><td style = \"text-align: left;\">Illumina HiSeq 4000</td><td style = \"text-align: left;\">SRP127288</td><td style = \"text-align: left;\">PRJNA421162</td><td style = \"text-align: left;\"></td><td style = \"text-align: right;\">421162</td><td style = \"text-align: left;\">SRS2776755</td><td style = \"text-align: left;\">SAMN08215733</td><td style = \"text-align: left;\">simple</td><td style = \"text-align: right;\">655179</td><td style = \"text-align: left;\">air metagenome</td><td style = \"text-align: left;\">chaoexpo01_I15</td><td style = \"text-align: left;\"></td><td style = \"text-align: left;\"></td><td style = \"text-align: left;\"></td><td style = \"text-align: left;\"></td><td style = \"text-align: left;\"></td><td style = \"text-align: left;\"></td><td style = \"text-align: left;\">no</td><td style = \"text-align: left;\"></td><td style = \"text-align: left;\"></td><td style = \"text-align: left;\"></td><td style = \"text-align: left;\"></td><td style = \"text-align: left;\">STANFORD UNIVERSITY</td><td style = \"text-align: left;\">SRA640713</td><td style = \"text-align: left;\"></td><td style = \"text-align: left;\">public</td><td style = \"text-align: left;\">1F1D03A3D0446A9A0C1F579B05593887</td><td style = \"text-align: left;\">F7B99D3DF79CA3B879C6AB1B5FAC27CC</td></tr><tr><td class = \"rowNumber\" style = \"font-weight: bold; text-align: right;\">3</td><td style = \"text-align: left;\">SRR7365467</td><td style = \"text-align: left;\">2018-09-20 00:09:52</td><td style = \"text-align: left;\">2018-06-19 14:27:01</td><td style = \"text-align: right;\">42394156</td><td style = \"text-align: right;\">12547372884</td><td style = \"text-align: right;\">42394156</td><td style = \"text-align: right;\">295</td><td style = \"text-align: right;\">3018</td><td style = \"text-align: left;\">GCA_000001405.13</td><td style = \"text-align: left;\">https://sra-downloadb.be-md.ncbi.nlm.nih.gov/sos3/sra-pub-zq-22/SRR007/365/SRR7365467.sralite.1</td><td style = \"text-align: left;\">SRX4238427</td><td style = \"text-align: left;\">chaoexpo01_I5</td><td style = \"text-align: left;\">WGS</td><td style = \"text-align: left;\">MDA</td><td style = \"text-align: left;\">METAGENOMIC</td><td style = \"text-align: left;\">PAIRED</td><td style = \"text-align: right;\">0</td><td style = \"text-align: right;\">0</td><td style = \"text-align: left;\">ILLUMINA</td><td style = \"text-align: left;\">Illumina HiSeq 4000</td><td style = \"text-align: left;\">SRP127288</td><td style = \"text-align: left;\">PRJNA421162</td><td style = \"text-align: left;\"></td><td style = \"text-align: right;\">421162</td><td style = \"text-align: left;\">SRS3435436</td><td style = \"text-align: left;\">SAMN09454482</td><td style = \"text-align: left;\">simple</td><td style = \"text-align: right;\">655179</td><td style = \"text-align: left;\">air metagenome</td><td style = \"text-align: left;\">chaoexpo01_I5</td><td style = \"text-align: left;\"></td><td style = \"text-align: left;\"></td><td style = \"text-align: left;\"></td><td style = \"text-align: left;\"></td><td style = \"text-align: left;\"></td><td style = \"text-align: left;\"></td><td style = \"text-align: left;\">no</td><td style = \"text-align: left;\"></td><td style = \"text-align: left;\"></td><td style = \"text-align: left;\"></td><td style = \"text-align: left;\"></td><td style = \"text-align: left;\">STANFORD UNIVERSITY</td><td style = \"text-align: left;\">SRA724669</td><td style = \"text-align: left;\"></td><td style = \"text-align: left;\">public</td><td style = \"text-align: left;\">0EB042A2417A66D7D4386E13ECE7C227</td><td style = \"text-align: left;\">E593D63B10EE4CBADB7910CEFC967F4F</td></tr><tr><td class = \"rowNumber\" style = \"font-weight: bold; text-align: right;\">4</td><td style = \"text-align: left;\">SRR6399751</td><td style = \"text-align: left;\">2018-09-20 00:09:38</td><td style = \"text-align: left;\">2017-12-20 23:26:18</td><td style = \"text-align: right;\">83744386</td><td style = \"text-align: right;\">24850346547</td><td style = \"text-align: right;\">83744386</td><td style = \"text-align: right;\">296</td><td style = \"text-align: right;\">9109</td><td style = \"text-align: left;\">GCA_000001405.13</td><td style = \"text-align: left;\">https://sra-downloadb.be-md.ncbi.nlm.nih.gov/sos5/sra-pub-zq-14/SRR006/399/SRR6399751.sralite.1</td><td style = \"text-align: left;\">SRX3492696</td><td style = \"text-align: left;\">chaoexpo01_I6</td><td style = \"text-align: left;\">WGS</td><td style = \"text-align: left;\">MDA</td><td style = \"text-align: left;\">METAGENOMIC</td><td style = \"text-align: left;\">PAIRED</td><td style = \"text-align: right;\">0</td><td style = \"text-align: right;\">0</td><td style = \"text-align: left;\">ILLUMINA</td><td style = \"text-align: left;\">Illumina HiSeq 4000</td><td style = \"text-align: left;\">SRP127288</td><td style = \"text-align: left;\">PRJNA421162</td><td style = \"text-align: left;\"></td><td style = \"text-align: right;\">421162</td><td style = \"text-align: left;\">SRS2776300</td><td style = \"text-align: left;\">SAMN08215708</td><td style = \"text-align: left;\">simple</td><td style = \"text-align: right;\">655179</td><td style = \"text-align: left;\">air metagenome</td><td style = \"text-align: left;\">chaoexpo01_I6</td><td style = \"text-align: left;\"></td><td style = \"text-align: left;\"></td><td style = \"text-align: left;\"></td><td style = \"text-align: left;\"></td><td style = \"text-align: left;\"></td><td style = \"text-align: left;\"></td><td style = \"text-align: left;\">no</td><td style = \"text-align: left;\"></td><td style = \"text-align: left;\"></td><td style = \"text-align: left;\"></td><td style = \"text-align: left;\"></td><td style = \"text-align: left;\">STANFORD UNIVERSITY</td><td style = \"text-align: left;\">SRA640713</td><td style = \"text-align: left;\"></td><td style = \"text-align: left;\">public</td><td style = \"text-align: left;\">04B4DC260E73372B658D9349DBA04FAA</td><td style = \"text-align: left;\">D8F94567AE16B04E9690964A8E35C1E9</td></tr><tr><td class = \"rowNumber\" style = \"font-weight: bold; text-align: right;\">5</td><td style = \"text-align: left;\">SRR6399787</td><td style = \"text-align: left;\">2018-09-20 00:09:37</td><td style = \"text-align: left;\">2017-12-20 23:57:04</td><td style = \"text-align: right;\">66107363</td><td style = \"text-align: right;\">19225536114</td><td style = \"text-align: right;\">66107363</td><td style = \"text-align: right;\">290</td><td style = \"text-align: right;\">5314</td><td style = \"text-align: left;\">GCA_000001405.13</td><td style = \"text-align: left;\">https://sra-downloadb.be-md.ncbi.nlm.nih.gov/sos5/sra-pub-zq-14/SRR006/399/SRR6399787.sralite.1</td><td style = \"text-align: left;\">SRX3492660</td><td style = \"text-align: left;\">chaoexpo02_I12</td><td style = \"text-align: left;\">WGS</td><td style = \"text-align: left;\">MDA</td><td style = \"text-align: left;\">METAGENOMIC</td><td style = \"text-align: left;\">PAIRED</td><td style = \"text-align: right;\">0</td><td style = \"text-align: right;\">0</td><td style = \"text-align: left;\">ILLUMINA</td><td style = \"text-align: left;\">Illumina HiSeq 4000</td><td style = \"text-align: left;\">SRP127288</td><td style = \"text-align: left;\">PRJNA421162</td><td style = \"text-align: left;\"></td><td style = \"text-align: right;\">421162</td><td style = \"text-align: left;\">SRS2776259</td><td style = \"text-align: left;\">SAMN08215800</td><td style = \"text-align: left;\">simple</td><td style = \"text-align: right;\">655179</td><td style = \"text-align: left;\">air metagenome</td><td style = \"text-align: left;\">chaoexpo02_I12</td><td style = \"text-align: left;\"></td><td style = \"text-align: left;\"></td><td style = \"text-align: left;\"></td><td style = \"text-align: left;\"></td><td style = \"text-align: left;\"></td><td style = \"text-align: left;\"></td><td style = \"text-align: left;\">no</td><td style = \"text-align: left;\"></td><td style = \"text-align: left;\"></td><td style = \"text-align: left;\"></td><td style = \"text-align: left;\"></td><td style = \"text-align: left;\">STANFORD UNIVERSITY</td><td style = \"text-align: left;\">SRA640713</td><td style = \"text-align: left;\"></td><td style = \"text-align: left;\">public</td><td style = \"text-align: left;\">6A92652D5CEA5658FD9EB02CDA8937BE</td><td style = \"text-align: left;\">E5F59997E6FD19E844D33D5BC2B0D002</td></tr><tr><td class = \"rowNumber\" style = \"font-weight: bold; text-align: right;\">6</td><td style = \"text-align: left;\">SRR6400016</td><td style = \"text-align: left;\">2018-09-20 00:09:46</td><td style = \"text-align: left;\">2017-12-21 03:10:46</td><td style = \"text-align: right;\">62527744</td><td style = \"text-align: right;\">18527290879</td><td style = \"text-align: right;\">62527744</td><td style = \"text-align: right;\">296</td><td style = \"text-align: right;\">5642</td><td style = \"text-align: left;\">GCA_000001405.13</td><td style = \"text-align: left;\">https://sra-downloadb.be-md.ncbi.nlm.nih.gov/sos5/sra-pub-zq-14/SRR006/400/SRR6400016.sralite.1</td><td style = \"text-align: left;\">SRX3492998</td><td style = \"text-align: left;\">chaoexpo02_I15</td><td style = \"text-align: left;\">WGS</td><td style = \"text-align: left;\">MDA</td><td style = \"text-align: left;\">METAGENOMIC</td><td style = \"text-align: left;\">PAIRED</td><td style = \"text-align: right;\">0</td><td style = \"text-align: right;\">0</td><td style = \"text-align: left;\">ILLUMINA</td><td style = \"text-align: left;\">Illumina HiSeq 4000</td><td style = \"text-align: left;\">SRP127288</td><td style = \"text-align: left;\">PRJNA421162</td><td style = \"text-align: left;\"></td><td style = \"text-align: right;\">421162</td><td style = \"text-align: left;\">SRS2776599</td><td style = \"text-align: left;\">SAMN08215815</td><td style = \"text-align: left;\">simple</td><td style = \"text-align: right;\">655179</td><td style = \"text-align: left;\">air metagenome</td><td style = \"text-align: left;\">chaoexpo02_I15</td><td style = \"text-align: left;\"></td><td style = \"text-align: left;\"></td><td style = \"text-align: left;\"></td><td style = \"text-align: left;\"></td><td style = \"text-align: left;\"></td><td style = \"text-align: left;\"></td><td style = \"text-align: left;\">no</td><td style = \"text-align: left;\"></td><td style = \"text-align: left;\"></td><td style = \"text-align: left;\"></td><td style = \"text-align: left;\"></td><td style = \"text-align: left;\">STANFORD UNIVERSITY</td><td style = \"text-align: left;\">SRA640713</td><td style = \"text-align: left;\"></td><td style = \"text-align: left;\">public</td><td style = \"text-align: left;\">F4ECBE94C10E8FAAAA42B6FA0EA19A08</td><td style = \"text-align: left;\">EAAB4E2C2F14F9E8174BF4BDDAA61059</td></tr><tr><td class = \"rowNumber\" style = \"font-weight: bold; text-align: right;\">7</td><td style = \"text-align: left;\">SRR6399489</td><td style = \"text-align: left;\">2018-09-20 00:09:45</td><td style = \"text-align: left;\">2017-12-22 23:21:34</td><td style = \"text-align: right;\">86508964</td><td style = \"text-align: right;\">25502129583</td><td style = \"text-align: right;\">86508964</td><td style = \"text-align: right;\">294</td><td style = \"text-align: right;\">6495</td><td style = \"text-align: left;\">GCA_000001405.13</td><td style = \"text-align: left;\">https://sra-downloadb.be-md.ncbi.nlm.nih.gov/sos5/sra-pub-zq-14/SRR006/399/SRR6399489.sralite.1</td><td style = \"text-align: left;\">SRX3492958</td><td style = \"text-align: left;\">chaoexpo02_I5</td><td style = \"text-align: left;\">WGS</td><td style = \"text-align: left;\">MDA</td><td style = \"text-align: left;\">METAGENOMIC</td><td style = \"text-align: left;\">PAIRED</td><td style = \"text-align: right;\">0</td><td style = \"text-align: right;\">0</td><td style = \"text-align: left;\">ILLUMINA</td><td style = \"text-align: left;\">Illumina HiSeq 4000</td><td style = \"text-align: left;\">SRP127288</td><td style = \"text-align: left;\">PRJNA421162</td><td style = \"text-align: left;\"></td><td style = \"text-align: right;\">421162</td><td style = \"text-align: left;\">SRS2776557</td><td style = \"text-align: left;\">SAMN08215755</td><td style = \"text-align: left;\">simple</td><td style = \"text-align: right;\">655179</td><td style = \"text-align: left;\">air metagenome</td><td style = \"text-align: left;\">chaoexpo02_I5</td><td style = \"text-align: left;\"></td><td style = \"text-align: left;\"></td><td style = \"text-align: left;\"></td><td style = \"text-align: left;\"></td><td style = \"text-align: left;\"></td><td style = \"text-align: left;\"></td><td style = \"text-align: left;\">no</td><td style = \"text-align: left;\"></td><td style = \"text-align: left;\"></td><td style = \"text-align: left;\"></td><td style = \"text-align: left;\"></td><td style = \"text-align: left;\">STANFORD UNIVERSITY</td><td style = \"text-align: left;\">SRA640713</td><td style = \"text-align: left;\"></td><td style = \"text-align: left;\">public</td><td style = \"text-align: left;\">2D0BC4F82800751D247BCA3B97018FC5</td><td style = \"text-align: left;\">B10D6C99819F418FA8F0B52FE65A98E4</td></tr><tr><td class = \"rowNumber\" style = \"font-weight: bold; text-align: right;\">8</td><td style = \"text-align: left;\">SRR6399692</td><td style = \"text-align: left;\">2018-09-20 00:09:39</td><td style = \"text-align: left;\">2017-12-20 22:24:39</td><td style = \"text-align: right;\">72083751</td><td style = \"text-align: right;\">21430826647</td><td style = \"text-align: right;\">72083751</td><td style = \"text-align: right;\">297</td><td style = \"text-align: right;\">8725</td><td style = \"text-align: left;\">GCA_000001405.13</td><td style = \"text-align: left;\">https://sra-downloadb.be-md.ncbi.nlm.nih.gov/sos5/sra-pub-zq-14/SRR006/399/SRR6399692.sralite.1</td><td style = \"text-align: left;\">SRX3492755</td><td style = \"text-align: left;\">chaoexpo02_I6</td><td style = \"text-align: left;\">WGS</td><td style = \"text-align: left;\">MDA</td><td style = \"text-align: left;\">METAGENOMIC</td><td style = \"text-align: left;\">PAIRED</td><td style = \"text-align: right;\">0</td><td style = \"text-align: right;\">0</td><td style = \"text-align: left;\">ILLUMINA</td><td style = \"text-align: left;\">Illumina HiSeq 4000</td><td style = \"text-align: left;\">SRP127288</td><td style = \"text-align: left;\">PRJNA421162</td><td style = \"text-align: left;\"></td><td style = \"text-align: right;\">421162</td><td style = \"text-align: left;\">SRS2776356</td><td style = \"text-align: left;\">SAMN08215794</td><td style = \"text-align: left;\">simple</td><td style = \"text-align: right;\">655179</td><td style = \"text-align: left;\">air metagenome</td><td style = \"text-align: left;\">chaoexpo02_I6</td><td style = \"text-align: left;\"></td><td style = \"text-align: left;\"></td><td style = \"text-align: left;\"></td><td style = \"text-align: left;\"></td><td style = \"text-align: left;\"></td><td style = \"text-align: left;\"></td><td style = \"text-align: left;\">no</td><td style = \"text-align: left;\"></td><td style = \"text-align: left;\"></td><td style = \"text-align: left;\"></td><td style = \"text-align: left;\"></td><td style = \"text-align: left;\">STANFORD UNIVERSITY</td><td style = \"text-align: left;\">SRA640713</td><td style = \"text-align: left;\"></td><td style = \"text-align: left;\">public</td><td style = \"text-align: left;\">41A77C6BC30708172012A9E8289C6EB9</td><td style = \"text-align: left;\">6141443553C9F3343557C409BFB979E3</td></tr><tr><td class = \"rowNumber\" style = \"font-weight: bold; text-align: right;\">9</td><td style = \"text-align: left;\">SRR6399995</td><td style = \"text-align: left;\">2018-09-20 00:09:46</td><td style = \"text-align: left;\">2017-12-21 03:10:41</td><td style = \"text-align: right;\">70182003</td><td style = \"text-align: right;\">20452703127</td><td style = \"text-align: right;\">70182003</td><td style = \"text-align: right;\">291</td><td style = \"text-align: right;\">7955</td><td style = \"text-align: left;\">GCA_000001405.13</td><td style = \"text-align: left;\">https://sra-downloadb.be-md.ncbi.nlm.nih.gov/sos5/sra-pub-zq-11/SRR006/399/SRR6399995.sralite.1</td><td style = \"text-align: left;\">SRX3493019</td><td style = \"text-align: left;\">chaoexpo03_I12</td><td style = \"text-align: left;\">WGS</td><td style = \"text-align: left;\">MDA</td><td style = \"text-align: left;\">METAGENOMIC</td><td style = \"text-align: left;\">PAIRED</td><td style = \"text-align: right;\">0</td><td style = \"text-align: right;\">0</td><td style = \"text-align: left;\">ILLUMINA</td><td style = \"text-align: left;\">Illumina HiSeq 4000</td><td style = \"text-align: left;\">SRP127288</td><td style = \"text-align: left;\">PRJNA421162</td><td style = \"text-align: left;\"></td><td style = \"text-align: right;\">421162</td><td style = \"text-align: left;\">SRS2776620</td><td style = \"text-align: left;\">SAMN08215725</td><td style = \"text-align: left;\">simple</td><td style = \"text-align: right;\">655179</td><td style = \"text-align: left;\">air metagenome</td><td style = \"text-align: left;\">chaoexpo03_I12</td><td style = \"text-align: left;\"></td><td style = \"text-align: left;\"></td><td style = \"text-align: left;\"></td><td style = \"text-align: left;\"></td><td style = \"text-align: left;\"></td><td style = \"text-align: left;\"></td><td style = \"text-align: left;\">no</td><td style = \"text-align: left;\"></td><td style = \"text-align: left;\"></td><td style = \"text-align: left;\"></td><td style = \"text-align: left;\"></td><td style = \"text-align: left;\">STANFORD UNIVERSITY</td><td style = \"text-align: left;\">SRA640713</td><td style = \"text-align: left;\"></td><td style = \"text-align: left;\">public</td><td style = \"text-align: left;\">376C032EFC9597BF49BF8721C3E83F54</td><td style = \"text-align: left;\">4A21FA5D153D69F127EAAAD3B97E19C6</td></tr><tr><td class = \"rowNumber\" style = \"font-weight: bold; text-align: right;\">10</td><td style = \"text-align: left;\">SRR6399992</td><td style = \"text-align: left;\">2018-09-20 00:09:46</td><td style = \"text-align: left;\">2017-12-21 03:09:48</td><td style = \"text-align: right;\">75377399</td><td style = \"text-align: right;\">21975972388</td><td style = \"text-align: right;\">75377399</td><td style = \"text-align: right;\">291</td><td style = \"text-align: right;\">8754</td><td style = \"text-align: left;\">GCA_000001405.13</td><td style = \"text-align: left;\">https://sra-downloadb.be-md.ncbi.nlm.nih.gov/sos5/sra-pub-zq-14/SRR006/399/SRR6399992.sralite.1</td><td style = \"text-align: left;\">SRX3493022</td><td style = \"text-align: left;\">chaoexpo03_I15</td><td style = \"text-align: left;\">WGS</td><td style = \"text-align: left;\">MDA</td><td style = \"text-align: left;\">METAGENOMIC</td><td style = \"text-align: left;\">PAIRED</td><td style = \"text-align: right;\">0</td><td style = \"text-align: right;\">0</td><td style = \"text-align: left;\">ILLUMINA</td><td style = \"text-align: left;\">Illumina HiSeq 4000</td><td style = \"text-align: left;\">SRP127288</td><td style = \"text-align: left;\">PRJNA421162</td><td style = \"text-align: left;\"></td><td style = \"text-align: right;\">421162</td><td style = \"text-align: left;\">SRS2776625</td><td style = \"text-align: left;\">SAMN08215728</td><td style = \"text-align: left;\">simple</td><td style = \"text-align: right;\">655179</td><td style = \"text-align: left;\">air metagenome</td><td style = \"text-align: left;\">chaoexpo03_I15</td><td style = \"text-align: left;\"></td><td style = \"text-align: left;\"></td><td style = \"text-align: left;\"></td><td style = \"text-align: left;\"></td><td style = \"text-align: left;\"></td><td style = \"text-align: left;\"></td><td style = \"text-align: left;\">no</td><td style = \"text-align: left;\"></td><td style = \"text-align: left;\"></td><td style = \"text-align: left;\"></td><td style = \"text-align: left;\"></td><td style = \"text-align: left;\">STANFORD UNIVERSITY</td><td style = \"text-align: left;\">SRA640713</td><td style = \"text-align: left;\"></td><td style = \"text-align: left;\">public</td><td style = \"text-align: left;\">D963F6ACCC9BCC6E3386D59700C30236</td><td style = \"text-align: left;\">767316A4EDA744B326B758F065F87867</td></tr><tr><td class = \"rowNumber\" style = \"font-weight: bold; text-align: right;\">11</td><td style = \"text-align: left;\">SRR7365466</td><td style = \"text-align: left;\">2018-09-20 00:09:52</td><td style = \"text-align: left;\">2018-06-19 14:27:35</td><td style = \"text-align: right;\">43606564</td><td style = \"text-align: right;\">12174649939</td><td style = \"text-align: right;\">43606564</td><td style = \"text-align: right;\">279</td><td style = \"text-align: right;\">4279</td><td style = \"text-align: left;\">GCA_000001405.13</td><td style = \"text-align: left;\">https://sra-downloadb.be-md.ncbi.nlm.nih.gov/sos5/sra-pub-zq-14/SRR007/365/SRR7365466.sralite.1</td><td style = \"text-align: left;\">SRX4238428</td><td style = \"text-align: left;\">chaoexpo03_I5</td><td style = \"text-align: left;\">WGS</td><td style = \"text-align: left;\">MDA</td><td style = \"text-align: left;\">METAGENOMIC</td><td style = \"text-align: left;\">PAIRED</td><td style = \"text-align: right;\">0</td><td style = \"text-align: right;\">0</td><td style = \"text-align: left;\">ILLUMINA</td><td style = \"text-align: left;\">Illumina HiSeq 4000</td><td style = \"text-align: left;\">SRP127288</td><td style = \"text-align: left;\">PRJNA421162</td><td style = \"text-align: left;\"></td><td style = \"text-align: right;\">421162</td><td style = \"text-align: left;\">SRS3435437</td><td style = \"text-align: left;\">SAMN09454483</td><td style = \"text-align: left;\">simple</td><td style = \"text-align: right;\">655179</td><td style = \"text-align: left;\">air metagenome</td><td style = \"text-align: left;\">chaoexpo03_I5</td><td style = \"text-align: left;\"></td><td style = \"text-align: left;\"></td><td style = \"text-align: left;\"></td><td style = \"text-align: left;\"></td><td style = \"text-align: left;\"></td><td style = \"text-align: left;\"></td><td style = \"text-align: left;\">no</td><td style = \"text-align: left;\"></td><td style = \"text-align: left;\"></td><td style = \"text-align: left;\"></td><td style = \"text-align: left;\"></td><td style = \"text-align: left;\">STANFORD UNIVERSITY</td><td style = \"text-align: left;\">SRA724669</td><td style = \"text-align: left;\"></td><td style = \"text-align: left;\">public</td><td style = \"text-align: left;\">755D55EB4685FB9F43CF2687CCB917C7</td><td style = \"text-align: left;\">95296ADE6A3DFCDFDA08BC5D63206A9F</td></tr><tr><td class = \"rowNumber\" style = \"font-weight: bold; text-align: right;\">12</td><td style = \"text-align: left;\">SRR6399749</td><td style = \"text-align: left;\">2018-09-20 00:09:38</td><td style = \"text-align: left;\">2017-12-21 07:34:21</td><td style = \"text-align: right;\">93740534</td><td style = \"text-align: right;\">26973416910</td><td style = \"text-align: right;\">93740534</td><td style = \"text-align: right;\">287</td><td style = \"text-align: right;\">9833</td><td style = \"text-align: left;\">GCA_000001405.13</td><td style = \"text-align: left;\">https://sra-downloadb.be-md.ncbi.nlm.nih.gov/sos5/sra-pub-zq-14/SRR006/399/SRR6399749.sralite.1</td><td style = \"text-align: left;\">SRX3492698</td><td style = \"text-align: left;\">chaoexpo03_I6</td><td style = \"text-align: left;\">WGS</td><td style = \"text-align: left;\">MDA</td><td style = \"text-align: left;\">METAGENOMIC</td><td style = \"text-align: left;\">PAIRED</td><td style = \"text-align: right;\">0</td><td style = \"text-align: right;\">0</td><td style = \"text-align: left;\">ILLUMINA</td><td style = \"text-align: left;\">Illumina HiSeq 4000</td><td style = \"text-align: left;\">SRP127288</td><td style = \"text-align: left;\">PRJNA421162</td><td style = \"text-align: left;\"></td><td style = \"text-align: right;\">421162</td><td style = \"text-align: left;\">SRS2776299</td><td style = \"text-align: left;\">SAMN08215706</td><td style = \"text-align: left;\">simple</td><td style = \"text-align: right;\">655179</td><td style = \"text-align: left;\">air metagenome</td><td style = \"text-align: left;\">chaoexpo03_I6</td><td style = \"text-align: left;\"></td><td style = \"text-align: left;\"></td><td style = \"text-align: left;\"></td><td style = \"text-align: left;\"></td><td style = \"text-align: left;\"></td><td style = \"text-align: left;\"></td><td style = \"text-align: left;\">no</td><td style = \"text-align: left;\"></td><td style = \"text-align: left;\"></td><td style = \"text-align: left;\"></td><td style = \"text-align: left;\"></td><td style = \"text-align: left;\">STANFORD UNIVERSITY</td><td style = \"text-align: left;\">SRA640713</td><td style = \"text-align: left;\"></td><td style = \"text-align: left;\">public</td><td style = \"text-align: left;\">608C3E3EF463334CB6E3C8F0EA334DAB</td><td style = \"text-align: left;\">D46E0A8EDA259D23E3860C5B577386B6</td></tr><tr><td class = \"rowNumber\" style = \"font-weight: bold; text-align: right;\">13</td><td style = \"text-align: left;\">SRR6399874</td><td style = \"text-align: left;\">2018-09-20 00:09:49</td><td style = \"text-align: left;\">2017-12-21 01:44:37</td><td style = \"text-align: right;\">80905313</td><td style = \"text-align: right;\">23122279755</td><td style = \"text-align: right;\">80905313</td><td style = \"text-align: right;\">285</td><td style = \"text-align: right;\">8511</td><td style = \"text-align: left;\">GCA_000001405.13</td><td style = \"text-align: left;\">https://sra-downloadb.be-md.ncbi.nlm.nih.gov/sos5/sra-pub-zq-14/SRR006/399/SRR6399874.sralite.1</td><td style = \"text-align: left;\">SRX3493140</td><td style = \"text-align: left;\">chaoexpo04_I12</td><td style = \"text-align: left;\">WGS</td><td style = \"text-align: left;\">MDA</td><td style = \"text-align: left;\">METAGENOMIC</td><td style = \"text-align: left;\">PAIRED</td><td style = \"text-align: right;\">0</td><td style = \"text-align: right;\">0</td><td style = \"text-align: left;\">ILLUMINA</td><td style = \"text-align: left;\">Illumina HiSeq 4000</td><td style = \"text-align: left;\">SRP127288</td><td style = \"text-align: left;\">PRJNA421162</td><td style = \"text-align: left;\"></td><td style = \"text-align: right;\">421162</td><td style = \"text-align: left;\">SRS2776743</td><td style = \"text-align: left;\">SAMN08215803</td><td style = \"text-align: left;\">simple</td><td style = \"text-align: right;\">655179</td><td style = \"text-align: left;\">air metagenome</td><td style = \"text-align: left;\">chaoexpo04_I12</td><td style = \"text-align: left;\"></td><td style = \"text-align: left;\"></td><td style = \"text-align: left;\"></td><td style = \"text-align: left;\"></td><td style = \"text-align: left;\"></td><td style = \"text-align: left;\"></td><td style = \"text-align: left;\">no</td><td style = \"text-align: left;\"></td><td style = \"text-align: left;\"></td><td style = \"text-align: left;\"></td><td style = \"text-align: left;\"></td><td style = \"text-align: left;\">STANFORD UNIVERSITY</td><td style = \"text-align: left;\">SRA640713</td><td style = \"text-align: left;\"></td><td style = \"text-align: left;\">public</td><td style = \"text-align: left;\">1EA7987AC6252EDC41B4E2342D76DA6B</td><td style = \"text-align: left;\">B67C73B9B0F81FF3B9592292332FEF89</td></tr><tr><td style = \"text-align: right;\">&vellip;</td><td style = \"text-align: right;\">&vellip;</td><td style = \"text-align: right;\">&vellip;</td><td style = \"text-align: right;\">&vellip;</td><td style = \"text-align: right;\">&vellip;</td><td style = \"text-align: right;\">&vellip;</td><td style = \"text-align: right;\">&vellip;</td><td style = \"text-align: right;\">&vellip;</td><td style = \"text-align: right;\">&vellip;</td><td style = \"text-align: right;\">&vellip;</td><td style = \"text-align: right;\">&vellip;</td><td style = \"text-align: right;\">&vellip;</td><td style = \"text-align: right;\">&vellip;</td><td style = \"text-align: right;\">&vellip;</td><td style = \"text-align: right;\">&vellip;</td><td style = \"text-align: right;\">&vellip;</td><td style = \"text-align: right;\">&vellip;</td><td style = \"text-align: right;\">&vellip;</td><td style = \"text-align: right;\">&vellip;</td><td style = \"text-align: right;\">&vellip;</td><td style = \"text-align: right;\">&vellip;</td><td style = \"text-align: right;\">&vellip;</td><td style = \"text-align: right;\">&vellip;</td><td style = \"text-align: right;\">&vellip;</td><td style = \"text-align: right;\">&vellip;</td><td style = \"text-align: right;\">&vellip;</td><td style = \"text-align: right;\">&vellip;</td><td style = \"text-align: right;\">&vellip;</td><td style = \"text-align: right;\">&vellip;</td><td style = \"text-align: right;\">&vellip;</td><td style = \"text-align: right;\">&vellip;</td><td style = \"text-align: right;\">&vellip;</td><td style = \"text-align: right;\">&vellip;</td><td style = \"text-align: right;\">&vellip;</td><td style = \"text-align: right;\">&vellip;</td><td style = \"text-align: right;\">&vellip;</td><td style = \"text-align: right;\">&vellip;</td><td style = \"text-align: right;\">&vellip;</td><td style = \"text-align: right;\">&vellip;</td><td style = \"text-align: right;\">&vellip;</td><td style = \"text-align: right;\">&vellip;</td><td style = \"text-align: right;\">&vellip;</td><td style = \"text-align: right;\">&vellip;</td><td style = \"text-align: right;\">&vellip;</td><td style = \"text-align: right;\">&vellip;</td><td style = \"text-align: right;\">&vellip;</td><td style = \"text-align: right;\">&vellip;</td><td style = \"text-align: right;\">&vellip;</td></tr><tr><td class = \"rowNumber\" style = \"font-weight: bold; text-align: right;\">583</td><td style = \"text-align: left;\">SRR6399645</td><td style = \"text-align: left;\">2018-09-20 00:09:41</td><td style = \"text-align: left;\">2017-12-20 22:08:20</td><td style = \"text-align: right;\">48098186</td><td style = \"text-align: right;\">13574939055</td><td style = \"text-align: right;\">48098186</td><td style = \"text-align: right;\">282</td><td style = \"text-align: right;\">6688</td><td style = \"text-align: left;\">GCA_000001405.13</td><td style = \"text-align: left;\">https://sra-downloadb.be-md.ncbi.nlm.nih.gov/sos5/sra-pub-zq-11/SRR006/399/SRR6399645.sralite.1</td><td style = \"text-align: left;\">SRX3492802</td><td style = \"text-align: left;\">xinexpo76_I12</td><td style = \"text-align: left;\">WGS</td><td style = \"text-align: left;\">cDNA</td><td style = \"text-align: left;\">METATRANSCRIPTOMIC</td><td style = \"text-align: left;\">PAIRED</td><td style = \"text-align: right;\">0</td><td style = \"text-align: right;\">0</td><td style = \"text-align: left;\">ILLUMINA</td><td style = \"text-align: left;\">Illumina HiSeq 4000</td><td style = \"text-align: left;\">SRP127288</td><td style = \"text-align: left;\">PRJNA421162</td><td style = \"text-align: left;\"></td><td style = \"text-align: right;\">421162</td><td style = \"text-align: left;\">SRS2776403</td><td style = \"text-align: left;\">SAMN08216190</td><td style = \"text-align: left;\">simple</td><td style = \"text-align: right;\">655179</td><td style = \"text-align: left;\">air metagenome</td><td style = \"text-align: left;\">xinexpo76_I12</td><td style = \"text-align: left;\"></td><td style = \"text-align: left;\"></td><td style = \"text-align: left;\"></td><td style = \"text-align: left;\"></td><td style = \"text-align: left;\"></td><td style = \"text-align: left;\"></td><td style = \"text-align: left;\">no</td><td style = \"text-align: left;\"></td><td style = \"text-align: left;\"></td><td style = \"text-align: left;\"></td><td style = \"text-align: left;\"></td><td style = \"text-align: left;\">STANFORD UNIVERSITY</td><td style = \"text-align: left;\">SRA640713</td><td style = \"text-align: left;\"></td><td style = \"text-align: left;\">public</td><td style = \"text-align: left;\">B3025D3E90DB5CB607EB51AEEB142284</td><td style = \"text-align: left;\">1F9796FFABB7E10B30FFEE36C5455EC7</td></tr><tr><td class = \"rowNumber\" style = \"font-weight: bold; text-align: right;\">584</td><td style = \"text-align: left;\">SRR6399848</td><td style = \"text-align: left;\">2018-09-20 00:09:50</td><td style = \"text-align: left;\">2017-12-21 01:56:25</td><td style = \"text-align: right;\">53241913</td><td style = \"text-align: right;\">14300912347</td><td style = \"text-align: right;\">53241913</td><td style = \"text-align: right;\">268</td><td style = \"text-align: right;\">7159</td><td style = \"text-align: left;\">GCA_000001405.13</td><td style = \"text-align: left;\">https://sra-downloadb.be-md.ncbi.nlm.nih.gov/sos5/sra-pub-zq-14/SRR006/399/SRR6399848.sralite.1</td><td style = \"text-align: left;\">SRX3493166</td><td style = \"text-align: left;\">xinexpo76_I15</td><td style = \"text-align: left;\">WGS</td><td style = \"text-align: left;\">cDNA</td><td style = \"text-align: left;\">METATRANSCRIPTOMIC</td><td style = \"text-align: left;\">PAIRED</td><td style = \"text-align: right;\">0</td><td style = \"text-align: right;\">0</td><td style = \"text-align: left;\">ILLUMINA</td><td style = \"text-align: left;\">Illumina HiSeq 4000</td><td style = \"text-align: left;\">SRP127288</td><td style = \"text-align: left;\">PRJNA421162</td><td style = \"text-align: left;\"></td><td style = \"text-align: right;\">421162</td><td style = \"text-align: left;\">SRS2776765</td><td style = \"text-align: left;\">SAMN08216196</td><td style = \"text-align: left;\">simple</td><td style = \"text-align: right;\">655179</td><td style = \"text-align: left;\">air metagenome</td><td style = \"text-align: left;\">xinexpo76_I15</td><td style = \"text-align: left;\"></td><td style = \"text-align: left;\"></td><td style = \"text-align: left;\"></td><td style = \"text-align: left;\"></td><td style = \"text-align: left;\"></td><td style = \"text-align: left;\"></td><td style = \"text-align: left;\">no</td><td style = \"text-align: left;\"></td><td style = \"text-align: left;\"></td><td style = \"text-align: left;\"></td><td style = \"text-align: left;\"></td><td style = \"text-align: left;\">STANFORD UNIVERSITY</td><td style = \"text-align: left;\">SRA640713</td><td style = \"text-align: left;\"></td><td style = \"text-align: left;\">public</td><td style = \"text-align: left;\">50BD84F64578A4AA84B55C86A6940DBF</td><td style = \"text-align: left;\">8B228EB9314A6F393CB39A2FF2EFDCBF</td></tr><tr><td class = \"rowNumber\" style = \"font-weight: bold; text-align: right;\">585</td><td style = \"text-align: left;\">SRR6399652</td><td style = \"text-align: left;\">2018-09-20 00:09:41</td><td style = \"text-align: left;\">2017-12-20 22:49:15</td><td style = \"text-align: right;\">51374669</td><td style = \"text-align: right;\">14102366803</td><td style = \"text-align: right;\">51374669</td><td style = \"text-align: right;\">274</td><td style = \"text-align: right;\">6922</td><td style = \"text-align: left;\">GCA_000001405.13</td><td style = \"text-align: left;\">https://sra-downloadb.be-md.ncbi.nlm.nih.gov/sos5/sra-pub-zq-14/SRR006/399/SRR6399652.sralite.1</td><td style = \"text-align: left;\">SRX3492795</td><td style = \"text-align: left;\">xinexpo76_I5</td><td style = \"text-align: left;\">WGS</td><td style = \"text-align: left;\">cDNA</td><td style = \"text-align: left;\">METATRANSCRIPTOMIC</td><td style = \"text-align: left;\">PAIRED</td><td style = \"text-align: right;\">0</td><td style = \"text-align: right;\">0</td><td style = \"text-align: left;\">ILLUMINA</td><td style = \"text-align: left;\">Illumina HiSeq 4000</td><td style = \"text-align: left;\">SRP127288</td><td style = \"text-align: left;\">PRJNA421162</td><td style = \"text-align: left;\"></td><td style = \"text-align: right;\">421162</td><td style = \"text-align: left;\">SRS2776399</td><td style = \"text-align: left;\">SAMN08216181</td><td style = \"text-align: left;\">simple</td><td style = \"text-align: right;\">655179</td><td style = \"text-align: left;\">air metagenome</td><td style = \"text-align: left;\">xinexpo76_I5</td><td style = \"text-align: left;\"></td><td style = \"text-align: left;\"></td><td style = \"text-align: left;\"></td><td style = \"text-align: left;\"></td><td style = \"text-align: left;\"></td><td style = \"text-align: left;\"></td><td style = \"text-align: left;\">no</td><td style = \"text-align: left;\"></td><td style = \"text-align: left;\"></td><td style = \"text-align: left;\"></td><td style = \"text-align: left;\"></td><td style = \"text-align: left;\">STANFORD UNIVERSITY</td><td style = \"text-align: left;\">SRA640713</td><td style = \"text-align: left;\"></td><td style = \"text-align: left;\">public</td><td style = \"text-align: left;\">B61A9B027BD8C9F511C59BC04EAF146E</td><td style = \"text-align: left;\">19A1768A91FE53EFD078FAC599C9AFC3</td></tr><tr><td class = \"rowNumber\" style = \"font-weight: bold; text-align: right;\">586</td><td style = \"text-align: left;\">SRR6399648</td><td style = \"text-align: left;\">2018-09-20 00:09:41</td><td style = \"text-align: left;\">2017-12-21 05:20:38</td><td style = \"text-align: right;\">45614748</td><td style = \"text-align: right;\">12880090151</td><td style = \"text-align: right;\">45614748</td><td style = \"text-align: right;\">282</td><td style = \"text-align: right;\">6283</td><td style = \"text-align: left;\">GCA_000001405.13</td><td style = \"text-align: left;\">https://sra-downloadb.be-md.ncbi.nlm.nih.gov/sos5/sra-pub-zq-14/SRR006/399/SRR6399648.sralite.1</td><td style = \"text-align: left;\">SRX3492799</td><td style = \"text-align: left;\">xinexpo76_I6</td><td style = \"text-align: left;\">WGS</td><td style = \"text-align: left;\">cDNA</td><td style = \"text-align: left;\">METATRANSCRIPTOMIC</td><td style = \"text-align: left;\">PAIRED</td><td style = \"text-align: right;\">0</td><td style = \"text-align: right;\">0</td><td style = \"text-align: left;\">ILLUMINA</td><td style = \"text-align: left;\">Illumina HiSeq 4000</td><td style = \"text-align: left;\">SRP127288</td><td style = \"text-align: left;\">PRJNA421162</td><td style = \"text-align: left;\"></td><td style = \"text-align: right;\">421162</td><td style = \"text-align: left;\">SRS2776401</td><td style = \"text-align: left;\">SAMN08216185</td><td style = \"text-align: left;\">simple</td><td style = \"text-align: right;\">655179</td><td style = \"text-align: left;\">air metagenome</td><td style = \"text-align: left;\">xinexpo76_I6</td><td style = \"text-align: left;\"></td><td style = \"text-align: left;\"></td><td style = \"text-align: left;\"></td><td style = \"text-align: left;\"></td><td style = \"text-align: left;\"></td><td style = \"text-align: left;\"></td><td style = \"text-align: left;\">no</td><td style = \"text-align: left;\"></td><td style = \"text-align: left;\"></td><td style = \"text-align: left;\"></td><td style = \"text-align: left;\"></td><td style = \"text-align: left;\">STANFORD UNIVERSITY</td><td style = \"text-align: left;\">SRA640713</td><td style = \"text-align: left;\"></td><td style = \"text-align: left;\">public</td><td style = \"text-align: left;\">793829694C380803AA7AB3F34182ED5C</td><td style = \"text-align: left;\">D41F5D681EF2E75FC858114A6313FA23</td></tr><tr><td class = \"rowNumber\" style = \"font-weight: bold; text-align: right;\">587</td><td style = \"text-align: left;\">SRR6399735</td><td style = \"text-align: left;\">2018-09-20 00:09:38</td><td style = \"text-align: left;\">2017-12-20 23:38:26</td><td style = \"text-align: right;\">44489435</td><td style = \"text-align: right;\">12232730043</td><td style = \"text-align: right;\">44489435</td><td style = \"text-align: right;\">274</td><td style = \"text-align: right;\">6084</td><td style = \"text-align: left;\">GCA_000001405.13</td><td style = \"text-align: left;\">https://sra-downloadb.be-md.ncbi.nlm.nih.gov/sos5/sra-pub-zq-14/SRR006/399/SRR6399735.sralite.1</td><td style = \"text-align: left;\">SRX3492712</td><td style = \"text-align: left;\">xinexpo77_I12</td><td style = \"text-align: left;\">WGS</td><td style = \"text-align: left;\">cDNA</td><td style = \"text-align: left;\">METATRANSCRIPTOMIC</td><td style = \"text-align: left;\">PAIRED</td><td style = \"text-align: right;\">0</td><td style = \"text-align: right;\">0</td><td style = \"text-align: left;\">ILLUMINA</td><td style = \"text-align: left;\">Illumina HiSeq 4000</td><td style = \"text-align: left;\">SRP127288</td><td style = \"text-align: left;\">PRJNA421162</td><td style = \"text-align: left;\"></td><td style = \"text-align: right;\">421162</td><td style = \"text-align: left;\">SRS2776314</td><td style = \"text-align: left;\">SAMN08216224</td><td style = \"text-align: left;\">simple</td><td style = \"text-align: right;\">655179</td><td style = \"text-align: left;\">air metagenome</td><td style = \"text-align: left;\">xinexpo77_I12</td><td style = \"text-align: left;\"></td><td style = \"text-align: left;\"></td><td style = \"text-align: left;\"></td><td style = \"text-align: left;\"></td><td style = \"text-align: left;\"></td><td style = \"text-align: left;\"></td><td style = \"text-align: left;\">no</td><td style = \"text-align: left;\"></td><td style = \"text-align: left;\"></td><td style = \"text-align: left;\"></td><td style = \"text-align: left;\"></td><td style = \"text-align: left;\">STANFORD UNIVERSITY</td><td style = \"text-align: left;\">SRA640713</td><td style = \"text-align: left;\"></td><td style = \"text-align: left;\">public</td><td style = \"text-align: left;\">30A086FAB2CD16C92AF177D846A631F9</td><td style = \"text-align: left;\">1D86AA8777926E38E908F8FFD6302D8C</td></tr><tr><td class = \"rowNumber\" style = \"font-weight: bold; text-align: right;\">588</td><td style = \"text-align: left;\">SRR6399730</td><td style = \"text-align: left;\">2018-09-20 00:09:38</td><td style = \"text-align: left;\">2017-12-20 23:44:37</td><td style = \"text-align: right;\">45694760</td><td style = \"text-align: right;\">12614486912</td><td style = \"text-align: right;\">45694760</td><td style = \"text-align: right;\">276</td><td style = \"text-align: right;\">6314</td><td style = \"text-align: left;\">GCA_000001405.13</td><td style = \"text-align: left;\">https://sra-downloadb.be-md.ncbi.nlm.nih.gov/sos5/sra-pub-zq-14/SRR006/399/SRR6399730.sralite.1</td><td style = \"text-align: left;\">SRX3492717</td><td style = \"text-align: left;\">xinexpo77_I15</td><td style = \"text-align: left;\">WGS</td><td style = \"text-align: left;\">cDNA</td><td style = \"text-align: left;\">METATRANSCRIPTOMIC</td><td style = \"text-align: left;\">PAIRED</td><td style = \"text-align: right;\">0</td><td style = \"text-align: right;\">0</td><td style = \"text-align: left;\">ILLUMINA</td><td style = \"text-align: left;\">Illumina HiSeq 4000</td><td style = \"text-align: left;\">SRP127288</td><td style = \"text-align: left;\">PRJNA421162</td><td style = \"text-align: left;\"></td><td style = \"text-align: right;\">421162</td><td style = \"text-align: left;\">SRS2776318</td><td style = \"text-align: left;\">SAMN08216225</td><td style = \"text-align: left;\">simple</td><td style = \"text-align: right;\">655179</td><td style = \"text-align: left;\">air metagenome</td><td style = \"text-align: left;\">xinexpo77_I15</td><td style = \"text-align: left;\"></td><td style = \"text-align: left;\"></td><td style = \"text-align: left;\"></td><td style = \"text-align: left;\"></td><td style = \"text-align: left;\"></td><td style = \"text-align: left;\"></td><td style = \"text-align: left;\">no</td><td style = \"text-align: left;\"></td><td style = \"text-align: left;\"></td><td style = \"text-align: left;\"></td><td style = \"text-align: left;\"></td><td style = \"text-align: left;\">STANFORD UNIVERSITY</td><td style = \"text-align: left;\">SRA640713</td><td style = \"text-align: left;\"></td><td style = \"text-align: left;\">public</td><td style = \"text-align: left;\">08FB772D5333D2223E5F9E0D26E4C127</td><td style = \"text-align: left;\">640DF4312A672C29C58E330C15BDF5BE</td></tr><tr><td class = \"rowNumber\" style = \"font-weight: bold; text-align: right;\">589</td><td style = \"text-align: left;\">SRR6399943</td><td style = \"text-align: left;\">2018-09-20 00:09:47</td><td style = \"text-align: left;\">2017-12-21 04:52:02</td><td style = \"text-align: right;\">41234377</td><td style = \"text-align: right;\">11130978813</td><td style = \"text-align: right;\">41234377</td><td style = \"text-align: right;\">269</td><td style = \"text-align: right;\">5470</td><td style = \"text-align: left;\">GCA_000001405.13</td><td style = \"text-align: left;\">https://sra-downloadb.be-md.ncbi.nlm.nih.gov/sos5/sra-pub-zq-14/SRR006/399/SRR6399943.sralite.1</td><td style = \"text-align: left;\">SRX3493071</td><td style = \"text-align: left;\">xinexpo77_I5</td><td style = \"text-align: left;\">WGS</td><td style = \"text-align: left;\">cDNA</td><td style = \"text-align: left;\">METATRANSCRIPTOMIC</td><td style = \"text-align: left;\">PAIRED</td><td style = \"text-align: right;\">0</td><td style = \"text-align: right;\">0</td><td style = \"text-align: left;\">ILLUMINA</td><td style = \"text-align: left;\">Illumina HiSeq 4000</td><td style = \"text-align: left;\">SRP127288</td><td style = \"text-align: left;\">PRJNA421162</td><td style = \"text-align: left;\"></td><td style = \"text-align: right;\">421162</td><td style = \"text-align: left;\">SRS2776673</td><td style = \"text-align: left;\">SAMN08216222</td><td style = \"text-align: left;\">simple</td><td style = \"text-align: right;\">655179</td><td style = \"text-align: left;\">air metagenome</td><td style = \"text-align: left;\">xinexpo77_I5</td><td style = \"text-align: left;\"></td><td style = \"text-align: left;\"></td><td style = \"text-align: left;\"></td><td style = \"text-align: left;\"></td><td style = \"text-align: left;\"></td><td style = \"text-align: left;\"></td><td style = \"text-align: left;\">no</td><td style = \"text-align: left;\"></td><td style = \"text-align: left;\"></td><td style = \"text-align: left;\"></td><td style = \"text-align: left;\"></td><td style = \"text-align: left;\">STANFORD UNIVERSITY</td><td style = \"text-align: left;\">SRA640713</td><td style = \"text-align: left;\"></td><td style = \"text-align: left;\">public</td><td style = \"text-align: left;\">CB66EA833C7C2CB222E539BB02A7686E</td><td style = \"text-align: left;\">DB10DDE737D46EF153B04F077464CC7A</td></tr><tr><td class = \"rowNumber\" style = \"font-weight: bold; text-align: right;\">590</td><td style = \"text-align: left;\">SRR6399736</td><td style = \"text-align: left;\">2018-09-20 00:09:38</td><td style = \"text-align: left;\">2017-12-20 23:51:56</td><td style = \"text-align: right;\">41501209</td><td style = \"text-align: right;\">11301480187</td><td style = \"text-align: right;\">41501209</td><td style = \"text-align: right;\">272</td><td style = \"text-align: right;\">5538</td><td style = \"text-align: left;\">GCA_000001405.13</td><td style = \"text-align: left;\">https://sra-downloadb.be-md.ncbi.nlm.nih.gov/sos5/sra-pub-zq-14/SRR006/399/SRR6399736.sralite.1</td><td style = \"text-align: left;\">SRX3492711</td><td style = \"text-align: left;\">xinexpo77_I6</td><td style = \"text-align: left;\">WGS</td><td style = \"text-align: left;\">cDNA</td><td style = \"text-align: left;\">METATRANSCRIPTOMIC</td><td style = \"text-align: left;\">PAIRED</td><td style = \"text-align: right;\">0</td><td style = \"text-align: right;\">0</td><td style = \"text-align: left;\">ILLUMINA</td><td style = \"text-align: left;\">Illumina HiSeq 4000</td><td style = \"text-align: left;\">SRP127288</td><td style = \"text-align: left;\">PRJNA421162</td><td style = \"text-align: left;\"></td><td style = \"text-align: right;\">421162</td><td style = \"text-align: left;\">SRS2776311</td><td style = \"text-align: left;\">SAMN08216223</td><td style = \"text-align: left;\">simple</td><td style = \"text-align: right;\">655179</td><td style = \"text-align: left;\">air metagenome</td><td style = \"text-align: left;\">xinexpo77_I6</td><td style = \"text-align: left;\"></td><td style = \"text-align: left;\"></td><td style = \"text-align: left;\"></td><td style = \"text-align: left;\"></td><td style = \"text-align: left;\"></td><td style = \"text-align: left;\"></td><td style = \"text-align: left;\">no</td><td style = \"text-align: left;\"></td><td style = \"text-align: left;\"></td><td style = \"text-align: left;\"></td><td style = \"text-align: left;\"></td><td style = \"text-align: left;\">STANFORD UNIVERSITY</td><td style = \"text-align: left;\">SRA640713</td><td style = \"text-align: left;\"></td><td style = \"text-align: left;\">public</td><td style = \"text-align: left;\">4D261499E82C1CCD41602F76FD2A8CA3</td><td style = \"text-align: left;\">A08934344AD2CFB08E309F1D0B8AFFE9</td></tr><tr><td class = \"rowNumber\" style = \"font-weight: bold; text-align: right;\">591</td><td style = \"text-align: left;\">SRR6399731</td><td style = \"text-align: left;\">2018-09-20 00:09:38</td><td style = \"text-align: left;\">2017-12-20 23:05:04</td><td style = \"text-align: right;\">53298715</td><td style = \"text-align: right;\">14291722658</td><td style = \"text-align: right;\">53298715</td><td style = \"text-align: right;\">268</td><td style = \"text-align: right;\">6850</td><td style = \"text-align: left;\">GCA_000001405.13</td><td style = \"text-align: left;\">https://sra-downloadb.be-md.ncbi.nlm.nih.gov/sos5/sra-pub-zq-14/SRR006/399/SRR6399731.sralite.1</td><td style = \"text-align: left;\">SRX3492716</td><td style = \"text-align: left;\">xinexpo78_I12</td><td style = \"text-align: left;\">WGS</td><td style = \"text-align: left;\">cDNA</td><td style = \"text-align: left;\">METATRANSCRIPTOMIC</td><td style = \"text-align: left;\">PAIRED</td><td style = \"text-align: right;\">0</td><td style = \"text-align: right;\">0</td><td style = \"text-align: left;\">ILLUMINA</td><td style = \"text-align: left;\">Illumina HiSeq 4000</td><td style = \"text-align: left;\">SRP127288</td><td style = \"text-align: left;\">PRJNA421162</td><td style = \"text-align: left;\"></td><td style = \"text-align: right;\">421162</td><td style = \"text-align: left;\">SRS2776317</td><td style = \"text-align: left;\">SAMN08216228</td><td style = \"text-align: left;\">simple</td><td style = \"text-align: right;\">655179</td><td style = \"text-align: left;\">air metagenome</td><td style = \"text-align: left;\">xinexpo78_I12</td><td style = \"text-align: left;\"></td><td style = \"text-align: left;\"></td><td style = \"text-align: left;\"></td><td style = \"text-align: left;\"></td><td style = \"text-align: left;\"></td><td style = \"text-align: left;\"></td><td style = \"text-align: left;\">no</td><td style = \"text-align: left;\"></td><td style = \"text-align: left;\"></td><td style = \"text-align: left;\"></td><td style = \"text-align: left;\"></td><td style = \"text-align: left;\">STANFORD UNIVERSITY</td><td style = \"text-align: left;\">SRA640713</td><td style = \"text-align: left;\"></td><td style = \"text-align: left;\">public</td><td style = \"text-align: left;\">E692B4B271A03F0C0BA2C9C14B1D4FAA</td><td style = \"text-align: left;\">5D70E82048F5A2833D47FB7F049A25A7</td></tr><tr><td class = \"rowNumber\" style = \"font-weight: bold; text-align: right;\">592</td><td style = \"text-align: left;\">SRR6399495</td><td style = \"text-align: left;\">2018-09-20 00:09:44</td><td style = \"text-align: left;\">2017-12-20 20:02:28</td><td style = \"text-align: right;\">18911023</td><td style = \"text-align: right;\">5050601087</td><td style = \"text-align: right;\">18911023</td><td style = \"text-align: right;\">267</td><td style = \"text-align: right;\">2543</td><td style = \"text-align: left;\">GCA_000001405.13</td><td style = \"text-align: left;\">https://sra-downloadb.be-md.ncbi.nlm.nih.gov/sos5/sra-pub-zq-14/SRR006/399/SRR6399495.sralite.1</td><td style = \"text-align: left;\">SRX3492952</td><td style = \"text-align: left;\">xinexpo78_I15</td><td style = \"text-align: left;\">WGS</td><td style = \"text-align: left;\">cDNA</td><td style = \"text-align: left;\">METATRANSCRIPTOMIC</td><td style = \"text-align: left;\">PAIRED</td><td style = \"text-align: right;\">0</td><td style = \"text-align: right;\">0</td><td style = \"text-align: left;\">ILLUMINA</td><td style = \"text-align: left;\">Illumina HiSeq 4000</td><td style = \"text-align: left;\">SRP127288</td><td style = \"text-align: left;\">PRJNA421162</td><td style = \"text-align: left;\"></td><td style = \"text-align: right;\">421162</td><td style = \"text-align: left;\">SRS2776551</td><td style = \"text-align: left;\">SAMN08216250</td><td style = \"text-align: left;\">simple</td><td style = \"text-align: right;\">655179</td><td style = \"text-align: left;\">air metagenome</td><td style = \"text-align: left;\">xinexpo78_I15</td><td style = \"text-align: left;\"></td><td style = \"text-align: left;\"></td><td style = \"text-align: left;\"></td><td style = \"text-align: left;\"></td><td style = \"text-align: left;\"></td><td style = \"text-align: left;\"></td><td style = \"text-align: left;\">no</td><td style = \"text-align: left;\"></td><td style = \"text-align: left;\"></td><td style = \"text-align: left;\"></td><td style = \"text-align: left;\"></td><td style = \"text-align: left;\">STANFORD UNIVERSITY</td><td style = \"text-align: left;\">SRA640713</td><td style = \"text-align: left;\"></td><td style = \"text-align: left;\">public</td><td style = \"text-align: left;\">9173ABC1FC9B0AAF9A0ACA94844CA3F0</td><td style = \"text-align: left;\">3DBC98EB7AA28D319405A341D3EB1F19</td></tr><tr><td class = \"rowNumber\" style = \"font-weight: bold; text-align: right;\">593</td><td style = \"text-align: left;\">SRR6399547</td><td style = \"text-align: left;\">2018-09-20 00:09:43</td><td style = \"text-align: left;\">2017-12-20 20:37:56</td><td style = \"text-align: right;\">43780070</td><td style = \"text-align: right;\">11714356987</td><td style = \"text-align: right;\">43780070</td><td style = \"text-align: right;\">267</td><td style = \"text-align: right;\">5831</td><td style = \"text-align: left;\">GCA_000001405.13</td><td style = \"text-align: left;\">https://sra-downloadb.be-md.ncbi.nlm.nih.gov/sos5/sra-pub-zq-14/SRR006/399/SRR6399547.sralite.1</td><td style = \"text-align: left;\">SRX3492900</td><td style = \"text-align: left;\">xinexpo78_I5</td><td style = \"text-align: left;\">WGS</td><td style = \"text-align: left;\">cDNA</td><td style = \"text-align: left;\">METATRANSCRIPTOMIC</td><td style = \"text-align: left;\">PAIRED</td><td style = \"text-align: right;\">0</td><td style = \"text-align: right;\">0</td><td style = \"text-align: left;\">ILLUMINA</td><td style = \"text-align: left;\">Illumina HiSeq 4000</td><td style = \"text-align: left;\">SRP127288</td><td style = \"text-align: left;\">PRJNA421162</td><td style = \"text-align: left;\"></td><td style = \"text-align: right;\">421162</td><td style = \"text-align: left;\">SRS2776501</td><td style = \"text-align: left;\">SAMN08216217</td><td style = \"text-align: left;\">simple</td><td style = \"text-align: right;\">655179</td><td style = \"text-align: left;\">air metagenome</td><td style = \"text-align: left;\">xinexpo78_I5</td><td style = \"text-align: left;\"></td><td style = \"text-align: left;\"></td><td style = \"text-align: left;\"></td><td style = \"text-align: left;\"></td><td style = \"text-align: left;\"></td><td style = \"text-align: left;\"></td><td style = \"text-align: left;\">no</td><td style = \"text-align: left;\"></td><td style = \"text-align: left;\"></td><td style = \"text-align: left;\"></td><td style = \"text-align: left;\"></td><td style = \"text-align: left;\">STANFORD UNIVERSITY</td><td style = \"text-align: left;\">SRA640713</td><td style = \"text-align: left;\"></td><td style = \"text-align: left;\">public</td><td style = \"text-align: left;\">9B9354C979471AD4A3609C2E7CA63B6B</td><td style = \"text-align: left;\">8F9B75992D8039087E841C1AF6CF0D9C</td></tr><tr><td class = \"rowNumber\" style = \"font-weight: bold; text-align: right;\">594</td><td style = \"text-align: left;\">SRR6399548</td><td style = \"text-align: left;\">2018-09-20 00:09:43</td><td style = \"text-align: left;\">2017-12-20 20:54:05</td><td style = \"text-align: right;\">60615298</td><td style = \"text-align: right;\">16314808637</td><td style = \"text-align: right;\">60615298</td><td style = \"text-align: right;\">269</td><td style = \"text-align: right;\">8129</td><td style = \"text-align: left;\">GCA_000001405.13</td><td style = \"text-align: left;\">https://sra-downloadb.be-md.ncbi.nlm.nih.gov/sos5/sra-pub-zq-14/SRR006/399/SRR6399548.sralite.1</td><td style = \"text-align: left;\">SRX3492899</td><td style = \"text-align: left;\">xinexpo78_I6</td><td style = \"text-align: left;\">WGS</td><td style = \"text-align: left;\">cDNA</td><td style = \"text-align: left;\">METATRANSCRIPTOMIC</td><td style = \"text-align: left;\">PAIRED</td><td style = \"text-align: right;\">0</td><td style = \"text-align: right;\">0</td><td style = \"text-align: left;\">ILLUMINA</td><td style = \"text-align: left;\">Illumina HiSeq 4000</td><td style = \"text-align: left;\">SRP127288</td><td style = \"text-align: left;\">PRJNA421162</td><td style = \"text-align: left;\"></td><td style = \"text-align: right;\">421162</td><td style = \"text-align: left;\">SRS2776498</td><td style = \"text-align: left;\">SAMN08216218</td><td style = \"text-align: left;\">simple</td><td style = \"text-align: right;\">655179</td><td style = \"text-align: left;\">air metagenome</td><td style = \"text-align: left;\">xinexpo78_I6</td><td style = \"text-align: left;\"></td><td style = \"text-align: left;\"></td><td style = \"text-align: left;\"></td><td style = \"text-align: left;\"></td><td style = \"text-align: left;\"></td><td style = \"text-align: left;\"></td><td style = \"text-align: left;\">no</td><td style = \"text-align: left;\"></td><td style = \"text-align: left;\"></td><td style = \"text-align: left;\"></td><td style = \"text-align: left;\"></td><td style = \"text-align: left;\">STANFORD UNIVERSITY</td><td style = \"text-align: left;\">SRA640713</td><td style = \"text-align: left;\"></td><td style = \"text-align: left;\">public</td><td style = \"text-align: left;\">B5EEA7445FFC4F99BAAD1080C284CA00</td><td style = \"text-align: left;\">9404350CC70B532516626979A09C0781</td></tr></tbody></table></div>"
      ],
      "text/latex": [
       "\\begin{tabular}{r|ccccccc}\n",
       "\t& Run & ReleaseDate & LoadDate & spots & bases & spots\\_with\\_mates & \\\\\n",
       "\t\\hline\n",
       "\t& String & String & String & Int64 & Int64 & Int64 & \\\\\n",
       "\t\\hline\n",
       "\t1 & SRR6399989 & 2018-09-20 00:09:46 & 2017-12-21 02:43:46 & 69707244 & 20779491232 & 69707244 & $\\dots$ \\\\\n",
       "\t2 & SRR6399861 & 2018-09-20 00:09:49 & 2017-12-21 01:31:21 & 74776004 & 22149677110 & 74776004 & $\\dots$ \\\\\n",
       "\t3 & SRR7365467 & 2018-09-20 00:09:52 & 2018-06-19 14:27:01 & 42394156 & 12547372884 & 42394156 & $\\dots$ \\\\\n",
       "\t4 & SRR6399751 & 2018-09-20 00:09:38 & 2017-12-20 23:26:18 & 83744386 & 24850346547 & 83744386 & $\\dots$ \\\\\n",
       "\t5 & SRR6399787 & 2018-09-20 00:09:37 & 2017-12-20 23:57:04 & 66107363 & 19225536114 & 66107363 & $\\dots$ \\\\\n",
       "\t6 & SRR6400016 & 2018-09-20 00:09:46 & 2017-12-21 03:10:46 & 62527744 & 18527290879 & 62527744 & $\\dots$ \\\\\n",
       "\t7 & SRR6399489 & 2018-09-20 00:09:45 & 2017-12-22 23:21:34 & 86508964 & 25502129583 & 86508964 & $\\dots$ \\\\\n",
       "\t8 & SRR6399692 & 2018-09-20 00:09:39 & 2017-12-20 22:24:39 & 72083751 & 21430826647 & 72083751 & $\\dots$ \\\\\n",
       "\t9 & SRR6399995 & 2018-09-20 00:09:46 & 2017-12-21 03:10:41 & 70182003 & 20452703127 & 70182003 & $\\dots$ \\\\\n",
       "\t10 & SRR6399992 & 2018-09-20 00:09:46 & 2017-12-21 03:09:48 & 75377399 & 21975972388 & 75377399 & $\\dots$ \\\\\n",
       "\t11 & SRR7365466 & 2018-09-20 00:09:52 & 2018-06-19 14:27:35 & 43606564 & 12174649939 & 43606564 & $\\dots$ \\\\\n",
       "\t12 & SRR6399749 & 2018-09-20 00:09:38 & 2017-12-21 07:34:21 & 93740534 & 26973416910 & 93740534 & $\\dots$ \\\\\n",
       "\t13 & SRR6399874 & 2018-09-20 00:09:49 & 2017-12-21 01:44:37 & 80905313 & 23122279755 & 80905313 & $\\dots$ \\\\\n",
       "\t14 & SRR6400010 & 2018-09-20 00:09:46 & 2017-12-21 03:27:54 & 73686461 & 21283115654 & 73686461 & $\\dots$ \\\\\n",
       "\t15 & SRR6399664 & 2018-09-20 00:09:40 & 2017-12-23 03:36:51 & 56194185 & 16137354939 & 56194185 & $\\dots$ \\\\\n",
       "\t16 & SRR6399591 & 2018-09-20 00:09:42 & 2017-12-20 21:54:31 & 73962631 & 21480945182 & 73962631 & $\\dots$ \\\\\n",
       "\t17 & SRR6399558 & 2018-09-20 00:09:43 & 2017-12-20 20:13:19 & 43950241 & 12404697152 & 43950241 & $\\dots$ \\\\\n",
       "\t18 & SRR6399864 & 2018-09-20 00:09:49 & 2017-12-21 01:18:09 & 54732633 & 15704903723 & 54732633 & $\\dots$ \\\\\n",
       "\t19 & SRR7365472 & 2018-09-20 00:09:52 & 2018-06-19 13:50:19 & 15573248 & 4525788163 & 15573248 & $\\dots$ \\\\\n",
       "\t20 & SRR6399931 & 2018-09-20 00:09:48 & 2017-12-21 02:19:13 & 59813063 & 17191267482 & 59813063 & $\\dots$ \\\\\n",
       "\t21 & SRR6400011 & 2018-09-20 00:09:46 & 2017-12-21 04:29:37 & 57812423 & 16711061535 & 57812423 & $\\dots$ \\\\\n",
       "\t22 & SRR6399618 & 2018-09-20 00:09:41 & 2017-12-21 05:12:01 & 62405823 & 18260704358 & 62405823 & $\\dots$ \\\\\n",
       "\t23 & SRR6399920 & 2018-09-20 00:09:48 & 2017-12-20 20:04:53 & 30887711 & 8893987525 & 30887711 & $\\dots$ \\\\\n",
       "\t24 & SRR6399589 & 2018-09-20 00:09:42 & 2017-12-20 20:44:57 & 56207550 & 16332932853 & 56207550 & $\\dots$ \\\\\n",
       "\t25 & SRR6399921 & 2018-09-20 00:09:48 & 2017-12-21 10:42:30 & 51734347 & 14796795407 & 51734347 & $\\dots$ \\\\\n",
       "\t26 & SRR6399769 & 2018-09-20 00:09:37 & 2017-12-21 00:16:20 & 35750467 & 10377085198 & 35750467 & $\\dots$ \\\\\n",
       "\t27 & SRR7365473 & 2018-09-20 00:09:52 & 2018-06-19 15:34:47 & 40653167 & 11781067247 & 40653167 & $\\dots$ \\\\\n",
       "\t28 & SRR6399993 & 2018-09-20 00:09:46 & 2017-12-21 02:57:21 & 75833003 & 21822155283 & 75833003 & $\\dots$ \\\\\n",
       "\t29 & SRR6399622 & 2018-09-20 00:09:41 & 2017-12-21 12:00:13 & 43567554 & 12556985049 & 43567554 & $\\dots$ \\\\\n",
       "\t30 & SRR6399810 & 2018-09-20 00:09:36 & 2017-12-21 00:19:34 & 61106518 & 17651169612 & 61106518 & $\\dots$ \\\\\n",
       "\t$\\dots$ & $\\dots$ & $\\dots$ & $\\dots$ & $\\dots$ & $\\dots$ & $\\dots$ &  \\\\\n",
       "\\end{tabular}\n"
      ],
      "text/plain": [
       "\u001b[1m594×47 DataFrame\u001b[0m\n",
       "\u001b[1m Row \u001b[0m│\u001b[1m Run        \u001b[0m\u001b[1m ReleaseDate         \u001b[0m\u001b[1m LoadDate            \u001b[0m\u001b[1m spots    \u001b[0m\u001b[1m bases  \u001b[0m ⋯\n",
       "     │\u001b[90m String     \u001b[0m\u001b[90m String              \u001b[0m\u001b[90m String              \u001b[0m\u001b[90m Int64    \u001b[0m\u001b[90m Int64  \u001b[0m ⋯\n",
       "─────┼──────────────────────────────────────────────────────────────────────────\n",
       "   1 │ SRR6399989  2018-09-20 00:09:46  2017-12-21 02:43:46  69707244  2077949 ⋯\n",
       "   2 │ SRR6399861  2018-09-20 00:09:49  2017-12-21 01:31:21  74776004  2214967\n",
       "   3 │ SRR7365467  2018-09-20 00:09:52  2018-06-19 14:27:01  42394156  1254737\n",
       "   4 │ SRR6399751  2018-09-20 00:09:38  2017-12-20 23:26:18  83744386  2485034\n",
       "   5 │ SRR6399787  2018-09-20 00:09:37  2017-12-20 23:57:04  66107363  1922553 ⋯\n",
       "   6 │ SRR6400016  2018-09-20 00:09:46  2017-12-21 03:10:46  62527744  1852729\n",
       "   7 │ SRR6399489  2018-09-20 00:09:45  2017-12-22 23:21:34  86508964  2550212\n",
       "   8 │ SRR6399692  2018-09-20 00:09:39  2017-12-20 22:24:39  72083751  2143082\n",
       "   9 │ SRR6399995  2018-09-20 00:09:46  2017-12-21 03:10:41  70182003  2045270 ⋯\n",
       "  10 │ SRR6399992  2018-09-20 00:09:46  2017-12-21 03:09:48  75377399  2197597\n",
       "  11 │ SRR7365466  2018-09-20 00:09:52  2018-06-19 14:27:35  43606564  1217464\n",
       "  ⋮  │     ⋮                ⋮                    ⋮              ⋮           ⋮  ⋱\n",
       " 585 │ SRR6399652  2018-09-20 00:09:41  2017-12-20 22:49:15  51374669  1410236\n",
       " 586 │ SRR6399648  2018-09-20 00:09:41  2017-12-21 05:20:38  45614748  1288009 ⋯\n",
       " 587 │ SRR6399735  2018-09-20 00:09:38  2017-12-20 23:38:26  44489435  1223273\n",
       " 588 │ SRR6399730  2018-09-20 00:09:38  2017-12-20 23:44:37  45694760  1261448\n",
       " 589 │ SRR6399943  2018-09-20 00:09:47  2017-12-21 04:52:02  41234377  1113097\n",
       " 590 │ SRR6399736  2018-09-20 00:09:38  2017-12-20 23:51:56  41501209  1130148 ⋯\n",
       " 591 │ SRR6399731  2018-09-20 00:09:38  2017-12-20 23:05:04  53298715  1429172\n",
       " 592 │ SRR6399495  2018-09-20 00:09:44  2017-12-20 20:02:28  18911023   505060\n",
       " 593 │ SRR6399547  2018-09-20 00:09:43  2017-12-20 20:37:56  43780070  1171435\n",
       " 594 │ SRR6399548  2018-09-20 00:09:43  2017-12-20 20:54:05  60615298  1631480 ⋯\n",
       "\u001b[36m                                                 43 columns and 573 rows omitted\u001b[0m"
      ]
     },
     "execution_count": 107,
     "metadata": {},
     "output_type": "execute_result"
    }
   ],
   "source": [
    "metadata_file = joinpath(dirname(pwd()), \"metadata\", \"exposome\", \"SraRunInfo.csv\")\n",
    "metadata_table = DataFrames.DataFrame(uCSV.read(metadata_file, header=1)...)"
   ]
  },
  {
   "cell_type": "code",
   "execution_count": 110,
   "id": "f3cc4148-3adc-49e1-937a-729b7d877144",
   "metadata": {
    "tags": []
   },
   "outputs": [
    {
     "name": "stdout",
     "output_type": "stream",
     "text": [
      "chaoexpo13_I5\n",
      "chaoexpo14_I12\n",
      "chaoexpo14_I5\n",
      "chaoexpo15_I5\n",
      "chaoexpo16_I12\n",
      "chaoexpo16_I5\n",
      "chaoexpo16_I6\n",
      "chaoexpo18_I12\n",
      "chaoexpo18_I15\n",
      "chaoexpo18_I5\n",
      "chaoexpo18_I6\n",
      "chaoexpo19_I6\n",
      "chaoexpo26_I6\n"
     ]
    }
   ],
   "source": [
    "for x in metadata_table[map(x -> x in ab, metadata_table[!, \"Run\"]), \"LibraryName\"]\n",
    "    println(x)\n",
    "end"
   ]
  },
  {
   "cell_type": "code",
   "execution_count": 113,
   "id": "63a71630-4496-4b69-9f89-a267befb6f15",
   "metadata": {
    "tags": []
   },
   "outputs": [
    {
     "data": {
      "text/plain": [
       "2-element Vector{String}:\n",
       " \"SRR6399584\"\n",
       " \"SRR6399878\""
      ]
     },
     "execution_count": 113,
     "metadata": {},
     "output_type": "execute_result"
    }
   ],
   "source": [
    "is_in_top_set = map(x -> x in ab, sample_summary_table[!, \"sample_id\"])\n",
    "is_above_contamination_load = sample_summary_table[!, \"total_mapped_bases\"] .>= contamination_load\n",
    "above_contamination = sample_summary_table[is_in_top_set .& is_above_contamination_load, \"sample_id\"]"
   ]
  },
  {
   "cell_type": "code",
   "execution_count": 114,
   "id": "26f0ad5f-bad8-4107-9bbd-3819cccfd8b5",
   "metadata": {
    "tags": []
   },
   "outputs": [
    {
     "name": "stdout",
     "output_type": "stream",
     "text": [
      "chaoexpo14_I5\n",
      "chaoexpo26_I6\n"
     ]
    }
   ],
   "source": [
    "for x in metadata_table[map(x -> x in above_contamination, metadata_table[!, \"Run\"]), \"LibraryName\"]\n",
    "    println(x)\n",
    "end"
   ]
  },
  {
   "cell_type": "code",
   "execution_count": null,
   "id": "f1a78738-6779-49dd-8d7d-f44b1c7637c4",
   "metadata": {},
   "outputs": [],
   "source": [
    "\n",
    "\n",
    "# joint_summary_table = DataFrames.innerjoin(summary_table, metadata_table, on=\"sample_identifier\" => \"Run\")"
   ]
  },
  {
   "cell_type": "code",
   "execution_count": null,
   "id": "4fb01865-2aa2-4306-9c53-e41259cfe2d8",
   "metadata": {},
   "outputs": [],
   "source": [
    "# intersect list above with library prep dataframe"
   ]
  },
  {
   "cell_type": "code",
   "execution_count": 91,
   "id": "00c5c658-05c5-4d8c-b1af-fbe14e390666",
   "metadata": {
    "tags": []
   },
   "outputs": [],
   "source": [
    "# sample_summary_table[!, \"total_mapped_bases_viral\"] = sample_summary_table[!, \"total_mapped_bases\"] .* sample_summary_table[!, \"percent_mapped_bases_viral\"]"
   ]
  },
  {
   "cell_type": "code",
   "execution_count": 92,
   "id": "91292357-3c09-4da1-9851-34da8a3be8c5",
   "metadata": {
    "tags": []
   },
   "outputs": [],
   "source": [
    "# findfirst(sample_summary_table[!, \"sample_id\"] .== \"SRR6399584\") / DataFrames.nrow(sample_summary_table)"
   ]
  },
  {
   "cell_type": "code",
   "execution_count": 93,
   "id": "178bea5d-404f-438d-8d13-37176d1210ab",
   "metadata": {
    "tags": []
   },
   "outputs": [],
   "source": [
    "# negative_control = sample_summary_table[findfirst(sample_summary_table[!, \"sample_id\"] .== \"SRR6399584\"), \"total_mapped_bases\"]"
   ]
  },
  {
   "cell_type": "code",
   "execution_count": null,
   "id": "48b8fcf2-f74a-4fe6-b3aa-4dda0ebc4522",
   "metadata": {},
   "outputs": [],
   "source": []
  },
  {
   "cell_type": "code",
   "execution_count": 94,
   "id": "5df1d241-8575-4fca-b607-71fe523b4efa",
   "metadata": {
    "tags": []
   },
   "outputs": [],
   "source": [
    "# negative_control = 6080239502"
   ]
  },
  {
   "cell_type": "code",
   "execution_count": 95,
   "id": "dac3f347-a2be-4557-afa6-6178a72e0cae",
   "metadata": {
    "tags": []
   },
   "outputs": [],
   "source": [
    "# sample_summary_table[sample_summary_table[!, \"total_mapped_bases\"] .<= (mean_mapped_bases - 2std_mapped_bases), :]"
   ]
  },
  {
   "cell_type": "code",
   "execution_count": 96,
   "id": "53b2aa97-d6f8-4fbb-8767-eee493a112a8",
   "metadata": {
    "tags": []
   },
   "outputs": [],
   "source": [
    "# sample_summary_table[sample_summary_table[!, \"total_mapped_bases\"] .>= (mean_mapped_bases - 2.5std_mapped_bases), :]"
   ]
  },
  {
   "cell_type": "code",
   "execution_count": 73,
   "id": "d9231620-78b7-4d74-86ab-ff5cde5c70e3",
   "metadata": {
    "tags": []
   },
   "outputs": [
    {
     "data": {
      "text/plain": [
       "20828474377"
      ]
     },
     "execution_count": 73,
     "metadata": {},
     "output_type": "execute_result"
    }
   ],
   "source": []
  },
  {
   "cell_type": "code",
   "execution_count": 97,
   "id": "7b389e1a-0b52-4045-9a9b-42dbcf5b11f0",
   "metadata": {
    "tags": []
   },
   "outputs": [],
   "source": [
    "# sort(sample_summary_table, \"percent_contigs_viral\", rev=true)"
   ]
  },
  {
   "cell_type": "code",
   "execution_count": null,
   "id": "bc33aeb6-320e-49d2-a8b9-43bc12f18384",
   "metadata": {
    "tags": []
   },
   "outputs": [],
   "source": [
    "# DataFrames.groupby(sort!(joint_contig_info_table[.!isempty.(joint_contig_info_table[!, \"subject id\"]), :], \"evalue\"), \"Method\")"
   ]
  },
  {
   "cell_type": "code",
   "execution_count": null,
   "id": "8bfc900d-a9be-4515-9442-896044071d20",
   "metadata": {
    "tags": []
   },
   "outputs": [],
   "source": [
    "# DataFrames.sort!(DataFrames.groupby(joint_contig_info_table, \"Method\"), \"\")"
   ]
  },
  {
   "cell_type": "code",
   "execution_count": null,
   "id": "4521d9ad-fe71-481b-a42c-f9ba4ebd470b",
   "metadata": {},
   "outputs": [],
   "source": []
  },
  {
   "cell_type": "code",
   "execution_count": null,
   "id": "46fce3a3-4b33-4eae-8a64-8719548c1af3",
   "metadata": {},
   "outputs": [],
   "source": [
    "# take genomad and virsorter results as binary"
   ]
  },
  {
   "cell_type": "code",
   "execution_count": null,
   "id": "29672a25-6c0c-43d2-a281-46ef1e505592",
   "metadata": {},
   "outputs": [],
   "source": [
    "# make "
   ]
  },
  {
   "cell_type": "code",
   "execution_count": null,
   "id": "b1868b15-467c-4435-8596-c3e213dd7fb4",
   "metadata": {
    "tags": []
   },
   "outputs": [],
   "source": [
    "# tophit_report = \"/global/cfs/cdirs/m4269/cjprybol/Mycelia/projects/viral-pangenome-discovery/data/SRA/SRR6399459/mmseqs_easy_taxonomy/final.contigs.fastg.gfa.fna.mmseqs_easy_taxonomy.UniRef100_tophit_report\"\n",
    "# Mycelia.parse_mmseqs_easy_taxonomy_tophit_report(tophit_report)"
   ]
  },
  {
   "cell_type": "code",
   "execution_count": null,
   "id": "18397664-b1ec-432c-8a2f-51549c1248f2",
   "metadata": {
    "tags": []
   },
   "outputs": [],
   "source": [
    "# tophit_aln = \"/global/cfs/cdirs/m4269/cjprybol/Mycelia/projects/viral-pangenome-discovery/data/SRA/SRR6399459/mmseqs_easy_taxonomy/final.contigs.fastg.gfa.fna.mmseqs_easy_taxonomy.UniRef100_tophit_aln\"\n",
    "# Mycelia.parse_mmseqs_tophit_aln(tophit_aln)"
   ]
  },
  {
   "cell_type": "code",
   "execution_count": null,
   "id": "6b2f128a-09de-4026-bba7-eca378fe786f",
   "metadata": {
    "tags": []
   },
   "outputs": [],
   "source": [
    "# report - this is tree-based relative frequencies - make krona plots from these!"
   ]
  },
  {
   "cell_type": "code",
   "execution_count": null,
   "id": "e7083596-3fa1-42fd-8208-003016453650",
   "metadata": {},
   "outputs": [],
   "source": [
    "# load in other classification approaches"
   ]
  },
  {
   "cell_type": "code",
   "execution_count": null,
   "id": "19108955-b91d-4bc9-97ea-718278ab7597",
   "metadata": {},
   "outputs": [],
   "source": [
    "# get number of contigs from each sample"
   ]
  },
  {
   "cell_type": "code",
   "execution_count": null,
   "id": "2c6f83ff-bbaf-45cf-8ecf-efacbbed59eb",
   "metadata": {
    "tags": []
   },
   "outputs": [],
   "source": [
    "# viral_frequency_table = DataFrames.DataFrame(\n",
    "#     sample_identifier = String[],\n",
    "#     classification_method = String[],\n",
    "#     percent_viral_contigs = Float64[]\n",
    "# )\n",
    "\n",
    "# ProgressMeter.@showprogress for SRR_path in SRR_paths\n",
    "#     mmseqs_dir = joinpath(SRR_path, \"mmseqs_easy_taxonomy\")\n",
    "#     for db in uniref_dbs\n",
    "#         kraken_report = \"$(mmseqs_dir)/final.contigs.fastg.gfa.fna.mmseqs_easy_taxonomy.$(db)_report\"\n",
    "#         # add something to determine everything below viruses with phylokit or whatever it's called\n",
    "#         viral_lines = collect(Iterators.filter(x -> occursin(r\"virus\"i, x) && occursin(r\"10239\"i, x), eachline(kraken_report)))\n",
    "#         if length(viral_lines) == 0\n",
    "#             percent_viral_contigs = 0.0\n",
    "#         elseif length(viral_lines) == 1\n",
    "#             viral_line_table = Mycelia.read_kraken_report(IOBuffer(join(viral_lines, '\\n')))\n",
    "#             percent_viral_contigs = viral_line_table[1, \"percentage_of_fragments_at_or_below_taxon\"]\n",
    "#         else\n",
    "#             display(viral_lines)\n",
    "#             error()\n",
    "#         end\n",
    "#         row = (\n",
    "#             sample_identifier = basename(SRR_path),\n",
    "#             classification_method = db,\n",
    "#             percent_viral_contigs = percent_viral_contigs\n",
    "#         )\n",
    "#         push!(viral_frequency_table, row)\n",
    "#     end\n",
    "# end\n",
    "# viral_frequency_table"
   ]
  },
  {
   "cell_type": "code",
   "execution_count": null,
   "id": "eea25da9-4f46-4d77-a422-561e6da5c3f0",
   "metadata": {
    "tags": []
   },
   "outputs": [],
   "source": [
    "# readdir()"
   ]
  },
  {
   "cell_type": "code",
   "execution_count": null,
   "id": "225f7a09-3361-4455-bfbc-432906bff63d",
   "metadata": {
    "tags": []
   },
   "outputs": [],
   "source": [
    "# summary_table = DataFrames.combine(DataFrames.groupby(viral_frequency_table, \"sample_identifier\"), \"percent_viral_contigs\" => Statistics.median)\n",
    "# metadata_file = joinpath(dirname(pwd()), \"metadata\", \"exposome\", \"SraRunInfo.csv\")\n",
    "# metadata_table = DataFrames.DataFrame(uCSV.read(metadata_file, header=1)...)\n",
    "# joint_summary_table = DataFrames.innerjoin(summary_table, metadata_table, on=\"sample_identifier\" => \"Run\")\n",
    "# joint_summary_table = sort(joint_summary_file, \"percent_viral_contigs_median\", rev=true)"
   ]
  },
  {
   "cell_type": "code",
   "execution_count": null,
   "id": "f9a90ace-4c99-4f9f-982b-d3312bbeedf1",
   "metadata": {
    "tags": []
   },
   "outputs": [],
   "source": [
    "# joint_summary_table[joint_summary_table[!, \"percent_viral_contigs_median\"] .>= 1, [\"sample_identifier\", \"LibraryName\"]]"
   ]
  },
  {
   "cell_type": "code",
   "execution_count": null,
   "id": "99c149c1-2ce5-4e2f-bf54-f42ce88a5d1e",
   "metadata": {
    "tags": []
   },
   "outputs": [],
   "source": [
    "# SRR_path = first(SRR_paths)"
   ]
  },
  {
   "cell_type": "code",
   "execution_count": null,
   "id": "fbb7a7fe-e317-40b2-a833-97c171d7ff98",
   "metadata": {},
   "outputs": [],
   "source": [
    "# make joint_contig_info reports"
   ]
  },
  {
   "cell_type": "code",
   "execution_count": null,
   "id": "0ad765a3-1ec5-401e-a3d9-5c91bd2a1795",
   "metadata": {
    "tags": []
   },
   "outputs": [],
   "source": [
    "# readdir(SRR_path)"
   ]
  },
  {
   "cell_type": "code",
   "execution_count": null,
   "id": "710466c0-6911-4ce0-be80-384c326e0dbe",
   "metadata": {
    "tags": []
   },
   "outputs": [],
   "source": [
    "# # \"genomad\"\n",
    "# readdir(joinpath(SRR_path, \"genomad\", \"final.contigs.fastg.gfa_summary\"))\n",
    "# # \"final.contigs.fastg.gfa_virus_genes.tsv\"\n",
    "# # \"final.contigs.fastg.gfa_virus_proteins.faa\"\n",
    "\n",
    "# # \"final.contigs.fastg.gfa_virus.fna\"\n",
    "# # \"final.contigs.fastg.gfa_virus_summary.tsv\""
   ]
  },
  {
   "cell_type": "code",
   "execution_count": null,
   "id": "9595eade-6bcf-45f6-a1c2-efc68794e6cb",
   "metadata": {},
   "outputs": [],
   "source": [
    "# hit vs no hit\n",
    "# \"blastn\""
   ]
  },
  {
   "cell_type": "code",
   "execution_count": null,
   "id": "61995565-0ec8-443b-8534-3d0ef52935cc",
   "metadata": {
    "tags": []
   },
   "outputs": [],
   "source": [
    "# \"virsorter\"\n",
    "# # final-viral-score.tsv - 1 line per viral contig\n",
    "# # final-viral-combined.fa - viral fasta records"
   ]
  },
  {
   "cell_type": "code",
   "execution_count": null,
   "id": "f39de630-bb60-4b42-8d9f-581e94c98ac5",
   "metadata": {
    "tags": []
   },
   "outputs": [],
   "source": [
    "# readdir(SRR_path)"
   ]
  },
  {
   "cell_type": "code",
   "execution_count": null,
   "id": "b899696d-43e3-49e6-8b8a-caed856b474a",
   "metadata": {},
   "outputs": [],
   "source": [
    "# summary_table = DataFrames.combine(DataFrames.groupby(viral_frequency_table, \"sample_identifier\"), \"percent_viral_contigs\" => Statistics.median)"
   ]
  },
  {
   "cell_type": "code",
   "execution_count": null,
   "id": "c06fe840-6f84-4901-bd9a-394d3093af45",
   "metadata": {
    "tags": []
   },
   "outputs": [],
   "source": [
    "\n",
    "# for SRR_path in SRR_paths\n",
    "#     SRR = basename(SRR_path)\n",
    "#     assembled_fasta = joinpath(SRR_path, \"megahit\", \"final.contigs.fastg.gfa.fna\")\n",
    "#     out_dir = mkpath(joinpath(SRR_path, \"mmseqs_easy_taxonomy\"))\n",
    "#     outfile_base = joinpath(out_dir, basename(assembled_fasta) * \".mmseqs_easy_taxonomy.\" * basename(target_database))\n",
    "#     outfiles = [outfile_base * ext for ext in [\"_lca.tsv\", \"_report\", \"_tophit_aln\", \"_tophit_report\"]]\n",
    "#     if !all(isfile, outfiles)\n",
    "#         println(\"need to run $target_database for $SRR\")\n",
    "#         # run(`sbatch mmseqs.sh $(assembled_fasta) $(target_database) $(outfile_base) $(joinpath(out_dir, \"tmp\"))`)\n",
    "#         # println(`sbatch mmseqs.sh $(assembled_fasta) $(target_database) $(outfile_base) $(joinpath(out_dir, \"tmp\"))`)\n",
    "#         # 73 minutes UniRef100\n",
    "#         # 35 minutes UniRef90\n",
    "#         # 10 minutes UniRef50\n",
    "#         # println(\"conda run --no-capture-output -n mmseqs2 mmseqs easy-taxonomy $(assembled_fasta) $(target_database) $(outfile_base) $(joinpath(out_dir, \"tmp\"))\")\n",
    "#         # Mycelia.run_mmseqs_easy_taxonomy(out_dir=SRR_path, query_fasta=assembled_fasta, target_database=target_database, outfile=SRR)\n",
    "#     else\n",
    "#         println(\"all outfiles already exists for $target_database and $SRR...\")\n",
    "#     end\n",
    "# end"
   ]
  },
  {
   "cell_type": "code",
   "execution_count": null,
   "id": "c7cbdf58-fa45-4e34-96ff-a50eef9ce778",
   "metadata": {},
   "outputs": [],
   "source": [
    "# python $HOME/workspace/Mycelia/projects/viral-pangenome-discovery/notebooks/kreport2krona.py -r $HOME/workspace/Mycelia/projects/viral-pangenome-discovery/data/SRA/SRR6399459/mmseqs_easy_taxonomy_default/SRR6399459.mmseqs_easy_taxonomy.UniRef100.txt_report -o $HOME/workspace/Mycelia/projects/viral-pangenome-discovery/data/SRA/SRR6399459/mmseqs_easy_taxonomy_default/SRR6399459.mmseqs_easy_taxonomy.UniRef100.txt_report.krona\n",
    "# mamba install -c bioconda krona\n",
    "# ktUpdateTaxonomy.sh\n",
    "# ktImportText $HOME/workspace/Mycelia/projects/viral-pangenome-discovery/data/SRA/SRR6399459/mmseqs_easy_taxonomy_default/SRR6399459.mmseqs_easy_taxonomy.UniRef100.txt_report.krona -o $HOME/workspace/Mycelia/projects/viral-pangenome-discovery/data/SRA/SRR6399459/mmseqs_easy_taxonomy_default/SRR6399459.mmseqs_easy_taxonomy.UniRef100.txt_report.krona.html\n",
    "# if !isfile(krona_file)\n",
    "#     run(`python kreport2krona.py -r $(report) -o $(krona_file)`)\n",
    "# end\n",
    "# if !isfile(krona_html)\n",
    "#     run(`ktImportText $(krona_file) -o $(krona_html)`)\n",
    "# end"
   ]
  }
 ],
 "metadata": {
  "kernelspec": {
   "display_name": "Julia 1.6.7",
   "language": "julia",
   "name": "julia-1.6"
  },
  "language_info": {
   "file_extension": ".jl",
   "mimetype": "application/julia",
   "name": "julia",
   "version": "1.6.7"
  }
 },
 "nbformat": 4,
 "nbformat_minor": 5
}
