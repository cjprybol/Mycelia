{
 "cells": [
  {
   "cell_type": "code",
   "execution_count": null,
   "id": "c33f29fe-042e-4f3b-b960-e3b11c8645b8",
   "metadata": {},
   "outputs": [],
   "source": [
    "import ProgressMeter"
   ]
  },
  {
   "cell_type": "code",
   "execution_count": null,
   "id": "0c0f591d-fdfc-4191-a5e3-19a2da62987a",
   "metadata": {},
   "outputs": [],
   "source": [
    "project_dir = dirname(pwd())"
   ]
  },
  {
   "cell_type": "code",
   "execution_count": null,
   "id": "419458be-3bda-437f-9108-59b7d55a2c0f",
   "metadata": {
    "tags": []
   },
   "outputs": [],
   "source": [
    "data_dir = joinpath(project_dir, \"data\")"
   ]
  },
  {
   "cell_type": "code",
   "execution_count": null,
   "id": "9ad9893a-9673-4a10-bc3a-f32b43d1c5b2",
   "metadata": {},
   "outputs": [],
   "source": [
    "sra_dir = joinpath(data_dir, \"SRA\")"
   ]
  },
  {
   "cell_type": "code",
   "execution_count": null,
   "id": "a2e77af2-05ce-4aaf-9b0c-c7e11639edda",
   "metadata": {
    "tags": []
   },
   "outputs": [],
   "source": [
    "sra_list = filter(x -> !occursin(r\"\\.\", x), readdir(sra_dir))"
   ]
  },
  {
   "cell_type": "code",
   "execution_count": null,
   "id": "9212c035-a34e-4597-a957-84d576c781d4",
   "metadata": {
    "tags": []
   },
   "outputs": [],
   "source": [
    "ProgressMeter.@showprogress for srr in sra_list\n",
    "    srr_dir = joinpath(sra_dir, srr)\n",
    "    @show srr_dir\n",
    "    kraken_dir = joinpath(srr_dir, \"kraken\")\n",
    "    if isdir(kraken_dir)\n",
    "        google_drive_dir = \"google_drive:Projects/\" * kraken_dir[length(dirname(project_dir))+2:end]\n",
    "        @time run(`rclone copy $(kraken_dir) $(google_drive_dir)`)\n",
    "        trim_galore_dir = joinpath(srr_dir, \"trim_galore\")\n",
    "        rmdir(trim_galore_dir, recursive=true)\n",
    "    end\n",
    "end"
   ]
  }
 ],
 "metadata": {
  "kernelspec": {
   "display_name": "Julia 1.6.7",
   "language": "julia",
   "name": "julia-1.6"
  },
  "language_info": {
   "file_extension": ".jl",
   "mimetype": "application/julia",
   "name": "julia",
   "version": "1.6.7"
  }
 },
 "nbformat": 4,
 "nbformat_minor": 5
}
