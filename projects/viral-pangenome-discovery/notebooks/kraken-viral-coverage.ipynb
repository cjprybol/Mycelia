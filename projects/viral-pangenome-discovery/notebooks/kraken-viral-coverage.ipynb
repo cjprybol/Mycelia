{
 "cells": [
  {
   "cell_type": "code",
   "execution_count": null,
   "id": "d721fa48-b788-4576-9cab-b93b33daf55e",
   "metadata": {
    "tags": []
   },
   "outputs": [],
   "source": [
    "import Pkg\n",
    "Pkg.activate(\".\")\n",
    "\n",
    "# not for the faint of heart!\n",
    "# Pkg.update()\n",
    "\n",
    "pkgs = [\n",
    "\"ProgressMeter\",\n",
    "\"uCSV\",\n",
    "\"DataFrames\",\n",
    "\"StatsPlots\",\n",
    "\"StatsBase\",\n",
    "\"Statistics\"\n",
    "]\n",
    "Pkg.add(pkgs)\n",
    "for pkg in pkgs\n",
    "    eval(Meta.parse(\"import $pkg\"))\n",
    "end\n",
    "\n",
    "Pkg.develop(path=\"../../..\")\n",
    "import Mycelia"
   ]
  },
  {
   "cell_type": "code",
   "execution_count": null,
   "id": "876f3489-743e-4056-9b78-b0652ba840b3",
   "metadata": {
    "tags": []
   },
   "outputs": [],
   "source": [
    "PROJECT_BASE = dirname(pwd())"
   ]
  },
  {
   "cell_type": "code",
   "execution_count": null,
   "id": "e0baa95b-4da7-4673-9f89-dc87bb278f46",
   "metadata": {},
   "outputs": [],
   "source": [
    "SRA_DIR = joinpath(PROJECT_BASE, \"data\", \"SRA\")"
   ]
  },
  {
   "cell_type": "code",
   "execution_count": null,
   "id": "3a5ca32c-0be1-47c6-b7b9-ec693b25df36",
   "metadata": {
    "tags": []
   },
   "outputs": [],
   "source": [
    "SRRs = filter(x -> occursin(r\"^SRR\", x), readdir(SRA_DIR))"
   ]
  },
  {
   "cell_type": "code",
   "execution_count": null,
   "id": "92b8bc04-0594-4f73-b2cb-4fff7cce9e44",
   "metadata": {
    "tags": []
   },
   "outputs": [],
   "source": [
    "joint_virus_table = DataFrames.DataFrame()\n",
    "ProgressMeter.@showprogress for SRR in SRRs\n",
    "    SRR_dir = joinpath(SRA_DIR, SRR)\n",
    "    kraken_dir = joinpath(SRR_dir, \"kraken\")\n",
    "    kraken_reports = filter(x -> occursin(r\"\\.kraken-report\\.tsv$\", x), readdir(kraken_dir))\n",
    "    @assert length(kraken_reports) == 1\n",
    "    kraken_report = first(kraken_reports)\n",
    "\n",
    "    # ranks: (U)nclassified, (R)oot, (D)omain, (K)ingdom, (P)hylum, (C)lass, (O)rder, (F)amily, (G)enus, or (S)pecies.\n",
    "\n",
    "    kraken_report_header = [\n",
    "        \"percentage_of_fragments_at_or_below_taxon\",\n",
    "        \"number_of_fragments_at_or_below_taxon\",\n",
    "        \"number_of_fragments_assigned_directly_to_taxon\",\n",
    "        \"rank\",\n",
    "        \"ncbi_taxonid\",\n",
    "        \"scientific_name\"\n",
    "    ]\n",
    "\n",
    "    data, header = uCSV.read(joinpath(kraken_dir, kraken_report), delim='\\t')\n",
    "    kraken_report_table = DataFrames.DataFrame(data, kraken_report_header)\n",
    "    kraken_report_table[!, \"sample_id\"] .= SRR\n",
    "    for row in DataFrames.eachrow(kraken_report_table[kraken_report_table[!, \"ncbi_taxonid\"] .== 10239, :])\n",
    "        push!(joint_virus_table, row)\n",
    "    end\n",
    "end\n",
    "joint_virus_table"
   ]
  },
  {
   "cell_type": "code",
   "execution_count": null,
   "id": "dc33f97d-c2aa-4db5-b9d5-924fc5b2c59b",
   "metadata": {},
   "outputs": [],
   "source": [
    "filtered_joint_virus_table = joint_virus_table[joint_virus_table[!, \"number_of_fragments_at_or_below_taxon\"] .> 0, :]"
   ]
  },
  {
   "cell_type": "code",
   "execution_count": null,
   "id": "06495e5a-25a3-4ed1-8fef-24c5564b076e",
   "metadata": {},
   "outputs": [],
   "source": [
    "filtered_joint_virus_table"
   ]
  },
  {
   "cell_type": "code",
   "execution_count": null,
   "id": "e318650c-01e6-4281-8221-09c135da8239",
   "metadata": {},
   "outputs": [],
   "source": [
    "sort(filtered_joint_virus_table[filtered_joint_virus_table[!, \"percentage_of_fragments_at_or_below_taxon\"] .>= 1, :], \"percentage_of_fragments_at_or_below_taxon\", rev=true)"
   ]
  },
  {
   "cell_type": "code",
   "execution_count": null,
   "id": "070bdf55-8cf0-4527-a53d-8a6f1351f1d3",
   "metadata": {},
   "outputs": [],
   "source": [
    "one_percent_viral_samples = [\n",
    "    \"SRR7365459\",\n",
    "    \"SRR6399596\",\n",
    "    \"SRR6399584\",\n",
    "    \"SRR6399485\"\n",
    "]"
   ]
  },
  {
   "cell_type": "code",
   "execution_count": null,
   "id": "d0b35a0c-0e4e-4769-b898-075782b2aadb",
   "metadata": {
    "tags": []
   },
   "outputs": [],
   "source": [
    "targeted_sample_table = DataFrames.DataFrame()\n",
    "ProgressMeter.@showprogress for SRR in one_percent_viral_samples\n",
    "    SRR_dir = joinpath(SRA_DIR, SRR)\n",
    "    kraken_dir = joinpath(SRR_dir, \"kraken\")\n",
    "    kraken_reports = filter(x -> occursin(r\"\\.kraken-report\\.tsv$\", x), readdir(kraken_dir))\n",
    "    @assert length(kraken_reports) == 1\n",
    "    kraken_report = first(kraken_reports)\n",
    "\n",
    "    # ranks: (U)nclassified, (R)oot, (D)omain, (K)ingdom, (P)hylum, (C)lass, (O)rder, (F)amily, (G)enus, or (S)pecies.\n",
    "\n",
    "    kraken_report_header = [\n",
    "        \"percentage_of_fragments_at_or_below_taxon\",\n",
    "        \"number_of_fragments_at_or_below_taxon\",\n",
    "        \"number_of_fragments_assigned_directly_to_taxon\",\n",
    "        \"rank\",\n",
    "        \"ncbi_taxonid\",\n",
    "        \"scientific_name\"\n",
    "    ]\n",
    "\n",
    "    data, header = uCSV.read(joinpath(kraken_dir, kraken_report), delim='\\t')\n",
    "    kraken_report_table = DataFrames.DataFrame(data, kraken_report_header)\n",
    "    kraken_report_table[!, \"sample_id\"] .= SRR\n",
    "    for row in DataFrames.eachrow(kraken_report_table)\n",
    "        push!(targeted_sample_table, row)\n",
    "    end\n",
    "end\n",
    "targeted_sample_table"
   ]
  },
  {
   "cell_type": "code",
   "execution_count": null,
   "id": "755d6f7c-f0f0-4483-acbd-293ea1ac31fd",
   "metadata": {},
   "outputs": [],
   "source": [
    "# unique(targeted_sample_table[!, \"rank\"])\n",
    "findall(targeted_sample_table[!, \"rank\"] .== \"D\")"
   ]
  },
  {
   "cell_type": "code",
   "execution_count": null,
   "id": "75ce6dd4-1695-4030-8191-007285b68a04",
   "metadata": {},
   "outputs": [],
   "source": [
    "findall(targeted_sample_table[!, \"ncbi_taxonid\"] .== 10239)"
   ]
  },
  {
   "cell_type": "code",
   "execution_count": null,
   "id": "993e2b5d-5db7-472a-9f4b-ed3acae175db",
   "metadata": {
    "tags": []
   },
   "outputs": [],
   "source": [
    "findall(targeted_sample_table[!, \"ncbi_taxonid\"] .== 10239)\n",
    "\n",
    "viral_ranges = [\n",
    "  19057:39060-1,\n",
    "  58113:78116-1,\n",
    "  97169:117172-1,\n",
    "    136225:DataFrames.nrow(targeted_sample_table)\n",
    "]"
   ]
  },
  {
   "cell_type": "code",
   "execution_count": null,
   "id": "1f1b56a1-4cfb-4fac-bba3-19e7b8d22339",
   "metadata": {},
   "outputs": [],
   "source": [
    "viral_rows = reduce(vcat, collect.(viral_ranges))\n",
    "\n",
    "targeted_sample_table = targeted_sample_table[viral_rows, :]\n",
    "\n",
    "targeted_sample_table = targeted_sample_table[targeted_sample_table[!, \"number_of_fragments_at_or_below_taxon\"] .>= 1, :]"
   ]
  },
  {
   "cell_type": "code",
   "execution_count": null,
   "id": "f7470377-6d83-4101-a851-ec14c87933dc",
   "metadata": {},
   "outputs": [],
   "source": [
    "pwd()"
   ]
  },
  {
   "cell_type": "code",
   "execution_count": null,
   "id": "ffb2c8aa-2ade-4470-a76d-095dd699270e",
   "metadata": {
    "tags": []
   },
   "outputs": [],
   "source": [
    "uCSV.write(\"targetted_viral_samples.tsv\", targeted_sample_table, delim='\\t')"
   ]
  },
  {
   "cell_type": "code",
   "execution_count": null,
   "id": "6b2a6f9e-2767-46ee-8cbe-3609ee52f73c",
   "metadata": {},
   "outputs": [],
   "source": [
    "targeted_sample_table"
   ]
  },
  {
   "cell_type": "code",
   "execution_count": null,
   "id": "eabc60e3-3be0-45b3-ba39-034f1dda2714",
   "metadata": {
    "tags": []
   },
   "outputs": [],
   "source": [
    "# sort(filtered_joint_virus_table[filtered_joint_virus_table[!, \"percentage_of_fragments_at_or_below_taxon\"] .>= 0.1, :], \"percentage_of_fragments_at_or_below_taxon\", rev=true)"
   ]
  },
  {
   "cell_type": "code",
   "execution_count": null,
   "id": "d7208ec3-7f50-4534-ab18-cddb4f18505b",
   "metadata": {
    "tags": []
   },
   "outputs": [],
   "source": [
    "# sort(filtered_joint_virus_table, \"percentage_of_fragments_at_or_below_taxon\", rev=true)[1:100, :]"
   ]
  },
  {
   "cell_type": "code",
   "execution_count": null,
   "id": "f5d84231-7d52-434d-954b-28c04d7697bf",
   "metadata": {},
   "outputs": [],
   "source": [
    "# sort(filtered_joint_virus_table, \"number_of_fragments_at_or_below_taxon\", rev=true)[1:10, :]"
   ]
  },
  {
   "cell_type": "code",
   "execution_count": null,
   "id": "7dd2ab2f-0674-48b6-a2c8-c18ef3727bc4",
   "metadata": {
    "tags": []
   },
   "outputs": [],
   "source": [
    "# StatsBase.describe(filtered_joint_virus_table[!, \"percentage_of_fragments_at_or_below_taxon\"])\n",
    "\n",
    "# # Summary Stats:\n",
    "# # Length:         434\n",
    "# # Missing Count:  0\n",
    "# # Mean:           0.076336\n",
    "# # Minimum:        0.000000\n",
    "# # 1st Quartile:   0.000000\n",
    "# # Median:         0.010000\n",
    "# # 3rd Quartile:   0.030000\n",
    "# # Maximum:        7.420000"
   ]
  },
  {
   "cell_type": "code",
   "execution_count": null,
   "id": "bd55e37a-8612-4156-83d5-a2dd445a84e8",
   "metadata": {},
   "outputs": [],
   "source": [
    "# StatsBase.describe(filtered_joint_virus_table[!, \"number_of_fragments_at_or_below_taxon\"])\n",
    "\n",
    "# # Summary Stats:\n",
    "# # Length:         434\n",
    "# # Missing Count:  0\n",
    "# # Mean:           36341.534562\n",
    "# # Minimum:        85.000000\n",
    "# # 1st Quartile:   1951.750000\n",
    "# # Median:         5345.000000\n",
    "# # 3rd Quartile:   13846.750000\n",
    "# # Maximum:        2694174.000000\n",
    "# # Type:           Int64\n",
    "\n",
    "# # Maximum:        2,694,174.000000"
   ]
  },
  {
   "cell_type": "code",
   "execution_count": null,
   "id": "7b3333e2-75a6-46b6-abd9-779cfe942a3b",
   "metadata": {
    "tags": []
   },
   "outputs": [],
   "source": [
    "# StatsPlots.histogram(\n",
    "#     filtered_joint_virus_table[!, \"percentage_of_fragments_at_or_below_taxon\"],\n",
    "#     ylabel = \"# of samples\",\n",
    "#     xlabel = \"% of reads classified as viral\",\n",
    "#     title = \"Relative abundance of viral sequences in exposome\",\n",
    "#     legend = false\n",
    "# )"
   ]
  },
  {
   "cell_type": "code",
   "execution_count": null,
   "id": "fda46225-f742-47b3-ba6b-643d0ef8d8fb",
   "metadata": {
    "tags": []
   },
   "outputs": [],
   "source": [
    "# StatsPlots.histogram(\n",
    "#     filtered_joint_virus_table[!, \"number_of_fragments_at_or_below_taxon\"],\n",
    "#     ylabel = \"# of samples\",\n",
    "#     xlabel = \"# of reads classified as viral\",\n",
    "#     title = \"Absolute abundance of viral sequences in exposome\",\n",
    "#     legend = false\n",
    "# )"
   ]
  },
  {
   "cell_type": "code",
   "execution_count": null,
   "id": "0ec8d49d-4268-4a77-9504-6feefd26e4f5",
   "metadata": {
    "tags": []
   },
   "outputs": [],
   "source": [
    "# sort(filtered_joint_virus_table, \"percentage_of_fragments_at_or_below_taxon\", rev=true)[1:10, :]"
   ]
  },
  {
   "cell_type": "code",
   "execution_count": null,
   "id": "2cf40a90-2ade-4bc1-8b67-bcbbf6ce87d6",
   "metadata": {
    "tags": []
   },
   "outputs": [],
   "source": [
    "# sort(filtered_joint_virus_table, \"number_of_fragments_at_or_below_taxon\", rev=true)[1:10, :]"
   ]
  }
 ],
 "metadata": {
  "kernelspec": {
   "display_name": "Julia 1.6.3",
   "language": "julia",
   "name": "julia-1.6"
  },
  "language_info": {
   "file_extension": ".jl",
   "mimetype": "application/julia",
   "name": "julia",
   "version": "1.6.3"
  }
 },
 "nbformat": 4,
 "nbformat_minor": 5
}
