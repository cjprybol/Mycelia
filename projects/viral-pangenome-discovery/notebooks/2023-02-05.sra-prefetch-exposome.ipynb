{
 "cells": [
  {
   "cell_type": "code",
   "execution_count": null,
   "id": "8d11b145-da8d-42fd-b66c-e334cd66f263",
   "metadata": {
    "tags": []
   },
   "outputs": [],
   "source": [
    "srr_list = \"$(dirname(pwd()))/metadata/exposome/SraAccList.txt\""
   ]
  },
  {
   "cell_type": "code",
   "execution_count": null,
   "id": "5de0bfee-8555-4718-9e39-e5f50e05f62a",
   "metadata": {
    "tags": []
   },
   "outputs": [],
   "source": [
    "srr_identifiers = readlines(srr_list)[1:3]"
   ]
  },
  {
   "cell_type": "code",
   "execution_count": null,
   "id": "a0c2663a-7484-41fa-974b-face2309f6d3",
   "metadata": {
    "tags": []
   },
   "outputs": [],
   "source": [
    "function fasterq_dump(;outdir=\"\", srr_identifier=\"\")\n",
    "    fasterq_dump_cmd = `\n",
    "        fasterq-dump\n",
    "            --outdir $(outdir)\n",
    "            --mem 1G\n",
    "            --split-3\n",
    "            --threads $(Sys.CPU_THREADS)\n",
    "            --progress\n",
    "            --skip-technical\n",
    "            $(srr_identifier)`\n",
    "    @time run(fasterq_dump_cmd)\n",
    "    # piz_compress_command = `pigz $(outdir)/*.fastq`\n",
    "    # println(fasterq_dump_cmd)\n",
    "    # println(piz_compress_command)\n",
    "end"
   ]
  },
  {
   "cell_type": "code",
   "execution_count": null,
   "id": "8aa9795f-5129-40a1-a009-7200a7530fbe",
   "metadata": {
    "tags": []
   },
   "outputs": [],
   "source": [
    "# srr_identifier = srr_identifiers[1]\n",
    "# srr_identifier = srr_identifiers[2]\n",
    "srr_identifier = srr_identifiers[3]"
   ]
  },
  {
   "cell_type": "code",
   "execution_count": null,
   "id": "f75e87e3-1946-42a5-8656-b613cc0b187d",
   "metadata": {
    "tags": []
   },
   "outputs": [],
   "source": [
    "sample_outdir = \"$(dirname(pwd()))/data/SRA/$(srr_identifier)\""
   ]
  },
  {
   "cell_type": "code",
   "execution_count": null,
   "id": "1e2985ad-44c3-4c1f-ab40-018e33352db4",
   "metadata": {
    "tags": []
   },
   "outputs": [],
   "source": [
    "fasterq_dump(outdir=sample_outdir, srr_identifier=srr_identifier)"
   ]
  }
 ],
 "metadata": {
  "kernelspec": {
   "display_name": "Julia 1.6.7",
   "language": "julia",
   "name": "julia-1.6"
  },
  "language_info": {
   "file_extension": ".jl",
   "mimetype": "application/julia",
   "name": "julia",
   "version": "1.6.7"
  }
 },
 "nbformat": 4,
 "nbformat_minor": 5
}
