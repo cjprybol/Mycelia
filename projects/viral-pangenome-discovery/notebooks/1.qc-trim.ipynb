{
 "cells": [
  {
   "cell_type": "code",
   "execution_count": null,
   "id": "d721fa48-b788-4576-9cab-b93b33daf55e",
   "metadata": {
    "tags": []
   },
   "outputs": [],
   "source": [
    "import Pkg\n",
    "Pkg.activate(\".\")\n",
    "\n",
    "# not for the faint of heart!\n",
    "# Pkg.update()\n",
    "\n",
    "pkgs = [\n",
    "\"ProgressMeter\",\n",
    "]\n",
    "Pkg.add(pkgs)\n",
    "for pkg in pkgs\n",
    "    eval(Meta.parse(\"import $pkg\"))\n",
    "end\n",
    "\n",
    "Pkg.develop(path=\"../../..\")\n",
    "import Mycelia"
   ]
  },
  {
   "cell_type": "code",
   "execution_count": null,
   "id": "92d4aedc-4861-4d48-9276-4c222799c25e",
   "metadata": {
    "tags": []
   },
   "outputs": [],
   "source": [
    "function trim_galore(;outdir=\"\", identifier=\"\")\n",
    "    \n",
    "    trim_galore_dir = joinpath(outdir, \"trim_galore\")\n",
    "    \n",
    "    forward_reads = joinpath(outdir, \"$(identifier)_1.fastq.gz\")\n",
    "    reverse_reads = joinpath(outdir, \"$(identifier)_2.fastq.gz\")\n",
    "    \n",
    "    trimmed_forward_reads = joinpath(trim_galore_dir, \"$(identifier)_1_val_1.fq.gz\")\n",
    "    trimmed_reverse_reads = joinpath(trim_galore_dir, \"$(identifier)_2_val_2.fq.gz\")\n",
    "    \n",
    "    # mamba install -c bioconda trim_galore\n",
    "    if !isfile(trimmed_forward_reads) && !isfile(trimmed_reverse_reads)\n",
    "        cmd = `conda run -n viral-pangenome-discovery trim_galore --suppress_warn --cores $(min(Sys.CPU_THREADS, 4)) --output_dir $(trim_galore_dir) --paired $(forward_reads) $(reverse_reads)`\n",
    "        run(cmd)\n",
    "    else\n",
    "        @info \"$(trimmed_forward_reads) & $(trimmed_reverse_reads) already present\"\n",
    "    end\n",
    "end"
   ]
  },
  {
   "cell_type": "code",
   "execution_count": null,
   "id": "a16c3f90-5e31-46fa-ae9b-535e84a952bc",
   "metadata": {
    "tags": []
   },
   "outputs": [],
   "source": [
    "srr_list = \"$(dirname(pwd()))/metadata/exposome/SraAccList.txt\"\n",
    "srr_identifiers = readlines(srr_list)"
   ]
  },
  {
   "cell_type": "code",
   "execution_count": null,
   "id": "2a02d4d5-b19f-4c29-9baf-a755a752d475",
   "metadata": {
    "tags": []
   },
   "outputs": [],
   "source": [
    "srr_identifiers_to_download = filter(srr_identifier -> !isdir(\"$(dirname(pwd()))/data/SRA/$(srr_identifier)\") || !(\"kraken\" in readdir(\"$(dirname(pwd()))/data/SRA/$(srr_identifier)\")), srr_identifiers)"
   ]
  },
  {
   "cell_type": "code",
   "execution_count": null,
   "id": "9767c539-d540-498f-8ff2-55b450287543",
   "metadata": {
    "tags": []
   },
   "outputs": [],
   "source": [
    "done = false\n",
    "while !done\n",
    "    ProgressMeter.@showprogress for srr_identifier in srr_identifiers_to_download\n",
    "        sample_outdir = \"$(dirname(pwd()))/data/SRA/$(srr_identifier)\"\n",
    "        download_and_filter_reads(outdir=sample_outdir, srr_identifier=srr_identifier)\n",
    "    end\n",
    "    done = true\n",
    "end\n",
    "@show done"
   ]
  }
 ],
 "metadata": {
  "kernelspec": {
   "display_name": "Julia 1.6.7",
   "language": "julia",
   "name": "julia-1.6"
  },
  "language_info": {
   "file_extension": ".jl",
   "mimetype": "application/julia",
   "name": "julia",
   "version": "1.6.7"
  }
 },
 "nbformat": 4,
 "nbformat_minor": 5
}
