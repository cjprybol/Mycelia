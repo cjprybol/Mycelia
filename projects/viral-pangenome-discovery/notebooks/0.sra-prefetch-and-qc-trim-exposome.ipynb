{
 "cells": [
  {
   "cell_type": "code",
   "execution_count": null,
   "id": "d721fa48-b788-4576-9cab-b93b33daf55e",
   "metadata": {
    "tags": []
   },
   "outputs": [],
   "source": [
    "import Pkg\n",
    "Pkg.activate(\".\")\n",
    "\n",
    "# not for the faint of heart!\n",
    "# Pkg.update()\n",
    "\n",
    "pkgs = [\n",
    "\"ProgressMeter\",\n",
    "]\n",
    "Pkg.add(pkgs)\n",
    "for pkg in pkgs\n",
    "    eval(Meta.parse(\"import $pkg\"))\n",
    "end\n",
    "\n",
    "Pkg.develop(path=\"../../..\")\n",
    "import Mycelia"
   ]
  },
  {
   "cell_type": "code",
   "execution_count": null,
   "id": "fd121cfc-8a38-48ff-86f1-ef01f895353d",
   "metadata": {
    "tags": []
   },
   "outputs": [],
   "source": [
    "function download_and_filter_reads(;outdir=\"\", srr_identifier=\"\")\n",
    "    \n",
    "    forward_reads = joinpath(outdir, \"$(srr_identifier)_1.fastq\")\n",
    "    reverse_reads = joinpath(outdir, \"$(srr_identifier)_2.fastq\")\n",
    "    forward_reads_gz = forward_reads * \".gz\"\n",
    "    reverse_reads_gz = reverse_reads * \".gz\"\n",
    "    trimmed_forward_reads = joinpath(outdir, \"trim_galore\", \"$(srr_identifier)_1_val_1.fq.gz\")\n",
    "    trimmed_reverse_reads = joinpath(outdir, \"trim_galore\", \"$(srr_identifier)_2_val_2.fq.gz\")\n",
    "\n",
    "    if !(isfile(trimmed_forward_reads) && isfile(trimmed_reverse_reads))\n",
    "        fasterq_dump(outdir=outdir, srr_identifier=srr_identifier)\n",
    "        trim_galore(outdir=outdir, identifier=srr_identifier)\n",
    "    end\n",
    "    isfile(forward_reads_gz) && rm(forward_reads_gz)\n",
    "    isfile(reverse_reads_gz) && rm(reverse_reads_gz)\n",
    "end"
   ]
  },
  {
   "cell_type": "code",
   "execution_count": null,
   "id": "a0c2663a-7484-41fa-974b-face2309f6d3",
   "metadata": {
    "tags": []
   },
   "outputs": [],
   "source": [
    "function fasterq_dump(;outdir=\"\", srr_identifier=\"\")\n",
    "    \n",
    "    forward_reads = joinpath(outdir, \"$(srr_identifier)_1.fastq\")\n",
    "    reverse_reads = joinpath(outdir, \"$(srr_identifier)_2.fastq\")\n",
    "    \n",
    "    forward_reads_gz = forward_reads * \".gz\"\n",
    "    reverse_reads_gz = reverse_reads * \".gz\"\n",
    "    \n",
    "    if !isfile(forward_reads_gz) && !isfile(reverse_reads_gz)\n",
    "        # --progress doesn't work well for jupyter output\n",
    "        fasterq_dump_cmd = `\n",
    "            fasterq-dump\n",
    "                --outdir $(outdir)\n",
    "                --mem 1G\n",
    "                --split-3\n",
    "                --threads $(min(Sys.CPU_THREADS, 4))\n",
    "                --skip-technical\n",
    "                --verbose\n",
    "                $(srr_identifier)`\n",
    "        @time run(fasterq_dump_cmd)\n",
    "        run(`pigz $(forward_reads)`)\n",
    "        run(`pigz $(reverse_reads)`)\n",
    "    else\n",
    "        @info \"$(forward_reads_gz) & $(reverse_reads_gz) already present\"\n",
    "    end\n",
    "end"
   ]
  },
  {
   "cell_type": "code",
   "execution_count": null,
   "id": "92d4aedc-4861-4d48-9276-4c222799c25e",
   "metadata": {
    "tags": []
   },
   "outputs": [],
   "source": [
    "function trim_galore(;outdir=\"\", identifier=\"\")\n",
    "    \n",
    "    trim_galore_dir = joinpath(outdir, \"trim_galore\")\n",
    "    \n",
    "    forward_reads = joinpath(outdir, \"$(identifier)_1.fastq.gz\")\n",
    "    reverse_reads = joinpath(outdir, \"$(identifier)_2.fastq.gz\")\n",
    "    \n",
    "    trimmed_forward_reads = joinpath(trim_galore_dir, \"$(identifier)_1_val_1.fq.gz\")\n",
    "    trimmed_reverse_reads = joinpath(trim_galore_dir, \"$(identifier)_2_val_2.fq.gz\")\n",
    "    \n",
    "    if !isfile(trimmed_forward_reads) && !isfile(trimmed_reverse_reads)\n",
    "        cmd = `trim_galore --suppress_warn --cores $(min(Sys.CPU_THREADS, 4)) --output_dir $(trim_galore_dir) --paired $(forward_reads) $(reverse_reads)`\n",
    "        run(cmd)\n",
    "    else\n",
    "        @info \"$(trimmed_forward_reads) & $(trimmed_reverse_reads) already present\"\n",
    "    end\n",
    "end"
   ]
  },
  {
   "cell_type": "code",
   "execution_count": null,
   "id": "a16c3f90-5e31-46fa-ae9b-535e84a952bc",
   "metadata": {
    "tags": []
   },
   "outputs": [],
   "source": [
    "srr_list = \"$(dirname(pwd()))/metadata/exposome/SraAccList.txt\"\n",
    "srr_identifiers = readlines(srr_list)"
   ]
  },
  {
   "cell_type": "code",
   "execution_count": null,
   "id": "9767c539-d540-498f-8ff2-55b450287543",
   "metadata": {
    "tags": []
   },
   "outputs": [],
   "source": [
    "done = false\n",
    "while !done\n",
    "    ProgressMeter.@showprogress for srr_identifier in srr_identifiers[1:100]\n",
    "        sample_outdir = \"$(dirname(pwd()))/data/SRA/$(srr_identifier)\"\n",
    "        download_and_filter_reads(outdir=sample_outdir, srr_identifier=srr_identifier)\n",
    "    end\n",
    "    done = true\n",
    "end"
   ]
  }
 ],
 "metadata": {
  "kernelspec": {
   "display_name": "Julia 1.6.7",
   "language": "julia",
   "name": "julia-1.6"
  },
  "language_info": {
   "file_extension": ".jl",
   "mimetype": "application/julia",
   "name": "julia",
   "version": "1.6.7"
  }
 },
 "nbformat": 4,
 "nbformat_minor": 5
}
