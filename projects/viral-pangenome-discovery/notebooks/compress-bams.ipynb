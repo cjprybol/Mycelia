{
 "cells": [
  {
   "cell_type": "code",
   "execution_count": 4,
   "id": "8a92e92f-1f3d-4a5a-b608-ae5dd2f66e36",
   "metadata": {},
   "outputs": [
    {
     "data": {
      "text/plain": [
       "\"/home/jovyan/work/Mycelia/projects/viral-pangenome-discovery\""
      ]
     },
     "execution_count": 4,
     "metadata": {},
     "output_type": "execute_result"
    }
   ],
   "source": [
    "base_dir = dirname(pwd())"
   ]
  },
  {
   "cell_type": "code",
   "execution_count": 5,
   "id": "525f76db-edd6-4dad-98b0-ec43c3ccc014",
   "metadata": {},
   "outputs": [
    {
     "data": {
      "text/plain": [
       "9-element Vector{String}:\n",
       " \".ipynb_checkpoints\"\n",
       " \"Project.toml\"\n",
       " \"README.md\"\n",
       " \"build-command.sh\"\n",
       " \"data\"\n",
       " \"environment.yml\"\n",
       " \"metadata\"\n",
       " \"notebooks\"\n",
       " \"snakemake\""
      ]
     },
     "execution_count": 5,
     "metadata": {},
     "output_type": "execute_result"
    }
   ],
   "source": [
    "readdir(base_dir)"
   ]
  },
  {
   "cell_type": "code",
   "execution_count": 9,
   "id": "9af78a04-0b36-49c5-a5b9-76e351092fbe",
   "metadata": {},
   "outputs": [
    {
     "data": {
      "text/plain": [
       "\"/home/jovyan/work/Mycelia/projects/viral-pangenome-discovery/data/SRA\""
      ]
     },
     "execution_count": 9,
     "metadata": {},
     "output_type": "execute_result"
    }
   ],
   "source": [
    "sra_dir = joinpath(base_dir, \"data\", \"SRA\")"
   ]
  },
  {
   "cell_type": "code",
   "execution_count": 10,
   "id": "d1a36abe-8042-4b23-b5a2-dd6742f429b9",
   "metadata": {},
   "outputs": [
    {
     "data": {
      "text/plain": [
       "272-element Vector{String}:\n",
       " \"SRR6399459\"\n",
       " \"SRR6399460\"\n",
       " \"SRR6399461\"\n",
       " \"SRR6399462\"\n",
       " \"SRR6399463\"\n",
       " \"SRR6399464\"\n",
       " \"SRR6399465\"\n",
       " \"SRR6399466\"\n",
       " \"SRR6399467\"\n",
       " \"SRR6399468\"\n",
       " \"SRR6399469\"\n",
       " \"SRR6399470\"\n",
       " \"SRR6399471\"\n",
       " ⋮\n",
       " \"SRR6399719\"\n",
       " \"SRR6399720\"\n",
       " \"SRR6399721\"\n",
       " \"SRR6399722\"\n",
       " \"SRR6399723\"\n",
       " \"SRR6399724\"\n",
       " \"SRR6399725\"\n",
       " \"SRR6399726\"\n",
       " \"SRR6399727\"\n",
       " \"SRR6399728\"\n",
       " \"SRR6399729\"\n",
       " \"SRR6399730\""
      ]
     },
     "execution_count": 10,
     "metadata": {},
     "output_type": "execute_result"
    }
   ],
   "source": [
    "srr_list = readdir(sra_dir)"
   ]
  },
  {
   "cell_type": "code",
   "execution_count": 28,
   "id": "86d023a5-898d-4ac8-b9d9-155fc8199393",
   "metadata": {},
   "outputs": [
    {
     "data": {
      "text/plain": [
       "32.251707597"
      ]
     },
     "execution_count": 28,
     "metadata": {},
     "output_type": "execute_result"
    }
   ],
   "source": [
    "srr = srr_list[5]\n",
    "srr_dir = joinpath(sra_dir, srr)\n",
    "megahit_dir = joinpath(srr_dir, \"megahit\")\n",
    "readdir(megahit_dir)\n",
    "original_bam_file = joinpath(megahit_dir, \"final.contigs.fastg.gfa.fna.bwa.bam\")\n",
    "filesize(original_bam_file) / 1e9"
   ]
  },
  {
   "cell_type": "code",
   "execution_count": null,
   "id": "1508d7e1-7ab1-4dbc-b4dd-1f1b9b39dea0",
   "metadata": {},
   "outputs": [],
   "source": [
    "compressed_bam = original_bam_file * \".compressed.bam\"\n",
    "run(pipeline(`samtools view -bh $(original_bam_file)`, compressed_bam))\n",
    "mv(compressed_bam, original_bam_file)"
   ]
  },
  {
   "cell_type": "code",
   "execution_count": null,
   "id": "68e0a04c-08f1-44cf-85ed-156f7de384ed",
   "metadata": {},
   "outputs": [],
   "source": [
    "filesize(original_bam_file) / 1e9"
   ]
  }
 ],
 "metadata": {
  "kernelspec": {
   "display_name": "Julia 1.6.3",
   "language": "julia",
   "name": "julia-1.6"
  },
  "language_info": {
   "file_extension": ".jl",
   "mimetype": "application/julia",
   "name": "julia",
   "version": "1.6.3"
  }
 },
 "nbformat": 4,
 "nbformat_minor": 5
}
