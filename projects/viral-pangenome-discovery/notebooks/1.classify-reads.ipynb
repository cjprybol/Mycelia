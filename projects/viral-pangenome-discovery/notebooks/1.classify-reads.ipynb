{
 "cells": [
  {
   "cell_type": "code",
   "execution_count": null,
   "id": "28afd0da-a1e3-48ad-a12a-8bbb3a8d19c2",
   "metadata": {
    "tags": []
   },
   "outputs": [],
   "source": [
    "import Pkg\n",
    "Pkg.activate(\".\")\n",
    "\n",
    "# not for the faint of heart!\n",
    "# Pkg.update()\n",
    "\n",
    "pkgs = [\n",
    "\"ArgParse\",\n",
    "\"Base64\",\n",
    "\"BioSequences\",\n",
    "\"DataFrames\",\n",
    "\"Dates\",\n",
    "\"DelimitedFiles\",\n",
    "\"FASTX\",\n",
    "\"GLM\",\n",
    "\"HTTP\",\n",
    "\"JSON\",\n",
    "\"Graphs\",\n",
    "\"MetaGraphs\",\n",
    "\"MD5\",\n",
    "\"Statistics\",\n",
    "\"StatsPlots\",\n",
    "\"uCSV\",\n",
    "\"CodecZlib\",\n",
    "\"YAML\",\n",
    "\"Revise\",\n",
    "\"Kmers\",\n",
    "\"StatsBase\"\n",
    "]\n",
    "Pkg.add(pkgs)\n",
    "for pkg in pkgs\n",
    "    eval(Meta.parse(\"import $pkg\"))\n",
    "end\n",
    "\n",
    "Pkg.develop(path=\"../../..\")\n",
    "import Mycelia"
   ]
  },
  {
   "cell_type": "code",
   "execution_count": null,
   "id": "ebc54d53-21ec-4098-b1c9-8c8e67d4193a",
   "metadata": {
    "tags": []
   },
   "outputs": [],
   "source": [
    "data_dir = joinpath(dirname(pwd()), \"data\")"
   ]
  },
  {
   "cell_type": "code",
   "execution_count": null,
   "id": "ae8fdad2-6653-4ef9-b22a-63f795d183ca",
   "metadata": {
    "tags": []
   },
   "outputs": [],
   "source": [
    "kraken_db = \"k2_pluspfp_20221209\""
   ]
  },
  {
   "cell_type": "code",
   "execution_count": null,
   "id": "bf17a459-5f3d-4f61-807f-403e46be0765",
   "metadata": {
    "tags": []
   },
   "outputs": [],
   "source": [
    "local_kraken_db_tar = joinpath(homedir(), \"workspace\", \"kraken-databases\", \"$(kraken_db).tar.gz\")"
   ]
  },
  {
   "cell_type": "code",
   "execution_count": null,
   "id": "ca5189a1-eea6-4aa6-b6b7-446c868bfc7e",
   "metadata": {
    "tags": []
   },
   "outputs": [],
   "source": [
    "local_kraken_db = replace(local_kraken_db_tar, \".tar.gz\" => \"\")"
   ]
  },
  {
   "cell_type": "code",
   "execution_count": null,
   "id": "c223470e-610b-403a-aafb-cb6e73c0f044",
   "metadata": {
    "tags": []
   },
   "outputs": [],
   "source": [
    "if !isdir(local_kraken_db)\n",
    "    if !isfile(local_kraken_db_tar)\n",
    "        run(\n",
    "            `wget \n",
    "            --no-clobber\n",
    "            --directory-prefix $(dirname(local_kraken_db_tar))\n",
    "            https://genome-idx.s3.amazonaws.com/kraken/$(kraken_db).tar.gz\n",
    "            `)\n",
    "    end\n",
    "    run(`tar -xvzf $(local_kraken_db_tar) --directory $(local_kraken_db)`)\n",
    "else\n",
    "    @info \"kraken db found @ $(local_kraken_db)\"\n",
    "end"
   ]
  },
  {
   "cell_type": "code",
   "execution_count": null,
   "id": "a9d28d81-820d-408f-adcf-02476a04d650",
   "metadata": {
    "tags": []
   },
   "outputs": [],
   "source": [
    "SRR_paths = filter(x -> !occursin(\".ipynb_checkpoints\", x), readdir(joinpath(data_dir, \"SRA\"), join=true))"
   ]
  },
  {
   "cell_type": "code",
   "execution_count": null,
   "id": "abac210e-6c2d-4593-8604-3264d0347bd1",
   "metadata": {
    "tags": []
   },
   "outputs": [],
   "source": [
    "for SRR_path in SRR_paths\n",
    "    SRR = basename(SRR_path)\n",
    "\n",
    "    kraken_dir = mkpath(joinpath(SRR_path, \"kraken\"))\n",
    "\n",
    "    output = joinpath(kraken_dir, \"$(SRR).$(kraken_db).kraken-output.tsv\")\n",
    "    report = joinpath(kraken_dir, \"$(SRR).$(kraken_db).kraken-report.tsv\")\n",
    "    krona_file = report * \".krona\"\n",
    "    krona_html = krona_file * \".html\"\n",
    "\n",
    "    trimmed_forward_reads = joinpath(SRR_path, \"trim_galore\", \"$(SRR)_1_val_1.fq.gz\")\n",
    "\n",
    "    trimmed_reverse_reads = joinpath(SRR_path, \"trim_galore\", \"$(SRR)_2_val_2.fq.gz\")\n",
    "\n",
    "    # Loading database information... done.\n",
    "    # 5666 sequences (1.67 Mbp) processed in 0.106s (3221.1 Kseq/m, 948.50 Mbp/m).\n",
    "    #   905 sequences classified (15.97%)\n",
    "    #   4761 sequences unclassified (84.03%)\n",
    "\n",
    "    # Loading database information... done.\n",
    "    # 56807236 sequences (16754.54 Mbp) processed in 175.923s (19374.6 Kseq/m, 5714.28 Mbp/m).\n",
    "    #   11939597 sequences classified (21.02%)\n",
    "    #   44867639 sequences unclassified (78.98%)\n",
    "\n",
    "    # Loading database information... done.\n",
    "    # 75492257 sequences (22266.95 Mbp) processed in 398.346s (11370.9 Kseq/m, 3353.91 Mbp/m).\n",
    "    #   20297310 sequences classified (26.89%)\n",
    "    #   55194947 sequences unclassified (73.11%)\n",
    "\n",
    "    # Loading database information... done.\n",
    "    # 68081844 sequences (20094.20 Mbp) processed in 439.799s (9288.1 Kseq/m, 2741.37 Mbp/m).\n",
    "    #   12585997 sequences classified (18.49%)\n",
    "    #   55495847 sequences unclassified (81.51%)\n",
    "\n",
    "    # 681  2023-02-18 23:26:12 wget https://github.com/DerrickWood/kraken2/archive/refs/tags/v2.1.2.tar.gz\n",
    "    # 682  2023-02-18 23:26:17 tar -xvzf v2.1.2.tar.gz \n",
    "    # 683  2023-02-18 23:26:21 cd kraken2-2.1.2/\n",
    "    # 684  2023-02-18 23:26:28 ./install_kraken2.sh \n",
    "    # 685  2023-02-18 23:26:34 ./install_kraken2.sh ./bin\n",
    "\n",
    "\n",
    "    # 16 minutes @ 32 cores\n",
    "    cmd =\n",
    "    `\n",
    "    /home/jovyan/software/kraken2-2.1.2/bin/kraken2\n",
    "        --report-zero-counts\n",
    "        --use-names\n",
    "        --threads $(Sys.CPU_THREADS)\n",
    "        --db $(local_kraken_db)\n",
    "        --output $(output)\n",
    "        --report $(report)\n",
    "        --gzip-compressed\n",
    "        --paired $(trimmed_forward_reads) $(trimmed_reverse_reads)\n",
    "    `\n",
    "\n",
    "    if !isfile(report)\n",
    "        run(cmd)\n",
    "    end\n",
    "    if isfile(output)\n",
    "        run(`pigz --best $(output)`)\n",
    "    end\n",
    "    if !isfile(krona_file)\n",
    "        run(`python kreport2krona.py -r $(report) -o $(krona_file)`)\n",
    "    end\n",
    "    if !isfile(krona_html)\n",
    "        run(`ktImportText $(krona_file) -o $(krona_html)`)\n",
    "    end\n",
    "    # run(`rclone copy SRR_kraken_directory google-drive`)\n",
    "end"
   ]
  }
 ],
 "metadata": {
  "kernelspec": {
   "display_name": "Julia 1.6.7",
   "language": "julia",
   "name": "julia-1.6"
  },
  "language_info": {
   "file_extension": ".jl",
   "mimetype": "application/julia",
   "name": "julia",
   "version": "1.6.7"
  }
 },
 "nbformat": 4,
 "nbformat_minor": 5
}
