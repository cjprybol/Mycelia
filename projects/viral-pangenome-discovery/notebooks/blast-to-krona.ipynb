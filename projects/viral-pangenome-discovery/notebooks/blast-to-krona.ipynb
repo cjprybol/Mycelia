{
 "cells": [
  {
   "cell_type": "code",
   "execution_count": null,
   "id": "cdd18f3a-34d4-4dd8-96d5-eed6cd7a0a71",
   "metadata": {
    "tags": []
   },
   "outputs": [],
   "source": [
    "import Pkg\n",
    "\n",
    "pkgs = [\n",
    "    \"DataFrames\",\n",
    "    \"Revise\",\n",
    "    \"uCSV\"\n",
    "]\n",
    "Pkg.add(pkgs)\n",
    "for pkg in pkgs\n",
    "    eval(Meta.parse(\"import $pkg\"))\n",
    "end\n",
    "\n",
    "Pkg.develop(path=\"$(homedir())/workspace/Mycelia\")\n",
    "import Mycelia"
   ]
  },
  {
   "cell_type": "code",
   "execution_count": null,
   "id": "bfad4e0a-9c22-4d03-b27f-f024c505554c",
   "metadata": {
    "tags": []
   },
   "outputs": [],
   "source": [
    "blast_report_file = \"$(dirname(pwd()))/data/SRA/SRR6399459/megahit/final.contigs.fa.blastn.nt.txt\""
   ]
  },
  {
   "cell_type": "code",
   "execution_count": null,
   "id": "7e600130-182b-42d9-a365-686b7059aad0",
   "metadata": {
    "tags": []
   },
   "outputs": [],
   "source": [
    "blast_report = Mycelia.parse_blast_report(blast_report_file)"
   ]
  },
  {
   "cell_type": "code",
   "execution_count": null,
   "id": "bf549712-05aa-4ea3-8857-3ccecb000b42",
   "metadata": {
    "tags": []
   },
   "outputs": [],
   "source": [
    "# get top hit for each contig\n",
    "blast_report_top_hits = \n",
    "DataFrames.combine(DataFrames.groupby(blast_report, \"query id\")) do gdf\n",
    "   first(sort(gdf, \"bit score\", rev=true), 1)\n",
    "end"
   ]
  },
  {
   "cell_type": "code",
   "execution_count": null,
   "id": "8dbf4be1-f276-4dd9-a0b3-93c3974b2a7c",
   "metadata": {
    "tags": []
   },
   "outputs": [],
   "source": [
    "krona_info = blast_report_top_hits[!, [\"query id\", \"subject tax id\"]]"
   ]
  },
  {
   "cell_type": "code",
   "execution_count": null,
   "id": "edb794f6-4f7e-41af-b4a5-7d5b4b0cd0de",
   "metadata": {
    "tags": []
   },
   "outputs": [],
   "source": [
    "krona_outfile = blast_report_file * \".krona_info.txt\""
   ]
  },
  {
   "cell_type": "code",
   "execution_count": null,
   "id": "82ee942b-a6e4-4112-a042-538d9c6bd4cd",
   "metadata": {
    "tags": []
   },
   "outputs": [],
   "source": [
    "[krona_info[!, n] for n in names(krona_info)]"
   ]
  },
  {
   "cell_type": "code",
   "execution_count": null,
   "id": "7e5e0c53-a4a9-4db0-bb48-fbede31a7018",
   "metadata": {
    "tags": []
   },
   "outputs": [],
   "source": [
    "uCSV.write(krona_outfile, data = [krona_info[!, n] for n in names(krona_info)], delim='\\t')"
   ]
  }
 ],
 "metadata": {
  "kernelspec": {
   "display_name": "Julia 1.6.7",
   "language": "julia",
   "name": "julia-1.6"
  },
  "language_info": {
   "file_extension": ".jl",
   "mimetype": "application/julia",
   "name": "julia",
   "version": "1.6.7"
  }
 },
 "nbformat": 4,
 "nbformat_minor": 5
}
