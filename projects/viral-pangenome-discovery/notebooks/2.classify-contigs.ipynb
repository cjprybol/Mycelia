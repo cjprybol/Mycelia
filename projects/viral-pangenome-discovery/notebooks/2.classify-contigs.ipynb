{
 "cells": [
  {
   "cell_type": "code",
   "execution_count": 1,
   "id": "ce59cd77-c0f0-4b90-8de8-3c5f071935ae",
   "metadata": {
    "execution": {
     "iopub.execute_input": "2023-02-19T12:12:38.286000Z",
     "iopub.status.busy": "2023-02-19T12:12:36.293000Z",
     "iopub.status.idle": "2023-02-19T12:14:21.416000Z",
     "shell.execute_reply": "2023-02-19T12:14:21.174000Z"
    },
    "tags": []
   },
   "outputs": [
    {
     "name": "stderr",
     "output_type": "stream",
     "text": [
      "\u001b[32m\u001b[1m  Activating\u001b[22m\u001b[39m environment at `~/workspace/Mycelia/projects/viral-pangenome-discovery/notebooks/Project.toml`\n",
      "\u001b[32m\u001b[1m    Updating\u001b[22m\u001b[39m registry at `~/.julia/registries/General`\n",
      "\u001b[32m\u001b[1m   Resolving\u001b[22m\u001b[39m package versions...\n",
      "\u001b[32m\u001b[1m  No Changes\u001b[22m\u001b[39m to `~/workspace/Mycelia/projects/viral-pangenome-discovery/notebooks/Project.toml`\n",
      "\u001b[32m\u001b[1m  No Changes\u001b[22m\u001b[39m to `~/workspace/Mycelia/projects/viral-pangenome-discovery/notebooks/Manifest.toml`\n"
     ]
    }
   ],
   "source": [
    "import Pkg\n",
    "Pkg.activate(\".\")\n",
    "\n",
    "# not for the faint of heart!\n",
    "# Pkg.update()\n",
    "\n",
    "pkgs = [\n",
    "\"ArgParse\",\n",
    "\"Base64\",\n",
    "\"BioSequences\",\n",
    "\"DataFrames\",\n",
    "\"Dates\",\n",
    "\"DelimitedFiles\",\n",
    "\"FASTX\",\n",
    "\"GLM\",\n",
    "\"HTTP\",\n",
    "\"JSON\",\n",
    "\"Graphs\",\n",
    "\"MetaGraphs\",\n",
    "\"MD5\",\n",
    "\"Statistics\",\n",
    "\"StatsPlots\",\n",
    "\"uCSV\",\n",
    "\"CodecZlib\",\n",
    "\"YAML\",\n",
    "\"Revise\",\n",
    "\"Kmers\",\n",
    "\"StatsBase\"\n",
    "]\n",
    "Pkg.add(pkgs)\n",
    "for pkg in pkgs\n",
    "    eval(Meta.parse(\"import $pkg\"))\n",
    "end\n",
    "\n",
    "import Mycelia"
   ]
  },
  {
   "cell_type": "code",
   "execution_count": 2,
   "id": "909f13b4-7e9d-429b-8b83-33c99af653c9",
   "metadata": {
    "execution": {
     "iopub.execute_input": "2023-02-19T12:14:26.790000Z",
     "iopub.status.busy": "2023-02-19T12:14:21.416000Z",
     "iopub.status.idle": "2023-02-19T12:14:30.753000Z",
     "shell.execute_reply": "2023-02-19T12:14:30.750000Z"
    }
   },
   "outputs": [
    {
     "data": {
      "text/plain": [
       "\"/home/jovyan/workspace/Mycelia/projects/viral-pangenome-discovery/data\""
      ]
     },
     "execution_count": 2,
     "metadata": {},
     "output_type": "execute_result"
    }
   ],
   "source": [
    "data_dir = joinpath(dirname(pwd()), \"data\")"
   ]
  },
  {
   "cell_type": "code",
   "execution_count": 3,
   "id": "1ed0cada-73ac-4c3c-8d8c-e50e1115e414",
   "metadata": {
    "execution": {
     "iopub.execute_input": "2023-02-19T12:14:30.757000Z",
     "iopub.status.busy": "2023-02-19T12:14:30.756000Z",
     "iopub.status.idle": "2023-02-19T12:14:38.052000Z",
     "shell.execute_reply": "2023-02-19T12:14:38.051000Z"
    }
   },
   "outputs": [
    {
     "data": {
      "text/plain": [
       "3-element Vector{String}:\n",
       " \"/home/jovyan/workspace/Mycelia/projects/viral-pangenome-discovery/data/SRA/SRR6399459\"\n",
       " \"/home/jovyan/workspace/Mycelia/projects/viral-pangenome-discovery/data/SRA/SRR6399460\"\n",
       " \"/home/jovyan/workspace/Mycelia/projects/viral-pangenome-discovery/data/SRA/SRR6399461\""
      ]
     },
     "execution_count": 3,
     "metadata": {},
     "output_type": "execute_result"
    }
   ],
   "source": [
    "SRR_paths = filter(x -> !occursin(\".ipynb_checkpoints\", x), readdir(joinpath(data_dir, \"SRA\"), join=true))"
   ]
  },
  {
   "cell_type": "code",
   "execution_count": 4,
   "id": "3271d38e-b524-494d-9022-c09b21888acb",
   "metadata": {
    "execution": {
     "iopub.execute_input": "2023-02-19T12:14:38.056000Z",
     "iopub.status.busy": "2023-02-19T12:14:38.054000Z",
     "iopub.status.idle": "2023-02-19T12:14:38.072000Z",
     "shell.execute_reply": "2023-02-19T12:14:38.071000Z"
    },
    "tags": []
   },
   "outputs": [
    {
     "data": {
      "text/plain": [
       "\"/home/jovyan/workspace/Mycelia/projects/viral-pangenome-discovery/data/SRA/SRR6399459\""
      ]
     },
     "execution_count": 4,
     "metadata": {},
     "output_type": "execute_result"
    }
   ],
   "source": [
    "SRR_path = SRR_paths[1]\n",
    "# SRR_path = SRR_paths[2]\n",
    "# SRR_path = SRR_paths[3]"
   ]
  },
  {
   "cell_type": "code",
   "execution_count": 5,
   "id": "63038363-f144-4de2-bce3-c8040e61714e",
   "metadata": {
    "execution": {
     "iopub.execute_input": "2023-02-19T12:14:38.076000Z",
     "iopub.status.busy": "2023-02-19T12:14:38.074000Z",
     "iopub.status.idle": "2023-02-19T12:14:38.090000Z",
     "shell.execute_reply": "2023-02-19T12:14:38.090000Z"
    },
    "tags": []
   },
   "outputs": [
    {
     "data": {
      "text/plain": [
       "\"SRR6399459\""
      ]
     },
     "execution_count": 5,
     "metadata": {},
     "output_type": "execute_result"
    }
   ],
   "source": [
    "SRR = basename(SRR_path)"
   ]
  },
  {
   "cell_type": "code",
   "execution_count": 6,
   "id": "3660e35e-39eb-4013-920b-fc37043eb89a",
   "metadata": {
    "execution": {
     "iopub.execute_input": "2023-02-19T12:14:38.090000Z",
     "iopub.status.busy": "2023-02-19T12:14:38.090000Z",
     "iopub.status.idle": "2023-02-19T12:14:38.102000Z",
     "shell.execute_reply": "2023-02-19T12:14:38.102000Z"
    },
    "tags": []
   },
   "outputs": [
    {
     "data": {
      "text/plain": [
       "\"/home/jovyan/workspace/Mycelia/projects/viral-pangenome-discovery/data/SRA/SRR6399459/blast\""
      ]
     },
     "execution_count": 6,
     "metadata": {},
     "output_type": "execute_result"
    }
   ],
   "source": [
    "out_dir = joinpath(SRR_path, \"blast\")"
   ]
  },
  {
   "cell_type": "code",
   "execution_count": 8,
   "id": "6e92373a-9477-4d55-8a80-75cc392470be",
   "metadata": {
    "execution": {
     "iopub.execute_input": "2023-02-19T12:29:12.272000Z",
     "iopub.status.busy": "2023-02-19T12:29:12.272000Z",
     "iopub.status.idle": "2023-02-19T14:53:00.355000Z",
     "shell.execute_reply": "2023-02-19T14:53:00.354000Z"
    },
    "tags": []
   },
   "outputs": [
    {
     "name": "stderr",
     "output_type": "stream",
     "text": [
      "\u001b[36m\u001b[1m[ \u001b[22m\u001b[39m\u001b[36m\u001b[1mInfo: \u001b[22m\u001b[39mdownloading from source ncbi\n"
     ]
    },
    {
     "name": "stdout",
     "output_type": "stream",
     "text": [
      "Connected to NCBI\n",
      "Downloading nt (87 volumes) ...\n",
      "Downloading nt.00.tar.gz... [OK]\n",
      "Downloading nt.01.tar.gz... [OK]\n",
      "Downloading nt.02.tar.gz... [OK]\n",
      "Downloading nt.03.tar.gz... [OK]\n",
      "Downloading nt.04.tar.gz... [OK]\n",
      "Downloading nt.05.tar.gz... [OK]\n",
      "Downloading nt.06.tar.gz... [OK]\n",
      "Downloading nt.07.tar.gz... [OK]\n",
      "Downloading nt.08.tar.gz... [OK]\n",
      "Downloading nt.09.tar.gz... [OK]\n",
      "Downloading nt.10.tar.gz... [OK]\n",
      "Downloading nt.11.tar.gz... [OK]\n",
      "Downloading nt.12.tar.gz... [OK]\n",
      "Downloading nt.13.tar.gz... [OK]\n",
      "Downloading nt.14.tar.gz... [OK]\n",
      "Downloading nt.15.tar.gz... [OK]\n",
      "Downloading nt.16.tar.gz... [OK]\n",
      "Downloading nt.17.tar.gz... [OK]\n",
      "Downloading nt.18.tar.gz... [OK]\n",
      "Downloading nt.19.tar.gz... [OK]\n",
      "Downloading nt.20.tar.gz... [OK]\n",
      "Downloading nt.21.tar.gz... [OK]\n",
      "Downloading nt.22.tar.gz... [OK]\n",
      "Downloading nt.23.tar.gz... [OK]\n",
      "Downloading nt.24.tar.gz... [OK]\n",
      "Downloading nt.25.tar.gz... [OK]\n",
      "Downloading nt.26.tar.gz... [OK]\n",
      "Downloading nt.27.tar.gz... [OK]\n",
      "Downloading nt.28.tar.gz... [OK]\n",
      "Downloading nt.29.tar.gz... [OK]\n",
      "Downloading nt.30.tar.gz... [OK]\n",
      "Downloading nt.31.tar.gz... [OK]\n",
      "Downloading nt.32.tar.gz... [OK]\n",
      "Downloading nt.33.tar.gz... [OK]\n",
      "Downloading nt.34.tar.gz... [OK]\n",
      "Downloading nt.35.tar.gz... [OK]\n",
      "Downloading nt.36.tar.gz... [OK]\n",
      "Downloading nt.37.tar.gz... [OK]\n",
      "Downloading nt.38.tar.gz... [OK]\n",
      "Downloading nt.39.tar.gz... [OK]\n",
      "Downloading nt.40.tar.gz... [OK]\n",
      "Downloading nt.41.tar.gz... [OK]\n",
      "Downloading nt.42.tar.gz... [OK]\n",
      "Downloading nt.43.tar.gz... [OK]\n",
      "Downloading nt.44.tar.gz... [OK]\n",
      "Downloading nt.45.tar.gz... [OK]\n",
      "Downloading nt.46.tar.gz... [OK]\n",
      "Downloading nt.47.tar.gz... [OK]\n",
      "Downloading nt.48.tar.gz... [OK]\n",
      "Downloading nt.49.tar.gz... [OK]\n",
      "Downloading nt.50.tar.gz... [OK]\n",
      "Downloading nt.51.tar.gz... [OK]\n",
      "Downloading nt.52.tar.gz... [OK]\n",
      "Downloading nt.53.tar.gz... [OK]\n",
      "Downloading nt.54.tar.gz... [OK]\n",
      "Downloading nt.55.tar.gz... [OK]\n",
      "Downloading nt.56.tar.gz... [OK]\n",
      "Downloading nt.57.tar.gz... [OK]\n",
      "Downloading nt.58.tar.gz... [OK]\n",
      "Downloading nt.59.tar.gz... [OK]\n",
      "Downloading nt.60.tar.gz... [OK]\n",
      "Downloading nt.61.tar.gz... [OK]\n",
      "Downloading nt.62.tar.gz... [OK]\n",
      "Downloading nt.63.tar.gz... [OK]\n",
      "Downloading nt.64.tar.gz... [OK]\n",
      "Downloading nt.65.tar.gz... [OK]\n",
      "Downloading nt.66.tar.gz... [OK]\n",
      "Downloading nt.67.tar.gz... [OK]\n",
      "Downloading nt.68.tar.gz... [OK]\n",
      "Downloading nt.69.tar.gz... [OK]\n",
      "Downloading nt.70.tar.gz... [OK]\n",
      "Downloading nt.71.tar.gz... [OK]\n",
      "Downloading nt.72.tar.gz... [OK]\n",
      "Downloading nt.73.tar.gz... [OK]\n",
      "Downloading nt.74.tar.gz... [OK]\n",
      "Downloading nt.75.tar.gz... [OK]\n",
      "Downloading nt.76.tar.gz... [OK]\n",
      "Downloading nt.77.tar.gz... [OK]\n",
      "Downloading nt.78.tar.gz... [OK]\n",
      "Downloading nt.79.tar.gz... [OK]\n",
      "Downloading nt.80.tar.gz... [OK]\n",
      "Downloading nt.81.tar.gz... [OK]\n",
      "Downloading nt.82.tar.gz... [OK]\n",
      "Downloading nt.83.tar.gz... [OK]\n",
      "Downloading nt.84.tar.gz... [OK]\n",
      "Downloading nt.85.tar.gz... [OK]\n",
      "Downloading nt.86.tar.gz... [OK]\n",
      "Decompressing nt.00.tar.gz ... [OK]\n",
      "Decompressing nt.01.tar.gz ... [OK]\n",
      "Decompressing nt.02.tar.gz ... [OK]\n",
      "Decompressing nt.03.tar.gz ... [OK]\n",
      "Decompressing nt.04.tar.gz ... [OK]\n",
      "Decompressing nt.05.tar.gz ... [OK]\n",
      "Decompressing nt.06.tar.gz ... [OK]\n",
      "Decompressing nt.07.tar.gz ... [OK]\n",
      "Decompressing nt.08.tar.gz ... [OK]\n",
      "Decompressing nt.09.tar.gz ... [OK]\n",
      "Decompressing nt.10.tar.gz ... [OK]\n",
      "Decompressing nt.11.tar.gz ... [OK]\n",
      "Decompressing nt.12.tar.gz ... [OK]\n",
      "Decompressing nt.13.tar.gz ... [OK]\n",
      "Decompressing nt.14.tar.gz ... [OK]\n",
      "Decompressing nt.15.tar.gz ... [OK]\n",
      "Decompressing nt.16.tar.gz ... [OK]\n",
      "Decompressing nt.17.tar.gz ... [OK]\n",
      "Decompressing nt.18.tar.gz ... [OK]\n",
      "Decompressing nt.19.tar.gz ... [OK]\n",
      "Decompressing nt.20.tar.gz ... [OK]\n",
      "Decompressing nt.21.tar.gz ... [OK]\n",
      "Decompressing nt.22.tar.gz ... [OK]\n",
      "Decompressing nt.23.tar.gz ... [OK]\n",
      "Decompressing nt.24.tar.gz ... [OK]\n",
      "Decompressing nt.25.tar.gz ... [OK]\n",
      "Decompressing nt.26.tar.gz ... [OK]\n",
      "Decompressing nt.27.tar.gz ... [OK]\n",
      "Decompressing nt.28.tar.gz ... [OK]\n",
      "Decompressing nt.29.tar.gz ... [OK]\n",
      "Decompressing nt.30.tar.gz ... [OK]\n",
      "Decompressing nt.31.tar.gz ... [OK]\n",
      "Decompressing nt.32.tar.gz ... [OK]\n",
      "Decompressing nt.33.tar.gz ... [OK]\n",
      "Decompressing nt.34.tar.gz ... [OK]\n",
      "Decompressing nt.35.tar.gz ... [OK]\n",
      "Decompressing nt.36.tar.gz ... [OK]\n",
      "Decompressing nt.37.tar.gz ... [OK]\n",
      "Decompressing nt.38.tar.gz ... [OK]\n",
      "Decompressing nt.39.tar.gz ... [OK]\n",
      "Decompressing nt.40.tar.gz ... [OK]\n",
      "Decompressing nt.41.tar.gz ... [OK]\n",
      "Decompressing nt.42.tar.gz ... [OK]\n",
      "Decompressing nt.43.tar.gz ... [OK]\n",
      "Decompressing nt.44.tar.gz ... [OK]\n",
      "Decompressing nt.45.tar.gz ... [OK]\n",
      "Decompressing nt.46.tar.gz ... [OK]\n",
      "Decompressing nt.47.tar.gz ... [OK]\n",
      "Decompressing nt.48.tar.gz ... [OK]\n",
      "Decompressing nt.49.tar.gz ... [OK]\n",
      "Decompressing nt.50.tar.gz ... [OK]\n",
      "Decompressing nt.51.tar.gz ... [OK]\n",
      "Decompressing nt.52.tar.gz ... [OK]\n",
      "Decompressing nt.53.tar.gz ... [OK]\n",
      "Decompressing nt.54.tar.gz ... [OK]\n",
      "Decompressing nt.55.tar.gz ... [OK]\n",
      "Decompressing nt.56.tar.gz ... [OK]\n",
      "Decompressing nt.57.tar.gz ... [OK]\n",
      "Decompressing nt.58.tar.gz ... [OK]\n",
      "Decompressing nt.59.tar.gz ... [OK]\n",
      "Decompressing nt.60.tar.gz ... [OK]\n",
      "Decompressing nt.61.tar.gz ... [OK]\n",
      "Decompressing nt.62.tar.gz ... [OK]\n",
      "Decompressing nt.63.tar.gz ... [OK]\n",
      "Decompressing nt.64.tar.gz ... [OK]\n",
      "Decompressing nt.65.tar.gz ... [OK]\n",
      "Decompressing nt.66.tar.gz ... [OK]\n",
      "Decompressing nt.67.tar.gz ... [OK]\n",
      "Decompressing nt.68.tar.gz ... [OK]\n",
      "Decompressing nt.69.tar.gz ... [OK]\n",
      "Decompressing nt.70.tar.gz ... [OK]\n",
      "Decompressing nt.71.tar.gz ... [OK]\n",
      "Decompressing nt.72.tar.gz ... [OK]\n",
      "Decompressing nt.73.tar.gz ... [OK]\n",
      "Decompressing nt.74.tar.gz ... [OK]\n",
      "Decompressing nt.75.tar.gz ... [OK]\n",
      "Decompressing nt.76.tar.gz ... [OK]\n",
      "Decompressing nt.77.tar.gz ... [OK]\n",
      "Decompressing nt.78.tar.gz ... [OK]\n",
      "Decompressing nt.79.tar.gz ... [OK]\n",
      "Decompressing nt.80.tar.gz ... [OK]\n",
      "Decompressing nt.81.tar.gz ... [OK]\n",
      "Decompressing nt.82.tar.gz ... [OK]\n",
      "Decompressing nt.83.tar.gz ... [OK]\n",
      "Decompressing nt.84.tar.gz ... [OK]\n",
      "Decompressing nt.85.tar.gz ... [OK]\n",
      "Decompressing nt.86.tar.gz ... [OK]\n",
      "8628.014435 seconds (17.94 M allocations: 1.093 GiB, 0.02% gc time, 0.44% compilation time)\n"
     ]
    }
   ],
   "source": [
    "# cpan -f App::cpan minus\n",
    "# cpanm List::MoreUtils\n",
    "# mamba install perl-list-moreutils\n",
    "\n",
    "blastdb_dir = \"$(homedir())/blastdb\"\n",
    "blast_db = \"nt\"\n",
    "if isdir(blastdb_dir) && !isempty(readdir(blastdb_dir))\n",
    "    @info \"blast db detected, using existing\"    \n",
    "else\n",
    "    Mycelia.download_blast_db(db=blast_db, outdir=blastdb_dir, source=\"ncbi\")\n",
    "end"
   ]
  },
  {
   "cell_type": "code",
   "execution_count": null,
   "id": "be086702-974d-4147-8ddb-b30c0a77c5ec",
   "metadata": {},
   "outputs": [],
   "source": [
    "db_path = joinpath(blastdb_dir, blast_db)\n",
    "# blast contigs against NCBI\n",
    "ncbi_blast_outfile = \"$(assembled_fasta).blastn.$(blast_db).txt\"\n",
    "\n",
    "# >= 1-2 hours to run remotely\n",
    "# 1679.701928 seconds\n",
    "# 3497.275545\n",
    " # 28m 0.44s\n",
    "Mycelia.run_blast\n",
    "\n",
    "# join the blast results to generate the contig info file\n",
    "ncbi_blast_results = Mycelia.parse_blast_report(ncbi_blast_outfile)\n",
    "\n",
    "if !isfile(\"taxdump.tar.gz\")\n",
    "    run(`wget https://ftp.ncbi.nih.gov/pub/taxonomy/taxdump.tar.gz`)\n",
    "end\n",
    "if !isdir(\"taxdump\")\n",
    "    mkdir(\"taxdump\")\n",
    "    run(`tar -xvzf taxdump.tar.gz --directory taxdump`)\n",
    "end\n",
    "\n",
    "detected_tax_id_file = \"$(OUT_DIR)/$(config[\"assembly run identifier\"]).detected_tax_ids.txt\"\n",
    "open(detected_tax_id_file, \"w\") do io\n",
    "    for taxid in unique(filter(!ismissing, ncbi_blast_results[!, \"subject tax id\"]))\n",
    "        println(io, taxid)\n",
    "    end\n",
    "end\n",
    "\n",
    "taxid_to_lineage_map = Dict(parse(Int, split_line[1]) => split_line[2] for split_line in split.(readlines(`taxonkit lineage --data-dir taxdump $(detected_tax_id_file)`), '\\t'))\n",
    "\n",
    "ncbi_blast_results[!, \"lineage\"] = map(x -> get(taxid_to_lineage_map, x, \"\"), ncbi_blast_results[!, \"subject tax id\"])\n",
    "\n",
    "ncbi_blast_results[!, \"% of subject length\"] = round.(ncbi_blast_results[!, \"query length\"] ./ ncbi_blast_results[!, \"subject length\"] * 100, digits=3)\n",
    "contig_info_table = DataFrames.leftjoin(qualimap_contig_coverage_table, ncbi_blast_results, on=\"Contig\" => \"query id\")\n",
    "\n",
    "# # get top 10 hits for each contig\n",
    "# contig_info_table_top_hits = \n",
    "# DataFrames.combine(DataFrames.groupby(contig_info_table, \"Contig\")) do gdf\n",
    "#    first(sort(gdf, \"bit score\", rev=true), 10)\n",
    "# end\n",
    "\n",
    "# re-order columns based on utility\n",
    "reordered_columns = [\n",
    "    \"Contig\",\n",
    "    \"Length\",\n",
    "    \"Mapped bases\",\n",
    "    \"Mean coverage\",\n",
    "    \"Standard Deviation\",\n",
    "    \"% Mapped bases\",\n",
    "    \"subject id\",\n",
    "    \"subject acc.\",\n",
    "    \"subject title\",\n",
    "    \"subject tax id\",\n",
    "    \"lineage\",\n",
    "    \"% identity\",\n",
    "    \"% of subject length\",\n",
    "    \"evalue\",\n",
    "    \"bit score\",\n",
    "    \"query length\",\n",
    "    \"subject length\",\n",
    "    \"alignment length\",\n",
    "    \"q. start\",\n",
    "    \"q. end\",\n",
    "    \"s. start\",\n",
    "    \"s. end\",\n",
    "    \"identical\",\n",
    "    \"mismatches\"\n",
    "]\n",
    "contig_info_table_top_hits = contig_info_table_top_hits[!, reordered_columns]\n",
    "sort!(contig_info_table_top_hits, [\"% Mapped bases\", \"bit score\"], rev=true)\n",
    "\n",
    "contig_info_csv = \"$(OUT_DIR)/$(config[\"assembly run identifier\"]).config_info.csv\"\n",
    "contig_info_tsv = \"$(OUT_DIR)/$(config[\"assembly run identifier\"]).config_info.tsv\"\n",
    "uCSV.write(contig_info_csv, contig_info_table_top_hits, quotes='\"')\n",
    "uCSV.write(contig_info_tsv, contig_info_table_top_hits)\n",
    "results[\"contig info\"] = contig_info_csv"
   ]
  },
  {
   "cell_type": "code",
   "execution_count": null,
   "id": "c7cbdf58-fa45-4e34-96ff-a50eef9ce778",
   "metadata": {},
   "outputs": [],
   "source": [
    "# MMSeqs Easy taxonomy\n",
    "# amino acid\n",
    "# ~ 5 hour download time may not be tolerable?\n",
    "# processing\n",
    "# 7930.350543 seconds (710.71 k allocations: 40.309 MiB, 0.00% gc time, 0.00% compilation time)\n",
    "# 2 hours 12m\n",
    "# 1.5 hours for iterative search with varying sensitivity\n",
    "Mycelia.download_mmseqs_db(db=\"UniRef100\")\n",
    "# mmseqs databases --compressed 1 --remove-tmp-files 1 --force-reuse 1 UniRef100 $HOME/mmseqs/UniRef100 $HOME/mmseqs/tmp\n",
    "\n",
    "Mycelia.run_mmseqs_easy_search(out_dir=OUT_DIR, query_fasta=amino_acid_fasta, target_database=\"$(homedir())/mmseqs/UniRef100\", outfile=config[\"annotation run identifier\"])\n",
    "# add taxonomic information to uniref classifications above!"
   ]
  }
 ],
 "metadata": {
  "kernelspec": {
   "display_name": "Julia 1.6.7",
   "language": "julia",
   "name": "julia-1.6"
  },
  "language_info": {
   "file_extension": ".jl",
   "mimetype": "application/julia",
   "name": "julia",
   "version": "1.6.7"
  }
 },
 "nbformat": 4,
 "nbformat_minor": 5
}
