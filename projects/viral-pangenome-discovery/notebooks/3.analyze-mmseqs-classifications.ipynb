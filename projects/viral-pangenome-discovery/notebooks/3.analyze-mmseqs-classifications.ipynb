{
 "cells": [
  {
   "cell_type": "code",
   "execution_count": null,
   "id": "ce59cd77-c0f0-4b90-8de8-3c5f071935ae",
   "metadata": {
    "tags": []
   },
   "outputs": [],
   "source": [
    "import Pkg\n",
    "Pkg.activate(\".\")\n",
    "\n",
    "pkgs = [\n",
    "\"Revise\",\n",
    "\"DataFrames\",\n",
    "\"ProgressMeter\",\n",
    "\"Statistics\"\n",
    "# \"Iterators\"\n",
    "]\n",
    "Pkg.add(pkgs)\n",
    "for pkg in pkgs\n",
    "    eval(Meta.parse(\"import $pkg\"))\n",
    "end\n",
    "\n",
    "import Mycelia"
   ]
  },
  {
   "cell_type": "code",
   "execution_count": null,
   "id": "7626ee3e-5dab-413d-b487-8f998341d593",
   "metadata": {
    "tags": []
   },
   "outputs": [],
   "source": [
    "uniref_dbs = [\n",
    "    \"UniRef100\",\n",
    "    \"UniRef90\",\n",
    "    \"UniRef50\"\n",
    "]\n",
    "\n",
    "data_dir = joinpath(dirname(pwd()), \"data\")\n",
    "SRR_paths = filter(x -> !occursin(\".ipynb_checkpoints\", x), readdir(joinpath(data_dir, \"SRA\"), join=true))"
   ]
  },
  {
   "cell_type": "code",
   "execution_count": null,
   "id": "6b2f128a-09de-4026-bba7-eca378fe786f",
   "metadata": {
    "tags": []
   },
   "outputs": [],
   "source": [
    "# lca.tsv - how to interpret?\n",
    "# contig\n",
    "# classification taxon id\n",
    "# rank\n",
    "# name\n",
    "# (1) a single taxonomy numeric identifier\n",
    "# (2) a taxonomic rank column\n",
    "# (3) taxonomic name column\n",
    "# fragments retained\n",
    "# fragments taxonomically assigned\n",
    "# fragments in agreement with the contig label (i.e. same taxid or have it as an ancestor)\n",
    "# the support received -log(E-value)\n",
    "\n",
    "# report - this is tree-based relative frequencies - start here and make krona plots from these!\n",
    "\n",
    "# tophit_aln - this seems to be a blast report, but it's not helpful because there aren't any fasta sequences to refer to\n",
    "# (1,2) identifiers for query and target sequences/profiles, (3) sequence identity, (4) alignment length, (5) number of mismatches, (6) number of gap openings, (7-8, 9-10) domain start and end-position in query and in target, (11) E-value, and (12) bit score.\n",
    "# query,target,fident,alnlen,mismatch,gapopen,qstart,qend,tstart,tend,evalue,bits\n",
    "\n",
    "# tophit_report\n",
    "# (1) Target identifier \n",
    "# (2) Number of sequences aligning to target\n",
    "# (3) Unique coverage of target uniqueAlignedResidues / targetLength\n",
    "# (4) Target coverage alignedResidues / targetLength\n",
    "# (5) Average sequence identity\n",
    "# (6) Taxonomical information identifier, species, lineage "
   ]
  },
  {
   "cell_type": "code",
   "execution_count": null,
   "id": "2c6f83ff-bbaf-45cf-8ecf-efacbbed59eb",
   "metadata": {
    "tags": []
   },
   "outputs": [],
   "source": [
    "viral_frequency_table = DataFrames.DataFrame(\n",
    "    sample_identifier = String[],\n",
    "    classification_method = String[],\n",
    "    percent_viral_contigs = Float64[]\n",
    ")\n",
    "\n",
    "ProgressMeter.@showprogress for SRR_path in SRR_paths\n",
    "    mmseqs_dir = joinpath(SRR_path, \"mmseqs_easy_taxonomy\")\n",
    "    for db in uniref_dbs\n",
    "        kraken_report = \"$(mmseqs_dir)/final.contigs.fastg.gfa.fna.mmseqs_easy_taxonomy.$(db)_report\"\n",
    "        # add something to determine everything below viruses with phylokit or whatever it's called\n",
    "        viral_lines = collect(Iterators.filter(x -> occursin(r\"virus\"i, x) && occursin(r\"10239\"i, x), eachline(kraken_report)))\n",
    "        if length(viral_lines) == 0\n",
    "            percent_viral_contigs = 0.0\n",
    "        elseif length(viral_lines) == 1\n",
    "            viral_line_table = Mycelia.read_kraken_report(IOBuffer(join(viral_lines, '\\n')))\n",
    "            percent_viral_contigs = viral_line_table[1, \"percentage_of_fragments_at_or_below_taxon\"]\n",
    "        else\n",
    "            display(viral_lines)\n",
    "            error()\n",
    "        end\n",
    "        row = (\n",
    "            sample_identifier = basename(SRR_path),\n",
    "            classification_method = db,\n",
    "            percent_viral_contigs = percent_viral_contigs\n",
    "        )\n",
    "        push!(viral_frequency_table, row)\n",
    "    end\n",
    "end\n",
    "viral_frequency_table"
   ]
  },
  {
   "cell_type": "markdown",
   "id": "8e8873fe-ae72-4674-b479-7602c7e2caa3",
   "metadata": {
    "tags": []
   },
   "source": [
    "### summary_table = DataFrames.combine(DataFrames.groupby(viral_frequency_table, \"sample_identifier\"), \"percent_viral_contigs\" => Statistics.median)\n",
    "sort(summary_table, \"percent_viral_contigs_median\", rev=true)"
   ]
  },
  {
   "cell_type": "code",
   "execution_count": null,
   "id": "66ab4e1c-70d9-4491-bc2d-2fc3019fd7d4",
   "metadata": {},
   "outputs": [],
   "source": []
  },
  {
   "cell_type": "code",
   "execution_count": null,
   "id": "667ed686-bfa6-4149-856c-4c8dd31396cc",
   "metadata": {},
   "outputs": [],
   "source": []
  },
  {
   "cell_type": "code",
   "execution_count": null,
   "id": "05c4b0f5-74dc-4e49-8bf3-7b3cc666376f",
   "metadata": {},
   "outputs": [],
   "source": []
  },
  {
   "cell_type": "code",
   "execution_count": null,
   "id": "fa59cbec-8252-463b-b603-d3c07a20a9d4",
   "metadata": {},
   "outputs": [],
   "source": []
  },
  {
   "cell_type": "code",
   "execution_count": null,
   "id": "929b483e-742b-42bd-9aef-f8209a7b9595",
   "metadata": {},
   "outputs": [],
   "source": []
  },
  {
   "cell_type": "code",
   "execution_count": null,
   "id": "a3af5392-11b2-4d77-ad42-1cfeed1b3873",
   "metadata": {},
   "outputs": [],
   "source": []
  },
  {
   "cell_type": "code",
   "execution_count": null,
   "id": "a761bc46-f912-492a-84e9-6f3649ebd378",
   "metadata": {},
   "outputs": [],
   "source": []
  },
  {
   "cell_type": "code",
   "execution_count": null,
   "id": "99c149c1-2ce5-4e2f-bf54-f42ce88a5d1e",
   "metadata": {
    "tags": []
   },
   "outputs": [],
   "source": [
    "SRR_path = first(SRR_paths)"
   ]
  },
  {
   "cell_type": "code",
   "execution_count": null,
   "id": "fbb7a7fe-e317-40b2-a833-97c171d7ff98",
   "metadata": {},
   "outputs": [],
   "source": [
    "# make joint_contig_info reports"
   ]
  },
  {
   "cell_type": "code",
   "execution_count": null,
   "id": "0ad765a3-1ec5-401e-a3d9-5c91bd2a1795",
   "metadata": {
    "tags": []
   },
   "outputs": [],
   "source": [
    "readdir(SRR_path)"
   ]
  },
  {
   "cell_type": "code",
   "execution_count": null,
   "id": "710466c0-6911-4ce0-be80-384c326e0dbe",
   "metadata": {
    "tags": []
   },
   "outputs": [],
   "source": [
    "# \"genomad\"\n",
    "readdir(joinpath(SRR_path, \"genomad\", \"final.contigs.fastg.gfa_summary\"))\n",
    "# \"final.contigs.fastg.gfa_virus_genes.tsv\"\n",
    "# \"final.contigs.fastg.gfa_virus_proteins.faa\"\n",
    "\n",
    "# \"final.contigs.fastg.gfa_virus.fna\"\n",
    "# \"final.contigs.fastg.gfa_virus_summary.tsv\""
   ]
  },
  {
   "cell_type": "code",
   "execution_count": null,
   "id": "9595eade-6bcf-45f6-a1c2-efc68794e6cb",
   "metadata": {},
   "outputs": [],
   "source": [
    "# hit vs no hit\n",
    "# \"blastn\""
   ]
  },
  {
   "cell_type": "code",
   "execution_count": null,
   "id": "61995565-0ec8-443b-8534-3d0ef52935cc",
   "metadata": {
    "tags": []
   },
   "outputs": [],
   "source": [
    "# \"virsorter\"\n",
    "# # final-viral-score.tsv - 1 line per viral contig\n",
    "# # final-viral-combined.fa - viral fasta records"
   ]
  },
  {
   "cell_type": "code",
   "execution_count": null,
   "id": "f39de630-bb60-4b42-8d9f-581e94c98ac5",
   "metadata": {
    "tags": []
   },
   "outputs": [],
   "source": [
    "readdir(SRR_path)"
   ]
  },
  {
   "cell_type": "code",
   "execution_count": null,
   "id": "b899696d-43e3-49e6-8b8a-caed856b474a",
   "metadata": {},
   "outputs": [],
   "source": [
    "summary_table = DataFrames.combine(DataFrames.groupby(viral_frequency_table, \"sample_identifier\"), \"percent_viral_contigs\" => Statistics.median)"
   ]
  },
  {
   "cell_type": "code",
   "execution_count": null,
   "id": "c06fe840-6f84-4901-bd9a-394d3093af45",
   "metadata": {
    "tags": []
   },
   "outputs": [],
   "source": [
    "\n",
    "for SRR_path in SRR_paths\n",
    "    SRR = basename(SRR_path)\n",
    "    assembled_fasta = joinpath(SRR_path, \"megahit\", \"final.contigs.fastg.gfa.fna\")\n",
    "    out_dir = mkpath(joinpath(SRR_path, \"mmseqs_easy_taxonomy\"))\n",
    "    outfile_base = joinpath(out_dir, basename(assembled_fasta) * \".mmseqs_easy_taxonomy.\" * basename(target_database))\n",
    "    outfiles = [outfile_base * ext for ext in [\"_lca.tsv\", \"_report\", \"_tophit_aln\", \"_tophit_report\"]]\n",
    "    if !all(isfile, outfiles)\n",
    "        println(\"need to run $target_database for $SRR\")\n",
    "        # run(`sbatch mmseqs.sh $(assembled_fasta) $(target_database) $(outfile_base) $(joinpath(out_dir, \"tmp\"))`)\n",
    "        # println(`sbatch mmseqs.sh $(assembled_fasta) $(target_database) $(outfile_base) $(joinpath(out_dir, \"tmp\"))`)\n",
    "        # 73 minutes UniRef100\n",
    "        # 35 minutes UniRef90\n",
    "        # 10 minutes UniRef50\n",
    "        # println(\"conda run --no-capture-output -n mmseqs2 mmseqs easy-taxonomy $(assembled_fasta) $(target_database) $(outfile_base) $(joinpath(out_dir, \"tmp\"))\")\n",
    "        # Mycelia.run_mmseqs_easy_taxonomy(out_dir=SRR_path, query_fasta=assembled_fasta, target_database=target_database, outfile=SRR)\n",
    "    else\n",
    "        println(\"all outfiles already exists for $target_database and $SRR...\")\n",
    "    end\n",
    "end"
   ]
  },
  {
   "cell_type": "code",
   "execution_count": null,
   "id": "c7cbdf58-fa45-4e34-96ff-a50eef9ce778",
   "metadata": {},
   "outputs": [],
   "source": [
    "# python $HOME/workspace/Mycelia/projects/viral-pangenome-discovery/notebooks/kreport2krona.py -r $HOME/workspace/Mycelia/projects/viral-pangenome-discovery/data/SRA/SRR6399459/mmseqs_easy_taxonomy_default/SRR6399459.mmseqs_easy_taxonomy.UniRef100.txt_report -o $HOME/workspace/Mycelia/projects/viral-pangenome-discovery/data/SRA/SRR6399459/mmseqs_easy_taxonomy_default/SRR6399459.mmseqs_easy_taxonomy.UniRef100.txt_report.krona\n",
    "# mamba install -c bioconda krona\n",
    "# ktUpdateTaxonomy.sh\n",
    "# ktImportText $HOME/workspace/Mycelia/projects/viral-pangenome-discovery/data/SRA/SRR6399459/mmseqs_easy_taxonomy_default/SRR6399459.mmseqs_easy_taxonomy.UniRef100.txt_report.krona -o $HOME/workspace/Mycelia/projects/viral-pangenome-discovery/data/SRA/SRR6399459/mmseqs_easy_taxonomy_default/SRR6399459.mmseqs_easy_taxonomy.UniRef100.txt_report.krona.html\n",
    "# if !isfile(krona_file)\n",
    "#     run(`python kreport2krona.py -r $(report) -o $(krona_file)`)\n",
    "# end\n",
    "# if !isfile(krona_html)\n",
    "#     run(`ktImportText $(krona_file) -o $(krona_html)`)\n",
    "# end"
   ]
  }
 ],
 "metadata": {
  "kernelspec": {
   "display_name": "Julia 1.6.7",
   "language": "julia",
   "name": "julia-1.6"
  },
  "language_info": {
   "file_extension": ".jl",
   "mimetype": "application/julia",
   "name": "julia",
   "version": "1.6.7"
  }
 },
 "nbformat": 4,
 "nbformat_minor": 5
}
