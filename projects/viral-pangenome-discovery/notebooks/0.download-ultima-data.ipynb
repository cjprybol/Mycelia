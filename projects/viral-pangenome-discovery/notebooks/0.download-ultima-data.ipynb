{
 "cells": [
  {
   "cell_type": "code",
   "execution_count": null,
   "id": "d721fa48-b788-4576-9cab-b93b33daf55e",
   "metadata": {
    "tags": []
   },
   "outputs": [],
   "source": [
    "import Pkg\n",
    "\n",
    "pkgs = [\n",
    "\"ProgressMeter\",\n",
    "\"uCSV\",\n",
    "\"DataFrames\"\n",
    "]\n",
    "Pkg.add(pkgs)\n",
    "for pkg in pkgs\n",
    "    eval(Meta.parse(\"import $pkg\"))\n",
    "end"
   ]
  },
  {
   "cell_type": "code",
   "execution_count": null,
   "id": "67709473-e3d6-4992-8481-5996bc7e778f",
   "metadata": {},
   "outputs": [],
   "source": [
    "base_directory = dirname(pwd())\n",
    "metadata_file_path = joinpath(base_directory, \"metadata\", \"ultima\", \"Snyder_delivery_1.xlsx - Sheet1.tsv\")\n",
    "metadata_table = DataFrames.DataFrame(uCSV.read(metadata_file_path, delim='\\t', header=1))\n",
    "sort!(metadata_table, \"Customer ID\")\n",
    "ultima_data_dir = joinpath(base_directory, \"data\", \"Ultima\")"
   ]
  },
  {
   "cell_type": "code",
   "execution_count": null,
   "id": "8116894f-98a6-4e25-a66f-702eca9df523",
   "metadata": {},
   "outputs": [],
   "source": [
    "sample_metadata = metadata_table[1, :]"
   ]
  },
  {
   "cell_type": "code",
   "execution_count": null,
   "id": "9845718b-00fa-4707-baa4-8e9cc4fcfae7",
   "metadata": {},
   "outputs": [],
   "source": [
    "sample_directory = mkpath(joinpath(ultima_data_dir, sample_metadata[\"Customer ID\"]))"
   ]
  },
  {
   "cell_type": "code",
   "execution_count": null,
   "id": "11942574-fd05-4f43-8cbf-2eaf2167b9ee",
   "metadata": {},
   "outputs": [],
   "source": [
    "for remote_file in [\n",
    "    sample_metadata[\"raw fastq\"],\n",
    "    sample_metadata[\"non-human fastq\"],\n",
    "    sample_metadata[\"kraken report all data, incl human\"]\n",
    "]\n",
    "    local_file = joinpath(sample_directory, basename(remote_file))\n",
    "    if !isfile(local_file)\n",
    "        cmd = `aws s3 cp $(remote_file) $(local_file)`\n",
    "        print(cmd)\n",
    "        run(cmd)\n",
    "    end\n",
    "end"
   ]
  },
  {
   "cell_type": "code",
   "execution_count": null,
   "id": "c5643ba3-a666-4631-bb1f-744d2bd85e77",
   "metadata": {},
   "outputs": [],
   "source": [
    "remote_raw_fastq = \n",
    "local_raw_fastq = joinpath(sample_directory, basename(remote_raw_fastq))"
   ]
  },
  {
   "cell_type": "code",
   "execution_count": null,
   "id": "62133aa8-3485-4d85-bcc5-69318105a86a",
   "metadata": {},
   "outputs": [],
   "source": []
  },
  {
   "cell_type": "code",
   "execution_count": null,
   "id": "2c375497-be21-4de1-b32d-4607e0cb5741",
   "metadata": {},
   "outputs": [],
   "source": []
  },
  {
   "cell_type": "code",
   "execution_count": null,
   "id": "e9549b1e-c80a-4d1e-a5cf-6ca6cdc17a8d",
   "metadata": {},
   "outputs": [],
   "source": []
  },
  {
   "cell_type": "code",
   "execution_count": null,
   "id": "5a69cd09-d41c-4a3b-943f-54fd23a894f3",
   "metadata": {},
   "outputs": [],
   "source": []
  },
  {
   "cell_type": "code",
   "execution_count": null,
   "id": "b95c3a2b-79ef-4dc4-8f6b-ffb909077f15",
   "metadata": {},
   "outputs": [],
   "source": [
    "# aws s3 cp s3://bucket-name/path/to/file /local/destination"
   ]
  },
  {
   "cell_type": "code",
   "execution_count": null,
   "id": "6fd66ab2-224f-49db-862d-58de171830c2",
   "metadata": {},
   "outputs": [],
   "source": [
    "# sample_metadata = metadata_table[1, :]"
   ]
  },
  {
   "cell_type": "code",
   "execution_count": null,
   "id": "d58f5f52-2b30-40a9-8217-db97b1fbad39",
   "metadata": {},
   "outputs": [],
   "source": [
    "# samples are unique by ID & pool, but same IDs are on multiple pools\n",
    "# unique(metadata_table[!, [\"pool nexus\", \"Customer ID\"]])"
   ]
  },
  {
   "cell_type": "code",
   "execution_count": null,
   "id": "f7f5a703-336e-4e6b-ae82-6bc56ceb7349",
   "metadata": {},
   "outputs": [],
   "source": []
  },
  {
   "cell_type": "code",
   "execution_count": null,
   "id": "af2a9951-13fb-4e50-881e-a9997d1ad20a",
   "metadata": {},
   "outputs": [],
   "source": [
    "sample_metadata[\"Customer ID\"]"
   ]
  },
  {
   "cell_type": "code",
   "execution_count": null,
   "id": "26b7505a-4c97-404a-982b-75523508f677",
   "metadata": {},
   "outputs": [],
   "source": [
    "# conda create -n awscli -c conda-forge awscli\n",
    "# pip3 install awscli --upgrade --user"
   ]
  },
  {
   "cell_type": "code",
   "execution_count": null,
   "id": "b3a2fac3-9583-438a-b61c-a908f3cdcf94",
   "metadata": {},
   "outputs": [],
   "source": [
    "# for x in metadata_table[1:1, \"raw fastq\"]\n",
    "\n",
    "# end"
   ]
  },
  {
   "cell_type": "code",
   "execution_count": null,
   "id": "17f480e0-055e-4085-a010-a9c7418df737",
   "metadata": {},
   "outputs": [],
   "source": [
    "# raw fastq\n",
    "# non-human fastq\n",
    "# kraken report all data, incl humana\n"
   ]
  },
  {
   "cell_type": "code",
   "execution_count": null,
   "id": "eb6584bf-9764-40d8-b97e-ad71cf5a9d96",
   "metadata": {},
   "outputs": [],
   "source": []
  },
  {
   "cell_type": "code",
   "execution_count": null,
   "id": "a16c3f90-5e31-46fa-ae9b-535e84a952bc",
   "metadata": {
    "tags": []
   },
   "outputs": [],
   "source": [
    "srr_list = \"$(dirname(pwd()))/metadata/exposome/SraAccList.txt\"\n",
    "srr_identifiers = readlines(srr_list)"
   ]
  },
  {
   "cell_type": "code",
   "execution_count": null,
   "id": "2a02d4d5-b19f-4c29-9baf-a755a752d475",
   "metadata": {
    "tags": []
   },
   "outputs": [],
   "source": [
    "srr_identifiers_to_download = filter(srr_identifier -> !isdir(\"$(dirname(pwd()))/data/SRA/$(srr_identifier)\") || !(\"kraken\" in readdir(\"$(dirname(pwd()))/data/SRA/$(srr_identifier)\")), srr_identifiers)"
   ]
  },
  {
   "cell_type": "code",
   "execution_count": null,
   "id": "9767c539-d540-498f-8ff2-55b450287543",
   "metadata": {
    "tags": []
   },
   "outputs": [],
   "source": [
    "done = false\n",
    "while !done\n",
    "    ProgressMeter.@showprogress for srr_identifier in srr_identifiers_to_download\n",
    "        sample_outdir = \"$(dirname(pwd()))/data/SRA/$(srr_identifier)\"\n",
    "        download_and_filter_reads(outdir=sample_outdir, srr_identifier=srr_identifier)\n",
    "    end\n",
    "    done = true\n",
    "end\n",
    "@show done"
   ]
  }
 ],
 "metadata": {
  "kernelspec": {
   "display_name": "Julia 1.6.7",
   "language": "julia",
   "name": "julia-1.6"
  },
  "language_info": {
   "file_extension": ".jl",
   "mimetype": "application/julia",
   "name": "julia",
   "version": "1.6.7"
  }
 },
 "nbformat": 4,
 "nbformat_minor": 5
}
