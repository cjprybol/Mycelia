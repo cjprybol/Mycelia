{
 "cells": [
  {
   "cell_type": "code",
   "execution_count": null,
   "id": "ce59cd77-c0f0-4b90-8de8-3c5f071935ae",
   "metadata": {
    "tags": []
   },
   "outputs": [],
   "source": [
    "import Pkg\n",
    "Pkg.activate(\".\")\n",
    "\n",
    "# not for the faint of heart!\n",
    "# Pkg.update()\n",
    "\n",
    "pkgs = [\n",
    "\"ArgParse\",\n",
    "\"Base64\",\n",
    "\"BioSequences\",\n",
    "\"DataFrames\",\n",
    "\"Dates\",\n",
    "\"DelimitedFiles\",\n",
    "\"FASTX\",\n",
    "\"Statistics\",\n",
    "\"StatsPlots\",\n",
    "\"uCSV\",\n",
    "\"Revise\",\n",
    "\"StatsBase\"\n",
    "]\n",
    "Pkg.add(pkgs)\n",
    "for pkg in pkgs\n",
    "    eval(Meta.parse(\"import $pkg\"))\n",
    "end\n",
    "\n",
    "import Mycelia"
   ]
  },
  {
   "cell_type": "code",
   "execution_count": null,
   "id": "909f13b4-7e9d-429b-8b83-33c99af653c9",
   "metadata": {},
   "outputs": [],
   "source": [
    "data_dir = joinpath(dirname(pwd()), \"data\")"
   ]
  },
  {
   "cell_type": "code",
   "execution_count": null,
   "id": "1ed0cada-73ac-4c3c-8d8c-e50e1115e414",
   "metadata": {},
   "outputs": [],
   "source": [
    "SRR_paths = filter(x -> !occursin(\".ipynb_checkpoints\", x), readdir(joinpath(data_dir, \"SRA\"), join=true))\n",
    "SRR_paths = filter(x -> isfile(joinpath(x, \"megahit\", \"final.contigs.fastg.gfa.fna\")), SRR_paths)\n",
    "# filter out samples that have already been processed\n",
    "# SRR_paths = filter(x -> !isfile(joinpath(x, basename(x) * \".contig_info.tsv\")), SRR_paths)"
   ]
  },
  {
   "cell_type": "code",
   "execution_count": null,
   "id": "64305f91-470b-48b4-9a36-f61fe7a2c58d",
   "metadata": {},
   "outputs": [],
   "source": [
    "# mamba install -c conda-forge -c bioconda virsorter=2\n",
    "\n",
    "# mamba create -n vs2 -c conda-forge -c bioconda virsorter=2\n",
    "# mamba activate vs2"
   ]
  },
  {
   "cell_type": "code",
   "execution_count": null,
   "id": "0e3904dd-55e2-471e-a3ad-bb34e5881ae7",
   "metadata": {},
   "outputs": [],
   "source": [
    "virsorter_db_dir = mkpath(\"$(homedir())/workspace/virsorter2\")\n",
    "\n",
    "# got conda errors with this\n",
    "\n",
    "# (base) 2023-06-06T16:05:47 jovyan@76eefed4ebe2:~/workspace/Mycelia\n",
    "# $ virsorter setup -d /home/jovyan/workspace/virsorter2 -j 4\n",
    "# Traceback (most recent call last):\n",
    "#   File \"/opt/conda/bin/virsorter\", line 6, in <module>\n",
    "#     from virsorter.virsorter import cli\n",
    "#   File \"/opt/conda/lib/python3.9/site-packages/virsorter/virsorter.py\", line 11, in <module>\n",
    "#     from snakemake import load_configfile\n",
    "#   File \"/opt/conda/lib/python3.9/site-packages/snakemake/__init__.py\", line 21, in <module>\n",
    "#     from snakemake.workflow import Workflow\n",
    "#   File \"/opt/conda/lib/python3.9/site-packages/snakemake/workflow.py\", line 23, in <module>\n",
    "#     from snakemake.rules import Rule, Ruleorder, RuleProxy\n",
    "#   File \"/opt/conda/lib/python3.9/site-packages/snakemake/rules.py\", line 54, in <module>\n",
    "#     from snakemake.common import Mode, lazy_property, TBDInt\n",
    "# ImportError: cannot import name 'TBDInt' from 'snakemake.common' (/opt/conda/lib/python3.9/site-packages/snakemake/common/__init__.py)\n",
    "\n",
    "# run(`virsorter setup -d $(virsorter_db_dir) -j 4`)\n",
    "# run(`https://osf.io/v46sc/download`)\n",
    "\n",
    "db_tgz_path = joinpath(virsorter_db_dir, \"db.tgz\")\n",
    "if !isfile(db_tgz_path)\n",
    "    download(\"https://osf.io/v46sc/download\", joinpath(virsorter_db_dir, \"db.tgz\"))\n",
    "end\n",
    "db_dir = replace(db_tgz_path, \".tgz\" => \"\")\n",
    "if !isdir(db_dir)\n",
    "    run(`tar -xzf $(db_tgz_path) --directory=$(virsorter_db_dir)`)\n",
    "end"
   ]
  },
  {
   "cell_type": "code",
   "execution_count": null,
   "id": "728c1331-c9b4-44f3-ab89-308f309d39f4",
   "metadata": {},
   "outputs": [],
   "source": [
    "# mamba create -n vs2 -c conda-forge -c bioconda virsorter=2\n",
    "# $  mamba activate vs2\n",
    "# (vs2) 2023-06-06T16:26:44 jovyan@76eefed4ebe2:~\n",
    "# $ virsorter config --init-source --db-dir=/home/jovyan/workspace/virsorter2/db\n",
    "# [2023-06-06 16:27 INFO] VirSorter 2.2.4\n",
    "# [2023-06-06 16:27 INFO] /opt/conda/envs/vs2/bin/virsorter config --init-source --db-dir=/home/jovyan/workspace/virsorter2/db\n",
    "# [2023-06-06 16:27 INFO] saving /home/jovyan/workspace/virsorter2/db as DBDIR to config file /opt/conda/envs/vs2/lib/python3.10/site-packages/virsorter/template-config.yaml\n",
    "\n",
    "# # run(`virsorter config --init-source --db-dir=$(db_dir)`)"
   ]
  },
  {
   "cell_type": "code",
   "execution_count": null,
   "id": "a5a004bd-5cf1-4a4b-b065-923c98355c20",
   "metadata": {},
   "outputs": [],
   "source": [
    "Sys.CPU_THREADS"
   ]
  },
  {
   "cell_type": "code",
   "execution_count": null,
   "id": "4b90dafe-dfb3-47cb-9925-531486be6cc7",
   "metadata": {},
   "outputs": [],
   "source": []
  },
  {
   "cell_type": "code",
   "execution_count": null,
   "id": "3950e040-b8d9-46c6-a106-bf23e5e947ba",
   "metadata": {},
   "outputs": [],
   "source": [
    "# # fetch testing data\n",
    "# wget -O test.fa https://raw.githubusercontent.com/jiarong/VirSorter2/master/test/8seq.fa\n",
    "# # run classification with 4 threads (-j) and test-out as output diretory (-w)\n",
    "# virsorter run -w test.out -i test.fa --min-length 1500 -j 4 all\n",
    "# ls test.out"
   ]
  },
  {
   "cell_type": "code",
   "execution_count": null,
   "id": "3271d38e-b524-494d-9022-c09b21888acb",
   "metadata": {
    "tags": []
   },
   "outputs": [],
   "source": [
    "SRR_path = SRR_paths[1]\n",
    "# SRR_path = SRR_paths[2]"
   ]
  },
  {
   "cell_type": "code",
   "execution_count": null,
   "id": "63038363-f144-4de2-bce3-c8040e61714e",
   "metadata": {
    "tags": []
   },
   "outputs": [],
   "source": [
    "SRR = basename(SRR_path)"
   ]
  },
  {
   "cell_type": "code",
   "execution_count": null,
   "id": "f96b1e19-e747-4366-b344-aac6294605dc",
   "metadata": {},
   "outputs": [],
   "source": [
    "assembled_fasta = joinpath(SRR_path, \"megahit\", \"final.contigs.fastg.gfa.fna\")"
   ]
  },
  {
   "cell_type": "code",
   "execution_count": null,
   "id": "5b45a7aa-0b5c-4838-b962-41feeee6204f",
   "metadata": {},
   "outputs": [],
   "source": [
    "virsorter_dir = mkpath(joinpath(SRR_path, \"virsorter\"))"
   ]
  },
  {
   "cell_type": "code",
   "execution_count": null,
   "id": "c7cbdf58-fa45-4e34-96ff-a50eef9ce778",
   "metadata": {},
   "outputs": [],
   "source": [
    "# works in standalone conda environment but not general installation\n",
    "run(`virsorter run -w $(virsorter_dir) -i $(assembled_fasta) --min-length 1 -j $(Sys.CPU_THREADS) all`)"
   ]
  }
 ],
 "metadata": {
  "kernelspec": {
   "display_name": "Julia 1.6.3",
   "language": "julia",
   "name": "julia-1.6"
  },
  "language_info": {
   "file_extension": ".jl",
   "mimetype": "application/julia",
   "name": "julia",
   "version": "1.6.3"
  }
 },
 "nbformat": 4,
 "nbformat_minor": 5
}
