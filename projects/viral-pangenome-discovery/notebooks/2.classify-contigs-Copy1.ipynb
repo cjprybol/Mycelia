{
 "cells": [
  {
   "cell_type": "code",
   "execution_count": null,
   "id": "ce59cd77-c0f0-4b90-8de8-3c5f071935ae",
   "metadata": {
    "tags": []
   },
   "outputs": [],
   "source": [
    "import Pkg\n",
    "Pkg.activate(\".\")\n",
    "\n",
    "# not for the faint of heart!\n",
    "# Pkg.update()\n",
    "\n",
    "pkgs = [\n",
    "\"ArgParse\",\n",
    "\"Base64\",\n",
    "\"BioSequences\",\n",
    "\"DataFrames\",\n",
    "\"Dates\",\n",
    "\"DelimitedFiles\",\n",
    "\"FASTX\",\n",
    "\"GLM\",\n",
    "\"HTTP\",\n",
    "\"JSON\",\n",
    "\"Graphs\",\n",
    "\"MetaGraphs\",\n",
    "\"MD5\",\n",
    "\"Statistics\",\n",
    "\"StatsPlots\",\n",
    "\"uCSV\",\n",
    "\"CodecZlib\",\n",
    "\"YAML\",\n",
    "\"Revise\",\n",
    "\"Kmers\",\n",
    "\"StatsBase\"\n",
    "]\n",
    "Pkg.add(pkgs)\n",
    "for pkg in pkgs\n",
    "    eval(Meta.parse(\"import $pkg\"))\n",
    "end\n",
    "\n",
    "import Mycelia"
   ]
  },
  {
   "cell_type": "code",
   "execution_count": null,
   "id": "812f165a-a024-4c5f-b59a-cb4e894feb70",
   "metadata": {},
   "outputs": [],
   "source": [
    "# MMSeqs Easy taxonomy\n",
    "# amino acid\n",
    "# ~ 5 hour download time may not be tolerable?\n",
    "# processing\n",
    "# 7930.350543 seconds (710.71 k allocations: 40.309 MiB, 0.00% gc time, 0.00% compilation time)\n",
    "# 2 hours 12m\n",
    "# 1.5 hours for iterative search with varying sensitivity\n",
    "Mycelia.download_mmseqs_db(db=\"UniRef100\", conda_env=\"viral-pangenome-discovery\")\n",
    "# mmseqs databases --compressed 1 --remove-tmp-files 1 --force-reuse 1 UniRef100 $HOME/mmseqs/UniRef100 $HOME/mmseqs/tmp"
   ]
  },
  {
   "cell_type": "code",
   "execution_count": null,
   "id": "6e92373a-9477-4d55-8a80-75cc392470be",
   "metadata": {
    "tags": []
   },
   "outputs": [],
   "source": [
    "# cpan -f App::cpan minus\n",
    "# cpanm List::MoreUtils\n",
    "# mamba install perl-list-moreutils\n",
    "\n",
    "blastdb_dir = \"$(homedir())/blastdb\"\n",
    "blast_db = \"nt\"\n",
    "# if isdir(blastdb_dir) && !isempty(readdir(blastdb_dir))\n",
    "    # @info \"blast db detected, using existing\"\n",
    "Mycelia.download_blast_db(db=blast_db, outdir=blastdb_dir, source=\"ncbi\")\n",
    "    # Mycelia.download_blast_db(db=blast_db, outdir=blastdb_dir)\n",
    "# else\n",
    "    # we're probably on a cloud build\n",
    "    # Mycelia.download_blast_db(db=blast_db, outdir=blastdb_dir, source=\"gcp\")\n",
    "# end"
   ]
  },
  {
   "cell_type": "code",
   "execution_count": null,
   "id": "909f13b4-7e9d-429b-8b83-33c99af653c9",
   "metadata": {},
   "outputs": [],
   "source": [
    "data_dir = joinpath(dirname(pwd()), \"data\")"
   ]
  },
  {
   "cell_type": "code",
   "execution_count": null,
   "id": "1ed0cada-73ac-4c3c-8d8c-e50e1115e414",
   "metadata": {},
   "outputs": [],
   "source": [
    "SRR_paths = filter(x -> !occursin(\".ipynb_checkpoints\", x), readdir(joinpath(data_dir, \"SRA\"), join=true))"
   ]
  },
  {
   "cell_type": "code",
   "execution_count": null,
   "id": "3271d38e-b524-494d-9022-c09b21888acb",
   "metadata": {
    "tags": []
   },
   "outputs": [],
   "source": [
    "SRR_path = SRR_paths[1]\n",
    "# SRR_path = SRR_paths[2]\n",
    "# SRR_path = SRR_paths[3]"
   ]
  },
  {
   "cell_type": "code",
   "execution_count": null,
   "id": "63038363-f144-4de2-bce3-c8040e61714e",
   "metadata": {
    "tags": []
   },
   "outputs": [],
   "source": [
    "SRR = basename(SRR_path)"
   ]
  },
  {
   "cell_type": "code",
   "execution_count": null,
   "id": "c7cbdf58-fa45-4e34-96ff-a50eef9ce778",
   "metadata": {},
   "outputs": [],
   "source": [
    "\n",
    "Mycelia.run_mmseqs_easy_search(out_dir=OUT_DIR, query_fasta=amino_acid_fasta, target_database=\"$(homedir())/mmseqs/UniRef100\", outfile=config[\"annotation run identifier\"])\n",
    "# add taxonomic information to uniref classifications above!"
   ]
  },
  {
   "cell_type": "code",
   "execution_count": null,
   "id": "3660e35e-39eb-4013-920b-fc37043eb89a",
   "metadata": {
    "tags": []
   },
   "outputs": [],
   "source": [
    "out_dir = joinpath(SRR_path, \"blast\")"
   ]
  },
  {
   "cell_type": "code",
   "execution_count": null,
   "id": "be086702-974d-4147-8ddb-b30c0a77c5ec",
   "metadata": {},
   "outputs": [],
   "source": [
    "db_path = joinpath(blastdb_dir, blast_db)\n",
    "# blast contigs against NCBI\n",
    "ncbi_blast_outfile = \"$(assembled_fasta).blastn.$(blast_db).txt\"\n",
    "\n",
    "# >= 1-2 hours to run remotely\n",
    "# 1679.701928 seconds\n",
    "# 3497.275545\n",
    " # 28m 0.44s\n",
    "Mycelia.run_blast\n",
    "\n",
    "# join the blast results to generate the contig info file\n",
    "ncbi_blast_results = Mycelia.parse_blast_report(ncbi_blast_outfile)\n",
    "\n",
    "if !isfile(\"taxdump.tar.gz\")\n",
    "    run(`wget https://ftp.ncbi.nih.gov/pub/taxonomy/taxdump.tar.gz`)\n",
    "end\n",
    "if !isdir(\"taxdump\")\n",
    "    mkdir(\"taxdump\")\n",
    "    run(`tar -xvzf taxdump.tar.gz --directory taxdump`)\n",
    "end\n",
    "\n",
    "detected_tax_id_file = \"$(OUT_DIR)/$(config[\"assembly run identifier\"]).detected_tax_ids.txt\"\n",
    "open(detected_tax_id_file, \"w\") do io\n",
    "    for taxid in unique(filter(!ismissing, ncbi_blast_results[!, \"subject tax id\"]))\n",
    "        println(io, taxid)\n",
    "    end\n",
    "end\n",
    "\n",
    "taxid_to_lineage_map = Dict(parse(Int, split_line[1]) => split_line[2] for split_line in split.(readlines(`taxonkit lineage --data-dir taxdump $(detected_tax_id_file)`), '\\t'))\n",
    "\n",
    "ncbi_blast_results[!, \"lineage\"] = map(x -> get(taxid_to_lineage_map, x, \"\"), ncbi_blast_results[!, \"subject tax id\"])\n",
    "\n",
    "ncbi_blast_results[!, \"% of subject length\"] = round.(ncbi_blast_results[!, \"query length\"] ./ ncbi_blast_results[!, \"subject length\"] * 100, digits=3)\n",
    "contig_info_table = DataFrames.leftjoin(qualimap_contig_coverage_table, ncbi_blast_results, on=\"Contig\" => \"query id\")\n",
    "\n",
    "# # get top 10 hits for each contig\n",
    "# contig_info_table_top_hits = \n",
    "# DataFrames.combine(DataFrames.groupby(contig_info_table, \"Contig\")) do gdf\n",
    "#    first(sort(gdf, \"bit score\", rev=true), 10)\n",
    "# end\n",
    "\n",
    "# re-order columns based on utility\n",
    "reordered_columns = [\n",
    "    \"Contig\",\n",
    "    \"Length\",\n",
    "    \"Mapped bases\",\n",
    "    \"Mean coverage\",\n",
    "    \"Standard Deviation\",\n",
    "    \"% Mapped bases\",\n",
    "    \"subject id\",\n",
    "    \"subject acc.\",\n",
    "    \"subject title\",\n",
    "    \"subject tax id\",\n",
    "    \"lineage\",\n",
    "    \"% identity\",\n",
    "    \"% of subject length\",\n",
    "    \"evalue\",\n",
    "    \"bit score\",\n",
    "    \"query length\",\n",
    "    \"subject length\",\n",
    "    \"alignment length\",\n",
    "    \"q. start\",\n",
    "    \"q. end\",\n",
    "    \"s. start\",\n",
    "    \"s. end\",\n",
    "    \"identical\",\n",
    "    \"mismatches\"\n",
    "]\n",
    "contig_info_table_top_hits = contig_info_table_top_hits[!, reordered_columns]\n",
    "sort!(contig_info_table_top_hits, [\"% Mapped bases\", \"bit score\"], rev=true)\n",
    "\n",
    "contig_info_csv = \"$(OUT_DIR)/$(config[\"assembly run identifier\"]).config_info.csv\"\n",
    "contig_info_tsv = \"$(OUT_DIR)/$(config[\"assembly run identifier\"]).config_info.tsv\"\n",
    "uCSV.write(contig_info_csv, contig_info_table_top_hits, quotes='\"')\n",
    "uCSV.write(contig_info_tsv, contig_info_table_top_hits)\n",
    "results[\"contig info\"] = contig_info_csv"
   ]
  }
 ],
 "metadata": {
  "kernelspec": {
   "display_name": "Julia 1.6.3",
   "language": "julia",
   "name": "julia-1.6"
  },
  "language_info": {
   "file_extension": ".jl",
   "mimetype": "application/julia",
   "name": "julia",
   "version": "1.6.3"
  }
 },
 "nbformat": 4,
 "nbformat_minor": 5
}
