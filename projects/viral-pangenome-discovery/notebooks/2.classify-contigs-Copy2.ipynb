{
 "cells": [
  {
   "cell_type": "code",
   "execution_count": null,
   "id": "ce59cd77-c0f0-4b90-8de8-3c5f071935ae",
   "metadata": {
    "tags": []
   },
   "outputs": [],
   "source": [
    "import Pkg\n",
    "Pkg.activate(\".\")\n",
    "\n",
    "# not for the faint of heart!\n",
    "# Pkg.update()\n",
    "\n",
    "pkgs = [\n",
    "\"ArgParse\",\n",
    "\"Base64\",\n",
    "\"BioSequences\",\n",
    "\"DataFrames\",\n",
    "\"Dates\",\n",
    "\"DelimitedFiles\",\n",
    "\"FASTX\",\n",
    "\"GLM\",\n",
    "\"HTTP\",\n",
    "\"JSON\",\n",
    "\"Graphs\",\n",
    "\"MetaGraphs\",\n",
    "\"MD5\",\n",
    "\"Statistics\",\n",
    "\"StatsPlots\",\n",
    "\"uCSV\",\n",
    "\"CodecZlib\",\n",
    "\"YAML\",\n",
    "\"Revise\",\n",
    "\"Kmers\",\n",
    "\"StatsBase\"\n",
    "]\n",
    "Pkg.add(pkgs)\n",
    "for pkg in pkgs\n",
    "    eval(Meta.parse(\"import $pkg\"))\n",
    "end\n",
    "\n",
    "import Mycelia"
   ]
  },
  {
   "cell_type": "code",
   "execution_count": null,
   "id": "c7faa76f-58dc-4ac6-84db-9c4072f07f32",
   "metadata": {
    "tags": []
   },
   "outputs": [],
   "source": [
    "data_dir = joinpath(dirname(pwd()), \"data\")"
   ]
  },
  {
   "cell_type": "code",
   "execution_count": null,
   "id": "d8bfeb80-4608-412e-921c-afaf05cdb105",
   "metadata": {
    "tags": []
   },
   "outputs": [],
   "source": [
    "SRR_paths = filter(x -> !occursin(\".ipynb_checkpoints\", x), readdir(joinpath(data_dir, \"SRA\"), join=true))"
   ]
  },
  {
   "cell_type": "code",
   "execution_count": null,
   "id": "07ed1593-c232-487b-bfa3-585599c75333",
   "metadata": {
    "tags": []
   },
   "outputs": [],
   "source": [
    "SRR_path = SRR_paths[1]\n",
    "# SRR_path = SRR_paths[2]\n",
    "# SRR_path = SRR_paths[3]"
   ]
  },
  {
   "cell_type": "code",
   "execution_count": null,
   "id": "3bf251b4-98b7-4a60-a3a7-8d1f9626c76f",
   "metadata": {
    "tags": []
   },
   "outputs": [],
   "source": [
    "in_fasta = joinpath(SRR_path, \"megahit\", \"final.contigs.fastg.gfa.fna\")"
   ]
  },
  {
   "cell_type": "code",
   "execution_count": null,
   "id": "d60e0316-b0e4-4fdc-9c34-e084a1cb6185",
   "metadata": {
    "tags": []
   },
   "outputs": [],
   "source": [
    "SRR = basename(SRR_path)"
   ]
  },
  {
   "cell_type": "code",
   "execution_count": null,
   "id": "5edcc791-1e94-4a84-8b3c-dda458996192",
   "metadata": {
    "tags": []
   },
   "outputs": [],
   "source": [
    "# out_dir = joinpath(SRR_path, \"mmseqs2\")\n",
    "\n",
    "# # MMSeqs Easy taxonomy\n",
    "# # amino acid\n",
    "# # ~ 5 hour download time may not be tolerable?\n",
    "# # processing\n",
    "# # 7930.350543 seconds (710.71 k allocations: 40.309 MiB, 0.00% gc time, 0.00% compilation time)\n",
    "# # 2 hours 12m\n",
    "# # 1.5 hours for iterative search with varying sensitivity\n",
    "# # Mycelia.download_mmseqs_db(db=\"UniRef100\")\n",
    "# # mmseqs databases --compressed 1 --remove-tmp-files 1 --force-reuse 1 UniRef100 $HOME/mmseqs/UniRef100 $HOME/mmseqs/tmp\n",
    "\n",
    "# db = \"UniRef100\"\n",
    "# db_path = \"$(homedir())/mmseqs/$(db)\"\n",
    "\n",
    "# out_file = basename(in_fasta) * \"mmseqs.easy-taxonomy.$(db).txt\"\n",
    "# out_file = joinpath(out_dir, out_file)\n",
    "\n",
    "# cmd = \n",
    "# `mmseqs\n",
    "#     easy-taxonomy\n",
    "#     $(in_fasta)\n",
    "#     $(db_path)\n",
    "#     $(out_file)\n",
    "#     $(out_dir)/tmp\n",
    "# `\n",
    "\n",
    "# run(cmd)\n",
    "\n",
    "# Mycelia.run_mmseqs_easy_search(out_dir=OUT_DIR, query_fasta=amino_acid_fasta, target_database=\"$(homedir())/mmseqs/UniRef100\", outfile=config[\"annotation run identifier\"])\n",
    "# # add taxonomic information to uniref classifications above!"
   ]
  },
  {
   "cell_type": "code",
   "execution_count": null,
   "id": "6e92373a-9477-4d55-8a80-75cc392470be",
   "metadata": {
    "tags": []
   },
   "outputs": [],
   "source": [
    "# cpan -f App::cpan minus\n",
    "# cpanm List::MoreUtils\n",
    "# mamba install perl-list-moreutils\n",
    "\n",
    "blastdb_dir = \"$(homedir())/blastdb\"\n",
    "blast_db = \"nt\"\n",
    "# if isdir(blastdb_dir) && !isempty(readdir(blastdb_dir))\n",
    "    # @info \"blast db detected, using existing\"\n",
    "# Mycelia.download_blast_db(db=blast_db, outdir=blastdb_dir, source=\"ncbi\")\n",
    "    # Mycelia.download_blast_db(db=blast_db, outdir=blastdb_dir)\n",
    "# else\n",
    "    # we're probably on a cloud build\n",
    "    # Mycelia.download_blast_db(db=blast_db, outdir=blastdb_dir, source=\"gcp\")\n",
    "# end"
   ]
  },
  {
   "cell_type": "code",
   "execution_count": null,
   "id": "3660e35e-39eb-4013-920b-fc37043eb89a",
   "metadata": {
    "tags": []
   },
   "outputs": [],
   "source": [
    "out_dir = joinpath(SRR_path, \"blast\")"
   ]
  },
  {
   "cell_type": "code",
   "execution_count": null,
   "id": "be086702-974d-4147-8ddb-b30c0a77c5ec",
   "metadata": {
    "tags": []
   },
   "outputs": [],
   "source": [
    "db_path = joinpath(blastdb_dir, blast_db)\n",
    "blast_command = \"blastn\"\n",
    "# blast contigs against NCBI\n",
    "ncbi_blast_outfile = \"$(in_fasta).$(blast_command).$(blast_db).txt\""
   ]
  },
  {
   "cell_type": "code",
   "execution_count": null,
   "id": "9ad730cc-fb84-4eba-a3e1-c4540d1fbb32",
   "metadata": {
    "tags": []
   },
   "outputs": [],
   "source": [
    "# >= 1-2 hours to run remotely\n",
    "# 1679.701928 seconds\n",
    "# 3497.275545\n",
    " # 28m 0.44s\n",
    "# Last executed at 2023-02-19 11:50:45 in 1h 54m 20s\n",
    "Mycelia.run_blast(out_dir=out_dir, fasta=in_fasta, blast_db=db_path, blast_command=blast_command)"
   ]
  },
  {
   "cell_type": "code",
   "execution_count": null,
   "id": "1f16322d-1956-4f02-9c7b-8106ea456e29",
   "metadata": {},
   "outputs": [],
   "source": [
    "# # join the blast results to generate the contig info file\n",
    "# ncbi_blast_results = Mycelia.parse_blast_report(ncbi_blast_outfile)\n",
    "\n",
    "# if !isfile(\"taxdump.tar.gz\")\n",
    "#     run(`wget https://ftp.ncbi.nih.gov/pub/taxonomy/taxdump.tar.gz`)\n",
    "# end\n",
    "# if !isdir(\"taxdump\")\n",
    "#     mkdir(\"taxdump\")\n",
    "#     run(`tar -xvzf taxdump.tar.gz --directory taxdump`)\n",
    "# end\n",
    "\n",
    "# detected_tax_id_file = \"$(OUT_DIR)/$(config[\"assembly run identifier\"]).detected_tax_ids.txt\"\n",
    "# open(detected_tax_id_file, \"w\") do io\n",
    "#     for taxid in unique(filter(!ismissing, ncbi_blast_results[!, \"subject tax id\"]))\n",
    "#         println(io, taxid)\n",
    "#     end\n",
    "# end\n",
    "\n",
    "# taxid_to_lineage_map = Dict(parse(Int, split_line[1]) => split_line[2] for split_line in split.(readlines(`taxonkit lineage --data-dir taxdump $(detected_tax_id_file)`), '\\t'))\n",
    "\n",
    "# ncbi_blast_results[!, \"lineage\"] = map(x -> get(taxid_to_lineage_map, x, \"\"), ncbi_blast_results[!, \"subject tax id\"])\n",
    "\n",
    "# ncbi_blast_results[!, \"% of subject length\"] = round.(ncbi_blast_results[!, \"query length\"] ./ ncbi_blast_results[!, \"subject length\"] * 100, digits=3)\n",
    "# contig_info_table = DataFrames.leftjoin(qualimap_contig_coverage_table, ncbi_blast_results, on=\"Contig\" => \"query id\")\n",
    "\n",
    "# # # get top 10 hits for each contig\n",
    "# # contig_info_table_top_hits = \n",
    "# # DataFrames.combine(DataFrames.groupby(contig_info_table, \"Contig\")) do gdf\n",
    "# #    first(sort(gdf, \"bit score\", rev=true), 10)\n",
    "# # end\n",
    "\n",
    "# # re-order columns based on utility\n",
    "# reordered_columns = [\n",
    "#     \"Contig\",\n",
    "#     \"Length\",\n",
    "#     \"Mapped bases\",\n",
    "#     \"Mean coverage\",\n",
    "#     \"Standard Deviation\",\n",
    "#     \"% Mapped bases\",\n",
    "#     \"subject id\",\n",
    "#     \"subject acc.\",\n",
    "#     \"subject title\",\n",
    "#     \"subject tax id\",\n",
    "#     \"lineage\",\n",
    "#     \"% identity\",\n",
    "#     \"% of subject length\",\n",
    "#     \"evalue\",\n",
    "#     \"bit score\",\n",
    "#     \"query length\",\n",
    "#     \"subject length\",\n",
    "#     \"alignment length\",\n",
    "#     \"q. start\",\n",
    "#     \"q. end\",\n",
    "#     \"s. start\",\n",
    "#     \"s. end\",\n",
    "#     \"identical\",\n",
    "#     \"mismatches\"\n",
    "# ]\n",
    "# contig_info_table_top_hits = contig_info_table_top_hits[!, reordered_columns]\n",
    "# sort!(contig_info_table_top_hits, [\"% Mapped bases\", \"bit score\"], rev=true)\n",
    "\n",
    "# contig_info_csv = \"$(OUT_DIR)/$(config[\"assembly run identifier\"]).config_info.csv\"\n",
    "# contig_info_tsv = \"$(OUT_DIR)/$(config[\"assembly run identifier\"]).config_info.tsv\"\n",
    "# uCSV.write(contig_info_csv, contig_info_table_top_hits, quotes='\"')\n",
    "# uCSV.write(contig_info_tsv, contig_info_table_top_hits)\n",
    "# results[\"contig info\"] = contig_info_csv"
   ]
  }
 ],
 "metadata": {
  "kernelspec": {
   "display_name": "Julia 1.6.7",
   "language": "julia",
   "name": "julia-1.6"
  },
  "language_info": {
   "file_extension": ".jl",
   "mimetype": "application/julia",
   "name": "julia",
   "version": "1.6.7"
  }
 },
 "nbformat": 4,
 "nbformat_minor": 5
}
