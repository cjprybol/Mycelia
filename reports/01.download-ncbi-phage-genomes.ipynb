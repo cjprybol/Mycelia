{
 "cells": [
  {
   "cell_type": "markdown",
   "id": "cad50ec0",
   "metadata": {
    "papermill": {
     "duration": 0.00279,
     "end_time": "2022-06-30T20:17:20.586011",
     "exception": false,
     "start_time": "2022-06-30T20:17:20.583221",
     "status": "completed"
    },
    "tags": []
   },
   "source": [
    "## Objective\n",
    "\n",
    "download all genomes in NCBI refseq or genbank at or below a specified taxon_id"
   ]
  },
  {
   "cell_type": "markdown",
   "id": "8332db99",
   "metadata": {
    "papermill": {
     "duration": 0.001844,
     "end_time": "2022-06-30T20:17:20.590153",
     "exception": false,
     "start_time": "2022-06-30T20:17:20.588309",
     "status": "completed"
    },
    "tags": []
   },
   "source": [
    "## Materials, Methods, and Functions"
   ]
  },
  {
   "cell_type": "code",
   "execution_count": 19,
   "id": "f241c918",
   "metadata": {
    "execution": {
     "iopub.execute_input": "2022-06-30T20:17:21.201000Z",
     "iopub.status.busy": "2022-06-30T20:17:20.650000Z",
     "iopub.status.idle": "2022-06-30T20:17:33.389000Z",
     "shell.execute_reply": "2022-06-30T20:17:33.319000Z"
    },
    "papermill": {
     "duration": 12.799788,
     "end_time": "2022-06-30T20:17:33.391332",
     "exception": false,
     "start_time": "2022-06-30T20:17:20.591544",
     "status": "completed"
    },
    "tags": []
   },
   "outputs": [],
   "source": [
    "import Pkg\n",
    "# Pkg.instantiate()\n",
    "import Mycelia\n",
    "import ProgressMeter\n",
    "import DataFrames\n",
    "import Downloads"
   ]
  },
  {
   "cell_type": "code",
   "execution_count": 3,
   "id": "4cf69899",
   "metadata": {
    "execution": {
     "iopub.execute_input": "2022-06-30T20:17:45.822000Z",
     "iopub.status.busy": "2022-06-30T20:17:33.395000Z",
     "iopub.status.idle": "2022-06-30T20:17:46.797000Z",
     "shell.execute_reply": "2022-06-30T20:17:46.797000Z"
    },
    "papermill": {
     "duration": 13.405276,
     "end_time": "2022-06-30T20:17:46.798867",
     "exception": false,
     "start_time": "2022-06-30T20:17:33.393591",
     "status": "completed"
    },
    "tags": [
     "parameters"
    ]
   },
   "outputs": [
    {
     "data": {
      "text/plain": [
       "\"../../data/genomes\""
      ]
     },
     "execution_count": 3,
     "metadata": {},
     "output_type": "execute_result"
    }
   ],
   "source": [
    "# default parameters\n",
    "taxon_id = 10239\n",
    "data_dir = \"../../data/genomes\""
   ]
  },
  {
   "cell_type": "code",
   "execution_count": 25,
   "id": "91b134f0",
   "metadata": {
    "execution": {
     "iopub.execute_input": "2022-06-30T20:17:46.803000Z",
     "iopub.status.busy": "2022-06-30T20:17:46.803000Z",
     "iopub.status.idle": "2022-06-30T20:17:46.804000Z",
     "shell.execute_reply": "2022-06-30T20:17:46.804000Z"
    },
    "papermill": {
     "duration": 0.006169,
     "end_time": "2022-06-30T20:17:46.806974",
     "exception": false,
     "start_time": "2022-06-30T20:17:46.800805",
     "status": "completed"
    },
    "tags": [
     "injected-parameters"
    ]
   },
   "outputs": [
    {
     "data": {
      "text/plain": [
       "\"/workspaces/Mycelia/data/genomes\""
      ]
     },
     "execution_count": 25,
     "metadata": {},
     "output_type": "execute_result"
    }
   ],
   "source": [
    "# Parameters\n",
    "taxon_id = 10239\n",
    "data_dir = \"/workspaces/Mycelia/data/genomes\""
   ]
  },
  {
   "cell_type": "code",
   "execution_count": 27,
   "id": "bb3914a8",
   "metadata": {},
   "outputs": [],
   "source": [
    "done_file = \"$data_dir/done.txt\"\n",
    "if isfile(done_file)\n",
    "    rm(done_file)\n",
    "end"
   ]
  },
  {
   "cell_type": "code",
   "execution_count": null,
   "id": "0f429b74",
   "metadata": {},
   "outputs": [],
   "source": [
    "# # use taxonkit to get the list of all phylogenetic classifications\n",
    "# # at or below the parameterized taxon_id\n",
    "# taxonkit list --ids 10239 --indent \"\"\n",
    "# taxonkit list --ids $(taxon_id) --indent \"\""
   ]
  },
  {
   "cell_type": "code",
   "execution_count": 13,
   "id": "dfc2079e",
   "metadata": {},
   "outputs": [
    {
     "data": {
      "text/plain": [
       "Set{Int64} with 228892 elements:\n",
       "  656260\n",
       "  1742422\n",
       "  1427858\n",
       "  2783550\n",
       "  1599415\n",
       "  300190\n",
       "  2901373\n",
       "  468417\n",
       "  864692\n",
       "  1149619\n",
       "  2798297\n",
       "  2764961\n",
       "  2827923\n",
       "  1431632\n",
       "  1733762\n",
       "  1924399\n",
       "  1613832\n",
       "  2558856\n",
       "  2822896\n",
       "  1686811\n",
       "  438298\n",
       "  438823\n",
       "  1347503\n",
       "  751008\n",
       "  1205489\n",
       "  ⋮ "
      ]
     },
     "execution_count": 13,
     "metadata": {},
     "output_type": "execute_result"
    }
   ],
   "source": [
    "selected_taxids = Set([parse(Int, line) for line in eachline(open(`taxonkit list --ids $(taxon_id) --indent \"\"`)) if !isempty(line)])"
   ]
  },
  {
   "cell_type": "code",
   "execution_count": 12,
   "id": "afaf2eef",
   "metadata": {},
   "outputs": [
    {
     "data": {
      "text/html": [
       "<div class=\"data-frame\"><p>265,413 rows × 23 columns (omitted printing of 18 columns)</p><table class=\"data-frame\"><thead><tr><th></th><th># assembly_accession</th><th>bioproject</th><th>biosample</th><th>wgs_master</th><th>refseq_category</th></tr><tr><th></th><th title=\"String\">String</th><th title=\"String\">String</th><th title=\"String\">String</th><th title=\"String\">String</th><th title=\"String\">String</th></tr></thead><tbody><tr><th>1</th><td>GCF_000001215.4</td><td>PRJNA164</td><td>SAMN02803731</td><td></td><td>reference genome</td></tr><tr><th>2</th><td>GCF_000001405.40</td><td>PRJNA168</td><td></td><td></td><td>reference genome</td></tr><tr><th>3</th><td>GCF_000001635.27</td><td>PRJNA169</td><td></td><td></td><td>reference genome</td></tr><tr><th>4</th><td>GCF_000001735.4</td><td>PRJNA116</td><td>SAMN03081427</td><td></td><td>reference genome</td></tr><tr><th>5</th><td>GCF_000001905.1</td><td>PRJNA70973</td><td>SAMN02953622</td><td>AAGU00000000.3</td><td>representative genome</td></tr><tr><th>6</th><td>GCF_000001985.1</td><td>PRJNA32665</td><td>SAMN02953685</td><td>ABAR00000000.1</td><td>representative genome</td></tr><tr><th>7</th><td>GCF_000002035.6</td><td>PRJNA13922</td><td>SAMN06930106</td><td></td><td>reference genome</td></tr><tr><th>8</th><td>GCF_000002075.1</td><td>PRJNA209509</td><td>SAMN02953658</td><td>AASC00000000.3</td><td>representative genome</td></tr><tr><th>9</th><td>GCF_000002235.5</td><td>PRJNA13728</td><td>SAMN00829422</td><td>AAGJ00000000.6</td><td>representative genome</td></tr><tr><th>10</th><td>GCF_000002285.5</td><td>PRJNA12384</td><td>SAMN02953603</td><td>AAEX00000000.4</td><td>na</td></tr><tr><th>11</th><td>GCF_000002295.2</td><td>PRJNA15683</td><td>SAMN02953611</td><td>AAFR00000000.3</td><td>representative genome</td></tr><tr><th>12</th><td>GCF_000002335.3</td><td>PRJNA15718</td><td>SAMN02953634</td><td>AAJJ00000000.2</td><td>representative genome</td></tr><tr><th>13</th><td>GCF_000002415.2</td><td>PRJNA20431</td><td>SAMN02953638</td><td>AAKM00000000.1</td><td>representative genome</td></tr><tr><th>14</th><td>GCF_000002425.4</td><td>PRJNA28131</td><td>SAMN00120126</td><td>ABEU00000000.2</td><td>representative genome</td></tr><tr><th>15</th><td>GCF_000002435.2</td><td>PRJNA15590</td><td>SAMN02952905</td><td>AACB00000000.3</td><td>representative genome</td></tr><tr><th>16</th><td>GCF_000002445.2</td><td>PRJNA15565</td><td>SAMN02953625</td><td></td><td>representative genome</td></tr><tr><th>17</th><td>GCF_000002455.1</td><td>PRJNA27939</td><td></td><td></td><td>na</td></tr><tr><th>18</th><td>GCF_000002495.2</td><td>PRJNA1433</td><td>SAMN02953596</td><td>AACU00000000.3</td><td>representative genome</td></tr><tr><th>19</th><td>GCF_000002515.2</td><td>PRJNA12377</td><td>SAMEA3138170</td><td></td><td>representative genome</td></tr><tr><th>20</th><td>GCF_000002525.2</td><td>PRJNA12414</td><td>SAMEA3138171</td><td></td><td>representative genome</td></tr><tr><th>21</th><td>GCF_000002545.3</td><td>PRJNA12376</td><td>SAMEA3138172</td><td></td><td>representative genome</td></tr><tr><th>22</th><td>GCF_000002595.2</td><td>PRJNA21061</td><td>SAMN02953692</td><td>ABCN00000000.2</td><td>representative genome</td></tr><tr><th>23</th><td>GCF_000002655.1</td><td>PRJNA14003</td><td>SAMN00115746</td><td>AAHF00000000.1</td><td>representative genome</td></tr><tr><th>24</th><td>GCF_000002715.2</td><td>PRJNA18467</td><td>SAMN02953636</td><td>AAKD00000000.3</td><td>representative genome</td></tr><tr><th>25</th><td>GCF_000002725.2</td><td>PRJNA15564</td><td>SAMEA3138173</td><td></td><td>representative genome</td></tr><tr><th>26</th><td>GCF_000002775.4</td><td>PRJNA17973</td><td>SAMN02953657</td><td>AARH00000000.3</td><td>representative genome</td></tr><tr><th>27</th><td>GCF_000002825.2</td><td>PRJNA18631</td><td>SAMN02953626</td><td>AAHC00000000.1</td><td>representative genome</td></tr><tr><th>28</th><td>GCF_000002845.2</td><td>PRJNA19185</td><td>SAMEA2272271</td><td>CADA00000000.1</td><td>representative genome</td></tr><tr><th>29</th><td>GCF_000002855.3</td><td>PRJNA19263</td><td>SAMEA3283178</td><td></td><td>representative genome</td></tr><tr><th>30</th><td>GCF_000002865.3</td><td>PRJNA28133</td><td>SAMN02953695</td><td>ABFJ00000000.1</td><td>representative genome</td></tr><tr><th>&vellip;</th><td>&vellip;</td><td>&vellip;</td><td>&vellip;</td><td>&vellip;</td><td>&vellip;</td></tr></tbody></table></div>"
      ],
      "text/latex": [
       "\\begin{tabular}{r|cccccc}\n",
       "\t& \\# assembly\\_accession & bioproject & biosample & wgs\\_master & refseq\\_category & \\\\\n",
       "\t\\hline\n",
       "\t& String & String & String & String & String & \\\\\n",
       "\t\\hline\n",
       "\t1 & GCF\\_000001215.4 & PRJNA164 & SAMN02803731 &  & reference genome & $\\dots$ \\\\\n",
       "\t2 & GCF\\_000001405.40 & PRJNA168 &  &  & reference genome & $\\dots$ \\\\\n",
       "\t3 & GCF\\_000001635.27 & PRJNA169 &  &  & reference genome & $\\dots$ \\\\\n",
       "\t4 & GCF\\_000001735.4 & PRJNA116 & SAMN03081427 &  & reference genome & $\\dots$ \\\\\n",
       "\t5 & GCF\\_000001905.1 & PRJNA70973 & SAMN02953622 & AAGU00000000.3 & representative genome & $\\dots$ \\\\\n",
       "\t6 & GCF\\_000001985.1 & PRJNA32665 & SAMN02953685 & ABAR00000000.1 & representative genome & $\\dots$ \\\\\n",
       "\t7 & GCF\\_000002035.6 & PRJNA13922 & SAMN06930106 &  & reference genome & $\\dots$ \\\\\n",
       "\t8 & GCF\\_000002075.1 & PRJNA209509 & SAMN02953658 & AASC00000000.3 & representative genome & $\\dots$ \\\\\n",
       "\t9 & GCF\\_000002235.5 & PRJNA13728 & SAMN00829422 & AAGJ00000000.6 & representative genome & $\\dots$ \\\\\n",
       "\t10 & GCF\\_000002285.5 & PRJNA12384 & SAMN02953603 & AAEX00000000.4 & na & $\\dots$ \\\\\n",
       "\t11 & GCF\\_000002295.2 & PRJNA15683 & SAMN02953611 & AAFR00000000.3 & representative genome & $\\dots$ \\\\\n",
       "\t12 & GCF\\_000002335.3 & PRJNA15718 & SAMN02953634 & AAJJ00000000.2 & representative genome & $\\dots$ \\\\\n",
       "\t13 & GCF\\_000002415.2 & PRJNA20431 & SAMN02953638 & AAKM00000000.1 & representative genome & $\\dots$ \\\\\n",
       "\t14 & GCF\\_000002425.4 & PRJNA28131 & SAMN00120126 & ABEU00000000.2 & representative genome & $\\dots$ \\\\\n",
       "\t15 & GCF\\_000002435.2 & PRJNA15590 & SAMN02952905 & AACB00000000.3 & representative genome & $\\dots$ \\\\\n",
       "\t16 & GCF\\_000002445.2 & PRJNA15565 & SAMN02953625 &  & representative genome & $\\dots$ \\\\\n",
       "\t17 & GCF\\_000002455.1 & PRJNA27939 &  &  & na & $\\dots$ \\\\\n",
       "\t18 & GCF\\_000002495.2 & PRJNA1433 & SAMN02953596 & AACU00000000.3 & representative genome & $\\dots$ \\\\\n",
       "\t19 & GCF\\_000002515.2 & PRJNA12377 & SAMEA3138170 &  & representative genome & $\\dots$ \\\\\n",
       "\t20 & GCF\\_000002525.2 & PRJNA12414 & SAMEA3138171 &  & representative genome & $\\dots$ \\\\\n",
       "\t21 & GCF\\_000002545.3 & PRJNA12376 & SAMEA3138172 &  & representative genome & $\\dots$ \\\\\n",
       "\t22 & GCF\\_000002595.2 & PRJNA21061 & SAMN02953692 & ABCN00000000.2 & representative genome & $\\dots$ \\\\\n",
       "\t23 & GCF\\_000002655.1 & PRJNA14003 & SAMN00115746 & AAHF00000000.1 & representative genome & $\\dots$ \\\\\n",
       "\t24 & GCF\\_000002715.2 & PRJNA18467 & SAMN02953636 & AAKD00000000.3 & representative genome & $\\dots$ \\\\\n",
       "\t25 & GCF\\_000002725.2 & PRJNA15564 & SAMEA3138173 &  & representative genome & $\\dots$ \\\\\n",
       "\t26 & GCF\\_000002775.4 & PRJNA17973 & SAMN02953657 & AARH00000000.3 & representative genome & $\\dots$ \\\\\n",
       "\t27 & GCF\\_000002825.2 & PRJNA18631 & SAMN02953626 & AAHC00000000.1 & representative genome & $\\dots$ \\\\\n",
       "\t28 & GCF\\_000002845.2 & PRJNA19185 & SAMEA2272271 & CADA00000000.1 & representative genome & $\\dots$ \\\\\n",
       "\t29 & GCF\\_000002855.3 & PRJNA19263 & SAMEA3283178 &  & representative genome & $\\dots$ \\\\\n",
       "\t30 & GCF\\_000002865.3 & PRJNA28133 & SAMN02953695 & ABFJ00000000.1 & representative genome & $\\dots$ \\\\\n",
       "\t$\\dots$ & $\\dots$ & $\\dots$ & $\\dots$ & $\\dots$ & $\\dots$ &  \\\\\n",
       "\\end{tabular}\n"
      ],
      "text/plain": [
       "\u001b[1m265413×23 DataFrame\u001b[0m\n",
       "\u001b[1m    Row \u001b[0m│\u001b[1m # assembly_accession \u001b[0m\u001b[1m bioproject  \u001b[0m\u001b[1m biosample      \u001b[0m\u001b[1m wgs_master       \u001b[0m ⋯\n",
       "\u001b[1m        \u001b[0m│\u001b[90m String               \u001b[0m\u001b[90m String      \u001b[0m\u001b[90m String         \u001b[0m\u001b[90m String           \u001b[0m ⋯\n",
       "────────┼───────────────────────────────────────────────────────────────────────\n",
       "      1 │ GCF_000001215.4       PRJNA164     SAMN02803731                      ⋯\n",
       "      2 │ GCF_000001405.40      PRJNA168\n",
       "      3 │ GCF_000001635.27      PRJNA169\n",
       "      4 │ GCF_000001735.4       PRJNA116     SAMN03081427\n",
       "      5 │ GCF_000001905.1       PRJNA70973   SAMN02953622    AAGU00000000.3    ⋯\n",
       "      6 │ GCF_000001985.1       PRJNA32665   SAMN02953685    ABAR00000000.1\n",
       "      7 │ GCF_000002035.6       PRJNA13922   SAMN06930106\n",
       "      8 │ GCF_000002075.1       PRJNA209509  SAMN02953658    AASC00000000.3\n",
       "      9 │ GCF_000002235.5       PRJNA13728   SAMN00829422    AAGJ00000000.6    ⋯\n",
       "     10 │ GCF_000002285.5       PRJNA12384   SAMN02953603    AAEX00000000.4\n",
       "     11 │ GCF_000002295.2       PRJNA15683   SAMN02953611    AAFR00000000.3\n",
       "   ⋮    │          ⋮                 ⋮             ⋮                 ⋮         ⋱\n",
       " 265404 │ GCF_943908195.1       PRJNA224116  SAMEA110068408  CALTSH000000000.1\n",
       " 265405 │ GCF_943908205.1       PRJNA224116  SAMEA110068392  CALTSA000000000.1 ⋯\n",
       " 265406 │ GCF_943908215.1       PRJNA224116  SAMEA110068417  CALTSO000000000.1\n",
       " 265407 │ GCF_943908225.1       PRJNA224116  SAMEA110068402  CALTSL000000000.1\n",
       " 265408 │ GCF_943908245.1       PRJNA224116  SAMEA110068431  CALTSM000000000.1\n",
       " 265409 │ GCF_943908255.1       PRJNA224116  SAMEA110068412  CALTSK000000000.1 ⋯\n",
       " 265410 │ GCF_943908265.1       PRJNA224116  SAMEA110068414  CALTSN000000000.1\n",
       " 265411 │ GCF_943908275.1       PRJNA224116  SAMEA110068406  CALTSQ000000000.1\n",
       " 265412 │ GCF_943908285.1       PRJNA224116  SAMEA110068400  CALTSP000000000.1\n",
       " 265413 │ GCF_943908305.1       PRJNA224116  SAMEA110068429  CALTSU000000000.1 ⋯\n",
       "\u001b[36m                                              19 columns and 265392 rows omitted\u001b[0m"
      ]
     },
     "execution_count": 12,
     "metadata": {},
     "output_type": "execute_result"
    }
   ],
   "source": [
    "# use mycelia function to get the list of reference genomes\n",
    "# todo make this a dynamic \"load_ncbi_metadata\" function\n",
    "ncbi_metadata = Mycelia.load_refseq_metadata()"
   ]
  },
  {
   "cell_type": "code",
   "execution_count": 14,
   "id": "3d8059e6",
   "metadata": {},
   "outputs": [
    {
     "data": {
      "text/html": [
       "<div class=\"data-frame\"><p>11,699 rows × 23 columns (omitted printing of 17 columns)</p><table class=\"data-frame\"><thead><tr><th></th><th># assembly_accession</th><th>bioproject</th><th>biosample</th><th>wgs_master</th><th>refseq_category</th><th>taxid</th></tr><tr><th></th><th title=\"String\">String</th><th title=\"String\">String</th><th title=\"String\">String</th><th title=\"String\">String</th><th title=\"String\">String</th><th title=\"Int64\">Int64</th></tr></thead><tbody><tr><th>1</th><td>GCF_000819615.1</td><td>PRJNA485481</td><td></td><td></td><td>na</td><td>2886930</td></tr><tr><th>2</th><td>GCF_000820355.1</td><td>PRJNA485481</td><td></td><td></td><td>na</td><td>191289</td></tr><tr><th>3</th><td>GCF_000820495.2</td><td>PRJNA485481</td><td></td><td></td><td>na</td><td>518987</td></tr><tr><th>4</th><td>GCF_000836805.1</td><td>PRJNA485481</td><td></td><td></td><td>reference genome</td><td>90963</td></tr><tr><th>5</th><td>GCF_000836825.1</td><td>PRJNA485481</td><td></td><td></td><td>na</td><td>1891754</td></tr><tr><th>6</th><td>GCF_000836845.1</td><td>PRJNA485481</td><td></td><td></td><td>na</td><td>196399</td></tr><tr><th>7</th><td>GCF_000836865.1</td><td>PRJNA485481</td><td></td><td></td><td>na</td><td>10570</td></tr><tr><th>8</th><td>GCF_000836885.1</td><td>PRJNA485481</td><td></td><td></td><td>na</td><td>57579</td></tr><tr><th>9</th><td>GCF_000836905.1</td><td>PRJNA485481</td><td></td><td></td><td>na</td><td>2905681</td></tr><tr><th>10</th><td>GCF_000836925.1</td><td>PRJNA485481</td><td></td><td></td><td>na</td><td>10868</td></tr><tr><th>11</th><td>GCF_000836945.1</td><td>PRJNA485481</td><td></td><td></td><td>reference genome</td><td>2681598</td></tr><tr><th>12</th><td>GCF_000836965.1</td><td>PRJNA485481</td><td></td><td></td><td>na</td><td>2681618</td></tr><tr><th>13</th><td>GCF_000836985.1</td><td>PRJNA485481</td><td></td><td></td><td>na</td><td>78541</td></tr><tr><th>14</th><td>GCF_000837005.1</td><td>PRJNA485481</td><td></td><td></td><td>na</td><td>687377</td></tr><tr><th>15</th><td>GCF_000837025.1</td><td>PRJNA485481</td><td></td><td></td><td>na</td><td>10658</td></tr><tr><th>16</th><td>GCF_000837045.1</td><td>PRJNA485481</td><td></td><td></td><td>na</td><td>1458187</td></tr><tr><th>17</th><td>GCF_000837065.1</td><td>PRJNA485481</td><td></td><td></td><td>na</td><td>1891770</td></tr><tr><th>18</th><td>GCF_000837085.1</td><td>PRJNA485481</td><td></td><td></td><td>na</td><td>10623</td></tr><tr><th>19</th><td>GCF_000837105.1</td><td>PRJNA485481</td><td></td><td></td><td>na</td><td>10835</td></tr><tr><th>20</th><td>GCF_000837125.1</td><td>PRJNA485481</td><td></td><td></td><td>na</td><td>262177</td></tr><tr><th>21</th><td>GCF_000837145.1</td><td>PRJNA485481</td><td></td><td></td><td>na</td><td>271108</td></tr><tr><th>22</th><td>GCF_000837165.1</td><td>PRJNA485481</td><td></td><td></td><td>na</td><td>127507</td></tr><tr><th>23</th><td>GCF_000837185.1</td><td>PRJNA485481</td><td></td><td></td><td>na</td><td>28321</td></tr><tr><th>24</th><td>GCF_000837205.1</td><td>PRJNA485481</td><td></td><td></td><td>na</td><td>134599</td></tr><tr><th>25</th><td>GCF_000837225.1</td><td>PRJNA485481</td><td></td><td></td><td>na</td><td>2681603</td></tr><tr><th>26</th><td>GCF_000837245.1</td><td>PRJNA485481</td><td></td><td></td><td>na</td><td>2902907</td></tr><tr><th>27</th><td>GCF_000837265.1</td><td>PRJNA485481</td><td></td><td></td><td>na</td><td>151539</td></tr><tr><th>28</th><td>GCF_000837285.6</td><td>PRJNA485481</td><td></td><td></td><td>na</td><td>148880</td></tr><tr><th>29</th><td>GCF_000837305.1</td><td>PRJNA485481</td><td></td><td></td><td>na</td><td>134681</td></tr><tr><th>30</th><td>GCF_000837325.1</td><td>PRJNA485481</td><td></td><td></td><td>na</td><td>146032</td></tr><tr><th>&vellip;</th><td>&vellip;</td><td>&vellip;</td><td>&vellip;</td><td>&vellip;</td><td>&vellip;</td><td>&vellip;</td></tr></tbody></table></div>"
      ],
      "text/latex": [
       "\\begin{tabular}{r|ccccccc}\n",
       "\t& \\# assembly\\_accession & bioproject & biosample & wgs\\_master & refseq\\_category & taxid & \\\\\n",
       "\t\\hline\n",
       "\t& String & String & String & String & String & Int64 & \\\\\n",
       "\t\\hline\n",
       "\t1 & GCF\\_000819615.1 & PRJNA485481 &  &  & na & 2886930 & $\\dots$ \\\\\n",
       "\t2 & GCF\\_000820355.1 & PRJNA485481 &  &  & na & 191289 & $\\dots$ \\\\\n",
       "\t3 & GCF\\_000820495.2 & PRJNA485481 &  &  & na & 518987 & $\\dots$ \\\\\n",
       "\t4 & GCF\\_000836805.1 & PRJNA485481 &  &  & reference genome & 90963 & $\\dots$ \\\\\n",
       "\t5 & GCF\\_000836825.1 & PRJNA485481 &  &  & na & 1891754 & $\\dots$ \\\\\n",
       "\t6 & GCF\\_000836845.1 & PRJNA485481 &  &  & na & 196399 & $\\dots$ \\\\\n",
       "\t7 & GCF\\_000836865.1 & PRJNA485481 &  &  & na & 10570 & $\\dots$ \\\\\n",
       "\t8 & GCF\\_000836885.1 & PRJNA485481 &  &  & na & 57579 & $\\dots$ \\\\\n",
       "\t9 & GCF\\_000836905.1 & PRJNA485481 &  &  & na & 2905681 & $\\dots$ \\\\\n",
       "\t10 & GCF\\_000836925.1 & PRJNA485481 &  &  & na & 10868 & $\\dots$ \\\\\n",
       "\t11 & GCF\\_000836945.1 & PRJNA485481 &  &  & reference genome & 2681598 & $\\dots$ \\\\\n",
       "\t12 & GCF\\_000836965.1 & PRJNA485481 &  &  & na & 2681618 & $\\dots$ \\\\\n",
       "\t13 & GCF\\_000836985.1 & PRJNA485481 &  &  & na & 78541 & $\\dots$ \\\\\n",
       "\t14 & GCF\\_000837005.1 & PRJNA485481 &  &  & na & 687377 & $\\dots$ \\\\\n",
       "\t15 & GCF\\_000837025.1 & PRJNA485481 &  &  & na & 10658 & $\\dots$ \\\\\n",
       "\t16 & GCF\\_000837045.1 & PRJNA485481 &  &  & na & 1458187 & $\\dots$ \\\\\n",
       "\t17 & GCF\\_000837065.1 & PRJNA485481 &  &  & na & 1891770 & $\\dots$ \\\\\n",
       "\t18 & GCF\\_000837085.1 & PRJNA485481 &  &  & na & 10623 & $\\dots$ \\\\\n",
       "\t19 & GCF\\_000837105.1 & PRJNA485481 &  &  & na & 10835 & $\\dots$ \\\\\n",
       "\t20 & GCF\\_000837125.1 & PRJNA485481 &  &  & na & 262177 & $\\dots$ \\\\\n",
       "\t21 & GCF\\_000837145.1 & PRJNA485481 &  &  & na & 271108 & $\\dots$ \\\\\n",
       "\t22 & GCF\\_000837165.1 & PRJNA485481 &  &  & na & 127507 & $\\dots$ \\\\\n",
       "\t23 & GCF\\_000837185.1 & PRJNA485481 &  &  & na & 28321 & $\\dots$ \\\\\n",
       "\t24 & GCF\\_000837205.1 & PRJNA485481 &  &  & na & 134599 & $\\dots$ \\\\\n",
       "\t25 & GCF\\_000837225.1 & PRJNA485481 &  &  & na & 2681603 & $\\dots$ \\\\\n",
       "\t26 & GCF\\_000837245.1 & PRJNA485481 &  &  & na & 2902907 & $\\dots$ \\\\\n",
       "\t27 & GCF\\_000837265.1 & PRJNA485481 &  &  & na & 151539 & $\\dots$ \\\\\n",
       "\t28 & GCF\\_000837285.6 & PRJNA485481 &  &  & na & 148880 & $\\dots$ \\\\\n",
       "\t29 & GCF\\_000837305.1 & PRJNA485481 &  &  & na & 134681 & $\\dots$ \\\\\n",
       "\t30 & GCF\\_000837325.1 & PRJNA485481 &  &  & na & 146032 & $\\dots$ \\\\\n",
       "\t$\\dots$ & $\\dots$ & $\\dots$ & $\\dots$ & $\\dots$ & $\\dots$ & $\\dots$ &  \\\\\n",
       "\\end{tabular}\n"
      ],
      "text/plain": [
       "\u001b[1m11699×23 DataFrame\u001b[0m\n",
       "\u001b[1m   Row \u001b[0m│\u001b[1m # assembly_accession \u001b[0m\u001b[1m bioproject  \u001b[0m\u001b[1m biosample      \u001b[0m\u001b[1m wgs_master \u001b[0m\u001b[1m refseq\u001b[0m ⋯\n",
       "\u001b[1m       \u001b[0m│\u001b[90m String               \u001b[0m\u001b[90m String      \u001b[0m\u001b[90m String         \u001b[0m\u001b[90m String     \u001b[0m\u001b[90m String\u001b[0m ⋯\n",
       "───────┼────────────────────────────────────────────────────────────────────────\n",
       "     1 │ GCF_000819615.1       PRJNA485481                              na     ⋯\n",
       "     2 │ GCF_000820355.1       PRJNA485481                              na\n",
       "     3 │ GCF_000820495.2       PRJNA485481                              na\n",
       "     4 │ GCF_000836805.1       PRJNA485481                              refere\n",
       "     5 │ GCF_000836825.1       PRJNA485481                              na     ⋯\n",
       "     6 │ GCF_000836845.1       PRJNA485481                              na\n",
       "     7 │ GCF_000836865.1       PRJNA485481                              na\n",
       "     8 │ GCF_000836885.1       PRJNA485481                              na\n",
       "     9 │ GCF_000836905.1       PRJNA485481                              na     ⋯\n",
       "    10 │ GCF_000836925.1       PRJNA485481                              na\n",
       "    11 │ GCF_000836945.1       PRJNA485481                              refere\n",
       "   ⋮   │          ⋮                 ⋮             ⋮             ⋮              ⋱\n",
       " 11690 │ GCF_900095325.1       PRJNA485481  SAMEA4062937                na\n",
       " 11691 │ GCF_900095755.1       PRJNA485481  SAMEA4393801                na     ⋯\n",
       " 11692 │ GCF_900096485.1       PRJNA485481  SAMEA4413212                na\n",
       " 11693 │ GCF_900098775.1       PRJNA485481                              na\n",
       " 11694 │ GCF_900149655.1       PRJNA485481  SAMEA28616668               na\n",
       " 11695 │ GCF_900156925.1       PRJNA485481  SAMEA49437418               na     ⋯\n",
       " 11696 │ GCF_900178515.1       PRJNA485481  SAMEA103983619              na\n",
       " 11697 │ GCF_900327825.1       PRJNA485481  SAMEA1061860                na\n",
       " 11698 │ GCF_900604365.1       PRJNA485481  SAMEA3317914                na\n",
       " 11699 │ GCF_902994725.1       PRJNA485481  SAMEA6790544                na     ⋯\n",
       "\u001b[36m                                               19 columns and 11678 rows omitted\u001b[0m"
      ]
     },
     "execution_count": 14,
     "metadata": {},
     "output_type": "execute_result"
    }
   ],
   "source": [
    "taxid_match = map(taxid -> taxid in selected_taxids, ncbi_metadata[!, \"taxid\"])\n",
    "species_taxid_match = map(taxid -> taxid in selected_taxids, ncbi_metadata[!, \"species_taxid\"])\n",
    "joint_match = taxid_match .| species_taxid_match\n",
    "filtered_ncbi_metadata = ncbi_metadata[joint_match, :]"
   ]
  },
  {
   "cell_type": "code",
   "execution_count": 28,
   "id": "24d8c6b3",
   "metadata": {},
   "outputs": [
    {
     "name": "stderr",
     "output_type": "stream",
     "text": [
      "\u001b[32mProgress: 100%|█████████████████████████████████████████| Time: 0:22:53\u001b[39mm\n"
     ]
    }
   ],
   "source": [
    "# download them all\n",
    "# for extension in [\"genomic.fna.gz\", \"protein.faa.gz\", \"genomic.gbff.gz\"]\n",
    "extension = \"genomic.fna.gz\"\n",
    "# outdir = mkpath(joinpath(DIR, extension))\n",
    "ProgressMeter.@showprogress for row in DataFrames.eachrow(filtered_ncbi_metadata)\n",
    "    url = Mycelia.ncbi_ftp_path_to_url(row[\"ftp_path\"], extension)\n",
    "    outfile = joinpath(data_dir, basename(url))\n",
    "    if !isfile(outfile)\n",
    "        try\n",
    "            Downloads.download(url, outfile)\n",
    "        catch e\n",
    "            # @show e\n",
    "            showerror(stdout, e)\n",
    "            # @assert extension == \"protein.faa.gz\"\n",
    "            # here is where we should call prodigal to fill in protein annotations if we don't otherwise see them\n",
    "        end\n",
    "    end\n",
    "end"
   ]
  },
  {
   "cell_type": "markdown",
   "id": "84ca349e",
   "metadata": {
    "papermill": {
     "duration": 0.001877,
     "end_time": "2022-06-30T20:17:46.810843",
     "exception": false,
     "start_time": "2022-06-30T20:17:46.808966",
     "status": "completed"
    },
    "tags": []
   },
   "source": [
    "## Experimental/Simulated Observations"
   ]
  },
  {
   "cell_type": "code",
   "execution_count": 4,
   "id": "fac7a6e8",
   "metadata": {
    "execution": {
     "iopub.execute_input": "2022-06-30T20:17:46.814000Z",
     "iopub.status.busy": "2022-06-30T20:17:46.814000Z",
     "iopub.status.idle": "2022-06-30T20:17:46.818000Z",
     "shell.execute_reply": "2022-06-30T20:17:46.818000Z"
    },
    "papermill": {
     "duration": 0.007355,
     "end_time": "2022-06-30T20:17:46.819861",
     "exception": false,
     "start_time": "2022-06-30T20:17:46.812506",
     "status": "completed"
    },
    "tags": []
   },
   "outputs": [
    {
     "data": {
      "text/plain": [
       "\"/workspaces/Mycelia/data/genomes/done.txt\""
      ]
     },
     "execution_count": 4,
     "metadata": {},
     "output_type": "execute_result"
    }
   ],
   "source": [
    "mkpath(\"$data_dir/genomes\")\n",
    "touch(\"$data_dir/done.txt\")"
   ]
  },
  {
   "cell_type": "markdown",
   "id": "4ee9d682",
   "metadata": {
    "papermill": {
     "duration": 0.001702,
     "end_time": "2022-06-30T20:17:46.823147",
     "exception": false,
     "start_time": "2022-06-30T20:17:46.821445",
     "status": "completed"
    },
    "tags": []
   },
   "source": [
    "## Analysis, Statistics, and Visualizations"
   ]
  },
  {
   "cell_type": "markdown",
   "id": "21e237d5",
   "metadata": {
    "papermill": {
     "duration": 0.001748,
     "end_time": "2022-06-30T20:17:46.826474",
     "exception": false,
     "start_time": "2022-06-30T20:17:46.824726",
     "status": "completed"
    },
    "tags": []
   },
   "source": [
    "## Summary of Results"
   ]
  },
  {
   "cell_type": "markdown",
   "id": "0f5460df",
   "metadata": {
    "papermill": {
     "duration": 0.001682,
     "end_time": "2022-06-30T20:17:46.829725",
     "exception": false,
     "start_time": "2022-06-30T20:17:46.828043",
     "status": "completed"
    },
    "tags": []
   },
   "source": [
    "## Conclusions and Future Directions"
   ]
  }
 ],
 "metadata": {
  "kernelspec": {
   "display_name": "Julia 1.7.3",
   "language": "julia",
   "name": "julia-1.7"
  },
  "language_info": {
   "file_extension": ".jl",
   "mimetype": "application/julia",
   "name": "julia",
   "version": "1.7.3"
  },
  "papermill": {
   "default_parameters": {},
   "duration": 34.250305,
   "end_time": "2022-06-30T20:17:49.574418",
   "environment_variables": {},
   "exception": null,
   "input_path": "notebooks/scripts/01.download-ncbi-phage-genomes.ipynb",
   "output_path": "reports/01.download-ncbi-phage-genomes.ipynb",
   "parameters": {
    "data_dir": "/workspaces/Mycelia/data/genomes",
    "taxon_id": 10239
   },
   "start_time": "2022-06-30T20:17:15.324113",
   "version": "2.3.4"
  }
 },
 "nbformat": 4,
 "nbformat_minor": 5
}
