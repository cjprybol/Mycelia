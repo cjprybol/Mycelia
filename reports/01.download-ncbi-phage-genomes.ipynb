{
 "cells": [
  {
   "cell_type": "markdown",
   "id": "16d4d6b1",
   "metadata": {
    "papermill": {
     "duration": 0.003135,
     "end_time": "2022-07-03T21:14:39.899847",
     "exception": false,
     "start_time": "2022-07-03T21:14:39.896712",
     "status": "completed"
    },
    "tags": []
   },
   "source": [
    "## Objective\n",
    "\n",
    "download all genomes in NCBI refseq or genbank at or below a specified taxon_id"
   ]
  },
  {
   "cell_type": "markdown",
   "id": "1a55f49c",
   "metadata": {
    "papermill": {
     "duration": 0.00257,
     "end_time": "2022-07-03T21:14:39.905788",
     "exception": false,
     "start_time": "2022-07-03T21:14:39.903218",
     "status": "completed"
    },
    "tags": []
   },
   "source": [
    "## Materials, Methods, and Functions"
   ]
  },
  {
   "cell_type": "code",
   "execution_count": 1,
   "id": "4ae2533b",
   "metadata": {
    "execution": {
     "iopub.execute_input": "2022-07-03T21:14:40.425000Z",
     "iopub.status.busy": "2022-07-03T21:14:39.972000Z",
     "iopub.status.idle": "2022-07-03T21:14:41.574000Z",
     "shell.execute_reply": "2022-07-03T21:14:41.547000Z"
    },
    "papermill": {
     "duration": 1.667467,
     "end_time": "2022-07-03T21:14:41.575683",
     "exception": false,
     "start_time": "2022-07-03T21:14:39.908216",
     "status": "completed"
    },
    "tags": [
     "parameters"
    ]
   },
   "outputs": [
    {
     "name": "stderr",
     "output_type": "stream",
     "text": [
      "┌ Info: define_parameters\n",
      "└ @ Main In[1]:2\n"
     ]
    },
    {
     "data": {
      "text/plain": [
       "\"refseq\""
      ]
     },
     "execution_count": 1,
     "metadata": {},
     "output_type": "execute_result"
    }
   ],
   "source": [
    "# default parameters\n",
    "@info \"define_parameters\"\n",
    "taxon_id = 10239\n",
    "data_dir = \"../../data/genomes\"\n",
    "# database = refseq or genbank\n",
    "ncbi_database = \"refseq\""
   ]
  },
  {
   "cell_type": "code",
   "execution_count": 2,
   "id": "6451c5c9",
   "metadata": {
    "execution": {
     "iopub.execute_input": "2022-07-03T21:14:41.581000Z",
     "iopub.status.busy": "2022-07-03T21:14:41.581000Z",
     "iopub.status.idle": "2022-07-03T21:14:41.582000Z",
     "shell.execute_reply": "2022-07-03T21:14:41.582000Z"
    },
    "papermill": {
     "duration": 0.005488,
     "end_time": "2022-07-03T21:14:41.583965",
     "exception": false,
     "start_time": "2022-07-03T21:14:41.578477",
     "status": "completed"
    },
    "tags": [
     "injected-parameters"
    ]
   },
   "outputs": [
    {
     "data": {
      "text/plain": [
       "\"refseq\""
      ]
     },
     "execution_count": 2,
     "metadata": {},
     "output_type": "execute_result"
    }
   ],
   "source": [
    "# Parameters\n",
    "taxon_id = 10239\n",
    "data_dir = \"/workspaces/Mycelia/data/genomes\"\n",
    "ncbi_database = \"refseq\"\n"
   ]
  },
  {
   "cell_type": "code",
   "execution_count": 3,
   "id": "9baf089f",
   "metadata": {
    "execution": {
     "iopub.execute_input": "2022-07-03T21:14:41.589000Z",
     "iopub.status.busy": "2022-07-03T21:14:41.589000Z",
     "iopub.status.idle": "2022-07-03T21:14:41.593000Z",
     "shell.execute_reply": "2022-07-03T21:14:41.593000Z"
    },
    "papermill": {
     "duration": 0.009743,
     "end_time": "2022-07-03T21:14:41.596040",
     "exception": false,
     "start_time": "2022-07-03T21:14:41.586297",
     "status": "completed"
    },
    "tags": []
   },
   "outputs": [
    {
     "name": "stderr",
     "output_type": "stream",
     "text": [
      "┌ Info: initialize\n",
      "└ @ Main In[3]:1\n"
     ]
    },
    {
     "data": {
      "text/plain": [
       "\"/workspaces/Mycelia/data/genomes\""
      ]
     },
     "execution_count": 3,
     "metadata": {},
     "output_type": "execute_result"
    }
   ],
   "source": [
    "@info \"initialize\"\n",
    "mkpath(data_dir)"
   ]
  },
  {
   "cell_type": "code",
   "execution_count": 4,
   "id": "cb189216",
   "metadata": {
    "execution": {
     "iopub.execute_input": "2022-07-03T21:14:41.601000Z",
     "iopub.status.busy": "2022-07-03T21:14:41.601000Z",
     "iopub.status.idle": "2022-07-03T21:14:52.506000Z",
     "shell.execute_reply": "2022-07-03T21:14:52.506000Z"
    },
    "papermill": {
     "duration": 10.908863,
     "end_time": "2022-07-03T21:14:52.507483",
     "exception": false,
     "start_time": "2022-07-03T21:14:41.598620",
     "status": "completed"
    },
    "tags": []
   },
   "outputs": [
    {
     "name": "stderr",
     "output_type": "stream",
     "text": [
      "┌ Info: import libraries\n",
      "└ @ Main In[4]:1\n"
     ]
    }
   ],
   "source": [
    "@info \"import libraries\"\n",
    "import Mycelia\n",
    "import DataFrames\n",
    "import ProgressMeter"
   ]
  },
  {
   "cell_type": "code",
   "execution_count": 5,
   "id": "fe2ba6ea",
   "metadata": {
    "execution": {
     "iopub.execute_input": "2022-07-03T21:15:03.143000Z",
     "iopub.status.busy": "2022-07-03T21:14:52.513000Z",
     "iopub.status.idle": "2022-07-03T21:15:03.554000Z",
     "shell.execute_reply": "2022-07-03T21:15:03.554000Z"
    },
    "papermill": {
     "duration": 11.046755,
     "end_time": "2022-07-03T21:15:03.556974",
     "exception": false,
     "start_time": "2022-07-03T21:14:52.510219",
     "status": "completed"
    },
    "tags": []
   },
   "outputs": [
    {
     "name": "stderr",
     "output_type": "stream",
     "text": [
      "┌ Info: define functions\n",
      "└ @ Main In[5]:1\n"
     ]
    },
    {
     "data": {
      "text/plain": [
       "download_genome_from_ncbi_ftp_path (generic function with 1 method)"
      ]
     },
     "execution_count": 5,
     "metadata": {},
     "output_type": "execute_result"
    }
   ],
   "source": [
    "@info \"define functions\"\n",
    "function download_genome_from_ncbi_ftp_path(ftp_path)\n",
    "    # https://ftp.ncbi.nlm.nih.gov/genomes/all/GCF/000/819/615/GCF_000819615.1_ViralProj14015/GCF_000819615.1_ViralProj14015_genomic.fna.gz\n",
    "    fasta_filename = basename(ftp_path) * \"_genomic.fna.gz\"\n",
    "    full_ftp_path = joinpath(ftp_path, fasta_filename)\n",
    "    full_local_path = joinpath(data_dir, fasta_filename)\n",
    "    uncompressed_local_path = replace(full_local_path, \".gz\" => \"\")\n",
    "    if !isfile(uncompressed_local_path)\n",
    "        if !isfile(full_local_path)\n",
    "            download(full_ftp_path, full_local_path)\n",
    "        end\n",
    "        run(`gzip -d $full_local_path`)\n",
    "    end\n",
    "end"
   ]
  },
  {
   "cell_type": "code",
   "execution_count": 6,
   "id": "9ba0cb54",
   "metadata": {
    "execution": {
     "iopub.execute_input": "2022-07-03T21:15:03.563000Z",
     "iopub.status.busy": "2022-07-03T21:15:03.563000Z",
     "iopub.status.idle": "2022-07-03T21:15:25.631000Z",
     "shell.execute_reply": "2022-07-03T21:15:25.631000Z"
    },
    "papermill": {
     "duration": 22.073773,
     "end_time": "2022-07-03T21:15:25.633977",
     "exception": false,
     "start_time": "2022-07-03T21:15:03.560204",
     "status": "completed"
    },
    "tags": []
   },
   "outputs": [
    {
     "name": "stderr",
     "output_type": "stream",
     "text": [
      "┌ Info: download ncbi metadata\n",
      "└ @ Main In[6]:1\n"
     ]
    },
    {
     "data": {
      "text/html": [
       "<div class=\"data-frame\"><p>265,847 rows × 23 columns (omitted printing of 18 columns)</p><table class=\"data-frame\"><thead><tr><th></th><th># assembly_accession</th><th>bioproject</th><th>biosample</th><th>wgs_master</th><th>refseq_category</th></tr><tr><th></th><th title=\"String\">String</th><th title=\"String\">String</th><th title=\"String\">String</th><th title=\"String\">String</th><th title=\"String\">String</th></tr></thead><tbody><tr><th>1</th><td>GCF_000001215.4</td><td>PRJNA164</td><td>SAMN02803731</td><td></td><td>reference genome</td></tr><tr><th>2</th><td>GCF_000001405.40</td><td>PRJNA168</td><td></td><td></td><td>reference genome</td></tr><tr><th>3</th><td>GCF_000001635.27</td><td>PRJNA169</td><td></td><td></td><td>reference genome</td></tr><tr><th>4</th><td>GCF_000001735.4</td><td>PRJNA116</td><td>SAMN03081427</td><td></td><td>reference genome</td></tr><tr><th>5</th><td>GCF_000001905.1</td><td>PRJNA70973</td><td>SAMN02953622</td><td>AAGU00000000.3</td><td>representative genome</td></tr><tr><th>6</th><td>GCF_000001985.1</td><td>PRJNA32665</td><td>SAMN02953685</td><td>ABAR00000000.1</td><td>representative genome</td></tr><tr><th>7</th><td>GCF_000002035.6</td><td>PRJNA13922</td><td>SAMN06930106</td><td></td><td>reference genome</td></tr><tr><th>8</th><td>GCF_000002075.1</td><td>PRJNA209509</td><td>SAMN02953658</td><td>AASC00000000.3</td><td>representative genome</td></tr><tr><th>9</th><td>GCF_000002235.5</td><td>PRJNA13728</td><td>SAMN00829422</td><td>AAGJ00000000.6</td><td>representative genome</td></tr><tr><th>10</th><td>GCF_000002285.5</td><td>PRJNA12384</td><td>SAMN02953603</td><td>AAEX00000000.4</td><td>na</td></tr><tr><th>11</th><td>GCF_000002295.2</td><td>PRJNA15683</td><td>SAMN02953611</td><td>AAFR00000000.3</td><td>representative genome</td></tr><tr><th>12</th><td>GCF_000002335.3</td><td>PRJNA15718</td><td>SAMN02953634</td><td>AAJJ00000000.2</td><td>representative genome</td></tr><tr><th>13</th><td>GCF_000002415.2</td><td>PRJNA20431</td><td>SAMN02953638</td><td>AAKM00000000.1</td><td>representative genome</td></tr><tr><th>14</th><td>GCF_000002425.4</td><td>PRJNA28131</td><td>SAMN00120126</td><td>ABEU00000000.2</td><td>representative genome</td></tr><tr><th>15</th><td>GCF_000002435.2</td><td>PRJNA15590</td><td>SAMN02952905</td><td>AACB00000000.3</td><td>representative genome</td></tr><tr><th>16</th><td>GCF_000002445.2</td><td>PRJNA15565</td><td>SAMN02953625</td><td></td><td>representative genome</td></tr><tr><th>17</th><td>GCF_000002455.1</td><td>PRJNA27939</td><td></td><td></td><td>na</td></tr><tr><th>18</th><td>GCF_000002495.2</td><td>PRJNA1433</td><td>SAMN02953596</td><td>AACU00000000.3</td><td>representative genome</td></tr><tr><th>19</th><td>GCF_000002515.2</td><td>PRJNA12377</td><td>SAMEA3138170</td><td></td><td>representative genome</td></tr><tr><th>20</th><td>GCF_000002525.2</td><td>PRJNA12414</td><td>SAMEA3138171</td><td></td><td>representative genome</td></tr><tr><th>21</th><td>GCF_000002545.3</td><td>PRJNA12376</td><td>SAMEA3138172</td><td></td><td>representative genome</td></tr><tr><th>22</th><td>GCF_000002595.2</td><td>PRJNA21061</td><td>SAMN02953692</td><td>ABCN00000000.2</td><td>representative genome</td></tr><tr><th>23</th><td>GCF_000002655.1</td><td>PRJNA14003</td><td>SAMN00115746</td><td>AAHF00000000.1</td><td>representative genome</td></tr><tr><th>24</th><td>GCF_000002715.2</td><td>PRJNA18467</td><td>SAMN02953636</td><td>AAKD00000000.3</td><td>representative genome</td></tr><tr><th>25</th><td>GCF_000002725.2</td><td>PRJNA15564</td><td>SAMEA3138173</td><td></td><td>representative genome</td></tr><tr><th>26</th><td>GCF_000002775.4</td><td>PRJNA17973</td><td>SAMN02953657</td><td>AARH00000000.3</td><td>representative genome</td></tr><tr><th>27</th><td>GCF_000002825.2</td><td>PRJNA18631</td><td>SAMN02953626</td><td>AAHC00000000.1</td><td>representative genome</td></tr><tr><th>28</th><td>GCF_000002845.2</td><td>PRJNA19185</td><td>SAMEA2272271</td><td>CADA00000000.1</td><td>representative genome</td></tr><tr><th>29</th><td>GCF_000002855.3</td><td>PRJNA19263</td><td>SAMEA3283178</td><td></td><td>representative genome</td></tr><tr><th>30</th><td>GCF_000002865.3</td><td>PRJNA28133</td><td>SAMN02953695</td><td>ABFJ00000000.1</td><td>representative genome</td></tr><tr><th>&vellip;</th><td>&vellip;</td><td>&vellip;</td><td>&vellip;</td><td>&vellip;</td><td>&vellip;</td></tr></tbody></table></div>"
      ],
      "text/latex": [
       "\\begin{tabular}{r|cccccc}\n",
       "\t& \\# assembly\\_accession & bioproject & biosample & wgs\\_master & refseq\\_category & \\\\\n",
       "\t\\hline\n",
       "\t& String & String & String & String & String & \\\\\n",
       "\t\\hline\n",
       "\t1 & GCF\\_000001215.4 & PRJNA164 & SAMN02803731 &  & reference genome & $\\dots$ \\\\\n",
       "\t2 & GCF\\_000001405.40 & PRJNA168 &  &  & reference genome & $\\dots$ \\\\\n",
       "\t3 & GCF\\_000001635.27 & PRJNA169 &  &  & reference genome & $\\dots$ \\\\\n",
       "\t4 & GCF\\_000001735.4 & PRJNA116 & SAMN03081427 &  & reference genome & $\\dots$ \\\\\n",
       "\t5 & GCF\\_000001905.1 & PRJNA70973 & SAMN02953622 & AAGU00000000.3 & representative genome & $\\dots$ \\\\\n",
       "\t6 & GCF\\_000001985.1 & PRJNA32665 & SAMN02953685 & ABAR00000000.1 & representative genome & $\\dots$ \\\\\n",
       "\t7 & GCF\\_000002035.6 & PRJNA13922 & SAMN06930106 &  & reference genome & $\\dots$ \\\\\n",
       "\t8 & GCF\\_000002075.1 & PRJNA209509 & SAMN02953658 & AASC00000000.3 & representative genome & $\\dots$ \\\\\n",
       "\t9 & GCF\\_000002235.5 & PRJNA13728 & SAMN00829422 & AAGJ00000000.6 & representative genome & $\\dots$ \\\\\n",
       "\t10 & GCF\\_000002285.5 & PRJNA12384 & SAMN02953603 & AAEX00000000.4 & na & $\\dots$ \\\\\n",
       "\t11 & GCF\\_000002295.2 & PRJNA15683 & SAMN02953611 & AAFR00000000.3 & representative genome & $\\dots$ \\\\\n",
       "\t12 & GCF\\_000002335.3 & PRJNA15718 & SAMN02953634 & AAJJ00000000.2 & representative genome & $\\dots$ \\\\\n",
       "\t13 & GCF\\_000002415.2 & PRJNA20431 & SAMN02953638 & AAKM00000000.1 & representative genome & $\\dots$ \\\\\n",
       "\t14 & GCF\\_000002425.4 & PRJNA28131 & SAMN00120126 & ABEU00000000.2 & representative genome & $\\dots$ \\\\\n",
       "\t15 & GCF\\_000002435.2 & PRJNA15590 & SAMN02952905 & AACB00000000.3 & representative genome & $\\dots$ \\\\\n",
       "\t16 & GCF\\_000002445.2 & PRJNA15565 & SAMN02953625 &  & representative genome & $\\dots$ \\\\\n",
       "\t17 & GCF\\_000002455.1 & PRJNA27939 &  &  & na & $\\dots$ \\\\\n",
       "\t18 & GCF\\_000002495.2 & PRJNA1433 & SAMN02953596 & AACU00000000.3 & representative genome & $\\dots$ \\\\\n",
       "\t19 & GCF\\_000002515.2 & PRJNA12377 & SAMEA3138170 &  & representative genome & $\\dots$ \\\\\n",
       "\t20 & GCF\\_000002525.2 & PRJNA12414 & SAMEA3138171 &  & representative genome & $\\dots$ \\\\\n",
       "\t21 & GCF\\_000002545.3 & PRJNA12376 & SAMEA3138172 &  & representative genome & $\\dots$ \\\\\n",
       "\t22 & GCF\\_000002595.2 & PRJNA21061 & SAMN02953692 & ABCN00000000.2 & representative genome & $\\dots$ \\\\\n",
       "\t23 & GCF\\_000002655.1 & PRJNA14003 & SAMN00115746 & AAHF00000000.1 & representative genome & $\\dots$ \\\\\n",
       "\t24 & GCF\\_000002715.2 & PRJNA18467 & SAMN02953636 & AAKD00000000.3 & representative genome & $\\dots$ \\\\\n",
       "\t25 & GCF\\_000002725.2 & PRJNA15564 & SAMEA3138173 &  & representative genome & $\\dots$ \\\\\n",
       "\t26 & GCF\\_000002775.4 & PRJNA17973 & SAMN02953657 & AARH00000000.3 & representative genome & $\\dots$ \\\\\n",
       "\t27 & GCF\\_000002825.2 & PRJNA18631 & SAMN02953626 & AAHC00000000.1 & representative genome & $\\dots$ \\\\\n",
       "\t28 & GCF\\_000002845.2 & PRJNA19185 & SAMEA2272271 & CADA00000000.1 & representative genome & $\\dots$ \\\\\n",
       "\t29 & GCF\\_000002855.3 & PRJNA19263 & SAMEA3283178 &  & representative genome & $\\dots$ \\\\\n",
       "\t30 & GCF\\_000002865.3 & PRJNA28133 & SAMN02953695 & ABFJ00000000.1 & representative genome & $\\dots$ \\\\\n",
       "\t$\\dots$ & $\\dots$ & $\\dots$ & $\\dots$ & $\\dots$ & $\\dots$ &  \\\\\n",
       "\\end{tabular}\n"
      ],
      "text/plain": [
       "\u001b[1m265847×23 DataFrame\u001b[0m\n",
       "\u001b[1m    Row \u001b[0m│\u001b[1m # assembly_accession \u001b[0m\u001b[1m bioproject  \u001b[0m\u001b[1m biosample      \u001b[0m\u001b[1m wgs_master       \u001b[0m ⋯\n",
       "\u001b[1m        \u001b[0m│\u001b[90m String               \u001b[0m\u001b[90m String      \u001b[0m\u001b[90m String         \u001b[0m\u001b[90m String           \u001b[0m ⋯\n",
       "────────┼───────────────────────────────────────────────────────────────────────\n",
       "      1 │ GCF_000001215.4       PRJNA164     SAMN02803731                      ⋯\n",
       "      2 │ GCF_000001405.40      PRJNA168\n",
       "      3 │ GCF_000001635.27      PRJNA169\n",
       "      4 │ GCF_000001735.4       PRJNA116     SAMN03081427\n",
       "      5 │ GCF_000001905.1       PRJNA70973   SAMN02953622    AAGU00000000.3    ⋯\n",
       "      6 │ GCF_000001985.1       PRJNA32665   SAMN02953685    ABAR00000000.1\n",
       "      7 │ GCF_000002035.6       PRJNA13922   SAMN06930106\n",
       "      8 │ GCF_000002075.1       PRJNA209509  SAMN02953658    AASC00000000.3\n",
       "      9 │ GCF_000002235.5       PRJNA13728   SAMN00829422    AAGJ00000000.6    ⋯\n",
       "     10 │ GCF_000002285.5       PRJNA12384   SAMN02953603    AAEX00000000.4\n",
       "     11 │ GCF_000002295.2       PRJNA15683   SAMN02953611    AAFR00000000.3\n",
       "   ⋮    │          ⋮                 ⋮             ⋮                 ⋮         ⋱\n",
       " 265838 │ GCF_943908195.1       PRJNA224116  SAMEA110068408  CALTSH000000000.1\n",
       " 265839 │ GCF_943908205.1       PRJNA224116  SAMEA110068392  CALTSA000000000.1 ⋯\n",
       " 265840 │ GCF_943908215.1       PRJNA224116  SAMEA110068417  CALTSO000000000.1\n",
       " 265841 │ GCF_943908225.1       PRJNA224116  SAMEA110068402  CALTSL000000000.1\n",
       " 265842 │ GCF_943908245.1       PRJNA224116  SAMEA110068431  CALTSM000000000.1\n",
       " 265843 │ GCF_943908255.1       PRJNA224116  SAMEA110068412  CALTSK000000000.1 ⋯\n",
       " 265844 │ GCF_943908265.1       PRJNA224116  SAMEA110068414  CALTSN000000000.1\n",
       " 265845 │ GCF_943908275.1       PRJNA224116  SAMEA110068406  CALTSQ000000000.1\n",
       " 265846 │ GCF_943908285.1       PRJNA224116  SAMEA110068400  CALTSP000000000.1\n",
       " 265847 │ GCF_943908305.1       PRJNA224116  SAMEA110068429  CALTSU000000000.1 ⋯\n",
       "\u001b[36m                                              19 columns and 265826 rows omitted\u001b[0m"
      ]
     },
     "execution_count": 6,
     "metadata": {},
     "output_type": "execute_result"
    }
   ],
   "source": [
    "@info \"download ncbi metadata\"\n",
    "ncbi_metadata = Mycelia.load_ncbi_metadata(ncbi_database)"
   ]
  },
  {
   "cell_type": "code",
   "execution_count": 7,
   "id": "4a118fde",
   "metadata": {
    "execution": {
     "iopub.execute_input": "2022-07-03T21:15:25.640000Z",
     "iopub.status.busy": "2022-07-03T21:15:25.640000Z",
     "iopub.status.idle": "2022-07-03T21:15:29.844000Z",
     "shell.execute_reply": "2022-07-03T21:15:29.843000Z"
    },
    "papermill": {
     "duration": 4.208363,
     "end_time": "2022-07-03T21:15:29.845528",
     "exception": false,
     "start_time": "2022-07-03T21:15:25.637165",
     "status": "completed"
    },
    "tags": []
   },
   "outputs": [
    {
     "name": "stderr",
     "output_type": "stream",
     "text": [
      "┌ Info: get child taxon_ids\n",
      "└ @ Main In[7]:1\n"
     ]
    }
   ],
   "source": [
    "@info \"get child taxon_ids\"\n",
    "child_taxon_ids = Set([parse(Int, line) for line in eachline(open(`taxonkit list --ids $(taxon_id) --indent \"\"`)) if !isempty(line)])\n",
    "@assert taxon_id in child_taxon_ids"
   ]
  },
  {
   "cell_type": "code",
   "execution_count": 8,
   "id": "feec32ec",
   "metadata": {
    "execution": {
     "iopub.execute_input": "2022-07-03T21:15:29.852000Z",
     "iopub.status.busy": "2022-07-03T21:15:29.852000Z",
     "iopub.status.idle": "2022-07-03T21:15:30.463000Z",
     "shell.execute_reply": "2022-07-03T21:15:30.463000Z"
    },
    "papermill": {
     "duration": 0.61759,
     "end_time": "2022-07-03T21:15:30.466330",
     "exception": false,
     "start_time": "2022-07-03T21:15:29.848740",
     "status": "completed"
    },
    "tags": []
   },
   "outputs": [
    {
     "name": "stderr",
     "output_type": "stream",
     "text": [
      "┌ Info: filter ncbi metadata down to child taxon ids\n",
      "└ @ Main In[8]:1\n"
     ]
    },
    {
     "data": {
      "text/html": [
       "<div class=\"data-frame\"><p>11,699 rows × 23 columns (omitted printing of 17 columns)</p><table class=\"data-frame\"><thead><tr><th></th><th># assembly_accession</th><th>bioproject</th><th>biosample</th><th>wgs_master</th><th>refseq_category</th><th>taxid</th></tr><tr><th></th><th title=\"String\">String</th><th title=\"String\">String</th><th title=\"String\">String</th><th title=\"String\">String</th><th title=\"String\">String</th><th title=\"Int64\">Int64</th></tr></thead><tbody><tr><th>1</th><td>GCF_000819615.1</td><td>PRJNA485481</td><td></td><td></td><td>na</td><td>2886930</td></tr><tr><th>2</th><td>GCF_000820355.1</td><td>PRJNA485481</td><td></td><td></td><td>na</td><td>191289</td></tr><tr><th>3</th><td>GCF_000820495.2</td><td>PRJNA485481</td><td></td><td></td><td>na</td><td>518987</td></tr><tr><th>4</th><td>GCF_000836805.1</td><td>PRJNA485481</td><td></td><td></td><td>reference genome</td><td>90963</td></tr><tr><th>5</th><td>GCF_000836825.1</td><td>PRJNA485481</td><td></td><td></td><td>na</td><td>1891754</td></tr><tr><th>6</th><td>GCF_000836845.1</td><td>PRJNA485481</td><td></td><td></td><td>na</td><td>196399</td></tr><tr><th>7</th><td>GCF_000836865.1</td><td>PRJNA485481</td><td></td><td></td><td>na</td><td>10570</td></tr><tr><th>8</th><td>GCF_000836885.1</td><td>PRJNA485481</td><td></td><td></td><td>na</td><td>57579</td></tr><tr><th>9</th><td>GCF_000836905.1</td><td>PRJNA485481</td><td></td><td></td><td>na</td><td>2905681</td></tr><tr><th>10</th><td>GCF_000836925.1</td><td>PRJNA485481</td><td></td><td></td><td>na</td><td>10868</td></tr><tr><th>11</th><td>GCF_000836945.1</td><td>PRJNA485481</td><td></td><td></td><td>reference genome</td><td>2681598</td></tr><tr><th>12</th><td>GCF_000836965.1</td><td>PRJNA485481</td><td></td><td></td><td>na</td><td>2681618</td></tr><tr><th>13</th><td>GCF_000836985.1</td><td>PRJNA485481</td><td></td><td></td><td>na</td><td>78541</td></tr><tr><th>14</th><td>GCF_000837005.1</td><td>PRJNA485481</td><td></td><td></td><td>na</td><td>687377</td></tr><tr><th>15</th><td>GCF_000837025.1</td><td>PRJNA485481</td><td></td><td></td><td>na</td><td>10658</td></tr><tr><th>16</th><td>GCF_000837045.1</td><td>PRJNA485481</td><td></td><td></td><td>na</td><td>1458187</td></tr><tr><th>17</th><td>GCF_000837065.1</td><td>PRJNA485481</td><td></td><td></td><td>na</td><td>1891770</td></tr><tr><th>18</th><td>GCF_000837085.1</td><td>PRJNA485481</td><td></td><td></td><td>na</td><td>10623</td></tr><tr><th>19</th><td>GCF_000837105.1</td><td>PRJNA485481</td><td></td><td></td><td>na</td><td>10835</td></tr><tr><th>20</th><td>GCF_000837125.1</td><td>PRJNA485481</td><td></td><td></td><td>na</td><td>262177</td></tr><tr><th>21</th><td>GCF_000837145.1</td><td>PRJNA485481</td><td></td><td></td><td>na</td><td>271108</td></tr><tr><th>22</th><td>GCF_000837165.1</td><td>PRJNA485481</td><td></td><td></td><td>na</td><td>127507</td></tr><tr><th>23</th><td>GCF_000837185.1</td><td>PRJNA485481</td><td></td><td></td><td>na</td><td>28321</td></tr><tr><th>24</th><td>GCF_000837205.1</td><td>PRJNA485481</td><td></td><td></td><td>na</td><td>134599</td></tr><tr><th>25</th><td>GCF_000837225.1</td><td>PRJNA485481</td><td></td><td></td><td>na</td><td>2681603</td></tr><tr><th>26</th><td>GCF_000837245.1</td><td>PRJNA485481</td><td></td><td></td><td>na</td><td>2902907</td></tr><tr><th>27</th><td>GCF_000837265.1</td><td>PRJNA485481</td><td></td><td></td><td>na</td><td>151539</td></tr><tr><th>28</th><td>GCF_000837285.6</td><td>PRJNA485481</td><td></td><td></td><td>na</td><td>148880</td></tr><tr><th>29</th><td>GCF_000837305.1</td><td>PRJNA485481</td><td></td><td></td><td>na</td><td>134681</td></tr><tr><th>30</th><td>GCF_000837325.1</td><td>PRJNA485481</td><td></td><td></td><td>na</td><td>146032</td></tr><tr><th>&vellip;</th><td>&vellip;</td><td>&vellip;</td><td>&vellip;</td><td>&vellip;</td><td>&vellip;</td><td>&vellip;</td></tr></tbody></table></div>"
      ],
      "text/latex": [
       "\\begin{tabular}{r|ccccccc}\n",
       "\t& \\# assembly\\_accession & bioproject & biosample & wgs\\_master & refseq\\_category & taxid & \\\\\n",
       "\t\\hline\n",
       "\t& String & String & String & String & String & Int64 & \\\\\n",
       "\t\\hline\n",
       "\t1 & GCF\\_000819615.1 & PRJNA485481 &  &  & na & 2886930 & $\\dots$ \\\\\n",
       "\t2 & GCF\\_000820355.1 & PRJNA485481 &  &  & na & 191289 & $\\dots$ \\\\\n",
       "\t3 & GCF\\_000820495.2 & PRJNA485481 &  &  & na & 518987 & $\\dots$ \\\\\n",
       "\t4 & GCF\\_000836805.1 & PRJNA485481 &  &  & reference genome & 90963 & $\\dots$ \\\\\n",
       "\t5 & GCF\\_000836825.1 & PRJNA485481 &  &  & na & 1891754 & $\\dots$ \\\\\n",
       "\t6 & GCF\\_000836845.1 & PRJNA485481 &  &  & na & 196399 & $\\dots$ \\\\\n",
       "\t7 & GCF\\_000836865.1 & PRJNA485481 &  &  & na & 10570 & $\\dots$ \\\\\n",
       "\t8 & GCF\\_000836885.1 & PRJNA485481 &  &  & na & 57579 & $\\dots$ \\\\\n",
       "\t9 & GCF\\_000836905.1 & PRJNA485481 &  &  & na & 2905681 & $\\dots$ \\\\\n",
       "\t10 & GCF\\_000836925.1 & PRJNA485481 &  &  & na & 10868 & $\\dots$ \\\\\n",
       "\t11 & GCF\\_000836945.1 & PRJNA485481 &  &  & reference genome & 2681598 & $\\dots$ \\\\\n",
       "\t12 & GCF\\_000836965.1 & PRJNA485481 &  &  & na & 2681618 & $\\dots$ \\\\\n",
       "\t13 & GCF\\_000836985.1 & PRJNA485481 &  &  & na & 78541 & $\\dots$ \\\\\n",
       "\t14 & GCF\\_000837005.1 & PRJNA485481 &  &  & na & 687377 & $\\dots$ \\\\\n",
       "\t15 & GCF\\_000837025.1 & PRJNA485481 &  &  & na & 10658 & $\\dots$ \\\\\n",
       "\t16 & GCF\\_000837045.1 & PRJNA485481 &  &  & na & 1458187 & $\\dots$ \\\\\n",
       "\t17 & GCF\\_000837065.1 & PRJNA485481 &  &  & na & 1891770 & $\\dots$ \\\\\n",
       "\t18 & GCF\\_000837085.1 & PRJNA485481 &  &  & na & 10623 & $\\dots$ \\\\\n",
       "\t19 & GCF\\_000837105.1 & PRJNA485481 &  &  & na & 10835 & $\\dots$ \\\\\n",
       "\t20 & GCF\\_000837125.1 & PRJNA485481 &  &  & na & 262177 & $\\dots$ \\\\\n",
       "\t21 & GCF\\_000837145.1 & PRJNA485481 &  &  & na & 271108 & $\\dots$ \\\\\n",
       "\t22 & GCF\\_000837165.1 & PRJNA485481 &  &  & na & 127507 & $\\dots$ \\\\\n",
       "\t23 & GCF\\_000837185.1 & PRJNA485481 &  &  & na & 28321 & $\\dots$ \\\\\n",
       "\t24 & GCF\\_000837205.1 & PRJNA485481 &  &  & na & 134599 & $\\dots$ \\\\\n",
       "\t25 & GCF\\_000837225.1 & PRJNA485481 &  &  & na & 2681603 & $\\dots$ \\\\\n",
       "\t26 & GCF\\_000837245.1 & PRJNA485481 &  &  & na & 2902907 & $\\dots$ \\\\\n",
       "\t27 & GCF\\_000837265.1 & PRJNA485481 &  &  & na & 151539 & $\\dots$ \\\\\n",
       "\t28 & GCF\\_000837285.6 & PRJNA485481 &  &  & na & 148880 & $\\dots$ \\\\\n",
       "\t29 & GCF\\_000837305.1 & PRJNA485481 &  &  & na & 134681 & $\\dots$ \\\\\n",
       "\t30 & GCF\\_000837325.1 & PRJNA485481 &  &  & na & 146032 & $\\dots$ \\\\\n",
       "\t$\\dots$ & $\\dots$ & $\\dots$ & $\\dots$ & $\\dots$ & $\\dots$ & $\\dots$ &  \\\\\n",
       "\\end{tabular}\n"
      ],
      "text/plain": [
       "\u001b[1m11699×23 DataFrame\u001b[0m\n",
       "\u001b[1m   Row \u001b[0m│\u001b[1m # assembly_accession \u001b[0m\u001b[1m bioproject  \u001b[0m\u001b[1m biosample      \u001b[0m\u001b[1m wgs_master \u001b[0m\u001b[1m refseq\u001b[0m ⋯\n",
       "\u001b[1m       \u001b[0m│\u001b[90m String               \u001b[0m\u001b[90m String      \u001b[0m\u001b[90m String         \u001b[0m\u001b[90m String     \u001b[0m\u001b[90m String\u001b[0m ⋯\n",
       "───────┼────────────────────────────────────────────────────────────────────────\n",
       "     1 │ GCF_000819615.1       PRJNA485481                              na     ⋯\n",
       "     2 │ GCF_000820355.1       PRJNA485481                              na\n",
       "     3 │ GCF_000820495.2       PRJNA485481                              na\n",
       "     4 │ GCF_000836805.1       PRJNA485481                              refere\n",
       "     5 │ GCF_000836825.1       PRJNA485481                              na     ⋯\n",
       "     6 │ GCF_000836845.1       PRJNA485481                              na\n",
       "     7 │ GCF_000836865.1       PRJNA485481                              na\n",
       "     8 │ GCF_000836885.1       PRJNA485481                              na\n",
       "     9 │ GCF_000836905.1       PRJNA485481                              na     ⋯\n",
       "    10 │ GCF_000836925.1       PRJNA485481                              na\n",
       "    11 │ GCF_000836945.1       PRJNA485481                              refere\n",
       "   ⋮   │          ⋮                 ⋮             ⋮             ⋮              ⋱\n",
       " 11690 │ GCF_900095325.1       PRJNA485481  SAMEA4062937                na\n",
       " 11691 │ GCF_900095755.1       PRJNA485481  SAMEA4393801                na     ⋯\n",
       " 11692 │ GCF_900096485.1       PRJNA485481  SAMEA4413212                na\n",
       " 11693 │ GCF_900098775.1       PRJNA485481                              na\n",
       " 11694 │ GCF_900149655.1       PRJNA485481  SAMEA28616668               na\n",
       " 11695 │ GCF_900156925.1       PRJNA485481  SAMEA49437418               na     ⋯\n",
       " 11696 │ GCF_900178515.1       PRJNA485481  SAMEA103983619              na\n",
       " 11697 │ GCF_900327825.1       PRJNA485481  SAMEA1061860                na\n",
       " 11698 │ GCF_900604365.1       PRJNA485481  SAMEA3317914                na\n",
       " 11699 │ GCF_902994725.1       PRJNA485481  SAMEA6790544                na     ⋯\n",
       "\u001b[36m                                               19 columns and 11678 rows omitted\u001b[0m"
      ]
     },
     "execution_count": 8,
     "metadata": {},
     "output_type": "execute_result"
    }
   ],
   "source": [
    "@info \"filter ncbi metadata down to child taxon ids\"\n",
    "is_right_taxa = map(taxid -> taxid in child_taxon_ids, ncbi_metadata[!, \"taxid\"])\n",
    "is_right_taxa .|= map(taxid -> taxid in child_taxon_ids, ncbi_metadata[!, \"species_taxid\"])\n",
    "filtered_ncbi_metadata = ncbi_metadata[is_right_taxa, :]"
   ]
  },
  {
   "cell_type": "code",
   "execution_count": 9,
   "id": "ca78d8ff",
   "metadata": {
    "execution": {
     "iopub.execute_input": "2022-07-03T21:15:30.473000Z",
     "iopub.status.busy": "2022-07-03T21:15:30.473000Z",
     "iopub.status.idle": "2022-07-03T21:16:12.340000Z",
     "shell.execute_reply": "2022-07-03T21:16:12.340000Z"
    },
    "papermill": {
     "duration": 41.873983,
     "end_time": "2022-07-03T21:16:12.343853",
     "exception": false,
     "start_time": "2022-07-03T21:15:30.469870",
     "status": "completed"
    },
    "tags": []
   },
   "outputs": [
    {
     "name": "stderr",
     "output_type": "stream",
     "text": [
      "┌ Info: download genomes\n",
      "└ @ Main In[9]:1\n"
     ]
    },
    {
     "name": "stderr",
     "output_type": "stream",
     "text": [
      "\r",
      "\u001b[32mProgress:  20%|████████▎                                |  ETA: 0:00:38\u001b[39m"
     ]
    },
    {
     "name": "stderr",
     "output_type": "stream",
     "text": [
      "\r",
      "\u001b[32mProgress:  30%|████████████▎                            |  ETA: 0:00:32\u001b[39m"
     ]
    },
    {
     "name": "stderr",
     "output_type": "stream",
     "text": [
      "\r",
      "\u001b[32mProgress:  40%|████████████████▍                        |  ETA: 0:00:27\u001b[39m"
     ]
    },
    {
     "name": "stderr",
     "output_type": "stream",
     "text": [
      "\r",
      "\u001b[32mProgress:  50%|████████████████████▌                    |  ETA: 0:00:22\u001b[39m"
     ]
    },
    {
     "name": "stderr",
     "output_type": "stream",
     "text": [
      "\r",
      "\u001b[32mProgress:  60%|████████████████████████▋                |  ETA: 0:00:17\u001b[39m"
     ]
    },
    {
     "name": "stderr",
     "output_type": "stream",
     "text": [
      "\r",
      "\u001b[32mProgress:  70%|████████████████████████████▊            |  ETA: 0:00:13\u001b[39m"
     ]
    },
    {
     "name": "stderr",
     "output_type": "stream",
     "text": [
      "\r",
      "\u001b[32mProgress:  80%|████████████████████████████████▊        |  ETA: 0:00:08\u001b[39m"
     ]
    },
    {
     "name": "stderr",
     "output_type": "stream",
     "text": [
      "\r",
      "\u001b[32mProgress:  90%|████████████████████████████████████▉    |  ETA: 0:00:04\u001b[39m"
     ]
    },
    {
     "name": "stderr",
     "output_type": "stream",
     "text": [
      "\r",
      "\u001b[32mProgress: 100%|█████████████████████████████████████████| Time: 0:00:41\u001b[39m\n"
     ]
    }
   ],
   "source": [
    "@info \"download genomes\"\n",
    "# ProgressMeter.@showprogress for ftp_path in filtered_ncbi_metadata[!, \"ftp_path\"]\n",
    "ProgressMeter.@showprogress for ftp_path in filtered_ncbi_metadata[1:10, \"ftp_path\"]\n",
    "    download_genome_from_ncbi_ftp_path(ftp_path)\n",
    "end"
   ]
  },
  {
   "cell_type": "markdown",
   "id": "a74a7837",
   "metadata": {
    "papermill": {
     "duration": 0.004377,
     "end_time": "2022-07-03T21:16:12.352606",
     "exception": false,
     "start_time": "2022-07-03T21:16:12.348229",
     "status": "completed"
    },
    "tags": []
   },
   "source": [
    "## Experimental/Simulated Observations\n",
    "\n",
    "N/A"
   ]
  },
  {
   "cell_type": "markdown",
   "id": "a8819fee",
   "metadata": {
    "papermill": {
     "duration": 0.00378,
     "end_time": "2022-07-03T21:16:12.360254",
     "exception": false,
     "start_time": "2022-07-03T21:16:12.356474",
     "status": "completed"
    },
    "tags": []
   },
   "source": [
    "## Analysis, Statistics, and Visualizations\n",
    "\n",
    "N/A"
   ]
  },
  {
   "cell_type": "markdown",
   "id": "30bea3e4",
   "metadata": {
    "papermill": {
     "duration": 0.004592,
     "end_time": "2022-07-03T21:16:12.393552",
     "exception": false,
     "start_time": "2022-07-03T21:16:12.388960",
     "status": "completed"
    },
    "tags": []
   },
   "source": [
    "## Summary of Results\n",
    "\n",
    "N/A"
   ]
  },
  {
   "cell_type": "markdown",
   "id": "e150f37b",
   "metadata": {
    "papermill": {
     "duration": 0.003876,
     "end_time": "2022-07-03T21:16:12.401463",
     "exception": false,
     "start_time": "2022-07-03T21:16:12.397587",
     "status": "completed"
    },
    "tags": []
   },
   "source": [
    "## Conclusions and Future Directions\n",
    "\n",
    "N/A"
   ]
  }
 ],
 "metadata": {
  "kernelspec": {
   "display_name": "Julia 1.7.3",
   "language": "julia",
   "name": "julia-1.7"
  },
  "language_info": {
   "file_extension": ".jl",
   "mimetype": "application/julia",
   "name": "julia",
   "version": "1.7.3"
  },
  "papermill": {
   "default_parameters": {},
   "duration": 103.118263,
   "end_time": "2022-07-03T21:16:15.851045",
   "environment_variables": {},
   "exception": null,
   "input_path": "notebooks/scripts/01.download-ncbi-phage-genomes.ipynb",
   "output_path": "reports/01.download-ncbi-phage-genomes.ipynb",
   "parameters": {
    "data_dir": "/workspaces/Mycelia/data/genomes",
    "ncbi_database": "refseq",
    "taxon_id": 10239
   },
   "start_time": "2022-07-03T21:14:32.732782",
   "version": "2.3.4"
  }
 },
 "nbformat": 4,
 "nbformat_minor": 5
}