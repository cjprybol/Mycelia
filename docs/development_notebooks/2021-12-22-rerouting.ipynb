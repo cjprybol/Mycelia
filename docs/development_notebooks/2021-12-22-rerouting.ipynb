{
 "cells": [
  {
   "cell_type": "markdown",
   "metadata": {},
   "source": [
    "# Rerouting"
   ]
  },
  {
   "cell_type": "markdown",
   "metadata": {},
   "source": [
    "The goal of this notebook is to show how to find new shortest paths after a filtered subgraph has been constructed."
   ]
  },
  {
   "cell_type": "code",
   "execution_count": 92,
   "metadata": {},
   "outputs": [],
   "source": [
    "import Pkg\n",
    "\n",
    "pkgs = [\n",
    "    \"MetaGraphs\",\n",
    "    \"Graphs\",\n",
    "    \"Plots\",\n",
    "    \"GraphRecipes\",\n",
    "    \"Statistics\"\n",
    "]\n",
    "\n",
    "for pkg in pkgs\n",
    "    try\n",
    "        eval(Meta.parse(\"import $pkg\"))\n",
    "    catch\n",
    "        Pkg.add(pkg)\n",
    "        eval(Meta.parse(\"import $pkg\"))\n",
    "    end\n",
    "end"
   ]
  },
  {
   "cell_type": "markdown",
   "metadata": {},
   "source": [
    "Here, we define a section of graph with parallel paths, where one path has twice the nodeweight of the other"
   ]
  },
  {
   "cell_type": "code",
   "execution_count": 102,
   "metadata": {},
   "outputs": [
    {
     "data": {
      "image/svg+xml": [
       "<?xml version=\"1.0\" encoding=\"utf-8\"?>\n",
       "<svg xmlns=\"http://www.w3.org/2000/svg\" xmlns:xlink=\"http://www.w3.org/1999/xlink\" width=\"600\" height=\"400\" viewBox=\"0 0 2400 1600\">\n",
       "<defs>\n",
       "  <clipPath id=\"clip590\">\n",
       "    <rect x=\"0\" y=\"0\" width=\"2400\" height=\"1600\"/>\n",
       "  </clipPath>\n",
       "</defs>\n",
       "<path clip-path=\"url(#clip590)\" d=\"\n",
       "M0 1600 L2400 1600 L2400 0 L0 0  Z\n",
       "  \" fill=\"#ffffff\" fill-rule=\"evenodd\" fill-opacity=\"1\"/>\n",
       "<defs>\n",
       "  <clipPath id=\"clip591\">\n",
       "    <rect x=\"480\" y=\"0\" width=\"1681\" height=\"1600\"/>\n",
       "  </clipPath>\n",
       "</defs>\n",
       "<path clip-path=\"url(#clip590)\" d=\"\n",
       "M447.244 1552.76 L1952.76 1552.76 L1952.76 47.2441 L447.244 47.2441  Z\n",
       "  \" fill=\"#ffffff\" fill-rule=\"evenodd\" fill-opacity=\"1\"/>\n",
       "<defs>\n",
       "  <clipPath id=\"clip592\">\n",
       "    <rect x=\"447\" y=\"47\" width=\"1507\" height=\"1507\"/>\n",
       "  </clipPath>\n",
       "</defs>\n",
       "<polyline clip-path=\"url(#clip592)\" style=\"stroke:#000000; stroke-linecap:butt; stroke-linejoin:round; stroke-width:4; stroke-opacity:1; fill:none\" points=\"\n",
       "  1737.68,1337.68 1439.03,1039.04 \n",
       "  \"/>\n",
       "<polyline clip-path=\"url(#clip592)\" style=\"stroke:#000000; stroke-linecap:butt; stroke-linejoin:round; stroke-width:4; stroke-opacity:1; fill:none\" points=\"\n",
       "  1439.03,1039.04 1470.81,641.45 \n",
       "  \"/>\n",
       "<polyline clip-path=\"url(#clip592)\" style=\"stroke:#000000; stroke-linecap:butt; stroke-linejoin:round; stroke-width:4; stroke-opacity:1; fill:none\" points=\"\n",
       "  1439.03,1039.04 929.185,958.553 \n",
       "  \"/>\n",
       "<polyline clip-path=\"url(#clip592)\" style=\"stroke:#000000; stroke-linecap:butt; stroke-linejoin:round; stroke-width:4; stroke-opacity:1; fill:none\" points=\"\n",
       "  1470.81,641.45 960.964,560.968 \n",
       "  \"/>\n",
       "<polyline clip-path=\"url(#clip592)\" style=\"stroke:#000000; stroke-linecap:butt; stroke-linejoin:round; stroke-width:4; stroke-opacity:1; fill:none\" points=\"\n",
       "  960.964,560.968 662.317,262.317 \n",
       "  \"/>\n",
       "<polyline clip-path=\"url(#clip592)\" style=\"stroke:#000000; stroke-linecap:butt; stroke-linejoin:round; stroke-width:4; stroke-opacity:1; fill:none\" points=\"\n",
       "  960.964,560.968 929.185,958.553 \n",
       "  \"/>\n",
       "<path clip-path=\"url(#clip592)\" d=\"\n",
       "M1791.88 1337.68 L1764.78 1290.75 L1710.58 1290.75 L1683.48 1337.68 L1710.58 1384.62 L1764.78 1384.62 L1791.88 1337.68 L1791.88 1337.68  Z\n",
       "  \" fill=\"#009af9\" fill-rule=\"evenodd\" fill-opacity=\"1\"/>\n",
       "<polyline clip-path=\"url(#clip592)\" style=\"stroke:#000000; stroke-linecap:butt; stroke-linejoin:round; stroke-width:4; stroke-opacity:1; fill:none\" points=\"\n",
       "  1791.88,1337.68 1764.78,1290.75 1710.58,1290.75 1683.48,1337.68 1710.58,1384.62 1764.78,1384.62 1791.88,1337.68 \n",
       "  \"/>\n",
       "<path clip-path=\"url(#clip592)\" d=\"\n",
       "M1493.23 1039.04 L1466.13 992.098 L1411.93 992.098 L1384.83 1039.04 L1411.93 1085.97 L1466.13 1085.97 L1493.23 1039.04 L1493.23 1039.04  Z\n",
       "  \" fill=\"#009af9\" fill-rule=\"evenodd\" fill-opacity=\"1\"/>\n",
       "<polyline clip-path=\"url(#clip592)\" style=\"stroke:#000000; stroke-linecap:butt; stroke-linejoin:round; stroke-width:4; stroke-opacity:1; fill:none\" points=\"\n",
       "  1493.23,1039.04 1466.13,992.098 1411.93,992.098 1384.83,1039.04 1411.93,1085.97 1466.13,1085.97 1493.23,1039.04 \n",
       "  \"/>\n",
       "<path clip-path=\"url(#clip592)\" d=\"\n",
       "M1512.96 641.45 L1491.89 604.943 L1449.73 604.943 L1428.66 641.45 L1449.73 677.957 L1491.89 677.957 L1512.96 641.45 L1512.96 641.45  Z\n",
       "  \" fill=\"#009af9\" fill-rule=\"evenodd\" fill-opacity=\"1\"/>\n",
       "<polyline clip-path=\"url(#clip592)\" style=\"stroke:#000000; stroke-linecap:butt; stroke-linejoin:round; stroke-width:4; stroke-opacity:1; fill:none\" points=\"\n",
       "  1512.96,641.45 1491.89,604.943 1449.73,604.943 1428.66,641.45 1449.73,677.957 1491.89,677.957 1512.96,641.45 \n",
       "  \"/>\n",
       "<path clip-path=\"url(#clip592)\" d=\"\n",
       "M1015.16 560.968 L988.063 514.031 L933.865 514.031 L906.766 560.968 L933.865 607.905 L988.063 607.905 L1015.16 560.968 L1015.16 560.968  Z\n",
       "  \" fill=\"#009af9\" fill-rule=\"evenodd\" fill-opacity=\"1\"/>\n",
       "<polyline clip-path=\"url(#clip592)\" style=\"stroke:#000000; stroke-linecap:butt; stroke-linejoin:round; stroke-width:4; stroke-opacity:1; fill:none\" points=\"\n",
       "  1015.16,560.968 988.063,514.031 933.865,514.031 906.766,560.968 933.865,607.905 988.063,607.905 1015.16,560.968 \n",
       "  \"/>\n",
       "<path clip-path=\"url(#clip592)\" d=\"\n",
       "M716.516 262.317 L689.416 215.38 L635.218 215.38 L608.119 262.317 L635.218 309.254 L689.416 309.254 L716.516 262.317 L716.516 262.317  Z\n",
       "  \" fill=\"#009af9\" fill-rule=\"evenodd\" fill-opacity=\"1\"/>\n",
       "<polyline clip-path=\"url(#clip592)\" style=\"stroke:#000000; stroke-linecap:butt; stroke-linejoin:round; stroke-width:4; stroke-opacity:1; fill:none\" points=\"\n",
       "  716.516,262.317 689.416,215.38 635.218,215.38 608.119,262.317 635.218,309.254 689.416,309.254 716.516,262.317 \n",
       "  \"/>\n",
       "<path clip-path=\"url(#clip592)\" d=\"\n",
       "M959.296 958.553 L944.24 932.476 L914.13 932.476 L899.075 958.553 L914.13 984.629 L944.24 984.629 L959.296 958.553 L959.296 958.553  Z\n",
       "  \" fill=\"#009af9\" fill-rule=\"evenodd\" fill-opacity=\"1\"/>\n",
       "<polyline clip-path=\"url(#clip592)\" style=\"stroke:#000000; stroke-linecap:butt; stroke-linejoin:round; stroke-width:4; stroke-opacity:1; fill:none\" points=\"\n",
       "  959.296,958.553 944.24,932.476 914.13,932.476 899.075,958.553 914.13,984.629 944.24,984.629 959.296,958.553 \n",
       "  \"/>\n",
       "<circle clip-path=\"url(#clip592)\" style=\"fill:#009af9; stroke:none; fill-opacity:1\" cx=\"1737.68\" cy=\"1337.68\" r=\"2\"/>\n",
       "<circle clip-path=\"url(#clip592)\" style=\"fill:#009af9; stroke:none; fill-opacity:1\" cx=\"1439.03\" cy=\"1039.04\" r=\"2\"/>\n",
       "<circle clip-path=\"url(#clip592)\" style=\"fill:#009af9; stroke:none; fill-opacity:1\" cx=\"1470.81\" cy=\"641.45\" r=\"2\"/>\n",
       "<circle clip-path=\"url(#clip592)\" style=\"fill:#009af9; stroke:none; fill-opacity:1\" cx=\"960.964\" cy=\"560.968\" r=\"2\"/>\n",
       "<circle clip-path=\"url(#clip592)\" style=\"fill:#009af9; stroke:none; fill-opacity:1\" cx=\"662.317\" cy=\"262.317\" r=\"2\"/>\n",
       "<circle clip-path=\"url(#clip592)\" style=\"fill:#009af9; stroke:none; fill-opacity:1\" cx=\"929.185\" cy=\"958.553\" r=\"2\"/>\n",
       "<path clip-path=\"url(#clip590)\" d=\"M1729.27 1349.36 L1735.95 1349.36 L1735.95 1326.29 L1728.68 1327.75 L1728.68 1324.02 L1735.91 1322.56 L1740 1322.56 L1740 1349.36 L1746.69 1349.36 L1746.69 1352.8 L1729.27 1352.8 L1729.27 1349.36 Z\" fill=\"#000000\" fill-rule=\"evenodd\" fill-opacity=\"1\" /><path clip-path=\"url(#clip590)\" d=\"M1434.35 1050.71 L1448.63 1050.71 L1448.63 1054.16 L1429.43 1054.16 L1429.43 1050.71 Q1431.76 1048.3 1435.77 1044.25 Q1439.8 1040.18 1440.83 1039 Q1442.8 1036.8 1443.57 1035.28 Q1444.36 1033.74 1444.36 1032.26 Q1444.36 1029.85 1442.66 1028.33 Q1440.98 1026.81 1438.26 1026.81 Q1436.34 1026.81 1434.19 1027.48 Q1432.06 1028.15 1429.63 1029.51 L1429.63 1025.37 Q1432.1 1024.38 1434.25 1023.87 Q1436.4 1023.37 1438.18 1023.37 Q1442.88 1023.37 1445.67 1025.72 Q1448.47 1028.07 1448.47 1032 Q1448.47 1033.86 1447.76 1035.54 Q1447.07 1037.2 1445.23 1039.47 Q1444.72 1040.06 1442.01 1042.87 Q1439.29 1045.67 1434.35 1050.71 Z\" fill=\"#000000\" fill-rule=\"evenodd\" fill-opacity=\"1\" /><path clip-path=\"url(#clip590)\" d=\"M1474.53 640.265 Q1477.46 640.893 1479.1 642.878 Q1480.76 644.863 1480.76 647.78 Q1480.76 652.256 1477.69 654.707 Q1474.61 657.157 1468.94 657.157 Q1467.03 657.157 1465.01 656.773 Q1463 656.408 1460.85 655.659 L1460.85 651.709 Q1462.56 652.701 1464.58 653.208 Q1466.61 653.714 1468.81 653.714 Q1472.66 653.714 1474.67 652.195 Q1476.69 650.676 1476.69 647.78 Q1476.69 645.106 1474.81 643.607 Q1472.95 642.088 1469.6 642.088 L1466.08 642.088 L1466.08 638.726 L1469.77 638.726 Q1472.78 638.726 1474.38 637.531 Q1475.98 636.316 1475.98 634.047 Q1475.98 631.718 1474.32 630.482 Q1472.68 629.227 1469.6 629.227 Q1467.92 629.227 1466 629.591 Q1464.08 629.956 1461.77 630.725 L1461.77 627.08 Q1464.1 626.431 1466.12 626.107 Q1468.17 625.783 1469.97 625.783 Q1474.63 625.783 1477.34 627.91 Q1480.06 630.016 1480.06 633.622 Q1480.06 636.133 1478.62 637.875 Q1477.18 639.597 1474.53 640.265 Z\" fill=\"#000000\" fill-rule=\"evenodd\" fill-opacity=\"1\" /><path clip-path=\"url(#clip590)\" d=\"M963.597 549.413 L953.267 565.555 L963.597 565.555 L963.597 549.413 M962.524 545.848 L967.668 545.848 L967.668 565.555 L971.982 565.555 L971.982 568.958 L967.668 568.958 L967.668 576.088 L963.597 576.088 L963.597 568.958 L949.946 568.958 L949.946 565.009 L962.524 545.848 Z\" fill=\"#000000\" fill-rule=\"evenodd\" fill-opacity=\"1\" /><path clip-path=\"url(#clip590)\" d=\"M653.81 247.197 L669.872 247.197 L669.872 250.64 L657.557 250.64 L657.557 258.054 Q658.449 257.75 659.34 257.608 Q660.231 257.446 661.122 257.446 Q666.186 257.446 669.143 260.221 Q672.1 262.996 672.1 267.735 Q672.1 272.617 669.062 275.331 Q666.024 278.025 660.494 278.025 Q658.59 278.025 656.605 277.701 Q654.641 277.376 652.534 276.728 L652.534 272.617 Q654.357 273.609 656.302 274.095 Q658.246 274.581 660.413 274.581 Q663.917 274.581 665.963 272.738 Q668.009 270.895 668.009 267.735 Q668.009 264.576 665.963 262.732 Q663.917 260.889 660.413 260.889 Q658.773 260.889 657.132 261.254 Q655.512 261.618 653.81 262.388 L653.81 247.197 Z\" fill=\"#000000\" fill-rule=\"evenodd\" fill-opacity=\"1\" /><path clip-path=\"url(#clip590)\" d=\"M929.54 956.922 Q926.785 956.922 925.165 958.806 Q923.565 960.69 923.565 963.971 Q923.565 967.232 925.165 969.136 Q926.785 971.019 929.54 971.019 Q932.294 971.019 933.894 969.136 Q935.515 967.232 935.515 963.971 Q935.515 960.69 933.894 958.806 Q932.294 956.922 929.54 956.922 M937.662 944.101 L937.662 947.828 Q936.122 947.099 934.543 946.714 Q932.983 946.329 931.444 946.329 Q927.393 946.329 925.246 949.063 Q923.119 951.798 922.815 957.327 Q924.01 955.565 925.813 954.633 Q927.616 953.681 929.783 953.681 Q934.34 953.681 936.973 956.456 Q939.626 959.211 939.626 963.971 Q939.626 968.629 936.872 971.445 Q934.117 974.26 929.54 974.26 Q924.294 974.26 921.519 970.25 Q918.744 966.219 918.744 958.583 Q918.744 951.413 922.147 947.16 Q925.55 942.886 931.282 942.886 Q932.821 942.886 934.381 943.19 Q935.96 943.493 937.662 944.101 Z\" fill=\"#000000\" fill-rule=\"evenodd\" fill-opacity=\"1\" /></svg>\n"
      ]
     },
     "execution_count": 102,
     "metadata": {},
     "output_type": "execute_result"
    }
   ],
   "source": [
    "g = MetaGraphs.MetaGraph(Graphs.SimpleGraph(6))\n",
    "vertex_weights = [\n",
    "    1 => 3,\n",
    "    2 => 3,\n",
    "    3 => 2,\n",
    "    4 => 3,\n",
    "    5 => 3,\n",
    "    6 => 1\n",
    "]\n",
    "for (vertex, weight) in vertex_weights\n",
    "    MetaGraphs.set_prop!(g, vertex, :weight, weight)\n",
    "end\n",
    "\n",
    "# primary path\n",
    "Graphs.add_edge!(g, 1, 2); \n",
    "Graphs.add_edge!(g, 2, 3)\n",
    "Graphs.add_edge!(g, 3, 4)\n",
    "Graphs.add_edge!(g, 4, 5)\n",
    "\n",
    "# alternate path\n",
    "Graphs.add_edge!(g, 2, 6)\n",
    "Graphs.add_edge!(g, 6, 4)\n",
    "\n",
    "GraphRecipes.graphplot(\n",
    "    g,\n",
    "    curves=false,\n",
    "    names=collect(Graphs.vertices(g)),\n",
    "    node_weights=map(v -> g.vprops[v][:weight], Graphs.vertices(g)),\n",
    "    nodesize=1/5\n",
    ")"
   ]
  },
  {
   "cell_type": "markdown",
   "metadata": {},
   "source": [
    "By default, we have a path that goes through the lowest frequency node"
   ]
  },
  {
   "cell_type": "code",
   "execution_count": 104,
   "metadata": {},
   "outputs": [
    {
     "data": {
      "image/svg+xml": [
       "<?xml version=\"1.0\" encoding=\"utf-8\"?>\n",
       "<svg xmlns=\"http://www.w3.org/2000/svg\" xmlns:xlink=\"http://www.w3.org/1999/xlink\" width=\"600\" height=\"400\" viewBox=\"0 0 2400 1600\">\n",
       "<defs>\n",
       "  <clipPath id=\"clip620\">\n",
       "    <rect x=\"0\" y=\"0\" width=\"2400\" height=\"1600\"/>\n",
       "  </clipPath>\n",
       "</defs>\n",
       "<path clip-path=\"url(#clip620)\" d=\"\n",
       "M0 1600 L2400 1600 L2400 0 L0 0  Z\n",
       "  \" fill=\"#ffffff\" fill-rule=\"evenodd\" fill-opacity=\"1\"/>\n",
       "<defs>\n",
       "  <clipPath id=\"clip621\">\n",
       "    <rect x=\"480\" y=\"0\" width=\"1681\" height=\"1600\"/>\n",
       "  </clipPath>\n",
       "</defs>\n",
       "<path clip-path=\"url(#clip620)\" d=\"\n",
       "M447.244 1552.76 L1952.76 1552.76 L1952.76 47.2441 L447.244 47.2441  Z\n",
       "  \" fill=\"#ffffff\" fill-rule=\"evenodd\" fill-opacity=\"1\"/>\n",
       "<defs>\n",
       "  <clipPath id=\"clip622\">\n",
       "    <rect x=\"447\" y=\"47\" width=\"1507\" height=\"1507\"/>\n",
       "  </clipPath>\n",
       "</defs>\n",
       "<polyline clip-path=\"url(#clip622)\" style=\"stroke:#000000; stroke-linecap:butt; stroke-linejoin:round; stroke-width:4; stroke-opacity:1; fill:none\" points=\"\n",
       "  662.317,1049.62 960.972,911.007 \n",
       "  \"/>\n",
       "<polyline clip-path=\"url(#clip622)\" style=\"stroke:#000000; stroke-linecap:butt; stroke-linejoin:round; stroke-width:4; stroke-opacity:1; fill:none\" points=\"\n",
       "  960.972,911.007 1162.92,262.317 \n",
       "  \"/>\n",
       "<polyline clip-path=\"url(#clip622)\" style=\"stroke:#000000; stroke-linecap:butt; stroke-linejoin:round; stroke-width:4; stroke-opacity:1; fill:none\" points=\"\n",
       "  960.972,911.007 1237.09,1337.68 \n",
       "  \"/>\n",
       "<polyline clip-path=\"url(#clip622)\" style=\"stroke:#000000; stroke-linecap:butt; stroke-linejoin:round; stroke-width:4; stroke-opacity:1; fill:none\" points=\"\n",
       "  1162.92,262.317 1439.04,688.998 \n",
       "  \"/>\n",
       "<polyline clip-path=\"url(#clip622)\" style=\"stroke:#000000; stroke-linecap:butt; stroke-linejoin:round; stroke-width:4; stroke-opacity:1; fill:none\" points=\"\n",
       "  1439.04,688.998 1737.68,550.24 \n",
       "  \"/>\n",
       "<polyline clip-path=\"url(#clip622)\" style=\"stroke:#000000; stroke-linecap:butt; stroke-linejoin:round; stroke-width:4; stroke-opacity:1; fill:none\" points=\"\n",
       "  1439.04,688.998 1237.09,1337.68 \n",
       "  \"/>\n",
       "<path clip-path=\"url(#clip622)\" d=\"\n",
       "M716.516 1049.62 L689.416 1002.68 L635.218 1002.68 L608.119 1049.62 L635.218 1096.56 L689.416 1096.56 L716.516 1049.62 L716.516 1049.62  Z\n",
       "  \" fill=\"#ff0000\" fill-rule=\"evenodd\" fill-opacity=\"1\"/>\n",
       "<polyline clip-path=\"url(#clip622)\" style=\"stroke:#000000; stroke-linecap:butt; stroke-linejoin:round; stroke-width:4; stroke-opacity:1; fill:none\" points=\"\n",
       "  716.516,1049.62 689.416,1002.68 635.218,1002.68 608.119,1049.62 635.218,1096.56 689.416,1096.56 716.516,1049.62 \n",
       "  \"/>\n",
       "<path clip-path=\"url(#clip622)\" d=\"\n",
       "M1015.17 911.007 L988.071 864.07 L933.872 864.07 L906.773 911.007 L933.872 957.944 L988.071 957.944 L1015.17 911.007 L1015.17 911.007  Z\n",
       "  \" fill=\"#ff0000\" fill-rule=\"evenodd\" fill-opacity=\"1\"/>\n",
       "<polyline clip-path=\"url(#clip622)\" style=\"stroke:#000000; stroke-linecap:butt; stroke-linejoin:round; stroke-width:4; stroke-opacity:1; fill:none\" points=\"\n",
       "  1015.17,911.007 988.071,864.07 933.872,864.07 906.773,911.007 933.872,957.944 988.071,957.944 1015.17,911.007 \n",
       "  \"/>\n",
       "<path clip-path=\"url(#clip622)\" d=\"\n",
       "M1205.07 262.317 L1184 225.81 L1141.84 225.81 L1120.77 262.317 L1141.84 298.824 L1184 298.824 L1205.07 262.317 L1205.07 262.317  Z\n",
       "  \" fill=\"#0000ff\" fill-rule=\"evenodd\" fill-opacity=\"1\"/>\n",
       "<polyline clip-path=\"url(#clip622)\" style=\"stroke:#000000; stroke-linecap:butt; stroke-linejoin:round; stroke-width:4; stroke-opacity:1; fill:none\" points=\"\n",
       "  1205.07,262.317 1184,225.81 1141.84,225.81 1120.77,262.317 1141.84,298.824 1184,298.824 1205.07,262.317 \n",
       "  \"/>\n",
       "<path clip-path=\"url(#clip622)\" d=\"\n",
       "M1493.24 688.998 L1466.14 642.061 L1411.94 642.061 L1384.84 688.998 L1411.94 735.935 L1466.14 735.935 L1493.24 688.998 L1493.24 688.998  Z\n",
       "  \" fill=\"#ff0000\" fill-rule=\"evenodd\" fill-opacity=\"1\"/>\n",
       "<polyline clip-path=\"url(#clip622)\" style=\"stroke:#000000; stroke-linecap:butt; stroke-linejoin:round; stroke-width:4; stroke-opacity:1; fill:none\" points=\"\n",
       "  1493.24,688.998 1466.14,642.061 1411.94,642.061 1384.84,688.998 1411.94,735.935 1466.14,735.935 1493.24,688.998 \n",
       "  \"/>\n",
       "<path clip-path=\"url(#clip622)\" d=\"\n",
       "M1791.88 550.24 L1764.78 503.303 L1710.58 503.303 L1683.48 550.24 L1710.58 597.178 L1764.78 597.178 L1791.88 550.24 L1791.88 550.24  Z\n",
       "  \" fill=\"#ff0000\" fill-rule=\"evenodd\" fill-opacity=\"1\"/>\n",
       "<polyline clip-path=\"url(#clip622)\" style=\"stroke:#000000; stroke-linecap:butt; stroke-linejoin:round; stroke-width:4; stroke-opacity:1; fill:none\" points=\"\n",
       "  1791.88,550.24 1764.78,503.303 1710.58,503.303 1683.48,550.24 1710.58,597.178 1764.78,597.178 1791.88,550.24 \n",
       "  \"/>\n",
       "<path clip-path=\"url(#clip622)\" d=\"\n",
       "M1267.2 1337.68 L1252.14 1311.61 L1222.03 1311.61 L1206.98 1337.68 L1222.03 1363.76 L1252.14 1363.76 L1267.2 1337.68 L1267.2 1337.68  Z\n",
       "  \" fill=\"#ff0000\" fill-rule=\"evenodd\" fill-opacity=\"1\"/>\n",
       "<polyline clip-path=\"url(#clip622)\" style=\"stroke:#000000; stroke-linecap:butt; stroke-linejoin:round; stroke-width:4; stroke-opacity:1; fill:none\" points=\"\n",
       "  1267.2,1337.68 1252.14,1311.61 1222.03,1311.61 1206.98,1337.68 1222.03,1363.76 1252.14,1363.76 1267.2,1337.68 \n",
       "  \"/>\n",
       "<circle clip-path=\"url(#clip622)\" style=\"fill:#ff0000; stroke:none; fill-opacity:1\" cx=\"662.317\" cy=\"1049.62\" r=\"2\"/>\n",
       "<circle clip-path=\"url(#clip622)\" style=\"fill:#ff0000; stroke:none; fill-opacity:1\" cx=\"960.972\" cy=\"911.007\" r=\"2\"/>\n",
       "<circle clip-path=\"url(#clip622)\" style=\"fill:#ff0000; stroke:none; fill-opacity:1\" cx=\"1162.92\" cy=\"262.317\" r=\"2\"/>\n",
       "<circle clip-path=\"url(#clip622)\" style=\"fill:#ff0000; stroke:none; fill-opacity:1\" cx=\"1439.04\" cy=\"688.998\" r=\"2\"/>\n",
       "<circle clip-path=\"url(#clip622)\" style=\"fill:#ff0000; stroke:none; fill-opacity:1\" cx=\"1737.68\" cy=\"550.24\" r=\"2\"/>\n",
       "<circle clip-path=\"url(#clip622)\" style=\"fill:#ff0000; stroke:none; fill-opacity:1\" cx=\"1237.09\" cy=\"1337.68\" r=\"2\"/>\n",
       "<path clip-path=\"url(#clip620)\" d=\"M653.901 1061.3 L660.585 1061.3 L660.585 1038.23 L653.314 1039.69 L653.314 1035.96 L660.545 1034.5 L664.636 1034.5 L664.636 1061.3 L671.32 1061.3 L671.32 1064.74 L653.901 1064.74 L653.901 1061.3 Z\" fill=\"#000000\" fill-rule=\"evenodd\" fill-opacity=\"1\" /><path clip-path=\"url(#clip620)\" d=\"M956.293 922.684 L970.572 922.684 L970.572 926.127 L951.371 926.127 L951.371 922.684 Q953.7 920.273 957.711 916.223 Q961.741 912.151 962.774 910.977 Q964.739 908.769 965.509 907.25 Q966.299 905.71 966.299 904.232 Q966.299 901.822 964.597 900.302 Q962.916 898.783 960.202 898.783 Q958.278 898.783 956.131 899.452 Q954.004 900.12 951.573 901.477 L951.573 897.345 Q954.045 896.353 956.192 895.846 Q958.338 895.34 960.121 895.34 Q964.82 895.34 967.615 897.69 Q970.41 900.039 970.41 903.969 Q970.41 905.832 969.701 907.513 Q969.013 909.174 967.169 911.442 Q966.663 912.03 963.949 914.845 Q961.235 917.64 956.293 922.684 Z\" fill=\"#000000\" fill-rule=\"evenodd\" fill-opacity=\"1\" /><path clip-path=\"url(#clip620)\" d=\"M1166.64 261.132 Q1169.57 261.76 1171.21 263.745 Q1172.88 265.73 1172.88 268.647 Q1172.88 273.123 1169.8 275.574 Q1166.72 278.025 1161.05 278.025 Q1159.14 278.025 1157.12 277.64 Q1155.11 277.275 1152.97 276.526 L1152.97 272.576 Q1154.67 273.569 1156.69 274.075 Q1158.72 274.581 1160.93 274.581 Q1164.77 274.581 1166.78 273.062 Q1168.8 271.543 1168.8 268.647 Q1168.8 265.973 1166.92 264.474 Q1165.06 262.955 1161.72 262.955 L1158.19 262.955 L1158.19 259.593 L1161.88 259.593 Q1164.9 259.593 1166.5 258.398 Q1168.1 257.183 1168.1 254.914 Q1168.1 252.585 1166.43 251.349 Q1164.79 250.094 1161.72 250.094 Q1160.03 250.094 1158.11 250.458 Q1156.19 250.823 1153.88 251.592 L1153.88 247.947 Q1156.21 247.298 1158.23 246.974 Q1160.28 246.65 1162.08 246.65 Q1166.74 246.65 1169.45 248.777 Q1172.17 250.884 1172.17 254.489 Q1172.17 257 1170.73 258.742 Q1169.29 260.464 1166.64 261.132 Z\" fill=\"#000000\" fill-rule=\"evenodd\" fill-opacity=\"1\" /><path clip-path=\"url(#clip620)\" d=\"M1441.67 677.443 L1431.34 693.586 L1441.67 693.586 L1441.67 677.443 M1440.6 673.878 L1445.74 673.878 L1445.74 693.586 L1450.06 693.586 L1450.06 696.988 L1445.74 696.988 L1445.74 704.118 L1441.67 704.118 L1441.67 696.988 L1428.02 696.988 L1428.02 693.039 L1440.6 673.878 Z\" fill=\"#000000\" fill-rule=\"evenodd\" fill-opacity=\"1\" /><path clip-path=\"url(#clip620)\" d=\"M1729.18 535.12 L1745.24 535.12 L1745.24 538.564 L1732.92 538.564 L1732.92 545.977 Q1733.81 545.673 1734.71 545.531 Q1735.6 545.369 1736.49 545.369 Q1741.55 545.369 1744.51 548.144 Q1747.47 550.919 1747.47 555.659 Q1747.47 560.54 1744.43 563.254 Q1741.39 565.948 1735.86 565.948 Q1733.96 565.948 1731.97 565.624 Q1730.01 565.3 1727.9 564.652 L1727.9 560.54 Q1729.72 561.532 1731.67 562.018 Q1733.61 562.505 1735.78 562.505 Q1739.28 562.505 1741.33 560.661 Q1743.37 558.818 1743.37 555.659 Q1743.37 552.499 1741.33 550.656 Q1739.28 548.813 1735.78 548.813 Q1734.14 548.813 1732.5 549.177 Q1730.88 549.542 1729.18 550.311 L1729.18 535.12 Z\" fill=\"#000000\" fill-rule=\"evenodd\" fill-opacity=\"1\" /><path clip-path=\"url(#clip620)\" d=\"M1237.44 1336.05 Q1234.69 1336.05 1233.07 1337.94 Q1231.47 1339.82 1231.47 1343.1 Q1231.47 1346.36 1233.07 1348.27 Q1234.69 1350.15 1237.44 1350.15 Q1240.2 1350.15 1241.8 1348.27 Q1243.42 1346.36 1243.42 1343.1 Q1243.42 1339.82 1241.8 1337.94 Q1240.2 1336.05 1237.44 1336.05 M1245.57 1323.23 L1245.57 1326.96 Q1244.03 1326.23 1242.45 1325.84 Q1240.89 1325.46 1239.35 1325.46 Q1235.3 1325.46 1233.15 1328.19 Q1231.02 1330.93 1230.72 1336.46 Q1231.91 1334.7 1233.72 1333.76 Q1235.52 1332.81 1237.69 1332.81 Q1242.24 1332.81 1244.88 1335.59 Q1247.53 1338.34 1247.53 1343.1 Q1247.53 1347.76 1244.78 1350.57 Q1242.02 1353.39 1237.44 1353.39 Q1232.2 1353.39 1229.42 1349.38 Q1226.65 1345.35 1226.65 1337.71 Q1226.65 1330.54 1230.05 1326.29 Q1233.45 1322.02 1239.19 1322.02 Q1240.72 1322.02 1242.28 1322.32 Q1243.86 1322.62 1245.57 1323.23 Z\" fill=\"#000000\" fill-rule=\"evenodd\" fill-opacity=\"1\" /></svg>\n"
      ]
     },
     "execution_count": 104,
     "metadata": {},
     "output_type": "execute_result"
    }
   ],
   "source": [
    "path = [1, 2, 6, 4, 5]\n",
    "markercolor = [v in path ? :red : :blue for v in Graphs.vertices(g)]\n",
    "\n",
    "GraphRecipes.graphplot(\n",
    "    g,\n",
    "    curves=false,\n",
    "    names=collect(Graphs.vertices(g)),\n",
    "    node_weights=map(v -> g.vprops[v][:weight], Graphs.vertices(g)),\n",
    "    nodesize=1/5,\n",
    "    markercolor = markercolor\n",
    ")"
   ]
  },
  {
   "cell_type": "markdown",
   "metadata": {},
   "source": [
    "Now, let's say that we want to re-route around node 6"
   ]
  },
  {
   "cell_type": "markdown",
   "metadata": {},
   "source": [
    "Here we define a distance matrix where `distance = 1 / mean(weight_v1, weight_v2)`\n",
    "\n",
    "This enables use to maximize relative likelihood by minimizing distance such that shortest path algorithms will now find the maximum likelihood paths."
   ]
  },
  {
   "cell_type": "code",
   "execution_count": 105,
   "metadata": {},
   "outputs": [
    {
     "data": {
      "text/plain": [
       "6×6 Matrix{Float64}:\n",
       " 0.333333  0.333333  0.4       0.333333  0.333333  0.5\n",
       " 0.333333  0.333333  0.4       0.333333  0.333333  0.5\n",
       " 0.4       0.4       0.5       0.4       0.4       0.666667\n",
       " 0.333333  0.333333  0.4       0.333333  0.333333  0.5\n",
       " 0.333333  0.333333  0.4       0.333333  0.333333  0.5\n",
       " 0.5       0.5       0.666667  0.5       0.5       1.0"
      ]
     },
     "execution_count": 105,
     "metadata": {},
     "output_type": "execute_result"
    }
   ],
   "source": [
    "distance_matrix = ones(Graphs.nv(g), Graphs.nv(g))\n",
    "for v1 in Graphs.vertices(g)\n",
    "    weight_1 = g.vprops[v1][:weight]\n",
    "    for v2 in Graphs.vertices(g)\n",
    "        weight_2 = g.vprops[v2][:weight]\n",
    "        distance_matrix[v1, v2] = 1 / Statistics.mean((weight_1, weight_2))\n",
    "    end\n",
    "end\n",
    "distance_matrix"
   ]
  },
  {
   "cell_type": "markdown",
   "metadata": {},
   "source": [
    "To force-rerouting around 6, we'll set the distance from all nodes to 6 to infinity"
   ]
  },
  {
   "cell_type": "code",
   "execution_count": 106,
   "metadata": {},
   "outputs": [
    {
     "data": {
      "text/plain": [
       "6×6 Matrix{Float64}:\n",
       "  0.333333   0.333333   0.4   0.333333   0.333333  Inf\n",
       "  0.333333   0.333333   0.4   0.333333   0.333333  Inf\n",
       "  0.4        0.4        0.5   0.4        0.4       Inf\n",
       "  0.333333   0.333333   0.4   0.333333   0.333333  Inf\n",
       "  0.333333   0.333333   0.4   0.333333   0.333333  Inf\n",
       " Inf        Inf        Inf   Inf        Inf        Inf"
      ]
     },
     "execution_count": 106,
     "metadata": {},
     "output_type": "execute_result"
    }
   ],
   "source": [
    "distance_matrix[6, :] .= Inf\n",
    "distance_matrix[:, 6] .= Inf\n",
    "distance_matrix"
   ]
  },
  {
   "cell_type": "code",
   "execution_count": 107,
   "metadata": {},
   "outputs": [
    {
     "name": "stdout",
     "output_type": "stream",
     "text": [
      "  0.000193 seconds (256 allocations: 27.531 KiB)\n"
     ]
    },
    {
     "data": {
      "text/plain": [
       "5-element Vector{Int64}:\n",
       " 1\n",
       " 2\n",
       " 3\n",
       " 4\n",
       " 5"
      ]
     },
     "execution_count": 107,
     "metadata": {},
     "output_type": "execute_result"
    }
   ],
   "source": [
    "source = 1\n",
    "target = 5\n",
    "\n",
    "# @time a_star_path = Graphs.a_star(g, source, target, distance_matrix)\n",
    "# a_star_shortest_path = vcat(a_star_path[1].src, map(e -> e.dst, a_star_path)...)\n",
    "\n",
    "@time yen_k = Graphs.yen_k_shortest_paths(g, source, target, distance_matrix, 2)\n",
    "alt_path = yen_k.paths[1]"
   ]
  },
  {
   "cell_type": "code",
   "execution_count": 108,
   "metadata": {},
   "outputs": [
    {
     "data": {
      "image/svg+xml": [
       "<?xml version=\"1.0\" encoding=\"utf-8\"?>\n",
       "<svg xmlns=\"http://www.w3.org/2000/svg\" xmlns:xlink=\"http://www.w3.org/1999/xlink\" width=\"600\" height=\"400\" viewBox=\"0 0 2400 1600\">\n",
       "<defs>\n",
       "  <clipPath id=\"clip650\">\n",
       "    <rect x=\"0\" y=\"0\" width=\"2400\" height=\"1600\"/>\n",
       "  </clipPath>\n",
       "</defs>\n",
       "<path clip-path=\"url(#clip650)\" d=\"\n",
       "M0 1600 L2400 1600 L2400 0 L0 0  Z\n",
       "  \" fill=\"#ffffff\" fill-rule=\"evenodd\" fill-opacity=\"1\"/>\n",
       "<defs>\n",
       "  <clipPath id=\"clip651\">\n",
       "    <rect x=\"480\" y=\"0\" width=\"1681\" height=\"1600\"/>\n",
       "  </clipPath>\n",
       "</defs>\n",
       "<path clip-path=\"url(#clip650)\" d=\"\n",
       "M447.244 1552.76 L1952.76 1552.76 L1952.76 47.2441 L447.244 47.2441  Z\n",
       "  \" fill=\"#ffffff\" fill-rule=\"evenodd\" fill-opacity=\"1\"/>\n",
       "<defs>\n",
       "  <clipPath id=\"clip652\">\n",
       "    <rect x=\"447\" y=\"47\" width=\"1507\" height=\"1507\"/>\n",
       "  </clipPath>\n",
       "</defs>\n",
       "<polyline clip-path=\"url(#clip652)\" style=\"stroke:#000000; stroke-linecap:butt; stroke-linejoin:round; stroke-width:4; stroke-opacity:1; fill:none\" points=\"\n",
       "  1737.68,1108.71 1439.03,937.26 \n",
       "  \"/>\n",
       "<polyline clip-path=\"url(#clip652)\" style=\"stroke:#000000; stroke-linecap:butt; stroke-linejoin:round; stroke-width:4; stroke-opacity:1; fill:none\" points=\"\n",
       "  1439.03,937.26 1154.14,1337.68 \n",
       "  \"/>\n",
       "<polyline clip-path=\"url(#clip652)\" style=\"stroke:#000000; stroke-linecap:butt; stroke-linejoin:round; stroke-width:4; stroke-opacity:1; fill:none\" points=\"\n",
       "  1439.03,937.26 1245.85,262.317 \n",
       "  \"/>\n",
       "<polyline clip-path=\"url(#clip652)\" style=\"stroke:#000000; stroke-linecap:butt; stroke-linejoin:round; stroke-width:4; stroke-opacity:1; fill:none\" points=\"\n",
       "  1154.14,1337.68 960.963,662.743 \n",
       "  \"/>\n",
       "<polyline clip-path=\"url(#clip652)\" style=\"stroke:#000000; stroke-linecap:butt; stroke-linejoin:round; stroke-width:4; stroke-opacity:1; fill:none\" points=\"\n",
       "  960.963,662.743 662.317,491.215 \n",
       "  \"/>\n",
       "<polyline clip-path=\"url(#clip652)\" style=\"stroke:#000000; stroke-linecap:butt; stroke-linejoin:round; stroke-width:4; stroke-opacity:1; fill:none\" points=\"\n",
       "  960.963,662.743 1245.85,262.317 \n",
       "  \"/>\n",
       "<path clip-path=\"url(#clip652)\" d=\"\n",
       "M1791.88 1108.71 L1764.78 1061.77 L1710.58 1061.77 L1683.48 1108.71 L1710.58 1155.65 L1764.78 1155.65 L1791.88 1108.71 L1791.88 1108.71  Z\n",
       "  \" fill=\"#008000\" fill-rule=\"evenodd\" fill-opacity=\"1\"/>\n",
       "<polyline clip-path=\"url(#clip652)\" style=\"stroke:#000000; stroke-linecap:butt; stroke-linejoin:round; stroke-width:4; stroke-opacity:1; fill:none\" points=\"\n",
       "  1791.88,1108.71 1764.78,1061.77 1710.58,1061.77 1683.48,1108.71 1710.58,1155.65 1764.78,1155.65 1791.88,1108.71 \n",
       "  \"/>\n",
       "<path clip-path=\"url(#clip652)\" d=\"\n",
       "M1493.23 937.26 L1466.13 890.323 L1411.93 890.323 L1384.83 937.26 L1411.93 984.197 L1466.13 984.197 L1493.23 937.26 L1493.23 937.26  Z\n",
       "  \" fill=\"#008000\" fill-rule=\"evenodd\" fill-opacity=\"1\"/>\n",
       "<polyline clip-path=\"url(#clip652)\" style=\"stroke:#000000; stroke-linecap:butt; stroke-linejoin:round; stroke-width:4; stroke-opacity:1; fill:none\" points=\"\n",
       "  1493.23,937.26 1466.13,890.323 1411.93,890.323 1384.83,937.26 1411.93,984.197 1466.13,984.197 1493.23,937.26 \n",
       "  \"/>\n",
       "<path clip-path=\"url(#clip652)\" d=\"\n",
       "M1196.3 1337.68 L1175.22 1301.18 L1133.06 1301.18 L1111.99 1337.68 L1133.06 1374.19 L1175.22 1374.19 L1196.3 1337.68 L1196.3 1337.68  Z\n",
       "  \" fill=\"#008000\" fill-rule=\"evenodd\" fill-opacity=\"1\"/>\n",
       "<polyline clip-path=\"url(#clip652)\" style=\"stroke:#000000; stroke-linecap:butt; stroke-linejoin:round; stroke-width:4; stroke-opacity:1; fill:none\" points=\"\n",
       "  1196.3,1337.68 1175.22,1301.18 1133.06,1301.18 1111.99,1337.68 1133.06,1374.19 1175.22,1374.19 1196.3,1337.68 \n",
       "  \"/>\n",
       "<path clip-path=\"url(#clip652)\" d=\"\n",
       "M1015.16 662.743 L988.062 615.805 L933.864 615.805 L906.765 662.743 L933.864 709.68 L988.062 709.68 L1015.16 662.743 L1015.16 662.743  Z\n",
       "  \" fill=\"#008000\" fill-rule=\"evenodd\" fill-opacity=\"1\"/>\n",
       "<polyline clip-path=\"url(#clip652)\" style=\"stroke:#000000; stroke-linecap:butt; stroke-linejoin:round; stroke-width:4; stroke-opacity:1; fill:none\" points=\"\n",
       "  1015.16,662.743 988.062,615.805 933.864,615.805 906.765,662.743 933.864,709.68 988.062,709.68 1015.16,662.743 \n",
       "  \"/>\n",
       "<path clip-path=\"url(#clip652)\" d=\"\n",
       "M716.516 491.215 L689.416 444.278 L635.218 444.278 L608.119 491.215 L635.218 538.153 L689.416 538.153 L716.516 491.215 L716.516 491.215  Z\n",
       "  \" fill=\"#008000\" fill-rule=\"evenodd\" fill-opacity=\"1\"/>\n",
       "<polyline clip-path=\"url(#clip652)\" style=\"stroke:#000000; stroke-linecap:butt; stroke-linejoin:round; stroke-width:4; stroke-opacity:1; fill:none\" points=\"\n",
       "  716.516,491.215 689.416,444.278 635.218,444.278 608.119,491.215 635.218,538.153 689.416,538.153 716.516,491.215 \n",
       "  \"/>\n",
       "<path clip-path=\"url(#clip652)\" d=\"\n",
       "M1275.96 262.317 L1260.91 236.241 L1230.8 236.241 L1215.74 262.317 L1230.8 288.393 L1260.91 288.393 L1275.96 262.317 L1275.96 262.317  Z\n",
       "  \" fill=\"#ff0000\" fill-rule=\"evenodd\" fill-opacity=\"1\"/>\n",
       "<polyline clip-path=\"url(#clip652)\" style=\"stroke:#000000; stroke-linecap:butt; stroke-linejoin:round; stroke-width:4; stroke-opacity:1; fill:none\" points=\"\n",
       "  1275.96,262.317 1260.91,236.241 1230.8,236.241 1215.74,262.317 1230.8,288.393 1260.91,288.393 1275.96,262.317 \n",
       "  \"/>\n",
       "<circle clip-path=\"url(#clip652)\" style=\"fill:#008000; stroke:none; fill-opacity:1\" cx=\"1737.68\" cy=\"1108.71\" r=\"2\"/>\n",
       "<circle clip-path=\"url(#clip652)\" style=\"fill:#008000; stroke:none; fill-opacity:1\" cx=\"1439.03\" cy=\"937.26\" r=\"2\"/>\n",
       "<circle clip-path=\"url(#clip652)\" style=\"fill:#008000; stroke:none; fill-opacity:1\" cx=\"1154.14\" cy=\"1337.68\" r=\"2\"/>\n",
       "<circle clip-path=\"url(#clip652)\" style=\"fill:#008000; stroke:none; fill-opacity:1\" cx=\"960.963\" cy=\"662.743\" r=\"2\"/>\n",
       "<circle clip-path=\"url(#clip652)\" style=\"fill:#008000; stroke:none; fill-opacity:1\" cx=\"662.317\" cy=\"491.215\" r=\"2\"/>\n",
       "<circle clip-path=\"url(#clip652)\" style=\"fill:#008000; stroke:none; fill-opacity:1\" cx=\"1245.85\" cy=\"262.317\" r=\"2\"/>\n",
       "<path clip-path=\"url(#clip650)\" d=\"M1729.27 1120.39 L1735.95 1120.39 L1735.95 1097.32 L1728.68 1098.78 L1728.68 1095.05 L1735.91 1093.59 L1740 1093.59 L1740 1120.39 L1746.69 1120.39 L1746.69 1123.83 L1729.27 1123.83 L1729.27 1120.39 Z\" fill=\"#000000\" fill-rule=\"evenodd\" fill-opacity=\"1\" /><path clip-path=\"url(#clip650)\" d=\"M1434.35 948.937 L1448.63 948.937 L1448.63 952.38 L1429.43 952.38 L1429.43 948.937 Q1431.76 946.526 1435.77 942.475 Q1439.8 938.404 1440.83 937.229 Q1442.8 935.022 1443.57 933.503 Q1444.36 931.963 1444.36 930.485 Q1444.36 928.074 1442.66 926.555 Q1440.97 925.036 1438.26 925.036 Q1436.34 925.036 1434.19 925.705 Q1432.06 926.373 1429.63 927.73 L1429.63 923.598 Q1432.1 922.606 1434.25 922.099 Q1436.4 921.593 1438.18 921.593 Q1442.88 921.593 1445.67 923.942 Q1448.47 926.292 1448.47 930.221 Q1448.47 932.085 1447.76 933.766 Q1447.07 935.427 1445.23 937.695 Q1444.72 938.283 1442.01 941.098 Q1439.29 943.893 1434.35 948.937 Z\" fill=\"#000000\" fill-rule=\"evenodd\" fill-opacity=\"1\" /><path clip-path=\"url(#clip650)\" d=\"M1157.86 1336.5 Q1160.79 1337.13 1162.44 1339.11 Q1164.1 1341.1 1164.1 1344.01 Q1164.1 1348.49 1161.02 1350.94 Q1157.94 1353.39 1152.27 1353.39 Q1150.36 1353.39 1148.34 1353.01 Q1146.33 1352.64 1144.19 1351.89 L1144.19 1347.94 Q1145.89 1348.93 1147.91 1349.44 Q1149.94 1349.95 1152.15 1349.95 Q1155.99 1349.95 1158 1348.43 Q1160.03 1346.91 1160.03 1344.01 Q1160.03 1341.34 1158.14 1339.84 Q1156.28 1338.32 1152.94 1338.32 L1149.41 1338.32 L1149.41 1334.96 L1153.1 1334.96 Q1156.12 1334.96 1157.72 1333.76 Q1159.32 1332.55 1159.32 1330.28 Q1159.32 1327.95 1157.66 1326.71 Q1156.01 1325.46 1152.94 1325.46 Q1151.25 1325.46 1149.33 1325.82 Q1147.41 1326.19 1145.1 1326.96 L1145.1 1323.31 Q1147.43 1322.66 1149.45 1322.34 Q1151.5 1322.02 1153.3 1322.02 Q1157.96 1322.02 1160.67 1324.14 Q1163.39 1326.25 1163.39 1329.85 Q1163.39 1332.37 1161.95 1334.11 Q1160.51 1335.83 1157.86 1336.5 Z\" fill=\"#000000\" fill-rule=\"evenodd\" fill-opacity=\"1\" /><path clip-path=\"url(#clip650)\" d=\"M963.596 651.187 L953.267 667.33 L963.596 667.33 L963.596 651.187 M962.523 647.623 L967.667 647.623 L967.667 667.33 L971.982 667.33 L971.982 670.733 L967.667 670.733 L967.667 677.863 L963.596 677.863 L963.596 670.733 L949.945 670.733 L949.945 666.783 L962.523 647.623 Z\" fill=\"#000000\" fill-rule=\"evenodd\" fill-opacity=\"1\" /><path clip-path=\"url(#clip650)\" d=\"M653.81 476.095 L669.872 476.095 L669.872 479.539 L657.557 479.539 L657.557 486.952 Q658.449 486.648 659.34 486.506 Q660.231 486.344 661.122 486.344 Q666.186 486.344 669.143 489.119 Q672.1 491.894 672.1 496.634 Q672.1 501.515 669.062 504.229 Q666.024 506.923 660.494 506.923 Q658.59 506.923 656.605 506.599 Q654.641 506.275 652.534 505.627 L652.534 501.515 Q654.357 502.507 656.302 502.993 Q658.246 503.48 660.413 503.48 Q663.917 503.48 665.963 501.636 Q668.009 499.793 668.009 496.634 Q668.009 493.474 665.963 491.631 Q663.917 489.788 660.413 489.788 Q658.773 489.788 657.132 490.152 Q655.512 490.517 653.81 491.286 L653.81 476.095 Z\" fill=\"#000000\" fill-rule=\"evenodd\" fill-opacity=\"1\" /><path clip-path=\"url(#clip650)\" d=\"M1246.21 260.687 Q1243.45 260.687 1241.83 262.57 Q1240.23 264.454 1240.23 267.735 Q1240.23 270.996 1241.83 272.9 Q1243.45 274.784 1246.21 274.784 Q1248.96 274.784 1250.56 272.9 Q1252.18 270.996 1252.18 267.735 Q1252.18 264.454 1250.56 262.57 Q1248.96 260.687 1246.21 260.687 M1254.33 247.866 L1254.33 251.592 Q1252.79 250.863 1251.21 250.478 Q1249.65 250.094 1248.11 250.094 Q1244.06 250.094 1241.91 252.828 Q1239.79 255.562 1239.48 261.092 Q1240.68 259.33 1242.48 258.398 Q1244.28 257.446 1246.45 257.446 Q1251.01 257.446 1253.64 260.221 Q1256.29 262.975 1256.29 267.735 Q1256.29 272.394 1253.54 275.209 Q1250.78 278.025 1246.21 278.025 Q1240.96 278.025 1238.19 274.014 Q1235.41 269.984 1235.41 262.348 Q1235.41 255.177 1238.81 250.924 Q1242.22 246.65 1247.95 246.65 Q1249.49 246.65 1251.05 246.954 Q1252.63 247.258 1254.33 247.866 Z\" fill=\"#000000\" fill-rule=\"evenodd\" fill-opacity=\"1\" /></svg>\n"
      ]
     },
     "execution_count": 108,
     "metadata": {},
     "output_type": "execute_result"
    }
   ],
   "source": [
    "markercolor = [v in alt_path ? :green : markercolor[v] for v in Graphs.vertices(g)]\n",
    "\n",
    "GraphRecipes.graphplot(\n",
    "    g,\n",
    "    curves=false,\n",
    "    names=collect(Graphs.vertices(g)),\n",
    "    node_weights=map(v -> g.vprops[v][:weight], Graphs.vertices(g)),\n",
    "    nodesize=1/5,\n",
    "    markercolor = markercolor\n",
    ")"
   ]
  }
 ],
 "metadata": {
  "kernelspec": {
   "display_name": "Julia 1.6.3",
   "language": "julia",
   "name": "julia-1.6"
  },
  "language_info": {
   "file_extension": ".jl",
   "mimetype": "application/julia",
   "name": "julia",
   "version": "1.6.3"
  }
 },
 "nbformat": 4,
 "nbformat_minor": 4
}
