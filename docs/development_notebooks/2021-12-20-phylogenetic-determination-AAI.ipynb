{
 "cells": [
  {
   "cell_type": "code",
   "execution_count": 1,
   "metadata": {},
   "outputs": [],
   "source": [
    "TODAY=\"2021-12-20\"\n",
    "TASK = \"phylogenetic-determination-AAI\"\n",
    "DIR = \"$(homedir())/$(TODAY)-$(TASK)\"\n",
    "if !isdir(DIR)\n",
    "    mkdir(DIR)\n",
    "end\n",
    "cd(DIR)"
   ]
  },
  {
   "cell_type": "code",
   "execution_count": 2,
   "metadata": {},
   "outputs": [],
   "source": [
    "# alternative workflow would be to utilize ezAAI http://leb.snu.ac.kr/ezaai\n",
    "# or recreate ezAAI with diamond\n",
    "# use CheckM\n",
    "\n",
    "# use the genus assignment of the phage, and then assume the family level assignment from the genus classification\n",
    "# require that scale dependent, correlation, and probability based genus is consisent, otherwise flag"
   ]
  },
  {
   "cell_type": "code",
   "execution_count": 3,
   "metadata": {},
   "outputs": [],
   "source": [
    "import Pkg\n",
    "\n",
    "pkgs = [\n",
    "\"JSON\",\n",
    "\"HTTP\",\n",
    "\"Dates\",\n",
    "\"uCSV\",\n",
    "\"DelimitedFiles\",\n",
    "\"DataFrames\",\n",
    "\"ProgressMeter\",\n",
    "\"BioSequences\",\n",
    "\"FASTX\",\n",
    "\"Distances\",\n",
    "\"Plots\",\n",
    "\"StatsPlots\",\n",
    "\"StatsBase\",\n",
    "\"Statistics\",\n",
    "\"Mmap\",\n",
    "\"MultivariateStats\",\n",
    "\"PyCall\",\n",
    "\"Random\",\n",
    "\"Primes\",\n",
    "\"Revise\",\n",
    "\"SparseArrays\",\n",
    "\"SHA\",\n",
    "\"Mycelia\",\n",
    "\"GenomicAnnotations\",\n",
    "\"BioFetch\",\n",
    "\"Combinatorics\",\n",
    "\"StaticArrays\",\n",
    "\"BioSymbols\",\n",
    "\"RollingFunctions\",\n",
    "\"OrderedCollections\"\n",
    "]\n",
    "\n",
    "for pkg in pkgs\n",
    "    try\n",
    "        eval(Meta.parse(\"import $pkg\"))\n",
    "    catch\n",
    "        Pkg.add(pkg)\n",
    "        eval(Meta.parse(\"import $pkg\"))\n",
    "    end\n",
    "end"
   ]
  },
  {
   "cell_type": "code",
   "execution_count": 4,
   "metadata": {},
   "outputs": [
    {
     "data": {
      "text/plain": [
       "\"/home/jupyter-cjprybol/.julia/dev/Mycelia/docs/metadata\""
      ]
     },
     "execution_count": 4,
     "metadata": {},
     "output_type": "execute_result"
    }
   ],
   "source": [
    "MYCELIA_METADATA = joinpath(dirname(dirname(pathof(Mycelia))), \"docs\", \"metadata\")"
   ]
  },
  {
   "cell_type": "code",
   "execution_count": 5,
   "metadata": {},
   "outputs": [],
   "source": [
    "# run(`conda install -c bioconda comparem`)"
   ]
  },
  {
   "cell_type": "code",
   "execution_count": 19,
   "metadata": {},
   "outputs": [
    {
     "data": {
      "text/plain": [
       "\"/home/jupyter-cjprybol/2021-12-20-phylogenetic-determination-AAI/genomes\""
      ]
     },
     "execution_count": 19,
     "metadata": {},
     "output_type": "execute_result"
    }
   ],
   "source": [
    "genomes_dir = mkpath(\"$(DIR)/genomes\")"
   ]
  },
  {
   "cell_type": "code",
   "execution_count": 57,
   "metadata": {},
   "outputs": [],
   "source": [
    "ProgressMeter.@showprogress for accession in entity_metadata[!, \"Accession\"]\n",
    "    fasta_file = joinpath(genomes_dir, \"$(accession).fna\")\n",
    "    if !isfile(fasta_file) || isempty(fasta_file)\n",
    "        open(fasta_file, \"w\") do io\n",
    "            fastx_io = FASTX.FASTA.Writer(io)\n",
    "            for record in Mycelia.get_sequence(db=\"nuccore\", accession=accession)\n",
    "                write(fastx_io, record)\n",
    "            end\n",
    "            close(fastx_io)\n",
    "        end\n",
    "    end\n",
    "end"
   ]
  },
  {
   "cell_type": "code",
   "execution_count": 6,
   "metadata": {},
   "outputs": [
    {
     "data": {
      "text/plain": [
       "964-element Vector{Pair{String, Int64}}:\n",
       "       \"Fromanvirus\" => 905\n",
       "     \"Gequatrovirus\" => 371\n",
       "      \"Cheoctovirus\" => 317\n",
       "        \"Skunavirus\" => 311\n",
       "       \"Pegunavirus\" => 240\n",
       "     \"Tequatrovirus\" => 222\n",
       "    \"Timquatrovirus\" => 212\n",
       "       \"Pahexavirus\" => 201\n",
       "      \"Bixzunavirus\" => 174\n",
       "        \"Pbunavirus\" => 168\n",
       "   \"Sinsheimervirus\" => 156\n",
       "        \"Microvirus\" => 138\n",
       "       \"Kostyavirus\" => 127\n",
       "                     ⋮\n",
       " \"Raunefjordenvirus\" => 1\n",
       "         \"Podivirus\" => 1\n",
       "  \"Saintgironsvirus\" => 1\n",
       "       \"Nahantvirus\" => 1\n",
       "       \"Yonginvirus\" => 1\n",
       "        \"Kajamvirus\" => 1\n",
       "       \"Pekhitvirus\" => 1\n",
       "       \"Cyclitvirus\" => 1\n",
       "          \"Sasvirus\" => 1\n",
       "     \"Seongbukvirus\" => 1\n",
       "        \"Jalkavirus\" => 1\n",
       "      \"Capvunavirus\" => 1"
      ]
     },
     "execution_count": 6,
     "metadata": {},
     "output_type": "execute_result"
    }
   ],
   "source": [
    "# https://www.ncbi.nlm.nih.gov/labs/virus/vssi/#/virus?SeqType_s=Nucleotide&VirusLineage_ss=Bacteriophage,%20all%20taxids&Completeness_s=complete\n",
    "entity_metadata_full = DataFrames.DataFrame(uCSV.read(\"$(MYCELIA_METADATA)/2021-11-13-ncbi-complete-bacteriophage.csv\", header=1, quotes='\"')...)\n",
    "sort!(entity_metadata_full, \"Accession\")\n",
    "entity_metadata_full = entity_metadata_full[entity_metadata_full[!, \"Nuc_Completeness\"] .== \"complete\", :]\n",
    "# filter down to only include labelled genera\n",
    "entity_metadata_full = entity_metadata_full[.!isempty.(entity_metadata_full[!, \"Genus\"]), :]\n",
    "# filter down to only include genera that are present at least once\n",
    "genera_counts = sort(collect(StatsBase.countmap(entity_metadata_full[!, \"Genus\"])), by=x->x[2], rev=true)"
   ]
  },
  {
   "cell_type": "code",
   "execution_count": 9,
   "metadata": {},
   "outputs": [
    {
     "data": {
      "text/plain": [
       "930-element Vector{Pair{String, Int64}}:\n",
       "           \"Fromanvirus\" => 905\n",
       "         \"Gequatrovirus\" => 371\n",
       "          \"Cheoctovirus\" => 317\n",
       "            \"Skunavirus\" => 311\n",
       "           \"Pegunavirus\" => 240\n",
       "         \"Tequatrovirus\" => 222\n",
       "        \"Timquatrovirus\" => 212\n",
       "           \"Pahexavirus\" => 201\n",
       "          \"Bixzunavirus\" => 174\n",
       "            \"Pbunavirus\" => 168\n",
       "       \"Sinsheimervirus\" => 156\n",
       "            \"Microvirus\" => 138\n",
       "           \"Kostyavirus\" => 127\n",
       "                         ⋮\n",
       "          \"Vilniusvirus\" => 2\n",
       " \"Grisebachstrassevirus\" => 2\n",
       "          \"Nampongvirus\" => 2\n",
       "       \"Goettingenvirus\" => 2\n",
       "      \"Chakrabartyvirus\" => 2\n",
       "         \"Mingyongvirus\" => 2\n",
       "      \"Skarprettervirus\" => 2\n",
       "        \"Shirahamavirus\" => 2\n",
       "           \"Nanhaivirus\" => 2\n",
       "         \"Predatorvirus\" => 2\n",
       "         \"Kungbxnavirus\" => 2\n",
       "           \"Kilunavirus\" => 2"
      ]
     },
     "execution_count": 9,
     "metadata": {},
     "output_type": "execute_result"
    }
   ],
   "source": [
    "non_singleton_genera_counts = filter(x -> x[2] > 1, genera_counts)"
   ]
  },
  {
   "cell_type": "code",
   "execution_count": 14,
   "metadata": {},
   "outputs": [
    {
     "data": {
      "text/plain": [
       "87-element Vector{Int64}:\n",
       "   2\n",
       "   3\n",
       "   4\n",
       "   5\n",
       "   6\n",
       "   7\n",
       "   8\n",
       "   9\n",
       "  10\n",
       "  11\n",
       "  12\n",
       "  13\n",
       "  14\n",
       "   ⋮\n",
       " 138\n",
       " 156\n",
       " 168\n",
       " 174\n",
       " 201\n",
       " 212\n",
       " 222\n",
       " 240\n",
       " 311\n",
       " 317\n",
       " 371\n",
       " 905"
      ]
     },
     "execution_count": 14,
     "metadata": {},
     "output_type": "execute_result"
    }
   ],
   "source": [
    "sorted_counts = reverse(unique(last.(non_singleton_genera_counts)))"
   ]
  },
  {
   "cell_type": "code",
   "execution_count": 62,
   "metadata": {},
   "outputs": [
    {
     "data": {
      "text/plain": [
       "905"
      ]
     },
     "execution_count": 62,
     "metadata": {},
     "output_type": "execute_result"
    }
   ],
   "source": [
    "repeat_count = sorted_counts[end]"
   ]
  },
  {
   "cell_type": "code",
   "execution_count": 63,
   "metadata": {},
   "outputs": [
    {
     "data": {
      "text/plain": [
       "964-element Vector{String}:\n",
       " \"Fromanvirus\"\n",
       " \"Gequatrovirus\"\n",
       " \"Cheoctovirus\"\n",
       " \"Skunavirus\"\n",
       " \"Pegunavirus\"\n",
       " \"Tequatrovirus\"\n",
       " \"Timquatrovirus\"\n",
       " \"Pahexavirus\"\n",
       " \"Bixzunavirus\"\n",
       " \"Pbunavirus\"\n",
       " \"Sinsheimervirus\"\n",
       " \"Microvirus\"\n",
       " \"Kostyavirus\"\n",
       " ⋮\n",
       " \"Raunefjordenvirus\"\n",
       " \"Podivirus\"\n",
       " \"Saintgironsvirus\"\n",
       " \"Nahantvirus\"\n",
       " \"Yonginvirus\"\n",
       " \"Kajamvirus\"\n",
       " \"Pekhitvirus\"\n",
       " \"Cyclitvirus\"\n",
       " \"Sasvirus\"\n",
       " \"Seongbukvirus\"\n",
       " \"Jalkavirus\"\n",
       " \"Capvunavirus\""
      ]
     },
     "execution_count": 63,
     "metadata": {},
     "output_type": "execute_result"
    }
   ],
   "source": [
    "selected_genera = first.(filter(x -> x[2] <= repeat_count, genera_counts))"
   ]
  },
  {
   "cell_type": "code",
   "execution_count": 64,
   "metadata": {},
   "outputs": [],
   "source": [
    "entity_metadata = entity_metadata_full[map(x -> x in selected_genera, entity_metadata_full[!, \"Genus\"]), :];"
   ]
  },
  {
   "cell_type": "code",
   "execution_count": 65,
   "metadata": {
    "jupyter": {
     "source_hidden": true
    }
   },
   "outputs": [],
   "source": [
    "# ezaai_db_dir = mkpath(\"$(DIR)/ezaai\")\n",
    "# ezaai_jar = joinpath(homedir(), \"software\", \"bin\", \"ezaai.jar\")\n",
    "# ProgressMeter.@showprogress for row in DataFrames.eachrow(entity_metadata[1:3, :])\n",
    "#     accession = row[\"Accession\"]\n",
    "#     descriptive_identifier = row[\"GenBank_Title\"]\n",
    "#     fasta_file = \"$(genomes_dir)/$(accession).fna\"\n",
    "#     db_file = \"$(ezaai_db_dir)/$(accession).db\"\n",
    "# #     @show fasta_file\n",
    "# #     @show db_file\n",
    "#     if !isfile(db_file)\n",
    "#         cmd = `java -jar $(ezaai_jar) extract -i $(fasta_file) -o $(db_file) -l $(descriptive_identifier)`\n",
    "# #         @show cmd\n",
    "#         run(cmd)\n",
    "#     end\n",
    "# end\n",
    "# run(`java -jar $(ezaai_jar) calculate -i $(ezaai_db_dir) -j $(ezaai_db_dir) -o $(ezaai_db_dir)/aai.tsv`)"
   ]
  },
  {
   "cell_type": "code",
   "execution_count": 67,
   "metadata": {},
   "outputs": [
    {
     "data": {
      "text/plain": [
       "\"/home/jupyter-cjprybol/2021-12-20-phylogenetic-determination-AAI/comparem_aai_count-905\""
      ]
     },
     "execution_count": 67,
     "metadata": {},
     "output_type": "execute_result"
    }
   ],
   "source": [
    "comparem_aai_dir = mkpath(\"$(DIR)/comparem_aai_count-$(repeat_count)\")"
   ]
  },
  {
   "cell_type": "code",
   "execution_count": 68,
   "metadata": {},
   "outputs": [
    {
     "data": {
      "text/plain": [
       "13172-element Vector{String}:\n",
       " \"/home/jupyter-cjprybol/2021-12-20-phylogenetic-determination-AAI/genomes/AB002632.1.fna\"\n",
       " \"/home/jupyter-cjprybol/2021-12-20-phylogenetic-determination-AAI/genomes/AB008550.1.fna\"\n",
       " \"/home/jupyter-cjprybol/2021-12-20-phylogenetic-determination-AAI/genomes/AB012573.1.fna\"\n",
       " \"/home/jupyter-cjprybol/2021-12-20-phylogenetic-determination-AAI/genomes/AB012574.1.fna\"\n",
       " \"/home/jupyter-cjprybol/2021-12-20-phylogenetic-determination-AAI/genomes/AB043678.1.fna\"\n",
       " \"/home/jupyter-cjprybol/2021-12-20-phylogenetic-determination-AAI/genomes/AB043679.1.fna\"\n",
       " \"/home/jupyter-cjprybol/2021-12-20-phylogenetic-determination-AAI/genomes/AB045978.2.fna\"\n",
       " \"/home/jupyter-cjprybol/2021-12-20-phylogenetic-determination-AAI/genomes/AB063393.2.fna\"\n",
       " \"/home/jupyter-cjprybol/2021-12-20-phylogenetic-determination-AAI/genomes/AB102868.1.fna\"\n",
       " \"/home/jupyter-cjprybol/2021-12-20-phylogenetic-determination-AAI/genomes/AB231700.1.fna\"\n",
       " \"/home/jupyter-cjprybol/2021-12-20-phylogenetic-determination-AAI/genomes/AB243556.1.fna\"\n",
       " \"/home/jupyter-cjprybol/2021-12-20-phylogenetic-determination-AAI/genomes/AB255436.1.fna\"\n",
       " \"/home/jupyter-cjprybol/2021-12-20-phylogenetic-determination-AAI/genomes/AB259123.2.fna\"\n",
       " ⋮\n",
       " \"/home/jupyter-cjprybol/2021-12-20-phylogenetic-determination-AAI/genomes/OK483201.1.fna\"\n",
       " \"/home/jupyter-cjprybol/2021-12-20-phylogenetic-determination-AAI/genomes/U02303.1.fna\"\n",
       " \"/home/jupyter-cjprybol/2021-12-20-phylogenetic-determination-AAI/genomes/U24159.1.fna\"\n",
       " \"/home/jupyter-cjprybol/2021-12-20-phylogenetic-determination-AAI/genomes/U32222.1.fna\"\n",
       " \"/home/jupyter-cjprybol/2021-12-20-phylogenetic-determination-AAI/genomes/U41758.1.fna\"\n",
       " \"/home/jupyter-cjprybol/2021-12-20-phylogenetic-determination-AAI/genomes/U88974.1.fna\"\n",
       " \"/home/jupyter-cjprybol/2021-12-20-phylogenetic-determination-AAI/genomes/X60322.1.fna\"\n",
       " \"/home/jupyter-cjprybol/2021-12-20-phylogenetic-determination-AAI/genomes/X60323.1.fna\"\n",
       " \"/home/jupyter-cjprybol/2021-12-20-phylogenetic-determination-AAI/genomes/X96987.2.fna\"\n",
       " \"/home/jupyter-cjprybol/2021-12-20-phylogenetic-determination-AAI/genomes/Y13918.1.fna\"\n",
       " \"/home/jupyter-cjprybol/2021-12-20-phylogenetic-determination-AAI/genomes/Z18946.1.fna\"\n",
       " \"/home/jupyter-cjprybol/2021-12-20-phylogenetic-determination-AAI/genomes/Z47794.1.fna\""
      ]
     },
     "execution_count": 68,
     "metadata": {},
     "output_type": "execute_result"
    }
   ],
   "source": [
    "genome_list = \"$(DIR)/fasta_list.txt\"\n",
    "open(genome_list, \"w\") do io\n",
    "    for accession in entity_metadata[!, \"Accession\"]\n",
    "        println(io, \"$(genomes_dir)/$(accession).fna\")\n",
    "    end\n",
    "end\n",
    "readlines(genome_list)"
   ]
  },
  {
   "cell_type": "code",
   "execution_count": null,
   "metadata": {},
   "outputs": [
    {
     "name": "stdout",
     "output_type": "stream",
     "text": [
      "[2021-12-21 21:31:27] INFO: CompareM v0.1.2\n",
      "[2021-12-21 21:31:27] INFO: comparem aai_wf --cpus 2 /home/jupyter-cjprybol/2021-12-20-phylogenetic-determination-AAI/fasta_list.txt /home/jupyter-cjprybol/2021-12-20-phylogenetic-determination-AAI/comparem_aai_count-905\n",
      "[2021-12-21 21:31:27] INFO: Identifying genes within genomes: \n",
      "  Finished processing 8178 of 13172 (62.09%) genomes.\r"
     ]
    },
    {
     "data": {
      "text/plain": [
       "Process(`\u001b[4mcomparem\u001b[24m \u001b[4maai_wf\u001b[24m \u001b[4m--cpus\u001b[24m \u001b[4m2\u001b[24m \u001b[4m/home/jupyter-cjprybol/2021-12-20-phylogenetic-determination-AAI/fasta_list.txt\u001b[24m \u001b[4m/home/jupyter-cjprybol/2021-12-20-phylogenetic-determination-AAI/comparem_aai_count-905\u001b[24m`, ProcessExited(0))"
      ]
     },
     "execution_count": 69,
     "metadata": {},
     "output_type": "execute_result"
    }
   ],
   "source": [
    "# run(`comparem aai_wf --cpus $(Sys.CPU_THREADS) $(genome_list) $(comparem_aai_dir)`)\n",
    "# did not finish"
   ]
  }
 ],
 "metadata": {
  "kernelspec": {
   "display_name": "Julia 1.6.3",
   "language": "julia",
   "name": "julia-1.6"
  },
  "language_info": {
   "file_extension": ".jl",
   "mimetype": "application/julia",
   "name": "julia",
   "version": "1.6.3"
  }
 },
 "nbformat": 4,
 "nbformat_minor": 4
}
