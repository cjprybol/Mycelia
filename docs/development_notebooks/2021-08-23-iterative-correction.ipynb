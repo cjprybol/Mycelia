{
 "cells": [
  {
   "cell_type": "code",
   "execution_count": 1,
   "metadata": {},
   "outputs": [
    {
     "data": {
      "text/plain": [
       "\"/home/jovyan/2021-08-23\""
      ]
     },
     "execution_count": 1,
     "metadata": {},
     "output_type": "execute_result"
    }
   ],
   "source": [
    "DATE = \"2021-08-23\"\n",
    "TASK = \"iterative-correction\"\n",
    "DIR = mkpath(\"$(homedir())/$(DATE)-$(TASK)\")"
   ]
  },
  {
   "cell_type": "code",
   "execution_count": 2,
   "metadata": {},
   "outputs": [],
   "source": [
    "import Pkg\n",
    "pkgs = [\n",
    "#     \"BioAlignments\",\n",
    "    \"BioSequences\",\n",
    "#     \"Clustering\",\n",
    "#     \"CodecZlib\",\n",
    "#     \"Colors\",\n",
    "#     \"Combinatorics\",\n",
    "#     \"DataFrames\",\n",
    "#     \"DataStructures\",\n",
    "    \"Dates\",\n",
    "#     \"DelimitedFiles\",\n",
    "#     \"Distances\",\n",
    "#     \"EzXML\",\n",
    "    \"FASTX\",\n",
    "#     \"GFF3\",\n",
    "#     \"HTTP\",\n",
    "#     \"Impute\",\n",
    "#     \"JSON\",\n",
    "    \"Graphs\",\n",
    "    \"LSHFunctions\",\n",
    "#     \"Measures\",\n",
    "    \"MetaGraphs\",\n",
    "    \"https://github.com/cjprybol/Mycelia.git\",\n",
    "#     \"NumericIO\",\n",
    "#     \"PlotlyJS\",\n",
    "#     \"Plots\",\n",
    "    \"Primes\",\n",
    "#     \"Printf\",\n",
    "    \"ProgressMeter\",\n",
    "    \"Random\",\n",
    "    \"Revise\",\n",
    "    \"SparseArrays\",\n",
    "    \"Statistics\",\n",
    "    \"StatsBase\",\n",
    "#     \"StatsPlots\",\n",
    "#     \"StringDistances\",\n",
    "#     \"uCSV\",\n",
    "#     \"XLSX\",\n",
    "]\n",
    "\n",
    "unregistered_packages = filter(pkg -> occursin(r\"(^https|git$)\", pkg), pkgs)\n",
    "registered_packages = setdiff(pkgs, unregistered_packages)\n",
    "\n",
    "for pkg in registered_packages\n",
    "    try\n",
    "        eval(Meta.parse(\"import $(pkg)\"))\n",
    "    catch\n",
    "        Pkg.add(pkg)\n",
    "        Pkg.build(pkg)\n",
    "        eval(Meta.parse(\"import $(pkg)\"))\n",
    "    end\n",
    "end\n",
    "\n",
    "for pkg_url in unregistered_packages\n",
    "    pkg_name = replace(basename(pkg_url), \".git\" => \"\")\n",
    "    try\n",
    "        eval(Meta.parse(\"import $(pkg_name)\"))\n",
    "    catch\n",
    "        Pkg.develop(url=pkg_url)\n",
    "        Pkg.build(pkg_name)\n",
    "        eval(Meta.parse(\"import $(pkg_name)\"))\n",
    "    end\n",
    "end"
   ]
  },
  {
   "cell_type": "code",
   "execution_count": 3,
   "metadata": {},
   "outputs": [
    {
     "data": {
      "text/plain": [
       "\"Bandage\""
      ]
     },
     "execution_count": 3,
     "metadata": {},
     "output_type": "execute_result"
    }
   ],
   "source": [
    "if Sys.isapple()\n",
    "    BANDAGE = \"/Applications/Bandage.app/Contents/MacOS/Bandage\"\n",
    "else\n",
    "    BANDAGE = \"Bandage\"\n",
    "end"
   ]
  },
  {
   "cell_type": "code",
   "execution_count": 4,
   "metadata": {},
   "outputs": [
    {
     "data": {
      "text/plain": [
       "assess_kmer_sparsity_in_reads (generic function with 1 method)"
      ]
     },
     "execution_count": 4,
     "metadata": {},
     "output_type": "execute_result"
    }
   ],
   "source": [
    "function assess_kmer_sparsity_in_reads(k, observations)\n",
    "#     @show k, observations\n",
    "    canonical_kmer_counts = Mycelia.count_canonical_kmers(BioSequences.DNAMer{k}, observations)\n",
    "#     canonical_kmer_counts = Mycelia.count_canonical_kmers(BioSequences.DNAMer{k}, first(observations))\n",
    "# #     @show canonical_kmer_counts\n",
    "#     for i in 2:length(observations)\n",
    "#         canonical_kmer_counts_ = Mycelia.count_canonical_kmers(BioSequences.DNAMer{k}, observations[i])\n",
    "#         canonical_kmer_counts = merge!(+, canonical_kmer_counts, canonical_kmer_counts_)\n",
    "#     end\n",
    "#     canonical_kmer_counts = map(o -> Mycelia.count_canonical_kmers(BioSequences.DNAMer{k}, o), observations)...)\n",
    "    total_observed_canonical_kmers = length(keys(canonical_kmer_counts))\n",
    "    total_possible_canonical_kmers = (4^k)/2\n",
    "    sparsity = round(total_observed_canonical_kmers/total_possible_canonical_kmers*100, digits=2)\n",
    "    @show sparsity\n",
    "    return sparsity\n",
    "end"
   ]
  },
  {
   "cell_type": "code",
   "execution_count": 5,
   "metadata": {},
   "outputs": [
    {
     "data": {
      "text/plain": [
       "sequence_to_canonical_kmers (generic function with 1 method)"
      ]
     },
     "execution_count": 5,
     "metadata": {},
     "output_type": "execute_result"
    }
   ],
   "source": [
    "function sequence_to_canonical_kmers(kmer_type, sequence)\n",
    "    return (BioSequences.canonical(kmer.fw) for kmer in BioSequences.each(kmer_type, sequence))\n",
    "end"
   ]
  },
  {
   "cell_type": "code",
   "execution_count": 6,
   "metadata": {},
   "outputs": [
    {
     "data": {
      "text/plain": [
       "determine_edge_weights (generic function with 1 method)"
      ]
     },
     "execution_count": 6,
     "metadata": {},
     "output_type": "execute_result"
    }
   ],
   "source": [
    "function determine_edge_weights(graph)\n",
    "    outgoing_edge_probabilities = determine_edge_weights(graph, true)\n",
    "    incoming_edge_probabilities = determine_edge_weights(graph, false)\n",
    "    return Dict(true => outgoing_edge_probabilities, false => incoming_edge_probabilities)\n",
    "end"
   ]
  },
  {
   "cell_type": "code",
   "execution_count": 7,
   "metadata": {},
   "outputs": [
    {
     "data": {
      "text/plain": [
       "determine_edge_weights (generic function with 2 methods)"
      ]
     },
     "execution_count": 7,
     "metadata": {},
     "output_type": "execute_result"
    }
   ],
   "source": [
    "function determine_edge_weights(graph, strand)\n",
    "    kmers = [graph.vprops[v][:kmer] for v in Graphs.vertices(graph)]\n",
    "    outgoing_edge_weights = SparseArrays.spzeros(length(kmers), length(kmers))\n",
    "    \n",
    "    for (kmer_index, kmer) in enumerate(kmers)\n",
    "        if !strand\n",
    "            kmer = BioSequences.reverse_complement(kmer)\n",
    "        end\n",
    "        \n",
    "        downstream_neighbors = []\n",
    "        downstream_neighbor_weights = []\n",
    "        for neighbor in BioSequences.neighbors(kmer)\n",
    "            canonical_neighbor = BioSequences.canonical(neighbor)\n",
    "            neighbor_orientation = neighbor == canonical_neighbor\n",
    "            \n",
    "            neighbor_index_range = searchsorted(kmers, canonical_neighbor)\n",
    "            if !isempty(neighbor_index_range)\n",
    "                @assert length(neighbor_index_range) == 1\n",
    "                neighbor_index = first(neighbor_index_range)\n",
    "                if Graphs.has_edge(graph, Graphs.Edge(kmer_index, neighbor_index))\n",
    "                    edge_orientations = graph.eprops[Graphs.Edge(kmer_index, neighbor_index)][:orientations]\n",
    "                    this_edge_orientation = (source_orientation = strand, destination_orientation = neighbor_orientation)\n",
    "                    if this_edge_orientation in edge_orientations\n",
    "                        edge_weight = graph.eprops[Graphs.Edge(kmer_index, neighbor_index)][:weight]\n",
    "                        outgoing_edge_weights[kmer_index, neighbor_index] = edge_weight\n",
    "                    end\n",
    "                end\n",
    "            end\n",
    "        end\n",
    "    end\n",
    "    return outgoing_edge_weights\n",
    "end"
   ]
  },
  {
   "cell_type": "code",
   "execution_count": 8,
   "metadata": {},
   "outputs": [
    {
     "data": {
      "text/plain": [
       "determine_edge_probabilities (generic function with 1 method)"
      ]
     },
     "execution_count": 8,
     "metadata": {},
     "output_type": "execute_result"
    }
   ],
   "source": [
    "function determine_edge_probabilities(edge_weights)\n",
    "    edge_probabilities = deepcopy(edge_weights)\n",
    "    for orientation in [true, false]\n",
    "        for row in 1:size(edge_probabilities[orientation], 1)\n",
    "            edge_weights = edge_probabilities[orientation][row, :]\n",
    "            edge_total = sum(edge_weights)\n",
    "            for (col, edge_weight) in enumerate(edge_weights)\n",
    "                if edge_total > 0\n",
    "                    edge_probabilities[orientation][row, col] = edge_weight/edge_total\n",
    "                else\n",
    "                    edge_probabilities[orientation][row, col] = 0.0\n",
    "                end\n",
    "            end\n",
    "        end\n",
    "    end\n",
    "    return edge_probabilities\n",
    "end"
   ]
  },
  {
   "cell_type": "code",
   "execution_count": 9,
   "metadata": {},
   "outputs": [
    {
     "data": {
      "text/plain": [
       "random_step (generic function with 1 method)"
      ]
     },
     "execution_count": 9,
     "metadata": {},
     "output_type": "execute_result"
    }
   ],
   "source": [
    "function random_step(current_vertex, current_orientation, step_probabilities)\n",
    "    outgoing_edge_likelihoods = step_probabilities[initial_orientation][current_vertex, :]\n",
    "    chosen_step = StatsBase.sample(outgoing_edge_likelihoods.nzind, StatsBase.weights(outgoing_edge_likelihoods.nzval))\n",
    "    possible_orientations = observation_graph.eprops[Graphs.Edge(current_vertex, chosen_step)][:orientations]\n",
    "    possible_orientations = filter(o -> o.source_orientation == current_orientation, possible_orientations)\n",
    "    chosen_orientation = rand(possible_orientations).destination_orientation\n",
    "    chosen_oriented_step = (vertex = chosen_step, orientation = chosen_orientation)\n",
    "    return chosen_oriented_step\n",
    "end"
   ]
  },
  {
   "cell_type": "code",
   "execution_count": 10,
   "metadata": {},
   "outputs": [
    {
     "data": {
      "text/plain": [
       "random_walk (generic function with 1 method)"
      ]
     },
     "execution_count": 10,
     "metadata": {},
     "output_type": "execute_result"
    }
   ],
   "source": [
    "function random_walk(observation_graph, initial_vertex, initial_orientation, step_probabilities; n_steps=size(step_probabilities[true], 1))\n",
    "    step_count = 0\n",
    "    outgoing_edge_likelihoods = step_probabilities[initial_orientation][initial_vertex, :]\n",
    "    walk = Vector{NamedTuple{(:vertex, :orientation), Tuple{Int64, Bool}}}()\n",
    "    done = (step_count > n_steps) || (sum(outgoing_edge_likelihoods) == 0)\n",
    "    current_vertex = initial_vertex\n",
    "    current_orientation = initial_orientation\n",
    "    while !done\n",
    "#         @show \"choosing\"\n",
    "        chosen_step = StatsBase.sample(outgoing_edge_likelihoods.nzind, StatsBase.weights(outgoing_edge_likelihoods.nzval))\n",
    "        chosen_step\n",
    "        possible_orientations = observation_graph.eprops[Graphs.Edge(current_vertex, chosen_step)][:orientations]\n",
    "        possible_orientations\n",
    "        current_orientation\n",
    "        possible_orientations = filter(o -> o.source_orientation == current_orientation, possible_orientations)\n",
    "        possible_orientations\n",
    "        chosen_orientation = rand(possible_orientations).destination_orientation\n",
    "        chosen_oriented_step = (vertex = chosen_step, orientation = chosen_orientation)\n",
    "        push!(walk, chosen_oriented_step)\n",
    "        current_vertex = chosen_step\n",
    "        current_orientation = chosen_orientation\n",
    "        outgoing_edge_likelihoods = step_probabilities[last(walk).orientation][last(walk).vertex, :]\n",
    "        step_count += 1\n",
    "#         @show outgoing_edge_likelihoods\n",
    "        done = (step_count > n_steps) || (sum(outgoing_edge_likelihoods) == 0)\n",
    "    end\n",
    "    return walk\n",
    "end"
   ]
  },
  {
   "cell_type": "code",
   "execution_count": 11,
   "metadata": {},
   "outputs": [
    {
     "data": {
      "text/plain": [
       "FASTX.FASTA.Record:\n",
       "   identifier: 3157291459485254640\n",
       "  description: <missing>\n",
       "     sequence: CTCACTGCAAAGCGCCCAGACCAGAGCCTCACCTACAAG…"
      ]
     },
     "execution_count": 11,
     "metadata": {},
     "output_type": "execute_result"
    }
   ],
   "source": [
    "# generate a genome\n",
    "sequence_length = 100\n",
    "sequence = BioSequences.randdnaseq(Random.seed!(sequence_length), sequence_length)\n",
    "sequence_id = string(hash(sequence))\n",
    "fasta_record = FASTX.FASTA.Record(sequence_id, sequence)"
   ]
  },
  {
   "cell_type": "code",
   "execution_count": 12,
   "metadata": {},
   "outputs": [],
   "source": [
    "reference_fasta_file = \"$(DIR)/LENGTH-$(sequence_length).fasta\"\n",
    "open(reference_fasta_file, \"w\") do io\n",
    "    fastx_io = FASTX.FASTA.Writer(io)\n",
    "    write(fastx_io, fasta_record)\n",
    "    close(fastx_io)\n",
    "end"
   ]
  },
  {
   "cell_type": "code",
   "execution_count": 13,
   "metadata": {},
   "outputs": [],
   "source": [
    "# randomly sample reads with errors from the genome\n",
    "# 1%\n",
    "error_rate = 0.01\n",
    "n_reads = 100 * sequence_length\n",
    "\n",
    "# observations = [Mycelia.observe(FASTX.sequence(record), error_rate = error_rate) for i in 1:n_reads]\n",
    "observations = [Mycelia.observe(fasta_record, error_rate = error_rate) for i in 1:n_reads];"
   ]
  },
  {
   "cell_type": "code",
   "execution_count": 14,
   "metadata": {},
   "outputs": [
    {
     "name": "stdout",
     "output_type": "stream",
     "text": [
      "sparsity = 45.0\n",
      "sparsity = 0.45\n",
      "k = 11\n"
     ]
    }
   ],
   "source": [
    "# build assembly graph\n",
    "min_k = 7\n",
    "max_k = min(minimum(length(observations)), 61)\n",
    "k_options = Primes.primes(min_k, max_k)\n",
    "k_index = findfirst(k -> assess_kmer_sparsity_in_reads(k, observations) < 1, k_options)\n",
    "k = k_options[k_index]\n",
    "@show k\n",
    "\n",
    "observations_file = \"$(DIR)/LENGTH-$(sequence_length)-DEPTH-$(n_reads).fastq\"\n",
    "open(observations_file, \"w\") do io\n",
    "    fastq_io = FASTX.FASTQ.Writer(io)\n",
    "    for record in observations\n",
    "        write(fastq_io, record)\n",
    "    end\n",
    "    close(fastq_io)\n",
    "end"
   ]
  },
  {
   "cell_type": "code",
   "execution_count": 15,
   "metadata": {},
   "outputs": [],
   "source": [
    "# reference_graph = Mycelia.fastx_to_kmer_graph(BioSequences.DNAMer{k}, reference_fasta_file)\n",
    "# reference_kmers = [reference_graph.vprops[v][:kmer] for v in Graphs.vertices(reference_graph)]"
   ]
  },
  {
   "cell_type": "markdown",
   "metadata": {},
   "source": [
    "# Begin graph resolving of observation graph"
   ]
  },
  {
   "cell_type": "code",
   "execution_count": 16,
   "metadata": {},
   "outputs": [
    {
     "name": "stderr",
     "output_type": "stream",
     "text": [
      "┌ Info: assessing kmers\n",
      "└ @ Mycelia /home/jovyan/git/Mycelia/src/Mycelia.jl:1932\n",
      "┌ Info: creating graph\n",
      "└ @ Mycelia /home/jovyan/git/Mycelia/src/Mycelia.jl:1948\n"
     ]
    },
    {
     "data": {
      "text/plain": [
       "{9337, 21269} directed Int64 metagraph with Float64 weights defined by :weight (default weight 1.0)"
      ]
     },
     "execution_count": 16,
     "metadata": {},
     "output_type": "execute_result"
    }
   ],
   "source": [
    "observation_graph = Mycelia.fastx_to_kmer_graph(BioSequences.DNAMer{k}, observations_file)"
   ]
  },
  {
   "cell_type": "code",
   "execution_count": 17,
   "metadata": {},
   "outputs": [
    {
     "data": {
      "text/html": [
       "<img src=./../../../2021-08-23/LENGTH-100-DEPTH-10000.fastq.k-11.gfa.svg>"
      ]
     },
     "metadata": {},
     "output_type": "display_data"
    }
   ],
   "source": [
    "# visualize\n",
    "gfa_file = observations_file * \".k-$k.gfa\"\n",
    "Mycelia.graph_to_gfa(observation_graph, gfa_file)\n",
    "\n",
    "run(`$(BANDAGE) image $(gfa_file) $(gfa_file).svg --depwidth .9 --deppower .9`)\n",
    "# --nodewidth <float> Average node width (0.5 to 1000, default: 5)\n",
    "# --depwidth <float>  Depth effect on width (0 to 1, default: 0.5)\n",
    "# --deppower <float>  Power of depth effect on width (0 to 1, default: 0.5)\n",
    "\n",
    "html_path_to_svg = \"./\" * repeat(\"../\", length(split(pwd(), '/')) - 3)\n",
    "html_path_to_svg *= replace(\"$(gfa_file).svg\", \"$(homedir())/\" => \"\")\n",
    "\n",
    "x = \"<img src=$(html_path_to_svg)>\"\n",
    "display(\"text/html\", x)\n",
    "# display(\"image/svg+xml\", read(\"$(gfa_file).svg\", String))"
   ]
  },
  {
   "cell_type": "code",
   "execution_count": 18,
   "metadata": {},
   "outputs": [
    {
     "data": {
      "image/svg+xml": [
       "<?xml version=\"1.0\" encoding=\"utf-8\"?>\n",
       "<svg xmlns=\"http://www.w3.org/2000/svg\" xmlns:xlink=\"http://www.w3.org/1999/xlink\" width=\"500\" height=\"250\" viewBox=\"0 0 2000 1000\">\n",
       "<defs>\n",
       "  <clipPath id=\"clip010\">\n",
       "    <rect x=\"0\" y=\"0\" width=\"2000\" height=\"1000\"/>\n",
       "  </clipPath>\n",
       "</defs>\n",
       "<path clip-path=\"url(#clip010)\" d=\"\n",
       "M0 1000 L2000 1000 L2000 0 L0 0  Z\n",
       "  \" fill=\"#ffffff\" fill-rule=\"evenodd\" fill-opacity=\"1\"/>\n",
       "<defs>\n",
       "  <clipPath id=\"clip011\">\n",
       "    <rect x=\"400\" y=\"0\" width=\"1401\" height=\"1000\"/>\n",
       "  </clipPath>\n",
       "</defs>\n",
       "<path clip-path=\"url(#clip010)\" d=\"\n",
       "M159.565 849.7 L1952.76 849.7 L1952.76 108.352 L159.565 108.352  Z\n",
       "  \" fill=\"#ffffff\" fill-rule=\"evenodd\" fill-opacity=\"1\"/>\n",
       "<defs>\n",
       "  <clipPath id=\"clip012\">\n",
       "    <rect x=\"159\" y=\"108\" width=\"1794\" height=\"742\"/>\n",
       "  </clipPath>\n",
       "</defs>\n",
       "<polyline clip-path=\"url(#clip012)\" style=\"stroke:#000000; stroke-linecap:butt; stroke-linejoin:round; stroke-width:2; stroke-opacity:0.1; fill:none\" points=\"\n",
       "  159.565,849.7 159.565,108.352 \n",
       "  \"/>\n",
       "<polyline clip-path=\"url(#clip012)\" style=\"stroke:#000000; stroke-linecap:butt; stroke-linejoin:round; stroke-width:2; stroke-opacity:0.1; fill:none\" points=\"\n",
       "  602.586,849.7 602.586,108.352 \n",
       "  \"/>\n",
       "<polyline clip-path=\"url(#clip012)\" style=\"stroke:#000000; stroke-linecap:butt; stroke-linejoin:round; stroke-width:2; stroke-opacity:0.1; fill:none\" points=\"\n",
       "  1045.61,849.7 1045.61,108.352 \n",
       "  \"/>\n",
       "<polyline clip-path=\"url(#clip012)\" style=\"stroke:#000000; stroke-linecap:butt; stroke-linejoin:round; stroke-width:2; stroke-opacity:0.1; fill:none\" points=\"\n",
       "  1488.63,849.7 1488.63,108.352 \n",
       "  \"/>\n",
       "<polyline clip-path=\"url(#clip012)\" style=\"stroke:#000000; stroke-linecap:butt; stroke-linejoin:round; stroke-width:2; stroke-opacity:0.1; fill:none\" points=\"\n",
       "  1931.65,849.7 1931.65,108.352 \n",
       "  \"/>\n",
       "<polyline clip-path=\"url(#clip010)\" style=\"stroke:#000000; stroke-linecap:butt; stroke-linejoin:round; stroke-width:4; stroke-opacity:1; fill:none\" points=\"\n",
       "  159.565,849.7 1952.76,849.7 \n",
       "  \"/>\n",
       "<polyline clip-path=\"url(#clip010)\" style=\"stroke:#000000; stroke-linecap:butt; stroke-linejoin:round; stroke-width:4; stroke-opacity:1; fill:none\" points=\"\n",
       "  159.565,849.7 159.565,830.802 \n",
       "  \"/>\n",
       "<polyline clip-path=\"url(#clip010)\" style=\"stroke:#000000; stroke-linecap:butt; stroke-linejoin:round; stroke-width:4; stroke-opacity:1; fill:none\" points=\"\n",
       "  602.586,849.7 602.586,830.802 \n",
       "  \"/>\n",
       "<polyline clip-path=\"url(#clip010)\" style=\"stroke:#000000; stroke-linecap:butt; stroke-linejoin:round; stroke-width:4; stroke-opacity:1; fill:none\" points=\"\n",
       "  1045.61,849.7 1045.61,830.802 \n",
       "  \"/>\n",
       "<polyline clip-path=\"url(#clip010)\" style=\"stroke:#000000; stroke-linecap:butt; stroke-linejoin:round; stroke-width:4; stroke-opacity:1; fill:none\" points=\"\n",
       "  1488.63,849.7 1488.63,830.802 \n",
       "  \"/>\n",
       "<polyline clip-path=\"url(#clip010)\" style=\"stroke:#000000; stroke-linecap:butt; stroke-linejoin:round; stroke-width:4; stroke-opacity:1; fill:none\" points=\"\n",
       "  1931.65,849.7 1931.65,830.802 \n",
       "  \"/>\n",
       "<path clip-path=\"url(#clip010)\" d=\"M136.95 875.691 Q133.338 875.691 131.51 879.255 Q129.704 882.797 129.704 889.927 Q129.704 897.033 131.51 900.598 Q133.338 904.139 136.95 904.139 Q140.584 904.139 142.389 900.598 Q144.218 897.033 144.218 889.927 Q144.218 882.797 142.389 879.255 Q140.584 875.691 136.95 875.691 M136.95 871.987 Q142.76 871.987 145.815 876.593 Q148.894 881.177 148.894 889.927 Q148.894 898.653 145.815 903.26 Q142.76 907.843 136.95 907.843 Q131.139 907.843 128.061 903.26 Q125.005 898.653 125.005 889.927 Q125.005 881.177 128.061 876.593 Q131.139 871.987 136.95 871.987 Z\" fill=\"#000000\" fill-rule=\"evenodd\" fill-opacity=\"1\" /><path clip-path=\"url(#clip010)\" d=\"M157.112 901.292 L161.996 901.292 L161.996 907.172 L157.112 907.172 L157.112 901.292 Z\" fill=\"#000000\" fill-rule=\"evenodd\" fill-opacity=\"1\" /><path clip-path=\"url(#clip010)\" d=\"M182.181 875.691 Q178.57 875.691 176.741 879.255 Q174.935 882.797 174.935 889.927 Q174.935 897.033 176.741 900.598 Q178.57 904.139 182.181 904.139 Q185.815 904.139 187.621 900.598 Q189.449 897.033 189.449 889.927 Q189.449 882.797 187.621 879.255 Q185.815 875.691 182.181 875.691 M182.181 871.987 Q187.991 871.987 191.047 876.593 Q194.125 881.177 194.125 889.927 Q194.125 898.653 191.047 903.26 Q187.991 907.843 182.181 907.843 Q176.371 907.843 173.292 903.26 Q170.236 898.653 170.236 889.927 Q170.236 881.177 173.292 876.593 Q176.371 871.987 182.181 871.987 Z\" fill=\"#000000\" fill-rule=\"evenodd\" fill-opacity=\"1\" /><path clip-path=\"url(#clip010)\" d=\"M574.323 903.237 L590.642 903.237 L590.642 907.172 L568.698 907.172 L568.698 903.237 Q571.36 900.482 575.943 895.852 Q580.549 891.2 581.73 889.857 Q583.975 887.334 584.855 885.598 Q585.758 883.839 585.758 882.149 Q585.758 879.394 583.813 877.658 Q581.892 875.922 578.79 875.922 Q576.591 875.922 574.137 876.686 Q571.707 877.45 568.929 879.001 L568.929 874.279 Q571.753 873.144 574.207 872.566 Q576.661 871.987 578.698 871.987 Q584.068 871.987 587.262 874.672 Q590.457 877.357 590.457 881.848 Q590.457 883.978 589.647 885.899 Q588.86 887.797 586.753 890.39 Q586.174 891.061 583.073 894.278 Q579.971 897.473 574.323 903.237 Z\" fill=\"#000000\" fill-rule=\"evenodd\" fill-opacity=\"1\" /><path clip-path=\"url(#clip010)\" d=\"M600.457 901.292 L605.341 901.292 L605.341 907.172 L600.457 907.172 L600.457 901.292 Z\" fill=\"#000000\" fill-rule=\"evenodd\" fill-opacity=\"1\" /><path clip-path=\"url(#clip010)\" d=\"M615.572 872.612 L633.929 872.612 L633.929 876.547 L619.855 876.547 L619.855 885.019 Q620.873 884.672 621.892 884.51 Q622.91 884.325 623.929 884.325 Q629.716 884.325 633.096 887.496 Q636.475 890.667 636.475 896.084 Q636.475 901.663 633.003 904.764 Q629.531 907.843 623.211 907.843 Q621.035 907.843 618.767 907.473 Q616.522 907.102 614.114 906.362 L614.114 901.663 Q616.197 902.797 618.42 903.352 Q620.642 903.908 623.119 903.908 Q627.123 903.908 629.461 901.802 Q631.799 899.695 631.799 896.084 Q631.799 892.473 629.461 890.366 Q627.123 888.26 623.119 888.26 Q621.244 888.26 619.369 888.677 Q617.517 889.093 615.572 889.973 L615.572 872.612 Z\" fill=\"#000000\" fill-rule=\"evenodd\" fill-opacity=\"1\" /><path clip-path=\"url(#clip010)\" d=\"M1012.77 872.612 L1031.13 872.612 L1031.13 876.547 L1017.05 876.547 L1017.05 885.019 Q1018.07 884.672 1019.09 884.51 Q1020.11 884.325 1021.13 884.325 Q1026.92 884.325 1030.3 887.496 Q1033.67 890.667 1033.67 896.084 Q1033.67 901.663 1030.2 904.764 Q1026.73 907.843 1020.41 907.843 Q1018.24 907.843 1015.97 907.473 Q1013.72 907.102 1011.31 906.362 L1011.31 901.663 Q1013.4 902.797 1015.62 903.352 Q1017.84 903.908 1020.32 903.908 Q1024.32 903.908 1026.66 901.802 Q1029 899.695 1029 896.084 Q1029 892.473 1026.66 890.366 Q1024.32 888.26 1020.32 888.26 Q1018.44 888.26 1016.57 888.677 Q1014.72 889.093 1012.77 889.973 L1012.77 872.612 Z\" fill=\"#000000\" fill-rule=\"evenodd\" fill-opacity=\"1\" /><path clip-path=\"url(#clip010)\" d=\"M1042.89 901.292 L1047.77 901.292 L1047.77 907.172 L1042.89 907.172 L1042.89 901.292 Z\" fill=\"#000000\" fill-rule=\"evenodd\" fill-opacity=\"1\" /><path clip-path=\"url(#clip010)\" d=\"M1067.96 875.691 Q1064.35 875.691 1062.52 879.255 Q1060.71 882.797 1060.71 889.927 Q1060.71 897.033 1062.52 900.598 Q1064.35 904.139 1067.96 904.139 Q1071.59 904.139 1073.4 900.598 Q1075.23 897.033 1075.23 889.927 Q1075.23 882.797 1073.4 879.255 Q1071.59 875.691 1067.96 875.691 M1067.96 871.987 Q1073.77 871.987 1076.82 876.593 Q1079.9 881.177 1079.9 889.927 Q1079.9 898.653 1076.82 903.26 Q1073.77 907.843 1067.96 907.843 Q1062.15 907.843 1059.07 903.26 Q1056.01 898.653 1056.01 889.927 Q1056.01 881.177 1059.07 876.593 Q1062.15 871.987 1067.96 871.987 Z\" fill=\"#000000\" fill-rule=\"evenodd\" fill-opacity=\"1\" /><path clip-path=\"url(#clip010)\" d=\"M1454.95 872.612 L1477.17 872.612 L1477.17 874.603 L1464.62 907.172 L1459.74 907.172 L1471.55 876.547 L1454.95 876.547 L1454.95 872.612 Z\" fill=\"#000000\" fill-rule=\"evenodd\" fill-opacity=\"1\" /><path clip-path=\"url(#clip010)\" d=\"M1486.29 901.292 L1491.18 901.292 L1491.18 907.172 L1486.29 907.172 L1486.29 901.292 Z\" fill=\"#000000\" fill-rule=\"evenodd\" fill-opacity=\"1\" /><path clip-path=\"url(#clip010)\" d=\"M1501.41 872.612 L1519.76 872.612 L1519.76 876.547 L1505.69 876.547 L1505.69 885.019 Q1506.71 884.672 1507.73 884.51 Q1508.74 884.325 1509.76 884.325 Q1515.55 884.325 1518.93 887.496 Q1522.31 890.667 1522.31 896.084 Q1522.31 901.663 1518.84 904.764 Q1515.36 907.843 1509.05 907.843 Q1506.87 907.843 1504.6 907.473 Q1502.36 907.102 1499.95 906.362 L1499.95 901.663 Q1502.03 902.797 1504.25 903.352 Q1506.48 903.908 1508.95 903.908 Q1512.96 903.908 1515.3 901.802 Q1517.63 899.695 1517.63 896.084 Q1517.63 892.473 1515.3 890.366 Q1512.96 888.26 1508.95 888.26 Q1507.08 888.26 1505.2 888.677 Q1503.35 889.093 1501.41 889.973 L1501.41 872.612 Z\" fill=\"#000000\" fill-rule=\"evenodd\" fill-opacity=\"1\" /><path clip-path=\"url(#clip010)\" d=\"M1883.72 903.237 L1891.36 903.237 L1891.36 876.871 L1883.05 878.538 L1883.05 874.279 L1891.31 872.612 L1895.99 872.612 L1895.99 903.237 L1903.63 903.237 L1903.63 907.172 L1883.72 907.172 L1883.72 903.237 Z\" fill=\"#000000\" fill-rule=\"evenodd\" fill-opacity=\"1\" /><path clip-path=\"url(#clip010)\" d=\"M1923.07 875.691 Q1919.46 875.691 1917.63 879.255 Q1915.83 882.797 1915.83 889.927 Q1915.83 897.033 1917.63 900.598 Q1919.46 904.139 1923.07 904.139 Q1926.71 904.139 1928.51 900.598 Q1930.34 897.033 1930.34 889.927 Q1930.34 882.797 1928.51 879.255 Q1926.71 875.691 1923.07 875.691 M1923.07 871.987 Q1928.88 871.987 1931.94 876.593 Q1935.02 881.177 1935.02 889.927 Q1935.02 898.653 1931.94 903.26 Q1928.88 907.843 1923.07 907.843 Q1917.26 907.843 1914.18 903.26 Q1911.13 898.653 1911.13 889.927 Q1911.13 881.177 1914.18 876.593 Q1917.26 871.987 1923.07 871.987 Z\" fill=\"#000000\" fill-rule=\"evenodd\" fill-opacity=\"1\" /><path clip-path=\"url(#clip010)\" d=\"M1943.24 901.292 L1948.12 901.292 L1948.12 907.172 L1943.24 907.172 L1943.24 901.292 Z\" fill=\"#000000\" fill-rule=\"evenodd\" fill-opacity=\"1\" /><path clip-path=\"url(#clip010)\" d=\"M1968.3 875.691 Q1964.69 875.691 1962.87 879.255 Q1961.06 882.797 1961.06 889.927 Q1961.06 897.033 1962.87 900.598 Q1964.69 904.139 1968.3 904.139 Q1971.94 904.139 1973.74 900.598 Q1975.57 897.033 1975.57 889.927 Q1975.57 882.797 1973.74 879.255 Q1971.94 875.691 1968.3 875.691 M1968.3 871.987 Q1974.12 871.987 1977.17 876.593 Q1980.25 881.177 1980.25 889.927 Q1980.25 898.653 1977.17 903.26 Q1974.12 907.843 1968.3 907.843 Q1962.49 907.843 1959.42 903.26 Q1956.36 898.653 1956.36 889.927 Q1956.36 881.177 1959.42 876.593 Q1962.49 871.987 1968.3 871.987 Z\" fill=\"#000000\" fill-rule=\"evenodd\" fill-opacity=\"1\" /><path clip-path=\"url(#clip010)\" d=\"M661.996 939.039 L667.852 939.039 L667.852 988.564 L661.996 988.564 L661.996 939.039 Z\" fill=\"#000000\" fill-rule=\"evenodd\" fill-opacity=\"1\" /><path clip-path=\"url(#clip010)\" d=\"M693.92 957.022 Q689.209 957.022 686.472 960.714 Q683.735 964.374 683.735 970.772 Q683.735 977.169 686.44 980.861 Q689.178 984.522 693.92 984.522 Q698.599 984.522 701.336 980.83 Q704.073 977.137 704.073 970.772 Q704.073 964.438 701.336 960.746 Q698.599 957.022 693.92 957.022 M693.92 952.057 Q701.559 952.057 705.919 957.022 Q710.28 961.987 710.28 970.772 Q710.28 979.525 705.919 984.522 Q701.559 989.487 693.92 989.487 Q686.249 989.487 681.889 984.522 Q677.56 979.525 677.56 970.772 Q677.56 961.987 681.889 957.022 Q686.249 952.057 693.92 952.057 Z\" fill=\"#000000\" fill-rule=\"evenodd\" fill-opacity=\"1\" /><path clip-path=\"url(#clip010)\" d=\"M743.445 970.326 Q743.445 963.96 740.803 960.459 Q738.194 956.958 733.451 956.958 Q728.74 956.958 726.099 960.459 Q723.489 963.96 723.489 970.326 Q723.489 976.66 726.099 980.161 Q728.74 983.662 733.451 983.662 Q738.194 983.662 740.803 980.161 Q743.445 976.66 743.445 970.326 M749.302 984.14 Q749.302 993.243 745.259 997.667 Q741.217 1002.12 732.878 1002.12 Q729.791 1002.12 727.054 1001.65 Q724.316 1001.2 721.738 1000.24 L721.738 994.548 Q724.316 995.948 726.831 996.616 Q729.345 997.285 731.955 997.285 Q737.716 997.285 740.581 994.261 Q743.445 991.269 743.445 985.19 L743.445 982.294 Q741.631 985.445 738.798 987.004 Q735.966 988.564 732.019 988.564 Q725.462 988.564 721.452 983.567 Q717.441 978.57 717.441 970.326 Q717.441 962.051 721.452 957.054 Q725.462 952.057 732.019 952.057 Q735.966 952.057 738.798 953.616 Q741.631 955.176 743.445 958.327 L743.445 952.916 L749.302 952.916 L749.302 984.14 Z\" fill=\"#000000\" fill-rule=\"evenodd\" fill-opacity=\"1\" /><path clip-path=\"url(#clip010)\" d=\"M775.433 939.102 Q771.168 946.423 769.099 953.584 Q767.03 960.746 767.03 968.098 Q767.03 975.45 769.099 982.676 Q771.2 989.869 775.433 997.158 L770.34 997.158 Q765.566 989.678 763.179 982.453 Q760.824 975.228 760.824 968.098 Q760.824 961 763.179 953.807 Q765.534 946.614 770.34 939.102 L775.433 939.102 Z\" fill=\"#000000\" fill-rule=\"evenodd\" fill-opacity=\"1\" /><path clip-path=\"url(#clip010)\" d=\"M800.609 957.022 Q795.899 957.022 793.161 960.714 Q790.424 964.374 790.424 970.772 Q790.424 977.169 793.13 980.861 Q795.867 984.522 800.609 984.522 Q805.288 984.522 808.025 980.83 Q810.763 977.137 810.763 970.772 Q810.763 964.438 808.025 960.746 Q805.288 957.022 800.609 957.022 M800.609 952.057 Q808.248 952.057 812.609 957.022 Q816.969 961.987 816.969 970.772 Q816.969 979.525 812.609 984.522 Q808.248 989.487 800.609 989.487 Q792.939 989.487 788.578 984.522 Q784.249 979.525 784.249 970.772 Q784.249 961.987 788.578 957.022 Q792.939 952.057 800.609 952.057 Z\" fill=\"#000000\" fill-rule=\"evenodd\" fill-opacity=\"1\" /><path clip-path=\"url(#clip010)\" d=\"M852.267 970.772 Q852.267 964.311 849.593 960.65 Q846.952 956.958 842.305 956.958 Q837.658 956.958 834.984 960.65 Q832.342 964.311 832.342 970.772 Q832.342 977.233 834.984 980.925 Q837.658 984.585 842.305 984.585 Q846.952 984.585 849.593 980.925 Q852.267 977.233 852.267 970.772 M832.342 958.327 Q834.188 955.144 836.989 953.616 Q839.822 952.057 843.737 952.057 Q850.23 952.057 854.272 957.213 Q858.346 962.369 858.346 970.772 Q858.346 979.174 854.272 984.331 Q850.23 989.487 843.737 989.487 Q839.822 989.487 836.989 987.959 Q834.188 986.4 832.342 983.217 L832.342 988.564 L826.454 988.564 L826.454 939.039 L832.342 939.039 L832.342 958.327 Z\" fill=\"#000000\" fill-rule=\"evenodd\" fill-opacity=\"1\" /><path clip-path=\"url(#clip010)\" d=\"M890.779 953.966 L890.779 959.504 Q888.297 958.231 885.623 957.595 Q882.95 956.958 880.085 956.958 Q875.725 956.958 873.528 958.295 Q871.364 959.632 871.364 962.305 Q871.364 964.342 872.924 965.52 Q874.483 966.666 879.194 967.716 L881.199 968.162 Q887.438 969.499 890.047 971.949 Q892.689 974.368 892.689 978.729 Q892.689 983.694 888.742 986.59 Q884.828 989.487 877.953 989.487 Q875.088 989.487 871.969 988.914 Q868.881 988.373 865.444 987.259 L865.444 981.211 Q868.69 982.898 871.842 983.758 Q874.993 984.585 878.08 984.585 Q882.218 984.585 884.446 983.185 Q886.674 981.753 886.674 979.174 Q886.674 976.787 885.05 975.514 Q883.459 974.241 878.016 973.063 L875.979 972.586 Q870.537 971.44 868.118 969.085 Q865.699 966.698 865.699 962.56 Q865.699 957.531 869.263 954.794 Q872.828 952.057 879.385 952.057 Q882.631 952.057 885.496 952.534 Q888.361 953.011 890.779 953.966 Z\" fill=\"#000000\" fill-rule=\"evenodd\" fill-opacity=\"1\" /><path clip-path=\"url(#clip010)\" d=\"M932.507 969.276 L932.507 972.14 L905.58 972.14 Q905.962 978.188 909.208 981.371 Q912.487 984.522 918.311 984.522 Q921.685 984.522 924.836 983.694 Q928.019 982.867 931.138 981.211 L931.138 986.75 Q927.987 988.086 924.677 988.787 Q921.367 989.487 917.961 989.487 Q909.431 989.487 904.434 984.522 Q899.469 979.556 899.469 971.09 Q899.469 962.337 904.179 957.213 Q908.922 952.057 916.943 952.057 Q924.136 952.057 928.305 956.703 Q932.507 961.319 932.507 969.276 M926.65 967.557 Q926.587 962.751 923.945 959.886 Q921.335 957.022 917.006 957.022 Q912.105 957.022 909.145 959.791 Q906.216 962.56 905.771 967.589 L926.65 967.557 Z\" fill=\"#000000\" fill-rule=\"evenodd\" fill-opacity=\"1\" /><path clip-path=\"url(#clip010)\" d=\"M962.776 958.39 Q961.789 957.817 960.611 957.563 Q959.465 957.276 958.065 957.276 Q953.1 957.276 950.426 960.523 Q947.784 963.738 947.784 969.785 L947.784 988.564 L941.896 988.564 L941.896 952.916 L947.784 952.916 L947.784 958.454 Q949.63 955.208 952.591 953.648 Q955.551 952.057 959.784 952.057 Q960.389 952.057 961.121 952.152 Q961.853 952.216 962.744 952.375 L962.776 958.39 Z\" fill=\"#000000\" fill-rule=\"evenodd\" fill-opacity=\"1\" /><path clip-path=\"url(#clip010)\" d=\"M964.717 952.916 L970.924 952.916 L982.064 982.835 L993.204 952.916 L999.41 952.916 L986.042 988.564 L978.085 988.564 L964.717 952.916 Z\" fill=\"#000000\" fill-rule=\"evenodd\" fill-opacity=\"1\" /><path clip-path=\"url(#clip010)\" d=\"M1037.99 969.276 L1037.99 972.14 L1011.06 972.14 Q1011.44 978.188 1014.69 981.371 Q1017.97 984.522 1023.79 984.522 Q1027.16 984.522 1030.32 983.694 Q1033.5 982.867 1036.62 981.211 L1036.62 986.75 Q1033.47 988.086 1030.16 988.787 Q1026.85 989.487 1023.44 989.487 Q1014.91 989.487 1009.91 984.522 Q1004.95 979.556 1004.95 971.09 Q1004.95 962.337 1009.66 957.213 Q1014.4 952.057 1022.42 952.057 Q1029.62 952.057 1033.79 956.703 Q1037.99 961.319 1037.99 969.276 M1032.13 967.557 Q1032.07 962.751 1029.42 959.886 Q1026.81 957.022 1022.49 957.022 Q1017.58 957.022 1014.62 959.791 Q1011.7 962.56 1011.25 967.589 L1032.13 967.557 Z\" fill=\"#000000\" fill-rule=\"evenodd\" fill-opacity=\"1\" /><path clip-path=\"url(#clip010)\" d=\"M1071.06 958.327 L1071.06 939.039 L1076.91 939.039 L1076.91 988.564 L1071.06 988.564 L1071.06 983.217 Q1069.21 986.4 1066.38 987.959 Q1063.58 989.487 1059.63 989.487 Q1053.17 989.487 1049.09 984.331 Q1045.05 979.174 1045.05 970.772 Q1045.05 962.369 1049.09 957.213 Q1053.17 952.057 1059.63 952.057 Q1063.58 952.057 1066.38 953.616 Q1069.21 955.144 1071.06 958.327 M1051.1 970.772 Q1051.1 977.233 1053.74 980.925 Q1056.42 984.585 1061.06 984.585 Q1065.71 984.585 1068.38 980.925 Q1071.06 977.233 1071.06 970.772 Q1071.06 964.311 1068.38 960.65 Q1065.71 956.958 1061.06 956.958 Q1056.42 956.958 1053.74 960.65 Q1051.1 964.311 1051.1 970.772 Z\" fill=\"#000000\" fill-rule=\"evenodd\" fill-opacity=\"1\" /><path clip-path=\"url(#clip010)\" d=\"M1127.74 939.039 L1127.74 943.908 L1122.14 943.908 Q1118.99 943.908 1117.75 945.182 Q1116.54 946.455 1116.54 949.765 L1116.54 952.916 L1126.18 952.916 L1126.18 957.467 L1116.54 957.467 L1116.54 988.564 L1110.65 988.564 L1110.65 957.467 L1105.05 957.467 L1105.05 952.916 L1110.65 952.916 L1110.65 950.433 Q1110.65 944.481 1113.42 941.776 Q1116.19 939.039 1122.2 939.039 L1127.74 939.039 Z\" fill=\"#000000\" fill-rule=\"evenodd\" fill-opacity=\"1\" /><path clip-path=\"url(#clip010)\" d=\"M1153.3 958.39 Q1152.31 957.817 1151.14 957.563 Q1149.99 957.276 1148.59 957.276 Q1143.63 957.276 1140.95 960.523 Q1138.31 963.738 1138.31 969.785 L1138.31 988.564 L1132.42 988.564 L1132.42 952.916 L1138.31 952.916 L1138.31 958.454 Q1140.16 955.208 1143.12 953.648 Q1146.08 952.057 1150.31 952.057 Q1150.91 952.057 1151.65 952.152 Q1152.38 952.216 1153.27 952.375 L1153.3 958.39 Z\" fill=\"#000000\" fill-rule=\"evenodd\" fill-opacity=\"1\" /><path clip-path=\"url(#clip010)\" d=\"M1188.5 969.276 L1188.5 972.14 L1161.58 972.14 Q1161.96 978.188 1165.21 981.371 Q1168.48 984.522 1174.31 984.522 Q1177.68 984.522 1180.83 983.694 Q1184.02 982.867 1187.13 981.211 L1187.13 986.75 Q1183.98 988.086 1180.67 988.787 Q1177.36 989.487 1173.96 989.487 Q1165.43 989.487 1160.43 984.522 Q1155.47 979.556 1155.47 971.09 Q1155.47 962.337 1160.18 957.213 Q1164.92 952.057 1172.94 952.057 Q1180.13 952.057 1184.3 956.703 Q1188.5 961.319 1188.5 969.276 M1182.65 967.557 Q1182.58 962.751 1179.94 959.886 Q1177.33 957.022 1173 957.022 Q1168.1 957.022 1165.14 959.791 Q1162.21 962.56 1161.77 967.589 L1182.65 967.557 Z\" fill=\"#000000\" fill-rule=\"evenodd\" fill-opacity=\"1\" /><path clip-path=\"url(#clip010)\" d=\"M1201.62 970.772 Q1201.62 977.233 1204.26 980.925 Q1206.93 984.585 1211.58 984.585 Q1216.23 984.585 1218.9 980.925 Q1221.57 977.233 1221.57 970.772 Q1221.57 964.311 1218.9 960.65 Q1216.23 956.958 1211.58 956.958 Q1206.93 956.958 1204.26 960.65 Q1201.62 964.311 1201.62 970.772 M1221.57 983.217 Q1219.73 986.4 1216.89 987.959 Q1214.09 989.487 1210.15 989.487 Q1203.69 989.487 1199.61 984.331 Q1195.57 979.174 1195.57 970.772 Q1195.57 962.369 1199.61 957.213 Q1203.69 952.057 1210.15 952.057 Q1214.09 952.057 1216.89 953.616 Q1219.73 955.144 1221.57 958.327 L1221.57 952.916 L1227.43 952.916 L1227.43 1002.12 L1221.57 1002.12 L1221.57 983.217 Z\" fill=\"#000000\" fill-rule=\"evenodd\" fill-opacity=\"1\" /><path clip-path=\"url(#clip010)\" d=\"M1238.89 974.496 L1238.89 952.916 L1244.74 952.916 L1244.74 974.273 Q1244.74 979.334 1246.72 981.88 Q1248.69 984.394 1252.64 984.394 Q1257.38 984.394 1260.12 981.371 Q1262.89 978.347 1262.89 973.127 L1262.89 952.916 L1268.74 952.916 L1268.74 988.564 L1262.89 988.564 L1262.89 983.089 Q1260.75 986.336 1257.92 987.927 Q1255.12 989.487 1251.4 989.487 Q1245.25 989.487 1242.07 985.667 Q1238.89 981.848 1238.89 974.496 M1253.62 952.057 L1253.62 952.057 Z\" fill=\"#000000\" fill-rule=\"evenodd\" fill-opacity=\"1\" /><path clip-path=\"url(#clip010)\" d=\"M1311.3 969.276 L1311.3 972.14 L1284.37 972.14 Q1284.75 978.188 1288 981.371 Q1291.28 984.522 1297.1 984.522 Q1300.48 984.522 1303.63 983.694 Q1306.81 982.867 1309.93 981.211 L1309.93 986.75 Q1306.78 988.086 1303.47 988.787 Q1300.16 989.487 1296.75 989.487 Q1288.22 989.487 1283.23 984.522 Q1278.26 979.556 1278.26 971.09 Q1278.26 962.337 1282.97 957.213 Q1287.71 952.057 1295.73 952.057 Q1302.93 952.057 1307.1 956.703 Q1311.3 961.319 1311.3 969.276 M1305.44 967.557 Q1305.38 962.751 1302.74 959.886 Q1300.13 957.022 1295.8 957.022 Q1290.9 957.022 1287.94 959.791 Q1285.01 962.56 1284.56 967.589 L1305.44 967.557 Z\" fill=\"#000000\" fill-rule=\"evenodd\" fill-opacity=\"1\" /><path clip-path=\"url(#clip010)\" d=\"M1350.54 967.048 L1350.54 988.564 L1344.69 988.564 L1344.69 967.239 Q1344.69 962.178 1342.71 959.664 Q1340.74 957.149 1336.79 957.149 Q1332.05 957.149 1329.31 960.173 Q1326.58 963.197 1326.58 968.416 L1326.58 988.564 L1320.69 988.564 L1320.69 952.916 L1326.58 952.916 L1326.58 958.454 Q1328.68 955.239 1331.51 953.648 Q1334.37 952.057 1338.1 952.057 Q1344.24 952.057 1347.39 955.876 Q1350.54 959.664 1350.54 967.048 Z\" fill=\"#000000\" fill-rule=\"evenodd\" fill-opacity=\"1\" /><path clip-path=\"url(#clip010)\" d=\"M1387.88 954.285 L1387.88 959.759 Q1385.39 958.39 1382.88 957.722 Q1380.4 957.022 1377.85 957.022 Q1372.15 957.022 1369 960.65 Q1365.85 964.247 1365.85 970.772 Q1365.85 977.297 1369 980.925 Q1372.15 984.522 1377.85 984.522 Q1380.4 984.522 1382.88 983.853 Q1385.39 983.153 1387.88 981.784 L1387.88 987.195 Q1385.43 988.341 1382.78 988.914 Q1380.18 989.487 1377.21 989.487 Q1369.16 989.487 1364.42 984.426 Q1359.68 979.365 1359.68 970.772 Q1359.68 962.051 1364.45 957.054 Q1369.26 952.057 1377.6 952.057 Q1380.3 952.057 1382.88 952.629 Q1385.46 953.171 1387.88 954.285 Z\" fill=\"#000000\" fill-rule=\"evenodd\" fill-opacity=\"1\" /><path clip-path=\"url(#clip010)\" d=\"M1412.89 991.874 Q1410.41 998.24 1408.06 1000.18 Q1405.7 1002.12 1401.75 1002.12 L1397.08 1002.12 L1397.08 997.221 L1400.51 997.221 Q1402.93 997.221 1404.27 996.075 Q1405.61 994.93 1407.23 990.665 L1408.28 987.991 L1393.86 952.916 L1400.07 952.916 L1411.21 980.798 L1422.35 952.916 L1428.55 952.916 L1412.89 991.874 Z\" fill=\"#000000\" fill-rule=\"evenodd\" fill-opacity=\"1\" /><path clip-path=\"url(#clip010)\" d=\"M1435.72 939.102 L1440.81 939.102 Q1445.58 946.614 1447.94 953.807 Q1450.33 961 1450.33 968.098 Q1450.33 975.228 1447.94 982.453 Q1445.58 989.678 1440.81 997.158 L1435.72 997.158 Q1439.95 989.869 1442.02 982.676 Q1444.12 975.45 1444.12 968.098 Q1444.12 960.746 1442.02 953.584 Q1439.95 946.423 1435.72 939.102 Z\" fill=\"#000000\" fill-rule=\"evenodd\" fill-opacity=\"1\" /><polyline clip-path=\"url(#clip012)\" style=\"stroke:#000000; stroke-linecap:butt; stroke-linejoin:round; stroke-width:2; stroke-opacity:0.1; fill:none\" points=\"\n",
       "  159.565,849.7 1952.76,849.7 \n",
       "  \"/>\n",
       "<polyline clip-path=\"url(#clip012)\" style=\"stroke:#000000; stroke-linecap:butt; stroke-linejoin:round; stroke-width:2; stroke-opacity:0.1; fill:none\" points=\"\n",
       "  159.565,687.792 1952.76,687.792 \n",
       "  \"/>\n",
       "<polyline clip-path=\"url(#clip012)\" style=\"stroke:#000000; stroke-linecap:butt; stroke-linejoin:round; stroke-width:2; stroke-opacity:0.1; fill:none\" points=\"\n",
       "  159.565,525.884 1952.76,525.884 \n",
       "  \"/>\n",
       "<polyline clip-path=\"url(#clip012)\" style=\"stroke:#000000; stroke-linecap:butt; stroke-linejoin:round; stroke-width:2; stroke-opacity:0.1; fill:none\" points=\"\n",
       "  159.565,363.977 1952.76,363.977 \n",
       "  \"/>\n",
       "<polyline clip-path=\"url(#clip012)\" style=\"stroke:#000000; stroke-linecap:butt; stroke-linejoin:round; stroke-width:2; stroke-opacity:0.1; fill:none\" points=\"\n",
       "  159.565,202.069 1952.76,202.069 \n",
       "  \"/>\n",
       "<polyline clip-path=\"url(#clip010)\" style=\"stroke:#000000; stroke-linecap:butt; stroke-linejoin:round; stroke-width:4; stroke-opacity:1; fill:none\" points=\"\n",
       "  159.565,849.7 159.565,108.352 \n",
       "  \"/>\n",
       "<polyline clip-path=\"url(#clip010)\" style=\"stroke:#000000; stroke-linecap:butt; stroke-linejoin:round; stroke-width:4; stroke-opacity:1; fill:none\" points=\"\n",
       "  159.565,849.7 178.463,849.7 \n",
       "  \"/>\n",
       "<polyline clip-path=\"url(#clip010)\" style=\"stroke:#000000; stroke-linecap:butt; stroke-linejoin:round; stroke-width:4; stroke-opacity:1; fill:none\" points=\"\n",
       "  159.565,687.792 178.463,687.792 \n",
       "  \"/>\n",
       "<polyline clip-path=\"url(#clip010)\" style=\"stroke:#000000; stroke-linecap:butt; stroke-linejoin:round; stroke-width:4; stroke-opacity:1; fill:none\" points=\"\n",
       "  159.565,525.884 178.463,525.884 \n",
       "  \"/>\n",
       "<polyline clip-path=\"url(#clip010)\" style=\"stroke:#000000; stroke-linecap:butt; stroke-linejoin:round; stroke-width:4; stroke-opacity:1; fill:none\" points=\"\n",
       "  159.565,363.977 178.463,363.977 \n",
       "  \"/>\n",
       "<polyline clip-path=\"url(#clip010)\" style=\"stroke:#000000; stroke-linecap:butt; stroke-linejoin:round; stroke-width:4; stroke-opacity:1; fill:none\" points=\"\n",
       "  159.565,202.069 178.463,202.069 \n",
       "  \"/>\n",
       "<path clip-path=\"url(#clip010)\" d=\"M117.621 835.499 Q114.01 835.499 112.181 839.063 Q110.375 842.605 110.375 849.735 Q110.375 856.841 112.181 860.406 Q114.01 863.947 117.621 863.947 Q121.255 863.947 123.061 860.406 Q124.889 856.841 124.889 849.735 Q124.889 842.605 123.061 839.063 Q121.255 835.499 117.621 835.499 M117.621 831.795 Q123.431 831.795 126.487 836.401 Q129.565 840.985 129.565 849.735 Q129.565 858.461 126.487 863.068 Q123.431 867.651 117.621 867.651 Q111.811 867.651 108.732 863.068 Q105.676 858.461 105.676 849.735 Q105.676 840.985 108.732 836.401 Q111.811 831.795 117.621 831.795 Z\" fill=\"#000000\" fill-rule=\"evenodd\" fill-opacity=\"1\" /><path clip-path=\"url(#clip010)\" d=\"M113.246 701.137 L129.565 701.137 L129.565 705.072 L107.621 705.072 L107.621 701.137 Q110.283 698.382 114.866 693.753 Q119.473 689.1 120.653 687.757 Q122.899 685.234 123.778 683.498 Q124.681 681.739 124.681 680.049 Q124.681 677.294 122.737 675.558 Q120.815 673.822 117.713 673.822 Q115.514 673.822 113.061 674.586 Q110.63 675.35 107.852 676.901 L107.852 672.179 Q110.676 671.045 113.13 670.466 Q115.584 669.887 117.621 669.887 Q122.991 669.887 126.186 672.572 Q129.38 675.257 129.38 679.748 Q129.38 681.878 128.57 683.799 Q127.783 685.697 125.676 688.29 Q125.098 688.961 121.996 692.179 Q118.894 695.373 113.246 701.137 Z\" fill=\"#000000\" fill-rule=\"evenodd\" fill-opacity=\"1\" /><path clip-path=\"url(#clip010)\" d=\"M119.982 512.678 L108.176 531.127 L119.982 531.127 L119.982 512.678 M118.755 508.604 L124.635 508.604 L124.635 531.127 L129.565 531.127 L129.565 535.016 L124.635 535.016 L124.635 543.164 L119.982 543.164 L119.982 535.016 L104.38 535.016 L104.38 530.502 L118.755 508.604 Z\" fill=\"#000000\" fill-rule=\"evenodd\" fill-opacity=\"1\" /><path clip-path=\"url(#clip010)\" d=\"M118.037 362.113 Q114.889 362.113 113.038 364.266 Q111.209 366.419 111.209 370.169 Q111.209 373.896 113.038 376.072 Q114.889 378.224 118.037 378.224 Q121.186 378.224 123.014 376.072 Q124.866 373.896 124.866 370.169 Q124.866 366.419 123.014 364.266 Q121.186 362.113 118.037 362.113 M127.32 347.461 L127.32 351.72 Q125.561 350.886 123.755 350.447 Q121.973 350.007 120.213 350.007 Q115.584 350.007 113.13 353.132 Q110.7 356.257 110.352 362.576 Q111.718 360.562 113.778 359.498 Q115.838 358.41 118.315 358.41 Q123.524 358.41 126.533 361.581 Q129.565 364.729 129.565 370.169 Q129.565 375.493 126.417 378.71 Q123.269 381.928 118.037 381.928 Q112.042 381.928 108.871 377.345 Q105.7 372.738 105.7 364.011 Q105.7 355.817 109.588 350.956 Q113.477 346.072 120.028 346.072 Q121.787 346.072 123.57 346.419 Q125.375 346.766 127.32 347.461 Z\" fill=\"#000000\" fill-rule=\"evenodd\" fill-opacity=\"1\" /><path clip-path=\"url(#clip010)\" d=\"M117.713 202.937 Q114.38 202.937 112.459 204.719 Q110.561 206.502 110.561 209.627 Q110.561 212.752 112.459 214.534 Q114.38 216.317 117.713 216.317 Q121.047 216.317 122.968 214.534 Q124.889 212.729 124.889 209.627 Q124.889 206.502 122.968 204.719 Q121.07 202.937 117.713 202.937 M113.038 200.946 Q110.028 200.206 108.338 198.145 Q106.672 196.085 106.672 193.122 Q106.672 188.979 109.612 186.571 Q112.575 184.164 117.713 184.164 Q122.875 184.164 125.815 186.571 Q128.755 188.979 128.755 193.122 Q128.755 196.085 127.065 198.145 Q125.399 200.206 122.412 200.946 Q125.792 201.733 127.667 204.025 Q129.565 206.317 129.565 209.627 Q129.565 214.65 126.487 217.335 Q123.431 220.02 117.713 220.02 Q111.996 220.02 108.917 217.335 Q105.862 214.65 105.862 209.627 Q105.862 206.317 107.76 204.025 Q109.658 201.733 113.038 200.946 M111.325 193.562 Q111.325 196.247 112.991 197.752 Q114.681 199.256 117.713 199.256 Q120.723 199.256 122.412 197.752 Q124.125 196.247 124.125 193.562 Q124.125 190.877 122.412 189.372 Q120.723 187.868 117.713 187.868 Q114.681 187.868 112.991 189.372 Q111.325 190.877 111.325 193.562 Z\" fill=\"#000000\" fill-rule=\"evenodd\" fill-opacity=\"1\" /><path clip-path=\"url(#clip010)\" d=\"M10.599 728.769 L10.599 722.912 L60.1242 722.912 L60.1242 728.769 L10.599 728.769 Z\" fill=\"#000000\" fill-rule=\"evenodd\" fill-opacity=\"1\" /><path clip-path=\"url(#clip010)\" d=\"M28.5821 696.845 Q28.5821 701.555 32.2742 704.292 Q35.9345 707.03 42.332 707.03 Q48.7295 707.03 52.4217 704.324 Q56.0819 701.587 56.0819 696.845 Q56.0819 692.166 52.3898 689.429 Q48.6977 686.691 42.332 686.691 Q35.9981 686.691 32.306 689.429 Q28.5821 692.166 28.5821 696.845 M23.6168 696.845 Q23.6168 689.206 28.5821 684.845 Q33.5473 680.485 42.332 680.485 Q51.0849 680.485 56.0819 684.845 Q61.0472 689.206 61.0472 696.845 Q61.0472 704.515 56.0819 708.876 Q51.0849 713.204 42.332 713.204 Q33.5473 713.204 28.5821 708.876 Q23.6168 704.515 23.6168 696.845 Z\" fill=\"#000000\" fill-rule=\"evenodd\" fill-opacity=\"1\" /><path clip-path=\"url(#clip010)\" d=\"M41.8864 647.319 Q35.5207 647.319 32.0196 649.961 Q28.5184 652.571 28.5184 657.314 Q28.5184 662.024 32.0196 664.666 Q35.5207 667.276 41.8864 667.276 Q48.2203 667.276 51.7214 664.666 Q55.2226 662.024 55.2226 657.314 Q55.2226 652.571 51.7214 649.961 Q48.2203 647.319 41.8864 647.319 M55.7 641.463 Q64.803 641.463 69.2271 645.505 Q73.6831 649.547 73.6831 657.886 Q73.6831 660.974 73.2057 663.711 Q72.7601 666.448 71.8052 669.026 L66.1079 669.026 Q67.5084 666.448 68.1768 663.934 Q68.8452 661.419 68.8452 658.809 Q68.8452 653.048 65.8215 650.184 Q62.8296 647.319 56.7503 647.319 L53.8539 647.319 Q57.005 649.134 58.5646 651.966 Q60.1242 654.799 60.1242 658.746 Q60.1242 665.302 55.1271 669.313 Q50.13 673.323 41.8864 673.323 Q33.611 673.323 28.6139 669.313 Q23.6168 665.302 23.6168 658.746 Q23.6168 654.799 25.1764 651.966 Q26.736 649.134 29.8871 647.319 L24.4762 647.319 L24.4762 641.463 L55.7 641.463 Z\" fill=\"#000000\" fill-rule=\"evenodd\" fill-opacity=\"1\" /><path clip-path=\"url(#clip010)\" d=\"M10.6626 615.332 Q17.9832 619.597 25.1446 621.666 Q32.306 623.734 39.6584 623.734 Q47.0108 623.734 54.2359 621.666 Q61.4291 619.565 68.7179 615.332 L68.7179 620.424 Q61.2382 625.199 54.0131 627.586 Q46.788 629.941 39.6584 629.941 Q32.5606 629.941 25.3674 627.586 Q18.1742 625.23 10.6626 620.424 L10.6626 615.332 Z\" fill=\"#000000\" fill-rule=\"evenodd\" fill-opacity=\"1\" /><path clip-path=\"url(#clip010)\" d=\"M31.4466 576.787 L31.4466 586.049 L42.0774 588.723 L42.0774 579.397 L31.4466 576.787 M13.3362 581.562 L26.5451 584.872 L26.5451 575.578 L13.3362 572.236 L13.3362 567.143 L26.5451 570.422 L26.5451 560.491 L31.4466 560.491 L31.4466 571.663 L42.0774 574.273 L42.0774 564.151 L46.9471 564.151 L46.9471 575.514 L60.1242 578.824 L60.1242 583.917 L46.9471 580.639 L46.9471 589.964 L60.1242 593.243 L60.1242 598.367 L46.9471 595.057 L46.9471 605.083 L42.0774 605.083 L42.0774 593.879 L31.4466 591.206 L31.4466 601.454 L26.5451 601.454 L26.5451 589.964 L13.3362 586.718 L13.3362 581.562 Z\" fill=\"#000000\" fill-rule=\"evenodd\" fill-opacity=\"1\" /><path clip-path=\"url(#clip010)\" d=\"M28.5821 514.817 Q28.5821 519.528 32.2742 522.265 Q35.9345 525.002 42.332 525.002 Q48.7295 525.002 52.4217 522.297 Q56.0819 519.56 56.0819 514.817 Q56.0819 510.138 52.3898 507.401 Q48.6977 504.664 42.332 504.664 Q35.9981 504.664 32.306 507.401 Q28.5821 510.138 28.5821 514.817 M23.6168 514.817 Q23.6168 507.178 28.5821 502.818 Q33.5473 498.457 42.332 498.457 Q51.0849 498.457 56.0819 502.818 Q61.0472 507.178 61.0472 514.817 Q61.0472 522.488 56.0819 526.848 Q51.0849 531.177 42.332 531.177 Q33.5473 531.177 28.5821 526.848 Q23.6168 522.488 23.6168 514.817 Z\" fill=\"#000000\" fill-rule=\"evenodd\" fill-opacity=\"1\" /><path clip-path=\"url(#clip010)\" d=\"M10.599 470.703 L15.4687 470.703 L15.4687 476.305 Q15.4687 479.456 16.7419 480.697 Q18.015 481.906 21.3252 481.906 L24.4762 481.906 L24.4762 472.262 L29.0277 472.262 L29.0277 481.906 L60.1242 481.906 L60.1242 487.795 L29.0277 487.795 L29.0277 493.397 L24.4762 493.397 L24.4762 487.795 L21.9936 487.795 Q16.0416 487.795 13.3362 485.026 Q10.599 482.257 10.599 476.241 L10.599 470.703 Z\" fill=\"#000000\" fill-rule=\"evenodd\" fill-opacity=\"1\" /><path clip-path=\"url(#clip010)\" d=\"M10.599 445.304 L10.599 439.415 L39.8494 439.415 L24.4762 421.942 L24.4762 414.462 L41.1544 433.368 L60.1242 413.666 L60.1242 421.305 L42.7139 439.415 L60.1242 439.415 L60.1242 445.304 L10.599 445.304 Z\" fill=\"#000000\" fill-rule=\"evenodd\" fill-opacity=\"1\" /><path clip-path=\"url(#clip010)\" d=\"M31.3193 379.578 Q27.3726 377.382 25.4947 374.326 Q23.6168 371.27 23.6168 367.133 Q23.6168 361.563 27.5317 358.539 Q31.4148 355.515 38.6081 355.515 L60.1242 355.515 L60.1242 361.404 L38.799 361.404 Q33.6746 361.404 31.192 363.218 Q28.7094 365.032 28.7094 368.756 Q28.7094 373.308 31.7331 375.949 Q34.7568 378.591 39.9767 378.591 L60.1242 378.591 L60.1242 384.479 L38.799 384.479 Q33.6428 384.479 31.192 386.294 Q28.7094 388.108 28.7094 391.895 Q28.7094 396.383 31.7649 399.025 Q34.7886 401.667 39.9767 401.667 L60.1242 401.667 L60.1242 407.555 L24.4762 407.555 L24.4762 401.667 L30.0144 401.667 Q26.736 399.662 25.1764 396.861 Q23.6168 394.06 23.6168 390.208 Q23.6168 386.325 25.5902 383.62 Q27.5636 380.883 31.3193 379.578 Z\" fill=\"#000000\" fill-rule=\"evenodd\" fill-opacity=\"1\" /><path clip-path=\"url(#clip010)\" d=\"M40.8361 313.343 L43.7006 313.343 L43.7006 340.269 Q49.7481 339.888 52.9309 336.641 Q56.0819 333.363 56.0819 327.538 Q56.0819 324.164 55.2544 321.013 Q54.4269 317.83 52.7718 314.711 L58.3099 314.711 Q59.6467 317.862 60.347 321.172 Q61.0472 324.483 61.0472 327.888 Q61.0472 336.418 56.0819 341.415 Q51.1167 346.381 42.6503 346.381 Q33.8974 346.381 28.7731 341.67 Q23.6168 336.927 23.6168 328.907 Q23.6168 321.713 28.2638 317.544 Q32.8789 313.343 40.8361 313.343 M39.1173 319.199 Q34.3112 319.263 31.4466 321.904 Q28.5821 324.514 28.5821 328.843 Q28.5821 333.745 31.3512 336.705 Q34.1202 339.633 39.1492 340.079 L39.1173 319.199 Z\" fill=\"#000000\" fill-rule=\"evenodd\" fill-opacity=\"1\" /><path clip-path=\"url(#clip010)\" d=\"M29.9507 283.074 Q29.3778 284.06 29.1232 285.238 Q28.8367 286.384 28.8367 287.784 Q28.8367 292.749 32.0832 295.423 Q35.2979 298.065 41.3453 298.065 L60.1242 298.065 L60.1242 303.953 L24.4762 303.953 L24.4762 298.065 L30.0144 298.065 Q26.7679 296.219 25.2083 293.259 Q23.6168 290.299 23.6168 286.066 Q23.6168 285.461 23.7123 284.729 Q23.776 283.997 23.9351 283.105 L29.9507 283.074 Z\" fill=\"#000000\" fill-rule=\"evenodd\" fill-opacity=\"1\" /><path clip-path=\"url(#clip010)\" d=\"M25.5265 254.205 L31.0647 254.205 Q29.7916 256.688 29.155 259.361 Q28.5184 262.035 28.5184 264.9 Q28.5184 269.26 29.8552 271.456 Q31.192 273.621 33.8656 273.621 Q35.9026 273.621 37.0803 272.061 Q38.2261 270.501 39.2765 265.791 L39.7221 263.786 Q41.0589 257.547 43.5097 254.937 Q45.9286 252.295 50.2891 252.295 Q55.2544 252.295 58.1508 256.242 Q61.0472 260.157 61.0472 267.032 Q61.0472 269.897 60.4743 273.016 Q59.9332 276.103 58.8192 279.541 L52.7718 279.541 Q54.4587 276.294 55.318 273.143 Q56.1456 269.992 56.1456 266.905 Q56.1456 262.767 54.7451 260.539 Q53.3129 258.311 50.7347 258.311 Q48.3476 258.311 47.0745 259.934 Q45.8013 261.526 44.6237 266.968 L44.1462 269.005 Q43.0004 274.448 40.6451 276.867 Q38.258 279.286 34.1202 279.286 Q29.0913 279.286 26.3541 275.721 Q23.6168 272.156 23.6168 265.6 Q23.6168 262.353 24.0943 259.489 Q24.5717 256.624 25.5265 254.205 Z\" fill=\"#000000\" fill-rule=\"evenodd\" fill-opacity=\"1\" /><path clip-path=\"url(#clip010)\" d=\"M10.6626 243.893 L10.6626 238.8 Q18.1742 234.026 25.3674 231.671 Q32.5606 229.283 39.6584 229.283 Q46.788 229.283 54.0131 231.671 Q61.2382 234.026 68.7179 238.8 L68.7179 243.893 Q61.4291 239.66 54.2359 237.591 Q47.0108 235.49 39.6584 235.49 Q32.306 235.49 25.1446 237.591 Q17.9832 239.66 10.6626 243.893 Z\" fill=\"#000000\" fill-rule=\"evenodd\" fill-opacity=\"1\" /><path clip-path=\"url(#clip010)\" d=\"M699.6 9.54393 L707.094 9.54393 L707.094 46.7717 L729.334 27.2059 L738.853 27.2059 L714.791 48.4326 L739.866 72.576 L730.144 72.576 L707.094 50.4176 L707.094 72.576 L699.6 72.576 L699.6 9.54393 Z\" fill=\"#000000\" fill-rule=\"evenodd\" fill-opacity=\"1\" /><path clip-path=\"url(#clip010)\" d=\"M783.251 35.9153 Q786.046 30.8922 789.935 28.5022 Q793.824 26.1121 799.09 26.1121 Q806.179 26.1121 810.028 31.0947 Q813.876 36.0368 813.876 45.1919 L813.876 72.576 L806.382 72.576 L806.382 45.4349 Q806.382 38.913 804.073 35.7533 Q801.764 32.5936 797.024 32.5936 Q791.231 32.5936 787.869 36.4419 Q784.507 40.2903 784.507 46.9338 L784.507 72.576 L777.013 72.576 L777.013 45.4349 Q777.013 38.8725 774.704 35.7533 Q772.395 32.5936 767.574 32.5936 Q761.862 32.5936 758.5 36.4824 Q755.138 40.3308 755.138 46.9338 L755.138 72.576 L747.644 72.576 L747.644 27.2059 L755.138 27.2059 L755.138 34.2544 Q757.69 30.082 761.255 28.0971 Q764.82 26.1121 769.721 26.1121 Q774.663 26.1121 778.106 28.6237 Q781.59 31.1352 783.251 35.9153 Z\" fill=\"#000000\" fill-rule=\"evenodd\" fill-opacity=\"1\" /><path clip-path=\"url(#clip010)\" d=\"M867.55 48.0275 L867.55 51.6733 L833.28 51.6733 Q833.766 59.3701 837.898 63.421 Q842.07 67.4314 849.483 67.4314 Q853.777 67.4314 857.788 66.3781 Q861.839 65.3249 865.809 63.2184 L865.809 70.267 Q861.798 71.9684 857.585 72.8596 Q853.372 73.7508 849.038 73.7508 Q838.181 73.7508 831.821 67.4314 Q825.502 61.1119 825.502 50.3365 Q825.502 39.1965 831.497 32.6746 Q837.533 26.1121 847.742 26.1121 Q856.897 26.1121 862.203 32.0264 Q867.55 37.9003 867.55 48.0275 M860.097 45.84 Q860.016 39.7232 856.654 36.0774 Q853.332 32.4315 847.823 32.4315 Q841.584 32.4315 837.817 35.9558 Q834.09 39.4801 833.523 45.8805 L860.097 45.84 Z\" fill=\"#000000\" fill-rule=\"evenodd\" fill-opacity=\"1\" /><path clip-path=\"url(#clip010)\" d=\"M906.075 34.1734 Q904.819 33.4443 903.32 33.1202 Q901.862 32.7556 900.079 32.7556 Q893.76 32.7556 890.357 36.8875 Q886.995 40.9789 886.995 48.6757 L886.995 72.576 L879.501 72.576 L879.501 27.2059 L886.995 27.2059 L886.995 34.2544 Q889.344 30.1225 893.112 28.1376 Q896.879 26.1121 902.267 26.1121 Q903.036 26.1121 903.968 26.2337 Q904.9 26.3147 906.034 26.5172 L906.075 34.1734 Z\" fill=\"#000000\" fill-rule=\"evenodd\" fill-opacity=\"1\" /><path clip-path=\"url(#clip010)\" d=\"M963.233 9.54393 L963.233 15.7418 L956.103 15.7418 Q952.093 15.7418 950.513 17.3622 Q948.974 18.9825 948.974 23.1955 L948.974 27.2059 L961.248 27.2059 L961.248 32.9987 L948.974 32.9987 L948.974 72.576 L941.479 72.576 L941.479 32.9987 L934.35 32.9987 L934.35 27.2059 L941.479 27.2059 L941.479 24.0462 Q941.479 16.471 945.004 13.0277 Q948.528 9.54393 956.184 9.54393 L963.233 9.54393 Z\" fill=\"#000000\" fill-rule=\"evenodd\" fill-opacity=\"1\" /><path clip-path=\"url(#clip010)\" d=\"M995.762 34.1734 Q994.506 33.4443 993.007 33.1202 Q991.549 32.7556 989.766 32.7556 Q983.447 32.7556 980.044 36.8875 Q976.682 40.9789 976.682 48.6757 L976.682 72.576 L969.188 72.576 L969.188 27.2059 L976.682 27.2059 L976.682 34.2544 Q979.031 30.1225 982.799 28.1376 Q986.566 26.1121 991.954 26.1121 Q992.723 26.1121 993.655 26.2337 Q994.587 26.3147 995.721 26.5172 L995.762 34.1734 Z\" fill=\"#000000\" fill-rule=\"evenodd\" fill-opacity=\"1\" /><path clip-path=\"url(#clip010)\" d=\"M1040.56 48.0275 L1040.56 51.6733 L1006.29 51.6733 Q1006.78 59.3701 1010.91 63.421 Q1015.08 67.4314 1022.5 67.4314 Q1026.79 67.4314 1030.8 66.3781 Q1034.85 65.3249 1038.82 63.2184 L1038.82 70.267 Q1034.81 71.9684 1030.6 72.8596 Q1026.39 73.7508 1022.05 73.7508 Q1011.2 73.7508 1004.84 67.4314 Q998.516 61.1119 998.516 50.3365 Q998.516 39.1965 1004.51 32.6746 Q1010.55 26.1121 1020.76 26.1121 Q1029.91 26.1121 1035.22 32.0264 Q1040.56 37.9003 1040.56 48.0275 M1033.11 45.84 Q1033.03 39.7232 1029.67 36.0774 Q1026.35 32.4315 1020.84 32.4315 Q1014.6 32.4315 1010.83 35.9558 Q1007.1 39.4801 1006.54 45.8805 L1033.11 45.84 Z\" fill=\"#000000\" fill-rule=\"evenodd\" fill-opacity=\"1\" /><path clip-path=\"url(#clip010)\" d=\"M1057.25 49.9314 Q1057.25 58.1548 1060.62 62.8538 Q1064.02 67.5124 1069.93 67.5124 Q1075.85 67.5124 1079.25 62.8538 Q1082.65 58.1548 1082.65 49.9314 Q1082.65 41.7081 1079.25 37.0496 Q1075.85 32.3505 1069.93 32.3505 Q1064.02 32.3505 1060.62 37.0496 Q1057.25 41.7081 1057.25 49.9314 M1082.65 65.7705 Q1080.3 69.8214 1076.7 71.8063 Q1073.13 73.7508 1068.11 73.7508 Q1059.89 73.7508 1054.7 67.1883 Q1049.56 60.6258 1049.56 49.9314 Q1049.56 39.2371 1054.7 32.6746 Q1059.89 26.1121 1068.11 26.1121 Q1073.13 26.1121 1076.7 28.0971 Q1080.3 30.0415 1082.65 34.0924 L1082.65 27.2059 L1090.11 27.2059 L1090.11 89.8329 L1082.65 89.8329 L1082.65 65.7705 Z\" fill=\"#000000\" fill-rule=\"evenodd\" fill-opacity=\"1\" /><path clip-path=\"url(#clip010)\" d=\"M1104.69 54.671 L1104.69 27.2059 L1112.14 27.2059 L1112.14 54.3874 Q1112.14 60.8284 1114.66 64.0691 Q1117.17 67.2693 1122.19 67.2693 Q1128.23 67.2693 1131.71 63.421 Q1135.23 59.5726 1135.23 52.9291 L1135.23 27.2059 L1142.69 27.2059 L1142.69 72.576 L1135.23 72.576 L1135.23 65.6084 Q1132.52 69.7404 1128.91 71.7658 Q1125.35 73.7508 1120.61 73.7508 Q1112.79 73.7508 1108.74 68.8897 Q1104.69 64.0286 1104.69 54.671 M1123.45 26.1121 L1123.45 26.1121 Z\" fill=\"#000000\" fill-rule=\"evenodd\" fill-opacity=\"1\" /><path clip-path=\"url(#clip010)\" d=\"M1196.85 48.0275 L1196.85 51.6733 L1162.58 51.6733 Q1163.06 59.3701 1167.2 63.421 Q1171.37 67.4314 1178.78 67.4314 Q1183.08 67.4314 1187.09 66.3781 Q1191.14 65.3249 1195.11 63.2184 L1195.11 70.267 Q1191.1 71.9684 1186.88 72.8596 Q1182.67 73.7508 1178.34 73.7508 Q1167.48 73.7508 1161.12 67.4314 Q1154.8 61.1119 1154.8 50.3365 Q1154.8 39.1965 1160.8 32.6746 Q1166.83 26.1121 1177.04 26.1121 Q1186.19 26.1121 1191.5 32.0264 Q1196.85 37.9003 1196.85 48.0275 M1189.39 45.84 Q1189.31 39.7232 1185.95 36.0774 Q1182.63 32.4315 1177.12 32.4315 Q1170.88 32.4315 1167.11 35.9558 Q1163.39 39.4801 1162.82 45.8805 L1189.39 45.84 Z\" fill=\"#000000\" fill-rule=\"evenodd\" fill-opacity=\"1\" /><path clip-path=\"url(#clip010)\" d=\"M1246.8 45.1919 L1246.8 72.576 L1239.34 72.576 L1239.34 45.4349 Q1239.34 38.994 1236.83 35.7938 Q1234.32 32.5936 1229.3 32.5936 Q1223.26 32.5936 1219.78 36.4419 Q1216.29 40.2903 1216.29 46.9338 L1216.29 72.576 L1208.8 72.576 L1208.8 27.2059 L1216.29 27.2059 L1216.29 34.2544 Q1218.97 30.163 1222.57 28.1376 Q1226.22 26.1121 1230.96 26.1121 Q1238.78 26.1121 1242.79 30.9732 Q1246.8 35.7938 1246.8 45.1919 Z\" fill=\"#000000\" fill-rule=\"evenodd\" fill-opacity=\"1\" /><path clip-path=\"url(#clip010)\" d=\"M1294.31 28.9478 L1294.31 35.9153 Q1291.15 34.1734 1287.95 33.3227 Q1284.79 32.4315 1281.55 32.4315 Q1274.3 32.4315 1270.29 37.0496 Q1266.28 41.6271 1266.28 49.9314 Q1266.28 58.2358 1270.29 62.8538 Q1274.3 67.4314 1281.55 67.4314 Q1284.79 67.4314 1287.95 66.5807 Q1291.15 65.6895 1294.31 63.9476 L1294.31 70.8341 Q1291.19 72.2924 1287.83 73.0216 Q1284.51 73.7508 1280.74 73.7508 Q1270.49 73.7508 1264.46 67.3098 Q1258.42 60.8689 1258.42 49.9314 Q1258.42 38.832 1264.5 32.472 Q1270.62 26.1121 1281.23 26.1121 Q1284.67 26.1121 1287.95 26.8413 Q1291.23 27.5299 1294.31 28.9478 Z\" fill=\"#000000\" fill-rule=\"evenodd\" fill-opacity=\"1\" /><path clip-path=\"url(#clip010)\" d=\"M1307.28 27.2059 L1314.73 27.2059 L1314.73 72.576 L1307.28 72.576 L1307.28 27.2059 M1307.28 9.54393 L1314.73 9.54393 L1314.73 18.9825 L1307.28 18.9825 L1307.28 9.54393 Z\" fill=\"#000000\" fill-rule=\"evenodd\" fill-opacity=\"1\" /><path clip-path=\"url(#clip010)\" d=\"M1369.13 48.0275 L1369.13 51.6733 L1334.86 51.6733 Q1335.35 59.3701 1339.48 63.421 Q1343.65 67.4314 1351.07 67.4314 Q1355.36 67.4314 1359.37 66.3781 Q1363.42 65.3249 1367.39 63.2184 L1367.39 70.267 Q1363.38 71.9684 1359.17 72.8596 Q1354.96 73.7508 1350.62 73.7508 Q1339.76 73.7508 1333.4 67.4314 Q1327.09 61.1119 1327.09 50.3365 Q1327.09 39.1965 1333.08 32.6746 Q1339.12 26.1121 1349.32 26.1121 Q1358.48 26.1121 1363.79 32.0264 Q1369.13 37.9003 1369.13 48.0275 M1361.68 45.84 Q1361.6 39.7232 1358.24 36.0774 Q1354.91 32.4315 1349.41 32.4315 Q1343.17 32.4315 1339.4 35.9558 Q1335.67 39.4801 1335.11 45.8805 L1361.68 45.84 Z\" fill=\"#000000\" fill-rule=\"evenodd\" fill-opacity=\"1\" /><path clip-path=\"url(#clip010)\" d=\"M1410.29 28.5427 L1410.29 35.5912 Q1407.13 33.9709 1403.73 33.1607 Q1400.33 32.3505 1396.68 32.3505 Q1391.13 32.3505 1388.33 34.0519 Q1385.58 35.7533 1385.58 39.156 Q1385.58 41.7486 1387.57 43.2475 Q1389.55 44.7058 1395.55 46.0426 L1398.1 46.6097 Q1406.04 48.3111 1409.36 51.4303 Q1412.72 54.509 1412.72 60.0587 Q1412.72 66.3781 1407.7 70.0644 Q1402.72 73.7508 1393.97 73.7508 Q1390.32 73.7508 1386.35 73.0216 Q1382.42 72.3329 1378.05 70.9151 L1378.05 63.2184 Q1382.18 65.3654 1386.19 66.4591 Q1390.2 67.5124 1394.13 67.5124 Q1399.39 67.5124 1402.23 65.73 Q1405.06 63.9071 1405.06 60.6258 Q1405.06 57.5877 1403 55.9673 Q1400.97 54.3469 1394.05 52.8481 L1391.45 52.2405 Q1384.53 50.7821 1381.45 47.7845 Q1378.37 44.7463 1378.37 39.4801 Q1378.37 33.0797 1382.91 29.5959 Q1387.44 26.1121 1395.79 26.1121 Q1399.92 26.1121 1403.57 26.7198 Q1407.21 27.3274 1410.29 28.5427 Z\" fill=\"#000000\" fill-rule=\"evenodd\" fill-opacity=\"1\" /><circle clip-path=\"url(#clip012)\" cx=\"444.771\" cy=\"410.173\" r=\"14\" fill=\"#009af9\" fill-rule=\"evenodd\" fill-opacity=\"1\" stroke=\"#000000\" stroke-opacity=\"1\" stroke-width=\"2\"/>\n",
       "<circle clip-path=\"url(#clip012)\" cx=\"1773.36\" cy=\"760.763\" r=\"14\" fill=\"#009af9\" fill-rule=\"evenodd\" fill-opacity=\"1\" stroke=\"#000000\" stroke-opacity=\"1\" stroke-width=\"2\"/>\n",
       "<circle clip-path=\"url(#clip012)\" cx=\"789.603\" cy=\"564.227\" r=\"14\" fill=\"#009af9\" fill-rule=\"evenodd\" fill-opacity=\"1\" stroke=\"#000000\" stroke-opacity=\"1\" stroke-width=\"2\"/>\n",
       "<circle clip-path=\"url(#clip012)\" cx=\"872.892\" cy=\"681.361\" r=\"14\" fill=\"#009af9\" fill-rule=\"evenodd\" fill-opacity=\"1\" stroke=\"#000000\" stroke-opacity=\"1\" stroke-width=\"2\"/>\n",
       "<circle clip-path=\"url(#clip012)\" cx=\"869.699\" cy=\"849.7\" r=\"14\" fill=\"#009af9\" fill-rule=\"evenodd\" fill-opacity=\"1\" stroke=\"#000000\" stroke-opacity=\"1\" stroke-width=\"2\"/>\n",
       "<circle clip-path=\"url(#clip012)\" cx=\"1774.28\" cy=\"849.7\" r=\"14\" fill=\"#009af9\" fill-rule=\"evenodd\" fill-opacity=\"1\" stroke=\"#000000\" stroke-opacity=\"1\" stroke-width=\"2\"/>\n",
       "<circle clip-path=\"url(#clip012)\" cx=\"885.118\" cy=\"671.826\" r=\"14\" fill=\"#009af9\" fill-rule=\"evenodd\" fill-opacity=\"1\" stroke=\"#000000\" stroke-opacity=\"1\" stroke-width=\"2\"/>\n",
       "<circle clip-path=\"url(#clip012)\" cx=\"762.286\" cy=\"547.121\" r=\"14\" fill=\"#009af9\" fill-rule=\"evenodd\" fill-opacity=\"1\" stroke=\"#000000\" stroke-opacity=\"1\" stroke-width=\"2\"/>\n",
       "<circle clip-path=\"url(#clip012)\" cx=\"1773.34\" cy=\"849.7\" r=\"14\" fill=\"#009af9\" fill-rule=\"evenodd\" fill-opacity=\"1\" stroke=\"#000000\" stroke-opacity=\"1\" stroke-width=\"2\"/>\n",
       "<circle clip-path=\"url(#clip012)\" cx=\"1772.55\" cy=\"849.7\" r=\"14\" fill=\"#009af9\" fill-rule=\"evenodd\" fill-opacity=\"1\" stroke=\"#000000\" stroke-opacity=\"1\" stroke-width=\"2\"/>\n",
       "<circle clip-path=\"url(#clip012)\" cx=\"773.723\" cy=\"559.6\" r=\"14\" fill=\"#009af9\" fill-rule=\"evenodd\" fill-opacity=\"1\" stroke=\"#000000\" stroke-opacity=\"1\" stroke-width=\"2\"/>\n",
       "<circle clip-path=\"url(#clip012)\" cx=\"477.08\" cy=\"376.408\" r=\"14\" fill=\"#009af9\" fill-rule=\"evenodd\" fill-opacity=\"1\" stroke=\"#000000\" stroke-opacity=\"1\" stroke-width=\"2\"/>\n",
       "<circle clip-path=\"url(#clip012)\" cx=\"904.672\" cy=\"760.763\" r=\"14\" fill=\"#009af9\" fill-rule=\"evenodd\" fill-opacity=\"1\" stroke=\"#000000\" stroke-opacity=\"1\" stroke-width=\"2\"/>\n",
       "<circle clip-path=\"url(#clip012)\" cx=\"834.138\" cy=\"681.361\" r=\"14\" fill=\"#009af9\" fill-rule=\"evenodd\" fill-opacity=\"1\" stroke=\"#000000\" stroke-opacity=\"1\" stroke-width=\"2\"/>\n",
       "<circle clip-path=\"url(#clip012)\" cx=\"1773.08\" cy=\"849.7\" r=\"14\" fill=\"#009af9\" fill-rule=\"evenodd\" fill-opacity=\"1\" stroke=\"#000000\" stroke-opacity=\"1\" stroke-width=\"2\"/>\n",
       "<circle clip-path=\"url(#clip012)\" cx=\"1773.18\" cy=\"849.7\" r=\"14\" fill=\"#009af9\" fill-rule=\"evenodd\" fill-opacity=\"1\" stroke=\"#000000\" stroke-opacity=\"1\" stroke-width=\"2\"/>\n",
       "<circle clip-path=\"url(#clip012)\" cx=\"1774.26\" cy=\"849.7\" r=\"14\" fill=\"#009af9\" fill-rule=\"evenodd\" fill-opacity=\"1\" stroke=\"#000000\" stroke-opacity=\"1\" stroke-width=\"2\"/>\n",
       "<circle clip-path=\"url(#clip012)\" cx=\"919.871\" cy=\"760.763\" r=\"14\" fill=\"#009af9\" fill-rule=\"evenodd\" fill-opacity=\"1\" stroke=\"#000000\" stroke-opacity=\"1\" stroke-width=\"2\"/>\n",
       "<circle clip-path=\"url(#clip012)\" cx=\"1773.4\" cy=\"849.7\" r=\"14\" fill=\"#009af9\" fill-rule=\"evenodd\" fill-opacity=\"1\" stroke=\"#000000\" stroke-opacity=\"1\" stroke-width=\"2\"/>\n",
       "<circle clip-path=\"url(#clip012)\" cx=\"1772.53\" cy=\"849.7\" r=\"14\" fill=\"#009af9\" fill-rule=\"evenodd\" fill-opacity=\"1\" stroke=\"#000000\" stroke-opacity=\"1\" stroke-width=\"2\"/>\n",
       "<circle clip-path=\"url(#clip012)\" cx=\"896.555\" cy=\"692.171\" r=\"14\" fill=\"#009af9\" fill-rule=\"evenodd\" fill-opacity=\"1\" stroke=\"#000000\" stroke-opacity=\"1\" stroke-width=\"2\"/>\n",
       "<circle clip-path=\"url(#clip012)\" cx=\"1773.81\" cy=\"849.7\" r=\"14\" fill=\"#009af9\" fill-rule=\"evenodd\" fill-opacity=\"1\" stroke=\"#000000\" stroke-opacity=\"1\" stroke-width=\"2\"/>\n",
       "<circle clip-path=\"url(#clip012)\" cx=\"1773.48\" cy=\"849.7\" r=\"14\" fill=\"#009af9\" fill-rule=\"evenodd\" fill-opacity=\"1\" stroke=\"#000000\" stroke-opacity=\"1\" stroke-width=\"2\"/>\n",
       "<circle clip-path=\"url(#clip012)\" cx=\"405.228\" cy=\"440.894\" r=\"14\" fill=\"#009af9\" fill-rule=\"evenodd\" fill-opacity=\"1\" stroke=\"#000000\" stroke-opacity=\"1\" stroke-width=\"2\"/>\n",
       "<circle clip-path=\"url(#clip012)\" cx=\"614.096\" cy=\"401.113\" r=\"14\" fill=\"#009af9\" fill-rule=\"evenodd\" fill-opacity=\"1\" stroke=\"#000000\" stroke-opacity=\"1\" stroke-width=\"2\"/>\n",
       "<circle clip-path=\"url(#clip012)\" cx=\"893.764\" cy=\"692.171\" r=\"14\" fill=\"#009af9\" fill-rule=\"evenodd\" fill-opacity=\"1\" stroke=\"#000000\" stroke-opacity=\"1\" stroke-width=\"2\"/>\n",
       "<circle clip-path=\"url(#clip012)\" cx=\"1772.79\" cy=\"793.587\" r=\"14\" fill=\"#009af9\" fill-rule=\"evenodd\" fill-opacity=\"1\" stroke=\"#000000\" stroke-opacity=\"1\" stroke-width=\"2\"/>\n",
       "<circle clip-path=\"url(#clip012)\" cx=\"866.447\" cy=\"704.65\" r=\"14\" fill=\"#009af9\" fill-rule=\"evenodd\" fill-opacity=\"1\" stroke=\"#000000\" stroke-opacity=\"1\" stroke-width=\"2\"/>\n",
       "<circle clip-path=\"url(#clip012)\" cx=\"1772.77\" cy=\"849.7\" r=\"14\" fill=\"#009af9\" fill-rule=\"evenodd\" fill-opacity=\"1\" stroke=\"#000000\" stroke-opacity=\"1\" stroke-width=\"2\"/>\n",
       "<circle clip-path=\"url(#clip012)\" cx=\"1774.12\" cy=\"793.587\" r=\"14\" fill=\"#009af9\" fill-rule=\"evenodd\" fill-opacity=\"1\" stroke=\"#000000\" stroke-opacity=\"1\" stroke-width=\"2\"/>\n",
       "<circle clip-path=\"url(#clip012)\" cx=\"1772.95\" cy=\"793.587\" r=\"14\" fill=\"#009af9\" fill-rule=\"evenodd\" fill-opacity=\"1\" stroke=\"#000000\" stroke-opacity=\"1\" stroke-width=\"2\"/>\n",
       "<circle clip-path=\"url(#clip012)\" cx=\"1773.99\" cy=\"849.7\" r=\"14\" fill=\"#009af9\" fill-rule=\"evenodd\" fill-opacity=\"1\" stroke=\"#000000\" stroke-opacity=\"1\" stroke-width=\"2\"/>\n",
       "<circle clip-path=\"url(#clip012)\" cx=\"890.928\" cy=\"704.65\" r=\"14\" fill=\"#009af9\" fill-rule=\"evenodd\" fill-opacity=\"1\" stroke=\"#000000\" stroke-opacity=\"1\" stroke-width=\"2\"/>\n",
       "<circle clip-path=\"url(#clip012)\" cx=\"1772.85\" cy=\"760.763\" r=\"14\" fill=\"#009af9\" fill-rule=\"evenodd\" fill-opacity=\"1\" stroke=\"#000000\" stroke-opacity=\"1\" stroke-width=\"2\"/>\n",
       "<circle clip-path=\"url(#clip012)\" cx=\"958.928\" cy=\"849.7\" r=\"14\" fill=\"#009af9\" fill-rule=\"evenodd\" fill-opacity=\"1\" stroke=\"#000000\" stroke-opacity=\"1\" stroke-width=\"2\"/>\n",
       "<circle clip-path=\"url(#clip012)\" cx=\"879.11\" cy=\"630.473\" r=\"14\" fill=\"#009af9\" fill-rule=\"evenodd\" fill-opacity=\"1\" stroke=\"#000000\" stroke-opacity=\"1\" stroke-width=\"2\"/>\n",
       "<circle clip-path=\"url(#clip012)\" cx=\"859.759\" cy=\"648.537\" r=\"14\" fill=\"#009af9\" fill-rule=\"evenodd\" fill-opacity=\"1\" stroke=\"#000000\" stroke-opacity=\"1\" stroke-width=\"2\"/>\n",
       "<circle clip-path=\"url(#clip012)\" cx=\"599.912\" cy=\"394.707\" r=\"14\" fill=\"#009af9\" fill-rule=\"evenodd\" fill-opacity=\"1\" stroke=\"#000000\" stroke-opacity=\"1\" stroke-width=\"2\"/>\n",
       "<circle clip-path=\"url(#clip012)\" cx=\"750.06\" cy=\"526.776\" r=\"14\" fill=\"#009af9\" fill-rule=\"evenodd\" fill-opacity=\"1\" stroke=\"#000000\" stroke-opacity=\"1\" stroke-width=\"2\"/>\n",
       "<circle clip-path=\"url(#clip012)\" cx=\"1772.83\" cy=\"849.7\" r=\"14\" fill=\"#009af9\" fill-rule=\"evenodd\" fill-opacity=\"1\" stroke=\"#000000\" stroke-opacity=\"1\" stroke-width=\"2\"/>\n",
       "<circle clip-path=\"url(#clip012)\" cx=\"924.661\" cy=\"793.587\" r=\"14\" fill=\"#009af9\" fill-rule=\"evenodd\" fill-opacity=\"1\" stroke=\"#000000\" stroke-opacity=\"1\" stroke-width=\"2\"/>\n",
       "<circle clip-path=\"url(#clip012)\" cx=\"715.201\" cy=\"522.399\" r=\"14\" fill=\"#009af9\" fill-rule=\"evenodd\" fill-opacity=\"1\" stroke=\"#000000\" stroke-opacity=\"1\" stroke-width=\"2\"/>\n",
       "<circle clip-path=\"url(#clip012)\" cx=\"960.865\" cy=\"849.7\" r=\"14\" fill=\"#009af9\" fill-rule=\"evenodd\" fill-opacity=\"1\" stroke=\"#000000\" stroke-opacity=\"1\" stroke-width=\"2\"/>\n",
       "<circle clip-path=\"url(#clip012)\" cx=\"817.642\" cy=\"671.826\" r=\"14\" fill=\"#009af9\" fill-rule=\"evenodd\" fill-opacity=\"1\" stroke=\"#000000\" stroke-opacity=\"1\" stroke-width=\"2\"/>\n",
       "<circle clip-path=\"url(#clip012)\" cx=\"826.082\" cy=\"655.581\" r=\"14\" fill=\"#009af9\" fill-rule=\"evenodd\" fill-opacity=\"1\" stroke=\"#000000\" stroke-opacity=\"1\" stroke-width=\"2\"/>\n",
       "<circle clip-path=\"url(#clip012)\" cx=\"584.493\" cy=\"364.87\" r=\"14\" fill=\"#009af9\" fill-rule=\"evenodd\" fill-opacity=\"1\" stroke=\"#000000\" stroke-opacity=\"1\" stroke-width=\"2\"/>\n",
       "<circle clip-path=\"url(#clip012)\" cx=\"794.595\" cy=\"595.869\" r=\"14\" fill=\"#009af9\" fill-rule=\"evenodd\" fill-opacity=\"1\" stroke=\"#000000\" stroke-opacity=\"1\" stroke-width=\"2\"/>\n",
       "<circle clip-path=\"url(#clip012)\" cx=\"907.298\" cy=\"737.474\" r=\"14\" fill=\"#009af9\" fill-rule=\"evenodd\" fill-opacity=\"1\" stroke=\"#000000\" stroke-opacity=\"1\" stroke-width=\"2\"/>\n",
       "<circle clip-path=\"url(#clip012)\" cx=\"909.885\" cy=\"704.65\" r=\"14\" fill=\"#009af9\" fill-rule=\"evenodd\" fill-opacity=\"1\" stroke=\"#000000\" stroke-opacity=\"1\" stroke-width=\"2\"/>\n",
       "<circle clip-path=\"url(#clip012)\" cx=\"1774.18\" cy=\"793.587\" r=\"14\" fill=\"#009af9\" fill-rule=\"evenodd\" fill-opacity=\"1\" stroke=\"#000000\" stroke-opacity=\"1\" stroke-width=\"2\"/>\n",
       "<circle clip-path=\"url(#clip012)\" cx=\"940.473\" cy=\"671.826\" r=\"14\" fill=\"#009af9\" fill-rule=\"evenodd\" fill-opacity=\"1\" stroke=\"#000000\" stroke-opacity=\"1\" stroke-width=\"2\"/>\n",
       "<circle clip-path=\"url(#clip012)\" cx=\"1773.56\" cy=\"849.7\" r=\"14\" fill=\"#009af9\" fill-rule=\"evenodd\" fill-opacity=\"1\" stroke=\"#000000\" stroke-opacity=\"1\" stroke-width=\"2\"/>\n",
       "<circle clip-path=\"url(#clip012)\" cx=\"946.841\" cy=\"849.7\" r=\"14\" fill=\"#009af9\" fill-rule=\"evenodd\" fill-opacity=\"1\" stroke=\"#000000\" stroke-opacity=\"1\" stroke-width=\"2\"/>\n",
       "<circle clip-path=\"url(#clip012)\" cx=\"1773.1\" cy=\"849.7\" r=\"14\" fill=\"#009af9\" fill-rule=\"evenodd\" fill-opacity=\"1\" stroke=\"#000000\" stroke-opacity=\"1\" stroke-width=\"2\"/>\n",
       "<circle clip-path=\"url(#clip012)\" cx=\"1773.65\" cy=\"849.7\" r=\"14\" fill=\"#009af9\" fill-rule=\"evenodd\" fill-opacity=\"1\" stroke=\"#000000\" stroke-opacity=\"1\" stroke-width=\"2\"/>\n",
       "<circle clip-path=\"url(#clip012)\" cx=\"1773.04\" cy=\"793.587\" r=\"14\" fill=\"#009af9\" fill-rule=\"evenodd\" fill-opacity=\"1\" stroke=\"#000000\" stroke-opacity=\"1\" stroke-width=\"2\"/>\n",
       "<circle clip-path=\"url(#clip012)\" cx=\"808.779\" cy=\"625.248\" r=\"14\" fill=\"#009af9\" fill-rule=\"evenodd\" fill-opacity=\"1\" stroke=\"#000000\" stroke-opacity=\"1\" stroke-width=\"2\"/>\n",
       "<circle clip-path=\"url(#clip012)\" cx=\"1774.32\" cy=\"849.7\" r=\"14\" fill=\"#009af9\" fill-rule=\"evenodd\" fill-opacity=\"1\" stroke=\"#000000\" stroke-opacity=\"1\" stroke-width=\"2\"/>\n",
       "<circle clip-path=\"url(#clip012)\" cx=\"944.744\" cy=\"849.7\" r=\"14\" fill=\"#009af9\" fill-rule=\"evenodd\" fill-opacity=\"1\" stroke=\"#000000\" stroke-opacity=\"1\" stroke-width=\"2\"/>\n",
       "<circle clip-path=\"url(#clip012)\" cx=\"504.397\" cy=\"353.883\" r=\"14\" fill=\"#009af9\" fill-rule=\"evenodd\" fill-opacity=\"1\" stroke=\"#000000\" stroke-opacity=\"1\" stroke-width=\"2\"/>\n",
       "<circle clip-path=\"url(#clip012)\" cx=\"729.977\" cy=\"545.216\" r=\"14\" fill=\"#009af9\" fill-rule=\"evenodd\" fill-opacity=\"1\" stroke=\"#000000\" stroke-opacity=\"1\" stroke-width=\"2\"/>\n",
       "<circle clip-path=\"url(#clip012)\" cx=\"1773.93\" cy=\"849.7\" r=\"14\" fill=\"#009af9\" fill-rule=\"evenodd\" fill-opacity=\"1\" stroke=\"#000000\" stroke-opacity=\"1\" stroke-width=\"2\"/>\n",
       "<circle clip-path=\"url(#clip012)\" cx=\"914.948\" cy=\"849.7\" r=\"14\" fill=\"#009af9\" fill-rule=\"evenodd\" fill-opacity=\"1\" stroke=\"#000000\" stroke-opacity=\"1\" stroke-width=\"2\"/>\n",
       "<circle clip-path=\"url(#clip012)\" cx=\"1772.65\" cy=\"849.7\" r=\"14\" fill=\"#009af9\" fill-rule=\"evenodd\" fill-opacity=\"1\" stroke=\"#000000\" stroke-opacity=\"1\" stroke-width=\"2\"/>\n",
       "<circle clip-path=\"url(#clip012)\" cx=\"902.008\" cy=\"760.763\" r=\"14\" fill=\"#009af9\" fill-rule=\"evenodd\" fill-opacity=\"1\" stroke=\"#000000\" stroke-opacity=\"1\" stroke-width=\"2\"/>\n",
       "<circle clip-path=\"url(#clip012)\" cx=\"927.008\" cy=\"704.65\" r=\"14\" fill=\"#009af9\" fill-rule=\"evenodd\" fill-opacity=\"1\" stroke=\"#000000\" stroke-opacity=\"1\" stroke-width=\"2\"/>\n",
       "<circle clip-path=\"url(#clip012)\" cx=\"784.466\" cy=\"569.135\" r=\"14\" fill=\"#009af9\" fill-rule=\"evenodd\" fill-opacity=\"1\" stroke=\"#000000\" stroke-opacity=\"1\" stroke-width=\"2\"/>\n",
       "<circle clip-path=\"url(#clip012)\" cx=\"852.809\" cy=\"681.361\" r=\"14\" fill=\"#009af9\" fill-rule=\"evenodd\" fill-opacity=\"1\" stroke=\"#000000\" stroke-opacity=\"1\" stroke-width=\"2\"/>\n",
       "<circle clip-path=\"url(#clip012)\" cx=\"882.139\" cy=\"648.537\" r=\"14\" fill=\"#009af9\" fill-rule=\"evenodd\" fill-opacity=\"1\" stroke=\"#000000\" stroke-opacity=\"1\" stroke-width=\"2\"/>\n",
       "<circle clip-path=\"url(#clip012)\" cx=\"1773.2\" cy=\"849.7\" r=\"14\" fill=\"#009af9\" fill-rule=\"evenodd\" fill-opacity=\"1\" stroke=\"#000000\" stroke-opacity=\"1\" stroke-width=\"2\"/>\n",
       "<circle clip-path=\"url(#clip012)\" cx=\"282.397\" cy=\"455.654\" r=\"14\" fill=\"#009af9\" fill-rule=\"evenodd\" fill-opacity=\"1\" stroke=\"#000000\" stroke-opacity=\"1\" stroke-width=\"2\"/>\n",
       "<circle clip-path=\"url(#clip012)\" cx=\"567.603\" cy=\"345.478\" r=\"14\" fill=\"#009af9\" fill-rule=\"evenodd\" fill-opacity=\"1\" stroke=\"#000000\" stroke-opacity=\"1\" stroke-width=\"2\"/>\n",
       "<circle clip-path=\"url(#clip012)\" cx=\"671.764\" cy=\"462.811\" r=\"14\" fill=\"#009af9\" fill-rule=\"evenodd\" fill-opacity=\"1\" stroke=\"#000000\" stroke-opacity=\"1\" stroke-width=\"2\"/>\n",
       "<circle clip-path=\"url(#clip012)\" cx=\"743.615\" cy=\"551.071\" r=\"14\" fill=\"#009af9\" fill-rule=\"evenodd\" fill-opacity=\"1\" stroke=\"#000000\" stroke-opacity=\"1\" stroke-width=\"2\"/>\n",
       "<circle clip-path=\"url(#clip012)\" cx=\"736.928\" cy=\"579.945\" r=\"14\" fill=\"#009af9\" fill-rule=\"evenodd\" fill-opacity=\"1\" stroke=\"#000000\" stroke-opacity=\"1\" stroke-width=\"2\"/>\n",
       "<circle clip-path=\"url(#clip012)\" cx=\"1773.26\" cy=\"849.7\" r=\"14\" fill=\"#009af9\" fill-rule=\"evenodd\" fill-opacity=\"1\" stroke=\"#000000\" stroke-opacity=\"1\" stroke-width=\"2\"/>\n",
       "<circle clip-path=\"url(#clip012)\" cx=\"821.912\" cy=\"625.248\" r=\"14\" fill=\"#009af9\" fill-rule=\"evenodd\" fill-opacity=\"1\" stroke=\"#000000\" stroke-opacity=\"1\" stroke-width=\"2\"/>\n",
       "<circle clip-path=\"url(#clip012)\" cx=\"1773.46\" cy=\"793.587\" r=\"14\" fill=\"#009af9\" fill-rule=\"evenodd\" fill-opacity=\"1\" stroke=\"#000000\" stroke-opacity=\"1\" stroke-width=\"2\"/>\n",
       "<circle clip-path=\"url(#clip012)\" cx=\"1774.75\" cy=\"849.7\" r=\"14\" fill=\"#009af9\" fill-rule=\"evenodd\" fill-opacity=\"1\" stroke=\"#000000\" stroke-opacity=\"1\" stroke-width=\"2\"/>\n",
       "<circle clip-path=\"url(#clip012)\" cx=\"1773.44\" cy=\"849.7\" r=\"14\" fill=\"#009af9\" fill-rule=\"evenodd\" fill-opacity=\"1\" stroke=\"#000000\" stroke-opacity=\"1\" stroke-width=\"2\"/>\n",
       "<circle clip-path=\"url(#clip012)\" cx=\"1772.35\" cy=\"849.7\" r=\"14\" fill=\"#009af9\" fill-rule=\"evenodd\" fill-opacity=\"1\" stroke=\"#000000\" stroke-opacity=\"1\" stroke-width=\"2\"/>\n",
       "<circle clip-path=\"url(#clip012)\" cx=\"1772.91\" cy=\"849.7\" r=\"14\" fill=\"#009af9\" fill-rule=\"evenodd\" fill-opacity=\"1\" stroke=\"#000000\" stroke-opacity=\"1\" stroke-width=\"2\"/>\n",
       "<circle clip-path=\"url(#clip012)\" cx=\"933.868\" cy=\"760.763\" r=\"14\" fill=\"#009af9\" fill-rule=\"evenodd\" fill-opacity=\"1\" stroke=\"#000000\" stroke-opacity=\"1\" stroke-width=\"2\"/>\n",
       "<circle clip-path=\"url(#clip012)\" cx=\"650.891\" cy=\"447.938\" r=\"14\" fill=\"#009af9\" fill-rule=\"evenodd\" fill-opacity=\"1\" stroke=\"#000000\" stroke-opacity=\"1\" stroke-width=\"2\"/>\n",
       "<circle clip-path=\"url(#clip012)\" cx=\"690.434\" cy=\"516.909\" r=\"14\" fill=\"#009af9\" fill-rule=\"evenodd\" fill-opacity=\"1\" stroke=\"#000000\" stroke-opacity=\"1\" stroke-width=\"2\"/>\n",
       "<circle clip-path=\"url(#clip012)\" cx=\"938.299\" cy=\"793.587\" r=\"14\" fill=\"#009af9\" fill-rule=\"evenodd\" fill-opacity=\"1\" stroke=\"#000000\" stroke-opacity=\"1\" stroke-width=\"2\"/>\n",
       "<circle clip-path=\"url(#clip012)\" cx=\"1773.28\" cy=\"849.7\" r=\"14\" fill=\"#009af9\" fill-rule=\"evenodd\" fill-opacity=\"1\" stroke=\"#000000\" stroke-opacity=\"1\" stroke-width=\"2\"/>\n",
       "<circle clip-path=\"url(#clip012)\" cx=\"1772.59\" cy=\"737.474\" r=\"14\" fill=\"#009af9\" fill-rule=\"evenodd\" fill-opacity=\"1\" stroke=\"#000000\" stroke-opacity=\"1\" stroke-width=\"2\"/>\n",
       "<circle clip-path=\"url(#clip012)\" cx=\"681.345\" cy=\"492.959\" r=\"14\" fill=\"#009af9\" fill-rule=\"evenodd\" fill-opacity=\"1\" stroke=\"#000000\" stroke-opacity=\"1\" stroke-width=\"2\"/>\n",
       "<circle clip-path=\"url(#clip012)\" cx=\"849.229\" cy=\"719.41\" r=\"14\" fill=\"#009af9\" fill-rule=\"evenodd\" fill-opacity=\"1\" stroke=\"#000000\" stroke-opacity=\"1\" stroke-width=\"2\"/>\n",
       "<circle clip-path=\"url(#clip012)\" cx=\"830.156\" cy=\"636.058\" r=\"14\" fill=\"#009af9\" fill-rule=\"evenodd\" fill-opacity=\"1\" stroke=\"#000000\" stroke-opacity=\"1\" stroke-width=\"2\"/>\n",
       "<circle clip-path=\"url(#clip012)\" cx=\"1774.05\" cy=\"849.7\" r=\"14\" fill=\"#009af9\" fill-rule=\"evenodd\" fill-opacity=\"1\" stroke=\"#000000\" stroke-opacity=\"1\" stroke-width=\"2\"/>\n",
       "<circle clip-path=\"url(#clip012)\" cx=\"548.932\" cy=\"349.069\" r=\"14\" fill=\"#009af9\" fill-rule=\"evenodd\" fill-opacity=\"1\" stroke=\"#000000\" stroke-opacity=\"1\" stroke-width=\"2\"/>\n",
       "<circle clip-path=\"url(#clip012)\" cx=\"768.097\" cy=\"569.135\" r=\"14\" fill=\"#009af9\" fill-rule=\"evenodd\" fill-opacity=\"1\" stroke=\"#000000\" stroke-opacity=\"1\" stroke-width=\"2\"/>\n",
       "<circle clip-path=\"url(#clip012)\" cx=\"1774.71\" cy=\"793.587\" r=\"14\" fill=\"#009af9\" fill-rule=\"evenodd\" fill-opacity=\"1\" stroke=\"#000000\" stroke-opacity=\"1\" stroke-width=\"2\"/>\n",
       "<circle clip-path=\"url(#clip012)\" cx=\"1773.95\" cy=\"849.7\" r=\"14\" fill=\"#009af9\" fill-rule=\"evenodd\" fill-opacity=\"1\" stroke=\"#000000\" stroke-opacity=\"1\" stroke-width=\"2\"/>\n",
       "<circle clip-path=\"url(#clip012)\" cx=\"1774.14\" cy=\"849.7\" r=\"14\" fill=\"#009af9\" fill-rule=\"evenodd\" fill-opacity=\"1\" stroke=\"#000000\" stroke-opacity=\"1\" stroke-width=\"2\"/>\n",
       "<circle clip-path=\"url(#clip012)\" cx=\"1773.73\" cy=\"849.7\" r=\"14\" fill=\"#009af9\" fill-rule=\"evenodd\" fill-opacity=\"1\" stroke=\"#000000\" stroke-opacity=\"1\" stroke-width=\"2\"/>\n",
       "<circle clip-path=\"url(#clip012)\" cx=\"888.047\" cy=\"719.41\" r=\"14\" fill=\"#009af9\" fill-rule=\"evenodd\" fill-opacity=\"1\" stroke=\"#000000\" stroke-opacity=\"1\" stroke-width=\"2\"/>\n",
       "<circle clip-path=\"url(#clip012)\" cx=\"756.279\" cy=\"526.776\" r=\"14\" fill=\"#009af9\" fill-rule=\"evenodd\" fill-opacity=\"1\" stroke=\"#000000\" stroke-opacity=\"1\" stroke-width=\"2\"/>\n",
       "<circle clip-path=\"url(#clip012)\" cx=\"964.676\" cy=\"849.7\" r=\"14\" fill=\"#009af9\" fill-rule=\"evenodd\" fill-opacity=\"1\" stroke=\"#000000\" stroke-opacity=\"1\" stroke-width=\"2\"/>\n",
       "<circle clip-path=\"url(#clip012)\" cx=\"1774.07\" cy=\"793.587\" r=\"14\" fill=\"#009af9\" fill-rule=\"evenodd\" fill-opacity=\"1\" stroke=\"#000000\" stroke-opacity=\"1\" stroke-width=\"2\"/>\n",
       "<circle clip-path=\"url(#clip012)\" cx=\"838.033\" cy=\"719.41\" r=\"14\" fill=\"#009af9\" fill-rule=\"evenodd\" fill-opacity=\"1\" stroke=\"#000000\" stroke-opacity=\"1\" stroke-width=\"2\"/>\n",
       "<circle clip-path=\"url(#clip012)\" cx=\"1775.31\" cy=\"849.7\" r=\"14\" fill=\"#009af9\" fill-rule=\"evenodd\" fill-opacity=\"1\" stroke=\"#000000\" stroke-opacity=\"1\" stroke-width=\"2\"/>\n",
       "<circle clip-path=\"url(#clip012)\" cx=\"876.028\" cy=\"636.058\" r=\"14\" fill=\"#009af9\" fill-rule=\"evenodd\" fill-opacity=\"1\" stroke=\"#000000\" stroke-opacity=\"1\" stroke-width=\"2\"/>\n",
       "<circle clip-path=\"url(#clip012)\" cx=\"979.15\" cy=\"849.7\" r=\"14\" fill=\"#009af9\" fill-rule=\"evenodd\" fill-opacity=\"1\" stroke=\"#000000\" stroke-opacity=\"1\" stroke-width=\"2\"/>\n",
       "<circle clip-path=\"url(#clip012)\" cx=\"1773.77\" cy=\"849.7\" r=\"14\" fill=\"#009af9\" fill-rule=\"evenodd\" fill-opacity=\"1\" stroke=\"#000000\" stroke-opacity=\"1\" stroke-width=\"2\"/>\n",
       "<circle clip-path=\"url(#clip012)\" cx=\"912.435\" cy=\"692.171\" r=\"14\" fill=\"#009af9\" fill-rule=\"evenodd\" fill-opacity=\"1\" stroke=\"#000000\" stroke-opacity=\"1\" stroke-width=\"2\"/>\n",
       "<circle clip-path=\"url(#clip012)\" cx=\"1773.22\" cy=\"849.7\" r=\"14\" fill=\"#009af9\" fill-rule=\"evenodd\" fill-opacity=\"1\" stroke=\"#000000\" stroke-opacity=\"1\" stroke-width=\"2\"/>\n",
       "<circle clip-path=\"url(#clip012)\" cx=\"1774.16\" cy=\"793.587\" r=\"14\" fill=\"#009af9\" fill-rule=\"evenodd\" fill-opacity=\"1\" stroke=\"#000000\" stroke-opacity=\"1\" stroke-width=\"2\"/>\n",
       "<circle clip-path=\"url(#clip012)\" cx=\"699.08\" cy=\"509.314\" r=\"14\" fill=\"#009af9\" fill-rule=\"evenodd\" fill-opacity=\"1\" stroke=\"#000000\" stroke-opacity=\"1\" stroke-width=\"2\"/>\n",
       "<circle clip-path=\"url(#clip012)\" cx=\"1773.3\" cy=\"849.7\" r=\"14\" fill=\"#009af9\" fill-rule=\"evenodd\" fill-opacity=\"1\" stroke=\"#000000\" stroke-opacity=\"1\" stroke-width=\"2\"/>\n",
       "<circle clip-path=\"url(#clip012)\" cx=\"804.176\" cy=\"615.713\" r=\"14\" fill=\"#009af9\" fill-rule=\"evenodd\" fill-opacity=\"1\" stroke=\"#000000\" stroke-opacity=\"1\" stroke-width=\"2\"/>\n",
       "<circle clip-path=\"url(#clip012)\" cx=\"1773.97\" cy=\"849.7\" r=\"14\" fill=\"#009af9\" fill-rule=\"evenodd\" fill-opacity=\"1\" stroke=\"#000000\" stroke-opacity=\"1\" stroke-width=\"2\"/>\n",
       "<circle clip-path=\"url(#clip012)\" cx=\"1774.54\" cy=\"849.7\" r=\"14\" fill=\"#009af9\" fill-rule=\"evenodd\" fill-opacity=\"1\" stroke=\"#000000\" stroke-opacity=\"1\" stroke-width=\"2\"/>\n",
       "<circle clip-path=\"url(#clip012)\" cx=\"931.611\" cy=\"793.587\" r=\"14\" fill=\"#009af9\" fill-rule=\"evenodd\" fill-opacity=\"1\" stroke=\"#000000\" stroke-opacity=\"1\" stroke-width=\"2\"/>\n",
       "<circle clip-path=\"url(#clip012)\" cx=\"1773.12\" cy=\"849.7\" r=\"14\" fill=\"#009af9\" fill-rule=\"evenodd\" fill-opacity=\"1\" stroke=\"#000000\" stroke-opacity=\"1\" stroke-width=\"2\"/>\n",
       "<circle clip-path=\"url(#clip012)\" cx=\"1773.32\" cy=\"849.7\" r=\"14\" fill=\"#009af9\" fill-rule=\"evenodd\" fill-opacity=\"1\" stroke=\"#000000\" stroke-opacity=\"1\" stroke-width=\"2\"/>\n",
       "<circle clip-path=\"url(#clip012)\" cx=\"1772.02\" cy=\"849.7\" r=\"14\" fill=\"#009af9\" fill-rule=\"evenodd\" fill-opacity=\"1\" stroke=\"#000000\" stroke-opacity=\"1\" stroke-width=\"2\"/>\n",
       "<circle clip-path=\"url(#clip012)\" cx=\"917.427\" cy=\"737.474\" r=\"14\" fill=\"#009af9\" fill-rule=\"evenodd\" fill-opacity=\"1\" stroke=\"#000000\" stroke-opacity=\"1\" stroke-width=\"2\"/>\n",
       "<circle clip-path=\"url(#clip012)\" cx=\"1774.48\" cy=\"793.587\" r=\"14\" fill=\"#009af9\" fill-rule=\"evenodd\" fill-opacity=\"1\" stroke=\"#000000\" stroke-opacity=\"1\" stroke-width=\"2\"/>\n",
       "<circle clip-path=\"url(#clip012)\" cx=\"722.743\" cy=\"523.832\" r=\"14\" fill=\"#009af9\" fill-rule=\"evenodd\" fill-opacity=\"1\" stroke=\"#000000\" stroke-opacity=\"1\" stroke-width=\"2\"/>\n",
       "<circle clip-path=\"url(#clip012)\" cx=\"528.06\" cy=\"339.925\" r=\"14\" fill=\"#009af9\" fill-rule=\"evenodd\" fill-opacity=\"1\" stroke=\"#000000\" stroke-opacity=\"1\" stroke-width=\"2\"/>\n",
       "<circle clip-path=\"url(#clip012)\" cx=\"661.635\" cy=\"493.952\" r=\"14\" fill=\"#009af9\" fill-rule=\"evenodd\" fill-opacity=\"1\" stroke=\"#000000\" stroke-opacity=\"1\" stroke-width=\"2\"/>\n",
       "<circle clip-path=\"url(#clip012)\" cx=\"799.45\" cy=\"642.057\" r=\"14\" fill=\"#009af9\" fill-rule=\"evenodd\" fill-opacity=\"1\" stroke=\"#000000\" stroke-opacity=\"1\" stroke-width=\"2\"/>\n",
       "<circle clip-path=\"url(#clip012)\" cx=\"159.565\" cy=\"189.306\" r=\"14\" fill=\"#009af9\" fill-rule=\"evenodd\" fill-opacity=\"1\" stroke=\"#000000\" stroke-opacity=\"1\" stroke-width=\"2\"/>\n",
       "<circle clip-path=\"url(#clip012)\" cx=\"863.135\" cy=\"648.537\" r=\"14\" fill=\"#009af9\" fill-rule=\"evenodd\" fill-opacity=\"1\" stroke=\"#000000\" stroke-opacity=\"1\" stroke-width=\"2\"/>\n",
       "<circle clip-path=\"url(#clip012)\" cx=\"707.324\" cy=\"536.311\" r=\"14\" fill=\"#009af9\" fill-rule=\"evenodd\" fill-opacity=\"1\" stroke=\"#000000\" stroke-opacity=\"1\" stroke-width=\"2\"/>\n",
       "<circle clip-path=\"url(#clip012)\" cx=\"841.844\" cy=\"625.248\" r=\"14\" fill=\"#009af9\" fill-rule=\"evenodd\" fill-opacity=\"1\" stroke=\"#000000\" stroke-opacity=\"1\" stroke-width=\"2\"/>\n",
       "<circle clip-path=\"url(#clip012)\" cx=\"942.621\" cy=\"704.65\" r=\"14\" fill=\"#009af9\" fill-rule=\"evenodd\" fill-opacity=\"1\" stroke=\"#000000\" stroke-opacity=\"1\" stroke-width=\"2\"/>\n",
       "<circle clip-path=\"url(#clip012)\" cx=\"1774.52\" cy=\"849.7\" r=\"14\" fill=\"#009af9\" fill-rule=\"evenodd\" fill-opacity=\"1\" stroke=\"#000000\" stroke-opacity=\"1\" stroke-width=\"2\"/>\n",
       "<circle clip-path=\"url(#clip012)\" cx=\"1773.69\" cy=\"849.7\" r=\"14\" fill=\"#009af9\" fill-rule=\"evenodd\" fill-opacity=\"1\" stroke=\"#000000\" stroke-opacity=\"1\" stroke-width=\"2\"/>\n",
       "<circle clip-path=\"url(#clip012)\" cx=\"1774.01\" cy=\"849.7\" r=\"14\" fill=\"#009af9\" fill-rule=\"evenodd\" fill-opacity=\"1\" stroke=\"#000000\" stroke-opacity=\"1\" stroke-width=\"2\"/>\n",
       "<circle clip-path=\"url(#clip012)\" cx=\"1774.2\" cy=\"849.7\" r=\"14\" fill=\"#009af9\" fill-rule=\"evenodd\" fill-opacity=\"1\" stroke=\"#000000\" stroke-opacity=\"1\" stroke-width=\"2\"/>\n",
       "<circle clip-path=\"url(#clip012)\" cx=\"1773.61\" cy=\"760.763\" r=\"14\" fill=\"#009af9\" fill-rule=\"evenodd\" fill-opacity=\"1\" stroke=\"#000000\" stroke-opacity=\"1\" stroke-width=\"2\"/>\n",
       "<circle clip-path=\"url(#clip012)\" cx=\"1775.55\" cy=\"849.7\" r=\"14\" fill=\"#009af9\" fill-rule=\"evenodd\" fill-opacity=\"1\" stroke=\"#000000\" stroke-opacity=\"1\" stroke-width=\"2\"/>\n",
       "<circle clip-path=\"url(#clip012)\" cx=\"1772.08\" cy=\"849.7\" r=\"14\" fill=\"#009af9\" fill-rule=\"evenodd\" fill-opacity=\"1\" stroke=\"#000000\" stroke-opacity=\"1\" stroke-width=\"2\"/>\n",
       "<circle clip-path=\"url(#clip012)\" cx=\"954.99\" cy=\"849.7\" r=\"14\" fill=\"#009af9\" fill-rule=\"evenodd\" fill-opacity=\"1\" stroke=\"#000000\" stroke-opacity=\"1\" stroke-width=\"2\"/>\n",
       "<circle clip-path=\"url(#clip012)\" cx=\"627.229\" cy=\"425.79\" r=\"14\" fill=\"#009af9\" fill-rule=\"evenodd\" fill-opacity=\"1\" stroke=\"#000000\" stroke-opacity=\"1\" stroke-width=\"2\"/>\n",
       "<circle clip-path=\"url(#clip012)\" cx=\"1773.16\" cy=\"849.7\" r=\"14\" fill=\"#009af9\" fill-rule=\"evenodd\" fill-opacity=\"1\" stroke=\"#000000\" stroke-opacity=\"1\" stroke-width=\"2\"/>\n",
       "<circle clip-path=\"url(#clip012)\" cx=\"354.249\" cy=\"494.958\" r=\"14\" fill=\"#009af9\" fill-rule=\"evenodd\" fill-opacity=\"1\" stroke=\"#000000\" stroke-opacity=\"1\" stroke-width=\"2\"/>\n",
       "<circle clip-path=\"url(#clip012)\" cx=\"1772.61\" cy=\"849.7\" r=\"14\" fill=\"#009af9\" fill-rule=\"evenodd\" fill-opacity=\"1\" stroke=\"#000000\" stroke-opacity=\"1\" stroke-width=\"2\"/>\n",
       "<circle clip-path=\"url(#clip012)\" cx=\"968.406\" cy=\"849.7\" r=\"14\" fill=\"#009af9\" fill-rule=\"evenodd\" fill-opacity=\"1\" stroke=\"#000000\" stroke-opacity=\"1\" stroke-width=\"2\"/>\n",
       "<circle clip-path=\"url(#clip012)\" cx=\"1772.16\" cy=\"849.7\" r=\"14\" fill=\"#009af9\" fill-rule=\"evenodd\" fill-opacity=\"1\" stroke=\"#000000\" stroke-opacity=\"1\" stroke-width=\"2\"/>\n",
       "<circle clip-path=\"url(#clip012)\" cx=\"856.318\" cy=\"692.171\" r=\"14\" fill=\"#009af9\" fill-rule=\"evenodd\" fill-opacity=\"1\" stroke=\"#000000\" stroke-opacity=\"1\" stroke-width=\"2\"/>\n",
       "<circle clip-path=\"url(#clip012)\" cx=\"936.098\" cy=\"849.7\" r=\"14\" fill=\"#009af9\" fill-rule=\"evenodd\" fill-opacity=\"1\" stroke=\"#000000\" stroke-opacity=\"1\" stroke-width=\"2\"/>\n",
       "<circle clip-path=\"url(#clip012)\" cx=\"779.176\" cy=\"569.135\" r=\"14\" fill=\"#009af9\" fill-rule=\"evenodd\" fill-opacity=\"1\" stroke=\"#000000\" stroke-opacity=\"1\" stroke-width=\"2\"/>\n",
       "<circle clip-path=\"url(#clip012)\" cx=\"973.859\" cy=\"849.7\" r=\"14\" fill=\"#009af9\" fill-rule=\"evenodd\" fill-opacity=\"1\" stroke=\"#000000\" stroke-opacity=\"1\" stroke-width=\"2\"/>\n",
       "<circle clip-path=\"url(#clip012)\" cx=\"1772.47\" cy=\"849.7\" r=\"14\" fill=\"#009af9\" fill-rule=\"evenodd\" fill-opacity=\"1\" stroke=\"#000000\" stroke-opacity=\"1\" stroke-width=\"2\"/>\n",
       "<circle clip-path=\"url(#clip012)\" cx=\"813.266\" cy=\"648.537\" r=\"14\" fill=\"#009af9\" fill-rule=\"evenodd\" fill-opacity=\"1\" stroke=\"#000000\" stroke-opacity=\"1\" stroke-width=\"2\"/>\n",
       "<circle clip-path=\"url(#clip012)\" cx=\"845.575\" cy=\"704.65\" r=\"14\" fill=\"#009af9\" fill-rule=\"evenodd\" fill-opacity=\"1\" stroke=\"#000000\" stroke-opacity=\"1\" stroke-width=\"2\"/>\n",
       "<circle clip-path=\"url(#clip012)\" cx=\"1771.8\" cy=\"849.7\" r=\"14\" fill=\"#009af9\" fill-rule=\"evenodd\" fill-opacity=\"1\" stroke=\"#000000\" stroke-opacity=\"1\" stroke-width=\"2\"/>\n",
       "<circle clip-path=\"url(#clip012)\" cx=\"899.302\" cy=\"692.171\" r=\"14\" fill=\"#009af9\" fill-rule=\"evenodd\" fill-opacity=\"1\" stroke=\"#000000\" stroke-opacity=\"1\" stroke-width=\"2\"/>\n",
       "<circle clip-path=\"url(#clip012)\" cx=\"639.455\" cy=\"426.655\" r=\"14\" fill=\"#009af9\" fill-rule=\"evenodd\" fill-opacity=\"1\" stroke=\"#000000\" stroke-opacity=\"1\" stroke-width=\"2\"/>\n",
       "<circle clip-path=\"url(#clip012)\" cx=\"1772.69\" cy=\"849.7\" r=\"14\" fill=\"#009af9\" fill-rule=\"evenodd\" fill-opacity=\"1\" stroke=\"#000000\" stroke-opacity=\"1\" stroke-width=\"2\"/>\n",
       "<circle clip-path=\"url(#clip012)\" cx=\"1773.06\" cy=\"793.587\" r=\"14\" fill=\"#009af9\" fill-rule=\"evenodd\" fill-opacity=\"1\" stroke=\"#000000\" stroke-opacity=\"1\" stroke-width=\"2\"/>\n",
       "<circle clip-path=\"url(#clip012)\" cx=\"970.243\" cy=\"849.7\" r=\"14\" fill=\"#009af9\" fill-rule=\"evenodd\" fill-opacity=\"1\" stroke=\"#000000\" stroke-opacity=\"1\" stroke-width=\"2\"/>\n",
       "<circle clip-path=\"url(#clip012)\" cx=\"1773.63\" cy=\"849.7\" r=\"14\" fill=\"#009af9\" fill-rule=\"evenodd\" fill-opacity=\"1\" stroke=\"#000000\" stroke-opacity=\"1\" stroke-width=\"2\"/>\n",
       "<circle clip-path=\"url(#clip012)\" cx=\"1773.79\" cy=\"793.587\" r=\"14\" fill=\"#009af9\" fill-rule=\"evenodd\" fill-opacity=\"1\" stroke=\"#000000\" stroke-opacity=\"1\" stroke-width=\"2\"/>\n",
       "<circle clip-path=\"url(#clip012)\" cx=\"1773.91\" cy=\"849.7\" r=\"14\" fill=\"#009af9\" fill-rule=\"evenodd\" fill-opacity=\"1\" stroke=\"#000000\" stroke-opacity=\"1\" stroke-width=\"2\"/>\n",
       "</svg>\n"
      ]
     },
     "execution_count": 18,
     "metadata": {},
     "output_type": "execute_result"
    }
   ],
   "source": [
    "kmer_counts = Dict(observation_graph.vprops[v][:kmer] => observation_graph.vprops[v][:weight] for v in Graphs.vertices(observation_graph))\n",
    "total_observed_kmers = sum(values(kmer_counts))\n",
    "kmer_probabilities = Dict(k => v/total_observed_kmers for (k,v) in kmer_counts)\n",
    "scale = 250\n",
    "Mycelia.plot_kmer_frequency_spectra(values(kmer_counts), size=(2scale,scale), title=\"kmer frequencies\")"
   ]
  },
  {
   "cell_type": "code",
   "execution_count": 19,
   "metadata": {},
   "outputs": [
    {
     "data": {
      "text/plain": [
       "0.9903609296347863"
      ]
     },
     "execution_count": 19,
     "metadata": {},
     "output_type": "execute_result"
    }
   ],
   "source": [
    "reference_kmers = keys(Mycelia.count_canonical_kmers(BioSequences.DNAMer{k}, reference_fasta_file))\n",
    "distance_to_reference_graph = 1 - LSHFunctions.jaccard(Set(reference_kmers), Set(keys(kmer_counts)))"
   ]
  },
  {
   "cell_type": "code",
   "execution_count": 20,
   "metadata": {},
   "outputs": [],
   "source": [
    "# step 1, hard-filter singletons"
   ]
  },
  {
   "cell_type": "code",
   "execution_count": 21,
   "metadata": {},
   "outputs": [
    {
     "data": {
      "text/plain": [
       "5481-element Vector{Int64}:\n",
       "    2\n",
       "    4\n",
       "    6\n",
       "    9\n",
       "   10\n",
       "   13\n",
       "   14\n",
       "   16\n",
       "   21\n",
       "   25\n",
       "   26\n",
       "   29\n",
       "   33\n",
       "    ⋮\n",
       " 9298\n",
       " 9301\n",
       " 9305\n",
       " 9310\n",
       " 9313\n",
       " 9316\n",
       " 9319\n",
       " 9323\n",
       " 9328\n",
       " 9329\n",
       " 9330\n",
       " 9333"
      ]
     },
     "execution_count": 21,
     "metadata": {},
     "output_type": "execute_result"
    }
   ],
   "source": [
    "filtered_vertices = findall(v -> observation_graph.vprops[v][:weight] >= 5, Graphs.vertices(observation_graph))"
   ]
  },
  {
   "cell_type": "code",
   "execution_count": 22,
   "metadata": {},
   "outputs": [
    {
     "data": {
      "text/plain": [
       "({5481, 12150} directed Int64 metagraph with Float64 weights defined by :weight (default weight 1.0), [2, 4, 6, 9, 10, 13, 14, 16, 21, 25  …  9305, 9310, 9313, 9316, 9319, 9323, 9328, 9329, 9330, 9333])"
      ]
     },
     "execution_count": 22,
     "metadata": {},
     "output_type": "execute_result"
    }
   ],
   "source": [
    "filtered_observation_graph, vertex_map = Graphs.induced_subgraph(observation_graph, filtered_vertices)"
   ]
  },
  {
   "cell_type": "code",
   "execution_count": 23,
   "metadata": {},
   "outputs": [
    {
     "data": {
      "text/html": [
       "<img src=./../../../2021-08-23/LENGTH-100-DEPTH-10000.fastq.k-11.filtered.gfa.svg>"
      ]
     },
     "metadata": {},
     "output_type": "display_data"
    }
   ],
   "source": [
    "# visualize\n",
    "gfa_file = observations_file * \".k-$k.filtered.gfa\"\n",
    "Mycelia.graph_to_gfa(filtered_observation_graph, gfa_file)\n",
    "\n",
    "run(`$(BANDAGE) image $(gfa_file) $(gfa_file).svg --depwidth .9 --deppower .9`)\n",
    "# --nodewidth <float> Average node width (0.5 to 1000, default: 5)\n",
    "# --depwidth <float>  Depth effect on width (0 to 1, default: 0.5)\n",
    "# --deppower <float>  Power of depth effect on width (0 to 1, default: 0.5)\n",
    "\n",
    "html_path_to_svg = \"./\" * repeat(\"../\", length(split(pwd(), '/')) - 3)\n",
    "html_path_to_svg *= replace(\"$(gfa_file).svg\", \"$(homedir())/\" => \"\")\n",
    "\n",
    "x = \"<img src=$(html_path_to_svg)>\"\n",
    "display(\"text/html\", x)\n",
    "# display(\"image/svg+xml\", read(\"$(gfa_file).svg\", String))"
   ]
  },
  {
   "cell_type": "code",
   "execution_count": 24,
   "metadata": {},
   "outputs": [
    {
     "data": {
      "image/svg+xml": [
       "<?xml version=\"1.0\" encoding=\"utf-8\"?>\n",
       "<svg xmlns=\"http://www.w3.org/2000/svg\" xmlns:xlink=\"http://www.w3.org/1999/xlink\" width=\"500\" height=\"250\" viewBox=\"0 0 2000 1000\">\n",
       "<defs>\n",
       "  <clipPath id=\"clip050\">\n",
       "    <rect x=\"0\" y=\"0\" width=\"2000\" height=\"1000\"/>\n",
       "  </clipPath>\n",
       "</defs>\n",
       "<path clip-path=\"url(#clip050)\" d=\"\n",
       "M0 1000 L2000 1000 L2000 0 L0 0  Z\n",
       "  \" fill=\"#ffffff\" fill-rule=\"evenodd\" fill-opacity=\"1\"/>\n",
       "<defs>\n",
       "  <clipPath id=\"clip051\">\n",
       "    <rect x=\"400\" y=\"0\" width=\"1401\" height=\"1000\"/>\n",
       "  </clipPath>\n",
       "</defs>\n",
       "<path clip-path=\"url(#clip050)\" d=\"\n",
       "M159.565 849.7 L1952.76 849.7 L1952.76 108.352 L159.565 108.352  Z\n",
       "  \" fill=\"#ffffff\" fill-rule=\"evenodd\" fill-opacity=\"1\"/>\n",
       "<defs>\n",
       "  <clipPath id=\"clip052\">\n",
       "    <rect x=\"159\" y=\"108\" width=\"1794\" height=\"742\"/>\n",
       "  </clipPath>\n",
       "</defs>\n",
       "<polyline clip-path=\"url(#clip052)\" style=\"stroke:#000000; stroke-linecap:butt; stroke-linejoin:round; stroke-width:2; stroke-opacity:0.1; fill:none\" points=\"\n",
       "  159.565,849.7 159.565,108.352 \n",
       "  \"/>\n",
       "<polyline clip-path=\"url(#clip052)\" style=\"stroke:#000000; stroke-linecap:butt; stroke-linejoin:round; stroke-width:2; stroke-opacity:0.1; fill:none\" points=\"\n",
       "  602.586,849.7 602.586,108.352 \n",
       "  \"/>\n",
       "<polyline clip-path=\"url(#clip052)\" style=\"stroke:#000000; stroke-linecap:butt; stroke-linejoin:round; stroke-width:2; stroke-opacity:0.1; fill:none\" points=\"\n",
       "  1045.61,849.7 1045.61,108.352 \n",
       "  \"/>\n",
       "<polyline clip-path=\"url(#clip052)\" style=\"stroke:#000000; stroke-linecap:butt; stroke-linejoin:round; stroke-width:2; stroke-opacity:0.1; fill:none\" points=\"\n",
       "  1488.63,849.7 1488.63,108.352 \n",
       "  \"/>\n",
       "<polyline clip-path=\"url(#clip052)\" style=\"stroke:#000000; stroke-linecap:butt; stroke-linejoin:round; stroke-width:2; stroke-opacity:0.1; fill:none\" points=\"\n",
       "  1931.65,849.7 1931.65,108.352 \n",
       "  \"/>\n",
       "<polyline clip-path=\"url(#clip050)\" style=\"stroke:#000000; stroke-linecap:butt; stroke-linejoin:round; stroke-width:4; stroke-opacity:1; fill:none\" points=\"\n",
       "  159.565,849.7 1952.76,849.7 \n",
       "  \"/>\n",
       "<polyline clip-path=\"url(#clip050)\" style=\"stroke:#000000; stroke-linecap:butt; stroke-linejoin:round; stroke-width:4; stroke-opacity:1; fill:none\" points=\"\n",
       "  159.565,849.7 159.565,830.802 \n",
       "  \"/>\n",
       "<polyline clip-path=\"url(#clip050)\" style=\"stroke:#000000; stroke-linecap:butt; stroke-linejoin:round; stroke-width:4; stroke-opacity:1; fill:none\" points=\"\n",
       "  602.586,849.7 602.586,830.802 \n",
       "  \"/>\n",
       "<polyline clip-path=\"url(#clip050)\" style=\"stroke:#000000; stroke-linecap:butt; stroke-linejoin:round; stroke-width:4; stroke-opacity:1; fill:none\" points=\"\n",
       "  1045.61,849.7 1045.61,830.802 \n",
       "  \"/>\n",
       "<polyline clip-path=\"url(#clip050)\" style=\"stroke:#000000; stroke-linecap:butt; stroke-linejoin:round; stroke-width:4; stroke-opacity:1; fill:none\" points=\"\n",
       "  1488.63,849.7 1488.63,830.802 \n",
       "  \"/>\n",
       "<polyline clip-path=\"url(#clip050)\" style=\"stroke:#000000; stroke-linecap:butt; stroke-linejoin:round; stroke-width:4; stroke-opacity:1; fill:none\" points=\"\n",
       "  1931.65,849.7 1931.65,830.802 \n",
       "  \"/>\n",
       "<path clip-path=\"url(#clip050)\" d=\"M136.95 875.691 Q133.338 875.691 131.51 879.255 Q129.704 882.797 129.704 889.927 Q129.704 897.033 131.51 900.598 Q133.338 904.139 136.95 904.139 Q140.584 904.139 142.389 900.598 Q144.218 897.033 144.218 889.927 Q144.218 882.797 142.389 879.255 Q140.584 875.691 136.95 875.691 M136.95 871.987 Q142.76 871.987 145.815 876.593 Q148.894 881.177 148.894 889.927 Q148.894 898.653 145.815 903.26 Q142.76 907.843 136.95 907.843 Q131.139 907.843 128.061 903.26 Q125.005 898.653 125.005 889.927 Q125.005 881.177 128.061 876.593 Q131.139 871.987 136.95 871.987 Z\" fill=\"#000000\" fill-rule=\"evenodd\" fill-opacity=\"1\" /><path clip-path=\"url(#clip050)\" d=\"M157.112 901.292 L161.996 901.292 L161.996 907.172 L157.112 907.172 L157.112 901.292 Z\" fill=\"#000000\" fill-rule=\"evenodd\" fill-opacity=\"1\" /><path clip-path=\"url(#clip050)\" d=\"M182.181 875.691 Q178.57 875.691 176.741 879.255 Q174.935 882.797 174.935 889.927 Q174.935 897.033 176.741 900.598 Q178.57 904.139 182.181 904.139 Q185.815 904.139 187.621 900.598 Q189.449 897.033 189.449 889.927 Q189.449 882.797 187.621 879.255 Q185.815 875.691 182.181 875.691 M182.181 871.987 Q187.991 871.987 191.047 876.593 Q194.125 881.177 194.125 889.927 Q194.125 898.653 191.047 903.26 Q187.991 907.843 182.181 907.843 Q176.371 907.843 173.292 903.26 Q170.236 898.653 170.236 889.927 Q170.236 881.177 173.292 876.593 Q176.371 871.987 182.181 871.987 Z\" fill=\"#000000\" fill-rule=\"evenodd\" fill-opacity=\"1\" /><path clip-path=\"url(#clip050)\" d=\"M574.323 903.237 L590.642 903.237 L590.642 907.172 L568.698 907.172 L568.698 903.237 Q571.36 900.482 575.943 895.852 Q580.549 891.2 581.73 889.857 Q583.975 887.334 584.855 885.598 Q585.758 883.839 585.758 882.149 Q585.758 879.394 583.813 877.658 Q581.892 875.922 578.79 875.922 Q576.591 875.922 574.137 876.686 Q571.707 877.45 568.929 879.001 L568.929 874.279 Q571.753 873.144 574.207 872.566 Q576.661 871.987 578.698 871.987 Q584.068 871.987 587.262 874.672 Q590.457 877.357 590.457 881.848 Q590.457 883.978 589.647 885.899 Q588.86 887.797 586.753 890.39 Q586.174 891.061 583.073 894.278 Q579.971 897.473 574.323 903.237 Z\" fill=\"#000000\" fill-rule=\"evenodd\" fill-opacity=\"1\" /><path clip-path=\"url(#clip050)\" d=\"M600.457 901.292 L605.341 901.292 L605.341 907.172 L600.457 907.172 L600.457 901.292 Z\" fill=\"#000000\" fill-rule=\"evenodd\" fill-opacity=\"1\" /><path clip-path=\"url(#clip050)\" d=\"M615.572 872.612 L633.929 872.612 L633.929 876.547 L619.855 876.547 L619.855 885.019 Q620.873 884.672 621.892 884.51 Q622.91 884.325 623.929 884.325 Q629.716 884.325 633.096 887.496 Q636.475 890.667 636.475 896.084 Q636.475 901.663 633.003 904.764 Q629.531 907.843 623.211 907.843 Q621.035 907.843 618.767 907.473 Q616.522 907.102 614.114 906.362 L614.114 901.663 Q616.197 902.797 618.42 903.352 Q620.642 903.908 623.119 903.908 Q627.123 903.908 629.461 901.802 Q631.799 899.695 631.799 896.084 Q631.799 892.473 629.461 890.366 Q627.123 888.26 623.119 888.26 Q621.244 888.26 619.369 888.677 Q617.517 889.093 615.572 889.973 L615.572 872.612 Z\" fill=\"#000000\" fill-rule=\"evenodd\" fill-opacity=\"1\" /><path clip-path=\"url(#clip050)\" d=\"M1012.77 872.612 L1031.13 872.612 L1031.13 876.547 L1017.05 876.547 L1017.05 885.019 Q1018.07 884.672 1019.09 884.51 Q1020.11 884.325 1021.13 884.325 Q1026.92 884.325 1030.3 887.496 Q1033.67 890.667 1033.67 896.084 Q1033.67 901.663 1030.2 904.764 Q1026.73 907.843 1020.41 907.843 Q1018.24 907.843 1015.97 907.473 Q1013.72 907.102 1011.31 906.362 L1011.31 901.663 Q1013.4 902.797 1015.62 903.352 Q1017.84 903.908 1020.32 903.908 Q1024.32 903.908 1026.66 901.802 Q1029 899.695 1029 896.084 Q1029 892.473 1026.66 890.366 Q1024.32 888.26 1020.32 888.26 Q1018.44 888.26 1016.57 888.677 Q1014.72 889.093 1012.77 889.973 L1012.77 872.612 Z\" fill=\"#000000\" fill-rule=\"evenodd\" fill-opacity=\"1\" /><path clip-path=\"url(#clip050)\" d=\"M1042.89 901.292 L1047.77 901.292 L1047.77 907.172 L1042.89 907.172 L1042.89 901.292 Z\" fill=\"#000000\" fill-rule=\"evenodd\" fill-opacity=\"1\" /><path clip-path=\"url(#clip050)\" d=\"M1067.96 875.691 Q1064.35 875.691 1062.52 879.255 Q1060.71 882.797 1060.71 889.927 Q1060.71 897.033 1062.52 900.598 Q1064.35 904.139 1067.96 904.139 Q1071.59 904.139 1073.4 900.598 Q1075.23 897.033 1075.23 889.927 Q1075.23 882.797 1073.4 879.255 Q1071.59 875.691 1067.96 875.691 M1067.96 871.987 Q1073.77 871.987 1076.82 876.593 Q1079.9 881.177 1079.9 889.927 Q1079.9 898.653 1076.82 903.26 Q1073.77 907.843 1067.96 907.843 Q1062.15 907.843 1059.07 903.26 Q1056.01 898.653 1056.01 889.927 Q1056.01 881.177 1059.07 876.593 Q1062.15 871.987 1067.96 871.987 Z\" fill=\"#000000\" fill-rule=\"evenodd\" fill-opacity=\"1\" /><path clip-path=\"url(#clip050)\" d=\"M1454.95 872.612 L1477.17 872.612 L1477.17 874.603 L1464.62 907.172 L1459.74 907.172 L1471.55 876.547 L1454.95 876.547 L1454.95 872.612 Z\" fill=\"#000000\" fill-rule=\"evenodd\" fill-opacity=\"1\" /><path clip-path=\"url(#clip050)\" d=\"M1486.29 901.292 L1491.18 901.292 L1491.18 907.172 L1486.29 907.172 L1486.29 901.292 Z\" fill=\"#000000\" fill-rule=\"evenodd\" fill-opacity=\"1\" /><path clip-path=\"url(#clip050)\" d=\"M1501.41 872.612 L1519.76 872.612 L1519.76 876.547 L1505.69 876.547 L1505.69 885.019 Q1506.71 884.672 1507.73 884.51 Q1508.74 884.325 1509.76 884.325 Q1515.55 884.325 1518.93 887.496 Q1522.31 890.667 1522.31 896.084 Q1522.31 901.663 1518.84 904.764 Q1515.36 907.843 1509.05 907.843 Q1506.87 907.843 1504.6 907.473 Q1502.36 907.102 1499.95 906.362 L1499.95 901.663 Q1502.03 902.797 1504.25 903.352 Q1506.48 903.908 1508.95 903.908 Q1512.96 903.908 1515.3 901.802 Q1517.63 899.695 1517.63 896.084 Q1517.63 892.473 1515.3 890.366 Q1512.96 888.26 1508.95 888.26 Q1507.08 888.26 1505.2 888.677 Q1503.35 889.093 1501.41 889.973 L1501.41 872.612 Z\" fill=\"#000000\" fill-rule=\"evenodd\" fill-opacity=\"1\" /><path clip-path=\"url(#clip050)\" d=\"M1883.72 903.237 L1891.36 903.237 L1891.36 876.871 L1883.05 878.538 L1883.05 874.279 L1891.31 872.612 L1895.99 872.612 L1895.99 903.237 L1903.63 903.237 L1903.63 907.172 L1883.72 907.172 L1883.72 903.237 Z\" fill=\"#000000\" fill-rule=\"evenodd\" fill-opacity=\"1\" /><path clip-path=\"url(#clip050)\" d=\"M1923.07 875.691 Q1919.46 875.691 1917.63 879.255 Q1915.83 882.797 1915.83 889.927 Q1915.83 897.033 1917.63 900.598 Q1919.46 904.139 1923.07 904.139 Q1926.71 904.139 1928.51 900.598 Q1930.34 897.033 1930.34 889.927 Q1930.34 882.797 1928.51 879.255 Q1926.71 875.691 1923.07 875.691 M1923.07 871.987 Q1928.88 871.987 1931.94 876.593 Q1935.02 881.177 1935.02 889.927 Q1935.02 898.653 1931.94 903.26 Q1928.88 907.843 1923.07 907.843 Q1917.26 907.843 1914.18 903.26 Q1911.13 898.653 1911.13 889.927 Q1911.13 881.177 1914.18 876.593 Q1917.26 871.987 1923.07 871.987 Z\" fill=\"#000000\" fill-rule=\"evenodd\" fill-opacity=\"1\" /><path clip-path=\"url(#clip050)\" d=\"M1943.24 901.292 L1948.12 901.292 L1948.12 907.172 L1943.24 907.172 L1943.24 901.292 Z\" fill=\"#000000\" fill-rule=\"evenodd\" fill-opacity=\"1\" /><path clip-path=\"url(#clip050)\" d=\"M1968.3 875.691 Q1964.69 875.691 1962.87 879.255 Q1961.06 882.797 1961.06 889.927 Q1961.06 897.033 1962.87 900.598 Q1964.69 904.139 1968.3 904.139 Q1971.94 904.139 1973.74 900.598 Q1975.57 897.033 1975.57 889.927 Q1975.57 882.797 1973.74 879.255 Q1971.94 875.691 1968.3 875.691 M1968.3 871.987 Q1974.12 871.987 1977.17 876.593 Q1980.25 881.177 1980.25 889.927 Q1980.25 898.653 1977.17 903.26 Q1974.12 907.843 1968.3 907.843 Q1962.49 907.843 1959.42 903.26 Q1956.36 898.653 1956.36 889.927 Q1956.36 881.177 1959.42 876.593 Q1962.49 871.987 1968.3 871.987 Z\" fill=\"#000000\" fill-rule=\"evenodd\" fill-opacity=\"1\" /><path clip-path=\"url(#clip050)\" d=\"M661.996 939.039 L667.852 939.039 L667.852 988.564 L661.996 988.564 L661.996 939.039 Z\" fill=\"#000000\" fill-rule=\"evenodd\" fill-opacity=\"1\" /><path clip-path=\"url(#clip050)\" d=\"M693.92 957.022 Q689.209 957.022 686.472 960.714 Q683.735 964.374 683.735 970.772 Q683.735 977.169 686.44 980.861 Q689.178 984.522 693.92 984.522 Q698.599 984.522 701.336 980.83 Q704.073 977.137 704.073 970.772 Q704.073 964.438 701.336 960.746 Q698.599 957.022 693.92 957.022 M693.92 952.057 Q701.559 952.057 705.919 957.022 Q710.28 961.987 710.28 970.772 Q710.28 979.525 705.919 984.522 Q701.559 989.487 693.92 989.487 Q686.249 989.487 681.889 984.522 Q677.56 979.525 677.56 970.772 Q677.56 961.987 681.889 957.022 Q686.249 952.057 693.92 952.057 Z\" fill=\"#000000\" fill-rule=\"evenodd\" fill-opacity=\"1\" /><path clip-path=\"url(#clip050)\" d=\"M743.445 970.326 Q743.445 963.96 740.803 960.459 Q738.194 956.958 733.451 956.958 Q728.74 956.958 726.099 960.459 Q723.489 963.96 723.489 970.326 Q723.489 976.66 726.099 980.161 Q728.74 983.662 733.451 983.662 Q738.194 983.662 740.803 980.161 Q743.445 976.66 743.445 970.326 M749.302 984.14 Q749.302 993.243 745.259 997.667 Q741.217 1002.12 732.878 1002.12 Q729.791 1002.12 727.054 1001.65 Q724.316 1001.2 721.738 1000.24 L721.738 994.548 Q724.316 995.948 726.831 996.616 Q729.345 997.285 731.955 997.285 Q737.716 997.285 740.581 994.261 Q743.445 991.269 743.445 985.19 L743.445 982.294 Q741.631 985.445 738.798 987.004 Q735.966 988.564 732.019 988.564 Q725.462 988.564 721.452 983.567 Q717.441 978.57 717.441 970.326 Q717.441 962.051 721.452 957.054 Q725.462 952.057 732.019 952.057 Q735.966 952.057 738.798 953.616 Q741.631 955.176 743.445 958.327 L743.445 952.916 L749.302 952.916 L749.302 984.14 Z\" fill=\"#000000\" fill-rule=\"evenodd\" fill-opacity=\"1\" /><path clip-path=\"url(#clip050)\" d=\"M775.433 939.102 Q771.168 946.423 769.099 953.584 Q767.03 960.746 767.03 968.098 Q767.03 975.45 769.099 982.676 Q771.2 989.869 775.433 997.158 L770.34 997.158 Q765.566 989.678 763.179 982.453 Q760.824 975.228 760.824 968.098 Q760.824 961 763.179 953.807 Q765.534 946.614 770.34 939.102 L775.433 939.102 Z\" fill=\"#000000\" fill-rule=\"evenodd\" fill-opacity=\"1\" /><path clip-path=\"url(#clip050)\" d=\"M800.609 957.022 Q795.899 957.022 793.161 960.714 Q790.424 964.374 790.424 970.772 Q790.424 977.169 793.13 980.861 Q795.867 984.522 800.609 984.522 Q805.288 984.522 808.025 980.83 Q810.763 977.137 810.763 970.772 Q810.763 964.438 808.025 960.746 Q805.288 957.022 800.609 957.022 M800.609 952.057 Q808.248 952.057 812.609 957.022 Q816.969 961.987 816.969 970.772 Q816.969 979.525 812.609 984.522 Q808.248 989.487 800.609 989.487 Q792.939 989.487 788.578 984.522 Q784.249 979.525 784.249 970.772 Q784.249 961.987 788.578 957.022 Q792.939 952.057 800.609 952.057 Z\" fill=\"#000000\" fill-rule=\"evenodd\" fill-opacity=\"1\" /><path clip-path=\"url(#clip050)\" d=\"M852.267 970.772 Q852.267 964.311 849.593 960.65 Q846.952 956.958 842.305 956.958 Q837.658 956.958 834.984 960.65 Q832.342 964.311 832.342 970.772 Q832.342 977.233 834.984 980.925 Q837.658 984.585 842.305 984.585 Q846.952 984.585 849.593 980.925 Q852.267 977.233 852.267 970.772 M832.342 958.327 Q834.188 955.144 836.989 953.616 Q839.822 952.057 843.737 952.057 Q850.23 952.057 854.272 957.213 Q858.346 962.369 858.346 970.772 Q858.346 979.174 854.272 984.331 Q850.23 989.487 843.737 989.487 Q839.822 989.487 836.989 987.959 Q834.188 986.4 832.342 983.217 L832.342 988.564 L826.454 988.564 L826.454 939.039 L832.342 939.039 L832.342 958.327 Z\" fill=\"#000000\" fill-rule=\"evenodd\" fill-opacity=\"1\" /><path clip-path=\"url(#clip050)\" d=\"M890.779 953.966 L890.779 959.504 Q888.297 958.231 885.623 957.595 Q882.95 956.958 880.085 956.958 Q875.725 956.958 873.528 958.295 Q871.364 959.632 871.364 962.305 Q871.364 964.342 872.924 965.52 Q874.483 966.666 879.194 967.716 L881.199 968.162 Q887.438 969.499 890.047 971.949 Q892.689 974.368 892.689 978.729 Q892.689 983.694 888.742 986.59 Q884.828 989.487 877.953 989.487 Q875.088 989.487 871.969 988.914 Q868.881 988.373 865.444 987.259 L865.444 981.211 Q868.69 982.898 871.842 983.758 Q874.993 984.585 878.08 984.585 Q882.218 984.585 884.446 983.185 Q886.674 981.753 886.674 979.174 Q886.674 976.787 885.05 975.514 Q883.459 974.241 878.016 973.063 L875.979 972.586 Q870.537 971.44 868.118 969.085 Q865.699 966.698 865.699 962.56 Q865.699 957.531 869.263 954.794 Q872.828 952.057 879.385 952.057 Q882.631 952.057 885.496 952.534 Q888.361 953.011 890.779 953.966 Z\" fill=\"#000000\" fill-rule=\"evenodd\" fill-opacity=\"1\" /><path clip-path=\"url(#clip050)\" d=\"M932.507 969.276 L932.507 972.14 L905.58 972.14 Q905.962 978.188 909.208 981.371 Q912.487 984.522 918.311 984.522 Q921.685 984.522 924.836 983.694 Q928.019 982.867 931.138 981.211 L931.138 986.75 Q927.987 988.086 924.677 988.787 Q921.367 989.487 917.961 989.487 Q909.431 989.487 904.434 984.522 Q899.469 979.556 899.469 971.09 Q899.469 962.337 904.179 957.213 Q908.922 952.057 916.943 952.057 Q924.136 952.057 928.305 956.703 Q932.507 961.319 932.507 969.276 M926.65 967.557 Q926.587 962.751 923.945 959.886 Q921.335 957.022 917.006 957.022 Q912.105 957.022 909.145 959.791 Q906.216 962.56 905.771 967.589 L926.65 967.557 Z\" fill=\"#000000\" fill-rule=\"evenodd\" fill-opacity=\"1\" /><path clip-path=\"url(#clip050)\" d=\"M962.776 958.39 Q961.789 957.817 960.611 957.563 Q959.465 957.276 958.065 957.276 Q953.1 957.276 950.426 960.523 Q947.784 963.738 947.784 969.785 L947.784 988.564 L941.896 988.564 L941.896 952.916 L947.784 952.916 L947.784 958.454 Q949.63 955.208 952.591 953.648 Q955.551 952.057 959.784 952.057 Q960.389 952.057 961.121 952.152 Q961.853 952.216 962.744 952.375 L962.776 958.39 Z\" fill=\"#000000\" fill-rule=\"evenodd\" fill-opacity=\"1\" /><path clip-path=\"url(#clip050)\" d=\"M964.717 952.916 L970.924 952.916 L982.064 982.835 L993.204 952.916 L999.41 952.916 L986.042 988.564 L978.085 988.564 L964.717 952.916 Z\" fill=\"#000000\" fill-rule=\"evenodd\" fill-opacity=\"1\" /><path clip-path=\"url(#clip050)\" d=\"M1037.99 969.276 L1037.99 972.14 L1011.06 972.14 Q1011.44 978.188 1014.69 981.371 Q1017.97 984.522 1023.79 984.522 Q1027.16 984.522 1030.32 983.694 Q1033.5 982.867 1036.62 981.211 L1036.62 986.75 Q1033.47 988.086 1030.16 988.787 Q1026.85 989.487 1023.44 989.487 Q1014.91 989.487 1009.91 984.522 Q1004.95 979.556 1004.95 971.09 Q1004.95 962.337 1009.66 957.213 Q1014.4 952.057 1022.42 952.057 Q1029.62 952.057 1033.79 956.703 Q1037.99 961.319 1037.99 969.276 M1032.13 967.557 Q1032.07 962.751 1029.42 959.886 Q1026.81 957.022 1022.49 957.022 Q1017.58 957.022 1014.62 959.791 Q1011.7 962.56 1011.25 967.589 L1032.13 967.557 Z\" fill=\"#000000\" fill-rule=\"evenodd\" fill-opacity=\"1\" /><path clip-path=\"url(#clip050)\" d=\"M1071.06 958.327 L1071.06 939.039 L1076.91 939.039 L1076.91 988.564 L1071.06 988.564 L1071.06 983.217 Q1069.21 986.4 1066.38 987.959 Q1063.58 989.487 1059.63 989.487 Q1053.17 989.487 1049.09 984.331 Q1045.05 979.174 1045.05 970.772 Q1045.05 962.369 1049.09 957.213 Q1053.17 952.057 1059.63 952.057 Q1063.58 952.057 1066.38 953.616 Q1069.21 955.144 1071.06 958.327 M1051.1 970.772 Q1051.1 977.233 1053.74 980.925 Q1056.42 984.585 1061.06 984.585 Q1065.71 984.585 1068.38 980.925 Q1071.06 977.233 1071.06 970.772 Q1071.06 964.311 1068.38 960.65 Q1065.71 956.958 1061.06 956.958 Q1056.42 956.958 1053.74 960.65 Q1051.1 964.311 1051.1 970.772 Z\" fill=\"#000000\" fill-rule=\"evenodd\" fill-opacity=\"1\" /><path clip-path=\"url(#clip050)\" d=\"M1127.74 939.039 L1127.74 943.908 L1122.14 943.908 Q1118.99 943.908 1117.75 945.182 Q1116.54 946.455 1116.54 949.765 L1116.54 952.916 L1126.18 952.916 L1126.18 957.467 L1116.54 957.467 L1116.54 988.564 L1110.65 988.564 L1110.65 957.467 L1105.05 957.467 L1105.05 952.916 L1110.65 952.916 L1110.65 950.433 Q1110.65 944.481 1113.42 941.776 Q1116.19 939.039 1122.2 939.039 L1127.74 939.039 Z\" fill=\"#000000\" fill-rule=\"evenodd\" fill-opacity=\"1\" /><path clip-path=\"url(#clip050)\" d=\"M1153.3 958.39 Q1152.31 957.817 1151.14 957.563 Q1149.99 957.276 1148.59 957.276 Q1143.63 957.276 1140.95 960.523 Q1138.31 963.738 1138.31 969.785 L1138.31 988.564 L1132.42 988.564 L1132.42 952.916 L1138.31 952.916 L1138.31 958.454 Q1140.16 955.208 1143.12 953.648 Q1146.08 952.057 1150.31 952.057 Q1150.91 952.057 1151.65 952.152 Q1152.38 952.216 1153.27 952.375 L1153.3 958.39 Z\" fill=\"#000000\" fill-rule=\"evenodd\" fill-opacity=\"1\" /><path clip-path=\"url(#clip050)\" d=\"M1188.5 969.276 L1188.5 972.14 L1161.58 972.14 Q1161.96 978.188 1165.21 981.371 Q1168.48 984.522 1174.31 984.522 Q1177.68 984.522 1180.83 983.694 Q1184.02 982.867 1187.13 981.211 L1187.13 986.75 Q1183.98 988.086 1180.67 988.787 Q1177.36 989.487 1173.96 989.487 Q1165.43 989.487 1160.43 984.522 Q1155.47 979.556 1155.47 971.09 Q1155.47 962.337 1160.18 957.213 Q1164.92 952.057 1172.94 952.057 Q1180.13 952.057 1184.3 956.703 Q1188.5 961.319 1188.5 969.276 M1182.65 967.557 Q1182.58 962.751 1179.94 959.886 Q1177.33 957.022 1173 957.022 Q1168.1 957.022 1165.14 959.791 Q1162.21 962.56 1161.77 967.589 L1182.65 967.557 Z\" fill=\"#000000\" fill-rule=\"evenodd\" fill-opacity=\"1\" /><path clip-path=\"url(#clip050)\" d=\"M1201.62 970.772 Q1201.62 977.233 1204.26 980.925 Q1206.93 984.585 1211.58 984.585 Q1216.23 984.585 1218.9 980.925 Q1221.57 977.233 1221.57 970.772 Q1221.57 964.311 1218.9 960.65 Q1216.23 956.958 1211.58 956.958 Q1206.93 956.958 1204.26 960.65 Q1201.62 964.311 1201.62 970.772 M1221.57 983.217 Q1219.73 986.4 1216.89 987.959 Q1214.09 989.487 1210.15 989.487 Q1203.69 989.487 1199.61 984.331 Q1195.57 979.174 1195.57 970.772 Q1195.57 962.369 1199.61 957.213 Q1203.69 952.057 1210.15 952.057 Q1214.09 952.057 1216.89 953.616 Q1219.73 955.144 1221.57 958.327 L1221.57 952.916 L1227.43 952.916 L1227.43 1002.12 L1221.57 1002.12 L1221.57 983.217 Z\" fill=\"#000000\" fill-rule=\"evenodd\" fill-opacity=\"1\" /><path clip-path=\"url(#clip050)\" d=\"M1238.89 974.496 L1238.89 952.916 L1244.74 952.916 L1244.74 974.273 Q1244.74 979.334 1246.72 981.88 Q1248.69 984.394 1252.64 984.394 Q1257.38 984.394 1260.12 981.371 Q1262.89 978.347 1262.89 973.127 L1262.89 952.916 L1268.74 952.916 L1268.74 988.564 L1262.89 988.564 L1262.89 983.089 Q1260.75 986.336 1257.92 987.927 Q1255.12 989.487 1251.4 989.487 Q1245.25 989.487 1242.07 985.667 Q1238.89 981.848 1238.89 974.496 M1253.62 952.057 L1253.62 952.057 Z\" fill=\"#000000\" fill-rule=\"evenodd\" fill-opacity=\"1\" /><path clip-path=\"url(#clip050)\" d=\"M1311.3 969.276 L1311.3 972.14 L1284.37 972.14 Q1284.75 978.188 1288 981.371 Q1291.28 984.522 1297.1 984.522 Q1300.48 984.522 1303.63 983.694 Q1306.81 982.867 1309.93 981.211 L1309.93 986.75 Q1306.78 988.086 1303.47 988.787 Q1300.16 989.487 1296.75 989.487 Q1288.22 989.487 1283.23 984.522 Q1278.26 979.556 1278.26 971.09 Q1278.26 962.337 1282.97 957.213 Q1287.71 952.057 1295.73 952.057 Q1302.93 952.057 1307.1 956.703 Q1311.3 961.319 1311.3 969.276 M1305.44 967.557 Q1305.38 962.751 1302.74 959.886 Q1300.13 957.022 1295.8 957.022 Q1290.9 957.022 1287.94 959.791 Q1285.01 962.56 1284.56 967.589 L1305.44 967.557 Z\" fill=\"#000000\" fill-rule=\"evenodd\" fill-opacity=\"1\" /><path clip-path=\"url(#clip050)\" d=\"M1350.54 967.048 L1350.54 988.564 L1344.69 988.564 L1344.69 967.239 Q1344.69 962.178 1342.71 959.664 Q1340.74 957.149 1336.79 957.149 Q1332.05 957.149 1329.31 960.173 Q1326.58 963.197 1326.58 968.416 L1326.58 988.564 L1320.69 988.564 L1320.69 952.916 L1326.58 952.916 L1326.58 958.454 Q1328.68 955.239 1331.51 953.648 Q1334.37 952.057 1338.1 952.057 Q1344.24 952.057 1347.39 955.876 Q1350.54 959.664 1350.54 967.048 Z\" fill=\"#000000\" fill-rule=\"evenodd\" fill-opacity=\"1\" /><path clip-path=\"url(#clip050)\" d=\"M1387.88 954.285 L1387.88 959.759 Q1385.39 958.39 1382.88 957.722 Q1380.4 957.022 1377.85 957.022 Q1372.15 957.022 1369 960.65 Q1365.85 964.247 1365.85 970.772 Q1365.85 977.297 1369 980.925 Q1372.15 984.522 1377.85 984.522 Q1380.4 984.522 1382.88 983.853 Q1385.39 983.153 1387.88 981.784 L1387.88 987.195 Q1385.43 988.341 1382.78 988.914 Q1380.18 989.487 1377.21 989.487 Q1369.16 989.487 1364.42 984.426 Q1359.68 979.365 1359.68 970.772 Q1359.68 962.051 1364.45 957.054 Q1369.26 952.057 1377.6 952.057 Q1380.3 952.057 1382.88 952.629 Q1385.46 953.171 1387.88 954.285 Z\" fill=\"#000000\" fill-rule=\"evenodd\" fill-opacity=\"1\" /><path clip-path=\"url(#clip050)\" d=\"M1412.89 991.874 Q1410.41 998.24 1408.06 1000.18 Q1405.7 1002.12 1401.75 1002.12 L1397.08 1002.12 L1397.08 997.221 L1400.51 997.221 Q1402.93 997.221 1404.27 996.075 Q1405.61 994.93 1407.23 990.665 L1408.28 987.991 L1393.86 952.916 L1400.07 952.916 L1411.21 980.798 L1422.35 952.916 L1428.55 952.916 L1412.89 991.874 Z\" fill=\"#000000\" fill-rule=\"evenodd\" fill-opacity=\"1\" /><path clip-path=\"url(#clip050)\" d=\"M1435.72 939.102 L1440.81 939.102 Q1445.58 946.614 1447.94 953.807 Q1450.33 961 1450.33 968.098 Q1450.33 975.228 1447.94 982.453 Q1445.58 989.678 1440.81 997.158 L1435.72 997.158 Q1439.95 989.869 1442.02 982.676 Q1444.12 975.45 1444.12 968.098 Q1444.12 960.746 1442.02 953.584 Q1439.95 946.423 1435.72 939.102 Z\" fill=\"#000000\" fill-rule=\"evenodd\" fill-opacity=\"1\" /><polyline clip-path=\"url(#clip052)\" style=\"stroke:#000000; stroke-linecap:butt; stroke-linejoin:round; stroke-width:2; stroke-opacity:0.1; fill:none\" points=\"\n",
       "  159.565,849.7 1952.76,849.7 \n",
       "  \"/>\n",
       "<polyline clip-path=\"url(#clip052)\" style=\"stroke:#000000; stroke-linecap:butt; stroke-linejoin:round; stroke-width:2; stroke-opacity:0.1; fill:none\" points=\"\n",
       "  159.565,646.51 1952.76,646.51 \n",
       "  \"/>\n",
       "<polyline clip-path=\"url(#clip052)\" style=\"stroke:#000000; stroke-linecap:butt; stroke-linejoin:round; stroke-width:2; stroke-opacity:0.1; fill:none\" points=\"\n",
       "  159.565,443.321 1952.76,443.321 \n",
       "  \"/>\n",
       "<polyline clip-path=\"url(#clip052)\" style=\"stroke:#000000; stroke-linecap:butt; stroke-linejoin:round; stroke-width:2; stroke-opacity:0.1; fill:none\" points=\"\n",
       "  159.565,240.132 1952.76,240.132 \n",
       "  \"/>\n",
       "<polyline clip-path=\"url(#clip050)\" style=\"stroke:#000000; stroke-linecap:butt; stroke-linejoin:round; stroke-width:4; stroke-opacity:1; fill:none\" points=\"\n",
       "  159.565,849.7 159.565,108.352 \n",
       "  \"/>\n",
       "<polyline clip-path=\"url(#clip050)\" style=\"stroke:#000000; stroke-linecap:butt; stroke-linejoin:round; stroke-width:4; stroke-opacity:1; fill:none\" points=\"\n",
       "  159.565,849.7 178.463,849.7 \n",
       "  \"/>\n",
       "<polyline clip-path=\"url(#clip050)\" style=\"stroke:#000000; stroke-linecap:butt; stroke-linejoin:round; stroke-width:4; stroke-opacity:1; fill:none\" points=\"\n",
       "  159.565,646.51 178.463,646.51 \n",
       "  \"/>\n",
       "<polyline clip-path=\"url(#clip050)\" style=\"stroke:#000000; stroke-linecap:butt; stroke-linejoin:round; stroke-width:4; stroke-opacity:1; fill:none\" points=\"\n",
       "  159.565,443.321 178.463,443.321 \n",
       "  \"/>\n",
       "<polyline clip-path=\"url(#clip050)\" style=\"stroke:#000000; stroke-linecap:butt; stroke-linejoin:round; stroke-width:4; stroke-opacity:1; fill:none\" points=\"\n",
       "  159.565,240.132 178.463,240.132 \n",
       "  \"/>\n",
       "<path clip-path=\"url(#clip050)\" d=\"M117.621 835.499 Q114.01 835.499 112.181 839.063 Q110.375 842.605 110.375 849.735 Q110.375 856.841 112.181 860.406 Q114.01 863.947 117.621 863.947 Q121.255 863.947 123.061 860.406 Q124.889 856.841 124.889 849.735 Q124.889 842.605 123.061 839.063 Q121.255 835.499 117.621 835.499 M117.621 831.795 Q123.431 831.795 126.487 836.401 Q129.565 840.985 129.565 849.735 Q129.565 858.461 126.487 863.068 Q123.431 867.651 117.621 867.651 Q111.811 867.651 108.732 863.068 Q105.676 858.461 105.676 849.735 Q105.676 840.985 108.732 836.401 Q111.811 831.795 117.621 831.795 Z\" fill=\"#000000\" fill-rule=\"evenodd\" fill-opacity=\"1\" /><path clip-path=\"url(#clip050)\" d=\"M113.246 659.855 L129.565 659.855 L129.565 663.79 L107.621 663.79 L107.621 659.855 Q110.283 657.101 114.866 652.471 Q119.473 647.818 120.653 646.476 Q122.899 643.953 123.778 642.216 Q124.681 640.457 124.681 638.767 Q124.681 636.013 122.737 634.277 Q120.815 632.541 117.713 632.541 Q115.514 632.541 113.061 633.304 Q110.63 634.068 107.852 635.619 L107.852 630.897 Q110.676 629.763 113.13 629.184 Q115.584 628.605 117.621 628.605 Q122.991 628.605 126.186 631.291 Q129.38 633.976 129.38 638.466 Q129.38 640.596 128.57 642.517 Q127.783 644.416 125.676 647.008 Q125.098 647.679 121.996 650.897 Q118.894 654.091 113.246 659.855 Z\" fill=\"#000000\" fill-rule=\"evenodd\" fill-opacity=\"1\" /><path clip-path=\"url(#clip050)\" d=\"M119.982 430.115 L108.176 448.564 L119.982 448.564 L119.982 430.115 M118.755 426.041 L124.635 426.041 L124.635 448.564 L129.565 448.564 L129.565 452.453 L124.635 452.453 L124.635 460.601 L119.982 460.601 L119.982 452.453 L104.38 452.453 L104.38 447.939 L118.755 426.041 Z\" fill=\"#000000\" fill-rule=\"evenodd\" fill-opacity=\"1\" /><path clip-path=\"url(#clip050)\" d=\"M118.037 238.268 Q114.889 238.268 113.038 240.421 Q111.209 242.574 111.209 246.324 Q111.209 250.051 113.038 252.226 Q114.889 254.379 118.037 254.379 Q121.186 254.379 123.014 252.226 Q124.866 250.051 124.866 246.324 Q124.866 242.574 123.014 240.421 Q121.186 238.268 118.037 238.268 M127.32 223.615 L127.32 227.875 Q125.561 227.041 123.755 226.602 Q121.973 226.162 120.213 226.162 Q115.584 226.162 113.13 229.287 Q110.7 232.412 110.352 238.731 Q111.718 236.717 113.778 235.652 Q115.838 234.564 118.315 234.564 Q123.524 234.564 126.533 237.736 Q129.565 240.884 129.565 246.324 Q129.565 251.648 126.417 254.865 Q123.269 258.083 118.037 258.083 Q112.042 258.083 108.871 253.5 Q105.7 248.893 105.7 240.166 Q105.7 231.972 109.588 227.111 Q113.477 222.227 120.028 222.227 Q121.787 222.227 123.57 222.574 Q125.375 222.921 127.32 223.615 Z\" fill=\"#000000\" fill-rule=\"evenodd\" fill-opacity=\"1\" /><path clip-path=\"url(#clip050)\" d=\"M10.599 728.769 L10.599 722.912 L60.1242 722.912 L60.1242 728.769 L10.599 728.769 Z\" fill=\"#000000\" fill-rule=\"evenodd\" fill-opacity=\"1\" /><path clip-path=\"url(#clip050)\" d=\"M28.5821 696.845 Q28.5821 701.555 32.2742 704.292 Q35.9345 707.03 42.332 707.03 Q48.7295 707.03 52.4217 704.324 Q56.0819 701.587 56.0819 696.845 Q56.0819 692.166 52.3898 689.429 Q48.6977 686.691 42.332 686.691 Q35.9981 686.691 32.306 689.429 Q28.5821 692.166 28.5821 696.845 M23.6168 696.845 Q23.6168 689.206 28.5821 684.845 Q33.5473 680.485 42.332 680.485 Q51.0849 680.485 56.0819 684.845 Q61.0472 689.206 61.0472 696.845 Q61.0472 704.515 56.0819 708.876 Q51.0849 713.204 42.332 713.204 Q33.5473 713.204 28.5821 708.876 Q23.6168 704.515 23.6168 696.845 Z\" fill=\"#000000\" fill-rule=\"evenodd\" fill-opacity=\"1\" /><path clip-path=\"url(#clip050)\" d=\"M41.8864 647.319 Q35.5207 647.319 32.0196 649.961 Q28.5184 652.571 28.5184 657.314 Q28.5184 662.024 32.0196 664.666 Q35.5207 667.276 41.8864 667.276 Q48.2203 667.276 51.7214 664.666 Q55.2226 662.024 55.2226 657.314 Q55.2226 652.571 51.7214 649.961 Q48.2203 647.319 41.8864 647.319 M55.7 641.463 Q64.803 641.463 69.2271 645.505 Q73.6831 649.547 73.6831 657.886 Q73.6831 660.974 73.2057 663.711 Q72.7601 666.448 71.8052 669.026 L66.1079 669.026 Q67.5084 666.448 68.1768 663.934 Q68.8452 661.419 68.8452 658.809 Q68.8452 653.048 65.8215 650.184 Q62.8296 647.319 56.7503 647.319 L53.8539 647.319 Q57.005 649.134 58.5646 651.966 Q60.1242 654.799 60.1242 658.746 Q60.1242 665.302 55.1271 669.313 Q50.13 673.323 41.8864 673.323 Q33.611 673.323 28.6139 669.313 Q23.6168 665.302 23.6168 658.746 Q23.6168 654.799 25.1764 651.966 Q26.736 649.134 29.8871 647.319 L24.4762 647.319 L24.4762 641.463 L55.7 641.463 Z\" fill=\"#000000\" fill-rule=\"evenodd\" fill-opacity=\"1\" /><path clip-path=\"url(#clip050)\" d=\"M10.6626 615.332 Q17.9832 619.597 25.1446 621.666 Q32.306 623.734 39.6584 623.734 Q47.0108 623.734 54.2359 621.666 Q61.4291 619.565 68.7179 615.332 L68.7179 620.424 Q61.2382 625.199 54.0131 627.586 Q46.788 629.941 39.6584 629.941 Q32.5606 629.941 25.3674 627.586 Q18.1742 625.23 10.6626 620.424 L10.6626 615.332 Z\" fill=\"#000000\" fill-rule=\"evenodd\" fill-opacity=\"1\" /><path clip-path=\"url(#clip050)\" d=\"M31.4466 576.787 L31.4466 586.049 L42.0774 588.723 L42.0774 579.397 L31.4466 576.787 M13.3362 581.562 L26.5451 584.872 L26.5451 575.578 L13.3362 572.236 L13.3362 567.143 L26.5451 570.422 L26.5451 560.491 L31.4466 560.491 L31.4466 571.663 L42.0774 574.273 L42.0774 564.151 L46.9471 564.151 L46.9471 575.514 L60.1242 578.824 L60.1242 583.917 L46.9471 580.639 L46.9471 589.964 L60.1242 593.243 L60.1242 598.367 L46.9471 595.057 L46.9471 605.083 L42.0774 605.083 L42.0774 593.879 L31.4466 591.206 L31.4466 601.454 L26.5451 601.454 L26.5451 589.964 L13.3362 586.718 L13.3362 581.562 Z\" fill=\"#000000\" fill-rule=\"evenodd\" fill-opacity=\"1\" /><path clip-path=\"url(#clip050)\" d=\"M28.5821 514.817 Q28.5821 519.528 32.2742 522.265 Q35.9345 525.002 42.332 525.002 Q48.7295 525.002 52.4217 522.297 Q56.0819 519.56 56.0819 514.817 Q56.0819 510.138 52.3898 507.401 Q48.6977 504.664 42.332 504.664 Q35.9981 504.664 32.306 507.401 Q28.5821 510.138 28.5821 514.817 M23.6168 514.817 Q23.6168 507.178 28.5821 502.818 Q33.5473 498.457 42.332 498.457 Q51.0849 498.457 56.0819 502.818 Q61.0472 507.178 61.0472 514.817 Q61.0472 522.488 56.0819 526.848 Q51.0849 531.177 42.332 531.177 Q33.5473 531.177 28.5821 526.848 Q23.6168 522.488 23.6168 514.817 Z\" fill=\"#000000\" fill-rule=\"evenodd\" fill-opacity=\"1\" /><path clip-path=\"url(#clip050)\" d=\"M10.599 470.703 L15.4687 470.703 L15.4687 476.305 Q15.4687 479.456 16.7419 480.697 Q18.015 481.906 21.3252 481.906 L24.4762 481.906 L24.4762 472.262 L29.0277 472.262 L29.0277 481.906 L60.1242 481.906 L60.1242 487.795 L29.0277 487.795 L29.0277 493.397 L24.4762 493.397 L24.4762 487.795 L21.9936 487.795 Q16.0416 487.795 13.3362 485.026 Q10.599 482.257 10.599 476.241 L10.599 470.703 Z\" fill=\"#000000\" fill-rule=\"evenodd\" fill-opacity=\"1\" /><path clip-path=\"url(#clip050)\" d=\"M10.599 445.304 L10.599 439.415 L39.8494 439.415 L24.4762 421.942 L24.4762 414.462 L41.1544 433.368 L60.1242 413.666 L60.1242 421.305 L42.7139 439.415 L60.1242 439.415 L60.1242 445.304 L10.599 445.304 Z\" fill=\"#000000\" fill-rule=\"evenodd\" fill-opacity=\"1\" /><path clip-path=\"url(#clip050)\" d=\"M31.3193 379.578 Q27.3726 377.382 25.4947 374.326 Q23.6168 371.27 23.6168 367.133 Q23.6168 361.563 27.5317 358.539 Q31.4148 355.515 38.6081 355.515 L60.1242 355.515 L60.1242 361.404 L38.799 361.404 Q33.6746 361.404 31.192 363.218 Q28.7094 365.032 28.7094 368.756 Q28.7094 373.308 31.7331 375.949 Q34.7568 378.591 39.9767 378.591 L60.1242 378.591 L60.1242 384.479 L38.799 384.479 Q33.6428 384.479 31.192 386.294 Q28.7094 388.108 28.7094 391.895 Q28.7094 396.383 31.7649 399.025 Q34.7886 401.667 39.9767 401.667 L60.1242 401.667 L60.1242 407.555 L24.4762 407.555 L24.4762 401.667 L30.0144 401.667 Q26.736 399.662 25.1764 396.861 Q23.6168 394.06 23.6168 390.208 Q23.6168 386.325 25.5902 383.62 Q27.5636 380.883 31.3193 379.578 Z\" fill=\"#000000\" fill-rule=\"evenodd\" fill-opacity=\"1\" /><path clip-path=\"url(#clip050)\" d=\"M40.8361 313.343 L43.7006 313.343 L43.7006 340.269 Q49.7481 339.888 52.9309 336.641 Q56.0819 333.363 56.0819 327.538 Q56.0819 324.164 55.2544 321.013 Q54.4269 317.83 52.7718 314.711 L58.3099 314.711 Q59.6467 317.862 60.347 321.172 Q61.0472 324.483 61.0472 327.888 Q61.0472 336.418 56.0819 341.415 Q51.1167 346.381 42.6503 346.381 Q33.8974 346.381 28.7731 341.67 Q23.6168 336.927 23.6168 328.907 Q23.6168 321.713 28.2638 317.544 Q32.8789 313.343 40.8361 313.343 M39.1173 319.199 Q34.3112 319.263 31.4466 321.904 Q28.5821 324.514 28.5821 328.843 Q28.5821 333.745 31.3512 336.705 Q34.1202 339.633 39.1492 340.079 L39.1173 319.199 Z\" fill=\"#000000\" fill-rule=\"evenodd\" fill-opacity=\"1\" /><path clip-path=\"url(#clip050)\" d=\"M29.9507 283.074 Q29.3778 284.06 29.1232 285.238 Q28.8367 286.384 28.8367 287.784 Q28.8367 292.749 32.0832 295.423 Q35.2979 298.065 41.3453 298.065 L60.1242 298.065 L60.1242 303.953 L24.4762 303.953 L24.4762 298.065 L30.0144 298.065 Q26.7679 296.219 25.2083 293.259 Q23.6168 290.299 23.6168 286.066 Q23.6168 285.461 23.7123 284.729 Q23.776 283.997 23.9351 283.105 L29.9507 283.074 Z\" fill=\"#000000\" fill-rule=\"evenodd\" fill-opacity=\"1\" /><path clip-path=\"url(#clip050)\" d=\"M25.5265 254.205 L31.0647 254.205 Q29.7916 256.688 29.155 259.361 Q28.5184 262.035 28.5184 264.9 Q28.5184 269.26 29.8552 271.456 Q31.192 273.621 33.8656 273.621 Q35.9026 273.621 37.0803 272.061 Q38.2261 270.501 39.2765 265.791 L39.7221 263.786 Q41.0589 257.547 43.5097 254.937 Q45.9286 252.295 50.2891 252.295 Q55.2544 252.295 58.1508 256.242 Q61.0472 260.157 61.0472 267.032 Q61.0472 269.897 60.4743 273.016 Q59.9332 276.103 58.8192 279.541 L52.7718 279.541 Q54.4587 276.294 55.318 273.143 Q56.1456 269.992 56.1456 266.905 Q56.1456 262.767 54.7451 260.539 Q53.3129 258.311 50.7347 258.311 Q48.3476 258.311 47.0745 259.934 Q45.8013 261.526 44.6237 266.968 L44.1462 269.005 Q43.0004 274.448 40.6451 276.867 Q38.258 279.286 34.1202 279.286 Q29.0913 279.286 26.3541 275.721 Q23.6168 272.156 23.6168 265.6 Q23.6168 262.353 24.0943 259.489 Q24.5717 256.624 25.5265 254.205 Z\" fill=\"#000000\" fill-rule=\"evenodd\" fill-opacity=\"1\" /><path clip-path=\"url(#clip050)\" d=\"M10.6626 243.893 L10.6626 238.8 Q18.1742 234.026 25.3674 231.671 Q32.5606 229.283 39.6584 229.283 Q46.788 229.283 54.0131 231.671 Q61.2382 234.026 68.7179 238.8 L68.7179 243.893 Q61.4291 239.66 54.2359 237.591 Q47.0108 235.49 39.6584 235.49 Q32.306 235.49 25.1446 237.591 Q17.9832 239.66 10.6626 243.893 Z\" fill=\"#000000\" fill-rule=\"evenodd\" fill-opacity=\"1\" /><path clip-path=\"url(#clip050)\" d=\"M699.6 9.54393 L707.094 9.54393 L707.094 46.7717 L729.334 27.2059 L738.853 27.2059 L714.791 48.4326 L739.866 72.576 L730.144 72.576 L707.094 50.4176 L707.094 72.576 L699.6 72.576 L699.6 9.54393 Z\" fill=\"#000000\" fill-rule=\"evenodd\" fill-opacity=\"1\" /><path clip-path=\"url(#clip050)\" d=\"M783.251 35.9153 Q786.046 30.8922 789.935 28.5022 Q793.824 26.1121 799.09 26.1121 Q806.179 26.1121 810.028 31.0947 Q813.876 36.0368 813.876 45.1919 L813.876 72.576 L806.382 72.576 L806.382 45.4349 Q806.382 38.913 804.073 35.7533 Q801.764 32.5936 797.024 32.5936 Q791.231 32.5936 787.869 36.4419 Q784.507 40.2903 784.507 46.9338 L784.507 72.576 L777.013 72.576 L777.013 45.4349 Q777.013 38.8725 774.704 35.7533 Q772.395 32.5936 767.574 32.5936 Q761.862 32.5936 758.5 36.4824 Q755.138 40.3308 755.138 46.9338 L755.138 72.576 L747.644 72.576 L747.644 27.2059 L755.138 27.2059 L755.138 34.2544 Q757.69 30.082 761.255 28.0971 Q764.82 26.1121 769.721 26.1121 Q774.663 26.1121 778.106 28.6237 Q781.59 31.1352 783.251 35.9153 Z\" fill=\"#000000\" fill-rule=\"evenodd\" fill-opacity=\"1\" /><path clip-path=\"url(#clip050)\" d=\"M867.55 48.0275 L867.55 51.6733 L833.28 51.6733 Q833.766 59.3701 837.898 63.421 Q842.07 67.4314 849.483 67.4314 Q853.777 67.4314 857.788 66.3781 Q861.839 65.3249 865.809 63.2184 L865.809 70.267 Q861.798 71.9684 857.585 72.8596 Q853.372 73.7508 849.038 73.7508 Q838.181 73.7508 831.821 67.4314 Q825.502 61.1119 825.502 50.3365 Q825.502 39.1965 831.497 32.6746 Q837.533 26.1121 847.742 26.1121 Q856.897 26.1121 862.203 32.0264 Q867.55 37.9003 867.55 48.0275 M860.097 45.84 Q860.016 39.7232 856.654 36.0774 Q853.332 32.4315 847.823 32.4315 Q841.584 32.4315 837.817 35.9558 Q834.09 39.4801 833.523 45.8805 L860.097 45.84 Z\" fill=\"#000000\" fill-rule=\"evenodd\" fill-opacity=\"1\" /><path clip-path=\"url(#clip050)\" d=\"M906.075 34.1734 Q904.819 33.4443 903.32 33.1202 Q901.862 32.7556 900.079 32.7556 Q893.76 32.7556 890.357 36.8875 Q886.995 40.9789 886.995 48.6757 L886.995 72.576 L879.501 72.576 L879.501 27.2059 L886.995 27.2059 L886.995 34.2544 Q889.344 30.1225 893.112 28.1376 Q896.879 26.1121 902.267 26.1121 Q903.036 26.1121 903.968 26.2337 Q904.9 26.3147 906.034 26.5172 L906.075 34.1734 Z\" fill=\"#000000\" fill-rule=\"evenodd\" fill-opacity=\"1\" /><path clip-path=\"url(#clip050)\" d=\"M963.233 9.54393 L963.233 15.7418 L956.103 15.7418 Q952.093 15.7418 950.513 17.3622 Q948.974 18.9825 948.974 23.1955 L948.974 27.2059 L961.248 27.2059 L961.248 32.9987 L948.974 32.9987 L948.974 72.576 L941.479 72.576 L941.479 32.9987 L934.35 32.9987 L934.35 27.2059 L941.479 27.2059 L941.479 24.0462 Q941.479 16.471 945.004 13.0277 Q948.528 9.54393 956.184 9.54393 L963.233 9.54393 Z\" fill=\"#000000\" fill-rule=\"evenodd\" fill-opacity=\"1\" /><path clip-path=\"url(#clip050)\" d=\"M995.762 34.1734 Q994.506 33.4443 993.007 33.1202 Q991.549 32.7556 989.766 32.7556 Q983.447 32.7556 980.044 36.8875 Q976.682 40.9789 976.682 48.6757 L976.682 72.576 L969.188 72.576 L969.188 27.2059 L976.682 27.2059 L976.682 34.2544 Q979.031 30.1225 982.799 28.1376 Q986.566 26.1121 991.954 26.1121 Q992.723 26.1121 993.655 26.2337 Q994.587 26.3147 995.721 26.5172 L995.762 34.1734 Z\" fill=\"#000000\" fill-rule=\"evenodd\" fill-opacity=\"1\" /><path clip-path=\"url(#clip050)\" d=\"M1040.56 48.0275 L1040.56 51.6733 L1006.29 51.6733 Q1006.78 59.3701 1010.91 63.421 Q1015.08 67.4314 1022.5 67.4314 Q1026.79 67.4314 1030.8 66.3781 Q1034.85 65.3249 1038.82 63.2184 L1038.82 70.267 Q1034.81 71.9684 1030.6 72.8596 Q1026.39 73.7508 1022.05 73.7508 Q1011.2 73.7508 1004.84 67.4314 Q998.516 61.1119 998.516 50.3365 Q998.516 39.1965 1004.51 32.6746 Q1010.55 26.1121 1020.76 26.1121 Q1029.91 26.1121 1035.22 32.0264 Q1040.56 37.9003 1040.56 48.0275 M1033.11 45.84 Q1033.03 39.7232 1029.67 36.0774 Q1026.35 32.4315 1020.84 32.4315 Q1014.6 32.4315 1010.83 35.9558 Q1007.1 39.4801 1006.54 45.8805 L1033.11 45.84 Z\" fill=\"#000000\" fill-rule=\"evenodd\" fill-opacity=\"1\" /><path clip-path=\"url(#clip050)\" d=\"M1057.25 49.9314 Q1057.25 58.1548 1060.62 62.8538 Q1064.02 67.5124 1069.93 67.5124 Q1075.85 67.5124 1079.25 62.8538 Q1082.65 58.1548 1082.65 49.9314 Q1082.65 41.7081 1079.25 37.0496 Q1075.85 32.3505 1069.93 32.3505 Q1064.02 32.3505 1060.62 37.0496 Q1057.25 41.7081 1057.25 49.9314 M1082.65 65.7705 Q1080.3 69.8214 1076.7 71.8063 Q1073.13 73.7508 1068.11 73.7508 Q1059.89 73.7508 1054.7 67.1883 Q1049.56 60.6258 1049.56 49.9314 Q1049.56 39.2371 1054.7 32.6746 Q1059.89 26.1121 1068.11 26.1121 Q1073.13 26.1121 1076.7 28.0971 Q1080.3 30.0415 1082.65 34.0924 L1082.65 27.2059 L1090.11 27.2059 L1090.11 89.8329 L1082.65 89.8329 L1082.65 65.7705 Z\" fill=\"#000000\" fill-rule=\"evenodd\" fill-opacity=\"1\" /><path clip-path=\"url(#clip050)\" d=\"M1104.69 54.671 L1104.69 27.2059 L1112.14 27.2059 L1112.14 54.3874 Q1112.14 60.8284 1114.66 64.0691 Q1117.17 67.2693 1122.19 67.2693 Q1128.23 67.2693 1131.71 63.421 Q1135.23 59.5726 1135.23 52.9291 L1135.23 27.2059 L1142.69 27.2059 L1142.69 72.576 L1135.23 72.576 L1135.23 65.6084 Q1132.52 69.7404 1128.91 71.7658 Q1125.35 73.7508 1120.61 73.7508 Q1112.79 73.7508 1108.74 68.8897 Q1104.69 64.0286 1104.69 54.671 M1123.45 26.1121 L1123.45 26.1121 Z\" fill=\"#000000\" fill-rule=\"evenodd\" fill-opacity=\"1\" /><path clip-path=\"url(#clip050)\" d=\"M1196.85 48.0275 L1196.85 51.6733 L1162.58 51.6733 Q1163.06 59.3701 1167.2 63.421 Q1171.37 67.4314 1178.78 67.4314 Q1183.08 67.4314 1187.09 66.3781 Q1191.14 65.3249 1195.11 63.2184 L1195.11 70.267 Q1191.1 71.9684 1186.88 72.8596 Q1182.67 73.7508 1178.34 73.7508 Q1167.48 73.7508 1161.12 67.4314 Q1154.8 61.1119 1154.8 50.3365 Q1154.8 39.1965 1160.8 32.6746 Q1166.83 26.1121 1177.04 26.1121 Q1186.19 26.1121 1191.5 32.0264 Q1196.85 37.9003 1196.85 48.0275 M1189.39 45.84 Q1189.31 39.7232 1185.95 36.0774 Q1182.63 32.4315 1177.12 32.4315 Q1170.88 32.4315 1167.11 35.9558 Q1163.39 39.4801 1162.82 45.8805 L1189.39 45.84 Z\" fill=\"#000000\" fill-rule=\"evenodd\" fill-opacity=\"1\" /><path clip-path=\"url(#clip050)\" d=\"M1246.8 45.1919 L1246.8 72.576 L1239.34 72.576 L1239.34 45.4349 Q1239.34 38.994 1236.83 35.7938 Q1234.32 32.5936 1229.3 32.5936 Q1223.26 32.5936 1219.78 36.4419 Q1216.29 40.2903 1216.29 46.9338 L1216.29 72.576 L1208.8 72.576 L1208.8 27.2059 L1216.29 27.2059 L1216.29 34.2544 Q1218.97 30.163 1222.57 28.1376 Q1226.22 26.1121 1230.96 26.1121 Q1238.78 26.1121 1242.79 30.9732 Q1246.8 35.7938 1246.8 45.1919 Z\" fill=\"#000000\" fill-rule=\"evenodd\" fill-opacity=\"1\" /><path clip-path=\"url(#clip050)\" d=\"M1294.31 28.9478 L1294.31 35.9153 Q1291.15 34.1734 1287.95 33.3227 Q1284.79 32.4315 1281.55 32.4315 Q1274.3 32.4315 1270.29 37.0496 Q1266.28 41.6271 1266.28 49.9314 Q1266.28 58.2358 1270.29 62.8538 Q1274.3 67.4314 1281.55 67.4314 Q1284.79 67.4314 1287.95 66.5807 Q1291.15 65.6895 1294.31 63.9476 L1294.31 70.8341 Q1291.19 72.2924 1287.83 73.0216 Q1284.51 73.7508 1280.74 73.7508 Q1270.49 73.7508 1264.46 67.3098 Q1258.42 60.8689 1258.42 49.9314 Q1258.42 38.832 1264.5 32.472 Q1270.62 26.1121 1281.23 26.1121 Q1284.67 26.1121 1287.95 26.8413 Q1291.23 27.5299 1294.31 28.9478 Z\" fill=\"#000000\" fill-rule=\"evenodd\" fill-opacity=\"1\" /><path clip-path=\"url(#clip050)\" d=\"M1307.28 27.2059 L1314.73 27.2059 L1314.73 72.576 L1307.28 72.576 L1307.28 27.2059 M1307.28 9.54393 L1314.73 9.54393 L1314.73 18.9825 L1307.28 18.9825 L1307.28 9.54393 Z\" fill=\"#000000\" fill-rule=\"evenodd\" fill-opacity=\"1\" /><path clip-path=\"url(#clip050)\" d=\"M1369.13 48.0275 L1369.13 51.6733 L1334.86 51.6733 Q1335.35 59.3701 1339.48 63.421 Q1343.65 67.4314 1351.07 67.4314 Q1355.36 67.4314 1359.37 66.3781 Q1363.42 65.3249 1367.39 63.2184 L1367.39 70.267 Q1363.38 71.9684 1359.17 72.8596 Q1354.96 73.7508 1350.62 73.7508 Q1339.76 73.7508 1333.4 67.4314 Q1327.09 61.1119 1327.09 50.3365 Q1327.09 39.1965 1333.08 32.6746 Q1339.12 26.1121 1349.32 26.1121 Q1358.48 26.1121 1363.79 32.0264 Q1369.13 37.9003 1369.13 48.0275 M1361.68 45.84 Q1361.6 39.7232 1358.24 36.0774 Q1354.91 32.4315 1349.41 32.4315 Q1343.17 32.4315 1339.4 35.9558 Q1335.67 39.4801 1335.11 45.8805 L1361.68 45.84 Z\" fill=\"#000000\" fill-rule=\"evenodd\" fill-opacity=\"1\" /><path clip-path=\"url(#clip050)\" d=\"M1410.29 28.5427 L1410.29 35.5912 Q1407.13 33.9709 1403.73 33.1607 Q1400.33 32.3505 1396.68 32.3505 Q1391.13 32.3505 1388.33 34.0519 Q1385.58 35.7533 1385.58 39.156 Q1385.58 41.7486 1387.57 43.2475 Q1389.55 44.7058 1395.55 46.0426 L1398.1 46.6097 Q1406.04 48.3111 1409.36 51.4303 Q1412.72 54.509 1412.72 60.0587 Q1412.72 66.3781 1407.7 70.0644 Q1402.72 73.7508 1393.97 73.7508 Q1390.32 73.7508 1386.35 73.0216 Q1382.42 72.3329 1378.05 70.9151 L1378.05 63.2184 Q1382.18 65.3654 1386.19 66.4591 Q1390.2 67.5124 1394.13 67.5124 Q1399.39 67.5124 1402.23 65.73 Q1405.06 63.9071 1405.06 60.6258 Q1405.06 57.5877 1403 55.9673 Q1400.97 54.3469 1394.05 52.8481 L1391.45 52.2405 Q1384.53 50.7821 1381.45 47.7845 Q1378.37 44.7463 1378.37 39.4801 Q1378.37 33.0797 1382.91 29.5959 Q1387.44 26.1121 1395.79 26.1121 Q1399.92 26.1121 1403.57 26.7198 Q1407.21 27.3274 1410.29 28.5427 Z\" fill=\"#000000\" fill-rule=\"evenodd\" fill-opacity=\"1\" /><circle clip-path=\"url(#clip052)\" cx=\"444.771\" cy=\"298.107\" r=\"14\" fill=\"#009af9\" fill-rule=\"evenodd\" fill-opacity=\"1\" stroke=\"#000000\" stroke-opacity=\"1\" stroke-width=\"2\"/>\n",
       "<circle clip-path=\"url(#clip052)\" cx=\"1773.36\" cy=\"738.087\" r=\"14\" fill=\"#009af9\" fill-rule=\"evenodd\" fill-opacity=\"1\" stroke=\"#000000\" stroke-opacity=\"1\" stroke-width=\"2\"/>\n",
       "<circle clip-path=\"url(#clip052)\" cx=\"789.603\" cy=\"491.44\" r=\"14\" fill=\"#009af9\" fill-rule=\"evenodd\" fill-opacity=\"1\" stroke=\"#000000\" stroke-opacity=\"1\" stroke-width=\"2\"/>\n",
       "<circle clip-path=\"url(#clip052)\" cx=\"872.892\" cy=\"638.44\" r=\"14\" fill=\"#009af9\" fill-rule=\"evenodd\" fill-opacity=\"1\" stroke=\"#000000\" stroke-opacity=\"1\" stroke-width=\"2\"/>\n",
       "<circle clip-path=\"url(#clip052)\" cx=\"869.699\" cy=\"849.7\" r=\"14\" fill=\"#009af9\" fill-rule=\"evenodd\" fill-opacity=\"1\" stroke=\"#000000\" stroke-opacity=\"1\" stroke-width=\"2\"/>\n",
       "<circle clip-path=\"url(#clip052)\" cx=\"1774.28\" cy=\"849.7\" r=\"14\" fill=\"#009af9\" fill-rule=\"evenodd\" fill-opacity=\"1\" stroke=\"#000000\" stroke-opacity=\"1\" stroke-width=\"2\"/>\n",
       "<circle clip-path=\"url(#clip052)\" cx=\"885.118\" cy=\"626.473\" r=\"14\" fill=\"#009af9\" fill-rule=\"evenodd\" fill-opacity=\"1\" stroke=\"#000000\" stroke-opacity=\"1\" stroke-width=\"2\"/>\n",
       "<circle clip-path=\"url(#clip052)\" cx=\"762.286\" cy=\"469.972\" r=\"14\" fill=\"#009af9\" fill-rule=\"evenodd\" fill-opacity=\"1\" stroke=\"#000000\" stroke-opacity=\"1\" stroke-width=\"2\"/>\n",
       "<circle clip-path=\"url(#clip052)\" cx=\"1773.34\" cy=\"849.7\" r=\"14\" fill=\"#009af9\" fill-rule=\"evenodd\" fill-opacity=\"1\" stroke=\"#000000\" stroke-opacity=\"1\" stroke-width=\"2\"/>\n",
       "<circle clip-path=\"url(#clip052)\" cx=\"1772.55\" cy=\"849.7\" r=\"14\" fill=\"#009af9\" fill-rule=\"evenodd\" fill-opacity=\"1\" stroke=\"#000000\" stroke-opacity=\"1\" stroke-width=\"2\"/>\n",
       "<circle clip-path=\"url(#clip052)\" cx=\"773.723\" cy=\"485.633\" r=\"14\" fill=\"#009af9\" fill-rule=\"evenodd\" fill-opacity=\"1\" stroke=\"#000000\" stroke-opacity=\"1\" stroke-width=\"2\"/>\n",
       "<circle clip-path=\"url(#clip052)\" cx=\"477.08\" cy=\"255.733\" r=\"14\" fill=\"#009af9\" fill-rule=\"evenodd\" fill-opacity=\"1\" stroke=\"#000000\" stroke-opacity=\"1\" stroke-width=\"2\"/>\n",
       "<circle clip-path=\"url(#clip052)\" cx=\"904.672\" cy=\"738.087\" r=\"14\" fill=\"#009af9\" fill-rule=\"evenodd\" fill-opacity=\"1\" stroke=\"#000000\" stroke-opacity=\"1\" stroke-width=\"2\"/>\n",
       "<circle clip-path=\"url(#clip052)\" cx=\"834.138\" cy=\"638.44\" r=\"14\" fill=\"#009af9\" fill-rule=\"evenodd\" fill-opacity=\"1\" stroke=\"#000000\" stroke-opacity=\"1\" stroke-width=\"2\"/>\n",
       "<circle clip-path=\"url(#clip052)\" cx=\"1773.08\" cy=\"849.7\" r=\"14\" fill=\"#009af9\" fill-rule=\"evenodd\" fill-opacity=\"1\" stroke=\"#000000\" stroke-opacity=\"1\" stroke-width=\"2\"/>\n",
       "<circle clip-path=\"url(#clip052)\" cx=\"1773.18\" cy=\"849.7\" r=\"14\" fill=\"#009af9\" fill-rule=\"evenodd\" fill-opacity=\"1\" stroke=\"#000000\" stroke-opacity=\"1\" stroke-width=\"2\"/>\n",
       "<circle clip-path=\"url(#clip052)\" cx=\"1774.26\" cy=\"849.7\" r=\"14\" fill=\"#009af9\" fill-rule=\"evenodd\" fill-opacity=\"1\" stroke=\"#000000\" stroke-opacity=\"1\" stroke-width=\"2\"/>\n",
       "<circle clip-path=\"url(#clip052)\" cx=\"919.871\" cy=\"738.087\" r=\"14\" fill=\"#009af9\" fill-rule=\"evenodd\" fill-opacity=\"1\" stroke=\"#000000\" stroke-opacity=\"1\" stroke-width=\"2\"/>\n",
       "<circle clip-path=\"url(#clip052)\" cx=\"1773.4\" cy=\"849.7\" r=\"14\" fill=\"#009af9\" fill-rule=\"evenodd\" fill-opacity=\"1\" stroke=\"#000000\" stroke-opacity=\"1\" stroke-width=\"2\"/>\n",
       "<circle clip-path=\"url(#clip052)\" cx=\"1772.53\" cy=\"849.7\" r=\"14\" fill=\"#009af9\" fill-rule=\"evenodd\" fill-opacity=\"1\" stroke=\"#000000\" stroke-opacity=\"1\" stroke-width=\"2\"/>\n",
       "<circle clip-path=\"url(#clip052)\" cx=\"896.555\" cy=\"652.006\" r=\"14\" fill=\"#009af9\" fill-rule=\"evenodd\" fill-opacity=\"1\" stroke=\"#000000\" stroke-opacity=\"1\" stroke-width=\"2\"/>\n",
       "<circle clip-path=\"url(#clip052)\" cx=\"1773.81\" cy=\"849.7\" r=\"14\" fill=\"#009af9\" fill-rule=\"evenodd\" fill-opacity=\"1\" stroke=\"#000000\" stroke-opacity=\"1\" stroke-width=\"2\"/>\n",
       "<circle clip-path=\"url(#clip052)\" cx=\"1773.48\" cy=\"849.7\" r=\"14\" fill=\"#009af9\" fill-rule=\"evenodd\" fill-opacity=\"1\" stroke=\"#000000\" stroke-opacity=\"1\" stroke-width=\"2\"/>\n",
       "<circle clip-path=\"url(#clip052)\" cx=\"614.096\" cy=\"286.737\" r=\"14\" fill=\"#009af9\" fill-rule=\"evenodd\" fill-opacity=\"1\" stroke=\"#000000\" stroke-opacity=\"1\" stroke-width=\"2\"/>\n",
       "<circle clip-path=\"url(#clip052)\" cx=\"893.764\" cy=\"652.006\" r=\"14\" fill=\"#009af9\" fill-rule=\"evenodd\" fill-opacity=\"1\" stroke=\"#000000\" stroke-opacity=\"1\" stroke-width=\"2\"/>\n",
       "<circle clip-path=\"url(#clip052)\" cx=\"1772.79\" cy=\"779.28\" r=\"14\" fill=\"#009af9\" fill-rule=\"evenodd\" fill-opacity=\"1\" stroke=\"#000000\" stroke-opacity=\"1\" stroke-width=\"2\"/>\n",
       "<circle clip-path=\"url(#clip052)\" cx=\"866.447\" cy=\"667.667\" r=\"14\" fill=\"#009af9\" fill-rule=\"evenodd\" fill-opacity=\"1\" stroke=\"#000000\" stroke-opacity=\"1\" stroke-width=\"2\"/>\n",
       "<circle clip-path=\"url(#clip052)\" cx=\"1772.77\" cy=\"849.7\" r=\"14\" fill=\"#009af9\" fill-rule=\"evenodd\" fill-opacity=\"1\" stroke=\"#000000\" stroke-opacity=\"1\" stroke-width=\"2\"/>\n",
       "<circle clip-path=\"url(#clip052)\" cx=\"1774.12\" cy=\"779.28\" r=\"14\" fill=\"#009af9\" fill-rule=\"evenodd\" fill-opacity=\"1\" stroke=\"#000000\" stroke-opacity=\"1\" stroke-width=\"2\"/>\n",
       "<circle clip-path=\"url(#clip052)\" cx=\"1772.95\" cy=\"779.28\" r=\"14\" fill=\"#009af9\" fill-rule=\"evenodd\" fill-opacity=\"1\" stroke=\"#000000\" stroke-opacity=\"1\" stroke-width=\"2\"/>\n",
       "<circle clip-path=\"url(#clip052)\" cx=\"1773.99\" cy=\"849.7\" r=\"14\" fill=\"#009af9\" fill-rule=\"evenodd\" fill-opacity=\"1\" stroke=\"#000000\" stroke-opacity=\"1\" stroke-width=\"2\"/>\n",
       "<circle clip-path=\"url(#clip052)\" cx=\"890.928\" cy=\"667.667\" r=\"14\" fill=\"#009af9\" fill-rule=\"evenodd\" fill-opacity=\"1\" stroke=\"#000000\" stroke-opacity=\"1\" stroke-width=\"2\"/>\n",
       "<circle clip-path=\"url(#clip052)\" cx=\"1772.85\" cy=\"738.087\" r=\"14\" fill=\"#009af9\" fill-rule=\"evenodd\" fill-opacity=\"1\" stroke=\"#000000\" stroke-opacity=\"1\" stroke-width=\"2\"/>\n",
       "<circle clip-path=\"url(#clip052)\" cx=\"958.928\" cy=\"849.7\" r=\"14\" fill=\"#009af9\" fill-rule=\"evenodd\" fill-opacity=\"1\" stroke=\"#000000\" stroke-opacity=\"1\" stroke-width=\"2\"/>\n",
       "<circle clip-path=\"url(#clip052)\" cx=\"879.11\" cy=\"574.576\" r=\"14\" fill=\"#009af9\" fill-rule=\"evenodd\" fill-opacity=\"1\" stroke=\"#000000\" stroke-opacity=\"1\" stroke-width=\"2\"/>\n",
       "<circle clip-path=\"url(#clip052)\" cx=\"859.759\" cy=\"597.246\" r=\"14\" fill=\"#009af9\" fill-rule=\"evenodd\" fill-opacity=\"1\" stroke=\"#000000\" stroke-opacity=\"1\" stroke-width=\"2\"/>\n",
       "<circle clip-path=\"url(#clip052)\" cx=\"599.912\" cy=\"278.697\" r=\"14\" fill=\"#009af9\" fill-rule=\"evenodd\" fill-opacity=\"1\" stroke=\"#000000\" stroke-opacity=\"1\" stroke-width=\"2\"/>\n",
       "<circle clip-path=\"url(#clip052)\" cx=\"750.06\" cy=\"444.44\" r=\"14\" fill=\"#009af9\" fill-rule=\"evenodd\" fill-opacity=\"1\" stroke=\"#000000\" stroke-opacity=\"1\" stroke-width=\"2\"/>\n",
       "<circle clip-path=\"url(#clip052)\" cx=\"1772.83\" cy=\"849.7\" r=\"14\" fill=\"#009af9\" fill-rule=\"evenodd\" fill-opacity=\"1\" stroke=\"#000000\" stroke-opacity=\"1\" stroke-width=\"2\"/>\n",
       "<circle clip-path=\"url(#clip052)\" cx=\"924.661\" cy=\"779.28\" r=\"14\" fill=\"#009af9\" fill-rule=\"evenodd\" fill-opacity=\"1\" stroke=\"#000000\" stroke-opacity=\"1\" stroke-width=\"2\"/>\n",
       "<circle clip-path=\"url(#clip052)\" cx=\"715.201\" cy=\"438.947\" r=\"14\" fill=\"#009af9\" fill-rule=\"evenodd\" fill-opacity=\"1\" stroke=\"#000000\" stroke-opacity=\"1\" stroke-width=\"2\"/>\n",
       "<circle clip-path=\"url(#clip052)\" cx=\"960.865\" cy=\"849.7\" r=\"14\" fill=\"#009af9\" fill-rule=\"evenodd\" fill-opacity=\"1\" stroke=\"#000000\" stroke-opacity=\"1\" stroke-width=\"2\"/>\n",
       "<circle clip-path=\"url(#clip052)\" cx=\"817.642\" cy=\"626.473\" r=\"14\" fill=\"#009af9\" fill-rule=\"evenodd\" fill-opacity=\"1\" stroke=\"#000000\" stroke-opacity=\"1\" stroke-width=\"2\"/>\n",
       "<circle clip-path=\"url(#clip052)\" cx=\"826.082\" cy=\"606.086\" r=\"14\" fill=\"#009af9\" fill-rule=\"evenodd\" fill-opacity=\"1\" stroke=\"#000000\" stroke-opacity=\"1\" stroke-width=\"2\"/>\n",
       "<circle clip-path=\"url(#clip052)\" cx=\"584.493\" cy=\"241.253\" r=\"14\" fill=\"#009af9\" fill-rule=\"evenodd\" fill-opacity=\"1\" stroke=\"#000000\" stroke-opacity=\"1\" stroke-width=\"2\"/>\n",
       "<circle clip-path=\"url(#clip052)\" cx=\"794.595\" cy=\"531.15\" r=\"14\" fill=\"#009af9\" fill-rule=\"evenodd\" fill-opacity=\"1\" stroke=\"#000000\" stroke-opacity=\"1\" stroke-width=\"2\"/>\n",
       "<circle clip-path=\"url(#clip052)\" cx=\"907.298\" cy=\"708.86\" r=\"14\" fill=\"#009af9\" fill-rule=\"evenodd\" fill-opacity=\"1\" stroke=\"#000000\" stroke-opacity=\"1\" stroke-width=\"2\"/>\n",
       "<circle clip-path=\"url(#clip052)\" cx=\"909.885\" cy=\"667.667\" r=\"14\" fill=\"#009af9\" fill-rule=\"evenodd\" fill-opacity=\"1\" stroke=\"#000000\" stroke-opacity=\"1\" stroke-width=\"2\"/>\n",
       "<circle clip-path=\"url(#clip052)\" cx=\"1774.18\" cy=\"779.28\" r=\"14\" fill=\"#009af9\" fill-rule=\"evenodd\" fill-opacity=\"1\" stroke=\"#000000\" stroke-opacity=\"1\" stroke-width=\"2\"/>\n",
       "<circle clip-path=\"url(#clip052)\" cx=\"940.473\" cy=\"626.473\" r=\"14\" fill=\"#009af9\" fill-rule=\"evenodd\" fill-opacity=\"1\" stroke=\"#000000\" stroke-opacity=\"1\" stroke-width=\"2\"/>\n",
       "<circle clip-path=\"url(#clip052)\" cx=\"1773.56\" cy=\"849.7\" r=\"14\" fill=\"#009af9\" fill-rule=\"evenodd\" fill-opacity=\"1\" stroke=\"#000000\" stroke-opacity=\"1\" stroke-width=\"2\"/>\n",
       "<circle clip-path=\"url(#clip052)\" cx=\"946.841\" cy=\"849.7\" r=\"14\" fill=\"#009af9\" fill-rule=\"evenodd\" fill-opacity=\"1\" stroke=\"#000000\" stroke-opacity=\"1\" stroke-width=\"2\"/>\n",
       "<circle clip-path=\"url(#clip052)\" cx=\"1773.1\" cy=\"849.7\" r=\"14\" fill=\"#009af9\" fill-rule=\"evenodd\" fill-opacity=\"1\" stroke=\"#000000\" stroke-opacity=\"1\" stroke-width=\"2\"/>\n",
       "<circle clip-path=\"url(#clip052)\" cx=\"1773.65\" cy=\"849.7\" r=\"14\" fill=\"#009af9\" fill-rule=\"evenodd\" fill-opacity=\"1\" stroke=\"#000000\" stroke-opacity=\"1\" stroke-width=\"2\"/>\n",
       "<circle clip-path=\"url(#clip052)\" cx=\"1773.04\" cy=\"779.28\" r=\"14\" fill=\"#009af9\" fill-rule=\"evenodd\" fill-opacity=\"1\" stroke=\"#000000\" stroke-opacity=\"1\" stroke-width=\"2\"/>\n",
       "<circle clip-path=\"url(#clip052)\" cx=\"808.779\" cy=\"568.019\" r=\"14\" fill=\"#009af9\" fill-rule=\"evenodd\" fill-opacity=\"1\" stroke=\"#000000\" stroke-opacity=\"1\" stroke-width=\"2\"/>\n",
       "<circle clip-path=\"url(#clip052)\" cx=\"1774.32\" cy=\"849.7\" r=\"14\" fill=\"#009af9\" fill-rule=\"evenodd\" fill-opacity=\"1\" stroke=\"#000000\" stroke-opacity=\"1\" stroke-width=\"2\"/>\n",
       "<circle clip-path=\"url(#clip052)\" cx=\"944.744\" cy=\"849.7\" r=\"14\" fill=\"#009af9\" fill-rule=\"evenodd\" fill-opacity=\"1\" stroke=\"#000000\" stroke-opacity=\"1\" stroke-width=\"2\"/>\n",
       "<circle clip-path=\"url(#clip052)\" cx=\"504.397\" cy=\"227.464\" r=\"14\" fill=\"#009af9\" fill-rule=\"evenodd\" fill-opacity=\"1\" stroke=\"#000000\" stroke-opacity=\"1\" stroke-width=\"2\"/>\n",
       "<circle clip-path=\"url(#clip052)\" cx=\"729.977\" cy=\"467.582\" r=\"14\" fill=\"#009af9\" fill-rule=\"evenodd\" fill-opacity=\"1\" stroke=\"#000000\" stroke-opacity=\"1\" stroke-width=\"2\"/>\n",
       "<circle clip-path=\"url(#clip052)\" cx=\"1773.93\" cy=\"849.7\" r=\"14\" fill=\"#009af9\" fill-rule=\"evenodd\" fill-opacity=\"1\" stroke=\"#000000\" stroke-opacity=\"1\" stroke-width=\"2\"/>\n",
       "<circle clip-path=\"url(#clip052)\" cx=\"914.948\" cy=\"849.7\" r=\"14\" fill=\"#009af9\" fill-rule=\"evenodd\" fill-opacity=\"1\" stroke=\"#000000\" stroke-opacity=\"1\" stroke-width=\"2\"/>\n",
       "<circle clip-path=\"url(#clip052)\" cx=\"1772.65\" cy=\"849.7\" r=\"14\" fill=\"#009af9\" fill-rule=\"evenodd\" fill-opacity=\"1\" stroke=\"#000000\" stroke-opacity=\"1\" stroke-width=\"2\"/>\n",
       "<circle clip-path=\"url(#clip052)\" cx=\"902.008\" cy=\"738.087\" r=\"14\" fill=\"#009af9\" fill-rule=\"evenodd\" fill-opacity=\"1\" stroke=\"#000000\" stroke-opacity=\"1\" stroke-width=\"2\"/>\n",
       "<circle clip-path=\"url(#clip052)\" cx=\"927.008\" cy=\"667.667\" r=\"14\" fill=\"#009af9\" fill-rule=\"evenodd\" fill-opacity=\"1\" stroke=\"#000000\" stroke-opacity=\"1\" stroke-width=\"2\"/>\n",
       "<circle clip-path=\"url(#clip052)\" cx=\"784.466\" cy=\"497.599\" r=\"14\" fill=\"#009af9\" fill-rule=\"evenodd\" fill-opacity=\"1\" stroke=\"#000000\" stroke-opacity=\"1\" stroke-width=\"2\"/>\n",
       "<circle clip-path=\"url(#clip052)\" cx=\"852.809\" cy=\"638.44\" r=\"14\" fill=\"#009af9\" fill-rule=\"evenodd\" fill-opacity=\"1\" stroke=\"#000000\" stroke-opacity=\"1\" stroke-width=\"2\"/>\n",
       "<circle clip-path=\"url(#clip052)\" cx=\"882.139\" cy=\"597.246\" r=\"14\" fill=\"#009af9\" fill-rule=\"evenodd\" fill-opacity=\"1\" stroke=\"#000000\" stroke-opacity=\"1\" stroke-width=\"2\"/>\n",
       "<circle clip-path=\"url(#clip052)\" cx=\"1773.2\" cy=\"849.7\" r=\"14\" fill=\"#009af9\" fill-rule=\"evenodd\" fill-opacity=\"1\" stroke=\"#000000\" stroke-opacity=\"1\" stroke-width=\"2\"/>\n",
       "<circle clip-path=\"url(#clip052)\" cx=\"1773.46\" cy=\"779.28\" r=\"14\" fill=\"#009af9\" fill-rule=\"evenodd\" fill-opacity=\"1\" stroke=\"#000000\" stroke-opacity=\"1\" stroke-width=\"2\"/>\n",
       "<circle clip-path=\"url(#clip052)\" cx=\"567.603\" cy=\"216.916\" r=\"14\" fill=\"#009af9\" fill-rule=\"evenodd\" fill-opacity=\"1\" stroke=\"#000000\" stroke-opacity=\"1\" stroke-width=\"2\"/>\n",
       "<circle clip-path=\"url(#clip052)\" cx=\"671.764\" cy=\"364.166\" r=\"14\" fill=\"#009af9\" fill-rule=\"evenodd\" fill-opacity=\"1\" stroke=\"#000000\" stroke-opacity=\"1\" stroke-width=\"2\"/>\n",
       "<circle clip-path=\"url(#clip052)\" cx=\"743.615\" cy=\"474.929\" r=\"14\" fill=\"#009af9\" fill-rule=\"evenodd\" fill-opacity=\"1\" stroke=\"#000000\" stroke-opacity=\"1\" stroke-width=\"2\"/>\n",
       "<circle clip-path=\"url(#clip052)\" cx=\"736.928\" cy=\"511.165\" r=\"14\" fill=\"#009af9\" fill-rule=\"evenodd\" fill-opacity=\"1\" stroke=\"#000000\" stroke-opacity=\"1\" stroke-width=\"2\"/>\n",
       "<circle clip-path=\"url(#clip052)\" cx=\"1773.26\" cy=\"849.7\" r=\"14\" fill=\"#009af9\" fill-rule=\"evenodd\" fill-opacity=\"1\" stroke=\"#000000\" stroke-opacity=\"1\" stroke-width=\"2\"/>\n",
       "<circle clip-path=\"url(#clip052)\" cx=\"821.912\" cy=\"568.019\" r=\"14\" fill=\"#009af9\" fill-rule=\"evenodd\" fill-opacity=\"1\" stroke=\"#000000\" stroke-opacity=\"1\" stroke-width=\"2\"/>\n",
       "<circle clip-path=\"url(#clip052)\" cx=\"1772.35\" cy=\"849.7\" r=\"14\" fill=\"#009af9\" fill-rule=\"evenodd\" fill-opacity=\"1\" stroke=\"#000000\" stroke-opacity=\"1\" stroke-width=\"2\"/>\n",
       "<circle clip-path=\"url(#clip052)\" cx=\"1774.75\" cy=\"849.7\" r=\"14\" fill=\"#009af9\" fill-rule=\"evenodd\" fill-opacity=\"1\" stroke=\"#000000\" stroke-opacity=\"1\" stroke-width=\"2\"/>\n",
       "<circle clip-path=\"url(#clip052)\" cx=\"1773.44\" cy=\"849.7\" r=\"14\" fill=\"#009af9\" fill-rule=\"evenodd\" fill-opacity=\"1\" stroke=\"#000000\" stroke-opacity=\"1\" stroke-width=\"2\"/>\n",
       "<circle clip-path=\"url(#clip052)\" cx=\"1772.91\" cy=\"849.7\" r=\"14\" fill=\"#009af9\" fill-rule=\"evenodd\" fill-opacity=\"1\" stroke=\"#000000\" stroke-opacity=\"1\" stroke-width=\"2\"/>\n",
       "<circle clip-path=\"url(#clip052)\" cx=\"933.868\" cy=\"738.087\" r=\"14\" fill=\"#009af9\" fill-rule=\"evenodd\" fill-opacity=\"1\" stroke=\"#000000\" stroke-opacity=\"1\" stroke-width=\"2\"/>\n",
       "<circle clip-path=\"url(#clip052)\" cx=\"650.891\" cy=\"345.501\" r=\"14\" fill=\"#009af9\" fill-rule=\"evenodd\" fill-opacity=\"1\" stroke=\"#000000\" stroke-opacity=\"1\" stroke-width=\"2\"/>\n",
       "<circle clip-path=\"url(#clip052)\" cx=\"690.434\" cy=\"432.057\" r=\"14\" fill=\"#009af9\" fill-rule=\"evenodd\" fill-opacity=\"1\" stroke=\"#000000\" stroke-opacity=\"1\" stroke-width=\"2\"/>\n",
       "<circle clip-path=\"url(#clip052)\" cx=\"938.299\" cy=\"779.28\" r=\"14\" fill=\"#009af9\" fill-rule=\"evenodd\" fill-opacity=\"1\" stroke=\"#000000\" stroke-opacity=\"1\" stroke-width=\"2\"/>\n",
       "<circle clip-path=\"url(#clip052)\" cx=\"1773.28\" cy=\"849.7\" r=\"14\" fill=\"#009af9\" fill-rule=\"evenodd\" fill-opacity=\"1\" stroke=\"#000000\" stroke-opacity=\"1\" stroke-width=\"2\"/>\n",
       "<circle clip-path=\"url(#clip052)\" cx=\"1772.59\" cy=\"708.86\" r=\"14\" fill=\"#009af9\" fill-rule=\"evenodd\" fill-opacity=\"1\" stroke=\"#000000\" stroke-opacity=\"1\" stroke-width=\"2\"/>\n",
       "<circle clip-path=\"url(#clip052)\" cx=\"681.345\" cy=\"402\" r=\"14\" fill=\"#009af9\" fill-rule=\"evenodd\" fill-opacity=\"1\" stroke=\"#000000\" stroke-opacity=\"1\" stroke-width=\"2\"/>\n",
       "<circle clip-path=\"url(#clip052)\" cx=\"849.229\" cy=\"686.189\" r=\"14\" fill=\"#009af9\" fill-rule=\"evenodd\" fill-opacity=\"1\" stroke=\"#000000\" stroke-opacity=\"1\" stroke-width=\"2\"/>\n",
       "<circle clip-path=\"url(#clip052)\" cx=\"830.156\" cy=\"581.586\" r=\"14\" fill=\"#009af9\" fill-rule=\"evenodd\" fill-opacity=\"1\" stroke=\"#000000\" stroke-opacity=\"1\" stroke-width=\"2\"/>\n",
       "<circle clip-path=\"url(#clip052)\" cx=\"1774.05\" cy=\"849.7\" r=\"14\" fill=\"#009af9\" fill-rule=\"evenodd\" fill-opacity=\"1\" stroke=\"#000000\" stroke-opacity=\"1\" stroke-width=\"2\"/>\n",
       "<circle clip-path=\"url(#clip052)\" cx=\"548.932\" cy=\"221.423\" r=\"14\" fill=\"#009af9\" fill-rule=\"evenodd\" fill-opacity=\"1\" stroke=\"#000000\" stroke-opacity=\"1\" stroke-width=\"2\"/>\n",
       "<circle clip-path=\"url(#clip052)\" cx=\"768.097\" cy=\"497.599\" r=\"14\" fill=\"#009af9\" fill-rule=\"evenodd\" fill-opacity=\"1\" stroke=\"#000000\" stroke-opacity=\"1\" stroke-width=\"2\"/>\n",
       "<circle clip-path=\"url(#clip052)\" cx=\"1774.71\" cy=\"779.28\" r=\"14\" fill=\"#009af9\" fill-rule=\"evenodd\" fill-opacity=\"1\" stroke=\"#000000\" stroke-opacity=\"1\" stroke-width=\"2\"/>\n",
       "<circle clip-path=\"url(#clip052)\" cx=\"1773.95\" cy=\"849.7\" r=\"14\" fill=\"#009af9\" fill-rule=\"evenodd\" fill-opacity=\"1\" stroke=\"#000000\" stroke-opacity=\"1\" stroke-width=\"2\"/>\n",
       "<circle clip-path=\"url(#clip052)\" cx=\"1774.14\" cy=\"849.7\" r=\"14\" fill=\"#009af9\" fill-rule=\"evenodd\" fill-opacity=\"1\" stroke=\"#000000\" stroke-opacity=\"1\" stroke-width=\"2\"/>\n",
       "<circle clip-path=\"url(#clip052)\" cx=\"1773.73\" cy=\"849.7\" r=\"14\" fill=\"#009af9\" fill-rule=\"evenodd\" fill-opacity=\"1\" stroke=\"#000000\" stroke-opacity=\"1\" stroke-width=\"2\"/>\n",
       "<circle clip-path=\"url(#clip052)\" cx=\"888.047\" cy=\"686.189\" r=\"14\" fill=\"#009af9\" fill-rule=\"evenodd\" fill-opacity=\"1\" stroke=\"#000000\" stroke-opacity=\"1\" stroke-width=\"2\"/>\n",
       "<circle clip-path=\"url(#clip052)\" cx=\"756.279\" cy=\"444.44\" r=\"14\" fill=\"#009af9\" fill-rule=\"evenodd\" fill-opacity=\"1\" stroke=\"#000000\" stroke-opacity=\"1\" stroke-width=\"2\"/>\n",
       "<circle clip-path=\"url(#clip052)\" cx=\"964.676\" cy=\"849.7\" r=\"14\" fill=\"#009af9\" fill-rule=\"evenodd\" fill-opacity=\"1\" stroke=\"#000000\" stroke-opacity=\"1\" stroke-width=\"2\"/>\n",
       "<circle clip-path=\"url(#clip052)\" cx=\"1774.07\" cy=\"779.28\" r=\"14\" fill=\"#009af9\" fill-rule=\"evenodd\" fill-opacity=\"1\" stroke=\"#000000\" stroke-opacity=\"1\" stroke-width=\"2\"/>\n",
       "<circle clip-path=\"url(#clip052)\" cx=\"838.033\" cy=\"686.189\" r=\"14\" fill=\"#009af9\" fill-rule=\"evenodd\" fill-opacity=\"1\" stroke=\"#000000\" stroke-opacity=\"1\" stroke-width=\"2\"/>\n",
       "<circle clip-path=\"url(#clip052)\" cx=\"1775.31\" cy=\"849.7\" r=\"14\" fill=\"#009af9\" fill-rule=\"evenodd\" fill-opacity=\"1\" stroke=\"#000000\" stroke-opacity=\"1\" stroke-width=\"2\"/>\n",
       "<circle clip-path=\"url(#clip052)\" cx=\"876.028\" cy=\"581.586\" r=\"14\" fill=\"#009af9\" fill-rule=\"evenodd\" fill-opacity=\"1\" stroke=\"#000000\" stroke-opacity=\"1\" stroke-width=\"2\"/>\n",
       "<circle clip-path=\"url(#clip052)\" cx=\"979.15\" cy=\"849.7\" r=\"14\" fill=\"#009af9\" fill-rule=\"evenodd\" fill-opacity=\"1\" stroke=\"#000000\" stroke-opacity=\"1\" stroke-width=\"2\"/>\n",
       "<circle clip-path=\"url(#clip052)\" cx=\"1773.77\" cy=\"849.7\" r=\"14\" fill=\"#009af9\" fill-rule=\"evenodd\" fill-opacity=\"1\" stroke=\"#000000\" stroke-opacity=\"1\" stroke-width=\"2\"/>\n",
       "<circle clip-path=\"url(#clip052)\" cx=\"912.435\" cy=\"652.006\" r=\"14\" fill=\"#009af9\" fill-rule=\"evenodd\" fill-opacity=\"1\" stroke=\"#000000\" stroke-opacity=\"1\" stroke-width=\"2\"/>\n",
       "<circle clip-path=\"url(#clip052)\" cx=\"1773.22\" cy=\"849.7\" r=\"14\" fill=\"#009af9\" fill-rule=\"evenodd\" fill-opacity=\"1\" stroke=\"#000000\" stroke-opacity=\"1\" stroke-width=\"2\"/>\n",
       "<circle clip-path=\"url(#clip052)\" cx=\"1774.16\" cy=\"779.28\" r=\"14\" fill=\"#009af9\" fill-rule=\"evenodd\" fill-opacity=\"1\" stroke=\"#000000\" stroke-opacity=\"1\" stroke-width=\"2\"/>\n",
       "<circle clip-path=\"url(#clip052)\" cx=\"699.08\" cy=\"422.525\" r=\"14\" fill=\"#009af9\" fill-rule=\"evenodd\" fill-opacity=\"1\" stroke=\"#000000\" stroke-opacity=\"1\" stroke-width=\"2\"/>\n",
       "<circle clip-path=\"url(#clip052)\" cx=\"1773.3\" cy=\"849.7\" r=\"14\" fill=\"#009af9\" fill-rule=\"evenodd\" fill-opacity=\"1\" stroke=\"#000000\" stroke-opacity=\"1\" stroke-width=\"2\"/>\n",
       "<circle clip-path=\"url(#clip052)\" cx=\"804.176\" cy=\"556.053\" r=\"14\" fill=\"#009af9\" fill-rule=\"evenodd\" fill-opacity=\"1\" stroke=\"#000000\" stroke-opacity=\"1\" stroke-width=\"2\"/>\n",
       "<circle clip-path=\"url(#clip052)\" cx=\"1773.97\" cy=\"849.7\" r=\"14\" fill=\"#009af9\" fill-rule=\"evenodd\" fill-opacity=\"1\" stroke=\"#000000\" stroke-opacity=\"1\" stroke-width=\"2\"/>\n",
       "<circle clip-path=\"url(#clip052)\" cx=\"1774.54\" cy=\"849.7\" r=\"14\" fill=\"#009af9\" fill-rule=\"evenodd\" fill-opacity=\"1\" stroke=\"#000000\" stroke-opacity=\"1\" stroke-width=\"2\"/>\n",
       "<circle clip-path=\"url(#clip052)\" cx=\"931.611\" cy=\"779.28\" r=\"14\" fill=\"#009af9\" fill-rule=\"evenodd\" fill-opacity=\"1\" stroke=\"#000000\" stroke-opacity=\"1\" stroke-width=\"2\"/>\n",
       "<circle clip-path=\"url(#clip052)\" cx=\"1773.12\" cy=\"849.7\" r=\"14\" fill=\"#009af9\" fill-rule=\"evenodd\" fill-opacity=\"1\" stroke=\"#000000\" stroke-opacity=\"1\" stroke-width=\"2\"/>\n",
       "<circle clip-path=\"url(#clip052)\" cx=\"1773.32\" cy=\"849.7\" r=\"14\" fill=\"#009af9\" fill-rule=\"evenodd\" fill-opacity=\"1\" stroke=\"#000000\" stroke-opacity=\"1\" stroke-width=\"2\"/>\n",
       "<circle clip-path=\"url(#clip052)\" cx=\"1772.02\" cy=\"849.7\" r=\"14\" fill=\"#009af9\" fill-rule=\"evenodd\" fill-opacity=\"1\" stroke=\"#000000\" stroke-opacity=\"1\" stroke-width=\"2\"/>\n",
       "<circle clip-path=\"url(#clip052)\" cx=\"917.427\" cy=\"708.86\" r=\"14\" fill=\"#009af9\" fill-rule=\"evenodd\" fill-opacity=\"1\" stroke=\"#000000\" stroke-opacity=\"1\" stroke-width=\"2\"/>\n",
       "<circle clip-path=\"url(#clip052)\" cx=\"1774.48\" cy=\"779.28\" r=\"14\" fill=\"#009af9\" fill-rule=\"evenodd\" fill-opacity=\"1\" stroke=\"#000000\" stroke-opacity=\"1\" stroke-width=\"2\"/>\n",
       "<circle clip-path=\"url(#clip052)\" cx=\"722.743\" cy=\"440.745\" r=\"14\" fill=\"#009af9\" fill-rule=\"evenodd\" fill-opacity=\"1\" stroke=\"#000000\" stroke-opacity=\"1\" stroke-width=\"2\"/>\n",
       "<circle clip-path=\"url(#clip052)\" cx=\"528.06\" cy=\"209.947\" r=\"14\" fill=\"#009af9\" fill-rule=\"evenodd\" fill-opacity=\"1\" stroke=\"#000000\" stroke-opacity=\"1\" stroke-width=\"2\"/>\n",
       "<circle clip-path=\"url(#clip052)\" cx=\"661.635\" cy=\"403.247\" r=\"14\" fill=\"#009af9\" fill-rule=\"evenodd\" fill-opacity=\"1\" stroke=\"#000000\" stroke-opacity=\"1\" stroke-width=\"2\"/>\n",
       "<circle clip-path=\"url(#clip052)\" cx=\"799.45\" cy=\"589.115\" r=\"14\" fill=\"#009af9\" fill-rule=\"evenodd\" fill-opacity=\"1\" stroke=\"#000000\" stroke-opacity=\"1\" stroke-width=\"2\"/>\n",
       "<circle clip-path=\"url(#clip052)\" cx=\"863.135\" cy=\"597.246\" r=\"14\" fill=\"#009af9\" fill-rule=\"evenodd\" fill-opacity=\"1\" stroke=\"#000000\" stroke-opacity=\"1\" stroke-width=\"2\"/>\n",
       "<circle clip-path=\"url(#clip052)\" cx=\"707.324\" cy=\"456.406\" r=\"14\" fill=\"#009af9\" fill-rule=\"evenodd\" fill-opacity=\"1\" stroke=\"#000000\" stroke-opacity=\"1\" stroke-width=\"2\"/>\n",
       "<circle clip-path=\"url(#clip052)\" cx=\"841.844\" cy=\"568.019\" r=\"14\" fill=\"#009af9\" fill-rule=\"evenodd\" fill-opacity=\"1\" stroke=\"#000000\" stroke-opacity=\"1\" stroke-width=\"2\"/>\n",
       "<circle clip-path=\"url(#clip052)\" cx=\"942.621\" cy=\"667.667\" r=\"14\" fill=\"#009af9\" fill-rule=\"evenodd\" fill-opacity=\"1\" stroke=\"#000000\" stroke-opacity=\"1\" stroke-width=\"2\"/>\n",
       "<circle clip-path=\"url(#clip052)\" cx=\"1774.52\" cy=\"849.7\" r=\"14\" fill=\"#009af9\" fill-rule=\"evenodd\" fill-opacity=\"1\" stroke=\"#000000\" stroke-opacity=\"1\" stroke-width=\"2\"/>\n",
       "<circle clip-path=\"url(#clip052)\" cx=\"1773.69\" cy=\"849.7\" r=\"14\" fill=\"#009af9\" fill-rule=\"evenodd\" fill-opacity=\"1\" stroke=\"#000000\" stroke-opacity=\"1\" stroke-width=\"2\"/>\n",
       "<circle clip-path=\"url(#clip052)\" cx=\"1774.01\" cy=\"849.7\" r=\"14\" fill=\"#009af9\" fill-rule=\"evenodd\" fill-opacity=\"1\" stroke=\"#000000\" stroke-opacity=\"1\" stroke-width=\"2\"/>\n",
       "<circle clip-path=\"url(#clip052)\" cx=\"1774.2\" cy=\"849.7\" r=\"14\" fill=\"#009af9\" fill-rule=\"evenodd\" fill-opacity=\"1\" stroke=\"#000000\" stroke-opacity=\"1\" stroke-width=\"2\"/>\n",
       "<circle clip-path=\"url(#clip052)\" cx=\"1773.61\" cy=\"738.087\" r=\"14\" fill=\"#009af9\" fill-rule=\"evenodd\" fill-opacity=\"1\" stroke=\"#000000\" stroke-opacity=\"1\" stroke-width=\"2\"/>\n",
       "<circle clip-path=\"url(#clip052)\" cx=\"1775.55\" cy=\"849.7\" r=\"14\" fill=\"#009af9\" fill-rule=\"evenodd\" fill-opacity=\"1\" stroke=\"#000000\" stroke-opacity=\"1\" stroke-width=\"2\"/>\n",
       "<circle clip-path=\"url(#clip052)\" cx=\"1772.08\" cy=\"849.7\" r=\"14\" fill=\"#009af9\" fill-rule=\"evenodd\" fill-opacity=\"1\" stroke=\"#000000\" stroke-opacity=\"1\" stroke-width=\"2\"/>\n",
       "<circle clip-path=\"url(#clip052)\" cx=\"954.99\" cy=\"849.7\" r=\"14\" fill=\"#009af9\" fill-rule=\"evenodd\" fill-opacity=\"1\" stroke=\"#000000\" stroke-opacity=\"1\" stroke-width=\"2\"/>\n",
       "<circle clip-path=\"url(#clip052)\" cx=\"627.229\" cy=\"317.705\" r=\"14\" fill=\"#009af9\" fill-rule=\"evenodd\" fill-opacity=\"1\" stroke=\"#000000\" stroke-opacity=\"1\" stroke-width=\"2\"/>\n",
       "<circle clip-path=\"url(#clip052)\" cx=\"1773.16\" cy=\"849.7\" r=\"14\" fill=\"#009af9\" fill-rule=\"evenodd\" fill-opacity=\"1\" stroke=\"#000000\" stroke-opacity=\"1\" stroke-width=\"2\"/>\n",
       "<circle clip-path=\"url(#clip052)\" cx=\"1772.61\" cy=\"849.7\" r=\"14\" fill=\"#009af9\" fill-rule=\"evenodd\" fill-opacity=\"1\" stroke=\"#000000\" stroke-opacity=\"1\" stroke-width=\"2\"/>\n",
       "<circle clip-path=\"url(#clip052)\" cx=\"936.098\" cy=\"849.7\" r=\"14\" fill=\"#009af9\" fill-rule=\"evenodd\" fill-opacity=\"1\" stroke=\"#000000\" stroke-opacity=\"1\" stroke-width=\"2\"/>\n",
       "<circle clip-path=\"url(#clip052)\" cx=\"968.406\" cy=\"849.7\" r=\"14\" fill=\"#009af9\" fill-rule=\"evenodd\" fill-opacity=\"1\" stroke=\"#000000\" stroke-opacity=\"1\" stroke-width=\"2\"/>\n",
       "<circle clip-path=\"url(#clip052)\" cx=\"1772.16\" cy=\"849.7\" r=\"14\" fill=\"#009af9\" fill-rule=\"evenodd\" fill-opacity=\"1\" stroke=\"#000000\" stroke-opacity=\"1\" stroke-width=\"2\"/>\n",
       "<circle clip-path=\"url(#clip052)\" cx=\"856.318\" cy=\"652.006\" r=\"14\" fill=\"#009af9\" fill-rule=\"evenodd\" fill-opacity=\"1\" stroke=\"#000000\" stroke-opacity=\"1\" stroke-width=\"2\"/>\n",
       "<circle clip-path=\"url(#clip052)\" cx=\"973.859\" cy=\"849.7\" r=\"14\" fill=\"#009af9\" fill-rule=\"evenodd\" fill-opacity=\"1\" stroke=\"#000000\" stroke-opacity=\"1\" stroke-width=\"2\"/>\n",
       "<circle clip-path=\"url(#clip052)\" cx=\"779.176\" cy=\"497.599\" r=\"14\" fill=\"#009af9\" fill-rule=\"evenodd\" fill-opacity=\"1\" stroke=\"#000000\" stroke-opacity=\"1\" stroke-width=\"2\"/>\n",
       "<circle clip-path=\"url(#clip052)\" cx=\"1772.47\" cy=\"849.7\" r=\"14\" fill=\"#009af9\" fill-rule=\"evenodd\" fill-opacity=\"1\" stroke=\"#000000\" stroke-opacity=\"1\" stroke-width=\"2\"/>\n",
       "<circle clip-path=\"url(#clip052)\" cx=\"813.266\" cy=\"597.246\" r=\"14\" fill=\"#009af9\" fill-rule=\"evenodd\" fill-opacity=\"1\" stroke=\"#000000\" stroke-opacity=\"1\" stroke-width=\"2\"/>\n",
       "<circle clip-path=\"url(#clip052)\" cx=\"845.575\" cy=\"667.667\" r=\"14\" fill=\"#009af9\" fill-rule=\"evenodd\" fill-opacity=\"1\" stroke=\"#000000\" stroke-opacity=\"1\" stroke-width=\"2\"/>\n",
       "<circle clip-path=\"url(#clip052)\" cx=\"1771.8\" cy=\"849.7\" r=\"14\" fill=\"#009af9\" fill-rule=\"evenodd\" fill-opacity=\"1\" stroke=\"#000000\" stroke-opacity=\"1\" stroke-width=\"2\"/>\n",
       "<circle clip-path=\"url(#clip052)\" cx=\"899.302\" cy=\"652.006\" r=\"14\" fill=\"#009af9\" fill-rule=\"evenodd\" fill-opacity=\"1\" stroke=\"#000000\" stroke-opacity=\"1\" stroke-width=\"2\"/>\n",
       "<circle clip-path=\"url(#clip052)\" cx=\"639.455\" cy=\"318.792\" r=\"14\" fill=\"#009af9\" fill-rule=\"evenodd\" fill-opacity=\"1\" stroke=\"#000000\" stroke-opacity=\"1\" stroke-width=\"2\"/>\n",
       "<circle clip-path=\"url(#clip052)\" cx=\"1772.69\" cy=\"849.7\" r=\"14\" fill=\"#009af9\" fill-rule=\"evenodd\" fill-opacity=\"1\" stroke=\"#000000\" stroke-opacity=\"1\" stroke-width=\"2\"/>\n",
       "<circle clip-path=\"url(#clip052)\" cx=\"1773.06\" cy=\"779.28\" r=\"14\" fill=\"#009af9\" fill-rule=\"evenodd\" fill-opacity=\"1\" stroke=\"#000000\" stroke-opacity=\"1\" stroke-width=\"2\"/>\n",
       "<circle clip-path=\"url(#clip052)\" cx=\"970.243\" cy=\"849.7\" r=\"14\" fill=\"#009af9\" fill-rule=\"evenodd\" fill-opacity=\"1\" stroke=\"#000000\" stroke-opacity=\"1\" stroke-width=\"2\"/>\n",
       "<circle clip-path=\"url(#clip052)\" cx=\"1773.63\" cy=\"849.7\" r=\"14\" fill=\"#009af9\" fill-rule=\"evenodd\" fill-opacity=\"1\" stroke=\"#000000\" stroke-opacity=\"1\" stroke-width=\"2\"/>\n",
       "<circle clip-path=\"url(#clip052)\" cx=\"1773.79\" cy=\"779.28\" r=\"14\" fill=\"#009af9\" fill-rule=\"evenodd\" fill-opacity=\"1\" stroke=\"#000000\" stroke-opacity=\"1\" stroke-width=\"2\"/>\n",
       "<circle clip-path=\"url(#clip052)\" cx=\"1773.91\" cy=\"849.7\" r=\"14\" fill=\"#009af9\" fill-rule=\"evenodd\" fill-opacity=\"1\" stroke=\"#000000\" stroke-opacity=\"1\" stroke-width=\"2\"/>\n",
       "</svg>\n"
      ]
     },
     "execution_count": 24,
     "metadata": {},
     "output_type": "execute_result"
    }
   ],
   "source": [
    "kmer_counts = Dict(filtered_observation_graph.vprops[v][:kmer] => filtered_observation_graph.vprops[v][:weight] for v in Graphs.vertices(filtered_observation_graph))\n",
    "total_observed_kmers = sum(values(kmer_counts))\n",
    "kmer_probabilities = Dict(k => v/total_observed_kmers for (k,v) in kmer_counts)\n",
    "scale = 250\n",
    "Mycelia.plot_kmer_frequency_spectra(values(kmer_counts), size=(2scale,scale), title=\"kmer frequencies\")"
   ]
  },
  {
   "cell_type": "code",
   "execution_count": 25,
   "metadata": {},
   "outputs": [
    {
     "data": {
      "text/plain": [
       "0.9835796387520526"
      ]
     },
     "execution_count": 25,
     "metadata": {},
     "output_type": "execute_result"
    }
   ],
   "source": [
    "distance_to_reference_graph = 1 - LSHFunctions.jaccard(Set(reference_kmers), Set(keys(kmer_counts)))"
   ]
  },
  {
   "cell_type": "code",
   "execution_count": 26,
   "metadata": {},
   "outputs": [],
   "source": [
    "# step 2, re-simulate reads as a means of error correction"
   ]
  },
  {
   "cell_type": "code",
   "execution_count": 27,
   "metadata": {},
   "outputs": [
    {
     "data": {
      "text/plain": [
       "5481-element Vector{Float64}:\n",
       " 1.4518180670940969e-5\n",
       " 8.934265028271366e-6\n",
       " 1.1167831285339206e-5\n",
       " 4.4671325141356824e-5\n",
       " 8.934265028271366e-6\n",
       " 1.675174692800881e-5\n",
       " 1.0051048156805286e-5\n",
       " 1.5634963799474887e-5\n",
       " 3.462027698455154e-5\n",
       " 1.2284614413873126e-5\n",
       " 4.802167452695859e-5\n",
       " 1.2284614413873126e-5\n",
       " 2.4569228827746253e-5\n",
       " ⋮\n",
       " 1.3401397542407047e-5\n",
       " 1.1167831285339206e-5\n",
       " 2.010209631361057e-5\n",
       " 1.5634963799474887e-5\n",
       " 5.583915642669603e-6\n",
       " 2.121887944214449e-5\n",
       " 6.700698771203523e-6\n",
       " 6.812377084056916e-5\n",
       " 1.5634963799474887e-5\n",
       " 2.6802795084814093e-5\n",
       " 2.6802795084814093e-5\n",
       " 7.59412527403066e-5"
      ]
     },
     "execution_count": 27,
     "metadata": {},
     "output_type": "execute_result"
    }
   ],
   "source": [
    "kmers = [filtered_observation_graph.vprops[v][:kmer] for v in Graphs.vertices(filtered_observation_graph)]\n",
    "kmer_weights = [filtered_observation_graph.vprops[v][:weight] for v in Graphs.vertices(filtered_observation_graph)]\n",
    "kmer_probabilities = kmer_weights ./ sum(kmer_weights)"
   ]
  },
  {
   "cell_type": "code",
   "execution_count": 28,
   "metadata": {},
   "outputs": [
    {
     "data": {
      "text/plain": [
       "Dict{Bool, SparseArrays.SparseMatrixCSC{Float64, Int64}} with 2 entries:\n",
       "  0 => …\n",
       "  1 => …"
      ]
     },
     "execution_count": 28,
     "metadata": {},
     "output_type": "execute_result"
    }
   ],
   "source": [
    "edge_weights = determine_edge_weights(filtered_observation_graph)"
   ]
  },
  {
   "cell_type": "code",
   "execution_count": 29,
   "metadata": {},
   "outputs": [
    {
     "data": {
      "text/plain": [
       "5481×5481 SparseArrays.SparseMatrixCSC{Float64, Int64} with 6081 stored entries:\n",
       "⠉⠙⡒⢶⠦⠤⠤⠤⠤⣄⣀⠀⠀⠀⠀⠀⠀⠀⠀⠀⠀⠀⠀⠀⠀⠀⠀⠀⠀⠀⠀⠀⠀⠀⠀⠀⠀⠀⠀⠀\n",
       "⢠⣌⢊⢔⡆⡐⡲⠰⡈⢄⠈⠉⡋⠓⢲⠤⠤⣄⡀⠀⠀⠀⠀⠀⠀⠀⠀⠀⠀⠀⠀⠀⠀⠀⠀⠀⠀⠀⠀⠀\n",
       "⠈⠀⢈⠩⠋⠀⢋⠀⠀⠊⠀⠀⠁⡁⠁⠌⠀⢈⡝⢉⣳⣦⣄⡀⠀⠀⠀⠀⠀⠀⠀⠀⠀⠀⠀⠀⠀⠀⠀⠀\n",
       "⠀⠂⢘⡊⠋⠐⢐⠐⠰⡀⠀⠀⠐⡓⠒⠖⠁⠈⠇⣘⣹⠈⢟⠩⣏⣷⡶⢤⣤⣀⠀⠀⠀⠀⠀⠀⠀⠀⠀⠀\n",
       "⠀⠀⠂⢌⡠⠀⠐⠢⠐⡠⠐⢲⡗⣎⣧⢰⡇⠀⠀⠈⠁⠀⡀⠈⠁⢹⢊⡍⠠⠩⠙⠲⣄⠀⠀⠀⠀⠀⠀⠀\n",
       "⠀⠀⠄⠀⠀⠀⠀⠀⢰⣀⡀⢈⡓⢄⡆⢀⠄⠀⠀⠁⠠⠠⠹⢈⠄⣹⠷⠇⠬⠅⠄⠈⠂⠛⡲⣄⡀⠀⠀⠀\n",
       "⠀⠀⠨⠈⠅⠠⢴⠠⡹⢭⠙⢌⣯⡻⢭⣚⠅⠀⠀⠸⠁⠀⠐⠨⠧⡴⡜⠅⡺⠖⠀⠈⡏⢰⢓⠟⣿⣶⡀⠀\n",
       "⠀⠀⠀⠒⡁⠄⢸⠄⢉⣛⠈⢉⣣⢳⠫⡢⡇⠀⠀⠀⠰⡠⠒⡀⣃⡘⢖⡖⣒⠺⠂⠀⣯⣅⢸⣨⢿⡧⢳⣦\n",
       "⠓⠢⠤⠤⣄⣀⣁⡀⠉⠉⠀⠁⠁⠁⠉⠉⠀⠀⠀⠀⠀⠀⠁⠀⠉⠀⠀⠉⠈⠀⠀⠀⠈⠁⠈⠈⠈⠀⠈⠉\n",
       "⠀⠀⠀⠀⠐⢉⣉⢩⡙⠲⠤⣄⣀⣀⣀⠀⠀⠀⠀⠀⠀⠀⠀⠀⠀⠀⠀⠀⠀⠀⠀⠀⠀⠀⠀⠀⠀⠀⠀⠀\n",
       "⠀⠀⠀⠀⠈⢾⡓⠚⠁⠀⠀⡂⠁⠀⠘⡫⠉⠉⠳⢤⣀⣀⡀⠀⠀⠀⠀⠀⠀⠀⠀⠀⠀⠀⠀⠀⠀⠀⠀⠀\n",
       "⠀⠀⠀⠀⠀⠘⠛⡑⡀⠈⡓⢂⡐⡀⠘⠠⠁⠀⠀⠀⠀⠀⣿⠟⠝⣓⣦⢤⢤⣀⣀⡀⠀⠀⠀⠀⠀⠀⠀⠀\n",
       "⠀⠀⠀⠀⠀⠀⠩⣽⣅⣀⣄⣡⢉⡧⣉⠸⠃⠀⠀⠀⠀⠀⠰⢡⣀⡼⣻⠍⡾⡟⠁⠉⠙⠦⠤⣤⡀⠀⠀⠀\n",
       "⠀⠀⠀⠀⠀⠀⠀⢋⡎⠴⠽⠇⠖⠍⢸⠵⡄⠀⠀⠀⠀⠀⠀⢘⡟⠞⣊⠘⡎⣧⡅⠀⠀⠀⠸⡏⡟⣿⢲⡀\n",
       "⠀⠀⠀⠀⠀⠀⠀⠘⠄⡂⠆⠇⢺⠎⣸⡘⠂⠀⠀⠀⠀⠀⠀⠠⣾⠯⠮⣭⣏⡽⠇⠀⠀⠀⠀⢳⣿⣾⠀⢹\n",
       "⠉⠙⠒⠒⠲⠤⠤⢄⣀⣀⣀⣁⣀⡀⠈⠀⠀⠀⠀⠀⠀⠀⠀⠀⠁⠀⠁⠉⠉⠁⠀⠀⠀⠀⠀⠀⠈⠁⠀⠈\n",
       "⠀⠀⠀⠀⠀⠀⠀⠀⠀⠈⠨⠀⢋⣉⠏⢿⠟⠒⠒⠦⠤⠤⣄⡀⠀⠀⠀⠀⠀⠀⠀⠀⠀⠀⠀⠀⠀⠀⠀⠀\n",
       "⠀⠀⠀⠀⠀⠀⠀⠀⠀⠀⠀⢈⣽⠔⡒⣲⡂⠀⠀⠀⠀⠀⠀⠉⠉⢷⡶⠶⢦⣤⠤⣀⢀⣀⡀⠀⠀⠀⠀⠀\n",
       "⢀⡀⠀⣀⣀⣀⠀⠀⠀⠀⠀⠀⢘⢿⠿⡷⠂⠀⠀⠀⠀⠀⠀⠀⠀⠀⣿⣭⣻⣿⠆⠀⠀⠀⠈⠉⣭⢛⠲⢤\n",
       "⠀⠀⠀⠀⠀⠈⠉⠉⠉⠉⠉⠈⠁⠉⠹⣷⡖⠲⠤⠠⠤⠀⠄⠠⠤⠤⠤⠤⣄⣀⡀⠀⢀⠀⠀⠀⡀⠀⠀⡀"
      ]
     },
     "execution_count": 29,
     "metadata": {},
     "output_type": "execute_result"
    }
   ],
   "source": [
    "edge_weights[true]"
   ]
  },
  {
   "cell_type": "code",
   "execution_count": 30,
   "metadata": {},
   "outputs": [
    {
     "data": {
      "text/plain": [
       "Dict{Bool, SparseArrays.SparseMatrixCSC{Float64, Int64}} with 2 entries:\n",
       "  0 => …\n",
       "  1 => …"
      ]
     },
     "execution_count": 30,
     "metadata": {},
     "output_type": "execute_result"
    }
   ],
   "source": [
    "edge_weights = determine_edge_weights(filtered_observation_graph)\n",
    "edge_probabilities = determine_edge_probabilities(edge_weights)"
   ]
  },
  {
   "cell_type": "code",
   "execution_count": 31,
   "metadata": {},
   "outputs": [],
   "source": [
    "kmers = [filtered_observation_graph.vprops[v][:kmer] for v in Graphs.vertices(filtered_observation_graph)]\n",
    "kmer_weights = [filtered_observation_graph.vprops[v][:weight] for v in Graphs.vertices(filtered_observation_graph)]\n",
    "kmer_probabilities = kmer_weights ./ sum(kmer_weights)\n",
    "\n",
    "edge_weights = determine_edge_weights(filtered_observation_graph)\n",
    "edge_probabilities = determine_edge_probabilities(edge_weights)\n",
    "\n",
    "step_probabilities = deepcopy(edge_probabilities)\n",
    "\n",
    "for orientation in [true, false]\n",
    "#     @show orientation\n",
    "    oriented_step_probabilities = step_probabilities[orientation] \n",
    "    for row in 1:size(step_probabilities[orientation], 1)\n",
    "        step_probabilities_ = step_probabilities[orientation][row, :] .* kmer_probabilities\n",
    "        if sum(step_probabilities_) > 0\n",
    "            step_probabilities[orientation][row, :] .= step_probabilities_ ./ sum(step_probabilities_)\n",
    "        end\n",
    "    end\n",
    "end"
   ]
  },
  {
   "cell_type": "code",
   "execution_count": 32,
   "metadata": {},
   "outputs": [
    {
     "name": "stderr",
     "output_type": "stream",
     "text": [
      "\u001b[32mProgress: 100%|█████████████████████████████████████████| Time: 0:00:54\u001b[39m\n"
     ]
    }
   ],
   "source": [
    "new_records = FASTX.FASTQ.Record[]\n",
    "ProgressMeter.@showprogress for observation in observations\n",
    "    read_length = length(FASTX.sequence(observation))\n",
    "    max_steps = read_length - filtered_observation_graph.gprops[:k]\n",
    "    # apply a squaring penalty to kmer_weights?\n",
    "    initial_vertex = StatsBase.sample(1:length(kmers), StatsBase.weights(kmer_weights.^2))\n",
    "#     @show \"choosing initial vertex $initial_vertex with probability $(kmer_weights[initial_vertex])\"\n",
    "    initial_orientation = rand(Bool)\n",
    "    forward_walk = random_walk(filtered_observation_graph, initial_vertex, initial_orientation, step_probabilities, n_steps=max_steps)\n",
    "    remaining_steps = max_steps - length(forward_walk)\n",
    "    reverse_walk = random_walk(filtered_observation_graph, initial_vertex, !initial_orientation, step_probabilities, n_steps = remaining_steps)\n",
    "    full_walk = [[(vertex=x.vertex, orientation=!x.orientation) for x in reverse(reverse_walk)]..., [(vertex = initial_vertex, orientation = initial_orientation)]..., forward_walk...]\n",
    "    oriented_path = [(x.vertex, x.orientation) for x in full_walk]\n",
    "    new_seq = Mycelia.oriented_path_to_sequence(filtered_observation_graph, oriented_path)\n",
    "    new_record = FASTX.FASTQ.Record(\n",
    "        FASTX.identifier(observation)*\"-k$k\",\n",
    "        FASTX.identifier(observation),\n",
    "        new_seq,\n",
    "        StatsBase.sample(FASTX.quality(observation), length(new_seq))\n",
    "    )\n",
    "#     @show \"here\"\n",
    "    push!(new_records, new_record)\n",
    "end\n",
    "new_records;"
   ]
  },
  {
   "cell_type": "code",
   "execution_count": 33,
   "metadata": {},
   "outputs": [],
   "source": [
    "corrected_fastq_file = replace(observations_file, r\"\\.fastq\" => \".k$k.fastq\")\n",
    "open(corrected_fastq_file, \"w\") do io\n",
    "    fastq_writer = FASTX.FASTQ.Writer(io)\n",
    "    for record in new_records\n",
    "        write(fastq_writer, record)\n",
    "    end\n",
    "    close(fastq_writer)\n",
    "end"
   ]
  },
  {
   "cell_type": "code",
   "execution_count": 34,
   "metadata": {},
   "outputs": [
    {
     "name": "stderr",
     "output_type": "stream",
     "text": [
      "┌ Info: assessing kmers\n",
      "└ @ Mycelia /home/jovyan/git/Mycelia/src/Mycelia.jl:1932\n",
      "┌ Info: creating graph\n",
      "└ @ Mycelia /home/jovyan/git/Mycelia/src/Mycelia.jl:1948\n"
     ]
    },
    {
     "data": {
      "text/plain": [
       "{456, 972} directed Int64 metagraph with Float64 weights defined by :weight (default weight 1.0)"
      ]
     },
     "execution_count": 34,
     "metadata": {},
     "output_type": "execute_result"
    }
   ],
   "source": [
    "corrected_observation_graph = Mycelia.fastx_to_kmer_graph(BioSequences.DNAMer{k}, corrected_fastq_file)"
   ]
  },
  {
   "cell_type": "code",
   "execution_count": 35,
   "metadata": {},
   "outputs": [
    {
     "data": {
      "text/html": [
       "<img src=./../../../2021-08-23/LENGTH-100-DEPTH-10000.k11.fastq.k-11.gfa.svg>"
      ]
     },
     "metadata": {},
     "output_type": "display_data"
    }
   ],
   "source": [
    "# visualize\n",
    "gfa_file = corrected_fastq_file * \".k-$k.gfa\"\n",
    "Mycelia.graph_to_gfa(corrected_observation_graph, gfa_file)\n",
    "\n",
    "run(`$(BANDAGE) image $(gfa_file) $(gfa_file).svg --depwidth .9 --deppower .9`)\n",
    "# --nodewidth <float> Average node width (0.5 to 1000, default: 5)\n",
    "# --depwidth <float>  Depth effect on width (0 to 1, default: 0.5)\n",
    "# --deppower <float>  Power of depth effect on width (0 to 1, default: 0.5)\n",
    "\n",
    "html_path_to_svg = \"./\" * repeat(\"../\", length(split(pwd(), '/')) - 3)\n",
    "html_path_to_svg *= replace(\"$(gfa_file).svg\", \"$(homedir())/\" => \"\")\n",
    "\n",
    "x = \"<img src=$(html_path_to_svg)>\"\n",
    "display(\"text/html\", x)\n",
    "# display(\"image/svg+xml\", read(\"$(gfa_file).svg\", String))"
   ]
  },
  {
   "cell_type": "code",
   "execution_count": 36,
   "metadata": {},
   "outputs": [
    {
     "data": {
      "image/svg+xml": [
       "<?xml version=\"1.0\" encoding=\"utf-8\"?>\n",
       "<svg xmlns=\"http://www.w3.org/2000/svg\" xmlns:xlink=\"http://www.w3.org/1999/xlink\" width=\"500\" height=\"250\" viewBox=\"0 0 2000 1000\">\n",
       "<defs>\n",
       "  <clipPath id=\"clip090\">\n",
       "    <rect x=\"0\" y=\"0\" width=\"2000\" height=\"1000\"/>\n",
       "  </clipPath>\n",
       "</defs>\n",
       "<path clip-path=\"url(#clip090)\" d=\"\n",
       "M0 1000 L2000 1000 L2000 0 L0 0  Z\n",
       "  \" fill=\"#ffffff\" fill-rule=\"evenodd\" fill-opacity=\"1\"/>\n",
       "<defs>\n",
       "  <clipPath id=\"clip091\">\n",
       "    <rect x=\"400\" y=\"0\" width=\"1401\" height=\"1000\"/>\n",
       "  </clipPath>\n",
       "</defs>\n",
       "<path clip-path=\"url(#clip090)\" d=\"\n",
       "M159.565 849.7 L1952.76 849.7 L1952.76 108.352 L159.565 108.352  Z\n",
       "  \" fill=\"#ffffff\" fill-rule=\"evenodd\" fill-opacity=\"1\"/>\n",
       "<defs>\n",
       "  <clipPath id=\"clip092\">\n",
       "    <rect x=\"159\" y=\"108\" width=\"1794\" height=\"742\"/>\n",
       "  </clipPath>\n",
       "</defs>\n",
       "<polyline clip-path=\"url(#clip092)\" style=\"stroke:#000000; stroke-linecap:butt; stroke-linejoin:round; stroke-width:2; stroke-opacity:0.1; fill:none\" points=\"\n",
       "  159.565,849.7 159.565,108.352 \n",
       "  \"/>\n",
       "<polyline clip-path=\"url(#clip092)\" style=\"stroke:#000000; stroke-linecap:butt; stroke-linejoin:round; stroke-width:2; stroke-opacity:0.1; fill:none\" points=\"\n",
       "  598.632,849.7 598.632,108.352 \n",
       "  \"/>\n",
       "<polyline clip-path=\"url(#clip092)\" style=\"stroke:#000000; stroke-linecap:butt; stroke-linejoin:round; stroke-width:2; stroke-opacity:0.1; fill:none\" points=\"\n",
       "  1037.7,849.7 1037.7,108.352 \n",
       "  \"/>\n",
       "<polyline clip-path=\"url(#clip092)\" style=\"stroke:#000000; stroke-linecap:butt; stroke-linejoin:round; stroke-width:2; stroke-opacity:0.1; fill:none\" points=\"\n",
       "  1476.77,849.7 1476.77,108.352 \n",
       "  \"/>\n",
       "<polyline clip-path=\"url(#clip092)\" style=\"stroke:#000000; stroke-linecap:butt; stroke-linejoin:round; stroke-width:2; stroke-opacity:0.1; fill:none\" points=\"\n",
       "  1915.83,849.7 1915.83,108.352 \n",
       "  \"/>\n",
       "<polyline clip-path=\"url(#clip090)\" style=\"stroke:#000000; stroke-linecap:butt; stroke-linejoin:round; stroke-width:4; stroke-opacity:1; fill:none\" points=\"\n",
       "  159.565,849.7 1952.76,849.7 \n",
       "  \"/>\n",
       "<polyline clip-path=\"url(#clip090)\" style=\"stroke:#000000; stroke-linecap:butt; stroke-linejoin:round; stroke-width:4; stroke-opacity:1; fill:none\" points=\"\n",
       "  159.565,849.7 159.565,830.802 \n",
       "  \"/>\n",
       "<polyline clip-path=\"url(#clip090)\" style=\"stroke:#000000; stroke-linecap:butt; stroke-linejoin:round; stroke-width:4; stroke-opacity:1; fill:none\" points=\"\n",
       "  598.632,849.7 598.632,830.802 \n",
       "  \"/>\n",
       "<polyline clip-path=\"url(#clip090)\" style=\"stroke:#000000; stroke-linecap:butt; stroke-linejoin:round; stroke-width:4; stroke-opacity:1; fill:none\" points=\"\n",
       "  1037.7,849.7 1037.7,830.802 \n",
       "  \"/>\n",
       "<polyline clip-path=\"url(#clip090)\" style=\"stroke:#000000; stroke-linecap:butt; stroke-linejoin:round; stroke-width:4; stroke-opacity:1; fill:none\" points=\"\n",
       "  1476.77,849.7 1476.77,830.802 \n",
       "  \"/>\n",
       "<polyline clip-path=\"url(#clip090)\" style=\"stroke:#000000; stroke-linecap:butt; stroke-linejoin:round; stroke-width:4; stroke-opacity:1; fill:none\" points=\"\n",
       "  1915.83,849.7 1915.83,830.802 \n",
       "  \"/>\n",
       "<path clip-path=\"url(#clip090)\" d=\"M136.95 875.691 Q133.338 875.691 131.51 879.255 Q129.704 882.797 129.704 889.927 Q129.704 897.033 131.51 900.598 Q133.338 904.139 136.95 904.139 Q140.584 904.139 142.389 900.598 Q144.218 897.033 144.218 889.927 Q144.218 882.797 142.389 879.255 Q140.584 875.691 136.95 875.691 M136.95 871.987 Q142.76 871.987 145.815 876.593 Q148.894 881.177 148.894 889.927 Q148.894 898.653 145.815 903.26 Q142.76 907.843 136.95 907.843 Q131.139 907.843 128.061 903.26 Q125.005 898.653 125.005 889.927 Q125.005 881.177 128.061 876.593 Q131.139 871.987 136.95 871.987 Z\" fill=\"#000000\" fill-rule=\"evenodd\" fill-opacity=\"1\" /><path clip-path=\"url(#clip090)\" d=\"M157.112 901.292 L161.996 901.292 L161.996 907.172 L157.112 907.172 L157.112 901.292 Z\" fill=\"#000000\" fill-rule=\"evenodd\" fill-opacity=\"1\" /><path clip-path=\"url(#clip090)\" d=\"M182.181 875.691 Q178.57 875.691 176.741 879.255 Q174.935 882.797 174.935 889.927 Q174.935 897.033 176.741 900.598 Q178.57 904.139 182.181 904.139 Q185.815 904.139 187.621 900.598 Q189.449 897.033 189.449 889.927 Q189.449 882.797 187.621 879.255 Q185.815 875.691 182.181 875.691 M182.181 871.987 Q187.991 871.987 191.047 876.593 Q194.125 881.177 194.125 889.927 Q194.125 898.653 191.047 903.26 Q187.991 907.843 182.181 907.843 Q176.371 907.843 173.292 903.26 Q170.236 898.653 170.236 889.927 Q170.236 881.177 173.292 876.593 Q176.371 871.987 182.181 871.987 Z\" fill=\"#000000\" fill-rule=\"evenodd\" fill-opacity=\"1\" /><path clip-path=\"url(#clip090)\" d=\"M570.368 903.237 L586.688 903.237 L586.688 907.172 L564.743 907.172 L564.743 903.237 Q567.405 900.482 571.989 895.852 Q576.595 891.2 577.776 889.857 Q580.021 887.334 580.901 885.598 Q581.803 883.839 581.803 882.149 Q581.803 879.394 579.859 877.658 Q577.938 875.922 574.836 875.922 Q572.637 875.922 570.183 876.686 Q567.752 877.45 564.975 879.001 L564.975 874.279 Q567.799 873.144 570.252 872.566 Q572.706 871.987 574.743 871.987 Q580.114 871.987 583.308 874.672 Q586.502 877.357 586.502 881.848 Q586.502 883.978 585.692 885.899 Q584.905 887.797 582.799 890.39 Q582.22 891.061 579.118 894.278 Q576.016 897.473 570.368 903.237 Z\" fill=\"#000000\" fill-rule=\"evenodd\" fill-opacity=\"1\" /><path clip-path=\"url(#clip090)\" d=\"M596.502 901.292 L601.387 901.292 L601.387 907.172 L596.502 907.172 L596.502 901.292 Z\" fill=\"#000000\" fill-rule=\"evenodd\" fill-opacity=\"1\" /><path clip-path=\"url(#clip090)\" d=\"M611.618 872.612 L629.974 872.612 L629.974 876.547 L615.9 876.547 L615.9 885.019 Q616.919 884.672 617.937 884.51 Q618.956 884.325 619.974 884.325 Q625.761 884.325 629.141 887.496 Q632.521 890.667 632.521 896.084 Q632.521 901.663 629.048 904.764 Q625.576 907.843 619.257 907.843 Q617.081 907.843 614.812 907.473 Q612.567 907.102 610.16 906.362 L610.16 901.663 Q612.243 902.797 614.465 903.352 Q616.687 903.908 619.164 903.908 Q623.169 903.908 625.507 901.802 Q627.845 899.695 627.845 896.084 Q627.845 892.473 625.507 890.366 Q623.169 888.26 619.164 888.26 Q617.289 888.26 615.414 888.677 Q613.562 889.093 611.618 889.973 L611.618 872.612 Z\" fill=\"#000000\" fill-rule=\"evenodd\" fill-opacity=\"1\" /><path clip-path=\"url(#clip090)\" d=\"M1004.86 872.612 L1023.22 872.612 L1023.22 876.547 L1009.15 876.547 L1009.15 885.019 Q1010.16 884.672 1011.18 884.51 Q1012.2 884.325 1013.22 884.325 Q1019.01 884.325 1022.39 887.496 Q1025.77 890.667 1025.77 896.084 Q1025.77 901.663 1022.29 904.764 Q1018.82 907.843 1012.5 907.843 Q1010.33 907.843 1008.06 907.473 Q1005.81 907.102 1003.4 906.362 L1003.4 901.663 Q1005.49 902.797 1007.71 903.352 Q1009.93 903.908 1012.41 903.908 Q1016.41 903.908 1018.75 901.802 Q1021.09 899.695 1021.09 896.084 Q1021.09 892.473 1018.75 890.366 Q1016.41 888.26 1012.41 888.26 Q1010.53 888.26 1008.66 888.677 Q1006.81 889.093 1004.86 889.973 L1004.86 872.612 Z\" fill=\"#000000\" fill-rule=\"evenodd\" fill-opacity=\"1\" /><path clip-path=\"url(#clip090)\" d=\"M1034.98 901.292 L1039.86 901.292 L1039.86 907.172 L1034.98 907.172 L1034.98 901.292 Z\" fill=\"#000000\" fill-rule=\"evenodd\" fill-opacity=\"1\" /><path clip-path=\"url(#clip090)\" d=\"M1060.05 875.691 Q1056.44 875.691 1054.61 879.255 Q1052.8 882.797 1052.8 889.927 Q1052.8 897.033 1054.61 900.598 Q1056.44 904.139 1060.05 904.139 Q1063.68 904.139 1065.49 900.598 Q1067.32 897.033 1067.32 889.927 Q1067.32 882.797 1065.49 879.255 Q1063.68 875.691 1060.05 875.691 M1060.05 871.987 Q1065.86 871.987 1068.91 876.593 Q1071.99 881.177 1071.99 889.927 Q1071.99 898.653 1068.91 903.26 Q1065.86 907.843 1060.05 907.843 Q1054.24 907.843 1051.16 903.26 Q1048.1 898.653 1048.1 889.927 Q1048.1 881.177 1051.16 876.593 Q1054.24 871.987 1060.05 871.987 Z\" fill=\"#000000\" fill-rule=\"evenodd\" fill-opacity=\"1\" /><path clip-path=\"url(#clip090)\" d=\"M1443.08 872.612 L1465.31 872.612 L1465.31 874.603 L1452.76 907.172 L1447.88 907.172 L1459.68 876.547 L1443.08 876.547 L1443.08 872.612 Z\" fill=\"#000000\" fill-rule=\"evenodd\" fill-opacity=\"1\" /><path clip-path=\"url(#clip090)\" d=\"M1474.43 901.292 L1479.31 901.292 L1479.31 907.172 L1474.43 907.172 L1474.43 901.292 Z\" fill=\"#000000\" fill-rule=\"evenodd\" fill-opacity=\"1\" /><path clip-path=\"url(#clip090)\" d=\"M1489.54 872.612 L1507.9 872.612 L1507.9 876.547 L1493.83 876.547 L1493.83 885.019 Q1494.84 884.672 1495.86 884.51 Q1496.88 884.325 1497.9 884.325 Q1503.69 884.325 1507.07 887.496 Q1510.45 890.667 1510.45 896.084 Q1510.45 901.663 1506.97 904.764 Q1503.5 907.843 1497.18 907.843 Q1495.01 907.843 1492.74 907.473 Q1490.49 907.102 1488.08 906.362 L1488.08 901.663 Q1490.17 902.797 1492.39 903.352 Q1494.61 903.908 1497.09 903.908 Q1501.09 903.908 1503.43 901.802 Q1505.77 899.695 1505.77 896.084 Q1505.77 892.473 1503.43 890.366 Q1501.09 888.26 1497.09 888.26 Q1495.21 888.26 1493.34 888.677 Q1491.49 889.093 1489.54 889.973 L1489.54 872.612 Z\" fill=\"#000000\" fill-rule=\"evenodd\" fill-opacity=\"1\" /><path clip-path=\"url(#clip090)\" d=\"M1867.9 903.237 L1875.54 903.237 L1875.54 876.871 L1867.23 878.538 L1867.23 874.279 L1875.5 872.612 L1880.17 872.612 L1880.17 903.237 L1887.81 903.237 L1887.81 907.172 L1867.9 907.172 L1867.9 903.237 Z\" fill=\"#000000\" fill-rule=\"evenodd\" fill-opacity=\"1\" /><path clip-path=\"url(#clip090)\" d=\"M1907.26 875.691 Q1903.64 875.691 1901.82 879.255 Q1900.01 882.797 1900.01 889.927 Q1900.01 897.033 1901.82 900.598 Q1903.64 904.139 1907.26 904.139 Q1910.89 904.139 1912.7 900.598 Q1914.52 897.033 1914.52 889.927 Q1914.52 882.797 1912.7 879.255 Q1910.89 875.691 1907.26 875.691 M1907.26 871.987 Q1913.07 871.987 1916.12 876.593 Q1919.2 881.177 1919.2 889.927 Q1919.2 898.653 1916.12 903.26 Q1913.07 907.843 1907.26 907.843 Q1901.45 907.843 1898.37 903.26 Q1895.31 898.653 1895.31 889.927 Q1895.31 881.177 1898.37 876.593 Q1901.45 871.987 1907.26 871.987 Z\" fill=\"#000000\" fill-rule=\"evenodd\" fill-opacity=\"1\" /><path clip-path=\"url(#clip090)\" d=\"M1927.42 901.292 L1932.3 901.292 L1932.3 907.172 L1927.42 907.172 L1927.42 901.292 Z\" fill=\"#000000\" fill-rule=\"evenodd\" fill-opacity=\"1\" /><path clip-path=\"url(#clip090)\" d=\"M1952.49 875.691 Q1948.88 875.691 1947.05 879.255 Q1945.24 882.797 1945.24 889.927 Q1945.24 897.033 1947.05 900.598 Q1948.88 904.139 1952.49 904.139 Q1956.12 904.139 1957.93 900.598 Q1959.76 897.033 1959.76 889.927 Q1959.76 882.797 1957.93 879.255 Q1956.12 875.691 1952.49 875.691 M1952.49 871.987 Q1958.3 871.987 1961.35 876.593 Q1964.43 881.177 1964.43 889.927 Q1964.43 898.653 1961.35 903.26 Q1958.3 907.843 1952.49 907.843 Q1946.68 907.843 1943.6 903.26 Q1940.54 898.653 1940.54 889.927 Q1940.54 881.177 1943.6 876.593 Q1946.68 871.987 1952.49 871.987 Z\" fill=\"#000000\" fill-rule=\"evenodd\" fill-opacity=\"1\" /><path clip-path=\"url(#clip090)\" d=\"M661.996 939.039 L667.852 939.039 L667.852 988.564 L661.996 988.564 L661.996 939.039 Z\" fill=\"#000000\" fill-rule=\"evenodd\" fill-opacity=\"1\" /><path clip-path=\"url(#clip090)\" d=\"M693.92 957.022 Q689.209 957.022 686.472 960.714 Q683.735 964.374 683.735 970.772 Q683.735 977.169 686.44 980.861 Q689.178 984.522 693.92 984.522 Q698.599 984.522 701.336 980.83 Q704.073 977.137 704.073 970.772 Q704.073 964.438 701.336 960.746 Q698.599 957.022 693.92 957.022 M693.92 952.057 Q701.559 952.057 705.919 957.022 Q710.28 961.987 710.28 970.772 Q710.28 979.525 705.919 984.522 Q701.559 989.487 693.92 989.487 Q686.249 989.487 681.889 984.522 Q677.56 979.525 677.56 970.772 Q677.56 961.987 681.889 957.022 Q686.249 952.057 693.92 952.057 Z\" fill=\"#000000\" fill-rule=\"evenodd\" fill-opacity=\"1\" /><path clip-path=\"url(#clip090)\" d=\"M743.445 970.326 Q743.445 963.96 740.803 960.459 Q738.194 956.958 733.451 956.958 Q728.74 956.958 726.099 960.459 Q723.489 963.96 723.489 970.326 Q723.489 976.66 726.099 980.161 Q728.74 983.662 733.451 983.662 Q738.194 983.662 740.803 980.161 Q743.445 976.66 743.445 970.326 M749.302 984.14 Q749.302 993.243 745.259 997.667 Q741.217 1002.12 732.878 1002.12 Q729.791 1002.12 727.054 1001.65 Q724.316 1001.2 721.738 1000.24 L721.738 994.548 Q724.316 995.948 726.831 996.616 Q729.345 997.285 731.955 997.285 Q737.716 997.285 740.581 994.261 Q743.445 991.269 743.445 985.19 L743.445 982.294 Q741.631 985.445 738.798 987.004 Q735.966 988.564 732.019 988.564 Q725.462 988.564 721.452 983.567 Q717.441 978.57 717.441 970.326 Q717.441 962.051 721.452 957.054 Q725.462 952.057 732.019 952.057 Q735.966 952.057 738.798 953.616 Q741.631 955.176 743.445 958.327 L743.445 952.916 L749.302 952.916 L749.302 984.14 Z\" fill=\"#000000\" fill-rule=\"evenodd\" fill-opacity=\"1\" /><path clip-path=\"url(#clip090)\" d=\"M775.433 939.102 Q771.168 946.423 769.099 953.584 Q767.03 960.746 767.03 968.098 Q767.03 975.45 769.099 982.676 Q771.2 989.869 775.433 997.158 L770.34 997.158 Q765.566 989.678 763.179 982.453 Q760.824 975.228 760.824 968.098 Q760.824 961 763.179 953.807 Q765.534 946.614 770.34 939.102 L775.433 939.102 Z\" fill=\"#000000\" fill-rule=\"evenodd\" fill-opacity=\"1\" /><path clip-path=\"url(#clip090)\" d=\"M800.609 957.022 Q795.899 957.022 793.161 960.714 Q790.424 964.374 790.424 970.772 Q790.424 977.169 793.13 980.861 Q795.867 984.522 800.609 984.522 Q805.288 984.522 808.025 980.83 Q810.763 977.137 810.763 970.772 Q810.763 964.438 808.025 960.746 Q805.288 957.022 800.609 957.022 M800.609 952.057 Q808.248 952.057 812.609 957.022 Q816.969 961.987 816.969 970.772 Q816.969 979.525 812.609 984.522 Q808.248 989.487 800.609 989.487 Q792.939 989.487 788.578 984.522 Q784.249 979.525 784.249 970.772 Q784.249 961.987 788.578 957.022 Q792.939 952.057 800.609 952.057 Z\" fill=\"#000000\" fill-rule=\"evenodd\" fill-opacity=\"1\" /><path clip-path=\"url(#clip090)\" d=\"M852.267 970.772 Q852.267 964.311 849.593 960.65 Q846.952 956.958 842.305 956.958 Q837.658 956.958 834.984 960.65 Q832.342 964.311 832.342 970.772 Q832.342 977.233 834.984 980.925 Q837.658 984.585 842.305 984.585 Q846.952 984.585 849.593 980.925 Q852.267 977.233 852.267 970.772 M832.342 958.327 Q834.188 955.144 836.989 953.616 Q839.822 952.057 843.737 952.057 Q850.23 952.057 854.272 957.213 Q858.346 962.369 858.346 970.772 Q858.346 979.174 854.272 984.331 Q850.23 989.487 843.737 989.487 Q839.822 989.487 836.989 987.959 Q834.188 986.4 832.342 983.217 L832.342 988.564 L826.454 988.564 L826.454 939.039 L832.342 939.039 L832.342 958.327 Z\" fill=\"#000000\" fill-rule=\"evenodd\" fill-opacity=\"1\" /><path clip-path=\"url(#clip090)\" d=\"M890.779 953.966 L890.779 959.504 Q888.297 958.231 885.623 957.595 Q882.95 956.958 880.085 956.958 Q875.725 956.958 873.528 958.295 Q871.364 959.632 871.364 962.305 Q871.364 964.342 872.924 965.52 Q874.483 966.666 879.194 967.716 L881.199 968.162 Q887.438 969.499 890.047 971.949 Q892.689 974.368 892.689 978.729 Q892.689 983.694 888.742 986.59 Q884.828 989.487 877.953 989.487 Q875.088 989.487 871.969 988.914 Q868.881 988.373 865.444 987.259 L865.444 981.211 Q868.69 982.898 871.842 983.758 Q874.993 984.585 878.08 984.585 Q882.218 984.585 884.446 983.185 Q886.674 981.753 886.674 979.174 Q886.674 976.787 885.05 975.514 Q883.459 974.241 878.016 973.063 L875.979 972.586 Q870.537 971.44 868.118 969.085 Q865.699 966.698 865.699 962.56 Q865.699 957.531 869.263 954.794 Q872.828 952.057 879.385 952.057 Q882.631 952.057 885.496 952.534 Q888.361 953.011 890.779 953.966 Z\" fill=\"#000000\" fill-rule=\"evenodd\" fill-opacity=\"1\" /><path clip-path=\"url(#clip090)\" d=\"M932.507 969.276 L932.507 972.14 L905.58 972.14 Q905.962 978.188 909.208 981.371 Q912.487 984.522 918.311 984.522 Q921.685 984.522 924.836 983.694 Q928.019 982.867 931.138 981.211 L931.138 986.75 Q927.987 988.086 924.677 988.787 Q921.367 989.487 917.961 989.487 Q909.431 989.487 904.434 984.522 Q899.469 979.556 899.469 971.09 Q899.469 962.337 904.179 957.213 Q908.922 952.057 916.943 952.057 Q924.136 952.057 928.305 956.703 Q932.507 961.319 932.507 969.276 M926.65 967.557 Q926.587 962.751 923.945 959.886 Q921.335 957.022 917.006 957.022 Q912.105 957.022 909.145 959.791 Q906.216 962.56 905.771 967.589 L926.65 967.557 Z\" fill=\"#000000\" fill-rule=\"evenodd\" fill-opacity=\"1\" /><path clip-path=\"url(#clip090)\" d=\"M962.776 958.39 Q961.789 957.817 960.611 957.563 Q959.465 957.276 958.065 957.276 Q953.1 957.276 950.426 960.523 Q947.784 963.738 947.784 969.785 L947.784 988.564 L941.896 988.564 L941.896 952.916 L947.784 952.916 L947.784 958.454 Q949.63 955.208 952.591 953.648 Q955.551 952.057 959.784 952.057 Q960.389 952.057 961.121 952.152 Q961.853 952.216 962.744 952.375 L962.776 958.39 Z\" fill=\"#000000\" fill-rule=\"evenodd\" fill-opacity=\"1\" /><path clip-path=\"url(#clip090)\" d=\"M964.717 952.916 L970.924 952.916 L982.064 982.835 L993.204 952.916 L999.41 952.916 L986.042 988.564 L978.085 988.564 L964.717 952.916 Z\" fill=\"#000000\" fill-rule=\"evenodd\" fill-opacity=\"1\" /><path clip-path=\"url(#clip090)\" d=\"M1037.99 969.276 L1037.99 972.14 L1011.06 972.14 Q1011.44 978.188 1014.69 981.371 Q1017.97 984.522 1023.79 984.522 Q1027.16 984.522 1030.32 983.694 Q1033.5 982.867 1036.62 981.211 L1036.62 986.75 Q1033.47 988.086 1030.16 988.787 Q1026.85 989.487 1023.44 989.487 Q1014.91 989.487 1009.91 984.522 Q1004.95 979.556 1004.95 971.09 Q1004.95 962.337 1009.66 957.213 Q1014.4 952.057 1022.42 952.057 Q1029.62 952.057 1033.79 956.703 Q1037.99 961.319 1037.99 969.276 M1032.13 967.557 Q1032.07 962.751 1029.42 959.886 Q1026.81 957.022 1022.49 957.022 Q1017.58 957.022 1014.62 959.791 Q1011.7 962.56 1011.25 967.589 L1032.13 967.557 Z\" fill=\"#000000\" fill-rule=\"evenodd\" fill-opacity=\"1\" /><path clip-path=\"url(#clip090)\" d=\"M1071.06 958.327 L1071.06 939.039 L1076.91 939.039 L1076.91 988.564 L1071.06 988.564 L1071.06 983.217 Q1069.21 986.4 1066.38 987.959 Q1063.58 989.487 1059.63 989.487 Q1053.17 989.487 1049.09 984.331 Q1045.05 979.174 1045.05 970.772 Q1045.05 962.369 1049.09 957.213 Q1053.17 952.057 1059.63 952.057 Q1063.58 952.057 1066.38 953.616 Q1069.21 955.144 1071.06 958.327 M1051.1 970.772 Q1051.1 977.233 1053.74 980.925 Q1056.42 984.585 1061.06 984.585 Q1065.71 984.585 1068.38 980.925 Q1071.06 977.233 1071.06 970.772 Q1071.06 964.311 1068.38 960.65 Q1065.71 956.958 1061.06 956.958 Q1056.42 956.958 1053.74 960.65 Q1051.1 964.311 1051.1 970.772 Z\" fill=\"#000000\" fill-rule=\"evenodd\" fill-opacity=\"1\" /><path clip-path=\"url(#clip090)\" d=\"M1127.74 939.039 L1127.74 943.908 L1122.14 943.908 Q1118.99 943.908 1117.75 945.182 Q1116.54 946.455 1116.54 949.765 L1116.54 952.916 L1126.18 952.916 L1126.18 957.467 L1116.54 957.467 L1116.54 988.564 L1110.65 988.564 L1110.65 957.467 L1105.05 957.467 L1105.05 952.916 L1110.65 952.916 L1110.65 950.433 Q1110.65 944.481 1113.42 941.776 Q1116.19 939.039 1122.2 939.039 L1127.74 939.039 Z\" fill=\"#000000\" fill-rule=\"evenodd\" fill-opacity=\"1\" /><path clip-path=\"url(#clip090)\" d=\"M1153.3 958.39 Q1152.31 957.817 1151.14 957.563 Q1149.99 957.276 1148.59 957.276 Q1143.63 957.276 1140.95 960.523 Q1138.31 963.738 1138.31 969.785 L1138.31 988.564 L1132.42 988.564 L1132.42 952.916 L1138.31 952.916 L1138.31 958.454 Q1140.16 955.208 1143.12 953.648 Q1146.08 952.057 1150.31 952.057 Q1150.91 952.057 1151.65 952.152 Q1152.38 952.216 1153.27 952.375 L1153.3 958.39 Z\" fill=\"#000000\" fill-rule=\"evenodd\" fill-opacity=\"1\" /><path clip-path=\"url(#clip090)\" d=\"M1188.5 969.276 L1188.5 972.14 L1161.58 972.14 Q1161.96 978.188 1165.21 981.371 Q1168.48 984.522 1174.31 984.522 Q1177.68 984.522 1180.83 983.694 Q1184.02 982.867 1187.13 981.211 L1187.13 986.75 Q1183.98 988.086 1180.67 988.787 Q1177.36 989.487 1173.96 989.487 Q1165.43 989.487 1160.43 984.522 Q1155.47 979.556 1155.47 971.09 Q1155.47 962.337 1160.18 957.213 Q1164.92 952.057 1172.94 952.057 Q1180.13 952.057 1184.3 956.703 Q1188.5 961.319 1188.5 969.276 M1182.65 967.557 Q1182.58 962.751 1179.94 959.886 Q1177.33 957.022 1173 957.022 Q1168.1 957.022 1165.14 959.791 Q1162.21 962.56 1161.77 967.589 L1182.65 967.557 Z\" fill=\"#000000\" fill-rule=\"evenodd\" fill-opacity=\"1\" /><path clip-path=\"url(#clip090)\" d=\"M1201.62 970.772 Q1201.62 977.233 1204.26 980.925 Q1206.93 984.585 1211.58 984.585 Q1216.23 984.585 1218.9 980.925 Q1221.57 977.233 1221.57 970.772 Q1221.57 964.311 1218.9 960.65 Q1216.23 956.958 1211.58 956.958 Q1206.93 956.958 1204.26 960.65 Q1201.62 964.311 1201.62 970.772 M1221.57 983.217 Q1219.73 986.4 1216.89 987.959 Q1214.09 989.487 1210.15 989.487 Q1203.69 989.487 1199.61 984.331 Q1195.57 979.174 1195.57 970.772 Q1195.57 962.369 1199.61 957.213 Q1203.69 952.057 1210.15 952.057 Q1214.09 952.057 1216.89 953.616 Q1219.73 955.144 1221.57 958.327 L1221.57 952.916 L1227.43 952.916 L1227.43 1002.12 L1221.57 1002.12 L1221.57 983.217 Z\" fill=\"#000000\" fill-rule=\"evenodd\" fill-opacity=\"1\" /><path clip-path=\"url(#clip090)\" d=\"M1238.89 974.496 L1238.89 952.916 L1244.74 952.916 L1244.74 974.273 Q1244.74 979.334 1246.72 981.88 Q1248.69 984.394 1252.64 984.394 Q1257.38 984.394 1260.12 981.371 Q1262.89 978.347 1262.89 973.127 L1262.89 952.916 L1268.74 952.916 L1268.74 988.564 L1262.89 988.564 L1262.89 983.089 Q1260.75 986.336 1257.92 987.927 Q1255.12 989.487 1251.4 989.487 Q1245.25 989.487 1242.07 985.667 Q1238.89 981.848 1238.89 974.496 M1253.62 952.057 L1253.62 952.057 Z\" fill=\"#000000\" fill-rule=\"evenodd\" fill-opacity=\"1\" /><path clip-path=\"url(#clip090)\" d=\"M1311.3 969.276 L1311.3 972.14 L1284.37 972.14 Q1284.75 978.188 1288 981.371 Q1291.28 984.522 1297.1 984.522 Q1300.48 984.522 1303.63 983.694 Q1306.81 982.867 1309.93 981.211 L1309.93 986.75 Q1306.78 988.086 1303.47 988.787 Q1300.16 989.487 1296.75 989.487 Q1288.22 989.487 1283.23 984.522 Q1278.26 979.556 1278.26 971.09 Q1278.26 962.337 1282.97 957.213 Q1287.71 952.057 1295.73 952.057 Q1302.93 952.057 1307.1 956.703 Q1311.3 961.319 1311.3 969.276 M1305.44 967.557 Q1305.38 962.751 1302.74 959.886 Q1300.13 957.022 1295.8 957.022 Q1290.9 957.022 1287.94 959.791 Q1285.01 962.56 1284.56 967.589 L1305.44 967.557 Z\" fill=\"#000000\" fill-rule=\"evenodd\" fill-opacity=\"1\" /><path clip-path=\"url(#clip090)\" d=\"M1350.54 967.048 L1350.54 988.564 L1344.69 988.564 L1344.69 967.239 Q1344.69 962.178 1342.71 959.664 Q1340.74 957.149 1336.79 957.149 Q1332.05 957.149 1329.31 960.173 Q1326.58 963.197 1326.58 968.416 L1326.58 988.564 L1320.69 988.564 L1320.69 952.916 L1326.58 952.916 L1326.58 958.454 Q1328.68 955.239 1331.51 953.648 Q1334.37 952.057 1338.1 952.057 Q1344.24 952.057 1347.39 955.876 Q1350.54 959.664 1350.54 967.048 Z\" fill=\"#000000\" fill-rule=\"evenodd\" fill-opacity=\"1\" /><path clip-path=\"url(#clip090)\" d=\"M1387.88 954.285 L1387.88 959.759 Q1385.39 958.39 1382.88 957.722 Q1380.4 957.022 1377.85 957.022 Q1372.15 957.022 1369 960.65 Q1365.85 964.247 1365.85 970.772 Q1365.85 977.297 1369 980.925 Q1372.15 984.522 1377.85 984.522 Q1380.4 984.522 1382.88 983.853 Q1385.39 983.153 1387.88 981.784 L1387.88 987.195 Q1385.43 988.341 1382.78 988.914 Q1380.18 989.487 1377.21 989.487 Q1369.16 989.487 1364.42 984.426 Q1359.68 979.365 1359.68 970.772 Q1359.68 962.051 1364.45 957.054 Q1369.26 952.057 1377.6 952.057 Q1380.3 952.057 1382.88 952.629 Q1385.46 953.171 1387.88 954.285 Z\" fill=\"#000000\" fill-rule=\"evenodd\" fill-opacity=\"1\" /><path clip-path=\"url(#clip090)\" d=\"M1412.89 991.874 Q1410.41 998.24 1408.06 1000.18 Q1405.7 1002.12 1401.75 1002.12 L1397.08 1002.12 L1397.08 997.221 L1400.51 997.221 Q1402.93 997.221 1404.27 996.075 Q1405.61 994.93 1407.23 990.665 L1408.28 987.991 L1393.86 952.916 L1400.07 952.916 L1411.21 980.798 L1422.35 952.916 L1428.55 952.916 L1412.89 991.874 Z\" fill=\"#000000\" fill-rule=\"evenodd\" fill-opacity=\"1\" /><path clip-path=\"url(#clip090)\" d=\"M1435.72 939.102 L1440.81 939.102 Q1445.58 946.614 1447.94 953.807 Q1450.33 961 1450.33 968.098 Q1450.33 975.228 1447.94 982.453 Q1445.58 989.678 1440.81 997.158 L1435.72 997.158 Q1439.95 989.869 1442.02 982.676 Q1444.12 975.45 1444.12 968.098 Q1444.12 960.746 1442.02 953.584 Q1439.95 946.423 1435.72 939.102 Z\" fill=\"#000000\" fill-rule=\"evenodd\" fill-opacity=\"1\" /><polyline clip-path=\"url(#clip092)\" style=\"stroke:#000000; stroke-linecap:butt; stroke-linejoin:round; stroke-width:2; stroke-opacity:0.1; fill:none\" points=\"\n",
       "  159.565,849.7 1952.76,849.7 \n",
       "  \"/>\n",
       "<polyline clip-path=\"url(#clip092)\" style=\"stroke:#000000; stroke-linecap:butt; stroke-linejoin:round; stroke-width:2; stroke-opacity:0.1; fill:none\" points=\"\n",
       "  159.565,740.809 1952.76,740.809 \n",
       "  \"/>\n",
       "<polyline clip-path=\"url(#clip092)\" style=\"stroke:#000000; stroke-linecap:butt; stroke-linejoin:round; stroke-width:2; stroke-opacity:0.1; fill:none\" points=\"\n",
       "  159.565,631.917 1952.76,631.917 \n",
       "  \"/>\n",
       "<polyline clip-path=\"url(#clip092)\" style=\"stroke:#000000; stroke-linecap:butt; stroke-linejoin:round; stroke-width:2; stroke-opacity:0.1; fill:none\" points=\"\n",
       "  159.565,523.026 1952.76,523.026 \n",
       "  \"/>\n",
       "<polyline clip-path=\"url(#clip092)\" style=\"stroke:#000000; stroke-linecap:butt; stroke-linejoin:round; stroke-width:2; stroke-opacity:0.1; fill:none\" points=\"\n",
       "  159.565,414.135 1952.76,414.135 \n",
       "  \"/>\n",
       "<polyline clip-path=\"url(#clip092)\" style=\"stroke:#000000; stroke-linecap:butt; stroke-linejoin:round; stroke-width:2; stroke-opacity:0.1; fill:none\" points=\"\n",
       "  159.565,305.243 1952.76,305.243 \n",
       "  \"/>\n",
       "<polyline clip-path=\"url(#clip092)\" style=\"stroke:#000000; stroke-linecap:butt; stroke-linejoin:round; stroke-width:2; stroke-opacity:0.1; fill:none\" points=\"\n",
       "  159.565,196.352 1952.76,196.352 \n",
       "  \"/>\n",
       "<polyline clip-path=\"url(#clip090)\" style=\"stroke:#000000; stroke-linecap:butt; stroke-linejoin:round; stroke-width:4; stroke-opacity:1; fill:none\" points=\"\n",
       "  159.565,849.7 159.565,108.352 \n",
       "  \"/>\n",
       "<polyline clip-path=\"url(#clip090)\" style=\"stroke:#000000; stroke-linecap:butt; stroke-linejoin:round; stroke-width:4; stroke-opacity:1; fill:none\" points=\"\n",
       "  159.565,849.7 178.463,849.7 \n",
       "  \"/>\n",
       "<polyline clip-path=\"url(#clip090)\" style=\"stroke:#000000; stroke-linecap:butt; stroke-linejoin:round; stroke-width:4; stroke-opacity:1; fill:none\" points=\"\n",
       "  159.565,740.809 178.463,740.809 \n",
       "  \"/>\n",
       "<polyline clip-path=\"url(#clip090)\" style=\"stroke:#000000; stroke-linecap:butt; stroke-linejoin:round; stroke-width:4; stroke-opacity:1; fill:none\" points=\"\n",
       "  159.565,631.917 178.463,631.917 \n",
       "  \"/>\n",
       "<polyline clip-path=\"url(#clip090)\" style=\"stroke:#000000; stroke-linecap:butt; stroke-linejoin:round; stroke-width:4; stroke-opacity:1; fill:none\" points=\"\n",
       "  159.565,523.026 178.463,523.026 \n",
       "  \"/>\n",
       "<polyline clip-path=\"url(#clip090)\" style=\"stroke:#000000; stroke-linecap:butt; stroke-linejoin:round; stroke-width:4; stroke-opacity:1; fill:none\" points=\"\n",
       "  159.565,414.135 178.463,414.135 \n",
       "  \"/>\n",
       "<polyline clip-path=\"url(#clip090)\" style=\"stroke:#000000; stroke-linecap:butt; stroke-linejoin:round; stroke-width:4; stroke-opacity:1; fill:none\" points=\"\n",
       "  159.565,305.243 178.463,305.243 \n",
       "  \"/>\n",
       "<polyline clip-path=\"url(#clip090)\" style=\"stroke:#000000; stroke-linecap:butt; stroke-linejoin:round; stroke-width:4; stroke-opacity:1; fill:none\" points=\"\n",
       "  159.565,196.352 178.463,196.352 \n",
       "  \"/>\n",
       "<path clip-path=\"url(#clip090)\" d=\"M117.621 835.499 Q114.01 835.499 112.181 839.063 Q110.375 842.605 110.375 849.735 Q110.375 856.841 112.181 860.406 Q114.01 863.947 117.621 863.947 Q121.255 863.947 123.061 860.406 Q124.889 856.841 124.889 849.735 Q124.889 842.605 123.061 839.063 Q121.255 835.499 117.621 835.499 M117.621 831.795 Q123.431 831.795 126.487 836.401 Q129.565 840.985 129.565 849.735 Q129.565 858.461 126.487 863.068 Q123.431 867.651 117.621 867.651 Q111.811 867.651 108.732 863.068 Q105.676 858.461 105.676 849.735 Q105.676 840.985 108.732 836.401 Q111.811 831.795 117.621 831.795 Z\" fill=\"#000000\" fill-rule=\"evenodd\" fill-opacity=\"1\" /><path clip-path=\"url(#clip090)\" d=\"M109.658 754.153 L117.297 754.153 L117.297 727.788 L108.987 729.454 L108.987 725.195 L117.25 723.529 L121.926 723.529 L121.926 754.153 L129.565 754.153 L129.565 758.089 L109.658 758.089 L109.658 754.153 Z\" fill=\"#000000\" fill-rule=\"evenodd\" fill-opacity=\"1\" /><path clip-path=\"url(#clip090)\" d=\"M113.246 645.262 L129.565 645.262 L129.565 649.197 L107.621 649.197 L107.621 645.262 Q110.283 642.507 114.866 637.878 Q119.473 633.225 120.653 631.882 Q122.899 629.359 123.778 627.623 Q124.681 625.864 124.681 624.174 Q124.681 621.42 122.737 619.683 Q120.815 617.947 117.713 617.947 Q115.514 617.947 113.061 618.711 Q110.63 619.475 107.852 621.026 L107.852 616.304 Q110.676 615.17 113.13 614.591 Q115.584 614.012 117.621 614.012 Q122.991 614.012 126.186 616.697 Q129.38 619.383 129.38 623.873 Q129.38 626.003 128.57 627.924 Q127.783 629.822 125.676 632.415 Q125.098 633.086 121.996 636.304 Q118.894 639.498 113.246 645.262 Z\" fill=\"#000000\" fill-rule=\"evenodd\" fill-opacity=\"1\" /><path clip-path=\"url(#clip090)\" d=\"M122.436 521.672 Q125.792 522.389 127.667 524.658 Q129.565 526.926 129.565 530.26 Q129.565 535.375 126.047 538.176 Q122.528 540.977 116.047 540.977 Q113.871 540.977 111.556 540.537 Q109.264 540.121 106.811 539.264 L106.811 534.75 Q108.755 535.885 111.07 536.463 Q113.385 537.042 115.908 537.042 Q120.306 537.042 122.598 535.306 Q124.912 533.57 124.912 530.26 Q124.912 527.204 122.76 525.491 Q120.63 523.755 116.811 523.755 L112.783 523.755 L112.783 519.912 L116.996 519.912 Q120.445 519.912 122.274 518.547 Q124.102 517.158 124.102 514.565 Q124.102 511.903 122.204 510.491 Q120.329 509.056 116.811 509.056 Q114.889 509.056 112.69 509.473 Q110.491 509.889 107.852 510.769 L107.852 506.602 Q110.514 505.862 112.829 505.491 Q115.167 505.121 117.227 505.121 Q122.551 505.121 125.653 507.551 Q128.755 509.959 128.755 514.079 Q128.755 516.949 127.112 518.94 Q125.468 520.908 122.436 521.672 Z\" fill=\"#000000\" fill-rule=\"evenodd\" fill-opacity=\"1\" /><path clip-path=\"url(#clip090)\" d=\"M119.982 400.929 L108.176 419.378 L119.982 419.378 L119.982 400.929 M118.755 396.855 L124.635 396.855 L124.635 419.378 L129.565 419.378 L129.565 423.266 L124.635 423.266 L124.635 431.415 L119.982 431.415 L119.982 423.266 L104.38 423.266 L104.38 418.753 L118.755 396.855 Z\" fill=\"#000000\" fill-rule=\"evenodd\" fill-opacity=\"1\" /><path clip-path=\"url(#clip090)\" d=\"M108.663 287.963 L127.019 287.963 L127.019 291.898 L112.945 291.898 L112.945 300.371 Q113.963 300.023 114.982 299.861 Q116 299.676 117.019 299.676 Q122.806 299.676 126.186 302.847 Q129.565 306.019 129.565 311.435 Q129.565 317.014 126.093 320.116 Q122.621 323.194 116.301 323.194 Q114.125 323.194 111.857 322.824 Q109.612 322.454 107.204 321.713 L107.204 317.014 Q109.288 318.148 111.51 318.704 Q113.732 319.259 116.209 319.259 Q120.213 319.259 122.551 317.153 Q124.889 315.046 124.889 311.435 Q124.889 307.824 122.551 305.718 Q120.213 303.611 116.209 303.611 Q114.334 303.611 112.459 304.028 Q110.607 304.445 108.663 305.324 L108.663 287.963 Z\" fill=\"#000000\" fill-rule=\"evenodd\" fill-opacity=\"1\" /><path clip-path=\"url(#clip090)\" d=\"M118.037 194.488 Q114.889 194.488 113.038 196.641 Q111.209 198.794 111.209 202.544 Q111.209 206.271 113.038 208.447 Q114.889 210.599 118.037 210.599 Q121.186 210.599 123.014 208.447 Q124.866 206.271 124.866 202.544 Q124.866 198.794 123.014 196.641 Q121.186 194.488 118.037 194.488 M127.32 179.836 L127.32 184.095 Q125.561 183.262 123.755 182.822 Q121.973 182.382 120.213 182.382 Q115.584 182.382 113.13 185.507 Q110.7 188.632 110.352 194.951 Q111.718 192.938 113.778 191.873 Q115.838 190.785 118.315 190.785 Q123.524 190.785 126.533 193.956 Q129.565 197.104 129.565 202.544 Q129.565 207.868 126.417 211.086 Q123.269 214.303 118.037 214.303 Q112.042 214.303 108.871 209.72 Q105.7 205.113 105.7 196.387 Q105.7 188.192 109.588 183.331 Q113.477 178.447 120.028 178.447 Q121.787 178.447 123.57 178.794 Q125.375 179.141 127.32 179.836 Z\" fill=\"#000000\" fill-rule=\"evenodd\" fill-opacity=\"1\" /><path clip-path=\"url(#clip090)\" d=\"M10.599 728.769 L10.599 722.912 L60.1242 722.912 L60.1242 728.769 L10.599 728.769 Z\" fill=\"#000000\" fill-rule=\"evenodd\" fill-opacity=\"1\" /><path clip-path=\"url(#clip090)\" d=\"M28.5821 696.845 Q28.5821 701.555 32.2742 704.292 Q35.9345 707.03 42.332 707.03 Q48.7295 707.03 52.4217 704.324 Q56.0819 701.587 56.0819 696.845 Q56.0819 692.166 52.3898 689.429 Q48.6977 686.691 42.332 686.691 Q35.9981 686.691 32.306 689.429 Q28.5821 692.166 28.5821 696.845 M23.6168 696.845 Q23.6168 689.206 28.5821 684.845 Q33.5473 680.485 42.332 680.485 Q51.0849 680.485 56.0819 684.845 Q61.0472 689.206 61.0472 696.845 Q61.0472 704.515 56.0819 708.876 Q51.0849 713.204 42.332 713.204 Q33.5473 713.204 28.5821 708.876 Q23.6168 704.515 23.6168 696.845 Z\" fill=\"#000000\" fill-rule=\"evenodd\" fill-opacity=\"1\" /><path clip-path=\"url(#clip090)\" d=\"M41.8864 647.319 Q35.5207 647.319 32.0196 649.961 Q28.5184 652.571 28.5184 657.314 Q28.5184 662.024 32.0196 664.666 Q35.5207 667.276 41.8864 667.276 Q48.2203 667.276 51.7214 664.666 Q55.2226 662.024 55.2226 657.314 Q55.2226 652.571 51.7214 649.961 Q48.2203 647.319 41.8864 647.319 M55.7 641.463 Q64.803 641.463 69.2271 645.505 Q73.6831 649.547 73.6831 657.886 Q73.6831 660.974 73.2057 663.711 Q72.7601 666.448 71.8052 669.026 L66.1079 669.026 Q67.5084 666.448 68.1768 663.934 Q68.8452 661.419 68.8452 658.809 Q68.8452 653.048 65.8215 650.184 Q62.8296 647.319 56.7503 647.319 L53.8539 647.319 Q57.005 649.134 58.5646 651.966 Q60.1242 654.799 60.1242 658.746 Q60.1242 665.302 55.1271 669.313 Q50.13 673.323 41.8864 673.323 Q33.611 673.323 28.6139 669.313 Q23.6168 665.302 23.6168 658.746 Q23.6168 654.799 25.1764 651.966 Q26.736 649.134 29.8871 647.319 L24.4762 647.319 L24.4762 641.463 L55.7 641.463 Z\" fill=\"#000000\" fill-rule=\"evenodd\" fill-opacity=\"1\" /><path clip-path=\"url(#clip090)\" d=\"M10.6626 615.332 Q17.9832 619.597 25.1446 621.666 Q32.306 623.734 39.6584 623.734 Q47.0108 623.734 54.2359 621.666 Q61.4291 619.565 68.7179 615.332 L68.7179 620.424 Q61.2382 625.199 54.0131 627.586 Q46.788 629.941 39.6584 629.941 Q32.5606 629.941 25.3674 627.586 Q18.1742 625.23 10.6626 620.424 L10.6626 615.332 Z\" fill=\"#000000\" fill-rule=\"evenodd\" fill-opacity=\"1\" /><path clip-path=\"url(#clip090)\" d=\"M31.4466 576.787 L31.4466 586.049 L42.0774 588.723 L42.0774 579.397 L31.4466 576.787 M13.3362 581.562 L26.5451 584.872 L26.5451 575.578 L13.3362 572.236 L13.3362 567.143 L26.5451 570.422 L26.5451 560.491 L31.4466 560.491 L31.4466 571.663 L42.0774 574.273 L42.0774 564.151 L46.9471 564.151 L46.9471 575.514 L60.1242 578.824 L60.1242 583.917 L46.9471 580.639 L46.9471 589.964 L60.1242 593.243 L60.1242 598.367 L46.9471 595.057 L46.9471 605.083 L42.0774 605.083 L42.0774 593.879 L31.4466 591.206 L31.4466 601.454 L26.5451 601.454 L26.5451 589.964 L13.3362 586.718 L13.3362 581.562 Z\" fill=\"#000000\" fill-rule=\"evenodd\" fill-opacity=\"1\" /><path clip-path=\"url(#clip090)\" d=\"M28.5821 514.817 Q28.5821 519.528 32.2742 522.265 Q35.9345 525.002 42.332 525.002 Q48.7295 525.002 52.4217 522.297 Q56.0819 519.56 56.0819 514.817 Q56.0819 510.138 52.3898 507.401 Q48.6977 504.664 42.332 504.664 Q35.9981 504.664 32.306 507.401 Q28.5821 510.138 28.5821 514.817 M23.6168 514.817 Q23.6168 507.178 28.5821 502.818 Q33.5473 498.457 42.332 498.457 Q51.0849 498.457 56.0819 502.818 Q61.0472 507.178 61.0472 514.817 Q61.0472 522.488 56.0819 526.848 Q51.0849 531.177 42.332 531.177 Q33.5473 531.177 28.5821 526.848 Q23.6168 522.488 23.6168 514.817 Z\" fill=\"#000000\" fill-rule=\"evenodd\" fill-opacity=\"1\" /><path clip-path=\"url(#clip090)\" d=\"M10.599 470.703 L15.4687 470.703 L15.4687 476.305 Q15.4687 479.456 16.7419 480.697 Q18.015 481.906 21.3252 481.906 L24.4762 481.906 L24.4762 472.262 L29.0277 472.262 L29.0277 481.906 L60.1242 481.906 L60.1242 487.795 L29.0277 487.795 L29.0277 493.397 L24.4762 493.397 L24.4762 487.795 L21.9936 487.795 Q16.0416 487.795 13.3362 485.026 Q10.599 482.257 10.599 476.241 L10.599 470.703 Z\" fill=\"#000000\" fill-rule=\"evenodd\" fill-opacity=\"1\" /><path clip-path=\"url(#clip090)\" d=\"M10.599 445.304 L10.599 439.415 L39.8494 439.415 L24.4762 421.942 L24.4762 414.462 L41.1544 433.368 L60.1242 413.666 L60.1242 421.305 L42.7139 439.415 L60.1242 439.415 L60.1242 445.304 L10.599 445.304 Z\" fill=\"#000000\" fill-rule=\"evenodd\" fill-opacity=\"1\" /><path clip-path=\"url(#clip090)\" d=\"M31.3193 379.578 Q27.3726 377.382 25.4947 374.326 Q23.6168 371.27 23.6168 367.133 Q23.6168 361.563 27.5317 358.539 Q31.4148 355.515 38.6081 355.515 L60.1242 355.515 L60.1242 361.404 L38.799 361.404 Q33.6746 361.404 31.192 363.218 Q28.7094 365.032 28.7094 368.756 Q28.7094 373.308 31.7331 375.949 Q34.7568 378.591 39.9767 378.591 L60.1242 378.591 L60.1242 384.479 L38.799 384.479 Q33.6428 384.479 31.192 386.294 Q28.7094 388.108 28.7094 391.895 Q28.7094 396.383 31.7649 399.025 Q34.7886 401.667 39.9767 401.667 L60.1242 401.667 L60.1242 407.555 L24.4762 407.555 L24.4762 401.667 L30.0144 401.667 Q26.736 399.662 25.1764 396.861 Q23.6168 394.06 23.6168 390.208 Q23.6168 386.325 25.5902 383.62 Q27.5636 380.883 31.3193 379.578 Z\" fill=\"#000000\" fill-rule=\"evenodd\" fill-opacity=\"1\" /><path clip-path=\"url(#clip090)\" d=\"M40.8361 313.343 L43.7006 313.343 L43.7006 340.269 Q49.7481 339.888 52.9309 336.641 Q56.0819 333.363 56.0819 327.538 Q56.0819 324.164 55.2544 321.013 Q54.4269 317.83 52.7718 314.711 L58.3099 314.711 Q59.6467 317.862 60.347 321.172 Q61.0472 324.483 61.0472 327.888 Q61.0472 336.418 56.0819 341.415 Q51.1167 346.381 42.6503 346.381 Q33.8974 346.381 28.7731 341.67 Q23.6168 336.927 23.6168 328.907 Q23.6168 321.713 28.2638 317.544 Q32.8789 313.343 40.8361 313.343 M39.1173 319.199 Q34.3112 319.263 31.4466 321.904 Q28.5821 324.514 28.5821 328.843 Q28.5821 333.745 31.3512 336.705 Q34.1202 339.633 39.1492 340.079 L39.1173 319.199 Z\" fill=\"#000000\" fill-rule=\"evenodd\" fill-opacity=\"1\" /><path clip-path=\"url(#clip090)\" d=\"M29.9507 283.074 Q29.3778 284.06 29.1232 285.238 Q28.8367 286.384 28.8367 287.784 Q28.8367 292.749 32.0832 295.423 Q35.2979 298.065 41.3453 298.065 L60.1242 298.065 L60.1242 303.953 L24.4762 303.953 L24.4762 298.065 L30.0144 298.065 Q26.7679 296.219 25.2083 293.259 Q23.6168 290.299 23.6168 286.066 Q23.6168 285.461 23.7123 284.729 Q23.776 283.997 23.9351 283.105 L29.9507 283.074 Z\" fill=\"#000000\" fill-rule=\"evenodd\" fill-opacity=\"1\" /><path clip-path=\"url(#clip090)\" d=\"M25.5265 254.205 L31.0647 254.205 Q29.7916 256.688 29.155 259.361 Q28.5184 262.035 28.5184 264.9 Q28.5184 269.26 29.8552 271.456 Q31.192 273.621 33.8656 273.621 Q35.9026 273.621 37.0803 272.061 Q38.2261 270.501 39.2765 265.791 L39.7221 263.786 Q41.0589 257.547 43.5097 254.937 Q45.9286 252.295 50.2891 252.295 Q55.2544 252.295 58.1508 256.242 Q61.0472 260.157 61.0472 267.032 Q61.0472 269.897 60.4743 273.016 Q59.9332 276.103 58.8192 279.541 L52.7718 279.541 Q54.4587 276.294 55.318 273.143 Q56.1456 269.992 56.1456 266.905 Q56.1456 262.767 54.7451 260.539 Q53.3129 258.311 50.7347 258.311 Q48.3476 258.311 47.0745 259.934 Q45.8013 261.526 44.6237 266.968 L44.1462 269.005 Q43.0004 274.448 40.6451 276.867 Q38.258 279.286 34.1202 279.286 Q29.0913 279.286 26.3541 275.721 Q23.6168 272.156 23.6168 265.6 Q23.6168 262.353 24.0943 259.489 Q24.5717 256.624 25.5265 254.205 Z\" fill=\"#000000\" fill-rule=\"evenodd\" fill-opacity=\"1\" /><path clip-path=\"url(#clip090)\" d=\"M10.6626 243.893 L10.6626 238.8 Q18.1742 234.026 25.3674 231.671 Q32.5606 229.283 39.6584 229.283 Q46.788 229.283 54.0131 231.671 Q61.2382 234.026 68.7179 238.8 L68.7179 243.893 Q61.4291 239.66 54.2359 237.591 Q47.0108 235.49 39.6584 235.49 Q32.306 235.49 25.1446 237.591 Q17.9832 239.66 10.6626 243.893 Z\" fill=\"#000000\" fill-rule=\"evenodd\" fill-opacity=\"1\" /><path clip-path=\"url(#clip090)\" d=\"M699.6 9.54393 L707.094 9.54393 L707.094 46.7717 L729.334 27.2059 L738.853 27.2059 L714.791 48.4326 L739.866 72.576 L730.144 72.576 L707.094 50.4176 L707.094 72.576 L699.6 72.576 L699.6 9.54393 Z\" fill=\"#000000\" fill-rule=\"evenodd\" fill-opacity=\"1\" /><path clip-path=\"url(#clip090)\" d=\"M783.251 35.9153 Q786.046 30.8922 789.935 28.5022 Q793.824 26.1121 799.09 26.1121 Q806.179 26.1121 810.028 31.0947 Q813.876 36.0368 813.876 45.1919 L813.876 72.576 L806.382 72.576 L806.382 45.4349 Q806.382 38.913 804.073 35.7533 Q801.764 32.5936 797.024 32.5936 Q791.231 32.5936 787.869 36.4419 Q784.507 40.2903 784.507 46.9338 L784.507 72.576 L777.013 72.576 L777.013 45.4349 Q777.013 38.8725 774.704 35.7533 Q772.395 32.5936 767.574 32.5936 Q761.862 32.5936 758.5 36.4824 Q755.138 40.3308 755.138 46.9338 L755.138 72.576 L747.644 72.576 L747.644 27.2059 L755.138 27.2059 L755.138 34.2544 Q757.69 30.082 761.255 28.0971 Q764.82 26.1121 769.721 26.1121 Q774.663 26.1121 778.106 28.6237 Q781.59 31.1352 783.251 35.9153 Z\" fill=\"#000000\" fill-rule=\"evenodd\" fill-opacity=\"1\" /><path clip-path=\"url(#clip090)\" d=\"M867.55 48.0275 L867.55 51.6733 L833.28 51.6733 Q833.766 59.3701 837.898 63.421 Q842.07 67.4314 849.483 67.4314 Q853.777 67.4314 857.788 66.3781 Q861.839 65.3249 865.809 63.2184 L865.809 70.267 Q861.798 71.9684 857.585 72.8596 Q853.372 73.7508 849.038 73.7508 Q838.181 73.7508 831.821 67.4314 Q825.502 61.1119 825.502 50.3365 Q825.502 39.1965 831.497 32.6746 Q837.533 26.1121 847.742 26.1121 Q856.897 26.1121 862.203 32.0264 Q867.55 37.9003 867.55 48.0275 M860.097 45.84 Q860.016 39.7232 856.654 36.0774 Q853.332 32.4315 847.823 32.4315 Q841.584 32.4315 837.817 35.9558 Q834.09 39.4801 833.523 45.8805 L860.097 45.84 Z\" fill=\"#000000\" fill-rule=\"evenodd\" fill-opacity=\"1\" /><path clip-path=\"url(#clip090)\" d=\"M906.075 34.1734 Q904.819 33.4443 903.32 33.1202 Q901.862 32.7556 900.079 32.7556 Q893.76 32.7556 890.357 36.8875 Q886.995 40.9789 886.995 48.6757 L886.995 72.576 L879.501 72.576 L879.501 27.2059 L886.995 27.2059 L886.995 34.2544 Q889.344 30.1225 893.112 28.1376 Q896.879 26.1121 902.267 26.1121 Q903.036 26.1121 903.968 26.2337 Q904.9 26.3147 906.034 26.5172 L906.075 34.1734 Z\" fill=\"#000000\" fill-rule=\"evenodd\" fill-opacity=\"1\" /><path clip-path=\"url(#clip090)\" d=\"M963.233 9.54393 L963.233 15.7418 L956.103 15.7418 Q952.093 15.7418 950.513 17.3622 Q948.974 18.9825 948.974 23.1955 L948.974 27.2059 L961.248 27.2059 L961.248 32.9987 L948.974 32.9987 L948.974 72.576 L941.479 72.576 L941.479 32.9987 L934.35 32.9987 L934.35 27.2059 L941.479 27.2059 L941.479 24.0462 Q941.479 16.471 945.004 13.0277 Q948.528 9.54393 956.184 9.54393 L963.233 9.54393 Z\" fill=\"#000000\" fill-rule=\"evenodd\" fill-opacity=\"1\" /><path clip-path=\"url(#clip090)\" d=\"M995.762 34.1734 Q994.506 33.4443 993.007 33.1202 Q991.549 32.7556 989.766 32.7556 Q983.447 32.7556 980.044 36.8875 Q976.682 40.9789 976.682 48.6757 L976.682 72.576 L969.188 72.576 L969.188 27.2059 L976.682 27.2059 L976.682 34.2544 Q979.031 30.1225 982.799 28.1376 Q986.566 26.1121 991.954 26.1121 Q992.723 26.1121 993.655 26.2337 Q994.587 26.3147 995.721 26.5172 L995.762 34.1734 Z\" fill=\"#000000\" fill-rule=\"evenodd\" fill-opacity=\"1\" /><path clip-path=\"url(#clip090)\" d=\"M1040.56 48.0275 L1040.56 51.6733 L1006.29 51.6733 Q1006.78 59.3701 1010.91 63.421 Q1015.08 67.4314 1022.5 67.4314 Q1026.79 67.4314 1030.8 66.3781 Q1034.85 65.3249 1038.82 63.2184 L1038.82 70.267 Q1034.81 71.9684 1030.6 72.8596 Q1026.39 73.7508 1022.05 73.7508 Q1011.2 73.7508 1004.84 67.4314 Q998.516 61.1119 998.516 50.3365 Q998.516 39.1965 1004.51 32.6746 Q1010.55 26.1121 1020.76 26.1121 Q1029.91 26.1121 1035.22 32.0264 Q1040.56 37.9003 1040.56 48.0275 M1033.11 45.84 Q1033.03 39.7232 1029.67 36.0774 Q1026.35 32.4315 1020.84 32.4315 Q1014.6 32.4315 1010.83 35.9558 Q1007.1 39.4801 1006.54 45.8805 L1033.11 45.84 Z\" fill=\"#000000\" fill-rule=\"evenodd\" fill-opacity=\"1\" /><path clip-path=\"url(#clip090)\" d=\"M1057.25 49.9314 Q1057.25 58.1548 1060.62 62.8538 Q1064.02 67.5124 1069.93 67.5124 Q1075.85 67.5124 1079.25 62.8538 Q1082.65 58.1548 1082.65 49.9314 Q1082.65 41.7081 1079.25 37.0496 Q1075.85 32.3505 1069.93 32.3505 Q1064.02 32.3505 1060.62 37.0496 Q1057.25 41.7081 1057.25 49.9314 M1082.65 65.7705 Q1080.3 69.8214 1076.7 71.8063 Q1073.13 73.7508 1068.11 73.7508 Q1059.89 73.7508 1054.7 67.1883 Q1049.56 60.6258 1049.56 49.9314 Q1049.56 39.2371 1054.7 32.6746 Q1059.89 26.1121 1068.11 26.1121 Q1073.13 26.1121 1076.7 28.0971 Q1080.3 30.0415 1082.65 34.0924 L1082.65 27.2059 L1090.11 27.2059 L1090.11 89.8329 L1082.65 89.8329 L1082.65 65.7705 Z\" fill=\"#000000\" fill-rule=\"evenodd\" fill-opacity=\"1\" /><path clip-path=\"url(#clip090)\" d=\"M1104.69 54.671 L1104.69 27.2059 L1112.14 27.2059 L1112.14 54.3874 Q1112.14 60.8284 1114.66 64.0691 Q1117.17 67.2693 1122.19 67.2693 Q1128.23 67.2693 1131.71 63.421 Q1135.23 59.5726 1135.23 52.9291 L1135.23 27.2059 L1142.69 27.2059 L1142.69 72.576 L1135.23 72.576 L1135.23 65.6084 Q1132.52 69.7404 1128.91 71.7658 Q1125.35 73.7508 1120.61 73.7508 Q1112.79 73.7508 1108.74 68.8897 Q1104.69 64.0286 1104.69 54.671 M1123.45 26.1121 L1123.45 26.1121 Z\" fill=\"#000000\" fill-rule=\"evenodd\" fill-opacity=\"1\" /><path clip-path=\"url(#clip090)\" d=\"M1196.85 48.0275 L1196.85 51.6733 L1162.58 51.6733 Q1163.06 59.3701 1167.2 63.421 Q1171.37 67.4314 1178.78 67.4314 Q1183.08 67.4314 1187.09 66.3781 Q1191.14 65.3249 1195.11 63.2184 L1195.11 70.267 Q1191.1 71.9684 1186.88 72.8596 Q1182.67 73.7508 1178.34 73.7508 Q1167.48 73.7508 1161.12 67.4314 Q1154.8 61.1119 1154.8 50.3365 Q1154.8 39.1965 1160.8 32.6746 Q1166.83 26.1121 1177.04 26.1121 Q1186.19 26.1121 1191.5 32.0264 Q1196.85 37.9003 1196.85 48.0275 M1189.39 45.84 Q1189.31 39.7232 1185.95 36.0774 Q1182.63 32.4315 1177.12 32.4315 Q1170.88 32.4315 1167.11 35.9558 Q1163.39 39.4801 1162.82 45.8805 L1189.39 45.84 Z\" fill=\"#000000\" fill-rule=\"evenodd\" fill-opacity=\"1\" /><path clip-path=\"url(#clip090)\" d=\"M1246.8 45.1919 L1246.8 72.576 L1239.34 72.576 L1239.34 45.4349 Q1239.34 38.994 1236.83 35.7938 Q1234.32 32.5936 1229.3 32.5936 Q1223.26 32.5936 1219.78 36.4419 Q1216.29 40.2903 1216.29 46.9338 L1216.29 72.576 L1208.8 72.576 L1208.8 27.2059 L1216.29 27.2059 L1216.29 34.2544 Q1218.97 30.163 1222.57 28.1376 Q1226.22 26.1121 1230.96 26.1121 Q1238.78 26.1121 1242.79 30.9732 Q1246.8 35.7938 1246.8 45.1919 Z\" fill=\"#000000\" fill-rule=\"evenodd\" fill-opacity=\"1\" /><path clip-path=\"url(#clip090)\" d=\"M1294.31 28.9478 L1294.31 35.9153 Q1291.15 34.1734 1287.95 33.3227 Q1284.79 32.4315 1281.55 32.4315 Q1274.3 32.4315 1270.29 37.0496 Q1266.28 41.6271 1266.28 49.9314 Q1266.28 58.2358 1270.29 62.8538 Q1274.3 67.4314 1281.55 67.4314 Q1284.79 67.4314 1287.95 66.5807 Q1291.15 65.6895 1294.31 63.9476 L1294.31 70.8341 Q1291.19 72.2924 1287.83 73.0216 Q1284.51 73.7508 1280.74 73.7508 Q1270.49 73.7508 1264.46 67.3098 Q1258.42 60.8689 1258.42 49.9314 Q1258.42 38.832 1264.5 32.472 Q1270.62 26.1121 1281.23 26.1121 Q1284.67 26.1121 1287.95 26.8413 Q1291.23 27.5299 1294.31 28.9478 Z\" fill=\"#000000\" fill-rule=\"evenodd\" fill-opacity=\"1\" /><path clip-path=\"url(#clip090)\" d=\"M1307.28 27.2059 L1314.73 27.2059 L1314.73 72.576 L1307.28 72.576 L1307.28 27.2059 M1307.28 9.54393 L1314.73 9.54393 L1314.73 18.9825 L1307.28 18.9825 L1307.28 9.54393 Z\" fill=\"#000000\" fill-rule=\"evenodd\" fill-opacity=\"1\" /><path clip-path=\"url(#clip090)\" d=\"M1369.13 48.0275 L1369.13 51.6733 L1334.86 51.6733 Q1335.35 59.3701 1339.48 63.421 Q1343.65 67.4314 1351.07 67.4314 Q1355.36 67.4314 1359.37 66.3781 Q1363.42 65.3249 1367.39 63.2184 L1367.39 70.267 Q1363.38 71.9684 1359.17 72.8596 Q1354.96 73.7508 1350.62 73.7508 Q1339.76 73.7508 1333.4 67.4314 Q1327.09 61.1119 1327.09 50.3365 Q1327.09 39.1965 1333.08 32.6746 Q1339.12 26.1121 1349.32 26.1121 Q1358.48 26.1121 1363.79 32.0264 Q1369.13 37.9003 1369.13 48.0275 M1361.68 45.84 Q1361.6 39.7232 1358.24 36.0774 Q1354.91 32.4315 1349.41 32.4315 Q1343.17 32.4315 1339.4 35.9558 Q1335.67 39.4801 1335.11 45.8805 L1361.68 45.84 Z\" fill=\"#000000\" fill-rule=\"evenodd\" fill-opacity=\"1\" /><path clip-path=\"url(#clip090)\" d=\"M1410.29 28.5427 L1410.29 35.5912 Q1407.13 33.9709 1403.73 33.1607 Q1400.33 32.3505 1396.68 32.3505 Q1391.13 32.3505 1388.33 34.0519 Q1385.58 35.7533 1385.58 39.156 Q1385.58 41.7486 1387.57 43.2475 Q1389.55 44.7058 1395.55 46.0426 L1398.1 46.6097 Q1406.04 48.3111 1409.36 51.4303 Q1412.72 54.509 1412.72 60.0587 Q1412.72 66.3781 1407.7 70.0644 Q1402.72 73.7508 1393.97 73.7508 Q1390.32 73.7508 1386.35 73.0216 Q1382.42 72.3329 1378.05 70.9151 L1378.05 63.2184 Q1382.18 65.3654 1386.19 66.4591 Q1390.2 67.5124 1394.13 67.5124 Q1399.39 67.5124 1402.23 65.73 Q1405.06 63.9071 1405.06 60.6258 Q1405.06 57.5877 1403 55.9673 Q1400.97 54.3469 1394.05 52.8481 L1391.45 52.2405 Q1384.53 50.7821 1381.45 47.7845 Q1378.37 44.7463 1378.37 39.4801 Q1378.37 33.0797 1382.91 29.5959 Q1387.44 26.1121 1395.79 26.1121 Q1399.92 26.1121 1403.57 26.7198 Q1407.21 27.3274 1410.29 28.5427 Z\" fill=\"#000000\" fill-rule=\"evenodd\" fill-opacity=\"1\" /><circle clip-path=\"url(#clip092)\" cx=\"1777.02\" cy=\"698.744\" r=\"14\" fill=\"#009af9\" fill-rule=\"evenodd\" fill-opacity=\"1\" stroke=\"#000000\" stroke-opacity=\"1\" stroke-width=\"2\"/>\n",
       "<circle clip-path=\"url(#clip092)\" cx=\"1757.98\" cy=\"849.7\" r=\"14\" fill=\"#009af9\" fill-rule=\"evenodd\" fill-opacity=\"1\" stroke=\"#000000\" stroke-opacity=\"1\" stroke-width=\"2\"/>\n",
       "<circle clip-path=\"url(#clip092)\" cx=\"1777.13\" cy=\"654.593\" r=\"14\" fill=\"#009af9\" fill-rule=\"evenodd\" fill-opacity=\"1\" stroke=\"#000000\" stroke-opacity=\"1\" stroke-width=\"2\"/>\n",
       "<circle clip-path=\"url(#clip092)\" cx=\"1777.06\" cy=\"523.491\" r=\"14\" fill=\"#009af9\" fill-rule=\"evenodd\" fill-opacity=\"1\" stroke=\"#000000\" stroke-opacity=\"1\" stroke-width=\"2\"/>\n",
       "<circle clip-path=\"url(#clip092)\" cx=\"159.565\" cy=\"217.243\" r=\"14\" fill=\"#009af9\" fill-rule=\"evenodd\" fill-opacity=\"1\" stroke=\"#000000\" stroke-opacity=\"1\" stroke-width=\"2\"/>\n",
       "<circle clip-path=\"url(#clip092)\" cx=\"1776.72\" cy=\"849.7\" r=\"14\" fill=\"#009af9\" fill-rule=\"evenodd\" fill-opacity=\"1\" stroke=\"#000000\" stroke-opacity=\"1\" stroke-width=\"2\"/>\n",
       "<circle clip-path=\"url(#clip092)\" cx=\"1777.11\" cy=\"730.07\" r=\"14\" fill=\"#009af9\" fill-rule=\"evenodd\" fill-opacity=\"1\" stroke=\"#000000\" stroke-opacity=\"1\" stroke-width=\"2\"/>\n",
       "<circle clip-path=\"url(#clip092)\" cx=\"1777.08\" cy=\"518.178\" r=\"14\" fill=\"#009af9\" fill-rule=\"evenodd\" fill-opacity=\"1\" stroke=\"#000000\" stroke-opacity=\"1\" stroke-width=\"2\"/>\n",
       "<circle clip-path=\"url(#clip092)\" cx=\"1773.97\" cy=\"849.7\" r=\"14\" fill=\"#009af9\" fill-rule=\"evenodd\" fill-opacity=\"1\" stroke=\"#000000\" stroke-opacity=\"1\" stroke-width=\"2\"/>\n",
       "<circle clip-path=\"url(#clip092)\" cx=\"1421.91\" cy=\"849.7\" r=\"14\" fill=\"#009af9\" fill-rule=\"evenodd\" fill-opacity=\"1\" stroke=\"#000000\" stroke-opacity=\"1\" stroke-width=\"2\"/>\n",
       "<circle clip-path=\"url(#clip092)\" cx=\"1777.09\" cy=\"623.267\" r=\"14\" fill=\"#009af9\" fill-rule=\"evenodd\" fill-opacity=\"1\" stroke=\"#000000\" stroke-opacity=\"1\" stroke-width=\"2\"/>\n",
       "<circle clip-path=\"url(#clip092)\" cx=\"1692.08\" cy=\"849.7\" r=\"14\" fill=\"#009af9\" fill-rule=\"evenodd\" fill-opacity=\"1\" stroke=\"#000000\" stroke-opacity=\"1\" stroke-width=\"2\"/>\n",
       "<circle clip-path=\"url(#clip092)\" cx=\"352.511\" cy=\"849.7\" r=\"14\" fill=\"#009af9\" fill-rule=\"evenodd\" fill-opacity=\"1\" stroke=\"#000000\" stroke-opacity=\"1\" stroke-width=\"2\"/>\n",
       "<circle clip-path=\"url(#clip092)\" cx=\"1757.09\" cy=\"849.7\" r=\"14\" fill=\"#009af9\" fill-rule=\"evenodd\" fill-opacity=\"1\" stroke=\"#000000\" stroke-opacity=\"1\" stroke-width=\"2\"/>\n",
       "<circle clip-path=\"url(#clip092)\" cx=\"1335.74\" cy=\"849.7\" r=\"14\" fill=\"#009af9\" fill-rule=\"evenodd\" fill-opacity=\"1\" stroke=\"#000000\" stroke-opacity=\"1\" stroke-width=\"2\"/>\n",
       "<circle clip-path=\"url(#clip092)\" cx=\"1608.23\" cy=\"849.7\" r=\"14\" fill=\"#009af9\" fill-rule=\"evenodd\" fill-opacity=\"1\" stroke=\"#000000\" stroke-opacity=\"1\" stroke-width=\"2\"/>\n",
       "<circle clip-path=\"url(#clip092)\" cx=\"1777.04\" cy=\"534.963\" r=\"14\" fill=\"#009af9\" fill-rule=\"evenodd\" fill-opacity=\"1\" stroke=\"#000000\" stroke-opacity=\"1\" stroke-width=\"2\"/>\n",
       "<circle clip-path=\"url(#clip092)\" cx=\"1774.1\" cy=\"849.7\" r=\"14\" fill=\"#009af9\" fill-rule=\"evenodd\" fill-opacity=\"1\" stroke=\"#000000\" stroke-opacity=\"1\" stroke-width=\"2\"/>\n",
       "<circle clip-path=\"url(#clip092)\" cx=\"1776.71\" cy=\"849.7\" r=\"14\" fill=\"#009af9\" fill-rule=\"evenodd\" fill-opacity=\"1\" stroke=\"#000000\" stroke-opacity=\"1\" stroke-width=\"2\"/>\n",
       "<circle clip-path=\"url(#clip092)\" cx=\"281.3\" cy=\"486.852\" r=\"14\" fill=\"#009af9\" fill-rule=\"evenodd\" fill-opacity=\"1\" stroke=\"#000000\" stroke-opacity=\"1\" stroke-width=\"2\"/>\n",
       "<circle clip-path=\"url(#clip092)\" cx=\"1776.99\" cy=\"849.7\" r=\"14\" fill=\"#009af9\" fill-rule=\"evenodd\" fill-opacity=\"1\" stroke=\"#000000\" stroke-opacity=\"1\" stroke-width=\"2\"/>\n",
       "<circle clip-path=\"url(#clip092)\" cx=\"1777.01\" cy=\"730.07\" r=\"14\" fill=\"#009af9\" fill-rule=\"evenodd\" fill-opacity=\"1\" stroke=\"#000000\" stroke-opacity=\"1\" stroke-width=\"2\"/>\n",
       "</svg>\n"
      ]
     },
     "execution_count": 36,
     "metadata": {},
     "output_type": "execute_result"
    }
   ],
   "source": [
    "kmer_counts = Dict(corrected_observation_graph.vprops[v][:kmer] => corrected_observation_graph.vprops[v][:weight] for v in Graphs.vertices(corrected_observation_graph))\n",
    "total_observed_kmers = sum(values(kmer_counts))\n",
    "kmer_probabilities = Dict(k => v/total_observed_kmers for (k,v) in kmer_counts)\n",
    "scale = 250\n",
    "Mycelia.plot_kmer_frequency_spectra(values(kmer_counts), size=(2scale,scale), title=\"kmer frequencies\")"
   ]
  },
  {
   "cell_type": "code",
   "execution_count": 37,
   "metadata": {},
   "outputs": [],
   "source": [
    "# compare the new graph to the error-free graph to the error-corrected graph"
   ]
  },
  {
   "cell_type": "code",
   "execution_count": 38,
   "metadata": {},
   "outputs": [
    {
     "data": {
      "text/plain": [
       "0.8026315789473684"
      ]
     },
     "execution_count": 38,
     "metadata": {},
     "output_type": "execute_result"
    }
   ],
   "source": [
    "reference_kmers = keys(Mycelia.count_canonical_kmers(BioSequences.DNAMer{k}, reference_fasta_file))\n",
    "distance_to_reference_graph = 1 - LSHFunctions.jaccard(Set(reference_kmers), Set(keys(kmer_counts)))"
   ]
  },
  {
   "cell_type": "markdown",
   "metadata": {},
   "source": [
    "# another round"
   ]
  },
  {
   "cell_type": "code",
   "execution_count": 39,
   "metadata": {},
   "outputs": [
    {
     "name": "stdout",
     "output_type": "stream",
     "text": [
      "k = 13\n"
     ]
    },
    {
     "data": {
      "text/plain": [
       "13"
      ]
     },
     "execution_count": 39,
     "metadata": {},
     "output_type": "execute_result"
    }
   ],
   "source": [
    "k_index += 1\n",
    "k = k_options[k_index]\n",
    "@show k"
   ]
  },
  {
   "cell_type": "code",
   "execution_count": 40,
   "metadata": {},
   "outputs": [
    {
     "data": {
      "text/plain": [
       "\"/home/jovyan/2021-08-23/LENGTH-100-DEPTH-10000.k11.fastq\""
      ]
     },
     "execution_count": 40,
     "metadata": {},
     "output_type": "execute_result"
    }
   ],
   "source": [
    "observation_graph = corrected_observation_graph\n",
    "observations_file = corrected_fastq_file"
   ]
  },
  {
   "cell_type": "code",
   "execution_count": 41,
   "metadata": {},
   "outputs": [],
   "source": [
    "# step 1, hard-filter singletons"
   ]
  },
  {
   "cell_type": "code",
   "execution_count": 42,
   "metadata": {},
   "outputs": [
    {
     "data": {
      "text/plain": [
       "94-element Vector{Int64}:\n",
       "   5\n",
       "  12\n",
       "  20\n",
       "  24\n",
       "  30\n",
       "  33\n",
       "  36\n",
       "  42\n",
       "  44\n",
       "  51\n",
       "  52\n",
       "  56\n",
       "  58\n",
       "   ⋮\n",
       " 388\n",
       " 389\n",
       " 396\n",
       " 400\n",
       " 412\n",
       " 413\n",
       " 420\n",
       " 428\n",
       " 431\n",
       " 433\n",
       " 444\n",
       " 453"
      ]
     },
     "execution_count": 42,
     "metadata": {},
     "output_type": "execute_result"
    }
   ],
   "source": [
    "filtered_vertices = findall(v -> observation_graph.vprops[v][:weight] >= 5, Graphs.vertices(observation_graph))"
   ]
  },
  {
   "cell_type": "code",
   "execution_count": 43,
   "metadata": {},
   "outputs": [
    {
     "data": {
      "text/plain": [
       "({94, 186} directed Int64 metagraph with Float64 weights defined by :weight (default weight 1.0), [5, 12, 20, 24, 30, 33, 36, 42, 44, 51  …  396, 400, 412, 413, 420, 428, 431, 433, 444, 453])"
      ]
     },
     "execution_count": 43,
     "metadata": {},
     "output_type": "execute_result"
    }
   ],
   "source": [
    "filtered_observation_graph, vertex_map = Graphs.induced_subgraph(observation_graph, filtered_vertices)"
   ]
  },
  {
   "cell_type": "code",
   "execution_count": 44,
   "metadata": {},
   "outputs": [
    {
     "data": {
      "text/html": [
       "<img src=./../../../2021-08-23/LENGTH-100-DEPTH-10000.k11.fastq.k-13.filtered.gfa.svg>"
      ]
     },
     "metadata": {},
     "output_type": "display_data"
    }
   ],
   "source": [
    "# visualize\n",
    "gfa_file = observations_file * \".k-$k.filtered.gfa\"\n",
    "Mycelia.graph_to_gfa(filtered_observation_graph, gfa_file)\n",
    "\n",
    "run(`$(BANDAGE) image $(gfa_file) $(gfa_file).svg --depwidth .9 --deppower .9`)\n",
    "# --nodewidth <float> Average node width (0.5 to 1000, default: 5)\n",
    "# --depwidth <float>  Depth effect on width (0 to 1, default: 0.5)\n",
    "# --deppower <float>  Power of depth effect on width (0 to 1, default: 0.5)\n",
    "\n",
    "html_path_to_svg = \"./\" * repeat(\"../\", length(split(pwd(), '/')) - 3)\n",
    "html_path_to_svg *= replace(\"$(gfa_file).svg\", \"$(homedir())/\" => \"\")\n",
    "\n",
    "x = \"<img src=$(html_path_to_svg)>\"\n",
    "display(\"text/html\", x)\n",
    "# display(\"image/svg+xml\", read(\"$(gfa_file).svg\", String))"
   ]
  },
  {
   "cell_type": "code",
   "execution_count": 45,
   "metadata": {},
   "outputs": [
    {
     "data": {
      "image/svg+xml": [
       "<?xml version=\"1.0\" encoding=\"utf-8\"?>\n",
       "<svg xmlns=\"http://www.w3.org/2000/svg\" xmlns:xlink=\"http://www.w3.org/1999/xlink\" width=\"500\" height=\"250\" viewBox=\"0 0 2000 1000\">\n",
       "<defs>\n",
       "  <clipPath id=\"clip130\">\n",
       "    <rect x=\"0\" y=\"0\" width=\"2000\" height=\"1000\"/>\n",
       "  </clipPath>\n",
       "</defs>\n",
       "<path clip-path=\"url(#clip130)\" d=\"\n",
       "M0 1000 L2000 1000 L2000 0 L0 0  Z\n",
       "  \" fill=\"#ffffff\" fill-rule=\"evenodd\" fill-opacity=\"1\"/>\n",
       "<defs>\n",
       "  <clipPath id=\"clip131\">\n",
       "    <rect x=\"400\" y=\"0\" width=\"1401\" height=\"1000\"/>\n",
       "  </clipPath>\n",
       "</defs>\n",
       "<path clip-path=\"url(#clip130)\" d=\"\n",
       "M159.565 849.7 L1952.76 849.7 L1952.76 108.352 L159.565 108.352  Z\n",
       "  \" fill=\"#ffffff\" fill-rule=\"evenodd\" fill-opacity=\"1\"/>\n",
       "<defs>\n",
       "  <clipPath id=\"clip132\">\n",
       "    <rect x=\"159\" y=\"108\" width=\"1794\" height=\"742\"/>\n",
       "  </clipPath>\n",
       "</defs>\n",
       "<polyline clip-path=\"url(#clip132)\" style=\"stroke:#000000; stroke-linecap:butt; stroke-linejoin:round; stroke-width:2; stroke-opacity:0.1; fill:none\" points=\"\n",
       "  159.565,849.7 159.565,108.352 \n",
       "  \"/>\n",
       "<polyline clip-path=\"url(#clip132)\" style=\"stroke:#000000; stroke-linecap:butt; stroke-linejoin:round; stroke-width:2; stroke-opacity:0.1; fill:none\" points=\"\n",
       "  598.632,849.7 598.632,108.352 \n",
       "  \"/>\n",
       "<polyline clip-path=\"url(#clip132)\" style=\"stroke:#000000; stroke-linecap:butt; stroke-linejoin:round; stroke-width:2; stroke-opacity:0.1; fill:none\" points=\"\n",
       "  1037.7,849.7 1037.7,108.352 \n",
       "  \"/>\n",
       "<polyline clip-path=\"url(#clip132)\" style=\"stroke:#000000; stroke-linecap:butt; stroke-linejoin:round; stroke-width:2; stroke-opacity:0.1; fill:none\" points=\"\n",
       "  1476.77,849.7 1476.77,108.352 \n",
       "  \"/>\n",
       "<polyline clip-path=\"url(#clip132)\" style=\"stroke:#000000; stroke-linecap:butt; stroke-linejoin:round; stroke-width:2; stroke-opacity:0.1; fill:none\" points=\"\n",
       "  1915.83,849.7 1915.83,108.352 \n",
       "  \"/>\n",
       "<polyline clip-path=\"url(#clip130)\" style=\"stroke:#000000; stroke-linecap:butt; stroke-linejoin:round; stroke-width:4; stroke-opacity:1; fill:none\" points=\"\n",
       "  159.565,849.7 1952.76,849.7 \n",
       "  \"/>\n",
       "<polyline clip-path=\"url(#clip130)\" style=\"stroke:#000000; stroke-linecap:butt; stroke-linejoin:round; stroke-width:4; stroke-opacity:1; fill:none\" points=\"\n",
       "  159.565,849.7 159.565,830.802 \n",
       "  \"/>\n",
       "<polyline clip-path=\"url(#clip130)\" style=\"stroke:#000000; stroke-linecap:butt; stroke-linejoin:round; stroke-width:4; stroke-opacity:1; fill:none\" points=\"\n",
       "  598.632,849.7 598.632,830.802 \n",
       "  \"/>\n",
       "<polyline clip-path=\"url(#clip130)\" style=\"stroke:#000000; stroke-linecap:butt; stroke-linejoin:round; stroke-width:4; stroke-opacity:1; fill:none\" points=\"\n",
       "  1037.7,849.7 1037.7,830.802 \n",
       "  \"/>\n",
       "<polyline clip-path=\"url(#clip130)\" style=\"stroke:#000000; stroke-linecap:butt; stroke-linejoin:round; stroke-width:4; stroke-opacity:1; fill:none\" points=\"\n",
       "  1476.77,849.7 1476.77,830.802 \n",
       "  \"/>\n",
       "<polyline clip-path=\"url(#clip130)\" style=\"stroke:#000000; stroke-linecap:butt; stroke-linejoin:round; stroke-width:4; stroke-opacity:1; fill:none\" points=\"\n",
       "  1915.83,849.7 1915.83,830.802 \n",
       "  \"/>\n",
       "<path clip-path=\"url(#clip130)\" d=\"M136.95 875.691 Q133.338 875.691 131.51 879.255 Q129.704 882.797 129.704 889.927 Q129.704 897.033 131.51 900.598 Q133.338 904.139 136.95 904.139 Q140.584 904.139 142.389 900.598 Q144.218 897.033 144.218 889.927 Q144.218 882.797 142.389 879.255 Q140.584 875.691 136.95 875.691 M136.95 871.987 Q142.76 871.987 145.815 876.593 Q148.894 881.177 148.894 889.927 Q148.894 898.653 145.815 903.26 Q142.76 907.843 136.95 907.843 Q131.139 907.843 128.061 903.26 Q125.005 898.653 125.005 889.927 Q125.005 881.177 128.061 876.593 Q131.139 871.987 136.95 871.987 Z\" fill=\"#000000\" fill-rule=\"evenodd\" fill-opacity=\"1\" /><path clip-path=\"url(#clip130)\" d=\"M157.112 901.292 L161.996 901.292 L161.996 907.172 L157.112 907.172 L157.112 901.292 Z\" fill=\"#000000\" fill-rule=\"evenodd\" fill-opacity=\"1\" /><path clip-path=\"url(#clip130)\" d=\"M182.181 875.691 Q178.57 875.691 176.741 879.255 Q174.935 882.797 174.935 889.927 Q174.935 897.033 176.741 900.598 Q178.57 904.139 182.181 904.139 Q185.815 904.139 187.621 900.598 Q189.449 897.033 189.449 889.927 Q189.449 882.797 187.621 879.255 Q185.815 875.691 182.181 875.691 M182.181 871.987 Q187.991 871.987 191.047 876.593 Q194.125 881.177 194.125 889.927 Q194.125 898.653 191.047 903.26 Q187.991 907.843 182.181 907.843 Q176.371 907.843 173.292 903.26 Q170.236 898.653 170.236 889.927 Q170.236 881.177 173.292 876.593 Q176.371 871.987 182.181 871.987 Z\" fill=\"#000000\" fill-rule=\"evenodd\" fill-opacity=\"1\" /><path clip-path=\"url(#clip130)\" d=\"M570.368 903.237 L586.688 903.237 L586.688 907.172 L564.743 907.172 L564.743 903.237 Q567.405 900.482 571.989 895.852 Q576.595 891.2 577.776 889.857 Q580.021 887.334 580.901 885.598 Q581.803 883.839 581.803 882.149 Q581.803 879.394 579.859 877.658 Q577.938 875.922 574.836 875.922 Q572.637 875.922 570.183 876.686 Q567.752 877.45 564.975 879.001 L564.975 874.279 Q567.799 873.144 570.252 872.566 Q572.706 871.987 574.743 871.987 Q580.114 871.987 583.308 874.672 Q586.502 877.357 586.502 881.848 Q586.502 883.978 585.692 885.899 Q584.905 887.797 582.799 890.39 Q582.22 891.061 579.118 894.278 Q576.016 897.473 570.368 903.237 Z\" fill=\"#000000\" fill-rule=\"evenodd\" fill-opacity=\"1\" /><path clip-path=\"url(#clip130)\" d=\"M596.502 901.292 L601.387 901.292 L601.387 907.172 L596.502 907.172 L596.502 901.292 Z\" fill=\"#000000\" fill-rule=\"evenodd\" fill-opacity=\"1\" /><path clip-path=\"url(#clip130)\" d=\"M611.618 872.612 L629.974 872.612 L629.974 876.547 L615.9 876.547 L615.9 885.019 Q616.919 884.672 617.937 884.51 Q618.956 884.325 619.974 884.325 Q625.761 884.325 629.141 887.496 Q632.521 890.667 632.521 896.084 Q632.521 901.663 629.048 904.764 Q625.576 907.843 619.257 907.843 Q617.081 907.843 614.812 907.473 Q612.567 907.102 610.16 906.362 L610.16 901.663 Q612.243 902.797 614.465 903.352 Q616.687 903.908 619.164 903.908 Q623.169 903.908 625.507 901.802 Q627.845 899.695 627.845 896.084 Q627.845 892.473 625.507 890.366 Q623.169 888.26 619.164 888.26 Q617.289 888.26 615.414 888.677 Q613.562 889.093 611.618 889.973 L611.618 872.612 Z\" fill=\"#000000\" fill-rule=\"evenodd\" fill-opacity=\"1\" /><path clip-path=\"url(#clip130)\" d=\"M1004.86 872.612 L1023.22 872.612 L1023.22 876.547 L1009.15 876.547 L1009.15 885.019 Q1010.16 884.672 1011.18 884.51 Q1012.2 884.325 1013.22 884.325 Q1019.01 884.325 1022.39 887.496 Q1025.77 890.667 1025.77 896.084 Q1025.77 901.663 1022.29 904.764 Q1018.82 907.843 1012.5 907.843 Q1010.33 907.843 1008.06 907.473 Q1005.81 907.102 1003.4 906.362 L1003.4 901.663 Q1005.49 902.797 1007.71 903.352 Q1009.93 903.908 1012.41 903.908 Q1016.41 903.908 1018.75 901.802 Q1021.09 899.695 1021.09 896.084 Q1021.09 892.473 1018.75 890.366 Q1016.41 888.26 1012.41 888.26 Q1010.53 888.26 1008.66 888.677 Q1006.81 889.093 1004.86 889.973 L1004.86 872.612 Z\" fill=\"#000000\" fill-rule=\"evenodd\" fill-opacity=\"1\" /><path clip-path=\"url(#clip130)\" d=\"M1034.98 901.292 L1039.86 901.292 L1039.86 907.172 L1034.98 907.172 L1034.98 901.292 Z\" fill=\"#000000\" fill-rule=\"evenodd\" fill-opacity=\"1\" /><path clip-path=\"url(#clip130)\" d=\"M1060.05 875.691 Q1056.44 875.691 1054.61 879.255 Q1052.8 882.797 1052.8 889.927 Q1052.8 897.033 1054.61 900.598 Q1056.44 904.139 1060.05 904.139 Q1063.68 904.139 1065.49 900.598 Q1067.32 897.033 1067.32 889.927 Q1067.32 882.797 1065.49 879.255 Q1063.68 875.691 1060.05 875.691 M1060.05 871.987 Q1065.86 871.987 1068.91 876.593 Q1071.99 881.177 1071.99 889.927 Q1071.99 898.653 1068.91 903.26 Q1065.86 907.843 1060.05 907.843 Q1054.24 907.843 1051.16 903.26 Q1048.1 898.653 1048.1 889.927 Q1048.1 881.177 1051.16 876.593 Q1054.24 871.987 1060.05 871.987 Z\" fill=\"#000000\" fill-rule=\"evenodd\" fill-opacity=\"1\" /><path clip-path=\"url(#clip130)\" d=\"M1443.08 872.612 L1465.31 872.612 L1465.31 874.603 L1452.76 907.172 L1447.88 907.172 L1459.68 876.547 L1443.08 876.547 L1443.08 872.612 Z\" fill=\"#000000\" fill-rule=\"evenodd\" fill-opacity=\"1\" /><path clip-path=\"url(#clip130)\" d=\"M1474.43 901.292 L1479.31 901.292 L1479.31 907.172 L1474.43 907.172 L1474.43 901.292 Z\" fill=\"#000000\" fill-rule=\"evenodd\" fill-opacity=\"1\" /><path clip-path=\"url(#clip130)\" d=\"M1489.54 872.612 L1507.9 872.612 L1507.9 876.547 L1493.83 876.547 L1493.83 885.019 Q1494.84 884.672 1495.86 884.51 Q1496.88 884.325 1497.9 884.325 Q1503.69 884.325 1507.07 887.496 Q1510.45 890.667 1510.45 896.084 Q1510.45 901.663 1506.97 904.764 Q1503.5 907.843 1497.18 907.843 Q1495.01 907.843 1492.74 907.473 Q1490.49 907.102 1488.08 906.362 L1488.08 901.663 Q1490.17 902.797 1492.39 903.352 Q1494.61 903.908 1497.09 903.908 Q1501.09 903.908 1503.43 901.802 Q1505.77 899.695 1505.77 896.084 Q1505.77 892.473 1503.43 890.366 Q1501.09 888.26 1497.09 888.26 Q1495.21 888.26 1493.34 888.677 Q1491.49 889.093 1489.54 889.973 L1489.54 872.612 Z\" fill=\"#000000\" fill-rule=\"evenodd\" fill-opacity=\"1\" /><path clip-path=\"url(#clip130)\" d=\"M1867.9 903.237 L1875.54 903.237 L1875.54 876.871 L1867.23 878.538 L1867.23 874.279 L1875.5 872.612 L1880.17 872.612 L1880.17 903.237 L1887.81 903.237 L1887.81 907.172 L1867.9 907.172 L1867.9 903.237 Z\" fill=\"#000000\" fill-rule=\"evenodd\" fill-opacity=\"1\" /><path clip-path=\"url(#clip130)\" d=\"M1907.26 875.691 Q1903.64 875.691 1901.82 879.255 Q1900.01 882.797 1900.01 889.927 Q1900.01 897.033 1901.82 900.598 Q1903.64 904.139 1907.26 904.139 Q1910.89 904.139 1912.7 900.598 Q1914.52 897.033 1914.52 889.927 Q1914.52 882.797 1912.7 879.255 Q1910.89 875.691 1907.26 875.691 M1907.26 871.987 Q1913.07 871.987 1916.12 876.593 Q1919.2 881.177 1919.2 889.927 Q1919.2 898.653 1916.12 903.26 Q1913.07 907.843 1907.26 907.843 Q1901.45 907.843 1898.37 903.26 Q1895.31 898.653 1895.31 889.927 Q1895.31 881.177 1898.37 876.593 Q1901.45 871.987 1907.26 871.987 Z\" fill=\"#000000\" fill-rule=\"evenodd\" fill-opacity=\"1\" /><path clip-path=\"url(#clip130)\" d=\"M1927.42 901.292 L1932.3 901.292 L1932.3 907.172 L1927.42 907.172 L1927.42 901.292 Z\" fill=\"#000000\" fill-rule=\"evenodd\" fill-opacity=\"1\" /><path clip-path=\"url(#clip130)\" d=\"M1952.49 875.691 Q1948.88 875.691 1947.05 879.255 Q1945.24 882.797 1945.24 889.927 Q1945.24 897.033 1947.05 900.598 Q1948.88 904.139 1952.49 904.139 Q1956.12 904.139 1957.93 900.598 Q1959.76 897.033 1959.76 889.927 Q1959.76 882.797 1957.93 879.255 Q1956.12 875.691 1952.49 875.691 M1952.49 871.987 Q1958.3 871.987 1961.35 876.593 Q1964.43 881.177 1964.43 889.927 Q1964.43 898.653 1961.35 903.26 Q1958.3 907.843 1952.49 907.843 Q1946.68 907.843 1943.6 903.26 Q1940.54 898.653 1940.54 889.927 Q1940.54 881.177 1943.6 876.593 Q1946.68 871.987 1952.49 871.987 Z\" fill=\"#000000\" fill-rule=\"evenodd\" fill-opacity=\"1\" /><path clip-path=\"url(#clip130)\" d=\"M661.996 939.039 L667.852 939.039 L667.852 988.564 L661.996 988.564 L661.996 939.039 Z\" fill=\"#000000\" fill-rule=\"evenodd\" fill-opacity=\"1\" /><path clip-path=\"url(#clip130)\" d=\"M693.92 957.022 Q689.209 957.022 686.472 960.714 Q683.735 964.374 683.735 970.772 Q683.735 977.169 686.44 980.861 Q689.178 984.522 693.92 984.522 Q698.599 984.522 701.336 980.83 Q704.073 977.137 704.073 970.772 Q704.073 964.438 701.336 960.746 Q698.599 957.022 693.92 957.022 M693.92 952.057 Q701.559 952.057 705.919 957.022 Q710.28 961.987 710.28 970.772 Q710.28 979.525 705.919 984.522 Q701.559 989.487 693.92 989.487 Q686.249 989.487 681.889 984.522 Q677.56 979.525 677.56 970.772 Q677.56 961.987 681.889 957.022 Q686.249 952.057 693.92 952.057 Z\" fill=\"#000000\" fill-rule=\"evenodd\" fill-opacity=\"1\" /><path clip-path=\"url(#clip130)\" d=\"M743.445 970.326 Q743.445 963.96 740.803 960.459 Q738.194 956.958 733.451 956.958 Q728.74 956.958 726.099 960.459 Q723.489 963.96 723.489 970.326 Q723.489 976.66 726.099 980.161 Q728.74 983.662 733.451 983.662 Q738.194 983.662 740.803 980.161 Q743.445 976.66 743.445 970.326 M749.302 984.14 Q749.302 993.243 745.259 997.667 Q741.217 1002.12 732.878 1002.12 Q729.791 1002.12 727.054 1001.65 Q724.316 1001.2 721.738 1000.24 L721.738 994.548 Q724.316 995.948 726.831 996.616 Q729.345 997.285 731.955 997.285 Q737.716 997.285 740.581 994.261 Q743.445 991.269 743.445 985.19 L743.445 982.294 Q741.631 985.445 738.798 987.004 Q735.966 988.564 732.019 988.564 Q725.462 988.564 721.452 983.567 Q717.441 978.57 717.441 970.326 Q717.441 962.051 721.452 957.054 Q725.462 952.057 732.019 952.057 Q735.966 952.057 738.798 953.616 Q741.631 955.176 743.445 958.327 L743.445 952.916 L749.302 952.916 L749.302 984.14 Z\" fill=\"#000000\" fill-rule=\"evenodd\" fill-opacity=\"1\" /><path clip-path=\"url(#clip130)\" d=\"M775.433 939.102 Q771.168 946.423 769.099 953.584 Q767.03 960.746 767.03 968.098 Q767.03 975.45 769.099 982.676 Q771.2 989.869 775.433 997.158 L770.34 997.158 Q765.566 989.678 763.179 982.453 Q760.824 975.228 760.824 968.098 Q760.824 961 763.179 953.807 Q765.534 946.614 770.34 939.102 L775.433 939.102 Z\" fill=\"#000000\" fill-rule=\"evenodd\" fill-opacity=\"1\" /><path clip-path=\"url(#clip130)\" d=\"M800.609 957.022 Q795.899 957.022 793.161 960.714 Q790.424 964.374 790.424 970.772 Q790.424 977.169 793.13 980.861 Q795.867 984.522 800.609 984.522 Q805.288 984.522 808.025 980.83 Q810.763 977.137 810.763 970.772 Q810.763 964.438 808.025 960.746 Q805.288 957.022 800.609 957.022 M800.609 952.057 Q808.248 952.057 812.609 957.022 Q816.969 961.987 816.969 970.772 Q816.969 979.525 812.609 984.522 Q808.248 989.487 800.609 989.487 Q792.939 989.487 788.578 984.522 Q784.249 979.525 784.249 970.772 Q784.249 961.987 788.578 957.022 Q792.939 952.057 800.609 952.057 Z\" fill=\"#000000\" fill-rule=\"evenodd\" fill-opacity=\"1\" /><path clip-path=\"url(#clip130)\" d=\"M852.267 970.772 Q852.267 964.311 849.593 960.65 Q846.952 956.958 842.305 956.958 Q837.658 956.958 834.984 960.65 Q832.342 964.311 832.342 970.772 Q832.342 977.233 834.984 980.925 Q837.658 984.585 842.305 984.585 Q846.952 984.585 849.593 980.925 Q852.267 977.233 852.267 970.772 M832.342 958.327 Q834.188 955.144 836.989 953.616 Q839.822 952.057 843.737 952.057 Q850.23 952.057 854.272 957.213 Q858.346 962.369 858.346 970.772 Q858.346 979.174 854.272 984.331 Q850.23 989.487 843.737 989.487 Q839.822 989.487 836.989 987.959 Q834.188 986.4 832.342 983.217 L832.342 988.564 L826.454 988.564 L826.454 939.039 L832.342 939.039 L832.342 958.327 Z\" fill=\"#000000\" fill-rule=\"evenodd\" fill-opacity=\"1\" /><path clip-path=\"url(#clip130)\" d=\"M890.779 953.966 L890.779 959.504 Q888.297 958.231 885.623 957.595 Q882.95 956.958 880.085 956.958 Q875.725 956.958 873.528 958.295 Q871.364 959.632 871.364 962.305 Q871.364 964.342 872.924 965.52 Q874.483 966.666 879.194 967.716 L881.199 968.162 Q887.438 969.499 890.047 971.949 Q892.689 974.368 892.689 978.729 Q892.689 983.694 888.742 986.59 Q884.828 989.487 877.953 989.487 Q875.088 989.487 871.969 988.914 Q868.881 988.373 865.444 987.259 L865.444 981.211 Q868.69 982.898 871.842 983.758 Q874.993 984.585 878.08 984.585 Q882.218 984.585 884.446 983.185 Q886.674 981.753 886.674 979.174 Q886.674 976.787 885.05 975.514 Q883.459 974.241 878.016 973.063 L875.979 972.586 Q870.537 971.44 868.118 969.085 Q865.699 966.698 865.699 962.56 Q865.699 957.531 869.263 954.794 Q872.828 952.057 879.385 952.057 Q882.631 952.057 885.496 952.534 Q888.361 953.011 890.779 953.966 Z\" fill=\"#000000\" fill-rule=\"evenodd\" fill-opacity=\"1\" /><path clip-path=\"url(#clip130)\" d=\"M932.507 969.276 L932.507 972.14 L905.58 972.14 Q905.962 978.188 909.208 981.371 Q912.487 984.522 918.311 984.522 Q921.685 984.522 924.836 983.694 Q928.019 982.867 931.138 981.211 L931.138 986.75 Q927.987 988.086 924.677 988.787 Q921.367 989.487 917.961 989.487 Q909.431 989.487 904.434 984.522 Q899.469 979.556 899.469 971.09 Q899.469 962.337 904.179 957.213 Q908.922 952.057 916.943 952.057 Q924.136 952.057 928.305 956.703 Q932.507 961.319 932.507 969.276 M926.65 967.557 Q926.587 962.751 923.945 959.886 Q921.335 957.022 917.006 957.022 Q912.105 957.022 909.145 959.791 Q906.216 962.56 905.771 967.589 L926.65 967.557 Z\" fill=\"#000000\" fill-rule=\"evenodd\" fill-opacity=\"1\" /><path clip-path=\"url(#clip130)\" d=\"M962.776 958.39 Q961.789 957.817 960.611 957.563 Q959.465 957.276 958.065 957.276 Q953.1 957.276 950.426 960.523 Q947.784 963.738 947.784 969.785 L947.784 988.564 L941.896 988.564 L941.896 952.916 L947.784 952.916 L947.784 958.454 Q949.63 955.208 952.591 953.648 Q955.551 952.057 959.784 952.057 Q960.389 952.057 961.121 952.152 Q961.853 952.216 962.744 952.375 L962.776 958.39 Z\" fill=\"#000000\" fill-rule=\"evenodd\" fill-opacity=\"1\" /><path clip-path=\"url(#clip130)\" d=\"M964.717 952.916 L970.924 952.916 L982.064 982.835 L993.204 952.916 L999.41 952.916 L986.042 988.564 L978.085 988.564 L964.717 952.916 Z\" fill=\"#000000\" fill-rule=\"evenodd\" fill-opacity=\"1\" /><path clip-path=\"url(#clip130)\" d=\"M1037.99 969.276 L1037.99 972.14 L1011.06 972.14 Q1011.44 978.188 1014.69 981.371 Q1017.97 984.522 1023.79 984.522 Q1027.16 984.522 1030.32 983.694 Q1033.5 982.867 1036.62 981.211 L1036.62 986.75 Q1033.47 988.086 1030.16 988.787 Q1026.85 989.487 1023.44 989.487 Q1014.91 989.487 1009.91 984.522 Q1004.95 979.556 1004.95 971.09 Q1004.95 962.337 1009.66 957.213 Q1014.4 952.057 1022.42 952.057 Q1029.62 952.057 1033.79 956.703 Q1037.99 961.319 1037.99 969.276 M1032.13 967.557 Q1032.07 962.751 1029.42 959.886 Q1026.81 957.022 1022.49 957.022 Q1017.58 957.022 1014.62 959.791 Q1011.7 962.56 1011.25 967.589 L1032.13 967.557 Z\" fill=\"#000000\" fill-rule=\"evenodd\" fill-opacity=\"1\" /><path clip-path=\"url(#clip130)\" d=\"M1071.06 958.327 L1071.06 939.039 L1076.91 939.039 L1076.91 988.564 L1071.06 988.564 L1071.06 983.217 Q1069.21 986.4 1066.38 987.959 Q1063.58 989.487 1059.63 989.487 Q1053.17 989.487 1049.09 984.331 Q1045.05 979.174 1045.05 970.772 Q1045.05 962.369 1049.09 957.213 Q1053.17 952.057 1059.63 952.057 Q1063.58 952.057 1066.38 953.616 Q1069.21 955.144 1071.06 958.327 M1051.1 970.772 Q1051.1 977.233 1053.74 980.925 Q1056.42 984.585 1061.06 984.585 Q1065.71 984.585 1068.38 980.925 Q1071.06 977.233 1071.06 970.772 Q1071.06 964.311 1068.38 960.65 Q1065.71 956.958 1061.06 956.958 Q1056.42 956.958 1053.74 960.65 Q1051.1 964.311 1051.1 970.772 Z\" fill=\"#000000\" fill-rule=\"evenodd\" fill-opacity=\"1\" /><path clip-path=\"url(#clip130)\" d=\"M1127.74 939.039 L1127.74 943.908 L1122.14 943.908 Q1118.99 943.908 1117.75 945.182 Q1116.54 946.455 1116.54 949.765 L1116.54 952.916 L1126.18 952.916 L1126.18 957.467 L1116.54 957.467 L1116.54 988.564 L1110.65 988.564 L1110.65 957.467 L1105.05 957.467 L1105.05 952.916 L1110.65 952.916 L1110.65 950.433 Q1110.65 944.481 1113.42 941.776 Q1116.19 939.039 1122.2 939.039 L1127.74 939.039 Z\" fill=\"#000000\" fill-rule=\"evenodd\" fill-opacity=\"1\" /><path clip-path=\"url(#clip130)\" d=\"M1153.3 958.39 Q1152.31 957.817 1151.14 957.563 Q1149.99 957.276 1148.59 957.276 Q1143.63 957.276 1140.95 960.523 Q1138.31 963.738 1138.31 969.785 L1138.31 988.564 L1132.42 988.564 L1132.42 952.916 L1138.31 952.916 L1138.31 958.454 Q1140.16 955.208 1143.12 953.648 Q1146.08 952.057 1150.31 952.057 Q1150.91 952.057 1151.65 952.152 Q1152.38 952.216 1153.27 952.375 L1153.3 958.39 Z\" fill=\"#000000\" fill-rule=\"evenodd\" fill-opacity=\"1\" /><path clip-path=\"url(#clip130)\" d=\"M1188.5 969.276 L1188.5 972.14 L1161.58 972.14 Q1161.96 978.188 1165.21 981.371 Q1168.48 984.522 1174.31 984.522 Q1177.68 984.522 1180.83 983.694 Q1184.02 982.867 1187.13 981.211 L1187.13 986.75 Q1183.98 988.086 1180.67 988.787 Q1177.36 989.487 1173.96 989.487 Q1165.43 989.487 1160.43 984.522 Q1155.47 979.556 1155.47 971.09 Q1155.47 962.337 1160.18 957.213 Q1164.92 952.057 1172.94 952.057 Q1180.13 952.057 1184.3 956.703 Q1188.5 961.319 1188.5 969.276 M1182.65 967.557 Q1182.58 962.751 1179.94 959.886 Q1177.33 957.022 1173 957.022 Q1168.1 957.022 1165.14 959.791 Q1162.21 962.56 1161.77 967.589 L1182.65 967.557 Z\" fill=\"#000000\" fill-rule=\"evenodd\" fill-opacity=\"1\" /><path clip-path=\"url(#clip130)\" d=\"M1201.62 970.772 Q1201.62 977.233 1204.26 980.925 Q1206.93 984.585 1211.58 984.585 Q1216.23 984.585 1218.9 980.925 Q1221.57 977.233 1221.57 970.772 Q1221.57 964.311 1218.9 960.65 Q1216.23 956.958 1211.58 956.958 Q1206.93 956.958 1204.26 960.65 Q1201.62 964.311 1201.62 970.772 M1221.57 983.217 Q1219.73 986.4 1216.89 987.959 Q1214.09 989.487 1210.15 989.487 Q1203.69 989.487 1199.61 984.331 Q1195.57 979.174 1195.57 970.772 Q1195.57 962.369 1199.61 957.213 Q1203.69 952.057 1210.15 952.057 Q1214.09 952.057 1216.89 953.616 Q1219.73 955.144 1221.57 958.327 L1221.57 952.916 L1227.43 952.916 L1227.43 1002.12 L1221.57 1002.12 L1221.57 983.217 Z\" fill=\"#000000\" fill-rule=\"evenodd\" fill-opacity=\"1\" /><path clip-path=\"url(#clip130)\" d=\"M1238.89 974.496 L1238.89 952.916 L1244.74 952.916 L1244.74 974.273 Q1244.74 979.334 1246.72 981.88 Q1248.69 984.394 1252.64 984.394 Q1257.38 984.394 1260.12 981.371 Q1262.89 978.347 1262.89 973.127 L1262.89 952.916 L1268.74 952.916 L1268.74 988.564 L1262.89 988.564 L1262.89 983.089 Q1260.75 986.336 1257.92 987.927 Q1255.12 989.487 1251.4 989.487 Q1245.25 989.487 1242.07 985.667 Q1238.89 981.848 1238.89 974.496 M1253.62 952.057 L1253.62 952.057 Z\" fill=\"#000000\" fill-rule=\"evenodd\" fill-opacity=\"1\" /><path clip-path=\"url(#clip130)\" d=\"M1311.3 969.276 L1311.3 972.14 L1284.37 972.14 Q1284.75 978.188 1288 981.371 Q1291.28 984.522 1297.1 984.522 Q1300.48 984.522 1303.63 983.694 Q1306.81 982.867 1309.93 981.211 L1309.93 986.75 Q1306.78 988.086 1303.47 988.787 Q1300.16 989.487 1296.75 989.487 Q1288.22 989.487 1283.23 984.522 Q1278.26 979.556 1278.26 971.09 Q1278.26 962.337 1282.97 957.213 Q1287.71 952.057 1295.73 952.057 Q1302.93 952.057 1307.1 956.703 Q1311.3 961.319 1311.3 969.276 M1305.44 967.557 Q1305.38 962.751 1302.74 959.886 Q1300.13 957.022 1295.8 957.022 Q1290.9 957.022 1287.94 959.791 Q1285.01 962.56 1284.56 967.589 L1305.44 967.557 Z\" fill=\"#000000\" fill-rule=\"evenodd\" fill-opacity=\"1\" /><path clip-path=\"url(#clip130)\" d=\"M1350.54 967.048 L1350.54 988.564 L1344.69 988.564 L1344.69 967.239 Q1344.69 962.178 1342.71 959.664 Q1340.74 957.149 1336.79 957.149 Q1332.05 957.149 1329.31 960.173 Q1326.58 963.197 1326.58 968.416 L1326.58 988.564 L1320.69 988.564 L1320.69 952.916 L1326.58 952.916 L1326.58 958.454 Q1328.68 955.239 1331.51 953.648 Q1334.37 952.057 1338.1 952.057 Q1344.24 952.057 1347.39 955.876 Q1350.54 959.664 1350.54 967.048 Z\" fill=\"#000000\" fill-rule=\"evenodd\" fill-opacity=\"1\" /><path clip-path=\"url(#clip130)\" d=\"M1387.88 954.285 L1387.88 959.759 Q1385.39 958.39 1382.88 957.722 Q1380.4 957.022 1377.85 957.022 Q1372.15 957.022 1369 960.65 Q1365.85 964.247 1365.85 970.772 Q1365.85 977.297 1369 980.925 Q1372.15 984.522 1377.85 984.522 Q1380.4 984.522 1382.88 983.853 Q1385.39 983.153 1387.88 981.784 L1387.88 987.195 Q1385.43 988.341 1382.78 988.914 Q1380.18 989.487 1377.21 989.487 Q1369.16 989.487 1364.42 984.426 Q1359.68 979.365 1359.68 970.772 Q1359.68 962.051 1364.45 957.054 Q1369.26 952.057 1377.6 952.057 Q1380.3 952.057 1382.88 952.629 Q1385.46 953.171 1387.88 954.285 Z\" fill=\"#000000\" fill-rule=\"evenodd\" fill-opacity=\"1\" /><path clip-path=\"url(#clip130)\" d=\"M1412.89 991.874 Q1410.41 998.24 1408.06 1000.18 Q1405.7 1002.12 1401.75 1002.12 L1397.08 1002.12 L1397.08 997.221 L1400.51 997.221 Q1402.93 997.221 1404.27 996.075 Q1405.61 994.93 1407.23 990.665 L1408.28 987.991 L1393.86 952.916 L1400.07 952.916 L1411.21 980.798 L1422.35 952.916 L1428.55 952.916 L1412.89 991.874 Z\" fill=\"#000000\" fill-rule=\"evenodd\" fill-opacity=\"1\" /><path clip-path=\"url(#clip130)\" d=\"M1435.72 939.102 L1440.81 939.102 Q1445.58 946.614 1447.94 953.807 Q1450.33 961 1450.33 968.098 Q1450.33 975.228 1447.94 982.453 Q1445.58 989.678 1440.81 997.158 L1435.72 997.158 Q1439.95 989.869 1442.02 982.676 Q1444.12 975.45 1444.12 968.098 Q1444.12 960.746 1442.02 953.584 Q1439.95 946.423 1435.72 939.102 Z\" fill=\"#000000\" fill-rule=\"evenodd\" fill-opacity=\"1\" /><polyline clip-path=\"url(#clip132)\" style=\"stroke:#000000; stroke-linecap:butt; stroke-linejoin:round; stroke-width:2; stroke-opacity:0.1; fill:none\" points=\"\n",
       "  159.565,849.7 1952.76,849.7 \n",
       "  \"/>\n",
       "<polyline clip-path=\"url(#clip132)\" style=\"stroke:#000000; stroke-linecap:butt; stroke-linejoin:round; stroke-width:2; stroke-opacity:0.1; fill:none\" points=\"\n",
       "  159.565,666.403 1952.76,666.403 \n",
       "  \"/>\n",
       "<polyline clip-path=\"url(#clip132)\" style=\"stroke:#000000; stroke-linecap:butt; stroke-linejoin:round; stroke-width:2; stroke-opacity:0.1; fill:none\" points=\"\n",
       "  159.565,483.106 1952.76,483.106 \n",
       "  \"/>\n",
       "<polyline clip-path=\"url(#clip132)\" style=\"stroke:#000000; stroke-linecap:butt; stroke-linejoin:round; stroke-width:2; stroke-opacity:0.1; fill:none\" points=\"\n",
       "  159.565,299.81 1952.76,299.81 \n",
       "  \"/>\n",
       "<polyline clip-path=\"url(#clip132)\" style=\"stroke:#000000; stroke-linecap:butt; stroke-linejoin:round; stroke-width:2; stroke-opacity:0.1; fill:none\" points=\"\n",
       "  159.565,116.513 1952.76,116.513 \n",
       "  \"/>\n",
       "<polyline clip-path=\"url(#clip130)\" style=\"stroke:#000000; stroke-linecap:butt; stroke-linejoin:round; stroke-width:4; stroke-opacity:1; fill:none\" points=\"\n",
       "  159.565,849.7 159.565,108.352 \n",
       "  \"/>\n",
       "<polyline clip-path=\"url(#clip130)\" style=\"stroke:#000000; stroke-linecap:butt; stroke-linejoin:round; stroke-width:4; stroke-opacity:1; fill:none\" points=\"\n",
       "  159.565,849.7 178.463,849.7 \n",
       "  \"/>\n",
       "<polyline clip-path=\"url(#clip130)\" style=\"stroke:#000000; stroke-linecap:butt; stroke-linejoin:round; stroke-width:4; stroke-opacity:1; fill:none\" points=\"\n",
       "  159.565,666.403 178.463,666.403 \n",
       "  \"/>\n",
       "<polyline clip-path=\"url(#clip130)\" style=\"stroke:#000000; stroke-linecap:butt; stroke-linejoin:round; stroke-width:4; stroke-opacity:1; fill:none\" points=\"\n",
       "  159.565,483.106 178.463,483.106 \n",
       "  \"/>\n",
       "<polyline clip-path=\"url(#clip130)\" style=\"stroke:#000000; stroke-linecap:butt; stroke-linejoin:round; stroke-width:4; stroke-opacity:1; fill:none\" points=\"\n",
       "  159.565,299.81 178.463,299.81 \n",
       "  \"/>\n",
       "<polyline clip-path=\"url(#clip130)\" style=\"stroke:#000000; stroke-linecap:butt; stroke-linejoin:round; stroke-width:4; stroke-opacity:1; fill:none\" points=\"\n",
       "  159.565,116.513 178.463,116.513 \n",
       "  \"/>\n",
       "<path clip-path=\"url(#clip130)\" d=\"M117.621 835.499 Q114.01 835.499 112.181 839.063 Q110.375 842.605 110.375 849.735 Q110.375 856.841 112.181 860.406 Q114.01 863.947 117.621 863.947 Q121.255 863.947 123.061 860.406 Q124.889 856.841 124.889 849.735 Q124.889 842.605 123.061 839.063 Q121.255 835.499 117.621 835.499 M117.621 831.795 Q123.431 831.795 126.487 836.401 Q129.565 840.985 129.565 849.735 Q129.565 858.461 126.487 863.068 Q123.431 867.651 117.621 867.651 Q111.811 867.651 108.732 863.068 Q105.676 858.461 105.676 849.735 Q105.676 840.985 108.732 836.401 Q111.811 831.795 117.621 831.795 Z\" fill=\"#000000\" fill-rule=\"evenodd\" fill-opacity=\"1\" /><path clip-path=\"url(#clip130)\" d=\"M109.658 679.748 L117.297 679.748 L117.297 653.382 L108.987 655.049 L108.987 650.79 L117.25 649.123 L121.926 649.123 L121.926 679.748 L129.565 679.748 L129.565 683.683 L109.658 683.683 L109.658 679.748 Z\" fill=\"#000000\" fill-rule=\"evenodd\" fill-opacity=\"1\" /><path clip-path=\"url(#clip130)\" d=\"M113.246 496.451 L129.565 496.451 L129.565 500.386 L107.621 500.386 L107.621 496.451 Q110.283 493.697 114.866 489.067 Q119.473 484.414 120.653 483.072 Q122.899 480.549 123.778 478.812 Q124.681 477.053 124.681 475.363 Q124.681 472.609 122.737 470.873 Q120.815 469.137 117.713 469.137 Q115.514 469.137 113.061 469.9 Q110.63 470.664 107.852 472.215 L107.852 467.493 Q110.676 466.359 113.13 465.78 Q115.584 465.201 117.621 465.201 Q122.991 465.201 126.186 467.887 Q129.38 470.572 129.38 475.062 Q129.38 477.192 128.57 479.113 Q127.783 481.011 125.676 483.604 Q125.098 484.275 121.996 487.493 Q118.894 490.687 113.246 496.451 Z\" fill=\"#000000\" fill-rule=\"evenodd\" fill-opacity=\"1\" /><path clip-path=\"url(#clip130)\" d=\"M122.436 298.456 Q125.792 299.173 127.667 301.442 Q129.565 303.71 129.565 307.043 Q129.565 312.159 126.047 314.96 Q122.528 317.761 116.047 317.761 Q113.871 317.761 111.556 317.321 Q109.264 316.904 106.811 316.048 L106.811 311.534 Q108.755 312.668 111.07 313.247 Q113.385 313.826 115.908 313.826 Q120.306 313.826 122.598 312.09 Q124.912 310.354 124.912 307.043 Q124.912 303.988 122.76 302.275 Q120.63 300.539 116.811 300.539 L112.783 300.539 L112.783 296.696 L116.996 296.696 Q120.445 296.696 122.274 295.331 Q124.102 293.942 124.102 291.349 Q124.102 288.687 122.204 287.275 Q120.329 285.84 116.811 285.84 Q114.889 285.84 112.69 286.256 Q110.491 286.673 107.852 287.553 L107.852 283.386 Q110.514 282.645 112.829 282.275 Q115.167 281.905 117.227 281.905 Q122.551 281.905 125.653 284.335 Q128.755 286.743 128.755 290.863 Q128.755 293.733 127.112 295.724 Q125.468 297.692 122.436 298.456 Z\" fill=\"#000000\" fill-rule=\"evenodd\" fill-opacity=\"1\" /><path clip-path=\"url(#clip130)\" d=\"M119.982 103.307 L108.176 121.756 L119.982 121.756 L119.982 103.307 M118.755 99.2329 L124.635 99.2329 L124.635 121.756 L129.565 121.756 L129.565 125.645 L124.635 125.645 L124.635 133.793 L119.982 133.793 L119.982 125.645 L104.38 125.645 L104.38 121.131 L118.755 99.2329 Z\" fill=\"#000000\" fill-rule=\"evenodd\" fill-opacity=\"1\" /><path clip-path=\"url(#clip130)\" d=\"M10.599 728.769 L10.599 722.912 L60.1242 722.912 L60.1242 728.769 L10.599 728.769 Z\" fill=\"#000000\" fill-rule=\"evenodd\" fill-opacity=\"1\" /><path clip-path=\"url(#clip130)\" d=\"M28.5821 696.845 Q28.5821 701.555 32.2742 704.292 Q35.9345 707.03 42.332 707.03 Q48.7295 707.03 52.4217 704.324 Q56.0819 701.587 56.0819 696.845 Q56.0819 692.166 52.3898 689.429 Q48.6977 686.691 42.332 686.691 Q35.9981 686.691 32.306 689.429 Q28.5821 692.166 28.5821 696.845 M23.6168 696.845 Q23.6168 689.206 28.5821 684.845 Q33.5473 680.485 42.332 680.485 Q51.0849 680.485 56.0819 684.845 Q61.0472 689.206 61.0472 696.845 Q61.0472 704.515 56.0819 708.876 Q51.0849 713.204 42.332 713.204 Q33.5473 713.204 28.5821 708.876 Q23.6168 704.515 23.6168 696.845 Z\" fill=\"#000000\" fill-rule=\"evenodd\" fill-opacity=\"1\" /><path clip-path=\"url(#clip130)\" d=\"M41.8864 647.319 Q35.5207 647.319 32.0196 649.961 Q28.5184 652.571 28.5184 657.314 Q28.5184 662.024 32.0196 664.666 Q35.5207 667.276 41.8864 667.276 Q48.2203 667.276 51.7214 664.666 Q55.2226 662.024 55.2226 657.314 Q55.2226 652.571 51.7214 649.961 Q48.2203 647.319 41.8864 647.319 M55.7 641.463 Q64.803 641.463 69.2271 645.505 Q73.6831 649.547 73.6831 657.886 Q73.6831 660.974 73.2057 663.711 Q72.7601 666.448 71.8052 669.026 L66.1079 669.026 Q67.5084 666.448 68.1768 663.934 Q68.8452 661.419 68.8452 658.809 Q68.8452 653.048 65.8215 650.184 Q62.8296 647.319 56.7503 647.319 L53.8539 647.319 Q57.005 649.134 58.5646 651.966 Q60.1242 654.799 60.1242 658.746 Q60.1242 665.302 55.1271 669.313 Q50.13 673.323 41.8864 673.323 Q33.611 673.323 28.6139 669.313 Q23.6168 665.302 23.6168 658.746 Q23.6168 654.799 25.1764 651.966 Q26.736 649.134 29.8871 647.319 L24.4762 647.319 L24.4762 641.463 L55.7 641.463 Z\" fill=\"#000000\" fill-rule=\"evenodd\" fill-opacity=\"1\" /><path clip-path=\"url(#clip130)\" d=\"M10.6626 615.332 Q17.9832 619.597 25.1446 621.666 Q32.306 623.734 39.6584 623.734 Q47.0108 623.734 54.2359 621.666 Q61.4291 619.565 68.7179 615.332 L68.7179 620.424 Q61.2382 625.199 54.0131 627.586 Q46.788 629.941 39.6584 629.941 Q32.5606 629.941 25.3674 627.586 Q18.1742 625.23 10.6626 620.424 L10.6626 615.332 Z\" fill=\"#000000\" fill-rule=\"evenodd\" fill-opacity=\"1\" /><path clip-path=\"url(#clip130)\" d=\"M31.4466 576.787 L31.4466 586.049 L42.0774 588.723 L42.0774 579.397 L31.4466 576.787 M13.3362 581.562 L26.5451 584.872 L26.5451 575.578 L13.3362 572.236 L13.3362 567.143 L26.5451 570.422 L26.5451 560.491 L31.4466 560.491 L31.4466 571.663 L42.0774 574.273 L42.0774 564.151 L46.9471 564.151 L46.9471 575.514 L60.1242 578.824 L60.1242 583.917 L46.9471 580.639 L46.9471 589.964 L60.1242 593.243 L60.1242 598.367 L46.9471 595.057 L46.9471 605.083 L42.0774 605.083 L42.0774 593.879 L31.4466 591.206 L31.4466 601.454 L26.5451 601.454 L26.5451 589.964 L13.3362 586.718 L13.3362 581.562 Z\" fill=\"#000000\" fill-rule=\"evenodd\" fill-opacity=\"1\" /><path clip-path=\"url(#clip130)\" d=\"M28.5821 514.817 Q28.5821 519.528 32.2742 522.265 Q35.9345 525.002 42.332 525.002 Q48.7295 525.002 52.4217 522.297 Q56.0819 519.56 56.0819 514.817 Q56.0819 510.138 52.3898 507.401 Q48.6977 504.664 42.332 504.664 Q35.9981 504.664 32.306 507.401 Q28.5821 510.138 28.5821 514.817 M23.6168 514.817 Q23.6168 507.178 28.5821 502.818 Q33.5473 498.457 42.332 498.457 Q51.0849 498.457 56.0819 502.818 Q61.0472 507.178 61.0472 514.817 Q61.0472 522.488 56.0819 526.848 Q51.0849 531.177 42.332 531.177 Q33.5473 531.177 28.5821 526.848 Q23.6168 522.488 23.6168 514.817 Z\" fill=\"#000000\" fill-rule=\"evenodd\" fill-opacity=\"1\" /><path clip-path=\"url(#clip130)\" d=\"M10.599 470.703 L15.4687 470.703 L15.4687 476.305 Q15.4687 479.456 16.7419 480.697 Q18.015 481.906 21.3252 481.906 L24.4762 481.906 L24.4762 472.262 L29.0277 472.262 L29.0277 481.906 L60.1242 481.906 L60.1242 487.795 L29.0277 487.795 L29.0277 493.397 L24.4762 493.397 L24.4762 487.795 L21.9936 487.795 Q16.0416 487.795 13.3362 485.026 Q10.599 482.257 10.599 476.241 L10.599 470.703 Z\" fill=\"#000000\" fill-rule=\"evenodd\" fill-opacity=\"1\" /><path clip-path=\"url(#clip130)\" d=\"M10.599 445.304 L10.599 439.415 L39.8494 439.415 L24.4762 421.942 L24.4762 414.462 L41.1544 433.368 L60.1242 413.666 L60.1242 421.305 L42.7139 439.415 L60.1242 439.415 L60.1242 445.304 L10.599 445.304 Z\" fill=\"#000000\" fill-rule=\"evenodd\" fill-opacity=\"1\" /><path clip-path=\"url(#clip130)\" d=\"M31.3193 379.578 Q27.3726 377.382 25.4947 374.326 Q23.6168 371.27 23.6168 367.133 Q23.6168 361.563 27.5317 358.539 Q31.4148 355.515 38.6081 355.515 L60.1242 355.515 L60.1242 361.404 L38.799 361.404 Q33.6746 361.404 31.192 363.218 Q28.7094 365.032 28.7094 368.756 Q28.7094 373.308 31.7331 375.949 Q34.7568 378.591 39.9767 378.591 L60.1242 378.591 L60.1242 384.479 L38.799 384.479 Q33.6428 384.479 31.192 386.294 Q28.7094 388.108 28.7094 391.895 Q28.7094 396.383 31.7649 399.025 Q34.7886 401.667 39.9767 401.667 L60.1242 401.667 L60.1242 407.555 L24.4762 407.555 L24.4762 401.667 L30.0144 401.667 Q26.736 399.662 25.1764 396.861 Q23.6168 394.06 23.6168 390.208 Q23.6168 386.325 25.5902 383.62 Q27.5636 380.883 31.3193 379.578 Z\" fill=\"#000000\" fill-rule=\"evenodd\" fill-opacity=\"1\" /><path clip-path=\"url(#clip130)\" d=\"M40.8361 313.343 L43.7006 313.343 L43.7006 340.269 Q49.7481 339.888 52.9309 336.641 Q56.0819 333.363 56.0819 327.538 Q56.0819 324.164 55.2544 321.013 Q54.4269 317.83 52.7718 314.711 L58.3099 314.711 Q59.6467 317.862 60.347 321.172 Q61.0472 324.483 61.0472 327.888 Q61.0472 336.418 56.0819 341.415 Q51.1167 346.381 42.6503 346.381 Q33.8974 346.381 28.7731 341.67 Q23.6168 336.927 23.6168 328.907 Q23.6168 321.713 28.2638 317.544 Q32.8789 313.343 40.8361 313.343 M39.1173 319.199 Q34.3112 319.263 31.4466 321.904 Q28.5821 324.514 28.5821 328.843 Q28.5821 333.745 31.3512 336.705 Q34.1202 339.633 39.1492 340.079 L39.1173 319.199 Z\" fill=\"#000000\" fill-rule=\"evenodd\" fill-opacity=\"1\" /><path clip-path=\"url(#clip130)\" d=\"M29.9507 283.074 Q29.3778 284.06 29.1232 285.238 Q28.8367 286.384 28.8367 287.784 Q28.8367 292.749 32.0832 295.423 Q35.2979 298.065 41.3453 298.065 L60.1242 298.065 L60.1242 303.953 L24.4762 303.953 L24.4762 298.065 L30.0144 298.065 Q26.7679 296.219 25.2083 293.259 Q23.6168 290.299 23.6168 286.066 Q23.6168 285.461 23.7123 284.729 Q23.776 283.997 23.9351 283.105 L29.9507 283.074 Z\" fill=\"#000000\" fill-rule=\"evenodd\" fill-opacity=\"1\" /><path clip-path=\"url(#clip130)\" d=\"M25.5265 254.205 L31.0647 254.205 Q29.7916 256.688 29.155 259.361 Q28.5184 262.035 28.5184 264.9 Q28.5184 269.26 29.8552 271.456 Q31.192 273.621 33.8656 273.621 Q35.9026 273.621 37.0803 272.061 Q38.2261 270.501 39.2765 265.791 L39.7221 263.786 Q41.0589 257.547 43.5097 254.937 Q45.9286 252.295 50.2891 252.295 Q55.2544 252.295 58.1508 256.242 Q61.0472 260.157 61.0472 267.032 Q61.0472 269.897 60.4743 273.016 Q59.9332 276.103 58.8192 279.541 L52.7718 279.541 Q54.4587 276.294 55.318 273.143 Q56.1456 269.992 56.1456 266.905 Q56.1456 262.767 54.7451 260.539 Q53.3129 258.311 50.7347 258.311 Q48.3476 258.311 47.0745 259.934 Q45.8013 261.526 44.6237 266.968 L44.1462 269.005 Q43.0004 274.448 40.6451 276.867 Q38.258 279.286 34.1202 279.286 Q29.0913 279.286 26.3541 275.721 Q23.6168 272.156 23.6168 265.6 Q23.6168 262.353 24.0943 259.489 Q24.5717 256.624 25.5265 254.205 Z\" fill=\"#000000\" fill-rule=\"evenodd\" fill-opacity=\"1\" /><path clip-path=\"url(#clip130)\" d=\"M10.6626 243.893 L10.6626 238.8 Q18.1742 234.026 25.3674 231.671 Q32.5606 229.283 39.6584 229.283 Q46.788 229.283 54.0131 231.671 Q61.2382 234.026 68.7179 238.8 L68.7179 243.893 Q61.4291 239.66 54.2359 237.591 Q47.0108 235.49 39.6584 235.49 Q32.306 235.49 25.1446 237.591 Q17.9832 239.66 10.6626 243.893 Z\" fill=\"#000000\" fill-rule=\"evenodd\" fill-opacity=\"1\" /><path clip-path=\"url(#clip130)\" d=\"M699.6 9.54393 L707.094 9.54393 L707.094 46.7717 L729.334 27.2059 L738.853 27.2059 L714.791 48.4326 L739.866 72.576 L730.144 72.576 L707.094 50.4176 L707.094 72.576 L699.6 72.576 L699.6 9.54393 Z\" fill=\"#000000\" fill-rule=\"evenodd\" fill-opacity=\"1\" /><path clip-path=\"url(#clip130)\" d=\"M783.251 35.9153 Q786.046 30.8922 789.935 28.5022 Q793.824 26.1121 799.09 26.1121 Q806.179 26.1121 810.028 31.0947 Q813.876 36.0368 813.876 45.1919 L813.876 72.576 L806.382 72.576 L806.382 45.4349 Q806.382 38.913 804.073 35.7533 Q801.764 32.5936 797.024 32.5936 Q791.231 32.5936 787.869 36.4419 Q784.507 40.2903 784.507 46.9338 L784.507 72.576 L777.013 72.576 L777.013 45.4349 Q777.013 38.8725 774.704 35.7533 Q772.395 32.5936 767.574 32.5936 Q761.862 32.5936 758.5 36.4824 Q755.138 40.3308 755.138 46.9338 L755.138 72.576 L747.644 72.576 L747.644 27.2059 L755.138 27.2059 L755.138 34.2544 Q757.69 30.082 761.255 28.0971 Q764.82 26.1121 769.721 26.1121 Q774.663 26.1121 778.106 28.6237 Q781.59 31.1352 783.251 35.9153 Z\" fill=\"#000000\" fill-rule=\"evenodd\" fill-opacity=\"1\" /><path clip-path=\"url(#clip130)\" d=\"M867.55 48.0275 L867.55 51.6733 L833.28 51.6733 Q833.766 59.3701 837.898 63.421 Q842.07 67.4314 849.483 67.4314 Q853.777 67.4314 857.788 66.3781 Q861.839 65.3249 865.809 63.2184 L865.809 70.267 Q861.798 71.9684 857.585 72.8596 Q853.372 73.7508 849.038 73.7508 Q838.181 73.7508 831.821 67.4314 Q825.502 61.1119 825.502 50.3365 Q825.502 39.1965 831.497 32.6746 Q837.533 26.1121 847.742 26.1121 Q856.897 26.1121 862.203 32.0264 Q867.55 37.9003 867.55 48.0275 M860.097 45.84 Q860.016 39.7232 856.654 36.0774 Q853.332 32.4315 847.823 32.4315 Q841.584 32.4315 837.817 35.9558 Q834.09 39.4801 833.523 45.8805 L860.097 45.84 Z\" fill=\"#000000\" fill-rule=\"evenodd\" fill-opacity=\"1\" /><path clip-path=\"url(#clip130)\" d=\"M906.075 34.1734 Q904.819 33.4443 903.32 33.1202 Q901.862 32.7556 900.079 32.7556 Q893.76 32.7556 890.357 36.8875 Q886.995 40.9789 886.995 48.6757 L886.995 72.576 L879.501 72.576 L879.501 27.2059 L886.995 27.2059 L886.995 34.2544 Q889.344 30.1225 893.112 28.1376 Q896.879 26.1121 902.267 26.1121 Q903.036 26.1121 903.968 26.2337 Q904.9 26.3147 906.034 26.5172 L906.075 34.1734 Z\" fill=\"#000000\" fill-rule=\"evenodd\" fill-opacity=\"1\" /><path clip-path=\"url(#clip130)\" d=\"M963.233 9.54393 L963.233 15.7418 L956.103 15.7418 Q952.093 15.7418 950.513 17.3622 Q948.974 18.9825 948.974 23.1955 L948.974 27.2059 L961.248 27.2059 L961.248 32.9987 L948.974 32.9987 L948.974 72.576 L941.479 72.576 L941.479 32.9987 L934.35 32.9987 L934.35 27.2059 L941.479 27.2059 L941.479 24.0462 Q941.479 16.471 945.004 13.0277 Q948.528 9.54393 956.184 9.54393 L963.233 9.54393 Z\" fill=\"#000000\" fill-rule=\"evenodd\" fill-opacity=\"1\" /><path clip-path=\"url(#clip130)\" d=\"M995.762 34.1734 Q994.506 33.4443 993.007 33.1202 Q991.549 32.7556 989.766 32.7556 Q983.447 32.7556 980.044 36.8875 Q976.682 40.9789 976.682 48.6757 L976.682 72.576 L969.188 72.576 L969.188 27.2059 L976.682 27.2059 L976.682 34.2544 Q979.031 30.1225 982.799 28.1376 Q986.566 26.1121 991.954 26.1121 Q992.723 26.1121 993.655 26.2337 Q994.587 26.3147 995.721 26.5172 L995.762 34.1734 Z\" fill=\"#000000\" fill-rule=\"evenodd\" fill-opacity=\"1\" /><path clip-path=\"url(#clip130)\" d=\"M1040.56 48.0275 L1040.56 51.6733 L1006.29 51.6733 Q1006.78 59.3701 1010.91 63.421 Q1015.08 67.4314 1022.5 67.4314 Q1026.79 67.4314 1030.8 66.3781 Q1034.85 65.3249 1038.82 63.2184 L1038.82 70.267 Q1034.81 71.9684 1030.6 72.8596 Q1026.39 73.7508 1022.05 73.7508 Q1011.2 73.7508 1004.84 67.4314 Q998.516 61.1119 998.516 50.3365 Q998.516 39.1965 1004.51 32.6746 Q1010.55 26.1121 1020.76 26.1121 Q1029.91 26.1121 1035.22 32.0264 Q1040.56 37.9003 1040.56 48.0275 M1033.11 45.84 Q1033.03 39.7232 1029.67 36.0774 Q1026.35 32.4315 1020.84 32.4315 Q1014.6 32.4315 1010.83 35.9558 Q1007.1 39.4801 1006.54 45.8805 L1033.11 45.84 Z\" fill=\"#000000\" fill-rule=\"evenodd\" fill-opacity=\"1\" /><path clip-path=\"url(#clip130)\" d=\"M1057.25 49.9314 Q1057.25 58.1548 1060.62 62.8538 Q1064.02 67.5124 1069.93 67.5124 Q1075.85 67.5124 1079.25 62.8538 Q1082.65 58.1548 1082.65 49.9314 Q1082.65 41.7081 1079.25 37.0496 Q1075.85 32.3505 1069.93 32.3505 Q1064.02 32.3505 1060.62 37.0496 Q1057.25 41.7081 1057.25 49.9314 M1082.65 65.7705 Q1080.3 69.8214 1076.7 71.8063 Q1073.13 73.7508 1068.11 73.7508 Q1059.89 73.7508 1054.7 67.1883 Q1049.56 60.6258 1049.56 49.9314 Q1049.56 39.2371 1054.7 32.6746 Q1059.89 26.1121 1068.11 26.1121 Q1073.13 26.1121 1076.7 28.0971 Q1080.3 30.0415 1082.65 34.0924 L1082.65 27.2059 L1090.11 27.2059 L1090.11 89.8329 L1082.65 89.8329 L1082.65 65.7705 Z\" fill=\"#000000\" fill-rule=\"evenodd\" fill-opacity=\"1\" /><path clip-path=\"url(#clip130)\" d=\"M1104.69 54.671 L1104.69 27.2059 L1112.14 27.2059 L1112.14 54.3874 Q1112.14 60.8284 1114.66 64.0691 Q1117.17 67.2693 1122.19 67.2693 Q1128.23 67.2693 1131.71 63.421 Q1135.23 59.5726 1135.23 52.9291 L1135.23 27.2059 L1142.69 27.2059 L1142.69 72.576 L1135.23 72.576 L1135.23 65.6084 Q1132.52 69.7404 1128.91 71.7658 Q1125.35 73.7508 1120.61 73.7508 Q1112.79 73.7508 1108.74 68.8897 Q1104.69 64.0286 1104.69 54.671 M1123.45 26.1121 L1123.45 26.1121 Z\" fill=\"#000000\" fill-rule=\"evenodd\" fill-opacity=\"1\" /><path clip-path=\"url(#clip130)\" d=\"M1196.85 48.0275 L1196.85 51.6733 L1162.58 51.6733 Q1163.06 59.3701 1167.2 63.421 Q1171.37 67.4314 1178.78 67.4314 Q1183.08 67.4314 1187.09 66.3781 Q1191.14 65.3249 1195.11 63.2184 L1195.11 70.267 Q1191.1 71.9684 1186.88 72.8596 Q1182.67 73.7508 1178.34 73.7508 Q1167.48 73.7508 1161.12 67.4314 Q1154.8 61.1119 1154.8 50.3365 Q1154.8 39.1965 1160.8 32.6746 Q1166.83 26.1121 1177.04 26.1121 Q1186.19 26.1121 1191.5 32.0264 Q1196.85 37.9003 1196.85 48.0275 M1189.39 45.84 Q1189.31 39.7232 1185.95 36.0774 Q1182.63 32.4315 1177.12 32.4315 Q1170.88 32.4315 1167.11 35.9558 Q1163.39 39.4801 1162.82 45.8805 L1189.39 45.84 Z\" fill=\"#000000\" fill-rule=\"evenodd\" fill-opacity=\"1\" /><path clip-path=\"url(#clip130)\" d=\"M1246.8 45.1919 L1246.8 72.576 L1239.34 72.576 L1239.34 45.4349 Q1239.34 38.994 1236.83 35.7938 Q1234.32 32.5936 1229.3 32.5936 Q1223.26 32.5936 1219.78 36.4419 Q1216.29 40.2903 1216.29 46.9338 L1216.29 72.576 L1208.8 72.576 L1208.8 27.2059 L1216.29 27.2059 L1216.29 34.2544 Q1218.97 30.163 1222.57 28.1376 Q1226.22 26.1121 1230.96 26.1121 Q1238.78 26.1121 1242.79 30.9732 Q1246.8 35.7938 1246.8 45.1919 Z\" fill=\"#000000\" fill-rule=\"evenodd\" fill-opacity=\"1\" /><path clip-path=\"url(#clip130)\" d=\"M1294.31 28.9478 L1294.31 35.9153 Q1291.15 34.1734 1287.95 33.3227 Q1284.79 32.4315 1281.55 32.4315 Q1274.3 32.4315 1270.29 37.0496 Q1266.28 41.6271 1266.28 49.9314 Q1266.28 58.2358 1270.29 62.8538 Q1274.3 67.4314 1281.55 67.4314 Q1284.79 67.4314 1287.95 66.5807 Q1291.15 65.6895 1294.31 63.9476 L1294.31 70.8341 Q1291.19 72.2924 1287.83 73.0216 Q1284.51 73.7508 1280.74 73.7508 Q1270.49 73.7508 1264.46 67.3098 Q1258.42 60.8689 1258.42 49.9314 Q1258.42 38.832 1264.5 32.472 Q1270.62 26.1121 1281.23 26.1121 Q1284.67 26.1121 1287.95 26.8413 Q1291.23 27.5299 1294.31 28.9478 Z\" fill=\"#000000\" fill-rule=\"evenodd\" fill-opacity=\"1\" /><path clip-path=\"url(#clip130)\" d=\"M1307.28 27.2059 L1314.73 27.2059 L1314.73 72.576 L1307.28 72.576 L1307.28 27.2059 M1307.28 9.54393 L1314.73 9.54393 L1314.73 18.9825 L1307.28 18.9825 L1307.28 9.54393 Z\" fill=\"#000000\" fill-rule=\"evenodd\" fill-opacity=\"1\" /><path clip-path=\"url(#clip130)\" d=\"M1369.13 48.0275 L1369.13 51.6733 L1334.86 51.6733 Q1335.35 59.3701 1339.48 63.421 Q1343.65 67.4314 1351.07 67.4314 Q1355.36 67.4314 1359.37 66.3781 Q1363.42 65.3249 1367.39 63.2184 L1367.39 70.267 Q1363.38 71.9684 1359.17 72.8596 Q1354.96 73.7508 1350.62 73.7508 Q1339.76 73.7508 1333.4 67.4314 Q1327.09 61.1119 1327.09 50.3365 Q1327.09 39.1965 1333.08 32.6746 Q1339.12 26.1121 1349.32 26.1121 Q1358.48 26.1121 1363.79 32.0264 Q1369.13 37.9003 1369.13 48.0275 M1361.68 45.84 Q1361.6 39.7232 1358.24 36.0774 Q1354.91 32.4315 1349.41 32.4315 Q1343.17 32.4315 1339.4 35.9558 Q1335.67 39.4801 1335.11 45.8805 L1361.68 45.84 Z\" fill=\"#000000\" fill-rule=\"evenodd\" fill-opacity=\"1\" /><path clip-path=\"url(#clip130)\" d=\"M1410.29 28.5427 L1410.29 35.5912 Q1407.13 33.9709 1403.73 33.1607 Q1400.33 32.3505 1396.68 32.3505 Q1391.13 32.3505 1388.33 34.0519 Q1385.58 35.7533 1385.58 39.156 Q1385.58 41.7486 1387.57 43.2475 Q1389.55 44.7058 1395.55 46.0426 L1398.1 46.6097 Q1406.04 48.3111 1409.36 51.4303 Q1412.72 54.509 1412.72 60.0587 Q1412.72 66.3781 1407.7 70.0644 Q1402.72 73.7508 1393.97 73.7508 Q1390.32 73.7508 1386.35 73.0216 Q1382.42 72.3329 1378.05 70.9151 L1378.05 63.2184 Q1382.18 65.3654 1386.19 66.4591 Q1390.2 67.5124 1394.13 67.5124 Q1399.39 67.5124 1402.23 65.73 Q1405.06 63.9071 1405.06 60.6258 Q1405.06 57.5877 1403 55.9673 Q1400.97 54.3469 1394.05 52.8481 L1391.45 52.2405 Q1384.53 50.7821 1381.45 47.7845 Q1378.37 44.7463 1378.37 39.4801 Q1378.37 33.0797 1382.91 29.5959 Q1387.44 26.1121 1395.79 26.1121 Q1399.92 26.1121 1403.57 26.7198 Q1407.21 27.3274 1410.29 28.5427 Z\" fill=\"#000000\" fill-rule=\"evenodd\" fill-opacity=\"1\" /><circle clip-path=\"url(#clip132)\" cx=\"1777.02\" cy=\"595.597\" r=\"14\" fill=\"#009af9\" fill-rule=\"evenodd\" fill-opacity=\"1\" stroke=\"#000000\" stroke-opacity=\"1\" stroke-width=\"2\"/>\n",
       "<circle clip-path=\"url(#clip132)\" cx=\"1757.98\" cy=\"849.7\" r=\"14\" fill=\"#009af9\" fill-rule=\"evenodd\" fill-opacity=\"1\" stroke=\"#000000\" stroke-opacity=\"1\" stroke-width=\"2\"/>\n",
       "<circle clip-path=\"url(#clip132)\" cx=\"1777.13\" cy=\"521.276\" r=\"14\" fill=\"#009af9\" fill-rule=\"evenodd\" fill-opacity=\"1\" stroke=\"#000000\" stroke-opacity=\"1\" stroke-width=\"2\"/>\n",
       "<circle clip-path=\"url(#clip132)\" cx=\"1777.06\" cy=\"300.592\" r=\"14\" fill=\"#009af9\" fill-rule=\"evenodd\" fill-opacity=\"1\" stroke=\"#000000\" stroke-opacity=\"1\" stroke-width=\"2\"/>\n",
       "<circle clip-path=\"url(#clip132)\" cx=\"1776.72\" cy=\"849.7\" r=\"14\" fill=\"#009af9\" fill-rule=\"evenodd\" fill-opacity=\"1\" stroke=\"#000000\" stroke-opacity=\"1\" stroke-width=\"2\"/>\n",
       "<circle clip-path=\"url(#clip132)\" cx=\"1777.11\" cy=\"648.328\" r=\"14\" fill=\"#009af9\" fill-rule=\"evenodd\" fill-opacity=\"1\" stroke=\"#000000\" stroke-opacity=\"1\" stroke-width=\"2\"/>\n",
       "<circle clip-path=\"url(#clip132)\" cx=\"1777.08\" cy=\"291.649\" r=\"14\" fill=\"#009af9\" fill-rule=\"evenodd\" fill-opacity=\"1\" stroke=\"#000000\" stroke-opacity=\"1\" stroke-width=\"2\"/>\n",
       "<circle clip-path=\"url(#clip132)\" cx=\"1773.97\" cy=\"849.7\" r=\"14\" fill=\"#009af9\" fill-rule=\"evenodd\" fill-opacity=\"1\" stroke=\"#000000\" stroke-opacity=\"1\" stroke-width=\"2\"/>\n",
       "<circle clip-path=\"url(#clip132)\" cx=\"1421.91\" cy=\"849.7\" r=\"14\" fill=\"#009af9\" fill-rule=\"evenodd\" fill-opacity=\"1\" stroke=\"#000000\" stroke-opacity=\"1\" stroke-width=\"2\"/>\n",
       "<circle clip-path=\"url(#clip132)\" cx=\"1777.09\" cy=\"468.545\" r=\"14\" fill=\"#009af9\" fill-rule=\"evenodd\" fill-opacity=\"1\" stroke=\"#000000\" stroke-opacity=\"1\" stroke-width=\"2\"/>\n",
       "<circle clip-path=\"url(#clip132)\" cx=\"1692.08\" cy=\"849.7\" r=\"14\" fill=\"#009af9\" fill-rule=\"evenodd\" fill-opacity=\"1\" stroke=\"#000000\" stroke-opacity=\"1\" stroke-width=\"2\"/>\n",
       "<circle clip-path=\"url(#clip132)\" cx=\"1757.09\" cy=\"849.7\" r=\"14\" fill=\"#009af9\" fill-rule=\"evenodd\" fill-opacity=\"1\" stroke=\"#000000\" stroke-opacity=\"1\" stroke-width=\"2\"/>\n",
       "<circle clip-path=\"url(#clip132)\" cx=\"1335.74\" cy=\"849.7\" r=\"14\" fill=\"#009af9\" fill-rule=\"evenodd\" fill-opacity=\"1\" stroke=\"#000000\" stroke-opacity=\"1\" stroke-width=\"2\"/>\n",
       "<circle clip-path=\"url(#clip132)\" cx=\"1608.23\" cy=\"849.7\" r=\"14\" fill=\"#009af9\" fill-rule=\"evenodd\" fill-opacity=\"1\" stroke=\"#000000\" stroke-opacity=\"1\" stroke-width=\"2\"/>\n",
       "<circle clip-path=\"url(#clip132)\" cx=\"1777.04\" cy=\"319.904\" r=\"14\" fill=\"#009af9\" fill-rule=\"evenodd\" fill-opacity=\"1\" stroke=\"#000000\" stroke-opacity=\"1\" stroke-width=\"2\"/>\n",
       "<circle clip-path=\"url(#clip132)\" cx=\"1774.1\" cy=\"849.7\" r=\"14\" fill=\"#009af9\" fill-rule=\"evenodd\" fill-opacity=\"1\" stroke=\"#000000\" stroke-opacity=\"1\" stroke-width=\"2\"/>\n",
       "<circle clip-path=\"url(#clip132)\" cx=\"1776.71\" cy=\"849.7\" r=\"14\" fill=\"#009af9\" fill-rule=\"evenodd\" fill-opacity=\"1\" stroke=\"#000000\" stroke-opacity=\"1\" stroke-width=\"2\"/>\n",
       "<circle clip-path=\"url(#clip132)\" cx=\"1776.99\" cy=\"849.7\" r=\"14\" fill=\"#009af9\" fill-rule=\"evenodd\" fill-opacity=\"1\" stroke=\"#000000\" stroke-opacity=\"1\" stroke-width=\"2\"/>\n",
       "<circle clip-path=\"url(#clip132)\" cx=\"1777.01\" cy=\"648.328\" r=\"14\" fill=\"#009af9\" fill-rule=\"evenodd\" fill-opacity=\"1\" stroke=\"#000000\" stroke-opacity=\"1\" stroke-width=\"2\"/>\n",
       "</svg>\n"
      ]
     },
     "execution_count": 45,
     "metadata": {},
     "output_type": "execute_result"
    }
   ],
   "source": [
    "kmer_counts = Dict(filtered_observation_graph.vprops[v][:kmer] => filtered_observation_graph.vprops[v][:weight] for v in Graphs.vertices(filtered_observation_graph))\n",
    "total_observed_kmers = sum(values(kmer_counts))\n",
    "kmer_probabilities = Dict(k => v/total_observed_kmers for (k,v) in kmer_counts)\n",
    "scale = 250\n",
    "Mycelia.plot_kmer_frequency_spectra(values(kmer_counts), size=(2scale,scale), title=\"kmer frequencies\")"
   ]
  },
  {
   "cell_type": "code",
   "execution_count": 46,
   "metadata": {},
   "outputs": [
    {
     "name": "stdout",
     "output_type": "stream",
     "text": [
      "length(Set(reference_kmers)) = 90\n",
      "length(Set(keys(kmer_counts))) = 94\n",
      "distance_to_reference_graph = 0.04255319148936165\n"
     ]
    }
   ],
   "source": [
    "distance_to_reference_graph = 1 - LSHFunctions.jaccard(Set(reference_kmers), Set(keys(kmer_counts)))\n",
    "@show length(Set(reference_kmers))\n",
    "@show length(Set(keys(kmer_counts)))\n",
    "@show distance_to_reference_graph;"
   ]
  },
  {
   "cell_type": "code",
   "execution_count": 47,
   "metadata": {},
   "outputs": [],
   "source": [
    "# step 2, re-simulate reads as a means of error correction"
   ]
  },
  {
   "cell_type": "code",
   "execution_count": 48,
   "metadata": {},
   "outputs": [
    {
     "data": {
      "text/plain": [
       "94-element Vector{Float64}:\n",
       " 0.010991911695156476\n",
       " 0.010991911695156476\n",
       " 0.01099301154623664\n",
       " 0.01099301154623664\n",
       " 0.01099301154623664\n",
       " 0.010996311099477131\n",
       " 0.010994111397316804\n",
       " 0.010991911695156476\n",
       " 0.01099301154623664\n",
       " 0.010995211248396967\n",
       " 0.010997410950557295\n",
       " 0.010994111397316804\n",
       " 0.010995211248396967\n",
       " ⋮\n",
       " 0.006776182504888838\n",
       " 0.010991911695156476\n",
       " 0.01099301154623664\n",
       " 0.010995211248396967\n",
       " 0.009861264784748145\n",
       " 0.010994111397316804\n",
       " 0.01099301154623664\n",
       " 0.010994111397316804\n",
       " 0.01099301154623664\n",
       " 0.010991911695156476\n",
       " 0.010991911695156476\n",
       " 0.0008908793749326341"
      ]
     },
     "execution_count": 48,
     "metadata": {},
     "output_type": "execute_result"
    }
   ],
   "source": [
    "kmers = [filtered_observation_graph.vprops[v][:kmer] for v in Graphs.vertices(filtered_observation_graph)]\n",
    "kmer_weights = [filtered_observation_graph.vprops[v][:weight] for v in Graphs.vertices(filtered_observation_graph)]\n",
    "kmer_probabilities = kmer_weights ./ sum(kmer_weights)"
   ]
  },
  {
   "cell_type": "code",
   "execution_count": 49,
   "metadata": {},
   "outputs": [
    {
     "data": {
      "text/plain": [
       "Dict{Bool, SparseArrays.SparseMatrixCSC{Float64, Int64}} with 2 entries:\n",
       "  0 => …\n",
       "  1 => …"
      ]
     },
     "execution_count": 49,
     "metadata": {},
     "output_type": "execute_result"
    }
   ],
   "source": [
    "edge_weights = determine_edge_weights(filtered_observation_graph)"
   ]
  },
  {
   "cell_type": "code",
   "execution_count": 50,
   "metadata": {},
   "outputs": [
    {
     "data": {
      "text/plain": [
       "94×94 SparseArrays.SparseMatrixCSC{Float64, Int64} with 93 stored entries:\n",
       "⠀⠈⠀⠐⠀⠀⠀⠀⠀⠠⠀⡀⠀⢀⠀⠀⠀⠀⠀⠀⠀⠀⠀⠀⠀⠀⠀⠀⠀⠀⠀⠀⠀⠀⠀⠀⠀⠀⠀⠀\n",
       "⢀⠀⠀⠀⠀⠀⠁⠀⠀⠀⠀⠀⠀⠀⠀⠐⠀⠀⠄⠀⠀⠀⠀⠀⠀⠀⠀⠀⠀⠀⠀⠀⠀⠀⠀⠀⠀⠀⠀⠀\n",
       "⠀⠀⠀⠀⠀⠀⠀⠀⠀⠀⠀⠀⠀⠀⠀⠀⠀⠀⠀⠀⢀⠉⠐⠄⠀⠀⠀⠀⠀⠀⠀⠀⠀⠀⠀⠀⠀⠀⠀⠀\n",
       "⠀⠀⠁⠀⠀⠀⠀⠀⠀⠀⠀⠀⠀⠀⠀⠀⠀⠀⠀⠀⠀⠀⠀⠀⠐⠀⠀⠀⠠⠠⠀⢀⠀⠀⠀⠀⠀⠀⠀⠀\n",
       "⠀⠀⠀⠀⠀⠀⠀⠀⠀⠀⠀⠀⠰⠀⠀⠀⠀⡀⠀⠀⠀⠀⠀⠀⠀⠀⠀⠀⠀⠀⠀⠀⠈⠀⠀⠀⠀⠀⠀⠀\n",
       "⠀⠀⠀⠀⠀⠀⠀⠀⠀⠀⠀⠀⠀⠀⠀⠁⠀⠀⠀⠀⠀⠀⠀⠀⠀⠀⠁⡀⠀⠀⠀⠀⠀⠀⠀⠰⠀⠀⠀⠀\n",
       "⠀⠀⠀⠀⠀⠀⠀⠀⠐⠂⠀⠀⠀⠀⠠⠀⠀⠀⠀⠀⠀⠀⠀⠀⠀⠀⠀⠀⠀⢀⠀⠀⠀⠀⠀⠀⠁⠀⠀⠀\n",
       "⠀⠀⠀⠀⠀⠀⠀⠀⠀⠀⠄⠀⠀⠂⠀⠀⢀⠀⠀⠀⠀⠀⠀⠀⠀⠀⠀⢀⠀⠀⠀⠀⠀⠀⠀⠀⠀⠀⠈⠀\n",
       "⡀⠀⠀⠀⠀⠀⠀⠀⠀⠠⠀⠀⠀⠀⠀⠐⠀⠀⠀⠀⠀⠀⠀⠀⠀⠀⠀⠀⠀⠀⠀⠀⠀⠀⠈⠀⠀⠀⠀⠀\n",
       "⠀⠈⠀⠀⠀⠀⠀⠂⠐⠄⡀⠀⠀⠀⠀⠀⠀⠀⠀⠀⠀⠀⠀⠀⠀⠀⠀⠀⠀⠀⠀⠀⠀⠀⠀⠀⠀⠀⠀⠀\n",
       "⠀⠀⠀⠀⠀⠐⠀⠀⠀⠀⠀⠀⠀⠀⠈⠀⠀⠀⠠⢄⠀⠀⠀⠀⠀⠀⠀⠀⠀⠀⠀⠀⠀⠀⠀⠀⠀⠀⠀⠀\n",
       "⠀⠀⠀⠀⠀⠀⠀⠀⠀⠀⠀⠀⠀⠀⠀⠀⠀⠀⠀⠀⠀⠁⠀⠀⠀⠂⠄⠀⡀⠀⠀⠀⠀⠀⠀⠀⠀⠀⠀⠀\n",
       "⠀⠀⠀⠀⠀⠀⠐⠀⠀⠀⠀⠀⠀⠀⠀⠀⠀⠀⠀⠀⠀⠀⠀⠀⠀⠀⠀⠀⠈⠀⢀⠀⠈⠀⠠⠀⠀⠀⠀⠀\n",
       "⠀⠀⠀⠀⠀⠀⠀⠀⠀⠀⠁⠠⠀⠀⠀⢀⠀⠀⠀⠀⠀⠀⠀⠀⠀⠀⠀⠀⠀⠀⠀⠀⠀⠀⠀⠀⠐⠀⠄⠀\n",
       "⠀⠀⠀⠀⠀⠀⠀⠀⠀⠀⠀⠀⠀⢀⠀⠀⠀⠀⠀⠀⠀⠀⠀⠀⠀⠀⠀⠀⠀⠀⠄⠈⠂⠀⠀⠀⠀⡀⠀⠀\n",
       "⠀⠀⠀⠀⠀⠀⠀⠀⠀⠀⠀⠀⠀⠀⠀⠀⠀⠀⠀⠀⠀⠀⠀⠀⠀⠐⠀⠀⡀⠁⠀⠀⠀⠀⠀⠀⠀⠀⠄⠀\n",
       "⠀⠂⠂⠀⠠⠀⡀⠀⠀⠀⠀⠀⠀⠀⠀⠀⠀⠀⠀⠀⠀⠀⠀⠀⠀⠀⠀⠀⠈⠀⠀⠀⠀⠀⠀⠀⠀⠀⠀⠀\n",
       "⠀⠀⠀⠀⠀⠀⠀⠀⠀⠀⠀⠀⠀⠀⠀⠀⠂⠈⠀⠀⠀⠀⠀⢀⠀⢀⠀⠀⠀⠀⠀⠀⠀⠀⠀⠀⠀⠀⠀⠀\n",
       "⠀⠀⠀⠀⠀⠀⠀⠀⠀⠀⠀⠀⠀⠀⠀⠀⠀⠀⠀⠀⠀⠀⠀⠀⠀⠀⠀⠀⠀⠨⠀⠀⠀⠀⠀⠂⠀⠀⡀⠀\n",
       "⠀⠀⠀⠀⠀⠀⠀⠀⠀⠀⠀⠀⠀⠀⠂⠠⠀⠀⠀⠀⠀⠀⠀⠀⠀⠀⠀⠁⢀⠀⠀⠁⠀⠀⠀⠀⠀⠀⠀⠀"
      ]
     },
     "execution_count": 50,
     "metadata": {},
     "output_type": "execute_result"
    }
   ],
   "source": [
    "edge_weights[true]"
   ]
  },
  {
   "cell_type": "code",
   "execution_count": 51,
   "metadata": {},
   "outputs": [
    {
     "data": {
      "text/plain": [
       "Dict{Bool, SparseArrays.SparseMatrixCSC{Float64, Int64}} with 2 entries:\n",
       "  0 => …\n",
       "  1 => …"
      ]
     },
     "execution_count": 51,
     "metadata": {},
     "output_type": "execute_result"
    }
   ],
   "source": [
    "edge_weights = determine_edge_weights(filtered_observation_graph)\n",
    "edge_probabilities = determine_edge_probabilities(edge_weights)"
   ]
  },
  {
   "cell_type": "code",
   "execution_count": 52,
   "metadata": {},
   "outputs": [],
   "source": [
    "kmers = [filtered_observation_graph.vprops[v][:kmer] for v in Graphs.vertices(filtered_observation_graph)]\n",
    "kmer_weights = [filtered_observation_graph.vprops[v][:weight] for v in Graphs.vertices(filtered_observation_graph)]\n",
    "kmer_probabilities = kmer_weights ./ sum(kmer_weights)\n",
    "\n",
    "edge_weights = determine_edge_weights(filtered_observation_graph)\n",
    "edge_probabilities = determine_edge_probabilities(edge_weights)\n",
    "\n",
    "step_probabilities = deepcopy(edge_probabilities)\n",
    "\n",
    "for orientation in [true, false]\n",
    "#     @show orientation\n",
    "    oriented_step_probabilities = step_probabilities[orientation] \n",
    "    for row in 1:size(step_probabilities[orientation], 1)\n",
    "        step_probabilities_ = step_probabilities[orientation][row, :] .* kmer_probabilities\n",
    "        if sum(step_probabilities_) > 0\n",
    "            step_probabilities[orientation][row, :] .= step_probabilities_ ./ sum(step_probabilities_)\n",
    "        end\n",
    "    end\n",
    "end"
   ]
  },
  {
   "cell_type": "code",
   "execution_count": 53,
   "metadata": {},
   "outputs": [
    {
     "name": "stderr",
     "output_type": "stream",
     "text": [
      "\u001b[32mProgress: 100%|█████████████████████████████████████████| Time: 0:00:05\u001b[39m\n"
     ]
    }
   ],
   "source": [
    "new_records = FASTX.FASTQ.Record[]\n",
    "ProgressMeter.@showprogress for observation in observations\n",
    "    read_length = length(FASTX.sequence(observation))\n",
    "    max_steps = read_length - filtered_observation_graph.gprops[:k]\n",
    "    # apply a squaring penalty to kmer_weights?\n",
    "    initial_vertex = StatsBase.sample(1:length(kmers), StatsBase.weights(kmer_weights.^2))\n",
    "#     @show \"choosing initial vertex $initial_vertex with probability $(kmer_weights[initial_vertex])\"\n",
    "    initial_orientation = rand(Bool)\n",
    "    forward_walk = random_walk(filtered_observation_graph, initial_vertex, initial_orientation, step_probabilities, n_steps=max_steps)\n",
    "    remaining_steps = max_steps - length(forward_walk)\n",
    "    reverse_walk = random_walk(filtered_observation_graph, initial_vertex, !initial_orientation, step_probabilities, n_steps = remaining_steps)\n",
    "    full_walk = [[(vertex=x.vertex, orientation=!x.orientation) for x in reverse(reverse_walk)]..., [(vertex = initial_vertex, orientation = initial_orientation)]..., forward_walk...]\n",
    "    oriented_path = [(x.vertex, x.orientation) for x in full_walk]\n",
    "    new_seq = Mycelia.oriented_path_to_sequence(filtered_observation_graph, oriented_path)\n",
    "    new_record = FASTX.FASTQ.Record(\n",
    "        FASTX.identifier(observation)*\"-k$k\",\n",
    "        FASTX.identifier(observation),\n",
    "        new_seq,\n",
    "        StatsBase.sample(FASTX.quality(observation), length(new_seq))\n",
    "    )\n",
    "#     @show \"here\"\n",
    "    push!(new_records, new_record)\n",
    "end\n",
    "new_records;"
   ]
  },
  {
   "cell_type": "code",
   "execution_count": 54,
   "metadata": {},
   "outputs": [],
   "source": [
    "corrected_fastq_file = replace(observations_file, r\"\\.fastq\" => \".k$k.fastq\")\n",
    "open(corrected_fastq_file, \"w\") do io\n",
    "    fastq_writer = FASTX.FASTQ.Writer(io)\n",
    "    for record in new_records\n",
    "        write(fastq_writer, record)\n",
    "    end\n",
    "    close(fastq_writer)\n",
    "end"
   ]
  },
  {
   "cell_type": "code",
   "execution_count": 55,
   "metadata": {},
   "outputs": [
    {
     "name": "stderr",
     "output_type": "stream",
     "text": [
      "┌ Info: assessing kmers\n",
      "└ @ Mycelia /home/jovyan/git/Mycelia/src/Mycelia.jl:1932\n",
      "┌ Info: creating graph\n",
      "└ @ Mycelia /home/jovyan/git/Mycelia/src/Mycelia.jl:1948\n"
     ]
    },
    {
     "data": {
      "text/plain": [
       "{92, 182} directed Int64 metagraph with Float64 weights defined by :weight (default weight 1.0)"
      ]
     },
     "execution_count": 55,
     "metadata": {},
     "output_type": "execute_result"
    }
   ],
   "source": [
    "corrected_observation_graph = Mycelia.fastx_to_kmer_graph(BioSequences.DNAMer{k}, corrected_fastq_file)"
   ]
  },
  {
   "cell_type": "code",
   "execution_count": 56,
   "metadata": {},
   "outputs": [
    {
     "data": {
      "text/html": [
       "<img src=./../../../2021-08-23/LENGTH-100-DEPTH-10000.k11.k13.fastq.k-13.gfa.svg>"
      ]
     },
     "metadata": {},
     "output_type": "display_data"
    }
   ],
   "source": [
    "# visualize\n",
    "gfa_file = corrected_fastq_file * \".k-$k.gfa\"\n",
    "Mycelia.graph_to_gfa(corrected_observation_graph, gfa_file)\n",
    "\n",
    "run(`$(BANDAGE) image $(gfa_file) $(gfa_file).svg --depwidth .9 --deppower .9`)\n",
    "# --nodewidth <float> Average node width (0.5 to 1000, default: 5)\n",
    "# --depwidth <float>  Depth effect on width (0 to 1, default: 0.5)\n",
    "# --deppower <float>  Power of depth effect on width (0 to 1, default: 0.5)\n",
    "\n",
    "html_path_to_svg = \"./\" * repeat(\"../\", length(split(pwd(), '/')) - 3)\n",
    "html_path_to_svg *= replace(\"$(gfa_file).svg\", \"$(homedir())/\" => \"\")\n",
    "\n",
    "x = \"<img src=$(html_path_to_svg)>\"\n",
    "display(\"text/html\", x)\n",
    "# display(\"image/svg+xml\", read(\"$(gfa_file).svg\", String))"
   ]
  },
  {
   "cell_type": "code",
   "execution_count": 57,
   "metadata": {},
   "outputs": [
    {
     "data": {
      "image/svg+xml": [
       "<?xml version=\"1.0\" encoding=\"utf-8\"?>\n",
       "<svg xmlns=\"http://www.w3.org/2000/svg\" xmlns:xlink=\"http://www.w3.org/1999/xlink\" width=\"500\" height=\"250\" viewBox=\"0 0 2000 1000\">\n",
       "<defs>\n",
       "  <clipPath id=\"clip170\">\n",
       "    <rect x=\"0\" y=\"0\" width=\"2000\" height=\"1000\"/>\n",
       "  </clipPath>\n",
       "</defs>\n",
       "<path clip-path=\"url(#clip170)\" d=\"\n",
       "M0 1000 L2000 1000 L2000 0 L0 0  Z\n",
       "  \" fill=\"#ffffff\" fill-rule=\"evenodd\" fill-opacity=\"1\"/>\n",
       "<defs>\n",
       "  <clipPath id=\"clip171\">\n",
       "    <rect x=\"400\" y=\"0\" width=\"1401\" height=\"1000\"/>\n",
       "  </clipPath>\n",
       "</defs>\n",
       "<path clip-path=\"url(#clip170)\" d=\"\n",
       "M159.565 849.7 L1952.76 849.7 L1952.76 108.352 L159.565 108.352  Z\n",
       "  \" fill=\"#ffffff\" fill-rule=\"evenodd\" fill-opacity=\"1\"/>\n",
       "<defs>\n",
       "  <clipPath id=\"clip172\">\n",
       "    <rect x=\"159\" y=\"108\" width=\"1794\" height=\"742\"/>\n",
       "  </clipPath>\n",
       "</defs>\n",
       "<polyline clip-path=\"url(#clip172)\" style=\"stroke:#000000; stroke-linecap:butt; stroke-linejoin:round; stroke-width:2; stroke-opacity:0.1; fill:none\" points=\"\n",
       "  159.565,849.7 159.565,108.352 \n",
       "  \"/>\n",
       "<polyline clip-path=\"url(#clip172)\" style=\"stroke:#000000; stroke-linecap:butt; stroke-linejoin:round; stroke-width:2; stroke-opacity:0.1; fill:none\" points=\"\n",
       "  598.628,849.7 598.628,108.352 \n",
       "  \"/>\n",
       "<polyline clip-path=\"url(#clip172)\" style=\"stroke:#000000; stroke-linecap:butt; stroke-linejoin:round; stroke-width:2; stroke-opacity:0.1; fill:none\" points=\"\n",
       "  1037.69,849.7 1037.69,108.352 \n",
       "  \"/>\n",
       "<polyline clip-path=\"url(#clip172)\" style=\"stroke:#000000; stroke-linecap:butt; stroke-linejoin:round; stroke-width:2; stroke-opacity:0.1; fill:none\" points=\"\n",
       "  1476.75,849.7 1476.75,108.352 \n",
       "  \"/>\n",
       "<polyline clip-path=\"url(#clip172)\" style=\"stroke:#000000; stroke-linecap:butt; stroke-linejoin:round; stroke-width:2; stroke-opacity:0.1; fill:none\" points=\"\n",
       "  1915.81,849.7 1915.81,108.352 \n",
       "  \"/>\n",
       "<polyline clip-path=\"url(#clip170)\" style=\"stroke:#000000; stroke-linecap:butt; stroke-linejoin:round; stroke-width:4; stroke-opacity:1; fill:none\" points=\"\n",
       "  159.565,849.7 1952.76,849.7 \n",
       "  \"/>\n",
       "<polyline clip-path=\"url(#clip170)\" style=\"stroke:#000000; stroke-linecap:butt; stroke-linejoin:round; stroke-width:4; stroke-opacity:1; fill:none\" points=\"\n",
       "  159.565,849.7 159.565,830.802 \n",
       "  \"/>\n",
       "<polyline clip-path=\"url(#clip170)\" style=\"stroke:#000000; stroke-linecap:butt; stroke-linejoin:round; stroke-width:4; stroke-opacity:1; fill:none\" points=\"\n",
       "  598.628,849.7 598.628,830.802 \n",
       "  \"/>\n",
       "<polyline clip-path=\"url(#clip170)\" style=\"stroke:#000000; stroke-linecap:butt; stroke-linejoin:round; stroke-width:4; stroke-opacity:1; fill:none\" points=\"\n",
       "  1037.69,849.7 1037.69,830.802 \n",
       "  \"/>\n",
       "<polyline clip-path=\"url(#clip170)\" style=\"stroke:#000000; stroke-linecap:butt; stroke-linejoin:round; stroke-width:4; stroke-opacity:1; fill:none\" points=\"\n",
       "  1476.75,849.7 1476.75,830.802 \n",
       "  \"/>\n",
       "<polyline clip-path=\"url(#clip170)\" style=\"stroke:#000000; stroke-linecap:butt; stroke-linejoin:round; stroke-width:4; stroke-opacity:1; fill:none\" points=\"\n",
       "  1915.81,849.7 1915.81,830.802 \n",
       "  \"/>\n",
       "<path clip-path=\"url(#clip170)\" d=\"M136.95 875.691 Q133.338 875.691 131.51 879.255 Q129.704 882.797 129.704 889.927 Q129.704 897.033 131.51 900.598 Q133.338 904.139 136.95 904.139 Q140.584 904.139 142.389 900.598 Q144.218 897.033 144.218 889.927 Q144.218 882.797 142.389 879.255 Q140.584 875.691 136.95 875.691 M136.95 871.987 Q142.76 871.987 145.815 876.593 Q148.894 881.177 148.894 889.927 Q148.894 898.653 145.815 903.26 Q142.76 907.843 136.95 907.843 Q131.139 907.843 128.061 903.26 Q125.005 898.653 125.005 889.927 Q125.005 881.177 128.061 876.593 Q131.139 871.987 136.95 871.987 Z\" fill=\"#000000\" fill-rule=\"evenodd\" fill-opacity=\"1\" /><path clip-path=\"url(#clip170)\" d=\"M157.112 901.292 L161.996 901.292 L161.996 907.172 L157.112 907.172 L157.112 901.292 Z\" fill=\"#000000\" fill-rule=\"evenodd\" fill-opacity=\"1\" /><path clip-path=\"url(#clip170)\" d=\"M182.181 875.691 Q178.57 875.691 176.741 879.255 Q174.935 882.797 174.935 889.927 Q174.935 897.033 176.741 900.598 Q178.57 904.139 182.181 904.139 Q185.815 904.139 187.621 900.598 Q189.449 897.033 189.449 889.927 Q189.449 882.797 187.621 879.255 Q185.815 875.691 182.181 875.691 M182.181 871.987 Q187.991 871.987 191.047 876.593 Q194.125 881.177 194.125 889.927 Q194.125 898.653 191.047 903.26 Q187.991 907.843 182.181 907.843 Q176.371 907.843 173.292 903.26 Q170.236 898.653 170.236 889.927 Q170.236 881.177 173.292 876.593 Q176.371 871.987 182.181 871.987 Z\" fill=\"#000000\" fill-rule=\"evenodd\" fill-opacity=\"1\" /><path clip-path=\"url(#clip170)\" d=\"M570.364 903.237 L586.683 903.237 L586.683 907.172 L564.739 907.172 L564.739 903.237 Q567.401 900.482 571.984 895.852 Q576.591 891.2 577.771 889.857 Q580.017 887.334 580.896 885.598 Q581.799 883.839 581.799 882.149 Q581.799 879.394 579.855 877.658 Q577.933 875.922 574.831 875.922 Q572.632 875.922 570.179 876.686 Q567.748 877.45 564.97 879.001 L564.97 874.279 Q567.794 873.144 570.248 872.566 Q572.702 871.987 574.739 871.987 Q580.109 871.987 583.304 874.672 Q586.498 877.357 586.498 881.848 Q586.498 883.978 585.688 885.899 Q584.901 887.797 582.794 890.39 Q582.216 891.061 579.114 894.278 Q576.012 897.473 570.364 903.237 Z\" fill=\"#000000\" fill-rule=\"evenodd\" fill-opacity=\"1\" /><path clip-path=\"url(#clip170)\" d=\"M596.498 901.292 L601.382 901.292 L601.382 907.172 L596.498 907.172 L596.498 901.292 Z\" fill=\"#000000\" fill-rule=\"evenodd\" fill-opacity=\"1\" /><path clip-path=\"url(#clip170)\" d=\"M611.614 872.612 L629.97 872.612 L629.97 876.547 L615.896 876.547 L615.896 885.019 Q616.915 884.672 617.933 884.51 Q618.952 884.325 619.97 884.325 Q625.757 884.325 629.137 887.496 Q632.516 890.667 632.516 896.084 Q632.516 901.663 629.044 904.764 Q625.572 907.843 619.253 907.843 Q617.077 907.843 614.808 907.473 Q612.563 907.102 610.155 906.362 L610.155 901.663 Q612.239 902.797 614.461 903.352 Q616.683 903.908 619.16 903.908 Q623.165 903.908 625.502 901.802 Q627.84 899.695 627.84 896.084 Q627.84 892.473 625.502 890.366 Q623.165 888.26 619.16 888.26 Q617.285 888.26 615.41 888.677 Q613.558 889.093 611.614 889.973 L611.614 872.612 Z\" fill=\"#000000\" fill-rule=\"evenodd\" fill-opacity=\"1\" /><path clip-path=\"url(#clip170)\" d=\"M1004.85 872.612 L1023.21 872.612 L1023.21 876.547 L1009.14 876.547 L1009.14 885.019 Q1010.16 884.672 1011.17 884.51 Q1012.19 884.325 1013.21 884.325 Q1019 884.325 1022.38 887.496 Q1025.76 890.667 1025.76 896.084 Q1025.76 901.663 1022.29 904.764 Q1018.81 907.843 1012.49 907.843 Q1010.32 907.843 1008.05 907.473 Q1005.8 907.102 1003.4 906.362 L1003.4 901.663 Q1005.48 902.797 1007.7 903.352 Q1009.92 903.908 1012.4 903.908 Q1016.41 903.908 1018.74 901.802 Q1021.08 899.695 1021.08 896.084 Q1021.08 892.473 1018.74 890.366 Q1016.41 888.26 1012.4 888.26 Q1010.53 888.26 1008.65 888.677 Q1006.8 889.093 1004.85 889.973 L1004.85 872.612 Z\" fill=\"#000000\" fill-rule=\"evenodd\" fill-opacity=\"1\" /><path clip-path=\"url(#clip170)\" d=\"M1034.97 901.292 L1039.85 901.292 L1039.85 907.172 L1034.97 907.172 L1034.97 901.292 Z\" fill=\"#000000\" fill-rule=\"evenodd\" fill-opacity=\"1\" /><path clip-path=\"url(#clip170)\" d=\"M1060.04 875.691 Q1056.43 875.691 1054.6 879.255 Q1052.79 882.797 1052.79 889.927 Q1052.79 897.033 1054.6 900.598 Q1056.43 904.139 1060.04 904.139 Q1063.67 904.139 1065.48 900.598 Q1067.31 897.033 1067.31 889.927 Q1067.31 882.797 1065.48 879.255 Q1063.67 875.691 1060.04 875.691 M1060.04 871.987 Q1065.85 871.987 1068.91 876.593 Q1071.98 881.177 1071.98 889.927 Q1071.98 898.653 1068.91 903.26 Q1065.85 907.843 1060.04 907.843 Q1054.23 907.843 1051.15 903.26 Q1048.1 898.653 1048.1 889.927 Q1048.1 881.177 1051.15 876.593 Q1054.23 871.987 1060.04 871.987 Z\" fill=\"#000000\" fill-rule=\"evenodd\" fill-opacity=\"1\" /><path clip-path=\"url(#clip170)\" d=\"M1443.07 872.612 L1465.29 872.612 L1465.29 874.603 L1452.75 907.172 L1447.86 907.172 L1459.67 876.547 L1443.07 876.547 L1443.07 872.612 Z\" fill=\"#000000\" fill-rule=\"evenodd\" fill-opacity=\"1\" /><path clip-path=\"url(#clip170)\" d=\"M1474.41 901.292 L1479.3 901.292 L1479.3 907.172 L1474.41 907.172 L1474.41 901.292 Z\" fill=\"#000000\" fill-rule=\"evenodd\" fill-opacity=\"1\" /><path clip-path=\"url(#clip170)\" d=\"M1489.53 872.612 L1507.89 872.612 L1507.89 876.547 L1493.81 876.547 L1493.81 885.019 Q1494.83 884.672 1495.85 884.51 Q1496.87 884.325 1497.89 884.325 Q1503.67 884.325 1507.05 887.496 Q1510.43 890.667 1510.43 896.084 Q1510.43 901.663 1506.96 904.764 Q1503.49 907.843 1497.17 907.843 Q1494.99 907.843 1492.72 907.473 Q1490.48 907.102 1488.07 906.362 L1488.07 901.663 Q1490.16 902.797 1492.38 903.352 Q1494.6 903.908 1497.08 903.908 Q1501.08 903.908 1503.42 901.802 Q1505.76 899.695 1505.76 896.084 Q1505.76 892.473 1503.42 890.366 Q1501.08 888.26 1497.08 888.26 Q1495.2 888.26 1493.33 888.677 Q1491.47 889.093 1489.53 889.973 L1489.53 872.612 Z\" fill=\"#000000\" fill-rule=\"evenodd\" fill-opacity=\"1\" /><path clip-path=\"url(#clip170)\" d=\"M1867.89 903.237 L1875.53 903.237 L1875.53 876.871 L1867.22 878.538 L1867.22 874.279 L1875.48 872.612 L1880.16 872.612 L1880.16 903.237 L1887.79 903.237 L1887.79 907.172 L1867.89 907.172 L1867.89 903.237 Z\" fill=\"#000000\" fill-rule=\"evenodd\" fill-opacity=\"1\" /><path clip-path=\"url(#clip170)\" d=\"M1907.24 875.691 Q1903.63 875.691 1901.8 879.255 Q1899.99 882.797 1899.99 889.927 Q1899.99 897.033 1901.8 900.598 Q1903.63 904.139 1907.24 904.139 Q1910.87 904.139 1912.68 900.598 Q1914.51 897.033 1914.51 889.927 Q1914.51 882.797 1912.68 879.255 Q1910.87 875.691 1907.24 875.691 M1907.24 871.987 Q1913.05 871.987 1916.1 876.593 Q1919.18 881.177 1919.18 889.927 Q1919.18 898.653 1916.1 903.26 Q1913.05 907.843 1907.24 907.843 Q1901.43 907.843 1898.35 903.26 Q1895.29 898.653 1895.29 889.927 Q1895.29 881.177 1898.35 876.593 Q1901.43 871.987 1907.24 871.987 Z\" fill=\"#000000\" fill-rule=\"evenodd\" fill-opacity=\"1\" /><path clip-path=\"url(#clip170)\" d=\"M1927.4 901.292 L1932.28 901.292 L1932.28 907.172 L1927.4 907.172 L1927.4 901.292 Z\" fill=\"#000000\" fill-rule=\"evenodd\" fill-opacity=\"1\" /><path clip-path=\"url(#clip170)\" d=\"M1952.47 875.691 Q1948.86 875.691 1947.03 879.255 Q1945.22 882.797 1945.22 889.927 Q1945.22 897.033 1947.03 900.598 Q1948.86 904.139 1952.47 904.139 Q1956.1 904.139 1957.91 900.598 Q1959.74 897.033 1959.74 889.927 Q1959.74 882.797 1957.91 879.255 Q1956.1 875.691 1952.47 875.691 M1952.47 871.987 Q1958.28 871.987 1961.34 876.593 Q1964.41 881.177 1964.41 889.927 Q1964.41 898.653 1961.34 903.26 Q1958.28 907.843 1952.47 907.843 Q1946.66 907.843 1943.58 903.26 Q1940.53 898.653 1940.53 889.927 Q1940.53 881.177 1943.58 876.593 Q1946.66 871.987 1952.47 871.987 Z\" fill=\"#000000\" fill-rule=\"evenodd\" fill-opacity=\"1\" /><path clip-path=\"url(#clip170)\" d=\"M661.996 939.039 L667.852 939.039 L667.852 988.564 L661.996 988.564 L661.996 939.039 Z\" fill=\"#000000\" fill-rule=\"evenodd\" fill-opacity=\"1\" /><path clip-path=\"url(#clip170)\" d=\"M693.92 957.022 Q689.209 957.022 686.472 960.714 Q683.735 964.374 683.735 970.772 Q683.735 977.169 686.44 980.861 Q689.178 984.522 693.92 984.522 Q698.599 984.522 701.336 980.83 Q704.073 977.137 704.073 970.772 Q704.073 964.438 701.336 960.746 Q698.599 957.022 693.92 957.022 M693.92 952.057 Q701.559 952.057 705.919 957.022 Q710.28 961.987 710.28 970.772 Q710.28 979.525 705.919 984.522 Q701.559 989.487 693.92 989.487 Q686.249 989.487 681.889 984.522 Q677.56 979.525 677.56 970.772 Q677.56 961.987 681.889 957.022 Q686.249 952.057 693.92 952.057 Z\" fill=\"#000000\" fill-rule=\"evenodd\" fill-opacity=\"1\" /><path clip-path=\"url(#clip170)\" d=\"M743.445 970.326 Q743.445 963.96 740.803 960.459 Q738.194 956.958 733.451 956.958 Q728.74 956.958 726.099 960.459 Q723.489 963.96 723.489 970.326 Q723.489 976.66 726.099 980.161 Q728.74 983.662 733.451 983.662 Q738.194 983.662 740.803 980.161 Q743.445 976.66 743.445 970.326 M749.302 984.14 Q749.302 993.243 745.259 997.667 Q741.217 1002.12 732.878 1002.12 Q729.791 1002.12 727.054 1001.65 Q724.316 1001.2 721.738 1000.24 L721.738 994.548 Q724.316 995.948 726.831 996.616 Q729.345 997.285 731.955 997.285 Q737.716 997.285 740.581 994.261 Q743.445 991.269 743.445 985.19 L743.445 982.294 Q741.631 985.445 738.798 987.004 Q735.966 988.564 732.019 988.564 Q725.462 988.564 721.452 983.567 Q717.441 978.57 717.441 970.326 Q717.441 962.051 721.452 957.054 Q725.462 952.057 732.019 952.057 Q735.966 952.057 738.798 953.616 Q741.631 955.176 743.445 958.327 L743.445 952.916 L749.302 952.916 L749.302 984.14 Z\" fill=\"#000000\" fill-rule=\"evenodd\" fill-opacity=\"1\" /><path clip-path=\"url(#clip170)\" d=\"M775.433 939.102 Q771.168 946.423 769.099 953.584 Q767.03 960.746 767.03 968.098 Q767.03 975.45 769.099 982.676 Q771.2 989.869 775.433 997.158 L770.34 997.158 Q765.566 989.678 763.179 982.453 Q760.824 975.228 760.824 968.098 Q760.824 961 763.179 953.807 Q765.534 946.614 770.34 939.102 L775.433 939.102 Z\" fill=\"#000000\" fill-rule=\"evenodd\" fill-opacity=\"1\" /><path clip-path=\"url(#clip170)\" d=\"M800.609 957.022 Q795.899 957.022 793.161 960.714 Q790.424 964.374 790.424 970.772 Q790.424 977.169 793.13 980.861 Q795.867 984.522 800.609 984.522 Q805.288 984.522 808.025 980.83 Q810.763 977.137 810.763 970.772 Q810.763 964.438 808.025 960.746 Q805.288 957.022 800.609 957.022 M800.609 952.057 Q808.248 952.057 812.609 957.022 Q816.969 961.987 816.969 970.772 Q816.969 979.525 812.609 984.522 Q808.248 989.487 800.609 989.487 Q792.939 989.487 788.578 984.522 Q784.249 979.525 784.249 970.772 Q784.249 961.987 788.578 957.022 Q792.939 952.057 800.609 952.057 Z\" fill=\"#000000\" fill-rule=\"evenodd\" fill-opacity=\"1\" /><path clip-path=\"url(#clip170)\" d=\"M852.267 970.772 Q852.267 964.311 849.593 960.65 Q846.952 956.958 842.305 956.958 Q837.658 956.958 834.984 960.65 Q832.342 964.311 832.342 970.772 Q832.342 977.233 834.984 980.925 Q837.658 984.585 842.305 984.585 Q846.952 984.585 849.593 980.925 Q852.267 977.233 852.267 970.772 M832.342 958.327 Q834.188 955.144 836.989 953.616 Q839.822 952.057 843.737 952.057 Q850.23 952.057 854.272 957.213 Q858.346 962.369 858.346 970.772 Q858.346 979.174 854.272 984.331 Q850.23 989.487 843.737 989.487 Q839.822 989.487 836.989 987.959 Q834.188 986.4 832.342 983.217 L832.342 988.564 L826.454 988.564 L826.454 939.039 L832.342 939.039 L832.342 958.327 Z\" fill=\"#000000\" fill-rule=\"evenodd\" fill-opacity=\"1\" /><path clip-path=\"url(#clip170)\" d=\"M890.779 953.966 L890.779 959.504 Q888.297 958.231 885.623 957.595 Q882.95 956.958 880.085 956.958 Q875.725 956.958 873.528 958.295 Q871.364 959.632 871.364 962.305 Q871.364 964.342 872.924 965.52 Q874.483 966.666 879.194 967.716 L881.199 968.162 Q887.438 969.499 890.047 971.949 Q892.689 974.368 892.689 978.729 Q892.689 983.694 888.742 986.59 Q884.828 989.487 877.953 989.487 Q875.088 989.487 871.969 988.914 Q868.881 988.373 865.444 987.259 L865.444 981.211 Q868.69 982.898 871.842 983.758 Q874.993 984.585 878.08 984.585 Q882.218 984.585 884.446 983.185 Q886.674 981.753 886.674 979.174 Q886.674 976.787 885.05 975.514 Q883.459 974.241 878.016 973.063 L875.979 972.586 Q870.537 971.44 868.118 969.085 Q865.699 966.698 865.699 962.56 Q865.699 957.531 869.263 954.794 Q872.828 952.057 879.385 952.057 Q882.631 952.057 885.496 952.534 Q888.361 953.011 890.779 953.966 Z\" fill=\"#000000\" fill-rule=\"evenodd\" fill-opacity=\"1\" /><path clip-path=\"url(#clip170)\" d=\"M932.507 969.276 L932.507 972.14 L905.58 972.14 Q905.962 978.188 909.208 981.371 Q912.487 984.522 918.311 984.522 Q921.685 984.522 924.836 983.694 Q928.019 982.867 931.138 981.211 L931.138 986.75 Q927.987 988.086 924.677 988.787 Q921.367 989.487 917.961 989.487 Q909.431 989.487 904.434 984.522 Q899.469 979.556 899.469 971.09 Q899.469 962.337 904.179 957.213 Q908.922 952.057 916.943 952.057 Q924.136 952.057 928.305 956.703 Q932.507 961.319 932.507 969.276 M926.65 967.557 Q926.587 962.751 923.945 959.886 Q921.335 957.022 917.006 957.022 Q912.105 957.022 909.145 959.791 Q906.216 962.56 905.771 967.589 L926.65 967.557 Z\" fill=\"#000000\" fill-rule=\"evenodd\" fill-opacity=\"1\" /><path clip-path=\"url(#clip170)\" d=\"M962.776 958.39 Q961.789 957.817 960.611 957.563 Q959.465 957.276 958.065 957.276 Q953.1 957.276 950.426 960.523 Q947.784 963.738 947.784 969.785 L947.784 988.564 L941.896 988.564 L941.896 952.916 L947.784 952.916 L947.784 958.454 Q949.63 955.208 952.591 953.648 Q955.551 952.057 959.784 952.057 Q960.389 952.057 961.121 952.152 Q961.853 952.216 962.744 952.375 L962.776 958.39 Z\" fill=\"#000000\" fill-rule=\"evenodd\" fill-opacity=\"1\" /><path clip-path=\"url(#clip170)\" d=\"M964.717 952.916 L970.924 952.916 L982.064 982.835 L993.204 952.916 L999.41 952.916 L986.042 988.564 L978.085 988.564 L964.717 952.916 Z\" fill=\"#000000\" fill-rule=\"evenodd\" fill-opacity=\"1\" /><path clip-path=\"url(#clip170)\" d=\"M1037.99 969.276 L1037.99 972.14 L1011.06 972.14 Q1011.44 978.188 1014.69 981.371 Q1017.97 984.522 1023.79 984.522 Q1027.16 984.522 1030.32 983.694 Q1033.5 982.867 1036.62 981.211 L1036.62 986.75 Q1033.47 988.086 1030.16 988.787 Q1026.85 989.487 1023.44 989.487 Q1014.91 989.487 1009.91 984.522 Q1004.95 979.556 1004.95 971.09 Q1004.95 962.337 1009.66 957.213 Q1014.4 952.057 1022.42 952.057 Q1029.62 952.057 1033.79 956.703 Q1037.99 961.319 1037.99 969.276 M1032.13 967.557 Q1032.07 962.751 1029.42 959.886 Q1026.81 957.022 1022.49 957.022 Q1017.58 957.022 1014.62 959.791 Q1011.7 962.56 1011.25 967.589 L1032.13 967.557 Z\" fill=\"#000000\" fill-rule=\"evenodd\" fill-opacity=\"1\" /><path clip-path=\"url(#clip170)\" d=\"M1071.06 958.327 L1071.06 939.039 L1076.91 939.039 L1076.91 988.564 L1071.06 988.564 L1071.06 983.217 Q1069.21 986.4 1066.38 987.959 Q1063.58 989.487 1059.63 989.487 Q1053.17 989.487 1049.09 984.331 Q1045.05 979.174 1045.05 970.772 Q1045.05 962.369 1049.09 957.213 Q1053.17 952.057 1059.63 952.057 Q1063.58 952.057 1066.38 953.616 Q1069.21 955.144 1071.06 958.327 M1051.1 970.772 Q1051.1 977.233 1053.74 980.925 Q1056.42 984.585 1061.06 984.585 Q1065.71 984.585 1068.38 980.925 Q1071.06 977.233 1071.06 970.772 Q1071.06 964.311 1068.38 960.65 Q1065.71 956.958 1061.06 956.958 Q1056.42 956.958 1053.74 960.65 Q1051.1 964.311 1051.1 970.772 Z\" fill=\"#000000\" fill-rule=\"evenodd\" fill-opacity=\"1\" /><path clip-path=\"url(#clip170)\" d=\"M1127.74 939.039 L1127.74 943.908 L1122.14 943.908 Q1118.99 943.908 1117.75 945.182 Q1116.54 946.455 1116.54 949.765 L1116.54 952.916 L1126.18 952.916 L1126.18 957.467 L1116.54 957.467 L1116.54 988.564 L1110.65 988.564 L1110.65 957.467 L1105.05 957.467 L1105.05 952.916 L1110.65 952.916 L1110.65 950.433 Q1110.65 944.481 1113.42 941.776 Q1116.19 939.039 1122.2 939.039 L1127.74 939.039 Z\" fill=\"#000000\" fill-rule=\"evenodd\" fill-opacity=\"1\" /><path clip-path=\"url(#clip170)\" d=\"M1153.3 958.39 Q1152.31 957.817 1151.14 957.563 Q1149.99 957.276 1148.59 957.276 Q1143.63 957.276 1140.95 960.523 Q1138.31 963.738 1138.31 969.785 L1138.31 988.564 L1132.42 988.564 L1132.42 952.916 L1138.31 952.916 L1138.31 958.454 Q1140.16 955.208 1143.12 953.648 Q1146.08 952.057 1150.31 952.057 Q1150.91 952.057 1151.65 952.152 Q1152.38 952.216 1153.27 952.375 L1153.3 958.39 Z\" fill=\"#000000\" fill-rule=\"evenodd\" fill-opacity=\"1\" /><path clip-path=\"url(#clip170)\" d=\"M1188.5 969.276 L1188.5 972.14 L1161.58 972.14 Q1161.96 978.188 1165.21 981.371 Q1168.48 984.522 1174.31 984.522 Q1177.68 984.522 1180.83 983.694 Q1184.02 982.867 1187.13 981.211 L1187.13 986.75 Q1183.98 988.086 1180.67 988.787 Q1177.36 989.487 1173.96 989.487 Q1165.43 989.487 1160.43 984.522 Q1155.47 979.556 1155.47 971.09 Q1155.47 962.337 1160.18 957.213 Q1164.92 952.057 1172.94 952.057 Q1180.13 952.057 1184.3 956.703 Q1188.5 961.319 1188.5 969.276 M1182.65 967.557 Q1182.58 962.751 1179.94 959.886 Q1177.33 957.022 1173 957.022 Q1168.1 957.022 1165.14 959.791 Q1162.21 962.56 1161.77 967.589 L1182.65 967.557 Z\" fill=\"#000000\" fill-rule=\"evenodd\" fill-opacity=\"1\" /><path clip-path=\"url(#clip170)\" d=\"M1201.62 970.772 Q1201.62 977.233 1204.26 980.925 Q1206.93 984.585 1211.58 984.585 Q1216.23 984.585 1218.9 980.925 Q1221.57 977.233 1221.57 970.772 Q1221.57 964.311 1218.9 960.65 Q1216.23 956.958 1211.58 956.958 Q1206.93 956.958 1204.26 960.65 Q1201.62 964.311 1201.62 970.772 M1221.57 983.217 Q1219.73 986.4 1216.89 987.959 Q1214.09 989.487 1210.15 989.487 Q1203.69 989.487 1199.61 984.331 Q1195.57 979.174 1195.57 970.772 Q1195.57 962.369 1199.61 957.213 Q1203.69 952.057 1210.15 952.057 Q1214.09 952.057 1216.89 953.616 Q1219.73 955.144 1221.57 958.327 L1221.57 952.916 L1227.43 952.916 L1227.43 1002.12 L1221.57 1002.12 L1221.57 983.217 Z\" fill=\"#000000\" fill-rule=\"evenodd\" fill-opacity=\"1\" /><path clip-path=\"url(#clip170)\" d=\"M1238.89 974.496 L1238.89 952.916 L1244.74 952.916 L1244.74 974.273 Q1244.74 979.334 1246.72 981.88 Q1248.69 984.394 1252.64 984.394 Q1257.38 984.394 1260.12 981.371 Q1262.89 978.347 1262.89 973.127 L1262.89 952.916 L1268.74 952.916 L1268.74 988.564 L1262.89 988.564 L1262.89 983.089 Q1260.75 986.336 1257.92 987.927 Q1255.12 989.487 1251.4 989.487 Q1245.25 989.487 1242.07 985.667 Q1238.89 981.848 1238.89 974.496 M1253.62 952.057 L1253.62 952.057 Z\" fill=\"#000000\" fill-rule=\"evenodd\" fill-opacity=\"1\" /><path clip-path=\"url(#clip170)\" d=\"M1311.3 969.276 L1311.3 972.14 L1284.37 972.14 Q1284.75 978.188 1288 981.371 Q1291.28 984.522 1297.1 984.522 Q1300.48 984.522 1303.63 983.694 Q1306.81 982.867 1309.93 981.211 L1309.93 986.75 Q1306.78 988.086 1303.47 988.787 Q1300.16 989.487 1296.75 989.487 Q1288.22 989.487 1283.23 984.522 Q1278.26 979.556 1278.26 971.09 Q1278.26 962.337 1282.97 957.213 Q1287.71 952.057 1295.73 952.057 Q1302.93 952.057 1307.1 956.703 Q1311.3 961.319 1311.3 969.276 M1305.44 967.557 Q1305.38 962.751 1302.74 959.886 Q1300.13 957.022 1295.8 957.022 Q1290.9 957.022 1287.94 959.791 Q1285.01 962.56 1284.56 967.589 L1305.44 967.557 Z\" fill=\"#000000\" fill-rule=\"evenodd\" fill-opacity=\"1\" /><path clip-path=\"url(#clip170)\" d=\"M1350.54 967.048 L1350.54 988.564 L1344.69 988.564 L1344.69 967.239 Q1344.69 962.178 1342.71 959.664 Q1340.74 957.149 1336.79 957.149 Q1332.05 957.149 1329.31 960.173 Q1326.58 963.197 1326.58 968.416 L1326.58 988.564 L1320.69 988.564 L1320.69 952.916 L1326.58 952.916 L1326.58 958.454 Q1328.68 955.239 1331.51 953.648 Q1334.37 952.057 1338.1 952.057 Q1344.24 952.057 1347.39 955.876 Q1350.54 959.664 1350.54 967.048 Z\" fill=\"#000000\" fill-rule=\"evenodd\" fill-opacity=\"1\" /><path clip-path=\"url(#clip170)\" d=\"M1387.88 954.285 L1387.88 959.759 Q1385.39 958.39 1382.88 957.722 Q1380.4 957.022 1377.85 957.022 Q1372.15 957.022 1369 960.65 Q1365.85 964.247 1365.85 970.772 Q1365.85 977.297 1369 980.925 Q1372.15 984.522 1377.85 984.522 Q1380.4 984.522 1382.88 983.853 Q1385.39 983.153 1387.88 981.784 L1387.88 987.195 Q1385.43 988.341 1382.78 988.914 Q1380.18 989.487 1377.21 989.487 Q1369.16 989.487 1364.42 984.426 Q1359.68 979.365 1359.68 970.772 Q1359.68 962.051 1364.45 957.054 Q1369.26 952.057 1377.6 952.057 Q1380.3 952.057 1382.88 952.629 Q1385.46 953.171 1387.88 954.285 Z\" fill=\"#000000\" fill-rule=\"evenodd\" fill-opacity=\"1\" /><path clip-path=\"url(#clip170)\" d=\"M1412.89 991.874 Q1410.41 998.24 1408.06 1000.18 Q1405.7 1002.12 1401.75 1002.12 L1397.08 1002.12 L1397.08 997.221 L1400.51 997.221 Q1402.93 997.221 1404.27 996.075 Q1405.61 994.93 1407.23 990.665 L1408.28 987.991 L1393.86 952.916 L1400.07 952.916 L1411.21 980.798 L1422.35 952.916 L1428.55 952.916 L1412.89 991.874 Z\" fill=\"#000000\" fill-rule=\"evenodd\" fill-opacity=\"1\" /><path clip-path=\"url(#clip170)\" d=\"M1435.72 939.102 L1440.81 939.102 Q1445.58 946.614 1447.94 953.807 Q1450.33 961 1450.33 968.098 Q1450.33 975.228 1447.94 982.453 Q1445.58 989.678 1440.81 997.158 L1435.72 997.158 Q1439.95 989.869 1442.02 982.676 Q1444.12 975.45 1444.12 968.098 Q1444.12 960.746 1442.02 953.584 Q1439.95 946.423 1435.72 939.102 Z\" fill=\"#000000\" fill-rule=\"evenodd\" fill-opacity=\"1\" /><polyline clip-path=\"url(#clip172)\" style=\"stroke:#000000; stroke-linecap:butt; stroke-linejoin:round; stroke-width:2; stroke-opacity:0.1; fill:none\" points=\"\n",
       "  159.565,849.7 1952.76,849.7 \n",
       "  \"/>\n",
       "<polyline clip-path=\"url(#clip172)\" style=\"stroke:#000000; stroke-linecap:butt; stroke-linejoin:round; stroke-width:2; stroke-opacity:0.1; fill:none\" points=\"\n",
       "  159.565,711.955 1952.76,711.955 \n",
       "  \"/>\n",
       "<polyline clip-path=\"url(#clip172)\" style=\"stroke:#000000; stroke-linecap:butt; stroke-linejoin:round; stroke-width:2; stroke-opacity:0.1; fill:none\" points=\"\n",
       "  159.565,574.21 1952.76,574.21 \n",
       "  \"/>\n",
       "<polyline clip-path=\"url(#clip172)\" style=\"stroke:#000000; stroke-linecap:butt; stroke-linejoin:round; stroke-width:2; stroke-opacity:0.1; fill:none\" points=\"\n",
       "  159.565,436.465 1952.76,436.465 \n",
       "  \"/>\n",
       "<polyline clip-path=\"url(#clip172)\" style=\"stroke:#000000; stroke-linecap:butt; stroke-linejoin:round; stroke-width:2; stroke-opacity:0.1; fill:none\" points=\"\n",
       "  159.565,298.72 1952.76,298.72 \n",
       "  \"/>\n",
       "<polyline clip-path=\"url(#clip172)\" style=\"stroke:#000000; stroke-linecap:butt; stroke-linejoin:round; stroke-width:2; stroke-opacity:0.1; fill:none\" points=\"\n",
       "  159.565,160.974 1952.76,160.974 \n",
       "  \"/>\n",
       "<polyline clip-path=\"url(#clip170)\" style=\"stroke:#000000; stroke-linecap:butt; stroke-linejoin:round; stroke-width:4; stroke-opacity:1; fill:none\" points=\"\n",
       "  159.565,849.7 159.565,108.352 \n",
       "  \"/>\n",
       "<polyline clip-path=\"url(#clip170)\" style=\"stroke:#000000; stroke-linecap:butt; stroke-linejoin:round; stroke-width:4; stroke-opacity:1; fill:none\" points=\"\n",
       "  159.565,849.7 178.463,849.7 \n",
       "  \"/>\n",
       "<polyline clip-path=\"url(#clip170)\" style=\"stroke:#000000; stroke-linecap:butt; stroke-linejoin:round; stroke-width:4; stroke-opacity:1; fill:none\" points=\"\n",
       "  159.565,711.955 178.463,711.955 \n",
       "  \"/>\n",
       "<polyline clip-path=\"url(#clip170)\" style=\"stroke:#000000; stroke-linecap:butt; stroke-linejoin:round; stroke-width:4; stroke-opacity:1; fill:none\" points=\"\n",
       "  159.565,574.21 178.463,574.21 \n",
       "  \"/>\n",
       "<polyline clip-path=\"url(#clip170)\" style=\"stroke:#000000; stroke-linecap:butt; stroke-linejoin:round; stroke-width:4; stroke-opacity:1; fill:none\" points=\"\n",
       "  159.565,436.465 178.463,436.465 \n",
       "  \"/>\n",
       "<polyline clip-path=\"url(#clip170)\" style=\"stroke:#000000; stroke-linecap:butt; stroke-linejoin:round; stroke-width:4; stroke-opacity:1; fill:none\" points=\"\n",
       "  159.565,298.72 178.463,298.72 \n",
       "  \"/>\n",
       "<polyline clip-path=\"url(#clip170)\" style=\"stroke:#000000; stroke-linecap:butt; stroke-linejoin:round; stroke-width:4; stroke-opacity:1; fill:none\" points=\"\n",
       "  159.565,160.974 178.463,160.974 \n",
       "  \"/>\n",
       "<path clip-path=\"url(#clip170)\" d=\"M117.621 835.499 Q114.01 835.499 112.181 839.063 Q110.375 842.605 110.375 849.735 Q110.375 856.841 112.181 860.406 Q114.01 863.947 117.621 863.947 Q121.255 863.947 123.061 860.406 Q124.889 856.841 124.889 849.735 Q124.889 842.605 123.061 839.063 Q121.255 835.499 117.621 835.499 M117.621 831.795 Q123.431 831.795 126.487 836.401 Q129.565 840.985 129.565 849.735 Q129.565 858.461 126.487 863.068 Q123.431 867.651 117.621 867.651 Q111.811 867.651 108.732 863.068 Q105.676 858.461 105.676 849.735 Q105.676 840.985 108.732 836.401 Q111.811 831.795 117.621 831.795 Z\" fill=\"#000000\" fill-rule=\"evenodd\" fill-opacity=\"1\" /><path clip-path=\"url(#clip170)\" d=\"M109.658 725.3 L117.297 725.3 L117.297 698.934 L108.987 700.601 L108.987 696.341 L117.25 694.675 L121.926 694.675 L121.926 725.3 L129.565 725.3 L129.565 729.235 L109.658 729.235 L109.658 725.3 Z\" fill=\"#000000\" fill-rule=\"evenodd\" fill-opacity=\"1\" /><path clip-path=\"url(#clip170)\" d=\"M113.246 587.555 L129.565 587.555 L129.565 591.49 L107.621 591.49 L107.621 587.555 Q110.283 584.8 114.866 580.17 Q119.473 575.518 120.653 574.175 Q122.899 571.652 123.778 569.916 Q124.681 568.156 124.681 566.467 Q124.681 563.712 122.737 561.976 Q120.815 560.24 117.713 560.24 Q115.514 560.24 113.061 561.004 Q110.63 561.768 107.852 563.319 L107.852 558.596 Q110.676 557.462 113.13 556.883 Q115.584 556.305 117.621 556.305 Q122.991 556.305 126.186 558.99 Q129.38 561.675 129.38 566.166 Q129.38 568.295 128.57 570.217 Q127.783 572.115 125.676 574.707 Q125.098 575.379 121.996 578.596 Q118.894 581.791 113.246 587.555 Z\" fill=\"#000000\" fill-rule=\"evenodd\" fill-opacity=\"1\" /><path clip-path=\"url(#clip170)\" d=\"M122.436 435.11 Q125.792 435.828 127.667 438.097 Q129.565 440.365 129.565 443.698 Q129.565 448.814 126.047 451.615 Q122.528 454.416 116.047 454.416 Q113.871 454.416 111.556 453.976 Q109.264 453.559 106.811 452.703 L106.811 448.189 Q108.755 449.323 111.07 449.902 Q113.385 450.481 115.908 450.481 Q120.306 450.481 122.598 448.745 Q124.912 447.009 124.912 443.698 Q124.912 440.643 122.76 438.93 Q120.63 437.194 116.811 437.194 L112.783 437.194 L112.783 433.351 L116.996 433.351 Q120.445 433.351 122.274 431.985 Q124.102 430.597 124.102 428.004 Q124.102 425.342 122.204 423.93 Q120.329 422.495 116.811 422.495 Q114.889 422.495 112.69 422.911 Q110.491 423.328 107.852 424.208 L107.852 420.041 Q110.514 419.3 112.829 418.93 Q115.167 418.56 117.227 418.56 Q122.551 418.56 125.653 420.99 Q128.755 423.398 128.755 427.518 Q128.755 430.388 127.112 432.379 Q125.468 434.347 122.436 435.11 Z\" fill=\"#000000\" fill-rule=\"evenodd\" fill-opacity=\"1\" /><path clip-path=\"url(#clip170)\" d=\"M119.982 285.514 L108.176 303.963 L119.982 303.963 L119.982 285.514 M118.755 281.44 L124.635 281.44 L124.635 303.963 L129.565 303.963 L129.565 307.851 L124.635 307.851 L124.635 316 L119.982 316 L119.982 307.851 L104.38 307.851 L104.38 303.338 L118.755 281.44 Z\" fill=\"#000000\" fill-rule=\"evenodd\" fill-opacity=\"1\" /><path clip-path=\"url(#clip170)\" d=\"M108.663 143.694 L127.019 143.694 L127.019 147.63 L112.945 147.63 L112.945 156.102 Q113.963 155.755 114.982 155.593 Q116 155.407 117.019 155.407 Q122.806 155.407 126.186 158.579 Q129.565 161.75 129.565 167.167 Q129.565 172.745 126.093 175.847 Q122.621 178.926 116.301 178.926 Q114.125 178.926 111.857 178.555 Q109.612 178.185 107.204 177.444 L107.204 172.745 Q109.288 173.879 111.51 174.435 Q113.732 174.991 116.209 174.991 Q120.213 174.991 122.551 172.884 Q124.889 170.778 124.889 167.167 Q124.889 163.555 122.551 161.449 Q120.213 159.342 116.209 159.342 Q114.334 159.342 112.459 159.759 Q110.607 160.176 108.663 161.055 L108.663 143.694 Z\" fill=\"#000000\" fill-rule=\"evenodd\" fill-opacity=\"1\" /><path clip-path=\"url(#clip170)\" d=\"M10.599 728.769 L10.599 722.912 L60.1242 722.912 L60.1242 728.769 L10.599 728.769 Z\" fill=\"#000000\" fill-rule=\"evenodd\" fill-opacity=\"1\" /><path clip-path=\"url(#clip170)\" d=\"M28.5821 696.845 Q28.5821 701.555 32.2742 704.292 Q35.9345 707.03 42.332 707.03 Q48.7295 707.03 52.4217 704.324 Q56.0819 701.587 56.0819 696.845 Q56.0819 692.166 52.3898 689.429 Q48.6977 686.691 42.332 686.691 Q35.9981 686.691 32.306 689.429 Q28.5821 692.166 28.5821 696.845 M23.6168 696.845 Q23.6168 689.206 28.5821 684.845 Q33.5473 680.485 42.332 680.485 Q51.0849 680.485 56.0819 684.845 Q61.0472 689.206 61.0472 696.845 Q61.0472 704.515 56.0819 708.876 Q51.0849 713.204 42.332 713.204 Q33.5473 713.204 28.5821 708.876 Q23.6168 704.515 23.6168 696.845 Z\" fill=\"#000000\" fill-rule=\"evenodd\" fill-opacity=\"1\" /><path clip-path=\"url(#clip170)\" d=\"M41.8864 647.319 Q35.5207 647.319 32.0196 649.961 Q28.5184 652.571 28.5184 657.314 Q28.5184 662.024 32.0196 664.666 Q35.5207 667.276 41.8864 667.276 Q48.2203 667.276 51.7214 664.666 Q55.2226 662.024 55.2226 657.314 Q55.2226 652.571 51.7214 649.961 Q48.2203 647.319 41.8864 647.319 M55.7 641.463 Q64.803 641.463 69.2271 645.505 Q73.6831 649.547 73.6831 657.886 Q73.6831 660.974 73.2057 663.711 Q72.7601 666.448 71.8052 669.026 L66.1079 669.026 Q67.5084 666.448 68.1768 663.934 Q68.8452 661.419 68.8452 658.809 Q68.8452 653.048 65.8215 650.184 Q62.8296 647.319 56.7503 647.319 L53.8539 647.319 Q57.005 649.134 58.5646 651.966 Q60.1242 654.799 60.1242 658.746 Q60.1242 665.302 55.1271 669.313 Q50.13 673.323 41.8864 673.323 Q33.611 673.323 28.6139 669.313 Q23.6168 665.302 23.6168 658.746 Q23.6168 654.799 25.1764 651.966 Q26.736 649.134 29.8871 647.319 L24.4762 647.319 L24.4762 641.463 L55.7 641.463 Z\" fill=\"#000000\" fill-rule=\"evenodd\" fill-opacity=\"1\" /><path clip-path=\"url(#clip170)\" d=\"M10.6626 615.332 Q17.9832 619.597 25.1446 621.666 Q32.306 623.734 39.6584 623.734 Q47.0108 623.734 54.2359 621.666 Q61.4291 619.565 68.7179 615.332 L68.7179 620.424 Q61.2382 625.199 54.0131 627.586 Q46.788 629.941 39.6584 629.941 Q32.5606 629.941 25.3674 627.586 Q18.1742 625.23 10.6626 620.424 L10.6626 615.332 Z\" fill=\"#000000\" fill-rule=\"evenodd\" fill-opacity=\"1\" /><path clip-path=\"url(#clip170)\" d=\"M31.4466 576.787 L31.4466 586.049 L42.0774 588.723 L42.0774 579.397 L31.4466 576.787 M13.3362 581.562 L26.5451 584.872 L26.5451 575.578 L13.3362 572.236 L13.3362 567.143 L26.5451 570.422 L26.5451 560.491 L31.4466 560.491 L31.4466 571.663 L42.0774 574.273 L42.0774 564.151 L46.9471 564.151 L46.9471 575.514 L60.1242 578.824 L60.1242 583.917 L46.9471 580.639 L46.9471 589.964 L60.1242 593.243 L60.1242 598.367 L46.9471 595.057 L46.9471 605.083 L42.0774 605.083 L42.0774 593.879 L31.4466 591.206 L31.4466 601.454 L26.5451 601.454 L26.5451 589.964 L13.3362 586.718 L13.3362 581.562 Z\" fill=\"#000000\" fill-rule=\"evenodd\" fill-opacity=\"1\" /><path clip-path=\"url(#clip170)\" d=\"M28.5821 514.817 Q28.5821 519.528 32.2742 522.265 Q35.9345 525.002 42.332 525.002 Q48.7295 525.002 52.4217 522.297 Q56.0819 519.56 56.0819 514.817 Q56.0819 510.138 52.3898 507.401 Q48.6977 504.664 42.332 504.664 Q35.9981 504.664 32.306 507.401 Q28.5821 510.138 28.5821 514.817 M23.6168 514.817 Q23.6168 507.178 28.5821 502.818 Q33.5473 498.457 42.332 498.457 Q51.0849 498.457 56.0819 502.818 Q61.0472 507.178 61.0472 514.817 Q61.0472 522.488 56.0819 526.848 Q51.0849 531.177 42.332 531.177 Q33.5473 531.177 28.5821 526.848 Q23.6168 522.488 23.6168 514.817 Z\" fill=\"#000000\" fill-rule=\"evenodd\" fill-opacity=\"1\" /><path clip-path=\"url(#clip170)\" d=\"M10.599 470.703 L15.4687 470.703 L15.4687 476.305 Q15.4687 479.456 16.7419 480.697 Q18.015 481.906 21.3252 481.906 L24.4762 481.906 L24.4762 472.262 L29.0277 472.262 L29.0277 481.906 L60.1242 481.906 L60.1242 487.795 L29.0277 487.795 L29.0277 493.397 L24.4762 493.397 L24.4762 487.795 L21.9936 487.795 Q16.0416 487.795 13.3362 485.026 Q10.599 482.257 10.599 476.241 L10.599 470.703 Z\" fill=\"#000000\" fill-rule=\"evenodd\" fill-opacity=\"1\" /><path clip-path=\"url(#clip170)\" d=\"M10.599 445.304 L10.599 439.415 L39.8494 439.415 L24.4762 421.942 L24.4762 414.462 L41.1544 433.368 L60.1242 413.666 L60.1242 421.305 L42.7139 439.415 L60.1242 439.415 L60.1242 445.304 L10.599 445.304 Z\" fill=\"#000000\" fill-rule=\"evenodd\" fill-opacity=\"1\" /><path clip-path=\"url(#clip170)\" d=\"M31.3193 379.578 Q27.3726 377.382 25.4947 374.326 Q23.6168 371.27 23.6168 367.133 Q23.6168 361.563 27.5317 358.539 Q31.4148 355.515 38.6081 355.515 L60.1242 355.515 L60.1242 361.404 L38.799 361.404 Q33.6746 361.404 31.192 363.218 Q28.7094 365.032 28.7094 368.756 Q28.7094 373.308 31.7331 375.949 Q34.7568 378.591 39.9767 378.591 L60.1242 378.591 L60.1242 384.479 L38.799 384.479 Q33.6428 384.479 31.192 386.294 Q28.7094 388.108 28.7094 391.895 Q28.7094 396.383 31.7649 399.025 Q34.7886 401.667 39.9767 401.667 L60.1242 401.667 L60.1242 407.555 L24.4762 407.555 L24.4762 401.667 L30.0144 401.667 Q26.736 399.662 25.1764 396.861 Q23.6168 394.06 23.6168 390.208 Q23.6168 386.325 25.5902 383.62 Q27.5636 380.883 31.3193 379.578 Z\" fill=\"#000000\" fill-rule=\"evenodd\" fill-opacity=\"1\" /><path clip-path=\"url(#clip170)\" d=\"M40.8361 313.343 L43.7006 313.343 L43.7006 340.269 Q49.7481 339.888 52.9309 336.641 Q56.0819 333.363 56.0819 327.538 Q56.0819 324.164 55.2544 321.013 Q54.4269 317.83 52.7718 314.711 L58.3099 314.711 Q59.6467 317.862 60.347 321.172 Q61.0472 324.483 61.0472 327.888 Q61.0472 336.418 56.0819 341.415 Q51.1167 346.381 42.6503 346.381 Q33.8974 346.381 28.7731 341.67 Q23.6168 336.927 23.6168 328.907 Q23.6168 321.713 28.2638 317.544 Q32.8789 313.343 40.8361 313.343 M39.1173 319.199 Q34.3112 319.263 31.4466 321.904 Q28.5821 324.514 28.5821 328.843 Q28.5821 333.745 31.3512 336.705 Q34.1202 339.633 39.1492 340.079 L39.1173 319.199 Z\" fill=\"#000000\" fill-rule=\"evenodd\" fill-opacity=\"1\" /><path clip-path=\"url(#clip170)\" d=\"M29.9507 283.074 Q29.3778 284.06 29.1232 285.238 Q28.8367 286.384 28.8367 287.784 Q28.8367 292.749 32.0832 295.423 Q35.2979 298.065 41.3453 298.065 L60.1242 298.065 L60.1242 303.953 L24.4762 303.953 L24.4762 298.065 L30.0144 298.065 Q26.7679 296.219 25.2083 293.259 Q23.6168 290.299 23.6168 286.066 Q23.6168 285.461 23.7123 284.729 Q23.776 283.997 23.9351 283.105 L29.9507 283.074 Z\" fill=\"#000000\" fill-rule=\"evenodd\" fill-opacity=\"1\" /><path clip-path=\"url(#clip170)\" d=\"M25.5265 254.205 L31.0647 254.205 Q29.7916 256.688 29.155 259.361 Q28.5184 262.035 28.5184 264.9 Q28.5184 269.26 29.8552 271.456 Q31.192 273.621 33.8656 273.621 Q35.9026 273.621 37.0803 272.061 Q38.2261 270.501 39.2765 265.791 L39.7221 263.786 Q41.0589 257.547 43.5097 254.937 Q45.9286 252.295 50.2891 252.295 Q55.2544 252.295 58.1508 256.242 Q61.0472 260.157 61.0472 267.032 Q61.0472 269.897 60.4743 273.016 Q59.9332 276.103 58.8192 279.541 L52.7718 279.541 Q54.4587 276.294 55.318 273.143 Q56.1456 269.992 56.1456 266.905 Q56.1456 262.767 54.7451 260.539 Q53.3129 258.311 50.7347 258.311 Q48.3476 258.311 47.0745 259.934 Q45.8013 261.526 44.6237 266.968 L44.1462 269.005 Q43.0004 274.448 40.6451 276.867 Q38.258 279.286 34.1202 279.286 Q29.0913 279.286 26.3541 275.721 Q23.6168 272.156 23.6168 265.6 Q23.6168 262.353 24.0943 259.489 Q24.5717 256.624 25.5265 254.205 Z\" fill=\"#000000\" fill-rule=\"evenodd\" fill-opacity=\"1\" /><path clip-path=\"url(#clip170)\" d=\"M10.6626 243.893 L10.6626 238.8 Q18.1742 234.026 25.3674 231.671 Q32.5606 229.283 39.6584 229.283 Q46.788 229.283 54.0131 231.671 Q61.2382 234.026 68.7179 238.8 L68.7179 243.893 Q61.4291 239.66 54.2359 237.591 Q47.0108 235.49 39.6584 235.49 Q32.306 235.49 25.1446 237.591 Q17.9832 239.66 10.6626 243.893 Z\" fill=\"#000000\" fill-rule=\"evenodd\" fill-opacity=\"1\" /><path clip-path=\"url(#clip170)\" d=\"M699.6 9.54393 L707.094 9.54393 L707.094 46.7717 L729.334 27.2059 L738.853 27.2059 L714.791 48.4326 L739.866 72.576 L730.144 72.576 L707.094 50.4176 L707.094 72.576 L699.6 72.576 L699.6 9.54393 Z\" fill=\"#000000\" fill-rule=\"evenodd\" fill-opacity=\"1\" /><path clip-path=\"url(#clip170)\" d=\"M783.251 35.9153 Q786.046 30.8922 789.935 28.5022 Q793.824 26.1121 799.09 26.1121 Q806.179 26.1121 810.028 31.0947 Q813.876 36.0368 813.876 45.1919 L813.876 72.576 L806.382 72.576 L806.382 45.4349 Q806.382 38.913 804.073 35.7533 Q801.764 32.5936 797.024 32.5936 Q791.231 32.5936 787.869 36.4419 Q784.507 40.2903 784.507 46.9338 L784.507 72.576 L777.013 72.576 L777.013 45.4349 Q777.013 38.8725 774.704 35.7533 Q772.395 32.5936 767.574 32.5936 Q761.862 32.5936 758.5 36.4824 Q755.138 40.3308 755.138 46.9338 L755.138 72.576 L747.644 72.576 L747.644 27.2059 L755.138 27.2059 L755.138 34.2544 Q757.69 30.082 761.255 28.0971 Q764.82 26.1121 769.721 26.1121 Q774.663 26.1121 778.106 28.6237 Q781.59 31.1352 783.251 35.9153 Z\" fill=\"#000000\" fill-rule=\"evenodd\" fill-opacity=\"1\" /><path clip-path=\"url(#clip170)\" d=\"M867.55 48.0275 L867.55 51.6733 L833.28 51.6733 Q833.766 59.3701 837.898 63.421 Q842.07 67.4314 849.483 67.4314 Q853.777 67.4314 857.788 66.3781 Q861.839 65.3249 865.809 63.2184 L865.809 70.267 Q861.798 71.9684 857.585 72.8596 Q853.372 73.7508 849.038 73.7508 Q838.181 73.7508 831.821 67.4314 Q825.502 61.1119 825.502 50.3365 Q825.502 39.1965 831.497 32.6746 Q837.533 26.1121 847.742 26.1121 Q856.897 26.1121 862.203 32.0264 Q867.55 37.9003 867.55 48.0275 M860.097 45.84 Q860.016 39.7232 856.654 36.0774 Q853.332 32.4315 847.823 32.4315 Q841.584 32.4315 837.817 35.9558 Q834.09 39.4801 833.523 45.8805 L860.097 45.84 Z\" fill=\"#000000\" fill-rule=\"evenodd\" fill-opacity=\"1\" /><path clip-path=\"url(#clip170)\" d=\"M906.075 34.1734 Q904.819 33.4443 903.32 33.1202 Q901.862 32.7556 900.079 32.7556 Q893.76 32.7556 890.357 36.8875 Q886.995 40.9789 886.995 48.6757 L886.995 72.576 L879.501 72.576 L879.501 27.2059 L886.995 27.2059 L886.995 34.2544 Q889.344 30.1225 893.112 28.1376 Q896.879 26.1121 902.267 26.1121 Q903.036 26.1121 903.968 26.2337 Q904.9 26.3147 906.034 26.5172 L906.075 34.1734 Z\" fill=\"#000000\" fill-rule=\"evenodd\" fill-opacity=\"1\" /><path clip-path=\"url(#clip170)\" d=\"M963.233 9.54393 L963.233 15.7418 L956.103 15.7418 Q952.093 15.7418 950.513 17.3622 Q948.974 18.9825 948.974 23.1955 L948.974 27.2059 L961.248 27.2059 L961.248 32.9987 L948.974 32.9987 L948.974 72.576 L941.479 72.576 L941.479 32.9987 L934.35 32.9987 L934.35 27.2059 L941.479 27.2059 L941.479 24.0462 Q941.479 16.471 945.004 13.0277 Q948.528 9.54393 956.184 9.54393 L963.233 9.54393 Z\" fill=\"#000000\" fill-rule=\"evenodd\" fill-opacity=\"1\" /><path clip-path=\"url(#clip170)\" d=\"M995.762 34.1734 Q994.506 33.4443 993.007 33.1202 Q991.549 32.7556 989.766 32.7556 Q983.447 32.7556 980.044 36.8875 Q976.682 40.9789 976.682 48.6757 L976.682 72.576 L969.188 72.576 L969.188 27.2059 L976.682 27.2059 L976.682 34.2544 Q979.031 30.1225 982.799 28.1376 Q986.566 26.1121 991.954 26.1121 Q992.723 26.1121 993.655 26.2337 Q994.587 26.3147 995.721 26.5172 L995.762 34.1734 Z\" fill=\"#000000\" fill-rule=\"evenodd\" fill-opacity=\"1\" /><path clip-path=\"url(#clip170)\" d=\"M1040.56 48.0275 L1040.56 51.6733 L1006.29 51.6733 Q1006.78 59.3701 1010.91 63.421 Q1015.08 67.4314 1022.5 67.4314 Q1026.79 67.4314 1030.8 66.3781 Q1034.85 65.3249 1038.82 63.2184 L1038.82 70.267 Q1034.81 71.9684 1030.6 72.8596 Q1026.39 73.7508 1022.05 73.7508 Q1011.2 73.7508 1004.84 67.4314 Q998.516 61.1119 998.516 50.3365 Q998.516 39.1965 1004.51 32.6746 Q1010.55 26.1121 1020.76 26.1121 Q1029.91 26.1121 1035.22 32.0264 Q1040.56 37.9003 1040.56 48.0275 M1033.11 45.84 Q1033.03 39.7232 1029.67 36.0774 Q1026.35 32.4315 1020.84 32.4315 Q1014.6 32.4315 1010.83 35.9558 Q1007.1 39.4801 1006.54 45.8805 L1033.11 45.84 Z\" fill=\"#000000\" fill-rule=\"evenodd\" fill-opacity=\"1\" /><path clip-path=\"url(#clip170)\" d=\"M1057.25 49.9314 Q1057.25 58.1548 1060.62 62.8538 Q1064.02 67.5124 1069.93 67.5124 Q1075.85 67.5124 1079.25 62.8538 Q1082.65 58.1548 1082.65 49.9314 Q1082.65 41.7081 1079.25 37.0496 Q1075.85 32.3505 1069.93 32.3505 Q1064.02 32.3505 1060.62 37.0496 Q1057.25 41.7081 1057.25 49.9314 M1082.65 65.7705 Q1080.3 69.8214 1076.7 71.8063 Q1073.13 73.7508 1068.11 73.7508 Q1059.89 73.7508 1054.7 67.1883 Q1049.56 60.6258 1049.56 49.9314 Q1049.56 39.2371 1054.7 32.6746 Q1059.89 26.1121 1068.11 26.1121 Q1073.13 26.1121 1076.7 28.0971 Q1080.3 30.0415 1082.65 34.0924 L1082.65 27.2059 L1090.11 27.2059 L1090.11 89.8329 L1082.65 89.8329 L1082.65 65.7705 Z\" fill=\"#000000\" fill-rule=\"evenodd\" fill-opacity=\"1\" /><path clip-path=\"url(#clip170)\" d=\"M1104.69 54.671 L1104.69 27.2059 L1112.14 27.2059 L1112.14 54.3874 Q1112.14 60.8284 1114.66 64.0691 Q1117.17 67.2693 1122.19 67.2693 Q1128.23 67.2693 1131.71 63.421 Q1135.23 59.5726 1135.23 52.9291 L1135.23 27.2059 L1142.69 27.2059 L1142.69 72.576 L1135.23 72.576 L1135.23 65.6084 Q1132.52 69.7404 1128.91 71.7658 Q1125.35 73.7508 1120.61 73.7508 Q1112.79 73.7508 1108.74 68.8897 Q1104.69 64.0286 1104.69 54.671 M1123.45 26.1121 L1123.45 26.1121 Z\" fill=\"#000000\" fill-rule=\"evenodd\" fill-opacity=\"1\" /><path clip-path=\"url(#clip170)\" d=\"M1196.85 48.0275 L1196.85 51.6733 L1162.58 51.6733 Q1163.06 59.3701 1167.2 63.421 Q1171.37 67.4314 1178.78 67.4314 Q1183.08 67.4314 1187.09 66.3781 Q1191.14 65.3249 1195.11 63.2184 L1195.11 70.267 Q1191.1 71.9684 1186.88 72.8596 Q1182.67 73.7508 1178.34 73.7508 Q1167.48 73.7508 1161.12 67.4314 Q1154.8 61.1119 1154.8 50.3365 Q1154.8 39.1965 1160.8 32.6746 Q1166.83 26.1121 1177.04 26.1121 Q1186.19 26.1121 1191.5 32.0264 Q1196.85 37.9003 1196.85 48.0275 M1189.39 45.84 Q1189.31 39.7232 1185.95 36.0774 Q1182.63 32.4315 1177.12 32.4315 Q1170.88 32.4315 1167.11 35.9558 Q1163.39 39.4801 1162.82 45.8805 L1189.39 45.84 Z\" fill=\"#000000\" fill-rule=\"evenodd\" fill-opacity=\"1\" /><path clip-path=\"url(#clip170)\" d=\"M1246.8 45.1919 L1246.8 72.576 L1239.34 72.576 L1239.34 45.4349 Q1239.34 38.994 1236.83 35.7938 Q1234.32 32.5936 1229.3 32.5936 Q1223.26 32.5936 1219.78 36.4419 Q1216.29 40.2903 1216.29 46.9338 L1216.29 72.576 L1208.8 72.576 L1208.8 27.2059 L1216.29 27.2059 L1216.29 34.2544 Q1218.97 30.163 1222.57 28.1376 Q1226.22 26.1121 1230.96 26.1121 Q1238.78 26.1121 1242.79 30.9732 Q1246.8 35.7938 1246.8 45.1919 Z\" fill=\"#000000\" fill-rule=\"evenodd\" fill-opacity=\"1\" /><path clip-path=\"url(#clip170)\" d=\"M1294.31 28.9478 L1294.31 35.9153 Q1291.15 34.1734 1287.95 33.3227 Q1284.79 32.4315 1281.55 32.4315 Q1274.3 32.4315 1270.29 37.0496 Q1266.28 41.6271 1266.28 49.9314 Q1266.28 58.2358 1270.29 62.8538 Q1274.3 67.4314 1281.55 67.4314 Q1284.79 67.4314 1287.95 66.5807 Q1291.15 65.6895 1294.31 63.9476 L1294.31 70.8341 Q1291.19 72.2924 1287.83 73.0216 Q1284.51 73.7508 1280.74 73.7508 Q1270.49 73.7508 1264.46 67.3098 Q1258.42 60.8689 1258.42 49.9314 Q1258.42 38.832 1264.5 32.472 Q1270.62 26.1121 1281.23 26.1121 Q1284.67 26.1121 1287.95 26.8413 Q1291.23 27.5299 1294.31 28.9478 Z\" fill=\"#000000\" fill-rule=\"evenodd\" fill-opacity=\"1\" /><path clip-path=\"url(#clip170)\" d=\"M1307.28 27.2059 L1314.73 27.2059 L1314.73 72.576 L1307.28 72.576 L1307.28 27.2059 M1307.28 9.54393 L1314.73 9.54393 L1314.73 18.9825 L1307.28 18.9825 L1307.28 9.54393 Z\" fill=\"#000000\" fill-rule=\"evenodd\" fill-opacity=\"1\" /><path clip-path=\"url(#clip170)\" d=\"M1369.13 48.0275 L1369.13 51.6733 L1334.86 51.6733 Q1335.35 59.3701 1339.48 63.421 Q1343.65 67.4314 1351.07 67.4314 Q1355.36 67.4314 1359.37 66.3781 Q1363.42 65.3249 1367.39 63.2184 L1367.39 70.267 Q1363.38 71.9684 1359.17 72.8596 Q1354.96 73.7508 1350.62 73.7508 Q1339.76 73.7508 1333.4 67.4314 Q1327.09 61.1119 1327.09 50.3365 Q1327.09 39.1965 1333.08 32.6746 Q1339.12 26.1121 1349.32 26.1121 Q1358.48 26.1121 1363.79 32.0264 Q1369.13 37.9003 1369.13 48.0275 M1361.68 45.84 Q1361.6 39.7232 1358.24 36.0774 Q1354.91 32.4315 1349.41 32.4315 Q1343.17 32.4315 1339.4 35.9558 Q1335.67 39.4801 1335.11 45.8805 L1361.68 45.84 Z\" fill=\"#000000\" fill-rule=\"evenodd\" fill-opacity=\"1\" /><path clip-path=\"url(#clip170)\" d=\"M1410.29 28.5427 L1410.29 35.5912 Q1407.13 33.9709 1403.73 33.1607 Q1400.33 32.3505 1396.68 32.3505 Q1391.13 32.3505 1388.33 34.0519 Q1385.58 35.7533 1385.58 39.156 Q1385.58 41.7486 1387.57 43.2475 Q1389.55 44.7058 1395.55 46.0426 L1398.1 46.6097 Q1406.04 48.3111 1409.36 51.4303 Q1412.72 54.509 1412.72 60.0587 Q1412.72 66.3781 1407.7 70.0644 Q1402.72 73.7508 1393.97 73.7508 Q1390.32 73.7508 1386.35 73.0216 Q1382.42 72.3329 1378.05 70.9151 L1378.05 63.2184 Q1382.18 65.3654 1386.19 66.4591 Q1390.2 67.5124 1394.13 67.5124 Q1399.39 67.5124 1402.23 65.73 Q1405.06 63.9071 1405.06 60.6258 Q1405.06 57.5877 1403 55.9673 Q1400.97 54.3469 1394.05 52.8481 L1391.45 52.2405 Q1384.53 50.7821 1381.45 47.7845 Q1378.37 44.7463 1378.37 39.4801 Q1378.37 33.0797 1382.91 29.5959 Q1387.44 26.1121 1395.79 26.1121 Q1399.92 26.1121 1403.57 26.7198 Q1407.21 27.3274 1410.29 28.5427 Z\" fill=\"#000000\" fill-rule=\"evenodd\" fill-opacity=\"1\" /><circle clip-path=\"url(#clip172)\" cx=\"1776.62\" cy=\"849.7\" r=\"14\" fill=\"#009af9\" fill-rule=\"evenodd\" fill-opacity=\"1\" stroke=\"#000000\" stroke-opacity=\"1\" stroke-width=\"2\"/>\n",
       "<circle clip-path=\"url(#clip172)\" cx=\"1689.31\" cy=\"849.7\" r=\"14\" fill=\"#009af9\" fill-rule=\"evenodd\" fill-opacity=\"1\" stroke=\"#000000\" stroke-opacity=\"1\" stroke-width=\"2\"/>\n",
       "<circle clip-path=\"url(#clip172)\" cx=\"1773.74\" cy=\"849.7\" r=\"14\" fill=\"#009af9\" fill-rule=\"evenodd\" fill-opacity=\"1\" stroke=\"#000000\" stroke-opacity=\"1\" stroke-width=\"2\"/>\n",
       "<circle clip-path=\"url(#clip172)\" cx=\"1776.88\" cy=\"849.7\" r=\"14\" fill=\"#009af9\" fill-rule=\"evenodd\" fill-opacity=\"1\" stroke=\"#000000\" stroke-opacity=\"1\" stroke-width=\"2\"/>\n",
       "<circle clip-path=\"url(#clip172)\" cx=\"1777.13\" cy=\"246.097\" r=\"14\" fill=\"#009af9\" fill-rule=\"evenodd\" fill-opacity=\"1\" stroke=\"#000000\" stroke-opacity=\"1\" stroke-width=\"2\"/>\n",
       "<circle clip-path=\"url(#clip172)\" cx=\"1758.41\" cy=\"849.7\" r=\"14\" fill=\"#009af9\" fill-rule=\"evenodd\" fill-opacity=\"1\" stroke=\"#000000\" stroke-opacity=\"1\" stroke-width=\"2\"/>\n",
       "<circle clip-path=\"url(#clip172)\" cx=\"1662.49\" cy=\"849.7\" r=\"14\" fill=\"#009af9\" fill-rule=\"evenodd\" fill-opacity=\"1\" stroke=\"#000000\" stroke-opacity=\"1\" stroke-width=\"2\"/>\n",
       "<circle clip-path=\"url(#clip172)\" cx=\"1777.1\" cy=\"754.222\" r=\"14\" fill=\"#009af9\" fill-rule=\"evenodd\" fill-opacity=\"1\" stroke=\"#000000\" stroke-opacity=\"1\" stroke-width=\"2\"/>\n",
       "<circle clip-path=\"url(#clip172)\" cx=\"1116.9\" cy=\"849.7\" r=\"14\" fill=\"#009af9\" fill-rule=\"evenodd\" fill-opacity=\"1\" stroke=\"#000000\" stroke-opacity=\"1\" stroke-width=\"2\"/>\n",
       "<circle clip-path=\"url(#clip172)\" cx=\"1774.42\" cy=\"849.7\" r=\"14\" fill=\"#009af9\" fill-rule=\"evenodd\" fill-opacity=\"1\" stroke=\"#000000\" stroke-opacity=\"1\" stroke-width=\"2\"/>\n",
       "<circle clip-path=\"url(#clip172)\" cx=\"1756.8\" cy=\"849.7\" r=\"14\" fill=\"#009af9\" fill-rule=\"evenodd\" fill-opacity=\"1\" stroke=\"#000000\" stroke-opacity=\"1\" stroke-width=\"2\"/>\n",
       "<circle clip-path=\"url(#clip172)\" cx=\"1285.35\" cy=\"849.7\" r=\"14\" fill=\"#009af9\" fill-rule=\"evenodd\" fill-opacity=\"1\" stroke=\"#000000\" stroke-opacity=\"1\" stroke-width=\"2\"/>\n",
       "</svg>\n"
      ]
     },
     "execution_count": 57,
     "metadata": {},
     "output_type": "execute_result"
    }
   ],
   "source": [
    "kmer_counts = Dict(corrected_observation_graph.vprops[v][:kmer] => corrected_observation_graph.vprops[v][:weight] for v in Graphs.vertices(corrected_observation_graph))\n",
    "total_observed_kmers = sum(values(kmer_counts))\n",
    "kmer_probabilities = Dict(k => v/total_observed_kmers for (k,v) in kmer_counts)\n",
    "scale = 250\n",
    "Mycelia.plot_kmer_frequency_spectra(values(kmer_counts), size=(2scale,scale), title=\"kmer frequencies\")"
   ]
  },
  {
   "cell_type": "code",
   "execution_count": 58,
   "metadata": {},
   "outputs": [],
   "source": [
    "# compare the new graph to the error-free graph to the error-corrected graph"
   ]
  },
  {
   "cell_type": "code",
   "execution_count": 59,
   "metadata": {},
   "outputs": [
    {
     "name": "stdout",
     "output_type": "stream",
     "text": [
      "length(Set(reference_kmers)) = 88\n",
      "length(Set(keys(kmer_counts))) = 92\n",
      "distance_to_reference_graph = 0.04347826086956519\n"
     ]
    }
   ],
   "source": [
    "reference_kmers = keys(Mycelia.count_canonical_kmers(BioSequences.DNAMer{k}, reference_fasta_file))\n",
    "distance_to_reference_graph = 1 - LSHFunctions.jaccard(Set(reference_kmers), Set(keys(kmer_counts)))\n",
    "@show length(Set(reference_kmers))\n",
    "@show length(Set(keys(kmer_counts)))\n",
    "@show distance_to_reference_graph;"
   ]
  },
  {
   "cell_type": "markdown",
   "metadata": {},
   "source": [
    "# Final polish and reduction"
   ]
  },
  {
   "cell_type": "code",
   "execution_count": 60,
   "metadata": {},
   "outputs": [
    {
     "data": {
      "text/plain": [
       "92-element Vector{Int64}:\n",
       "  1\n",
       "  2\n",
       "  3\n",
       "  4\n",
       "  5\n",
       "  6\n",
       "  7\n",
       "  8\n",
       "  9\n",
       " 10\n",
       " 11\n",
       " 12\n",
       " 13\n",
       "  ⋮\n",
       " 81\n",
       " 82\n",
       " 83\n",
       " 84\n",
       " 85\n",
       " 86\n",
       " 87\n",
       " 88\n",
       " 89\n",
       " 90\n",
       " 91\n",
       " 92"
      ]
     },
     "execution_count": 60,
     "metadata": {},
     "output_type": "execute_result"
    }
   ],
   "source": [
    "# to_filter = Int[]\n",
    "connected_component = first(Graphs.connected_components(corrected_observation_graph))"
   ]
  },
  {
   "cell_type": "code",
   "execution_count": 61,
   "metadata": {},
   "outputs": [
    {
     "data": {
      "text/plain": [
       "4-element Vector{Int64}:\n",
       " 18\n",
       " 60\n",
       " 65\n",
       " 77"
      ]
     },
     "execution_count": 61,
     "metadata": {},
     "output_type": "execute_result"
    }
   ],
   "source": [
    "tip_vertices = filter(v -> Graphs.degree(corrected_observation_graph, v) == 2, Graphs.vertices(corrected_observation_graph))"
   ]
  },
  {
   "cell_type": "code",
   "execution_count": 62,
   "metadata": {},
   "outputs": [
    {
     "data": {
      "text/plain": [
       "92-element Vector{Int64}:\n",
       " 10000\n",
       " 10000\n",
       " 10000\n",
       " 10000\n",
       " 10000\n",
       " 10000\n",
       " 10000\n",
       " 10000\n",
       " 10000\n",
       " 10000\n",
       " 10000\n",
       " 10000\n",
       " 10000\n",
       "     ⋮\n",
       " 10000\n",
       " 10000\n",
       " 10000\n",
       " 10000\n",
       " 10000\n",
       " 10000\n",
       " 10000\n",
       " 10000\n",
       "  9847\n",
       "  8989\n",
       " 10000\n",
       " 10000"
      ]
     },
     "execution_count": 62,
     "metadata": {},
     "output_type": "execute_result"
    }
   ],
   "source": [
    "component_weights = map(v -> corrected_observation_graph.vprops[v][:weight], connected_component)"
   ]
  },
  {
   "cell_type": "code",
   "execution_count": 63,
   "metadata": {},
   "outputs": [
    {
     "data": {
      "text/plain": [
       "10000.0"
      ]
     },
     "execution_count": 63,
     "metadata": {},
     "output_type": "execute_result"
    }
   ],
   "source": [
    "component_median = Statistics.median(component_weights)"
   ]
  },
  {
   "cell_type": "code",
   "execution_count": 64,
   "metadata": {},
   "outputs": [
    {
     "data": {
      "text/plain": [
       "1534.6343418504662"
      ]
     },
     "execution_count": 64,
     "metadata": {},
     "output_type": "execute_result"
    }
   ],
   "source": [
    "component_standard_deviation = Statistics.std(component_weights)"
   ]
  },
  {
   "cell_type": "code",
   "execution_count": 67,
   "metadata": {},
   "outputs": [
    {
     "data": {
      "text/plain": [
       "4-element Vector{Int64}:\n",
       " 18\n",
       " 60\n",
       " 65\n",
       " 77"
      ]
     },
     "execution_count": 67,
     "metadata": {},
     "output_type": "execute_result"
    }
   ],
   "source": [
    "tips_to_drop = filter(tip -> corrected_observation_graph.vprops[tip][:weight] < component_median - 2*component_standard_deviation, tip_vertices) "
   ]
  },
  {
   "cell_type": "code",
   "execution_count": 68,
   "metadata": {},
   "outputs": [
    {
     "data": {
      "text/plain": [
       "({88, 174} directed Int64 metagraph with Float64 weights defined by :weight (default weight 1.0), [1, 2, 3, 4, 5, 6, 7, 8, 9, 10  …  83, 84, 85, 86, 87, 88, 89, 90, 91, 92])"
      ]
     },
     "execution_count": 68,
     "metadata": {},
     "output_type": "execute_result"
    }
   ],
   "source": [
    "polished_graph, vertex_map = Graphs.induced_subgraph(corrected_observation_graph, setdiff(Graphs.vertices(corrected_observation_graph), tips_to_drop))"
   ]
  },
  {
   "cell_type": "code",
   "execution_count": 70,
   "metadata": {},
   "outputs": [
    {
     "name": "stderr",
     "output_type": "stream",
     "text": [
      "┌ Info: simplifying kmer graph\n",
      "└ @ Mycelia /home/jovyan/git/Mycelia/src/Mycelia.jl:2260\n",
      "┌ Info: resolving untigs...\n",
      "└ @ Mycelia /home/jovyan/git/Mycelia/src/Mycelia.jl:2261\n"
     ]
    },
    {
     "name": "stdout",
     "output_type": "stream",
     "text": [
      "  0.435701 seconds (369.19 k allocations: 22.173 MiB, 98.55% compilation time)\n"
     ]
    },
    {
     "name": "stderr",
     "output_type": "stream",
     "text": [
      "┌ Info: determining untig orientations...\n",
      "└ @ Mycelia /home/jovyan/git/Mycelia/src/Mycelia.jl:2264\n"
     ]
    },
    {
     "name": "stdout",
     "output_type": "stream",
     "text": [
      "  0.203587 seconds (189.29 k allocations: 11.308 MiB, 98.54% compilation time)\n"
     ]
    },
    {
     "name": "stderr",
     "output_type": "stream",
     "text": [
      "┌ Info: initializing graph node metadata\n",
      "└ @ Mycelia /home/jovyan/git/Mycelia/src/Mycelia.jl:2269\n",
      "┌ Info: creating simplified unitgs to help resolve connections\n",
      "└ @ Mycelia /home/jovyan/git/Mycelia/src/Mycelia.jl:2279\n"
     ]
    },
    {
     "data": {
      "text/plain": [
       "{1, 0} directed Int64 metagraph with Float64 weights defined by :weight (default weight 1.0)"
      ]
     },
     "execution_count": 70,
     "metadata": {},
     "output_type": "execute_result"
    }
   ],
   "source": [
    "simplified_graph = Mycelia.simplify_kmer_graph(polished_graph)"
   ]
  },
  {
   "cell_type": "code",
   "execution_count": 71,
   "metadata": {},
   "outputs": [
    {
     "data": {
      "text/html": [
       "<img src=./../../../2021-08-23/LENGTH-100-DEPTH-10000.k11.k13.fastq.k-13.simplified.gfa.svg>"
      ]
     },
     "metadata": {},
     "output_type": "display_data"
    }
   ],
   "source": [
    "# write simplified graph to gfa\n",
    "\n",
    "# visualize\n",
    "gfa_file = corrected_fastq_file * \".k-$k.simplified.gfa\"\n",
    "Mycelia.graph_to_gfa(simplified_graph, gfa_file)\n",
    "\n",
    "run(`$(BANDAGE) image $(gfa_file) $(gfa_file).svg --depwidth .9 --deppower .9`)\n",
    "# --nodewidth <float> Average node width (0.5 to 1000, default: 5)\n",
    "# --depwidth <float>  Depth effect on width (0 to 1, default: 0.5)\n",
    "# --deppower <float>  Power of depth effect on width (0 to 1, default: 0.5)\n",
    "\n",
    "html_path_to_svg = \"./\" * repeat(\"../\", length(split(pwd(), '/')) - 3)\n",
    "html_path_to_svg *= replace(\"$(gfa_file).svg\", \"$(homedir())/\" => \"\")\n",
    "\n",
    "x = \"<img src=$(html_path_to_svg)>\"\n",
    "display(\"text/html\", x)\n",
    "# display(\"image/svg+xml\", read(\"$(gfa_file).svg\", String))"
   ]
  },
  {
   "cell_type": "code",
   "execution_count": 80,
   "metadata": {},
   "outputs": [
    {
     "data": {
      "text/plain": [
       "10000.0"
      ]
     },
     "execution_count": 80,
     "metadata": {},
     "output_type": "execute_result"
    }
   ],
   "source": [
    "simplified_graph.vprops[1][:weight]"
   ]
  },
  {
   "cell_type": "code",
   "execution_count": 75,
   "metadata": {},
   "outputs": [
    {
     "data": {
      "text/plain": [
       "100nt DNA Sequence:\n",
       "CTCACTGCAAAGCGCCCAGACCAGAGCCTCACCTACAAG…TGTACTATCTTCTCGAATACCAGCCGTCGGCCGGTATAA"
      ]
     },
     "execution_count": 75,
     "metadata": {},
     "output_type": "execute_result"
    }
   ],
   "source": [
    "vertex = 1\n",
    "FASTX.FASTA.Record(\n",
    "    ,\n",
    "    \"DEPTH=$()\",\n",
    "    simplified_graph.vprops[vertex][:sequence])"
   ]
  },
  {
   "cell_type": "code",
   "execution_count": 77,
   "metadata": {},
   "outputs": [
    {
     "data": {
      "text/plain": [
       "true"
      ]
     },
     "execution_count": 77,
     "metadata": {},
     "output_type": "execute_result"
    }
   ],
   "source": [
    "FASTX.sequence(fasta_record) == simplified_graph.vprops[1][:sequence]"
   ]
  },
  {
   "cell_type": "markdown",
   "metadata": {},
   "source": [
    "# !! EXACTLY THE SAME!!!"
   ]
  },
  {
   "cell_type": "code",
   "execution_count": 83,
   "metadata": {},
   "outputs": [
    {
     "name": "stdout",
     "output_type": "stream",
     "text": [
      "record = FASTX.FASTA.Record:\n",
      "   identifier: 3157291459485254640-2021-08-23T23:41:50.685\n",
      "  description: 10000.0\n",
      "     sequence: CTCACTGCAAAGCGCCCAGACCAGAGCCTCACCTACAAG…\n"
     ]
    }
   ],
   "source": [
    "# write contigs to fasta\n",
    "final_fasta_file = corrected_fastq_file * \".k-$k.simplified.fasta\"\n",
    "open(final_fasta_file, \"w\") do io\n",
    "    fasta_io = FASTX.FASTA.Writer(io)\n",
    "    for vertex in Graphs.vertices(simplified_graph)\n",
    "        seq = simplified_graph.vprops[vertex][:sequence]\n",
    "        description = string(simplified_graph.vprops[vertex][:weight])\n",
    "        id = string(hash(seq)) * '-' * string(Dates.now())\n",
    "        record = FASTX.FASTA.Record(id, description, seq)\n",
    "        @show record\n",
    "        write(fasta_io, record)\n",
    "    end\n",
    "    close(fasta_io)\n",
    "end"
   ]
  }
 ],
 "metadata": {
  "kernelspec": {
   "display_name": "Julia 1.6.3",
   "language": "julia",
   "name": "julia-1.6"
  },
  "language_info": {
   "file_extension": ".jl",
   "mimetype": "application/julia",
   "name": "julia",
   "version": "1.6.3"
  }
 },
 "nbformat": 4,
 "nbformat_minor": 5
}
