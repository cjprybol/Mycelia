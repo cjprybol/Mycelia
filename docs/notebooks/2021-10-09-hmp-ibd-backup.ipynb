{
 "cells": [
  {
   "cell_type": "code",
   "execution_count": 1,
   "id": "6ac73c46-51c9-4fea-845f-fb17ce8d83a2",
   "metadata": {
    "tags": []
   },
   "outputs": [],
   "source": [
    "DATE = \"2021-10-09\"\n",
    "TASK = \"hmp-ibd\"\n",
    "DIR = mkpath(\"$(homedir())/$(DATE)-$(TASK)\")\n",
    "cd(DIR)"
   ]
  },
  {
   "cell_type": "code",
   "execution_count": 2,
   "id": "38cb383f-3696-4b4b-a732-9a2059e0681a",
   "metadata": {
    "tags": []
   },
   "outputs": [],
   "source": [
    "import Pkg\n",
    "pkgs = [\n",
    "    \"BioAlignments\",\n",
    "    \"BioSequences\",\n",
    "    \"Clustering\",\n",
    "    \"CodecZlib\",\n",
    "    \"CodecBzip2\",\n",
    "#     \"Colors\",\n",
    "#     \"Combinatorics\",\n",
    "    \"DataFrames\",\n",
    "    \"DataStructures\",\n",
    "    \"Dates\",\n",
    "#     \"DelimitedFiles\",\n",
    "    \"Distances\",\n",
    "    \"Distributions\",\n",
    "#     \"EzXML\",\n",
    "    \"FASTX\",\n",
    "#     \"GFF3\",\n",
    "    \"GLM\",\n",
    "    \"GraphPlot\",\n",
    "#     \"HTTP\",\n",
    "#     \"Impute\",\n",
    "#     \"JSON\",\n",
    "    \"Graphs\",\n",
    "    \"LsqFit\",\n",
    "#     \"LSHFunctions\",\n",
    "#     \"Measures\",\n",
    "    \"MetaGraphs\",\n",
    "    \"https://github.com/cjprybol/Mycelia.git\",\n",
    "    \"MultivariateStats\",\n",
    "#     \"NumericIO\",\n",
    "    \"OnlineStats\",\n",
    "#     \"PlotlyJS\",\n",
    "#     \"Plots\",\n",
    "    \"Primes\",\n",
    "#     \"Printf\",\n",
    "    \"ProgressMeter\",\n",
    "    \"Random\",\n",
    "    \"Revise\",\n",
    "    \"SparseArrays\",\n",
    "    \"Statistics\",\n",
    "    \"StatsBase\",\n",
    "    \"StatsPlots\",\n",
    "#     \"StringDistances\",\n",
    "    \"uCSV\",\n",
    "#     \"XLSX\",\n",
    "    \"RollingFunctions\",\n",
    "]\n",
    "\n",
    "unregistered_packages = filter(pkg -> occursin(r\"(^https|git$)\", pkg), pkgs)\n",
    "registered_packages = setdiff(pkgs, unregistered_packages)\n",
    "\n",
    "for pkg in registered_packages\n",
    "    try\n",
    "        eval(Meta.parse(\"import $(pkg)\"))\n",
    "    catch\n",
    "        Pkg.add(pkg)\n",
    "        Pkg.build(pkg)\n",
    "        eval(Meta.parse(\"import $(pkg)\"))\n",
    "    end\n",
    "end\n",
    "\n",
    "for pkg_url in unregistered_packages\n",
    "    pkg_name = replace(basename(pkg_url), \".git\" => \"\")\n",
    "    try\n",
    "        eval(Meta.parse(\"import $(pkg_name)\"))\n",
    "    catch\n",
    "        Pkg.develop(url=pkg_url)\n",
    "        Pkg.build(pkg_name)\n",
    "        eval(Meta.parse(\"import $(pkg_name)\"))\n",
    "    end\n",
    "end"
   ]
  },
  {
   "cell_type": "code",
   "execution_count": 3,
   "id": "31f283bb-1b44-476c-a76b-de5a9e89a6b6",
   "metadata": {},
   "outputs": [
    {
     "data": {
      "text/plain": [
       "find_rank_match (generic function with 1 method)"
      ]
     },
     "execution_count": 3,
     "metadata": {},
     "output_type": "execute_result"
    }
   ],
   "source": [
    "function find_rank_match(sorted_rank, terminal_node)\n",
    "    \n",
    "    name_map = Dict(\n",
    "        \"thermi\" => \"Deinococcus-Thermus\"\n",
    "    )\n",
    "    \n",
    "    normalized_name = replace(replace(terminal_node, r\"\\w__\" => \"\"), '_' => ' ')\n",
    "    sorted_search_index_range = searchsorted(sorted_rank, normalized_name)\n",
    "    if !isempty(sorted_search_index_range)\n",
    "        @assert length(sorted_search_index_range) == 1\n",
    "        hit = first(sorted_search_index_range)\n",
    "    else\n",
    "        is_full_hit = falses(length(sorted_rank))\n",
    "        partial_hits = zeros(Int, length(sorted_rank))\n",
    "        normalized_name = lowercase(normalized_name)\n",
    "        for (i, scientific_name) in enumerate(sorted_rank)\n",
    "            lsn = lowercase(scientific_name)\n",
    "            if occursin(normalized_name, lsn)\n",
    "                is_full_hit[i] = true\n",
    "            else\n",
    "                nlsn = replace(lowercase(scientific_name), r\"[^\\w\\s]+\" => \"\")\n",
    "#                 @show lsn, nlsn, normalized_name\n",
    "                partial_hits[i] = length(intersect(Set(split(nlsn, \" \")), Set(split(normalized_name, \" \"))))\n",
    "            end\n",
    "        end\n",
    "        full_hits = findall(is_full_hit)\n",
    "        if length(full_hits) == 1\n",
    "            hit = first(full_hits)\n",
    "        elseif length(full_hits) > 1\n",
    "            if !haskey(name_map, normalized_name)\n",
    "#                 @show normalized_name, rank, sorted_rank[full_hits]\n",
    "#                 error()\n",
    "                return nothing\n",
    "            else\n",
    "                hit = searchsortedfirst(sorted_rank, name_map[normalized_name])\n",
    "            end\n",
    "        else\n",
    "            max_hit_count = maximum(partial_hits)\n",
    "            full_hits = findall(hit_count -> hit_count == max_hit_count, partial_hits)\n",
    "            if length(full_hits) != 1\n",
    "                if !haskey(name_map, normalized_name)\n",
    "#                     @show normalized_name, rank, sorted_rank[full_hits]\n",
    "#                     error()\n",
    "                    return nothing\n",
    "                else\n",
    "                    hit = searchsortedfirst(sorted_rank, name_map[normalized_name])\n",
    "                end\n",
    "            else\n",
    "                hit = first(full_hits)\n",
    "            end\n",
    "        end\n",
    "    end\n",
    "    return hit\n",
    "end"
   ]
  },
  {
   "cell_type": "code",
   "execution_count": 4,
   "id": "51a40a54-44e7-4b74-84a8-1176375140c8",
   "metadata": {},
   "outputs": [],
   "source": [
    "taxdump_url = \"https://ftp.ncbi.nih.gov/pub/taxonomy/taxdump.tar.gz\"\n",
    "taxdump_local_tarball = \"$(DIR)/$(basename(taxdump_url))\"\n",
    "if !isfile(taxdump_local_tarball)\n",
    "    download(taxdump_url, taxdump_local_tarball)\n",
    "end"
   ]
  },
  {
   "cell_type": "code",
   "execution_count": 5,
   "id": "3ed7485d-72a0-4849-b7fd-d591748f37ce",
   "metadata": {},
   "outputs": [],
   "source": [
    "taxdump_out = replace(taxdump_local_tarball, \".tar.gz\" => \"\")\n",
    "if !isdir(taxdump_out)\n",
    "    mkpath(taxdump_out)\n",
    "    run(`tar -xvzf $(taxdump_local_tarball) -C $(taxdump_out)`)\n",
    "end"
   ]
  },
  {
   "cell_type": "code",
   "execution_count": 6,
   "id": "596eb769-9a2e-4c3e-b218-b13f72aebdaf",
   "metadata": {},
   "outputs": [
    {
     "name": "stderr",
     "output_type": "stream",
     "text": [
      "\u001b[32mProgress: 100%|█████████████████████████████████████████| Time: 0:00:36\u001b[39m39m\n"
     ]
    }
   ],
   "source": [
    "# Taxonomy names file (names.dmp):\n",
    "# \ttax_id\t\t\t\t\t-- the id of node associated with this name\n",
    "# \tname_txt\t\t\t\t-- name itself\n",
    "# \tunique name\t\t\t\t-- the unique variant of this name if name not unique\n",
    "# \tname class\t\t\t\t-- (synonym, common name, ...)\n",
    "\n",
    "names_dmp = DataFrames.DataFrame(\n",
    "    tax_id = Int[],\n",
    "    name_txt = String[],\n",
    "    unique_name = String[],\n",
    "    name_class = String[]\n",
    ")\n",
    "ProgressMeter.@showprogress for line in split(read(open(\"$(taxdump_out)/names.dmp\"), String), \"\\t|\\n\")\n",
    "    if isempty(line)\n",
    "        continue\n",
    "    else\n",
    "        (tax_id_string, name_txt, unique_name, name_class) = split(line, \"\\t|\\t\")\n",
    "        tax_id = parse(Int, tax_id_string)\n",
    "        row = (;tax_id, name_txt, unique_name, name_class)\n",
    "        push!(names_dmp, row)\n",
    "    end\n",
    "end\n",
    "# names_dmp"
   ]
  },
  {
   "cell_type": "code",
   "execution_count": 7,
   "id": "16bade41-5961-4aa9-a2ee-cb93e8e12050",
   "metadata": {},
   "outputs": [
    {
     "name": "stderr",
     "output_type": "stream",
     "text": [
      "\u001b[32mProgress: 100%|█████████████████████████████████████████| Time: 0:00:45\u001b[39m39m\n"
     ]
    }
   ],
   "source": [
    "unique_tax_ids = unique(names_dmp[!, \"tax_id\"])\n",
    "ncbi_taxonomy = MetaGraphs.MetaDiGraph(length(unique_tax_ids))\n",
    "ProgressMeter.@showprogress for (index, group) in enumerate(collect(DataFrames.groupby(names_dmp, \"tax_id\")))\n",
    "    MetaGraphs.set_prop!(ncbi_taxonomy, index, :tax_id, group[1, \"tax_id\"])\n",
    "    for row in DataFrames.eachrow(group)\n",
    "        unique_name = isempty(row[\"unique_name\"]) ? row[\"name_txt\"] : row[\"unique_name\"]\n",
    "        # remove quotes since neo4j doesn't like them\n",
    "        unique_name = replace(unique_name, '\"' => \"\")\n",
    "        # replace spaces and dashes with underscores\n",
    "        name_class = Symbol(replace(replace(row[\"name_class\"], r\"\\s+\" => \"-\"), \"-\" => \"_\"))\n",
    "#         name_class = Symbol(row[\"name_class\"])\n",
    "        if haskey(MetaGraphs.props(ncbi_taxonomy, index), name_class)\n",
    "            current_value = MetaGraphs.get_prop(ncbi_taxonomy, index, name_class)\n",
    "            if (current_value isa Array) && !(unique_name in current_value)\n",
    "                new_value = [current_value..., unique_name]\n",
    "                MetaGraphs.set_prop!(ncbi_taxonomy, index, name_class, new_value)\n",
    "            elseif !(current_value isa Array) && (current_value != unique_name)\n",
    "                new_value = [current_value, unique_name]\n",
    "                MetaGraphs.set_prop!(ncbi_taxonomy, index, name_class, new_value)\n",
    "            else\n",
    "                continue\n",
    "            end\n",
    "        else\n",
    "            MetaGraphs.set_prop!(ncbi_taxonomy, index, name_class, unique_name)\n",
    "        end\n",
    "    end\n",
    "end"
   ]
  },
  {
   "cell_type": "code",
   "execution_count": 8,
   "id": "cd77eb06-3669-472a-8023-9f0224b52ab4",
   "metadata": {},
   "outputs": [],
   "source": [
    "divisions = Dict{Int, Dict{Symbol, String}}()\n",
    "for line in split(read(open(\"$(taxdump_out)/division.dmp\"), String), \"\\t|\\n\")\n",
    "    if !isempty(line)\n",
    "        (id_string, shorthand, full_name, notes) = split(line, \"\\t|\\t\")\n",
    "        id = parse(Int, id_string)\n",
    "        divisions[id] = Dict(:division_cde => shorthand, :division_name => full_name)\n",
    "    end\n",
    "end\n",
    "# divisions"
   ]
  },
  {
   "cell_type": "code",
   "execution_count": 9,
   "id": "d6ddce85-6950-45a9-a66e-f2be6a368cdc",
   "metadata": {},
   "outputs": [],
   "source": [
    "node_2_taxid_map = map(index -> ncbi_taxonomy.vprops[index][:tax_id], Graphs.vertices(ncbi_taxonomy));"
   ]
  },
  {
   "cell_type": "code",
   "execution_count": 10,
   "id": "db107a81-7d82-47c3-bb91-9c91d63ee538",
   "metadata": {},
   "outputs": [
    {
     "name": "stderr",
     "output_type": "stream",
     "text": [
      "\u001b[32mProgress: 100%|█████████████████████████████████████████| Time: 0:01:09\u001b[39m3:42\u001b[39m\n"
     ]
    }
   ],
   "source": [
    "ProgressMeter.@showprogress for line in split(read(open(\"$(taxdump_out)/nodes.dmp\"), String), \"\\t|\\n\")\n",
    "    if isempty(line)\n",
    "        continue\n",
    "    else\n",
    "        (tax_id_string, parent_tax_id_string, rank, embl_code, division_id_string) = split(line, \"\\t|\\t\")\n",
    "        \n",
    "        \n",
    "        division_id = parse(Int, division_id_string)\n",
    "        \n",
    "        tax_id = parse(Int, tax_id_string)\n",
    "        lightgraphs_tax_ids = searchsorted(node_2_taxid_map, tax_id)\n",
    "        @assert length(lightgraphs_tax_ids) == 1\n",
    "        lightgraphs_tax_id = first(lightgraphs_tax_ids)\n",
    "        \n",
    "        parent_tax_id = parse(Int, parent_tax_id_string)\n",
    "        lightgraphs_parent_tax_ids = searchsorted(node_2_taxid_map, parent_tax_id)\n",
    "        @assert length(lightgraphs_parent_tax_ids) == 1\n",
    "        lightgraphs_parent_tax_id = first(lightgraphs_parent_tax_ids)\n",
    "        \n",
    "        Graphs.add_edge!(ncbi_taxonomy, lightgraphs_tax_id, lightgraphs_parent_tax_id)\n",
    "        MetaGraphs.set_prop!(ncbi_taxonomy, lightgraphs_tax_id, :rank, rank)\n",
    "        # these should probably be broken out as independent nodes!\n",
    "        MetaGraphs.set_prop!(ncbi_taxonomy, lightgraphs_tax_id, :division_id, division_id)\n",
    "        MetaGraphs.set_prop!(ncbi_taxonomy, lightgraphs_tax_id, :division_cde, divisions[division_id][:division_cde])\n",
    "        MetaGraphs.set_prop!(ncbi_taxonomy, lightgraphs_tax_id, :division_name, divisions[division_id][:division_name])\n",
    "    end\n",
    "end"
   ]
  },
  {
   "cell_type": "code",
   "execution_count": null,
   "id": "aa7768f4-ff6e-438e-81e8-2cc1a35d918e",
   "metadata": {},
   "outputs": [],
   "source": [
    "# rank_counts =\n",
    "#     sort(\n",
    "#         collect(\n",
    "#             StatsBase.countmap(\n",
    "#                 ncbi_taxonomy.vprops[v][:rank] for v in Graphs.vertices(ncbi_taxonomy))),\n",
    "#         by=x->x[2])\n",
    "# for rank_count in rank_counts\n",
    "#     println(rank_count)\n",
    "# end"
   ]
  },
  {
   "cell_type": "code",
   "execution_count": null,
   "id": "f5a33d4e-8c47-49f0-ba06-9cfacb2399b4",
   "metadata": {},
   "outputs": [],
   "source": [
    "# ncbi_taxonomy.vprops[3894]"
   ]
  },
  {
   "cell_type": "code",
   "execution_count": 11,
   "id": "f4da438f-d67e-49ce-bd48-c710feed31c6",
   "metadata": {},
   "outputs": [
    {
     "data": {
      "text/plain": [
       "Dict{String, Vector{String}} with 8 entries:\n",
       "  \"phylum\"       => [\"Abditibacteriota\", \"Acanthocephala <thorny-headed worms>\"…\n",
       "  \"family\"       => [\"Abacionidae\", \"Abediniaceae\", \"Aberrantidae\", \"Aberrapeci…\n",
       "  \"superkingdom\" => [\"Archaea\", \"Bacteria <bacteria>\", \"Eukaryota\", \"Viruses\"]\n",
       "  \"genus\"        => [\"'AntiopalaX'\", \"'BareaX'\", \"'CeruraX'\", \"'CoesyraX'\", \"'D…\n",
       "  \"class\"        => [\"Abditibacteria\", \"Acantharea\", \"Acidimicrobiia\", \"Acidith…\n",
       "  \"order\"        => [\"Abditibacteriales\", \"Abediniales\", \"Abrothallales\", \"Acan…\n",
       "  \"kingdom\"      => [\"Archaea\", \"Bacteria <bacteria>\", \"Eukaryota\", \"Viruses\"]\n",
       "  \"species\"      => [\"'Abelmoschus esculentus' bunchy top phytoplasma\", \"'Acaci…"
      ]
     },
     "execution_count": 11,
     "metadata": {},
     "output_type": "execute_result"
    }
   ],
   "source": [
    "ranks_of_interest = [\n",
    "    \"superkingdom\",\n",
    "#     \"kingdom\",\n",
    "    \"phylum\",\n",
    "    \"class\",\n",
    "    \"order\",\n",
    "    \"family\",\n",
    "    \"genus\",\n",
    "    \"species\",\n",
    "]\n",
    "\n",
    "sorted_ranks = Dict(rank => \n",
    "    sort(\n",
    "        map(v2 -> ncbi_taxonomy.vprops[v2][:scientific_name], \n",
    "            filter(v -> ncbi_taxonomy.vprops[v][:rank] == rank, \n",
    "                Graphs.vertices(ncbi_taxonomy)\n",
    "                  )\n",
    "            )\n",
    "        ) for rank in ranks_of_interest\n",
    ")\n",
    "sorted_ranks[\"kingdom\"] = sorted_ranks[\"superkingdom\"]\n",
    "sorted_ranks"
   ]
  },
  {
   "cell_type": "code",
   "execution_count": 12,
   "id": "45ce277a-08e9-4b3c-849d-4ace4e6b4b54",
   "metadata": {},
   "outputs": [
    {
     "data": {
      "text/plain": [
       "Dict{Char, String} with 7 entries:\n",
       "  'f' => \"family\"\n",
       "  'g' => \"genus\"\n",
       "  's' => \"species\"\n",
       "  'c' => \"class\"\n",
       "  'k' => \"kingdom\"\n",
       "  'p' => \"phylum\"\n",
       "  'o' => \"order\""
      ]
     },
     "execution_count": 12,
     "metadata": {},
     "output_type": "execute_result"
    }
   ],
   "source": [
    "rank_map = Dict(first(rank) => rank for rank in keys(sorted_ranks))"
   ]
  },
  {
   "cell_type": "code",
   "execution_count": 13,
   "id": "e420485a-30b9-4e6d-a57c-f378c54ecc4d",
   "metadata": {},
   "outputs": [
    {
     "data": {
      "text/plain": [
       "8-element Vector{Pair{String, Int64}}:\n",
       " \"superkingdom\" => 4\n",
       "      \"kingdom\" => 4\n",
       "       \"phylum\" => 290\n",
       "        \"class\" => 447\n",
       "        \"order\" => 1701\n",
       "       \"family\" => 9654\n",
       "        \"genus\" => 100737\n",
       "      \"species\" => 1933524"
      ]
     },
     "execution_count": 13,
     "metadata": {},
     "output_type": "execute_result"
    }
   ],
   "source": [
    "sort(map(xy -> first(xy) => length(last(xy)), collect(sorted_ranks)), by=x->x[2])"
   ]
  },
  {
   "cell_type": "code",
   "execution_count": null,
   "id": "a02f1a56-2256-4d01-9b4c-68098e4e9eba",
   "metadata": {},
   "outputs": [],
   "source": [
    "# wget http://downloads.hmpdacc.org/data/HMSMCP/HMP.ab.txt.bz2"
   ]
  },
  {
   "cell_type": "code",
   "execution_count": 150,
   "id": "fa2a16bc-ac2f-46e0-b373-4a8fc63e1cae",
   "metadata": {},
   "outputs": [
    {
     "data": {
      "text/plain": [
       "\"family\""
      ]
     },
     "execution_count": 150,
     "metadata": {},
     "output_type": "execute_result"
    }
   ],
   "source": [
    "# rank = \"kingdom\"\n",
    "# rank = \"phylum\"\n",
    "# rank = \"class\"\n",
    "# rank = \"order\"\n",
    "rank = \"family\"\n",
    "# rank = \"genus\"\n",
    "# rank = \"species\""
   ]
  },
  {
   "cell_type": "code",
   "execution_count": 151,
   "id": "8ca1087c-1ef0-4859-a438-d9428ba3c505",
   "metadata": {},
   "outputs": [
    {
     "name": "stderr",
     "output_type": "stream",
     "text": [
      "\u001b[32mProgress:  10%|████                                     |  ETA: 0:00:05\u001b[39m"
     ]
    },
    {
     "data": {
      "text/plain": [
       "9654×690 Matrix{Float64}:\n",
       " 0.0  0.0  0.0  0.0  0.0  0.0  0.0  0.0  …  0.0  0.0  0.0  0.0  0.0  0.0  0.0\n",
       " 0.0  0.0  0.0  0.0  0.0  0.0  0.0  0.0     0.0  0.0  0.0  0.0  0.0  0.0  0.0\n",
       " 0.0  0.0  0.0  0.0  0.0  0.0  0.0  0.0     0.0  0.0  0.0  0.0  0.0  0.0  0.0\n",
       " 0.0  0.0  0.0  0.0  0.0  0.0  0.0  0.0     0.0  0.0  0.0  0.0  0.0  0.0  0.0\n",
       " 0.0  0.0  0.0  0.0  0.0  0.0  0.0  0.0     0.0  0.0  0.0  0.0  0.0  0.0  0.0\n",
       " 0.0  0.0  0.0  0.0  0.0  0.0  0.0  0.0  …  0.0  0.0  0.0  0.0  0.0  0.0  0.0\n",
       " 0.0  0.0  0.0  0.0  0.0  0.0  0.0  0.0     0.0  0.0  0.0  0.0  0.0  0.0  0.0\n",
       " 0.0  0.0  0.0  0.0  0.0  0.0  0.0  0.0     0.0  0.0  0.0  0.0  0.0  0.0  0.0\n",
       " 0.0  0.0  0.0  0.0  0.0  0.0  0.0  0.0     0.0  0.0  0.0  0.0  0.0  0.0  0.0\n",
       " 0.0  0.0  0.0  0.0  0.0  0.0  0.0  0.0     0.0  0.0  0.0  0.0  0.0  0.0  0.0\n",
       " 0.0  0.0  0.0  0.0  0.0  0.0  0.0  0.0  …  0.0  0.0  0.0  0.0  0.0  0.0  0.0\n",
       " 0.0  0.0  0.0  0.0  0.0  0.0  0.0  0.0     0.0  0.0  0.0  0.0  0.0  0.0  0.0\n",
       " 0.0  0.0  0.0  0.0  0.0  0.0  0.0  0.0     0.0  0.0  0.0  0.0  0.0  0.0  0.0\n",
       " ⋮                        ⋮              ⋱            ⋮                   \n",
       " 0.0  0.0  0.0  0.0  0.0  0.0  0.0  0.0     0.0  0.0  0.0  0.0  0.0  0.0  0.0\n",
       " 0.0  0.0  0.0  0.0  0.0  0.0  0.0  0.0     0.0  0.0  0.0  0.0  0.0  0.0  0.0\n",
       " 0.0  0.0  0.0  0.0  0.0  0.0  0.0  0.0     0.0  0.0  0.0  0.0  0.0  0.0  0.0\n",
       " 0.0  0.0  0.0  0.0  0.0  0.0  0.0  0.0  …  0.0  0.0  0.0  0.0  0.0  0.0  0.0\n",
       " 0.0  0.0  0.0  0.0  0.0  0.0  0.0  0.0     0.0  0.0  0.0  0.0  0.0  0.0  0.0\n",
       " 0.0  0.0  0.0  0.0  0.0  0.0  0.0  0.0     0.0  0.0  0.0  0.0  0.0  0.0  0.0\n",
       " 0.0  0.0  0.0  0.0  0.0  0.0  0.0  0.0     0.0  0.0  0.0  0.0  0.0  0.0  0.0\n",
       " 0.0  0.0  0.0  0.0  0.0  0.0  0.0  0.0     0.0  0.0  0.0  0.0  0.0  0.0  0.0\n",
       " 0.0  0.0  0.0  0.0  0.0  0.0  0.0  0.0  …  0.0  0.0  0.0  0.0  0.0  0.0  0.0\n",
       " 0.0  0.0  0.0  0.0  0.0  0.0  0.0  0.0     0.0  0.0  0.0  0.0  0.0  0.0  0.0\n",
       " 0.0  0.0  0.0  0.0  0.0  0.0  0.0  0.0     0.0  0.0  0.0  0.0  0.0  0.0  0.0\n",
       " 0.0  0.0  0.0  0.0  0.0  0.0  0.0  0.0     0.0  0.0  0.0  0.0  0.0  0.0  0.0"
      ]
     },
     "execution_count": 151,
     "metadata": {},
     "output_type": "execute_result"
    }
   ],
   "source": [
    "hhs_abundances_file = joinpath(Pkg.dir(\"Mycelia\"), \"metadata\", \"HMP.ab.txt.bz2\")\n",
    "n_lines = countlines(CodecBzip2.Bzip2DecompressorStream(open(hhs_abundances_file)))-1\n",
    "hhs_abundances_io = CodecBzip2.Bzip2DecompressorStream(open(hhs_abundances_file))\n",
    "header = readline(hhs_abundances_io)\n",
    "sample_ids = split(header, '\\t')[2:end]\n",
    "\n",
    "rank_abundance_table = zeros(length(sorted_ranks[rank]), length(sample_ids))\n",
    "\n",
    "p = ProgressMeter.Progress(n_lines)\n",
    "for line in eachline(hhs_abundances_io)\n",
    "    sline = split(line, '\\t')\n",
    "    node = first(sline)\n",
    "    abundances = sline[2:end]\n",
    "    terminal_node = last(split(node, '|'))\n",
    "    rank_key = first(terminal_node)\n",
    "    if !haskey(rank_map, rank_key)\n",
    "        continue\n",
    "    end\n",
    "    this_rank = rank_map[rank_key]\n",
    "    if this_rank != rank\n",
    "        continue\n",
    "    end\n",
    "    hit = find_rank_match(sorted_ranks[rank], terminal_node)\n",
    "    if hit isa Int\n",
    "        rank_abundance_table[hit, :] .= parse.(Float64, abundances)\n",
    "    end  \n",
    "    ProgressMeter.next!(p)\n",
    "end\n",
    "close(hhs_abundances_io)\n",
    "rank_abundance_table"
   ]
  },
  {
   "cell_type": "code",
   "execution_count": 152,
   "id": "55400238-a9b8-4cfc-95b5-18a9d8fbd0fd",
   "metadata": {},
   "outputs": [],
   "source": [
    "# # taxonomy\n",
    "# wget https://downloads.hmpdacc.org/ihmp/ibd/genome/microbiome/wgs/analysis/hmscp/CSM5MCXD_taxonomic_profile.biom\n",
    "# biom convert -i CSM5MCXD_taxonomic_profile.biom -o CSM5MCXD_taxonomic_profile.biom.txt --to-tsv --header-key taxonomy\n",
    "# # less CSM5MCXD_taxonomic_profile.biom.txt\n",
    "\n",
    "# # pathway by species\n",
    "# wget https://downloads.hmpdacc.org/ihmp/ibd/genome/microbiome/wgs/analysis/hmmrc/CSM5MCXD_pathabundance_relab.biom\n",
    "# biom convert -i CSM5MCXD_pathabundance_relab.biom -o CSM5MCXD_pathabundance_relab.biom.txt --to-tsv\n",
    "# # less CSM5MCXD_pathabundance_relab.biom.txt\n",
    "\n",
    "# # genes? by species\n",
    "# wget https://downloads.hmpdacc.org/ihmp/ibd/genome/microbiome/wgs/analysis/hmmrc/CSM5MCXD_ecs_relab.biom\n",
    "# biom convert -i CSM5MCXD_ecs_relab.biom -o CSM5MCXD_ecs_relab.biom.txt --to-tsv\n",
    "# # less CSM5MCXD_ecs_relab.biom.txt\n",
    "\n",
    "# # UniProt UniRef gene families and by species\n",
    "# wget https://downloads.hmpdacc.org/ihmp/ibd/genome/microbiome/wgs/analysis/hmmrc/CSM5MCXD_genefamilies_relab.biom\n",
    "# biom convert -i CSM5MCXD_genefamilies_relab.biom -o CSM5MCXD_genefamilies_relab.biom.txt --to-tsv\n",
    "# # less CSM5MCXD_genefamilies_relab.biom.txt"
   ]
  },
  {
   "cell_type": "code",
   "execution_count": 153,
   "id": "4a71e676-0506-4b1b-90e8-51324d4ab30b",
   "metadata": {},
   "outputs": [
    {
     "data": {
      "text/plain": [
       "2028-element Vector{AbstractString}:\n",
       " \"SRS043001\"\n",
       " \"SRS015989\"\n",
       " \"SRS021477\"\n",
       " \"SRS022621\"\n",
       " \"SRS064493\"\n",
       " \"SRS017120\"\n",
       " \"SRS016746\"\n",
       " \"SRS020226\"\n",
       " \"SRS020220\"\n",
       " \"SRS017127\"\n",
       " \"SRS021473\"\n",
       " \"SRS020386\"\n",
       " \"SRS062752\"\n",
       " ⋮\n",
       " \"1419f08f554e0c93f3b62fe90ce8ce67\"\n",
       " \"1419f08f554e0c93f3b62fe90cebc579\"\n",
       " \"1419f08f554e0c93f3b62fe90cee7d9d\"\n",
       " \"1419f08f554e0c93f3b62fe90cee7d9d\"\n",
       " \"1419f08f554e0c93f3b62fe90cc8d3ad\"\n",
       " \"7cfd74d6803ea319683df7564432c54e\"\n",
       " \"7cfd74d6803ea319683df756442a7194\"\n",
       " \"1419f08f554e0c93f3b62fe90c4d2124\"\n",
       " \"1419f08f554e0c93f3b62fe90ce8775e\"\n",
       " \"1419f08f554e0c93f3b62fe90cedc789\"\n",
       " \"7cfd74d6803ea319683df75644235608\"\n",
       " \"7cfd74d6803ea319683df7564422c532\""
      ]
     },
     "execution_count": 153,
     "metadata": {},
     "output_type": "execute_result"
    }
   ],
   "source": [
    "ibd_hmp_manifest_file = joinpath(Pkg.dir(\"Mycelia\"), \"metadata\", \"hmp_manifest_46a48e875.tsv\")\n",
    "ibd_hmp_manifest = DataFrames.DataFrame(uCSV.read(ibd_hmp_manifest_file, delim='\\t', header=true)...)\n",
    "# display(size(ibd_hmp_manifest))\n",
    "unique!(ibd_hmp_manifest)\n",
    "# display(size(ibd_hmp_manifest))\n",
    "# show(ibd_hmp_manifest[1:3, :], allcols=true)\n",
    "\n",
    "ibd_hmp_manifest_metadata_file = joinpath(Pkg.dir(\"Mycelia\"), \"metadata\", \"hmp_manifest_metadata_e8b00ea8b.tsv\")\n",
    "ibd_hmp_manifest_metadata = DataFrames.DataFrame(uCSV.read(ibd_hmp_manifest_metadata_file, delim='\\t', header=true)...)\n",
    "# display(size(ibd_hmp_manifest_metadata))\n",
    "unique!(ibd_hmp_manifest_metadata)\n",
    "# display(size(ibd_hmp_manifest_metadata))\n",
    "# show(ibd_hmp_manifest_metadata[1:3, :], allcols=true)\n",
    "ibd_hmp_metata = DataFrames.innerjoin(ibd_hmp_manifest_metadata, ibd_hmp_manifest, on=\"sample_id\")\n",
    "# display(size(ibd_hmp_metata))\n",
    "unique!(ibd_hmp_metata)\n",
    "# display(size(ibd_hmp_metata))\n",
    "# show(ibd_hmp_metata[1:3, :], allcols=true)\n",
    "\n",
    "taxonomic_profile_indices = findall(x -> occursin(\"taxonomic_profile\", x), ibd_hmp_metata[!, \"urls\"])\n",
    "\n",
    "# ibd_sample_list = Vector{String}(undef, taxonomic_profile_indices)\n",
    "ibd_sample_list = String[]\n",
    "for (i, row) in enumerate(DataFrames.eachrow(ibd_hmp_metata[taxonomic_profile_indices, :]))\n",
    "    url = row[\"urls\"]\n",
    "#     ibd_sample_list[i] = row[\"sample_id\"]\n",
    "    push!(ibd_sample_list, row[\"sample_id\"])\n",
    "#     [\"sample_id\", \"urls\"]\n",
    "    local_file = joinpath(\"taxonomic_profiles\", basename(url))\n",
    "    txt_file = local_file * \".txt\"\n",
    "    if !isfile(txt_file)\n",
    "        if !isfile(local_file)\n",
    "            run(`wget $url`)\n",
    "        end\n",
    "        run(`biom convert -i $(local_file) -o $(txt_file) --to-tsv --header-key taxonomy`)\n",
    "        rm(local_file)\n",
    "    end\n",
    "#     open(txt_file) do io\n",
    "#         for i in 1:10\n",
    "#             println(readline(io))\n",
    "#         end\n",
    "#     end\n",
    "end\n",
    "joint_sample_id_list = vcat(sample_ids, ibd_sample_list)"
   ]
  },
  {
   "cell_type": "code",
   "execution_count": null,
   "id": "20f94d3e-947d-45e6-bf84-43faf2d4112c",
   "metadata": {},
   "outputs": [
    {
     "name": "stderr",
     "output_type": "stream",
     "text": [
      "\u001b[32mProgress:  43%|█████████████████▊                       |  ETA: 0:01:40\u001b[39m"
     ]
    }
   ],
   "source": [
    "rows = taxonomic_profile_indices\n",
    "ibd_rank_abundance_table = zeros(length(sorted_ranks[rank]), length(rows))\n",
    "p = ProgressMeter.Progress(length(rows))\n",
    "for (i, row) in enumerate(DataFrames.eachrow(ibd_hmp_metata[rows, :]))\n",
    "    url = row[\"urls\"]\n",
    "    local_file = joinpath(\"taxonomic_profiles\", basename(url))\n",
    "    txt_file = local_file * \".txt\"\n",
    "#     open(txt_file) do io\n",
    "    for line in eachline(txt_file)\n",
    "        if occursin(r\"^#\", line)\n",
    "            continue\n",
    "        end\n",
    "#         try\n",
    "        node, abundance = split(line, '\\t')\n",
    "#         node = first(sline)\n",
    "        terminal_node = last(split(node, '|'))\n",
    "\n",
    "        rank_key = first(terminal_node)\n",
    "        if !haskey(rank_map, rank_key)\n",
    "            continue\n",
    "        end\n",
    "        this_rank = rank_map[rank_key]\n",
    "        if this_rank != rank\n",
    "            continue\n",
    "        end\n",
    "        hit = find_rank_match(sorted_ranks[rank], terminal_node)\n",
    "        if hit isa Int\n",
    "            ibd_rank_abundance_table[hit, i] = parse(Float64, abundance)\n",
    "        end\n",
    "    end\n",
    "    ProgressMeter.next!(p)\n",
    "end\n",
    "ibd_rank_abundance_table"
   ]
  },
  {
   "cell_type": "code",
   "execution_count": null,
   "id": "991d6840-c583-42ca-ba49-8bc4867dcca3",
   "metadata": {},
   "outputs": [],
   "source": [
    "observations = hcat(rank_abundance_table, ibd_rank_abundance_table)"
   ]
  },
  {
   "cell_type": "code",
   "execution_count": null,
   "id": "ed10ca3f-0a96-40ec-89ca-5d7f929592f7",
   "metadata": {},
   "outputs": [],
   "source": [
    "# number_of_groups = 2\n",
    "# variables_per_group = 100\n",
    "# samples_per_group = 10\n",
    "# Random.seed!(number_of_groups * variables_per_group * samples_per_group)\n",
    "# group_distributions = [\n",
    "#         Distributions.Dirichlet(rand(variables_per_group)) for i in 1:number_of_groups\n",
    "# ]\n",
    "# observations = reduce(hcat, [rand(gd, samples_per_group) for gd in group_distributions])"
   ]
  },
  {
   "cell_type": "code",
   "execution_count": null,
   "id": "8154db3d-0fb2-46ae-918b-4f0d512a7868",
   "metadata": {},
   "outputs": [],
   "source": [
    "control_indices = 1:length(sample_ids)\n",
    "case_indices = length(sample_ids)+1:size(observations, 2)"
   ]
  },
  {
   "cell_type": "code",
   "execution_count": null,
   "id": "5ce079ed-2721-412b-9854-11b12d588e23",
   "metadata": {},
   "outputs": [],
   "source": [
    "@time pca_model = MultivariateStats.fit(MultivariateStats.PCA, observations)"
   ]
  },
  {
   "cell_type": "code",
   "execution_count": null,
   "id": "e2999cd6-e225-4d97-a643-f9fdbf5a7645",
   "metadata": {
    "tags": []
   },
   "outputs": [],
   "source": [
    "transformed_observations = MultivariateStats.transform(pca_model, observations)"
   ]
  },
  {
   "cell_type": "code",
   "execution_count": null,
   "id": "0b669991-64ca-499e-ade1-2e1924a7e07d",
   "metadata": {},
   "outputs": [],
   "source": [
    "x = transformed_observations[1, :]\n",
    "y = transformed_observations[2, :]\n",
    "z = transformed_observations[3, :]\n",
    "\n",
    "StatsPlots.plotlyjs()\n",
    "StatsPlots.gr()\n",
    "\n",
    "pc3_plot = \n",
    "StatsPlots.scatter(\n",
    "    [x[control_indices], x[case_indices]],\n",
    "    [y[control_indices], y[case_indices]],\n",
    "    [z[control_indices], z[case_indices]],\n",
    "    xlabel = \"PC1\",\n",
    "    ylabel = \"PC2\",\n",
    "    zlabel = \"PC3\",\n",
    "    labels = [\"healthy controls\" \"disease-state cases\"],\n",
    "    title = \"Case vs. Control\",\n",
    "    legend = :outertopright,\n",
    "    size = (1000, 500),\n",
    "    margins = 1StatsPlots.cm,\n",
    ")\n",
    "\n",
    "display(pc3_plot)"
   ]
  },
  {
   "cell_type": "markdown",
   "id": "97547c9d-d4f6-4e96-9123-eb74291549f0",
   "metadata": {},
   "source": [
    "Here we determine the centroids of the \"average case\" and the \"average\" control"
   ]
  },
  {
   "cell_type": "code",
   "execution_count": null,
   "id": "f135dca8-a1eb-422a-8fd6-304608ec2a11",
   "metadata": {
    "tags": []
   },
   "outputs": [],
   "source": [
    "mean_of_transformed_controls = Statistics.mean(transformed_observations[:, control_indices], dims=2)\n",
    "mean_of_transformed_cases = Statistics.mean(transformed_observations[:, case_indices], dims=2)\n",
    "\n",
    "# transform midpiont back to original dimensions\n",
    "reconstructed_mean_of_controls = MultivariateStats.reconstruct(pca_model, mean_of_transformed_controls)\n",
    "reconstructed_mean_of_cases = MultivariateStats.reconstruct(pca_model, mean_of_transformed_cases)\n",
    "\n",
    "xs = [\n",
    "    x[control_indices],\n",
    "    x[case_indices],\n",
    "    mean_of_transformed_controls[1:1],\n",
    "    mean_of_transformed_cases[1:1]\n",
    "]\n",
    "\n",
    "ys = [\n",
    "    y[control_indices],\n",
    "    y[case_indices],\n",
    "    mean_of_transformed_controls[2:2],\n",
    "    mean_of_transformed_cases[2:2]\n",
    "]\n",
    "\n",
    "zs = [\n",
    "    z[control_indices],\n",
    "    z[case_indices],\n",
    "    mean_of_transformed_controls[3:3],\n",
    "    mean_of_transformed_cases[3:3]\n",
    "]\n",
    "\n",
    "labels = [\n",
    "    \"healthy controls\",\n",
    "    \"disease-state cases\",\n",
    "    \"mean(healthy controls)\",\n",
    "    \"mean(disease-state cases)\"\n",
    "]\n",
    "\n",
    "StatsPlots.gr()\n",
    "\n",
    "pc3_plot = \n",
    "StatsPlots.scatter(\n",
    "    xs,\n",
    "    ys,\n",
    "    zs,\n",
    "    xlabel = \"PC1\",\n",
    "    ylabel = \"PC2\",\n",
    "    zlabel = \"PC3\",\n",
    "    legend = :outertopright,\n",
    "    labels = hcat(labels...),\n",
    "    size = (1000, 500),\n",
    "    margins = 1StatsPlots.cm,\n",
    "    alpha = [0.05 0.05 1.0 1.0],\n",
    "    title = \"Average Case vs. Average Control\"\n",
    ")"
   ]
  },
  {
   "cell_type": "code",
   "execution_count": null,
   "id": "424e457c-052a-4f79-885d-1a168c730a7b",
   "metadata": {
    "tags": []
   },
   "outputs": [],
   "source": [
    "updates_table = DataFrames.DataFrame(\n",
    "    case_id = String[],\n",
    "    feature_id = String[],\n",
    "    change = Float64[]\n",
    ")\n",
    "\n",
    "ProgressMeter.@showprogress for case_index in case_indices\n",
    "    outlier_observation = observations[:, case_index]\n",
    "    outlier_observation_updates = []\n",
    "    for i in 1:length(outlier_observation)\n",
    "        if i == 1\n",
    "            modified_observation = copy(outlier_observation)\n",
    "        else\n",
    "            modified_observation = copy(last(outlier_observation_updates))\n",
    "        end\n",
    "        transformed_modified_observation = MultivariateStats.transform(pca_model, modified_observation)\n",
    "        current_distance = Distances.euclidean(transformed_modified_observation, mean_of_transformed_controls)\n",
    "        best_change_index = 0\n",
    "        for j in 1:length(modified_observation)\n",
    "            candidate_observation = copy(modified_observation)\n",
    "            candidate_observation[j] = reconstructed_mean_of_controls[j]\n",
    "            transformed_candidate_observation = MultivariateStats.transform(pca_model, candidate_observation)\n",
    "            distance_to_mean_of_transformed_controls = Distances.euclidean(transformed_candidate_observation, mean_of_transformed_controls)\n",
    "            if distance_to_mean_of_transformed_controls < current_distance\n",
    "                current_distance = distance_to_mean_of_transformed_controls\n",
    "                best_change_index = j\n",
    "            end\n",
    "        end\n",
    "        modified_observation[best_change_index] = reconstructed_mean_of_controls[best_change_index]\n",
    "        \n",
    "        row = (\n",
    "            case_id = joint_sample_id_list[case_index],\n",
    "            feature_id = sorted_ranks[rank][best_change_index],\n",
    "            change = reconstructed_mean_of_controls[best_change_index] - outlier_observation[best_change_index]\n",
    "            )\n",
    "        push!(updates_table, row)\n",
    "        \n",
    "        push!(outlier_observation_updates, modified_observation)\n",
    "        transformed_modified_observation = MultivariateStats.transform(pca_model, modified_observation)\n",
    "        distance_to_mean_controls = Distances.euclidean(transformed_modified_observation, mean_of_transformed_controls)\n",
    "        distance_to_mean_cases = Distances.euclidean(transformed_modified_observation, mean_of_transformed_cases)\n",
    "        if distance_to_mean_controls < distance_to_mean_cases\n",
    "    #         @show \"done!\", i\n",
    "            # we're now more similar to the controls than to the cases\n",
    "            break\n",
    "        end\n",
    "    end\n",
    "    # updated_observations\n",
    "\n",
    "    updates_plot = \n",
    "    StatsPlots.scatter(\n",
    "        pc3_plot,\n",
    "        [x[case_index], [MultivariateStats.transform(pca_model, x)[1] for x in outlier_observation_updates]...],\n",
    "        [y[case_index], [MultivariateStats.transform(pca_model, x)[2] for x in outlier_observation_updates]...],\n",
    "        [z[case_index], [MultivariateStats.transform(pca_model, x)[3] for x in outlier_observation_updates]...],\n",
    "        labels = \"steps\",\n",
    "        color = collect(StatsPlots.cgrad(:matter, length(outlier_observation_updates) + 1, categorical = true)),\n",
    "        title = \"Modification path to reclassify case # $(case_index)\\n$(length(outlier_observation_updates)) modifications\"\n",
    "    )\n",
    "    \n",
    "    updates_plot = \n",
    "    StatsPlots.plot(\n",
    "        updates_plot,\n",
    "        [x[case_index], [MultivariateStats.transform(pca_model, x)[1] for x in outlier_observation_updates]...],\n",
    "        [y[case_index], [MultivariateStats.transform(pca_model, x)[2] for x in outlier_observation_updates]...],\n",
    "        [z[case_index], [MultivariateStats.transform(pca_model, x)[3] for x in outlier_observation_updates]...],\n",
    "        labels = \"\",\n",
    "    )\n",
    "\n",
    "#     mkpath(\"$(DIR)/$(rank)\")\n",
    "#     for extension in [\"svg\", \"png\"]\n",
    "    for extension in [\"svg\"]\n",
    "        d = \"$(DIR)/$(rank)/update_plots/$(extension)\"\n",
    "        mkpath(d)\n",
    "        StatsPlots.savefig(updates_plot, \"$(d)/$(joint_sample_id_list[case_index]).$(rank).$(extension)\")\n",
    "    end\n",
    "end\n",
    "uCSV.write(\"$(DIR)/$(rank)/updates_table.tsv\", updates_table, delim='\\t')"
   ]
  },
  {
   "cell_type": "code",
   "execution_count": null,
   "id": "5eba53fe-3268-4d08-be96-fe5594738841",
   "metadata": {},
   "outputs": [],
   "source": [
    "p = StatsPlots.histogram(\n",
    "    map(case_id -> count(updates_table[!, \"case_id\"] .== case_id), updates_table[!, \"case_id\"]),\n",
    "    xlabel = \"# of updates required\",\n",
    "    legend = false,\n",
    "    ylabel = \"# of samples\",\n",
    "    title = \"$rank updates\",\n",
    "    size = (1000, 500),\n",
    "    margin = 1StatsPlots.PlotMeasures.cm\n",
    ")\n",
    "StatsPlots.savefig(p, \"$(rank)/updates_distribution.svg\")\n",
    "# StatsPlots.savefig(p, \"$(rank)/updates_distribution.png\")\n",
    "display(p)"
   ]
  },
  {
   "cell_type": "code",
   "execution_count": null,
   "id": "11e539dc-eaa9-44e8-b68c-4504f78d23a3",
   "metadata": {},
   "outputs": [],
   "source": [
    "unique(updates_table[!, \"feature_id\"])\n",
    "\n",
    "sorted_features = sort(collect(StatsBase.countmap(updates_table[!, \"feature_id\"])), by=x->x[2], rev=true)\n",
    "\n",
    "ys = [updates_table[updates_table[!, \"feature_id\"] .== feature, \"change\"] for feature in first.(sorted_features)]\n",
    "\n",
    "xs = [[i + (rand(-1:2:1) * rand()/3) for j in 1:length(ys[i])] for i in 1:length(ys)]\n",
    "\n",
    "change_plot = StatsPlots.scatter(\n",
    "    xs, \n",
    "    ys,\n",
    "    alpha = 0.5,\n",
    "    ylabel = \"% change\",\n",
    "    xticks = (1:length(first.(sorted_features)), first.(sorted_features)),\n",
    "    xrotation=45,\n",
    "    size = (1000, 500),\n",
    "    margin = 1StatsPlots.PlotMeasures.cm,\n",
    "    title = \"$(rank)-level changes for reclassification from IBD to HHS\",\n",
    "    legend=false)\n",
    "StatsPlots.hline!(change_plot, [0])\n",
    "StatsPlots.savefig(change_plot, \"$(DIR)/$(rank)/reclassification_changes.svg\")\n",
    "# StatsPlots.savefig(change_plot, \"$(DIR)/$(rank)/reclassification_changes.png\")\n",
    "display(change_plot)"
   ]
  }
 ],
 "metadata": {
  "kernelspec": {
   "display_name": "Julia 1.6.1",
   "language": "julia",
   "name": "julia-1.6"
  },
  "language_info": {
   "file_extension": ".jl",
   "mimetype": "application/julia",
   "name": "julia",
   "version": "1.6.1"
  }
 },
 "nbformat": 4,
 "nbformat_minor": 5
}
