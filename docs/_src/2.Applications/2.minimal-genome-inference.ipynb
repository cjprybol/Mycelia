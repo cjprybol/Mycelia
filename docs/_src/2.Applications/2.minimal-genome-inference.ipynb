{
 "cells": [
  {
   "cell_type": "markdown",
   "metadata": {},
   "source": [
    "# Minimal Genome Inference"
   ]
  },
  {
   "cell_type": "markdown",
   "metadata": {},
   "source": [
    "## Introduction\n",
    "\n",
    "Use comparative genomics to determine which elements of the genomes are highly conserved.\n",
    "\n",
    "We will assume that all highly conserved elements are essential.\n",
    "\n",
    "Subset the genome down to these essential sequences, and reconstruct a new path through the genome that will minimize the size to only include these regions of the genome that are inferred essential."
   ]
  },
  {
   "cell_type": "markdown",
   "metadata": {},
   "source": [
    "## Methods\n",
    "\n",
    "Pseudo-algorithm:\n",
    "- pull list of all genomes on NCBI\n",
    "- build pangenome\n",
    "- filter out dna sequences with low conservation\n",
    "- walk shortest/maximum likelihood path(s)"
   ]
  },
  {
   "cell_type": "code",
   "execution_count": null,
   "metadata": {},
   "outputs": [],
   "source": [
    "DATE = \"2022-01-15\"\n",
    "TASK = \"minimal-genome\"\n",
    "DIR = mkpath(\"$(homedir())/workspace/$(DATE)-$(TASK)\")\n",
    "cd(DIR)"
   ]
  },
  {
   "cell_type": "code",
   "execution_count": null,
   "metadata": {},
   "outputs": [],
   "source": [
    "pkgs = [\n",
    "\"Graphs\",\n",
    "\"MetaGraphs\",\n",
    "\"BioSequences\",\n",
    "\"uCSV\",\n",
    "\"DataFrames\",\n",
    "\"FASTX\",\n",
    "\"HTTP\",\n",
    "\"CodecZlib\",\n",
    "\"Revise\",\n",
    "\"FileIO\",\n",
    "\"JLD2\",\n",
    "\"StatsPlots\",\n",
    "\"ProgressMeter\"\n",
    "]\n",
    "\n",
    "import Pkg\n",
    "Pkg.add(pkgs)\n",
    "for pkg in pkgs\n",
    "    eval(Meta.parse(\"import $(basename(pkg))\"))\n",
    "end\n",
    "\n",
    "import Mycelia"
   ]
  },
  {
   "cell_type": "markdown",
   "metadata": {},
   "source": [
    "### Virus: COVID-19"
   ]
  },
  {
   "cell_type": "code",
   "execution_count": null,
   "metadata": {},
   "outputs": [],
   "source": [
    "# all nucleotide records\n",
    "# https://www.ncbi.nlm.nih.gov/labs/virus/vssi/#/virus?SeqType_s=Nucleotide&VirusLineage_ss=SARS-CoV-2,%20taxid:2697049"
   ]
  },
  {
   "cell_type": "code",
   "execution_count": null,
   "metadata": {},
   "outputs": [],
   "source": [
    "# accession list downloaded from\n",
    "# https://www.ncbi.nlm.nih.gov/sars-cov-2/\n",
    "covid_accessions = DataFrames.DataFrame(uCSV.read(joinpath(Mycelia.METADATA, \"sars-cov-2-accession-list.txt\"), header=1)...)[!, \"id\"]"
   ]
  },
  {
   "cell_type": "code",
   "execution_count": null,
   "metadata": {},
   "outputs": [],
   "source": [
    "# d = mkpath(joinpath(DIR, \"covid-genomes\"))\n",
    "# accession_list = covid_accessions\n",
    "# # accession_list = covid_accessions\n",
    "# ProgressMeter.@showprogress for id in accession_list\n",
    "#     f = joinpath(d, \"$(id).fasta\")\n",
    "#     if !isfile(f)\n",
    "#         open(f, \"w\") do io\n",
    "#             fastx_io = FASTX.FASTA.Writer(io)\n",
    "#             for record in Mycelia.get_sequence(db=\"nuccore\", accession=id)\n",
    "#                 write(fastx_io, record)\n",
    "#             end\n",
    "#             close(fastx_io)\n",
    "#         end\n",
    "#     end\n",
    "# end\n",
    "\n",
    "# covid_genomes = joinpath(DIR, \"covid-genomes.fasta\")\n",
    "# open(covid_genomes, \"w\") do io\n",
    "#     ProgressMeter.@showprogress for id in accession_list\n",
    "#         f = joinpath(d, \"$(id).fasta\")\n",
    "#         for line in eachline(f)\n",
    "#             println(io, line)\n",
    "#         end\n",
    "#         println(io, \"\")\n",
    "#     end\n",
    "# end"
   ]
  },
  {
   "cell_type": "code",
   "execution_count": null,
   "metadata": {},
   "outputs": [],
   "source": [
    "# md5 = first(split(read(`md5sum $(covid_genomes)`, String)))\n",
    "# covid_genomes_md5 = replace(covid_genomes, r\"\\.fasta\" => \".$(md5).fasta\")\n",
    "# if !isfile(covid_genomes_md5)\n",
    "#     mv(covid_genomes, covid_genomes_md5)\n",
    "# end"
   ]
  },
  {
   "cell_type": "markdown",
   "metadata": {},
   "source": [
    "Build pangenome graph"
   ]
  },
  {
   "cell_type": "code",
   "execution_count": null,
   "metadata": {},
   "outputs": [],
   "source": [
    "# executable = joinpath(pkgdir(Mycelia), \"bin\", \"mycelia.jl\")"
   ]
  },
  {
   "cell_type": "code",
   "execution_count": null,
   "metadata": {},
   "outputs": [],
   "source": [
    "# fastxs = [covid_genomes_md5]"
   ]
  },
  {
   "cell_type": "code",
   "execution_count": null,
   "metadata": {},
   "outputs": [],
   "source": [
    "# Mycelia.assess_kmer_saturation(fastxs, outdir=\"$(covid_genomes_md5)-saturation\")"
   ]
  },
  {
   "cell_type": "markdown",
   "metadata": {},
   "source": [
    "Need to offload loads of methods from Mycelia.jl and replace with new algorithms from notebooks"
   ]
  },
  {
   "cell_type": "markdown",
   "metadata": {},
   "source": [
    "For 10_000 covid genomes\n",
    "```\n",
    " Warning: Package Mycelia does not have FileIO in its dependencies:\n",
    "│ - If you have Mycelia checked out for development and have\n",
    "│   added FileIO as a dependency but haven't updated your primary\n",
    "│   environment's manifest file, try `Pkg.resolve()`.\n",
    "│ - Otherwise you may need to report an issue with Mycelia\n",
    "└ Loading FileIO into Mycelia from project dependency, future warnings for Mycelia are suppressed.\n",
    "\n",
    "args = Dict{String, Any}(\"fastx\" => [\"/home/jupyter-cjprybol/workspace/2022-01-15-minimal-genome/covid-genomes.1639a53c979d07066ff86ecdca2c5135.fasta\"], \"k\" => 11, \"out\" => \"/home/jupyter-cjprybol/workspace/2022-01-15-minimal-genome/covid-genomes.1639a53c979d07066ff86ecdca2c5135.fasta.11.jld2\")\n",
    "\n",
    "[ Info: counting kmers\n",
    "\n",
    " 89.159020 seconds (2.65 M allocations: 18.019 GiB, 1.01% gc time, 1.46% compilation time)\n",
    "\n",
    "[ Info: initializing graph\n",
    "[ Info: adding node metadata\n",
    "Progress: 100%|█████████████████████████████████████████| Time: 0:00:04:15:20\n",
    "[ Info: determing # of records in fastx file\n",
    "Progress: 100%|█████████████████████████████████████████| Time: 0:16:49\n",
    "\n",
    "parsed_args = Dict{String, Any}(\"construct\" => Dict{String, Any}(\"fastx\" => [\"/home/jupyter-cjprybol/workspace/2022-01-15-minimal-genome/covid-genomes.1639a53c979d07066ff86ecdca2c5135.fasta\"], \"k\" => 11, \"out\" => \"/home/jupyter-cjprybol/workspace/2022-01-15-minimal-genome/covid-genomes.1639a53c979d07066ff86ecdca2c5135.fasta.11.jld2\"), \"%COMMAND%\" => \"construct\")\n",
    "f = Mycelia.construct\n",
    "1175.915877 seconds (161.21 k allocations: 10.768 MiB)\n",
    "\n",
    "Process(`julia /home/jupyter-cjprybol/.julia/dev/Mycelia/bin/mycelia.jl construct --k 11 --fastx /home/jupyter-cjprybol/workspace/2022-01-15-minimal-genome/covid-genomes.1639a53c979d07066ff86ecdca2c5135.fasta --out /home/jupyter-cjprybol/workspace/2022-01-15-minimal-genome/covid-genomes.1639a53c979d07066ff86ecdca2c5135.fasta.11.jld2`, ProcessExited(0))\n",
    "```"
   ]
  },
  {
   "cell_type": "code",
   "execution_count": null,
   "metadata": {},
   "outputs": [],
   "source": [
    "# # k = 3\n",
    "# # k = 5\n",
    "# # 10 genomes - 92.283553 seconds (2.06 k allocations: 40.953 KiB)\n",
    "# # 100 genomes - 283.205233 seconds (5.89 k allocations: 101.141 KiB)\n",
    "# # 1000 genomes - ?\n",
    "# # 10_000 genomes - ?\n",
    "\n",
    "# k = 11\n",
    "\n",
    "# out = \"$(covid_genomes_md5).$(k).jld2\"\n",
    "# if !isfile(out)\n",
    "#     @time run(`julia $(executable) construct --k $(k) --fastx $(fastxs) --out $(out)`)\n",
    "# end"
   ]
  },
  {
   "cell_type": "code",
   "execution_count": null,
   "metadata": {},
   "outputs": [],
   "source": [
    "# gfa_file = \"$(out).gfa\"\n",
    "# if !isfile(gfa_file)    \n",
    "#     @time run(`julia $(executable) convert --in $(out) --out $(gfa_file)`)\n",
    "# end"
   ]
  },
  {
   "cell_type": "code",
   "execution_count": null,
   "metadata": {},
   "outputs": [],
   "source": [
    "# run(`/home/jupyter-cjprybol/software/bin/Bandage image $(gfa_file) $(gfa_file).svg --depwidth 1 --deppower 1`)"
   ]
  },
  {
   "cell_type": "code",
   "execution_count": null,
   "metadata": {},
   "outputs": [],
   "source": [
    "# graph = FileIO.load(out)[\"graph\"]"
   ]
  },
  {
   "cell_type": "code",
   "execution_count": null,
   "metadata": {},
   "outputs": [],
   "source": [
    "# Mycelia.plot_kmer_frequency_spectra(collect(values(graph.gprops[:kmer_counts])))"
   ]
  },
  {
   "cell_type": "markdown",
   "metadata": {},
   "source": [
    "The final genome of sequenced SARS-CoV-2 consists of a single, positive-stranded RNA that is 29,811 nucleotides long, broken down as follows: 8,903 (29.86%) adenosines, 5,482 (18.39%) cytosines, 5,852 (19.63%) guanines, and 9,574 (32.12%) thymines."
   ]
  },
  {
   "cell_type": "code",
   "execution_count": null,
   "metadata": {},
   "outputs": [],
   "source": [
    "# threshold = 2^13\n",
    "# # vertices_to_keep = findall(v -> graph.vprops[v][:count] >= threshold, Graphs.vertices(graph))"
   ]
  },
  {
   "cell_type": "code",
   "execution_count": null,
   "metadata": {},
   "outputs": [],
   "source": [
    "# # # [kmer count options]\n",
    "# # #      -in                                     (1 arg) :    reads file  [default '']\n",
    "# # #      -kmer-size                              (1 arg) :    size of a kmer  [default '31']\n",
    "# # #      -abundance-min                          (1 arg) :    min abundance threshold for solid kmers  [default '2']\n",
    "# # #      -abundance-max                          (1 arg) :    max abundance threshold for solid kmers  [default '2147483647']\n",
    "# # #      -solidity-custom                        (1 arg) :    when solidity-kind is custom, specifies list of files where kmer must be present  [default '']\n",
    "# # #      -max-memory                             (1 arg) :    max memory (in MBytes)  [default '5000']\n",
    "# # #      -max-disk                               (1 arg) :    max disk   (in MBytes)  [default '0']\n",
    "# # #      -out                                    (1 arg) :    output file  [default '']\n",
    "# # #      -out-dir                                (1 arg) :    output directory  [default '.']\n",
    "# # #      -out-tmp                                (1 arg) :    output directory for temporary files  [default '.']\n",
    "# # #      -out-compress                           (1 arg) :    h5 compression level (0:none, 9:best)  [default '0']\n",
    "# # #      -storage-type                           (1 arg) :    storage type of kmer counts ('hdf5' or 'file')  [default 'hdf5']\n",
    "# # #      -histo2D                                (1 arg) :    compute the 2D histogram (with first file = genome, remaining files = reads)  [default '0']\n",
    "# # #      -histo                                  (1 arg) :    output the kmer abundance histogram  [default '0']\n",
    "# # # pretty fast! Just a few minutes\n",
    "# bcalm_base = \"$(covid_genomes_md5).$(k).min-$(threshold).bcalm\"\n",
    "# @time run(`bcalm -in $(join(fastxs, ' ')) -kmer-size $(k) -abundance-min $(threshold) -out $(bcalm_base)`)"
   ]
  },
  {
   "cell_type": "code",
   "execution_count": null,
   "metadata": {},
   "outputs": [],
   "source": [
    "# # need to convert to GFA\n",
    "# run(`python $(homedir())/software/bin/convertToGFA.py $(bcalm_base).unitigs.fa $(bcalm_base).unitigs.fa.gfa $(k)`)"
   ]
  },
  {
   "cell_type": "code",
   "execution_count": null,
   "metadata": {},
   "outputs": [],
   "source": [
    "# run(`/home/jupyter-cjprybol/software/bin/Bandage image $(bcalm_base).unitigs.fa.gfa $(bcalm_base).unitigs.fa.gfa.svg --depwidth 1 --deppower 1`)"
   ]
  },
  {
   "cell_type": "code",
   "execution_count": null,
   "metadata": {},
   "outputs": [],
   "source": [
    "# thresholded_subgraph, vmap = Graphs.induced_subgraph(graph, vertices_to_keep)"
   ]
  },
  {
   "cell_type": "code",
   "execution_count": null,
   "metadata": {},
   "outputs": [],
   "source": [
    "# thresholded_subgraph_file = replace(out, \".jld2\" => \".threshold-$(threshold).jld2\")"
   ]
  },
  {
   "cell_type": "code",
   "execution_count": null,
   "metadata": {},
   "outputs": [],
   "source": [
    "# FileIO.save(thresholded_subgraph_file, Dict(\"graph\" => thresholded_subgraph))"
   ]
  },
  {
   "cell_type": "code",
   "execution_count": null,
   "metadata": {},
   "outputs": [],
   "source": [
    "# reduce and simplify"
   ]
  },
  {
   "cell_type": "code",
   "execution_count": null,
   "metadata": {},
   "outputs": [],
   "source": [
    "# gfa_file = \"$(thresholded_subgraph_file).gfa\"\n",
    "# if !isfile(gfa_file)\n",
    "#     @time run(`julia $(executable) convert --in $(thresholded_subgraph_file) --out $(gfa_file)`)\n",
    "# end"
   ]
  },
  {
   "cell_type": "code",
   "execution_count": null,
   "metadata": {},
   "outputs": [],
   "source": [
    "# run(`/home/jupyter-cjprybol/software/bin/Bandage image $(gfa_file) $(gfa_file).svg --depwidth 1 --deppower 1`)"
   ]
  },
  {
   "cell_type": "code",
   "execution_count": null,
   "metadata": {},
   "outputs": [],
   "source": [
    "# Bifrost x.y\n",
    "\n",
    "# Highly parallel construction, indexing and querying of colored and compacted de Bruijn graphs\n",
    "\n",
    "# Usage: Bifrost [COMMAND] [PARAMETERS]\n",
    "\n",
    "# [COMMAND]:\n",
    "\n",
    "#    build                   Build a compacted de Bruijn graph, with or without colors\n",
    "#    update                  Update a compacted (possible colored) de Bruijn graph with new sequences\n",
    "#    query                   Query a compacted (possible colored) de Bruijn graph\n",
    "\n",
    "# [PARAMETERS]: build\n",
    "\n",
    "#    > Mandatory with required argument:\n",
    "\n",
    "#    -s, --input-seq-file     Input sequence file (FASTA/FASTQ possibly gzipped)\n",
    "#                             Multiple files can be provided as a list in a TXT file (one file per line)\n",
    "#                             K-mers with exactly 1 occurrence in the input sequence files will be discarded\n",
    "#    -r, --input-ref-file     Input reference file (FASTA/FASTQ possibly gzipped and GFA)\n",
    "#                             Multiple files can be provided as a list in a TXT file (one file per line)\n",
    "#                             All k-mers of the input reference files are used\n",
    "#    -o, --output-file        Prefix for output file(s)\n",
    "\n",
    "#    > Optional with required argument:\n",
    "\n",
    "#    -t, --threads            Number of threads (default is 1)\n",
    "#    -k, --kmer-length        Length of k-mers (default is 31)\n",
    "#    -m, --min-length         Length of minimizers (default is 23)\n",
    "#    -b, --bloom-bits         Number of Bloom filter bits per k-mer with 1+ occurrences in the input files (default is 14)\n",
    "#    -B, --bloom-bits2        Number of Bloom filter bits per k-mer with 2+ occurrences in the input files (default is 14)\n",
    "#    -l, --load-mbbf          Input Blocked Bloom Filter file, skips filtering step (default is no input)\n",
    "#    -w, --write-mbbf         Output Blocked Bloom Filter file (default is no output)\n",
    "#    -u, --chunk-size         Read chunk size per thread (default is 64)\n",
    "\n",
    "#    > Optional with no argument:\n",
    "\n",
    "#    -c, --colors             Color the compacted de Bruijn graph (default is no coloring)\n",
    "#    -y, --keep-mercy         Keep low coverage k-mers connecting tips\n",
    "#    -i, --clip-tips          Clip tips shorter than k k-mers in length\n",
    "#    -d, --del-isolated       Delete isolated contigs shorter than k k-mers in length\n",
    "#    -a, --fasta              Output file is in FASTA format (only sequences) instead of GFA\n",
    "#    -v, --verbose            Print information messages during execution"
   ]
  },
  {
   "cell_type": "markdown",
   "metadata": {},
   "source": [
    "Find maximum likelihood path through the genome"
   ]
  },
  {
   "cell_type": "markdown",
   "metadata": {},
   "source": [
    "### Bacteria: Mycobacterium spp."
   ]
  },
  {
   "cell_type": "markdown",
   "metadata": {},
   "source": [
    "Find all COVID-19 submissions in NCBI refseq and genbank. Start with refseq"
   ]
  },
  {
   "cell_type": "code",
   "execution_count": null,
   "metadata": {},
   "outputs": [],
   "source": [
    "# # db = \"refseq\"\n",
    "# db = \"genbank\"\n",
    "# ncbi_summary_url = \"https://ftp.ncbi.nih.gov/genomes/$(db)/assembly_summary_$(db).txt\"\n",
    "# ncbi_summary_outfile = basename(ncbi_summary_url)\n",
    "# if !isfile(ncbi_summary_outfile)\n",
    "#     download(ncbi_summary_url, ncbi_summary_outfile)\n",
    "# end\n",
    "# ncbi_summary_table = DataFrames.DataFrame(uCSV.read(ncbi_summary_outfile, header=2, delim='\\t')...)"
   ]
  },
  {
   "cell_type": "markdown",
   "metadata": {},
   "source": [
    "Build pangenome graph"
   ]
  },
  {
   "cell_type": "markdown",
   "metadata": {},
   "source": [
    "Find maximum likelihood path through the genome"
   ]
  },
  {
   "cell_type": "markdown",
   "metadata": {},
   "source": [
    "### Eukaryote: S. cerevisae"
   ]
  },
  {
   "cell_type": "markdown",
   "metadata": {},
   "source": [
    "Find all COVID-19 submissions in NCBI refseq and genbank. Start with refseq"
   ]
  },
  {
   "cell_type": "markdown",
   "metadata": {},
   "source": [
    "Build pangenome graph"
   ]
  },
  {
   "cell_type": "markdown",
   "metadata": {},
   "source": [
    "Find maximum likelihood path through the genome"
   ]
  },
  {
   "cell_type": "markdown",
   "metadata": {},
   "source": [
    "## Results"
   ]
  },
  {
   "cell_type": "markdown",
   "metadata": {},
   "source": [
    "## References\n",
    "\n",
    "https://genomebiology.biomedcentral.com/articles/10.1186/s13059-020-02130-z\n",
    "\n",
    "https://www.science.org/doi/10.1126/science.aaf4557\n",
    "\n",
    "http://syntheticyeast.org/software-development/\n",
    "\n",
    "https://www.ncbi.nlm.nih.gov/pmc/articles/PMC3370935/\n",
    "\n",
    "https://en.wikipedia.org/wiki/Minimal_genome\n",
    "\n",
    "https://www.science.org/doi/10.1126/science.aad6253\n",
    "\n",
    "https://www.pnas.org/content/103/2/425"
   ]
  }
 ],
 "metadata": {
  "kernelspec": {
   "display_name": "Julia 1.6.3",
   "language": "julia",
   "name": "julia-1.6"
  },
  "language_info": {
   "file_extension": ".jl",
   "mimetype": "application/julia",
   "name": "julia",
   "version": "1.6.3"
  }
 },
 "nbformat": 4,
 "nbformat_minor": 4
}
