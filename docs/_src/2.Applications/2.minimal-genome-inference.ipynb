{
 "cells": [
  {
   "cell_type": "markdown",
   "metadata": {},
   "source": [
    "# Minimal Genome Inference"
   ]
  },
  {
   "cell_type": "markdown",
   "metadata": {},
   "source": [
    "## Introduction\n",
    "\n",
    "Use comparative genomics to determine which elements of the genomes are highly conserved.\n",
    "\n",
    "We will assume that all highly conserved elements are essential.\n",
    "\n",
    "Subset the genome down to these essential sequences, and reconstruct a new path through the genome that will minimize the size to only include these regions of the genome that are inferred essential."
   ]
  },
  {
   "cell_type": "markdown",
   "metadata": {},
   "source": [
    "## Methods\n",
    "\n",
    "Pseudo-algorithm:\n",
    "- do the following for a virus, mycobacterium, yeast\n",
    "    - pull list of all genomes on NCBI\n",
    "    - build pangenome\n",
    "    - filter out dna sequences with low conservation\n",
    "    - walk shortest/maximum likelihood path(s)"
   ]
  },
  {
   "cell_type": "code",
   "execution_count": 1,
   "metadata": {},
   "outputs": [],
   "source": [
    "DATE = \"2022-01-15\"\n",
    "TASK = \"minimal-genome\"\n",
    "DIR = mkpath(\"$(homedir())/workspace/$(DATE)-$(TASK)\")\n",
    "cd(DIR)"
   ]
  },
  {
   "cell_type": "code",
   "execution_count": 2,
   "metadata": {},
   "outputs": [
    {
     "name": "stderr",
     "output_type": "stream",
     "text": [
      "\u001b[32m\u001b[1m    Updating\u001b[22m\u001b[39m registry at `~/.julia/registries/General`\n",
      "\u001b[32m\u001b[1m    Updating\u001b[22m\u001b[39m git-repo `https://github.com/JuliaRegistries/General.git`\n",
      "\u001b[32m\u001b[1m   Resolving\u001b[22m\u001b[39m package versions...\n",
      "\u001b[32m\u001b[1m  No Changes\u001b[22m\u001b[39m to `~/.julia/dev/Mycelia/docs/Project.toml`\n",
      "\u001b[32m\u001b[1m  No Changes\u001b[22m\u001b[39m to `~/.julia/dev/Mycelia/docs/Manifest.toml`\n",
      "\u001b[32m\u001b[1mPrecompiling\u001b[22m\u001b[39m project...\n",
      "\u001b[32m  ✓ \u001b[39mMycelia\n",
      "  1 dependency successfully precompiled in 22 seconds (272 already precompiled)\n"
     ]
    }
   ],
   "source": [
    "pkgs = [\n",
    "\"Graphs\",\n",
    "\"MetaGraphs\",\n",
    "\"BioSequences\",\n",
    "\"uCSV\",\n",
    "\"DataFrames\",\n",
    "\"FASTX\",\n",
    "\"HTTP\",\n",
    "\"CodecZlib\",\n",
    "\"Revise\",\n",
    "]\n",
    "\n",
    "import Pkg\n",
    "Pkg.add(pkgs)\n",
    "for pkg in pkgs\n",
    "    eval(Meta.parse(\"import $(basename(pkg))\"))\n",
    "end\n",
    "\n",
    "import Mycelia"
   ]
  },
  {
   "cell_type": "markdown",
   "metadata": {},
   "source": [
    "### Virus: COVID-19"
   ]
  },
  {
   "cell_type": "code",
   "execution_count": null,
   "metadata": {},
   "outputs": [],
   "source": [
    "# all nucleotide records\n",
    "# https://www.ncbi.nlm.nih.gov/labs/virus/vssi/#/virus?SeqType_s=Nucleotide&VirusLineage_ss=SARS-CoV-2,%20taxid:2697049"
   ]
  },
  {
   "cell_type": "code",
   "execution_count": 23,
   "metadata": {},
   "outputs": [
    {
     "data": {
      "text/plain": [
       "10000-element Vector{String}:\n",
       " \"MW592645\"\n",
       " \"MW592651\"\n",
       " \"MZ504055\"\n",
       " \"MZ500902\"\n",
       " \"MZ501473\"\n",
       " \"MZ501471\"\n",
       " \"MZ500800\"\n",
       " \"MW590397\"\n",
       " \"MW592612\"\n",
       " \"MW592636\"\n",
       " \"MZ500802\"\n",
       " \"MZ500903\"\n",
       " \"MZ504037\"\n",
       " ⋮\n",
       " \"MZ497191\"\n",
       " \"MZ473712\"\n",
       " \"MZ473745\"\n",
       " \"MZ433955\"\n",
       " \"MZ350108\"\n",
       " \"MZ350111\"\n",
       " \"MZ473755\"\n",
       " \"MZ434008\"\n",
       " \"MZ351856\"\n",
       " \"MZ351853\"\n",
       " \"MW893496\"\n",
       " \"MZ473957\""
      ]
     },
     "execution_count": 23,
     "metadata": {},
     "output_type": "execute_result"
    }
   ],
   "source": [
    "# accession list downloaded from\n",
    "# https://www.ncbi.nlm.nih.gov/sars-cov-2/\n",
    "covid_accessions = DataFrames.DataFrame(uCSV.read(joinpath(Mycelia.METADATA, \"sars-cov-2-accession-list.txt\"), header=1)...)[!, \"id\"]"
   ]
  },
  {
   "cell_type": "code",
   "execution_count": 26,
   "metadata": {},
   "outputs": [],
   "source": [
    "d = mkpath(joinpath(DIR, \"covid-genomes\"))\n",
    "accession_list = covid_accessions[1:3]\n",
    "for id in accession_list\n",
    "    f = joinpath(d, \"$(id).fasta\")\n",
    "    if !isfile(f)\n",
    "        open(f, \"w\") do io\n",
    "            fastx_io = FASTX.FASTA.Writer(io)\n",
    "            for record in Mycelia.get_sequence(db=\"nuccore\", accession=covid_accessions[1, \"id\"])\n",
    "                write(fastx_io, record)\n",
    "            end\n",
    "            close(fastx_io)\n",
    "        end\n",
    "    end\n",
    "end\n",
    "\n",
    "covid_genomes = joinpath(DIR, \"covid-genomes.fasta\")\n",
    "open(covid_genomes, \"w\") do io\n",
    "    for id in accession_list\n",
    "        f = joinpath(d, \"$(id).fasta\")\n",
    "        for line in eachline(f)\n",
    "            println(io, line)\n",
    "        end\n",
    "        println(io, \"\")\n",
    "    end\n",
    "end"
   ]
  },
  {
   "cell_type": "markdown",
   "metadata": {},
   "source": [
    "Build pangenome graph"
   ]
  },
  {
   "cell_type": "code",
   "execution_count": null,
   "metadata": {},
   "outputs": [],
   "source": []
  },
  {
   "cell_type": "markdown",
   "metadata": {},
   "source": [
    "Find maximum likelihood path through the genome"
   ]
  },
  {
   "cell_type": "markdown",
   "metadata": {},
   "source": [
    "### Bacteria: Mycobacterium spp."
   ]
  },
  {
   "cell_type": "markdown",
   "metadata": {},
   "source": [
    "Find all COVID-19 submissions in NCBI refseq and genbank. Start with refseq"
   ]
  },
  {
   "cell_type": "code",
   "execution_count": null,
   "metadata": {},
   "outputs": [],
   "source": [
    "# # db = \"refseq\"\n",
    "# db = \"genbank\"\n",
    "# ncbi_summary_url = \"https://ftp.ncbi.nih.gov/genomes/$(db)/assembly_summary_$(db).txt\"\n",
    "# ncbi_summary_outfile = basename(ncbi_summary_url)\n",
    "# if !isfile(ncbi_summary_outfile)\n",
    "#     download(ncbi_summary_url, ncbi_summary_outfile)\n",
    "# end\n",
    "# ncbi_summary_table = DataFrames.DataFrame(uCSV.read(ncbi_summary_outfile, header=2, delim='\\t')...)"
   ]
  },
  {
   "cell_type": "markdown",
   "metadata": {},
   "source": [
    "Build pangenome graph"
   ]
  },
  {
   "cell_type": "markdown",
   "metadata": {},
   "source": [
    "Find maximum likelihood path through the genome"
   ]
  },
  {
   "cell_type": "markdown",
   "metadata": {},
   "source": [
    "### Eukaryote: S. cerevisae"
   ]
  },
  {
   "cell_type": "markdown",
   "metadata": {},
   "source": [
    "Find all COVID-19 submissions in NCBI refseq and genbank. Start with refseq"
   ]
  },
  {
   "cell_type": "markdown",
   "metadata": {},
   "source": [
    "Build pangenome graph"
   ]
  },
  {
   "cell_type": "markdown",
   "metadata": {},
   "source": [
    "Find maximum likelihood path through the genome"
   ]
  },
  {
   "cell_type": "markdown",
   "metadata": {},
   "source": [
    "## Results"
   ]
  },
  {
   "cell_type": "markdown",
   "metadata": {},
   "source": [
    "## References\n",
    "\n",
    "https://genomebiology.biomedcentral.com/articles/10.1186/s13059-020-02130-z\n",
    "\n",
    "https://www.science.org/doi/10.1126/science.aaf4557\n",
    "\n",
    "http://syntheticyeast.org/software-development/\n",
    "\n",
    "https://www.ncbi.nlm.nih.gov/pmc/articles/PMC3370935/\n",
    "\n",
    "https://en.wikipedia.org/wiki/Minimal_genome\n",
    "\n",
    "https://www.science.org/doi/10.1126/science.aad6253\n",
    "\n",
    "https://www.pnas.org/content/103/2/425"
   ]
  }
 ],
 "metadata": {
  "kernelspec": {
   "display_name": "Julia 1.6.3",
   "language": "julia",
   "name": "julia-1.6"
  },
  "language_info": {
   "file_extension": ".jl",
   "mimetype": "application/julia",
   "name": "julia",
   "version": "1.6.3"
  }
 },
 "nbformat": 4,
 "nbformat_minor": 4
}
