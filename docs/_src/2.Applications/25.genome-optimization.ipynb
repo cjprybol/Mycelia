{
 "cells": [
  {
   "cell_type": "markdown",
   "metadata": {},
   "source": [
    "# Genome Optimization"
   ]
  },
  {
   "cell_type": "markdown",
   "metadata": {},
   "source": [
    "## Introduction\n",
    "\n",
    "Use comparative genomics to determine which elements of the genomes are highly conserved.\n",
    "\n",
    "We will assume that all highly conserved elements are useful and worth keeping.\n",
    "\n",
    "Subset the genome down to these useful sequences, and reconstruct a new path through the genome that will minimize the size to only include these regions of the genome that are inferred useful."
   ]
  },
  {
   "cell_type": "markdown",
   "metadata": {},
   "source": [
    "## Methods\n",
    "\n",
    "Pseudo-algorithm:\n",
    "- do the following for a virus, mycobacterium, yeast\n",
    "    - pull list of all genomes on NCBI\n",
    "    - build pangenome\n",
    "    - layer on or infer gene family annotations\n",
    "    - filter out proteins with low conservation\n",
    "    - filter out dna sequences with low conservation\n",
    "    - walk shortest/maximum likelihood paths that connect conserved proteins"
   ]
  },
  {
   "cell_type": "markdown",
   "metadata": {},
   "source": [
    "### Virus: COVID-19"
   ]
  },
  {
   "cell_type": "markdown",
   "metadata": {},
   "source": [
    "### Bacteria: Mycobacterium spp."
   ]
  },
  {
   "cell_type": "markdown",
   "metadata": {},
   "source": [
    "### Eukaryote: Mycobacterium spp."
   ]
  },
  {
   "cell_type": "markdown",
   "metadata": {},
   "source": [
    "Find all COVID-19 submissions in NCBI refseq and genbank. Start with refseq"
   ]
  },
  {
   "cell_type": "markdown",
   "metadata": {},
   "source": [
    "Build pangenome graph"
   ]
  },
  {
   "cell_type": "markdown",
   "metadata": {},
   "source": [
    "Find maximum likelihood path through the genome"
   ]
  },
  {
   "cell_type": "markdown",
   "metadata": {},
   "source": [
    "## Results"
   ]
  },
  {
   "cell_type": "markdown",
   "metadata": {},
   "source": [
    "## References\n",
    "\n",
    "https://genomebiology.biomedcentral.com/articles/10.1186/s13059-020-02130-z\n",
    "\n",
    "https://www.science.org/doi/10.1126/science.aaf4557\n",
    "\n",
    "http://syntheticyeast.org/software-development/\n",
    "\n",
    "https://www.ncbi.nlm.nih.gov/pmc/articles/PMC3370935/\n",
    "\n",
    "https://en.wikipedia.org/wiki/Minimal_genome\n",
    "\n",
    "https://www.science.org/doi/10.1126/science.aad6253\n",
    "\n",
    "https://www.pnas.org/content/103/2/425"
   ]
  }
 ],
 "metadata": {
  "kernelspec": {
   "display_name": "Julia 1.6.3",
   "language": "julia",
   "name": "julia-1.6"
  },
  "language_info": {
   "file_extension": ".jl",
   "mimetype": "application/julia",
   "name": "julia",
   "version": "1.6.3"
  }
 },
 "nbformat": 4,
 "nbformat_minor": 4
}
