{
 "cells": [
  {
   "cell_type": "markdown",
   "metadata": {},
   "source": [
    "# Iterative Graph polishing"
   ]
  },
  {
   "cell_type": "markdown",
   "metadata": {},
   "source": [
    "For graph polishing\n",
    "take the smallest K at which you see singletons, and for reeds containing those\n",
    "singletons find a new optimal path through the graph to replace those\n",
    "singletons. In the next iteration increase the K to the next Prime number K\n",
    "less than 64 and again determine all cameras that are singletons and in each\n",
    "read containing those singletons find a new path through the graph that removes\n",
    "those single tenant. After we have reached a K of 63 or after we have stopped\n",
    "making edits we should have a rived at a polished graph where each read has\n",
    "been graph corrected to its optimization maximization no expectation max my\n",
    "expectation maximize ation likelihood where this is a greedy graph-based\n",
    "approach of figuring out which graph is most likely given the input data.\n",
    "\n",
    "Explain hear what\n",
    "else we have tried and one thing that we’ve tried is the Viterbi algorithm\n",
    "which is simply too slow given that we have to compute too many combinations\n",
    "are possible paths, however in theory this is the best statistical approach to\n",
    "be taken to robustly solve this problem."
   ]
  }
 ],
 "metadata": {
  "kernelspec": {
   "display_name": "Julia 1.6.3",
   "language": "julia",
   "name": "julia-1.6"
  },
  "language_info": {
   "file_extension": ".jl",
   "mimetype": "application/julia",
   "name": "julia",
   "version": "1.6.3"
  }
 },
 "nbformat": 4,
 "nbformat_minor": 4
}
