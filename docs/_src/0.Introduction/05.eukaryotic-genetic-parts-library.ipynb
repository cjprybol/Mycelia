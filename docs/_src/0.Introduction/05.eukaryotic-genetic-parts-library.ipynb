{
 "cells": [
  {
   "cell_type": "markdown",
   "id": "89824e10-6d2d-4421-8533-c814a59e84a7",
   "metadata": {},
   "source": [
    "# Eukaryotic Genetic Parts Library"
   ]
  },
  {
   "cell_type": "markdown",
   "id": "e2f36245",
   "metadata": {},
   "source": [
    "![The structure of a eukaryotic protein-coding gene](eukaryotic-gene-operon-2.jpeg)"
   ]
  }
 ],
 "metadata": {
  "kernelspec": {
   "display_name": "Julia 1.7.3",
   "language": "julia",
   "name": "julia-1.7"
  },
  "language_info": {
   "name": "julia"
  }
 },
 "nbformat": 4,
 "nbformat_minor": 5
}
