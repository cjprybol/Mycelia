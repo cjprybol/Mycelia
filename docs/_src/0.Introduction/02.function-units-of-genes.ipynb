{
 "cells": [
  {
   "cell_type": "markdown",
   "id": "89824e10-6d2d-4421-8533-c814a59e84a7",
   "metadata": {},
   "source": [
    "# [The Functional Units of Genes](https://en.wikipedia.org/wiki/Gene#Structure_and_function)"
   ]
  },
  {
   "cell_type": "markdown",
   "id": "1622b7a2",
   "metadata": {},
   "source": [
    "![The structure of a eukaryotic protein-coding gene](Gene_structure_eukaryote_2_annotated.svg.jpg)"
   ]
  },
  {
   "cell_type": "markdown",
   "id": "e2f36245",
   "metadata": {},
   "source": [
    "![The structure of a prokaryotic operon of protein-coding genes](Gene_structure_prokaryote_2_annotated.svg.jpg)"
   ]
  },
  {
   "cell_type": "markdown",
   "id": "75fe4edd",
   "metadata": {},
   "source": []
  }
 ],
 "metadata": {
  "kernelspec": {
   "display_name": "Julia 1.7.3",
   "language": "julia",
   "name": "julia-1.7"
  },
  "language_info": {
   "name": "julia"
  }
 },
 "nbformat": 4,
 "nbformat_minor": 5
}
