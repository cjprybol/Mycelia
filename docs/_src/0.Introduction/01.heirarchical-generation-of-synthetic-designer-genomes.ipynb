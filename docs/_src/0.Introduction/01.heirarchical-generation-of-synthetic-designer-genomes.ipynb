{
 "cells": [
  {
   "cell_type": "markdown",
   "id": "89824e10-6d2d-4421-8533-c814a59e84a7",
   "metadata": {},
   "source": [
    "# Hierarchical Generation of Synthetic Designer Genomes"
   ]
  },
  {
   "cell_type": "markdown",
   "id": "8d802c14",
   "metadata": {},
   "source": [
    "![](genomic-dalle.jpg)"
   ]
  },
  {
   "cell_type": "markdown",
   "id": "8d802c14",
   "metadata": {},
   "source": [
    "![](../../images-and-figures/genomic-dalle.jpg)"
   ]
  }
 ],
 "metadata": {
  "kernelspec": {
   "display_name": "Julia 1.7.3",
   "language": "julia",
   "name": "julia-1.7"
  },
  "language_info": {
   "name": ""
  }
 },
 "nbformat": 4,
 "nbformat_minor": 5
}
