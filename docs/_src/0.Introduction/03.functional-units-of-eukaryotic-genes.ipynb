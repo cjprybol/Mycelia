{
 "cells": [
  {
   "cell_type": "markdown",
   "id": "89824e10-6d2d-4421-8533-c814a59e84a7",
   "metadata": {},
   "source": [
    "# [The Functional Units of Eukaryotic Genes](https://en.wikipedia.org/wiki/Gene#Structure_and_function)"
   ]
  },
  {
   "cell_type": "markdown",
   "id": "1622b7a2",
   "metadata": {},
   "source": [
    "![https://en.wikipedia.org/wiki/File:Gene_structure_eukaryote_2_annotated.svg](Screenshot_2022-07-08_at_11-39-27_Gene_structure_-_Wikipedia.png)"
   ]
  }
 ],
 "metadata": {
  "kernelspec": {
   "display_name": "Julia 1.7.3",
   "language": "julia",
   "name": "julia-1.7"
  },
  "language_info": {
   "name": "julia"
  }
 },
 "nbformat": 4,
 "nbformat_minor": 5
}
