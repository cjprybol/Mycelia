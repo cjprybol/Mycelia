{
 "cells": [
  {
   "cell_type": "markdown",
   "metadata": {},
   "source": [
    "# K primes pattern"
   ]
  },
  {
   "cell_type": "markdown",
   "metadata": {},
   "source": [
    "I was looking for a way to iterate through prime number k's.\n",
    "I wanted the method that would avoid [twin primes](https://en.wikipedia.org/wiki/Twin_prime).\n",
    "Twin primes are only 2 apart, e.g.:\n",
    "(3, 5), (5, 7), (11, 13), (17, 19), (29, 31), (41, 43), (59, 61), (71, 73), (101, 103), (107, 109).\n",
    "Re-assessing data using such closely related window sizes seems like it would be for minimal gain.\n",
    "With the same principle of trying to avoid reprocessing data for minimal gain, an ideal iteration would steadily increase in distance between the current k-length and the next.\n",
    "\n",
    "```julia\n",
    "julia> step = 2\n",
    "2\n",
    "\n",
    "julia> current_prime = 11\n",
    "11\n",
    "\n",
    "julia> while Primes.isprime(current_prime)\n",
    "           current_prime = current_prime + step\n",
    "           step += 2\n",
    "           @show current_prime\n",
    "       end\n",
    "current_prime = 13\n",
    "current_prime = 17\n",
    "current_prime = 23\n",
    "current_prime = 31\n",
    "current_prime = 41\n",
    "current_prime = 53\n",
    "current_prime = 67\n",
    "current_prime = 83\n",
    "current_prime = 101\n",
    "current_prime = 121\n",
    "```"
   ]
  }
 ],
 "metadata": {
  "kernelspec": {
   "display_name": "Julia 1.6.3",
   "language": "julia",
   "name": "julia-1.6"
  },
  "language_info": {
   "file_extension": ".jl",
   "mimetype": "application/julia",
   "name": "julia",
   "version": "1.6.3"
  }
 },
 "nbformat": 4,
 "nbformat_minor": 4
}
