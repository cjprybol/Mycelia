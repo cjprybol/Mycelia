{
 "cells": [
  {
   "cell_type": "markdown",
   "metadata": {},
   "source": [
    "# Development Notes"
   ]
  },
  {
   "cell_type": "markdown",
   "metadata": {},
   "source": [
    "## API\n",
    "\n",
    "- Need to allow users to add individual datasets to database\n",
    "- does a sequence exist?\n",
    "  - does a sequence exist allowing n mismatches\n",
    "  - relative likelihood and frequency of most similar paths\n",
    "    - this is just the viterbi traversal\n",
    "- reads supporting traversal, and the datasets they came from\n",
    "- connected components (species) containing path\n",
    "- phylogenetic hierarchy of a component\n",
    "  - nodes <-> kmers\n",
    "- which datasets are a given kmer present in?\n",
    "- export and import with GFA\n",
    "- condense kmer graphs to simplified graphs\n",
    "- visualization \n",
    "  - with Bandage (works automatically with GFA)\n",
    "  - with Neo4J visualization library\n",
    "\n",
    "## Implementation requirements\n",
    "\n",
    "- kmer spectra -> signal detection\n",
    "- kmer size with signal -> initial assembly graph\n",
    "    - bandage visualization\n",
    "- initial assembly graph + reads -> iterative assembly\n",
    "    - bandage visualization\n",
    "- final assembly\n",
    "    - bandage visualization\n",
    "- annotation\n",
    "    - find all start codons\n",
    "    - find all stop codons\n",
    "    - report in fasta format all coding regions\n",
    "    - try and verify against prodigal to make sure that we aren’t missing any\n",
    "\n",
    "- graph -> path -> sequence -> amino acid sequence\n",
    "\n",
    "## Creating probabilistic assemblies\n",
    "1. Build weighted [de-bruijn graphs](https://en.wikipedia.org/wiki/De_Bruijn_graph) with observed data\n",
    "2. Use the weighted de-bruijn graph as a [hidden markov model](https://en.wikipedia.org/wiki/Hidden_Markov_model) to [error correct observations](https://en.wikipedia.org/wiki/Viterbi_algorithm)\n",
    "3. Use the error-corrected observations to build a new, more accurate weighted de-bruijn graph\n",
    "4. Repeat 1-3 until convergence\n",
    "5. Return maximum likelihood assembly\n",
    "\n",
    "Consider for graph cleaning:\n",
    "  - [x] Solve most likely path (slow but robust) vs\n",
    "  - [ ] resample most likely paths (fast, less theoretically sound)\n",
    "    - fairly certain that this is what the Flye assembler does"
   ]
  }
 ],
 "metadata": {
  "kernelspec": {
   "display_name": "Julia 1.6.3",
   "language": "julia",
   "name": "julia-1.6"
  },
  "language_info": {
   "file_extension": ".jl",
   "mimetype": "application/julia",
   "name": "julia",
   "version": "1.6.3"
  }
 },
 "nbformat": 4,
 "nbformat_minor": 4
}
