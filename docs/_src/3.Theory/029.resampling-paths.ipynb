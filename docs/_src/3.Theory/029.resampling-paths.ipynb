{
 "cells": [
  {
   "cell_type": "markdown",
   "metadata": {},
   "source": [
    "# Resampling paths"
   ]
  },
  {
   "cell_type": "markdown",
   "metadata": {},
   "source": [
    "## peusdocode"
   ]
  },
  {
   "cell_type": "code",
   "execution_count": null,
   "metadata": {},
   "outputs": [],
   "source": [
    "function create_distance_matrix(g)\n",
    "    distance_matrix = fill(Inf, Graphs.nv(g), Graphs.nv(g))\n",
    "    for edge in Graphs.edges(g)\n",
    "        total_weight = g.vprops[edge.src][:weight] + g.vprops[edge.dst][:weight]\n",
    "        mean_weight = total_weight / 2\n",
    "        inverse_weight = 1 / mean_weight\n",
    "        distance_matrix[edge.src, edge.dst] = distance_matrix[edge.dst, edge.src] = inverse_weight\n",
    "    end\n",
    "    distance_matrix\n",
    "end"
   ]
  },
  {
   "cell_type": "code",
   "execution_count": 1,
   "metadata": {},
   "outputs": [
    {
     "data": {
      "text/plain": [
       "resample_fastxs (generic function with 1 method)"
      ]
     },
     "execution_count": 1,
     "metadata": {},
     "output_type": "execute_result"
    }
   ],
   "source": [
    "function resample_fastxs(graph, fastxs)\n",
    "    distance_matrix = create_distance_matrix(graph)\n",
    "    # ProgressMeter.@showprogress\n",
    "    for fastx in fastxs\n",
    "        resample_fastx(graph, distance_matrix, fastx)\n",
    "    end\n",
    "end"
   ]
  },
  {
   "cell_type": "code",
   "execution_count": null,
   "metadata": {},
   "outputs": [],
   "source": [
    "function resample_fastx(graph, distance_matrix, fastx)\n",
    "    # open file, count # of items in it\n",
    "    # open file again, process using ProgressMeter\n",
    "    is_compressed = occursin(r\"\\.gz$\", fastx)\n",
    "    if is_compressed\n",
    "        new_fastx = replace(fastx, r\"\\.gz$\" => \"\")\n",
    "    else\n",
    "        new_fastx = fastx\n",
    "    end\n",
    "    is_fastq = occursin(r\"\\.(fq|fastq)$\", new_fastx)\n",
    "    is_fasta = occursin(r\"\\.(fa|fasta|fna)$\", new_fastx)\n",
    "    @assert xor(is_fasta, is_fastq)\n",
    "    new_fastx = join(split(new_fastx, '.')[1:end-1], '.')\n",
    "    if is_fastq\n",
    "        new_fastx *= \".fq\"\n",
    "    elseif is_fasta\n",
    "        new_fastx *= \".fna\"\n",
    "    end\n",
    "    if is_compressed\n",
    "        new_fastx *= \".gz\"\n",
    "        io = CodecZLib.GzipCompressorStream(open(new_fastx, \"w\"))\n",
    "    else\n",
    "        io = open(new_fastx, \"w\")\n",
    "    end\n",
    "    fastx_io = is_fastq ? FASTX.FASTQ.Writer(io) : FASTX.FASTA.Writer(io)\n",
    "    for record in fastx_open(fastx)\n",
    "        new_record = resample_sequence(graph, distance_matrix, record)\n",
    "        write(fastx_io, new_record)\n",
    "    end\n",
    "end"
   ]
  },
  {
   "cell_type": "code",
   "execution_count": null,
   "metadata": {},
   "outputs": [],
   "source": [
    "# Iteratively resample paths between heaviest nodes, looking for alternative, higher-quality routes\n",
    "# that are more likely to be correct (error-free)\n",
    "\n",
    "function iterative_resample(graph, distance_matrix, record)\n",
    "    sequence = FASTX.sequence(record)\n",
    "#     new_description = old_description * \"|\" * relative_likelihood\n",
    "#     k = graph.gprops[:k]\n",
    "    KMER_TYPE = eltype(keys(graph.gprops[:kmer_counts]))\n",
    "    sequence_as_oriented_kmers = sequence_to_oriented_kmers(KMER_TYPE, sequence)\n",
    "    sequential_counts = [graph.gprops[:kmer_counts][BioSequences.canonical(kmer)] for kmer in sequence_as_kmers]\n",
    "    anchor_node_weights = StatsBase.Weights(sequential_counts)\n",
    "    initial_pair = StatsBase.sample(anchor_node_weights, 2)\n",
    "    proposed_route = a_star(graph, initial_pair..., distance_matrix)\n",
    "end"
   ]
  },
  {
   "cell_type": "code",
   "execution_count": null,
   "metadata": {},
   "outputs": [],
   "source": [
    "# choose a number between 1 and the median coverage of the read\n",
    "# drop all nodes with coverage less than that dynamic threshold\n",
    "# resample the gaps\n",
    "\n",
    "# advantages, will only consider resampling low coverage kmers relative to the sequence\n",
    "\n",
    "function iterative_drop(graph, record)\n",
    "    sequence = FASTX.sequence(record)\n",
    "    new_description = old_description * \"|\" * relative_likelihood\n",
    "#     k = graph.gprops[:k]\n",
    "    KMER_TYPE = eltype(keys(graph.gprops[:kmer_counts]))\n",
    "    sequence_as_oriented_kmers = sequence_to_oriented_kmers(KMER_TYPE, sequence)\n",
    "    sequential_counts = [graph.gprops[:kmer_counts][BioSequences.canonical(kmer)] for kmer in sequence_as_kmers]\n",
    "    median_count = Statistics.median(sequential_counts)\n",
    "    threshold = rand(1:median_count)\n",
    "    kept = \n",
    "end"
   ]
  },
  {
   "cell_type": "code",
   "execution_count": null,
   "metadata": {},
   "outputs": [],
   "source": [
    "function a_to_b_walk(graph, distance_matrix, current_path)\n",
    "\n",
    "#     alternate_a_to_b = resample_a_to_b_random_walk(graph, a, b)\n",
    "#     alternate_a_to_b = resample_a_to_b_a_star(graph, a, b)\n",
    "    \n",
    "    # accept based on relative frequency\n",
    "    p_current_path = path_probability(current_path)\n",
    "    p_alternate_path = path_probability(alternate_path)\n",
    "    \n",
    "    chosen_path = StatsBase.sample([current_path, alternate_path], StatsBase.Weights([p_current_path, p_alternate_path]))\n",
    "    \n",
    "#     # acceptance based on size differences\n",
    "#     delta_size = abs(length(new_path) - observed_distance)\n",
    "#     percent_difference = delta_size / observed_distance\n",
    "#     accept = rand() > percent_difference\n",
    "#     if accept\n",
    "#         return new_path\n",
    "#     else\n",
    "#         return original_path\n",
    "#     end\n",
    "end"
   ]
  }
 ],
 "metadata": {
  "kernelspec": {
   "display_name": "Julia 1.6.3",
   "language": "julia",
   "name": "julia-1.6"
  },
  "language_info": {
   "file_extension": ".jl",
   "mimetype": "application/julia",
   "name": "julia",
   "version": "1.6.3"
  }
 },
 "nbformat": 4,
 "nbformat_minor": 4
}
