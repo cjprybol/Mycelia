{
 "cells": [
  {
   "cell_type": "markdown",
   "metadata": {},
   "source": [
    "# Resampling paths"
   ]
  },
  {
   "cell_type": "code",
   "execution_count": 1,
   "metadata": {},
   "outputs": [
    {
     "data": {
      "text/plain": [
       "resample_fastxs (generic function with 1 method)"
      ]
     },
     "execution_count": 1,
     "metadata": {},
     "output_type": "execute_result"
    }
   ],
   "source": [
    "function resample_fastxs(graph, fastxs)\n",
    "    distance_matrix = create_distance_matrix(graph)\n",
    "    # ProgressMeter.@showprogress\n",
    "    for fastx in fastxs\n",
    "        resample_fastx(graph, distance_matrix, fastx)\n",
    "    end\n",
    "end"
   ]
  },
  {
   "cell_type": "code",
   "execution_count": null,
   "metadata": {},
   "outputs": [],
   "source": [
    "function resample_fastx(graph, distance_matrix, fastx)\n",
    "    # open file, count # of items in it\n",
    "    # open file again, process using ProgressMeter\n",
    "    is_compressed = occursin(r\"\\.gz$\", fastx)\n",
    "    if is_compressed\n",
    "        new_fastx = replace(fastx, r\"\\.gz$\" => \"\")\n",
    "    else\n",
    "        new_fastx = fastx\n",
    "    end\n",
    "    is_fastq = occursin(r\"\\.(fq|fastq)$\", new_fastx)\n",
    "    is_fasta = occursin(r\"\\.(fa|fasta|fna)$\", new_fastx)\n",
    "    @assert xor(is_fasta, is_fastq)\n",
    "    new_fastx = join(split(new_fastx, '.')[1:end-1], '.')\n",
    "    if is_fastq\n",
    "        new_fastx *= \".fq\"\n",
    "    elseif is_fasta\n",
    "        new_fastx *= \".fna\"\n",
    "    end\n",
    "    if is_compressed\n",
    "        new_fastx *= \".gz\"\n",
    "        io = CodecZLib.GzipCompressorStream(open(new_fastx, \"w\"))\n",
    "    else\n",
    "        io = open(new_fastx, \"w\")\n",
    "    end\n",
    "    fastx_io = is_fastq ? FASTX.FASTQ.Writer(io) : FASTX.FASTA.Writer(io)\n",
    "    for record in fastx_open(fastx)\n",
    "        new_record = resample_sequence(graph, distance_matrix, record)\n",
    "        write(fastx_io, new_record)\n",
    "    end\n",
    "end"
   ]
  },
  {
   "cell_type": "code",
   "execution_count": null,
   "metadata": {},
   "outputs": [],
   "source": [
    "function a_to_b_walk(graph, a, b)\n",
    "#     https://www.homepages.ucl.ac.uk/~ucahmto/math/2020/05/30/bidirectional-dijkstra.html\n",
    "    # note this attempts to implement bidirectional dijkstra\n",
    "    \n",
    "    \n",
    "    "
   ]
  }
 ],
 "metadata": {
  "kernelspec": {
   "display_name": "Julia 1.6.3",
   "language": "julia",
   "name": "julia-1.6"
  },
  "language_info": {
   "file_extension": ".jl",
   "mimetype": "application/julia",
   "name": "julia",
   "version": "1.6.3"
  }
 },
 "nbformat": 4,
 "nbformat_minor": 4
}
