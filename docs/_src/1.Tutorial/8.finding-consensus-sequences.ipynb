{
 "cells": [
  {
   "cell_type": "markdown",
   "metadata": {},
   "source": [
    "# Finding consensus sequences"
   ]
  },
  {
   "cell_type": "markdown",
   "metadata": {},
   "source": [
    "TODO: think through this API.\n",
    "\n",
    "Take maximum likelihood walks through the graph\n",
    "\n",
    "Remove nodes as they are traversed by these scaffolds\n",
    "\n",
    "All nodes that are remaining are variants\n",
    "\n",
    "Create fasta file of scaffolds and VCF file of variants"
   ]
  }
 ],
 "metadata": {
  "kernelspec": {
   "display_name": "Julia 1.6.3",
   "language": "julia",
   "name": "julia-1.6"
  },
  "language_info": {
   "file_extension": ".jl",
   "mimetype": "application/julia",
   "name": "julia",
   "version": "1.6.3"
  }
 },
 "nbformat": 4,
 "nbformat_minor": 4
}
