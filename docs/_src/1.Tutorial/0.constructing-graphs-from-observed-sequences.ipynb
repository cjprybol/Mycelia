{
 "cells": [
  {
   "cell_type": "markdown",
   "metadata": {},
   "source": [
    "# Constructing Graphs from Observed Sequences"
   ]
  },
  {
   "cell_type": "markdown",
   "metadata": {},
   "source": [
    "```bash\n",
    "Mycelia assemble --fastx /path/to/reads.fastq --out /path/to/graph.lgz\n",
    "```\n",
    "\n",
    "```\n",
    "required arguments:\n",
    "--fastx => one or more fasta or fastq file(s). Can be gzipped as long as files end in .gz\n",
    "--out => outpath for the genome graph that will be constructed\n",
    "\n",
    "optional arguments:\n",
    "--k => comma-separated list of kmer sizes that will be used. Must all be odd, sorted, unique, and < 64\n",
    "       by default, this will evaluate at all primes where 3 <= prime <= 64\n",
    "--min-coverage => minimum depth of coverage needed for each kmer to be preserved in the graph.\n",
    "                  all kmers with coverage < this value will be re-evaluated by randomly choosing\n",
    "                  a new path around the kmers proportional to the observed relative frequencies.\n",
    "                  Default value = 3.\n",
    "```"
   ]
  }
 ],
 "metadata": {
  "kernelspec": {
   "display_name": "Julia 1.6.3",
   "language": "julia",
   "name": "julia-1.6"
  },
  "language_info": {
   "file_extension": ".jl",
   "mimetype": "application/julia",
   "name": "julia",
   "version": "1.6.3"
  }
 },
 "nbformat": 4,
 "nbformat_minor": 4
}
