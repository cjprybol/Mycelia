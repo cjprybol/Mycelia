{
 "cells": [
  {
   "cell_type": "markdown",
   "metadata": {},
   "source": [
    "# Constructing Graphs From Reference Sequences"
   ]
  },
  {
   "cell_type": "code",
   "execution_count": null,
   "metadata": {},
   "outputs": [],
   "source": [
    "import Mycelia\n",
    "executable = joinpath(pkgdir(Mycelia), \"bin\", \"mycelia.jl\")\n",
    "# run(`/home/jupyter-cjprybol/software/julia-1.6.3/bin/julia $(executable) construct --help`)\n",
    "# run(`julia $(executable) construct --help`)\n",
    "run(`$(executable) construct --help`)"
   ]
  }
 ],
 "metadata": {
  "kernelspec": {
   "display_name": "Julia 1.6.3",
   "language": "julia",
   "name": "julia-1.6"
  },
  "language_info": {
   "file_extension": ".jl",
   "mimetype": "application/julia",
   "name": "julia",
   "version": "1.6.3"
  }
 },
 "nbformat": 4,
 "nbformat_minor": 4
}
