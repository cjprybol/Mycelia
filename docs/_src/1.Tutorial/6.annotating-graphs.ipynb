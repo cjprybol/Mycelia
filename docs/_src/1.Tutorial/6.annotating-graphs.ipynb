{
 "cells": [
  {
   "cell_type": "markdown",
   "metadata": {},
   "source": [
    "# Annotating Graphs"
   ]
  },
  {
   "cell_type": "markdown",
   "metadata": {},
   "source": [
    "TODO: think through this API\n",
    "\n",
    "Ideally, we only accept one input format.\n",
    "\n",
    "My preference is .BED or .GFF3\n",
    "\n",
    "Confirm that we can convert from .genbank and .gtf into .GFF3 or .BED "
   ]
  }
 ],
 "metadata": {
  "kernelspec": {
   "display_name": "Julia 1.6.3",
   "language": "julia",
   "name": "julia-1.6"
  },
  "language_info": {
   "file_extension": ".jl",
   "mimetype": "application/julia",
   "name": "julia",
   "version": "1.6.3"
  }
 },
 "nbformat": 4,
 "nbformat_minor": 4
}
