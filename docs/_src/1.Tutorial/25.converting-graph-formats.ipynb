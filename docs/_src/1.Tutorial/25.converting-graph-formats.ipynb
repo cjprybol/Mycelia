{
 "cells": [
  {
   "cell_type": "markdown",
   "metadata": {},
   "source": [
    "# Converting Graph Formats"
   ]
  },
  {
   "cell_type": "markdown",
   "metadata": {},
   "source": [
    "```bash\n",
    "Mycelia convert --in /path/to/graph.format --out /path/to/graph.new-format\n",
    "```\n",
    "\n",
    "```\n",
    "required arguments:\n",
    "--in => a Mycelia-compatible graph\n",
    "--out => outpath for the reformatted genome graph that will be constructed\n",
    "\n",
    "optional arguments:\n",
    "--outformat => graphml (default), neo4j, gfa\n",
    "               note that outformat is required, but can be inferred if standard file extensions are used.\n",
    "--username => neo4j username (required if outformat is neo4j)\n",
    "--password => neo4j password (required if outformat is neo4j)\n",
    "```"
   ]
  }
 ],
 "metadata": {
  "kernelspec": {
   "display_name": "Julia 1.6.3",
   "language": "julia",
   "name": "julia-1.6"
  },
  "language_info": {
   "file_extension": ".jl",
   "mimetype": "application/julia",
   "name": "julia",
   "version": "1.6.3"
  }
 },
 "nbformat": 4,
 "nbformat_minor": 4
}
