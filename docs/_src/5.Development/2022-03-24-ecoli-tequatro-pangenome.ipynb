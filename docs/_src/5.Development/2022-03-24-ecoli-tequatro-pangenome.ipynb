{
 "cells": [
  {
   "cell_type": "markdown",
   "metadata": {},
   "source": [
    "# Kmer Graph"
   ]
  },
  {
   "cell_type": "code",
   "execution_count": null,
   "metadata": {},
   "outputs": [],
   "source": [
    "# TODO\n",
    "# properly set types for parameters"
   ]
  },
  {
   "cell_type": "code",
   "execution_count": 1,
   "metadata": {},
   "outputs": [
    {
     "data": {
      "text/plain": [
       "2-element Vector{Union{Nothing, SubString{String}}}:\n",
       " \"2022-03-24\"\n",
       " \"ecoli-tequatro-pangenome\""
      ]
     },
     "execution_count": 1,
     "metadata": {},
     "output_type": "execute_result"
    }
   ],
   "source": [
    "DATE_TASK = \"2022-03-24-ecoli-tequatro-pangenome\"\n",
    "DIR = mkpath(\"$(homedir())/workspace/$DATE_TASK\")\n",
    "cd(DIR)\n",
    "DATE, TASK = match(r\"^(\\d{4}-\\d{2}-\\d{2})-(.*)$\", DATE_TASK).captures"
   ]
  },
  {
   "cell_type": "code",
   "execution_count": 2,
   "metadata": {},
   "outputs": [
    {
     "name": "stderr",
     "output_type": "stream",
     "text": [
      "\u001b[32m\u001b[1m    Updating\u001b[22m\u001b[39m registry at `~/.julia/registries/General`\n",
      "\u001b[32m\u001b[1m    Updating\u001b[22m\u001b[39m git-repo `https://github.com/cjprybol/Mycelia.git#master`\n",
      "\u001b[32m\u001b[1m   Installed\u001b[22m\u001b[39m DualNumbers ───── v0.6.8\n",
      "\u001b[32m\u001b[1m   Installed\u001b[22m\u001b[39m RecipesPipeline ─ v0.5.2\n",
      "\u001b[32m\u001b[1m   Installed\u001b[22m\u001b[39m PooledArrays ──── v1.4.1\n",
      "\u001b[32m\u001b[1m   Installed\u001b[22m\u001b[39m Plots ─────────── v1.27.2\n",
      "\u001b[32m\u001b[1m    Updating\u001b[22m\u001b[39m `~/git/Mycelia/docs/Project.toml`\n",
      " \u001b[90m [453d265d] \u001b[39m\u001b[93m~ Mycelia v0.1.0 `https://github.com/cjprybol/Mycelia.git#master#master` ⇒ v0.1.0 `https://github.com/cjprybol/Mycelia.git#master#master`\u001b[39m\n",
      " \u001b[90m [91a5bcdd] \u001b[39m\u001b[93m↑ Plots v1.27.1 ⇒ v1.27.2\u001b[39m\n",
      "\u001b[32m\u001b[1m    Updating\u001b[22m\u001b[39m `~/git/Mycelia/docs/Manifest.toml`\n",
      " \u001b[90m [fa6b7ba4] \u001b[39m\u001b[93m↑ DualNumbers v0.6.7 ⇒ v0.6.8\u001b[39m\n",
      " \u001b[90m [453d265d] \u001b[39m\u001b[93m~ Mycelia v0.1.0 `https://github.com/cjprybol/Mycelia.git#master#master` ⇒ v0.1.0 `https://github.com/cjprybol/Mycelia.git#master#master`\u001b[39m\n",
      " \u001b[90m [91a5bcdd] \u001b[39m\u001b[93m↑ Plots v1.27.1 ⇒ v1.27.2\u001b[39m\n",
      " \u001b[90m [2dfb63ee] \u001b[39m\u001b[93m↑ PooledArrays v1.4.0 ⇒ v1.4.1\u001b[39m\n",
      " \u001b[90m [01d81517] \u001b[39m\u001b[93m↑ RecipesPipeline v0.5.1 ⇒ v0.5.2\u001b[39m\n",
      "\u001b[32m\u001b[1mPrecompiling\u001b[22m\u001b[39m project...\n",
      "\u001b[32m  ✓ \u001b[39m\u001b[90mPooledArrays\u001b[39m\n",
      "\u001b[32m  ✓ \u001b[39m\u001b[90mDualNumbers\u001b[39m\n",
      "\u001b[32m  ✓ \u001b[39m\u001b[90mHypergeometricFunctions\u001b[39m\n",
      "\u001b[32m  ✓ \u001b[39m\u001b[90mRecipesPipeline\u001b[39m\n",
      "\u001b[32m  ✓ \u001b[39m\u001b[90mStatsFuns\u001b[39m\n",
      "\u001b[32m  ✓ \u001b[39m\u001b[90mCSV\u001b[39m\n",
      "\u001b[32m  ✓ \u001b[39m\u001b[90mStatsModels\u001b[39m\n",
      "\u001b[32m  ✓ \u001b[39m\u001b[90mDistributions\u001b[39m\n",
      "\u001b[32m  ✓ \u001b[39m\u001b[90mImpute\u001b[39m\n",
      "\u001b[32m  ✓ \u001b[39m\u001b[90mGLM\u001b[39m\n",
      "\u001b[32m  ✓ \u001b[39mLsqFit\n",
      "\u001b[32m  ✓ \u001b[39m\u001b[90mKernelDensity\u001b[39m\n",
      "\u001b[32m  ✓ \u001b[39mDataFrames\n",
      "\u001b[32m  ✓ \u001b[39muCSV\n",
      "\u001b[32m  ✓ \u001b[39mGenomicAnnotations\n",
      "\u001b[32m  ✓ \u001b[39mBioFetch\n",
      "\u001b[32m  ✓ \u001b[39mPlots\n",
      "\u001b[32m  ✓ \u001b[39mStatsPlots\n",
      "\u001b[32m  ✓ \u001b[39mMycelia\n",
      "  19 dependencies successfully precompiled in 112 seconds (237 already precompiled, 6 skipped during auto due to previous errors)\n"
     ]
    }
   ],
   "source": [
    "import Pkg\n",
    "Pkg.update()\n",
    "pkgs = [\n",
    "\"JSON\",\n",
    "\"HTTP\",\n",
    "\"Dates\",\n",
    "\"uCSV\",\n",
    "\"DelimitedFiles\",\n",
    "\"DataFrames\",\n",
    "\"ProgressMeter\",\n",
    "\"BioSequences\",\n",
    "\"FASTX\",\n",
    "\"Distances\",\n",
    "\"StatsPlots\",\n",
    "\"StatsBase\",\n",
    "\"Statistics\",\n",
    "\"MultivariateStats\",\n",
    "\"Random\",\n",
    "\"Primes\",\n",
    "\"SparseArrays\",\n",
    "\"SHA\",\n",
    "\"GenomicAnnotations\",\n",
    "\"Combinatorics\",\n",
    "\"OrderedCollections\",\n",
    "\"Downloads\",\n",
    "\"Clustering\",\n",
    "\"Revise\",\n",
    "\"Mmap\",\n",
    "\"Graphs\",\n",
    "\"MetaGraphs\",\n",
    "\"FileIO\"\n",
    "]\n",
    "\n",
    "for pkg in pkgs\n",
    "    try\n",
    "        eval(Meta.parse(\"import $pkg\"))\n",
    "    catch\n",
    "        Pkg.add(pkg)\n",
    "        eval(Meta.parse(\"import $pkg\"))\n",
    "    end\n",
    "end\n",
    "\n",
    "# works but can't update locally, need to push and restart kernel to activate changes\n",
    "# \"https://github.com/cjprybol/Mycelia.git#master\",\n",
    "# didn't work\n",
    "# \"$(homedir())/git/Mycelia#master\",\n",
    "pkg_path = \"$(homedir())/git/Mycelia\"\n",
    "try\n",
    "    eval(Meta.parse(\"import $(basename(pkg_path))\"))\n",
    "catch\n",
    "    # Pkg.add(url=pkg)\n",
    "    Pkg.develop(path=pkg_path)\n",
    "    # pkg = replace(basename(pkg), \".git#master\" => \"\")\n",
    "    # pkg = replace(basename(pkg), \"#master\" => \"\")\n",
    "    eval(Meta.parse(\"import $(basename(pkg_path))\"))\n",
    "end"
   ]
  },
  {
   "cell_type": "code",
   "execution_count": 13,
   "metadata": {},
   "outputs": [
    {
     "data": {
      "text/plain": [
       "assess_edgemer (generic function with 1 method)"
      ]
     },
     "execution_count": 13,
     "metadata": {},
     "output_type": "execute_result"
    }
   ],
   "source": [
    "function assess_edgemer(edgemer)\n",
    "    k = length(edgemer)-1\n",
    "    kmer_type = BioSequences.BigDNAMer{k}\n",
    "    src = kmer_type(edgemer[i] for i in 1:k)\n",
    "    dst = kmer_type(edgemer[i] for i in 2:k+1)\n",
    "    canonical_src = BioSequences.canonical(src)\n",
    "    canonical_dst = BioSequences.canonical(dst)\n",
    "    src_is_canonical = src == canonical_src\n",
    "    dst_is_canonical = dst == canonical_dst\n",
    "    # @show edgemer\n",
    "    # @show src\n",
    "    # @show canonical_src\n",
    "    # @show src_is_canonical\n",
    "    # @show dst\n",
    "    # @show canonical_dst\n",
    "    # @show dst_is_canonical\n",
    "    return src, canonical_src, src_is_canonical, dst, canonical_dst, dst_is_canonical\n",
    "end"
   ]
  },
  {
   "cell_type": "code",
   "execution_count": 14,
   "metadata": {},
   "outputs": [
    {
     "data": {
      "text/plain": [
       "fastx_to_metagraph (generic function with 1 method)"
      ]
     },
     "execution_count": 14,
     "metadata": {},
     "output_type": "execute_result"
    }
   ],
   "source": [
    "# TODO break me out into indivual steps of additon at each level\n",
    "function fastx_to_metagraph(k, entity_file_map)\n",
    "    @assert isodd(k) \"k must be odd to avoid the possibility of kmers being reverse complements of themselves\"\n",
    "    @assert 3 <= k <= 63 \"k must be at least 3 to allow for kmer overlaps and less than 64 to be compatible with type limits\"\n",
    "    kmer_type = BioSequences.BigDNAMer{k}\n",
    "    edgemer_type = BioSequences.BigDNAMer{k+1}\n",
    "    edge_orientations = Symbol.([\n",
    "        \"true_true\",\n",
    "        \"true_false\",\n",
    "        \"false_true\",\n",
    "        \"false_false\"\n",
    "    ])\n",
    "    canonical_kmers = Set{kmer_type}()\n",
    "    graph = MetaGraphs.MetaDiGraph()\n",
    "    MetaGraphs.set_indexing_prop!(graph, :identifier)\n",
    "    for entity in keys(entity_file_map)\n",
    "        # f_type = \"Genome\"\n",
    "        fastx = entity_file_map[entity][\"genome\"]\n",
    "        Graphs.add_vertex!(graph)\n",
    "        fasta_node = Graphs.nv(graph)\n",
    "        # node types are camel case\n",
    "        MetaGraphs.set_prop!(graph, fasta_node, :TYPE, \"Fasta\")\n",
    "        # node and edge properties are lowercase\n",
    "        # add entity identifier as a property that can be queried on\n",
    "        MetaGraphs.set_prop!(graph, fasta_node, :path, fastx)\n",
    "        MetaGraphs.set_prop!(graph, fasta_node, :identifier, entity)\n",
    "        for record in Mycelia.open_fastx(fastx)\n",
    "            Graphs.add_vertex!(graph)\n",
    "            record_node = Graphs.nv(graph)\n",
    "            \n",
    "            MetaGraphs.set_prop!(graph, record_node, :TYPE, \"FastaRecord\")\n",
    "            MetaGraphs.set_prop!(graph, record_node, :identifier, FASTX.identifier(record))\n",
    "            MetaGraphs.set_prop!(graph, record_node, :description, FASTX.description(record))\n",
    "            MetaGraphs.set_prop!(graph, record_node, :sequence, FASTX.sequence(record))\n",
    "            if typeof(FASTX.sequence(record)) == BioSequences.LongDNASeq\n",
    "                sequence_type = \"dna\"\n",
    "            elseif typeof(FASTX.sequence(record)) == BioSequences.LongAminoAcidSeq\n",
    "                sequence_type = \"aa\"\n",
    "            elseif typeof(FASTX.sequence(record)) == BioSequences.LongRNASeq\n",
    "                sequence_type = \"rna\"\n",
    "            end\n",
    "            MetaGraphs.set_prop!(graph, record_node, :sequence_type, sequence_type)\n",
    "            edge = Graphs.Edge(fasta_node, record_node)\n",
    "            Graphs.add_edge!(graph, edge)\n",
    "            # edge types are all caps\n",
    "            MetaGraphs.set_prop!(graph, edge, :TYPE, \"CONTAINS_RECORD\")\n",
    "            # for kmer in collect(BioSequences.each(kmer_type, FASTX.sequence(record)))[1:2^3]\n",
    "            for kmer in BioSequences.each(kmer_type, FASTX.sequence(record))\n",
    "                canonical_kmer = BioSequences.canonical(kmer)\n",
    "                if canonical_kmer in canonical_kmers\n",
    "                    kmer_node = graph[canonical_kmer, :identifier]\n",
    "                else\n",
    "                    push!(canonical_kmers, canonical_kmer)\n",
    "                    Graphs.add_vertex!(graph)\n",
    "                    kmer_node = Graphs.nv(graph)\n",
    "                    MetaGraphs.set_prop!(graph, kmer_node, :TYPE, \"Kmer\")\n",
    "                    MetaGraphs.set_prop!(graph, kmer_node, :identifier, BioSequences.canonical(kmer))\n",
    "                    MetaGraphs.set_prop!(graph, kmer_node, :sequence_type, sequence_type)\n",
    "                end\n",
    "                edge = Graphs.Edge(record_node, kmer_node)\n",
    "                if !Graphs.has_edge(graph, edge)\n",
    "                    Graphs.add_edge!(graph, edge)\n",
    "                    MetaGraphs.set_prop!(graph, edge, :TYPE, \"CONTAINS_KMER\")\n",
    "                    # can't use vectors as properties :(\n",
    "                    MetaGraphs.set_prop!(graph, edge, :count, 0)\n",
    "                    MetaGraphs.set_prop!(graph, edge, Symbol(true), 0)\n",
    "                    MetaGraphs.set_prop!(graph, edge, Symbol(false), 0)\n",
    "                end\n",
    "                is_canonical = Symbol(BioSequences.iscanonical(kmer.fw))\n",
    "                current_count = MetaGraphs.get_prop(graph, edge, is_canonical) + 1\n",
    "                MetaGraphs.set_prop!(graph, edge, is_canonical, current_count)\n",
    "\n",
    "                current_count = MetaGraphs.get_prop(graph, edge, Symbol(true)) + MetaGraphs.get_prop(graph, edge, Symbol(false))\n",
    "                MetaGraphs.set_prop!(graph, edge, :count, current_count)                \n",
    "            end\n",
    "            # for edgemer in collect(BioSequences.each(edgemer_type, FASTX.sequence(record)))[1:2^3-1]\n",
    "            for edgemer in BioSequences.each(edgemer_type, FASTX.sequence(record))\n",
    "                src, canonical_src, src_is_canonical, dst, canonical_dst, dst_is_canonical = assess_edgemer(edgemer.fw)\n",
    "                if canonical_dst < canonical_src\n",
    "                    src, canonical_src, src_is_canonical, dst, canonical_dst, dst_is_canonical = assess_edgemer(edgemer.bw)\n",
    "                end\n",
    "                src_index, dst_index = graph[canonical_src, :identifier], graph[canonical_dst, :identifier]\n",
    "                edge = Graphs.Edge(src_index, dst_index)\n",
    "                if !Graphs.has_edge(graph, edge)\n",
    "                    Graphs.add_edge!(graph, edge)\n",
    "                    MetaGraphs.set_prop!(graph, edge, :TYPE, \"CONNECTS_TO\")\n",
    "                    for o in edge_orientations\n",
    "                        MetaGraphs.set_prop!(graph, edge, o, 0)\n",
    "                    end\n",
    "                    MetaGraphs.set_prop!(graph, edge, :count, 0)\n",
    "                end\n",
    "                orientations = Symbol(\"$(src_is_canonical)_$(dst_is_canonical)\")\n",
    "                current_count = MetaGraphs.get_prop(graph, edge, orientations) + 1\n",
    "                MetaGraphs.set_prop!(graph, edge, orientations, current_count)\n",
    "                \n",
    "                current_count = sum(MetaGraphs.get_prop(graph, edge, o) for o in edge_orientations)\n",
    "                MetaGraphs.set_prop!(graph, edge, :count, current_count) \n",
    "            end\n",
    "        end\n",
    "    end\n",
    "    return graph\n",
    "end"
   ]
  },
  {
   "cell_type": "code",
   "execution_count": 15,
   "metadata": {},
   "outputs": [
    {
     "data": {
      "text/plain": [
       "upload_node_type_over_url (generic function with 2 methods)"
      ]
     },
     "execution_count": 15,
     "metadata": {},
     "output_type": "execute_result"
    }
   ],
   "source": [
    "function upload_node_type_over_url(node_type, graph, ADDRESS, USERNAME, PASSWORD, DATABASE, window_size=100)\n",
    "    node_type_params = Set{Symbol}()\n",
    "    vertices_of_type = [v for v in Graphs.vertices(graph) if (graph.vprops[v][:TYPE] == node_type)]\n",
    "    node_type_params = filter(param -> param != :TYPE, reduce(union, keys(graph.vprops[v]) for v in vertices_of_type))\n",
    "    \n",
    "    V = length(vertices_of_type)\n",
    "    windows = [i:min(i+window_size-1,V) for i in 1:window_size:V]\n",
    "    \n",
    "    ProgressMeter.@showprogress for window in windows\n",
    "        cmds = []\n",
    "        for (i, v) in enumerate(vertices_of_type[window])\n",
    "            params = [\"$(string(param)):'$(MetaGraphs.get_prop(graph, v, param))'\" for param in node_type_params]\n",
    "            joint_params = join(params, \", \")\n",
    "            cmd = \"MERGE (node$(i):$(node_type) {$(joint_params)})\"\n",
    "            push!(cmds, cmd)\n",
    "        end\n",
    "        cmd = join(cmds, ' ')\n",
    "        cypher_cmd = Mycelia.cypher(address = ADDRESS, username = USERNAME, password = PASSWORD, database = DATABASE, cmd = cmd)\n",
    "        run(cypher_cmd)\n",
    "    end    \n",
    "end"
   ]
  },
  {
   "cell_type": "code",
   "execution_count": 16,
   "metadata": {},
   "outputs": [
    {
     "data": {
      "text/plain": [
       "upload_edge_type_over_url (generic function with 1 method)"
      ]
     },
     "execution_count": 16,
     "metadata": {},
     "output_type": "execute_result"
    }
   ],
   "source": [
    "function upload_edge_type_over_url(src_type, dst_type, edge_type, graph, ADDRESS, USERNAME, PASSWORD, DATABASE; window_size=100)    \n",
    "    src_nodes = filter(v -> MetaGraphs.get_prop(graph, v, :TYPE) == src_type, Graphs.vertices(graph))\n",
    "    dst_nodes = filter(v -> MetaGraphs.get_prop(graph, v, :TYPE) == dst_type, Graphs.vertices(graph))\n",
    "    edges_to_upload = []\n",
    "    for src_node in src_nodes\n",
    "        outneighbors = Graphs.outneighbors(graph, src_node)\n",
    "        outneighbors = filter(outneighbor -> outneighbor in dst_nodes, outneighbors)\n",
    "        for outneighbor in outneighbors\n",
    "            this_edge = Graphs.Edge(src_node, outneighbor)\n",
    "            @assert MetaGraphs.get_prop(graph, this_edge, :TYPE) == edge_type\n",
    "            push!(edges_to_upload, this_edge)\n",
    "        end\n",
    "    end\n",
    "    edge_type_params = filter(param -> param != :TYPE, reduce(union, keys(graph.eprops[e]) for e in edges_to_upload))\n",
    "    \n",
    "    N = length(edges_to_upload)\n",
    "    windows = [i:min(i+window_size-1,N) for i in 1:window_size:N]\n",
    "    \n",
    "    ProgressMeter.@showprogress for window in windows\n",
    "        cmds = []\n",
    "        for (i, e) in enumerate(edges_to_upload[window])\n",
    "            params = [\"$(string(param)):'$(MetaGraphs.get_prop(graph, e, param))'\" for param in edge_type_params]\n",
    "            joint_params = join(params, \", \")\n",
    "            node_cmds = \n",
    "            \"\"\"\n",
    "            MERGE (src$(i):$(MetaGraphs.props(graph, e.src)[:TYPE]) {identifier: '$(MetaGraphs.props(graph, e.src)[:identifier])'})\n",
    "            MERGE (dst$(i):$(MetaGraphs.props(graph, e.dst)[:TYPE]) {identifier: '$(MetaGraphs.props(graph, e.dst)[:identifier])'})\n",
    "            \"\"\"\n",
    "            # match_cmds = \n",
    "            # \"\"\"\n",
    "            # MATCH \n",
    "            #     (src$(i):$(MetaGraphs.props(graph, e.src)[:TYPE]) {identifier: '$(MetaGraphs.props(graph, e.src)[:identifier])'}),\n",
    "            #     (dst$(i):$(MetaGraphs.props(graph, e.dst)[:TYPE]) {identifier: '$(MetaGraphs.props(graph, e.dst)[:identifier])'})\n",
    "            # \"\"\"\n",
    "            if !isempty(joint_params)\n",
    "                relationship_cmd = \"MERGE (src$(i))-[r$(i):$(MetaGraphs.props(graph, e)[:TYPE]) {$(joint_params)}]->(dst$(i))\"\n",
    "            else\n",
    "                relationship_cmd = \"MERGE (src$(i))-[r$(i):$(MetaGraphs.props(graph, e)[:TYPE])]->(dst$(i))\"\n",
    "            end\n",
    "            cmd = node_cmds * relationship_cmd\n",
    "            cmd = replace(cmd, '\\n' => ' ')\n",
    "            push!(cmds, cmd)\n",
    "        end\n",
    "        cmd = join(cmds, ' ')\n",
    "        cypher_cmd = Mycelia.cypher(address = ADDRESS, username = USERNAME, password = PASSWORD, database = DATABASE, cmd = cmd)\n",
    "        run(cypher_cmd)\n",
    "        # println(cypher_cmd)\n",
    "    end    \n",
    "end"
   ]
  },
  {
   "cell_type": "code",
   "execution_count": 17,
   "metadata": {},
   "outputs": [
    {
     "data": {
      "text/plain": [
       "\"191a822b\""
      ]
     },
     "execution_count": 17,
     "metadata": {},
     "output_type": "execute_result"
    }
   ],
   "source": [
    "# https://www.ncbi.nlm.nih.gov/Taxonomy/Browser/wwwtax.cgi?&id=$(tax_id)\n",
    "# https://www.ncbi.nlm.nih.gov/Taxonomy/Browser/wwwtax.cgi?lvl=0&amp;id=2733124\n",
    "# root_tax_id = 2733124\n",
    "\n",
    "root_tax_id = 10663\n",
    "host = \"Escherichia\"\n",
    "database_id = \"191a822b\""
   ]
  },
  {
   "cell_type": "code",
   "execution_count": 4,
   "metadata": {},
   "outputs": [
    {
     "name": "stdout",
     "output_type": "stream",
     "text": [
      "MATCH (n)<-[*]-(n2) WHERE n.tax_id IS NOT NULL AND n.tax_id = \"10663\" RETURN DISTINCT n2.tax_id AS tax_id\n"
     ]
    },
    {
     "data": {
      "text/plain": [
       "389-element Vector{Int64}:\n",
       " 2844206\n",
       " 2724310\n",
       " 2844259\n",
       " 2697536\n",
       " 2844181\n",
       " 1837867\n",
       " 2844208\n",
       " 2508180\n",
       " 2844129\n",
       " 1651198\n",
       " 2844214\n",
       " 2184699\n",
       " 2844202\n",
       "       ⋮\n",
       " 2656520\n",
       " 2846199\n",
       " 2591063\n",
       " 2846680\n",
       " 2321390\n",
       " 2846682\n",
       " 2052930\n",
       " 2846681\n",
       " 2691085\n",
       " 2844196\n",
       " 2081604\n",
       "   10663"
      ]
     },
     "execution_count": 4,
     "metadata": {},
     "output_type": "execute_result"
    }
   ],
   "source": [
    "child_tax_ids = vcat(Mycelia.taxonomic_id_to_children(root_tax_id), root_tax_id)"
   ]
  },
  {
   "cell_type": "code",
   "execution_count": 5,
   "metadata": {},
   "outputs": [],
   "source": [
    "# TODO\n",
    "# here is where we should apply a filter where host == Escherichia\n",
    "# need to load host information into neo4j taxonomy"
   ]
  },
  {
   "cell_type": "code",
   "execution_count": 6,
   "metadata": {},
   "outputs": [
    {
     "data": {
      "text/html": [
       "<div class=\"data-frame\"><p>1,236,109 rows × 23 columns (omitted printing of 18 columns)</p><table class=\"data-frame\"><thead><tr><th></th><th># assembly_accession</th><th>bioproject</th><th>biosample</th><th>wgs_master</th><th>refseq_category</th></tr><tr><th></th><th title=\"String\">String</th><th title=\"String\">String</th><th title=\"String\">String</th><th title=\"String\">String</th><th title=\"String\">String</th></tr></thead><tbody><tr><th>1</th><td>GCA_000001215.4</td><td>PRJNA13812</td><td>SAMN02803731</td><td></td><td>reference genome</td></tr><tr><th>2</th><td>GCA_000001405.29</td><td>PRJNA31257</td><td></td><td></td><td>reference genome</td></tr><tr><th>3</th><td>GCA_000001515.5</td><td>PRJNA13184</td><td>SAMN02981217</td><td>AACZ00000000.4</td><td>na</td></tr><tr><th>4</th><td>GCA_000001545.3</td><td>PRJNA20869</td><td>SAMN02981238</td><td>ABGA00000000.1</td><td>na</td></tr><tr><th>5</th><td>GCA_000001635.9</td><td>PRJNA20689</td><td></td><td></td><td>reference genome</td></tr><tr><th>6</th><td>GCA_000001735.2</td><td>PRJNA10719</td><td>SAMN03081427</td><td></td><td>reference genome</td></tr><tr><th>7</th><td>GCA_000001765.3</td><td>PRJNA10626</td><td>SAMN00779672</td><td>AADE00000000.2</td><td>na</td></tr><tr><th>8</th><td>GCA_000001895.4</td><td>PRJNA10629</td><td>SAMN02808228</td><td>AABR00000000.7</td><td>na</td></tr><tr><th>9</th><td>GCA_000001905.1</td><td>PRJNA12569</td><td>SAMN02953622</td><td>AAGU00000000.3</td><td>representative genome</td></tr><tr><th>10</th><td>GCA_000001985.1</td><td>PRJNA19555</td><td>SAMN02953685</td><td>ABAR00000000.1</td><td>representative genome</td></tr><tr><th>11</th><td>GCA_000002035.4</td><td>PRJNA11776</td><td>SAMN06930106</td><td></td><td>reference genome</td></tr><tr><th>12</th><td>GCA_000002075.2</td><td>PRJNA13635</td><td>SAMN02953658</td><td>AASC00000000.3</td><td>representative genome</td></tr><tr><th>13</th><td>GCA_000002115.2</td><td>PRJNA1431</td><td>SAMN02981219</td><td>AADD00000000.1</td><td>na</td></tr><tr><th>14</th><td>GCA_000002125.2</td><td>PRJNA19621</td><td>SAMN02981236</td><td>ABBA00000000.1</td><td>na</td></tr><tr><th>15</th><td>GCA_000002135.3</td><td>PRJNA10793</td><td></td><td></td><td>na</td></tr><tr><th>16</th><td>GCA_000002165.1</td><td>PRJNA11785</td><td>SAMN03004379</td><td>AAHY00000000.1</td><td>na</td></tr><tr><th>17</th><td>GCA_000002175.2</td><td>PRJNA16847</td><td>SAMD00067074</td><td></td><td>na</td></tr><tr><th>18</th><td>GCA_000002195.1</td><td>PRJNA10625</td><td>SAMN00002455</td><td>AADG00000000.6</td><td>na</td></tr><tr><th>19</th><td>GCA_000002235.4</td><td>PRJNA10736</td><td>SAMN00829422</td><td>AAGJ00000000.6</td><td>representative genome</td></tr><tr><th>20</th><td>GCA_000002255.2</td><td>PRJNA12537</td><td>SAMN02981228</td><td>AANU00000000.1</td><td>na</td></tr><tr><th>21</th><td>GCA_000002265.1</td><td>PRJNA13999</td><td>SAMN03000701</td><td>AAHX00000000.1</td><td>na</td></tr><tr><th>22</th><td>GCA_000002275.2</td><td>PRJNA12885</td><td>SAMN02953646</td><td>AAPN00000000.1</td><td>na</td></tr><tr><th>23</th><td>GCA_000002285.4</td><td>PRJNA13179</td><td>SAMN02953603</td><td>AAEX00000000.4</td><td>na</td></tr><tr><th>24</th><td>GCA_000002295.1</td><td>PRJNA12561</td><td>SAMN02953611</td><td>AAFR00000000.3</td><td>representative genome</td></tr><tr><th>25</th><td>GCA_000002305.1</td><td>PRJNA18661</td><td>SAMN02953672</td><td>AAWR00000000.2</td><td>na</td></tr><tr><th>26</th><td>GCA_000002315.5</td><td>PRJNA13342</td><td>SAMN02981218</td><td>AADN00000000.5</td><td>na</td></tr><tr><th>27</th><td>GCA_000002325.2</td><td>PRJNA13660</td><td>SAMN02902141</td><td>AAZX00000000.1</td><td>na</td></tr><tr><th>28</th><td>GCA_000002335.3</td><td>PRJNA12540</td><td>SAMN02953634</td><td>AAJJ00000000.2</td><td>representative genome</td></tr><tr><th>29</th><td>GCA_000002415.2</td><td>PRJNA150</td><td>SAMN02953638</td><td>AAKM00000000.1</td><td>representative genome</td></tr><tr><th>30</th><td>GCA_000002425.2</td><td>PRJNA13064</td><td>SAMN00120126</td><td>ABEU00000000.2</td><td>representative genome</td></tr><tr><th>&vellip;</th><td>&vellip;</td><td>&vellip;</td><td>&vellip;</td><td>&vellip;</td><td>&vellip;</td></tr></tbody></table></div>"
      ],
      "text/latex": [
       "\\begin{tabular}{r|cccccc}\n",
       "\t& \\# assembly\\_accession & bioproject & biosample & wgs\\_master & refseq\\_category & \\\\\n",
       "\t\\hline\n",
       "\t& String & String & String & String & String & \\\\\n",
       "\t\\hline\n",
       "\t1 & GCA\\_000001215.4 & PRJNA13812 & SAMN02803731 &  & reference genome & $\\dots$ \\\\\n",
       "\t2 & GCA\\_000001405.29 & PRJNA31257 &  &  & reference genome & $\\dots$ \\\\\n",
       "\t3 & GCA\\_000001515.5 & PRJNA13184 & SAMN02981217 & AACZ00000000.4 & na & $\\dots$ \\\\\n",
       "\t4 & GCA\\_000001545.3 & PRJNA20869 & SAMN02981238 & ABGA00000000.1 & na & $\\dots$ \\\\\n",
       "\t5 & GCA\\_000001635.9 & PRJNA20689 &  &  & reference genome & $\\dots$ \\\\\n",
       "\t6 & GCA\\_000001735.2 & PRJNA10719 & SAMN03081427 &  & reference genome & $\\dots$ \\\\\n",
       "\t7 & GCA\\_000001765.3 & PRJNA10626 & SAMN00779672 & AADE00000000.2 & na & $\\dots$ \\\\\n",
       "\t8 & GCA\\_000001895.4 & PRJNA10629 & SAMN02808228 & AABR00000000.7 & na & $\\dots$ \\\\\n",
       "\t9 & GCA\\_000001905.1 & PRJNA12569 & SAMN02953622 & AAGU00000000.3 & representative genome & $\\dots$ \\\\\n",
       "\t10 & GCA\\_000001985.1 & PRJNA19555 & SAMN02953685 & ABAR00000000.1 & representative genome & $\\dots$ \\\\\n",
       "\t11 & GCA\\_000002035.4 & PRJNA11776 & SAMN06930106 &  & reference genome & $\\dots$ \\\\\n",
       "\t12 & GCA\\_000002075.2 & PRJNA13635 & SAMN02953658 & AASC00000000.3 & representative genome & $\\dots$ \\\\\n",
       "\t13 & GCA\\_000002115.2 & PRJNA1431 & SAMN02981219 & AADD00000000.1 & na & $\\dots$ \\\\\n",
       "\t14 & GCA\\_000002125.2 & PRJNA19621 & SAMN02981236 & ABBA00000000.1 & na & $\\dots$ \\\\\n",
       "\t15 & GCA\\_000002135.3 & PRJNA10793 &  &  & na & $\\dots$ \\\\\n",
       "\t16 & GCA\\_000002165.1 & PRJNA11785 & SAMN03004379 & AAHY00000000.1 & na & $\\dots$ \\\\\n",
       "\t17 & GCA\\_000002175.2 & PRJNA16847 & SAMD00067074 &  & na & $\\dots$ \\\\\n",
       "\t18 & GCA\\_000002195.1 & PRJNA10625 & SAMN00002455 & AADG00000000.6 & na & $\\dots$ \\\\\n",
       "\t19 & GCA\\_000002235.4 & PRJNA10736 & SAMN00829422 & AAGJ00000000.6 & representative genome & $\\dots$ \\\\\n",
       "\t20 & GCA\\_000002255.2 & PRJNA12537 & SAMN02981228 & AANU00000000.1 & na & $\\dots$ \\\\\n",
       "\t21 & GCA\\_000002265.1 & PRJNA13999 & SAMN03000701 & AAHX00000000.1 & na & $\\dots$ \\\\\n",
       "\t22 & GCA\\_000002275.2 & PRJNA12885 & SAMN02953646 & AAPN00000000.1 & na & $\\dots$ \\\\\n",
       "\t23 & GCA\\_000002285.4 & PRJNA13179 & SAMN02953603 & AAEX00000000.4 & na & $\\dots$ \\\\\n",
       "\t24 & GCA\\_000002295.1 & PRJNA12561 & SAMN02953611 & AAFR00000000.3 & representative genome & $\\dots$ \\\\\n",
       "\t25 & GCA\\_000002305.1 & PRJNA18661 & SAMN02953672 & AAWR00000000.2 & na & $\\dots$ \\\\\n",
       "\t26 & GCA\\_000002315.5 & PRJNA13342 & SAMN02981218 & AADN00000000.5 & na & $\\dots$ \\\\\n",
       "\t27 & GCA\\_000002325.2 & PRJNA13660 & SAMN02902141 & AAZX00000000.1 & na & $\\dots$ \\\\\n",
       "\t28 & GCA\\_000002335.3 & PRJNA12540 & SAMN02953634 & AAJJ00000000.2 & representative genome & $\\dots$ \\\\\n",
       "\t29 & GCA\\_000002415.2 & PRJNA150 & SAMN02953638 & AAKM00000000.1 & representative genome & $\\dots$ \\\\\n",
       "\t30 & GCA\\_000002425.2 & PRJNA13064 & SAMN00120126 & ABEU00000000.2 & representative genome & $\\dots$ \\\\\n",
       "\t$\\dots$ & $\\dots$ & $\\dots$ & $\\dots$ & $\\dots$ & $\\dots$ &  \\\\\n",
       "\\end{tabular}\n"
      ],
      "text/plain": [
       "\u001b[1m1236109×23 DataFrame\u001b[0m\n",
       "\u001b[1m     Row \u001b[0m│\u001b[1m # assembly_accession \u001b[0m\u001b[1m bioproject \u001b[0m\u001b[1m biosample    \u001b[0m\u001b[1m wgs_master        \u001b[0m\u001b[1m \u001b[0m ⋯\n",
       "\u001b[1m         \u001b[0m│\u001b[90m String               \u001b[0m\u001b[90m String     \u001b[0m\u001b[90m String       \u001b[0m\u001b[90m String            \u001b[0m\u001b[90m \u001b[0m ⋯\n",
       "─────────┼──────────────────────────────────────────────────────────────────────\n",
       "       1 │ GCA_000001215.4       PRJNA13812  SAMN02803731                      ⋯\n",
       "       2 │ GCA_000001405.29      PRJNA31257\n",
       "       3 │ GCA_000001515.5       PRJNA13184  SAMN02981217  AACZ00000000.4\n",
       "       4 │ GCA_000001545.3       PRJNA20869  SAMN02981238  ABGA00000000.1\n",
       "       5 │ GCA_000001635.9       PRJNA20689                                    ⋯\n",
       "       6 │ GCA_000001735.2       PRJNA10719  SAMN03081427\n",
       "       7 │ GCA_000001765.3       PRJNA10626  SAMN00779672  AADE00000000.2\n",
       "       8 │ GCA_000001895.4       PRJNA10629  SAMN02808228  AABR00000000.7\n",
       "       9 │ GCA_000001905.1       PRJNA12569  SAMN02953622  AAGU00000000.3      ⋯\n",
       "      10 │ GCA_000001985.1       PRJNA19555  SAMN02953685  ABAR00000000.1\n",
       "      11 │ GCA_000002035.4       PRJNA11776  SAMN06930106\n",
       "    ⋮    │          ⋮                ⋮            ⋮                ⋮           ⋱\n",
       " 1236100 │ GCA_932294405.1       PRJEB51289  SAMEA8603194  CAKOAQ000000000.1\n",
       " 1236101 │ GCA_932294425.1       PRJEB51282  SAMEA9089039  CAKOAP000000000.1   ⋯\n",
       " 1236102 │ GCA_932301435.1       PRJEB51286  SAMEA9359455  CAKOAR000000000.1\n",
       " 1236103 │ GCA_932305915.1       PRJEB51287  SAMEA9359455  CAKOAS000000000.1\n",
       " 1236104 │ GCA_932525835.1       PRJEB51384  SAMEA7520514  CAKOAV000000000.1\n",
       " 1236105 │ GCA_932526345.1       PRJEB51394  SAMEA8603187  CAKOAY000000000.1   ⋯\n",
       " 1236106 │ GCA_932526455.1       PRJEB51386  SAMEA7701498  CAKOBD000000000.1\n",
       " 1236107 │ GCA_932527245.1       PRJEB51376  SAMEA8563695  CAKOBN000000000.1\n",
       " 1236108 │ GCA_932527255.1       PRJEB51387  SAMEA7746593  CAKOBP000000000.1\n",
       " 1236109 │ GCA_932527285.1       PRJEB51396  SAMEA7701534  CAKOBM000000000.1   ⋯\n",
       "\u001b[36m                                             19 columns and 1236088 rows omitted\u001b[0m"
      ]
     },
     "execution_count": 6,
     "metadata": {},
     "output_type": "execute_result"
    }
   ],
   "source": [
    "# refseq_metadata = Mycelia.load_refseq_metadata()\n",
    "ncbi_metadata = Mycelia.load_genbank_metadata()"
   ]
  },
  {
   "cell_type": "code",
   "execution_count": 7,
   "metadata": {},
   "outputs": [
    {
     "name": "stdout",
     "output_type": "stream",
     "text": [
      "\u001b[1m1×23 DataFrame\u001b[0m\n",
      "\u001b[1m Row \u001b[0m│\u001b[1m # assembly_accession \u001b[0m\u001b[1m bioproject \u001b[0m\u001b[1m biosample    \u001b[0m\u001b[1m wgs_master \u001b[0m\u001b[1m refseq_category  \u001b[0m\u001b[1m taxid \u001b[0m\u001b[1m species_taxid \u001b[0m\u001b[1m organism_name           \u001b[0m\u001b[1m infraspecific_name \u001b[0m\u001b[1m isolate \u001b[0m\u001b[1m version_status \u001b[0m\u001b[1m assembly_level \u001b[0m\u001b[1m release_type \u001b[0m\u001b[1m genome_rep \u001b[0m\u001b[1m seq_rel_date \u001b[0m\u001b[1m asm_name               \u001b[0m\u001b[1m submitter                         \u001b[0m\u001b[1m gbrs_paired_asm \u001b[0m\u001b[1m paired_asm_comp \u001b[0m\u001b[1m ftp_path                          \u001b[0m\u001b[1m excluded_from_refseq \u001b[0m\u001b[1m relation_to_type_material \u001b[0m\u001b[1m asm_not_live_date \u001b[0m\n",
      "\u001b[1m     \u001b[0m│\u001b[90m String               \u001b[0m\u001b[90m String     \u001b[0m\u001b[90m String       \u001b[0m\u001b[90m String     \u001b[0m\u001b[90m String           \u001b[0m\u001b[90m Int64 \u001b[0m\u001b[90m Int64         \u001b[0m\u001b[90m String                  \u001b[0m\u001b[90m String             \u001b[0m\u001b[90m String  \u001b[0m\u001b[90m String         \u001b[0m\u001b[90m String         \u001b[0m\u001b[90m String       \u001b[0m\u001b[90m String     \u001b[0m\u001b[90m String       \u001b[0m\u001b[90m String                 \u001b[0m\u001b[90m String                            \u001b[0m\u001b[90m String          \u001b[0m\u001b[90m String          \u001b[0m\u001b[90m String                            \u001b[0m\u001b[90m String               \u001b[0m\u001b[90m String                    \u001b[0m\u001b[90m String            \u001b[0m\n",
      "─────┼──────────────────────────────────────────────────────────────────────────────────────────────────────────────────────────────────────────────────────────────────────────────────────────────────────────────────────────────────────────────────────────────────────────────────────────────────────────────────────────────────────────────────────────────────────────────────────────────────────────────────────────────────────\n",
      "   1 │ GCA_000001215.4       PRJNA13812  SAMN02803731              reference genome   7227           7227  Drosophila melanogaster                               latest          Chromosome      Major         Full        2014/08/01    Release 6 plus ISO1 MT  The FlyBase Consortium/Berkeley …  GCF_000001215.4  identical        https://ftp.ncbi.nlm.nih.gov/gen…                                                   na"
     ]
    }
   ],
   "source": [
    "show(ncbi_metadata[1:1, :], allcols=true)"
   ]
  },
  {
   "cell_type": "code",
   "execution_count": 8,
   "metadata": {},
   "outputs": [
    {
     "data": {
      "text/plain": [
       "138"
      ]
     },
     "execution_count": 8,
     "metadata": {},
     "output_type": "execute_result"
    }
   ],
   "source": [
    "tax_id_filter = map(taxid -> taxid in child_tax_ids, ncbi_metadata[!, \"taxid\"])\n",
    "is_right_host = map(x -> occursin(Regex(host, \"i\"), x), ncbi_metadata[!, \"organism_name\"])\n",
    "not_excluded = ncbi_metadata[!, \"excluded_from_refseq\"] .== \"\"\n",
    "is_full = ncbi_metadata[!, \"genome_rep\"] .== \"Full\"\n",
    "# assembly_levels = [\"Complete Genome\"]\n",
    "assembly_levels = [\"Complete Genome\", \"Chromosome\"]\n",
    "# assembly_levels = [\"Complete Genome\", \"Chromosome\", \"Scaffold\"]\n",
    "# assembly_levels = [\"Complete Genome\", \"Chromosome\", \"Scaffold\", \"Contig\"]\n",
    "assembly_level_filter = map(x -> x in assembly_levels, ncbi_metadata[!, \"assembly_level\"])\n",
    "full_filter = is_full .& not_excluded .& assembly_level_filter .& tax_id_filter .& is_right_host\n",
    "count(full_filter)"
   ]
  },
  {
   "cell_type": "code",
   "execution_count": 9,
   "metadata": {},
   "outputs": [],
   "source": [
    "# TODO\n",
    "# here is another place we could enforce host == escherichia\n",
    "# we'll use a manual filter as a temporary solution"
   ]
  },
  {
   "cell_type": "code",
   "execution_count": 10,
   "metadata": {},
   "outputs": [
    {
     "data": {
      "text/html": [
       "<div class=\"data-frame\"><p>138 rows × 23 columns (omitted printing of 17 columns)</p><table class=\"data-frame\"><thead><tr><th></th><th># assembly_accession</th><th>bioproject</th><th>biosample</th><th>wgs_master</th><th>refseq_category</th><th>taxid</th></tr><tr><th></th><th title=\"String\">String</th><th title=\"String\">String</th><th title=\"String\">String</th><th title=\"String\">String</th><th title=\"String\">String</th><th title=\"Int64\">Int64</th></tr></thead><tbody><tr><th>1</th><td>GCA_000836945.1</td><td></td><td></td><td></td><td>reference genome</td><td>2681598</td></tr><tr><th>2</th><td>GCA_000870165.1</td><td></td><td></td><td></td><td>na</td><td>2681602</td></tr><tr><th>3</th><td>GCA_000884775.1</td><td></td><td></td><td></td><td>na</td><td>2681597</td></tr><tr><th>4</th><td>GCA_000899615.1</td><td></td><td></td><td></td><td>na</td><td>1141141</td></tr><tr><th>5</th><td>GCA_000900835.1</td><td></td><td></td><td></td><td>na</td><td>1054480</td></tr><tr><th>6</th><td>GCA_000902495.1</td><td></td><td></td><td></td><td>na</td><td>1054834</td></tr><tr><th>7</th><td>GCA_000918255.1</td><td></td><td></td><td></td><td>na</td><td>1495285</td></tr><tr><th>8</th><td>GCA_000925055.1</td><td></td><td></td><td></td><td>na</td><td>1204522</td></tr><tr><th>9</th><td>GCA_001041535.1</td><td></td><td></td><td></td><td>na</td><td>1434323</td></tr><tr><th>10</th><td>GCA_001310115.1</td><td>PRJNA32381</td><td></td><td></td><td>na</td><td>66711</td></tr><tr><th>11</th><td>GCA_001447045.1</td><td></td><td></td><td></td><td>na</td><td>1720504</td></tr><tr><th>12</th><td>GCA_001501495.1</td><td></td><td></td><td></td><td>na</td><td>1720494</td></tr><tr><th>13</th><td>GCA_001502875.1</td><td></td><td></td><td></td><td>na</td><td>1720500</td></tr><tr><th>14</th><td>GCA_001743935.1</td><td></td><td></td><td></td><td>na</td><td>1837867</td></tr><tr><th>15</th><td>GCA_001744235.1</td><td></td><td></td><td></td><td>na</td><td>1815590</td></tr><tr><th>16</th><td>GCA_001745795.1</td><td></td><td></td><td></td><td>na</td><td>1654926</td></tr><tr><th>17</th><td>GCA_002149625.1</td><td>PRJNA261534</td><td>SAMN03074172</td><td></td><td>na</td><td>31533</td></tr><tr><th>18</th><td>GCA_002599625.1</td><td></td><td></td><td></td><td>na</td><td>10665</td></tr><tr><th>19</th><td>GCA_002599645.1</td><td></td><td></td><td></td><td>na</td><td>10665</td></tr><tr><th>20</th><td>GCA_002599665.1</td><td></td><td></td><td></td><td>na</td><td>10665</td></tr><tr><th>21</th><td>GCA_002604245.1</td><td></td><td></td><td></td><td>na</td><td>1647412</td></tr><tr><th>22</th><td>GCA_002609745.1</td><td></td><td></td><td></td><td>na</td><td>1837875</td></tr><tr><th>23</th><td>GCA_002618005.2</td><td></td><td></td><td></td><td>na</td><td>1932889</td></tr><tr><th>24</th><td>GCA_002619885.1</td><td></td><td></td><td></td><td>na</td><td>1965367</td></tr><tr><th>25</th><td>GCA_002709745.1</td><td></td><td></td><td></td><td>na</td><td>1871707</td></tr><tr><th>26</th><td>GCA_002958495.1</td><td></td><td></td><td></td><td>na</td><td>2079315</td></tr><tr><th>27</th><td>GCA_002958505.1</td><td></td><td></td><td></td><td>na</td><td>2079316</td></tr><tr><th>28</th><td>GCA_003094415.1</td><td></td><td></td><td></td><td>na</td><td>2060720</td></tr><tr><th>29</th><td>GCA_003094435.1</td><td></td><td></td><td></td><td>na</td><td>2060721</td></tr><tr><th>30</th><td>GCA_003147245.1</td><td></td><td></td><td></td><td>na</td><td>1720496</td></tr><tr><th>&vellip;</th><td>&vellip;</td><td>&vellip;</td><td>&vellip;</td><td>&vellip;</td><td>&vellip;</td><td>&vellip;</td></tr></tbody></table></div>"
      ],
      "text/latex": [
       "\\begin{tabular}{r|ccccccc}\n",
       "\t& \\# assembly\\_accession & bioproject & biosample & wgs\\_master & refseq\\_category & taxid & \\\\\n",
       "\t\\hline\n",
       "\t& String & String & String & String & String & Int64 & \\\\\n",
       "\t\\hline\n",
       "\t1 & GCA\\_000836945.1 &  &  &  & reference genome & 2681598 & $\\dots$ \\\\\n",
       "\t2 & GCA\\_000870165.1 &  &  &  & na & 2681602 & $\\dots$ \\\\\n",
       "\t3 & GCA\\_000884775.1 &  &  &  & na & 2681597 & $\\dots$ \\\\\n",
       "\t4 & GCA\\_000899615.1 &  &  &  & na & 1141141 & $\\dots$ \\\\\n",
       "\t5 & GCA\\_000900835.1 &  &  &  & na & 1054480 & $\\dots$ \\\\\n",
       "\t6 & GCA\\_000902495.1 &  &  &  & na & 1054834 & $\\dots$ \\\\\n",
       "\t7 & GCA\\_000918255.1 &  &  &  & na & 1495285 & $\\dots$ \\\\\n",
       "\t8 & GCA\\_000925055.1 &  &  &  & na & 1204522 & $\\dots$ \\\\\n",
       "\t9 & GCA\\_001041535.1 &  &  &  & na & 1434323 & $\\dots$ \\\\\n",
       "\t10 & GCA\\_001310115.1 & PRJNA32381 &  &  & na & 66711 & $\\dots$ \\\\\n",
       "\t11 & GCA\\_001447045.1 &  &  &  & na & 1720504 & $\\dots$ \\\\\n",
       "\t12 & GCA\\_001501495.1 &  &  &  & na & 1720494 & $\\dots$ \\\\\n",
       "\t13 & GCA\\_001502875.1 &  &  &  & na & 1720500 & $\\dots$ \\\\\n",
       "\t14 & GCA\\_001743935.1 &  &  &  & na & 1837867 & $\\dots$ \\\\\n",
       "\t15 & GCA\\_001744235.1 &  &  &  & na & 1815590 & $\\dots$ \\\\\n",
       "\t16 & GCA\\_001745795.1 &  &  &  & na & 1654926 & $\\dots$ \\\\\n",
       "\t17 & GCA\\_002149625.1 & PRJNA261534 & SAMN03074172 &  & na & 31533 & $\\dots$ \\\\\n",
       "\t18 & GCA\\_002599625.1 &  &  &  & na & 10665 & $\\dots$ \\\\\n",
       "\t19 & GCA\\_002599645.1 &  &  &  & na & 10665 & $\\dots$ \\\\\n",
       "\t20 & GCA\\_002599665.1 &  &  &  & na & 10665 & $\\dots$ \\\\\n",
       "\t21 & GCA\\_002604245.1 &  &  &  & na & 1647412 & $\\dots$ \\\\\n",
       "\t22 & GCA\\_002609745.1 &  &  &  & na & 1837875 & $\\dots$ \\\\\n",
       "\t23 & GCA\\_002618005.2 &  &  &  & na & 1932889 & $\\dots$ \\\\\n",
       "\t24 & GCA\\_002619885.1 &  &  &  & na & 1965367 & $\\dots$ \\\\\n",
       "\t25 & GCA\\_002709745.1 &  &  &  & na & 1871707 & $\\dots$ \\\\\n",
       "\t26 & GCA\\_002958495.1 &  &  &  & na & 2079315 & $\\dots$ \\\\\n",
       "\t27 & GCA\\_002958505.1 &  &  &  & na & 2079316 & $\\dots$ \\\\\n",
       "\t28 & GCA\\_003094415.1 &  &  &  & na & 2060720 & $\\dots$ \\\\\n",
       "\t29 & GCA\\_003094435.1 &  &  &  & na & 2060721 & $\\dots$ \\\\\n",
       "\t30 & GCA\\_003147245.1 &  &  &  & na & 1720496 & $\\dots$ \\\\\n",
       "\t$\\dots$ & $\\dots$ & $\\dots$ & $\\dots$ & $\\dots$ & $\\dots$ & $\\dots$ &  \\\\\n",
       "\\end{tabular}\n"
      ],
      "text/plain": [
       "\u001b[1m138×23 DataFrame\u001b[0m\n",
       "\u001b[1m Row \u001b[0m│\u001b[1m # assembly_accession \u001b[0m\u001b[1m bioproject \u001b[0m\u001b[1m biosample \u001b[0m\u001b[1m wgs_master \u001b[0m\u001b[1m refseq_categor\u001b[0m ⋯\n",
       "\u001b[1m     \u001b[0m│\u001b[90m String               \u001b[0m\u001b[90m String     \u001b[0m\u001b[90m String    \u001b[0m\u001b[90m String     \u001b[0m\u001b[90m String        \u001b[0m ⋯\n",
       "─────┼──────────────────────────────────────────────────────────────────────────\n",
       "   1 │ GCA_000836945.1                                          reference geno ⋯\n",
       "   2 │ GCA_000870165.1                                          na\n",
       "   3 │ GCA_000884775.1                                          na\n",
       "   4 │ GCA_000899615.1                                          na\n",
       "   5 │ GCA_000900835.1                                          na             ⋯\n",
       "   6 │ GCA_000902495.1                                          na\n",
       "   7 │ GCA_000918255.1                                          na\n",
       "   8 │ GCA_000925055.1                                          na\n",
       "   9 │ GCA_001041535.1                                          na             ⋯\n",
       "  10 │ GCA_001310115.1       PRJNA32381                         na\n",
       "  11 │ GCA_001447045.1                                          na\n",
       "  ⋮  │          ⋮                ⋮           ⋮          ⋮              ⋮       ⋱\n",
       " 129 │ GCA_020892595.1                                          na\n",
       " 130 │ GCA_020906735.1                                          na             ⋯\n",
       " 131 │ GCA_021216325.1                                          na\n",
       " 132 │ GCA_021356095.1                                          na\n",
       " 133 │ GCA_021356125.1                                          na\n",
       " 134 │ GCA_021356185.1                                          na             ⋯\n",
       " 135 │ GCA_021485045.1                                          na\n",
       " 136 │ GCA_021497755.1                                          na\n",
       " 137 │ GCA_021863735.1                                          na\n",
       " 138 │ GCA_022343355.1                                          na             ⋯\n",
       "\u001b[36m                                                 19 columns and 117 rows omitted\u001b[0m"
      ]
     },
     "execution_count": 10,
     "metadata": {},
     "output_type": "execute_result"
    }
   ],
   "source": [
    "ncbi_metadata_of_interest = ncbi_metadata[full_filter, :]"
   ]
  },
  {
   "cell_type": "code",
   "execution_count": null,
   "metadata": {},
   "outputs": [],
   "source": [
    "# https://www.ncbi.nlm.nih.gov/sviewer/viewer.cgi?db=nuccore&report=genbank&id=GCA_021354775"
   ]
  },
  {
   "cell_type": "code",
   "execution_count": null,
   "metadata": {},
   "outputs": [],
   "source": [
    "# for col in names(ncbi_metadata_of_interest)\n",
    "#     @show col, ncbi_metadata_of_interest[1, col]\n",
    "# end"
   ]
  },
  {
   "cell_type": "code",
   "execution_count": 11,
   "metadata": {},
   "outputs": [
    {
     "data": {
      "text/plain": [
       "2"
      ]
     },
     "execution_count": 11,
     "metadata": {},
     "output_type": "execute_result"
    }
   ],
   "source": [
    "N_FASTAS = 2"
   ]
  },
  {
   "cell_type": "code",
   "execution_count": 12,
   "metadata": {},
   "outputs": [
    {
     "data": {
      "text/plain": [
       "Dict{Any, Any} with 2 entries:\n",
       "  \"GCA_000870165.1\" => Dict{Any, Any}(\"proteins\"=>\"/home/jupyter-cameron.prybol…\n",
       "  \"GCA_000836945.1\" => Dict{Any, Any}(\"proteins\"=>\"/home/jupyter-cameron.prybol…"
      ]
     },
     "execution_count": 12,
     "metadata": {},
     "output_type": "execute_result"
    }
   ],
   "source": [
    "entity_file_maps = Dict()\n",
    "ProgressMeter.@showprogress for row in DataFrames.eachrow(ncbi_metadata_of_interest[1:N_FASTAS, :])\n",
    "    entity_id = row[\"# assembly_accession\"]\n",
    "    entity_file_maps[entity_id] = Dict()\n",
    "    for (file_type, extension) in [\n",
    "            \"proteins\" => \"protein.faa.gz\",\n",
    "            \"genome\" => \"genomic.fna.gz\",\n",
    "            \"genbank\" => \"genomic.gbff.gz\"\n",
    "        ]\n",
    "        outdir = mkpath(joinpath(DIR, extension))\n",
    "        url = Mycelia.ncbi_ftp_path_to_url(row[\"ftp_path\"], extension)\n",
    "        outfile = joinpath(outdir, basename(url))\n",
    "        if !isfile(outfile)\n",
    "            try\n",
    "                Downloads.download(url, outfile)\n",
    "            catch e\n",
    "                showerror(stdout, e)\n",
    "            end\n",
    "        end\n",
    "        if isfile(outfile)\n",
    "            entity_file_maps[entity_id][file_type] = outfile\n",
    "        end\n",
    "    end\n",
    "end\n",
    "entity_file_maps"
   ]
  },
  {
   "cell_type": "code",
   "execution_count": null,
   "metadata": {},
   "outputs": [],
   "source": [
    "# graph = Mycelia.fastx_to_kmer_graph(BioSequences.BigDNAMer{kmer_size}, fastx_files)"
   ]
  },
  {
   "cell_type": "code",
   "execution_count": null,
   "metadata": {},
   "outputs": [],
   "source": [
    "# use basename of files as identifiers"
   ]
  },
  {
   "cell_type": "code",
   "execution_count": 18,
   "metadata": {},
   "outputs": [
    {
     "data": {
      "text/plain": [
       "7"
      ]
     },
     "execution_count": 18,
     "metadata": {},
     "output_type": "execute_result"
    }
   ],
   "source": [
    "# kmer_size = Mycelia.assess_dnamer_saturation(fastx_files)\n",
    "kmer_size = 7"
   ]
  },
  {
   "cell_type": "code",
   "execution_count": 19,
   "metadata": {},
   "outputs": [
    {
     "name": "stdout",
     "output_type": "stream",
     "text": [
      " 15.348164 seconds (25.41 M allocations: 1.950 GiB, 22.50% gc time)\n"
     ]
    },
    {
     "data": {
      "text/plain": [
       "{8153, 45775} directed Int64 metagraph with Float64 weights defined by :weight (default weight 1.0)"
      ]
     },
     "execution_count": 19,
     "metadata": {},
     "output_type": "execute_result"
    }
   ],
   "source": [
    "@time graph = fastx_to_metagraph(kmer_size, entity_file_maps)"
   ]
  },
  {
   "cell_type": "code",
   "execution_count": 20,
   "metadata": {},
   "outputs": [
    {
     "data": {
      "text/plain": [
       "\"/home/jupyter-cameron.prybol/workspace/2022-03-24-ecoli-tequatro-pangenome/root-tax-id_10663.k_7.genome-graph\""
      ]
     },
     "execution_count": 20,
     "metadata": {},
     "output_type": "execute_result"
    }
   ],
   "source": [
    "graph_outfile = \"$DIR/root-tax-id_$(root_tax_id).k_$(kmer_size).genome-graph\"\n",
    "# Mycelia.save_graph(graph, graph_outfile)\n",
    "# Mycelia.graph_to_gfa(graph, graph_outfile * \".gfa\")\n",
    "# Mycelia.load_graph(graph_outfile)"
   ]
  },
  {
   "cell_type": "code",
   "execution_count": 21,
   "metadata": {},
   "outputs": [
    {
     "data": {
      "text/plain": [
       "\"neo4j\""
      ]
     },
     "execution_count": 21,
     "metadata": {},
     "output_type": "execute_result"
    }
   ],
   "source": [
    "NEO4J_BIN_DIR = \"/home/jupyter-cjprybol/software/neo4j-community-4.4.3/bin\"\n",
    "if !occursin(NEO4J_BIN_DIR, ENV[\"PATH\"])\n",
    "    ENV[\"PATH\"] = \"$(NEO4J_BIN_DIR):\" * ENV[\"PATH\"]\n",
    "end\n",
    "USERNAME=\"neo4j\"\n",
    "PASSWORD=readline(joinpath(homedir(), \".config\", \"neo4j\", \"$(database_id).pass\"));\n",
    "ADDRESS=\"neo4j+s://$(database_id).databases.neo4j.io:7687\"\n",
    "DATABASE = \"neo4j\""
   ]
  },
  {
   "cell_type": "code",
   "execution_count": 22,
   "metadata": {},
   "outputs": [
    {
     "name": "stdout",
     "output_type": "stream",
     "text": [
      "  0.109799 seconds (467.62 k allocations: 25.648 MiB, 97.84% compilation time)\n"
     ]
    },
    {
     "data": {
      "text/plain": [
       "`\u001b[4mcypher-shell\u001b[24m \u001b[4m--address\u001b[24m \u001b[4mneo4j+s://191a822b.databases.neo4j.io:7687\u001b[24m \u001b[4m--username\u001b[24m \u001b[4mneo4j\u001b[24m \u001b[4m--password\u001b[24m \u001b[4mpE3dLStRnrfQrF6FZaeCwMVI2ueSwAmLPbb5Myy75Lo\u001b[24m \u001b[4m--database\u001b[24m \u001b[4mneo4j\u001b[24m \u001b[4m--format\u001b[24m \u001b[4mauto\u001b[24m \u001b[4m'CREATE CONSTRAINT ON (k:Kmer) ASSERT k.identifier IS UNIQUE'\u001b[24m`"
      ]
     },
     "execution_count": 22,
     "metadata": {},
     "output_type": "execute_result"
    }
   ],
   "source": [
    "cmd = \"CREATE CONSTRAINT ON (k:Kmer) ASSERT k.identifier IS UNIQUE\"\n",
    "@time Mycelia.cypher(address = ADDRESS, username = USERNAME, password = PASSWORD, database = DATABASE, cmd = cmd);"
   ]
  },
  {
   "cell_type": "code",
   "execution_count": 23,
   "metadata": {},
   "outputs": [
    {
     "data": {
      "text/plain": [
       "3-element Vector{String}:\n",
       " \"Fasta\"\n",
       " \"FastaRecord\"\n",
       " \"Kmer\""
      ]
     },
     "execution_count": 23,
     "metadata": {},
     "output_type": "execute_result"
    }
   ],
   "source": [
    "node_types = unique(graph.vprops[v][:TYPE] for v in Graphs.vertices(graph))"
   ]
  },
  {
   "cell_type": "code",
   "execution_count": null,
   "metadata": {},
   "outputs": [],
   "source": [
    "# initialize graph"
   ]
  },
  {
   "cell_type": "code",
   "execution_count": null,
   "metadata": {},
   "outputs": [],
   "source": [
    "# add fasta records to graph"
   ]
  },
  {
   "cell_type": "code",
   "execution_count": null,
   "metadata": {},
   "outputs": [],
   "source": [
    "# add fasta records to Neo4J\n",
    "# add over URL"
   ]
  },
  {
   "cell_type": "code",
   "execution_count": 25,
   "metadata": {},
   "outputs": [],
   "source": [
    "upload_node_type_over_url(\"Fasta\", graph, ADDRESS, USERNAME, PASSWORD, DATABASE)"
   ]
  },
  {
   "cell_type": "code",
   "execution_count": 26,
   "metadata": {},
   "outputs": [],
   "source": [
    "# add fasta records to graph"
   ]
  },
  {
   "cell_type": "code",
   "execution_count": null,
   "metadata": {},
   "outputs": [],
   "source": [
    "# add fasta records to Neo4J\n",
    "# batch file upload"
   ]
  },
  {
   "cell_type": "code",
   "execution_count": 27,
   "metadata": {},
   "outputs": [
    {
     "data": {
      "text/plain": [
       "upload_node_type_over_read_csv (generic function with 2 methods)"
      ]
     },
     "execution_count": 27,
     "metadata": {},
     "output_type": "execute_result"
    }
   ],
   "source": [
    "function upload_node_type_over_read_csv(node_type, graph, ADDRESS, USERNAME, PASSWORD, DATABASE, window_size=1)\n",
    "        \n",
    "    node_type_params = Set{Symbol}()\n",
    "    vertices_of_type = [v for v in Graphs.vertices(graph) if (graph.vprops[v][:TYPE] == node_type)]\n",
    "    node_type_params = filter(param -> param != :TYPE, reduce(union, keys(graph.vprops[v]) for v in vertices_of_type))\n",
    "    \n",
    "    V = length(vertices_of_type)\n",
    "    windows = [i:min(i+window_size-1,V) for i in 1:window_size:V]\n",
    "    \n",
    "    temp_upload_dir = mkpath(joinpath(DIR, \"temp_upload\"))\n",
    "    \n",
    "    ProgressMeter.@showprogress for window in windows\n",
    "        for (i, v) in enumerate(vertices_of_type[window])\n",
    "\n",
    "            f = \"node$v.tsv\"\n",
    "            local_f_path = \"$(temp_upload_dir)/$(f)\"\n",
    "            uCSV.write(local_f_path, DataFrames.DataFrame(MetaGraphs.props(graph, v)), delim='\\t')\n",
    "            \n",
    "            remote_f_path = \"gs://neo4j-upload/$(f)\"\n",
    "            run(`gsutil cp $(local_f_path) $(remote_f_path)`)\n",
    "            # gcloud iam service-accounts keys create ~/.config/gcloud/url-signer-key.json --iam-account=\"928365250020-compute@developer.gserviceaccount.com\"\n",
    "            signer_credential_path = \"$(homedir())/.config/gcloud/url-signer-key.json\"\n",
    "            sign_url_cmd = `gsutil signurl $(signer_credential_path) $(remote_f_path)`\n",
    "            signed_url_table = DataFrames.DataFrame(uCSV.read(open(sign_url_cmd), header=1, delim='\\t')...)\n",
    "            signed_url = signed_url_table[1, \"Signed URL\"]\n",
    "            parameters = [\"$(p): row.$(p)\" for p in filter(x -> x != :TYPE, keys(MetaGraphs.props(graph, v)))]\n",
    "            parameters = \"{\" * join(parameters, \", \") * \"}\"\n",
    "\n",
    "            cmd =\n",
    "            \"\"\"\n",
    "            LOAD CSV WITH HEADERS FROM '$(signed_url)' AS row FIELDTERMINATOR '\\t'\n",
    "            MERGE (node:$(node_type) $(parameters))\n",
    "            \"\"\"\n",
    "\n",
    "            cmd = rstrip(replace(cmd, '\\n' => ' '))\n",
    "            cypher_cmd = Mycelia.cypher(address = ADDRESS, username = USERNAME, password = PASSWORD, database = DATABASE, cmd = cmd)\n",
    "            run(cypher_cmd)            \n",
    "        end\n",
    "    end    \n",
    "end"
   ]
  },
  {
   "cell_type": "code",
   "execution_count": 28,
   "metadata": {},
   "outputs": [
    {
     "name": "stderr",
     "output_type": "stream",
     "text": [
      "Copying file:///home/jupyter-cameron.prybol/workspace/2022-03-24-ecoli-tequatro-pangenome/temp_upload/node2.tsv [Content-Type=text/tab-separated-values]...\n",
      "/ [1 files][162.1 KiB/162.1 KiB]                                                \n",
      "Operation completed over 1 objects/162.1 KiB.                                    \n",
      "Copying file:///home/jupyter-cameron.prybol/workspace/2022-03-24-ecoli-tequatro-pangenome/temp_upload/node8094.tsv [Content-Type=text/tab-separated-values]...\n",
      "/ [1 files][165.1 KiB/165.1 KiB]                                                \n",
      "Operation completed over 1 objects/165.1 KiB.                                    \n"
     ]
    }
   ],
   "source": [
    "upload_node_type_over_read_csv(\"FastaRecord\", graph, ADDRESS, USERNAME, PASSWORD, DATABASE)"
   ]
  },
  {
   "cell_type": "code",
   "execution_count": 29,
   "metadata": {},
   "outputs": [
    {
     "data": {
      "text/plain": [
       "\"CONTAINS_RECORD\""
      ]
     },
     "execution_count": 29,
     "metadata": {},
     "output_type": "execute_result"
    }
   ],
   "source": [
    "src_type = \"Fasta\"\n",
    "dst_type = \"FastaRecord\"\n",
    "edge_type = \"CONTAINS_RECORD\""
   ]
  },
  {
   "cell_type": "code",
   "execution_count": 30,
   "metadata": {},
   "outputs": [],
   "source": [
    "upload_edge_type_over_url(src_type, dst_type, edge_type, graph, ADDRESS, USERNAME, PASSWORD, DATABASE, window_size=10)"
   ]
  },
  {
   "cell_type": "code",
   "execution_count": 31,
   "metadata": {},
   "outputs": [],
   "source": [
    "# add kmers to graph"
   ]
  },
  {
   "cell_type": "code",
   "execution_count": 32,
   "metadata": {},
   "outputs": [],
   "source": [
    "# add kmers to Neo4J\n",
    "# add over URL"
   ]
  },
  {
   "cell_type": "code",
   "execution_count": 33,
   "metadata": {},
   "outputs": [
    {
     "name": "stderr",
     "output_type": "stream",
     "text": [
      "\u001b[32mProgress: 100%|█████████████████████████████████████████| Time: 0:03:51\u001b[39m\n"
     ]
    }
   ],
   "source": [
    "upload_node_type_over_url(\"Kmer\", graph, ADDRESS, USERNAME, PASSWORD, DATABASE)"
   ]
  },
  {
   "cell_type": "code",
   "execution_count": 34,
   "metadata": {},
   "outputs": [],
   "source": [
    "# add edges from records to kmers"
   ]
  },
  {
   "cell_type": "code",
   "execution_count": 35,
   "metadata": {},
   "outputs": [
    {
     "name": "stderr",
     "output_type": "stream",
     "text": [
      "\u001b[32mProgress: 100%|█████████████████████████████████████████| Time: 0:09:35\u001b[39m\n"
     ]
    }
   ],
   "source": [
    "src_type = \"FastaRecord\"\n",
    "dst_type = \"Kmer\"\n",
    "edge_type = \"CONTAINS_KMER\"\n",
    "upload_edge_type_over_url(src_type, dst_type, edge_type, graph, ADDRESS, USERNAME, PASSWORD, DATABASE)"
   ]
  },
  {
   "cell_type": "code",
   "execution_count": null,
   "metadata": {},
   "outputs": [],
   "source": [
    "# upload to Neo4j"
   ]
  },
  {
   "cell_type": "code",
   "execution_count": null,
   "metadata": {},
   "outputs": [],
   "source": [
    "# Kmer to Kmer connections"
   ]
  },
  {
   "cell_type": "code",
   "execution_count": 37,
   "metadata": {},
   "outputs": [
    {
     "name": "stderr",
     "output_type": "stream",
     "text": [
      "\u001b[32mProgress: 100%|█████████████████████████████████████████| Time: 0:25:14\u001b[39m\n"
     ]
    }
   ],
   "source": [
    "# on merge with these Kmer to Kmer connections we'll need to increment the counts!\n",
    "# any time we increase the number of genomes, the values will become out of date\n",
    "src_type = \"Kmer\"\n",
    "dst_type = \"Kmer\"\n",
    "edge_type = \"CONNECTS_TO\"\n",
    "upload_edge_type_over_url(src_type, dst_type, edge_type, graph, ADDRESS, USERNAME, PASSWORD, DATABASE)"
   ]
  },
  {
   "cell_type": "code",
   "execution_count": null,
   "metadata": {},
   "outputs": [],
   "source": [
    "# get the full list of kmers under the fasta of interest"
   ]
  },
  {
   "cell_type": "code",
   "execution_count": null,
   "metadata": {},
   "outputs": [],
   "source": [
    "# for each kmer, count the number of incoming \"CONTAINS_KMER\" edges"
   ]
  },
  {
   "cell_type": "code",
   "execution_count": null,
   "metadata": {},
   "outputs": [],
   "source": [
    "# divide by max count"
   ]
  }
 ],
 "metadata": {
  "kernelspec": {
   "display_name": "Julia 1.6.5",
   "language": "julia",
   "name": "julia-1.6"
  },
  "language_info": {
   "file_extension": ".jl",
   "mimetype": "application/julia",
   "name": "julia",
   "version": "1.6.5"
  }
 },
 "nbformat": 4,
 "nbformat_minor": 4
}
