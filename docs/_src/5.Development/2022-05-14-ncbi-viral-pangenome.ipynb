{
 "cells": [
  {
   "cell_type": "markdown",
   "metadata": {},
   "source": [
    "# Initialize workspace"
   ]
  },
  {
   "cell_type": "code",
   "execution_count": 1,
   "metadata": {},
   "outputs": [
    {
     "data": {
      "text/plain": [
       "2-element Vector{Union{Nothing, SubString{String}}}:\n",
       " \"2022-05-14\"\n",
       " \"ncbi-viral-pangenome\""
      ]
     },
     "execution_count": 1,
     "metadata": {},
     "output_type": "execute_result"
    }
   ],
   "source": [
    "DATE_TASK = \"2022-05-14-ncbi-viral-pangenome\"\n",
    "DIR = mkpath(\"$(homedir())/workspace/$DATE_TASK\")\n",
    "cd(DIR)\n",
    "DATE, TASK = match(r\"^(\\d{4}-\\d{2}-\\d{2})-(.*)$\", DATE_TASK).captures"
   ]
  },
  {
   "cell_type": "markdown",
   "metadata": {},
   "source": [
    "# Import packages"
   ]
  },
  {
   "cell_type": "code",
   "execution_count": 2,
   "metadata": {},
   "outputs": [
    {
     "name": "stderr",
     "output_type": "stream",
     "text": [
      "\u001b[32m\u001b[1m    Updating\u001b[22m\u001b[39m registry at `~/.julia/registries/General`\n",
      "\u001b[32m\u001b[1m    Updating\u001b[22m\u001b[39m git-repo `https://github.com/cjprybol/Mycelia.git#master`\n",
      "\u001b[32m\u001b[1m   Installed\u001b[22m\u001b[39m StatsPlots ───────── v0.14.34\n",
      "\u001b[32m\u001b[1m   Installed\u001b[22m\u001b[39m DataStructures ───── v0.18.12\n",
      "\u001b[32m\u001b[1m   Installed\u001b[22m\u001b[39m FileIO ───────────── v1.14.0\n",
      "\u001b[32m\u001b[1m   Installed\u001b[22m\u001b[39m Plots ────────────── v1.29.0\n",
      "\u001b[32m\u001b[1m   Installed\u001b[22m\u001b[39m Distributions ────── v0.25.58\n",
      "\u001b[32m\u001b[1m   Installed\u001b[22m\u001b[39m InverseFunctions ─── v0.1.4\n",
      "\u001b[32m\u001b[1m   Installed\u001b[22m\u001b[39m StructArrays ─────── v0.6.7\n",
      "\u001b[32m\u001b[1m   Installed\u001b[22m\u001b[39m LogExpFunctions ──── v0.3.15\n",
      "\u001b[32m\u001b[1m   Installed\u001b[22m\u001b[39m DataFrames ───────── v1.3.4\n",
      "\u001b[32m\u001b[1m   Installed\u001b[22m\u001b[39m GraphPlot ────────── v0.5.1\n",
      "\u001b[32m\u001b[1m   Installed\u001b[22m\u001b[39m ChangesOfVariables ─ v0.1.3\n",
      "\u001b[32m\u001b[1m   Installed\u001b[22m\u001b[39m Documenter ───────── v0.27.17\n",
      "\u001b[32m\u001b[1m   Installed\u001b[22m\u001b[39m OffsetArrays ─────── v1.11.0\n",
      "\u001b[32m\u001b[1m   Installed\u001b[22m\u001b[39m Widgets ──────────── v0.6.6\n",
      "\u001b[32m\u001b[1m   Installed\u001b[22m\u001b[39m PDMats ───────────── v0.11.10\n",
      "\u001b[32m\u001b[1m   Installed\u001b[22m\u001b[39m ColorVectorSpace ─── v0.9.8\n",
      "\u001b[32m\u001b[1m   Installed\u001b[22m\u001b[39m ColorTypes ───────── v0.11.1\n",
      "\u001b[32m\u001b[1m   Installed\u001b[22m\u001b[39m StatsModels ──────── v0.6.30\n",
      "\u001b[32m\u001b[1m   Installed\u001b[22m\u001b[39m TensorCore ───────── v0.1.1\n",
      "\u001b[32m\u001b[1m   Installed\u001b[22m\u001b[39m XLSX ─────────────── v0.7.10\n",
      "\u001b[32m\u001b[1m   Installed\u001b[22m\u001b[39m ForwardDiff ──────── v0.10.29\n",
      "\u001b[32m\u001b[1m   Installed\u001b[22m\u001b[39m ArrayInterface ───── v5.0.8\n",
      "\u001b[32m\u001b[1m   Installed\u001b[22m\u001b[39m Observables ──────── v0.5.1\n",
      "\u001b[32m\u001b[1m   Installed\u001b[22m\u001b[39m Static ───────────── v0.6.4\n",
      "\u001b[32m\u001b[1m   Installed\u001b[22m\u001b[39m FiniteDiff ───────── v2.11.1\n",
      "\u001b[32m\u001b[1m   Installed\u001b[22m\u001b[39m ColorSchemes ─────── v3.18.0\n",
      "\u001b[32m\u001b[1m    Updating\u001b[22m\u001b[39m `~/git/Mycelia/docs/Project.toml`\n",
      " \u001b[90m [a93c6f00] \u001b[39m\u001b[93m↑ DataFrames v1.3.2 ⇒ v1.3.4\u001b[39m\n",
      " \u001b[90m [864edb3b] \u001b[39m\u001b[93m↑ DataStructures v0.18.11 ⇒ v0.18.12\u001b[39m\n",
      " \u001b[90m [e30172f5] \u001b[39m\u001b[93m↑ Documenter v0.27.15 ⇒ v0.27.17\u001b[39m\n",
      " \u001b[90m [5789e2e9] \u001b[39m\u001b[93m↑ FileIO v1.13.0 ⇒ v1.14.0\u001b[39m\n",
      " \u001b[90m [453d265d] \u001b[39m\u001b[93m~ Mycelia v0.1.0 `https://github.com/cjprybol/Mycelia.git#master#master` ⇒ v0.1.0 `https://github.com/cjprybol/Mycelia.git#master#master`\u001b[39m\n",
      " \u001b[90m [91a5bcdd] \u001b[39m\u001b[93m↑ Plots v1.27.3 ⇒ v1.29.0\u001b[39m\n",
      " \u001b[90m [90137ffa] \u001b[39m\u001b[93m↑ StaticArrays v1.4.3 ⇒ v1.4.4\u001b[39m\n",
      " \u001b[90m [f3b207a7] \u001b[39m\u001b[93m↑ StatsPlots v0.14.33 ⇒ v0.14.34\u001b[39m\n",
      "\u001b[32m\u001b[1m    Updating\u001b[22m\u001b[39m `~/git/Mycelia/docs/Manifest.toml`\n",
      " \u001b[90m [4fba245c] \u001b[39m\u001b[93m↑ ArrayInterface v5.0.5 ⇒ v5.0.8\u001b[39m\n",
      " \u001b[90m [336ed68f] \u001b[39m\u001b[93m↑ CSV v0.10.3 ⇒ v0.10.4\u001b[39m\n",
      " \u001b[90m [49dc2e85] \u001b[39m\u001b[91m- Calculus v0.5.1\u001b[39m\n",
      " \u001b[90m [9e997f8a] \u001b[39m\u001b[93m↑ ChangesOfVariables v0.1.2 ⇒ v0.1.3\u001b[39m\n",
      " \u001b[90m [da1fd8a2] \u001b[39m\u001b[93m↑ CodeTracking v1.0.8 ⇒ v1.0.9\u001b[39m\n",
      " \u001b[90m [35d6a980] \u001b[39m\u001b[93m↑ ColorSchemes v3.17.1 ⇒ v3.18.0\u001b[39m\n",
      " \u001b[90m [3da002f7] \u001b[39m\u001b[93m↑ ColorTypes v0.10.12 ⇒ v0.11.1\u001b[39m\n",
      " \u001b[90m [c3611d14] \u001b[39m\u001b[92m+ ColorVectorSpace v0.9.8\u001b[39m\n",
      " \u001b[90m [34da2185] \u001b[39m\u001b[93m↑ Compat v3.42.0 ⇒ v3.43.0\u001b[39m\n",
      " \u001b[90m [9a962f9c] \u001b[39m\u001b[93m↑ DataAPI v1.9.0 ⇒ v1.10.0\u001b[39m\n",
      " \u001b[90m [a93c6f00] \u001b[39m\u001b[93m↑ DataFrames v1.3.2 ⇒ v1.3.4\u001b[39m\n",
      " \u001b[90m [864edb3b] \u001b[39m\u001b[93m↑ DataStructures v0.18.11 ⇒ v0.18.12\u001b[39m\n",
      " \u001b[90m [b552c78f] \u001b[39m\u001b[93m↑ DiffRules v1.10.0 ⇒ v1.11.0\u001b[39m\n",
      " \u001b[90m [31c24e10] \u001b[39m\u001b[93m↑ Distributions v0.25.53 ⇒ v0.25.58\u001b[39m\n",
      " \u001b[90m [e30172f5] \u001b[39m\u001b[93m↑ Documenter v0.27.15 ⇒ v0.27.17\u001b[39m\n",
      " \u001b[90m [fa6b7ba4] \u001b[39m\u001b[91m- DualNumbers v0.6.8\u001b[39m\n",
      " \u001b[90m [5789e2e9] \u001b[39m\u001b[93m↑ FileIO v1.13.0 ⇒ v1.14.0\u001b[39m\n",
      " \u001b[90m [1a297f60] \u001b[39m\u001b[95m↓ FillArrays v0.13.2 ⇒ v0.12.8\u001b[39m\n",
      " \u001b[90m [6a86dc24] \u001b[39m\u001b[93m↑ FiniteDiff v2.11.0 ⇒ v2.11.1\u001b[39m\n",
      " \u001b[90m [f6369f11] \u001b[39m\u001b[93m↑ ForwardDiff v0.10.25 ⇒ v0.10.29\u001b[39m\n",
      " \u001b[90m [38e38edf] \u001b[39m\u001b[93m↑ GLM v1.6.1 ⇒ v1.7.0\u001b[39m\n",
      " \u001b[90m [28b8d3ca] \u001b[39m\u001b[93m↑ GR v0.64.1 ⇒ v0.64.2\u001b[39m\n",
      " \u001b[90m [a2cc645c] \u001b[39m\u001b[93m↑ GraphPlot v0.5.0 ⇒ v0.5.1\u001b[39m\n",
      " \u001b[90m [34004b35] \u001b[39m\u001b[91m- HypergeometricFunctions v0.3.8\u001b[39m\n",
      " \u001b[90m [a98d9a8b] \u001b[39m\u001b[93m↑ Interpolations v0.13.5 ⇒ v0.13.6\u001b[39m\n",
      " \u001b[90m [3587e190] \u001b[39m\u001b[93m↑ InverseFunctions v0.1.3 ⇒ v0.1.4\u001b[39m\n",
      " \u001b[90m [aa1ae85d] \u001b[39m\u001b[93m↑ JuliaInterpreter v0.9.11 ⇒ v0.9.13\u001b[39m\n",
      " \u001b[90m [23fbe1c1] \u001b[39m\u001b[93m↑ Latexify v0.15.14 ⇒ v0.15.15\u001b[39m\n",
      " \u001b[90m [2ab3a3ac] \u001b[39m\u001b[93m↑ LogExpFunctions v0.3.10 ⇒ v0.3.15\u001b[39m\n",
      " \u001b[90m [6f1432cf] \u001b[39m\u001b[93m↑ LoweredCodeUtils v2.2.1 ⇒ v2.2.2\u001b[39m\n",
      " \u001b[90m [453d265d] \u001b[39m\u001b[93m~ Mycelia v0.1.0 `https://github.com/cjprybol/Mycelia.git#master#master` ⇒ v0.1.0 `https://github.com/cjprybol/Mycelia.git#master#master`\u001b[39m\n",
      " \u001b[90m [510215fc] \u001b[39m\u001b[93m↑ Observables v0.4.0 ⇒ v0.5.1\u001b[39m\n",
      " \u001b[90m [6fe1bfb0] \u001b[39m\u001b[93m↑ OffsetArrays v1.10.8 ⇒ v1.11.0\u001b[39m\n",
      " \u001b[90m [90014a1f] \u001b[39m\u001b[93m↑ PDMats v0.11.7 ⇒ v0.11.10\u001b[39m\n",
      " \u001b[90m [69de0a69] \u001b[39m\u001b[93m↑ Parsers v2.2.3 ⇒ v2.3.1\u001b[39m\n",
      " \u001b[90m [ccf2f8ad] \u001b[39m\u001b[93m↑ PlotThemes v2.0.1 ⇒ v3.0.0\u001b[39m\n",
      " \u001b[90m [91a5bcdd] \u001b[39m\u001b[93m↑ Plots v1.27.3 ⇒ v1.29.0\u001b[39m\n",
      " \u001b[90m [2dfb63ee] \u001b[39m\u001b[93m↑ PooledArrays v1.4.1 ⇒ v1.4.2\u001b[39m\n",
      " \u001b[90m [21216c6a] \u001b[39m\u001b[93m↑ Preferences v1.2.5 ⇒ v1.3.0\u001b[39m\n",
      " \u001b[90m [aedffcd0] \u001b[39m\u001b[93m↑ Static v0.6.0 ⇒ v0.6.4\u001b[39m\n",
      " \u001b[90m [90137ffa] \u001b[39m\u001b[93m↑ StaticArrays v1.4.3 ⇒ v1.4.4\u001b[39m\n",
      " \u001b[90m [82ae8749] \u001b[39m\u001b[93m↑ StatsAPI v1.2.1 ⇒ v1.2.2\u001b[39m\n",
      " \u001b[90m [4c63d2b9] \u001b[39m\u001b[93m↑ StatsFuns v0.9.16 ⇒ v0.9.18\u001b[39m\n",
      " \u001b[90m [3eaba693] \u001b[39m\u001b[93m↑ StatsModels v0.6.29 ⇒ v0.6.30\u001b[39m\n",
      " \u001b[90m [f3b207a7] \u001b[39m\u001b[93m↑ StatsPlots v0.14.33 ⇒ v0.14.34\u001b[39m\n",
      " \u001b[90m [09ab397b] \u001b[39m\u001b[93m↑ StructArrays v0.6.5 ⇒ v0.6.7\u001b[39m\n",
      " \u001b[90m [62fd8b95] \u001b[39m\u001b[92m+ TensorCore v0.1.1\u001b[39m\n",
      " \u001b[90m [cc8bc4a8] \u001b[39m\u001b[93m↑ Widgets v0.6.5 ⇒ v0.6.6\u001b[39m\n",
      " \u001b[90m [fdbf4ff8] \u001b[39m\u001b[93m↑ XLSX v0.7.9 ⇒ v0.7.10\u001b[39m\n",
      " \u001b[90m [d2c73de3] \u001b[39m\u001b[93m↑ GR_jll v0.64.1+0 ⇒ v0.64.2+0\u001b[39m\n",
      " \u001b[90m [ea2cea3b] \u001b[39m\u001b[93m↑ Qt5Base_jll v5.15.3+0 ⇒ v5.15.3+1\u001b[39m\n",
      "\u001b[32m\u001b[1mPrecompiling\u001b[22m\u001b[39m project...\n",
      "\u001b[32m  ✓ \u001b[39m\u001b[90mObservables\u001b[39m\n",
      "\u001b[32m  ✓ \u001b[39m\u001b[90mTensorCore\u001b[39m\n",
      "\u001b[32m  ✓ \u001b[39m\u001b[90mInverseFunctions\u001b[39m\n",
      "\u001b[32m  ✓ \u001b[39m\u001b[90mPDMats\u001b[39m\n",
      "\u001b[32m  ✓ \u001b[39m\u001b[90mStatic\u001b[39m\n",
      "\u001b[32m  ✓ \u001b[39m\u001b[90mOffsetArrays\u001b[39m\n",
      "\u001b[32m  ✓ \u001b[39m\u001b[90mChangesOfVariables\u001b[39m\n",
      "\u001b[32m  ✓ \u001b[39m\u001b[90mDensityInterface\u001b[39m\n",
      "\u001b[32m  ✓ \u001b[39m\u001b[90mStructArrays\u001b[39m\n",
      "\u001b[32m  ✓ \u001b[39m\u001b[90mXLSX\u001b[39m\n",
      "\u001b[32m  ✓ \u001b[39mFileIO\n",
      "\u001b[32m  ✓ \u001b[39m\u001b[90mQt5Base_jll\u001b[39m\n",
      "\u001b[32m  ✓ \u001b[39mDataStructures\n",
      "\u001b[32m  ✓ \u001b[39m\u001b[90mArrayInterface\u001b[39m\n",
      "\u001b[32m  ✓ \u001b[39m\u001b[90mLogExpFunctions\u001b[39m\n",
      "\u001b[32m  ✓ \u001b[39mDocumenter\n",
      "\u001b[32m  ✓ \u001b[39m\u001b[90mQuadGK\u001b[39m\n",
      "\u001b[32m  ✓ \u001b[39m\u001b[90mGR_jll\u001b[39m\n",
      "\u001b[32m  ✓ \u001b[39m\u001b[90mSortingAlgorithms\u001b[39m\n",
      "\u001b[32m  ✓ \u001b[39m\u001b[90mGenomicFeatures\u001b[39m\n",
      "\u001b[32m  ✓ \u001b[39m\u001b[90mInterpolations\u001b[39m\n",
      "\u001b[32m  ✓ \u001b[39m\u001b[90mCSV\u001b[39m\n",
      "\u001b[32m  ✓ \u001b[39m\u001b[90mFiniteDiff\u001b[39m\n",
      "\u001b[32m  ✓ \u001b[39mStatsBase\n",
      "\u001b[32m  ✓ \u001b[39m\u001b[90mIndexes\u001b[39m\n",
      "\u001b[32m  ✓ \u001b[39m\u001b[90mGR\u001b[39m\n",
      "\u001b[32m  ✓ \u001b[39mGraphs\n",
      "\u001b[32m  ✓ \u001b[39m\u001b[90mSpecialFunctions\u001b[39m\n",
      "\u001b[32m  ✓ \u001b[39mLightGraphs\n",
      "\u001b[32m  ✓ \u001b[39m\u001b[90mGeometryBasics\u001b[39m\n",
      "\u001b[32m  ✓ \u001b[39m\u001b[90mCovarianceEstimation\u001b[39m\n",
      "\u001b[32m  ✓ \u001b[39mMultivariateStats\n",
      "\u001b[32m  ✓ \u001b[39m\u001b[90mColorTypes\u001b[39m\n",
      "\u001b[32m  ✓ \u001b[39mRollingFunctions\n",
      "\u001b[32m  ✓ \u001b[39m\u001b[90mDiffRules\u001b[39m\n",
      "\u001b[32m  ✓ \u001b[39m\u001b[90mClustering\u001b[39m\n",
      "\u001b[32m  ✓ \u001b[39m\u001b[90mNamedDims\u001b[39m\n",
      "\u001b[32m  ✓ \u001b[39mJLD2\n",
      "\u001b[32m  ✓ \u001b[39m\u001b[90mNetworkLayout\u001b[39m\n",
      "\u001b[32m  ✓ \u001b[39m\u001b[90mStatsFuns\u001b[39m\n",
      "\u001b[32m  ✓ \u001b[39m\u001b[90mColorVectorSpace\u001b[39m\n",
      "\u001b[32m  ✓ \u001b[39m\u001b[90mStatsModels\u001b[39m\n",
      "\u001b[32m  ✓ \u001b[39m\u001b[90mGeometryTypes\u001b[39m\n",
      "\u001b[32m  ✓ \u001b[39mMetaGraphs\n",
      "\u001b[32m  ✓ \u001b[39m\u001b[90mColors\u001b[39m\n",
      "\u001b[32m  ✓ \u001b[39m\u001b[90mForwardDiff\u001b[39m\n",
      "\u001b[32m  ✓ \u001b[39m\u001b[90mGFF3\u001b[39m\n",
      "\u001b[32m  ✓ \u001b[39m\u001b[90mWidgets\u001b[39m\n",
      "\u001b[32m  ✓ \u001b[39m\u001b[90mDistributions\u001b[39m\n",
      "\u001b[32m  ✓ \u001b[39m\u001b[90mNLSolversBase\u001b[39m\n",
      "\u001b[32m  ✓ \u001b[39m\u001b[90mCompose\u001b[39m\n",
      "\u001b[32m  ✓ \u001b[39m\u001b[90mImpute\u001b[39m\n",
      "\u001b[32m  ✓ \u001b[39m\u001b[90mColorSchemes\u001b[39m\n",
      "\u001b[32m  ✓ \u001b[39m\u001b[90mGLM\u001b[39m\n",
      "\u001b[32m  ✓ \u001b[39m\u001b[90mOptimBase\u001b[39m\n",
      "\u001b[32m  ✓ \u001b[39m\u001b[90mGraphPlot\u001b[39m\n",
      "\u001b[32m  ✓ \u001b[39m\u001b[90mKernelDensity\u001b[39m\n",
      "\u001b[32m  ✓ \u001b[39mLsqFit\n",
      "\u001b[32m  ✓ \u001b[39m\u001b[90mPlotUtils\u001b[39m\n",
      "\u001b[32m  ✓ \u001b[39m\u001b[90mRecipesPipeline\u001b[39m\n",
      "\u001b[32m  ✓ \u001b[39m\u001b[90mGraphRecipes\u001b[39m\n",
      "\u001b[32m  ✓ \u001b[39m\u001b[90mPlotThemes\u001b[39m\n",
      "\u001b[32m  ✓ \u001b[39mDataFrames\n",
      "\u001b[32m  ✓ \u001b[39muCSV\n",
      "\u001b[32m  ✓ \u001b[39mGenomicAnnotations\n",
      "\u001b[32m  ✓ \u001b[39mBioFetch\n",
      "\u001b[32m  ✓ \u001b[39mPlots\n",
      "\u001b[32m  ✓ \u001b[39mStatsPlots\n",
      "\u001b[32m  ✓ \u001b[39mMycelia\n",
      "  69 dependencies successfully precompiled in 138 seconds (191 already precompiled, 3 skipped during auto due to previous errors)\n",
      "┌ Info: Precompiling StatsPlots [f3b207a7-027a-5e70-b257-86293d7955fd]\n",
      "└ @ Base loading.jl:1342\n",
      "┌ Info: Precompiling Mycelia [453d265d-8292-4a7b-a57c-dce3f9ae6acd]\n",
      "└ @ Base loading.jl:1342\n",
      "WARNING: Method definition observe(R<:Union{FASTX.FASTA.Record, FASTX.FASTQ.Record}) where {R<:Union{FASTX.FASTA.Record, FASTX.FASTQ.Record}} in module Mycelia at /home/jupyter-cameron.prybol/.julia/packages/Mycelia/wm2TZ/src/sequence-interactions.jl:418 overwritten at /home/jupyter-cameron.prybol/.julia/packages/Mycelia/wm2TZ/src/sequence-interactions.jl:437.\n",
      "  ** incremental compilation may be fatally broken for this module **\n",
      "\n",
      "WARNING: Method definition observe##kw(Any, typeof(Mycelia.observe), R<:Union{FASTX.FASTA.Record, FASTX.FASTQ.Record}) where {R<:Union{FASTX.FASTA.Record, FASTX.FASTQ.Record}} in module Mycelia at /home/jupyter-cameron.prybol/.julia/packages/Mycelia/wm2TZ/src/sequence-interactions.jl:418 overwritten at /home/jupyter-cameron.prybol/.julia/packages/Mycelia/wm2TZ/src/sequence-interactions.jl:437.\n",
      "  ** incremental compilation may be fatally broken for this module **\n",
      "\n",
      "\u001b[33m\u001b[1m┌ \u001b[22m\u001b[39m\u001b[33m\u001b[1mWarning: \u001b[22m\u001b[39mReplacing docs for `Mycelia.observe :: Tuple{R} where R<:Union{FASTX.FASTA.Record, FASTX.FASTQ.Record}` in module `Mycelia`\n",
      "\u001b[33m\u001b[1m└ \u001b[22m\u001b[39m\u001b[90m@ Base.Docs docs/Docs.jl:240\u001b[39m\n"
     ]
    }
   ],
   "source": [
    "import Pkg\n",
    "Pkg.update()\n",
    "pkgs = [\n",
    "\"JSON\",\n",
    "\"HTTP\",\n",
    "\"Dates\",\n",
    "\"uCSV\",\n",
    "\"DelimitedFiles\",\n",
    "\"DataFrames\",\n",
    "\"ProgressMeter\",\n",
    "\"BioSequences\",\n",
    "\"FASTX\",\n",
    "\"Distances\",\n",
    "\"StatsPlots\",\n",
    "\"StatsBase\",\n",
    "\"Statistics\",\n",
    "\"MultivariateStats\",\n",
    "\"Random\",\n",
    "\"Primes\",\n",
    "\"SparseArrays\",\n",
    "\"SHA\",\n",
    "\"GenomicAnnotations\",\n",
    "\"Combinatorics\",\n",
    "\"OrderedCollections\",\n",
    "\"Downloads\",\n",
    "\"Clustering\",\n",
    "\"Revise\",\n",
    "\"Mmap\",\n",
    "\"Graphs\",\n",
    "\"MetaGraphs\",\n",
    "\"FileIO\",\n",
    "\"SHA\",\n",
    "\"MD5\"\n",
    "]\n",
    "\n",
    "for pkg in pkgs\n",
    "    try\n",
    "        eval(Meta.parse(\"import $pkg\"))\n",
    "    catch\n",
    "        Pkg.add(pkg)\n",
    "        eval(Meta.parse(\"import $pkg\"))\n",
    "    end\n",
    "end\n",
    "\n",
    "# works but can't update locally, need to push and restart kernel to activate changes\n",
    "# \"https://github.com/cjprybol/Mycelia.git#master\",\n",
    "# didn't work\n",
    "# \"$(homedir())/git/Mycelia#master\",\n",
    "pkg_path = \"$(homedir())/git/Mycelia\"\n",
    "try\n",
    "    eval(Meta.parse(\"import $(basename(pkg_path))\"))\n",
    "catch\n",
    "    # Pkg.add(url=pkg)\n",
    "    Pkg.develop(path=pkg_path)\n",
    "    # pkg = replace(basename(pkg), \".git#master\" => \"\")\n",
    "    # pkg = replace(basename(pkg), \"#master\" => \"\")\n",
    "    eval(Meta.parse(\"import $(basename(pkg_path))\"))\n",
    "end"
   ]
  },
  {
   "cell_type": "markdown",
   "metadata": {},
   "source": [
    "# Declare global parameters"
   ]
  },
  {
   "cell_type": "code",
   "execution_count": 3,
   "metadata": {},
   "outputs": [
    {
     "data": {
      "text/plain": [
       "\"41a45c7d\""
      ]
     },
     "execution_count": 3,
     "metadata": {},
     "output_type": "execute_result"
    }
   ],
   "source": [
    "# https://www.ncbi.nlm.nih.gov/Taxonomy/Browser/wwwtax.cgi?&id=$(tax_id)\n",
    "# https://www.ncbi.nlm.nih.gov/Taxonomy/Browser/wwwtax.cgi?lvl=0&amp;id=2733124\n",
    "# root_tax_id = 2733124\n",
    "\n",
    "root_tax_id = 10239\n",
    "# host = \"Escherichia\"\n",
    "database_id = \"41a45c7d\""
   ]
  },
  {
   "cell_type": "code",
   "execution_count": null,
   "metadata": {},
   "outputs": [
    {
     "data": {
      "text/plain": [
       "\"neo4j\""
      ]
     },
     "execution_count": 5,
     "metadata": {},
     "output_type": "execute_result"
    }
   ],
   "source": [
    "# NEO4J_BIN_DIR = \"/home/jupyter-cjprybol/software/neo4j-community-4.4.3/bin\"\n",
    "# if !occursin(NEO4J_BIN_DIR, ENV[\"PATH\"])\n",
    "#     ENV[\"PATH\"] = \"$(NEO4J_BIN_DIR):\" * ENV[\"PATH\"]\n",
    "# end\n",
    "USERNAME=\"neo4j\"\n",
    "# PASSWORD=readline(joinpath(homedir(), \".config\", \"neo4j\", \"$(database_id).pass\"));\n",
    "PASSWORD=\"PtvnGnnS58elLLVsGwfeovOLi5xdfPe0hTMrwa_WtbM\"\n",
    "ADDRESS=\"neo4j+s://$(database_id).databases.neo4j.io:7687\"\n",
    "DATABASE = \"neo4j\""
   ]
  },
  {
   "cell_type": "code",
   "execution_count": 12,
   "metadata": {},
   "outputs": [
    {
     "data": {
      "text/plain": [
       "taxonomic_id_to_children (generic function with 1 method)"
      ]
     },
     "execution_count": 12,
     "metadata": {},
     "output_type": "execute_result"
    }
   ],
   "source": [
    "function taxonomic_id_to_children(tax_id; DATABASE_ID, USERNAME, PASSWORD)\n",
    "    DATABASE = \"neo4j\"\n",
    "    ADDRESS=\"neo4j+s://$(database_id).databases.neo4j.io:7687\"\n",
    "    \n",
    "    # NOTE! *, or 0 distance (e.g. [*0..2]) step range will include source node!!!!\n",
    "    # cmd = \"MATCH (n)<-[*]-(n2) WHERE n.tax_id IS NOT NULL AND n.tax_id = \\\"$(tax_id)\\\" RETURN DISTINCT n2.tax_id AS tax_id\"\n",
    "    cmd = \"MATCH (n)-[*]->(n2) WHERE n.tax_id IS NOT NULL AND n.tax_id = \\\"$(tax_id)\\\" RETURN DISTINCT n2.tax_id AS tax_id\"\n",
    "    println(cmd)\n",
    "    \n",
    "    cypher = Mycelia.cypher(cmd, address=ADDRESS, username = USERNAME, password = PASSWORD, database = DATABASE)\n",
    "    tax_ids = readlines(open(cypher))[2:end]\n",
    "    tax_ids = strip.(tax_ids, '\"')\n",
    "    tax_ids = parse.(Int, tax_ids)\n",
    "    return unique(tax_ids)\n",
    "end"
   ]
  },
  {
   "cell_type": "code",
   "execution_count": 13,
   "metadata": {},
   "outputs": [
    {
     "name": "stdout",
     "output_type": "stream",
     "text": [
      "MATCH (n)-[*]->(n2) WHERE n.tax_id IS NOT NULL AND n.tax_id = \"10239\" RETURN DISTINCT n2.tax_id AS tax_id\n"
     ]
    },
    {
     "data": {
      "text/plain": [
       "227386-element Vector{Int64}:\n",
       " 2840056\n",
       " 2840070\n",
       " 1511852\n",
       " 2842693\n",
       " 2509616\n",
       " 1529056\n",
       " 2842638\n",
       " 1546257\n",
       " 1511854\n",
       "   29250\n",
       " 1128424\n",
       " 1511853\n",
       " 2844104\n",
       "       ⋮\n",
       "   12404\n",
       "   12403\n",
       "   12392\n",
       "   12388\n",
       "   12386\n",
       "   12375\n",
       "   12374\n",
       "   12371\n",
       "   12366\n",
       "   12347\n",
       "   12340\n",
       "   28368"
      ]
     },
     "execution_count": 13,
     "metadata": {},
     "output_type": "execute_result"
    }
   ],
   "source": [
    "# taxonomic_id_to_children(root_tax_id, DATABASE_ID=database_id, USERNAME=USERNAME, PASSWORD=PASSWORD)"
   ]
  },
  {
   "cell_type": "code",
   "execution_count": 23,
   "metadata": {},
   "outputs": [
    {
     "name": "stdout",
     "output_type": "stream",
     "text": [
      "MATCH (n)-[*]->(n2) WHERE n.tax_id IS NOT NULL AND n.tax_id = \"10239\" RETURN DISTINCT n2.tax_id AS tax_id\n"
     ]
    },
    {
     "data": {
      "text/plain": [
       "1273151-element Vector{Bool}:\n",
       " 0\n",
       " 0\n",
       " 0\n",
       " 0\n",
       " 0\n",
       " 0\n",
       " 0\n",
       " 0\n",
       " 0\n",
       " 0\n",
       " 0\n",
       " 0\n",
       " 0\n",
       " ⋮\n",
       " 0\n",
       " 0\n",
       " 0\n",
       " 0\n",
       " 0\n",
       " 0\n",
       " 0\n",
       " 0\n",
       " 0\n",
       " 0\n",
       " 0\n",
       " 0"
      ]
     },
     "execution_count": 23,
     "metadata": {},
     "output_type": "execute_result"
    }
   ],
   "source": [
    "# TODO\n",
    "# here is where we should apply a filter where host == Escherichia\n",
    "# need to load host information into neo4j taxonomy\n",
    "\n",
    "child_tax_ids = vcat(taxonomic_id_to_children(root_tax_id, DATABASE_ID=database_id, USERNAME=USERNAME, PASSWORD=PASSWORD), root_tax_id)\n",
    "# child_tax_ids = vcat(child_tax_ids, root_tax_id)\n",
    "\n",
    "# # refseq_metadata = Mycelia.load_refseq_metadata()\n",
    "ncbi_metadata = Mycelia.load_genbank_metadata()\n",
    "# ncbi_metadata = Mycelia.load_refseq_metadata()\n",
    "# show(ncbi_metadata[1:1, :], allcols=true)\n",
    "tax_id_filter = map(taxid -> taxid in child_tax_ids, ncbi_metadata[!, \"taxid\"])\n",
    "# is_right_host = map(x -> occursin(Regex(host, \"i\"), x), ncbi_metadata[!, \"organism_name\"])"
   ]
  },
  {
   "cell_type": "code",
   "execution_count": 24,
   "metadata": {},
   "outputs": [
    {
     "name": "stdout",
     "output_type": "stream",
     "text": [
      "count(full_filter) = 43440\n"
     ]
    },
    {
     "data": {
      "text/plain": [
       "43440"
      ]
     },
     "execution_count": 24,
     "metadata": {},
     "output_type": "execute_result"
    }
   ],
   "source": [
    "not_excluded = ncbi_metadata[!, \"excluded_from_refseq\"] .== \"\"\n",
    "is_full = ncbi_metadata[!, \"genome_rep\"] .== \"Full\"\n",
    "# assembly_levels = [\"Complete Genome\"]\n",
    "assembly_levels = [\"Complete Genome\", \"Chromosome\"]\n",
    "# assembly_levels = [\"Complete Genome\", \"Chromosome\", \"Scaffold\"]\n",
    "# assembly_levels = [\"Complete Genome\", \"Chromosome\", \"Scaffold\", \"Contig\"]\n",
    "assembly_level_filter = map(x -> x in assembly_levels, ncbi_metadata[!, \"assembly_level\"])\n",
    "full_filter = is_full .& not_excluded .& assembly_level_filter .& tax_id_filter\n",
    "@show count(full_filter)\n",
    "\n",
    "# 11403 for refseq\n",
    "# 43440 for genbank"
   ]
  },
  {
   "cell_type": "code",
   "execution_count": 25,
   "metadata": {},
   "outputs": [
    {
     "data": {
      "text/html": [
       "<div class=\"data-frame\"><p>43,440 rows × 23 columns (omitted printing of 17 columns)</p><table class=\"data-frame\"><thead><tr><th></th><th># assembly_accession</th><th>bioproject</th><th>biosample</th><th>wgs_master</th><th>refseq_category</th><th>taxid</th></tr><tr><th></th><th title=\"String\">String</th><th title=\"String\">String</th><th title=\"String\">String</th><th title=\"String\">String</th><th title=\"String\">String</th><th title=\"Int64\">Int64</th></tr></thead><tbody><tr><th>1</th><td>GCA_000529295.1</td><td>PRJEB4178</td><td>SAMEA3138851</td><td></td><td>na</td><td>10454</td></tr><tr><th>2</th><td>GCA_000529585.1</td><td>PRJEB4181</td><td>SAMEA3138859</td><td></td><td>na</td><td>10454</td></tr><tr><th>3</th><td>GCA_000530085.1</td><td>PRJEB4176</td><td>SAMEA3138873</td><td></td><td>na</td><td>10454</td></tr><tr><th>4</th><td>GCA_000530135.1</td><td>PRJEB4177</td><td>SAMEA3138875</td><td></td><td>na</td><td>10454</td></tr><tr><th>5</th><td>GCA_000530235.2</td><td>PRJEB4180</td><td>SAMEA3138878</td><td></td><td>na</td><td>10454</td></tr><tr><th>6</th><td>GCA_000530255.2</td><td>PRJEB4182</td><td>SAMEA3138879</td><td></td><td>na</td><td>10454</td></tr><tr><th>7</th><td>GCA_000689295.1</td><td>PRJEB4179</td><td>SAMEA3139003</td><td></td><td>na</td><td>10454</td></tr><tr><th>8</th><td>GCA_000819615.1</td><td></td><td></td><td></td><td>na</td><td>2886930</td></tr><tr><th>9</th><td>GCA_000820355.1</td><td></td><td></td><td></td><td>na</td><td>191289</td></tr><tr><th>10</th><td>GCA_000820495.2</td><td></td><td></td><td></td><td>na</td><td>518987</td></tr><tr><th>11</th><td>GCA_000836805.1</td><td></td><td></td><td></td><td>reference genome</td><td>90963</td></tr><tr><th>12</th><td>GCA_000836825.1</td><td></td><td></td><td></td><td>na</td><td>1891754</td></tr><tr><th>13</th><td>GCA_000836845.1</td><td></td><td></td><td></td><td>na</td><td>196399</td></tr><tr><th>14</th><td>GCA_000836865.1</td><td></td><td></td><td></td><td>na</td><td>2779844</td></tr><tr><th>15</th><td>GCA_000836885.1</td><td></td><td></td><td></td><td>na</td><td>57579</td></tr><tr><th>16</th><td>GCA_000836905.1</td><td></td><td></td><td></td><td>na</td><td>2905681</td></tr><tr><th>17</th><td>GCA_000836925.1</td><td></td><td></td><td></td><td>na</td><td>10868</td></tr><tr><th>18</th><td>GCA_000836945.1</td><td></td><td></td><td></td><td>reference genome</td><td>2681598</td></tr><tr><th>19</th><td>GCA_000836965.1</td><td></td><td></td><td></td><td>na</td><td>2681618</td></tr><tr><th>20</th><td>GCA_000836985.1</td><td></td><td></td><td></td><td>na</td><td>2681625</td></tr><tr><th>21</th><td>GCA_000837005.1</td><td></td><td></td><td></td><td>na</td><td>687377</td></tr><tr><th>22</th><td>GCA_000837025.1</td><td></td><td></td><td></td><td>na</td><td>10658</td></tr><tr><th>23</th><td>GCA_000837045.1</td><td></td><td></td><td></td><td>na</td><td>12474</td></tr><tr><th>24</th><td>GCA_000837065.1</td><td></td><td></td><td></td><td>na</td><td>1891770</td></tr><tr><th>25</th><td>GCA_000837085.1</td><td></td><td></td><td></td><td>na</td><td>10623</td></tr><tr><th>26</th><td>GCA_000837105.1</td><td></td><td></td><td></td><td>na</td><td>223359</td></tr><tr><th>27</th><td>GCA_000837125.1</td><td></td><td></td><td></td><td>na</td><td>262177</td></tr><tr><th>28</th><td>GCA_000837145.1</td><td></td><td></td><td></td><td>na</td><td>271108</td></tr><tr><th>29</th><td>GCA_000837165.1</td><td></td><td></td><td></td><td>na</td><td>127507</td></tr><tr><th>30</th><td>GCA_000837185.1</td><td></td><td></td><td></td><td>na</td><td>28321</td></tr><tr><th>&vellip;</th><td>&vellip;</td><td>&vellip;</td><td>&vellip;</td><td>&vellip;</td><td>&vellip;</td><td>&vellip;</td></tr></tbody></table></div>"
      ],
      "text/latex": [
       "\\begin{tabular}{r|ccccccc}\n",
       "\t& \\# assembly\\_accession & bioproject & biosample & wgs\\_master & refseq\\_category & taxid & \\\\\n",
       "\t\\hline\n",
       "\t& String & String & String & String & String & Int64 & \\\\\n",
       "\t\\hline\n",
       "\t1 & GCA\\_000529295.1 & PRJEB4178 & SAMEA3138851 &  & na & 10454 & $\\dots$ \\\\\n",
       "\t2 & GCA\\_000529585.1 & PRJEB4181 & SAMEA3138859 &  & na & 10454 & $\\dots$ \\\\\n",
       "\t3 & GCA\\_000530085.1 & PRJEB4176 & SAMEA3138873 &  & na & 10454 & $\\dots$ \\\\\n",
       "\t4 & GCA\\_000530135.1 & PRJEB4177 & SAMEA3138875 &  & na & 10454 & $\\dots$ \\\\\n",
       "\t5 & GCA\\_000530235.2 & PRJEB4180 & SAMEA3138878 &  & na & 10454 & $\\dots$ \\\\\n",
       "\t6 & GCA\\_000530255.2 & PRJEB4182 & SAMEA3138879 &  & na & 10454 & $\\dots$ \\\\\n",
       "\t7 & GCA\\_000689295.1 & PRJEB4179 & SAMEA3139003 &  & na & 10454 & $\\dots$ \\\\\n",
       "\t8 & GCA\\_000819615.1 &  &  &  & na & 2886930 & $\\dots$ \\\\\n",
       "\t9 & GCA\\_000820355.1 &  &  &  & na & 191289 & $\\dots$ \\\\\n",
       "\t10 & GCA\\_000820495.2 &  &  &  & na & 518987 & $\\dots$ \\\\\n",
       "\t11 & GCA\\_000836805.1 &  &  &  & reference genome & 90963 & $\\dots$ \\\\\n",
       "\t12 & GCA\\_000836825.1 &  &  &  & na & 1891754 & $\\dots$ \\\\\n",
       "\t13 & GCA\\_000836845.1 &  &  &  & na & 196399 & $\\dots$ \\\\\n",
       "\t14 & GCA\\_000836865.1 &  &  &  & na & 2779844 & $\\dots$ \\\\\n",
       "\t15 & GCA\\_000836885.1 &  &  &  & na & 57579 & $\\dots$ \\\\\n",
       "\t16 & GCA\\_000836905.1 &  &  &  & na & 2905681 & $\\dots$ \\\\\n",
       "\t17 & GCA\\_000836925.1 &  &  &  & na & 10868 & $\\dots$ \\\\\n",
       "\t18 & GCA\\_000836945.1 &  &  &  & reference genome & 2681598 & $\\dots$ \\\\\n",
       "\t19 & GCA\\_000836965.1 &  &  &  & na & 2681618 & $\\dots$ \\\\\n",
       "\t20 & GCA\\_000836985.1 &  &  &  & na & 2681625 & $\\dots$ \\\\\n",
       "\t21 & GCA\\_000837005.1 &  &  &  & na & 687377 & $\\dots$ \\\\\n",
       "\t22 & GCA\\_000837025.1 &  &  &  & na & 10658 & $\\dots$ \\\\\n",
       "\t23 & GCA\\_000837045.1 &  &  &  & na & 12474 & $\\dots$ \\\\\n",
       "\t24 & GCA\\_000837065.1 &  &  &  & na & 1891770 & $\\dots$ \\\\\n",
       "\t25 & GCA\\_000837085.1 &  &  &  & na & 10623 & $\\dots$ \\\\\n",
       "\t26 & GCA\\_000837105.1 &  &  &  & na & 223359 & $\\dots$ \\\\\n",
       "\t27 & GCA\\_000837125.1 &  &  &  & na & 262177 & $\\dots$ \\\\\n",
       "\t28 & GCA\\_000837145.1 &  &  &  & na & 271108 & $\\dots$ \\\\\n",
       "\t29 & GCA\\_000837165.1 &  &  &  & na & 127507 & $\\dots$ \\\\\n",
       "\t30 & GCA\\_000837185.1 &  &  &  & na & 28321 & $\\dots$ \\\\\n",
       "\t$\\dots$ & $\\dots$ & $\\dots$ & $\\dots$ & $\\dots$ & $\\dots$ & $\\dots$ &  \\\\\n",
       "\\end{tabular}\n"
      ],
      "text/plain": [
       "\u001b[1m43440×23 DataFrame\u001b[0m\n",
       "\u001b[1m   Row \u001b[0m│\u001b[1m # assembly_accession \u001b[0m\u001b[1m bioproject \u001b[0m\u001b[1m biosample      \u001b[0m\u001b[1m wgs_master \u001b[0m\u001b[1m refseq_\u001b[0m ⋯\n",
       "\u001b[1m       \u001b[0m│\u001b[90m String               \u001b[0m\u001b[90m String     \u001b[0m\u001b[90m String         \u001b[0m\u001b[90m String     \u001b[0m\u001b[90m String \u001b[0m ⋯\n",
       "───────┼────────────────────────────────────────────────────────────────────────\n",
       "     1 │ GCA_000529295.1       PRJEB4178   SAMEA3138851                na      ⋯\n",
       "     2 │ GCA_000529585.1       PRJEB4181   SAMEA3138859                na\n",
       "     3 │ GCA_000530085.1       PRJEB4176   SAMEA3138873                na\n",
       "     4 │ GCA_000530135.1       PRJEB4177   SAMEA3138875                na\n",
       "     5 │ GCA_000530235.2       PRJEB4180   SAMEA3138878                na      ⋯\n",
       "     6 │ GCA_000530255.2       PRJEB4182   SAMEA3138879                na\n",
       "     7 │ GCA_000689295.1       PRJEB4179   SAMEA3139003                na\n",
       "     8 │ GCA_000819615.1                                               na\n",
       "     9 │ GCA_000820355.1                                               na      ⋯\n",
       "    10 │ GCA_000820495.2                                               na\n",
       "    11 │ GCA_000836805.1                                               referen\n",
       "   ⋮   │          ⋮                ⋮             ⋮             ⋮               ⋱\n",
       " 43431 │ GCA_900474065.1       PRJEB26470  SAMEA4618967                na\n",
       " 43432 │ GCA_900474115.1       PRJEB26470  SAMEA4618975                na      ⋯\n",
       " 43433 │ GCA_900474125.1       PRJEB26470  SAMEA4618971                na\n",
       " 43434 │ GCA_900474145.1       PRJEB26470  SAMEA4618972                na\n",
       " 43435 │ GCA_900474155.1       PRJEB26470  SAMEA4618974                na\n",
       " 43436 │ GCA_900474255.1       PRJEB26470  SAMEA4618976                na      ⋯\n",
       " 43437 │ GCA_900474595.1       PRJEB26470  SAMEA4618977                na\n",
       " 43438 │ GCA_900500615.1       PRJEB26945  SAMEA4811322                na\n",
       " 43439 │ GCA_900562095.1       PRJEB21170  SAMEA104137311              na\n",
       " 43440 │ GCA_900604365.1       PRJEB8984   SAMEA3317914                na      ⋯\n",
       "\u001b[36m                                               19 columns and 43419 rows omitted\u001b[0m"
      ]
     },
     "execution_count": 25,
     "metadata": {},
     "output_type": "execute_result"
    }
   ],
   "source": [
    "indices = findall(full_filter)\n",
    "subset_n=0\n",
    "if subset_n != 0\n",
    "    indices = StatsBase.sample(indices, subset_n)\n",
    "end\n",
    "\n",
    "ncbi_metadata_of_interest = ncbi_metadata[indices, :]"
   ]
  },
  {
   "cell_type": "markdown",
   "metadata": {},
   "source": [
    "## Acquire pangenome input files"
   ]
  },
  {
   "cell_type": "code",
   "execution_count": 26,
   "metadata": {},
   "outputs": [
    {
     "name": "stderr",
     "output_type": "stream",
     "text": [
      "\u001b[32mProgress:  83%|█████████████████████████████████▉       |  ETA: 0:07:42\u001b[39m"
     ]
    },
    {
     "name": "stdout",
     "output_type": "stream",
     "text": [
      "Could not resolve host: na while requesting na/na_genomic.fna.gz"
     ]
    },
    {
     "name": "stderr",
     "output_type": "stream",
     "text": [
      "\u001b[32mProgress:  99%|████████████████████████████████████████▌|  ETA: 0:00:33\u001b[39m"
     ]
    },
    {
     "name": "stdout",
     "output_type": "stream",
     "text": [
      "Could not resolve host: na while requesting na/na_genomic.fna.gz"
     ]
    },
    {
     "name": "stderr",
     "output_type": "stream",
     "text": [
      "\u001b[32mProgress:  99%|████████████████████████████████████████▌|  ETA: 0:00:33\u001b[39m"
     ]
    },
    {
     "name": "stdout",
     "output_type": "stream",
     "text": [
      "Could not resolve host: na while requesting na/na_genomic.fna.gz"
     ]
    },
    {
     "name": "stderr",
     "output_type": "stream",
     "text": [
      "\u001b[32mProgress: 100%|█████████████████████████████████████████| Time: 0:43:20\u001b[39m\n"
     ]
    }
   ],
   "source": [
    "# can I also get genbank record?????\n",
    "# for extension in [\"genomic.fna.gz\", \"protein.faa.gz\"]\n",
    "# for extension in [\"genomic.fna.gz\", \"protein.faa.gz\", \"genomic.gbff.gz\"]\n",
    "# for extension in [\"genomic.gbff.gz\"]\n",
    "# for extension in [\"protein.faa.gz\"]\n",
    "# for extension in [\"genomic.fna.gz\", \"genomic.gbff.gz\"]\n",
    "for extension in [\"genomic.fna.gz\"]\n",
    "    outdir = mkpath(joinpath(DIR, extension))\n",
    "    ProgressMeter.@showprogress for row in DataFrames.eachrow(ncbi_metadata_of_interest)\n",
    "        url = Mycelia.ncbi_ftp_path_to_url(row[\"ftp_path\"], extension)\n",
    "        outfile = joinpath(outdir, basename(url))\n",
    "        if !isfile(outfile)\n",
    "            try\n",
    "                Downloads.download(url, outfile)\n",
    "            catch e\n",
    "                # @show e\n",
    "                showerror(stdout, e)\n",
    "                # @assert extension == \"protein.faa.gz\"\n",
    "                # here is where we should call prodigal to fill in protein annotations if we don't otherwise see them\n",
    "            end\n",
    "        end\n",
    "    end\n",
    "end"
   ]
  },
  {
   "cell_type": "code",
   "execution_count": null,
   "metadata": {},
   "outputs": [],
   "source": []
  }
 ],
 "metadata": {
  "kernelspec": {
   "display_name": "Julia 1.6.5",
   "language": "julia",
   "name": "julia-1.6"
  },
  "language_info": {
   "file_extension": ".jl",
   "mimetype": "application/julia",
   "name": "julia",
   "version": "1.6.5"
  }
 },
 "nbformat": 4,
 "nbformat_minor": 4
}
