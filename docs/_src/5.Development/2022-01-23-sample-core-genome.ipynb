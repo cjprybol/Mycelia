{
 "cells": [
  {
   "cell_type": "code",
   "execution_count": null,
   "metadata": {},
   "outputs": [],
   "source": [
    "DATE = \"2022-01-23\"\n",
    "TASK = \"sample-core-genome\"\n",
    "DIR = mkpath(\"$(homedir())/workspace/$(DATE)-$(TASK)\")\n",
    "cd(DIR)"
   ]
  },
  {
   "cell_type": "code",
   "execution_count": null,
   "metadata": {},
   "outputs": [],
   "source": [
    "pkgs = [\n",
    "    \"Graphs\",\n",
    "    \"MetaGraphs\",\n",
    "    \"FileIO\",\n",
    "    \"JLD2\",\n",
    "    \"DataStructures\",\n",
    "    \"BioSequences\",\n",
    "    \"Random\",\n",
    "    \"FASTX\",\n",
    "    \"Revise\",\n",
    "    \"StatsBase\"\n",
    "]\n",
    "\n",
    "import Pkg\n",
    "Pkg.add(pkgs)\n",
    "for pkg in pkgs\n",
    "    eval(Meta.parse(\"import $(basename(pkg))\"))\n",
    "end\n",
    "\n",
    "import Mycelia"
   ]
  },
  {
   "cell_type": "code",
   "execution_count": null,
   "metadata": {},
   "outputs": [],
   "source": [
    "function kmer_path_to_sequence(kmer_path)\n",
    "    sequence = BioSequences.LongDNASeq(first(kmer_path))\n",
    "    for kmer in kmer_path[2:end]\n",
    "        @assert kmer[1] == sequence[end-1]\n",
    "        @assert kmer[2] == sequence[end]\n",
    "        push!(sequence, kmer[end])\n",
    "    end\n",
    "    return sequence\n",
    "end"
   ]
  },
  {
   "cell_type": "code",
   "execution_count": null,
   "metadata": {},
   "outputs": [],
   "source": [
    "# vertices should either be entire graph (by default) or a connected component\n",
    "function find_graph_core(graph; vertices=collect(Graphs.vertices(graph)), seed=rand(Int))\n",
    "    \n",
    "    Random.seed!(seed)\n",
    "    \n",
    "    min_nodes = min(3, length(vertices))\n",
    "    # sample top max(2, 10%) of nodes\n",
    "    ten_percent = Int(round(length(vertices) * .10))\n",
    "    n_nodes_to_sample = max(min_nodes, ten_percent)\n",
    "    \n",
    "    kmers = [MetaGraphs.get_prop(graph, v, :kmer) for v in sort(vertices)]\n",
    "    counts = [MetaGraphs.get_prop(graph, :kmer_counts)[kmer] for kmer in kmers]\n",
    "    selected_nodes = StatsBase.sample(kmers, StatsBase.weights(counts), n_nodes_to_sample, replace=false)\n",
    "    \n",
    "    selected_node_counts = [MetaGraphs.get_prop(graph, :kmer_counts)[kmer] for kmer in selected_nodes]\n",
    "    starting_node = StatsBase.sample(selected_nodes, StatsBase.weights(selected_node_counts))\n",
    "    current_walk = [starting_node]\n",
    "    \n",
    "    targets = setdiff(selected_nodes, current_walk)\n",
    "    targets = Set(vcat(targets, BioSequences.reverse_complement.(targets)))\n",
    "    \n",
    "    prior_walk_length = length(current_walk)    \n",
    "    done = isempty(targets)\n",
    "    \n",
    "    while !done\n",
    "        forward_source = last(current_walk)\n",
    "        reverse_source = BioSequences.reverse_complement(first(current_walk))\n",
    "        forward_walk, forward_distance = Mycelia.dijkstra(graph, forward_source, targets, search_strategy=:DFS)\n",
    "        reverse_walk, reverse_distance = Mycelia.dijkstra(graph, reverse_source, targets, search_strategy=:DFS)\n",
    "        current_walk = vcat(reverse(BioSequences.reverse_complement.(reverse_walk))[1:end-1], current_walk, forward_walk[2:end])\n",
    "        targets = setdiff(targets, current_walk)\n",
    "        if isempty(targets)\n",
    "#             @show \"done because we've found all the targets\"\n",
    "            done = true\n",
    "        elseif length(current_walk) == prior_walk_length \n",
    "#             @show \"done because walk did not expand\"\n",
    "            done = true\n",
    "        else\n",
    "            prior_walk_length = length(current_walk)\n",
    "        end\n",
    "    end\n",
    "\n",
    "    forward_source = last(current_walk)\n",
    "    reverse_source = BioSequences.reverse_complement(first(current_walk))\n",
    "    forward_walk, forward_distance = Mycelia.dijkstra(graph, forward_source, targets, search_strategy=:DFS)\n",
    "    reverse_walk, reverse_distance = Mycelia.dijkstra(graph, reverse_source, targets, search_strategy=:DFS)\n",
    "    current_walk = vcat(reverse(BioSequences.reverse_complement.(reverse_walk))[1:end-1], current_walk, forward_walk[2:end])    \n",
    "    return current_walk\n",
    "end     "
   ]
  },
  {
   "cell_type": "code",
   "execution_count": null,
   "metadata": {},
   "outputs": [],
   "source": [
    "# Create a reference sequence\n",
    "refseq = BioSequences.randdnaseq(Random.seed!(2), 9)"
   ]
  },
  {
   "cell_type": "code",
   "execution_count": null,
   "metadata": {},
   "outputs": [],
   "source": [
    "altseq = copy(refseq)\n",
    "altseq[5] = BioSequences.DNA_T\n",
    "altseq"
   ]
  },
  {
   "cell_type": "code",
   "execution_count": null,
   "metadata": {},
   "outputs": [],
   "source": [
    "fasta_file = \"$(DIR)/test.fasta\"\n",
    "open(fasta_file, \"w\") do io\n",
    "    fastx_io = FASTX.FASTA.Writer(io)\n",
    "    i = 1\n",
    "    for x in 1:2\n",
    "        write(fastx_io, FASTX.FASTA.Record(\"$i\", refseq))\n",
    "        i += 1\n",
    "    end\n",
    "    write(fastx_io, FASTX.FASTA.Record(\"$i\", altseq))\n",
    "    close(fastx_io)\n",
    "end\n",
    "println(read(fasta_file, String))"
   ]
  },
  {
   "cell_type": "code",
   "execution_count": null,
   "metadata": {},
   "outputs": [],
   "source": [
    "k = 3\n",
    "T = BioSequences.DNAMer{3}"
   ]
  },
  {
   "cell_type": "code",
   "execution_count": null,
   "metadata": {},
   "outputs": [],
   "source": [
    "graph = Mycelia.fastx_to_kmer_graph(T, fasta_file)"
   ]
  },
  {
   "cell_type": "code",
   "execution_count": null,
   "metadata": {},
   "outputs": [],
   "source": [
    "Mycelia.plot_graph(graph)"
   ]
  },
  {
   "cell_type": "code",
   "execution_count": null,
   "metadata": {},
   "outputs": [],
   "source": [
    "seed = 0\n",
    "core_path = find_graph_core(graph, seed=seed)"
   ]
  },
  {
   "cell_type": "code",
   "execution_count": null,
   "metadata": {},
   "outputs": [],
   "source": [
    "selected_vertices = map(canonical_kmer -> graph[canonical_kmer, :kmer], unique(BioSequences.canonical.(core_path)))\n",
    "subgraph, vertex_map = Graphs.induced_subgraph(graph, selected_vertices)\n",
    "Mycelia.plot_graph(subgraph)"
   ]
  },
  {
   "cell_type": "code",
   "execution_count": null,
   "metadata": {},
   "outputs": [],
   "source": [
    "reconstruted_sequence = kmer_path_to_sequence(core_path)"
   ]
  },
  {
   "cell_type": "code",
   "execution_count": null,
   "metadata": {},
   "outputs": [],
   "source": [
    "refseq"
   ]
  },
  {
   "cell_type": "code",
   "execution_count": null,
   "metadata": {},
   "outputs": [],
   "source": [
    "Mycelia.is_equivalent(reconstruted_sequence, refseq)"
   ]
  },
  {
   "cell_type": "code",
   "execution_count": null,
   "metadata": {},
   "outputs": [],
   "source": [
    "seed += 1\n",
    "core_path = find_graph_core(graph, seed=seed)"
   ]
  }
 ],
 "metadata": {
  "kernelspec": {
   "display_name": "Julia 1.6.3",
   "language": "julia",
   "name": "julia-1.6"
  },
  "language_info": {
   "file_extension": ".jl",
   "mimetype": "application/julia",
   "name": "julia",
   "version": "1.6.3"
  }
 },
 "nbformat": 4,
 "nbformat_minor": 4
}
