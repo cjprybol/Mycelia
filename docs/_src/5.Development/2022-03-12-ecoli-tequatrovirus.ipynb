{
 "cells": [
  {
   "cell_type": "markdown",
   "metadata": {},
   "source": [
    "# Core Proteome"
   ]
  },
  {
   "cell_type": "markdown",
   "metadata": {},
   "source": [
    "# Initialize Directory"
   ]
  },
  {
   "cell_type": "code",
   "execution_count": 1,
   "metadata": {},
   "outputs": [
    {
     "data": {
      "text/plain": [
       "2-element Vector{Union{Nothing, SubString{String}}}:\n",
       " \"2022-03-12\"\n",
       " \"ecoli-tequatrovirus\""
      ]
     },
     "execution_count": 1,
     "metadata": {},
     "output_type": "execute_result"
    }
   ],
   "source": [
    "DATE_TASK = \"2022-03-12-ecoli-tequatrovirus\"\n",
    "DIR = mkpath(\"$(homedir())/workspace/$DATE_TASK\")\n",
    "cd(DIR)\n",
    "DATE, TASK = match(r\"^(\\d{4}-\\d{2}-\\d{2})-(.*)$\", DATE_TASK).captures"
   ]
  },
  {
   "cell_type": "markdown",
   "metadata": {},
   "source": [
    "# Import Packages"
   ]
  },
  {
   "cell_type": "code",
   "execution_count": 2,
   "metadata": {},
   "outputs": [
    {
     "name": "stderr",
     "output_type": "stream",
     "text": [
      "\u001b[32m\u001b[1m    Updating\u001b[22m\u001b[39m registry at `~/.julia/registries/General`\n",
      "\u001b[32m\u001b[1m    Updating\u001b[22m\u001b[39m git-repo `https://github.com/cjprybol/Mycelia.git#master`\n",
      "\u001b[32m\u001b[1m   Installed\u001b[22m\u001b[39m ArrayInterface ─ v5.0.3\n",
      "\u001b[32m\u001b[1m  No Changes\u001b[22m\u001b[39m to `~/git/Mycelia/docs/Project.toml`\n",
      "\u001b[32m\u001b[1m    Updating\u001b[22m\u001b[39m `~/git/Mycelia/docs/Manifest.toml`\n",
      " \u001b[90m [4fba245c] \u001b[39m\u001b[93m↑ ArrayInterface v5.0.2 ⇒ v5.0.3\u001b[39m\n",
      "\u001b[32m\u001b[1mPrecompiling\u001b[22m\u001b[39m project...\n",
      "\u001b[32m  ✓ \u001b[39m\u001b[90mArrayInterface\u001b[39m\n",
      "\u001b[32m  ✓ \u001b[39m\u001b[90mFiniteDiff\u001b[39m\n",
      "\u001b[32m  ✓ \u001b[39m\u001b[90mNLSolversBase\u001b[39m\n",
      "\u001b[32m  ✓ \u001b[39m\u001b[90mOptimBase\u001b[39m\n",
      "\u001b[32m  ✓ \u001b[39mLsqFit\n",
      "\u001b[32m  ✓ \u001b[39mMycelia\n",
      "  6 dependencies successfully precompiled in 38 seconds (247 already precompiled, 9 skipped during auto due to previous errors)\n"
     ]
    }
   ],
   "source": [
    "import Pkg\n",
    "Pkg.update()\n",
    "pkgs = [\n",
    "\"JSON\",\n",
    "\"HTTP\",\n",
    "\"Dates\",\n",
    "\"uCSV\",\n",
    "\"DelimitedFiles\",\n",
    "\"DataFrames\",\n",
    "\"ProgressMeter\",\n",
    "\"BioSequences\",\n",
    "\"FASTX\",\n",
    "\"Distances\",\n",
    "\"StatsPlots\",\n",
    "\"StatsBase\",\n",
    "\"Statistics\",\n",
    "\"MultivariateStats\",\n",
    "\"Random\",\n",
    "\"Primes\",\n",
    "\"SparseArrays\",\n",
    "\"SHA\",\n",
    "\"GenomicAnnotations\",\n",
    "\"Combinatorics\",\n",
    "\"OrderedCollections\",\n",
    "\"Downloads\",\n",
    "\"Clustering\",\n",
    "\"Revise\",\n",
    "\"Mmap\",\n",
    "\"LsqFit\",\n",
    "\"BioSymbols\"\n",
    "]\n",
    "\n",
    "for pkg in pkgs\n",
    "    try\n",
    "        eval(Meta.parse(\"import $pkg\"))\n",
    "    catch\n",
    "        Pkg.add(pkg)\n",
    "        eval(Meta.parse(\"import $pkg\"))\n",
    "    end\n",
    "end\n",
    "\n",
    "# works but can't update locally, need to push and restart kernel to activate changes\n",
    "# \"https://github.com/cjprybol/Mycelia.git#master\",\n",
    "# didn't work\n",
    "# \"$(homedir())/git/Mycelia#master\",\n",
    "pkg_path = \"$(homedir())/git/Mycelia\"\n",
    "try\n",
    "    eval(Meta.parse(\"import $(basename(pkg_path))\"))\n",
    "catch\n",
    "    # Pkg.add(url=pkg)\n",
    "    Pkg.develop(path=pkg_path)\n",
    "    # pkg = replace(basename(pkg), \".git#master\" => \"\")\n",
    "    # pkg = replace(basename(pkg), \"#master\" => \"\")\n",
    "    eval(Meta.parse(\"import $(basename(pkg_path))\"))\n",
    "end"
   ]
  },
  {
   "cell_type": "markdown",
   "metadata": {},
   "source": [
    "# Initialize Functions"
   ]
  },
  {
   "cell_type": "code",
   "execution_count": 3,
   "metadata": {},
   "outputs": [
    {
     "data": {
      "text/plain": [
       "wcss (generic function with 1 method)"
      ]
     },
     "execution_count": 3,
     "metadata": {},
     "output_type": "execute_result"
    }
   ],
   "source": [
    "function wcss(clustering_result)\n",
    "    n_clusters = length(clustering_result.counts)\n",
    "    total_squared_cost = 0.0\n",
    "    for cluster_id in 1:n_clusters\n",
    "        cluster_indices = clustering_result.assignments .== cluster_id\n",
    "        total_squared_cost += sum(clustering_result.costs[cluster_indices] .^ 2)\n",
    "    end\n",
    "    return total_squared_cost\n",
    "end"
   ]
  },
  {
   "cell_type": "code",
   "execution_count": 4,
   "metadata": {},
   "outputs": [
    {
     "data": {
      "text/plain": [
       "generate_all_possible_kmers (generic function with 1 method)"
      ]
     },
     "execution_count": 4,
     "metadata": {},
     "output_type": "execute_result"
    }
   ],
   "source": [
    "function generate_all_possible_kmers(k, alphabet)\n",
    "    kmer_iterator = Iterators.product([alphabet for i in 1:k]...)\n",
    "    kmer_vectors = collect.(vec(collect(kmer_iterator)))\n",
    "    if eltype(alphabet) == BioSymbols.AminoAcid\n",
    "        kmers = BioSequences.LongAminoAcidSeq.(kmer_vectors)\n",
    "        if k > 1\n",
    "            filter!(kmer -> kmer[1] != BioSequences.AA_Term, kmers)\n",
    "        end\n",
    "    elseif eltype(alphabet) == BioSymbols.DNA\n",
    "        kmers = BioSequences.LongDNASeq.(kmer_vectors)\n",
    "    else\n",
    "        error()\n",
    "    end\n",
    "    return sort!(kmers)\n",
    "end"
   ]
  },
  {
   "cell_type": "code",
   "execution_count": 5,
   "metadata": {},
   "outputs": [
    {
     "data": {
      "text/plain": [
       "assess_aamer_saturation (generic function with 3 methods)"
      ]
     },
     "execution_count": 5,
     "metadata": {},
     "output_type": "execute_result"
    }
   ],
   "source": [
    "function assess_aamer_saturation(fasta_records::AbstractVector{FASTX.FASTA.Record}, k; kmers_to_assess=Inf, power=10)\n",
    "    kmers = Set{BioSequences.LongAminoAcidSeq}()\n",
    "    \n",
    "    max_possible_kmers = length(generate_all_possible_kmers(k, Mycelia.AA_ALPHABET))\n",
    "    \n",
    "    if kmers_to_assess == Inf\n",
    "        kmers_to_assess = max_possible_kmers\n",
    "    end\n",
    "    \n",
    "    sampling_points = Int[0]\n",
    "    i = 0\n",
    "    while power^i <= kmers_to_assess\n",
    "        push!(sampling_points, power^i)\n",
    "        i += 1\n",
    "    end\n",
    "    \n",
    "    unique_kmer_counts = zeros(Int, length(sampling_points))\n",
    "    \n",
    "    if length(sampling_points) < 3\n",
    "        @info \"increase the # of reads analyzed or decrease the power to acquire more data points\"\n",
    "        return (;sampling_points, unique_kmer_counts)\n",
    "    end\n",
    "    \n",
    "    p = ProgressMeter.Progress(kmers_to_assess, 1)\n",
    "    \n",
    "    kmers_assessed = 0\n",
    "    for record in fasta_records\n",
    "        # for kmer in BioSequences.each(kmer_type, FASTX.sequence(record))\n",
    "        for i in 1:length(FASTX.sequence(record))-k+1\n",
    "            kmer = FASTX.sequence(record)[i:i+k-1]\n",
    "            push!(kmers, kmer)\n",
    "            kmers_assessed += 1\n",
    "            if (length(kmers) == max_possible_kmers)                 \n",
    "                sampling_points = vcat(filter(s -> s < kmers_assessed, sampling_points), [kmers_assessed])\n",
    "                unique_kmer_counts = vcat(unique_kmer_counts[1:length(sampling_points)-1], length(kmers))\n",
    "                return (;sampling_points, unique_kmer_counts, eof = false)\n",
    "            elseif kmers_assessed in sampling_points\n",
    "                i = findfirst(sampling_points .== kmers_assessed)\n",
    "                unique_kmer_counts[i] = length(kmers)\n",
    "                if i == length(sampling_points)\n",
    "                    return (sampling_points = sampling_points, unique_kmer_counts = unique_kmer_counts, eof = false)\n",
    "                end\n",
    "            end\n",
    "            ProgressMeter.next!(p)\n",
    "        end\n",
    "    end\n",
    "    sampling_points = vcat(filter(s -> s < kmers_assessed, sampling_points), [kmers_assessed])\n",
    "    unique_kmer_counts = vcat(unique_kmer_counts[1:length(sampling_points)-1], [length(kmers)])    \n",
    "    return (sampling_points = sampling_points, unique_kmer_counts = unique_kmer_counts, eof = true)\n",
    "end\n",
    "\n",
    "\n",
    "function assess_aamer_saturation(fastxs::AbstractVector{String}, k; kmers_to_assess=Inf, power=10)\n",
    "    kmers = Set{BioSequences.LongAminoAcidSeq}()\n",
    "    \n",
    "    max_possible_kmers = length(generate_all_possible_kmers(k, Mycelia.AA_ALPHABET))\n",
    "    \n",
    "    if kmers_to_assess == Inf\n",
    "        kmers_to_assess = max_possible_kmers\n",
    "    end\n",
    "    \n",
    "    sampling_points = Int[0]\n",
    "    i = 0\n",
    "    while power^i <= kmers_to_assess\n",
    "        push!(sampling_points, power^i)\n",
    "        i += 1\n",
    "    end\n",
    "    \n",
    "    unique_kmer_counts = zeros(Int, length(sampling_points))\n",
    "    \n",
    "    if length(sampling_points) < 3\n",
    "        @info \"increase the # of reads analyzed or decrease the power to acquire more data points\"\n",
    "        return (;sampling_points, unique_kmer_counts)\n",
    "    end\n",
    "    \n",
    "    p = ProgressMeter.Progress(kmers_to_assess, 1)\n",
    "    \n",
    "    kmers_assessed = 0\n",
    "    for fastx in fastxs\n",
    "        for record in Mycelia.open_fastx(fastx)\n",
    "            # for kmer in BioSequences.each(kmer_type, FASTX.sequence(record))\n",
    "            for i in 1:length(FASTX.sequence(record))-k+1\n",
    "                kmer = FASTX.sequence(record)[i:i+k-1]\n",
    "                push!(kmers, kmer)\n",
    "                kmers_assessed += 1\n",
    "                if (length(kmers) == max_possible_kmers)                 \n",
    "                    sampling_points = vcat(filter(s -> s < kmers_assessed, sampling_points), [kmers_assessed])\n",
    "                    unique_kmer_counts = vcat(unique_kmer_counts[1:length(sampling_points)-1], length(kmers))\n",
    "                    return (;sampling_points, unique_kmer_counts, eof = false)\n",
    "                elseif kmers_assessed in sampling_points\n",
    "                    i = findfirst(sampling_points .== kmers_assessed)\n",
    "                    unique_kmer_counts[i] = length(kmers)\n",
    "                    if i == length(sampling_points)\n",
    "                        return (sampling_points = sampling_points, unique_kmer_counts = unique_kmer_counts, eof = false)\n",
    "                    end\n",
    "                end\n",
    "                ProgressMeter.next!(p)\n",
    "            end\n",
    "        end\n",
    "    end\n",
    "    sampling_points = vcat(filter(s -> s < kmers_assessed, sampling_points), [kmers_assessed])\n",
    "    unique_kmer_counts = vcat(unique_kmer_counts[1:length(sampling_points)-1], [length(kmers)])    \n",
    "    return (sampling_points = sampling_points, unique_kmer_counts = unique_kmer_counts, eof = true)\n",
    "end\n",
    "\n",
    "function assess_aamer_saturation(fastxs; outdir=\"\", min_k=1, max_k=15, threshold=0.1)\n",
    "    \n",
    "    if isempty(outdir)\n",
    "        outdir = joinpath(pwd(), \"aamer-saturation\")\n",
    "    end\n",
    "    mkpath(outdir)\n",
    "    \n",
    "    ks = Primes.primes(min_k, max_k)\n",
    "    ks = min_k:max_k\n",
    "    minimum_saturation = Inf\n",
    "    midpoint = Inf\n",
    "    \n",
    "    \n",
    "    \n",
    "    for k in ks\n",
    "        kmers_to_assess = 10_000_000\n",
    "        sampling_points, kmer_counts, hit_eof = assess_aamer_saturation(fastxs, k, kmers_to_assess=kmers_to_assess)\n",
    "        @show sampling_points, kmer_counts, hit_eof\n",
    "        observed_midpoint_index = findfirst(i -> kmer_counts[i] > last(kmer_counts)/2, 1:length(sampling_points))\n",
    "        observed_midpoint = sampling_points[observed_midpoint_index]\n",
    "        initial_parameters = Float64[maximum(kmer_counts), observed_midpoint]\n",
    "        @time fit = LsqFit.curve_fit(Mycelia.calculate_v, sampling_points, kmer_counts, initial_parameters)\n",
    "        if hit_eof\n",
    "            inferred_maximum = last(kmer_counts)\n",
    "        else\n",
    "            inferred_maximum = max(Int(ceil(fit.param[1])), last(kmer_counts))\n",
    "        end\n",
    "\n",
    "        max_possible_kmers = length(generate_all_possible_kmers(k, Mycelia.AA_ALPHABET))\n",
    "        \n",
    "        inferred_midpoint = Int(ceil(fit.param[2]))\n",
    "        predicted_saturation = inferred_maximum / max_possible_kmers\n",
    "        @show k, predicted_saturation\n",
    "\n",
    "        p = StatsPlots.scatter(\n",
    "            sampling_points,\n",
    "            kmer_counts,\n",
    "            label=\"observed kmer counts\",\n",
    "            ylabel=\"# unique kmers\",\n",
    "            xlabel=\"# kmers assessed\",\n",
    "            title = \"sequencing saturation @ k = $k\",\n",
    "            legend=:outertopright,\n",
    "            size=(800, 400),\n",
    "            margins=3StatsPlots.PlotMeasures.mm\n",
    "            )\n",
    "        StatsPlots.hline!(p, [max_possible_kmers], label=\"absolute maximum\")\n",
    "        StatsPlots.hline!(p, [inferred_maximum], label=\"inferred maximum\")\n",
    "        StatsPlots.vline!(p, [inferred_midpoint], label=\"inferred midpoint\")\n",
    "        # xs = vcat(sampling_points, [last(sampling_points) * 2^i for i in 1:2])\n",
    "        xs = sort([sampling_points..., inferred_midpoint])\n",
    "        ys = Mycelia.calculate_v(xs, fit.param)\n",
    "        StatsPlots.plot!(\n",
    "            p,\n",
    "            xs,\n",
    "            ys,\n",
    "            label=\"fit trendline\")\n",
    "        display(p)\n",
    "        StatsPlots.savefig(p, joinpath(outdir, \"$k.png\"))\n",
    "        StatsPlots.savefig(p, joinpath(outdir, \"$k.svg\"))\n",
    "\n",
    "        if predicted_saturation < minimum_saturation\n",
    "            minimum_saturation = predicted_saturation\n",
    "            min_k = k\n",
    "            midpoint = inferred_midpoint \n",
    "        end\n",
    "        if predicted_saturation < threshold\n",
    "            chosen_k_file = joinpath(outdir, \"chosen_k.txt\")\n",
    "            println(\"chosen k = $k\")\n",
    "            open(chosen_k_file, \"w\") do io\n",
    "                println(io, k)\n",
    "            end\n",
    "            return k\n",
    "        end\n",
    "    end\n",
    "end"
   ]
  },
  {
   "cell_type": "code",
   "execution_count": 6,
   "metadata": {},
   "outputs": [
    {
     "data": {
      "text/plain": [
       "normalize_ncbi_description (generic function with 1 method)"
      ]
     },
     "execution_count": 6,
     "metadata": {},
     "output_type": "execute_result"
    }
   ],
   "source": [
    "function normalize_ncbi_description(description::AbstractString)\n",
    "    # e.g. \"hypothetical protein ecml134_001 [escherichia phage ecml-134]\"\n",
    "    # will return \"hypothetical protein\"\n",
    "    # @show description\n",
    "    description = replace(description, r\"\\s*\\[.*?\\]$\" => \"\")\n",
    "    # @show description\n",
    "    description = replace(description, r\"\\s*[a-z0-9]+_[0-9]+$\" => \"\")\n",
    "    # @show description\n",
    "    return description\n",
    "end"
   ]
  },
  {
   "cell_type": "code",
   "execution_count": 7,
   "metadata": {},
   "outputs": [
    {
     "data": {
      "text/plain": [
       "document_frequency (generic function with 1 method)"
      ]
     },
     "execution_count": 7,
     "metadata": {},
     "output_type": "execute_result"
    }
   ],
   "source": [
    "function document_frequency(documents)\n",
    "    document_tokens = Set(split(strip(first(documents))))\n",
    "    countmap = StatsBase.countmap(document_tokens)\n",
    "    for document in documents[2:end]\n",
    "        document_tokens = Set(split(strip(document)))\n",
    "        this_countmap = StatsBase.countmap(document_tokens)\n",
    "        merge!(+, countmap, this_countmap)\n",
    "    end\n",
    "    return countmap\n",
    "end"
   ]
  },
  {
   "cell_type": "code",
   "execution_count": 8,
   "metadata": {},
   "outputs": [],
   "source": [
    "# function fit_optimal_number_of_clusters(distance_matrix)\n",
    "#     ks_to_try = vcat([2^i for i in 0:Int(floor(log2(size(distance_matrix, 1))))], size(distance_matrix, 1))\n",
    "#     # @info \"ks = $(ks_to_try)\"\n",
    "#     @show ks_to_try\n",
    "    \n",
    "#     # can calculate this for k >= 1\n",
    "#     # within_cluster_sum_of_squares = Union{Float64, Missing}[]\n",
    "#     within_cluster_sum_of_squares = Float64[]\n",
    "#     # these are only valid for k >= 2 so set initial value to missing\n",
    "#     # between_cluster_sum_of_squares = [missing, zeros(length(ks_to_try)-1)...]\n",
    "#     # silhouette_scores = Union{Float64, Missing}[]\n",
    "#     silhouette_scores = Float64[]\n",
    "        \n",
    "#     current_k_index = 1\n",
    "#     # @info \"assessing k = $(ks_to_try[current_k_index])\"\n",
    "#     @show ks_to_try[current_k_index]\n",
    "#     this_clustering = Clustering.kmeans(distance_matrix, ks_to_try[current_k_index])\n",
    "#     push!(within_cluster_sum_of_squares, wcss(this_clustering))\n",
    "#     push!(silhouette_scores, 0)\n",
    "\n",
    "#     if length(ks_to_try) == 1\n",
    "#         optimal_number_of_clusters = ks_to_try[current_k_index]\n",
    "#     else\n",
    "#         current_k_index += 1\n",
    "#         # @info \"assessing k = $(ks_to_try[current_k_index])\"\n",
    "#         @show ks_to_try[current_k_index]\n",
    "#         this_clustering = Clustering.kmeans(distance_matrix, ks_to_try[current_k_index])\n",
    "#         push!(within_cluster_sum_of_squares, wcss(this_clustering))\n",
    "#         # push!(silhouette_scores, Statistics.mean(Clustering.silhouettes(this_clustering, distance_matrix)))\n",
    "#         this_silhouette_score = Statistics.mean(Clustering.silhouettes(this_clustering, distance_matrix))\n",
    "#         # this_silhouette_score /= log10(ks_to_try[current_k_index])\n",
    "#         push!(silhouette_scores, this_silhouette_score)\n",
    "        \n",
    "#         if (within_cluster_sum_of_squares[2] >= within_cluster_sum_of_squares[1])\n",
    "#             optimal_number_of_clusters = ks_to_try[1]\n",
    "#         else\n",
    "#             optimal_number_of_clusters = ks_to_try[2]\n",
    "#             if length(ks_to_try) > 2\n",
    "#                 current_k_index += 1\n",
    "#                 @show ks_to_try[current_k_index]\n",
    "#                 # @info \"assessing k = $(ks_to_try[current_k_index])\"\n",
    "#                 this_clustering = Clustering.kmeans(distance_matrix, ks_to_try[current_k_index])\n",
    "#                 push!(within_cluster_sum_of_squares, wcss(this_clustering))\n",
    "#                 # push!(silhouette_scores, Statistics.mean(Clustering.silhouettes(this_clustering, distance_matrix)))\n",
    "#                 this_silhouette_score = Statistics.mean(Clustering.silhouettes(this_clustering, distance_matrix))\n",
    "#                 # this_silhouette_score /= log10(ks_to_try[current_k_index])\n",
    "#                 push!(silhouette_scores, this_silhouette_score)\n",
    "                \n",
    "#                 while (silhouette_scores[end] > silhouette_scores[end-1]) &&\n",
    "#                         (within_cluster_sum_of_squares[end] < within_cluster_sum_of_squares[end-1]) &&\n",
    "#                         (current_k_index < length(ks_to_try))\n",
    "#                     current_k_index += 1\n",
    "#                     @show ks_to_try[current_k_index]\n",
    "#                     # @info \"assessing k = $(ks_to_try[current_k_index])\"\n",
    "#                     this_clustering = Clustering.kmeans(distance_matrix, ks_to_try[current_k_index])\n",
    "#                     push!(within_cluster_sum_of_squares, wcss(this_clustering))\n",
    "#                     # push!(silhouette_scores, Statistics.mean(Clustering.silhouettes(this_clustering, distance_matrix)))\n",
    "#                     this_silhouette_score = Statistics.mean(Clustering.silhouettes(this_clustering, distance_matrix))\n",
    "#                     # this_silhouette_score /= log10(ks_to_try[current_k_index])\n",
    "#                     push!(silhouette_scores, this_silhouette_score)\n",
    "#                 end\n",
    "#                 # here is where we should start grid searching within the best range\n",
    "#                 optimal_silhouette, optimal_index = findmax(silhouette_scores)\n",
    "#                 optimal_number_of_clusters = ks_to_try[optimal_index]\n",
    "#                 # @info \"refining...\"\n",
    "#                 @show \"refining\"\n",
    "#                 # @info \"current optimal number of clusters = $(ks_to_try[optimal_index])\"\n",
    "#                 # @show ks_to_try[optimal_index]\n",
    "#                 # @info \"current best silhouette score = $(optimal_silhouette)\"\n",
    "#                 @show optimal_silhouette\n",
    "                                \n",
    "#                 if optimal_index != length(ks_to_try)\n",
    "#                     window_of_focus = ks_to_try[optimal_index-1:optimal_index+1]\n",
    "                    \n",
    "#                     k_to_try = Int(round(Statistics.mean(window_of_focus[1:2])))\n",
    "#                     insertion_index = first(searchsorted(ks_to_try, k_to_try))\n",
    "#                     if ks_to_try[insertion_index] != k_to_try\n",
    "#                         insert!(ks_to_try, insertion_index, k_to_try)\n",
    "#                         # @info \"assessing k = $(k_to_try)\"\n",
    "#                         @show k_to_try\n",
    "#                         this_clustering = Clustering.kmeans(distance_matrix, k_to_try)\n",
    "#                         insert!(within_cluster_sum_of_squares, insertion_index, wcss(this_clustering))\n",
    "#                         # insert!(silhouette_scores, insertion_index, Statistics.mean(Clustering.silhouettes(this_clustering, distance_matrix)))\n",
    "#                         this_silhouette_score = Statistics.mean(Clustering.silhouettes(this_clustering, distance_matrix))\n",
    "#                         # this_silhouette_score /= log10(k_to_try)\n",
    "#                         insert!(silhouette_scores, insertion_index, this_silhouette_score)\n",
    "#                     end\n",
    "\n",
    "#                     k_to_try = Int(round(Statistics.mean(window_of_focus[2:3])))\n",
    "#                     insertion_index = first(searchsorted(ks_to_try, k_to_try))\n",
    "#                     if ks_to_try[insertion_index] != k_to_try\n",
    "#                         # @info \"assessing k = $(k_to_try)\"\n",
    "#                         @show k_to_try\n",
    "#                         this_clustering = Clustering.kmeans(distance_matrix, k_to_try)\n",
    "#                         insert!(ks_to_try, insertion_index, k_to_try)\n",
    "#                         insert!(within_cluster_sum_of_squares, insertion_index, wcss(this_clustering))\n",
    "#                         # insert!(silhouette_scores, insertion_index, Statistics.mean(Clustering.silhouettes(this_clustering, distance_matrix)))\n",
    "#                         this_silhouette_score = Statistics.mean(Clustering.silhouettes(this_clustering, distance_matrix))\n",
    "#                         # this_silhouette_score /= log10(k_to_try)\n",
    "#                         insert!(silhouette_scores, insertion_index, this_silhouette_score)\n",
    "#                     end\n",
    "                    \n",
    "#                     new_optimal_silhouette, new_optimal_index = findmax(silhouette_scores)\n",
    "#                     new_optimal_number_of_clusters = ks_to_try[new_optimal_index]\n",
    "                    \n",
    "#                     while (new_optimal_number_of_clusters != optimal_number_of_clusters) && (new_optimal_index != length(ks_to_try))\n",
    "#                         optimal_number_of_clusters = new_optimal_number_of_clusters\n",
    "#                         optimal_index = new_optimal_index\n",
    "#                         optimal_silhouette = new_optimal_silhouette\n",
    "#                         # @info \"current optimal number of clusters = $(ks_to_try[optimal_index])\"\n",
    "#                         @show ks_to_try[optimal_index]\n",
    "#                         # @info \"current best silhouette score = $(optimal_silhouette)\"\n",
    "#                         @show optimal_silhouette\n",
    "                        \n",
    "#                         window_of_focus = ks_to_try[optimal_index-1:optimal_index+1]\n",
    "\n",
    "#                         k_to_try = Int(round(Statistics.mean(window_of_focus[1:2])))\n",
    "#                         insertion_index = first(searchsorted(ks_to_try, k_to_try))\n",
    "#                         if ks_to_try[insertion_index] != k_to_try\n",
    "#                             # @info \"assessing k = $(k_to_try)\"\n",
    "#                             @show k_to_try\n",
    "#                             this_clustering = Clustering.kmeans(distance_matrix, k_to_try)\n",
    "#                             insert!(ks_to_try, insertion_index, k_to_try)\n",
    "#                             insert!(within_cluster_sum_of_squares, insertion_index, wcss(this_clustering))\n",
    "#                             # insert!(silhouette_scores, insertion_index, Statistics.mean(Clustering.silhouettes(this_clustering, distance_matrix)))\n",
    "#                             this_silhouette_score = Statistics.mean(Clustering.silhouettes(this_clustering, distance_matrix))\n",
    "#                             # this_silhouette_score /= log10(k_to_try)\n",
    "#                             insert!(silhouette_scores, insertion_index, this_silhouette_score)\n",
    "#                         end\n",
    "\n",
    "#                         k_to_try = Int(round(Statistics.mean(window_of_focus[2:3])))\n",
    "#                         insertion_index = first(searchsorted(ks_to_try, k_to_try))\n",
    "#                         if ks_to_try[insertion_index] != k_to_try\n",
    "#                             # @info \"assessing k = $(k_to_try)\"\n",
    "#                             @show k_to_try\n",
    "#                             this_clustering = Clustering.kmeans(distance_matrix, k_to_try)\n",
    "#                             insert!(ks_to_try, insertion_index, k_to_try)\n",
    "#                             insert!(within_cluster_sum_of_squares, insertion_index, wcss(this_clustering))\n",
    "#                             # insert!(silhouette_scores, insertion_index, Statistics.mean(Clustering.silhouettes(this_clustering, distance_matrix)))\n",
    "#                             this_silhouette_score = Statistics.mean(Clustering.silhouettes(this_clustering, distance_matrix))\n",
    "#                             # this_silhouette_score /= log10(k_to_try)\n",
    "#                             insert!(silhouette_scores, insertion_index, this_silhouette_score)\n",
    "#                         end\n",
    "\n",
    "#                         new_optimal_silhouette, new_optimal_index = findmax(silhouette_scores)\n",
    "#                         new_optimal_number_of_clusters = ks_to_try[new_optimal_index]\n",
    "#                     end\n",
    "#                 end\n",
    "#             end\n",
    "#         end\n",
    "#     end\n",
    "#     @assert length(within_cluster_sum_of_squares) == length(silhouette_scores)\n",
    "#     ks_assessed = ks_to_try[1:length(within_cluster_sum_of_squares)]\n",
    "#     return optimal_number_of_clusters, ks_assessed, within_cluster_sum_of_squares, silhouette_scores\n",
    "# end"
   ]
  },
  {
   "cell_type": "code",
   "execution_count": 9,
   "metadata": {},
   "outputs": [
    {
     "data": {
      "text/plain": [
       "fit_optimal_number_of_clusters (generic function with 1 method)"
      ]
     },
     "execution_count": 9,
     "metadata": {},
     "output_type": "execute_result"
    }
   ],
   "source": [
    "function fit_optimal_number_of_clusters(distance_matrix)\n",
    "    ks_to_try = [1, Int(round(size(distance_matrix, 1)/2)), size(distance_matrix, 1)]\n",
    "    \n",
    "    # Int(round(size(distance_matrix, 1)/2))\n",
    "    # insert!(ks_to_try, 2, Int(round(size(distance_matrix, 1)))))\n",
    "    # ks_to_try = vcat([2^i for i in 0:Int(floor(log2(size(distance_matrix, 1))))], size(distance_matrix, 1))\n",
    "    # @info \"ks = $(ks_to_try)\"\n",
    "    @show ks_to_try\n",
    "    \n",
    "    # can calculate this for k >= 1\n",
    "    # within_cluster_sum_of_squares = Union{Float64, Missing}[]\n",
    "    within_cluster_sum_of_squares = Float64[]\n",
    "    # these are only valid for k >= 2 so set initial value to missing\n",
    "    # between_cluster_sum_of_squares = [missing, zeros(length(ks_to_try)-1)...]\n",
    "    # silhouette_scores = Union{Float64, Missing}[]\n",
    "    silhouette_scores = Float64[]\n",
    "        \n",
    "    for k in ks_to_try\n",
    "        this_clustering = Clustering.kmeans(distance_matrix, k)\n",
    "        push!(within_cluster_sum_of_squares, wcss(this_clustering))\n",
    "        if k == 1\n",
    "            push!(silhouette_scores, 0)\n",
    "        else\n",
    "            this_silhouette_score = Statistics.mean(Clustering.silhouettes(this_clustering, distance_matrix))\n",
    "            push!(silhouette_scores, this_silhouette_score)\n",
    "        end\n",
    "    end            \n",
    "    optimal_silhouette, optimal_index = findmax(silhouette_scores)\n",
    "    previous_optimal_number_of_clusters = 0\n",
    "    optimal_number_of_clusters = ks_to_try[optimal_index]\n",
    "    done = false\n",
    "    while optimal_number_of_clusters != previous_optimal_number_of_clusters\n",
    "        @show optimal_number_of_clusters\n",
    "        if optimal_index == 1\n",
    "            window_of_focus = ks_to_try[optimal_index:optimal_index+1]\n",
    "            insert!(window_of_focus, 2, Int(round(Statistics.mean(window_of_focus))))\n",
    "        elseif optimal_index == length(ks_to_try)\n",
    "            window_of_focus = ks_to_try[optimal_index-1:optimal_index]\n",
    "            insert!(window_of_focus, 2, Int(round(Statistics.mean(window_of_focus))))\n",
    "        else\n",
    "            window_of_focus = ks_to_try[optimal_index-1:optimal_index+1]\n",
    "        end\n",
    "        # @show window_of_focus\n",
    "        midpoints = [\n",
    "            Int(round(Statistics.mean(window_of_focus[1:2]))),\n",
    "            Int(round(Statistics.mean(window_of_focus[2:3])))\n",
    "            ]\n",
    "        # @show sort(vcat(midpoints, window_of_focus))\n",
    "        @show midpoints\n",
    "        \n",
    "        for k in midpoints\n",
    "            insertion_index = first(searchsorted(ks_to_try, k))\n",
    "            if ks_to_try[insertion_index] != k\n",
    "                insert!(ks_to_try, insertion_index, k)\n",
    "                # @show k\n",
    "                this_clustering = Clustering.kmeans(distance_matrix, k)\n",
    "                insert!(within_cluster_sum_of_squares, insertion_index, wcss(this_clustering))\n",
    "                this_silhouette_score = Statistics.mean(Clustering.silhouettes(this_clustering, distance_matrix))\n",
    "                insert!(silhouette_scores, insertion_index, this_silhouette_score)\n",
    "            end\n",
    "        end\n",
    "        \n",
    "        previous_optimal_number_of_clusters = optimal_number_of_clusters\n",
    "        optimal_silhouette, optimal_index = findmax(silhouette_scores)\n",
    "        optimal_number_of_clusters = ks_to_try[optimal_index]\n",
    "    end\n",
    "    @assert length(within_cluster_sum_of_squares) == length(silhouette_scores)\n",
    "    ks_assessed = ks_to_try[1:length(within_cluster_sum_of_squares)]\n",
    "    return optimal_number_of_clusters, ks_assessed, within_cluster_sum_of_squares, silhouette_scores\n",
    "end"
   ]
  },
  {
   "cell_type": "markdown",
   "metadata": {},
   "source": [
    "# Define Parameters"
   ]
  },
  {
   "cell_type": "code",
   "execution_count": 12,
   "metadata": {},
   "outputs": [
    {
     "data": {
      "text/plain": [
       "10"
      ]
     },
     "execution_count": 12,
     "metadata": {},
     "output_type": "execute_result"
    }
   ],
   "source": [
    "# https://www.ncbi.nlm.nih.gov/Taxonomy/Browser/wwwtax.cgi?&id=$(tax_id)\n",
    "# https://www.ncbi.nlm.nih.gov/Taxonomy/Browser/wwwtax.cgi?lvl=0&amp;id=2733124\n",
    "# https://www.ncbi.nlm.nih.gov/Taxonomy/Browser/wwwtax.cgi?id=10663\n",
    "root_tax_id = 10663\n",
    "host = \"Escherichia\"\n",
    "\n",
    "# # set to 0 for no subsetting\n",
    "# subset_n = 0\n",
    "\n",
    "# 2 was too small and produced unstable results\n",
    "# subset_n = 2\n",
    "subset_n = 10"
   ]
  },
  {
   "cell_type": "markdown",
   "metadata": {},
   "source": [
    "# Workflow"
   ]
  },
  {
   "cell_type": "markdown",
   "metadata": {},
   "source": [
    "## Filter down all NCBI entities to get relevant metadata info"
   ]
  },
  {
   "cell_type": "code",
   "execution_count": 13,
   "metadata": {},
   "outputs": [],
   "source": [
    "# # TODO\n",
    "# # here is where we should apply a filter where host == Escherichia\n",
    "# # need to load host information into neo4j taxonomy\n",
    "\n",
    "# child_tax_ids = vcat(Mycelia.taxonomic_id_to_children(root_tax_id), root_tax_id)\n",
    "# # child_tax_ids = vcat(child_tax_ids, root_tax_id)\n",
    "\n",
    "# # # refseq_metadata = Mycelia.load_refseq_metadata()\n",
    "# ncbi_metadata = Mycelia.load_genbank_metadata()"
   ]
  },
  {
   "cell_type": "code",
   "execution_count": 14,
   "metadata": {},
   "outputs": [],
   "source": [
    "# # show(ncbi_metadata[1:1, :], allcols=true)\n",
    "# tax_id_filter = map(taxid -> taxid in child_tax_ids, ncbi_metadata[!, \"taxid\"])\n",
    "# is_right_host = map(x -> occursin(Regex(host, \"i\"), x), ncbi_metadata[!, \"organism_name\"])\n",
    "# not_excluded = ncbi_metadata[!, \"excluded_from_refseq\"] .== \"\"\n",
    "# is_full = ncbi_metadata[!, \"genome_rep\"] .== \"Full\"\n",
    "# # assembly_levels = [\"Complete Genome\"]\n",
    "# assembly_levels = [\"Complete Genome\", \"Chromosome\"]\n",
    "# # assembly_levels = [\"Complete Genome\", \"Chromosome\", \"Scaffold\"]\n",
    "# # assembly_levels = [\"Complete Genome\", \"Chromosome\", \"Scaffold\", \"Contig\"]\n",
    "# assembly_level_filter = map(x -> x in assembly_levels, ncbi_metadata[!, \"assembly_level\"])\n",
    "# full_filter = is_full .& not_excluded .& assembly_level_filter .& tax_id_filter .& is_right_host\n",
    "# @show count(full_filter)\n",
    "\n",
    "# indices = findall(full_filter)\n",
    "\n",
    "# if subset_n != 0\n",
    "#     indices = StatsBase.sample(indices, subset_n)\n",
    "# end\n",
    "\n",
    "# ncbi_metadata_of_interest = ncbi_metadata[StatsBase.sample(indices, subset_n), :]"
   ]
  },
  {
   "cell_type": "markdown",
   "metadata": {},
   "source": [
    "## Acquire pangenome input files"
   ]
  },
  {
   "cell_type": "code",
   "execution_count": 15,
   "metadata": {},
   "outputs": [],
   "source": [
    "# # can I also get genbank record?????\n",
    "# # for extension in [\"genomic.fna.gz\", \"protein.faa.gz\"]\n",
    "# for extension in [\"genomic.fna.gz\", \"protein.faa.gz\", \"genomic.gbff.gz\"]\n",
    "#     outdir = mkpath(joinpath(DIR, extension))\n",
    "#     ProgressMeter.@showprogress for row in DataFrames.eachrow(ncbi_metadata_of_interest)\n",
    "#         url = Mycelia.ncbi_ftp_path_to_url(row[\"ftp_path\"], extension)\n",
    "#         outfile = joinpath(outdir, basename(url))\n",
    "#         if !isfile(outfile)\n",
    "#             try\n",
    "#                 Downloads.download(url, outfile)\n",
    "#             catch e\n",
    "#                 # @show e\n",
    "#                 showerror(stdout, e)\n",
    "#                 # @assert extension == \"protein.faa.gz\"\n",
    "#                 # here is where we should call prodigal to fill in protein annotations if we don't otherwise see them\n",
    "#             end\n",
    "#         end\n",
    "#     end\n",
    "# end"
   ]
  },
  {
   "cell_type": "markdown",
   "metadata": {},
   "source": [
    "## Assess Protein Clusters\n",
    "\n",
    "### This section generates a distance matrix for the individual proteins, so we can find clusters"
   ]
  },
  {
   "cell_type": "code",
   "execution_count": 82,
   "metadata": {},
   "outputs": [
    {
     "data": {
      "text/plain": [
       "8-element Vector{String}:\n",
       " \"/home/jupyter-cameron.prybol/workspace/2022-03-12-ecoli-tequatrovirus/protein.faa.gz/GCA_000925055.1_ViralProj266786_protein.faa.gz\"\n",
       " \"/home/jupyter-cameron.prybol/workspace/2022-03-12-ecoli-tequatrovirus/protein.faa.gz/GCA_002618005.2_ASM261800v1_protein.faa.gz\"\n",
       " \"/home/jupyter-cameron.prybol/workspace/2022-03-12-ecoli-tequatrovirus/protein.faa.gz/GCA_005394485.1_ASM539448v1_protein.faa.gz\"\n",
       " \"/home/jupyter-cameron.prybol/workspace/2022-03-12-ecoli-tequatrovirus/protein.faa.gz/GCA_005394635.1_ASM539463v1_protein.faa.gz\"\n",
       " \"/home/jupyter-cameron.prybol/workspace/2022-03-12-ecoli-tequatrovirus/protein.faa.gz/GCA_020474825.1_ASM2047482v1_protein.faa.gz\"\n",
       " \"/home/jupyter-cameron.prybol/workspace/2022-03-12-ecoli-tequatrovirus/protein.faa.gz/GCA_020474885.1_ASM2047488v1_protein.faa.gz\"\n",
       " \"/home/jupyter-cameron.prybol/workspace/2022-03-12-ecoli-tequatrovirus/protein.faa.gz/GCA_020869095.1_ASM2086909v1_protein.faa.gz\"\n",
       " \"/home/jupyter-cameron.prybol/workspace/2022-03-12-ecoli-tequatrovirus/protein.faa.gz/GCA_022343355.1_ASM2234335v1_protein.faa.gz\""
      ]
     },
     "execution_count": 82,
     "metadata": {},
     "output_type": "execute_result"
    }
   ],
   "source": [
    "extension = \"protein.faa.gz\"\n",
    "outdir = mkpath(joinpath(DIR, extension))\n",
    "joint_fasta_outfile = outdir * \".joint.faa.gz\"\n",
    "fastx_files = filter(x -> !occursin(\".ipynb_checkpoints\", x), readdir(outdir, join=true))"
   ]
  },
  {
   "cell_type": "code",
   "execution_count": 31,
   "metadata": {},
   "outputs": [],
   "source": [
    "\n",
    "# record_table = DataFrames.DataFrame(\n",
    "#     fastx_file = String[],\n",
    "#     record_identifier = String[],\n",
    "#     record_description = String[]\n",
    "# )\n",
    "# ProgressMeter.@showprogress for fastx_file in fastx_files\n",
    "#     for record in Mycelia.open_fastx(fastx_file)\n",
    "#         row = (\n",
    "#             fastx_file = fastx_file,\n",
    "#             record_identifier = FASTX.identifier(record),\n",
    "#             record_description = FASTX.description(record)\n",
    "#         )\n",
    "#         push!(record_table, row)\n",
    "#     end\n",
    "# end\n",
    "# record_table\n",
    "# if !isfile(joint_fasta_outfile)\n",
    "#     open(joint_fasta_outfile, \"w\") do io\n",
    "#         for fastx_file in fastx_files\n",
    "#             write(io, read(fastx_file))\n",
    "#         end\n",
    "#     end\n",
    "# end"
   ]
  },
  {
   "cell_type": "code",
   "execution_count": 32,
   "metadata": {},
   "outputs": [],
   "source": [
    "# # conda install -c bioconda diamond\n",
    "# @time run(`diamond makedb --in $(joint_fasta_outfile) -d $(joint_fasta_outfile)`)\n",
    "\n",
    "# N_RECORDS = DataFrames.nrow(record_table)\n",
    "# sensitivity = [\n",
    "#     # \"--fast\",                   #enable fast mode\n",
    "#     # \"--mid-sensitive\",          #enable mid-sensitive mode\n",
    "#     # \"--sensitive\",              #enable sensitive mode\n",
    "#     # \"--more-sensitive\",         #enable more sensitive mode\n",
    "#     # \"--very-sensitive\",         #enable very sensitive mode\n",
    "#     # \"--ultra-sensitive\",        #enable ultra sensitive mode\n",
    "#     \"--iterate\"                #iterated search with increasing sensitivity\n",
    "# ]\n",
    "\n",
    "# # iterate\n",
    "# # Total time = 1.16s\n",
    "# # Reported 46718 pairwise alignments, 46718 HSPs.\n",
    "# # sensitive\n",
    "# # Total time = 5.673s\n",
    "# # Reported 49976 pairwise alignments, 49976 HSPs.\n",
    "# # ultra sensitive\n",
    "# # Total time = 14.939s\n",
    "# # Reported 52446 pairwise alignments, 52446 HSPs.\n",
    "\n",
    "\n",
    "# @time run(`diamond blastp $(sensitivity) --id 0 --min-score 0 --max-target-seqs $(N_RECORDS) --unal 1 --outfmt 6 qseqid sseqid pident length mismatch gapopen qlen qstart qend slen sstart send evalue bitscore -d $(joint_fasta_outfile).dmnd -q $(joint_fasta_outfile) -o $(joint_fasta_outfile).diamond.tsv`)\n",
    "# # pairwise output is all of the alignments, super helpful!\n",
    "# # @time run(`diamond blastp $(sensitivity) --id 0 --min-score 0 --max-target-seqs $(N_RECORDS) --unal 1 --outfmt 0  -d $(joint_fasta_outfile).dmnd -q $(joint_fasta_outfile) -o $(joint_fasta_outfile).diamond.pairwise.txt`)"
   ]
  },
  {
   "cell_type": "code",
   "execution_count": 33,
   "metadata": {},
   "outputs": [],
   "source": [
    "# column_names_to_types = [\n",
    "#     \"qseqid\" => String,\n",
    "#     \"sseqid\" => String,\n",
    "#     \"pident\" => Float64,\n",
    "#     \"length\" => Int,\n",
    "#     \"mismatch\" => Int,\n",
    "#     \"gapopen\" => Int,\n",
    "#     \"qlen\" => Int,\n",
    "#     \"qstart\" => Int,\n",
    "#     \"qend\" => Int,\n",
    "#     \"slen\" => Int,\n",
    "#     \"sstart\" => Int,\n",
    "#     \"send\" => Int,\n",
    "#     \"evalue\" => Float64,\n",
    "#     \"bitscore\" => Float64,\n",
    "# ]"
   ]
  },
  {
   "cell_type": "code",
   "execution_count": 34,
   "metadata": {},
   "outputs": [],
   "source": [
    "# use to infer column types\n",
    "# println(join(first.(column_names_to_types), '\\t'))\n",
    "# open(\"$(joint_fasta_outfile).diamond.tsv\") do io\n",
    "#     println(readline(io))\n",
    "#     println(readline(io))\n",
    "#     println(readline(io))\n",
    "# end"
   ]
  },
  {
   "cell_type": "code",
   "execution_count": 35,
   "metadata": {},
   "outputs": [],
   "source": [
    "# # type_detect_rows = max(countlines(\"$(joint_fasta_outfile).diamond.tsv\") / 10, 2_000)\n",
    "# blastp_results = DataFrames.DataFrame(uCSV.read(\"$(joint_fasta_outfile).diamond.tsv\", header=0, delim='\\t', types = Dict(i => t for (i, t) in enumerate(last.(column_names_to_types))))[1], first.(column_names_to_types))\n",
    "# uCSV.write(\"$(joint_fasta_outfile).diamond.with_header.tsv\", blastp_results, delim='\\t')\n",
    "# show(blastp_results, allcols=true)"
   ]
  },
  {
   "cell_type": "code",
   "execution_count": 36,
   "metadata": {},
   "outputs": [],
   "source": [
    "# id_to_index_map = Dict(identifier => i for (i, identifier) in enumerate(record_table[!, \"record_identifier\"]))"
   ]
  },
  {
   "cell_type": "code",
   "execution_count": 37,
   "metadata": {},
   "outputs": [],
   "source": [
    "# distance_matrix = ones(N_RECORDS, N_RECORDS)\n",
    "# for row in DataFrames.eachrow(blastp_results)\n",
    "#     row_idx = id_to_index_map[row[\"qseqid\"]]\n",
    "#     col_idx = id_to_index_map[row[\"sseqid\"]]\n",
    "#     # distance = 1 - (row[\"pident\"] / 100)\n",
    "#     sequence_identity = row[\"pident\"] / 100\n",
    "#     size_identity = row[\"length\"] / max(row[\"qlen\"], row[\"slen\"])\n",
    "#     overall_identity = sequence_identity * size_identity\n",
    "#     distance = 1 - (overall_identity)\n",
    "#     distance_matrix[row_idx, col_idx] = distance\n",
    "# end\n",
    "# distance_matrix"
   ]
  },
  {
   "cell_type": "code",
   "execution_count": 38,
   "metadata": {
    "tags": []
   },
   "outputs": [],
   "source": [
    "# just percent identity\n",
    "# Summary Stats:\n",
    "# Length:         13942756\n",
    "# Missing Count:  0\n",
    "# Mean:           0.996645\n",
    "# Minimum:        0.000000\n",
    "# 1st Quartile:   1.000000\n",
    "# Median:         1.000000\n",
    "# 3rd Quartile:   1.000000\n",
    "# Maximum:        1.000000\n",
    "# Type:           Float64\n",
    "\n",
    "# percent size and percent identity\n",
    "# Summary Stats:\n",
    "# Length:         13942756\n",
    "# Missing Count:  0\n",
    "# Mean:           0.996742\n",
    "# Minimum:        0.000000\n",
    "# 1st Quartile:   1.000000\n",
    "# Median:         1.000000\n",
    "# 3rd Quartile:   1.000000\n",
    "# Maximum:        1.000000\n",
    "# Type:           Float64\n",
    "\n",
    "# StatsBase.describe(vec(distance_matrix))"
   ]
  },
  {
   "cell_type": "code",
   "execution_count": 39,
   "metadata": {},
   "outputs": [],
   "source": [
    "# # sample_n = min(size(distance_matrix, 1), 10_000)\n",
    "# # sample_n = size(distance_matrix, 1)\n",
    "# # sample_indices = StatsBase.sample(1:size(distance_matrix, 1), sample_n, ordered=true)\n",
    "# # 517.958321 seconds (282.75 k allocations: 1.888 GiB, 10.37% gc time, 0.06% compilation time)\n",
    "\n",
    "# # @time optimal_number_of_clusters, ks_assessed, within_cluster_sum_of_squares, silhouette_scores = fit_optimal_number_of_clusters(distance_matrix[sample_indices, sample_indices])\n",
    "# @time optimal_number_of_clusters, ks_assessed, within_cluster_sum_of_squares, silhouette_scores = fit_optimal_number_of_clusters(distance_matrix)"
   ]
  },
  {
   "cell_type": "code",
   "execution_count": 40,
   "metadata": {},
   "outputs": [],
   "source": [
    "# p1 = StatsPlots.plot(\n",
    "#     ks_assessed[1:length(within_cluster_sum_of_squares)],\n",
    "#     within_cluster_sum_of_squares,\n",
    "#     ylabel = \"within cluster sum of squares\\n(lower is better)\",\n",
    "#     xlabel = \"n clusters\",\n",
    "#     legend=false\n",
    "# )\n",
    "# StatsPlots.vline!(p1, [optimal_number_of_clusters])\n",
    "# p2 = StatsPlots.plot(\n",
    "#     ks_assessed[1:length(silhouette_scores)],\n",
    "#     silhouette_scores,\n",
    "#     ylabel = \"silhouette scores\\n(higher is better)\",\n",
    "#     xlabel = \"n clusters\",\n",
    "#     title = \"Optimal n clusters = $(optimal_number_of_clusters)\",\n",
    "#     legend=false\n",
    "# )\n",
    "# StatsPlots.vline!(p2, [optimal_number_of_clusters])\n",
    "# # TODO write me out\n",
    "# display(p2)\n",
    "# display(p1)"
   ]
  },
  {
   "cell_type": "code",
   "execution_count": 41,
   "metadata": {},
   "outputs": [],
   "source": [
    "# optimal_clustering_result = Clustering.kmeans(distance_matrix, optimal_number_of_clusters)\n",
    "# record_table[!, \"cluster_assignments\"] = optimal_clustering_result.assignments\n",
    "# uCSV.write(\"$(joint_fasta_outfile).cluster_metadata.tsv\", record_table, delim='\\t')\n",
    "# show(record_table, allcols=true)"
   ]
  },
  {
   "cell_type": "markdown",
   "metadata": {},
   "source": [
    "## Generate protein cluster summary profiles"
   ]
  },
  {
   "cell_type": "code",
   "execution_count": 42,
   "metadata": {},
   "outputs": [
    {
     "data": {
      "text/html": [
       "<div class=\"data-frame\"><p>2,183 rows × 5 columns (omitted printing of 4 columns)</p><table class=\"data-frame\"><thead><tr><th></th><th>fastx_file</th></tr><tr><th></th><th title=\"String\">String</th></tr></thead><tbody><tr><th>1</th><td>/home/jupyter-cameron.prybol/workspace/2022-03-12-ecoli-tequatrovirus/protein.faa.gz/GCA_000925055.1_ViralProj266786_protein.faa.gz</td></tr><tr><th>2</th><td>/home/jupyter-cameron.prybol/workspace/2022-03-12-ecoli-tequatrovirus/protein.faa.gz/GCA_000925055.1_ViralProj266786_protein.faa.gz</td></tr><tr><th>3</th><td>/home/jupyter-cameron.prybol/workspace/2022-03-12-ecoli-tequatrovirus/protein.faa.gz/GCA_000925055.1_ViralProj266786_protein.faa.gz</td></tr><tr><th>4</th><td>/home/jupyter-cameron.prybol/workspace/2022-03-12-ecoli-tequatrovirus/protein.faa.gz/GCA_000925055.1_ViralProj266786_protein.faa.gz</td></tr><tr><th>5</th><td>/home/jupyter-cameron.prybol/workspace/2022-03-12-ecoli-tequatrovirus/protein.faa.gz/GCA_000925055.1_ViralProj266786_protein.faa.gz</td></tr><tr><th>6</th><td>/home/jupyter-cameron.prybol/workspace/2022-03-12-ecoli-tequatrovirus/protein.faa.gz/GCA_000925055.1_ViralProj266786_protein.faa.gz</td></tr><tr><th>7</th><td>/home/jupyter-cameron.prybol/workspace/2022-03-12-ecoli-tequatrovirus/protein.faa.gz/GCA_000925055.1_ViralProj266786_protein.faa.gz</td></tr><tr><th>8</th><td>/home/jupyter-cameron.prybol/workspace/2022-03-12-ecoli-tequatrovirus/protein.faa.gz/GCA_000925055.1_ViralProj266786_protein.faa.gz</td></tr><tr><th>9</th><td>/home/jupyter-cameron.prybol/workspace/2022-03-12-ecoli-tequatrovirus/protein.faa.gz/GCA_000925055.1_ViralProj266786_protein.faa.gz</td></tr><tr><th>10</th><td>/home/jupyter-cameron.prybol/workspace/2022-03-12-ecoli-tequatrovirus/protein.faa.gz/GCA_000925055.1_ViralProj266786_protein.faa.gz</td></tr><tr><th>11</th><td>/home/jupyter-cameron.prybol/workspace/2022-03-12-ecoli-tequatrovirus/protein.faa.gz/GCA_000925055.1_ViralProj266786_protein.faa.gz</td></tr><tr><th>12</th><td>/home/jupyter-cameron.prybol/workspace/2022-03-12-ecoli-tequatrovirus/protein.faa.gz/GCA_000925055.1_ViralProj266786_protein.faa.gz</td></tr><tr><th>13</th><td>/home/jupyter-cameron.prybol/workspace/2022-03-12-ecoli-tequatrovirus/protein.faa.gz/GCA_000925055.1_ViralProj266786_protein.faa.gz</td></tr><tr><th>14</th><td>/home/jupyter-cameron.prybol/workspace/2022-03-12-ecoli-tequatrovirus/protein.faa.gz/GCA_000925055.1_ViralProj266786_protein.faa.gz</td></tr><tr><th>15</th><td>/home/jupyter-cameron.prybol/workspace/2022-03-12-ecoli-tequatrovirus/protein.faa.gz/GCA_000925055.1_ViralProj266786_protein.faa.gz</td></tr><tr><th>16</th><td>/home/jupyter-cameron.prybol/workspace/2022-03-12-ecoli-tequatrovirus/protein.faa.gz/GCA_000925055.1_ViralProj266786_protein.faa.gz</td></tr><tr><th>17</th><td>/home/jupyter-cameron.prybol/workspace/2022-03-12-ecoli-tequatrovirus/protein.faa.gz/GCA_000925055.1_ViralProj266786_protein.faa.gz</td></tr><tr><th>18</th><td>/home/jupyter-cameron.prybol/workspace/2022-03-12-ecoli-tequatrovirus/protein.faa.gz/GCA_000925055.1_ViralProj266786_protein.faa.gz</td></tr><tr><th>19</th><td>/home/jupyter-cameron.prybol/workspace/2022-03-12-ecoli-tequatrovirus/protein.faa.gz/GCA_000925055.1_ViralProj266786_protein.faa.gz</td></tr><tr><th>20</th><td>/home/jupyter-cameron.prybol/workspace/2022-03-12-ecoli-tequatrovirus/protein.faa.gz/GCA_000925055.1_ViralProj266786_protein.faa.gz</td></tr><tr><th>21</th><td>/home/jupyter-cameron.prybol/workspace/2022-03-12-ecoli-tequatrovirus/protein.faa.gz/GCA_000925055.1_ViralProj266786_protein.faa.gz</td></tr><tr><th>22</th><td>/home/jupyter-cameron.prybol/workspace/2022-03-12-ecoli-tequatrovirus/protein.faa.gz/GCA_000925055.1_ViralProj266786_protein.faa.gz</td></tr><tr><th>23</th><td>/home/jupyter-cameron.prybol/workspace/2022-03-12-ecoli-tequatrovirus/protein.faa.gz/GCA_000925055.1_ViralProj266786_protein.faa.gz</td></tr><tr><th>24</th><td>/home/jupyter-cameron.prybol/workspace/2022-03-12-ecoli-tequatrovirus/protein.faa.gz/GCA_000925055.1_ViralProj266786_protein.faa.gz</td></tr><tr><th>25</th><td>/home/jupyter-cameron.prybol/workspace/2022-03-12-ecoli-tequatrovirus/protein.faa.gz/GCA_000925055.1_ViralProj266786_protein.faa.gz</td></tr><tr><th>26</th><td>/home/jupyter-cameron.prybol/workspace/2022-03-12-ecoli-tequatrovirus/protein.faa.gz/GCA_000925055.1_ViralProj266786_protein.faa.gz</td></tr><tr><th>27</th><td>/home/jupyter-cameron.prybol/workspace/2022-03-12-ecoli-tequatrovirus/protein.faa.gz/GCA_000925055.1_ViralProj266786_protein.faa.gz</td></tr><tr><th>28</th><td>/home/jupyter-cameron.prybol/workspace/2022-03-12-ecoli-tequatrovirus/protein.faa.gz/GCA_000925055.1_ViralProj266786_protein.faa.gz</td></tr><tr><th>29</th><td>/home/jupyter-cameron.prybol/workspace/2022-03-12-ecoli-tequatrovirus/protein.faa.gz/GCA_000925055.1_ViralProj266786_protein.faa.gz</td></tr><tr><th>30</th><td>/home/jupyter-cameron.prybol/workspace/2022-03-12-ecoli-tequatrovirus/protein.faa.gz/GCA_000925055.1_ViralProj266786_protein.faa.gz</td></tr><tr><th>&vellip;</th><td>&vellip;</td></tr></tbody></table></div>"
      ],
      "text/latex": [
       "\\begin{tabular}{r|cc}\n",
       "\t& fastx\\_file & \\\\\n",
       "\t\\hline\n",
       "\t& String & \\\\\n",
       "\t\\hline\n",
       "\t1 & /home/jupyter-cameron.prybol/workspace/2022-03-12-ecoli-tequatrovirus/protein.faa.gz/GCA\\_000925055.1\\_ViralProj266786\\_protein.faa.gz & $\\dots$ \\\\\n",
       "\t2 & /home/jupyter-cameron.prybol/workspace/2022-03-12-ecoli-tequatrovirus/protein.faa.gz/GCA\\_000925055.1\\_ViralProj266786\\_protein.faa.gz & $\\dots$ \\\\\n",
       "\t3 & /home/jupyter-cameron.prybol/workspace/2022-03-12-ecoli-tequatrovirus/protein.faa.gz/GCA\\_000925055.1\\_ViralProj266786\\_protein.faa.gz & $\\dots$ \\\\\n",
       "\t4 & /home/jupyter-cameron.prybol/workspace/2022-03-12-ecoli-tequatrovirus/protein.faa.gz/GCA\\_000925055.1\\_ViralProj266786\\_protein.faa.gz & $\\dots$ \\\\\n",
       "\t5 & /home/jupyter-cameron.prybol/workspace/2022-03-12-ecoli-tequatrovirus/protein.faa.gz/GCA\\_000925055.1\\_ViralProj266786\\_protein.faa.gz & $\\dots$ \\\\\n",
       "\t6 & /home/jupyter-cameron.prybol/workspace/2022-03-12-ecoli-tequatrovirus/protein.faa.gz/GCA\\_000925055.1\\_ViralProj266786\\_protein.faa.gz & $\\dots$ \\\\\n",
       "\t7 & /home/jupyter-cameron.prybol/workspace/2022-03-12-ecoli-tequatrovirus/protein.faa.gz/GCA\\_000925055.1\\_ViralProj266786\\_protein.faa.gz & $\\dots$ \\\\\n",
       "\t8 & /home/jupyter-cameron.prybol/workspace/2022-03-12-ecoli-tequatrovirus/protein.faa.gz/GCA\\_000925055.1\\_ViralProj266786\\_protein.faa.gz & $\\dots$ \\\\\n",
       "\t9 & /home/jupyter-cameron.prybol/workspace/2022-03-12-ecoli-tequatrovirus/protein.faa.gz/GCA\\_000925055.1\\_ViralProj266786\\_protein.faa.gz & $\\dots$ \\\\\n",
       "\t10 & /home/jupyter-cameron.prybol/workspace/2022-03-12-ecoli-tequatrovirus/protein.faa.gz/GCA\\_000925055.1\\_ViralProj266786\\_protein.faa.gz & $\\dots$ \\\\\n",
       "\t11 & /home/jupyter-cameron.prybol/workspace/2022-03-12-ecoli-tequatrovirus/protein.faa.gz/GCA\\_000925055.1\\_ViralProj266786\\_protein.faa.gz & $\\dots$ \\\\\n",
       "\t12 & /home/jupyter-cameron.prybol/workspace/2022-03-12-ecoli-tequatrovirus/protein.faa.gz/GCA\\_000925055.1\\_ViralProj266786\\_protein.faa.gz & $\\dots$ \\\\\n",
       "\t13 & /home/jupyter-cameron.prybol/workspace/2022-03-12-ecoli-tequatrovirus/protein.faa.gz/GCA\\_000925055.1\\_ViralProj266786\\_protein.faa.gz & $\\dots$ \\\\\n",
       "\t14 & /home/jupyter-cameron.prybol/workspace/2022-03-12-ecoli-tequatrovirus/protein.faa.gz/GCA\\_000925055.1\\_ViralProj266786\\_protein.faa.gz & $\\dots$ \\\\\n",
       "\t15 & /home/jupyter-cameron.prybol/workspace/2022-03-12-ecoli-tequatrovirus/protein.faa.gz/GCA\\_000925055.1\\_ViralProj266786\\_protein.faa.gz & $\\dots$ \\\\\n",
       "\t16 & /home/jupyter-cameron.prybol/workspace/2022-03-12-ecoli-tequatrovirus/protein.faa.gz/GCA\\_000925055.1\\_ViralProj266786\\_protein.faa.gz & $\\dots$ \\\\\n",
       "\t17 & /home/jupyter-cameron.prybol/workspace/2022-03-12-ecoli-tequatrovirus/protein.faa.gz/GCA\\_000925055.1\\_ViralProj266786\\_protein.faa.gz & $\\dots$ \\\\\n",
       "\t18 & /home/jupyter-cameron.prybol/workspace/2022-03-12-ecoli-tequatrovirus/protein.faa.gz/GCA\\_000925055.1\\_ViralProj266786\\_protein.faa.gz & $\\dots$ \\\\\n",
       "\t19 & /home/jupyter-cameron.prybol/workspace/2022-03-12-ecoli-tequatrovirus/protein.faa.gz/GCA\\_000925055.1\\_ViralProj266786\\_protein.faa.gz & $\\dots$ \\\\\n",
       "\t20 & /home/jupyter-cameron.prybol/workspace/2022-03-12-ecoli-tequatrovirus/protein.faa.gz/GCA\\_000925055.1\\_ViralProj266786\\_protein.faa.gz & $\\dots$ \\\\\n",
       "\t21 & /home/jupyter-cameron.prybol/workspace/2022-03-12-ecoli-tequatrovirus/protein.faa.gz/GCA\\_000925055.1\\_ViralProj266786\\_protein.faa.gz & $\\dots$ \\\\\n",
       "\t22 & /home/jupyter-cameron.prybol/workspace/2022-03-12-ecoli-tequatrovirus/protein.faa.gz/GCA\\_000925055.1\\_ViralProj266786\\_protein.faa.gz & $\\dots$ \\\\\n",
       "\t23 & /home/jupyter-cameron.prybol/workspace/2022-03-12-ecoli-tequatrovirus/protein.faa.gz/GCA\\_000925055.1\\_ViralProj266786\\_protein.faa.gz & $\\dots$ \\\\\n",
       "\t24 & /home/jupyter-cameron.prybol/workspace/2022-03-12-ecoli-tequatrovirus/protein.faa.gz/GCA\\_000925055.1\\_ViralProj266786\\_protein.faa.gz & $\\dots$ \\\\\n",
       "\t25 & /home/jupyter-cameron.prybol/workspace/2022-03-12-ecoli-tequatrovirus/protein.faa.gz/GCA\\_000925055.1\\_ViralProj266786\\_protein.faa.gz & $\\dots$ \\\\\n",
       "\t26 & /home/jupyter-cameron.prybol/workspace/2022-03-12-ecoli-tequatrovirus/protein.faa.gz/GCA\\_000925055.1\\_ViralProj266786\\_protein.faa.gz & $\\dots$ \\\\\n",
       "\t27 & /home/jupyter-cameron.prybol/workspace/2022-03-12-ecoli-tequatrovirus/protein.faa.gz/GCA\\_000925055.1\\_ViralProj266786\\_protein.faa.gz & $\\dots$ \\\\\n",
       "\t28 & /home/jupyter-cameron.prybol/workspace/2022-03-12-ecoli-tequatrovirus/protein.faa.gz/GCA\\_000925055.1\\_ViralProj266786\\_protein.faa.gz & $\\dots$ \\\\\n",
       "\t29 & /home/jupyter-cameron.prybol/workspace/2022-03-12-ecoli-tequatrovirus/protein.faa.gz/GCA\\_000925055.1\\_ViralProj266786\\_protein.faa.gz & $\\dots$ \\\\\n",
       "\t30 & /home/jupyter-cameron.prybol/workspace/2022-03-12-ecoli-tequatrovirus/protein.faa.gz/GCA\\_000925055.1\\_ViralProj266786\\_protein.faa.gz & $\\dots$ \\\\\n",
       "\t$\\dots$ & $\\dots$ &  \\\\\n",
       "\\end{tabular}\n"
      ],
      "text/plain": [
       "\u001b[1m2183×5 DataFrame\u001b[0m\n",
       "\u001b[1m  Row \u001b[0m│\u001b[1m fastx_file                        \u001b[0m\u001b[1m record_identifier \u001b[0m\u001b[1m record_descripti\u001b[0m ⋯\n",
       "\u001b[1m      \u001b[0m│\u001b[90m String                            \u001b[0m\u001b[90m String            \u001b[0m\u001b[90m String          \u001b[0m ⋯\n",
       "──────┼─────────────────────────────────────────────────────────────────────────\n",
       "    1 │ /home/jupyter-cameron.prybol/wor…  AFO10528.1         hypothetical pro ⋯\n",
       "    2 │ /home/jupyter-cameron.prybol/wor…  AFO10529.1         hypothetical pro\n",
       "    3 │ /home/jupyter-cameron.prybol/wor…  AFO10530.1         DNA gyrase subun\n",
       "    4 │ /home/jupyter-cameron.prybol/wor…  AFO10531.1         hypothetical pro\n",
       "    5 │ /home/jupyter-cameron.prybol/wor…  AFO10532.1         hypothetical pro ⋯\n",
       "    6 │ /home/jupyter-cameron.prybol/wor…  AFO10533.1         hypothetical pro\n",
       "    7 │ /home/jupyter-cameron.prybol/wor…  AFO10534.1         hypothetical pro\n",
       "    8 │ /home/jupyter-cameron.prybol/wor…  AFO10535.1         hypothetical pro\n",
       "    9 │ /home/jupyter-cameron.prybol/wor…  AFO10536.1         hypothetical pro ⋯\n",
       "   10 │ /home/jupyter-cameron.prybol/wor…  AFO10537.1         hypothetical pro\n",
       "   11 │ /home/jupyter-cameron.prybol/wor…  AFO10538.1         hypothetical pro\n",
       "  ⋮   │                 ⋮                          ⋮                           ⋱\n",
       " 2174 │ /home/jupyter-cameron.prybol/wor…  UJD20204.1         hypothetical pro\n",
       " 2175 │ /home/jupyter-cameron.prybol/wor…  UJD20205.1         DNA topoisomeras ⋯\n",
       " 2176 │ /home/jupyter-cameron.prybol/wor…  UJD20206.1         hypothetical pro\n",
       " 2177 │ /home/jupyter-cameron.prybol/wor…  UJD20207.1         naphthalene 1,2-\n",
       " 2178 │ /home/jupyter-cameron.prybol/wor…  UJD20208.1         naphthalene 1,2-\n",
       " 2179 │ /home/jupyter-cameron.prybol/wor…  UJD20209.1         hypothetical pro ⋯\n",
       " 2180 │ /home/jupyter-cameron.prybol/wor…  UJD20210.1         hypothetical pro\n",
       " 2181 │ /home/jupyter-cameron.prybol/wor…  UJD20211.1         DNA endonuclease\n",
       " 2182 │ /home/jupyter-cameron.prybol/wor…  UJD20212.1         endonuclease [Es\n",
       " 2183 │ /home/jupyter-cameron.prybol/wor…  UJD20213.1         rIIA lysis inhib ⋯\n",
       "\u001b[36m                                                 3 columns and 2162 rows omitted\u001b[0m"
      ]
     },
     "execution_count": 42,
     "metadata": {},
     "output_type": "execute_result"
    }
   ],
   "source": [
    "record_table = DataFrames.DataFrame(uCSV.read(\"$(joint_fasta_outfile).cluster_metadata.tsv\", delim='\\t', header=1)...)"
   ]
  },
  {
   "cell_type": "code",
   "execution_count": 43,
   "metadata": {},
   "outputs": [
    {
     "data": {
      "text/plain": [
       "2183-element Vector{String}:\n",
       " \"hypothetical protein\"\n",
       " \"hypothetical protein\"\n",
       " \"dna gyrase subunit b\"\n",
       " \"hypothetical protein\"\n",
       " \"hypothetical protein\"\n",
       " \"hypothetical protein\"\n",
       " \"hypothetical protein\"\n",
       " \"hypothetical protein\"\n",
       " \"hypothetical protein\"\n",
       " \"hypothetical protein\"\n",
       " \"hypothetical protein\"\n",
       " \"hypothetical protein\"\n",
       " \"hypothetical protein\"\n",
       " ⋮\n",
       " \"anti-restriction nuclease\"\n",
       " \"flagellar motor protein\"\n",
       " \"hypothetical protein\"\n",
       " \"dna topoisomerase ii medium subunit\"\n",
       " \"hypothetical protein\"\n",
       " \"naphthalene 1,2-dioxygenase\"\n",
       " \"naphthalene 1,2-dioxygenase\"\n",
       " \"hypothetical protein\"\n",
       " \"hypothetical protein\"\n",
       " \"dna endonuclease iv\"\n",
       " \"endonuclease\"\n",
       " \"riia lysis inhibitor\""
      ]
     },
     "execution_count": 43,
     "metadata": {},
     "output_type": "execute_result"
    }
   ],
   "source": [
    "record_table[!, \"normalized_description\"] = normalize_ncbi_description.(lowercase.(record_table[!, \"record_description\"]))"
   ]
  },
  {
   "cell_type": "code",
   "execution_count": 44,
   "metadata": {},
   "outputs": [
    {
     "name": "stdout",
     "output_type": "stream",
     "text": [
      "\u001b[1m2183×5 DataFrame\u001b[0m\n",
      "\u001b[1m  Row \u001b[0m│\u001b[1m fastx_file                        \u001b[0m\u001b[1m record_identifier \u001b[0m\u001b[1m record_description                \u001b[0m\u001b[1m cluster_assignments \u001b[0m\u001b[1m normalized_description            \u001b[0m\n",
      "\u001b[1m      \u001b[0m│\u001b[90m String                            \u001b[0m\u001b[90m String            \u001b[0m\u001b[90m String                            \u001b[0m\u001b[90m Int64               \u001b[0m\u001b[90m String                            \u001b[0m\n",
      "──────┼─────────────────────────────────────────────────────────────────────────────────────────────────────────────────────────────────────────────────\n",
      "    1 │ /home/jupyter-cameron.prybol/wor…  AFO10528.1         hypothetical protein ECML134_001…                   61  hypothetical protein\n",
      "    2 │ /home/jupyter-cameron.prybol/wor…  AFO10529.1         hypothetical protein ECML134_002…                  132  hypothetical protein\n",
      "    3 │ /home/jupyter-cameron.prybol/wor…  AFO10530.1         DNA gyrase subunit B [Escherichi…                  342  dna gyrase subunit b\n",
      "    4 │ /home/jupyter-cameron.prybol/wor…  AFO10531.1         hypothetical protein ECML134_004…                  101  hypothetical protein\n",
      "    5 │ /home/jupyter-cameron.prybol/wor…  AFO10532.1         hypothetical protein ECML134_005…                  142  hypothetical protein\n",
      "    6 │ /home/jupyter-cameron.prybol/wor…  AFO10533.1         hypothetical protein ECML134_006…                  257  hypothetical protein\n",
      "    7 │ /home/jupyter-cameron.prybol/wor…  AFO10534.1         hypothetical protein ECML134_007…                  226  hypothetical protein\n",
      "    8 │ /home/jupyter-cameron.prybol/wor…  AFO10535.1         hypothetical protein ECML134_008…                   82  hypothetical protein\n",
      "    9 │ /home/jupyter-cameron.prybol/wor…  AFO10536.1         hypothetical protein ECML134_009…                  209  hypothetical protein\n",
      "   10 │ /home/jupyter-cameron.prybol/wor…  AFO10537.1         hypothetical protein ECML134_010…                  113  hypothetical protein\n",
      "   11 │ /home/jupyter-cameron.prybol/wor…  AFO10538.1         hypothetical protein ECML134_011…                  192  hypothetical protein\n",
      "  ⋮   │                 ⋮                          ⋮                          ⋮                           ⋮                           ⋮\n",
      " 2174 │ /home/jupyter-cameron.prybol/wor…  UJD20204.1         hypothetical protein T73t3_255 […                  205  hypothetical protein\n",
      " 2175 │ /home/jupyter-cameron.prybol/wor…  UJD20205.1         DNA topoisomerase II medium subu…                  129  dna topoisomerase ii medium subu…\n",
      " 2176 │ /home/jupyter-cameron.prybol/wor…  UJD20206.1         hypothetical protein T73t3_257 […                  282  hypothetical protein\n",
      " 2177 │ /home/jupyter-cameron.prybol/wor…  UJD20207.1         naphthalene 1,2-dioxygenase [Esc…                    2  naphthalene 1,2-dioxygenase\n",
      " 2178 │ /home/jupyter-cameron.prybol/wor…  UJD20208.1         naphthalene 1,2-dioxygenase [Esc…                  107  naphthalene 1,2-dioxygenase\n",
      " 2179 │ /home/jupyter-cameron.prybol/wor…  UJD20209.1         hypothetical protein T73t3_260 […                  165  hypothetical protein\n",
      " 2180 │ /home/jupyter-cameron.prybol/wor…  UJD20210.1         hypothetical protein T73t3_261 […                  169  hypothetical protein\n",
      " 2181 │ /home/jupyter-cameron.prybol/wor…  UJD20211.1         DNA endonuclease IV [Escherichia…                   69  dna endonuclease iv\n",
      " 2182 │ /home/jupyter-cameron.prybol/wor…  UJD20212.1         endonuclease [Escherichia phage …                   74  endonuclease\n",
      " 2183 │ /home/jupyter-cameron.prybol/wor…  UJD20213.1         rIIA lysis inhibitor [Escherichi…                  247  riia lysis inhibitor\n",
      "\u001b[36m                                                                                                                                       2162 rows omitted\u001b[0m"
     ]
    }
   ],
   "source": [
    "show(record_table, allcols=true)"
   ]
  },
  {
   "cell_type": "code",
   "execution_count": 53,
   "metadata": {},
   "outputs": [],
   "source": [
    "df = document_frequency(record_table[!, \"normalized_description\"])\n",
    "\n",
    "function term_frequency(document::AbstractString)\n",
    "    return term_frequency([documents])\n",
    "end\n",
    "\n",
    "function term_frequency(documents::AbstractVector)\n",
    "    countmap = StatsBase.countmap(split(strip(first(documents))))\n",
    "    for document in documents[2:end]\n",
    "        merge!(+, countmap, StatsBase.countmap(split(strip(document))))\n",
    "    end\n",
    "    return countmap\n",
    "end"
   ]
  },
  {
   "cell_type": "code",
   "execution_count": 87,
   "metadata": {},
   "outputs": [
    {
     "data": {
      "text/plain": [
       "\"/home/jupyter-cameron.prybol/workspace/2022-03-12-ecoli-tequatrovirus/protein.faa.gz.joint.faa.gz\""
      ]
     },
     "execution_count": 87,
     "metadata": {},
     "output_type": "execute_result"
    }
   ],
   "source": [
    "joint_fasta_outfile"
   ]
  },
  {
   "cell_type": "code",
   "execution_count": 88,
   "metadata": {},
   "outputs": [],
   "source": [
    "cluster_names = String[]\n",
    "for (i, cluster) in enumerate(DataFrames.groupby(sort(record_table, \"cluster_assignments\"), \"cluster_assignments\"))\n",
    "    @assert cluster[1, \"cluster_assignments\"] == i\n",
    "    tfs = collect(term_frequency(cluster[!, \"normalized_description\"]))\n",
    "    tf_idfs = [term => frequency / df[term] for (term, frequency) in tfs]\n",
    "    tf_idfs = filter(x -> !any(y -> x[1] != y[1] && occursin(x[1], y[1]), tf_idfs), tf_idfs)\n",
    "    sort!(tf_idfs, by=x->x[2], rev=true)\n",
    "    push!(cluster_names, join(first.(tf_idfs), \" \"))\n",
    "    \n",
    "end\n",
    "cluster_name_table = DataFrames.DataFrame(\n",
    "    cluster_id = sort(unique(record_table[!, \"cluster_assignments\"])),\n",
    "    cluster_name = cluster_names\n",
    ")\n",
    "uCSV.write(\"$(joint_fasta_outfile).cluster_descriptions.tsv\", cluster_name_table, delim='\\t')"
   ]
  },
  {
   "cell_type": "code",
   "execution_count": 90,
   "metadata": {},
   "outputs": [],
   "source": [
    "# heatmap of clusters against genomes\n",
    "n_fastas = length(fastx_files)\n",
    "n_clusters = DataFrames.nrow(cluster_name_table)\n",
    "fasta_cluster_containment_matrix = falses(n_fastas, n_clusters)\n",
    "\n",
    "for (i, fastx_file_group) in enumerate(DataFrames.groupby(record_table, \"fastx_file\"))\n",
    "    clusters_contained = unique(fastx_file_group[!, \"cluster_assignments\"])\n",
    "    for cluster in clusters_contained\n",
    "        fasta_cluster_containment_matrix[i, cluster] = true\n",
    "    end\n",
    "end\n",
    "\n",
    "clusters_ordered_by_coreness = sortperm(map(col -> sum(col), eachcol(fasta_cluster_containment_matrix)), rev=true)\n",
    "p = StatsPlots.heatmap(\n",
    "    fasta_cluster_containment_matrix[:, clusters_ordered_by_coreness],\n",
    "    # legend = false,\n",
    "    title = \"Core and accessory protein clusters\",\n",
    "    ylabel = \"genome index\",\n",
    "    xlabel = \"ordered protein clusters\",\n",
    "    # yticks = false,\n",
    "    # xticks = false,\n",
    "    margins = 1StatsPlots.cm\n",
    ")\n",
    "StatsPlots.savefig(p, \"$(joint_fasta_outfile).core-clusters.svg\")\n",
    "StatsPlots.savefig(p, \"$(joint_fasta_outfile).core-clusters.png\")"
   ]
  },
  {
   "cell_type": "code",
   "execution_count": null,
   "metadata": {},
   "outputs": [],
   "source": [
    "# CREATE CONSUSES PROTEIN FOR EACH PROTEIN CLUSTER"
   ]
  },
  {
   "cell_type": "code",
   "execution_count": 93,
   "metadata": {},
   "outputs": [
    {
     "data": {
      "text/plain": [
       "359-element Vector{String}:\n",
       " \"/home/jupyter-cameron.prybol/workspace/2022-03-12-ecoli-tequatrovirus/protein.joint.cluster_1.faa\"\n",
       " \"/home/jupyter-cameron.prybol/workspace/2022-03-12-ecoli-tequatrovirus/protein.joint.cluster_2.faa\"\n",
       " \"/home/jupyter-cameron.prybol/workspace/2022-03-12-ecoli-tequatrovirus/protein.joint.cluster_3.faa\"\n",
       " \"/home/jupyter-cameron.prybol/workspace/2022-03-12-ecoli-tequatrovirus/protein.joint.cluster_4.faa\"\n",
       " \"/home/jupyter-cameron.prybol/workspace/2022-03-12-ecoli-tequatrovirus/protein.joint.cluster_5.faa\"\n",
       " \"/home/jupyter-cameron.prybol/workspace/2022-03-12-ecoli-tequatrovirus/protein.joint.cluster_6.faa\"\n",
       " \"/home/jupyter-cameron.prybol/workspace/2022-03-12-ecoli-tequatrovirus/protein.joint.cluster_7.faa\"\n",
       " \"/home/jupyter-cameron.prybol/workspace/2022-03-12-ecoli-tequatrovirus/protein.joint.cluster_8.faa\"\n",
       " \"/home/jupyter-cameron.prybol/workspace/2022-03-12-ecoli-tequatrovirus/protein.joint.cluster_9.faa\"\n",
       " \"/home/jupyter-cameron.prybol/workspace/2022-03-12-ecoli-tequatrovirus/protein.joint.cluster_10.faa\"\n",
       " \"/home/jupyter-cameron.prybol/workspace/2022-03-12-ecoli-tequatrovirus/protein.joint.cluster_11.faa\"\n",
       " \"/home/jupyter-cameron.prybol/workspace/2022-03-12-ecoli-tequatrovirus/protein.joint.cluster_12.faa\"\n",
       " \"/home/jupyter-cameron.prybol/workspace/2022-03-12-ecoli-tequatrovirus/protein.joint.cluster_13.faa\"\n",
       " ⋮\n",
       " \"/home/jupyter-cameron.prybol/workspace/2022-03-12-ecoli-tequatrovirus/protein.joint.cluster_348.faa\"\n",
       " \"/home/jupyter-cameron.prybol/workspace/2022-03-12-ecoli-tequatrovirus/protein.joint.cluster_349.faa\"\n",
       " \"/home/jupyter-cameron.prybol/workspace/2022-03-12-ecoli-tequatrovirus/protein.joint.cluster_350.faa\"\n",
       " \"/home/jupyter-cameron.prybol/workspace/2022-03-12-ecoli-tequatrovirus/protein.joint.cluster_351.faa\"\n",
       " \"/home/jupyter-cameron.prybol/workspace/2022-03-12-ecoli-tequatrovirus/protein.joint.cluster_352.faa\"\n",
       " \"/home/jupyter-cameron.prybol/workspace/2022-03-12-ecoli-tequatrovirus/protein.joint.cluster_353.faa\"\n",
       " \"/home/jupyter-cameron.prybol/workspace/2022-03-12-ecoli-tequatrovirus/protein.joint.cluster_354.faa\"\n",
       " \"/home/jupyter-cameron.prybol/workspace/2022-03-12-ecoli-tequatrovirus/protein.joint.cluster_355.faa\"\n",
       " \"/home/jupyter-cameron.prybol/workspace/2022-03-12-ecoli-tequatrovirus/protein.joint.cluster_356.faa\"\n",
       " \"/home/jupyter-cameron.prybol/workspace/2022-03-12-ecoli-tequatrovirus/protein.joint.cluster_357.faa\"\n",
       " \"/home/jupyter-cameron.prybol/workspace/2022-03-12-ecoli-tequatrovirus/protein.joint.cluster_358.faa\"\n",
       " \"/home/jupyter-cameron.prybol/workspace/2022-03-12-ecoli-tequatrovirus/protein.joint.cluster_359.faa\""
      ]
     },
     "execution_count": 93,
     "metadata": {},
     "output_type": "execute_result"
    }
   ],
   "source": [
    "clusters = sort(unique(record_table[!, \"cluster_assignments\"]))\n",
    "cluster_fasta_files = [replace(joint_fasta_outfile, \".faa.gz\" => \"\") .* \".cluster_$(cluster).faa\" for cluster in clusters]"
   ]
  },
  {
   "cell_type": "code",
   "execution_count": 95,
   "metadata": {},
   "outputs": [],
   "source": [
    "# for each cluster, write out cluster to a specific fasta file\n",
    "\n",
    "cluster_fasta_ios = [FASTX.FASTA.Writer(open(f, \"w\")) for f in cluster_fasta_files]\n",
    "for record in Mycelia.open_fastx(joint_fasta_outfile)\n",
    "    # [FASTX.identifier(record)]\n",
    "    record_index = findfirst(record_table[!, \"record_identifier\"] .== FASTX.identifier(record))\n",
    "    cluster_assignment = record_table[record_index, \"cluster_assignments\"]\n",
    "    cluster_io = cluster_fasta_ios[cluster_assignment]\n",
    "    write(cluster_io, record)\n",
    "end\n",
    "for io_stream in cluster_fasta_ios\n",
    "    close(io_stream)\n",
    "end"
   ]
  },
  {
   "cell_type": "code",
   "execution_count": null,
   "metadata": {},
   "outputs": [],
   "source": [
    "# write out clustalw alignment for each fasta"
   ]
  },
  {
   "cell_type": "code",
   "execution_count": 96,
   "metadata": {},
   "outputs": [
    {
     "name": "stderr",
     "output_type": "stream",
     "text": [
      "\u001b[32mProgress:  36%|███████████████                          |  ETA: 0:00:23\u001b[39mFATAL: File '/home/jupyter-cameron.prybol/workspace/2022-03-12-ecoli-tequatrovirus/protein.joint.cluster_135.faa' contains 1 sequence, nothing to align\n",
      "\u001b[32mProgress:  53%|█████████████████████▉                   |  ETA: 0:00:15\u001b[39mFATAL: File '/home/jupyter-cameron.prybol/workspace/2022-03-12-ecoli-tequatrovirus/protein.joint.cluster_193.faa' contains 1 sequence, nothing to align\n",
      "\u001b[32mProgress:  58%|███████████████████████▊                 |  ETA: 0:00:13\u001b[39mFATAL: File '/home/jupyter-cameron.prybol/workspace/2022-03-12-ecoli-tequatrovirus/protein.joint.cluster_210.faa' contains 1 sequence, nothing to align\n",
      "\u001b[32mProgress:  60%|████████████████████████▌                |  ETA: 0:00:13\u001b[39mFATAL: File '/home/jupyter-cameron.prybol/workspace/2022-03-12-ecoli-tequatrovirus/protein.joint.cluster_216.faa' contains 1 sequence, nothing to align\n",
      "\u001b[32mProgress:  64%|██████████████████████████▍              |  ETA: 0:00:11\u001b[39mFATAL: File '/home/jupyter-cameron.prybol/workspace/2022-03-12-ecoli-tequatrovirus/protein.joint.cluster_233.faa' contains 1 sequence, nothing to align\n",
      "\u001b[32mProgress:  67%|███████████████████████████▍             |  ETA: 0:00:11\u001b[39mFATAL: File '/home/jupyter-cameron.prybol/workspace/2022-03-12-ecoli-tequatrovirus/protein.joint.cluster_247.faa' contains 1 sequence, nothing to align\n",
      "\u001b[32mProgress:  77%|███████████████████████████████▊         |  ETA: 0:00:07\u001b[39mFATAL: File '/home/jupyter-cameron.prybol/workspace/2022-03-12-ecoli-tequatrovirus/protein.joint.cluster_280.faa' contains 1 sequence, nothing to align\n",
      "\u001b[32mProgress:  78%|████████████████████████████████▏        |  ETA: 0:00:07\u001b[39mFATAL: File '/home/jupyter-cameron.prybol/workspace/2022-03-12-ecoli-tequatrovirus/protein.joint.cluster_284.faa' contains 1 sequence, nothing to align\n",
      "FATAL: File '/home/jupyter-cameron.prybol/workspace/2022-03-12-ecoli-tequatrovirus/protein.joint.cluster_285.faa' contains 1 sequence, nothing to align\n",
      "\u001b[32mProgress:  81%|█████████████████████████████████        |  ETA: 0:00:06\u001b[39mFATAL: File '/home/jupyter-cameron.prybol/workspace/2022-03-12-ecoli-tequatrovirus/protein.joint.cluster_290.faa' contains 1 sequence, nothing to align\n",
      "FATAL: File '/home/jupyter-cameron.prybol/workspace/2022-03-12-ecoli-tequatrovirus/protein.joint.cluster_291.faa' contains 1 sequence, nothing to align\n",
      "FATAL: File '/home/jupyter-cameron.prybol/workspace/2022-03-12-ecoli-tequatrovirus/protein.joint.cluster_295.faa' contains 1 sequence, nothing to align\n",
      "FATAL: File '/home/jupyter-cameron.prybol/workspace/2022-03-12-ecoli-tequatrovirus/protein.joint.cluster_297.faa' contains 1 sequence, nothing to align\n",
      "\u001b[32mProgress:  84%|██████████████████████████████████▎      |  ETA: 0:00:05\u001b[39mFATAL: File '/home/jupyter-cameron.prybol/workspace/2022-03-12-ecoli-tequatrovirus/protein.joint.cluster_304.faa' contains 1 sequence, nothing to align\n",
      "\u001b[32mProgress:  85%|███████████████████████████████████      |  ETA: 0:00:04\u001b[39mFATAL: File '/home/jupyter-cameron.prybol/workspace/2022-03-12-ecoli-tequatrovirus/protein.joint.cluster_311.faa' contains 1 sequence, nothing to align\n",
      "FATAL: File '/home/jupyter-cameron.prybol/workspace/2022-03-12-ecoli-tequatrovirus/protein.joint.cluster_315.faa' contains 1 sequence, nothing to align\n",
      "FATAL: File '/home/jupyter-cameron.prybol/workspace/2022-03-12-ecoli-tequatrovirus/protein.joint.cluster_316.faa' contains 1 sequence, nothing to align\n",
      "\u001b[32mProgress:  88%|████████████████████████████████████▏    |  ETA: 0:00:03\u001b[39mFATAL: File '/home/jupyter-cameron.prybol/workspace/2022-03-12-ecoli-tequatrovirus/protein.joint.cluster_321.faa' contains 1 sequence, nothing to align\n",
      "FATAL: File '/home/jupyter-cameron.prybol/workspace/2022-03-12-ecoli-tequatrovirus/protein.joint.cluster_322.faa' contains 1 sequence, nothing to align\n",
      "\u001b[32mProgress:  90%|████████████████████████████████████▊    |  ETA: 0:00:03\u001b[39mFATAL: File '/home/jupyter-cameron.prybol/workspace/2022-03-12-ecoli-tequatrovirus/protein.joint.cluster_323.faa' contains 1 sequence, nothing to align\n",
      "FATAL: File '/home/jupyter-cameron.prybol/workspace/2022-03-12-ecoli-tequatrovirus/protein.joint.cluster_324.faa' contains 1 sequence, nothing to align\n",
      "FATAL: File '/home/jupyter-cameron.prybol/workspace/2022-03-12-ecoli-tequatrovirus/protein.joint.cluster_327.faa' contains 1 sequence, nothing to align\n",
      "FATAL: File '/home/jupyter-cameron.prybol/workspace/2022-03-12-ecoli-tequatrovirus/protein.joint.cluster_328.faa' contains 1 sequence, nothing to align\n",
      "\u001b[32mProgress:  92%|█████████████████████████████████████▉   |  ETA: 0:00:02\u001b[39mFATAL: File '/home/jupyter-cameron.prybol/workspace/2022-03-12-ecoli-tequatrovirus/protein.joint.cluster_333.faa' contains 1 sequence, nothing to align\n",
      "FATAL: File '/home/jupyter-cameron.prybol/workspace/2022-03-12-ecoli-tequatrovirus/protein.joint.cluster_336.faa' contains 1 sequence, nothing to align\n",
      "FATAL: File '/home/jupyter-cameron.prybol/workspace/2022-03-12-ecoli-tequatrovirus/protein.joint.cluster_337.faa' contains 1 sequence, nothing to align\n",
      "\u001b[32mProgress:  95%|██████████████████████████████████████▉  |  ETA: 0:00:01\u001b[39mFATAL: File '/home/jupyter-cameron.prybol/workspace/2022-03-12-ecoli-tequatrovirus/protein.joint.cluster_344.faa' contains 1 sequence, nothing to align\n",
      "\u001b[32mProgress:  97%|███████████████████████████████████████▋ |  ETA: 0:00:01\u001b[39mFATAL: File '/home/jupyter-cameron.prybol/workspace/2022-03-12-ecoli-tequatrovirus/protein.joint.cluster_348.faa' contains 1 sequence, nothing to align\n",
      "FATAL: File '/home/jupyter-cameron.prybol/workspace/2022-03-12-ecoli-tequatrovirus/protein.joint.cluster_350.faa' contains 1 sequence, nothing to align\n",
      "FATAL: File '/home/jupyter-cameron.prybol/workspace/2022-03-12-ecoli-tequatrovirus/protein.joint.cluster_353.faa' contains 1 sequence, nothing to align\n",
      "FATAL: File '/home/jupyter-cameron.prybol/workspace/2022-03-12-ecoli-tequatrovirus/protein.joint.cluster_354.faa' contains 1 sequence, nothing to align\n",
      "FATAL: File '/home/jupyter-cameron.prybol/workspace/2022-03-12-ecoli-tequatrovirus/protein.joint.cluster_355.faa' contains 1 sequence, nothing to align\n",
      "FATAL: File '/home/jupyter-cameron.prybol/workspace/2022-03-12-ecoli-tequatrovirus/protein.joint.cluster_357.faa' contains 1 sequence, nothing to align\n",
      "FATAL: File '/home/jupyter-cameron.prybol/workspace/2022-03-12-ecoli-tequatrovirus/protein.joint.cluster_358.faa' contains 1 sequence, nothing to align\n",
      "\u001b[32mProgress: 100%|█████████████████████████████████████████| Time: 0:00:26\u001b[39m\n"
     ]
    }
   ],
   "source": [
    "ProgressMeter.@showprogress for cluster_fasta_file in cluster_fasta_files\n",
    "    # for outfmt in [\"fasta\", \"clustal\", \"msf\", \"phylip\", \"selex\", \"stockholm\", \"vienna\"]\n",
    "    for outfmt in [\"clustal\"]\n",
    "        outfile = \"$(cluster_fasta_file).clustal_omega.$(outfmt)\"\n",
    "        if !isfile(outfile)\n",
    "            try\n",
    "                run(`clustalo -i $(cluster_fasta_file) --outfmt $(outfmt) -o $(outfile)`)\n",
    "            catch e\n",
    "                # FATAL: File '...' contains 1 sequence, nothing to align\n",
    "                continue\n",
    "            end\n",
    "        end\n",
    "    end\n",
    "end"
   ]
  },
  {
   "cell_type": "code",
   "execution_count": null,
   "metadata": {},
   "outputs": [],
   "source": [
    "fastx_to_aamer_graph"
   ]
  },
  {
   "cell_type": "code",
   "execution_count": null,
   "metadata": {},
   "outputs": [],
   "source": [
    "read in the list of fastas"
   ]
  },
  {
   "cell_type": "code",
   "execution_count": null,
   "metadata": {},
   "outputs": [],
   "source": [
    "count aamers"
   ]
  },
  {
   "cell_type": "code",
   "execution_count": null,
   "metadata": {},
   "outputs": [],
   "source": [
    "initialize graph with aamer nodes and counts"
   ]
  },
  {
   "cell_type": "code",
   "execution_count": null,
   "metadata": {},
   "outputs": [],
   "source": [
    "add edges"
   ]
  },
  {
   "cell_type": "code",
   "execution_count": null,
   "metadata": {},
   "outputs": [],
   "source": [
    "edges have weights too?"
   ]
  }
 ],
 "metadata": {
  "kernelspec": {
   "display_name": "Julia 1.6.5",
   "language": "julia",
   "name": "julia-1.6"
  },
  "language_info": {
   "file_extension": ".jl",
   "mimetype": "application/julia",
   "name": "julia",
   "version": "1.6.5"
  }
 },
 "nbformat": 4,
 "nbformat_minor": 4
}
