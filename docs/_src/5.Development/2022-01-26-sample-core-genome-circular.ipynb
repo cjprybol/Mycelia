{
 "cells": [
  {
   "cell_type": "code",
   "execution_count": 1,
   "metadata": {},
   "outputs": [],
   "source": [
    "DATE = \"2022-01-26\"\n",
    "TASK = \"sample-core-genome-circular\"\n",
    "DIR = mkpath(\"$(homedir())/workspace/$(DATE)-$(TASK)\")\n",
    "cd(DIR)"
   ]
  },
  {
   "cell_type": "code",
   "execution_count": 2,
   "metadata": {},
   "outputs": [
    {
     "name": "stderr",
     "output_type": "stream",
     "text": [
      "\u001b[32m\u001b[1m    Updating\u001b[22m\u001b[39m registry at `~/.julia/registries/General`\n",
      "\u001b[32m\u001b[1m    Updating\u001b[22m\u001b[39m git-repo `https://github.com/JuliaRegistries/General.git`\n",
      "\u001b[32m\u001b[1m   Resolving\u001b[22m\u001b[39m package versions...\n",
      "\u001b[32m\u001b[1m  No Changes\u001b[22m\u001b[39m to `~/.julia/dev/Mycelia/docs/Project.toml`\n",
      "\u001b[32m\u001b[1m  No Changes\u001b[22m\u001b[39m to `~/.julia/dev/Mycelia/docs/Manifest.toml`\n"
     ]
    }
   ],
   "source": [
    "pkgs = [\n",
    "    \"Graphs\",\n",
    "    \"MetaGraphs\",\n",
    "    \"FileIO\",\n",
    "    \"JLD2\",\n",
    "    \"DataStructures\",\n",
    "    \"BioSequences\",\n",
    "    \"Random\",\n",
    "    \"FASTX\",\n",
    "    \"Revise\",\n",
    "    \"StatsBase\"\n",
    "]\n",
    "\n",
    "import Pkg\n",
    "Pkg.add(pkgs)\n",
    "for pkg in pkgs\n",
    "    eval(Meta.parse(\"import $(basename(pkg))\"))\n",
    "end\n",
    "\n",
    "import Mycelia"
   ]
  },
  {
   "cell_type": "code",
   "execution_count": 3,
   "metadata": {},
   "outputs": [
    {
     "data": {
      "text/plain": [
       "kmer_path_to_sequence (generic function with 1 method)"
      ]
     },
     "execution_count": 3,
     "metadata": {},
     "output_type": "execute_result"
    }
   ],
   "source": [
    "function kmer_path_to_sequence(kmer_path)\n",
    "    sequence = BioSequences.LongDNASeq(first(kmer_path))\n",
    "    for kmer in kmer_path[2:end]\n",
    "        @assert kmer[1] == sequence[end-1]\n",
    "        @assert kmer[2] == sequence[end]\n",
    "        push!(sequence, kmer[end])\n",
    "    end\n",
    "    return sequence\n",
    "end"
   ]
  },
  {
   "cell_type": "code",
   "execution_count": 4,
   "metadata": {},
   "outputs": [
    {
     "data": {
      "text/plain": [
       "update_remaining_targets (generic function with 1 method)"
      ]
     },
     "execution_count": 4,
     "metadata": {},
     "output_type": "execute_result"
    }
   ],
   "source": [
    "function update_remaining_targets(current_walk::AbstractVector{T}, remaining_targets::AbstractSet{T}) where T <: BioSequences.AbstractMer\n",
    "    # assess whether targets have been hit in the canonical space\n",
    "    remaining_targets = setdiff(BioSequences.canonical.(remaining_targets), BioSequences.canonical.(current_walk))\n",
    "    # blow back out into forward and reverse_complement space\n",
    "    remaining_targets = Set{T}(vcat(remaining_targets, BioSequences.reverse_complement.(remaining_targets)))\n",
    "    return remaining_targets\n",
    "end"
   ]
  },
  {
   "cell_type": "code",
   "execution_count": 5,
   "metadata": {},
   "outputs": [
    {
     "data": {
      "text/plain": [
       "find_graph_core (generic function with 1 method)"
      ]
     },
     "execution_count": 5,
     "metadata": {},
     "output_type": "execute_result"
    }
   ],
   "source": [
    "# vertices should either be entire graph (by default) or a connected component\n",
    "# if people want to work on just the connected component, let them induce a subgraph\n",
    "function find_graph_core(graph; seed=rand(Int))\n",
    "    \n",
    "    Random.seed!(seed)\n",
    "    \n",
    "#     T = typeof(MetaGraphs.get_prop(graph, 1, :kmer))\n",
    "    \n",
    "    # take the hub nodes!\n",
    "    selected_nodes = [\n",
    "        MetaGraphs.get_prop(graph, i, :kmer) for (i, v) in enumerate(Graphs.vertices(graph))\n",
    "            if Graphs.degree(graph, v) >= 3]    \n",
    "    selected_node_counts = [MetaGraphs.get_prop(graph, :kmer_counts)[kmer] for kmer in selected_nodes]\n",
    "#     max_value, index = findmax(selected_node_counts)\n",
    "#     starting_node = selected_nodes[index]\n",
    "    starting_node = StatsBase.sample(selected_nodes, StatsBase.weights(selected_node_counts))\n",
    "    current_walk = [starting_node]\n",
    "\n",
    "    prior_walk_length = length(current_walk)\n",
    "    remaining_targets = update_remaining_targets(current_walk, Set(selected_nodes))\n",
    "#     @show current_walk\n",
    "#     @show remaining_targets\n",
    "    \n",
    "#     targets = setdiff(selected_nodes, current_walk)\n",
    "#     remaining_targets = Set{T}(vcat(targets, BioSequences.reverse_complement.(targets)))\n",
    "    done = isempty(remaining_targets)\n",
    "    \n",
    "    while !done\n",
    "        forward_source = last(current_walk)\n",
    "        reverse_source = BioSequences.reverse_complement(first(current_walk))\n",
    "        \n",
    "        forward_walk, forward_distance = Mycelia.dijkstra(graph, forward_source, remaining_targets, search_strategy=:DFS)\n",
    "#         current_walk = vcat(current_walk, forward_walk[2:end])\n",
    "#         remaining_targets = update_remaining_targets(current_walk, remaining_targets)\n",
    "#         @show current_walk\n",
    "#         @show remaining_targets\n",
    "        reverse_walk, reverse_distance = Mycelia.dijkstra(graph, reverse_source, remaining_targets, search_strategy=:DFS)\n",
    "#         current_walk = vcat(reverse(BioSequences.reverse_complement.(reverse_walk))[1:end-1], current_walk)\n",
    "        current_walk = vcat(reverse(BioSequences.reverse_complement.(reverse_walk))[1:end-1], current_walk, forward_walk[2:end])\n",
    "        remaining_targets = update_remaining_targets(current_walk, remaining_targets)\n",
    "\n",
    "#         @show current_walk\n",
    "#         @show remaining_targets\n",
    "        \n",
    "#         # assess whether targets have been hit in the canonical space\n",
    "#         remaining_targets = setdiff(BioSequences.canonical.(remaining_targets), BioSequences.canonical.(current_walk))\n",
    "#         # blow back out into forward and reverse_complement space\n",
    "#         remaining_targets = Set{T}(vcat(remaining_targets, BioSequences.reverse_complement.(remaining_targets)))    \n",
    "        failed_this_expansion = length(current_walk) == prior_walk_length\n",
    "        prior_walk_length = length(current_walk)\n",
    "        \n",
    "        if isempty(remaining_targets)\n",
    "            done = true\n",
    "        elseif failed_this_expansion\n",
    "            done = true\n",
    "        end\n",
    "    end\n",
    "\n",
    "#     @show current_walk\n",
    "    # if we haven't closed a loop, try and walk out to ends of contigs/chromosomes\n",
    "    if first(current_walk) != last(current_walk)\n",
    "        forward_source = last(current_walk)\n",
    "        reverse_source = BioSequences.reverse_complement(first(current_walk))\n",
    "        forward_walk, forward_distance = Mycelia.dijkstra(graph, forward_source, remaining_targets, search_strategy=:DFS)\n",
    "        reverse_walk, reverse_distance = Mycelia.dijkstra(graph, reverse_source, remaining_targets, search_strategy=:DFS)\n",
    "        current_walk = vcat(reverse(BioSequences.reverse_complement.(reverse_walk))[1:end-1], current_walk, forward_walk[2:end])\n",
    "    end\n",
    "    return current_walk\n",
    "end     "
   ]
  },
  {
   "cell_type": "code",
   "execution_count": 6,
   "metadata": {},
   "outputs": [
    {
     "data": {
      "text/plain": [
       "10nt DNA Sequence:\n",
       "CGCCCACCGC"
      ]
     },
     "execution_count": 6,
     "metadata": {},
     "output_type": "execute_result"
    }
   ],
   "source": [
    "# Create a reference sequence\n",
    "refseq = push!(BioSequences.randdnaseq(Random.seed!(2), 9), BioSequences.DNA_C)"
   ]
  },
  {
   "cell_type": "code",
   "execution_count": 7,
   "metadata": {},
   "outputs": [
    {
     "data": {
      "text/plain": [
       "10nt DNA Sequence:\n",
       "CGCCTACCGC"
      ]
     },
     "execution_count": 7,
     "metadata": {},
     "output_type": "execute_result"
    }
   ],
   "source": [
    "altseq = copy(refseq)\n",
    "altseq[5] = BioSequences.DNA_T\n",
    "altseq"
   ]
  },
  {
   "cell_type": "code",
   "execution_count": 8,
   "metadata": {},
   "outputs": [
    {
     "name": "stdout",
     "output_type": "stream",
     "text": [
      ">1\n",
      "CGCCCACCGC\n",
      ">2\n",
      "CGCCCACCGC\n",
      ">3\n",
      "CGCCTACCGC\n",
      "\n"
     ]
    }
   ],
   "source": [
    "fasta_file = \"$(DIR)/test.fasta\"\n",
    "open(fasta_file, \"w\") do io\n",
    "    fastx_io = FASTX.FASTA.Writer(io)\n",
    "    i = 1\n",
    "    for x in 1:2\n",
    "        write(fastx_io, FASTX.FASTA.Record(\"$i\", refseq))\n",
    "        i += 1\n",
    "    end\n",
    "    write(fastx_io, FASTX.FASTA.Record(\"$i\", altseq))\n",
    "    close(fastx_io)\n",
    "end\n",
    "println(read(fasta_file, String))"
   ]
  },
  {
   "cell_type": "code",
   "execution_count": 9,
   "metadata": {},
   "outputs": [
    {
     "data": {
      "text/plain": [
       "BioSequences.BigDNAMer{3} (alias for BioSequences.BigMer{BioSequences.DNAAlphabet{2}, 3})"
      ]
     },
     "execution_count": 9,
     "metadata": {},
     "output_type": "execute_result"
    }
   ],
   "source": [
    "k = 3\n",
    "T = BioSequences.BigDNAMer{3}"
   ]
  },
  {
   "cell_type": "code",
   "execution_count": 10,
   "metadata": {},
   "outputs": [
    {
     "name": "stderr",
     "output_type": "stream",
     "text": [
      "┌ Info: counting kmers\n",
      "└ @ Mycelia /home/jupyter-cjprybol/.julia/dev/Mycelia/src/graph-construction.jl:78\n"
     ]
    },
    {
     "name": "stdout",
     "output_type": "stream",
     "text": [
      "  1.252155 seconds (1.94 M allocations: 105.225 MiB, 5.90% gc time, 91.79% compilation time)\n"
     ]
    },
    {
     "name": "stderr",
     "output_type": "stream",
     "text": [
      "┌ Info: initializing graph\n",
      "└ @ Mycelia /home/jupyter-cjprybol/.julia/dev/Mycelia/src/graph-construction.jl:81\n",
      "┌ Info: adding node metadata\n",
      "└ @ Mycelia /home/jupyter-cjprybol/.julia/dev/Mycelia/src/graph-construction.jl:91\n",
      "\u001b[32mProgress: 100%|█████████████████████████████████████████| Time: 0:00:02\u001b[39m\n"
     ]
    },
    {
     "data": {
      "text/plain": [
       "{10, 11} undirected Int64 metagraph with Float64 weights defined by :weight (default weight 1.0)"
      ]
     },
     "execution_count": 10,
     "metadata": {},
     "output_type": "execute_result"
    }
   ],
   "source": [
    "graph = Mycelia.fastx_to_kmer_graph(T, fasta_file)"
   ]
  },
  {
   "cell_type": "code",
   "execution_count": 11,
   "metadata": {},
   "outputs": [
    {
     "data": {
      "image/svg+xml": [
       "<?xml version=\"1.0\" encoding=\"utf-8\"?>\n",
       "<svg xmlns=\"http://www.w3.org/2000/svg\" xmlns:xlink=\"http://www.w3.org/1999/xlink\" width=\"690.75\" height=\"345.5\" viewBox=\"0 0 2763 1382\">\n",
       "<defs>\n",
       "  <clipPath id=\"clip330\">\n",
       "    <rect x=\"0\" y=\"0\" width=\"2763\" height=\"1382\"/>\n",
       "  </clipPath>\n",
       "</defs>\n",
       "<path clip-path=\"url(#clip330)\" d=\"\n",
       "M0 1382 L2763 1382 L2763 0 L0 0  Z\n",
       "  \" fill=\"#ffffff\" fill-rule=\"evenodd\" fill-opacity=\"1\"/>\n",
       "<defs>\n",
       "  <clipPath id=\"clip331\">\n",
       "    <rect x=\"552\" y=\"0\" width=\"1935\" height=\"1382\"/>\n",
       "  </clipPath>\n",
       "</defs>\n",
       "<path clip-path=\"url(#clip330)\" d=\"\n",
       "M737.992 1334.74 L2025.01 1334.74 L2025.01 47.2594 L737.992 47.2594  Z\n",
       "  \" fill=\"#ffffff\" fill-rule=\"evenodd\" fill-opacity=\"1\"/>\n",
       "<defs>\n",
       "  <clipPath id=\"clip332\">\n",
       "    <rect x=\"737\" y=\"47\" width=\"1288\" height=\"1288\"/>\n",
       "  </clipPath>\n",
       "</defs>\n",
       "<polyline clip-path=\"url(#clip332)\" style=\"stroke:#000000; stroke-linecap:butt; stroke-linejoin:round; stroke-width:4.0013; stroke-opacity:1; fill:none\" points=\"\n",
       "  1130.79,999.395 1135.97,1005.02 1141.15,1010.63 1146.33,1016.23 1151.53,1021.81 1156.75,1027.35 1161.98,1032.84 1167.24,1038.29 1172.53,1043.68 1177.86,1049 \n",
       "  1183.21,1054.24 1188.61,1059.4 1194.06,1064.47 1199.55,1069.43 1205.1,1074.29 1210.7,1079.02 1216.36,1083.63 1222.09,1088.11 1227.89,1092.44 1233.76,1096.62 \n",
       "  1239.71,1100.64 1245.74,1104.49 1251.86,1108.16 1258.07,1111.65 1264.37,1114.94 1270.76,1118.03 1277.26,1120.92 1283.85,1123.61 1290.53,1126.12 1297.29,1128.45 \n",
       "  1304.14,1130.61 1311.06,1132.61 1318.06,1134.46 1325.12,1136.17 1332.26,1137.74 1339.45,1139.18 1346.7,1140.51 1354,1141.72 1361.35,1142.84 1368.75,1143.86 \n",
       "  1376.19,1144.79 1383.66,1145.65 1391.17,1146.45 1398.7,1147.18 1406.26,1147.86 1413.84,1148.5 1421.44,1149.11 1429.05,1149.69 1436.66,1150.26 1444.28,1150.81 \n",
       "  \n",
       "  \"/>\n",
       "<polyline clip-path=\"url(#clip332)\" style=\"stroke:#000000; stroke-linecap:butt; stroke-linejoin:round; stroke-width:4.0013; stroke-opacity:1; fill:none\" points=\"\n",
       "  1130.79,999.395 1136.24,997.16 1141.67,994.919 1147.09,992.667 1152.49,990.396 1157.86,988.102 1163.19,985.779 1168.48,983.419 1173.72,981.019 1178.9,978.571 \n",
       "  1184.01,976.07 1189.05,973.509 1194.02,970.884 1198.89,968.188 1203.67,965.414 1208.35,962.558 1212.92,959.613 1217.37,956.573 1221.7,953.433 1225.9,950.186 \n",
       "  1229.96,946.827 1233.87,943.349 1237.63,939.747 1241.24,936.015 1244.67,932.147 1247.93,928.137 1251.02,923.985 1253.93,919.697 1256.69,915.279 1259.3,910.736 \n",
       "  1261.76,906.075 1264.08,901.302 1266.27,896.422 1268.34,891.442 1270.29,886.367 1272.13,881.203 1273.87,875.956 1275.51,870.633 1277.07,865.238 1278.55,859.778 \n",
       "  1279.96,854.259 1281.29,848.687 1282.58,843.068 1283.81,837.407 1284.99,831.71 1286.14,825.984 1287.27,820.234 1288.37,814.467 1289.45,808.688 1290.53,802.902 \n",
       "  \n",
       "  \"/>\n",
       "<polyline clip-path=\"url(#clip332)\" style=\"stroke:#000000; stroke-linecap:butt; stroke-linejoin:round; stroke-width:4.0013; stroke-opacity:1; fill:none\" points=\"\n",
       "  1130.79,999.395 1124.27,995.363 1117.76,991.326 1111.27,987.277 1104.8,983.211 1098.35,979.124 1091.95,975.008 1085.59,970.858 1079.28,966.669 1073.03,962.435 \n",
       "  1066.85,958.151 1060.75,953.811 1054.73,949.408 1048.79,944.939 1042.96,940.397 1037.23,935.776 1031.61,931.071 1026.12,926.276 1020.75,921.385 1015.52,916.394 \n",
       "  1010.43,911.296 1005.49,906.086 1000.7,900.758 996.086,895.307 991.642,889.727 987.378,884.012 983.294,878.163 979.383,872.184 975.637,866.083 972.049,859.863 \n",
       "  968.611,853.531 965.316,847.093 962.156,840.554 959.124,833.919 956.212,827.194 953.413,820.386 950.719,813.498 948.123,806.538 945.617,799.511 943.193,792.422 \n",
       "  940.845,785.276 938.564,778.08 936.344,770.84 934.176,763.56 932.053,756.246 929.967,748.904 927.912,741.54 925.88,734.159 923.862,726.767 921.852,719.369 \n",
       "  \n",
       "  \"/>\n",
       "<polyline clip-path=\"url(#clip332)\" style=\"stroke:#000000; stroke-linecap:butt; stroke-linejoin:round; stroke-width:4.0013; stroke-opacity:1; fill:none\" points=\"\n",
       "  1318.72,231.185 1313.67,236.833 1308.63,242.472 1303.57,248.094 1298.5,253.692 1293.42,259.255 1288.31,264.777 1283.18,270.248 1278.02,275.66 1272.83,281.005 \n",
       "  1267.6,286.275 1262.33,291.46 1257.01,296.554 1251.64,301.546 1246.22,306.429 1240.73,311.194 1235.19,315.834 1229.58,320.339 1223.9,324.701 1218.14,328.912 \n",
       "  1212.31,332.964 1206.39,336.847 1200.38,340.554 1194.28,344.076 1188.09,347.405 1181.79,350.533 1175.4,353.459 1168.91,356.193 1162.33,358.741 1155.66,361.113 \n",
       "  1148.9,363.317 1142.07,365.361 1135.17,367.254 1128.19,369.005 1121.14,370.621 1114.03,372.11 1106.87,373.483 1099.65,374.746 1092.38,375.908 1085.06,376.978 \n",
       "  1077.7,377.964 1070.31,378.874 1062.88,379.717 1055.42,380.501 1047.94,381.235 1040.43,381.927 1032.91,382.585 1025.38,383.218 1017.84,383.834 1010.29,384.442 \n",
       "  \n",
       "  \"/>\n",
       "<polyline clip-path=\"url(#clip332)\" style=\"stroke:#000000; stroke-linecap:butt; stroke-linejoin:round; stroke-width:4.0013; stroke-opacity:1; fill:none\" points=\"\n",
       "  1318.72,231.185 1323.89,236.809 1329.07,242.425 1334.26,248.023 1339.46,253.597 1344.67,259.136 1349.91,264.633 1355.17,270.08 1360.46,275.467 1365.78,280.787 \n",
       "  1371.14,286.031 1376.54,291.19 1381.98,296.257 1387.47,301.222 1393.02,306.077 1398.62,310.814 1404.29,315.425 1410.02,319.9 1415.81,324.231 1421.69,328.411 \n",
       "  1427.64,332.43 1433.67,336.28 1439.78,339.953 1445.99,343.44 1452.29,346.732 1458.69,349.822 1465.18,352.71 1471.77,355.404 1478.45,357.911 1485.22,360.242 \n",
       "  1492.06,362.403 1498.99,364.404 1505.98,366.253 1513.05,367.958 1520.18,369.528 1527.37,370.972 1534.62,372.297 1541.92,373.512 1549.28,374.626 1556.67,375.647 \n",
       "  1564.11,376.584 1571.58,377.444 1579.09,378.237 1586.63,378.971 1594.19,379.654 1601.77,380.295 1609.36,380.903 1616.97,381.484 1624.59,382.049 1632.21,382.606 \n",
       "  \n",
       "  \"/>\n",
       "<polyline clip-path=\"url(#clip332)\" style=\"stroke:#000000; stroke-linecap:butt; stroke-linejoin:round; stroke-width:4.0013; stroke-opacity:1; fill:none\" points=\"\n",
       "  1444.28,1150.81 1451.83,1150.21 1459.37,1149.59 1466.9,1148.96 1474.42,1148.3 1481.93,1147.61 1489.41,1146.87 1496.87,1146.09 1504.3,1145.25 1511.69,1144.34 \n",
       "  1519.05,1143.35 1526.37,1142.28 1533.64,1141.12 1540.86,1139.86 1548.02,1138.48 1555.13,1136.99 1562.18,1135.38 1569.15,1133.63 1576.06,1131.73 1582.89,1129.69 \n",
       "  1589.65,1127.49 1596.32,1125.11 1602.9,1122.57 1609.39,1119.83 1615.78,1116.91 1622.08,1113.78 1628.27,1110.45 1634.37,1106.93 1640.38,1103.22 1646.3,1099.34 \n",
       "  1652.13,1095.28 1657.89,1091.07 1663.57,1086.71 1669.18,1082.21 1674.72,1077.57 1680.2,1072.8 1685.63,1067.92 1691,1062.93 1696.31,1057.83 1701.59,1052.65 \n",
       "  1706.82,1047.38 1712.01,1042.03 1717.17,1036.62 1722.3,1031.15 1727.41,1025.63 1732.49,1020.06 1737.56,1014.47 1742.62,1008.84 1747.66,1003.21 1752.71,997.558 \n",
       "  \n",
       "  \"/>\n",
       "<polyline clip-path=\"url(#clip332)\" style=\"stroke:#000000; stroke-linecap:butt; stroke-linejoin:round; stroke-width:4.0013; stroke-opacity:1; fill:none\" points=\"\n",
       "  1752.71,997.558 1757.23,991.441 1761.75,985.322 1766.24,979.198 1770.71,973.067 1775.15,966.927 1779.53,960.774 1783.87,954.607 1788.14,948.424 1792.34,942.221 \n",
       "  1796.45,935.996 1800.48,929.748 1804.4,923.473 1808.22,917.17 1811.92,910.835 1815.49,904.467 1818.93,898.063 1822.22,891.62 1825.36,885.137 1828.33,878.611 \n",
       "  1831.13,872.039 1833.75,865.419 1836.18,858.749 1838.42,852.026 1840.44,845.248 1842.24,838.413 1843.83,831.521 1845.21,824.573 1846.39,817.572 1847.38,810.522 \n",
       "  1848.19,803.423 1848.82,796.279 1849.3,789.091 1849.61,781.863 1849.79,774.597 1849.82,767.295 1849.74,759.959 1849.53,752.592 1849.21,745.196 1848.8,737.774 \n",
       "  1848.29,730.328 1847.7,722.861 1847.04,715.374 1846.32,707.87 1845.54,700.352 1844.72,692.822 1843.86,685.283 1842.97,677.736 1842.06,670.185 1841.15,662.631 \n",
       "  \n",
       "  \"/>\n",
       "<polyline clip-path=\"url(#clip332)\" style=\"stroke:#000000; stroke-linecap:butt; stroke-linejoin:round; stroke-width:4.0013; stroke-opacity:1; fill:none\" points=\"\n",
       "  1841.15,662.631 1834.63,658.599 1828.12,654.562 1821.62,650.513 1815.15,646.448 1808.71,642.36 1802.3,638.244 1795.94,634.094 1789.64,629.905 1783.39,625.672 \n",
       "  1777.21,621.387 1771.1,617.047 1765.08,612.645 1759.15,608.175 1753.31,603.633 1747.59,599.012 1741.97,594.307 1736.47,589.512 1731.1,584.622 1725.87,579.631 \n",
       "  1720.78,574.533 1715.84,569.323 1711.06,563.995 1706.44,558.544 1702,552.963 1697.73,547.248 1693.65,541.399 1689.74,535.421 1685.99,529.319 1682.4,523.1 \n",
       "  1678.97,516.768 1675.67,510.33 1672.51,503.79 1669.48,497.155 1666.57,490.431 1663.77,483.622 1661.07,476.735 1658.48,469.775 1655.97,462.747 1653.55,455.658 \n",
       "  1651.2,448.513 1648.92,441.317 1646.7,434.076 1644.53,426.796 1642.41,419.483 1640.32,412.141 1638.27,404.777 1636.23,397.396 1634.22,390.004 1632.21,382.606 \n",
       "  \n",
       "  \"/>\n",
       "<polyline clip-path=\"url(#clip332)\" style=\"stroke:#000000; stroke-linecap:butt; stroke-linejoin:round; stroke-width:4.0013; stroke-opacity:1; fill:none\" points=\"\n",
       "  1290.53,802.902 1296.42,800.11 1302.31,797.312 1308.18,794.502 1314.04,791.674 1319.86,788.823 1325.64,785.942 1331.39,783.025 1337.08,780.067 1342.71,777.062 \n",
       "  1348.28,774.004 1353.78,770.886 1359.19,767.703 1364.52,764.449 1369.75,761.119 1374.88,757.705 1379.9,754.203 1384.81,750.605 1389.59,746.908 1394.24,743.103 \n",
       "  1398.76,739.187 1403.12,735.152 1407.34,730.992 1411.39,726.703 1415.28,722.277 1418.99,717.71 1422.53,713.001 1425.91,708.155 1429.12,703.18 1432.18,698.08 \n",
       "  1435.09,692.862 1437.86,687.531 1440.51,682.094 1443.03,676.556 1445.43,670.924 1447.73,665.202 1449.92,659.398 1452.02,653.517 1454.03,647.565 1455.96,641.548 \n",
       "  1457.82,635.471 1459.61,629.342 1461.35,623.165 1463.03,616.946 1464.67,610.693 1466.27,604.409 1467.85,598.102 1469.4,591.777 1470.94,585.44 1472.47,579.098 \n",
       "  \n",
       "  \"/>\n",
       "<polyline clip-path=\"url(#clip332)\" style=\"stroke:#000000; stroke-linecap:butt; stroke-linejoin:round; stroke-width:4.0013; stroke-opacity:1; fill:none\" points=\"\n",
       "  1472.47,579.098 1477.91,576.863 1483.35,574.622 1488.77,572.369 1494.17,570.099 1499.54,567.805 1504.87,565.482 1510.16,563.122 1515.4,560.722 1520.58,558.274 \n",
       "  1525.69,555.773 1530.73,553.213 1535.69,550.587 1540.57,547.891 1545.35,545.117 1550.03,542.261 1554.6,539.316 1559.05,536.276 1563.38,533.136 1567.58,529.889 \n",
       "  1571.64,526.53 1575.55,523.052 1579.31,519.45 1582.91,515.718 1586.35,511.85 1589.61,507.84 1592.69,503.688 1595.61,499.4 1598.37,494.982 1600.98,490.44 \n",
       "  1603.44,485.779 1605.76,481.006 1607.95,476.126 1610.02,471.146 1611.97,466.07 1613.81,460.907 1615.55,455.66 1617.19,450.336 1618.75,444.942 1620.23,439.482 \n",
       "  1621.63,433.963 1622.97,428.391 1624.26,422.771 1625.49,417.11 1626.67,411.414 1627.82,405.688 1628.94,399.938 1630.04,394.17 1631.13,388.391 1632.21,382.606 \n",
       "  \n",
       "  \"/>\n",
       "<polyline clip-path=\"url(#clip332)\" style=\"stroke:#000000; stroke-linecap:butt; stroke-linejoin:round; stroke-width:4.0013; stroke-opacity:1; fill:none\" points=\"\n",
       "  1010.29,384.442 1011.21,391.996 1012.11,399.547 1013,407.094 1013.86,414.634 1014.68,422.163 1015.46,429.681 1016.19,437.185 1016.85,444.672 1017.44,452.139 \n",
       "  1017.94,459.585 1018.36,467.007 1018.67,474.403 1018.88,481.77 1018.97,489.106 1018.93,496.408 1018.76,503.675 1018.44,510.903 1017.97,518.09 1017.33,525.234 \n",
       "  1016.52,532.333 1015.53,539.384 1014.36,546.384 1012.98,553.332 1011.39,560.224 1009.58,567.06 1007.56,573.838 1005.33,580.56 1002.9,587.23 1000.28,593.85 \n",
       "  997.478,600.422 994.504,606.948 991.367,613.431 988.075,619.874 984.639,626.278 981.067,632.646 977.367,638.981 973.55,645.284 969.624,651.559 965.599,657.807 \n",
       "  961.482,664.032 957.284,670.235 953.014,676.419 948.68,682.586 944.292,688.738 939.858,694.879 935.388,701.01 930.891,707.134 926.376,713.253 921.852,719.369 \n",
       "  \n",
       "  \"/>\n",
       "<path clip-path=\"url(#clip332)\" d=\"\n",
       "M1221.65 999.395 L1176.22 920.68 L1085.36 920.68 L1039.93 999.395 L1085.36 1078.11 L1176.22 1078.11 L1221.65 999.395 L1221.65 999.395  Z\n",
       "  \" fill=\"#009af9\" fill-rule=\"evenodd\" fill-opacity=\"1\"/>\n",
       "<polyline clip-path=\"url(#clip332)\" style=\"stroke:#000000; stroke-linecap:butt; stroke-linejoin:round; stroke-width:4.0013; stroke-opacity:1; fill:none\" points=\"\n",
       "  1221.65,999.395 1176.22,920.68 1085.36,920.68 1039.93,999.395 1085.36,1078.11 1176.22,1078.11 1221.65,999.395 \n",
       "  \"/>\n",
       "<path clip-path=\"url(#clip332)\" d=\"\n",
       "M1375.93 231.185 L1347.32 181.624 L1290.11 181.624 L1261.51 231.185 L1290.11 280.747 L1347.32 280.747 L1375.93 231.185 L1375.93 231.185  Z\n",
       "  \" fill=\"#009af9\" fill-rule=\"evenodd\" fill-opacity=\"1\"/>\n",
       "<polyline clip-path=\"url(#clip332)\" style=\"stroke:#000000; stroke-linecap:butt; stroke-linejoin:round; stroke-width:4.0013; stroke-opacity:1; fill:none\" points=\"\n",
       "  1375.93,231.185 1347.32,181.624 1290.11,181.624 1261.51,231.185 1290.11,280.747 1347.32,280.747 1375.93,231.185 \n",
       "  \"/>\n",
       "<path clip-path=\"url(#clip332)\" d=\"\n",
       "M1518.32 1150.81 L1481.3 1086.68 L1407.27 1086.68 L1370.25 1150.81 L1407.27 1214.95 L1481.3 1214.95 L1518.32 1150.81 L1518.32 1150.81  Z\n",
       "  \" fill=\"#009af9\" fill-rule=\"evenodd\" fill-opacity=\"1\"/>\n",
       "<polyline clip-path=\"url(#clip332)\" style=\"stroke:#000000; stroke-linecap:butt; stroke-linejoin:round; stroke-width:4.0013; stroke-opacity:1; fill:none\" points=\"\n",
       "  1518.32,1150.81 1481.3,1086.68 1407.27,1086.68 1370.25,1150.81 1407.27,1214.95 1481.3,1214.95 1518.32,1150.81 \n",
       "  \"/>\n",
       "<path clip-path=\"url(#clip332)\" d=\"\n",
       "M1826.74 997.558 L1789.72 933.42 L1715.69 933.42 L1678.67 997.558 L1715.69 1061.7 L1789.72 1061.7 L1826.74 997.558 L1826.74 997.558  Z\n",
       "  \" fill=\"#009af9\" fill-rule=\"evenodd\" fill-opacity=\"1\"/>\n",
       "<polyline clip-path=\"url(#clip332)\" style=\"stroke:#000000; stroke-linecap:butt; stroke-linejoin:round; stroke-width:4.0013; stroke-opacity:1; fill:none\" points=\"\n",
       "  1826.74,997.558 1789.72,933.42 1715.69,933.42 1678.67,997.558 1715.69,1061.7 1789.72,1061.7 1826.74,997.558 \n",
       "  \"/>\n",
       "<path clip-path=\"url(#clip332)\" d=\"\n",
       "M1915.18 662.631 L1878.17 598.493 L1804.13 598.493 L1767.11 662.631 L1804.13 726.769 L1878.17 726.769 L1915.18 662.631 L1915.18 662.631  Z\n",
       "  \" fill=\"#009af9\" fill-rule=\"evenodd\" fill-opacity=\"1\"/>\n",
       "<polyline clip-path=\"url(#clip332)\" style=\"stroke:#000000; stroke-linecap:butt; stroke-linejoin:round; stroke-width:4.0013; stroke-opacity:1; fill:none\" points=\"\n",
       "  1915.18,662.631 1878.17,598.493 1804.13,598.493 1767.11,662.631 1804.13,726.769 1878.17,726.769 1915.18,662.631 \n",
       "  \"/>\n",
       "<path clip-path=\"url(#clip332)\" d=\"\n",
       "M1381.39 802.902 L1335.96 724.187 L1245.1 724.187 L1199.67 802.902 L1245.1 881.617 L1335.96 881.617 L1381.39 802.902 L1381.39 802.902  Z\n",
       "  \" fill=\"#009af9\" fill-rule=\"evenodd\" fill-opacity=\"1\"/>\n",
       "<polyline clip-path=\"url(#clip332)\" style=\"stroke:#000000; stroke-linecap:butt; stroke-linejoin:round; stroke-width:4.0013; stroke-opacity:1; fill:none\" points=\"\n",
       "  1381.39,802.902 1335.96,724.187 1245.1,724.187 1199.67,802.902 1245.1,881.617 1335.96,881.617 1381.39,802.902 \n",
       "  \"/>\n",
       "<path clip-path=\"url(#clip332)\" d=\"\n",
       "M1613.81 579.098 L1543.14 456.652 L1401.8 456.652 L1331.13 579.098 L1401.8 701.543 L1543.14 701.543 L1613.81 579.098 L1613.81 579.098  Z\n",
       "  \" fill=\"#009af9\" fill-rule=\"evenodd\" fill-opacity=\"1\"/>\n",
       "<polyline clip-path=\"url(#clip332)\" style=\"stroke:#000000; stroke-linecap:butt; stroke-linejoin:round; stroke-width:4.0013; stroke-opacity:1; fill:none\" points=\"\n",
       "  1613.81,579.098 1543.14,456.652 1401.8,456.652 1331.13,579.098 1401.8,701.543 1543.14,701.543 1613.81,579.098 1613.81,579.098 \n",
       "  \"/>\n",
       "<path clip-path=\"url(#clip332)\" d=\"\n",
       "M1067.5 384.442 L1038.9 334.881 L981.69 334.881 L953.086 384.442 L981.69 434.003 L1038.9 434.003 L1067.5 384.442 L1067.5 384.442  Z\n",
       "  \" fill=\"#009af9\" fill-rule=\"evenodd\" fill-opacity=\"1\"/>\n",
       "<polyline clip-path=\"url(#clip332)\" style=\"stroke:#000000; stroke-linecap:butt; stroke-linejoin:round; stroke-width:4.0013; stroke-opacity:1; fill:none\" points=\"\n",
       "  1067.5,384.442 1038.9,334.881 981.69,334.881 953.086,384.442 981.69,434.003 1038.9,434.003 1067.5,384.442 \n",
       "  \"/>\n",
       "<path clip-path=\"url(#clip332)\" d=\"\n",
       "M1723.07 382.606 L1677.64 303.891 L1586.78 303.891 L1541.35 382.606 L1586.78 461.321 L1677.64 461.321 L1723.07 382.606 L1723.07 382.606  Z\n",
       "  \" fill=\"#009af9\" fill-rule=\"evenodd\" fill-opacity=\"1\"/>\n",
       "<polyline clip-path=\"url(#clip332)\" style=\"stroke:#000000; stroke-linecap:butt; stroke-linejoin:round; stroke-width:4.0013; stroke-opacity:1; fill:none\" points=\"\n",
       "  1723.07,382.606 1677.64,303.891 1586.78,303.891 1541.35,382.606 1586.78,461.321 1677.64,461.321 1723.07,382.606 \n",
       "  \"/>\n",
       "<path clip-path=\"url(#clip332)\" d=\"\n",
       "M979.059 719.369 L950.455 669.808 L893.248 669.808 L864.644 719.369 L893.248 768.93 L950.455 768.93 L979.059 719.369 L979.059 719.369  Z\n",
       "  \" fill=\"#009af9\" fill-rule=\"evenodd\" fill-opacity=\"1\"/>\n",
       "<polyline clip-path=\"url(#clip332)\" style=\"stroke:#000000; stroke-linecap:butt; stroke-linejoin:round; stroke-width:4.0013; stroke-opacity:1; fill:none\" points=\"\n",
       "  979.059,719.369 950.455,669.808 893.248,669.808 864.644,719.369 893.248,768.93 950.455,768.93 979.059,719.369 \n",
       "  \"/>\n",
       "<circle clip-path=\"url(#clip332)\" style=\"fill:#009af9; stroke:none; fill-opacity:1\" cx=\"1130.79\" cy=\"999.395\" r=\"2\"/>\n",
       "<circle clip-path=\"url(#clip332)\" style=\"fill:#009af9; stroke:none; fill-opacity:1\" cx=\"1318.72\" cy=\"231.185\" r=\"2\"/>\n",
       "<circle clip-path=\"url(#clip332)\" style=\"fill:#009af9; stroke:none; fill-opacity:1\" cx=\"1444.28\" cy=\"1150.81\" r=\"2\"/>\n",
       "<circle clip-path=\"url(#clip332)\" style=\"fill:#009af9; stroke:none; fill-opacity:1\" cx=\"1752.71\" cy=\"997.558\" r=\"2\"/>\n",
       "<circle clip-path=\"url(#clip332)\" style=\"fill:#009af9; stroke:none; fill-opacity:1\" cx=\"1841.15\" cy=\"662.631\" r=\"2\"/>\n",
       "<circle clip-path=\"url(#clip332)\" style=\"fill:#009af9; stroke:none; fill-opacity:1\" cx=\"1290.53\" cy=\"802.902\" r=\"2\"/>\n",
       "<circle clip-path=\"url(#clip332)\" style=\"fill:#009af9; stroke:none; fill-opacity:1\" cx=\"1472.47\" cy=\"579.098\" r=\"2\"/>\n",
       "<circle clip-path=\"url(#clip332)\" style=\"fill:#009af9; stroke:none; fill-opacity:1\" cx=\"1010.29\" cy=\"384.442\" r=\"2\"/>\n",
       "<circle clip-path=\"url(#clip332)\" style=\"fill:#009af9; stroke:none; fill-opacity:1\" cx=\"1632.21\" cy=\"382.606\" r=\"2\"/>\n",
       "<circle clip-path=\"url(#clip332)\" style=\"fill:#009af9; stroke:none; fill-opacity:1\" cx=\"921.852\" cy=\"719.369\" r=\"2\"/>\n",
       "<path clip-path=\"url(#clip330)\" d=\"M1103.15 988.302 L1097.6 1003.36 L1108.72 1003.36 L1103.15 988.302 M1100.84 984.27 L1105.48 984.27 L1117 1014.52 L1112.75 1014.52 L1109.99 1006.76 L1096.36 1006.76 L1093.61 1014.52 L1089.29 1014.52 L1100.84 984.27 Z\" fill=\"#000000\" fill-rule=\"evenodd\" fill-opacity=\"1\" /><path clip-path=\"url(#clip330)\" d=\"M1143.33 986.6 L1143.33 990.915 Q1141.26 988.991 1138.91 988.038 Q1136.59 987.086 1133.95 987.086 Q1128.77 987.086 1126.01 990.267 Q1123.26 993.428 1123.26 999.425 Q1123.26 1005.4 1126.01 1008.58 Q1128.77 1011.74 1133.95 1011.74 Q1136.59 1011.74 1138.91 1010.79 Q1141.26 1009.84 1143.33 1007.91 L1143.33 1012.19 Q1141.18 1013.65 1138.77 1014.38 Q1136.38 1015.11 1133.71 1015.11 Q1126.84 1015.11 1122.89 1010.91 Q1118.94 1006.7 1118.94 999.425 Q1118.94 992.131 1122.89 987.937 Q1126.84 983.723 1133.71 983.723 Q1136.42 983.723 1138.81 984.452 Q1141.22 985.161 1143.33 986.6 Z\" fill=\"#000000\" fill-rule=\"evenodd\" fill-opacity=\"1\" /><path clip-path=\"url(#clip330)\" d=\"M1172.29 986.6 L1172.29 990.915 Q1170.23 988.991 1167.88 988.038 Q1165.55 987.086 1162.92 987.086 Q1157.73 987.086 1154.98 990.267 Q1152.22 993.428 1152.22 999.425 Q1152.22 1005.4 1154.98 1008.58 Q1157.73 1011.74 1162.92 1011.74 Q1165.55 1011.74 1167.88 1010.79 Q1170.23 1009.84 1172.29 1007.91 L1172.29 1012.19 Q1170.15 1013.65 1167.74 1014.38 Q1165.35 1015.11 1162.67 1015.11 Q1155.81 1015.11 1151.86 1010.91 Q1147.91 1006.7 1147.91 999.425 Q1147.91 992.131 1151.86 987.937 Q1155.81 983.723 1162.67 983.723 Q1165.39 983.723 1167.78 984.452 Q1170.19 985.161 1172.29 986.6 Z\" fill=\"#000000\" fill-rule=\"evenodd\" fill-opacity=\"1\" /><path clip-path=\"url(#clip330)\" d=\"M1288.47 220.092 L1282.92 235.146 L1294.04 235.146 L1288.47 220.092 M1286.16 216.06 L1290.8 216.06 L1302.32 246.31 L1298.07 246.31 L1295.31 238.55 L1281.68 238.55 L1278.93 246.31 L1274.61 246.31 L1286.16 216.06 Z\" fill=\"#000000\" fill-rule=\"evenodd\" fill-opacity=\"1\" /><path clip-path=\"url(#clip330)\" d=\"M1326.63 241.995 L1326.63 233.87 L1319.94 233.87 L1319.94 230.507 L1330.68 230.507 L1330.68 243.494 Q1328.31 245.176 1325.45 246.047 Q1322.6 246.898 1319.36 246.898 Q1312.27 246.898 1308.26 242.765 Q1304.27 238.611 1304.27 231.216 Q1304.27 223.8 1308.26 219.667 Q1312.27 215.513 1319.36 215.513 Q1322.31 215.513 1324.97 216.243 Q1327.64 216.972 1329.89 218.39 L1329.89 222.747 Q1327.62 220.822 1325.07 219.849 Q1322.52 218.877 1319.7 218.877 Q1314.15 218.877 1311.36 221.977 Q1308.58 225.077 1308.58 231.216 Q1308.58 237.335 1311.36 240.435 Q1314.15 243.534 1319.7 243.534 Q1321.87 243.534 1323.57 243.17 Q1325.27 242.785 1326.63 241.995 Z\" fill=\"#000000\" fill-rule=\"evenodd\" fill-opacity=\"1\" /><path clip-path=\"url(#clip330)\" d=\"M1358.77 241.995 L1358.77 233.87 L1352.09 233.87 L1352.09 230.507 L1362.82 230.507 L1362.82 243.494 Q1360.45 245.176 1357.59 246.047 Q1354.74 246.898 1351.5 246.898 Q1344.41 246.898 1340.4 242.765 Q1336.41 238.611 1336.41 231.216 Q1336.41 223.8 1340.4 219.667 Q1344.41 215.513 1351.5 215.513 Q1354.46 215.513 1357.11 216.243 Q1359.78 216.972 1362.03 218.39 L1362.03 222.747 Q1359.76 220.822 1357.21 219.849 Q1354.66 218.877 1351.84 218.877 Q1346.29 218.877 1343.5 221.977 Q1340.72 225.077 1340.72 231.216 Q1340.72 237.335 1343.5 240.435 Q1346.29 243.534 1351.84 243.534 Q1354.01 243.534 1355.71 243.17 Q1357.41 242.785 1358.77 241.995 Z\" fill=\"#000000\" fill-rule=\"evenodd\" fill-opacity=\"1\" /><path clip-path=\"url(#clip330)\" d=\"M1428.17 1138.02 L1428.17 1142.34 Q1426.11 1140.41 1423.76 1139.46 Q1421.43 1138.51 1418.79 1138.51 Q1413.61 1138.51 1410.85 1141.69 Q1408.1 1144.85 1408.1 1150.85 Q1408.1 1156.82 1410.85 1160 Q1413.61 1163.16 1418.79 1163.16 Q1421.43 1163.16 1423.76 1162.21 Q1426.11 1161.26 1428.17 1159.33 L1428.17 1163.61 Q1426.02 1165.07 1423.61 1165.8 Q1421.22 1166.53 1418.55 1166.53 Q1411.68 1166.53 1407.73 1162.33 Q1403.79 1158.12 1403.79 1150.85 Q1403.79 1143.55 1407.73 1139.36 Q1411.68 1135.14 1418.55 1135.14 Q1421.26 1135.14 1423.65 1135.87 Q1426.06 1136.58 1428.17 1138.02 Z\" fill=\"#000000\" fill-rule=\"evenodd\" fill-opacity=\"1\" /><path clip-path=\"url(#clip330)\" d=\"M1444.6 1139.72 L1439.05 1154.78 L1450.17 1154.78 L1444.6 1139.72 M1442.29 1135.69 L1446.93 1135.69 L1458.45 1165.94 L1454.2 1165.94 L1451.44 1158.18 L1437.81 1158.18 L1435.06 1165.94 L1430.74 1165.94 L1442.29 1135.69 Z\" fill=\"#000000\" fill-rule=\"evenodd\" fill-opacity=\"1\" /><path clip-path=\"url(#clip330)\" d=\"M1484.78 1138.02 L1484.78 1142.34 Q1482.71 1140.41 1480.36 1139.46 Q1478.04 1138.51 1475.4 1138.51 Q1470.22 1138.51 1467.46 1141.69 Q1464.71 1144.85 1464.71 1150.85 Q1464.71 1156.82 1467.46 1160 Q1470.22 1163.16 1475.4 1163.16 Q1478.04 1163.16 1480.36 1162.21 Q1482.71 1161.26 1484.78 1159.33 L1484.78 1163.61 Q1482.63 1165.07 1480.22 1165.8 Q1477.83 1166.53 1475.16 1166.53 Q1468.29 1166.53 1464.34 1162.33 Q1460.39 1158.12 1460.39 1150.85 Q1460.39 1143.55 1464.34 1139.36 Q1468.29 1135.14 1475.16 1135.14 Q1477.87 1135.14 1480.26 1135.87 Q1482.67 1136.58 1484.78 1138.02 Z\" fill=\"#000000\" fill-rule=\"evenodd\" fill-opacity=\"1\" /><path clip-path=\"url(#clip330)\" d=\"M1735.28 984.763 L1735.28 989.079 Q1733.21 987.154 1730.86 986.202 Q1728.53 985.249 1725.9 985.249 Q1720.72 985.249 1717.96 988.43 Q1715.21 991.591 1715.21 997.588 Q1715.21 1003.57 1717.96 1006.75 Q1720.72 1009.91 1725.9 1009.91 Q1728.53 1009.91 1730.86 1008.95 Q1733.21 1008 1735.28 1006.08 L1735.28 1010.35 Q1733.13 1011.81 1730.72 1012.54 Q1728.33 1013.27 1725.66 1013.27 Q1718.79 1013.27 1714.84 1009.08 Q1710.89 1004.86 1710.89 997.588 Q1710.89 990.294 1714.84 986.1 Q1718.79 981.886 1725.66 981.886 Q1728.37 981.886 1730.76 982.615 Q1733.17 983.325 1735.28 984.763 Z\" fill=\"#000000\" fill-rule=\"evenodd\" fill-opacity=\"1\" /><path clip-path=\"url(#clip330)\" d=\"M1764.24 984.763 L1764.24 989.079 Q1762.17 987.154 1759.83 986.202 Q1757.5 985.249 1754.86 985.249 Q1749.68 985.249 1746.92 988.43 Q1744.17 991.591 1744.17 997.588 Q1744.17 1003.57 1746.92 1006.75 Q1749.68 1009.91 1754.86 1009.91 Q1757.5 1009.91 1759.83 1008.95 Q1762.17 1008 1764.24 1006.08 L1764.24 1010.35 Q1762.09 1011.81 1759.68 1012.54 Q1757.29 1013.27 1754.62 1013.27 Q1747.75 1013.27 1743.8 1009.08 Q1739.86 1004.86 1739.86 997.588 Q1739.86 990.294 1743.8 986.1 Q1747.75 981.886 1754.62 981.886 Q1757.33 981.886 1759.72 982.615 Q1762.13 983.325 1764.24 984.763 Z\" fill=\"#000000\" fill-rule=\"evenodd\" fill-opacity=\"1\" /><path clip-path=\"url(#clip330)\" d=\"M1780.67 986.465 L1775.12 1001.52 L1786.24 1001.52 L1780.67 986.465 M1778.36 982.433 L1783 982.433 L1794.52 1012.68 L1790.27 1012.68 L1787.51 1004.92 L1773.88 1004.92 L1771.13 1012.68 L1766.81 1012.68 L1778.36 982.433 Z\" fill=\"#000000\" fill-rule=\"evenodd\" fill-opacity=\"1\" /><path clip-path=\"url(#clip330)\" d=\"M1824.38 649.836 L1824.38 654.152 Q1822.31 652.227 1819.96 651.275 Q1817.63 650.322 1815 650.322 Q1809.82 650.322 1807.06 653.503 Q1804.31 656.664 1804.31 662.661 Q1804.31 668.638 1807.06 671.819 Q1809.82 674.98 1815 674.98 Q1817.63 674.98 1819.96 674.028 Q1822.31 673.076 1824.38 671.151 L1824.38 675.426 Q1822.23 676.885 1819.82 677.614 Q1817.43 678.344 1814.76 678.344 Q1807.89 678.344 1803.94 674.149 Q1799.99 669.935 1799.99 662.661 Q1799.99 655.367 1803.94 651.173 Q1807.89 646.959 1814.76 646.959 Q1817.47 646.959 1819.86 647.688 Q1822.27 648.398 1824.38 649.836 Z\" fill=\"#000000\" fill-rule=\"evenodd\" fill-opacity=\"1\" /><path clip-path=\"url(#clip330)\" d=\"M1853.34 649.836 L1853.34 654.152 Q1851.28 652.227 1848.93 651.275 Q1846.6 650.322 1843.96 650.322 Q1838.78 650.322 1836.02 653.503 Q1833.27 656.664 1833.27 662.661 Q1833.27 668.638 1836.02 671.819 Q1838.78 674.98 1843.96 674.98 Q1846.6 674.98 1848.93 674.028 Q1851.28 673.076 1853.34 671.151 L1853.34 675.426 Q1851.19 676.885 1848.78 677.614 Q1846.39 678.344 1843.72 678.344 Q1836.85 678.344 1832.91 674.149 Q1828.96 669.935 1828.96 662.661 Q1828.96 655.367 1832.91 651.173 Q1836.85 646.959 1843.72 646.959 Q1846.43 646.959 1848.82 647.688 Q1851.23 648.398 1853.34 649.836 Z\" fill=\"#000000\" fill-rule=\"evenodd\" fill-opacity=\"1\" /><path clip-path=\"url(#clip330)\" d=\"M1882.3 649.836 L1882.3 654.152 Q1880.24 652.227 1877.89 651.275 Q1875.56 650.322 1872.93 650.322 Q1867.74 650.322 1864.99 653.503 Q1862.23 656.664 1862.23 662.661 Q1862.23 668.638 1864.99 671.819 Q1867.74 674.98 1872.93 674.98 Q1875.56 674.98 1877.89 674.028 Q1880.24 673.076 1882.3 671.151 L1882.3 675.426 Q1880.16 676.885 1877.75 677.614 Q1875.36 678.344 1872.68 678.344 Q1865.82 678.344 1861.87 674.149 Q1857.92 669.935 1857.92 662.661 Q1857.92 655.367 1861.87 651.173 Q1865.82 646.959 1872.68 646.959 Q1875.4 646.959 1877.79 647.688 Q1880.2 648.398 1882.3 649.836 Z\" fill=\"#000000\" fill-rule=\"evenodd\" fill-opacity=\"1\" /><path clip-path=\"url(#clip330)\" d=\"M1272.75 790.107 L1272.75 794.423 Q1270.68 792.498 1268.33 791.546 Q1266 790.594 1263.37 790.594 Q1258.18 790.594 1255.43 793.775 Q1252.67 796.935 1252.67 802.933 Q1252.67 808.91 1255.43 812.091 Q1258.18 815.251 1263.37 815.251 Q1266 815.251 1268.33 814.299 Q1270.68 813.347 1272.75 811.422 L1272.75 815.697 Q1270.6 817.156 1268.19 817.885 Q1265.8 818.615 1263.12 818.615 Q1256.26 818.615 1252.31 814.421 Q1248.36 810.206 1248.36 802.933 Q1248.36 795.639 1252.31 791.445 Q1256.26 787.23 1263.12 787.23 Q1265.84 787.23 1268.23 787.96 Q1270.64 788.669 1272.75 790.107 Z\" fill=\"#000000\" fill-rule=\"evenodd\" fill-opacity=\"1\" /><path clip-path=\"url(#clip330)\" d=\"M1301.71 790.107 L1301.71 794.423 Q1299.64 792.498 1297.29 791.546 Q1294.96 790.594 1292.33 790.594 Q1287.15 790.594 1284.39 793.775 Q1281.64 796.935 1281.64 802.933 Q1281.64 808.91 1284.39 812.091 Q1287.15 815.251 1292.33 815.251 Q1294.96 815.251 1297.29 814.299 Q1299.64 813.347 1301.71 811.422 L1301.71 815.697 Q1299.56 817.156 1297.15 817.885 Q1294.76 818.615 1292.09 818.615 Q1285.22 818.615 1281.27 814.421 Q1277.32 810.206 1277.32 802.933 Q1277.32 795.639 1281.27 791.445 Q1285.22 787.23 1292.09 787.23 Q1294.8 787.23 1297.19 787.96 Q1299.6 788.669 1301.71 790.107 Z\" fill=\"#000000\" fill-rule=\"evenodd\" fill-opacity=\"1\" /><path clip-path=\"url(#clip330)\" d=\"M1328.65 813.712 L1328.65 805.587 L1321.96 805.587 L1321.96 802.224 L1332.7 802.224 L1332.7 815.211 Q1330.33 816.893 1327.47 817.764 Q1324.62 818.615 1321.37 818.615 Q1314.29 818.615 1310.28 814.482 Q1306.29 810.328 1306.29 802.933 Q1306.29 795.517 1310.28 791.384 Q1314.29 787.23 1321.37 787.23 Q1324.33 787.23 1326.98 787.96 Q1329.66 788.689 1331.91 790.107 L1331.91 794.464 Q1329.64 792.539 1327.09 791.566 Q1324.53 790.594 1321.72 790.594 Q1316.17 790.594 1313.37 793.694 Q1310.6 796.794 1310.6 802.933 Q1310.6 809.052 1313.37 812.151 Q1316.17 815.251 1321.72 815.251 Q1323.89 815.251 1325.59 814.887 Q1327.29 814.502 1328.65 813.712 Z\" fill=\"#000000\" fill-rule=\"evenodd\" fill-opacity=\"1\" /><path clip-path=\"url(#clip330)\" d=\"M1454.11 566.303 L1454.11 570.618 Q1452.04 568.693 1449.7 567.741 Q1447.37 566.789 1444.73 566.789 Q1439.55 566.789 1436.79 569.97 Q1434.04 573.131 1434.04 579.128 Q1434.04 585.105 1436.79 588.286 Q1439.55 591.447 1444.73 591.447 Q1447.37 591.447 1449.7 590.494 Q1452.04 589.542 1454.11 587.617 L1454.11 591.892 Q1451.96 593.351 1449.55 594.081 Q1447.16 594.81 1444.49 594.81 Q1437.62 594.81 1433.67 590.616 Q1429.73 586.402 1429.73 579.128 Q1429.73 571.834 1433.67 567.64 Q1437.62 563.426 1444.49 563.426 Q1447.2 563.426 1449.59 564.155 Q1452 564.864 1454.11 566.303 Z\" fill=\"#000000\" fill-rule=\"evenodd\" fill-opacity=\"1\" /><path clip-path=\"url(#clip330)\" d=\"M1481.05 589.907 L1481.05 581.782 L1474.36 581.782 L1474.36 578.419 L1485.1 578.419 L1485.1 591.406 Q1482.73 593.088 1479.87 593.959 Q1477.02 594.81 1473.78 594.81 Q1466.69 594.81 1462.68 590.677 Q1458.69 586.523 1458.69 579.128 Q1458.69 571.712 1462.68 567.579 Q1466.69 563.426 1473.78 563.426 Q1476.73 563.426 1479.39 564.155 Q1482.06 564.884 1484.31 566.303 L1484.31 570.659 Q1482.04 568.734 1479.49 567.761 Q1476.94 566.789 1474.12 566.789 Q1468.57 566.789 1465.78 569.889 Q1463 572.989 1463 579.128 Q1463 585.247 1465.78 588.347 Q1468.57 591.447 1474.12 591.447 Q1476.29 591.447 1477.99 591.082 Q1479.69 590.697 1481.05 589.907 Z\" fill=\"#000000\" fill-rule=\"evenodd\" fill-opacity=\"1\" /><path clip-path=\"url(#clip330)\" d=\"M1515.22 566.303 L1515.22 570.618 Q1513.15 568.693 1510.8 567.741 Q1508.47 566.789 1505.84 566.789 Q1500.65 566.789 1497.9 569.97 Q1495.14 573.131 1495.14 579.128 Q1495.14 585.105 1497.9 588.286 Q1500.65 591.447 1505.84 591.447 Q1508.47 591.447 1510.8 590.494 Q1513.15 589.542 1515.22 587.617 L1515.22 591.892 Q1513.07 593.351 1510.66 594.081 Q1508.27 594.81 1505.6 594.81 Q1498.73 594.81 1494.78 590.616 Q1490.83 586.402 1490.83 579.128 Q1490.83 571.834 1494.78 567.64 Q1498.73 563.426 1505.6 563.426 Q1508.31 563.426 1510.7 564.155 Q1513.11 564.864 1515.22 566.303 Z\" fill=\"#000000\" fill-rule=\"evenodd\" fill-opacity=\"1\" /><path clip-path=\"url(#clip330)\" d=\"M996.289 371.647 L996.289 375.963 Q994.223 374.038 991.873 373.086 Q989.544 372.134 986.911 372.134 Q981.726 372.134 978.972 375.315 Q976.217 378.475 976.217 384.473 Q976.217 390.45 978.972 393.631 Q981.726 396.791 986.911 396.791 Q989.544 396.791 991.873 395.839 Q994.223 394.887 996.289 392.962 L996.289 397.237 Q994.142 398.696 991.731 399.425 Q989.341 400.155 986.668 400.155 Q979.802 400.155 975.852 395.961 Q971.903 391.746 971.903 384.473 Q971.903 377.179 975.852 372.985 Q979.802 368.77 986.668 368.77 Q989.382 368.77 991.772 369.5 Q994.182 370.209 996.289 371.647 Z\" fill=\"#000000\" fill-rule=\"evenodd\" fill-opacity=\"1\" /><path clip-path=\"url(#clip330)\" d=\"M998.415 369.317 L1024 369.317 L1024 372.762 L1013.26 372.762 L1013.26 399.567 L1009.15 399.567 L1009.15 372.762 L998.415 372.762 L998.415 369.317 Z\" fill=\"#000000\" fill-rule=\"evenodd\" fill-opacity=\"1\" /><path clip-path=\"url(#clip330)\" d=\"M1034.83 373.349 L1029.28 388.403 L1040.4 388.403 L1034.83 373.349 M1032.52 369.317 L1037.16 369.317 L1048.69 399.567 L1044.43 399.567 L1041.68 391.807 L1028.05 391.807 L1025.29 399.567 L1020.98 399.567 L1032.52 369.317 Z\" fill=\"#000000\" fill-rule=\"evenodd\" fill-opacity=\"1\" /><path clip-path=\"url(#clip330)\" d=\"M1611.82 393.415 L1611.82 385.29 L1605.14 385.29 L1605.14 381.927 L1615.87 381.927 L1615.87 394.914 Q1613.5 396.596 1610.65 397.467 Q1607.79 398.318 1604.55 398.318 Q1597.46 398.318 1593.45 394.185 Q1589.46 390.032 1589.46 382.636 Q1589.46 375.221 1593.45 371.087 Q1597.46 366.934 1604.55 366.934 Q1607.51 366.934 1610.16 367.663 Q1612.83 368.393 1615.08 369.811 L1615.08 374.167 Q1612.81 372.242 1610.26 371.27 Q1607.71 370.297 1604.89 370.297 Q1599.35 370.297 1596.55 373.397 Q1593.78 376.497 1593.78 382.636 Q1593.78 388.755 1596.55 391.855 Q1599.35 394.955 1604.89 394.955 Q1607.06 394.955 1608.76 394.59 Q1610.46 394.205 1611.82 393.415 Z\" fill=\"#000000\" fill-rule=\"evenodd\" fill-opacity=\"1\" /><path clip-path=\"url(#clip330)\" d=\"M1645.99 369.811 L1645.99 374.127 Q1643.92 372.202 1641.57 371.249 Q1639.25 370.297 1636.61 370.297 Q1631.43 370.297 1628.67 373.478 Q1625.92 376.639 1625.92 382.636 Q1625.92 388.613 1628.67 391.794 Q1631.43 394.955 1636.61 394.955 Q1639.25 394.955 1641.57 394.003 Q1643.92 393.05 1645.99 391.126 L1645.99 395.401 Q1643.84 396.86 1641.43 397.589 Q1639.04 398.318 1636.37 398.318 Q1629.5 398.318 1625.55 394.124 Q1621.6 389.91 1621.6 382.636 Q1621.6 375.342 1625.55 371.148 Q1629.5 366.934 1636.37 366.934 Q1639.08 366.934 1641.47 367.663 Q1643.88 368.372 1645.99 369.811 Z\" fill=\"#000000\" fill-rule=\"evenodd\" fill-opacity=\"1\" /><path clip-path=\"url(#clip330)\" d=\"M1674.95 369.811 L1674.95 374.127 Q1672.89 372.202 1670.54 371.249 Q1668.21 370.297 1665.58 370.297 Q1660.39 370.297 1657.64 373.478 Q1654.88 376.639 1654.88 382.636 Q1654.88 388.613 1657.64 391.794 Q1660.39 394.955 1665.58 394.955 Q1668.21 394.955 1670.54 394.003 Q1672.89 393.05 1674.95 391.126 L1674.95 395.401 Q1672.81 396.86 1670.4 397.589 Q1668.01 398.318 1665.33 398.318 Q1658.47 398.318 1654.52 394.124 Q1650.57 389.91 1650.57 382.636 Q1650.57 375.342 1654.52 371.148 Q1658.47 366.934 1665.33 366.934 Q1668.05 366.934 1670.44 367.663 Q1672.85 368.372 1674.95 369.811 Z\" fill=\"#000000\" fill-rule=\"evenodd\" fill-opacity=\"1\" /><path clip-path=\"url(#clip330)\" d=\"M904.97 730.179 L904.97 722.054 L898.286 722.054 L898.286 718.69 L909.021 718.69 L909.021 731.678 Q906.651 733.36 903.795 734.231 Q900.94 735.082 897.699 735.082 Q890.61 735.082 886.6 730.948 Q882.61 726.795 882.61 719.4 Q882.61 711.984 886.6 707.851 Q890.61 703.697 897.699 703.697 Q900.656 703.697 903.309 704.427 Q905.983 705.156 908.231 706.574 L908.231 710.93 Q905.963 709.006 903.411 708.033 Q900.859 707.061 898.043 707.061 Q892.494 707.061 889.699 710.161 Q886.924 713.261 886.924 719.4 Q886.924 725.518 889.699 728.618 Q892.494 731.718 898.043 731.718 Q900.211 731.718 901.912 731.354 Q903.613 730.969 904.97 730.179 Z\" fill=\"#000000\" fill-rule=\"evenodd\" fill-opacity=\"1\" /><path clip-path=\"url(#clip330)\" d=\"M910.823 704.244 L936.404 704.244 L936.404 707.689 L925.67 707.689 L925.67 734.494 L921.558 734.494 L921.558 707.689 L910.823 707.689 L910.823 704.244 Z\" fill=\"#000000\" fill-rule=\"evenodd\" fill-opacity=\"1\" /><path clip-path=\"url(#clip330)\" d=\"M947.24 708.276 L941.69 723.33 L952.81 723.33 L947.24 708.276 M944.931 704.244 L949.569 704.244 L961.093 734.494 L956.84 734.494 L954.086 726.734 L940.455 726.734 L937.7 734.494 L933.386 734.494 L944.931 704.244 Z\" fill=\"#000000\" fill-rule=\"evenodd\" fill-opacity=\"1\" /></svg>\n"
      ]
     },
     "execution_count": 11,
     "metadata": {},
     "output_type": "execute_result"
    }
   ],
   "source": [
    "Mycelia.plot_graph(graph)"
   ]
  },
  {
   "cell_type": "code",
   "execution_count": 12,
   "metadata": {},
   "outputs": [
    {
     "data": {
      "text/plain": [
       "8-element Vector{BioSequences.BigDNAMer{3}}:\n",
       " ACC\n",
       " CCG\n",
       " CGC\n",
       " GCC\n",
       " CCC\n",
       " CCA\n",
       " CAC\n",
       " ACC"
      ]
     },
     "execution_count": 12,
     "metadata": {},
     "output_type": "execute_result"
    }
   ],
   "source": [
    "seed = 0\n",
    "core_path = find_graph_core(graph, seed=seed)"
   ]
  },
  {
   "cell_type": "code",
   "execution_count": 13,
   "metadata": {},
   "outputs": [
    {
     "data": {
      "image/svg+xml": [
       "<?xml version=\"1.0\" encoding=\"utf-8\"?>\n",
       "<svg xmlns=\"http://www.w3.org/2000/svg\" xmlns:xlink=\"http://www.w3.org/1999/xlink\" width=\"583.75\" height=\"292\" viewBox=\"0 0 2335 1168\">\n",
       "<defs>\n",
       "  <clipPath id=\"clip360\">\n",
       "    <rect x=\"0\" y=\"0\" width=\"2335\" height=\"1168\"/>\n",
       "  </clipPath>\n",
       "</defs>\n",
       "<path clip-path=\"url(#clip360)\" d=\"\n",
       "M0 1168 L2335 1168 L2335 0 L0 0  Z\n",
       "  \" fill=\"#ffffff\" fill-rule=\"evenodd\" fill-opacity=\"1\"/>\n",
       "<defs>\n",
       "  <clipPath id=\"clip361\">\n",
       "    <rect x=\"467\" y=\"0\" width=\"1636\" height=\"1168\"/>\n",
       "  </clipPath>\n",
       "</defs>\n",
       "<path clip-path=\"url(#clip360)\" d=\"\n",
       "M630.992 1120.74 L1704.01 1120.74 L1704.01 47.2625 L630.992 47.2625  Z\n",
       "  \" fill=\"#ffffff\" fill-rule=\"evenodd\" fill-opacity=\"1\"/>\n",
       "<defs>\n",
       "  <clipPath id=\"clip362\">\n",
       "    <rect x=\"630\" y=\"47\" width=\"1074\" height=\"1074\"/>\n",
       "  </clipPath>\n",
       "</defs>\n",
       "<polyline clip-path=\"url(#clip362)\" style=\"stroke:#000000; stroke-linecap:butt; stroke-linejoin:round; stroke-width:4.00156; stroke-opacity:1; fill:none\" points=\"\n",
       "  1550.72,617.036 1545.93,611.432 1541.15,605.825 1536.38,600.212 1531.63,594.59 1526.92,588.956 1522.24,583.308 1517.6,577.643 1513.01,571.957 1508.48,566.247 \n",
       "  1504.02,560.511 1499.63,554.746 1495.32,548.949 1491.1,543.116 1486.97,537.246 1482.94,531.334 1479.02,525.379 1475.21,519.377 1471.53,513.325 1467.98,507.22 \n",
       "  1464.57,501.06 1461.31,494.841 1458.19,488.561 1455.24,482.216 1452.45,475.804 1449.83,469.322 1447.39,462.769 1445.12,456.15 1443,449.466 1441.04,442.72 \n",
       "  1439.22,435.917 1437.54,429.057 1435.99,422.145 1434.56,415.183 1433.25,408.174 1432.05,401.121 1430.95,394.027 1429.95,386.895 1429.03,379.729 1428.19,372.529 \n",
       "  1427.42,365.301 1426.72,358.046 1426.08,350.768 1425.48,343.47 1424.94,336.153 1424.42,328.823 1423.94,321.48 1423.48,314.129 1423.03,306.771 1422.59,299.411 \n",
       "  \n",
       "  \"/>\n",
       "<polyline clip-path=\"url(#clip362)\" style=\"stroke:#000000; stroke-linecap:butt; stroke-linejoin:round; stroke-width:4.00156; stroke-opacity:1; fill:none\" points=\"\n",
       "  1550.72,617.036 1549.27,624.272 1547.81,631.504 1546.34,638.728 1544.84,645.94 1543.32,653.137 1541.77,660.314 1540.17,667.468 1538.53,674.595 1536.84,681.691 \n",
       "  1535.08,688.751 1533.25,695.773 1531.35,702.751 1529.37,709.683 1527.3,716.564 1525.14,723.391 1522.87,730.159 1520.5,736.865 1518.01,743.505 1515.4,750.074 \n",
       "  1512.66,756.57 1509.78,762.987 1506.76,769.323 1503.6,775.572 1500.27,781.733 1496.79,787.799 1493.14,793.773 1489.34,799.657 1485.38,805.455 1481.29,811.171 \n",
       "  1477.06,816.809 1472.7,822.374 1468.22,827.868 1463.62,833.296 1458.92,838.661 1454.11,843.968 1449.21,849.221 1444.22,854.423 1439.15,859.578 1434,864.69 \n",
       "  1428.79,869.763 1423.51,874.801 1418.18,879.808 1412.81,884.788 1407.39,889.744 1401.94,894.681 1396.46,899.602 1390.96,904.512 1385.45,909.414 1379.93,914.311 \n",
       "  \n",
       "  \"/>\n",
       "<polyline clip-path=\"url(#clip362)\" style=\"stroke:#000000; stroke-linecap:butt; stroke-linejoin:round; stroke-width:4.00156; stroke-opacity:1; fill:none\" points=\"\n",
       "  1422.59,299.411 1415.17,299.643 1407.76,299.867 1400.35,300.076 1392.94,300.263 1385.55,300.419 1378.16,300.538 1370.79,300.613 1363.44,300.634 1356.1,300.596 \n",
       "  1348.78,300.49 1341.49,300.31 1334.22,300.047 1326.98,299.694 1319.76,299.244 1312.58,298.688 1305.43,298.021 1298.32,297.233 1291.24,296.318 1284.21,295.268 \n",
       "  1277.22,294.076 1270.27,292.734 1263.37,291.234 1256.52,289.57 1249.72,287.733 1242.97,285.717 1236.28,283.521 1229.64,281.153 1223.05,278.62 1216.5,275.93 \n",
       "  1210,273.09 1203.54,270.107 1197.13,266.989 1190.75,263.745 1184.4,260.38 1178.09,256.903 1171.81,253.321 1165.56,249.641 1159.34,245.872 1153.14,242.02 \n",
       "  1146.97,238.093 1140.81,234.099 1134.68,230.045 1128.55,225.938 1122.44,221.786 1116.35,217.597 1110.26,213.378 1104.18,209.137 1098.1,204.88 1092.03,200.616 \n",
       "  \n",
       "  \"/>\n",
       "<polyline clip-path=\"url(#clip362)\" style=\"stroke:#000000; stroke-linecap:butt; stroke-linejoin:round; stroke-width:4.00156; stroke-opacity:1; fill:none\" points=\"\n",
       "  1092.03,200.616 1087.55,206.52 1083.07,212.418 1078.59,218.303 1074.09,224.168 1069.57,230.008 1065.03,235.815 1060.46,241.583 1055.87,247.307 1051.24,252.979 \n",
       "  1046.56,258.592 1041.85,264.141 1037.08,269.619 1032.26,275.02 1027.39,280.337 1022.45,285.563 1017.45,290.693 1012.38,295.719 1007.23,300.635 1002,305.436 \n",
       "  996.687,310.114 991.287,314.662 985.794,319.075 980.203,323.346 974.512,327.469 968.714,331.437 962.811,335.25 956.806,338.915 950.705,342.438 944.51,345.825 \n",
       "  938.227,349.083 931.861,352.219 925.415,355.238 918.893,358.148 912.302,360.954 905.644,363.663 898.924,366.282 892.147,368.818 885.317,371.275 878.438,373.662 \n",
       "  871.515,375.984 864.552,378.249 857.555,380.461 850.526,382.628 843.471,384.757 836.393,386.853 829.298,388.924 822.19,390.975 815.073,393.013 807.951,395.045 \n",
       "  \n",
       "  \"/>\n",
       "<polyline clip-path=\"url(#clip362)\" style=\"stroke:#000000; stroke-linecap:butt; stroke-linejoin:round; stroke-width:4.00156; stroke-opacity:1; fill:none\" points=\"\n",
       "  807.951,395.045 809.808,402.171 811.656,409.297 813.489,416.422 815.298,423.546 817.077,430.667 818.816,437.785 820.508,444.9 822.146,452.012 823.722,459.119 \n",
       "  825.227,466.221 826.654,473.318 827.996,480.409 829.244,487.493 830.39,494.57 831.428,501.64 832.348,508.702 833.143,515.754 833.806,522.798 834.329,529.832 \n",
       "  834.704,536.856 834.922,543.869 834.977,550.87 834.86,557.86 834.564,564.837 834.081,571.801 833.411,578.752 832.561,585.691 831.54,592.618 830.356,599.533 \n",
       "  829.015,606.438 827.526,613.332 825.897,620.217 824.135,627.092 822.249,633.959 820.245,640.818 818.133,647.669 815.919,654.513 813.611,661.35 811.217,668.182 \n",
       "  808.746,675.008 806.204,681.829 803.6,688.646 800.942,695.459 798.236,702.269 795.492,709.076 792.716,715.881 789.917,722.684 787.103,729.487 784.28,736.288 \n",
       "  \n",
       "  \"/>\n",
       "<polyline clip-path=\"url(#clip362)\" style=\"stroke:#000000; stroke-linecap:butt; stroke-linejoin:round; stroke-width:4.00156; stroke-opacity:1; fill:none\" points=\"\n",
       "  784.28,736.288 787.899,742.742 791.524,749.19 795.159,755.626 798.81,762.044 802.481,768.44 806.179,774.807 809.909,781.139 813.675,787.43 817.484,793.675 \n",
       "  821.339,799.868 825.247,806.003 829.213,812.074 833.242,818.076 837.339,824.002 841.51,829.848 845.76,835.606 850.094,841.272 854.517,846.839 859.034,852.303 \n",
       "  863.652,857.656 868.374,862.893 873.207,868.009 878.155,872.997 883.224,877.852 888.419,882.568 893.74,887.145 899.182,891.59 904.739,895.907 910.407,900.102 \n",
       "  916.179,904.181 922.052,908.151 928.019,912.016 934.075,915.782 940.216,919.456 946.435,923.043 952.728,926.549 959.089,929.98 965.513,933.341 971.995,936.639 \n",
       "  978.529,939.878 985.111,943.066 991.735,946.207 998.395,949.307 1005.09,952.373 1011.81,955.41 1018.55,958.424 1025.3,961.42 1032.07,964.405 1038.84,967.384 \n",
       "  \n",
       "  \"/>\n",
       "<polyline clip-path=\"url(#clip362)\" style=\"stroke:#000000; stroke-linecap:butt; stroke-linejoin:round; stroke-width:4.00156; stroke-opacity:1; fill:none\" points=\"\n",
       "  1038.84,967.384 1046.16,968.619 1053.48,969.846 1060.8,971.058 1068.11,972.247 1075.42,973.404 1082.72,974.523 1090.02,975.596 1097.31,976.615 1104.59,977.571 \n",
       "  1111.85,978.458 1119.11,979.268 1126.35,979.993 1133.58,980.626 1140.79,981.157 1147.99,981.581 1155.16,981.888 1162.32,982.072 1169.46,982.125 1176.58,982.038 \n",
       "  1183.67,981.805 1190.74,981.417 1197.78,980.867 1204.8,980.147 1211.79,979.249 1218.75,978.166 1225.68,976.897 1232.59,975.451 1239.47,973.835 1246.32,972.057 \n",
       "  1253.15,970.124 1259.96,968.044 1266.74,965.826 1273.5,963.475 1280.25,961.002 1286.98,958.412 1293.69,955.714 1300.38,952.916 1307.06,950.024 1313.73,947.048 \n",
       "  1320.38,943.995 1327.03,940.872 1333.66,937.687 1340.29,934.448 1346.91,931.163 1353.52,927.839 1360.13,924.484 1366.73,921.106 1373.33,917.713 1379.93,914.311 \n",
       "  \n",
       "  \"/>\n",
       "<path clip-path=\"url(#clip362)\" d=\"\n",
       "M1647.47 617.036 L1599.09 533.212 L1502.34 533.212 L1453.97 617.036 L1502.34 700.86 L1599.09 700.86 L1647.47 617.036 L1647.47 617.036  Z\n",
       "  \" fill=\"#009af9\" fill-rule=\"evenodd\" fill-opacity=\"1\"/>\n",
       "<polyline clip-path=\"url(#clip362)\" style=\"stroke:#000000; stroke-linecap:butt; stroke-linejoin:round; stroke-width:4.00156; stroke-opacity:1; fill:none\" points=\"\n",
       "  1647.47,617.036 1599.09,533.212 1502.34,533.212 1453.97,617.036 1502.34,700.86 1599.09,700.86 1647.47,617.036 \n",
       "  \"/>\n",
       "<path clip-path=\"url(#clip362)\" d=\"\n",
       "M1519.34 299.411 L1470.96 215.587 L1374.21 215.587 L1325.84 299.411 L1374.21 383.235 L1470.96 383.235 L1519.34 299.411 L1519.34 299.411  Z\n",
       "  \" fill=\"#009af9\" fill-rule=\"evenodd\" fill-opacity=\"1\"/>\n",
       "<polyline clip-path=\"url(#clip362)\" style=\"stroke:#000000; stroke-linecap:butt; stroke-linejoin:round; stroke-width:4.00156; stroke-opacity:1; fill:none\" points=\"\n",
       "  1519.34,299.411 1470.96,215.587 1374.21,215.587 1325.84,299.411 1374.21,383.235 1470.96,383.235 1519.34,299.411 1519.34,299.411 \n",
       "  \"/>\n",
       "<path clip-path=\"url(#clip362)\" d=\"\n",
       "M1245.69 200.616 L1168.86 67.4836 L1015.19 67.4836 L938.363 200.616 L1015.19 333.748 L1168.86 333.748 L1245.69 200.616 L1245.69 200.616  Z\n",
       "  \" fill=\"#009af9\" fill-rule=\"evenodd\" fill-opacity=\"1\"/>\n",
       "<polyline clip-path=\"url(#clip362)\" style=\"stroke:#000000; stroke-linecap:butt; stroke-linejoin:round; stroke-width:4.00156; stroke-opacity:1; fill:none\" points=\"\n",
       "  1245.69,200.616 1168.86,67.4836 1015.19,67.4836 938.363,200.616 1015.19,333.748 1168.86,333.748 1245.69,200.616 \n",
       "  \"/>\n",
       "<path clip-path=\"url(#clip362)\" d=\"\n",
       "M904.702 395.045 L856.327 311.221 L759.576 311.221 L711.201 395.045 L759.576 478.869 L856.327 478.869 L904.702 395.045 L904.702 395.045  Z\n",
       "  \" fill=\"#009af9\" fill-rule=\"evenodd\" fill-opacity=\"1\"/>\n",
       "<polyline clip-path=\"url(#clip362)\" style=\"stroke:#000000; stroke-linecap:butt; stroke-linejoin:round; stroke-width:4.00156; stroke-opacity:1; fill:none\" points=\"\n",
       "  904.702,395.045 856.327,311.221 759.576,311.221 711.201,395.045 759.576,478.869 856.327,478.869 904.702,395.045 904.702,395.045 \n",
       "  \"/>\n",
       "<path clip-path=\"url(#clip362)\" d=\"\n",
       "M862.06 736.288 L823.17 668.9 L745.39 668.9 L706.501 736.288 L745.39 803.676 L823.17 803.676 L862.06 736.288 L862.06 736.288  Z\n",
       "  \" fill=\"#009af9\" fill-rule=\"evenodd\" fill-opacity=\"1\"/>\n",
       "<polyline clip-path=\"url(#clip362)\" style=\"stroke:#000000; stroke-linecap:butt; stroke-linejoin:round; stroke-width:4.00156; stroke-opacity:1; fill:none\" points=\"\n",
       "  862.06,736.288 823.17,668.9 745.39,668.9 706.501,736.288 745.39,803.676 823.17,803.676 862.06,736.288 \n",
       "  \"/>\n",
       "<path clip-path=\"url(#clip362)\" d=\"\n",
       "M1116.62 967.384 L1077.73 899.996 L999.947 899.996 L961.057 967.384 L999.947 1034.77 L1077.73 1034.77 L1116.62 967.384 L1116.62 967.384  Z\n",
       "  \" fill=\"#009af9\" fill-rule=\"evenodd\" fill-opacity=\"1\"/>\n",
       "<polyline clip-path=\"url(#clip362)\" style=\"stroke:#000000; stroke-linecap:butt; stroke-linejoin:round; stroke-width:4.00156; stroke-opacity:1; fill:none\" points=\"\n",
       "  1116.62,967.384 1077.73,899.996 999.947,899.996 961.057,967.384 999.947,1034.77 1077.73,1034.77 1116.62,967.384 \n",
       "  \"/>\n",
       "<path clip-path=\"url(#clip362)\" d=\"\n",
       "M1457.71 914.311 L1418.82 846.923 L1341.04 846.923 L1302.15 914.311 L1341.04 981.699 L1418.82 981.699 L1457.71 914.311 L1457.71 914.311  Z\n",
       "  \" fill=\"#009af9\" fill-rule=\"evenodd\" fill-opacity=\"1\"/>\n",
       "<polyline clip-path=\"url(#clip362)\" style=\"stroke:#000000; stroke-linecap:butt; stroke-linejoin:round; stroke-width:4.00156; stroke-opacity:1; fill:none\" points=\"\n",
       "  1457.71,914.311 1418.82,846.923 1341.04,846.923 1302.15,914.311 1341.04,981.699 1418.82,981.699 1457.71,914.311 \n",
       "  \"/>\n",
       "<circle clip-path=\"url(#clip362)\" style=\"fill:#009af9; stroke:none; fill-opacity:1\" cx=\"1550.72\" cy=\"617.036\" r=\"2\"/>\n",
       "<circle clip-path=\"url(#clip362)\" style=\"fill:#009af9; stroke:none; fill-opacity:1\" cx=\"1422.59\" cy=\"299.411\" r=\"2\"/>\n",
       "<circle clip-path=\"url(#clip362)\" style=\"fill:#009af9; stroke:none; fill-opacity:1\" cx=\"1092.03\" cy=\"200.616\" r=\"2\"/>\n",
       "<circle clip-path=\"url(#clip362)\" style=\"fill:#009af9; stroke:none; fill-opacity:1\" cx=\"807.951\" cy=\"395.045\" r=\"2\"/>\n",
       "<circle clip-path=\"url(#clip362)\" style=\"fill:#009af9; stroke:none; fill-opacity:1\" cx=\"784.28\" cy=\"736.288\" r=\"2\"/>\n",
       "<circle clip-path=\"url(#clip362)\" style=\"fill:#009af9; stroke:none; fill-opacity:1\" cx=\"1038.84\" cy=\"967.384\" r=\"2\"/>\n",
       "<circle clip-path=\"url(#clip362)\" style=\"fill:#009af9; stroke:none; fill-opacity:1\" cx=\"1379.93\" cy=\"914.311\" r=\"2\"/>\n",
       "<path clip-path=\"url(#clip360)\" d=\"M1523.07 605.942 L1517.52 620.997 L1528.64 620.997 L1523.07 605.942 M1520.76 601.91 L1525.4 601.91 L1536.93 632.162 L1532.67 632.162 L1529.92 624.401 L1516.29 624.401 L1513.53 632.162 L1509.22 632.162 L1520.76 601.91 Z\" fill=\"#000000\" fill-rule=\"evenodd\" fill-opacity=\"1\" /><path clip-path=\"url(#clip360)\" d=\"M1563.26 604.24 L1563.26 608.556 Q1561.19 606.631 1558.84 605.679 Q1556.51 604.726 1553.88 604.726 Q1548.69 604.726 1545.94 607.908 Q1543.19 611.069 1543.19 617.066 Q1543.19 623.044 1545.94 626.225 Q1548.69 629.386 1553.88 629.386 Q1556.51 629.386 1558.84 628.433 Q1561.19 627.481 1563.26 625.556 L1563.26 629.831 Q1561.11 631.29 1558.7 632.02 Q1556.31 632.749 1553.64 632.749 Q1546.77 632.749 1542.82 628.555 Q1538.87 624.34 1538.87 617.066 Q1538.87 609.772 1542.82 605.577 Q1546.77 601.363 1553.64 601.363 Q1556.35 601.363 1558.74 602.092 Q1561.15 602.801 1563.26 604.24 Z\" fill=\"#000000\" fill-rule=\"evenodd\" fill-opacity=\"1\" /><path clip-path=\"url(#clip360)\" d=\"M1592.22 604.24 L1592.22 608.556 Q1590.15 606.631 1587.8 605.679 Q1585.48 604.726 1582.84 604.726 Q1577.66 604.726 1574.9 607.908 Q1572.15 611.069 1572.15 617.066 Q1572.15 623.044 1574.9 626.225 Q1577.66 629.386 1582.84 629.386 Q1585.48 629.386 1587.8 628.433 Q1590.15 627.481 1592.22 625.556 L1592.22 629.831 Q1590.07 631.29 1587.66 632.02 Q1585.27 632.749 1582.6 632.749 Q1575.73 632.749 1571.78 628.555 Q1567.83 624.34 1567.83 617.066 Q1567.83 609.772 1571.78 605.577 Q1575.73 601.363 1582.6 601.363 Q1585.31 601.363 1587.7 602.092 Q1590.11 602.801 1592.22 604.24 Z\" fill=\"#000000\" fill-rule=\"evenodd\" fill-opacity=\"1\" /><path clip-path=\"url(#clip360)\" d=\"M1404.81 286.616 L1404.81 290.932 Q1402.74 289.007 1400.39 288.054 Q1398.06 287.102 1395.43 287.102 Q1390.24 287.102 1387.49 290.283 Q1384.73 293.444 1384.73 299.442 Q1384.73 305.419 1387.49 308.6 Q1390.24 311.761 1395.43 311.761 Q1398.06 311.761 1400.39 310.809 Q1402.74 309.857 1404.81 307.932 L1404.81 312.207 Q1402.66 313.666 1400.25 314.395 Q1397.86 315.125 1395.19 315.125 Q1388.32 315.125 1384.37 310.931 Q1380.42 306.716 1380.42 299.442 Q1380.42 292.147 1384.37 287.953 Q1388.32 283.738 1395.19 283.738 Q1397.9 283.738 1400.29 284.468 Q1402.7 285.177 1404.81 286.616 Z\" fill=\"#000000\" fill-rule=\"evenodd\" fill-opacity=\"1\" /><path clip-path=\"url(#clip360)\" d=\"M1433.77 286.616 L1433.77 290.932 Q1431.7 289.007 1429.35 288.054 Q1427.02 287.102 1424.39 287.102 Q1419.21 287.102 1416.45 290.283 Q1413.7 293.444 1413.7 299.442 Q1413.7 305.419 1416.45 308.6 Q1419.21 311.761 1424.39 311.761 Q1427.02 311.761 1429.35 310.809 Q1431.7 309.857 1433.77 307.932 L1433.77 312.207 Q1431.62 313.666 1429.21 314.395 Q1426.82 315.125 1424.15 315.125 Q1417.28 315.125 1413.33 310.931 Q1409.38 306.716 1409.38 299.442 Q1409.38 292.147 1413.33 287.953 Q1417.28 283.738 1424.15 283.738 Q1426.86 283.738 1429.25 284.468 Q1431.66 285.177 1433.77 286.616 Z\" fill=\"#000000\" fill-rule=\"evenodd\" fill-opacity=\"1\" /><path clip-path=\"url(#clip360)\" d=\"M1460.71 310.221 L1460.71 302.096 L1454.02 302.096 L1454.02 298.733 L1464.76 298.733 L1464.76 311.721 Q1462.39 313.403 1459.53 314.274 Q1456.68 315.125 1453.43 315.125 Q1446.35 315.125 1442.34 310.991 Q1438.35 306.838 1438.35 299.442 Q1438.35 292.026 1442.34 287.892 Q1446.35 283.738 1453.43 283.738 Q1456.39 283.738 1459.05 284.468 Q1461.72 285.197 1463.97 286.616 L1463.97 290.972 Q1461.7 289.047 1459.15 288.075 Q1456.59 287.102 1453.78 287.102 Q1448.23 287.102 1445.43 290.202 Q1442.66 293.302 1442.66 299.442 Q1442.66 305.561 1445.43 308.661 Q1448.23 311.761 1453.78 311.761 Q1455.95 311.761 1457.65 311.397 Q1459.35 311.012 1460.71 310.221 Z\" fill=\"#000000\" fill-rule=\"evenodd\" fill-opacity=\"1\" /><path clip-path=\"url(#clip360)\" d=\"M1073.67 187.82 L1073.67 192.136 Q1071.6 190.211 1069.25 189.259 Q1066.92 188.307 1064.29 188.307 Q1059.1 188.307 1056.35 191.488 Q1053.59 194.649 1053.59 200.646 Q1053.59 206.624 1056.35 209.805 Q1059.1 212.966 1064.29 212.966 Q1066.92 212.966 1069.25 212.014 Q1071.6 211.061 1073.67 209.136 L1073.67 213.412 Q1071.52 214.871 1069.11 215.6 Q1066.72 216.33 1064.04 216.33 Q1057.18 216.33 1053.23 212.135 Q1049.28 207.921 1049.28 200.646 Q1049.28 193.352 1053.23 189.158 Q1057.18 184.943 1064.04 184.943 Q1066.76 184.943 1069.15 185.673 Q1071.56 186.382 1073.67 187.82 Z\" fill=\"#000000\" fill-rule=\"evenodd\" fill-opacity=\"1\" /><path clip-path=\"url(#clip360)\" d=\"M1100.6 211.426 L1100.6 203.301 L1093.92 203.301 L1093.92 199.937 L1104.65 199.937 L1104.65 212.925 Q1102.28 214.607 1099.43 215.479 Q1096.57 216.33 1093.33 216.33 Q1086.24 216.33 1082.23 212.196 Q1078.24 208.042 1078.24 200.646 Q1078.24 193.23 1082.23 189.097 Q1086.24 184.943 1093.33 184.943 Q1096.29 184.943 1098.94 185.673 Q1101.62 186.402 1103.86 187.82 L1103.86 192.177 Q1101.59 190.252 1099.04 189.279 Q1096.49 188.307 1093.68 188.307 Q1088.13 188.307 1085.33 191.407 Q1082.56 194.507 1082.56 200.646 Q1082.56 206.766 1085.33 209.866 Q1088.13 212.966 1093.68 212.966 Q1095.84 212.966 1097.54 212.601 Q1099.25 212.216 1100.6 211.426 Z\" fill=\"#000000\" fill-rule=\"evenodd\" fill-opacity=\"1\" /><path clip-path=\"url(#clip360)\" d=\"M1134.77 187.82 L1134.77 192.136 Q1132.7 190.211 1130.36 189.259 Q1128.03 188.307 1125.39 188.307 Q1120.21 188.307 1117.45 191.488 Q1114.7 194.649 1114.7 200.646 Q1114.7 206.624 1117.45 209.805 Q1120.21 212.966 1125.39 212.966 Q1128.03 212.966 1130.36 212.014 Q1132.7 211.061 1134.77 209.136 L1134.77 213.412 Q1132.62 214.871 1130.21 215.6 Q1127.82 216.33 1125.15 216.33 Q1118.28 216.33 1114.33 212.135 Q1110.39 207.921 1110.39 200.646 Q1110.39 193.352 1114.33 189.158 Q1118.28 184.943 1125.15 184.943 Q1127.86 184.943 1130.25 185.673 Q1132.66 186.382 1134.77 187.82 Z\" fill=\"#000000\" fill-rule=\"evenodd\" fill-opacity=\"1\" /><path clip-path=\"url(#clip360)\" d=\"M787.566 405.855 L787.566 397.729 L780.882 397.729 L780.882 394.366 L791.617 394.366 L791.617 407.354 Q789.247 409.036 786.391 409.907 Q783.536 410.758 780.295 410.758 Q773.206 410.758 769.196 406.625 Q765.206 402.471 765.206 395.075 Q765.206 387.659 769.196 383.525 Q773.206 379.372 780.295 379.372 Q783.252 379.372 785.905 380.101 Q788.579 380.831 790.827 382.249 L790.827 386.605 Q788.558 384.68 786.007 383.708 Q783.455 382.735 780.639 382.735 Q775.09 382.735 772.295 385.835 Q769.52 388.936 769.52 395.075 Q769.52 401.194 772.295 404.294 Q775.09 407.395 780.639 407.395 Q782.806 407.395 784.508 407.03 Q786.209 406.645 787.566 405.855 Z\" fill=\"#000000\" fill-rule=\"evenodd\" fill-opacity=\"1\" /><path clip-path=\"url(#clip360)\" d=\"M821.734 382.249 L821.734 386.565 Q819.668 384.64 817.319 383.688 Q814.99 382.735 812.357 382.735 Q807.172 382.735 804.417 385.916 Q801.663 389.077 801.663 395.075 Q801.663 401.052 804.417 404.234 Q807.172 407.395 812.357 407.395 Q814.99 407.395 817.319 406.442 Q819.668 405.49 821.734 403.565 L821.734 407.84 Q819.587 409.299 817.177 410.029 Q814.787 410.758 812.114 410.758 Q805.248 410.758 801.298 406.564 Q797.349 402.349 797.349 395.075 Q797.349 387.781 801.298 383.586 Q805.248 379.372 812.114 379.372 Q814.828 379.372 817.218 380.101 Q819.628 380.81 821.734 382.249 Z\" fill=\"#000000\" fill-rule=\"evenodd\" fill-opacity=\"1\" /><path clip-path=\"url(#clip360)\" d=\"M850.697 382.249 L850.697 386.565 Q848.631 384.64 846.282 383.688 Q843.952 382.735 841.319 382.735 Q836.134 382.735 833.38 385.916 Q830.625 389.077 830.625 395.075 Q830.625 401.052 833.38 404.234 Q836.134 407.395 841.319 407.395 Q843.952 407.395 846.282 406.442 Q848.631 405.49 850.697 403.565 L850.697 407.84 Q848.55 409.299 846.14 410.029 Q843.75 410.758 841.076 410.758 Q834.21 410.758 830.261 406.564 Q826.311 402.349 826.311 395.075 Q826.311 387.781 830.261 383.586 Q834.21 379.372 841.076 379.372 Q843.79 379.372 846.18 380.101 Q848.591 380.81 850.697 382.249 Z\" fill=\"#000000\" fill-rule=\"evenodd\" fill-opacity=\"1\" /><path clip-path=\"url(#clip360)\" d=\"M767.51 723.493 L767.51 727.809 Q765.444 725.884 763.095 724.931 Q760.766 723.979 758.133 723.979 Q752.948 723.979 750.193 727.16 Q747.439 730.321 747.439 736.319 Q747.439 742.296 750.193 745.477 Q752.948 748.638 758.133 748.638 Q760.766 748.638 763.095 747.686 Q765.444 746.734 767.51 744.809 L767.51 749.084 Q765.363 750.543 762.953 751.272 Q760.563 752.002 757.89 752.002 Q751.024 752.002 747.074 747.807 Q743.125 743.593 743.125 736.319 Q743.125 729.024 747.074 724.83 Q751.024 720.615 757.89 720.615 Q760.604 720.615 762.994 721.345 Q765.404 722.054 767.51 723.493 Z\" fill=\"#000000\" fill-rule=\"evenodd\" fill-opacity=\"1\" /><path clip-path=\"url(#clip360)\" d=\"M796.473 723.493 L796.473 727.809 Q794.407 725.884 792.058 724.931 Q789.728 723.979 787.095 723.979 Q781.91 723.979 779.156 727.16 Q776.401 730.321 776.401 736.319 Q776.401 742.296 779.156 745.477 Q781.91 748.638 787.095 748.638 Q789.728 748.638 792.058 747.686 Q794.407 746.734 796.473 744.809 L796.473 749.084 Q794.326 750.543 791.916 751.272 Q789.526 752.002 786.852 752.002 Q779.986 752.002 776.037 747.807 Q772.087 743.593 772.087 736.319 Q772.087 729.024 776.037 724.83 Q779.986 720.615 786.852 720.615 Q789.566 720.615 791.956 721.345 Q794.367 722.054 796.473 723.493 Z\" fill=\"#000000\" fill-rule=\"evenodd\" fill-opacity=\"1\" /><path clip-path=\"url(#clip360)\" d=\"M825.436 723.493 L825.436 727.809 Q823.37 725.884 821.02 724.931 Q818.691 723.979 816.058 723.979 Q810.873 723.979 808.119 727.16 Q805.364 730.321 805.364 736.319 Q805.364 742.296 808.119 745.477 Q810.873 748.638 816.058 748.638 Q818.691 748.638 821.02 747.686 Q823.37 746.734 825.436 744.809 L825.436 749.084 Q823.289 750.543 820.879 751.272 Q818.489 752.002 815.815 752.002 Q808.949 752.002 805 747.807 Q801.05 743.593 801.05 736.319 Q801.05 729.024 805 724.83 Q808.949 720.615 815.815 720.615 Q818.529 720.615 820.919 721.345 Q823.329 722.054 825.436 723.493 Z\" fill=\"#000000\" fill-rule=\"evenodd\" fill-opacity=\"1\" /><path clip-path=\"url(#clip360)\" d=\"M1021.41 954.588 L1021.41 958.904 Q1019.34 956.979 1016.99 956.027 Q1014.66 955.075 1012.03 955.075 Q1006.85 955.075 1004.09 958.256 Q1001.34 961.417 1001.34 967.414 Q1001.34 973.392 1004.09 976.573 Q1006.85 979.734 1012.03 979.734 Q1014.66 979.734 1016.99 978.782 Q1019.34 977.829 1021.41 975.904 L1021.41 980.18 Q1019.26 981.639 1016.85 982.368 Q1014.46 983.097 1011.79 983.097 Q1004.92 983.097 1000.97 978.903 Q997.023 974.689 997.023 967.414 Q997.023 960.12 1000.97 955.926 Q1004.92 951.711 1011.79 951.711 Q1014.5 951.711 1016.89 952.44 Q1019.3 953.15 1021.41 954.588 Z\" fill=\"#000000\" fill-rule=\"evenodd\" fill-opacity=\"1\" /><path clip-path=\"url(#clip360)\" d=\"M1050.37 954.588 L1050.37 958.904 Q1048.31 956.979 1045.96 956.027 Q1043.63 955.075 1040.99 955.075 Q1035.81 955.075 1033.05 958.256 Q1030.3 961.417 1030.3 967.414 Q1030.3 973.392 1033.05 976.573 Q1035.81 979.734 1040.99 979.734 Q1043.63 979.734 1045.96 978.782 Q1048.31 977.829 1050.37 975.904 L1050.37 980.18 Q1048.22 981.639 1045.81 982.368 Q1043.42 983.097 1040.75 983.097 Q1033.88 983.097 1029.94 978.903 Q1025.99 974.689 1025.99 967.414 Q1025.99 960.12 1029.94 955.926 Q1033.88 951.711 1040.75 951.711 Q1043.46 951.711 1045.85 952.44 Q1048.26 953.15 1050.37 954.588 Z\" fill=\"#000000\" fill-rule=\"evenodd\" fill-opacity=\"1\" /><path clip-path=\"url(#clip360)\" d=\"M1066.8 956.29 L1061.25 971.345 L1072.37 971.345 L1066.8 956.29 M1064.49 952.258 L1069.13 952.258 L1080.65 982.51 L1076.4 982.51 L1073.64 974.749 L1060.01 974.749 L1057.26 982.51 L1052.94 982.51 L1064.49 952.258 Z\" fill=\"#000000\" fill-rule=\"evenodd\" fill-opacity=\"1\" /><path clip-path=\"url(#clip360)\" d=\"M1363.82 901.516 L1363.82 905.832 Q1361.76 903.907 1359.41 902.954 Q1357.08 902.002 1354.45 902.002 Q1349.26 902.002 1346.51 905.183 Q1343.75 908.344 1343.75 914.342 Q1343.75 920.319 1346.51 923.5 Q1349.26 926.661 1354.45 926.661 Q1357.08 926.661 1359.41 925.709 Q1361.76 924.757 1363.82 922.832 L1363.82 927.107 Q1361.68 928.566 1359.27 929.295 Q1356.88 930.025 1354.2 930.025 Q1347.34 930.025 1343.39 925.831 Q1339.44 921.616 1339.44 914.342 Q1339.44 907.047 1343.39 902.853 Q1347.34 898.638 1354.2 898.638 Q1356.92 898.638 1359.31 899.368 Q1361.72 900.077 1363.82 901.516 Z\" fill=\"#000000\" fill-rule=\"evenodd\" fill-opacity=\"1\" /><path clip-path=\"url(#clip360)\" d=\"M1380.25 903.218 L1374.7 918.273 L1385.82 918.273 L1380.25 903.218 M1377.94 899.186 L1382.58 899.186 L1394.1 929.437 L1389.85 929.437 L1387.09 921.677 L1373.46 921.677 L1370.71 929.437 L1366.39 929.437 L1377.94 899.186 Z\" fill=\"#000000\" fill-rule=\"evenodd\" fill-opacity=\"1\" /><path clip-path=\"url(#clip360)\" d=\"M1420.43 901.516 L1420.43 905.832 Q1418.37 903.907 1416.02 902.954 Q1413.69 902.002 1411.05 902.002 Q1405.87 902.002 1403.11 905.183 Q1400.36 908.344 1400.36 914.342 Q1400.36 920.319 1403.11 923.5 Q1405.87 926.661 1411.05 926.661 Q1413.69 926.661 1416.02 925.709 Q1418.37 924.757 1420.43 922.832 L1420.43 927.107 Q1418.28 928.566 1415.87 929.295 Q1413.48 930.025 1410.81 930.025 Q1403.95 930.025 1400 925.831 Q1396.05 921.616 1396.05 914.342 Q1396.05 907.047 1400 902.853 Q1403.95 898.638 1410.81 898.638 Q1413.53 898.638 1415.92 899.368 Q1418.33 900.077 1420.43 901.516 Z\" fill=\"#000000\" fill-rule=\"evenodd\" fill-opacity=\"1\" /></svg>\n"
      ]
     },
     "execution_count": 13,
     "metadata": {},
     "output_type": "execute_result"
    }
   ],
   "source": [
    "selected_vertices = map(canonical_kmer -> graph[canonical_kmer, :kmer], unique(BioSequences.canonical.(core_path)))\n",
    "subgraph, vertex_map = Graphs.induced_subgraph(graph, selected_vertices)\n",
    "Mycelia.plot_graph(subgraph)"
   ]
  },
  {
   "cell_type": "code",
   "execution_count": 14,
   "metadata": {},
   "outputs": [
    {
     "data": {
      "text/plain": [
       "10nt DNA Sequence:\n",
       "ACCGCCCACC"
      ]
     },
     "execution_count": 14,
     "metadata": {},
     "output_type": "execute_result"
    }
   ],
   "source": [
    "reconstruted_sequence = kmer_path_to_sequence(core_path)"
   ]
  },
  {
   "cell_type": "code",
   "execution_count": 15,
   "metadata": {},
   "outputs": [
    {
     "data": {
      "text/plain": [
       "10nt DNA Sequence:\n",
       "CGCCCACCGC"
      ]
     },
     "execution_count": 15,
     "metadata": {},
     "output_type": "execute_result"
    }
   ],
   "source": [
    "refseq"
   ]
  },
  {
   "cell_type": "code",
   "execution_count": 16,
   "metadata": {},
   "outputs": [
    {
     "name": "stdout",
     "output_type": "stream",
     "text": [
      "seed = 1\n"
     ]
    },
    {
     "data": {
      "text/plain": [
       "8-element Vector{BioSequences.BigDNAMer{3}}:\n",
       " GCC\n",
       " CCC\n",
       " CCA\n",
       " CAC\n",
       " ACC\n",
       " CCG\n",
       " CGC\n",
       " GCC"
      ]
     },
     "execution_count": 16,
     "metadata": {},
     "output_type": "execute_result"
    }
   ],
   "source": [
    "seed += 1\n",
    "@show seed\n",
    "core_path = find_graph_core(graph, seed=seed)"
   ]
  },
  {
   "cell_type": "markdown",
   "metadata": {},
   "source": [
    "These sequences contain the correct cycle, but don't have the correct start and end node\n",
    "\n",
    "I think it's fine?\n",
    "\n",
    "Note to self: if the above code doesn't work reliably with more complex networks, may need to add a field to the dijsktra search to keep track of nodes we've already visited that we don't want to visit again"
   ]
  }
 ],
 "metadata": {
  "kernelspec": {
   "display_name": "Julia 1.6.3",
   "language": "julia",
   "name": "julia-1.6"
  },
  "language_info": {
   "file_extension": ".jl",
   "mimetype": "application/julia",
   "name": "julia",
   "version": "1.6.3"
  }
 },
 "nbformat": 4,
 "nbformat_minor": 4
}
