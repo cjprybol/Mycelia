{
 "cells": [
  {
   "cell_type": "code",
   "execution_count": 1,
   "metadata": {},
   "outputs": [
    {
     "data": {
      "text/plain": [
       "2-element Vector{Union{Nothing, SubString{String}}}:\n",
       " \"2022-03-06\"\n",
       " \"ecoli-phapecoctavirus-core-genome\""
      ]
     },
     "execution_count": 1,
     "metadata": {},
     "output_type": "execute_result"
    }
   ],
   "source": [
    "DATE_TASK = \"2022-03-06-ecoli-phapecoctavirus-core-genome\"\n",
    "DIR = mkpath(\"$(homedir())/workspace/$DATE_TASK\")\n",
    "cd(DIR)\n",
    "DATE, TASK = match(r\"^(\\d{4}-\\d{2}-\\d{2})-(.*)$\", DATE_TASK).captures"
   ]
  },
  {
   "cell_type": "code",
   "execution_count": 2,
   "metadata": {},
   "outputs": [
    {
     "name": "stderr",
     "output_type": "stream",
     "text": [
      "\u001b[32m\u001b[1m    Updating\u001b[22m\u001b[39m registry at `~/.julia/registries/General`\n",
      "\u001b[32m\u001b[1m    Updating\u001b[22m\u001b[39m git-repo `https://github.com/cjprybol/Mycelia.git#master`\n",
      "\u001b[32m\u001b[1m   Installed\u001b[22m\u001b[39m DualNumbers ──── v0.6.7\n",
      "\u001b[32m\u001b[1m   Installed\u001b[22m\u001b[39m WeakRefStrings ─ v1.4.2\n",
      "\u001b[32m\u001b[1m   Installed\u001b[22m\u001b[39m Tables ───────── v1.7.0\n",
      "\u001b[32m\u001b[1m   Installed\u001b[22m\u001b[39m JLD2 ─────────── v0.4.22\n",
      "\u001b[32m\u001b[1m   Installed\u001b[22m\u001b[39m Parsers ──────── v2.2.3\n",
      "\u001b[32m\u001b[1m   Installed\u001b[22m\u001b[39m CSV ──────────── v0.10.3\n",
      "\u001b[32m\u001b[1m    Updating\u001b[22m\u001b[39m `~/git/Mycelia/docs/Project.toml`\n",
      " \u001b[90m [033835bb] \u001b[39m\u001b[93m↑ JLD2 v0.4.21 ⇒ v0.4.22\u001b[39m\n",
      "\u001b[32m\u001b[1m    Updating\u001b[22m\u001b[39m `~/git/Mycelia/docs/Manifest.toml`\n",
      " \u001b[90m [336ed68f] \u001b[39m\u001b[93m↑ CSV v0.10.2 ⇒ v0.10.3\u001b[39m\n",
      " \u001b[90m [fa6b7ba4] \u001b[39m\u001b[93m↑ DualNumbers v0.6.6 ⇒ v0.6.7\u001b[39m\n",
      " \u001b[90m [033835bb] \u001b[39m\u001b[93m↑ JLD2 v0.4.21 ⇒ v0.4.22\u001b[39m\n",
      " \u001b[90m [69de0a69] \u001b[39m\u001b[93m↑ Parsers v2.2.2 ⇒ v2.2.3\u001b[39m\n",
      " \u001b[90m [bd369af6] \u001b[39m\u001b[93m↑ Tables v1.6.1 ⇒ v1.7.0\u001b[39m\n",
      " \u001b[90m [ea10d353] \u001b[39m\u001b[93m↑ WeakRefStrings v1.4.1 ⇒ v1.4.2\u001b[39m\n",
      "\u001b[32m\u001b[1mPrecompiling\u001b[22m\u001b[39m project...\n",
      "\u001b[32m  ✓ \u001b[39m\u001b[90mTables\u001b[39m\n",
      "\u001b[32m  ✓ \u001b[39m\u001b[90mDualNumbers\u001b[39m\n",
      "\u001b[32m  ✓ \u001b[39m\u001b[90mTableOperations\u001b[39m\n",
      "\u001b[32m  ✓ \u001b[39m\u001b[90mMustache\u001b[39m\n",
      "\u001b[32m  ✓ \u001b[39m\u001b[90mXLSX\u001b[39m\n",
      "\u001b[32m  ✓ \u001b[39m\u001b[90mHypergeometricFunctions\u001b[39m\n",
      "\u001b[32m  ✓ \u001b[39m\u001b[90mStructArrays\u001b[39m\n",
      "\u001b[32m  ✓ \u001b[39m\u001b[90mStatsFuns\u001b[39m\n",
      "\u001b[32m  ✓ \u001b[39m\u001b[90mStatsModels\u001b[39m\n",
      "\u001b[32m  ✓ \u001b[39m\u001b[90mPrettyTables\u001b[39m\n",
      "\u001b[32m  ✓ \u001b[39mJLD2\n",
      "\u001b[32m  ✓ \u001b[39m\u001b[90mGeometryBasics\u001b[39m\n",
      "\u001b[32m  ✓ \u001b[39mMetaGraphs\n",
      "\u001b[32m  ✓ \u001b[39m\u001b[90mNetworkLayout\u001b[39m\n",
      "\u001b[32m  ✓ \u001b[39m\u001b[90mDistributions\u001b[39m\n",
      "\u001b[32m  ✓ \u001b[39m\u001b[90mGLM\u001b[39m\n",
      "\u001b[32m  ✓ \u001b[39m\u001b[90mKernelDensity\u001b[39m\n",
      "\u001b[32m  ✓ \u001b[39m\u001b[90mLsqFit\u001b[39m\n",
      "\u001b[32m  ✓ \u001b[39m\u001b[90mGraphRecipes\u001b[39m\n",
      "\u001b[33m  ✓ \u001b[39m\u001b[90mParsers\u001b[39m\n",
      "\u001b[32m  ✓ \u001b[39mDataFrames\n",
      "\u001b[32m  ✓ \u001b[39m\u001b[90mInlineStrings\u001b[39m\n",
      "\u001b[33m  ✓ \u001b[39mJSON\n",
      "\u001b[33m  ✓ \u001b[39m\u001b[90mConda\u001b[39m\n",
      "\u001b[32m  ✓ \u001b[39m\u001b[90mBioServices\u001b[39m\n",
      "\u001b[32m  ✓ \u001b[39m\u001b[90mBenchmarkTools\u001b[39m\n",
      "\u001b[32m  ✓ \u001b[39muCSV\n",
      "\u001b[32m  ✓ \u001b[39m\u001b[90mWeakRefStrings\u001b[39m\n",
      "\u001b[32m  ✓ \u001b[39mGenomicAnnotations\n",
      "\u001b[32m  ✓ \u001b[39mWeave\n",
      "\u001b[32m  ✓ \u001b[39m\u001b[90mCompose\u001b[39m\n",
      "\u001b[32m  ✓ \u001b[39mDocumenter\n",
      "\u001b[32m  ✓ \u001b[39m\u001b[90mGR\u001b[39m\n",
      "\u001b[32m  ✓ \u001b[39mBioFetch\n",
      "\u001b[32m  ✓ \u001b[39m\u001b[90mGraphPlot\u001b[39m\n",
      "\u001b[32m  ✓ \u001b[39mPyCall\n",
      "\u001b[32m  ✓ \u001b[39m\u001b[90mCSV\u001b[39m\n",
      "\u001b[32m  ✓ \u001b[39m\u001b[90mImpute\u001b[39m\n",
      "\u001b[32m  ✓ \u001b[39mPlots\n",
      "\u001b[32m  ✓ \u001b[39mStatsPlots\n",
      "\u001b[32m  ✓ \u001b[39mMycelia\n",
      "  41 dependencies successfully precompiled in 141 seconds (221 already precompiled)\n",
      "  \u001b[33m3\u001b[39m dependencies precompiled but different versions are currently loaded. Restart julia to access the new versions\n",
      "┌ Info: Precompiling StatsPlots [f3b207a7-027a-5e70-b257-86293d7955fd]\n",
      "└ @ Base loading.jl:1342\n",
      "┌ Info: Precompiling Mycelia [453d265d-8292-4a7b-a57c-dce3f9ae6acd]\n",
      "└ @ Base loading.jl:1342\n",
      "WARNING: Method definition observe(R<:Union{FASTX.FASTA.Record, FASTX.FASTQ.Record}) where {R<:Union{FASTX.FASTA.Record, FASTX.FASTQ.Record}} in module Mycelia at /home/jupyter-cameron.prybol/.julia/packages/Mycelia/UzAyE/src/sequence-interactions.jl:287 overwritten at /home/jupyter-cameron.prybol/.julia/packages/Mycelia/UzAyE/src/sequence-interactions.jl:306.\n",
      "  ** incremental compilation may be fatally broken for this module **\n",
      "\n",
      "WARNING: Method definition observe##kw(Any, typeof(Mycelia.observe), R<:Union{FASTX.FASTA.Record, FASTX.FASTQ.Record}) where {R<:Union{FASTX.FASTA.Record, FASTX.FASTQ.Record}} in module Mycelia at /home/jupyter-cameron.prybol/.julia/packages/Mycelia/UzAyE/src/sequence-interactions.jl:287 overwritten at /home/jupyter-cameron.prybol/.julia/packages/Mycelia/UzAyE/src/sequence-interactions.jl:306.\n",
      "  ** incremental compilation may be fatally broken for this module **\n",
      "\n",
      "\u001b[33m\u001b[1m┌ \u001b[22m\u001b[39m\u001b[33m\u001b[1mWarning: \u001b[22m\u001b[39mReplacing docs for `Mycelia.observe :: Tuple{R} where R<:Union{FASTX.FASTA.Record, FASTX.FASTQ.Record}` in module `Mycelia`\n",
      "\u001b[33m\u001b[1m└ \u001b[22m\u001b[39m\u001b[90m@ Base.Docs docs/Docs.jl:240\u001b[39m\n"
     ]
    }
   ],
   "source": [
    "import Pkg\n",
    "Pkg.update()\n",
    "pkgs = [\n",
    "\"JSON\",\n",
    "\"HTTP\",\n",
    "\"Dates\",\n",
    "\"uCSV\",\n",
    "\"DelimitedFiles\",\n",
    "\"DataFrames\",\n",
    "\"ProgressMeter\",\n",
    "\"BioSequences\",\n",
    "\"FASTX\",\n",
    "\"Distances\",\n",
    "\"StatsPlots\",\n",
    "\"StatsBase\",\n",
    "\"Statistics\",\n",
    "\"MultivariateStats\",\n",
    "\"Random\",\n",
    "\"Primes\",\n",
    "\"SparseArrays\",\n",
    "\"SHA\",\n",
    "\"GenomicAnnotations\",\n",
    "\"Combinatorics\",\n",
    "\"OrderedCollections\",\n",
    "\"Downloads\",\n",
    "\"Clustering\",\n",
    "\"Revise\",\n",
    "\"Mmap\"\n",
    "]\n",
    "\n",
    "for pkg in pkgs\n",
    "    try\n",
    "        eval(Meta.parse(\"import $pkg\"))\n",
    "    catch\n",
    "        Pkg.add(pkg)\n",
    "        eval(Meta.parse(\"import $pkg\"))\n",
    "    end\n",
    "end\n",
    "\n",
    "# works but can't update locally, need to push and restart kernel to activate changes\n",
    "# \"https://github.com/cjprybol/Mycelia.git#master\",\n",
    "# didn't work\n",
    "# \"$(homedir())/git/Mycelia#master\",\n",
    "pkg_path = \"$(homedir())/git/Mycelia\"\n",
    "try\n",
    "    eval(Meta.parse(\"import $(basename(pkg_path))\"))\n",
    "catch\n",
    "    # Pkg.add(url=pkg)\n",
    "    Pkg.develop(path=pkg_path)\n",
    "    # pkg = replace(basename(pkg), \".git#master\" => \"\")\n",
    "    # pkg = replace(basename(pkg), \"#master\" => \"\")\n",
    "    eval(Meta.parse(\"import $(basename(pkg_path))\"))\n",
    "end"
   ]
  },
  {
   "cell_type": "code",
   "execution_count": 3,
   "metadata": {},
   "outputs": [
    {
     "data": {
      "text/plain": [
       "2733124"
      ]
     },
     "execution_count": 3,
     "metadata": {},
     "output_type": "execute_result"
    }
   ],
   "source": [
    "# https://www.ncbi.nlm.nih.gov/Taxonomy/Browser/wwwtax.cgi?&id=$(tax_id)\n",
    "# https://www.ncbi.nlm.nih.gov/Taxonomy/Browser/wwwtax.cgi?lvl=0&amp;id=2733124\n",
    "root_tax_id = 2733124"
   ]
  },
  {
   "cell_type": "code",
   "execution_count": 4,
   "metadata": {},
   "outputs": [
    {
     "name": "stdout",
     "output_type": "stream",
     "text": [
      "MATCH (n)<-[*]-(n2) WHERE n.tax_id IS NOT NULL AND n.tax_id = \"2733124\" RETURN DISTINCT n2.tax_id AS tax_id\n"
     ]
    },
    {
     "data": {
      "text/plain": [
       "25-element Vector{Int64}:\n",
       " 1881104\n",
       " 2734131\n",
       " 1229753\n",
       " 2734132\n",
       " 2508195\n",
       " 2734130\n",
       " 1897495\n",
       " 2734133\n",
       " 2201417\n",
       " 2738374\n",
       " 2047918\n",
       " 2144176\n",
       " 2178929\n",
       " 2695845\n",
       " 2696455\n",
       " 2696458\n",
       " 2696383\n",
       " 2696431\n",
       " 2696432\n",
       " 2697090\n",
       " 2743961\n",
       " 2761708\n",
       " 2793345\n",
       " 2900304\n",
       " 2733124"
      ]
     },
     "execution_count": 4,
     "metadata": {},
     "output_type": "execute_result"
    }
   ],
   "source": [
    "child_tax_ids = vcat(Mycelia.taxonomic_id_to_children(root_tax_id), root_tax_id)\n",
    "# child_tax_ids = vcat(child_tax_ids, root_tax_id)"
   ]
  },
  {
   "cell_type": "code",
   "execution_count": 5,
   "metadata": {},
   "outputs": [],
   "source": [
    "# TODO\n",
    "# here is where we should apply a filter where host == Escherichia\n",
    "# need to load host information into neo4j taxonomy"
   ]
  },
  {
   "cell_type": "code",
   "execution_count": 6,
   "metadata": {},
   "outputs": [
    {
     "data": {
      "text/html": [
       "<div class=\"data-frame\"><p>1,223,764 rows × 23 columns (omitted printing of 18 columns)</p><table class=\"data-frame\"><thead><tr><th></th><th># assembly_accession</th><th>bioproject</th><th>biosample</th><th>wgs_master</th><th>refseq_category</th></tr><tr><th></th><th title=\"String\">String</th><th title=\"String\">String</th><th title=\"String\">String</th><th title=\"String\">String</th><th title=\"String\">String</th></tr></thead><tbody><tr><th>1</th><td>GCA_000001215.4</td><td>PRJNA13812</td><td>SAMN02803731</td><td></td><td>reference genome</td></tr><tr><th>2</th><td>GCA_000001405.29</td><td>PRJNA31257</td><td></td><td></td><td>reference genome</td></tr><tr><th>3</th><td>GCA_000001515.5</td><td>PRJNA13184</td><td>SAMN02981217</td><td>AACZ00000000.4</td><td>na</td></tr><tr><th>4</th><td>GCA_000001545.3</td><td>PRJNA20869</td><td>SAMN02981238</td><td>ABGA00000000.1</td><td>na</td></tr><tr><th>5</th><td>GCA_000001635.9</td><td>PRJNA20689</td><td></td><td></td><td>reference genome</td></tr><tr><th>6</th><td>GCA_000001735.2</td><td>PRJNA10719</td><td>SAMN03081427</td><td></td><td>reference genome</td></tr><tr><th>7</th><td>GCA_000001765.3</td><td>PRJNA10626</td><td>SAMN00779672</td><td>AADE00000000.2</td><td>na</td></tr><tr><th>8</th><td>GCA_000001895.4</td><td>PRJNA10629</td><td>SAMN02808228</td><td>AABR00000000.7</td><td>na</td></tr><tr><th>9</th><td>GCA_000001905.1</td><td>PRJNA12569</td><td>SAMN02953622</td><td>AAGU00000000.3</td><td>representative genome</td></tr><tr><th>10</th><td>GCA_000001985.1</td><td>PRJNA19555</td><td>SAMN02953685</td><td>ABAR00000000.1</td><td>representative genome</td></tr><tr><th>11</th><td>GCA_000002035.4</td><td>PRJNA11776</td><td>SAMN06930106</td><td></td><td>reference genome</td></tr><tr><th>12</th><td>GCA_000002075.2</td><td>PRJNA13635</td><td>SAMN02953658</td><td>AASC00000000.3</td><td>representative genome</td></tr><tr><th>13</th><td>GCA_000002115.2</td><td>PRJNA1431</td><td>SAMN02981219</td><td>AADD00000000.1</td><td>na</td></tr><tr><th>14</th><td>GCA_000002125.2</td><td>PRJNA19621</td><td>SAMN02981236</td><td>ABBA00000000.1</td><td>na</td></tr><tr><th>15</th><td>GCA_000002135.3</td><td>PRJNA10793</td><td></td><td></td><td>na</td></tr><tr><th>16</th><td>GCA_000002165.1</td><td>PRJNA11785</td><td>SAMN03004379</td><td>AAHY00000000.1</td><td>na</td></tr><tr><th>17</th><td>GCA_000002175.2</td><td>PRJNA16847</td><td>SAMD00067074</td><td></td><td>na</td></tr><tr><th>18</th><td>GCA_000002195.1</td><td>PRJNA10625</td><td>SAMN00002455</td><td>AADG00000000.6</td><td>na</td></tr><tr><th>19</th><td>GCA_000002235.4</td><td>PRJNA10736</td><td>SAMN00829422</td><td>AAGJ00000000.6</td><td>representative genome</td></tr><tr><th>20</th><td>GCA_000002255.2</td><td>PRJNA12537</td><td>SAMN02981228</td><td>AANU00000000.1</td><td>na</td></tr><tr><th>21</th><td>GCA_000002265.1</td><td>PRJNA13999</td><td>SAMN03000701</td><td>AAHX00000000.1</td><td>na</td></tr><tr><th>22</th><td>GCA_000002275.2</td><td>PRJNA12885</td><td>SAMN02953646</td><td>AAPN00000000.1</td><td>na</td></tr><tr><th>23</th><td>GCA_000002285.4</td><td>PRJNA13179</td><td>SAMN02953603</td><td>AAEX00000000.4</td><td>na</td></tr><tr><th>24</th><td>GCA_000002295.1</td><td>PRJNA12561</td><td>SAMN02953611</td><td>AAFR00000000.3</td><td>representative genome</td></tr><tr><th>25</th><td>GCA_000002305.1</td><td>PRJNA18661</td><td>SAMN02953672</td><td>AAWR00000000.2</td><td>na</td></tr><tr><th>26</th><td>GCA_000002315.5</td><td>PRJNA13342</td><td>SAMN02981218</td><td>AADN00000000.5</td><td>na</td></tr><tr><th>27</th><td>GCA_000002325.2</td><td>PRJNA13660</td><td>SAMN02902141</td><td>AAZX00000000.1</td><td>na</td></tr><tr><th>28</th><td>GCA_000002335.3</td><td>PRJNA12540</td><td>SAMN02953634</td><td>AAJJ00000000.2</td><td>representative genome</td></tr><tr><th>29</th><td>GCA_000002415.2</td><td>PRJNA150</td><td>SAMN02953638</td><td>AAKM00000000.1</td><td>representative genome</td></tr><tr><th>30</th><td>GCA_000002425.2</td><td>PRJNA13064</td><td>SAMN00120126</td><td>ABEU00000000.2</td><td>representative genome</td></tr><tr><th>&vellip;</th><td>&vellip;</td><td>&vellip;</td><td>&vellip;</td><td>&vellip;</td><td>&vellip;</td></tr></tbody></table></div>"
      ],
      "text/latex": [
       "\\begin{tabular}{r|cccccc}\n",
       "\t& \\# assembly\\_accession & bioproject & biosample & wgs\\_master & refseq\\_category & \\\\\n",
       "\t\\hline\n",
       "\t& String & String & String & String & String & \\\\\n",
       "\t\\hline\n",
       "\t1 & GCA\\_000001215.4 & PRJNA13812 & SAMN02803731 &  & reference genome & $\\dots$ \\\\\n",
       "\t2 & GCA\\_000001405.29 & PRJNA31257 &  &  & reference genome & $\\dots$ \\\\\n",
       "\t3 & GCA\\_000001515.5 & PRJNA13184 & SAMN02981217 & AACZ00000000.4 & na & $\\dots$ \\\\\n",
       "\t4 & GCA\\_000001545.3 & PRJNA20869 & SAMN02981238 & ABGA00000000.1 & na & $\\dots$ \\\\\n",
       "\t5 & GCA\\_000001635.9 & PRJNA20689 &  &  & reference genome & $\\dots$ \\\\\n",
       "\t6 & GCA\\_000001735.2 & PRJNA10719 & SAMN03081427 &  & reference genome & $\\dots$ \\\\\n",
       "\t7 & GCA\\_000001765.3 & PRJNA10626 & SAMN00779672 & AADE00000000.2 & na & $\\dots$ \\\\\n",
       "\t8 & GCA\\_000001895.4 & PRJNA10629 & SAMN02808228 & AABR00000000.7 & na & $\\dots$ \\\\\n",
       "\t9 & GCA\\_000001905.1 & PRJNA12569 & SAMN02953622 & AAGU00000000.3 & representative genome & $\\dots$ \\\\\n",
       "\t10 & GCA\\_000001985.1 & PRJNA19555 & SAMN02953685 & ABAR00000000.1 & representative genome & $\\dots$ \\\\\n",
       "\t11 & GCA\\_000002035.4 & PRJNA11776 & SAMN06930106 &  & reference genome & $\\dots$ \\\\\n",
       "\t12 & GCA\\_000002075.2 & PRJNA13635 & SAMN02953658 & AASC00000000.3 & representative genome & $\\dots$ \\\\\n",
       "\t13 & GCA\\_000002115.2 & PRJNA1431 & SAMN02981219 & AADD00000000.1 & na & $\\dots$ \\\\\n",
       "\t14 & GCA\\_000002125.2 & PRJNA19621 & SAMN02981236 & ABBA00000000.1 & na & $\\dots$ \\\\\n",
       "\t15 & GCA\\_000002135.3 & PRJNA10793 &  &  & na & $\\dots$ \\\\\n",
       "\t16 & GCA\\_000002165.1 & PRJNA11785 & SAMN03004379 & AAHY00000000.1 & na & $\\dots$ \\\\\n",
       "\t17 & GCA\\_000002175.2 & PRJNA16847 & SAMD00067074 &  & na & $\\dots$ \\\\\n",
       "\t18 & GCA\\_000002195.1 & PRJNA10625 & SAMN00002455 & AADG00000000.6 & na & $\\dots$ \\\\\n",
       "\t19 & GCA\\_000002235.4 & PRJNA10736 & SAMN00829422 & AAGJ00000000.6 & representative genome & $\\dots$ \\\\\n",
       "\t20 & GCA\\_000002255.2 & PRJNA12537 & SAMN02981228 & AANU00000000.1 & na & $\\dots$ \\\\\n",
       "\t21 & GCA\\_000002265.1 & PRJNA13999 & SAMN03000701 & AAHX00000000.1 & na & $\\dots$ \\\\\n",
       "\t22 & GCA\\_000002275.2 & PRJNA12885 & SAMN02953646 & AAPN00000000.1 & na & $\\dots$ \\\\\n",
       "\t23 & GCA\\_000002285.4 & PRJNA13179 & SAMN02953603 & AAEX00000000.4 & na & $\\dots$ \\\\\n",
       "\t24 & GCA\\_000002295.1 & PRJNA12561 & SAMN02953611 & AAFR00000000.3 & representative genome & $\\dots$ \\\\\n",
       "\t25 & GCA\\_000002305.1 & PRJNA18661 & SAMN02953672 & AAWR00000000.2 & na & $\\dots$ \\\\\n",
       "\t26 & GCA\\_000002315.5 & PRJNA13342 & SAMN02981218 & AADN00000000.5 & na & $\\dots$ \\\\\n",
       "\t27 & GCA\\_000002325.2 & PRJNA13660 & SAMN02902141 & AAZX00000000.1 & na & $\\dots$ \\\\\n",
       "\t28 & GCA\\_000002335.3 & PRJNA12540 & SAMN02953634 & AAJJ00000000.2 & representative genome & $\\dots$ \\\\\n",
       "\t29 & GCA\\_000002415.2 & PRJNA150 & SAMN02953638 & AAKM00000000.1 & representative genome & $\\dots$ \\\\\n",
       "\t30 & GCA\\_000002425.2 & PRJNA13064 & SAMN00120126 & ABEU00000000.2 & representative genome & $\\dots$ \\\\\n",
       "\t$\\dots$ & $\\dots$ & $\\dots$ & $\\dots$ & $\\dots$ & $\\dots$ &  \\\\\n",
       "\\end{tabular}\n"
      ],
      "text/plain": [
       "\u001b[1m1223764×23 DataFrame\u001b[0m\n",
       "\u001b[1m     Row \u001b[0m│\u001b[1m # assembly_accession \u001b[0m\u001b[1m bioproject \u001b[0m\u001b[1m biosample    \u001b[0m\u001b[1m wgs_master        \u001b[0m\u001b[1m \u001b[0m ⋯\n",
       "\u001b[1m         \u001b[0m│\u001b[90m String               \u001b[0m\u001b[90m String     \u001b[0m\u001b[90m String       \u001b[0m\u001b[90m String            \u001b[0m\u001b[90m \u001b[0m ⋯\n",
       "─────────┼──────────────────────────────────────────────────────────────────────\n",
       "       1 │ GCA_000001215.4       PRJNA13812  SAMN02803731                      ⋯\n",
       "       2 │ GCA_000001405.29      PRJNA31257\n",
       "       3 │ GCA_000001515.5       PRJNA13184  SAMN02981217  AACZ00000000.4\n",
       "       4 │ GCA_000001545.3       PRJNA20869  SAMN02981238  ABGA00000000.1\n",
       "       5 │ GCA_000001635.9       PRJNA20689                                    ⋯\n",
       "       6 │ GCA_000001735.2       PRJNA10719  SAMN03081427\n",
       "       7 │ GCA_000001765.3       PRJNA10626  SAMN00779672  AADE00000000.2\n",
       "       8 │ GCA_000001895.4       PRJNA10629  SAMN02808228  AABR00000000.7\n",
       "       9 │ GCA_000001905.1       PRJNA12569  SAMN02953622  AAGU00000000.3      ⋯\n",
       "      10 │ GCA_000001985.1       PRJNA19555  SAMN02953685  ABAR00000000.1\n",
       "      11 │ GCA_000002035.4       PRJNA11776  SAMN06930106\n",
       "    ⋮    │          ⋮                ⋮            ⋮                ⋮           ⋱\n",
       " 1223755 │ GCA_930367205.1       PRJEB50843  SAMEA8563710  CAKNEZ000000000.1\n",
       " 1223756 │ GCA_930367215.1       PRJEB50842  SAMEA7746597  CAKNFE000000000.1   ⋯\n",
       " 1223757 │ GCA_930367225.1       PRJEB50847  SAMEA7520485  CAKNFC000000000.1\n",
       " 1223758 │ GCA_930367235.1       PRJEB50845  SAMEA7746603  CAKNFA000000000.1\n",
       " 1223759 │ GCA_930367245.1       PRJEB50849  SAMEA7520156  CAKNFD000000000.1\n",
       " 1223760 │ GCA_930367255.1       PRJEB50840  SAMEA8603175  CAKNFF000000000.1   ⋯\n",
       " 1223761 │ GCA_930367265.1       PRJEB50839  SAMEA8603175  CAKNFB000000000.1\n",
       " 1223762 │ GCA_930367275.1       PRJEB50848  SAMEA7520485  CAKNEW000000000.1\n",
       " 1223763 │ GCA_930374635.1       PRJEB50844  SAMEA8563710  CAKNFG000000000.1\n",
       " 1223764 │ GCA_930374645.1       PRJEB50841  SAMEA7746597  CAKNFH000000000.1   ⋯\n",
       "\u001b[36m                                             19 columns and 1223743 rows omitted\u001b[0m"
      ]
     },
     "execution_count": 6,
     "metadata": {},
     "output_type": "execute_result"
    }
   ],
   "source": [
    "# refseq_metadata = Mycelia.load_refseq_metadata()\n",
    "ncbi_metadata = Mycelia.load_genbank_metadata()"
   ]
  },
  {
   "cell_type": "code",
   "execution_count": 7,
   "metadata": {},
   "outputs": [
    {
     "name": "stdout",
     "output_type": "stream",
     "text": [
      "\u001b[1m1×23 DataFrame\u001b[0m\n",
      "\u001b[1m Row \u001b[0m│\u001b[1m # assembly_accession \u001b[0m\u001b[1m bioproject \u001b[0m\u001b[1m biosample    \u001b[0m\u001b[1m wgs_master \u001b[0m\u001b[1m refseq_category  \u001b[0m\u001b[1m taxid \u001b[0m\u001b[1m species_taxid \u001b[0m\u001b[1m organism_name           \u001b[0m\u001b[1m infraspecific_name \u001b[0m\u001b[1m isolate \u001b[0m\u001b[1m version_status \u001b[0m\u001b[1m assembly_level \u001b[0m\u001b[1m release_type \u001b[0m\u001b[1m genome_rep \u001b[0m\u001b[1m seq_rel_date \u001b[0m\u001b[1m asm_name               \u001b[0m\u001b[1m submitter                         \u001b[0m\u001b[1m gbrs_paired_asm \u001b[0m\u001b[1m paired_asm_comp \u001b[0m\u001b[1m ftp_path                          \u001b[0m\u001b[1m excluded_from_refseq \u001b[0m\u001b[1m relation_to_type_material \u001b[0m\u001b[1m asm_not_live_date \u001b[0m\n",
      "\u001b[1m     \u001b[0m│\u001b[90m String               \u001b[0m\u001b[90m String     \u001b[0m\u001b[90m String       \u001b[0m\u001b[90m String     \u001b[0m\u001b[90m String           \u001b[0m\u001b[90m Int64 \u001b[0m\u001b[90m Int64         \u001b[0m\u001b[90m String                  \u001b[0m\u001b[90m String             \u001b[0m\u001b[90m String  \u001b[0m\u001b[90m String         \u001b[0m\u001b[90m String         \u001b[0m\u001b[90m String       \u001b[0m\u001b[90m String     \u001b[0m\u001b[90m String       \u001b[0m\u001b[90m String                 \u001b[0m\u001b[90m String                            \u001b[0m\u001b[90m String          \u001b[0m\u001b[90m String          \u001b[0m\u001b[90m String                            \u001b[0m\u001b[90m String               \u001b[0m\u001b[90m String                    \u001b[0m\u001b[90m String            \u001b[0m\n",
      "─────┼──────────────────────────────────────────────────────────────────────────────────────────────────────────────────────────────────────────────────────────────────────────────────────────────────────────────────────────────────────────────────────────────────────────────────────────────────────────────────────────────────────────────────────────────────────────────────────────────────────────────────────────────────────\n",
      "   1 │ GCA_000001215.4       PRJNA13812  SAMN02803731              reference genome   7227           7227  Drosophila melanogaster                               latest          Chromosome      Major         Full        2014/08/01    Release 6 plus ISO1 MT  The FlyBase Consortium/Berkeley …  GCF_000001215.4  identical        https://ftp.ncbi.nlm.nih.gov/gen…                                                   na"
     ]
    }
   ],
   "source": [
    "show(ncbi_metadata[1:1, :], allcols=true)"
   ]
  },
  {
   "cell_type": "code",
   "execution_count": 8,
   "metadata": {},
   "outputs": [
    {
     "data": {
      "text/plain": [
       "14"
      ]
     },
     "execution_count": 8,
     "metadata": {},
     "output_type": "execute_result"
    }
   ],
   "source": [
    "tax_id_filter = map(taxid -> taxid in child_tax_ids, ncbi_metadata[!, \"taxid\"])\n",
    "is_right_host = map(x -> occursin(r\"Escherichia\"i, x), ncbi_metadata[!, \"organism_name\"])\n",
    "not_excluded = ncbi_metadata[!, \"excluded_from_refseq\"] .== \"\"\n",
    "is_full = ncbi_metadata[!, \"genome_rep\"] .== \"Full\"\n",
    "# assembly_levels = [\"Complete Genome\"]\n",
    "assembly_levels = [\"Complete Genome\", \"Chromosome\"]\n",
    "# assembly_levels = [\"Complete Genome\", \"Chromosome\", \"Scaffold\"]\n",
    "# assembly_levels = [\"Complete Genome\", \"Chromosome\", \"Scaffold\", \"Contig\"]\n",
    "assembly_level_filter = map(x -> x in assembly_levels, ncbi_metadata[!, \"assembly_level\"])\n",
    "full_filter = is_full .& not_excluded .& assembly_level_filter .& tax_id_filter .& is_right_host\n",
    "count(full_filter)"
   ]
  },
  {
   "cell_type": "code",
   "execution_count": 9,
   "metadata": {},
   "outputs": [],
   "source": [
    "# TODO\n",
    "# here is another place we could enforce host == escherichia\n",
    "# we'll use a manual filter as a temporary solution"
   ]
  },
  {
   "cell_type": "code",
   "execution_count": 10,
   "metadata": {},
   "outputs": [
    {
     "data": {
      "text/html": [
       "<div class=\"data-frame\"><p>14 rows × 23 columns (omitted printing of 17 columns)</p><table class=\"data-frame\"><thead><tr><th></th><th># assembly_accession</th><th>bioproject</th><th>biosample</th><th>wgs_master</th><th>refseq_category</th><th>taxid</th></tr><tr><th></th><th title=\"String\">String</th><th title=\"String\">String</th><th title=\"String\">String</th><th title=\"String\">String</th><th title=\"String\">String</th><th title=\"Int64\">Int64</th></tr></thead><tbody><tr><th>1</th><td>GCA_000906475.1</td><td></td><td></td><td></td><td>na</td><td>1229753</td></tr><tr><th>2</th><td>GCA_002611945.1</td><td></td><td></td><td></td><td>na</td><td>1881104</td></tr><tr><th>3</th><td>GCA_002612725.1</td><td></td><td></td><td></td><td>na</td><td>1897495</td></tr><tr><th>4</th><td>GCA_004768905.1</td><td></td><td></td><td></td><td>na</td><td>2178929</td></tr><tr><th>5</th><td>GCA_004794915.1</td><td></td><td></td><td></td><td>na</td><td>2144176</td></tr><tr><th>6</th><td>GCA_005892245.1</td><td></td><td></td><td></td><td>na</td><td>2508195</td></tr><tr><th>7</th><td>GCA_010120165.1</td><td></td><td></td><td></td><td>na</td><td>2696383</td></tr><tr><th>8</th><td>GCA_010120825.1</td><td></td><td></td><td></td><td>na</td><td>2696431</td></tr><tr><th>9</th><td>GCA_010120835.1</td><td></td><td></td><td></td><td>na</td><td>2696432</td></tr><tr><th>10</th><td>GCA_010121055.1</td><td></td><td></td><td></td><td>na</td><td>2696455</td></tr><tr><th>11</th><td>GCA_010121085.1</td><td></td><td></td><td></td><td>na</td><td>2696458</td></tr><tr><th>12</th><td>GCA_014337505.1</td><td></td><td></td><td></td><td>na</td><td>2743961</td></tr><tr><th>13</th><td>GCA_016455565.1</td><td></td><td></td><td></td><td>na</td><td>2761708</td></tr><tr><th>14</th><td>GCA_021354775.1</td><td></td><td></td><td></td><td>na</td><td>2900304</td></tr></tbody></table></div>"
      ],
      "text/latex": [
       "\\begin{tabular}{r|ccccccc}\n",
       "\t& \\# assembly\\_accession & bioproject & biosample & wgs\\_master & refseq\\_category & taxid & \\\\\n",
       "\t\\hline\n",
       "\t& String & String & String & String & String & Int64 & \\\\\n",
       "\t\\hline\n",
       "\t1 & GCA\\_000906475.1 &  &  &  & na & 1229753 & $\\dots$ \\\\\n",
       "\t2 & GCA\\_002611945.1 &  &  &  & na & 1881104 & $\\dots$ \\\\\n",
       "\t3 & GCA\\_002612725.1 &  &  &  & na & 1897495 & $\\dots$ \\\\\n",
       "\t4 & GCA\\_004768905.1 &  &  &  & na & 2178929 & $\\dots$ \\\\\n",
       "\t5 & GCA\\_004794915.1 &  &  &  & na & 2144176 & $\\dots$ \\\\\n",
       "\t6 & GCA\\_005892245.1 &  &  &  & na & 2508195 & $\\dots$ \\\\\n",
       "\t7 & GCA\\_010120165.1 &  &  &  & na & 2696383 & $\\dots$ \\\\\n",
       "\t8 & GCA\\_010120825.1 &  &  &  & na & 2696431 & $\\dots$ \\\\\n",
       "\t9 & GCA\\_010120835.1 &  &  &  & na & 2696432 & $\\dots$ \\\\\n",
       "\t10 & GCA\\_010121055.1 &  &  &  & na & 2696455 & $\\dots$ \\\\\n",
       "\t11 & GCA\\_010121085.1 &  &  &  & na & 2696458 & $\\dots$ \\\\\n",
       "\t12 & GCA\\_014337505.1 &  &  &  & na & 2743961 & $\\dots$ \\\\\n",
       "\t13 & GCA\\_016455565.1 &  &  &  & na & 2761708 & $\\dots$ \\\\\n",
       "\t14 & GCA\\_021354775.1 &  &  &  & na & 2900304 & $\\dots$ \\\\\n",
       "\\end{tabular}\n"
      ],
      "text/plain": [
       "\u001b[1m14×23 DataFrame\u001b[0m\n",
       "\u001b[1m Row \u001b[0m│\u001b[1m # assembly_accession \u001b[0m\u001b[1m bioproject \u001b[0m\u001b[1m biosample \u001b[0m\u001b[1m wgs_master \u001b[0m\u001b[1m refseq_categor\u001b[0m ⋯\n",
       "\u001b[1m     \u001b[0m│\u001b[90m String               \u001b[0m\u001b[90m String     \u001b[0m\u001b[90m String    \u001b[0m\u001b[90m String     \u001b[0m\u001b[90m String        \u001b[0m ⋯\n",
       "─────┼──────────────────────────────────────────────────────────────────────────\n",
       "   1 │ GCA_000906475.1                                          na             ⋯\n",
       "   2 │ GCA_002611945.1                                          na\n",
       "   3 │ GCA_002612725.1                                          na\n",
       "   4 │ GCA_004768905.1                                          na\n",
       "   5 │ GCA_004794915.1                                          na             ⋯\n",
       "   6 │ GCA_005892245.1                                          na\n",
       "   7 │ GCA_010120165.1                                          na\n",
       "   8 │ GCA_010120825.1                                          na\n",
       "   9 │ GCA_010120835.1                                          na             ⋯\n",
       "  10 │ GCA_010121055.1                                          na\n",
       "  11 │ GCA_010121085.1                                          na\n",
       "  12 │ GCA_014337505.1                                          na\n",
       "  13 │ GCA_016455565.1                                          na             ⋯\n",
       "  14 │ GCA_021354775.1                                          na\n",
       "\u001b[36m                                                              19 columns omitted\u001b[0m"
      ]
     },
     "execution_count": 10,
     "metadata": {},
     "output_type": "execute_result"
    }
   ],
   "source": [
    "ncbi_metadata_of_interest = ncbi_metadata[full_filter, :]"
   ]
  },
  {
   "cell_type": "code",
   "execution_count": 11,
   "metadata": {},
   "outputs": [],
   "source": [
    "# https://www.ncbi.nlm.nih.gov/sviewer/viewer.cgi?db=nuccore&report=genbank&id=GCA_021354775"
   ]
  },
  {
   "cell_type": "code",
   "execution_count": 12,
   "metadata": {},
   "outputs": [],
   "source": [
    "# for col in names(ncbi_metadata_of_interest)\n",
    "#     @show col, ncbi_metadata_of_interest[1, col]\n",
    "# end"
   ]
  },
  {
   "cell_type": "code",
   "execution_count": 13,
   "metadata": {},
   "outputs": [],
   "source": [
    "# GCA_002956955.1"
   ]
  },
  {
   "cell_type": "code",
   "execution_count": 14,
   "metadata": {},
   "outputs": [
    {
     "name": "stderr",
     "output_type": "stream",
     "text": [
      "\u001b[32mProgress: 100%|█████████████████████████████████████████| Time: 0:00:01\u001b[39m\n"
     ]
    }
   ],
   "source": [
    "# can I also get genbank record?????\n",
    "# for extension in [\"genomic.fna.gz\", \"protein.faa.gz\"]\n",
    "for extension in [\"genomic.fna.gz\", \"protein.faa.gz\", \"genomic.gbff.gz\"]\n",
    "    outdir = mkpath(joinpath(DIR, extension))\n",
    "    ProgressMeter.@showprogress for row in DataFrames.eachrow(ncbi_metadata_of_interest)\n",
    "        url = Mycelia.ncbi_ftp_path_to_url(row[\"ftp_path\"], extension)\n",
    "        outfile = joinpath(outdir, basename(url))\n",
    "        if !isfile(outfile)\n",
    "            try\n",
    "                Downloads.download(url, outfile)\n",
    "            catch e\n",
    "                # @show e\n",
    "                showerror(stdout, e)\n",
    "                # @assert extension == \"protein.faa.gz\"\n",
    "                # here is where we should call prodigal to fill in protein annotations if we don't otherwise see them\n",
    "            end\n",
    "        end\n",
    "    end\n",
    "end"
   ]
  },
  {
   "cell_type": "code",
   "execution_count": 15,
   "metadata": {},
   "outputs": [
    {
     "data": {
      "text/plain": [
       "\"/home/jupyter-cameron.prybol/workspace/2022-03-06-ecoli-phapecoctavirus-core-genome/protein.faa.gz\""
      ]
     },
     "execution_count": 15,
     "metadata": {},
     "output_type": "execute_result"
    }
   ],
   "source": [
    "extension = \"protein.faa.gz\"\n",
    "outdir = mkpath(joinpath(DIR, extension))"
   ]
  },
  {
   "cell_type": "code",
   "execution_count": 16,
   "metadata": {},
   "outputs": [
    {
     "data": {
      "text/plain": [
       "14-element Vector{String}:\n",
       " \"/home/jupyter-cameron.prybol/workspace/2022-03-06-ecoli-phapecoctavirus-core-genome/protein.faa.gz/GCA_000906475.1_ViralProj185315_protein.faa.gz\"\n",
       " \"/home/jupyter-cameron.prybol/workspace/2022-03-06-ecoli-phapecoctavirus-core-genome/protein.faa.gz/GCA_002611945.1_ASM261194v1_protein.faa.gz\"\n",
       " \"/home/jupyter-cameron.prybol/workspace/2022-03-06-ecoli-phapecoctavirus-core-genome/protein.faa.gz/GCA_002612725.1_ASM261272v1_protein.faa.gz\"\n",
       " \"/home/jupyter-cameron.prybol/workspace/2022-03-06-ecoli-phapecoctavirus-core-genome/protein.faa.gz/GCA_004768905.1_ASM476890v1_protein.faa.gz\"\n",
       " \"/home/jupyter-cameron.prybol/workspace/2022-03-06-ecoli-phapecoctavirus-core-genome/protein.faa.gz/GCA_004794915.1_ASM479491v1_protein.faa.gz\"\n",
       " \"/home/jupyter-cameron.prybol/workspace/2022-03-06-ecoli-phapecoctavirus-core-genome/protein.faa.gz/GCA_005892245.1_ASM589224v1_protein.faa.gz\"\n",
       " \"/home/jupyter-cameron.prybol/workspace/2022-03-06-ecoli-phapecoctavirus-core-genome/protein.faa.gz/GCA_010120165.1_ASM1012016v1_protein.faa.gz\"\n",
       " \"/home/jupyter-cameron.prybol/workspace/2022-03-06-ecoli-phapecoctavirus-core-genome/protein.faa.gz/GCA_010120825.1_ASM1012082v1_protein.faa.gz\"\n",
       " \"/home/jupyter-cameron.prybol/workspace/2022-03-06-ecoli-phapecoctavirus-core-genome/protein.faa.gz/GCA_010120835.1_ASM1012083v1_protein.faa.gz\"\n",
       " \"/home/jupyter-cameron.prybol/workspace/2022-03-06-ecoli-phapecoctavirus-core-genome/protein.faa.gz/GCA_010121055.1_ASM1012105v1_protein.faa.gz\"\n",
       " \"/home/jupyter-cameron.prybol/workspace/2022-03-06-ecoli-phapecoctavirus-core-genome/protein.faa.gz/GCA_010121085.1_ASM1012108v1_protein.faa.gz\"\n",
       " \"/home/jupyter-cameron.prybol/workspace/2022-03-06-ecoli-phapecoctavirus-core-genome/protein.faa.gz/GCA_014337505.1_ASM1433750v1_protein.faa.gz\"\n",
       " \"/home/jupyter-cameron.prybol/workspace/2022-03-06-ecoli-phapecoctavirus-core-genome/protein.faa.gz/GCA_016455565.1_ASM1645556v1_protein.faa.gz\"\n",
       " \"/home/jupyter-cameron.prybol/workspace/2022-03-06-ecoli-phapecoctavirus-core-genome/protein.faa.gz/GCA_021354775.1_ASM2135477v1_protein.faa.gz\""
      ]
     },
     "execution_count": 16,
     "metadata": {},
     "output_type": "execute_result"
    }
   ],
   "source": [
    "fastx_files = filter(x -> !occursin(\".ipynb_checkpoints\", x), readdir(outdir, join=true))"
   ]
  },
  {
   "cell_type": "markdown",
   "metadata": {},
   "source": [
    "### This section generates a distance matrix for the fasta files i.e. the protein profile of the entire genome"
   ]
  },
  {
   "cell_type": "code",
   "execution_count": null,
   "metadata": {},
   "outputs": [],
   "source": [
    "# # these are too small, all of the within vs between have some disagreement\n",
    "# # dna_k = 5\n",
    "# aa_k = 2\n",
    "# # should use these?\n",
    "# # dna_k = 7\n",
    "# # aa_k = 3"
   ]
  },
  {
   "cell_type": "code",
   "execution_count": null,
   "metadata": {},
   "outputs": [],
   "source": [
    "# counts_table, outfile = Mycelia.fasta_list_to_counts_table(fasta_list=fastx_files, k=aa_k, alphabet=:AA, outfile=\"$(outdir).$(aa_k).counts.bin\")"
   ]
  },
  {
   "cell_type": "code",
   "execution_count": null,
   "metadata": {},
   "outputs": [],
   "source": [
    "# distance_matrix = Mycelia.counts_matrix_to_distance_matrix(counts_table)"
   ]
  },
  {
   "cell_type": "markdown",
   "metadata": {},
   "source": [
    "### This section generates a distance matrix for the individual proteins, so we can find clusters"
   ]
  },
  {
   "cell_type": "code",
   "execution_count": 17,
   "metadata": {},
   "outputs": [
    {
     "name": "stderr",
     "output_type": "stream",
     "text": [
      "\u001b[32mProgress: 100%|█████████████████████████████████████████| Time: 0:00:01\u001b[39m\n"
     ]
    },
    {
     "data": {
      "text/html": [
       "<div class=\"data-frame\"><p>3,734 rows × 3 columns (omitted printing of 2 columns)</p><table class=\"data-frame\"><thead><tr><th></th><th>fastx_file</th></tr><tr><th></th><th title=\"String\">String</th></tr></thead><tbody><tr><th>1</th><td>/home/jupyter-cameron.prybol/workspace/2022-03-06-ecoli-phapecoctavirus-core-genome/protein.faa.gz/GCA_000906475.1_ViralProj185315_protein.faa.gz</td></tr><tr><th>2</th><td>/home/jupyter-cameron.prybol/workspace/2022-03-06-ecoli-phapecoctavirus-core-genome/protein.faa.gz/GCA_000906475.1_ViralProj185315_protein.faa.gz</td></tr><tr><th>3</th><td>/home/jupyter-cameron.prybol/workspace/2022-03-06-ecoli-phapecoctavirus-core-genome/protein.faa.gz/GCA_000906475.1_ViralProj185315_protein.faa.gz</td></tr><tr><th>4</th><td>/home/jupyter-cameron.prybol/workspace/2022-03-06-ecoli-phapecoctavirus-core-genome/protein.faa.gz/GCA_000906475.1_ViralProj185315_protein.faa.gz</td></tr><tr><th>5</th><td>/home/jupyter-cameron.prybol/workspace/2022-03-06-ecoli-phapecoctavirus-core-genome/protein.faa.gz/GCA_000906475.1_ViralProj185315_protein.faa.gz</td></tr><tr><th>6</th><td>/home/jupyter-cameron.prybol/workspace/2022-03-06-ecoli-phapecoctavirus-core-genome/protein.faa.gz/GCA_000906475.1_ViralProj185315_protein.faa.gz</td></tr><tr><th>7</th><td>/home/jupyter-cameron.prybol/workspace/2022-03-06-ecoli-phapecoctavirus-core-genome/protein.faa.gz/GCA_000906475.1_ViralProj185315_protein.faa.gz</td></tr><tr><th>8</th><td>/home/jupyter-cameron.prybol/workspace/2022-03-06-ecoli-phapecoctavirus-core-genome/protein.faa.gz/GCA_000906475.1_ViralProj185315_protein.faa.gz</td></tr><tr><th>9</th><td>/home/jupyter-cameron.prybol/workspace/2022-03-06-ecoli-phapecoctavirus-core-genome/protein.faa.gz/GCA_000906475.1_ViralProj185315_protein.faa.gz</td></tr><tr><th>10</th><td>/home/jupyter-cameron.prybol/workspace/2022-03-06-ecoli-phapecoctavirus-core-genome/protein.faa.gz/GCA_000906475.1_ViralProj185315_protein.faa.gz</td></tr><tr><th>11</th><td>/home/jupyter-cameron.prybol/workspace/2022-03-06-ecoli-phapecoctavirus-core-genome/protein.faa.gz/GCA_000906475.1_ViralProj185315_protein.faa.gz</td></tr><tr><th>12</th><td>/home/jupyter-cameron.prybol/workspace/2022-03-06-ecoli-phapecoctavirus-core-genome/protein.faa.gz/GCA_000906475.1_ViralProj185315_protein.faa.gz</td></tr><tr><th>13</th><td>/home/jupyter-cameron.prybol/workspace/2022-03-06-ecoli-phapecoctavirus-core-genome/protein.faa.gz/GCA_000906475.1_ViralProj185315_protein.faa.gz</td></tr><tr><th>14</th><td>/home/jupyter-cameron.prybol/workspace/2022-03-06-ecoli-phapecoctavirus-core-genome/protein.faa.gz/GCA_000906475.1_ViralProj185315_protein.faa.gz</td></tr><tr><th>15</th><td>/home/jupyter-cameron.prybol/workspace/2022-03-06-ecoli-phapecoctavirus-core-genome/protein.faa.gz/GCA_000906475.1_ViralProj185315_protein.faa.gz</td></tr><tr><th>16</th><td>/home/jupyter-cameron.prybol/workspace/2022-03-06-ecoli-phapecoctavirus-core-genome/protein.faa.gz/GCA_000906475.1_ViralProj185315_protein.faa.gz</td></tr><tr><th>17</th><td>/home/jupyter-cameron.prybol/workspace/2022-03-06-ecoli-phapecoctavirus-core-genome/protein.faa.gz/GCA_000906475.1_ViralProj185315_protein.faa.gz</td></tr><tr><th>18</th><td>/home/jupyter-cameron.prybol/workspace/2022-03-06-ecoli-phapecoctavirus-core-genome/protein.faa.gz/GCA_000906475.1_ViralProj185315_protein.faa.gz</td></tr><tr><th>19</th><td>/home/jupyter-cameron.prybol/workspace/2022-03-06-ecoli-phapecoctavirus-core-genome/protein.faa.gz/GCA_000906475.1_ViralProj185315_protein.faa.gz</td></tr><tr><th>20</th><td>/home/jupyter-cameron.prybol/workspace/2022-03-06-ecoli-phapecoctavirus-core-genome/protein.faa.gz/GCA_000906475.1_ViralProj185315_protein.faa.gz</td></tr><tr><th>21</th><td>/home/jupyter-cameron.prybol/workspace/2022-03-06-ecoli-phapecoctavirus-core-genome/protein.faa.gz/GCA_000906475.1_ViralProj185315_protein.faa.gz</td></tr><tr><th>22</th><td>/home/jupyter-cameron.prybol/workspace/2022-03-06-ecoli-phapecoctavirus-core-genome/protein.faa.gz/GCA_000906475.1_ViralProj185315_protein.faa.gz</td></tr><tr><th>23</th><td>/home/jupyter-cameron.prybol/workspace/2022-03-06-ecoli-phapecoctavirus-core-genome/protein.faa.gz/GCA_000906475.1_ViralProj185315_protein.faa.gz</td></tr><tr><th>24</th><td>/home/jupyter-cameron.prybol/workspace/2022-03-06-ecoli-phapecoctavirus-core-genome/protein.faa.gz/GCA_000906475.1_ViralProj185315_protein.faa.gz</td></tr><tr><th>25</th><td>/home/jupyter-cameron.prybol/workspace/2022-03-06-ecoli-phapecoctavirus-core-genome/protein.faa.gz/GCA_000906475.1_ViralProj185315_protein.faa.gz</td></tr><tr><th>26</th><td>/home/jupyter-cameron.prybol/workspace/2022-03-06-ecoli-phapecoctavirus-core-genome/protein.faa.gz/GCA_000906475.1_ViralProj185315_protein.faa.gz</td></tr><tr><th>27</th><td>/home/jupyter-cameron.prybol/workspace/2022-03-06-ecoli-phapecoctavirus-core-genome/protein.faa.gz/GCA_000906475.1_ViralProj185315_protein.faa.gz</td></tr><tr><th>28</th><td>/home/jupyter-cameron.prybol/workspace/2022-03-06-ecoli-phapecoctavirus-core-genome/protein.faa.gz/GCA_000906475.1_ViralProj185315_protein.faa.gz</td></tr><tr><th>29</th><td>/home/jupyter-cameron.prybol/workspace/2022-03-06-ecoli-phapecoctavirus-core-genome/protein.faa.gz/GCA_000906475.1_ViralProj185315_protein.faa.gz</td></tr><tr><th>30</th><td>/home/jupyter-cameron.prybol/workspace/2022-03-06-ecoli-phapecoctavirus-core-genome/protein.faa.gz/GCA_000906475.1_ViralProj185315_protein.faa.gz</td></tr><tr><th>&vellip;</th><td>&vellip;</td></tr></tbody></table></div>"
      ],
      "text/latex": [
       "\\begin{tabular}{r|cc}\n",
       "\t& fastx\\_file & \\\\\n",
       "\t\\hline\n",
       "\t& String & \\\\\n",
       "\t\\hline\n",
       "\t1 & /home/jupyter-cameron.prybol/workspace/2022-03-06-ecoli-phapecoctavirus-core-genome/protein.faa.gz/GCA\\_000906475.1\\_ViralProj185315\\_protein.faa.gz & $\\dots$ \\\\\n",
       "\t2 & /home/jupyter-cameron.prybol/workspace/2022-03-06-ecoli-phapecoctavirus-core-genome/protein.faa.gz/GCA\\_000906475.1\\_ViralProj185315\\_protein.faa.gz & $\\dots$ \\\\\n",
       "\t3 & /home/jupyter-cameron.prybol/workspace/2022-03-06-ecoli-phapecoctavirus-core-genome/protein.faa.gz/GCA\\_000906475.1\\_ViralProj185315\\_protein.faa.gz & $\\dots$ \\\\\n",
       "\t4 & /home/jupyter-cameron.prybol/workspace/2022-03-06-ecoli-phapecoctavirus-core-genome/protein.faa.gz/GCA\\_000906475.1\\_ViralProj185315\\_protein.faa.gz & $\\dots$ \\\\\n",
       "\t5 & /home/jupyter-cameron.prybol/workspace/2022-03-06-ecoli-phapecoctavirus-core-genome/protein.faa.gz/GCA\\_000906475.1\\_ViralProj185315\\_protein.faa.gz & $\\dots$ \\\\\n",
       "\t6 & /home/jupyter-cameron.prybol/workspace/2022-03-06-ecoli-phapecoctavirus-core-genome/protein.faa.gz/GCA\\_000906475.1\\_ViralProj185315\\_protein.faa.gz & $\\dots$ \\\\\n",
       "\t7 & /home/jupyter-cameron.prybol/workspace/2022-03-06-ecoli-phapecoctavirus-core-genome/protein.faa.gz/GCA\\_000906475.1\\_ViralProj185315\\_protein.faa.gz & $\\dots$ \\\\\n",
       "\t8 & /home/jupyter-cameron.prybol/workspace/2022-03-06-ecoli-phapecoctavirus-core-genome/protein.faa.gz/GCA\\_000906475.1\\_ViralProj185315\\_protein.faa.gz & $\\dots$ \\\\\n",
       "\t9 & /home/jupyter-cameron.prybol/workspace/2022-03-06-ecoli-phapecoctavirus-core-genome/protein.faa.gz/GCA\\_000906475.1\\_ViralProj185315\\_protein.faa.gz & $\\dots$ \\\\\n",
       "\t10 & /home/jupyter-cameron.prybol/workspace/2022-03-06-ecoli-phapecoctavirus-core-genome/protein.faa.gz/GCA\\_000906475.1\\_ViralProj185315\\_protein.faa.gz & $\\dots$ \\\\\n",
       "\t11 & /home/jupyter-cameron.prybol/workspace/2022-03-06-ecoli-phapecoctavirus-core-genome/protein.faa.gz/GCA\\_000906475.1\\_ViralProj185315\\_protein.faa.gz & $\\dots$ \\\\\n",
       "\t12 & /home/jupyter-cameron.prybol/workspace/2022-03-06-ecoli-phapecoctavirus-core-genome/protein.faa.gz/GCA\\_000906475.1\\_ViralProj185315\\_protein.faa.gz & $\\dots$ \\\\\n",
       "\t13 & /home/jupyter-cameron.prybol/workspace/2022-03-06-ecoli-phapecoctavirus-core-genome/protein.faa.gz/GCA\\_000906475.1\\_ViralProj185315\\_protein.faa.gz & $\\dots$ \\\\\n",
       "\t14 & /home/jupyter-cameron.prybol/workspace/2022-03-06-ecoli-phapecoctavirus-core-genome/protein.faa.gz/GCA\\_000906475.1\\_ViralProj185315\\_protein.faa.gz & $\\dots$ \\\\\n",
       "\t15 & /home/jupyter-cameron.prybol/workspace/2022-03-06-ecoli-phapecoctavirus-core-genome/protein.faa.gz/GCA\\_000906475.1\\_ViralProj185315\\_protein.faa.gz & $\\dots$ \\\\\n",
       "\t16 & /home/jupyter-cameron.prybol/workspace/2022-03-06-ecoli-phapecoctavirus-core-genome/protein.faa.gz/GCA\\_000906475.1\\_ViralProj185315\\_protein.faa.gz & $\\dots$ \\\\\n",
       "\t17 & /home/jupyter-cameron.prybol/workspace/2022-03-06-ecoli-phapecoctavirus-core-genome/protein.faa.gz/GCA\\_000906475.1\\_ViralProj185315\\_protein.faa.gz & $\\dots$ \\\\\n",
       "\t18 & /home/jupyter-cameron.prybol/workspace/2022-03-06-ecoli-phapecoctavirus-core-genome/protein.faa.gz/GCA\\_000906475.1\\_ViralProj185315\\_protein.faa.gz & $\\dots$ \\\\\n",
       "\t19 & /home/jupyter-cameron.prybol/workspace/2022-03-06-ecoli-phapecoctavirus-core-genome/protein.faa.gz/GCA\\_000906475.1\\_ViralProj185315\\_protein.faa.gz & $\\dots$ \\\\\n",
       "\t20 & /home/jupyter-cameron.prybol/workspace/2022-03-06-ecoli-phapecoctavirus-core-genome/protein.faa.gz/GCA\\_000906475.1\\_ViralProj185315\\_protein.faa.gz & $\\dots$ \\\\\n",
       "\t21 & /home/jupyter-cameron.prybol/workspace/2022-03-06-ecoli-phapecoctavirus-core-genome/protein.faa.gz/GCA\\_000906475.1\\_ViralProj185315\\_protein.faa.gz & $\\dots$ \\\\\n",
       "\t22 & /home/jupyter-cameron.prybol/workspace/2022-03-06-ecoli-phapecoctavirus-core-genome/protein.faa.gz/GCA\\_000906475.1\\_ViralProj185315\\_protein.faa.gz & $\\dots$ \\\\\n",
       "\t23 & /home/jupyter-cameron.prybol/workspace/2022-03-06-ecoli-phapecoctavirus-core-genome/protein.faa.gz/GCA\\_000906475.1\\_ViralProj185315\\_protein.faa.gz & $\\dots$ \\\\\n",
       "\t24 & /home/jupyter-cameron.prybol/workspace/2022-03-06-ecoli-phapecoctavirus-core-genome/protein.faa.gz/GCA\\_000906475.1\\_ViralProj185315\\_protein.faa.gz & $\\dots$ \\\\\n",
       "\t25 & /home/jupyter-cameron.prybol/workspace/2022-03-06-ecoli-phapecoctavirus-core-genome/protein.faa.gz/GCA\\_000906475.1\\_ViralProj185315\\_protein.faa.gz & $\\dots$ \\\\\n",
       "\t26 & /home/jupyter-cameron.prybol/workspace/2022-03-06-ecoli-phapecoctavirus-core-genome/protein.faa.gz/GCA\\_000906475.1\\_ViralProj185315\\_protein.faa.gz & $\\dots$ \\\\\n",
       "\t27 & /home/jupyter-cameron.prybol/workspace/2022-03-06-ecoli-phapecoctavirus-core-genome/protein.faa.gz/GCA\\_000906475.1\\_ViralProj185315\\_protein.faa.gz & $\\dots$ \\\\\n",
       "\t28 & /home/jupyter-cameron.prybol/workspace/2022-03-06-ecoli-phapecoctavirus-core-genome/protein.faa.gz/GCA\\_000906475.1\\_ViralProj185315\\_protein.faa.gz & $\\dots$ \\\\\n",
       "\t29 & /home/jupyter-cameron.prybol/workspace/2022-03-06-ecoli-phapecoctavirus-core-genome/protein.faa.gz/GCA\\_000906475.1\\_ViralProj185315\\_protein.faa.gz & $\\dots$ \\\\\n",
       "\t30 & /home/jupyter-cameron.prybol/workspace/2022-03-06-ecoli-phapecoctavirus-core-genome/protein.faa.gz/GCA\\_000906475.1\\_ViralProj185315\\_protein.faa.gz & $\\dots$ \\\\\n",
       "\t$\\dots$ & $\\dots$ &  \\\\\n",
       "\\end{tabular}\n"
      ],
      "text/plain": [
       "\u001b[1m3734×3 DataFrame\u001b[0m\n",
       "\u001b[1m  Row \u001b[0m│\u001b[1m fastx_file                        \u001b[0m\u001b[1m record_identifier \u001b[0m\u001b[1m record_descripti\u001b[0m ⋯\n",
       "\u001b[1m      \u001b[0m│\u001b[90m String                            \u001b[0m\u001b[90m String            \u001b[0m\u001b[90m String          \u001b[0m ⋯\n",
       "──────┼─────────────────────────────────────────────────────────────────────────\n",
       "    1 │ /home/jupyter-cameron.prybol/wor…  AFU62577.1         hypothetical pro ⋯\n",
       "    2 │ /home/jupyter-cameron.prybol/wor…  AFU62578.1         hypothetical pro\n",
       "    3 │ /home/jupyter-cameron.prybol/wor…  AFU62579.1         hypothetical pro\n",
       "    4 │ /home/jupyter-cameron.prybol/wor…  AFU62580.1         hypothetical pro\n",
       "    5 │ /home/jupyter-cameron.prybol/wor…  AFU62581.1         hypothetical pro ⋯\n",
       "    6 │ /home/jupyter-cameron.prybol/wor…  AFU62582.1         hypothetical pro\n",
       "    7 │ /home/jupyter-cameron.prybol/wor…  AFU62583.1         hypothetical pro\n",
       "    8 │ /home/jupyter-cameron.prybol/wor…  AFU62584.1         hypothetical pro\n",
       "    9 │ /home/jupyter-cameron.prybol/wor…  AFU62585.1         hypothetical pro ⋯\n",
       "   10 │ /home/jupyter-cameron.prybol/wor…  AFU62586.1         hypothetical pro\n",
       "   11 │ /home/jupyter-cameron.prybol/wor…  AFU62587.1         hypothetical pro\n",
       "  ⋮   │                 ⋮                          ⋮                           ⋱\n",
       " 3725 │ /home/jupyter-cameron.prybol/wor…  UGV23998.1         hypothetical pro\n",
       " 3726 │ /home/jupyter-cameron.prybol/wor…  UGV23999.1         hypothetical pro ⋯\n",
       " 3727 │ /home/jupyter-cameron.prybol/wor…  UGV24000.1         hypothetical pro\n",
       " 3728 │ /home/jupyter-cameron.prybol/wor…  UGV24001.1         hypothetical pro\n",
       " 3729 │ /home/jupyter-cameron.prybol/wor…  UGV24002.1         hypothetical pro\n",
       " 3730 │ /home/jupyter-cameron.prybol/wor…  UGV24003.1         hypothetical pro ⋯\n",
       " 3731 │ /home/jupyter-cameron.prybol/wor…  UGV24004.1         hypothetical pro\n",
       " 3732 │ /home/jupyter-cameron.prybol/wor…  UGV24005.1         hypothetical pro\n",
       " 3733 │ /home/jupyter-cameron.prybol/wor…  UGV24006.1         hypothetical pro\n",
       " 3734 │ /home/jupyter-cameron.prybol/wor…  UGV24007.1         hypothetical pro ⋯\n",
       "\u001b[36m                                                  1 column and 3713 rows omitted\u001b[0m"
      ]
     },
     "execution_count": 17,
     "metadata": {},
     "output_type": "execute_result"
    }
   ],
   "source": [
    "record_table = DataFrames.DataFrame(\n",
    "    fastx_file = String[],\n",
    "    record_identifier = String[],\n",
    "    record_description = String[]\n",
    ")\n",
    "ProgressMeter.@showprogress for fastx_file in fastx_files\n",
    "    for record in Mycelia.open_fastx(fastx_file)\n",
    "        row = (\n",
    "            fastx_file = fastx_file,\n",
    "            record_identifier = FASTX.identifier(record),\n",
    "            record_description = FASTX.description(record)\n",
    "        )\n",
    "        push!(record_table, row)\n",
    "    end\n",
    "end\n",
    "record_table"
   ]
  },
  {
   "cell_type": "code",
   "execution_count": 18,
   "metadata": {},
   "outputs": [],
   "source": [
    "# alphabet = :AA\n",
    "# k = aa_k\n",
    "# fasta_list = fastx_files"
   ]
  },
  {
   "cell_type": "code",
   "execution_count": 19,
   "metadata": {},
   "outputs": [],
   "source": [
    "# if alphabet == :AA\n",
    "#     canonical_mers = Mycelia.generate_all_possible_canonical_kmers(k, Mycelia.AA_ALPHABET)\n",
    "# elseif alphabet == :DNA\n",
    "#     canonical_mers = Mycelia.generate_all_possible_canonical_kmers(k, Mycelia.DNA_ALPHABET)\n",
    "# else\n",
    "#     error(\"invalid alphabet\")\n",
    "# end"
   ]
  },
  {
   "cell_type": "code",
   "execution_count": 20,
   "metadata": {},
   "outputs": [],
   "source": [
    "# # if isempty(outfile)\n",
    "# outfile = joinpath(pwd(), \"$(hash(fasta_list)).$(alphabet).k$(k).by-record.bin\")\n",
    "# # end"
   ]
  },
  {
   "cell_type": "code",
   "execution_count": 21,
   "metadata": {},
   "outputs": [],
   "source": [
    "# #     # if isfile(outfile)\n",
    "# # load into memory\n",
    "# # mer_counts_matrix = Mmap.mmap(open(outfile), Array{Int, 2}, (length(canonical_mers), DataFrames.nrow(record_table)))\n",
    "# # else\n",
    "# # start from scratch\n",
    "# mer_counts_matrix = Mmap.mmap(open(outfile, \"w+\"), Array{Int, 2}, (length(canonical_mers), DataFrames.nrow(record_table)))"
   ]
  },
  {
   "cell_type": "code",
   "execution_count": 22,
   "metadata": {},
   "outputs": [],
   "source": [
    "# function count_aamers(k, fasta_protein::FASTX.FASTA.Record)\n",
    "#     s = FASTX.sequence(fasta_protein)\n",
    "#     these_counts = sort(StatsBase.countmap([s[i:i+k-1] for i in 1:length(s)-k-1]))\n",
    "#     return these_counts    \n",
    "# end"
   ]
  },
  {
   "cell_type": "code",
   "execution_count": 23,
   "metadata": {},
   "outputs": [],
   "source": [
    "# i = 0\n",
    "# p = ProgressMeter.Progress(DataFrames.nrow(record_table))\n",
    "# # ProgressMeter.@showprogress for fastx_file in fastx_files\n",
    "# for fastx_file in fastx_files\n",
    "#     for record in Mycelia.open_fastx(fastx_file)\n",
    "#         i += 1\n",
    "#         @assert fastx_file == record_table[i, \"fastx_file\"]\n",
    "#         @assert FASTX.identifier(record) == record_table[i, \"record_identifier\"]\n",
    "#         @assert FASTX.description(record) == record_table[i, \"record_description\"]\n",
    "#         ProgressMeter.next!(p)\n",
    "#         # entity_mer_counts = Mycelia.count_aamers(k, record)\n",
    "#         entity_mer_counts = count_aamers(k, record)\n",
    "#         Mycelia.update_counts_matrix!(mer_counts_matrix, i, entity_mer_counts, canonical_mers)\n",
    "#     end\n",
    "# end\n",
    "# mer_counts_matrix"
   ]
  },
  {
   "cell_type": "code",
   "execution_count": 24,
   "metadata": {},
   "outputs": [],
   "source": [
    "# now, distance matrix\n",
    "# distance_matrix = Mycelia.counts_matrix_to_distance_matrix(mer_counts_matrix)"
   ]
  },
  {
   "cell_type": "code",
   "execution_count": 25,
   "metadata": {},
   "outputs": [],
   "source": [
    "# conda install -c bioconda diamond"
   ]
  },
  {
   "cell_type": "code",
   "execution_count": 26,
   "metadata": {},
   "outputs": [],
   "source": [
    "# run(`diamond help`)"
   ]
  },
  {
   "cell_type": "code",
   "execution_count": 27,
   "metadata": {},
   "outputs": [],
   "source": [
    "joint_fasta_outfile = outdir * \".joint.faa.gz\"\n",
    "open(joint_fasta_outfile, \"w\") do io\n",
    "    for fastx_file in fastx_files\n",
    "        write(io, read(fastx_file))\n",
    "    end\n",
    "end"
   ]
  },
  {
   "cell_type": "code",
   "execution_count": 28,
   "metadata": {},
   "outputs": [
    {
     "name": "stdout",
     "output_type": "stream",
     "text": [
      "  0.063651 seconds (17.58 k allocations: 1.085 MiB, 36.45% compilation time)\n"
     ]
    },
    {
     "name": "stderr",
     "output_type": "stream",
     "text": [
      "diamond v2.0.14.152 (C) Max Planck Society for the Advancement of Science\n",
      "Documentation, support and updates available at http://www.diamondsearch.org\n",
      "Please cite: http://dx.doi.org/10.1038/s41592-021-01101-x Nature Methods (2021)\n",
      "\n",
      "#CPU threads: 8\n",
      "Scoring parameters: (Matrix=BLOSUM62 Lambda=0.267 K=0.041 Penalties=11/1)\n",
      "Database input file: /home/jupyter-cameron.prybol/workspace/2022-03-06-ecoli-phapecoctavirus-core-genome/protein.faa.gz.joint.faa.gz\n",
      "Opening the database file...  [0s]\n",
      "Loading sequences...  [0.011s]\n",
      "Masking sequences...  [0.017s]\n",
      "Writing sequences...  [0.001s]\n",
      "Hashing sequences...  [0s]\n",
      "Loading sequences...  [0s]\n",
      "Writing trailer...  [0s]\n",
      "Closing the input file...  [0s]\n",
      "Closing the database file...  [0.001s]\n",
      "\n",
      "Database sequences  3734\n",
      "  Database letters  605722\n",
      "     Database hash  5f8d38b46525a856f206aa0f418fdfb2\n",
      "        Total time  0.033000s\n"
     ]
    },
    {
     "data": {
      "text/plain": [
       "Process(`\u001b[4mdiamond\u001b[24m \u001b[4mmakedb\u001b[24m \u001b[4m--in\u001b[24m \u001b[4m/home/jupyter-cameron.prybol/workspace/2022-03-06-ecoli-phapecoctavirus-core-genome/protein.faa.gz.joint.faa.gz\u001b[24m \u001b[4m-d\u001b[24m \u001b[4m/home/jupyter-cameron.prybol/workspace/2022-03-06-ecoli-phapecoctavirus-core-genome/protein.faa.gz.joint.faa.gz\u001b[24m`, ProcessExited(0))"
      ]
     },
     "execution_count": 28,
     "metadata": {},
     "output_type": "execute_result"
    }
   ],
   "source": [
    "@time run(`diamond makedb --in $(joint_fasta_outfile) -d $(joint_fasta_outfile)`)"
   ]
  },
  {
   "cell_type": "code",
   "execution_count": 29,
   "metadata": {},
   "outputs": [
    {
     "data": {
      "text/plain": [
       "3734"
      ]
     },
     "execution_count": 29,
     "metadata": {},
     "output_type": "execute_result"
    }
   ],
   "source": [
    "N_RECORDS = DataFrames.nrow(record_table)\n",
    "# qseqid sseqid pident length mismatch gapopen qlen qstart qend slen sstart send evalue bitscore"
   ]
  },
  {
   "cell_type": "code",
   "execution_count": 30,
   "metadata": {},
   "outputs": [
    {
     "name": "stderr",
     "output_type": "stream",
     "text": [
      "diamond v2.0.14.152 (C) Max Planck Society for the Advancement of Science\n",
      "Documentation, support and updates available at http://www.diamondsearch.org\n",
      "Please cite: http://dx.doi.org/10.1038/s41592-021-01101-x Nature Methods (2021)\n",
      "\n",
      "#CPU threads: 8\n",
      "Scoring parameters: (Matrix=BLOSUM62 Lambda=0.267 K=0.041 Penalties=11/1)\n",
      "Temporary directory: /home/jupyter-cameron.prybol/workspace/2022-03-06-ecoli-phapecoctavirus-core-genome\n",
      "#Target sequences to report alignments for: 3734\n",
      "Opening the database...  [0.001s]\n",
      "Database: /home/jupyter-cameron.prybol/workspace/2022-03-06-ecoli-phapecoctavirus-core-genome/protein.faa.gz.joint.faa.gz.dmnd (type: Diamond database, sequences: 3734, letters: 605722)\n",
      "Block size = 2000000000\n",
      "Opening the input file...  [0.007s]\n",
      "Opening the output file...  [0s]\n",
      "Loading query sequences...  [0.004s]\n",
      "Masking queries...  [0.01s]\n",
      "Algorithm: Double-indexed\n",
      "Building query histograms...  [0.011s]\n",
      "Allocating buffers...  [0s]\n",
      "Loading reference sequences...  [0.002s]\n",
      "Masking reference...  [0.009s]\n",
      "Initializing temporary storage...  [0s]\n",
      "Building reference histograms...  [0.011s]\n",
      "Allocating buffers...  [0s]\n",
      "Processing query block 1, reference block 1/1, shape 1/2, index chunk 1/4.\n",
      "Building reference seed array...  [0.008s]\n",
      "Building query seed array...  [0.008s]\n",
      "Computing hash join...  [0.001s]\n",
      "Masking low complexity seeds...  [0s]\n",
      "Searching alignments...  [0.114s]\n",
      "Processing query block 1, reference block 1/1, shape 1/2, index chunk 2/4.\n",
      "Building reference seed array...  [0.01s]\n",
      "Building query seed array...  [0.008s]\n",
      "Computing hash join...  [0s]\n",
      "Masking low complexity seeds...  [0s]\n",
      "Searching alignments...  [0.069s]\n",
      "Processing query block 1, reference block 1/1, shape 1/2, index chunk 3/4.\n",
      "Building reference seed array...  [0.01s]\n",
      "Building query seed array...  [0.008s]\n",
      "Computing hash join...  [0s]\n",
      "Masking low complexity seeds...  [0s]\n",
      "Searching alignments...  [0.059s]\n",
      "Processing query block 1, reference block 1/1, shape 1/2, index chunk 4/4.\n",
      "Building reference seed array...  [0.009s]\n",
      "Building query seed array...  [0.007s]\n",
      "Computing hash join...  [0s]\n",
      "Masking low complexity seeds...  [0s]\n",
      "Searching alignments...  [0.055s]\n",
      "Processing query block 1, reference block 1/1, shape 2/2, index chunk 1/4.\n",
      "Building reference seed array...  [0.008s]\n",
      "Building query seed array...  [0.008s]\n",
      "Computing hash join...  [0s]\n",
      "Masking low complexity seeds...  [0s]\n",
      "Searching alignments...  [0.074s]\n",
      "Processing query block 1, reference block 1/1, shape 2/2, index chunk 2/4.\n",
      "Building reference seed array...  [0.009s]\n",
      "Building query seed array...  [0.007s]\n",
      "Computing hash join...  [0.001s]\n",
      "Masking low complexity seeds...  [0s]\n",
      "Searching alignments...  [0.063s]\n",
      "Processing query block 1, reference block 1/1, shape 2/2, index chunk 3/4.\n",
      "Building reference seed array...  [0.008s]\n",
      "Building query seed array...  [0.008s]\n",
      "Computing hash join...  [0.001s]\n",
      "Masking low complexity seeds...  [0s]\n",
      "Searching alignments...  [0.059s]\n",
      "Processing query block 1, reference block 1/1, shape 2/2, index chunk 4/4.\n",
      "Building reference seed array...  [0.007s]\n",
      "Building query seed array...  [0.008s]\n",
      "Computing hash join...  [0s]\n",
      "Masking low complexity seeds...  [0s]\n",
      "Searching alignments...  [0.055s]\n",
      "Deallocating buffers...  [0s]\n",
      "Clearing query masking...  [0s]\n",
      "Computing alignments... "
     ]
    },
    {
     "name": "stdout",
     "output_type": "stream",
     "text": [
      "  1.236099 seconds (58.82 k allocations: 3.389 MiB, 6.15% compilation time)\n"
     ]
    },
    {
     "name": "stderr",
     "output_type": "stream",
     "text": [
      " [0.244s]\n",
      "Deallocating reference...  [0s]\n",
      "Loading reference sequences...  [0s]\n",
      "Deallocating buffers...  [0s]\n",
      "Deallocating queries...  [0s]\n",
      "Loading query sequences...  [0s]\n",
      "Closing the input file...  [0s]\n",
      "Closing the output file...  [0.019s]\n",
      "Cleaning up...  [0s]\n",
      "Total time = 1.149s\n",
      "Reported 46718 pairwise alignments, 46718 HSPs.\n",
      "3734 queries aligned.\n"
     ]
    },
    {
     "data": {
      "text/plain": [
       "Process(`\u001b[4mdiamond\u001b[24m \u001b[4mblastp\u001b[24m \u001b[4m--id\u001b[24m \u001b[4m0\u001b[24m \u001b[4m--min-score\u001b[24m \u001b[4m0\u001b[24m \u001b[4m--max-target-seqs\u001b[24m \u001b[4m3734\u001b[24m \u001b[4m--unal\u001b[24m \u001b[4m1\u001b[24m \u001b[4m--iterate\u001b[24m \u001b[4m--outfmt\u001b[24m \u001b[4m6\u001b[24m \u001b[4mqseqid\u001b[24m \u001b[4msseqid\u001b[24m \u001b[4mpident\u001b[24m \u001b[4mlength\u001b[24m \u001b[4mmismatch\u001b[24m \u001b[4mgapopen\u001b[24m \u001b[4mqlen\u001b[24m \u001b[4mqstart\u001b[24m \u001b[4mqend\u001b[24m \u001b[4mslen\u001b[24m \u001b[4msstart\u001b[24m \u001b[4msend\u001b[24m \u001b[4mevalue\u001b[24m \u001b[4mbitscore\u001b[24m \u001b[4m-d\u001b[24m \u001b[4m/home/jupyter-cameron.prybol/workspace/2022-03-06-ecoli-phapecoctavirus-core-genome/protein.faa.gz.joint.faa.gz.dmnd\u001b[24m \u001b[4m-q\u001b[24m \u001b[4m/home/jupyter-cameron.prybol/workspace/2022-03-06-ecoli-phapecoctavirus-core-genome/protein.faa.gz.joint.faa.gz\u001b[24m \u001b[4m-o\u001b[24m \u001b[4m/home/jupyter-cameron.prybol/workspace/2022-03-06-ecoli-phapecoctavirus-core-genome/protein.faa.gz.joint.faa.gz.diamond.tsv\u001b[24m`, ProcessExited(0))"
      ]
     },
     "execution_count": 30,
     "metadata": {},
     "output_type": "execute_result"
    }
   ],
   "source": [
    "blastp_header = [\n",
    "    \"qseqid\",\n",
    "    \"sseqid\",\n",
    "    \"pident\",\n",
    "    \"length\",\n",
    "    \"mismatch\",\n",
    "    \"gapopen\",\n",
    "    \"qlen\",\n",
    "    \"qstart\",\n",
    "    \"qend\",\n",
    "    \"slen\",\n",
    "    \"sstart\",\n",
    "    \"send\",\n",
    "    \"evalue\",\n",
    "    \"bitscore\"\n",
    "]\n",
    "\n",
    "# --fast                   enable fast mode\n",
    "# --mid-sensitive          enable mid-sensitive mode\n",
    "# --sensitive              enable sensitive mode)\n",
    "# --more-sensitive         enable more sensitive mode\n",
    "# --very-sensitive         enable very sensitive mode\n",
    "# --ultra-sensitive        enable ultra sensitive mode\n",
    "# --iterate                iterated search with increasing sensitivity\n",
    "\n",
    "# running a search in blastp mode\n",
    "# ./diamond blastp -d reference -q queries.fasta -o matches.tsv\n",
    "# @time run(`diamond blastp --outfmt 0 -d $(joint_fasta_outfile).dmnd -q $(joint_fasta_outfile) -o $(joint_fasta_outfile).diamond.tsv`)\n",
    "# @time run(`diamond blastp --sensitive -d $(joint_fasta_outfile).dmnd -q $(joint_fasta_outfile) -o $(joint_fasta_outfile).diamond.tsv`)\n",
    "@time run(`diamond blastp --id 0 --min-score 0 --max-target-seqs $(N_RECORDS) --unal 1 --iterate --outfmt 6 qseqid sseqid pident length mismatch gapopen qlen qstart qend slen sstart send evalue bitscore -d $(joint_fasta_outfile).dmnd -q $(joint_fasta_outfile) -o $(joint_fasta_outfile).diamond.tsv`)"
   ]
  },
  {
   "cell_type": "code",
   "execution_count": 31,
   "metadata": {},
   "outputs": [],
   "source": [
    "# iterate\n",
    "# Total time = 1.16s\n",
    "# Reported 46718 pairwise alignments, 46718 HSPs.\n",
    "# sensitive\n",
    "# Total time = 5.673s\n",
    "# Reported 49976 pairwise alignments, 49976 HSPs.\n",
    "# ultra sensitive\n",
    "# Total time = 14.939s\n",
    "# Reported 52446 pairwise alignments, 52446 HSPs."
   ]
  },
  {
   "cell_type": "code",
   "execution_count": 32,
   "metadata": {},
   "outputs": [
    {
     "data": {
      "text/html": [
       "<div class=\"data-frame\"><p>46,718 rows × 14 columns (omitted printing of 5 columns)</p><table class=\"data-frame\"><thead><tr><th></th><th>qseqid</th><th>sseqid</th><th>pident</th><th>length</th><th>mismatch</th><th>gapopen</th><th>qlen</th><th>qstart</th><th>qend</th></tr><tr><th></th><th title=\"String\">String</th><th title=\"String\">String</th><th title=\"Float64\">Float64</th><th title=\"Int64\">Int64</th><th title=\"Int64\">Int64</th><th title=\"Int64\">Int64</th><th title=\"Int64\">Int64</th><th title=\"Int64\">Int64</th><th title=\"Int64\">Int64</th></tr></thead><tbody><tr><th>1</th><td>AFU62577.1</td><td>AFU62577.1</td><td>100.0</td><td>61</td><td>0</td><td>0</td><td>61</td><td>1</td><td>61</td></tr><tr><th>2</th><td>AFU62577.1</td><td>QNJ49192.1</td><td>100.0</td><td>61</td><td>0</td><td>0</td><td>61</td><td>1</td><td>61</td></tr><tr><th>3</th><td>AFU62577.1</td><td>AXA27798.1</td><td>98.4</td><td>61</td><td>1</td><td>0</td><td>61</td><td>1</td><td>61</td></tr><tr><th>4</th><td>AFU62577.1</td><td>AVZ45484.1</td><td>98.4</td><td>61</td><td>1</td><td>0</td><td>61</td><td>1</td><td>61</td></tr><tr><th>5</th><td>AFU62577.1</td><td>QBQ80417.1</td><td>98.4</td><td>61</td><td>1</td><td>0</td><td>61</td><td>1</td><td>61</td></tr><tr><th>6</th><td>AFU62577.1</td><td>AOQ27146.1</td><td>98.4</td><td>61</td><td>1</td><td>0</td><td>61</td><td>1</td><td>61</td></tr><tr><th>7</th><td>AFU62577.1</td><td>QHR75990.1</td><td>98.4</td><td>61</td><td>1</td><td>0</td><td>61</td><td>1</td><td>61</td></tr><tr><th>8</th><td>AFU62577.1</td><td>QHR71888.1</td><td>96.7</td><td>61</td><td>2</td><td>0</td><td>61</td><td>1</td><td>61</td></tr><tr><th>9</th><td>AFU62577.1</td><td>QHR64866.1</td><td>95.1</td><td>61</td><td>3</td><td>0</td><td>61</td><td>1</td><td>61</td></tr><tr><th>10</th><td>AFU62577.1</td><td>QPI12833.1</td><td>95.1</td><td>61</td><td>3</td><td>0</td><td>61</td><td>1</td><td>61</td></tr><tr><th>11</th><td>AFU62577.1</td><td>QHR65593.1</td><td>93.4</td><td>61</td><td>4</td><td>0</td><td>61</td><td>1</td><td>61</td></tr><tr><th>12</th><td>AFU62577.1</td><td>QHR69450.1</td><td>91.8</td><td>61</td><td>5</td><td>0</td><td>61</td><td>1</td><td>61</td></tr><tr><th>13</th><td>AFU62578.1</td><td>AFU62578.1</td><td>100.0</td><td>68</td><td>0</td><td>0</td><td>68</td><td>1</td><td>68</td></tr><tr><th>14</th><td>AFU62578.1</td><td>QNJ49191.1</td><td>100.0</td><td>68</td><td>0</td><td>0</td><td>68</td><td>1</td><td>68</td></tr><tr><th>15</th><td>AFU62578.1</td><td>AVZ45483.1</td><td>98.5</td><td>67</td><td>1</td><td>0</td><td>68</td><td>2</td><td>68</td></tr><tr><th>16</th><td>AFU62578.1</td><td>QBQ80418.1</td><td>98.5</td><td>67</td><td>1</td><td>0</td><td>68</td><td>2</td><td>68</td></tr><tr><th>17</th><td>AFU62578.1</td><td>QHR71887.1</td><td>94.1</td><td>68</td><td>4</td><td>0</td><td>68</td><td>1</td><td>68</td></tr><tr><th>18</th><td>AFU62578.1</td><td>QPI12834.1</td><td>94.1</td><td>68</td><td>4</td><td>0</td><td>68</td><td>1</td><td>68</td></tr><tr><th>19</th><td>AFU62578.1</td><td>AOQ27147.1</td><td>94.1</td><td>68</td><td>4</td><td>0</td><td>68</td><td>1</td><td>68</td></tr><tr><th>20</th><td>AFU62578.1</td><td>AXA27799.1</td><td>91.0</td><td>67</td><td>6</td><td>0</td><td>68</td><td>2</td><td>68</td></tr><tr><th>21</th><td>AFU62578.1</td><td>QHR65592.1</td><td>88.2</td><td>68</td><td>8</td><td>0</td><td>68</td><td>1</td><td>68</td></tr><tr><th>22</th><td>AFU62578.1</td><td>QHR69449.1</td><td>88.2</td><td>68</td><td>8</td><td>0</td><td>68</td><td>1</td><td>68</td></tr><tr><th>23</th><td>AFU62578.1</td><td>QHR75991.1</td><td>86.8</td><td>68</td><td>9</td><td>0</td><td>68</td><td>1</td><td>68</td></tr><tr><th>24</th><td>AFU62578.1</td><td>QHR64867.1</td><td>86.8</td><td>68</td><td>9</td><td>0</td><td>68</td><td>1</td><td>68</td></tr><tr><th>25</th><td>AFU62579.1</td><td>AFU62579.1</td><td>100.0</td><td>94</td><td>0</td><td>0</td><td>94</td><td>1</td><td>94</td></tr><tr><th>26</th><td>AFU62579.1</td><td>AXA27800.1</td><td>98.9</td><td>94</td><td>1</td><td>0</td><td>94</td><td>1</td><td>94</td></tr><tr><th>27</th><td>AFU62579.1</td><td>QHR64868.1</td><td>98.9</td><td>94</td><td>1</td><td>0</td><td>94</td><td>1</td><td>94</td></tr><tr><th>28</th><td>AFU62579.1</td><td>QHR71886.1</td><td>98.9</td><td>94</td><td>1</td><td>0</td><td>94</td><td>1</td><td>94</td></tr><tr><th>29</th><td>AFU62579.1</td><td>QHR75992.1</td><td>98.9</td><td>94</td><td>1</td><td>0</td><td>94</td><td>1</td><td>94</td></tr><tr><th>30</th><td>AFU62579.1</td><td>QPI12835.1</td><td>98.9</td><td>94</td><td>1</td><td>0</td><td>94</td><td>1</td><td>94</td></tr><tr><th>&vellip;</th><td>&vellip;</td><td>&vellip;</td><td>&vellip;</td><td>&vellip;</td><td>&vellip;</td><td>&vellip;</td><td>&vellip;</td><td>&vellip;</td><td>&vellip;</td></tr></tbody></table></div>"
      ],
      "text/latex": [
       "\\begin{tabular}{r|cccccccccc}\n",
       "\t& qseqid & sseqid & pident & length & mismatch & gapopen & qlen & qstart & qend & \\\\\n",
       "\t\\hline\n",
       "\t& String & String & Float64 & Int64 & Int64 & Int64 & Int64 & Int64 & Int64 & \\\\\n",
       "\t\\hline\n",
       "\t1 & AFU62577.1 & AFU62577.1 & 100.0 & 61 & 0 & 0 & 61 & 1 & 61 & $\\dots$ \\\\\n",
       "\t2 & AFU62577.1 & QNJ49192.1 & 100.0 & 61 & 0 & 0 & 61 & 1 & 61 & $\\dots$ \\\\\n",
       "\t3 & AFU62577.1 & AXA27798.1 & 98.4 & 61 & 1 & 0 & 61 & 1 & 61 & $\\dots$ \\\\\n",
       "\t4 & AFU62577.1 & AVZ45484.1 & 98.4 & 61 & 1 & 0 & 61 & 1 & 61 & $\\dots$ \\\\\n",
       "\t5 & AFU62577.1 & QBQ80417.1 & 98.4 & 61 & 1 & 0 & 61 & 1 & 61 & $\\dots$ \\\\\n",
       "\t6 & AFU62577.1 & AOQ27146.1 & 98.4 & 61 & 1 & 0 & 61 & 1 & 61 & $\\dots$ \\\\\n",
       "\t7 & AFU62577.1 & QHR75990.1 & 98.4 & 61 & 1 & 0 & 61 & 1 & 61 & $\\dots$ \\\\\n",
       "\t8 & AFU62577.1 & QHR71888.1 & 96.7 & 61 & 2 & 0 & 61 & 1 & 61 & $\\dots$ \\\\\n",
       "\t9 & AFU62577.1 & QHR64866.1 & 95.1 & 61 & 3 & 0 & 61 & 1 & 61 & $\\dots$ \\\\\n",
       "\t10 & AFU62577.1 & QPI12833.1 & 95.1 & 61 & 3 & 0 & 61 & 1 & 61 & $\\dots$ \\\\\n",
       "\t11 & AFU62577.1 & QHR65593.1 & 93.4 & 61 & 4 & 0 & 61 & 1 & 61 & $\\dots$ \\\\\n",
       "\t12 & AFU62577.1 & QHR69450.1 & 91.8 & 61 & 5 & 0 & 61 & 1 & 61 & $\\dots$ \\\\\n",
       "\t13 & AFU62578.1 & AFU62578.1 & 100.0 & 68 & 0 & 0 & 68 & 1 & 68 & $\\dots$ \\\\\n",
       "\t14 & AFU62578.1 & QNJ49191.1 & 100.0 & 68 & 0 & 0 & 68 & 1 & 68 & $\\dots$ \\\\\n",
       "\t15 & AFU62578.1 & AVZ45483.1 & 98.5 & 67 & 1 & 0 & 68 & 2 & 68 & $\\dots$ \\\\\n",
       "\t16 & AFU62578.1 & QBQ80418.1 & 98.5 & 67 & 1 & 0 & 68 & 2 & 68 & $\\dots$ \\\\\n",
       "\t17 & AFU62578.1 & QHR71887.1 & 94.1 & 68 & 4 & 0 & 68 & 1 & 68 & $\\dots$ \\\\\n",
       "\t18 & AFU62578.1 & QPI12834.1 & 94.1 & 68 & 4 & 0 & 68 & 1 & 68 & $\\dots$ \\\\\n",
       "\t19 & AFU62578.1 & AOQ27147.1 & 94.1 & 68 & 4 & 0 & 68 & 1 & 68 & $\\dots$ \\\\\n",
       "\t20 & AFU62578.1 & AXA27799.1 & 91.0 & 67 & 6 & 0 & 68 & 2 & 68 & $\\dots$ \\\\\n",
       "\t21 & AFU62578.1 & QHR65592.1 & 88.2 & 68 & 8 & 0 & 68 & 1 & 68 & $\\dots$ \\\\\n",
       "\t22 & AFU62578.1 & QHR69449.1 & 88.2 & 68 & 8 & 0 & 68 & 1 & 68 & $\\dots$ \\\\\n",
       "\t23 & AFU62578.1 & QHR75991.1 & 86.8 & 68 & 9 & 0 & 68 & 1 & 68 & $\\dots$ \\\\\n",
       "\t24 & AFU62578.1 & QHR64867.1 & 86.8 & 68 & 9 & 0 & 68 & 1 & 68 & $\\dots$ \\\\\n",
       "\t25 & AFU62579.1 & AFU62579.1 & 100.0 & 94 & 0 & 0 & 94 & 1 & 94 & $\\dots$ \\\\\n",
       "\t26 & AFU62579.1 & AXA27800.1 & 98.9 & 94 & 1 & 0 & 94 & 1 & 94 & $\\dots$ \\\\\n",
       "\t27 & AFU62579.1 & QHR64868.1 & 98.9 & 94 & 1 & 0 & 94 & 1 & 94 & $\\dots$ \\\\\n",
       "\t28 & AFU62579.1 & QHR71886.1 & 98.9 & 94 & 1 & 0 & 94 & 1 & 94 & $\\dots$ \\\\\n",
       "\t29 & AFU62579.1 & QHR75992.1 & 98.9 & 94 & 1 & 0 & 94 & 1 & 94 & $\\dots$ \\\\\n",
       "\t30 & AFU62579.1 & QPI12835.1 & 98.9 & 94 & 1 & 0 & 94 & 1 & 94 & $\\dots$ \\\\\n",
       "\t$\\dots$ & $\\dots$ & $\\dots$ & $\\dots$ & $\\dots$ & $\\dots$ & $\\dots$ & $\\dots$ & $\\dots$ & $\\dots$ &  \\\\\n",
       "\\end{tabular}\n"
      ],
      "text/plain": [
       "\u001b[1m46718×14 DataFrame\u001b[0m\n",
       "\u001b[1m   Row \u001b[0m│\u001b[1m qseqid     \u001b[0m\u001b[1m sseqid     \u001b[0m\u001b[1m pident  \u001b[0m\u001b[1m length \u001b[0m\u001b[1m mismatch \u001b[0m\u001b[1m gapopen \u001b[0m\u001b[1m qlen  \u001b[0m\u001b[1m qs\u001b[0m ⋯\n",
       "\u001b[1m       \u001b[0m│\u001b[90m String     \u001b[0m\u001b[90m String     \u001b[0m\u001b[90m Float64 \u001b[0m\u001b[90m Int64  \u001b[0m\u001b[90m Int64    \u001b[0m\u001b[90m Int64   \u001b[0m\u001b[90m Int64 \u001b[0m\u001b[90m In\u001b[0m ⋯\n",
       "───────┼────────────────────────────────────────────────────────────────────────\n",
       "     1 │ AFU62577.1  AFU62577.1    100.0      61         0        0     61     ⋯\n",
       "     2 │ AFU62577.1  QNJ49192.1    100.0      61         0        0     61\n",
       "     3 │ AFU62577.1  AXA27798.1     98.4      61         1        0     61\n",
       "     4 │ AFU62577.1  AVZ45484.1     98.4      61         1        0     61\n",
       "     5 │ AFU62577.1  QBQ80417.1     98.4      61         1        0     61     ⋯\n",
       "     6 │ AFU62577.1  AOQ27146.1     98.4      61         1        0     61\n",
       "     7 │ AFU62577.1  QHR75990.1     98.4      61         1        0     61\n",
       "     8 │ AFU62577.1  QHR71888.1     96.7      61         2        0     61\n",
       "     9 │ AFU62577.1  QHR64866.1     95.1      61         3        0     61     ⋯\n",
       "    10 │ AFU62577.1  QPI12833.1     95.1      61         3        0     61\n",
       "    11 │ AFU62577.1  QHR65593.1     93.4      61         4        0     61\n",
       "   ⋮   │     ⋮           ⋮          ⋮       ⋮        ⋮         ⋮       ⋮       ⋱\n",
       " 46709 │ UGV24006.1  QPI12961.1    100.0      70         0        0     70\n",
       " 46710 │ UGV24006.1  QHR64989.1     98.6      70         1        0     70     ⋯\n",
       " 46711 │ UGV24006.1  QNJ49343.1     98.6      70         1        0     70\n",
       " 46712 │ UGV24006.1  AOQ27248.1     97.1      70         2        0     70\n",
       " 46713 │ UGV24006.1  AOT23323.1     97.1      70         2        0     70\n",
       " 46714 │ UGV24006.1  AXA27928.1     97.1      70         2        0     70     ⋯\n",
       " 46715 │ UGV24006.1  AVZ45363.1     97.1      70         2        0     70\n",
       " 46716 │ UGV24006.1  QBQ80266.1     97.1      70         2        0     70\n",
       " 46717 │ UGV24006.1  QHR65476.1     97.1      70         2        0     70\n",
       " 46718 │ UGV24007.1  UGV24007.1    100.0      25         0        0     25     ⋯\n",
       "\u001b[36m                                                7 columns and 46697 rows omitted\u001b[0m"
      ]
     },
     "execution_count": 32,
     "metadata": {},
     "output_type": "execute_result"
    }
   ],
   "source": [
    "blastp_results = DataFrames.DataFrame(uCSV.read(\"$(joint_fasta_outfile).diamond.tsv\", header=0, delim='\\t', typedetectrows=100)[1], blastp_header)"
   ]
  },
  {
   "cell_type": "code",
   "execution_count": 33,
   "metadata": {},
   "outputs": [
    {
     "data": {
      "text/plain": [
       "Dict{String, Int64} with 3734 entries:\n",
       "  \"AOQ27309.1\" => 434\n",
       "  \"QHR71919.1\" => 2503\n",
       "  \"QBQ80317.1\" => 1526\n",
       "  \"QBQ80344.1\" => 1553\n",
       "  \"QHR71982.1\" => 2566\n",
       "  \"QHR71978.1\" => 2562\n",
       "  \"AFU62673.1\" => 97\n",
       "  \"AOT23447.1\" => 762\n",
       "  \"QBQ80421.1\" => 1630\n",
       "  \"QBQ80259.1\" => 1468\n",
       "  \"AVZ45451.1\" => 1279\n",
       "  \"AVZ45495.1\" => 1323\n",
       "  \"QNJ49248.1\" => 3064\n",
       "  \"UGV23847.1\" => 3574\n",
       "  \"QHR65522.1\" => 1991\n",
       "  \"QBQ80318.1\" => 1527\n",
       "  \"AFU62735.1\" => 159\n",
       "  \"AOQ27354.1\" => 473\n",
       "  \"AXA27894.1\" => 1007\n",
       "  \"QNJ49190.1\" => 3006\n",
       "  \"QHR72067.1\" => 2651\n",
       "  \"AQM50956.1\" => 528\n",
       "  \"QHR65581.1\" => 2050\n",
       "  \"QPI12978.1\" => 3508\n",
       "  \"AXA27735.1\" => 848\n",
       "  ⋮            => ⋮"
      ]
     },
     "execution_count": 33,
     "metadata": {},
     "output_type": "execute_result"
    }
   ],
   "source": [
    "id_to_index_map = Dict(identifier => i for (i, identifier) in enumerate(record_table[!, \"record_identifier\"]))"
   ]
  },
  {
   "cell_type": "code",
   "execution_count": 34,
   "metadata": {},
   "outputs": [
    {
     "name": "stdout",
     "output_type": "stream",
     "text": [
      "\u001b[1m46718×14 DataFrame\u001b[0m\n",
      "\u001b[1m   Row \u001b[0m│\u001b[1m qseqid     \u001b[0m\u001b[1m sseqid     \u001b[0m\u001b[1m pident  \u001b[0m\u001b[1m length \u001b[0m\u001b[1m mismatch \u001b[0m\u001b[1m gapopen \u001b[0m\u001b[1m qlen  \u001b[0m\u001b[1m qstart \u001b[0m\u001b[1m qend  \u001b[0m\u001b[1m slen  \u001b[0m\u001b[1m sstart \u001b[0m\u001b[1m send  \u001b[0m\u001b[1m evalue   \u001b[0m\u001b[1m bitscore \u001b[0m\n",
      "\u001b[1m       \u001b[0m│\u001b[90m String     \u001b[0m\u001b[90m String     \u001b[0m\u001b[90m Float64 \u001b[0m\u001b[90m Int64  \u001b[0m\u001b[90m Int64    \u001b[0m\u001b[90m Int64   \u001b[0m\u001b[90m Int64 \u001b[0m\u001b[90m Int64  \u001b[0m\u001b[90m Int64 \u001b[0m\u001b[90m Int64 \u001b[0m\u001b[90m Int64  \u001b[0m\u001b[90m Int64 \u001b[0m\u001b[90m Float64  \u001b[0m\u001b[90m Float64  \u001b[0m\n",
      "───────┼────────────────────────────────────────────────────────────────────────────────────────────────────────────────────────────\n",
      "     1 │ AFU62577.1  AFU62577.1    100.0      61         0        0     61       1     61     61       1     61  5.75e-41     124.0\n",
      "     2 │ AFU62577.1  QNJ49192.1    100.0      61         0        0     61       1     61     61       1     61  5.75e-41     124.0\n",
      "     3 │ AFU62577.1  AXA27798.1     98.4      61         1        0     61       1     61     61       1     61  1.65e-40     122.0\n",
      "     4 │ AFU62577.1  AVZ45484.1     98.4      61         1        0     61       1     61     61       1     61  1.65e-40     122.0\n",
      "     5 │ AFU62577.1  QBQ80417.1     98.4      61         1        0     61       1     61     61       1     61  1.65e-40     122.0\n",
      "     6 │ AFU62577.1  AOQ27146.1     98.4      61         1        0     61       1     61     61       1     61  3.34e-40     122.0\n",
      "     7 │ AFU62577.1  QHR75990.1     98.4      61         1        0     61       1     61     61       1     61  4.74e-40     121.0\n",
      "     8 │ AFU62577.1  QHR71888.1     96.7      61         2        0     61       1     61     61       1     61  9.58e-40     120.0\n",
      "     9 │ AFU62577.1  QHR64866.1     95.1      61         3        0     61       1     61     61       1     61  3.91e-39     119.0\n",
      "    10 │ AFU62577.1  QPI12833.1     95.1      61         3        0     61       1     61     61       1     61  3.22e-38     117.0\n",
      "    11 │ AFU62577.1  QHR65593.1     93.4      61         4        0     61       1     61     61       1     61  4.58e-38     116.0\n",
      "   ⋮   │     ⋮           ⋮          ⋮       ⋮        ⋮         ⋮       ⋮      ⋮       ⋮      ⋮      ⋮       ⋮       ⋮         ⋮\n",
      " 46709 │ UGV24006.1  QPI12961.1    100.0      70         0        0     70       1     70    134      65    134  9.45e-45     136.0\n",
      " 46710 │ UGV24006.1  QHR64989.1     98.6      70         1        0     70       1     70    134      65    134  5.45e-44     134.0\n",
      " 46711 │ UGV24006.1  QNJ49343.1     98.6      70         1        0     70       1     70    134      65    134  5.45e-44     134.0\n",
      " 46712 │ UGV24006.1  AOQ27248.1     97.1      70         2        0     70       1     70    134      65    134  7.74e-44     134.0\n",
      " 46713 │ UGV24006.1  AOT23323.1     97.1      70         2        0     70       1     70    134      65    134  7.74e-44     134.0\n",
      " 46714 │ UGV24006.1  AXA27928.1     97.1      70         2        0     70       1     70    134      65    134  7.74e-44     134.0\n",
      " 46715 │ UGV24006.1  AVZ45363.1     97.1      70         2        0     70       1     70    134      65    134  7.74e-44     134.0\n",
      " 46716 │ UGV24006.1  QBQ80266.1     97.1      70         2        0     70       1     70    134      65    134  7.74e-44     134.0\n",
      " 46717 │ UGV24006.1  QHR65476.1     97.1      70         2        0     70       1     70    134      65    134  7.74e-44     134.0\n",
      " 46718 │ UGV24007.1  UGV24007.1    100.0      25         0        0     25       1     25     25       1     25  7.12e-12      48.1\n",
      "\u001b[36m                                                                                                                  46697 rows omitted\u001b[0m"
     ]
    }
   ],
   "source": [
    "show(blastp_results, allcols=true)"
   ]
  },
  {
   "cell_type": "code",
   "execution_count": 35,
   "metadata": {},
   "outputs": [
    {
     "data": {
      "text/plain": [
       "3734×3734 Matrix{Float64}:\n",
       " 1.0  1.0  1.0  1.0  1.0  1.0  1.0  1.0  …  1.0  1.0  1.0  1.0  1.0  1.0  1.0\n",
       " 1.0  1.0  1.0  1.0  1.0  1.0  1.0  1.0     1.0  1.0  1.0  1.0  1.0  1.0  1.0\n",
       " 1.0  1.0  1.0  1.0  1.0  1.0  1.0  1.0     1.0  1.0  1.0  1.0  1.0  1.0  1.0\n",
       " 1.0  1.0  1.0  1.0  1.0  1.0  1.0  1.0     1.0  1.0  1.0  1.0  1.0  1.0  1.0\n",
       " 1.0  1.0  1.0  1.0  1.0  1.0  1.0  1.0     1.0  1.0  1.0  1.0  1.0  1.0  1.0\n",
       " 1.0  1.0  1.0  1.0  1.0  1.0  1.0  1.0  …  1.0  1.0  1.0  1.0  1.0  1.0  1.0\n",
       " 1.0  1.0  1.0  1.0  1.0  1.0  1.0  1.0     1.0  1.0  1.0  1.0  1.0  1.0  1.0\n",
       " 1.0  1.0  1.0  1.0  1.0  1.0  1.0  1.0     1.0  1.0  1.0  1.0  1.0  1.0  1.0\n",
       " 1.0  1.0  1.0  1.0  1.0  1.0  1.0  1.0     1.0  1.0  1.0  1.0  1.0  1.0  1.0\n",
       " 1.0  1.0  1.0  1.0  1.0  1.0  1.0  1.0     1.0  1.0  1.0  1.0  1.0  1.0  1.0\n",
       " 1.0  1.0  1.0  1.0  1.0  1.0  1.0  1.0  …  1.0  1.0  1.0  1.0  1.0  1.0  1.0\n",
       " 1.0  1.0  1.0  1.0  1.0  1.0  1.0  1.0     1.0  1.0  1.0  1.0  1.0  1.0  1.0\n",
       " 1.0  1.0  1.0  1.0  1.0  1.0  1.0  1.0     1.0  1.0  1.0  1.0  1.0  1.0  1.0\n",
       " ⋮                        ⋮              ⋱                 ⋮              \n",
       " 1.0  1.0  1.0  1.0  1.0  1.0  1.0  1.0     1.0  1.0  1.0  1.0  1.0  1.0  1.0\n",
       " 1.0  1.0  1.0  1.0  1.0  1.0  1.0  1.0     1.0  1.0  1.0  1.0  1.0  1.0  1.0\n",
       " 1.0  1.0  1.0  1.0  1.0  1.0  1.0  1.0     1.0  1.0  1.0  1.0  1.0  1.0  1.0\n",
       " 1.0  1.0  1.0  1.0  1.0  1.0  1.0  1.0  …  1.0  1.0  1.0  1.0  1.0  1.0  1.0\n",
       " 1.0  1.0  1.0  1.0  1.0  1.0  1.0  1.0     1.0  1.0  1.0  1.0  1.0  1.0  1.0\n",
       " 1.0  1.0  1.0  1.0  1.0  1.0  1.0  1.0     1.0  1.0  1.0  1.0  1.0  1.0  1.0\n",
       " 1.0  1.0  1.0  1.0  1.0  1.0  1.0  1.0     1.0  1.0  1.0  1.0  1.0  1.0  1.0\n",
       " 1.0  1.0  1.0  1.0  1.0  1.0  1.0  1.0     1.0  1.0  1.0  1.0  1.0  1.0  1.0\n",
       " 1.0  1.0  1.0  1.0  1.0  1.0  1.0  1.0  …  1.0  1.0  1.0  1.0  1.0  1.0  1.0\n",
       " 1.0  1.0  1.0  1.0  1.0  1.0  1.0  1.0     1.0  1.0  1.0  1.0  1.0  1.0  1.0\n",
       " 1.0  1.0  1.0  1.0  1.0  1.0  1.0  1.0     1.0  1.0  1.0  1.0  1.0  1.0  1.0\n",
       " 1.0  1.0  1.0  1.0  1.0  1.0  1.0  1.0     1.0  1.0  1.0  1.0  1.0  1.0  1.0"
      ]
     },
     "execution_count": 35,
     "metadata": {},
     "output_type": "execute_result"
    }
   ],
   "source": [
    "distance_matrix = ones(N_RECORDS, N_RECORDS)"
   ]
  },
  {
   "cell_type": "code",
   "execution_count": 36,
   "metadata": {},
   "outputs": [
    {
     "data": {
      "text/plain": [
       "3734×3734 Matrix{Float64}:\n",
       " 0.0  1.0  1.0  1.0  1.0  1.0  1.0  1.0  …  1.0  1.0  1.0  1.0  1.0  1.0  1.0\n",
       " 1.0  0.0  1.0  1.0  1.0  1.0  1.0  1.0     1.0  1.0  1.0  1.0  1.0  1.0  1.0\n",
       " 1.0  1.0  0.0  1.0  1.0  1.0  1.0  1.0     1.0  1.0  1.0  1.0  1.0  1.0  1.0\n",
       " 1.0  1.0  1.0  0.0  1.0  1.0  1.0  1.0     1.0  1.0  1.0  1.0  1.0  1.0  1.0\n",
       " 1.0  1.0  1.0  1.0  0.0  1.0  1.0  1.0     1.0  1.0  1.0  1.0  1.0  1.0  1.0\n",
       " 1.0  1.0  1.0  1.0  1.0  0.0  1.0  1.0  …  1.0  1.0  1.0  1.0  1.0  1.0  1.0\n",
       " 1.0  1.0  1.0  1.0  1.0  1.0  0.0  1.0     1.0  1.0  1.0  1.0  1.0  1.0  1.0\n",
       " 1.0  1.0  1.0  1.0  1.0  1.0  1.0  0.0     1.0  1.0  1.0  1.0  1.0  1.0  1.0\n",
       " 1.0  1.0  1.0  1.0  1.0  1.0  1.0  1.0     1.0  1.0  1.0  1.0  1.0  1.0  1.0\n",
       " 1.0  1.0  1.0  1.0  1.0  1.0  1.0  1.0     1.0  1.0  1.0  1.0  1.0  1.0  1.0\n",
       " 1.0  1.0  1.0  1.0  1.0  1.0  1.0  1.0  …  1.0  1.0  1.0  1.0  1.0  1.0  1.0\n",
       " 1.0  1.0  1.0  1.0  1.0  1.0  1.0  1.0     1.0  1.0  1.0  1.0  1.0  1.0  1.0\n",
       " 1.0  1.0  1.0  1.0  1.0  1.0  1.0  1.0     1.0  1.0  1.0  1.0  1.0  1.0  1.0\n",
       " ⋮                        ⋮              ⋱                 ⋮              \n",
       " 1.0  1.0  1.0  1.0  1.0  1.0  1.0  1.0     1.0  1.0  1.0  1.0  1.0  1.0  1.0\n",
       " 1.0  1.0  1.0  1.0  1.0  1.0  1.0  1.0     1.0  1.0  1.0  1.0  1.0  1.0  1.0\n",
       " 1.0  1.0  1.0  1.0  1.0  1.0  1.0  1.0     1.0  1.0  1.0  1.0  1.0  1.0  1.0\n",
       " 1.0  1.0  1.0  1.0  1.0  1.0  1.0  1.0  …  1.0  1.0  1.0  1.0  1.0  1.0  1.0\n",
       " 1.0  1.0  1.0  1.0  1.0  1.0  1.0  1.0     1.0  1.0  1.0  1.0  1.0  1.0  1.0\n",
       " 1.0  1.0  1.0  1.0  1.0  1.0  1.0  1.0     0.0  1.0  1.0  1.0  1.0  1.0  1.0\n",
       " 1.0  1.0  1.0  1.0  1.0  1.0  1.0  1.0     1.0  0.0  1.0  1.0  1.0  1.0  1.0\n",
       " 1.0  1.0  1.0  1.0  1.0  1.0  1.0  1.0     1.0  1.0  0.0  1.0  1.0  1.0  1.0\n",
       " 1.0  1.0  1.0  1.0  1.0  1.0  1.0  1.0  …  1.0  1.0  1.0  0.0  1.0  1.0  1.0\n",
       " 1.0  1.0  1.0  1.0  1.0  1.0  1.0  1.0     1.0  1.0  1.0  1.0  0.0  1.0  1.0\n",
       " 1.0  1.0  1.0  1.0  1.0  1.0  1.0  1.0     1.0  1.0  1.0  1.0  1.0  0.0  1.0\n",
       " 1.0  1.0  1.0  1.0  1.0  1.0  1.0  1.0     1.0  1.0  1.0  1.0  1.0  1.0  0.0"
      ]
     },
     "execution_count": 36,
     "metadata": {},
     "output_type": "execute_result"
    }
   ],
   "source": [
    "for row in DataFrames.eachrow(blastp_results)\n",
    "    row_idx = id_to_index_map[row[\"qseqid\"]]\n",
    "    col_idx = id_to_index_map[row[\"sseqid\"]]\n",
    "    distance = 1 - (row[\"pident\"] / 100)\n",
    "    distance_matrix[row_idx, col_idx] = distance\n",
    "end\n",
    "distance_matrix"
   ]
  },
  {
   "cell_type": "code",
   "execution_count": 93,
   "metadata": {},
   "outputs": [
    {
     "data": {
      "text/plain": [
       "wcss (generic function with 1 method)"
      ]
     },
     "execution_count": 93,
     "metadata": {},
     "output_type": "execute_result"
    }
   ],
   "source": [
    "function wcss(clustering_result)\n",
    "    n_clusters = length(clustering_result.counts)\n",
    "    total_squared_cost = 0.0\n",
    "    for cluster_id in 1:n_clusters\n",
    "        cluster_indices = clustering_result.assignments .== cluster_id\n",
    "        total_squared_cost += sum(clustering_result.costs[cluster_indices] .^ 2)\n",
    "    end\n",
    "    return total_squared_cost\n",
    "end"
   ]
  },
  {
   "cell_type": "code",
   "execution_count": 103,
   "metadata": {},
   "outputs": [
    {
     "data": {
      "text/plain": [
       "fit_optimal_number_of_clusters (generic function with 1 method)"
      ]
     },
     "execution_count": 103,
     "metadata": {},
     "output_type": "execute_result"
    }
   ],
   "source": [
    "function fit_optimal_number_of_clusters(distance_matrix)\n",
    "    ks_to_try = vcat([2^i for i in 0:Int(floor(log2(size(distance_matrix, 1))))], size(distance_matrix, 1))\n",
    "    @show ks_to_try\n",
    "    \n",
    "    # can calculate this for k >= 1\n",
    "    within_cluster_sum_of_squares = Union{Float64, Missing}[]\n",
    "    # these are only valid for k >= 2 so set initial value to missing\n",
    "    # between_cluster_sum_of_squares = [missing, zeros(length(ks_to_try)-1)...]\n",
    "    silhouette_scores = Union{Float64, Missing}[]\n",
    "        \n",
    "    current_k_index = 1\n",
    "    @info \"assessing k = $(ks_to_try[current_k_index])\"\n",
    "    this_clustering = Clustering.kmeans(distance_matrix, ks_to_try[current_k_index])\n",
    "    push!(within_cluster_sum_of_squares, wcss(this_clustering))\n",
    "    push!(silhouette_scores, missing)\n",
    "\n",
    "    if length(ks_to_try) == 1\n",
    "        optimal_number_of_clusters = ks_to_try[current_k_index]\n",
    "    else\n",
    "        current_k_index += 1\n",
    "        @info \"assessing k = $(ks_to_try[current_k_index])\"\n",
    "        this_clustering = Clustering.kmeans(distance_matrix, ks_to_try[current_k_index])\n",
    "        push!(within_cluster_sum_of_squares, wcss(this_clustering))\n",
    "        push!(silhouette_scores, Statistics.mean(Clustering.silhouettes(this_clustering, distance_matrix)))\n",
    "        \n",
    "        if (within_cluster_sum_of_squares[2] >= within_cluster_sum_of_squares[1])\n",
    "            optimal_number_of_clusters = ks_to_try[1]\n",
    "        else\n",
    "            optimal_number_of_clusters = ks_to_try[2]\n",
    "            if length(ks_to_try) > 2\n",
    "                current_k_index += 1\n",
    "                @info \"assessing k = $(ks_to_try[current_k_index])\"\n",
    "                this_clustering = Clustering.kmeans(distance_matrix, ks_to_try[current_k_index])\n",
    "                push!(within_cluster_sum_of_squares, wcss(this_clustering))\n",
    "                push!(silhouette_scores, Statistics.mean(Clustering.silhouettes(this_clustering, distance_matrix)))\n",
    "                \n",
    "                while (silhouette_scores[end] > silhouette_scores[end-1]) &&\n",
    "                        (within_cluster_sum_of_squares[end] < within_cluster_sum_of_squares[end-1]) &&\n",
    "                        (current_k_index < length(ks_to_try))\n",
    "                    current_k_index += 1\n",
    "                    @info \"assessing k = $(ks_to_try[current_k_index])\"\n",
    "                    this_clustering = Clustering.kmeans(distance_matrix, ks_to_try[current_k_index])\n",
    "                    push!(within_cluster_sum_of_squares, wcss(this_clustering))\n",
    "                    push!(silhouette_scores, Statistics.mean(Clustering.silhouettes(this_clustering, distance_matrix)))\n",
    "                end\n",
    "                # here is where we should start grid searching within the best range\n",
    "                optimal_silhouette, optimal_index = findmax(silhouette_scores[2:end])\n",
    "                optimal_index += 1\n",
    "                optimal_number_of_clusters = ks_to_try[optimal_index]\n",
    "                @info \"refining...\"\n",
    "                @info \"current optimal number of clusters = $(ks_to_try[optimal_index])\"\n",
    "                @info \"current best silhouette score = $(optimal_silhouette)\"\n",
    "                                \n",
    "                if optimal_index != length(ks_to_try)\n",
    "                    window_of_focus = ks_to_try[optimal_index-1:optimal_index+1]\n",
    "                    \n",
    "                    k_to_try = Int(round(Statistics.mean(window_of_focus[1:2])))\n",
    "                    insertion_index = first(searchsorted(ks_to_try, k_to_try))\n",
    "                    if ks_to_try[insertion_index] != k_to_try\n",
    "                        insert!(ks_to_try, insertion_index, k_to_try)\n",
    "                        @info \"assessing k = $(k_to_try)\"\n",
    "                        this_clustering = Clustering.kmeans(distance_matrix, k_to_try)\n",
    "                        insert!(within_cluster_sum_of_squares, insertion_index, wcss(this_clustering))\n",
    "                        insert!(silhouette_scores, insertion_index, Statistics.mean(Clustering.silhouettes(this_clustering, distance_matrix)))\n",
    "                    end\n",
    "\n",
    "                    k_to_try = Int(round(Statistics.mean(window_of_focus[2:3])))\n",
    "                    insertion_index = first(searchsorted(ks_to_try, k_to_try))\n",
    "                    if ks_to_try[insertion_index] != k_to_try\n",
    "                        @info \"assessing k = $(k_to_try)\"\n",
    "                        this_clustering = Clustering.kmeans(distance_matrix, k_to_try)\n",
    "                        insert!(ks_to_try, insertion_index, k_to_try)\n",
    "                        insert!(within_cluster_sum_of_squares, insertion_index, wcss(this_clustering))\n",
    "                        insert!(silhouette_scores, insertion_index, Statistics.mean(Clustering.silhouettes(this_clustering, distance_matrix)))\n",
    "                    end\n",
    "                    \n",
    "                    new_optimal_silhouette, new_optimal_index = findmax(silhouette_scores[2:end])\n",
    "                    new_optimal_index += 1\n",
    "                    new_optimal_number_of_clusters = ks_to_try[new_optimal_index]\n",
    "                    \n",
    "                    while (new_optimal_number_of_clusters != optimal_number_of_clusters) && (new_optimal_index != length(ks_to_try))\n",
    "                        optimal_number_of_clusters = new_optimal_number_of_clusters\n",
    "                        optimal_index = new_optimal_index\n",
    "                        optimal_silhouette = new_optimal_silhouette\n",
    "                        @info \"current optimal number of clusters = $(ks_to_try[optimal_index])\"\n",
    "                        @info \"current best silhouette score = $(optimal_silhouette)\"\n",
    "                        \n",
    "                        window_of_focus = ks_to_try[optimal_index-1:optimal_index+1]\n",
    "\n",
    "                        k_to_try = Int(round(Statistics.mean(window_of_focus[1:2])))\n",
    "                        insertion_index = first(searchsorted(ks_to_try, k_to_try))\n",
    "                        if ks_to_try[insertion_index] != k_to_try\n",
    "                            @info \"assessing k = $(k_to_try)\"\n",
    "                            this_clustering = Clustering.kmeans(distance_matrix, k_to_try)\n",
    "                            insert!(ks_to_try, insertion_index, k_to_try)\n",
    "                            insert!(within_cluster_sum_of_squares, insertion_index, wcss(this_clustering))\n",
    "                            insert!(silhouette_scores, insertion_index, Statistics.mean(Clustering.silhouettes(this_clustering, distance_matrix)))\n",
    "                        end\n",
    "\n",
    "                        k_to_try = Int(round(Statistics.mean(window_of_focus[2:3])))\n",
    "                        insertion_index = first(searchsorted(ks_to_try, k_to_try))\n",
    "                        if ks_to_try[insertion_index] != k_to_try\n",
    "                            @info \"assessing k = $(k_to_try)\"\n",
    "                            this_clustering = Clustering.kmeans(distance_matrix, k_to_try)\n",
    "                            insert!(ks_to_try, insertion_index, k_to_try)\n",
    "                            insert!(within_cluster_sum_of_squares, insertion_index, wcss(this_clustering))\n",
    "                            insert!(silhouette_scores, insertion_index, Statistics.mean(Clustering.silhouettes(this_clustering, distance_matrix)))\n",
    "                        end\n",
    "\n",
    "                        new_optimal_silhouette, new_optimal_index = findmax(silhouette_scores[2:end])\n",
    "                        new_optimal_index += 1\n",
    "                        new_optimal_number_of_clusters = ks_to_try[new_optimal_index]\n",
    "                    end\n",
    "                end\n",
    "            end\n",
    "        end\n",
    "    end\n",
    "    return optimal_number_of_clusters, ks_to_try, within_cluster_sum_of_squares, silhouette_scores\n",
    "end"
   ]
  },
  {
   "cell_type": "code",
   "execution_count": 104,
   "metadata": {},
   "outputs": [
    {
     "name": "stdout",
     "output_type": "stream",
     "text": [
      "ks_to_try = [1, 2, 4, 8, 16, 32, 64, 128, 256, 512, 1024, 2048, 3734]\n"
     ]
    },
    {
     "name": "stderr",
     "output_type": "stream",
     "text": [
      "┌ Info: assessing k = 1\n",
      "└ @ Main In[103]:12\n",
      "┌ Info: assessing k = 2\n",
      "└ @ Main In[103]:21\n",
      "┌ Info: assessing k = 4\n",
      "└ @ Main In[103]:32\n",
      "┌ Info: assessing k = 8\n",
      "└ @ Main In[103]:41\n",
      "┌ Info: assessing k = 16\n",
      "└ @ Main In[103]:41\n",
      "┌ Info: assessing k = 32\n",
      "└ @ Main In[103]:41\n",
      "┌ Info: assessing k = 64\n",
      "└ @ Main In[103]:41\n",
      "┌ Info: assessing k = 128\n",
      "└ @ Main In[103]:41\n",
      "┌ Info: assessing k = 256\n",
      "└ @ Main In[103]:41\n",
      "┌ Info: assessing k = 512\n",
      "└ @ Main In[103]:41\n",
      "┌ Info: assessing k = 1024\n",
      "└ @ Main In[103]:41\n",
      "┌ Info: refining...\n",
      "└ @ Main In[103]:50\n",
      "┌ Info: current optimal number of clusters = 512\n",
      "└ @ Main In[103]:51\n",
      "┌ Info: current best silhouette score = 0.8768267445189322\n",
      "└ @ Main In[103]:52\n",
      "┌ Info: assessing k = 384\n",
      "└ @ Main In[103]:61\n",
      "┌ Info: assessing k = 768\n",
      "└ @ Main In[103]:70\n",
      "┌ Info: current optimal number of clusters = 384\n",
      "└ @ Main In[103]:85\n",
      "┌ Info: current best silhouette score = 0.918858863896402\n",
      "└ @ Main In[103]:86\n",
      "┌ Info: assessing k = 320\n",
      "└ @ Main In[103]:93\n",
      "┌ Info: assessing k = 448\n",
      "└ @ Main In[103]:103\n"
     ]
    },
    {
     "data": {
      "text/plain": [
       "(384, [1, 2, 4, 8, 16, 32, 64, 128, 256, 320, 384, 448, 512, 768, 1024, 2048, 3734], Union{Missing, Float64}[536659.0306805496, 534279.5157680515, 529749.5135546018, 519837.8865353149, 505416.3438757816, 475370.57869236957, 394771.54013111565, 278015.89335864043, 44455.30163811536, 979.9493499668249, 177.8093077583069, 57.857203337433795, 7.049385142712942, 0.015967809929798, 0.0008623873813690617], Union{Missing, Float64}[missing, 0.00655589610963743, 0.01356918567524883, 0.028089478145523546, 0.05263451848365821, 0.10499368153512814, 0.21704683617031345, 0.42383585666780127, 0.8148398706074904, 0.9159346187358288, 0.918858863896402, 0.9056518113864859, 0.8768267445189322, 0.7276277560635689, 0.6735282278459538])"
      ]
     },
     "execution_count": 104,
     "metadata": {},
     "output_type": "execute_result"
    }
   ],
   "source": [
    "optimal_number_of_clusters, ks_assessed, within_cluster_sum_of_squares, silhouette_scores = fit_optimal_number_of_clusters(distance_matrix)"
   ]
  },
  {
   "cell_type": "code",
   "execution_count": 105,
   "metadata": {},
   "outputs": [
    {
     "data": {
      "image/svg+xml": [
       "<?xml version=\"1.0\" encoding=\"utf-8\"?>\n",
       "<svg xmlns=\"http://www.w3.org/2000/svg\" xmlns:xlink=\"http://www.w3.org/1999/xlink\" width=\"600\" height=\"400\" viewBox=\"0 0 2400 1600\">\n",
       "<defs>\n",
       "  <clipPath id=\"clip630\">\n",
       "    <rect x=\"0\" y=\"0\" width=\"2400\" height=\"1600\"/>\n",
       "  </clipPath>\n",
       "</defs>\n",
       "<path clip-path=\"url(#clip630)\" d=\"\n",
       "M0 1600 L2400 1600 L2400 0 L0 0  Z\n",
       "  \" fill=\"#ffffff\" fill-rule=\"evenodd\" fill-opacity=\"1\"/>\n",
       "<defs>\n",
       "  <clipPath id=\"clip631\">\n",
       "    <rect x=\"480\" y=\"0\" width=\"1681\" height=\"1600\"/>\n",
       "  </clipPath>\n",
       "</defs>\n",
       "<path clip-path=\"url(#clip630)\" d=\"\n",
       "M338.404 1423.18 L2352.76 1423.18 L2352.76 47.2441 L338.404 47.2441  Z\n",
       "  \" fill=\"#ffffff\" fill-rule=\"evenodd\" fill-opacity=\"1\"/>\n",
       "<defs>\n",
       "  <clipPath id=\"clip632\">\n",
       "    <rect x=\"338\" y=\"47\" width=\"2015\" height=\"1377\"/>\n",
       "  </clipPath>\n",
       "</defs>\n",
       "<polyline clip-path=\"url(#clip632)\" style=\"stroke:#000000; stroke-linecap:butt; stroke-linejoin:round; stroke-width:2; stroke-opacity:0.1; fill:none\" points=\"\n",
       "  393.557,1423.18 393.557,47.2441 \n",
       "  \"/>\n",
       "<polyline clip-path=\"url(#clip632)\" style=\"stroke:#000000; stroke-linecap:butt; stroke-linejoin:round; stroke-width:2; stroke-opacity:0.1; fill:none\" points=\"\n",
       "  857.958,1423.18 857.958,47.2441 \n",
       "  \"/>\n",
       "<polyline clip-path=\"url(#clip632)\" style=\"stroke:#000000; stroke-linecap:butt; stroke-linejoin:round; stroke-width:2; stroke-opacity:0.1; fill:none\" points=\"\n",
       "  1322.36,1423.18 1322.36,47.2441 \n",
       "  \"/>\n",
       "<polyline clip-path=\"url(#clip632)\" style=\"stroke:#000000; stroke-linecap:butt; stroke-linejoin:round; stroke-width:2; stroke-opacity:0.1; fill:none\" points=\"\n",
       "  1786.76,1423.18 1786.76,47.2441 \n",
       "  \"/>\n",
       "<polyline clip-path=\"url(#clip632)\" style=\"stroke:#000000; stroke-linecap:butt; stroke-linejoin:round; stroke-width:2; stroke-opacity:0.1; fill:none\" points=\"\n",
       "  2251.16,1423.18 2251.16,47.2441 \n",
       "  \"/>\n",
       "<polyline clip-path=\"url(#clip630)\" style=\"stroke:#000000; stroke-linecap:butt; stroke-linejoin:round; stroke-width:4; stroke-opacity:1; fill:none\" points=\"\n",
       "  338.404,1423.18 2352.76,1423.18 \n",
       "  \"/>\n",
       "<polyline clip-path=\"url(#clip630)\" style=\"stroke:#000000; stroke-linecap:butt; stroke-linejoin:round; stroke-width:4; stroke-opacity:1; fill:none\" points=\"\n",
       "  393.557,1423.18 393.557,1404.28 \n",
       "  \"/>\n",
       "<polyline clip-path=\"url(#clip630)\" style=\"stroke:#000000; stroke-linecap:butt; stroke-linejoin:round; stroke-width:4; stroke-opacity:1; fill:none\" points=\"\n",
       "  857.958,1423.18 857.958,1404.28 \n",
       "  \"/>\n",
       "<polyline clip-path=\"url(#clip630)\" style=\"stroke:#000000; stroke-linecap:butt; stroke-linejoin:round; stroke-width:4; stroke-opacity:1; fill:none\" points=\"\n",
       "  1322.36,1423.18 1322.36,1404.28 \n",
       "  \"/>\n",
       "<polyline clip-path=\"url(#clip630)\" style=\"stroke:#000000; stroke-linecap:butt; stroke-linejoin:round; stroke-width:4; stroke-opacity:1; fill:none\" points=\"\n",
       "  1786.76,1423.18 1786.76,1404.28 \n",
       "  \"/>\n",
       "<polyline clip-path=\"url(#clip630)\" style=\"stroke:#000000; stroke-linecap:butt; stroke-linejoin:round; stroke-width:4; stroke-opacity:1; fill:none\" points=\"\n",
       "  2251.16,1423.18 2251.16,1404.28 \n",
       "  \"/>\n",
       "<path clip-path=\"url(#clip630)\" d=\"M393.557 1454.1 Q389.946 1454.1 388.117 1457.66 Q386.311 1461.2 386.311 1468.33 Q386.311 1475.44 388.117 1479.01 Q389.946 1482.55 393.557 1482.55 Q397.191 1482.55 398.997 1479.01 Q400.825 1475.44 400.825 1468.33 Q400.825 1461.2 398.997 1457.66 Q397.191 1454.1 393.557 1454.1 M393.557 1450.39 Q399.367 1450.39 402.422 1455 Q405.501 1459.58 405.501 1468.33 Q405.501 1477.06 402.422 1481.67 Q399.367 1486.25 393.557 1486.25 Q387.747 1486.25 384.668 1481.67 Q381.612 1477.06 381.612 1468.33 Q381.612 1459.58 384.668 1455 Q387.747 1450.39 393.557 1450.39 Z\" fill=\"#000000\" fill-rule=\"evenodd\" fill-opacity=\"1\" /><path clip-path=\"url(#clip630)\" d=\"M821.651 1481.64 L837.97 1481.64 L837.97 1485.58 L816.026 1485.58 L816.026 1481.64 Q818.688 1478.89 823.271 1474.26 Q827.878 1469.61 829.058 1468.27 Q831.303 1465.74 832.183 1464.01 Q833.086 1462.25 833.086 1460.56 Q833.086 1457.8 831.141 1456.07 Q829.22 1454.33 826.118 1454.33 Q823.919 1454.33 821.466 1455.09 Q819.035 1455.86 816.257 1457.41 L816.257 1452.69 Q819.081 1451.55 821.535 1450.97 Q823.989 1450.39 826.026 1450.39 Q831.396 1450.39 834.59 1453.08 Q837.785 1455.77 837.785 1460.26 Q837.785 1462.39 836.975 1464.31 Q836.188 1466.2 834.081 1468.8 Q833.503 1469.47 830.401 1472.69 Q827.299 1475.88 821.651 1481.64 Z\" fill=\"#000000\" fill-rule=\"evenodd\" fill-opacity=\"1\" /><path clip-path=\"url(#clip630)\" d=\"M847.831 1451.02 L866.188 1451.02 L866.188 1454.96 L852.114 1454.96 L852.114 1463.43 Q853.132 1463.08 854.151 1462.92 Q855.169 1462.73 856.188 1462.73 Q861.975 1462.73 865.354 1465.9 Q868.734 1469.08 868.734 1474.49 Q868.734 1480.07 865.262 1483.17 Q861.789 1486.25 855.47 1486.25 Q853.294 1486.25 851.026 1485.88 Q848.78 1485.51 846.373 1484.77 L846.373 1480.07 Q848.456 1481.2 850.678 1481.76 Q852.901 1482.32 855.377 1482.32 Q859.382 1482.32 861.72 1480.21 Q864.058 1478.1 864.058 1474.49 Q864.058 1470.88 861.72 1468.77 Q859.382 1466.67 855.377 1466.67 Q853.502 1466.67 851.627 1467.08 Q849.776 1467.5 847.831 1468.38 L847.831 1451.02 Z\" fill=\"#000000\" fill-rule=\"evenodd\" fill-opacity=\"1\" /><path clip-path=\"url(#clip630)\" d=\"M887.947 1454.1 Q884.336 1454.1 882.507 1457.66 Q880.701 1461.2 880.701 1468.33 Q880.701 1475.44 882.507 1479.01 Q884.336 1482.55 887.947 1482.55 Q891.581 1482.55 893.386 1479.01 Q895.215 1475.44 895.215 1468.33 Q895.215 1461.2 893.386 1457.66 Q891.581 1454.1 887.947 1454.1 M887.947 1450.39 Q893.757 1450.39 896.812 1455 Q899.891 1459.58 899.891 1468.33 Q899.891 1477.06 896.812 1481.67 Q893.757 1486.25 887.947 1486.25 Q882.137 1486.25 879.058 1481.67 Q876.002 1477.06 876.002 1468.33 Q876.002 1459.58 879.058 1455 Q882.137 1450.39 887.947 1450.39 Z\" fill=\"#000000\" fill-rule=\"evenodd\" fill-opacity=\"1\" /><path clip-path=\"url(#clip630)\" d=\"M1281.98 1451.02 L1300.33 1451.02 L1300.33 1454.96 L1286.26 1454.96 L1286.26 1463.43 Q1287.28 1463.08 1288.3 1462.92 Q1289.32 1462.73 1290.33 1462.73 Q1296.12 1462.73 1299.5 1465.9 Q1302.88 1469.08 1302.88 1474.49 Q1302.88 1480.07 1299.41 1483.17 Q1295.94 1486.25 1289.62 1486.25 Q1287.44 1486.25 1285.17 1485.88 Q1282.93 1485.51 1280.52 1484.77 L1280.52 1480.07 Q1282.6 1481.2 1284.83 1481.76 Q1287.05 1482.32 1289.52 1482.32 Q1293.53 1482.32 1295.87 1480.21 Q1298.21 1478.1 1298.21 1474.49 Q1298.21 1470.88 1295.87 1468.77 Q1293.53 1466.67 1289.52 1466.67 Q1287.65 1466.67 1285.77 1467.08 Q1283.92 1467.5 1281.98 1468.38 L1281.98 1451.02 Z\" fill=\"#000000\" fill-rule=\"evenodd\" fill-opacity=\"1\" /><path clip-path=\"url(#clip630)\" d=\"M1322.09 1454.1 Q1318.48 1454.1 1316.65 1457.66 Q1314.85 1461.2 1314.85 1468.33 Q1314.85 1475.44 1316.65 1479.01 Q1318.48 1482.55 1322.09 1482.55 Q1325.73 1482.55 1327.53 1479.01 Q1329.36 1475.44 1329.36 1468.33 Q1329.36 1461.2 1327.53 1457.66 Q1325.73 1454.1 1322.09 1454.1 M1322.09 1450.39 Q1327.9 1450.39 1330.96 1455 Q1334.04 1459.58 1334.04 1468.33 Q1334.04 1477.06 1330.96 1481.67 Q1327.9 1486.25 1322.09 1486.25 Q1316.28 1486.25 1313.21 1481.67 Q1310.15 1477.06 1310.15 1468.33 Q1310.15 1459.58 1313.21 1455 Q1316.28 1450.39 1322.09 1450.39 Z\" fill=\"#000000\" fill-rule=\"evenodd\" fill-opacity=\"1\" /><path clip-path=\"url(#clip630)\" d=\"M1352.26 1454.1 Q1348.64 1454.1 1346.82 1457.66 Q1345.01 1461.2 1345.01 1468.33 Q1345.01 1475.44 1346.82 1479.01 Q1348.64 1482.55 1352.26 1482.55 Q1355.89 1482.55 1357.7 1479.01 Q1359.52 1475.44 1359.52 1468.33 Q1359.52 1461.2 1357.7 1457.66 Q1355.89 1454.1 1352.26 1454.1 M1352.26 1450.39 Q1358.07 1450.39 1361.12 1455 Q1364.2 1459.58 1364.2 1468.33 Q1364.2 1477.06 1361.12 1481.67 Q1358.07 1486.25 1352.26 1486.25 Q1346.45 1486.25 1343.37 1481.67 Q1340.31 1477.06 1340.31 1468.33 Q1340.31 1459.58 1343.37 1455 Q1346.45 1450.39 1352.26 1450.39 Z\" fill=\"#000000\" fill-rule=\"evenodd\" fill-opacity=\"1\" /><path clip-path=\"url(#clip630)\" d=\"M1745.04 1451.02 L1767.26 1451.02 L1767.26 1453.01 L1754.71 1485.58 L1749.83 1485.58 L1761.63 1454.96 L1745.04 1454.96 L1745.04 1451.02 Z\" fill=\"#000000\" fill-rule=\"evenodd\" fill-opacity=\"1\" /><path clip-path=\"url(#clip630)\" d=\"M1776.43 1451.02 L1794.78 1451.02 L1794.78 1454.96 L1780.71 1454.96 L1780.71 1463.43 Q1781.73 1463.08 1782.75 1462.92 Q1783.76 1462.73 1784.78 1462.73 Q1790.57 1462.73 1793.95 1465.9 Q1797.33 1469.08 1797.33 1474.49 Q1797.33 1480.07 1793.86 1483.17 Q1790.38 1486.25 1784.06 1486.25 Q1781.89 1486.25 1779.62 1485.88 Q1777.38 1485.51 1774.97 1484.77 L1774.97 1480.07 Q1777.05 1481.2 1779.27 1481.76 Q1781.5 1482.32 1783.97 1482.32 Q1787.98 1482.32 1790.31 1480.21 Q1792.65 1478.1 1792.65 1474.49 Q1792.65 1470.88 1790.31 1468.77 Q1787.98 1466.67 1783.97 1466.67 Q1782.1 1466.67 1780.22 1467.08 Q1778.37 1467.5 1776.43 1468.38 L1776.43 1451.02 Z\" fill=\"#000000\" fill-rule=\"evenodd\" fill-opacity=\"1\" /><path clip-path=\"url(#clip630)\" d=\"M1816.54 1454.1 Q1812.93 1454.1 1811.1 1457.66 Q1809.3 1461.2 1809.3 1468.33 Q1809.3 1475.44 1811.1 1479.01 Q1812.93 1482.55 1816.54 1482.55 Q1820.18 1482.55 1821.98 1479.01 Q1823.81 1475.44 1823.81 1468.33 Q1823.81 1461.2 1821.98 1457.66 Q1820.18 1454.1 1816.54 1454.1 M1816.54 1450.39 Q1822.35 1450.39 1825.41 1455 Q1828.49 1459.58 1828.49 1468.33 Q1828.49 1477.06 1825.41 1481.67 Q1822.35 1486.25 1816.54 1486.25 Q1810.73 1486.25 1807.65 1481.67 Q1804.6 1477.06 1804.6 1468.33 Q1804.6 1459.58 1807.65 1455 Q1810.73 1450.39 1816.54 1450.39 Z\" fill=\"#000000\" fill-rule=\"evenodd\" fill-opacity=\"1\" /><path clip-path=\"url(#clip630)\" d=\"M2195.69 1481.64 L2203.33 1481.64 L2203.33 1455.28 L2195.02 1456.95 L2195.02 1452.69 L2203.28 1451.02 L2207.96 1451.02 L2207.96 1481.64 L2215.6 1481.64 L2215.6 1485.58 L2195.69 1485.58 L2195.69 1481.64 Z\" fill=\"#000000\" fill-rule=\"evenodd\" fill-opacity=\"1\" /><path clip-path=\"url(#clip630)\" d=\"M2235.04 1454.1 Q2231.43 1454.1 2229.6 1457.66 Q2227.8 1461.2 2227.8 1468.33 Q2227.8 1475.44 2229.6 1479.01 Q2231.43 1482.55 2235.04 1482.55 Q2238.68 1482.55 2240.48 1479.01 Q2242.31 1475.44 2242.31 1468.33 Q2242.31 1461.2 2240.48 1457.66 Q2238.68 1454.1 2235.04 1454.1 M2235.04 1450.39 Q2240.85 1450.39 2243.91 1455 Q2246.99 1459.58 2246.99 1468.33 Q2246.99 1477.06 2243.91 1481.67 Q2240.85 1486.25 2235.04 1486.25 Q2229.23 1486.25 2226.15 1481.67 Q2223.1 1477.06 2223.1 1468.33 Q2223.1 1459.58 2226.15 1455 Q2229.23 1450.39 2235.04 1450.39 Z\" fill=\"#000000\" fill-rule=\"evenodd\" fill-opacity=\"1\" /><path clip-path=\"url(#clip630)\" d=\"M2265.2 1454.1 Q2261.59 1454.1 2259.76 1457.66 Q2257.96 1461.2 2257.96 1468.33 Q2257.96 1475.44 2259.76 1479.01 Q2261.59 1482.55 2265.2 1482.55 Q2268.84 1482.55 2270.64 1479.01 Q2272.47 1475.44 2272.47 1468.33 Q2272.47 1461.2 2270.64 1457.66 Q2268.84 1454.1 2265.2 1454.1 M2265.2 1450.39 Q2271.01 1450.39 2274.07 1455 Q2277.15 1459.58 2277.15 1468.33 Q2277.15 1477.06 2274.07 1481.67 Q2271.01 1486.25 2265.2 1486.25 Q2259.39 1486.25 2256.31 1481.67 Q2253.26 1477.06 2253.26 1468.33 Q2253.26 1459.58 2256.31 1455 Q2259.39 1450.39 2265.2 1450.39 Z\" fill=\"#000000\" fill-rule=\"evenodd\" fill-opacity=\"1\" /><path clip-path=\"url(#clip630)\" d=\"M2295.36 1454.1 Q2291.75 1454.1 2289.92 1457.66 Q2288.12 1461.2 2288.12 1468.33 Q2288.12 1475.44 2289.92 1479.01 Q2291.75 1482.55 2295.36 1482.55 Q2299 1482.55 2300.8 1479.01 Q2302.63 1475.44 2302.63 1468.33 Q2302.63 1461.2 2300.8 1457.66 Q2299 1454.1 2295.36 1454.1 M2295.36 1450.39 Q2301.17 1450.39 2304.23 1455 Q2307.31 1459.58 2307.31 1468.33 Q2307.31 1477.06 2304.23 1481.67 Q2301.17 1486.25 2295.36 1486.25 Q2289.55 1486.25 2286.48 1481.67 Q2283.42 1477.06 2283.42 1468.33 Q2283.42 1459.58 2286.48 1455 Q2289.55 1450.39 2295.36 1450.39 Z\" fill=\"#000000\" fill-rule=\"evenodd\" fill-opacity=\"1\" /><path clip-path=\"url(#clip630)\" d=\"M1221.15 1546.53 L1221.15 1568.04 L1215.29 1568.04 L1215.29 1546.72 Q1215.29 1541.66 1213.32 1539.14 Q1211.34 1536.63 1207.4 1536.63 Q1202.65 1536.63 1199.92 1539.65 Q1197.18 1542.68 1197.18 1547.9 L1197.18 1568.04 L1191.29 1568.04 L1191.29 1532.4 L1197.18 1532.4 L1197.18 1537.93 Q1199.28 1534.72 1202.11 1533.13 Q1204.98 1531.54 1208.7 1531.54 Q1214.84 1531.54 1218 1535.36 Q1221.15 1539.14 1221.15 1546.53 Z\" fill=\"#000000\" fill-rule=\"evenodd\" fill-opacity=\"1\" /><path clip-path=\"url(#clip630)\" d=\"M1279.2 1533.76 L1279.2 1539.24 Q1276.72 1537.87 1274.2 1537.2 Q1271.72 1536.5 1269.18 1536.5 Q1263.48 1536.5 1260.33 1540.13 Q1257.18 1543.73 1257.18 1550.25 Q1257.18 1556.78 1260.33 1560.4 Q1263.48 1564 1269.18 1564 Q1271.72 1564 1274.2 1563.33 Q1276.72 1562.63 1279.2 1561.26 L1279.2 1566.68 Q1276.75 1567.82 1274.11 1568.39 Q1271.5 1568.97 1268.54 1568.97 Q1260.49 1568.97 1255.74 1563.91 Q1251 1558.85 1251 1550.25 Q1251 1541.53 1255.78 1536.53 Q1260.58 1531.54 1268.92 1531.54 Q1271.63 1531.54 1274.2 1532.11 Q1276.78 1532.65 1279.2 1533.76 Z\" fill=\"#000000\" fill-rule=\"evenodd\" fill-opacity=\"1\" /><path clip-path=\"url(#clip630)\" d=\"M1289.39 1518.52 L1295.24 1518.52 L1295.24 1568.04 L1289.39 1568.04 L1289.39 1518.52 Z\" fill=\"#000000\" fill-rule=\"evenodd\" fill-opacity=\"1\" /><path clip-path=\"url(#clip630)\" d=\"M1306.89 1553.98 L1306.89 1532.4 L1312.75 1532.4 L1312.75 1553.75 Q1312.75 1558.81 1314.72 1561.36 Q1316.7 1563.87 1320.64 1563.87 Q1325.38 1563.87 1328.12 1560.85 Q1330.89 1557.83 1330.89 1552.61 L1330.89 1532.4 L1336.75 1532.4 L1336.75 1568.04 L1330.89 1568.04 L1330.89 1562.57 Q1328.76 1565.82 1325.93 1567.41 Q1323.13 1568.97 1319.4 1568.97 Q1313.26 1568.97 1310.08 1565.15 Q1306.89 1561.33 1306.89 1553.98 M1321.63 1531.54 L1321.63 1531.54 Z\" fill=\"#000000\" fill-rule=\"evenodd\" fill-opacity=\"1\" /><path clip-path=\"url(#clip630)\" d=\"M1371.54 1533.45 L1371.54 1538.98 Q1369.05 1537.71 1366.38 1537.07 Q1363.71 1536.44 1360.84 1536.44 Q1356.48 1536.44 1354.29 1537.77 Q1352.12 1539.11 1352.12 1541.79 Q1352.12 1543.82 1353.68 1545 Q1355.24 1546.15 1359.95 1547.2 L1361.96 1547.64 Q1368.19 1548.98 1370.8 1551.43 Q1373.45 1553.85 1373.45 1558.21 Q1373.45 1563.17 1369.5 1566.07 Q1365.58 1568.97 1358.71 1568.97 Q1355.84 1568.97 1352.73 1568.39 Q1349.64 1567.85 1346.2 1566.74 L1346.2 1560.69 Q1349.45 1562.38 1352.6 1563.24 Q1355.75 1564.07 1358.84 1564.07 Q1362.97 1564.07 1365.2 1562.66 Q1367.43 1561.23 1367.43 1558.65 Q1367.43 1556.27 1365.81 1554.99 Q1364.22 1553.72 1358.77 1552.54 L1356.74 1552.07 Q1351.29 1550.92 1348.87 1548.56 Q1346.46 1546.18 1346.46 1542.04 Q1346.46 1537.01 1350.02 1534.27 Q1353.59 1531.54 1360.14 1531.54 Q1363.39 1531.54 1366.25 1532.01 Q1369.12 1532.49 1371.54 1533.45 Z\" fill=\"#000000\" fill-rule=\"evenodd\" fill-opacity=\"1\" /><path clip-path=\"url(#clip630)\" d=\"M1388.56 1522.27 L1388.56 1532.4 L1400.63 1532.4 L1400.63 1536.95 L1388.56 1536.95 L1388.56 1556.3 Q1388.56 1560.66 1389.74 1561.9 Q1390.95 1563.14 1394.61 1563.14 L1400.63 1563.14 L1400.63 1568.04 L1394.61 1568.04 Q1387.83 1568.04 1385.25 1565.53 Q1382.68 1562.98 1382.68 1556.3 L1382.68 1536.95 L1378.38 1536.95 L1378.38 1532.4 L1382.68 1532.4 L1382.68 1522.27 L1388.56 1522.27 Z\" fill=\"#000000\" fill-rule=\"evenodd\" fill-opacity=\"1\" /><path clip-path=\"url(#clip630)\" d=\"M1438.82 1548.76 L1438.82 1551.62 L1411.89 1551.62 Q1412.28 1557.67 1415.52 1560.85 Q1418.8 1564 1424.63 1564 Q1428 1564 1431.15 1563.17 Q1434.33 1562.35 1437.45 1560.69 L1437.45 1566.23 Q1434.3 1567.57 1430.99 1568.27 Q1427.68 1568.97 1424.28 1568.97 Q1415.75 1568.97 1410.75 1564 Q1405.78 1559.04 1405.78 1550.57 Q1405.78 1541.82 1410.49 1536.69 Q1415.24 1531.54 1423.26 1531.54 Q1430.45 1531.54 1434.62 1536.18 Q1438.82 1540.8 1438.82 1548.76 M1432.97 1547.04 Q1432.9 1542.23 1430.26 1539.37 Q1427.65 1536.5 1423.32 1536.5 Q1418.42 1536.5 1415.46 1539.27 Q1412.53 1542.04 1412.09 1547.07 L1432.97 1547.04 Z\" fill=\"#000000\" fill-rule=\"evenodd\" fill-opacity=\"1\" /><path clip-path=\"url(#clip630)\" d=\"M1469.09 1537.87 Q1468.1 1537.3 1466.93 1537.04 Q1465.78 1536.76 1464.38 1536.76 Q1459.41 1536.76 1456.74 1540 Q1454.1 1543.22 1454.1 1549.27 L1454.1 1568.04 L1448.21 1568.04 L1448.21 1532.4 L1454.1 1532.4 L1454.1 1537.93 Q1455.95 1534.69 1458.91 1533.13 Q1461.87 1531.54 1466.1 1531.54 Q1466.7 1531.54 1467.44 1531.63 Q1468.17 1531.7 1469.06 1531.85 L1469.09 1537.87 Z\" fill=\"#000000\" fill-rule=\"evenodd\" fill-opacity=\"1\" /><path clip-path=\"url(#clip630)\" d=\"M1497.96 1533.45 L1497.96 1538.98 Q1495.48 1537.71 1492.8 1537.07 Q1490.13 1536.44 1487.26 1536.44 Q1482.9 1536.44 1480.71 1537.77 Q1478.54 1539.11 1478.54 1541.79 Q1478.54 1543.82 1480.1 1545 Q1481.66 1546.15 1486.37 1547.2 L1488.38 1547.64 Q1494.62 1548.98 1497.23 1551.43 Q1499.87 1553.85 1499.87 1558.21 Q1499.87 1563.17 1495.92 1566.07 Q1492.01 1568.97 1485.13 1568.97 Q1482.27 1568.97 1479.15 1568.39 Q1476.06 1567.85 1472.62 1566.74 L1472.62 1560.69 Q1475.87 1562.38 1479.02 1563.24 Q1482.17 1564.07 1485.26 1564.07 Q1489.4 1564.07 1491.63 1562.66 Q1493.85 1561.23 1493.85 1558.65 Q1493.85 1556.27 1492.23 1554.99 Q1490.64 1553.72 1485.2 1552.54 L1483.16 1552.07 Q1477.72 1550.92 1475.3 1548.56 Q1472.88 1546.18 1472.88 1542.04 Q1472.88 1537.01 1476.44 1534.27 Q1480.01 1531.54 1486.56 1531.54 Q1489.81 1531.54 1492.68 1532.01 Q1495.54 1532.49 1497.96 1533.45 Z\" fill=\"#000000\" fill-rule=\"evenodd\" fill-opacity=\"1\" /><polyline clip-path=\"url(#clip632)\" style=\"stroke:#000000; stroke-linecap:butt; stroke-linejoin:round; stroke-width:2; stroke-opacity:0.1; fill:none\" points=\"\n",
       "  338.404,1384.24 2352.76,1384.24 \n",
       "  \"/>\n",
       "<polyline clip-path=\"url(#clip632)\" style=\"stroke:#000000; stroke-linecap:butt; stroke-linejoin:round; stroke-width:2; stroke-opacity:0.1; fill:none\" points=\"\n",
       "  338.404,1142.36 2352.76,1142.36 \n",
       "  \"/>\n",
       "<polyline clip-path=\"url(#clip632)\" style=\"stroke:#000000; stroke-linecap:butt; stroke-linejoin:round; stroke-width:2; stroke-opacity:0.1; fill:none\" points=\"\n",
       "  338.404,900.485 2352.76,900.485 \n",
       "  \"/>\n",
       "<polyline clip-path=\"url(#clip632)\" style=\"stroke:#000000; stroke-linecap:butt; stroke-linejoin:round; stroke-width:2; stroke-opacity:0.1; fill:none\" points=\"\n",
       "  338.404,658.608 2352.76,658.608 \n",
       "  \"/>\n",
       "<polyline clip-path=\"url(#clip632)\" style=\"stroke:#000000; stroke-linecap:butt; stroke-linejoin:round; stroke-width:2; stroke-opacity:0.1; fill:none\" points=\"\n",
       "  338.404,416.732 2352.76,416.732 \n",
       "  \"/>\n",
       "<polyline clip-path=\"url(#clip632)\" style=\"stroke:#000000; stroke-linecap:butt; stroke-linejoin:round; stroke-width:2; stroke-opacity:0.1; fill:none\" points=\"\n",
       "  338.404,174.855 2352.76,174.855 \n",
       "  \"/>\n",
       "<polyline clip-path=\"url(#clip630)\" style=\"stroke:#000000; stroke-linecap:butt; stroke-linejoin:round; stroke-width:4; stroke-opacity:1; fill:none\" points=\"\n",
       "  338.404,1423.18 338.404,47.2441 \n",
       "  \"/>\n",
       "<polyline clip-path=\"url(#clip630)\" style=\"stroke:#000000; stroke-linecap:butt; stroke-linejoin:round; stroke-width:4; stroke-opacity:1; fill:none\" points=\"\n",
       "  338.404,1384.24 357.302,1384.24 \n",
       "  \"/>\n",
       "<polyline clip-path=\"url(#clip630)\" style=\"stroke:#000000; stroke-linecap:butt; stroke-linejoin:round; stroke-width:4; stroke-opacity:1; fill:none\" points=\"\n",
       "  338.404,1142.36 357.302,1142.36 \n",
       "  \"/>\n",
       "<polyline clip-path=\"url(#clip630)\" style=\"stroke:#000000; stroke-linecap:butt; stroke-linejoin:round; stroke-width:4; stroke-opacity:1; fill:none\" points=\"\n",
       "  338.404,900.485 357.302,900.485 \n",
       "  \"/>\n",
       "<polyline clip-path=\"url(#clip630)\" style=\"stroke:#000000; stroke-linecap:butt; stroke-linejoin:round; stroke-width:4; stroke-opacity:1; fill:none\" points=\"\n",
       "  338.404,658.608 357.302,658.608 \n",
       "  \"/>\n",
       "<polyline clip-path=\"url(#clip630)\" style=\"stroke:#000000; stroke-linecap:butt; stroke-linejoin:round; stroke-width:4; stroke-opacity:1; fill:none\" points=\"\n",
       "  338.404,416.732 357.302,416.732 \n",
       "  \"/>\n",
       "<polyline clip-path=\"url(#clip630)\" style=\"stroke:#000000; stroke-linecap:butt; stroke-linejoin:round; stroke-width:4; stroke-opacity:1; fill:none\" points=\"\n",
       "  338.404,174.855 357.302,174.855 \n",
       "  \"/>\n",
       "<path clip-path=\"url(#clip630)\" d=\"M290.46 1370.04 Q286.849 1370.04 285.02 1373.6 Q283.215 1377.14 283.215 1384.27 Q283.215 1391.38 285.02 1394.94 Q286.849 1398.49 290.46 1398.49 Q294.094 1398.49 295.9 1394.94 Q297.729 1391.38 297.729 1384.27 Q297.729 1377.14 295.9 1373.6 Q294.094 1370.04 290.46 1370.04 M290.46 1366.33 Q296.27 1366.33 299.326 1370.94 Q302.404 1375.52 302.404 1384.27 Q302.404 1393 299.326 1397.61 Q296.27 1402.19 290.46 1402.19 Q284.65 1402.19 281.571 1397.61 Q278.516 1393 278.516 1384.27 Q278.516 1375.52 281.571 1370.94 Q284.65 1366.33 290.46 1366.33 Z\" fill=\"#000000\" fill-rule=\"evenodd\" fill-opacity=\"1\" /><path clip-path=\"url(#clip630)\" d=\"M117.825 1162.15 L125.464 1162.15 L125.464 1135.79 L117.154 1137.46 L117.154 1133.2 L125.418 1131.53 L130.093 1131.53 L130.093 1162.15 L137.732 1162.15 L137.732 1166.09 L117.825 1166.09 L117.825 1162.15 Z\" fill=\"#000000\" fill-rule=\"evenodd\" fill-opacity=\"1\" /><path clip-path=\"url(#clip630)\" d=\"M147.177 1160.21 L152.061 1160.21 L152.061 1166.09 L147.177 1166.09 L147.177 1160.21 Z\" fill=\"#000000\" fill-rule=\"evenodd\" fill-opacity=\"1\" /><path clip-path=\"url(#clip630)\" d=\"M172.246 1134.61 Q168.635 1134.61 166.806 1138.17 Q165.001 1141.71 165.001 1148.84 Q165.001 1155.95 166.806 1159.52 Q168.635 1163.06 172.246 1163.06 Q175.88 1163.06 177.686 1159.52 Q179.514 1155.95 179.514 1148.84 Q179.514 1141.71 177.686 1138.17 Q175.88 1134.61 172.246 1134.61 M172.246 1130.9 Q178.056 1130.9 181.112 1135.51 Q184.19 1140.09 184.19 1148.84 Q184.19 1157.57 181.112 1162.18 Q178.056 1166.76 172.246 1166.76 Q166.436 1166.76 163.357 1162.18 Q160.302 1157.57 160.302 1148.84 Q160.302 1140.09 163.357 1135.51 Q166.436 1130.9 172.246 1130.9 Z\" fill=\"#000000\" fill-rule=\"evenodd\" fill-opacity=\"1\" /><path clip-path=\"url(#clip630)\" d=\"M220.579 1140.63 L210 1151.25 L220.579 1161.83 L217.824 1164.63 L207.199 1154.01 L196.575 1164.63 L193.843 1161.83 L204.399 1151.25 L193.843 1140.63 L196.575 1137.83 L207.199 1148.45 L217.824 1137.83 L220.579 1140.63 Z\" fill=\"#000000\" fill-rule=\"evenodd\" fill-opacity=\"1\" /><path clip-path=\"url(#clip630)\" d=\"M232.94 1162.15 L240.579 1162.15 L240.579 1135.79 L232.269 1137.46 L232.269 1133.2 L240.533 1131.53 L245.209 1131.53 L245.209 1162.15 L252.847 1162.15 L252.847 1166.09 L232.94 1166.09 L232.94 1162.15 Z\" fill=\"#000000\" fill-rule=\"evenodd\" fill-opacity=\"1\" /><path clip-path=\"url(#clip630)\" d=\"M272.292 1134.61 Q268.681 1134.61 266.852 1138.17 Q265.046 1141.71 265.046 1148.84 Q265.046 1155.95 266.852 1159.52 Q268.681 1163.06 272.292 1163.06 Q275.926 1163.06 277.732 1159.52 Q279.56 1155.95 279.56 1148.84 Q279.56 1141.71 277.732 1138.17 Q275.926 1134.61 272.292 1134.61 M272.292 1130.9 Q278.102 1130.9 281.157 1135.51 Q284.236 1140.09 284.236 1148.84 Q284.236 1157.57 281.157 1162.18 Q278.102 1166.76 272.292 1166.76 Q266.482 1166.76 263.403 1162.18 Q260.347 1157.57 260.347 1148.84 Q260.347 1140.09 263.403 1135.51 Q266.482 1130.9 272.292 1130.9 Z\" fill=\"#000000\" fill-rule=\"evenodd\" fill-opacity=\"1\" /><path clip-path=\"url(#clip630)\" d=\"M285.421 1110.6 L300.336 1110.6 L300.336 1113.8 L288.9 1113.8 L288.9 1120.68 Q289.728 1120.4 290.556 1120.27 Q291.383 1120.12 292.211 1120.12 Q296.913 1120.12 299.658 1122.69 Q302.404 1125.27 302.404 1129.67 Q302.404 1134.2 299.583 1136.72 Q296.762 1139.22 291.628 1139.22 Q289.86 1139.22 288.016 1138.92 Q286.192 1138.62 284.236 1138.02 L284.236 1134.2 Q285.929 1135.12 287.734 1135.58 Q289.54 1136.03 291.552 1136.03 Q294.806 1136.03 296.706 1134.32 Q298.605 1132.6 298.605 1129.67 Q298.605 1126.74 296.706 1125.02 Q294.806 1123.31 291.552 1123.31 Q290.029 1123.31 288.505 1123.65 Q287.001 1123.99 285.421 1124.7 L285.421 1110.6 Z\" fill=\"#000000\" fill-rule=\"evenodd\" fill-opacity=\"1\" /><path clip-path=\"url(#clip630)\" d=\"M121.043 920.278 L137.362 920.278 L137.362 924.213 L115.418 924.213 L115.418 920.278 Q118.08 917.523 122.663 912.893 Q127.269 908.241 128.45 906.898 Q130.695 904.375 131.575 902.639 Q132.478 900.879 132.478 899.19 Q132.478 896.435 130.533 894.699 Q128.612 892.963 125.51 892.963 Q123.311 892.963 120.857 893.727 Q118.427 894.491 115.649 896.042 L115.649 891.319 Q118.473 890.185 120.927 889.606 Q123.38 889.028 125.418 889.028 Q130.788 889.028 133.982 891.713 Q137.177 894.398 137.177 898.889 Q137.177 901.018 136.367 902.94 Q135.579 904.838 133.473 907.43 Q132.894 908.102 129.792 911.319 Q126.691 914.514 121.043 920.278 Z\" fill=\"#000000\" fill-rule=\"evenodd\" fill-opacity=\"1\" /><path clip-path=\"url(#clip630)\" d=\"M147.177 918.333 L152.061 918.333 L152.061 924.213 L147.177 924.213 L147.177 918.333 Z\" fill=\"#000000\" fill-rule=\"evenodd\" fill-opacity=\"1\" /><path clip-path=\"url(#clip630)\" d=\"M172.246 892.731 Q168.635 892.731 166.806 896.296 Q165.001 899.838 165.001 906.967 Q165.001 914.074 166.806 917.639 Q168.635 921.18 172.246 921.18 Q175.88 921.18 177.686 917.639 Q179.514 914.074 179.514 906.967 Q179.514 899.838 177.686 896.296 Q175.88 892.731 172.246 892.731 M172.246 889.028 Q178.056 889.028 181.112 893.634 Q184.19 898.217 184.19 906.967 Q184.19 915.694 181.112 920.301 Q178.056 924.884 172.246 924.884 Q166.436 924.884 163.357 920.301 Q160.302 915.694 160.302 906.967 Q160.302 898.217 163.357 893.634 Q166.436 889.028 172.246 889.028 Z\" fill=\"#000000\" fill-rule=\"evenodd\" fill-opacity=\"1\" /><path clip-path=\"url(#clip630)\" d=\"M220.579 898.75 L210 909.375 L220.579 919.953 L217.824 922.754 L207.199 912.129 L196.575 922.754 L193.843 919.953 L204.399 909.375 L193.843 898.75 L196.575 895.949 L207.199 906.574 L217.824 895.949 L220.579 898.75 Z\" fill=\"#000000\" fill-rule=\"evenodd\" fill-opacity=\"1\" /><path clip-path=\"url(#clip630)\" d=\"M232.94 920.278 L240.579 920.278 L240.579 893.912 L232.269 895.579 L232.269 891.319 L240.533 889.653 L245.209 889.653 L245.209 920.278 L252.847 920.278 L252.847 924.213 L232.94 924.213 L232.94 920.278 Z\" fill=\"#000000\" fill-rule=\"evenodd\" fill-opacity=\"1\" /><path clip-path=\"url(#clip630)\" d=\"M272.292 892.731 Q268.681 892.731 266.852 896.296 Q265.046 899.838 265.046 906.967 Q265.046 914.074 266.852 917.639 Q268.681 921.18 272.292 921.18 Q275.926 921.18 277.732 917.639 Q279.56 914.074 279.56 906.967 Q279.56 899.838 277.732 896.296 Q275.926 892.731 272.292 892.731 M272.292 889.028 Q278.102 889.028 281.157 893.634 Q284.236 898.217 284.236 906.967 Q284.236 915.694 281.157 920.301 Q278.102 924.884 272.292 924.884 Q266.482 924.884 263.403 920.301 Q260.347 915.694 260.347 906.967 Q260.347 898.217 263.403 893.634 Q266.482 889.028 272.292 889.028 Z\" fill=\"#000000\" fill-rule=\"evenodd\" fill-opacity=\"1\" /><path clip-path=\"url(#clip630)\" d=\"M285.421 868.722 L300.336 868.722 L300.336 871.92 L288.9 871.92 L288.9 878.803 Q289.728 878.521 290.556 878.389 Q291.383 878.239 292.211 878.239 Q296.913 878.239 299.658 880.816 Q302.404 883.392 302.404 887.793 Q302.404 892.326 299.583 894.846 Q296.762 897.348 291.628 897.348 Q289.86 897.348 288.016 897.047 Q286.192 896.746 284.236 896.144 L284.236 892.326 Q285.929 893.248 287.734 893.699 Q289.54 894.15 291.552 894.15 Q294.806 894.15 296.706 892.439 Q298.605 890.727 298.605 887.793 Q298.605 884.859 296.706 883.148 Q294.806 881.436 291.552 881.436 Q290.029 881.436 288.505 881.775 Q287.001 882.113 285.421 882.828 L285.421 868.722 Z\" fill=\"#000000\" fill-rule=\"evenodd\" fill-opacity=\"1\" /><path clip-path=\"url(#clip630)\" d=\"M131.181 663.702 Q134.538 664.42 136.413 666.688 Q138.311 668.957 138.311 672.29 Q138.311 677.406 134.792 680.206 Q131.274 683.007 124.793 683.007 Q122.617 683.007 120.302 682.568 Q118.01 682.151 115.556 681.294 L115.556 676.781 Q117.501 677.915 119.816 678.494 Q122.13 679.072 124.654 679.072 Q129.052 679.072 131.343 677.336 Q133.658 675.6 133.658 672.29 Q133.658 669.234 131.505 667.521 Q129.376 665.785 125.556 665.785 L121.529 665.785 L121.529 661.943 L125.742 661.943 Q129.191 661.943 131.019 660.577 Q132.848 659.188 132.848 656.595 Q132.848 653.933 130.95 652.521 Q129.075 651.086 125.556 651.086 Q123.635 651.086 121.436 651.503 Q119.237 651.92 116.598 652.799 L116.598 648.633 Q119.26 647.892 121.575 647.521 Q123.913 647.151 125.973 647.151 Q131.297 647.151 134.399 649.582 Q137.501 651.989 137.501 656.109 Q137.501 658.98 135.857 660.97 Q134.214 662.938 131.181 663.702 Z\" fill=\"#000000\" fill-rule=\"evenodd\" fill-opacity=\"1\" /><path clip-path=\"url(#clip630)\" d=\"M147.177 676.456 L152.061 676.456 L152.061 682.336 L147.177 682.336 L147.177 676.456 Z\" fill=\"#000000\" fill-rule=\"evenodd\" fill-opacity=\"1\" /><path clip-path=\"url(#clip630)\" d=\"M172.246 650.855 Q168.635 650.855 166.806 654.42 Q165.001 657.961 165.001 665.091 Q165.001 672.197 166.806 675.762 Q168.635 679.304 172.246 679.304 Q175.88 679.304 177.686 675.762 Q179.514 672.197 179.514 665.091 Q179.514 657.961 177.686 654.42 Q175.88 650.855 172.246 650.855 M172.246 647.151 Q178.056 647.151 181.112 651.758 Q184.19 656.341 184.19 665.091 Q184.19 673.818 181.112 678.424 Q178.056 683.007 172.246 683.007 Q166.436 683.007 163.357 678.424 Q160.302 673.818 160.302 665.091 Q160.302 656.341 163.357 651.758 Q166.436 647.151 172.246 647.151 Z\" fill=\"#000000\" fill-rule=\"evenodd\" fill-opacity=\"1\" /><path clip-path=\"url(#clip630)\" d=\"M220.579 656.873 L210 667.498 L220.579 678.077 L217.824 680.878 L207.199 670.253 L196.575 680.878 L193.843 678.077 L204.399 667.498 L193.843 656.873 L196.575 654.072 L207.199 664.697 L217.824 654.072 L220.579 656.873 Z\" fill=\"#000000\" fill-rule=\"evenodd\" fill-opacity=\"1\" /><path clip-path=\"url(#clip630)\" d=\"M232.94 678.401 L240.579 678.401 L240.579 652.035 L232.269 653.702 L232.269 649.443 L240.533 647.776 L245.209 647.776 L245.209 678.401 L252.847 678.401 L252.847 682.336 L232.94 682.336 L232.94 678.401 Z\" fill=\"#000000\" fill-rule=\"evenodd\" fill-opacity=\"1\" /><path clip-path=\"url(#clip630)\" d=\"M272.292 650.855 Q268.681 650.855 266.852 654.42 Q265.046 657.961 265.046 665.091 Q265.046 672.197 266.852 675.762 Q268.681 679.304 272.292 679.304 Q275.926 679.304 277.732 675.762 Q279.56 672.197 279.56 665.091 Q279.56 657.961 277.732 654.42 Q275.926 650.855 272.292 650.855 M272.292 647.151 Q278.102 647.151 281.157 651.758 Q284.236 656.341 284.236 665.091 Q284.236 673.818 281.157 678.424 Q278.102 683.007 272.292 683.007 Q266.482 683.007 263.403 678.424 Q260.347 673.818 260.347 665.091 Q260.347 656.341 263.403 651.758 Q266.482 647.151 272.292 647.151 Z\" fill=\"#000000\" fill-rule=\"evenodd\" fill-opacity=\"1\" /><path clip-path=\"url(#clip630)\" d=\"M285.421 626.846 L300.336 626.846 L300.336 630.043 L288.9 630.043 L288.9 636.927 Q289.728 636.645 290.556 636.513 Q291.383 636.362 292.211 636.362 Q296.913 636.362 299.658 638.939 Q302.404 641.516 302.404 645.917 Q302.404 650.449 299.583 652.97 Q296.762 655.471 291.628 655.471 Q289.86 655.471 288.016 655.17 Q286.192 654.869 284.236 654.267 L284.236 650.449 Q285.929 651.371 287.734 651.822 Q289.54 652.274 291.552 652.274 Q294.806 652.274 296.706 650.562 Q298.605 648.851 298.605 645.917 Q298.605 642.983 296.706 641.271 Q294.806 639.56 291.552 639.56 Q290.029 639.56 288.505 639.898 Q287.001 640.237 285.421 640.952 L285.421 626.846 Z\" fill=\"#000000\" fill-rule=\"evenodd\" fill-opacity=\"1\" /><path clip-path=\"url(#clip630)\" d=\"M129.862 409.974 L118.056 428.423 L129.862 428.423 L129.862 409.974 M128.635 405.899 L134.515 405.899 L134.515 428.423 L139.445 428.423 L139.445 432.311 L134.515 432.311 L134.515 440.459 L129.862 440.459 L129.862 432.311 L114.26 432.311 L114.26 427.798 L128.635 405.899 Z\" fill=\"#000000\" fill-rule=\"evenodd\" fill-opacity=\"1\" /><path clip-path=\"url(#clip630)\" d=\"M147.177 434.58 L152.061 434.58 L152.061 440.459 L147.177 440.459 L147.177 434.58 Z\" fill=\"#000000\" fill-rule=\"evenodd\" fill-opacity=\"1\" /><path clip-path=\"url(#clip630)\" d=\"M172.246 408.978 Q168.635 408.978 166.806 412.543 Q165.001 416.085 165.001 423.214 Q165.001 430.321 166.806 433.885 Q168.635 437.427 172.246 437.427 Q175.88 437.427 177.686 433.885 Q179.514 430.321 179.514 423.214 Q179.514 416.085 177.686 412.543 Q175.88 408.978 172.246 408.978 M172.246 405.274 Q178.056 405.274 181.112 409.881 Q184.19 414.464 184.19 423.214 Q184.19 431.941 181.112 436.547 Q178.056 441.131 172.246 441.131 Q166.436 441.131 163.357 436.547 Q160.302 431.941 160.302 423.214 Q160.302 414.464 163.357 409.881 Q166.436 405.274 172.246 405.274 Z\" fill=\"#000000\" fill-rule=\"evenodd\" fill-opacity=\"1\" /><path clip-path=\"url(#clip630)\" d=\"M220.579 414.997 L210 425.622 L220.579 436.2 L217.824 439.001 L207.199 428.376 L196.575 439.001 L193.843 436.2 L204.399 425.622 L193.843 414.997 L196.575 412.196 L207.199 422.821 L217.824 412.196 L220.579 414.997 Z\" fill=\"#000000\" fill-rule=\"evenodd\" fill-opacity=\"1\" /><path clip-path=\"url(#clip630)\" d=\"M232.94 436.524 L240.579 436.524 L240.579 410.159 L232.269 411.825 L232.269 407.566 L240.533 405.899 L245.209 405.899 L245.209 436.524 L252.847 436.524 L252.847 440.459 L232.94 440.459 L232.94 436.524 Z\" fill=\"#000000\" fill-rule=\"evenodd\" fill-opacity=\"1\" /><path clip-path=\"url(#clip630)\" d=\"M272.292 408.978 Q268.681 408.978 266.852 412.543 Q265.046 416.085 265.046 423.214 Q265.046 430.321 266.852 433.885 Q268.681 437.427 272.292 437.427 Q275.926 437.427 277.732 433.885 Q279.56 430.321 279.56 423.214 Q279.56 416.085 277.732 412.543 Q275.926 408.978 272.292 408.978 M272.292 405.274 Q278.102 405.274 281.157 409.881 Q284.236 414.464 284.236 423.214 Q284.236 431.941 281.157 436.547 Q278.102 441.131 272.292 441.131 Q266.482 441.131 263.403 436.547 Q260.347 431.941 260.347 423.214 Q260.347 414.464 263.403 409.881 Q266.482 405.274 272.292 405.274 Z\" fill=\"#000000\" fill-rule=\"evenodd\" fill-opacity=\"1\" /><path clip-path=\"url(#clip630)\" d=\"M285.421 384.969 L300.336 384.969 L300.336 388.166 L288.9 388.166 L288.9 395.05 Q289.728 394.768 290.556 394.636 Q291.383 394.486 292.211 394.486 Q296.913 394.486 299.658 397.062 Q302.404 399.639 302.404 404.04 Q302.404 408.573 299.583 411.093 Q296.762 413.595 291.628 413.595 Q289.86 413.595 288.016 413.294 Q286.192 412.993 284.236 412.391 L284.236 408.573 Q285.929 409.494 287.734 409.946 Q289.54 410.397 291.552 410.397 Q294.806 410.397 296.706 408.686 Q298.605 406.974 298.605 404.04 Q298.605 401.106 296.706 399.395 Q294.806 397.683 291.552 397.683 Q290.029 397.683 288.505 398.022 Q287.001 398.36 285.421 399.075 L285.421 384.969 Z\" fill=\"#000000\" fill-rule=\"evenodd\" fill-opacity=\"1\" /><path clip-path=\"url(#clip630)\" d=\"M117.061 164.023 L135.417 164.023 L135.417 167.958 L121.343 167.958 L121.343 176.43 Q122.362 176.083 123.38 175.921 Q124.399 175.736 125.418 175.736 Q131.205 175.736 134.584 178.907 Q137.964 182.078 137.964 187.495 Q137.964 193.074 134.492 196.175 Q131.019 199.254 124.7 199.254 Q122.524 199.254 120.255 198.884 Q118.01 198.513 115.603 197.773 L115.603 193.074 Q117.686 194.208 119.908 194.763 Q122.13 195.319 124.607 195.319 Q128.612 195.319 130.95 193.213 Q133.288 191.106 133.288 187.495 Q133.288 183.884 130.95 181.777 Q128.612 179.671 124.607 179.671 Q122.732 179.671 120.857 180.088 Q119.006 180.504 117.061 181.384 L117.061 164.023 Z\" fill=\"#000000\" fill-rule=\"evenodd\" fill-opacity=\"1\" /><path clip-path=\"url(#clip630)\" d=\"M147.177 192.703 L152.061 192.703 L152.061 198.583 L147.177 198.583 L147.177 192.703 Z\" fill=\"#000000\" fill-rule=\"evenodd\" fill-opacity=\"1\" /><path clip-path=\"url(#clip630)\" d=\"M172.246 167.102 Q168.635 167.102 166.806 170.666 Q165.001 174.208 165.001 181.338 Q165.001 188.444 166.806 192.009 Q168.635 195.55 172.246 195.55 Q175.88 195.55 177.686 192.009 Q179.514 188.444 179.514 181.338 Q179.514 174.208 177.686 170.666 Q175.88 167.102 172.246 167.102 M172.246 163.398 Q178.056 163.398 181.112 168.004 Q184.19 172.588 184.19 181.338 Q184.19 190.064 181.112 194.671 Q178.056 199.254 172.246 199.254 Q166.436 199.254 163.357 194.671 Q160.302 190.064 160.302 181.338 Q160.302 172.588 163.357 168.004 Q166.436 163.398 172.246 163.398 Z\" fill=\"#000000\" fill-rule=\"evenodd\" fill-opacity=\"1\" /><path clip-path=\"url(#clip630)\" d=\"M220.579 173.12 L210 183.745 L220.579 194.324 L217.824 197.125 L207.199 186.5 L196.575 197.125 L193.843 194.324 L204.399 183.745 L193.843 173.12 L196.575 170.319 L207.199 180.944 L217.824 170.319 L220.579 173.12 Z\" fill=\"#000000\" fill-rule=\"evenodd\" fill-opacity=\"1\" /><path clip-path=\"url(#clip630)\" d=\"M232.94 194.648 L240.579 194.648 L240.579 168.282 L232.269 169.949 L232.269 165.69 L240.533 164.023 L245.209 164.023 L245.209 194.648 L252.847 194.648 L252.847 198.583 L232.94 198.583 L232.94 194.648 Z\" fill=\"#000000\" fill-rule=\"evenodd\" fill-opacity=\"1\" /><path clip-path=\"url(#clip630)\" d=\"M272.292 167.102 Q268.681 167.102 266.852 170.666 Q265.046 174.208 265.046 181.338 Q265.046 188.444 266.852 192.009 Q268.681 195.55 272.292 195.55 Q275.926 195.55 277.732 192.009 Q279.56 188.444 279.56 181.338 Q279.56 174.208 277.732 170.666 Q275.926 167.102 272.292 167.102 M272.292 163.398 Q278.102 163.398 281.157 168.004 Q284.236 172.588 284.236 181.338 Q284.236 190.064 281.157 194.671 Q278.102 199.254 272.292 199.254 Q266.482 199.254 263.403 194.671 Q260.347 190.064 260.347 181.338 Q260.347 172.588 263.403 168.004 Q266.482 163.398 272.292 163.398 Z\" fill=\"#000000\" fill-rule=\"evenodd\" fill-opacity=\"1\" /><path clip-path=\"url(#clip630)\" d=\"M285.421 143.092 L300.336 143.092 L300.336 146.29 L288.9 146.29 L288.9 153.173 Q289.728 152.891 290.556 152.76 Q291.383 152.609 292.211 152.609 Q296.913 152.609 299.658 155.186 Q302.404 157.763 302.404 162.164 Q302.404 166.696 299.583 169.216 Q296.762 171.718 291.628 171.718 Q289.86 171.718 288.016 171.417 Q286.192 171.116 284.236 170.514 L284.236 166.696 Q285.929 167.618 287.734 168.069 Q289.54 168.521 291.552 168.521 Q294.806 168.521 296.706 166.809 Q298.605 165.098 298.605 162.164 Q298.605 159.23 296.706 157.518 Q294.806 155.807 291.552 155.807 Q290.029 155.807 288.505 156.145 Q287.001 156.484 285.421 157.198 L285.421 143.092 Z\" fill=\"#000000\" fill-rule=\"evenodd\" fill-opacity=\"1\" /><path clip-path=\"url(#clip630)\" d=\"M28.3562 1212.21 L28.3562 1206.35 L56.1743 1199.03 L28.3562 1191.74 L28.3562 1184.84 L56.1743 1177.52 L28.3562 1170.23 L28.3562 1164.37 L64.0042 1173.7 L64.0042 1180.6 L34.7856 1188.28 L64.0042 1195.98 L64.0042 1202.88 L28.3562 1212.21 Z\" fill=\"#000000\" fill-rule=\"evenodd\" fill-opacity=\"1\" /><path clip-path=\"url(#clip630)\" d=\"M28.3562 1155.49 L28.3562 1149.64 L64.0042 1149.64 L64.0042 1155.49 L28.3562 1155.49 M14.479 1155.49 L14.479 1149.64 L21.895 1149.64 L21.895 1155.49 L14.479 1155.49 Z\" fill=\"#000000\" fill-rule=\"evenodd\" fill-opacity=\"1\" /><path clip-path=\"url(#clip630)\" d=\"M18.2347 1131.59 L28.3562 1131.59 L28.3562 1119.53 L32.9077 1119.53 L32.9077 1131.59 L52.2594 1131.59 Q56.6199 1131.59 57.8613 1130.41 Q59.1026 1129.2 59.1026 1125.54 L59.1026 1119.53 L64.0042 1119.53 L64.0042 1125.54 Q64.0042 1132.32 61.4897 1134.9 Q58.9434 1137.48 52.2594 1137.48 L32.9077 1137.48 L32.9077 1141.77 L28.3562 1141.77 L28.3562 1137.48 L18.2347 1137.48 L18.2347 1131.59 Z\" fill=\"#000000\" fill-rule=\"evenodd\" fill-opacity=\"1\" /><path clip-path=\"url(#clip630)\" d=\"M42.4881 1082.19 L64.0042 1082.19 L64.0042 1088.05 L42.679 1088.05 Q37.6183 1088.05 35.1038 1090.02 Q32.5894 1091.99 32.5894 1095.94 Q32.5894 1100.68 35.6131 1103.42 Q38.6368 1106.16 43.8567 1106.16 L64.0042 1106.16 L64.0042 1112.05 L14.479 1112.05 L14.479 1106.16 L33.8944 1106.16 Q30.6797 1104.06 29.0883 1101.22 Q27.4968 1098.36 27.4968 1094.64 Q27.4968 1088.49 31.3163 1085.34 Q35.1038 1082.19 42.4881 1082.19 Z\" fill=\"#000000\" fill-rule=\"evenodd\" fill-opacity=\"1\" /><path clip-path=\"url(#clip630)\" d=\"M28.3562 1070.51 L28.3562 1064.65 L64.0042 1064.65 L64.0042 1070.51 L28.3562 1070.51 M14.479 1070.51 L14.479 1064.65 L21.895 1064.65 L21.895 1070.51 L14.479 1070.51 Z\" fill=\"#000000\" fill-rule=\"evenodd\" fill-opacity=\"1\" /><path clip-path=\"url(#clip630)\" d=\"M42.4881 1022.77 L64.0042 1022.77 L64.0042 1028.62 L42.679 1028.62 Q37.6183 1028.62 35.1038 1030.6 Q32.5894 1032.57 32.5894 1036.52 Q32.5894 1041.26 35.6131 1044 Q38.6368 1046.73 43.8567 1046.73 L64.0042 1046.73 L64.0042 1052.62 L28.3562 1052.62 L28.3562 1046.73 L33.8944 1046.73 Q30.6797 1044.63 29.0883 1041.8 Q27.4968 1038.94 27.4968 1035.21 Q27.4968 1029.07 31.3163 1025.92 Q35.1038 1022.77 42.4881 1022.77 Z\" fill=\"#000000\" fill-rule=\"evenodd\" fill-opacity=\"1\" /><path clip-path=\"url(#clip630)\" d=\"M29.7248 964.712 L35.1993 964.712 Q33.8307 967.194 33.1623 969.709 Q32.4621 972.191 32.4621 974.738 Q32.4621 980.435 36.0905 983.586 Q39.6872 986.737 46.212 986.737 Q52.7369 986.737 56.3653 983.586 Q59.9619 980.435 59.9619 974.738 Q59.9619 972.191 59.2935 969.709 Q58.5933 967.194 57.2247 964.712 L62.6355 964.712 Q63.7814 967.162 64.3543 969.804 Q64.9272 972.414 64.9272 975.374 Q64.9272 983.427 59.8664 988.169 Q54.8057 992.912 46.212 992.912 Q37.491 992.912 32.4939 988.137 Q27.4968 983.331 27.4968 974.992 Q27.4968 972.287 28.0697 969.709 Q28.6108 967.131 29.7248 964.712 Z\" fill=\"#000000\" fill-rule=\"evenodd\" fill-opacity=\"1\" /><path clip-path=\"url(#clip630)\" d=\"M14.479 954.526 L14.479 948.67 L64.0042 948.67 L64.0042 954.526 L14.479 954.526 Z\" fill=\"#000000\" fill-rule=\"evenodd\" fill-opacity=\"1\" /><path clip-path=\"url(#clip630)\" d=\"M49.9359 937.021 L28.3562 937.021 L28.3562 931.164 L49.7131 931.164 Q54.7739 931.164 57.3202 929.191 Q59.8346 927.218 59.8346 923.271 Q59.8346 918.528 56.8109 915.791 Q53.7872 913.022 48.5673 913.022 L28.3562 913.022 L28.3562 907.166 L64.0042 907.166 L64.0042 913.022 L58.5296 913.022 Q61.7762 915.155 63.3676 917.987 Q64.9272 920.788 64.9272 924.512 Q64.9272 930.655 61.1078 933.838 Q57.2883 937.021 49.9359 937.021 M27.4968 922.284 L27.4968 922.284 Z\" fill=\"#000000\" fill-rule=\"evenodd\" fill-opacity=\"1\" /><path clip-path=\"url(#clip630)\" d=\"M29.4065 872.377 L34.9447 872.377 Q33.6716 874.86 33.035 877.533 Q32.3984 880.207 32.3984 883.071 Q32.3984 887.432 33.7352 889.628 Q35.072 891.792 37.7456 891.792 Q39.7826 891.792 40.9603 890.233 Q42.1061 888.673 43.1565 883.963 L43.6021 881.957 Q44.9389 875.719 47.3897 873.109 Q49.8086 870.467 54.1691 870.467 Q59.1344 870.467 62.0308 874.414 Q64.9272 878.329 64.9272 885.204 Q64.9272 888.068 64.3543 891.188 Q63.8132 894.275 62.6992 897.713 L56.6518 897.713 Q58.3387 894.466 59.198 891.315 Q60.0256 888.164 60.0256 885.077 Q60.0256 880.939 58.6251 878.711 Q57.1929 876.483 54.6147 876.483 Q52.2276 876.483 50.9545 878.106 Q49.6813 879.698 48.5037 885.14 L48.0262 887.177 Q46.8804 892.62 44.5251 895.039 Q42.138 897.458 38.0002 897.458 Q32.9713 897.458 30.2341 893.893 Q27.4968 890.328 27.4968 883.772 Q27.4968 880.525 27.9743 877.661 Q28.4517 874.796 29.4065 872.377 Z\" fill=\"#000000\" fill-rule=\"evenodd\" fill-opacity=\"1\" /><path clip-path=\"url(#clip630)\" d=\"M18.2347 855.349 L28.3562 855.349 L28.3562 843.286 L32.9077 843.286 L32.9077 855.349 L52.2594 855.349 Q56.6199 855.349 57.8613 854.171 Q59.1026 852.962 59.1026 849.301 L59.1026 843.286 L64.0042 843.286 L64.0042 849.301 Q64.0042 856.081 61.4897 858.659 Q58.9434 861.237 52.2594 861.237 L32.9077 861.237 L32.9077 865.534 L28.3562 865.534 L28.3562 861.237 L18.2347 861.237 L18.2347 855.349 Z\" fill=\"#000000\" fill-rule=\"evenodd\" fill-opacity=\"1\" /><path clip-path=\"url(#clip630)\" d=\"M44.7161 805.092 L47.5806 805.092 L47.5806 832.018 Q53.6281 831.637 56.8109 828.39 Q59.9619 825.112 59.9619 819.287 Q59.9619 815.913 59.1344 812.762 Q58.3069 809.579 56.6518 806.46 L62.1899 806.46 Q63.5267 809.611 64.227 812.921 Q64.9272 816.231 64.9272 819.637 Q64.9272 828.167 59.9619 833.164 Q54.9967 838.13 46.5303 838.13 Q37.7774 838.13 32.6531 833.419 Q27.4968 828.676 27.4968 820.656 Q27.4968 813.462 32.1438 809.293 Q36.7589 805.092 44.7161 805.092 M42.9973 810.948 Q38.1912 811.012 35.3266 813.653 Q32.4621 816.263 32.4621 820.592 Q32.4621 825.494 35.2312 828.454 Q38.0002 831.382 43.0292 831.827 L42.9973 810.948 Z\" fill=\"#000000\" fill-rule=\"evenodd\" fill-opacity=\"1\" /><path clip-path=\"url(#clip630)\" d=\"M33.8307 774.823 Q33.2578 775.809 33.0032 776.987 Q32.7167 778.133 32.7167 779.533 Q32.7167 784.498 35.9632 787.172 Q39.1779 789.814 45.2253 789.814 L64.0042 789.814 L64.0042 795.702 L28.3562 795.702 L28.3562 789.814 L33.8944 789.814 Q30.6479 787.968 29.0883 785.008 Q27.4968 782.048 27.4968 777.814 Q27.4968 777.21 27.5923 776.478 Q27.656 775.746 27.8151 774.854 L33.8307 774.823 Z\" fill=\"#000000\" fill-rule=\"evenodd\" fill-opacity=\"1\" /><path clip-path=\"url(#clip630)\" d=\"M29.4065 725.234 L34.9447 725.234 Q33.6716 727.716 33.035 730.39 Q32.3984 733.064 32.3984 735.928 Q32.3984 740.289 33.7352 742.485 Q35.072 744.649 37.7456 744.649 Q39.7826 744.649 40.9603 743.09 Q42.1061 741.53 43.1565 736.819 L43.6021 734.814 Q44.9389 728.576 47.3897 725.966 Q49.8086 723.324 54.1691 723.324 Q59.1344 723.324 62.0308 727.271 Q64.9272 731.186 64.9272 738.061 Q64.9272 740.925 64.3543 744.044 Q63.8132 747.132 62.6992 750.569 L56.6518 750.569 Q58.3387 747.323 59.198 744.172 Q60.0256 741.021 60.0256 737.933 Q60.0256 733.796 58.6251 731.568 Q57.1929 729.34 54.6147 729.34 Q52.2276 729.34 50.9545 730.963 Q49.6813 732.554 48.5037 737.997 L48.0262 740.034 Q46.8804 745.477 44.5251 747.896 Q42.138 750.315 38.0002 750.315 Q32.9713 750.315 30.2341 746.75 Q27.4968 743.185 27.4968 736.628 Q27.4968 733.382 27.9743 730.517 Q28.4517 727.653 29.4065 725.234 Z\" fill=\"#000000\" fill-rule=\"evenodd\" fill-opacity=\"1\" /><path clip-path=\"url(#clip630)\" d=\"M49.9359 714.603 L28.3562 714.603 L28.3562 708.747 L49.7131 708.747 Q54.7739 708.747 57.3202 706.773 Q59.8346 704.8 59.8346 700.853 Q59.8346 696.111 56.8109 693.373 Q53.7872 690.604 48.5673 690.604 L28.3562 690.604 L28.3562 684.748 L64.0042 684.748 L64.0042 690.604 L58.5296 690.604 Q61.7762 692.737 63.3676 695.57 Q64.9272 698.37 64.9272 702.094 Q64.9272 708.237 61.1078 711.42 Q57.2883 714.603 49.9359 714.603 M27.4968 699.866 L27.4968 699.866 Z\" fill=\"#000000\" fill-rule=\"evenodd\" fill-opacity=\"1\" /><path clip-path=\"url(#clip630)\" d=\"M35.1993 644.93 Q31.2526 642.734 29.3747 639.679 Q27.4968 636.623 27.4968 632.485 Q27.4968 626.915 31.4117 623.892 Q35.2948 620.868 42.4881 620.868 L64.0042 620.868 L64.0042 626.756 L42.679 626.756 Q37.5546 626.756 35.072 628.57 Q32.5894 630.385 32.5894 634.109 Q32.5894 638.66 35.6131 641.302 Q38.6368 643.944 43.8567 643.944 L64.0042 643.944 L64.0042 649.832 L42.679 649.832 Q37.5228 649.832 35.072 651.646 Q32.5894 653.46 32.5894 657.248 Q32.5894 661.736 35.6449 664.378 Q38.6686 667.019 43.8567 667.019 L64.0042 667.019 L64.0042 672.908 L28.3562 672.908 L28.3562 667.019 L33.8944 667.019 Q30.616 665.014 29.0564 662.213 Q27.4968 659.412 27.4968 655.561 Q27.4968 651.678 29.4702 648.973 Q31.4436 646.235 35.1993 644.93 Z\" fill=\"#000000\" fill-rule=\"evenodd\" fill-opacity=\"1\" /><path clip-path=\"url(#clip630)\" d=\"M32.4621 574.653 Q32.4621 579.364 36.1542 582.101 Q39.8145 584.838 46.212 584.838 Q52.6095 584.838 56.3017 582.133 Q59.9619 579.395 59.9619 574.653 Q59.9619 569.974 56.2698 567.237 Q52.5777 564.5 46.212 564.5 Q39.8781 564.5 36.186 567.237 Q32.4621 569.974 32.4621 574.653 M27.4968 574.653 Q27.4968 567.014 32.4621 562.654 Q37.4273 558.293 46.212 558.293 Q54.9649 558.293 59.9619 562.654 Q64.9272 567.014 64.9272 574.653 Q64.9272 582.324 59.9619 586.684 Q54.9649 591.013 46.212 591.013 Q37.4273 591.013 32.4621 586.684 Q27.4968 582.324 27.4968 574.653 Z\" fill=\"#000000\" fill-rule=\"evenodd\" fill-opacity=\"1\" /><path clip-path=\"url(#clip630)\" d=\"M14.479 530.539 L19.3487 530.539 L19.3487 536.14 Q19.3487 539.291 20.6219 540.533 Q21.895 541.742 25.2052 541.742 L28.3562 541.742 L28.3562 532.098 L32.9077 532.098 L32.9077 541.742 L64.0042 541.742 L64.0042 547.631 L32.9077 547.631 L32.9077 553.232 L28.3562 553.232 L28.3562 547.631 L25.8736 547.631 Q19.9216 547.631 17.2162 544.861 Q14.479 542.092 14.479 536.077 L14.479 530.539 Z\" fill=\"#000000\" fill-rule=\"evenodd\" fill-opacity=\"1\" /><path clip-path=\"url(#clip630)\" d=\"M29.4065 482.191 L34.9447 482.191 Q33.6716 484.674 33.035 487.347 Q32.3984 490.021 32.3984 492.885 Q32.3984 497.246 33.7352 499.442 Q35.072 501.606 37.7456 501.606 Q39.7826 501.606 40.9603 500.047 Q42.1061 498.487 43.1565 493.777 L43.6021 491.771 Q44.9389 485.533 47.3897 482.923 Q49.8086 480.281 54.1691 480.281 Q59.1344 480.281 62.0308 484.228 Q64.9272 488.143 64.9272 495.018 Q64.9272 497.883 64.3543 501.002 Q63.8132 504.089 62.6992 507.527 L56.6518 507.527 Q58.3387 504.28 59.198 501.129 Q60.0256 497.978 60.0256 494.891 Q60.0256 490.753 58.6251 488.525 Q57.1929 486.297 54.6147 486.297 Q52.2276 486.297 50.9545 487.92 Q49.6813 489.512 48.5037 494.954 L48.0262 496.991 Q46.8804 502.434 44.5251 504.853 Q42.138 507.272 38.0002 507.272 Q32.9713 507.272 30.2341 503.707 Q27.4968 500.142 27.4968 493.586 Q27.4968 490.339 27.9743 487.475 Q28.4517 484.61 29.4065 482.191 Z\" fill=\"#000000\" fill-rule=\"evenodd\" fill-opacity=\"1\" /><path clip-path=\"url(#clip630)\" d=\"M46.212 467.454 Q52.6732 467.454 56.3653 464.813 Q60.0256 462.139 60.0256 457.492 Q60.0256 452.845 56.3653 450.172 Q52.6732 447.498 46.212 447.498 Q39.7508 447.498 36.0905 450.172 Q32.3984 452.845 32.3984 457.492 Q32.3984 462.139 36.0905 464.813 Q39.7508 467.454 46.212 467.454 M58.657 447.498 Q61.8398 449.344 63.3994 452.177 Q64.9272 454.978 64.9272 458.924 Q64.9272 465.386 59.771 469.46 Q54.6147 473.502 46.212 473.502 Q37.8093 473.502 32.6531 469.46 Q27.4968 465.386 27.4968 458.924 Q27.4968 454.978 29.0564 452.177 Q30.5842 449.344 33.7671 447.498 L28.3562 447.498 L28.3562 441.641 L77.5631 441.641 L77.5631 447.498 L58.657 447.498 Z\" fill=\"#000000\" fill-rule=\"evenodd\" fill-opacity=\"1\" /><path clip-path=\"url(#clip630)\" d=\"M49.9359 430.183 L28.3562 430.183 L28.3562 424.327 L49.7131 424.327 Q54.7739 424.327 57.3202 422.353 Q59.8346 420.38 59.8346 416.433 Q59.8346 411.691 56.8109 408.954 Q53.7872 406.185 48.5673 406.185 L28.3562 406.185 L28.3562 400.328 L64.0042 400.328 L64.0042 406.185 L58.5296 406.185 Q61.7762 408.317 63.3676 411.15 Q64.9272 413.951 64.9272 417.675 Q64.9272 423.818 61.1078 427 Q57.2883 430.183 49.9359 430.183 M27.4968 415.447 L27.4968 415.447 Z\" fill=\"#000000\" fill-rule=\"evenodd\" fill-opacity=\"1\" /><path clip-path=\"url(#clip630)\" d=\"M46.0847 372.064 Q46.0847 379.162 47.7079 381.899 Q49.3312 384.637 53.2461 384.637 Q56.3653 384.637 58.2114 382.6 Q60.0256 380.531 60.0256 376.998 Q60.0256 372.128 56.5881 369.2 Q53.1188 366.24 47.3897 366.24 L46.0847 366.24 L46.0847 372.064 M43.6657 360.383 L64.0042 360.383 L64.0042 366.24 L58.5933 366.24 Q61.8398 368.245 63.3994 371.237 Q64.9272 374.229 64.9272 378.557 Q64.9272 384.032 61.8716 387.278 Q58.7843 390.493 53.6281 390.493 Q47.6125 390.493 44.5569 386.483 Q41.5014 382.44 41.5014 374.451 L41.5014 366.24 L40.9285 366.24 Q36.8862 366.24 34.6901 368.913 Q32.4621 371.555 32.4621 376.361 Q32.4621 379.417 33.1941 382.313 Q33.9262 385.21 35.3903 387.883 L29.9795 387.883 Q28.7381 384.668 28.1334 381.645 Q27.4968 378.621 27.4968 375.756 Q27.4968 368.022 31.5072 364.203 Q35.5176 360.383 43.6657 360.383 Z\" fill=\"#000000\" fill-rule=\"evenodd\" fill-opacity=\"1\" /><path clip-path=\"url(#clip630)\" d=\"M33.8307 327.664 Q33.2578 328.65 33.0032 329.828 Q32.7167 330.974 32.7167 332.374 Q32.7167 337.339 35.9632 340.013 Q39.1779 342.655 45.2253 342.655 L64.0042 342.655 L64.0042 348.543 L28.3562 348.543 L28.3562 342.655 L33.8944 342.655 Q30.6479 340.809 29.0883 337.849 Q27.4968 334.889 27.4968 330.655 Q27.4968 330.051 27.5923 329.319 Q27.656 328.587 27.8151 327.695 L33.8307 327.664 Z\" fill=\"#000000\" fill-rule=\"evenodd\" fill-opacity=\"1\" /><path clip-path=\"url(#clip630)\" d=\"M44.7161 292.461 L47.5806 292.461 L47.5806 319.388 Q53.6281 319.006 56.8109 315.76 Q59.9619 312.481 59.9619 306.657 Q59.9619 303.283 59.1344 300.132 Q58.3069 296.949 56.6518 293.83 L62.1899 293.83 Q63.5267 296.981 64.227 300.291 Q64.9272 303.601 64.9272 307.007 Q64.9272 315.537 59.9619 320.534 Q54.9967 325.499 46.5303 325.499 Q37.7774 325.499 32.6531 320.789 Q27.4968 316.046 27.4968 308.025 Q27.4968 300.832 32.1438 296.663 Q36.7589 292.461 44.7161 292.461 M42.9973 298.318 Q38.1912 298.381 35.3266 301.023 Q32.4621 303.633 32.4621 307.962 Q32.4621 312.863 35.2312 315.823 Q38.0002 318.752 43.0292 319.197 L42.9973 298.318 Z\" fill=\"#000000\" fill-rule=\"evenodd\" fill-opacity=\"1\" /><path clip-path=\"url(#clip630)\" d=\"M29.4065 260.123 L34.9447 260.123 Q33.6716 262.606 33.035 265.28 Q32.3984 267.953 32.3984 270.818 Q32.3984 275.178 33.7352 277.374 Q35.072 279.539 37.7456 279.539 Q39.7826 279.539 40.9603 277.979 Q42.1061 276.42 43.1565 271.709 L43.6021 269.704 Q44.9389 263.465 47.3897 260.855 Q49.8086 258.214 54.1691 258.214 Q59.1344 258.214 62.0308 262.16 Q64.9272 266.075 64.9272 272.95 Q64.9272 275.815 64.3543 278.934 Q63.8132 282.021 62.6992 285.459 L56.6518 285.459 Q58.3387 282.212 59.198 279.061 Q60.0256 275.91 60.0256 272.823 Q60.0256 268.685 58.6251 266.457 Q57.1929 264.229 54.6147 264.229 Q52.2276 264.229 50.9545 265.853 Q49.6813 267.444 48.5037 272.887 L48.0262 274.924 Q46.8804 280.366 44.5251 282.785 Q42.138 285.204 38.0002 285.204 Q32.9713 285.204 30.2341 281.639 Q27.4968 278.075 27.4968 271.518 Q27.4968 268.271 27.9743 265.407 Q28.4517 262.542 29.4065 260.123 Z\" fill=\"#000000\" fill-rule=\"evenodd\" fill-opacity=\"1\" /><polyline clip-path=\"url(#clip632)\" style=\"stroke:#009af9; stroke-linecap:butt; stroke-linejoin:round; stroke-width:4; stroke-opacity:1; fill:none\" points=\"\n",
       "  395.414,86.1857 397.272,91.9412 400.987,102.898 408.418,126.872 423.278,161.754 453,234.428 512.444,429.378 631.33,711.783 869.104,1276.71 987.991,1381.87 \n",
       "  1106.88,1383.81 1225.76,1384.1 1344.65,1384.22 1820.2,1384.24 2295.75,1384.24 \n",
       "  \"/>\n",
       "</svg>\n"
      ]
     },
     "metadata": {},
     "output_type": "display_data"
    },
    {
     "data": {
      "image/svg+xml": [
       "<?xml version=\"1.0\" encoding=\"utf-8\"?>\n",
       "<svg xmlns=\"http://www.w3.org/2000/svg\" xmlns:xlink=\"http://www.w3.org/1999/xlink\" width=\"600\" height=\"400\" viewBox=\"0 0 2400 1600\">\n",
       "<defs>\n",
       "  <clipPath id=\"clip670\">\n",
       "    <rect x=\"0\" y=\"0\" width=\"2400\" height=\"1600\"/>\n",
       "  </clipPath>\n",
       "</defs>\n",
       "<path clip-path=\"url(#clip670)\" d=\"\n",
       "M0 1600 L2400 1600 L2400 0 L0 0  Z\n",
       "  \" fill=\"#ffffff\" fill-rule=\"evenodd\" fill-opacity=\"1\"/>\n",
       "<defs>\n",
       "  <clipPath id=\"clip671\">\n",
       "    <rect x=\"480\" y=\"0\" width=\"1681\" height=\"1600\"/>\n",
       "  </clipPath>\n",
       "</defs>\n",
       "<path clip-path=\"url(#clip670)\" d=\"\n",
       "M219.866 1423.18 L2352.76 1423.18 L2352.76 47.2441 L219.866 47.2441  Z\n",
       "  \" fill=\"#ffffff\" fill-rule=\"evenodd\" fill-opacity=\"1\"/>\n",
       "<defs>\n",
       "  <clipPath id=\"clip672\">\n",
       "    <rect x=\"219\" y=\"47\" width=\"2134\" height=\"1377\"/>\n",
       "  </clipPath>\n",
       "</defs>\n",
       "<polyline clip-path=\"url(#clip672)\" style=\"stroke:#000000; stroke-linecap:butt; stroke-linejoin:round; stroke-width:2; stroke-opacity:0.1; fill:none\" points=\"\n",
       "  278.264,1423.18 278.264,47.2441 \n",
       "  \"/>\n",
       "<polyline clip-path=\"url(#clip672)\" style=\"stroke:#000000; stroke-linecap:butt; stroke-linejoin:round; stroke-width:2; stroke-opacity:0.1; fill:none\" points=\"\n",
       "  769.994,1423.18 769.994,47.2441 \n",
       "  \"/>\n",
       "<polyline clip-path=\"url(#clip672)\" style=\"stroke:#000000; stroke-linecap:butt; stroke-linejoin:round; stroke-width:2; stroke-opacity:0.1; fill:none\" points=\"\n",
       "  1261.72,1423.18 1261.72,47.2441 \n",
       "  \"/>\n",
       "<polyline clip-path=\"url(#clip672)\" style=\"stroke:#000000; stroke-linecap:butt; stroke-linejoin:round; stroke-width:2; stroke-opacity:0.1; fill:none\" points=\"\n",
       "  1753.45,1423.18 1753.45,47.2441 \n",
       "  \"/>\n",
       "<polyline clip-path=\"url(#clip672)\" style=\"stroke:#000000; stroke-linecap:butt; stroke-linejoin:round; stroke-width:2; stroke-opacity:0.1; fill:none\" points=\"\n",
       "  2245.19,1423.18 2245.19,47.2441 \n",
       "  \"/>\n",
       "<polyline clip-path=\"url(#clip670)\" style=\"stroke:#000000; stroke-linecap:butt; stroke-linejoin:round; stroke-width:4; stroke-opacity:1; fill:none\" points=\"\n",
       "  219.866,1423.18 2352.76,1423.18 \n",
       "  \"/>\n",
       "<polyline clip-path=\"url(#clip670)\" style=\"stroke:#000000; stroke-linecap:butt; stroke-linejoin:round; stroke-width:4; stroke-opacity:1; fill:none\" points=\"\n",
       "  278.264,1423.18 278.264,1404.28 \n",
       "  \"/>\n",
       "<polyline clip-path=\"url(#clip670)\" style=\"stroke:#000000; stroke-linecap:butt; stroke-linejoin:round; stroke-width:4; stroke-opacity:1; fill:none\" points=\"\n",
       "  769.994,1423.18 769.994,1404.28 \n",
       "  \"/>\n",
       "<polyline clip-path=\"url(#clip670)\" style=\"stroke:#000000; stroke-linecap:butt; stroke-linejoin:round; stroke-width:4; stroke-opacity:1; fill:none\" points=\"\n",
       "  1261.72,1423.18 1261.72,1404.28 \n",
       "  \"/>\n",
       "<polyline clip-path=\"url(#clip670)\" style=\"stroke:#000000; stroke-linecap:butt; stroke-linejoin:round; stroke-width:4; stroke-opacity:1; fill:none\" points=\"\n",
       "  1753.45,1423.18 1753.45,1404.28 \n",
       "  \"/>\n",
       "<polyline clip-path=\"url(#clip670)\" style=\"stroke:#000000; stroke-linecap:butt; stroke-linejoin:round; stroke-width:4; stroke-opacity:1; fill:none\" points=\"\n",
       "  2245.19,1423.18 2245.19,1404.28 \n",
       "  \"/>\n",
       "<path clip-path=\"url(#clip670)\" d=\"M278.264 1454.1 Q274.653 1454.1 272.824 1457.66 Q271.019 1461.2 271.019 1468.33 Q271.019 1475.44 272.824 1479.01 Q274.653 1482.55 278.264 1482.55 Q281.898 1482.55 283.704 1479.01 Q285.533 1475.44 285.533 1468.33 Q285.533 1461.2 283.704 1457.66 Q281.898 1454.1 278.264 1454.1 M278.264 1450.39 Q284.074 1450.39 287.13 1455 Q290.209 1459.58 290.209 1468.33 Q290.209 1477.06 287.13 1481.67 Q284.074 1486.25 278.264 1486.25 Q272.454 1486.25 269.375 1481.67 Q266.32 1477.06 266.32 1468.33 Q266.32 1459.58 269.375 1455 Q272.454 1450.39 278.264 1450.39 Z\" fill=\"#000000\" fill-rule=\"evenodd\" fill-opacity=\"1\" /><path clip-path=\"url(#clip670)\" d=\"M733.687 1481.64 L750.006 1481.64 L750.006 1485.58 L728.062 1485.58 L728.062 1481.64 Q730.724 1478.89 735.307 1474.26 Q739.914 1469.61 741.094 1468.27 Q743.339 1465.74 744.219 1464.01 Q745.122 1462.25 745.122 1460.56 Q745.122 1457.8 743.177 1456.07 Q741.256 1454.33 738.154 1454.33 Q735.955 1454.33 733.502 1455.09 Q731.071 1455.86 728.293 1457.41 L728.293 1452.69 Q731.117 1451.55 733.571 1450.97 Q736.025 1450.39 738.062 1450.39 Q743.432 1450.39 746.626 1453.08 Q749.821 1455.77 749.821 1460.26 Q749.821 1462.39 749.011 1464.31 Q748.224 1466.2 746.117 1468.8 Q745.538 1469.47 742.437 1472.69 Q739.335 1475.88 733.687 1481.64 Z\" fill=\"#000000\" fill-rule=\"evenodd\" fill-opacity=\"1\" /><path clip-path=\"url(#clip670)\" d=\"M759.867 1451.02 L778.223 1451.02 L778.223 1454.96 L764.149 1454.96 L764.149 1463.43 Q765.168 1463.08 766.187 1462.92 Q767.205 1462.73 768.224 1462.73 Q774.011 1462.73 777.39 1465.9 Q780.77 1469.08 780.77 1474.49 Q780.77 1480.07 777.298 1483.17 Q773.825 1486.25 767.506 1486.25 Q765.33 1486.25 763.062 1485.88 Q760.816 1485.51 758.409 1484.77 L758.409 1480.07 Q760.492 1481.2 762.714 1481.76 Q764.937 1482.32 767.413 1482.32 Q771.418 1482.32 773.756 1480.21 Q776.094 1478.1 776.094 1474.49 Q776.094 1470.88 773.756 1468.77 Q771.418 1466.67 767.413 1466.67 Q765.538 1466.67 763.663 1467.08 Q761.812 1467.5 759.867 1468.38 L759.867 1451.02 Z\" fill=\"#000000\" fill-rule=\"evenodd\" fill-opacity=\"1\" /><path clip-path=\"url(#clip670)\" d=\"M799.983 1454.1 Q796.372 1454.1 794.543 1457.66 Q792.737 1461.2 792.737 1468.33 Q792.737 1475.44 794.543 1479.01 Q796.372 1482.55 799.983 1482.55 Q803.617 1482.55 805.422 1479.01 Q807.251 1475.44 807.251 1468.33 Q807.251 1461.2 805.422 1457.66 Q803.617 1454.1 799.983 1454.1 M799.983 1450.39 Q805.793 1450.39 808.848 1455 Q811.927 1459.58 811.927 1468.33 Q811.927 1477.06 808.848 1481.67 Q805.793 1486.25 799.983 1486.25 Q794.172 1486.25 791.094 1481.67 Q788.038 1477.06 788.038 1468.33 Q788.038 1459.58 791.094 1455 Q794.172 1450.39 799.983 1450.39 Z\" fill=\"#000000\" fill-rule=\"evenodd\" fill-opacity=\"1\" /><path clip-path=\"url(#clip670)\" d=\"M1221.34 1451.02 L1239.7 1451.02 L1239.7 1454.96 L1225.63 1454.96 L1225.63 1463.43 Q1226.64 1463.08 1227.66 1462.92 Q1228.68 1462.73 1229.7 1462.73 Q1235.49 1462.73 1238.87 1465.9 Q1242.25 1469.08 1242.25 1474.49 Q1242.25 1480.07 1238.77 1483.17 Q1235.3 1486.25 1228.98 1486.25 Q1226.81 1486.25 1224.54 1485.88 Q1222.29 1485.51 1219.88 1484.77 L1219.88 1480.07 Q1221.97 1481.2 1224.19 1481.76 Q1226.41 1482.32 1228.89 1482.32 Q1232.89 1482.32 1235.23 1480.21 Q1237.57 1478.1 1237.57 1474.49 Q1237.57 1470.88 1235.23 1468.77 Q1232.89 1466.67 1228.89 1466.67 Q1227.01 1466.67 1225.14 1467.08 Q1223.29 1467.5 1221.34 1468.38 L1221.34 1451.02 Z\" fill=\"#000000\" fill-rule=\"evenodd\" fill-opacity=\"1\" /><path clip-path=\"url(#clip670)\" d=\"M1261.46 1454.1 Q1257.85 1454.1 1256.02 1457.66 Q1254.21 1461.2 1254.21 1468.33 Q1254.21 1475.44 1256.02 1479.01 Q1257.85 1482.55 1261.46 1482.55 Q1265.09 1482.55 1266.9 1479.01 Q1268.73 1475.44 1268.73 1468.33 Q1268.73 1461.2 1266.9 1457.66 Q1265.09 1454.1 1261.46 1454.1 M1261.46 1450.39 Q1267.27 1450.39 1270.32 1455 Q1273.4 1459.58 1273.4 1468.33 Q1273.4 1477.06 1270.32 1481.67 Q1267.27 1486.25 1261.46 1486.25 Q1255.65 1486.25 1252.57 1481.67 Q1249.51 1477.06 1249.51 1468.33 Q1249.51 1459.58 1252.57 1455 Q1255.65 1450.39 1261.46 1450.39 Z\" fill=\"#000000\" fill-rule=\"evenodd\" fill-opacity=\"1\" /><path clip-path=\"url(#clip670)\" d=\"M1291.62 1454.1 Q1288.01 1454.1 1286.18 1457.66 Q1284.37 1461.2 1284.37 1468.33 Q1284.37 1475.44 1286.18 1479.01 Q1288.01 1482.55 1291.62 1482.55 Q1295.25 1482.55 1297.06 1479.01 Q1298.89 1475.44 1298.89 1468.33 Q1298.89 1461.2 1297.06 1457.66 Q1295.25 1454.1 1291.62 1454.1 M1291.62 1450.39 Q1297.43 1450.39 1300.49 1455 Q1303.56 1459.58 1303.56 1468.33 Q1303.56 1477.06 1300.49 1481.67 Q1297.43 1486.25 1291.62 1486.25 Q1285.81 1486.25 1282.73 1481.67 Q1279.68 1477.06 1279.68 1468.33 Q1279.68 1459.58 1282.73 1455 Q1285.81 1450.39 1291.62 1450.39 Z\" fill=\"#000000\" fill-rule=\"evenodd\" fill-opacity=\"1\" /><path clip-path=\"url(#clip670)\" d=\"M1711.73 1451.02 L1733.95 1451.02 L1733.95 1453.01 L1721.41 1485.58 L1716.52 1485.58 L1728.33 1454.96 L1711.73 1454.96 L1711.73 1451.02 Z\" fill=\"#000000\" fill-rule=\"evenodd\" fill-opacity=\"1\" /><path clip-path=\"url(#clip670)\" d=\"M1743.12 1451.02 L1761.48 1451.02 L1761.48 1454.96 L1747.4 1454.96 L1747.4 1463.43 Q1748.42 1463.08 1749.44 1462.92 Q1750.46 1462.73 1751.48 1462.73 Q1757.26 1462.73 1760.64 1465.9 Q1764.02 1469.08 1764.02 1474.49 Q1764.02 1480.07 1760.55 1483.17 Q1757.08 1486.25 1750.76 1486.25 Q1748.58 1486.25 1746.31 1485.88 Q1744.07 1485.51 1741.66 1484.77 L1741.66 1480.07 Q1743.74 1481.2 1745.97 1481.76 Q1748.19 1482.32 1750.67 1482.32 Q1754.67 1482.32 1757.01 1480.21 Q1759.35 1478.1 1759.35 1474.49 Q1759.35 1470.88 1757.01 1468.77 Q1754.67 1466.67 1750.67 1466.67 Q1748.79 1466.67 1746.92 1467.08 Q1745.06 1467.5 1743.12 1468.38 L1743.12 1451.02 Z\" fill=\"#000000\" fill-rule=\"evenodd\" fill-opacity=\"1\" /><path clip-path=\"url(#clip670)\" d=\"M1783.23 1454.1 Q1779.62 1454.1 1777.79 1457.66 Q1775.99 1461.2 1775.99 1468.33 Q1775.99 1475.44 1777.79 1479.01 Q1779.62 1482.55 1783.23 1482.55 Q1786.87 1482.55 1788.67 1479.01 Q1790.5 1475.44 1790.5 1468.33 Q1790.5 1461.2 1788.67 1457.66 Q1786.87 1454.1 1783.23 1454.1 M1783.23 1450.39 Q1789.04 1450.39 1792.1 1455 Q1795.18 1459.58 1795.18 1468.33 Q1795.18 1477.06 1792.1 1481.67 Q1789.04 1486.25 1783.23 1486.25 Q1777.42 1486.25 1774.35 1481.67 Q1771.29 1477.06 1771.29 1468.33 Q1771.29 1459.58 1774.35 1455 Q1777.42 1450.39 1783.23 1450.39 Z\" fill=\"#000000\" fill-rule=\"evenodd\" fill-opacity=\"1\" /><path clip-path=\"url(#clip670)\" d=\"M2189.71 1481.64 L2197.35 1481.64 L2197.35 1455.28 L2189.04 1456.95 L2189.04 1452.69 L2197.3 1451.02 L2201.98 1451.02 L2201.98 1481.64 L2209.62 1481.64 L2209.62 1485.58 L2189.71 1485.58 L2189.71 1481.64 Z\" fill=\"#000000\" fill-rule=\"evenodd\" fill-opacity=\"1\" /><path clip-path=\"url(#clip670)\" d=\"M2229.06 1454.1 Q2225.45 1454.1 2223.62 1457.66 Q2221.82 1461.2 2221.82 1468.33 Q2221.82 1475.44 2223.62 1479.01 Q2225.45 1482.55 2229.06 1482.55 Q2232.7 1482.55 2234.5 1479.01 Q2236.33 1475.44 2236.33 1468.33 Q2236.33 1461.2 2234.5 1457.66 Q2232.7 1454.1 2229.06 1454.1 M2229.06 1450.39 Q2234.87 1450.39 2237.93 1455 Q2241.01 1459.58 2241.01 1468.33 Q2241.01 1477.06 2237.93 1481.67 Q2234.87 1486.25 2229.06 1486.25 Q2223.25 1486.25 2220.17 1481.67 Q2217.12 1477.06 2217.12 1468.33 Q2217.12 1459.58 2220.17 1455 Q2223.25 1450.39 2229.06 1450.39 Z\" fill=\"#000000\" fill-rule=\"evenodd\" fill-opacity=\"1\" /><path clip-path=\"url(#clip670)\" d=\"M2259.22 1454.1 Q2255.61 1454.1 2253.78 1457.66 Q2251.98 1461.2 2251.98 1468.33 Q2251.98 1475.44 2253.78 1479.01 Q2255.61 1482.55 2259.22 1482.55 Q2262.86 1482.55 2264.66 1479.01 Q2266.49 1475.44 2266.49 1468.33 Q2266.49 1461.2 2264.66 1457.66 Q2262.86 1454.1 2259.22 1454.1 M2259.22 1450.39 Q2265.03 1450.39 2268.09 1455 Q2271.17 1459.58 2271.17 1468.33 Q2271.17 1477.06 2268.09 1481.67 Q2265.03 1486.25 2259.22 1486.25 Q2253.41 1486.25 2250.34 1481.67 Q2247.28 1477.06 2247.28 1468.33 Q2247.28 1459.58 2250.34 1455 Q2253.41 1450.39 2259.22 1450.39 Z\" fill=\"#000000\" fill-rule=\"evenodd\" fill-opacity=\"1\" /><path clip-path=\"url(#clip670)\" d=\"M2289.39 1454.1 Q2285.78 1454.1 2283.95 1457.66 Q2282.14 1461.2 2282.14 1468.33 Q2282.14 1475.44 2283.95 1479.01 Q2285.78 1482.55 2289.39 1482.55 Q2293.02 1482.55 2294.83 1479.01 Q2296.65 1475.44 2296.65 1468.33 Q2296.65 1461.2 2294.83 1457.66 Q2293.02 1454.1 2289.39 1454.1 M2289.39 1450.39 Q2295.2 1450.39 2298.25 1455 Q2301.33 1459.58 2301.33 1468.33 Q2301.33 1477.06 2298.25 1481.67 Q2295.2 1486.25 2289.39 1486.25 Q2283.58 1486.25 2280.5 1481.67 Q2277.44 1477.06 2277.44 1468.33 Q2277.44 1459.58 2280.5 1455 Q2283.58 1450.39 2289.39 1450.39 Z\" fill=\"#000000\" fill-rule=\"evenodd\" fill-opacity=\"1\" /><path clip-path=\"url(#clip670)\" d=\"M1161.88 1546.53 L1161.88 1568.04 L1156.02 1568.04 L1156.02 1546.72 Q1156.02 1541.66 1154.05 1539.14 Q1152.07 1536.63 1148.13 1536.63 Q1143.39 1536.63 1140.65 1539.65 Q1137.91 1542.68 1137.91 1547.9 L1137.91 1568.04 L1132.02 1568.04 L1132.02 1532.4 L1137.91 1532.4 L1137.91 1537.93 Q1140.01 1534.72 1142.84 1533.13 Q1145.71 1531.54 1149.43 1531.54 Q1155.58 1531.54 1158.73 1535.36 Q1161.88 1539.14 1161.88 1546.53 Z\" fill=\"#000000\" fill-rule=\"evenodd\" fill-opacity=\"1\" /><path clip-path=\"url(#clip670)\" d=\"M1219.93 1533.76 L1219.93 1539.24 Q1217.45 1537.87 1214.94 1537.2 Q1212.45 1536.5 1209.91 1536.5 Q1204.21 1536.5 1201.06 1540.13 Q1197.91 1543.73 1197.91 1550.25 Q1197.91 1556.78 1201.06 1560.4 Q1204.21 1564 1209.91 1564 Q1212.45 1564 1214.94 1563.33 Q1217.45 1562.63 1219.93 1561.26 L1219.93 1566.68 Q1217.48 1567.82 1214.84 1568.39 Q1212.23 1568.97 1209.27 1568.97 Q1201.22 1568.97 1196.48 1563.91 Q1191.73 1558.85 1191.73 1550.25 Q1191.73 1541.53 1196.51 1536.53 Q1201.31 1531.54 1209.65 1531.54 Q1212.36 1531.54 1214.94 1532.11 Q1217.51 1532.65 1219.93 1533.76 Z\" fill=\"#000000\" fill-rule=\"evenodd\" fill-opacity=\"1\" /><path clip-path=\"url(#clip670)\" d=\"M1230.12 1518.52 L1235.97 1518.52 L1235.97 1568.04 L1230.12 1568.04 L1230.12 1518.52 Z\" fill=\"#000000\" fill-rule=\"evenodd\" fill-opacity=\"1\" /><path clip-path=\"url(#clip670)\" d=\"M1247.62 1553.98 L1247.62 1532.4 L1253.48 1532.4 L1253.48 1553.75 Q1253.48 1558.81 1255.45 1561.36 Q1257.43 1563.87 1261.37 1563.87 Q1266.12 1563.87 1268.85 1560.85 Q1271.62 1557.83 1271.62 1552.61 L1271.62 1532.4 L1277.48 1532.4 L1277.48 1568.04 L1271.62 1568.04 L1271.62 1562.57 Q1269.49 1565.82 1266.66 1567.41 Q1263.86 1568.97 1260.13 1568.97 Q1253.99 1568.97 1250.81 1565.15 Q1247.62 1561.33 1247.62 1553.98 M1262.36 1531.54 L1262.36 1531.54 Z\" fill=\"#000000\" fill-rule=\"evenodd\" fill-opacity=\"1\" /><path clip-path=\"url(#clip670)\" d=\"M1312.27 1533.45 L1312.27 1538.98 Q1309.78 1537.71 1307.11 1537.07 Q1304.44 1536.44 1301.57 1536.44 Q1297.21 1536.44 1295.02 1537.77 Q1292.85 1539.11 1292.85 1541.79 Q1292.85 1543.82 1294.41 1545 Q1295.97 1546.15 1300.68 1547.2 L1302.69 1547.64 Q1308.93 1548.98 1311.54 1551.43 Q1314.18 1553.85 1314.18 1558.21 Q1314.18 1563.17 1310.23 1566.07 Q1306.32 1568.97 1299.44 1568.97 Q1296.58 1568.97 1293.46 1568.39 Q1290.37 1567.85 1286.93 1566.74 L1286.93 1560.69 Q1290.18 1562.38 1293.33 1563.24 Q1296.48 1564.07 1299.57 1564.07 Q1303.71 1564.07 1305.93 1562.66 Q1308.16 1561.23 1308.16 1558.65 Q1308.16 1556.27 1306.54 1554.99 Q1304.95 1553.72 1299.5 1552.54 L1297.47 1552.07 Q1292.02 1550.92 1289.61 1548.56 Q1287.19 1546.18 1287.19 1542.04 Q1287.19 1537.01 1290.75 1534.27 Q1294.32 1531.54 1300.87 1531.54 Q1304.12 1531.54 1306.98 1532.01 Q1309.85 1532.49 1312.27 1533.45 Z\" fill=\"#000000\" fill-rule=\"evenodd\" fill-opacity=\"1\" /><path clip-path=\"url(#clip670)\" d=\"M1329.3 1522.27 L1329.3 1532.4 L1341.36 1532.4 L1341.36 1536.95 L1329.3 1536.95 L1329.3 1556.3 Q1329.3 1560.66 1330.47 1561.9 Q1331.68 1563.14 1335.34 1563.14 L1341.36 1563.14 L1341.36 1568.04 L1335.34 1568.04 Q1328.56 1568.04 1325.99 1565.53 Q1323.41 1562.98 1323.41 1556.3 L1323.41 1536.95 L1319.11 1536.95 L1319.11 1532.4 L1323.41 1532.4 L1323.41 1522.27 L1329.3 1522.27 Z\" fill=\"#000000\" fill-rule=\"evenodd\" fill-opacity=\"1\" /><path clip-path=\"url(#clip670)\" d=\"M1379.55 1548.76 L1379.55 1551.62 L1352.63 1551.62 Q1353.01 1557.67 1356.25 1560.85 Q1359.53 1564 1365.36 1564 Q1368.73 1564 1371.88 1563.17 Q1375.06 1562.35 1378.18 1560.69 L1378.18 1566.23 Q1375.03 1567.57 1371.72 1568.27 Q1368.41 1568.97 1365.01 1568.97 Q1356.48 1568.97 1351.48 1564 Q1346.51 1559.04 1346.51 1550.57 Q1346.51 1541.82 1351.23 1536.69 Q1355.97 1531.54 1363.99 1531.54 Q1371.18 1531.54 1375.35 1536.18 Q1379.55 1540.8 1379.55 1548.76 M1373.7 1547.04 Q1373.63 1542.23 1370.99 1539.37 Q1368.38 1536.5 1364.05 1536.5 Q1359.15 1536.5 1356.19 1539.27 Q1353.26 1542.04 1352.82 1547.07 L1373.7 1547.04 Z\" fill=\"#000000\" fill-rule=\"evenodd\" fill-opacity=\"1\" /><path clip-path=\"url(#clip670)\" d=\"M1409.82 1537.87 Q1408.84 1537.3 1407.66 1537.04 Q1406.51 1536.76 1405.11 1536.76 Q1400.15 1536.76 1397.47 1540 Q1394.83 1543.22 1394.83 1549.27 L1394.83 1568.04 L1388.94 1568.04 L1388.94 1532.4 L1394.83 1532.4 L1394.83 1537.93 Q1396.68 1534.69 1399.64 1533.13 Q1402.6 1531.54 1406.83 1531.54 Q1407.43 1531.54 1408.17 1531.63 Q1408.9 1531.7 1409.79 1531.85 L1409.82 1537.87 Z\" fill=\"#000000\" fill-rule=\"evenodd\" fill-opacity=\"1\" /><path clip-path=\"url(#clip670)\" d=\"M1438.69 1533.45 L1438.69 1538.98 Q1436.21 1537.71 1433.53 1537.07 Q1430.86 1536.44 1428 1536.44 Q1423.64 1536.44 1421.44 1537.77 Q1419.27 1539.11 1419.27 1541.79 Q1419.27 1543.82 1420.83 1545 Q1422.39 1546.15 1427.1 1547.2 L1429.11 1547.64 Q1435.35 1548.98 1437.96 1551.43 Q1440.6 1553.85 1440.6 1558.21 Q1440.6 1563.17 1436.65 1566.07 Q1432.74 1568.97 1425.86 1568.97 Q1423 1568.97 1419.88 1568.39 Q1416.79 1567.85 1413.35 1566.74 L1413.35 1560.69 Q1416.6 1562.38 1419.75 1563.24 Q1422.9 1564.07 1425.99 1564.07 Q1430.13 1564.07 1432.36 1562.66 Q1434.58 1561.23 1434.58 1558.65 Q1434.58 1556.27 1432.96 1554.99 Q1431.37 1553.72 1425.93 1552.54 L1423.89 1552.07 Q1418.45 1550.92 1416.03 1548.56 Q1413.61 1546.18 1413.61 1542.04 Q1413.61 1537.01 1417.17 1534.27 Q1420.74 1531.54 1427.3 1531.54 Q1430.54 1531.54 1433.41 1532.01 Q1436.27 1532.49 1438.69 1533.45 Z\" fill=\"#000000\" fill-rule=\"evenodd\" fill-opacity=\"1\" /><polyline clip-path=\"url(#clip672)\" style=\"stroke:#000000; stroke-linecap:butt; stroke-linejoin:round; stroke-width:2; stroke-opacity:0.1; fill:none\" points=\"\n",
       "  219.866,1393.57 2352.76,1393.57 \n",
       "  \"/>\n",
       "<polyline clip-path=\"url(#clip672)\" style=\"stroke:#000000; stroke-linecap:butt; stroke-linejoin:round; stroke-width:2; stroke-opacity:0.1; fill:none\" points=\"\n",
       "  219.866,1109 2352.76,1109 \n",
       "  \"/>\n",
       "<polyline clip-path=\"url(#clip672)\" style=\"stroke:#000000; stroke-linecap:butt; stroke-linejoin:round; stroke-width:2; stroke-opacity:0.1; fill:none\" points=\"\n",
       "  219.866,824.434 2352.76,824.434 \n",
       "  \"/>\n",
       "<polyline clip-path=\"url(#clip672)\" style=\"stroke:#000000; stroke-linecap:butt; stroke-linejoin:round; stroke-width:2; stroke-opacity:0.1; fill:none\" points=\"\n",
       "  219.866,539.868 2352.76,539.868 \n",
       "  \"/>\n",
       "<polyline clip-path=\"url(#clip672)\" style=\"stroke:#000000; stroke-linecap:butt; stroke-linejoin:round; stroke-width:2; stroke-opacity:0.1; fill:none\" points=\"\n",
       "  219.866,255.302 2352.76,255.302 \n",
       "  \"/>\n",
       "<polyline clip-path=\"url(#clip670)\" style=\"stroke:#000000; stroke-linecap:butt; stroke-linejoin:round; stroke-width:4; stroke-opacity:1; fill:none\" points=\"\n",
       "  219.866,1423.18 219.866,47.2441 \n",
       "  \"/>\n",
       "<polyline clip-path=\"url(#clip670)\" style=\"stroke:#000000; stroke-linecap:butt; stroke-linejoin:round; stroke-width:4; stroke-opacity:1; fill:none\" points=\"\n",
       "  219.866,1393.57 238.764,1393.57 \n",
       "  \"/>\n",
       "<polyline clip-path=\"url(#clip670)\" style=\"stroke:#000000; stroke-linecap:butt; stroke-linejoin:round; stroke-width:4; stroke-opacity:1; fill:none\" points=\"\n",
       "  219.866,1109 238.764,1109 \n",
       "  \"/>\n",
       "<polyline clip-path=\"url(#clip670)\" style=\"stroke:#000000; stroke-linecap:butt; stroke-linejoin:round; stroke-width:4; stroke-opacity:1; fill:none\" points=\"\n",
       "  219.866,824.434 238.764,824.434 \n",
       "  \"/>\n",
       "<polyline clip-path=\"url(#clip670)\" style=\"stroke:#000000; stroke-linecap:butt; stroke-linejoin:round; stroke-width:4; stroke-opacity:1; fill:none\" points=\"\n",
       "  219.866,539.868 238.764,539.868 \n",
       "  \"/>\n",
       "<polyline clip-path=\"url(#clip670)\" style=\"stroke:#000000; stroke-linecap:butt; stroke-linejoin:round; stroke-width:4; stroke-opacity:1; fill:none\" points=\"\n",
       "  219.866,255.302 238.764,255.302 \n",
       "  \"/>\n",
       "<path clip-path=\"url(#clip670)\" d=\"M126.691 1379.36 Q123.08 1379.36 121.251 1382.93 Q119.445 1386.47 119.445 1393.6 Q119.445 1400.71 121.251 1404.27 Q123.08 1407.81 126.691 1407.81 Q130.325 1407.81 132.13 1404.27 Q133.959 1400.71 133.959 1393.6 Q133.959 1386.47 132.13 1382.93 Q130.325 1379.36 126.691 1379.36 M126.691 1375.66 Q132.501 1375.66 135.556 1380.27 Q138.635 1384.85 138.635 1393.6 Q138.635 1402.33 135.556 1406.93 Q132.501 1411.52 126.691 1411.52 Q120.88 1411.52 117.802 1406.93 Q114.746 1402.33 114.746 1393.6 Q114.746 1384.85 117.802 1380.27 Q120.88 1375.66 126.691 1375.66 Z\" fill=\"#000000\" fill-rule=\"evenodd\" fill-opacity=\"1\" /><path clip-path=\"url(#clip670)\" d=\"M146.853 1404.97 L151.737 1404.97 L151.737 1410.85 L146.853 1410.85 L146.853 1404.97 Z\" fill=\"#000000\" fill-rule=\"evenodd\" fill-opacity=\"1\" /><path clip-path=\"url(#clip670)\" d=\"M171.922 1379.36 Q168.311 1379.36 166.482 1382.93 Q164.677 1386.47 164.677 1393.6 Q164.677 1400.71 166.482 1404.27 Q168.311 1407.81 171.922 1407.81 Q175.556 1407.81 177.362 1404.27 Q179.19 1400.71 179.19 1393.6 Q179.19 1386.47 177.362 1382.93 Q175.556 1379.36 171.922 1379.36 M171.922 1375.66 Q177.732 1375.66 180.788 1380.27 Q183.866 1384.85 183.866 1393.6 Q183.866 1402.33 180.788 1406.93 Q177.732 1411.52 171.922 1411.52 Q166.112 1411.52 163.033 1406.93 Q159.978 1402.33 159.978 1393.6 Q159.978 1384.85 163.033 1380.27 Q166.112 1375.66 171.922 1375.66 Z\" fill=\"#000000\" fill-rule=\"evenodd\" fill-opacity=\"1\" /><path clip-path=\"url(#clip670)\" d=\"M128.288 1094.8 Q124.677 1094.8 122.848 1098.36 Q121.043 1101.91 121.043 1109.03 Q121.043 1116.14 122.848 1119.71 Q124.677 1123.25 128.288 1123.25 Q131.922 1123.25 133.728 1119.71 Q135.556 1116.14 135.556 1109.03 Q135.556 1101.91 133.728 1098.36 Q131.922 1094.8 128.288 1094.8 M128.288 1091.1 Q134.098 1091.1 137.154 1095.7 Q140.232 1100.28 140.232 1109.03 Q140.232 1117.76 137.154 1122.37 Q134.098 1126.95 128.288 1126.95 Q122.478 1126.95 119.399 1122.37 Q116.343 1117.76 116.343 1109.03 Q116.343 1100.28 119.399 1095.7 Q122.478 1091.1 128.288 1091.1 Z\" fill=\"#000000\" fill-rule=\"evenodd\" fill-opacity=\"1\" /><path clip-path=\"url(#clip670)\" d=\"M148.45 1120.4 L153.334 1120.4 L153.334 1126.28 L148.45 1126.28 L148.45 1120.4 Z\" fill=\"#000000\" fill-rule=\"evenodd\" fill-opacity=\"1\" /><path clip-path=\"url(#clip670)\" d=\"M167.547 1122.34 L183.866 1122.34 L183.866 1126.28 L161.922 1126.28 L161.922 1122.34 Q164.584 1119.59 169.167 1114.96 Q173.774 1110.31 174.954 1108.97 Q177.2 1106.44 178.079 1104.71 Q178.982 1102.95 178.982 1101.26 Q178.982 1098.5 177.038 1096.77 Q175.116 1095.03 172.014 1095.03 Q169.815 1095.03 167.362 1095.79 Q164.931 1096.56 162.153 1098.11 L162.153 1093.39 Q164.977 1092.25 167.431 1091.67 Q169.885 1091.1 171.922 1091.1 Q177.292 1091.1 180.487 1093.78 Q183.681 1096.47 183.681 1100.96 Q183.681 1103.09 182.871 1105.01 Q182.084 1106.91 179.977 1109.5 Q179.399 1110.17 176.297 1113.39 Q173.195 1116.58 167.547 1122.34 Z\" fill=\"#000000\" fill-rule=\"evenodd\" fill-opacity=\"1\" /><path clip-path=\"url(#clip670)\" d=\"M126.205 810.233 Q122.593 810.233 120.765 813.797 Q118.959 817.339 118.959 824.469 Q118.959 831.575 120.765 835.14 Q122.593 838.682 126.205 838.682 Q129.839 838.682 131.644 835.14 Q133.473 831.575 133.473 824.469 Q133.473 817.339 131.644 813.797 Q129.839 810.233 126.205 810.233 M126.205 806.529 Q132.015 806.529 135.07 811.135 Q138.149 815.719 138.149 824.469 Q138.149 833.195 135.07 837.802 Q132.015 842.385 126.205 842.385 Q120.394 842.385 117.316 837.802 Q114.26 833.195 114.26 824.469 Q114.26 815.719 117.316 811.135 Q120.394 806.529 126.205 806.529 Z\" fill=\"#000000\" fill-rule=\"evenodd\" fill-opacity=\"1\" /><path clip-path=\"url(#clip670)\" d=\"M146.366 835.834 L151.251 835.834 L151.251 841.714 L146.366 841.714 L146.366 835.834 Z\" fill=\"#000000\" fill-rule=\"evenodd\" fill-opacity=\"1\" /><path clip-path=\"url(#clip670)\" d=\"M174.283 811.228 L162.477 829.677 L174.283 829.677 L174.283 811.228 M173.056 807.154 L178.936 807.154 L178.936 829.677 L183.866 829.677 L183.866 833.566 L178.936 833.566 L178.936 841.714 L174.283 841.714 L174.283 833.566 L158.681 833.566 L158.681 829.052 L173.056 807.154 Z\" fill=\"#000000\" fill-rule=\"evenodd\" fill-opacity=\"1\" /><path clip-path=\"url(#clip670)\" d=\"M126.529 525.667 Q122.918 525.667 121.089 529.231 Q119.283 532.773 119.283 539.903 Q119.283 547.009 121.089 550.574 Q122.918 554.115 126.529 554.115 Q130.163 554.115 131.968 550.574 Q133.797 547.009 133.797 539.903 Q133.797 532.773 131.968 529.231 Q130.163 525.667 126.529 525.667 M126.529 521.963 Q132.339 521.963 135.394 526.569 Q138.473 531.153 138.473 539.903 Q138.473 548.629 135.394 553.236 Q132.339 557.819 126.529 557.819 Q120.718 557.819 117.64 553.236 Q114.584 548.629 114.584 539.903 Q114.584 531.153 117.64 526.569 Q120.718 521.963 126.529 521.963 Z\" fill=\"#000000\" fill-rule=\"evenodd\" fill-opacity=\"1\" /><path clip-path=\"url(#clip670)\" d=\"M146.691 551.268 L151.575 551.268 L151.575 557.148 L146.691 557.148 L146.691 551.268 Z\" fill=\"#000000\" fill-rule=\"evenodd\" fill-opacity=\"1\" /><path clip-path=\"url(#clip670)\" d=\"M172.339 538.004 Q169.19 538.004 167.339 540.157 Q165.51 542.31 165.51 546.06 Q165.51 549.787 167.339 551.963 Q169.19 554.115 172.339 554.115 Q175.487 554.115 177.315 551.963 Q179.167 549.787 179.167 546.06 Q179.167 542.31 177.315 540.157 Q175.487 538.004 172.339 538.004 M181.621 523.352 L181.621 527.611 Q179.862 526.778 178.056 526.338 Q176.274 525.898 174.514 525.898 Q169.885 525.898 167.431 529.023 Q165.001 532.148 164.653 538.467 Q166.019 536.453 168.079 535.389 Q170.139 534.301 172.616 534.301 Q177.825 534.301 180.834 537.472 Q183.866 540.62 183.866 546.06 Q183.866 551.384 180.718 554.602 Q177.57 557.819 172.339 557.819 Q166.343 557.819 163.172 553.236 Q160.001 548.629 160.001 539.903 Q160.001 531.708 163.89 526.847 Q167.778 521.963 174.329 521.963 Q176.089 521.963 177.871 522.31 Q179.676 522.657 181.621 523.352 Z\" fill=\"#000000\" fill-rule=\"evenodd\" fill-opacity=\"1\" /><path clip-path=\"url(#clip670)\" d=\"M126.783 241.1 Q123.172 241.1 121.343 244.665 Q119.538 248.207 119.538 255.336 Q119.538 262.443 121.343 266.008 Q123.172 269.549 126.783 269.549 Q130.417 269.549 132.223 266.008 Q134.052 262.443 134.052 255.336 Q134.052 248.207 132.223 244.665 Q130.417 241.1 126.783 241.1 M126.783 237.397 Q132.593 237.397 135.649 242.003 Q138.728 246.586 138.728 255.336 Q138.728 264.063 135.649 268.67 Q132.593 273.253 126.783 273.253 Q120.973 273.253 117.894 268.67 Q114.839 264.063 114.839 255.336 Q114.839 246.586 117.894 242.003 Q120.973 237.397 126.783 237.397 Z\" fill=\"#000000\" fill-rule=\"evenodd\" fill-opacity=\"1\" /><path clip-path=\"url(#clip670)\" d=\"M146.945 266.702 L151.829 266.702 L151.829 272.582 L146.945 272.582 L146.945 266.702 Z\" fill=\"#000000\" fill-rule=\"evenodd\" fill-opacity=\"1\" /><path clip-path=\"url(#clip670)\" d=\"M172.014 256.17 Q168.681 256.17 166.76 257.952 Q164.862 259.735 164.862 262.86 Q164.862 265.985 166.76 267.767 Q168.681 269.549 172.014 269.549 Q175.348 269.549 177.269 267.767 Q179.19 265.961 179.19 262.86 Q179.19 259.735 177.269 257.952 Q175.371 256.17 172.014 256.17 M167.339 254.179 Q164.329 253.438 162.64 251.378 Q160.973 249.318 160.973 246.355 Q160.973 242.211 163.913 239.804 Q166.876 237.397 172.014 237.397 Q177.176 237.397 180.116 239.804 Q183.056 242.211 183.056 246.355 Q183.056 249.318 181.366 251.378 Q179.7 253.438 176.714 254.179 Q180.093 254.966 181.968 257.258 Q183.866 259.549 183.866 262.86 Q183.866 267.883 180.788 270.568 Q177.732 273.253 172.014 273.253 Q166.297 273.253 163.218 270.568 Q160.163 267.883 160.163 262.86 Q160.163 259.549 162.061 257.258 Q163.959 254.966 167.339 254.179 M165.626 246.795 Q165.626 249.48 167.292 250.985 Q168.982 252.489 172.014 252.489 Q175.024 252.489 176.714 250.985 Q178.426 249.48 178.426 246.795 Q178.426 244.11 176.714 242.605 Q175.024 241.1 172.014 241.1 Q168.982 241.1 167.292 242.605 Q165.626 244.11 165.626 246.795 Z\" fill=\"#000000\" fill-rule=\"evenodd\" fill-opacity=\"1\" /><path clip-path=\"url(#clip670)\" d=\"M29.4065 983.443 L34.9447 983.443 Q33.6716 985.925 33.035 988.599 Q32.3984 991.273 32.3984 994.137 Q32.3984 998.498 33.7352 1000.69 Q35.072 1002.86 37.7456 1002.86 Q39.7826 1002.86 40.9603 1001.3 Q42.1061 999.739 43.1565 995.028 L43.6021 993.023 Q44.9389 986.785 47.3897 984.175 Q49.8086 981.533 54.1691 981.533 Q59.1344 981.533 62.0308 985.48 Q64.9272 989.395 64.9272 996.27 Q64.9272 999.134 64.3543 1002.25 Q63.8132 1005.34 62.6992 1008.78 L56.6518 1008.78 Q58.3387 1005.53 59.198 1002.38 Q60.0256 999.23 60.0256 996.142 Q60.0256 992.005 58.6251 989.777 Q57.1929 987.549 54.6147 987.549 Q52.2276 987.549 50.9545 989.172 Q49.6813 990.763 48.5037 996.206 L48.0262 998.243 Q46.8804 1003.69 44.5251 1006.1 Q42.138 1008.52 38.0002 1008.52 Q32.9713 1008.52 30.2341 1004.96 Q27.4968 1001.39 27.4968 994.837 Q27.4968 991.591 27.9743 988.726 Q28.4517 985.862 29.4065 983.443 Z\" fill=\"#000000\" fill-rule=\"evenodd\" fill-opacity=\"1\" /><path clip-path=\"url(#clip670)\" d=\"M28.3562 972.207 L28.3562 966.351 L64.0042 966.351 L64.0042 972.207 L28.3562 972.207 M14.479 972.207 L14.479 966.351 L21.895 966.351 L21.895 972.207 L14.479 972.207 Z\" fill=\"#000000\" fill-rule=\"evenodd\" fill-opacity=\"1\" /><path clip-path=\"url(#clip670)\" d=\"M14.479 954.097 L14.479 948.24 L64.0042 948.24 L64.0042 954.097 L14.479 954.097 Z\" fill=\"#000000\" fill-rule=\"evenodd\" fill-opacity=\"1\" /><path clip-path=\"url(#clip670)\" d=\"M42.4881 906.354 L64.0042 906.354 L64.0042 912.21 L42.679 912.21 Q37.6183 912.21 35.1038 914.184 Q32.5894 916.157 32.5894 920.104 Q32.5894 924.846 35.6131 927.584 Q38.6368 930.321 43.8567 930.321 L64.0042 930.321 L64.0042 936.209 L14.479 936.209 L14.479 930.321 L33.8944 930.321 Q30.6797 928.22 29.0883 925.387 Q27.4968 922.523 27.4968 918.799 Q27.4968 912.656 31.3163 909.505 Q35.1038 906.354 42.4881 906.354 Z\" fill=\"#000000\" fill-rule=\"evenodd\" fill-opacity=\"1\" /><path clip-path=\"url(#clip670)\" d=\"M32.4621 880.859 Q32.4621 885.57 36.1542 888.307 Q39.8145 891.044 46.212 891.044 Q52.6095 891.044 56.3017 888.339 Q59.9619 885.602 59.9619 880.859 Q59.9619 876.181 56.2698 873.443 Q52.5777 870.706 46.212 870.706 Q39.8781 870.706 36.186 873.443 Q32.4621 876.181 32.4621 880.859 M27.4968 880.859 Q27.4968 873.22 32.4621 868.86 Q37.4273 864.499 46.212 864.499 Q54.9649 864.499 59.9619 868.86 Q64.9272 873.22 64.9272 880.859 Q64.9272 888.53 59.9619 892.891 Q54.9649 897.219 46.212 897.219 Q37.4273 897.219 32.4621 892.891 Q27.4968 888.53 27.4968 880.859 Z\" fill=\"#000000\" fill-rule=\"evenodd\" fill-opacity=\"1\" /><path clip-path=\"url(#clip670)\" d=\"M49.9359 855.397 L28.3562 855.397 L28.3562 849.54 L49.7131 849.54 Q54.7739 849.54 57.3202 847.567 Q59.8346 845.593 59.8346 841.647 Q59.8346 836.904 56.8109 834.167 Q53.7872 831.398 48.5673 831.398 L28.3562 831.398 L28.3562 825.541 L64.0042 825.541 L64.0042 831.398 L58.5296 831.398 Q61.7762 833.53 63.3676 836.363 Q64.9272 839.164 64.9272 842.888 Q64.9272 849.031 61.1078 852.214 Q57.2883 855.397 49.9359 855.397 M27.4968 840.66 L27.4968 840.66 Z\" fill=\"#000000\" fill-rule=\"evenodd\" fill-opacity=\"1\" /><path clip-path=\"url(#clip670)\" d=\"M44.7161 782.987 L47.5806 782.987 L47.5806 809.914 Q53.6281 809.532 56.8109 806.285 Q59.9619 803.007 59.9619 797.182 Q59.9619 793.808 59.1344 790.657 Q58.3069 787.474 56.6518 784.355 L62.1899 784.355 Q63.5267 787.506 64.227 790.816 Q64.9272 794.127 64.9272 797.532 Q64.9272 806.062 59.9619 811.059 Q54.9967 816.025 46.5303 816.025 Q37.7774 816.025 32.6531 811.314 Q27.4968 806.572 27.4968 798.551 Q27.4968 791.358 32.1438 787.188 Q36.7589 782.987 44.7161 782.987 M42.9973 788.843 Q38.1912 788.907 35.3266 791.548 Q32.4621 794.158 32.4621 798.487 Q32.4621 803.389 35.2312 806.349 Q38.0002 809.277 43.0292 809.723 L42.9973 788.843 Z\" fill=\"#000000\" fill-rule=\"evenodd\" fill-opacity=\"1\" /><path clip-path=\"url(#clip670)\" d=\"M18.2347 767.582 L28.3562 767.582 L28.3562 755.519 L32.9077 755.519 L32.9077 767.582 L52.2594 767.582 Q56.6199 767.582 57.8613 766.404 Q59.1026 765.194 59.1026 761.534 L59.1026 755.519 L64.0042 755.519 L64.0042 761.534 Q64.0042 768.314 61.4897 770.892 Q58.9434 773.47 52.2594 773.47 L32.9077 773.47 L32.9077 777.767 L28.3562 777.767 L28.3562 773.47 L18.2347 773.47 L18.2347 767.582 Z\" fill=\"#000000\" fill-rule=\"evenodd\" fill-opacity=\"1\" /><path clip-path=\"url(#clip670)\" d=\"M18.2347 742.023 L28.3562 742.023 L28.3562 729.96 L32.9077 729.96 L32.9077 742.023 L52.2594 742.023 Q56.6199 742.023 57.8613 740.846 Q59.1026 739.636 59.1026 735.976 L59.1026 729.96 L64.0042 729.96 L64.0042 735.976 Q64.0042 742.755 61.4897 745.333 Q58.9434 747.912 52.2594 747.912 L32.9077 747.912 L32.9077 752.208 L28.3562 752.208 L28.3562 747.912 L18.2347 747.912 L18.2347 742.023 Z\" fill=\"#000000\" fill-rule=\"evenodd\" fill-opacity=\"1\" /><path clip-path=\"url(#clip670)\" d=\"M44.7161 691.766 L47.5806 691.766 L47.5806 718.693 Q53.6281 718.311 56.8109 715.065 Q59.9619 711.786 59.9619 705.962 Q59.9619 702.588 59.1344 699.437 Q58.3069 696.254 56.6518 693.135 L62.1899 693.135 Q63.5267 696.286 64.227 699.596 Q64.9272 702.906 64.9272 706.312 Q64.9272 714.842 59.9619 719.839 Q54.9967 724.804 46.5303 724.804 Q37.7774 724.804 32.6531 720.093 Q27.4968 715.351 27.4968 707.33 Q27.4968 700.137 32.1438 695.967 Q36.7589 691.766 44.7161 691.766 M42.9973 697.622 Q38.1912 697.686 35.3266 700.328 Q32.4621 702.938 32.4621 707.267 Q32.4621 712.168 35.2312 715.128 Q38.0002 718.056 43.0292 718.502 L42.9973 697.622 Z\" fill=\"#000000\" fill-rule=\"evenodd\" fill-opacity=\"1\" /><path clip-path=\"url(#clip670)\" d=\"M29.4065 638.708 L34.9447 638.708 Q33.6716 641.19 33.035 643.864 Q32.3984 646.538 32.3984 649.402 Q32.3984 653.763 33.7352 655.959 Q35.072 658.123 37.7456 658.123 Q39.7826 658.123 40.9603 656.564 Q42.1061 655.004 43.1565 650.293 L43.6021 648.288 Q44.9389 642.05 47.3897 639.44 Q49.8086 636.798 54.1691 636.798 Q59.1344 636.798 62.0308 640.745 Q64.9272 644.66 64.9272 651.535 Q64.9272 654.399 64.3543 657.519 Q63.8132 660.606 62.6992 664.043 L56.6518 664.043 Q58.3387 660.797 59.198 657.646 Q60.0256 654.495 60.0256 651.407 Q60.0256 647.27 58.6251 645.042 Q57.1929 642.814 54.6147 642.814 Q52.2276 642.814 50.9545 644.437 Q49.6813 646.028 48.5037 651.471 L48.0262 653.508 Q46.8804 658.951 44.5251 661.37 Q42.138 663.789 38.0002 663.789 Q32.9713 663.789 30.2341 660.224 Q27.4968 656.659 27.4968 650.102 Q27.4968 646.856 27.9743 643.991 Q28.4517 641.127 29.4065 638.708 Z\" fill=\"#000000\" fill-rule=\"evenodd\" fill-opacity=\"1\" /><path clip-path=\"url(#clip670)\" d=\"M29.7248 601.819 L35.1993 601.819 Q33.8307 604.301 33.1623 606.816 Q32.4621 609.298 32.4621 611.845 Q32.4621 617.542 36.0905 620.693 Q39.6872 623.844 46.212 623.844 Q52.7369 623.844 56.3653 620.693 Q59.9619 617.542 59.9619 611.845 Q59.9619 609.298 59.2935 606.816 Q58.5933 604.301 57.2247 601.819 L62.6355 601.819 Q63.7814 604.269 64.3543 606.911 Q64.9272 609.521 64.9272 612.481 Q64.9272 620.534 59.8664 625.276 Q54.8057 630.019 46.212 630.019 Q37.491 630.019 32.4939 625.244 Q27.4968 620.438 27.4968 612.099 Q27.4968 609.394 28.0697 606.816 Q28.6108 604.238 29.7248 601.819 Z\" fill=\"#000000\" fill-rule=\"evenodd\" fill-opacity=\"1\" /><path clip-path=\"url(#clip670)\" d=\"M32.4621 577.82 Q32.4621 582.53 36.1542 585.268 Q39.8145 588.005 46.212 588.005 Q52.6095 588.005 56.3017 585.3 Q59.9619 582.562 59.9619 577.82 Q59.9619 573.141 56.2698 570.404 Q52.5777 567.667 46.212 567.667 Q39.8781 567.667 36.186 570.404 Q32.4621 573.141 32.4621 577.82 M27.4968 577.82 Q27.4968 570.181 32.4621 565.821 Q37.4273 561.46 46.212 561.46 Q54.9649 561.46 59.9619 565.821 Q64.9272 570.181 64.9272 577.82 Q64.9272 585.491 59.9619 589.851 Q54.9649 594.18 46.212 594.18 Q37.4273 594.18 32.4621 589.851 Q27.4968 585.491 27.4968 577.82 Z\" fill=\"#000000\" fill-rule=\"evenodd\" fill-opacity=\"1\" /><path clip-path=\"url(#clip670)\" d=\"M33.8307 531.096 Q33.2578 532.082 33.0032 533.26 Q32.7167 534.406 32.7167 535.806 Q32.7167 540.771 35.9632 543.445 Q39.1779 546.087 45.2253 546.087 L64.0042 546.087 L64.0042 551.975 L28.3562 551.975 L28.3562 546.087 L33.8944 546.087 Q30.6479 544.241 29.0883 541.281 Q27.4968 538.321 27.4968 534.087 Q27.4968 533.483 27.5923 532.751 Q27.656 532.019 27.8151 531.127 L33.8307 531.096 Z\" fill=\"#000000\" fill-rule=\"evenodd\" fill-opacity=\"1\" /><path clip-path=\"url(#clip670)\" d=\"M44.7161 495.893 L47.5806 495.893 L47.5806 522.82 Q53.6281 522.438 56.8109 519.192 Q59.9619 515.913 59.9619 510.089 Q59.9619 506.715 59.1344 503.564 Q58.3069 500.381 56.6518 497.262 L62.1899 497.262 Q63.5267 500.413 64.227 503.723 Q64.9272 507.033 64.9272 510.439 Q64.9272 518.969 59.9619 523.966 Q54.9967 528.931 46.5303 528.931 Q37.7774 528.931 32.6531 524.221 Q27.4968 519.478 27.4968 511.457 Q27.4968 504.264 32.1438 500.095 Q36.7589 495.893 44.7161 495.893 M42.9973 501.75 Q38.1912 501.813 35.3266 504.455 Q32.4621 507.065 32.4621 511.394 Q32.4621 516.295 35.2312 519.255 Q38.0002 522.184 43.0292 522.629 L42.9973 501.75 Z\" fill=\"#000000\" fill-rule=\"evenodd\" fill-opacity=\"1\" /><path clip-path=\"url(#clip670)\" d=\"M29.4065 463.555 L34.9447 463.555 Q33.6716 466.038 33.035 468.712 Q32.3984 471.385 32.3984 474.25 Q32.3984 478.61 33.7352 480.807 Q35.072 482.971 37.7456 482.971 Q39.7826 482.971 40.9603 481.411 Q42.1061 479.852 43.1565 475.141 L43.6021 473.136 Q44.9389 466.897 47.3897 464.287 Q49.8086 461.646 54.1691 461.646 Q59.1344 461.646 62.0308 465.592 Q64.9272 469.507 64.9272 476.382 Q64.9272 479.247 64.3543 482.366 Q63.8132 485.453 62.6992 488.891 L56.6518 488.891 Q58.3387 485.644 59.198 482.493 Q60.0256 479.342 60.0256 476.255 Q60.0256 472.117 58.6251 469.889 Q57.1929 467.661 54.6147 467.661 Q52.2276 467.661 50.9545 469.285 Q49.6813 470.876 48.5037 476.319 L48.0262 478.356 Q46.8804 483.798 44.5251 486.217 Q42.138 488.636 38.0002 488.636 Q32.9713 488.636 30.2341 485.072 Q27.4968 481.507 27.4968 474.95 Q27.4968 471.704 27.9743 468.839 Q28.4517 465.974 29.4065 463.555 Z\" fill=\"#000000\" fill-rule=\"evenodd\" fill-opacity=\"1\" /><polyline clip-path=\"url(#clip672)\" style=\"stroke:#009af9; stroke-linecap:butt; stroke-linejoin:round; stroke-width:4; stroke-opacity:1; fill:none\" points=\"\n",
       "  282.198,1384.24 286.132,1374.26 294,1353.6 309.735,1318.68 341.206,1244.18 404.147,1084.75 530.03,790.52 781.796,234.187 907.679,90.3464 1033.56,86.1857 \n",
       "  1159.44,104.977 1285.33,145.99 1788.86,358.275 2292.39,435.25 \n",
       "  \"/>\n",
       "</svg>\n"
      ]
     },
     "metadata": {},
     "output_type": "display_data"
    }
   ],
   "source": [
    "p1 = StatsPlots.plot(\n",
    "    ks_assessed[1:length(within_cluster_sum_of_squares)],\n",
    "    within_cluster_sum_of_squares,\n",
    "    ylabel = \"within cluster sum of squares\",\n",
    "    xlabel = \"n clusters\",\n",
    "    legend=false\n",
    ")\n",
    "p2 = StatsPlots.plot(\n",
    "    ks_assessed[1:length(silhouette_scores)],\n",
    "    silhouette_scores,\n",
    "    ylabel = \"silhouette scores\",\n",
    "    xlabel = \"n clusters\",\n",
    "    legend=false\n",
    ")\n",
    "display(p1)\n",
    "display(p2)"
   ]
  },
  {
   "cell_type": "code",
   "execution_count": null,
   "metadata": {},
   "outputs": [],
   "source": []
  },
  {
   "cell_type": "code",
   "execution_count": null,
   "metadata": {},
   "outputs": [],
   "source": []
  },
  {
   "cell_type": "code",
   "execution_count": null,
   "metadata": {},
   "outputs": [],
   "source": []
  },
  {
   "cell_type": "code",
   "execution_count": null,
   "metadata": {},
   "outputs": [],
   "source": []
  },
  {
   "cell_type": "code",
   "execution_count": null,
   "metadata": {},
   "outputs": [],
   "source": []
  },
  {
   "cell_type": "code",
   "execution_count": null,
   "metadata": {},
   "outputs": [],
   "source": []
  },
  {
   "cell_type": "code",
   "execution_count": null,
   "metadata": {},
   "outputs": [],
   "source": []
  },
  {
   "cell_type": "code",
   "execution_count": null,
   "metadata": {},
   "outputs": [],
   "source": [
    "@assert N_RECORDS > 1\n",
    "k_clusters_to_try = vcat([2^i for i in 1:Int(floor(log2(N_RECORDS)))], N_RECORDS)"
   ]
  },
  {
   "cell_type": "code",
   "execution_count": null,
   "metadata": {},
   "outputs": [],
   "source": [
    "for k in k_medoids_to_try\n",
    "    clustering_result = Clustering.kmeans(distance_matrix, k)\n",
    "    @show k\n",
    "    @show Statistics.mean(Clustering.silhouettes(clustering_result, distance_matrix))\n",
    "end"
   ]
  },
  {
   "cell_type": "code",
   "execution_count": null,
   "metadata": {},
   "outputs": [],
   "source": [
    "(256 + 512) / 2"
   ]
  },
  {
   "cell_type": "code",
   "execution_count": null,
   "metadata": {},
   "outputs": [],
   "source": [
    "(1024 + 512) / 2"
   ]
  },
  {
   "cell_type": "code",
   "execution_count": null,
   "metadata": {},
   "outputs": [],
   "source": [
    "Statistics.mean(Clustering.silhouettes(Clustering.kmeans(distance_matrix, 384), distance_matrix))"
   ]
  },
  {
   "cell_type": "code",
   "execution_count": null,
   "metadata": {},
   "outputs": [],
   "source": [
    "Statistics.mean(Clustering.silhouettes(Clustering.kmeans(distance_matrix, 768), distance_matrix))"
   ]
  },
  {
   "cell_type": "code",
   "execution_count": null,
   "metadata": {},
   "outputs": [],
   "source": [
    "(256 + 384) / 2"
   ]
  },
  {
   "cell_type": "code",
   "execution_count": null,
   "metadata": {},
   "outputs": [],
   "source": [
    "Statistics.mean(Clustering.silhouettes(Clustering.kmeans(distance_matrix, 320), distance_matrix))"
   ]
  },
  {
   "cell_type": "code",
   "execution_count": null,
   "metadata": {},
   "outputs": [],
   "source": [
    "(384 + 512) / 2"
   ]
  },
  {
   "cell_type": "code",
   "execution_count": null,
   "metadata": {},
   "outputs": [],
   "source": [
    "Statistics.mean(Clustering.silhouettes(Clustering.kmeans(distance_matrix, 448), distance_matrix))"
   ]
  },
  {
   "cell_type": "code",
   "execution_count": null,
   "metadata": {},
   "outputs": [],
   "source": [
    "optimal_clustering_result = Clustering.kmeans(distance_matrix, 384)"
   ]
  },
  {
   "cell_type": "code",
   "execution_count": null,
   "metadata": {},
   "outputs": [],
   "source": [
    "n_clusters = 384"
   ]
  },
  {
   "cell_type": "code",
   "execution_count": null,
   "metadata": {},
   "outputs": [],
   "source": [
    "record_table[!, \"cluster_assignments\"] = optimal_clustering_result.assignments"
   ]
  },
  {
   "cell_type": "code",
   "execution_count": null,
   "metadata": {},
   "outputs": [],
   "source": [
    "show(record_table, allcols=true)"
   ]
  },
  {
   "cell_type": "code",
   "execution_count": null,
   "metadata": {},
   "outputs": [],
   "source": [
    "sort(collect(StatsBase.countmap(record_table[!, \"cluster_assignments\"])), by=x->x[2], rev=true)"
   ]
  },
  {
   "cell_type": "code",
   "execution_count": null,
   "metadata": {},
   "outputs": [],
   "source": [
    "# for row in DataFrames.eachrow(record_table[record_table[!, \"cluster_assignments\"] .== 214, DataFrames.Not(\"fastx_file\")])\n",
    "word_cloud = Dict{String, Int}()\n",
    "for row in DataFrames.eachrow(record_table[record_table[!, \"cluster_assignments\"] .== 105, DataFrames.Not(\"fastx_file\")])\n",
    "    # @show row[\"record_identifier\"]\n",
    "    # @show row[\"record_description\"]\n",
    "    filtered_description = replace(row[\"record_description\"], r\"\\[.*?\\]$\" => \"\")\n",
    "    # @show filtered_description\n",
    "    merge!(+, word_cloud, StatsBase.countmap(split(lowercase(filtered_description))))\n",
    "end\n",
    "word_cloud"
   ]
  },
  {
   "cell_type": "code",
   "execution_count": null,
   "metadata": {},
   "outputs": [],
   "source": [
    "word_cloud = sort(collect(word_cloud), by=x->x[2])\n",
    "word_cloud = filter(x -> x[2] > 1, word_cloud)\n",
    "word_cloud = filter(x -> x[1] != \"hypothetical\", word_cloud)\n",
    "word_cloud = filter(x -> x[1] != \"putative\", word_cloud)\n",
    "word_cloud = filter(x -> x[1] != \"protein\", word_cloud)\n",
    "# filter out any words that are substrings of other words (e.g. sir2 is a substring of sir2-like)\n",
    "word_cloud = filter(x -> !any(y -> x[1] != y[1] && occursin(x[1], y[1]), word_cloud), word_cloud)\n",
    "join(first.(reverse(word_cloud)), \" \")"
   ]
  },
  {
   "cell_type": "code",
   "execution_count": null,
   "metadata": {},
   "outputs": [],
   "source": [
    "n_clusters"
   ]
  },
  {
   "cell_type": "code",
   "execution_count": null,
   "metadata": {},
   "outputs": [],
   "source": [
    "record_table[!, [\"fastx_file\", \"cluster_assignments\"]]"
   ]
  },
  {
   "cell_type": "code",
   "execution_count": null,
   "metadata": {},
   "outputs": [],
   "source": [
    "optimal_number_of_clusters, within_cluster_sum_of_squares, silhouette_scores = fit_optimal_number_of_clusters(distance_matrix)"
   ]
  },
  {
   "cell_type": "code",
   "execution_count": null,
   "metadata": {},
   "outputs": [],
   "source": [
    "wcss(single_clustering)"
   ]
  },
  {
   "cell_type": "code",
   "execution_count": null,
   "metadata": {},
   "outputs": [],
   "source": [
    "wcss(dual_clustering)"
   ]
  }
 ],
 "metadata": {
  "kernelspec": {
   "display_name": "Julia 1.6.5",
   "language": "julia",
   "name": "julia-1.6"
  },
  "language_info": {
   "file_extension": ".jl",
   "mimetype": "application/julia",
   "name": "julia",
   "version": "1.6.5"
  }
 },
 "nbformat": 4,
 "nbformat_minor": 4
}
