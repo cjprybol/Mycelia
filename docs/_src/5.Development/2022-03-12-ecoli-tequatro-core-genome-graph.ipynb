{
 "cells": [
  {
   "cell_type": "markdown",
   "metadata": {},
   "source": [
    "# Kmer Graph"
   ]
  },
  {
   "cell_type": "code",
   "execution_count": 1,
   "metadata": {},
   "outputs": [
    {
     "data": {
      "text/plain": [
       "2-element Vector{Union{Nothing, SubString{String}}}:\n",
       " \"2022-03-12\"\n",
       " \"ecoli-tequatrovirus\""
      ]
     },
     "execution_count": 1,
     "metadata": {},
     "output_type": "execute_result"
    }
   ],
   "source": [
    "DATE_TASK = \"2022-03-12-ecoli-tequatrovirus\"\n",
    "DIR = mkpath(\"$(homedir())/workspace/$DATE_TASK\")\n",
    "cd(DIR)\n",
    "DATE, TASK = match(r\"^(\\d{4}-\\d{2}-\\d{2})-(.*)$\", DATE_TASK).captures"
   ]
  },
  {
   "cell_type": "code",
   "execution_count": 2,
   "metadata": {},
   "outputs": [
    {
     "name": "stderr",
     "output_type": "stream",
     "text": [
      "\u001b[32m\u001b[1m    Updating\u001b[22m\u001b[39m registry at `~/.julia/registries/General`\n",
      "\u001b[32m\u001b[1m    Updating\u001b[22m\u001b[39m git-repo `https://github.com/cjprybol/Mycelia.git#master`\n",
      "\u001b[32m\u001b[1m   Installed\u001b[22m\u001b[39m CodeTracking ───── v1.0.8\n",
      "\u001b[32m\u001b[1m   Installed\u001b[22m\u001b[39m LogExpFunctions ── v0.3.10\n",
      "\u001b[32m\u001b[1m   Installed\u001b[22m\u001b[39m PlotUtils ──────── v1.2.0\n",
      "\u001b[32m\u001b[1m   Installed\u001b[22m\u001b[39m NamedDims ──────── v0.2.47\n",
      "\u001b[32m\u001b[1m   Installed\u001b[22m\u001b[39m JuliaInterpreter ─ v0.9.10\n",
      "\u001b[32m\u001b[1m   Installed\u001b[22m\u001b[39m Distributions ──── v0.25.50\n",
      "\u001b[32m\u001b[1m  No Changes\u001b[22m\u001b[39m to `~/git/Mycelia/docs/Project.toml`\n",
      "\u001b[32m\u001b[1m    Updating\u001b[22m\u001b[39m `~/git/Mycelia/docs/Manifest.toml`\n",
      " \u001b[90m [da1fd8a2] \u001b[39m\u001b[93m↑ CodeTracking v1.0.7 ⇒ v1.0.8\u001b[39m\n",
      " \u001b[90m [31c24e10] \u001b[39m\u001b[93m↑ Distributions v0.25.49 ⇒ v0.25.50\u001b[39m\n",
      " \u001b[90m [aa1ae85d] \u001b[39m\u001b[93m↑ JuliaInterpreter v0.9.9 ⇒ v0.9.10\u001b[39m\n",
      " \u001b[90m [2ab3a3ac] \u001b[39m\u001b[93m↑ LogExpFunctions v0.3.9 ⇒ v0.3.10\u001b[39m\n",
      " \u001b[90m [356022a1] \u001b[39m\u001b[93m↑ NamedDims v0.2.46 ⇒ v0.2.47\u001b[39m\n",
      " \u001b[90m [995b91a9] \u001b[39m\u001b[93m↑ PlotUtils v1.1.3 ⇒ v1.2.0\u001b[39m\n",
      "\u001b[32m\u001b[1mPrecompiling\u001b[22m\u001b[39m project...\n",
      "\u001b[32m  ✓ \u001b[39m\u001b[90mCodeTracking\u001b[39m\n",
      "\u001b[32m  ✓ \u001b[39m\u001b[90mLogExpFunctions\u001b[39m\n",
      "\u001b[32m  ✓ \u001b[39mStatsBase\n",
      "\u001b[32m  ✓ \u001b[39m\u001b[90mPlotUtils\u001b[39m\n",
      "\u001b[32m  ✓ \u001b[39mRollingFunctions\n",
      "\u001b[32m  ✓ \u001b[39m\u001b[90mCovarianceEstimation\u001b[39m\n",
      "\u001b[32m  ✓ \u001b[39mMultivariateStats\n",
      "\u001b[32m  ✓ \u001b[39m\u001b[90mJuliaInterpreter\u001b[39m\n",
      "\u001b[32m  ✓ \u001b[39m\u001b[90mSpecialFunctions\u001b[39m\n",
      "\u001b[32m  ✓ \u001b[39m\u001b[90mNamedDims\u001b[39m\n",
      "\u001b[32m  ✓ \u001b[39m\u001b[90mClustering\u001b[39m\n",
      "\u001b[32m  ✓ \u001b[39m\u001b[90mDiffRules\u001b[39m\n",
      "\u001b[32m  ✓ \u001b[39m\u001b[90mDualNumbers\u001b[39m\n",
      "\u001b[32m  ✓ \u001b[39m\u001b[90mRecipesPipeline\u001b[39m\n",
      "\u001b[32m  ✓ \u001b[39m\u001b[90mHypergeometricFunctions\u001b[39m\n",
      "\u001b[32m  ✓ \u001b[39m\u001b[90mPlotThemes\u001b[39m\n",
      "\u001b[32m  ✓ \u001b[39m\u001b[90mGraphRecipes\u001b[39m\n",
      "\u001b[32m  ✓ \u001b[39m\u001b[90mLoweredCodeUtils\u001b[39m\n",
      "\u001b[32m  ✓ \u001b[39m\u001b[90mStatsFuns\u001b[39m\n",
      "\u001b[32m  ✓ \u001b[39m\u001b[90mForwardDiff\u001b[39m\n",
      "\u001b[32m  ✓ \u001b[39m\u001b[90mStatsModels\u001b[39m\n",
      "\u001b[32m  ✓ \u001b[39m\u001b[90mImpute\u001b[39m\n",
      "\u001b[32m  ✓ \u001b[39m\u001b[90mNLSolversBase\u001b[39m\n",
      "\u001b[32m  ✓ \u001b[39m\u001b[90mOptimBase\u001b[39m\n",
      "\u001b[32m  ✓ \u001b[39mRevise\n",
      "\u001b[32m  ✓ \u001b[39m\u001b[90mDistributions\u001b[39m\n",
      "\u001b[32m  ✓ \u001b[39m\u001b[90mGLM\u001b[39m\n",
      "\u001b[32m  ✓ \u001b[39mLsqFit\n",
      "\u001b[32m  ✓ \u001b[39m\u001b[90mKernelDensity\u001b[39m\n",
      "\u001b[32m  ✓ \u001b[39mPlots\n",
      "\u001b[32m  ✓ \u001b[39mStatsPlots\n",
      "\u001b[32m  ✓ \u001b[39mMycelia\n",
      "  32 dependencies successfully precompiled in 105 seconds (222 already precompiled, 8 skipped during auto due to previous errors)\n"
     ]
    }
   ],
   "source": [
    "import Pkg\n",
    "Pkg.update()\n",
    "pkgs = [\n",
    "\"JSON\",\n",
    "\"HTTP\",\n",
    "\"Dates\",\n",
    "\"uCSV\",\n",
    "\"DelimitedFiles\",\n",
    "\"DataFrames\",\n",
    "\"ProgressMeter\",\n",
    "\"BioSequences\",\n",
    "\"FASTX\",\n",
    "\"Distances\",\n",
    "\"StatsPlots\",\n",
    "\"StatsBase\",\n",
    "\"Statistics\",\n",
    "\"MultivariateStats\",\n",
    "\"Random\",\n",
    "\"Primes\",\n",
    "\"SparseArrays\",\n",
    "\"SHA\",\n",
    "\"GenomicAnnotations\",\n",
    "\"Combinatorics\",\n",
    "\"OrderedCollections\",\n",
    "\"Downloads\",\n",
    "\"Clustering\",\n",
    "\"Revise\",\n",
    "\"Mmap\",\n",
    "\"Graphs\",\n",
    "\"MetaGraphs\",\n",
    "\"FileIO\"\n",
    "]\n",
    "\n",
    "for pkg in pkgs\n",
    "    try\n",
    "        eval(Meta.parse(\"import $pkg\"))\n",
    "    catch\n",
    "        Pkg.add(pkg)\n",
    "        eval(Meta.parse(\"import $pkg\"))\n",
    "    end\n",
    "end\n",
    "\n",
    "# works but can't update locally, need to push and restart kernel to activate changes\n",
    "# \"https://github.com/cjprybol/Mycelia.git#master\",\n",
    "# didn't work\n",
    "# \"$(homedir())/git/Mycelia#master\",\n",
    "pkg_path = \"$(homedir())/git/Mycelia\"\n",
    "try\n",
    "    eval(Meta.parse(\"import $(basename(pkg_path))\"))\n",
    "catch\n",
    "    # Pkg.add(url=pkg)\n",
    "    Pkg.develop(path=pkg_path)\n",
    "    # pkg = replace(basename(pkg), \".git#master\" => \"\")\n",
    "    # pkg = replace(basename(pkg), \"#master\" => \"\")\n",
    "    eval(Meta.parse(\"import $(basename(pkg_path))\"))\n",
    "end"
   ]
  },
  {
   "cell_type": "code",
   "execution_count": null,
   "metadata": {},
   "outputs": [],
   "source": [
    "# function save_graph(graph::Graphs.AbstractGraph, outfile::String)\n",
    "#     if !occursin(r\"\\.jld2$\", outfile)\n",
    "#         outfile *= \".jld2\"\n",
    "#     end\n",
    "#     FileIO.save(outfile, Dict(\"graph\" => graph))\n",
    "#     return outfile\n",
    "# end\n",
    "\n",
    "# function load_graph(file::String)\n",
    "#     return FileIO.load(file)[\"graph\"]\n",
    "# end"
   ]
  },
  {
   "cell_type": "code",
   "execution_count": 3,
   "metadata": {},
   "outputs": [
    {
     "data": {
      "text/plain": [
       "\"Escherichia\""
      ]
     },
     "execution_count": 3,
     "metadata": {},
     "output_type": "execute_result"
    }
   ],
   "source": [
    "# https://www.ncbi.nlm.nih.gov/Taxonomy/Browser/wwwtax.cgi?&id=$(tax_id)\n",
    "# https://www.ncbi.nlm.nih.gov/Taxonomy/Browser/wwwtax.cgi?lvl=0&amp;id=2733124\n",
    "# root_tax_id = 2733124\n",
    "\n",
    "root_tax_id = 10663\n",
    "host = \"Escherichia\""
   ]
  },
  {
   "cell_type": "code",
   "execution_count": 4,
   "metadata": {},
   "outputs": [],
   "source": [
    "# child_tax_ids = vcat(Mycelia.taxonomic_id_to_children(root_tax_id), root_tax_id)\n",
    "# # child_tax_ids = vcat(child_tax_ids, root_tax_id)"
   ]
  },
  {
   "cell_type": "code",
   "execution_count": null,
   "metadata": {},
   "outputs": [],
   "source": [
    "# TODO\n",
    "# here is where we should apply a filter where host == Escherichia\n",
    "# need to load host information into neo4j taxonomy"
   ]
  },
  {
   "cell_type": "code",
   "execution_count": null,
   "metadata": {},
   "outputs": [],
   "source": [
    "# # refseq_metadata = Mycelia.load_refseq_metadata()\n",
    "# ncbi_metadata = Mycelia.load_genbank_metadata()"
   ]
  },
  {
   "cell_type": "code",
   "execution_count": null,
   "metadata": {},
   "outputs": [],
   "source": [
    "# show(ncbi_metadata[1:1, :], allcols=true)"
   ]
  },
  {
   "cell_type": "code",
   "execution_count": null,
   "metadata": {},
   "outputs": [],
   "source": [
    "# tax_id_filter = map(taxid -> taxid in child_tax_ids, ncbi_metadata[!, \"taxid\"])\n",
    "# is_right_host = map(x -> occursin(Regex(host, \"i\"), x), ncbi_metadata[!, \"organism_name\"])\n",
    "# not_excluded = ncbi_metadata[!, \"excluded_from_refseq\"] .== \"\"\n",
    "# is_full = ncbi_metadata[!, \"genome_rep\"] .== \"Full\"\n",
    "# # assembly_levels = [\"Complete Genome\"]\n",
    "# assembly_levels = [\"Complete Genome\", \"Chromosome\"]\n",
    "# # assembly_levels = [\"Complete Genome\", \"Chromosome\", \"Scaffold\"]\n",
    "# # assembly_levels = [\"Complete Genome\", \"Chromosome\", \"Scaffold\", \"Contig\"]\n",
    "# assembly_level_filter = map(x -> x in assembly_levels, ncbi_metadata[!, \"assembly_level\"])\n",
    "# full_filter = is_full .& not_excluded .& assembly_level_filter .& tax_id_filter .& is_right_host\n",
    "# count(full_filter)"
   ]
  },
  {
   "cell_type": "code",
   "execution_count": null,
   "metadata": {},
   "outputs": [],
   "source": [
    "# TODO\n",
    "# here is another place we could enforce host == escherichia\n",
    "# we'll use a manual filter as a temporary solution"
   ]
  },
  {
   "cell_type": "code",
   "execution_count": null,
   "metadata": {},
   "outputs": [],
   "source": [
    "# ncbi_metadata_of_interest = ncbi_metadata[full_filter, :]"
   ]
  },
  {
   "cell_type": "code",
   "execution_count": null,
   "metadata": {},
   "outputs": [],
   "source": [
    "# https://www.ncbi.nlm.nih.gov/sviewer/viewer.cgi?db=nuccore&report=genbank&id=GCA_021354775"
   ]
  },
  {
   "cell_type": "code",
   "execution_count": null,
   "metadata": {},
   "outputs": [],
   "source": [
    "# for col in names(ncbi_metadata_of_interest)\n",
    "#     @show col, ncbi_metadata_of_interest[1, col]\n",
    "# end"
   ]
  },
  {
   "cell_type": "code",
   "execution_count": null,
   "metadata": {},
   "outputs": [],
   "source": [
    "# GCA_002956955.1"
   ]
  },
  {
   "cell_type": "code",
   "execution_count": null,
   "metadata": {},
   "outputs": [],
   "source": [
    "# # can I also get genbank record?????\n",
    "# # for extension in [\"genomic.fna.gz\", \"protein.faa.gz\"]\n",
    "# for extension in [\"genomic.fna.gz\", \"protein.faa.gz\", \"genomic.gbff.gz\"]\n",
    "#     outdir = mkpath(joinpath(DIR, extension))\n",
    "#     ProgressMeter.@showprogress for row in DataFrames.eachrow(ncbi_metadata_of_interest)\n",
    "#         url = Mycelia.ncbi_ftp_path_to_url(row[\"ftp_path\"], extension)\n",
    "#         outfile = joinpath(outdir, basename(url))\n",
    "#         if !isfile(outfile)\n",
    "#             try\n",
    "#                 Downloads.download(url, outfile)\n",
    "#             catch e\n",
    "#                 # @show e\n",
    "#                 showerror(stdout, e)\n",
    "#                 # @assert extension == \"protein.faa.gz\"\n",
    "#                 # here is where we should call prodigal to fill in protein annotations if we don't otherwise see them\n",
    "#             end\n",
    "#         end\n",
    "#     end\n",
    "# end"
   ]
  },
  {
   "cell_type": "code",
   "execution_count": 5,
   "metadata": {},
   "outputs": [
    {
     "data": {
      "text/plain": [
       "\"/home/jupyter-cameron.prybol/workspace/2022-03-12-ecoli-tequatrovirus/genomic.fna.gz\""
      ]
     },
     "execution_count": 5,
     "metadata": {},
     "output_type": "execute_result"
    }
   ],
   "source": [
    "extension = \"genomic.fna.gz\"\n",
    "outdir = mkpath(joinpath(DIR, extension))"
   ]
  },
  {
   "cell_type": "code",
   "execution_count": 6,
   "metadata": {},
   "outputs": [],
   "source": [
    "# fastx_files = filter(x -> !occursin(\".ipynb_checkpoints\", x), readdir(outdir, join=true))"
   ]
  },
  {
   "cell_type": "code",
   "execution_count": 13,
   "metadata": {},
   "outputs": [
    {
     "data": {
      "text/plain": [
       "13"
      ]
     },
     "execution_count": 13,
     "metadata": {},
     "output_type": "execute_result"
    }
   ],
   "source": [
    "# kmer_size = Mycelia.assess_dnamer_saturation(fastx_files)\n",
    "kmer_size = 13"
   ]
  },
  {
   "cell_type": "code",
   "execution_count": 8,
   "metadata": {},
   "outputs": [],
   "source": [
    "# graph = Mycelia.fastx_to_kmer_graph(BioSequences.BigDNAMer{kmer_size}, fastx_files)"
   ]
  },
  {
   "cell_type": "code",
   "execution_count": 15,
   "metadata": {},
   "outputs": [
    {
     "data": {
      "text/plain": [
       "\"/home/jupyter-cameron.prybol/workspace/2022-03-12-ecoli-tequatrovirus/root-tax-id_10663.k_13.genome-graph\""
      ]
     },
     "execution_count": 15,
     "metadata": {},
     "output_type": "execute_result"
    }
   ],
   "source": [
    "graph_outfile = \"$DIR/root-tax-id_$(root_tax_id).k_$(kmer_size).genome-graph\"\n",
    "# Mycelia.save_graph(graph, graph_outfile)\n",
    "# Mycelia.graph_to_gfa(graph, graph_outfile * \".gfa\")\n",
    "# Mycelia.load_graph(graph_outfile)"
   ]
  },
  {
   "cell_type": "code",
   "execution_count": 16,
   "metadata": {},
   "outputs": [
    {
     "data": {
      "text/plain": [
       "\"/home/jupyter-cameron.prybol/workspace/2022-03-12-ecoli-tequatrovirus/root-tax-id_10663.k_13.genome-graph.neo4j-tables\""
      ]
     },
     "execution_count": 16,
     "metadata": {},
     "output_type": "execute_result"
    }
   ],
   "source": [
    "base_directory = graph_outfile * \".neo4j-tables\""
   ]
  },
  {
   "cell_type": "code",
   "execution_count": 17,
   "metadata": {},
   "outputs": [
    {
     "data": {
      "text/plain": [
       "\"/home/jupyter-cameron.prybol/workspace/2022-03-12-ecoli-tequatrovirus/root-tax-id_10663.k_13.genome-graph.neo4j-tables\""
      ]
     },
     "execution_count": 17,
     "metadata": {},
     "output_type": "execute_result"
    }
   ],
   "source": [
    "mkpath(base_directory)"
   ]
  },
  {
   "cell_type": "code",
   "execution_count": 18,
   "metadata": {},
   "outputs": [
    {
     "data": {
      "text/plain": [
       "\"/home/jupyter-cameron.prybol/workspace/2022-03-12-ecoli-tequatrovirus/root-tax-id_10663.k_13.genome-graph.neo4j-tables/edges.tsv\""
      ]
     },
     "execution_count": 18,
     "metadata": {},
     "output_type": "execute_result"
    }
   ],
   "source": [
    "node_table_file = joinpath(base_directory, \"nodes.tsv\")\n",
    "edge_table_file = joinpath(base_directory, \"edges.tsv\")"
   ]
  },
  {
   "cell_type": "code",
   "execution_count": 19,
   "metadata": {},
   "outputs": [],
   "source": [
    "# # write out node tsv\n",
    "\n",
    "# open(node_table_file, \"w\") do io\n",
    "#     println(io, join([\"kmer\", \"count\"], '\\t'))\n",
    "#     for vertex in Graphs.vertices(graph)\n",
    "#         if haskey(graph.vprops[vertex], :kmer)\n",
    "#             sequence = graph.vprops[vertex][:kmer]\n",
    "#         else\n",
    "#             sequence = graph.vprops[vertex][:sequence]\n",
    "#         end\n",
    "#         depth = graph.vprops[vertex][:count]\n",
    "#         fields = [\"$sequence\", \"$(depth)\"]\n",
    "#         line = join(fields, '\\t')\n",
    "#         println(io, line)\n",
    "#     end\n",
    "# end\n",
    "\n",
    "# # write out edge tsv\n",
    "\n",
    "# open(edge_table_file, \"w\") do io\n",
    "#     println(io, join([\"source\", \"source_orientation\", \"destination\", \"destination_orientation\"], '\\t'))\n",
    "#     for edge in Graphs.edges(graph)\n",
    "#         for o in graph.eprops[edge][:orientations]\n",
    "#             link = [edge.src,\n",
    "#                     o.source_orientation,\n",
    "#                     edge.dst,\n",
    "#                     o.destination_orientation]\n",
    "#             line = join(link, '\\t')\n",
    "#             println(io, line)\n",
    "#         end\n",
    "#     end\n",
    "# end"
   ]
  },
  {
   "cell_type": "code",
   "execution_count": 20,
   "metadata": {},
   "outputs": [
    {
     "data": {
      "text/plain": [
       "\"neo4j\""
      ]
     },
     "execution_count": 20,
     "metadata": {},
     "output_type": "execute_result"
    }
   ],
   "source": [
    "NEO4J_BIN_DIR = \"/home/jupyter-cjprybol/software/neo4j-community-4.4.3/bin\"\n",
    "if !occursin(NEO4J_BIN_DIR, ENV[\"PATH\"])\n",
    "    ENV[\"PATH\"] = \"$(NEO4J_BIN_DIR):\" * ENV[\"PATH\"]\n",
    "end \n",
    "DOMAIN = \"e9d58dd0.databases.neo4j.io\"\n",
    "USERNAME=\"neo4j\"\n",
    "PASSWORD=readline(joinpath(homedir(), \".config\", \"neo4j\", \"20220314-public-tequatrovirus.password.txt\"));\n",
    "ADDRESS=\"neo4j+s://$(DOMAIN):7687\"\n",
    "DATABASE = \"neo4j\""
   ]
  },
  {
   "cell_type": "code",
   "execution_count": 21,
   "metadata": {},
   "outputs": [
    {
     "name": "stdout",
     "output_type": "stream",
     "text": [
      "  0.106509 seconds (467.62 k allocations: 25.649 MiB, 98.04% compilation time)\n"
     ]
    },
    {
     "data": {
      "text/plain": [
       "`\u001b[4mcypher-shell\u001b[24m \u001b[4m--address\u001b[24m \u001b[4mneo4j+s://e9d58dd0.databases.neo4j.io:7687\u001b[24m \u001b[4m--username\u001b[24m \u001b[4mneo4j\u001b[24m \u001b[4m--password\u001b[24m \u001b[4m9RBMx3eTXVdMm8wdf42yxCvEleX1nt0wZTOEMdscvV0\u001b[24m \u001b[4m--database\u001b[24m \u001b[4mneo4j\u001b[24m \u001b[4m--format\u001b[24m \u001b[4mauto\u001b[24m \u001b[4m'CREATE CONSTRAINT ON (k:Kmer) ASSERT k.sequence IS UNIQUE'\u001b[24m`"
      ]
     },
     "execution_count": 21,
     "metadata": {},
     "output_type": "execute_result"
    }
   ],
   "source": [
    "cmd = \"CREATE CONSTRAINT ON (k:Kmer) ASSERT k.sequence IS UNIQUE\"\n",
    "@time Mycelia.cypher(address = ADDRESS, username = USERNAME, password = PASSWORD, database = DATABASE, cmd = cmd)"
   ]
  },
  {
   "cell_type": "markdown",
   "metadata": {},
   "source": [
    "```\n",
    "gcloud iam service-accounts keys create ~/.config/gcloud/url-signer-key.json --iam-account=\"928365250020-compute@developer.gserviceaccount.com\"\n",
    "# gsutil -m signurl -d 24h -m GET \"~/.config/gcloud/url-signer-key.json\" \"gs://neo4j-upload/public-phapecoctavirus/edges.tsv\"\n",
    "gsutil signurl -d 24h ~/.config/gcloud/url-signer-key.json gs://neo4j-upload/public-phapecoctavirus/nodes.tsv\n",
    "gsutil signurl -d 24h ~/.config/gcloud/url-signer-key.json gs://neo4j-upload/public-phapecoctavirus/edges.tsv\n",
    "```"
   ]
  },
  {
   "cell_type": "code",
   "execution_count": 22,
   "metadata": {},
   "outputs": [],
   "source": [
    "# println(read(`gsutil signurl -d 24h '~/.config/gcloud/url-signer-key.json' 'gs://neo4j-upload/public-phapecoctavirus/nodes.tsv'`))"
   ]
  },
  {
   "cell_type": "code",
   "execution_count": 23,
   "metadata": {},
   "outputs": [],
   "source": [
    "# NODES_FILE = \"https://storage.googleapis.com/neo4j-upload/public-phapecoctavirus/nodes.tsv?x-goog-signature=1af3780c722389bd6c32463e61759196ef2397d47a07ce0eab4cbc4f4d9fc08a9c977bc6084189fc0cb2367a33223510227274ce7d358f510c66d76583dd21d8e700e62798dc1ebe51114f59e50ef07d23db8c9662c848425dbe9edf97085cbc3c113c2b533bf87150712530c53a52276d6d04588b97456a3c8982dae75e2a72b84c5b10717b556ffe1f0dda275d33f43d295ee97381a89dccdd90b953a6dd20d7fc7a92ea2ee4f0a43c153e36df4e589a48dbe722b11f722ec5be0d3cfa2429b5300a59e320c2f13da6da128930a0baafcce406d3d1b227d6298d9ec31bc67826c75e2a36232dcfe6df79cc2fbbb636af5cc634412e94df6b3082d76064f175&x-goog-algorithm=GOOG4-RSA-SHA256&x-goog-credential=928365250020-compute%40developer.gserviceaccount.com%2F20220310%2Fus-east1%2Fstorage%2Fgoog4_request&x-goog-date=20220310T145905Z&x-goog-expires=86400&x-goog-signedheaders=host\"\n",
    "# EDGES_FILE = \"https://storage.googleapis.com/neo4j-upload/public-phapecoctavirus/edges.tsv?x-goog-signature=38c14f7944a00742abcc6684adbf32b0457e5fde690d8db0d341a716cd0097410668351a56eb28dacfcf705dd20e10377887555e9ba5e64a5d6716338aa452638badc51409846d0b84b0a67e39b44c72164aff9aa0b377d4e1aecc8a64cc326cb1317b6c651c6c17a3c039d5bab3189130d9a5090788905ed13414b023c7d067631df246fb8676cdc49c07b5b38361f00a484b022e1d6ac212917abb1871ed9be0f566deb7cafad3bfd5c0a5e334aec29d0ae13bf3690bc737b96b8a49afb13dafa5a494c8fbb9b817ac080ae379ea7b40f67160a338e301a8a471e93698f17fb9cfc39e279b00d9a6a584fa44e0efc2ea8d20f7c3a6286151a450222d712cbf&x-goog-algorithm=GOOG4-RSA-SHA256&x-goog-credential=928365250020-compute%40developer.gserviceaccount.com%2F20220309%2Fus-east1%2Fstorage%2Fgoog4_request&x-goog-date=20220309T184444Z&x-goog-expires=86400&x-goog-signedheaders=host\""
   ]
  },
  {
   "cell_type": "code",
   "execution_count": 24,
   "metadata": {},
   "outputs": [],
   "source": [
    "# cmd = \n",
    "# \"\"\"\n",
    "# FIELDTERMINATOR '\\t' LOAD CSV WITH HEADERS FROM '$(NODES_FILE)' AS row\n",
    "# MERGE (k:Kmer {kmer: row.kmer})\n",
    "# \"\"\"\n",
    "# cmd = rstrip(replace(cmd, '\\n' => ' '))\n",
    "# cmd = \n",
    "# \"\"\"\n",
    "# CALL apoc.periodic.iterate(\n",
    "#     \"LOAD CSV WITH HEADERS FROM '$(NODES_FILE)' AS row FIELDTERMINATOR '\\t' RETURN row\",\n",
    "#     \"MERGE (k:Kmer {kmer: row.kmer})\",\n",
    "#     {batchSize:1000})\n",
    "# \"\"\"\n",
    "# cmd = rstrip(replace(cmd, '\\n' => ' '))\n",
    "# cypher_cmd = Mycelia.cypher(address = ADDRESS, username = USERNAME, password = PASSWORD, database = DATABASE, cmd = cmd)"
   ]
  },
  {
   "cell_type": "code",
   "execution_count": 25,
   "metadata": {},
   "outputs": [],
   "source": [
    "# @time run(cypher_cmd)"
   ]
  },
  {
   "cell_type": "code",
   "execution_count": 26,
   "metadata": {},
   "outputs": [],
   "source": [
    "# write a batching script that will load the CSV, write temporary files to GCP, grab the signed url, upload with cypher, delete the temp file, and then repeat until complete"
   ]
  },
  {
   "cell_type": "code",
   "execution_count": 27,
   "metadata": {},
   "outputs": [
    {
     "data": {
      "text/html": [
       "<div class=\"data-frame\"><p>382,632 rows × 2 columns</p><table class=\"data-frame\"><thead><tr><th></th><th>kmer</th><th>count</th></tr><tr><th></th><th title=\"String\">String</th><th title=\"Int64\">Int64</th></tr></thead><tbody><tr><th>1</th><td>AAAAAAACTTACG</td><td>8</td></tr><tr><th>2</th><td>AAAAAAATAAAGA</td><td>8</td></tr><tr><th>3</th><td>AAAAAAATAATGG</td><td>1</td></tr><tr><th>4</th><td>AAAAAAATACACT</td><td>3</td></tr><tr><th>5</th><td>AAAAAAATATCGT</td><td>3</td></tr><tr><th>6</th><td>AAAAAAATTACGT</td><td>8</td></tr><tr><th>7</th><td>AAAAAAATTATTG</td><td>6</td></tr><tr><th>8</th><td>AAAAAAATTTTAA</td><td>3</td></tr><tr><th>9</th><td>AAAAAACAAGAAT</td><td>8</td></tr><tr><th>10</th><td>AAAAAACAGGTCC</td><td>8</td></tr><tr><th>11</th><td>AAAAAACAGTGAT</td><td>4</td></tr><tr><th>12</th><td>AAAAAACATAGGT</td><td>6</td></tr><tr><th>13</th><td>AAAAAACATGGAA</td><td>3</td></tr><tr><th>14</th><td>AAAAAACCTGAAG</td><td>8</td></tr><tr><th>15</th><td>AAAAAACGAGCAA</td><td>8</td></tr><tr><th>16</th><td>AAAAAACGGATGG</td><td>6</td></tr><tr><th>17</th><td>AAAAAACGTAGAT</td><td>8</td></tr><tr><th>18</th><td>AAAAAACGTATAG</td><td>5</td></tr><tr><th>19</th><td>AAAAAACGTGAAA</td><td>8</td></tr><tr><th>20</th><td>AAAAAACGTTATG</td><td>2</td></tr><tr><th>21</th><td>AAAAAACTAATAC</td><td>8</td></tr><tr><th>22</th><td>AAAAAACTAATGA</td><td>8</td></tr><tr><th>23</th><td>AAAAAACTAGCAT</td><td>8</td></tr><tr><th>24</th><td>AAAAAACTCGTAG</td><td>1</td></tr><tr><th>25</th><td>AAAAAACTCTGCG</td><td>7</td></tr><tr><th>26</th><td>AAAAAACTCTTAT</td><td>8</td></tr><tr><th>27</th><td>AAAAAACTGCTGC</td><td>7</td></tr><tr><th>28</th><td>AAAAAACTTACGC</td><td>8</td></tr><tr><th>29</th><td>AAAAAACTTTTCC</td><td>8</td></tr><tr><th>30</th><td>AAAAAAGAAAAGA</td><td>8</td></tr><tr><th>&vellip;</th><td>&vellip;</td><td>&vellip;</td></tr></tbody></table></div>"
      ],
      "text/latex": [
       "\\begin{tabular}{r|cc}\n",
       "\t& kmer & count\\\\\n",
       "\t\\hline\n",
       "\t& String & Int64\\\\\n",
       "\t\\hline\n",
       "\t1 & AAAAAAACTTACG & 8 \\\\\n",
       "\t2 & AAAAAAATAAAGA & 8 \\\\\n",
       "\t3 & AAAAAAATAATGG & 1 \\\\\n",
       "\t4 & AAAAAAATACACT & 3 \\\\\n",
       "\t5 & AAAAAAATATCGT & 3 \\\\\n",
       "\t6 & AAAAAAATTACGT & 8 \\\\\n",
       "\t7 & AAAAAAATTATTG & 6 \\\\\n",
       "\t8 & AAAAAAATTTTAA & 3 \\\\\n",
       "\t9 & AAAAAACAAGAAT & 8 \\\\\n",
       "\t10 & AAAAAACAGGTCC & 8 \\\\\n",
       "\t11 & AAAAAACAGTGAT & 4 \\\\\n",
       "\t12 & AAAAAACATAGGT & 6 \\\\\n",
       "\t13 & AAAAAACATGGAA & 3 \\\\\n",
       "\t14 & AAAAAACCTGAAG & 8 \\\\\n",
       "\t15 & AAAAAACGAGCAA & 8 \\\\\n",
       "\t16 & AAAAAACGGATGG & 6 \\\\\n",
       "\t17 & AAAAAACGTAGAT & 8 \\\\\n",
       "\t18 & AAAAAACGTATAG & 5 \\\\\n",
       "\t19 & AAAAAACGTGAAA & 8 \\\\\n",
       "\t20 & AAAAAACGTTATG & 2 \\\\\n",
       "\t21 & AAAAAACTAATAC & 8 \\\\\n",
       "\t22 & AAAAAACTAATGA & 8 \\\\\n",
       "\t23 & AAAAAACTAGCAT & 8 \\\\\n",
       "\t24 & AAAAAACTCGTAG & 1 \\\\\n",
       "\t25 & AAAAAACTCTGCG & 7 \\\\\n",
       "\t26 & AAAAAACTCTTAT & 8 \\\\\n",
       "\t27 & AAAAAACTGCTGC & 7 \\\\\n",
       "\t28 & AAAAAACTTACGC & 8 \\\\\n",
       "\t29 & AAAAAACTTTTCC & 8 \\\\\n",
       "\t30 & AAAAAAGAAAAGA & 8 \\\\\n",
       "\t$\\dots$ & $\\dots$ & $\\dots$ \\\\\n",
       "\\end{tabular}\n"
      ],
      "text/plain": [
       "\u001b[1m382632×2 DataFrame\u001b[0m\n",
       "\u001b[1m    Row \u001b[0m│\u001b[1m kmer          \u001b[0m\u001b[1m count \u001b[0m\n",
       "\u001b[1m        \u001b[0m│\u001b[90m String        \u001b[0m\u001b[90m Int64 \u001b[0m\n",
       "────────┼──────────────────────\n",
       "      1 │ AAAAAAACTTACG      8\n",
       "      2 │ AAAAAAATAAAGA      8\n",
       "      3 │ AAAAAAATAATGG      1\n",
       "      4 │ AAAAAAATACACT      3\n",
       "      5 │ AAAAAAATATCGT      3\n",
       "      6 │ AAAAAAATTACGT      8\n",
       "      7 │ AAAAAAATTATTG      6\n",
       "      8 │ AAAAAAATTTTAA      3\n",
       "      9 │ AAAAAACAAGAAT      8\n",
       "     10 │ AAAAAACAGGTCC      8\n",
       "     11 │ AAAAAACAGTGAT      4\n",
       "   ⋮    │       ⋮          ⋮\n",
       " 382623 │ TTTATCGTCAAAA      1\n",
       " 382624 │ TTTCAGATTCAAA      1\n",
       " 382625 │ TTTCAGCAACAAA      1\n",
       " 382626 │ TTTCCGTATAAAA      1\n",
       " 382627 │ TTTCTATTACAAA      1\n",
       " 382628 │ TTTCTCTTAAAAA      1\n",
       " 382629 │ TTTGCCACTAAAA      1\n",
       " 382630 │ TTTGCGAATAAAA      1\n",
       " 382631 │ TTTTACCAAAAAA      1\n",
       " 382632 │ TTTTAGATAAAAA      1\n",
       "\u001b[36m            382611 rows omitted\u001b[0m"
      ]
     },
     "execution_count": 27,
     "metadata": {},
     "output_type": "execute_result"
    }
   ],
   "source": [
    "node_table = DataFrames.DataFrame(uCSV.read(node_table_file, header=1, delim='\\t')...)"
   ]
  },
  {
   "cell_type": "code",
   "execution_count": null,
   "metadata": {},
   "outputs": [],
   "source": [
    "# # bigger batch sizes than 1K aren't faster\n",
    "# # window size 10K crashed the system\n",
    "# # window_size = 10_000\n",
    "# window_size = 1_000\n",
    "# windows = [i:min(i+window_size-1,DataFrames.nrow(node_table)) for i in 1:window_size:DataFrames.nrow(node_table)]\n",
    "# # ProgressMeter.@showprogress for (i, window) in enumerate(windows)\n",
    "# ProgressMeter.@showprogress for (i, window) in windows\n",
    "#     outfile = node_table_file * \".$i.tsv\"\n",
    "#     # if !isfile(outfile)\n",
    "#     uCSV.write(outfile, node_table[window, :], delim='\\t')\n",
    "#     # end\n",
    "#     cloud_file = \"gs://neo4j-upload/$(basename(outfile))\"\n",
    "#     # ls_result = readline(open(`gsutil ls \"$(cloud_file)\"`))\n",
    "#     # if ls_result != cloud_file\n",
    "#     run(`gsutil cp \"$(outfile)\" \"$(cloud_file)\"`)\n",
    "#     # end\n",
    "# #     # gcloud iam service-accounts keys create ~/.config/gcloud/url-signer-key.json --iam-account=\"928365250020-compute@developer.gserviceaccount.com\"\n",
    "#     cmd = `gsutil signurl -d 24h \"$(homedir())/.config/gcloud/url-signer-key.json\" \"$(cloud_file)\"`\n",
    "#     df = DataFrames.DataFrame(uCSV.read(open(cmd), delim='\\t', header=1)...)\n",
    "#     signed_url = df[1, \"Signed URL\"]    \n",
    "#     cmd = \n",
    "#     \"\"\"\n",
    "#     LOAD CSV WITH HEADERS FROM '$(signed_url)' AS row\n",
    "#     FIELDTERMINATOR '\\t' \n",
    "#     MERGE (k:Kmer {kmer: row.kmer})\n",
    "#     \"\"\"\n",
    "#     cmd = rstrip(replace(cmd, '\\n' => ' '))\n",
    "#     cypher_cmd = Mycelia.cypher(address = ADDRESS, username = USERNAME, password = PASSWORD, database = DATABASE, cmd = cmd)\n",
    "#     run(cypher_cmd)\n",
    "    \n",
    "#     # cleanup\n",
    "#     rm(outfile)\n",
    "#     run(`gsutil rm \"$(cloud_file)\"`)\n",
    "# end"
   ]
  },
  {
   "cell_type": "code",
   "execution_count": 50,
   "metadata": {},
   "outputs": [
    {
     "name": "stderr",
     "output_type": "stream",
     "text": [
      "An equivalent index already exists, 'Index( id=3, name='index_77b06269', type='GENERAL BTREE', schema=(:Kmer {kmer}), indexProvider='native-btree-1.0' )'.\n"
     ]
    },
    {
     "ename": "LoadError",
     "evalue": "failed process: Process(`\u001b[4mcypher-shell\u001b[24m \u001b[4m--address\u001b[24m \u001b[4mneo4j+s://e9d58dd0.databases.neo4j.io:7687\u001b[24m \u001b[4m--username\u001b[24m \u001b[4mneo4j\u001b[24m \u001b[4m--password\u001b[24m \u001b[4m9RBMx3eTXVdMm8wdf42yxCvEleX1nt0wZTOEMdscvV0\u001b[24m \u001b[4m--database\u001b[24m \u001b[4mneo4j\u001b[24m \u001b[4m--format\u001b[24m \u001b[4mauto\u001b[24m \u001b[4m'CREATE INDEX FOR (k:Kmer) ON (k.kmer)'\u001b[24m`, ProcessExited(1)) [1]\n",
     "output_type": "error",
     "traceback": [
      "failed process: Process(`\u001b[4mcypher-shell\u001b[24m \u001b[4m--address\u001b[24m \u001b[4mneo4j+s://e9d58dd0.databases.neo4j.io:7687\u001b[24m \u001b[4m--username\u001b[24m \u001b[4mneo4j\u001b[24m \u001b[4m--password\u001b[24m \u001b[4m9RBMx3eTXVdMm8wdf42yxCvEleX1nt0wZTOEMdscvV0\u001b[24m \u001b[4m--database\u001b[24m \u001b[4mneo4j\u001b[24m \u001b[4m--format\u001b[24m \u001b[4mauto\u001b[24m \u001b[4m'CREATE INDEX FOR (k:Kmer) ON (k.kmer)'\u001b[24m`, ProcessExited(1)) [1]\n",
      "",
      "Stacktrace:",
      " [1] pipeline_error",
      "   @ ./process.jl:525 [inlined]",
      " [2] run(::Cmd; wait::Bool)",
      "   @ Base ./process.jl:440",
      " [3] run(::Cmd)",
      "   @ Base ./process.jl:438",
      " [4] top-level scope",
      "   @ In[50]:10",
      " [5] eval",
      "   @ ./boot.jl:360 [inlined]",
      " [6] include_string(mapexpr::typeof(REPL.softscope), mod::Module, code::String, filename::String)",
      "   @ Base ./loading.jl:1116"
     ]
    }
   ],
   "source": [
    "# index the kmer space to improve performance??\n",
    "cmd = \n",
    "\"\"\"\n",
    "CREATE INDEX\n",
    "FOR (k:Kmer)\n",
    "ON (k.kmer)\n",
    "\"\"\"\n",
    "cmd = strip(replace(cmd, '\\n' => ' '))\n",
    "cypher_cmd = Mycelia.cypher(address = ADDRESS, username = USERNAME, password = PASSWORD, database = DATABASE, cmd = cmd)\n",
    "run(cypher_cmd)  "
   ]
  },
  {
   "cell_type": "code",
   "execution_count": null,
   "metadata": {},
   "outputs": [],
   "source": [
    "# for 100 merges over cypher\n",
    "# Progress:   0%|                                         |  ETA: 1 days, 10:45:30\n",
    "\n",
    "# post indexing, went down to 5 hours!!!\n",
    "# Progress:   0%|▏                                        |  ETA: 4:59:42"
   ]
  },
  {
   "cell_type": "code",
   "execution_count": 72,
   "metadata": {},
   "outputs": [
    {
     "data": {
      "text/plain": [
       "Set{String} with 378632 elements:\n",
       "  \"ATCACTGGTTCAT\"\n",
       "  \"GTAACATGCAGCA\"\n",
       "  \"CCGAGTCTTAAAC\"\n",
       "  \"ATCCCGAATTATA\"\n",
       "  \"ACTATCAATGGTC\"\n",
       "  \"CCATTCTAAATCA\"\n",
       "  \"ATGTATTTTTGAA\"\n",
       "  \"CGCTTCACGGCGA\"\n",
       "  \"AAAATTTGACCGT\"\n",
       "  \"ACGTAAATCTGAT\"\n",
       "  \"AGTATCATGATTA\"\n",
       "  \"AGTAGATGTAACA\"\n",
       "  \"TGACTGTCACTCA\"\n",
       "  \"AAAGAACCGTTAA\"\n",
       "  \"GATTGAAGTTGAC\"\n",
       "  \"ACTTTATATTAAA\"\n",
       "  \"GATTAATCTGAAC\"\n",
       "  \"AAGTTGATGGGCT\"\n",
       "  \"AATAAAACGGTGT\"\n",
       "  \"TGGCACCATGACA\"\n",
       "  \"ATTCCTCGTACCC\"\n",
       "  \"AACGTGATTTAGG\"\n",
       "  \"AAGAAGCAGTATT\"\n",
       "  \"ATCAGGCTGGTTA\"\n",
       "  \"TCGTTTTTGGTCA\"\n",
       "  ⋮ "
      ]
     },
     "execution_count": 72,
     "metadata": {},
     "output_type": "execute_result"
    }
   ],
   "source": [
    "# cmd = \n",
    "# \"\"\"\n",
    "# MATCH (k:Kmer) RETURN k.kmer LIMIT 25\n",
    "# \"\"\"\n",
    "cmd = \n",
    "\"\"\"\n",
    "MATCH (k:Kmer) RETURN k.kmer AS kmer\n",
    "\"\"\"\n",
    "cmd = strip(cmd)\n",
    "\n",
    "cypher_cmd = Mycelia.cypher(address = ADDRESS, username = USERNAME, password = PASSWORD, database = DATABASE, cmd = cmd)\n",
    "\n",
    "kmers_currently_in_database = Set(DataFrames.DataFrame(uCSV.read(open(cypher_cmd), header=1, quotes='\"')...)[!, \"kmer\"])"
   ]
  },
  {
   "cell_type": "code",
   "execution_count": 76,
   "metadata": {},
   "outputs": [
    {
     "data": {
      "text/html": [
       "<div class=\"data-frame\"><p>4,000 rows × 2 columns</p><table class=\"data-frame\"><thead><tr><th></th><th>kmer</th><th>count</th></tr><tr><th></th><th title=\"String\">String</th><th title=\"Int64\">Int64</th></tr></thead><tbody><tr><th>1</th><td>AGCCATAAGTTTG</td><td>2</td></tr><tr><th>2</th><td>AGCCATAATAGGA</td><td>8</td></tr><tr><th>3</th><td>AGCCATACCTAAT</td><td>6</td></tr><tr><th>4</th><td>AGCCATACCTTCA</td><td>8</td></tr><tr><th>5</th><td>AGCCATACGAATC</td><td>7</td></tr><tr><th>6</th><td>AGCCATAGCAGAA</td><td>7</td></tr><tr><th>7</th><td>AGCCATATAACGA</td><td>8</td></tr><tr><th>8</th><td>AGCCATATAGGCG</td><td>8</td></tr><tr><th>9</th><td>AGCCATATCACGA</td><td>7</td></tr><tr><th>10</th><td>AGCCATATCTAAC</td><td>8</td></tr><tr><th>11</th><td>AGCCATATTAACC</td><td>6</td></tr><tr><th>12</th><td>AGCCATATTACCA</td><td>5</td></tr><tr><th>13</th><td>AGCCATATTATAT</td><td>1</td></tr><tr><th>14</th><td>AGCCATATTGTGG</td><td>5</td></tr><tr><th>15</th><td>AGCCATCAAAGCG</td><td>2</td></tr><tr><th>16</th><td>AGCCATCAACCCC</td><td>2</td></tr><tr><th>17</th><td>AGCCATCACCTTC</td><td>1</td></tr><tr><th>18</th><td>AGCCATCCAATAA</td><td>7</td></tr><tr><th>19</th><td>AGCCATCCTTGGC</td><td>8</td></tr><tr><th>20</th><td>AGCCATCGTTATC</td><td>2</td></tr><tr><th>21</th><td>AGCCATCTATTTC</td><td>3</td></tr><tr><th>22</th><td>AGCCATCTCGGAT</td><td>6</td></tr><tr><th>23</th><td>AGCCATCTTTAAT</td><td>6</td></tr><tr><th>24</th><td>AGCCATGCAAACA</td><td>7</td></tr><tr><th>25</th><td>AGCCATGCAATCG</td><td>6</td></tr><tr><th>26</th><td>AGCCATGCTCACC</td><td>3</td></tr><tr><th>27</th><td>AGCCATGCTGTGC</td><td>7</td></tr><tr><th>28</th><td>AGCCATGGCTGCA</td><td>8</td></tr><tr><th>29</th><td>AGCCATGGCTTCA</td><td>8</td></tr><tr><th>30</th><td>AGCCATGTAATTC</td><td>8</td></tr><tr><th>&vellip;</th><td>&vellip;</td><td>&vellip;</td></tr></tbody></table></div>"
      ],
      "text/latex": [
       "\\begin{tabular}{r|cc}\n",
       "\t& kmer & count\\\\\n",
       "\t\\hline\n",
       "\t& String & Int64\\\\\n",
       "\t\\hline\n",
       "\t1 & AGCCATAAGTTTG & 2 \\\\\n",
       "\t2 & AGCCATAATAGGA & 8 \\\\\n",
       "\t3 & AGCCATACCTAAT & 6 \\\\\n",
       "\t4 & AGCCATACCTTCA & 8 \\\\\n",
       "\t5 & AGCCATACGAATC & 7 \\\\\n",
       "\t6 & AGCCATAGCAGAA & 7 \\\\\n",
       "\t7 & AGCCATATAACGA & 8 \\\\\n",
       "\t8 & AGCCATATAGGCG & 8 \\\\\n",
       "\t9 & AGCCATATCACGA & 7 \\\\\n",
       "\t10 & AGCCATATCTAAC & 8 \\\\\n",
       "\t11 & AGCCATATTAACC & 6 \\\\\n",
       "\t12 & AGCCATATTACCA & 5 \\\\\n",
       "\t13 & AGCCATATTATAT & 1 \\\\\n",
       "\t14 & AGCCATATTGTGG & 5 \\\\\n",
       "\t15 & AGCCATCAAAGCG & 2 \\\\\n",
       "\t16 & AGCCATCAACCCC & 2 \\\\\n",
       "\t17 & AGCCATCACCTTC & 1 \\\\\n",
       "\t18 & AGCCATCCAATAA & 7 \\\\\n",
       "\t19 & AGCCATCCTTGGC & 8 \\\\\n",
       "\t20 & AGCCATCGTTATC & 2 \\\\\n",
       "\t21 & AGCCATCTATTTC & 3 \\\\\n",
       "\t22 & AGCCATCTCGGAT & 6 \\\\\n",
       "\t23 & AGCCATCTTTAAT & 6 \\\\\n",
       "\t24 & AGCCATGCAAACA & 7 \\\\\n",
       "\t25 & AGCCATGCAATCG & 6 \\\\\n",
       "\t26 & AGCCATGCTCACC & 3 \\\\\n",
       "\t27 & AGCCATGCTGTGC & 7 \\\\\n",
       "\t28 & AGCCATGGCTGCA & 8 \\\\\n",
       "\t29 & AGCCATGGCTTCA & 8 \\\\\n",
       "\t30 & AGCCATGTAATTC & 8 \\\\\n",
       "\t$\\dots$ & $\\dots$ & $\\dots$ \\\\\n",
       "\\end{tabular}\n"
      ],
      "text/plain": [
       "\u001b[1m4000×2 DataFrame\u001b[0m\n",
       "\u001b[1m  Row \u001b[0m│\u001b[1m kmer          \u001b[0m\u001b[1m count \u001b[0m\n",
       "\u001b[1m      \u001b[0m│\u001b[90m String        \u001b[0m\u001b[90m Int64 \u001b[0m\n",
       "──────┼──────────────────────\n",
       "    1 │ AGCCATAAGTTTG      2\n",
       "    2 │ AGCCATAATAGGA      8\n",
       "    3 │ AGCCATACCTAAT      6\n",
       "    4 │ AGCCATACCTTCA      8\n",
       "    5 │ AGCCATACGAATC      7\n",
       "    6 │ AGCCATAGCAGAA      7\n",
       "    7 │ AGCCATATAACGA      8\n",
       "    8 │ AGCCATATAGGCG      8\n",
       "    9 │ AGCCATATCACGA      7\n",
       "   10 │ AGCCATATCTAAC      8\n",
       "   11 │ AGCCATATTAACC      6\n",
       "  ⋮   │       ⋮          ⋮\n",
       " 3991 │ AGGTTAACACAAA      8\n",
       " 3992 │ AGGTTAACAGTAG      4\n",
       " 3993 │ AGGTTAACATTAG      8\n",
       " 3994 │ AGGTTAAGCAATC      8\n",
       " 3995 │ AGGTTAATATGAA      7\n",
       " 3996 │ AGGTTAATATGGC      5\n",
       " 3997 │ AGGTTAATCGTTA      8\n",
       " 3998 │ AGGTTAATCTTCA      8\n",
       " 3999 │ AGGTTAATTGATA      1\n",
       " 4000 │ AGGTTAATTTTCC      8\n",
       "\u001b[36m            3979 rows omitted\u001b[0m"
      ]
     },
     "execution_count": 76,
     "metadata": {},
     "output_type": "execute_result"
    }
   ],
   "source": [
    "filtered_node_table = node_table[map(kmer -> !(kmer in kmers_currently_in_database), node_table[!, \"kmer\"]), :]"
   ]
  },
  {
   "cell_type": "code",
   "execution_count": 77,
   "metadata": {},
   "outputs": [],
   "source": [
    "t = filtered_node_table\n",
    "window_size = 100\n",
    "windows = [i:min(i+window_size-1,DataFrames.nrow(t)) for i in 1:window_size:DataFrames.nrow(t)]\n",
    "ProgressMeter.@showprogress for window in windows  \n",
    "    cmds = [\"MERGE (k$(w):Kmer {kmer: '$kmer'})\" for (w, kmer) in zip(window, t[window, \"kmer\"])]\n",
    "    cmd = join(cmds, ' ')\n",
    "    cypher_cmd = Mycelia.cypher(address = ADDRESS, username = USERNAME, password = PASSWORD, database = DATABASE, cmd = cmd)\n",
    "    run(cypher_cmd)    \n",
    "end"
   ]
  },
  {
   "cell_type": "code",
   "execution_count": null,
   "metadata": {},
   "outputs": [],
   "source": []
  }
 ],
 "metadata": {
  "kernelspec": {
   "display_name": "Julia 1.6.5",
   "language": "julia",
   "name": "julia-1.6"
  },
  "language_info": {
   "file_extension": ".jl",
   "mimetype": "application/julia",
   "name": "julia",
   "version": "1.6.5"
  }
 },
 "nbformat": 4,
 "nbformat_minor": 4
}
