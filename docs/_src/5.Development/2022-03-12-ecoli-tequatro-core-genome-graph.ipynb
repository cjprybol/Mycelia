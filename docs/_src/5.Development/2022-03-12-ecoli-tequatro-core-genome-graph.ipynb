{
 "cells": [
  {
   "cell_type": "markdown",
   "metadata": {},
   "source": [
    "# Kmer Graph"
   ]
  },
  {
   "cell_type": "code",
   "execution_count": 1,
   "metadata": {},
   "outputs": [
    {
     "data": {
      "text/plain": [
       "2-element Vector{Union{Nothing, SubString{String}}}:\n",
       " \"2022-03-12\"\n",
       " \"ecoli-tequatrovirus\""
      ]
     },
     "execution_count": 1,
     "metadata": {},
     "output_type": "execute_result"
    }
   ],
   "source": [
    "DATE_TASK = \"2022-03-12-ecoli-tequatrovirus\"\n",
    "DIR = mkpath(\"$(homedir())/workspace/$DATE_TASK\")\n",
    "cd(DIR)\n",
    "DATE, TASK = match(r\"^(\\d{4}-\\d{2}-\\d{2})-(.*)$\", DATE_TASK).captures"
   ]
  },
  {
   "cell_type": "code",
   "execution_count": 2,
   "metadata": {},
   "outputs": [
    {
     "name": "stderr",
     "output_type": "stream",
     "text": [
      "\u001b[32m\u001b[1m    Updating\u001b[22m\u001b[39m registry at `~/.julia/registries/General`\n",
      "\u001b[32m\u001b[1m    Updating\u001b[22m\u001b[39m git-repo `https://github.com/cjprybol/Mycelia.git#master`\n",
      "\u001b[32m\u001b[1m    Updating\u001b[22m\u001b[39m `~/git/Mycelia/docs/Project.toml`\n",
      " \u001b[90m [453d265d] \u001b[39m\u001b[93m~ Mycelia v0.1.0 `https://github.com/cjprybol/Mycelia.git#master#master` ⇒ v0.1.0 `https://github.com/cjprybol/Mycelia.git#master#master`\u001b[39m\n",
      "\u001b[32m\u001b[1m    Updating\u001b[22m\u001b[39m `~/git/Mycelia/docs/Manifest.toml`\n",
      " \u001b[90m [453d265d] \u001b[39m\u001b[93m~ Mycelia v0.1.0 `https://github.com/cjprybol/Mycelia.git#master#master` ⇒ v0.1.0 `https://github.com/cjprybol/Mycelia.git#master#master`\u001b[39m\n",
      "\u001b[32m\u001b[1mPrecompiling\u001b[22m\u001b[39m project...\n",
      "\u001b[32m  ✓ \u001b[39mMycelia\n",
      "  1 dependency successfully precompiled in 26 seconds (252 already precompiled, 9 skipped during auto due to previous errors)\n"
     ]
    }
   ],
   "source": [
    "import Pkg\n",
    "Pkg.update()\n",
    "pkgs = [\n",
    "\"JSON\",\n",
    "\"HTTP\",\n",
    "\"Dates\",\n",
    "\"uCSV\",\n",
    "\"DelimitedFiles\",\n",
    "\"DataFrames\",\n",
    "\"ProgressMeter\",\n",
    "\"BioSequences\",\n",
    "\"FASTX\",\n",
    "\"Distances\",\n",
    "\"StatsPlots\",\n",
    "\"StatsBase\",\n",
    "\"Statistics\",\n",
    "\"MultivariateStats\",\n",
    "\"Random\",\n",
    "\"Primes\",\n",
    "\"SparseArrays\",\n",
    "\"SHA\",\n",
    "\"GenomicAnnotations\",\n",
    "\"Combinatorics\",\n",
    "\"OrderedCollections\",\n",
    "\"Downloads\",\n",
    "\"Clustering\",\n",
    "\"Revise\",\n",
    "\"Mmap\",\n",
    "\"Graphs\",\n",
    "\"MetaGraphs\",\n",
    "\"FileIO\"\n",
    "]\n",
    "\n",
    "for pkg in pkgs\n",
    "    try\n",
    "        eval(Meta.parse(\"import $pkg\"))\n",
    "    catch\n",
    "        Pkg.add(pkg)\n",
    "        eval(Meta.parse(\"import $pkg\"))\n",
    "    end\n",
    "end\n",
    "\n",
    "# works but can't update locally, need to push and restart kernel to activate changes\n",
    "# \"https://github.com/cjprybol/Mycelia.git#master\",\n",
    "# didn't work\n",
    "# \"$(homedir())/git/Mycelia#master\",\n",
    "pkg_path = \"$(homedir())/git/Mycelia\"\n",
    "try\n",
    "    eval(Meta.parse(\"import $(basename(pkg_path))\"))\n",
    "catch\n",
    "    # Pkg.add(url=pkg)\n",
    "    Pkg.develop(path=pkg_path)\n",
    "    # pkg = replace(basename(pkg), \".git#master\" => \"\")\n",
    "    # pkg = replace(basename(pkg), \"#master\" => \"\")\n",
    "    eval(Meta.parse(\"import $(basename(pkg_path))\"))\n",
    "end"
   ]
  },
  {
   "cell_type": "code",
   "execution_count": 3,
   "metadata": {},
   "outputs": [
    {
     "data": {
      "text/plain": [
       "\"Escherichia\""
      ]
     },
     "execution_count": 3,
     "metadata": {},
     "output_type": "execute_result"
    }
   ],
   "source": [
    "# https://www.ncbi.nlm.nih.gov/Taxonomy/Browser/wwwtax.cgi?&id=$(tax_id)\n",
    "# https://www.ncbi.nlm.nih.gov/Taxonomy/Browser/wwwtax.cgi?lvl=0&amp;id=2733124\n",
    "# root_tax_id = 2733124\n",
    "\n",
    "root_tax_id = 10663\n",
    "host = \"Escherichia\""
   ]
  },
  {
   "cell_type": "code",
   "execution_count": 4,
   "metadata": {},
   "outputs": [
    {
     "name": "stdout",
     "output_type": "stream",
     "text": [
      "MATCH (n)<-[*]-(n2) WHERE n.tax_id IS NOT NULL AND n.tax_id = \"10663\" RETURN DISTINCT n2.tax_id AS tax_id\n"
     ]
    },
    {
     "data": {
      "text/plain": [
       "389-element Vector{Int64}:\n",
       " 2844206\n",
       " 2724310\n",
       " 2844259\n",
       " 2697536\n",
       " 2844181\n",
       " 1837867\n",
       " 2844208\n",
       " 2508180\n",
       " 2844129\n",
       " 1651198\n",
       " 2844214\n",
       " 2184699\n",
       " 2844202\n",
       "       ⋮\n",
       " 2656520\n",
       " 2846199\n",
       " 2591063\n",
       " 2846680\n",
       " 2321390\n",
       " 2846682\n",
       " 2052930\n",
       " 2846681\n",
       " 2691085\n",
       " 2844196\n",
       " 2081604\n",
       "   10663"
      ]
     },
     "execution_count": 4,
     "metadata": {},
     "output_type": "execute_result"
    }
   ],
   "source": [
    "child_tax_ids = vcat(Mycelia.taxonomic_id_to_children(root_tax_id), root_tax_id)\n",
    "# # child_tax_ids = vcat(child_tax_ids, root_tax_id)"
   ]
  },
  {
   "cell_type": "code",
   "execution_count": null,
   "metadata": {},
   "outputs": [],
   "source": [
    "# TODO\n",
    "# here is where we should apply a filter where host == Escherichia\n",
    "# need to load host information into neo4j taxonomy"
   ]
  },
  {
   "cell_type": "code",
   "execution_count": 5,
   "metadata": {},
   "outputs": [
    {
     "data": {
      "text/html": [
       "<div class=\"data-frame\"><p>1,230,212 rows × 23 columns (omitted printing of 18 columns)</p><table class=\"data-frame\"><thead><tr><th></th><th># assembly_accession</th><th>bioproject</th><th>biosample</th><th>wgs_master</th><th>refseq_category</th></tr><tr><th></th><th title=\"String\">String</th><th title=\"String\">String</th><th title=\"String\">String</th><th title=\"String\">String</th><th title=\"String\">String</th></tr></thead><tbody><tr><th>1</th><td>GCA_000001215.4</td><td>PRJNA13812</td><td>SAMN02803731</td><td></td><td>reference genome</td></tr><tr><th>2</th><td>GCA_000001405.29</td><td>PRJNA31257</td><td></td><td></td><td>reference genome</td></tr><tr><th>3</th><td>GCA_000001515.5</td><td>PRJNA13184</td><td>SAMN02981217</td><td>AACZ00000000.4</td><td>na</td></tr><tr><th>4</th><td>GCA_000001545.3</td><td>PRJNA20869</td><td>SAMN02981238</td><td>ABGA00000000.1</td><td>na</td></tr><tr><th>5</th><td>GCA_000001635.9</td><td>PRJNA20689</td><td></td><td></td><td>reference genome</td></tr><tr><th>6</th><td>GCA_000001735.2</td><td>PRJNA10719</td><td>SAMN03081427</td><td></td><td>reference genome</td></tr><tr><th>7</th><td>GCA_000001765.3</td><td>PRJNA10626</td><td>SAMN00779672</td><td>AADE00000000.2</td><td>na</td></tr><tr><th>8</th><td>GCA_000001895.4</td><td>PRJNA10629</td><td>SAMN02808228</td><td>AABR00000000.7</td><td>na</td></tr><tr><th>9</th><td>GCA_000001905.1</td><td>PRJNA12569</td><td>SAMN02953622</td><td>AAGU00000000.3</td><td>representative genome</td></tr><tr><th>10</th><td>GCA_000001985.1</td><td>PRJNA19555</td><td>SAMN02953685</td><td>ABAR00000000.1</td><td>representative genome</td></tr><tr><th>11</th><td>GCA_000002035.4</td><td>PRJNA11776</td><td>SAMN06930106</td><td></td><td>reference genome</td></tr><tr><th>12</th><td>GCA_000002075.2</td><td>PRJNA13635</td><td>SAMN02953658</td><td>AASC00000000.3</td><td>representative genome</td></tr><tr><th>13</th><td>GCA_000002115.2</td><td>PRJNA1431</td><td>SAMN02981219</td><td>AADD00000000.1</td><td>na</td></tr><tr><th>14</th><td>GCA_000002125.2</td><td>PRJNA19621</td><td>SAMN02981236</td><td>ABBA00000000.1</td><td>na</td></tr><tr><th>15</th><td>GCA_000002135.3</td><td>PRJNA10793</td><td></td><td></td><td>na</td></tr><tr><th>16</th><td>GCA_000002165.1</td><td>PRJNA11785</td><td>SAMN03004379</td><td>AAHY00000000.1</td><td>na</td></tr><tr><th>17</th><td>GCA_000002175.2</td><td>PRJNA16847</td><td>SAMD00067074</td><td></td><td>na</td></tr><tr><th>18</th><td>GCA_000002195.1</td><td>PRJNA10625</td><td>SAMN00002455</td><td>AADG00000000.6</td><td>na</td></tr><tr><th>19</th><td>GCA_000002235.4</td><td>PRJNA10736</td><td>SAMN00829422</td><td>AAGJ00000000.6</td><td>representative genome</td></tr><tr><th>20</th><td>GCA_000002255.2</td><td>PRJNA12537</td><td>SAMN02981228</td><td>AANU00000000.1</td><td>na</td></tr><tr><th>21</th><td>GCA_000002265.1</td><td>PRJNA13999</td><td>SAMN03000701</td><td>AAHX00000000.1</td><td>na</td></tr><tr><th>22</th><td>GCA_000002275.2</td><td>PRJNA12885</td><td>SAMN02953646</td><td>AAPN00000000.1</td><td>na</td></tr><tr><th>23</th><td>GCA_000002285.4</td><td>PRJNA13179</td><td>SAMN02953603</td><td>AAEX00000000.4</td><td>na</td></tr><tr><th>24</th><td>GCA_000002295.1</td><td>PRJNA12561</td><td>SAMN02953611</td><td>AAFR00000000.3</td><td>representative genome</td></tr><tr><th>25</th><td>GCA_000002305.1</td><td>PRJNA18661</td><td>SAMN02953672</td><td>AAWR00000000.2</td><td>na</td></tr><tr><th>26</th><td>GCA_000002315.5</td><td>PRJNA13342</td><td>SAMN02981218</td><td>AADN00000000.5</td><td>na</td></tr><tr><th>27</th><td>GCA_000002325.2</td><td>PRJNA13660</td><td>SAMN02902141</td><td>AAZX00000000.1</td><td>na</td></tr><tr><th>28</th><td>GCA_000002335.3</td><td>PRJNA12540</td><td>SAMN02953634</td><td>AAJJ00000000.2</td><td>representative genome</td></tr><tr><th>29</th><td>GCA_000002415.2</td><td>PRJNA150</td><td>SAMN02953638</td><td>AAKM00000000.1</td><td>representative genome</td></tr><tr><th>30</th><td>GCA_000002425.2</td><td>PRJNA13064</td><td>SAMN00120126</td><td>ABEU00000000.2</td><td>representative genome</td></tr><tr><th>&vellip;</th><td>&vellip;</td><td>&vellip;</td><td>&vellip;</td><td>&vellip;</td><td>&vellip;</td></tr></tbody></table></div>"
      ],
      "text/latex": [
       "\\begin{tabular}{r|cccccc}\n",
       "\t& \\# assembly\\_accession & bioproject & biosample & wgs\\_master & refseq\\_category & \\\\\n",
       "\t\\hline\n",
       "\t& String & String & String & String & String & \\\\\n",
       "\t\\hline\n",
       "\t1 & GCA\\_000001215.4 & PRJNA13812 & SAMN02803731 &  & reference genome & $\\dots$ \\\\\n",
       "\t2 & GCA\\_000001405.29 & PRJNA31257 &  &  & reference genome & $\\dots$ \\\\\n",
       "\t3 & GCA\\_000001515.5 & PRJNA13184 & SAMN02981217 & AACZ00000000.4 & na & $\\dots$ \\\\\n",
       "\t4 & GCA\\_000001545.3 & PRJNA20869 & SAMN02981238 & ABGA00000000.1 & na & $\\dots$ \\\\\n",
       "\t5 & GCA\\_000001635.9 & PRJNA20689 &  &  & reference genome & $\\dots$ \\\\\n",
       "\t6 & GCA\\_000001735.2 & PRJNA10719 & SAMN03081427 &  & reference genome & $\\dots$ \\\\\n",
       "\t7 & GCA\\_000001765.3 & PRJNA10626 & SAMN00779672 & AADE00000000.2 & na & $\\dots$ \\\\\n",
       "\t8 & GCA\\_000001895.4 & PRJNA10629 & SAMN02808228 & AABR00000000.7 & na & $\\dots$ \\\\\n",
       "\t9 & GCA\\_000001905.1 & PRJNA12569 & SAMN02953622 & AAGU00000000.3 & representative genome & $\\dots$ \\\\\n",
       "\t10 & GCA\\_000001985.1 & PRJNA19555 & SAMN02953685 & ABAR00000000.1 & representative genome & $\\dots$ \\\\\n",
       "\t11 & GCA\\_000002035.4 & PRJNA11776 & SAMN06930106 &  & reference genome & $\\dots$ \\\\\n",
       "\t12 & GCA\\_000002075.2 & PRJNA13635 & SAMN02953658 & AASC00000000.3 & representative genome & $\\dots$ \\\\\n",
       "\t13 & GCA\\_000002115.2 & PRJNA1431 & SAMN02981219 & AADD00000000.1 & na & $\\dots$ \\\\\n",
       "\t14 & GCA\\_000002125.2 & PRJNA19621 & SAMN02981236 & ABBA00000000.1 & na & $\\dots$ \\\\\n",
       "\t15 & GCA\\_000002135.3 & PRJNA10793 &  &  & na & $\\dots$ \\\\\n",
       "\t16 & GCA\\_000002165.1 & PRJNA11785 & SAMN03004379 & AAHY00000000.1 & na & $\\dots$ \\\\\n",
       "\t17 & GCA\\_000002175.2 & PRJNA16847 & SAMD00067074 &  & na & $\\dots$ \\\\\n",
       "\t18 & GCA\\_000002195.1 & PRJNA10625 & SAMN00002455 & AADG00000000.6 & na & $\\dots$ \\\\\n",
       "\t19 & GCA\\_000002235.4 & PRJNA10736 & SAMN00829422 & AAGJ00000000.6 & representative genome & $\\dots$ \\\\\n",
       "\t20 & GCA\\_000002255.2 & PRJNA12537 & SAMN02981228 & AANU00000000.1 & na & $\\dots$ \\\\\n",
       "\t21 & GCA\\_000002265.1 & PRJNA13999 & SAMN03000701 & AAHX00000000.1 & na & $\\dots$ \\\\\n",
       "\t22 & GCA\\_000002275.2 & PRJNA12885 & SAMN02953646 & AAPN00000000.1 & na & $\\dots$ \\\\\n",
       "\t23 & GCA\\_000002285.4 & PRJNA13179 & SAMN02953603 & AAEX00000000.4 & na & $\\dots$ \\\\\n",
       "\t24 & GCA\\_000002295.1 & PRJNA12561 & SAMN02953611 & AAFR00000000.3 & representative genome & $\\dots$ \\\\\n",
       "\t25 & GCA\\_000002305.1 & PRJNA18661 & SAMN02953672 & AAWR00000000.2 & na & $\\dots$ \\\\\n",
       "\t26 & GCA\\_000002315.5 & PRJNA13342 & SAMN02981218 & AADN00000000.5 & na & $\\dots$ \\\\\n",
       "\t27 & GCA\\_000002325.2 & PRJNA13660 & SAMN02902141 & AAZX00000000.1 & na & $\\dots$ \\\\\n",
       "\t28 & GCA\\_000002335.3 & PRJNA12540 & SAMN02953634 & AAJJ00000000.2 & representative genome & $\\dots$ \\\\\n",
       "\t29 & GCA\\_000002415.2 & PRJNA150 & SAMN02953638 & AAKM00000000.1 & representative genome & $\\dots$ \\\\\n",
       "\t30 & GCA\\_000002425.2 & PRJNA13064 & SAMN00120126 & ABEU00000000.2 & representative genome & $\\dots$ \\\\\n",
       "\t$\\dots$ & $\\dots$ & $\\dots$ & $\\dots$ & $\\dots$ & $\\dots$ &  \\\\\n",
       "\\end{tabular}\n"
      ],
      "text/plain": [
       "\u001b[1m1230212×23 DataFrame\u001b[0m\n",
       "\u001b[1m     Row \u001b[0m│\u001b[1m # assembly_accession \u001b[0m\u001b[1m bioproject \u001b[0m\u001b[1m biosample     \u001b[0m\u001b[1m wgs_master        \u001b[0m\u001b[1m\u001b[0m ⋯\n",
       "\u001b[1m         \u001b[0m│\u001b[90m String               \u001b[0m\u001b[90m String     \u001b[0m\u001b[90m String        \u001b[0m\u001b[90m String            \u001b[0m\u001b[90m\u001b[0m ⋯\n",
       "─────────┼──────────────────────────────────────────────────────────────────────\n",
       "       1 │ GCA_000001215.4       PRJNA13812  SAMN02803731                      ⋯\n",
       "       2 │ GCA_000001405.29      PRJNA31257\n",
       "       3 │ GCA_000001515.5       PRJNA13184  SAMN02981217   AACZ00000000.4\n",
       "       4 │ GCA_000001545.3       PRJNA20869  SAMN02981238   ABGA00000000.1\n",
       "       5 │ GCA_000001635.9       PRJNA20689                                    ⋯\n",
       "       6 │ GCA_000001735.2       PRJNA10719  SAMN03081427\n",
       "       7 │ GCA_000001765.3       PRJNA10626  SAMN00779672   AADE00000000.2\n",
       "       8 │ GCA_000001895.4       PRJNA10629  SAMN02808228   AABR00000000.7\n",
       "       9 │ GCA_000001905.1       PRJNA12569  SAMN02953622   AAGU00000000.3     ⋯\n",
       "      10 │ GCA_000001985.1       PRJNA19555  SAMN02953685   ABAR00000000.1\n",
       "      11 │ GCA_000002035.4       PRJNA11776  SAMN06930106\n",
       "    ⋮    │          ⋮                ⋮             ⋮                ⋮          ⋱\n",
       " 1230203 │ GCA_931346615.1       PRJEB50994  SAMEA13018719  CAKNUZ000000000.1\n",
       " 1230204 │ GCA_931346935.1       PRJEB50986  SAMEA13013359  CAKNVA000000000.1  ⋯\n",
       " 1230205 │ GCA_931347365.1       PRJEB50988  SAMEA13013361  CAKNVC000000000.1\n",
       " 1230206 │ GCA_931347555.1       PRJEB50991  SAMEA13013390  CAKNVB000000000.1\n",
       " 1230207 │ GCA_932195095.1       PRJEB37996  SAMEA6801478   CAKNYM000000000.1\n",
       " 1230208 │ GCA_932273785.1       PRJEB51196  SAMEA7746778   CAKNZW000000000.1  ⋯\n",
       " 1230209 │ GCA_932273905.1       PRJEB51192  SAMEA8603164   CAKNZR000000000.1\n",
       " 1230210 │ GCA_932274355.1       PRJEB51190  SAMEA8603186   CAKNZO000000000.1\n",
       " 1230211 │ GCA_932274405.1       PRJEB51189  SAMEA7536243   CAKNZQ000000000.1\n",
       " 1230212 │ GCA_932276175.1       PRJEB51185  SAMEA7520369   CAKOAA000000000.1  ⋯\n",
       "\u001b[36m                                             19 columns and 1230191 rows omitted\u001b[0m"
      ]
     },
     "execution_count": 5,
     "metadata": {},
     "output_type": "execute_result"
    }
   ],
   "source": [
    "# refseq_metadata = Mycelia.load_refseq_metadata()\n",
    "ncbi_metadata = Mycelia.load_genbank_metadata()"
   ]
  },
  {
   "cell_type": "code",
   "execution_count": 6,
   "metadata": {},
   "outputs": [
    {
     "name": "stdout",
     "output_type": "stream",
     "text": [
      "\u001b[1m1×23 DataFrame\u001b[0m\n",
      "\u001b[1m Row \u001b[0m│\u001b[1m # assembly_accession \u001b[0m\u001b[1m bioproject \u001b[0m\u001b[1m biosample    \u001b[0m\u001b[1m wgs_master \u001b[0m\u001b[1m refseq_category  \u001b[0m\u001b[1m taxid \u001b[0m\u001b[1m species_taxid \u001b[0m\u001b[1m organism_name           \u001b[0m\u001b[1m infraspecific_name \u001b[0m\u001b[1m isolate \u001b[0m\u001b[1m version_status \u001b[0m\u001b[1m assembly_level \u001b[0m\u001b[1m release_type \u001b[0m\u001b[1m genome_rep \u001b[0m\u001b[1m seq_rel_date \u001b[0m\u001b[1m asm_name               \u001b[0m\u001b[1m submitter                         \u001b[0m\u001b[1m gbrs_paired_asm \u001b[0m\u001b[1m paired_asm_comp \u001b[0m\u001b[1m ftp_path                          \u001b[0m\u001b[1m excluded_from_refseq \u001b[0m\u001b[1m relation_to_type_material \u001b[0m\u001b[1m asm_not_live_date \u001b[0m\n",
      "\u001b[1m     \u001b[0m│\u001b[90m String               \u001b[0m\u001b[90m String     \u001b[0m\u001b[90m String       \u001b[0m\u001b[90m String     \u001b[0m\u001b[90m String           \u001b[0m\u001b[90m Int64 \u001b[0m\u001b[90m Int64         \u001b[0m\u001b[90m String                  \u001b[0m\u001b[90m String             \u001b[0m\u001b[90m String  \u001b[0m\u001b[90m String         \u001b[0m\u001b[90m String         \u001b[0m\u001b[90m String       \u001b[0m\u001b[90m String     \u001b[0m\u001b[90m String       \u001b[0m\u001b[90m String                 \u001b[0m\u001b[90m String                            \u001b[0m\u001b[90m String          \u001b[0m\u001b[90m String          \u001b[0m\u001b[90m String                            \u001b[0m\u001b[90m String               \u001b[0m\u001b[90m String                    \u001b[0m\u001b[90m String            \u001b[0m\n",
      "─────┼──────────────────────────────────────────────────────────────────────────────────────────────────────────────────────────────────────────────────────────────────────────────────────────────────────────────────────────────────────────────────────────────────────────────────────────────────────────────────────────────────────────────────────────────────────────────────────────────────────────────────────────────────────\n",
      "   1 │ GCA_000001215.4       PRJNA13812  SAMN02803731              reference genome   7227           7227  Drosophila melanogaster                               latest          Chromosome      Major         Full        2014/08/01    Release 6 plus ISO1 MT  The FlyBase Consortium/Berkeley …  GCF_000001215.4  identical        https://ftp.ncbi.nlm.nih.gov/gen…                                                   na"
     ]
    }
   ],
   "source": [
    "show(ncbi_metadata[1:1, :], allcols=true)"
   ]
  },
  {
   "cell_type": "code",
   "execution_count": 7,
   "metadata": {},
   "outputs": [
    {
     "data": {
      "text/plain": [
       "138"
      ]
     },
     "execution_count": 7,
     "metadata": {},
     "output_type": "execute_result"
    }
   ],
   "source": [
    "tax_id_filter = map(taxid -> taxid in child_tax_ids, ncbi_metadata[!, \"taxid\"])\n",
    "is_right_host = map(x -> occursin(Regex(host, \"i\"), x), ncbi_metadata[!, \"organism_name\"])\n",
    "not_excluded = ncbi_metadata[!, \"excluded_from_refseq\"] .== \"\"\n",
    "is_full = ncbi_metadata[!, \"genome_rep\"] .== \"Full\"\n",
    "# assembly_levels = [\"Complete Genome\"]\n",
    "assembly_levels = [\"Complete Genome\", \"Chromosome\"]\n",
    "# assembly_levels = [\"Complete Genome\", \"Chromosome\", \"Scaffold\"]\n",
    "# assembly_levels = [\"Complete Genome\", \"Chromosome\", \"Scaffold\", \"Contig\"]\n",
    "assembly_level_filter = map(x -> x in assembly_levels, ncbi_metadata[!, \"assembly_level\"])\n",
    "full_filter = is_full .& not_excluded .& assembly_level_filter .& tax_id_filter .& is_right_host\n",
    "count(full_filter)"
   ]
  },
  {
   "cell_type": "code",
   "execution_count": null,
   "metadata": {},
   "outputs": [],
   "source": [
    "# TODO\n",
    "# here is another place we could enforce host == escherichia\n",
    "# we'll use a manual filter as a temporary solution"
   ]
  },
  {
   "cell_type": "code",
   "execution_count": null,
   "metadata": {},
   "outputs": [],
   "source": [
    "# ncbi_metadata_of_interest = ncbi_metadata[full_filter, :]"
   ]
  },
  {
   "cell_type": "code",
   "execution_count": null,
   "metadata": {},
   "outputs": [],
   "source": [
    "# https://www.ncbi.nlm.nih.gov/sviewer/viewer.cgi?db=nuccore&report=genbank&id=GCA_021354775"
   ]
  },
  {
   "cell_type": "code",
   "execution_count": null,
   "metadata": {},
   "outputs": [],
   "source": [
    "# for col in names(ncbi_metadata_of_interest)\n",
    "#     @show col, ncbi_metadata_of_interest[1, col]\n",
    "# end"
   ]
  },
  {
   "cell_type": "code",
   "execution_count": null,
   "metadata": {},
   "outputs": [],
   "source": [
    "# # can I also get genbank record?????\n",
    "# # for extension in [\"genomic.fna.gz\", \"protein.faa.gz\"]\n",
    "# for extension in [\"genomic.fna.gz\", \"protein.faa.gz\", \"genomic.gbff.gz\"]\n",
    "#     outdir = mkpath(joinpath(DIR, extension))\n",
    "#     ProgressMeter.@showprogress for row in DataFrames.eachrow(ncbi_metadata_of_interest)\n",
    "#         url = Mycelia.ncbi_ftp_path_to_url(row[\"ftp_path\"], extension)\n",
    "#         outfile = joinpath(outdir, basename(url))\n",
    "#         if !isfile(outfile)\n",
    "#             try\n",
    "#                 Downloads.download(url, outfile)\n",
    "#             catch e\n",
    "#                 # @show e\n",
    "#                 showerror(stdout, e)\n",
    "#                 # @assert extension == \"protein.faa.gz\"\n",
    "#                 # here is where we should call prodigal to fill in protein annotations if we don't otherwise see them\n",
    "#             end\n",
    "#         end\n",
    "#     end\n",
    "# end"
   ]
  },
  {
   "cell_type": "code",
   "execution_count": 14,
   "metadata": {},
   "outputs": [
    {
     "data": {
      "text/plain": [
       "\"/home/jupyter-cameron.prybol/workspace/2022-03-12-ecoli-tequatrovirus/genomic.fna.gz\""
      ]
     },
     "execution_count": 14,
     "metadata": {},
     "output_type": "execute_result"
    }
   ],
   "source": [
    "extension = \"genomic.fna.gz\"\n",
    "outdir = mkpath(joinpath(DIR, extension))"
   ]
  },
  {
   "cell_type": "code",
   "execution_count": 16,
   "metadata": {},
   "outputs": [
    {
     "data": {
      "text/plain": [
       "8-element Vector{String}:\n",
       " \"/home/jupyter-cameron.prybol/workspace/2022-03-12-ecoli-tequatrovirus/genomic.fna.gz/GCA_000925055.1_ViralProj266786_genomic.fna.gz\"\n",
       " \"/home/jupyter-cameron.prybol/workspace/2022-03-12-ecoli-tequatrovirus/genomic.fna.gz/GCA_002618005.2_ASM261800v1_genomic.fna.gz\"\n",
       " \"/home/jupyter-cameron.prybol/workspace/2022-03-12-ecoli-tequatrovirus/genomic.fna.gz/GCA_005394485.1_ASM539448v1_genomic.fna.gz\"\n",
       " \"/home/jupyter-cameron.prybol/workspace/2022-03-12-ecoli-tequatrovirus/genomic.fna.gz/GCA_005394635.1_ASM539463v1_genomic.fna.gz\"\n",
       " \"/home/jupyter-cameron.prybol/workspace/2022-03-12-ecoli-tequatrovirus/genomic.fna.gz/GCA_020474825.1_ASM2047482v1_genomic.fna.gz\"\n",
       " \"/home/jupyter-cameron.prybol/workspace/2022-03-12-ecoli-tequatrovirus/genomic.fna.gz/GCA_020474885.1_ASM2047488v1_genomic.fna.gz\"\n",
       " \"/home/jupyter-cameron.prybol/workspace/2022-03-12-ecoli-tequatrovirus/genomic.fna.gz/GCA_020869095.1_ASM2086909v1_genomic.fna.gz\"\n",
       " \"/home/jupyter-cameron.prybol/workspace/2022-03-12-ecoli-tequatrovirus/genomic.fna.gz/GCA_022343355.1_ASM2234335v1_genomic.fna.gz\""
      ]
     },
     "execution_count": 16,
     "metadata": {},
     "output_type": "execute_result"
    }
   ],
   "source": [
    "fastx_files = filter(x -> !occursin(\".ipynb_checkpoints\", x), readdir(outdir, join=true))"
   ]
  },
  {
   "cell_type": "code",
   "execution_count": 15,
   "metadata": {},
   "outputs": [
    {
     "data": {
      "text/plain": [
       "13"
      ]
     },
     "execution_count": 15,
     "metadata": {},
     "output_type": "execute_result"
    }
   ],
   "source": [
    "# kmer_size = Mycelia.assess_dnamer_saturation(fastx_files)\n",
    "kmer_size = 13"
   ]
  },
  {
   "cell_type": "code",
   "execution_count": null,
   "metadata": {},
   "outputs": [],
   "source": [
    "# graph = Mycelia.fastx_to_kmer_graph(BioSequences.BigDNAMer{kmer_size}, fastx_files)"
   ]
  },
  {
   "cell_type": "code",
   "execution_count": null,
   "metadata": {},
   "outputs": [],
   "source": [
    "# use basename of files as identifiers"
   ]
  },
  {
   "cell_type": "code",
   "execution_count": 105,
   "metadata": {},
   "outputs": [
    {
     "data": {
      "text/plain": [
       "assess_edgemer (generic function with 1 method)"
      ]
     },
     "execution_count": 105,
     "metadata": {},
     "output_type": "execute_result"
    }
   ],
   "source": [
    "function assess_edgemer(edgemer)\n",
    "    k = length(edgemer)-1\n",
    "    kmer_type = BioSequences.BigDNAMer{k}\n",
    "    src = kmer_type(edgemer[i] for i in 1:k)\n",
    "    dst = kmer_type(edgemer[i] for i in 2:k+1)\n",
    "    canonical_src = BioSequences.canonical(src)\n",
    "    canonical_dst = BioSequences.canonical(dst)\n",
    "    src_is_canonical = src == canonical_src\n",
    "    dst_is_canonical = dst == canonical_dst\n",
    "    # @show edgemer\n",
    "    # @show src\n",
    "    # @show canonical_src\n",
    "    # @show src_is_canonical\n",
    "    # @show dst\n",
    "    # @show canonical_dst\n",
    "    # @show dst_is_canonical\n",
    "    return src, canonical_src, src_is_canonical, dst, canonical_dst, dst_is_canonical\n",
    "end"
   ]
  },
  {
   "cell_type": "code",
   "execution_count": 108,
   "metadata": {},
   "outputs": [
    {
     "data": {
      "text/plain": [
       "Symbol(\"false\")"
      ]
     },
     "execution_count": 108,
     "metadata": {},
     "output_type": "execute_result"
    }
   ],
   "source": [
    "Symbol(false)"
   ]
  },
  {
   "cell_type": "code",
   "execution_count": 116,
   "metadata": {},
   "outputs": [
    {
     "data": {
      "text/plain": [
       "Symbol(\"true\")"
      ]
     },
     "execution_count": 116,
     "metadata": {},
     "output_type": "execute_result"
    }
   ],
   "source": [
    "Symbol(true)"
   ]
  },
  {
   "cell_type": "code",
   "execution_count": 140,
   "metadata": {},
   "outputs": [
    {
     "data": {
      "text/plain": [
       "fastx_to_metagraph (generic function with 1 method)"
      ]
     },
     "execution_count": 140,
     "metadata": {},
     "output_type": "execute_result"
    }
   ],
   "source": [
    "function fastx_to_metagraph(k, fastx_files)\n",
    "    @assert isodd(k) \"k must be odd to avoid the possibility of kmers being reverse complements of themselves\"\n",
    "    @assert 3 <= k <= 63 \"k must be at least 3 to allow for kmer overlaps and less than 64 to be compatible with type limits\"\n",
    "    kmer_type = BioSequences.BigDNAMer{k}\n",
    "    edgemer_type = BioSequences.BigDNAMer{k+1}\n",
    "    edge_orientations = Symbol.([\n",
    "        \"true_true\",\n",
    "        \"true_false\",\n",
    "        \"false_true\",\n",
    "        \"false_false\"\n",
    "    ])\n",
    "    canonical_kmers = Set{kmer_type}()\n",
    "    graph = MetaGraphs.MetaDiGraph()\n",
    "    MetaGraphs.set_indexing_prop!(graph, :kmer)\n",
    "    for fastx in fastx_files\n",
    "        Graphs.add_vertex!(graph)\n",
    "        fasta_node = Graphs.nv(graph)\n",
    "        # node types are camel case\n",
    "        MetaGraphs.set_prop!(graph, fasta_node, :TYPE, \"Fasta\")\n",
    "        # node and edge properties are lowercase\n",
    "        MetaGraphs.set_prop!(graph, fasta_node, :path, fastx)\n",
    "        for record in Mycelia.open_fastx(fastx)\n",
    "            Graphs.add_vertex!(graph)\n",
    "            record_node = Graphs.nv(graph)\n",
    "            \n",
    "            MetaGraphs.set_prop!(graph, record_node, :TYPE, \"FastaRecord\")\n",
    "            MetaGraphs.set_prop!(graph, record_node, :identifier, FASTX.identifier(record))\n",
    "            MetaGraphs.set_prop!(graph, record_node, :description, FASTX.description(record))\n",
    "            MetaGraphs.set_prop!(graph, record_node, :sequence, FASTX.sequence(record))\n",
    "            if typeof(FASTX.sequence(record)) == BioSequences.LongDNASeq\n",
    "                sequence_type = \"dna\"\n",
    "            elseif typeof(FASTX.sequence(record)) == BioSequences.LongAminoAcidSeq\n",
    "                sequence_type = \"aa\"\n",
    "            elseif typeof(FASTX.sequence(record)) == BioSequences.LongRNASeq\n",
    "                sequence_type = \"rna\"\n",
    "            end\n",
    "            MetaGraphs.set_prop!(graph, record_node, :sequence_type, sequence_type)\n",
    "            edge = Graphs.Edge(fasta_node, record_node)\n",
    "            Graphs.add_edge!(graph, edge)\n",
    "            # edge types are all caps\n",
    "            MetaGraphs.set_prop!(graph, edge, :TYPE, \"CONTAINS\")\n",
    "            # for kmer in collect(BioSequences.each(kmer_type, FASTX.sequence(record)))[1:2^3]\n",
    "            for kmer in BioSequences.each(kmer_type, FASTX.sequence(record))\n",
    "                canonical_kmer = BioSequences.canonical(kmer)\n",
    "                if canonical_kmer in canonical_kmers\n",
    "                    kmer_node = graph[canonical_kmer, :kmer]\n",
    "                else\n",
    "                    push!(canonical_kmers, canonical_kmer)\n",
    "                    Graphs.add_vertex!(graph)\n",
    "                    kmer_node = Graphs.nv(graph)\n",
    "                    MetaGraphs.set_prop!(graph, kmer_node, :TYPE, \"Kmer\")\n",
    "                    MetaGraphs.set_prop!(graph, kmer_node, :sequence_type, sequence_type)\n",
    "                    MetaGraphs.set_prop!(graph, kmer_node, :kmer, BioSequences.canonical(kmer))\n",
    "                end\n",
    "                edge = Graphs.Edge(record_node, kmer_node)\n",
    "                if !Graphs.has_edge(graph, edge)\n",
    "                    Graphs.add_edge!(graph, edge)\n",
    "                    MetaGraphs.set_prop!(graph, edge, :TYPE, \"CONTAINS\")\n",
    "                    # can't use vectors as properties :(\n",
    "                    MetaGraphs.set_prop!(graph, edge, :count, 0)\n",
    "                    MetaGraphs.set_prop!(graph, edge, Symbol(true), 0)\n",
    "                    MetaGraphs.set_prop!(graph, edge, Symbol(false), 0)\n",
    "                end\n",
    "                is_canonical = Symbol(BioSequences.iscanonical(kmer.fw))\n",
    "                current_count = MetaGraphs.get_prop(graph, edge, is_canonical) + 1\n",
    "                MetaGraphs.set_prop!(graph, edge, is_canonical, current_count)\n",
    "\n",
    "                current_count = MetaGraphs.get_prop(graph, edge, Symbol(true)) + MetaGraphs.get_prop(graph, edge, Symbol(false))\n",
    "                MetaGraphs.set_prop!(graph, edge, :count, current_count)                \n",
    "            end\n",
    "            # for edgemer in collect(BioSequences.each(edgemer_type, FASTX.sequence(record)))[1:2^3-1]\n",
    "            for edgemer in BioSequences.each(edgemer_type, FASTX.sequence(record))\n",
    "                src, canonical_src, src_is_canonical, dst, canonical_dst, dst_is_canonical = assess_edgemer(edgemer.fw)\n",
    "                if canonical_dst < canonical_src\n",
    "                    src, canonical_src, src_is_canonical, dst, canonical_dst, dst_is_canonical = assess_edgemer(edgemer.bw)\n",
    "                end\n",
    "                src_index, dst_index = graph[canonical_src, :kmer], graph[canonical_dst, :kmer]\n",
    "                edge = Graphs.Edge(src_index, dst_index)\n",
    "                if !Graphs.has_edge(graph, edge)\n",
    "                    Graphs.add_edge!(graph, edge)\n",
    "                    MetaGraphs.set_prop!(graph, edge, :TYPE, \"CONNECTS_TO\")\n",
    "                    for o in edge_orientations\n",
    "                        MetaGraphs.set_prop!(graph, edge, o, 0)\n",
    "                    end\n",
    "                    MetaGraphs.set_prop!(graph, edge, :count, 0)\n",
    "                end\n",
    "                orientations = Symbol(\"$(src_is_canonical)_$(dst_is_canonical)\")\n",
    "                current_count = MetaGraphs.get_prop(graph, edge, orientations) + 1\n",
    "                MetaGraphs.set_prop!(graph, edge, orientations, current_count)\n",
    "                \n",
    "                current_count = sum(MetaGraphs.get_prop(graph, edge, o) for o in edge_orientations)\n",
    "                MetaGraphs.set_prop!(graph, edge, :count, current_count) \n",
    "            end\n",
    "        end\n",
    "    end\n",
    "    return graph\n",
    "end"
   ]
  },
  {
   "cell_type": "code",
   "execution_count": 141,
   "metadata": {},
   "outputs": [
    {
     "data": {
      "text/plain": [
       "{382648, 1722592} directed Int64 metagraph with Float64 weights defined by :weight (default weight 1.0)"
      ]
     },
     "execution_count": 141,
     "metadata": {},
     "output_type": "execute_result"
    }
   ],
   "source": [
    "# graph = fastx_to_metagraph(BioSequences.BigDNAMer{kmer_size}, fastx_files)\n",
    "graph = fastx_to_metagraph(kmer_size, fastx_files)"
   ]
  },
  {
   "cell_type": "code",
   "execution_count": 142,
   "metadata": {},
   "outputs": [
    {
     "data": {
      "text/plain": [
       "\"/home/jupyter-cameron.prybol/workspace/2022-03-12-ecoli-tequatrovirus/root-tax-id_10663.k_13.genome-graph\""
      ]
     },
     "execution_count": 142,
     "metadata": {},
     "output_type": "execute_result"
    }
   ],
   "source": [
    "graph_outfile = \"$DIR/root-tax-id_$(root_tax_id).k_$(kmer_size).genome-graph\"\n",
    "# Mycelia.save_graph(graph, graph_outfile)\n",
    "# Mycelia.graph_to_gfa(graph, graph_outfile * \".gfa\")\n",
    "# Mycelia.load_graph(graph_outfile)"
   ]
  },
  {
   "cell_type": "code",
   "execution_count": null,
   "metadata": {},
   "outputs": [],
   "source": [
    "# TODO: use new database"
   ]
  },
  {
   "cell_type": "code",
   "execution_count": 143,
   "metadata": {},
   "outputs": [
    {
     "data": {
      "text/plain": [
       "\"neo4j\""
      ]
     },
     "execution_count": 143,
     "metadata": {},
     "output_type": "execute_result"
    }
   ],
   "source": [
    "NEO4J_BIN_DIR = \"/home/jupyter-cjprybol/software/neo4j-community-4.4.3/bin\"\n",
    "if !occursin(NEO4J_BIN_DIR, ENV[\"PATH\"])\n",
    "    ENV[\"PATH\"] = \"$(NEO4J_BIN_DIR):\" * ENV[\"PATH\"]\n",
    "end\n",
    "DOMAIN = \"e9d58dd0.databases.neo4j.io\"\n",
    "USERNAME=\"neo4j\"\n",
    "PASSWORD=readline(joinpath(homedir(), \".config\", \"neo4j\", \"20220314-public-tequatrovirus.password.txt\"));\n",
    "ADDRESS=\"neo4j+s://$(DOMAIN):7687\"\n",
    "DATABASE = \"neo4j\""
   ]
  },
  {
   "cell_type": "code",
   "execution_count": null,
   "metadata": {},
   "outputs": [],
   "source": [
    "cmd = \"CREATE CONSTRAINT ON (k:Kmer) ASSERT k.sequence IS UNIQUE\"\n",
    "@time Mycelia.cypher(address = ADDRESS, username = USERNAME, password = PASSWORD, database = DATABASE, cmd = cmd)"
   ]
  },
  {
   "cell_type": "code",
   "execution_count": null,
   "metadata": {},
   "outputs": [],
   "source": [
    "# index the kmer space to improve performance??\n",
    "cmd = \n",
    "\"\"\"\n",
    "CREATE INDEX\n",
    "FOR (k:Kmer)\n",
    "ON (k.kmer)\n",
    "\"\"\"\n",
    "cmd = strip(replace(cmd, '\\n' => ' '))\n",
    "cypher_cmd = Mycelia.cypher(address = ADDRESS, username = USERNAME, password = PASSWORD, database = DATABASE, cmd = cmd)\n",
    "run(cypher_cmd)  "
   ]
  },
  {
   "cell_type": "code",
   "execution_count": null,
   "metadata": {},
   "outputs": [],
   "source": [
    "# create an arbitrary node upload"
   ]
  },
  {
   "cell_type": "code",
   "execution_count": null,
   "metadata": {},
   "outputs": [],
   "source": [
    "# for each node class\n",
    "    # create an upload command that maps properties in julia graph to properties in Neo4J graph\n",
    "    # upload in batches of 100\n",
    "# end"
   ]
  },
  {
   "cell_type": "code",
   "execution_count": null,
   "metadata": {},
   "outputs": [],
   "source": []
  },
  {
   "cell_type": "code",
   "execution_count": null,
   "metadata": {},
   "outputs": [],
   "source": [
    "t = filtered_node_table\n",
    "window_size = 100\n",
    "windows = [i:min(i+window_size-1,DataFrames.nrow(t)) for i in 1:window_size:DataFrames.nrow(t)]\n",
    "ProgressMeter.@showprogress for window in windows  \n",
    "    cmds = [\"MERGE (k$(w):Kmer {kmer: '$kmer'})\" for (w, kmer) in zip(window, t[window, \"kmer\"])]\n",
    "    cmd = join(cmds, ' ')\n",
    "    cypher_cmd = Mycelia.cypher(address = ADDRESS, username = USERNAME, password = PASSWORD, database = DATABASE, cmd = cmd)\n",
    "    run(cypher_cmd)\n",
    "end"
   ]
  },
  {
   "cell_type": "code",
   "execution_count": null,
   "metadata": {},
   "outputs": [],
   "source": [
    "# Work on adding edges now!"
   ]
  }
 ],
 "metadata": {
  "kernelspec": {
   "display_name": "Julia 1.6.5",
   "language": "julia",
   "name": "julia-1.6"
  },
  "language_info": {
   "file_extension": ".jl",
   "mimetype": "application/julia",
   "name": "julia",
   "version": "1.6.5"
  }
 },
 "nbformat": 4,
 "nbformat_minor": 4
}
