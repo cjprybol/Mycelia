{
 "cells": [
  {
   "cell_type": "markdown",
   "metadata": {},
   "source": [
    "# Kmer Graph"
   ]
  },
  {
   "cell_type": "code",
   "execution_count": null,
   "metadata": {},
   "outputs": [],
   "source": [
    "DATE_TASK = \"2022-03-12-ecoli-tequatrovirus\"\n",
    "DIR = mkpath(\"$(homedir())/workspace/$DATE_TASK\")\n",
    "cd(DIR)\n",
    "DATE, TASK = match(r\"^(\\d{4}-\\d{2}-\\d{2})-(.*)$\", DATE_TASK).captures"
   ]
  },
  {
   "cell_type": "code",
   "execution_count": null,
   "metadata": {},
   "outputs": [],
   "source": [
    "import Pkg\n",
    "Pkg.update()\n",
    "pkgs = [\n",
    "\"JSON\",\n",
    "\"HTTP\",\n",
    "\"Dates\",\n",
    "\"uCSV\",\n",
    "\"DelimitedFiles\",\n",
    "\"DataFrames\",\n",
    "\"ProgressMeter\",\n",
    "\"BioSequences\",\n",
    "\"FASTX\",\n",
    "\"Distances\",\n",
    "\"StatsPlots\",\n",
    "\"StatsBase\",\n",
    "\"Statistics\",\n",
    "\"MultivariateStats\",\n",
    "\"Random\",\n",
    "\"Primes\",\n",
    "\"SparseArrays\",\n",
    "\"SHA\",\n",
    "\"GenomicAnnotations\",\n",
    "\"Combinatorics\",\n",
    "\"OrderedCollections\",\n",
    "\"Downloads\",\n",
    "\"Clustering\",\n",
    "\"Revise\",\n",
    "\"Mmap\",\n",
    "\"Graphs\",\n",
    "\"MetaGraphs\",\n",
    "\"FileIO\"\n",
    "]\n",
    "\n",
    "for pkg in pkgs\n",
    "    try\n",
    "        eval(Meta.parse(\"import $pkg\"))\n",
    "    catch\n",
    "        Pkg.add(pkg)\n",
    "        eval(Meta.parse(\"import $pkg\"))\n",
    "    end\n",
    "end\n",
    "\n",
    "# works but can't update locally, need to push and restart kernel to activate changes\n",
    "# \"https://github.com/cjprybol/Mycelia.git#master\",\n",
    "# didn't work\n",
    "# \"$(homedir())/git/Mycelia#master\",\n",
    "pkg_path = \"$(homedir())/git/Mycelia\"\n",
    "try\n",
    "    eval(Meta.parse(\"import $(basename(pkg_path))\"))\n",
    "catch\n",
    "    # Pkg.add(url=pkg)\n",
    "    Pkg.develop(path=pkg_path)\n",
    "    # pkg = replace(basename(pkg), \".git#master\" => \"\")\n",
    "    # pkg = replace(basename(pkg), \"#master\" => \"\")\n",
    "    eval(Meta.parse(\"import $(basename(pkg_path))\"))\n",
    "end"
   ]
  },
  {
   "cell_type": "code",
   "execution_count": null,
   "metadata": {},
   "outputs": [],
   "source": [
    "# https://www.ncbi.nlm.nih.gov/Taxonomy/Browser/wwwtax.cgi?&id=$(tax_id)\n",
    "# https://www.ncbi.nlm.nih.gov/Taxonomy/Browser/wwwtax.cgi?lvl=0&amp;id=2733124\n",
    "# root_tax_id = 2733124\n",
    "\n",
    "root_tax_id = 10663\n",
    "host = \"Escherichia\""
   ]
  },
  {
   "cell_type": "code",
   "execution_count": null,
   "metadata": {},
   "outputs": [],
   "source": [
    "child_tax_ids = vcat(Mycelia.taxonomic_id_to_children(root_tax_id), root_tax_id)\n",
    "# # child_tax_ids = vcat(child_tax_ids, root_tax_id)"
   ]
  },
  {
   "cell_type": "code",
   "execution_count": null,
   "metadata": {},
   "outputs": [],
   "source": [
    "# TODO\n",
    "# here is where we should apply a filter where host == Escherichia\n",
    "# need to load host information into neo4j taxonomy"
   ]
  },
  {
   "cell_type": "code",
   "execution_count": null,
   "metadata": {},
   "outputs": [],
   "source": [
    "# refseq_metadata = Mycelia.load_refseq_metadata()\n",
    "ncbi_metadata = Mycelia.load_genbank_metadata()"
   ]
  },
  {
   "cell_type": "code",
   "execution_count": null,
   "metadata": {},
   "outputs": [],
   "source": [
    "show(ncbi_metadata[1:1, :], allcols=true)"
   ]
  },
  {
   "cell_type": "code",
   "execution_count": null,
   "metadata": {},
   "outputs": [],
   "source": [
    "tax_id_filter = map(taxid -> taxid in child_tax_ids, ncbi_metadata[!, \"taxid\"])\n",
    "is_right_host = map(x -> occursin(Regex(host, \"i\"), x), ncbi_metadata[!, \"organism_name\"])\n",
    "not_excluded = ncbi_metadata[!, \"excluded_from_refseq\"] .== \"\"\n",
    "is_full = ncbi_metadata[!, \"genome_rep\"] .== \"Full\"\n",
    "# assembly_levels = [\"Complete Genome\"]\n",
    "assembly_levels = [\"Complete Genome\", \"Chromosome\"]\n",
    "# assembly_levels = [\"Complete Genome\", \"Chromosome\", \"Scaffold\"]\n",
    "# assembly_levels = [\"Complete Genome\", \"Chromosome\", \"Scaffold\", \"Contig\"]\n",
    "assembly_level_filter = map(x -> x in assembly_levels, ncbi_metadata[!, \"assembly_level\"])\n",
    "full_filter = is_full .& not_excluded .& assembly_level_filter .& tax_id_filter .& is_right_host\n",
    "count(full_filter)"
   ]
  },
  {
   "cell_type": "code",
   "execution_count": null,
   "metadata": {},
   "outputs": [],
   "source": [
    "# TODO\n",
    "# here is another place we could enforce host == escherichia\n",
    "# we'll use a manual filter as a temporary solution"
   ]
  },
  {
   "cell_type": "code",
   "execution_count": null,
   "metadata": {},
   "outputs": [],
   "source": [
    "# ncbi_metadata_of_interest = ncbi_metadata[full_filter, :]"
   ]
  },
  {
   "cell_type": "code",
   "execution_count": null,
   "metadata": {},
   "outputs": [],
   "source": [
    "# https://www.ncbi.nlm.nih.gov/sviewer/viewer.cgi?db=nuccore&report=genbank&id=GCA_021354775"
   ]
  },
  {
   "cell_type": "code",
   "execution_count": null,
   "metadata": {},
   "outputs": [],
   "source": [
    "# for col in names(ncbi_metadata_of_interest)\n",
    "#     @show col, ncbi_metadata_of_interest[1, col]\n",
    "# end"
   ]
  },
  {
   "cell_type": "code",
   "execution_count": null,
   "metadata": {},
   "outputs": [],
   "source": [
    "# # can I also get genbank record?????\n",
    "# # for extension in [\"genomic.fna.gz\", \"protein.faa.gz\"]\n",
    "# for extension in [\"genomic.fna.gz\", \"protein.faa.gz\", \"genomic.gbff.gz\"]\n",
    "#     outdir = mkpath(joinpath(DIR, extension))\n",
    "#     ProgressMeter.@showprogress for row in DataFrames.eachrow(ncbi_metadata_of_interest)\n",
    "#         url = Mycelia.ncbi_ftp_path_to_url(row[\"ftp_path\"], extension)\n",
    "#         outfile = joinpath(outdir, basename(url))\n",
    "#         if !isfile(outfile)\n",
    "#             try\n",
    "#                 Downloads.download(url, outfile)\n",
    "#             catch e\n",
    "#                 # @show e\n",
    "#                 showerror(stdout, e)\n",
    "#                 # @assert extension == \"protein.faa.gz\"\n",
    "#                 # here is where we should call prodigal to fill in protein annotations if we don't otherwise see them\n",
    "#             end\n",
    "#         end\n",
    "#     end\n",
    "# end"
   ]
  },
  {
   "cell_type": "code",
   "execution_count": null,
   "metadata": {},
   "outputs": [],
   "source": [
    "extension = \"genomic.fna.gz\"\n",
    "outdir = mkpath(joinpath(DIR, extension))"
   ]
  },
  {
   "cell_type": "code",
   "execution_count": null,
   "metadata": {},
   "outputs": [],
   "source": [
    "fastx_files = filter(x -> !occursin(\".ipynb_checkpoints\", x), readdir(outdir, join=true))"
   ]
  },
  {
   "cell_type": "code",
   "execution_count": null,
   "metadata": {},
   "outputs": [],
   "source": [
    "entities = map(f -> match(r\"^(GCA_\\d+\\.\\d+)_.*$\", f).captures[1], basename.(fastx_files))"
   ]
  },
  {
   "cell_type": "code",
   "execution_count": null,
   "metadata": {},
   "outputs": [],
   "source": [
    "# kmer_size = Mycelia.assess_dnamer_saturation(fastx_files)\n",
    "kmer_size = 7"
   ]
  },
  {
   "cell_type": "code",
   "execution_count": null,
   "metadata": {},
   "outputs": [],
   "source": [
    "# graph = Mycelia.fastx_to_kmer_graph(BioSequences.BigDNAMer{kmer_size}, fastx_files)"
   ]
  },
  {
   "cell_type": "code",
   "execution_count": null,
   "metadata": {},
   "outputs": [],
   "source": [
    "# use basename of files as identifiers"
   ]
  },
  {
   "cell_type": "code",
   "execution_count": null,
   "metadata": {},
   "outputs": [],
   "source": [
    "function assess_edgemer(edgemer)\n",
    "    k = length(edgemer)-1\n",
    "    kmer_type = BioSequences.BigDNAMer{k}\n",
    "    src = kmer_type(edgemer[i] for i in 1:k)\n",
    "    dst = kmer_type(edgemer[i] for i in 2:k+1)\n",
    "    canonical_src = BioSequences.canonical(src)\n",
    "    canonical_dst = BioSequences.canonical(dst)\n",
    "    src_is_canonical = src == canonical_src\n",
    "    dst_is_canonical = dst == canonical_dst\n",
    "    # @show edgemer\n",
    "    # @show src\n",
    "    # @show canonical_src\n",
    "    # @show src_is_canonical\n",
    "    # @show dst\n",
    "    # @show canonical_dst\n",
    "    # @show dst_is_canonical\n",
    "    return src, canonical_src, src_is_canonical, dst, canonical_dst, dst_is_canonical\n",
    "end"
   ]
  },
  {
   "cell_type": "code",
   "execution_count": null,
   "metadata": {},
   "outputs": [],
   "source": [
    "function fastx_to_metagraph(;k, fastx_files, entities)\n",
    "    @assert isodd(k) \"k must be odd to avoid the possibility of kmers being reverse complements of themselves\"\n",
    "    @assert 3 <= k <= 63 \"k must be at least 3 to allow for kmer overlaps and less than 64 to be compatible with type limits\"\n",
    "    kmer_type = BioSequences.BigDNAMer{k}\n",
    "    edgemer_type = BioSequences.BigDNAMer{k+1}\n",
    "    edge_orientations = Symbol.([\n",
    "        \"true_true\",\n",
    "        \"true_false\",\n",
    "        \"false_true\",\n",
    "        \"false_false\"\n",
    "    ])\n",
    "    canonical_kmers = Set{kmer_type}()\n",
    "    graph = MetaGraphs.MetaDiGraph()\n",
    "    MetaGraphs.set_indexing_prop!(graph, :kmer)\n",
    "    for (fastx, entity) in zip(fastx_files, entities)\n",
    "        Graphs.add_vertex!(graph)\n",
    "        fasta_node = Graphs.nv(graph)\n",
    "        # node types are camel case\n",
    "        MetaGraphs.set_prop!(graph, fasta_node, :TYPE, \"Fasta\")\n",
    "        # node and edge properties are lowercase\n",
    "        # add entity identifier as a property that can be queried on\n",
    "        MetaGraphs.set_prop!(graph, fasta_node, :path, fastx)\n",
    "        MetaGraphs.set_prop!(graph, fasta_node, :entity, entity)\n",
    "        for record in Mycelia.open_fastx(fastx)\n",
    "            Graphs.add_vertex!(graph)\n",
    "            record_node = Graphs.nv(graph)\n",
    "            \n",
    "            MetaGraphs.set_prop!(graph, record_node, :TYPE, \"FastaRecord\")\n",
    "            MetaGraphs.set_prop!(graph, record_node, :identifier, FASTX.identifier(record))\n",
    "            MetaGraphs.set_prop!(graph, record_node, :description, FASTX.description(record))\n",
    "            MetaGraphs.set_prop!(graph, record_node, :sequence, FASTX.sequence(record))\n",
    "            if typeof(FASTX.sequence(record)) == BioSequences.LongDNASeq\n",
    "                sequence_type = \"dna\"\n",
    "            elseif typeof(FASTX.sequence(record)) == BioSequences.LongAminoAcidSeq\n",
    "                sequence_type = \"aa\"\n",
    "            elseif typeof(FASTX.sequence(record)) == BioSequences.LongRNASeq\n",
    "                sequence_type = \"rna\"\n",
    "            end\n",
    "            MetaGraphs.set_prop!(graph, record_node, :sequence_type, sequence_type)\n",
    "            edge = Graphs.Edge(fasta_node, record_node)\n",
    "            Graphs.add_edge!(graph, edge)\n",
    "            # edge types are all caps\n",
    "            MetaGraphs.set_prop!(graph, edge, :TYPE, \"CONTAINS\")\n",
    "            # for kmer in collect(BioSequences.each(kmer_type, FASTX.sequence(record)))[1:2^3]\n",
    "            for kmer in BioSequences.each(kmer_type, FASTX.sequence(record))\n",
    "                canonical_kmer = BioSequences.canonical(kmer)\n",
    "                if canonical_kmer in canonical_kmers\n",
    "                    kmer_node = graph[canonical_kmer, :kmer]\n",
    "                else\n",
    "                    push!(canonical_kmers, canonical_kmer)\n",
    "                    Graphs.add_vertex!(graph)\n",
    "                    kmer_node = Graphs.nv(graph)\n",
    "                    MetaGraphs.set_prop!(graph, kmer_node, :TYPE, \"Kmer\")\n",
    "                    MetaGraphs.set_prop!(graph, kmer_node, :sequence_type, sequence_type)\n",
    "                    MetaGraphs.set_prop!(graph, kmer_node, :kmer, BioSequences.canonical(kmer))\n",
    "                end\n",
    "                edge = Graphs.Edge(record_node, kmer_node)\n",
    "                if !Graphs.has_edge(graph, edge)\n",
    "                    Graphs.add_edge!(graph, edge)\n",
    "                    MetaGraphs.set_prop!(graph, edge, :TYPE, \"CONTAINS\")\n",
    "                    # can't use vectors as properties :(\n",
    "                    MetaGraphs.set_prop!(graph, edge, :count, 0)\n",
    "                    MetaGraphs.set_prop!(graph, edge, Symbol(true), 0)\n",
    "                    MetaGraphs.set_prop!(graph, edge, Symbol(false), 0)\n",
    "                end\n",
    "                is_canonical = Symbol(BioSequences.iscanonical(kmer.fw))\n",
    "                current_count = MetaGraphs.get_prop(graph, edge, is_canonical) + 1\n",
    "                MetaGraphs.set_prop!(graph, edge, is_canonical, current_count)\n",
    "\n",
    "                current_count = MetaGraphs.get_prop(graph, edge, Symbol(true)) + MetaGraphs.get_prop(graph, edge, Symbol(false))\n",
    "                MetaGraphs.set_prop!(graph, edge, :count, current_count)                \n",
    "            end\n",
    "            # for edgemer in collect(BioSequences.each(edgemer_type, FASTX.sequence(record)))[1:2^3-1]\n",
    "            for edgemer in BioSequences.each(edgemer_type, FASTX.sequence(record))\n",
    "                src, canonical_src, src_is_canonical, dst, canonical_dst, dst_is_canonical = assess_edgemer(edgemer.fw)\n",
    "                if canonical_dst < canonical_src\n",
    "                    src, canonical_src, src_is_canonical, dst, canonical_dst, dst_is_canonical = assess_edgemer(edgemer.bw)\n",
    "                end\n",
    "                src_index, dst_index = graph[canonical_src, :kmer], graph[canonical_dst, :kmer]\n",
    "                edge = Graphs.Edge(src_index, dst_index)\n",
    "                if !Graphs.has_edge(graph, edge)\n",
    "                    Graphs.add_edge!(graph, edge)\n",
    "                    MetaGraphs.set_prop!(graph, edge, :TYPE, \"CONNECTS_TO\")\n",
    "                    for o in edge_orientations\n",
    "                        MetaGraphs.set_prop!(graph, edge, o, 0)\n",
    "                    end\n",
    "                    MetaGraphs.set_prop!(graph, edge, :count, 0)\n",
    "                end\n",
    "                orientations = Symbol(\"$(src_is_canonical)_$(dst_is_canonical)\")\n",
    "                current_count = MetaGraphs.get_prop(graph, edge, orientations) + 1\n",
    "                MetaGraphs.set_prop!(graph, edge, orientations, current_count)\n",
    "                \n",
    "                current_count = sum(MetaGraphs.get_prop(graph, edge, o) for o in edge_orientations)\n",
    "                MetaGraphs.set_prop!(graph, edge, :count, current_count) \n",
    "            end\n",
    "        end\n",
    "    end\n",
    "    return graph\n",
    "end"
   ]
  },
  {
   "cell_type": "code",
   "execution_count": null,
   "metadata": {},
   "outputs": [],
   "source": [
    "@time graph = fastx_to_metagraph(k=kmer_size, fastx_files=fastx_files, entities=entities)"
   ]
  },
  {
   "cell_type": "code",
   "execution_count": null,
   "metadata": {},
   "outputs": [],
   "source": [
    "graph_outfile = \"$DIR/root-tax-id_$(root_tax_id).k_$(kmer_size).genome-graph\"\n",
    "# Mycelia.save_graph(graph, graph_outfile)\n",
    "# Mycelia.graph_to_gfa(graph, graph_outfile * \".gfa\")\n",
    "# Mycelia.load_graph(graph_outfile)"
   ]
  },
  {
   "cell_type": "code",
   "execution_count": null,
   "metadata": {},
   "outputs": [],
   "source": [
    "# TODO: use new database"
   ]
  },
  {
   "cell_type": "code",
   "execution_count": null,
   "metadata": {},
   "outputs": [],
   "source": [
    "NEO4J_BIN_DIR = \"/home/jupyter-cjprybol/software/neo4j-community-4.4.3/bin\"\n",
    "if !occursin(NEO4J_BIN_DIR, ENV[\"PATH\"])\n",
    "    ENV[\"PATH\"] = \"$(NEO4J_BIN_DIR):\" * ENV[\"PATH\"]\n",
    "end\n",
    "database_id = \"1f883654\"\n",
    "USERNAME=\"neo4j\"\n",
    "PASSWORD=readline(joinpath(homedir(), \".config\", \"neo4j\", \"$(database_id).pass\"));\n",
    "ADDRESS=\"neo4j+s://$(database_id).databases.neo4j.io:7687\"\n",
    "DATABASE = \"neo4j\""
   ]
  },
  {
   "cell_type": "code",
   "execution_count": null,
   "metadata": {},
   "outputs": [],
   "source": [
    "cmd = \"CREATE CONSTRAINT ON (k:Kmer) ASSERT k.sequence IS UNIQUE\"\n",
    "@time Mycelia.cypher(address = ADDRESS, username = USERNAME, password = PASSWORD, database = DATABASE, cmd = cmd)"
   ]
  },
  {
   "cell_type": "code",
   "execution_count": null,
   "metadata": {},
   "outputs": [],
   "source": [
    "node_types = unique(graph.vprops[v][:TYPE] for v in Graphs.vertices(graph))"
   ]
  },
  {
   "cell_type": "code",
   "execution_count": null,
   "metadata": {},
   "outputs": [],
   "source": [
    "# initialize graph"
   ]
  },
  {
   "cell_type": "code",
   "execution_count": null,
   "metadata": {},
   "outputs": [],
   "source": [
    "# add fasta records to graph"
   ]
  },
  {
   "cell_type": "code",
   "execution_count": null,
   "metadata": {},
   "outputs": [],
   "source": [
    "# add fasta records to Neo4J\n",
    "# add over URL"
   ]
  },
  {
   "cell_type": "code",
   "execution_count": null,
   "metadata": {},
   "outputs": [],
   "source": [
    "# add fasta records to graph"
   ]
  },
  {
   "cell_type": "code",
   "execution_count": null,
   "metadata": {},
   "outputs": [],
   "source": [
    "# add fasta records to Neo4J\n",
    "# batch file upload"
   ]
  },
  {
   "cell_type": "code",
   "execution_count": null,
   "metadata": {},
   "outputs": [],
   "source": [
    "# add kmers to graph"
   ]
  },
  {
   "cell_type": "code",
   "execution_count": null,
   "metadata": {},
   "outputs": [],
   "source": [
    "# add kmers to Neo4J\n",
    "# add over URL"
   ]
  },
  {
   "cell_type": "code",
   "execution_count": null,
   "metadata": {},
   "outputs": [],
   "source": [
    "# upload fasta records as tsv files on batch"
   ]
  },
  {
   "cell_type": "code",
   "execution_count": null,
   "metadata": {},
   "outputs": [],
   "source": [
    "for node_type in node_types[3:3]\n",
    "    @show node_type\n",
    "    node_type_params = Set{Symbol}()\n",
    "    vertices_of_type = [v for v in Graphs.vertices(graph) if (graph.vprops[v][:TYPE] == node_type)]\n",
    "    \n",
    "    node_type_params = filter(param -> param != :TYPE, reduce(union, keys(graph.vprops[v]) for v in vertices_of_type))\n",
    "    \n",
    "    window_size = 100\n",
    "    V = length(vertices_of_type)\n",
    "    windows = [i:min(i+window_size-1,V) for i in 1:window_size:V]\n",
    "    \n",
    "    ProgressMeter.@showprogress for window in windows\n",
    "        cmds = []\n",
    "        for (i, v) in enumerate(vertices_of_type[window])\n",
    "            params = [\"$(string(param)):'$(MetaGraphs.get_prop(graph, v, param))'\" for param in node_type_params]\n",
    "            joint_params = join(params, \", \")\n",
    "            cmd = \"MERGE (node$(i):$(node_type) {$(joint_params)})\"\n",
    "            push!(cmds, cmd)\n",
    "        end\n",
    "        cmd = join(cmds, ' ')\n",
    "        cypher_cmd = Mycelia.cypher(address = ADDRESS, username = USERNAME, password = PASSWORD, database = DATABASE, cmd = cmd)\n",
    "        run(cypher_cmd)\n",
    "    end    \n",
    "end"
   ]
  },
  {
   "cell_type": "code",
   "execution_count": null,
   "metadata": {},
   "outputs": [],
   "source": [
    "function upload_node_type(graph, node_type)\n",
    "    \n",
    "end"
   ]
  },
  {
   "cell_type": "code",
   "execution_count": null,
   "metadata": {},
   "outputs": [],
   "source": [
    "# Alexander said that setting a unique constaint automatically creates an index?\n",
    "# # index the kmer space to improve performance??\n",
    "# cmd = \n",
    "# \"\"\"\n",
    "# CREATE INDEX\n",
    "# FOR (k:Kmer)\n",
    "# ON (k.kmer)\n",
    "# \"\"\"\n",
    "# cmd = strip(replace(cmd, '\\n' => ' '))\n",
    "# cypher_cmd = Mycelia.cypher(address = ADDRESS, username = USERNAME, password = PASSWORD, database = DATABASE, cmd = cmd)\n",
    "# run(cypher_cmd)  "
   ]
  },
  {
   "cell_type": "code",
   "execution_count": null,
   "metadata": {},
   "outputs": [],
   "source": [
    "# create an arbitrary node upload"
   ]
  },
  {
   "cell_type": "code",
   "execution_count": null,
   "metadata": {},
   "outputs": [],
   "source": [
    "# for each node class\n",
    "    # create an upload command that maps properties in julia graph to properties in Neo4J graph\n",
    "    # upload in batches of 100\n",
    "# end"
   ]
  },
  {
   "cell_type": "code",
   "execution_count": null,
   "metadata": {},
   "outputs": [],
   "source": []
  },
  {
   "cell_type": "code",
   "execution_count": null,
   "metadata": {},
   "outputs": [],
   "source": [
    "t = filtered_node_table\n",
    "window_size = 100\n",
    "windows = [i:min(i+window_size-1,DataFrames.nrow(t)) for i in 1:window_size:DataFrames.nrow(t)]\n",
    "ProgressMeter.@showprogress for window in windows  \n",
    "    cmds = [\"MERGE (k$(w):Kmer {kmer: '$kmer'})\" for (w, kmer) in zip(window, t[window, \"kmer\"])]\n",
    "    cmd = join(cmds, ' ')\n",
    "    cypher_cmd = Mycelia.cypher(address = ADDRESS, username = USERNAME, password = PASSWORD, database = DATABASE, cmd = cmd)\n",
    "    run(cypher_cmd)\n",
    "end"
   ]
  },
  {
   "cell_type": "code",
   "execution_count": null,
   "metadata": {},
   "outputs": [],
   "source": [
    "# Work on adding edges now!"
   ]
  }
 ],
 "metadata": {
  "kernelspec": {
   "display_name": "Julia 1.6.5",
   "language": "julia",
   "name": "julia-1.6"
  },
  "language_info": {
   "file_extension": ".jl",
   "mimetype": "application/julia",
   "name": "julia",
   "version": "1.6.5"
  }
 },
 "nbformat": 4,
 "nbformat_minor": 4
}
