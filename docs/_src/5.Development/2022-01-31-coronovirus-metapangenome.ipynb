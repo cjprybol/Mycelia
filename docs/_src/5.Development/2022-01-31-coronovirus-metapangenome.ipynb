{
 "cells": [
  {
   "cell_type": "code",
   "execution_count": 1,
   "metadata": {},
   "outputs": [],
   "source": [
    "DATE = \"2022-01-31\"\n",
    "TASK = \"coronavirus-metapangenome-graph\"\n",
    "DIR = mkpath(\"$(homedir())/workspace/$(DATE)-$(TASK)\")\n",
    "cd(DIR)"
   ]
  },
  {
   "cell_type": "code",
   "execution_count": 1,
   "metadata": {},
   "outputs": [
    {
     "name": "stderr",
     "output_type": "stream",
     "text": [
      "\u001b[32m\u001b[1m    Updating\u001b[22m\u001b[39m registry at `~/.julia/registries/General`\n",
      "\u001b[32m\u001b[1m    Updating\u001b[22m\u001b[39m git-repo `https://github.com/JuliaRegistries/General.git`\n",
      "\u001b[32m\u001b[1m   Resolving\u001b[22m\u001b[39m package versions...\n",
      "\u001b[32m\u001b[1m  No Changes\u001b[22m\u001b[39m to `~/.julia/dev/Mycelia/docs/Project.toml`\n",
      "\u001b[32m\u001b[1m  No Changes\u001b[22m\u001b[39m to `~/.julia/dev/Mycelia/docs/Manifest.toml`\n"
     ]
    }
   ],
   "source": [
    "pkgs = [\n",
    "    \"Graphs\",\n",
    "    \"MetaGraphs\",\n",
    "    \"FileIO\",\n",
    "    \"HTTP\",\n",
    "    \"JLD2\",\n",
    "    \"DataStructures\",\n",
    "    \"BioSequences\",\n",
    "    \"DataFrames\",\n",
    "    \"Random\",\n",
    "    \"FASTX\",\n",
    "    \"Revise\",\n",
    "    \"StatsBase\",\n",
    "    \"uCSV\"\n",
    "]\n",
    "\n",
    "import Pkg\n",
    "Pkg.add(pkgs)\n",
    "for pkg in pkgs\n",
    "    eval(Meta.parse(\"import $(basename(pkg))\"))\n",
    "end\n",
    "\n",
    "import Mycelia"
   ]
  },
  {
   "cell_type": "markdown",
   "metadata": {},
   "source": [
    "download refseq metadata file"
   ]
  },
  {
   "cell_type": "code",
   "execution_count": 2,
   "metadata": {},
   "outputs": [
    {
     "data": {
      "text/html": [
       "<div class=\"data-frame\"><p>251,222 rows × 23 columns (omitted printing of 18 columns)</p><table class=\"data-frame\"><thead><tr><th></th><th># assembly_accession</th><th>bioproject</th><th>biosample</th><th>wgs_master</th><th>refseq_category</th></tr><tr><th></th><th title=\"String\">String</th><th title=\"String\">String</th><th title=\"String\">String</th><th title=\"String\">String</th><th title=\"String\">String</th></tr></thead><tbody><tr><th>1</th><td>GCF_000001215.4</td><td>PRJNA164</td><td>SAMN02803731</td><td></td><td>reference genome</td></tr><tr><th>2</th><td>GCF_000001405.39</td><td>PRJNA168</td><td></td><td></td><td>reference genome</td></tr><tr><th>3</th><td>GCF_000001635.27</td><td>PRJNA169</td><td></td><td></td><td>reference genome</td></tr><tr><th>4</th><td>GCF_000001735.4</td><td>PRJNA116</td><td>SAMN03081427</td><td></td><td>reference genome</td></tr><tr><th>5</th><td>GCF_000001905.1</td><td>PRJNA70973</td><td>SAMN02953622</td><td>AAGU00000000.3</td><td>representative genome</td></tr><tr><th>6</th><td>GCF_000001985.1</td><td>PRJNA32665</td><td>SAMN02953685</td><td>ABAR00000000.1</td><td>representative genome</td></tr><tr><th>7</th><td>GCF_000002035.6</td><td>PRJNA13922</td><td>SAMN06930106</td><td></td><td>reference genome</td></tr><tr><th>8</th><td>GCF_000002075.1</td><td>PRJNA209509</td><td>SAMN02953658</td><td>AASC00000000.3</td><td>representative genome</td></tr><tr><th>9</th><td>GCF_000002235.5</td><td>PRJNA13728</td><td>SAMN00829422</td><td>AAGJ00000000.6</td><td>representative genome</td></tr><tr><th>10</th><td>GCF_000002285.5</td><td>PRJNA12384</td><td>SAMN02953603</td><td>AAEX00000000.4</td><td>na</td></tr><tr><th>11</th><td>GCF_000002295.2</td><td>PRJNA15683</td><td>SAMN02953611</td><td>AAFR00000000.3</td><td>representative genome</td></tr><tr><th>12</th><td>GCF_000002335.3</td><td>PRJNA15718</td><td>SAMN02953634</td><td>AAJJ00000000.2</td><td>representative genome</td></tr><tr><th>13</th><td>GCF_000002415.2</td><td>PRJNA20431</td><td>SAMN02953638</td><td>AAKM00000000.1</td><td>representative genome</td></tr><tr><th>14</th><td>GCF_000002425.4</td><td>PRJNA28131</td><td>SAMN00120126</td><td>ABEU00000000.2</td><td>representative genome</td></tr><tr><th>15</th><td>GCF_000002435.2</td><td>PRJNA15590</td><td>SAMN02952905</td><td>AACB00000000.3</td><td>representative genome</td></tr><tr><th>16</th><td>GCF_000002445.2</td><td>PRJNA15565</td><td>SAMN02953625</td><td></td><td>representative genome</td></tr><tr><th>17</th><td>GCF_000002455.1</td><td>PRJNA27939</td><td></td><td></td><td>na</td></tr><tr><th>18</th><td>GCF_000002495.2</td><td>PRJNA1433</td><td>SAMN02953596</td><td>AACU00000000.3</td><td>representative genome</td></tr><tr><th>19</th><td>GCF_000002515.2</td><td>PRJNA12377</td><td>SAMEA3138170</td><td></td><td>representative genome</td></tr><tr><th>20</th><td>GCF_000002525.2</td><td>PRJNA12414</td><td>SAMEA3138171</td><td></td><td>representative genome</td></tr><tr><th>21</th><td>GCF_000002545.3</td><td>PRJNA12376</td><td>SAMEA3138172</td><td></td><td>representative genome</td></tr><tr><th>22</th><td>GCF_000002595.2</td><td>PRJNA21061</td><td>SAMN02953692</td><td>ABCN00000000.2</td><td>representative genome</td></tr><tr><th>23</th><td>GCF_000002655.1</td><td>PRJNA14003</td><td>SAMN00115746</td><td>AAHF00000000.1</td><td>representative genome</td></tr><tr><th>24</th><td>GCF_000002715.2</td><td>PRJNA18467</td><td>SAMN02953636</td><td>AAKD00000000.3</td><td>representative genome</td></tr><tr><th>25</th><td>GCF_000002725.2</td><td>PRJNA15564</td><td>SAMEA3138173</td><td></td><td>representative genome</td></tr><tr><th>26</th><td>GCF_000002765.5</td><td>PRJNA148</td><td>SAMN00102897</td><td></td><td>representative genome</td></tr><tr><th>27</th><td>GCF_000002775.4</td><td>PRJNA17973</td><td>SAMN02953657</td><td>AARH00000000.3</td><td>representative genome</td></tr><tr><th>28</th><td>GCF_000002825.2</td><td>PRJNA18631</td><td>SAMN02953626</td><td>AAHC00000000.1</td><td>representative genome</td></tr><tr><th>29</th><td>GCF_000002845.2</td><td>PRJNA19185</td><td>SAMEA2272271</td><td>CADA00000000.1</td><td>representative genome</td></tr><tr><th>30</th><td>GCF_000002855.3</td><td>PRJNA19263</td><td>SAMEA3283178</td><td></td><td>representative genome</td></tr><tr><th>&vellip;</th><td>&vellip;</td><td>&vellip;</td><td>&vellip;</td><td>&vellip;</td><td>&vellip;</td></tr></tbody></table></div>"
      ],
      "text/latex": [
       "\\begin{tabular}{r|cccccc}\n",
       "\t& \\# assembly\\_accession & bioproject & biosample & wgs\\_master & refseq\\_category & \\\\\n",
       "\t\\hline\n",
       "\t& String & String & String & String & String & \\\\\n",
       "\t\\hline\n",
       "\t1 & GCF\\_000001215.4 & PRJNA164 & SAMN02803731 &  & reference genome & $\\dots$ \\\\\n",
       "\t2 & GCF\\_000001405.39 & PRJNA168 &  &  & reference genome & $\\dots$ \\\\\n",
       "\t3 & GCF\\_000001635.27 & PRJNA169 &  &  & reference genome & $\\dots$ \\\\\n",
       "\t4 & GCF\\_000001735.4 & PRJNA116 & SAMN03081427 &  & reference genome & $\\dots$ \\\\\n",
       "\t5 & GCF\\_000001905.1 & PRJNA70973 & SAMN02953622 & AAGU00000000.3 & representative genome & $\\dots$ \\\\\n",
       "\t6 & GCF\\_000001985.1 & PRJNA32665 & SAMN02953685 & ABAR00000000.1 & representative genome & $\\dots$ \\\\\n",
       "\t7 & GCF\\_000002035.6 & PRJNA13922 & SAMN06930106 &  & reference genome & $\\dots$ \\\\\n",
       "\t8 & GCF\\_000002075.1 & PRJNA209509 & SAMN02953658 & AASC00000000.3 & representative genome & $\\dots$ \\\\\n",
       "\t9 & GCF\\_000002235.5 & PRJNA13728 & SAMN00829422 & AAGJ00000000.6 & representative genome & $\\dots$ \\\\\n",
       "\t10 & GCF\\_000002285.5 & PRJNA12384 & SAMN02953603 & AAEX00000000.4 & na & $\\dots$ \\\\\n",
       "\t11 & GCF\\_000002295.2 & PRJNA15683 & SAMN02953611 & AAFR00000000.3 & representative genome & $\\dots$ \\\\\n",
       "\t12 & GCF\\_000002335.3 & PRJNA15718 & SAMN02953634 & AAJJ00000000.2 & representative genome & $\\dots$ \\\\\n",
       "\t13 & GCF\\_000002415.2 & PRJNA20431 & SAMN02953638 & AAKM00000000.1 & representative genome & $\\dots$ \\\\\n",
       "\t14 & GCF\\_000002425.4 & PRJNA28131 & SAMN00120126 & ABEU00000000.2 & representative genome & $\\dots$ \\\\\n",
       "\t15 & GCF\\_000002435.2 & PRJNA15590 & SAMN02952905 & AACB00000000.3 & representative genome & $\\dots$ \\\\\n",
       "\t16 & GCF\\_000002445.2 & PRJNA15565 & SAMN02953625 &  & representative genome & $\\dots$ \\\\\n",
       "\t17 & GCF\\_000002455.1 & PRJNA27939 &  &  & na & $\\dots$ \\\\\n",
       "\t18 & GCF\\_000002495.2 & PRJNA1433 & SAMN02953596 & AACU00000000.3 & representative genome & $\\dots$ \\\\\n",
       "\t19 & GCF\\_000002515.2 & PRJNA12377 & SAMEA3138170 &  & representative genome & $\\dots$ \\\\\n",
       "\t20 & GCF\\_000002525.2 & PRJNA12414 & SAMEA3138171 &  & representative genome & $\\dots$ \\\\\n",
       "\t21 & GCF\\_000002545.3 & PRJNA12376 & SAMEA3138172 &  & representative genome & $\\dots$ \\\\\n",
       "\t22 & GCF\\_000002595.2 & PRJNA21061 & SAMN02953692 & ABCN00000000.2 & representative genome & $\\dots$ \\\\\n",
       "\t23 & GCF\\_000002655.1 & PRJNA14003 & SAMN00115746 & AAHF00000000.1 & representative genome & $\\dots$ \\\\\n",
       "\t24 & GCF\\_000002715.2 & PRJNA18467 & SAMN02953636 & AAKD00000000.3 & representative genome & $\\dots$ \\\\\n",
       "\t25 & GCF\\_000002725.2 & PRJNA15564 & SAMEA3138173 &  & representative genome & $\\dots$ \\\\\n",
       "\t26 & GCF\\_000002765.5 & PRJNA148 & SAMN00102897 &  & representative genome & $\\dots$ \\\\\n",
       "\t27 & GCF\\_000002775.4 & PRJNA17973 & SAMN02953657 & AARH00000000.3 & representative genome & $\\dots$ \\\\\n",
       "\t28 & GCF\\_000002825.2 & PRJNA18631 & SAMN02953626 & AAHC00000000.1 & representative genome & $\\dots$ \\\\\n",
       "\t29 & GCF\\_000002845.2 & PRJNA19185 & SAMEA2272271 & CADA00000000.1 & representative genome & $\\dots$ \\\\\n",
       "\t30 & GCF\\_000002855.3 & PRJNA19263 & SAMEA3283178 &  & representative genome & $\\dots$ \\\\\n",
       "\t$\\dots$ & $\\dots$ & $\\dots$ & $\\dots$ & $\\dots$ & $\\dots$ &  \\\\\n",
       "\\end{tabular}\n"
      ],
      "text/plain": [
       "\u001b[1m251222×23 DataFrame\u001b[0m\n",
       "\u001b[1m    Row \u001b[0m│\u001b[1m # assembly_accession \u001b[0m\u001b[1m bioproject  \u001b[0m\u001b[1m biosample     \u001b[0m\u001b[1m wgs_master        \u001b[0m\u001b[1m\u001b[0m ⋯\n",
       "\u001b[1m        \u001b[0m│\u001b[90m String               \u001b[0m\u001b[90m String      \u001b[0m\u001b[90m String        \u001b[0m\u001b[90m String            \u001b[0m\u001b[90m\u001b[0m ⋯\n",
       "────────┼───────────────────────────────────────────────────────────────────────\n",
       "      1 │ GCF_000001215.4       PRJNA164     SAMN02803731                      ⋯\n",
       "      2 │ GCF_000001405.39      PRJNA168\n",
       "      3 │ GCF_000001635.27      PRJNA169\n",
       "      4 │ GCF_000001735.4       PRJNA116     SAMN03081427\n",
       "      5 │ GCF_000001905.1       PRJNA70973   SAMN02953622   AAGU00000000.3     ⋯\n",
       "      6 │ GCF_000001985.1       PRJNA32665   SAMN02953685   ABAR00000000.1\n",
       "      7 │ GCF_000002035.6       PRJNA13922   SAMN06930106\n",
       "      8 │ GCF_000002075.1       PRJNA209509  SAMN02953658   AASC00000000.3\n",
       "      9 │ GCF_000002235.5       PRJNA13728   SAMN00829422   AAGJ00000000.6     ⋯\n",
       "     10 │ GCF_000002285.5       PRJNA12384   SAMN02953603   AAEX00000000.4\n",
       "     11 │ GCF_000002295.2       PRJNA15683   SAMN02953611   AAFR00000000.3\n",
       "   ⋮    │          ⋮                 ⋮             ⋮                ⋮          ⋱\n",
       " 251213 │ GCF_922832915.1       PRJNA224116  SAMEA11350711  CAKLPI000000000.1\n",
       " 251214 │ GCF_922984935.1       PRJNA796981  SAMEA7524400   CAKLPM000000000.1  ⋯\n",
       " 251215 │ GCF_923868895.1       PRJNA224116  SAMEA11973204\n",
       " 251216 │ GCF_924513355.1       PRJNA224116  SAMEA11935967  CAKMAB000000000.1\n",
       " 251217 │ GCF_927798095.1       PRJNA224116  SAMEA12303382  CAKMMF000000000.1\n",
       " 251218 │ GCF_927798115.1       PRJNA224116  SAMEA12303383  CAKMMG000000000.1  ⋯\n",
       " 251219 │ GCF_927798175.1       PRJNA224116  SAMEA12303384  CAKMMP000000000.1\n",
       " 251220 │ GCF_927798215.1       PRJNA224116  SAMEA12303385  CAKMMW000000000.1\n",
       " 251221 │ GCF_927798365.1       PRJNA224116  SAMEA10030967  CAKMMR000000000.1\n",
       " 251222 │ GCF_927798385.1       PRJNA224116  SAMEA10030966  CAKMMT000000000.1  ⋯\n",
       "\u001b[36m                                              19 columns and 251201 rows omitted\u001b[0m"
      ]
     },
     "execution_count": 2,
     "metadata": {},
     "output_type": "execute_result"
    }
   ],
   "source": [
    "refseq_summary_url = \"https://ftp.ncbi.nih.gov/genomes/refseq/assembly_summary_refseq.txt\"\n",
    "# drop first line which is a comment\n",
    "refseq_summary_table = DataFrames.DataFrame(uCSV.read(IOBuffer(HTTP.get(refseq_summary_url).body), comment = \"#  \", header=1, delim='\\t')...)"
   ]
  },
  {
   "cell_type": "code",
   "execution_count": 3,
   "metadata": {},
   "outputs": [
    {
     "name": "stdout",
     "output_type": "stream",
     "text": [
      "\u001b[1m1×23 DataFrame\u001b[0m\n",
      "\u001b[1m Row \u001b[0m│\u001b[1m # assembly_accession \u001b[0m\u001b[1m bioproject \u001b[0m\u001b[1m biosample    \u001b[0m\u001b[1m wgs_master \u001b[0m\u001b[1m refseq_category  \u001b[0m\u001b[1m taxid \u001b[0m\u001b[1m species_taxid \u001b[0m\u001b[1m organism_name           \u001b[0m\u001b[1m infraspecific_name \u001b[0m\u001b[1m isolate \u001b[0m\u001b[1m version_status \u001b[0m\u001b[1m assembly_level \u001b[0m\u001b[1m release_type \u001b[0m\u001b[1m genome_rep \u001b[0m\u001b[1m seq_rel_date \u001b[0m\u001b[1m asm_name               \u001b[0m\u001b[1m submitter                         \u001b[0m\u001b[1m gbrs_paired_asm \u001b[0m\u001b[1m paired_asm_comp \u001b[0m\u001b[1m ftp_path                          \u001b[0m\u001b[1m excluded_from_refseq \u001b[0m\u001b[1m relation_to_type_material \u001b[0m\u001b[1m asm_not_live_date \u001b[0m\n",
      "\u001b[1m     \u001b[0m│\u001b[90m String               \u001b[0m\u001b[90m String     \u001b[0m\u001b[90m String       \u001b[0m\u001b[90m String     \u001b[0m\u001b[90m String           \u001b[0m\u001b[90m Int64 \u001b[0m\u001b[90m Int64         \u001b[0m\u001b[90m String                  \u001b[0m\u001b[90m String             \u001b[0m\u001b[90m String  \u001b[0m\u001b[90m String         \u001b[0m\u001b[90m String         \u001b[0m\u001b[90m String       \u001b[0m\u001b[90m String     \u001b[0m\u001b[90m String       \u001b[0m\u001b[90m String                 \u001b[0m\u001b[90m String                            \u001b[0m\u001b[90m String          \u001b[0m\u001b[90m String          \u001b[0m\u001b[90m String                            \u001b[0m\u001b[90m String               \u001b[0m\u001b[90m String                    \u001b[0m\u001b[90m String            \u001b[0m\n",
      "─────┼──────────────────────────────────────────────────────────────────────────────────────────────────────────────────────────────────────────────────────────────────────────────────────────────────────────────────────────────────────────────────────────────────────────────────────────────────────────────────────────────────────────────────────────────────────────────────────────────────────────────────────────────────────\n",
      "   1 │ GCF_000001215.4       PRJNA164    SAMN02803731              reference genome   7227           7227  Drosophila melanogaster                               latest          Chromosome      Major         Full        2014/08/01    Release 6 plus ISO1 MT  The FlyBase Consortium/Berkeley …  GCA_000001215.4  identical        https://ftp.ncbi.nlm.nih.gov/gen…                                                   na"
     ]
    }
   ],
   "source": [
    "show(refseq_summary_table[1:1, :], allcols=true)"
   ]
  },
  {
   "cell_type": "markdown",
   "metadata": {},
   "source": [
    "Get the tax_id of all entities in NCBI that are virus or below"
   ]
  },
  {
   "cell_type": "code",
   "execution_count": 4,
   "metadata": {},
   "outputs": [
    {
     "data": {
      "text/plain": [
       "\"11118\""
      ]
     },
     "execution_count": 4,
     "metadata": {},
     "output_type": "execute_result"
    }
   ],
   "source": [
    "# # all viruses\n",
    "# https://www.ncbi.nlm.nih.gov/Taxonomy/Browser/wwwtax.cgi?mode=Info&id=10239&lvl=3&lin=f&keep=1&srchmode=1&unlock\n",
    "# taxid = \"10239\"\n",
    "# # coronavirus\n",
    "# https://www.ncbi.nlm.nih.gov/Taxonomy/Browser/wwwtax.cgi?lvl=0&amp;id=11118\n",
    "taxid = \"11118\""
   ]
  },
  {
   "cell_type": "code",
   "execution_count": 5,
   "metadata": {},
   "outputs": [
    {
     "data": {
      "text/plain": [
       "\"bolt://ncbi-taxonomy.cjp.garden:7687\""
      ]
     },
     "execution_count": 5,
     "metadata": {},
     "output_type": "execute_result"
    }
   ],
   "source": [
    "NEO4J_BIN_DIR = \"/home/jupyter-cjprybol/software/neo4j-community-4.4.3/bin\"\n",
    "if !occursin(NEO4J_BIN_DIR, ENV[\"PATH\"])\n",
    "    ENV[\"PATH\"] = \"$(NEO4J_BIN_DIR):\" * ENV[\"PATH\"]\n",
    "end \n",
    "DOMAIN = \"ncbi-taxonomy.cjp.garden\"\n",
    "# DOMAIN=\"34.138.169.173\"\n",
    "USERNAME=\"neo4j\"\n",
    "PASSWORD=readline(joinpath(homedir(), \".config\", \"neo4j\", \"ncbi-taxonomy.password.txt\"));\n",
    "DATABASE = \"neo4j\"\n",
    "# ADDRESS=\"neo4j://$(DOMAIN):7687\"\n",
    "ADDRESS=\"bolt://$(DOMAIN):7687\""
   ]
  },
  {
   "cell_type": "code",
   "execution_count": 15,
   "metadata": {},
   "outputs": [
    {
     "name": "stdout",
     "output_type": "stream",
     "text": [
      "MATCH (n)<-[*]-(n2) WHERE n.tax_id IS NOT NULL AND n.tax_id = \"11118\" RETURN DISTINCT n2.tax_id AS tax_id\n"
     ]
    }
   ],
   "source": [
    "cmd = \"MATCH (n)<-[*]-(n2) WHERE n.tax_id IS NOT NULL AND n.tax_id = \\\"$(taxid)\\\" RETURN DISTINCT n2.tax_id AS tax_id\"\n",
    "println(cmd)"
   ]
  },
  {
   "cell_type": "code",
   "execution_count": 16,
   "metadata": {},
   "outputs": [
    {
     "data": {
      "text/plain": [
       "1808-element Vector{AbstractString}:\n",
       " \"693995\"\n",
       " \"2664420\"\n",
       " \"681862\"\n",
       " \"681861\"\n",
       " \"681883\"\n",
       " \"681864\"\n",
       " \"681878\"\n",
       " \"681870\"\n",
       " \"681849\"\n",
       " \"681871\"\n",
       " \"681880\"\n",
       " \"681852\"\n",
       " \"681876\"\n",
       " ⋮\n",
       " \"2078577\"\n",
       " \"2219863\"\n",
       " \"2249315\"\n",
       " \"2707191\"\n",
       " \"2724194\"\n",
       " \"2730119\"\n",
       " \"2050019\"\n",
       " \"2501930\"\n",
       " \"2788713\"\n",
       " \"2830724\"\n",
       " \"2836890\"\n",
       " \"11118\""
      ]
     },
     "execution_count": 16,
     "metadata": {},
     "output_type": "execute_result"
    }
   ],
   "source": [
    "coronaviridae_tax_ids = readlines(Mycelia.cypher(address = ADDRESS, username = USERNAME, password = PASSWORD, database = DATABASE, cmd=cmd))[2:end]\n",
    "coronaviridae_tax_ids = strip.(coronaviridae_tax_ids, '\"')\n",
    "coronaviridae_tax_ids = vcat(coronaviridae_tax_ids, taxid)"
   ]
  },
  {
   "cell_type": "code",
   "execution_count": 18,
   "metadata": {},
   "outputs": [
    {
     "data": {
      "text/plain": [
       "251222-element Vector{Int64}:\n",
       "    7227\n",
       "    9606\n",
       "   10090\n",
       "    3702\n",
       "    9785\n",
       "  441960\n",
       "    7955\n",
       "    6500\n",
       "    7668\n",
       "    9615\n",
       "   13616\n",
       "    7070\n",
       "    5855\n",
       "       ⋮\n",
       "     571\n",
       "     573\n",
       " 1134687\n",
       "    9662\n",
       "  999141\n",
       " 2897682\n",
       " 2905650\n",
       " 2905649\n",
       " 2905647\n",
       " 2905648\n",
       "     197\n",
       "     197"
      ]
     },
     "execution_count": 18,
     "metadata": {},
     "output_type": "execute_result"
    }
   ],
   "source": [
    "refseq_summary_table[!, \"taxid\"]"
   ]
  },
  {
   "cell_type": "code",
   "execution_count": null,
   "metadata": {},
   "outputs": [],
   "source": [
    "$ `a\n",
    "\n",
    "$ cd pantools\n",
    "$ git checkout pantools_v3.2\n",
    "$ java -jar pantools/dist/pantools.jar # test if PanTools is executable\n",
    "\n",
    "#Set an alias in your ~/.bashrc\n",
    "$ echo \"alias pantools='/mnt/YOUR_PATH/jdk1.8.0_161/bin/java -Xms50g -Xmx50g -jar /YOUR_PATH/pantools/dist/pantools.jar'\" >> ~/.bashrc"
   ]
  },
  {
   "cell_type": "code",
   "execution_count": null,
   "metadata": {},
   "outputs": [],
   "source": []
  },
  {
   "cell_type": "code",
   "execution_count": null,
   "metadata": {},
   "outputs": [],
   "source": []
  },
  {
   "cell_type": "code",
   "execution_count": null,
   "metadata": {},
   "outputs": [],
   "source": []
  },
  {
   "cell_type": "code",
   "execution_count": null,
   "metadata": {},
   "outputs": [],
   "source": []
  },
  {
   "cell_type": "code",
   "execution_count": null,
   "metadata": {},
   "outputs": [],
   "source": []
  },
  {
   "cell_type": "code",
   "execution_count": null,
   "metadata": {},
   "outputs": [],
   "source": [
    "build a graph database of it's ref sequence, it's annotations, it's DNA, RNA, and AA nodes\n",
    "\n",
    "nodes:\n",
    "    type:\n",
    "    object:\n",
    "    key1 - value1\n",
    "    key2 - value2\n",
    "    \n",
    "edges:\n",
    "    use neo4j metagraph model"
   ]
  },
  {
   "cell_type": "code",
   "execution_count": null,
   "metadata": {},
   "outputs": [],
   "source": [
    "need to be able to do this for genbank and fasta + GFF, and do it for a single genome and 3 genomes"
   ]
  },
  {
   "cell_type": "code",
   "execution_count": null,
   "metadata": {},
   "outputs": [],
   "source": [
    "AAmer - 1, 3, 5, 7?\n",
    "RNAmer - 1, 3, 5, 7, 9, 11, 13, 17, 23, 31, 41, 53\n",
    "DNAmer - 1, 3, 5, 7, 9, 11, 13, 17, 23, 31, 41, 53"
   ]
  }
 ],
 "metadata": {
  "kernelspec": {
   "display_name": "Julia 1.6.3",
   "language": "julia",
   "name": "julia-1.6"
  },
  "language_info": {
   "file_extension": ".jl",
   "mimetype": "application/julia",
   "name": "julia",
   "version": "1.6.3"
  }
 },
 "nbformat": 4,
 "nbformat_minor": 4
}
