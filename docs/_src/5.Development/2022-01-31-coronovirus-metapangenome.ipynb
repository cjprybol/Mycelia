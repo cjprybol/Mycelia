{
 "cells": [
  {
   "cell_type": "code",
   "execution_count": null,
   "metadata": {},
   "outputs": [],
   "source": [
    "DATE = \"2022-01-31\"\n",
    "TASK = \"coronavirus-metapangenome-graph\"\n",
    "DIR = mkpath(\"$(homedir())/workspace/$(DATE)-$(TASK)\")\n",
    "cd(DIR)"
   ]
  },
  {
   "cell_type": "code",
   "execution_count": null,
   "metadata": {},
   "outputs": [],
   "source": [
    "pkgs = [\n",
    "    \"Graphs\",\n",
    "    \"MetaGraphs\",\n",
    "    \"FileIO\",\n",
    "    \"JLD2\",\n",
    "    \"DataStructures\",\n",
    "    \"BioSequences\",\n",
    "    \"Random\",\n",
    "    \"FASTX\",\n",
    "    \"Revise\",\n",
    "    \"StatsBase\"\n",
    "]\n",
    "\n",
    "import Pkg\n",
    "Pkg.add(pkgs)\n",
    "for pkg in pkgs\n",
    "    eval(Meta.parse(\"import $(basename(pkg))\"))\n",
    "end\n",
    "\n",
    "import Mycelia"
   ]
  },
  {
   "cell_type": "code",
   "execution_count": null,
   "metadata": {},
   "outputs": [],
   "source": [
    "download the genbank file for a specific coronavirus"
   ]
  },
  {
   "cell_type": "code",
   "execution_count": null,
   "metadata": {},
   "outputs": [],
   "source": [
    "build a graph database of it's ref sequence, it's annotations, it's DNA, RNA, and AA nodes\n",
    "\n",
    "nodes:\n",
    "    type:\n",
    "    object:\n",
    "    key1 - value1\n",
    "    key2 - value2\n",
    "    \n",
    "edges:\n",
    "    use neo4j metagraph model"
   ]
  },
  {
   "cell_type": "code",
   "execution_count": null,
   "metadata": {},
   "outputs": [],
   "source": [
    "need to be able to do this for genbank and fasta + GFF, and do it for a single genome and 3 genomes"
   ]
  },
  {
   "cell_type": "code",
   "execution_count": null,
   "metadata": {},
   "outputs": [],
   "source": [
    "AAmer - 1, 3, 5, 7?\n",
    "RNAmer - 1, 3, 5, 7, 9, 11, 13, 17, 23, 31, 41, 53\n",
    "DNAmer - 1, 3, 5, 7, 9, 11, 13, 17, 23, 31, 41, 53"
   ]
  }
 ],
 "metadata": {
  "kernelspec": {
   "display_name": "Julia 1.6.3",
   "language": "julia",
   "name": "julia-1.6"
  },
  "language_info": {
   "file_extension": ".jl",
   "mimetype": "application/julia",
   "name": "julia",
   "version": "1.6.3"
  }
 },
 "nbformat": 4,
 "nbformat_minor": 4
}
