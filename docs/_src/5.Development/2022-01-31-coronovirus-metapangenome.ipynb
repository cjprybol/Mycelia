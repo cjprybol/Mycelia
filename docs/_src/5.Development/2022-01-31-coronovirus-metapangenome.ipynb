{
 "cells": [
  {
   "cell_type": "code",
   "execution_count": 1,
   "metadata": {},
   "outputs": [],
   "source": [
    "DATE = \"2022-01-31\"\n",
    "TASK = \"coronavirus-metapangenome-graph\"\n",
    "DIR = mkpath(\"$(homedir())/workspace/$(DATE)-$(TASK)\")\n",
    "cd(DIR)"
   ]
  },
  {
   "cell_type": "code",
   "execution_count": 36,
   "metadata": {},
   "outputs": [
    {
     "name": "stderr",
     "output_type": "stream",
     "text": [
      "\u001b[32m\u001b[1m   Resolving\u001b[22m\u001b[39m package versions...\n",
      "\u001b[32m\u001b[1m  No Changes\u001b[22m\u001b[39m to `~/.julia/dev/Mycelia/docs/Project.toml`\n",
      "\u001b[32m\u001b[1m  No Changes\u001b[22m\u001b[39m to `~/.julia/dev/Mycelia/docs/Manifest.toml`\n"
     ]
    }
   ],
   "source": [
    "pkgs = [\n",
    "    \"Graphs\",\n",
    "    \"MetaGraphs\",\n",
    "    \"FileIO\",\n",
    "    \"HTTP\",\n",
    "    \"JLD2\",\n",
    "    \"DataStructures\",\n",
    "    \"BioSequences\",\n",
    "    \"DataFrames\",\n",
    "    \"Random\",\n",
    "    \"FASTX\",\n",
    "    \"Revise\",\n",
    "    \"StatsBase\",\n",
    "    \"uCSV\",\n",
    "    \"ProgressMeter\"\n",
    "]\n",
    "\n",
    "import Pkg\n",
    "Pkg.add(pkgs)\n",
    "for pkg in pkgs\n",
    "    eval(Meta.parse(\"import $(basename(pkg))\"))\n",
    "end\n",
    "\n",
    "import Mycelia"
   ]
  },
  {
   "cell_type": "markdown",
   "metadata": {},
   "source": [
    "download refseq metadata file"
   ]
  },
  {
   "cell_type": "code",
   "execution_count": 3,
   "metadata": {},
   "outputs": [
    {
     "data": {
      "text/html": [
       "<div class=\"data-frame\"><p>251,222 rows × 23 columns (omitted printing of 18 columns)</p><table class=\"data-frame\"><thead><tr><th></th><th># assembly_accession</th><th>bioproject</th><th>biosample</th><th>wgs_master</th><th>refseq_category</th></tr><tr><th></th><th title=\"String\">String</th><th title=\"String\">String</th><th title=\"String\">String</th><th title=\"String\">String</th><th title=\"String\">String</th></tr></thead><tbody><tr><th>1</th><td>GCF_000001215.4</td><td>PRJNA164</td><td>SAMN02803731</td><td></td><td>reference genome</td></tr><tr><th>2</th><td>GCF_000001405.39</td><td>PRJNA168</td><td></td><td></td><td>reference genome</td></tr><tr><th>3</th><td>GCF_000001635.27</td><td>PRJNA169</td><td></td><td></td><td>reference genome</td></tr><tr><th>4</th><td>GCF_000001735.4</td><td>PRJNA116</td><td>SAMN03081427</td><td></td><td>reference genome</td></tr><tr><th>5</th><td>GCF_000001905.1</td><td>PRJNA70973</td><td>SAMN02953622</td><td>AAGU00000000.3</td><td>representative genome</td></tr><tr><th>6</th><td>GCF_000001985.1</td><td>PRJNA32665</td><td>SAMN02953685</td><td>ABAR00000000.1</td><td>representative genome</td></tr><tr><th>7</th><td>GCF_000002035.6</td><td>PRJNA13922</td><td>SAMN06930106</td><td></td><td>reference genome</td></tr><tr><th>8</th><td>GCF_000002075.1</td><td>PRJNA209509</td><td>SAMN02953658</td><td>AASC00000000.3</td><td>representative genome</td></tr><tr><th>9</th><td>GCF_000002235.5</td><td>PRJNA13728</td><td>SAMN00829422</td><td>AAGJ00000000.6</td><td>representative genome</td></tr><tr><th>10</th><td>GCF_000002285.5</td><td>PRJNA12384</td><td>SAMN02953603</td><td>AAEX00000000.4</td><td>na</td></tr><tr><th>11</th><td>GCF_000002295.2</td><td>PRJNA15683</td><td>SAMN02953611</td><td>AAFR00000000.3</td><td>representative genome</td></tr><tr><th>12</th><td>GCF_000002335.3</td><td>PRJNA15718</td><td>SAMN02953634</td><td>AAJJ00000000.2</td><td>representative genome</td></tr><tr><th>13</th><td>GCF_000002415.2</td><td>PRJNA20431</td><td>SAMN02953638</td><td>AAKM00000000.1</td><td>representative genome</td></tr><tr><th>14</th><td>GCF_000002425.4</td><td>PRJNA28131</td><td>SAMN00120126</td><td>ABEU00000000.2</td><td>representative genome</td></tr><tr><th>15</th><td>GCF_000002435.2</td><td>PRJNA15590</td><td>SAMN02952905</td><td>AACB00000000.3</td><td>representative genome</td></tr><tr><th>16</th><td>GCF_000002445.2</td><td>PRJNA15565</td><td>SAMN02953625</td><td></td><td>representative genome</td></tr><tr><th>17</th><td>GCF_000002455.1</td><td>PRJNA27939</td><td></td><td></td><td>na</td></tr><tr><th>18</th><td>GCF_000002495.2</td><td>PRJNA1433</td><td>SAMN02953596</td><td>AACU00000000.3</td><td>representative genome</td></tr><tr><th>19</th><td>GCF_000002515.2</td><td>PRJNA12377</td><td>SAMEA3138170</td><td></td><td>representative genome</td></tr><tr><th>20</th><td>GCF_000002525.2</td><td>PRJNA12414</td><td>SAMEA3138171</td><td></td><td>representative genome</td></tr><tr><th>21</th><td>GCF_000002545.3</td><td>PRJNA12376</td><td>SAMEA3138172</td><td></td><td>representative genome</td></tr><tr><th>22</th><td>GCF_000002595.2</td><td>PRJNA21061</td><td>SAMN02953692</td><td>ABCN00000000.2</td><td>representative genome</td></tr><tr><th>23</th><td>GCF_000002655.1</td><td>PRJNA14003</td><td>SAMN00115746</td><td>AAHF00000000.1</td><td>representative genome</td></tr><tr><th>24</th><td>GCF_000002715.2</td><td>PRJNA18467</td><td>SAMN02953636</td><td>AAKD00000000.3</td><td>representative genome</td></tr><tr><th>25</th><td>GCF_000002725.2</td><td>PRJNA15564</td><td>SAMEA3138173</td><td></td><td>representative genome</td></tr><tr><th>26</th><td>GCF_000002765.5</td><td>PRJNA148</td><td>SAMN00102897</td><td></td><td>representative genome</td></tr><tr><th>27</th><td>GCF_000002775.4</td><td>PRJNA17973</td><td>SAMN02953657</td><td>AARH00000000.3</td><td>representative genome</td></tr><tr><th>28</th><td>GCF_000002825.2</td><td>PRJNA18631</td><td>SAMN02953626</td><td>AAHC00000000.1</td><td>representative genome</td></tr><tr><th>29</th><td>GCF_000002845.2</td><td>PRJNA19185</td><td>SAMEA2272271</td><td>CADA00000000.1</td><td>representative genome</td></tr><tr><th>30</th><td>GCF_000002855.3</td><td>PRJNA19263</td><td>SAMEA3283178</td><td></td><td>representative genome</td></tr><tr><th>&vellip;</th><td>&vellip;</td><td>&vellip;</td><td>&vellip;</td><td>&vellip;</td><td>&vellip;</td></tr></tbody></table></div>"
      ],
      "text/latex": [
       "\\begin{tabular}{r|cccccc}\n",
       "\t& \\# assembly\\_accession & bioproject & biosample & wgs\\_master & refseq\\_category & \\\\\n",
       "\t\\hline\n",
       "\t& String & String & String & String & String & \\\\\n",
       "\t\\hline\n",
       "\t1 & GCF\\_000001215.4 & PRJNA164 & SAMN02803731 &  & reference genome & $\\dots$ \\\\\n",
       "\t2 & GCF\\_000001405.39 & PRJNA168 &  &  & reference genome & $\\dots$ \\\\\n",
       "\t3 & GCF\\_000001635.27 & PRJNA169 &  &  & reference genome & $\\dots$ \\\\\n",
       "\t4 & GCF\\_000001735.4 & PRJNA116 & SAMN03081427 &  & reference genome & $\\dots$ \\\\\n",
       "\t5 & GCF\\_000001905.1 & PRJNA70973 & SAMN02953622 & AAGU00000000.3 & representative genome & $\\dots$ \\\\\n",
       "\t6 & GCF\\_000001985.1 & PRJNA32665 & SAMN02953685 & ABAR00000000.1 & representative genome & $\\dots$ \\\\\n",
       "\t7 & GCF\\_000002035.6 & PRJNA13922 & SAMN06930106 &  & reference genome & $\\dots$ \\\\\n",
       "\t8 & GCF\\_000002075.1 & PRJNA209509 & SAMN02953658 & AASC00000000.3 & representative genome & $\\dots$ \\\\\n",
       "\t9 & GCF\\_000002235.5 & PRJNA13728 & SAMN00829422 & AAGJ00000000.6 & representative genome & $\\dots$ \\\\\n",
       "\t10 & GCF\\_000002285.5 & PRJNA12384 & SAMN02953603 & AAEX00000000.4 & na & $\\dots$ \\\\\n",
       "\t11 & GCF\\_000002295.2 & PRJNA15683 & SAMN02953611 & AAFR00000000.3 & representative genome & $\\dots$ \\\\\n",
       "\t12 & GCF\\_000002335.3 & PRJNA15718 & SAMN02953634 & AAJJ00000000.2 & representative genome & $\\dots$ \\\\\n",
       "\t13 & GCF\\_000002415.2 & PRJNA20431 & SAMN02953638 & AAKM00000000.1 & representative genome & $\\dots$ \\\\\n",
       "\t14 & GCF\\_000002425.4 & PRJNA28131 & SAMN00120126 & ABEU00000000.2 & representative genome & $\\dots$ \\\\\n",
       "\t15 & GCF\\_000002435.2 & PRJNA15590 & SAMN02952905 & AACB00000000.3 & representative genome & $\\dots$ \\\\\n",
       "\t16 & GCF\\_000002445.2 & PRJNA15565 & SAMN02953625 &  & representative genome & $\\dots$ \\\\\n",
       "\t17 & GCF\\_000002455.1 & PRJNA27939 &  &  & na & $\\dots$ \\\\\n",
       "\t18 & GCF\\_000002495.2 & PRJNA1433 & SAMN02953596 & AACU00000000.3 & representative genome & $\\dots$ \\\\\n",
       "\t19 & GCF\\_000002515.2 & PRJNA12377 & SAMEA3138170 &  & representative genome & $\\dots$ \\\\\n",
       "\t20 & GCF\\_000002525.2 & PRJNA12414 & SAMEA3138171 &  & representative genome & $\\dots$ \\\\\n",
       "\t21 & GCF\\_000002545.3 & PRJNA12376 & SAMEA3138172 &  & representative genome & $\\dots$ \\\\\n",
       "\t22 & GCF\\_000002595.2 & PRJNA21061 & SAMN02953692 & ABCN00000000.2 & representative genome & $\\dots$ \\\\\n",
       "\t23 & GCF\\_000002655.1 & PRJNA14003 & SAMN00115746 & AAHF00000000.1 & representative genome & $\\dots$ \\\\\n",
       "\t24 & GCF\\_000002715.2 & PRJNA18467 & SAMN02953636 & AAKD00000000.3 & representative genome & $\\dots$ \\\\\n",
       "\t25 & GCF\\_000002725.2 & PRJNA15564 & SAMEA3138173 &  & representative genome & $\\dots$ \\\\\n",
       "\t26 & GCF\\_000002765.5 & PRJNA148 & SAMN00102897 &  & representative genome & $\\dots$ \\\\\n",
       "\t27 & GCF\\_000002775.4 & PRJNA17973 & SAMN02953657 & AARH00000000.3 & representative genome & $\\dots$ \\\\\n",
       "\t28 & GCF\\_000002825.2 & PRJNA18631 & SAMN02953626 & AAHC00000000.1 & representative genome & $\\dots$ \\\\\n",
       "\t29 & GCF\\_000002845.2 & PRJNA19185 & SAMEA2272271 & CADA00000000.1 & representative genome & $\\dots$ \\\\\n",
       "\t30 & GCF\\_000002855.3 & PRJNA19263 & SAMEA3283178 &  & representative genome & $\\dots$ \\\\\n",
       "\t$\\dots$ & $\\dots$ & $\\dots$ & $\\dots$ & $\\dots$ & $\\dots$ &  \\\\\n",
       "\\end{tabular}\n"
      ],
      "text/plain": [
       "\u001b[1m251222×23 DataFrame\u001b[0m\n",
       "\u001b[1m    Row \u001b[0m│\u001b[1m # assembly_accession \u001b[0m\u001b[1m bioproject  \u001b[0m\u001b[1m biosample     \u001b[0m\u001b[1m wgs_master        \u001b[0m\u001b[1m\u001b[0m ⋯\n",
       "\u001b[1m        \u001b[0m│\u001b[90m String               \u001b[0m\u001b[90m String      \u001b[0m\u001b[90m String        \u001b[0m\u001b[90m String            \u001b[0m\u001b[90m\u001b[0m ⋯\n",
       "────────┼───────────────────────────────────────────────────────────────────────\n",
       "      1 │ GCF_000001215.4       PRJNA164     SAMN02803731                      ⋯\n",
       "      2 │ GCF_000001405.39      PRJNA168\n",
       "      3 │ GCF_000001635.27      PRJNA169\n",
       "      4 │ GCF_000001735.4       PRJNA116     SAMN03081427\n",
       "      5 │ GCF_000001905.1       PRJNA70973   SAMN02953622   AAGU00000000.3     ⋯\n",
       "      6 │ GCF_000001985.1       PRJNA32665   SAMN02953685   ABAR00000000.1\n",
       "      7 │ GCF_000002035.6       PRJNA13922   SAMN06930106\n",
       "      8 │ GCF_000002075.1       PRJNA209509  SAMN02953658   AASC00000000.3\n",
       "      9 │ GCF_000002235.5       PRJNA13728   SAMN00829422   AAGJ00000000.6     ⋯\n",
       "     10 │ GCF_000002285.5       PRJNA12384   SAMN02953603   AAEX00000000.4\n",
       "     11 │ GCF_000002295.2       PRJNA15683   SAMN02953611   AAFR00000000.3\n",
       "   ⋮    │          ⋮                 ⋮             ⋮                ⋮          ⋱\n",
       " 251213 │ GCF_922832915.1       PRJNA224116  SAMEA11350711  CAKLPI000000000.1\n",
       " 251214 │ GCF_922984935.1       PRJNA796981  SAMEA7524400   CAKLPM000000000.1  ⋯\n",
       " 251215 │ GCF_923868895.1       PRJNA224116  SAMEA11973204\n",
       " 251216 │ GCF_924513355.1       PRJNA224116  SAMEA11935967  CAKMAB000000000.1\n",
       " 251217 │ GCF_927798095.1       PRJNA224116  SAMEA12303382  CAKMMF000000000.1\n",
       " 251218 │ GCF_927798115.1       PRJNA224116  SAMEA12303383  CAKMMG000000000.1  ⋯\n",
       " 251219 │ GCF_927798175.1       PRJNA224116  SAMEA12303384  CAKMMP000000000.1\n",
       " 251220 │ GCF_927798215.1       PRJNA224116  SAMEA12303385  CAKMMW000000000.1\n",
       " 251221 │ GCF_927798365.1       PRJNA224116  SAMEA10030967  CAKMMR000000000.1\n",
       " 251222 │ GCF_927798385.1       PRJNA224116  SAMEA10030966  CAKMMT000000000.1  ⋯\n",
       "\u001b[36m                                              19 columns and 251201 rows omitted\u001b[0m"
      ]
     },
     "execution_count": 3,
     "metadata": {},
     "output_type": "execute_result"
    }
   ],
   "source": [
    "refseq_summary_url = \"https://ftp.ncbi.nih.gov/genomes/refseq/assembly_summary_refseq.txt\"\n",
    "# drop first line which is a comment\n",
    "refseq_summary_table = DataFrames.DataFrame(uCSV.read(IOBuffer(HTTP.get(refseq_summary_url).body), comment = \"#  \", header=1, delim='\\t')...)"
   ]
  },
  {
   "cell_type": "code",
   "execution_count": 4,
   "metadata": {},
   "outputs": [
    {
     "name": "stdout",
     "output_type": "stream",
     "text": [
      "\u001b[1m1×23 DataFrame\u001b[0m\n",
      "\u001b[1m Row \u001b[0m│\u001b[1m # assembly_accession \u001b[0m\u001b[1m bioproject \u001b[0m\u001b[1m biosample    \u001b[0m\u001b[1m wgs_master \u001b[0m\u001b[1m refseq_category  \u001b[0m\u001b[1m taxid \u001b[0m\u001b[1m species_taxid \u001b[0m\u001b[1m organism_name           \u001b[0m\u001b[1m infraspecific_name \u001b[0m\u001b[1m isolate \u001b[0m\u001b[1m version_status \u001b[0m\u001b[1m assembly_level \u001b[0m\u001b[1m release_type \u001b[0m\u001b[1m genome_rep \u001b[0m\u001b[1m seq_rel_date \u001b[0m\u001b[1m asm_name               \u001b[0m\u001b[1m submitter                         \u001b[0m\u001b[1m gbrs_paired_asm \u001b[0m\u001b[1m paired_asm_comp \u001b[0m\u001b[1m ftp_path                          \u001b[0m\u001b[1m excluded_from_refseq \u001b[0m\u001b[1m relation_to_type_material \u001b[0m\u001b[1m asm_not_live_date \u001b[0m\n",
      "\u001b[1m     \u001b[0m│\u001b[90m String               \u001b[0m\u001b[90m String     \u001b[0m\u001b[90m String       \u001b[0m\u001b[90m String     \u001b[0m\u001b[90m String           \u001b[0m\u001b[90m Int64 \u001b[0m\u001b[90m Int64         \u001b[0m\u001b[90m String                  \u001b[0m\u001b[90m String             \u001b[0m\u001b[90m String  \u001b[0m\u001b[90m String         \u001b[0m\u001b[90m String         \u001b[0m\u001b[90m String       \u001b[0m\u001b[90m String     \u001b[0m\u001b[90m String       \u001b[0m\u001b[90m String                 \u001b[0m\u001b[90m String                            \u001b[0m\u001b[90m String          \u001b[0m\u001b[90m String          \u001b[0m\u001b[90m String                            \u001b[0m\u001b[90m String               \u001b[0m\u001b[90m String                    \u001b[0m\u001b[90m String            \u001b[0m\n",
      "─────┼──────────────────────────────────────────────────────────────────────────────────────────────────────────────────────────────────────────────────────────────────────────────────────────────────────────────────────────────────────────────────────────────────────────────────────────────────────────────────────────────────────────────────────────────────────────────────────────────────────────────────────────────────────\n",
      "   1 │ GCF_000001215.4       PRJNA164    SAMN02803731              reference genome   7227           7227  Drosophila melanogaster                               latest          Chromosome      Major         Full        2014/08/01    Release 6 plus ISO1 MT  The FlyBase Consortium/Berkeley …  GCA_000001215.4  identical        https://ftp.ncbi.nlm.nih.gov/gen…                                                   na"
     ]
    }
   ],
   "source": [
    "show(refseq_summary_table[1:1, :], allcols=true)"
   ]
  },
  {
   "cell_type": "markdown",
   "metadata": {},
   "source": [
    "Get the tax_id of all entities in NCBI that are virus or below"
   ]
  },
  {
   "cell_type": "code",
   "execution_count": 5,
   "metadata": {},
   "outputs": [
    {
     "data": {
      "text/plain": [
       "\"11118\""
      ]
     },
     "execution_count": 5,
     "metadata": {},
     "output_type": "execute_result"
    }
   ],
   "source": [
    "# # all viruses\n",
    "# https://www.ncbi.nlm.nih.gov/Taxonomy/Browser/wwwtax.cgi?mode=Info&id=10239&lvl=3&lin=f&keep=1&srchmode=1&unlock\n",
    "# taxid = \"10239\"\n",
    "# # coronavirus\n",
    "# https://www.ncbi.nlm.nih.gov/Taxonomy/Browser/wwwtax.cgi?lvl=0&amp;id=11118\n",
    "taxid = \"11118\""
   ]
  },
  {
   "cell_type": "code",
   "execution_count": 6,
   "metadata": {},
   "outputs": [
    {
     "data": {
      "text/plain": [
       "\"bolt://ncbi-taxonomy.cjp.garden:7687\""
      ]
     },
     "execution_count": 6,
     "metadata": {},
     "output_type": "execute_result"
    }
   ],
   "source": [
    "NEO4J_BIN_DIR = \"/home/jupyter-cjprybol/software/neo4j-community-4.4.3/bin\"\n",
    "if !occursin(NEO4J_BIN_DIR, ENV[\"PATH\"])\n",
    "    ENV[\"PATH\"] = \"$(NEO4J_BIN_DIR):\" * ENV[\"PATH\"]\n",
    "end \n",
    "DOMAIN = \"ncbi-taxonomy.cjp.garden\"\n",
    "# DOMAIN=\"34.138.169.173\"\n",
    "USERNAME=\"neo4j\"\n",
    "PASSWORD=readline(joinpath(homedir(), \".config\", \"neo4j\", \"ncbi-taxonomy.password.txt\"));\n",
    "DATABASE = \"neo4j\"\n",
    "# ADDRESS=\"neo4j://$(DOMAIN):7687\"\n",
    "ADDRESS=\"bolt://$(DOMAIN):7687\""
   ]
  },
  {
   "cell_type": "code",
   "execution_count": 7,
   "metadata": {},
   "outputs": [
    {
     "name": "stdout",
     "output_type": "stream",
     "text": [
      "MATCH (n)<-[*]-(n2) WHERE n.tax_id IS NOT NULL AND n.tax_id = \"11118\" RETURN DISTINCT n2.tax_id AS tax_id\n"
     ]
    }
   ],
   "source": [
    "# NOTE! *, or 0 distance (e.g. [*0..2]) step range will include source node!!!!\n",
    "cmd = \"MATCH (n)<-[*]-(n2) WHERE n.tax_id IS NOT NULL AND n.tax_id = \\\"$(taxid)\\\" RETURN DISTINCT n2.tax_id AS tax_id\"\n",
    "println(cmd)"
   ]
  },
  {
   "cell_type": "code",
   "execution_count": 8,
   "metadata": {},
   "outputs": [
    {
     "data": {
      "text/plain": [
       "1808-element Vector{Int64}:\n",
       "  693995\n",
       " 2664420\n",
       "  681862\n",
       "  681861\n",
       "  681883\n",
       "  681864\n",
       "  681878\n",
       "  681870\n",
       "  681849\n",
       "  681871\n",
       "  681880\n",
       "  681852\n",
       "  681876\n",
       "       ⋮\n",
       " 2078577\n",
       " 2219863\n",
       " 2249315\n",
       " 2707191\n",
       " 2724194\n",
       " 2730119\n",
       " 2050019\n",
       " 2501930\n",
       " 2788713\n",
       " 2830724\n",
       " 2836890\n",
       "   11118"
      ]
     },
     "execution_count": 8,
     "metadata": {},
     "output_type": "execute_result"
    }
   ],
   "source": [
    "coronaviridae_tax_ids = readlines(Mycelia.cypher(address = ADDRESS, username = USERNAME, password = PASSWORD, database = DATABASE, cmd=cmd))[2:end]\n",
    "coronaviridae_tax_ids = strip.(coronaviridae_tax_ids, '\"')\n",
    "coronaviridae_tax_ids = vcat(coronaviridae_tax_ids, taxid)\n",
    "coronaviridae_tax_ids = parse.(Int, coronaviridae_tax_ids)"
   ]
  },
  {
   "cell_type": "code",
   "execution_count": 10,
   "metadata": {},
   "outputs": [
    {
     "data": {
      "text/plain": [
       "83-element Vector{Int64}:\n",
       "  694448\n",
       " 1508220\n",
       " 2050018\n",
       " 1508228\n",
       " 1503291\n",
       " 2492658\n",
       " 1241933\n",
       " 1503292\n",
       " 1503290\n",
       " 1384461\n",
       "   28295\n",
       "  693999\n",
       "   11137\n",
       "       ⋮\n",
       "  694015\n",
       " 1159904\n",
       " 1159908\n",
       "  572288\n",
       " 1159902\n",
       " 1159907\n",
       "  572289\n",
       " 1159905\n",
       "  572290\n",
       " 1159906\n",
       " 1159903\n",
       " 2050019"
      ]
     },
     "execution_count": 10,
     "metadata": {},
     "output_type": "execute_result"
    }
   ],
   "source": [
    "refseq_coronaviridae_tax_ids = intersect(coronaviridae_tax_ids, refseq_summary_table[!, \"taxid\"])"
   ]
  },
  {
   "cell_type": "code",
   "execution_count": 24,
   "metadata": {},
   "outputs": [
    {
     "data": {
      "text/html": [
       "<div class=\"data-frame\"><p>91 rows × 23 columns (omitted printing of 17 columns)</p><table class=\"data-frame\"><thead><tr><th></th><th># assembly_accession</th><th>bioproject</th><th>biosample</th><th>wgs_master</th><th>refseq_category</th><th>taxid</th></tr><tr><th></th><th title=\"String\">String</th><th title=\"String\">String</th><th title=\"String\">String</th><th title=\"String\">String</th><th title=\"String\">String</th><th title=\"Int64\">Int64</th></tr></thead><tbody><tr><th>1</th><td>GCF_000848685.1</td><td>PRJNA485481</td><td></td><td></td><td>na</td><td>28295</td></tr><tr><th>2</th><td>GCF_000853505.1</td><td>PRJNA485481</td><td></td><td></td><td>na</td><td>11137</td></tr><tr><th>3</th><td>GCF_000853865.1</td><td>PRJNA485481</td><td></td><td></td><td>na</td><td>277944</td></tr><tr><th>4</th><td>GCF_000856025.1</td><td>PRJNA485481</td><td></td><td></td><td>na</td><td>11135</td></tr><tr><th>5</th><td>GCF_000858765.1</td><td>PRJNA485481</td><td></td><td></td><td>na</td><td>290028</td></tr><tr><th>6</th><td>GCF_000862345.1</td><td>PRJNA485481</td><td></td><td></td><td>na</td><td>11138</td></tr><tr><th>7</th><td>GCF_000862505.1</td><td>PRJNA485481</td><td></td><td></td><td>na</td><td>11128</td></tr><tr><th>8</th><td>GCF_000862965.1</td><td>PRJNA485481</td><td></td><td></td><td>na</td><td>11120</td></tr><tr><th>9</th><td>GCF_000863605.1</td><td></td><td></td><td></td><td>na</td><td>31631</td></tr><tr><th>10</th><td>GCF_000864885.1</td><td>PRJNA485481</td><td></td><td></td><td>reference genome</td><td>227984</td></tr><tr><th>11</th><td>GCF_000866165.1</td><td></td><td></td><td></td><td>na</td><td>42005</td></tr><tr><th>12</th><td>GCF_000868045.1</td><td>PRJNA485481</td><td></td><td></td><td>na</td><td>694006</td></tr><tr><th>13</th><td>GCF_000868165.1</td><td>PRJNA485481</td><td></td><td></td><td>na</td><td>1159906</td></tr><tr><th>14</th><td>GCF_000870045.1</td><td></td><td></td><td></td><td>na</td><td>389230</td></tr><tr><th>15</th><td>GCF_000870505.1</td><td>PRJNA485481</td><td></td><td></td><td>na</td><td>694007</td></tr><tr><th>16</th><td>GCF_000870985.1</td><td>PRJNA485481</td><td></td><td></td><td>na</td><td>693999</td></tr><tr><th>17</th><td>GCF_000872645.1</td><td></td><td></td><td></td><td>na</td><td>136187</td></tr><tr><th>18</th><td>GCF_000872805.1</td><td></td><td></td><td></td><td>na</td><td>393768</td></tr><tr><th>19</th><td>GCF_000872845.1</td><td>PRJNA485481</td><td></td><td></td><td>na</td><td>694015</td></tr><tr><th>20</th><td>GCF_000873025.1</td><td>PRJNA485481</td><td></td><td></td><td>na</td><td>694008</td></tr><tr><th>21</th><td>GCF_000875645.1</td><td>PRJNA485481</td><td></td><td></td><td>na</td><td>693998</td></tr><tr><th>22</th><td>GCF_000879255.1</td><td>PRJNA485481</td><td></td><td></td><td>na</td><td>393767</td></tr><tr><th>23</th><td>GCF_000879875.1</td><td>PRJNA485481</td><td></td><td></td><td>na</td><td>694001</td></tr><tr><th>24</th><td>GCF_000880055.1</td><td>PRJNA485481</td><td></td><td></td><td>na</td><td>11152</td></tr><tr><th>25</th><td>GCF_000880835.1</td><td>PRJNA485481</td><td></td><td></td><td>na</td><td>572289</td></tr><tr><th>26</th><td>GCF_000883335.1</td><td>PRJNA485481</td><td></td><td></td><td>na</td><td>572290</td></tr><tr><th>27</th><td>GCF_000884035.1</td><td>PRJNA39331</td><td></td><td></td><td>na</td><td>502108</td></tr><tr><th>28</th><td>GCF_000885015.1</td><td></td><td></td><td></td><td>na</td><td>627439</td></tr><tr><th>29</th><td>GCF_000885655.1</td><td>PRJNA39333</td><td></td><td></td><td>na</td><td>502105</td></tr><tr><th>30</th><td>GCF_000886515.1</td><td>PRJNA485481</td><td></td><td></td><td>na</td><td>502102</td></tr><tr><th>&vellip;</th><td>&vellip;</td><td>&vellip;</td><td>&vellip;</td><td>&vellip;</td><td>&vellip;</td><td>&vellip;</td></tr></tbody></table></div>"
      ],
      "text/latex": [
       "\\begin{tabular}{r|ccccccc}\n",
       "\t& \\# assembly\\_accession & bioproject & biosample & wgs\\_master & refseq\\_category & taxid & \\\\\n",
       "\t\\hline\n",
       "\t& String & String & String & String & String & Int64 & \\\\\n",
       "\t\\hline\n",
       "\t1 & GCF\\_000848685.1 & PRJNA485481 &  &  & na & 28295 & $\\dots$ \\\\\n",
       "\t2 & GCF\\_000853505.1 & PRJNA485481 &  &  & na & 11137 & $\\dots$ \\\\\n",
       "\t3 & GCF\\_000853865.1 & PRJNA485481 &  &  & na & 277944 & $\\dots$ \\\\\n",
       "\t4 & GCF\\_000856025.1 & PRJNA485481 &  &  & na & 11135 & $\\dots$ \\\\\n",
       "\t5 & GCF\\_000858765.1 & PRJNA485481 &  &  & na & 290028 & $\\dots$ \\\\\n",
       "\t6 & GCF\\_000862345.1 & PRJNA485481 &  &  & na & 11138 & $\\dots$ \\\\\n",
       "\t7 & GCF\\_000862505.1 & PRJNA485481 &  &  & na & 11128 & $\\dots$ \\\\\n",
       "\t8 & GCF\\_000862965.1 & PRJNA485481 &  &  & na & 11120 & $\\dots$ \\\\\n",
       "\t9 & GCF\\_000863605.1 &  &  &  & na & 31631 & $\\dots$ \\\\\n",
       "\t10 & GCF\\_000864885.1 & PRJNA485481 &  &  & reference genome & 227984 & $\\dots$ \\\\\n",
       "\t11 & GCF\\_000866165.1 &  &  &  & na & 42005 & $\\dots$ \\\\\n",
       "\t12 & GCF\\_000868045.1 & PRJNA485481 &  &  & na & 694006 & $\\dots$ \\\\\n",
       "\t13 & GCF\\_000868165.1 & PRJNA485481 &  &  & na & 1159906 & $\\dots$ \\\\\n",
       "\t14 & GCF\\_000870045.1 &  &  &  & na & 389230 & $\\dots$ \\\\\n",
       "\t15 & GCF\\_000870505.1 & PRJNA485481 &  &  & na & 694007 & $\\dots$ \\\\\n",
       "\t16 & GCF\\_000870985.1 & PRJNA485481 &  &  & na & 693999 & $\\dots$ \\\\\n",
       "\t17 & GCF\\_000872645.1 &  &  &  & na & 136187 & $\\dots$ \\\\\n",
       "\t18 & GCF\\_000872805.1 &  &  &  & na & 393768 & $\\dots$ \\\\\n",
       "\t19 & GCF\\_000872845.1 & PRJNA485481 &  &  & na & 694015 & $\\dots$ \\\\\n",
       "\t20 & GCF\\_000873025.1 & PRJNA485481 &  &  & na & 694008 & $\\dots$ \\\\\n",
       "\t21 & GCF\\_000875645.1 & PRJNA485481 &  &  & na & 693998 & $\\dots$ \\\\\n",
       "\t22 & GCF\\_000879255.1 & PRJNA485481 &  &  & na & 393767 & $\\dots$ \\\\\n",
       "\t23 & GCF\\_000879875.1 & PRJNA485481 &  &  & na & 694001 & $\\dots$ \\\\\n",
       "\t24 & GCF\\_000880055.1 & PRJNA485481 &  &  & na & 11152 & $\\dots$ \\\\\n",
       "\t25 & GCF\\_000880835.1 & PRJNA485481 &  &  & na & 572289 & $\\dots$ \\\\\n",
       "\t26 & GCF\\_000883335.1 & PRJNA485481 &  &  & na & 572290 & $\\dots$ \\\\\n",
       "\t27 & GCF\\_000884035.1 & PRJNA39331 &  &  & na & 502108 & $\\dots$ \\\\\n",
       "\t28 & GCF\\_000885015.1 &  &  &  & na & 627439 & $\\dots$ \\\\\n",
       "\t29 & GCF\\_000885655.1 & PRJNA39333 &  &  & na & 502105 & $\\dots$ \\\\\n",
       "\t30 & GCF\\_000886515.1 & PRJNA485481 &  &  & na & 502102 & $\\dots$ \\\\\n",
       "\t$\\dots$ & $\\dots$ & $\\dots$ & $\\dots$ & $\\dots$ & $\\dots$ & $\\dots$ &  \\\\\n",
       "\\end{tabular}\n"
      ],
      "text/plain": [
       "\u001b[1m91×23 DataFrame\u001b[0m\n",
       "\u001b[1m Row \u001b[0m│\u001b[1m # assembly_accession \u001b[0m\u001b[1m bioproject  \u001b[0m\u001b[1m biosample \u001b[0m\u001b[1m wgs_master \u001b[0m\u001b[1m refseq_catego\u001b[0m ⋯\n",
       "\u001b[1m     \u001b[0m│\u001b[90m String               \u001b[0m\u001b[90m String      \u001b[0m\u001b[90m String    \u001b[0m\u001b[90m String     \u001b[0m\u001b[90m String       \u001b[0m ⋯\n",
       "─────┼──────────────────────────────────────────────────────────────────────────\n",
       "   1 │ GCF_000848685.1       PRJNA485481                         na            ⋯\n",
       "   2 │ GCF_000853505.1       PRJNA485481                         na\n",
       "   3 │ GCF_000853865.1       PRJNA485481                         na\n",
       "   4 │ GCF_000856025.1       PRJNA485481                         na\n",
       "   5 │ GCF_000858765.1       PRJNA485481                         na            ⋯\n",
       "   6 │ GCF_000862345.1       PRJNA485481                         na\n",
       "   7 │ GCF_000862505.1       PRJNA485481                         na\n",
       "   8 │ GCF_000862965.1       PRJNA485481                         na\n",
       "   9 │ GCF_000863605.1                                           na            ⋯\n",
       "  10 │ GCF_000864885.1       PRJNA485481                         reference gen\n",
       "  11 │ GCF_000866165.1                                           na\n",
       "  ⋮  │          ⋮                 ⋮           ⋮          ⋮              ⋮      ⋱\n",
       "  82 │ GCF_003972325.1       PRJNA485481                         na\n",
       "  83 │ GCF_009858895.2       PRJNA485481                         reference gen ⋯\n",
       "  84 │ GCF_012271565.1       PRJNA485481                         na\n",
       "  85 │ GCF_012271575.1       PRJNA485481                         na\n",
       "  86 │ GCF_012271615.1       PRJNA485481                         na\n",
       "  87 │ GCF_012271625.1       PRJNA485481                         na            ⋯\n",
       "  88 │ GCF_012271635.1       PRJNA485481                         na\n",
       "  89 │ GCF_012271725.1       PRJNA485481                         na\n",
       "  90 │ GCF_012271735.1       PRJNA485481                         na\n",
       "  91 │ GCF_012271745.1       PRJNA485481                         na            ⋯\n",
       "\u001b[36m                                                  19 columns and 70 rows omitted\u001b[0m"
      ]
     },
     "execution_count": 24,
     "metadata": {},
     "output_type": "execute_result"
    }
   ],
   "source": [
    "coronaviridae_refseq_metadata = refseq_summary_table[map(taxid -> taxid in refseq_coronaviridae_tax_ids, refseq_summary_table[!, \"taxid\"]), :]"
   ]
  },
  {
   "cell_type": "code",
   "execution_count": 26,
   "metadata": {},
   "outputs": [
    {
     "data": {
      "text/plain": [
       "ncbi_ftp_path_to_fasta (generic function with 1 method)"
      ]
     },
     "execution_count": 26,
     "metadata": {},
     "output_type": "execute_result"
    }
   ],
   "source": [
    "function ncbi_ftp_path_to_fasta(ftp_path)\n",
    "    f_name = basename(ftp_path) * \"_genomic.fna.gz\"\n",
    "    new_path = joinpath(ftp_path, f_name)\n",
    "    return new_path\n",
    "end"
   ]
  },
  {
   "cell_type": "code",
   "execution_count": 27,
   "metadata": {},
   "outputs": [
    {
     "data": {
      "text/plain": [
       "ncbi_ftp_path_to_gff (generic function with 1 method)"
      ]
     },
     "execution_count": 27,
     "metadata": {},
     "output_type": "execute_result"
    }
   ],
   "source": [
    "function ncbi_ftp_path_to_gff(ftp_path)\n",
    "    f_name = basename(ftp_path) * \"_genomic.gff.gz\"\n",
    "    new_path = joinpath(ftp_path, f_name)\n",
    "    return new_path\n",
    "end"
   ]
  },
  {
   "cell_type": "code",
   "execution_count": 28,
   "metadata": {},
   "outputs": [
    {
     "data": {
      "text/plain": [
       "\"/home/jupyter-cjprybol/workspace/2022-01-31-coronavirus-metapangenome-graph/ncbi-files\""
      ]
     },
     "execution_count": 28,
     "metadata": {},
     "output_type": "execute_result"
    }
   ],
   "source": [
    "outdir = mkpath(joinpath(DIR, \"ncbi-files\"))"
   ]
  },
  {
   "cell_type": "code",
   "execution_count": 37,
   "metadata": {},
   "outputs": [
    {
     "name": "stderr",
     "output_type": "stream",
     "text": [
      "\u001b[32mProgress: 100%|█████████████████████████████████████████| Time: 0:00:05\u001b[39m\n"
     ]
    }
   ],
   "source": [
    "ProgressMeter.@showprogress for row in DataFrames.eachrow(coronaviridae_refseq_metadata)\n",
    "    if row[\"taxid\"] in coronaviridae_tax_ids\n",
    "        fasta_url = ncbi_ftp_path_to_fasta(row[\"ftp_path\"])\n",
    "        fasta_outfile = joinpath(outdir, basename(fasta_url))\n",
    "        if !isfile(fasta_outfile)\n",
    "            Downloads.download(fasta_url, fasta_outfile)\n",
    "        end\n",
    "\n",
    "        gff_url = ncbi_ftp_path_to_gff(row[\"ftp_path\"])\n",
    "        gff_outfile = joinpath(outdir, basename(gff_url))\n",
    "        if !isfile(gff_outfile)\n",
    "            Downloads.download(gff_url, gff_outfile)\n",
    "        end\n",
    "    end\n",
    "end"
   ]
  },
  {
   "cell_type": "code",
   "execution_count": 56,
   "metadata": {},
   "outputs": [
    {
     "data": {
      "text/plain": [
       "\"java -Xms1g -Xmx10g -jar /home/jupyter-cjprybol/git/pantools/dist/pantools.jar\""
      ]
     },
     "execution_count": 56,
     "metadata": {},
     "output_type": "execute_result"
    }
   ],
   "source": [
    "max_memory = Int(floor(Sys.free_memory() / 10^9))\n",
    "min_memory = 1\n",
    "pantools_jar_path = joinpath(homedir(), \"git\", \"pantools\", \"dist\", \"pantools.jar\")\n",
    "pantools = \"java -Xms$(min_memory)g -Xmx$(max_memory)g -jar $(pantools_jar_path)\""
   ]
  },
  {
   "cell_type": "code",
   "execution_count": 63,
   "metadata": {},
   "outputs": [
    {
     "data": {
      "text/plain": [
       "\"/home/jupyter-cjprybol/software/neo4j-community-3.5.30/bin:/home/jupyter-cjprybol/software/neo4j-community-4.4.3/bin:/opt/tljh/user/bin:/usr/local/sbin:/usr/local/bin:/usr/sbin:/usr/bin:/sbin:/bin:/snap/bin\""
      ]
     },
     "execution_count": 63,
     "metadata": {},
     "output_type": "execute_result"
    }
   ],
   "source": [
    "ENV[\"PATH\"] = joinpath(homedir(), \"software\", \"neo4j-community-3.5.30\", \"bin\") * \":\" * ENV[\"PATH\"]"
   ]
  },
  {
   "cell_type": "code",
   "execution_count": 67,
   "metadata": {},
   "outputs": [],
   "source": [
    "# run(`conda activate pantools`)\n",
    "# run(`conda init bash`)\n",
    "# conda run -n envname"
   ]
  },
  {
   "cell_type": "code",
   "execution_count": 69,
   "metadata": {},
   "outputs": [
    {
     "name": "stderr",
     "output_type": "stream",
     "text": [
      "\n",
      "# >>>>>>>>>>>>>>>>>>>>>> ERROR REPORT <<<<<<<<<<<<<<<<<<<<<<\n",
      "\n",
      "    Traceback (most recent call last):\n",
      "      File \"/opt/tljh/user/lib/python3.7/site-packages/conda/exceptions.py\", line 1078, in __call__\n",
      "        return func(*args, **kwargs)\n",
      "      File \"/opt/tljh/user/lib/python3.7/site-packages/conda/cli/main.py\", line 84, in _main\n",
      "        exit_code = do_call(args, p)\n",
      "      File \"/opt/tljh/user/lib/python3.7/site-packages/conda/cli/conda_argparse.py\", line 82, in do_call\n",
      "        return getattr(module, func_name)(args, parser)\n",
      "      File \"/opt/tljh/user/lib/python3.7/site-packages/conda/cli/main_run.py\", line 23, in execute\n",
      "        args.dev, args.debug_wrapper_scripts, call)\n",
      "      File \"/opt/tljh/user/lib/python3.7/site-packages/conda/utils.py\", line 403, in wrap_subprocess_call\n",
      "        with Utf8NamedTemporaryFile(mode='w', prefix=tmp_prefix, delete=False) as fh:\n",
      "      File \"/opt/tljh/user/lib/python3.7/site-packages/conda/_vendor/auxlib/compat.py\", line 80, in Utf8NamedTemporaryFile\n",
      "        dir=dir, delete=delete)\n",
      "      File \"/opt/tljh/user/lib/python3.7/tempfile.py\", line 547, in NamedTemporaryFile\n",
      "        (fd, name) = _mkstemp_inner(dir, prefix, suffix, flags, output_type)\n",
      "      File \"/opt/tljh/user/lib/python3.7/tempfile.py\", line 258, in _mkstemp_inner\n",
      "        fd = _os.open(file, flags, 0o600)\n",
      "    PermissionError: [Errno 13] Permission denied: '/opt/tljh/user/envs/pantools/.tmpvjmbbplx'\n",
      "\n",
      "`$ /opt/tljh/user/bin/conda run -n pantools java -Xms1g -Xmx10g -jar /home/jupyter-cjprybol/git/pantools/dist/pantools.jar -h`\n",
      "\n",
      "  environment variables:\n",
      "                 CIO_TEST=<not set>\n",
      "               CONDA_ROOT=/opt/tljh/user\n",
      "          FONTCONFIG_PATH=/home/jupyter-cjprybol/.julia/artifacts/387d89822da323c098aba6f8ab3168\n",
      "                          74d4e90f2e/etc/fonts\n",
      "                     PATH=/home/jupyter-\n",
      "                          cjprybol/software/neo4j-community-3.5.30/bin:/home/jupyter-cjprybol/so\n",
      "                          ftware/neo4j-community-4.4.3/bin:/opt/tljh/user/bin:/usr/local/sbin:/u\n",
      "                          sr/local/bin:/usr/sbin:/usr/bin:/sbin:/bin:/snap/bin\n",
      "       REQUESTS_CA_BUNDLE=<not set>\n",
      "            SSL_CERT_FILE=<not set>\n",
      "\n",
      "     active environment : None\n",
      "       user config file : /home/jupyter-cjprybol/.condarc\n",
      " populated config files : \n",
      "          conda version : 4.8.1\n",
      "    conda-build version : not installed\n",
      "         python version : 3.7.11.final.0\n",
      "       virtual packages : __glibc=2.31\n",
      "       base environment : /opt/tljh/user  (read only)\n",
      "           channel URLs : https://repo.anaconda.com/pkgs/main/linux-64\n",
      "                          https://repo.anaconda.com/pkgs/main/noarch\n",
      "                          https://repo.anaconda.com/pkgs/r/linux-64\n",
      "                          https://repo.anaconda.com/pkgs/r/noarch\n",
      "          package cache : /opt/tljh/user/pkgs\n",
      "                          /home/jupyter-cjprybol/.conda/pkgs\n",
      "       envs directories : /home/jupyter-cjprybol/.conda/envs\n",
      "                          /opt/tljh/user/envs\n",
      "               platform : linux-64\n",
      "             user-agent : conda/4.8.1 requests/2.26.0 CPython/3.7.11 Linux/5.4.0-1057-gcp ubuntu/18.04.5 glibc/2.31\n",
      "                UID:GID : 1001:1004\n",
      "             netrc file : None\n",
      "           offline mode : False\n",
      "\n",
      "\n",
      "An unexpected error has occurred. Conda has prepared the above report.\n",
      "\n"
     ]
    },
    {
     "ename": "LoadError",
     "evalue": "failed process: Process(`\u001b[4mconda\u001b[24m \u001b[4mrun\u001b[24m \u001b[4m-n\u001b[24m \u001b[4mpantools\u001b[24m \u001b[4m'java -Xms1g -Xmx10g -jar /home/jupyter-cjprybol/git/pantools/dist/pantools.jar'\u001b[24m \u001b[4m-h\u001b[24m`, ProcessExited(1)) [1]\n",
     "output_type": "error",
     "traceback": [
      "failed process: Process(`\u001b[4mconda\u001b[24m \u001b[4mrun\u001b[24m \u001b[4m-n\u001b[24m \u001b[4mpantools\u001b[24m \u001b[4m'java -Xms1g -Xmx10g -jar /home/jupyter-cjprybol/git/pantools/dist/pantools.jar'\u001b[24m \u001b[4m-h\u001b[24m`, ProcessExited(1)) [1]\n",
      "",
      "Stacktrace:",
      " [1] pipeline_error",
      "   @ ./process.jl:525 [inlined]",
      " [2] run(::Cmd; wait::Bool)",
      "   @ Base ./process.jl:440",
      " [3] run(::Cmd)",
      "   @ Base ./process.jl:438",
      " [4] top-level scope",
      "   @ In[69]:1",
      " [5] eval",
      "   @ ./boot.jl:360 [inlined]",
      " [6] include_string(mapexpr::typeof(REPL.softscope), mod::Module, code::String, filename::String)",
      "   @ Base ./loading.jl:1116"
     ]
    }
   ],
   "source": [
    "run(`conda run -n pantools $pantools -h`)"
   ]
  },
  {
   "cell_type": "code",
   "execution_count": null,
   "metadata": {},
   "outputs": [],
   "source": [
    "build a graph database of it's ref sequence, it's annotations, it's DNA, RNA, and AA nodes\n",
    "\n",
    "nodes:\n",
    "    type:\n",
    "    object:\n",
    "    key1 - value1\n",
    "    key2 - value2\n",
    "    \n",
    "edges:\n",
    "    use neo4j metagraph model"
   ]
  },
  {
   "cell_type": "code",
   "execution_count": null,
   "metadata": {},
   "outputs": [],
   "source": [
    "need to be able to do this for genbank and fasta + GFF, and do it for a single genome and 3 genomes"
   ]
  },
  {
   "cell_type": "code",
   "execution_count": null,
   "metadata": {},
   "outputs": [],
   "source": [
    "AAmer - 1, 3, 5, 7?\n",
    "RNAmer - 1, 3, 5, 7, 9, 11, 13, 17, 23, 31, 41, 53\n",
    "DNAmer - 1, 3, 5, 7, 9, 11, 13, 17, 23, 31, 41, 53"
   ]
  }
 ],
 "metadata": {
  "kernelspec": {
   "display_name": "Julia 1.6.3",
   "language": "julia",
   "name": "julia-1.6"
  },
  "language_info": {
   "file_extension": ".jl",
   "mimetype": "application/julia",
   "name": "julia",
   "version": "1.6.3"
  }
 },
 "nbformat": 4,
 "nbformat_minor": 4
}
