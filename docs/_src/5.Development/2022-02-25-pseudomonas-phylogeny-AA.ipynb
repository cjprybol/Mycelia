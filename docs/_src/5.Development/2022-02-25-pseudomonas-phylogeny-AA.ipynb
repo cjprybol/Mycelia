{
 "cells": [
  {
   "cell_type": "code",
   "execution_count": 1,
   "metadata": {},
   "outputs": [
    {
     "data": {
      "text/plain": [
       "2-element Vector{Union{Nothing, SubString{String}}}:\n",
       " \"2022-02-25\"\n",
       " \"pseudomonas-phylogeny-AA\""
      ]
     },
     "execution_count": 1,
     "metadata": {},
     "output_type": "execute_result"
    }
   ],
   "source": [
    "DATE_TASK = \"2022-02-25-pseudomonas-phylogeny-AA\"\n",
    "DIR = mkpath(\"$(homedir())/workspace/$DATE_TASK\")\n",
    "cd(DIR)\n",
    "DATE, TASK = match(r\"^(\\d{4}-\\d{2}-\\d{2})-(.*)$\", DATE_TASK).captures"
   ]
  },
  {
   "cell_type": "code",
   "execution_count": null,
   "metadata": {},
   "outputs": [
    {
     "name": "stderr",
     "output_type": "stream",
     "text": [
      "\u001b[32m\u001b[1m    Updating\u001b[22m\u001b[39m registry at `~/.julia/registries/General`\n",
      "\u001b[32m\u001b[1m    Updating\u001b[22m\u001b[39m git-repo `https://github.com/cjprybol/Mycelia.git#master`\n",
      "\u001b[32m\u001b[1m  No Changes\u001b[22m\u001b[39m to `~/git/Mycelia/docs/Project.toml`\n",
      "\u001b[32m\u001b[1m  No Changes\u001b[22m\u001b[39m to `~/git/Mycelia/docs/Manifest.toml`\n"
     ]
    }
   ],
   "source": [
    "import Pkg\n",
    "Pkg.update()\n",
    "pkgs = [\n",
    "\"JSON\",\n",
    "\"HTTP\",\n",
    "\"Dates\",\n",
    "\"uCSV\",\n",
    "\"DelimitedFiles\",\n",
    "\"DataFrames\",\n",
    "\"ProgressMeter\",\n",
    "\"BioSequences\",\n",
    "\"FASTX\",\n",
    "\"Distances\",\n",
    "\"Plots\",\n",
    "\"StatsPlots\",\n",
    "\"StatsBase\",\n",
    "\"Statistics\",\n",
    "\"Mmap\",\n",
    "\"MultivariateStats\",\n",
    "\"PyCall\",\n",
    "\"Random\",\n",
    "\"Primes\",\n",
    "\"SparseArrays\",\n",
    "\"SHA\",\n",
    "\"https://github.com/cjprybol/Mycelia.git#master\",\n",
    "\"GenomicAnnotations\",\n",
    "\"BioFetch\",\n",
    "\"Combinatorics\",\n",
    "\"StaticArrays\",\n",
    "\"BioSymbols\",\n",
    "\"RollingFunctions\",\n",
    "\"OrderedCollections\",\n",
    "\"Downloads\",\n",
    "\"Clustering\"\n",
    "]\n",
    "\n",
    "for pkg in pkgs\n",
    "    try\n",
    "        eval(Meta.parse(\"import $pkg\"))\n",
    "    catch\n",
    "        try\n",
    "            Pkg.add(pkg)\n",
    "        catch\n",
    "            Pkg.add(url=pkg)\n",
    "            pkg = replace(basename(pkg), \".git#master\" => \"\")\n",
    "        end\n",
    "        eval(Meta.parse(\"import $pkg\"))\n",
    "    end\n",
    "end"
   ]
  },
  {
   "cell_type": "code",
   "execution_count": null,
   "metadata": {},
   "outputs": [],
   "source": [
    "# https://www.ncbi.nlm.nih.gov/Taxonomy/Browser/wwwtax.cgi?&id=$(tax_id)\n",
    "root_tax_id = 287"
   ]
  },
  {
   "cell_type": "code",
   "execution_count": null,
   "metadata": {},
   "outputs": [],
   "source": [
    "child_tax_ids = vcat(Mycelia.taxonomic_id_to_children(root_tax_id), root_tax_id)\n",
    "# child_tax_ids = vcat(child_tax_ids, root_tax_id)"
   ]
  },
  {
   "cell_type": "code",
   "execution_count": null,
   "metadata": {},
   "outputs": [],
   "source": [
    "refseq_metadata = Mycelia.load_refseq_metadata()"
   ]
  },
  {
   "cell_type": "code",
   "execution_count": null,
   "metadata": {},
   "outputs": [],
   "source": [
    "show(refseq_metadata[1:1, :], allcols=true)"
   ]
  },
  {
   "cell_type": "code",
   "execution_count": null,
   "metadata": {},
   "outputs": [],
   "source": [
    "is_full = refseq_metadata[!, \"genome_rep\"] .== \"Full\"\n",
    "not_excluded = refseq_metadata[!, \"excluded_from_refseq\"] .== \"\"\n",
    "assembly_levels = [\"Complete Genome\"]\n",
    "# assembly_levels = [\"Complete Genome\", \"Chromosome\"]\n",
    "# assembly_levels = [\"Complete Genome\", \"Chromosome\", \"Scaffold\"]\n",
    "# assembly_levels = [\"Complete Genome\", \"Chromosome\", \"Scaffold\", \"Contig\"]\n",
    "assembly_level_filter = map(x -> x in assembly_levels, refseq_metadata[!, \"assembly_level\"])\n",
    "tax_id_filter = map(taxid -> taxid in child_tax_ids, refseq_metadata[!, \"taxid\"])\n",
    "full_filter = is_full .& not_excluded .& assembly_level_filter .& tax_id_filter\n",
    "count(full_filter)"
   ]
  },
  {
   "cell_type": "code",
   "execution_count": null,
   "metadata": {},
   "outputs": [],
   "source": [
    "refseq_metadata_of_interest = refseq_metadata[full_filter, :]"
   ]
  },
  {
   "cell_type": "code",
   "execution_count": null,
   "metadata": {},
   "outputs": [],
   "source": [
    "for extension in (\"genomic.fna.gz\", \"genomic.gff.gz\", \"protein.faa.gz\")\n",
    "    outdir = mkpath(joinpath(DIR, extension))\n",
    "    ProgressMeter.@showprogress for row in DataFrames.eachrow(refseq_metadata_of_interest)\n",
    "        url = ncbi_ftp_path_to_url(row[\"ftp_path\"], extension)\n",
    "        outfile = joinpath(outdir, basename(url))\n",
    "        if !isfile(outfile)\n",
    "            Downloads.download(url, outfile)\n",
    "        end\n",
    "    end\n",
    "end"
   ]
  },
  {
   "cell_type": "code",
   "execution_count": null,
   "metadata": {},
   "outputs": [],
   "source": [
    "extension = \"protein.faa.gz\"\n",
    "outdir = mkpath(joinpath(DIR, extension))"
   ]
  },
  {
   "cell_type": "code",
   "execution_count": null,
   "metadata": {},
   "outputs": [],
   "source": [
    "fastx_file = first(readdir(outdir, join=true))"
   ]
  },
  {
   "cell_type": "code",
   "execution_count": null,
   "metadata": {},
   "outputs": [],
   "source": [
    "# these are too small, all of the within vs between have some disagreement\n",
    "dna_k = 5\n",
    "aa_k = 2\n",
    "# should use these?\n",
    "# dna_k = 7\n",
    "# aa_k = 3"
   ]
  },
  {
   "cell_type": "code",
   "execution_count": null,
   "metadata": {},
   "outputs": [],
   "source": [
    "fastx_files = filter(x -> !occursin(\".ipynb_checkpoints\", x), readdir(outdir, join=true))"
   ]
  },
  {
   "cell_type": "code",
   "execution_count": null,
   "metadata": {},
   "outputs": [],
   "source": [
    "counts_table, outfile = Mycelia.fasta_list_to_counts_table(fasta_list=fastx_files, k=aa_k, alphabet=:AA, outfile=\"$(outdir).$(aa_k).counts.bin\")"
   ]
  },
  {
   "cell_type": "code",
   "execution_count": null,
   "metadata": {},
   "outputs": [],
   "source": [
    "distance_matrix = zeros(size(counts_table, 2), size(counts_table, 2))\n",
    "for i1 in 1:size(counts_table, 2)\n",
    "    for i2 in i1+1:size(counts_table, 2)\n",
    "        a = counts_table[:, i1]\n",
    "        b = counts_table[:, i2]\n",
    "        sa = sum(a)\n",
    "        sb = sum(b)\n",
    "        size_dist = 1-(min(sa, sb)/max(sa, sb))\n",
    "        cosine_dist = Distances.cosine_dist(a, b)\n",
    "        distances = filter(x -> x > 0, (size_dist, cosine_dist))\n",
    "        if isempty(distances)\n",
    "            dist = 0.0\n",
    "        else\n",
    "            dist = reduce(*, distances)\n",
    "        end\n",
    "        distance_matrix[i1, i2] = distance_matrix[i2, i1] = dist\n",
    "    end\n",
    "end"
   ]
  },
  {
   "cell_type": "code",
   "execution_count": null,
   "metadata": {},
   "outputs": [],
   "source": [
    "distance_matrix"
   ]
  },
  {
   "cell_type": "code",
   "execution_count": null,
   "metadata": {},
   "outputs": [],
   "source": [
    "newick_tree_file = outfile * \".newick\"\n",
    "Mycelia.distance_matrix_to_newick(distance_matrix, basename.(fastx_files), newick_tree_file)"
   ]
  }
 ],
 "metadata": {
  "kernelspec": {
   "display_name": "Julia 1.6.5",
   "language": "julia",
   "name": "julia-1.6"
  },
  "language_info": {
   "file_extension": ".jl",
   "mimetype": "application/julia",
   "name": "julia",
   "version": "1.6.5"
  }
 },
 "nbformat": 4,
 "nbformat_minor": 4
}
