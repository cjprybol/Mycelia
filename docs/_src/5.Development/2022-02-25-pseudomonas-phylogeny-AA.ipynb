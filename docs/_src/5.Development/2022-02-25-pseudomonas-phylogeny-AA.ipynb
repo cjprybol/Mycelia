{
 "cells": [
  {
   "cell_type": "code",
   "execution_count": 1,
   "metadata": {},
   "outputs": [
    {
     "data": {
      "text/plain": [
       "2-element Vector{Union{Nothing, SubString{String}}}:\n",
       " \"2022-02-25\"\n",
       " \"pseudomonas-phylogeny-AA\""
      ]
     },
     "execution_count": 1,
     "metadata": {},
     "output_type": "execute_result"
    }
   ],
   "source": [
    "DATE_TASK = \"2022-02-25-pseudomonas-phylogeny-AA\"\n",
    "DIR = mkpath(\"$(homedir())/workspace/$DATE_TASK\")\n",
    "cd(DIR)\n",
    "DATE, TASK = match(r\"^(\\d{4}-\\d{2}-\\d{2})-(.*)$\", DATE_TASK).captures"
   ]
  },
  {
   "cell_type": "code",
   "execution_count": 2,
   "metadata": {},
   "outputs": [
    {
     "name": "stderr",
     "output_type": "stream",
     "text": [
      "\u001b[32m\u001b[1m    Updating\u001b[22m\u001b[39m registry at `~/.julia/registries/General`\n",
      "\u001b[32m\u001b[1m    Updating\u001b[22m\u001b[39m git-repo `https://github.com/cjprybol/Mycelia.git#master`\n",
      "\u001b[32m\u001b[1m    Updating\u001b[22m\u001b[39m `~/git/Mycelia/docs/Project.toml`\n",
      " \u001b[90m [453d265d] \u001b[39m\u001b[93m~ Mycelia v0.1.0 `https://github.com/cjprybol/Mycelia.git#master#master` ⇒ v0.1.0 `https://github.com/cjprybol/Mycelia.git#master#master`\u001b[39m\n",
      "\u001b[32m\u001b[1m    Updating\u001b[22m\u001b[39m `~/git/Mycelia/docs/Manifest.toml`\n",
      " \u001b[90m [453d265d] \u001b[39m\u001b[93m~ Mycelia v0.1.0 `https://github.com/cjprybol/Mycelia.git#master#master` ⇒ v0.1.0 `https://github.com/cjprybol/Mycelia.git#master#master`\u001b[39m\n",
      "\u001b[32m\u001b[1mPrecompiling\u001b[22m\u001b[39m project...\n",
      "\u001b[32m  ✓ \u001b[39mMycelia\n",
      "  1 dependency successfully precompiled in 32 seconds (260 already precompiled)\n",
      "\u001b[32m\u001b[1m    Updating\u001b[22m\u001b[39m git-repo `https://github.com/cjprybol/Mycelia.git#master`\n",
      "\u001b[32m\u001b[1m   Resolving\u001b[22m\u001b[39m package versions...\n",
      "\u001b[32m\u001b[1m  No Changes\u001b[22m\u001b[39m to `~/git/Mycelia/docs/Project.toml`\n",
      "\u001b[32m\u001b[1m  No Changes\u001b[22m\u001b[39m to `~/git/Mycelia/docs/Manifest.toml`\n"
     ]
    }
   ],
   "source": [
    "import Pkg\n",
    "Pkg.update()\n",
    "pkgs = [\n",
    "\"JSON\",\n",
    "\"HTTP\",\n",
    "\"Dates\",\n",
    "\"uCSV\",\n",
    "\"DelimitedFiles\",\n",
    "\"DataFrames\",\n",
    "\"ProgressMeter\",\n",
    "\"BioSequences\",\n",
    "\"FASTX\",\n",
    "\"Distances\",\n",
    "\"Plots\",\n",
    "\"StatsPlots\",\n",
    "\"StatsBase\",\n",
    "\"Statistics\",\n",
    "\"Mmap\",\n",
    "\"MultivariateStats\",\n",
    "\"PyCall\",\n",
    "\"Random\",\n",
    "\"Primes\",\n",
    "\"SparseArrays\",\n",
    "\"SHA\",\n",
    "\"https://github.com/cjprybol/Mycelia.git#master\",\n",
    "\"GenomicAnnotations\",\n",
    "\"BioFetch\",\n",
    "\"Combinatorics\",\n",
    "\"StaticArrays\",\n",
    "\"BioSymbols\",\n",
    "\"RollingFunctions\",\n",
    "\"OrderedCollections\",\n",
    "\"Downloads\",\n",
    "\"Clustering\"\n",
    "]\n",
    "\n",
    "for pkg in pkgs\n",
    "    try\n",
    "        eval(Meta.parse(\"import $pkg\"))\n",
    "    catch\n",
    "        try\n",
    "            Pkg.add(pkg)\n",
    "        catch\n",
    "            Pkg.add(url=pkg)\n",
    "            pkg = replace(basename(pkg), \".git#master\" => \"\")\n",
    "        end\n",
    "        eval(Meta.parse(\"import $pkg\"))\n",
    "    end\n",
    "end"
   ]
  },
  {
   "cell_type": "code",
   "execution_count": 3,
   "metadata": {},
   "outputs": [
    {
     "data": {
      "text/plain": [
       "287"
      ]
     },
     "execution_count": 3,
     "metadata": {},
     "output_type": "execute_result"
    }
   ],
   "source": [
    "# https://www.ncbi.nlm.nih.gov/Taxonomy/Browser/wwwtax.cgi?&id=$(tax_id)\n",
    "root_tax_id = 287"
   ]
  },
  {
   "cell_type": "code",
   "execution_count": 4,
   "metadata": {},
   "outputs": [
    {
     "name": "stdout",
     "output_type": "stream",
     "text": [
      "MATCH (n)<-[*]-(n2) WHERE n.tax_id IS NOT NULL AND n.tax_id = \"287\" RETURN DISTINCT n2.tax_id AS tax_id\n"
     ]
    },
    {
     "data": {
      "text/plain": [
       "383-element Vector{Int64}:\n",
       " 1089456\n",
       " 1084724\n",
       " 1081927\n",
       " 1078464\n",
       " 1051005\n",
       " 1051003\n",
       " 1051004\n",
       " 1009714\n",
       " 1000561\n",
       "  990330\n",
       "  990327\n",
       "  990321\n",
       "  990333\n",
       "       ⋮\n",
       " 1454223\n",
       " 1454221\n",
       " 1454219\n",
       " 1454222\n",
       " 1454220\n",
       " 1454218\n",
       " 1454216\n",
       " 1454217\n",
       " 1457392\n",
       " 1457194\n",
       " 1093787\n",
       "     287"
      ]
     },
     "execution_count": 4,
     "metadata": {},
     "output_type": "execute_result"
    }
   ],
   "source": [
    "child_tax_ids = vcat(Mycelia.taxonomic_id_to_children(root_tax_id), root_tax_id)\n",
    "# child_tax_ids = vcat(child_tax_ids, root_tax_id)"
   ]
  },
  {
   "cell_type": "code",
   "execution_count": 5,
   "metadata": {},
   "outputs": [
    {
     "data": {
      "text/html": [
       "<div class=\"data-frame\"><p>252,929 rows × 23 columns (omitted printing of 18 columns)</p><table class=\"data-frame\"><thead><tr><th></th><th># assembly_accession</th><th>bioproject</th><th>biosample</th><th>wgs_master</th><th>refseq_category</th></tr><tr><th></th><th title=\"String\">String</th><th title=\"String\">String</th><th title=\"String\">String</th><th title=\"String\">String</th><th title=\"String\">String</th></tr></thead><tbody><tr><th>1</th><td>GCF_000001215.4</td><td>PRJNA164</td><td>SAMN02803731</td><td></td><td>reference genome</td></tr><tr><th>2</th><td>GCF_000001405.39</td><td>PRJNA168</td><td></td><td></td><td>reference genome</td></tr><tr><th>3</th><td>GCF_000001635.27</td><td>PRJNA169</td><td></td><td></td><td>reference genome</td></tr><tr><th>4</th><td>GCF_000001735.4</td><td>PRJNA116</td><td>SAMN03081427</td><td></td><td>reference genome</td></tr><tr><th>5</th><td>GCF_000001905.1</td><td>PRJNA70973</td><td>SAMN02953622</td><td>AAGU00000000.3</td><td>representative genome</td></tr><tr><th>6</th><td>GCF_000001985.1</td><td>PRJNA32665</td><td>SAMN02953685</td><td>ABAR00000000.1</td><td>representative genome</td></tr><tr><th>7</th><td>GCF_000002035.6</td><td>PRJNA13922</td><td>SAMN06930106</td><td></td><td>reference genome</td></tr><tr><th>8</th><td>GCF_000002075.1</td><td>PRJNA209509</td><td>SAMN02953658</td><td>AASC00000000.3</td><td>representative genome</td></tr><tr><th>9</th><td>GCF_000002235.5</td><td>PRJNA13728</td><td>SAMN00829422</td><td>AAGJ00000000.6</td><td>representative genome</td></tr><tr><th>10</th><td>GCF_000002285.5</td><td>PRJNA12384</td><td>SAMN02953603</td><td>AAEX00000000.4</td><td>na</td></tr><tr><th>11</th><td>GCF_000002295.2</td><td>PRJNA15683</td><td>SAMN02953611</td><td>AAFR00000000.3</td><td>representative genome</td></tr><tr><th>12</th><td>GCF_000002335.3</td><td>PRJNA15718</td><td>SAMN02953634</td><td>AAJJ00000000.2</td><td>representative genome</td></tr><tr><th>13</th><td>GCF_000002415.2</td><td>PRJNA20431</td><td>SAMN02953638</td><td>AAKM00000000.1</td><td>representative genome</td></tr><tr><th>14</th><td>GCF_000002425.4</td><td>PRJNA28131</td><td>SAMN00120126</td><td>ABEU00000000.2</td><td>representative genome</td></tr><tr><th>15</th><td>GCF_000002435.2</td><td>PRJNA15590</td><td>SAMN02952905</td><td>AACB00000000.3</td><td>representative genome</td></tr><tr><th>16</th><td>GCF_000002445.2</td><td>PRJNA15565</td><td>SAMN02953625</td><td></td><td>representative genome</td></tr><tr><th>17</th><td>GCF_000002455.1</td><td>PRJNA27939</td><td></td><td></td><td>na</td></tr><tr><th>18</th><td>GCF_000002495.2</td><td>PRJNA1433</td><td>SAMN02953596</td><td>AACU00000000.3</td><td>representative genome</td></tr><tr><th>19</th><td>GCF_000002515.2</td><td>PRJNA12377</td><td>SAMEA3138170</td><td></td><td>representative genome</td></tr><tr><th>20</th><td>GCF_000002525.2</td><td>PRJNA12414</td><td>SAMEA3138171</td><td></td><td>representative genome</td></tr><tr><th>21</th><td>GCF_000002545.3</td><td>PRJNA12376</td><td>SAMEA3138172</td><td></td><td>representative genome</td></tr><tr><th>22</th><td>GCF_000002595.2</td><td>PRJNA21061</td><td>SAMN02953692</td><td>ABCN00000000.2</td><td>representative genome</td></tr><tr><th>23</th><td>GCF_000002655.1</td><td>PRJNA14003</td><td>SAMN00115746</td><td>AAHF00000000.1</td><td>representative genome</td></tr><tr><th>24</th><td>GCF_000002715.2</td><td>PRJNA18467</td><td>SAMN02953636</td><td>AAKD00000000.3</td><td>representative genome</td></tr><tr><th>25</th><td>GCF_000002725.2</td><td>PRJNA15564</td><td>SAMEA3138173</td><td></td><td>representative genome</td></tr><tr><th>26</th><td>GCF_000002765.5</td><td>PRJNA148</td><td>SAMN00102897</td><td></td><td>representative genome</td></tr><tr><th>27</th><td>GCF_000002775.4</td><td>PRJNA17973</td><td>SAMN02953657</td><td>AARH00000000.3</td><td>representative genome</td></tr><tr><th>28</th><td>GCF_000002825.2</td><td>PRJNA18631</td><td>SAMN02953626</td><td>AAHC00000000.1</td><td>representative genome</td></tr><tr><th>29</th><td>GCF_000002845.2</td><td>PRJNA19185</td><td>SAMEA2272271</td><td>CADA00000000.1</td><td>representative genome</td></tr><tr><th>30</th><td>GCF_000002855.3</td><td>PRJNA19263</td><td>SAMEA3283178</td><td></td><td>representative genome</td></tr><tr><th>&vellip;</th><td>&vellip;</td><td>&vellip;</td><td>&vellip;</td><td>&vellip;</td><td>&vellip;</td></tr></tbody></table></div>"
      ],
      "text/latex": [
       "\\begin{tabular}{r|cccccc}\n",
       "\t& \\# assembly\\_accession & bioproject & biosample & wgs\\_master & refseq\\_category & \\\\\n",
       "\t\\hline\n",
       "\t& String & String & String & String & String & \\\\\n",
       "\t\\hline\n",
       "\t1 & GCF\\_000001215.4 & PRJNA164 & SAMN02803731 &  & reference genome & $\\dots$ \\\\\n",
       "\t2 & GCF\\_000001405.39 & PRJNA168 &  &  & reference genome & $\\dots$ \\\\\n",
       "\t3 & GCF\\_000001635.27 & PRJNA169 &  &  & reference genome & $\\dots$ \\\\\n",
       "\t4 & GCF\\_000001735.4 & PRJNA116 & SAMN03081427 &  & reference genome & $\\dots$ \\\\\n",
       "\t5 & GCF\\_000001905.1 & PRJNA70973 & SAMN02953622 & AAGU00000000.3 & representative genome & $\\dots$ \\\\\n",
       "\t6 & GCF\\_000001985.1 & PRJNA32665 & SAMN02953685 & ABAR00000000.1 & representative genome & $\\dots$ \\\\\n",
       "\t7 & GCF\\_000002035.6 & PRJNA13922 & SAMN06930106 &  & reference genome & $\\dots$ \\\\\n",
       "\t8 & GCF\\_000002075.1 & PRJNA209509 & SAMN02953658 & AASC00000000.3 & representative genome & $\\dots$ \\\\\n",
       "\t9 & GCF\\_000002235.5 & PRJNA13728 & SAMN00829422 & AAGJ00000000.6 & representative genome & $\\dots$ \\\\\n",
       "\t10 & GCF\\_000002285.5 & PRJNA12384 & SAMN02953603 & AAEX00000000.4 & na & $\\dots$ \\\\\n",
       "\t11 & GCF\\_000002295.2 & PRJNA15683 & SAMN02953611 & AAFR00000000.3 & representative genome & $\\dots$ \\\\\n",
       "\t12 & GCF\\_000002335.3 & PRJNA15718 & SAMN02953634 & AAJJ00000000.2 & representative genome & $\\dots$ \\\\\n",
       "\t13 & GCF\\_000002415.2 & PRJNA20431 & SAMN02953638 & AAKM00000000.1 & representative genome & $\\dots$ \\\\\n",
       "\t14 & GCF\\_000002425.4 & PRJNA28131 & SAMN00120126 & ABEU00000000.2 & representative genome & $\\dots$ \\\\\n",
       "\t15 & GCF\\_000002435.2 & PRJNA15590 & SAMN02952905 & AACB00000000.3 & representative genome & $\\dots$ \\\\\n",
       "\t16 & GCF\\_000002445.2 & PRJNA15565 & SAMN02953625 &  & representative genome & $\\dots$ \\\\\n",
       "\t17 & GCF\\_000002455.1 & PRJNA27939 &  &  & na & $\\dots$ \\\\\n",
       "\t18 & GCF\\_000002495.2 & PRJNA1433 & SAMN02953596 & AACU00000000.3 & representative genome & $\\dots$ \\\\\n",
       "\t19 & GCF\\_000002515.2 & PRJNA12377 & SAMEA3138170 &  & representative genome & $\\dots$ \\\\\n",
       "\t20 & GCF\\_000002525.2 & PRJNA12414 & SAMEA3138171 &  & representative genome & $\\dots$ \\\\\n",
       "\t21 & GCF\\_000002545.3 & PRJNA12376 & SAMEA3138172 &  & representative genome & $\\dots$ \\\\\n",
       "\t22 & GCF\\_000002595.2 & PRJNA21061 & SAMN02953692 & ABCN00000000.2 & representative genome & $\\dots$ \\\\\n",
       "\t23 & GCF\\_000002655.1 & PRJNA14003 & SAMN00115746 & AAHF00000000.1 & representative genome & $\\dots$ \\\\\n",
       "\t24 & GCF\\_000002715.2 & PRJNA18467 & SAMN02953636 & AAKD00000000.3 & representative genome & $\\dots$ \\\\\n",
       "\t25 & GCF\\_000002725.2 & PRJNA15564 & SAMEA3138173 &  & representative genome & $\\dots$ \\\\\n",
       "\t26 & GCF\\_000002765.5 & PRJNA148 & SAMN00102897 &  & representative genome & $\\dots$ \\\\\n",
       "\t27 & GCF\\_000002775.4 & PRJNA17973 & SAMN02953657 & AARH00000000.3 & representative genome & $\\dots$ \\\\\n",
       "\t28 & GCF\\_000002825.2 & PRJNA18631 & SAMN02953626 & AAHC00000000.1 & representative genome & $\\dots$ \\\\\n",
       "\t29 & GCF\\_000002845.2 & PRJNA19185 & SAMEA2272271 & CADA00000000.1 & representative genome & $\\dots$ \\\\\n",
       "\t30 & GCF\\_000002855.3 & PRJNA19263 & SAMEA3283178 &  & representative genome & $\\dots$ \\\\\n",
       "\t$\\dots$ & $\\dots$ & $\\dots$ & $\\dots$ & $\\dots$ & $\\dots$ &  \\\\\n",
       "\\end{tabular}\n"
      ],
      "text/plain": [
       "\u001b[1m252929×23 DataFrame\u001b[0m\n",
       "\u001b[1m    Row \u001b[0m│\u001b[1m # assembly_accession \u001b[0m\u001b[1m bioproject  \u001b[0m\u001b[1m biosample    \u001b[0m\u001b[1m wgs_master        \u001b[0m\u001b[1m \u001b[0m ⋯\n",
       "\u001b[1m        \u001b[0m│\u001b[90m String               \u001b[0m\u001b[90m String      \u001b[0m\u001b[90m String       \u001b[0m\u001b[90m String            \u001b[0m\u001b[90m \u001b[0m ⋯\n",
       "────────┼───────────────────────────────────────────────────────────────────────\n",
       "      1 │ GCF_000001215.4       PRJNA164     SAMN02803731                      ⋯\n",
       "      2 │ GCF_000001405.39      PRJNA168\n",
       "      3 │ GCF_000001635.27      PRJNA169\n",
       "      4 │ GCF_000001735.4       PRJNA116     SAMN03081427\n",
       "      5 │ GCF_000001905.1       PRJNA70973   SAMN02953622  AAGU00000000.3      ⋯\n",
       "      6 │ GCF_000001985.1       PRJNA32665   SAMN02953685  ABAR00000000.1\n",
       "      7 │ GCF_000002035.6       PRJNA13922   SAMN06930106\n",
       "      8 │ GCF_000002075.1       PRJNA209509  SAMN02953658  AASC00000000.3\n",
       "      9 │ GCF_000002235.5       PRJNA13728   SAMN00829422  AAGJ00000000.6      ⋯\n",
       "     10 │ GCF_000002285.5       PRJNA12384   SAMN02953603  AAEX00000000.4\n",
       "     11 │ GCF_000002295.2       PRJNA15683   SAMN02953611  AAFR00000000.3\n",
       "   ⋮    │          ⋮                 ⋮            ⋮                ⋮           ⋱\n",
       " 252920 │ GCF_929618855.1       PRJNA224116  SAMEA6451164  CAKNEG000000000.1\n",
       " 252921 │ GCF_929618865.1       PRJNA224116  SAMEA5226483  CAKNEI000000000.1   ⋯\n",
       " 252922 │ GCF_929618875.1       PRJNA224116  SAMEA6451150  CAKNEK000000000.1\n",
       " 252923 │ GCF_929618885.1       PRJNA224116  SAMEA6451165  CAKNEH000000000.1\n",
       " 252924 │ GCF_929618905.1       PRJNA224116  SAMEA5226452  CAKNEJ000000000.1\n",
       " 252925 │ GCF_929618915.1       PRJNA224116  SAMEA6451101  CAKNEL000000000.1   ⋯\n",
       " 252926 │ GCF_929618925.1       PRJNA224116  SAMEA5226480  CAKNEO000000000.1\n",
       " 252927 │ GCF_929618965.1       PRJNA224116  SAMEA6451157  CAKNEM000000000.1\n",
       " 252928 │ GCF_929619005.1       PRJNA224116  SAMEA6451155  CAKNEP000000000.1\n",
       " 252929 │ GCF_929620255.1       PRJNA224116  SAMEA5226458  CAKNEQ000000000.1   ⋯\n",
       "\u001b[36m                                              19 columns and 252908 rows omitted\u001b[0m"
      ]
     },
     "execution_count": 5,
     "metadata": {},
     "output_type": "execute_result"
    }
   ],
   "source": [
    "refseq_metadata = Mycelia.load_refseq_metadata()"
   ]
  },
  {
   "cell_type": "code",
   "execution_count": 6,
   "metadata": {},
   "outputs": [
    {
     "name": "stdout",
     "output_type": "stream",
     "text": [
      "\u001b[1m1×23 DataFrame\u001b[0m\n",
      "\u001b[1m Row \u001b[0m│\u001b[1m # assembly_accession \u001b[0m\u001b[1m bioproject \u001b[0m\u001b[1m biosample    \u001b[0m\u001b[1m wgs_master \u001b[0m\u001b[1m refseq_category  \u001b[0m\u001b[1m taxid \u001b[0m\u001b[1m species_taxid \u001b[0m\u001b[1m organism_name           \u001b[0m\u001b[1m infraspecific_name \u001b[0m\u001b[1m isolate \u001b[0m\u001b[1m version_status \u001b[0m\u001b[1m assembly_level \u001b[0m\u001b[1m release_type \u001b[0m\u001b[1m genome_rep \u001b[0m\u001b[1m seq_rel_date \u001b[0m\u001b[1m asm_name               \u001b[0m\u001b[1m submitter                         \u001b[0m\u001b[1m gbrs_paired_asm \u001b[0m\u001b[1m paired_asm_comp \u001b[0m\u001b[1m ftp_path                          \u001b[0m\u001b[1m excluded_from_refseq \u001b[0m\u001b[1m relation_to_type_material \u001b[0m\u001b[1m asm_not_live_date \u001b[0m\n",
      "\u001b[1m     \u001b[0m│\u001b[90m String               \u001b[0m\u001b[90m String     \u001b[0m\u001b[90m String       \u001b[0m\u001b[90m String     \u001b[0m\u001b[90m String           \u001b[0m\u001b[90m Int64 \u001b[0m\u001b[90m Int64         \u001b[0m\u001b[90m String                  \u001b[0m\u001b[90m String             \u001b[0m\u001b[90m String  \u001b[0m\u001b[90m String         \u001b[0m\u001b[90m String         \u001b[0m\u001b[90m String       \u001b[0m\u001b[90m String     \u001b[0m\u001b[90m String       \u001b[0m\u001b[90m String                 \u001b[0m\u001b[90m String                            \u001b[0m\u001b[90m String          \u001b[0m\u001b[90m String          \u001b[0m\u001b[90m String                            \u001b[0m\u001b[90m String               \u001b[0m\u001b[90m String                    \u001b[0m\u001b[90m String            \u001b[0m\n",
      "─────┼──────────────────────────────────────────────────────────────────────────────────────────────────────────────────────────────────────────────────────────────────────────────────────────────────────────────────────────────────────────────────────────────────────────────────────────────────────────────────────────────────────────────────────────────────────────────────────────────────────────────────────────────────────\n",
      "   1 │ GCF_000001215.4       PRJNA164    SAMN02803731              reference genome   7227           7227  Drosophila melanogaster                               latest          Chromosome      Major         Full        2014/08/01    Release 6 plus ISO1 MT  The FlyBase Consortium/Berkeley …  GCA_000001215.4  identical        https://ftp.ncbi.nlm.nih.gov/gen…                                                   na"
     ]
    }
   ],
   "source": [
    "show(refseq_metadata[1:1, :], allcols=true)"
   ]
  },
  {
   "cell_type": "code",
   "execution_count": 7,
   "metadata": {},
   "outputs": [
    {
     "data": {
      "text/plain": [
       "389"
      ]
     },
     "execution_count": 7,
     "metadata": {},
     "output_type": "execute_result"
    }
   ],
   "source": [
    "is_full = refseq_metadata[!, \"genome_rep\"] .== \"Full\"\n",
    "not_excluded = refseq_metadata[!, \"excluded_from_refseq\"] .== \"\"\n",
    "assembly_levels = [\"Complete Genome\"]\n",
    "# assembly_levels = [\"Complete Genome\", \"Chromosome\"]\n",
    "# assembly_levels = [\"Complete Genome\", \"Chromosome\", \"Scaffold\"]\n",
    "# assembly_levels = [\"Complete Genome\", \"Chromosome\", \"Scaffold\", \"Contig\"]\n",
    "assembly_level_filter = map(x -> x in assembly_levels, refseq_metadata[!, \"assembly_level\"])\n",
    "tax_id_filter = map(taxid -> taxid in child_tax_ids, refseq_metadata[!, \"taxid\"])\n",
    "full_filter = is_full .& not_excluded .& assembly_level_filter .& tax_id_filter\n",
    "count(full_filter)"
   ]
  },
  {
   "cell_type": "code",
   "execution_count": 8,
   "metadata": {},
   "outputs": [
    {
     "data": {
      "text/html": [
       "<div class=\"data-frame\"><p>389 rows × 23 columns (omitted printing of 17 columns)</p><table class=\"data-frame\"><thead><tr><th></th><th># assembly_accession</th><th>bioproject</th><th>biosample</th><th>wgs_master</th><th>refseq_category</th><th>taxid</th></tr><tr><th></th><th title=\"String\">String</th><th title=\"String\">String</th><th title=\"String\">String</th><th title=\"String\">String</th><th title=\"String\">String</th><th title=\"Int64\">Int64</th></tr></thead><tbody><tr><th>1</th><td>GCF_000006765.1</td><td>PRJNA57945</td><td>SAMN02603714</td><td></td><td>reference genome</td><td>208964</td></tr><tr><th>2</th><td>GCF_000014625.1</td><td>PRJNA224116</td><td>SAMN02603591</td><td></td><td>na</td><td>208963</td></tr><tr><th>3</th><td>GCF_000017205.1</td><td>PRJNA224116</td><td>SAMN02603435</td><td></td><td>na</td><td>381754</td></tr><tr><th>4</th><td>GCF_000026645.1</td><td>PRJNA224116</td><td>SAMEA1705916</td><td></td><td>na</td><td>557722</td></tr><tr><th>5</th><td>GCF_000226155.1</td><td>PRJNA224116</td><td>SAMN02603849</td><td></td><td>na</td><td>941193</td></tr><tr><th>6</th><td>GCF_000271365.1</td><td>PRJNA224116</td><td>SAMN02603895</td><td></td><td>na</td><td>1093787</td></tr><tr><th>7</th><td>GCF_000271985.2</td><td>PRJNA224116</td><td>SAMN02470939</td><td></td><td>na</td><td>1193501</td></tr><tr><th>8</th><td>GCF_000284555.1</td><td>PRJNA224116</td><td>SAMD00061003</td><td></td><td>na</td><td>1089456</td></tr><tr><th>9</th><td>GCF_000359505.1</td><td>PRJNA224116</td><td>SAMN02603669</td><td></td><td>na</td><td>1280938</td></tr><tr><th>10</th><td>GCF_000414035.1</td><td>PRJNA224116</td><td>SAMN02603771</td><td></td><td>na</td><td>1340851</td></tr><tr><th>11</th><td>GCF_000473745.2</td><td>PRJNA224116</td><td>SAMN02472098</td><td></td><td>na</td><td>1400868</td></tr><tr><th>12</th><td>GCF_000496455.2</td><td>PRJNA224116</td><td>SAMN02383553</td><td></td><td>na</td><td>1411700</td></tr><tr><th>13</th><td>GCF_000496605.2</td><td>PRJNA224116</td><td>SAMN02603191</td><td></td><td>na</td><td>1279007</td></tr><tr><th>14</th><td>GCF_000496645.1</td><td>PRJNA224116</td><td>SAMN02603192</td><td></td><td>na</td><td>1279008</td></tr><tr><th>15</th><td>GCF_000504045.1</td><td>PRJNA224116</td><td>SAMN02389526</td><td></td><td>na</td><td>1415629</td></tr><tr><th>16</th><td>GCF_000508765.1</td><td>PRJNA224116</td><td>SAMN02641592</td><td></td><td>na</td><td>1408272</td></tr><tr><th>17</th><td>GCF_000510305.1</td><td>PRJNA224116</td><td>SAMN02415141</td><td></td><td>na</td><td>1427342</td></tr><tr><th>18</th><td>GCF_000524595.1</td><td>PRJNA224116</td><td>SAMN02641599</td><td></td><td>na</td><td>1448140</td></tr><tr><th>19</th><td>GCF_000568855.2</td><td>PRJNA224116</td><td>SAMN02483603</td><td></td><td>na</td><td>1009714</td></tr><tr><th>20</th><td>GCF_000763245.3</td><td>PRJNA224116</td><td>SAMN02947975</td><td></td><td>na</td><td>287</td></tr><tr><th>21</th><td>GCF_000816985.1</td><td>PRJNA224116</td><td>SAMN02673269</td><td></td><td>na</td><td>287</td></tr><tr><th>22</th><td>GCF_000829255.1</td><td>PRJNA224116</td><td>SAMD00019082</td><td></td><td>na</td><td>287</td></tr><tr><th>23</th><td>GCF_000829275.1</td><td>PRJNA224116</td><td>SAMD00018700</td><td></td><td>na</td><td>287</td></tr><tr><th>24</th><td>GCF_000829885.1</td><td>PRJNA224116</td><td>SAMN02732380</td><td></td><td>na</td><td>287</td></tr><tr><th>25</th><td>GCF_000981825.1</td><td>PRJNA224116</td><td>SAMN03389320</td><td></td><td>na</td><td>287</td></tr><tr><th>26</th><td>GCF_001045685.1</td><td>PRJNA224116</td><td>SAMN03761153</td><td></td><td>na</td><td>1123015</td></tr><tr><th>27</th><td>GCF_001077475.1</td><td>PRJNA224116</td><td>SAMN03852256</td><td></td><td>na</td><td>287</td></tr><tr><th>28</th><td>GCF_001293085.1</td><td>PRJNA224116</td><td>SAMN04074798</td><td></td><td>na</td><td>287</td></tr><tr><th>29</th><td>GCF_001447845.1</td><td>PRJNA224116</td><td>SAMN04284690</td><td></td><td>na</td><td>287</td></tr><tr><th>30</th><td>GCF_001457615.1</td><td>PRJNA224116</td><td>SAMEA2479570</td><td></td><td>na</td><td>287</td></tr><tr><th>&vellip;</th><td>&vellip;</td><td>&vellip;</td><td>&vellip;</td><td>&vellip;</td><td>&vellip;</td><td>&vellip;</td></tr></tbody></table></div>"
      ],
      "text/latex": [
       "\\begin{tabular}{r|ccccccc}\n",
       "\t& \\# assembly\\_accession & bioproject & biosample & wgs\\_master & refseq\\_category & taxid & \\\\\n",
       "\t\\hline\n",
       "\t& String & String & String & String & String & Int64 & \\\\\n",
       "\t\\hline\n",
       "\t1 & GCF\\_000006765.1 & PRJNA57945 & SAMN02603714 &  & reference genome & 208964 & $\\dots$ \\\\\n",
       "\t2 & GCF\\_000014625.1 & PRJNA224116 & SAMN02603591 &  & na & 208963 & $\\dots$ \\\\\n",
       "\t3 & GCF\\_000017205.1 & PRJNA224116 & SAMN02603435 &  & na & 381754 & $\\dots$ \\\\\n",
       "\t4 & GCF\\_000026645.1 & PRJNA224116 & SAMEA1705916 &  & na & 557722 & $\\dots$ \\\\\n",
       "\t5 & GCF\\_000226155.1 & PRJNA224116 & SAMN02603849 &  & na & 941193 & $\\dots$ \\\\\n",
       "\t6 & GCF\\_000271365.1 & PRJNA224116 & SAMN02603895 &  & na & 1093787 & $\\dots$ \\\\\n",
       "\t7 & GCF\\_000271985.2 & PRJNA224116 & SAMN02470939 &  & na & 1193501 & $\\dots$ \\\\\n",
       "\t8 & GCF\\_000284555.1 & PRJNA224116 & SAMD00061003 &  & na & 1089456 & $\\dots$ \\\\\n",
       "\t9 & GCF\\_000359505.1 & PRJNA224116 & SAMN02603669 &  & na & 1280938 & $\\dots$ \\\\\n",
       "\t10 & GCF\\_000414035.1 & PRJNA224116 & SAMN02603771 &  & na & 1340851 & $\\dots$ \\\\\n",
       "\t11 & GCF\\_000473745.2 & PRJNA224116 & SAMN02472098 &  & na & 1400868 & $\\dots$ \\\\\n",
       "\t12 & GCF\\_000496455.2 & PRJNA224116 & SAMN02383553 &  & na & 1411700 & $\\dots$ \\\\\n",
       "\t13 & GCF\\_000496605.2 & PRJNA224116 & SAMN02603191 &  & na & 1279007 & $\\dots$ \\\\\n",
       "\t14 & GCF\\_000496645.1 & PRJNA224116 & SAMN02603192 &  & na & 1279008 & $\\dots$ \\\\\n",
       "\t15 & GCF\\_000504045.1 & PRJNA224116 & SAMN02389526 &  & na & 1415629 & $\\dots$ \\\\\n",
       "\t16 & GCF\\_000508765.1 & PRJNA224116 & SAMN02641592 &  & na & 1408272 & $\\dots$ \\\\\n",
       "\t17 & GCF\\_000510305.1 & PRJNA224116 & SAMN02415141 &  & na & 1427342 & $\\dots$ \\\\\n",
       "\t18 & GCF\\_000524595.1 & PRJNA224116 & SAMN02641599 &  & na & 1448140 & $\\dots$ \\\\\n",
       "\t19 & GCF\\_000568855.2 & PRJNA224116 & SAMN02483603 &  & na & 1009714 & $\\dots$ \\\\\n",
       "\t20 & GCF\\_000763245.3 & PRJNA224116 & SAMN02947975 &  & na & 287 & $\\dots$ \\\\\n",
       "\t21 & GCF\\_000816985.1 & PRJNA224116 & SAMN02673269 &  & na & 287 & $\\dots$ \\\\\n",
       "\t22 & GCF\\_000829255.1 & PRJNA224116 & SAMD00019082 &  & na & 287 & $\\dots$ \\\\\n",
       "\t23 & GCF\\_000829275.1 & PRJNA224116 & SAMD00018700 &  & na & 287 & $\\dots$ \\\\\n",
       "\t24 & GCF\\_000829885.1 & PRJNA224116 & SAMN02732380 &  & na & 287 & $\\dots$ \\\\\n",
       "\t25 & GCF\\_000981825.1 & PRJNA224116 & SAMN03389320 &  & na & 287 & $\\dots$ \\\\\n",
       "\t26 & GCF\\_001045685.1 & PRJNA224116 & SAMN03761153 &  & na & 1123015 & $\\dots$ \\\\\n",
       "\t27 & GCF\\_001077475.1 & PRJNA224116 & SAMN03852256 &  & na & 287 & $\\dots$ \\\\\n",
       "\t28 & GCF\\_001293085.1 & PRJNA224116 & SAMN04074798 &  & na & 287 & $\\dots$ \\\\\n",
       "\t29 & GCF\\_001447845.1 & PRJNA224116 & SAMN04284690 &  & na & 287 & $\\dots$ \\\\\n",
       "\t30 & GCF\\_001457615.1 & PRJNA224116 & SAMEA2479570 &  & na & 287 & $\\dots$ \\\\\n",
       "\t$\\dots$ & $\\dots$ & $\\dots$ & $\\dots$ & $\\dots$ & $\\dots$ & $\\dots$ &  \\\\\n",
       "\\end{tabular}\n"
      ],
      "text/plain": [
       "\u001b[1m389×23 DataFrame\u001b[0m\n",
       "\u001b[1m Row \u001b[0m│\u001b[1m # assembly_accession \u001b[0m\u001b[1m bioproject  \u001b[0m\u001b[1m biosample    \u001b[0m\u001b[1m wgs_master \u001b[0m\u001b[1m refseq_cat\u001b[0m ⋯\n",
       "\u001b[1m     \u001b[0m│\u001b[90m String               \u001b[0m\u001b[90m String      \u001b[0m\u001b[90m String       \u001b[0m\u001b[90m String     \u001b[0m\u001b[90m String    \u001b[0m ⋯\n",
       "─────┼──────────────────────────────────────────────────────────────────────────\n",
       "   1 │ GCF_000006765.1       PRJNA57945   SAMN02603714              reference  ⋯\n",
       "   2 │ GCF_000014625.1       PRJNA224116  SAMN02603591              na\n",
       "   3 │ GCF_000017205.1       PRJNA224116  SAMN02603435              na\n",
       "   4 │ GCF_000026645.1       PRJNA224116  SAMEA1705916              na\n",
       "   5 │ GCF_000226155.1       PRJNA224116  SAMN02603849              na         ⋯\n",
       "   6 │ GCF_000271365.1       PRJNA224116  SAMN02603895              na\n",
       "   7 │ GCF_000271985.2       PRJNA224116  SAMN02470939              na\n",
       "   8 │ GCF_000284555.1       PRJNA224116  SAMD00061003              na\n",
       "   9 │ GCF_000359505.1       PRJNA224116  SAMN02603669              na         ⋯\n",
       "  10 │ GCF_000414035.1       PRJNA224116  SAMN02603771              na\n",
       "  11 │ GCF_000473745.2       PRJNA224116  SAMN02472098              na\n",
       "  ⋮  │          ⋮                 ⋮            ⋮            ⋮              ⋮   ⋱\n",
       " 380 │ GCF_900636735.1       PRJNA224116  SAMEA3856675              na\n",
       " 381 │ GCF_900636755.1       PRJNA224116  SAMEA3856677              na         ⋯\n",
       " 382 │ GCF_900636975.1       PRJNA224116  SAMEA3923580              na\n",
       " 383 │ GCF_900637045.1       PRJNA224116  SAMEA4007823              na\n",
       " 384 │ GCF_902172305.2       PRJNA224116  SAMEA1695737              na\n",
       " 385 │ GCF_902703185.1       PRJNA224116  SAMEA6246860              na         ⋯\n",
       " 386 │ GCF_902703195.1       PRJNA224116  SAMEA6246861              na\n",
       " 387 │ GCF_902703215.1       PRJNA224116  SAMEA6246859              na\n",
       " 388 │ GCF_904866275.1       PRJNA224116  SAMEA3357502              na\n",
       " 389 │ GCF_905071885.1       PRJNA224116  SAMEA3357500              na         ⋯\n",
       "\u001b[36m                                                 19 columns and 368 rows omitted\u001b[0m"
      ]
     },
     "execution_count": 8,
     "metadata": {},
     "output_type": "execute_result"
    }
   ],
   "source": [
    "refseq_metadata_of_interest = refseq_metadata[full_filter, :]"
   ]
  },
  {
   "cell_type": "code",
   "execution_count": 9,
   "metadata": {},
   "outputs": [
    {
     "name": "stderr",
     "output_type": "stream",
     "text": [
      "\u001b[32mProgress: 100%|█████████████████████████████████████████| Time: 0:00:01\u001b[39m\n"
     ]
    }
   ],
   "source": [
    "for extension in (\"genomic.fna.gz\", \"genomic.gff.gz\", \"protein.faa.gz\")\n",
    "    outdir = mkpath(joinpath(DIR, extension))\n",
    "    ProgressMeter.@showprogress for row in DataFrames.eachrow(refseq_metadata_of_interest)\n",
    "        url = Mycelia.ncbi_ftp_path_to_url(row[\"ftp_path\"], extension)\n",
    "        outfile = joinpath(outdir, basename(url))\n",
    "        if !isfile(outfile)\n",
    "            Downloads.download(url, outfile)\n",
    "        end\n",
    "    end\n",
    "end"
   ]
  },
  {
   "cell_type": "code",
   "execution_count": 10,
   "metadata": {},
   "outputs": [
    {
     "data": {
      "text/plain": [
       "\"/home/jupyter-cameron.prybol/workspace/2022-02-25-pseudomonas-phylogeny-AA/protein.faa.gz\""
      ]
     },
     "execution_count": 10,
     "metadata": {},
     "output_type": "execute_result"
    }
   ],
   "source": [
    "extension = \"protein.faa.gz\"\n",
    "outdir = mkpath(joinpath(DIR, extension))"
   ]
  },
  {
   "cell_type": "code",
   "execution_count": 11,
   "metadata": {},
   "outputs": [
    {
     "data": {
      "text/plain": [
       "2"
      ]
     },
     "execution_count": 11,
     "metadata": {},
     "output_type": "execute_result"
    }
   ],
   "source": [
    "# these are too small, all of the within vs between have some disagreement\n",
    "dna_k = 5\n",
    "aa_k = 2\n",
    "# should use these?\n",
    "# dna_k = 7\n",
    "# aa_k = 3"
   ]
  },
  {
   "cell_type": "code",
   "execution_count": 12,
   "metadata": {},
   "outputs": [
    {
     "data": {
      "text/plain": [
       "389-element Vector{String}:\n",
       " \"/home/jupyter-cameron.prybol/workspace/2022-02-25-pseudomonas-phylogeny-AA/protein.faa.gz/GCF_000006765.1_ASM676v1_protein.faa.gz\"\n",
       " \"/home/jupyter-cameron.prybol/workspace/2022-02-25-pseudomonas-phylogeny-AA/protein.faa.gz/GCF_000014625.1_ASM1462v1_protein.faa.gz\"\n",
       " \"/home/jupyter-cameron.prybol/workspace/2022-02-25-pseudomonas-phylogeny-AA/protein.faa.gz/GCF_000017205.1_ASM1720v1_protein.faa.gz\"\n",
       " \"/home/jupyter-cameron.prybol/workspace/2022-02-25-pseudomonas-phylogeny-AA/protein.faa.gz/GCF_000026645.1_ASM2664v1_protein.faa.gz\"\n",
       " \"/home/jupyter-cameron.prybol/workspace/2022-02-25-pseudomonas-phylogeny-AA/protein.faa.gz/GCF_000226155.1_ASM22615v1_protein.faa.gz\"\n",
       " \"/home/jupyter-cameron.prybol/workspace/2022-02-25-pseudomonas-phylogeny-AA/protein.faa.gz/GCF_000271365.1_ASM27136v1_protein.faa.gz\"\n",
       " \"/home/jupyter-cameron.prybol/workspace/2022-02-25-pseudomonas-phylogeny-AA/protein.faa.gz/GCF_000271985.2_ASM27198v2_protein.faa.gz\"\n",
       " \"/home/jupyter-cameron.prybol/workspace/2022-02-25-pseudomonas-phylogeny-AA/protein.faa.gz/GCF_000284555.1_ASM28455v1_protein.faa.gz\"\n",
       " \"/home/jupyter-cameron.prybol/workspace/2022-02-25-pseudomonas-phylogeny-AA/protein.faa.gz/GCF_000359505.1_ASM35950v1_protein.faa.gz\"\n",
       " \"/home/jupyter-cameron.prybol/workspace/2022-02-25-pseudomonas-phylogeny-AA/protein.faa.gz/GCF_000414035.1_ASM41403v1_protein.faa.gz\"\n",
       " \"/home/jupyter-cameron.prybol/workspace/2022-02-25-pseudomonas-phylogeny-AA/protein.faa.gz/GCF_000473745.2_ASM47374v3_protein.faa.gz\"\n",
       " \"/home/jupyter-cameron.prybol/workspace/2022-02-25-pseudomonas-phylogeny-AA/protein.faa.gz/GCF_000496455.2_ASM49645v2_protein.faa.gz\"\n",
       " \"/home/jupyter-cameron.prybol/workspace/2022-02-25-pseudomonas-phylogeny-AA/protein.faa.gz/GCF_000496605.2_ASM49660v2_protein.faa.gz\"\n",
       " ⋮\n",
       " \"/home/jupyter-cameron.prybol/workspace/2022-02-25-pseudomonas-phylogeny-AA/protein.faa.gz/GCF_900618325.1_paerg011_protein.faa.gz\"\n",
       " \"/home/jupyter-cameron.prybol/workspace/2022-02-25-pseudomonas-phylogeny-AA/protein.faa.gz/GCF_900618335.1_paerg012_protein.faa.gz\"\n",
       " \"/home/jupyter-cameron.prybol/workspace/2022-02-25-pseudomonas-phylogeny-AA/protein.faa.gz/GCF_900636735.1_43941_C01_protein.faa.gz\"\n",
       " \"/home/jupyter-cameron.prybol/workspace/2022-02-25-pseudomonas-phylogeny-AA/protein.faa.gz/GCF_900636755.1_43941_E01_protein.faa.gz\"\n",
       " \"/home/jupyter-cameron.prybol/workspace/2022-02-25-pseudomonas-phylogeny-AA/protein.faa.gz/GCF_900636975.1_45813_F01_protein.faa.gz\"\n",
       " \"/home/jupyter-cameron.prybol/workspace/2022-02-25-pseudomonas-phylogeny-AA/protein.faa.gz/GCF_900637045.1_46837_C02_protein.faa.gz\"\n",
       " \"/home/jupyter-cameron.prybol/workspace/2022-02-25-pseudomonas-phylogeny-AA/protein.faa.gz/GCF_902172305.2_Pseudomonas_aeruginosa_PAKAF_protein.faa.gz\"\n",
       " \"/home/jupyter-cameron.prybol/workspace/2022-02-25-pseudomonas-phylogeny-AA/protein.faa.gz/GCF_902703185.1_PcyII-29_protein.faa.gz\"\n",
       " \"/home/jupyter-cameron.prybol/workspace/2022-02-25-pseudomonas-phylogeny-AA/protein.faa.gz/GCF_902703195.1_PcyII-40_protein.faa.gz\"\n",
       " \"/home/jupyter-cameron.prybol/workspace/2022-02-25-pseudomonas-phylogeny-AA/protein.faa.gz/GCF_902703215.1_C7-25_protein.faa.gz\"\n",
       " \"/home/jupyter-cameron.prybol/workspace/2022-02-25-pseudomonas-phylogeny-AA/protein.faa.gz/GCF_904866275.1_MINF_7A_protein.faa.gz\"\n",
       " \"/home/jupyter-cameron.prybol/workspace/2022-02-25-pseudomonas-phylogeny-AA/protein.faa.gz/GCF_905071885.1_MINF_3A_protein.faa.gz\""
      ]
     },
     "execution_count": 12,
     "metadata": {},
     "output_type": "execute_result"
    }
   ],
   "source": [
    "fastx_files = filter(x -> !occursin(\".ipynb_checkpoints\", x), readdir(outdir, join=true))"
   ]
  },
  {
   "cell_type": "code",
   "execution_count": 13,
   "metadata": {},
   "outputs": [
    {
     "name": "stdout",
     "output_type": "stream",
     "text": [
      "/home/jupyter-cameron.prybol/workspace/2022-02-25-pseudomonas-phylogeny-AA/protein.faa.gz.2.counts.bin found, loading into memory\n"
     ]
    },
    {
     "data": {
      "text/plain": [
       "([26353 27519 … 26006 28784; 16045 16593 … 15767 17371; … ; 0 0 … 0 0; 0 0 … 0 0], \"/home/jupyter-cameron.prybol/workspace/2022-02-25-pseudomonas-phylogeny-AA/protein.faa.gz.2.counts.bin\")"
      ]
     },
     "execution_count": 13,
     "metadata": {},
     "output_type": "execute_result"
    }
   ],
   "source": [
    "counts_table, outfile = Mycelia.fasta_list_to_counts_table(fasta_list=fastx_files, k=aa_k, alphabet=:AA, outfile=\"$(outdir).$(aa_k).counts.bin\")"
   ]
  },
  {
   "cell_type": "code",
   "execution_count": 14,
   "metadata": {},
   "outputs": [],
   "source": [
    "distance_matrix = counts_matrix_to_distance_matrix(counts_table)\n",
    "# for i1 in 1:size(counts_table, 2)\n",
    "#     for i2 in i1+1:size(counts_table, 2)\n",
    "#         a = counts_table[:, i1]\n",
    "#         b = counts_table[:, i2]\n",
    "#         sa = sum(a)\n",
    "#         sb = sum(b)\n",
    "#         size_dist = 1-(min(sa, sb)/max(sa, sb))\n",
    "#         cosine_dist = Distances.cosine_dist(a, b)\n",
    "#         distances = filter(x -> x > 0, (size_dist, cosine_dist))\n",
    "#         if isempty(distances)\n",
    "#             dist = 0.0\n",
    "#         else\n",
    "#             dist = reduce(*, distances)\n",
    "#         end\n",
    "#         distance_matrix[i1, i2] = distance_matrix[i2, i1] = dist\n",
    "#     end\n",
    "# end"
   ]
  },
  {
   "cell_type": "code",
   "execution_count": null,
   "metadata": {},
   "outputs": [],
   "source": [
    "distance_matrix"
   ]
  },
  {
   "cell_type": "code",
   "execution_count": null,
   "metadata": {},
   "outputs": [],
   "source": [
    "newick_tree_file = outfile * \".newick\"\n",
    "Mycelia.distance_matrix_to_newick(distance_matrix, basename.(fastx_files), newick_tree_file)"
   ]
  }
 ],
 "metadata": {
  "kernelspec": {
   "display_name": "Julia 1.6.5",
   "language": "julia",
   "name": "julia-1.6"
  },
  "language_info": {
   "file_extension": ".jl",
   "mimetype": "application/julia",
   "name": "julia",
   "version": "1.6.5"
  }
 },
 "nbformat": 4,
 "nbformat_minor": 4
}
