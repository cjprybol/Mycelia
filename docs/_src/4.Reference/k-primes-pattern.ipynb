{
 "cells": [
  {
   "cell_type": "markdown",
   "metadata": {},
   "source": [
    "# K primes pattern"
   ]
  },
  {
   "cell_type": "markdown",
   "metadata": {},
   "source": [
    "I was looking for a way to iterate through prime number k's.\n",
    "Odd-length kmers are desireable because they cannot be reverse complements of themselves [citeme].\n",
    "Primes are desireable because they cannot be perfect repeats.\n",
    "An ideal iteration pattern would avoid including both twins in [twin prime](https://en.wikipedia.org/wiki/Twin_prime) pairs (I have no specific preference about whether the chosen is the larger or the smaller).\n",
    "Re-evaluating data with both twins in a twin pair, where the windows are so similarly sized, seems like it would be for minimal gain.\n",
    "With the same principle of trying to avoid reprocessing data for minimal gain, an ideal iteration would steadily increase in distance between the current k-length and the next.\n",
    "I stumbled upon this pattern, which may be a useful way to limit the analysis space.\n",
    "\n",
    "```julia\n",
    "julia> step = 2\n",
    "2\n",
    "\n",
    "julia> current_prime = 11\n",
    "11\n",
    "\n",
    "julia> while Primes.isprime(current_prime)\n",
    "           current_prime = current_prime + step\n",
    "           step += 2\n",
    "           @show current_prime\n",
    "       end\n",
    "current_prime = 13\n",
    "current_prime = 17\n",
    "current_prime = 23\n",
    "current_prime = 31\n",
    "current_prime = 41\n",
    "current_prime = 53\n",
    "current_prime = 67\n",
    "current_prime = 83\n",
    "current_prime = 101\n",
    "current_prime = 121\n",
    "```"
   ]
  }
 ],
 "metadata": {
  "kernelspec": {
   "display_name": "Julia 1.6.3",
   "language": "julia",
   "name": "julia-1.6"
  },
  "language_info": {
   "file_extension": ".jl",
   "mimetype": "application/julia",
   "name": "julia",
   "version": "1.6.3"
  }
 },
 "nbformat": 4,
 "nbformat_minor": 4
}
